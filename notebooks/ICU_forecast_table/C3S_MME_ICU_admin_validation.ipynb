{
 "cells": [
  {
   "cell_type": "code",
   "execution_count": 1,
   "id": "044bf772-7b95-403a-9e51-f66ade5a62c9",
   "metadata": {
    "execution": {
     "iopub.execute_input": "2021-10-25T22:19:07.936952Z",
     "iopub.status.busy": "2021-10-25T22:19:07.936516Z",
     "iopub.status.idle": "2021-10-25T22:19:08.054902Z",
     "shell.execute_reply": "2021-10-25T22:19:08.053373Z"
    },
    "papermill": {
     "duration": 0.172351,
     "end_time": "2021-10-25T22:19:08.055358",
     "exception": false,
     "start_time": "2021-10-25T22:19:07.883007",
     "status": "completed"
    },
    "tags": []
   },
   "outputs": [
    {
     "name": "stdout",
     "output_type": "stream",
     "text": [
      "/home/nicolasf/operational/ICU/development/hotspots/code/ICU_Water_Watch/notebooks/ICU_forecast_table\r\n"
     ]
    }
   ],
   "source": [
    "!pwd"
   ]
  },
  {
   "cell_type": "code",
   "execution_count": 2,
   "id": "1f10d8b1-72af-47ce-bff6-7ffa1d889790",
   "metadata": {
    "execution": {
     "iopub.execute_input": "2021-10-25T22:19:08.117833Z",
     "iopub.status.busy": "2021-10-25T22:19:08.117392Z",
     "iopub.status.idle": "2021-10-25T22:19:09.339711Z",
     "shell.execute_reply": "2021-10-25T22:19:09.340016Z"
    },
    "papermill": {
     "duration": 1.243404,
     "end_time": "2021-10-25T22:19:09.340140",
     "exception": false,
     "start_time": "2021-10-25T22:19:08.096736",
     "status": "completed"
    },
    "tags": []
   },
   "outputs": [],
   "source": [
    "%matplotlib inline\n",
    "\n",
    "### os\n",
    "import os\n",
    "import sys\n",
    "\n",
    "### datetimes\n",
    "from datetime import datetime, timedelta\n",
    "\n",
    "### scipy\n",
    "import numpy as np\n",
    "import pandas as pd\n",
    "import xarray as xr\n",
    "import geopandas as gpd\n",
    "import cartopy.crs as ccrs\n",
    "import dask\n",
    "from dask.diagnostics import ProgressBar\n",
    "from tqdm import tqdm\n",
    "\n",
    "### plotting\n",
    "from matplotlib import pyplot as plt\n",
    "import matplotlib\n",
    "import seaborn as sns\n"
   ]
  },
  {
   "cell_type": "code",
   "execution_count": 3,
   "id": "ef465a90-c3d6-44a9-bcdc-213a3767be25",
   "metadata": {
    "execution": {
     "iopub.execute_input": "2021-10-25T22:19:09.374444Z",
     "iopub.status.busy": "2021-10-25T22:19:09.374089Z",
     "iopub.status.idle": "2021-10-25T22:19:09.375948Z",
     "shell.execute_reply": "2021-10-25T22:19:09.375606Z"
    },
    "papermill": {
     "duration": 0.017337,
     "end_time": "2021-10-25T22:19:09.376046",
     "exception": false,
     "start_time": "2021-10-25T22:19:09.358709",
     "status": "completed"
    },
    "tags": []
   },
   "outputs": [],
   "source": [
    "import pathlib\n",
    "\n",
    "HOME = pathlib.Path.home()\n",
    "CWD = pathlib.Path.cwd()\n"
   ]
  },
  {
   "cell_type": "code",
   "execution_count": 4,
   "id": "0163f667-a8c5-41ba-a388-68fa663c72e5",
   "metadata": {
    "execution": {
     "iopub.execute_input": "2021-10-25T22:19:09.403430Z",
     "iopub.status.busy": "2021-10-25T22:19:09.403072Z",
     "iopub.status.idle": "2021-10-25T22:19:09.404835Z",
     "shell.execute_reply": "2021-10-25T22:19:09.404487Z"
    },
    "papermill": {
     "duration": 0.015969,
     "end_time": "2021-10-25T22:19:09.404929",
     "exception": false,
     "start_time": "2021-10-25T22:19:09.388960",
     "status": "completed"
    },
    "tags": []
   },
   "outputs": [],
   "source": [
    "sys.path.append('../../') "
   ]
  },
  {
   "cell_type": "code",
   "execution_count": 5,
   "id": "5bfd7b1b-7eb8-4ff8-8248-784ab747002f",
   "metadata": {
    "execution": {
     "iopub.execute_input": "2021-10-25T22:19:09.432565Z",
     "iopub.status.busy": "2021-10-25T22:19:09.432223Z",
     "iopub.status.idle": "2021-10-25T22:19:09.602624Z",
     "shell.execute_reply": "2021-10-25T22:19:09.602315Z"
    },
    "papermill": {
     "duration": 0.185225,
     "end_time": "2021-10-25T22:19:09.602724",
     "exception": false,
     "start_time": "2021-10-25T22:19:09.417499",
     "status": "completed"
    },
    "tags": []
   },
   "outputs": [],
   "source": [
    "from ICU_Water_Watch import utils"
   ]
  },
  {
   "cell_type": "code",
   "execution_count": 6,
   "id": "ca012d92-878d-4c5b-a22a-8beb1733cd0e",
   "metadata": {
    "execution": {
     "iopub.execute_input": "2021-10-25T22:19:09.631821Z",
     "iopub.status.busy": "2021-10-25T22:19:09.631471Z",
     "iopub.status.idle": "2021-10-25T22:19:09.633169Z",
     "shell.execute_reply": "2021-10-25T22:19:09.632826Z"
    },
    "papermill": {
     "duration": 0.016933,
     "end_time": "2021-10-25T22:19:09.633304",
     "exception": false,
     "start_time": "2021-10-25T22:19:09.616371",
     "status": "completed"
    },
    "tags": []
   },
   "outputs": [],
   "source": [
    "def compare(df): \n",
    "    df = df.dropna()\n",
    "    acc = (df.forecast == df.obs).sum() / len(df)\n",
    "    return acc"
   ]
  },
  {
   "cell_type": "markdown",
   "id": "4e01d2d5-db45-4455-b912-83b534f8953e",
   "metadata": {
    "papermill": {
     "duration": 0.012061,
     "end_time": "2021-10-25T22:19:09.657578",
     "exception": false,
     "start_time": "2021-10-25T22:19:09.645517",
     "status": "completed"
    },
    "tags": []
   },
   "source": [
    "### Parameters "
   ]
  },
  {
   "cell_type": "code",
   "execution_count": 7,
   "id": "7b058af2-2c5d-44ea-9ad8-ec43153b036f",
   "metadata": {
    "execution": {
     "iopub.execute_input": "2021-10-25T22:19:09.684516Z",
     "iopub.status.busy": "2021-10-25T22:19:09.684119Z",
     "iopub.status.idle": "2021-10-25T22:19:09.685781Z",
     "shell.execute_reply": "2021-10-25T22:19:09.685464Z"
    },
    "papermill": {
     "duration": 0.016332,
     "end_time": "2021-10-25T22:19:09.685880",
     "exception": false,
     "start_time": "2021-10-25T22:19:09.669548",
     "status": "completed"
    },
    "tags": []
   },
   "outputs": [],
   "source": [
    "period = 'seasonal'"
   ]
  },
  {
   "cell_type": "code",
   "execution_count": 8,
   "id": "b751e80b-110e-48f1-96af-31cca4ad6267",
   "metadata": {
    "execution": {
     "iopub.execute_input": "2021-10-25T22:19:09.712205Z",
     "iopub.status.busy": "2021-10-25T22:19:09.711868Z",
     "iopub.status.idle": "2021-10-25T22:19:09.713416Z",
     "shell.execute_reply": "2021-10-25T22:19:09.713712Z"
    },
    "papermill": {
     "duration": 0.016126,
     "end_time": "2021-10-25T22:19:09.713875",
     "exception": false,
     "start_time": "2021-10-25T22:19:09.697749",
     "status": "completed"
    },
    "tags": []
   },
   "outputs": [],
   "source": [
    "dpath = CWD.parents[1].joinpath(\"outputs/ICU_validation/\")"
   ]
  },
  {
   "cell_type": "markdown",
   "id": "b068165e-bbc3-41a7-86b7-beaa5bda8551",
   "metadata": {
    "papermill": {
     "duration": 0.012359,
     "end_time": "2021-10-25T22:19:09.739296",
     "exception": false,
     "start_time": "2021-10-25T22:19:09.726937",
     "status": "completed"
    },
    "tags": []
   },
   "source": [
    "### figures "
   ]
  },
  {
   "cell_type": "code",
   "execution_count": 9,
   "id": "c5381fc0-4ea1-4744-b4de-7594cdb51409",
   "metadata": {
    "execution": {
     "iopub.execute_input": "2021-10-25T22:19:09.765843Z",
     "iopub.status.busy": "2021-10-25T22:19:09.765483Z",
     "iopub.status.idle": "2021-10-25T22:19:09.767303Z",
     "shell.execute_reply": "2021-10-25T22:19:09.766943Z"
    },
    "papermill": {
     "duration": 0.016258,
     "end_time": "2021-10-25T22:19:09.767404",
     "exception": false,
     "start_time": "2021-10-25T22:19:09.751146",
     "status": "completed"
    },
    "tags": []
   },
   "outputs": [],
   "source": [
    "fig_path = CWD.parents[1].joinpath(\"figures/ICU_validation/\")"
   ]
  },
  {
   "cell_type": "markdown",
   "id": "4730e384-05f4-4d8d-a6bd-6e6c0451ec94",
   "metadata": {
    "papermill": {
     "duration": 0.012107,
     "end_time": "2021-10-25T22:19:09.791185",
     "exception": false,
     "start_time": "2021-10-25T22:19:09.779078",
     "status": "completed"
    },
    "tags": []
   },
   "source": [
    "### outputs "
   ]
  },
  {
   "cell_type": "code",
   "execution_count": 10,
   "id": "2e20cd26-4e7c-4762-8931-2f81f8cf37c4",
   "metadata": {
    "execution": {
     "iopub.execute_input": "2021-10-25T22:19:09.818054Z",
     "iopub.status.busy": "2021-10-25T22:19:09.817697Z",
     "iopub.status.idle": "2021-10-25T22:19:09.819418Z",
     "shell.execute_reply": "2021-10-25T22:19:09.819124Z"
    },
    "papermill": {
     "duration": 0.016069,
     "end_time": "2021-10-25T22:19:09.819524",
     "exception": false,
     "start_time": "2021-10-25T22:19:09.803455",
     "status": "completed"
    },
    "tags": []
   },
   "outputs": [],
   "source": [
    "outputs_path = CWD.parents[1].joinpath(\"outputs/ICU_validation/admin\")"
   ]
  },
  {
   "cell_type": "markdown",
   "id": "b1d846bf-0d3f-4253-b782-ddab4a3c7ebd",
   "metadata": {
    "papermill": {
     "duration": 0.013091,
     "end_time": "2021-10-25T22:19:09.845527",
     "exception": false,
     "start_time": "2021-10-25T22:19:09.832436",
     "status": "completed"
    },
    "tags": []
   },
   "source": [
    "### read the file with the countries and the admin boundaries "
   ]
  },
  {
   "cell_type": "code",
   "execution_count": 11,
   "id": "1101b75a-9e30-4889-bcf2-bcf3a8281d56",
   "metadata": {
    "execution": {
     "iopub.execute_input": "2021-10-25T22:19:09.871856Z",
     "iopub.status.busy": "2021-10-25T22:19:09.871531Z",
     "iopub.status.idle": "2021-10-25T22:19:09.873404Z",
     "shell.execute_reply": "2021-10-25T22:19:09.873092Z"
    },
    "papermill": {
     "duration": 0.016293,
     "end_time": "2021-10-25T22:19:09.873497",
     "exception": false,
     "start_time": "2021-10-25T22:19:09.857204",
     "status": "completed"
    },
    "tags": []
   },
   "outputs": [],
   "source": [
    "coastlines_dpath = pathlib.Path('/home/nicolasf/operational/ICU/development/hotspots/data/shapefiles/Admin_boundaries/Coastlines')"
   ]
  },
  {
   "cell_type": "code",
   "execution_count": 12,
   "id": "d00586db-e6f4-4463-9e97-ed1a361f87dc",
   "metadata": {
    "execution": {
     "iopub.execute_input": "2021-10-25T22:19:09.906111Z",
     "iopub.status.busy": "2021-10-25T22:19:09.904566Z",
     "iopub.status.idle": "2021-10-25T22:19:09.993492Z",
     "shell.execute_reply": "2021-10-25T22:19:09.993132Z"
    },
    "papermill": {
     "duration": 0.108543,
     "end_time": "2021-10-25T22:19:09.993592",
     "exception": false,
     "start_time": "2021-10-25T22:19:09.885049",
     "status": "completed"
    },
    "tags": []
   },
   "outputs": [],
   "source": [
    "shapefile = gpd.read_file(coastlines_dpath.joinpath('ICU_admin_geometries0_360.shp'))"
   ]
  },
  {
   "cell_type": "code",
   "execution_count": 13,
   "id": "270e248a-5e00-4905-9c14-53874fbe4420",
   "metadata": {
    "execution": {
     "iopub.execute_input": "2021-10-25T22:19:10.027169Z",
     "iopub.status.busy": "2021-10-25T22:19:10.026752Z",
     "iopub.status.idle": "2021-10-25T22:19:10.029389Z",
     "shell.execute_reply": "2021-10-25T22:19:10.029872Z"
    },
    "papermill": {
     "duration": 0.022512,
     "end_time": "2021-10-25T22:19:10.030067",
     "exception": false,
     "start_time": "2021-10-25T22:19:10.007555",
     "status": "completed"
    },
    "tags": []
   },
   "outputs": [
    {
     "data": {
      "text/plain": [
       "<Geographic 2D CRS: EPSG:4326>\n",
       "Name: WGS 84\n",
       "Axis Info [ellipsoidal]:\n",
       "- Lat[north]: Geodetic latitude (degree)\n",
       "- Lon[east]: Geodetic longitude (degree)\n",
       "Area of Use:\n",
       "- name: World.\n",
       "- bounds: (-180.0, -90.0, 180.0, 90.0)\n",
       "Datum: World Geodetic System 1984\n",
       "- Ellipsoid: WGS 84\n",
       "- Prime Meridian: Greenwich"
      ]
     },
     "execution_count": 13,
     "metadata": {},
     "output_type": "execute_result"
    }
   ],
   "source": [
    "shapefile.crs"
   ]
  },
  {
   "cell_type": "code",
   "execution_count": 14,
   "id": "85bb5fc5-8732-44b8-b139-16dba9a41ba9",
   "metadata": {
    "execution": {
     "iopub.execute_input": "2021-10-25T22:19:10.061457Z",
     "iopub.status.busy": "2021-10-25T22:19:10.061122Z",
     "iopub.status.idle": "2021-10-25T22:19:10.062879Z",
     "shell.execute_reply": "2021-10-25T22:19:10.063137Z"
    },
    "papermill": {
     "duration": 0.017538,
     "end_time": "2021-10-25T22:19:10.063264",
     "exception": false,
     "start_time": "2021-10-25T22:19:10.045726",
     "status": "completed"
    },
    "tags": []
   },
   "outputs": [
    {
     "data": {
      "text/plain": [
       "Index(['id', 'Country', 'Admin_boun', 'geometry'], dtype='object')"
      ]
     },
     "execution_count": 14,
     "metadata": {},
     "output_type": "execute_result"
    }
   ],
   "source": [
    "shapefile.columns"
   ]
  },
  {
   "cell_type": "code",
   "execution_count": 15,
   "id": "6e0ea666-3939-4d7d-950d-f0ae1e4a75f5",
   "metadata": {
    "execution": {
     "iopub.execute_input": "2021-10-25T22:19:10.091760Z",
     "iopub.status.busy": "2021-10-25T22:19:10.091423Z",
     "iopub.status.idle": "2021-10-25T22:19:10.093089Z",
     "shell.execute_reply": "2021-10-25T22:19:10.092798Z"
    },
    "papermill": {
     "duration": 0.016651,
     "end_time": "2021-10-25T22:19:10.093185",
     "exception": false,
     "start_time": "2021-10-25T22:19:10.076534",
     "status": "completed"
    },
    "tags": []
   },
   "outputs": [],
   "source": [
    "country_col = 'Country'\n",
    "admin_col = 'Admin_boun'"
   ]
  },
  {
   "cell_type": "code",
   "execution_count": 16,
   "id": "6f01bd76-2708-4ea9-b000-88ff1db55c72",
   "metadata": {
    "execution": {
     "iopub.execute_input": "2021-10-25T22:19:10.121202Z",
     "iopub.status.busy": "2021-10-25T22:19:10.120845Z",
     "iopub.status.idle": "2021-10-25T22:19:10.122276Z",
     "shell.execute_reply": "2021-10-25T22:19:10.122534Z"
    },
    "papermill": {
     "duration": 0.017377,
     "end_time": "2021-10-25T22:19:10.122656",
     "exception": false,
     "start_time": "2021-10-25T22:19:10.105279",
     "status": "completed"
    },
    "tags": []
   },
   "outputs": [],
   "source": [
    "shapefile.loc[:,f\"{admin_col}\"] = shapefile.loc[:,f\"{admin_col}\"].str.replace(\"'\",\"\")"
   ]
  },
  {
   "cell_type": "code",
   "execution_count": 17,
   "id": "9b8c8848-72ed-47df-bd73-e8d628eef485",
   "metadata": {
    "execution": {
     "iopub.execute_input": "2021-10-25T22:19:10.151189Z",
     "iopub.status.busy": "2021-10-25T22:19:10.150851Z",
     "iopub.status.idle": "2021-10-25T22:19:10.152508Z",
     "shell.execute_reply": "2021-10-25T22:19:10.152176Z"
    },
    "papermill": {
     "duration": 0.016718,
     "end_time": "2021-10-25T22:19:10.152604",
     "exception": false,
     "start_time": "2021-10-25T22:19:10.135886",
     "status": "completed"
    },
    "tags": []
   },
   "outputs": [],
   "source": [
    "countries = shapefile.loc[:,'Country'].unique()"
   ]
  },
  {
   "cell_type": "markdown",
   "id": "04fdbda1-bf68-46bc-a928-4867d02e924e",
   "metadata": {
    "papermill": {
     "duration": 0.011783,
     "end_time": "2021-10-25T22:19:10.176598",
     "exception": false,
     "start_time": "2021-10-25T22:19:10.164815",
     "status": "completed"
    },
    "tags": []
   },
   "source": [
    "### Parameters for PAPERMILL"
   ]
  },
  {
   "cell_type": "code",
   "execution_count": 18,
   "id": "3057593b-ea25-41d3-ace4-e8390da9d077",
   "metadata": {
    "execution": {
     "iopub.execute_input": "2021-10-25T22:19:10.202713Z",
     "iopub.status.busy": "2021-10-25T22:19:10.202345Z",
     "iopub.status.idle": "2021-10-25T22:19:10.203819Z",
     "shell.execute_reply": "2021-10-25T22:19:10.204072Z"
    },
    "papermill": {
     "duration": 0.015738,
     "end_time": "2021-10-25T22:19:10.204185",
     "exception": false,
     "start_time": "2021-10-25T22:19:10.188447",
     "status": "completed"
    },
    "tags": [
     "parameters"
    ]
   },
   "outputs": [],
   "source": [
    "country = 'New Caledonia'\n",
    "admin = 'North Province'"
   ]
  },
  {
   "cell_type": "code",
   "execution_count": 19,
   "id": "40461cd9",
   "metadata": {
    "execution": {
     "iopub.execute_input": "2021-10-25T22:19:10.232161Z",
     "iopub.status.busy": "2021-10-25T22:19:10.231774Z",
     "iopub.status.idle": "2021-10-25T22:19:10.233482Z",
     "shell.execute_reply": "2021-10-25T22:19:10.233203Z"
    },
    "papermill": {
     "duration": 0.016994,
     "end_time": "2021-10-25T22:19:10.233583",
     "exception": false,
     "start_time": "2021-10-25T22:19:10.216589",
     "status": "completed"
    },
    "tags": [
     "injected-parameters"
    ]
   },
   "outputs": [],
   "source": [
    "# Parameters\n",
    "country = \"Marshall Islands\"\n",
    "admin = \"Northern Marshall Islands\"\n"
   ]
  },
  {
   "cell_type": "code",
   "execution_count": 20,
   "id": "10b6e2b1-c5c3-4f51-98a2-e34c35b3ca97",
   "metadata": {
    "execution": {
     "iopub.execute_input": "2021-10-25T22:19:10.261740Z",
     "iopub.status.busy": "2021-10-25T22:19:10.261370Z",
     "iopub.status.idle": "2021-10-25T22:19:10.268330Z",
     "shell.execute_reply": "2021-10-25T22:19:10.267145Z"
    },
    "papermill": {
     "duration": 0.022133,
     "end_time": "2021-10-25T22:19:10.268629",
     "exception": false,
     "start_time": "2021-10-25T22:19:10.246496",
     "status": "completed"
    },
    "tags": []
   },
   "outputs": [],
   "source": [
    "lfiles = list(outputs_path.glob(f\"{utils.sanitize_name(country)}_{utils.sanitize_name(admin)}_seasonal_*_tercile_probs_and_obs.csv\"))"
   ]
  },
  {
   "cell_type": "code",
   "execution_count": 21,
   "id": "775eada2-aeee-4616-bdff-2519c59c7793",
   "metadata": {
    "execution": {
     "iopub.execute_input": "2021-10-25T22:19:10.308224Z",
     "iopub.status.busy": "2021-10-25T22:19:10.307765Z",
     "iopub.status.idle": "2021-10-25T22:19:10.383793Z",
     "shell.execute_reply": "2021-10-25T22:19:10.383494Z"
    },
    "papermill": {
     "duration": 0.093682,
     "end_time": "2021-10-25T22:19:10.383894",
     "exception": false,
     "start_time": "2021-10-25T22:19:10.290212",
     "status": "completed"
    },
    "tags": []
   },
   "outputs": [],
   "source": [
    "MME = []\n",
    "\n",
    "for fname in lfiles: \n",
    "    \n",
    "    if \"METEO_FRANCE\" in str(fname): \n",
    "        \n",
    "        GCM = 'METEO_FRANCE'\n",
    "        \n",
    "    else: \n",
    "        \n",
    "        GCM = str(fname).split('_')[-5]\n",
    "    \n",
    "    data = pd.read_csv(fname, index_col=0, parse_dates=True)\n",
    "    \n",
    "    obs = data.iloc[:, -1]\n",
    "    \n",
    "    data = data.iloc[:,:-1]\n",
    "        \n",
    "    cols = [eval(x) for x in data.columns]\n",
    "    data.columns = pd.MultiIndex.from_tuples(cols)\n",
    "    data = data.to_xarray()\n",
    "    data = data.expand_dims({'GCM':[GCM]})\n",
    "    \n",
    "    MME.append(data)"
   ]
  },
  {
   "cell_type": "code",
   "execution_count": 22,
   "id": "9f0a6ccd-af15-4bfd-9afa-7af795f25bd2",
   "metadata": {
    "execution": {
     "iopub.execute_input": "2021-10-25T22:19:10.413231Z",
     "iopub.status.busy": "2021-10-25T22:19:10.412886Z",
     "iopub.status.idle": "2021-10-25T22:19:10.424499Z",
     "shell.execute_reply": "2021-10-25T22:19:10.424795Z"
    },
    "papermill": {
     "duration": 0.028636,
     "end_time": "2021-10-25T22:19:10.424922",
     "exception": false,
     "start_time": "2021-10-25T22:19:10.396286",
     "status": "completed"
    },
    "tags": []
   },
   "outputs": [],
   "source": [
    "MME = xr.concat(MME, dim='GCM')"
   ]
  },
  {
   "cell_type": "code",
   "execution_count": 23,
   "id": "1fdbbb75-8f79-480a-b018-b415a58e9363",
   "metadata": {
    "execution": {
     "iopub.execute_input": "2021-10-25T22:19:10.460622Z",
     "iopub.status.busy": "2021-10-25T22:19:10.460041Z",
     "iopub.status.idle": "2021-10-25T22:19:10.475114Z",
     "shell.execute_reply": "2021-10-25T22:19:10.474805Z"
    },
    "papermill": {
     "duration": 0.036521,
     "end_time": "2021-10-25T22:19:10.475214",
     "exception": false,
     "start_time": "2021-10-25T22:19:10.438693",
     "status": "completed"
    },
    "tags": []
   },
   "outputs": [
    {
     "data": {
      "text/html": [
       "<div><svg style=\"position: absolute; width: 0; height: 0; overflow: hidden\">\n",
       "<defs>\n",
       "<symbol id=\"icon-database\" viewBox=\"0 0 32 32\">\n",
       "<path d=\"M16 0c-8.837 0-16 2.239-16 5v4c0 2.761 7.163 5 16 5s16-2.239 16-5v-4c0-2.761-7.163-5-16-5z\"></path>\n",
       "<path d=\"M16 17c-8.837 0-16-2.239-16-5v6c0 2.761 7.163 5 16 5s16-2.239 16-5v-6c0 2.761-7.163 5-16 5z\"></path>\n",
       "<path d=\"M16 26c-8.837 0-16-2.239-16-5v6c0 2.761 7.163 5 16 5s16-2.239 16-5v-6c0 2.761-7.163 5-16 5z\"></path>\n",
       "</symbol>\n",
       "<symbol id=\"icon-file-text2\" viewBox=\"0 0 32 32\">\n",
       "<path d=\"M28.681 7.159c-0.694-0.947-1.662-2.053-2.724-3.116s-2.169-2.030-3.116-2.724c-1.612-1.182-2.393-1.319-2.841-1.319h-15.5c-1.378 0-2.5 1.121-2.5 2.5v27c0 1.378 1.122 2.5 2.5 2.5h23c1.378 0 2.5-1.122 2.5-2.5v-19.5c0-0.448-0.137-1.23-1.319-2.841zM24.543 5.457c0.959 0.959 1.712 1.825 2.268 2.543h-4.811v-4.811c0.718 0.556 1.584 1.309 2.543 2.268zM28 29.5c0 0.271-0.229 0.5-0.5 0.5h-23c-0.271 0-0.5-0.229-0.5-0.5v-27c0-0.271 0.229-0.5 0.5-0.5 0 0 15.499-0 15.5 0v7c0 0.552 0.448 1 1 1h7v19.5z\"></path>\n",
       "<path d=\"M23 26h-14c-0.552 0-1-0.448-1-1s0.448-1 1-1h14c0.552 0 1 0.448 1 1s-0.448 1-1 1z\"></path>\n",
       "<path d=\"M23 22h-14c-0.552 0-1-0.448-1-1s0.448-1 1-1h14c0.552 0 1 0.448 1 1s-0.448 1-1 1z\"></path>\n",
       "<path d=\"M23 18h-14c-0.552 0-1-0.448-1-1s0.448-1 1-1h14c0.552 0 1 0.448 1 1s-0.448 1-1 1z\"></path>\n",
       "</symbol>\n",
       "</defs>\n",
       "</svg>\n",
       "<style>/* CSS stylesheet for displaying xarray objects in jupyterlab.\n",
       " *\n",
       " */\n",
       "\n",
       ":root {\n",
       "  --xr-font-color0: var(--jp-content-font-color0, rgba(0, 0, 0, 1));\n",
       "  --xr-font-color2: var(--jp-content-font-color2, rgba(0, 0, 0, 0.54));\n",
       "  --xr-font-color3: var(--jp-content-font-color3, rgba(0, 0, 0, 0.38));\n",
       "  --xr-border-color: var(--jp-border-color2, #e0e0e0);\n",
       "  --xr-disabled-color: var(--jp-layout-color3, #bdbdbd);\n",
       "  --xr-background-color: var(--jp-layout-color0, white);\n",
       "  --xr-background-color-row-even: var(--jp-layout-color1, white);\n",
       "  --xr-background-color-row-odd: var(--jp-layout-color2, #eeeeee);\n",
       "}\n",
       "\n",
       "html[theme=dark],\n",
       "body.vscode-dark {\n",
       "  --xr-font-color0: rgba(255, 255, 255, 1);\n",
       "  --xr-font-color2: rgba(255, 255, 255, 0.54);\n",
       "  --xr-font-color3: rgba(255, 255, 255, 0.38);\n",
       "  --xr-border-color: #1F1F1F;\n",
       "  --xr-disabled-color: #515151;\n",
       "  --xr-background-color: #111111;\n",
       "  --xr-background-color-row-even: #111111;\n",
       "  --xr-background-color-row-odd: #313131;\n",
       "}\n",
       "\n",
       ".xr-wrap {\n",
       "  display: block;\n",
       "  min-width: 300px;\n",
       "  max-width: 700px;\n",
       "}\n",
       "\n",
       ".xr-text-repr-fallback {\n",
       "  /* fallback to plain text repr when CSS is not injected (untrusted notebook) */\n",
       "  display: none;\n",
       "}\n",
       "\n",
       ".xr-header {\n",
       "  padding-top: 6px;\n",
       "  padding-bottom: 6px;\n",
       "  margin-bottom: 4px;\n",
       "  border-bottom: solid 1px var(--xr-border-color);\n",
       "}\n",
       "\n",
       ".xr-header > div,\n",
       ".xr-header > ul {\n",
       "  display: inline;\n",
       "  margin-top: 0;\n",
       "  margin-bottom: 0;\n",
       "}\n",
       "\n",
       ".xr-obj-type,\n",
       ".xr-array-name {\n",
       "  margin-left: 2px;\n",
       "  margin-right: 10px;\n",
       "}\n",
       "\n",
       ".xr-obj-type {\n",
       "  color: var(--xr-font-color2);\n",
       "}\n",
       "\n",
       ".xr-sections {\n",
       "  padding-left: 0 !important;\n",
       "  display: grid;\n",
       "  grid-template-columns: 150px auto auto 1fr 20px 20px;\n",
       "}\n",
       "\n",
       ".xr-section-item {\n",
       "  display: contents;\n",
       "}\n",
       "\n",
       ".xr-section-item input {\n",
       "  display: none;\n",
       "}\n",
       "\n",
       ".xr-section-item input + label {\n",
       "  color: var(--xr-disabled-color);\n",
       "}\n",
       "\n",
       ".xr-section-item input:enabled + label {\n",
       "  cursor: pointer;\n",
       "  color: var(--xr-font-color2);\n",
       "}\n",
       "\n",
       ".xr-section-item input:enabled + label:hover {\n",
       "  color: var(--xr-font-color0);\n",
       "}\n",
       "\n",
       ".xr-section-summary {\n",
       "  grid-column: 1;\n",
       "  color: var(--xr-font-color2);\n",
       "  font-weight: 500;\n",
       "}\n",
       "\n",
       ".xr-section-summary > span {\n",
       "  display: inline-block;\n",
       "  padding-left: 0.5em;\n",
       "}\n",
       "\n",
       ".xr-section-summary-in:disabled + label {\n",
       "  color: var(--xr-font-color2);\n",
       "}\n",
       "\n",
       ".xr-section-summary-in + label:before {\n",
       "  display: inline-block;\n",
       "  content: '►';\n",
       "  font-size: 11px;\n",
       "  width: 15px;\n",
       "  text-align: center;\n",
       "}\n",
       "\n",
       ".xr-section-summary-in:disabled + label:before {\n",
       "  color: var(--xr-disabled-color);\n",
       "}\n",
       "\n",
       ".xr-section-summary-in:checked + label:before {\n",
       "  content: '▼';\n",
       "}\n",
       "\n",
       ".xr-section-summary-in:checked + label > span {\n",
       "  display: none;\n",
       "}\n",
       "\n",
       ".xr-section-summary,\n",
       ".xr-section-inline-details {\n",
       "  padding-top: 4px;\n",
       "  padding-bottom: 4px;\n",
       "}\n",
       "\n",
       ".xr-section-inline-details {\n",
       "  grid-column: 2 / -1;\n",
       "}\n",
       "\n",
       ".xr-section-details {\n",
       "  display: none;\n",
       "  grid-column: 1 / -1;\n",
       "  margin-bottom: 5px;\n",
       "}\n",
       "\n",
       ".xr-section-summary-in:checked ~ .xr-section-details {\n",
       "  display: contents;\n",
       "}\n",
       "\n",
       ".xr-array-wrap {\n",
       "  grid-column: 1 / -1;\n",
       "  display: grid;\n",
       "  grid-template-columns: 20px auto;\n",
       "}\n",
       "\n",
       ".xr-array-wrap > label {\n",
       "  grid-column: 1;\n",
       "  vertical-align: top;\n",
       "}\n",
       "\n",
       ".xr-preview {\n",
       "  color: var(--xr-font-color3);\n",
       "}\n",
       "\n",
       ".xr-array-preview,\n",
       ".xr-array-data {\n",
       "  padding: 0 5px !important;\n",
       "  grid-column: 2;\n",
       "}\n",
       "\n",
       ".xr-array-data,\n",
       ".xr-array-in:checked ~ .xr-array-preview {\n",
       "  display: none;\n",
       "}\n",
       "\n",
       ".xr-array-in:checked ~ .xr-array-data,\n",
       ".xr-array-preview {\n",
       "  display: inline-block;\n",
       "}\n",
       "\n",
       ".xr-dim-list {\n",
       "  display: inline-block !important;\n",
       "  list-style: none;\n",
       "  padding: 0 !important;\n",
       "  margin: 0;\n",
       "}\n",
       "\n",
       ".xr-dim-list li {\n",
       "  display: inline-block;\n",
       "  padding: 0;\n",
       "  margin: 0;\n",
       "}\n",
       "\n",
       ".xr-dim-list:before {\n",
       "  content: '(';\n",
       "}\n",
       "\n",
       ".xr-dim-list:after {\n",
       "  content: ')';\n",
       "}\n",
       "\n",
       ".xr-dim-list li:not(:last-child):after {\n",
       "  content: ',';\n",
       "  padding-right: 5px;\n",
       "}\n",
       "\n",
       ".xr-has-index {\n",
       "  font-weight: bold;\n",
       "}\n",
       "\n",
       ".xr-var-list,\n",
       ".xr-var-item {\n",
       "  display: contents;\n",
       "}\n",
       "\n",
       ".xr-var-item > div,\n",
       ".xr-var-item label,\n",
       ".xr-var-item > .xr-var-name span {\n",
       "  background-color: var(--xr-background-color-row-even);\n",
       "  margin-bottom: 0;\n",
       "}\n",
       "\n",
       ".xr-var-item > .xr-var-name:hover span {\n",
       "  padding-right: 5px;\n",
       "}\n",
       "\n",
       ".xr-var-list > li:nth-child(odd) > div,\n",
       ".xr-var-list > li:nth-child(odd) > label,\n",
       ".xr-var-list > li:nth-child(odd) > .xr-var-name span {\n",
       "  background-color: var(--xr-background-color-row-odd);\n",
       "}\n",
       "\n",
       ".xr-var-name {\n",
       "  grid-column: 1;\n",
       "}\n",
       "\n",
       ".xr-var-dims {\n",
       "  grid-column: 2;\n",
       "}\n",
       "\n",
       ".xr-var-dtype {\n",
       "  grid-column: 3;\n",
       "  text-align: right;\n",
       "  color: var(--xr-font-color2);\n",
       "}\n",
       "\n",
       ".xr-var-preview {\n",
       "  grid-column: 4;\n",
       "}\n",
       "\n",
       ".xr-var-name,\n",
       ".xr-var-dims,\n",
       ".xr-var-dtype,\n",
       ".xr-preview,\n",
       ".xr-attrs dt {\n",
       "  white-space: nowrap;\n",
       "  overflow: hidden;\n",
       "  text-overflow: ellipsis;\n",
       "  padding-right: 10px;\n",
       "}\n",
       "\n",
       ".xr-var-name:hover,\n",
       ".xr-var-dims:hover,\n",
       ".xr-var-dtype:hover,\n",
       ".xr-attrs dt:hover {\n",
       "  overflow: visible;\n",
       "  width: auto;\n",
       "  z-index: 1;\n",
       "}\n",
       "\n",
       ".xr-var-attrs,\n",
       ".xr-var-data {\n",
       "  display: none;\n",
       "  background-color: var(--xr-background-color) !important;\n",
       "  padding-bottom: 5px !important;\n",
       "}\n",
       "\n",
       ".xr-var-attrs-in:checked ~ .xr-var-attrs,\n",
       ".xr-var-data-in:checked ~ .xr-var-data {\n",
       "  display: block;\n",
       "}\n",
       "\n",
       ".xr-var-data > table {\n",
       "  float: right;\n",
       "}\n",
       "\n",
       ".xr-var-name span,\n",
       ".xr-var-data,\n",
       ".xr-attrs {\n",
       "  padding-left: 25px !important;\n",
       "}\n",
       "\n",
       ".xr-attrs,\n",
       ".xr-var-attrs,\n",
       ".xr-var-data {\n",
       "  grid-column: 1 / -1;\n",
       "}\n",
       "\n",
       "dl.xr-attrs {\n",
       "  padding: 0;\n",
       "  margin: 0;\n",
       "  display: grid;\n",
       "  grid-template-columns: 125px auto;\n",
       "}\n",
       "\n",
       ".xr-attrs dt,\n",
       ".xr-attrs dd {\n",
       "  padding: 0;\n",
       "  margin: 0;\n",
       "  float: left;\n",
       "  padding-right: 10px;\n",
       "  width: auto;\n",
       "}\n",
       "\n",
       ".xr-attrs dt {\n",
       "  font-weight: normal;\n",
       "  grid-column: 1;\n",
       "}\n",
       "\n",
       ".xr-attrs dt:hover span {\n",
       "  display: inline-block;\n",
       "  background: var(--xr-background-color);\n",
       "  padding-right: 10px;\n",
       "}\n",
       "\n",
       ".xr-attrs dd {\n",
       "  grid-column: 2;\n",
       "  white-space: pre-wrap;\n",
       "  word-break: break-all;\n",
       "}\n",
       "\n",
       ".xr-icon-database,\n",
       ".xr-icon-file-text2 {\n",
       "  display: inline-block;\n",
       "  vertical-align: middle;\n",
       "  width: 1em;\n",
       "  height: 1.5em !important;\n",
       "  stroke-width: 0;\n",
       "  stroke: currentColor;\n",
       "  fill: currentColor;\n",
       "}\n",
       "</style><pre class='xr-text-repr-fallback'>&lt;xarray.Dataset&gt;\n",
       "Dimensions:  (time: 286, GCM: 8)\n",
       "Coordinates:\n",
       "  * time     (time) datetime64[ns] 1993-03-01 1993-04-01 ... 2016-12-01\n",
       "  * GCM      (GCM) &lt;U12 &#x27;JMA&#x27; &#x27;UKMO&#x27; &#x27;NCEP&#x27; &#x27;DWD&#x27; ... &#x27;ECCC&#x27; &#x27;CMCC&#x27; &#x27;ECMWF&#x27;\n",
       "Data variables:\n",
       "    (3, 1)   (GCM, time) float64 10.0 50.0 80.0 80.0 50.0 ... 8.0 8.0 28.0 28.0\n",
       "    (3, 2)   (GCM, time) float64 60.0 30.0 20.0 20.0 ... 16.0 36.0 44.0 32.0\n",
       "    (3, 3)   (GCM, time) float64 30.0 20.0 0.0 0.0 10.0 ... 76.0 56.0 28.0 40.0\n",
       "    (4, 1)   (GCM, time) float64 10.0 50.0 100.0 50.0 20.0 ... 4.0 16.0 20.0 8.0\n",
       "    (4, 2)   (GCM, time) float64 40.0 30.0 0.0 50.0 50.0 ... 24.0 28.0 48.0 64.0\n",
       "    (4, 3)   (GCM, time) float64 50.0 20.0 0.0 0.0 30.0 ... 72.0 56.0 32.0 28.0\n",
       "    (5, 1)   (GCM, time) float64 10.0 40.0 50.0 10.0 0.0 ... 0.0 24.0 16.0 16.0\n",
       "    (5, 2)   (GCM, time) float64 20.0 40.0 30.0 50.0 ... 36.0 16.0 44.0 40.0\n",
       "    (5, 3)   (GCM, time) float64 70.0 20.0 20.0 40.0 ... 64.0 60.0 40.0 44.0</pre><div class='xr-wrap' hidden><div class='xr-header'><div class='xr-obj-type'>xarray.Dataset</div></div><ul class='xr-sections'><li class='xr-section-item'><input id='section-de80083d-6780-4166-84f7-f93ae8620b15' class='xr-section-summary-in' type='checkbox' disabled ><label for='section-de80083d-6780-4166-84f7-f93ae8620b15' class='xr-section-summary'  title='Expand/collapse section'>Dimensions:</label><div class='xr-section-inline-details'><ul class='xr-dim-list'><li><span class='xr-has-index'>time</span>: 286</li><li><span class='xr-has-index'>GCM</span>: 8</li></ul></div><div class='xr-section-details'></div></li><li class='xr-section-item'><input id='section-b8f6933e-261e-4df1-b512-ec7627b027e5' class='xr-section-summary-in' type='checkbox'  checked><label for='section-b8f6933e-261e-4df1-b512-ec7627b027e5' class='xr-section-summary' >Coordinates: <span>(2)</span></label><div class='xr-section-inline-details'></div><div class='xr-section-details'><ul class='xr-var-list'><li class='xr-var-item'><div class='xr-var-name'><span class='xr-has-index'>time</span></div><div class='xr-var-dims'>(time)</div><div class='xr-var-dtype'>datetime64[ns]</div><div class='xr-var-preview xr-preview'>1993-03-01 ... 2016-12-01</div><input id='attrs-19a757d7-02a7-4fd9-ac78-d043416508ea' class='xr-var-attrs-in' type='checkbox' disabled><label for='attrs-19a757d7-02a7-4fd9-ac78-d043416508ea' title='Show/Hide attributes'><svg class='icon xr-icon-file-text2'><use xlink:href='#icon-file-text2'></use></svg></label><input id='data-b8d7ac07-ddb2-4922-b824-10d707a5cff0' class='xr-var-data-in' type='checkbox'><label for='data-b8d7ac07-ddb2-4922-b824-10d707a5cff0' title='Show/Hide data repr'><svg class='icon xr-icon-database'><use xlink:href='#icon-database'></use></svg></label><div class='xr-var-attrs'><dl class='xr-attrs'></dl></div><div class='xr-var-data'><pre>array([&#x27;1993-03-01T00:00:00.000000000&#x27;, &#x27;1993-04-01T00:00:00.000000000&#x27;,\n",
       "       &#x27;1993-05-01T00:00:00.000000000&#x27;, ..., &#x27;2016-10-01T00:00:00.000000000&#x27;,\n",
       "       &#x27;2016-11-01T00:00:00.000000000&#x27;, &#x27;2016-12-01T00:00:00.000000000&#x27;],\n",
       "      dtype=&#x27;datetime64[ns]&#x27;)</pre></div></li><li class='xr-var-item'><div class='xr-var-name'><span class='xr-has-index'>GCM</span></div><div class='xr-var-dims'>(GCM)</div><div class='xr-var-dtype'>&lt;U12</div><div class='xr-var-preview xr-preview'>&#x27;JMA&#x27; &#x27;UKMO&#x27; ... &#x27;CMCC&#x27; &#x27;ECMWF&#x27;</div><input id='attrs-540f16d0-5b56-417f-b0e7-9f65c86ee245' class='xr-var-attrs-in' type='checkbox' disabled><label for='attrs-540f16d0-5b56-417f-b0e7-9f65c86ee245' title='Show/Hide attributes'><svg class='icon xr-icon-file-text2'><use xlink:href='#icon-file-text2'></use></svg></label><input id='data-09eee316-e4ee-49f8-a85c-f1c97b1178ed' class='xr-var-data-in' type='checkbox'><label for='data-09eee316-e4ee-49f8-a85c-f1c97b1178ed' title='Show/Hide data repr'><svg class='icon xr-icon-database'><use xlink:href='#icon-database'></use></svg></label><div class='xr-var-attrs'><dl class='xr-attrs'></dl></div><div class='xr-var-data'><pre>array([&#x27;JMA&#x27;, &#x27;UKMO&#x27;, &#x27;NCEP&#x27;, &#x27;DWD&#x27;, &#x27;METEO_FRANCE&#x27;, &#x27;ECCC&#x27;, &#x27;CMCC&#x27;, &#x27;ECMWF&#x27;],\n",
       "      dtype=&#x27;&lt;U12&#x27;)</pre></div></li></ul></div></li><li class='xr-section-item'><input id='section-97d34f0b-f20e-4a1b-a143-372f237ffe99' class='xr-section-summary-in' type='checkbox'  checked><label for='section-97d34f0b-f20e-4a1b-a143-372f237ffe99' class='xr-section-summary' >Data variables: <span>(9)</span></label><div class='xr-section-inline-details'></div><div class='xr-section-details'><ul class='xr-var-list'><li class='xr-var-item'><div class='xr-var-name'><span>(3, 1)</span></div><div class='xr-var-dims'>(GCM, time)</div><div class='xr-var-dtype'>float64</div><div class='xr-var-preview xr-preview'>10.0 50.0 80.0 ... 8.0 28.0 28.0</div><input id='attrs-671958b9-9368-4095-a4c8-534be63a067b' class='xr-var-attrs-in' type='checkbox' disabled><label for='attrs-671958b9-9368-4095-a4c8-534be63a067b' title='Show/Hide attributes'><svg class='icon xr-icon-file-text2'><use xlink:href='#icon-file-text2'></use></svg></label><input id='data-cb7fb4c2-111b-4dc3-960f-6d7389cf130c' class='xr-var-data-in' type='checkbox'><label for='data-cb7fb4c2-111b-4dc3-960f-6d7389cf130c' title='Show/Hide data repr'><svg class='icon xr-icon-database'><use xlink:href='#icon-database'></use></svg></label><div class='xr-var-attrs'><dl class='xr-attrs'></dl></div><div class='xr-var-data'><pre>array([[10.        , 50.        , 80.        , ...,  0.        ,\n",
       "        20.        , 10.        ],\n",
       "       [42.85714286, 82.14285714, 39.28571429, ...,  7.14285714,\n",
       "        14.28571429, 25.        ],\n",
       "       [39.28571429, 78.57142857, 67.85714286, ...,  7.14285714,\n",
       "        14.28571429, 14.28571429],\n",
       "       ...,\n",
       "       [        nan,         nan, 80.        , ...,  0.        ,\n",
       "                nan,         nan],\n",
       "       [32.5       , 27.5       , 22.5       , ...,  2.5       ,\n",
       "        12.5       , 17.5       ],\n",
       "       [24.        , 84.        , 96.        , ...,  8.        ,\n",
       "        28.        , 28.        ]])</pre></div></li><li class='xr-var-item'><div class='xr-var-name'><span>(3, 2)</span></div><div class='xr-var-dims'>(GCM, time)</div><div class='xr-var-dtype'>float64</div><div class='xr-var-preview xr-preview'>60.0 30.0 20.0 ... 36.0 44.0 32.0</div><input id='attrs-1aab0141-7b7b-44cd-a2a8-5ca7359825ac' class='xr-var-attrs-in' type='checkbox' disabled><label for='attrs-1aab0141-7b7b-44cd-a2a8-5ca7359825ac' title='Show/Hide attributes'><svg class='icon xr-icon-file-text2'><use xlink:href='#icon-file-text2'></use></svg></label><input id='data-826030bd-6228-4f10-b3e4-91f1b185d25d' class='xr-var-data-in' type='checkbox'><label for='data-826030bd-6228-4f10-b3e4-91f1b185d25d' title='Show/Hide data repr'><svg class='icon xr-icon-database'><use xlink:href='#icon-database'></use></svg></label><div class='xr-var-attrs'><dl class='xr-attrs'></dl></div><div class='xr-var-data'><pre>array([[60.        , 30.        , 20.        , ..., 50.        ,\n",
       "        30.        , 40.        ],\n",
       "       [53.57142857, 10.71428571, 32.14285714, ..., 25.        ,\n",
       "        32.14285714, 28.57142857],\n",
       "       [17.85714286, 14.28571429,  7.14285714, ..., 17.85714286,\n",
       "        25.        , 21.42857143],\n",
       "       ...,\n",
       "       [        nan,         nan, 10.        , ..., 10.        ,\n",
       "                nan,         nan],\n",
       "       [45.        , 35.        , 35.        , ..., 10.        ,\n",
       "        27.5       , 25.        ],\n",
       "       [48.        , 12.        ,  4.        , ..., 36.        ,\n",
       "        44.        , 32.        ]])</pre></div></li><li class='xr-var-item'><div class='xr-var-name'><span>(3, 3)</span></div><div class='xr-var-dims'>(GCM, time)</div><div class='xr-var-dtype'>float64</div><div class='xr-var-preview xr-preview'>30.0 20.0 0.0 ... 56.0 28.0 40.0</div><input id='attrs-60f4e8c5-9e13-4444-9efd-5a00fdda1b5c' class='xr-var-attrs-in' type='checkbox' disabled><label for='attrs-60f4e8c5-9e13-4444-9efd-5a00fdda1b5c' title='Show/Hide attributes'><svg class='icon xr-icon-file-text2'><use xlink:href='#icon-file-text2'></use></svg></label><input id='data-4e43c74a-b7bb-45df-ad98-b32467812371' class='xr-var-data-in' type='checkbox'><label for='data-4e43c74a-b7bb-45df-ad98-b32467812371' title='Show/Hide data repr'><svg class='icon xr-icon-database'><use xlink:href='#icon-database'></use></svg></label><div class='xr-var-attrs'><dl class='xr-attrs'></dl></div><div class='xr-var-data'><pre>array([[30.        , 20.        ,  0.        , ..., 50.        ,\n",
       "        50.        , 50.        ],\n",
       "       [ 3.57142857,  7.14285714, 28.57142857, ..., 67.85714286,\n",
       "        53.57142857, 46.42857143],\n",
       "       [14.28571429,  7.14285714, 10.71428571, ..., 60.71428571,\n",
       "        46.42857143, 50.        ],\n",
       "       ...,\n",
       "       [        nan,         nan, 10.        , ..., 90.        ,\n",
       "                nan,         nan],\n",
       "       [22.5       , 37.5       , 42.5       , ..., 87.5       ,\n",
       "        60.        , 57.5       ],\n",
       "       [28.        ,  4.        ,  0.        , ..., 56.        ,\n",
       "        28.        , 40.        ]])</pre></div></li><li class='xr-var-item'><div class='xr-var-name'><span>(4, 1)</span></div><div class='xr-var-dims'>(GCM, time)</div><div class='xr-var-dtype'>float64</div><div class='xr-var-preview xr-preview'>10.0 50.0 100.0 ... 16.0 20.0 8.0</div><input id='attrs-8170f6cf-0d4e-469a-b654-142d75420e86' class='xr-var-attrs-in' type='checkbox' disabled><label for='attrs-8170f6cf-0d4e-469a-b654-142d75420e86' title='Show/Hide attributes'><svg class='icon xr-icon-file-text2'><use xlink:href='#icon-file-text2'></use></svg></label><input id='data-898c4435-bcea-4452-89f2-16e014a1341d' class='xr-var-data-in' type='checkbox'><label for='data-898c4435-bcea-4452-89f2-16e014a1341d' title='Show/Hide data repr'><svg class='icon xr-icon-database'><use xlink:href='#icon-database'></use></svg></label><div class='xr-var-attrs'><dl class='xr-attrs'></dl></div><div class='xr-var-data'><pre>array([[ 10.        ,  50.        , 100.        , ...,   0.        ,\n",
       "         10.        ,   0.        ],\n",
       "       [ 32.14285714,  57.14285714,  32.14285714, ...,  10.71428571,\n",
       "         14.28571429,  17.85714286],\n",
       "       [ 42.85714286,  78.57142857,  39.28571429, ...,   3.57142857,\n",
       "          7.14285714,   3.57142857],\n",
       "       ...,\n",
       "       [         nan,          nan,  90.        , ...,   0.        ,\n",
       "                 nan,          nan],\n",
       "       [ 20.        ,  20.        ,  17.5       , ...,   2.5       ,\n",
       "          7.5       ,  17.5       ],\n",
       "       [ 24.        ,  84.        ,  44.        , ...,  16.        ,\n",
       "         20.        ,   8.        ]])</pre></div></li><li class='xr-var-item'><div class='xr-var-name'><span>(4, 2)</span></div><div class='xr-var-dims'>(GCM, time)</div><div class='xr-var-dtype'>float64</div><div class='xr-var-preview xr-preview'>40.0 30.0 0.0 ... 28.0 48.0 64.0</div><input id='attrs-9845f971-e094-4c81-8894-ae3ff27a3ec2' class='xr-var-attrs-in' type='checkbox' disabled><label for='attrs-9845f971-e094-4c81-8894-ae3ff27a3ec2' title='Show/Hide attributes'><svg class='icon xr-icon-file-text2'><use xlink:href='#icon-file-text2'></use></svg></label><input id='data-0b8df8da-4968-4908-a7c3-48fdb5fae816' class='xr-var-data-in' type='checkbox'><label for='data-0b8df8da-4968-4908-a7c3-48fdb5fae816' title='Show/Hide data repr'><svg class='icon xr-icon-database'><use xlink:href='#icon-database'></use></svg></label><div class='xr-var-attrs'><dl class='xr-attrs'></dl></div><div class='xr-var-data'><pre>array([[40.        , 30.        ,  0.        , ..., 30.        ,\n",
       "        30.        , 60.        ],\n",
       "       [64.28571429, 28.57142857, 39.28571429, ..., 21.42857143,\n",
       "        17.85714286, 39.28571429],\n",
       "       [25.        , 17.85714286, 35.71428571, ..., 14.28571429,\n",
       "        17.85714286, 28.57142857],\n",
       "       ...,\n",
       "       [        nan,         nan,  0.        , ..., 30.        ,\n",
       "                nan,         nan],\n",
       "       [57.5       , 32.5       , 30.        , ..., 10.        ,\n",
       "        37.5       , 37.5       ],\n",
       "       [48.        ,  8.        , 44.        , ..., 28.        ,\n",
       "        48.        , 64.        ]])</pre></div></li><li class='xr-var-item'><div class='xr-var-name'><span>(4, 3)</span></div><div class='xr-var-dims'>(GCM, time)</div><div class='xr-var-dtype'>float64</div><div class='xr-var-preview xr-preview'>50.0 20.0 0.0 ... 56.0 32.0 28.0</div><input id='attrs-7a41565a-a604-4d28-a15b-8f060d53cea3' class='xr-var-attrs-in' type='checkbox' disabled><label for='attrs-7a41565a-a604-4d28-a15b-8f060d53cea3' title='Show/Hide attributes'><svg class='icon xr-icon-file-text2'><use xlink:href='#icon-file-text2'></use></svg></label><input id='data-4b956873-b171-42fa-9f2d-090dd4469f9e' class='xr-var-data-in' type='checkbox'><label for='data-4b956873-b171-42fa-9f2d-090dd4469f9e' title='Show/Hide data repr'><svg class='icon xr-icon-database'><use xlink:href='#icon-database'></use></svg></label><div class='xr-var-attrs'><dl class='xr-attrs'></dl></div><div class='xr-var-data'><pre>array([[50.        , 20.        ,  0.        , ..., 70.        ,\n",
       "        60.        , 40.        ],\n",
       "       [ 3.57142857, 14.28571429, 28.57142857, ..., 67.85714286,\n",
       "        67.85714286, 42.85714286],\n",
       "       [ 3.57142857,  3.57142857, 10.71428571, ..., 67.85714286,\n",
       "        60.71428571, 53.57142857],\n",
       "       ...,\n",
       "       [        nan,         nan, 10.        , ..., 70.        ,\n",
       "                nan,         nan],\n",
       "       [22.5       , 47.5       , 52.5       , ..., 87.5       ,\n",
       "        55.        , 45.        ],\n",
       "       [28.        ,  8.        , 12.        , ..., 56.        ,\n",
       "        32.        , 28.        ]])</pre></div></li><li class='xr-var-item'><div class='xr-var-name'><span>(5, 1)</span></div><div class='xr-var-dims'>(GCM, time)</div><div class='xr-var-dtype'>float64</div><div class='xr-var-preview xr-preview'>10.0 40.0 50.0 ... 24.0 16.0 16.0</div><input id='attrs-2ee7af81-0f23-4319-a5be-8b676a8687c8' class='xr-var-attrs-in' type='checkbox' disabled><label for='attrs-2ee7af81-0f23-4319-a5be-8b676a8687c8' title='Show/Hide attributes'><svg class='icon xr-icon-file-text2'><use xlink:href='#icon-file-text2'></use></svg></label><input id='data-b9626787-8c2e-4454-8ecd-b9cc20480169' class='xr-var-data-in' type='checkbox'><label for='data-b9626787-8c2e-4454-8ecd-b9cc20480169' title='Show/Hide data repr'><svg class='icon xr-icon-database'><use xlink:href='#icon-database'></use></svg></label><div class='xr-var-attrs'><dl class='xr-attrs'></dl></div><div class='xr-var-data'><pre>array([[10.        , 40.        , 50.        , ...,  0.        ,\n",
       "        10.        , 30.        ],\n",
       "       [21.42857143, 25.        , 21.42857143, ..., 10.71428571,\n",
       "        21.42857143, 35.71428571],\n",
       "       [39.28571429, 46.42857143, 21.42857143, ...,  3.57142857,\n",
       "         3.57142857,  3.57142857],\n",
       "       ...,\n",
       "       [        nan,         nan, 60.        , ...,  0.        ,\n",
       "                nan,         nan],\n",
       "       [27.5       , 17.5       , 17.5       , ...,  5.        ,\n",
       "        20.        , 22.5       ],\n",
       "       [40.        , 56.        , 28.        , ..., 24.        ,\n",
       "        16.        , 16.        ]])</pre></div></li><li class='xr-var-item'><div class='xr-var-name'><span>(5, 2)</span></div><div class='xr-var-dims'>(GCM, time)</div><div class='xr-var-dtype'>float64</div><div class='xr-var-preview xr-preview'>20.0 40.0 30.0 ... 16.0 44.0 40.0</div><input id='attrs-d44a27f5-35a9-44dd-a43e-38627dc56d04' class='xr-var-attrs-in' type='checkbox' disabled><label for='attrs-d44a27f5-35a9-44dd-a43e-38627dc56d04' title='Show/Hide attributes'><svg class='icon xr-icon-file-text2'><use xlink:href='#icon-file-text2'></use></svg></label><input id='data-6b491441-cb08-417e-b8ef-468d569d8560' class='xr-var-data-in' type='checkbox'><label for='data-6b491441-cb08-417e-b8ef-468d569d8560' title='Show/Hide data repr'><svg class='icon xr-icon-database'><use xlink:href='#icon-database'></use></svg></label><div class='xr-var-attrs'><dl class='xr-attrs'></dl></div><div class='xr-var-data'><pre>array([[20.        , 40.        , 30.        , ..., 20.        ,\n",
       "        40.        , 30.        ],\n",
       "       [71.42857143, 46.42857143, 50.        , ..., 25.        ,\n",
       "        42.85714286, 35.71428571],\n",
       "       [25.        , 39.28571429, 32.14285714, ..., 10.71428571,\n",
       "        14.28571429, 25.        ],\n",
       "       ...,\n",
       "       [        nan,         nan, 20.        , ..., 30.        ,\n",
       "                nan,         nan],\n",
       "       [35.        , 35.        , 25.        , ..., 35.        ,\n",
       "        47.5       , 50.        ],\n",
       "       [40.        , 32.        , 52.        , ..., 16.        ,\n",
       "        44.        , 40.        ]])</pre></div></li><li class='xr-var-item'><div class='xr-var-name'><span>(5, 3)</span></div><div class='xr-var-dims'>(GCM, time)</div><div class='xr-var-dtype'>float64</div><div class='xr-var-preview xr-preview'>70.0 20.0 20.0 ... 60.0 40.0 44.0</div><input id='attrs-fc00d71d-ef12-4849-96cd-aaef2e75b0a5' class='xr-var-attrs-in' type='checkbox' disabled><label for='attrs-fc00d71d-ef12-4849-96cd-aaef2e75b0a5' title='Show/Hide attributes'><svg class='icon xr-icon-file-text2'><use xlink:href='#icon-file-text2'></use></svg></label><input id='data-9aa4ba1b-9e49-4609-9304-889fed61d899' class='xr-var-data-in' type='checkbox'><label for='data-9aa4ba1b-9e49-4609-9304-889fed61d899' title='Show/Hide data repr'><svg class='icon xr-icon-database'><use xlink:href='#icon-database'></use></svg></label><div class='xr-var-attrs'><dl class='xr-attrs'></dl></div><div class='xr-var-data'><pre>array([[70.        , 20.        , 20.        , ..., 80.        ,\n",
       "        50.        , 40.        ],\n",
       "       [ 7.14285714, 28.57142857, 28.57142857, ..., 64.28571429,\n",
       "        35.71428571, 28.57142857],\n",
       "       [ 7.14285714, 14.28571429, 32.14285714, ..., 71.42857143,\n",
       "        67.85714286, 57.14285714],\n",
       "       ...,\n",
       "       [        nan,         nan, 20.        , ..., 70.        ,\n",
       "                nan,         nan],\n",
       "       [37.5       , 47.5       , 57.5       , ..., 60.        ,\n",
       "        32.5       , 27.5       ],\n",
       "       [20.        , 12.        , 20.        , ..., 60.        ,\n",
       "        40.        , 44.        ]])</pre></div></li></ul></div></li><li class='xr-section-item'><input id='section-3a2bbe46-c8c2-492e-a7db-3605a5f822df' class='xr-section-summary-in' type='checkbox' disabled ><label for='section-3a2bbe46-c8c2-492e-a7db-3605a5f822df' class='xr-section-summary'  title='Expand/collapse section'>Attributes: <span>(0)</span></label><div class='xr-section-inline-details'></div><div class='xr-section-details'><dl class='xr-attrs'></dl></div></li></ul></div></div>"
      ],
      "text/plain": [
       "<xarray.Dataset>\n",
       "Dimensions:  (time: 286, GCM: 8)\n",
       "Coordinates:\n",
       "  * time     (time) datetime64[ns] 1993-03-01 1993-04-01 ... 2016-12-01\n",
       "  * GCM      (GCM) <U12 'JMA' 'UKMO' 'NCEP' 'DWD' ... 'ECCC' 'CMCC' 'ECMWF'\n",
       "Data variables:\n",
       "    (3, 1)   (GCM, time) float64 10.0 50.0 80.0 80.0 50.0 ... 8.0 8.0 28.0 28.0\n",
       "    (3, 2)   (GCM, time) float64 60.0 30.0 20.0 20.0 ... 16.0 36.0 44.0 32.0\n",
       "    (3, 3)   (GCM, time) float64 30.0 20.0 0.0 0.0 10.0 ... 76.0 56.0 28.0 40.0\n",
       "    (4, 1)   (GCM, time) float64 10.0 50.0 100.0 50.0 20.0 ... 4.0 16.0 20.0 8.0\n",
       "    (4, 2)   (GCM, time) float64 40.0 30.0 0.0 50.0 50.0 ... 24.0 28.0 48.0 64.0\n",
       "    (4, 3)   (GCM, time) float64 50.0 20.0 0.0 0.0 30.0 ... 72.0 56.0 32.0 28.0\n",
       "    (5, 1)   (GCM, time) float64 10.0 40.0 50.0 10.0 0.0 ... 0.0 24.0 16.0 16.0\n",
       "    (5, 2)   (GCM, time) float64 20.0 40.0 30.0 50.0 ... 36.0 16.0 44.0 40.0\n",
       "    (5, 3)   (GCM, time) float64 70.0 20.0 20.0 40.0 ... 64.0 60.0 40.0 44.0"
      ]
     },
     "execution_count": 23,
     "metadata": {},
     "output_type": "execute_result"
    }
   ],
   "source": [
    "MME"
   ]
  },
  {
   "cell_type": "code",
   "execution_count": 24,
   "id": "c1678262-b5a2-4e6a-99de-e59a57820a3f",
   "metadata": {
    "execution": {
     "iopub.execute_input": "2021-10-25T22:19:10.504105Z",
     "iopub.status.busy": "2021-10-25T22:19:10.503747Z",
     "iopub.status.idle": "2021-10-25T22:19:10.505542Z",
     "shell.execute_reply": "2021-10-25T22:19:10.505191Z"
    },
    "papermill": {
     "duration": 0.016914,
     "end_time": "2021-10-25T22:19:10.505641",
     "exception": false,
     "start_time": "2021-10-25T22:19:10.488727",
     "status": "completed"
    },
    "tags": []
   },
   "outputs": [],
   "source": [
    "quantiles = 'tercile'"
   ]
  },
  {
   "cell_type": "code",
   "execution_count": 25,
   "id": "653c3f39-65e7-4fbb-91fe-e451fff4bb96",
   "metadata": {
    "execution": {
     "iopub.execute_input": "2021-10-25T22:19:10.536163Z",
     "iopub.status.busy": "2021-10-25T22:19:10.535695Z",
     "iopub.status.idle": "2021-10-25T22:19:10.538176Z",
     "shell.execute_reply": "2021-10-25T22:19:10.537827Z"
    },
    "papermill": {
     "duration": 0.01925,
     "end_time": "2021-10-25T22:19:10.538276",
     "exception": false,
     "start_time": "2021-10-25T22:19:10.519026",
     "status": "completed"
    },
    "tags": []
   },
   "outputs": [],
   "source": [
    "MME_mean = MME.mean('GCM')"
   ]
  },
  {
   "cell_type": "code",
   "execution_count": 26,
   "id": "7e68abd0-f450-45b8-88e1-f8859b6b5468",
   "metadata": {
    "execution": {
     "iopub.execute_input": "2021-10-25T22:19:10.573259Z",
     "iopub.status.busy": "2021-10-25T22:19:10.572703Z",
     "iopub.status.idle": "2021-10-25T22:19:10.583749Z",
     "shell.execute_reply": "2021-10-25T22:19:10.583425Z"
    },
    "papermill": {
     "duration": 0.029862,
     "end_time": "2021-10-25T22:19:10.583858",
     "exception": false,
     "start_time": "2021-10-25T22:19:10.553996",
     "status": "completed"
    },
    "tags": []
   },
   "outputs": [],
   "source": [
    "MME = xr.merge([MME, MME_mean.expand_dims({'GCM':['MME']})]) "
   ]
  },
  {
   "cell_type": "code",
   "execution_count": 27,
   "id": "023cecf7-ea62-4b7d-a5b8-587f2a6b4f37",
   "metadata": {
    "execution": {
     "iopub.execute_input": "2021-10-25T22:19:10.612736Z",
     "iopub.status.busy": "2021-10-25T22:19:10.612395Z",
     "iopub.status.idle": "2021-10-25T22:19:10.613936Z",
     "shell.execute_reply": "2021-10-25T22:19:10.614225Z"
    },
    "papermill": {
     "duration": 0.017381,
     "end_time": "2021-10-25T22:19:10.614351",
     "exception": false,
     "start_time": "2021-10-25T22:19:10.596970",
     "status": "completed"
    },
    "tags": []
   },
   "outputs": [],
   "source": [
    "GCMs = ['ECMWF', 'UKMO', 'METEO_FRANCE', 'DWD', 'CMCC', 'NCEP','JMA'] + ['MME']"
   ]
  },
  {
   "cell_type": "code",
   "execution_count": 28,
   "id": "e4b36f2c-5eae-4292-8682-67b99ae4ae91",
   "metadata": {
    "execution": {
     "iopub.execute_input": "2021-10-25T22:19:10.649350Z",
     "iopub.status.busy": "2021-10-25T22:19:10.648959Z",
     "iopub.status.idle": "2021-10-25T22:19:12.871279Z",
     "shell.execute_reply": "2021-10-25T22:19:12.870929Z"
    },
    "papermill": {
     "duration": 2.243338,
     "end_time": "2021-10-25T22:19:12.871387",
     "exception": false,
     "start_time": "2021-10-25T22:19:10.628049",
     "status": "completed"
    },
    "tags": []
   },
   "outputs": [
    {
     "data": {
      "image/png": "[encoded data removed]",
      "text/plain": [
       "<Figure size 288x360 with 1 Axes>"
      ]
     },
     "metadata": {
      "needs_background": "light"
     },
     "output_type": "display_data"
    },
    {
     "data": {
      "image/png": "[encoded data removed]",
      "text/plain": [
       "<Figure size 288x360 with 1 Axes>"
      ]
     },
     "metadata": {
      "needs_background": "light"
     },
     "output_type": "display_data"
    },
    {
     "data": {
      "image/png": "[encoded data removed]",
      "text/plain": [
       "<Figure size 288x360 with 1 Axes>"
      ]
     },
     "metadata": {
      "needs_background": "light"
     },
     "output_type": "display_data"
    },
    {
     "data": {
      "image/png": "[encoded data removed]",
      "text/plain": [
       "<Figure size 288x360 with 1 Axes>"
      ]
     },
     "metadata": {
      "needs_background": "light"
     },
     "output_type": "display_data"
    },
    {
     "data": {
      "image/png": "[encoded data removed]",
      "text/plain": [
       "<Figure size 288x360 with 1 Axes>"
      ]
     },
     "metadata": {
      "needs_background": "light"
     },
     "output_type": "display_data"
    },
    {
     "data": {
      "image/png": "[encoded data removed]",
      "text/plain": [
       "<Figure size 288x360 with 1 Axes>"
      ]
     },
     "metadata": {
      "needs_background": "light"
     },
     "output_type": "display_data"
    },
    {
     "data": {
      "image/png": "[encoded data removed]",
      "text/plain": [
       "<Figure size 288x360 with 1 Axes>"
      ]
     },
     "metadata": {
      "needs_background": "light"
     },
     "output_type": "display_data"
    },
    {
     "data": {
      "image/png": "[encoded data removed]",
      "text/plain": [
       "<Figure size 288x360 with 1 Axes>"
      ]
     },
     "metadata": {
      "needs_background": "light"
     },
     "output_type": "display_data"
    }
   ],
   "source": [
    "for GCM in GCMs: \n",
    "    \n",
    "    dset = MME.sel(GCM=GCM).squeeze()\n",
    "    \n",
    "    dset = dset.drop(\"GCM\")\n",
    "    \n",
    "    df = dset.to_pandas()\n",
    "    \n",
    "    steps = np.unique(df.columns.get_level_values(0)) \n",
    "    \n",
    "    validation = {}\n",
    "    validation_seasonal = {}\n",
    "\n",
    "    validation[f\"{utils.sanitize_name(country)}_{utils.sanitize_name(admin)}\"] = {}\n",
    "    \n",
    "    validation_seasonal[f\"{utils.sanitize_name(country)}_{utils.sanitize_name(admin)}\"] = {}\n",
    "\n",
    "    for step in steps: \n",
    "\n",
    "        df_hindcasts = df.xs(step, axis=1, level=0)\n",
    "\n",
    "        df_hindcasts.index = df_hindcasts.index + pd.offsets.MonthBegin(step)\n",
    "\n",
    "        df_hindcasts_most_likely_category = df_hindcasts.idxmax(axis=1)\n",
    "\n",
    "        #         print(50 * \"-\")\n",
    "        #         print(f\"\\nrelative frequency of the {quantiles} categories:\\n\") \n",
    "        #         print(pd.value_counts(df_hindcasts_most_likely_category) / len(df_hindcasts_most_likely_category))\n",
    "\n",
    "        df_merge = pd.concat([df_hindcasts_most_likely_category.to_frame(name='forecast'), obs.to_frame(name='obs')], axis=1).dropna()\n",
    "\n",
    "        acc = compare(df_merge)\n",
    "\n",
    "        acc_seasonal = df_merge.groupby(df_merge.index.month).apply(compare)\n",
    "\n",
    "        #         print(\"\\nforecast accuracy\\n\")\n",
    "        #         print((df_merge.forecast == df_merge.obs).sum() / len(df_merge))\n",
    "\n",
    "        validation[f\"{utils.sanitize_name(country)}_{utils.sanitize_name(admin)}\"][step] = acc \n",
    "\n",
    "        validation_seasonal[f\"{utils.sanitize_name(country)}_{utils.sanitize_name(admin)}\"][step] = acc_seasonal\n",
    "        \n",
    "    validation = pd.DataFrame(validation)\n",
    "    \n",
    "    # saves the validation to disk \n",
    "    \n",
    "    validation.to_csv(outputs_path.joinpath(f\"validation_{utils.sanitize_name(country)}_{utils.sanitize_name(admin)}_{period}_{GCM}_tercile.csv\"))\n",
    "    \n",
    "    vals = validation.values.flatten()\n",
    "     \n",
    "    s = \"\"\n",
    "    for i in range(len(steps)): \n",
    "        s += f\"| lead {steps[i]}: {vals[i]:4.2f} |\"\n",
    "\n",
    "    f = validation.plot(kind='bar', ylabel='Accuracy [0 - 1]', xlabel='leadtime (months, season end)', ylim=[None, 0.8], legend=None, figsize=(4,5), width=0.9) \n",
    "    f.axes.set_title(f\"{utils.sanitize_name(country)} {utils.sanitize_name(admin)}\\n{GCM} {period} forecasts\")\n",
    "    f.axes.axhline(0.3333, color='0.8')\n",
    "    f.axes.grid(ls=':')\n",
    "    f.axes.text(0.015, 0.95, s, transform=f.axes.transAxes)\n",
    "    [l.set_rotation(0) for l in f.axes.xaxis.get_ticklabels()]\n",
    "    fig = plt.gcf()\n",
    "    fig.savefig(fig_path.joinpath(f'{utils.sanitize_name(country)}_{utils.sanitize_name(admin)}_{period}_{GCM}_{quantiles}_probs.png'), dpi=200, bbox_inches='tight', facecolor='w')\n",
    "        "
   ]
  },
  {
   "cell_type": "code",
   "execution_count": null,
   "id": "9bceade1-1e48-40a9-bcf9-5342da9383bf",
   "metadata": {
    "papermill": {
     "duration": 0.02037,
     "end_time": "2021-10-25T22:19:12.911135",
     "exception": false,
     "start_time": "2021-10-25T22:19:12.890765",
     "status": "completed"
    },
    "tags": []
   },
   "outputs": [],
   "source": []
  }
 ],
 "metadata": {
  "kernelspec": {
   "display_name": "Python 3",
   "language": "python",
   "name": "python3"
  },
  "language_info": {
   "codemirror_mode": {
    "name": "ipython",
    "version": 3
   },
   "file_extension": ".py",
   "mimetype": "text/x-python",
   "name": "python",
   "nbconvert_exporter": "python",
   "pygments_lexer": "ipython3",
   "version": "3.8.10"
  },
  "papermill": {
   "default_parameters": {},
   "duration": 7.051305,
   "end_time": "2021-10-25T22:19:14.401333",
   "environment_variables": {},
   "exception": null,
   "input_path": "/home/nicolasf/operational/ICU/development/hotspots/code/ICU_Water_Watch/notebooks/ICU_forecast_table/C3S_MME_ICU_admin_validation.ipynb",
   "output_path": "/home/nicolasf/operational/ICU/development/hotspots/code/ICU_Water_Watch/notebooks/ICU_forecast_table/C3S_MME_ICU_admin_validation.ipynb",
   "parameters": {
    "admin": "Northern Marshall Islands",
    "country": "Marshall Islands"
   },
   "start_time": "2021-10-25T22:19:07.350028",
   "version": "2.3.3"
  }
 },
 "nbformat": 4,
 "nbformat_minor": 5
}