{
 "cells": [
  {
   "cell_type": "markdown",
   "id": "dc848a92-0993-4d7a-8b8c-59ee5d5e5564",
   "metadata": {
    "papermill": {
     "duration": 0.073722,
     "end_time": "2022-03-14T04:07:40.201223",
     "exception": false,
     "start_time": "2022-03-14T04:07:40.127501",
     "status": "completed"
    },
    "tags": []
   },
   "source": [
    "### calculate the leadtime-dependent climatological terciles, deciles and percentiles (0.02, then 0.05 to 0.95 with 0.05 step) from the individual GCMs' hindcast dataset (period 1993 - 2016) for admin areas  "
   ]
  },
  {
   "cell_type": "markdown",
   "id": "a0029435-c8cd-46f8-8edd-21e3f3422bf1",
   "metadata": {
    "papermill": {
     "duration": 0.071856,
     "end_time": "2022-03-14T04:07:40.346904",
     "exception": false,
     "start_time": "2022-03-14T04:07:40.275048",
     "status": "completed"
    },
    "tags": []
   },
   "source": [
    "### This notebook is driven via papermill by `ICU_forecast_table/drive_admin_GCMs_evaluation.ipynb`"
   ]
  },
  {
   "cell_type": "code",
   "execution_count": 1,
   "id": "d9e3e956-31d5-4606-b762-657a128f93dc",
   "metadata": {
    "papermill": {
     "duration": 0.084335,
     "end_time": "2022-03-14T04:07:40.505787",
     "exception": false,
     "start_time": "2022-03-14T04:07:40.421452",
     "status": "completed"
    },
    "tags": []
   },
   "outputs": [],
   "source": [
    "%load_ext autoreload\n",
    "%autoreload 2"
   ]
  },
  {
   "cell_type": "code",
   "execution_count": 2,
   "id": "ec7c9f73-b771-4191-9c46-eb9e2ca266ad",
   "metadata": {
    "papermill": {
     "duration": 1.668593,
     "end_time": "2022-03-14T04:07:42.247822",
     "exception": false,
     "start_time": "2022-03-14T04:07:40.579229",
     "status": "completed"
    },
    "tags": []
   },
   "outputs": [],
   "source": [
    "%matplotlib inline\n",
    "\n",
    "### os and standard libraries \n",
    "import os\n",
    "import sys\n",
    "from collections import OrderedDict\n",
    "from itertools import product\n",
    "\n",
    "### datetimes\n",
    "from datetime import datetime, timedelta\n",
    "\n",
    "### scipy\n",
    "import numpy as np\n",
    "import pandas as pd\n",
    "import xarray as xr\n",
    "import geopandas as gpd\n",
    "import cartopy.crs as ccrs\n",
    "import dask\n",
    "from dask.diagnostics import ProgressBar\n",
    "from tqdm import tqdm\n",
    "\n",
    "### plotting\n",
    "from matplotlib import pyplot as plt\n",
    "import matplotlib\n",
    "import seaborn as sns\n"
   ]
  },
  {
   "cell_type": "code",
   "execution_count": 3,
   "id": "0cab9771-20cf-4302-9c84-97580f01d934",
   "metadata": {
    "papermill": {
     "duration": 0.092645,
     "end_time": "2022-03-14T04:07:42.410257",
     "exception": false,
     "start_time": "2022-03-14T04:07:42.317612",
     "status": "completed"
    },
    "tags": []
   },
   "outputs": [],
   "source": [
    "import pathlib\n",
    "\n",
    "HOME = pathlib.Path.home()\n",
    "CWD = pathlib.Path.cwd() "
   ]
  },
  {
   "cell_type": "code",
   "execution_count": 4,
   "id": "03b5d899-37d8-48b0-b161-3b5a67d2e116",
   "metadata": {
    "papermill": {
     "duration": 0.08951,
     "end_time": "2022-03-14T04:07:42.573457",
     "exception": false,
     "start_time": "2022-03-14T04:07:42.483947",
     "status": "completed"
    },
    "tags": []
   },
   "outputs": [],
   "source": [
    "sys.path.append('../../') "
   ]
  },
  {
   "cell_type": "code",
   "execution_count": 145,
   "id": "d986433d-94b5-41de-b90e-ff762bdcb9c4",
   "metadata": {
    "papermill": {
     "duration": 11.778736,
     "end_time": "2022-03-14T04:07:54.425879",
     "exception": false,
     "start_time": "2022-03-14T04:07:42.647143",
     "status": "completed"
    },
    "tags": []
   },
   "outputs": [],
   "source": [
    "from ICU_Water_Watch import geo, C3S, domains, plot, utils, verification"
   ]
  },
  {
   "cell_type": "markdown",
   "id": "ea904f40-803b-439c-ade7-bda5bed7ac2e",
   "metadata": {
    "papermill": {
     "duration": 0.074365,
     "end_time": "2022-03-14T04:07:54.570298",
     "exception": false,
     "start_time": "2022-03-14T04:07:54.495933",
     "status": "completed"
    },
    "tags": []
   },
   "source": [
    "### dictionnary holding quantile name and quantile values, they are passed as **lists** to avoid any numerical issues "
   ]
  },
  {
   "cell_type": "code",
   "execution_count": 6,
   "id": "6ccb7b07-f062-4ea7-9f0a-58dd9b082bba",
   "metadata": {
    "papermill": {
     "duration": 0.090398,
     "end_time": "2022-03-14T04:07:54.732340",
     "exception": false,
     "start_time": "2022-03-14T04:07:54.641942",
     "status": "completed"
    },
    "tags": []
   },
   "outputs": [],
   "source": [
    "dict_quantiles = OrderedDict()\n",
    "dict_quantiles['tercile'] = [0.3333, 0.6666]\n",
    "dict_quantiles['quartile'] = [0.25, 0.50, 0.75]\n",
    "dict_quantiles['decile'] = [0.1, 0.2, 0.3, 0.4, 0.5, 0.6, 0.7, 0.8, 0.9]\n",
    "dict_quantiles['percentile'] = [0.02, 0.05, 0.1 , 0.15, 0.2 , 0.25, 0.3 , 0.35, 0.4 , 0.45, 0.5 , 0.55, 0.6 , 0.65, 0.7 , 0.75, 0.8 , 0.85, 0.9 , 0.95] "
   ]
  },
  {
   "cell_type": "markdown",
   "id": "91fc8bca-7496-4fb6-b86d-ef83d37820b4",
   "metadata": {
    "papermill": {
     "duration": 0.071629,
     "end_time": "2022-03-14T04:07:54.876483",
     "exception": false,
     "start_time": "2022-03-14T04:07:54.804854",
     "status": "completed"
    },
    "tags": []
   },
   "source": [
    "### list of GCMs with complete hindcast period "
   ]
  },
  {
   "cell_type": "code",
   "execution_count": 7,
   "id": "8995725a-3307-4e58-93d2-8eaa1526d91d",
   "metadata": {
    "papermill": {
     "duration": 0.091365,
     "end_time": "2022-03-14T04:07:55.039322",
     "exception": false,
     "start_time": "2022-03-14T04:07:54.947957",
     "status": "completed"
    },
    "tags": []
   },
   "outputs": [],
   "source": [
    "GCMs = ['ECMWF', 'UKMO', 'METEO_FRANCE', 'DWD', 'CMCC', 'NCEP', 'JMA', 'ECCC_CanCM4i', 'ECCC_GEM_NEMO']"
   ]
  },
  {
   "cell_type": "markdown",
   "id": "ca1eed61-799e-4262-85e3-d99fa6adb06a",
   "metadata": {
    "papermill": {
     "duration": 0.072844,
     "end_time": "2022-03-14T04:07:55.185138",
     "exception": false,
     "start_time": "2022-03-14T04:07:55.112294",
     "status": "completed"
    },
    "tags": []
   },
   "source": [
    "### PARAMETERS FOR PAPERMILL "
   ]
  },
  {
   "cell_type": "code",
   "execution_count": 8,
   "id": "ec9e9c11-6a0a-4569-b095-12b7aa3e4e25",
   "metadata": {
    "papermill": {
     "duration": 0.0929,
     "end_time": "2022-03-14T04:07:55.350418",
     "exception": false,
     "start_time": "2022-03-14T04:07:55.257518",
     "status": "completed"
    },
    "tags": [
     "parameters"
    ]
   },
   "outputs": [],
   "source": [
    "provider = 'CDS'\n",
    "varname = 'tprate'\n",
    "period = 'seasonal'\n",
    "GCM = 'ECMWF'\n",
    "quantiles = 'quartile'\n",
    "method = 'empirical' # whether to calculate the parametrized or empirical quantiles \\\n",
    "use_verif = 'era'"
   ]
  },
  {
   "cell_type": "code",
   "execution_count": null,
   "id": "2b0eb452-8548-49db-9b6c-9ed1a38c5d32",
   "metadata": {},
   "outputs": [],
   "source": [
    "dset_obs, dset_anomalies = verification.get_era5()"
   ]
  },
  {
   "cell_type": "code",
   "execution_count": null,
   "id": "18aa203b-4717-4760-b678-8aa975cbc18d",
   "metadata": {},
   "outputs": [],
   "source": [
    "if quantiles == 'tercile': \n",
    "    ncategories = 3\n",
    "if quantiles == 'quartile': \n",
    "    ncategories = 4\n",
    "elif quantiles == 'decile': \n",
    "    ncategories = 10 \n",
    "elif quantiles == 'percentile': \n",
    "    ncategories = 21"
   ]
  },
  {
   "cell_type": "markdown",
   "id": "1e5315c7-8f76-4063-9a1a-bbd857a5bdff",
   "metadata": {
    "papermill": {
     "duration": 0.071424,
     "end_time": "2022-03-14T04:07:55.655629",
     "exception": false,
     "start_time": "2022-03-14T04:07:55.584205",
     "status": "completed"
    },
    "tags": []
   },
   "source": [
    "### path definitions follow"
   ]
  },
  {
   "cell_type": "markdown",
   "id": "05579840-f03c-41af-a26c-147d54a8ac9b",
   "metadata": {
    "papermill": {
     "duration": 0.070144,
     "end_time": "2022-03-14T04:07:55.798043",
     "exception": false,
     "start_time": "2022-03-14T04:07:55.727899",
     "status": "completed"
    },
    "tags": []
   },
   "source": [
    "### outputs "
   ]
  },
  {
   "cell_type": "code",
   "execution_count": 9,
   "id": "e23b3c1b-32ae-4f40-b45e-196e90983a16",
   "metadata": {
    "papermill": {
     "duration": 0.090362,
     "end_time": "2022-03-14T04:07:55.961125",
     "exception": false,
     "start_time": "2022-03-14T04:07:55.870763",
     "status": "completed"
    },
    "tags": []
   },
   "outputs": [],
   "source": [
    "outputs_path = CWD.parents[1].joinpath(\"outputs/admin/operational\")"
   ]
  },
  {
   "cell_type": "code",
   "execution_count": 10,
   "id": "d668be67-7078-47c8-8edc-9a7be306d99f",
   "metadata": {
    "papermill": {
     "duration": 0.091014,
     "end_time": "2022-03-14T04:07:56.124794",
     "exception": false,
     "start_time": "2022-03-14T04:07:56.033780",
     "status": "completed"
    },
    "tags": []
   },
   "outputs": [
    {
     "name": "stdout",
     "output_type": "stream",
     "text": [
      "/home/nicolasf/operational/ICU/development/hotspots/code/ICU_Water_Watch/outputs/admin/operational\n"
     ]
    }
   ],
   "source": [
    "print(str(outputs_path))"
   ]
  },
  {
   "cell_type": "markdown",
   "id": "6066e28c-480a-4d4f-a59f-6dd39789ba73",
   "metadata": {
    "papermill": {
     "duration": 0.076699,
     "end_time": "2022-03-14T04:07:56.273807",
     "exception": false,
     "start_time": "2022-03-14T04:07:56.197108",
     "status": "completed"
    },
    "tags": []
   },
   "source": [
    "#### where to find the GCM hindcast datasets "
   ]
  },
  {
   "cell_type": "code",
   "execution_count": 11,
   "id": "cbcb65ed-7126-4c4b-b7b1-29f7c053f5b1",
   "metadata": {
    "papermill": {
     "duration": 0.091978,
     "end_time": "2022-03-14T04:07:56.438414",
     "exception": false,
     "start_time": "2022-03-14T04:07:56.346436",
     "status": "completed"
    },
    "tags": []
   },
   "outputs": [],
   "source": [
    "gcm_path = pathlib.Path(f'/media/nicolasf/END19101/ICU/data/{provider}/operational/hindcasts')"
   ]
  },
  {
   "cell_type": "code",
   "execution_count": 12,
   "id": "33fe9a62-f1e7-40b4-a77b-7d7ddee2b7ca",
   "metadata": {
    "papermill": {
     "duration": 0.091945,
     "end_time": "2022-03-14T04:07:56.602324",
     "exception": false,
     "start_time": "2022-03-14T04:07:56.510379",
     "status": "completed"
    },
    "tags": []
   },
   "outputs": [],
   "source": [
    "dpath = gcm_path.joinpath(GCM).joinpath(varname.upper())"
   ]
  },
  {
   "cell_type": "code",
   "execution_count": 13,
   "id": "692494fd-2d87-4d0c-9e6d-1aa8b3d71794",
   "metadata": {
    "papermill": {
     "duration": 0.090484,
     "end_time": "2022-03-14T04:07:56.765001",
     "exception": false,
     "start_time": "2022-03-14T04:07:56.674517",
     "status": "completed"
    },
    "tags": []
   },
   "outputs": [
    {
     "name": "stdout",
     "output_type": "stream",
     "text": [
      "/media/nicolasf/END19101/ICU/data/CDS/operational/hindcasts/ECMWF/TPRATE\n"
     ]
    }
   ],
   "source": [
    "print(dpath)"
   ]
  },
  {
   "cell_type": "markdown",
   "id": "e50a87c7-b682-47e8-a894-0ce0910b7065",
   "metadata": {
    "papermill": {
     "duration": 0.072135,
     "end_time": "2022-03-14T04:07:56.910091",
     "exception": false,
     "start_time": "2022-03-14T04:07:56.837956",
     "status": "completed"
    },
    "tags": []
   },
   "source": [
    "#### where to save the climatologies "
   ]
  },
  {
   "cell_type": "code",
   "execution_count": 14,
   "id": "679005be-3f9c-4f2a-83de-7768c5b917d4",
   "metadata": {
    "papermill": {
     "duration": 0.091098,
     "end_time": "2022-03-14T04:07:57.072814",
     "exception": false,
     "start_time": "2022-03-14T04:07:56.981716",
     "status": "completed"
    },
    "tags": []
   },
   "outputs": [],
   "source": [
    "clim_path = gcm_path.joinpath(f'CLIMATOLOGY/{GCM}')"
   ]
  },
  {
   "cell_type": "code",
   "execution_count": 15,
   "id": "a2f7f1dc-078f-4de8-90d5-6f3537a1cb0d",
   "metadata": {
    "papermill": {
     "duration": 0.09027,
     "end_time": "2022-03-14T04:07:57.234744",
     "exception": false,
     "start_time": "2022-03-14T04:07:57.144474",
     "status": "completed"
    },
    "tags": []
   },
   "outputs": [
    {
     "name": "stdout",
     "output_type": "stream",
     "text": [
      "/media/nicolasf/END19101/ICU/data/CDS/operational/hindcasts/CLIMATOLOGY/ECMWF\n"
     ]
    }
   ],
   "source": [
    "print(clim_path)"
   ]
  },
  {
   "cell_type": "code",
   "execution_count": 16,
   "id": "0694a8c7-3ddd-42e6-a4bb-2693457b3a01",
   "metadata": {
    "papermill": {
     "duration": 0.090916,
     "end_time": "2022-03-14T04:07:57.397485",
     "exception": false,
     "start_time": "2022-03-14T04:07:57.306569",
     "status": "completed"
    },
    "tags": []
   },
   "outputs": [],
   "source": [
    "if not clim_path.exists(): \n",
    "    \n",
    "    clim_path.mkdir(parents=True)"
   ]
  },
  {
   "cell_type": "markdown",
   "id": "d47e42f3-1647-4f1b-866f-501481e2dfab",
   "metadata": {
    "papermill": {
     "duration": 0.071285,
     "end_time": "2022-03-14T04:07:57.541364",
     "exception": false,
     "start_time": "2022-03-14T04:07:57.470079",
     "status": "completed"
    },
    "tags": []
   },
   "source": [
    "### get the list of files "
   ]
  },
  {
   "cell_type": "code",
   "execution_count": 17,
   "id": "f0b72f90-2b59-45d1-833f-8e47715b9177",
   "metadata": {
    "papermill": {
     "duration": 0.093394,
     "end_time": "2022-03-14T04:07:57.706724",
     "exception": false,
     "start_time": "2022-03-14T04:07:57.613330",
     "status": "completed"
    },
    "tags": []
   },
   "outputs": [],
   "source": [
    "lfiles = list(dpath.glob(f\"ensemble_seas_forecasts_{varname}_from_*.netcdf\"))"
   ]
  },
  {
   "cell_type": "code",
   "execution_count": 18,
   "id": "a1e49b09-ad9d-4881-b396-a41abccb3857",
   "metadata": {
    "papermill": {
     "duration": 0.09149,
     "end_time": "2022-03-14T04:07:57.870727",
     "exception": false,
     "start_time": "2022-03-14T04:07:57.779237",
     "status": "completed"
    },
    "tags": []
   },
   "outputs": [],
   "source": [
    "lfiles.sort()"
   ]
  },
  {
   "cell_type": "code",
   "execution_count": 20,
   "id": "6c5a9ce0-37e6-49fb-9b84-2dfe12ad321e",
   "metadata": {
    "papermill": {
     "duration": 0.094759,
     "end_time": "2022-03-14T04:07:58.212476",
     "exception": false,
     "start_time": "2022-03-14T04:07:58.117717",
     "status": "completed"
    },
    "tags": []
   },
   "outputs": [
    {
     "data": {
      "text/plain": [
       "288"
      ]
     },
     "execution_count": 20,
     "metadata": {},
     "output_type": "execute_result"
    }
   ],
   "source": [
    "len(lfiles)"
   ]
  },
  {
   "cell_type": "code",
   "execution_count": 21,
   "id": "4c877a5a-60b4-44f0-8b3f-e9e1205f20d3",
   "metadata": {
    "papermill": {
     "duration": 6.353797,
     "end_time": "2022-03-14T04:08:04.641087",
     "exception": false,
     "start_time": "2022-03-14T04:07:58.287290",
     "status": "completed"
    },
    "tags": []
   },
   "outputs": [],
   "source": [
    "dset = xr.open_mfdataset(lfiles, preprocess=C3S.preprocess_GCM, parallel=True, engine='netcdf4')"
   ]
  },
  {
   "cell_type": "code",
   "execution_count": 22,
   "id": "d0a64204-2c5f-4f76-a337-6799fc783539",
   "metadata": {
    "papermill": {
     "duration": 0.102988,
     "end_time": "2022-03-14T04:08:04.815278",
     "exception": false,
     "start_time": "2022-03-14T04:08:04.712290",
     "status": "completed"
    },
    "tags": []
   },
   "outputs": [],
   "source": [
    "dset = dset.sortby('time')"
   ]
  },
  {
   "cell_type": "code",
   "execution_count": 23,
   "id": "b7afaa16-4579-4ce1-8c9e-aa2da451b518",
   "metadata": {
    "papermill": {
     "duration": 0.094306,
     "end_time": "2022-03-14T04:08:04.983048",
     "exception": false,
     "start_time": "2022-03-14T04:08:04.888742",
     "status": "completed"
    },
    "tags": []
   },
   "outputs": [
    {
     "data": {
      "text/plain": [
       "<bound method Dataset.info of <xarray.Dataset>\n",
       "Dimensions:  (time: 288, lon: 121, lat: 81, member: 25, step: 5)\n",
       "Coordinates:\n",
       "  * time     (time) datetime64[ns] 1993-01-01 1993-02-01 ... 2016-12-01\n",
       "  * lon      (lon) float32 120.0 121.0 122.0 123.0 ... 237.0 238.0 239.0 240.0\n",
       "  * lat      (lat) float32 -50.0 -49.0 -48.0 -47.0 -46.0 ... 27.0 28.0 29.0 30.0\n",
       "  * member   (member) int32 0 1 2 3 4 5 6 7 8 9 ... 16 17 18 19 20 21 22 23 24\n",
       "  * step     (step) int64 1 2 3 4 5\n",
       "Data variables:\n",
       "    tprate   (time, step, member, lat, lon) float32 dask.array<chunksize=(1, 5, 25, 81, 121), meta=np.ndarray>\n",
       "Attributes:\n",
       "    Conventions:  CF-1.6\n",
       "    history:      2022-01-17 01:17:57 GMT by grib_to_netcdf-2.23.0: /opt/ecmw...>"
      ]
     },
     "execution_count": 23,
     "metadata": {},
     "output_type": "execute_result"
    }
   ],
   "source": [
    "dset.info"
   ]
  },
  {
   "cell_type": "markdown",
   "id": "5022eeae-a3d8-4844-a579-4623220c2187",
   "metadata": {
    "papermill": {
     "duration": 0.072274,
     "end_time": "2022-03-14T04:08:05.128510",
     "exception": false,
     "start_time": "2022-03-14T04:08:05.056236",
     "status": "completed"
    },
    "tags": []
   },
   "source": [
    "### print the number of members in the ensemble for each time step "
   ]
  },
  {
   "cell_type": "code",
   "execution_count": 24,
   "id": "5ad135a9-3662-4798-8621-30741c6827a3",
   "metadata": {
    "papermill": {
     "duration": 0.090875,
     "end_time": "2022-03-14T04:08:05.290989",
     "exception": false,
     "start_time": "2022-03-14T04:08:05.200114",
     "status": "completed"
    },
    "tags": []
   },
   "outputs": [],
   "source": [
    "# for t in range(len(dset.time)): \n",
    "    \n",
    "#     s = dset.isel(time=t)\n",
    "    \n",
    "#     print(f\"{pd.to_datetime(dset.isel(time=t)['time'].data):%Y-%m}:\", len(s.dropna('member')['member']))"
   ]
  },
  {
   "cell_type": "markdown",
   "id": "f7bbf7e7-c341-436b-b9db-103fd378dcb0",
   "metadata": {
    "papermill": {
     "duration": 0.07414,
     "end_time": "2022-03-14T04:08:05.441220",
     "exception": false,
     "start_time": "2022-03-14T04:08:05.367080",
     "status": "completed"
    },
    "tags": []
   },
   "source": [
    "### selects the hindcast period "
   ]
  },
  {
   "cell_type": "code",
   "execution_count": 25,
   "id": "b543e1a2-5e81-43d0-8bcc-66cd8a1eeedf",
   "metadata": {
    "papermill": {
     "duration": 0.094286,
     "end_time": "2022-03-14T04:08:05.613517",
     "exception": false,
     "start_time": "2022-03-14T04:08:05.519231",
     "status": "completed"
    },
    "tags": []
   },
   "outputs": [],
   "source": [
    "dset = dset.sel(time=slice('1993', '2016'))"
   ]
  },
  {
   "cell_type": "code",
   "execution_count": 26,
   "id": "b9e91e8a-db19-42c1-aef6-eaa32fe24cea",
   "metadata": {
    "papermill": {
     "duration": 0.111526,
     "end_time": "2022-03-14T04:08:05.799075",
     "exception": false,
     "start_time": "2022-03-14T04:08:05.687549",
     "status": "completed"
    },
    "tags": []
   },
   "outputs": [
    {
     "data": {
      "text/html": [
       "<div><svg style=\"position: absolute; width: 0; height: 0; overflow: hidden\">\n",
       "<defs>\n",
       "<symbol id=\"icon-database\" viewBox=\"0 0 32 32\">\n",
       "<path d=\"M16 0c-8.837 0-16 2.239-16 5v4c0 2.761 7.163 5 16 5s16-2.239 16-5v-4c0-2.761-7.163-5-16-5z\"></path>\n",
       "<path d=\"M16 17c-8.837 0-16-2.239-16-5v6c0 2.761 7.163 5 16 5s16-2.239 16-5v-6c0 2.761-7.163 5-16 5z\"></path>\n",
       "<path d=\"M16 26c-8.837 0-16-2.239-16-5v6c0 2.761 7.163 5 16 5s16-2.239 16-5v-6c0 2.761-7.163 5-16 5z\"></path>\n",
       "</symbol>\n",
       "<symbol id=\"icon-file-text2\" viewBox=\"0 0 32 32\">\n",
       "<path d=\"M28.681 7.159c-0.694-0.947-1.662-2.053-2.724-3.116s-2.169-2.030-3.116-2.724c-1.612-1.182-2.393-1.319-2.841-1.319h-15.5c-1.378 0-2.5 1.121-2.5 2.5v27c0 1.378 1.122 2.5 2.5 2.5h23c1.378 0 2.5-1.122 2.5-2.5v-19.5c0-0.448-0.137-1.23-1.319-2.841zM24.543 5.457c0.959 0.959 1.712 1.825 2.268 2.543h-4.811v-4.811c0.718 0.556 1.584 1.309 2.543 2.268zM28 29.5c0 0.271-0.229 0.5-0.5 0.5h-23c-0.271 0-0.5-0.229-0.5-0.5v-27c0-0.271 0.229-0.5 0.5-0.5 0 0 15.499-0 15.5 0v7c0 0.552 0.448 1 1 1h7v19.5z\"></path>\n",
       "<path d=\"M23 26h-14c-0.552 0-1-0.448-1-1s0.448-1 1-1h14c0.552 0 1 0.448 1 1s-0.448 1-1 1z\"></path>\n",
       "<path d=\"M23 22h-14c-0.552 0-1-0.448-1-1s0.448-1 1-1h14c0.552 0 1 0.448 1 1s-0.448 1-1 1z\"></path>\n",
       "<path d=\"M23 18h-14c-0.552 0-1-0.448-1-1s0.448-1 1-1h14c0.552 0 1 0.448 1 1s-0.448 1-1 1z\"></path>\n",
       "</symbol>\n",
       "</defs>\n",
       "</svg>\n",
       "<style>/* CSS stylesheet for displaying xarray objects in jupyterlab.\n",
       " *\n",
       " */\n",
       "\n",
       ":root {\n",
       "  --xr-font-color0: var(--jp-content-font-color0, rgba(0, 0, 0, 1));\n",
       "  --xr-font-color2: var(--jp-content-font-color2, rgba(0, 0, 0, 0.54));\n",
       "  --xr-font-color3: var(--jp-content-font-color3, rgba(0, 0, 0, 0.38));\n",
       "  --xr-border-color: var(--jp-border-color2, #e0e0e0);\n",
       "  --xr-disabled-color: var(--jp-layout-color3, #bdbdbd);\n",
       "  --xr-background-color: var(--jp-layout-color0, white);\n",
       "  --xr-background-color-row-even: var(--jp-layout-color1, white);\n",
       "  --xr-background-color-row-odd: var(--jp-layout-color2, #eeeeee);\n",
       "}\n",
       "\n",
       "html[theme=dark],\n",
       "body.vscode-dark {\n",
       "  --xr-font-color0: rgba(255, 255, 255, 1);\n",
       "  --xr-font-color2: rgba(255, 255, 255, 0.54);\n",
       "  --xr-font-color3: rgba(255, 255, 255, 0.38);\n",
       "  --xr-border-color: #1F1F1F;\n",
       "  --xr-disabled-color: #515151;\n",
       "  --xr-background-color: #111111;\n",
       "  --xr-background-color-row-even: #111111;\n",
       "  --xr-background-color-row-odd: #313131;\n",
       "}\n",
       "\n",
       ".xr-wrap {\n",
       "  display: block !important;\n",
       "  min-width: 300px;\n",
       "  max-width: 700px;\n",
       "}\n",
       "\n",
       ".xr-text-repr-fallback {\n",
       "  /* fallback to plain text repr when CSS is not injected (untrusted notebook) */\n",
       "  display: none;\n",
       "}\n",
       "\n",
       ".xr-header {\n",
       "  padding-top: 6px;\n",
       "  padding-bottom: 6px;\n",
       "  margin-bottom: 4px;\n",
       "  border-bottom: solid 1px var(--xr-border-color);\n",
       "}\n",
       "\n",
       ".xr-header > div,\n",
       ".xr-header > ul {\n",
       "  display: inline;\n",
       "  margin-top: 0;\n",
       "  margin-bottom: 0;\n",
       "}\n",
       "\n",
       ".xr-obj-type,\n",
       ".xr-array-name {\n",
       "  margin-left: 2px;\n",
       "  margin-right: 10px;\n",
       "}\n",
       "\n",
       ".xr-obj-type {\n",
       "  color: var(--xr-font-color2);\n",
       "}\n",
       "\n",
       ".xr-sections {\n",
       "  padding-left: 0 !important;\n",
       "  display: grid;\n",
       "  grid-template-columns: 150px auto auto 1fr 20px 20px;\n",
       "}\n",
       "\n",
       ".xr-section-item {\n",
       "  display: contents;\n",
       "}\n",
       "\n",
       ".xr-section-item input {\n",
       "  display: none;\n",
       "}\n",
       "\n",
       ".xr-section-item input + label {\n",
       "  color: var(--xr-disabled-color);\n",
       "}\n",
       "\n",
       ".xr-section-item input:enabled + label {\n",
       "  cursor: pointer;\n",
       "  color: var(--xr-font-color2);\n",
       "}\n",
       "\n",
       ".xr-section-item input:enabled + label:hover {\n",
       "  color: var(--xr-font-color0);\n",
       "}\n",
       "\n",
       ".xr-section-summary {\n",
       "  grid-column: 1;\n",
       "  color: var(--xr-font-color2);\n",
       "  font-weight: 500;\n",
       "}\n",
       "\n",
       ".xr-section-summary > span {\n",
       "  display: inline-block;\n",
       "  padding-left: 0.5em;\n",
       "}\n",
       "\n",
       ".xr-section-summary-in:disabled + label {\n",
       "  color: var(--xr-font-color2);\n",
       "}\n",
       "\n",
       ".xr-section-summary-in + label:before {\n",
       "  display: inline-block;\n",
       "  content: '►';\n",
       "  font-size: 11px;\n",
       "  width: 15px;\n",
       "  text-align: center;\n",
       "}\n",
       "\n",
       ".xr-section-summary-in:disabled + label:before {\n",
       "  color: var(--xr-disabled-color);\n",
       "}\n",
       "\n",
       ".xr-section-summary-in:checked + label:before {\n",
       "  content: '▼';\n",
       "}\n",
       "\n",
       ".xr-section-summary-in:checked + label > span {\n",
       "  display: none;\n",
       "}\n",
       "\n",
       ".xr-section-summary,\n",
       ".xr-section-inline-details {\n",
       "  padding-top: 4px;\n",
       "  padding-bottom: 4px;\n",
       "}\n",
       "\n",
       ".xr-section-inline-details {\n",
       "  grid-column: 2 / -1;\n",
       "}\n",
       "\n",
       ".xr-section-details {\n",
       "  display: none;\n",
       "  grid-column: 1 / -1;\n",
       "  margin-bottom: 5px;\n",
       "}\n",
       "\n",
       ".xr-section-summary-in:checked ~ .xr-section-details {\n",
       "  display: contents;\n",
       "}\n",
       "\n",
       ".xr-array-wrap {\n",
       "  grid-column: 1 / -1;\n",
       "  display: grid;\n",
       "  grid-template-columns: 20px auto;\n",
       "}\n",
       "\n",
       ".xr-array-wrap > label {\n",
       "  grid-column: 1;\n",
       "  vertical-align: top;\n",
       "}\n",
       "\n",
       ".xr-preview {\n",
       "  color: var(--xr-font-color3);\n",
       "}\n",
       "\n",
       ".xr-array-preview,\n",
       ".xr-array-data {\n",
       "  padding: 0 5px !important;\n",
       "  grid-column: 2;\n",
       "}\n",
       "\n",
       ".xr-array-data,\n",
       ".xr-array-in:checked ~ .xr-array-preview {\n",
       "  display: none;\n",
       "}\n",
       "\n",
       ".xr-array-in:checked ~ .xr-array-data,\n",
       ".xr-array-preview {\n",
       "  display: inline-block;\n",
       "}\n",
       "\n",
       ".xr-dim-list {\n",
       "  display: inline-block !important;\n",
       "  list-style: none;\n",
       "  padding: 0 !important;\n",
       "  margin: 0;\n",
       "}\n",
       "\n",
       ".xr-dim-list li {\n",
       "  display: inline-block;\n",
       "  padding: 0;\n",
       "  margin: 0;\n",
       "}\n",
       "\n",
       ".xr-dim-list:before {\n",
       "  content: '(';\n",
       "}\n",
       "\n",
       ".xr-dim-list:after {\n",
       "  content: ')';\n",
       "}\n",
       "\n",
       ".xr-dim-list li:not(:last-child):after {\n",
       "  content: ',';\n",
       "  padding-right: 5px;\n",
       "}\n",
       "\n",
       ".xr-has-index {\n",
       "  font-weight: bold;\n",
       "}\n",
       "\n",
       ".xr-var-list,\n",
       ".xr-var-item {\n",
       "  display: contents;\n",
       "}\n",
       "\n",
       ".xr-var-item > div,\n",
       ".xr-var-item label,\n",
       ".xr-var-item > .xr-var-name span {\n",
       "  background-color: var(--xr-background-color-row-even);\n",
       "  margin-bottom: 0;\n",
       "}\n",
       "\n",
       ".xr-var-item > .xr-var-name:hover span {\n",
       "  padding-right: 5px;\n",
       "}\n",
       "\n",
       ".xr-var-list > li:nth-child(odd) > div,\n",
       ".xr-var-list > li:nth-child(odd) > label,\n",
       ".xr-var-list > li:nth-child(odd) > .xr-var-name span {\n",
       "  background-color: var(--xr-background-color-row-odd);\n",
       "}\n",
       "\n",
       ".xr-var-name {\n",
       "  grid-column: 1;\n",
       "}\n",
       "\n",
       ".xr-var-dims {\n",
       "  grid-column: 2;\n",
       "}\n",
       "\n",
       ".xr-var-dtype {\n",
       "  grid-column: 3;\n",
       "  text-align: right;\n",
       "  color: var(--xr-font-color2);\n",
       "}\n",
       "\n",
       ".xr-var-preview {\n",
       "  grid-column: 4;\n",
       "}\n",
       "\n",
       ".xr-var-name,\n",
       ".xr-var-dims,\n",
       ".xr-var-dtype,\n",
       ".xr-preview,\n",
       ".xr-attrs dt {\n",
       "  white-space: nowrap;\n",
       "  overflow: hidden;\n",
       "  text-overflow: ellipsis;\n",
       "  padding-right: 10px;\n",
       "}\n",
       "\n",
       ".xr-var-name:hover,\n",
       ".xr-var-dims:hover,\n",
       ".xr-var-dtype:hover,\n",
       ".xr-attrs dt:hover {\n",
       "  overflow: visible;\n",
       "  width: auto;\n",
       "  z-index: 1;\n",
       "}\n",
       "\n",
       ".xr-var-attrs,\n",
       ".xr-var-data {\n",
       "  display: none;\n",
       "  background-color: var(--xr-background-color) !important;\n",
       "  padding-bottom: 5px !important;\n",
       "}\n",
       "\n",
       ".xr-var-attrs-in:checked ~ .xr-var-attrs,\n",
       ".xr-var-data-in:checked ~ .xr-var-data {\n",
       "  display: block;\n",
       "}\n",
       "\n",
       ".xr-var-data > table {\n",
       "  float: right;\n",
       "}\n",
       "\n",
       ".xr-var-name span,\n",
       ".xr-var-data,\n",
       ".xr-attrs {\n",
       "  padding-left: 25px !important;\n",
       "}\n",
       "\n",
       ".xr-attrs,\n",
       ".xr-var-attrs,\n",
       ".xr-var-data {\n",
       "  grid-column: 1 / -1;\n",
       "}\n",
       "\n",
       "dl.xr-attrs {\n",
       "  padding: 0;\n",
       "  margin: 0;\n",
       "  display: grid;\n",
       "  grid-template-columns: 125px auto;\n",
       "}\n",
       "\n",
       ".xr-attrs dt,\n",
       ".xr-attrs dd {\n",
       "  padding: 0;\n",
       "  margin: 0;\n",
       "  float: left;\n",
       "  padding-right: 10px;\n",
       "  width: auto;\n",
       "}\n",
       "\n",
       ".xr-attrs dt {\n",
       "  font-weight: normal;\n",
       "  grid-column: 1;\n",
       "}\n",
       "\n",
       ".xr-attrs dt:hover span {\n",
       "  display: inline-block;\n",
       "  background: var(--xr-background-color);\n",
       "  padding-right: 10px;\n",
       "}\n",
       "\n",
       ".xr-attrs dd {\n",
       "  grid-column: 2;\n",
       "  white-space: pre-wrap;\n",
       "  word-break: break-all;\n",
       "}\n",
       "\n",
       ".xr-icon-database,\n",
       ".xr-icon-file-text2 {\n",
       "  display: inline-block;\n",
       "  vertical-align: middle;\n",
       "  width: 1em;\n",
       "  height: 1.5em !important;\n",
       "  stroke-width: 0;\n",
       "  stroke: currentColor;\n",
       "  fill: currentColor;\n",
       "}\n",
       "</style><pre class='xr-text-repr-fallback'>&lt;xarray.Dataset&gt;\n",
       "Dimensions:  (time: 288, lon: 121, lat: 81, member: 25, step: 5)\n",
       "Coordinates:\n",
       "  * time     (time) datetime64[ns] 1993-01-01 1993-02-01 ... 2016-12-01\n",
       "  * lon      (lon) float32 120.0 121.0 122.0 123.0 ... 237.0 238.0 239.0 240.0\n",
       "  * lat      (lat) float32 -50.0 -49.0 -48.0 -47.0 -46.0 ... 27.0 28.0 29.0 30.0\n",
       "  * member   (member) int32 0 1 2 3 4 5 6 7 8 9 ... 16 17 18 19 20 21 22 23 24\n",
       "  * step     (step) int64 1 2 3 4 5\n",
       "Data variables:\n",
       "    tprate   (time, step, member, lat, lon) float32 dask.array&lt;chunksize=(1, 5, 25, 81, 121), meta=np.ndarray&gt;\n",
       "Attributes:\n",
       "    Conventions:  CF-1.6\n",
       "    history:      2022-01-17 01:17:57 GMT by grib_to_netcdf-2.23.0: /opt/ecmw...</pre><div class='xr-wrap' style='display:none'><div class='xr-header'><div class='xr-obj-type'>xarray.Dataset</div></div><ul class='xr-sections'><li class='xr-section-item'><input id='section-73c7ada6-dac2-49e4-b7d9-f9e5ed75af1c' class='xr-section-summary-in' type='checkbox' disabled ><label for='section-73c7ada6-dac2-49e4-b7d9-f9e5ed75af1c' class='xr-section-summary'  title='Expand/collapse section'>Dimensions:</label><div class='xr-section-inline-details'><ul class='xr-dim-list'><li><span class='xr-has-index'>time</span>: 288</li><li><span class='xr-has-index'>lon</span>: 121</li><li><span class='xr-has-index'>lat</span>: 81</li><li><span class='xr-has-index'>member</span>: 25</li><li><span class='xr-has-index'>step</span>: 5</li></ul></div><div class='xr-section-details'></div></li><li class='xr-section-item'><input id='section-9121f63f-4805-487b-83af-f5bdbc8675ff' class='xr-section-summary-in' type='checkbox'  checked><label for='section-9121f63f-4805-487b-83af-f5bdbc8675ff' class='xr-section-summary' >Coordinates: <span>(5)</span></label><div class='xr-section-inline-details'></div><div class='xr-section-details'><ul class='xr-var-list'><li class='xr-var-item'><div class='xr-var-name'><span class='xr-has-index'>time</span></div><div class='xr-var-dims'>(time)</div><div class='xr-var-dtype'>datetime64[ns]</div><div class='xr-var-preview xr-preview'>1993-01-01 ... 2016-12-01</div><input id='attrs-a8c12c5a-f182-49e4-b475-c3cb8b8d44f2' class='xr-var-attrs-in' type='checkbox' disabled><label for='attrs-a8c12c5a-f182-49e4-b475-c3cb8b8d44f2' title='Show/Hide attributes'><svg class='icon xr-icon-file-text2'><use xlink:href='#icon-file-text2'></use></svg></label><input id='data-7b94a959-c47e-4d2d-a019-cc22d2e266c6' class='xr-var-data-in' type='checkbox'><label for='data-7b94a959-c47e-4d2d-a019-cc22d2e266c6' title='Show/Hide data repr'><svg class='icon xr-icon-database'><use xlink:href='#icon-database'></use></svg></label><div class='xr-var-attrs'><dl class='xr-attrs'></dl></div><div class='xr-var-data'><pre>array([&#x27;1993-01-01T00:00:00.000000000&#x27;, &#x27;1993-02-01T00:00:00.000000000&#x27;,\n",
       "       &#x27;1993-03-01T00:00:00.000000000&#x27;, ..., &#x27;2016-10-01T00:00:00.000000000&#x27;,\n",
       "       &#x27;2016-11-01T00:00:00.000000000&#x27;, &#x27;2016-12-01T00:00:00.000000000&#x27;],\n",
       "      dtype=&#x27;datetime64[ns]&#x27;)</pre></div></li><li class='xr-var-item'><div class='xr-var-name'><span class='xr-has-index'>lon</span></div><div class='xr-var-dims'>(lon)</div><div class='xr-var-dtype'>float32</div><div class='xr-var-preview xr-preview'>120.0 121.0 122.0 ... 239.0 240.0</div><input id='attrs-f388c8fc-9d90-4193-a2fa-7b9b750819f9' class='xr-var-attrs-in' type='checkbox' ><label for='attrs-f388c8fc-9d90-4193-a2fa-7b9b750819f9' title='Show/Hide attributes'><svg class='icon xr-icon-file-text2'><use xlink:href='#icon-file-text2'></use></svg></label><input id='data-008c4b44-bf15-446f-9e10-2b4a455a3a1f' class='xr-var-data-in' type='checkbox'><label for='data-008c4b44-bf15-446f-9e10-2b4a455a3a1f' title='Show/Hide data repr'><svg class='icon xr-icon-database'><use xlink:href='#icon-database'></use></svg></label><div class='xr-var-attrs'><dl class='xr-attrs'><dt><span>units :</span></dt><dd>degrees_east</dd><dt><span>long_name :</span></dt><dd>longitude</dd></dl></div><div class='xr-var-data'><pre>array([120., 121., 122., 123., 124., 125., 126., 127., 128., 129., 130., 131.,\n",
       "       132., 133., 134., 135., 136., 137., 138., 139., 140., 141., 142., 143.,\n",
       "       144., 145., 146., 147., 148., 149., 150., 151., 152., 153., 154., 155.,\n",
       "       156., 157., 158., 159., 160., 161., 162., 163., 164., 165., 166., 167.,\n",
       "       168., 169., 170., 171., 172., 173., 174., 175., 176., 177., 178., 179.,\n",
       "       180., 181., 182., 183., 184., 185., 186., 187., 188., 189., 190., 191.,\n",
       "       192., 193., 194., 195., 196., 197., 198., 199., 200., 201., 202., 203.,\n",
       "       204., 205., 206., 207., 208., 209., 210., 211., 212., 213., 214., 215.,\n",
       "       216., 217., 218., 219., 220., 221., 222., 223., 224., 225., 226., 227.,\n",
       "       228., 229., 230., 231., 232., 233., 234., 235., 236., 237., 238., 239.,\n",
       "       240.], dtype=float32)</pre></div></li><li class='xr-var-item'><div class='xr-var-name'><span class='xr-has-index'>lat</span></div><div class='xr-var-dims'>(lat)</div><div class='xr-var-dtype'>float32</div><div class='xr-var-preview xr-preview'>-50.0 -49.0 -48.0 ... 29.0 30.0</div><input id='attrs-81c15974-ff65-4ea3-90c5-ab578f74efc5' class='xr-var-attrs-in' type='checkbox' ><label for='attrs-81c15974-ff65-4ea3-90c5-ab578f74efc5' title='Show/Hide attributes'><svg class='icon xr-icon-file-text2'><use xlink:href='#icon-file-text2'></use></svg></label><input id='data-7de0573a-f92b-48bc-b836-f85924182963' class='xr-var-data-in' type='checkbox'><label for='data-7de0573a-f92b-48bc-b836-f85924182963' title='Show/Hide data repr'><svg class='icon xr-icon-database'><use xlink:href='#icon-database'></use></svg></label><div class='xr-var-attrs'><dl class='xr-attrs'><dt><span>units :</span></dt><dd>degrees_north</dd><dt><span>long_name :</span></dt><dd>latitude</dd></dl></div><div class='xr-var-data'><pre>array([-50., -49., -48., -47., -46., -45., -44., -43., -42., -41., -40., -39.,\n",
       "       -38., -37., -36., -35., -34., -33., -32., -31., -30., -29., -28., -27.,\n",
       "       -26., -25., -24., -23., -22., -21., -20., -19., -18., -17., -16., -15.,\n",
       "       -14., -13., -12., -11., -10.,  -9.,  -8.,  -7.,  -6.,  -5.,  -4.,  -3.,\n",
       "        -2.,  -1.,   0.,   1.,   2.,   3.,   4.,   5.,   6.,   7.,   8.,   9.,\n",
       "        10.,  11.,  12.,  13.,  14.,  15.,  16.,  17.,  18.,  19.,  20.,  21.,\n",
       "        22.,  23.,  24.,  25.,  26.,  27.,  28.,  29.,  30.], dtype=float32)</pre></div></li><li class='xr-var-item'><div class='xr-var-name'><span class='xr-has-index'>member</span></div><div class='xr-var-dims'>(member)</div><div class='xr-var-dtype'>int32</div><div class='xr-var-preview xr-preview'>0 1 2 3 4 5 6 ... 19 20 21 22 23 24</div><input id='attrs-5ff38391-b426-4441-aaeb-38ce119dfd1c' class='xr-var-attrs-in' type='checkbox' ><label for='attrs-5ff38391-b426-4441-aaeb-38ce119dfd1c' title='Show/Hide attributes'><svg class='icon xr-icon-file-text2'><use xlink:href='#icon-file-text2'></use></svg></label><input id='data-29a8752b-6ab8-483e-ae35-3857d2b5e68f' class='xr-var-data-in' type='checkbox'><label for='data-29a8752b-6ab8-483e-ae35-3857d2b5e68f' title='Show/Hide data repr'><svg class='icon xr-icon-database'><use xlink:href='#icon-database'></use></svg></label><div class='xr-var-attrs'><dl class='xr-attrs'><dt><span>long_name :</span></dt><dd>ensemble_member</dd></dl></div><div class='xr-var-data'><pre>array([ 0,  1,  2,  3,  4,  5,  6,  7,  8,  9, 10, 11, 12, 13, 14, 15, 16, 17,\n",
       "       18, 19, 20, 21, 22, 23, 24], dtype=int32)</pre></div></li><li class='xr-var-item'><div class='xr-var-name'><span class='xr-has-index'>step</span></div><div class='xr-var-dims'>(step)</div><div class='xr-var-dtype'>int64</div><div class='xr-var-preview xr-preview'>1 2 3 4 5</div><input id='attrs-4a8085e3-56ef-4aa2-b864-049de6fec8fe' class='xr-var-attrs-in' type='checkbox' disabled><label for='attrs-4a8085e3-56ef-4aa2-b864-049de6fec8fe' title='Show/Hide attributes'><svg class='icon xr-icon-file-text2'><use xlink:href='#icon-file-text2'></use></svg></label><input id='data-a6990339-50ac-4ebc-9614-c33ccb425ebc' class='xr-var-data-in' type='checkbox'><label for='data-a6990339-50ac-4ebc-9614-c33ccb425ebc' title='Show/Hide data repr'><svg class='icon xr-icon-database'><use xlink:href='#icon-database'></use></svg></label><div class='xr-var-attrs'><dl class='xr-attrs'></dl></div><div class='xr-var-data'><pre>array([1, 2, 3, 4, 5])</pre></div></li></ul></div></li><li class='xr-section-item'><input id='section-21514090-868b-44bc-81bc-a9c98029c564' class='xr-section-summary-in' type='checkbox'  checked><label for='section-21514090-868b-44bc-81bc-a9c98029c564' class='xr-section-summary' >Data variables: <span>(1)</span></label><div class='xr-section-inline-details'></div><div class='xr-section-details'><ul class='xr-var-list'><li class='xr-var-item'><div class='xr-var-name'><span>tprate</span></div><div class='xr-var-dims'>(time, step, member, lat, lon)</div><div class='xr-var-dtype'>float32</div><div class='xr-var-preview xr-preview'>dask.array&lt;chunksize=(1, 5, 25, 81, 121), meta=np.ndarray&gt;</div><input id='attrs-696e139d-2544-4e5c-8e8a-fddcace4d2e5' class='xr-var-attrs-in' type='checkbox' ><label for='attrs-696e139d-2544-4e5c-8e8a-fddcace4d2e5' title='Show/Hide attributes'><svg class='icon xr-icon-file-text2'><use xlink:href='#icon-file-text2'></use></svg></label><input id='data-cf11408f-db14-4676-82ee-bea9cdcf4c81' class='xr-var-data-in' type='checkbox'><label for='data-cf11408f-db14-4676-82ee-bea9cdcf4c81' title='Show/Hide data repr'><svg class='icon xr-icon-database'><use xlink:href='#icon-database'></use></svg></label><div class='xr-var-attrs'><dl class='xr-attrs'><dt><span>units :</span></dt><dd>m s**-1</dd><dt><span>long_name :</span></dt><dd>Mean total precipitation rate</dd></dl></div><div class='xr-var-data'><table>\n",
       "    <tr>\n",
       "        <td>\n",
       "            <table>\n",
       "                <thead>\n",
       "                    <tr>\n",
       "                        <td> </td>\n",
       "                        <th> Array </th>\n",
       "                        <th> Chunk </th>\n",
       "                    </tr>\n",
       "                </thead>\n",
       "                <tbody>\n",
       "                    \n",
       "                    <tr>\n",
       "                        <th> Bytes </th>\n",
       "                        <td> 1.31 GiB </td>\n",
       "                        <td> 4.67 MiB </td>\n",
       "                    </tr>\n",
       "                    \n",
       "                    <tr>\n",
       "                        <th> Shape </th>\n",
       "                        <td> (288, 5, 25, 81, 121) </td>\n",
       "                        <td> (1, 5, 25, 81, 121) </td>\n",
       "                    </tr>\n",
       "                    <tr>\n",
       "                        <th> Count </th>\n",
       "                        <td> 2016 Tasks </td>\n",
       "                        <td> 288 Chunks </td>\n",
       "                    </tr>\n",
       "                    <tr>\n",
       "                    <th> Type </th>\n",
       "                    <td> float32 </td>\n",
       "                    <td> numpy.ndarray </td>\n",
       "                    </tr>\n",
       "                </tbody>\n",
       "            </table>\n",
       "        </td>\n",
       "        <td>\n",
       "        <svg width=\"318\" height=\"170\" style=\"stroke:rgb(0,0,0);stroke-width:1\" >\n",
       "\n",
       "  <!-- Horizontal lines -->\n",
       "  <line x1=\"0\" y1=\"0\" x2=\"28\" y2=\"0\" style=\"stroke-width:2\" />\n",
       "  <line x1=\"0\" y1=\"3\" x2=\"28\" y2=\"3\" />\n",
       "  <line x1=\"0\" y1=\"7\" x2=\"28\" y2=\"7\" />\n",
       "  <line x1=\"0\" y1=\"11\" x2=\"28\" y2=\"11\" />\n",
       "  <line x1=\"0\" y1=\"15\" x2=\"28\" y2=\"15\" />\n",
       "  <line x1=\"0\" y1=\"18\" x2=\"28\" y2=\"18\" />\n",
       "  <line x1=\"0\" y1=\"22\" x2=\"28\" y2=\"22\" />\n",
       "  <line x1=\"0\" y1=\"26\" x2=\"28\" y2=\"26\" />\n",
       "  <line x1=\"0\" y1=\"30\" x2=\"28\" y2=\"30\" />\n",
       "  <line x1=\"0\" y1=\"33\" x2=\"28\" y2=\"33\" />\n",
       "  <line x1=\"0\" y1=\"37\" x2=\"28\" y2=\"37\" />\n",
       "  <line x1=\"0\" y1=\"41\" x2=\"28\" y2=\"41\" />\n",
       "  <line x1=\"0\" y1=\"45\" x2=\"28\" y2=\"45\" />\n",
       "  <line x1=\"0\" y1=\"48\" x2=\"28\" y2=\"48\" />\n",
       "  <line x1=\"0\" y1=\"52\" x2=\"28\" y2=\"52\" />\n",
       "  <line x1=\"0\" y1=\"56\" x2=\"28\" y2=\"56\" />\n",
       "  <line x1=\"0\" y1=\"60\" x2=\"28\" y2=\"60\" />\n",
       "  <line x1=\"0\" y1=\"63\" x2=\"28\" y2=\"63\" />\n",
       "  <line x1=\"0\" y1=\"67\" x2=\"28\" y2=\"67\" />\n",
       "  <line x1=\"0\" y1=\"71\" x2=\"28\" y2=\"71\" />\n",
       "  <line x1=\"0\" y1=\"75\" x2=\"28\" y2=\"75\" />\n",
       "  <line x1=\"0\" y1=\"78\" x2=\"28\" y2=\"78\" />\n",
       "  <line x1=\"0\" y1=\"82\" x2=\"28\" y2=\"82\" />\n",
       "  <line x1=\"0\" y1=\"86\" x2=\"28\" y2=\"86\" />\n",
       "  <line x1=\"0\" y1=\"90\" x2=\"28\" y2=\"90\" />\n",
       "  <line x1=\"0\" y1=\"93\" x2=\"28\" y2=\"93\" />\n",
       "  <line x1=\"0\" y1=\"97\" x2=\"28\" y2=\"97\" />\n",
       "  <line x1=\"0\" y1=\"101\" x2=\"28\" y2=\"101\" />\n",
       "  <line x1=\"0\" y1=\"105\" x2=\"28\" y2=\"105\" />\n",
       "  <line x1=\"0\" y1=\"108\" x2=\"28\" y2=\"108\" />\n",
       "  <line x1=\"0\" y1=\"112\" x2=\"28\" y2=\"112\" />\n",
       "  <line x1=\"0\" y1=\"116\" x2=\"28\" y2=\"116\" />\n",
       "  <line x1=\"0\" y1=\"120\" x2=\"28\" y2=\"120\" style=\"stroke-width:2\" />\n",
       "\n",
       "  <!-- Vertical lines -->\n",
       "  <line x1=\"0\" y1=\"0\" x2=\"0\" y2=\"120\" style=\"stroke-width:2\" />\n",
       "  <line x1=\"28\" y1=\"0\" x2=\"28\" y2=\"120\" style=\"stroke-width:2\" />\n",
       "\n",
       "  <!-- Colored Rectangle -->\n",
       "  <polygon points=\"0.0,0.0 28.24529466628642,0.0 28.24529466628642,120.0 0.0,120.0\" style=\"fill:#8B4903A0;stroke-width:0\"/>\n",
       "\n",
       "  <!-- Text -->\n",
       "  <text x=\"14.122647\" y=\"140.000000\" font-size=\"1.0rem\" font-weight=\"100\" text-anchor=\"middle\" >5</text>\n",
       "  <text x=\"48.245295\" y=\"60.000000\" font-size=\"1.0rem\" font-weight=\"100\" text-anchor=\"middle\" transform=\"rotate(-90,48.245295,60.000000)\">288</text>\n",
       "\n",
       "\n",
       "  <!-- Horizontal lines -->\n",
       "  <line x1=\"98\" y1=\"0\" x2=\"120\" y2=\"22\" style=\"stroke-width:2\" />\n",
       "  <line x1=\"98\" y1=\"43\" x2=\"120\" y2=\"65\" style=\"stroke-width:2\" />\n",
       "\n",
       "  <!-- Vertical lines -->\n",
       "  <line x1=\"98\" y1=\"0\" x2=\"98\" y2=\"43\" style=\"stroke-width:2\" />\n",
       "  <line x1=\"120\" y1=\"22\" x2=\"120\" y2=\"65\" style=\"stroke-width:2\" />\n",
       "\n",
       "  <!-- Colored Rectangle -->\n",
       "  <polygon points=\"98.0,0.0 120.23451140368037,22.234511403680372 120.23451140368037,65.55882842841854 98.0,43.324317024738164\" style=\"fill:#ECB172A0;stroke-width:0\"/>\n",
       "\n",
       "  <!-- Horizontal lines -->\n",
       "  <line x1=\"98\" y1=\"0\" x2=\"148\" y2=\"0\" style=\"stroke-width:2\" />\n",
       "  <line x1=\"120\" y1=\"22\" x2=\"170\" y2=\"22\" style=\"stroke-width:2\" />\n",
       "\n",
       "  <!-- Vertical lines -->\n",
       "  <line x1=\"98\" y1=\"0\" x2=\"120\" y2=\"22\" style=\"stroke-width:2\" />\n",
       "  <line x1=\"148\" y1=\"0\" x2=\"170\" y2=\"22\" style=\"stroke-width:2\" />\n",
       "\n",
       "  <!-- Colored Rectangle -->\n",
       "  <polygon points=\"98.0,0.0 148.41666666666666,0.0 170.65117807034704,22.234511403680372 120.23451140368037,22.234511403680372\" style=\"fill:#ECB172A0;stroke-width:0\"/>\n",
       "\n",
       "  <!-- Horizontal lines -->\n",
       "  <line x1=\"120\" y1=\"22\" x2=\"170\" y2=\"22\" style=\"stroke-width:2\" />\n",
       "  <line x1=\"120\" y1=\"65\" x2=\"170\" y2=\"65\" style=\"stroke-width:2\" />\n",
       "\n",
       "  <!-- Vertical lines -->\n",
       "  <line x1=\"120\" y1=\"22\" x2=\"120\" y2=\"65\" style=\"stroke-width:2\" />\n",
       "  <line x1=\"170\" y1=\"22\" x2=\"170\" y2=\"65\" style=\"stroke-width:2\" />\n",
       "\n",
       "  <!-- Colored Rectangle -->\n",
       "  <polygon points=\"120.23451140368037,22.234511403680372 170.65117807034704,22.234511403680372 170.65117807034704,65.55882842841854 120.23451140368037,65.55882842841854\" style=\"fill:#ECB172A0;stroke-width:0\"/>\n",
       "\n",
       "  <!-- Text -->\n",
       "  <text x=\"145.442845\" y=\"85.558828\" font-size=\"1.0rem\" font-weight=\"100\" text-anchor=\"middle\" >121</text>\n",
       "  <text x=\"190.651178\" y=\"43.896670\" font-size=\"1.0rem\" font-weight=\"100\" text-anchor=\"middle\" transform=\"rotate(0,190.651178,43.896670)\">81</text>\n",
       "  <text x=\"99.117256\" y=\"74.441573\" font-size=\"1.0rem\" font-weight=\"100\" text-anchor=\"middle\" transform=\"rotate(45,99.117256,74.441573)\">25</text>\n",
       "</svg>\n",
       "        </td>\n",
       "    </tr>\n",
       "</table></div></li></ul></div></li><li class='xr-section-item'><input id='section-ed5571ad-ea78-4d0d-b33c-8877465e68c6' class='xr-section-summary-in' type='checkbox'  checked><label for='section-ed5571ad-ea78-4d0d-b33c-8877465e68c6' class='xr-section-summary' >Attributes: <span>(2)</span></label><div class='xr-section-inline-details'></div><div class='xr-section-details'><dl class='xr-attrs'><dt><span>Conventions :</span></dt><dd>CF-1.6</dd><dt><span>history :</span></dt><dd>2022-01-17 01:17:57 GMT by grib_to_netcdf-2.23.0: /opt/ecmwf/mars-client/bin/grib_to_netcdf -S param -o /cache/data1/adaptor.mars.external-1642382276.9466605-27775-14-30783a04-fae7-4a73-a44d-11b9f52331a2.nc /cache/tmp/30783a04-fae7-4a73-a44d-11b9f52331a2-adaptor.mars.external-1642382272.8222916-27775-21-tmp.grib</dd></dl></div></li></ul></div></div>"
      ],
      "text/plain": [
       "<xarray.Dataset>\n",
       "Dimensions:  (time: 288, lon: 121, lat: 81, member: 25, step: 5)\n",
       "Coordinates:\n",
       "  * time     (time) datetime64[ns] 1993-01-01 1993-02-01 ... 2016-12-01\n",
       "  * lon      (lon) float32 120.0 121.0 122.0 123.0 ... 237.0 238.0 239.0 240.0\n",
       "  * lat      (lat) float32 -50.0 -49.0 -48.0 -47.0 -46.0 ... 27.0 28.0 29.0 30.0\n",
       "  * member   (member) int32 0 1 2 3 4 5 6 7 8 9 ... 16 17 18 19 20 21 22 23 24\n",
       "  * step     (step) int64 1 2 3 4 5\n",
       "Data variables:\n",
       "    tprate   (time, step, member, lat, lon) float32 dask.array<chunksize=(1, 5, 25, 81, 121), meta=np.ndarray>\n",
       "Attributes:\n",
       "    Conventions:  CF-1.6\n",
       "    history:      2022-01-17 01:17:57 GMT by grib_to_netcdf-2.23.0: /opt/ecmw..."
      ]
     },
     "execution_count": 26,
     "metadata": {},
     "output_type": "execute_result"
    }
   ],
   "source": [
    "dset"
   ]
  },
  {
   "cell_type": "markdown",
   "id": "d462983e-c166-4b90-a2cc-26b2f1e7d9cb",
   "metadata": {
    "papermill": {
     "duration": 0.07295,
     "end_time": "2022-03-14T04:08:05.946142",
     "exception": false,
     "start_time": "2022-03-14T04:08:05.873192",
     "status": "completed"
    },
    "tags": []
   },
   "source": [
    "### convert to monthly rainfall accumulations (mm/month)"
   ]
  },
  {
   "cell_type": "code",
   "execution_count": 27,
   "id": "6e725dd4-91d0-4246-8d00-6f604b1f489e",
   "metadata": {
    "papermill": {
     "duration": 0.094304,
     "end_time": "2022-03-14T04:08:06.114387",
     "exception": false,
     "start_time": "2022-03-14T04:08:06.020083",
     "status": "completed"
    },
    "tags": []
   },
   "outputs": [
    {
     "data": {
      "text/plain": [
       "{'units': 'm s**-1', 'long_name': 'Mean total precipitation rate'}"
      ]
     },
     "execution_count": 27,
     "metadata": {},
     "output_type": "execute_result"
    }
   ],
   "source": [
    "dset.tprate.attrs"
   ]
  },
  {
   "cell_type": "code",
   "execution_count": 28,
   "id": "67d42493-35a0-4658-ad1c-a6818fc91d2b",
   "metadata": {
    "papermill": {
     "duration": 0.133846,
     "end_time": "2022-03-14T04:08:06.323558",
     "exception": false,
     "start_time": "2022-03-14T04:08:06.189712",
     "status": "completed"
    },
    "tags": []
   },
   "outputs": [
    {
     "name": "stdout",
     "output_type": "stream",
     "text": [
      "\n",
      "unit is m s**-1, converting to mm/day\n",
      "\n",
      "now converting to mm/month, converted precipitation will be held in var = precip\n"
     ]
    }
   ],
   "source": [
    "dset = C3S.convert_rainfall(dset, varin='tprate', varout='precip', leadvar='step', timevar='time', dropvar=True)"
   ]
  },
  {
   "cell_type": "code",
   "execution_count": 29,
   "id": "4d15bffd-b6c1-49dc-ac3c-428e824a10ca",
   "metadata": {
    "papermill": {
     "duration": 0.096159,
     "end_time": "2022-03-14T04:08:06.495853",
     "exception": false,
     "start_time": "2022-03-14T04:08:06.399694",
     "status": "completed"
    },
    "tags": []
   },
   "outputs": [
    {
     "data": {
      "text/plain": [
       "<bound method Dataset.info of <xarray.Dataset>\n",
       "Dimensions:  (time: 288, lon: 121, lat: 81, member: 25, step: 5)\n",
       "Coordinates:\n",
       "  * time     (time) datetime64[ns] 1993-01-01 1993-02-01 ... 2016-12-01\n",
       "  * lon      (lon) float32 120.0 121.0 122.0 123.0 ... 237.0 238.0 239.0 240.0\n",
       "  * lat      (lat) float32 -50.0 -49.0 -48.0 -47.0 -46.0 ... 27.0 28.0 29.0 30.0\n",
       "  * member   (member) int32 0 1 2 3 4 5 6 7 8 9 ... 16 17 18 19 20 21 22 23 24\n",
       "  * step     (step) int64 1 2 3 4 5\n",
       "Data variables:\n",
       "    precip   (time, step, member, lat, lon) float64 dask.array<chunksize=(1, 5, 25, 81, 121), meta=np.ndarray>\n",
       "Attributes:\n",
       "    Conventions:  CF-1.6\n",
       "    history:      2022-01-17 01:17:57 GMT by grib_to_netcdf-2.23.0: /opt/ecmw...>"
      ]
     },
     "execution_count": 29,
     "metadata": {},
     "output_type": "execute_result"
    }
   ],
   "source": [
    "dset.info"
   ]
  },
  {
   "cell_type": "code",
   "execution_count": 30,
   "id": "5c7fe646-bfd6-417e-aaaa-8e0cb0b899c8",
   "metadata": {
    "papermill": {
     "duration": 0.094416,
     "end_time": "2022-03-14T04:08:06.668478",
     "exception": false,
     "start_time": "2022-03-14T04:08:06.574062",
     "status": "completed"
    },
    "tags": []
   },
   "outputs": [
    {
     "data": {
      "text/plain": [
       "{'units': 'mm/month'}"
      ]
     },
     "execution_count": 30,
     "metadata": {},
     "output_type": "execute_result"
    }
   ],
   "source": [
    "dset.precip.attrs"
   ]
  },
  {
   "cell_type": "markdown",
   "id": "fd7553f0-3ff3-46f3-bdcd-6e6f48f7abb7",
   "metadata": {
    "papermill": {
     "duration": 0.07506,
     "end_time": "2022-03-14T04:08:06.818500",
     "exception": false,
     "start_time": "2022-03-14T04:08:06.743440",
     "status": "completed"
    },
    "tags": []
   },
   "source": [
    "### make sure there are no negative values "
   ]
  },
  {
   "cell_type": "code",
   "execution_count": 31,
   "id": "48667708-24cc-4f51-ab18-3a75e2f28ccd",
   "metadata": {
    "papermill": {
     "duration": 0.095512,
     "end_time": "2022-03-14T04:08:06.989007",
     "exception": false,
     "start_time": "2022-03-14T04:08:06.893495",
     "status": "completed"
    },
    "tags": []
   },
   "outputs": [],
   "source": [
    "dset = dset.clip(min=0)"
   ]
  },
  {
   "cell_type": "markdown",
   "id": "a6dd054f-5e96-48e6-b935-80d9ea0f54a2",
   "metadata": {
    "papermill": {
     "duration": 0.075832,
     "end_time": "2022-03-14T04:08:07.140969",
     "exception": false,
     "start_time": "2022-03-14T04:08:07.065137",
     "status": "completed"
    },
    "tags": []
   },
   "source": [
    "### if the period is set to `seasonal`, calculates the seasonal accumulations "
   ]
  },
  {
   "cell_type": "code",
   "execution_count": 32,
   "id": "cc83f98c-909f-44bc-aa14-ef1778a747f5",
   "metadata": {
    "papermill": {
     "duration": 0.155277,
     "end_time": "2022-03-14T04:08:07.371296",
     "exception": false,
     "start_time": "2022-03-14T04:08:07.216019",
     "status": "completed"
    },
    "tags": []
   },
   "outputs": [],
   "source": [
    "if period == 'seasonal': \n",
    "    \n",
    "    dset = dset.rolling({'step':3}, min_periods=3).sum('step')\n",
    "    \n",
    "    dset = dset.sel({'step':slice(3, None)})"
   ]
  },
  {
   "cell_type": "code",
   "execution_count": 33,
   "id": "84f4203d-9b4b-4db5-b4a2-174be37b28c5",
   "metadata": {
    "papermill": {
     "duration": 0.101602,
     "end_time": "2022-03-14T04:08:07.548355",
     "exception": false,
     "start_time": "2022-03-14T04:08:07.446753",
     "status": "completed"
    },
    "tags": []
   },
   "outputs": [
    {
     "data": {
      "text/plain": [
       "<bound method Dataset.info of <xarray.Dataset>\n",
       "Dimensions:  (time: 288, lon: 121, lat: 81, member: 25, step: 3)\n",
       "Coordinates:\n",
       "  * time     (time) datetime64[ns] 1993-01-01 1993-02-01 ... 2016-12-01\n",
       "  * lon      (lon) float32 120.0 121.0 122.0 123.0 ... 237.0 238.0 239.0 240.0\n",
       "  * lat      (lat) float32 -50.0 -49.0 -48.0 -47.0 -46.0 ... 27.0 28.0 29.0 30.0\n",
       "  * member   (member) int32 0 1 2 3 4 5 6 7 8 9 ... 16 17 18 19 20 21 22 23 24\n",
       "  * step     (step) int64 3 4 5\n",
       "Data variables:\n",
       "    precip   (time, step, member, lat, lon) float64 dask.array<chunksize=(1, 3, 25, 81, 121), meta=np.ndarray>\n",
       "Attributes:\n",
       "    Conventions:  CF-1.6\n",
       "    history:      2022-01-17 01:17:57 GMT by grib_to_netcdf-2.23.0: /opt/ecmw...>"
      ]
     },
     "execution_count": 33,
     "metadata": {},
     "output_type": "execute_result"
    }
   ],
   "source": [
    "dset.info"
   ]
  },
  {
   "cell_type": "code",
   "execution_count": 34,
   "id": "7767765c-db31-418d-9f9e-f48bbe25459d",
   "metadata": {
    "papermill": {
     "duration": 0.096067,
     "end_time": "2022-03-14T04:08:07.720916",
     "exception": false,
     "start_time": "2022-03-14T04:08:07.624849",
     "status": "completed"
    },
    "tags": []
   },
   "outputs": [],
   "source": [
    "steps = dset.step.data"
   ]
  },
  {
   "cell_type": "code",
   "execution_count": 35,
   "id": "655853db-b42d-4b6d-8ae7-50ccfa91f8e6",
   "metadata": {
    "papermill": {
     "duration": 0.095499,
     "end_time": "2022-03-14T04:08:07.891877",
     "exception": false,
     "start_time": "2022-03-14T04:08:07.796378",
     "status": "completed"
    },
    "tags": []
   },
   "outputs": [
    {
     "data": {
      "text/plain": [
       "array([3, 4, 5])"
      ]
     },
     "execution_count": 35,
     "metadata": {},
     "output_type": "execute_result"
    }
   ],
   "source": [
    "steps"
   ]
  },
  {
   "cell_type": "markdown",
   "id": "5bc6e6d3-8b3e-4cf1-b217-961d2d1960ad",
   "metadata": {},
   "source": [
    "### read the csv "
   ]
  },
  {
   "cell_type": "code",
   "execution_count": 38,
   "id": "529455b3-6f47-48cb-a62e-a4493c8a0248",
   "metadata": {},
   "outputs": [],
   "source": [
    "countries_admin = pd.read_csv('/home/nicolasf/operational/ICU/development/hotspots/code/ICU_Water_Watch/outputs/admin/list_countries_admin.csv', index_col=0)"
   ]
  },
  {
   "cell_type": "code",
   "execution_count": 41,
   "id": "fd8616bc-809c-4798-9468-cc5863591816",
   "metadata": {},
   "outputs": [
    {
     "data": {
      "text/html": [
       "<div>\n",
       "<style scoped>\n",
       "    .dataframe tbody tr th:only-of-type {\n",
       "        vertical-align: middle;\n",
       "    }\n",
       "\n",
       "    .dataframe tbody tr th {\n",
       "        vertical-align: top;\n",
       "    }\n",
       "\n",
       "    .dataframe thead th {\n",
       "        text-align: right;\n",
       "    }\n",
       "</style>\n",
       "<table border=\"1\" class=\"dataframe\">\n",
       "  <thead>\n",
       "    <tr style=\"text-align: right;\">\n",
       "      <th></th>\n",
       "      <th>country</th>\n",
       "      <th>admin</th>\n",
       "    </tr>\n",
       "  </thead>\n",
       "  <tbody>\n",
       "    <tr>\n",
       "      <th>30</th>\n",
       "      <td>Fiji</td>\n",
       "      <td>Rotuma</td>\n",
       "    </tr>\n",
       "    <tr>\n",
       "      <th>31</th>\n",
       "      <td>Fiji</td>\n",
       "      <td>Northern</td>\n",
       "    </tr>\n",
       "    <tr>\n",
       "      <th>32</th>\n",
       "      <td>Fiji</td>\n",
       "      <td>Eastern</td>\n",
       "    </tr>\n",
       "    <tr>\n",
       "      <th>33</th>\n",
       "      <td>Fiji</td>\n",
       "      <td>Central</td>\n",
       "    </tr>\n",
       "    <tr>\n",
       "      <th>34</th>\n",
       "      <td>Fiji</td>\n",
       "      <td>Western</td>\n",
       "    </tr>\n",
       "  </tbody>\n",
       "</table>\n",
       "</div>"
      ],
      "text/plain": [
       "   country     admin\n",
       "30    Fiji    Rotuma\n",
       "31    Fiji  Northern\n",
       "32    Fiji   Eastern\n",
       "33    Fiji   Central\n",
       "34    Fiji   Western"
      ]
     },
     "execution_count": 41,
     "metadata": {},
     "output_type": "execute_result"
    }
   ],
   "source": [
    "countries_admin.query(\"country == 'Fiji'\")"
   ]
  },
  {
   "cell_type": "markdown",
   "id": "e706d158-4fac-426c-832f-27238db449c2",
   "metadata": {},
   "source": [
    "### reads the land sea mask for one country"
   ]
  },
  {
   "cell_type": "code",
   "execution_count": 45,
   "id": "dab5d1e7-5c1a-4e39-b822-c1a88e51f958",
   "metadata": {},
   "outputs": [],
   "source": [
    "lsmasks_path = pathlib.Path(HOME.joinpath('operational/ICU/development/hotspots/code/ICU_Water_Watch/outputs/admin/lsmasks/'))"
   ]
  },
  {
   "cell_type": "code",
   "execution_count": 143,
   "id": "de05651d-159e-4cb9-ab88-5dcaf91a1496",
   "metadata": {},
   "outputs": [],
   "source": [
    "for country in countries_admin['country'].unique(): \n",
    "    \n",
    "    df_sub = countries_admin.query(f\"country == '{country}'\")\n",
    "    \n",
    "    for admin in df_sub['admin'].unique(): \n",
    "        \n",
    "        lsmask = xr.open_dataset(lsmasks_path.joinpath(f\"landsea_mask_{country}_{admin}.nc\")) \n",
    "        \n",
    "        domain = [lsmask['mask'].attrs['lon_min'], \\\n",
    "            lsmask['mask'].attrs['lon_max'], \\\n",
    "            lsmask['mask'].attrs['lat_min'], \\\n",
    "            lsmask['mask'].attrs['lat_max']]\n",
    "        \n",
    "        dset_sub = dset.sel(lon=slice(*domain[:2]), lat=slice(*domain[2:]))\n",
    "        \n",
    "        dset_sub = utils.interp(dset_sub, interp_factor=5)\n",
    "        \n",
    "        gcm_domain = domains.get_domain(dset)\n",
    "        \n",
    "        dset_sub['mask'] = lsmask['mask']\n",
    "        \n",
    "        dset_sub['precip'] = dset_sub['precip'] * dset_sub['mask']\n",
    "        \n",
    "        dset_sub_reg = dset_sub.mean(['lat','lon'])\n",
    "        \n",
    "        with ProgressBar(): \n",
    "            \n",
    "            dset_sub_reg.load()\n",
    "            \n",
    "        if method == 'parametrized': \n",
    "    \n",
    "            clim_p = dset_sub_reg.groupby(dset_sub_reg.time.dt.month).apply(C3S.calc_parametrized_quantiles, \\\n",
    "                                                              **{'quantiles':dict_quantiles[quantiles], 'dims':('time','member')})\n",
    "        elif method == 'empirical': \n",
    "    \n",
    "            clim_p = dset_sub_reg.groupby(dset_sub_reg.time.dt.month).apply(C3S.calc_empirical_quantiles, \\\n",
    "                                                              **{'quantiles':dict_quantiles[quantiles], 'dims':('time','member')})\n",
    "        \n",
    "        \n",
    "        if not outputs_path.joinpath(\"climatologies\").exists(): \n",
    "    \n",
    "            outputs_path.joinpath(\"climatologies\").mkdir(parents=True)\n",
    "        \n",
    "        print(f\"saving {quantiles} climatology for {varname} {period} {GCM} {utils.sanitize_name(country)} {utils.sanitize_name(admin)} in {str(outputs_path.joinpath('climatologies'))}\")\n",
    "        \n",
    "        clim_p.to_netcdf(outputs_path.joinpath(\"climatologies\").joinpath(f\"{method}_{quantiles}_{varname}_{period}_{GCM}_{utils.sanitize_name(country)}_{utils.sanitize_name(admin)}.nc\"))\n",
    "        \n",
    "        dset_cat = []\n",
    "\n",
    "        for month in np.unique(dset_sub.time.dt.month): \n",
    "\n",
    "            x = dset_sub_reg.sel(time=(dset_sub_reg.time.dt.month == month))\n",
    "\n",
    "            # drop the missing members \n",
    "\n",
    "            x = x.dropna('member')\n",
    "\n",
    "            # digitize\n",
    "\n",
    "            qc = C3S.get_GCM_category_digitize(x, clim_p.sel(month=month), varname='precip', dim='quantile')\n",
    "\n",
    "            dset_cat.append(qc)\n",
    "        \n",
    "        dset_cat = xr.concat(dset_cat, dim='time')\n",
    "        \n",
    "        dset_cat = dset_cat.sortby('time')\n",
    "\n",
    "        quantiles_category_percent = C3S.calculate_quantiles_probabilities(dset_cat, ncategories=ncategories)\n",
    "        \n",
    "        if not outputs_path.joinpath(f\"hindcast_categories\").exists(): \n",
    "    \n",
    "            outputs_path.joinpath(f\"hindcast_categories\").mkdir()\n",
    "        \n",
    "        quantiles_category_percent.to_netcdf(outputs_path.joinpath(f\"hindcast_categories/{method}_{quantiles}_categories_probabilities_hindcast_{GCM}_{period}_{utils.sanitize_name(country)}_{utils.sanitize_name(admin)}.nc\"))\n",
    "        \n",
    "        df_quantile_probabilities = []\n",
    "\n",
    "        for step in steps: \n",
    "    \n",
    "            df = quantiles_category_percent.sel(step=step)['precip'].to_pandas().T\n",
    "\n",
    "            cols = pd.MultiIndex.from_product([[step], df.columns]) \n",
    "\n",
    "            df.columns = cols \n",
    "\n",
    "            df_quantile_probabilities.append(df)\n",
    "            \n",
    "        df_quantile_probabilities = pd.concat(df_quantile_probabilities, axis=1) \n",
    "        \n",
    "        df_quantile_probabilities.to_csv(outputs_path.joinpath(f\"hindcast_categories/{method}_{quantiles}_categories_probabilities_hindcast_{GCM}_{period}_{utils.sanitize_name(country)}_{utils.sanitize_name(admin)}.csv\"))\n",
    "        \n",
    "        dset_obs_sub = dset_obs.sel(lon=slice(*gcm_domain[:2]), lat=slice(*gcm_domain[2:]))\n",
    "        \n",
    "        if period == 'seasonal': \n",
    "    \n",
    "            dset_obs_sub = dset_obs_sub.rolling({\"time\":3}, min_periods=3, center=False).sum('time')\n",
    "    \n",
    "            dset_obs_sub = dset_obs_sub.isel(time=slice(2, None))\n",
    "        \n",
    "        dset_obs_sub = dset_obs_sub.interp_like(dset_sub[['lon','lat']])\n",
    "        \n",
    "        dset_obs_sub['mask'] = dset_sub['mask']\n",
    "        \n",
    "        dset_obs_sub['precip'] = dset_obs_sub['precip'] * dset_obs_sub['mask']\n",
    "        \n",
    "        dset_obs_sub = dset_obs_sub.expand_dims({'member':[1]})\n",
    "        \n",
    "        dset_obs_sub = dset_obs_sub[['precip']].mean(['lat','lon'])\n",
    "        \n",
    "        dset_obs_sub = dset_obs_sub.chunk({'member':-1, 'time':-1})\n",
    "        \n",
    "        with ProgressBar(): \n",
    "            \n",
    "            dset_obs_sub = dset_obs_sub.compute()\n",
    "            \n",
    "        if method == 'parametrized': \n",
    "    \n",
    "            clim_obs_p = dset_obs_sub.groupby(dset_obs_sub.time.dt.month).apply(C3S.calc_parametrized_quantiles, **{'quantiles':dict_quantiles[quantiles], 'dims':('time','member')})\n",
    "\n",
    "        elif method == 'empirical': \n",
    "    \n",
    "            clim_obs_p = dset_obs_sub.groupby(dset_obs_sub.time.dt.month).apply(C3S.calc_empirical_quantiles, **{'quantiles':dict_quantiles[quantiles], 'dims':('time','member')})\n",
    "        \n",
    "        dset_obs_cat = []\n",
    "\n",
    "        for month in np.unique(dset_obs_sub.time.dt.month): \n",
    "    \n",
    "            x = dset_obs_sub.sel(time=(dset_obs_sub.time.dt.month == month))\n",
    "\n",
    "            # digitize\n",
    "\n",
    "            qc = C3S.get_GCM_category_digitize(x, clim_obs_p.sel(month=month), varname='precip', dim='quantile')\n",
    "\n",
    "            dset_obs_cat.append(qc)\n",
    "            \n",
    "        dset_obs_cat = xr.concat(dset_obs_cat, dim='time')\n",
    "        \n",
    "        dset_obs_cat = dset_obs_cat.sortby('time')"
   ]
  },
  {
   "cell_type": "code",
   "execution_count": 131,
   "id": "b74ae45a-d6dd-4597-8389-6f41a308c5b5",
   "metadata": {
    "papermill": {
     "duration": null,
     "end_time": null,
     "exception": null,
     "start_time": null,
     "status": "pending"
    },
    "tags": []
   },
   "outputs": [
    {
     "data": {
      "text/html": [
       "<div><svg style=\"position: absolute; width: 0; height: 0; overflow: hidden\">\n",
       "<defs>\n",
       "<symbol id=\"icon-database\" viewBox=\"0 0 32 32\">\n",
       "<path d=\"M16 0c-8.837 0-16 2.239-16 5v4c0 2.761 7.163 5 16 5s16-2.239 16-5v-4c0-2.761-7.163-5-16-5z\"></path>\n",
       "<path d=\"M16 17c-8.837 0-16-2.239-16-5v6c0 2.761 7.163 5 16 5s16-2.239 16-5v-6c0 2.761-7.163 5-16 5z\"></path>\n",
       "<path d=\"M16 26c-8.837 0-16-2.239-16-5v6c0 2.761 7.163 5 16 5s16-2.239 16-5v-6c0 2.761-7.163 5-16 5z\"></path>\n",
       "</symbol>\n",
       "<symbol id=\"icon-file-text2\" viewBox=\"0 0 32 32\">\n",
       "<path d=\"M28.681 7.159c-0.694-0.947-1.662-2.053-2.724-3.116s-2.169-2.030-3.116-2.724c-1.612-1.182-2.393-1.319-2.841-1.319h-15.5c-1.378 0-2.5 1.121-2.5 2.5v27c0 1.378 1.122 2.5 2.5 2.5h23c1.378 0 2.5-1.122 2.5-2.5v-19.5c0-0.448-0.137-1.23-1.319-2.841zM24.543 5.457c0.959 0.959 1.712 1.825 2.268 2.543h-4.811v-4.811c0.718 0.556 1.584 1.309 2.543 2.268zM28 29.5c0 0.271-0.229 0.5-0.5 0.5h-23c-0.271 0-0.5-0.229-0.5-0.5v-27c0-0.271 0.229-0.5 0.5-0.5 0 0 15.499-0 15.5 0v7c0 0.552 0.448 1 1 1h7v19.5z\"></path>\n",
       "<path d=\"M23 26h-14c-0.552 0-1-0.448-1-1s0.448-1 1-1h14c0.552 0 1 0.448 1 1s-0.448 1-1 1z\"></path>\n",
       "<path d=\"M23 22h-14c-0.552 0-1-0.448-1-1s0.448-1 1-1h14c0.552 0 1 0.448 1 1s-0.448 1-1 1z\"></path>\n",
       "<path d=\"M23 18h-14c-0.552 0-1-0.448-1-1s0.448-1 1-1h14c0.552 0 1 0.448 1 1s-0.448 1-1 1z\"></path>\n",
       "</symbol>\n",
       "</defs>\n",
       "</svg>\n",
       "<style>/* CSS stylesheet for displaying xarray objects in jupyterlab.\n",
       " *\n",
       " */\n",
       "\n",
       ":root {\n",
       "  --xr-font-color0: var(--jp-content-font-color0, rgba(0, 0, 0, 1));\n",
       "  --xr-font-color2: var(--jp-content-font-color2, rgba(0, 0, 0, 0.54));\n",
       "  --xr-font-color3: var(--jp-content-font-color3, rgba(0, 0, 0, 0.38));\n",
       "  --xr-border-color: var(--jp-border-color2, #e0e0e0);\n",
       "  --xr-disabled-color: var(--jp-layout-color3, #bdbdbd);\n",
       "  --xr-background-color: var(--jp-layout-color0, white);\n",
       "  --xr-background-color-row-even: var(--jp-layout-color1, white);\n",
       "  --xr-background-color-row-odd: var(--jp-layout-color2, #eeeeee);\n",
       "}\n",
       "\n",
       "html[theme=dark],\n",
       "body.vscode-dark {\n",
       "  --xr-font-color0: rgba(255, 255, 255, 1);\n",
       "  --xr-font-color2: rgba(255, 255, 255, 0.54);\n",
       "  --xr-font-color3: rgba(255, 255, 255, 0.38);\n",
       "  --xr-border-color: #1F1F1F;\n",
       "  --xr-disabled-color: #515151;\n",
       "  --xr-background-color: #111111;\n",
       "  --xr-background-color-row-even: #111111;\n",
       "  --xr-background-color-row-odd: #313131;\n",
       "}\n",
       "\n",
       ".xr-wrap {\n",
       "  display: block !important;\n",
       "  min-width: 300px;\n",
       "  max-width: 700px;\n",
       "}\n",
       "\n",
       ".xr-text-repr-fallback {\n",
       "  /* fallback to plain text repr when CSS is not injected (untrusted notebook) */\n",
       "  display: none;\n",
       "}\n",
       "\n",
       ".xr-header {\n",
       "  padding-top: 6px;\n",
       "  padding-bottom: 6px;\n",
       "  margin-bottom: 4px;\n",
       "  border-bottom: solid 1px var(--xr-border-color);\n",
       "}\n",
       "\n",
       ".xr-header > div,\n",
       ".xr-header > ul {\n",
       "  display: inline;\n",
       "  margin-top: 0;\n",
       "  margin-bottom: 0;\n",
       "}\n",
       "\n",
       ".xr-obj-type,\n",
       ".xr-array-name {\n",
       "  margin-left: 2px;\n",
       "  margin-right: 10px;\n",
       "}\n",
       "\n",
       ".xr-obj-type {\n",
       "  color: var(--xr-font-color2);\n",
       "}\n",
       "\n",
       ".xr-sections {\n",
       "  padding-left: 0 !important;\n",
       "  display: grid;\n",
       "  grid-template-columns: 150px auto auto 1fr 20px 20px;\n",
       "}\n",
       "\n",
       ".xr-section-item {\n",
       "  display: contents;\n",
       "}\n",
       "\n",
       ".xr-section-item input {\n",
       "  display: none;\n",
       "}\n",
       "\n",
       ".xr-section-item input + label {\n",
       "  color: var(--xr-disabled-color);\n",
       "}\n",
       "\n",
       ".xr-section-item input:enabled + label {\n",
       "  cursor: pointer;\n",
       "  color: var(--xr-font-color2);\n",
       "}\n",
       "\n",
       ".xr-section-item input:enabled + label:hover {\n",
       "  color: var(--xr-font-color0);\n",
       "}\n",
       "\n",
       ".xr-section-summary {\n",
       "  grid-column: 1;\n",
       "  color: var(--xr-font-color2);\n",
       "  font-weight: 500;\n",
       "}\n",
       "\n",
       ".xr-section-summary > span {\n",
       "  display: inline-block;\n",
       "  padding-left: 0.5em;\n",
       "}\n",
       "\n",
       ".xr-section-summary-in:disabled + label {\n",
       "  color: var(--xr-font-color2);\n",
       "}\n",
       "\n",
       ".xr-section-summary-in + label:before {\n",
       "  display: inline-block;\n",
       "  content: '►';\n",
       "  font-size: 11px;\n",
       "  width: 15px;\n",
       "  text-align: center;\n",
       "}\n",
       "\n",
       ".xr-section-summary-in:disabled + label:before {\n",
       "  color: var(--xr-disabled-color);\n",
       "}\n",
       "\n",
       ".xr-section-summary-in:checked + label:before {\n",
       "  content: '▼';\n",
       "}\n",
       "\n",
       ".xr-section-summary-in:checked + label > span {\n",
       "  display: none;\n",
       "}\n",
       "\n",
       ".xr-section-summary,\n",
       ".xr-section-inline-details {\n",
       "  padding-top: 4px;\n",
       "  padding-bottom: 4px;\n",
       "}\n",
       "\n",
       ".xr-section-inline-details {\n",
       "  grid-column: 2 / -1;\n",
       "}\n",
       "\n",
       ".xr-section-details {\n",
       "  display: none;\n",
       "  grid-column: 1 / -1;\n",
       "  margin-bottom: 5px;\n",
       "}\n",
       "\n",
       ".xr-section-summary-in:checked ~ .xr-section-details {\n",
       "  display: contents;\n",
       "}\n",
       "\n",
       ".xr-array-wrap {\n",
       "  grid-column: 1 / -1;\n",
       "  display: grid;\n",
       "  grid-template-columns: 20px auto;\n",
       "}\n",
       "\n",
       ".xr-array-wrap > label {\n",
       "  grid-column: 1;\n",
       "  vertical-align: top;\n",
       "}\n",
       "\n",
       ".xr-preview {\n",
       "  color: var(--xr-font-color3);\n",
       "}\n",
       "\n",
       ".xr-array-preview,\n",
       ".xr-array-data {\n",
       "  padding: 0 5px !important;\n",
       "  grid-column: 2;\n",
       "}\n",
       "\n",
       ".xr-array-data,\n",
       ".xr-array-in:checked ~ .xr-array-preview {\n",
       "  display: none;\n",
       "}\n",
       "\n",
       ".xr-array-in:checked ~ .xr-array-data,\n",
       ".xr-array-preview {\n",
       "  display: inline-block;\n",
       "}\n",
       "\n",
       ".xr-dim-list {\n",
       "  display: inline-block !important;\n",
       "  list-style: none;\n",
       "  padding: 0 !important;\n",
       "  margin: 0;\n",
       "}\n",
       "\n",
       ".xr-dim-list li {\n",
       "  display: inline-block;\n",
       "  padding: 0;\n",
       "  margin: 0;\n",
       "}\n",
       "\n",
       ".xr-dim-list:before {\n",
       "  content: '(';\n",
       "}\n",
       "\n",
       ".xr-dim-list:after {\n",
       "  content: ')';\n",
       "}\n",
       "\n",
       ".xr-dim-list li:not(:last-child):after {\n",
       "  content: ',';\n",
       "  padding-right: 5px;\n",
       "}\n",
       "\n",
       ".xr-has-index {\n",
       "  font-weight: bold;\n",
       "}\n",
       "\n",
       ".xr-var-list,\n",
       ".xr-var-item {\n",
       "  display: contents;\n",
       "}\n",
       "\n",
       ".xr-var-item > div,\n",
       ".xr-var-item label,\n",
       ".xr-var-item > .xr-var-name span {\n",
       "  background-color: var(--xr-background-color-row-even);\n",
       "  margin-bottom: 0;\n",
       "}\n",
       "\n",
       ".xr-var-item > .xr-var-name:hover span {\n",
       "  padding-right: 5px;\n",
       "}\n",
       "\n",
       ".xr-var-list > li:nth-child(odd) > div,\n",
       ".xr-var-list > li:nth-child(odd) > label,\n",
       ".xr-var-list > li:nth-child(odd) > .xr-var-name span {\n",
       "  background-color: var(--xr-background-color-row-odd);\n",
       "}\n",
       "\n",
       ".xr-var-name {\n",
       "  grid-column: 1;\n",
       "}\n",
       "\n",
       ".xr-var-dims {\n",
       "  grid-column: 2;\n",
       "}\n",
       "\n",
       ".xr-var-dtype {\n",
       "  grid-column: 3;\n",
       "  text-align: right;\n",
       "  color: var(--xr-font-color2);\n",
       "}\n",
       "\n",
       ".xr-var-preview {\n",
       "  grid-column: 4;\n",
       "}\n",
       "\n",
       ".xr-var-name,\n",
       ".xr-var-dims,\n",
       ".xr-var-dtype,\n",
       ".xr-preview,\n",
       ".xr-attrs dt {\n",
       "  white-space: nowrap;\n",
       "  overflow: hidden;\n",
       "  text-overflow: ellipsis;\n",
       "  padding-right: 10px;\n",
       "}\n",
       "\n",
       ".xr-var-name:hover,\n",
       ".xr-var-dims:hover,\n",
       ".xr-var-dtype:hover,\n",
       ".xr-attrs dt:hover {\n",
       "  overflow: visible;\n",
       "  width: auto;\n",
       "  z-index: 1;\n",
       "}\n",
       "\n",
       ".xr-var-attrs,\n",
       ".xr-var-data {\n",
       "  display: none;\n",
       "  background-color: var(--xr-background-color) !important;\n",
       "  padding-bottom: 5px !important;\n",
       "}\n",
       "\n",
       ".xr-var-attrs-in:checked ~ .xr-var-attrs,\n",
       ".xr-var-data-in:checked ~ .xr-var-data {\n",
       "  display: block;\n",
       "}\n",
       "\n",
       ".xr-var-data > table {\n",
       "  float: right;\n",
       "}\n",
       "\n",
       ".xr-var-name span,\n",
       ".xr-var-data,\n",
       ".xr-attrs {\n",
       "  padding-left: 25px !important;\n",
       "}\n",
       "\n",
       ".xr-attrs,\n",
       ".xr-var-attrs,\n",
       ".xr-var-data {\n",
       "  grid-column: 1 / -1;\n",
       "}\n",
       "\n",
       "dl.xr-attrs {\n",
       "  padding: 0;\n",
       "  margin: 0;\n",
       "  display: grid;\n",
       "  grid-template-columns: 125px auto;\n",
       "}\n",
       "\n",
       ".xr-attrs dt,\n",
       ".xr-attrs dd {\n",
       "  padding: 0;\n",
       "  margin: 0;\n",
       "  float: left;\n",
       "  padding-right: 10px;\n",
       "  width: auto;\n",
       "}\n",
       "\n",
       ".xr-attrs dt {\n",
       "  font-weight: normal;\n",
       "  grid-column: 1;\n",
       "}\n",
       "\n",
       ".xr-attrs dt:hover span {\n",
       "  display: inline-block;\n",
       "  background: var(--xr-background-color);\n",
       "  padding-right: 10px;\n",
       "}\n",
       "\n",
       ".xr-attrs dd {\n",
       "  grid-column: 2;\n",
       "  white-space: pre-wrap;\n",
       "  word-break: break-all;\n",
       "}\n",
       "\n",
       ".xr-icon-database,\n",
       ".xr-icon-file-text2 {\n",
       "  display: inline-block;\n",
       "  vertical-align: middle;\n",
       "  width: 1em;\n",
       "  height: 1.5em !important;\n",
       "  stroke-width: 0;\n",
       "  stroke: currentColor;\n",
       "  fill: currentColor;\n",
       "}\n",
       "</style><pre class='xr-text-repr-fallback'>&lt;xarray.Dataset&gt;\n",
       "Dimensions:  (member: 1, time: 286)\n",
       "Coordinates:\n",
       "  * member   (member) int64 1\n",
       "  * time     (time) datetime64[ns] 1993-03-01 1993-04-01 ... 2016-12-01\n",
       "    month    (time) int64 3 4 5 6 7 8 9 10 11 12 1 ... 2 3 4 5 6 7 8 9 10 11 12\n",
       "Data variables:\n",
       "    precip   (member, time) int64 2 1 2 2 2 2 2 2 1 1 2 ... 1 3 3 3 1 4 4 4 3 4</pre><div class='xr-wrap' style='display:none'><div class='xr-header'><div class='xr-obj-type'>xarray.Dataset</div></div><ul class='xr-sections'><li class='xr-section-item'><input id='section-1fd7f163-9cd8-4f8e-91d4-967ad4345921' class='xr-section-summary-in' type='checkbox' disabled ><label for='section-1fd7f163-9cd8-4f8e-91d4-967ad4345921' class='xr-section-summary'  title='Expand/collapse section'>Dimensions:</label><div class='xr-section-inline-details'><ul class='xr-dim-list'><li><span class='xr-has-index'>member</span>: 1</li><li><span class='xr-has-index'>time</span>: 286</li></ul></div><div class='xr-section-details'></div></li><li class='xr-section-item'><input id='section-8c74bd61-afb5-4ab3-8630-4dce210ca788' class='xr-section-summary-in' type='checkbox'  checked><label for='section-8c74bd61-afb5-4ab3-8630-4dce210ca788' class='xr-section-summary' >Coordinates: <span>(3)</span></label><div class='xr-section-inline-details'></div><div class='xr-section-details'><ul class='xr-var-list'><li class='xr-var-item'><div class='xr-var-name'><span class='xr-has-index'>member</span></div><div class='xr-var-dims'>(member)</div><div class='xr-var-dtype'>int64</div><div class='xr-var-preview xr-preview'>1</div><input id='attrs-dff5fa45-01b2-409e-991b-3bd8fab5b684' class='xr-var-attrs-in' type='checkbox' disabled><label for='attrs-dff5fa45-01b2-409e-991b-3bd8fab5b684' title='Show/Hide attributes'><svg class='icon xr-icon-file-text2'><use xlink:href='#icon-file-text2'></use></svg></label><input id='data-d24c800c-3e71-43b4-bcd4-22a0c80d86e9' class='xr-var-data-in' type='checkbox'><label for='data-d24c800c-3e71-43b4-bcd4-22a0c80d86e9' title='Show/Hide data repr'><svg class='icon xr-icon-database'><use xlink:href='#icon-database'></use></svg></label><div class='xr-var-attrs'><dl class='xr-attrs'></dl></div><div class='xr-var-data'><pre>array([1])</pre></div></li><li class='xr-var-item'><div class='xr-var-name'><span class='xr-has-index'>time</span></div><div class='xr-var-dims'>(time)</div><div class='xr-var-dtype'>datetime64[ns]</div><div class='xr-var-preview xr-preview'>1993-03-01 ... 2016-12-01</div><input id='attrs-105ddd77-2eaa-453f-8f91-ed7d69b88c95' class='xr-var-attrs-in' type='checkbox' disabled><label for='attrs-105ddd77-2eaa-453f-8f91-ed7d69b88c95' title='Show/Hide attributes'><svg class='icon xr-icon-file-text2'><use xlink:href='#icon-file-text2'></use></svg></label><input id='data-90765962-057f-4e50-96fc-ddef29aa27d5' class='xr-var-data-in' type='checkbox'><label for='data-90765962-057f-4e50-96fc-ddef29aa27d5' title='Show/Hide data repr'><svg class='icon xr-icon-database'><use xlink:href='#icon-database'></use></svg></label><div class='xr-var-attrs'><dl class='xr-attrs'></dl></div><div class='xr-var-data'><pre>array([&#x27;1993-03-01T00:00:00.000000000&#x27;, &#x27;1993-04-01T00:00:00.000000000&#x27;,\n",
       "       &#x27;1993-05-01T00:00:00.000000000&#x27;, ..., &#x27;2016-10-01T00:00:00.000000000&#x27;,\n",
       "       &#x27;2016-11-01T00:00:00.000000000&#x27;, &#x27;2016-12-01T00:00:00.000000000&#x27;],\n",
       "      dtype=&#x27;datetime64[ns]&#x27;)</pre></div></li><li class='xr-var-item'><div class='xr-var-name'><span>month</span></div><div class='xr-var-dims'>(time)</div><div class='xr-var-dtype'>int64</div><div class='xr-var-preview xr-preview'>3 4 5 6 7 8 9 ... 6 7 8 9 10 11 12</div><input id='attrs-7024ab8d-d8bf-46a8-beaf-08ddb8d71ac3' class='xr-var-attrs-in' type='checkbox' disabled><label for='attrs-7024ab8d-d8bf-46a8-beaf-08ddb8d71ac3' title='Show/Hide attributes'><svg class='icon xr-icon-file-text2'><use xlink:href='#icon-file-text2'></use></svg></label><input id='data-25f97243-a9a9-4684-bcb5-430aff011d92' class='xr-var-data-in' type='checkbox'><label for='data-25f97243-a9a9-4684-bcb5-430aff011d92' title='Show/Hide data repr'><svg class='icon xr-icon-database'><use xlink:href='#icon-database'></use></svg></label><div class='xr-var-attrs'><dl class='xr-attrs'></dl></div><div class='xr-var-data'><pre>array([ 3,  4,  5,  6,  7,  8,  9, 10, 11, 12,  1,  2,  3,  4,  5,  6,  7,\n",
       "        8,  9, 10, 11, 12,  1,  2,  3,  4,  5,  6,  7,  8,  9, 10, 11, 12,\n",
       "        1,  2,  3,  4,  5,  6,  7,  8,  9, 10, 11, 12,  1,  2,  3,  4,  5,\n",
       "        6,  7,  8,  9, 10, 11, 12,  1,  2,  3,  4,  5,  6,  7,  8,  9, 10,\n",
       "       11, 12,  1,  2,  3,  4,  5,  6,  7,  8,  9, 10, 11, 12,  1,  2,  3,\n",
       "        4,  5,  6,  7,  8,  9, 10, 11, 12,  1,  2,  3,  4,  5,  6,  7,  8,\n",
       "        9, 10, 11, 12,  1,  2,  3,  4,  5,  6,  7,  8,  9, 10, 11, 12,  1,\n",
       "        2,  3,  4,  5,  6,  7,  8,  9, 10, 11, 12,  1,  2,  3,  4,  5,  6,\n",
       "        7,  8,  9, 10, 11, 12,  1,  2,  3,  4,  5,  6,  7,  8,  9, 10, 11,\n",
       "       12,  1,  2,  3,  4,  5,  6,  7,  8,  9, 10, 11, 12,  1,  2,  3,  4,\n",
       "        5,  6,  7,  8,  9, 10, 11, 12,  1,  2,  3,  4,  5,  6,  7,  8,  9,\n",
       "       10, 11, 12,  1,  2,  3,  4,  5,  6,  7,  8,  9, 10, 11, 12,  1,  2,\n",
       "        3,  4,  5,  6,  7,  8,  9, 10, 11, 12,  1,  2,  3,  4,  5,  6,  7,\n",
       "        8,  9, 10, 11, 12,  1,  2,  3,  4,  5,  6,  7,  8,  9, 10, 11, 12,\n",
       "        1,  2,  3,  4,  5,  6,  7,  8,  9, 10, 11, 12,  1,  2,  3,  4,  5,\n",
       "        6,  7,  8,  9, 10, 11, 12,  1,  2,  3,  4,  5,  6,  7,  8,  9, 10,\n",
       "       11, 12,  1,  2,  3,  4,  5,  6,  7,  8,  9, 10, 11, 12])</pre></div></li></ul></div></li><li class='xr-section-item'><input id='section-d3541428-cf8b-4424-b5ee-a393508c6968' class='xr-section-summary-in' type='checkbox'  checked><label for='section-d3541428-cf8b-4424-b5ee-a393508c6968' class='xr-section-summary' >Data variables: <span>(1)</span></label><div class='xr-section-inline-details'></div><div class='xr-section-details'><ul class='xr-var-list'><li class='xr-var-item'><div class='xr-var-name'><span>precip</span></div><div class='xr-var-dims'>(member, time)</div><div class='xr-var-dtype'>int64</div><div class='xr-var-preview xr-preview'>2 1 2 2 2 2 2 2 ... 3 3 1 4 4 4 3 4</div><input id='attrs-bc9f2b99-0093-4b3d-959c-5214f380ce1b' class='xr-var-attrs-in' type='checkbox' disabled><label for='attrs-bc9f2b99-0093-4b3d-959c-5214f380ce1b' title='Show/Hide attributes'><svg class='icon xr-icon-file-text2'><use xlink:href='#icon-file-text2'></use></svg></label><input id='data-3b2273ed-a037-4805-8b51-4fd0260a2ac4' class='xr-var-data-in' type='checkbox'><label for='data-3b2273ed-a037-4805-8b51-4fd0260a2ac4' title='Show/Hide data repr'><svg class='icon xr-icon-database'><use xlink:href='#icon-database'></use></svg></label><div class='xr-var-attrs'><dl class='xr-attrs'></dl></div><div class='xr-var-data'><pre>array([[2, 1, 2, 2, 2, 2, 2, 2, 1, 1, 2, 2, 2, 2, 1, 1, 2, 1, 1, 1, 1, 1,\n",
       "        2, 1, 2, 1, 1, 1, 2, 2, 3, 2, 2, 1, 2, 2, 2, 1, 3, 4, 4, 4, 1, 1,\n",
       "        2, 2, 3, 3, 4, 4, 4, 4, 4, 3, 3, 2, 1, 1, 1, 1, 1, 1, 1, 1, 1, 1,\n",
       "        1, 1, 2, 2, 3, 4, 4, 3, 4, 4, 3, 4, 4, 4, 4, 4, 4, 4, 4, 4, 4, 3,\n",
       "        4, 3, 3, 2, 3, 4, 4, 3, 3, 3, 2, 2, 2, 3, 2, 2, 1, 2, 1, 3, 3, 4,\n",
       "        2, 3, 3, 3, 4, 3, 3, 2, 2, 1, 2, 2, 3, 2, 2, 1, 1, 1, 1, 3, 1, 2,\n",
       "        1, 3, 2, 4, 4, 4, 4, 2, 1, 1, 2, 1, 1, 2, 2, 3, 3, 4, 3, 3, 3, 3,\n",
       "        3, 2, 1, 1, 1, 1, 1, 2, 2, 4, 3, 2, 1, 2, 3, 4, 4, 3, 1, 1, 3, 4,\n",
       "        4, 4, 4, 4, 4, 2, 3, 4, 4, 4, 2, 1, 3, 3, 4, 4, 4, 3, 4, 2, 3, 3,\n",
       "        4, 3, 2, 1, 1, 1, 1, 2, 2, 2, 1, 1, 1, 3, 4, 4, 4, 4, 3, 3, 3, 3,\n",
       "        4, 3, 3, 4, 4, 4, 4, 4, 4, 4, 4, 4, 3, 2, 4, 4, 4, 3, 3, 3, 3, 4,\n",
       "        3, 2, 3, 2, 2, 3, 4, 3, 3, 3, 3, 2, 1, 1, 2, 1, 1, 1, 2, 3, 3, 3,\n",
       "        2, 1, 1, 1, 1, 2, 2, 3, 2, 2, 1, 1, 1, 3, 3, 3, 1, 4, 4, 4, 3, 4]])</pre></div></li></ul></div></li><li class='xr-section-item'><input id='section-7681bf84-ee4d-4b96-8bd5-a619eb47184f' class='xr-section-summary-in' type='checkbox' disabled ><label for='section-7681bf84-ee4d-4b96-8bd5-a619eb47184f' class='xr-section-summary'  title='Expand/collapse section'>Attributes: <span>(0)</span></label><div class='xr-section-inline-details'></div><div class='xr-section-details'><dl class='xr-attrs'></dl></div></li></ul></div></div>"
      ],
      "text/plain": [
       "<xarray.Dataset>\n",
       "Dimensions:  (member: 1, time: 286)\n",
       "Coordinates:\n",
       "  * member   (member) int64 1\n",
       "  * time     (time) datetime64[ns] 1993-03-01 1993-04-01 ... 2016-12-01\n",
       "    month    (time) int64 3 4 5 6 7 8 9 10 11 12 1 ... 2 3 4 5 6 7 8 9 10 11 12\n",
       "Data variables:\n",
       "    precip   (member, time) int64 2 1 2 2 2 2 2 2 1 1 2 ... 1 3 3 3 1 4 4 4 3 4"
      ]
     },
     "execution_count": 131,
     "metadata": {},
     "output_type": "execute_result"
    }
   ],
   "source": [
    "dset_obs_cat"
   ]
  },
  {
   "cell_type": "code",
   "execution_count": 132,
   "id": "c1bfe670-54f1-4342-a751-c5e6c3cea19e",
   "metadata": {
    "papermill": {
     "duration": null,
     "end_time": null,
     "exception": null,
     "start_time": null,
     "status": "pending"
    },
    "tags": []
   },
   "outputs": [],
   "source": [
    "dset_obs_cat = dset_obs_cat.squeeze()['precip'].to_pandas()"
   ]
  },
  {
   "cell_type": "code",
   "execution_count": 133,
   "id": "ae312336-06fb-41d8-ad07-5e0c79f3f952",
   "metadata": {
    "papermill": {
     "duration": null,
     "end_time": null,
     "exception": null,
     "start_time": null,
     "status": "pending"
    },
    "tags": []
   },
   "outputs": [
    {
     "data": {
      "text/plain": [
       "time\n",
       "1993-03-01    2\n",
       "1993-04-01    1\n",
       "1993-05-01    2\n",
       "1993-06-01    2\n",
       "1993-07-01    2\n",
       "             ..\n",
       "2016-08-01    4\n",
       "2016-09-01    4\n",
       "2016-10-01    4\n",
       "2016-11-01    3\n",
       "2016-12-01    4\n",
       "Length: 286, dtype: int64"
      ]
     },
     "execution_count": 133,
     "metadata": {},
     "output_type": "execute_result"
    }
   ],
   "source": [
    "dset_obs_cat"
   ]
  },
  {
   "cell_type": "code",
   "execution_count": 134,
   "id": "e979d127-a5bf-48ee-8e6d-7ab1efe2fc49",
   "metadata": {
    "papermill": {
     "duration": null,
     "end_time": null,
     "exception": null,
     "start_time": null,
     "status": "pending"
    },
    "tags": []
   },
   "outputs": [
    {
     "data": {
      "text/html": [
       "<div>\n",
       "<style scoped>\n",
       "    .dataframe tbody tr th:only-of-type {\n",
       "        vertical-align: middle;\n",
       "    }\n",
       "\n",
       "    .dataframe tbody tr th {\n",
       "        vertical-align: top;\n",
       "    }\n",
       "\n",
       "    .dataframe thead tr th {\n",
       "        text-align: left;\n",
       "    }\n",
       "\n",
       "    .dataframe thead tr:last-of-type th {\n",
       "        text-align: right;\n",
       "    }\n",
       "</style>\n",
       "<table border=\"1\" class=\"dataframe\">\n",
       "  <thead>\n",
       "    <tr>\n",
       "      <th></th>\n",
       "      <th colspan=\"4\" halign=\"left\">3</th>\n",
       "      <th colspan=\"4\" halign=\"left\">4</th>\n",
       "      <th colspan=\"4\" halign=\"left\">5</th>\n",
       "    </tr>\n",
       "    <tr>\n",
       "      <th>quartile</th>\n",
       "      <th>1</th>\n",
       "      <th>2</th>\n",
       "      <th>3</th>\n",
       "      <th>4</th>\n",
       "      <th>1</th>\n",
       "      <th>2</th>\n",
       "      <th>3</th>\n",
       "      <th>4</th>\n",
       "      <th>1</th>\n",
       "      <th>2</th>\n",
       "      <th>3</th>\n",
       "      <th>4</th>\n",
       "    </tr>\n",
       "    <tr>\n",
       "      <th>time</th>\n",
       "      <th></th>\n",
       "      <th></th>\n",
       "      <th></th>\n",
       "      <th></th>\n",
       "      <th></th>\n",
       "      <th></th>\n",
       "      <th></th>\n",
       "      <th></th>\n",
       "      <th></th>\n",
       "      <th></th>\n",
       "      <th></th>\n",
       "      <th></th>\n",
       "    </tr>\n",
       "  </thead>\n",
       "  <tbody>\n",
       "    <tr>\n",
       "      <th>1993-01-01</th>\n",
       "      <td>52.0</td>\n",
       "      <td>16.0</td>\n",
       "      <td>24.0</td>\n",
       "      <td>8.0</td>\n",
       "      <td>48.0</td>\n",
       "      <td>16.0</td>\n",
       "      <td>20.0</td>\n",
       "      <td>16.0</td>\n",
       "      <td>48.0</td>\n",
       "      <td>20.0</td>\n",
       "      <td>24.0</td>\n",
       "      <td>8.0</td>\n",
       "    </tr>\n",
       "    <tr>\n",
       "      <th>1993-02-01</th>\n",
       "      <td>36.0</td>\n",
       "      <td>44.0</td>\n",
       "      <td>16.0</td>\n",
       "      <td>4.0</td>\n",
       "      <td>56.0</td>\n",
       "      <td>24.0</td>\n",
       "      <td>12.0</td>\n",
       "      <td>8.0</td>\n",
       "      <td>64.0</td>\n",
       "      <td>16.0</td>\n",
       "      <td>20.0</td>\n",
       "      <td>0.0</td>\n",
       "    </tr>\n",
       "    <tr>\n",
       "      <th>1993-03-01</th>\n",
       "      <td>60.0</td>\n",
       "      <td>12.0</td>\n",
       "      <td>28.0</td>\n",
       "      <td>0.0</td>\n",
       "      <td>52.0</td>\n",
       "      <td>36.0</td>\n",
       "      <td>12.0</td>\n",
       "      <td>0.0</td>\n",
       "      <td>44.0</td>\n",
       "      <td>28.0</td>\n",
       "      <td>24.0</td>\n",
       "      <td>4.0</td>\n",
       "    </tr>\n",
       "    <tr>\n",
       "      <th>1993-04-01</th>\n",
       "      <td>68.0</td>\n",
       "      <td>16.0</td>\n",
       "      <td>12.0</td>\n",
       "      <td>4.0</td>\n",
       "      <td>40.0</td>\n",
       "      <td>40.0</td>\n",
       "      <td>12.0</td>\n",
       "      <td>8.0</td>\n",
       "      <td>48.0</td>\n",
       "      <td>32.0</td>\n",
       "      <td>16.0</td>\n",
       "      <td>4.0</td>\n",
       "    </tr>\n",
       "    <tr>\n",
       "      <th>1993-05-01</th>\n",
       "      <td>44.0</td>\n",
       "      <td>36.0</td>\n",
       "      <td>16.0</td>\n",
       "      <td>4.0</td>\n",
       "      <td>36.0</td>\n",
       "      <td>40.0</td>\n",
       "      <td>20.0</td>\n",
       "      <td>4.0</td>\n",
       "      <td>44.0</td>\n",
       "      <td>32.0</td>\n",
       "      <td>16.0</td>\n",
       "      <td>8.0</td>\n",
       "    </tr>\n",
       "    <tr>\n",
       "      <th>...</th>\n",
       "      <td>...</td>\n",
       "      <td>...</td>\n",
       "      <td>...</td>\n",
       "      <td>...</td>\n",
       "      <td>...</td>\n",
       "      <td>...</td>\n",
       "      <td>...</td>\n",
       "      <td>...</td>\n",
       "      <td>...</td>\n",
       "      <td>...</td>\n",
       "      <td>...</td>\n",
       "      <td>...</td>\n",
       "    </tr>\n",
       "    <tr>\n",
       "      <th>2016-08-01</th>\n",
       "      <td>36.0</td>\n",
       "      <td>40.0</td>\n",
       "      <td>24.0</td>\n",
       "      <td>0.0</td>\n",
       "      <td>8.0</td>\n",
       "      <td>56.0</td>\n",
       "      <td>36.0</td>\n",
       "      <td>0.0</td>\n",
       "      <td>16.0</td>\n",
       "      <td>28.0</td>\n",
       "      <td>44.0</td>\n",
       "      <td>12.0</td>\n",
       "    </tr>\n",
       "    <tr>\n",
       "      <th>2016-09-01</th>\n",
       "      <td>20.0</td>\n",
       "      <td>40.0</td>\n",
       "      <td>32.0</td>\n",
       "      <td>8.0</td>\n",
       "      <td>12.0</td>\n",
       "      <td>40.0</td>\n",
       "      <td>40.0</td>\n",
       "      <td>8.0</td>\n",
       "      <td>4.0</td>\n",
       "      <td>60.0</td>\n",
       "      <td>28.0</td>\n",
       "      <td>8.0</td>\n",
       "    </tr>\n",
       "    <tr>\n",
       "      <th>2016-10-01</th>\n",
       "      <td>8.0</td>\n",
       "      <td>20.0</td>\n",
       "      <td>52.0</td>\n",
       "      <td>20.0</td>\n",
       "      <td>0.0</td>\n",
       "      <td>40.0</td>\n",
       "      <td>56.0</td>\n",
       "      <td>4.0</td>\n",
       "      <td>8.0</td>\n",
       "      <td>32.0</td>\n",
       "      <td>40.0</td>\n",
       "      <td>20.0</td>\n",
       "    </tr>\n",
       "    <tr>\n",
       "      <th>2016-11-01</th>\n",
       "      <td>8.0</td>\n",
       "      <td>28.0</td>\n",
       "      <td>36.0</td>\n",
       "      <td>28.0</td>\n",
       "      <td>16.0</td>\n",
       "      <td>24.0</td>\n",
       "      <td>36.0</td>\n",
       "      <td>24.0</td>\n",
       "      <td>20.0</td>\n",
       "      <td>36.0</td>\n",
       "      <td>28.0</td>\n",
       "      <td>16.0</td>\n",
       "    </tr>\n",
       "    <tr>\n",
       "      <th>2016-12-01</th>\n",
       "      <td>8.0</td>\n",
       "      <td>40.0</td>\n",
       "      <td>28.0</td>\n",
       "      <td>24.0</td>\n",
       "      <td>12.0</td>\n",
       "      <td>32.0</td>\n",
       "      <td>20.0</td>\n",
       "      <td>36.0</td>\n",
       "      <td>12.0</td>\n",
       "      <td>36.0</td>\n",
       "      <td>32.0</td>\n",
       "      <td>20.0</td>\n",
       "    </tr>\n",
       "  </tbody>\n",
       "</table>\n",
       "<p>288 rows × 12 columns</p>\n",
       "</div>"
      ],
      "text/plain": [
       "               3                       4                       5              \\\n",
       "quartile       1     2     3     4     1     2     3     4     1     2     3   \n",
       "time                                                                           \n",
       "1993-01-01  52.0  16.0  24.0   8.0  48.0  16.0  20.0  16.0  48.0  20.0  24.0   \n",
       "1993-02-01  36.0  44.0  16.0   4.0  56.0  24.0  12.0   8.0  64.0  16.0  20.0   \n",
       "1993-03-01  60.0  12.0  28.0   0.0  52.0  36.0  12.0   0.0  44.0  28.0  24.0   \n",
       "1993-04-01  68.0  16.0  12.0   4.0  40.0  40.0  12.0   8.0  48.0  32.0  16.0   \n",
       "1993-05-01  44.0  36.0  16.0   4.0  36.0  40.0  20.0   4.0  44.0  32.0  16.0   \n",
       "...          ...   ...   ...   ...   ...   ...   ...   ...   ...   ...   ...   \n",
       "2016-08-01  36.0  40.0  24.0   0.0   8.0  56.0  36.0   0.0  16.0  28.0  44.0   \n",
       "2016-09-01  20.0  40.0  32.0   8.0  12.0  40.0  40.0   8.0   4.0  60.0  28.0   \n",
       "2016-10-01   8.0  20.0  52.0  20.0   0.0  40.0  56.0   4.0   8.0  32.0  40.0   \n",
       "2016-11-01   8.0  28.0  36.0  28.0  16.0  24.0  36.0  24.0  20.0  36.0  28.0   \n",
       "2016-12-01   8.0  40.0  28.0  24.0  12.0  32.0  20.0  36.0  12.0  36.0  32.0   \n",
       "\n",
       "                  \n",
       "quartile       4  \n",
       "time              \n",
       "1993-01-01   8.0  \n",
       "1993-02-01   0.0  \n",
       "1993-03-01   4.0  \n",
       "1993-04-01   4.0  \n",
       "1993-05-01   8.0  \n",
       "...          ...  \n",
       "2016-08-01  12.0  \n",
       "2016-09-01   8.0  \n",
       "2016-10-01  20.0  \n",
       "2016-11-01  16.0  \n",
       "2016-12-01  20.0  \n",
       "\n",
       "[288 rows x 12 columns]"
      ]
     },
     "execution_count": 134,
     "metadata": {},
     "output_type": "execute_result"
    }
   ],
   "source": [
    "df_quantile_probabilities"
   ]
  },
  {
   "cell_type": "code",
   "execution_count": 135,
   "id": "3b60f465-4cb6-42ec-ae4a-bc489434fc69",
   "metadata": {
    "papermill": {
     "duration": null,
     "end_time": null,
     "exception": null,
     "start_time": null,
     "status": "pending"
    },
    "tags": []
   },
   "outputs": [],
   "source": [
    "dset_obs_cat = dset_obs_cat.to_frame(name='obs')"
   ]
  },
  {
   "cell_type": "code",
   "execution_count": 136,
   "id": "609a0854-0c5f-49fd-9962-3950184e95e7",
   "metadata": {
    "papermill": {
     "duration": null,
     "end_time": null,
     "exception": null,
     "start_time": null,
     "status": "pending"
    },
    "tags": []
   },
   "outputs": [
    {
     "name": "stderr",
     "output_type": "stream",
     "text": [
      "/tmp/ipykernel_8747/2738263058.py:1: FutureWarning: merging between different levels is deprecated and will be removed in a future version. (1 levels on the left, 2 on the right)\n",
      "  df_quantile_probabilities_obs = dset_obs_cat.join(df_quantile_probabilities, on='time')\n"
     ]
    }
   ],
   "source": [
    "df_quantile_probabilities_obs = dset_obs_cat.join(df_quantile_probabilities, on='time')"
   ]
  },
  {
   "cell_type": "code",
   "execution_count": 137,
   "id": "c6dc676d-cb02-4510-a360-2ebf028bfce2",
   "metadata": {
    "papermill": {
     "duration": null,
     "end_time": null,
     "exception": null,
     "start_time": null,
     "status": "pending"
    },
    "tags": []
   },
   "outputs": [
    {
     "data": {
      "text/html": [
       "<div>\n",
       "<style scoped>\n",
       "    .dataframe tbody tr th:only-of-type {\n",
       "        vertical-align: middle;\n",
       "    }\n",
       "\n",
       "    .dataframe tbody tr th {\n",
       "        vertical-align: top;\n",
       "    }\n",
       "\n",
       "    .dataframe thead th {\n",
       "        text-align: right;\n",
       "    }\n",
       "</style>\n",
       "<table border=\"1\" class=\"dataframe\">\n",
       "  <thead>\n",
       "    <tr style=\"text-align: right;\">\n",
       "      <th></th>\n",
       "      <th>obs</th>\n",
       "      <th>(3, 1)</th>\n",
       "      <th>(3, 2)</th>\n",
       "      <th>(3, 3)</th>\n",
       "      <th>(3, 4)</th>\n",
       "      <th>(4, 1)</th>\n",
       "      <th>(4, 2)</th>\n",
       "      <th>(4, 3)</th>\n",
       "      <th>(4, 4)</th>\n",
       "      <th>(5, 1)</th>\n",
       "      <th>(5, 2)</th>\n",
       "      <th>(5, 3)</th>\n",
       "      <th>(5, 4)</th>\n",
       "    </tr>\n",
       "    <tr>\n",
       "      <th>time</th>\n",
       "      <th></th>\n",
       "      <th></th>\n",
       "      <th></th>\n",
       "      <th></th>\n",
       "      <th></th>\n",
       "      <th></th>\n",
       "      <th></th>\n",
       "      <th></th>\n",
       "      <th></th>\n",
       "      <th></th>\n",
       "      <th></th>\n",
       "      <th></th>\n",
       "      <th></th>\n",
       "    </tr>\n",
       "  </thead>\n",
       "  <tbody>\n",
       "    <tr>\n",
       "      <th>1993-03-01</th>\n",
       "      <td>2</td>\n",
       "      <td>60.0</td>\n",
       "      <td>12.0</td>\n",
       "      <td>28.0</td>\n",
       "      <td>0.0</td>\n",
       "      <td>52.0</td>\n",
       "      <td>36.0</td>\n",
       "      <td>12.0</td>\n",
       "      <td>0.0</td>\n",
       "      <td>44.0</td>\n",
       "      <td>28.0</td>\n",
       "      <td>24.0</td>\n",
       "      <td>4.0</td>\n",
       "    </tr>\n",
       "    <tr>\n",
       "      <th>1993-04-01</th>\n",
       "      <td>1</td>\n",
       "      <td>68.0</td>\n",
       "      <td>16.0</td>\n",
       "      <td>12.0</td>\n",
       "      <td>4.0</td>\n",
       "      <td>40.0</td>\n",
       "      <td>40.0</td>\n",
       "      <td>12.0</td>\n",
       "      <td>8.0</td>\n",
       "      <td>48.0</td>\n",
       "      <td>32.0</td>\n",
       "      <td>16.0</td>\n",
       "      <td>4.0</td>\n",
       "    </tr>\n",
       "    <tr>\n",
       "      <th>1993-05-01</th>\n",
       "      <td>2</td>\n",
       "      <td>44.0</td>\n",
       "      <td>36.0</td>\n",
       "      <td>16.0</td>\n",
       "      <td>4.0</td>\n",
       "      <td>36.0</td>\n",
       "      <td>40.0</td>\n",
       "      <td>20.0</td>\n",
       "      <td>4.0</td>\n",
       "      <td>44.0</td>\n",
       "      <td>32.0</td>\n",
       "      <td>16.0</td>\n",
       "      <td>8.0</td>\n",
       "    </tr>\n",
       "    <tr>\n",
       "      <th>1993-06-01</th>\n",
       "      <td>2</td>\n",
       "      <td>28.0</td>\n",
       "      <td>32.0</td>\n",
       "      <td>12.0</td>\n",
       "      <td>28.0</td>\n",
       "      <td>20.0</td>\n",
       "      <td>36.0</td>\n",
       "      <td>24.0</td>\n",
       "      <td>20.0</td>\n",
       "      <td>24.0</td>\n",
       "      <td>40.0</td>\n",
       "      <td>28.0</td>\n",
       "      <td>8.0</td>\n",
       "    </tr>\n",
       "    <tr>\n",
       "      <th>1993-07-01</th>\n",
       "      <td>2</td>\n",
       "      <td>32.0</td>\n",
       "      <td>44.0</td>\n",
       "      <td>16.0</td>\n",
       "      <td>8.0</td>\n",
       "      <td>48.0</td>\n",
       "      <td>28.0</td>\n",
       "      <td>24.0</td>\n",
       "      <td>0.0</td>\n",
       "      <td>40.0</td>\n",
       "      <td>32.0</td>\n",
       "      <td>24.0</td>\n",
       "      <td>4.0</td>\n",
       "    </tr>\n",
       "  </tbody>\n",
       "</table>\n",
       "</div>"
      ],
      "text/plain": [
       "            obs  (3, 1)  (3, 2)  (3, 3)  (3, 4)  (4, 1)  (4, 2)  (4, 3)  \\\n",
       "time                                                                      \n",
       "1993-03-01    2    60.0    12.0    28.0     0.0    52.0    36.0    12.0   \n",
       "1993-04-01    1    68.0    16.0    12.0     4.0    40.0    40.0    12.0   \n",
       "1993-05-01    2    44.0    36.0    16.0     4.0    36.0    40.0    20.0   \n",
       "1993-06-01    2    28.0    32.0    12.0    28.0    20.0    36.0    24.0   \n",
       "1993-07-01    2    32.0    44.0    16.0     8.0    48.0    28.0    24.0   \n",
       "\n",
       "            (4, 4)  (5, 1)  (5, 2)  (5, 3)  (5, 4)  \n",
       "time                                                \n",
       "1993-03-01     0.0    44.0    28.0    24.0     4.0  \n",
       "1993-04-01     8.0    48.0    32.0    16.0     4.0  \n",
       "1993-05-01     4.0    44.0    32.0    16.0     8.0  \n",
       "1993-06-01    20.0    24.0    40.0    28.0     8.0  \n",
       "1993-07-01     0.0    40.0    32.0    24.0     4.0  "
      ]
     },
     "execution_count": 137,
     "metadata": {},
     "output_type": "execute_result"
    }
   ],
   "source": [
    "df_quantile_probabilities_obs.head()"
   ]
  },
  {
   "cell_type": "code",
   "execution_count": 138,
   "id": "3afd1c92-2548-4cef-b043-d7321317b1d0",
   "metadata": {
    "papermill": {
     "duration": null,
     "end_time": null,
     "exception": null,
     "start_time": null,
     "status": "pending"
    },
    "tags": []
   },
   "outputs": [
    {
     "data": {
      "text/html": [
       "<div>\n",
       "<style scoped>\n",
       "    .dataframe tbody tr th:only-of-type {\n",
       "        vertical-align: middle;\n",
       "    }\n",
       "\n",
       "    .dataframe tbody tr th {\n",
       "        vertical-align: top;\n",
       "    }\n",
       "\n",
       "    .dataframe thead th {\n",
       "        text-align: right;\n",
       "    }\n",
       "</style>\n",
       "<table border=\"1\" class=\"dataframe\">\n",
       "  <thead>\n",
       "    <tr style=\"text-align: right;\">\n",
       "      <th></th>\n",
       "      <th>obs</th>\n",
       "      <th>(3, 1)</th>\n",
       "      <th>(3, 2)</th>\n",
       "      <th>(3, 3)</th>\n",
       "      <th>(3, 4)</th>\n",
       "      <th>(4, 1)</th>\n",
       "      <th>(4, 2)</th>\n",
       "      <th>(4, 3)</th>\n",
       "      <th>(4, 4)</th>\n",
       "      <th>(5, 1)</th>\n",
       "      <th>(5, 2)</th>\n",
       "      <th>(5, 3)</th>\n",
       "      <th>(5, 4)</th>\n",
       "    </tr>\n",
       "    <tr>\n",
       "      <th>time</th>\n",
       "      <th></th>\n",
       "      <th></th>\n",
       "      <th></th>\n",
       "      <th></th>\n",
       "      <th></th>\n",
       "      <th></th>\n",
       "      <th></th>\n",
       "      <th></th>\n",
       "      <th></th>\n",
       "      <th></th>\n",
       "      <th></th>\n",
       "      <th></th>\n",
       "      <th></th>\n",
       "    </tr>\n",
       "  </thead>\n",
       "  <tbody>\n",
       "    <tr>\n",
       "      <th>1993-03-01</th>\n",
       "      <td>2</td>\n",
       "      <td>60.0</td>\n",
       "      <td>12.0</td>\n",
       "      <td>28.0</td>\n",
       "      <td>0.0</td>\n",
       "      <td>52.0</td>\n",
       "      <td>36.0</td>\n",
       "      <td>12.0</td>\n",
       "      <td>0.0</td>\n",
       "      <td>44.0</td>\n",
       "      <td>28.0</td>\n",
       "      <td>24.0</td>\n",
       "      <td>4.0</td>\n",
       "    </tr>\n",
       "    <tr>\n",
       "      <th>1993-04-01</th>\n",
       "      <td>1</td>\n",
       "      <td>68.0</td>\n",
       "      <td>16.0</td>\n",
       "      <td>12.0</td>\n",
       "      <td>4.0</td>\n",
       "      <td>40.0</td>\n",
       "      <td>40.0</td>\n",
       "      <td>12.0</td>\n",
       "      <td>8.0</td>\n",
       "      <td>48.0</td>\n",
       "      <td>32.0</td>\n",
       "      <td>16.0</td>\n",
       "      <td>4.0</td>\n",
       "    </tr>\n",
       "    <tr>\n",
       "      <th>1993-05-01</th>\n",
       "      <td>2</td>\n",
       "      <td>44.0</td>\n",
       "      <td>36.0</td>\n",
       "      <td>16.0</td>\n",
       "      <td>4.0</td>\n",
       "      <td>36.0</td>\n",
       "      <td>40.0</td>\n",
       "      <td>20.0</td>\n",
       "      <td>4.0</td>\n",
       "      <td>44.0</td>\n",
       "      <td>32.0</td>\n",
       "      <td>16.0</td>\n",
       "      <td>8.0</td>\n",
       "    </tr>\n",
       "    <tr>\n",
       "      <th>1993-06-01</th>\n",
       "      <td>2</td>\n",
       "      <td>28.0</td>\n",
       "      <td>32.0</td>\n",
       "      <td>12.0</td>\n",
       "      <td>28.0</td>\n",
       "      <td>20.0</td>\n",
       "      <td>36.0</td>\n",
       "      <td>24.0</td>\n",
       "      <td>20.0</td>\n",
       "      <td>24.0</td>\n",
       "      <td>40.0</td>\n",
       "      <td>28.0</td>\n",
       "      <td>8.0</td>\n",
       "    </tr>\n",
       "    <tr>\n",
       "      <th>1993-07-01</th>\n",
       "      <td>2</td>\n",
       "      <td>32.0</td>\n",
       "      <td>44.0</td>\n",
       "      <td>16.0</td>\n",
       "      <td>8.0</td>\n",
       "      <td>48.0</td>\n",
       "      <td>28.0</td>\n",
       "      <td>24.0</td>\n",
       "      <td>0.0</td>\n",
       "      <td>40.0</td>\n",
       "      <td>32.0</td>\n",
       "      <td>24.0</td>\n",
       "      <td>4.0</td>\n",
       "    </tr>\n",
       "    <tr>\n",
       "      <th>...</th>\n",
       "      <td>...</td>\n",
       "      <td>...</td>\n",
       "      <td>...</td>\n",
       "      <td>...</td>\n",
       "      <td>...</td>\n",
       "      <td>...</td>\n",
       "      <td>...</td>\n",
       "      <td>...</td>\n",
       "      <td>...</td>\n",
       "      <td>...</td>\n",
       "      <td>...</td>\n",
       "      <td>...</td>\n",
       "      <td>...</td>\n",
       "    </tr>\n",
       "    <tr>\n",
       "      <th>2016-08-01</th>\n",
       "      <td>4</td>\n",
       "      <td>36.0</td>\n",
       "      <td>40.0</td>\n",
       "      <td>24.0</td>\n",
       "      <td>0.0</td>\n",
       "      <td>8.0</td>\n",
       "      <td>56.0</td>\n",
       "      <td>36.0</td>\n",
       "      <td>0.0</td>\n",
       "      <td>16.0</td>\n",
       "      <td>28.0</td>\n",
       "      <td>44.0</td>\n",
       "      <td>12.0</td>\n",
       "    </tr>\n",
       "    <tr>\n",
       "      <th>2016-09-01</th>\n",
       "      <td>4</td>\n",
       "      <td>20.0</td>\n",
       "      <td>40.0</td>\n",
       "      <td>32.0</td>\n",
       "      <td>8.0</td>\n",
       "      <td>12.0</td>\n",
       "      <td>40.0</td>\n",
       "      <td>40.0</td>\n",
       "      <td>8.0</td>\n",
       "      <td>4.0</td>\n",
       "      <td>60.0</td>\n",
       "      <td>28.0</td>\n",
       "      <td>8.0</td>\n",
       "    </tr>\n",
       "    <tr>\n",
       "      <th>2016-10-01</th>\n",
       "      <td>4</td>\n",
       "      <td>8.0</td>\n",
       "      <td>20.0</td>\n",
       "      <td>52.0</td>\n",
       "      <td>20.0</td>\n",
       "      <td>0.0</td>\n",
       "      <td>40.0</td>\n",
       "      <td>56.0</td>\n",
       "      <td>4.0</td>\n",
       "      <td>8.0</td>\n",
       "      <td>32.0</td>\n",
       "      <td>40.0</td>\n",
       "      <td>20.0</td>\n",
       "    </tr>\n",
       "    <tr>\n",
       "      <th>2016-11-01</th>\n",
       "      <td>3</td>\n",
       "      <td>8.0</td>\n",
       "      <td>28.0</td>\n",
       "      <td>36.0</td>\n",
       "      <td>28.0</td>\n",
       "      <td>16.0</td>\n",
       "      <td>24.0</td>\n",
       "      <td>36.0</td>\n",
       "      <td>24.0</td>\n",
       "      <td>20.0</td>\n",
       "      <td>36.0</td>\n",
       "      <td>28.0</td>\n",
       "      <td>16.0</td>\n",
       "    </tr>\n",
       "    <tr>\n",
       "      <th>2016-12-01</th>\n",
       "      <td>4</td>\n",
       "      <td>8.0</td>\n",
       "      <td>40.0</td>\n",
       "      <td>28.0</td>\n",
       "      <td>24.0</td>\n",
       "      <td>12.0</td>\n",
       "      <td>32.0</td>\n",
       "      <td>20.0</td>\n",
       "      <td>36.0</td>\n",
       "      <td>12.0</td>\n",
       "      <td>36.0</td>\n",
       "      <td>32.0</td>\n",
       "      <td>20.0</td>\n",
       "    </tr>\n",
       "  </tbody>\n",
       "</table>\n",
       "<p>286 rows × 13 columns</p>\n",
       "</div>"
      ],
      "text/plain": [
       "            obs  (3, 1)  (3, 2)  (3, 3)  (3, 4)  (4, 1)  (4, 2)  (4, 3)  \\\n",
       "time                                                                      \n",
       "1993-03-01    2    60.0    12.0    28.0     0.0    52.0    36.0    12.0   \n",
       "1993-04-01    1    68.0    16.0    12.0     4.0    40.0    40.0    12.0   \n",
       "1993-05-01    2    44.0    36.0    16.0     4.0    36.0    40.0    20.0   \n",
       "1993-06-01    2    28.0    32.0    12.0    28.0    20.0    36.0    24.0   \n",
       "1993-07-01    2    32.0    44.0    16.0     8.0    48.0    28.0    24.0   \n",
       "...         ...     ...     ...     ...     ...     ...     ...     ...   \n",
       "2016-08-01    4    36.0    40.0    24.0     0.0     8.0    56.0    36.0   \n",
       "2016-09-01    4    20.0    40.0    32.0     8.0    12.0    40.0    40.0   \n",
       "2016-10-01    4     8.0    20.0    52.0    20.0     0.0    40.0    56.0   \n",
       "2016-11-01    3     8.0    28.0    36.0    28.0    16.0    24.0    36.0   \n",
       "2016-12-01    4     8.0    40.0    28.0    24.0    12.0    32.0    20.0   \n",
       "\n",
       "            (4, 4)  (5, 1)  (5, 2)  (5, 3)  (5, 4)  \n",
       "time                                                \n",
       "1993-03-01     0.0    44.0    28.0    24.0     4.0  \n",
       "1993-04-01     8.0    48.0    32.0    16.0     4.0  \n",
       "1993-05-01     4.0    44.0    32.0    16.0     8.0  \n",
       "1993-06-01    20.0    24.0    40.0    28.0     8.0  \n",
       "1993-07-01     0.0    40.0    32.0    24.0     4.0  \n",
       "...            ...     ...     ...     ...     ...  \n",
       "2016-08-01     0.0    16.0    28.0    44.0    12.0  \n",
       "2016-09-01     8.0     4.0    60.0    28.0     8.0  \n",
       "2016-10-01     4.0     8.0    32.0    40.0    20.0  \n",
       "2016-11-01    24.0    20.0    36.0    28.0    16.0  \n",
       "2016-12-01    36.0    12.0    36.0    32.0    20.0  \n",
       "\n",
       "[286 rows x 13 columns]"
      ]
     },
     "execution_count": 138,
     "metadata": {},
     "output_type": "execute_result"
    }
   ],
   "source": [
    "df_quantile_probabilities_obs.dropna()"
   ]
  },
  {
   "cell_type": "code",
   "execution_count": 139,
   "id": "64dfaae4-7f82-4ba9-b499-0a2429bacd5d",
   "metadata": {
    "papermill": {
     "duration": null,
     "end_time": null,
     "exception": null,
     "start_time": null,
     "status": "pending"
    },
    "tags": []
   },
   "outputs": [],
   "source": [
    "if not (outputs_path.joinpath(\"hindcasts_probs_and_obs\").exists()):\n",
    "    \n",
    "    outputs_path.joinpath(\"hindcasts_probs_and_obs\").mkdir(parents=True)"
   ]
  },
  {
   "cell_type": "code",
   "execution_count": 140,
   "id": "6543af3b-9877-4de3-864e-4fe7e7ce1939",
   "metadata": {
    "papermill": {
     "duration": null,
     "end_time": null,
     "exception": null,
     "start_time": null,
     "status": "pending"
    },
    "tags": []
   },
   "outputs": [],
   "source": [
    "df_quantile_probabilities_obs.to_csv(outputs_path.joinpath(f\"hindcasts_probs_and_obs/{utils.sanitize_name(country)}_{utils.sanitize_name(admin)}_{period}_{GCM}_{method}_{quantiles}_probs_and_obs.csv\"))"
   ]
  },
  {
   "cell_type": "code",
   "execution_count": 141,
   "id": "3812b9d1-c02d-45d2-85aa-9c9852dce1b5",
   "metadata": {
    "papermill": {
     "duration": null,
     "end_time": null,
     "exception": null,
     "start_time": null,
     "status": "pending"
    },
    "tags": []
   },
   "outputs": [
    {
     "data": {
      "text/plain": [
       "PosixPath('/home/nicolasf/operational/ICU/development/hotspots/code/ICU_Water_Watch/outputs/admin/operational')"
      ]
     },
     "execution_count": 141,
     "metadata": {},
     "output_type": "execute_result"
    }
   ],
   "source": [
    "outputs_path"
   ]
  },
  {
   "cell_type": "code",
   "execution_count": null,
   "id": "17616995-2a4a-488f-a086-e377d647e410",
   "metadata": {
    "papermill": {
     "duration": null,
     "end_time": null,
     "exception": null,
     "start_time": null,
     "status": "pending"
    },
    "tags": []
   },
   "outputs": [],
   "source": []
  }
 ],
 "metadata": {
  "kernelspec": {
   "display_name": "Python 3 (ipykernel)",
   "language": "python",
   "name": "python3"
  },
  "language_info": {
   "codemirror_mode": {
    "name": "ipython",
    "version": 3
   },
   "file_extension": ".py",
   "mimetype": "text/x-python",
   "name": "python",
   "nbconvert_exporter": "python",
   "pygments_lexer": "ipython3",
   "version": "3.9.12"
  },
  "papermill": {
   "default_parameters": {},
   "duration": 34.664025,
   "end_time": "2022-03-14T04:08:14.101487",
   "environment_variables": {},
   "exception": true,
   "input_path": "/home/nicolasf/operational/ICU/development/hotspots/code/ICU_Water_Watch/notebooks/ICU_forecast_table/GCMs_admin_hindcast_climatologies_and_probabilities.ipynb",
   "output_path": "/home/nicolasf/operational/ICU/development/hotspots/code/ICU_Water_Watch/notebooks/ICU_forecast_table/GCMs_admin_hindcast_climatologies_and_probabilities.ipynb",
   "parameters": {
    "GCM": "ECMWF",
    "admin": "Northern",
    "country": "Fiji",
    "method": "empirical",
    "period": "seasonal",
    "quantile": "quartile"
   },
   "start_time": "2022-03-14T04:07:39.437462",
   "version": "2.3.3"
  }
 },
 "nbformat": 4,
 "nbformat_minor": 5
}
