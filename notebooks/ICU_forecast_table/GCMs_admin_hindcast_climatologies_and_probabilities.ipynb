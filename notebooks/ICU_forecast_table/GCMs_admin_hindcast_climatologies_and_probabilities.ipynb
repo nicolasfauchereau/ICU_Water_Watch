{
 "cells": [
  {
   "cell_type": "markdown",
   "id": "dc848a92-0993-4d7a-8b8c-59ee5d5e5564",
   "metadata": {
    "papermill": {
     "duration": 0.104108,
     "end_time": "2022-01-19T03:27:49.580480",
     "exception": false,
     "start_time": "2022-01-19T03:27:49.476372",
     "status": "completed"
    },
    "tags": []
   },
   "source": [
    "### calculate the leadtime-dependent climatological terciles, deciles and percentiles (0.02, then 0.05 to 0.95 with 0.05 step) from the individual GCMs' hindcast dataset (period 1993 - 2016) for admin areas  "
   ]
  },
  {
   "cell_type": "markdown",
   "id": "a0029435-c8cd-46f8-8edd-21e3f3422bf1",
   "metadata": {
    "papermill": {
     "duration": 0.070302,
     "end_time": "2022-01-19T03:27:49.722655",
     "exception": false,
     "start_time": "2022-01-19T03:27:49.652353",
     "status": "completed"
    },
    "tags": []
   },
   "source": [
    "### This notebook is driven via papermill by `ICU_forecast_table/drive_admin_GCMs_evaluation.ipynb`"
   ]
  },
  {
   "cell_type": "code",
   "execution_count": 1,
   "id": "d9e3e956-31d5-4606-b762-657a128f93dc",
   "metadata": {
    "execution": {
     "iopub.execute_input": "2022-01-19T03:27:49.876354Z",
     "iopub.status.busy": "2022-01-19T03:27:49.875984Z",
     "iopub.status.idle": "2022-01-19T03:27:49.884584Z",
     "shell.execute_reply": "2022-01-19T03:27:49.884865Z"
    },
    "papermill": {
     "duration": 0.086679,
     "end_time": "2022-01-19T03:27:49.885037",
     "exception": false,
     "start_time": "2022-01-19T03:27:49.798358",
     "status": "completed"
    },
    "tags": []
   },
   "outputs": [],
   "source": [
    "%load_ext autoreload\n",
    "%autoreload 2"
   ]
  },
  {
   "cell_type": "code",
   "execution_count": 2,
   "id": "ec7c9f73-b771-4191-9c46-eb9e2ca266ad",
   "metadata": {
    "execution": {
     "iopub.execute_input": "2022-01-19T03:27:50.037575Z",
     "iopub.status.busy": "2022-01-19T03:27:50.037229Z",
     "iopub.status.idle": "2022-01-19T03:27:51.429059Z",
     "shell.execute_reply": "2022-01-19T03:27:51.428702Z"
    },
    "papermill": {
     "duration": 1.467246,
     "end_time": "2022-01-19T03:27:51.429162",
     "exception": false,
     "start_time": "2022-01-19T03:27:49.961916",
     "status": "completed"
    },
    "tags": []
   },
   "outputs": [],
   "source": [
    "%matplotlib inline\n",
    "\n",
    "### os and standard libraries \n",
    "import os\n",
    "import sys\n",
    "from collections import OrderedDict\n",
    "from itertools import product\n",
    "\n",
    "### datetimes\n",
    "from datetime import datetime, timedelta\n",
    "\n",
    "### scipy\n",
    "import numpy as np\n",
    "import pandas as pd\n",
    "import xarray as xr\n",
    "import geopandas as gpd\n",
    "import cartopy.crs as ccrs\n",
    "import dask\n",
    "from dask.diagnostics import ProgressBar\n",
    "from tqdm import tqdm\n",
    "\n",
    "### plotting\n",
    "from matplotlib import pyplot as plt\n",
    "import matplotlib\n",
    "import seaborn as sns\n"
   ]
  },
  {
   "cell_type": "code",
   "execution_count": 3,
   "id": "0cab9771-20cf-4302-9c84-97580f01d934",
   "metadata": {
    "execution": {
     "iopub.execute_input": "2022-01-19T03:27:51.569590Z",
     "iopub.status.busy": "2022-01-19T03:27:51.569263Z",
     "iopub.status.idle": "2022-01-19T03:27:51.583719Z",
     "shell.execute_reply": "2022-01-19T03:27:51.583390Z"
    },
    "papermill": {
     "duration": 0.086016,
     "end_time": "2022-01-19T03:27:51.583821",
     "exception": false,
     "start_time": "2022-01-19T03:27:51.497805",
     "status": "completed"
    },
    "tags": []
   },
   "outputs": [],
   "source": [
    "import pathlib\n",
    "\n",
    "HOME = pathlib.Path.home()\n",
    "CWD = pathlib.Path.cwd() "
   ]
  },
  {
   "cell_type": "code",
   "execution_count": 4,
   "id": "03b5d899-37d8-48b0-b161-3b5a67d2e116",
   "metadata": {
    "execution": {
     "iopub.execute_input": "2022-01-19T03:27:51.726499Z",
     "iopub.status.busy": "2022-01-19T03:27:51.726135Z",
     "iopub.status.idle": "2022-01-19T03:27:51.740330Z",
     "shell.execute_reply": "2022-01-19T03:27:51.740046Z"
    },
    "papermill": {
     "duration": 0.087056,
     "end_time": "2022-01-19T03:27:51.740431",
     "exception": false,
     "start_time": "2022-01-19T03:27:51.653375",
     "status": "completed"
    },
    "tags": []
   },
   "outputs": [],
   "source": [
    "sys.path.append('../../') "
   ]
  },
  {
   "cell_type": "code",
   "execution_count": 5,
   "id": "d986433d-94b5-41de-b90e-ff762bdcb9c4",
   "metadata": {
    "execution": {
     "iopub.execute_input": "2022-01-19T03:27:51.884964Z",
     "iopub.status.busy": "2022-01-19T03:27:51.884637Z",
     "iopub.status.idle": "2022-01-19T03:26:50.719788Z",
     "shell.execute_reply": "2022-01-19T03:26:50.720056Z"
    },
    "papermill": {
     "duration": 11.889585,
     "end_time": "2022-01-19T03:28:03.701675",
     "exception": false,
     "start_time": "2022-01-19T03:27:51.812090",
     "status": "completed"
    },
    "tags": []
   },
   "outputs": [],
   "source": [
    "from ICU_Water_Watch import geo, C3S, domains, plot, utils"
   ]
  },
  {
   "cell_type": "markdown",
   "id": "ea904f40-803b-439c-ade7-bda5bed7ac2e",
   "metadata": {
    "papermill": {
     "duration": null,
     "end_time": null,
     "exception": null,
     "start_time": null,
     "status": "completed"
    },
    "tags": []
   },
   "source": [
    "### dictionnary holding quantile name and quantile values, they are passed as **lists** to avoid any numerical issues "
   ]
  },
  {
   "cell_type": "code",
   "execution_count": null,
   "id": "6ccb7b07-f062-4ea7-9f0a-58dd9b082bba",
   "metadata": {
    "execution": {
     "iopub.execute_input": "2022-01-19T03:26:51.026546Z",
     "iopub.status.busy": "2022-01-19T03:26:51.026162Z",
     "iopub.status.idle": "2022-01-19T03:26:51.042003Z",
     "shell.execute_reply": "2022-01-19T03:26:51.041649Z"
    },
    "papermill": {
     "duration": null,
     "end_time": null,
     "exception": null,
     "start_time": null,
     "status": "completed"
    },
    "tags": []
   },
   "outputs": [],
   "source": [
    "dict_quantiles = OrderedDict()\n",
    "dict_quantiles['tercile'] = [0.3333, 0.6666]\n",
    "dict_quantiles['quartile'] = [0.25, 0.5, 0.75]\n",
    "dict_quantiles['decile'] = [0.1, 0.2, 0.3, 0.4, 0.5, 0.6, 0.7, 0.8, 0.9]\n",
    "dict_quantiles['percentile'] = [0.02, 0.05, 0.1 , 0.15, 0.2 , 0.25, 0.3 , 0.35, 0.4 , 0.45, 0.5 , 0.55, 0.6 , 0.65, 0.7 , 0.75, 0.8 , 0.85, 0.9 , 0.95] "
   ]
  },
  {
   "cell_type": "markdown",
   "id": "91fc8bca-7496-4fb6-b86d-ef83d37820b4",
   "metadata": {
    "papermill": {
     "duration": null,
     "end_time": null,
     "exception": null,
     "start_time": null,
     "status": "completed"
    },
    "tags": []
   },
   "source": [
    "### list of GCMs with complete hindcast period "
   ]
  },
  {
   "cell_type": "code",
   "execution_count": null,
   "id": "8995725a-3307-4e58-93d2-8eaa1526d91d",
   "metadata": {
    "execution": {
     "iopub.execute_input": "2022-01-19T03:26:51.338611Z",
     "iopub.status.busy": "2022-01-19T03:26:51.338254Z",
     "iopub.status.idle": "2022-01-19T03:26:51.354144Z",
     "shell.execute_reply": "2022-01-19T03:26:51.353825Z"
    },
    "papermill": {
     "duration": null,
     "end_time": null,
     "exception": null,
     "start_time": null,
     "status": "completed"
    },
    "tags": []
   },
   "outputs": [],
   "source": [
    "GCMs = ['ECMWF', 'UKMO', 'METEO_FRANCE', 'DWD', 'CMCC', 'NCEP', 'JMA', 'ECCC_CanCM4i', 'ECCC_GEM_NEMO']"
   ]
  },
  {
   "cell_type": "markdown",
   "id": "ca1eed61-799e-4262-85e3-d99fa6adb06a",
   "metadata": {
    "papermill": {
     "duration": null,
     "end_time": null,
     "exception": null,
     "start_time": null,
     "status": "completed"
    },
    "tags": []
   },
   "source": [
    "### PARAMETERS FOR PAPERMILL "
   ]
  },
  {
   "cell_type": "code",
   "execution_count": null,
   "id": "ec9e9c11-6a0a-4569-b095-12b7aa3e4e25",
   "metadata": {
    "execution": {
     "iopub.execute_input": "2022-01-19T03:26:51.642552Z",
     "iopub.status.busy": "2022-01-19T03:26:51.642141Z",
     "iopub.status.idle": "2022-01-19T03:26:51.658025Z",
     "shell.execute_reply": "2022-01-19T03:26:51.657727Z"
    },
    "papermill": {
     "duration": null,
     "end_time": null,
     "exception": null,
     "start_time": null,
     "status": "completed"
    },
    "tags": [
     "parameters"
    ]
   },
   "outputs": [],
   "source": [
    "provider = 'CDS'\n",
    "varname = 'tprate'\n",
    "period = 'seasonal'\n",
    "GCM = 'ECCC_CanCM4i'\n",
    "quantiles = 'tercile'\n",
    "country = \"Northern Mariana Islands\"\n",
    "admin = \"Southern Islands\"\n",
    "method = 'empirical' # whether to calculate the parametrized or empirical quantiles "
   ]
  },
  {
   "cell_type": "code",
   "execution_count": null,
   "id": "f242422c",
   "metadata": {
    "papermill": {
     "duration": null,
     "end_time": null,
     "exception": null,
     "start_time": null,
     "status": "completed"
    },
    "tags": [
     "injected-parameters"
    ]
   },
   "outputs": [],
   "source": [
    "# Parameters\n",
    "country = \"FSM\"\n",
    "admin = \"Yap\"\n",
    "GCM = \"METEO_FRANCE\"\n",
    "method = \"empirical\"\n",
    "period = \"seasonal\"\n",
    "quantile = \"quartile\"\n"
   ]
  },
  {
   "cell_type": "markdown",
   "id": "1e5315c7-8f76-4063-9a1a-bbd857a5bdff",
   "metadata": {
    "papermill": {
     "duration": null,
     "end_time": null,
     "exception": null,
     "start_time": null,
     "status": "completed"
    },
    "tags": []
   },
   "source": [
    "### path definitions follow"
   ]
  },
  {
   "cell_type": "markdown",
   "id": "7bbba764-8ece-42db-96a7-aa3033617b73",
   "metadata": {
    "papermill": {
     "duration": null,
     "end_time": null,
     "exception": null,
     "start_time": null,
     "status": "completed"
    },
    "tags": []
   },
   "source": [
    "### figures "
   ]
  },
  {
   "cell_type": "code",
   "execution_count": null,
   "id": "963acfbf-c3d4-4a03-8a92-b76ec4f36ffd",
   "metadata": {
    "execution": {
     "iopub.execute_input": "2022-01-19T03:26:52.271383Z",
     "iopub.status.busy": "2022-01-19T03:26:52.271048Z",
     "iopub.status.idle": "2022-01-19T03:26:52.286512Z",
     "shell.execute_reply": "2022-01-19T03:26:52.286161Z"
    },
    "papermill": {
     "duration": null,
     "end_time": null,
     "exception": null,
     "start_time": null,
     "status": "completed"
    },
    "tags": []
   },
   "outputs": [],
   "source": [
    "fig_path = CWD.parents[1].joinpath(\"figures/ICU_validation/\")"
   ]
  },
  {
   "cell_type": "code",
   "execution_count": null,
   "id": "2d2f2ce4-a589-4209-8cc0-0c7fb27a6a82",
   "metadata": {
    "execution": {
     "iopub.execute_input": "2022-01-19T03:26:52.428572Z",
     "iopub.status.busy": "2022-01-19T03:26:52.428235Z",
     "iopub.status.idle": "2022-01-19T03:26:52.444096Z",
     "shell.execute_reply": "2022-01-19T03:26:52.443814Z"
    },
    "papermill": {
     "duration": null,
     "end_time": null,
     "exception": null,
     "start_time": null,
     "status": "completed"
    },
    "tags": []
   },
   "outputs": [],
   "source": [
    "print(str(fig_path))"
   ]
  },
  {
   "cell_type": "markdown",
   "id": "05579840-f03c-41af-a26c-147d54a8ac9b",
   "metadata": {
    "papermill": {
     "duration": null,
     "end_time": null,
     "exception": null,
     "start_time": null,
     "status": "completed"
    },
    "tags": []
   },
   "source": [
    "### outputs "
   ]
  },
  {
   "cell_type": "code",
   "execution_count": null,
   "id": "e23b3c1b-32ae-4f40-b45e-196e90983a16",
   "metadata": {
    "execution": {
     "iopub.execute_input": "2022-01-19T03:26:52.729720Z",
     "iopub.status.busy": "2022-01-19T03:26:52.729364Z",
     "iopub.status.idle": "2022-01-19T03:26:52.744614Z",
     "shell.execute_reply": "2022-01-19T03:26:52.744294Z"
    },
    "papermill": {
     "duration": null,
     "end_time": null,
     "exception": null,
     "start_time": null,
     "status": "completed"
    },
    "tags": []
   },
   "outputs": [],
   "source": [
    "outputs_path = CWD.parents[1].joinpath(\"outputs/ICU_validation/admin\")"
   ]
  },
  {
   "cell_type": "code",
   "execution_count": null,
   "id": "d668be67-7078-47c8-8edc-9a7be306d99f",
   "metadata": {
    "execution": {
     "iopub.execute_input": "2022-01-19T03:26:52.896598Z",
     "iopub.status.busy": "2022-01-19T03:26:52.895562Z",
     "iopub.status.idle": "2022-01-19T03:26:52.912122Z",
     "shell.execute_reply": "2022-01-19T03:26:52.911843Z"
    },
    "papermill": {
     "duration": null,
     "end_time": null,
     "exception": null,
     "start_time": null,
     "status": "completed"
    },
    "tags": []
   },
   "outputs": [],
   "source": [
    "print(str(outputs_path))"
   ]
  },
  {
   "cell_type": "markdown",
   "id": "6066e28c-480a-4d4f-a59f-6dd39789ba73",
   "metadata": {
    "papermill": {
     "duration": null,
     "end_time": null,
     "exception": null,
     "start_time": null,
     "status": "completed"
    },
    "tags": []
   },
   "source": [
    "#### where to find the GCM hindcast datasets "
   ]
  },
  {
   "cell_type": "code",
   "execution_count": null,
   "id": "cbcb65ed-7126-4c4b-b7b1-29f7c053f5b1",
   "metadata": {
    "execution": {
     "iopub.execute_input": "2022-01-19T03:26:53.217868Z",
     "iopub.status.busy": "2022-01-19T03:26:53.217522Z",
     "iopub.status.idle": "2022-01-19T03:26:53.233125Z",
     "shell.execute_reply": "2022-01-19T03:26:53.232773Z"
    },
    "papermill": {
     "duration": null,
     "end_time": null,
     "exception": null,
     "start_time": null,
     "status": "completed"
    },
    "tags": []
   },
   "outputs": [],
   "source": [
    "gcm_path = pathlib.Path(f'/media/nicolasf/END19101/ICU/data/{provider}/operational/hindcasts')"
   ]
  },
  {
   "cell_type": "code",
   "execution_count": null,
   "id": "33fe9a62-f1e7-40b4-a77b-7d7ddee2b7ca",
   "metadata": {
    "execution": {
     "iopub.execute_input": "2022-01-19T03:26:53.387171Z",
     "iopub.status.busy": "2022-01-19T03:26:53.386843Z",
     "iopub.status.idle": "2022-01-19T03:26:53.402194Z",
     "shell.execute_reply": "2022-01-19T03:26:53.401832Z"
    },
    "papermill": {
     "duration": null,
     "end_time": null,
     "exception": null,
     "start_time": null,
     "status": "completed"
    },
    "tags": []
   },
   "outputs": [],
   "source": [
    "dpath = gcm_path.joinpath(GCM).joinpath(varname.upper())"
   ]
  },
  {
   "cell_type": "code",
   "execution_count": null,
   "id": "692494fd-2d87-4d0c-9e6d-1aa8b3d71794",
   "metadata": {
    "execution": {
     "iopub.execute_input": "2022-01-19T03:26:53.555994Z",
     "iopub.status.busy": "2022-01-19T03:26:53.555543Z",
     "iopub.status.idle": "2022-01-19T03:26:53.570892Z",
     "shell.execute_reply": "2022-01-19T03:26:53.570547Z"
    },
    "papermill": {
     "duration": null,
     "end_time": null,
     "exception": null,
     "start_time": null,
     "status": "completed"
    },
    "tags": []
   },
   "outputs": [],
   "source": [
    "print(dpath)"
   ]
  },
  {
   "cell_type": "markdown",
   "id": "e50a87c7-b682-47e8-a894-0ce0910b7065",
   "metadata": {
    "papermill": {
     "duration": null,
     "end_time": null,
     "exception": null,
     "start_time": null,
     "status": "completed"
    },
    "tags": []
   },
   "source": [
    "#### where to save the climatologies "
   ]
  },
  {
   "cell_type": "code",
   "execution_count": null,
   "id": "679005be-3f9c-4f2a-83de-7768c5b917d4",
   "metadata": {
    "execution": {
     "iopub.execute_input": "2022-01-19T03:26:53.979144Z",
     "iopub.status.busy": "2022-01-19T03:26:53.978810Z",
     "iopub.status.idle": "2022-01-19T03:26:53.994305Z",
     "shell.execute_reply": "2022-01-19T03:26:53.993955Z"
    },
    "papermill": {
     "duration": null,
     "end_time": null,
     "exception": null,
     "start_time": null,
     "status": "completed"
    },
    "tags": []
   },
   "outputs": [],
   "source": [
    "clim_path = gcm_path.joinpath(f'CLIMATOLOGY/{GCM}')"
   ]
  },
  {
   "cell_type": "code",
   "execution_count": null,
   "id": "a2f7f1dc-078f-4de8-90d5-6f3537a1cb0d",
   "metadata": {
    "execution": {
     "iopub.execute_input": "2022-01-19T03:26:54.143504Z",
     "iopub.status.busy": "2022-01-19T03:26:54.143168Z",
     "iopub.status.idle": "2022-01-19T03:26:54.158948Z",
     "shell.execute_reply": "2022-01-19T03:26:54.158608Z"
    },
    "papermill": {
     "duration": null,
     "end_time": null,
     "exception": null,
     "start_time": null,
     "status": "completed"
    },
    "tags": []
   },
   "outputs": [],
   "source": [
    "print(clim_path)"
   ]
  },
  {
   "cell_type": "code",
   "execution_count": null,
   "id": "0694a8c7-3ddd-42e6-a4bb-2693457b3a01",
   "metadata": {
    "execution": {
     "iopub.execute_input": "2022-01-19T03:26:54.308097Z",
     "iopub.status.busy": "2022-01-19T03:26:54.307758Z",
     "iopub.status.idle": "2022-01-19T03:26:54.323071Z",
     "shell.execute_reply": "2022-01-19T03:26:54.322724Z"
    },
    "papermill": {
     "duration": null,
     "end_time": null,
     "exception": null,
     "start_time": null,
     "status": "completed"
    },
    "tags": []
   },
   "outputs": [],
   "source": [
    "if not clim_path.exists(): \n",
    "    \n",
    "    clim_path.mkdir(parents=True)"
   ]
  },
  {
   "cell_type": "markdown",
   "id": "d47e42f3-1647-4f1b-866f-501481e2dfab",
   "metadata": {
    "papermill": {
     "duration": null,
     "end_time": null,
     "exception": null,
     "start_time": null,
     "status": "completed"
    },
    "tags": []
   },
   "source": [
    "### get the list of files "
   ]
  },
  {
   "cell_type": "code",
   "execution_count": null,
   "id": "f0b72f90-2b59-45d1-833f-8e47715b9177",
   "metadata": {
    "execution": {
     "iopub.execute_input": "2022-01-19T03:26:54.618065Z",
     "iopub.status.busy": "2022-01-19T03:26:54.617723Z",
     "iopub.status.idle": "2022-01-19T03:26:54.634743Z",
     "shell.execute_reply": "2022-01-19T03:26:54.634444Z"
    },
    "papermill": {
     "duration": null,
     "end_time": null,
     "exception": null,
     "start_time": null,
     "status": "completed"
    },
    "tags": []
   },
   "outputs": [],
   "source": [
    "lfiles = list(dpath.glob(f\"ensemble_seas_forecasts_{varname}_from_*.netcdf\"))"
   ]
  },
  {
   "cell_type": "code",
   "execution_count": null,
   "id": "a1e49b09-ad9d-4881-b396-a41abccb3857",
   "metadata": {
    "execution": {
     "iopub.execute_input": "2022-01-19T03:26:54.786874Z",
     "iopub.status.busy": "2022-01-19T03:26:54.786517Z",
     "iopub.status.idle": "2022-01-19T03:26:54.803241Z",
     "shell.execute_reply": "2022-01-19T03:26:54.802872Z"
    },
    "papermill": {
     "duration": null,
     "end_time": null,
     "exception": null,
     "start_time": null,
     "status": "completed"
    },
    "tags": []
   },
   "outputs": [],
   "source": [
    "lfiles.sort()"
   ]
  },
  {
   "cell_type": "code",
   "execution_count": null,
   "id": "c835611f-71b0-4492-b1bf-3f9e26da2c75",
   "metadata": {
    "execution": {
     "iopub.execute_input": "2022-01-19T03:26:54.955796Z",
     "iopub.status.busy": "2022-01-19T03:26:54.955417Z",
     "iopub.status.idle": "2022-01-19T03:26:54.976249Z",
     "shell.execute_reply": "2022-01-19T03:26:54.975905Z"
    },
    "papermill": {
     "duration": null,
     "end_time": null,
     "exception": null,
     "start_time": null,
     "status": "completed"
    },
    "tags": []
   },
   "outputs": [],
   "source": [
    "lfiles"
   ]
  },
  {
   "cell_type": "code",
   "execution_count": null,
   "id": "4c877a5a-60b4-44f0-8b3f-e9e1205f20d3",
   "metadata": {
    "execution": {
     "iopub.execute_input": "2022-01-19T03:26:55.126749Z",
     "iopub.status.busy": "2022-01-19T03:26:55.126416Z",
     "iopub.status.idle": "2022-01-19T03:27:01.388484Z",
     "shell.execute_reply": "2022-01-19T03:27:01.388122Z"
    },
    "papermill": {
     "duration": null,
     "end_time": null,
     "exception": null,
     "start_time": null,
     "status": "completed"
    },
    "tags": []
   },
   "outputs": [],
   "source": [
    "dset = xr.open_mfdataset(lfiles, preprocess=C3S.preprocess_GCM, parallel=True, engine='netcdf4')"
   ]
  },
  {
   "cell_type": "code",
   "execution_count": null,
   "id": "d0a64204-2c5f-4f76-a337-6799fc783539",
   "metadata": {
    "execution": {
     "iopub.execute_input": "2022-01-19T03:27:01.542155Z",
     "iopub.status.busy": "2022-01-19T03:27:01.541817Z",
     "iopub.status.idle": "2022-01-19T03:27:01.558666Z",
     "shell.execute_reply": "2022-01-19T03:27:01.558926Z"
    },
    "papermill": {
     "duration": null,
     "end_time": null,
     "exception": null,
     "start_time": null,
     "status": "completed"
    },
    "tags": []
   },
   "outputs": [],
   "source": [
    "dset = dset.sortby('time')"
   ]
  },
  {
   "cell_type": "code",
   "execution_count": null,
   "id": "b7afaa16-4579-4ce1-8c9e-aa2da451b518",
   "metadata": {
    "execution": {
     "iopub.execute_input": "2022-01-19T03:27:01.726640Z",
     "iopub.status.busy": "2022-01-19T03:27:01.726302Z",
     "iopub.status.idle": "2022-01-19T03:27:01.745113Z",
     "shell.execute_reply": "2022-01-19T03:27:01.744769Z"
    },
    "papermill": {
     "duration": null,
     "end_time": null,
     "exception": null,
     "start_time": null,
     "status": "completed"
    },
    "tags": []
   },
   "outputs": [],
   "source": [
    "dset.info"
   ]
  },
  {
   "cell_type": "markdown",
   "id": "5022eeae-a3d8-4844-a579-4623220c2187",
   "metadata": {
    "papermill": {
     "duration": null,
     "end_time": null,
     "exception": null,
     "start_time": null,
     "status": "completed"
    },
    "tags": []
   },
   "source": [
    "### print the number of members in the ensemble for each time step "
   ]
  },
  {
   "cell_type": "code",
   "execution_count": null,
   "id": "5ad135a9-3662-4798-8621-30741c6827a3",
   "metadata": {
    "execution": {
     "iopub.execute_input": "2022-01-19T03:27:02.040457Z",
     "iopub.status.busy": "2022-01-19T03:27:02.040108Z",
     "iopub.status.idle": "2022-01-19T03:27:02.055434Z",
     "shell.execute_reply": "2022-01-19T03:27:02.055755Z"
    },
    "papermill": {
     "duration": null,
     "end_time": null,
     "exception": null,
     "start_time": null,
     "status": "completed"
    },
    "tags": []
   },
   "outputs": [],
   "source": [
    "# for t in range(len(dset.time)): \n",
    "    \n",
    "#     s = dset.isel(time=t)\n",
    "    \n",
    "#     print(f\"{pd.to_datetime(dset.isel(time=t)['time'].data):%Y-%m}:\", len(s.dropna('member')['member']))"
   ]
  },
  {
   "cell_type": "markdown",
   "id": "f7bbf7e7-c341-436b-b9db-103fd378dcb0",
   "metadata": {
    "papermill": {
     "duration": null,
     "end_time": null,
     "exception": null,
     "start_time": null,
     "status": "completed"
    },
    "tags": []
   },
   "source": [
    "### selects the hindcast period "
   ]
  },
  {
   "cell_type": "code",
   "execution_count": null,
   "id": "b543e1a2-5e81-43d0-8bcc-66cd8a1eeedf",
   "metadata": {
    "execution": {
     "iopub.execute_input": "2022-01-19T03:27:02.357512Z",
     "iopub.status.busy": "2022-01-19T03:27:02.356796Z",
     "iopub.status.idle": "2022-01-19T03:27:02.375407Z",
     "shell.execute_reply": "2022-01-19T03:27:02.375043Z"
    },
    "papermill": {
     "duration": null,
     "end_time": null,
     "exception": null,
     "start_time": null,
     "status": "completed"
    },
    "tags": []
   },
   "outputs": [],
   "source": [
    "dset = dset.sel(time=slice('1993', '2016'))"
   ]
  },
  {
   "cell_type": "code",
   "execution_count": null,
   "id": "b9e91e8a-db19-42c1-aef6-eaa32fe24cea",
   "metadata": {
    "execution": {
     "iopub.execute_input": "2022-01-19T03:27:02.527981Z",
     "iopub.status.busy": "2022-01-19T03:27:02.527638Z",
     "iopub.status.idle": "2022-01-19T03:27:02.566319Z",
     "shell.execute_reply": "2022-01-19T03:27:02.566619Z"
    },
    "papermill": {
     "duration": null,
     "end_time": null,
     "exception": null,
     "start_time": null,
     "status": "completed"
    },
    "tags": []
   },
   "outputs": [],
   "source": [
    "dset"
   ]
  },
  {
   "cell_type": "markdown",
   "id": "d462983e-c166-4b90-a2cc-26b2f1e7d9cb",
   "metadata": {
    "papermill": {
     "duration": null,
     "end_time": null,
     "exception": null,
     "start_time": null,
     "status": "completed"
    },
    "tags": []
   },
   "source": [
    "### convert to monthly rainfall accumulations (mm/month)"
   ]
  },
  {
   "cell_type": "code",
   "execution_count": null,
   "id": "6e725dd4-91d0-4246-8d00-6f604b1f489e",
   "metadata": {
    "execution": {
     "iopub.execute_input": "2022-01-19T03:27:02.867118Z",
     "iopub.status.busy": "2022-01-19T03:27:02.866786Z",
     "iopub.status.idle": "2022-01-19T03:27:02.883192Z",
     "shell.execute_reply": "2022-01-19T03:27:02.883462Z"
    },
    "papermill": {
     "duration": null,
     "end_time": null,
     "exception": null,
     "start_time": null,
     "status": "completed"
    },
    "tags": []
   },
   "outputs": [],
   "source": [
    "dset.tprate.attrs"
   ]
  },
  {
   "cell_type": "code",
   "execution_count": null,
   "id": "67d42493-35a0-4658-ad1c-a6818fc91d2b",
   "metadata": {
    "execution": {
     "iopub.execute_input": "2022-01-19T03:27:03.037190Z",
     "iopub.status.busy": "2022-01-19T03:27:03.036849Z",
     "iopub.status.idle": "2022-01-19T03:27:03.092076Z",
     "shell.execute_reply": "2022-01-19T03:27:03.091725Z"
    },
    "papermill": {
     "duration": null,
     "end_time": null,
     "exception": null,
     "start_time": null,
     "status": "completed"
    },
    "tags": []
   },
   "outputs": [],
   "source": [
    "dset = C3S.convert_rainfall(dset, varin='tprate', varout='precip', leadvar='step', timevar='time', dropvar=True)"
   ]
  },
  {
   "cell_type": "code",
   "execution_count": null,
   "id": "4d15bffd-b6c1-49dc-ac3c-428e824a10ca",
   "metadata": {
    "execution": {
     "iopub.execute_input": "2022-01-19T03:27:03.250990Z",
     "iopub.status.busy": "2022-01-19T03:27:03.250608Z",
     "iopub.status.idle": "2022-01-19T03:27:03.271669Z",
     "shell.execute_reply": "2022-01-19T03:27:03.271305Z"
    },
    "papermill": {
     "duration": null,
     "end_time": null,
     "exception": null,
     "start_time": null,
     "status": "completed"
    },
    "tags": []
   },
   "outputs": [],
   "source": [
    "dset.info"
   ]
  },
  {
   "cell_type": "code",
   "execution_count": null,
   "id": "5c7fe646-bfd6-417e-aaaa-8e0cb0b899c8",
   "metadata": {
    "execution": {
     "iopub.execute_input": "2022-01-19T03:27:03.427675Z",
     "iopub.status.busy": "2022-01-19T03:27:03.427077Z",
     "iopub.status.idle": "2022-01-19T03:27:03.444857Z",
     "shell.execute_reply": "2022-01-19T03:27:03.444477Z"
    },
    "papermill": {
     "duration": null,
     "end_time": null,
     "exception": null,
     "start_time": null,
     "status": "completed"
    },
    "tags": []
   },
   "outputs": [],
   "source": [
    "dset.precip.attrs"
   ]
  },
  {
   "cell_type": "markdown",
   "id": "fd7553f0-3ff3-46f3-bdcd-6e6f48f7abb7",
   "metadata": {
    "papermill": {
     "duration": null,
     "end_time": null,
     "exception": null,
     "start_time": null,
     "status": "completed"
    },
    "tags": []
   },
   "source": [
    "### make sure there are no negative values "
   ]
  },
  {
   "cell_type": "code",
   "execution_count": null,
   "id": "48667708-24cc-4f51-ab18-3a75e2f28ccd",
   "metadata": {
    "execution": {
     "iopub.execute_input": "2022-01-19T03:27:03.758526Z",
     "iopub.status.busy": "2022-01-19T03:27:03.757994Z",
     "iopub.status.idle": "2022-01-19T03:27:03.776696Z",
     "shell.execute_reply": "2022-01-19T03:27:03.776370Z"
    },
    "papermill": {
     "duration": null,
     "end_time": null,
     "exception": null,
     "start_time": null,
     "status": "completed"
    },
    "tags": []
   },
   "outputs": [],
   "source": [
    "dset = dset.clip(min=0)"
   ]
  },
  {
   "cell_type": "markdown",
   "id": "a6dd054f-5e96-48e6-b935-80d9ea0f54a2",
   "metadata": {
    "papermill": {
     "duration": null,
     "end_time": null,
     "exception": null,
     "start_time": null,
     "status": "completed"
    },
    "tags": []
   },
   "source": [
    "### if the period is set to `seasonal`, calculates the seasonal accumulations "
   ]
  },
  {
   "cell_type": "code",
   "execution_count": null,
   "id": "cc83f98c-909f-44bc-aa14-ef1778a747f5",
   "metadata": {
    "execution": {
     "iopub.execute_input": "2022-01-19T03:27:04.085419Z",
     "iopub.status.busy": "2022-01-19T03:27:04.085071Z",
     "iopub.status.idle": "2022-01-19T03:27:04.165834Z",
     "shell.execute_reply": "2022-01-19T03:27:04.165427Z"
    },
    "papermill": {
     "duration": null,
     "end_time": null,
     "exception": null,
     "start_time": null,
     "status": "completed"
    },
    "tags": []
   },
   "outputs": [],
   "source": [
    "if period == 'seasonal': \n",
    "    \n",
    "    dset = dset.rolling({'step':3}, min_periods=3).sum('step')\n",
    "    \n",
    "    dset = dset.sel({'step':slice(3, None)})"
   ]
  },
  {
   "cell_type": "code",
   "execution_count": null,
   "id": "84f4203d-9b4b-4db5-b4a2-174be37b28c5",
   "metadata": {
    "execution": {
     "iopub.execute_input": "2022-01-19T03:27:04.320398Z",
     "iopub.status.busy": "2022-01-19T03:27:04.320058Z",
     "iopub.status.idle": "2022-01-19T03:27:04.339500Z",
     "shell.execute_reply": "2022-01-19T03:27:04.339154Z"
    },
    "papermill": {
     "duration": null,
     "end_time": null,
     "exception": null,
     "start_time": null,
     "status": "completed"
    },
    "tags": []
   },
   "outputs": [],
   "source": [
    "dset.info"
   ]
  },
  {
   "cell_type": "code",
   "execution_count": null,
   "id": "7767765c-db31-418d-9f9e-f48bbe25459d",
   "metadata": {
    "execution": {
     "iopub.execute_input": "2022-01-19T03:27:04.497628Z",
     "iopub.status.busy": "2022-01-19T03:27:04.497194Z",
     "iopub.status.idle": "2022-01-19T03:27:04.516646Z",
     "shell.execute_reply": "2022-01-19T03:27:04.516304Z"
    },
    "papermill": {
     "duration": null,
     "end_time": null,
     "exception": null,
     "start_time": null,
     "status": "completed"
    },
    "tags": []
   },
   "outputs": [],
   "source": [
    "steps = dset.step.data"
   ]
  },
  {
   "cell_type": "code",
   "execution_count": null,
   "id": "655853db-b42d-4b6d-8ae7-50ccfa91f8e6",
   "metadata": {
    "execution": {
     "iopub.execute_input": "2022-01-19T03:27:04.677823Z",
     "iopub.status.busy": "2022-01-19T03:27:04.677477Z",
     "iopub.status.idle": "2022-01-19T03:27:04.694069Z",
     "shell.execute_reply": "2022-01-19T03:27:04.693784Z"
    },
    "papermill": {
     "duration": null,
     "end_time": null,
     "exception": null,
     "start_time": null,
     "status": "completed"
    },
    "tags": []
   },
   "outputs": [],
   "source": [
    "steps"
   ]
  },
  {
   "cell_type": "markdown",
   "id": "021c3e6c-f3d7-441c-b094-36b3b308461f",
   "metadata": {
    "papermill": {
     "duration": null,
     "end_time": null,
     "exception": null,
     "start_time": null,
     "status": "completed"
    },
    "tags": []
   },
   "source": [
    "### calculate percentiles over the dimensions member and time, will then be lead time dependent "
   ]
  },
  {
   "cell_type": "code",
   "execution_count": null,
   "id": "10276179-5bb6-44d2-9a05-a88736657b4d",
   "metadata": {
    "execution": {
     "iopub.execute_input": "2022-01-19T03:27:05.007486Z",
     "iopub.status.busy": "2022-01-19T03:27:05.007143Z",
     "iopub.status.idle": "2022-01-19T03:27:05.023603Z",
     "shell.execute_reply": "2022-01-19T03:27:05.023230Z"
    },
    "papermill": {
     "duration": null,
     "end_time": null,
     "exception": null,
     "start_time": null,
     "status": "completed"
    },
    "tags": []
   },
   "outputs": [],
   "source": [
    "coastlines_dpath = pathlib.Path('/home/nicolasf/operational/ICU/development/hotspots/data/shapefiles/Admin_boundaries/Coastlines')"
   ]
  },
  {
   "cell_type": "code",
   "execution_count": null,
   "id": "b7a89383-fc10-420c-b116-9640289042f1",
   "metadata": {
    "execution": {
     "iopub.execute_input": "2022-01-19T03:27:05.183874Z",
     "iopub.status.busy": "2022-01-19T03:27:05.183514Z",
     "iopub.status.idle": "2022-01-19T03:27:05.283100Z",
     "shell.execute_reply": "2022-01-19T03:27:05.282719Z"
    },
    "papermill": {
     "duration": null,
     "end_time": null,
     "exception": null,
     "start_time": null,
     "status": "completed"
    },
    "tags": []
   },
   "outputs": [],
   "source": [
    "shapefile = gpd.read_file(coastlines_dpath.joinpath('ICU_admin_geometries0_360.shp'))"
   ]
  },
  {
   "cell_type": "code",
   "execution_count": null,
   "id": "3ffbf31f-21c3-4a1b-8bc4-81dc56b9617c",
   "metadata": {
    "execution": {
     "iopub.execute_input": "2022-01-19T03:27:05.438022Z",
     "iopub.status.busy": "2022-01-19T03:27:05.437653Z",
     "iopub.status.idle": "2022-01-19T03:27:05.604878Z",
     "shell.execute_reply": "2022-01-19T03:27:05.604530Z"
    },
    "papermill": {
     "duration": null,
     "end_time": null,
     "exception": null,
     "start_time": null,
     "status": "completed"
    },
    "tags": []
   },
   "outputs": [],
   "source": [
    "shapefile"
   ]
  },
  {
   "cell_type": "code",
   "execution_count": null,
   "id": "b5738828-f141-4729-b103-b969e23b1cab",
   "metadata": {
    "execution": {
     "iopub.execute_input": "2022-01-19T03:27:05.759792Z",
     "iopub.status.busy": "2022-01-19T03:27:05.759434Z",
     "iopub.status.idle": "2022-01-19T03:27:05.775333Z",
     "shell.execute_reply": "2022-01-19T03:27:05.774974Z"
    },
    "papermill": {
     "duration": null,
     "end_time": null,
     "exception": null,
     "start_time": null,
     "status": "completed"
    },
    "tags": []
   },
   "outputs": [],
   "source": [
    "country_col = 'Country'\n",
    "admin_col = 'Admin_boun'"
   ]
  },
  {
   "cell_type": "code",
   "execution_count": null,
   "id": "9574799e-b9a0-4a3c-bc8c-e5c2baba0633",
   "metadata": {
    "execution": {
     "iopub.execute_input": "2022-01-19T03:27:05.931198Z",
     "iopub.status.busy": "2022-01-19T03:27:05.930859Z",
     "iopub.status.idle": "2022-01-19T03:27:05.947836Z",
     "shell.execute_reply": "2022-01-19T03:27:05.947427Z"
    },
    "papermill": {
     "duration": null,
     "end_time": null,
     "exception": null,
     "start_time": null,
     "status": "completed"
    },
    "tags": []
   },
   "outputs": [],
   "source": [
    "shapefile.loc[:,f\"{admin_col}\"] = shapefile.loc[:,f\"{admin_col}\"].str.replace(\"'\",\"\")"
   ]
  },
  {
   "cell_type": "markdown",
   "id": "f474e5eb-bf20-4195-808b-1432b878c85c",
   "metadata": {
    "papermill": {
     "duration": null,
     "end_time": null,
     "exception": null,
     "start_time": null,
     "status": "completed"
    },
    "tags": []
   },
   "source": [
    "### restrict to country "
   ]
  },
  {
   "cell_type": "code",
   "execution_count": null,
   "id": "02313a53-e28d-4c6c-a36d-4a436fc8329a",
   "metadata": {
    "execution": {
     "iopub.execute_input": "2022-01-19T03:27:06.272234Z",
     "iopub.status.busy": "2022-01-19T03:27:06.271880Z",
     "iopub.status.idle": "2022-01-19T03:27:06.290164Z",
     "shell.execute_reply": "2022-01-19T03:27:06.290441Z"
    },
    "papermill": {
     "duration": null,
     "end_time": null,
     "exception": null,
     "start_time": null,
     "status": "completed"
    },
    "tags": []
   },
   "outputs": [],
   "source": [
    "sub = shapefile.query(f\"Country == '{country}'\")"
   ]
  },
  {
   "cell_type": "markdown",
   "id": "952dc6ae-272f-48d0-8b6c-ac5e1f545552",
   "metadata": {
    "papermill": {
     "duration": null,
     "end_time": null,
     "exception": null,
     "start_time": null,
     "status": "completed"
    },
    "tags": []
   },
   "source": [
    "### restrict to administrative area "
   ]
  },
  {
   "cell_type": "code",
   "execution_count": null,
   "id": "3c7b5943-959b-4e87-8225-be989b84197f",
   "metadata": {
    "execution": {
     "iopub.execute_input": "2022-01-19T03:27:06.600652Z",
     "iopub.status.busy": "2022-01-19T03:27:06.600313Z",
     "iopub.status.idle": "2022-01-19T03:27:06.618206Z",
     "shell.execute_reply": "2022-01-19T03:27:06.617846Z"
    },
    "papermill": {
     "duration": null,
     "end_time": null,
     "exception": null,
     "start_time": null,
     "status": "completed"
    },
    "tags": []
   },
   "outputs": [],
   "source": [
    "shape = sub.query(f\"{admin_col} == '{admin}'\")"
   ]
  },
  {
   "cell_type": "code",
   "execution_count": null,
   "id": "303766e0-1484-461d-a5bc-75d67d15083c",
   "metadata": {
    "execution": {
     "iopub.execute_input": "2022-01-19T03:27:06.774997Z",
     "iopub.status.busy": "2022-01-19T03:27:06.774283Z",
     "iopub.status.idle": "2022-01-19T03:27:06.960580Z",
     "shell.execute_reply": "2022-01-19T03:27:06.960237Z"
    },
    "papermill": {
     "duration": null,
     "end_time": null,
     "exception": null,
     "start_time": null,
     "status": "completed"
    },
    "tags": []
   },
   "outputs": [],
   "source": [
    "shape.plot(figsize=(10,10))"
   ]
  },
  {
   "cell_type": "code",
   "execution_count": null,
   "id": "bfd35648-4de5-495e-9ffb-5a228a6a73c7",
   "metadata": {
    "execution": {
     "iopub.execute_input": "2022-01-19T03:27:07.134175Z",
     "iopub.status.busy": "2022-01-19T03:27:07.133818Z",
     "iopub.status.idle": "2022-01-19T03:27:07.150946Z",
     "shell.execute_reply": "2022-01-19T03:27:07.151239Z"
    },
    "papermill": {
     "duration": null,
     "end_time": null,
     "exception": null,
     "start_time": null,
     "status": "completed"
    },
    "tags": []
   },
   "outputs": [],
   "source": [
    "original_shape = shape.copy()"
   ]
  },
  {
   "cell_type": "markdown",
   "id": "2d65b2b2-bc09-4f1e-bbfa-e200fc224846",
   "metadata": {
    "papermill": {
     "duration": null,
     "end_time": null,
     "exception": null,
     "start_time": null,
     "status": "completed"
    },
    "tags": []
   },
   "source": [
    "### for Island groups consituted of very small islands / atolls, we don't filter OUT the geometries, we actually buffer them  so that they can match the resolution of the GCM (once interpolated)"
   ]
  },
  {
   "cell_type": "code",
   "execution_count": null,
   "id": "9cc89cc1-be84-414f-9b86-ac06eb9d487b",
   "metadata": {
    "execution": {
     "iopub.execute_input": "2022-01-19T03:27:07.469892Z",
     "iopub.status.busy": "2022-01-19T03:27:07.469555Z",
     "iopub.status.idle": "2022-01-19T03:27:07.497369Z",
     "shell.execute_reply": "2022-01-19T03:27:07.497026Z"
    },
    "papermill": {
     "duration": null,
     "end_time": null,
     "exception": null,
     "start_time": null,
     "status": "completed"
    },
    "tags": []
   },
   "outputs": [],
   "source": [
    "float(shape.to_crs('EPSG:3857').area / 10**6)"
   ]
  },
  {
   "cell_type": "code",
   "execution_count": null,
   "id": "10877191-df5c-4e8c-9f79-bdad967dfc30",
   "metadata": {
    "execution": {
     "iopub.execute_input": "2022-01-19T03:27:07.657219Z",
     "iopub.status.busy": "2022-01-19T03:27:07.656413Z",
     "iopub.status.idle": "2022-01-19T03:27:07.831906Z",
     "shell.execute_reply": "2022-01-19T03:27:07.832175Z"
    },
    "papermill": {
     "duration": null,
     "end_time": null,
     "exception": null,
     "start_time": null,
     "status": "completed"
    },
    "tags": []
   },
   "outputs": [],
   "source": [
    "shape = shape.buffer(0.25)"
   ]
  },
  {
   "cell_type": "code",
   "execution_count": null,
   "id": "5805c7b3-50fc-485f-97f7-f44c2ea15598",
   "metadata": {
    "execution": {
     "iopub.execute_input": "2022-01-19T03:27:07.990572Z",
     "iopub.status.busy": "2022-01-19T03:27:07.990224Z",
     "iopub.status.idle": "2022-01-19T03:27:08.006381Z",
     "shell.execute_reply": "2022-01-19T03:27:08.006007Z"
    },
    "papermill": {
     "duration": null,
     "end_time": null,
     "exception": null,
     "start_time": null,
     "status": "completed"
    },
    "tags": []
   },
   "outputs": [],
   "source": [
    "# if float(shape.to_crs('EPSG:3857').area / 10**6) < 2000: \n",
    "#     shape = shape.buffer(0.25)\n",
    "# else: \n",
    "#     shape = geo.filter_by_area(shape, min_area=500)"
   ]
  },
  {
   "cell_type": "code",
   "execution_count": null,
   "id": "1a56e619-85fb-4656-9ab2-642684d1918a",
   "metadata": {
    "execution": {
     "iopub.execute_input": "2022-01-19T03:27:08.178094Z",
     "iopub.status.busy": "2022-01-19T03:27:08.177701Z",
     "iopub.status.idle": "2022-01-19T03:27:08.281006Z",
     "shell.execute_reply": "2022-01-19T03:27:08.280410Z"
    },
    "papermill": {
     "duration": null,
     "end_time": null,
     "exception": null,
     "start_time": null,
     "status": "completed"
    },
    "tags": []
   },
   "outputs": [],
   "source": [
    "shape.plot()"
   ]
  },
  {
   "cell_type": "markdown",
   "id": "662e3651-3a31-4e7e-86ff-cf586a400ccf",
   "metadata": {
    "papermill": {
     "duration": null,
     "end_time": null,
     "exception": null,
     "start_time": null,
     "status": "completed"
    },
    "tags": []
   },
   "source": [
    "### we use these filtered geometries to mask the GCM hindcast dataset"
   ]
  },
  {
   "cell_type": "markdown",
   "id": "4992c240-d177-4301-8095-867f8d4f3459",
   "metadata": {
    "papermill": {
     "duration": null,
     "end_time": null,
     "exception": null,
     "start_time": null,
     "status": "completed"
    },
    "tags": []
   },
   "source": [
    "#### Note that the GCM dataset is first interpolated to 5X its original resolution "
   ]
  },
  {
   "cell_type": "markdown",
   "id": "03461574-4e87-402b-9006-3362a708b1fe",
   "metadata": {
    "papermill": {
     "duration": null,
     "end_time": null,
     "exception": null,
     "start_time": null,
     "status": "completed"
    },
    "tags": []
   },
   "source": [
    "### do we really need the 15km buffer now that we have the 0.25 degree buffer ? "
   ]
  },
  {
   "cell_type": "code",
   "execution_count": null,
   "id": "d34c7642-21db-4a2b-9dfc-f067bc426194",
   "metadata": {
    "execution": {
     "iopub.execute_input": "2022-01-19T03:27:08.967182Z",
     "iopub.status.busy": "2022-01-19T03:27:08.966834Z",
     "iopub.status.idle": "2022-01-19T03:27:17.077695Z",
     "shell.execute_reply": "2022-01-19T03:27:17.077322Z"
    },
    "papermill": {
     "duration": null,
     "end_time": null,
     "exception": null,
     "start_time": null,
     "status": "completed"
    },
    "tags": []
   },
   "outputs": [],
   "source": [
    "dset, domain = geo.mask_dataset(dset, shape, coastline_buffer=15)"
   ]
  },
  {
   "cell_type": "code",
   "execution_count": null,
   "id": "d51721f8-6ca3-49b0-89a6-c41d080d32b6",
   "metadata": {
    "execution": {
     "iopub.execute_input": "2022-01-19T03:27:17.271197Z",
     "iopub.status.busy": "2022-01-19T03:27:17.270862Z",
     "iopub.status.idle": "2022-01-19T03:27:17.334633Z",
     "shell.execute_reply": "2022-01-19T03:27:17.334285Z"
    },
    "papermill": {
     "duration": null,
     "end_time": null,
     "exception": null,
     "start_time": null,
     "status": "completed"
    },
    "tags": []
   },
   "outputs": [],
   "source": [
    "dset"
   ]
  },
  {
   "cell_type": "markdown",
   "id": "0c4de924-6cb6-4576-8a07-18f9fd22fdec",
   "metadata": {
    "papermill": {
     "duration": null,
     "end_time": null,
     "exception": null,
     "start_time": null,
     "status": "completed"
    },
    "tags": []
   },
   "source": [
    "### number of grid points "
   ]
  },
  {
   "cell_type": "code",
   "execution_count": null,
   "id": "47fa135a-c801-4d74-8558-42d27466420a",
   "metadata": {
    "execution": {
     "iopub.execute_input": "2022-01-19T03:27:17.724531Z",
     "iopub.status.busy": "2022-01-19T03:27:17.724183Z",
     "iopub.status.idle": "2022-01-19T03:27:17.741562Z",
     "shell.execute_reply": "2022-01-19T03:27:17.741226Z"
    },
    "papermill": {
     "duration": null,
     "end_time": null,
     "exception": null,
     "start_time": null,
     "status": "completed"
    },
    "tags": []
   },
   "outputs": [],
   "source": [
    "dset['mask'].attrs['cells']"
   ]
  },
  {
   "cell_type": "markdown",
   "id": "18980aa1-3575-4caf-a35c-0355d5f34c3f",
   "metadata": {
    "papermill": {
     "duration": null,
     "end_time": null,
     "exception": null,
     "start_time": null,
     "status": "completed"
    },
    "tags": []
   },
   "source": [
    "### plots the shape(s) and the resulting land sea mask  "
   ]
  },
  {
   "cell_type": "code",
   "execution_count": null,
   "id": "ee093ed9-64cb-433b-bb76-96e71635192c",
   "metadata": {
    "execution": {
     "iopub.execute_input": "2022-01-19T03:27:18.125003Z",
     "iopub.status.busy": "2022-01-19T03:27:18.124652Z",
     "iopub.status.idle": "2022-01-19T03:27:18.153748Z",
     "shell.execute_reply": "2022-01-19T03:27:18.153432Z"
    },
    "papermill": {
     "duration": null,
     "end_time": null,
     "exception": null,
     "start_time": null,
     "status": "completed"
    },
    "tags": []
   },
   "outputs": [],
   "source": [
    "if GCM == 'ECMWF': \n",
    "\n",
    "    f, axes = plt.subplots(ncols=2, figsize=(10, 10), subplot_kw={'projection':ccrs.PlateCarree(central_longitude=180)})\n",
    "\n",
    "    ax = axes[0]\n",
    "\n",
    "    shape.plot(ax=ax, color='0.6', alpha=0.2, transform=ccrs.PlateCarree())\n",
    "\n",
    "    shape.boundary.plot(ax=ax, color='coral', lw=0.7, transform=ccrs.PlateCarree())\n",
    "\n",
    "    original_shape.boundary.plot(ax=ax, color='steelblue', lw=0.7, alpha=0.5, transform=ccrs.PlateCarree())\n",
    "\n",
    "    ax.set_title(f\"{country} {admin} coastlines and shape\")\n",
    "\n",
    "#     plot.make_gridlines(ax)\n",
    "\n",
    "    ax = axes[1]\n",
    "\n",
    "    dset['mask'].plot(ax=ax, add_colorbar=False, transform=ccrs.PlateCarree(), alpha=0.5)\n",
    "\n",
    "    original_shape.boundary.plot(ax=ax, color='k', lw=0.7, transform=ccrs.PlateCarree())\n",
    "\n",
    "    ax.set_title(f\"{country} {admin} mask\")\n",
    "\n",
    "#     plot.make_gridlines(ax)\n",
    "\n",
    "    f.savefig(fig_path.joinpath(f'masks/admin/{utils.sanitize_name(country)}_{utils.sanitize_name(admin)}_shapes_and_mask.png'), dpi=200, bbox_inches='tight', facecolor='w')"
   ]
  },
  {
   "cell_type": "markdown",
   "id": "8ec1ee37-ea51-4f49-9d78-36e7bfc6d4f8",
   "metadata": {
    "papermill": {
     "duration": null,
     "end_time": null,
     "exception": null,
     "start_time": null,
     "status": "completed"
    },
    "tags": []
   },
   "source": [
    "### plots the precipitation field for one time step, leadtime and member "
   ]
  },
  {
   "cell_type": "code",
   "execution_count": null,
   "id": "9af2ef43-6926-402e-a402-7ff555c963ca",
   "metadata": {
    "execution": {
     "iopub.execute_input": "2022-01-19T03:27:18.528235Z",
     "iopub.status.busy": "2022-01-19T03:27:18.527897Z",
     "iopub.status.idle": "2022-01-19T03:27:18.698072Z",
     "shell.execute_reply": "2022-01-19T03:27:18.697744Z"
    },
    "papermill": {
     "duration": null,
     "end_time": null,
     "exception": null,
     "start_time": null,
     "status": "completed"
    },
    "tags": []
   },
   "outputs": [],
   "source": [
    "dset.isel(time=0, step=0, member=0)['precip'].plot()"
   ]
  },
  {
   "cell_type": "markdown",
   "id": "afdc8eeb-e44f-40cf-a2bf-73fc4863347f",
   "metadata": {
    "papermill": {
     "duration": null,
     "end_time": null,
     "exception": null,
     "start_time": null,
     "status": "completed"
    },
    "tags": []
   },
   "source": [
    "### calculates the regional average (average over lats and lons)"
   ]
  },
  {
   "cell_type": "code",
   "execution_count": null,
   "id": "8f843af5-691c-4241-9493-4ae2a3bc61ae",
   "metadata": {
    "execution": {
     "iopub.execute_input": "2022-01-19T03:27:19.067165Z",
     "iopub.status.busy": "2022-01-19T03:27:19.066819Z",
     "iopub.status.idle": "2022-01-19T03:27:19.261840Z",
     "shell.execute_reply": "2022-01-19T03:27:19.261527Z"
    },
    "papermill": {
     "duration": null,
     "end_time": null,
     "exception": null,
     "start_time": null,
     "status": "completed"
    },
    "tags": []
   },
   "outputs": [],
   "source": [
    "dset_sub = dset.mean(['lat','lon'])"
   ]
  },
  {
   "cell_type": "markdown",
   "id": "2d336243-c7b2-43ee-b60c-b329eadd142f",
   "metadata": {
    "papermill": {
     "duration": null,
     "end_time": null,
     "exception": null,
     "start_time": null,
     "status": "completed"
    },
    "tags": []
   },
   "source": [
    "### and the calculates the climatological percentiles "
   ]
  },
  {
   "cell_type": "code",
   "execution_count": null,
   "id": "7067bcb0-c8e4-4a23-82b7-0373ca6bc49d",
   "metadata": {
    "execution": {
     "iopub.execute_input": "2022-01-19T03:27:19.646605Z",
     "iopub.status.busy": "2022-01-19T03:27:19.646268Z",
     "iopub.status.idle": "2022-01-19T03:27:19.671951Z",
     "shell.execute_reply": "2022-01-19T03:27:19.671565Z"
    },
    "papermill": {
     "duration": null,
     "end_time": null,
     "exception": null,
     "start_time": null,
     "status": "completed"
    },
    "tags": []
   },
   "outputs": [],
   "source": [
    "dset_sub"
   ]
  },
  {
   "cell_type": "code",
   "execution_count": null,
   "id": "17029c0b-12b2-4347-8e61-51cb830eb62a",
   "metadata": {
    "execution": {
     "iopub.execute_input": "2022-01-19T03:27:19.867275Z",
     "iopub.status.busy": "2022-01-19T03:27:19.866936Z",
     "iopub.status.idle": "2022-01-19T03:27:19.892514Z",
     "shell.execute_reply": "2022-01-19T03:27:19.892168Z"
    },
    "papermill": {
     "duration": null,
     "end_time": null,
     "exception": null,
     "start_time": null,
     "status": "completed"
    },
    "tags": []
   },
   "outputs": [],
   "source": [
    "dset_sub"
   ]
  },
  {
   "cell_type": "markdown",
   "id": "425908e9-b919-424b-9079-ad47abe95e58",
   "metadata": {
    "papermill": {
     "duration": null,
     "end_time": null,
     "exception": null,
     "start_time": null,
     "status": "completed"
    },
    "tags": []
   },
   "source": [
    "### Now calculates the climatological quantiles, either `empirical` or `parametrized` "
   ]
  },
  {
   "cell_type": "code",
   "execution_count": null,
   "id": "661cd2d9-321a-48d5-9297-283e3b89f210",
   "metadata": {
    "execution": {
     "iopub.execute_input": "2022-01-19T03:27:20.277511Z",
     "iopub.status.busy": "2022-01-19T03:27:20.277155Z",
     "iopub.status.idle": "2022-01-19T03:27:20.315252Z",
     "shell.execute_reply": "2022-01-19T03:27:20.314884Z"
    },
    "papermill": {
     "duration": null,
     "end_time": null,
     "exception": null,
     "start_time": null,
     "status": "completed"
    },
    "tags": []
   },
   "outputs": [],
   "source": [
    "if method == 'parametrized': \n",
    "    clim_p = dset_sub.groupby(dset_sub.time.dt.month).apply(C3S.calc_parametrized_quantiles, \\\n",
    "                                                              **{'quantiles':dict_quantiles[quantiles], 'dims':('time','member')})\n",
    "elif method == 'empirical': \n",
    "    clim_p = dset_sub.groupby(dset_sub.time.dt.month).apply(C3S.calc_empirical_quantiles, \\\n",
    "                                                              **{'quantiles':dict_quantiles[quantiles], 'dims':('time','member')})"
   ]
  },
  {
   "cell_type": "markdown",
   "id": "09b7d84c-8a84-4a1d-96cb-ec908b600e6f",
   "metadata": {
    "papermill": {
     "duration": null,
     "end_time": null,
     "exception": null,
     "start_time": null,
     "status": "completed"
    },
    "tags": []
   },
   "source": [
    "### plot the climatological quantiles as a function of leadtime ('step' dimension)"
   ]
  },
  {
   "cell_type": "code",
   "execution_count": null,
   "id": "65050336-8172-486c-ba6f-dc6085dc352f",
   "metadata": {
    "execution": {
     "iopub.execute_input": "2022-01-19T03:27:20.703521Z",
     "iopub.status.busy": "2022-01-19T03:27:20.703193Z",
     "iopub.status.idle": "2022-01-19T03:27:20.728277Z",
     "shell.execute_reply": "2022-01-19T03:27:20.727983Z"
    },
    "papermill": {
     "duration": null,
     "end_time": null,
     "exception": null,
     "start_time": null,
     "status": "completed"
    },
    "tags": []
   },
   "outputs": [],
   "source": [
    "clim_p"
   ]
  },
  {
   "cell_type": "code",
   "execution_count": null,
   "id": "4f7bfabe-5d37-4476-bb92-4f7c7fb70886",
   "metadata": {
    "execution": {
     "iopub.execute_input": "2022-01-19T03:27:20.921257Z",
     "iopub.status.busy": "2022-01-19T03:27:20.920925Z",
     "iopub.status.idle": "2022-01-19T03:27:21.177293Z",
     "shell.execute_reply": "2022-01-19T03:27:21.177554Z"
    },
    "papermill": {
     "duration": null,
     "end_time": null,
     "exception": null,
     "start_time": null,
     "status": "completed"
    },
    "tags": []
   },
   "outputs": [],
   "source": [
    "if len(clim_p.month) > 1: \n",
    "    clim_p['precip'].plot(x='month', y = 'step', col='quantile', figsize=(10, 4))"
   ]
  },
  {
   "cell_type": "markdown",
   "id": "2317be47-2cf0-44d5-b113-43f032c88c62",
   "metadata": {
    "papermill": {
     "duration": null,
     "end_time": null,
     "exception": null,
     "start_time": null,
     "status": "completed"
    },
    "tags": []
   },
   "source": [
    "### need to save the climatologies "
   ]
  },
  {
   "cell_type": "code",
   "execution_count": null,
   "id": "6ecfa83a-31f9-419f-b9b7-5ff992e034ad",
   "metadata": {
    "execution": {
     "iopub.execute_input": "2022-01-19T03:27:21.562880Z",
     "iopub.status.busy": "2022-01-19T03:27:21.562541Z",
     "iopub.status.idle": "2022-01-19T03:27:21.579894Z",
     "shell.execute_reply": "2022-01-19T03:27:21.579572Z"
    },
    "papermill": {
     "duration": null,
     "end_time": null,
     "exception": null,
     "start_time": null,
     "status": "completed"
    },
    "tags": []
   },
   "outputs": [],
   "source": [
    "outputs_path.joinpath(\"climatologies\")"
   ]
  },
  {
   "cell_type": "code",
   "execution_count": null,
   "id": "1d157eb7-a171-469f-89ba-1af08c316857",
   "metadata": {
    "execution": {
     "iopub.execute_input": "2022-01-19T03:27:21.782242Z",
     "iopub.status.busy": "2022-01-19T03:27:21.781871Z",
     "iopub.status.idle": "2022-01-19T03:27:21.798580Z",
     "shell.execute_reply": "2022-01-19T03:27:21.798245Z"
    },
    "papermill": {
     "duration": null,
     "end_time": null,
     "exception": null,
     "start_time": null,
     "status": "completed"
    },
    "tags": []
   },
   "outputs": [],
   "source": [
    "print(f\"saving {quantiles} climatology for {varname} {period} {GCM} {utils.sanitize_name(country)} {utils.sanitize_name(admin)}\")"
   ]
  },
  {
   "cell_type": "code",
   "execution_count": null,
   "id": "62558e9a-29e8-416d-9929-49a738d56629",
   "metadata": {
    "execution": {
     "iopub.execute_input": "2022-01-19T03:27:21.999257Z",
     "iopub.status.busy": "2022-01-19T03:27:21.998923Z",
     "iopub.status.idle": "2022-01-19T03:27:22.020712Z",
     "shell.execute_reply": "2022-01-19T03:27:22.020192Z"
    },
    "papermill": {
     "duration": null,
     "end_time": null,
     "exception": null,
     "start_time": null,
     "status": "completed"
    },
    "tags": []
   },
   "outputs": [],
   "source": [
    "clim_p.to_netcdf(outputs_path.joinpath(\"climatologies\").joinpath(f\"{method}_{quantiles}_{varname}_{period}_{GCM}_{utils.sanitize_name(country)}_{utils.sanitize_name(admin)}.nc\"))"
   ]
  },
  {
   "cell_type": "markdown",
   "id": "ce771f35-bb78-4aa7-a8aa-fcecfcb91738",
   "metadata": {
    "papermill": {
     "duration": null,
     "end_time": null,
     "exception": null,
     "start_time": null,
     "status": "completed"
    },
    "tags": []
   },
   "source": [
    "### digitize: each member is given a category depending on the percentile bins defined earlier "
   ]
  },
  {
   "cell_type": "code",
   "execution_count": null,
   "id": "490dccd9-9194-4567-887f-dbeb5c9e19e2",
   "metadata": {
    "execution": {
     "iopub.execute_input": "2022-01-19T03:27:22.432461Z",
     "iopub.status.busy": "2022-01-19T03:27:22.432111Z",
     "iopub.status.idle": "2022-01-19T03:27:22.450167Z",
     "shell.execute_reply": "2022-01-19T03:27:22.450422Z"
    },
    "papermill": {
     "duration": null,
     "end_time": null,
     "exception": null,
     "start_time": null,
     "status": "completed"
    },
    "tags": []
   },
   "outputs": [],
   "source": [
    "np.unique(dset_sub.time.dt.month)"
   ]
  },
  {
   "cell_type": "code",
   "execution_count": null,
   "id": "bb9bd289-fa05-4f91-a164-a99738bafa8e",
   "metadata": {
    "execution": {
     "iopub.execute_input": "2022-01-19T03:27:22.653047Z",
     "iopub.status.busy": "2022-01-19T03:27:22.652569Z",
     "iopub.status.idle": "2022-01-19T03:27:22.830878Z",
     "shell.execute_reply": "2022-01-19T03:27:22.830579Z"
    },
    "papermill": {
     "duration": null,
     "end_time": null,
     "exception": null,
     "start_time": null,
     "status": "completed"
    },
    "tags": []
   },
   "outputs": [],
   "source": [
    "dset_cat = []\n",
    "\n",
    "for month in np.unique(dset_sub.time.dt.month): \n",
    "    \n",
    "    x = dset_sub.sel(time=(dset_sub.time.dt.month == month))\n",
    "    \n",
    "    # drop the missing members \n",
    "    \n",
    "    x = x.dropna('member')\n",
    "    \n",
    "    # digitize\n",
    "\n",
    "    qc = C3S.get_GCM_category_digitize(x, clim_p.sel(month=month), varname='precip', dim='quantile')\n",
    "    \n",
    "    dset_cat.append(qc)"
   ]
  },
  {
   "cell_type": "markdown",
   "id": "b437fbb7-74ee-4096-97a3-65ae337ff13d",
   "metadata": {
    "papermill": {
     "duration": null,
     "end_time": null,
     "exception": null,
     "start_time": null,
     "status": "completed"
    },
    "tags": []
   },
   "source": [
    "### concatenates over the time dimension and reorder "
   ]
  },
  {
   "cell_type": "code",
   "execution_count": null,
   "id": "c0af82b2-e8bf-44f5-b268-6649ee5d5e45",
   "metadata": {
    "execution": {
     "iopub.execute_input": "2022-01-19T03:27:23.237096Z",
     "iopub.status.busy": "2022-01-19T03:27:23.236748Z",
     "iopub.status.idle": "2022-01-19T03:27:23.259498Z",
     "shell.execute_reply": "2022-01-19T03:27:23.259086Z"
    },
    "papermill": {
     "duration": null,
     "end_time": null,
     "exception": null,
     "start_time": null,
     "status": "completed"
    },
    "tags": []
   },
   "outputs": [],
   "source": [
    "dset_cat = xr.concat(dset_cat, dim='time')\n",
    "dset_cat = dset_cat.sortby('time')"
   ]
  },
  {
   "cell_type": "code",
   "execution_count": null,
   "id": "023deebb-4ded-485a-a5fa-36f35a678c12",
   "metadata": {
    "execution": {
     "iopub.execute_input": "2022-01-19T03:27:23.468052Z",
     "iopub.status.busy": "2022-01-19T03:27:23.467099Z",
     "iopub.status.idle": "2022-01-19T03:27:23.494967Z",
     "shell.execute_reply": "2022-01-19T03:27:23.494687Z"
    },
    "papermill": {
     "duration": null,
     "end_time": null,
     "exception": null,
     "start_time": null,
     "status": "completed"
    },
    "tags": []
   },
   "outputs": [],
   "source": [
    "dset_cat"
   ]
  },
  {
   "cell_type": "markdown",
   "id": "d3afa1cd-2c66-4439-88dc-018431df9e1a",
   "metadata": {
    "papermill": {
     "duration": null,
     "end_time": null,
     "exception": null,
     "start_time": null,
     "status": "completed"
    },
    "tags": []
   },
   "source": [
    "### Now calculates the probabilities as the proportion of members falling into each category "
   ]
  },
  {
   "cell_type": "code",
   "execution_count": null,
   "id": "8afbde61-21f1-4a10-9972-92ff47ee9df3",
   "metadata": {
    "execution": {
     "iopub.execute_input": "2022-01-19T03:27:23.891242Z",
     "iopub.status.busy": "2022-01-19T03:27:23.890914Z",
     "iopub.status.idle": "2022-01-19T03:27:23.908271Z",
     "shell.execute_reply": "2022-01-19T03:27:23.907900Z"
    },
    "papermill": {
     "duration": null,
     "end_time": null,
     "exception": null,
     "start_time": null,
     "status": "completed"
    },
    "tags": []
   },
   "outputs": [],
   "source": [
    "quantiles"
   ]
  },
  {
   "cell_type": "code",
   "execution_count": null,
   "id": "c0522b01-a41f-4106-bac5-0e73bd161dbb",
   "metadata": {
    "execution": {
     "iopub.execute_input": "2022-01-19T03:27:24.105450Z",
     "iopub.status.busy": "2022-01-19T03:27:24.104979Z",
     "iopub.status.idle": "2022-01-19T03:27:24.122607Z",
     "shell.execute_reply": "2022-01-19T03:27:24.122333Z"
    },
    "papermill": {
     "duration": null,
     "end_time": null,
     "exception": null,
     "start_time": null,
     "status": "completed"
    },
    "tags": []
   },
   "outputs": [],
   "source": [
    "len(dict_quantiles[quantiles]) + 1"
   ]
  },
  {
   "cell_type": "code",
   "execution_count": null,
   "id": "351b71e6-f546-46df-8f72-31ca1a183ee8",
   "metadata": {
    "execution": {
     "iopub.execute_input": "2022-01-19T03:27:24.324260Z",
     "iopub.status.busy": "2022-01-19T03:27:24.323911Z",
     "iopub.status.idle": "2022-01-19T03:27:24.340776Z",
     "shell.execute_reply": "2022-01-19T03:27:24.340463Z"
    },
    "papermill": {
     "duration": null,
     "end_time": null,
     "exception": null,
     "start_time": null,
     "status": "completed"
    },
    "tags": []
   },
   "outputs": [],
   "source": [
    "if quantiles == 'tercile': \n",
    "    ncategories = 3\n",
    "if quantiles == 'quartile': \n",
    "    ncategories = 4\n",
    "elif quantiles == 'decile': \n",
    "    ncategories = 10 \n",
    "elif quantiles == 'percentile': \n",
    "    ncategories = 21"
   ]
  },
  {
   "cell_type": "code",
   "execution_count": null,
   "id": "077d363b-78e3-4cab-b1f1-a3ead702e403",
   "metadata": {
    "execution": {
     "iopub.execute_input": "2022-01-19T03:27:24.539416Z",
     "iopub.status.busy": "2022-01-19T03:27:24.539077Z",
     "iopub.status.idle": "2022-01-19T03:27:24.563818Z",
     "shell.execute_reply": "2022-01-19T03:27:24.563400Z"
    },
    "papermill": {
     "duration": null,
     "end_time": null,
     "exception": null,
     "start_time": null,
     "status": "completed"
    },
    "tags": []
   },
   "outputs": [],
   "source": [
    "quantiles_category_percent = C3S.calculate_quantiles_probabilities(dset_cat, ncategories=ncategories)"
   ]
  },
  {
   "cell_type": "code",
   "execution_count": null,
   "id": "90085bf9-c7cd-4251-89dd-204a9bbff11f",
   "metadata": {
    "execution": {
     "iopub.execute_input": "2022-01-19T03:27:24.761679Z",
     "iopub.status.busy": "2022-01-19T03:27:24.761349Z",
     "iopub.status.idle": "2022-01-19T03:27:24.787441Z",
     "shell.execute_reply": "2022-01-19T03:27:24.787745Z"
    },
    "papermill": {
     "duration": null,
     "end_time": null,
     "exception": null,
     "start_time": null,
     "status": "completed"
    },
    "tags": []
   },
   "outputs": [],
   "source": [
    "quantiles_category_percent"
   ]
  },
  {
   "cell_type": "markdown",
   "id": "65d35159-6cd9-401b-b44d-2d26af440b7f",
   "metadata": {
    "papermill": {
     "duration": null,
     "end_time": null,
     "exception": null,
     "start_time": null,
     "status": "completed"
    },
    "tags": []
   },
   "source": [
    "### because of numerical approximations, sometimes the sum over the quantile dimension is not strictly equal to 100."
   ]
  },
  {
   "cell_type": "code",
   "execution_count": null,
   "id": "a6cf5f7b-e6c8-4761-995a-c305bda0a8dd",
   "metadata": {
    "execution": {
     "iopub.execute_input": "2022-01-19T03:27:25.186958Z",
     "iopub.status.busy": "2022-01-19T03:27:25.186621Z",
     "iopub.status.idle": "2022-01-19T03:27:25.205369Z",
     "shell.execute_reply": "2022-01-19T03:27:25.205748Z"
    },
    "papermill": {
     "duration": null,
     "end_time": null,
     "exception": null,
     "start_time": null,
     "status": "completed"
    },
    "tags": []
   },
   "outputs": [],
   "source": [
    "np.alltrue((quantiles_category_percent.sum(quantiles)['precip'] == 100.))"
   ]
  },
  {
   "cell_type": "markdown",
   "id": "14290cab-e2e3-4ab8-ba8a-fbf1ce8ffb47",
   "metadata": {
    "papermill": {
     "duration": null,
     "end_time": null,
     "exception": null,
     "start_time": null,
     "status": "completed"
    },
    "tags": []
   },
   "source": [
    "### but it is close enough "
   ]
  },
  {
   "cell_type": "code",
   "execution_count": null,
   "id": "2735250f-b968-4873-b0cd-0c775bbe6cd6",
   "metadata": {
    "execution": {
     "iopub.execute_input": "2022-01-19T03:27:25.604733Z",
     "iopub.status.busy": "2022-01-19T03:27:25.604399Z",
     "iopub.status.idle": "2022-01-19T03:27:25.624242Z",
     "shell.execute_reply": "2022-01-19T03:27:25.623945Z"
    },
    "papermill": {
     "duration": null,
     "end_time": null,
     "exception": null,
     "start_time": null,
     "status": "completed"
    },
    "tags": []
   },
   "outputs": [],
   "source": [
    "np.alltrue((quantiles_category_percent.sum(quantiles)['precip'] >= 99.9999))"
   ]
  },
  {
   "cell_type": "code",
   "execution_count": null,
   "id": "a01003c5-3228-4599-8e02-70698cfc8fef",
   "metadata": {
    "execution": {
     "iopub.execute_input": "2022-01-19T03:27:25.826862Z",
     "iopub.status.busy": "2022-01-19T03:27:25.826528Z",
     "iopub.status.idle": "2022-01-19T03:27:25.845292Z",
     "shell.execute_reply": "2022-01-19T03:27:25.844977Z"
    },
    "papermill": {
     "duration": null,
     "end_time": null,
     "exception": null,
     "start_time": null,
     "status": "completed"
    },
    "tags": []
   },
   "outputs": [],
   "source": [
    "np.alltrue((quantiles_category_percent.sum(quantiles)['precip'] <= 100.0001))"
   ]
  },
  {
   "cell_type": "code",
   "execution_count": null,
   "id": "5f9b34cf-4ead-4a97-885b-67f1ff3247f8",
   "metadata": {
    "execution": {
     "iopub.execute_input": "2022-01-19T03:27:26.048158Z",
     "iopub.status.busy": "2022-01-19T03:27:26.047755Z",
     "iopub.status.idle": "2022-01-19T03:27:26.073312Z",
     "shell.execute_reply": "2022-01-19T03:27:26.072970Z"
    },
    "papermill": {
     "duration": null,
     "end_time": null,
     "exception": null,
     "start_time": null,
     "status": "completed"
    },
    "tags": []
   },
   "outputs": [],
   "source": [
    "quantiles_category_percent"
   ]
  },
  {
   "cell_type": "markdown",
   "id": "843199f1-5fe5-4417-9107-4ac6a61bc68e",
   "metadata": {
    "papermill": {
     "duration": null,
     "end_time": null,
     "exception": null,
     "start_time": null,
     "status": "completed"
    },
    "tags": []
   },
   "source": [
    "### saves the percentiles in netcdf "
   ]
  },
  {
   "cell_type": "code",
   "execution_count": null,
   "id": "89305ca0-b474-467f-876c-0300bcabd90c",
   "metadata": {
    "execution": {
     "iopub.execute_input": "2022-01-19T03:27:26.478656Z",
     "iopub.status.busy": "2022-01-19T03:27:26.478292Z",
     "iopub.status.idle": "2022-01-19T03:27:26.495019Z",
     "shell.execute_reply": "2022-01-19T03:27:26.494649Z"
    },
    "papermill": {
     "duration": null,
     "end_time": null,
     "exception": null,
     "start_time": null,
     "status": "completed"
    },
    "tags": []
   },
   "outputs": [],
   "source": [
    "if not outputs_path.joinpath(f\"hindcast_categories\").exists(): \n",
    "    outputs_path.joinpath(f\"hindcast_categories\").mkdir()"
   ]
  },
  {
   "cell_type": "code",
   "execution_count": null,
   "id": "a8abac51-e140-4bdf-b9e9-c4f686a270b8",
   "metadata": {
    "execution": {
     "iopub.execute_input": "2022-01-19T03:27:26.710875Z",
     "iopub.status.busy": "2022-01-19T03:27:26.710529Z",
     "iopub.status.idle": "2022-01-19T03:27:26.732993Z",
     "shell.execute_reply": "2022-01-19T03:27:26.732673Z"
    },
    "papermill": {
     "duration": null,
     "end_time": null,
     "exception": null,
     "start_time": null,
     "status": "completed"
    },
    "tags": []
   },
   "outputs": [],
   "source": [
    "quantiles_category_percent.to_netcdf(outputs_path.joinpath(f\"hindcast_categories/{method}_{quantiles}_categories_probabilities_hindcast_{GCM}_{period}_{utils.sanitize_name(country)}_{utils.sanitize_name(admin)}.nc\"))"
   ]
  },
  {
   "cell_type": "code",
   "execution_count": null,
   "id": "fb82b9f7-938b-48fa-9b22-87b6ac8ae539",
   "metadata": {
    "execution": {
     "iopub.execute_input": "2022-01-19T03:27:26.943345Z",
     "iopub.status.busy": "2022-01-19T03:27:26.942987Z",
     "iopub.status.idle": "2022-01-19T03:27:26.968776Z",
     "shell.execute_reply": "2022-01-19T03:27:26.968426Z"
    },
    "papermill": {
     "duration": null,
     "end_time": null,
     "exception": null,
     "start_time": null,
     "status": "completed"
    },
    "tags": []
   },
   "outputs": [],
   "source": [
    "quantiles_category_percent"
   ]
  },
  {
   "cell_type": "code",
   "execution_count": null,
   "id": "e2ef86a8-62dd-444a-9d12-c1d97c1d26ca",
   "metadata": {
    "execution": {
     "iopub.execute_input": "2022-01-19T03:27:27.185007Z",
     "iopub.status.busy": "2022-01-19T03:27:27.184676Z",
     "iopub.status.idle": "2022-01-19T03:27:27.203259Z",
     "shell.execute_reply": "2022-01-19T03:27:27.202941Z"
    },
    "papermill": {
     "duration": null,
     "end_time": null,
     "exception": null,
     "start_time": null,
     "status": "completed"
    },
    "tags": []
   },
   "outputs": [],
   "source": [
    "outputs_path"
   ]
  },
  {
   "cell_type": "markdown",
   "id": "41a2a1de-22c8-4828-a051-c1f476deaced",
   "metadata": {
    "papermill": {
     "duration": null,
     "end_time": null,
     "exception": null,
     "start_time": null,
     "status": "completed"
    },
    "tags": []
   },
   "source": [
    "### takes the percentile probabilities then casts into a pandas dataframe "
   ]
  },
  {
   "cell_type": "markdown",
   "id": "53464969-9103-4497-86e1-0c0e8f03b948",
   "metadata": {
    "papermill": {
     "duration": null,
     "end_time": null,
     "exception": null,
     "start_time": null,
     "status": "completed"
    },
    "tags": []
   },
   "source": [
    "#### these are the leadtimes, in months, should be [1,2,3,4,5] if monthly, [3,4,5] if seasonal "
   ]
  },
  {
   "cell_type": "code",
   "execution_count": null,
   "id": "bf3c5e97-917b-40a5-b9b1-7f636801cfb3",
   "metadata": {
    "execution": {
     "iopub.execute_input": "2022-01-19T03:27:27.834592Z",
     "iopub.status.busy": "2022-01-19T03:27:27.834245Z",
     "iopub.status.idle": "2022-01-19T03:27:27.860021Z",
     "shell.execute_reply": "2022-01-19T03:27:27.859676Z"
    },
    "papermill": {
     "duration": null,
     "end_time": null,
     "exception": null,
     "start_time": null,
     "status": "completed"
    },
    "tags": []
   },
   "outputs": [],
   "source": [
    "quantiles_category_percent"
   ]
  },
  {
   "cell_type": "markdown",
   "id": "9576d67b-4833-466b-a7df-e7e702f0a008",
   "metadata": {
    "papermill": {
     "duration": null,
     "end_time": null,
     "exception": null,
     "start_time": null,
     "status": "completed"
    },
    "tags": []
   },
   "source": [
    "### transform the xarray dataset into a pandas dataframe with multiindex columns (product of leadtimes and quantiles)"
   ]
  },
  {
   "cell_type": "code",
   "execution_count": null,
   "id": "a72224cc-dd1f-4703-96af-9abf1de999d0",
   "metadata": {
    "execution": {
     "iopub.execute_input": "2022-01-19T03:27:28.287000Z",
     "iopub.status.busy": "2022-01-19T03:27:28.286642Z",
     "iopub.status.idle": "2022-01-19T03:27:28.307789Z",
     "shell.execute_reply": "2022-01-19T03:27:28.307421Z"
    },
    "papermill": {
     "duration": null,
     "end_time": null,
     "exception": null,
     "start_time": null,
     "status": "completed"
    },
    "tags": []
   },
   "outputs": [],
   "source": [
    "df_quantile_probabilities = []\n",
    "\n",
    "for step in steps: \n",
    "    \n",
    "    df = quantiles_category_percent.sel(step=step)['precip'].to_pandas().T\n",
    "    \n",
    "    cols = pd.MultiIndex.from_product([[step], df.columns]) \n",
    "\n",
    "    df.columns = cols \n",
    "    \n",
    "    df_quantile_probabilities.append(df)\n"
   ]
  },
  {
   "cell_type": "code",
   "execution_count": null,
   "id": "4800ab36-d03b-4dde-98c0-d5935fd3fcb3",
   "metadata": {
    "execution": {
     "iopub.execute_input": "2022-01-19T03:27:28.522611Z",
     "iopub.status.busy": "2022-01-19T03:27:28.522247Z",
     "iopub.status.idle": "2022-01-19T03:27:28.540191Z",
     "shell.execute_reply": "2022-01-19T03:27:28.539889Z"
    },
    "papermill": {
     "duration": null,
     "end_time": null,
     "exception": null,
     "start_time": null,
     "status": "completed"
    },
    "tags": []
   },
   "outputs": [],
   "source": [
    "df_quantile_probabilities = pd.concat(df_quantile_probabilities, axis=1) "
   ]
  },
  {
   "cell_type": "code",
   "execution_count": null,
   "id": "7f993a96-cb0f-49ad-81c9-3115dae040fd",
   "metadata": {
    "execution": {
     "iopub.execute_input": "2022-01-19T03:27:28.754321Z",
     "iopub.status.busy": "2022-01-19T03:27:28.753983Z",
     "iopub.status.idle": "2022-01-19T03:27:28.779838Z",
     "shell.execute_reply": "2022-01-19T03:27:28.779436Z"
    },
    "papermill": {
     "duration": null,
     "end_time": null,
     "exception": null,
     "start_time": null,
     "status": "completed"
    },
    "tags": []
   },
   "outputs": [],
   "source": [
    "df_quantile_probabilities.head()"
   ]
  },
  {
   "cell_type": "markdown",
   "id": "7081ba53-360b-4c6c-99fa-05508152b6e9",
   "metadata": {
    "papermill": {
     "duration": null,
     "end_time": null,
     "exception": null,
     "start_time": null,
     "status": "completed"
    },
    "tags": []
   },
   "source": [
    "### saves to disk "
   ]
  },
  {
   "cell_type": "code",
   "execution_count": null,
   "id": "edb7ad9e-dc59-4555-827d-41abc3c88844",
   "metadata": {
    "execution": {
     "iopub.execute_input": "2022-01-19T03:27:29.200597Z",
     "iopub.status.busy": "2022-01-19T03:27:29.200193Z",
     "iopub.status.idle": "2022-01-19T03:27:29.217568Z",
     "shell.execute_reply": "2022-01-19T03:27:29.217225Z"
    },
    "papermill": {
     "duration": null,
     "end_time": null,
     "exception": null,
     "start_time": null,
     "status": "completed"
    },
    "tags": []
   },
   "outputs": [],
   "source": [
    "outputs_path"
   ]
  },
  {
   "cell_type": "code",
   "execution_count": null,
   "id": "75842abe-5697-447e-8bb6-1698cc987323",
   "metadata": {
    "execution": {
     "iopub.execute_input": "2022-01-19T03:27:29.431917Z",
     "iopub.status.busy": "2022-01-19T03:27:29.431554Z",
     "iopub.status.idle": "2022-01-19T03:27:29.453378Z",
     "shell.execute_reply": "2022-01-19T03:27:29.453671Z"
    },
    "papermill": {
     "duration": null,
     "end_time": null,
     "exception": null,
     "start_time": null,
     "status": "completed"
    },
    "tags": []
   },
   "outputs": [],
   "source": [
    "df_quantile_probabilities.to_csv(outputs_path.joinpath(f\"hindcast_categories/{method}_{quantiles}_categories_probabilities_hindcast_{GCM}_{period}_{utils.sanitize_name(country)}_{utils.sanitize_name(admin)}.csv\"))"
   ]
  },
  {
   "cell_type": "markdown",
   "id": "f108a58d-570c-4816-abf9-b2cd464348f3",
   "metadata": {
    "papermill": {
     "duration": null,
     "end_time": null,
     "exception": null,
     "start_time": null,
     "status": "completed"
    },
    "tags": []
   },
   "source": [
    "### Now we are going to read the ERA5 reanalysis precipitation data for the validation of the regional aggregates "
   ]
  },
  {
   "cell_type": "code",
   "execution_count": null,
   "id": "c3236810-b434-4f84-a62b-d20febab69f7",
   "metadata": {
    "execution": {
     "iopub.execute_input": "2022-01-19T03:27:29.880684Z",
     "iopub.status.busy": "2022-01-19T03:27:29.880341Z",
     "iopub.status.idle": "2022-01-19T03:27:29.896527Z",
     "shell.execute_reply": "2022-01-19T03:27:29.896813Z"
    },
    "papermill": {
     "duration": null,
     "end_time": null,
     "exception": null,
     "start_time": null,
     "status": "completed"
    },
    "tags": []
   },
   "outputs": [],
   "source": [
    "from ICU_Water_Watch import verification"
   ]
  },
  {
   "cell_type": "code",
   "execution_count": null,
   "id": "21033a9a-6b1b-4b97-9d66-b55215d40b9e",
   "metadata": {
    "execution": {
     "iopub.execute_input": "2022-01-19T03:27:30.105909Z",
     "iopub.status.busy": "2022-01-19T03:27:30.105577Z",
     "iopub.status.idle": "2022-01-19T03:27:30.122304Z",
     "shell.execute_reply": "2022-01-19T03:27:30.121956Z"
    },
    "papermill": {
     "duration": null,
     "end_time": null,
     "exception": null,
     "start_time": null,
     "status": "completed"
    },
    "tags": []
   },
   "outputs": [],
   "source": [
    "use_verif = 'era'"
   ]
  },
  {
   "cell_type": "code",
   "execution_count": null,
   "id": "d445e336-8f30-452b-9c63-e0b6e245171e",
   "metadata": {
    "execution": {
     "iopub.execute_input": "2022-01-19T03:27:30.328498Z",
     "iopub.status.busy": "2022-01-19T03:27:30.328165Z",
     "iopub.status.idle": "2022-01-19T03:27:33.958798Z",
     "shell.execute_reply": "2022-01-19T03:27:33.958484Z"
    },
    "papermill": {
     "duration": null,
     "end_time": null,
     "exception": null,
     "start_time": null,
     "status": "completed"
    },
    "tags": []
   },
   "outputs": [],
   "source": [
    "dset_obs, dset_anomalies = verification.get_era5()"
   ]
  },
  {
   "cell_type": "code",
   "execution_count": null,
   "id": "491c0d78-1634-4884-844b-601cb6b10e7c",
   "metadata": {
    "execution": {
     "iopub.execute_input": "2022-01-19T03:27:34.183350Z",
     "iopub.status.busy": "2022-01-19T03:27:34.183014Z",
     "iopub.status.idle": "2022-01-19T03:27:34.199724Z",
     "shell.execute_reply": "2022-01-19T03:27:34.199410Z"
    },
    "papermill": {
     "duration": null,
     "end_time": null,
     "exception": null,
     "start_time": null,
     "status": "completed"
    },
    "tags": []
   },
   "outputs": [],
   "source": [
    "gcm_domain = domains.get_domain(dset)"
   ]
  },
  {
   "cell_type": "code",
   "execution_count": null,
   "id": "98938a05-ae42-424e-8b83-2aa6e2e9e71d",
   "metadata": {
    "execution": {
     "iopub.execute_input": "2022-01-19T03:27:34.408937Z",
     "iopub.status.busy": "2022-01-19T03:27:34.408595Z",
     "iopub.status.idle": "2022-01-19T03:27:34.426442Z",
     "shell.execute_reply": "2022-01-19T03:27:34.426154Z"
    },
    "papermill": {
     "duration": null,
     "end_time": null,
     "exception": null,
     "start_time": null,
     "status": "completed"
    },
    "tags": []
   },
   "outputs": [],
   "source": [
    "gcm_domain"
   ]
  },
  {
   "cell_type": "code",
   "execution_count": null,
   "id": "a1075152-ff65-4a96-9942-05c51bcdba80",
   "metadata": {
    "execution": {
     "iopub.execute_input": "2022-01-19T03:27:34.638064Z",
     "iopub.status.busy": "2022-01-19T03:27:34.637732Z",
     "iopub.status.idle": "2022-01-19T03:27:34.655277Z",
     "shell.execute_reply": "2022-01-19T03:27:34.655549Z"
    },
    "papermill": {
     "duration": null,
     "end_time": null,
     "exception": null,
     "start_time": null,
     "status": "completed"
    },
    "tags": []
   },
   "outputs": [],
   "source": [
    "dset_obs = dset_obs.sel(lon=slice(*gcm_domain[:2]), lat=slice(*gcm_domain[2:]))"
   ]
  },
  {
   "cell_type": "code",
   "execution_count": null,
   "id": "1c5398c9-397c-42e9-81c0-42bd998cee85",
   "metadata": {
    "execution": {
     "iopub.execute_input": "2022-01-19T03:27:34.862536Z",
     "iopub.status.busy": "2022-01-19T03:27:34.862192Z",
     "iopub.status.idle": "2022-01-19T03:27:34.889214Z",
     "shell.execute_reply": "2022-01-19T03:27:34.888919Z"
    },
    "papermill": {
     "duration": null,
     "end_time": null,
     "exception": null,
     "start_time": null,
     "status": "completed"
    },
    "tags": []
   },
   "outputs": [],
   "source": [
    "dset_obs"
   ]
  },
  {
   "cell_type": "markdown",
   "id": "b2aa383b-dfae-4562-bf1d-3d29e025d41c",
   "metadata": {
    "papermill": {
     "duration": null,
     "end_time": null,
     "exception": null,
     "start_time": null,
     "status": "completed"
    },
    "tags": []
   },
   "source": [
    "### if seasonal, calculates the 3 months accumulations "
   ]
  },
  {
   "cell_type": "code",
   "execution_count": null,
   "id": "896e3a21-da11-4237-b2d8-89905957927c",
   "metadata": {
    "execution": {
     "iopub.execute_input": "2022-01-19T03:27:35.314622Z",
     "iopub.status.busy": "2022-01-19T03:27:35.314291Z",
     "iopub.status.idle": "2022-01-19T03:27:35.363711Z",
     "shell.execute_reply": "2022-01-19T03:27:35.363987Z"
    },
    "papermill": {
     "duration": null,
     "end_time": null,
     "exception": null,
     "start_time": null,
     "status": "completed"
    },
    "tags": []
   },
   "outputs": [],
   "source": [
    "if period == 'seasonal': \n",
    "    \n",
    "    dset_obs = dset_obs.rolling({\"time\":3}, min_periods=3, center=False).sum('time')\n",
    "    \n",
    "    dset_obs = dset_obs.isel(time=slice(2, None))"
   ]
  },
  {
   "cell_type": "code",
   "execution_count": null,
   "id": "d46889ef-b36a-4fd4-ac1a-e5c6fc602c57",
   "metadata": {
    "execution": {
     "iopub.execute_input": "2022-01-19T03:27:35.576876Z",
     "iopub.status.busy": "2022-01-19T03:27:35.576494Z",
     "iopub.status.idle": "2022-01-19T03:27:35.792146Z",
     "shell.execute_reply": "2022-01-19T03:27:35.792405Z"
    },
    "papermill": {
     "duration": null,
     "end_time": null,
     "exception": null,
     "start_time": null,
     "status": "completed"
    },
    "tags": []
   },
   "outputs": [],
   "source": [
    "dset_obs['precip'][0,:,:].plot()"
   ]
  },
  {
   "cell_type": "code",
   "execution_count": null,
   "id": "e33ab35f-fd2b-4e2d-924e-9c018e481df4",
   "metadata": {
    "execution": {
     "iopub.execute_input": "2022-01-19T03:27:36.003600Z",
     "iopub.status.busy": "2022-01-19T03:27:36.002883Z",
     "iopub.status.idle": "2022-01-19T03:27:36.027821Z",
     "shell.execute_reply": "2022-01-19T03:27:36.027427Z"
    },
    "papermill": {
     "duration": null,
     "end_time": null,
     "exception": null,
     "start_time": null,
     "status": "completed"
    },
    "tags": []
   },
   "outputs": [],
   "source": [
    "dset_obs = dset_obs.interp_like(dset[['lon','lat']])"
   ]
  },
  {
   "cell_type": "code",
   "execution_count": null,
   "id": "b21d55fa-49c6-48bc-b9b6-0addecaf290b",
   "metadata": {
    "execution": {
     "iopub.execute_input": "2022-01-19T03:27:36.238687Z",
     "iopub.status.busy": "2022-01-19T03:27:36.238357Z",
     "iopub.status.idle": "2022-01-19T03:27:36.266040Z",
     "shell.execute_reply": "2022-01-19T03:27:36.265704Z"
    },
    "papermill": {
     "duration": null,
     "end_time": null,
     "exception": null,
     "start_time": null,
     "status": "completed"
    },
    "tags": []
   },
   "outputs": [],
   "source": [
    "dset_obs"
   ]
  },
  {
   "cell_type": "code",
   "execution_count": null,
   "id": "c74fae91-cafe-439d-9145-780e1e32ae19",
   "metadata": {
    "execution": {
     "iopub.execute_input": "2022-01-19T03:27:36.474691Z",
     "iopub.status.busy": "2022-01-19T03:27:36.474362Z",
     "iopub.status.idle": "2022-01-19T03:27:36.684819Z",
     "shell.execute_reply": "2022-01-19T03:27:36.684460Z"
    },
    "papermill": {
     "duration": null,
     "end_time": null,
     "exception": null,
     "start_time": null,
     "status": "completed"
    },
    "tags": []
   },
   "outputs": [],
   "source": [
    "dset_obs['precip'][0,:,:].plot()"
   ]
  },
  {
   "cell_type": "markdown",
   "id": "fe7b00d0-170a-4cf1-a5a1-4bf37732fe78",
   "metadata": {
    "papermill": {
     "duration": null,
     "end_time": null,
     "exception": null,
     "start_time": null,
     "status": "completed"
    },
    "tags": []
   },
   "source": [
    "### insert the mask from the GCM dataset"
   ]
  },
  {
   "cell_type": "code",
   "execution_count": null,
   "id": "c3de7755-be69-4e44-abc5-3bdf528266ef",
   "metadata": {
    "execution": {
     "iopub.execute_input": "2022-01-19T03:27:37.111894Z",
     "iopub.status.busy": "2022-01-19T03:27:37.111501Z",
     "iopub.status.idle": "2022-01-19T03:27:37.129337Z",
     "shell.execute_reply": "2022-01-19T03:27:37.129657Z"
    },
    "papermill": {
     "duration": null,
     "end_time": null,
     "exception": null,
     "start_time": null,
     "status": "completed"
    },
    "tags": []
   },
   "outputs": [],
   "source": [
    "dset_obs['mask'] = dset['mask']"
   ]
  },
  {
   "cell_type": "markdown",
   "id": "0aa7a082-7073-4c4c-b43e-6a08337d9058",
   "metadata": {
    "papermill": {
     "duration": null,
     "end_time": null,
     "exception": null,
     "start_time": null,
     "status": "completed"
    },
    "tags": []
   },
   "source": [
    "### same grid and same mask as the GCM "
   ]
  },
  {
   "cell_type": "code",
   "execution_count": null,
   "id": "ac35548b-848f-49ff-a0aa-41652ba15f77",
   "metadata": {
    "execution": {
     "iopub.execute_input": "2022-01-19T03:27:37.560551Z",
     "iopub.status.busy": "2022-01-19T03:27:37.560221Z",
     "iopub.status.idle": "2022-01-19T03:27:37.706399Z",
     "shell.execute_reply": "2022-01-19T03:27:37.706043Z"
    },
    "papermill": {
     "duration": null,
     "end_time": null,
     "exception": null,
     "start_time": null,
     "status": "completed"
    },
    "tags": []
   },
   "outputs": [],
   "source": [
    "dset['mask'].plot()"
   ]
  },
  {
   "cell_type": "code",
   "execution_count": null,
   "id": "3e019995-a304-4d1c-ab56-7ca91ea0b4e7",
   "metadata": {
    "execution": {
     "iopub.execute_input": "2022-01-19T03:27:37.918147Z",
     "iopub.status.busy": "2022-01-19T03:27:37.917822Z",
     "iopub.status.idle": "2022-01-19T03:27:38.066450Z",
     "shell.execute_reply": "2022-01-19T03:27:38.066096Z"
    },
    "papermill": {
     "duration": null,
     "end_time": null,
     "exception": null,
     "start_time": null,
     "status": "completed"
    },
    "tags": []
   },
   "outputs": [],
   "source": [
    "dset_obs['mask'].plot()"
   ]
  },
  {
   "cell_type": "markdown",
   "id": "a55613cb-acfb-43fa-8860-747866ff1633",
   "metadata": {
    "papermill": {
     "duration": null,
     "end_time": null,
     "exception": null,
     "start_time": null,
     "status": "completed"
    },
    "tags": []
   },
   "source": [
    "### apply the mask "
   ]
  },
  {
   "cell_type": "code",
   "execution_count": null,
   "id": "e36d4096-4797-48ea-88bc-72755598fbdb",
   "metadata": {
    "execution": {
     "iopub.execute_input": "2022-01-19T03:27:38.501446Z",
     "iopub.status.busy": "2022-01-19T03:27:38.501121Z",
     "iopub.status.idle": "2022-01-19T03:27:38.520286Z",
     "shell.execute_reply": "2022-01-19T03:27:38.519996Z"
    },
    "papermill": {
     "duration": null,
     "end_time": null,
     "exception": null,
     "start_time": null,
     "status": "completed"
    },
    "tags": []
   },
   "outputs": [],
   "source": [
    "dset_obs['precip'] = dset_obs['precip'] * dset_obs['mask']"
   ]
  },
  {
   "cell_type": "code",
   "execution_count": null,
   "id": "2dc51c4a-b703-4bae-8f52-8f17b83e7272",
   "metadata": {
    "execution": {
     "iopub.execute_input": "2022-01-19T03:27:38.735222Z",
     "iopub.status.busy": "2022-01-19T03:27:38.734869Z",
     "iopub.status.idle": "2022-01-19T03:27:38.950687Z",
     "shell.execute_reply": "2022-01-19T03:27:38.950346Z"
    },
    "papermill": {
     "duration": null,
     "end_time": null,
     "exception": null,
     "start_time": null,
     "status": "completed"
    },
    "tags": []
   },
   "outputs": [],
   "source": [
    "dset_obs.isel(time=0).squeeze()['precip'].plot()"
   ]
  },
  {
   "cell_type": "markdown",
   "id": "3b321fbd-ef93-41bc-bb26-e784547fad8a",
   "metadata": {
    "papermill": {
     "duration": null,
     "end_time": null,
     "exception": null,
     "start_time": null,
     "status": "completed"
    },
    "tags": []
   },
   "source": [
    "### insert a dummy \"member\" dimension with one coordinate"
   ]
  },
  {
   "cell_type": "code",
   "execution_count": null,
   "id": "4439a6e9-ca31-4195-b0be-8a5eb7c90501",
   "metadata": {
    "execution": {
     "iopub.execute_input": "2022-01-19T03:27:39.405271Z",
     "iopub.status.busy": "2022-01-19T03:27:39.404936Z",
     "iopub.status.idle": "2022-01-19T03:27:39.422953Z",
     "shell.execute_reply": "2022-01-19T03:27:39.422603Z"
    },
    "papermill": {
     "duration": null,
     "end_time": null,
     "exception": null,
     "start_time": null,
     "status": "completed"
    },
    "tags": []
   },
   "outputs": [],
   "source": [
    "dset_obs = dset_obs.expand_dims({'member':[1]})"
   ]
  },
  {
   "cell_type": "markdown",
   "id": "cb9b7fb7-a64f-4d67-a338-76ed3123d387",
   "metadata": {
    "papermill": {
     "duration": null,
     "end_time": null,
     "exception": null,
     "start_time": null,
     "status": "completed"
    },
    "tags": []
   },
   "source": [
    "### calculates the regional average "
   ]
  },
  {
   "cell_type": "code",
   "execution_count": null,
   "id": "45fb3136-efa6-497e-9568-2a3d807976a7",
   "metadata": {
    "execution": {
     "iopub.execute_input": "2022-01-19T03:27:39.866867Z",
     "iopub.status.busy": "2022-01-19T03:27:39.866514Z",
     "iopub.status.idle": "2022-01-19T03:27:39.886130Z",
     "shell.execute_reply": "2022-01-19T03:27:39.885811Z"
    },
    "papermill": {
     "duration": null,
     "end_time": null,
     "exception": null,
     "start_time": null,
     "status": "completed"
    },
    "tags": []
   },
   "outputs": [],
   "source": [
    "dset_obs_sub = dset_obs[['precip']].mean(['lat','lon'])"
   ]
  },
  {
   "cell_type": "code",
   "execution_count": null,
   "id": "73d6620d-74c2-465b-896c-a76bfca47df1",
   "metadata": {
    "execution": {
     "iopub.execute_input": "2022-01-19T03:27:40.105833Z",
     "iopub.status.busy": "2022-01-19T03:27:40.105491Z",
     "iopub.status.idle": "2022-01-19T03:27:40.130402Z",
     "shell.execute_reply": "2022-01-19T03:27:40.130662Z"
    },
    "papermill": {
     "duration": null,
     "end_time": null,
     "exception": null,
     "start_time": null,
     "status": "completed"
    },
    "tags": []
   },
   "outputs": [],
   "source": [
    "dset_obs_sub"
   ]
  },
  {
   "cell_type": "code",
   "execution_count": null,
   "id": "b22efb7d-07f7-425f-89ed-a918104d901b",
   "metadata": {
    "execution": {
     "iopub.execute_input": "2022-01-19T03:27:40.349089Z",
     "iopub.status.busy": "2022-01-19T03:27:40.348756Z",
     "iopub.status.idle": "2022-01-19T03:27:40.366802Z",
     "shell.execute_reply": "2022-01-19T03:27:40.367061Z"
    },
    "papermill": {
     "duration": null,
     "end_time": null,
     "exception": null,
     "start_time": null,
     "status": "completed"
    },
    "tags": []
   },
   "outputs": [],
   "source": [
    "dset_obs_sub = dset_obs_sub.chunk({'member':-1, 'time':-1})"
   ]
  },
  {
   "cell_type": "code",
   "execution_count": null,
   "id": "481738ec-f5f4-42de-b94d-cacc28e004ae",
   "metadata": {
    "execution": {
     "iopub.execute_input": "2022-01-19T03:27:40.584149Z",
     "iopub.status.busy": "2022-01-19T03:27:40.583816Z",
     "iopub.status.idle": "2022-01-19T03:27:43.745849Z",
     "shell.execute_reply": "2022-01-19T03:27:43.745208Z"
    },
    "papermill": {
     "duration": null,
     "end_time": null,
     "exception": null,
     "start_time": null,
     "status": "completed"
    },
    "tags": []
   },
   "outputs": [],
   "source": [
    "with ProgressBar(): \n",
    "    dset_obs_sub = dset_obs_sub.compute()"
   ]
  },
  {
   "cell_type": "markdown",
   "id": "e17107ed-e9c7-42a1-b1be-1c64fe0022f7",
   "metadata": {
    "papermill": {
     "duration": null,
     "end_time": null,
     "exception": null,
     "start_time": null,
     "status": "completed"
    },
    "tags": []
   },
   "source": [
    "### Now calculates the climatological percentiles for the observations, per month "
   ]
  },
  {
   "cell_type": "code",
   "execution_count": null,
   "id": "2e11e3f8-f685-4c12-9fa2-f3bf4e6a5b88",
   "metadata": {
    "execution": {
     "iopub.execute_input": "2022-01-19T03:27:44.224044Z",
     "iopub.status.busy": "2022-01-19T03:27:44.223709Z",
     "iopub.status.idle": "2022-01-19T03:27:44.255492Z",
     "shell.execute_reply": "2022-01-19T03:27:44.255825Z"
    },
    "papermill": {
     "duration": null,
     "end_time": null,
     "exception": null,
     "start_time": null,
     "status": "completed"
    },
    "tags": []
   },
   "outputs": [],
   "source": [
    "clim_obs_p = dset_obs_sub.groupby(dset_obs_sub.time.dt.month).apply(C3S.calc_empirical_quantiles, **{'quantiles':dict_quantiles[quantiles]})"
   ]
  },
  {
   "cell_type": "markdown",
   "id": "f2ceb330-bf84-4f89-8c33-2b5d1aec3081",
   "metadata": {
    "papermill": {
     "duration": null,
     "end_time": null,
     "exception": null,
     "start_time": null,
     "status": "completed"
    },
    "tags": []
   },
   "source": [
    "### Now calculates the categories, based on the observations, for each month or season "
   ]
  },
  {
   "cell_type": "code",
   "execution_count": null,
   "id": "ff81af64-49ba-4e88-a8b3-a546a5a87291",
   "metadata": {
    "execution": {
     "iopub.execute_input": "2022-01-19T03:27:44.705807Z",
     "iopub.status.busy": "2022-01-19T03:27:44.705464Z",
     "iopub.status.idle": "2022-01-19T03:27:44.751134Z",
     "shell.execute_reply": "2022-01-19T03:27:44.750772Z"
    },
    "papermill": {
     "duration": null,
     "end_time": null,
     "exception": null,
     "start_time": null,
     "status": "completed"
    },
    "tags": []
   },
   "outputs": [],
   "source": [
    "dset_obs_cat = []\n",
    "\n",
    "for month in np.unique(dset_obs_sub.time.dt.month): \n",
    "    \n",
    "    x = dset_obs_sub.sel(time=(dset_obs_sub.time.dt.month == month))\n",
    "\n",
    "    # digitize\n",
    "\n",
    "    qc = C3S.get_GCM_category_digitize(x, clim_obs_p.sel(month=month), varname='precip', dim='quantile')\n",
    "    \n",
    "    dset_obs_cat.append(qc)"
   ]
  },
  {
   "cell_type": "code",
   "execution_count": null,
   "id": "45787360-b956-468d-bf6b-4f10d83e496a",
   "metadata": {
    "execution": {
     "iopub.execute_input": "2022-01-19T03:27:44.995668Z",
     "iopub.status.busy": "2022-01-19T03:27:44.995279Z",
     "iopub.status.idle": "2022-01-19T03:27:45.016509Z",
     "shell.execute_reply": "2022-01-19T03:27:45.016180Z"
    },
    "papermill": {
     "duration": null,
     "end_time": null,
     "exception": null,
     "start_time": null,
     "status": "completed"
    },
    "tags": []
   },
   "outputs": [],
   "source": [
    "dset_obs_cat = xr.concat(dset_obs_cat, dim='time')"
   ]
  },
  {
   "cell_type": "code",
   "execution_count": null,
   "id": "8933a431-eb0c-473e-811b-85906a5f18f8",
   "metadata": {
    "execution": {
     "iopub.execute_input": "2022-01-19T03:27:45.251190Z",
     "iopub.status.busy": "2022-01-19T03:27:45.250824Z",
     "iopub.status.idle": "2022-01-19T03:27:45.268190Z",
     "shell.execute_reply": "2022-01-19T03:27:45.267837Z"
    },
    "papermill": {
     "duration": null,
     "end_time": null,
     "exception": null,
     "start_time": null,
     "status": "completed"
    },
    "tags": []
   },
   "outputs": [],
   "source": [
    "dset_obs_cat = dset_obs_cat.sortby('time')"
   ]
  },
  {
   "cell_type": "code",
   "execution_count": null,
   "id": "c1bfe670-54f1-4342-a751-c5e6c3cea19e",
   "metadata": {
    "execution": {
     "iopub.execute_input": "2022-01-19T03:27:45.503706Z",
     "iopub.status.busy": "2022-01-19T03:27:45.503319Z",
     "iopub.status.idle": "2022-01-19T03:27:45.520664Z",
     "shell.execute_reply": "2022-01-19T03:27:45.520942Z"
    },
    "papermill": {
     "duration": null,
     "end_time": null,
     "exception": null,
     "start_time": null,
     "status": "completed"
    },
    "tags": []
   },
   "outputs": [],
   "source": [
    "dset_obs_cat = dset_obs_cat.squeeze()['precip'].to_pandas()"
   ]
  },
  {
   "cell_type": "code",
   "execution_count": null,
   "id": "72d066ed-e16c-492d-8bf6-c0caf921a636",
   "metadata": {
    "execution": {
     "iopub.execute_input": "2022-01-19T03:27:45.756230Z",
     "iopub.status.busy": "2022-01-19T03:27:45.755887Z",
     "iopub.status.idle": "2022-01-19T03:27:45.778546Z",
     "shell.execute_reply": "2022-01-19T03:27:45.778823Z"
    },
    "papermill": {
     "duration": null,
     "end_time": null,
     "exception": null,
     "start_time": null,
     "status": "completed"
    },
    "tags": []
   },
   "outputs": [],
   "source": [
    "dset_obs_cat"
   ]
  },
  {
   "cell_type": "code",
   "execution_count": null,
   "id": "d28129e6-6250-407b-82e0-acaa7345a9bb",
   "metadata": {
    "execution": {
     "iopub.execute_input": "2022-01-19T03:27:46.011538Z",
     "iopub.status.busy": "2022-01-19T03:27:46.011183Z",
     "iopub.status.idle": "2022-01-19T03:27:46.038697Z",
     "shell.execute_reply": "2022-01-19T03:27:46.038353Z"
    },
    "papermill": {
     "duration": null,
     "end_time": null,
     "exception": null,
     "start_time": null,
     "status": "completed"
    },
    "tags": []
   },
   "outputs": [],
   "source": [
    "df_quantile_probabilities"
   ]
  },
  {
   "cell_type": "code",
   "execution_count": null,
   "id": "3b60f465-4cb6-42ec-ae4a-bc489434fc69",
   "metadata": {
    "execution": {
     "iopub.execute_input": "2022-01-19T03:27:46.273975Z",
     "iopub.status.busy": "2022-01-19T03:27:46.273648Z",
     "iopub.status.idle": "2022-01-19T03:27:46.290214Z",
     "shell.execute_reply": "2022-01-19T03:27:46.289800Z"
    },
    "papermill": {
     "duration": null,
     "end_time": null,
     "exception": null,
     "start_time": null,
     "status": "completed"
    },
    "tags": []
   },
   "outputs": [],
   "source": [
    "dset_obs_cat = dset_obs_cat.to_frame(name='obs')"
   ]
  },
  {
   "cell_type": "code",
   "execution_count": null,
   "id": "609a0854-0c5f-49fd-9962-3950184e95e7",
   "metadata": {
    "execution": {
     "iopub.execute_input": "2022-01-19T03:27:46.522982Z",
     "iopub.status.busy": "2022-01-19T03:27:46.522649Z",
     "iopub.status.idle": "2022-01-19T03:27:46.541559Z",
     "shell.execute_reply": "2022-01-19T03:27:46.541243Z"
    },
    "papermill": {
     "duration": null,
     "end_time": null,
     "exception": null,
     "start_time": null,
     "status": "completed"
    },
    "tags": []
   },
   "outputs": [],
   "source": [
    "df_quantile_probabilities_obs = dset_obs_cat.join(df_quantile_probabilities, on='time')"
   ]
  },
  {
   "cell_type": "code",
   "execution_count": null,
   "id": "6543af3b-9877-4de3-864e-4fe7e7ce1939",
   "metadata": {
    "execution": {
     "iopub.execute_input": "2022-01-19T03:27:46.781721Z",
     "iopub.status.busy": "2022-01-19T03:27:46.781384Z",
     "iopub.status.idle": "2022-01-19T03:27:46.802873Z",
     "shell.execute_reply": "2022-01-19T03:27:46.802571Z"
    },
    "papermill": {
     "duration": null,
     "end_time": null,
     "exception": null,
     "start_time": null,
     "status": "completed"
    },
    "tags": []
   },
   "outputs": [],
   "source": [
    "df_quantile_probabilities_obs.to_csv(outputs_path.joinpath(f\"{utils.sanitize_name(country)}_{utils.sanitize_name(admin)}_{period}_{GCM}_{quantiles}_probs_and_obs.csv\"))"
   ]
  },
  {
   "cell_type": "code",
   "execution_count": null,
   "id": "3812b9d1-c02d-45d2-85aa-9c9852dce1b5",
   "metadata": {
    "execution": {
     "iopub.execute_input": "2022-01-19T03:27:47.042942Z",
     "iopub.status.busy": "2022-01-19T03:27:47.042597Z",
     "iopub.status.idle": "2022-01-19T03:27:47.060313Z",
     "shell.execute_reply": "2022-01-19T03:27:47.060600Z"
    },
    "papermill": {
     "duration": null,
     "end_time": null,
     "exception": null,
     "start_time": null,
     "status": "completed"
    },
    "tags": []
   },
   "outputs": [],
   "source": [
    "outputs_path"
   ]
  },
  {
   "cell_type": "markdown",
   "id": "9e056c98-06f6-4d39-88be-330bd3957e0b",
   "metadata": {
    "execution": {
     "iopub.execute_input": "2022-01-19T02:19:32.924502Z",
     "iopub.status.busy": "2022-01-19T02:19:32.924144Z",
     "iopub.status.idle": "2022-01-19T02:19:32.941644Z",
     "shell.execute_reply": "2022-01-19T02:19:32.940915Z"
    },
    "papermill": {
     "duration": null,
     "end_time": null,
     "exception": null,
     "start_time": null,
     "status": "completed"
    },
    "tags": []
   },
   "source": [
    "### do not calculate or save the validations "
   ]
  },
  {
   "cell_type": "code",
   "execution_count": null,
   "id": "f751b012-104a-4dd9-b11f-96d44c510267",
   "metadata": {
    "papermill": {
     "duration": null,
     "end_time": null,
     "exception": null,
     "start_time": null,
     "status": "completed"
    },
    "tags": []
   },
   "outputs": [],
   "source": []
  }
 ],
 "metadata": {
  "kernelspec": {
   "display_name": "Python 3 (ipykernel)",
   "language": "python",
   "name": "python3"
  },
  "language_info": {
   "codemirror_mode": {
    "name": "ipython",
    "version": 3
   },
   "file_extension": ".py",
   "mimetype": "text/x-python",
   "name": "python",
   "nbconvert_exporter": "python",
   "pygments_lexer": "ipython3",
   "version": "3.8.12"
  },
  "papermill": {
   "default_parameters": {},
   "duration": 15.150462,
   "end_time": "2022-01-19T03:28:03.805722",
   "environment_variables": {},
   "exception": null,
   "input_path": "/home/nicolasf/operational/ICU/development/hotspots/code/ICU_Water_Watch/notebooks/ICU_forecast_table/GCMs_admin_hindcast_climatologies_and_probabilities.ipynb",
   "output_path": "/home/nicolasf/operational/ICU/development/hotspots/code/ICU_Water_Watch/notebooks/ICU_forecast_table/GCMs_admin_hindcast_climatologies_and_probabilities.ipynb",
   "parameters": {
    "GCM": "METEO_FRANCE",
    "admin": "Yap",
    "country": "FSM",
    "method": "empirical",
    "period": "seasonal",
    "quantile": "quartile"
   },
   "start_time": "2022-01-19T03:27:48.655260",
   "version": "2.3.3"
  }
 },
 "nbformat": 4,
 "nbformat_minor": 5
}