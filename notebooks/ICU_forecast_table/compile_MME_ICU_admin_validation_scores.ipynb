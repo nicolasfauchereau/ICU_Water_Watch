{
 "cells": [
  {
   "cell_type": "code",
   "execution_count": 1,
   "id": "da2d94ff-d6f4-41c8-acd7-b24c3286cc0c",
   "metadata": {},
   "outputs": [],
   "source": [
    "%matplotlib inline\n",
    "\n",
    "### os\n",
    "import os\n",
    "import sys\n",
    "\n",
    "### datetimes\n",
    "from datetime import datetime, timedelta\n",
    "\n",
    "### scipy\n",
    "import numpy as np\n",
    "import pandas as pd\n",
    "import xarray as xr\n",
    "import geopandas as gpd\n",
    "import cartopy.crs as ccrs\n",
    "import dask\n",
    "from dask.diagnostics import ProgressBar\n",
    "from tqdm import tqdm\n",
    "\n",
    "### plotting\n",
    "from matplotlib import pyplot as plt\n",
    "import matplotlib\n",
    "import seaborn as sns\n"
   ]
  },
  {
   "cell_type": "code",
   "execution_count": 2,
   "id": "6a9127fa-22b4-48e4-b0d8-00231bf4c764",
   "metadata": {},
   "outputs": [],
   "source": [
    "import pathlib\n",
    "\n",
    "HOME = pathlib.Path.home()\n",
    "CWD = pathlib.Path.cwd()"
   ]
  },
  {
   "cell_type": "code",
   "execution_count": 3,
   "id": "f0178531-13ae-4511-a098-7dac28deb5bb",
   "metadata": {
    "papermill": {
     "duration": 0.068154,
     "end_time": "2021-09-02T08:31:42.501418",
     "exception": false,
     "start_time": "2021-09-02T08:31:42.433264",
     "status": "completed"
    },
    "tags": []
   },
   "outputs": [],
   "source": [
    "sys.path.append('../../') "
   ]
  },
  {
   "cell_type": "code",
   "execution_count": 4,
   "id": "77b40f9a-ddd7-403b-bd16-b1392a2e3e23",
   "metadata": {
    "papermill": {
     "duration": 0.09438,
     "end_time": "2021-09-02T08:31:42.649875",
     "exception": false,
     "start_time": "2021-09-02T08:31:42.555495",
     "status": "completed"
    },
    "tags": []
   },
   "outputs": [],
   "source": [
    "from ICU_Water_Watch import geo, C3S, domains, plot, utils"
   ]
  },
  {
   "cell_type": "code",
   "execution_count": 5,
   "id": "4d48646c-da6b-4e0f-babe-70839f033be0",
   "metadata": {},
   "outputs": [],
   "source": [
    "dpath = CWD.parents[1].joinpath(\"outputs/ICU_validation/admin\")"
   ]
  },
  {
   "cell_type": "code",
   "execution_count": 6,
   "id": "c368f52f-969f-48c2-a492-bea89fb5e948",
   "metadata": {},
   "outputs": [],
   "source": [
    "lfiles = list(dpath.glob(\"validation_*_seasonal_MME_tercile.csv\"))"
   ]
  },
  {
   "cell_type": "code",
   "execution_count": 7,
   "id": "c1b65d8d-4b8e-4130-a3d8-7efe5b81f17d",
   "metadata": {},
   "outputs": [
    {
     "data": {
      "text/plain": [
       "73"
      ]
     },
     "execution_count": 7,
     "metadata": {},
     "output_type": "execute_result"
    }
   ],
   "source": [
    "len(lfiles)"
   ]
  },
  {
   "cell_type": "markdown",
   "id": "37661c33-e407-498f-b8d5-bb2588e2a852",
   "metadata": {},
   "source": [
    "### sort the files per creation date, should start with Northern Mariana Island and end with Northern Marshall Islands "
   ]
  },
  {
   "cell_type": "code",
   "execution_count": 8,
   "id": "2e6b7245-5e93-4a84-9e73-df0400fa1e16",
   "metadata": {},
   "outputs": [],
   "source": [
    "lfiles.sort(key=os.path.getctime)"
   ]
  },
  {
   "cell_type": "code",
   "execution_count": 9,
   "id": "f132883d-7673-48d5-8628-c3f4e245c821",
   "metadata": {},
   "outputs": [
    {
     "data": {
      "text/plain": [
       "PosixPath('/home/nicolasf/operational/ICU/development/hotspots/code/ICU_Water_Watch/outputs/ICU_validation/admin/validation_Northern_Mariana_Islands_Southern_Islands_seasonal_MME_tercile.csv')"
      ]
     },
     "execution_count": 9,
     "metadata": {},
     "output_type": "execute_result"
    }
   ],
   "source": [
    "lfiles[0]"
   ]
  },
  {
   "cell_type": "code",
   "execution_count": 10,
   "id": "cf0b139f-3d88-4ec0-a22d-af76b0c76140",
   "metadata": {},
   "outputs": [
    {
     "data": {
      "text/plain": [
       "PosixPath('/home/nicolasf/operational/ICU/development/hotspots/code/ICU_Water_Watch/outputs/ICU_validation/admin/validation_Marshall_Islands_Northern_Marshall_Islands_seasonal_MME_tercile.csv')"
      ]
     },
     "execution_count": 10,
     "metadata": {},
     "output_type": "execute_result"
    }
   ],
   "source": [
    "lfiles[-1]"
   ]
  },
  {
   "cell_type": "code",
   "execution_count": 11,
   "id": "b62e012c-4bda-468c-b0ba-8b98c877f64f",
   "metadata": {},
   "outputs": [],
   "source": [
    "lfnames = [x.name for x in lfiles]"
   ]
  },
  {
   "cell_type": "code",
   "execution_count": 12,
   "id": "8dc5fb17-e39d-4c76-8c89-759d7a2c35e4",
   "metadata": {},
   "outputs": [],
   "source": [
    "lfnames = sorted(lfnames)"
   ]
  },
  {
   "cell_type": "code",
   "execution_count": 13,
   "id": "ed74d2ab-6093-473e-8774-b0436f69a689",
   "metadata": {},
   "outputs": [
    {
     "data": {
      "text/plain": [
       "['validation_American_Samoa_Manua_seasonal_MME_tercile.csv',\n",
       " 'validation_American_Samoa_Swains_seasonal_MME_tercile.csv',\n",
       " 'validation_American_Samoa_Tutuila_seasonal_MME_tercile.csv',\n",
       " 'validation_Cook_Islands_Northern_Cook_Islands_seasonal_MME_tercile.csv',\n",
       " 'validation_Cook_Islands_Southern_Cook_Islands_seasonal_MME_tercile.csv',\n",
       " 'validation_FSM_Chuuk_seasonal_MME_tercile.csv',\n",
       " 'validation_FSM_Kapingamarangi_seasonal_MME_tercile.csv',\n",
       " 'validation_FSM_Kosrae_seasonal_MME_tercile.csv',\n",
       " 'validation_FSM_Pohnpei_seasonal_MME_tercile.csv',\n",
       " 'validation_FSM_Yap_seasonal_MME_tercile.csv',\n",
       " 'validation_Fiji_Central_seasonal_MME_tercile.csv',\n",
       " 'validation_Fiji_Eastern_seasonal_MME_tercile.csv',\n",
       " 'validation_Fiji_Northern_seasonal_MME_tercile.csv',\n",
       " 'validation_Fiji_Rotuma_seasonal_MME_tercile.csv',\n",
       " 'validation_Fiji_Western_seasonal_MME_tercile.csv',\n",
       " 'validation_French_Polynesia_Austral_Islands_seasonal_MME_tercile.csv',\n",
       " 'validation_French_Polynesia_Gambier_Islands_seasonal_MME_tercile.csv',\n",
       " 'validation_French_Polynesia_Leeward-Society_Islands_seasonal_MME_tercile.csv',\n",
       " 'validation_French_Polynesia_Marquesas_Islands_seasonal_MME_tercile.csv',\n",
       " 'validation_French_Polynesia_Tuamotu_Archipelago_seasonal_MME_tercile.csv',\n",
       " 'validation_French_Polynesia_Windward-Society_Islands_seasonal_MME_tercile.csv',\n",
       " 'validation_Guam_Guam_seasonal_MME_tercile.csv',\n",
       " 'validation_Kiribati_Central_Line_Islands_seasonal_MME_tercile.csv',\n",
       " 'validation_Kiribati_Gilberts-North_seasonal_MME_tercile.csv',\n",
       " 'validation_Kiribati_Gilberts-South_seasonal_MME_tercile.csv',\n",
       " 'validation_Kiribati_Northern_Line_Islands_seasonal_MME_tercile.csv',\n",
       " 'validation_Kiribati_Ocean_Island_seasonal_MME_tercile.csv',\n",
       " 'validation_Kiribati_Phoenix_Islands_seasonal_MME_tercile.csv',\n",
       " 'validation_Kiribati_Southern_Line_Islands_seasonal_MME_tercile.csv',\n",
       " 'validation_Marshall_Islands_Central_Marshall_Islands_seasonal_MME_tercile.csv',\n",
       " 'validation_Marshall_Islands_Northern_Marshall_Islands_seasonal_MME_tercile.csv',\n",
       " 'validation_Marshall_Islands_Southern_Marshall_Islands_seasonal_MME_tercile.csv',\n",
       " 'validation_Nauru_Nauru_seasonal_MME_tercile.csv',\n",
       " 'validation_New_Caledonia_Loyalty_Islands_Province_seasonal_MME_tercile.csv',\n",
       " 'validation_New_Caledonia_North_Province_seasonal_MME_tercile.csv',\n",
       " 'validation_New_Caledonia_South_Province_seasonal_MME_tercile.csv',\n",
       " 'validation_Niue_Niue_seasonal_MME_tercile.csv',\n",
       " 'validation_Northern_Mariana_Islands_Northern_Islands_seasonal_MME_tercile.csv',\n",
       " 'validation_Northern_Mariana_Islands_Southern_Islands_seasonal_MME_tercile.csv',\n",
       " 'validation_Palau_Babeldaob_region_seasonal_MME_tercile.csv',\n",
       " 'validation_Palau_South-west_Islands_seasonal_MME_tercile.csv',\n",
       " 'validation_Papua_New_Guinea_Highlands_Region_seasonal_MME_tercile.csv',\n",
       " 'validation_Papua_New_Guinea_Islands_Region_seasonal_MME_tercile.csv',\n",
       " 'validation_Papua_New_Guinea_Momase_Region_seasonal_MME_tercile.csv',\n",
       " 'validation_Papua_New_Guinea_Southern_Region_seasonal_MME_tercile.csv',\n",
       " 'validation_Pitcairn_Ducie_seasonal_MME_tercile.csv',\n",
       " 'validation_Pitcairn_Pitcairn,_HendersonOeno_seasonal_MME_tercile.csv',\n",
       " 'validation_Samoa_Savaii_seasonal_MME_tercile.csv',\n",
       " 'validation_Samoa_Upola_seasonal_MME_tercile.csv',\n",
       " 'validation_Solomon_Islands_Central_Province_seasonal_MME_tercile.csv',\n",
       " 'validation_Solomon_Islands_Choiseul_Province_seasonal_MME_tercile.csv',\n",
       " 'validation_Solomon_Islands_Guadacanal_Province_seasonal_MME_tercile.csv',\n",
       " 'validation_Solomon_Islands_Isabel_Province_seasonal_MME_tercile.csv',\n",
       " 'validation_Solomon_Islands_Makira-Ulawa_Province_seasonal_MME_tercile.csv',\n",
       " 'validation_Solomon_Islands_Malaita_Province_seasonal_MME_tercile.csv',\n",
       " 'validation_Solomon_Islands_Rennell_and_Bellona_seasonal_MME_tercile.csv',\n",
       " 'validation_Solomon_Islands_Temotu_Province_seasonal_MME_tercile.csv',\n",
       " 'validation_Solomon_Islands_Wesgtern_Province_seasonal_MME_tercile.csv',\n",
       " 'validation_Tokelau_Tokelau_seasonal_MME_tercile.csv',\n",
       " 'validation_Tonga_Haapai_seasonal_MME_tercile.csv',\n",
       " 'validation_Tonga_Niuas_seasonal_MME_tercile.csv',\n",
       " 'validation_Tonga_Tongatapu-Eua_seasonal_MME_tercile.csv',\n",
       " 'validation_Tonga_Vavau_seasonal_MME_tercile.csv',\n",
       " 'validation_Tuvalu_Northern_Tuvalu_seasonal_MME_tercile.csv',\n",
       " 'validation_Tuvalu_Southern_Tuvalu_seasonal_MME_tercile.csv',\n",
       " 'validation_Vanuatu_Malampa_seasonal_MME_tercile.csv',\n",
       " 'validation_Vanuatu_Penama_seasonal_MME_tercile.csv',\n",
       " 'validation_Vanuatu_Sanma_seasonal_MME_tercile.csv',\n",
       " 'validation_Vanuatu_Shefa_seasonal_MME_tercile.csv',\n",
       " 'validation_Vanuatu_Tafea_seasonal_MME_tercile.csv',\n",
       " 'validation_Vanuatu_Torba_seasonal_MME_tercile.csv',\n",
       " 'validation_Wallis_et_Futuna_Futuna_seasonal_MME_tercile.csv',\n",
       " 'validation_Wallis_et_Futuna_Wallis_seasonal_MME_tercile.csv']"
      ]
     },
     "execution_count": 13,
     "metadata": {},
     "output_type": "execute_result"
    }
   ],
   "source": [
    "lfnames"
   ]
  },
  {
   "cell_type": "code",
   "execution_count": 14,
   "id": "4e16f1c3-47fd-490b-b84a-3cac6a546429",
   "metadata": {},
   "outputs": [],
   "source": [
    "df_l = []\n",
    "for fname in lfiles: \n",
    "    data = pd.read_csv(fname, index_col=0)\n",
    "    df_l.append(data)"
   ]
  },
  {
   "cell_type": "code",
   "execution_count": 15,
   "id": "f70009d3-a7d6-46a8-b82c-444364897873",
   "metadata": {},
   "outputs": [],
   "source": [
    "df = pd.concat(df_l, axis=1)"
   ]
  },
  {
   "cell_type": "code",
   "execution_count": 16,
   "id": "c9a3ea0a-5282-414e-bc65-94c3dc2694a3",
   "metadata": {},
   "outputs": [],
   "source": [
    "df = df.T"
   ]
  },
  {
   "cell_type": "code",
   "execution_count": 17,
   "id": "0f3eee5e-161d-4e21-8e5b-372c9d20db6d",
   "metadata": {},
   "outputs": [],
   "source": [
    "df = df.sort_values(by=3, ascending=False)"
   ]
  },
  {
   "cell_type": "code",
   "execution_count": 18,
   "id": "38209ee3-075d-43ec-9df9-a37759824b5d",
   "metadata": {},
   "outputs": [
    {
     "data": {
      "text/plain": [
       "3    0.522532\n",
       "4    0.503670\n",
       "5    0.491782\n",
       "dtype: float64"
      ]
     },
     "execution_count": 18,
     "metadata": {},
     "output_type": "execute_result"
    }
   ],
   "source": [
    "df.mean()"
   ]
  },
  {
   "cell_type": "code",
   "execution_count": 19,
   "id": "742d474d-88ae-41f5-9f0b-cfa848a21d89",
   "metadata": {},
   "outputs": [],
   "source": [
    "df.index = df.index.str.replace(\"Paua\", \"Papua\")"
   ]
  },
  {
   "cell_type": "code",
   "execution_count": 20,
   "id": "dd741c49-7649-44ba-9ddd-d7bb3663c9c7",
   "metadata": {},
   "outputs": [
    {
     "data": {
      "text/html": [
       "<div>\n",
       "<style scoped>\n",
       "    .dataframe tbody tr th:only-of-type {\n",
       "        vertical-align: middle;\n",
       "    }\n",
       "\n",
       "    .dataframe tbody tr th {\n",
       "        vertical-align: top;\n",
       "    }\n",
       "\n",
       "    .dataframe thead th {\n",
       "        text-align: right;\n",
       "    }\n",
       "</style>\n",
       "<table border=\"1\" class=\"dataframe\">\n",
       "  <thead>\n",
       "    <tr style=\"text-align: right;\">\n",
       "      <th></th>\n",
       "      <th>3</th>\n",
       "      <th>4</th>\n",
       "      <th>5</th>\n",
       "    </tr>\n",
       "  </thead>\n",
       "  <tbody>\n",
       "    <tr>\n",
       "      <th>Kiribati_Gilberts-North</th>\n",
       "      <td>0.784452</td>\n",
       "      <td>0.734043</td>\n",
       "      <td>0.722420</td>\n",
       "    </tr>\n",
       "    <tr>\n",
       "      <th>Kiribati_Gilberts-South</th>\n",
       "      <td>0.770318</td>\n",
       "      <td>0.723404</td>\n",
       "      <td>0.672598</td>\n",
       "    </tr>\n",
       "    <tr>\n",
       "      <th>Kiribati_Ocean_Island</th>\n",
       "      <td>0.752650</td>\n",
       "      <td>0.702128</td>\n",
       "      <td>0.665480</td>\n",
       "    </tr>\n",
       "    <tr>\n",
       "      <th>Kiribati_Northern_Line_Islands</th>\n",
       "      <td>0.727915</td>\n",
       "      <td>0.702128</td>\n",
       "      <td>0.693950</td>\n",
       "    </tr>\n",
       "    <tr>\n",
       "      <th>Nauru_Nauru</th>\n",
       "      <td>0.713781</td>\n",
       "      <td>0.684397</td>\n",
       "      <td>0.665480</td>\n",
       "    </tr>\n",
       "  </tbody>\n",
       "</table>\n",
       "</div>"
      ],
      "text/plain": [
       "                                       3         4         5\n",
       "Kiribati_Gilberts-North         0.784452  0.734043  0.722420\n",
       "Kiribati_Gilberts-South         0.770318  0.723404  0.672598\n",
       "Kiribati_Ocean_Island           0.752650  0.702128  0.665480\n",
       "Kiribati_Northern_Line_Islands  0.727915  0.702128  0.693950\n",
       "Nauru_Nauru                     0.713781  0.684397  0.665480"
      ]
     },
     "execution_count": 20,
     "metadata": {},
     "output_type": "execute_result"
    }
   ],
   "source": [
    "df.head(5)"
   ]
  },
  {
   "cell_type": "code",
   "execution_count": 21,
   "id": "139e21cc-fba4-408c-b3b7-ee9b9ccadcf6",
   "metadata": {},
   "outputs": [
    {
     "data": {
      "text/html": [
       "<div>\n",
       "<style scoped>\n",
       "    .dataframe tbody tr th:only-of-type {\n",
       "        vertical-align: middle;\n",
       "    }\n",
       "\n",
       "    .dataframe tbody tr th {\n",
       "        vertical-align: top;\n",
       "    }\n",
       "\n",
       "    .dataframe thead th {\n",
       "        text-align: right;\n",
       "    }\n",
       "</style>\n",
       "<table border=\"1\" class=\"dataframe\">\n",
       "  <thead>\n",
       "    <tr style=\"text-align: right;\">\n",
       "      <th></th>\n",
       "      <th>3</th>\n",
       "      <th>4</th>\n",
       "      <th>5</th>\n",
       "    </tr>\n",
       "  </thead>\n",
       "  <tbody>\n",
       "    <tr>\n",
       "      <th>French_Polynesia_Austral_Islands</th>\n",
       "      <td>0.413428</td>\n",
       "      <td>0.336879</td>\n",
       "      <td>0.362989</td>\n",
       "    </tr>\n",
       "    <tr>\n",
       "      <th>French_Polynesia_Windward-Society_Islands</th>\n",
       "      <td>0.409894</td>\n",
       "      <td>0.354610</td>\n",
       "      <td>0.334520</td>\n",
       "    </tr>\n",
       "    <tr>\n",
       "      <th>Cook_Islands_Southern_Cook_Islands</th>\n",
       "      <td>0.378092</td>\n",
       "      <td>0.443262</td>\n",
       "      <td>0.355872</td>\n",
       "    </tr>\n",
       "    <tr>\n",
       "      <th>French_Polynesia_Gambier_Islands</th>\n",
       "      <td>0.360902</td>\n",
       "      <td>0.340909</td>\n",
       "      <td>0.343511</td>\n",
       "    </tr>\n",
       "    <tr>\n",
       "      <th>French_Polynesia_Leeward-Society_Islands</th>\n",
       "      <td>0.349823</td>\n",
       "      <td>0.347518</td>\n",
       "      <td>0.320285</td>\n",
       "    </tr>\n",
       "  </tbody>\n",
       "</table>\n",
       "</div>"
      ],
      "text/plain": [
       "                                                  3         4         5\n",
       "French_Polynesia_Austral_Islands           0.413428  0.336879  0.362989\n",
       "French_Polynesia_Windward-Society_Islands  0.409894  0.354610  0.334520\n",
       "Cook_Islands_Southern_Cook_Islands         0.378092  0.443262  0.355872\n",
       "French_Polynesia_Gambier_Islands           0.360902  0.340909  0.343511\n",
       "French_Polynesia_Leeward-Society_Islands   0.349823  0.347518  0.320285"
      ]
     },
     "execution_count": 21,
     "metadata": {},
     "output_type": "execute_result"
    }
   ],
   "source": [
    "df.tail(5)"
   ]
  },
  {
   "cell_type": "code",
   "execution_count": 39,
   "id": "6146eda7-e8db-4abc-a028-5ef563f2de90",
   "metadata": {},
   "outputs": [],
   "source": [
    "df.to_csv(\"/home/nicolasf/Desktop/ACC_ICU_admin_boundaries_empirical_terciles.csv\")"
   ]
  },
  {
   "cell_type": "markdown",
   "id": "90854d41-db29-4ef3-a93f-f227f69a809f",
   "metadata": {},
   "source": [
    "### reads the geopandas dataframe with the admin boundaries "
   ]
  },
  {
   "cell_type": "code",
   "execution_count": 23,
   "id": "5304fadd-1f60-422a-960f-8cce4c9b35c7",
   "metadata": {},
   "outputs": [],
   "source": [
    "dpath = pathlib.Path(HOME.joinpath('operational/ICU/development/hotspots/data/shapefiles/Admin_boundaries')) "
   ]
  },
  {
   "cell_type": "code",
   "execution_count": 24,
   "id": "bd5471ff-01c2-43f3-b0a2-7b108a0f122c",
   "metadata": {},
   "outputs": [],
   "source": [
    "gdf = gpd.read_file(dpath.joinpath(\"ICU_Sub_bound.shp\"))"
   ]
  },
  {
   "cell_type": "markdown",
   "id": "9520cafb-f5ac-437a-847c-789b231e39ca",
   "metadata": {},
   "source": [
    "### fix the issue with \"Paua New Guinea Islands region\""
   ]
  },
  {
   "cell_type": "code",
   "execution_count": 25,
   "id": "73914852-c307-47a1-ac73-8d0e80dc5753",
   "metadata": {},
   "outputs": [],
   "source": [
    "gdf.loc[:,'Country'] = gdf.Country.str.replace(\"Paua\", \"Papua\")"
   ]
  },
  {
   "cell_type": "code",
   "execution_count": 26,
   "id": "8094961d-e694-4b2b-926e-d6df2ac457da",
   "metadata": {},
   "outputs": [],
   "source": [
    "gdf.loc[:,'Country'] = gdf.loc[:,'Country'].apply(utils.sanitize_name)"
   ]
  },
  {
   "cell_type": "code",
   "execution_count": 27,
   "id": "1db01f4c-6156-477a-a3ed-166cd92da5b0",
   "metadata": {},
   "outputs": [],
   "source": [
    "gdf.loc[:,'Admin_boun'] = gdf.loc[:,'Admin_boun'].apply(utils.sanitize_name)"
   ]
  },
  {
   "cell_type": "code",
   "execution_count": 28,
   "id": "00299589-a580-43de-a0e0-c6bef4a64ca0",
   "metadata": {},
   "outputs": [],
   "source": [
    "gdf.index = gdf.loc[:,'Country'] + '_' + gdf.loc[:,'Admin_boun']"
   ]
  },
  {
   "cell_type": "code",
   "execution_count": 29,
   "id": "be16877e-03b3-44ac-befe-c23b478c71f6",
   "metadata": {},
   "outputs": [
    {
     "data": {
      "text/plain": [
       "<AxesSubplot:>"
      ]
     },
     "execution_count": 29,
     "metadata": {},
     "output_type": "execute_result"
    },
    {
     "data": {
      "image/png": "[encoded data removed]",
      "text/plain": [
       "<Figure size 432x288 with 1 Axes>"
      ]
     },
     "metadata": {
      "needs_background": "light"
     },
     "output_type": "display_data"
    }
   ],
   "source": [
    "gdf.plot()"
   ]
  },
  {
   "cell_type": "markdown",
   "id": "60465aea-f73c-4b5e-bab0-2dafff3f68d8",
   "metadata": {},
   "source": [
    "### all indices are now present "
   ]
  },
  {
   "cell_type": "code",
   "execution_count": 30,
   "id": "39de80b1-c4e5-45ff-ab14-f3023797904b",
   "metadata": {},
   "outputs": [
    {
     "data": {
      "text/plain": [
       "set()"
      ]
     },
     "execution_count": 30,
     "metadata": {},
     "output_type": "execute_result"
    }
   ],
   "source": [
    "set(list(df.index)) - set(list(gdf.index))"
   ]
  },
  {
   "cell_type": "code",
   "execution_count": 31,
   "id": "8fe22bf7-c35f-4127-97f4-1b2c29d9a8a8",
   "metadata": {},
   "outputs": [],
   "source": [
    "gdf_validation = df.merge(gdf, left_index=True, right_index=True)"
   ]
  },
  {
   "cell_type": "code",
   "execution_count": 32,
   "id": "45706c28-3fd7-41c6-b031-abf05d1a4758",
   "metadata": {},
   "outputs": [
    {
     "data": {
      "text/plain": [
       "pandas.core.frame.DataFrame"
      ]
     },
     "execution_count": 32,
     "metadata": {},
     "output_type": "execute_result"
    }
   ],
   "source": [
    "type(gdf_validation)"
   ]
  },
  {
   "cell_type": "code",
   "execution_count": 33,
   "id": "9a903e58-3ce5-499b-b71b-6efb969d75ff",
   "metadata": {},
   "outputs": [],
   "source": [
    "gdf_validation = gpd.GeoDataFrame(gdf_validation)"
   ]
  },
  {
   "cell_type": "code",
   "execution_count": 34,
   "id": "ca3c7cd6-d748-4721-9597-9620f532dbb9",
   "metadata": {},
   "outputs": [
    {
     "data": {
      "text/plain": [
       "geopandas.geodataframe.GeoDataFrame"
      ]
     },
     "execution_count": 34,
     "metadata": {},
     "output_type": "execute_result"
    }
   ],
   "source": [
    "type(gdf_validation)"
   ]
  },
  {
   "cell_type": "code",
   "execution_count": 35,
   "id": "229c4b98-32bf-4979-8fb3-3740399eb518",
   "metadata": {},
   "outputs": [],
   "source": [
    "from mpl_toolkits.axes_grid1 import make_axes_locatable"
   ]
  },
  {
   "cell_type": "code",
   "execution_count": 36,
   "id": "ddc58c3e-752a-4515-9734-06fbc77d0e77",
   "metadata": {},
   "outputs": [],
   "source": [
    "cbar_kwargs = dict(shrink=0.5, boundaries=np.arange(0.3, 0.9, 0.1), drawedges=True)"
   ]
  },
  {
   "cell_type": "code",
   "execution_count": 37,
   "id": "9124316f-404a-4250-b65f-6848cea5ada1",
   "metadata": {},
   "outputs": [
    {
     "data": {
      "image/png": "[encoded data removed]",
      "text/plain": [
       "<Figure size 1008x576 with 2 Axes>"
      ]
     },
     "metadata": {
      "needs_background": "light"
     },
     "output_type": "display_data"
    }
   ],
   "source": [
    "f, ax = plt.subplots(subplot_kw=dict(projection=ccrs.PlateCarree(central_longitude=180)), figsize=(14, 8))\n",
    "\n",
    "gdf_validation.plot(ax=ax, column=3, transform=ccrs.PlateCarree(), legend=True, cmap=plt.cm.jet, vmin=0.3, vmax=0.9, legend_kwds=cbar_kwargs)\n",
    "\n",
    "ax.coastlines(resolution='10m')\n",
    "\n",
    "ax.set_title(\"ICU seasonal tercile probabilistic forecasts accuracy scores [0-1], one season ahead\")\n",
    "\n",
    "f.savefig('/home/nicolasf/Desktop/ICU_admin_ACC_map.png', dpi=200, bbox_inches='tight', facecolor='w')"
   ]
  },
  {
   "cell_type": "code",
   "execution_count": 41,
   "id": "49eb2657-3da5-4d7f-a44e-b60adfa33be7",
   "metadata": {},
   "outputs": [
    {
     "data": {
      "text/html": [
       "<div>\n",
       "<style scoped>\n",
       "    .dataframe tbody tr th:only-of-type {\n",
       "        vertical-align: middle;\n",
       "    }\n",
       "\n",
       "    .dataframe tbody tr th {\n",
       "        vertical-align: top;\n",
       "    }\n",
       "\n",
       "    .dataframe thead th {\n",
       "        text-align: right;\n",
       "    }\n",
       "</style>\n",
       "<table border=\"1\" class=\"dataframe\">\n",
       "  <thead>\n",
       "    <tr style=\"text-align: right;\">\n",
       "      <th></th>\n",
       "      <th>3</th>\n",
       "      <th>4</th>\n",
       "      <th>5</th>\n",
       "      <th>id</th>\n",
       "      <th>Country</th>\n",
       "      <th>Admin_boun</th>\n",
       "      <th>geometry</th>\n",
       "    </tr>\n",
       "  </thead>\n",
       "  <tbody>\n",
       "    <tr>\n",
       "      <th>Kiribati_Gilberts-North</th>\n",
       "      <td>0.784452</td>\n",
       "      <td>0.734043</td>\n",
       "      <td>0.722420</td>\n",
       "      <td>12</td>\n",
       "      <td>Kiribati</td>\n",
       "      <td>Gilberts-North</td>\n",
       "      <td>POLYGON ((179.532 -0.013, 170.799 -0.190, 169....</td>\n",
       "    </tr>\n",
       "    <tr>\n",
       "      <th>Kiribati_Gilberts-South</th>\n",
       "      <td>0.770318</td>\n",
       "      <td>0.723404</td>\n",
       "      <td>0.672598</td>\n",
       "      <td>13</td>\n",
       "      <td>Kiribati</td>\n",
       "      <td>Gilberts-South</td>\n",
       "      <td>POLYGON ((170.799 -0.190, 179.532 -0.013, 179....</td>\n",
       "    </tr>\n",
       "    <tr>\n",
       "      <th>Kiribati_Ocean_Island</th>\n",
       "      <td>0.752650</td>\n",
       "      <td>0.702128</td>\n",
       "      <td>0.665480</td>\n",
       "      <td>11</td>\n",
       "      <td>Kiribati</td>\n",
       "      <td>Ocean_Island</td>\n",
       "      <td>POLYGON ((168.588 1.767, 169.929 1.973, 171.99...</td>\n",
       "    </tr>\n",
       "    <tr>\n",
       "      <th>Kiribati_Northern_Line_Islands</th>\n",
       "      <td>0.727915</td>\n",
       "      <td>0.702128</td>\n",
       "      <td>0.693950</td>\n",
       "      <td>15</td>\n",
       "      <td>Kiribati</td>\n",
       "      <td>Northern_Line_Islands</td>\n",
       "      <td>POLYGON ((200.541 7.910, 201.221 7.642, 201.41...</td>\n",
       "    </tr>\n",
       "    <tr>\n",
       "      <th>Nauru_Nauru</th>\n",
       "      <td>0.713781</td>\n",
       "      <td>0.684397</td>\n",
       "      <td>0.665480</td>\n",
       "      <td>10</td>\n",
       "      <td>Nauru</td>\n",
       "      <td>Nauru</td>\n",
       "      <td>POLYGON ((168.588 1.767, 167.823 -3.768, 167.5...</td>\n",
       "    </tr>\n",
       "    <tr>\n",
       "      <th>...</th>\n",
       "      <td>...</td>\n",
       "      <td>...</td>\n",
       "      <td>...</td>\n",
       "      <td>...</td>\n",
       "      <td>...</td>\n",
       "      <td>...</td>\n",
       "      <td>...</td>\n",
       "    </tr>\n",
       "    <tr>\n",
       "      <th>French_Polynesia_Austral_Islands</th>\n",
       "      <td>0.413428</td>\n",
       "      <td>0.336879</td>\n",
       "      <td>0.362989</td>\n",
       "      <td>63</td>\n",
       "      <td>French_Polynesia</td>\n",
       "      <td>Austral_Islands</td>\n",
       "      <td>POLYGON ((205.199 -19.249, 207.358 -19.948, 21...</td>\n",
       "    </tr>\n",
       "    <tr>\n",
       "      <th>French_Polynesia_Windward-Society_Islands</th>\n",
       "      <td>0.409894</td>\n",
       "      <td>0.354610</td>\n",
       "      <td>0.334520</td>\n",
       "      <td>65</td>\n",
       "      <td>French_Polynesia</td>\n",
       "      <td>Windward-Society_Islands</td>\n",
       "      <td>POLYGON ((210.266 -15.328, 211.049 -16.213, 21...</td>\n",
       "    </tr>\n",
       "    <tr>\n",
       "      <th>Cook_Islands_Southern_Cook_Islands</th>\n",
       "      <td>0.378092</td>\n",
       "      <td>0.443262</td>\n",
       "      <td>0.355872</td>\n",
       "      <td>25</td>\n",
       "      <td>Cook_Islands</td>\n",
       "      <td>Southern_Cook_Islands</td>\n",
       "      <td>POLYGON ((194.799 -15.646, 199.549 -15.514, 19...</td>\n",
       "    </tr>\n",
       "    <tr>\n",
       "      <th>French_Polynesia_Gambier_Islands</th>\n",
       "      <td>0.360902</td>\n",
       "      <td>0.340909</td>\n",
       "      <td>0.343511</td>\n",
       "      <td>62</td>\n",
       "      <td>French_Polynesia</td>\n",
       "      <td>Gambier_Islands</td>\n",
       "      <td>POLYGON ((214.217 -22.845, 218.405 -21.026, 22...</td>\n",
       "    </tr>\n",
       "    <tr>\n",
       "      <th>French_Polynesia_Leeward-Society_Islands</th>\n",
       "      <td>0.349823</td>\n",
       "      <td>0.347518</td>\n",
       "      <td>0.320285</td>\n",
       "      <td>64</td>\n",
       "      <td>French_Polynesia</td>\n",
       "      <td>Leeward-Society_Islands</td>\n",
       "      <td>POLYGON ((204.989 -12.528, 207.038 -13.809, 20...</td>\n",
       "    </tr>\n",
       "  </tbody>\n",
       "</table>\n",
       "<p>73 rows × 7 columns</p>\n",
       "</div>"
      ],
      "text/plain": [
       "                                                  3         4         5  id  \\\n",
       "Kiribati_Gilberts-North                    0.784452  0.734043  0.722420  12   \n",
       "Kiribati_Gilberts-South                    0.770318  0.723404  0.672598  13   \n",
       "Kiribati_Ocean_Island                      0.752650  0.702128  0.665480  11   \n",
       "Kiribati_Northern_Line_Islands             0.727915  0.702128  0.693950  15   \n",
       "Nauru_Nauru                                0.713781  0.684397  0.665480  10   \n",
       "...                                             ...       ...       ...  ..   \n",
       "French_Polynesia_Austral_Islands           0.413428  0.336879  0.362989  63   \n",
       "French_Polynesia_Windward-Society_Islands  0.409894  0.354610  0.334520  65   \n",
       "Cook_Islands_Southern_Cook_Islands         0.378092  0.443262  0.355872  25   \n",
       "French_Polynesia_Gambier_Islands           0.360902  0.340909  0.343511  62   \n",
       "French_Polynesia_Leeward-Society_Islands   0.349823  0.347518  0.320285  64   \n",
       "\n",
       "                                                    Country  \\\n",
       "Kiribati_Gilberts-North                            Kiribati   \n",
       "Kiribati_Gilberts-South                            Kiribati   \n",
       "Kiribati_Ocean_Island                              Kiribati   \n",
       "Kiribati_Northern_Line_Islands                     Kiribati   \n",
       "Nauru_Nauru                                           Nauru   \n",
       "...                                                     ...   \n",
       "French_Polynesia_Austral_Islands           French_Polynesia   \n",
       "French_Polynesia_Windward-Society_Islands  French_Polynesia   \n",
       "Cook_Islands_Southern_Cook_Islands             Cook_Islands   \n",
       "French_Polynesia_Gambier_Islands           French_Polynesia   \n",
       "French_Polynesia_Leeward-Society_Islands   French_Polynesia   \n",
       "\n",
       "                                                         Admin_boun  \\\n",
       "Kiribati_Gilberts-North                              Gilberts-North   \n",
       "Kiribati_Gilberts-South                              Gilberts-South   \n",
       "Kiribati_Ocean_Island                                  Ocean_Island   \n",
       "Kiribati_Northern_Line_Islands                Northern_Line_Islands   \n",
       "Nauru_Nauru                                                   Nauru   \n",
       "...                                                             ...   \n",
       "French_Polynesia_Austral_Islands                    Austral_Islands   \n",
       "French_Polynesia_Windward-Society_Islands  Windward-Society_Islands   \n",
       "Cook_Islands_Southern_Cook_Islands            Southern_Cook_Islands   \n",
       "French_Polynesia_Gambier_Islands                    Gambier_Islands   \n",
       "French_Polynesia_Leeward-Society_Islands    Leeward-Society_Islands   \n",
       "\n",
       "                                                                                    geometry  \n",
       "Kiribati_Gilberts-North                    POLYGON ((179.532 -0.013, 170.799 -0.190, 169....  \n",
       "Kiribati_Gilberts-South                    POLYGON ((170.799 -0.190, 179.532 -0.013, 179....  \n",
       "Kiribati_Ocean_Island                      POLYGON ((168.588 1.767, 169.929 1.973, 171.99...  \n",
       "Kiribati_Northern_Line_Islands             POLYGON ((200.541 7.910, 201.221 7.642, 201.41...  \n",
       "Nauru_Nauru                                POLYGON ((168.588 1.767, 167.823 -3.768, 167.5...  \n",
       "...                                                                                      ...  \n",
       "French_Polynesia_Austral_Islands           POLYGON ((205.199 -19.249, 207.358 -19.948, 21...  \n",
       "French_Polynesia_Windward-Society_Islands  POLYGON ((210.266 -15.328, 211.049 -16.213, 21...  \n",
       "Cook_Islands_Southern_Cook_Islands         POLYGON ((194.799 -15.646, 199.549 -15.514, 19...  \n",
       "French_Polynesia_Gambier_Islands           POLYGON ((214.217 -22.845, 218.405 -21.026, 22...  \n",
       "French_Polynesia_Leeward-Society_Islands   POLYGON ((204.989 -12.528, 207.038 -13.809, 20...  \n",
       "\n",
       "[73 rows x 7 columns]"
      ]
     },
     "execution_count": 41,
     "metadata": {},
     "output_type": "execute_result"
    }
   ],
   "source": [
    "gdf_validation"
   ]
  },
  {
   "cell_type": "code",
   "execution_count": 50,
   "id": "1a47abe4-dd28-4d9d-aa53-34b25bc749f8",
   "metadata": {},
   "outputs": [
    {
     "data": {
      "text/html": [
       "<div>\n",
       "<style scoped>\n",
       "    .dataframe tbody tr th:only-of-type {\n",
       "        vertical-align: middle;\n",
       "    }\n",
       "\n",
       "    .dataframe tbody tr th {\n",
       "        vertical-align: top;\n",
       "    }\n",
       "\n",
       "    .dataframe thead th {\n",
       "        text-align: right;\n",
       "    }\n",
       "</style>\n",
       "<table border=\"1\" class=\"dataframe\">\n",
       "  <thead>\n",
       "    <tr style=\"text-align: right;\">\n",
       "      <th></th>\n",
       "      <th>3</th>\n",
       "      <th>4</th>\n",
       "      <th>5</th>\n",
       "      <th>id</th>\n",
       "      <th>Country</th>\n",
       "      <th>Admin_boun</th>\n",
       "      <th>geometry</th>\n",
       "    </tr>\n",
       "  </thead>\n",
       "  <tbody>\n",
       "    <tr>\n",
       "      <th>Vanuatu_Sanma</th>\n",
       "      <td>0.586572</td>\n",
       "      <td>0.563830</td>\n",
       "      <td>0.583630</td>\n",
       "      <td>40</td>\n",
       "      <td>Vanuatu</td>\n",
       "      <td>Sanma</td>\n",
       "      <td>POLYGON ((164.65000 -17.00000, 163.30561 -14.7...</td>\n",
       "    </tr>\n",
       "    <tr>\n",
       "      <th>Vanuatu_Torba</th>\n",
       "      <td>0.565371</td>\n",
       "      <td>0.542553</td>\n",
       "      <td>0.519573</td>\n",
       "      <td>41</td>\n",
       "      <td>Vanuatu</td>\n",
       "      <td>Torba</td>\n",
       "      <td>POLYGON ((163.30561 -14.76944, 163.55572 -13.6...</td>\n",
       "    </tr>\n",
       "    <tr>\n",
       "      <th>Vanuatu_Penama</th>\n",
       "      <td>0.551237</td>\n",
       "      <td>0.524823</td>\n",
       "      <td>0.540925</td>\n",
       "      <td>39</td>\n",
       "      <td>Vanuatu</td>\n",
       "      <td>Penama</td>\n",
       "      <td>POLYGON ((167.39846 -15.76310, 167.42271 -14.6...</td>\n",
       "    </tr>\n",
       "    <tr>\n",
       "      <th>Vanuatu_Shefa</th>\n",
       "      <td>0.522968</td>\n",
       "      <td>0.563830</td>\n",
       "      <td>0.519573</td>\n",
       "      <td>37</td>\n",
       "      <td>Vanuatu</td>\n",
       "      <td>Shefa</td>\n",
       "      <td>POLYGON ((165.91965 -18.18292, 168.14108 -16.5...</td>\n",
       "    </tr>\n",
       "    <tr>\n",
       "      <th>Vanuatu_Tafea</th>\n",
       "      <td>0.491166</td>\n",
       "      <td>0.524823</td>\n",
       "      <td>0.505338</td>\n",
       "      <td>36</td>\n",
       "      <td>Vanuatu</td>\n",
       "      <td>Tafea</td>\n",
       "      <td>POLYGON ((166.92257 -19.10641, 172.00000 -16.8...</td>\n",
       "    </tr>\n",
       "    <tr>\n",
       "      <th>Vanuatu_Malampa</th>\n",
       "      <td>0.473684</td>\n",
       "      <td>0.462121</td>\n",
       "      <td>0.488550</td>\n",
       "      <td>38</td>\n",
       "      <td>Vanuatu</td>\n",
       "      <td>Malampa</td>\n",
       "      <td>POLYGON ((164.65000 -17.00000, 167.23023 -15.8...</td>\n",
       "    </tr>\n",
       "  </tbody>\n",
       "</table>\n",
       "</div>"
      ],
      "text/plain": [
       "                        3         4         5  id  Country Admin_boun  \\\n",
       "Vanuatu_Sanma    0.586572  0.563830  0.583630  40  Vanuatu      Sanma   \n",
       "Vanuatu_Torba    0.565371  0.542553  0.519573  41  Vanuatu      Torba   \n",
       "Vanuatu_Penama   0.551237  0.524823  0.540925  39  Vanuatu     Penama   \n",
       "Vanuatu_Shefa    0.522968  0.563830  0.519573  37  Vanuatu      Shefa   \n",
       "Vanuatu_Tafea    0.491166  0.524823  0.505338  36  Vanuatu      Tafea   \n",
       "Vanuatu_Malampa  0.473684  0.462121  0.488550  38  Vanuatu    Malampa   \n",
       "\n",
       "                                                          geometry  \n",
       "Vanuatu_Sanma    POLYGON ((164.65000 -17.00000, 163.30561 -14.7...  \n",
       "Vanuatu_Torba    POLYGON ((163.30561 -14.76944, 163.55572 -13.6...  \n",
       "Vanuatu_Penama   POLYGON ((167.39846 -15.76310, 167.42271 -14.6...  \n",
       "Vanuatu_Shefa    POLYGON ((165.91965 -18.18292, 168.14108 -16.5...  \n",
       "Vanuatu_Tafea    POLYGON ((166.92257 -19.10641, 172.00000 -16.8...  \n",
       "Vanuatu_Malampa  POLYGON ((164.65000 -17.00000, 167.23023 -15.8...  "
      ]
     },
     "execution_count": 50,
     "metadata": {},
     "output_type": "execute_result"
    }
   ],
   "source": [
    "gdf_validation.query(\"Country == 'Vanuatu'\")"
   ]
  },
  {
   "cell_type": "code",
   "execution_count": 48,
   "id": "635e15a5-8cbc-46c5-913b-d3aa4c28a35a",
   "metadata": {},
   "outputs": [
    {
     "data": {
      "text/plain": [
       "22"
      ]
     },
     "execution_count": 48,
     "metadata": {},
     "output_type": "execute_result"
    }
   ],
   "source": [
    "len(gdf_validation.Country.unique())"
   ]
  },
  {
   "cell_type": "code",
   "execution_count": 49,
   "id": "f3155a81-0194-4bd2-b942-868bc847f241",
   "metadata": {},
   "outputs": [
    {
     "data": {
      "text/plain": [
       "array(['Kiribati', 'Nauru', 'Tuvalu', 'Tokelau', 'Palau', 'Vanuatu',\n",
       "       'Cook_Islands', 'French_Polynesia', 'Fiji', 'FSM', 'Tonga',\n",
       "       'Papua_New_Guinea', 'Marshall_Islands', 'New_Caledonia',\n",
       "       'Solomon_Islands', 'American_Samoa', 'Guam',\n",
       "       'Northern_Mariana_Islands', 'Niue', 'Samoa', 'Pitcairn',\n",
       "       'Wallis_et_Futuna'], dtype=object)"
      ]
     },
     "execution_count": 49,
     "metadata": {},
     "output_type": "execute_result"
    }
   ],
   "source": [
    "gdf_validation.Country.unique()"
   ]
  },
  {
   "cell_type": "code",
   "execution_count": null,
   "id": "a84630bf-1f09-4eef-a6e4-be595fd4fa69",
   "metadata": {},
   "outputs": [],
   "source": []
  }
 ],
 "metadata": {
  "kernelspec": {
   "display_name": "Python 3",
   "language": "python",
   "name": "python3"
  },
  "language_info": {
   "codemirror_mode": {
    "name": "ipython",
    "version": 3
   },
   "file_extension": ".py",
   "mimetype": "text/x-python",
   "name": "python",
   "nbconvert_exporter": "python",
   "pygments_lexer": "ipython3",
   "version": "3.8.10"
  }
 },
 "nbformat": 4,
 "nbformat_minor": 5
}
