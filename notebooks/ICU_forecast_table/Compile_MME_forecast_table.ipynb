{
 "cells": [
  {
   "cell_type": "code",
   "execution_count": 1,
   "id": "76963726-450c-4ea3-9b4b-ae47bddf9d63",
   "metadata": {},
   "outputs": [],
   "source": [
    "%matplotlib inline\n",
    "\n",
    "### os\n",
    "import os\n",
    "import sys\n",
    "\n",
    "### datetimes\n",
    "from datetime import datetime, timedelta\n",
    "\n",
    "### scipy\n",
    "import numpy as np\n",
    "import pandas as pd\n",
    "import xarray as xr\n",
    "import geopandas as gpd\n",
    "import cartopy.crs as ccrs\n",
    "import dask\n",
    "from dask.diagnostics import ProgressBar\n",
    "from tqdm import tqdm\n",
    "\n",
    "### plotting\n",
    "from matplotlib import pyplot as plt\n",
    "import matplotlib\n",
    "import seaborn as sns\n"
   ]
  },
  {
   "cell_type": "code",
   "execution_count": 2,
   "id": "21cde63c-26e9-4a6c-9edb-5e636bdfd977",
   "metadata": {},
   "outputs": [],
   "source": [
    "import pathlib\n",
    "\n",
    "HOME = pathlib.Path.home()\n",
    "CWD = pathlib.Path.cwd()\n"
   ]
  },
  {
   "cell_type": "code",
   "execution_count": 3,
   "id": "8d622dc1-8808-4155-a4b0-84f856218356",
   "metadata": {},
   "outputs": [],
   "source": [
    "dpath = pathlib.Path('/home/nicolasf/operational/ICU/development/hotspots/code/ICU_Water_Watch/outputs/C3S/admin/tercile/MME')"
   ]
  },
  {
   "cell_type": "code",
   "execution_count": 7,
   "id": "0d0cca61-c3d0-416a-9bfb-38162c512337",
   "metadata": {},
   "outputs": [],
   "source": [
    "year = 2021\n",
    "month = 11"
   ]
  },
  {
   "cell_type": "code",
   "execution_count": 8,
   "id": "8cbe3112-573c-4d37-b838-97bb3122d823",
   "metadata": {},
   "outputs": [],
   "source": [
    "lfiles = list(dpath.glob(f\"tercile_probs_forecasts_from_{year}_{month:02d}_*.csv\"))"
   ]
  },
  {
   "cell_type": "code",
   "execution_count": 10,
   "id": "fd2e4925-060d-44b5-bf6b-e24d521c9a82",
   "metadata": {},
   "outputs": [
    {
     "data": {
      "text/plain": [
       "73"
      ]
     },
     "execution_count": 10,
     "metadata": {},
     "output_type": "execute_result"
    }
   ],
   "source": [
    "len(lfiles)"
   ]
  },
  {
   "cell_type": "code",
   "execution_count": 11,
   "id": "2e4ed719-a041-46bf-a60d-a4ce295c520d",
   "metadata": {},
   "outputs": [],
   "source": [
    "fname = lfiles[0]"
   ]
  },
  {
   "cell_type": "code",
   "execution_count": 12,
   "id": "2613640c-9bfa-4bf6-a256-c1349dd59c13",
   "metadata": {},
   "outputs": [],
   "source": [
    "data = pd.read_csv(fname, index_col=[0,1,2,3], header=[0,1])"
   ]
  },
  {
   "cell_type": "code",
   "execution_count": 13,
   "id": "5925ed75-2022-41fb-839a-5f5260469016",
   "metadata": {},
   "outputs": [
    {
     "data": {
      "text/html": [
       "<div>\n",
       "<style scoped>\n",
       "    .dataframe tbody tr th:only-of-type {\n",
       "        vertical-align: middle;\n",
       "    }\n",
       "\n",
       "    .dataframe tbody tr th {\n",
       "        vertical-align: top;\n",
       "    }\n",
       "\n",
       "    .dataframe thead tr th {\n",
       "        text-align: left;\n",
       "    }\n",
       "</style>\n",
       "<table border=\"1\" class=\"dataframe\">\n",
       "  <thead>\n",
       "    <tr>\n",
       "      <th></th>\n",
       "      <th></th>\n",
       "      <th></th>\n",
       "      <th></th>\n",
       "      <th colspan=\"3\" halign=\"left\">3</th>\n",
       "      <th colspan=\"3\" halign=\"left\">4</th>\n",
       "      <th colspan=\"3\" halign=\"left\">5</th>\n",
       "    </tr>\n",
       "    <tr>\n",
       "      <th></th>\n",
       "      <th></th>\n",
       "      <th></th>\n",
       "      <th>tercile</th>\n",
       "      <th>1</th>\n",
       "      <th>2</th>\n",
       "      <th>3</th>\n",
       "      <th>1</th>\n",
       "      <th>2</th>\n",
       "      <th>3</th>\n",
       "      <th>1</th>\n",
       "      <th>2</th>\n",
       "      <th>3</th>\n",
       "    </tr>\n",
       "  </thead>\n",
       "  <tbody>\n",
       "    <tr>\n",
       "      <th>2021-11-01</th>\n",
       "      <th>Vanuatu</th>\n",
       "      <th>Tafea</th>\n",
       "      <th>MME</th>\n",
       "      <td>3</td>\n",
       "      <td>28</td>\n",
       "      <td>69</td>\n",
       "      <td>6</td>\n",
       "      <td>33</td>\n",
       "      <td>61</td>\n",
       "      <td>8</td>\n",
       "      <td>31</td>\n",
       "      <td>61</td>\n",
       "    </tr>\n",
       "  </tbody>\n",
       "</table>\n",
       "</div>"
      ],
      "text/plain": [
       "                              3          4          5        \n",
       "tercile                       1   2   3  1   2   3  1   2   3\n",
       "2021-11-01 Vanuatu Tafea MME  3  28  69  6  33  61  8  31  61"
      ]
     },
     "execution_count": 13,
     "metadata": {},
     "output_type": "execute_result"
    }
   ],
   "source": [
    "data.xs('MME', axis=0, level=3, drop_level=False)"
   ]
  },
  {
   "cell_type": "code",
   "execution_count": 14,
   "id": "8ad70feb-8011-410a-9c5b-37c305286077",
   "metadata": {},
   "outputs": [],
   "source": [
    "data_l = []\n",
    "for fname in lfiles: \n",
    "    data = pd.read_csv(fname, index_col=[0,1,2,3], header=[0,1])\n",
    "    data = data.xs('MME', axis=0, level=3, drop_level=False)\n",
    "    data_l.append(data)"
   ]
  },
  {
   "cell_type": "code",
   "execution_count": 15,
   "id": "7263ca36-6e47-4fe6-af16-c723f45d31f8",
   "metadata": {},
   "outputs": [],
   "source": [
    "data = pd.concat(data_l, axis=0)"
   ]
  },
  {
   "cell_type": "code",
   "execution_count": 16,
   "id": "59b74ed0-aceb-48d9-921b-3bd86348db4e",
   "metadata": {},
   "outputs": [],
   "source": [
    "data = data.sort_index()"
   ]
  },
  {
   "cell_type": "code",
   "execution_count": 17,
   "id": "f8d3ad96-d5c3-4bd4-97d8-c05ba1d420a9",
   "metadata": {},
   "outputs": [
    {
     "data": {
      "text/html": [
       "<div>\n",
       "<style scoped>\n",
       "    .dataframe tbody tr th:only-of-type {\n",
       "        vertical-align: middle;\n",
       "    }\n",
       "\n",
       "    .dataframe tbody tr th {\n",
       "        vertical-align: top;\n",
       "    }\n",
       "\n",
       "    .dataframe thead tr th {\n",
       "        text-align: left;\n",
       "    }\n",
       "</style>\n",
       "<table border=\"1\" class=\"dataframe\">\n",
       "  <thead>\n",
       "    <tr>\n",
       "      <th></th>\n",
       "      <th></th>\n",
       "      <th></th>\n",
       "      <th></th>\n",
       "      <th colspan=\"3\" halign=\"left\">3</th>\n",
       "      <th colspan=\"3\" halign=\"left\">4</th>\n",
       "      <th colspan=\"3\" halign=\"left\">5</th>\n",
       "    </tr>\n",
       "    <tr>\n",
       "      <th></th>\n",
       "      <th></th>\n",
       "      <th></th>\n",
       "      <th>tercile</th>\n",
       "      <th>1</th>\n",
       "      <th>2</th>\n",
       "      <th>3</th>\n",
       "      <th>1</th>\n",
       "      <th>2</th>\n",
       "      <th>3</th>\n",
       "      <th>1</th>\n",
       "      <th>2</th>\n",
       "      <th>3</th>\n",
       "    </tr>\n",
       "  </thead>\n",
       "  <tbody>\n",
       "    <tr>\n",
       "      <th rowspan=\"5\" valign=\"top\">2021-11-01</th>\n",
       "      <th rowspan=\"3\" valign=\"top\">American Samoa</th>\n",
       "      <th>Manua</th>\n",
       "      <th>MME</th>\n",
       "      <td>39</td>\n",
       "      <td>43</td>\n",
       "      <td>18</td>\n",
       "      <td>48</td>\n",
       "      <td>32</td>\n",
       "      <td>20</td>\n",
       "      <td>45</td>\n",
       "      <td>33</td>\n",
       "      <td>22</td>\n",
       "    </tr>\n",
       "    <tr>\n",
       "      <th>Swains</th>\n",
       "      <th>MME</th>\n",
       "      <td>52</td>\n",
       "      <td>28</td>\n",
       "      <td>20</td>\n",
       "      <td>56</td>\n",
       "      <td>32</td>\n",
       "      <td>12</td>\n",
       "      <td>60</td>\n",
       "      <td>25</td>\n",
       "      <td>15</td>\n",
       "    </tr>\n",
       "    <tr>\n",
       "      <th>Tutuila</th>\n",
       "      <th>MME</th>\n",
       "      <td>37</td>\n",
       "      <td>40</td>\n",
       "      <td>23</td>\n",
       "      <td>47</td>\n",
       "      <td>32</td>\n",
       "      <td>21</td>\n",
       "      <td>44</td>\n",
       "      <td>33</td>\n",
       "      <td>23</td>\n",
       "    </tr>\n",
       "    <tr>\n",
       "      <th rowspan=\"2\" valign=\"top\">Cook Islands</th>\n",
       "      <th>Northern Cook Islands</th>\n",
       "      <th>MME</th>\n",
       "      <td>71</td>\n",
       "      <td>16</td>\n",
       "      <td>13</td>\n",
       "      <td>73</td>\n",
       "      <td>14</td>\n",
       "      <td>13</td>\n",
       "      <td>72</td>\n",
       "      <td>15</td>\n",
       "      <td>13</td>\n",
       "    </tr>\n",
       "    <tr>\n",
       "      <th>Southern Cook Islands</th>\n",
       "      <th>MME</th>\n",
       "      <td>16</td>\n",
       "      <td>43</td>\n",
       "      <td>41</td>\n",
       "      <td>15</td>\n",
       "      <td>45</td>\n",
       "      <td>40</td>\n",
       "      <td>13</td>\n",
       "      <td>38</td>\n",
       "      <td>49</td>\n",
       "    </tr>\n",
       "  </tbody>\n",
       "</table>\n",
       "</div>"
      ],
      "text/plain": [
       "                                                      3           4          \\\n",
       "tercile                                               1   2   3   1   2   3   \n",
       "2021-11-01 American Samoa Manua                 MME  39  43  18  48  32  20   \n",
       "                          Swains                MME  52  28  20  56  32  12   \n",
       "                          Tutuila               MME  37  40  23  47  32  21   \n",
       "           Cook Islands   Northern Cook Islands MME  71  16  13  73  14  13   \n",
       "                          Southern Cook Islands MME  16  43  41  15  45  40   \n",
       "\n",
       "                                                      5          \n",
       "tercile                                               1   2   3  \n",
       "2021-11-01 American Samoa Manua                 MME  45  33  22  \n",
       "                          Swains                MME  60  25  15  \n",
       "                          Tutuila               MME  44  33  23  \n",
       "           Cook Islands   Northern Cook Islands MME  72  15  13  \n",
       "                          Southern Cook Islands MME  13  38  49  "
      ]
     },
     "execution_count": 17,
     "metadata": {},
     "output_type": "execute_result"
    }
   ],
   "source": [
    "data.head()"
   ]
  },
  {
   "cell_type": "code",
   "execution_count": 31,
   "id": "b3c1eda2-4690-410f-9e2e-122455d071d0",
   "metadata": {},
   "outputs": [],
   "source": [
    "data.to_csv(f'/home/nicolasf/Desktop/seasonal_ICU_C3S_MME_tercile_forecast_table_{year}_{month:02d}.csv')"
   ]
  },
  {
   "cell_type": "code",
   "execution_count": null,
   "id": "ab7d3e74-03ec-4e99-8f02-2672dd4a909c",
   "metadata": {},
   "outputs": [],
   "source": []
  }
 ],
 "metadata": {
  "kernelspec": {
   "display_name": "Python 3",
   "language": "python",
   "name": "python3"
  },
  "language_info": {
   "codemirror_mode": {
    "name": "ipython",
    "version": 3
   },
   "file_extension": ".py",
   "mimetype": "text/x-python",
   "name": "python",
   "nbconvert_exporter": "python",
   "pygments_lexer": "ipython3",
   "version": "3.8.10"
  }
 },
 "nbformat": 4,
 "nbformat_minor": 5
}
