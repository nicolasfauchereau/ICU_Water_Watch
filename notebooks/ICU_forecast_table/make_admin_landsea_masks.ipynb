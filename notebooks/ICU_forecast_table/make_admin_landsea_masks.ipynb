{
 "cells": [
  {
   "cell_type": "markdown",
   "id": "dc848a92-0993-4d7a-8b8c-59ee5d5e5564",
   "metadata": {
    "papermill": {
     "duration": 0.073722,
     "end_time": "2022-03-14T04:07:40.201223",
     "exception": false,
     "start_time": "2022-03-14T04:07:40.127501",
     "status": "completed"
    },
    "tags": []
   },
   "source": [
    "### calculate the leadtime-dependent climatological terciles, deciles and percentiles (0.02, then 0.05 to 0.95 with 0.05 step) from the individual GCMs' hindcast dataset (period 1993 - 2016) for admin areas  "
   ]
  },
  {
   "cell_type": "markdown",
   "id": "a0029435-c8cd-46f8-8edd-21e3f3422bf1",
   "metadata": {
    "papermill": {
     "duration": 0.071856,
     "end_time": "2022-03-14T04:07:40.346904",
     "exception": false,
     "start_time": "2022-03-14T04:07:40.275048",
     "status": "completed"
    },
    "tags": []
   },
   "source": [
    "### This notebook is driven via papermill by `ICU_forecast_table/drive_admin_GCMs_evaluation.ipynb`"
   ]
  },
  {
   "cell_type": "code",
   "execution_count": 1,
   "id": "d9e3e956-31d5-4606-b762-657a128f93dc",
   "metadata": {
    "papermill": {
     "duration": 0.084335,
     "end_time": "2022-03-14T04:07:40.505787",
     "exception": false,
     "start_time": "2022-03-14T04:07:40.421452",
     "status": "completed"
    },
    "tags": []
   },
   "outputs": [],
   "source": [
    "%load_ext autoreload\n",
    "%autoreload 2"
   ]
  },
  {
   "cell_type": "code",
   "execution_count": 2,
   "id": "ec7c9f73-b771-4191-9c46-eb9e2ca266ad",
   "metadata": {
    "papermill": {
     "duration": 1.668593,
     "end_time": "2022-03-14T04:07:42.247822",
     "exception": false,
     "start_time": "2022-03-14T04:07:40.579229",
     "status": "completed"
    },
    "tags": []
   },
   "outputs": [],
   "source": [
    "%matplotlib inline\n",
    "\n",
    "### os and standard libraries \n",
    "import os\n",
    "import sys\n",
    "from collections import OrderedDict\n",
    "from itertools import product\n",
    "\n",
    "### datetimes\n",
    "from datetime import datetime, timedelta\n",
    "\n",
    "### scipy\n",
    "import numpy as np\n",
    "import pandas as pd\n",
    "import xarray as xr\n",
    "import geopandas as gpd\n",
    "import cartopy.crs as ccrs\n",
    "import dask\n",
    "from dask.diagnostics import ProgressBar\n",
    "from tqdm import tqdm\n",
    "\n",
    "### plotting\n",
    "from matplotlib import pyplot as plt\n",
    "import matplotlib\n",
    "import seaborn as sns\n"
   ]
  },
  {
   "cell_type": "code",
   "execution_count": 3,
   "id": "0cab9771-20cf-4302-9c84-97580f01d934",
   "metadata": {
    "papermill": {
     "duration": 0.092645,
     "end_time": "2022-03-14T04:07:42.410257",
     "exception": false,
     "start_time": "2022-03-14T04:07:42.317612",
     "status": "completed"
    },
    "tags": []
   },
   "outputs": [],
   "source": [
    "import pathlib\n",
    "\n",
    "HOME = pathlib.Path.home()\n",
    "CWD = pathlib.Path.cwd() "
   ]
  },
  {
   "cell_type": "code",
   "execution_count": 4,
   "id": "03b5d899-37d8-48b0-b161-3b5a67d2e116",
   "metadata": {
    "papermill": {
     "duration": 0.08951,
     "end_time": "2022-03-14T04:07:42.573457",
     "exception": false,
     "start_time": "2022-03-14T04:07:42.483947",
     "status": "completed"
    },
    "tags": []
   },
   "outputs": [],
   "source": [
    "sys.path.append('../../') "
   ]
  },
  {
   "cell_type": "code",
   "execution_count": 5,
   "id": "d986433d-94b5-41de-b90e-ff762bdcb9c4",
   "metadata": {
    "papermill": {
     "duration": 11.778736,
     "end_time": "2022-03-14T04:07:54.425879",
     "exception": false,
     "start_time": "2022-03-14T04:07:42.647143",
     "status": "completed"
    },
    "tags": []
   },
   "outputs": [],
   "source": [
    "from ICU_Water_Watch import geo, C3S, domains, plot, utils"
   ]
  },
  {
   "cell_type": "markdown",
   "id": "9981cffb-16bc-426a-ba99-cfa380cacaf6",
   "metadata": {},
   "source": [
    "### read one GCM "
   ]
  },
  {
   "cell_type": "code",
   "execution_count": 6,
   "id": "ec9e9c11-6a0a-4569-b095-12b7aa3e4e25",
   "metadata": {
    "papermill": {
     "duration": 0.0929,
     "end_time": "2022-03-14T04:07:55.350418",
     "exception": false,
     "start_time": "2022-03-14T04:07:55.257518",
     "status": "completed"
    },
    "tags": [
     "parameters"
    ]
   },
   "outputs": [],
   "source": [
    "provider = 'CDS'\n",
    "GCM = 'ECMWF'\n",
    "varname = 'tprate'"
   ]
  },
  {
   "cell_type": "markdown",
   "id": "1e5315c7-8f76-4063-9a1a-bbd857a5bdff",
   "metadata": {
    "papermill": {
     "duration": 0.071424,
     "end_time": "2022-03-14T04:07:55.655629",
     "exception": false,
     "start_time": "2022-03-14T04:07:55.584205",
     "status": "completed"
    },
    "tags": []
   },
   "source": [
    "### path definitions follow"
   ]
  },
  {
   "cell_type": "markdown",
   "id": "05579840-f03c-41af-a26c-147d54a8ac9b",
   "metadata": {
    "papermill": {
     "duration": 0.070144,
     "end_time": "2022-03-14T04:07:55.798043",
     "exception": false,
     "start_time": "2022-03-14T04:07:55.727899",
     "status": "completed"
    },
    "tags": []
   },
   "source": [
    "### outputs "
   ]
  },
  {
   "cell_type": "code",
   "execution_count": 7,
   "id": "e23b3c1b-32ae-4f40-b45e-196e90983a16",
   "metadata": {
    "papermill": {
     "duration": 0.090362,
     "end_time": "2022-03-14T04:07:55.961125",
     "exception": false,
     "start_time": "2022-03-14T04:07:55.870763",
     "status": "completed"
    },
    "tags": []
   },
   "outputs": [],
   "source": [
    "outputs_path = HOME.joinpath(\"operational/ICU/development/hotspots/code/ICU_Water_Watch/outputs/admin/lsmasks\")"
   ]
  },
  {
   "cell_type": "code",
   "execution_count": 8,
   "id": "d668be67-7078-47c8-8edc-9a7be306d99f",
   "metadata": {
    "papermill": {
     "duration": 0.091014,
     "end_time": "2022-03-14T04:07:56.124794",
     "exception": false,
     "start_time": "2022-03-14T04:07:56.033780",
     "status": "completed"
    },
    "tags": []
   },
   "outputs": [
    {
     "name": "stdout",
     "output_type": "stream",
     "text": [
      "/home/nicolasf/operational/ICU/development/hotspots/code/ICU_Water_Watch/outputs/admin/lsmasks\n"
     ]
    }
   ],
   "source": [
    "print(str(outputs_path))"
   ]
  },
  {
   "cell_type": "code",
   "execution_count": 9,
   "id": "f329edd8-a1ae-40e6-9fac-f876edfd0b86",
   "metadata": {},
   "outputs": [],
   "source": [
    "fig_path = HOME.joinpath('operational/ICU/development/hotspots/code/ICU_Water_Watch/figures/admin_lsmasks')"
   ]
  },
  {
   "cell_type": "code",
   "execution_count": 10,
   "id": "816b1c64-26a8-4920-841d-75d065bf3455",
   "metadata": {},
   "outputs": [
    {
     "name": "stdout",
     "output_type": "stream",
     "text": [
      "/home/nicolasf/operational/ICU/development/hotspots/code/ICU_Water_Watch/figures/admin_lsmasks\n"
     ]
    }
   ],
   "source": [
    "print(fig_path)"
   ]
  },
  {
   "cell_type": "markdown",
   "id": "6066e28c-480a-4d4f-a59f-6dd39789ba73",
   "metadata": {
    "papermill": {
     "duration": 0.076699,
     "end_time": "2022-03-14T04:07:56.273807",
     "exception": false,
     "start_time": "2022-03-14T04:07:56.197108",
     "status": "completed"
    },
    "tags": []
   },
   "source": [
    "#### where to find the GCM hindcast datasets "
   ]
  },
  {
   "cell_type": "code",
   "execution_count": 11,
   "id": "cbcb65ed-7126-4c4b-b7b1-29f7c053f5b1",
   "metadata": {
    "papermill": {
     "duration": 0.091978,
     "end_time": "2022-03-14T04:07:56.438414",
     "exception": false,
     "start_time": "2022-03-14T04:07:56.346436",
     "status": "completed"
    },
    "tags": []
   },
   "outputs": [],
   "source": [
    "gcm_path = pathlib.Path(f'/media/nicolasf/END19101/ICU/data/CDS/operational/hindcasts')"
   ]
  },
  {
   "cell_type": "code",
   "execution_count": 12,
   "id": "33fe9a62-f1e7-40b4-a77b-7d7ddee2b7ca",
   "metadata": {
    "papermill": {
     "duration": 0.091945,
     "end_time": "2022-03-14T04:07:56.602324",
     "exception": false,
     "start_time": "2022-03-14T04:07:56.510379",
     "status": "completed"
    },
    "tags": []
   },
   "outputs": [],
   "source": [
    "dpath = gcm_path.joinpath(GCM).joinpath(varname.upper())"
   ]
  },
  {
   "cell_type": "code",
   "execution_count": 13,
   "id": "692494fd-2d87-4d0c-9e6d-1aa8b3d71794",
   "metadata": {
    "papermill": {
     "duration": 0.090484,
     "end_time": "2022-03-14T04:07:56.765001",
     "exception": false,
     "start_time": "2022-03-14T04:07:56.674517",
     "status": "completed"
    },
    "tags": []
   },
   "outputs": [
    {
     "name": "stdout",
     "output_type": "stream",
     "text": [
      "/media/nicolasf/END19101/ICU/data/CDS/operational/hindcasts/ECMWF/TPRATE\n"
     ]
    }
   ],
   "source": [
    "print(dpath)"
   ]
  },
  {
   "cell_type": "markdown",
   "id": "d47e42f3-1647-4f1b-866f-501481e2dfab",
   "metadata": {
    "papermill": {
     "duration": 0.071285,
     "end_time": "2022-03-14T04:07:57.541364",
     "exception": false,
     "start_time": "2022-03-14T04:07:57.470079",
     "status": "completed"
    },
    "tags": []
   },
   "source": [
    "### get the list of files "
   ]
  },
  {
   "cell_type": "code",
   "execution_count": 14,
   "id": "f0b72f90-2b59-45d1-833f-8e47715b9177",
   "metadata": {
    "papermill": {
     "duration": 0.093394,
     "end_time": "2022-03-14T04:07:57.706724",
     "exception": false,
     "start_time": "2022-03-14T04:07:57.613330",
     "status": "completed"
    },
    "tags": []
   },
   "outputs": [],
   "source": [
    "lfiles = list(dpath.glob(f\"ensemble_seas_forecasts_{varname}_from_*.netcdf\"))"
   ]
  },
  {
   "cell_type": "code",
   "execution_count": 15,
   "id": "a1e49b09-ad9d-4881-b396-a41abccb3857",
   "metadata": {
    "papermill": {
     "duration": 0.09149,
     "end_time": "2022-03-14T04:07:57.870727",
     "exception": false,
     "start_time": "2022-03-14T04:07:57.779237",
     "status": "completed"
    },
    "tags": []
   },
   "outputs": [],
   "source": [
    "lfiles.sort()"
   ]
  },
  {
   "cell_type": "code",
   "execution_count": 16,
   "id": "52f00c95-b9fa-4fae-a2d9-d00fa0e10a89",
   "metadata": {},
   "outputs": [],
   "source": [
    "dset_gcm = xr.open_dataset(lfiles[0])"
   ]
  },
  {
   "cell_type": "code",
   "execution_count": 17,
   "id": "c371cd86-939a-4e7b-8184-1986d0d289c1",
   "metadata": {},
   "outputs": [],
   "source": [
    "dset_gcm = C3S.preprocess_GCM(dset_gcm)"
   ]
  },
  {
   "cell_type": "code",
   "execution_count": 18,
   "id": "b7afaa16-4579-4ce1-8c9e-aa2da451b518",
   "metadata": {
    "papermill": {
     "duration": 0.094306,
     "end_time": "2022-03-14T04:08:04.983048",
     "exception": false,
     "start_time": "2022-03-14T04:08:04.888742",
     "status": "completed"
    },
    "tags": []
   },
   "outputs": [
    {
     "data": {
      "text/plain": [
       "<bound method Dataset.info of <xarray.Dataset>\n",
       "Dimensions:  (lon: 121, lat: 81, member: 25, step: 5, time: 1)\n",
       "Coordinates:\n",
       "  * time     (time) datetime64[ns] 1993-01-01\n",
       "  * lon      (lon) float32 120.0 121.0 122.0 123.0 ... 237.0 238.0 239.0 240.0\n",
       "  * lat      (lat) float32 -50.0 -49.0 -48.0 -47.0 -46.0 ... 27.0 28.0 29.0 30.0\n",
       "  * member   (member) int32 0 1 2 3 4 5 6 7 8 9 ... 16 17 18 19 20 21 22 23 24\n",
       "  * step     (step) int64 1 2 3 4 5\n",
       "Data variables:\n",
       "    tprate   (time, step, member, lat, lon) float32 5.329e-08 ... 1.209e-09\n",
       "Attributes:\n",
       "    Conventions:  CF-1.6\n",
       "    history:      2022-01-17 01:17:57 GMT by grib_to_netcdf-2.23.0: /opt/ecmw...>"
      ]
     },
     "execution_count": 18,
     "metadata": {},
     "output_type": "execute_result"
    }
   ],
   "source": [
    "dset_gcm.info"
   ]
  },
  {
   "cell_type": "markdown",
   "id": "b7f14bcd-6dc5-4c71-8fe2-8b6575aff225",
   "metadata": {},
   "source": [
    "### reads the coastlines "
   ]
  },
  {
   "cell_type": "code",
   "execution_count": 19,
   "id": "10276179-5bb6-44d2-9a05-a88736657b4d",
   "metadata": {
    "papermill": {
     "duration": 0.096232,
     "end_time": "2022-03-14T04:08:08.214937",
     "exception": false,
     "start_time": "2022-03-14T04:08:08.118705",
     "status": "completed"
    },
    "tags": []
   },
   "outputs": [],
   "source": [
    "coastlines_dpath = pathlib.Path('/home/nicolasf/operational/ICU/development/hotspots/data/shapefiles/Admin_boundaries/Coastlines')"
   ]
  },
  {
   "cell_type": "code",
   "execution_count": 20,
   "id": "b7a89383-fc10-420c-b116-9640289042f1",
   "metadata": {
    "papermill": {
     "duration": 0.173698,
     "end_time": "2022-03-14T04:08:08.465089",
     "exception": false,
     "start_time": "2022-03-14T04:08:08.291391",
     "status": "completed"
    },
    "tags": []
   },
   "outputs": [],
   "source": [
    "shapefile = gpd.read_file(coastlines_dpath.joinpath('ICU_admin_geometries0_360.shp'))"
   ]
  },
  {
   "cell_type": "code",
   "execution_count": 21,
   "id": "3ffbf31f-21c3-4a1b-8bc4-81dc56b9617c",
   "metadata": {
    "papermill": {
     "duration": 0.26349,
     "end_time": "2022-03-14T04:08:08.807703",
     "exception": false,
     "start_time": "2022-03-14T04:08:08.544213",
     "status": "completed"
    },
    "tags": []
   },
   "outputs": [
    {
     "data": {
      "text/html": [
       "<div>\n",
       "<style scoped>\n",
       "    .dataframe tbody tr th:only-of-type {\n",
       "        vertical-align: middle;\n",
       "    }\n",
       "\n",
       "    .dataframe tbody tr th {\n",
       "        vertical-align: top;\n",
       "    }\n",
       "\n",
       "    .dataframe thead th {\n",
       "        text-align: right;\n",
       "    }\n",
       "</style>\n",
       "<table border=\"1\" class=\"dataframe\">\n",
       "  <thead>\n",
       "    <tr style=\"text-align: right;\">\n",
       "      <th></th>\n",
       "      <th>id</th>\n",
       "      <th>Country</th>\n",
       "      <th>Admin_boun</th>\n",
       "      <th>geometry</th>\n",
       "    </tr>\n",
       "  </thead>\n",
       "  <tbody>\n",
       "    <tr>\n",
       "      <th>0</th>\n",
       "      <td>1</td>\n",
       "      <td>Northern Mariana Islands</td>\n",
       "      <td>Southern Islands</td>\n",
       "      <td>MULTIPOLYGON (((145.13454 14.13935, 145.13472 ...</td>\n",
       "    </tr>\n",
       "    <tr>\n",
       "      <th>1</th>\n",
       "      <td>2</td>\n",
       "      <td>Northern Mariana Islands</td>\n",
       "      <td>Northern Islands</td>\n",
       "      <td>MULTIPOLYGON (((146.05832 16.01259, 146.05590 ...</td>\n",
       "    </tr>\n",
       "    <tr>\n",
       "      <th>2</th>\n",
       "      <td>3</td>\n",
       "      <td>Guam</td>\n",
       "      <td>Guam</td>\n",
       "      <td>MULTIPOLYGON (((144.65813 13.23972, 144.65000 ...</td>\n",
       "    </tr>\n",
       "    <tr>\n",
       "      <th>3</th>\n",
       "      <td>4</td>\n",
       "      <td>Palau</td>\n",
       "      <td>Babeldaob region</td>\n",
       "      <td>MULTIPOLYGON (((134.12425 6.92185, 134.12468 6...</td>\n",
       "    </tr>\n",
       "    <tr>\n",
       "      <th>4</th>\n",
       "      <td>5</td>\n",
       "      <td>Palau</td>\n",
       "      <td>South-west Islands</td>\n",
       "      <td>MULTIPOLYGON (((131.81201 2.97124, 131.81115 2...</td>\n",
       "    </tr>\n",
       "    <tr>\n",
       "      <th>...</th>\n",
       "      <td>...</td>\n",
       "      <td>...</td>\n",
       "      <td>...</td>\n",
       "      <td>...</td>\n",
       "    </tr>\n",
       "    <tr>\n",
       "      <th>68</th>\n",
       "      <td>24</td>\n",
       "      <td>Cook Islands</td>\n",
       "      <td>Northern Cook Islands</td>\n",
       "      <td>MULTIPOLYGON (((196.88468 -13.33285, 196.88385...</td>\n",
       "    </tr>\n",
       "    <tr>\n",
       "      <th>69</th>\n",
       "      <td>70</td>\n",
       "      <td>FSM</td>\n",
       "      <td>Kapingamarangi</td>\n",
       "      <td>MULTIPOLYGON (((154.77861 1.02694, 154.78083 1...</td>\n",
       "    </tr>\n",
       "    <tr>\n",
       "      <th>70</th>\n",
       "      <td>71</td>\n",
       "      <td>Marshall Islands</td>\n",
       "      <td>Southern Marshall Islands</td>\n",
       "      <td>MULTIPOLYGON (((168.76519 4.60420, 168.76501 4...</td>\n",
       "    </tr>\n",
       "    <tr>\n",
       "      <th>71</th>\n",
       "      <td>72</td>\n",
       "      <td>Marshall Islands</td>\n",
       "      <td>Central Marshall Islands</td>\n",
       "      <td>MULTIPOLYGON (((168.76889 7.28056, 168.76944 7...</td>\n",
       "    </tr>\n",
       "    <tr>\n",
       "      <th>72</th>\n",
       "      <td>73</td>\n",
       "      <td>Marshall Islands</td>\n",
       "      <td>Northern Marshall Islands</td>\n",
       "      <td>MULTIPOLYGON (((166.51295 11.11558, 166.51334 ...</td>\n",
       "    </tr>\n",
       "  </tbody>\n",
       "</table>\n",
       "<p>73 rows × 4 columns</p>\n",
       "</div>"
      ],
      "text/plain": [
       "    id                   Country                 Admin_boun  \\\n",
       "0    1  Northern Mariana Islands           Southern Islands   \n",
       "1    2  Northern Mariana Islands           Northern Islands   \n",
       "2    3                      Guam                       Guam   \n",
       "3    4                     Palau           Babeldaob region   \n",
       "4    5                     Palau         South-west Islands   \n",
       "..  ..                       ...                        ...   \n",
       "68  24              Cook Islands      Northern Cook Islands   \n",
       "69  70                       FSM             Kapingamarangi   \n",
       "70  71          Marshall Islands  Southern Marshall Islands   \n",
       "71  72          Marshall Islands   Central Marshall Islands   \n",
       "72  73          Marshall Islands  Northern Marshall Islands   \n",
       "\n",
       "                                             geometry  \n",
       "0   MULTIPOLYGON (((145.13454 14.13935, 145.13472 ...  \n",
       "1   MULTIPOLYGON (((146.05832 16.01259, 146.05590 ...  \n",
       "2   MULTIPOLYGON (((144.65813 13.23972, 144.65000 ...  \n",
       "3   MULTIPOLYGON (((134.12425 6.92185, 134.12468 6...  \n",
       "4   MULTIPOLYGON (((131.81201 2.97124, 131.81115 2...  \n",
       "..                                                ...  \n",
       "68  MULTIPOLYGON (((196.88468 -13.33285, 196.88385...  \n",
       "69  MULTIPOLYGON (((154.77861 1.02694, 154.78083 1...  \n",
       "70  MULTIPOLYGON (((168.76519 4.60420, 168.76501 4...  \n",
       "71  MULTIPOLYGON (((168.76889 7.28056, 168.76944 7...  \n",
       "72  MULTIPOLYGON (((166.51295 11.11558, 166.51334 ...  \n",
       "\n",
       "[73 rows x 4 columns]"
      ]
     },
     "execution_count": 21,
     "metadata": {},
     "output_type": "execute_result"
    }
   ],
   "source": [
    "shapefile"
   ]
  },
  {
   "cell_type": "code",
   "execution_count": 22,
   "id": "b5738828-f141-4729-b103-b969e23b1cab",
   "metadata": {
    "papermill": {
     "duration": 0.094362,
     "end_time": "2022-03-14T04:08:08.975222",
     "exception": false,
     "start_time": "2022-03-14T04:08:08.880860",
     "status": "completed"
    },
    "tags": []
   },
   "outputs": [],
   "source": [
    "country_col = 'Country'\n",
    "admin_col = 'Admin_boun'"
   ]
  },
  {
   "cell_type": "code",
   "execution_count": 23,
   "id": "9574799e-b9a0-4a3c-bc8c-e5c2baba0633",
   "metadata": {
    "papermill": {
     "duration": 0.095456,
     "end_time": "2022-03-14T04:08:09.145367",
     "exception": false,
     "start_time": "2022-03-14T04:08:09.049911",
     "status": "completed"
    },
    "tags": []
   },
   "outputs": [],
   "source": [
    "shapefile.loc[:,f\"{admin_col}\"] = shapefile.loc[:,f\"{admin_col}\"].str.replace(\"'\",\"\")"
   ]
  },
  {
   "cell_type": "code",
   "execution_count": 24,
   "id": "5472a1d1-0d5d-475f-afe2-f23f828b39e1",
   "metadata": {},
   "outputs": [],
   "source": [
    "domain_buffer = 1"
   ]
  },
  {
   "cell_type": "code",
   "execution_count": 25,
   "id": "0fc4fb90-eef1-4c08-9be3-d42856801322",
   "metadata": {},
   "outputs": [],
   "source": [
    "l_countries_admin = []"
   ]
  },
  {
   "cell_type": "code",
   "execution_count": 26,
   "id": "07d554cd-8da6-4aae-8507-7b3052c99445",
   "metadata": {},
   "outputs": [
    {
     "name": "stdout",
     "output_type": "stream",
     "text": [
      "processing Northern Mariana Islands, admin region Southern Islands\n",
      "processing Northern Mariana Islands, admin region Northern Islands\n",
      "processing Guam, admin region Guam\n",
      "processing Palau, admin region Babeldaob region\n",
      "processing Palau, admin region South-west Islands\n",
      "processing FSM, admin region Yap\n",
      "processing FSM, admin region Chuuk\n",
      "processing FSM, admin region Pohnpei\n",
      "processing FSM, admin region Kosrae\n",
      "processing FSM, admin region Kapingamarangi\n",
      "processing Nauru, admin region Nauru\n",
      "processing Kiribati, admin region Ocean Island\n",
      "processing Kiribati, admin region Gilberts-North\n",
      "processing Kiribati, admin region Gilberts-South\n",
      "processing Kiribati, admin region Phoenix Islands\n",
      "processing Kiribati, admin region Northern Line Islands\n",
      "processing Kiribati, admin region Southern Line Islands\n",
      "processing Kiribati, admin region Central Line Islands\n",
      "processing Tokelau, admin region Tokelau\n",
      "processing Tonga, admin region Tongatapu-Eua\n",
      "processing Tonga, admin region Haapai\n",
      "processing Tonga, admin region Vavau\n",
      "processing Tonga, admin region Niuas\n",
      "processing Cook Islands, admin region Southern Cook Islands\n",
      "processing Cook Islands, admin region Northern Cook Islands\n",
      "processing American Samoa, admin region Swains\n",
      "processing American Samoa, admin region Manua\n",
      "processing American Samoa, admin region Tutuila\n",
      "processing Samoa, admin region Savaii\n",
      "processing Samoa, admin region Upola\n",
      "processing Fiji, admin region Rotuma\n",
      "processing Fiji, admin region Northern\n",
      "processing Fiji, admin region Eastern\n",
      "processing Fiji, admin region Central\n",
      "processing Fiji, admin region Western\n",
      "processing Vanuatu, admin region Tafea\n",
      "processing Vanuatu, admin region Shefa\n",
      "processing Vanuatu, admin region Malampa\n",
      "processing Vanuatu, admin region Penama\n",
      "processing Vanuatu, admin region Sanma\n",
      "processing Vanuatu, admin region Torba\n",
      "processing New Caledonia, admin region Loyalty Islands Province\n",
      "processing New Caledonia, admin region North Province\n",
      "processing New Caledonia, admin region South Province\n",
      "processing Solomon Islands, admin region Wesgtern Province\n",
      "processing Solomon Islands, admin region Choiseul Province\n",
      "processing Solomon Islands, admin region Isabel Province\n",
      "processing Solomon Islands, admin region Central Province\n",
      "processing Solomon Islands, admin region Guadacanal Province\n",
      "processing Solomon Islands, admin region Rennell and Bellona\n",
      "processing Solomon Islands, admin region Makira-Ulawa Province\n",
      "processing Solomon Islands, admin region Malaita Province\n",
      "processing Solomon Islands, admin region Temotu Province\n",
      "processing Papua New Guinea, admin region Islands Region\n",
      "processing Papua New Guinea, admin region Momase Region\n",
      "processing Papua New Guinea, admin region Highlands Region\n",
      "processing Papua New Guinea, admin region Southern Region\n",
      "processing Wallis et Futuna, admin region Futuna\n",
      "processing Wallis et Futuna, admin region Wallis\n",
      "processing French Polynesia, admin region Marquesas Islands\n",
      "processing French Polynesia, admin region Tuamotu Archipelago\n",
      "processing French Polynesia, admin region Gambier Islands\n",
      "processing French Polynesia, admin region Austral Islands\n",
      "processing French Polynesia, admin region Leeward-Society Islands\n",
      "processing French Polynesia, admin region Windward-Society Islands\n",
      "processing Tuvalu, admin region Northern Tuvalu\n",
      "processing Tuvalu, admin region Southern Tuvalu\n",
      "processing Pitcairn, admin region Pitcairn, Henderson&Oeno\n",
      "processing Pitcairn, admin region Ducie\n",
      "processing Niue, admin region Niue\n",
      "processing Marshall Islands, admin region Southern Marshall Islands\n",
      "processing Marshall Islands, admin region Central Marshall Islands\n",
      "processing Marshall Islands, admin region Northern Marshall Islands\n"
     ]
    }
   ],
   "source": [
    "for country in shapefile['Country'].unique(): \n",
    "    \n",
    "    sub = shapefile.query(f\"Country == '{country}'\")\n",
    "    \n",
    "    for admin in sub['Admin_boun'].unique(): \n",
    "        \n",
    "        print(f\"processing {country}, admin region {admin}\")\n",
    "        \n",
    "        shape = sub.query(f\"{admin_col} == '{admin}'\")\n",
    "        \n",
    "        original_shape = shape.copy()\n",
    "        \n",
    "        shape = shape.buffer(0.25)\n",
    "\n",
    "        bounds = shape.bounds.values.flatten() \n",
    "\n",
    "        domain = [bounds[0] - domain_buffer, bounds[2] + domain_buffer, bounds[1] - domain_buffer, bounds[3] + domain_buffer]\n",
    "        \n",
    "        lon_min, lon_max, lat_min, lat_max = domain\n",
    "        \n",
    "        dset, domain = geo.mask_dataset(dset_gcm, shape, coastline_buffer=None, varname='tprate')\n",
    "        \n",
    "        mask = dset[['mask']]\n",
    "        \n",
    "        d = dict(\n",
    "        lon_min = lon_min, \n",
    "        lon_max = lon_max, \n",
    "        lat_min = lat_min, \n",
    "        lat_max = lat_max, \n",
    "        )\n",
    "        \n",
    "        mask['mask'].attrs.update(d)\n",
    "        \n",
    "        mask.to_netcdf(outputs_path.joinpath(f\"landsea_mask_{utils.sanitize_name(country)}_{utils.sanitize_name(admin)}.nc\"))\n",
    "        \n",
    "        # figure \n",
    "        \n",
    "        f, ax = plt.subplots(figsize=(10,8), subplot_kw={'projection':ccrs.PlateCarree(central_longitude=180)})\n",
    "\n",
    "        shape.boundary.plot(ax=ax, color='r', lw=1, transform=ccrs.PlateCarree())\n",
    "\n",
    "        original_shape.boundary.plot(ax=ax, color='k', lw=0.7, alpha=1, transform=ccrs.PlateCarree())\n",
    "\n",
    "        mask['mask'].plot(ax=ax, add_colorbar=False, transform=ccrs.PlateCarree(), alpha=0.4, cmap=plt.cm.gray)\n",
    "\n",
    "        ax.set_title(f\"Country: {country}, admin. area: {admin}\\n{mask['mask'].attrs['cells']} grid points\", fontsize=14)\n",
    "\n",
    "        lons_grid = np.linspace(np.floor(lon_min), np.ceil(lon_max), num=5, endpoint=True) \n",
    "        lats_grid = np.linspace(np.floor(lat_min), np.ceil(lat_max), num=5, endpoint=True)\n",
    "        \n",
    "        plot.make_gridlines(ax, lons=lons_grid, lats=lats_grid)\n",
    "\n",
    "        f.savefig(fig_path.joinpath(f\"landsea_mask_{utils.sanitize_name(country)}_{utils.sanitize_name(admin)}.png\"), dpi=200, bbox_inches='tight', facecolor='w')\n",
    "                  \n",
    "        plt.close(f)\n",
    "    \n",
    "        mask.close()\n",
    "        \n",
    "        l_countries_admin.append([utils.sanitize_name(country), utils.sanitize_name(admin)])"
   ]
  },
  {
   "cell_type": "code",
   "execution_count": 27,
   "id": "a45e6c14-ea04-4002-8c63-68d8a7c8c66e",
   "metadata": {},
   "outputs": [],
   "source": [
    "df_countries_admin = pd.DataFrame(l_countries_admin)"
   ]
  },
  {
   "cell_type": "code",
   "execution_count": 28,
   "id": "5377751e-c2ba-4479-8ce5-cfc990a52827",
   "metadata": {},
   "outputs": [],
   "source": [
    "df_countries_admin.columns = ['country','admin']"
   ]
  },
  {
   "cell_type": "code",
   "execution_count": 29,
   "id": "33ef4af5-cbd4-4359-a671-4e533025746d",
   "metadata": {},
   "outputs": [
    {
     "data": {
      "text/plain": [
       "PosixPath('/home/nicolasf/operational/ICU/development/hotspots/code/ICU_Water_Watch/outputs/admin')"
      ]
     },
     "execution_count": 29,
     "metadata": {},
     "output_type": "execute_result"
    }
   ],
   "source": [
    "outputs_path.parent"
   ]
  },
  {
   "cell_type": "code",
   "execution_count": 30,
   "id": "754d6be9-93b5-4982-915f-c86d7f51b173",
   "metadata": {},
   "outputs": [],
   "source": [
    "df_countries_admin.to_csv(outputs_path.parent.joinpath(\"list_countries_admin.csv\"))"
   ]
  },
  {
   "cell_type": "code",
   "execution_count": 31,
   "id": "62a0a50a-0805-4e00-afcf-1b817c7a732a",
   "metadata": {},
   "outputs": [
    {
     "data": {
      "text/html": [
       "<div>\n",
       "<style scoped>\n",
       "    .dataframe tbody tr th:only-of-type {\n",
       "        vertical-align: middle;\n",
       "    }\n",
       "\n",
       "    .dataframe tbody tr th {\n",
       "        vertical-align: top;\n",
       "    }\n",
       "\n",
       "    .dataframe thead th {\n",
       "        text-align: right;\n",
       "    }\n",
       "</style>\n",
       "<table border=\"1\" class=\"dataframe\">\n",
       "  <thead>\n",
       "    <tr style=\"text-align: right;\">\n",
       "      <th></th>\n",
       "      <th>country</th>\n",
       "      <th>admin</th>\n",
       "    </tr>\n",
       "  </thead>\n",
       "  <tbody>\n",
       "    <tr>\n",
       "      <th>0</th>\n",
       "      <td>Northern_Mariana_Islands</td>\n",
       "      <td>Southern_Islands</td>\n",
       "    </tr>\n",
       "    <tr>\n",
       "      <th>1</th>\n",
       "      <td>Northern_Mariana_Islands</td>\n",
       "      <td>Northern_Islands</td>\n",
       "    </tr>\n",
       "    <tr>\n",
       "      <th>2</th>\n",
       "      <td>Guam</td>\n",
       "      <td>Guam</td>\n",
       "    </tr>\n",
       "    <tr>\n",
       "      <th>3</th>\n",
       "      <td>Palau</td>\n",
       "      <td>Babeldaob_region</td>\n",
       "    </tr>\n",
       "    <tr>\n",
       "      <th>4</th>\n",
       "      <td>Palau</td>\n",
       "      <td>South-west_Islands</td>\n",
       "    </tr>\n",
       "  </tbody>\n",
       "</table>\n",
       "</div>"
      ],
      "text/plain": [
       "                    country               admin\n",
       "0  Northern_Mariana_Islands    Southern_Islands\n",
       "1  Northern_Mariana_Islands    Northern_Islands\n",
       "2                      Guam                Guam\n",
       "3                     Palau    Babeldaob_region\n",
       "4                     Palau  South-west_Islands"
      ]
     },
     "execution_count": 31,
     "metadata": {},
     "output_type": "execute_result"
    }
   ],
   "source": [
    "df_countries_admin.head()"
   ]
  },
  {
   "cell_type": "code",
   "execution_count": null,
   "id": "cedf5570-0b39-4586-8a2c-fbbdc45f0c3a",
   "metadata": {},
   "outputs": [],
   "source": []
  }
 ],
 "metadata": {
  "kernelspec": {
   "display_name": "Python 3 (ipykernel)",
   "language": "python",
   "name": "python3"
  },
  "language_info": {
   "codemirror_mode": {
    "name": "ipython",
    "version": 3
   },
   "file_extension": ".py",
   "mimetype": "text/x-python",
   "name": "python",
   "nbconvert_exporter": "python",
   "pygments_lexer": "ipython3",
   "version": "3.9.12"
  },
  "papermill": {
   "default_parameters": {},
   "duration": 34.664025,
   "end_time": "2022-03-14T04:08:14.101487",
   "environment_variables": {},
   "exception": true,
   "input_path": "/home/nicolasf/operational/ICU/development/hotspots/code/ICU_Water_Watch/notebooks/ICU_forecast_table/GCMs_admin_hindcast_climatologies_and_probabilities.ipynb",
   "output_path": "/home/nicolasf/operational/ICU/development/hotspots/code/ICU_Water_Watch/notebooks/ICU_forecast_table/GCMs_admin_hindcast_climatologies_and_probabilities.ipynb",
   "parameters": {
    "GCM": "ECMWF",
    "admin": "Northern",
    "country": "Fiji",
    "method": "empirical",
    "period": "seasonal",
    "quantile": "quartile"
   },
   "start_time": "2022-03-14T04:07:39.437462",
   "version": "2.3.3"
  }
 },
 "nbformat": 4,
 "nbformat_minor": 5
}
