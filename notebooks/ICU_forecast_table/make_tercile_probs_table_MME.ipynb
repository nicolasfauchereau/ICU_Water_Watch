{
 "cells": [
  {
   "cell_type": "code",
   "execution_count": 1,
   "id": "f162ca26-63de-4ea5-818b-468256ed4802",
   "metadata": {
    "execution": {
     "iopub.execute_input": "2021-11-25T01:22:31.945308Z",
     "iopub.status.busy": "2021-11-25T01:22:31.944854Z",
     "iopub.status.idle": "2021-11-25T01:22:31.952597Z",
     "shell.execute_reply": "2021-11-25T01:22:31.952904Z"
    },
    "papermill": {
     "duration": 0.055653,
     "end_time": "2021-11-25T01:22:31.953088",
     "exception": false,
     "start_time": "2021-11-25T01:22:31.897435",
     "status": "completed"
    },
    "tags": []
   },
   "outputs": [],
   "source": [
    "%load_ext autoreload\n",
    "%autoreload 2"
   ]
  },
  {
   "cell_type": "code",
   "execution_count": 2,
   "id": "2457a8d1-c5e2-4c09-8481-1af78586a13a",
   "metadata": {
    "execution": {
     "iopub.execute_input": "2021-11-25T01:22:31.986367Z",
     "iopub.status.busy": "2021-11-25T01:22:31.985983Z",
     "iopub.status.idle": "2021-11-25T01:22:33.289086Z",
     "shell.execute_reply": "2021-11-25T01:22:33.289386Z"
    },
    "papermill": {
     "duration": 1.321411,
     "end_time": "2021-11-25T01:22:33.289516",
     "exception": false,
     "start_time": "2021-11-25T01:22:31.968105",
     "status": "completed"
    },
    "tags": []
   },
   "outputs": [],
   "source": [
    "%matplotlib inline\n",
    "\n",
    "### os\n",
    "import os\n",
    "import sys\n",
    "\n",
    "### datetimes\n",
    "from datetime import datetime, timedelta\n",
    "from dateutil.relativedelta import relativedelta\n",
    "\n",
    "### scipy\n",
    "import numpy as np\n",
    "import pandas as pd\n",
    "import xarray as xr\n",
    "import geopandas as gpd\n",
    "import cartopy.crs as ccrs\n",
    "import dask\n",
    "from dask.diagnostics import ProgressBar\n",
    "from tqdm import tqdm\n",
    "\n",
    "### plotting\n",
    "from matplotlib import pyplot as plt\n",
    "import matplotlib\n",
    "import seaborn as sns"
   ]
  },
  {
   "cell_type": "code",
   "execution_count": 3,
   "id": "ae98ee2c-8856-42ce-aa47-a705646b69ac",
   "metadata": {
    "execution": {
     "iopub.execute_input": "2021-11-25T01:22:33.323502Z",
     "iopub.status.busy": "2021-11-25T01:22:33.323139Z",
     "iopub.status.idle": "2021-11-25T01:22:33.336364Z",
     "shell.execute_reply": "2021-11-25T01:22:33.335995Z"
    },
    "papermill": {
     "duration": 0.030391,
     "end_time": "2021-11-25T01:22:33.336466",
     "exception": false,
     "start_time": "2021-11-25T01:22:33.306075",
     "status": "completed"
    },
    "tags": []
   },
   "outputs": [],
   "source": [
    "import pathlib\n",
    "\n",
    "HOME = pathlib.Path.home()\n",
    "CWD = pathlib.Path.cwd()"
   ]
  },
  {
   "cell_type": "markdown",
   "id": "95eeda04-89dc-4c56-8c7e-a4a1a4c98afd",
   "metadata": {
    "papermill": {
     "duration": 0.015434,
     "end_time": "2021-11-25T01:22:33.366657",
     "exception": false,
     "start_time": "2021-11-25T01:22:33.351223",
     "status": "completed"
    },
    "tags": []
   },
   "source": [
    "### import local functions for the processing of the C3S forecasts "
   ]
  },
  {
   "cell_type": "code",
   "execution_count": 4,
   "id": "c2a5d205-3915-4223-8743-8a45691e87cd",
   "metadata": {
    "execution": {
     "iopub.execute_input": "2021-11-25T01:22:33.397226Z",
     "iopub.status.busy": "2021-11-25T01:22:33.396886Z",
     "iopub.status.idle": "2021-11-25T01:22:33.410678Z",
     "shell.execute_reply": "2021-11-25T01:22:33.410369Z"
    },
    "papermill": {
     "duration": 0.03061,
     "end_time": "2021-11-25T01:22:33.410782",
     "exception": false,
     "start_time": "2021-11-25T01:22:33.380172",
     "status": "completed"
    },
    "tags": []
   },
   "outputs": [],
   "source": [
    "sys.path.append('../..')"
   ]
  },
  {
   "cell_type": "code",
   "execution_count": 5,
   "id": "071f28e3-0a25-440f-bf31-5d3a93872549",
   "metadata": {
    "execution": {
     "iopub.execute_input": "2021-11-25T01:22:33.443456Z",
     "iopub.status.busy": "2021-11-25T01:22:33.443113Z",
     "iopub.status.idle": "2021-11-25T01:22:33.492900Z",
     "shell.execute_reply": "2021-11-25T01:22:33.492538Z"
    },
    "papermill": {
     "duration": 0.066851,
     "end_time": "2021-11-25T01:22:33.493002",
     "exception": false,
     "start_time": "2021-11-25T01:22:33.426151",
     "status": "completed"
    },
    "tags": []
   },
   "outputs": [],
   "source": [
    "from ICU_Water_Watch import C3S, domains, geo, utils"
   ]
  },
  {
   "cell_type": "markdown",
   "id": "5359e596-f950-4f24-93d8-07aba85cb624",
   "metadata": {
    "papermill": {
     "duration": 0.014148,
     "end_time": "2021-11-25T01:22:33.521666",
     "exception": false,
     "start_time": "2021-11-25T01:22:33.507518",
     "status": "completed"
    },
    "tags": []
   },
   "source": [
    "### parameters for papermill"
   ]
  },
  {
   "cell_type": "code",
   "execution_count": 6,
   "id": "2bdc7fea",
   "metadata": {
    "execution": {
     "iopub.execute_input": "2021-11-25T01:22:33.554964Z",
     "iopub.status.busy": "2021-11-25T01:22:33.554618Z",
     "iopub.status.idle": "2021-11-25T01:22:33.567590Z",
     "shell.execute_reply": "2021-11-25T01:22:33.568034Z"
    },
    "papermill": {
     "duration": 0.031047,
     "end_time": "2021-11-25T01:22:33.568164",
     "exception": false,
     "start_time": "2021-11-25T01:22:33.537117",
     "status": "completed"
    },
    "tags": [
     "injected-parameters"
    ]
   },
   "outputs": [],
   "source": [
    "# Parameters\n",
    "country = \"Marshall Islands\"\n",
    "admin = \"Northern Marshall Islands\"\n",
    "lag = 0\n",
    "quantiles = \"tercile\"\n"
   ]
  },
  {
   "cell_type": "markdown",
   "id": "bc532441-024f-4399-be44-7052aecb9eff",
   "metadata": {
    "papermill": {
     "duration": 0.015634,
     "end_time": "2021-11-25T01:22:33.597054",
     "exception": false,
     "start_time": "2021-11-25T01:22:33.581420",
     "status": "completed"
    },
    "tags": []
   },
   "source": [
    "### list of GCMs "
   ]
  },
  {
   "cell_type": "code",
   "execution_count": 7,
   "id": "b515acb2-21b8-4121-9b5c-69aec88b5c43",
   "metadata": {
    "execution": {
     "iopub.execute_input": "2021-11-25T01:22:33.627434Z",
     "iopub.status.busy": "2021-11-25T01:22:33.627103Z",
     "iopub.status.idle": "2021-11-25T01:22:33.640410Z",
     "shell.execute_reply": "2021-11-25T01:22:33.640066Z"
    },
    "papermill": {
     "duration": 0.030302,
     "end_time": "2021-11-25T01:22:33.640512",
     "exception": false,
     "start_time": "2021-11-25T01:22:33.610210",
     "status": "completed"
    },
    "tags": []
   },
   "outputs": [],
   "source": [
    "list_GCMs = ['ECMWF','UKMO','METEO_FRANCE','CMCC','DWD', 'NCEP', 'JMA', 'ECCC_CanCM4i', 'ECCC_GEMO_NEMO']"
   ]
  },
  {
   "cell_type": "markdown",
   "id": "7a8086fe-c08e-454d-accd-74f4728cf3a7",
   "metadata": {
    "papermill": {
     "duration": 0.013827,
     "end_time": "2021-11-25T01:22:33.669603",
     "exception": false,
     "start_time": "2021-11-25T01:22:33.655776",
     "status": "completed"
    },
    "tags": []
   },
   "source": [
    "### get today's date "
   ]
  },
  {
   "cell_type": "code",
   "execution_count": 8,
   "id": "e5ec7336-79f8-4c90-8122-bdcc8b9f96a9",
   "metadata": {
    "execution": {
     "iopub.execute_input": "2021-11-25T01:22:33.699446Z",
     "iopub.status.busy": "2021-11-25T01:22:33.699079Z",
     "iopub.status.idle": "2021-11-25T01:22:33.711810Z",
     "shell.execute_reply": "2021-11-25T01:22:33.711491Z"
    },
    "papermill": {
     "duration": 0.028085,
     "end_time": "2021-11-25T01:22:33.711912",
     "exception": false,
     "start_time": "2021-11-25T01:22:33.683827",
     "status": "completed"
    },
    "tags": []
   },
   "outputs": [],
   "source": [
    "date = datetime.utcnow()"
   ]
  },
  {
   "cell_type": "markdown",
   "id": "17db6b1e-83d3-4d4e-af59-6cf2b8e3459c",
   "metadata": {
    "papermill": {
     "duration": 0.039878,
     "end_time": "2021-11-25T01:22:33.773370",
     "exception": false,
     "start_time": "2021-11-25T01:22:33.733492",
     "status": "completed"
    },
    "tags": []
   },
   "source": [
    "### apply lag "
   ]
  },
  {
   "cell_type": "code",
   "execution_count": 9,
   "id": "8b9831e7-8594-4f71-a05b-a814f693e7c9",
   "metadata": {
    "execution": {
     "iopub.execute_input": "2021-11-25T01:22:33.810619Z",
     "iopub.status.busy": "2021-11-25T01:22:33.810098Z",
     "iopub.status.idle": "2021-11-25T01:22:33.823555Z",
     "shell.execute_reply": "2021-11-25T01:22:33.823898Z"
    },
    "papermill": {
     "duration": 0.032082,
     "end_time": "2021-11-25T01:22:33.824021",
     "exception": false,
     "start_time": "2021-11-25T01:22:33.791939",
     "status": "completed"
    },
    "tags": []
   },
   "outputs": [],
   "source": [
    "date = date - relativedelta(months=lag)"
   ]
  },
  {
   "cell_type": "code",
   "execution_count": 10,
   "id": "ca58dd81-0ac9-43a7-9607-f82d93eb90a6",
   "metadata": {
    "execution": {
     "iopub.execute_input": "2021-11-25T01:22:33.853716Z",
     "iopub.status.busy": "2021-11-25T01:22:33.853200Z",
     "iopub.status.idle": "2021-11-25T01:22:33.866701Z",
     "shell.execute_reply": "2021-11-25T01:22:33.866276Z"
    },
    "papermill": {
     "duration": 0.029629,
     "end_time": "2021-11-25T01:22:33.866808",
     "exception": false,
     "start_time": "2021-11-25T01:22:33.837179",
     "status": "completed"
    },
    "tags": []
   },
   "outputs": [
    {
     "name": "stdout",
     "output_type": "stream",
     "text": [
      "will process forecasts issued in November 2021\n"
     ]
    }
   ],
   "source": [
    "print(f\"will process forecasts issued in {date:%B %Y}\")"
   ]
  },
  {
   "cell_type": "code",
   "execution_count": 11,
   "id": "da3aa843-37e5-41e4-8fc9-53e5e1789027",
   "metadata": {
    "execution": {
     "iopub.execute_input": "2021-11-25T01:22:33.896352Z",
     "iopub.status.busy": "2021-11-25T01:22:33.896007Z",
     "iopub.status.idle": "2021-11-25T01:22:33.908940Z",
     "shell.execute_reply": "2021-11-25T01:22:33.908551Z"
    },
    "papermill": {
     "duration": 0.028805,
     "end_time": "2021-11-25T01:22:33.909049",
     "exception": false,
     "start_time": "2021-11-25T01:22:33.880244",
     "status": "completed"
    },
    "tags": []
   },
   "outputs": [],
   "source": [
    "year = date.year "
   ]
  },
  {
   "cell_type": "code",
   "execution_count": 12,
   "id": "b26da204-3403-47c0-a933-a5e5294ce4c4",
   "metadata": {
    "execution": {
     "iopub.execute_input": "2021-11-25T01:22:33.939926Z",
     "iopub.status.busy": "2021-11-25T01:22:33.939580Z",
     "iopub.status.idle": "2021-11-25T01:22:33.954885Z",
     "shell.execute_reply": "2021-11-25T01:22:33.954546Z"
    },
    "papermill": {
     "duration": 0.031516,
     "end_time": "2021-11-25T01:22:33.954983",
     "exception": false,
     "start_time": "2021-11-25T01:22:33.923467",
     "status": "completed"
    },
    "tags": []
   },
   "outputs": [
    {
     "data": {
      "text/plain": [
       "2021"
      ]
     },
     "execution_count": 12,
     "metadata": {},
     "output_type": "execute_result"
    }
   ],
   "source": [
    "year "
   ]
  },
  {
   "cell_type": "code",
   "execution_count": 13,
   "id": "2db25dd4-43d9-41d7-a89c-45183f037344",
   "metadata": {
    "execution": {
     "iopub.execute_input": "2021-11-25T01:22:33.985506Z",
     "iopub.status.busy": "2021-11-25T01:22:33.985167Z",
     "iopub.status.idle": "2021-11-25T01:22:33.997288Z",
     "shell.execute_reply": "2021-11-25T01:22:33.997546Z"
    },
    "papermill": {
     "duration": 0.028238,
     "end_time": "2021-11-25T01:22:33.997672",
     "exception": false,
     "start_time": "2021-11-25T01:22:33.969434",
     "status": "completed"
    },
    "tags": []
   },
   "outputs": [],
   "source": [
    "month = date.month "
   ]
  },
  {
   "cell_type": "code",
   "execution_count": 14,
   "id": "3aa0edc5-0b46-4c60-bec6-33827dd7cf0a",
   "metadata": {
    "execution": {
     "iopub.execute_input": "2021-11-25T01:22:34.027609Z",
     "iopub.status.busy": "2021-11-25T01:22:34.027282Z",
     "iopub.status.idle": "2021-11-25T01:22:34.040425Z",
     "shell.execute_reply": "2021-11-25T01:22:34.040137Z"
    },
    "papermill": {
     "duration": 0.028996,
     "end_time": "2021-11-25T01:22:34.040523",
     "exception": false,
     "start_time": "2021-11-25T01:22:34.011527",
     "status": "completed"
    },
    "tags": []
   },
   "outputs": [
    {
     "data": {
      "text/plain": [
       "11"
      ]
     },
     "execution_count": 14,
     "metadata": {},
     "output_type": "execute_result"
    }
   ],
   "source": [
    "month"
   ]
  },
  {
   "cell_type": "markdown",
   "id": "8e01191b-d310-43f9-90f1-7362f828d437",
   "metadata": {
    "papermill": {
     "duration": 0.014533,
     "end_time": "2021-11-25T01:22:34.070110",
     "exception": false,
     "start_time": "2021-11-25T01:22:34.055577",
     "status": "completed"
    },
    "tags": []
   },
   "source": [
    "### list files for the individual GCMs"
   ]
  },
  {
   "cell_type": "code",
   "execution_count": 15,
   "id": "b3b6555a-63a6-4bd0-8642-13f6af071fae",
   "metadata": {
    "execution": {
     "iopub.execute_input": "2021-11-25T01:22:34.100897Z",
     "iopub.status.busy": "2021-11-25T01:22:34.100548Z",
     "iopub.status.idle": "2021-11-25T01:22:34.112644Z",
     "shell.execute_reply": "2021-11-25T01:22:34.112911Z"
    },
    "papermill": {
     "duration": 0.028456,
     "end_time": "2021-11-25T01:22:34.113075",
     "exception": false,
     "start_time": "2021-11-25T01:22:34.084619",
     "status": "completed"
    },
    "tags": []
   },
   "outputs": [],
   "source": [
    "opath = CWD.parents[1].joinpath(\"outputs/C3S\")"
   ]
  },
  {
   "cell_type": "code",
   "execution_count": 16,
   "id": "8749291e-f5af-449b-943a-113c7bb48b35",
   "metadata": {
    "execution": {
     "iopub.execute_input": "2021-11-25T01:22:34.143397Z",
     "iopub.status.busy": "2021-11-25T01:22:34.143066Z",
     "iopub.status.idle": "2021-11-25T01:22:34.155967Z",
     "shell.execute_reply": "2021-11-25T01:22:34.155633Z"
    },
    "papermill": {
     "duration": 0.029024,
     "end_time": "2021-11-25T01:22:34.156066",
     "exception": false,
     "start_time": "2021-11-25T01:22:34.127042",
     "status": "completed"
    },
    "tags": []
   },
   "outputs": [],
   "source": [
    "opath = opath.joinpath(f'admin/{quantiles}')"
   ]
  },
  {
   "cell_type": "code",
   "execution_count": 17,
   "id": "5f1728b1-05bc-4e7c-b0e9-96d578d94606",
   "metadata": {
    "execution": {
     "iopub.execute_input": "2021-11-25T01:22:34.187736Z",
     "iopub.status.busy": "2021-11-25T01:22:34.187402Z",
     "iopub.status.idle": "2021-11-25T01:22:34.201835Z",
     "shell.execute_reply": "2021-11-25T01:22:34.202102Z"
    },
    "papermill": {
     "duration": 0.031561,
     "end_time": "2021-11-25T01:22:34.202227",
     "exception": false,
     "start_time": "2021-11-25T01:22:34.170666",
     "status": "completed"
    },
    "tags": []
   },
   "outputs": [],
   "source": [
    "lfiles = list(opath.glob(f\"{quantiles}_probs_forecasts_from_{year}_{str(month).zfill(2)}_{utils.sanitize_name(country)}_{utils.sanitize_name(admin)}_*.csv\"))"
   ]
  },
  {
   "cell_type": "code",
   "execution_count": 18,
   "id": "4067f54b-19dd-467e-b442-4029ce50efd9",
   "metadata": {
    "execution": {
     "iopub.execute_input": "2021-11-25T01:22:34.232691Z",
     "iopub.status.busy": "2021-11-25T01:22:34.232294Z",
     "iopub.status.idle": "2021-11-25T01:22:34.244949Z",
     "shell.execute_reply": "2021-11-25T01:22:34.245201Z"
    },
    "papermill": {
     "duration": 0.029106,
     "end_time": "2021-11-25T01:22:34.245320",
     "exception": false,
     "start_time": "2021-11-25T01:22:34.216214",
     "status": "completed"
    },
    "tags": []
   },
   "outputs": [
    {
     "data": {
      "text/plain": [
       "9"
      ]
     },
     "execution_count": 18,
     "metadata": {},
     "output_type": "execute_result"
    }
   ],
   "source": [
    "len(lfiles)"
   ]
  },
  {
   "cell_type": "code",
   "execution_count": 19,
   "id": "5f9d264d-facc-4e3c-9224-6939aa6b9672",
   "metadata": {
    "execution": {
     "iopub.execute_input": "2021-11-25T01:22:34.275986Z",
     "iopub.status.busy": "2021-11-25T01:22:34.275630Z",
     "iopub.status.idle": "2021-11-25T01:22:34.314902Z",
     "shell.execute_reply": "2021-11-25T01:22:34.315179Z"
    },
    "papermill": {
     "duration": 0.056052,
     "end_time": "2021-11-25T01:22:34.315308",
     "exception": false,
     "start_time": "2021-11-25T01:22:34.259256",
     "status": "completed"
    },
    "tags": []
   },
   "outputs": [],
   "source": [
    "df_all = []\n",
    "for fname in lfiles: \n",
    "    df = pd.read_csv(fname, header=[0,1], index_col=[0,1,2,3])\n",
    "    df_all.append(df)"
   ]
  },
  {
   "cell_type": "code",
   "execution_count": 20,
   "id": "a72eff0c-ef4f-463c-b0ef-a692d5139649",
   "metadata": {
    "execution": {
     "iopub.execute_input": "2021-11-25T01:22:34.347948Z",
     "iopub.status.busy": "2021-11-25T01:22:34.347529Z",
     "iopub.status.idle": "2021-11-25T01:22:34.365058Z",
     "shell.execute_reply": "2021-11-25T01:22:34.365478Z"
    },
    "papermill": {
     "duration": 0.035638,
     "end_time": "2021-11-25T01:22:34.365626",
     "exception": false,
     "start_time": "2021-11-25T01:22:34.329988",
     "status": "completed"
    },
    "tags": []
   },
   "outputs": [],
   "source": [
    "df = pd.concat(df_all, axis=0)"
   ]
  },
  {
   "cell_type": "code",
   "execution_count": 21,
   "id": "023b3d44-a268-486d-ba97-5b57bd191740",
   "metadata": {
    "execution": {
     "iopub.execute_input": "2021-11-25T01:22:34.396420Z",
     "iopub.status.busy": "2021-11-25T01:22:34.395904Z",
     "iopub.status.idle": "2021-11-25T01:22:34.409215Z",
     "shell.execute_reply": "2021-11-25T01:22:34.409506Z"
    },
    "papermill": {
     "duration": 0.030005,
     "end_time": "2021-11-25T01:22:34.409628",
     "exception": false,
     "start_time": "2021-11-25T01:22:34.379623",
     "status": "completed"
    },
    "tags": []
   },
   "outputs": [],
   "source": [
    "# step = 3\n",
    "# df = df.xs(str(step), axis=1, level=0)"
   ]
  },
  {
   "cell_type": "code",
   "execution_count": 22,
   "id": "d3498363-210c-4e61-8f63-dde16c7b20c4",
   "metadata": {
    "execution": {
     "iopub.execute_input": "2021-11-25T01:22:34.440226Z",
     "iopub.status.busy": "2021-11-25T01:22:34.439711Z",
     "iopub.status.idle": "2021-11-25T01:22:34.463277Z",
     "shell.execute_reply": "2021-11-25T01:22:34.463530Z"
    },
    "papermill": {
     "duration": 0.040013,
     "end_time": "2021-11-25T01:22:34.463648",
     "exception": false,
     "start_time": "2021-11-25T01:22:34.423635",
     "status": "completed"
    },
    "tags": []
   },
   "outputs": [
    {
     "data": {
      "text/html": [
       "<div>\n",
       "<style scoped>\n",
       "    .dataframe tbody tr th:only-of-type {\n",
       "        vertical-align: middle;\n",
       "    }\n",
       "\n",
       "    .dataframe tbody tr th {\n",
       "        vertical-align: top;\n",
       "    }\n",
       "\n",
       "    .dataframe thead tr th {\n",
       "        text-align: left;\n",
       "    }\n",
       "</style>\n",
       "<table border=\"1\" class=\"dataframe\">\n",
       "  <thead>\n",
       "    <tr>\n",
       "      <th></th>\n",
       "      <th></th>\n",
       "      <th></th>\n",
       "      <th></th>\n",
       "      <th colspan=\"3\" halign=\"left\">3</th>\n",
       "      <th colspan=\"3\" halign=\"left\">4</th>\n",
       "      <th colspan=\"3\" halign=\"left\">5</th>\n",
       "    </tr>\n",
       "    <tr>\n",
       "      <th></th>\n",
       "      <th></th>\n",
       "      <th></th>\n",
       "      <th>tercile</th>\n",
       "      <th>1</th>\n",
       "      <th>2</th>\n",
       "      <th>3</th>\n",
       "      <th>1</th>\n",
       "      <th>2</th>\n",
       "      <th>3</th>\n",
       "      <th>1</th>\n",
       "      <th>2</th>\n",
       "      <th>3</th>\n",
       "    </tr>\n",
       "  </thead>\n",
       "  <tbody>\n",
       "    <tr>\n",
       "      <th rowspan=\"9\" valign=\"top\">2021-11-01</th>\n",
       "      <th rowspan=\"9\" valign=\"top\">Marshall Islands</th>\n",
       "      <th rowspan=\"9\" valign=\"top\">Northern Marshall Islands</th>\n",
       "      <th>CMCC</th>\n",
       "      <td>38.000000</td>\n",
       "      <td>38.000000</td>\n",
       "      <td>24.000000</td>\n",
       "      <td>42.000000</td>\n",
       "      <td>22.000000</td>\n",
       "      <td>36.000000</td>\n",
       "      <td>34.000000</td>\n",
       "      <td>30.000000</td>\n",
       "      <td>36.000000</td>\n",
       "    </tr>\n",
       "    <tr>\n",
       "      <th>NCEP</th>\n",
       "      <td>56.451613</td>\n",
       "      <td>32.258065</td>\n",
       "      <td>11.290323</td>\n",
       "      <td>25.000000</td>\n",
       "      <td>25.000000</td>\n",
       "      <td>50.000000</td>\n",
       "      <td>1.612903</td>\n",
       "      <td>26.612903</td>\n",
       "      <td>71.774194</td>\n",
       "    </tr>\n",
       "    <tr>\n",
       "      <th>ECCC_GEM_NEMO</th>\n",
       "      <td>0.000000</td>\n",
       "      <td>0.000000</td>\n",
       "      <td>100.000000</td>\n",
       "      <td>0.000000</td>\n",
       "      <td>0.000000</td>\n",
       "      <td>100.000000</td>\n",
       "      <td>0.000000</td>\n",
       "      <td>0.000000</td>\n",
       "      <td>100.000000</td>\n",
       "    </tr>\n",
       "    <tr>\n",
       "      <th>ECMWF</th>\n",
       "      <td>35.294118</td>\n",
       "      <td>29.411765</td>\n",
       "      <td>35.294118</td>\n",
       "      <td>19.607843</td>\n",
       "      <td>17.647059</td>\n",
       "      <td>62.745098</td>\n",
       "      <td>7.843137</td>\n",
       "      <td>23.529412</td>\n",
       "      <td>68.627451</td>\n",
       "    </tr>\n",
       "    <tr>\n",
       "      <th>ECCC_CanCM4i</th>\n",
       "      <td>20.000000</td>\n",
       "      <td>10.000000</td>\n",
       "      <td>70.000000</td>\n",
       "      <td>0.000000</td>\n",
       "      <td>10.000000</td>\n",
       "      <td>90.000000</td>\n",
       "      <td>10.000000</td>\n",
       "      <td>10.000000</td>\n",
       "      <td>80.000000</td>\n",
       "    </tr>\n",
       "    <tr>\n",
       "      <th>DWD</th>\n",
       "      <td>26.000000</td>\n",
       "      <td>44.000000</td>\n",
       "      <td>30.000000</td>\n",
       "      <td>12.000000</td>\n",
       "      <td>34.000000</td>\n",
       "      <td>54.000000</td>\n",
       "      <td>10.000000</td>\n",
       "      <td>22.000000</td>\n",
       "      <td>68.000000</td>\n",
       "    </tr>\n",
       "    <tr>\n",
       "      <th>UKMO</th>\n",
       "      <td>16.129032</td>\n",
       "      <td>53.225806</td>\n",
       "      <td>30.645161</td>\n",
       "      <td>11.290323</td>\n",
       "      <td>38.709677</td>\n",
       "      <td>50.000000</td>\n",
       "      <td>19.354839</td>\n",
       "      <td>48.387097</td>\n",
       "      <td>32.258065</td>\n",
       "    </tr>\n",
       "    <tr>\n",
       "      <th>JMA</th>\n",
       "      <td>20.512821</td>\n",
       "      <td>50.000000</td>\n",
       "      <td>29.487179</td>\n",
       "      <td>11.538462</td>\n",
       "      <td>41.025641</td>\n",
       "      <td>47.435897</td>\n",
       "      <td>8.974359</td>\n",
       "      <td>23.076923</td>\n",
       "      <td>67.948718</td>\n",
       "    </tr>\n",
       "    <tr>\n",
       "      <th>METEO_FRANCE</th>\n",
       "      <td>11.764706</td>\n",
       "      <td>29.411765</td>\n",
       "      <td>58.823529</td>\n",
       "      <td>11.764706</td>\n",
       "      <td>27.450980</td>\n",
       "      <td>60.784314</td>\n",
       "      <td>5.882353</td>\n",
       "      <td>23.529412</td>\n",
       "      <td>70.588235</td>\n",
       "    </tr>\n",
       "  </tbody>\n",
       "</table>\n",
       "</div>"
      ],
      "text/plain": [
       "                                                                             3  \\\n",
       "tercile                                                                      1   \n",
       "2021-11-01 Marshall Islands Northern Marshall Islands CMCC           38.000000   \n",
       "                                                      NCEP           56.451613   \n",
       "                                                      ECCC_GEM_NEMO   0.000000   \n",
       "                                                      ECMWF          35.294118   \n",
       "                                                      ECCC_CanCM4i   20.000000   \n",
       "                                                      DWD            26.000000   \n",
       "                                                      UKMO           16.129032   \n",
       "                                                      JMA            20.512821   \n",
       "                                                      METEO_FRANCE   11.764706   \n",
       "\n",
       "                                                                                \\\n",
       "tercile                                                                      2   \n",
       "2021-11-01 Marshall Islands Northern Marshall Islands CMCC           38.000000   \n",
       "                                                      NCEP           32.258065   \n",
       "                                                      ECCC_GEM_NEMO   0.000000   \n",
       "                                                      ECMWF          29.411765   \n",
       "                                                      ECCC_CanCM4i   10.000000   \n",
       "                                                      DWD            44.000000   \n",
       "                                                      UKMO           53.225806   \n",
       "                                                      JMA            50.000000   \n",
       "                                                      METEO_FRANCE   29.411765   \n",
       "\n",
       "                                                                                 \\\n",
       "tercile                                                                       3   \n",
       "2021-11-01 Marshall Islands Northern Marshall Islands CMCC            24.000000   \n",
       "                                                      NCEP            11.290323   \n",
       "                                                      ECCC_GEM_NEMO  100.000000   \n",
       "                                                      ECMWF           35.294118   \n",
       "                                                      ECCC_CanCM4i    70.000000   \n",
       "                                                      DWD             30.000000   \n",
       "                                                      UKMO            30.645161   \n",
       "                                                      JMA             29.487179   \n",
       "                                                      METEO_FRANCE    58.823529   \n",
       "\n",
       "                                                                             4  \\\n",
       "tercile                                                                      1   \n",
       "2021-11-01 Marshall Islands Northern Marshall Islands CMCC           42.000000   \n",
       "                                                      NCEP           25.000000   \n",
       "                                                      ECCC_GEM_NEMO   0.000000   \n",
       "                                                      ECMWF          19.607843   \n",
       "                                                      ECCC_CanCM4i    0.000000   \n",
       "                                                      DWD            12.000000   \n",
       "                                                      UKMO           11.290323   \n",
       "                                                      JMA            11.538462   \n",
       "                                                      METEO_FRANCE   11.764706   \n",
       "\n",
       "                                                                                \\\n",
       "tercile                                                                      2   \n",
       "2021-11-01 Marshall Islands Northern Marshall Islands CMCC           22.000000   \n",
       "                                                      NCEP           25.000000   \n",
       "                                                      ECCC_GEM_NEMO   0.000000   \n",
       "                                                      ECMWF          17.647059   \n",
       "                                                      ECCC_CanCM4i   10.000000   \n",
       "                                                      DWD            34.000000   \n",
       "                                                      UKMO           38.709677   \n",
       "                                                      JMA            41.025641   \n",
       "                                                      METEO_FRANCE   27.450980   \n",
       "\n",
       "                                                                                 \\\n",
       "tercile                                                                       3   \n",
       "2021-11-01 Marshall Islands Northern Marshall Islands CMCC            36.000000   \n",
       "                                                      NCEP            50.000000   \n",
       "                                                      ECCC_GEM_NEMO  100.000000   \n",
       "                                                      ECMWF           62.745098   \n",
       "                                                      ECCC_CanCM4i    90.000000   \n",
       "                                                      DWD             54.000000   \n",
       "                                                      UKMO            50.000000   \n",
       "                                                      JMA             47.435897   \n",
       "                                                      METEO_FRANCE    60.784314   \n",
       "\n",
       "                                                                             5  \\\n",
       "tercile                                                                      1   \n",
       "2021-11-01 Marshall Islands Northern Marshall Islands CMCC           34.000000   \n",
       "                                                      NCEP            1.612903   \n",
       "                                                      ECCC_GEM_NEMO   0.000000   \n",
       "                                                      ECMWF           7.843137   \n",
       "                                                      ECCC_CanCM4i   10.000000   \n",
       "                                                      DWD            10.000000   \n",
       "                                                      UKMO           19.354839   \n",
       "                                                      JMA             8.974359   \n",
       "                                                      METEO_FRANCE    5.882353   \n",
       "\n",
       "                                                                                \\\n",
       "tercile                                                                      2   \n",
       "2021-11-01 Marshall Islands Northern Marshall Islands CMCC           30.000000   \n",
       "                                                      NCEP           26.612903   \n",
       "                                                      ECCC_GEM_NEMO   0.000000   \n",
       "                                                      ECMWF          23.529412   \n",
       "                                                      ECCC_CanCM4i   10.000000   \n",
       "                                                      DWD            22.000000   \n",
       "                                                      UKMO           48.387097   \n",
       "                                                      JMA            23.076923   \n",
       "                                                      METEO_FRANCE   23.529412   \n",
       "\n",
       "                                                                                 \n",
       "tercile                                                                       3  \n",
       "2021-11-01 Marshall Islands Northern Marshall Islands CMCC            36.000000  \n",
       "                                                      NCEP            71.774194  \n",
       "                                                      ECCC_GEM_NEMO  100.000000  \n",
       "                                                      ECMWF           68.627451  \n",
       "                                                      ECCC_CanCM4i    80.000000  \n",
       "                                                      DWD             68.000000  \n",
       "                                                      UKMO            32.258065  \n",
       "                                                      JMA             67.948718  \n",
       "                                                      METEO_FRANCE    70.588235  "
      ]
     },
     "execution_count": 22,
     "metadata": {},
     "output_type": "execute_result"
    }
   ],
   "source": [
    "df"
   ]
  },
  {
   "cell_type": "code",
   "execution_count": 23,
   "id": "349b030a-7b2a-4db3-b0b9-1d47b6480833",
   "metadata": {
    "execution": {
     "iopub.execute_input": "2021-11-25T01:22:34.497482Z",
     "iopub.status.busy": "2021-11-25T01:22:34.497022Z",
     "iopub.status.idle": "2021-11-25T01:22:34.516561Z",
     "shell.execute_reply": "2021-11-25T01:22:34.516216Z"
    },
    "papermill": {
     "duration": 0.037211,
     "end_time": "2021-11-25T01:22:34.516666",
     "exception": false,
     "start_time": "2021-11-25T01:22:34.479455",
     "status": "completed"
    },
    "tags": []
   },
   "outputs": [
    {
     "data": {
      "text/plain": [
       "('2021-11-01', 'Marshall Islands', 'Northern Marshall Islands', 'CMCC')"
      ]
     },
     "execution_count": 23,
     "metadata": {},
     "output_type": "execute_result"
    }
   ],
   "source": [
    "df.index[0]"
   ]
  },
  {
   "cell_type": "code",
   "execution_count": 24,
   "id": "9bb0bd45-5531-4603-af2e-373a5c78a322",
   "metadata": {
    "execution": {
     "iopub.execute_input": "2021-11-25T01:22:34.549081Z",
     "iopub.status.busy": "2021-11-25T01:22:34.548662Z",
     "iopub.status.idle": "2021-11-25T01:22:34.562267Z",
     "shell.execute_reply": "2021-11-25T01:22:34.561924Z"
    },
    "papermill": {
     "duration": 0.030837,
     "end_time": "2021-11-25T01:22:34.562362",
     "exception": false,
     "start_time": "2021-11-25T01:22:34.531525",
     "status": "completed"
    },
    "tags": []
   },
   "outputs": [
    {
     "data": {
      "text/plain": [
       "('2021-11-01', 'Marshall Islands', 'Northern Marshall Islands', 'MME')"
      ]
     },
     "execution_count": 24,
     "metadata": {},
     "output_type": "execute_result"
    }
   ],
   "source": [
    "tuple(list(df.index[-1][:-1]) + ['MME'])"
   ]
  },
  {
   "cell_type": "code",
   "execution_count": 25,
   "id": "6e106b59-5ab5-4757-b60a-7e6b3ca7fbd7",
   "metadata": {
    "execution": {
     "iopub.execute_input": "2021-11-25T01:22:34.594155Z",
     "iopub.status.busy": "2021-11-25T01:22:34.593813Z",
     "iopub.status.idle": "2021-11-25T01:22:34.609697Z",
     "shell.execute_reply": "2021-11-25T01:22:34.609319Z"
    },
    "papermill": {
     "duration": 0.032861,
     "end_time": "2021-11-25T01:22:34.609800",
     "exception": false,
     "start_time": "2021-11-25T01:22:34.576939",
     "status": "completed"
    },
    "tags": []
   },
   "outputs": [],
   "source": [
    "df.loc[tuple(list(df.index[-1][:-1]) + ['MME']),:] = df.mean(0)"
   ]
  },
  {
   "cell_type": "code",
   "execution_count": 26,
   "id": "cc01ab14-62a1-4f3b-8e59-1c800c7c13d0",
   "metadata": {
    "execution": {
     "iopub.execute_input": "2021-11-25T01:22:34.642761Z",
     "iopub.status.busy": "2021-11-25T01:22:34.642428Z",
     "iopub.status.idle": "2021-11-25T01:22:34.664426Z",
     "shell.execute_reply": "2021-11-25T01:22:34.664066Z"
    },
    "papermill": {
     "duration": 0.039,
     "end_time": "2021-11-25T01:22:34.664525",
     "exception": false,
     "start_time": "2021-11-25T01:22:34.625525",
     "status": "completed"
    },
    "tags": []
   },
   "outputs": [
    {
     "data": {
      "text/html": [
       "<div>\n",
       "<style scoped>\n",
       "    .dataframe tbody tr th:only-of-type {\n",
       "        vertical-align: middle;\n",
       "    }\n",
       "\n",
       "    .dataframe tbody tr th {\n",
       "        vertical-align: top;\n",
       "    }\n",
       "\n",
       "    .dataframe thead tr th {\n",
       "        text-align: left;\n",
       "    }\n",
       "</style>\n",
       "<table border=\"1\" class=\"dataframe\">\n",
       "  <thead>\n",
       "    <tr>\n",
       "      <th></th>\n",
       "      <th></th>\n",
       "      <th></th>\n",
       "      <th></th>\n",
       "      <th colspan=\"3\" halign=\"left\">3</th>\n",
       "      <th colspan=\"3\" halign=\"left\">4</th>\n",
       "      <th colspan=\"3\" halign=\"left\">5</th>\n",
       "    </tr>\n",
       "    <tr>\n",
       "      <th></th>\n",
       "      <th></th>\n",
       "      <th></th>\n",
       "      <th>tercile</th>\n",
       "      <th>1</th>\n",
       "      <th>2</th>\n",
       "      <th>3</th>\n",
       "      <th>1</th>\n",
       "      <th>2</th>\n",
       "      <th>3</th>\n",
       "      <th>1</th>\n",
       "      <th>2</th>\n",
       "      <th>3</th>\n",
       "    </tr>\n",
       "  </thead>\n",
       "  <tbody>\n",
       "    <tr>\n",
       "      <th rowspan=\"10\" valign=\"top\">2021-11-01</th>\n",
       "      <th rowspan=\"10\" valign=\"top\">Marshall Islands</th>\n",
       "      <th rowspan=\"10\" valign=\"top\">Northern Marshall Islands</th>\n",
       "      <th>CMCC</th>\n",
       "      <td>38.000000</td>\n",
       "      <td>38.000000</td>\n",
       "      <td>24.000000</td>\n",
       "      <td>42.000000</td>\n",
       "      <td>22.000000</td>\n",
       "      <td>36.000000</td>\n",
       "      <td>34.000000</td>\n",
       "      <td>30.000000</td>\n",
       "      <td>36.000000</td>\n",
       "    </tr>\n",
       "    <tr>\n",
       "      <th>NCEP</th>\n",
       "      <td>56.451613</td>\n",
       "      <td>32.258065</td>\n",
       "      <td>11.290323</td>\n",
       "      <td>25.000000</td>\n",
       "      <td>25.000000</td>\n",
       "      <td>50.000000</td>\n",
       "      <td>1.612903</td>\n",
       "      <td>26.612903</td>\n",
       "      <td>71.774194</td>\n",
       "    </tr>\n",
       "    <tr>\n",
       "      <th>ECCC_GEM_NEMO</th>\n",
       "      <td>0.000000</td>\n",
       "      <td>0.000000</td>\n",
       "      <td>100.000000</td>\n",
       "      <td>0.000000</td>\n",
       "      <td>0.000000</td>\n",
       "      <td>100.000000</td>\n",
       "      <td>0.000000</td>\n",
       "      <td>0.000000</td>\n",
       "      <td>100.000000</td>\n",
       "    </tr>\n",
       "    <tr>\n",
       "      <th>ECMWF</th>\n",
       "      <td>35.294118</td>\n",
       "      <td>29.411765</td>\n",
       "      <td>35.294118</td>\n",
       "      <td>19.607843</td>\n",
       "      <td>17.647059</td>\n",
       "      <td>62.745098</td>\n",
       "      <td>7.843137</td>\n",
       "      <td>23.529412</td>\n",
       "      <td>68.627451</td>\n",
       "    </tr>\n",
       "    <tr>\n",
       "      <th>ECCC_CanCM4i</th>\n",
       "      <td>20.000000</td>\n",
       "      <td>10.000000</td>\n",
       "      <td>70.000000</td>\n",
       "      <td>0.000000</td>\n",
       "      <td>10.000000</td>\n",
       "      <td>90.000000</td>\n",
       "      <td>10.000000</td>\n",
       "      <td>10.000000</td>\n",
       "      <td>80.000000</td>\n",
       "    </tr>\n",
       "    <tr>\n",
       "      <th>DWD</th>\n",
       "      <td>26.000000</td>\n",
       "      <td>44.000000</td>\n",
       "      <td>30.000000</td>\n",
       "      <td>12.000000</td>\n",
       "      <td>34.000000</td>\n",
       "      <td>54.000000</td>\n",
       "      <td>10.000000</td>\n",
       "      <td>22.000000</td>\n",
       "      <td>68.000000</td>\n",
       "    </tr>\n",
       "    <tr>\n",
       "      <th>UKMO</th>\n",
       "      <td>16.129032</td>\n",
       "      <td>53.225806</td>\n",
       "      <td>30.645161</td>\n",
       "      <td>11.290323</td>\n",
       "      <td>38.709677</td>\n",
       "      <td>50.000000</td>\n",
       "      <td>19.354839</td>\n",
       "      <td>48.387097</td>\n",
       "      <td>32.258065</td>\n",
       "    </tr>\n",
       "    <tr>\n",
       "      <th>JMA</th>\n",
       "      <td>20.512821</td>\n",
       "      <td>50.000000</td>\n",
       "      <td>29.487179</td>\n",
       "      <td>11.538462</td>\n",
       "      <td>41.025641</td>\n",
       "      <td>47.435897</td>\n",
       "      <td>8.974359</td>\n",
       "      <td>23.076923</td>\n",
       "      <td>67.948718</td>\n",
       "    </tr>\n",
       "    <tr>\n",
       "      <th>METEO_FRANCE</th>\n",
       "      <td>11.764706</td>\n",
       "      <td>29.411765</td>\n",
       "      <td>58.823529</td>\n",
       "      <td>11.764706</td>\n",
       "      <td>27.450980</td>\n",
       "      <td>60.784314</td>\n",
       "      <td>5.882353</td>\n",
       "      <td>23.529412</td>\n",
       "      <td>70.588235</td>\n",
       "    </tr>\n",
       "    <tr>\n",
       "      <th>MME</th>\n",
       "      <td>24.905810</td>\n",
       "      <td>31.811933</td>\n",
       "      <td>43.282257</td>\n",
       "      <td>14.800148</td>\n",
       "      <td>23.981484</td>\n",
       "      <td>61.218368</td>\n",
       "      <td>10.851955</td>\n",
       "      <td>23.015083</td>\n",
       "      <td>66.132962</td>\n",
       "    </tr>\n",
       "  </tbody>\n",
       "</table>\n",
       "</div>"
      ],
      "text/plain": [
       "                                                                             3  \\\n",
       "tercile                                                                      1   \n",
       "2021-11-01 Marshall Islands Northern Marshall Islands CMCC           38.000000   \n",
       "                                                      NCEP           56.451613   \n",
       "                                                      ECCC_GEM_NEMO   0.000000   \n",
       "                                                      ECMWF          35.294118   \n",
       "                                                      ECCC_CanCM4i   20.000000   \n",
       "                                                      DWD            26.000000   \n",
       "                                                      UKMO           16.129032   \n",
       "                                                      JMA            20.512821   \n",
       "                                                      METEO_FRANCE   11.764706   \n",
       "                                                      MME            24.905810   \n",
       "\n",
       "                                                                                \\\n",
       "tercile                                                                      2   \n",
       "2021-11-01 Marshall Islands Northern Marshall Islands CMCC           38.000000   \n",
       "                                                      NCEP           32.258065   \n",
       "                                                      ECCC_GEM_NEMO   0.000000   \n",
       "                                                      ECMWF          29.411765   \n",
       "                                                      ECCC_CanCM4i   10.000000   \n",
       "                                                      DWD            44.000000   \n",
       "                                                      UKMO           53.225806   \n",
       "                                                      JMA            50.000000   \n",
       "                                                      METEO_FRANCE   29.411765   \n",
       "                                                      MME            31.811933   \n",
       "\n",
       "                                                                                 \\\n",
       "tercile                                                                       3   \n",
       "2021-11-01 Marshall Islands Northern Marshall Islands CMCC            24.000000   \n",
       "                                                      NCEP            11.290323   \n",
       "                                                      ECCC_GEM_NEMO  100.000000   \n",
       "                                                      ECMWF           35.294118   \n",
       "                                                      ECCC_CanCM4i    70.000000   \n",
       "                                                      DWD             30.000000   \n",
       "                                                      UKMO            30.645161   \n",
       "                                                      JMA             29.487179   \n",
       "                                                      METEO_FRANCE    58.823529   \n",
       "                                                      MME             43.282257   \n",
       "\n",
       "                                                                             4  \\\n",
       "tercile                                                                      1   \n",
       "2021-11-01 Marshall Islands Northern Marshall Islands CMCC           42.000000   \n",
       "                                                      NCEP           25.000000   \n",
       "                                                      ECCC_GEM_NEMO   0.000000   \n",
       "                                                      ECMWF          19.607843   \n",
       "                                                      ECCC_CanCM4i    0.000000   \n",
       "                                                      DWD            12.000000   \n",
       "                                                      UKMO           11.290323   \n",
       "                                                      JMA            11.538462   \n",
       "                                                      METEO_FRANCE   11.764706   \n",
       "                                                      MME            14.800148   \n",
       "\n",
       "                                                                                \\\n",
       "tercile                                                                      2   \n",
       "2021-11-01 Marshall Islands Northern Marshall Islands CMCC           22.000000   \n",
       "                                                      NCEP           25.000000   \n",
       "                                                      ECCC_GEM_NEMO   0.000000   \n",
       "                                                      ECMWF          17.647059   \n",
       "                                                      ECCC_CanCM4i   10.000000   \n",
       "                                                      DWD            34.000000   \n",
       "                                                      UKMO           38.709677   \n",
       "                                                      JMA            41.025641   \n",
       "                                                      METEO_FRANCE   27.450980   \n",
       "                                                      MME            23.981484   \n",
       "\n",
       "                                                                                 \\\n",
       "tercile                                                                       3   \n",
       "2021-11-01 Marshall Islands Northern Marshall Islands CMCC            36.000000   \n",
       "                                                      NCEP            50.000000   \n",
       "                                                      ECCC_GEM_NEMO  100.000000   \n",
       "                                                      ECMWF           62.745098   \n",
       "                                                      ECCC_CanCM4i    90.000000   \n",
       "                                                      DWD             54.000000   \n",
       "                                                      UKMO            50.000000   \n",
       "                                                      JMA             47.435897   \n",
       "                                                      METEO_FRANCE    60.784314   \n",
       "                                                      MME             61.218368   \n",
       "\n",
       "                                                                             5  \\\n",
       "tercile                                                                      1   \n",
       "2021-11-01 Marshall Islands Northern Marshall Islands CMCC           34.000000   \n",
       "                                                      NCEP            1.612903   \n",
       "                                                      ECCC_GEM_NEMO   0.000000   \n",
       "                                                      ECMWF           7.843137   \n",
       "                                                      ECCC_CanCM4i   10.000000   \n",
       "                                                      DWD            10.000000   \n",
       "                                                      UKMO           19.354839   \n",
       "                                                      JMA             8.974359   \n",
       "                                                      METEO_FRANCE    5.882353   \n",
       "                                                      MME            10.851955   \n",
       "\n",
       "                                                                                \\\n",
       "tercile                                                                      2   \n",
       "2021-11-01 Marshall Islands Northern Marshall Islands CMCC           30.000000   \n",
       "                                                      NCEP           26.612903   \n",
       "                                                      ECCC_GEM_NEMO   0.000000   \n",
       "                                                      ECMWF          23.529412   \n",
       "                                                      ECCC_CanCM4i   10.000000   \n",
       "                                                      DWD            22.000000   \n",
       "                                                      UKMO           48.387097   \n",
       "                                                      JMA            23.076923   \n",
       "                                                      METEO_FRANCE   23.529412   \n",
       "                                                      MME            23.015083   \n",
       "\n",
       "                                                                                 \n",
       "tercile                                                                       3  \n",
       "2021-11-01 Marshall Islands Northern Marshall Islands CMCC            36.000000  \n",
       "                                                      NCEP            71.774194  \n",
       "                                                      ECCC_GEM_NEMO  100.000000  \n",
       "                                                      ECMWF           68.627451  \n",
       "                                                      ECCC_CanCM4i    80.000000  \n",
       "                                                      DWD             68.000000  \n",
       "                                                      UKMO            32.258065  \n",
       "                                                      JMA             67.948718  \n",
       "                                                      METEO_FRANCE    70.588235  \n",
       "                                                      MME             66.132962  "
      ]
     },
     "execution_count": 26,
     "metadata": {},
     "output_type": "execute_result"
    }
   ],
   "source": [
    "df"
   ]
  },
  {
   "cell_type": "code",
   "execution_count": 27,
   "id": "1a8774ce-1b1c-497d-af73-1b0c7868af3e",
   "metadata": {
    "execution": {
     "iopub.execute_input": "2021-11-25T01:22:34.697410Z",
     "iopub.status.busy": "2021-11-25T01:22:34.697077Z",
     "iopub.status.idle": "2021-11-25T01:22:34.717440Z",
     "shell.execute_reply": "2021-11-25T01:22:34.717724Z"
    },
    "papermill": {
     "duration": 0.038294,
     "end_time": "2021-11-25T01:22:34.717846",
     "exception": false,
     "start_time": "2021-11-25T01:22:34.679552",
     "status": "completed"
    },
    "tags": []
   },
   "outputs": [],
   "source": [
    "df_rounded = []\n",
    "for step in df.columns.get_level_values(0).unique(): \n",
    "    df_step = df.xs(step, axis=1, level=0)\n",
    "    df_step = df_step.T.apply(utils.round_to_100_percent, **{'digit_after_decimal':0}).T.astype(int)\n",
    "    df_step.columns = pd.MultiIndex.from_product([[step], df_step.columns])\n",
    "    df_rounded.append(df_step)"
   ]
  },
  {
   "cell_type": "code",
   "execution_count": 28,
   "id": "7dd1cfa5-41a8-4789-b9dd-41a6e2b9110e",
   "metadata": {
    "execution": {
     "iopub.execute_input": "2021-11-25T01:22:34.750546Z",
     "iopub.status.busy": "2021-11-25T01:22:34.750182Z",
     "iopub.status.idle": "2021-11-25T01:22:34.763842Z",
     "shell.execute_reply": "2021-11-25T01:22:34.764119Z"
    },
    "papermill": {
     "duration": 0.031396,
     "end_time": "2021-11-25T01:22:34.764246",
     "exception": false,
     "start_time": "2021-11-25T01:22:34.732850",
     "status": "completed"
    },
    "tags": []
   },
   "outputs": [],
   "source": [
    "df_rounded = pd.concat(df_rounded, axis=1)"
   ]
  },
  {
   "cell_type": "code",
   "execution_count": 29,
   "id": "8586398e-61e8-4f20-a8c5-9f8b665cca28",
   "metadata": {
    "execution": {
     "iopub.execute_input": "2021-11-25T01:22:34.799281Z",
     "iopub.status.busy": "2021-11-25T01:22:34.798858Z",
     "iopub.status.idle": "2021-11-25T01:22:34.812690Z",
     "shell.execute_reply": "2021-11-25T01:22:34.812346Z"
    },
    "papermill": {
     "duration": 0.032507,
     "end_time": "2021-11-25T01:22:34.812788",
     "exception": false,
     "start_time": "2021-11-25T01:22:34.780281",
     "status": "completed"
    },
    "tags": []
   },
   "outputs": [
    {
     "data": {
      "text/plain": [
       "PosixPath('/home/nicolasf/operational/ICU/development/hotspots/code/ICU_Water_Watch/outputs/C3S/admin/tercile')"
      ]
     },
     "execution_count": 29,
     "metadata": {},
     "output_type": "execute_result"
    }
   ],
   "source": [
    "opath"
   ]
  },
  {
   "cell_type": "code",
   "execution_count": 30,
   "id": "14a4ca60-b354-4dfc-8b40-f0847e5e9bfa",
   "metadata": {
    "execution": {
     "iopub.execute_input": "2021-11-25T01:22:34.846582Z",
     "iopub.status.busy": "2021-11-25T01:22:34.846221Z",
     "iopub.status.idle": "2021-11-25T01:22:34.861077Z",
     "shell.execute_reply": "2021-11-25T01:22:34.860708Z"
    },
    "papermill": {
     "duration": 0.032536,
     "end_time": "2021-11-25T01:22:34.861197",
     "exception": false,
     "start_time": "2021-11-25T01:22:34.828661",
     "status": "completed"
    },
    "tags": []
   },
   "outputs": [],
   "source": [
    "df_rounded.to_csv(opath.joinpath(f\"MME/{quantiles}_probs_forecasts_from_{year}_{str(month).zfill(2)}_{utils.sanitize_name(country)}_{utils.sanitize_name(admin)}_MME.csv\"))"
   ]
  },
  {
   "cell_type": "code",
   "execution_count": 31,
   "id": "4ceb0bb9-94f1-42ed-b65b-388e495fdeef",
   "metadata": {
    "execution": {
     "iopub.execute_input": "2021-11-25T01:22:34.894496Z",
     "iopub.status.busy": "2021-11-25T01:22:34.894159Z",
     "iopub.status.idle": "2021-11-25T01:22:34.913883Z",
     "shell.execute_reply": "2021-11-25T01:22:34.913587Z"
    },
    "papermill": {
     "duration": 0.037245,
     "end_time": "2021-11-25T01:22:34.913979",
     "exception": false,
     "start_time": "2021-11-25T01:22:34.876734",
     "status": "completed"
    },
    "tags": []
   },
   "outputs": [
    {
     "data": {
      "text/html": [
       "<div>\n",
       "<style scoped>\n",
       "    .dataframe tbody tr th:only-of-type {\n",
       "        vertical-align: middle;\n",
       "    }\n",
       "\n",
       "    .dataframe tbody tr th {\n",
       "        vertical-align: top;\n",
       "    }\n",
       "\n",
       "    .dataframe thead tr th {\n",
       "        text-align: left;\n",
       "    }\n",
       "</style>\n",
       "<table border=\"1\" class=\"dataframe\">\n",
       "  <thead>\n",
       "    <tr>\n",
       "      <th></th>\n",
       "      <th></th>\n",
       "      <th></th>\n",
       "      <th></th>\n",
       "      <th colspan=\"3\" halign=\"left\">3</th>\n",
       "      <th colspan=\"3\" halign=\"left\">4</th>\n",
       "      <th colspan=\"3\" halign=\"left\">5</th>\n",
       "    </tr>\n",
       "    <tr>\n",
       "      <th></th>\n",
       "      <th></th>\n",
       "      <th></th>\n",
       "      <th>tercile</th>\n",
       "      <th>1</th>\n",
       "      <th>2</th>\n",
       "      <th>3</th>\n",
       "      <th>1</th>\n",
       "      <th>2</th>\n",
       "      <th>3</th>\n",
       "      <th>1</th>\n",
       "      <th>2</th>\n",
       "      <th>3</th>\n",
       "    </tr>\n",
       "  </thead>\n",
       "  <tbody>\n",
       "    <tr>\n",
       "      <th rowspan=\"10\" valign=\"top\">2021-11-01</th>\n",
       "      <th rowspan=\"10\" valign=\"top\">Marshall Islands</th>\n",
       "      <th rowspan=\"10\" valign=\"top\">Northern Marshall Islands</th>\n",
       "      <th>CMCC</th>\n",
       "      <td>38</td>\n",
       "      <td>38</td>\n",
       "      <td>24</td>\n",
       "      <td>42</td>\n",
       "      <td>22</td>\n",
       "      <td>36</td>\n",
       "      <td>34</td>\n",
       "      <td>30</td>\n",
       "      <td>36</td>\n",
       "    </tr>\n",
       "    <tr>\n",
       "      <th>NCEP</th>\n",
       "      <td>57</td>\n",
       "      <td>32</td>\n",
       "      <td>11</td>\n",
       "      <td>25</td>\n",
       "      <td>25</td>\n",
       "      <td>50</td>\n",
       "      <td>2</td>\n",
       "      <td>26</td>\n",
       "      <td>72</td>\n",
       "    </tr>\n",
       "    <tr>\n",
       "      <th>ECCC_GEM_NEMO</th>\n",
       "      <td>0</td>\n",
       "      <td>0</td>\n",
       "      <td>100</td>\n",
       "      <td>0</td>\n",
       "      <td>0</td>\n",
       "      <td>100</td>\n",
       "      <td>0</td>\n",
       "      <td>0</td>\n",
       "      <td>100</td>\n",
       "    </tr>\n",
       "    <tr>\n",
       "      <th>ECMWF</th>\n",
       "      <td>35</td>\n",
       "      <td>30</td>\n",
       "      <td>35</td>\n",
       "      <td>19</td>\n",
       "      <td>18</td>\n",
       "      <td>63</td>\n",
       "      <td>8</td>\n",
       "      <td>23</td>\n",
       "      <td>69</td>\n",
       "    </tr>\n",
       "    <tr>\n",
       "      <th>ECCC_CanCM4i</th>\n",
       "      <td>20</td>\n",
       "      <td>10</td>\n",
       "      <td>70</td>\n",
       "      <td>0</td>\n",
       "      <td>10</td>\n",
       "      <td>90</td>\n",
       "      <td>10</td>\n",
       "      <td>10</td>\n",
       "      <td>80</td>\n",
       "    </tr>\n",
       "    <tr>\n",
       "      <th>DWD</th>\n",
       "      <td>26</td>\n",
       "      <td>44</td>\n",
       "      <td>30</td>\n",
       "      <td>12</td>\n",
       "      <td>34</td>\n",
       "      <td>54</td>\n",
       "      <td>10</td>\n",
       "      <td>22</td>\n",
       "      <td>68</td>\n",
       "    </tr>\n",
       "    <tr>\n",
       "      <th>UKMO</th>\n",
       "      <td>16</td>\n",
       "      <td>53</td>\n",
       "      <td>31</td>\n",
       "      <td>11</td>\n",
       "      <td>39</td>\n",
       "      <td>50</td>\n",
       "      <td>19</td>\n",
       "      <td>49</td>\n",
       "      <td>32</td>\n",
       "    </tr>\n",
       "    <tr>\n",
       "      <th>JMA</th>\n",
       "      <td>21</td>\n",
       "      <td>50</td>\n",
       "      <td>29</td>\n",
       "      <td>12</td>\n",
       "      <td>41</td>\n",
       "      <td>47</td>\n",
       "      <td>9</td>\n",
       "      <td>23</td>\n",
       "      <td>68</td>\n",
       "    </tr>\n",
       "    <tr>\n",
       "      <th>METEO_FRANCE</th>\n",
       "      <td>12</td>\n",
       "      <td>29</td>\n",
       "      <td>59</td>\n",
       "      <td>12</td>\n",
       "      <td>27</td>\n",
       "      <td>61</td>\n",
       "      <td>6</td>\n",
       "      <td>23</td>\n",
       "      <td>71</td>\n",
       "    </tr>\n",
       "    <tr>\n",
       "      <th>MME</th>\n",
       "      <td>25</td>\n",
       "      <td>32</td>\n",
       "      <td>43</td>\n",
       "      <td>15</td>\n",
       "      <td>24</td>\n",
       "      <td>61</td>\n",
       "      <td>11</td>\n",
       "      <td>23</td>\n",
       "      <td>66</td>\n",
       "    </tr>\n",
       "  </tbody>\n",
       "</table>\n",
       "</div>"
      ],
      "text/plain": [
       "                                                                      3      \\\n",
       "tercile                                                               1   2   \n",
       "2021-11-01 Marshall Islands Northern Marshall Islands CMCC           38  38   \n",
       "                                                      NCEP           57  32   \n",
       "                                                      ECCC_GEM_NEMO   0   0   \n",
       "                                                      ECMWF          35  30   \n",
       "                                                      ECCC_CanCM4i   20  10   \n",
       "                                                      DWD            26  44   \n",
       "                                                      UKMO           16  53   \n",
       "                                                      JMA            21  50   \n",
       "                                                      METEO_FRANCE   12  29   \n",
       "                                                      MME            25  32   \n",
       "\n",
       "                                                                           4  \\\n",
       "tercile                                                                3   1   \n",
       "2021-11-01 Marshall Islands Northern Marshall Islands CMCC            24  42   \n",
       "                                                      NCEP            11  25   \n",
       "                                                      ECCC_GEM_NEMO  100   0   \n",
       "                                                      ECMWF           35  19   \n",
       "                                                      ECCC_CanCM4i    70   0   \n",
       "                                                      DWD             30  12   \n",
       "                                                      UKMO            31  11   \n",
       "                                                      JMA             29  12   \n",
       "                                                      METEO_FRANCE    59  12   \n",
       "                                                      MME             43  15   \n",
       "\n",
       "                                                                              \\\n",
       "tercile                                                               2    3   \n",
       "2021-11-01 Marshall Islands Northern Marshall Islands CMCC           22   36   \n",
       "                                                      NCEP           25   50   \n",
       "                                                      ECCC_GEM_NEMO   0  100   \n",
       "                                                      ECMWF          18   63   \n",
       "                                                      ECCC_CanCM4i   10   90   \n",
       "                                                      DWD            34   54   \n",
       "                                                      UKMO           39   50   \n",
       "                                                      JMA            41   47   \n",
       "                                                      METEO_FRANCE   27   61   \n",
       "                                                      MME            24   61   \n",
       "\n",
       "                                                                      5      \\\n",
       "tercile                                                               1   2   \n",
       "2021-11-01 Marshall Islands Northern Marshall Islands CMCC           34  30   \n",
       "                                                      NCEP            2  26   \n",
       "                                                      ECCC_GEM_NEMO   0   0   \n",
       "                                                      ECMWF           8  23   \n",
       "                                                      ECCC_CanCM4i   10  10   \n",
       "                                                      DWD            10  22   \n",
       "                                                      UKMO           19  49   \n",
       "                                                      JMA             9  23   \n",
       "                                                      METEO_FRANCE    6  23   \n",
       "                                                      MME            11  23   \n",
       "\n",
       "                                                                          \n",
       "tercile                                                                3  \n",
       "2021-11-01 Marshall Islands Northern Marshall Islands CMCC            36  \n",
       "                                                      NCEP            72  \n",
       "                                                      ECCC_GEM_NEMO  100  \n",
       "                                                      ECMWF           69  \n",
       "                                                      ECCC_CanCM4i    80  \n",
       "                                                      DWD             68  \n",
       "                                                      UKMO            32  \n",
       "                                                      JMA             68  \n",
       "                                                      METEO_FRANCE    71  \n",
       "                                                      MME             66  "
      ]
     },
     "execution_count": 31,
     "metadata": {},
     "output_type": "execute_result"
    }
   ],
   "source": [
    "df_rounded"
   ]
  },
  {
   "cell_type": "code",
   "execution_count": null,
   "id": "cc329b0b-4ed0-43a7-90cf-1bfdeb337e60",
   "metadata": {
    "papermill": {
     "duration": 0.016327,
     "end_time": "2021-11-25T01:22:34.946981",
     "exception": false,
     "start_time": "2021-11-25T01:22:34.930654",
     "status": "completed"
    },
    "tags": []
   },
   "outputs": [],
   "source": []
  }
 ],
 "metadata": {
  "kernelspec": {
   "display_name": "Python 3",
   "language": "python",
   "name": "python3"
  },
  "language_info": {
   "codemirror_mode": {
    "name": "ipython",
    "version": 3
   },
   "file_extension": ".py",
   "mimetype": "text/x-python",
   "name": "python",
   "nbconvert_exporter": "python",
   "pygments_lexer": "ipython3",
   "version": "3.8.10"
  },
  "papermill": {
   "default_parameters": {},
   "duration": 5.045901,
   "end_time": "2021-11-25T01:22:36.193254",
   "environment_variables": {},
   "exception": null,
   "input_path": "/home/nicolasf/operational/ICU/development/hotspots/code/ICU_Water_Watch/notebooks/ICU_forecast_table/make_tercile_probs_table_MME.ipynb",
   "output_path": "/home/nicolasf/operational/ICU/development/hotspots/code/ICU_Water_Watch/notebooks/ICU_forecast_table/make_tercile_probs_table_MME.ipynb",
   "parameters": {
    "admin": "Northern Marshall Islands",
    "country": "Marshall Islands",
    "lag": 0,
    "quantiles": "tercile"
   },
   "start_time": "2021-11-25T01:22:31.147353",
   "version": "2.3.3"
  }
 },
 "nbformat": 4,
 "nbformat_minor": 5
}