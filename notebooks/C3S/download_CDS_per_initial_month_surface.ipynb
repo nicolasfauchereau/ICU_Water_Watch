{
 "cells": [
  {
   "cell_type": "code",
   "execution_count": 1,
   "id": "e9653104-bb26-4cc3-907d-4352d782f3fe",
   "metadata": {
    "execution": {
     "iopub.execute_input": "2021-07-22T21:27:56.307018Z",
     "iopub.status.busy": "2021-07-22T21:27:56.306604Z",
     "iopub.status.idle": "2021-07-22T21:27:56.423106Z",
     "shell.execute_reply": "2021-07-22T21:27:56.424508Z"
    },
    "papermill": {
     "duration": 0.144084,
     "end_time": "2021-07-22T21:27:56.425256",
     "exception": false,
     "start_time": "2021-07-22T21:27:56.281172",
     "status": "completed"
    },
    "tags": []
   },
   "outputs": [
    {
     "name": "stdout",
     "output_type": "stream",
     "text": [
      "/home/nicolasf/operational/ICU/development/hotspots/code/ICU_Water_Watch/notebooks/C3S\n"
     ]
    }
   ],
   "source": [
    "!pwd"
   ]
  },
  {
   "cell_type": "markdown",
   "id": "9ba4aa87-d44b-4d28-94e4-e559c2c02eab",
   "metadata": {
    "papermill": {
     "duration": 0.013601,
     "end_time": "2021-07-22T21:27:56.473227",
     "exception": false,
     "start_time": "2021-07-22T21:27:56.459626",
     "status": "completed"
    },
    "tags": []
   },
   "source": [
    "### download hindcast from the CDS, initial download is one file per initial month (for all hindcast years)"
   ]
  },
  {
   "cell_type": "code",
   "execution_count": 1,
   "id": "762cbc8d-4fe6-4d30-9bb6-dca947f35b20",
   "metadata": {
    "papermill": {
     "duration": 1.586223,
     "end_time": "2021-07-22T21:27:58.069098",
     "exception": false,
     "start_time": "2021-07-22T21:27:56.482875",
     "status": "completed"
    },
    "tags": []
   },
   "outputs": [],
   "source": [
    "%matplotlib inline\n",
    "\n",
    "### os\n",
    "import os\n",
    "import sys\n",
    "\n",
    "### config \n",
    "import yaml\n",
    "\n",
    "### datetimes\n",
    "from datetime import datetime, timedelta\n",
    "from dateutil import relativedelta\n",
    "\n",
    "### scipy\n",
    "import numpy as np\n",
    "import pandas as pd\n",
    "import xarray as xr\n",
    "import geopandas as gpd\n",
    "import cartopy.crs as ccrs\n",
    "import dask\n",
    "from dask.diagnostics import ProgressBar\n",
    "from tqdm import tqdm\n",
    "\n",
    "### plotting\n",
    "from matplotlib import pyplot as plt\n",
    "import matplotlib\n",
    "import seaborn as sns\n"
   ]
  },
  {
   "cell_type": "code",
   "execution_count": 3,
   "id": "cd825e9d-82ae-4a54-b260-372d319b9937",
   "metadata": {
    "execution": {
     "iopub.execute_input": "2021-07-22T21:27:58.089530Z",
     "iopub.status.busy": "2021-07-22T21:27:58.089204Z",
     "iopub.status.idle": "2021-07-22T21:27:58.122515Z",
     "shell.execute_reply": "2021-07-22T21:27:58.122146Z"
    },
    "papermill": {
     "duration": 0.044089,
     "end_time": "2021-07-22T21:27:58.122597",
     "exception": false,
     "start_time": "2021-07-22T21:27:58.078508",
     "status": "completed"
    },
    "tags": []
   },
   "outputs": [],
   "source": [
    "import cdsapi"
   ]
  },
  {
   "cell_type": "code",
   "execution_count": 4,
   "id": "10d14f59-b80b-4a5f-aed9-572d74a9904d",
   "metadata": {
    "execution": {
     "iopub.execute_input": "2021-07-22T21:27:58.142343Z",
     "iopub.status.busy": "2021-07-22T21:27:58.141997Z",
     "iopub.status.idle": "2021-07-22T21:27:58.143833Z",
     "shell.execute_reply": "2021-07-22T21:27:58.143535Z"
    },
    "papermill": {
     "duration": 0.012982,
     "end_time": "2021-07-22T21:27:58.143913",
     "exception": false,
     "start_time": "2021-07-22T21:27:58.130931",
     "status": "completed"
    },
    "tags": []
   },
   "outputs": [],
   "source": [
    "import pathlib\n",
    "\n",
    "HOME = pathlib.Path.home()\n",
    "CWD = pathlib.Path.cwd()"
   ]
  },
  {
   "cell_type": "code",
   "execution_count": null,
   "id": "09711f0f-9830-4211-a242-d9aba2e05337",
   "metadata": {},
   "outputs": [],
   "source": []
  },
  {
   "cell_type": "code",
   "execution_count": null,
   "id": "28a833a3-6049-48b6-b47c-9a723fddc58f",
   "metadata": {},
   "outputs": [],
   "source": []
  },
  {
   "cell_type": "code",
   "execution_count": null,
   "id": "d05e7007-094c-4ea3-98fa-a138ae50ea3f",
   "metadata": {},
   "outputs": [],
   "source": []
  },
  {
   "cell_type": "markdown",
   "id": "e426661e-b85d-4372-bee1-efc4d3b5b07b",
   "metadata": {
    "papermill": {
     "duration": 0.00902,
     "end_time": "2021-07-22T21:27:58.183323",
     "exception": false,
     "start_time": "2021-07-22T21:27:58.174303",
     "status": "completed"
    },
    "tags": []
   },
   "source": [
    "### PAPERMILL PARAMETERS BELOW "
   ]
  },
  {
   "cell_type": "code",
   "execution_count": 6,
   "id": "de0a687a-0096-4c9e-b571-957bb326bd95",
   "metadata": {
    "execution": {
     "iopub.execute_input": "2021-07-22T21:27:58.202824Z",
     "iopub.status.busy": "2021-07-22T21:27:58.202488Z",
     "iopub.status.idle": "2021-07-22T21:27:58.204254Z",
     "shell.execute_reply": "2021-07-22T21:27:58.203939Z"
    },
    "papermill": {
     "duration": 0.012728,
     "end_time": "2021-07-22T21:27:58.204325",
     "exception": false,
     "start_time": "2021-07-22T21:27:58.191597",
     "status": "completed"
    },
    "tags": [
     "parameters"
    ]
   },
   "outputs": [],
   "source": [
    "month = 7\n",
    "GCM = 'ECCC'"
   ]
  },
  {
   "cell_type": "code",
   "execution_count": 7,
   "id": "1cf89236",
   "metadata": {
    "execution": {
     "iopub.execute_input": "2021-07-22T21:27:58.223463Z",
     "iopub.status.busy": "2021-07-22T21:27:58.223142Z",
     "iopub.status.idle": "2021-07-22T21:27:58.224936Z",
     "shell.execute_reply": "2021-07-22T21:27:58.224566Z"
    },
    "papermill": {
     "duration": 0.012439,
     "end_time": "2021-07-22T21:27:58.225010",
     "exception": false,
     "start_time": "2021-07-22T21:27:58.212571",
     "status": "completed"
    },
    "tags": [
     "injected-parameters"
    ]
   },
   "outputs": [],
   "source": [
    "# Parameters\n",
    "month = 7\n",
    "GCM = \"ECCC\""
   ]
  },
  {
   "cell_type": "code",
   "execution_count": 8,
   "id": "3a67d408-7b7e-46ec-b3e2-e79b8f4ed7bb",
   "metadata": {
    "execution": {
     "iopub.execute_input": "2021-07-22T21:27:58.243335Z",
     "iopub.status.busy": "2021-07-22T21:27:58.243007Z",
     "iopub.status.idle": "2021-07-22T21:27:58.244801Z",
     "shell.execute_reply": "2021-07-22T21:27:58.244461Z"
    },
    "papermill": {
     "duration": 0.011948,
     "end_time": "2021-07-22T21:27:58.244878",
     "exception": false,
     "start_time": "2021-07-22T21:27:58.232930",
     "status": "completed"
    },
    "tags": []
   },
   "outputs": [],
   "source": [
    "month = int(month)"
   ]
  },
  {
   "cell_type": "markdown",
   "id": "59858378-8427-496d-9fb5-c11d2d0fbcb8",
   "metadata": {
    "papermill": {
     "duration": 0.007872,
     "end_time": "2021-07-22T21:27:58.260939",
     "exception": false,
     "start_time": "2021-07-22T21:27:58.253067",
     "status": "completed"
    },
    "tags": []
   },
   "source": [
    "### This won't change, so hard coded "
   ]
  },
  {
   "cell_type": "code",
   "execution_count": 9,
   "id": "02bec48d-9ea1-4669-acd1-301ae39825c5",
   "metadata": {
    "execution": {
     "iopub.execute_input": "2021-07-22T21:27:58.279105Z",
     "iopub.status.busy": "2021-07-22T21:27:58.278783Z",
     "iopub.status.idle": "2021-07-22T21:27:58.280241Z",
     "shell.execute_reply": "2021-07-22T21:27:58.280489Z"
    },
    "papermill": {
     "duration": 0.011742,
     "end_time": "2021-07-22T21:27:58.280582",
     "exception": false,
     "start_time": "2021-07-22T21:27:58.268840",
     "status": "completed"
    },
    "tags": []
   },
   "outputs": [],
   "source": [
    "start_year = 1993 \n",
    "end_year =  2016"
   ]
  },
  {
   "cell_type": "code",
   "execution_count": 10,
   "id": "bb06f17c-675b-4741-8721-c55017807f29",
   "metadata": {
    "execution": {
     "iopub.execute_input": "2021-07-22T21:27:58.298734Z",
     "iopub.status.busy": "2021-07-22T21:27:58.298411Z",
     "iopub.status.idle": "2021-07-22T21:27:58.300106Z",
     "shell.execute_reply": "2021-07-22T21:27:58.299778Z"
    },
    "papermill": {
     "duration": 0.011622,
     "end_time": "2021-07-22T21:27:58.300178",
     "exception": false,
     "start_time": "2021-07-22T21:27:58.288556",
     "status": "completed"
    },
    "tags": []
   },
   "outputs": [],
   "source": [
    "varname = 'tprate'"
   ]
  },
  {
   "cell_type": "code",
   "execution_count": 11,
   "id": "ab4ff0b6-1d9e-4006-bee4-c2c2bdf2d3cc",
   "metadata": {
    "execution": {
     "iopub.execute_input": "2021-07-22T21:27:58.319051Z",
     "iopub.status.busy": "2021-07-22T21:27:58.318572Z",
     "iopub.status.idle": "2021-07-22T21:27:58.320328Z",
     "shell.execute_reply": "2021-07-22T21:27:58.319998Z"
    },
    "papermill": {
     "duration": 0.012001,
     "end_time": "2021-07-22T21:27:58.320406",
     "exception": false,
     "start_time": "2021-07-22T21:27:58.308405",
     "status": "completed"
    },
    "tags": []
   },
   "outputs": [],
   "source": [
    "years = list(map(str, range(start_year, end_year + 1)))"
   ]
  },
  {
   "cell_type": "code",
   "execution_count": 12,
   "id": "fbc1b878-e418-427b-85ba-8d71ab345e13",
   "metadata": {
    "execution": {
     "iopub.execute_input": "2021-07-22T21:27:58.340448Z",
     "iopub.status.busy": "2021-07-22T21:27:58.340111Z",
     "iopub.status.idle": "2021-07-22T21:27:58.342361Z",
     "shell.execute_reply": "2021-07-22T21:27:58.342031Z"
    },
    "papermill": {
     "duration": 0.014113,
     "end_time": "2021-07-22T21:27:58.342439",
     "exception": false,
     "start_time": "2021-07-22T21:27:58.328326",
     "status": "completed"
    },
    "tags": []
   },
   "outputs": [
    {
     "data": {
      "text/plain": [
       "['1993',\n",
       " '1994',\n",
       " '1995',\n",
       " '1996',\n",
       " '1997',\n",
       " '1998',\n",
       " '1999',\n",
       " '2000',\n",
       " '2001',\n",
       " '2002',\n",
       " '2003',\n",
       " '2004',\n",
       " '2005',\n",
       " '2006',\n",
       " '2007',\n",
       " '2008',\n",
       " '2009',\n",
       " '2010',\n",
       " '2011',\n",
       " '2012',\n",
       " '2013',\n",
       " '2014',\n",
       " '2015',\n",
       " '2016']"
      ]
     },
     "execution_count": 12,
     "metadata": {},
     "output_type": "execute_result"
    }
   ],
   "source": [
    "years"
   ]
  },
  {
   "cell_type": "code",
   "execution_count": 13,
   "id": "a4181565-9bf6-4f1e-83a5-3ed7be615a7f",
   "metadata": {
    "execution": {
     "iopub.execute_input": "2021-07-22T21:27:58.361076Z",
     "iopub.status.busy": "2021-07-22T21:27:58.360753Z",
     "iopub.status.idle": "2021-07-22T21:27:58.362484Z",
     "shell.execute_reply": "2021-07-22T21:27:58.362161Z"
    },
    "papermill": {
     "duration": 0.011918,
     "end_time": "2021-07-22T21:27:58.362557",
     "exception": false,
     "start_time": "2021-07-22T21:27:58.350639",
     "status": "completed"
    },
    "tags": []
   },
   "outputs": [],
   "source": [
    "systems = ['2']"
   ]
  },
  {
   "cell_type": "code",
   "execution_count": 14,
   "id": "d8f725e5-df0d-4dd6-93b5-e52237853ecf",
   "metadata": {
    "execution": {
     "iopub.execute_input": "2021-07-22T21:27:58.381083Z",
     "iopub.status.busy": "2021-07-22T21:27:58.380756Z",
     "iopub.status.idle": "2021-07-22T21:27:58.382252Z",
     "shell.execute_reply": "2021-07-22T21:27:58.382514Z"
    },
    "papermill": {
     "duration": 0.011984,
     "end_time": "2021-07-22T21:27:58.382618",
     "exception": false,
     "start_time": "2021-07-22T21:27:58.370634",
     "status": "completed"
    },
    "tags": []
   },
   "outputs": [],
   "source": [
    "steps = [2,3,4,5,6]"
   ]
  },
  {
   "cell_type": "code",
   "execution_count": 15,
   "id": "53d0efaa-6fc0-45de-8e93-173f1fa3fbb6",
   "metadata": {
    "execution": {
     "iopub.execute_input": "2021-07-22T21:27:58.401092Z",
     "iopub.status.busy": "2021-07-22T21:27:58.400749Z",
     "iopub.status.idle": "2021-07-22T21:27:58.402229Z",
     "shell.execute_reply": "2021-07-22T21:27:58.402479Z"
    },
    "papermill": {
     "duration": 0.011894,
     "end_time": "2021-07-22T21:27:58.402576",
     "exception": false,
     "start_time": "2021-07-22T21:27:58.390682",
     "status": "completed"
    },
    "tags": []
   },
   "outputs": [],
   "source": [
    "if not opath_tmp.exists(): \n",
    "    opath_tmp.mkdir(parents=True)"
   ]
  },
  {
   "cell_type": "code",
   "execution_count": 16,
   "id": "7e5a74f1-b797-42af-8be8-dc48ce87c260",
   "metadata": {
    "execution": {
     "iopub.execute_input": "2021-07-22T21:27:58.421336Z",
     "iopub.status.busy": "2021-07-22T21:27:58.420845Z",
     "iopub.status.idle": "2021-07-22T21:27:58.422577Z",
     "shell.execute_reply": "2021-07-22T21:27:58.422245Z"
    },
    "papermill": {
     "duration": 0.011851,
     "end_time": "2021-07-22T21:27:58.422654",
     "exception": false,
     "start_time": "2021-07-22T21:27:58.410803",
     "status": "completed"
    },
    "tags": []
   },
   "outputs": [],
   "source": [
    "opath = pathlib.Path(f\"/media/nicolasf/END19101/ICU/data/CDS/{GCM.upper()}/{varname.upper()}\")"
   ]
  },
  {
   "cell_type": "code",
   "execution_count": 17,
   "id": "61a4a5e6-9647-46bb-819b-ab76619d4c27",
   "metadata": {
    "execution": {
     "iopub.execute_input": "2021-07-22T21:27:58.441285Z",
     "iopub.status.busy": "2021-07-22T21:27:58.440956Z",
     "iopub.status.idle": "2021-07-22T21:27:58.465204Z",
     "shell.execute_reply": "2021-07-22T21:27:58.464855Z"
    },
    "papermill": {
     "duration": 0.034547,
     "end_time": "2021-07-22T21:27:58.465285",
     "exception": false,
     "start_time": "2021-07-22T21:27:58.430738",
     "status": "completed"
    },
    "tags": []
   },
   "outputs": [],
   "source": [
    "if not opath.exists(): \n",
    "    opath.mkdir(parents=True)"
   ]
  },
  {
   "cell_type": "code",
   "execution_count": 18,
   "id": "7b11d0bb-87d6-4bca-a8b9-78b57a88e46d",
   "metadata": {
    "execution": {
     "iopub.execute_input": "2021-07-22T21:27:58.486495Z",
     "iopub.status.busy": "2021-07-22T21:27:58.486144Z",
     "iopub.status.idle": "2021-07-23T00:40:47.908988Z",
     "shell.execute_reply": "2021-07-23T00:40:47.910191Z"
    },
    "papermill": {
     "duration": 11569.437228,
     "end_time": "2021-07-23T00:40:47.910610",
     "exception": false,
     "start_time": "2021-07-22T21:27:58.473382",
     "status": "completed"
    },
    "tags": []
   },
   "outputs": [
    {
     "name": "stderr",
     "output_type": "stream",
     "text": [
      "2021-07-23 09:27:59,911 INFO Welcome to the CDS\n",
      "2021-07-23 09:27:59,912 INFO Sending request to https://cds.climate.copernicus.eu/api/v2/resources/seasonal-monthly-single-levels\n",
      "2021-07-23 09:28:00,253 INFO Request is queued\n",
      "2021-07-23 12:34:26,496 INFO Request is completed\n",
      "2021-07-23 12:34:26,498 INFO Downloading https://download-0002.copernicus-climate.eu/cache-compute-0002/cache/data2/adaptor.mars.external-1627000408.7309875-32228-3-04cb3a81-3524-433c-b887-55a7f87f9d65.nc to /home/nicolasf/operational/ICU/development/hotspots/code/ICU_Water_Watch/notebooks/C3S/tmp/download_tprate_ECCC_07.netcdf (91.5M)\n",
      "2021-07-23 12:40:42,598 INFO Download rate 249K/s   \n"
     ]
    },
    {
     "name": "stdout",
     "output_type": "stream",
     "text": [
      "saving forecasts for tprate, from ECCC, from init time 1993-07\n",
      "saving forecasts for tprate, from ECCC, from init time 1994-07\n",
      "saving forecasts for tprate, from ECCC, from init time 1995-07\n",
      "saving forecasts for tprate, from ECCC, from init time 1996-07\n",
      "saving forecasts for tprate, from ECCC, from init time 1997-07\n",
      "saving forecasts for tprate, from ECCC, from init time 1998-07\n",
      "saving forecasts for tprate, from ECCC, from init time 1999-07\n",
      "saving forecasts for tprate, from ECCC, from init time 2000-07\n",
      "saving forecasts for tprate, from ECCC, from init time 2001-07\n",
      "saving forecasts for tprate, from ECCC, from init time 2002-07\n",
      "saving forecasts for tprate, from ECCC, from init time 2003-07\n",
      "saving forecasts for tprate, from ECCC, from init time 2004-07\n",
      "saving forecasts for tprate, from ECCC, from init time 2005-07\n",
      "saving forecasts for tprate, from ECCC, from init time 2006-07\n",
      "saving forecasts for tprate, from ECCC, from init time 2007-07\n",
      "saving forecasts for tprate, from ECCC, from init time 2008-07\n",
      "saving forecasts for tprate, from ECCC, from init time 2009-07\n",
      "saving forecasts for tprate, from ECCC, from init time 2010-07\n",
      "saving forecasts for tprate, from ECCC, from init time 2011-07\n",
      "saving forecasts for tprate, from ECCC, from init time 2012-07\n",
      "saving forecasts for tprate, from ECCC, from init time 2013-07\n",
      "saving forecasts for tprate, from ECCC, from init time 2014-07\n",
      "saving forecasts for tprate, from ECCC, from init time 2015-07\n",
      "saving forecasts for tprate, from ECCC, from init time 2016-07\n"
     ]
    }
   ],
   "source": [
    "if not opath_tmp.joinpath(f'download_{varname}_{GCM}_{month:02}.netcdf').exists(): \n",
    "    \n",
    "    c = cdsapi.Client()\n",
    "\n",
    "    c.retrieve(\n",
    "        'seasonal-monthly-single-levels',\n",
    "        {\n",
    "            'format': 'netcdf',\n",
    "            'originating_centre': GCM.lower(),\n",
    "            'system': systems[GCM],\n",
    "            'variable': 'total_precipitation',\n",
    "            'product_type': 'monthly_mean',\n",
    "            'year': years,\n",
    "            'month': f'{month:02}',\n",
    "            'leadtime_month': list(map(str, steps)),\n",
    "            'area': [\n",
    "                55, -180, -55,\n",
    "                180,\n",
    "            ],\n",
    "        },\n",
    "        str(opath_tmp.joinpath(f'download_{varname}_{GCM}_{month:02}.netcdf')))\n",
    "    \n",
    "# open, loop over months and saves \n",
    "        \n",
    "dset = xr.open_dataset(opath_tmp.joinpath(f'download_{varname}_{GCM}_{month:02}.netcdf'), engine='netcdf4')\n",
    "\n",
    "times = dset.time.to_index()\n",
    "\n",
    "dset_l = []\n",
    "\n",
    "c = 0\n",
    "\n",
    "for i, t in enumerate(times[0::len(steps)]): \n",
    "\n",
    "    sub = dset.isel(time=slice(c, c + len(steps)))\n",
    "\n",
    "    init_time = sub.time.to_index()[0] - relativedelta.relativedelta(months = steps[0] - 1)\n",
    "\n",
    "    print(f\"saving forecasts for {varname}, from {GCM}, from init time {init_time:%Y-%m}\")\n",
    "\n",
    "    c += len(steps)\n",
    "\n",
    "    sub.to_netcdf(opath.joinpath(f\"ensemble_seas_forecasts_{varname}_from_{init_time:%Y_%m}_{GCM}.netcdf\"))"
   ]
  },
  {
   "cell_type": "code",
   "execution_count": null,
   "id": "bf62a6e1-f330-4163-ab9e-08d17589a1bb",
   "metadata": {
    "papermill": {
     "duration": 0.318385,
     "end_time": "2021-07-23T00:40:48.571041",
     "exception": false,
     "start_time": "2021-07-23T00:40:48.252656",
     "status": "completed"
    },
    "tags": []
   },
   "outputs": [],
   "source": []
  }
 ],
 "metadata": {
  "kernelspec": {
   "display_name": "Python 3",
   "language": "python",
   "name": "python3"
  },
  "language_info": {
   "codemirror_mode": {
    "name": "ipython",
    "version": 3
   },
   "file_extension": ".py",
   "mimetype": "text/x-python",
   "name": "python",
   "nbconvert_exporter": "python",
   "pygments_lexer": "ipython3",
   "version": "3.8.10"
  },
  "papermill": {
   "default_parameters": {},
   "duration": 11574.687443,
   "end_time": "2021-07-23T00:40:50.151299",
   "environment_variables": {},
   "exception": null,
   "input_path": "download_CDS_per_initial_month_surface.ipynb",
   "output_path": "download_CDS_per_initial_month_surface.ipynb",
   "parameters": {
    "GCM": "ECCC",
    "month": 7
   },
   "start_time": "2021-07-22T21:27:55.463856",
   "version": "2.3.3"
  }
 },
 "nbformat": 4,
 "nbformat_minor": 5
}
