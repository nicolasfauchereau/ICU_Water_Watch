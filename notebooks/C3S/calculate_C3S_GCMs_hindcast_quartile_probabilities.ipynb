{
 "cells": [
  {
   "cell_type": "markdown",
   "id": "59b3fd23-e758-43ad-920b-a0315c90cb72",
   "metadata": {
    "papermill": {
     "duration": 0.055505,
     "end_time": "2021-11-09T20:50:04.606754",
     "exception": false,
     "start_time": "2021-11-09T20:50:04.551249",
     "status": "completed"
    },
    "tags": []
   },
   "source": [
    "### This notebook is run by: \n",
    "\n",
    "`drive_calculate_C3S_GCMs_hindcast_tercile_probabilities.ipynb`   \n",
    "\n",
    "For a given GCM, initial month, and period, it calculates the tercile climatology, saves the climatology in \n",
    "\n",
    "`/media/nicolasf/END19101/ICU/data/CDS/CLIMATOLOGY/{GCM}`\n",
    "\n",
    "then calculates the probabilities for each year (for the given initial month) and saves them in \n",
    "\n",
    "`/media/nicolasf/END19101/ICU/data/CDS/{GCM}/tercile_probs/{varname.upper()}`\n"
   ]
  },
  {
   "cell_type": "code",
   "execution_count": 1,
   "id": "39906a50-30ee-4f07-bbff-6eb4831da534",
   "metadata": {
    "papermill": {
     "duration": 0.030821,
     "end_time": "2021-11-09T20:50:04.657838",
     "exception": false,
     "start_time": "2021-11-09T20:50:04.627017",
     "status": "completed"
    },
    "tags": []
   },
   "outputs": [],
   "source": [
    "%load_ext autoreload\n",
    "%autoreload 2"
   ]
  },
  {
   "cell_type": "code",
   "execution_count": 2,
   "id": "35f76d2f-14b2-44b4-98f2-7e3edeaeecf7",
   "metadata": {
    "papermill": {
     "duration": 0.868591,
     "end_time": "2021-11-09T20:50:05.545511",
     "exception": false,
     "start_time": "2021-11-09T20:50:04.676920",
     "status": "completed"
    },
    "tags": []
   },
   "outputs": [],
   "source": [
    "### os \n",
    "import os \n",
    "import sys\n",
    "\n",
    "### datetimes \n",
    "from datetime import datetime, timedelta\n",
    "from dateutil.relativedelta import relativedelta\n",
    "from calendar import month_name\n",
    "\n",
    "### scipy \n",
    "import numpy as np \n",
    "import pandas as pd\n",
    "import xarray as xr\n",
    "\n",
    "# dask \n",
    "import dask \n",
    "from dask.diagnostics import ProgressBar"
   ]
  },
  {
   "cell_type": "code",
   "execution_count": 3,
   "id": "6267b8b0-2ea5-49da-be46-c35ae2e9e4ec",
   "metadata": {
    "papermill": {
     "duration": 0.031459,
     "end_time": "2021-11-09T20:50:05.596676",
     "exception": false,
     "start_time": "2021-11-09T20:50:05.565217",
     "status": "completed"
    },
    "tags": []
   },
   "outputs": [],
   "source": [
    "import pathlib\n",
    "HOME = pathlib.Path.home()\n",
    "CWD = pathlib.Path.cwd() "
   ]
  },
  {
   "cell_type": "markdown",
   "id": "4908616d-93e1-4e2e-a799-8a3c6c69dc6d",
   "metadata": {
    "papermill": {
     "duration": 0.019487,
     "end_time": "2021-11-09T20:50:05.635674",
     "exception": false,
     "start_time": "2021-11-09T20:50:05.616187",
     "status": "completed"
    },
    "tags": []
   },
   "source": [
    "### import local functions for the processing of the C3S forecasts "
   ]
  },
  {
   "cell_type": "code",
   "execution_count": 4,
   "id": "3face832-c495-4625-b989-f4fccd48f686",
   "metadata": {
    "papermill": {
     "duration": 0.032068,
     "end_time": "2021-11-09T20:50:05.687171",
     "exception": false,
     "start_time": "2021-11-09T20:50:05.655103",
     "status": "completed"
    },
    "tags": []
   },
   "outputs": [],
   "source": [
    "sys.path.append('../..')"
   ]
  },
  {
   "cell_type": "code",
   "execution_count": 5,
   "id": "2c91d66f-1362-4c78-9e5d-219b294ac5a9",
   "metadata": {
    "papermill": {
     "duration": 0.314988,
     "end_time": "2021-11-09T20:50:06.022353",
     "exception": false,
     "start_time": "2021-11-09T20:50:05.707365",
     "status": "completed"
    },
    "tags": []
   },
   "outputs": [],
   "source": [
    "from ICU_Water_Watch import C3S, domains"
   ]
  },
  {
   "cell_type": "code",
   "execution_count": 6,
   "id": "eca838a9-3ec1-41dc-92f9-52ca6afdb633",
   "metadata": {
    "papermill": {
     "duration": 0.033606,
     "end_time": "2021-11-09T20:50:06.075492",
     "exception": false,
     "start_time": "2021-11-09T20:50:06.041886",
     "status": "completed"
    },
    "tags": []
   },
   "outputs": [],
   "source": [
    "domain = domains.domains['C3S_download']"
   ]
  },
  {
   "cell_type": "code",
   "execution_count": 7,
   "id": "51ee2fdb-07b7-47a8-bdb0-43ac065ef557",
   "metadata": {
    "papermill": {
     "duration": 0.033956,
     "end_time": "2021-11-09T20:50:06.129174",
     "exception": false,
     "start_time": "2021-11-09T20:50:06.095218",
     "status": "completed"
    },
    "tags": []
   },
   "outputs": [
    {
     "data": {
      "text/plain": [
       "[100, 240, -50, 30]"
      ]
     },
     "execution_count": 7,
     "metadata": {},
     "output_type": "execute_result"
    }
   ],
   "source": [
    "domain"
   ]
  },
  {
   "cell_type": "markdown",
   "id": "d36c1e52-8e0e-4772-a8d2-cdeef4aab972",
   "metadata": {
    "papermill": {
     "duration": 0.018805,
     "end_time": "2021-11-09T20:50:06.167154",
     "exception": false,
     "start_time": "2021-11-09T20:50:06.148349",
     "status": "completed"
    },
    "tags": []
   },
   "source": [
    "### parameters for papermill "
   ]
  },
  {
   "cell_type": "code",
   "execution_count": 8,
   "id": "2f59f712-7648-491a-a28c-9f606490f2d2",
   "metadata": {
    "papermill": {
     "duration": 0.032394,
     "end_time": "2021-11-09T20:50:06.218155",
     "exception": false,
     "start_time": "2021-11-09T20:50:06.185761",
     "status": "completed"
    },
    "tags": [
     "parameters"
    ]
   },
   "outputs": [],
   "source": [
    "provider = 'CDS'\n",
    "varname = 'tprate'\n",
    "varname_out = 'precip'\n",
    "period = 'seasonal'\n",
    "GCM = 'ECMWF'\n",
    "month = 1\n",
    "quantile = 'quartile'"
   ]
  },
  {
   "cell_type": "markdown",
   "id": "d68ad8b9-9922-4593-9ede-01afef04713d",
   "metadata": {
    "papermill": {
     "duration": 0.0198,
     "end_time": "2021-11-09T20:50:06.311253",
     "exception": false,
     "start_time": "2021-11-09T20:50:06.291453",
     "status": "completed"
    },
    "tags": []
   },
   "source": [
    "### list of GCMs "
   ]
  },
  {
   "cell_type": "code",
   "execution_count": 9,
   "id": "af33fe2e-5f59-4764-a2db-3195d6defe34",
   "metadata": {
    "papermill": {
     "duration": 0.033161,
     "end_time": "2021-11-09T20:50:06.365203",
     "exception": false,
     "start_time": "2021-11-09T20:50:06.332042",
     "status": "completed"
    },
    "tags": []
   },
   "outputs": [],
   "source": [
    "list_GCMs = ['ECMWF','UKMO','METEO_FRANCE','CMCC','DWD', 'NCEP', 'JMA']"
   ]
  },
  {
   "cell_type": "code",
   "execution_count": 10,
   "id": "a3e90573-f4bc-48fb-ac89-ed827bf7f2d0",
   "metadata": {
    "papermill": {
     "duration": 0.032444,
     "end_time": "2021-11-09T20:50:06.417076",
     "exception": false,
     "start_time": "2021-11-09T20:50:06.384632",
     "status": "completed"
    },
    "tags": []
   },
   "outputs": [],
   "source": [
    "if GCM not in list_GCMs: \n",
    "    print(f\"{GCM} is not in {', '.join(list_GCMs)}\")"
   ]
  },
  {
   "cell_type": "markdown",
   "id": "4413f04d-c7d1-4d58-b7df-e4cc5cf32185",
   "metadata": {
    "papermill": {
     "duration": 0.019756,
     "end_time": "2021-11-09T20:50:06.457010",
     "exception": false,
     "start_time": "2021-11-09T20:50:06.437254",
     "status": "completed"
    },
    "tags": []
   },
   "source": [
    "### path to the GCMs **hindcast datasets** and **climatologies** "
   ]
  },
  {
   "cell_type": "code",
   "execution_count": 11,
   "id": "2e4526aa-da84-43fb-8de2-cb745c042725",
   "metadata": {
    "papermill": {
     "duration": 0.032593,
     "end_time": "2021-11-09T20:50:06.515972",
     "exception": false,
     "start_time": "2021-11-09T20:50:06.483379",
     "status": "completed"
    },
    "tags": []
   },
   "outputs": [],
   "source": [
    "gcm_path = pathlib.Path(f'/media/nicolasf/END19101/ICU/data/{provider}')"
   ]
  },
  {
   "cell_type": "markdown",
   "id": "739b0cb3-a9da-4d3e-923a-cdde2351619e",
   "metadata": {
    "papermill": {
     "duration": 0.019329,
     "end_time": "2021-11-09T20:50:06.555156",
     "exception": false,
     "start_time": "2021-11-09T20:50:06.535827",
     "status": "completed"
    },
    "tags": []
   },
   "source": [
    "### reads the hindcasts "
   ]
  },
  {
   "cell_type": "code",
   "execution_count": 12,
   "id": "241362e8-481b-480e-878d-cdbf4cb9cdca",
   "metadata": {
    "papermill": {
     "duration": 0.032488,
     "end_time": "2021-11-09T20:50:06.607134",
     "exception": false,
     "start_time": "2021-11-09T20:50:06.574646",
     "status": "completed"
    },
    "tags": []
   },
   "outputs": [
    {
     "data": {
      "text/plain": [
       "'ECMWF'"
      ]
     },
     "execution_count": 12,
     "metadata": {},
     "output_type": "execute_result"
    }
   ],
   "source": [
    "GCM"
   ]
  },
  {
   "cell_type": "code",
   "execution_count": 13,
   "id": "a99c0906-3900-436c-9a8f-124141dbd395",
   "metadata": {
    "papermill": {
     "duration": 0.032443,
     "end_time": "2021-11-09T20:50:06.659515",
     "exception": false,
     "start_time": "2021-11-09T20:50:06.627072",
     "status": "completed"
    },
    "tags": []
   },
   "outputs": [
    {
     "data": {
      "text/plain": [
       "PosixPath('/media/nicolasf/END19101/ICU/data/CDS/ECMWF/TPRATE')"
      ]
     },
     "execution_count": 13,
     "metadata": {},
     "output_type": "execute_result"
    }
   ],
   "source": [
    "gcm_path.joinpath(f\"{GCM}/{varname.upper()}\")"
   ]
  },
  {
   "cell_type": "code",
   "execution_count": 14,
   "id": "775cf724-3217-435d-b160-d07ba11348c2",
   "metadata": {
    "papermill": {
     "duration": 0.036191,
     "end_time": "2021-11-09T20:50:06.715252",
     "exception": false,
     "start_time": "2021-11-09T20:50:06.679061",
     "status": "completed"
    },
    "tags": []
   },
   "outputs": [],
   "source": [
    "lfiles_hindcast = list(gcm_path.joinpath(f\"{GCM}/{varname.upper()}\").glob(f\"ensemble_seas_forecasts_tprate_from_*_{month:02d}_{GCM}.netcdf\"))"
   ]
  },
  {
   "cell_type": "markdown",
   "id": "27f7a808-86a4-4e0f-a8b2-5192c0be1dc2",
   "metadata": {
    "papermill": {
     "duration": 0.01946,
     "end_time": "2021-11-09T20:50:06.768533",
     "exception": false,
     "start_time": "2021-11-09T20:50:06.749073",
     "status": "completed"
    },
    "tags": []
   },
   "source": [
    "### only keep the years 1993 to 2016"
   ]
  },
  {
   "cell_type": "code",
   "execution_count": 15,
   "id": "b1b36bb2-d242-49ca-8099-972ad0752400",
   "metadata": {
    "papermill": {
     "duration": 0.03268,
     "end_time": "2021-11-09T20:50:06.820590",
     "exception": false,
     "start_time": "2021-11-09T20:50:06.787910",
     "status": "completed"
    },
    "tags": []
   },
   "outputs": [],
   "source": [
    "lfiles_hindcast.sort()"
   ]
  },
  {
   "cell_type": "code",
   "execution_count": 16,
   "id": "609e145c-cbd7-4b8f-aef6-1e678b51a591",
   "metadata": {
    "papermill": {
     "duration": 0.031997,
     "end_time": "2021-11-09T20:50:06.872309",
     "exception": false,
     "start_time": "2021-11-09T20:50:06.840312",
     "status": "completed"
    },
    "tags": []
   },
   "outputs": [],
   "source": [
    "def get_year(fname): \n",
    "    return int(fname.name.split(\"_\")[5])"
   ]
  },
  {
   "cell_type": "code",
   "execution_count": 17,
   "id": "e8d46d8e-2285-4bb1-a2a0-ef6937837341",
   "metadata": {
    "papermill": {
     "duration": 0.035728,
     "end_time": "2021-11-09T20:50:06.927789",
     "exception": false,
     "start_time": "2021-11-09T20:50:06.892061",
     "status": "completed"
    },
    "tags": []
   },
   "outputs": [],
   "source": [
    "lfiles_hindcast = [x for x in lfiles_hindcast if get_year(x) <= 2016]"
   ]
  },
  {
   "cell_type": "code",
   "execution_count": 18,
   "id": "93f35f96-80ac-4b8e-a3ff-4b4a5926d586",
   "metadata": {
    "papermill": {
     "duration": 0.812241,
     "end_time": "2021-11-09T20:50:07.759587",
     "exception": false,
     "start_time": "2021-11-09T20:50:06.947346",
     "status": "completed"
    },
    "tags": []
   },
   "outputs": [],
   "source": [
    "hindcast = xr.open_mfdataset(lfiles_hindcast, preprocess=C3S.preprocess_GCM)"
   ]
  },
  {
   "cell_type": "code",
   "execution_count": 19,
   "id": "233d3a98-56db-497b-b2b2-81488ecb92b5",
   "metadata": {
    "papermill": {
     "duration": 0.035666,
     "end_time": "2021-11-09T20:50:07.815020",
     "exception": false,
     "start_time": "2021-11-09T20:50:07.779354",
     "status": "completed"
    },
    "tags": []
   },
   "outputs": [],
   "source": [
    "hindcast = domains.extract_domain(hindcast, domain)"
   ]
  },
  {
   "cell_type": "code",
   "execution_count": 20,
   "id": "36fd0203-fc52-4d06-9dc6-3592f3952175",
   "metadata": {
    "papermill": {
     "duration": 0.044733,
     "end_time": "2021-11-09T20:50:07.879414",
     "exception": false,
     "start_time": "2021-11-09T20:50:07.834681",
     "status": "completed"
    },
    "tags": []
   },
   "outputs": [
    {
     "name": "stdout",
     "output_type": "stream",
     "text": [
      "\n",
      "unit is m s**-1, converting to mm/day\n",
      "\n",
      "now converting to mm/month, converted precipitation will be held in var = precip\n"
     ]
    }
   ],
   "source": [
    "hindcast = C3S.convert_rainfall(hindcast, varin='tprate', varout='precip', leadvar='step', timevar='time', dropvar=True)"
   ]
  },
  {
   "cell_type": "code",
   "execution_count": 21,
   "id": "7475584c-8794-4b8a-ada1-160d129e5c92",
   "metadata": {
    "papermill": {
     "duration": 0.035623,
     "end_time": "2021-11-09T20:50:07.935806",
     "exception": false,
     "start_time": "2021-11-09T20:50:07.900183",
     "status": "completed"
    },
    "tags": []
   },
   "outputs": [
    {
     "name": "stdout",
     "output_type": "stream",
     "text": [
      "Calculating the seasonal (3 months) accumulations\n"
     ]
    }
   ],
   "source": [
    "if period == 'seasonal': \n",
    "\n",
    "    print(\"Calculating the seasonal (3 months) accumulations\")\n",
    "\n",
    "    hindcast = hindcast.rolling({'step':3}, min_periods=3, center=False).sum('step') \n",
    "\n",
    "    # get rid of the 2 first steps, which by definition contain missing values \n",
    "\n",
    "    hindcast = hindcast.sel(step=slice(3, None))"
   ]
  },
  {
   "cell_type": "markdown",
   "id": "685122b9-2d91-4040-9fdf-4eabd4fa9c6c",
   "metadata": {
    "papermill": {
     "duration": 0.019686,
     "end_time": "2021-11-09T20:50:07.975343",
     "exception": false,
     "start_time": "2021-11-09T20:50:07.955657",
     "status": "completed"
    },
    "tags": []
   },
   "source": [
    "### calculates the climatology "
   ]
  },
  {
   "cell_type": "code",
   "execution_count": 22,
   "id": "2f0d70c8-dcaa-4332-a1b0-46bd6dc1f7e1",
   "metadata": {
    "papermill": {
     "duration": 0.034771,
     "end_time": "2021-11-09T20:50:08.030386",
     "exception": false,
     "start_time": "2021-11-09T20:50:07.995615",
     "status": "completed"
    },
    "tags": []
   },
   "outputs": [
    {
     "data": {
      "text/plain": [
       "Frozen({'time': (1, 1, 1, 1, 1, 1, 1, 1, 1, 1, 1, 1, 1, 1, 1, 1, 1, 1, 1, 1, 1, 1, 1, 1), 'step': (3,), 'member': (25,), 'lat': (81,), 'lon': (121,)})"
      ]
     },
     "execution_count": 22,
     "metadata": {},
     "output_type": "execute_result"
    }
   ],
   "source": [
    "hindcast.chunks"
   ]
  },
  {
   "cell_type": "code",
   "execution_count": 23,
   "id": "1c9b56e3-5b0f-4305-80e9-c00bd23428e8",
   "metadata": {
    "papermill": {
     "duration": 0.036351,
     "end_time": "2021-11-09T20:50:08.086798",
     "exception": false,
     "start_time": "2021-11-09T20:50:08.050447",
     "status": "completed"
    },
    "tags": []
   },
   "outputs": [],
   "source": [
    "hindcast = hindcast.chunk({'time':-1, 'member':-1, 'lat':10, 'lon':10})"
   ]
  },
  {
   "cell_type": "code",
   "execution_count": 24,
   "id": "7b64a436-4ccf-4c1b-aa29-49c83023d116",
   "metadata": {
    "papermill": {
     "duration": 0.329781,
     "end_time": "2021-11-09T20:50:08.436370",
     "exception": false,
     "start_time": "2021-11-09T20:50:08.106589",
     "status": "completed"
    },
    "tags": []
   },
   "outputs": [],
   "source": [
    "instances = len(hindcast.stack(instance=('time','member')).dropna('instance')['instance'])"
   ]
  },
  {
   "cell_type": "code",
   "execution_count": 25,
   "id": "d60202ef-8e80-41a3-8122-1c8df5c7c0dc",
   "metadata": {
    "papermill": {
     "duration": 0.037255,
     "end_time": "2021-11-09T20:50:08.495234",
     "exception": false,
     "start_time": "2021-11-09T20:50:08.457979",
     "status": "completed"
    },
    "tags": []
   },
   "outputs": [
    {
     "data": {
      "text/plain": [
       "600"
      ]
     },
     "execution_count": 25,
     "metadata": {},
     "output_type": "execute_result"
    }
   ],
   "source": [
    "instances"
   ]
  },
  {
   "cell_type": "code",
   "execution_count": 26,
   "id": "345a29c8-a5b7-447b-919a-1cfb88c1eb04",
   "metadata": {
    "papermill": {
     "duration": 0.039009,
     "end_time": "2021-11-09T20:50:08.554560",
     "exception": false,
     "start_time": "2021-11-09T20:50:08.515551",
     "status": "completed"
    },
    "tags": []
   },
   "outputs": [],
   "source": [
    "quartile_climatology = hindcast.quantile([0.25, 0.50, 0.75], dim=['time','member'])"
   ]
  },
  {
   "cell_type": "code",
   "execution_count": 27,
   "id": "65542966-b3d7-4803-9834-c6df0dd25978",
   "metadata": {
    "papermill": {
     "duration": 6.017151,
     "end_time": "2021-11-09T20:50:14.592747",
     "exception": false,
     "start_time": "2021-11-09T20:50:08.575596",
     "status": "completed"
    },
    "tags": []
   },
   "outputs": [
    {
     "name": "stdout",
     "output_type": "stream",
     "text": [
      "[########################################] | 100% Completed |  4.6s\n"
     ]
    }
   ],
   "source": [
    "with ProgressBar(): \n",
    "    quartile_climatology = quartile_climatology.compute()"
   ]
  },
  {
   "cell_type": "code",
   "execution_count": 28,
   "id": "dd3cd26a-1e01-49f1-a77c-5f60cc537d47",
   "metadata": {
    "papermill": {
     "duration": 0.04329,
     "end_time": "2021-11-09T20:50:14.693137",
     "exception": false,
     "start_time": "2021-11-09T20:50:14.649847",
     "status": "completed"
    },
    "tags": []
   },
   "outputs": [],
   "source": [
    "quartile_climatology.attrs['ninstances'] = instances"
   ]
  },
  {
   "cell_type": "markdown",
   "id": "c85c4e4b-b36c-45cc-a6cd-0b03e5a73d14",
   "metadata": {
    "papermill": {
     "duration": 0.028081,
     "end_time": "2021-11-09T20:50:14.749578",
     "exception": false,
     "start_time": "2021-11-09T20:50:14.721497",
     "status": "completed"
    },
    "tags": []
   },
   "source": [
    "### save the climatology "
   ]
  },
  {
   "cell_type": "code",
   "execution_count": 29,
   "id": "b4614c94-efb2-45e8-a116-cb7fcc15c6db",
   "metadata": {
    "papermill": {
     "duration": 0.05577,
     "end_time": "2021-11-09T20:50:14.833218",
     "exception": false,
     "start_time": "2021-11-09T20:50:14.777448",
     "status": "completed"
    },
    "tags": []
   },
   "outputs": [
    {
     "data": {
      "text/plain": [
       "PosixPath('/media/nicolasf/END19101/ICU/data/CDS')"
      ]
     },
     "execution_count": 29,
     "metadata": {},
     "output_type": "execute_result"
    }
   ],
   "source": [
    "gcm_path"
   ]
  },
  {
   "cell_type": "code",
   "execution_count": 30,
   "id": "b142a69f-4615-47b3-b521-0624c91a1445",
   "metadata": {
    "papermill": {
     "duration": 0.042953,
     "end_time": "2021-11-09T20:50:14.935945",
     "exception": false,
     "start_time": "2021-11-09T20:50:14.892992",
     "status": "completed"
    },
    "tags": []
   },
   "outputs": [],
   "source": [
    "opath_clim = gcm_path.joinpath(f\"CLIMATOLOGY/{GCM}/{varname.upper()}\")"
   ]
  },
  {
   "cell_type": "code",
   "execution_count": 31,
   "id": "2e57dc80-2806-4186-af3c-a960b9c131b7",
   "metadata": {
    "papermill": {
     "duration": 0.042547,
     "end_time": "2021-11-09T20:50:15.006874",
     "exception": false,
     "start_time": "2021-11-09T20:50:14.964327",
     "status": "completed"
    },
    "tags": []
   },
   "outputs": [],
   "source": [
    "if not opath_clim.exists(): \n",
    "    opath_clim.mkdir(parents=True)"
   ]
  },
  {
   "cell_type": "code",
   "execution_count": 32,
   "id": "88f8a1a2-89bd-4020-a807-1891fae2e00a",
   "metadata": {
    "papermill": {
     "duration": 0.156165,
     "end_time": "2021-11-09T20:50:15.191857",
     "exception": false,
     "start_time": "2021-11-09T20:50:15.035692",
     "status": "completed"
    },
    "tags": []
   },
   "outputs": [],
   "source": [
    "quartile_climatology.to_netcdf(opath_clim.joinpath(f\"{GCM}_{period}_{quantile}_climatology_{month:02d}.netcdf\"))"
   ]
  },
  {
   "cell_type": "markdown",
   "id": "79578d75-d806-4a64-845d-140955356cc3",
   "metadata": {
    "papermill": {
     "duration": 0.028911,
     "end_time": "2021-11-09T20:50:15.284184",
     "exception": false,
     "start_time": "2021-11-09T20:50:15.255273",
     "status": "completed"
    },
    "tags": []
   },
   "source": [
    "### Now derive the categories for the hindcast using the above climatology "
   ]
  },
  {
   "cell_type": "code",
   "execution_count": 33,
   "id": "da342c87-c65d-4e74-81e5-9f388f093183",
   "metadata": {
    "papermill": {
     "duration": 0.0512,
     "end_time": "2021-11-09T20:50:15.364101",
     "exception": false,
     "start_time": "2021-11-09T20:50:15.312901",
     "status": "completed"
    },
    "tags": []
   },
   "outputs": [],
   "source": [
    "quartiles_category = C3S.get_GCM_category_digitize(hindcast, quartile_climatology.squeeze(), varname=varname_out, dim='quantile')"
   ]
  },
  {
   "cell_type": "code",
   "execution_count": 35,
   "id": "1e1875ca-4268-40bf-8113-915e112204bc",
   "metadata": {
    "papermill": {
     "duration": 0.05877,
     "end_time": "2021-11-09T20:50:15.451866",
     "exception": false,
     "start_time": "2021-11-09T20:50:15.393096",
     "status": "completed"
    },
    "tags": []
   },
   "outputs": [
    {
     "data": {
      "text/html": [
       "<div><svg style=\"position: absolute; width: 0; height: 0; overflow: hidden\">\n",
       "<defs>\n",
       "<symbol id=\"icon-database\" viewBox=\"0 0 32 32\">\n",
       "<path d=\"M16 0c-8.837 0-16 2.239-16 5v4c0 2.761 7.163 5 16 5s16-2.239 16-5v-4c0-2.761-7.163-5-16-5z\"></path>\n",
       "<path d=\"M16 17c-8.837 0-16-2.239-16-5v6c0 2.761 7.163 5 16 5s16-2.239 16-5v-6c0 2.761-7.163 5-16 5z\"></path>\n",
       "<path d=\"M16 26c-8.837 0-16-2.239-16-5v6c0 2.761 7.163 5 16 5s16-2.239 16-5v-6c0 2.761-7.163 5-16 5z\"></path>\n",
       "</symbol>\n",
       "<symbol id=\"icon-file-text2\" viewBox=\"0 0 32 32\">\n",
       "<path d=\"M28.681 7.159c-0.694-0.947-1.662-2.053-2.724-3.116s-2.169-2.030-3.116-2.724c-1.612-1.182-2.393-1.319-2.841-1.319h-15.5c-1.378 0-2.5 1.121-2.5 2.5v27c0 1.378 1.122 2.5 2.5 2.5h23c1.378 0 2.5-1.122 2.5-2.5v-19.5c0-0.448-0.137-1.23-1.319-2.841zM24.543 5.457c0.959 0.959 1.712 1.825 2.268 2.543h-4.811v-4.811c0.718 0.556 1.584 1.309 2.543 2.268zM28 29.5c0 0.271-0.229 0.5-0.5 0.5h-23c-0.271 0-0.5-0.229-0.5-0.5v-27c0-0.271 0.229-0.5 0.5-0.5 0 0 15.499-0 15.5 0v7c0 0.552 0.448 1 1 1h7v19.5z\"></path>\n",
       "<path d=\"M23 26h-14c-0.552 0-1-0.448-1-1s0.448-1 1-1h14c0.552 0 1 0.448 1 1s-0.448 1-1 1z\"></path>\n",
       "<path d=\"M23 22h-14c-0.552 0-1-0.448-1-1s0.448-1 1-1h14c0.552 0 1 0.448 1 1s-0.448 1-1 1z\"></path>\n",
       "<path d=\"M23 18h-14c-0.552 0-1-0.448-1-1s0.448-1 1-1h14c0.552 0 1 0.448 1 1s-0.448 1-1 1z\"></path>\n",
       "</symbol>\n",
       "</defs>\n",
       "</svg>\n",
       "<style>/* CSS stylesheet for displaying xarray objects in jupyterlab.\n",
       " *\n",
       " */\n",
       "\n",
       ":root {\n",
       "  --xr-font-color0: var(--jp-content-font-color0, rgba(0, 0, 0, 1));\n",
       "  --xr-font-color2: var(--jp-content-font-color2, rgba(0, 0, 0, 0.54));\n",
       "  --xr-font-color3: var(--jp-content-font-color3, rgba(0, 0, 0, 0.38));\n",
       "  --xr-border-color: var(--jp-border-color2, #e0e0e0);\n",
       "  --xr-disabled-color: var(--jp-layout-color3, #bdbdbd);\n",
       "  --xr-background-color: var(--jp-layout-color0, white);\n",
       "  --xr-background-color-row-even: var(--jp-layout-color1, white);\n",
       "  --xr-background-color-row-odd: var(--jp-layout-color2, #eeeeee);\n",
       "}\n",
       "\n",
       "html[theme=dark],\n",
       "body.vscode-dark {\n",
       "  --xr-font-color0: rgba(255, 255, 255, 1);\n",
       "  --xr-font-color2: rgba(255, 255, 255, 0.54);\n",
       "  --xr-font-color3: rgba(255, 255, 255, 0.38);\n",
       "  --xr-border-color: #1F1F1F;\n",
       "  --xr-disabled-color: #515151;\n",
       "  --xr-background-color: #111111;\n",
       "  --xr-background-color-row-even: #111111;\n",
       "  --xr-background-color-row-odd: #313131;\n",
       "}\n",
       "\n",
       ".xr-wrap {\n",
       "  display: block;\n",
       "  min-width: 300px;\n",
       "  max-width: 700px;\n",
       "}\n",
       "\n",
       ".xr-text-repr-fallback {\n",
       "  /* fallback to plain text repr when CSS is not injected (untrusted notebook) */\n",
       "  display: none;\n",
       "}\n",
       "\n",
       ".xr-header {\n",
       "  padding-top: 6px;\n",
       "  padding-bottom: 6px;\n",
       "  margin-bottom: 4px;\n",
       "  border-bottom: solid 1px var(--xr-border-color);\n",
       "}\n",
       "\n",
       ".xr-header > div,\n",
       ".xr-header > ul {\n",
       "  display: inline;\n",
       "  margin-top: 0;\n",
       "  margin-bottom: 0;\n",
       "}\n",
       "\n",
       ".xr-obj-type,\n",
       ".xr-array-name {\n",
       "  margin-left: 2px;\n",
       "  margin-right: 10px;\n",
       "}\n",
       "\n",
       ".xr-obj-type {\n",
       "  color: var(--xr-font-color2);\n",
       "}\n",
       "\n",
       ".xr-sections {\n",
       "  padding-left: 0 !important;\n",
       "  display: grid;\n",
       "  grid-template-columns: 150px auto auto 1fr 20px 20px;\n",
       "}\n",
       "\n",
       ".xr-section-item {\n",
       "  display: contents;\n",
       "}\n",
       "\n",
       ".xr-section-item input {\n",
       "  display: none;\n",
       "}\n",
       "\n",
       ".xr-section-item input + label {\n",
       "  color: var(--xr-disabled-color);\n",
       "}\n",
       "\n",
       ".xr-section-item input:enabled + label {\n",
       "  cursor: pointer;\n",
       "  color: var(--xr-font-color2);\n",
       "}\n",
       "\n",
       ".xr-section-item input:enabled + label:hover {\n",
       "  color: var(--xr-font-color0);\n",
       "}\n",
       "\n",
       ".xr-section-summary {\n",
       "  grid-column: 1;\n",
       "  color: var(--xr-font-color2);\n",
       "  font-weight: 500;\n",
       "}\n",
       "\n",
       ".xr-section-summary > span {\n",
       "  display: inline-block;\n",
       "  padding-left: 0.5em;\n",
       "}\n",
       "\n",
       ".xr-section-summary-in:disabled + label {\n",
       "  color: var(--xr-font-color2);\n",
       "}\n",
       "\n",
       ".xr-section-summary-in + label:before {\n",
       "  display: inline-block;\n",
       "  content: '►';\n",
       "  font-size: 11px;\n",
       "  width: 15px;\n",
       "  text-align: center;\n",
       "}\n",
       "\n",
       ".xr-section-summary-in:disabled + label:before {\n",
       "  color: var(--xr-disabled-color);\n",
       "}\n",
       "\n",
       ".xr-section-summary-in:checked + label:before {\n",
       "  content: '▼';\n",
       "}\n",
       "\n",
       ".xr-section-summary-in:checked + label > span {\n",
       "  display: none;\n",
       "}\n",
       "\n",
       ".xr-section-summary,\n",
       ".xr-section-inline-details {\n",
       "  padding-top: 4px;\n",
       "  padding-bottom: 4px;\n",
       "}\n",
       "\n",
       ".xr-section-inline-details {\n",
       "  grid-column: 2 / -1;\n",
       "}\n",
       "\n",
       ".xr-section-details {\n",
       "  display: none;\n",
       "  grid-column: 1 / -1;\n",
       "  margin-bottom: 5px;\n",
       "}\n",
       "\n",
       ".xr-section-summary-in:checked ~ .xr-section-details {\n",
       "  display: contents;\n",
       "}\n",
       "\n",
       ".xr-array-wrap {\n",
       "  grid-column: 1 / -1;\n",
       "  display: grid;\n",
       "  grid-template-columns: 20px auto;\n",
       "}\n",
       "\n",
       ".xr-array-wrap > label {\n",
       "  grid-column: 1;\n",
       "  vertical-align: top;\n",
       "}\n",
       "\n",
       ".xr-preview {\n",
       "  color: var(--xr-font-color3);\n",
       "}\n",
       "\n",
       ".xr-array-preview,\n",
       ".xr-array-data {\n",
       "  padding: 0 5px !important;\n",
       "  grid-column: 2;\n",
       "}\n",
       "\n",
       ".xr-array-data,\n",
       ".xr-array-in:checked ~ .xr-array-preview {\n",
       "  display: none;\n",
       "}\n",
       "\n",
       ".xr-array-in:checked ~ .xr-array-data,\n",
       ".xr-array-preview {\n",
       "  display: inline-block;\n",
       "}\n",
       "\n",
       ".xr-dim-list {\n",
       "  display: inline-block !important;\n",
       "  list-style: none;\n",
       "  padding: 0 !important;\n",
       "  margin: 0;\n",
       "}\n",
       "\n",
       ".xr-dim-list li {\n",
       "  display: inline-block;\n",
       "  padding: 0;\n",
       "  margin: 0;\n",
       "}\n",
       "\n",
       ".xr-dim-list:before {\n",
       "  content: '(';\n",
       "}\n",
       "\n",
       ".xr-dim-list:after {\n",
       "  content: ')';\n",
       "}\n",
       "\n",
       ".xr-dim-list li:not(:last-child):after {\n",
       "  content: ',';\n",
       "  padding-right: 5px;\n",
       "}\n",
       "\n",
       ".xr-has-index {\n",
       "  font-weight: bold;\n",
       "}\n",
       "\n",
       ".xr-var-list,\n",
       ".xr-var-item {\n",
       "  display: contents;\n",
       "}\n",
       "\n",
       ".xr-var-item > div,\n",
       ".xr-var-item label,\n",
       ".xr-var-item > .xr-var-name span {\n",
       "  background-color: var(--xr-background-color-row-even);\n",
       "  margin-bottom: 0;\n",
       "}\n",
       "\n",
       ".xr-var-item > .xr-var-name:hover span {\n",
       "  padding-right: 5px;\n",
       "}\n",
       "\n",
       ".xr-var-list > li:nth-child(odd) > div,\n",
       ".xr-var-list > li:nth-child(odd) > label,\n",
       ".xr-var-list > li:nth-child(odd) > .xr-var-name span {\n",
       "  background-color: var(--xr-background-color-row-odd);\n",
       "}\n",
       "\n",
       ".xr-var-name {\n",
       "  grid-column: 1;\n",
       "}\n",
       "\n",
       ".xr-var-dims {\n",
       "  grid-column: 2;\n",
       "}\n",
       "\n",
       ".xr-var-dtype {\n",
       "  grid-column: 3;\n",
       "  text-align: right;\n",
       "  color: var(--xr-font-color2);\n",
       "}\n",
       "\n",
       ".xr-var-preview {\n",
       "  grid-column: 4;\n",
       "}\n",
       "\n",
       ".xr-var-name,\n",
       ".xr-var-dims,\n",
       ".xr-var-dtype,\n",
       ".xr-preview,\n",
       ".xr-attrs dt {\n",
       "  white-space: nowrap;\n",
       "  overflow: hidden;\n",
       "  text-overflow: ellipsis;\n",
       "  padding-right: 10px;\n",
       "}\n",
       "\n",
       ".xr-var-name:hover,\n",
       ".xr-var-dims:hover,\n",
       ".xr-var-dtype:hover,\n",
       ".xr-attrs dt:hover {\n",
       "  overflow: visible;\n",
       "  width: auto;\n",
       "  z-index: 1;\n",
       "}\n",
       "\n",
       ".xr-var-attrs,\n",
       ".xr-var-data {\n",
       "  display: none;\n",
       "  background-color: var(--xr-background-color) !important;\n",
       "  padding-bottom: 5px !important;\n",
       "}\n",
       "\n",
       ".xr-var-attrs-in:checked ~ .xr-var-attrs,\n",
       ".xr-var-data-in:checked ~ .xr-var-data {\n",
       "  display: block;\n",
       "}\n",
       "\n",
       ".xr-var-data > table {\n",
       "  float: right;\n",
       "}\n",
       "\n",
       ".xr-var-name span,\n",
       ".xr-var-data,\n",
       ".xr-attrs {\n",
       "  padding-left: 25px !important;\n",
       "}\n",
       "\n",
       ".xr-attrs,\n",
       ".xr-var-attrs,\n",
       ".xr-var-data {\n",
       "  grid-column: 1 / -1;\n",
       "}\n",
       "\n",
       "dl.xr-attrs {\n",
       "  padding: 0;\n",
       "  margin: 0;\n",
       "  display: grid;\n",
       "  grid-template-columns: 125px auto;\n",
       "}\n",
       "\n",
       ".xr-attrs dt,\n",
       ".xr-attrs dd {\n",
       "  padding: 0;\n",
       "  margin: 0;\n",
       "  float: left;\n",
       "  padding-right: 10px;\n",
       "  width: auto;\n",
       "}\n",
       "\n",
       ".xr-attrs dt {\n",
       "  font-weight: normal;\n",
       "  grid-column: 1;\n",
       "}\n",
       "\n",
       ".xr-attrs dt:hover span {\n",
       "  display: inline-block;\n",
       "  background: var(--xr-background-color);\n",
       "  padding-right: 10px;\n",
       "}\n",
       "\n",
       ".xr-attrs dd {\n",
       "  grid-column: 2;\n",
       "  white-space: pre-wrap;\n",
       "  word-break: break-all;\n",
       "}\n",
       "\n",
       ".xr-icon-database,\n",
       ".xr-icon-file-text2 {\n",
       "  display: inline-block;\n",
       "  vertical-align: middle;\n",
       "  width: 1em;\n",
       "  height: 1.5em !important;\n",
       "  stroke-width: 0;\n",
       "  stroke: currentColor;\n",
       "  fill: currentColor;\n",
       "}\n",
       "</style><pre class='xr-text-repr-fallback'>&lt;xarray.Dataset&gt;\n",
       "Dimensions:  (time: 24, lon: 121, lat: 81, member: 25, step: 3)\n",
       "Coordinates:\n",
       "  * time     (time) datetime64[ns] 1993-01-01 1994-01-01 ... 2016-01-01\n",
       "  * lon      (lon) float32 120.0 121.0 122.0 123.0 ... 237.0 238.0 239.0 240.0\n",
       "  * lat      (lat) float32 -50.0 -49.0 -48.0 -47.0 -46.0 ... 27.0 28.0 29.0 30.0\n",
       "  * member   (member) int32 0 1 2 3 4 5 6 7 8 9 ... 16 17 18 19 20 21 22 23 24\n",
       "  * step     (step) int64 3 4 5\n",
       "Data variables:\n",
       "    precip   (time, step, member, lat, lon) int64 dask.array&lt;chunksize=(24, 3, 25, 10, 10), meta=np.ndarray&gt;</pre><div class='xr-wrap' hidden><div class='xr-header'><div class='xr-obj-type'>xarray.Dataset</div></div><ul class='xr-sections'><li class='xr-section-item'><input id='section-28a59514-4ffc-4b52-89a4-eeeca90c74c3' class='xr-section-summary-in' type='checkbox' disabled ><label for='section-28a59514-4ffc-4b52-89a4-eeeca90c74c3' class='xr-section-summary'  title='Expand/collapse section'>Dimensions:</label><div class='xr-section-inline-details'><ul class='xr-dim-list'><li><span class='xr-has-index'>time</span>: 24</li><li><span class='xr-has-index'>lon</span>: 121</li><li><span class='xr-has-index'>lat</span>: 81</li><li><span class='xr-has-index'>member</span>: 25</li><li><span class='xr-has-index'>step</span>: 3</li></ul></div><div class='xr-section-details'></div></li><li class='xr-section-item'><input id='section-a1db9594-3706-4c4b-9cbd-1d76c1be0e13' class='xr-section-summary-in' type='checkbox'  checked><label for='section-a1db9594-3706-4c4b-9cbd-1d76c1be0e13' class='xr-section-summary' >Coordinates: <span>(5)</span></label><div class='xr-section-inline-details'></div><div class='xr-section-details'><ul class='xr-var-list'><li class='xr-var-item'><div class='xr-var-name'><span class='xr-has-index'>time</span></div><div class='xr-var-dims'>(time)</div><div class='xr-var-dtype'>datetime64[ns]</div><div class='xr-var-preview xr-preview'>1993-01-01 ... 2016-01-01</div><input id='attrs-71bfcd77-5807-44a8-9354-b5a2d452fe1d' class='xr-var-attrs-in' type='checkbox' disabled><label for='attrs-71bfcd77-5807-44a8-9354-b5a2d452fe1d' title='Show/Hide attributes'><svg class='icon xr-icon-file-text2'><use xlink:href='#icon-file-text2'></use></svg></label><input id='data-0eb18d91-c49f-47d5-9431-891324af890c' class='xr-var-data-in' type='checkbox'><label for='data-0eb18d91-c49f-47d5-9431-891324af890c' title='Show/Hide data repr'><svg class='icon xr-icon-database'><use xlink:href='#icon-database'></use></svg></label><div class='xr-var-attrs'><dl class='xr-attrs'></dl></div><div class='xr-var-data'><pre>array([&#x27;1993-01-01T00:00:00.000000000&#x27;, &#x27;1994-01-01T00:00:00.000000000&#x27;,\n",
       "       &#x27;1995-01-01T00:00:00.000000000&#x27;, &#x27;1996-01-01T00:00:00.000000000&#x27;,\n",
       "       &#x27;1997-01-01T00:00:00.000000000&#x27;, &#x27;1998-01-01T00:00:00.000000000&#x27;,\n",
       "       &#x27;1999-01-01T00:00:00.000000000&#x27;, &#x27;2000-01-01T00:00:00.000000000&#x27;,\n",
       "       &#x27;2001-01-01T00:00:00.000000000&#x27;, &#x27;2002-01-01T00:00:00.000000000&#x27;,\n",
       "       &#x27;2003-01-01T00:00:00.000000000&#x27;, &#x27;2004-01-01T00:00:00.000000000&#x27;,\n",
       "       &#x27;2005-01-01T00:00:00.000000000&#x27;, &#x27;2006-01-01T00:00:00.000000000&#x27;,\n",
       "       &#x27;2007-01-01T00:00:00.000000000&#x27;, &#x27;2008-01-01T00:00:00.000000000&#x27;,\n",
       "       &#x27;2009-01-01T00:00:00.000000000&#x27;, &#x27;2010-01-01T00:00:00.000000000&#x27;,\n",
       "       &#x27;2011-01-01T00:00:00.000000000&#x27;, &#x27;2012-01-01T00:00:00.000000000&#x27;,\n",
       "       &#x27;2013-01-01T00:00:00.000000000&#x27;, &#x27;2014-01-01T00:00:00.000000000&#x27;,\n",
       "       &#x27;2015-01-01T00:00:00.000000000&#x27;, &#x27;2016-01-01T00:00:00.000000000&#x27;],\n",
       "      dtype=&#x27;datetime64[ns]&#x27;)</pre></div></li><li class='xr-var-item'><div class='xr-var-name'><span class='xr-has-index'>lon</span></div><div class='xr-var-dims'>(lon)</div><div class='xr-var-dtype'>float32</div><div class='xr-var-preview xr-preview'>120.0 121.0 122.0 ... 239.0 240.0</div><input id='attrs-0ea6877d-e698-4ccc-be2b-ef6b1d5139e5' class='xr-var-attrs-in' type='checkbox' disabled><label for='attrs-0ea6877d-e698-4ccc-be2b-ef6b1d5139e5' title='Show/Hide attributes'><svg class='icon xr-icon-file-text2'><use xlink:href='#icon-file-text2'></use></svg></label><input id='data-b26891e5-abee-4604-ac1c-cd9b3ba202e0' class='xr-var-data-in' type='checkbox'><label for='data-b26891e5-abee-4604-ac1c-cd9b3ba202e0' title='Show/Hide data repr'><svg class='icon xr-icon-database'><use xlink:href='#icon-database'></use></svg></label><div class='xr-var-attrs'><dl class='xr-attrs'></dl></div><div class='xr-var-data'><pre>array([120., 121., 122., 123., 124., 125., 126., 127., 128., 129., 130., 131.,\n",
       "       132., 133., 134., 135., 136., 137., 138., 139., 140., 141., 142., 143.,\n",
       "       144., 145., 146., 147., 148., 149., 150., 151., 152., 153., 154., 155.,\n",
       "       156., 157., 158., 159., 160., 161., 162., 163., 164., 165., 166., 167.,\n",
       "       168., 169., 170., 171., 172., 173., 174., 175., 176., 177., 178., 179.,\n",
       "       180., 181., 182., 183., 184., 185., 186., 187., 188., 189., 190., 191.,\n",
       "       192., 193., 194., 195., 196., 197., 198., 199., 200., 201., 202., 203.,\n",
       "       204., 205., 206., 207., 208., 209., 210., 211., 212., 213., 214., 215.,\n",
       "       216., 217., 218., 219., 220., 221., 222., 223., 224., 225., 226., 227.,\n",
       "       228., 229., 230., 231., 232., 233., 234., 235., 236., 237., 238., 239.,\n",
       "       240.], dtype=float32)</pre></div></li><li class='xr-var-item'><div class='xr-var-name'><span class='xr-has-index'>lat</span></div><div class='xr-var-dims'>(lat)</div><div class='xr-var-dtype'>float32</div><div class='xr-var-preview xr-preview'>-50.0 -49.0 -48.0 ... 29.0 30.0</div><input id='attrs-982e53a0-eba9-413a-89a8-ccd033b487fa' class='xr-var-attrs-in' type='checkbox' disabled><label for='attrs-982e53a0-eba9-413a-89a8-ccd033b487fa' title='Show/Hide attributes'><svg class='icon xr-icon-file-text2'><use xlink:href='#icon-file-text2'></use></svg></label><input id='data-5803d306-8e1b-4b32-a22f-fe5df163589e' class='xr-var-data-in' type='checkbox'><label for='data-5803d306-8e1b-4b32-a22f-fe5df163589e' title='Show/Hide data repr'><svg class='icon xr-icon-database'><use xlink:href='#icon-database'></use></svg></label><div class='xr-var-attrs'><dl class='xr-attrs'></dl></div><div class='xr-var-data'><pre>array([-50., -49., -48., -47., -46., -45., -44., -43., -42., -41., -40., -39.,\n",
       "       -38., -37., -36., -35., -34., -33., -32., -31., -30., -29., -28., -27.,\n",
       "       -26., -25., -24., -23., -22., -21., -20., -19., -18., -17., -16., -15.,\n",
       "       -14., -13., -12., -11., -10.,  -9.,  -8.,  -7.,  -6.,  -5.,  -4.,  -3.,\n",
       "        -2.,  -1.,   0.,   1.,   2.,   3.,   4.,   5.,   6.,   7.,   8.,   9.,\n",
       "        10.,  11.,  12.,  13.,  14.,  15.,  16.,  17.,  18.,  19.,  20.,  21.,\n",
       "        22.,  23.,  24.,  25.,  26.,  27.,  28.,  29.,  30.], dtype=float32)</pre></div></li><li class='xr-var-item'><div class='xr-var-name'><span class='xr-has-index'>member</span></div><div class='xr-var-dims'>(member)</div><div class='xr-var-dtype'>int32</div><div class='xr-var-preview xr-preview'>0 1 2 3 4 5 6 ... 19 20 21 22 23 24</div><input id='attrs-6a15f2df-473e-4faa-8ce1-7192c46c8a9d' class='xr-var-attrs-in' type='checkbox' disabled><label for='attrs-6a15f2df-473e-4faa-8ce1-7192c46c8a9d' title='Show/Hide attributes'><svg class='icon xr-icon-file-text2'><use xlink:href='#icon-file-text2'></use></svg></label><input id='data-c20a91c7-b23a-4862-87e4-c63ab4677950' class='xr-var-data-in' type='checkbox'><label for='data-c20a91c7-b23a-4862-87e4-c63ab4677950' title='Show/Hide data repr'><svg class='icon xr-icon-database'><use xlink:href='#icon-database'></use></svg></label><div class='xr-var-attrs'><dl class='xr-attrs'></dl></div><div class='xr-var-data'><pre>array([ 0,  1,  2,  3,  4,  5,  6,  7,  8,  9, 10, 11, 12, 13, 14, 15, 16, 17,\n",
       "       18, 19, 20, 21, 22, 23, 24], dtype=int32)</pre></div></li><li class='xr-var-item'><div class='xr-var-name'><span class='xr-has-index'>step</span></div><div class='xr-var-dims'>(step)</div><div class='xr-var-dtype'>int64</div><div class='xr-var-preview xr-preview'>3 4 5</div><input id='attrs-18af0923-84b1-4a2d-802a-a888236114f0' class='xr-var-attrs-in' type='checkbox' disabled><label for='attrs-18af0923-84b1-4a2d-802a-a888236114f0' title='Show/Hide attributes'><svg class='icon xr-icon-file-text2'><use xlink:href='#icon-file-text2'></use></svg></label><input id='data-509802be-721f-42f6-916a-f60cfdf51f10' class='xr-var-data-in' type='checkbox'><label for='data-509802be-721f-42f6-916a-f60cfdf51f10' title='Show/Hide data repr'><svg class='icon xr-icon-database'><use xlink:href='#icon-database'></use></svg></label><div class='xr-var-attrs'><dl class='xr-attrs'></dl></div><div class='xr-var-data'><pre>array([3, 4, 5])</pre></div></li></ul></div></li><li class='xr-section-item'><input id='section-2b3675d8-44cb-4075-8ee7-95995064acfe' class='xr-section-summary-in' type='checkbox'  checked><label for='section-2b3675d8-44cb-4075-8ee7-95995064acfe' class='xr-section-summary' >Data variables: <span>(1)</span></label><div class='xr-section-inline-details'></div><div class='xr-section-details'><ul class='xr-var-list'><li class='xr-var-item'><div class='xr-var-name'><span>precip</span></div><div class='xr-var-dims'>(time, step, member, lat, lon)</div><div class='xr-var-dtype'>int64</div><div class='xr-var-preview xr-preview'>dask.array&lt;chunksize=(24, 3, 25, 10, 10), meta=np.ndarray&gt;</div><input id='attrs-cba61be2-6f92-40b1-9490-ea3fb3584d87' class='xr-var-attrs-in' type='checkbox' disabled><label for='attrs-cba61be2-6f92-40b1-9490-ea3fb3584d87' title='Show/Hide attributes'><svg class='icon xr-icon-file-text2'><use xlink:href='#icon-file-text2'></use></svg></label><input id='data-cdf9d799-353a-492b-86d2-6e54eba1f282' class='xr-var-data-in' type='checkbox'><label for='data-cdf9d799-353a-492b-86d2-6e54eba1f282' title='Show/Hide data repr'><svg class='icon xr-icon-database'><use xlink:href='#icon-database'></use></svg></label><div class='xr-var-attrs'><dl class='xr-attrs'></dl></div><div class='xr-var-data'><table>\n",
       "    <tr>\n",
       "        <td>\n",
       "            <table>\n",
       "                <thead>\n",
       "                    <tr>\n",
       "                        <td> </td>\n",
       "                        <th> Array </th>\n",
       "                        <th> Chunk </th>\n",
       "                    </tr>\n",
       "                </thead>\n",
       "                <tbody>\n",
       "                    \n",
       "                    <tr>\n",
       "                        <th> Bytes </th>\n",
       "                        <td> 134.60 MiB </td>\n",
       "                        <td> 1.37 MiB </td>\n",
       "                    </tr>\n",
       "                    \n",
       "                    <tr>\n",
       "                        <th> Shape </th>\n",
       "                        <td> (24, 3, 25, 81, 121) </td>\n",
       "                        <td> (24, 3, 25, 10, 10) </td>\n",
       "                    </tr>\n",
       "                    <tr>\n",
       "                        <th> Count </th>\n",
       "                        <td> 2015 Tasks </td>\n",
       "                        <td> 117 Chunks </td>\n",
       "                    </tr>\n",
       "                    <tr>\n",
       "                    <th> Type </th>\n",
       "                    <td> int64 </td>\n",
       "                    <td> numpy.ndarray </td>\n",
       "                    </tr>\n",
       "                </tbody>\n",
       "            </table>\n",
       "        </td>\n",
       "        <td>\n",
       "        <svg width=\"394\" height=\"155\" style=\"stroke:rgb(0,0,0);stroke-width:1\" >\n",
       "\n",
       "  <!-- Horizontal lines -->\n",
       "  <line x1=\"0\" y1=\"0\" x2=\"30\" y2=\"0\" style=\"stroke-width:2\" />\n",
       "  <line x1=\"0\" y1=\"41\" x2=\"30\" y2=\"41\" style=\"stroke-width:2\" />\n",
       "\n",
       "  <!-- Vertical lines -->\n",
       "  <line x1=\"0\" y1=\"0\" x2=\"0\" y2=\"41\" style=\"stroke-width:2\" />\n",
       "  <line x1=\"30\" y1=\"0\" x2=\"30\" y2=\"41\" style=\"stroke-width:2\" />\n",
       "\n",
       "  <!-- Colored Rectangle -->\n",
       "  <polygon points=\"0.0,0.0 30.26292606701685,0.0 30.26292606701685,41.974744095238016 0.0,41.974744095238016\" style=\"fill:#ECB172A0;stroke-width:0\"/>\n",
       "\n",
       "  <!-- Text -->\n",
       "  <text x=\"15.131463\" y=\"61.974744\" font-size=\"1.0rem\" font-weight=\"100\" text-anchor=\"middle\" >3</text>\n",
       "  <text x=\"50.262926\" y=\"20.987372\" font-size=\"1.0rem\" font-weight=\"100\" text-anchor=\"middle\" transform=\"rotate(0,50.262926,20.987372)\">24</text>\n",
       "\n",
       "\n",
       "  <!-- Horizontal lines -->\n",
       "  <line x1=\"100\" y1=\"0\" x2=\"124\" y2=\"24\" style=\"stroke-width:2\" />\n",
       "  <line x1=\"100\" y1=\"9\" x2=\"124\" y2=\"34\" />\n",
       "  <line x1=\"100\" y1=\"19\" x2=\"124\" y2=\"44\" />\n",
       "  <line x1=\"100\" y1=\"29\" x2=\"124\" y2=\"54\" />\n",
       "  <line x1=\"100\" y1=\"39\" x2=\"124\" y2=\"64\" />\n",
       "  <line x1=\"100\" y1=\"49\" x2=\"124\" y2=\"74\" />\n",
       "  <line x1=\"100\" y1=\"59\" x2=\"124\" y2=\"84\" />\n",
       "  <line x1=\"100\" y1=\"69\" x2=\"124\" y2=\"94\" />\n",
       "  <line x1=\"100\" y1=\"79\" x2=\"124\" y2=\"104\" />\n",
       "  <line x1=\"100\" y1=\"80\" x2=\"124\" y2=\"105\" style=\"stroke-width:2\" />\n",
       "\n",
       "  <!-- Vertical lines -->\n",
       "  <line x1=\"100\" y1=\"0\" x2=\"100\" y2=\"80\" style=\"stroke-width:2\" />\n",
       "  <line x1=\"124\" y1=\"24\" x2=\"124\" y2=\"105\" style=\"stroke-width:2\" />\n",
       "\n",
       "  <!-- Colored Rectangle -->\n",
       "  <polygon points=\"100.0,0.0 124.79187811826725,24.791878118267245 124.79187811826725,105.12245663066395 100.0,80.3305785123967\" style=\"fill:#ECB172A0;stroke-width:0\"/>\n",
       "\n",
       "  <!-- Horizontal lines -->\n",
       "  <line x1=\"100\" y1=\"0\" x2=\"220\" y2=\"0\" style=\"stroke-width:2\" />\n",
       "  <line x1=\"124\" y1=\"24\" x2=\"244\" y2=\"24\" style=\"stroke-width:2\" />\n",
       "\n",
       "  <!-- Vertical lines -->\n",
       "  <line x1=\"100\" y1=\"0\" x2=\"124\" y2=\"24\" style=\"stroke-width:2\" />\n",
       "  <line x1=\"109\" y1=\"0\" x2=\"134\" y2=\"24\" />\n",
       "  <line x1=\"119\" y1=\"0\" x2=\"144\" y2=\"24\" />\n",
       "  <line x1=\"129\" y1=\"0\" x2=\"154\" y2=\"24\" />\n",
       "  <line x1=\"139\" y1=\"0\" x2=\"164\" y2=\"24\" />\n",
       "  <line x1=\"149\" y1=\"0\" x2=\"174\" y2=\"24\" />\n",
       "  <line x1=\"159\" y1=\"0\" x2=\"184\" y2=\"24\" />\n",
       "  <line x1=\"169\" y1=\"0\" x2=\"194\" y2=\"24\" />\n",
       "  <line x1=\"179\" y1=\"0\" x2=\"204\" y2=\"24\" />\n",
       "  <line x1=\"189\" y1=\"0\" x2=\"214\" y2=\"24\" />\n",
       "  <line x1=\"199\" y1=\"0\" x2=\"223\" y2=\"24\" />\n",
       "  <line x1=\"209\" y1=\"0\" x2=\"233\" y2=\"24\" />\n",
       "  <line x1=\"219\" y1=\"0\" x2=\"243\" y2=\"24\" />\n",
       "  <line x1=\"220\" y1=\"0\" x2=\"244\" y2=\"24\" style=\"stroke-width:2\" />\n",
       "\n",
       "  <!-- Colored Rectangle -->\n",
       "  <polygon points=\"100.0,0.0 220.0,0.0 244.79187811826725,24.791878118267245 124.79187811826725,24.791878118267245\" style=\"fill:#ECB172A0;stroke-width:0\"/>\n",
       "\n",
       "  <!-- Horizontal lines -->\n",
       "  <line x1=\"124\" y1=\"24\" x2=\"244\" y2=\"24\" style=\"stroke-width:2\" />\n",
       "  <line x1=\"124\" y1=\"34\" x2=\"244\" y2=\"34\" />\n",
       "  <line x1=\"124\" y1=\"44\" x2=\"244\" y2=\"44\" />\n",
       "  <line x1=\"124\" y1=\"54\" x2=\"244\" y2=\"54\" />\n",
       "  <line x1=\"124\" y1=\"64\" x2=\"244\" y2=\"64\" />\n",
       "  <line x1=\"124\" y1=\"74\" x2=\"244\" y2=\"74\" />\n",
       "  <line x1=\"124\" y1=\"84\" x2=\"244\" y2=\"84\" />\n",
       "  <line x1=\"124\" y1=\"94\" x2=\"244\" y2=\"94\" />\n",
       "  <line x1=\"124\" y1=\"104\" x2=\"244\" y2=\"104\" />\n",
       "  <line x1=\"124\" y1=\"105\" x2=\"244\" y2=\"105\" style=\"stroke-width:2\" />\n",
       "\n",
       "  <!-- Vertical lines -->\n",
       "  <line x1=\"124\" y1=\"24\" x2=\"124\" y2=\"105\" style=\"stroke-width:2\" />\n",
       "  <line x1=\"134\" y1=\"24\" x2=\"134\" y2=\"105\" />\n",
       "  <line x1=\"144\" y1=\"24\" x2=\"144\" y2=\"105\" />\n",
       "  <line x1=\"154\" y1=\"24\" x2=\"154\" y2=\"105\" />\n",
       "  <line x1=\"164\" y1=\"24\" x2=\"164\" y2=\"105\" />\n",
       "  <line x1=\"174\" y1=\"24\" x2=\"174\" y2=\"105\" />\n",
       "  <line x1=\"184\" y1=\"24\" x2=\"184\" y2=\"105\" />\n",
       "  <line x1=\"194\" y1=\"24\" x2=\"194\" y2=\"105\" />\n",
       "  <line x1=\"204\" y1=\"24\" x2=\"204\" y2=\"105\" />\n",
       "  <line x1=\"214\" y1=\"24\" x2=\"214\" y2=\"105\" />\n",
       "  <line x1=\"223\" y1=\"24\" x2=\"223\" y2=\"105\" />\n",
       "  <line x1=\"233\" y1=\"24\" x2=\"233\" y2=\"105\" />\n",
       "  <line x1=\"243\" y1=\"24\" x2=\"243\" y2=\"105\" />\n",
       "  <line x1=\"244\" y1=\"24\" x2=\"244\" y2=\"105\" style=\"stroke-width:2\" />\n",
       "\n",
       "  <!-- Colored Rectangle -->\n",
       "  <polygon points=\"124.79187811826725,24.791878118267245 244.79187811826725,24.791878118267245 244.79187811826725,105.12245663066395 124.79187811826725,105.12245663066395\" style=\"fill:#ECB172A0;stroke-width:0\"/>\n",
       "\n",
       "  <!-- Text -->\n",
       "  <text x=\"184.791878\" y=\"125.122457\" font-size=\"1.0rem\" font-weight=\"100\" text-anchor=\"middle\" >121</text>\n",
       "  <text x=\"264.791878\" y=\"64.957167\" font-size=\"1.0rem\" font-weight=\"100\" text-anchor=\"middle\" transform=\"rotate(0,264.791878,64.957167)\">81</text>\n",
       "  <text x=\"102.395939\" y=\"112.726518\" font-size=\"1.0rem\" font-weight=\"100\" text-anchor=\"middle\" transform=\"rotate(45,102.395939,112.726518)\">25</text>\n",
       "</svg>\n",
       "        </td>\n",
       "    </tr>\n",
       "</table></div></li></ul></div></li><li class='xr-section-item'><input id='section-03f1fa48-4f3d-4f92-bdb6-372ea2fcae5f' class='xr-section-summary-in' type='checkbox' disabled ><label for='section-03f1fa48-4f3d-4f92-bdb6-372ea2fcae5f' class='xr-section-summary'  title='Expand/collapse section'>Attributes: <span>(0)</span></label><div class='xr-section-inline-details'></div><div class='xr-section-details'><dl class='xr-attrs'></dl></div></li></ul></div></div>"
      ],
      "text/plain": [
       "<xarray.Dataset>\n",
       "Dimensions:  (time: 24, lon: 121, lat: 81, member: 25, step: 3)\n",
       "Coordinates:\n",
       "  * time     (time) datetime64[ns] 1993-01-01 1994-01-01 ... 2016-01-01\n",
       "  * lon      (lon) float32 120.0 121.0 122.0 123.0 ... 237.0 238.0 239.0 240.0\n",
       "  * lat      (lat) float32 -50.0 -49.0 -48.0 -47.0 -46.0 ... 27.0 28.0 29.0 30.0\n",
       "  * member   (member) int32 0 1 2 3 4 5 6 7 8 9 ... 16 17 18 19 20 21 22 23 24\n",
       "  * step     (step) int64 3 4 5\n",
       "Data variables:\n",
       "    precip   (time, step, member, lat, lon) int64 dask.array<chunksize=(24, 3, 25, 10, 10), meta=np.ndarray>"
      ]
     },
     "execution_count": 35,
     "metadata": {},
     "output_type": "execute_result"
    }
   ],
   "source": [
    "quartiles_category"
   ]
  },
  {
   "cell_type": "markdown",
   "id": "d3e3b58f-51ee-4f41-af9e-27125957e242",
   "metadata": {
    "papermill": {
     "duration": 0.029586,
     "end_time": "2021-11-09T20:50:15.511359",
     "exception": false,
     "start_time": "2021-11-09T20:50:15.481773",
     "status": "completed"
    },
    "tags": []
   },
   "source": [
    "### Now calculate the probabilities as the proportion (along the `member` dimension) of members in each categories "
   ]
  },
  {
   "cell_type": "code",
   "execution_count": 36,
   "id": "78cabb87-fd47-4cf7-88a0-a4b33020cb85",
   "metadata": {
    "papermill": {
     "duration": 581.111167,
     "end_time": "2021-11-09T20:59:56.651870",
     "exception": false,
     "start_time": "2021-11-09T20:50:15.540703",
     "status": "completed"
    },
    "tags": []
   },
   "outputs": [
    {
     "name": "stdout",
     "output_type": "stream",
     "text": [
      "[########################################] | 100% Completed |  2min 39.1s\n",
      "[########################################] | 100% Completed |  2min 39.3s\n",
      "[########################################] | 100% Completed |  2min 42.3s\n",
      "[########################################] | 100% Completed |  2min 38.2s\n",
      "[########################################] | 100% Completed |  2min 38.3s\n",
      "[########################################] | 100% Completed |  2min 37.8s\n",
      "[########################################] | 100% Completed |  2min 37.1s\n",
      "[########################################] | 100% Completed |  2min 37.5s\n"
     ]
    }
   ],
   "source": [
    "with ProgressBar(): \n",
    "    quartiles_category_percent = C3S.calculate_quantiles_probabilities(quartiles_category, ncategories=4)"
   ]
  },
  {
   "cell_type": "markdown",
   "id": "4c4c8679-b8fa-407a-ab93-1c9545da384e",
   "metadata": {
    "papermill": {
     "duration": 0.196094,
     "end_time": "2021-11-09T20:59:57.047358",
     "exception": false,
     "start_time": "2021-11-09T20:59:56.851264",
     "status": "completed"
    },
    "tags": []
   },
   "source": [
    "### plots "
   ]
  },
  {
   "cell_type": "code",
   "execution_count": 37,
   "id": "8f48e2d4-c570-43ee-9d6c-f40239769fcd",
   "metadata": {
    "papermill": {
     "duration": 0.549324,
     "end_time": "2021-11-09T20:59:57.796967",
     "exception": false,
     "start_time": "2021-11-09T20:59:57.247643",
     "status": "completed"
    },
    "tags": []
   },
   "outputs": [
    {
     "data": {
      "text/plain": [
       "<xarray.plot.facetgrid.FacetGrid at 0x7f53f5c82160>"
      ]
     },
     "execution_count": 37,
     "metadata": {},
     "output_type": "execute_result"
    },
    {
     "data": {
      "image/png": "[encoded data removed]",
      "text/plain": [
       "<Figure size 936x216 with 5 Axes>"
      ]
     },
     "metadata": {
      "needs_background": "light"
     },
     "output_type": "display_data"
    }
   ],
   "source": [
    "quartiles_category_percent.isel(time=0, step=0)[varname_out].plot(col=quantile)"
   ]
  },
  {
   "cell_type": "code",
   "execution_count": 38,
   "id": "f8f67583-647d-4412-bcdd-053360f2a785",
   "metadata": {
    "papermill": {
     "duration": 0.456612,
     "end_time": "2021-11-09T20:59:58.455612",
     "exception": false,
     "start_time": "2021-11-09T20:59:57.999000",
     "status": "completed"
    },
    "tags": []
   },
   "outputs": [
    {
     "data": {
      "text/plain": [
       "<xarray.plot.facetgrid.FacetGrid at 0x7f53f5763700>"
      ]
     },
     "execution_count": 38,
     "metadata": {},
     "output_type": "execute_result"
    },
    {
     "data": {
      "image/png": "[encoded data removed]",
      "text/plain": [
       "<Figure size 936x216 with 5 Axes>"
      ]
     },
     "metadata": {
      "needs_background": "light"
     },
     "output_type": "display_data"
    }
   ],
   "source": [
    "quartiles_category_percent.isel(time=-1, step=0)[varname_out].plot(col=quantile)"
   ]
  },
  {
   "cell_type": "markdown",
   "id": "24270dcf-fd4a-4844-a520-a3363e718fb1",
   "metadata": {
    "papermill": {
     "duration": 0.205025,
     "end_time": "2021-11-09T20:59:58.869034",
     "exception": false,
     "start_time": "2021-11-09T20:59:58.664009",
     "status": "completed"
    },
    "tags": []
   },
   "source": [
    "### most likely category "
   ]
  },
  {
   "cell_type": "code",
   "execution_count": 39,
   "id": "b73849ad-a387-4045-8d31-66fe0ef8b9ed",
   "metadata": {
    "papermill": {
     "duration": 0.372303,
     "end_time": "2021-11-09T20:59:59.446480",
     "exception": false,
     "start_time": "2021-11-09T20:59:59.074177",
     "status": "completed"
    },
    "tags": []
   },
   "outputs": [
    {
     "data": {
      "text/plain": [
       "<matplotlib.collections.QuadMesh at 0x7f53f54f5160>"
      ]
     },
     "execution_count": 39,
     "metadata": {},
     "output_type": "execute_result"
    },
    {
     "data": {
      "image/png": "[encoded data removed]",
      "text/plain": [
       "<Figure size 432x288 with 2 Axes>"
      ]
     },
     "metadata": {
      "needs_background": "light"
     },
     "output_type": "display_data"
    }
   ],
   "source": [
    "quartiles_category_percent.idxmax(dim=quantile)[varname_out].isel(time=0, step=0).plot(levels=[1,2,3,4,5])"
   ]
  },
  {
   "cell_type": "code",
   "execution_count": 40,
   "id": "d3ae4dc6-f6b0-4355-8851-2d8904cba50c",
   "metadata": {
    "papermill": {
     "duration": 0.355042,
     "end_time": "2021-11-09T20:59:59.999023",
     "exception": false,
     "start_time": "2021-11-09T20:59:59.643981",
     "status": "completed"
    },
    "tags": []
   },
   "outputs": [
    {
     "data": {
      "text/plain": [
       "<matplotlib.collections.QuadMesh at 0x7f53f542d7f0>"
      ]
     },
     "execution_count": 40,
     "metadata": {},
     "output_type": "execute_result"
    },
    {
     "data": {
      "image/png": "[encoded data removed]",
      "text/plain": [
       "<Figure size 432x288 with 2 Axes>"
      ]
     },
     "metadata": {
      "needs_background": "light"
     },
     "output_type": "display_data"
    }
   ],
   "source": [
    "quartiles_category_percent.idxmax(dim=quantile)[varname_out].isel(time=-1, step=0).plot(levels=[1,2,3,4,5])"
   ]
  },
  {
   "cell_type": "code",
   "execution_count": 41,
   "id": "f8c03564-488b-479e-b26b-3edf5f03e365",
   "metadata": {
    "papermill": {
     "duration": 0.222129,
     "end_time": "2021-11-09T21:00:00.428698",
     "exception": false,
     "start_time": "2021-11-09T21:00:00.206569",
     "status": "completed"
    },
    "tags": []
   },
   "outputs": [
    {
     "data": {
      "text/plain": [
       "'ECMWF'"
      ]
     },
     "execution_count": 41,
     "metadata": {},
     "output_type": "execute_result"
    }
   ],
   "source": [
    "GCM"
   ]
  },
  {
   "cell_type": "code",
   "execution_count": 42,
   "id": "25ed91c0-3fb9-48be-a1c2-5e2b59b554f3",
   "metadata": {
    "papermill": {
     "duration": 0.213923,
     "end_time": "2021-11-09T21:00:00.849894",
     "exception": false,
     "start_time": "2021-11-09T21:00:00.635971",
     "status": "completed"
    },
    "tags": []
   },
   "outputs": [
    {
     "data": {
      "text/plain": [
       "'seasonal'"
      ]
     },
     "execution_count": 42,
     "metadata": {},
     "output_type": "execute_result"
    }
   ],
   "source": [
    "period "
   ]
  },
  {
   "cell_type": "code",
   "execution_count": 43,
   "id": "b417fbd2-c075-4691-a808-a4043f1046fa",
   "metadata": {
    "papermill": {
     "duration": 0.213922,
     "end_time": "2021-11-09T21:00:01.263401",
     "exception": false,
     "start_time": "2021-11-09T21:00:01.049479",
     "status": "completed"
    },
    "tags": []
   },
   "outputs": [
    {
     "data": {
      "text/plain": [
       "'quartile'"
      ]
     },
     "execution_count": 43,
     "metadata": {},
     "output_type": "execute_result"
    }
   ],
   "source": [
    "quantile"
   ]
  },
  {
   "cell_type": "markdown",
   "id": "5166b5e5-494c-4121-9353-42af5ad36924",
   "metadata": {
    "papermill": {
     "duration": 0.198828,
     "end_time": "2021-11-09T21:00:01.661291",
     "exception": false,
     "start_time": "2021-11-09T21:00:01.462463",
     "status": "completed"
    },
    "tags": []
   },
   "source": [
    "### now saves the tercile probabilities for each year, for the corresponding month "
   ]
  },
  {
   "cell_type": "code",
   "execution_count": 44,
   "id": "9007e8b9-22ca-4447-a72c-6466dd2185c1",
   "metadata": {
    "papermill": {
     "duration": 0.217252,
     "end_time": "2021-11-09T21:00:02.077473",
     "exception": false,
     "start_time": "2021-11-09T21:00:01.860221",
     "status": "completed"
    },
    "tags": []
   },
   "outputs": [],
   "source": [
    "opath_probs = gcm_path.joinpath(f\"{GCM}/{quantile}_probs/{varname.upper()}\")"
   ]
  },
  {
   "cell_type": "code",
   "execution_count": 45,
   "id": "5ac7aedb-62f5-459b-8c05-3b29138701bf",
   "metadata": {
    "papermill": {
     "duration": 0.215323,
     "end_time": "2021-11-09T21:00:02.502105",
     "exception": false,
     "start_time": "2021-11-09T21:00:02.286782",
     "status": "completed"
    },
    "tags": []
   },
   "outputs": [],
   "source": [
    "if not opath_probs.exists(): \n",
    "    opath_probs.mkdir(parents=True)"
   ]
  },
  {
   "cell_type": "code",
   "execution_count": 46,
   "id": "2b8dfc68-23e5-4e06-a0f7-317ed9f1d0d7",
   "metadata": {
    "papermill": {
     "duration": 3.442081,
     "end_time": "2021-11-09T21:00:06.172148",
     "exception": false,
     "start_time": "2021-11-09T21:00:02.730067",
     "status": "completed"
    },
    "tags": []
   },
   "outputs": [],
   "source": [
    "for date in quartiles_category_percent.time.to_index(): \n",
    "    sub = quartiles_category_percent.sel(time=date)\n",
    "    sub = sub.expand_dims({'time':[date]})\n",
    "    sub.to_netcdf(opath_probs.joinpath(f\"{GCM}_{period}_{quantile}s_probs_{date:%Y-%m}.netcdf\"))"
   ]
  },
  {
   "cell_type": "code",
   "execution_count": null,
   "id": "cdcc520b-4cec-4196-a280-36e4060efc8f",
   "metadata": {},
   "outputs": [],
   "source": []
  }
 ],
 "metadata": {
  "kernelspec": {
   "display_name": "Python 3",
   "language": "python",
   "name": "python3"
  },
  "language_info": {
   "codemirror_mode": {
    "name": "ipython",
    "version": 3
   },
   "file_extension": ".py",
   "mimetype": "text/x-python",
   "name": "python",
   "nbconvert_exporter": "python",
   "pygments_lexer": "ipython3",
   "version": "3.8.10"
  },
  "papermill": {
   "default_parameters": {},
   "duration": 603.119299,
   "end_time": "2021-11-09T21:00:06.909814",
   "environment_variables": {},
   "exception": null,
   "input_path": "calculate_C3S_GCMs_hindcast_tercile_probabilities.ipynb",
   "output_path": "calculate_C3S_GCMs_hindcast_tercile_probabilities.ipynb",
   "parameters": {
    "GCM": "JMA",
    "month": 12,
    "period": "monthly"
   },
   "start_time": "2021-11-09T20:50:03.790515",
   "version": "2.3.3"
  }
 },
 "nbformat": 4,
 "nbformat_minor": 5
}
