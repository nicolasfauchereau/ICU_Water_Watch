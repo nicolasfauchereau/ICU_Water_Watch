{
 "cells": [
  {
   "cell_type": "code",
   "execution_count": 1,
   "id": "fbc792ea-9d7d-4106-8d42-152030dc812c",
   "metadata": {},
   "outputs": [],
   "source": [
    "import sys \n",
    "import os "
   ]
  },
  {
   "cell_type": "code",
   "execution_count": 2,
   "id": "ce548c8d-f120-4a74-9fb1-84b3fa0471a8",
   "metadata": {},
   "outputs": [],
   "source": [
    "import pathlib\n",
    "\n",
    "HOME = pathlib.Path.home()\n",
    "CWD = pathlib.Path.cwd() "
   ]
  },
  {
   "cell_type": "code",
   "execution_count": 3,
   "id": "71ce1dbc-0de0-4f42-87d2-150cf4275371",
   "metadata": {},
   "outputs": [],
   "source": [
    "import papermill as pm"
   ]
  },
  {
   "cell_type": "markdown",
   "id": "6777361a-cc92-4a02-bd53-3b3b616e6b2e",
   "metadata": {},
   "source": [
    "### set the initial month in relative terms here "
   ]
  },
  {
   "cell_type": "code",
   "execution_count": 4,
   "id": "b49e0282-1fcb-4d6b-b378-c97ffeee27ec",
   "metadata": {},
   "outputs": [],
   "source": [
    "date = \"this month\""
   ]
  },
  {
   "cell_type": "markdown",
   "id": "0862bd4f-ae8d-4f54-b115-57dbd1a7bca8",
   "metadata": {},
   "source": [
    "### list of notebooks to run"
   ]
  },
  {
   "cell_type": "code",
   "execution_count": 5,
   "id": "0d3c0fa6-bc36-48d8-b18e-65d314fde491",
   "metadata": {},
   "outputs": [],
   "source": [
    "notebook_names = ['5_map_C3S_MME_probabilistic_decile_forecast.ipynb', \\\n",
    "                '5_map_C3S_MME_probabilistic_percentile_forecast.ipynb', \\\n",
    "                '5_map_C3S_MME_probabilistic_tercile_forecast.ipynb']"
   ]
  },
  {
   "cell_type": "markdown",
   "id": "c9302c90-3f07-4a42-b9d6-c5b8ba2ba776",
   "metadata": {},
   "source": [
    "### dictionnary mapping periods to list of leadtimes "
   ]
  },
  {
   "cell_type": "code",
   "execution_count": 6,
   "id": "041f4127-cc5b-4b2f-b700-c21c542b7a3e",
   "metadata": {},
   "outputs": [],
   "source": [
    "config = {}\n",
    "\n",
    "config['monthly'] = [1,2,3,4,5]\n",
    "\n",
    "config['seasonal'] = [1,2,3]"
   ]
  },
  {
   "cell_type": "code",
   "execution_count": 7,
   "id": "e6ef098b-5b00-423f-9a72-7e6fcbf2daa3",
   "metadata": {},
   "outputs": [
    {
     "name": "stdout",
     "output_type": "stream",
     "text": [
      "now running 5_map_C3S_MME_probabilistic_decile_forecast.ipynb\n",
      "\n",
      "executing 5_map_C3S_MME_probabilistic_decile_forecast.ipynb for period monthly, lead 1\n"
     ]
    },
    {
     "data": {
      "application/vnd.jupyter.widget-view+json": {
       "model_id": "bf5019ee95d44425a1548c8d0cef76c6",
       "version_major": 2,
       "version_minor": 0
      },
      "text/plain": [
       "Executing:   0%|          | 0/93 [00:00<?, ?cell/s]"
      ]
     },
     "metadata": {},
     "output_type": "display_data"
    },
    {
     "name": "stdout",
     "output_type": "stream",
     "text": [
      "executing 5_map_C3S_MME_probabilistic_decile_forecast.ipynb for period monthly, lead 2\n"
     ]
    },
    {
     "data": {
      "application/vnd.jupyter.widget-view+json": {
       "model_id": "faf3adb813454e72b96645f9f1653595",
       "version_major": 2,
       "version_minor": 0
      },
      "text/plain": [
       "Executing:   0%|          | 0/93 [00:00<?, ?cell/s]"
      ]
     },
     "metadata": {},
     "output_type": "display_data"
    },
    {
     "name": "stdout",
     "output_type": "stream",
     "text": [
      "executing 5_map_C3S_MME_probabilistic_decile_forecast.ipynb for period monthly, lead 3\n"
     ]
    },
    {
     "data": {
      "application/vnd.jupyter.widget-view+json": {
       "model_id": "8b2925bac514444cb1497c6cbbf69019",
       "version_major": 2,
       "version_minor": 0
      },
      "text/plain": [
       "Executing:   0%|          | 0/93 [00:00<?, ?cell/s]"
      ]
     },
     "metadata": {},
     "output_type": "display_data"
    },
    {
     "name": "stdout",
     "output_type": "stream",
     "text": [
      "executing 5_map_C3S_MME_probabilistic_decile_forecast.ipynb for period monthly, lead 4\n"
     ]
    },
    {
     "data": {
      "application/vnd.jupyter.widget-view+json": {
       "model_id": "51c41b212ddb43b0937c7bdda11ad1df",
       "version_major": 2,
       "version_minor": 0
      },
      "text/plain": [
       "Executing:   0%|          | 0/93 [00:00<?, ?cell/s]"
      ]
     },
     "metadata": {},
     "output_type": "display_data"
    },
    {
     "name": "stdout",
     "output_type": "stream",
     "text": [
      "executing 5_map_C3S_MME_probabilistic_decile_forecast.ipynb for period monthly, lead 5\n"
     ]
    },
    {
     "data": {
      "application/vnd.jupyter.widget-view+json": {
       "model_id": "96f4c64222ee485e8a6638612948a692",
       "version_major": 2,
       "version_minor": 0
      },
      "text/plain": [
       "Executing:   0%|          | 0/93 [00:00<?, ?cell/s]"
      ]
     },
     "metadata": {},
     "output_type": "display_data"
    },
    {
     "name": "stdout",
     "output_type": "stream",
     "text": [
      "executing 5_map_C3S_MME_probabilistic_decile_forecast.ipynb for period seasonal, lead 1\n"
     ]
    },
    {
     "data": {
      "application/vnd.jupyter.widget-view+json": {
       "model_id": "70400499b137412eb1a349b9b2e26641",
       "version_major": 2,
       "version_minor": 0
      },
      "text/plain": [
       "Executing:   0%|          | 0/93 [00:00<?, ?cell/s]"
      ]
     },
     "metadata": {},
     "output_type": "display_data"
    },
    {
     "name": "stdout",
     "output_type": "stream",
     "text": [
      "executing 5_map_C3S_MME_probabilistic_decile_forecast.ipynb for period seasonal, lead 2\n"
     ]
    },
    {
     "data": {
      "application/vnd.jupyter.widget-view+json": {
       "model_id": "d9e42b5beb574e80bc3f9fc9551bc2d4",
       "version_major": 2,
       "version_minor": 0
      },
      "text/plain": [
       "Executing:   0%|          | 0/93 [00:00<?, ?cell/s]"
      ]
     },
     "metadata": {},
     "output_type": "display_data"
    },
    {
     "name": "stdout",
     "output_type": "stream",
     "text": [
      "executing 5_map_C3S_MME_probabilistic_decile_forecast.ipynb for period seasonal, lead 3\n"
     ]
    },
    {
     "data": {
      "application/vnd.jupyter.widget-view+json": {
       "model_id": "4b746d2c06554d3389ff34b8bc01859a",
       "version_major": 2,
       "version_minor": 0
      },
      "text/plain": [
       "Executing:   0%|          | 0/93 [00:00<?, ?cell/s]"
      ]
     },
     "metadata": {},
     "output_type": "display_data"
    },
    {
     "name": "stdout",
     "output_type": "stream",
     "text": [
      "now running 5_map_C3S_MME_probabilistic_percentile_forecast.ipynb\n",
      "\n",
      "executing 5_map_C3S_MME_probabilistic_percentile_forecast.ipynb for period monthly, lead 1\n"
     ]
    },
    {
     "data": {
      "application/vnd.jupyter.widget-view+json": {
       "model_id": "f0760a5baabd4e15a92799705aa56aa7",
       "version_major": 2,
       "version_minor": 0
      },
      "text/plain": [
       "Executing:   0%|          | 0/82 [00:00<?, ?cell/s]"
      ]
     },
     "metadata": {},
     "output_type": "display_data"
    },
    {
     "name": "stdout",
     "output_type": "stream",
     "text": [
      "executing 5_map_C3S_MME_probabilistic_percentile_forecast.ipynb for period monthly, lead 2\n"
     ]
    },
    {
     "data": {
      "application/vnd.jupyter.widget-view+json": {
       "model_id": "2b00acf7507b45f799a8f8368f7209ea",
       "version_major": 2,
       "version_minor": 0
      },
      "text/plain": [
       "Executing:   0%|          | 0/82 [00:00<?, ?cell/s]"
      ]
     },
     "metadata": {},
     "output_type": "display_data"
    },
    {
     "name": "stdout",
     "output_type": "stream",
     "text": [
      "executing 5_map_C3S_MME_probabilistic_percentile_forecast.ipynb for period monthly, lead 3\n"
     ]
    },
    {
     "data": {
      "application/vnd.jupyter.widget-view+json": {
       "model_id": "6f5085d5bb6047b1935f35989ac2b0fb",
       "version_major": 2,
       "version_minor": 0
      },
      "text/plain": [
       "Executing:   0%|          | 0/82 [00:00<?, ?cell/s]"
      ]
     },
     "metadata": {},
     "output_type": "display_data"
    },
    {
     "name": "stdout",
     "output_type": "stream",
     "text": [
      "executing 5_map_C3S_MME_probabilistic_percentile_forecast.ipynb for period monthly, lead 4\n"
     ]
    },
    {
     "data": {
      "application/vnd.jupyter.widget-view+json": {
       "model_id": "dc4b98cc19e341feba09c4e288946bba",
       "version_major": 2,
       "version_minor": 0
      },
      "text/plain": [
       "Executing:   0%|          | 0/82 [00:00<?, ?cell/s]"
      ]
     },
     "metadata": {},
     "output_type": "display_data"
    },
    {
     "name": "stdout",
     "output_type": "stream",
     "text": [
      "executing 5_map_C3S_MME_probabilistic_percentile_forecast.ipynb for period monthly, lead 5\n"
     ]
    },
    {
     "data": {
      "application/vnd.jupyter.widget-view+json": {
       "model_id": "59eda83a33db4c2796bffd823a12e31a",
       "version_major": 2,
       "version_minor": 0
      },
      "text/plain": [
       "Executing:   0%|          | 0/82 [00:00<?, ?cell/s]"
      ]
     },
     "metadata": {},
     "output_type": "display_data"
    },
    {
     "name": "stdout",
     "output_type": "stream",
     "text": [
      "executing 5_map_C3S_MME_probabilistic_percentile_forecast.ipynb for period seasonal, lead 1\n"
     ]
    },
    {
     "data": {
      "application/vnd.jupyter.widget-view+json": {
       "model_id": "9073a30727e3466dbf65da19747b6daa",
       "version_major": 2,
       "version_minor": 0
      },
      "text/plain": [
       "Executing:   0%|          | 0/82 [00:00<?, ?cell/s]"
      ]
     },
     "metadata": {},
     "output_type": "display_data"
    },
    {
     "name": "stdout",
     "output_type": "stream",
     "text": [
      "executing 5_map_C3S_MME_probabilistic_percentile_forecast.ipynb for period seasonal, lead 2\n"
     ]
    },
    {
     "data": {
      "application/vnd.jupyter.widget-view+json": {
       "model_id": "26cdcfcd008a4ed68843d4cf86d6c949",
       "version_major": 2,
       "version_minor": 0
      },
      "text/plain": [
       "Executing:   0%|          | 0/82 [00:00<?, ?cell/s]"
      ]
     },
     "metadata": {},
     "output_type": "display_data"
    },
    {
     "name": "stdout",
     "output_type": "stream",
     "text": [
      "executing 5_map_C3S_MME_probabilistic_percentile_forecast.ipynb for period seasonal, lead 3\n"
     ]
    },
    {
     "data": {
      "application/vnd.jupyter.widget-view+json": {
       "model_id": "c1c21f169b0b42339cd3dc0ae82c7bbf",
       "version_major": 2,
       "version_minor": 0
      },
      "text/plain": [
       "Executing:   0%|          | 0/82 [00:00<?, ?cell/s]"
      ]
     },
     "metadata": {},
     "output_type": "display_data"
    },
    {
     "name": "stdout",
     "output_type": "stream",
     "text": [
      "now running 5_map_C3S_MME_probabilistic_tercile_forecast.ipynb\n",
      "\n",
      "executing 5_map_C3S_MME_probabilistic_tercile_forecast.ipynb for period monthly, lead 1\n"
     ]
    },
    {
     "data": {
      "application/vnd.jupyter.widget-view+json": {
       "model_id": "b56052152a424ec8a12eead20329ea13",
       "version_major": 2,
       "version_minor": 0
      },
      "text/plain": [
       "Executing:   0%|          | 0/79 [00:00<?, ?cell/s]"
      ]
     },
     "metadata": {},
     "output_type": "display_data"
    },
    {
     "name": "stdout",
     "output_type": "stream",
     "text": [
      "executing 5_map_C3S_MME_probabilistic_tercile_forecast.ipynb for period monthly, lead 2\n"
     ]
    },
    {
     "data": {
      "application/vnd.jupyter.widget-view+json": {
       "model_id": "eac7514356ef4821ae97ca89d1ace2f7",
       "version_major": 2,
       "version_minor": 0
      },
      "text/plain": [
       "Executing:   0%|          | 0/79 [00:00<?, ?cell/s]"
      ]
     },
     "metadata": {},
     "output_type": "display_data"
    },
    {
     "name": "stdout",
     "output_type": "stream",
     "text": [
      "executing 5_map_C3S_MME_probabilistic_tercile_forecast.ipynb for period monthly, lead 3\n"
     ]
    },
    {
     "data": {
      "application/vnd.jupyter.widget-view+json": {
       "model_id": "3c2d677c7602431fa875fb5aae4d8b7b",
       "version_major": 2,
       "version_minor": 0
      },
      "text/plain": [
       "Executing:   0%|          | 0/79 [00:00<?, ?cell/s]"
      ]
     },
     "metadata": {},
     "output_type": "display_data"
    },
    {
     "name": "stdout",
     "output_type": "stream",
     "text": [
      "executing 5_map_C3S_MME_probabilistic_tercile_forecast.ipynb for period monthly, lead 4\n"
     ]
    },
    {
     "data": {
      "application/vnd.jupyter.widget-view+json": {
       "model_id": "ad5a964c60fa4478acf078e03b02aaf8",
       "version_major": 2,
       "version_minor": 0
      },
      "text/plain": [
       "Executing:   0%|          | 0/79 [00:00<?, ?cell/s]"
      ]
     },
     "metadata": {},
     "output_type": "display_data"
    },
    {
     "name": "stdout",
     "output_type": "stream",
     "text": [
      "executing 5_map_C3S_MME_probabilistic_tercile_forecast.ipynb for period monthly, lead 5\n"
     ]
    },
    {
     "data": {
      "application/vnd.jupyter.widget-view+json": {
       "model_id": "08bf8b66c99147ed940f7448d30ebba3",
       "version_major": 2,
       "version_minor": 0
      },
      "text/plain": [
       "Executing:   0%|          | 0/79 [00:00<?, ?cell/s]"
      ]
     },
     "metadata": {},
     "output_type": "display_data"
    },
    {
     "name": "stdout",
     "output_type": "stream",
     "text": [
      "executing 5_map_C3S_MME_probabilistic_tercile_forecast.ipynb for period seasonal, lead 1\n"
     ]
    },
    {
     "data": {
      "application/vnd.jupyter.widget-view+json": {
       "model_id": "68e1493e8829454c98ddaf54c6bf9dce",
       "version_major": 2,
       "version_minor": 0
      },
      "text/plain": [
       "Executing:   0%|          | 0/79 [00:00<?, ?cell/s]"
      ]
     },
     "metadata": {},
     "output_type": "display_data"
    },
    {
     "name": "stdout",
     "output_type": "stream",
     "text": [
      "executing 5_map_C3S_MME_probabilistic_tercile_forecast.ipynb for period seasonal, lead 2\n"
     ]
    },
    {
     "data": {
      "application/vnd.jupyter.widget-view+json": {
       "model_id": "cf344f22357344f6bb67a2b7cd86ab5e",
       "version_major": 2,
       "version_minor": 0
      },
      "text/plain": [
       "Executing:   0%|          | 0/79 [00:00<?, ?cell/s]"
      ]
     },
     "metadata": {},
     "output_type": "display_data"
    },
    {
     "name": "stdout",
     "output_type": "stream",
     "text": [
      "executing 5_map_C3S_MME_probabilistic_tercile_forecast.ipynb for period seasonal, lead 3\n"
     ]
    },
    {
     "data": {
      "application/vnd.jupyter.widget-view+json": {
       "model_id": "9fa24e1525b547ef95cae35e0e78c8fa",
       "version_major": 2,
       "version_minor": 0
      },
      "text/plain": [
       "Executing:   0%|          | 0/79 [00:00<?, ?cell/s]"
      ]
     },
     "metadata": {},
     "output_type": "display_data"
    }
   ],
   "source": [
    "for notebook_name in notebook_names: \n",
    "    \n",
    "    print(f\"now running {notebook_name}\\n\")\n",
    "\n",
    "    for k in config.keys(): \n",
    "\n",
    "        for lead in config[k]: \n",
    "\n",
    "            print(f\"executing {notebook_name} for period {k}, lead {lead}\")\n",
    "\n",
    "            pm.execute_notebook(\n",
    "            f'{str(CWD.joinpath(notebook_name))}',\n",
    "            f'{str(CWD.joinpath(notebook_name))}',\n",
    "            parameters=dict(period=k, lead=lead, date=date)\n",
    "            )"
   ]
  },
  {
   "cell_type": "code",
   "execution_count": null,
   "id": "e041cc93-912b-47eb-81cb-03690c0ccff9",
   "metadata": {},
   "outputs": [],
   "source": []
  },
  {
   "cell_type": "code",
   "execution_count": null,
   "id": "9bafb5a4-e8de-406d-8601-334d076c7662",
   "metadata": {},
   "outputs": [],
   "source": []
  }
 ],
 "metadata": {
  "kernelspec": {
   "display_name": "Python 3 (ipykernel)",
   "language": "python",
   "name": "python3"
  },
  "language_info": {
   "codemirror_mode": {
    "name": "ipython",
    "version": 3
   },
   "file_extension": ".py",
   "mimetype": "text/x-python",
   "name": "python",
   "nbconvert_exporter": "python",
   "pygments_lexer": "ipython3",
   "version": "3.9.10"
  }
 },
 "nbformat": 4,
 "nbformat_minor": 5
}
