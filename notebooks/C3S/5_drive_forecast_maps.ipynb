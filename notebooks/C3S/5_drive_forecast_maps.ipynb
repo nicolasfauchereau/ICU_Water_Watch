{
 "cells": [
  {
   "cell_type": "code",
   "execution_count": 7,
   "id": "fbc792ea-9d7d-4106-8d42-152030dc812c",
   "metadata": {},
   "outputs": [],
   "source": [
    "import sys \n",
    "import os "
   ]
  },
  {
   "cell_type": "code",
   "execution_count": 8,
   "id": "ce548c8d-f120-4a74-9fb1-84b3fa0471a8",
   "metadata": {},
   "outputs": [],
   "source": [
    "import pathlib\n",
    "\n",
    "HOME = pathlib.Path.home()\n",
    "CWD = pathlib.Path.cwd() "
   ]
  },
  {
   "cell_type": "code",
   "execution_count": 9,
   "id": "71ce1dbc-0de0-4f42-87d2-150cf4275371",
   "metadata": {},
   "outputs": [],
   "source": [
    "import papermill as pm"
   ]
  },
  {
   "cell_type": "markdown",
   "id": "6777361a-cc92-4a02-bd53-3b3b616e6b2e",
   "metadata": {},
   "source": [
    "### set the initial month in relative terms here "
   ]
  },
  {
   "cell_type": "code",
   "execution_count": 10,
   "id": "b49e0282-1fcb-4d6b-b378-c97ffeee27ec",
   "metadata": {},
   "outputs": [],
   "source": [
    "date = \"this month\""
   ]
  },
  {
   "cell_type": "markdown",
   "id": "0862bd4f-ae8d-4f54-b115-57dbd1a7bca8",
   "metadata": {},
   "source": [
    "### list of notebooks to run"
   ]
  },
  {
   "cell_type": "code",
   "execution_count": 11,
   "id": "0d3c0fa6-bc36-48d8-b18e-65d314fde491",
   "metadata": {},
   "outputs": [],
   "source": [
    "notebook_names = ['5_map_C3S_MME_probabilistic_tercile_forecast.ipynb', \\\n",
    "                  '5_map_C3S_MME_probabilistic_decile_forecast.ipynb', \\\n",
    "                  '5_map_C3S_MME_probabilistic_percentile_forecast.ipynb']"
   ]
  },
  {
   "cell_type": "markdown",
   "id": "c9302c90-3f07-4a42-b9d6-c5b8ba2ba776",
   "metadata": {},
   "source": [
    "### dictionnary mapping periods to list of leadtimes "
   ]
  },
  {
   "cell_type": "code",
   "execution_count": 12,
   "id": "041f4127-cc5b-4b2f-b700-c21c542b7a3e",
   "metadata": {},
   "outputs": [],
   "source": [
    "config = {}\n",
    "\n",
    "config['monthly'] = [1,2,3,4,5]\n",
    "\n",
    "config['seasonal'] = [1,2,3]"
   ]
  },
  {
   "cell_type": "code",
   "execution_count": 13,
   "id": "e6ef098b-5b00-423f-9a72-7e6fcbf2daa3",
   "metadata": {},
   "outputs": [
    {
     "name": "stdout",
     "output_type": "stream",
     "text": [
      "now running 5_map_C3S_MME_probabilistic_tercile_forecast.ipynb\n",
      "\n",
      "executing 5_map_C3S_MME_probabilistic_tercile_forecast.ipynb for period monthly, lead 1\n"
     ]
    },
    {
     "data": {
      "application/vnd.jupyter.widget-view+json": {
       "model_id": "79ed085d516b415aa7fb0ac66cbf88f4",
       "version_major": 2,
       "version_minor": 0
      },
      "text/plain": [
       "Executing:   0%|          | 0/76 [00:00<?, ?cell/s]"
      ]
     },
     "metadata": {},
     "output_type": "display_data"
    },
    {
     "name": "stdout",
     "output_type": "stream",
     "text": [
      "executing 5_map_C3S_MME_probabilistic_tercile_forecast.ipynb for period monthly, lead 2\n"
     ]
    },
    {
     "data": {
      "application/vnd.jupyter.widget-view+json": {
       "model_id": "8d92e08be86f4df5aa9868784039f36e",
       "version_major": 2,
       "version_minor": 0
      },
      "text/plain": [
       "Executing:   0%|          | 0/76 [00:00<?, ?cell/s]"
      ]
     },
     "metadata": {},
     "output_type": "display_data"
    },
    {
     "name": "stdout",
     "output_type": "stream",
     "text": [
      "executing 5_map_C3S_MME_probabilistic_tercile_forecast.ipynb for period monthly, lead 3\n"
     ]
    },
    {
     "data": {
      "application/vnd.jupyter.widget-view+json": {
       "model_id": "5664e5f345584fd3a94ccf2fb7ffc4db",
       "version_major": 2,
       "version_minor": 0
      },
      "text/plain": [
       "Executing:   0%|          | 0/76 [00:00<?, ?cell/s]"
      ]
     },
     "metadata": {},
     "output_type": "display_data"
    },
    {
     "name": "stdout",
     "output_type": "stream",
     "text": [
      "executing 5_map_C3S_MME_probabilistic_tercile_forecast.ipynb for period monthly, lead 4\n"
     ]
    },
    {
     "data": {
      "application/vnd.jupyter.widget-view+json": {
       "model_id": "8e5636134bdf433ea369294868fd7bc4",
       "version_major": 2,
       "version_minor": 0
      },
      "text/plain": [
       "Executing:   0%|          | 0/76 [00:00<?, ?cell/s]"
      ]
     },
     "metadata": {},
     "output_type": "display_data"
    },
    {
     "name": "stdout",
     "output_type": "stream",
     "text": [
      "executing 5_map_C3S_MME_probabilistic_tercile_forecast.ipynb for period monthly, lead 5\n"
     ]
    },
    {
     "data": {
      "application/vnd.jupyter.widget-view+json": {
       "model_id": "f67df3a5ed93450e9b8879196d0ce075",
       "version_major": 2,
       "version_minor": 0
      },
      "text/plain": [
       "Executing:   0%|          | 0/76 [00:00<?, ?cell/s]"
      ]
     },
     "metadata": {},
     "output_type": "display_data"
    },
    {
     "name": "stdout",
     "output_type": "stream",
     "text": [
      "executing 5_map_C3S_MME_probabilistic_tercile_forecast.ipynb for period seasonal, lead 1\n"
     ]
    },
    {
     "data": {
      "application/vnd.jupyter.widget-view+json": {
       "model_id": "020a3fa251794c79b6f5a9eb48158977",
       "version_major": 2,
       "version_minor": 0
      },
      "text/plain": [
       "Executing:   0%|          | 0/76 [00:00<?, ?cell/s]"
      ]
     },
     "metadata": {},
     "output_type": "display_data"
    },
    {
     "name": "stdout",
     "output_type": "stream",
     "text": [
      "executing 5_map_C3S_MME_probabilistic_tercile_forecast.ipynb for period seasonal, lead 2\n"
     ]
    },
    {
     "data": {
      "application/vnd.jupyter.widget-view+json": {
       "model_id": "2caf7d71cd254759b997975b0939bcb2",
       "version_major": 2,
       "version_minor": 0
      },
      "text/plain": [
       "Executing:   0%|          | 0/76 [00:00<?, ?cell/s]"
      ]
     },
     "metadata": {},
     "output_type": "display_data"
    },
    {
     "name": "stdout",
     "output_type": "stream",
     "text": [
      "executing 5_map_C3S_MME_probabilistic_tercile_forecast.ipynb for period seasonal, lead 3\n"
     ]
    },
    {
     "data": {
      "application/vnd.jupyter.widget-view+json": {
       "model_id": "cd02ef1c60ea45909e19c54b704c0b8c",
       "version_major": 2,
       "version_minor": 0
      },
      "text/plain": [
       "Executing:   0%|          | 0/76 [00:00<?, ?cell/s]"
      ]
     },
     "metadata": {},
     "output_type": "display_data"
    },
    {
     "name": "stdout",
     "output_type": "stream",
     "text": [
      "now running 5_map_C3S_MME_probabilistic_percentile_forecast.ipynb\n",
      "\n",
      "executing 5_map_C3S_MME_probabilistic_percentile_forecast.ipynb for period monthly, lead 1\n"
     ]
    },
    {
     "data": {
      "application/vnd.jupyter.widget-view+json": {
       "model_id": "d041b88052bc476c842ca7de250d3bc7",
       "version_major": 2,
       "version_minor": 0
      },
      "text/plain": [
       "Executing:   0%|          | 0/79 [00:00<?, ?cell/s]"
      ]
     },
     "metadata": {},
     "output_type": "display_data"
    },
    {
     "name": "stdout",
     "output_type": "stream",
     "text": [
      "executing 5_map_C3S_MME_probabilistic_percentile_forecast.ipynb for period monthly, lead 2\n"
     ]
    },
    {
     "data": {
      "application/vnd.jupyter.widget-view+json": {
       "model_id": "d320d163a948465998fb69de7ff00564",
       "version_major": 2,
       "version_minor": 0
      },
      "text/plain": [
       "Executing:   0%|          | 0/79 [00:00<?, ?cell/s]"
      ]
     },
     "metadata": {},
     "output_type": "display_data"
    },
    {
     "name": "stdout",
     "output_type": "stream",
     "text": [
      "executing 5_map_C3S_MME_probabilistic_percentile_forecast.ipynb for period monthly, lead 3\n"
     ]
    },
    {
     "data": {
      "application/vnd.jupyter.widget-view+json": {
       "model_id": "48687eb2cf504d69ba7e4dbd9cb41999",
       "version_major": 2,
       "version_minor": 0
      },
      "text/plain": [
       "Executing:   0%|          | 0/79 [00:00<?, ?cell/s]"
      ]
     },
     "metadata": {},
     "output_type": "display_data"
    },
    {
     "name": "stdout",
     "output_type": "stream",
     "text": [
      "executing 5_map_C3S_MME_probabilistic_percentile_forecast.ipynb for period monthly, lead 4\n"
     ]
    },
    {
     "data": {
      "application/vnd.jupyter.widget-view+json": {
       "model_id": "387e2a6c679c46a98f473e5c26f3fe6a",
       "version_major": 2,
       "version_minor": 0
      },
      "text/plain": [
       "Executing:   0%|          | 0/79 [00:00<?, ?cell/s]"
      ]
     },
     "metadata": {},
     "output_type": "display_data"
    },
    {
     "name": "stdout",
     "output_type": "stream",
     "text": [
      "executing 5_map_C3S_MME_probabilistic_percentile_forecast.ipynb for period monthly, lead 5\n"
     ]
    },
    {
     "data": {
      "application/vnd.jupyter.widget-view+json": {
       "model_id": "db033851d45b40b3a95c265b79188ee2",
       "version_major": 2,
       "version_minor": 0
      },
      "text/plain": [
       "Executing:   0%|          | 0/79 [00:00<?, ?cell/s]"
      ]
     },
     "metadata": {},
     "output_type": "display_data"
    },
    {
     "name": "stdout",
     "output_type": "stream",
     "text": [
      "executing 5_map_C3S_MME_probabilistic_percentile_forecast.ipynb for period seasonal, lead 1\n"
     ]
    },
    {
     "data": {
      "application/vnd.jupyter.widget-view+json": {
       "model_id": "8ed6763f04364648a6353c1fe393a409",
       "version_major": 2,
       "version_minor": 0
      },
      "text/plain": [
       "Executing:   0%|          | 0/79 [00:00<?, ?cell/s]"
      ]
     },
     "metadata": {},
     "output_type": "display_data"
    },
    {
     "name": "stdout",
     "output_type": "stream",
     "text": [
      "executing 5_map_C3S_MME_probabilistic_percentile_forecast.ipynb for period seasonal, lead 2\n"
     ]
    },
    {
     "data": {
      "application/vnd.jupyter.widget-view+json": {
       "model_id": "c5ff1a7cd6bd45ecbd5a269c9d062abb",
       "version_major": 2,
       "version_minor": 0
      },
      "text/plain": [
       "Executing:   0%|          | 0/79 [00:00<?, ?cell/s]"
      ]
     },
     "metadata": {},
     "output_type": "display_data"
    },
    {
     "name": "stdout",
     "output_type": "stream",
     "text": [
      "executing 5_map_C3S_MME_probabilistic_percentile_forecast.ipynb for period seasonal, lead 3\n"
     ]
    },
    {
     "data": {
      "application/vnd.jupyter.widget-view+json": {
       "model_id": "4f5906f200314f0792d68e071f3f809c",
       "version_major": 2,
       "version_minor": 0
      },
      "text/plain": [
       "Executing:   0%|          | 0/79 [00:00<?, ?cell/s]"
      ]
     },
     "metadata": {},
     "output_type": "display_data"
    },
    {
     "name": "stdout",
     "output_type": "stream",
     "text": [
      "now running 5_map_C3S_MME_probabilistic_decile_forecast.ipynb\n",
      "\n",
      "executing 5_map_C3S_MME_probabilistic_decile_forecast.ipynb for period monthly, lead 1\n"
     ]
    },
    {
     "data": {
      "application/vnd.jupyter.widget-view+json": {
       "model_id": "7b1ea9fa1d4246beb9de4320703f86c5",
       "version_major": 2,
       "version_minor": 0
      },
      "text/plain": [
       "Executing:   0%|          | 0/92 [00:00<?, ?cell/s]"
      ]
     },
     "metadata": {},
     "output_type": "display_data"
    },
    {
     "name": "stdout",
     "output_type": "stream",
     "text": [
      "executing 5_map_C3S_MME_probabilistic_decile_forecast.ipynb for period monthly, lead 2\n"
     ]
    },
    {
     "data": {
      "application/vnd.jupyter.widget-view+json": {
       "model_id": "dbbc817a0d6947728712707244e126d8",
       "version_major": 2,
       "version_minor": 0
      },
      "text/plain": [
       "Executing:   0%|          | 0/92 [00:00<?, ?cell/s]"
      ]
     },
     "metadata": {},
     "output_type": "display_data"
    },
    {
     "name": "stdout",
     "output_type": "stream",
     "text": [
      "executing 5_map_C3S_MME_probabilistic_decile_forecast.ipynb for period monthly, lead 3\n"
     ]
    },
    {
     "data": {
      "application/vnd.jupyter.widget-view+json": {
       "model_id": "afdabb72b2554d4490fc5ce67ca68e35",
       "version_major": 2,
       "version_minor": 0
      },
      "text/plain": [
       "Executing:   0%|          | 0/92 [00:00<?, ?cell/s]"
      ]
     },
     "metadata": {},
     "output_type": "display_data"
    },
    {
     "name": "stdout",
     "output_type": "stream",
     "text": [
      "executing 5_map_C3S_MME_probabilistic_decile_forecast.ipynb for period monthly, lead 4\n"
     ]
    },
    {
     "data": {
      "application/vnd.jupyter.widget-view+json": {
       "model_id": "64d1b011168d4c3c99f707db8133cf59",
       "version_major": 2,
       "version_minor": 0
      },
      "text/plain": [
       "Executing:   0%|          | 0/92 [00:00<?, ?cell/s]"
      ]
     },
     "metadata": {},
     "output_type": "display_data"
    },
    {
     "name": "stdout",
     "output_type": "stream",
     "text": [
      "executing 5_map_C3S_MME_probabilistic_decile_forecast.ipynb for period monthly, lead 5\n"
     ]
    },
    {
     "data": {
      "application/vnd.jupyter.widget-view+json": {
       "model_id": "fb6bb39c24a54582b1de28532eb9464e",
       "version_major": 2,
       "version_minor": 0
      },
      "text/plain": [
       "Executing:   0%|          | 0/92 [00:00<?, ?cell/s]"
      ]
     },
     "metadata": {},
     "output_type": "display_data"
    },
    {
     "name": "stdout",
     "output_type": "stream",
     "text": [
      "executing 5_map_C3S_MME_probabilistic_decile_forecast.ipynb for period seasonal, lead 1\n"
     ]
    },
    {
     "data": {
      "application/vnd.jupyter.widget-view+json": {
       "model_id": "8a45e0bea66d4237b20d19547c2df70e",
       "version_major": 2,
       "version_minor": 0
      },
      "text/plain": [
       "Executing:   0%|          | 0/92 [00:00<?, ?cell/s]"
      ]
     },
     "metadata": {},
     "output_type": "display_data"
    },
    {
     "name": "stdout",
     "output_type": "stream",
     "text": [
      "executing 5_map_C3S_MME_probabilistic_decile_forecast.ipynb for period seasonal, lead 2\n"
     ]
    },
    {
     "data": {
      "application/vnd.jupyter.widget-view+json": {
       "model_id": "4a9b1faba14a4a9fb568c81f8235f466",
       "version_major": 2,
       "version_minor": 0
      },
      "text/plain": [
       "Executing:   0%|          | 0/92 [00:00<?, ?cell/s]"
      ]
     },
     "metadata": {},
     "output_type": "display_data"
    },
    {
     "name": "stdout",
     "output_type": "stream",
     "text": [
      "executing 5_map_C3S_MME_probabilistic_decile_forecast.ipynb for period seasonal, lead 3\n"
     ]
    },
    {
     "data": {
      "application/vnd.jupyter.widget-view+json": {
       "model_id": "b3634902cdb24597bc7c746cc9b93a15",
       "version_major": 2,
       "version_minor": 0
      },
      "text/plain": [
       "Executing:   0%|          | 0/92 [00:00<?, ?cell/s]"
      ]
     },
     "metadata": {},
     "output_type": "display_data"
    }
   ],
   "source": [
    "for notebook_name in notebook_names: \n",
    "    \n",
    "    print(f\"now running {notebook_name}\\n\")\n",
    "\n",
    "    for k in config.keys(): \n",
    "\n",
    "        for lead in config[k]: \n",
    "\n",
    "            print(f\"executing {notebook_name} for period {k}, lead {lead}\")\n",
    "\n",
    "            pm.execute_notebook(\n",
    "            f'{str(CWD.joinpath(notebook_name))}',\n",
    "            f'{str(CWD.joinpath(notebook_name))}',\n",
    "            parameters=dict(period=k, lead=lead, date=date)\n",
    "            )"
   ]
  },
  {
   "cell_type": "code",
   "execution_count": null,
   "id": "e041cc93-912b-47eb-81cb-03690c0ccff9",
   "metadata": {},
   "outputs": [],
   "source": []
  }
 ],
 "metadata": {
  "kernelspec": {
   "display_name": "Python 3",
   "language": "python",
   "name": "python3"
  },
  "language_info": {
   "codemirror_mode": {
    "name": "ipython",
    "version": 3
   },
   "file_extension": ".py",
   "mimetype": "text/x-python",
   "name": "python",
   "nbconvert_exporter": "python",
   "pygments_lexer": "ipython3",
   "version": "3.8.10"
  }
 },
 "nbformat": 4,
 "nbformat_minor": 5
}
