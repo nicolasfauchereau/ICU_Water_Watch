{
 "cells": [
  {
   "cell_type": "code",
   "execution_count": 1,
   "id": "b5bba804",
   "metadata": {
    "execution": {
     "iopub.execute_input": "2022-03-13T23:35:31.970320Z",
     "iopub.status.busy": "2022-03-13T23:35:31.969917Z",
     "iopub.status.idle": "2022-03-13T23:35:31.979136Z",
     "shell.execute_reply": "2022-03-13T23:35:31.979423Z"
    },
    "papermill": {
     "duration": 0.05108,
     "end_time": "2022-03-13T23:35:31.979626",
     "exception": false,
     "start_time": "2022-03-13T23:35:31.928546",
     "status": "completed"
    },
    "tags": []
   },
   "outputs": [],
   "source": [
    "%load_ext autoreload\n",
    "%autoreload 2"
   ]
  },
  {
   "cell_type": "code",
   "execution_count": 2,
   "id": "ac984cda",
   "metadata": {
    "execution": {
     "iopub.execute_input": "2022-03-13T23:35:32.056922Z",
     "iopub.status.busy": "2022-03-13T23:35:32.056543Z",
     "iopub.status.idle": "2022-03-13T23:35:32.300301Z",
     "shell.execute_reply": "2022-03-13T23:35:32.299918Z"
    },
    "papermill": {
     "duration": 0.283996,
     "end_time": "2022-03-13T23:35:32.300409",
     "exception": false,
     "start_time": "2022-03-13T23:35:32.016413",
     "status": "completed"
    },
    "tags": []
   },
   "outputs": [],
   "source": [
    "import matplotlib"
   ]
  },
  {
   "cell_type": "code",
   "execution_count": 3,
   "id": "43c54f3b",
   "metadata": {
    "execution": {
     "iopub.execute_input": "2022-03-13T23:35:32.376618Z",
     "iopub.status.busy": "2022-03-13T23:35:32.376251Z",
     "iopub.status.idle": "2022-03-13T23:35:34.026158Z",
     "shell.execute_reply": "2022-03-13T23:35:34.025820Z"
    },
    "papermill": {
     "duration": 1.689431,
     "end_time": "2022-03-13T23:35:34.026273",
     "exception": false,
     "start_time": "2022-03-13T23:35:32.336842",
     "status": "completed"
    },
    "tags": []
   },
   "outputs": [],
   "source": [
    "# %matplotlib widget\n",
    "%matplotlib inline\n",
    "\n",
    "### os \n",
    "import os \n",
    "import sys\n",
    "\n",
    "### datetimes \n",
    "from datetime import datetime, timedelta\n",
    "from dateutil.relativedelta import relativedelta\n",
    "from calendar import month_name, month_abbr\n",
    "import dateparser\n",
    "\n",
    "### scipy \n",
    "import numpy as np \n",
    "import pandas as pd\n",
    "import xarray as xr\n",
    "from cartopy import crs as ccrs\n",
    "\n",
    "### plotting \n",
    "from matplotlib import pyplot as plt\n",
    "import palettable"
   ]
  },
  {
   "cell_type": "code",
   "execution_count": 4,
   "id": "6f41562c",
   "metadata": {
    "execution": {
     "iopub.execute_input": "2022-03-13T23:35:34.103194Z",
     "iopub.status.busy": "2022-03-13T23:35:34.102842Z",
     "iopub.status.idle": "2022-03-13T23:35:34.117001Z",
     "shell.execute_reply": "2022-03-13T23:35:34.117278Z"
    },
    "papermill": {
     "duration": 0.055098,
     "end_time": "2022-03-13T23:35:34.117412",
     "exception": false,
     "start_time": "2022-03-13T23:35:34.062314",
     "status": "completed"
    },
    "tags": []
   },
   "outputs": [],
   "source": [
    "import pathlib\n",
    "\n",
    "HOME = pathlib.Path.home()\n",
    "CWD = pathlib.Path.cwd() "
   ]
  },
  {
   "cell_type": "markdown",
   "id": "aee5236c",
   "metadata": {
    "papermill": {
     "duration": 0.035514,
     "end_time": "2022-03-13T23:35:34.187249",
     "exception": false,
     "start_time": "2022-03-13T23:35:34.151735",
     "status": "completed"
    },
    "tags": []
   },
   "source": [
    "### import local functions for the downloading of the C3S forecasts "
   ]
  },
  {
   "cell_type": "code",
   "execution_count": 5,
   "id": "655d65e3",
   "metadata": {
    "execution": {
     "iopub.execute_input": "2022-03-13T23:35:34.261479Z",
     "iopub.status.busy": "2022-03-13T23:35:34.261112Z",
     "iopub.status.idle": "2022-03-13T23:35:34.276386Z",
     "shell.execute_reply": "2022-03-13T23:35:34.276007Z"
    },
    "papermill": {
     "duration": 0.053173,
     "end_time": "2022-03-13T23:35:34.276501",
     "exception": false,
     "start_time": "2022-03-13T23:35:34.223328",
     "status": "completed"
    },
    "tags": []
   },
   "outputs": [],
   "source": [
    "sys.path.append('../..')"
   ]
  },
  {
   "cell_type": "code",
   "execution_count": 6,
   "id": "53a424f1",
   "metadata": {
    "execution": {
     "iopub.execute_input": "2022-03-13T23:35:34.350570Z",
     "iopub.status.busy": "2022-03-13T23:35:34.350188Z",
     "iopub.status.idle": "2022-03-13T23:35:47.554994Z",
     "shell.execute_reply": "2022-03-13T23:35:47.555303Z"
    },
    "papermill": {
     "duration": 13.243194,
     "end_time": "2022-03-13T23:35:47.555456",
     "exception": false,
     "start_time": "2022-03-13T23:35:34.312262",
     "status": "completed"
    },
    "tags": []
   },
   "outputs": [
    {
     "name": "stderr",
     "output_type": "stream",
     "text": [
      "/home/nicolasf/mambaforge/envs/ICU_ops/lib/python3.9/site-packages/statsmodels/compat/pandas.py:65: FutureWarning: pandas.Int64Index is deprecated and will be removed from pandas in a future version. Use pandas.Index with the appropriate dtype instead.\n",
      "  from pandas import Int64Index as NumericIndex\n"
     ]
    }
   ],
   "source": [
    "from ICU_Water_Watch import geo, C3S, domains, plot, utils"
   ]
  },
  {
   "cell_type": "code",
   "execution_count": 7,
   "id": "11f4e361",
   "metadata": {
    "execution": {
     "iopub.execute_input": "2022-03-13T23:35:47.632487Z",
     "iopub.status.busy": "2022-03-13T23:35:47.632095Z",
     "iopub.status.idle": "2022-03-13T23:35:47.653895Z",
     "shell.execute_reply": "2022-03-13T23:35:47.653545Z"
    },
    "papermill": {
     "duration": 0.061949,
     "end_time": "2022-03-13T23:35:47.654011",
     "exception": false,
     "start_time": "2022-03-13T23:35:47.592062",
     "status": "completed"
    },
    "tags": [
     "parameters"
    ]
   },
   "outputs": [],
   "source": [
    "domain_name = 'Water_Watch' # domain name \n",
    "date = \"last month\"\n",
    "period = \"seasonal\"\n",
    "lead = 1\n",
    "quantile = 'percentile'\n",
    "varname = 'precip'\n",
    "dpath_shapes = '/home/nicolasf/operational/ICU/development/hotspots/data/shapefiles'\n",
    "dpath_forecasts = '/home/nicolasf/operational/ICU/development/hotspots/code/ICU_Water_Watch/outputs/C3S'\n",
    "fpath = '/home/nicolasf/operational/ICU/development/hotspots/code/ICU_Water_Watch/figures/C3S'\n",
    "fpath_web = '/home/nicolasf/operational/ICU_Web/C3S/'"
   ]
  },
  {
   "cell_type": "code",
   "execution_count": 8,
   "id": "84f82101",
   "metadata": {
    "execution": {
     "iopub.execute_input": "2022-03-13T23:35:47.728504Z",
     "iopub.status.busy": "2022-03-13T23:35:47.728135Z",
     "iopub.status.idle": "2022-03-13T23:35:47.745253Z",
     "shell.execute_reply": "2022-03-13T23:35:47.745543Z"
    },
    "papermill": {
     "duration": 0.055813,
     "end_time": "2022-03-13T23:35:47.745679",
     "exception": false,
     "start_time": "2022-03-13T23:35:47.689866",
     "status": "completed"
    },
    "tags": [
     "injected-parameters"
    ]
   },
   "outputs": [],
   "source": [
    "# Parameters\n",
    "period = \"seasonal\"\n",
    "lead = 3\n",
    "date = \"this month\"\n"
   ]
  },
  {
   "cell_type": "markdown",
   "id": "dd19bb5c",
   "metadata": {
    "papermill": {
     "duration": 0.036135,
     "end_time": "2022-03-13T23:35:47.817273",
     "exception": false,
     "start_time": "2022-03-13T23:35:47.781138",
     "status": "completed"
    },
    "tags": []
   },
   "source": [
    "### casts the paths to pathlib.Paths "
   ]
  },
  {
   "cell_type": "code",
   "execution_count": 9,
   "id": "d50281fd",
   "metadata": {
    "execution": {
     "iopub.execute_input": "2022-03-13T23:35:47.892489Z",
     "iopub.status.busy": "2022-03-13T23:35:47.891889Z",
     "iopub.status.idle": "2022-03-13T23:35:47.910274Z",
     "shell.execute_reply": "2022-03-13T23:35:47.909867Z"
    },
    "papermill": {
     "duration": 0.05486,
     "end_time": "2022-03-13T23:35:47.910390",
     "exception": false,
     "start_time": "2022-03-13T23:35:47.855530",
     "status": "completed"
    },
    "tags": []
   },
   "outputs": [],
   "source": [
    "dpath_shapes = pathlib.Path(dpath_shapes)\n",
    "dpath_forecasts = pathlib.Path(dpath_forecasts)\n",
    "fpath = pathlib.Path(fpath)\n",
    "fpath_web = pathlib.Path(fpath_web)"
   ]
  },
  {
   "cell_type": "markdown",
   "id": "2e5c7c40",
   "metadata": {
    "papermill": {
     "duration": 0.035007,
     "end_time": "2022-03-13T23:35:47.979975",
     "exception": false,
     "start_time": "2022-03-13T23:35:47.944968",
     "status": "completed"
    },
    "tags": []
   },
   "source": [
    "### domain "
   ]
  },
  {
   "cell_type": "code",
   "execution_count": 10,
   "id": "5114e37e",
   "metadata": {
    "execution": {
     "iopub.execute_input": "2022-03-13T23:35:48.052238Z",
     "iopub.status.busy": "2022-03-13T23:35:48.051692Z",
     "iopub.status.idle": "2022-03-13T23:35:48.069080Z",
     "shell.execute_reply": "2022-03-13T23:35:48.069379Z"
    },
    "papermill": {
     "duration": 0.05517,
     "end_time": "2022-03-13T23:35:48.069511",
     "exception": false,
     "start_time": "2022-03-13T23:35:48.014341",
     "status": "completed"
    },
    "tags": []
   },
   "outputs": [],
   "source": [
    "domain = domains.domains[domain_name]"
   ]
  },
  {
   "cell_type": "markdown",
   "id": "b2be15de",
   "metadata": {
    "papermill": {
     "duration": 0.037193,
     "end_time": "2022-03-13T23:35:48.141292",
     "exception": false,
     "start_time": "2022-03-13T23:35:48.104099",
     "status": "completed"
    },
    "tags": []
   },
   "source": [
    "### EEZ shapes "
   ]
  },
  {
   "cell_type": "code",
   "execution_count": 11,
   "id": "33234bcd",
   "metadata": {
    "execution": {
     "iopub.execute_input": "2022-03-13T23:35:48.215435Z",
     "iopub.status.busy": "2022-03-13T23:35:48.214851Z",
     "iopub.status.idle": "2022-03-13T23:35:48.253290Z",
     "shell.execute_reply": "2022-03-13T23:35:48.253569Z"
    },
    "papermill": {
     "duration": 0.076846,
     "end_time": "2022-03-13T23:35:48.253707",
     "exception": false,
     "start_time": "2022-03-13T23:35:48.176861",
     "status": "completed"
    },
    "tags": []
   },
   "outputs": [],
   "source": [
    "EEZs, merged_EEZs = geo.get_EEZs(dpath_shapes)"
   ]
  },
  {
   "cell_type": "markdown",
   "id": "5e77f980",
   "metadata": {
    "papermill": {
     "duration": 0.03559,
     "end_time": "2022-03-13T23:35:48.334630",
     "exception": false,
     "start_time": "2022-03-13T23:35:48.299040",
     "status": "completed"
    },
    "tags": []
   },
   "source": [
    "### year and month (initial month of the forecast)"
   ]
  },
  {
   "cell_type": "code",
   "execution_count": 12,
   "id": "961a9cf0",
   "metadata": {
    "execution": {
     "iopub.execute_input": "2022-03-13T23:35:48.405697Z",
     "iopub.status.busy": "2022-03-13T23:35:48.405337Z",
     "iopub.status.idle": "2022-03-13T23:35:48.446132Z",
     "shell.execute_reply": "2022-03-13T23:35:48.445823Z"
    },
    "papermill": {
     "duration": 0.077226,
     "end_time": "2022-03-13T23:35:48.446243",
     "exception": false,
     "start_time": "2022-03-13T23:35:48.369017",
     "status": "completed"
    },
    "tags": []
   },
   "outputs": [],
   "source": [
    "year = dateparser.parse(date).year"
   ]
  },
  {
   "cell_type": "code",
   "execution_count": 13,
   "id": "ae1cff3a",
   "metadata": {
    "execution": {
     "iopub.execute_input": "2022-03-13T23:35:48.523114Z",
     "iopub.status.busy": "2022-03-13T23:35:48.522467Z",
     "iopub.status.idle": "2022-03-13T23:35:48.544319Z",
     "shell.execute_reply": "2022-03-13T23:35:48.543692Z"
    },
    "papermill": {
     "duration": 0.060806,
     "end_time": "2022-03-13T23:35:48.544490",
     "exception": false,
     "start_time": "2022-03-13T23:35:48.483684",
     "status": "completed"
    },
    "tags": []
   },
   "outputs": [],
   "source": [
    "month = dateparser.parse(date).month"
   ]
  },
  {
   "cell_type": "code",
   "execution_count": 14,
   "id": "1f89dd34",
   "metadata": {
    "execution": {
     "iopub.execute_input": "2022-03-13T23:35:48.627935Z",
     "iopub.status.busy": "2022-03-13T23:35:48.627559Z",
     "iopub.status.idle": "2022-03-13T23:35:48.645756Z",
     "shell.execute_reply": "2022-03-13T23:35:48.646044Z"
    },
    "papermill": {
     "duration": 0.057067,
     "end_time": "2022-03-13T23:35:48.646174",
     "exception": false,
     "start_time": "2022-03-13T23:35:48.589107",
     "status": "completed"
    },
    "tags": []
   },
   "outputs": [
    {
     "name": "stdout",
     "output_type": "stream",
     "text": [
      "2022 - 3\n"
     ]
    }
   ],
   "source": [
    "print(f\"{year} - {month}\")"
   ]
  },
  {
   "cell_type": "markdown",
   "id": "eb5edf9b",
   "metadata": {
    "papermill": {
     "duration": 0.036764,
     "end_time": "2022-03-13T23:35:48.719621",
     "exception": false,
     "start_time": "2022-03-13T23:35:48.682857",
     "status": "completed"
    },
    "tags": []
   },
   "source": [
    "### read the probabilistic forecasts from the GCMs now "
   ]
  },
  {
   "cell_type": "markdown",
   "id": "5cbb8a3a",
   "metadata": {
    "papermill": {
     "duration": 0.036029,
     "end_time": "2022-03-13T23:35:48.791756",
     "exception": false,
     "start_time": "2022-03-13T23:35:48.755727",
     "status": "completed"
    },
    "tags": []
   },
   "source": [
    "### provider "
   ]
  },
  {
   "cell_type": "code",
   "execution_count": 15,
   "id": "1478f4b1",
   "metadata": {
    "execution": {
     "iopub.execute_input": "2022-03-13T23:35:48.866621Z",
     "iopub.status.busy": "2022-03-13T23:35:48.866265Z",
     "iopub.status.idle": "2022-03-13T23:35:48.884676Z",
     "shell.execute_reply": "2022-03-13T23:35:48.884336Z"
    },
    "papermill": {
     "duration": 0.056821,
     "end_time": "2022-03-13T23:35:48.884791",
     "exception": false,
     "start_time": "2022-03-13T23:35:48.827970",
     "status": "completed"
    },
    "tags": []
   },
   "outputs": [],
   "source": [
    "provider = 'CDS'"
   ]
  },
  {
   "cell_type": "markdown",
   "id": "7f9ac50f",
   "metadata": {
    "papermill": {
     "duration": 0.035004,
     "end_time": "2022-03-13T23:35:48.955333",
     "exception": false,
     "start_time": "2022-03-13T23:35:48.920329",
     "status": "completed"
    },
    "tags": []
   },
   "source": [
    "#### list of GCMs to inlude "
   ]
  },
  {
   "cell_type": "code",
   "execution_count": 16,
   "id": "116d3fdd",
   "metadata": {
    "execution": {
     "iopub.execute_input": "2022-03-13T23:35:49.029353Z",
     "iopub.status.busy": "2022-03-13T23:35:49.028943Z",
     "iopub.status.idle": "2022-03-13T23:35:49.047389Z",
     "shell.execute_reply": "2022-03-13T23:35:49.047725Z"
    },
    "papermill": {
     "duration": 0.057352,
     "end_time": "2022-03-13T23:35:49.047861",
     "exception": false,
     "start_time": "2022-03-13T23:35:48.990509",
     "status": "completed"
    },
    "tags": []
   },
   "outputs": [],
   "source": [
    "list_GCMs = ['ECMWF','UKMO','METEO_FRANCE','CMCC','DWD', 'NCEP', 'JMA', 'ECCC_CanCM4i', 'ECCC_GEM_NEMO']"
   ]
  },
  {
   "cell_type": "code",
   "execution_count": 17,
   "id": "9f45c5a9",
   "metadata": {
    "execution": {
     "iopub.execute_input": "2022-03-13T23:35:49.121800Z",
     "iopub.status.busy": "2022-03-13T23:35:49.121432Z",
     "iopub.status.idle": "2022-03-13T23:35:49.138901Z",
     "shell.execute_reply": "2022-03-13T23:35:49.138550Z"
    },
    "papermill": {
     "duration": 0.055782,
     "end_time": "2022-03-13T23:35:49.139007",
     "exception": false,
     "start_time": "2022-03-13T23:35:49.083225",
     "status": "completed"
    },
    "tags": []
   },
   "outputs": [],
   "source": [
    "if period == 'seasonal': \n",
    "    nsteps = 3\n",
    "    first_step = 3\n",
    "elif period == 'monthly': \n",
    "    nsteps = 5\n",
    "    first_step = 1"
   ]
  },
  {
   "cell_type": "code",
   "execution_count": 18,
   "id": "e045bc51",
   "metadata": {
    "execution": {
     "iopub.execute_input": "2022-03-13T23:35:49.213481Z",
     "iopub.status.busy": "2022-03-13T23:35:49.213106Z",
     "iopub.status.idle": "2022-03-13T23:35:49.231231Z",
     "shell.execute_reply": "2022-03-13T23:35:49.230860Z"
    },
    "papermill": {
     "duration": 0.056357,
     "end_time": "2022-03-13T23:35:49.231339",
     "exception": false,
     "start_time": "2022-03-13T23:35:49.174982",
     "status": "completed"
    },
    "tags": []
   },
   "outputs": [],
   "source": [
    "step = lead + first_step - 1"
   ]
  },
  {
   "cell_type": "code",
   "execution_count": 19,
   "id": "4ce3adec",
   "metadata": {
    "execution": {
     "iopub.execute_input": "2022-03-13T23:35:49.303072Z",
     "iopub.status.busy": "2022-03-13T23:35:49.302722Z",
     "iopub.status.idle": "2022-03-13T23:35:49.322074Z",
     "shell.execute_reply": "2022-03-13T23:35:49.321728Z"
    },
    "papermill": {
     "duration": 0.056123,
     "end_time": "2022-03-13T23:35:49.322178",
     "exception": false,
     "start_time": "2022-03-13T23:35:49.266055",
     "status": "completed"
    },
    "tags": []
   },
   "outputs": [
    {
     "data": {
      "text/plain": [
       "5"
      ]
     },
     "execution_count": 19,
     "metadata": {},
     "output_type": "execute_result"
    }
   ],
   "source": [
    "step"
   ]
  },
  {
   "cell_type": "markdown",
   "id": "56bb4334",
   "metadata": {
    "papermill": {
     "duration": 0.03776,
     "end_time": "2022-03-13T23:35:49.395624",
     "exception": false,
     "start_time": "2022-03-13T23:35:49.357864",
     "status": "completed"
    },
    "tags": []
   },
   "source": [
    "### list the realtime forecasts"
   ]
  },
  {
   "cell_type": "code",
   "execution_count": 20,
   "id": "0f9602ad",
   "metadata": {
    "execution": {
     "iopub.execute_input": "2022-03-13T23:35:49.467454Z",
     "iopub.status.busy": "2022-03-13T23:35:49.467107Z",
     "iopub.status.idle": "2022-03-13T23:35:49.486574Z",
     "shell.execute_reply": "2022-03-13T23:35:49.486255Z"
    },
    "papermill": {
     "duration": 0.056053,
     "end_time": "2022-03-13T23:35:49.486688",
     "exception": false,
     "start_time": "2022-03-13T23:35:49.430635",
     "status": "completed"
    },
    "tags": []
   },
   "outputs": [],
   "source": [
    "lfiles = list(dpath_forecasts.glob(f\"{period}_{quantile}s_probabilities_from_{year}-{str(month).zfill(2)}_*.netcdf\"))"
   ]
  },
  {
   "cell_type": "markdown",
   "id": "23b75799",
   "metadata": {
    "papermill": {
     "duration": 0.037432,
     "end_time": "2022-03-13T23:35:49.559776",
     "exception": false,
     "start_time": "2022-03-13T23:35:49.522344",
     "status": "completed"
    },
    "tags": []
   },
   "source": [
    "### checks the files names "
   ]
  },
  {
   "cell_type": "code",
   "execution_count": 21,
   "id": "225327ee",
   "metadata": {
    "execution": {
     "iopub.execute_input": "2022-03-13T23:35:49.634951Z",
     "iopub.status.busy": "2022-03-13T23:35:49.634590Z",
     "iopub.status.idle": "2022-03-13T23:35:49.654245Z",
     "shell.execute_reply": "2022-03-13T23:35:49.653892Z"
    },
    "papermill": {
     "duration": 0.057484,
     "end_time": "2022-03-13T23:35:49.654352",
     "exception": false,
     "start_time": "2022-03-13T23:35:49.596868",
     "status": "completed"
    },
    "tags": []
   },
   "outputs": [
    {
     "data": {
      "text/plain": [
       "'seasonal'"
      ]
     },
     "execution_count": 21,
     "metadata": {},
     "output_type": "execute_result"
    }
   ],
   "source": [
    "period"
   ]
  },
  {
   "cell_type": "code",
   "execution_count": 22,
   "id": "45d56af3",
   "metadata": {
    "execution": {
     "iopub.execute_input": "2022-03-13T23:35:49.733993Z",
     "iopub.status.busy": "2022-03-13T23:35:49.733609Z",
     "iopub.status.idle": "2022-03-13T23:35:49.766511Z",
     "shell.execute_reply": "2022-03-13T23:35:49.766147Z"
    },
    "papermill": {
     "duration": 0.075897,
     "end_time": "2022-03-13T23:35:49.766619",
     "exception": false,
     "start_time": "2022-03-13T23:35:49.690722",
     "status": "completed"
    },
    "tags": []
   },
   "outputs": [
    {
     "data": {
      "text/plain": [
       "['seasonal_percentiles_probabilities_from_2022-03_UKMO.netcdf',\n",
       " 'seasonal_percentiles_probabilities_from_2022-03_JMA.netcdf',\n",
       " 'seasonal_percentiles_probabilities_from_2022-03_DWD.netcdf',\n",
       " 'seasonal_percentiles_probabilities_from_2022-03_ECMWF.netcdf',\n",
       " 'seasonal_percentiles_probabilities_from_2022-03_METEO_FRANCE.netcdf',\n",
       " 'seasonal_percentiles_probabilities_from_2022-03_NCEP.netcdf',\n",
       " 'seasonal_percentiles_probabilities_from_2022-03_ECCC_CanCM4i.netcdf',\n",
       " 'seasonal_percentiles_probabilities_from_2022-03_CMCC.netcdf',\n",
       " 'seasonal_percentiles_probabilities_from_2022-03_ECCC_GEM_NEMO.netcdf']"
      ]
     },
     "execution_count": 22,
     "metadata": {},
     "output_type": "execute_result"
    }
   ],
   "source": [
    "[f.name for f in lfiles]"
   ]
  },
  {
   "cell_type": "markdown",
   "id": "df6201ab",
   "metadata": {
    "papermill": {
     "duration": 0.034581,
     "end_time": "2022-03-13T23:35:49.835834",
     "exception": false,
     "start_time": "2022-03-13T23:35:49.801253",
     "status": "completed"
    },
    "tags": []
   },
   "source": [
    "### open the multiple files dataset, concatenate along the \"GCM\" dimension "
   ]
  },
  {
   "cell_type": "code",
   "execution_count": 23,
   "id": "057af913",
   "metadata": {
    "execution": {
     "iopub.execute_input": "2022-03-13T23:35:49.910027Z",
     "iopub.status.busy": "2022-03-13T23:35:49.908921Z",
     "iopub.status.idle": "2022-03-13T23:35:50.051937Z",
     "shell.execute_reply": "2022-03-13T23:35:50.051571Z"
    },
    "papermill": {
     "duration": 0.180667,
     "end_time": "2022-03-13T23:35:50.052050",
     "exception": false,
     "start_time": "2022-03-13T23:35:49.871383",
     "status": "completed"
    },
    "tags": []
   },
   "outputs": [],
   "source": [
    "probs = xr.open_mfdataset(lfiles, concat_dim='GCM', combine='nested', engine='netcdf4') "
   ]
  },
  {
   "cell_type": "markdown",
   "id": "e5c75fbf",
   "metadata": {
    "papermill": {
     "duration": 0.03535,
     "end_time": "2022-03-13T23:35:50.122247",
     "exception": false,
     "start_time": "2022-03-13T23:35:50.086897",
     "status": "completed"
    },
    "tags": []
   },
   "source": [
    "### interpolate"
   ]
  },
  {
   "cell_type": "code",
   "execution_count": 24,
   "id": "8522c071",
   "metadata": {
    "execution": {
     "iopub.execute_input": "2022-03-13T23:35:50.198521Z",
     "iopub.status.busy": "2022-03-13T23:35:50.197715Z",
     "iopub.status.idle": "2022-03-13T23:35:50.227894Z",
     "shell.execute_reply": "2022-03-13T23:35:50.227474Z"
    },
    "papermill": {
     "duration": 0.069689,
     "end_time": "2022-03-13T23:35:50.228009",
     "exception": false,
     "start_time": "2022-03-13T23:35:50.158320",
     "status": "completed"
    },
    "tags": []
   },
   "outputs": [],
   "source": [
    "probs = utils.interp(probs, interp_factor=6)"
   ]
  },
  {
   "cell_type": "markdown",
   "id": "aec9f004",
   "metadata": {
    "papermill": {
     "duration": 0.034408,
     "end_time": "2022-03-13T23:35:50.296396",
     "exception": false,
     "start_time": "2022-03-13T23:35:50.261988",
     "status": "completed"
    },
    "tags": []
   },
   "source": [
    "### look at the sum for each GCM, should sum to 100 "
   ]
  },
  {
   "cell_type": "code",
   "execution_count": 25,
   "id": "c12c94d8",
   "metadata": {
    "execution": {
     "iopub.execute_input": "2022-03-13T23:35:50.373650Z",
     "iopub.status.busy": "2022-03-13T23:35:50.373280Z",
     "iopub.status.idle": "2022-03-13T23:36:03.961766Z",
     "shell.execute_reply": "2022-03-13T23:36:03.961409Z"
    },
    "papermill": {
     "duration": 13.629771,
     "end_time": "2022-03-13T23:36:03.961871",
     "exception": false,
     "start_time": "2022-03-13T23:35:50.332100",
     "status": "completed"
    },
    "tags": []
   },
   "outputs": [
    {
     "data": {
      "image/png": "[encoded data removed]",
      "text/plain": [
       "<Figure size 720x216 with 4 Axes>"
      ]
     },
     "metadata": {
      "needs_background": "light"
     },
     "output_type": "display_data"
    },
    {
     "data": {
      "image/png": "[encoded data removed]",
      "text/plain": [
       "<Figure size 720x216 with 4 Axes>"
      ]
     },
     "metadata": {
      "needs_background": "light"
     },
     "output_type": "display_data"
    },
    {
     "data": {
      "image/png": "[encoded data removed]",
      "text/plain": [
       "<Figure size 720x216 with 4 Axes>"
      ]
     },
     "metadata": {
      "needs_background": "light"
     },
     "output_type": "display_data"
    },
    {
     "data": {
      "image/png": "[encoded data removed]",
      "text/plain": [
       "<Figure size 720x216 with 4 Axes>"
      ]
     },
     "metadata": {
      "needs_background": "light"
     },
     "output_type": "display_data"
    },
    {
     "data": {
      "image/png": "[encoded data removed]",
      "text/plain": [
       "<Figure size 720x216 with 4 Axes>"
      ]
     },
     "metadata": {
      "needs_background": "light"
     },
     "output_type": "display_data"
    },
    {
     "data": {
      "image/png": "[encoded data removed]",
      "text/plain": [
       "<Figure size 720x216 with 4 Axes>"
      ]
     },
     "metadata": {
      "needs_background": "light"
     },
     "output_type": "display_data"
    },
    {
     "data": {
      "image/png": "[encoded data removed]",
      "text/plain": [
       "<Figure size 720x216 with 4 Axes>"
      ]
     },
     "metadata": {
      "needs_background": "light"
     },
     "output_type": "display_data"
    },
    {
     "data": {
      "image/png": "[encoded data removed]",
      "text/plain": [
       "<Figure size 720x216 with 4 Axes>"
      ]
     },
     "metadata": {
      "needs_background": "light"
     },
     "output_type": "display_data"
    },
    {
     "data": {
      "image/png": "[encoded data removed]",
      "text/plain": [
       "<Figure size 720x216 with 4 Axes>"
      ]
     },
     "metadata": {
      "needs_background": "light"
     },
     "output_type": "display_data"
    }
   ],
   "source": [
    "for GCM in list_GCMs:\n",
    "    fg = probs.sel(GCM=GCM).sum(quantile).squeeze()[varname].plot(col='step', vmin=0);\n",
    "    fg.fig.suptitle(GCM, x=0.4, horizontalalignment='center',y=1.05)"
   ]
  },
  {
   "cell_type": "markdown",
   "id": "6f8dff7f",
   "metadata": {
    "papermill": {
     "duration": 0.040208,
     "end_time": "2022-03-13T23:36:04.059768",
     "exception": false,
     "start_time": "2022-03-13T23:36:04.019560",
     "status": "completed"
    },
    "tags": []
   },
   "source": [
    "### calculates the average across the GCM dimension "
   ]
  },
  {
   "cell_type": "code",
   "execution_count": 26,
   "id": "830c73a4",
   "metadata": {
    "execution": {
     "iopub.execute_input": "2022-03-13T23:36:04.171977Z",
     "iopub.status.busy": "2022-03-13T23:36:04.171400Z",
     "iopub.status.idle": "2022-03-13T23:36:04.193062Z",
     "shell.execute_reply": "2022-03-13T23:36:04.193362Z"
    },
    "papermill": {
     "duration": 0.077659,
     "end_time": "2022-03-13T23:36:04.193499",
     "exception": false,
     "start_time": "2022-03-13T23:36:04.115840",
     "status": "completed"
    },
    "tags": []
   },
   "outputs": [],
   "source": [
    "probs_mean = probs.mean('GCM')"
   ]
  },
  {
   "cell_type": "markdown",
   "id": "5cdc1f77",
   "metadata": {
    "papermill": {
     "duration": 0.048379,
     "end_time": "2022-03-13T23:36:04.284632",
     "exception": false,
     "start_time": "2022-03-13T23:36:04.236253",
     "status": "completed"
    },
    "tags": []
   },
   "source": [
    "### saves to disk ?"
   ]
  },
  {
   "cell_type": "code",
   "execution_count": 27,
   "id": "8c58b9ae",
   "metadata": {
    "execution": {
     "iopub.execute_input": "2022-03-13T23:36:04.369739Z",
     "iopub.status.busy": "2022-03-13T23:36:04.369197Z",
     "iopub.status.idle": "2022-03-13T23:36:09.721535Z",
     "shell.execute_reply": "2022-03-13T23:36:09.721190Z"
    },
    "papermill": {
     "duration": 5.396074,
     "end_time": "2022-03-13T23:36:09.721668",
     "exception": false,
     "start_time": "2022-03-13T23:36:04.325594",
     "status": "completed"
    },
    "tags": []
   },
   "outputs": [],
   "source": [
    "probs_mean.to_netcdf(f'./C3S_MME_prob_mean_{year}_{month:02d}_{period}.nc')"
   ]
  },
  {
   "cell_type": "markdown",
   "id": "b66a0e12",
   "metadata": {
    "papermill": {
     "duration": 0.041057,
     "end_time": "2022-03-13T23:36:09.804824",
     "exception": false,
     "start_time": "2022-03-13T23:36:09.763767",
     "status": "completed"
    },
    "tags": []
   },
   "source": [
    "### because of numerical approximations, this average can **SOMETIMES** sum to slightly over 100 (the errors can accumulate over all the dimensions)"
   ]
  },
  {
   "cell_type": "code",
   "execution_count": 28,
   "id": "9a342451",
   "metadata": {
    "execution": {
     "iopub.execute_input": "2022-03-13T23:36:09.888128Z",
     "iopub.status.busy": "2022-03-13T23:36:09.887773Z",
     "iopub.status.idle": "2022-03-13T23:36:15.914570Z",
     "shell.execute_reply": "2022-03-13T23:36:15.914830Z"
    },
    "papermill": {
     "duration": 6.069908,
     "end_time": "2022-03-13T23:36:15.914961",
     "exception": false,
     "start_time": "2022-03-13T23:36:09.845053",
     "status": "completed"
    },
    "tags": []
   },
   "outputs": [
    {
     "data": {
      "image/png": "[encoded data removed]",
      "text/plain": [
       "<Figure size 720x216 with 4 Axes>"
      ]
     },
     "metadata": {
      "needs_background": "light"
     },
     "output_type": "display_data"
    }
   ],
   "source": [
    "_ = probs_mean.sum(quantile).squeeze()[varname].plot(col='step', vmin=0)"
   ]
  },
  {
   "cell_type": "markdown",
   "id": "f599bf31",
   "metadata": {
    "papermill": {
     "duration": 0.042124,
     "end_time": "2022-03-13T23:36:15.996950",
     "exception": false,
     "start_time": "2022-03-13T23:36:15.954826",
     "status": "completed"
    },
    "tags": []
   },
   "source": [
    "### so we rescale (just in case)"
   ]
  },
  {
   "cell_type": "code",
   "execution_count": 29,
   "id": "fb251d40",
   "metadata": {
    "execution": {
     "iopub.execute_input": "2022-03-13T23:36:16.077440Z",
     "iopub.status.busy": "2022-03-13T23:36:16.077078Z",
     "iopub.status.idle": "2022-03-13T23:36:16.100517Z",
     "shell.execute_reply": "2022-03-13T23:36:16.100806Z"
    },
    "papermill": {
     "duration": 0.065147,
     "end_time": "2022-03-13T23:36:16.100933",
     "exception": false,
     "start_time": "2022-03-13T23:36:16.035786",
     "status": "completed"
    },
    "tags": []
   },
   "outputs": [],
   "source": [
    "probs_mean = (probs_mean / probs_mean.sum(quantile)) * 100"
   ]
  },
  {
   "cell_type": "code",
   "execution_count": 30,
   "id": "a4eb874f",
   "metadata": {
    "execution": {
     "iopub.execute_input": "2022-03-13T23:36:16.188736Z",
     "iopub.status.busy": "2022-03-13T23:36:16.188289Z",
     "iopub.status.idle": "2022-03-13T23:36:22.473390Z",
     "shell.execute_reply": "2022-03-13T23:36:22.473758Z"
    },
    "papermill": {
     "duration": 6.332686,
     "end_time": "2022-03-13T23:36:22.473956",
     "exception": false,
     "start_time": "2022-03-13T23:36:16.141270",
     "status": "completed"
    },
    "tags": []
   },
   "outputs": [
    {
     "data": {
      "image/png": "[encoded data removed]",
      "text/plain": [
       "<Figure size 720x216 with 4 Axes>"
      ]
     },
     "metadata": {
      "needs_background": "light"
     },
     "output_type": "display_data"
    }
   ],
   "source": [
    "_ = probs_mean.sum(quantile).squeeze()[varname].plot(col='step', vmin=0)"
   ]
  },
  {
   "cell_type": "markdown",
   "id": "d6b2d3c1",
   "metadata": {
    "papermill": {
     "duration": 0.046452,
     "end_time": "2022-03-13T23:36:22.567092",
     "exception": false,
     "start_time": "2022-03-13T23:36:22.520640",
     "status": "completed"
    },
    "tags": []
   },
   "source": [
    "### because the attributes are lost during these operations, we add them back "
   ]
  },
  {
   "cell_type": "code",
   "execution_count": 31,
   "id": "b8dcce66",
   "metadata": {
    "execution": {
     "iopub.execute_input": "2022-03-13T23:36:22.657156Z",
     "iopub.status.busy": "2022-03-13T23:36:22.656742Z",
     "iopub.status.idle": "2022-03-13T23:36:22.683573Z",
     "shell.execute_reply": "2022-03-13T23:36:22.683252Z"
    },
    "papermill": {
     "duration": 0.071464,
     "end_time": "2022-03-13T23:36:22.683683",
     "exception": false,
     "start_time": "2022-03-13T23:36:22.612219",
     "status": "completed"
    },
    "tags": []
   },
   "outputs": [],
   "source": [
    "probs_mean.attrs = probs.attrs"
   ]
  },
  {
   "cell_type": "code",
   "execution_count": 32,
   "id": "ae3f4606",
   "metadata": {
    "execution": {
     "iopub.execute_input": "2022-03-13T23:36:22.778972Z",
     "iopub.status.busy": "2022-03-13T23:36:22.778606Z",
     "iopub.status.idle": "2022-03-13T23:36:22.797981Z",
     "shell.execute_reply": "2022-03-13T23:36:22.798266Z"
    },
    "papermill": {
     "duration": 0.071735,
     "end_time": "2022-03-13T23:36:22.798393",
     "exception": false,
     "start_time": "2022-03-13T23:36:22.726658",
     "status": "completed"
    },
    "tags": []
   },
   "outputs": [
    {
     "data": {
      "text/plain": [
       "{'pct_values': array([0.02, 0.05, 0.1 , 0.15, 0.2 , 0.25, 0.3 , 0.35, 0.4 , 0.45, 0.5 ,\n",
       "        0.55, 0.6 , 0.65, 0.7 , 0.75, 0.8 , 0.85, 0.9 , 0.95])}"
      ]
     },
     "execution_count": 32,
     "metadata": {},
     "output_type": "execute_result"
    }
   ],
   "source": [
    "probs_mean.attrs"
   ]
  },
  {
   "cell_type": "markdown",
   "id": "3ff894bf",
   "metadata": {
    "papermill": {
     "duration": 0.053205,
     "end_time": "2022-03-13T23:36:22.892997",
     "exception": false,
     "start_time": "2022-03-13T23:36:22.839792",
     "status": "completed"
    },
    "tags": []
   },
   "source": [
    "#### also adds an attribute that tells the period "
   ]
  },
  {
   "cell_type": "code",
   "execution_count": 33,
   "id": "b350d9ae",
   "metadata": {
    "execution": {
     "iopub.execute_input": "2022-03-13T23:36:22.979076Z",
     "iopub.status.busy": "2022-03-13T23:36:22.978617Z",
     "iopub.status.idle": "2022-03-13T23:36:22.998208Z",
     "shell.execute_reply": "2022-03-13T23:36:22.998510Z"
    },
    "papermill": {
     "duration": 0.064145,
     "end_time": "2022-03-13T23:36:22.998654",
     "exception": false,
     "start_time": "2022-03-13T23:36:22.934509",
     "status": "completed"
    },
    "tags": []
   },
   "outputs": [],
   "source": [
    "probs_mean.attrs['period'] = period"
   ]
  },
  {
   "cell_type": "markdown",
   "id": "5bac5488",
   "metadata": {
    "papermill": {
     "duration": 0.042653,
     "end_time": "2022-03-13T23:36:23.084564",
     "exception": false,
     "start_time": "2022-03-13T23:36:23.041911",
     "status": "completed"
    },
    "tags": []
   },
   "source": [
    "### Probability for being below a given percentile"
   ]
  },
  {
   "cell_type": "markdown",
   "id": "1108f198",
   "metadata": {
    "papermill": {
     "duration": 0.040355,
     "end_time": "2022-03-13T23:36:23.165763",
     "exception": false,
     "start_time": "2022-03-13T23:36:23.125408",
     "status": "completed"
    },
    "tags": []
   },
   "source": [
    "#### choose the percentile here "
   ]
  },
  {
   "cell_type": "code",
   "execution_count": 34,
   "id": "0443da68",
   "metadata": {
    "execution": {
     "iopub.execute_input": "2022-03-13T23:36:23.300007Z",
     "iopub.status.busy": "2022-03-13T23:36:23.299645Z",
     "iopub.status.idle": "2022-03-13T23:36:23.335730Z",
     "shell.execute_reply": "2022-03-13T23:36:23.335347Z"
    },
    "papermill": {
     "duration": 0.128479,
     "end_time": "2022-03-13T23:36:23.335839",
     "exception": false,
     "start_time": "2022-03-13T23:36:23.207360",
     "status": "completed"
    },
    "tags": []
   },
   "outputs": [],
   "source": [
    "pmax = 25"
   ]
  },
  {
   "cell_type": "markdown",
   "id": "ce608be2",
   "metadata": {
    "papermill": {
     "duration": 0.043538,
     "end_time": "2022-03-13T23:36:23.423343",
     "exception": false,
     "start_time": "2022-03-13T23:36:23.379805",
     "status": "completed"
    },
    "tags": []
   },
   "source": [
    "### get the percentile bins edges, and select the category (starting at 1) that corresponds to the bin with right edge at `pmax`"
   ]
  },
  {
   "cell_type": "code",
   "execution_count": 35,
   "id": "e06c00e1",
   "metadata": {
    "execution": {
     "iopub.execute_input": "2022-03-13T23:36:23.513443Z",
     "iopub.status.busy": "2022-03-13T23:36:23.513037Z",
     "iopub.status.idle": "2022-03-13T23:36:23.549311Z",
     "shell.execute_reply": "2022-03-13T23:36:23.548944Z"
    },
    "papermill": {
     "duration": 0.083309,
     "end_time": "2022-03-13T23:36:23.549419",
     "exception": false,
     "start_time": "2022-03-13T23:36:23.466110",
     "status": "completed"
    },
    "tags": []
   },
   "outputs": [
    {
     "name": "stdout",
     "output_type": "stream",
     "text": [
      "0.02 | 0.05 | 0.1 | 0.15 | 0.2 | 0.25 | 0.3 | 0.35 | 0.4 | 0.45 | 0.5 | 0.55 | 0.6 | 0.65 | 0.7 | 0.75 | 0.8 | 0.85 | 0.9 | 0.95\n"
     ]
    }
   ],
   "source": [
    "print(\" | \".join(map(str, probs_mean.attrs['pct_values'].tolist()))) "
   ]
  },
  {
   "cell_type": "code",
   "execution_count": 36,
   "id": "3b89e678",
   "metadata": {
    "execution": {
     "iopub.execute_input": "2022-03-13T23:36:23.644651Z",
     "iopub.status.busy": "2022-03-13T23:36:23.644275Z",
     "iopub.status.idle": "2022-03-13T23:36:23.681243Z",
     "shell.execute_reply": "2022-03-13T23:36:23.680838Z"
    },
    "papermill": {
     "duration": 0.087616,
     "end_time": "2022-03-13T23:36:23.681356",
     "exception": false,
     "start_time": "2022-03-13T23:36:23.593740",
     "status": "completed"
    },
    "tags": []
   },
   "outputs": [],
   "source": [
    "max_cat = np.digitize(pmax/100, probs_mean.attrs['pct_values'])"
   ]
  },
  {
   "cell_type": "code",
   "execution_count": 37,
   "id": "20da883f",
   "metadata": {
    "execution": {
     "iopub.execute_input": "2022-03-13T23:36:23.775039Z",
     "iopub.status.busy": "2022-03-13T23:36:23.774602Z",
     "iopub.status.idle": "2022-03-13T23:36:23.803468Z",
     "shell.execute_reply": "2022-03-13T23:36:23.803109Z"
    },
    "papermill": {
     "duration": 0.076758,
     "end_time": "2022-03-13T23:36:23.803587",
     "exception": false,
     "start_time": "2022-03-13T23:36:23.726829",
     "status": "completed"
    },
    "tags": []
   },
   "outputs": [
    {
     "data": {
      "text/plain": [
       "6"
      ]
     },
     "execution_count": 37,
     "metadata": {},
     "output_type": "execute_result"
    }
   ],
   "source": [
    "max_cat"
   ]
  },
  {
   "cell_type": "code",
   "execution_count": 38,
   "id": "71992465",
   "metadata": {
    "execution": {
     "iopub.execute_input": "2022-03-13T23:36:23.895829Z",
     "iopub.status.busy": "2022-03-13T23:36:23.895283Z",
     "iopub.status.idle": "2022-03-13T23:36:23.933056Z",
     "shell.execute_reply": "2022-03-13T23:36:23.932762Z"
    },
    "papermill": {
     "duration": 0.085894,
     "end_time": "2022-03-13T23:36:23.933165",
     "exception": false,
     "start_time": "2022-03-13T23:36:23.847271",
     "status": "completed"
    },
    "tags": []
   },
   "outputs": [
    {
     "data": {
      "text/html": [
       "<div><svg style=\"position: absolute; width: 0; height: 0; overflow: hidden\">\n",
       "<defs>\n",
       "<symbol id=\"icon-database\" viewBox=\"0 0 32 32\">\n",
       "<path d=\"M16 0c-8.837 0-16 2.239-16 5v4c0 2.761 7.163 5 16 5s16-2.239 16-5v-4c0-2.761-7.163-5-16-5z\"></path>\n",
       "<path d=\"M16 17c-8.837 0-16-2.239-16-5v6c0 2.761 7.163 5 16 5s16-2.239 16-5v-6c0 2.761-7.163 5-16 5z\"></path>\n",
       "<path d=\"M16 26c-8.837 0-16-2.239-16-5v6c0 2.761 7.163 5 16 5s16-2.239 16-5v-6c0 2.761-7.163 5-16 5z\"></path>\n",
       "</symbol>\n",
       "<symbol id=\"icon-file-text2\" viewBox=\"0 0 32 32\">\n",
       "<path d=\"M28.681 7.159c-0.694-0.947-1.662-2.053-2.724-3.116s-2.169-2.030-3.116-2.724c-1.612-1.182-2.393-1.319-2.841-1.319h-15.5c-1.378 0-2.5 1.121-2.5 2.5v27c0 1.378 1.122 2.5 2.5 2.5h23c1.378 0 2.5-1.122 2.5-2.5v-19.5c0-0.448-0.137-1.23-1.319-2.841zM24.543 5.457c0.959 0.959 1.712 1.825 2.268 2.543h-4.811v-4.811c0.718 0.556 1.584 1.309 2.543 2.268zM28 29.5c0 0.271-0.229 0.5-0.5 0.5h-23c-0.271 0-0.5-0.229-0.5-0.5v-27c0-0.271 0.229-0.5 0.5-0.5 0 0 15.499-0 15.5 0v7c0 0.552 0.448 1 1 1h7v19.5z\"></path>\n",
       "<path d=\"M23 26h-14c-0.552 0-1-0.448-1-1s0.448-1 1-1h14c0.552 0 1 0.448 1 1s-0.448 1-1 1z\"></path>\n",
       "<path d=\"M23 22h-14c-0.552 0-1-0.448-1-1s0.448-1 1-1h14c0.552 0 1 0.448 1 1s-0.448 1-1 1z\"></path>\n",
       "<path d=\"M23 18h-14c-0.552 0-1-0.448-1-1s0.448-1 1-1h14c0.552 0 1 0.448 1 1s-0.448 1-1 1z\"></path>\n",
       "</symbol>\n",
       "</defs>\n",
       "</svg>\n",
       "<style>/* CSS stylesheet for displaying xarray objects in jupyterlab.\n",
       " *\n",
       " */\n",
       "\n",
       ":root {\n",
       "  --xr-font-color0: var(--jp-content-font-color0, rgba(0, 0, 0, 1));\n",
       "  --xr-font-color2: var(--jp-content-font-color2, rgba(0, 0, 0, 0.54));\n",
       "  --xr-font-color3: var(--jp-content-font-color3, rgba(0, 0, 0, 0.38));\n",
       "  --xr-border-color: var(--jp-border-color2, #e0e0e0);\n",
       "  --xr-disabled-color: var(--jp-layout-color3, #bdbdbd);\n",
       "  --xr-background-color: var(--jp-layout-color0, white);\n",
       "  --xr-background-color-row-even: var(--jp-layout-color1, white);\n",
       "  --xr-background-color-row-odd: var(--jp-layout-color2, #eeeeee);\n",
       "}\n",
       "\n",
       "html[theme=dark],\n",
       "body.vscode-dark {\n",
       "  --xr-font-color0: rgba(255, 255, 255, 1);\n",
       "  --xr-font-color2: rgba(255, 255, 255, 0.54);\n",
       "  --xr-font-color3: rgba(255, 255, 255, 0.38);\n",
       "  --xr-border-color: #1F1F1F;\n",
       "  --xr-disabled-color: #515151;\n",
       "  --xr-background-color: #111111;\n",
       "  --xr-background-color-row-even: #111111;\n",
       "  --xr-background-color-row-odd: #313131;\n",
       "}\n",
       "\n",
       ".xr-wrap {\n",
       "  display: block !important;\n",
       "  min-width: 300px;\n",
       "  max-width: 700px;\n",
       "}\n",
       "\n",
       ".xr-text-repr-fallback {\n",
       "  /* fallback to plain text repr when CSS is not injected (untrusted notebook) */\n",
       "  display: none;\n",
       "}\n",
       "\n",
       ".xr-header {\n",
       "  padding-top: 6px;\n",
       "  padding-bottom: 6px;\n",
       "  margin-bottom: 4px;\n",
       "  border-bottom: solid 1px var(--xr-border-color);\n",
       "}\n",
       "\n",
       ".xr-header > div,\n",
       ".xr-header > ul {\n",
       "  display: inline;\n",
       "  margin-top: 0;\n",
       "  margin-bottom: 0;\n",
       "}\n",
       "\n",
       ".xr-obj-type,\n",
       ".xr-array-name {\n",
       "  margin-left: 2px;\n",
       "  margin-right: 10px;\n",
       "}\n",
       "\n",
       ".xr-obj-type {\n",
       "  color: var(--xr-font-color2);\n",
       "}\n",
       "\n",
       ".xr-sections {\n",
       "  padding-left: 0 !important;\n",
       "  display: grid;\n",
       "  grid-template-columns: 150px auto auto 1fr 20px 20px;\n",
       "}\n",
       "\n",
       ".xr-section-item {\n",
       "  display: contents;\n",
       "}\n",
       "\n",
       ".xr-section-item input {\n",
       "  display: none;\n",
       "}\n",
       "\n",
       ".xr-section-item input + label {\n",
       "  color: var(--xr-disabled-color);\n",
       "}\n",
       "\n",
       ".xr-section-item input:enabled + label {\n",
       "  cursor: pointer;\n",
       "  color: var(--xr-font-color2);\n",
       "}\n",
       "\n",
       ".xr-section-item input:enabled + label:hover {\n",
       "  color: var(--xr-font-color0);\n",
       "}\n",
       "\n",
       ".xr-section-summary {\n",
       "  grid-column: 1;\n",
       "  color: var(--xr-font-color2);\n",
       "  font-weight: 500;\n",
       "}\n",
       "\n",
       ".xr-section-summary > span {\n",
       "  display: inline-block;\n",
       "  padding-left: 0.5em;\n",
       "}\n",
       "\n",
       ".xr-section-summary-in:disabled + label {\n",
       "  color: var(--xr-font-color2);\n",
       "}\n",
       "\n",
       ".xr-section-summary-in + label:before {\n",
       "  display: inline-block;\n",
       "  content: '►';\n",
       "  font-size: 11px;\n",
       "  width: 15px;\n",
       "  text-align: center;\n",
       "}\n",
       "\n",
       ".xr-section-summary-in:disabled + label:before {\n",
       "  color: var(--xr-disabled-color);\n",
       "}\n",
       "\n",
       ".xr-section-summary-in:checked + label:before {\n",
       "  content: '▼';\n",
       "}\n",
       "\n",
       ".xr-section-summary-in:checked + label > span {\n",
       "  display: none;\n",
       "}\n",
       "\n",
       ".xr-section-summary,\n",
       ".xr-section-inline-details {\n",
       "  padding-top: 4px;\n",
       "  padding-bottom: 4px;\n",
       "}\n",
       "\n",
       ".xr-section-inline-details {\n",
       "  grid-column: 2 / -1;\n",
       "}\n",
       "\n",
       ".xr-section-details {\n",
       "  display: none;\n",
       "  grid-column: 1 / -1;\n",
       "  margin-bottom: 5px;\n",
       "}\n",
       "\n",
       ".xr-section-summary-in:checked ~ .xr-section-details {\n",
       "  display: contents;\n",
       "}\n",
       "\n",
       ".xr-array-wrap {\n",
       "  grid-column: 1 / -1;\n",
       "  display: grid;\n",
       "  grid-template-columns: 20px auto;\n",
       "}\n",
       "\n",
       ".xr-array-wrap > label {\n",
       "  grid-column: 1;\n",
       "  vertical-align: top;\n",
       "}\n",
       "\n",
       ".xr-preview {\n",
       "  color: var(--xr-font-color3);\n",
       "}\n",
       "\n",
       ".xr-array-preview,\n",
       ".xr-array-data {\n",
       "  padding: 0 5px !important;\n",
       "  grid-column: 2;\n",
       "}\n",
       "\n",
       ".xr-array-data,\n",
       ".xr-array-in:checked ~ .xr-array-preview {\n",
       "  display: none;\n",
       "}\n",
       "\n",
       ".xr-array-in:checked ~ .xr-array-data,\n",
       ".xr-array-preview {\n",
       "  display: inline-block;\n",
       "}\n",
       "\n",
       ".xr-dim-list {\n",
       "  display: inline-block !important;\n",
       "  list-style: none;\n",
       "  padding: 0 !important;\n",
       "  margin: 0;\n",
       "}\n",
       "\n",
       ".xr-dim-list li {\n",
       "  display: inline-block;\n",
       "  padding: 0;\n",
       "  margin: 0;\n",
       "}\n",
       "\n",
       ".xr-dim-list:before {\n",
       "  content: '(';\n",
       "}\n",
       "\n",
       ".xr-dim-list:after {\n",
       "  content: ')';\n",
       "}\n",
       "\n",
       ".xr-dim-list li:not(:last-child):after {\n",
       "  content: ',';\n",
       "  padding-right: 5px;\n",
       "}\n",
       "\n",
       ".xr-has-index {\n",
       "  font-weight: bold;\n",
       "}\n",
       "\n",
       ".xr-var-list,\n",
       ".xr-var-item {\n",
       "  display: contents;\n",
       "}\n",
       "\n",
       ".xr-var-item > div,\n",
       ".xr-var-item label,\n",
       ".xr-var-item > .xr-var-name span {\n",
       "  background-color: var(--xr-background-color-row-even);\n",
       "  margin-bottom: 0;\n",
       "}\n",
       "\n",
       ".xr-var-item > .xr-var-name:hover span {\n",
       "  padding-right: 5px;\n",
       "}\n",
       "\n",
       ".xr-var-list > li:nth-child(odd) > div,\n",
       ".xr-var-list > li:nth-child(odd) > label,\n",
       ".xr-var-list > li:nth-child(odd) > .xr-var-name span {\n",
       "  background-color: var(--xr-background-color-row-odd);\n",
       "}\n",
       "\n",
       ".xr-var-name {\n",
       "  grid-column: 1;\n",
       "}\n",
       "\n",
       ".xr-var-dims {\n",
       "  grid-column: 2;\n",
       "}\n",
       "\n",
       ".xr-var-dtype {\n",
       "  grid-column: 3;\n",
       "  text-align: right;\n",
       "  color: var(--xr-font-color2);\n",
       "}\n",
       "\n",
       ".xr-var-preview {\n",
       "  grid-column: 4;\n",
       "}\n",
       "\n",
       ".xr-var-name,\n",
       ".xr-var-dims,\n",
       ".xr-var-dtype,\n",
       ".xr-preview,\n",
       ".xr-attrs dt {\n",
       "  white-space: nowrap;\n",
       "  overflow: hidden;\n",
       "  text-overflow: ellipsis;\n",
       "  padding-right: 10px;\n",
       "}\n",
       "\n",
       ".xr-var-name:hover,\n",
       ".xr-var-dims:hover,\n",
       ".xr-var-dtype:hover,\n",
       ".xr-attrs dt:hover {\n",
       "  overflow: visible;\n",
       "  width: auto;\n",
       "  z-index: 1;\n",
       "}\n",
       "\n",
       ".xr-var-attrs,\n",
       ".xr-var-data {\n",
       "  display: none;\n",
       "  background-color: var(--xr-background-color) !important;\n",
       "  padding-bottom: 5px !important;\n",
       "}\n",
       "\n",
       ".xr-var-attrs-in:checked ~ .xr-var-attrs,\n",
       ".xr-var-data-in:checked ~ .xr-var-data {\n",
       "  display: block;\n",
       "}\n",
       "\n",
       ".xr-var-data > table {\n",
       "  float: right;\n",
       "}\n",
       "\n",
       ".xr-var-name span,\n",
       ".xr-var-data,\n",
       ".xr-attrs {\n",
       "  padding-left: 25px !important;\n",
       "}\n",
       "\n",
       ".xr-attrs,\n",
       ".xr-var-attrs,\n",
       ".xr-var-data {\n",
       "  grid-column: 1 / -1;\n",
       "}\n",
       "\n",
       "dl.xr-attrs {\n",
       "  padding: 0;\n",
       "  margin: 0;\n",
       "  display: grid;\n",
       "  grid-template-columns: 125px auto;\n",
       "}\n",
       "\n",
       ".xr-attrs dt,\n",
       ".xr-attrs dd {\n",
       "  padding: 0;\n",
       "  margin: 0;\n",
       "  float: left;\n",
       "  padding-right: 10px;\n",
       "  width: auto;\n",
       "}\n",
       "\n",
       ".xr-attrs dt {\n",
       "  font-weight: normal;\n",
       "  grid-column: 1;\n",
       "}\n",
       "\n",
       ".xr-attrs dt:hover span {\n",
       "  display: inline-block;\n",
       "  background: var(--xr-background-color);\n",
       "  padding-right: 10px;\n",
       "}\n",
       "\n",
       ".xr-attrs dd {\n",
       "  grid-column: 2;\n",
       "  white-space: pre-wrap;\n",
       "  word-break: break-all;\n",
       "}\n",
       "\n",
       ".xr-icon-database,\n",
       ".xr-icon-file-text2 {\n",
       "  display: inline-block;\n",
       "  vertical-align: middle;\n",
       "  width: 1em;\n",
       "  height: 1.5em !important;\n",
       "  stroke-width: 0;\n",
       "  stroke: currentColor;\n",
       "  fill: currentColor;\n",
       "}\n",
       "</style><pre class='xr-text-repr-fallback'>&lt;xarray.DataArray &#x27;percentile&#x27; (percentile: 21)&gt;\n",
       "array([ 1,  2,  3,  4,  5,  6,  7,  8,  9, 10, 11, 12, 13, 14, 15, 16, 17, 18,\n",
       "       19, 20, 21])\n",
       "Coordinates:\n",
       "    month       int64 3\n",
       "  * percentile  (percentile) int64 1 2 3 4 5 6 7 8 9 ... 14 15 16 17 18 19 20 21</pre><div class='xr-wrap' style='display:none'><div class='xr-header'><div class='xr-obj-type'>xarray.DataArray</div><div class='xr-array-name'>'percentile'</div><ul class='xr-dim-list'><li><span class='xr-has-index'>percentile</span>: 21</li></ul></div><ul class='xr-sections'><li class='xr-section-item'><div class='xr-array-wrap'><input id='section-a8105f11-4067-4f8e-a3bd-7f0fd0a1cc17' class='xr-array-in' type='checkbox' checked><label for='section-a8105f11-4067-4f8e-a3bd-7f0fd0a1cc17' title='Show/hide data repr'><svg class='icon xr-icon-database'><use xlink:href='#icon-database'></use></svg></label><div class='xr-array-preview xr-preview'><span>1 2 3 4 5 6 7 8 9 10 11 12 13 14 15 16 17 18 19 20 21</span></div><div class='xr-array-data'><pre>array([ 1,  2,  3,  4,  5,  6,  7,  8,  9, 10, 11, 12, 13, 14, 15, 16, 17, 18,\n",
       "       19, 20, 21])</pre></div></div></li><li class='xr-section-item'><input id='section-dafa92b6-454e-4271-871e-1369b310f366' class='xr-section-summary-in' type='checkbox'  checked><label for='section-dafa92b6-454e-4271-871e-1369b310f366' class='xr-section-summary' >Coordinates: <span>(2)</span></label><div class='xr-section-inline-details'></div><div class='xr-section-details'><ul class='xr-var-list'><li class='xr-var-item'><div class='xr-var-name'><span>month</span></div><div class='xr-var-dims'>()</div><div class='xr-var-dtype'>int64</div><div class='xr-var-preview xr-preview'>3</div><input id='attrs-4af9f80c-599b-4fc6-87c3-159c3d163eed' class='xr-var-attrs-in' type='checkbox' disabled><label for='attrs-4af9f80c-599b-4fc6-87c3-159c3d163eed' title='Show/Hide attributes'><svg class='icon xr-icon-file-text2'><use xlink:href='#icon-file-text2'></use></svg></label><input id='data-00f79cb4-41c6-4fba-8eec-360019310ee4' class='xr-var-data-in' type='checkbox'><label for='data-00f79cb4-41c6-4fba-8eec-360019310ee4' title='Show/Hide data repr'><svg class='icon xr-icon-database'><use xlink:href='#icon-database'></use></svg></label><div class='xr-var-attrs'><dl class='xr-attrs'></dl></div><div class='xr-var-data'><pre>array(3)</pre></div></li><li class='xr-var-item'><div class='xr-var-name'><span class='xr-has-index'>percentile</span></div><div class='xr-var-dims'>(percentile)</div><div class='xr-var-dtype'>int64</div><div class='xr-var-preview xr-preview'>1 2 3 4 5 6 7 ... 16 17 18 19 20 21</div><input id='attrs-ae379f68-f087-4684-a7e3-f4783619d166' class='xr-var-attrs-in' type='checkbox' disabled><label for='attrs-ae379f68-f087-4684-a7e3-f4783619d166' title='Show/Hide attributes'><svg class='icon xr-icon-file-text2'><use xlink:href='#icon-file-text2'></use></svg></label><input id='data-8b1b1820-a98b-407c-bb0a-b70f14679560' class='xr-var-data-in' type='checkbox'><label for='data-8b1b1820-a98b-407c-bb0a-b70f14679560' title='Show/Hide data repr'><svg class='icon xr-icon-database'><use xlink:href='#icon-database'></use></svg></label><div class='xr-var-attrs'><dl class='xr-attrs'></dl></div><div class='xr-var-data'><pre>array([ 1,  2,  3,  4,  5,  6,  7,  8,  9, 10, 11, 12, 13, 14, 15, 16, 17, 18,\n",
       "       19, 20, 21])</pre></div></li></ul></div></li><li class='xr-section-item'><input id='section-62db4015-d551-40e0-9c5f-4cdcd3fdff8b' class='xr-section-summary-in' type='checkbox' disabled ><label for='section-62db4015-d551-40e0-9c5f-4cdcd3fdff8b' class='xr-section-summary'  title='Expand/collapse section'>Attributes: <span>(0)</span></label><div class='xr-section-inline-details'></div><div class='xr-section-details'><dl class='xr-attrs'></dl></div></li></ul></div></div>"
      ],
      "text/plain": [
       "<xarray.DataArray 'percentile' (percentile: 21)>\n",
       "array([ 1,  2,  3,  4,  5,  6,  7,  8,  9, 10, 11, 12, 13, 14, 15, 16, 17, 18,\n",
       "       19, 20, 21])\n",
       "Coordinates:\n",
       "    month       int64 3\n",
       "  * percentile  (percentile) int64 1 2 3 4 5 6 7 8 9 ... 14 15 16 17 18 19 20 21"
      ]
     },
     "execution_count": 38,
     "metadata": {},
     "output_type": "execute_result"
    }
   ],
   "source": [
    "probs_mean.percentile"
   ]
  },
  {
   "cell_type": "markdown",
   "id": "bd6b0d69",
   "metadata": {
    "papermill": {
     "duration": 0.048693,
     "end_time": "2022-03-13T23:36:24.025447",
     "exception": false,
     "start_time": "2022-03-13T23:36:23.976754",
     "status": "completed"
    },
    "tags": []
   },
   "source": [
    "### plots the probabilities "
   ]
  },
  {
   "cell_type": "code",
   "execution_count": 39,
   "id": "e958b20a",
   "metadata": {
    "execution": {
     "iopub.execute_input": "2022-03-13T23:36:24.113982Z",
     "iopub.status.busy": "2022-03-13T23:36:24.113625Z",
     "iopub.status.idle": "2022-03-13T23:36:24.141870Z",
     "shell.execute_reply": "2022-03-13T23:36:24.141530Z"
    },
    "papermill": {
     "duration": 0.07426,
     "end_time": "2022-03-13T23:36:24.141981",
     "exception": false,
     "start_time": "2022-03-13T23:36:24.067721",
     "status": "completed"
    },
    "tags": []
   },
   "outputs": [],
   "source": [
    "cmap = palettable.scientific.sequential.Bilbao_20.mpl_colormap"
   ]
  },
  {
   "cell_type": "markdown",
   "id": "7c8c8a34",
   "metadata": {
    "papermill": {
     "duration": 0.043757,
     "end_time": "2022-03-13T23:36:24.229125",
     "exception": false,
     "start_time": "2022-03-13T23:36:24.185368",
     "status": "completed"
    },
    "tags": []
   },
   "source": [
    "### quick plot "
   ]
  },
  {
   "cell_type": "code",
   "execution_count": 40,
   "id": "37eaed65",
   "metadata": {
    "execution": {
     "iopub.execute_input": "2022-03-13T23:36:24.321414Z",
     "iopub.status.busy": "2022-03-13T23:36:24.321061Z",
     "iopub.status.idle": "2022-03-13T23:36:24.366944Z",
     "shell.execute_reply": "2022-03-13T23:36:24.366649Z"
    },
    "papermill": {
     "duration": 0.092839,
     "end_time": "2022-03-13T23:36:24.367057",
     "exception": false,
     "start_time": "2022-03-13T23:36:24.274218",
     "status": "completed"
    },
    "tags": []
   },
   "outputs": [
    {
     "data": {
      "text/html": [
       "<div><svg style=\"position: absolute; width: 0; height: 0; overflow: hidden\">\n",
       "<defs>\n",
       "<symbol id=\"icon-database\" viewBox=\"0 0 32 32\">\n",
       "<path d=\"M16 0c-8.837 0-16 2.239-16 5v4c0 2.761 7.163 5 16 5s16-2.239 16-5v-4c0-2.761-7.163-5-16-5z\"></path>\n",
       "<path d=\"M16 17c-8.837 0-16-2.239-16-5v6c0 2.761 7.163 5 16 5s16-2.239 16-5v-6c0 2.761-7.163 5-16 5z\"></path>\n",
       "<path d=\"M16 26c-8.837 0-16-2.239-16-5v6c0 2.761 7.163 5 16 5s16-2.239 16-5v-6c0 2.761-7.163 5-16 5z\"></path>\n",
       "</symbol>\n",
       "<symbol id=\"icon-file-text2\" viewBox=\"0 0 32 32\">\n",
       "<path d=\"M28.681 7.159c-0.694-0.947-1.662-2.053-2.724-3.116s-2.169-2.030-3.116-2.724c-1.612-1.182-2.393-1.319-2.841-1.319h-15.5c-1.378 0-2.5 1.121-2.5 2.5v27c0 1.378 1.122 2.5 2.5 2.5h23c1.378 0 2.5-1.122 2.5-2.5v-19.5c0-0.448-0.137-1.23-1.319-2.841zM24.543 5.457c0.959 0.959 1.712 1.825 2.268 2.543h-4.811v-4.811c0.718 0.556 1.584 1.309 2.543 2.268zM28 29.5c0 0.271-0.229 0.5-0.5 0.5h-23c-0.271 0-0.5-0.229-0.5-0.5v-27c0-0.271 0.229-0.5 0.5-0.5 0 0 15.499-0 15.5 0v7c0 0.552 0.448 1 1 1h7v19.5z\"></path>\n",
       "<path d=\"M23 26h-14c-0.552 0-1-0.448-1-1s0.448-1 1-1h14c0.552 0 1 0.448 1 1s-0.448 1-1 1z\"></path>\n",
       "<path d=\"M23 22h-14c-0.552 0-1-0.448-1-1s0.448-1 1-1h14c0.552 0 1 0.448 1 1s-0.448 1-1 1z\"></path>\n",
       "<path d=\"M23 18h-14c-0.552 0-1-0.448-1-1s0.448-1 1-1h14c0.552 0 1 0.448 1 1s-0.448 1-1 1z\"></path>\n",
       "</symbol>\n",
       "</defs>\n",
       "</svg>\n",
       "<style>/* CSS stylesheet for displaying xarray objects in jupyterlab.\n",
       " *\n",
       " */\n",
       "\n",
       ":root {\n",
       "  --xr-font-color0: var(--jp-content-font-color0, rgba(0, 0, 0, 1));\n",
       "  --xr-font-color2: var(--jp-content-font-color2, rgba(0, 0, 0, 0.54));\n",
       "  --xr-font-color3: var(--jp-content-font-color3, rgba(0, 0, 0, 0.38));\n",
       "  --xr-border-color: var(--jp-border-color2, #e0e0e0);\n",
       "  --xr-disabled-color: var(--jp-layout-color3, #bdbdbd);\n",
       "  --xr-background-color: var(--jp-layout-color0, white);\n",
       "  --xr-background-color-row-even: var(--jp-layout-color1, white);\n",
       "  --xr-background-color-row-odd: var(--jp-layout-color2, #eeeeee);\n",
       "}\n",
       "\n",
       "html[theme=dark],\n",
       "body.vscode-dark {\n",
       "  --xr-font-color0: rgba(255, 255, 255, 1);\n",
       "  --xr-font-color2: rgba(255, 255, 255, 0.54);\n",
       "  --xr-font-color3: rgba(255, 255, 255, 0.38);\n",
       "  --xr-border-color: #1F1F1F;\n",
       "  --xr-disabled-color: #515151;\n",
       "  --xr-background-color: #111111;\n",
       "  --xr-background-color-row-even: #111111;\n",
       "  --xr-background-color-row-odd: #313131;\n",
       "}\n",
       "\n",
       ".xr-wrap {\n",
       "  display: block !important;\n",
       "  min-width: 300px;\n",
       "  max-width: 700px;\n",
       "}\n",
       "\n",
       ".xr-text-repr-fallback {\n",
       "  /* fallback to plain text repr when CSS is not injected (untrusted notebook) */\n",
       "  display: none;\n",
       "}\n",
       "\n",
       ".xr-header {\n",
       "  padding-top: 6px;\n",
       "  padding-bottom: 6px;\n",
       "  margin-bottom: 4px;\n",
       "  border-bottom: solid 1px var(--xr-border-color);\n",
       "}\n",
       "\n",
       ".xr-header > div,\n",
       ".xr-header > ul {\n",
       "  display: inline;\n",
       "  margin-top: 0;\n",
       "  margin-bottom: 0;\n",
       "}\n",
       "\n",
       ".xr-obj-type,\n",
       ".xr-array-name {\n",
       "  margin-left: 2px;\n",
       "  margin-right: 10px;\n",
       "}\n",
       "\n",
       ".xr-obj-type {\n",
       "  color: var(--xr-font-color2);\n",
       "}\n",
       "\n",
       ".xr-sections {\n",
       "  padding-left: 0 !important;\n",
       "  display: grid;\n",
       "  grid-template-columns: 150px auto auto 1fr 20px 20px;\n",
       "}\n",
       "\n",
       ".xr-section-item {\n",
       "  display: contents;\n",
       "}\n",
       "\n",
       ".xr-section-item input {\n",
       "  display: none;\n",
       "}\n",
       "\n",
       ".xr-section-item input + label {\n",
       "  color: var(--xr-disabled-color);\n",
       "}\n",
       "\n",
       ".xr-section-item input:enabled + label {\n",
       "  cursor: pointer;\n",
       "  color: var(--xr-font-color2);\n",
       "}\n",
       "\n",
       ".xr-section-item input:enabled + label:hover {\n",
       "  color: var(--xr-font-color0);\n",
       "}\n",
       "\n",
       ".xr-section-summary {\n",
       "  grid-column: 1;\n",
       "  color: var(--xr-font-color2);\n",
       "  font-weight: 500;\n",
       "}\n",
       "\n",
       ".xr-section-summary > span {\n",
       "  display: inline-block;\n",
       "  padding-left: 0.5em;\n",
       "}\n",
       "\n",
       ".xr-section-summary-in:disabled + label {\n",
       "  color: var(--xr-font-color2);\n",
       "}\n",
       "\n",
       ".xr-section-summary-in + label:before {\n",
       "  display: inline-block;\n",
       "  content: '►';\n",
       "  font-size: 11px;\n",
       "  width: 15px;\n",
       "  text-align: center;\n",
       "}\n",
       "\n",
       ".xr-section-summary-in:disabled + label:before {\n",
       "  color: var(--xr-disabled-color);\n",
       "}\n",
       "\n",
       ".xr-section-summary-in:checked + label:before {\n",
       "  content: '▼';\n",
       "}\n",
       "\n",
       ".xr-section-summary-in:checked + label > span {\n",
       "  display: none;\n",
       "}\n",
       "\n",
       ".xr-section-summary,\n",
       ".xr-section-inline-details {\n",
       "  padding-top: 4px;\n",
       "  padding-bottom: 4px;\n",
       "}\n",
       "\n",
       ".xr-section-inline-details {\n",
       "  grid-column: 2 / -1;\n",
       "}\n",
       "\n",
       ".xr-section-details {\n",
       "  display: none;\n",
       "  grid-column: 1 / -1;\n",
       "  margin-bottom: 5px;\n",
       "}\n",
       "\n",
       ".xr-section-summary-in:checked ~ .xr-section-details {\n",
       "  display: contents;\n",
       "}\n",
       "\n",
       ".xr-array-wrap {\n",
       "  grid-column: 1 / -1;\n",
       "  display: grid;\n",
       "  grid-template-columns: 20px auto;\n",
       "}\n",
       "\n",
       ".xr-array-wrap > label {\n",
       "  grid-column: 1;\n",
       "  vertical-align: top;\n",
       "}\n",
       "\n",
       ".xr-preview {\n",
       "  color: var(--xr-font-color3);\n",
       "}\n",
       "\n",
       ".xr-array-preview,\n",
       ".xr-array-data {\n",
       "  padding: 0 5px !important;\n",
       "  grid-column: 2;\n",
       "}\n",
       "\n",
       ".xr-array-data,\n",
       ".xr-array-in:checked ~ .xr-array-preview {\n",
       "  display: none;\n",
       "}\n",
       "\n",
       ".xr-array-in:checked ~ .xr-array-data,\n",
       ".xr-array-preview {\n",
       "  display: inline-block;\n",
       "}\n",
       "\n",
       ".xr-dim-list {\n",
       "  display: inline-block !important;\n",
       "  list-style: none;\n",
       "  padding: 0 !important;\n",
       "  margin: 0;\n",
       "}\n",
       "\n",
       ".xr-dim-list li {\n",
       "  display: inline-block;\n",
       "  padding: 0;\n",
       "  margin: 0;\n",
       "}\n",
       "\n",
       ".xr-dim-list:before {\n",
       "  content: '(';\n",
       "}\n",
       "\n",
       ".xr-dim-list:after {\n",
       "  content: ')';\n",
       "}\n",
       "\n",
       ".xr-dim-list li:not(:last-child):after {\n",
       "  content: ',';\n",
       "  padding-right: 5px;\n",
       "}\n",
       "\n",
       ".xr-has-index {\n",
       "  font-weight: bold;\n",
       "}\n",
       "\n",
       ".xr-var-list,\n",
       ".xr-var-item {\n",
       "  display: contents;\n",
       "}\n",
       "\n",
       ".xr-var-item > div,\n",
       ".xr-var-item label,\n",
       ".xr-var-item > .xr-var-name span {\n",
       "  background-color: var(--xr-background-color-row-even);\n",
       "  margin-bottom: 0;\n",
       "}\n",
       "\n",
       ".xr-var-item > .xr-var-name:hover span {\n",
       "  padding-right: 5px;\n",
       "}\n",
       "\n",
       ".xr-var-list > li:nth-child(odd) > div,\n",
       ".xr-var-list > li:nth-child(odd) > label,\n",
       ".xr-var-list > li:nth-child(odd) > .xr-var-name span {\n",
       "  background-color: var(--xr-background-color-row-odd);\n",
       "}\n",
       "\n",
       ".xr-var-name {\n",
       "  grid-column: 1;\n",
       "}\n",
       "\n",
       ".xr-var-dims {\n",
       "  grid-column: 2;\n",
       "}\n",
       "\n",
       ".xr-var-dtype {\n",
       "  grid-column: 3;\n",
       "  text-align: right;\n",
       "  color: var(--xr-font-color2);\n",
       "}\n",
       "\n",
       ".xr-var-preview {\n",
       "  grid-column: 4;\n",
       "}\n",
       "\n",
       ".xr-var-name,\n",
       ".xr-var-dims,\n",
       ".xr-var-dtype,\n",
       ".xr-preview,\n",
       ".xr-attrs dt {\n",
       "  white-space: nowrap;\n",
       "  overflow: hidden;\n",
       "  text-overflow: ellipsis;\n",
       "  padding-right: 10px;\n",
       "}\n",
       "\n",
       ".xr-var-name:hover,\n",
       ".xr-var-dims:hover,\n",
       ".xr-var-dtype:hover,\n",
       ".xr-attrs dt:hover {\n",
       "  overflow: visible;\n",
       "  width: auto;\n",
       "  z-index: 1;\n",
       "}\n",
       "\n",
       ".xr-var-attrs,\n",
       ".xr-var-data {\n",
       "  display: none;\n",
       "  background-color: var(--xr-background-color) !important;\n",
       "  padding-bottom: 5px !important;\n",
       "}\n",
       "\n",
       ".xr-var-attrs-in:checked ~ .xr-var-attrs,\n",
       ".xr-var-data-in:checked ~ .xr-var-data {\n",
       "  display: block;\n",
       "}\n",
       "\n",
       ".xr-var-data > table {\n",
       "  float: right;\n",
       "}\n",
       "\n",
       ".xr-var-name span,\n",
       ".xr-var-data,\n",
       ".xr-attrs {\n",
       "  padding-left: 25px !important;\n",
       "}\n",
       "\n",
       ".xr-attrs,\n",
       ".xr-var-attrs,\n",
       ".xr-var-data {\n",
       "  grid-column: 1 / -1;\n",
       "}\n",
       "\n",
       "dl.xr-attrs {\n",
       "  padding: 0;\n",
       "  margin: 0;\n",
       "  display: grid;\n",
       "  grid-template-columns: 125px auto;\n",
       "}\n",
       "\n",
       ".xr-attrs dt,\n",
       ".xr-attrs dd {\n",
       "  padding: 0;\n",
       "  margin: 0;\n",
       "  float: left;\n",
       "  padding-right: 10px;\n",
       "  width: auto;\n",
       "}\n",
       "\n",
       ".xr-attrs dt {\n",
       "  font-weight: normal;\n",
       "  grid-column: 1;\n",
       "}\n",
       "\n",
       ".xr-attrs dt:hover span {\n",
       "  display: inline-block;\n",
       "  background: var(--xr-background-color);\n",
       "  padding-right: 10px;\n",
       "}\n",
       "\n",
       ".xr-attrs dd {\n",
       "  grid-column: 2;\n",
       "  white-space: pre-wrap;\n",
       "  word-break: break-all;\n",
       "}\n",
       "\n",
       ".xr-icon-database,\n",
       ".xr-icon-file-text2 {\n",
       "  display: inline-block;\n",
       "  vertical-align: middle;\n",
       "  width: 1em;\n",
       "  height: 1.5em !important;\n",
       "  stroke-width: 0;\n",
       "  stroke: currentColor;\n",
       "  fill: currentColor;\n",
       "}\n",
       "</style><pre class='xr-text-repr-fallback'>&lt;xarray.Dataset&gt;\n",
       "Dimensions:     (time: 1, step: 3, percentile: 6, lon: 726, lat: 486)\n",
       "Coordinates:\n",
       "  * time        (time) datetime64[ns] 2022-03-01\n",
       "  * step        (step) int64 3 4 5\n",
       "    month       int64 3\n",
       "  * percentile  (percentile) int64 1 2 3 4 5 6\n",
       "  * lon         (lon) float64 120.0 120.2 120.3 120.5 ... 239.7 239.8 240.0\n",
       "  * lat         (lat) float64 -50.0 -49.84 -49.67 -49.51 ... 29.67 29.84 30.0\n",
       "Data variables:\n",
       "    precip      (percentile, time, step, lat, lon) float64 dask.array&lt;chunksize=(6, 1, 3, 486, 726), meta=np.ndarray&gt;\n",
       "Attributes:\n",
       "    pct_values:  [0.02 0.05 0.1  0.15 0.2  0.25 0.3  0.35 0.4  0.45 0.5  0.55...\n",
       "    period:      seasonal</pre><div class='xr-wrap' style='display:none'><div class='xr-header'><div class='xr-obj-type'>xarray.Dataset</div></div><ul class='xr-sections'><li class='xr-section-item'><input id='section-b72dfb1c-d264-4420-81a3-d951b61e6309' class='xr-section-summary-in' type='checkbox' disabled ><label for='section-b72dfb1c-d264-4420-81a3-d951b61e6309' class='xr-section-summary'  title='Expand/collapse section'>Dimensions:</label><div class='xr-section-inline-details'><ul class='xr-dim-list'><li><span class='xr-has-index'>time</span>: 1</li><li><span class='xr-has-index'>step</span>: 3</li><li><span class='xr-has-index'>percentile</span>: 6</li><li><span class='xr-has-index'>lon</span>: 726</li><li><span class='xr-has-index'>lat</span>: 486</li></ul></div><div class='xr-section-details'></div></li><li class='xr-section-item'><input id='section-8f63c050-3447-4b3d-a76f-16e0c5dfe6d1' class='xr-section-summary-in' type='checkbox'  checked><label for='section-8f63c050-3447-4b3d-a76f-16e0c5dfe6d1' class='xr-section-summary' >Coordinates: <span>(6)</span></label><div class='xr-section-inline-details'></div><div class='xr-section-details'><ul class='xr-var-list'><li class='xr-var-item'><div class='xr-var-name'><span class='xr-has-index'>time</span></div><div class='xr-var-dims'>(time)</div><div class='xr-var-dtype'>datetime64[ns]</div><div class='xr-var-preview xr-preview'>2022-03-01</div><input id='attrs-6c98da5d-1506-407d-95c0-1e9eff92e287' class='xr-var-attrs-in' type='checkbox' disabled><label for='attrs-6c98da5d-1506-407d-95c0-1e9eff92e287' title='Show/Hide attributes'><svg class='icon xr-icon-file-text2'><use xlink:href='#icon-file-text2'></use></svg></label><input id='data-94679c56-7059-4caa-bdb5-e9b9d52ab932' class='xr-var-data-in' type='checkbox'><label for='data-94679c56-7059-4caa-bdb5-e9b9d52ab932' title='Show/Hide data repr'><svg class='icon xr-icon-database'><use xlink:href='#icon-database'></use></svg></label><div class='xr-var-attrs'><dl class='xr-attrs'></dl></div><div class='xr-var-data'><pre>array([&#x27;2022-03-01T00:00:00.000000000&#x27;], dtype=&#x27;datetime64[ns]&#x27;)</pre></div></li><li class='xr-var-item'><div class='xr-var-name'><span class='xr-has-index'>step</span></div><div class='xr-var-dims'>(step)</div><div class='xr-var-dtype'>int64</div><div class='xr-var-preview xr-preview'>3 4 5</div><input id='attrs-dca70e2a-3603-4a96-8189-0392fb0b854a' class='xr-var-attrs-in' type='checkbox' disabled><label for='attrs-dca70e2a-3603-4a96-8189-0392fb0b854a' title='Show/Hide attributes'><svg class='icon xr-icon-file-text2'><use xlink:href='#icon-file-text2'></use></svg></label><input id='data-3f8c77ad-9d79-41a4-9811-356179e92b92' class='xr-var-data-in' type='checkbox'><label for='data-3f8c77ad-9d79-41a4-9811-356179e92b92' title='Show/Hide data repr'><svg class='icon xr-icon-database'><use xlink:href='#icon-database'></use></svg></label><div class='xr-var-attrs'><dl class='xr-attrs'></dl></div><div class='xr-var-data'><pre>array([3, 4, 5])</pre></div></li><li class='xr-var-item'><div class='xr-var-name'><span>month</span></div><div class='xr-var-dims'>()</div><div class='xr-var-dtype'>int64</div><div class='xr-var-preview xr-preview'>3</div><input id='attrs-6f37e092-c4e6-4791-a5d6-da637f614d47' class='xr-var-attrs-in' type='checkbox' disabled><label for='attrs-6f37e092-c4e6-4791-a5d6-da637f614d47' title='Show/Hide attributes'><svg class='icon xr-icon-file-text2'><use xlink:href='#icon-file-text2'></use></svg></label><input id='data-4e47eab7-a6ec-4781-8928-0d75060680c2' class='xr-var-data-in' type='checkbox'><label for='data-4e47eab7-a6ec-4781-8928-0d75060680c2' title='Show/Hide data repr'><svg class='icon xr-icon-database'><use xlink:href='#icon-database'></use></svg></label><div class='xr-var-attrs'><dl class='xr-attrs'></dl></div><div class='xr-var-data'><pre>array(3)</pre></div></li><li class='xr-var-item'><div class='xr-var-name'><span class='xr-has-index'>percentile</span></div><div class='xr-var-dims'>(percentile)</div><div class='xr-var-dtype'>int64</div><div class='xr-var-preview xr-preview'>1 2 3 4 5 6</div><input id='attrs-77191eed-d07d-4e9a-a070-88e7ff343943' class='xr-var-attrs-in' type='checkbox' disabled><label for='attrs-77191eed-d07d-4e9a-a070-88e7ff343943' title='Show/Hide attributes'><svg class='icon xr-icon-file-text2'><use xlink:href='#icon-file-text2'></use></svg></label><input id='data-82c474f5-024d-4790-b5a8-9d741258309a' class='xr-var-data-in' type='checkbox'><label for='data-82c474f5-024d-4790-b5a8-9d741258309a' title='Show/Hide data repr'><svg class='icon xr-icon-database'><use xlink:href='#icon-database'></use></svg></label><div class='xr-var-attrs'><dl class='xr-attrs'></dl></div><div class='xr-var-data'><pre>array([1, 2, 3, 4, 5, 6])</pre></div></li><li class='xr-var-item'><div class='xr-var-name'><span class='xr-has-index'>lon</span></div><div class='xr-var-dims'>(lon)</div><div class='xr-var-dtype'>float64</div><div class='xr-var-preview xr-preview'>120.0 120.2 120.3 ... 239.8 240.0</div><input id='attrs-df394844-133b-45c4-9755-0d00937b709a' class='xr-var-attrs-in' type='checkbox' disabled><label for='attrs-df394844-133b-45c4-9755-0d00937b709a' title='Show/Hide attributes'><svg class='icon xr-icon-file-text2'><use xlink:href='#icon-file-text2'></use></svg></label><input id='data-e53ed984-6c28-4f8a-b73a-929b157f123b' class='xr-var-data-in' type='checkbox'><label for='data-e53ed984-6c28-4f8a-b73a-929b157f123b' title='Show/Hide data repr'><svg class='icon xr-icon-database'><use xlink:href='#icon-database'></use></svg></label><div class='xr-var-attrs'><dl class='xr-attrs'></dl></div><div class='xr-var-data'><pre>array([120.      , 120.165517, 120.331034, ..., 239.668966, 239.834483,\n",
       "       240.      ])</pre></div></li><li class='xr-var-item'><div class='xr-var-name'><span class='xr-has-index'>lat</span></div><div class='xr-var-dims'>(lat)</div><div class='xr-var-dtype'>float64</div><div class='xr-var-preview xr-preview'>-50.0 -49.84 -49.67 ... 29.84 30.0</div><input id='attrs-8892d4b7-7950-42b3-b270-ea4591b5a736' class='xr-var-attrs-in' type='checkbox' disabled><label for='attrs-8892d4b7-7950-42b3-b270-ea4591b5a736' title='Show/Hide attributes'><svg class='icon xr-icon-file-text2'><use xlink:href='#icon-file-text2'></use></svg></label><input id='data-a0e97842-a668-4c11-bf67-30209d743abf' class='xr-var-data-in' type='checkbox'><label for='data-a0e97842-a668-4c11-bf67-30209d743abf' title='Show/Hide data repr'><svg class='icon xr-icon-database'><use xlink:href='#icon-database'></use></svg></label><div class='xr-var-attrs'><dl class='xr-attrs'></dl></div><div class='xr-var-data'><pre>array([-50.      , -49.835052, -49.670103, ...,  29.670103,  29.835052,\n",
       "        30.      ])</pre></div></li></ul></div></li><li class='xr-section-item'><input id='section-44a9c514-a348-45a3-bbce-ef1c1671aa61' class='xr-section-summary-in' type='checkbox'  checked><label for='section-44a9c514-a348-45a3-bbce-ef1c1671aa61' class='xr-section-summary' >Data variables: <span>(1)</span></label><div class='xr-section-inline-details'></div><div class='xr-section-details'><ul class='xr-var-list'><li class='xr-var-item'><div class='xr-var-name'><span>precip</span></div><div class='xr-var-dims'>(percentile, time, step, lat, lon)</div><div class='xr-var-dtype'>float64</div><div class='xr-var-preview xr-preview'>dask.array&lt;chunksize=(6, 1, 3, 486, 726), meta=np.ndarray&gt;</div><input id='attrs-09a28889-266c-46a2-a67a-5f3bb28f9315' class='xr-var-attrs-in' type='checkbox' disabled><label for='attrs-09a28889-266c-46a2-a67a-5f3bb28f9315' title='Show/Hide attributes'><svg class='icon xr-icon-file-text2'><use xlink:href='#icon-file-text2'></use></svg></label><input id='data-71a08e25-217d-42fc-b424-ecbb5250f29e' class='xr-var-data-in' type='checkbox'><label for='data-71a08e25-217d-42fc-b424-ecbb5250f29e' title='Show/Hide data repr'><svg class='icon xr-icon-database'><use xlink:href='#icon-database'></use></svg></label><div class='xr-var-attrs'><dl class='xr-attrs'></dl></div><div class='xr-var-data'><table>\n",
       "    <tr>\n",
       "        <td>\n",
       "            <table>\n",
       "                <thead>\n",
       "                    <tr>\n",
       "                        <td> </td>\n",
       "                        <th> Array </th>\n",
       "                        <th> Chunk </th>\n",
       "                    </tr>\n",
       "                </thead>\n",
       "                <tbody>\n",
       "                    \n",
       "                    <tr>\n",
       "                        <th> Bytes </th>\n",
       "                        <td> 48.45 MiB </td>\n",
       "                        <td> 48.45 MiB </td>\n",
       "                    </tr>\n",
       "                    \n",
       "                    <tr>\n",
       "                        <th> Shape </th>\n",
       "                        <td> (6, 1, 3, 486, 726) </td>\n",
       "                        <td> (6, 1, 3, 486, 726) </td>\n",
       "                    </tr>\n",
       "                    <tr>\n",
       "                        <th> Count </th>\n",
       "                        <td> 92 Tasks </td>\n",
       "                        <td> 1 Chunks </td>\n",
       "                    </tr>\n",
       "                    <tr>\n",
       "                    <th> Type </th>\n",
       "                    <td> float64 </td>\n",
       "                    <td> numpy.ndarray </td>\n",
       "                    </tr>\n",
       "                </tbody>\n",
       "            </table>\n",
       "        </td>\n",
       "        <td>\n",
       "        <svg width=\"374\" height=\"145\" style=\"stroke:rgb(0,0,0);stroke-width:1\" >\n",
       "\n",
       "  <!-- Horizontal lines -->\n",
       "  <line x1=\"0\" y1=\"0\" x2=\"25\" y2=\"0\" style=\"stroke-width:2\" />\n",
       "  <line x1=\"0\" y1=\"25\" x2=\"25\" y2=\"25\" style=\"stroke-width:2\" />\n",
       "\n",
       "  <!-- Vertical lines -->\n",
       "  <line x1=\"0\" y1=\"0\" x2=\"0\" y2=\"25\" style=\"stroke-width:2\" />\n",
       "  <line x1=\"25\" y1=\"0\" x2=\"25\" y2=\"25\" style=\"stroke-width:2\" />\n",
       "\n",
       "  <!-- Colored Rectangle -->\n",
       "  <polygon points=\"0.0,0.0 25.412616514582485,0.0 25.412616514582485,25.412616514582485 0.0,25.412616514582485\" style=\"fill:#ECB172A0;stroke-width:0\"/>\n",
       "\n",
       "  <!-- Text -->\n",
       "  <text x=\"12.706308\" y=\"45.412617\" font-size=\"1.0rem\" font-weight=\"100\" text-anchor=\"middle\" >1</text>\n",
       "  <text x=\"45.412617\" y=\"12.706308\" font-size=\"1.0rem\" font-weight=\"100\" text-anchor=\"middle\" transform=\"rotate(0,45.412617,12.706308)\">6</text>\n",
       "\n",
       "\n",
       "  <!-- Horizontal lines -->\n",
       "  <line x1=\"95\" y1=\"0\" x2=\"109\" y2=\"14\" style=\"stroke-width:2\" />\n",
       "  <line x1=\"95\" y1=\"80\" x2=\"109\" y2=\"95\" style=\"stroke-width:2\" />\n",
       "\n",
       "  <!-- Vertical lines -->\n",
       "  <line x1=\"95\" y1=\"0\" x2=\"95\" y2=\"80\" style=\"stroke-width:2\" />\n",
       "  <line x1=\"109\" y1=\"14\" x2=\"109\" y2=\"95\" style=\"stroke-width:2\" />\n",
       "\n",
       "  <!-- Colored Rectangle -->\n",
       "  <polygon points=\"95.0,0.0 109.9485979497544,14.948597949754403 109.9485979497544,95.2791764621511 95.0,80.3305785123967\" style=\"fill:#ECB172A0;stroke-width:0\"/>\n",
       "\n",
       "  <!-- Horizontal lines -->\n",
       "  <line x1=\"95\" y1=\"0\" x2=\"215\" y2=\"0\" style=\"stroke-width:2\" />\n",
       "  <line x1=\"109\" y1=\"14\" x2=\"229\" y2=\"14\" style=\"stroke-width:2\" />\n",
       "\n",
       "  <!-- Vertical lines -->\n",
       "  <line x1=\"95\" y1=\"0\" x2=\"109\" y2=\"14\" style=\"stroke-width:2\" />\n",
       "  <line x1=\"215\" y1=\"0\" x2=\"229\" y2=\"14\" style=\"stroke-width:2\" />\n",
       "\n",
       "  <!-- Colored Rectangle -->\n",
       "  <polygon points=\"95.0,0.0 215.0,0.0 229.9485979497544,14.948597949754403 109.9485979497544,14.948597949754403\" style=\"fill:#ECB172A0;stroke-width:0\"/>\n",
       "\n",
       "  <!-- Horizontal lines -->\n",
       "  <line x1=\"109\" y1=\"14\" x2=\"229\" y2=\"14\" style=\"stroke-width:2\" />\n",
       "  <line x1=\"109\" y1=\"95\" x2=\"229\" y2=\"95\" style=\"stroke-width:2\" />\n",
       "\n",
       "  <!-- Vertical lines -->\n",
       "  <line x1=\"109\" y1=\"14\" x2=\"109\" y2=\"95\" style=\"stroke-width:2\" />\n",
       "  <line x1=\"229\" y1=\"14\" x2=\"229\" y2=\"95\" style=\"stroke-width:2\" />\n",
       "\n",
       "  <!-- Colored Rectangle -->\n",
       "  <polygon points=\"109.9485979497544,14.948597949754403 229.9485979497544,14.948597949754403 229.9485979497544,95.2791764621511 109.9485979497544,95.2791764621511\" style=\"fill:#ECB172A0;stroke-width:0\"/>\n",
       "\n",
       "  <!-- Text -->\n",
       "  <text x=\"169.948598\" y=\"115.279176\" font-size=\"1.0rem\" font-weight=\"100\" text-anchor=\"middle\" >726</text>\n",
       "  <text x=\"249.948598\" y=\"55.113887\" font-size=\"1.0rem\" font-weight=\"100\" text-anchor=\"middle\" transform=\"rotate(-90,249.948598,55.113887)\">486</text>\n",
       "  <text x=\"92.474299\" y=\"107.804877\" font-size=\"1.0rem\" font-weight=\"100\" text-anchor=\"middle\" transform=\"rotate(45,92.474299,107.804877)\">3</text>\n",
       "</svg>\n",
       "        </td>\n",
       "    </tr>\n",
       "</table></div></li></ul></div></li><li class='xr-section-item'><input id='section-0c477a0c-6984-4641-9dc2-16a2a60e9da2' class='xr-section-summary-in' type='checkbox'  checked><label for='section-0c477a0c-6984-4641-9dc2-16a2a60e9da2' class='xr-section-summary' >Attributes: <span>(2)</span></label><div class='xr-section-inline-details'></div><div class='xr-section-details'><dl class='xr-attrs'><dt><span>pct_values :</span></dt><dd>[0.02 0.05 0.1  0.15 0.2  0.25 0.3  0.35 0.4  0.45 0.5  0.55 0.6  0.65\n",
       " 0.7  0.75 0.8  0.85 0.9  0.95]</dd><dt><span>period :</span></dt><dd>seasonal</dd></dl></div></li></ul></div></div>"
      ],
      "text/plain": [
       "<xarray.Dataset>\n",
       "Dimensions:     (time: 1, step: 3, percentile: 6, lon: 726, lat: 486)\n",
       "Coordinates:\n",
       "  * time        (time) datetime64[ns] 2022-03-01\n",
       "  * step        (step) int64 3 4 5\n",
       "    month       int64 3\n",
       "  * percentile  (percentile) int64 1 2 3 4 5 6\n",
       "  * lon         (lon) float64 120.0 120.2 120.3 120.5 ... 239.7 239.8 240.0\n",
       "  * lat         (lat) float64 -50.0 -49.84 -49.67 -49.51 ... 29.67 29.84 30.0\n",
       "Data variables:\n",
       "    precip      (percentile, time, step, lat, lon) float64 dask.array<chunksize=(6, 1, 3, 486, 726), meta=np.ndarray>\n",
       "Attributes:\n",
       "    pct_values:  [0.02 0.05 0.1  0.15 0.2  0.25 0.3  0.35 0.4  0.45 0.5  0.55...\n",
       "    period:      seasonal"
      ]
     },
     "execution_count": 40,
     "metadata": {},
     "output_type": "execute_result"
    }
   ],
   "source": [
    "probs_mean.sel({quantile:slice(None, max_cat)})"
   ]
  },
  {
   "cell_type": "code",
   "execution_count": 41,
   "id": "7ed16feb",
   "metadata": {
    "execution": {
     "iopub.execute_input": "2022-03-13T23:36:24.464122Z",
     "iopub.status.busy": "2022-03-13T23:36:24.463578Z",
     "iopub.status.idle": "2022-03-13T23:36:45.890586Z",
     "shell.execute_reply": "2022-03-13T23:36:45.890866Z"
    },
    "papermill": {
     "duration": 21.476993,
     "end_time": "2022-03-13T23:36:45.890995",
     "exception": false,
     "start_time": "2022-03-13T23:36:24.414002",
     "status": "completed"
    },
    "tags": []
   },
   "outputs": [
    {
     "data": {
      "image/png": "[encoded data removed]",
      "text/plain": [
       "<Figure size 720x216 with 4 Axes>"
      ]
     },
     "metadata": {
      "needs_background": "light"
     },
     "output_type": "display_data"
    }
   ],
   "source": [
    "_ = probs_mean.sel({quantile:slice(None, max_cat)}).sum(quantile)[varname].squeeze().plot.contourf(col='step', levels=10, cmap=cmap)"
   ]
  },
  {
   "cell_type": "markdown",
   "id": "4d305552",
   "metadata": {
    "papermill": {
     "duration": 0.046993,
     "end_time": "2022-03-13T23:36:45.981633",
     "exception": false,
     "start_time": "2022-03-13T23:36:45.934640",
     "status": "completed"
    },
    "tags": []
   },
   "source": [
    "### plot the probabilities for rainfall being below the climatological 25th percentile, for the next 3 months period  "
   ]
  },
  {
   "cell_type": "code",
   "execution_count": 42,
   "id": "0b61d442",
   "metadata": {
    "execution": {
     "iopub.execute_input": "2022-03-13T23:36:46.075175Z",
     "iopub.status.busy": "2022-03-13T23:36:46.074802Z",
     "iopub.status.idle": "2022-03-13T23:36:46.105012Z",
     "shell.execute_reply": "2022-03-13T23:36:46.105294Z"
    },
    "papermill": {
     "duration": 0.078595,
     "end_time": "2022-03-13T23:36:46.105424",
     "exception": false,
     "start_time": "2022-03-13T23:36:46.026829",
     "status": "completed"
    },
    "tags": []
   },
   "outputs": [
    {
     "data": {
      "text/html": [
       "<div><svg style=\"position: absolute; width: 0; height: 0; overflow: hidden\">\n",
       "<defs>\n",
       "<symbol id=\"icon-database\" viewBox=\"0 0 32 32\">\n",
       "<path d=\"M16 0c-8.837 0-16 2.239-16 5v4c0 2.761 7.163 5 16 5s16-2.239 16-5v-4c0-2.761-7.163-5-16-5z\"></path>\n",
       "<path d=\"M16 17c-8.837 0-16-2.239-16-5v6c0 2.761 7.163 5 16 5s16-2.239 16-5v-6c0 2.761-7.163 5-16 5z\"></path>\n",
       "<path d=\"M16 26c-8.837 0-16-2.239-16-5v6c0 2.761 7.163 5 16 5s16-2.239 16-5v-6c0 2.761-7.163 5-16 5z\"></path>\n",
       "</symbol>\n",
       "<symbol id=\"icon-file-text2\" viewBox=\"0 0 32 32\">\n",
       "<path d=\"M28.681 7.159c-0.694-0.947-1.662-2.053-2.724-3.116s-2.169-2.030-3.116-2.724c-1.612-1.182-2.393-1.319-2.841-1.319h-15.5c-1.378 0-2.5 1.121-2.5 2.5v27c0 1.378 1.122 2.5 2.5 2.5h23c1.378 0 2.5-1.122 2.5-2.5v-19.5c0-0.448-0.137-1.23-1.319-2.841zM24.543 5.457c0.959 0.959 1.712 1.825 2.268 2.543h-4.811v-4.811c0.718 0.556 1.584 1.309 2.543 2.268zM28 29.5c0 0.271-0.229 0.5-0.5 0.5h-23c-0.271 0-0.5-0.229-0.5-0.5v-27c0-0.271 0.229-0.5 0.5-0.5 0 0 15.499-0 15.5 0v7c0 0.552 0.448 1 1 1h7v19.5z\"></path>\n",
       "<path d=\"M23 26h-14c-0.552 0-1-0.448-1-1s0.448-1 1-1h14c0.552 0 1 0.448 1 1s-0.448 1-1 1z\"></path>\n",
       "<path d=\"M23 22h-14c-0.552 0-1-0.448-1-1s0.448-1 1-1h14c0.552 0 1 0.448 1 1s-0.448 1-1 1z\"></path>\n",
       "<path d=\"M23 18h-14c-0.552 0-1-0.448-1-1s0.448-1 1-1h14c0.552 0 1 0.448 1 1s-0.448 1-1 1z\"></path>\n",
       "</symbol>\n",
       "</defs>\n",
       "</svg>\n",
       "<style>/* CSS stylesheet for displaying xarray objects in jupyterlab.\n",
       " *\n",
       " */\n",
       "\n",
       ":root {\n",
       "  --xr-font-color0: var(--jp-content-font-color0, rgba(0, 0, 0, 1));\n",
       "  --xr-font-color2: var(--jp-content-font-color2, rgba(0, 0, 0, 0.54));\n",
       "  --xr-font-color3: var(--jp-content-font-color3, rgba(0, 0, 0, 0.38));\n",
       "  --xr-border-color: var(--jp-border-color2, #e0e0e0);\n",
       "  --xr-disabled-color: var(--jp-layout-color3, #bdbdbd);\n",
       "  --xr-background-color: var(--jp-layout-color0, white);\n",
       "  --xr-background-color-row-even: var(--jp-layout-color1, white);\n",
       "  --xr-background-color-row-odd: var(--jp-layout-color2, #eeeeee);\n",
       "}\n",
       "\n",
       "html[theme=dark],\n",
       "body.vscode-dark {\n",
       "  --xr-font-color0: rgba(255, 255, 255, 1);\n",
       "  --xr-font-color2: rgba(255, 255, 255, 0.54);\n",
       "  --xr-font-color3: rgba(255, 255, 255, 0.38);\n",
       "  --xr-border-color: #1F1F1F;\n",
       "  --xr-disabled-color: #515151;\n",
       "  --xr-background-color: #111111;\n",
       "  --xr-background-color-row-even: #111111;\n",
       "  --xr-background-color-row-odd: #313131;\n",
       "}\n",
       "\n",
       ".xr-wrap {\n",
       "  display: block !important;\n",
       "  min-width: 300px;\n",
       "  max-width: 700px;\n",
       "}\n",
       "\n",
       ".xr-text-repr-fallback {\n",
       "  /* fallback to plain text repr when CSS is not injected (untrusted notebook) */\n",
       "  display: none;\n",
       "}\n",
       "\n",
       ".xr-header {\n",
       "  padding-top: 6px;\n",
       "  padding-bottom: 6px;\n",
       "  margin-bottom: 4px;\n",
       "  border-bottom: solid 1px var(--xr-border-color);\n",
       "}\n",
       "\n",
       ".xr-header > div,\n",
       ".xr-header > ul {\n",
       "  display: inline;\n",
       "  margin-top: 0;\n",
       "  margin-bottom: 0;\n",
       "}\n",
       "\n",
       ".xr-obj-type,\n",
       ".xr-array-name {\n",
       "  margin-left: 2px;\n",
       "  margin-right: 10px;\n",
       "}\n",
       "\n",
       ".xr-obj-type {\n",
       "  color: var(--xr-font-color2);\n",
       "}\n",
       "\n",
       ".xr-sections {\n",
       "  padding-left: 0 !important;\n",
       "  display: grid;\n",
       "  grid-template-columns: 150px auto auto 1fr 20px 20px;\n",
       "}\n",
       "\n",
       ".xr-section-item {\n",
       "  display: contents;\n",
       "}\n",
       "\n",
       ".xr-section-item input {\n",
       "  display: none;\n",
       "}\n",
       "\n",
       ".xr-section-item input + label {\n",
       "  color: var(--xr-disabled-color);\n",
       "}\n",
       "\n",
       ".xr-section-item input:enabled + label {\n",
       "  cursor: pointer;\n",
       "  color: var(--xr-font-color2);\n",
       "}\n",
       "\n",
       ".xr-section-item input:enabled + label:hover {\n",
       "  color: var(--xr-font-color0);\n",
       "}\n",
       "\n",
       ".xr-section-summary {\n",
       "  grid-column: 1;\n",
       "  color: var(--xr-font-color2);\n",
       "  font-weight: 500;\n",
       "}\n",
       "\n",
       ".xr-section-summary > span {\n",
       "  display: inline-block;\n",
       "  padding-left: 0.5em;\n",
       "}\n",
       "\n",
       ".xr-section-summary-in:disabled + label {\n",
       "  color: var(--xr-font-color2);\n",
       "}\n",
       "\n",
       ".xr-section-summary-in + label:before {\n",
       "  display: inline-block;\n",
       "  content: '►';\n",
       "  font-size: 11px;\n",
       "  width: 15px;\n",
       "  text-align: center;\n",
       "}\n",
       "\n",
       ".xr-section-summary-in:disabled + label:before {\n",
       "  color: var(--xr-disabled-color);\n",
       "}\n",
       "\n",
       ".xr-section-summary-in:checked + label:before {\n",
       "  content: '▼';\n",
       "}\n",
       "\n",
       ".xr-section-summary-in:checked + label > span {\n",
       "  display: none;\n",
       "}\n",
       "\n",
       ".xr-section-summary,\n",
       ".xr-section-inline-details {\n",
       "  padding-top: 4px;\n",
       "  padding-bottom: 4px;\n",
       "}\n",
       "\n",
       ".xr-section-inline-details {\n",
       "  grid-column: 2 / -1;\n",
       "}\n",
       "\n",
       ".xr-section-details {\n",
       "  display: none;\n",
       "  grid-column: 1 / -1;\n",
       "  margin-bottom: 5px;\n",
       "}\n",
       "\n",
       ".xr-section-summary-in:checked ~ .xr-section-details {\n",
       "  display: contents;\n",
       "}\n",
       "\n",
       ".xr-array-wrap {\n",
       "  grid-column: 1 / -1;\n",
       "  display: grid;\n",
       "  grid-template-columns: 20px auto;\n",
       "}\n",
       "\n",
       ".xr-array-wrap > label {\n",
       "  grid-column: 1;\n",
       "  vertical-align: top;\n",
       "}\n",
       "\n",
       ".xr-preview {\n",
       "  color: var(--xr-font-color3);\n",
       "}\n",
       "\n",
       ".xr-array-preview,\n",
       ".xr-array-data {\n",
       "  padding: 0 5px !important;\n",
       "  grid-column: 2;\n",
       "}\n",
       "\n",
       ".xr-array-data,\n",
       ".xr-array-in:checked ~ .xr-array-preview {\n",
       "  display: none;\n",
       "}\n",
       "\n",
       ".xr-array-in:checked ~ .xr-array-data,\n",
       ".xr-array-preview {\n",
       "  display: inline-block;\n",
       "}\n",
       "\n",
       ".xr-dim-list {\n",
       "  display: inline-block !important;\n",
       "  list-style: none;\n",
       "  padding: 0 !important;\n",
       "  margin: 0;\n",
       "}\n",
       "\n",
       ".xr-dim-list li {\n",
       "  display: inline-block;\n",
       "  padding: 0;\n",
       "  margin: 0;\n",
       "}\n",
       "\n",
       ".xr-dim-list:before {\n",
       "  content: '(';\n",
       "}\n",
       "\n",
       ".xr-dim-list:after {\n",
       "  content: ')';\n",
       "}\n",
       "\n",
       ".xr-dim-list li:not(:last-child):after {\n",
       "  content: ',';\n",
       "  padding-right: 5px;\n",
       "}\n",
       "\n",
       ".xr-has-index {\n",
       "  font-weight: bold;\n",
       "}\n",
       "\n",
       ".xr-var-list,\n",
       ".xr-var-item {\n",
       "  display: contents;\n",
       "}\n",
       "\n",
       ".xr-var-item > div,\n",
       ".xr-var-item label,\n",
       ".xr-var-item > .xr-var-name span {\n",
       "  background-color: var(--xr-background-color-row-even);\n",
       "  margin-bottom: 0;\n",
       "}\n",
       "\n",
       ".xr-var-item > .xr-var-name:hover span {\n",
       "  padding-right: 5px;\n",
       "}\n",
       "\n",
       ".xr-var-list > li:nth-child(odd) > div,\n",
       ".xr-var-list > li:nth-child(odd) > label,\n",
       ".xr-var-list > li:nth-child(odd) > .xr-var-name span {\n",
       "  background-color: var(--xr-background-color-row-odd);\n",
       "}\n",
       "\n",
       ".xr-var-name {\n",
       "  grid-column: 1;\n",
       "}\n",
       "\n",
       ".xr-var-dims {\n",
       "  grid-column: 2;\n",
       "}\n",
       "\n",
       ".xr-var-dtype {\n",
       "  grid-column: 3;\n",
       "  text-align: right;\n",
       "  color: var(--xr-font-color2);\n",
       "}\n",
       "\n",
       ".xr-var-preview {\n",
       "  grid-column: 4;\n",
       "}\n",
       "\n",
       ".xr-var-name,\n",
       ".xr-var-dims,\n",
       ".xr-var-dtype,\n",
       ".xr-preview,\n",
       ".xr-attrs dt {\n",
       "  white-space: nowrap;\n",
       "  overflow: hidden;\n",
       "  text-overflow: ellipsis;\n",
       "  padding-right: 10px;\n",
       "}\n",
       "\n",
       ".xr-var-name:hover,\n",
       ".xr-var-dims:hover,\n",
       ".xr-var-dtype:hover,\n",
       ".xr-attrs dt:hover {\n",
       "  overflow: visible;\n",
       "  width: auto;\n",
       "  z-index: 1;\n",
       "}\n",
       "\n",
       ".xr-var-attrs,\n",
       ".xr-var-data {\n",
       "  display: none;\n",
       "  background-color: var(--xr-background-color) !important;\n",
       "  padding-bottom: 5px !important;\n",
       "}\n",
       "\n",
       ".xr-var-attrs-in:checked ~ .xr-var-attrs,\n",
       ".xr-var-data-in:checked ~ .xr-var-data {\n",
       "  display: block;\n",
       "}\n",
       "\n",
       ".xr-var-data > table {\n",
       "  float: right;\n",
       "}\n",
       "\n",
       ".xr-var-name span,\n",
       ".xr-var-data,\n",
       ".xr-attrs {\n",
       "  padding-left: 25px !important;\n",
       "}\n",
       "\n",
       ".xr-attrs,\n",
       ".xr-var-attrs,\n",
       ".xr-var-data {\n",
       "  grid-column: 1 / -1;\n",
       "}\n",
       "\n",
       "dl.xr-attrs {\n",
       "  padding: 0;\n",
       "  margin: 0;\n",
       "  display: grid;\n",
       "  grid-template-columns: 125px auto;\n",
       "}\n",
       "\n",
       ".xr-attrs dt,\n",
       ".xr-attrs dd {\n",
       "  padding: 0;\n",
       "  margin: 0;\n",
       "  float: left;\n",
       "  padding-right: 10px;\n",
       "  width: auto;\n",
       "}\n",
       "\n",
       ".xr-attrs dt {\n",
       "  font-weight: normal;\n",
       "  grid-column: 1;\n",
       "}\n",
       "\n",
       ".xr-attrs dt:hover span {\n",
       "  display: inline-block;\n",
       "  background: var(--xr-background-color);\n",
       "  padding-right: 10px;\n",
       "}\n",
       "\n",
       ".xr-attrs dd {\n",
       "  grid-column: 2;\n",
       "  white-space: pre-wrap;\n",
       "  word-break: break-all;\n",
       "}\n",
       "\n",
       ".xr-icon-database,\n",
       ".xr-icon-file-text2 {\n",
       "  display: inline-block;\n",
       "  vertical-align: middle;\n",
       "  width: 1em;\n",
       "  height: 1.5em !important;\n",
       "  stroke-width: 0;\n",
       "  stroke: currentColor;\n",
       "  fill: currentColor;\n",
       "}\n",
       "</style><pre class='xr-text-repr-fallback'>&lt;xarray.Dataset&gt;\n",
       "Dimensions:     (time: 1, step: 3, percentile: 21, lon: 726, lat: 486)\n",
       "Coordinates:\n",
       "  * time        (time) datetime64[ns] 2022-03-01\n",
       "  * step        (step) int64 3 4 5\n",
       "    month       int64 3\n",
       "  * percentile  (percentile) int64 1 2 3 4 5 6 7 8 9 ... 14 15 16 17 18 19 20 21\n",
       "  * lon         (lon) float64 120.0 120.2 120.3 120.5 ... 239.7 239.8 240.0\n",
       "  * lat         (lat) float64 -50.0 -49.84 -49.67 -49.51 ... 29.67 29.84 30.0\n",
       "Data variables:\n",
       "    precip      (percentile, time, step, lat, lon) float64 dask.array&lt;chunksize=(21, 1, 3, 486, 726), meta=np.ndarray&gt;\n",
       "Attributes:\n",
       "    pct_values:  [0.02 0.05 0.1  0.15 0.2  0.25 0.3  0.35 0.4  0.45 0.5  0.55...\n",
       "    period:      seasonal</pre><div class='xr-wrap' style='display:none'><div class='xr-header'><div class='xr-obj-type'>xarray.Dataset</div></div><ul class='xr-sections'><li class='xr-section-item'><input id='section-39b4beeb-b328-4ab4-b1e4-02ccaa139928' class='xr-section-summary-in' type='checkbox' disabled ><label for='section-39b4beeb-b328-4ab4-b1e4-02ccaa139928' class='xr-section-summary'  title='Expand/collapse section'>Dimensions:</label><div class='xr-section-inline-details'><ul class='xr-dim-list'><li><span class='xr-has-index'>time</span>: 1</li><li><span class='xr-has-index'>step</span>: 3</li><li><span class='xr-has-index'>percentile</span>: 21</li><li><span class='xr-has-index'>lon</span>: 726</li><li><span class='xr-has-index'>lat</span>: 486</li></ul></div><div class='xr-section-details'></div></li><li class='xr-section-item'><input id='section-02056ee8-7081-455a-9fd6-0d8cb828bfe4' class='xr-section-summary-in' type='checkbox'  checked><label for='section-02056ee8-7081-455a-9fd6-0d8cb828bfe4' class='xr-section-summary' >Coordinates: <span>(6)</span></label><div class='xr-section-inline-details'></div><div class='xr-section-details'><ul class='xr-var-list'><li class='xr-var-item'><div class='xr-var-name'><span class='xr-has-index'>time</span></div><div class='xr-var-dims'>(time)</div><div class='xr-var-dtype'>datetime64[ns]</div><div class='xr-var-preview xr-preview'>2022-03-01</div><input id='attrs-e5c5e35e-8aba-4e02-8636-3b5fa4aa9ed1' class='xr-var-attrs-in' type='checkbox' disabled><label for='attrs-e5c5e35e-8aba-4e02-8636-3b5fa4aa9ed1' title='Show/Hide attributes'><svg class='icon xr-icon-file-text2'><use xlink:href='#icon-file-text2'></use></svg></label><input id='data-5703abec-5d3f-4a70-a132-2509c70c2054' class='xr-var-data-in' type='checkbox'><label for='data-5703abec-5d3f-4a70-a132-2509c70c2054' title='Show/Hide data repr'><svg class='icon xr-icon-database'><use xlink:href='#icon-database'></use></svg></label><div class='xr-var-attrs'><dl class='xr-attrs'></dl></div><div class='xr-var-data'><pre>array([&#x27;2022-03-01T00:00:00.000000000&#x27;], dtype=&#x27;datetime64[ns]&#x27;)</pre></div></li><li class='xr-var-item'><div class='xr-var-name'><span class='xr-has-index'>step</span></div><div class='xr-var-dims'>(step)</div><div class='xr-var-dtype'>int64</div><div class='xr-var-preview xr-preview'>3 4 5</div><input id='attrs-bcc01941-a4db-4a40-8129-5371a49f93f7' class='xr-var-attrs-in' type='checkbox' disabled><label for='attrs-bcc01941-a4db-4a40-8129-5371a49f93f7' title='Show/Hide attributes'><svg class='icon xr-icon-file-text2'><use xlink:href='#icon-file-text2'></use></svg></label><input id='data-93d7d635-622f-4c28-8aa4-a9fe29810240' class='xr-var-data-in' type='checkbox'><label for='data-93d7d635-622f-4c28-8aa4-a9fe29810240' title='Show/Hide data repr'><svg class='icon xr-icon-database'><use xlink:href='#icon-database'></use></svg></label><div class='xr-var-attrs'><dl class='xr-attrs'></dl></div><div class='xr-var-data'><pre>array([3, 4, 5])</pre></div></li><li class='xr-var-item'><div class='xr-var-name'><span>month</span></div><div class='xr-var-dims'>()</div><div class='xr-var-dtype'>int64</div><div class='xr-var-preview xr-preview'>3</div><input id='attrs-41f59cf7-a37d-4457-b3c6-1cbf13301cc1' class='xr-var-attrs-in' type='checkbox' disabled><label for='attrs-41f59cf7-a37d-4457-b3c6-1cbf13301cc1' title='Show/Hide attributes'><svg class='icon xr-icon-file-text2'><use xlink:href='#icon-file-text2'></use></svg></label><input id='data-6e0c89de-48d8-46e8-b424-783dba501c6d' class='xr-var-data-in' type='checkbox'><label for='data-6e0c89de-48d8-46e8-b424-783dba501c6d' title='Show/Hide data repr'><svg class='icon xr-icon-database'><use xlink:href='#icon-database'></use></svg></label><div class='xr-var-attrs'><dl class='xr-attrs'></dl></div><div class='xr-var-data'><pre>array(3)</pre></div></li><li class='xr-var-item'><div class='xr-var-name'><span class='xr-has-index'>percentile</span></div><div class='xr-var-dims'>(percentile)</div><div class='xr-var-dtype'>int64</div><div class='xr-var-preview xr-preview'>1 2 3 4 5 6 7 ... 16 17 18 19 20 21</div><input id='attrs-542df777-0cb6-4822-a68b-10a40d4e189a' class='xr-var-attrs-in' type='checkbox' disabled><label for='attrs-542df777-0cb6-4822-a68b-10a40d4e189a' title='Show/Hide attributes'><svg class='icon xr-icon-file-text2'><use xlink:href='#icon-file-text2'></use></svg></label><input id='data-8719528a-99a3-43a6-b0c3-8b9513769c63' class='xr-var-data-in' type='checkbox'><label for='data-8719528a-99a3-43a6-b0c3-8b9513769c63' title='Show/Hide data repr'><svg class='icon xr-icon-database'><use xlink:href='#icon-database'></use></svg></label><div class='xr-var-attrs'><dl class='xr-attrs'></dl></div><div class='xr-var-data'><pre>array([ 1,  2,  3,  4,  5,  6,  7,  8,  9, 10, 11, 12, 13, 14, 15, 16, 17, 18,\n",
       "       19, 20, 21])</pre></div></li><li class='xr-var-item'><div class='xr-var-name'><span class='xr-has-index'>lon</span></div><div class='xr-var-dims'>(lon)</div><div class='xr-var-dtype'>float64</div><div class='xr-var-preview xr-preview'>120.0 120.2 120.3 ... 239.8 240.0</div><input id='attrs-8c67ee62-c510-4ed8-bcf8-5096e24717ad' class='xr-var-attrs-in' type='checkbox' disabled><label for='attrs-8c67ee62-c510-4ed8-bcf8-5096e24717ad' title='Show/Hide attributes'><svg class='icon xr-icon-file-text2'><use xlink:href='#icon-file-text2'></use></svg></label><input id='data-552dc9b1-f152-4f70-8c45-5f7021e44396' class='xr-var-data-in' type='checkbox'><label for='data-552dc9b1-f152-4f70-8c45-5f7021e44396' title='Show/Hide data repr'><svg class='icon xr-icon-database'><use xlink:href='#icon-database'></use></svg></label><div class='xr-var-attrs'><dl class='xr-attrs'></dl></div><div class='xr-var-data'><pre>array([120.      , 120.165517, 120.331034, ..., 239.668966, 239.834483,\n",
       "       240.      ])</pre></div></li><li class='xr-var-item'><div class='xr-var-name'><span class='xr-has-index'>lat</span></div><div class='xr-var-dims'>(lat)</div><div class='xr-var-dtype'>float64</div><div class='xr-var-preview xr-preview'>-50.0 -49.84 -49.67 ... 29.84 30.0</div><input id='attrs-72e73eda-ec1a-4a0b-a41f-e843fd4e18d7' class='xr-var-attrs-in' type='checkbox' disabled><label for='attrs-72e73eda-ec1a-4a0b-a41f-e843fd4e18d7' title='Show/Hide attributes'><svg class='icon xr-icon-file-text2'><use xlink:href='#icon-file-text2'></use></svg></label><input id='data-7bb27b66-eb75-4a91-819a-3e190ab9b784' class='xr-var-data-in' type='checkbox'><label for='data-7bb27b66-eb75-4a91-819a-3e190ab9b784' title='Show/Hide data repr'><svg class='icon xr-icon-database'><use xlink:href='#icon-database'></use></svg></label><div class='xr-var-attrs'><dl class='xr-attrs'></dl></div><div class='xr-var-data'><pre>array([-50.      , -49.835052, -49.670103, ...,  29.670103,  29.835052,\n",
       "        30.      ])</pre></div></li></ul></div></li><li class='xr-section-item'><input id='section-0a852ada-88dd-4f43-8eff-5b24eabb4365' class='xr-section-summary-in' type='checkbox'  checked><label for='section-0a852ada-88dd-4f43-8eff-5b24eabb4365' class='xr-section-summary' >Data variables: <span>(1)</span></label><div class='xr-section-inline-details'></div><div class='xr-section-details'><ul class='xr-var-list'><li class='xr-var-item'><div class='xr-var-name'><span>precip</span></div><div class='xr-var-dims'>(percentile, time, step, lat, lon)</div><div class='xr-var-dtype'>float64</div><div class='xr-var-preview xr-preview'>dask.array&lt;chunksize=(21, 1, 3, 486, 726), meta=np.ndarray&gt;</div><input id='attrs-d9ae63c7-a154-4317-9149-30d237193a8e' class='xr-var-attrs-in' type='checkbox' disabled><label for='attrs-d9ae63c7-a154-4317-9149-30d237193a8e' title='Show/Hide attributes'><svg class='icon xr-icon-file-text2'><use xlink:href='#icon-file-text2'></use></svg></label><input id='data-11509e7a-a55f-45c6-8f83-acc459787c27' class='xr-var-data-in' type='checkbox'><label for='data-11509e7a-a55f-45c6-8f83-acc459787c27' title='Show/Hide data repr'><svg class='icon xr-icon-database'><use xlink:href='#icon-database'></use></svg></label><div class='xr-var-attrs'><dl class='xr-attrs'></dl></div><div class='xr-var-data'><table>\n",
       "    <tr>\n",
       "        <td>\n",
       "            <table>\n",
       "                <thead>\n",
       "                    <tr>\n",
       "                        <td> </td>\n",
       "                        <th> Array </th>\n",
       "                        <th> Chunk </th>\n",
       "                    </tr>\n",
       "                </thead>\n",
       "                <tbody>\n",
       "                    \n",
       "                    <tr>\n",
       "                        <th> Bytes </th>\n",
       "                        <td> 169.59 MiB </td>\n",
       "                        <td> 169.59 MiB </td>\n",
       "                    </tr>\n",
       "                    \n",
       "                    <tr>\n",
       "                        <th> Shape </th>\n",
       "                        <td> (21, 1, 3, 486, 726) </td>\n",
       "                        <td> (21, 1, 3, 486, 726) </td>\n",
       "                    </tr>\n",
       "                    <tr>\n",
       "                        <th> Count </th>\n",
       "                        <td> 91 Tasks </td>\n",
       "                        <td> 1 Chunks </td>\n",
       "                    </tr>\n",
       "                    <tr>\n",
       "                    <th> Type </th>\n",
       "                    <td> float64 </td>\n",
       "                    <td> numpy.ndarray </td>\n",
       "                    </tr>\n",
       "                </tbody>\n",
       "            </table>\n",
       "        </td>\n",
       "        <td>\n",
       "        <svg width=\"374\" height=\"145\" style=\"stroke:rgb(0,0,0);stroke-width:1\" >\n",
       "\n",
       "  <!-- Horizontal lines -->\n",
       "  <line x1=\"0\" y1=\"0\" x2=\"25\" y2=\"0\" style=\"stroke-width:2\" />\n",
       "  <line x1=\"0\" y1=\"31\" x2=\"25\" y2=\"31\" style=\"stroke-width:2\" />\n",
       "\n",
       "  <!-- Vertical lines -->\n",
       "  <line x1=\"0\" y1=\"0\" x2=\"0\" y2=\"31\" style=\"stroke-width:2\" />\n",
       "  <line x1=\"25\" y1=\"0\" x2=\"25\" y2=\"31\" style=\"stroke-width:2\" />\n",
       "\n",
       "  <!-- Colored Rectangle -->\n",
       "  <polygon points=\"0.0,0.0 25.412616514582485,0.0 25.412616514582485,31.17255961645133 0.0,31.17255961645133\" style=\"fill:#ECB172A0;stroke-width:0\"/>\n",
       "\n",
       "  <!-- Text -->\n",
       "  <text x=\"12.706308\" y=\"51.172560\" font-size=\"1.0rem\" font-weight=\"100\" text-anchor=\"middle\" >1</text>\n",
       "  <text x=\"45.412617\" y=\"15.586280\" font-size=\"1.0rem\" font-weight=\"100\" text-anchor=\"middle\" transform=\"rotate(0,45.412617,15.586280)\">21</text>\n",
       "\n",
       "\n",
       "  <!-- Horizontal lines -->\n",
       "  <line x1=\"95\" y1=\"0\" x2=\"109\" y2=\"14\" style=\"stroke-width:2\" />\n",
       "  <line x1=\"95\" y1=\"80\" x2=\"109\" y2=\"95\" style=\"stroke-width:2\" />\n",
       "\n",
       "  <!-- Vertical lines -->\n",
       "  <line x1=\"95\" y1=\"0\" x2=\"95\" y2=\"80\" style=\"stroke-width:2\" />\n",
       "  <line x1=\"109\" y1=\"14\" x2=\"109\" y2=\"95\" style=\"stroke-width:2\" />\n",
       "\n",
       "  <!-- Colored Rectangle -->\n",
       "  <polygon points=\"95.0,0.0 109.9485979497544,14.948597949754403 109.9485979497544,95.2791764621511 95.0,80.3305785123967\" style=\"fill:#ECB172A0;stroke-width:0\"/>\n",
       "\n",
       "  <!-- Horizontal lines -->\n",
       "  <line x1=\"95\" y1=\"0\" x2=\"215\" y2=\"0\" style=\"stroke-width:2\" />\n",
       "  <line x1=\"109\" y1=\"14\" x2=\"229\" y2=\"14\" style=\"stroke-width:2\" />\n",
       "\n",
       "  <!-- Vertical lines -->\n",
       "  <line x1=\"95\" y1=\"0\" x2=\"109\" y2=\"14\" style=\"stroke-width:2\" />\n",
       "  <line x1=\"215\" y1=\"0\" x2=\"229\" y2=\"14\" style=\"stroke-width:2\" />\n",
       "\n",
       "  <!-- Colored Rectangle -->\n",
       "  <polygon points=\"95.0,0.0 215.0,0.0 229.9485979497544,14.948597949754403 109.9485979497544,14.948597949754403\" style=\"fill:#ECB172A0;stroke-width:0\"/>\n",
       "\n",
       "  <!-- Horizontal lines -->\n",
       "  <line x1=\"109\" y1=\"14\" x2=\"229\" y2=\"14\" style=\"stroke-width:2\" />\n",
       "  <line x1=\"109\" y1=\"95\" x2=\"229\" y2=\"95\" style=\"stroke-width:2\" />\n",
       "\n",
       "  <!-- Vertical lines -->\n",
       "  <line x1=\"109\" y1=\"14\" x2=\"109\" y2=\"95\" style=\"stroke-width:2\" />\n",
       "  <line x1=\"229\" y1=\"14\" x2=\"229\" y2=\"95\" style=\"stroke-width:2\" />\n",
       "\n",
       "  <!-- Colored Rectangle -->\n",
       "  <polygon points=\"109.9485979497544,14.948597949754403 229.9485979497544,14.948597949754403 229.9485979497544,95.2791764621511 109.9485979497544,95.2791764621511\" style=\"fill:#ECB172A0;stroke-width:0\"/>\n",
       "\n",
       "  <!-- Text -->\n",
       "  <text x=\"169.948598\" y=\"115.279176\" font-size=\"1.0rem\" font-weight=\"100\" text-anchor=\"middle\" >726</text>\n",
       "  <text x=\"249.948598\" y=\"55.113887\" font-size=\"1.0rem\" font-weight=\"100\" text-anchor=\"middle\" transform=\"rotate(-90,249.948598,55.113887)\">486</text>\n",
       "  <text x=\"92.474299\" y=\"107.804877\" font-size=\"1.0rem\" font-weight=\"100\" text-anchor=\"middle\" transform=\"rotate(45,92.474299,107.804877)\">3</text>\n",
       "</svg>\n",
       "        </td>\n",
       "    </tr>\n",
       "</table></div></li></ul></div></li><li class='xr-section-item'><input id='section-03ad51ca-b181-4f81-8244-7df974ae38da' class='xr-section-summary-in' type='checkbox'  checked><label for='section-03ad51ca-b181-4f81-8244-7df974ae38da' class='xr-section-summary' >Attributes: <span>(2)</span></label><div class='xr-section-inline-details'></div><div class='xr-section-details'><dl class='xr-attrs'><dt><span>pct_values :</span></dt><dd>[0.02 0.05 0.1  0.15 0.2  0.25 0.3  0.35 0.4  0.45 0.5  0.55 0.6  0.65\n",
       " 0.7  0.75 0.8  0.85 0.9  0.95]</dd><dt><span>period :</span></dt><dd>seasonal</dd></dl></div></li></ul></div></div>"
      ],
      "text/plain": [
       "<xarray.Dataset>\n",
       "Dimensions:     (time: 1, step: 3, percentile: 21, lon: 726, lat: 486)\n",
       "Coordinates:\n",
       "  * time        (time) datetime64[ns] 2022-03-01\n",
       "  * step        (step) int64 3 4 5\n",
       "    month       int64 3\n",
       "  * percentile  (percentile) int64 1 2 3 4 5 6 7 8 9 ... 14 15 16 17 18 19 20 21\n",
       "  * lon         (lon) float64 120.0 120.2 120.3 120.5 ... 239.7 239.8 240.0\n",
       "  * lat         (lat) float64 -50.0 -49.84 -49.67 -49.51 ... 29.67 29.84 30.0\n",
       "Data variables:\n",
       "    precip      (percentile, time, step, lat, lon) float64 dask.array<chunksize=(21, 1, 3, 486, 726), meta=np.ndarray>\n",
       "Attributes:\n",
       "    pct_values:  [0.02 0.05 0.1  0.15 0.2  0.25 0.3  0.35 0.4  0.45 0.5  0.55...\n",
       "    period:      seasonal"
      ]
     },
     "execution_count": 42,
     "metadata": {},
     "output_type": "execute_result"
    }
   ],
   "source": [
    "probs_mean"
   ]
  },
  {
   "cell_type": "markdown",
   "id": "9e9bdad1",
   "metadata": {
    "papermill": {
     "duration": 0.065011,
     "end_time": "2022-03-13T23:36:46.217852",
     "exception": false,
     "start_time": "2022-03-13T23:36:46.152841",
     "status": "completed"
    },
    "tags": []
   },
   "source": [
    "### old version "
   ]
  },
  {
   "cell_type": "code",
   "execution_count": 43,
   "id": "b66b79d4",
   "metadata": {
    "execution": {
     "iopub.execute_input": "2022-03-13T23:36:46.310820Z",
     "iopub.status.busy": "2022-03-13T23:36:46.310355Z",
     "iopub.status.idle": "2022-03-13T23:36:46.329355Z",
     "shell.execute_reply": "2022-03-13T23:36:46.329798Z"
    },
    "papermill": {
     "duration": 0.066799,
     "end_time": "2022-03-13T23:36:46.329944",
     "exception": false,
     "start_time": "2022-03-13T23:36:46.263145",
     "status": "completed"
    },
    "tags": []
   },
   "outputs": [],
   "source": [
    "# hexes = ['#ffffff', '#f6e8c3', '#dfc27d', '#bf812d', '#8c510a', '#543005']\n",
    "\n",
    "# cmap = matplotlib.colors.ListedColormap(hexes, name='decile')"
   ]
  },
  {
   "cell_type": "markdown",
   "id": "7de7ec91",
   "metadata": {
    "papermill": {
     "duration": 0.048164,
     "end_time": "2022-03-13T23:36:46.426280",
     "exception": false,
     "start_time": "2022-03-13T23:36:46.378116",
     "status": "completed"
    },
    "tags": []
   },
   "source": [
    "### new version "
   ]
  },
  {
   "cell_type": "code",
   "execution_count": 44,
   "id": "8323fe8c",
   "metadata": {
    "execution": {
     "iopub.execute_input": "2022-03-13T23:36:46.523113Z",
     "iopub.status.busy": "2022-03-13T23:36:46.522750Z",
     "iopub.status.idle": "2022-03-13T23:36:46.541885Z",
     "shell.execute_reply": "2022-03-13T23:36:46.541401Z"
    },
    "papermill": {
     "duration": 0.068792,
     "end_time": "2022-03-13T23:36:46.542024",
     "exception": false,
     "start_time": "2022-03-13T23:36:46.473232",
     "status": "completed"
    },
    "tags": []
   },
   "outputs": [],
   "source": [
    "cmap  = palettable.scientific.sequential.Bilbao_6.mpl_colormap"
   ]
  },
  {
   "cell_type": "code",
   "execution_count": 45,
   "id": "de2b3d1c",
   "metadata": {
    "execution": {
     "iopub.execute_input": "2022-03-13T23:36:46.642128Z",
     "iopub.status.busy": "2022-03-13T23:36:46.641537Z",
     "iopub.status.idle": "2022-03-13T23:36:46.661261Z",
     "shell.execute_reply": "2022-03-13T23:36:46.661588Z"
    },
    "papermill": {
     "duration": 0.071906,
     "end_time": "2022-03-13T23:36:46.661727",
     "exception": false,
     "start_time": "2022-03-13T23:36:46.589821",
     "status": "completed"
    },
    "tags": []
   },
   "outputs": [],
   "source": [
    "cmap = plot.cmap_discretize(cmap, 6)"
   ]
  },
  {
   "cell_type": "code",
   "execution_count": 46,
   "id": "f9725a7b",
   "metadata": {
    "execution": {
     "iopub.execute_input": "2022-03-13T23:36:46.761245Z",
     "iopub.status.busy": "2022-03-13T23:36:46.760868Z",
     "iopub.status.idle": "2022-03-13T23:36:46.784213Z",
     "shell.execute_reply": "2022-03-13T23:36:46.783868Z"
    },
    "papermill": {
     "duration": 0.074593,
     "end_time": "2022-03-13T23:36:46.784321",
     "exception": false,
     "start_time": "2022-03-13T23:36:46.709728",
     "status": "completed"
    },
    "tags": []
   },
   "outputs": [
    {
     "data": {
      "image/png": "[encoded data removed]",
      "text/html": [
       "<div style=\"vertical-align: middle;\"><strong>Bilbao_6_6</strong> </div><div class=\"cmap\"><img alt=\"Bilbao_6_6 colormap\" title=\"Bilbao_6_6\" style=\"border: 1px solid #555;\" src=\"data:image/png;base64,iVBORw0KGgoAAAANSUhEUgAAAgAAAABACAYAAABsv8+/AAAAGXRFWHRUaXRsZQBCaWxiYW9fNl82IGNvbG9ybWFwVft3PgAAAB90RVh0RGVzY3JpcHRpb24AQmlsYmFvXzZfNiBjb2xvcm1hcC/TtnAAAAAwdEVYdEF1dGhvcgBNYXRwbG90bGliIHYzLjUuMSwgaHR0cHM6Ly9tYXRwbG90bGliLm9yZ/e3zs8AAAAydEVYdFNvZnR3YXJlAE1hdHBsb3RsaWIgdjMuNS4xLCBodHRwczovL21hdHBsb3RsaWIub3Jn2RFR6AAAAVJJREFUeJzt1jEOAUAAAEH8/0MaFRKJRq1QUei84HxCXHI784ItdzvGGBt+7nLaz05Yzvt+mJ2wnM/tNTthOc/rY3bCck7H8+yEJe1mBwAA/2cAACDIAABAkAEAgCADAABBBgAAggwAAAQZAAAIMgAAEGQAACDIAABAkAEAgCADAABBBgAAggwAAAQZAAAIMgAAEGQAACDIAABAkAEAgCADAABBBgAAggwAAAQZAAAIMgAAEGQAACDIAABAkAEAgCADAABBBgAAggwAAAQZAAAIMgAAEGQAACDIAABAkAEAgCADAABBBgAAggwAAAQZAAAIMgAAEGQAACDIAABAkAEAgCADAABBBgAAggwAAAQZAAAIMgAAEGQAACDIAABAkAEAgCADAABBBgAAggwAAAQZAAAIMgAAEGQAACDIAABAkAEAgCADAABBBgAAggwAAAR9AYTAEM21njxrAAAAAElFTkSuQmCC\"></div><div style=\"vertical-align: middle; max-width: 514px; display: flex; justify-content: space-between;\"><div style=\"float: left;\"><div title=\"#ffffffff\" style=\"display: inline-block; width: 1em; height: 1em; margin: 0; vertical-align: middle; border: 1px solid #555; background-color: #ffffffff;\"></div> under</div><div style=\"margin: 0 auto; display: inline-block;\">bad <div title=\"#00000000\" style=\"display: inline-block; width: 1em; height: 1em; margin: 0; vertical-align: middle; border: 1px solid #555; background-color: #00000000;\"></div></div><div style=\"float: right;\">over <div title=\"#4d0001ff\" style=\"display: inline-block; width: 1em; height: 1em; margin: 0; vertical-align: middle; border: 1px solid #555; background-color: #4d0001ff;\"></div></div>"
      ],
      "text/plain": [
       "<matplotlib.colors.LinearSegmentedColormap at 0x7fb4041873d0>"
      ]
     },
     "execution_count": 46,
     "metadata": {},
     "output_type": "execute_result"
    }
   ],
   "source": [
    "cmap"
   ]
  },
  {
   "cell_type": "code",
   "execution_count": 47,
   "id": "188a66c5",
   "metadata": {
    "execution": {
     "iopub.execute_input": "2022-03-13T23:36:46.886099Z",
     "iopub.status.busy": "2022-03-13T23:36:46.885540Z",
     "iopub.status.idle": "2022-03-13T23:36:46.920506Z",
     "shell.execute_reply": "2022-03-13T23:36:46.920151Z"
    },
    "papermill": {
     "duration": 0.08722,
     "end_time": "2022-03-13T23:36:46.920614",
     "exception": false,
     "start_time": "2022-03-13T23:36:46.833394",
     "status": "completed"
    },
    "tags": []
   },
   "outputs": [
    {
     "data": {
      "text/html": [
       "<div><svg style=\"position: absolute; width: 0; height: 0; overflow: hidden\">\n",
       "<defs>\n",
       "<symbol id=\"icon-database\" viewBox=\"0 0 32 32\">\n",
       "<path d=\"M16 0c-8.837 0-16 2.239-16 5v4c0 2.761 7.163 5 16 5s16-2.239 16-5v-4c0-2.761-7.163-5-16-5z\"></path>\n",
       "<path d=\"M16 17c-8.837 0-16-2.239-16-5v6c0 2.761 7.163 5 16 5s16-2.239 16-5v-6c0 2.761-7.163 5-16 5z\"></path>\n",
       "<path d=\"M16 26c-8.837 0-16-2.239-16-5v6c0 2.761 7.163 5 16 5s16-2.239 16-5v-6c0 2.761-7.163 5-16 5z\"></path>\n",
       "</symbol>\n",
       "<symbol id=\"icon-file-text2\" viewBox=\"0 0 32 32\">\n",
       "<path d=\"M28.681 7.159c-0.694-0.947-1.662-2.053-2.724-3.116s-2.169-2.030-3.116-2.724c-1.612-1.182-2.393-1.319-2.841-1.319h-15.5c-1.378 0-2.5 1.121-2.5 2.5v27c0 1.378 1.122 2.5 2.5 2.5h23c1.378 0 2.5-1.122 2.5-2.5v-19.5c0-0.448-0.137-1.23-1.319-2.841zM24.543 5.457c0.959 0.959 1.712 1.825 2.268 2.543h-4.811v-4.811c0.718 0.556 1.584 1.309 2.543 2.268zM28 29.5c0 0.271-0.229 0.5-0.5 0.5h-23c-0.271 0-0.5-0.229-0.5-0.5v-27c0-0.271 0.229-0.5 0.5-0.5 0 0 15.499-0 15.5 0v7c0 0.552 0.448 1 1 1h7v19.5z\"></path>\n",
       "<path d=\"M23 26h-14c-0.552 0-1-0.448-1-1s0.448-1 1-1h14c0.552 0 1 0.448 1 1s-0.448 1-1 1z\"></path>\n",
       "<path d=\"M23 22h-14c-0.552 0-1-0.448-1-1s0.448-1 1-1h14c0.552 0 1 0.448 1 1s-0.448 1-1 1z\"></path>\n",
       "<path d=\"M23 18h-14c-0.552 0-1-0.448-1-1s0.448-1 1-1h14c0.552 0 1 0.448 1 1s-0.448 1-1 1z\"></path>\n",
       "</symbol>\n",
       "</defs>\n",
       "</svg>\n",
       "<style>/* CSS stylesheet for displaying xarray objects in jupyterlab.\n",
       " *\n",
       " */\n",
       "\n",
       ":root {\n",
       "  --xr-font-color0: var(--jp-content-font-color0, rgba(0, 0, 0, 1));\n",
       "  --xr-font-color2: var(--jp-content-font-color2, rgba(0, 0, 0, 0.54));\n",
       "  --xr-font-color3: var(--jp-content-font-color3, rgba(0, 0, 0, 0.38));\n",
       "  --xr-border-color: var(--jp-border-color2, #e0e0e0);\n",
       "  --xr-disabled-color: var(--jp-layout-color3, #bdbdbd);\n",
       "  --xr-background-color: var(--jp-layout-color0, white);\n",
       "  --xr-background-color-row-even: var(--jp-layout-color1, white);\n",
       "  --xr-background-color-row-odd: var(--jp-layout-color2, #eeeeee);\n",
       "}\n",
       "\n",
       "html[theme=dark],\n",
       "body.vscode-dark {\n",
       "  --xr-font-color0: rgba(255, 255, 255, 1);\n",
       "  --xr-font-color2: rgba(255, 255, 255, 0.54);\n",
       "  --xr-font-color3: rgba(255, 255, 255, 0.38);\n",
       "  --xr-border-color: #1F1F1F;\n",
       "  --xr-disabled-color: #515151;\n",
       "  --xr-background-color: #111111;\n",
       "  --xr-background-color-row-even: #111111;\n",
       "  --xr-background-color-row-odd: #313131;\n",
       "}\n",
       "\n",
       ".xr-wrap {\n",
       "  display: block !important;\n",
       "  min-width: 300px;\n",
       "  max-width: 700px;\n",
       "}\n",
       "\n",
       ".xr-text-repr-fallback {\n",
       "  /* fallback to plain text repr when CSS is not injected (untrusted notebook) */\n",
       "  display: none;\n",
       "}\n",
       "\n",
       ".xr-header {\n",
       "  padding-top: 6px;\n",
       "  padding-bottom: 6px;\n",
       "  margin-bottom: 4px;\n",
       "  border-bottom: solid 1px var(--xr-border-color);\n",
       "}\n",
       "\n",
       ".xr-header > div,\n",
       ".xr-header > ul {\n",
       "  display: inline;\n",
       "  margin-top: 0;\n",
       "  margin-bottom: 0;\n",
       "}\n",
       "\n",
       ".xr-obj-type,\n",
       ".xr-array-name {\n",
       "  margin-left: 2px;\n",
       "  margin-right: 10px;\n",
       "}\n",
       "\n",
       ".xr-obj-type {\n",
       "  color: var(--xr-font-color2);\n",
       "}\n",
       "\n",
       ".xr-sections {\n",
       "  padding-left: 0 !important;\n",
       "  display: grid;\n",
       "  grid-template-columns: 150px auto auto 1fr 20px 20px;\n",
       "}\n",
       "\n",
       ".xr-section-item {\n",
       "  display: contents;\n",
       "}\n",
       "\n",
       ".xr-section-item input {\n",
       "  display: none;\n",
       "}\n",
       "\n",
       ".xr-section-item input + label {\n",
       "  color: var(--xr-disabled-color);\n",
       "}\n",
       "\n",
       ".xr-section-item input:enabled + label {\n",
       "  cursor: pointer;\n",
       "  color: var(--xr-font-color2);\n",
       "}\n",
       "\n",
       ".xr-section-item input:enabled + label:hover {\n",
       "  color: var(--xr-font-color0);\n",
       "}\n",
       "\n",
       ".xr-section-summary {\n",
       "  grid-column: 1;\n",
       "  color: var(--xr-font-color2);\n",
       "  font-weight: 500;\n",
       "}\n",
       "\n",
       ".xr-section-summary > span {\n",
       "  display: inline-block;\n",
       "  padding-left: 0.5em;\n",
       "}\n",
       "\n",
       ".xr-section-summary-in:disabled + label {\n",
       "  color: var(--xr-font-color2);\n",
       "}\n",
       "\n",
       ".xr-section-summary-in + label:before {\n",
       "  display: inline-block;\n",
       "  content: '►';\n",
       "  font-size: 11px;\n",
       "  width: 15px;\n",
       "  text-align: center;\n",
       "}\n",
       "\n",
       ".xr-section-summary-in:disabled + label:before {\n",
       "  color: var(--xr-disabled-color);\n",
       "}\n",
       "\n",
       ".xr-section-summary-in:checked + label:before {\n",
       "  content: '▼';\n",
       "}\n",
       "\n",
       ".xr-section-summary-in:checked + label > span {\n",
       "  display: none;\n",
       "}\n",
       "\n",
       ".xr-section-summary,\n",
       ".xr-section-inline-details {\n",
       "  padding-top: 4px;\n",
       "  padding-bottom: 4px;\n",
       "}\n",
       "\n",
       ".xr-section-inline-details {\n",
       "  grid-column: 2 / -1;\n",
       "}\n",
       "\n",
       ".xr-section-details {\n",
       "  display: none;\n",
       "  grid-column: 1 / -1;\n",
       "  margin-bottom: 5px;\n",
       "}\n",
       "\n",
       ".xr-section-summary-in:checked ~ .xr-section-details {\n",
       "  display: contents;\n",
       "}\n",
       "\n",
       ".xr-array-wrap {\n",
       "  grid-column: 1 / -1;\n",
       "  display: grid;\n",
       "  grid-template-columns: 20px auto;\n",
       "}\n",
       "\n",
       ".xr-array-wrap > label {\n",
       "  grid-column: 1;\n",
       "  vertical-align: top;\n",
       "}\n",
       "\n",
       ".xr-preview {\n",
       "  color: var(--xr-font-color3);\n",
       "}\n",
       "\n",
       ".xr-array-preview,\n",
       ".xr-array-data {\n",
       "  padding: 0 5px !important;\n",
       "  grid-column: 2;\n",
       "}\n",
       "\n",
       ".xr-array-data,\n",
       ".xr-array-in:checked ~ .xr-array-preview {\n",
       "  display: none;\n",
       "}\n",
       "\n",
       ".xr-array-in:checked ~ .xr-array-data,\n",
       ".xr-array-preview {\n",
       "  display: inline-block;\n",
       "}\n",
       "\n",
       ".xr-dim-list {\n",
       "  display: inline-block !important;\n",
       "  list-style: none;\n",
       "  padding: 0 !important;\n",
       "  margin: 0;\n",
       "}\n",
       "\n",
       ".xr-dim-list li {\n",
       "  display: inline-block;\n",
       "  padding: 0;\n",
       "  margin: 0;\n",
       "}\n",
       "\n",
       ".xr-dim-list:before {\n",
       "  content: '(';\n",
       "}\n",
       "\n",
       ".xr-dim-list:after {\n",
       "  content: ')';\n",
       "}\n",
       "\n",
       ".xr-dim-list li:not(:last-child):after {\n",
       "  content: ',';\n",
       "  padding-right: 5px;\n",
       "}\n",
       "\n",
       ".xr-has-index {\n",
       "  font-weight: bold;\n",
       "}\n",
       "\n",
       ".xr-var-list,\n",
       ".xr-var-item {\n",
       "  display: contents;\n",
       "}\n",
       "\n",
       ".xr-var-item > div,\n",
       ".xr-var-item label,\n",
       ".xr-var-item > .xr-var-name span {\n",
       "  background-color: var(--xr-background-color-row-even);\n",
       "  margin-bottom: 0;\n",
       "}\n",
       "\n",
       ".xr-var-item > .xr-var-name:hover span {\n",
       "  padding-right: 5px;\n",
       "}\n",
       "\n",
       ".xr-var-list > li:nth-child(odd) > div,\n",
       ".xr-var-list > li:nth-child(odd) > label,\n",
       ".xr-var-list > li:nth-child(odd) > .xr-var-name span {\n",
       "  background-color: var(--xr-background-color-row-odd);\n",
       "}\n",
       "\n",
       ".xr-var-name {\n",
       "  grid-column: 1;\n",
       "}\n",
       "\n",
       ".xr-var-dims {\n",
       "  grid-column: 2;\n",
       "}\n",
       "\n",
       ".xr-var-dtype {\n",
       "  grid-column: 3;\n",
       "  text-align: right;\n",
       "  color: var(--xr-font-color2);\n",
       "}\n",
       "\n",
       ".xr-var-preview {\n",
       "  grid-column: 4;\n",
       "}\n",
       "\n",
       ".xr-var-name,\n",
       ".xr-var-dims,\n",
       ".xr-var-dtype,\n",
       ".xr-preview,\n",
       ".xr-attrs dt {\n",
       "  white-space: nowrap;\n",
       "  overflow: hidden;\n",
       "  text-overflow: ellipsis;\n",
       "  padding-right: 10px;\n",
       "}\n",
       "\n",
       ".xr-var-name:hover,\n",
       ".xr-var-dims:hover,\n",
       ".xr-var-dtype:hover,\n",
       ".xr-attrs dt:hover {\n",
       "  overflow: visible;\n",
       "  width: auto;\n",
       "  z-index: 1;\n",
       "}\n",
       "\n",
       ".xr-var-attrs,\n",
       ".xr-var-data {\n",
       "  display: none;\n",
       "  background-color: var(--xr-background-color) !important;\n",
       "  padding-bottom: 5px !important;\n",
       "}\n",
       "\n",
       ".xr-var-attrs-in:checked ~ .xr-var-attrs,\n",
       ".xr-var-data-in:checked ~ .xr-var-data {\n",
       "  display: block;\n",
       "}\n",
       "\n",
       ".xr-var-data > table {\n",
       "  float: right;\n",
       "}\n",
       "\n",
       ".xr-var-name span,\n",
       ".xr-var-data,\n",
       ".xr-attrs {\n",
       "  padding-left: 25px !important;\n",
       "}\n",
       "\n",
       ".xr-attrs,\n",
       ".xr-var-attrs,\n",
       ".xr-var-data {\n",
       "  grid-column: 1 / -1;\n",
       "}\n",
       "\n",
       "dl.xr-attrs {\n",
       "  padding: 0;\n",
       "  margin: 0;\n",
       "  display: grid;\n",
       "  grid-template-columns: 125px auto;\n",
       "}\n",
       "\n",
       ".xr-attrs dt,\n",
       ".xr-attrs dd {\n",
       "  padding: 0;\n",
       "  margin: 0;\n",
       "  float: left;\n",
       "  padding-right: 10px;\n",
       "  width: auto;\n",
       "}\n",
       "\n",
       ".xr-attrs dt {\n",
       "  font-weight: normal;\n",
       "  grid-column: 1;\n",
       "}\n",
       "\n",
       ".xr-attrs dt:hover span {\n",
       "  display: inline-block;\n",
       "  background: var(--xr-background-color);\n",
       "  padding-right: 10px;\n",
       "}\n",
       "\n",
       ".xr-attrs dd {\n",
       "  grid-column: 2;\n",
       "  white-space: pre-wrap;\n",
       "  word-break: break-all;\n",
       "}\n",
       "\n",
       ".xr-icon-database,\n",
       ".xr-icon-file-text2 {\n",
       "  display: inline-block;\n",
       "  vertical-align: middle;\n",
       "  width: 1em;\n",
       "  height: 1.5em !important;\n",
       "  stroke-width: 0;\n",
       "  stroke: currentColor;\n",
       "  fill: currentColor;\n",
       "}\n",
       "</style><pre class='xr-text-repr-fallback'>&lt;xarray.Dataset&gt;\n",
       "Dimensions:     (time: 1, step: 3, percentile: 21, lon: 726, lat: 486)\n",
       "Coordinates:\n",
       "  * time        (time) datetime64[ns] 2022-03-01\n",
       "  * step        (step) int64 3 4 5\n",
       "    month       int64 3\n",
       "  * percentile  (percentile) int64 1 2 3 4 5 6 7 8 9 ... 14 15 16 17 18 19 20 21\n",
       "  * lon         (lon) float64 120.0 120.2 120.3 120.5 ... 239.7 239.8 240.0\n",
       "  * lat         (lat) float64 -50.0 -49.84 -49.67 -49.51 ... 29.67 29.84 30.0\n",
       "Data variables:\n",
       "    precip      (percentile, time, step, lat, lon) float64 dask.array&lt;chunksize=(21, 1, 3, 486, 726), meta=np.ndarray&gt;\n",
       "Attributes:\n",
       "    pct_values:  [0.02 0.05 0.1  0.15 0.2  0.25 0.3  0.35 0.4  0.45 0.5  0.55...\n",
       "    period:      seasonal</pre><div class='xr-wrap' style='display:none'><div class='xr-header'><div class='xr-obj-type'>xarray.Dataset</div></div><ul class='xr-sections'><li class='xr-section-item'><input id='section-aa8fe195-4062-4434-8754-edbcd2042cc7' class='xr-section-summary-in' type='checkbox' disabled ><label for='section-aa8fe195-4062-4434-8754-edbcd2042cc7' class='xr-section-summary'  title='Expand/collapse section'>Dimensions:</label><div class='xr-section-inline-details'><ul class='xr-dim-list'><li><span class='xr-has-index'>time</span>: 1</li><li><span class='xr-has-index'>step</span>: 3</li><li><span class='xr-has-index'>percentile</span>: 21</li><li><span class='xr-has-index'>lon</span>: 726</li><li><span class='xr-has-index'>lat</span>: 486</li></ul></div><div class='xr-section-details'></div></li><li class='xr-section-item'><input id='section-fe9852ca-b447-4efd-9b4c-222b5d25fea9' class='xr-section-summary-in' type='checkbox'  checked><label for='section-fe9852ca-b447-4efd-9b4c-222b5d25fea9' class='xr-section-summary' >Coordinates: <span>(6)</span></label><div class='xr-section-inline-details'></div><div class='xr-section-details'><ul class='xr-var-list'><li class='xr-var-item'><div class='xr-var-name'><span class='xr-has-index'>time</span></div><div class='xr-var-dims'>(time)</div><div class='xr-var-dtype'>datetime64[ns]</div><div class='xr-var-preview xr-preview'>2022-03-01</div><input id='attrs-d1a96b08-bc39-4744-8e72-43b222773c93' class='xr-var-attrs-in' type='checkbox' disabled><label for='attrs-d1a96b08-bc39-4744-8e72-43b222773c93' title='Show/Hide attributes'><svg class='icon xr-icon-file-text2'><use xlink:href='#icon-file-text2'></use></svg></label><input id='data-b79aa1d4-373a-44af-b7c4-6eeb7f1f799d' class='xr-var-data-in' type='checkbox'><label for='data-b79aa1d4-373a-44af-b7c4-6eeb7f1f799d' title='Show/Hide data repr'><svg class='icon xr-icon-database'><use xlink:href='#icon-database'></use></svg></label><div class='xr-var-attrs'><dl class='xr-attrs'></dl></div><div class='xr-var-data'><pre>array([&#x27;2022-03-01T00:00:00.000000000&#x27;], dtype=&#x27;datetime64[ns]&#x27;)</pre></div></li><li class='xr-var-item'><div class='xr-var-name'><span class='xr-has-index'>step</span></div><div class='xr-var-dims'>(step)</div><div class='xr-var-dtype'>int64</div><div class='xr-var-preview xr-preview'>3 4 5</div><input id='attrs-b085a422-c158-4f7d-ad54-8ad82032b4b4' class='xr-var-attrs-in' type='checkbox' disabled><label for='attrs-b085a422-c158-4f7d-ad54-8ad82032b4b4' title='Show/Hide attributes'><svg class='icon xr-icon-file-text2'><use xlink:href='#icon-file-text2'></use></svg></label><input id='data-74b455ba-c600-400c-817b-cb2716272aee' class='xr-var-data-in' type='checkbox'><label for='data-74b455ba-c600-400c-817b-cb2716272aee' title='Show/Hide data repr'><svg class='icon xr-icon-database'><use xlink:href='#icon-database'></use></svg></label><div class='xr-var-attrs'><dl class='xr-attrs'></dl></div><div class='xr-var-data'><pre>array([3, 4, 5])</pre></div></li><li class='xr-var-item'><div class='xr-var-name'><span>month</span></div><div class='xr-var-dims'>()</div><div class='xr-var-dtype'>int64</div><div class='xr-var-preview xr-preview'>3</div><input id='attrs-0c397064-d5bb-469d-b917-3eb67af7d69e' class='xr-var-attrs-in' type='checkbox' disabled><label for='attrs-0c397064-d5bb-469d-b917-3eb67af7d69e' title='Show/Hide attributes'><svg class='icon xr-icon-file-text2'><use xlink:href='#icon-file-text2'></use></svg></label><input id='data-25868736-61ba-43c5-88da-ae24a8176a31' class='xr-var-data-in' type='checkbox'><label for='data-25868736-61ba-43c5-88da-ae24a8176a31' title='Show/Hide data repr'><svg class='icon xr-icon-database'><use xlink:href='#icon-database'></use></svg></label><div class='xr-var-attrs'><dl class='xr-attrs'></dl></div><div class='xr-var-data'><pre>array(3)</pre></div></li><li class='xr-var-item'><div class='xr-var-name'><span class='xr-has-index'>percentile</span></div><div class='xr-var-dims'>(percentile)</div><div class='xr-var-dtype'>int64</div><div class='xr-var-preview xr-preview'>1 2 3 4 5 6 7 ... 16 17 18 19 20 21</div><input id='attrs-fb2b7a6e-4b1c-4a83-b753-4b029771691c' class='xr-var-attrs-in' type='checkbox' disabled><label for='attrs-fb2b7a6e-4b1c-4a83-b753-4b029771691c' title='Show/Hide attributes'><svg class='icon xr-icon-file-text2'><use xlink:href='#icon-file-text2'></use></svg></label><input id='data-a4ad0f7a-4352-460f-bc29-a010a7116f2f' class='xr-var-data-in' type='checkbox'><label for='data-a4ad0f7a-4352-460f-bc29-a010a7116f2f' title='Show/Hide data repr'><svg class='icon xr-icon-database'><use xlink:href='#icon-database'></use></svg></label><div class='xr-var-attrs'><dl class='xr-attrs'></dl></div><div class='xr-var-data'><pre>array([ 1,  2,  3,  4,  5,  6,  7,  8,  9, 10, 11, 12, 13, 14, 15, 16, 17, 18,\n",
       "       19, 20, 21])</pre></div></li><li class='xr-var-item'><div class='xr-var-name'><span class='xr-has-index'>lon</span></div><div class='xr-var-dims'>(lon)</div><div class='xr-var-dtype'>float64</div><div class='xr-var-preview xr-preview'>120.0 120.2 120.3 ... 239.8 240.0</div><input id='attrs-19a1ec2f-8966-41db-bfda-88d59d6fd056' class='xr-var-attrs-in' type='checkbox' disabled><label for='attrs-19a1ec2f-8966-41db-bfda-88d59d6fd056' title='Show/Hide attributes'><svg class='icon xr-icon-file-text2'><use xlink:href='#icon-file-text2'></use></svg></label><input id='data-742bac3e-ff11-432d-8842-ed7d43eefe9d' class='xr-var-data-in' type='checkbox'><label for='data-742bac3e-ff11-432d-8842-ed7d43eefe9d' title='Show/Hide data repr'><svg class='icon xr-icon-database'><use xlink:href='#icon-database'></use></svg></label><div class='xr-var-attrs'><dl class='xr-attrs'></dl></div><div class='xr-var-data'><pre>array([120.      , 120.165517, 120.331034, ..., 239.668966, 239.834483,\n",
       "       240.      ])</pre></div></li><li class='xr-var-item'><div class='xr-var-name'><span class='xr-has-index'>lat</span></div><div class='xr-var-dims'>(lat)</div><div class='xr-var-dtype'>float64</div><div class='xr-var-preview xr-preview'>-50.0 -49.84 -49.67 ... 29.84 30.0</div><input id='attrs-6734e432-c330-4156-8503-1791250caadb' class='xr-var-attrs-in' type='checkbox' disabled><label for='attrs-6734e432-c330-4156-8503-1791250caadb' title='Show/Hide attributes'><svg class='icon xr-icon-file-text2'><use xlink:href='#icon-file-text2'></use></svg></label><input id='data-73161986-5216-4b5d-b241-fcc9fa17e69a' class='xr-var-data-in' type='checkbox'><label for='data-73161986-5216-4b5d-b241-fcc9fa17e69a' title='Show/Hide data repr'><svg class='icon xr-icon-database'><use xlink:href='#icon-database'></use></svg></label><div class='xr-var-attrs'><dl class='xr-attrs'></dl></div><div class='xr-var-data'><pre>array([-50.      , -49.835052, -49.670103, ...,  29.670103,  29.835052,\n",
       "        30.      ])</pre></div></li></ul></div></li><li class='xr-section-item'><input id='section-ec5d4288-6dd3-41e6-8e74-613a8789b2f7' class='xr-section-summary-in' type='checkbox'  checked><label for='section-ec5d4288-6dd3-41e6-8e74-613a8789b2f7' class='xr-section-summary' >Data variables: <span>(1)</span></label><div class='xr-section-inline-details'></div><div class='xr-section-details'><ul class='xr-var-list'><li class='xr-var-item'><div class='xr-var-name'><span>precip</span></div><div class='xr-var-dims'>(percentile, time, step, lat, lon)</div><div class='xr-var-dtype'>float64</div><div class='xr-var-preview xr-preview'>dask.array&lt;chunksize=(21, 1, 3, 486, 726), meta=np.ndarray&gt;</div><input id='attrs-77e756f8-e784-485c-98b2-30ea55a73008' class='xr-var-attrs-in' type='checkbox' disabled><label for='attrs-77e756f8-e784-485c-98b2-30ea55a73008' title='Show/Hide attributes'><svg class='icon xr-icon-file-text2'><use xlink:href='#icon-file-text2'></use></svg></label><input id='data-5ccba063-83d8-4730-beca-6c59a4f016d9' class='xr-var-data-in' type='checkbox'><label for='data-5ccba063-83d8-4730-beca-6c59a4f016d9' title='Show/Hide data repr'><svg class='icon xr-icon-database'><use xlink:href='#icon-database'></use></svg></label><div class='xr-var-attrs'><dl class='xr-attrs'></dl></div><div class='xr-var-data'><table>\n",
       "    <tr>\n",
       "        <td>\n",
       "            <table>\n",
       "                <thead>\n",
       "                    <tr>\n",
       "                        <td> </td>\n",
       "                        <th> Array </th>\n",
       "                        <th> Chunk </th>\n",
       "                    </tr>\n",
       "                </thead>\n",
       "                <tbody>\n",
       "                    \n",
       "                    <tr>\n",
       "                        <th> Bytes </th>\n",
       "                        <td> 169.59 MiB </td>\n",
       "                        <td> 169.59 MiB </td>\n",
       "                    </tr>\n",
       "                    \n",
       "                    <tr>\n",
       "                        <th> Shape </th>\n",
       "                        <td> (21, 1, 3, 486, 726) </td>\n",
       "                        <td> (21, 1, 3, 486, 726) </td>\n",
       "                    </tr>\n",
       "                    <tr>\n",
       "                        <th> Count </th>\n",
       "                        <td> 91 Tasks </td>\n",
       "                        <td> 1 Chunks </td>\n",
       "                    </tr>\n",
       "                    <tr>\n",
       "                    <th> Type </th>\n",
       "                    <td> float64 </td>\n",
       "                    <td> numpy.ndarray </td>\n",
       "                    </tr>\n",
       "                </tbody>\n",
       "            </table>\n",
       "        </td>\n",
       "        <td>\n",
       "        <svg width=\"374\" height=\"145\" style=\"stroke:rgb(0,0,0);stroke-width:1\" >\n",
       "\n",
       "  <!-- Horizontal lines -->\n",
       "  <line x1=\"0\" y1=\"0\" x2=\"25\" y2=\"0\" style=\"stroke-width:2\" />\n",
       "  <line x1=\"0\" y1=\"31\" x2=\"25\" y2=\"31\" style=\"stroke-width:2\" />\n",
       "\n",
       "  <!-- Vertical lines -->\n",
       "  <line x1=\"0\" y1=\"0\" x2=\"0\" y2=\"31\" style=\"stroke-width:2\" />\n",
       "  <line x1=\"25\" y1=\"0\" x2=\"25\" y2=\"31\" style=\"stroke-width:2\" />\n",
       "\n",
       "  <!-- Colored Rectangle -->\n",
       "  <polygon points=\"0.0,0.0 25.412616514582485,0.0 25.412616514582485,31.17255961645133 0.0,31.17255961645133\" style=\"fill:#ECB172A0;stroke-width:0\"/>\n",
       "\n",
       "  <!-- Text -->\n",
       "  <text x=\"12.706308\" y=\"51.172560\" font-size=\"1.0rem\" font-weight=\"100\" text-anchor=\"middle\" >1</text>\n",
       "  <text x=\"45.412617\" y=\"15.586280\" font-size=\"1.0rem\" font-weight=\"100\" text-anchor=\"middle\" transform=\"rotate(0,45.412617,15.586280)\">21</text>\n",
       "\n",
       "\n",
       "  <!-- Horizontal lines -->\n",
       "  <line x1=\"95\" y1=\"0\" x2=\"109\" y2=\"14\" style=\"stroke-width:2\" />\n",
       "  <line x1=\"95\" y1=\"80\" x2=\"109\" y2=\"95\" style=\"stroke-width:2\" />\n",
       "\n",
       "  <!-- Vertical lines -->\n",
       "  <line x1=\"95\" y1=\"0\" x2=\"95\" y2=\"80\" style=\"stroke-width:2\" />\n",
       "  <line x1=\"109\" y1=\"14\" x2=\"109\" y2=\"95\" style=\"stroke-width:2\" />\n",
       "\n",
       "  <!-- Colored Rectangle -->\n",
       "  <polygon points=\"95.0,0.0 109.9485979497544,14.948597949754403 109.9485979497544,95.2791764621511 95.0,80.3305785123967\" style=\"fill:#ECB172A0;stroke-width:0\"/>\n",
       "\n",
       "  <!-- Horizontal lines -->\n",
       "  <line x1=\"95\" y1=\"0\" x2=\"215\" y2=\"0\" style=\"stroke-width:2\" />\n",
       "  <line x1=\"109\" y1=\"14\" x2=\"229\" y2=\"14\" style=\"stroke-width:2\" />\n",
       "\n",
       "  <!-- Vertical lines -->\n",
       "  <line x1=\"95\" y1=\"0\" x2=\"109\" y2=\"14\" style=\"stroke-width:2\" />\n",
       "  <line x1=\"215\" y1=\"0\" x2=\"229\" y2=\"14\" style=\"stroke-width:2\" />\n",
       "\n",
       "  <!-- Colored Rectangle -->\n",
       "  <polygon points=\"95.0,0.0 215.0,0.0 229.9485979497544,14.948597949754403 109.9485979497544,14.948597949754403\" style=\"fill:#ECB172A0;stroke-width:0\"/>\n",
       "\n",
       "  <!-- Horizontal lines -->\n",
       "  <line x1=\"109\" y1=\"14\" x2=\"229\" y2=\"14\" style=\"stroke-width:2\" />\n",
       "  <line x1=\"109\" y1=\"95\" x2=\"229\" y2=\"95\" style=\"stroke-width:2\" />\n",
       "\n",
       "  <!-- Vertical lines -->\n",
       "  <line x1=\"109\" y1=\"14\" x2=\"109\" y2=\"95\" style=\"stroke-width:2\" />\n",
       "  <line x1=\"229\" y1=\"14\" x2=\"229\" y2=\"95\" style=\"stroke-width:2\" />\n",
       "\n",
       "  <!-- Colored Rectangle -->\n",
       "  <polygon points=\"109.9485979497544,14.948597949754403 229.9485979497544,14.948597949754403 229.9485979497544,95.2791764621511 109.9485979497544,95.2791764621511\" style=\"fill:#ECB172A0;stroke-width:0\"/>\n",
       "\n",
       "  <!-- Text -->\n",
       "  <text x=\"169.948598\" y=\"115.279176\" font-size=\"1.0rem\" font-weight=\"100\" text-anchor=\"middle\" >726</text>\n",
       "  <text x=\"249.948598\" y=\"55.113887\" font-size=\"1.0rem\" font-weight=\"100\" text-anchor=\"middle\" transform=\"rotate(-90,249.948598,55.113887)\">486</text>\n",
       "  <text x=\"92.474299\" y=\"107.804877\" font-size=\"1.0rem\" font-weight=\"100\" text-anchor=\"middle\" transform=\"rotate(45,92.474299,107.804877)\">3</text>\n",
       "</svg>\n",
       "        </td>\n",
       "    </tr>\n",
       "</table></div></li></ul></div></li><li class='xr-section-item'><input id='section-c1e29245-16d8-490a-8aa0-359456366dd3' class='xr-section-summary-in' type='checkbox'  checked><label for='section-c1e29245-16d8-490a-8aa0-359456366dd3' class='xr-section-summary' >Attributes: <span>(2)</span></label><div class='xr-section-inline-details'></div><div class='xr-section-details'><dl class='xr-attrs'><dt><span>pct_values :</span></dt><dd>[0.02 0.05 0.1  0.15 0.2  0.25 0.3  0.35 0.4  0.45 0.5  0.55 0.6  0.65\n",
       " 0.7  0.75 0.8  0.85 0.9  0.95]</dd><dt><span>period :</span></dt><dd>seasonal</dd></dl></div></li></ul></div></div>"
      ],
      "text/plain": [
       "<xarray.Dataset>\n",
       "Dimensions:     (time: 1, step: 3, percentile: 21, lon: 726, lat: 486)\n",
       "Coordinates:\n",
       "  * time        (time) datetime64[ns] 2022-03-01\n",
       "  * step        (step) int64 3 4 5\n",
       "    month       int64 3\n",
       "  * percentile  (percentile) int64 1 2 3 4 5 6 7 8 9 ... 14 15 16 17 18 19 20 21\n",
       "  * lon         (lon) float64 120.0 120.2 120.3 120.5 ... 239.7 239.8 240.0\n",
       "  * lat         (lat) float64 -50.0 -49.84 -49.67 -49.51 ... 29.67 29.84 30.0\n",
       "Data variables:\n",
       "    precip      (percentile, time, step, lat, lon) float64 dask.array<chunksize=(21, 1, 3, 486, 726), meta=np.ndarray>\n",
       "Attributes:\n",
       "    pct_values:  [0.02 0.05 0.1  0.15 0.2  0.25 0.3  0.35 0.4  0.45 0.5  0.55...\n",
       "    period:      seasonal"
      ]
     },
     "execution_count": 47,
     "metadata": {},
     "output_type": "execute_result"
    }
   ],
   "source": [
    "probs_mean"
   ]
  },
  {
   "cell_type": "code",
   "execution_count": 48,
   "id": "9493a411",
   "metadata": {
    "execution": {
     "iopub.execute_input": "2022-03-13T23:36:47.018420Z",
     "iopub.status.busy": "2022-03-13T23:36:47.018068Z",
     "iopub.status.idle": "2022-03-13T23:37:08.774654Z",
     "shell.execute_reply": "2022-03-13T23:37:08.774279Z"
    },
    "papermill": {
     "duration": 21.807116,
     "end_time": "2022-03-13T23:37:08.774769",
     "exception": false,
     "start_time": "2022-03-13T23:36:46.967653",
     "status": "completed"
    },
    "tags": []
   },
   "outputs": [
    {
     "data": {
      "text/plain": [
       "<xarray.plot.facetgrid.FacetGrid at 0x7fb4041e6a30>"
      ]
     },
     "execution_count": 48,
     "metadata": {},
     "output_type": "execute_result"
    },
    {
     "data": {
      "image/png": "[encoded data removed]",
      "text/plain": [
       "<Figure size 720x216 with 4 Axes>"
      ]
     },
     "metadata": {
      "needs_background": "light"
     },
     "output_type": "display_data"
    }
   ],
   "source": [
    "probs_mean.isel(percentile=slice(None, 10)).sum('percentile')['precip'].squeeze().plot.contourf(col='step', levels=20)"
   ]
  },
  {
   "cell_type": "code",
   "execution_count": 49,
   "id": "3693f7e5-9d0b-480f-b7f2-56d482e691ec",
   "metadata": {
    "execution": {
     "iopub.execute_input": "2022-03-13T23:37:08.884676Z",
     "iopub.status.busy": "2022-03-13T23:37:08.884027Z",
     "iopub.status.idle": "2022-03-13T23:37:08.903023Z",
     "shell.execute_reply": "2022-03-13T23:37:08.902693Z"
    },
    "papermill": {
     "duration": 0.077145,
     "end_time": "2022-03-13T23:37:08.903136",
     "exception": false,
     "start_time": "2022-03-13T23:37:08.825991",
     "status": "completed"
    },
    "tags": []
   },
   "outputs": [],
   "source": [
    "fname = f\"C3S_MME_{pmax}prob_{period}_lead{lead}_latest.png\""
   ]
  },
  {
   "cell_type": "code",
   "execution_count": 50,
   "id": "e9928eef",
   "metadata": {
    "execution": {
     "iopub.execute_input": "2022-03-13T23:37:09.003464Z",
     "iopub.status.busy": "2022-03-13T23:37:09.002932Z",
     "iopub.status.idle": "2022-03-13T23:37:23.907325Z",
     "shell.execute_reply": "2022-03-13T23:37:23.907652Z"
    },
    "papermill": {
     "duration": 14.956797,
     "end_time": "2022-03-13T23:37:23.907802",
     "exception": false,
     "start_time": "2022-03-13T23:37:08.951005",
     "status": "completed"
    },
    "tags": []
   },
   "outputs": [
    {
     "data": {
      "image/png": "[encoded data removed]",
      "text/plain": [
       "<Figure size 1008x576 with 1 Axes>"
      ]
     },
     "metadata": {},
     "output_type": "display_data"
    }
   ],
   "source": [
    "plot.map_MME_forecast(probs_mean, step=step, pct=25, mask=merged_EEZs, geoms=EEZs, fpath=fpath, fname=fname, close=False, domain=domain)"
   ]
  },
  {
   "cell_type": "code",
   "execution_count": 51,
   "id": "4481f7bb-3777-42bd-bd35-8fa5be096bf4",
   "metadata": {
    "execution": {
     "iopub.execute_input": "2022-03-13T23:37:24.031824Z",
     "iopub.status.busy": "2022-03-13T23:37:24.031414Z",
     "iopub.status.idle": "2022-03-13T23:37:36.230146Z",
     "shell.execute_reply": "2022-03-13T23:37:36.230556Z"
    },
    "papermill": {
     "duration": 12.264772,
     "end_time": "2022-03-13T23:37:36.230727",
     "exception": false,
     "start_time": "2022-03-13T23:37:23.965955",
     "status": "completed"
    },
    "tags": []
   },
   "outputs": [
    {
     "data": {
      "image/png": "[encoded data removed]",
      "text/plain": [
       "<Figure size 1008x576 with 1 Axes>"
      ]
     },
     "metadata": {},
     "output_type": "display_data"
    }
   ],
   "source": [
    "plot.map_MME_forecast(probs_mean, step=step, pct=25, mask=merged_EEZs, geoms=EEZs, fpath=fpath_web, fname=fname, close=False, domain=domain)"
   ]
  },
  {
   "cell_type": "code",
   "execution_count": null,
   "id": "619b5190-eaf7-40d2-afd2-fe7607c83e20",
   "metadata": {
    "papermill": {
     "duration": 0.057711,
     "end_time": "2022-03-13T23:37:36.345715",
     "exception": false,
     "start_time": "2022-03-13T23:37:36.288004",
     "status": "completed"
    },
    "tags": []
   },
   "outputs": [],
   "source": []
  },
  {
   "cell_type": "code",
   "execution_count": null,
   "id": "25e51786-18d9-4b9c-abdc-32b8a14915ca",
   "metadata": {
    "papermill": {
     "duration": 0.053378,
     "end_time": "2022-03-13T23:37:36.453735",
     "exception": false,
     "start_time": "2022-03-13T23:37:36.400357",
     "status": "completed"
    },
    "tags": []
   },
   "outputs": [],
   "source": []
  },
  {
   "cell_type": "code",
   "execution_count": null,
   "id": "179ae3fd-9a53-4eef-82f2-c304f614384d",
   "metadata": {
    "papermill": {
     "duration": 0.05334,
     "end_time": "2022-03-13T23:37:36.560458",
     "exception": false,
     "start_time": "2022-03-13T23:37:36.507118",
     "status": "completed"
    },
    "tags": []
   },
   "outputs": [],
   "source": []
  },
  {
   "cell_type": "code",
   "execution_count": null,
   "id": "71f3adea-ef1d-416b-879e-60423f289baa",
   "metadata": {
    "papermill": {
     "duration": 0.056543,
     "end_time": "2022-03-13T23:37:36.669986",
     "exception": false,
     "start_time": "2022-03-13T23:37:36.613443",
     "status": "completed"
    },
    "tags": []
   },
   "outputs": [],
   "source": []
  }
 ],
 "metadata": {
  "interpreter": {
   "hash": "df53d632f991ae6da976d69f0a13fc423563be07cde77240b1fc66d1fa832155"
  },
  "kernelspec": {
   "display_name": "Python 3 (ipykernel)",
   "language": "python",
   "name": "python3"
  },
  "language_info": {
   "codemirror_mode": {
    "name": "ipython",
    "version": 3
   },
   "file_extension": ".py",
   "mimetype": "text/x-python",
   "name": "python",
   "nbconvert_exporter": "python",
   "pygments_lexer": "ipython3",
   "version": "3.9.10"
  },
  "papermill": {
   "default_parameters": {},
   "duration": 126.530584,
   "end_time": "2022-03-13T23:37:37.642339",
   "environment_variables": {},
   "exception": null,
   "input_path": "/home/nicolasf/operational/ICU/development/hotspots/code/ICU_Water_Watch/notebooks/C3S/5_map_C3S_MME_probabilistic_percentile_forecast.ipynb",
   "output_path": "/home/nicolasf/operational/ICU/development/hotspots/code/ICU_Water_Watch/notebooks/C3S/5_map_C3S_MME_probabilistic_percentile_forecast.ipynb",
   "parameters": {
    "date": "this month",
    "lead": 3,
    "period": "seasonal"
   },
   "start_time": "2022-03-13T23:35:31.111755",
   "version": "2.3.3"
  }
 },
 "nbformat": 4,
 "nbformat_minor": 5
}