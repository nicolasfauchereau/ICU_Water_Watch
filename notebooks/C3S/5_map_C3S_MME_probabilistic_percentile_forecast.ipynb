{
 "cells": [
  {
   "cell_type": "code",
   "execution_count": 1,
   "id": "b5bba804",
   "metadata": {
    "execution": {
     "iopub.execute_input": "2022-01-17T20:46:20.887083Z",
     "iopub.status.busy": "2022-01-17T20:46:20.886717Z",
     "iopub.status.idle": "2022-01-17T20:46:20.894017Z",
     "shell.execute_reply": "2022-01-17T20:46:20.893593Z"
    },
    "papermill": {
     "duration": 0.038399,
     "end_time": "2022-01-17T20:46:20.894136",
     "exception": false,
     "start_time": "2022-01-17T20:46:20.855737",
     "status": "completed"
    },
    "tags": []
   },
   "outputs": [],
   "source": [
    "%load_ext autoreload\n",
    "%autoreload 2"
   ]
  },
  {
   "cell_type": "code",
   "execution_count": 2,
   "id": "ac984cda",
   "metadata": {
    "execution": {
     "iopub.execute_input": "2022-01-17T20:46:20.954107Z",
     "iopub.status.busy": "2022-01-17T20:46:20.953773Z",
     "iopub.status.idle": "2022-01-17T20:46:21.103440Z",
     "shell.execute_reply": "2022-01-17T20:46:21.103709Z"
    },
    "papermill": {
     "duration": 0.184094,
     "end_time": "2022-01-17T20:46:21.103826",
     "exception": false,
     "start_time": "2022-01-17T20:46:20.919732",
     "status": "completed"
    },
    "tags": []
   },
   "outputs": [],
   "source": [
    "import matplotlib"
   ]
  },
  {
   "cell_type": "code",
   "execution_count": 3,
   "id": "43c54f3b",
   "metadata": {
    "execution": {
     "iopub.execute_input": "2022-01-17T20:46:21.165879Z",
     "iopub.status.busy": "2022-01-17T20:46:21.165524Z",
     "iopub.status.idle": "2022-01-17T20:46:22.148067Z",
     "shell.execute_reply": "2022-01-17T20:46:22.147746Z"
    },
    "papermill": {
     "duration": 1.017386,
     "end_time": "2022-01-17T20:46:22.148180",
     "exception": false,
     "start_time": "2022-01-17T20:46:21.130794",
     "status": "completed"
    },
    "tags": []
   },
   "outputs": [],
   "source": [
    "# %matplotlib widget\n",
    "%matplotlib inline\n",
    "\n",
    "### os \n",
    "import os \n",
    "import sys\n",
    "\n",
    "### datetimes \n",
    "from datetime import datetime, timedelta\n",
    "from dateutil.relativedelta import relativedelta\n",
    "from calendar import month_name, month_abbr\n",
    "import dateparser\n",
    "\n",
    "### scipy \n",
    "import numpy as np \n",
    "import pandas as pd\n",
    "import xarray as xr\n",
    "from cartopy import crs as ccrs\n",
    "\n",
    "### plotting \n",
    "from matplotlib import pyplot as plt\n",
    "import palettable"
   ]
  },
  {
   "cell_type": "code",
   "execution_count": 4,
   "id": "6f41562c",
   "metadata": {
    "execution": {
     "iopub.execute_input": "2022-01-17T20:46:22.202660Z",
     "iopub.status.busy": "2022-01-17T20:46:22.202259Z",
     "iopub.status.idle": "2022-01-17T20:46:22.215324Z",
     "shell.execute_reply": "2022-01-17T20:46:22.215817Z"
    },
    "papermill": {
     "duration": 0.042021,
     "end_time": "2022-01-17T20:46:22.216022",
     "exception": false,
     "start_time": "2022-01-17T20:46:22.174001",
     "status": "completed"
    },
    "tags": []
   },
   "outputs": [],
   "source": [
    "import pathlib\n",
    "\n",
    "HOME = pathlib.Path.home()\n",
    "CWD = pathlib.Path.cwd() "
   ]
  },
  {
   "cell_type": "markdown",
   "id": "aee5236c",
   "metadata": {
    "papermill": {
     "duration": 0.025609,
     "end_time": "2022-01-17T20:46:22.270792",
     "exception": false,
     "start_time": "2022-01-17T20:46:22.245183",
     "status": "completed"
    },
    "tags": []
   },
   "source": [
    "### import local functions for the downloading of the C3S forecasts "
   ]
  },
  {
   "cell_type": "code",
   "execution_count": 5,
   "id": "655d65e3",
   "metadata": {
    "execution": {
     "iopub.execute_input": "2022-01-17T20:46:22.328041Z",
     "iopub.status.busy": "2022-01-17T20:46:22.327651Z",
     "iopub.status.idle": "2022-01-17T20:46:22.338221Z",
     "shell.execute_reply": "2022-01-17T20:46:22.338527Z"
    },
    "papermill": {
     "duration": 0.040204,
     "end_time": "2022-01-17T20:46:22.338657",
     "exception": false,
     "start_time": "2022-01-17T20:46:22.298453",
     "status": "completed"
    },
    "tags": []
   },
   "outputs": [],
   "source": [
    "sys.path.append('../..')"
   ]
  },
  {
   "cell_type": "code",
   "execution_count": 6,
   "id": "53a424f1",
   "metadata": {
    "execution": {
     "iopub.execute_input": "2022-01-17T20:46:22.394331Z",
     "iopub.status.busy": "2022-01-17T20:46:22.393915Z",
     "iopub.status.idle": "2022-01-17T20:46:35.168742Z",
     "shell.execute_reply": "2022-01-17T20:46:35.168454Z"
    },
    "papermill": {
     "duration": 12.80384,
     "end_time": "2022-01-17T20:46:35.168843",
     "exception": false,
     "start_time": "2022-01-17T20:46:22.365003",
     "status": "completed"
    },
    "tags": []
   },
   "outputs": [],
   "source": [
    "from ICU_Water_Watch import geo, C3S, domains, plot, utils"
   ]
  },
  {
   "cell_type": "code",
   "execution_count": 7,
   "id": "11f4e361",
   "metadata": {
    "execution": {
     "iopub.execute_input": "2022-01-17T20:46:35.224026Z",
     "iopub.status.busy": "2022-01-17T20:46:35.223649Z",
     "iopub.status.idle": "2022-01-17T20:46:35.238472Z",
     "shell.execute_reply": "2022-01-17T20:46:35.238748Z"
    },
    "papermill": {
     "duration": 0.042565,
     "end_time": "2022-01-17T20:46:35.238879",
     "exception": false,
     "start_time": "2022-01-17T20:46:35.196314",
     "status": "completed"
    },
    "tags": [
     "parameters"
    ]
   },
   "outputs": [],
   "source": [
    "domain_name = 'Water_Watch' # domain name \n",
    "date = \"this month\"\n",
    "period = \"seasonal\"\n",
    "lead = 1\n",
    "quantile = 'percentile'\n",
    "varname = 'precip'\n",
    "dpath_shapes = '/home/nicolasf/operational/ICU/development/hotspots/data/shapefiles'\n",
    "dpath_forecasts = '/home/nicolasf/operational/ICU/development/hotspots/code/ICU_Water_Watch/outputs/C3S'\n",
    "fpath = '/home/nicolasf/operational/ICU/development/hotspots/code/ICU_Water_Watch/figures'\n",
    "fpath_web = '/home/nicolasf/operational/ICU_Web/C3S/'"
   ]
  },
  {
   "cell_type": "code",
   "execution_count": 8,
   "id": "23a058ee",
   "metadata": {
    "execution": {
     "iopub.execute_input": "2022-01-17T20:46:35.291216Z",
     "iopub.status.busy": "2022-01-17T20:46:35.290889Z",
     "iopub.status.idle": "2022-01-17T20:46:35.304839Z",
     "shell.execute_reply": "2022-01-17T20:46:35.305168Z"
    },
    "papermill": {
     "duration": 0.041171,
     "end_time": "2022-01-17T20:46:35.305291",
     "exception": false,
     "start_time": "2022-01-17T20:46:35.264120",
     "status": "completed"
    },
    "tags": [
     "injected-parameters"
    ]
   },
   "outputs": [],
   "source": [
    "# Parameters\n",
    "period = \"seasonal\"\n",
    "lead = 3\n",
    "date = \"this month\"\n"
   ]
  },
  {
   "cell_type": "markdown",
   "id": "dd19bb5c",
   "metadata": {
    "papermill": {
     "duration": 0.026741,
     "end_time": "2022-01-17T20:46:35.357442",
     "exception": false,
     "start_time": "2022-01-17T20:46:35.330701",
     "status": "completed"
    },
    "tags": []
   },
   "source": [
    "### casts the paths to pathlib.Paths "
   ]
  },
  {
   "cell_type": "code",
   "execution_count": 9,
   "id": "d50281fd",
   "metadata": {
    "execution": {
     "iopub.execute_input": "2022-01-17T20:46:35.411122Z",
     "iopub.status.busy": "2022-01-17T20:46:35.410589Z",
     "iopub.status.idle": "2022-01-17T20:46:35.424839Z",
     "shell.execute_reply": "2022-01-17T20:46:35.424552Z"
    },
    "papermill": {
     "duration": 0.041516,
     "end_time": "2022-01-17T20:46:35.424944",
     "exception": false,
     "start_time": "2022-01-17T20:46:35.383428",
     "status": "completed"
    },
    "tags": []
   },
   "outputs": [],
   "source": [
    "dpath_shapes = pathlib.Path(dpath_shapes)\n",
    "dpath_forecasts = pathlib.Path(dpath_forecasts)\n",
    "fpath = pathlib.Path(fpath)\n",
    "fpath_web = pathlib.Path(fpath_web)"
   ]
  },
  {
   "cell_type": "markdown",
   "id": "2e5c7c40",
   "metadata": {
    "papermill": {
     "duration": 0.024932,
     "end_time": "2022-01-17T20:46:35.475570",
     "exception": false,
     "start_time": "2022-01-17T20:46:35.450638",
     "status": "completed"
    },
    "tags": []
   },
   "source": [
    "### domain "
   ]
  },
  {
   "cell_type": "code",
   "execution_count": 10,
   "id": "5114e37e",
   "metadata": {
    "execution": {
     "iopub.execute_input": "2022-01-17T20:46:35.527446Z",
     "iopub.status.busy": "2022-01-17T20:46:35.526938Z",
     "iopub.status.idle": "2022-01-17T20:46:35.541024Z",
     "shell.execute_reply": "2022-01-17T20:46:35.540678Z"
    },
    "papermill": {
     "duration": 0.040848,
     "end_time": "2022-01-17T20:46:35.541122",
     "exception": false,
     "start_time": "2022-01-17T20:46:35.500274",
     "status": "completed"
    },
    "tags": []
   },
   "outputs": [],
   "source": [
    "domain = domains.domains[domain_name]"
   ]
  },
  {
   "cell_type": "markdown",
   "id": "b2be15de",
   "metadata": {
    "papermill": {
     "duration": 0.024879,
     "end_time": "2022-01-17T20:46:35.590855",
     "exception": false,
     "start_time": "2022-01-17T20:46:35.565976",
     "status": "completed"
    },
    "tags": []
   },
   "source": [
    "### EEZ shapes "
   ]
  },
  {
   "cell_type": "code",
   "execution_count": 11,
   "id": "33234bcd",
   "metadata": {
    "execution": {
     "iopub.execute_input": "2022-01-17T20:46:35.643612Z",
     "iopub.status.busy": "2022-01-17T20:46:35.643209Z",
     "iopub.status.idle": "2022-01-17T20:46:35.695971Z",
     "shell.execute_reply": "2022-01-17T20:46:35.695661Z"
    },
    "papermill": {
     "duration": 0.07974,
     "end_time": "2022-01-17T20:46:35.696131",
     "exception": false,
     "start_time": "2022-01-17T20:46:35.616391",
     "status": "completed"
    },
    "tags": []
   },
   "outputs": [],
   "source": [
    "EEZs, merged_EEZs = geo.get_EEZs(dpath_shapes)"
   ]
  },
  {
   "cell_type": "markdown",
   "id": "5e77f980",
   "metadata": {
    "papermill": {
     "duration": 0.026975,
     "end_time": "2022-01-17T20:46:35.749114",
     "exception": false,
     "start_time": "2022-01-17T20:46:35.722139",
     "status": "completed"
    },
    "tags": []
   },
   "source": [
    "### year and month (initial month of the forecast)"
   ]
  },
  {
   "cell_type": "code",
   "execution_count": 12,
   "id": "961a9cf0",
   "metadata": {
    "execution": {
     "iopub.execute_input": "2022-01-17T20:46:35.802496Z",
     "iopub.status.busy": "2022-01-17T20:46:35.802166Z",
     "iopub.status.idle": "2022-01-17T20:46:35.837330Z",
     "shell.execute_reply": "2022-01-17T20:46:35.837607Z"
    },
    "papermill": {
     "duration": 0.063854,
     "end_time": "2022-01-17T20:46:35.837736",
     "exception": false,
     "start_time": "2022-01-17T20:46:35.773882",
     "status": "completed"
    },
    "tags": []
   },
   "outputs": [],
   "source": [
    "year = dateparser.parse(date).year"
   ]
  },
  {
   "cell_type": "code",
   "execution_count": 13,
   "id": "ae1cff3a",
   "metadata": {
    "execution": {
     "iopub.execute_input": "2022-01-17T20:46:35.891572Z",
     "iopub.status.busy": "2022-01-17T20:46:35.891234Z",
     "iopub.status.idle": "2022-01-17T20:46:35.908514Z",
     "shell.execute_reply": "2022-01-17T20:46:35.908128Z"
    },
    "papermill": {
     "duration": 0.045486,
     "end_time": "2022-01-17T20:46:35.908618",
     "exception": false,
     "start_time": "2022-01-17T20:46:35.863132",
     "status": "completed"
    },
    "tags": []
   },
   "outputs": [],
   "source": [
    "month = dateparser.parse(date).month"
   ]
  },
  {
   "cell_type": "code",
   "execution_count": 14,
   "id": "1f89dd34",
   "metadata": {
    "execution": {
     "iopub.execute_input": "2022-01-17T20:46:35.961016Z",
     "iopub.status.busy": "2022-01-17T20:46:35.960657Z",
     "iopub.status.idle": "2022-01-17T20:46:35.974826Z",
     "shell.execute_reply": "2022-01-17T20:46:35.974460Z"
    },
    "papermill": {
     "duration": 0.04138,
     "end_time": "2022-01-17T20:46:35.974925",
     "exception": false,
     "start_time": "2022-01-17T20:46:35.933545",
     "status": "completed"
    },
    "tags": []
   },
   "outputs": [
    {
     "name": "stdout",
     "output_type": "stream",
     "text": [
      "2022 - 1\n"
     ]
    }
   ],
   "source": [
    "print(f\"{year} - {month}\")"
   ]
  },
  {
   "cell_type": "markdown",
   "id": "eb5edf9b",
   "metadata": {
    "papermill": {
     "duration": 0.029991,
     "end_time": "2022-01-17T20:46:36.030310",
     "exception": false,
     "start_time": "2022-01-17T20:46:36.000319",
     "status": "completed"
    },
    "tags": []
   },
   "source": [
    "### read the probabilistic forecasts from the GCMs now "
   ]
  },
  {
   "cell_type": "markdown",
   "id": "5cbb8a3a",
   "metadata": {
    "papermill": {
     "duration": 0.024039,
     "end_time": "2022-01-17T20:46:36.089678",
     "exception": false,
     "start_time": "2022-01-17T20:46:36.065639",
     "status": "completed"
    },
    "tags": []
   },
   "source": [
    "### provider "
   ]
  },
  {
   "cell_type": "code",
   "execution_count": 15,
   "id": "1478f4b1",
   "metadata": {
    "execution": {
     "iopub.execute_input": "2022-01-17T20:46:36.147395Z",
     "iopub.status.busy": "2022-01-17T20:46:36.147047Z",
     "iopub.status.idle": "2022-01-17T20:46:36.163494Z",
     "shell.execute_reply": "2022-01-17T20:46:36.163130Z"
    },
    "papermill": {
     "duration": 0.048933,
     "end_time": "2022-01-17T20:46:36.163597",
     "exception": false,
     "start_time": "2022-01-17T20:46:36.114664",
     "status": "completed"
    },
    "tags": []
   },
   "outputs": [],
   "source": [
    "provider = 'CDS'"
   ]
  },
  {
   "cell_type": "markdown",
   "id": "7f9ac50f",
   "metadata": {
    "papermill": {
     "duration": 0.025416,
     "end_time": "2022-01-17T20:46:36.213851",
     "exception": false,
     "start_time": "2022-01-17T20:46:36.188435",
     "status": "completed"
    },
    "tags": []
   },
   "source": [
    "#### list of GCMs to inlude "
   ]
  },
  {
   "cell_type": "code",
   "execution_count": 16,
   "id": "116d3fdd",
   "metadata": {
    "execution": {
     "iopub.execute_input": "2022-01-17T20:46:36.274542Z",
     "iopub.status.busy": "2022-01-17T20:46:36.274096Z",
     "iopub.status.idle": "2022-01-17T20:46:36.290212Z",
     "shell.execute_reply": "2022-01-17T20:46:36.289888Z"
    },
    "papermill": {
     "duration": 0.049653,
     "end_time": "2022-01-17T20:46:36.290318",
     "exception": false,
     "start_time": "2022-01-17T20:46:36.240665",
     "status": "completed"
    },
    "tags": []
   },
   "outputs": [],
   "source": [
    "list_GCMs = ['ECMWF','UKMO','METEO_FRANCE','CMCC','DWD', 'NCEP', 'JMA', 'ECCC_CanCM4i', 'ECCC_GEM_NEMO']"
   ]
  },
  {
   "cell_type": "code",
   "execution_count": 17,
   "id": "9f45c5a9",
   "metadata": {
    "execution": {
     "iopub.execute_input": "2022-01-17T20:46:36.347746Z",
     "iopub.status.busy": "2022-01-17T20:46:36.347381Z",
     "iopub.status.idle": "2022-01-17T20:46:36.369741Z",
     "shell.execute_reply": "2022-01-17T20:46:36.369431Z"
    },
    "papermill": {
     "duration": 0.052911,
     "end_time": "2022-01-17T20:46:36.369844",
     "exception": false,
     "start_time": "2022-01-17T20:46:36.316933",
     "status": "completed"
    },
    "tags": []
   },
   "outputs": [],
   "source": [
    "if period == 'seasonal': \n",
    "    nsteps = 3\n",
    "    first_step = 3\n",
    "elif period == 'monthly': \n",
    "    nsteps = 5\n",
    "    first_step = 1"
   ]
  },
  {
   "cell_type": "code",
   "execution_count": 18,
   "id": "e045bc51",
   "metadata": {
    "execution": {
     "iopub.execute_input": "2022-01-17T20:46:36.426285Z",
     "iopub.status.busy": "2022-01-17T20:46:36.425903Z",
     "iopub.status.idle": "2022-01-17T20:46:36.440021Z",
     "shell.execute_reply": "2022-01-17T20:46:36.439636Z"
    },
    "papermill": {
     "duration": 0.042725,
     "end_time": "2022-01-17T20:46:36.440130",
     "exception": false,
     "start_time": "2022-01-17T20:46:36.397405",
     "status": "completed"
    },
    "tags": []
   },
   "outputs": [],
   "source": [
    "step = lead + first_step - 1"
   ]
  },
  {
   "cell_type": "code",
   "execution_count": 19,
   "id": "4ce3adec",
   "metadata": {
    "execution": {
     "iopub.execute_input": "2022-01-17T20:46:36.496659Z",
     "iopub.status.busy": "2022-01-17T20:46:36.496264Z",
     "iopub.status.idle": "2022-01-17T20:46:36.512472Z",
     "shell.execute_reply": "2022-01-17T20:46:36.512130Z"
    },
    "papermill": {
     "duration": 0.046385,
     "end_time": "2022-01-17T20:46:36.512570",
     "exception": false,
     "start_time": "2022-01-17T20:46:36.466185",
     "status": "completed"
    },
    "tags": []
   },
   "outputs": [
    {
     "data": {
      "text/plain": [
       "5"
      ]
     },
     "execution_count": 19,
     "metadata": {},
     "output_type": "execute_result"
    }
   ],
   "source": [
    "step"
   ]
  },
  {
   "cell_type": "markdown",
   "id": "56bb4334",
   "metadata": {
    "papermill": {
     "duration": 0.027273,
     "end_time": "2022-01-17T20:46:36.566321",
     "exception": false,
     "start_time": "2022-01-17T20:46:36.539048",
     "status": "completed"
    },
    "tags": []
   },
   "source": [
    "### list the realtime forecasts"
   ]
  },
  {
   "cell_type": "code",
   "execution_count": 20,
   "id": "0f9602ad",
   "metadata": {
    "execution": {
     "iopub.execute_input": "2022-01-17T20:46:36.619154Z",
     "iopub.status.busy": "2022-01-17T20:46:36.618810Z",
     "iopub.status.idle": "2022-01-17T20:46:36.634771Z",
     "shell.execute_reply": "2022-01-17T20:46:36.634333Z"
    },
    "papermill": {
     "duration": 0.043577,
     "end_time": "2022-01-17T20:46:36.634878",
     "exception": false,
     "start_time": "2022-01-17T20:46:36.591301",
     "status": "completed"
    },
    "tags": []
   },
   "outputs": [],
   "source": [
    "lfiles = list(dpath_forecasts.glob(f\"{period}_{quantile}s_probabilities_from_{year}-{str(month).zfill(2)}_*.netcdf\"))"
   ]
  },
  {
   "cell_type": "markdown",
   "id": "23b75799",
   "metadata": {
    "papermill": {
     "duration": 0.025796,
     "end_time": "2022-01-17T20:46:36.689305",
     "exception": false,
     "start_time": "2022-01-17T20:46:36.663509",
     "status": "completed"
    },
    "tags": []
   },
   "source": [
    "### checks the files names "
   ]
  },
  {
   "cell_type": "code",
   "execution_count": 21,
   "id": "225327ee",
   "metadata": {
    "execution": {
     "iopub.execute_input": "2022-01-17T20:46:36.741970Z",
     "iopub.status.busy": "2022-01-17T20:46:36.741624Z",
     "iopub.status.idle": "2022-01-17T20:46:36.756069Z",
     "shell.execute_reply": "2022-01-17T20:46:36.755718Z"
    },
    "papermill": {
     "duration": 0.041534,
     "end_time": "2022-01-17T20:46:36.756168",
     "exception": false,
     "start_time": "2022-01-17T20:46:36.714634",
     "status": "completed"
    },
    "tags": []
   },
   "outputs": [
    {
     "data": {
      "text/plain": [
       "'seasonal'"
      ]
     },
     "execution_count": 21,
     "metadata": {},
     "output_type": "execute_result"
    }
   ],
   "source": [
    "period"
   ]
  },
  {
   "cell_type": "code",
   "execution_count": 22,
   "id": "45d56af3",
   "metadata": {
    "execution": {
     "iopub.execute_input": "2022-01-17T20:46:36.810199Z",
     "iopub.status.busy": "2022-01-17T20:46:36.809849Z",
     "iopub.status.idle": "2022-01-17T20:46:36.824663Z",
     "shell.execute_reply": "2022-01-17T20:46:36.824313Z"
    },
    "papermill": {
     "duration": 0.042837,
     "end_time": "2022-01-17T20:46:36.824765",
     "exception": false,
     "start_time": "2022-01-17T20:46:36.781928",
     "status": "completed"
    },
    "tags": []
   },
   "outputs": [
    {
     "data": {
      "text/plain": [
       "['seasonal_percentiles_probabilities_from_2022-01_ECMWF.netcdf',\n",
       " 'seasonal_percentiles_probabilities_from_2022-01_METEO_FRANCE.netcdf',\n",
       " 'seasonal_percentiles_probabilities_from_2022-01_DWD.netcdf',\n",
       " 'seasonal_percentiles_probabilities_from_2022-01_NCEP.netcdf',\n",
       " 'seasonal_percentiles_probabilities_from_2022-01_UKMO.netcdf',\n",
       " 'seasonal_percentiles_probabilities_from_2022-01_ECCC_CanCM4i.netcdf',\n",
       " 'seasonal_percentiles_probabilities_from_2022-01_JMA.netcdf',\n",
       " 'seasonal_percentiles_probabilities_from_2022-01_ECCC_GEM_NEMO.netcdf',\n",
       " 'seasonal_percentiles_probabilities_from_2022-01_CMCC.netcdf']"
      ]
     },
     "execution_count": 22,
     "metadata": {},
     "output_type": "execute_result"
    }
   ],
   "source": [
    "[f.name for f in lfiles]"
   ]
  },
  {
   "cell_type": "markdown",
   "id": "df6201ab",
   "metadata": {
    "papermill": {
     "duration": 0.024997,
     "end_time": "2022-01-17T20:46:36.875443",
     "exception": false,
     "start_time": "2022-01-17T20:46:36.850446",
     "status": "completed"
    },
    "tags": []
   },
   "source": [
    "### open the multiple files dataset, concatenate along the \"GCM\" dimension "
   ]
  },
  {
   "cell_type": "code",
   "execution_count": 23,
   "id": "057af913",
   "metadata": {
    "execution": {
     "iopub.execute_input": "2022-01-17T20:46:36.930096Z",
     "iopub.status.busy": "2022-01-17T20:46:36.929750Z",
     "iopub.status.idle": "2022-01-17T20:46:37.044960Z",
     "shell.execute_reply": "2022-01-17T20:46:37.044589Z"
    },
    "papermill": {
     "duration": 0.144057,
     "end_time": "2022-01-17T20:46:37.045062",
     "exception": false,
     "start_time": "2022-01-17T20:46:36.901005",
     "status": "completed"
    },
    "tags": []
   },
   "outputs": [],
   "source": [
    "probs = xr.open_mfdataset(lfiles, concat_dim='GCM', combine='nested', engine='netcdf4') "
   ]
  },
  {
   "cell_type": "markdown",
   "id": "e5c75fbf",
   "metadata": {
    "papermill": {
     "duration": 0.025013,
     "end_time": "2022-01-17T20:46:37.095344",
     "exception": false,
     "start_time": "2022-01-17T20:46:37.070331",
     "status": "completed"
    },
    "tags": []
   },
   "source": [
    "### interpolate"
   ]
  },
  {
   "cell_type": "code",
   "execution_count": 24,
   "id": "8522c071",
   "metadata": {
    "execution": {
     "iopub.execute_input": "2022-01-17T20:46:37.150490Z",
     "iopub.status.busy": "2022-01-17T20:46:37.150152Z",
     "iopub.status.idle": "2022-01-17T20:46:37.173688Z",
     "shell.execute_reply": "2022-01-17T20:46:37.173326Z"
    },
    "papermill": {
     "duration": 0.052692,
     "end_time": "2022-01-17T20:46:37.173789",
     "exception": false,
     "start_time": "2022-01-17T20:46:37.121097",
     "status": "completed"
    },
    "tags": []
   },
   "outputs": [],
   "source": [
    "probs = utils.interp(probs, interp_factor=6)"
   ]
  },
  {
   "cell_type": "markdown",
   "id": "aec9f004",
   "metadata": {
    "papermill": {
     "duration": 0.024491,
     "end_time": "2022-01-17T20:46:37.223973",
     "exception": false,
     "start_time": "2022-01-17T20:46:37.199482",
     "status": "completed"
    },
    "tags": []
   },
   "source": [
    "### look at the sum for each GCM, should sum to 100 "
   ]
  },
  {
   "cell_type": "code",
   "execution_count": 25,
   "id": "c12c94d8",
   "metadata": {
    "execution": {
     "iopub.execute_input": "2022-01-17T20:46:37.279231Z",
     "iopub.status.busy": "2022-01-17T20:46:37.278889Z",
     "iopub.status.idle": "2022-01-17T20:46:49.193843Z",
     "shell.execute_reply": "2022-01-17T20:46:49.193547Z"
    },
    "papermill": {
     "duration": 11.9441,
     "end_time": "2022-01-17T20:46:49.193953",
     "exception": false,
     "start_time": "2022-01-17T20:46:37.249853",
     "status": "completed"
    },
    "tags": []
   },
   "outputs": [
    {
     "data": {
      "image/png": "[encoded data removed]",
      "text/plain": [
       "<Figure size 720x216 with 4 Axes>"
      ]
     },
     "metadata": {
      "needs_background": "light"
     },
     "output_type": "display_data"
    },
    {
     "data": {
      "image/png": "[encoded data removed]",
      "text/plain": [
       "<Figure size 720x216 with 4 Axes>"
      ]
     },
     "metadata": {
      "needs_background": "light"
     },
     "output_type": "display_data"
    },
    {
     "data": {
      "image/png": "[encoded data removed]",
      "text/plain": [
       "<Figure size 720x216 with 4 Axes>"
      ]
     },
     "metadata": {
      "needs_background": "light"
     },
     "output_type": "display_data"
    },
    {
     "data": {
      "image/png": "[encoded data removed]",
      "text/plain": [
       "<Figure size 720x216 with 4 Axes>"
      ]
     },
     "metadata": {
      "needs_background": "light"
     },
     "output_type": "display_data"
    },
    {
     "data": {
      "image/png": "[encoded data removed]",
      "text/plain": [
       "<Figure size 720x216 with 4 Axes>"
      ]
     },
     "metadata": {
      "needs_background": "light"
     },
     "output_type": "display_data"
    },
    {
     "data": {
      "image/png": "[encoded data removed]",
      "text/plain": [
       "<Figure size 720x216 with 4 Axes>"
      ]
     },
     "metadata": {
      "needs_background": "light"
     },
     "output_type": "display_data"
    },
    {
     "data": {
      "image/png": "[encoded data removed]",
      "text/plain": [
       "<Figure size 720x216 with 4 Axes>"
      ]
     },
     "metadata": {
      "needs_background": "light"
     },
     "output_type": "display_data"
    },
    {
     "data": {
      "image/png": "[encoded data removed]",
      "text/plain": [
       "<Figure size 720x216 with 4 Axes>"
      ]
     },
     "metadata": {
      "needs_background": "light"
     },
     "output_type": "display_data"
    },
    {
     "data": {
      "image/png": "[encoded data removed]",
      "text/plain": [
       "<Figure size 720x216 with 4 Axes>"
      ]
     },
     "metadata": {
      "needs_background": "light"
     },
     "output_type": "display_data"
    }
   ],
   "source": [
    "for GCM in list_GCMs:\n",
    "    fg = probs.sel(GCM=GCM).sum(quantile).squeeze()[varname].plot(col='step', vmin=0);\n",
    "    fg.fig.suptitle(GCM, x=0.4, horizontalalignment='center',y=1.05)"
   ]
  },
  {
   "cell_type": "markdown",
   "id": "6f8dff7f",
   "metadata": {
    "papermill": {
     "duration": 0.02824,
     "end_time": "2022-01-17T20:46:49.251093",
     "exception": false,
     "start_time": "2022-01-17T20:46:49.222853",
     "status": "completed"
    },
    "tags": []
   },
   "source": [
    "### calculates the average across the GCM dimension "
   ]
  },
  {
   "cell_type": "code",
   "execution_count": 26,
   "id": "830c73a4",
   "metadata": {
    "execution": {
     "iopub.execute_input": "2022-01-17T20:46:49.313592Z",
     "iopub.status.busy": "2022-01-17T20:46:49.313245Z",
     "iopub.status.idle": "2022-01-17T20:46:49.338058Z",
     "shell.execute_reply": "2022-01-17T20:46:49.337707Z"
    },
    "papermill": {
     "duration": 0.05746,
     "end_time": "2022-01-17T20:46:49.338163",
     "exception": false,
     "start_time": "2022-01-17T20:46:49.280703",
     "status": "completed"
    },
    "tags": []
   },
   "outputs": [],
   "source": [
    "probs_mean = probs.mean('GCM')"
   ]
  },
  {
   "cell_type": "markdown",
   "id": "5cdc1f77",
   "metadata": {
    "papermill": {
     "duration": 0.029913,
     "end_time": "2022-01-17T20:46:49.398153",
     "exception": false,
     "start_time": "2022-01-17T20:46:49.368240",
     "status": "completed"
    },
    "tags": []
   },
   "source": [
    "### saves to disk ?"
   ]
  },
  {
   "cell_type": "code",
   "execution_count": 27,
   "id": "8c58b9ae",
   "metadata": {
    "execution": {
     "iopub.execute_input": "2022-01-17T20:46:49.461674Z",
     "iopub.status.busy": "2022-01-17T20:46:49.461254Z",
     "iopub.status.idle": "2022-01-17T20:46:54.475861Z",
     "shell.execute_reply": "2022-01-17T20:46:54.477537Z"
    },
    "papermill": {
     "duration": 5.049625,
     "end_time": "2022-01-17T20:46:54.478003",
     "exception": false,
     "start_time": "2022-01-17T20:46:49.428378",
     "status": "completed"
    },
    "tags": []
   },
   "outputs": [],
   "source": [
    "probs_mean.to_netcdf(f'./C3S_MME_prob_mean_{year}_{month:02d}.nc')"
   ]
  },
  {
   "cell_type": "markdown",
   "id": "b66a0e12",
   "metadata": {
    "papermill": {
     "duration": 0.02775,
     "end_time": "2022-01-17T20:46:54.563882",
     "exception": false,
     "start_time": "2022-01-17T20:46:54.536132",
     "status": "completed"
    },
    "tags": []
   },
   "source": [
    "### because of numerical approximations, this average can **SOMETIMES** sum to slightly over 100 (the errors can accumulate over all the dimensions)"
   ]
  },
  {
   "cell_type": "code",
   "execution_count": 28,
   "id": "9a342451",
   "metadata": {
    "execution": {
     "iopub.execute_input": "2022-01-17T20:46:54.624179Z",
     "iopub.status.busy": "2022-01-17T20:46:54.623801Z",
     "iopub.status.idle": "2022-01-17T20:47:00.131398Z",
     "shell.execute_reply": "2022-01-17T20:47:00.131042Z"
    },
    "papermill": {
     "duration": 5.539092,
     "end_time": "2022-01-17T20:47:00.131498",
     "exception": false,
     "start_time": "2022-01-17T20:46:54.592406",
     "status": "completed"
    },
    "tags": []
   },
   "outputs": [
    {
     "data": {
      "image/png": "[encoded data removed]",
      "text/plain": [
       "<Figure size 720x216 with 4 Axes>"
      ]
     },
     "metadata": {
      "needs_background": "light"
     },
     "output_type": "display_data"
    }
   ],
   "source": [
    "_ = probs_mean.sum(quantile).squeeze()[varname].plot(col='step', vmin=0)"
   ]
  },
  {
   "cell_type": "markdown",
   "id": "f599bf31",
   "metadata": {
    "papermill": {
     "duration": 0.029219,
     "end_time": "2022-01-17T20:47:00.190305",
     "exception": false,
     "start_time": "2022-01-17T20:47:00.161086",
     "status": "completed"
    },
    "tags": []
   },
   "source": [
    "### so we rescale (just in case)"
   ]
  },
  {
   "cell_type": "code",
   "execution_count": 29,
   "id": "fb251d40",
   "metadata": {
    "execution": {
     "iopub.execute_input": "2022-01-17T20:47:00.250194Z",
     "iopub.status.busy": "2022-01-17T20:47:00.249863Z",
     "iopub.status.idle": "2022-01-17T20:47:00.273592Z",
     "shell.execute_reply": "2022-01-17T20:47:00.272353Z"
    },
    "papermill": {
     "duration": 0.054595,
     "end_time": "2022-01-17T20:47:00.273926",
     "exception": false,
     "start_time": "2022-01-17T20:47:00.219331",
     "status": "completed"
    },
    "tags": []
   },
   "outputs": [],
   "source": [
    "probs_mean = (probs_mean / probs_mean.sum(quantile)) * 100"
   ]
  },
  {
   "cell_type": "code",
   "execution_count": 30,
   "id": "a4eb874f",
   "metadata": {
    "execution": {
     "iopub.execute_input": "2022-01-17T20:47:00.353848Z",
     "iopub.status.busy": "2022-01-17T20:47:00.353520Z",
     "iopub.status.idle": "2022-01-17T20:47:05.788588Z",
     "shell.execute_reply": "2022-01-17T20:47:05.788300Z"
    },
    "papermill": {
     "duration": 5.466881,
     "end_time": "2022-01-17T20:47:05.788685",
     "exception": false,
     "start_time": "2022-01-17T20:47:00.321804",
     "status": "completed"
    },
    "tags": []
   },
   "outputs": [
    {
     "data": {
      "image/png": "[encoded data removed]",
      "text/plain": [
       "<Figure size 720x216 with 4 Axes>"
      ]
     },
     "metadata": {
      "needs_background": "light"
     },
     "output_type": "display_data"
    }
   ],
   "source": [
    "_ = probs_mean.sum(quantile).squeeze()[varname].plot(col='step', vmin=0)"
   ]
  },
  {
   "cell_type": "markdown",
   "id": "d6b2d3c1",
   "metadata": {
    "papermill": {
     "duration": 0.039024,
     "end_time": "2022-01-17T20:47:05.858988",
     "exception": false,
     "start_time": "2022-01-17T20:47:05.819964",
     "status": "completed"
    },
    "tags": []
   },
   "source": [
    "### because the attributes are lost during these operations, we add them back "
   ]
  },
  {
   "cell_type": "code",
   "execution_count": 31,
   "id": "b8dcce66",
   "metadata": {
    "execution": {
     "iopub.execute_input": "2022-01-17T20:47:05.927030Z",
     "iopub.status.busy": "2022-01-17T20:47:05.926672Z",
     "iopub.status.idle": "2022-01-17T20:47:05.941539Z",
     "shell.execute_reply": "2022-01-17T20:47:05.941154Z"
    },
    "papermill": {
     "duration": 0.048391,
     "end_time": "2022-01-17T20:47:05.941646",
     "exception": false,
     "start_time": "2022-01-17T20:47:05.893255",
     "status": "completed"
    },
    "tags": []
   },
   "outputs": [],
   "source": [
    "probs_mean.attrs = probs.attrs"
   ]
  },
  {
   "cell_type": "code",
   "execution_count": 32,
   "id": "ae3f4606",
   "metadata": {
    "execution": {
     "iopub.execute_input": "2022-01-17T20:47:06.005485Z",
     "iopub.status.busy": "2022-01-17T20:47:06.005145Z",
     "iopub.status.idle": "2022-01-17T20:47:06.020866Z",
     "shell.execute_reply": "2022-01-17T20:47:06.020521Z"
    },
    "papermill": {
     "duration": 0.048121,
     "end_time": "2022-01-17T20:47:06.020965",
     "exception": false,
     "start_time": "2022-01-17T20:47:05.972844",
     "status": "completed"
    },
    "tags": []
   },
   "outputs": [
    {
     "data": {
      "text/plain": [
       "{'pct_values': array([0.02, 0.05, 0.1 , 0.15, 0.2 , 0.25, 0.3 , 0.35, 0.4 , 0.45, 0.5 ,\n",
       "        0.55, 0.6 , 0.65, 0.7 , 0.75, 0.8 , 0.85, 0.9 , 0.95])}"
      ]
     },
     "execution_count": 32,
     "metadata": {},
     "output_type": "execute_result"
    }
   ],
   "source": [
    "probs_mean.attrs"
   ]
  },
  {
   "cell_type": "markdown",
   "id": "3ff894bf",
   "metadata": {
    "papermill": {
     "duration": 0.0293,
     "end_time": "2022-01-17T20:47:06.080454",
     "exception": false,
     "start_time": "2022-01-17T20:47:06.051154",
     "status": "completed"
    },
    "tags": []
   },
   "source": [
    "#### also adds an attribute that tells the period "
   ]
  },
  {
   "cell_type": "code",
   "execution_count": 33,
   "id": "b350d9ae",
   "metadata": {
    "execution": {
     "iopub.execute_input": "2022-01-17T20:47:06.144248Z",
     "iopub.status.busy": "2022-01-17T20:47:06.143571Z",
     "iopub.status.idle": "2022-01-17T20:47:06.159120Z",
     "shell.execute_reply": "2022-01-17T20:47:06.158795Z"
    },
    "papermill": {
     "duration": 0.049402,
     "end_time": "2022-01-17T20:47:06.159263",
     "exception": false,
     "start_time": "2022-01-17T20:47:06.109861",
     "status": "completed"
    },
    "tags": []
   },
   "outputs": [],
   "source": [
    "probs_mean.attrs['period'] = period"
   ]
  },
  {
   "cell_type": "markdown",
   "id": "5bac5488",
   "metadata": {
    "papermill": {
     "duration": 0.033099,
     "end_time": "2022-01-17T20:47:06.222234",
     "exception": false,
     "start_time": "2022-01-17T20:47:06.189135",
     "status": "completed"
    },
    "tags": []
   },
   "source": [
    "### Probability for being below a given percentile"
   ]
  },
  {
   "cell_type": "markdown",
   "id": "1108f198",
   "metadata": {
    "papermill": {
     "duration": 0.031014,
     "end_time": "2022-01-17T20:47:06.285763",
     "exception": false,
     "start_time": "2022-01-17T20:47:06.254749",
     "status": "completed"
    },
    "tags": []
   },
   "source": [
    "#### choose the percentile here "
   ]
  },
  {
   "cell_type": "code",
   "execution_count": 34,
   "id": "0443da68",
   "metadata": {
    "execution": {
     "iopub.execute_input": "2022-01-17T20:47:06.351899Z",
     "iopub.status.busy": "2022-01-17T20:47:06.351555Z",
     "iopub.status.idle": "2022-01-17T20:47:06.366662Z",
     "shell.execute_reply": "2022-01-17T20:47:06.366368Z"
    },
    "papermill": {
     "duration": 0.048636,
     "end_time": "2022-01-17T20:47:06.366765",
     "exception": false,
     "start_time": "2022-01-17T20:47:06.318129",
     "status": "completed"
    },
    "tags": []
   },
   "outputs": [],
   "source": [
    "pmax = 25"
   ]
  },
  {
   "cell_type": "markdown",
   "id": "ce608be2",
   "metadata": {
    "papermill": {
     "duration": 0.033515,
     "end_time": "2022-01-17T20:47:06.432898",
     "exception": false,
     "start_time": "2022-01-17T20:47:06.399383",
     "status": "completed"
    },
    "tags": []
   },
   "source": [
    "### get the percentile bins edges, and select the category (starting at 1) that corresponds to the bin with right edge at `pmax`"
   ]
  },
  {
   "cell_type": "code",
   "execution_count": 35,
   "id": "e06c00e1",
   "metadata": {
    "execution": {
     "iopub.execute_input": "2022-01-17T20:47:06.500458Z",
     "iopub.status.busy": "2022-01-17T20:47:06.500119Z",
     "iopub.status.idle": "2022-01-17T20:47:06.515435Z",
     "shell.execute_reply": "2022-01-17T20:47:06.515159Z"
    },
    "papermill": {
     "duration": 0.049675,
     "end_time": "2022-01-17T20:47:06.515536",
     "exception": false,
     "start_time": "2022-01-17T20:47:06.465861",
     "status": "completed"
    },
    "tags": []
   },
   "outputs": [
    {
     "name": "stdout",
     "output_type": "stream",
     "text": [
      "0.02 | 0.05 | 0.1 | 0.15 | 0.2 | 0.25 | 0.3 | 0.35 | 0.4 | 0.45 | 0.5 | 0.55 | 0.6 | 0.65 | 0.7 | 0.75 | 0.8 | 0.85 | 0.9 | 0.95\n"
     ]
    }
   ],
   "source": [
    "print(\" | \".join(map(str, probs_mean.attrs['pct_values'].tolist()))) "
   ]
  },
  {
   "cell_type": "code",
   "execution_count": 36,
   "id": "3b89e678",
   "metadata": {
    "execution": {
     "iopub.execute_input": "2022-01-17T20:47:06.584013Z",
     "iopub.status.busy": "2022-01-17T20:47:06.583670Z",
     "iopub.status.idle": "2022-01-17T20:47:06.598415Z",
     "shell.execute_reply": "2022-01-17T20:47:06.598676Z"
    },
    "papermill": {
     "duration": 0.050484,
     "end_time": "2022-01-17T20:47:06.598802",
     "exception": false,
     "start_time": "2022-01-17T20:47:06.548318",
     "status": "completed"
    },
    "tags": []
   },
   "outputs": [],
   "source": [
    "max_cat = np.digitize(pmax/100, probs_mean.attrs['pct_values'])"
   ]
  },
  {
   "cell_type": "code",
   "execution_count": 37,
   "id": "20da883f",
   "metadata": {
    "execution": {
     "iopub.execute_input": "2022-01-17T20:47:06.662969Z",
     "iopub.status.busy": "2022-01-17T20:47:06.662636Z",
     "iopub.status.idle": "2022-01-17T20:47:06.678306Z",
     "shell.execute_reply": "2022-01-17T20:47:06.677966Z"
    },
    "papermill": {
     "duration": 0.048746,
     "end_time": "2022-01-17T20:47:06.678407",
     "exception": false,
     "start_time": "2022-01-17T20:47:06.629661",
     "status": "completed"
    },
    "tags": []
   },
   "outputs": [
    {
     "data": {
      "text/plain": [
       "6"
      ]
     },
     "execution_count": 37,
     "metadata": {},
     "output_type": "execute_result"
    }
   ],
   "source": [
    "max_cat"
   ]
  },
  {
   "cell_type": "code",
   "execution_count": 38,
   "id": "71992465",
   "metadata": {
    "execution": {
     "iopub.execute_input": "2022-01-17T20:47:06.744442Z",
     "iopub.status.busy": "2022-01-17T20:47:06.743998Z",
     "iopub.status.idle": "2022-01-17T20:47:06.764155Z",
     "shell.execute_reply": "2022-01-17T20:47:06.763845Z"
    },
    "papermill": {
     "duration": 0.054531,
     "end_time": "2022-01-17T20:47:06.764257",
     "exception": false,
     "start_time": "2022-01-17T20:47:06.709726",
     "status": "completed"
    },
    "tags": []
   },
   "outputs": [
    {
     "data": {
      "text/html": [
       "<div><svg style=\"position: absolute; width: 0; height: 0; overflow: hidden\">\n",
       "<defs>\n",
       "<symbol id=\"icon-database\" viewBox=\"0 0 32 32\">\n",
       "<path d=\"M16 0c-8.837 0-16 2.239-16 5v4c0 2.761 7.163 5 16 5s16-2.239 16-5v-4c0-2.761-7.163-5-16-5z\"></path>\n",
       "<path d=\"M16 17c-8.837 0-16-2.239-16-5v6c0 2.761 7.163 5 16 5s16-2.239 16-5v-6c0 2.761-7.163 5-16 5z\"></path>\n",
       "<path d=\"M16 26c-8.837 0-16-2.239-16-5v6c0 2.761 7.163 5 16 5s16-2.239 16-5v-6c0 2.761-7.163 5-16 5z\"></path>\n",
       "</symbol>\n",
       "<symbol id=\"icon-file-text2\" viewBox=\"0 0 32 32\">\n",
       "<path d=\"M28.681 7.159c-0.694-0.947-1.662-2.053-2.724-3.116s-2.169-2.030-3.116-2.724c-1.612-1.182-2.393-1.319-2.841-1.319h-15.5c-1.378 0-2.5 1.121-2.5 2.5v27c0 1.378 1.122 2.5 2.5 2.5h23c1.378 0 2.5-1.122 2.5-2.5v-19.5c0-0.448-0.137-1.23-1.319-2.841zM24.543 5.457c0.959 0.959 1.712 1.825 2.268 2.543h-4.811v-4.811c0.718 0.556 1.584 1.309 2.543 2.268zM28 29.5c0 0.271-0.229 0.5-0.5 0.5h-23c-0.271 0-0.5-0.229-0.5-0.5v-27c0-0.271 0.229-0.5 0.5-0.5 0 0 15.499-0 15.5 0v7c0 0.552 0.448 1 1 1h7v19.5z\"></path>\n",
       "<path d=\"M23 26h-14c-0.552 0-1-0.448-1-1s0.448-1 1-1h14c0.552 0 1 0.448 1 1s-0.448 1-1 1z\"></path>\n",
       "<path d=\"M23 22h-14c-0.552 0-1-0.448-1-1s0.448-1 1-1h14c0.552 0 1 0.448 1 1s-0.448 1-1 1z\"></path>\n",
       "<path d=\"M23 18h-14c-0.552 0-1-0.448-1-1s0.448-1 1-1h14c0.552 0 1 0.448 1 1s-0.448 1-1 1z\"></path>\n",
       "</symbol>\n",
       "</defs>\n",
       "</svg>\n",
       "<style>/* CSS stylesheet for displaying xarray objects in jupyterlab.\n",
       " *\n",
       " */\n",
       "\n",
       ":root {\n",
       "  --xr-font-color0: var(--jp-content-font-color0, rgba(0, 0, 0, 1));\n",
       "  --xr-font-color2: var(--jp-content-font-color2, rgba(0, 0, 0, 0.54));\n",
       "  --xr-font-color3: var(--jp-content-font-color3, rgba(0, 0, 0, 0.38));\n",
       "  --xr-border-color: var(--jp-border-color2, #e0e0e0);\n",
       "  --xr-disabled-color: var(--jp-layout-color3, #bdbdbd);\n",
       "  --xr-background-color: var(--jp-layout-color0, white);\n",
       "  --xr-background-color-row-even: var(--jp-layout-color1, white);\n",
       "  --xr-background-color-row-odd: var(--jp-layout-color2, #eeeeee);\n",
       "}\n",
       "\n",
       "html[theme=dark],\n",
       "body.vscode-dark {\n",
       "  --xr-font-color0: rgba(255, 255, 255, 1);\n",
       "  --xr-font-color2: rgba(255, 255, 255, 0.54);\n",
       "  --xr-font-color3: rgba(255, 255, 255, 0.38);\n",
       "  --xr-border-color: #1F1F1F;\n",
       "  --xr-disabled-color: #515151;\n",
       "  --xr-background-color: #111111;\n",
       "  --xr-background-color-row-even: #111111;\n",
       "  --xr-background-color-row-odd: #313131;\n",
       "}\n",
       "\n",
       ".xr-wrap {\n",
       "  display: block;\n",
       "  min-width: 300px;\n",
       "  max-width: 700px;\n",
       "}\n",
       "\n",
       ".xr-text-repr-fallback {\n",
       "  /* fallback to plain text repr when CSS is not injected (untrusted notebook) */\n",
       "  display: none;\n",
       "}\n",
       "\n",
       ".xr-header {\n",
       "  padding-top: 6px;\n",
       "  padding-bottom: 6px;\n",
       "  margin-bottom: 4px;\n",
       "  border-bottom: solid 1px var(--xr-border-color);\n",
       "}\n",
       "\n",
       ".xr-header > div,\n",
       ".xr-header > ul {\n",
       "  display: inline;\n",
       "  margin-top: 0;\n",
       "  margin-bottom: 0;\n",
       "}\n",
       "\n",
       ".xr-obj-type,\n",
       ".xr-array-name {\n",
       "  margin-left: 2px;\n",
       "  margin-right: 10px;\n",
       "}\n",
       "\n",
       ".xr-obj-type {\n",
       "  color: var(--xr-font-color2);\n",
       "}\n",
       "\n",
       ".xr-sections {\n",
       "  padding-left: 0 !important;\n",
       "  display: grid;\n",
       "  grid-template-columns: 150px auto auto 1fr 20px 20px;\n",
       "}\n",
       "\n",
       ".xr-section-item {\n",
       "  display: contents;\n",
       "}\n",
       "\n",
       ".xr-section-item input {\n",
       "  display: none;\n",
       "}\n",
       "\n",
       ".xr-section-item input + label {\n",
       "  color: var(--xr-disabled-color);\n",
       "}\n",
       "\n",
       ".xr-section-item input:enabled + label {\n",
       "  cursor: pointer;\n",
       "  color: var(--xr-font-color2);\n",
       "}\n",
       "\n",
       ".xr-section-item input:enabled + label:hover {\n",
       "  color: var(--xr-font-color0);\n",
       "}\n",
       "\n",
       ".xr-section-summary {\n",
       "  grid-column: 1;\n",
       "  color: var(--xr-font-color2);\n",
       "  font-weight: 500;\n",
       "}\n",
       "\n",
       ".xr-section-summary > span {\n",
       "  display: inline-block;\n",
       "  padding-left: 0.5em;\n",
       "}\n",
       "\n",
       ".xr-section-summary-in:disabled + label {\n",
       "  color: var(--xr-font-color2);\n",
       "}\n",
       "\n",
       ".xr-section-summary-in + label:before {\n",
       "  display: inline-block;\n",
       "  content: '►';\n",
       "  font-size: 11px;\n",
       "  width: 15px;\n",
       "  text-align: center;\n",
       "}\n",
       "\n",
       ".xr-section-summary-in:disabled + label:before {\n",
       "  color: var(--xr-disabled-color);\n",
       "}\n",
       "\n",
       ".xr-section-summary-in:checked + label:before {\n",
       "  content: '▼';\n",
       "}\n",
       "\n",
       ".xr-section-summary-in:checked + label > span {\n",
       "  display: none;\n",
       "}\n",
       "\n",
       ".xr-section-summary,\n",
       ".xr-section-inline-details {\n",
       "  padding-top: 4px;\n",
       "  padding-bottom: 4px;\n",
       "}\n",
       "\n",
       ".xr-section-inline-details {\n",
       "  grid-column: 2 / -1;\n",
       "}\n",
       "\n",
       ".xr-section-details {\n",
       "  display: none;\n",
       "  grid-column: 1 / -1;\n",
       "  margin-bottom: 5px;\n",
       "}\n",
       "\n",
       ".xr-section-summary-in:checked ~ .xr-section-details {\n",
       "  display: contents;\n",
       "}\n",
       "\n",
       ".xr-array-wrap {\n",
       "  grid-column: 1 / -1;\n",
       "  display: grid;\n",
       "  grid-template-columns: 20px auto;\n",
       "}\n",
       "\n",
       ".xr-array-wrap > label {\n",
       "  grid-column: 1;\n",
       "  vertical-align: top;\n",
       "}\n",
       "\n",
       ".xr-preview {\n",
       "  color: var(--xr-font-color3);\n",
       "}\n",
       "\n",
       ".xr-array-preview,\n",
       ".xr-array-data {\n",
       "  padding: 0 5px !important;\n",
       "  grid-column: 2;\n",
       "}\n",
       "\n",
       ".xr-array-data,\n",
       ".xr-array-in:checked ~ .xr-array-preview {\n",
       "  display: none;\n",
       "}\n",
       "\n",
       ".xr-array-in:checked ~ .xr-array-data,\n",
       ".xr-array-preview {\n",
       "  display: inline-block;\n",
       "}\n",
       "\n",
       ".xr-dim-list {\n",
       "  display: inline-block !important;\n",
       "  list-style: none;\n",
       "  padding: 0 !important;\n",
       "  margin: 0;\n",
       "}\n",
       "\n",
       ".xr-dim-list li {\n",
       "  display: inline-block;\n",
       "  padding: 0;\n",
       "  margin: 0;\n",
       "}\n",
       "\n",
       ".xr-dim-list:before {\n",
       "  content: '(';\n",
       "}\n",
       "\n",
       ".xr-dim-list:after {\n",
       "  content: ')';\n",
       "}\n",
       "\n",
       ".xr-dim-list li:not(:last-child):after {\n",
       "  content: ',';\n",
       "  padding-right: 5px;\n",
       "}\n",
       "\n",
       ".xr-has-index {\n",
       "  font-weight: bold;\n",
       "}\n",
       "\n",
       ".xr-var-list,\n",
       ".xr-var-item {\n",
       "  display: contents;\n",
       "}\n",
       "\n",
       ".xr-var-item > div,\n",
       ".xr-var-item label,\n",
       ".xr-var-item > .xr-var-name span {\n",
       "  background-color: var(--xr-background-color-row-even);\n",
       "  margin-bottom: 0;\n",
       "}\n",
       "\n",
       ".xr-var-item > .xr-var-name:hover span {\n",
       "  padding-right: 5px;\n",
       "}\n",
       "\n",
       ".xr-var-list > li:nth-child(odd) > div,\n",
       ".xr-var-list > li:nth-child(odd) > label,\n",
       ".xr-var-list > li:nth-child(odd) > .xr-var-name span {\n",
       "  background-color: var(--xr-background-color-row-odd);\n",
       "}\n",
       "\n",
       ".xr-var-name {\n",
       "  grid-column: 1;\n",
       "}\n",
       "\n",
       ".xr-var-dims {\n",
       "  grid-column: 2;\n",
       "}\n",
       "\n",
       ".xr-var-dtype {\n",
       "  grid-column: 3;\n",
       "  text-align: right;\n",
       "  color: var(--xr-font-color2);\n",
       "}\n",
       "\n",
       ".xr-var-preview {\n",
       "  grid-column: 4;\n",
       "}\n",
       "\n",
       ".xr-var-name,\n",
       ".xr-var-dims,\n",
       ".xr-var-dtype,\n",
       ".xr-preview,\n",
       ".xr-attrs dt {\n",
       "  white-space: nowrap;\n",
       "  overflow: hidden;\n",
       "  text-overflow: ellipsis;\n",
       "  padding-right: 10px;\n",
       "}\n",
       "\n",
       ".xr-var-name:hover,\n",
       ".xr-var-dims:hover,\n",
       ".xr-var-dtype:hover,\n",
       ".xr-attrs dt:hover {\n",
       "  overflow: visible;\n",
       "  width: auto;\n",
       "  z-index: 1;\n",
       "}\n",
       "\n",
       ".xr-var-attrs,\n",
       ".xr-var-data {\n",
       "  display: none;\n",
       "  background-color: var(--xr-background-color) !important;\n",
       "  padding-bottom: 5px !important;\n",
       "}\n",
       "\n",
       ".xr-var-attrs-in:checked ~ .xr-var-attrs,\n",
       ".xr-var-data-in:checked ~ .xr-var-data {\n",
       "  display: block;\n",
       "}\n",
       "\n",
       ".xr-var-data > table {\n",
       "  float: right;\n",
       "}\n",
       "\n",
       ".xr-var-name span,\n",
       ".xr-var-data,\n",
       ".xr-attrs {\n",
       "  padding-left: 25px !important;\n",
       "}\n",
       "\n",
       ".xr-attrs,\n",
       ".xr-var-attrs,\n",
       ".xr-var-data {\n",
       "  grid-column: 1 / -1;\n",
       "}\n",
       "\n",
       "dl.xr-attrs {\n",
       "  padding: 0;\n",
       "  margin: 0;\n",
       "  display: grid;\n",
       "  grid-template-columns: 125px auto;\n",
       "}\n",
       "\n",
       ".xr-attrs dt,\n",
       ".xr-attrs dd {\n",
       "  padding: 0;\n",
       "  margin: 0;\n",
       "  float: left;\n",
       "  padding-right: 10px;\n",
       "  width: auto;\n",
       "}\n",
       "\n",
       ".xr-attrs dt {\n",
       "  font-weight: normal;\n",
       "  grid-column: 1;\n",
       "}\n",
       "\n",
       ".xr-attrs dt:hover span {\n",
       "  display: inline-block;\n",
       "  background: var(--xr-background-color);\n",
       "  padding-right: 10px;\n",
       "}\n",
       "\n",
       ".xr-attrs dd {\n",
       "  grid-column: 2;\n",
       "  white-space: pre-wrap;\n",
       "  word-break: break-all;\n",
       "}\n",
       "\n",
       ".xr-icon-database,\n",
       ".xr-icon-file-text2 {\n",
       "  display: inline-block;\n",
       "  vertical-align: middle;\n",
       "  width: 1em;\n",
       "  height: 1.5em !important;\n",
       "  stroke-width: 0;\n",
       "  stroke: currentColor;\n",
       "  fill: currentColor;\n",
       "}\n",
       "</style><pre class='xr-text-repr-fallback'>&lt;xarray.DataArray &#x27;percentile&#x27; (percentile: 21)&gt;\n",
       "array([ 1,  2,  3,  4,  5,  6,  7,  8,  9, 10, 11, 12, 13, 14, 15, 16, 17, 18,\n",
       "       19, 20, 21])\n",
       "Coordinates:\n",
       "    month       int64 1\n",
       "  * percentile  (percentile) int64 1 2 3 4 5 6 7 8 9 ... 14 15 16 17 18 19 20 21</pre><div class='xr-wrap' hidden><div class='xr-header'><div class='xr-obj-type'>xarray.DataArray</div><div class='xr-array-name'>'percentile'</div><ul class='xr-dim-list'><li><span class='xr-has-index'>percentile</span>: 21</li></ul></div><ul class='xr-sections'><li class='xr-section-item'><div class='xr-array-wrap'><input id='section-472804e6-a153-489a-ad5d-340d855f3a8a' class='xr-array-in' type='checkbox' checked><label for='section-472804e6-a153-489a-ad5d-340d855f3a8a' title='Show/hide data repr'><svg class='icon xr-icon-database'><use xlink:href='#icon-database'></use></svg></label><div class='xr-array-preview xr-preview'><span>1 2 3 4 5 6 7 8 9 10 11 12 13 14 15 16 17 18 19 20 21</span></div><div class='xr-array-data'><pre>array([ 1,  2,  3,  4,  5,  6,  7,  8,  9, 10, 11, 12, 13, 14, 15, 16, 17, 18,\n",
       "       19, 20, 21])</pre></div></div></li><li class='xr-section-item'><input id='section-d5c1e684-109f-4f8b-8078-58c5c87fd974' class='xr-section-summary-in' type='checkbox'  checked><label for='section-d5c1e684-109f-4f8b-8078-58c5c87fd974' class='xr-section-summary' >Coordinates: <span>(2)</span></label><div class='xr-section-inline-details'></div><div class='xr-section-details'><ul class='xr-var-list'><li class='xr-var-item'><div class='xr-var-name'><span>month</span></div><div class='xr-var-dims'>()</div><div class='xr-var-dtype'>int64</div><div class='xr-var-preview xr-preview'>1</div><input id='attrs-1b164fe2-11f3-4665-8e84-de6d8ae8dbae' class='xr-var-attrs-in' type='checkbox' disabled><label for='attrs-1b164fe2-11f3-4665-8e84-de6d8ae8dbae' title='Show/Hide attributes'><svg class='icon xr-icon-file-text2'><use xlink:href='#icon-file-text2'></use></svg></label><input id='data-941f58a2-69be-44f0-a657-7bbe508b3653' class='xr-var-data-in' type='checkbox'><label for='data-941f58a2-69be-44f0-a657-7bbe508b3653' title='Show/Hide data repr'><svg class='icon xr-icon-database'><use xlink:href='#icon-database'></use></svg></label><div class='xr-var-attrs'><dl class='xr-attrs'></dl></div><div class='xr-var-data'><pre>array(1)</pre></div></li><li class='xr-var-item'><div class='xr-var-name'><span class='xr-has-index'>percentile</span></div><div class='xr-var-dims'>(percentile)</div><div class='xr-var-dtype'>int64</div><div class='xr-var-preview xr-preview'>1 2 3 4 5 6 7 ... 16 17 18 19 20 21</div><input id='attrs-ba2fcc56-8178-4590-8527-855d5131a8ae' class='xr-var-attrs-in' type='checkbox' disabled><label for='attrs-ba2fcc56-8178-4590-8527-855d5131a8ae' title='Show/Hide attributes'><svg class='icon xr-icon-file-text2'><use xlink:href='#icon-file-text2'></use></svg></label><input id='data-cc375cca-bf98-4552-890d-10a3a2e108ad' class='xr-var-data-in' type='checkbox'><label for='data-cc375cca-bf98-4552-890d-10a3a2e108ad' title='Show/Hide data repr'><svg class='icon xr-icon-database'><use xlink:href='#icon-database'></use></svg></label><div class='xr-var-attrs'><dl class='xr-attrs'></dl></div><div class='xr-var-data'><pre>array([ 1,  2,  3,  4,  5,  6,  7,  8,  9, 10, 11, 12, 13, 14, 15, 16, 17, 18,\n",
       "       19, 20, 21])</pre></div></li></ul></div></li><li class='xr-section-item'><input id='section-c3f402df-04c0-40b9-8aaf-a16a85f0d530' class='xr-section-summary-in' type='checkbox' disabled ><label for='section-c3f402df-04c0-40b9-8aaf-a16a85f0d530' class='xr-section-summary'  title='Expand/collapse section'>Attributes: <span>(0)</span></label><div class='xr-section-inline-details'></div><div class='xr-section-details'><dl class='xr-attrs'></dl></div></li></ul></div></div>"
      ],
      "text/plain": [
       "<xarray.DataArray 'percentile' (percentile: 21)>\n",
       "array([ 1,  2,  3,  4,  5,  6,  7,  8,  9, 10, 11, 12, 13, 14, 15, 16, 17, 18,\n",
       "       19, 20, 21])\n",
       "Coordinates:\n",
       "    month       int64 1\n",
       "  * percentile  (percentile) int64 1 2 3 4 5 6 7 8 9 ... 14 15 16 17 18 19 20 21"
      ]
     },
     "execution_count": 38,
     "metadata": {},
     "output_type": "execute_result"
    }
   ],
   "source": [
    "probs_mean.percentile"
   ]
  },
  {
   "cell_type": "markdown",
   "id": "bd6b0d69",
   "metadata": {
    "papermill": {
     "duration": 0.031206,
     "end_time": "2022-01-17T20:47:06.827233",
     "exception": false,
     "start_time": "2022-01-17T20:47:06.796027",
     "status": "completed"
    },
    "tags": []
   },
   "source": [
    "### plots the probabilities "
   ]
  },
  {
   "cell_type": "code",
   "execution_count": 39,
   "id": "e958b20a",
   "metadata": {
    "execution": {
     "iopub.execute_input": "2022-01-17T20:47:06.896287Z",
     "iopub.status.busy": "2022-01-17T20:47:06.895902Z",
     "iopub.status.idle": "2022-01-17T20:47:06.910556Z",
     "shell.execute_reply": "2022-01-17T20:47:06.910250Z"
    },
    "papermill": {
     "duration": 0.051129,
     "end_time": "2022-01-17T20:47:06.910652",
     "exception": false,
     "start_time": "2022-01-17T20:47:06.859523",
     "status": "completed"
    },
    "tags": []
   },
   "outputs": [],
   "source": [
    "cmap = palettable.scientific.sequential.Bilbao_20.mpl_colormap"
   ]
  },
  {
   "cell_type": "markdown",
   "id": "7c8c8a34",
   "metadata": {
    "papermill": {
     "duration": 0.029627,
     "end_time": "2022-01-17T20:47:06.970826",
     "exception": false,
     "start_time": "2022-01-17T20:47:06.941199",
     "status": "completed"
    },
    "tags": []
   },
   "source": [
    "### quick plot "
   ]
  },
  {
   "cell_type": "code",
   "execution_count": 40,
   "id": "37eaed65",
   "metadata": {
    "execution": {
     "iopub.execute_input": "2022-01-17T20:47:07.040061Z",
     "iopub.status.busy": "2022-01-17T20:47:07.039726Z",
     "iopub.status.idle": "2022-01-17T20:47:07.072584Z",
     "shell.execute_reply": "2022-01-17T20:47:07.072833Z"
    },
    "papermill": {
     "duration": 0.068558,
     "end_time": "2022-01-17T20:47:07.072955",
     "exception": false,
     "start_time": "2022-01-17T20:47:07.004397",
     "status": "completed"
    },
    "tags": []
   },
   "outputs": [
    {
     "data": {
      "text/html": [
       "<div><svg style=\"position: absolute; width: 0; height: 0; overflow: hidden\">\n",
       "<defs>\n",
       "<symbol id=\"icon-database\" viewBox=\"0 0 32 32\">\n",
       "<path d=\"M16 0c-8.837 0-16 2.239-16 5v4c0 2.761 7.163 5 16 5s16-2.239 16-5v-4c0-2.761-7.163-5-16-5z\"></path>\n",
       "<path d=\"M16 17c-8.837 0-16-2.239-16-5v6c0 2.761 7.163 5 16 5s16-2.239 16-5v-6c0 2.761-7.163 5-16 5z\"></path>\n",
       "<path d=\"M16 26c-8.837 0-16-2.239-16-5v6c0 2.761 7.163 5 16 5s16-2.239 16-5v-6c0 2.761-7.163 5-16 5z\"></path>\n",
       "</symbol>\n",
       "<symbol id=\"icon-file-text2\" viewBox=\"0 0 32 32\">\n",
       "<path d=\"M28.681 7.159c-0.694-0.947-1.662-2.053-2.724-3.116s-2.169-2.030-3.116-2.724c-1.612-1.182-2.393-1.319-2.841-1.319h-15.5c-1.378 0-2.5 1.121-2.5 2.5v27c0 1.378 1.122 2.5 2.5 2.5h23c1.378 0 2.5-1.122 2.5-2.5v-19.5c0-0.448-0.137-1.23-1.319-2.841zM24.543 5.457c0.959 0.959 1.712 1.825 2.268 2.543h-4.811v-4.811c0.718 0.556 1.584 1.309 2.543 2.268zM28 29.5c0 0.271-0.229 0.5-0.5 0.5h-23c-0.271 0-0.5-0.229-0.5-0.5v-27c0-0.271 0.229-0.5 0.5-0.5 0 0 15.499-0 15.5 0v7c0 0.552 0.448 1 1 1h7v19.5z\"></path>\n",
       "<path d=\"M23 26h-14c-0.552 0-1-0.448-1-1s0.448-1 1-1h14c0.552 0 1 0.448 1 1s-0.448 1-1 1z\"></path>\n",
       "<path d=\"M23 22h-14c-0.552 0-1-0.448-1-1s0.448-1 1-1h14c0.552 0 1 0.448 1 1s-0.448 1-1 1z\"></path>\n",
       "<path d=\"M23 18h-14c-0.552 0-1-0.448-1-1s0.448-1 1-1h14c0.552 0 1 0.448 1 1s-0.448 1-1 1z\"></path>\n",
       "</symbol>\n",
       "</defs>\n",
       "</svg>\n",
       "<style>/* CSS stylesheet for displaying xarray objects in jupyterlab.\n",
       " *\n",
       " */\n",
       "\n",
       ":root {\n",
       "  --xr-font-color0: var(--jp-content-font-color0, rgba(0, 0, 0, 1));\n",
       "  --xr-font-color2: var(--jp-content-font-color2, rgba(0, 0, 0, 0.54));\n",
       "  --xr-font-color3: var(--jp-content-font-color3, rgba(0, 0, 0, 0.38));\n",
       "  --xr-border-color: var(--jp-border-color2, #e0e0e0);\n",
       "  --xr-disabled-color: var(--jp-layout-color3, #bdbdbd);\n",
       "  --xr-background-color: var(--jp-layout-color0, white);\n",
       "  --xr-background-color-row-even: var(--jp-layout-color1, white);\n",
       "  --xr-background-color-row-odd: var(--jp-layout-color2, #eeeeee);\n",
       "}\n",
       "\n",
       "html[theme=dark],\n",
       "body.vscode-dark {\n",
       "  --xr-font-color0: rgba(255, 255, 255, 1);\n",
       "  --xr-font-color2: rgba(255, 255, 255, 0.54);\n",
       "  --xr-font-color3: rgba(255, 255, 255, 0.38);\n",
       "  --xr-border-color: #1F1F1F;\n",
       "  --xr-disabled-color: #515151;\n",
       "  --xr-background-color: #111111;\n",
       "  --xr-background-color-row-even: #111111;\n",
       "  --xr-background-color-row-odd: #313131;\n",
       "}\n",
       "\n",
       ".xr-wrap {\n",
       "  display: block;\n",
       "  min-width: 300px;\n",
       "  max-width: 700px;\n",
       "}\n",
       "\n",
       ".xr-text-repr-fallback {\n",
       "  /* fallback to plain text repr when CSS is not injected (untrusted notebook) */\n",
       "  display: none;\n",
       "}\n",
       "\n",
       ".xr-header {\n",
       "  padding-top: 6px;\n",
       "  padding-bottom: 6px;\n",
       "  margin-bottom: 4px;\n",
       "  border-bottom: solid 1px var(--xr-border-color);\n",
       "}\n",
       "\n",
       ".xr-header > div,\n",
       ".xr-header > ul {\n",
       "  display: inline;\n",
       "  margin-top: 0;\n",
       "  margin-bottom: 0;\n",
       "}\n",
       "\n",
       ".xr-obj-type,\n",
       ".xr-array-name {\n",
       "  margin-left: 2px;\n",
       "  margin-right: 10px;\n",
       "}\n",
       "\n",
       ".xr-obj-type {\n",
       "  color: var(--xr-font-color2);\n",
       "}\n",
       "\n",
       ".xr-sections {\n",
       "  padding-left: 0 !important;\n",
       "  display: grid;\n",
       "  grid-template-columns: 150px auto auto 1fr 20px 20px;\n",
       "}\n",
       "\n",
       ".xr-section-item {\n",
       "  display: contents;\n",
       "}\n",
       "\n",
       ".xr-section-item input {\n",
       "  display: none;\n",
       "}\n",
       "\n",
       ".xr-section-item input + label {\n",
       "  color: var(--xr-disabled-color);\n",
       "}\n",
       "\n",
       ".xr-section-item input:enabled + label {\n",
       "  cursor: pointer;\n",
       "  color: var(--xr-font-color2);\n",
       "}\n",
       "\n",
       ".xr-section-item input:enabled + label:hover {\n",
       "  color: var(--xr-font-color0);\n",
       "}\n",
       "\n",
       ".xr-section-summary {\n",
       "  grid-column: 1;\n",
       "  color: var(--xr-font-color2);\n",
       "  font-weight: 500;\n",
       "}\n",
       "\n",
       ".xr-section-summary > span {\n",
       "  display: inline-block;\n",
       "  padding-left: 0.5em;\n",
       "}\n",
       "\n",
       ".xr-section-summary-in:disabled + label {\n",
       "  color: var(--xr-font-color2);\n",
       "}\n",
       "\n",
       ".xr-section-summary-in + label:before {\n",
       "  display: inline-block;\n",
       "  content: '►';\n",
       "  font-size: 11px;\n",
       "  width: 15px;\n",
       "  text-align: center;\n",
       "}\n",
       "\n",
       ".xr-section-summary-in:disabled + label:before {\n",
       "  color: var(--xr-disabled-color);\n",
       "}\n",
       "\n",
       ".xr-section-summary-in:checked + label:before {\n",
       "  content: '▼';\n",
       "}\n",
       "\n",
       ".xr-section-summary-in:checked + label > span {\n",
       "  display: none;\n",
       "}\n",
       "\n",
       ".xr-section-summary,\n",
       ".xr-section-inline-details {\n",
       "  padding-top: 4px;\n",
       "  padding-bottom: 4px;\n",
       "}\n",
       "\n",
       ".xr-section-inline-details {\n",
       "  grid-column: 2 / -1;\n",
       "}\n",
       "\n",
       ".xr-section-details {\n",
       "  display: none;\n",
       "  grid-column: 1 / -1;\n",
       "  margin-bottom: 5px;\n",
       "}\n",
       "\n",
       ".xr-section-summary-in:checked ~ .xr-section-details {\n",
       "  display: contents;\n",
       "}\n",
       "\n",
       ".xr-array-wrap {\n",
       "  grid-column: 1 / -1;\n",
       "  display: grid;\n",
       "  grid-template-columns: 20px auto;\n",
       "}\n",
       "\n",
       ".xr-array-wrap > label {\n",
       "  grid-column: 1;\n",
       "  vertical-align: top;\n",
       "}\n",
       "\n",
       ".xr-preview {\n",
       "  color: var(--xr-font-color3);\n",
       "}\n",
       "\n",
       ".xr-array-preview,\n",
       ".xr-array-data {\n",
       "  padding: 0 5px !important;\n",
       "  grid-column: 2;\n",
       "}\n",
       "\n",
       ".xr-array-data,\n",
       ".xr-array-in:checked ~ .xr-array-preview {\n",
       "  display: none;\n",
       "}\n",
       "\n",
       ".xr-array-in:checked ~ .xr-array-data,\n",
       ".xr-array-preview {\n",
       "  display: inline-block;\n",
       "}\n",
       "\n",
       ".xr-dim-list {\n",
       "  display: inline-block !important;\n",
       "  list-style: none;\n",
       "  padding: 0 !important;\n",
       "  margin: 0;\n",
       "}\n",
       "\n",
       ".xr-dim-list li {\n",
       "  display: inline-block;\n",
       "  padding: 0;\n",
       "  margin: 0;\n",
       "}\n",
       "\n",
       ".xr-dim-list:before {\n",
       "  content: '(';\n",
       "}\n",
       "\n",
       ".xr-dim-list:after {\n",
       "  content: ')';\n",
       "}\n",
       "\n",
       ".xr-dim-list li:not(:last-child):after {\n",
       "  content: ',';\n",
       "  padding-right: 5px;\n",
       "}\n",
       "\n",
       ".xr-has-index {\n",
       "  font-weight: bold;\n",
       "}\n",
       "\n",
       ".xr-var-list,\n",
       ".xr-var-item {\n",
       "  display: contents;\n",
       "}\n",
       "\n",
       ".xr-var-item > div,\n",
       ".xr-var-item label,\n",
       ".xr-var-item > .xr-var-name span {\n",
       "  background-color: var(--xr-background-color-row-even);\n",
       "  margin-bottom: 0;\n",
       "}\n",
       "\n",
       ".xr-var-item > .xr-var-name:hover span {\n",
       "  padding-right: 5px;\n",
       "}\n",
       "\n",
       ".xr-var-list > li:nth-child(odd) > div,\n",
       ".xr-var-list > li:nth-child(odd) > label,\n",
       ".xr-var-list > li:nth-child(odd) > .xr-var-name span {\n",
       "  background-color: var(--xr-background-color-row-odd);\n",
       "}\n",
       "\n",
       ".xr-var-name {\n",
       "  grid-column: 1;\n",
       "}\n",
       "\n",
       ".xr-var-dims {\n",
       "  grid-column: 2;\n",
       "}\n",
       "\n",
       ".xr-var-dtype {\n",
       "  grid-column: 3;\n",
       "  text-align: right;\n",
       "  color: var(--xr-font-color2);\n",
       "}\n",
       "\n",
       ".xr-var-preview {\n",
       "  grid-column: 4;\n",
       "}\n",
       "\n",
       ".xr-var-name,\n",
       ".xr-var-dims,\n",
       ".xr-var-dtype,\n",
       ".xr-preview,\n",
       ".xr-attrs dt {\n",
       "  white-space: nowrap;\n",
       "  overflow: hidden;\n",
       "  text-overflow: ellipsis;\n",
       "  padding-right: 10px;\n",
       "}\n",
       "\n",
       ".xr-var-name:hover,\n",
       ".xr-var-dims:hover,\n",
       ".xr-var-dtype:hover,\n",
       ".xr-attrs dt:hover {\n",
       "  overflow: visible;\n",
       "  width: auto;\n",
       "  z-index: 1;\n",
       "}\n",
       "\n",
       ".xr-var-attrs,\n",
       ".xr-var-data {\n",
       "  display: none;\n",
       "  background-color: var(--xr-background-color) !important;\n",
       "  padding-bottom: 5px !important;\n",
       "}\n",
       "\n",
       ".xr-var-attrs-in:checked ~ .xr-var-attrs,\n",
       ".xr-var-data-in:checked ~ .xr-var-data {\n",
       "  display: block;\n",
       "}\n",
       "\n",
       ".xr-var-data > table {\n",
       "  float: right;\n",
       "}\n",
       "\n",
       ".xr-var-name span,\n",
       ".xr-var-data,\n",
       ".xr-attrs {\n",
       "  padding-left: 25px !important;\n",
       "}\n",
       "\n",
       ".xr-attrs,\n",
       ".xr-var-attrs,\n",
       ".xr-var-data {\n",
       "  grid-column: 1 / -1;\n",
       "}\n",
       "\n",
       "dl.xr-attrs {\n",
       "  padding: 0;\n",
       "  margin: 0;\n",
       "  display: grid;\n",
       "  grid-template-columns: 125px auto;\n",
       "}\n",
       "\n",
       ".xr-attrs dt,\n",
       ".xr-attrs dd {\n",
       "  padding: 0;\n",
       "  margin: 0;\n",
       "  float: left;\n",
       "  padding-right: 10px;\n",
       "  width: auto;\n",
       "}\n",
       "\n",
       ".xr-attrs dt {\n",
       "  font-weight: normal;\n",
       "  grid-column: 1;\n",
       "}\n",
       "\n",
       ".xr-attrs dt:hover span {\n",
       "  display: inline-block;\n",
       "  background: var(--xr-background-color);\n",
       "  padding-right: 10px;\n",
       "}\n",
       "\n",
       ".xr-attrs dd {\n",
       "  grid-column: 2;\n",
       "  white-space: pre-wrap;\n",
       "  word-break: break-all;\n",
       "}\n",
       "\n",
       ".xr-icon-database,\n",
       ".xr-icon-file-text2 {\n",
       "  display: inline-block;\n",
       "  vertical-align: middle;\n",
       "  width: 1em;\n",
       "  height: 1.5em !important;\n",
       "  stroke-width: 0;\n",
       "  stroke: currentColor;\n",
       "  fill: currentColor;\n",
       "}\n",
       "</style><pre class='xr-text-repr-fallback'>&lt;xarray.Dataset&gt;\n",
       "Dimensions:     (time: 1, step: 3, percentile: 6, lon: 726, lat: 486)\n",
       "Coordinates:\n",
       "  * time        (time) datetime64[ns] 2022-01-01\n",
       "  * step        (step) int64 3 4 5\n",
       "    month       int64 1\n",
       "  * percentile  (percentile) int64 1 2 3 4 5 6\n",
       "  * lon         (lon) float64 120.0 120.2 120.3 120.5 ... 239.7 239.8 240.0\n",
       "  * lat         (lat) float64 -50.0 -49.84 -49.67 -49.51 ... 29.67 29.84 30.0\n",
       "Data variables:\n",
       "    precip      (percentile, time, step, lat, lon) float64 dask.array&lt;chunksize=(6, 1, 3, 486, 726), meta=np.ndarray&gt;\n",
       "Attributes:\n",
       "    pct_values:  [0.02 0.05 0.1  0.15 0.2  0.25 0.3  0.35 0.4  0.45 0.5  0.55...\n",
       "    period:      seasonal</pre><div class='xr-wrap' hidden><div class='xr-header'><div class='xr-obj-type'>xarray.Dataset</div></div><ul class='xr-sections'><li class='xr-section-item'><input id='section-0528f8a1-27f6-4979-b67b-d3a12bbfe877' class='xr-section-summary-in' type='checkbox' disabled ><label for='section-0528f8a1-27f6-4979-b67b-d3a12bbfe877' class='xr-section-summary'  title='Expand/collapse section'>Dimensions:</label><div class='xr-section-inline-details'><ul class='xr-dim-list'><li><span class='xr-has-index'>time</span>: 1</li><li><span class='xr-has-index'>step</span>: 3</li><li><span class='xr-has-index'>percentile</span>: 6</li><li><span class='xr-has-index'>lon</span>: 726</li><li><span class='xr-has-index'>lat</span>: 486</li></ul></div><div class='xr-section-details'></div></li><li class='xr-section-item'><input id='section-287acf48-4bf7-42dd-b0b6-cf80a81d9302' class='xr-section-summary-in' type='checkbox'  checked><label for='section-287acf48-4bf7-42dd-b0b6-cf80a81d9302' class='xr-section-summary' >Coordinates: <span>(6)</span></label><div class='xr-section-inline-details'></div><div class='xr-section-details'><ul class='xr-var-list'><li class='xr-var-item'><div class='xr-var-name'><span class='xr-has-index'>time</span></div><div class='xr-var-dims'>(time)</div><div class='xr-var-dtype'>datetime64[ns]</div><div class='xr-var-preview xr-preview'>2022-01-01</div><input id='attrs-1bef65d8-0563-492a-906e-2591ba0e4a1a' class='xr-var-attrs-in' type='checkbox' disabled><label for='attrs-1bef65d8-0563-492a-906e-2591ba0e4a1a' title='Show/Hide attributes'><svg class='icon xr-icon-file-text2'><use xlink:href='#icon-file-text2'></use></svg></label><input id='data-c7288a66-07b5-4732-8522-e3d54ee0374d' class='xr-var-data-in' type='checkbox'><label for='data-c7288a66-07b5-4732-8522-e3d54ee0374d' title='Show/Hide data repr'><svg class='icon xr-icon-database'><use xlink:href='#icon-database'></use></svg></label><div class='xr-var-attrs'><dl class='xr-attrs'></dl></div><div class='xr-var-data'><pre>array([&#x27;2022-01-01T00:00:00.000000000&#x27;], dtype=&#x27;datetime64[ns]&#x27;)</pre></div></li><li class='xr-var-item'><div class='xr-var-name'><span class='xr-has-index'>step</span></div><div class='xr-var-dims'>(step)</div><div class='xr-var-dtype'>int64</div><div class='xr-var-preview xr-preview'>3 4 5</div><input id='attrs-b7e5075a-9ac2-4717-9f1f-9e66efe5072b' class='xr-var-attrs-in' type='checkbox' disabled><label for='attrs-b7e5075a-9ac2-4717-9f1f-9e66efe5072b' title='Show/Hide attributes'><svg class='icon xr-icon-file-text2'><use xlink:href='#icon-file-text2'></use></svg></label><input id='data-91947a93-e6e4-46a2-98be-c2de83738e02' class='xr-var-data-in' type='checkbox'><label for='data-91947a93-e6e4-46a2-98be-c2de83738e02' title='Show/Hide data repr'><svg class='icon xr-icon-database'><use xlink:href='#icon-database'></use></svg></label><div class='xr-var-attrs'><dl class='xr-attrs'></dl></div><div class='xr-var-data'><pre>array([3, 4, 5])</pre></div></li><li class='xr-var-item'><div class='xr-var-name'><span>month</span></div><div class='xr-var-dims'>()</div><div class='xr-var-dtype'>int64</div><div class='xr-var-preview xr-preview'>1</div><input id='attrs-02397c1c-f3fa-4993-9927-bc43157b1dcf' class='xr-var-attrs-in' type='checkbox' disabled><label for='attrs-02397c1c-f3fa-4993-9927-bc43157b1dcf' title='Show/Hide attributes'><svg class='icon xr-icon-file-text2'><use xlink:href='#icon-file-text2'></use></svg></label><input id='data-fadcc0d0-4086-4ef1-b61f-c71fd83f6d03' class='xr-var-data-in' type='checkbox'><label for='data-fadcc0d0-4086-4ef1-b61f-c71fd83f6d03' title='Show/Hide data repr'><svg class='icon xr-icon-database'><use xlink:href='#icon-database'></use></svg></label><div class='xr-var-attrs'><dl class='xr-attrs'></dl></div><div class='xr-var-data'><pre>array(1)</pre></div></li><li class='xr-var-item'><div class='xr-var-name'><span class='xr-has-index'>percentile</span></div><div class='xr-var-dims'>(percentile)</div><div class='xr-var-dtype'>int64</div><div class='xr-var-preview xr-preview'>1 2 3 4 5 6</div><input id='attrs-13f40225-3db6-4beb-a0f6-334f5fd30f32' class='xr-var-attrs-in' type='checkbox' disabled><label for='attrs-13f40225-3db6-4beb-a0f6-334f5fd30f32' title='Show/Hide attributes'><svg class='icon xr-icon-file-text2'><use xlink:href='#icon-file-text2'></use></svg></label><input id='data-26568013-0c94-4bd0-bb7c-451fc5365a7c' class='xr-var-data-in' type='checkbox'><label for='data-26568013-0c94-4bd0-bb7c-451fc5365a7c' title='Show/Hide data repr'><svg class='icon xr-icon-database'><use xlink:href='#icon-database'></use></svg></label><div class='xr-var-attrs'><dl class='xr-attrs'></dl></div><div class='xr-var-data'><pre>array([1, 2, 3, 4, 5, 6])</pre></div></li><li class='xr-var-item'><div class='xr-var-name'><span class='xr-has-index'>lon</span></div><div class='xr-var-dims'>(lon)</div><div class='xr-var-dtype'>float64</div><div class='xr-var-preview xr-preview'>120.0 120.2 120.3 ... 239.8 240.0</div><input id='attrs-5ec788b4-45ab-408c-8b02-35b8878f91ed' class='xr-var-attrs-in' type='checkbox' disabled><label for='attrs-5ec788b4-45ab-408c-8b02-35b8878f91ed' title='Show/Hide attributes'><svg class='icon xr-icon-file-text2'><use xlink:href='#icon-file-text2'></use></svg></label><input id='data-712e84e0-5a11-4ca4-9579-7688599a1f09' class='xr-var-data-in' type='checkbox'><label for='data-712e84e0-5a11-4ca4-9579-7688599a1f09' title='Show/Hide data repr'><svg class='icon xr-icon-database'><use xlink:href='#icon-database'></use></svg></label><div class='xr-var-attrs'><dl class='xr-attrs'></dl></div><div class='xr-var-data'><pre>array([120.      , 120.165517, 120.331034, ..., 239.668966, 239.834483,\n",
       "       240.      ])</pre></div></li><li class='xr-var-item'><div class='xr-var-name'><span class='xr-has-index'>lat</span></div><div class='xr-var-dims'>(lat)</div><div class='xr-var-dtype'>float64</div><div class='xr-var-preview xr-preview'>-50.0 -49.84 -49.67 ... 29.84 30.0</div><input id='attrs-c1c68ce5-5e3c-430e-898f-8bac57b1b4a2' class='xr-var-attrs-in' type='checkbox' disabled><label for='attrs-c1c68ce5-5e3c-430e-898f-8bac57b1b4a2' title='Show/Hide attributes'><svg class='icon xr-icon-file-text2'><use xlink:href='#icon-file-text2'></use></svg></label><input id='data-cbaaa452-bcdf-4405-a743-4f3a9563d9db' class='xr-var-data-in' type='checkbox'><label for='data-cbaaa452-bcdf-4405-a743-4f3a9563d9db' title='Show/Hide data repr'><svg class='icon xr-icon-database'><use xlink:href='#icon-database'></use></svg></label><div class='xr-var-attrs'><dl class='xr-attrs'></dl></div><div class='xr-var-data'><pre>array([-50.      , -49.835052, -49.670103, ...,  29.670103,  29.835052,\n",
       "        30.      ])</pre></div></li></ul></div></li><li class='xr-section-item'><input id='section-594c723d-50fb-4b91-aff5-3b7ed548d783' class='xr-section-summary-in' type='checkbox'  checked><label for='section-594c723d-50fb-4b91-aff5-3b7ed548d783' class='xr-section-summary' >Data variables: <span>(1)</span></label><div class='xr-section-inline-details'></div><div class='xr-section-details'><ul class='xr-var-list'><li class='xr-var-item'><div class='xr-var-name'><span>precip</span></div><div class='xr-var-dims'>(percentile, time, step, lat, lon)</div><div class='xr-var-dtype'>float64</div><div class='xr-var-preview xr-preview'>dask.array&lt;chunksize=(6, 1, 3, 486, 726), meta=np.ndarray&gt;</div><input id='attrs-641eeb38-4808-490a-ab80-42894a21449e' class='xr-var-attrs-in' type='checkbox' disabled><label for='attrs-641eeb38-4808-490a-ab80-42894a21449e' title='Show/Hide attributes'><svg class='icon xr-icon-file-text2'><use xlink:href='#icon-file-text2'></use></svg></label><input id='data-4d38b9a8-02c3-41fa-bbc5-86e209786767' class='xr-var-data-in' type='checkbox'><label for='data-4d38b9a8-02c3-41fa-bbc5-86e209786767' title='Show/Hide data repr'><svg class='icon xr-icon-database'><use xlink:href='#icon-database'></use></svg></label><div class='xr-var-attrs'><dl class='xr-attrs'></dl></div><div class='xr-var-data'><table>\n",
       "    <tr>\n",
       "        <td>\n",
       "            <table>\n",
       "                <thead>\n",
       "                    <tr>\n",
       "                        <td> </td>\n",
       "                        <th> Array </th>\n",
       "                        <th> Chunk </th>\n",
       "                    </tr>\n",
       "                </thead>\n",
       "                <tbody>\n",
       "                    \n",
       "                    <tr>\n",
       "                        <th> Bytes </th>\n",
       "                        <td> 48.45 MiB </td>\n",
       "                        <td> 48.45 MiB </td>\n",
       "                    </tr>\n",
       "                    \n",
       "                    <tr>\n",
       "                        <th> Shape </th>\n",
       "                        <td> (6, 1, 3, 486, 726) </td>\n",
       "                        <td> (6, 1, 3, 486, 726) </td>\n",
       "                    </tr>\n",
       "                    <tr>\n",
       "                        <th> Count </th>\n",
       "                        <td> 92 Tasks </td>\n",
       "                        <td> 1 Chunks </td>\n",
       "                    </tr>\n",
       "                    <tr>\n",
       "                    <th> Type </th>\n",
       "                    <td> float64 </td>\n",
       "                    <td> numpy.ndarray </td>\n",
       "                    </tr>\n",
       "                </tbody>\n",
       "            </table>\n",
       "        </td>\n",
       "        <td>\n",
       "        <svg width=\"374\" height=\"145\" style=\"stroke:rgb(0,0,0);stroke-width:1\" >\n",
       "\n",
       "  <!-- Horizontal lines -->\n",
       "  <line x1=\"0\" y1=\"0\" x2=\"25\" y2=\"0\" style=\"stroke-width:2\" />\n",
       "  <line x1=\"0\" y1=\"25\" x2=\"25\" y2=\"25\" style=\"stroke-width:2\" />\n",
       "\n",
       "  <!-- Vertical lines -->\n",
       "  <line x1=\"0\" y1=\"0\" x2=\"0\" y2=\"25\" style=\"stroke-width:2\" />\n",
       "  <line x1=\"25\" y1=\"0\" x2=\"25\" y2=\"25\" style=\"stroke-width:2\" />\n",
       "\n",
       "  <!-- Colored Rectangle -->\n",
       "  <polygon points=\"0.0,0.0 25.412616514582485,0.0 25.412616514582485,25.412616514582485 0.0,25.412616514582485\" style=\"fill:#ECB172A0;stroke-width:0\"/>\n",
       "\n",
       "  <!-- Text -->\n",
       "  <text x=\"12.706308\" y=\"45.412617\" font-size=\"1.0rem\" font-weight=\"100\" text-anchor=\"middle\" >1</text>\n",
       "  <text x=\"45.412617\" y=\"12.706308\" font-size=\"1.0rem\" font-weight=\"100\" text-anchor=\"middle\" transform=\"rotate(0,45.412617,12.706308)\">6</text>\n",
       "\n",
       "\n",
       "  <!-- Horizontal lines -->\n",
       "  <line x1=\"95\" y1=\"0\" x2=\"109\" y2=\"14\" style=\"stroke-width:2\" />\n",
       "  <line x1=\"95\" y1=\"80\" x2=\"109\" y2=\"95\" style=\"stroke-width:2\" />\n",
       "\n",
       "  <!-- Vertical lines -->\n",
       "  <line x1=\"95\" y1=\"0\" x2=\"95\" y2=\"80\" style=\"stroke-width:2\" />\n",
       "  <line x1=\"109\" y1=\"14\" x2=\"109\" y2=\"95\" style=\"stroke-width:2\" />\n",
       "\n",
       "  <!-- Colored Rectangle -->\n",
       "  <polygon points=\"95.0,0.0 109.9485979497544,14.948597949754403 109.9485979497544,95.2791764621511 95.0,80.3305785123967\" style=\"fill:#ECB172A0;stroke-width:0\"/>\n",
       "\n",
       "  <!-- Horizontal lines -->\n",
       "  <line x1=\"95\" y1=\"0\" x2=\"215\" y2=\"0\" style=\"stroke-width:2\" />\n",
       "  <line x1=\"109\" y1=\"14\" x2=\"229\" y2=\"14\" style=\"stroke-width:2\" />\n",
       "\n",
       "  <!-- Vertical lines -->\n",
       "  <line x1=\"95\" y1=\"0\" x2=\"109\" y2=\"14\" style=\"stroke-width:2\" />\n",
       "  <line x1=\"215\" y1=\"0\" x2=\"229\" y2=\"14\" style=\"stroke-width:2\" />\n",
       "\n",
       "  <!-- Colored Rectangle -->\n",
       "  <polygon points=\"95.0,0.0 215.0,0.0 229.9485979497544,14.948597949754403 109.9485979497544,14.948597949754403\" style=\"fill:#ECB172A0;stroke-width:0\"/>\n",
       "\n",
       "  <!-- Horizontal lines -->\n",
       "  <line x1=\"109\" y1=\"14\" x2=\"229\" y2=\"14\" style=\"stroke-width:2\" />\n",
       "  <line x1=\"109\" y1=\"95\" x2=\"229\" y2=\"95\" style=\"stroke-width:2\" />\n",
       "\n",
       "  <!-- Vertical lines -->\n",
       "  <line x1=\"109\" y1=\"14\" x2=\"109\" y2=\"95\" style=\"stroke-width:2\" />\n",
       "  <line x1=\"229\" y1=\"14\" x2=\"229\" y2=\"95\" style=\"stroke-width:2\" />\n",
       "\n",
       "  <!-- Colored Rectangle -->\n",
       "  <polygon points=\"109.9485979497544,14.948597949754403 229.9485979497544,14.948597949754403 229.9485979497544,95.2791764621511 109.9485979497544,95.2791764621511\" style=\"fill:#ECB172A0;stroke-width:0\"/>\n",
       "\n",
       "  <!-- Text -->\n",
       "  <text x=\"169.948598\" y=\"115.279176\" font-size=\"1.0rem\" font-weight=\"100\" text-anchor=\"middle\" >726</text>\n",
       "  <text x=\"249.948598\" y=\"55.113887\" font-size=\"1.0rem\" font-weight=\"100\" text-anchor=\"middle\" transform=\"rotate(-90,249.948598,55.113887)\">486</text>\n",
       "  <text x=\"92.474299\" y=\"107.804877\" font-size=\"1.0rem\" font-weight=\"100\" text-anchor=\"middle\" transform=\"rotate(45,92.474299,107.804877)\">3</text>\n",
       "</svg>\n",
       "        </td>\n",
       "    </tr>\n",
       "</table></div></li></ul></div></li><li class='xr-section-item'><input id='section-69533f48-4bda-43ec-afa8-9ead2dd042e6' class='xr-section-summary-in' type='checkbox'  checked><label for='section-69533f48-4bda-43ec-afa8-9ead2dd042e6' class='xr-section-summary' >Attributes: <span>(2)</span></label><div class='xr-section-inline-details'></div><div class='xr-section-details'><dl class='xr-attrs'><dt><span>pct_values :</span></dt><dd>[0.02 0.05 0.1  0.15 0.2  0.25 0.3  0.35 0.4  0.45 0.5  0.55 0.6  0.65\n",
       " 0.7  0.75 0.8  0.85 0.9  0.95]</dd><dt><span>period :</span></dt><dd>seasonal</dd></dl></div></li></ul></div></div>"
      ],
      "text/plain": [
       "<xarray.Dataset>\n",
       "Dimensions:     (time: 1, step: 3, percentile: 6, lon: 726, lat: 486)\n",
       "Coordinates:\n",
       "  * time        (time) datetime64[ns] 2022-01-01\n",
       "  * step        (step) int64 3 4 5\n",
       "    month       int64 1\n",
       "  * percentile  (percentile) int64 1 2 3 4 5 6\n",
       "  * lon         (lon) float64 120.0 120.2 120.3 120.5 ... 239.7 239.8 240.0\n",
       "  * lat         (lat) float64 -50.0 -49.84 -49.67 -49.51 ... 29.67 29.84 30.0\n",
       "Data variables:\n",
       "    precip      (percentile, time, step, lat, lon) float64 dask.array<chunksize=(6, 1, 3, 486, 726), meta=np.ndarray>\n",
       "Attributes:\n",
       "    pct_values:  [0.02 0.05 0.1  0.15 0.2  0.25 0.3  0.35 0.4  0.45 0.5  0.55...\n",
       "    period:      seasonal"
      ]
     },
     "execution_count": 40,
     "metadata": {},
     "output_type": "execute_result"
    }
   ],
   "source": [
    "probs_mean.sel({quantile:slice(None, max_cat)})"
   ]
  },
  {
   "cell_type": "code",
   "execution_count": 41,
   "id": "7ed16feb",
   "metadata": {
    "execution": {
     "iopub.execute_input": "2022-01-17T20:47:07.139426Z",
     "iopub.status.busy": "2022-01-17T20:47:07.139096Z",
     "iopub.status.idle": "2022-01-17T20:47:25.980821Z",
     "shell.execute_reply": "2022-01-17T20:47:25.980474Z"
    },
    "papermill": {
     "duration": 18.876288,
     "end_time": "2022-01-17T20:47:25.980923",
     "exception": false,
     "start_time": "2022-01-17T20:47:07.104635",
     "status": "completed"
    },
    "tags": []
   },
   "outputs": [
    {
     "data": {
      "image/png": "[encoded data removed]",
      "text/plain": [
       "<Figure size 720x216 with 4 Axes>"
      ]
     },
     "metadata": {
      "needs_background": "light"
     },
     "output_type": "display_data"
    }
   ],
   "source": [
    "_ = probs_mean.sel({quantile:slice(None, max_cat)}).sum(quantile)[varname].squeeze().plot.contourf(col='step', levels=10, cmap=cmap)"
   ]
  },
  {
   "cell_type": "markdown",
   "id": "4d305552",
   "metadata": {
    "papermill": {
     "duration": 0.034465,
     "end_time": "2022-01-17T20:47:26.048648",
     "exception": false,
     "start_time": "2022-01-17T20:47:26.014183",
     "status": "completed"
    },
    "tags": []
   },
   "source": [
    "### plot the probabilities for rainfall being below the climatological 25th percentile, for the next 3 months period  "
   ]
  },
  {
   "cell_type": "code",
   "execution_count": 42,
   "id": "0b61d442",
   "metadata": {
    "execution": {
     "iopub.execute_input": "2022-01-17T20:47:26.116163Z",
     "iopub.status.busy": "2022-01-17T20:47:26.115808Z",
     "iopub.status.idle": "2022-01-17T20:47:26.143150Z",
     "shell.execute_reply": "2022-01-17T20:47:26.142794Z"
    },
    "papermill": {
     "duration": 0.061803,
     "end_time": "2022-01-17T20:47:26.143251",
     "exception": false,
     "start_time": "2022-01-17T20:47:26.081448",
     "status": "completed"
    },
    "tags": []
   },
   "outputs": [
    {
     "data": {
      "text/html": [
       "<div><svg style=\"position: absolute; width: 0; height: 0; overflow: hidden\">\n",
       "<defs>\n",
       "<symbol id=\"icon-database\" viewBox=\"0 0 32 32\">\n",
       "<path d=\"M16 0c-8.837 0-16 2.239-16 5v4c0 2.761 7.163 5 16 5s16-2.239 16-5v-4c0-2.761-7.163-5-16-5z\"></path>\n",
       "<path d=\"M16 17c-8.837 0-16-2.239-16-5v6c0 2.761 7.163 5 16 5s16-2.239 16-5v-6c0 2.761-7.163 5-16 5z\"></path>\n",
       "<path d=\"M16 26c-8.837 0-16-2.239-16-5v6c0 2.761 7.163 5 16 5s16-2.239 16-5v-6c0 2.761-7.163 5-16 5z\"></path>\n",
       "</symbol>\n",
       "<symbol id=\"icon-file-text2\" viewBox=\"0 0 32 32\">\n",
       "<path d=\"M28.681 7.159c-0.694-0.947-1.662-2.053-2.724-3.116s-2.169-2.030-3.116-2.724c-1.612-1.182-2.393-1.319-2.841-1.319h-15.5c-1.378 0-2.5 1.121-2.5 2.5v27c0 1.378 1.122 2.5 2.5 2.5h23c1.378 0 2.5-1.122 2.5-2.5v-19.5c0-0.448-0.137-1.23-1.319-2.841zM24.543 5.457c0.959 0.959 1.712 1.825 2.268 2.543h-4.811v-4.811c0.718 0.556 1.584 1.309 2.543 2.268zM28 29.5c0 0.271-0.229 0.5-0.5 0.5h-23c-0.271 0-0.5-0.229-0.5-0.5v-27c0-0.271 0.229-0.5 0.5-0.5 0 0 15.499-0 15.5 0v7c0 0.552 0.448 1 1 1h7v19.5z\"></path>\n",
       "<path d=\"M23 26h-14c-0.552 0-1-0.448-1-1s0.448-1 1-1h14c0.552 0 1 0.448 1 1s-0.448 1-1 1z\"></path>\n",
       "<path d=\"M23 22h-14c-0.552 0-1-0.448-1-1s0.448-1 1-1h14c0.552 0 1 0.448 1 1s-0.448 1-1 1z\"></path>\n",
       "<path d=\"M23 18h-14c-0.552 0-1-0.448-1-1s0.448-1 1-1h14c0.552 0 1 0.448 1 1s-0.448 1-1 1z\"></path>\n",
       "</symbol>\n",
       "</defs>\n",
       "</svg>\n",
       "<style>/* CSS stylesheet for displaying xarray objects in jupyterlab.\n",
       " *\n",
       " */\n",
       "\n",
       ":root {\n",
       "  --xr-font-color0: var(--jp-content-font-color0, rgba(0, 0, 0, 1));\n",
       "  --xr-font-color2: var(--jp-content-font-color2, rgba(0, 0, 0, 0.54));\n",
       "  --xr-font-color3: var(--jp-content-font-color3, rgba(0, 0, 0, 0.38));\n",
       "  --xr-border-color: var(--jp-border-color2, #e0e0e0);\n",
       "  --xr-disabled-color: var(--jp-layout-color3, #bdbdbd);\n",
       "  --xr-background-color: var(--jp-layout-color0, white);\n",
       "  --xr-background-color-row-even: var(--jp-layout-color1, white);\n",
       "  --xr-background-color-row-odd: var(--jp-layout-color2, #eeeeee);\n",
       "}\n",
       "\n",
       "html[theme=dark],\n",
       "body.vscode-dark {\n",
       "  --xr-font-color0: rgba(255, 255, 255, 1);\n",
       "  --xr-font-color2: rgba(255, 255, 255, 0.54);\n",
       "  --xr-font-color3: rgba(255, 255, 255, 0.38);\n",
       "  --xr-border-color: #1F1F1F;\n",
       "  --xr-disabled-color: #515151;\n",
       "  --xr-background-color: #111111;\n",
       "  --xr-background-color-row-even: #111111;\n",
       "  --xr-background-color-row-odd: #313131;\n",
       "}\n",
       "\n",
       ".xr-wrap {\n",
       "  display: block;\n",
       "  min-width: 300px;\n",
       "  max-width: 700px;\n",
       "}\n",
       "\n",
       ".xr-text-repr-fallback {\n",
       "  /* fallback to plain text repr when CSS is not injected (untrusted notebook) */\n",
       "  display: none;\n",
       "}\n",
       "\n",
       ".xr-header {\n",
       "  padding-top: 6px;\n",
       "  padding-bottom: 6px;\n",
       "  margin-bottom: 4px;\n",
       "  border-bottom: solid 1px var(--xr-border-color);\n",
       "}\n",
       "\n",
       ".xr-header > div,\n",
       ".xr-header > ul {\n",
       "  display: inline;\n",
       "  margin-top: 0;\n",
       "  margin-bottom: 0;\n",
       "}\n",
       "\n",
       ".xr-obj-type,\n",
       ".xr-array-name {\n",
       "  margin-left: 2px;\n",
       "  margin-right: 10px;\n",
       "}\n",
       "\n",
       ".xr-obj-type {\n",
       "  color: var(--xr-font-color2);\n",
       "}\n",
       "\n",
       ".xr-sections {\n",
       "  padding-left: 0 !important;\n",
       "  display: grid;\n",
       "  grid-template-columns: 150px auto auto 1fr 20px 20px;\n",
       "}\n",
       "\n",
       ".xr-section-item {\n",
       "  display: contents;\n",
       "}\n",
       "\n",
       ".xr-section-item input {\n",
       "  display: none;\n",
       "}\n",
       "\n",
       ".xr-section-item input + label {\n",
       "  color: var(--xr-disabled-color);\n",
       "}\n",
       "\n",
       ".xr-section-item input:enabled + label {\n",
       "  cursor: pointer;\n",
       "  color: var(--xr-font-color2);\n",
       "}\n",
       "\n",
       ".xr-section-item input:enabled + label:hover {\n",
       "  color: var(--xr-font-color0);\n",
       "}\n",
       "\n",
       ".xr-section-summary {\n",
       "  grid-column: 1;\n",
       "  color: var(--xr-font-color2);\n",
       "  font-weight: 500;\n",
       "}\n",
       "\n",
       ".xr-section-summary > span {\n",
       "  display: inline-block;\n",
       "  padding-left: 0.5em;\n",
       "}\n",
       "\n",
       ".xr-section-summary-in:disabled + label {\n",
       "  color: var(--xr-font-color2);\n",
       "}\n",
       "\n",
       ".xr-section-summary-in + label:before {\n",
       "  display: inline-block;\n",
       "  content: '►';\n",
       "  font-size: 11px;\n",
       "  width: 15px;\n",
       "  text-align: center;\n",
       "}\n",
       "\n",
       ".xr-section-summary-in:disabled + label:before {\n",
       "  color: var(--xr-disabled-color);\n",
       "}\n",
       "\n",
       ".xr-section-summary-in:checked + label:before {\n",
       "  content: '▼';\n",
       "}\n",
       "\n",
       ".xr-section-summary-in:checked + label > span {\n",
       "  display: none;\n",
       "}\n",
       "\n",
       ".xr-section-summary,\n",
       ".xr-section-inline-details {\n",
       "  padding-top: 4px;\n",
       "  padding-bottom: 4px;\n",
       "}\n",
       "\n",
       ".xr-section-inline-details {\n",
       "  grid-column: 2 / -1;\n",
       "}\n",
       "\n",
       ".xr-section-details {\n",
       "  display: none;\n",
       "  grid-column: 1 / -1;\n",
       "  margin-bottom: 5px;\n",
       "}\n",
       "\n",
       ".xr-section-summary-in:checked ~ .xr-section-details {\n",
       "  display: contents;\n",
       "}\n",
       "\n",
       ".xr-array-wrap {\n",
       "  grid-column: 1 / -1;\n",
       "  display: grid;\n",
       "  grid-template-columns: 20px auto;\n",
       "}\n",
       "\n",
       ".xr-array-wrap > label {\n",
       "  grid-column: 1;\n",
       "  vertical-align: top;\n",
       "}\n",
       "\n",
       ".xr-preview {\n",
       "  color: var(--xr-font-color3);\n",
       "}\n",
       "\n",
       ".xr-array-preview,\n",
       ".xr-array-data {\n",
       "  padding: 0 5px !important;\n",
       "  grid-column: 2;\n",
       "}\n",
       "\n",
       ".xr-array-data,\n",
       ".xr-array-in:checked ~ .xr-array-preview {\n",
       "  display: none;\n",
       "}\n",
       "\n",
       ".xr-array-in:checked ~ .xr-array-data,\n",
       ".xr-array-preview {\n",
       "  display: inline-block;\n",
       "}\n",
       "\n",
       ".xr-dim-list {\n",
       "  display: inline-block !important;\n",
       "  list-style: none;\n",
       "  padding: 0 !important;\n",
       "  margin: 0;\n",
       "}\n",
       "\n",
       ".xr-dim-list li {\n",
       "  display: inline-block;\n",
       "  padding: 0;\n",
       "  margin: 0;\n",
       "}\n",
       "\n",
       ".xr-dim-list:before {\n",
       "  content: '(';\n",
       "}\n",
       "\n",
       ".xr-dim-list:after {\n",
       "  content: ')';\n",
       "}\n",
       "\n",
       ".xr-dim-list li:not(:last-child):after {\n",
       "  content: ',';\n",
       "  padding-right: 5px;\n",
       "}\n",
       "\n",
       ".xr-has-index {\n",
       "  font-weight: bold;\n",
       "}\n",
       "\n",
       ".xr-var-list,\n",
       ".xr-var-item {\n",
       "  display: contents;\n",
       "}\n",
       "\n",
       ".xr-var-item > div,\n",
       ".xr-var-item label,\n",
       ".xr-var-item > .xr-var-name span {\n",
       "  background-color: var(--xr-background-color-row-even);\n",
       "  margin-bottom: 0;\n",
       "}\n",
       "\n",
       ".xr-var-item > .xr-var-name:hover span {\n",
       "  padding-right: 5px;\n",
       "}\n",
       "\n",
       ".xr-var-list > li:nth-child(odd) > div,\n",
       ".xr-var-list > li:nth-child(odd) > label,\n",
       ".xr-var-list > li:nth-child(odd) > .xr-var-name span {\n",
       "  background-color: var(--xr-background-color-row-odd);\n",
       "}\n",
       "\n",
       ".xr-var-name {\n",
       "  grid-column: 1;\n",
       "}\n",
       "\n",
       ".xr-var-dims {\n",
       "  grid-column: 2;\n",
       "}\n",
       "\n",
       ".xr-var-dtype {\n",
       "  grid-column: 3;\n",
       "  text-align: right;\n",
       "  color: var(--xr-font-color2);\n",
       "}\n",
       "\n",
       ".xr-var-preview {\n",
       "  grid-column: 4;\n",
       "}\n",
       "\n",
       ".xr-var-name,\n",
       ".xr-var-dims,\n",
       ".xr-var-dtype,\n",
       ".xr-preview,\n",
       ".xr-attrs dt {\n",
       "  white-space: nowrap;\n",
       "  overflow: hidden;\n",
       "  text-overflow: ellipsis;\n",
       "  padding-right: 10px;\n",
       "}\n",
       "\n",
       ".xr-var-name:hover,\n",
       ".xr-var-dims:hover,\n",
       ".xr-var-dtype:hover,\n",
       ".xr-attrs dt:hover {\n",
       "  overflow: visible;\n",
       "  width: auto;\n",
       "  z-index: 1;\n",
       "}\n",
       "\n",
       ".xr-var-attrs,\n",
       ".xr-var-data {\n",
       "  display: none;\n",
       "  background-color: var(--xr-background-color) !important;\n",
       "  padding-bottom: 5px !important;\n",
       "}\n",
       "\n",
       ".xr-var-attrs-in:checked ~ .xr-var-attrs,\n",
       ".xr-var-data-in:checked ~ .xr-var-data {\n",
       "  display: block;\n",
       "}\n",
       "\n",
       ".xr-var-data > table {\n",
       "  float: right;\n",
       "}\n",
       "\n",
       ".xr-var-name span,\n",
       ".xr-var-data,\n",
       ".xr-attrs {\n",
       "  padding-left: 25px !important;\n",
       "}\n",
       "\n",
       ".xr-attrs,\n",
       ".xr-var-attrs,\n",
       ".xr-var-data {\n",
       "  grid-column: 1 / -1;\n",
       "}\n",
       "\n",
       "dl.xr-attrs {\n",
       "  padding: 0;\n",
       "  margin: 0;\n",
       "  display: grid;\n",
       "  grid-template-columns: 125px auto;\n",
       "}\n",
       "\n",
       ".xr-attrs dt,\n",
       ".xr-attrs dd {\n",
       "  padding: 0;\n",
       "  margin: 0;\n",
       "  float: left;\n",
       "  padding-right: 10px;\n",
       "  width: auto;\n",
       "}\n",
       "\n",
       ".xr-attrs dt {\n",
       "  font-weight: normal;\n",
       "  grid-column: 1;\n",
       "}\n",
       "\n",
       ".xr-attrs dt:hover span {\n",
       "  display: inline-block;\n",
       "  background: var(--xr-background-color);\n",
       "  padding-right: 10px;\n",
       "}\n",
       "\n",
       ".xr-attrs dd {\n",
       "  grid-column: 2;\n",
       "  white-space: pre-wrap;\n",
       "  word-break: break-all;\n",
       "}\n",
       "\n",
       ".xr-icon-database,\n",
       ".xr-icon-file-text2 {\n",
       "  display: inline-block;\n",
       "  vertical-align: middle;\n",
       "  width: 1em;\n",
       "  height: 1.5em !important;\n",
       "  stroke-width: 0;\n",
       "  stroke: currentColor;\n",
       "  fill: currentColor;\n",
       "}\n",
       "</style><pre class='xr-text-repr-fallback'>&lt;xarray.Dataset&gt;\n",
       "Dimensions:     (time: 1, step: 3, percentile: 21, lon: 726, lat: 486)\n",
       "Coordinates:\n",
       "  * time        (time) datetime64[ns] 2022-01-01\n",
       "  * step        (step) int64 3 4 5\n",
       "    month       int64 1\n",
       "  * percentile  (percentile) int64 1 2 3 4 5 6 7 8 9 ... 14 15 16 17 18 19 20 21\n",
       "  * lon         (lon) float64 120.0 120.2 120.3 120.5 ... 239.7 239.8 240.0\n",
       "  * lat         (lat) float64 -50.0 -49.84 -49.67 -49.51 ... 29.67 29.84 30.0\n",
       "Data variables:\n",
       "    precip      (percentile, time, step, lat, lon) float64 dask.array&lt;chunksize=(21, 1, 3, 486, 726), meta=np.ndarray&gt;\n",
       "Attributes:\n",
       "    pct_values:  [0.02 0.05 0.1  0.15 0.2  0.25 0.3  0.35 0.4  0.45 0.5  0.55...\n",
       "    period:      seasonal</pre><div class='xr-wrap' hidden><div class='xr-header'><div class='xr-obj-type'>xarray.Dataset</div></div><ul class='xr-sections'><li class='xr-section-item'><input id='section-dea0b5e9-4156-4f36-9949-1521e3caa84d' class='xr-section-summary-in' type='checkbox' disabled ><label for='section-dea0b5e9-4156-4f36-9949-1521e3caa84d' class='xr-section-summary'  title='Expand/collapse section'>Dimensions:</label><div class='xr-section-inline-details'><ul class='xr-dim-list'><li><span class='xr-has-index'>time</span>: 1</li><li><span class='xr-has-index'>step</span>: 3</li><li><span class='xr-has-index'>percentile</span>: 21</li><li><span class='xr-has-index'>lon</span>: 726</li><li><span class='xr-has-index'>lat</span>: 486</li></ul></div><div class='xr-section-details'></div></li><li class='xr-section-item'><input id='section-e2c500fd-2491-4ab2-ac5b-650c75825328' class='xr-section-summary-in' type='checkbox'  checked><label for='section-e2c500fd-2491-4ab2-ac5b-650c75825328' class='xr-section-summary' >Coordinates: <span>(6)</span></label><div class='xr-section-inline-details'></div><div class='xr-section-details'><ul class='xr-var-list'><li class='xr-var-item'><div class='xr-var-name'><span class='xr-has-index'>time</span></div><div class='xr-var-dims'>(time)</div><div class='xr-var-dtype'>datetime64[ns]</div><div class='xr-var-preview xr-preview'>2022-01-01</div><input id='attrs-83772da4-325f-4395-b0f3-1c0be51144b1' class='xr-var-attrs-in' type='checkbox' disabled><label for='attrs-83772da4-325f-4395-b0f3-1c0be51144b1' title='Show/Hide attributes'><svg class='icon xr-icon-file-text2'><use xlink:href='#icon-file-text2'></use></svg></label><input id='data-255ae43c-4e0a-4b7b-9914-0ba8f559aa20' class='xr-var-data-in' type='checkbox'><label for='data-255ae43c-4e0a-4b7b-9914-0ba8f559aa20' title='Show/Hide data repr'><svg class='icon xr-icon-database'><use xlink:href='#icon-database'></use></svg></label><div class='xr-var-attrs'><dl class='xr-attrs'></dl></div><div class='xr-var-data'><pre>array([&#x27;2022-01-01T00:00:00.000000000&#x27;], dtype=&#x27;datetime64[ns]&#x27;)</pre></div></li><li class='xr-var-item'><div class='xr-var-name'><span class='xr-has-index'>step</span></div><div class='xr-var-dims'>(step)</div><div class='xr-var-dtype'>int64</div><div class='xr-var-preview xr-preview'>3 4 5</div><input id='attrs-0fb85d9f-f861-4d47-82ec-a699800d0506' class='xr-var-attrs-in' type='checkbox' disabled><label for='attrs-0fb85d9f-f861-4d47-82ec-a699800d0506' title='Show/Hide attributes'><svg class='icon xr-icon-file-text2'><use xlink:href='#icon-file-text2'></use></svg></label><input id='data-79479c8c-f1b8-444d-ab49-24716b728d8b' class='xr-var-data-in' type='checkbox'><label for='data-79479c8c-f1b8-444d-ab49-24716b728d8b' title='Show/Hide data repr'><svg class='icon xr-icon-database'><use xlink:href='#icon-database'></use></svg></label><div class='xr-var-attrs'><dl class='xr-attrs'></dl></div><div class='xr-var-data'><pre>array([3, 4, 5])</pre></div></li><li class='xr-var-item'><div class='xr-var-name'><span>month</span></div><div class='xr-var-dims'>()</div><div class='xr-var-dtype'>int64</div><div class='xr-var-preview xr-preview'>1</div><input id='attrs-97a4722b-d30c-478a-a1a5-137f617ad250' class='xr-var-attrs-in' type='checkbox' disabled><label for='attrs-97a4722b-d30c-478a-a1a5-137f617ad250' title='Show/Hide attributes'><svg class='icon xr-icon-file-text2'><use xlink:href='#icon-file-text2'></use></svg></label><input id='data-e58f7daa-c88e-4349-90d2-cd9c692d2c98' class='xr-var-data-in' type='checkbox'><label for='data-e58f7daa-c88e-4349-90d2-cd9c692d2c98' title='Show/Hide data repr'><svg class='icon xr-icon-database'><use xlink:href='#icon-database'></use></svg></label><div class='xr-var-attrs'><dl class='xr-attrs'></dl></div><div class='xr-var-data'><pre>array(1)</pre></div></li><li class='xr-var-item'><div class='xr-var-name'><span class='xr-has-index'>percentile</span></div><div class='xr-var-dims'>(percentile)</div><div class='xr-var-dtype'>int64</div><div class='xr-var-preview xr-preview'>1 2 3 4 5 6 7 ... 16 17 18 19 20 21</div><input id='attrs-344be31e-3ab2-4cde-a313-4e949cc3496b' class='xr-var-attrs-in' type='checkbox' disabled><label for='attrs-344be31e-3ab2-4cde-a313-4e949cc3496b' title='Show/Hide attributes'><svg class='icon xr-icon-file-text2'><use xlink:href='#icon-file-text2'></use></svg></label><input id='data-0d6afd47-2c0f-47b6-9375-150d2e342a93' class='xr-var-data-in' type='checkbox'><label for='data-0d6afd47-2c0f-47b6-9375-150d2e342a93' title='Show/Hide data repr'><svg class='icon xr-icon-database'><use xlink:href='#icon-database'></use></svg></label><div class='xr-var-attrs'><dl class='xr-attrs'></dl></div><div class='xr-var-data'><pre>array([ 1,  2,  3,  4,  5,  6,  7,  8,  9, 10, 11, 12, 13, 14, 15, 16, 17, 18,\n",
       "       19, 20, 21])</pre></div></li><li class='xr-var-item'><div class='xr-var-name'><span class='xr-has-index'>lon</span></div><div class='xr-var-dims'>(lon)</div><div class='xr-var-dtype'>float64</div><div class='xr-var-preview xr-preview'>120.0 120.2 120.3 ... 239.8 240.0</div><input id='attrs-46f3b4b3-b0d3-40d4-acf3-8db3f3baf416' class='xr-var-attrs-in' type='checkbox' disabled><label for='attrs-46f3b4b3-b0d3-40d4-acf3-8db3f3baf416' title='Show/Hide attributes'><svg class='icon xr-icon-file-text2'><use xlink:href='#icon-file-text2'></use></svg></label><input id='data-355718b8-ba3e-448e-95e0-fe5ce070a1ce' class='xr-var-data-in' type='checkbox'><label for='data-355718b8-ba3e-448e-95e0-fe5ce070a1ce' title='Show/Hide data repr'><svg class='icon xr-icon-database'><use xlink:href='#icon-database'></use></svg></label><div class='xr-var-attrs'><dl class='xr-attrs'></dl></div><div class='xr-var-data'><pre>array([120.      , 120.165517, 120.331034, ..., 239.668966, 239.834483,\n",
       "       240.      ])</pre></div></li><li class='xr-var-item'><div class='xr-var-name'><span class='xr-has-index'>lat</span></div><div class='xr-var-dims'>(lat)</div><div class='xr-var-dtype'>float64</div><div class='xr-var-preview xr-preview'>-50.0 -49.84 -49.67 ... 29.84 30.0</div><input id='attrs-b9da2aac-30a6-4be3-9f93-01426ec1d2d6' class='xr-var-attrs-in' type='checkbox' disabled><label for='attrs-b9da2aac-30a6-4be3-9f93-01426ec1d2d6' title='Show/Hide attributes'><svg class='icon xr-icon-file-text2'><use xlink:href='#icon-file-text2'></use></svg></label><input id='data-bde46b30-6f1f-4cb3-9621-313728f4182c' class='xr-var-data-in' type='checkbox'><label for='data-bde46b30-6f1f-4cb3-9621-313728f4182c' title='Show/Hide data repr'><svg class='icon xr-icon-database'><use xlink:href='#icon-database'></use></svg></label><div class='xr-var-attrs'><dl class='xr-attrs'></dl></div><div class='xr-var-data'><pre>array([-50.      , -49.835052, -49.670103, ...,  29.670103,  29.835052,\n",
       "        30.      ])</pre></div></li></ul></div></li><li class='xr-section-item'><input id='section-929a7a1a-b298-4364-8479-4b48933e39ae' class='xr-section-summary-in' type='checkbox'  checked><label for='section-929a7a1a-b298-4364-8479-4b48933e39ae' class='xr-section-summary' >Data variables: <span>(1)</span></label><div class='xr-section-inline-details'></div><div class='xr-section-details'><ul class='xr-var-list'><li class='xr-var-item'><div class='xr-var-name'><span>precip</span></div><div class='xr-var-dims'>(percentile, time, step, lat, lon)</div><div class='xr-var-dtype'>float64</div><div class='xr-var-preview xr-preview'>dask.array&lt;chunksize=(21, 1, 3, 486, 726), meta=np.ndarray&gt;</div><input id='attrs-ffa19bc2-c241-4be5-836b-b6e5542ca090' class='xr-var-attrs-in' type='checkbox' disabled><label for='attrs-ffa19bc2-c241-4be5-836b-b6e5542ca090' title='Show/Hide attributes'><svg class='icon xr-icon-file-text2'><use xlink:href='#icon-file-text2'></use></svg></label><input id='data-d39f55dd-df8e-4187-aa81-f17ce5f57050' class='xr-var-data-in' type='checkbox'><label for='data-d39f55dd-df8e-4187-aa81-f17ce5f57050' title='Show/Hide data repr'><svg class='icon xr-icon-database'><use xlink:href='#icon-database'></use></svg></label><div class='xr-var-attrs'><dl class='xr-attrs'></dl></div><div class='xr-var-data'><table>\n",
       "    <tr>\n",
       "        <td>\n",
       "            <table>\n",
       "                <thead>\n",
       "                    <tr>\n",
       "                        <td> </td>\n",
       "                        <th> Array </th>\n",
       "                        <th> Chunk </th>\n",
       "                    </tr>\n",
       "                </thead>\n",
       "                <tbody>\n",
       "                    \n",
       "                    <tr>\n",
       "                        <th> Bytes </th>\n",
       "                        <td> 169.59 MiB </td>\n",
       "                        <td> 169.59 MiB </td>\n",
       "                    </tr>\n",
       "                    \n",
       "                    <tr>\n",
       "                        <th> Shape </th>\n",
       "                        <td> (21, 1, 3, 486, 726) </td>\n",
       "                        <td> (21, 1, 3, 486, 726) </td>\n",
       "                    </tr>\n",
       "                    <tr>\n",
       "                        <th> Count </th>\n",
       "                        <td> 91 Tasks </td>\n",
       "                        <td> 1 Chunks </td>\n",
       "                    </tr>\n",
       "                    <tr>\n",
       "                    <th> Type </th>\n",
       "                    <td> float64 </td>\n",
       "                    <td> numpy.ndarray </td>\n",
       "                    </tr>\n",
       "                </tbody>\n",
       "            </table>\n",
       "        </td>\n",
       "        <td>\n",
       "        <svg width=\"374\" height=\"145\" style=\"stroke:rgb(0,0,0);stroke-width:1\" >\n",
       "\n",
       "  <!-- Horizontal lines -->\n",
       "  <line x1=\"0\" y1=\"0\" x2=\"25\" y2=\"0\" style=\"stroke-width:2\" />\n",
       "  <line x1=\"0\" y1=\"31\" x2=\"25\" y2=\"31\" style=\"stroke-width:2\" />\n",
       "\n",
       "  <!-- Vertical lines -->\n",
       "  <line x1=\"0\" y1=\"0\" x2=\"0\" y2=\"31\" style=\"stroke-width:2\" />\n",
       "  <line x1=\"25\" y1=\"0\" x2=\"25\" y2=\"31\" style=\"stroke-width:2\" />\n",
       "\n",
       "  <!-- Colored Rectangle -->\n",
       "  <polygon points=\"0.0,0.0 25.412616514582485,0.0 25.412616514582485,31.17255961645133 0.0,31.17255961645133\" style=\"fill:#ECB172A0;stroke-width:0\"/>\n",
       "\n",
       "  <!-- Text -->\n",
       "  <text x=\"12.706308\" y=\"51.172560\" font-size=\"1.0rem\" font-weight=\"100\" text-anchor=\"middle\" >1</text>\n",
       "  <text x=\"45.412617\" y=\"15.586280\" font-size=\"1.0rem\" font-weight=\"100\" text-anchor=\"middle\" transform=\"rotate(0,45.412617,15.586280)\">21</text>\n",
       "\n",
       "\n",
       "  <!-- Horizontal lines -->\n",
       "  <line x1=\"95\" y1=\"0\" x2=\"109\" y2=\"14\" style=\"stroke-width:2\" />\n",
       "  <line x1=\"95\" y1=\"80\" x2=\"109\" y2=\"95\" style=\"stroke-width:2\" />\n",
       "\n",
       "  <!-- Vertical lines -->\n",
       "  <line x1=\"95\" y1=\"0\" x2=\"95\" y2=\"80\" style=\"stroke-width:2\" />\n",
       "  <line x1=\"109\" y1=\"14\" x2=\"109\" y2=\"95\" style=\"stroke-width:2\" />\n",
       "\n",
       "  <!-- Colored Rectangle -->\n",
       "  <polygon points=\"95.0,0.0 109.9485979497544,14.948597949754403 109.9485979497544,95.2791764621511 95.0,80.3305785123967\" style=\"fill:#ECB172A0;stroke-width:0\"/>\n",
       "\n",
       "  <!-- Horizontal lines -->\n",
       "  <line x1=\"95\" y1=\"0\" x2=\"215\" y2=\"0\" style=\"stroke-width:2\" />\n",
       "  <line x1=\"109\" y1=\"14\" x2=\"229\" y2=\"14\" style=\"stroke-width:2\" />\n",
       "\n",
       "  <!-- Vertical lines -->\n",
       "  <line x1=\"95\" y1=\"0\" x2=\"109\" y2=\"14\" style=\"stroke-width:2\" />\n",
       "  <line x1=\"215\" y1=\"0\" x2=\"229\" y2=\"14\" style=\"stroke-width:2\" />\n",
       "\n",
       "  <!-- Colored Rectangle -->\n",
       "  <polygon points=\"95.0,0.0 215.0,0.0 229.9485979497544,14.948597949754403 109.9485979497544,14.948597949754403\" style=\"fill:#ECB172A0;stroke-width:0\"/>\n",
       "\n",
       "  <!-- Horizontal lines -->\n",
       "  <line x1=\"109\" y1=\"14\" x2=\"229\" y2=\"14\" style=\"stroke-width:2\" />\n",
       "  <line x1=\"109\" y1=\"95\" x2=\"229\" y2=\"95\" style=\"stroke-width:2\" />\n",
       "\n",
       "  <!-- Vertical lines -->\n",
       "  <line x1=\"109\" y1=\"14\" x2=\"109\" y2=\"95\" style=\"stroke-width:2\" />\n",
       "  <line x1=\"229\" y1=\"14\" x2=\"229\" y2=\"95\" style=\"stroke-width:2\" />\n",
       "\n",
       "  <!-- Colored Rectangle -->\n",
       "  <polygon points=\"109.9485979497544,14.948597949754403 229.9485979497544,14.948597949754403 229.9485979497544,95.2791764621511 109.9485979497544,95.2791764621511\" style=\"fill:#ECB172A0;stroke-width:0\"/>\n",
       "\n",
       "  <!-- Text -->\n",
       "  <text x=\"169.948598\" y=\"115.279176\" font-size=\"1.0rem\" font-weight=\"100\" text-anchor=\"middle\" >726</text>\n",
       "  <text x=\"249.948598\" y=\"55.113887\" font-size=\"1.0rem\" font-weight=\"100\" text-anchor=\"middle\" transform=\"rotate(-90,249.948598,55.113887)\">486</text>\n",
       "  <text x=\"92.474299\" y=\"107.804877\" font-size=\"1.0rem\" font-weight=\"100\" text-anchor=\"middle\" transform=\"rotate(45,92.474299,107.804877)\">3</text>\n",
       "</svg>\n",
       "        </td>\n",
       "    </tr>\n",
       "</table></div></li></ul></div></li><li class='xr-section-item'><input id='section-e7648ca5-4209-4a89-90f7-53bd61336a87' class='xr-section-summary-in' type='checkbox'  checked><label for='section-e7648ca5-4209-4a89-90f7-53bd61336a87' class='xr-section-summary' >Attributes: <span>(2)</span></label><div class='xr-section-inline-details'></div><div class='xr-section-details'><dl class='xr-attrs'><dt><span>pct_values :</span></dt><dd>[0.02 0.05 0.1  0.15 0.2  0.25 0.3  0.35 0.4  0.45 0.5  0.55 0.6  0.65\n",
       " 0.7  0.75 0.8  0.85 0.9  0.95]</dd><dt><span>period :</span></dt><dd>seasonal</dd></dl></div></li></ul></div></div>"
      ],
      "text/plain": [
       "<xarray.Dataset>\n",
       "Dimensions:     (time: 1, step: 3, percentile: 21, lon: 726, lat: 486)\n",
       "Coordinates:\n",
       "  * time        (time) datetime64[ns] 2022-01-01\n",
       "  * step        (step) int64 3 4 5\n",
       "    month       int64 1\n",
       "  * percentile  (percentile) int64 1 2 3 4 5 6 7 8 9 ... 14 15 16 17 18 19 20 21\n",
       "  * lon         (lon) float64 120.0 120.2 120.3 120.5 ... 239.7 239.8 240.0\n",
       "  * lat         (lat) float64 -50.0 -49.84 -49.67 -49.51 ... 29.67 29.84 30.0\n",
       "Data variables:\n",
       "    precip      (percentile, time, step, lat, lon) float64 dask.array<chunksize=(21, 1, 3, 486, 726), meta=np.ndarray>\n",
       "Attributes:\n",
       "    pct_values:  [0.02 0.05 0.1  0.15 0.2  0.25 0.3  0.35 0.4  0.45 0.5  0.55...\n",
       "    period:      seasonal"
      ]
     },
     "execution_count": 42,
     "metadata": {},
     "output_type": "execute_result"
    }
   ],
   "source": [
    "probs_mean"
   ]
  },
  {
   "cell_type": "markdown",
   "id": "9e9bdad1",
   "metadata": {
    "papermill": {
     "duration": 0.035729,
     "end_time": "2022-01-17T20:47:26.213197",
     "exception": false,
     "start_time": "2022-01-17T20:47:26.177468",
     "status": "completed"
    },
    "tags": []
   },
   "source": [
    "### old version "
   ]
  },
  {
   "cell_type": "code",
   "execution_count": 43,
   "id": "b66b79d4",
   "metadata": {
    "execution": {
     "iopub.execute_input": "2022-01-17T20:47:26.291297Z",
     "iopub.status.busy": "2022-01-17T20:47:26.290946Z",
     "iopub.status.idle": "2022-01-17T20:47:26.305167Z",
     "shell.execute_reply": "2022-01-17T20:47:26.305645Z"
    },
    "papermill": {
     "duration": 0.049955,
     "end_time": "2022-01-17T20:47:26.305799",
     "exception": false,
     "start_time": "2022-01-17T20:47:26.255844",
     "status": "completed"
    },
    "tags": []
   },
   "outputs": [],
   "source": [
    "# hexes = ['#ffffff', '#f6e8c3', '#dfc27d', '#bf812d', '#8c510a', '#543005']\n",
    "\n",
    "# cmap = matplotlib.colors.ListedColormap(hexes, name='decile')"
   ]
  },
  {
   "cell_type": "markdown",
   "id": "7de7ec91",
   "metadata": {
    "papermill": {
     "duration": 0.037251,
     "end_time": "2022-01-17T20:47:26.381560",
     "exception": false,
     "start_time": "2022-01-17T20:47:26.344309",
     "status": "completed"
    },
    "tags": []
   },
   "source": [
    "### new version "
   ]
  },
  {
   "cell_type": "code",
   "execution_count": 44,
   "id": "8323fe8c",
   "metadata": {
    "execution": {
     "iopub.execute_input": "2022-01-17T20:47:26.456679Z",
     "iopub.status.busy": "2022-01-17T20:47:26.456298Z",
     "iopub.status.idle": "2022-01-17T20:47:26.471407Z",
     "shell.execute_reply": "2022-01-17T20:47:26.470891Z"
    },
    "papermill": {
     "duration": 0.05373,
     "end_time": "2022-01-17T20:47:26.471598",
     "exception": false,
     "start_time": "2022-01-17T20:47:26.417868",
     "status": "completed"
    },
    "tags": []
   },
   "outputs": [],
   "source": [
    "cmap  = palettable.scientific.sequential.Bilbao_6.mpl_colormap"
   ]
  },
  {
   "cell_type": "code",
   "execution_count": 45,
   "id": "de2b3d1c",
   "metadata": {
    "execution": {
     "iopub.execute_input": "2022-01-17T20:47:26.548272Z",
     "iopub.status.busy": "2022-01-17T20:47:26.547698Z",
     "iopub.status.idle": "2022-01-17T20:47:26.563932Z",
     "shell.execute_reply": "2022-01-17T20:47:26.563553Z"
    },
    "papermill": {
     "duration": 0.05499,
     "end_time": "2022-01-17T20:47:26.564049",
     "exception": false,
     "start_time": "2022-01-17T20:47:26.509059",
     "status": "completed"
    },
    "tags": []
   },
   "outputs": [],
   "source": [
    "cmap = plot.cmap_discretize(cmap, 6)"
   ]
  },
  {
   "cell_type": "code",
   "execution_count": 46,
   "id": "f9725a7b",
   "metadata": {
    "execution": {
     "iopub.execute_input": "2022-01-17T20:47:26.633645Z",
     "iopub.status.busy": "2022-01-17T20:47:26.633129Z",
     "iopub.status.idle": "2022-01-17T20:47:26.652347Z",
     "shell.execute_reply": "2022-01-17T20:47:26.652022Z"
    },
    "papermill": {
     "duration": 0.054877,
     "end_time": "2022-01-17T20:47:26.652451",
     "exception": false,
     "start_time": "2022-01-17T20:47:26.597574",
     "status": "completed"
    },
    "tags": []
   },
   "outputs": [
    {
     "data": {
      "image/png": "[encoded data removed]",
      "text/html": [
       "<div style=\"vertical-align: middle;\"><strong>Bilbao_6_6</strong> </div><div class=\"cmap\"><img alt=\"Bilbao_6_6 colormap\" title=\"Bilbao_6_6\" style=\"border: 1px solid #555;\" src=\"data:image/png;base64,iVBORw0KGgoAAAANSUhEUgAAAgAAAABACAYAAABsv8+/AAAAGXRFWHRUaXRsZQBCaWxiYW9fNl82IGNvbG9ybWFwVft3PgAAAB90RVh0RGVzY3JpcHRpb24AQmlsYmFvXzZfNiBjb2xvcm1hcC/TtnAAAAAwdEVYdEF1dGhvcgBNYXRwbG90bGliIHYzLjQuMiwgaHR0cHM6Ly9tYXRwbG90bGliLm9yZ6zWY90AAAAydEVYdFNvZnR3YXJlAE1hdHBsb3RsaWIgdjMuNC4yLCBodHRwczovL21hdHBsb3RsaWIub3JngnD8+gAAAVJJREFUeJzt1jEOAUAAAEH8/0MaFRKJRq1QUei84HxCXHI784ItdzvGGBt+7nLaz05Yzvt+mJ2wnM/tNTthOc/rY3bCck7H8+yEJe1mBwAA/2cAACDIAABAkAEAgCADAABBBgAAggwAAAQZAAAIMgAAEGQAACDIAABAkAEAgCADAABBBgAAggwAAAQZAAAIMgAAEGQAACDIAABAkAEAgCADAABBBgAAggwAAAQZAAAIMgAAEGQAACDIAABAkAEAgCADAABBBgAAggwAAAQZAAAIMgAAEGQAACDIAABAkAEAgCADAABBBgAAggwAAAQZAAAIMgAAEGQAACDIAABAkAEAgCADAABBBgAAggwAAAQZAAAIMgAAEGQAACDIAABAkAEAgCADAABBBgAAggwAAAQZAAAIMgAAEGQAACDIAABAkAEAgCADAABBBgAAggwAAAR9AYTAEM21njxrAAAAAElFTkSuQmCC\"></div><div style=\"vertical-align: middle; max-width: 514px; display: flex; justify-content: space-between;\"><div style=\"float: left;\"><div title=\"#ffffffff\" style=\"display: inline-block; width: 1em; height: 1em; margin: 0; vertical-align: middle; border: 1px solid #555; background-color: #ffffffff;\"></div> under</div><div style=\"margin: 0 auto; display: inline-block;\">bad <div title=\"#00000000\" style=\"display: inline-block; width: 1em; height: 1em; margin: 0; vertical-align: middle; border: 1px solid #555; background-color: #00000000;\"></div></div><div style=\"float: right;\">over <div title=\"#4d0001ff\" style=\"display: inline-block; width: 1em; height: 1em; margin: 0; vertical-align: middle; border: 1px solid #555; background-color: #4d0001ff;\"></div></div>"
      ],
      "text/plain": [
       "<matplotlib.colors.LinearSegmentedColormap at 0x7fdb962dab50>"
      ]
     },
     "execution_count": 46,
     "metadata": {},
     "output_type": "execute_result"
    }
   ],
   "source": [
    "cmap"
   ]
  },
  {
   "cell_type": "code",
   "execution_count": 47,
   "id": "188a66c5",
   "metadata": {
    "execution": {
     "iopub.execute_input": "2022-01-17T20:47:26.724209Z",
     "iopub.status.busy": "2022-01-17T20:47:26.723835Z",
     "iopub.status.idle": "2022-01-17T20:47:26.751222Z",
     "shell.execute_reply": "2022-01-17T20:47:26.751477Z"
    },
    "papermill": {
     "duration": 0.06474,
     "end_time": "2022-01-17T20:47:26.751597",
     "exception": false,
     "start_time": "2022-01-17T20:47:26.686857",
     "status": "completed"
    },
    "tags": []
   },
   "outputs": [
    {
     "data": {
      "text/html": [
       "<div><svg style=\"position: absolute; width: 0; height: 0; overflow: hidden\">\n",
       "<defs>\n",
       "<symbol id=\"icon-database\" viewBox=\"0 0 32 32\">\n",
       "<path d=\"M16 0c-8.837 0-16 2.239-16 5v4c0 2.761 7.163 5 16 5s16-2.239 16-5v-4c0-2.761-7.163-5-16-5z\"></path>\n",
       "<path d=\"M16 17c-8.837 0-16-2.239-16-5v6c0 2.761 7.163 5 16 5s16-2.239 16-5v-6c0 2.761-7.163 5-16 5z\"></path>\n",
       "<path d=\"M16 26c-8.837 0-16-2.239-16-5v6c0 2.761 7.163 5 16 5s16-2.239 16-5v-6c0 2.761-7.163 5-16 5z\"></path>\n",
       "</symbol>\n",
       "<symbol id=\"icon-file-text2\" viewBox=\"0 0 32 32\">\n",
       "<path d=\"M28.681 7.159c-0.694-0.947-1.662-2.053-2.724-3.116s-2.169-2.030-3.116-2.724c-1.612-1.182-2.393-1.319-2.841-1.319h-15.5c-1.378 0-2.5 1.121-2.5 2.5v27c0 1.378 1.122 2.5 2.5 2.5h23c1.378 0 2.5-1.122 2.5-2.5v-19.5c0-0.448-0.137-1.23-1.319-2.841zM24.543 5.457c0.959 0.959 1.712 1.825 2.268 2.543h-4.811v-4.811c0.718 0.556 1.584 1.309 2.543 2.268zM28 29.5c0 0.271-0.229 0.5-0.5 0.5h-23c-0.271 0-0.5-0.229-0.5-0.5v-27c0-0.271 0.229-0.5 0.5-0.5 0 0 15.499-0 15.5 0v7c0 0.552 0.448 1 1 1h7v19.5z\"></path>\n",
       "<path d=\"M23 26h-14c-0.552 0-1-0.448-1-1s0.448-1 1-1h14c0.552 0 1 0.448 1 1s-0.448 1-1 1z\"></path>\n",
       "<path d=\"M23 22h-14c-0.552 0-1-0.448-1-1s0.448-1 1-1h14c0.552 0 1 0.448 1 1s-0.448 1-1 1z\"></path>\n",
       "<path d=\"M23 18h-14c-0.552 0-1-0.448-1-1s0.448-1 1-1h14c0.552 0 1 0.448 1 1s-0.448 1-1 1z\"></path>\n",
       "</symbol>\n",
       "</defs>\n",
       "</svg>\n",
       "<style>/* CSS stylesheet for displaying xarray objects in jupyterlab.\n",
       " *\n",
       " */\n",
       "\n",
       ":root {\n",
       "  --xr-font-color0: var(--jp-content-font-color0, rgba(0, 0, 0, 1));\n",
       "  --xr-font-color2: var(--jp-content-font-color2, rgba(0, 0, 0, 0.54));\n",
       "  --xr-font-color3: var(--jp-content-font-color3, rgba(0, 0, 0, 0.38));\n",
       "  --xr-border-color: var(--jp-border-color2, #e0e0e0);\n",
       "  --xr-disabled-color: var(--jp-layout-color3, #bdbdbd);\n",
       "  --xr-background-color: var(--jp-layout-color0, white);\n",
       "  --xr-background-color-row-even: var(--jp-layout-color1, white);\n",
       "  --xr-background-color-row-odd: var(--jp-layout-color2, #eeeeee);\n",
       "}\n",
       "\n",
       "html[theme=dark],\n",
       "body.vscode-dark {\n",
       "  --xr-font-color0: rgba(255, 255, 255, 1);\n",
       "  --xr-font-color2: rgba(255, 255, 255, 0.54);\n",
       "  --xr-font-color3: rgba(255, 255, 255, 0.38);\n",
       "  --xr-border-color: #1F1F1F;\n",
       "  --xr-disabled-color: #515151;\n",
       "  --xr-background-color: #111111;\n",
       "  --xr-background-color-row-even: #111111;\n",
       "  --xr-background-color-row-odd: #313131;\n",
       "}\n",
       "\n",
       ".xr-wrap {\n",
       "  display: block;\n",
       "  min-width: 300px;\n",
       "  max-width: 700px;\n",
       "}\n",
       "\n",
       ".xr-text-repr-fallback {\n",
       "  /* fallback to plain text repr when CSS is not injected (untrusted notebook) */\n",
       "  display: none;\n",
       "}\n",
       "\n",
       ".xr-header {\n",
       "  padding-top: 6px;\n",
       "  padding-bottom: 6px;\n",
       "  margin-bottom: 4px;\n",
       "  border-bottom: solid 1px var(--xr-border-color);\n",
       "}\n",
       "\n",
       ".xr-header > div,\n",
       ".xr-header > ul {\n",
       "  display: inline;\n",
       "  margin-top: 0;\n",
       "  margin-bottom: 0;\n",
       "}\n",
       "\n",
       ".xr-obj-type,\n",
       ".xr-array-name {\n",
       "  margin-left: 2px;\n",
       "  margin-right: 10px;\n",
       "}\n",
       "\n",
       ".xr-obj-type {\n",
       "  color: var(--xr-font-color2);\n",
       "}\n",
       "\n",
       ".xr-sections {\n",
       "  padding-left: 0 !important;\n",
       "  display: grid;\n",
       "  grid-template-columns: 150px auto auto 1fr 20px 20px;\n",
       "}\n",
       "\n",
       ".xr-section-item {\n",
       "  display: contents;\n",
       "}\n",
       "\n",
       ".xr-section-item input {\n",
       "  display: none;\n",
       "}\n",
       "\n",
       ".xr-section-item input + label {\n",
       "  color: var(--xr-disabled-color);\n",
       "}\n",
       "\n",
       ".xr-section-item input:enabled + label {\n",
       "  cursor: pointer;\n",
       "  color: var(--xr-font-color2);\n",
       "}\n",
       "\n",
       ".xr-section-item input:enabled + label:hover {\n",
       "  color: var(--xr-font-color0);\n",
       "}\n",
       "\n",
       ".xr-section-summary {\n",
       "  grid-column: 1;\n",
       "  color: var(--xr-font-color2);\n",
       "  font-weight: 500;\n",
       "}\n",
       "\n",
       ".xr-section-summary > span {\n",
       "  display: inline-block;\n",
       "  padding-left: 0.5em;\n",
       "}\n",
       "\n",
       ".xr-section-summary-in:disabled + label {\n",
       "  color: var(--xr-font-color2);\n",
       "}\n",
       "\n",
       ".xr-section-summary-in + label:before {\n",
       "  display: inline-block;\n",
       "  content: '►';\n",
       "  font-size: 11px;\n",
       "  width: 15px;\n",
       "  text-align: center;\n",
       "}\n",
       "\n",
       ".xr-section-summary-in:disabled + label:before {\n",
       "  color: var(--xr-disabled-color);\n",
       "}\n",
       "\n",
       ".xr-section-summary-in:checked + label:before {\n",
       "  content: '▼';\n",
       "}\n",
       "\n",
       ".xr-section-summary-in:checked + label > span {\n",
       "  display: none;\n",
       "}\n",
       "\n",
       ".xr-section-summary,\n",
       ".xr-section-inline-details {\n",
       "  padding-top: 4px;\n",
       "  padding-bottom: 4px;\n",
       "}\n",
       "\n",
       ".xr-section-inline-details {\n",
       "  grid-column: 2 / -1;\n",
       "}\n",
       "\n",
       ".xr-section-details {\n",
       "  display: none;\n",
       "  grid-column: 1 / -1;\n",
       "  margin-bottom: 5px;\n",
       "}\n",
       "\n",
       ".xr-section-summary-in:checked ~ .xr-section-details {\n",
       "  display: contents;\n",
       "}\n",
       "\n",
       ".xr-array-wrap {\n",
       "  grid-column: 1 / -1;\n",
       "  display: grid;\n",
       "  grid-template-columns: 20px auto;\n",
       "}\n",
       "\n",
       ".xr-array-wrap > label {\n",
       "  grid-column: 1;\n",
       "  vertical-align: top;\n",
       "}\n",
       "\n",
       ".xr-preview {\n",
       "  color: var(--xr-font-color3);\n",
       "}\n",
       "\n",
       ".xr-array-preview,\n",
       ".xr-array-data {\n",
       "  padding: 0 5px !important;\n",
       "  grid-column: 2;\n",
       "}\n",
       "\n",
       ".xr-array-data,\n",
       ".xr-array-in:checked ~ .xr-array-preview {\n",
       "  display: none;\n",
       "}\n",
       "\n",
       ".xr-array-in:checked ~ .xr-array-data,\n",
       ".xr-array-preview {\n",
       "  display: inline-block;\n",
       "}\n",
       "\n",
       ".xr-dim-list {\n",
       "  display: inline-block !important;\n",
       "  list-style: none;\n",
       "  padding: 0 !important;\n",
       "  margin: 0;\n",
       "}\n",
       "\n",
       ".xr-dim-list li {\n",
       "  display: inline-block;\n",
       "  padding: 0;\n",
       "  margin: 0;\n",
       "}\n",
       "\n",
       ".xr-dim-list:before {\n",
       "  content: '(';\n",
       "}\n",
       "\n",
       ".xr-dim-list:after {\n",
       "  content: ')';\n",
       "}\n",
       "\n",
       ".xr-dim-list li:not(:last-child):after {\n",
       "  content: ',';\n",
       "  padding-right: 5px;\n",
       "}\n",
       "\n",
       ".xr-has-index {\n",
       "  font-weight: bold;\n",
       "}\n",
       "\n",
       ".xr-var-list,\n",
       ".xr-var-item {\n",
       "  display: contents;\n",
       "}\n",
       "\n",
       ".xr-var-item > div,\n",
       ".xr-var-item label,\n",
       ".xr-var-item > .xr-var-name span {\n",
       "  background-color: var(--xr-background-color-row-even);\n",
       "  margin-bottom: 0;\n",
       "}\n",
       "\n",
       ".xr-var-item > .xr-var-name:hover span {\n",
       "  padding-right: 5px;\n",
       "}\n",
       "\n",
       ".xr-var-list > li:nth-child(odd) > div,\n",
       ".xr-var-list > li:nth-child(odd) > label,\n",
       ".xr-var-list > li:nth-child(odd) > .xr-var-name span {\n",
       "  background-color: var(--xr-background-color-row-odd);\n",
       "}\n",
       "\n",
       ".xr-var-name {\n",
       "  grid-column: 1;\n",
       "}\n",
       "\n",
       ".xr-var-dims {\n",
       "  grid-column: 2;\n",
       "}\n",
       "\n",
       ".xr-var-dtype {\n",
       "  grid-column: 3;\n",
       "  text-align: right;\n",
       "  color: var(--xr-font-color2);\n",
       "}\n",
       "\n",
       ".xr-var-preview {\n",
       "  grid-column: 4;\n",
       "}\n",
       "\n",
       ".xr-var-name,\n",
       ".xr-var-dims,\n",
       ".xr-var-dtype,\n",
       ".xr-preview,\n",
       ".xr-attrs dt {\n",
       "  white-space: nowrap;\n",
       "  overflow: hidden;\n",
       "  text-overflow: ellipsis;\n",
       "  padding-right: 10px;\n",
       "}\n",
       "\n",
       ".xr-var-name:hover,\n",
       ".xr-var-dims:hover,\n",
       ".xr-var-dtype:hover,\n",
       ".xr-attrs dt:hover {\n",
       "  overflow: visible;\n",
       "  width: auto;\n",
       "  z-index: 1;\n",
       "}\n",
       "\n",
       ".xr-var-attrs,\n",
       ".xr-var-data {\n",
       "  display: none;\n",
       "  background-color: var(--xr-background-color) !important;\n",
       "  padding-bottom: 5px !important;\n",
       "}\n",
       "\n",
       ".xr-var-attrs-in:checked ~ .xr-var-attrs,\n",
       ".xr-var-data-in:checked ~ .xr-var-data {\n",
       "  display: block;\n",
       "}\n",
       "\n",
       ".xr-var-data > table {\n",
       "  float: right;\n",
       "}\n",
       "\n",
       ".xr-var-name span,\n",
       ".xr-var-data,\n",
       ".xr-attrs {\n",
       "  padding-left: 25px !important;\n",
       "}\n",
       "\n",
       ".xr-attrs,\n",
       ".xr-var-attrs,\n",
       ".xr-var-data {\n",
       "  grid-column: 1 / -1;\n",
       "}\n",
       "\n",
       "dl.xr-attrs {\n",
       "  padding: 0;\n",
       "  margin: 0;\n",
       "  display: grid;\n",
       "  grid-template-columns: 125px auto;\n",
       "}\n",
       "\n",
       ".xr-attrs dt,\n",
       ".xr-attrs dd {\n",
       "  padding: 0;\n",
       "  margin: 0;\n",
       "  float: left;\n",
       "  padding-right: 10px;\n",
       "  width: auto;\n",
       "}\n",
       "\n",
       ".xr-attrs dt {\n",
       "  font-weight: normal;\n",
       "  grid-column: 1;\n",
       "}\n",
       "\n",
       ".xr-attrs dt:hover span {\n",
       "  display: inline-block;\n",
       "  background: var(--xr-background-color);\n",
       "  padding-right: 10px;\n",
       "}\n",
       "\n",
       ".xr-attrs dd {\n",
       "  grid-column: 2;\n",
       "  white-space: pre-wrap;\n",
       "  word-break: break-all;\n",
       "}\n",
       "\n",
       ".xr-icon-database,\n",
       ".xr-icon-file-text2 {\n",
       "  display: inline-block;\n",
       "  vertical-align: middle;\n",
       "  width: 1em;\n",
       "  height: 1.5em !important;\n",
       "  stroke-width: 0;\n",
       "  stroke: currentColor;\n",
       "  fill: currentColor;\n",
       "}\n",
       "</style><pre class='xr-text-repr-fallback'>&lt;xarray.Dataset&gt;\n",
       "Dimensions:     (time: 1, step: 3, percentile: 21, lon: 726, lat: 486)\n",
       "Coordinates:\n",
       "  * time        (time) datetime64[ns] 2022-01-01\n",
       "  * step        (step) int64 3 4 5\n",
       "    month       int64 1\n",
       "  * percentile  (percentile) int64 1 2 3 4 5 6 7 8 9 ... 14 15 16 17 18 19 20 21\n",
       "  * lon         (lon) float64 120.0 120.2 120.3 120.5 ... 239.7 239.8 240.0\n",
       "  * lat         (lat) float64 -50.0 -49.84 -49.67 -49.51 ... 29.67 29.84 30.0\n",
       "Data variables:\n",
       "    precip      (percentile, time, step, lat, lon) float64 dask.array&lt;chunksize=(21, 1, 3, 486, 726), meta=np.ndarray&gt;\n",
       "Attributes:\n",
       "    pct_values:  [0.02 0.05 0.1  0.15 0.2  0.25 0.3  0.35 0.4  0.45 0.5  0.55...\n",
       "    period:      seasonal</pre><div class='xr-wrap' hidden><div class='xr-header'><div class='xr-obj-type'>xarray.Dataset</div></div><ul class='xr-sections'><li class='xr-section-item'><input id='section-621902fe-b5ab-4cee-9478-fd942b516054' class='xr-section-summary-in' type='checkbox' disabled ><label for='section-621902fe-b5ab-4cee-9478-fd942b516054' class='xr-section-summary'  title='Expand/collapse section'>Dimensions:</label><div class='xr-section-inline-details'><ul class='xr-dim-list'><li><span class='xr-has-index'>time</span>: 1</li><li><span class='xr-has-index'>step</span>: 3</li><li><span class='xr-has-index'>percentile</span>: 21</li><li><span class='xr-has-index'>lon</span>: 726</li><li><span class='xr-has-index'>lat</span>: 486</li></ul></div><div class='xr-section-details'></div></li><li class='xr-section-item'><input id='section-7dd74c9c-aeef-4680-9364-151bd5ae45e7' class='xr-section-summary-in' type='checkbox'  checked><label for='section-7dd74c9c-aeef-4680-9364-151bd5ae45e7' class='xr-section-summary' >Coordinates: <span>(6)</span></label><div class='xr-section-inline-details'></div><div class='xr-section-details'><ul class='xr-var-list'><li class='xr-var-item'><div class='xr-var-name'><span class='xr-has-index'>time</span></div><div class='xr-var-dims'>(time)</div><div class='xr-var-dtype'>datetime64[ns]</div><div class='xr-var-preview xr-preview'>2022-01-01</div><input id='attrs-dbda9347-87d3-4709-8c7a-a7b1080401c3' class='xr-var-attrs-in' type='checkbox' disabled><label for='attrs-dbda9347-87d3-4709-8c7a-a7b1080401c3' title='Show/Hide attributes'><svg class='icon xr-icon-file-text2'><use xlink:href='#icon-file-text2'></use></svg></label><input id='data-7d401fd9-76c5-42e7-a420-5bf365cec4b2' class='xr-var-data-in' type='checkbox'><label for='data-7d401fd9-76c5-42e7-a420-5bf365cec4b2' title='Show/Hide data repr'><svg class='icon xr-icon-database'><use xlink:href='#icon-database'></use></svg></label><div class='xr-var-attrs'><dl class='xr-attrs'></dl></div><div class='xr-var-data'><pre>array([&#x27;2022-01-01T00:00:00.000000000&#x27;], dtype=&#x27;datetime64[ns]&#x27;)</pre></div></li><li class='xr-var-item'><div class='xr-var-name'><span class='xr-has-index'>step</span></div><div class='xr-var-dims'>(step)</div><div class='xr-var-dtype'>int64</div><div class='xr-var-preview xr-preview'>3 4 5</div><input id='attrs-adc7530e-15b5-4fb8-8aeb-1eb24fe8d659' class='xr-var-attrs-in' type='checkbox' disabled><label for='attrs-adc7530e-15b5-4fb8-8aeb-1eb24fe8d659' title='Show/Hide attributes'><svg class='icon xr-icon-file-text2'><use xlink:href='#icon-file-text2'></use></svg></label><input id='data-ada31453-e7b5-41d5-83f1-05803d965ff1' class='xr-var-data-in' type='checkbox'><label for='data-ada31453-e7b5-41d5-83f1-05803d965ff1' title='Show/Hide data repr'><svg class='icon xr-icon-database'><use xlink:href='#icon-database'></use></svg></label><div class='xr-var-attrs'><dl class='xr-attrs'></dl></div><div class='xr-var-data'><pre>array([3, 4, 5])</pre></div></li><li class='xr-var-item'><div class='xr-var-name'><span>month</span></div><div class='xr-var-dims'>()</div><div class='xr-var-dtype'>int64</div><div class='xr-var-preview xr-preview'>1</div><input id='attrs-fc6a16d1-1dd6-4392-bb90-926d424d471c' class='xr-var-attrs-in' type='checkbox' disabled><label for='attrs-fc6a16d1-1dd6-4392-bb90-926d424d471c' title='Show/Hide attributes'><svg class='icon xr-icon-file-text2'><use xlink:href='#icon-file-text2'></use></svg></label><input id='data-34e87382-6479-4fc3-90dd-42b1e73ce7b7' class='xr-var-data-in' type='checkbox'><label for='data-34e87382-6479-4fc3-90dd-42b1e73ce7b7' title='Show/Hide data repr'><svg class='icon xr-icon-database'><use xlink:href='#icon-database'></use></svg></label><div class='xr-var-attrs'><dl class='xr-attrs'></dl></div><div class='xr-var-data'><pre>array(1)</pre></div></li><li class='xr-var-item'><div class='xr-var-name'><span class='xr-has-index'>percentile</span></div><div class='xr-var-dims'>(percentile)</div><div class='xr-var-dtype'>int64</div><div class='xr-var-preview xr-preview'>1 2 3 4 5 6 7 ... 16 17 18 19 20 21</div><input id='attrs-0bee8ebf-612d-424e-8a2b-a41280ebd689' class='xr-var-attrs-in' type='checkbox' disabled><label for='attrs-0bee8ebf-612d-424e-8a2b-a41280ebd689' title='Show/Hide attributes'><svg class='icon xr-icon-file-text2'><use xlink:href='#icon-file-text2'></use></svg></label><input id='data-89542a25-37cf-4957-b134-749c0f0fbdcd' class='xr-var-data-in' type='checkbox'><label for='data-89542a25-37cf-4957-b134-749c0f0fbdcd' title='Show/Hide data repr'><svg class='icon xr-icon-database'><use xlink:href='#icon-database'></use></svg></label><div class='xr-var-attrs'><dl class='xr-attrs'></dl></div><div class='xr-var-data'><pre>array([ 1,  2,  3,  4,  5,  6,  7,  8,  9, 10, 11, 12, 13, 14, 15, 16, 17, 18,\n",
       "       19, 20, 21])</pre></div></li><li class='xr-var-item'><div class='xr-var-name'><span class='xr-has-index'>lon</span></div><div class='xr-var-dims'>(lon)</div><div class='xr-var-dtype'>float64</div><div class='xr-var-preview xr-preview'>120.0 120.2 120.3 ... 239.8 240.0</div><input id='attrs-de3fc336-f604-446d-9a7a-32dc3da69323' class='xr-var-attrs-in' type='checkbox' disabled><label for='attrs-de3fc336-f604-446d-9a7a-32dc3da69323' title='Show/Hide attributes'><svg class='icon xr-icon-file-text2'><use xlink:href='#icon-file-text2'></use></svg></label><input id='data-a456635d-3643-4b3c-aee8-a7e07cc749e1' class='xr-var-data-in' type='checkbox'><label for='data-a456635d-3643-4b3c-aee8-a7e07cc749e1' title='Show/Hide data repr'><svg class='icon xr-icon-database'><use xlink:href='#icon-database'></use></svg></label><div class='xr-var-attrs'><dl class='xr-attrs'></dl></div><div class='xr-var-data'><pre>array([120.      , 120.165517, 120.331034, ..., 239.668966, 239.834483,\n",
       "       240.      ])</pre></div></li><li class='xr-var-item'><div class='xr-var-name'><span class='xr-has-index'>lat</span></div><div class='xr-var-dims'>(lat)</div><div class='xr-var-dtype'>float64</div><div class='xr-var-preview xr-preview'>-50.0 -49.84 -49.67 ... 29.84 30.0</div><input id='attrs-76548249-d7ef-4f22-84c2-f6d41b100422' class='xr-var-attrs-in' type='checkbox' disabled><label for='attrs-76548249-d7ef-4f22-84c2-f6d41b100422' title='Show/Hide attributes'><svg class='icon xr-icon-file-text2'><use xlink:href='#icon-file-text2'></use></svg></label><input id='data-61db367d-acfd-4a93-9c0f-ac942249ab0f' class='xr-var-data-in' type='checkbox'><label for='data-61db367d-acfd-4a93-9c0f-ac942249ab0f' title='Show/Hide data repr'><svg class='icon xr-icon-database'><use xlink:href='#icon-database'></use></svg></label><div class='xr-var-attrs'><dl class='xr-attrs'></dl></div><div class='xr-var-data'><pre>array([-50.      , -49.835052, -49.670103, ...,  29.670103,  29.835052,\n",
       "        30.      ])</pre></div></li></ul></div></li><li class='xr-section-item'><input id='section-3b0b8037-7291-44fb-bf34-c3e7489983e4' class='xr-section-summary-in' type='checkbox'  checked><label for='section-3b0b8037-7291-44fb-bf34-c3e7489983e4' class='xr-section-summary' >Data variables: <span>(1)</span></label><div class='xr-section-inline-details'></div><div class='xr-section-details'><ul class='xr-var-list'><li class='xr-var-item'><div class='xr-var-name'><span>precip</span></div><div class='xr-var-dims'>(percentile, time, step, lat, lon)</div><div class='xr-var-dtype'>float64</div><div class='xr-var-preview xr-preview'>dask.array&lt;chunksize=(21, 1, 3, 486, 726), meta=np.ndarray&gt;</div><input id='attrs-fda353f2-193c-4a3c-a269-a757dc645efd' class='xr-var-attrs-in' type='checkbox' disabled><label for='attrs-fda353f2-193c-4a3c-a269-a757dc645efd' title='Show/Hide attributes'><svg class='icon xr-icon-file-text2'><use xlink:href='#icon-file-text2'></use></svg></label><input id='data-adb6e530-f414-4ce2-8e56-3b55e5207657' class='xr-var-data-in' type='checkbox'><label for='data-adb6e530-f414-4ce2-8e56-3b55e5207657' title='Show/Hide data repr'><svg class='icon xr-icon-database'><use xlink:href='#icon-database'></use></svg></label><div class='xr-var-attrs'><dl class='xr-attrs'></dl></div><div class='xr-var-data'><table>\n",
       "    <tr>\n",
       "        <td>\n",
       "            <table>\n",
       "                <thead>\n",
       "                    <tr>\n",
       "                        <td> </td>\n",
       "                        <th> Array </th>\n",
       "                        <th> Chunk </th>\n",
       "                    </tr>\n",
       "                </thead>\n",
       "                <tbody>\n",
       "                    \n",
       "                    <tr>\n",
       "                        <th> Bytes </th>\n",
       "                        <td> 169.59 MiB </td>\n",
       "                        <td> 169.59 MiB </td>\n",
       "                    </tr>\n",
       "                    \n",
       "                    <tr>\n",
       "                        <th> Shape </th>\n",
       "                        <td> (21, 1, 3, 486, 726) </td>\n",
       "                        <td> (21, 1, 3, 486, 726) </td>\n",
       "                    </tr>\n",
       "                    <tr>\n",
       "                        <th> Count </th>\n",
       "                        <td> 91 Tasks </td>\n",
       "                        <td> 1 Chunks </td>\n",
       "                    </tr>\n",
       "                    <tr>\n",
       "                    <th> Type </th>\n",
       "                    <td> float64 </td>\n",
       "                    <td> numpy.ndarray </td>\n",
       "                    </tr>\n",
       "                </tbody>\n",
       "            </table>\n",
       "        </td>\n",
       "        <td>\n",
       "        <svg width=\"374\" height=\"145\" style=\"stroke:rgb(0,0,0);stroke-width:1\" >\n",
       "\n",
       "  <!-- Horizontal lines -->\n",
       "  <line x1=\"0\" y1=\"0\" x2=\"25\" y2=\"0\" style=\"stroke-width:2\" />\n",
       "  <line x1=\"0\" y1=\"31\" x2=\"25\" y2=\"31\" style=\"stroke-width:2\" />\n",
       "\n",
       "  <!-- Vertical lines -->\n",
       "  <line x1=\"0\" y1=\"0\" x2=\"0\" y2=\"31\" style=\"stroke-width:2\" />\n",
       "  <line x1=\"25\" y1=\"0\" x2=\"25\" y2=\"31\" style=\"stroke-width:2\" />\n",
       "\n",
       "  <!-- Colored Rectangle -->\n",
       "  <polygon points=\"0.0,0.0 25.412616514582485,0.0 25.412616514582485,31.17255961645133 0.0,31.17255961645133\" style=\"fill:#ECB172A0;stroke-width:0\"/>\n",
       "\n",
       "  <!-- Text -->\n",
       "  <text x=\"12.706308\" y=\"51.172560\" font-size=\"1.0rem\" font-weight=\"100\" text-anchor=\"middle\" >1</text>\n",
       "  <text x=\"45.412617\" y=\"15.586280\" font-size=\"1.0rem\" font-weight=\"100\" text-anchor=\"middle\" transform=\"rotate(0,45.412617,15.586280)\">21</text>\n",
       "\n",
       "\n",
       "  <!-- Horizontal lines -->\n",
       "  <line x1=\"95\" y1=\"0\" x2=\"109\" y2=\"14\" style=\"stroke-width:2\" />\n",
       "  <line x1=\"95\" y1=\"80\" x2=\"109\" y2=\"95\" style=\"stroke-width:2\" />\n",
       "\n",
       "  <!-- Vertical lines -->\n",
       "  <line x1=\"95\" y1=\"0\" x2=\"95\" y2=\"80\" style=\"stroke-width:2\" />\n",
       "  <line x1=\"109\" y1=\"14\" x2=\"109\" y2=\"95\" style=\"stroke-width:2\" />\n",
       "\n",
       "  <!-- Colored Rectangle -->\n",
       "  <polygon points=\"95.0,0.0 109.9485979497544,14.948597949754403 109.9485979497544,95.2791764621511 95.0,80.3305785123967\" style=\"fill:#ECB172A0;stroke-width:0\"/>\n",
       "\n",
       "  <!-- Horizontal lines -->\n",
       "  <line x1=\"95\" y1=\"0\" x2=\"215\" y2=\"0\" style=\"stroke-width:2\" />\n",
       "  <line x1=\"109\" y1=\"14\" x2=\"229\" y2=\"14\" style=\"stroke-width:2\" />\n",
       "\n",
       "  <!-- Vertical lines -->\n",
       "  <line x1=\"95\" y1=\"0\" x2=\"109\" y2=\"14\" style=\"stroke-width:2\" />\n",
       "  <line x1=\"215\" y1=\"0\" x2=\"229\" y2=\"14\" style=\"stroke-width:2\" />\n",
       "\n",
       "  <!-- Colored Rectangle -->\n",
       "  <polygon points=\"95.0,0.0 215.0,0.0 229.9485979497544,14.948597949754403 109.9485979497544,14.948597949754403\" style=\"fill:#ECB172A0;stroke-width:0\"/>\n",
       "\n",
       "  <!-- Horizontal lines -->\n",
       "  <line x1=\"109\" y1=\"14\" x2=\"229\" y2=\"14\" style=\"stroke-width:2\" />\n",
       "  <line x1=\"109\" y1=\"95\" x2=\"229\" y2=\"95\" style=\"stroke-width:2\" />\n",
       "\n",
       "  <!-- Vertical lines -->\n",
       "  <line x1=\"109\" y1=\"14\" x2=\"109\" y2=\"95\" style=\"stroke-width:2\" />\n",
       "  <line x1=\"229\" y1=\"14\" x2=\"229\" y2=\"95\" style=\"stroke-width:2\" />\n",
       "\n",
       "  <!-- Colored Rectangle -->\n",
       "  <polygon points=\"109.9485979497544,14.948597949754403 229.9485979497544,14.948597949754403 229.9485979497544,95.2791764621511 109.9485979497544,95.2791764621511\" style=\"fill:#ECB172A0;stroke-width:0\"/>\n",
       "\n",
       "  <!-- Text -->\n",
       "  <text x=\"169.948598\" y=\"115.279176\" font-size=\"1.0rem\" font-weight=\"100\" text-anchor=\"middle\" >726</text>\n",
       "  <text x=\"249.948598\" y=\"55.113887\" font-size=\"1.0rem\" font-weight=\"100\" text-anchor=\"middle\" transform=\"rotate(-90,249.948598,55.113887)\">486</text>\n",
       "  <text x=\"92.474299\" y=\"107.804877\" font-size=\"1.0rem\" font-weight=\"100\" text-anchor=\"middle\" transform=\"rotate(45,92.474299,107.804877)\">3</text>\n",
       "</svg>\n",
       "        </td>\n",
       "    </tr>\n",
       "</table></div></li></ul></div></li><li class='xr-section-item'><input id='section-9ce76fd8-c1a5-4806-8a13-cb478662a835' class='xr-section-summary-in' type='checkbox'  checked><label for='section-9ce76fd8-c1a5-4806-8a13-cb478662a835' class='xr-section-summary' >Attributes: <span>(2)</span></label><div class='xr-section-inline-details'></div><div class='xr-section-details'><dl class='xr-attrs'><dt><span>pct_values :</span></dt><dd>[0.02 0.05 0.1  0.15 0.2  0.25 0.3  0.35 0.4  0.45 0.5  0.55 0.6  0.65\n",
       " 0.7  0.75 0.8  0.85 0.9  0.95]</dd><dt><span>period :</span></dt><dd>seasonal</dd></dl></div></li></ul></div></div>"
      ],
      "text/plain": [
       "<xarray.Dataset>\n",
       "Dimensions:     (time: 1, step: 3, percentile: 21, lon: 726, lat: 486)\n",
       "Coordinates:\n",
       "  * time        (time) datetime64[ns] 2022-01-01\n",
       "  * step        (step) int64 3 4 5\n",
       "    month       int64 1\n",
       "  * percentile  (percentile) int64 1 2 3 4 5 6 7 8 9 ... 14 15 16 17 18 19 20 21\n",
       "  * lon         (lon) float64 120.0 120.2 120.3 120.5 ... 239.7 239.8 240.0\n",
       "  * lat         (lat) float64 -50.0 -49.84 -49.67 -49.51 ... 29.67 29.84 30.0\n",
       "Data variables:\n",
       "    precip      (percentile, time, step, lat, lon) float64 dask.array<chunksize=(21, 1, 3, 486, 726), meta=np.ndarray>\n",
       "Attributes:\n",
       "    pct_values:  [0.02 0.05 0.1  0.15 0.2  0.25 0.3  0.35 0.4  0.45 0.5  0.55...\n",
       "    period:      seasonal"
      ]
     },
     "execution_count": 47,
     "metadata": {},
     "output_type": "execute_result"
    }
   ],
   "source": [
    "probs_mean"
   ]
  },
  {
   "cell_type": "code",
   "execution_count": 48,
   "id": "9493a411",
   "metadata": {
    "execution": {
     "iopub.execute_input": "2022-01-17T20:47:26.823567Z",
     "iopub.status.busy": "2022-01-17T20:47:26.823216Z",
     "iopub.status.idle": "2022-01-17T20:47:45.987068Z",
     "shell.execute_reply": "2022-01-17T20:47:45.986722Z"
    },
    "papermill": {
     "duration": 19.200508,
     "end_time": "2022-01-17T20:47:45.987168",
     "exception": false,
     "start_time": "2022-01-17T20:47:26.786660",
     "status": "completed"
    },
    "tags": []
   },
   "outputs": [
    {
     "data": {
      "text/plain": [
       "<xarray.plot.facetgrid.FacetGrid at 0x7fdb96668310>"
      ]
     },
     "execution_count": 48,
     "metadata": {},
     "output_type": "execute_result"
    },
    {
     "data": {
      "image/png": "[encoded data removed]",
      "text/plain": [
       "<Figure size 720x216 with 4 Axes>"
      ]
     },
     "metadata": {
      "needs_background": "light"
     },
     "output_type": "display_data"
    }
   ],
   "source": [
    "probs_mean.isel(percentile=slice(None, 10)).sum('percentile')['precip'].squeeze().plot.contourf(col='step', levels=20)"
   ]
  },
  {
   "cell_type": "code",
   "execution_count": 49,
   "id": "e9928eef",
   "metadata": {
    "execution": {
     "iopub.execute_input": "2022-01-17T20:47:46.060054Z",
     "iopub.status.busy": "2022-01-17T20:47:46.059510Z",
     "iopub.status.idle": "2022-01-17T20:47:55.588891Z",
     "shell.execute_reply": "2022-01-17T20:47:55.589168Z"
    },
    "papermill": {
     "duration": 9.56682,
     "end_time": "2022-01-17T20:47:55.589286",
     "exception": false,
     "start_time": "2022-01-17T20:47:46.022466",
     "status": "completed"
    },
    "tags": []
   },
   "outputs": [
    {
     "data": {
      "image/png": "[encoded data removed]",
      "text/plain": [
       "<Figure size 1008x576 with 1 Axes>"
      ]
     },
     "metadata": {},
     "output_type": "display_data"
    }
   ],
   "source": [
    "plot.map_MME_forecast(probs_mean, step=step, pct=25, mask=merged_EEZs, geoms=EEZs, fpath=fpath, close=False, domain=domain)"
   ]
  },
  {
   "cell_type": "code",
   "execution_count": 50,
   "id": "4f21856c-aee4-4890-9b8d-d822d8c8c65d",
   "metadata": {
    "execution": {
     "iopub.execute_input": "2022-01-17T20:47:55.672435Z",
     "iopub.status.busy": "2022-01-17T20:47:55.672048Z",
     "iopub.status.idle": "2022-01-17T20:47:55.688475Z",
     "shell.execute_reply": "2022-01-17T20:47:55.688114Z"
    },
    "papermill": {
     "duration": 0.056636,
     "end_time": "2022-01-17T20:47:55.688578",
     "exception": false,
     "start_time": "2022-01-17T20:47:55.631942",
     "status": "completed"
    },
    "tags": []
   },
   "outputs": [],
   "source": [
    "fname = f\"C3S_MME_{pmax}prob_{period}_lead{lead}_latest.png\""
   ]
  },
  {
   "cell_type": "code",
   "execution_count": 51,
   "id": "4481f7bb-3777-42bd-bd35-8fa5be096bf4",
   "metadata": {
    "execution": {
     "iopub.execute_input": "2022-01-17T20:47:55.766406Z",
     "iopub.status.busy": "2022-01-17T20:47:55.766056Z",
     "iopub.status.idle": "2022-01-17T20:48:04.787363Z",
     "shell.execute_reply": "2022-01-17T20:48:04.787638Z"
    },
    "papermill": {
     "duration": 9.06116,
     "end_time": "2022-01-17T20:48:04.787753",
     "exception": false,
     "start_time": "2022-01-17T20:47:55.726593",
     "status": "completed"
    },
    "tags": []
   },
   "outputs": [
    {
     "data": {
      "image/png": "[encoded data removed]",
      "text/plain": [
       "<Figure size 1008x576 with 1 Axes>"
      ]
     },
     "metadata": {},
     "output_type": "display_data"
    }
   ],
   "source": [
    "plot.map_MME_forecast(probs_mean, step=step, pct=25, mask=merged_EEZs, geoms=EEZs, fpath=fpath_web, fname=fname, close=False, domain=domain)"
   ]
  },
  {
   "cell_type": "code",
   "execution_count": null,
   "id": "619b5190-eaf7-40d2-afd2-fe7607c83e20",
   "metadata": {
    "papermill": {
     "duration": 0.041103,
     "end_time": "2022-01-17T20:48:04.869482",
     "exception": false,
     "start_time": "2022-01-17T20:48:04.828379",
     "status": "completed"
    },
    "tags": []
   },
   "outputs": [],
   "source": []
  }
 ],
 "metadata": {
  "interpreter": {
   "hash": "df53d632f991ae6da976d69f0a13fc423563be07cde77240b1fc66d1fa832155"
  },
  "kernelspec": {
   "display_name": "Python 3",
   "language": "python",
   "name": "python3"
  },
  "language_info": {
   "codemirror_mode": {
    "name": "ipython",
    "version": 3
   },
   "file_extension": ".py",
   "mimetype": "text/x-python",
   "name": "python",
   "nbconvert_exporter": "python",
   "pygments_lexer": "ipython3",
   "version": "3.8.10"
  },
  "papermill": {
   "default_parameters": {},
   "duration": 106.146532,
   "end_time": "2022-01-17T20:48:06.244946",
   "environment_variables": {},
   "exception": null,
   "input_path": "/home/nicolasf/operational/ICU/development/hotspots/code/ICU_Water_Watch/notebooks/C3S/5_map_C3S_MME_probabilistic_percentile_forecast.ipynb",
   "output_path": "/home/nicolasf/operational/ICU/development/hotspots/code/ICU_Water_Watch/notebooks/C3S/5_map_C3S_MME_probabilistic_percentile_forecast.ipynb",
   "parameters": {
    "date": "this month",
    "lead": 3,
    "period": "seasonal"
   },
   "start_time": "2022-01-17T20:46:20.098414",
   "version": "2.3.3"
  }
 },
 "nbformat": 4,
 "nbformat_minor": 5
}