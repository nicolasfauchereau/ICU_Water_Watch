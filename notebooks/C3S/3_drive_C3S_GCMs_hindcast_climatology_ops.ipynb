{
 "cells": [
  {
   "cell_type": "code",
   "execution_count": 1,
   "id": "d49f0922-ca7a-4e5b-934f-ac80bfd083bd",
   "metadata": {},
   "outputs": [],
   "source": [
    "import sys \n",
    "import os "
   ]
  },
  {
   "cell_type": "code",
   "execution_count": 2,
   "id": "b0644475-59b3-4f18-a3e4-3950401ebaa0",
   "metadata": {},
   "outputs": [
    {
     "data": {
      "text/plain": [
       "'/home/nicolasf/mambaforge/envs/climetlab/bin/python'"
      ]
     },
     "execution_count": 2,
     "metadata": {},
     "output_type": "execute_result"
    }
   ],
   "source": [
    "sys.executable"
   ]
  },
  {
   "cell_type": "code",
   "execution_count": 3,
   "id": "744551d6-1748-4768-9ad8-b6a6d0acac46",
   "metadata": {},
   "outputs": [],
   "source": [
    "import pathlib\n",
    "\n",
    "HOME = pathlib.Path.home()\n",
    "CWD = pathlib.Path.cwd() "
   ]
  },
  {
   "cell_type": "code",
   "execution_count": 4,
   "id": "36e2f198-3ae3-4ba6-b1ce-0ab4d1df8f7c",
   "metadata": {},
   "outputs": [
    {
     "name": "stderr",
     "output_type": "stream",
     "text": [
      "/home/nicolasf/mambaforge/envs/climetlab/lib/python3.8/site-packages/papermill/iorw.py:50: FutureWarning: pyarrow.HadoopFileSystem is deprecated as of 2.0.0, please use pyarrow.fs.HadoopFileSystem instead.\n",
      "  from pyarrow import HadoopFileSystem\n"
     ]
    }
   ],
   "source": [
    "import papermill as pm"
   ]
  },
  {
   "cell_type": "code",
   "execution_count": 5,
   "id": "21083e02-33a9-4c87-b491-6a1a42c7acaa",
   "metadata": {},
   "outputs": [],
   "source": [
    "notebook_name = 'GCMs_hindcast_climatology_ops.ipynb'"
   ]
  },
  {
   "cell_type": "code",
   "execution_count": 6,
   "id": "8e32a931-47aa-4d8a-957b-f5ef1739cbe2",
   "metadata": {},
   "outputs": [],
   "source": [
    "GCMs = ['ECMWF', 'UKMO', 'METEO_FRANCE', 'DWD', 'CMCC', 'NCEP', 'JMA','ECCC']"
   ]
  },
  {
   "cell_type": "code",
   "execution_count": 7,
   "id": "eb18b2a4-fe4a-430b-bda9-6a593159648d",
   "metadata": {},
   "outputs": [],
   "source": [
    "periods = ['monthly', 'seasonal']"
   ]
  },
  {
   "cell_type": "code",
   "execution_count": null,
   "id": "10fbf12c-20d8-44a8-9d72-81bbd5ebe70f",
   "metadata": {},
   "outputs": [],
   "source": [
    "lags = [0]"
   ]
  },
  {
   "cell_type": "code",
   "execution_count": 8,
   "id": "58c63279-576b-4be3-b446-5b50e285e8d4",
   "metadata": {},
   "outputs": [
    {
     "name": "stdout",
     "output_type": "stream",
     "text": [
      "executing GCMs_hindcast_climatology_ops.ipynb for GCM ECMWF, period seasonal, lag 0\n"
     ]
    },
    {
     "data": {
      "application/vnd.jupyter.widget-view+json": {
       "model_id": "51b76734096a4a56bf75fb65e2e97757",
       "version_major": 2,
       "version_minor": 0
      },
      "text/plain": [
       "Executing:   0%|          | 0/71 [00:00<?, ?cell/s]"
      ]
     },
     "metadata": {},
     "output_type": "display_data"
    },
    {
     "name": "stdout",
     "output_type": "stream",
     "text": [
      "executing GCMs_hindcast_climatology_ops.ipynb for GCM UKMO, period seasonal, lag 0\n"
     ]
    },
    {
     "data": {
      "application/vnd.jupyter.widget-view+json": {
       "model_id": "fc277e4cc02e4f419c6bdc33ee98ea72",
       "version_major": 2,
       "version_minor": 0
      },
      "text/plain": [
       "Executing:   0%|          | 0/71 [00:00<?, ?cell/s]"
      ]
     },
     "metadata": {},
     "output_type": "display_data"
    },
    {
     "name": "stdout",
     "output_type": "stream",
     "text": [
      "executing GCMs_hindcast_climatology_ops.ipynb for GCM METEO_FRANCE, period seasonal, lag 0\n"
     ]
    },
    {
     "data": {
      "application/vnd.jupyter.widget-view+json": {
       "model_id": "a19538744f10462eb47c917ee9efa945",
       "version_major": 2,
       "version_minor": 0
      },
      "text/plain": [
       "Executing:   0%|          | 0/71 [00:00<?, ?cell/s]"
      ]
     },
     "metadata": {},
     "output_type": "display_data"
    },
    {
     "name": "stdout",
     "output_type": "stream",
     "text": [
      "executing GCMs_hindcast_climatology_ops.ipynb for GCM DWD, period seasonal, lag 0\n"
     ]
    },
    {
     "data": {
      "application/vnd.jupyter.widget-view+json": {
       "model_id": "d3139871e2504bcd848a2a7791d4dbe7",
       "version_major": 2,
       "version_minor": 0
      },
      "text/plain": [
       "Executing:   0%|          | 0/71 [00:00<?, ?cell/s]"
      ]
     },
     "metadata": {},
     "output_type": "display_data"
    },
    {
     "name": "stdout",
     "output_type": "stream",
     "text": [
      "executing GCMs_hindcast_climatology_ops.ipynb for GCM CMCC, period seasonal, lag 0\n"
     ]
    },
    {
     "data": {
      "application/vnd.jupyter.widget-view+json": {
       "model_id": "63cfc4d3e93b465ca3d7b5df9eb173d5",
       "version_major": 2,
       "version_minor": 0
      },
      "text/plain": [
       "Executing:   0%|          | 0/71 [00:00<?, ?cell/s]"
      ]
     },
     "metadata": {},
     "output_type": "display_data"
    },
    {
     "name": "stdout",
     "output_type": "stream",
     "text": [
      "executing GCMs_hindcast_climatology_ops.ipynb for GCM NCEP, period seasonal, lag 0\n"
     ]
    },
    {
     "data": {
      "application/vnd.jupyter.widget-view+json": {
       "model_id": "9c23fb7cbaef45009bf66d301c6f0614",
       "version_major": 2,
       "version_minor": 0
      },
      "text/plain": [
       "Executing:   0%|          | 0/71 [00:00<?, ?cell/s]"
      ]
     },
     "metadata": {},
     "output_type": "display_data"
    },
    {
     "name": "stdout",
     "output_type": "stream",
     "text": [
      "executing GCMs_hindcast_climatology_ops.ipynb for GCM JMA, period seasonal, lag 0\n"
     ]
    },
    {
     "data": {
      "application/vnd.jupyter.widget-view+json": {
       "model_id": "a5fb639b4f4a4a7d86137d8879285c91",
       "version_major": 2,
       "version_minor": 0
      },
      "text/plain": [
       "Executing:   0%|          | 0/71 [00:00<?, ?cell/s]"
      ]
     },
     "metadata": {},
     "output_type": "display_data"
    },
    {
     "name": "stdout",
     "output_type": "stream",
     "text": [
      "executing GCMs_hindcast_climatology_ops.ipynb for GCM ECCC, period seasonal, lag 0\n"
     ]
    },
    {
     "data": {
      "application/vnd.jupyter.widget-view+json": {
       "model_id": "346fe85c54c94e2dbc62d78bc8e17b7c",
       "version_major": 2,
       "version_minor": 0
      },
      "text/plain": [
       "Executing:   0%|          | 0/71 [00:00<?, ?cell/s]"
      ]
     },
     "metadata": {},
     "output_type": "display_data"
    }
   ],
   "source": [
    "for period in periods: \n",
    "    for GCM in GCMs: \n",
    "        for lag in lags:\n",
    "            print(f\"executing {notebook_name} for GCM {GCM}, period {period}, lag {lag}\")\n",
    "            pm.execute_notebook(\n",
    "                f'{str(CWD.joinpath(notebook_name))}',\n",
    "                f'{str(CWD.joinpath(notebook_name))}',\n",
    "                parameters=dict(GCM=GCM, lag=lag, period=period)\n",
    "            )"
   ]
  },
  {
   "cell_type": "code",
   "execution_count": null,
   "id": "a4b37bed-13a7-46f9-97a1-37cdef35bba2",
   "metadata": {},
   "outputs": [],
   "source": []
  },
  {
   "cell_type": "code",
   "execution_count": null,
   "id": "f202302e-742e-4872-bd3f-271b1d5daf50",
   "metadata": {},
   "outputs": [],
   "source": []
  }
 ],
 "metadata": {
  "kernelspec": {
   "display_name": "Python 3",
   "language": "python",
   "name": "python3"
  },
  "language_info": {
   "codemirror_mode": {
    "name": "ipython",
    "version": 3
   },
   "file_extension": ".py",
   "mimetype": "text/x-python",
   "name": "python",
   "nbconvert_exporter": "python",
   "pygments_lexer": "ipython3",
   "version": "3.8.10"
  }
 },
 "nbformat": 4,
 "nbformat_minor": 5
}
