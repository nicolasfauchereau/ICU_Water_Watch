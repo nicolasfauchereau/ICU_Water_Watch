{
 "cells": [
  {
   "cell_type": "code",
   "execution_count": 1,
   "id": "f162ca26-63de-4ea5-818b-468256ed4802",
   "metadata": {},
   "outputs": [],
   "source": [
    "%load_ext autoreload\n",
    "%autoreload 2"
   ]
  },
  {
   "cell_type": "code",
   "execution_count": 2,
   "id": "2457a8d1-c5e2-4c09-8481-1af78586a13a",
   "metadata": {
    "papermill": {
     "duration": null,
     "end_time": null,
     "exception": false,
     "start_time": "2021-10-01T00:47:38.892314",
     "status": "running"
    },
    "tags": []
   },
   "outputs": [],
   "source": [
    "%matplotlib inline\n",
    "\n",
    "### os\n",
    "import os\n",
    "import sys\n",
    "\n",
    "### datetimes\n",
    "from datetime import datetime, timedelta\n",
    "from dateutil.relativedelta import relativedelta\n",
    "\n",
    "### scipy\n",
    "import numpy as np\n",
    "import pandas as pd\n",
    "import xarray as xr\n",
    "import geopandas as gpd\n",
    "import cartopy.crs as ccrs\n",
    "import dask\n",
    "from dask.diagnostics import ProgressBar\n",
    "from tqdm import tqdm\n",
    "\n",
    "### plotting\n",
    "from matplotlib import pyplot as plt\n",
    "import matplotlib\n",
    "import seaborn as sns"
   ]
  },
  {
   "cell_type": "code",
   "execution_count": 3,
   "id": "ae98ee2c-8856-42ce-aa47-a705646b69ac",
   "metadata": {
    "papermill": {
     "duration": null,
     "end_time": null,
     "exception": null,
     "start_time": null,
     "status": "pending"
    },
    "tags": []
   },
   "outputs": [],
   "source": [
    "import pathlib\n",
    "\n",
    "HOME = pathlib.Path.home()\n",
    "CWD = pathlib.Path.cwd()"
   ]
  },
  {
   "cell_type": "markdown",
   "id": "95eeda04-89dc-4c56-8c7e-a4a1a4c98afd",
   "metadata": {
    "papermill": {
     "duration": null,
     "end_time": null,
     "exception": null,
     "start_time": null,
     "status": "pending"
    },
    "tags": []
   },
   "source": [
    "### import local functions for the processing of the C3S forecasts "
   ]
  },
  {
   "cell_type": "code",
   "execution_count": 4,
   "id": "c2a5d205-3915-4223-8743-8a45691e87cd",
   "metadata": {
    "papermill": {
     "duration": null,
     "end_time": null,
     "exception": null,
     "start_time": null,
     "status": "pending"
    },
    "tags": []
   },
   "outputs": [],
   "source": [
    "sys.path.append('../..')"
   ]
  },
  {
   "cell_type": "code",
   "execution_count": 5,
   "id": "071f28e3-0a25-440f-bf31-5d3a93872549",
   "metadata": {
    "papermill": {
     "duration": null,
     "end_time": null,
     "exception": null,
     "start_time": null,
     "status": "pending"
    },
    "tags": []
   },
   "outputs": [],
   "source": [
    "from ICU_Water_Watch import C3S, domains, geo, utils"
   ]
  },
  {
   "cell_type": "markdown",
   "id": "5359e596-f950-4f24-93d8-07aba85cb624",
   "metadata": {
    "papermill": {
     "duration": null,
     "end_time": null,
     "exception": null,
     "start_time": null,
     "status": "pending"
    },
    "tags": []
   },
   "source": [
    "### parameters for papermill"
   ]
  },
  {
   "cell_type": "code",
   "execution_count": 6,
   "id": "932790e5",
   "metadata": {
    "papermill": {
     "duration": null,
     "end_time": null,
     "exception": null,
     "start_time": null,
     "status": "pending"
    },
    "tags": [
     "injected-parameters"
    ]
   },
   "outputs": [],
   "source": [
    "# Parameters\n",
    "quantiles = 'tercile'\n",
    "country = \"Kiribati\"\n",
    "admin = \"Gilberts-North\"\n",
    "lag = 1"
   ]
  },
  {
   "cell_type": "markdown",
   "id": "bc532441-024f-4399-be44-7052aecb9eff",
   "metadata": {
    "papermill": {
     "duration": null,
     "end_time": null,
     "exception": null,
     "start_time": null,
     "status": "pending"
    },
    "tags": []
   },
   "source": [
    "### list of GCMs "
   ]
  },
  {
   "cell_type": "code",
   "execution_count": 7,
   "id": "b515acb2-21b8-4121-9b5c-69aec88b5c43",
   "metadata": {
    "papermill": {
     "duration": null,
     "end_time": null,
     "exception": null,
     "start_time": null,
     "status": "pending"
    },
    "tags": []
   },
   "outputs": [],
   "source": [
    "list_GCMs = ['ECMWF','UKMO','METEO_FRANCE','CMCC','DWD', 'NCEP', 'JMA', 'ECCC']"
   ]
  },
  {
   "cell_type": "markdown",
   "id": "7a8086fe-c08e-454d-accd-74f4728cf3a7",
   "metadata": {
    "papermill": {
     "duration": null,
     "end_time": null,
     "exception": null,
     "start_time": null,
     "status": "pending"
    },
    "tags": []
   },
   "source": [
    "### get today's date "
   ]
  },
  {
   "cell_type": "code",
   "execution_count": 8,
   "id": "e5ec7336-79f8-4c90-8122-bdcc8b9f96a9",
   "metadata": {
    "papermill": {
     "duration": null,
     "end_time": null,
     "exception": null,
     "start_time": null,
     "status": "pending"
    },
    "tags": []
   },
   "outputs": [],
   "source": [
    "date = datetime.utcnow()"
   ]
  },
  {
   "cell_type": "markdown",
   "id": "17db6b1e-83d3-4d4e-af59-6cf2b8e3459c",
   "metadata": {
    "papermill": {
     "duration": null,
     "end_time": null,
     "exception": null,
     "start_time": null,
     "status": "pending"
    },
    "tags": []
   },
   "source": [
    "### apply lag "
   ]
  },
  {
   "cell_type": "code",
   "execution_count": 9,
   "id": "8b9831e7-8594-4f71-a05b-a814f693e7c9",
   "metadata": {
    "papermill": {
     "duration": null,
     "end_time": null,
     "exception": null,
     "start_time": null,
     "status": "pending"
    },
    "tags": []
   },
   "outputs": [],
   "source": [
    "date = date - relativedelta(months=lag)"
   ]
  },
  {
   "cell_type": "code",
   "execution_count": 10,
   "id": "ca58dd81-0ac9-43a7-9607-f82d93eb90a6",
   "metadata": {
    "papermill": {
     "duration": null,
     "end_time": null,
     "exception": null,
     "start_time": null,
     "status": "pending"
    },
    "tags": []
   },
   "outputs": [
    {
     "name": "stdout",
     "output_type": "stream",
     "text": [
      "will process forecasts issued in September 2021\n"
     ]
    }
   ],
   "source": [
    "print(f\"will process forecasts issued in {date:%B %Y}\")"
   ]
  },
  {
   "cell_type": "code",
   "execution_count": 11,
   "id": "da3aa843-37e5-41e4-8fc9-53e5e1789027",
   "metadata": {},
   "outputs": [],
   "source": [
    "year = date.year "
   ]
  },
  {
   "cell_type": "code",
   "execution_count": 12,
   "id": "b26da204-3403-47c0-a933-a5e5294ce4c4",
   "metadata": {},
   "outputs": [
    {
     "data": {
      "text/plain": [
       "2021"
      ]
     },
     "execution_count": 12,
     "metadata": {},
     "output_type": "execute_result"
    }
   ],
   "source": [
    "year "
   ]
  },
  {
   "cell_type": "code",
   "execution_count": 13,
   "id": "2db25dd4-43d9-41d7-a89c-45183f037344",
   "metadata": {},
   "outputs": [],
   "source": [
    "month = date.month "
   ]
  },
  {
   "cell_type": "code",
   "execution_count": 14,
   "id": "3aa0edc5-0b46-4c60-bec6-33827dd7cf0a",
   "metadata": {},
   "outputs": [
    {
     "data": {
      "text/plain": [
       "9"
      ]
     },
     "execution_count": 14,
     "metadata": {},
     "output_type": "execute_result"
    }
   ],
   "source": [
    "month"
   ]
  },
  {
   "cell_type": "markdown",
   "id": "8e01191b-d310-43f9-90f1-7362f828d437",
   "metadata": {},
   "source": [
    "### list files for the individual GCMs"
   ]
  },
  {
   "cell_type": "code",
   "execution_count": 15,
   "id": "b3b6555a-63a6-4bd0-8642-13f6af071fae",
   "metadata": {},
   "outputs": [],
   "source": [
    "opath = CWD.parents[1].joinpath(\"outputs/C3S\")"
   ]
  },
  {
   "cell_type": "code",
   "execution_count": 16,
   "id": "8749291e-f5af-449b-943a-113c7bb48b35",
   "metadata": {
    "papermill": {
     "duration": null,
     "end_time": null,
     "exception": null,
     "start_time": null,
     "status": "pending"
    },
    "tags": []
   },
   "outputs": [],
   "source": [
    "opath = opath.joinpath(f'admin/{quantiles}')"
   ]
  },
  {
   "cell_type": "code",
   "execution_count": 17,
   "id": "5f1728b1-05bc-4e7c-b0e9-96d578d94606",
   "metadata": {},
   "outputs": [],
   "source": [
    "lfiles = list(opath.glob(f\"{quantiles}_probs_forecasts_from_{year}_{str(month).zfill(2)}_{utils.sanitize_name(country)}_{utils.sanitize_name(admin)}_*.csv\"))"
   ]
  },
  {
   "cell_type": "code",
   "execution_count": 18,
   "id": "4067f54b-19dd-467e-b442-4029ce50efd9",
   "metadata": {},
   "outputs": [
    {
     "data": {
      "text/plain": [
       "7"
      ]
     },
     "execution_count": 18,
     "metadata": {},
     "output_type": "execute_result"
    }
   ],
   "source": [
    "len(lfiles)"
   ]
  },
  {
   "cell_type": "code",
   "execution_count": 19,
   "id": "5f9d264d-facc-4e3c-9224-6939aa6b9672",
   "metadata": {},
   "outputs": [],
   "source": [
    "df_all = []\n",
    "for fname in lfiles: \n",
    "    df = pd.read_csv(fname, header=[0,1], index_col=[0,1,2,3])\n",
    "    df_all.append(df)"
   ]
  },
  {
   "cell_type": "code",
   "execution_count": 20,
   "id": "a72eff0c-ef4f-463c-b0ef-a692d5139649",
   "metadata": {},
   "outputs": [],
   "source": [
    "df = pd.concat(df_all, axis=0)"
   ]
  },
  {
   "cell_type": "code",
   "execution_count": 21,
   "id": "023b3d44-a268-486d-ba97-5b57bd191740",
   "metadata": {},
   "outputs": [],
   "source": [
    "step = 3"
   ]
  },
  {
   "cell_type": "code",
   "execution_count": 22,
   "id": "7852c301-b62d-4d08-89c1-ffbd989aa5b5",
   "metadata": {},
   "outputs": [],
   "source": [
    "df = df.xs(str(step), axis=1, level=0)"
   ]
  },
  {
   "cell_type": "code",
   "execution_count": 23,
   "id": "d3498363-210c-4e61-8f63-dde16c7b20c4",
   "metadata": {},
   "outputs": [
    {
     "data": {
      "text/html": [
       "<div>\n",
       "<style scoped>\n",
       "    .dataframe tbody tr th:only-of-type {\n",
       "        vertical-align: middle;\n",
       "    }\n",
       "\n",
       "    .dataframe tbody tr th {\n",
       "        vertical-align: top;\n",
       "    }\n",
       "\n",
       "    .dataframe thead th {\n",
       "        text-align: right;\n",
       "    }\n",
       "</style>\n",
       "<table border=\"1\" class=\"dataframe\">\n",
       "  <thead>\n",
       "    <tr style=\"text-align: right;\">\n",
       "      <th></th>\n",
       "      <th></th>\n",
       "      <th></th>\n",
       "      <th>tercile</th>\n",
       "      <th>1</th>\n",
       "      <th>2</th>\n",
       "      <th>3</th>\n",
       "    </tr>\n",
       "  </thead>\n",
       "  <tbody>\n",
       "    <tr>\n",
       "      <th rowspan=\"7\" valign=\"top\">2021-09-01</th>\n",
       "      <th rowspan=\"7\" valign=\"top\">Kiribati</th>\n",
       "      <th rowspan=\"7\" valign=\"top\">Gilberts-North</th>\n",
       "      <th>DWD</th>\n",
       "      <td>64.000000</td>\n",
       "      <td>36.000000</td>\n",
       "      <td>0.000000</td>\n",
       "    </tr>\n",
       "    <tr>\n",
       "      <th>NCEP</th>\n",
       "      <td>94.354839</td>\n",
       "      <td>4.838710</td>\n",
       "      <td>0.806452</td>\n",
       "    </tr>\n",
       "    <tr>\n",
       "      <th>CMCC</th>\n",
       "      <td>56.000000</td>\n",
       "      <td>44.000000</td>\n",
       "      <td>0.000000</td>\n",
       "    </tr>\n",
       "    <tr>\n",
       "      <th>ECMWF</th>\n",
       "      <td>84.313725</td>\n",
       "      <td>15.686275</td>\n",
       "      <td>0.000000</td>\n",
       "    </tr>\n",
       "    <tr>\n",
       "      <th>UKMO</th>\n",
       "      <td>93.548387</td>\n",
       "      <td>4.838710</td>\n",
       "      <td>1.612903</td>\n",
       "    </tr>\n",
       "    <tr>\n",
       "      <th>JMA</th>\n",
       "      <td>66.666667</td>\n",
       "      <td>33.333333</td>\n",
       "      <td>0.000000</td>\n",
       "    </tr>\n",
       "    <tr>\n",
       "      <th>METEO_FRANCE</th>\n",
       "      <td>84.313725</td>\n",
       "      <td>15.686275</td>\n",
       "      <td>0.000000</td>\n",
       "    </tr>\n",
       "  </tbody>\n",
       "</table>\n",
       "</div>"
      ],
      "text/plain": [
       "tercile                                                  1          2  \\\n",
       "2021-09-01 Kiribati Gilberts-North DWD           64.000000  36.000000   \n",
       "                                   NCEP          94.354839   4.838710   \n",
       "                                   CMCC          56.000000  44.000000   \n",
       "                                   ECMWF         84.313725  15.686275   \n",
       "                                   UKMO          93.548387   4.838710   \n",
       "                                   JMA           66.666667  33.333333   \n",
       "                                   METEO_FRANCE  84.313725  15.686275   \n",
       "\n",
       "tercile                                                 3  \n",
       "2021-09-01 Kiribati Gilberts-North DWD           0.000000  \n",
       "                                   NCEP          0.806452  \n",
       "                                   CMCC          0.000000  \n",
       "                                   ECMWF         0.000000  \n",
       "                                   UKMO          1.612903  \n",
       "                                   JMA           0.000000  \n",
       "                                   METEO_FRANCE  0.000000  "
      ]
     },
     "execution_count": 23,
     "metadata": {},
     "output_type": "execute_result"
    }
   ],
   "source": [
    "df"
   ]
  },
  {
   "cell_type": "code",
   "execution_count": 24,
   "id": "349b030a-7b2a-4db3-b0b9-1d47b6480833",
   "metadata": {},
   "outputs": [
    {
     "data": {
      "text/plain": [
       "('2021-09-01', 'Kiribati', 'Gilberts-North', 'DWD')"
      ]
     },
     "execution_count": 24,
     "metadata": {},
     "output_type": "execute_result"
    }
   ],
   "source": [
    "df.index[0]"
   ]
  },
  {
   "cell_type": "code",
   "execution_count": 25,
   "id": "9bb0bd45-5531-4603-af2e-373a5c78a322",
   "metadata": {},
   "outputs": [
    {
     "data": {
      "text/plain": [
       "('2021-09-01', 'Kiribati', 'Gilberts-North', 'MME')"
      ]
     },
     "execution_count": 25,
     "metadata": {},
     "output_type": "execute_result"
    }
   ],
   "source": [
    "tuple(list(df.index[-1][:-1]) + ['MME'])"
   ]
  },
  {
   "cell_type": "code",
   "execution_count": 26,
   "id": "6e106b59-5ab5-4757-b60a-7e6b3ca7fbd7",
   "metadata": {},
   "outputs": [],
   "source": [
    "df.loc[tuple(list(df.index[-1][:-1]) + ['MME']),:] = df.mean(0)"
   ]
  },
  {
   "cell_type": "code",
   "execution_count": 27,
   "id": "cc01ab14-62a1-4f3b-8e59-1c800c7c13d0",
   "metadata": {},
   "outputs": [
    {
     "data": {
      "text/html": [
       "<div>\n",
       "<style scoped>\n",
       "    .dataframe tbody tr th:only-of-type {\n",
       "        vertical-align: middle;\n",
       "    }\n",
       "\n",
       "    .dataframe tbody tr th {\n",
       "        vertical-align: top;\n",
       "    }\n",
       "\n",
       "    .dataframe thead th {\n",
       "        text-align: right;\n",
       "    }\n",
       "</style>\n",
       "<table border=\"1\" class=\"dataframe\">\n",
       "  <thead>\n",
       "    <tr style=\"text-align: right;\">\n",
       "      <th></th>\n",
       "      <th></th>\n",
       "      <th></th>\n",
       "      <th>tercile</th>\n",
       "      <th>1</th>\n",
       "      <th>2</th>\n",
       "      <th>3</th>\n",
       "    </tr>\n",
       "  </thead>\n",
       "  <tbody>\n",
       "    <tr>\n",
       "      <th rowspan=\"8\" valign=\"top\">2021-09-01</th>\n",
       "      <th rowspan=\"8\" valign=\"top\">Kiribati</th>\n",
       "      <th rowspan=\"8\" valign=\"top\">Gilberts-North</th>\n",
       "      <th>DWD</th>\n",
       "      <td>64.000000</td>\n",
       "      <td>36.000000</td>\n",
       "      <td>0.000000</td>\n",
       "    </tr>\n",
       "    <tr>\n",
       "      <th>NCEP</th>\n",
       "      <td>94.354839</td>\n",
       "      <td>4.838710</td>\n",
       "      <td>0.806452</td>\n",
       "    </tr>\n",
       "    <tr>\n",
       "      <th>CMCC</th>\n",
       "      <td>56.000000</td>\n",
       "      <td>44.000000</td>\n",
       "      <td>0.000000</td>\n",
       "    </tr>\n",
       "    <tr>\n",
       "      <th>ECMWF</th>\n",
       "      <td>84.313725</td>\n",
       "      <td>15.686275</td>\n",
       "      <td>0.000000</td>\n",
       "    </tr>\n",
       "    <tr>\n",
       "      <th>UKMO</th>\n",
       "      <td>93.548387</td>\n",
       "      <td>4.838710</td>\n",
       "      <td>1.612903</td>\n",
       "    </tr>\n",
       "    <tr>\n",
       "      <th>JMA</th>\n",
       "      <td>66.666667</td>\n",
       "      <td>33.333333</td>\n",
       "      <td>0.000000</td>\n",
       "    </tr>\n",
       "    <tr>\n",
       "      <th>METEO_FRANCE</th>\n",
       "      <td>84.313725</td>\n",
       "      <td>15.686275</td>\n",
       "      <td>0.000000</td>\n",
       "    </tr>\n",
       "    <tr>\n",
       "      <th>MME</th>\n",
       "      <td>77.599620</td>\n",
       "      <td>22.054757</td>\n",
       "      <td>0.345622</td>\n",
       "    </tr>\n",
       "  </tbody>\n",
       "</table>\n",
       "</div>"
      ],
      "text/plain": [
       "tercile                                                  1          2  \\\n",
       "2021-09-01 Kiribati Gilberts-North DWD           64.000000  36.000000   \n",
       "                                   NCEP          94.354839   4.838710   \n",
       "                                   CMCC          56.000000  44.000000   \n",
       "                                   ECMWF         84.313725  15.686275   \n",
       "                                   UKMO          93.548387   4.838710   \n",
       "                                   JMA           66.666667  33.333333   \n",
       "                                   METEO_FRANCE  84.313725  15.686275   \n",
       "                                   MME           77.599620  22.054757   \n",
       "\n",
       "tercile                                                 3  \n",
       "2021-09-01 Kiribati Gilberts-North DWD           0.000000  \n",
       "                                   NCEP          0.806452  \n",
       "                                   CMCC          0.000000  \n",
       "                                   ECMWF         0.000000  \n",
       "                                   UKMO          1.612903  \n",
       "                                   JMA           0.000000  \n",
       "                                   METEO_FRANCE  0.000000  \n",
       "                                   MME           0.345622  "
      ]
     },
     "execution_count": 27,
     "metadata": {},
     "output_type": "execute_result"
    }
   ],
   "source": [
    "df"
   ]
  },
  {
   "cell_type": "code",
   "execution_count": 28,
   "id": "f44bb776-9f2c-45e7-8cd7-bc595ab64954",
   "metadata": {},
   "outputs": [],
   "source": [
    "df = df.T.apply(utils.round_to_100_percent, **{'digit_after_decimal':0}).T.astype(int)"
   ]
  },
  {
   "cell_type": "code",
   "execution_count": null,
   "id": "71f5359f-badd-488c-9f62-28e9bb8fa76e",
   "metadata": {},
   "outputs": [],
   "source": []
  }
 ],
 "metadata": {
  "kernelspec": {
   "display_name": "Python 3",
   "language": "python",
   "name": "python3"
  },
  "language_info": {
   "codemirror_mode": {
    "name": "ipython",
    "version": 3
   },
   "file_extension": ".py",
   "mimetype": "text/x-python",
   "name": "python",
   "nbconvert_exporter": "python",
   "pygments_lexer": "ipython3",
   "version": "3.8.10"
  },
  "papermill": {
   "default_parameters": {},
   "duration": null,
   "end_time": null,
   "environment_variables": {},
   "exception": null,
   "input_path": "/home/nicolasf/operational/ICU/development/hotspots/code/ICU_Water_Watch/notebooks/C3S/make_tercile_probs_table.ipynb",
   "output_path": "/home/nicolasf/operational/ICU/development/hotspots/code/ICU_Water_Watch/notebooks/C3S/make_tercile_probs_table.ipynb",
   "parameters": {
    "GCM": "CMCC",
    "admin": "Gilberts-North",
    "country": "Kiribati"
   },
   "start_time": "2021-10-01T00:47:38.098853",
   "version": "2.3.3"
  }
 },
 "nbformat": 4,
 "nbformat_minor": 5
}
