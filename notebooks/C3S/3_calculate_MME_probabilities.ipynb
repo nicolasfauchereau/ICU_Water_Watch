{
 "cells": [
  {
   "cell_type": "markdown",
   "id": "3880d8eb-ca66-48bb-8d73-e4143d0aaa36",
   "metadata": {},
   "source": [
    "## calculate the probabilities for terciles, deciles and percentiles (0.02 then 0.05 to 0.95) categories for a 'realtime' forecast, with respect to the lead-time dependent monthly and seasonal hindcast climatologies, for each of the 8 C3S GCMs (ECMWF, UKMO, METEO-FRANCE, DWD, CMCC, NCEP, JMA and ECCC)"
   ]
  },
  {
   "cell_type": "markdown",
   "id": "046911ae-c3de-4e6e-8917-d48f12cf0ecf",
   "metadata": {},
   "source": [
    "This notebook:   \n",
    "    \n",
    "1) reads the latest forecasts from the C3S MME [ECMWF, UKMO, METEO-FRANCE, DWD, CMCC, NCEP, JMA and ECCC]  \n",
    "2) preprocesses, converts to monthly / seasonal rainfall accumulations   \n",
    "3) reads the leadtime-dependent terciles, deciles and percentiles (0.02 then 0.05 to 0.95) climatologies corresponding to the initial month of the forecast  \n",
    "4) calculate the probabilities for each quantile category as the proportion of the GCM's ensemble members  \n",
    "5) saves to disk these probabilities for later use and mapping   "
   ]
  },
  {
   "cell_type": "code",
   "execution_count": 41,
   "id": "39906a50-30ee-4f07-bbff-6eb4831da534",
   "metadata": {},
   "outputs": [
    {
     "name": "stdout",
     "output_type": "stream",
     "text": [
      "The autoreload extension is already loaded. To reload it, use:\n",
      "  %reload_ext autoreload\n"
     ]
    }
   ],
   "source": [
    "%load_ext autoreload\n",
    "%autoreload 2"
   ]
  },
  {
   "cell_type": "code",
   "execution_count": 42,
   "id": "35f76d2f-14b2-44b4-98f2-7e3edeaeecf7",
   "metadata": {},
   "outputs": [],
   "source": [
    "### os \n",
    "import os \n",
    "import sys\n",
    "\n",
    "### datetimes \n",
    "from datetime import datetime, timedelta\n",
    "from dateutil.relativedelta import relativedelta\n",
    "from calendar import month_name\n",
    "\n",
    "### scipy \n",
    "import numpy as np \n",
    "import pandas as pd\n",
    "import xarray as xr"
   ]
  },
  {
   "cell_type": "code",
   "execution_count": 43,
   "id": "6267b8b0-2ea5-49da-be46-c35ae2e9e4ec",
   "metadata": {},
   "outputs": [],
   "source": [
    "import pathlib\n",
    "HOME = pathlib.Path.home()\n",
    "CWD = pathlib.Path.cwd() "
   ]
  },
  {
   "cell_type": "markdown",
   "id": "4908616d-93e1-4e2e-a799-8a3c6c69dc6d",
   "metadata": {},
   "source": [
    "### import local functions for the processing of the C3S forecasts "
   ]
  },
  {
   "cell_type": "code",
   "execution_count": 44,
   "id": "3face832-c495-4625-b989-f4fccd48f686",
   "metadata": {},
   "outputs": [],
   "source": [
    "sys.path.append('../..')"
   ]
  },
  {
   "cell_type": "code",
   "execution_count": 45,
   "id": "2c91d66f-1362-4c78-9e5d-219b294ac5a9",
   "metadata": {},
   "outputs": [],
   "source": [
    "from ICU_Water_Watch import C3S"
   ]
  },
  {
   "cell_type": "markdown",
   "id": "db7ad6d3-52dd-415b-8228-06712296d6cc",
   "metadata": {},
   "source": [
    "### provider (always CDS for now)"
   ]
  },
  {
   "cell_type": "code",
   "execution_count": 46,
   "id": "52f01142-93bc-4a53-912e-d31c2e6e46c6",
   "metadata": {
    "papermill": {
     "duration": 0.012879,
     "end_time": "2020-02-06T23:46:40.239506",
     "exception": false,
     "start_time": "2020-02-06T23:46:40.226627",
     "status": "completed"
    },
    "tags": []
   },
   "outputs": [],
   "source": [
    "provider = 'CDS'"
   ]
  },
  {
   "cell_type": "markdown",
   "id": "12cb4c2f-896c-49f1-99bc-9fa9f84b228f",
   "metadata": {},
   "source": [
    "### variable name"
   ]
  },
  {
   "cell_type": "code",
   "execution_count": 47,
   "id": "a0fe22c9-db17-482b-9789-9fbedffcca7b",
   "metadata": {},
   "outputs": [],
   "source": [
    "varname = 'tprate'"
   ]
  },
  {
   "cell_type": "markdown",
   "id": "7c399091-b76a-4521-9b07-1b2090f48ecc",
   "metadata": {},
   "source": [
    "### period (`monthly` or `seasonal`)"
   ]
  },
  {
   "cell_type": "code",
   "execution_count": 48,
   "id": "a36ac2f4-2b81-4840-b812-29a4fbac113c",
   "metadata": {},
   "outputs": [],
   "source": [
    "period = 'monthly'\n",
    "# period = 'seasonal'"
   ]
  },
  {
   "cell_type": "markdown",
   "id": "6bda312c-d20b-45c2-9d27-f319d4439583",
   "metadata": {},
   "source": [
    "### provider "
   ]
  },
  {
   "cell_type": "code",
   "execution_count": 49,
   "id": "0e46cc70-a934-44b9-b788-62c4765e5a6e",
   "metadata": {},
   "outputs": [],
   "source": [
    "provider = 'CDS'"
   ]
  },
  {
   "cell_type": "markdown",
   "id": "d68ad8b9-9922-4593-9ede-01afef04713d",
   "metadata": {},
   "source": [
    "### list of GCMs "
   ]
  },
  {
   "cell_type": "code",
   "execution_count": 50,
   "id": "af33fe2e-5f59-4764-a2db-3195d6defe34",
   "metadata": {},
   "outputs": [],
   "source": [
    "list_GCMs = ['ECMWF','UKMO','METEO_FRANCE','CMCC','DWD', 'NCEP', 'JMA', 'ECCC']"
   ]
  },
  {
   "cell_type": "markdown",
   "id": "747979ae-761a-4512-b73f-c0c7da0edeae",
   "metadata": {},
   "source": [
    "### lag in months (if need to process older forecasts)"
   ]
  },
  {
   "cell_type": "code",
   "execution_count": 51,
   "id": "270758dc-5e03-4cd7-b340-e03e3b498dc1",
   "metadata": {},
   "outputs": [],
   "source": [
    "lag = 0"
   ]
  },
  {
   "cell_type": "markdown",
   "id": "567333ca-4646-4274-8fc9-f7c2c1e7b2b6",
   "metadata": {},
   "source": [
    "### get today's date "
   ]
  },
  {
   "cell_type": "code",
   "execution_count": 52,
   "id": "f435ed08-b3fd-4632-9f9e-5a656a504eb6",
   "metadata": {},
   "outputs": [],
   "source": [
    "date = datetime.utcnow()"
   ]
  },
  {
   "cell_type": "markdown",
   "id": "8209293b-3222-49dc-86b5-6eecf058396e",
   "metadata": {},
   "source": [
    "### apply lag "
   ]
  },
  {
   "cell_type": "code",
   "execution_count": 53,
   "id": "bdbdb36f-d620-4e82-b872-0771e2a6ee0d",
   "metadata": {},
   "outputs": [],
   "source": [
    "date = date - relativedelta(months=lag)"
   ]
  },
  {
   "cell_type": "code",
   "execution_count": 54,
   "id": "30dc799d-8eb6-4b17-a3fe-a6f05dc15121",
   "metadata": {},
   "outputs": [
    {
     "name": "stdout",
     "output_type": "stream",
     "text": [
      "will process forecasts issued in June 2021\n"
     ]
    }
   ],
   "source": [
    "print(f\"will process forecasts issued in {date:%B %Y}\")"
   ]
  },
  {
   "cell_type": "markdown",
   "id": "4413f04d-c7d1-4d58-b7df-e4cc5cf32185",
   "metadata": {},
   "source": [
    "### path to the GCMs **hindcast datasets** and **climatologies** "
   ]
  },
  {
   "cell_type": "code",
   "execution_count": 55,
   "id": "2e4526aa-da84-43fb-8de2-cb745c042725",
   "metadata": {},
   "outputs": [],
   "source": [
    "gcm_path = pathlib.Path(f'/media/nicolasf/END19101/ICU/data/{provider}')"
   ]
  },
  {
   "cell_type": "markdown",
   "id": "753a86c1-5ec9-497e-a384-0edb2715cb3a",
   "metadata": {},
   "source": [
    "### path to where the **realtime forecasts** have been downloaded "
   ]
  },
  {
   "cell_type": "code",
   "execution_count": 56,
   "id": "14eb5cc9-3a24-471d-881f-b45b117d4655",
   "metadata": {},
   "outputs": [],
   "source": [
    "forecasts_path = gcm_path.joinpath(\"operational/forecasts\")"
   ]
  },
  {
   "cell_type": "markdown",
   "id": "f45955b2-b148-463e-88f3-f487efeddd80",
   "metadata": {},
   "source": [
    "### output path for the probabilistic forecast files "
   ]
  },
  {
   "cell_type": "code",
   "execution_count": 57,
   "id": "7bf3dded-6e9d-4252-9dfc-c111e1202d19",
   "metadata": {},
   "outputs": [],
   "source": [
    "opath = CWD.parents[1].joinpath(\"outputs/C3S\")"
   ]
  },
  {
   "cell_type": "code",
   "execution_count": 58,
   "id": "80975845-9a5d-423d-ba69-51b0b6954606",
   "metadata": {},
   "outputs": [],
   "source": [
    "if not opath.exists(): \n",
    "    opath.mkdir(parents=True)"
   ]
  },
  {
   "cell_type": "markdown",
   "id": "f6d7810c-ed9b-4c22-b09c-818793fba490",
   "metadata": {},
   "source": [
    "### get year and month "
   ]
  },
  {
   "cell_type": "code",
   "execution_count": 59,
   "id": "e42ecc20-377f-43bf-8534-5a841cd625bd",
   "metadata": {},
   "outputs": [],
   "source": [
    "year, month =  date.year, date.month"
   ]
  },
  {
   "cell_type": "markdown",
   "id": "38acab05-6c0c-4728-839a-a7a88b8e6e01",
   "metadata": {},
   "source": [
    "### loop over the GCMs here"
   ]
  },
  {
   "cell_type": "code",
   "execution_count": 60,
   "id": "4978e38a-c280-4b62-9536-e8f947e9cee2",
   "metadata": {},
   "outputs": [
    {
     "name": "stdout",
     "output_type": "stream",
     "text": [
      "--------------------------------------------------\n",
      "Reading forecasts issued 2021-06 for GCM ECMWF\n",
      "\n",
      "unit is m s**-1, converting to mm/day\n",
      "\n",
      "now converting to mm/month, converted precipitation will be held in var = precip\n",
      "\n",
      "ECMWF monthly forecasts from 2021-06 processed ...\n",
      "\n",
      "--------------------------------------------------\n",
      "Reading forecasts issued 2021-06 for GCM UKMO\n",
      "\n",
      "unit is m s**-1, converting to mm/day\n",
      "\n",
      "now converting to mm/month, converted precipitation will be held in var = precip\n",
      "\n",
      "UKMO monthly forecasts from 2021-06 processed ...\n",
      "\n",
      "--------------------------------------------------\n",
      "Reading forecasts issued 2021-06 for GCM METEO_FRANCE\n",
      "\n",
      "unit is m s**-1, converting to mm/day\n",
      "\n",
      "now converting to mm/month, converted precipitation will be held in var = precip\n",
      "\n",
      "METEO_FRANCE monthly forecasts from 2021-06 processed ...\n",
      "\n",
      "--------------------------------------------------\n",
      "Reading forecasts issued 2021-06 for GCM CMCC\n",
      "\n",
      "unit is m s**-1, converting to mm/day\n",
      "\n",
      "now converting to mm/month, converted precipitation will be held in var = precip\n",
      "\n",
      "CMCC monthly forecasts from 2021-06 processed ...\n",
      "\n",
      "--------------------------------------------------\n",
      "Reading forecasts issued 2021-06 for GCM DWD\n",
      "\n",
      "unit is m s**-1, converting to mm/day\n",
      "\n",
      "now converting to mm/month, converted precipitation will be held in var = precip\n",
      "\n",
      "DWD monthly forecasts from 2021-06 processed ...\n",
      "\n",
      "--------------------------------------------------\n",
      "Reading forecasts issued 2021-06 for GCM NCEP\n",
      "\n",
      "unit is m s**-1, converting to mm/day\n",
      "\n",
      "now converting to mm/month, converted precipitation will be held in var = precip\n",
      "\n",
      "NCEP monthly forecasts from 2021-06 processed ...\n",
      "\n",
      "--------------------------------------------------\n",
      "Reading forecasts issued 2021-06 for GCM JMA\n",
      "\n",
      "unit is m s**-1, converting to mm/day\n",
      "\n",
      "now converting to mm/month, converted precipitation will be held in var = precip\n",
      "\n",
      "JMA monthly forecasts from 2021-06 processed ...\n",
      "\n",
      "--------------------------------------------------\n",
      "Reading forecasts issued 2021-06 for GCM ECCC\n",
      "\n",
      "unit is m s**-1, converting to mm/day\n",
      "\n",
      "now converting to mm/month, converted precipitation will be held in var = precip\n",
      "\n",
      "ECCC monthly forecasts from 2021-06 processed ...\n",
      "\n"
     ]
    }
   ],
   "source": [
    "for GCM in list_GCMs: \n",
    "\n",
    "    ### path to the CLIMATOLOGICAL terciles and deciles, \n",
    "    \n",
    "    ### calculated over all the ensembles and month (for each initial month, i.e. leadtime dependent climatology) \n",
    "    \n",
    "    clim_path = gcm_path.joinpath(f'operational/hindcasts/CLIMATOLOGY/{GCM}')\n",
    "    \n",
    "    tercile_climatology = xr.open_dataset(clim_path.joinpath(f\"{GCM}_{period}_tercile_climatology_{str(month).zfill(2)}.netcdf\"), engine='netcdf4')\n",
    "    \n",
    "    decile_climatology = xr.open_dataset(clim_path.joinpath(f\"{GCM}_{period}_decile_climatology_{str(month).zfill(2)}.netcdf\"), engine='netcdf4')\n",
    "    \n",
    "    percentile_climatology = xr.open_dataset(clim_path.joinpath(f\"{GCM}_{period}_percentile_climatology_{str(month).zfill(2)}.netcdf\"), engine='netcdf4')\n",
    "    \n",
    "    print(f\"{50*'-'}\\nReading forecasts issued {year}-{str(month).zfill(2)} for GCM {GCM}\")\n",
    "\n",
    "    x = xr.open_dataset(forecasts_path.joinpath(f\"{GCM}/{varname.upper()}/ensemble_seas_forecasts_{varname}_from_{year}_{str(month).zfill(2)}_{GCM}.netcdf\"), engine='netcdf4')\n",
    "\n",
    "    ### preprocess (harmonize the variable names, sort the latitudes, etc )\n",
    "\n",
    "    x = C3S.preprocess_GCM(x)\n",
    "\n",
    "    ### convert from mm/day to mm/month \n",
    "\n",
    "    x = C3S.convert_rainfall(x, varin='tprate', varout='precip', leadvar='step', timevar='time', dropvar=True)\n",
    "\n",
    "    ### just in case, remove potential missing fields (members)\n",
    "\n",
    "    x = x.dropna(dim='member')\n",
    "\n",
    "    # calculates the seasonal values if period == seasonal\n",
    "\n",
    "    if period == 'seasonal': \n",
    "\n",
    "        print(\"Calculating the seasonal (3 months) accumulations\")\n",
    "\n",
    "        x = x.rolling({'step':3}, min_periods=3, center=False).sum('step') \n",
    "\n",
    "        # get rid of the 2 first steps, which by definition contain missing values \n",
    "\n",
    "        x = x.sel(step=slice(3, None))\n",
    "\n",
    "    ### checks that the initial month corresponds indeed to what we defined earlier \n",
    "\n",
    "    if (x.time.dt.year != year) or (x.time.dt.month != month): \n",
    "\n",
    "        print(f\"issue with the initial date in the latest forecast, expected {year}-{month}, got {x.time.dt.year}-{x.time.dt.month}\")\n",
    "\n",
    "    ### Now calculates the tercile category for each member\n",
    "\n",
    "    terciles_category = C3S.get_GCM_category_digitize(x, tercile_climatology.squeeze(), varname='precip', dim='quantile')\n",
    "\n",
    "    ### and calculate the proportion of member in each category \n",
    "    \n",
    "    terciles_category_percent = C3S.calculate_quantiles_probabilities(terciles_category, ncategories=3)\n",
    "    \n",
    "    ### same thing as abobe, for decile categories \n",
    "\n",
    "    deciles_category = C3S.get_GCM_category_digitize(x, decile_climatology.squeeze(), varname='precip', dim='quantile')\n",
    "\n",
    "    deciles_category_percent = C3S.calculate_quantiles_probabilities(deciles_category, ncategories=10)\n",
    "\n",
    "    ### same thing as above for percentile categories \n",
    "    \n",
    "    percentiles_category = C3S.get_GCM_category_digitize(x, percentile_climatology.squeeze(), varname='precip', dim='quantile')\n",
    "\n",
    "    percentiles_category_percent = C3S.calculate_quantiles_probabilities(percentiles_category, ncategories=21)\n",
    "    \n",
    "    ### creates a dummy 'GCM' dimension, and saves the tercile and decile probabilities to disk \n",
    "\n",
    "    terciles_category_percent = terciles_category_percent.expand_dims(dim={'GCM':[GCM]}, axis=0) \n",
    "\n",
    "    deciles_category_percent = deciles_category_percent.expand_dims(dim={'GCM':[GCM]}, axis=0) \n",
    "\n",
    "    percentiles_category_percent = percentiles_category_percent.expand_dims(dim={'GCM':[GCM]}, axis=0)\n",
    "\n",
    "    # includes the quantile values (i.e. the 'bounds' for the quantile categories) in the dataset \n",
    "\n",
    "    terciles_category_percent.attrs['pct_values'] = tercile_climatology['quantile'].data\n",
    "    deciles_category_percent.attrs['pct_values'] = decile_climatology['quantile'].data\n",
    "    percentiles_category_percent.attrs['pct_values'] = percentile_climatology['quantile'].data\n",
    "\n",
    "    ### saves to disk \n",
    "\n",
    "    terciles_category_percent.to_netcdf(opath.joinpath(f\"{period}_terciles_probabilities_from_{date:%Y-%m}_{GCM}.netcdf\")) \n",
    "\n",
    "    deciles_category_percent.to_netcdf(opath.joinpath(f\"{period}_deciles_probabilities_from_{date:%Y-%m}_{GCM}.netcdf\")) \n",
    "\n",
    "    percentiles_category_percent.to_netcdf(opath.joinpath(f\"{period}_percentiles_probabilities_from_{date:%Y-%m}_{GCM}.netcdf\")) \n",
    "\n",
    "    print(f\"\\n{GCM} {period} forecasts from {year}-{str(month).zfill(2)} processed and saved in {str(opath)}...\\n\")\n"
   ]
  },
  {
   "cell_type": "code",
   "execution_count": null,
   "id": "df1b3a16-1052-4d76-9a8a-827abf19c1b4",
   "metadata": {},
   "outputs": [],
   "source": []
  }
 ],
 "metadata": {
  "kernelspec": {
   "display_name": "Python 3",
   "language": "python",
   "name": "python3"
  },
  "language_info": {
   "codemirror_mode": {
    "name": "ipython",
    "version": 3
   },
   "file_extension": ".py",
   "mimetype": "text/x-python",
   "name": "python",
   "nbconvert_exporter": "python",
   "pygments_lexer": "ipython3",
   "version": "3.8.10"
  }
 },
 "nbformat": 4,
 "nbformat_minor": 5
}
