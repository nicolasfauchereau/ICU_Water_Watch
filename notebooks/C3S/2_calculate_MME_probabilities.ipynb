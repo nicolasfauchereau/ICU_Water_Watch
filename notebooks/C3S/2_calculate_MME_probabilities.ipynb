{
 "cells": [
  {
   "cell_type": "code",
   "execution_count": 1,
   "id": "39906a50-30ee-4f07-bbff-6eb4831da534",
   "metadata": {},
   "outputs": [],
   "source": [
    "%load_ext autoreload\n",
    "%autoreload 2"
   ]
  },
  {
   "cell_type": "code",
   "execution_count": 2,
   "id": "35f76d2f-14b2-44b4-98f2-7e3edeaeecf7",
   "metadata": {},
   "outputs": [],
   "source": [
    "### os \n",
    "import os \n",
    "import sys\n",
    "\n",
    "### datetimes \n",
    "from datetime import datetime, timedelta\n",
    "from dateutil.relativedelta import relativedelta\n",
    "from calendar import month_name\n",
    "\n",
    "### scipy \n",
    "import numpy as np \n",
    "import pandas as pd\n",
    "import xarray as xr"
   ]
  },
  {
   "cell_type": "code",
   "execution_count": 3,
   "id": "6267b8b0-2ea5-49da-be46-c35ae2e9e4ec",
   "metadata": {},
   "outputs": [],
   "source": [
    "import pathlib\n",
    "HOME = pathlib.Path.home()\n",
    "CWD = pathlib.Path.cwd() "
   ]
  },
  {
   "cell_type": "code",
   "execution_count": 4,
   "id": "3face832-c495-4625-b989-f4fccd48f686",
   "metadata": {},
   "outputs": [],
   "source": [
    "sys.path.append('../..')"
   ]
  },
  {
   "cell_type": "code",
   "execution_count": 5,
   "id": "2c91d66f-1362-4c78-9e5d-219b294ac5a9",
   "metadata": {},
   "outputs": [],
   "source": [
    "from src import C3S"
   ]
  },
  {
   "cell_type": "markdown",
   "id": "db7ad6d3-52dd-415b-8228-06712296d6cc",
   "metadata": {},
   "source": [
    "### provider (always CDS for now)"
   ]
  },
  {
   "cell_type": "code",
   "execution_count": 6,
   "id": "52f01142-93bc-4a53-912e-d31c2e6e46c6",
   "metadata": {
    "papermill": {
     "duration": 0.012879,
     "end_time": "2020-02-06T23:46:40.239506",
     "exception": false,
     "start_time": "2020-02-06T23:46:40.226627",
     "status": "completed"
    },
    "tags": []
   },
   "outputs": [],
   "source": [
    "provider = 'CDS'"
   ]
  },
  {
   "cell_type": "markdown",
   "id": "12cb4c2f-896c-49f1-99bc-9fa9f84b228f",
   "metadata": {},
   "source": [
    "### variable name"
   ]
  },
  {
   "cell_type": "code",
   "execution_count": 7,
   "id": "a0fe22c9-db17-482b-9789-9fbedffcca7b",
   "metadata": {},
   "outputs": [],
   "source": [
    "varname = 'tprate'"
   ]
  },
  {
   "cell_type": "markdown",
   "id": "7c399091-b76a-4521-9b07-1b2090f48ecc",
   "metadata": {},
   "source": [
    "### period (`monthly` or `seasonal`)"
   ]
  },
  {
   "cell_type": "code",
   "execution_count": 8,
   "id": "a36ac2f4-2b81-4840-b812-29a4fbac113c",
   "metadata": {},
   "outputs": [],
   "source": [
    "period = 'monthly'"
   ]
  },
  {
   "cell_type": "markdown",
   "id": "d68ad8b9-9922-4593-9ede-01afef04713d",
   "metadata": {},
   "source": [
    "### list of GCMs "
   ]
  },
  {
   "cell_type": "code",
   "execution_count": 9,
   "id": "af33fe2e-5f59-4764-a2db-3195d6defe34",
   "metadata": {},
   "outputs": [],
   "source": [
    "list_GCMs = ['ECMWF','UKMO','METEO_FRANCE','CMCC','DWD', 'NCEP', 'JMA', 'ECCC']"
   ]
  },
  {
   "cell_type": "markdown",
   "id": "747979ae-761a-4512-b73f-c0c7da0edeae",
   "metadata": {},
   "source": [
    "### lag in months (if need to process older forecasts)"
   ]
  },
  {
   "cell_type": "code",
   "execution_count": 10,
   "id": "270758dc-5e03-4cd7-b340-e03e3b498dc1",
   "metadata": {},
   "outputs": [],
   "source": [
    "lag = 0 "
   ]
  },
  {
   "cell_type": "markdown",
   "id": "567333ca-4646-4274-8fc9-f7c2c1e7b2b6",
   "metadata": {},
   "source": [
    "### get today's date "
   ]
  },
  {
   "cell_type": "code",
   "execution_count": 11,
   "id": "f435ed08-b3fd-4632-9f9e-5a656a504eb6",
   "metadata": {},
   "outputs": [],
   "source": [
    "date = datetime.utcnow()"
   ]
  },
  {
   "cell_type": "markdown",
   "id": "8209293b-3222-49dc-86b5-6eecf058396e",
   "metadata": {},
   "source": [
    "### apply lag "
   ]
  },
  {
   "cell_type": "code",
   "execution_count": 12,
   "id": "bdbdb36f-d620-4e82-b872-0771e2a6ee0d",
   "metadata": {},
   "outputs": [],
   "source": [
    "date = date - relativedelta(months=lag)"
   ]
  },
  {
   "cell_type": "markdown",
   "id": "4413f04d-c7d1-4d58-b7df-e4cc5cf32185",
   "metadata": {},
   "source": [
    "### path to the GCMs **hindcast datasets** and **climatologies** "
   ]
  },
  {
   "cell_type": "code",
   "execution_count": 13,
   "id": "2e4526aa-da84-43fb-8de2-cb745c042725",
   "metadata": {},
   "outputs": [],
   "source": [
    "gcm_path = pathlib.Path('/media/nicolasf/END19101/ICU/data/CDS')"
   ]
  },
  {
   "cell_type": "markdown",
   "id": "753a86c1-5ec9-497e-a384-0edb2715cb3a",
   "metadata": {},
   "source": [
    "### path to where the **realtime forecasts** have been downloaded "
   ]
  },
  {
   "cell_type": "code",
   "execution_count": 14,
   "id": "0ba4525d-b297-4f38-a5d1-684e2e81ebf4",
   "metadata": {},
   "outputs": [],
   "source": [
    "realtime_path  = gcm_path.joinpath(\"realtime\") "
   ]
  },
  {
   "cell_type": "markdown",
   "id": "f45955b2-b148-463e-88f3-f487efeddd80",
   "metadata": {},
   "source": [
    "### output path for the probabilistic forecast files "
   ]
  },
  {
   "cell_type": "code",
   "execution_count": 15,
   "id": "7bf3dded-6e9d-4252-9dfc-c111e1202d19",
   "metadata": {},
   "outputs": [],
   "source": [
    "opath = CWD.parents[1].joinpath(\"outputs/C3S\")"
   ]
  },
  {
   "cell_type": "code",
   "execution_count": 16,
   "id": "80975845-9a5d-423d-ba69-51b0b6954606",
   "metadata": {},
   "outputs": [],
   "source": [
    "if not opath.exists(): \n",
    "    opath.mkdir(parents=True)"
   ]
  },
  {
   "cell_type": "markdown",
   "id": "f6d7810c-ed9b-4c22-b09c-818793fba490",
   "metadata": {},
   "source": [
    "### get year and month "
   ]
  },
  {
   "cell_type": "code",
   "execution_count": 17,
   "id": "e42ecc20-377f-43bf-8534-5a841cd625bd",
   "metadata": {},
   "outputs": [],
   "source": [
    "year, month =  date.year, date.month"
   ]
  },
  {
   "cell_type": "markdown",
   "id": "38acab05-6c0c-4728-839a-a7a88b8e6e01",
   "metadata": {},
   "source": [
    "### loop over the GCMs here"
   ]
  },
  {
   "cell_type": "code",
   "execution_count": null,
   "id": "a7e3fe63-387e-44e5-ad23-71d3a67534b4",
   "metadata": {},
   "outputs": [
    {
     "name": "stdout",
     "output_type": "stream",
     "text": [
      "\n",
      "--------------------reading forecasts issued 2021-05 for GCM ECMWF\n",
      "\n",
      "unit is m s**-1, converting to mm/day\n",
      "\n",
      "now converting to mm/month, converted precipitation will be held in var = precip\n"
     ]
    }
   ],
   "source": [
    "for GCM in list_GCMs: \n",
    "\n",
    "    ### path to the CLIMATOLOGICAL terciles and deciles, \n",
    "    \n",
    "    ### calculated over all the ensembles and month (for each initial month, i.e. leadtime dependent climatology) \n",
    "    \n",
    "    clim_path = gcm_path.joinpath(f'CLIMATOLOGY/{GCM}')\n",
    "\n",
    "    ### loads the monthly tercile, decile and percentile climatologies \n",
    "\n",
    "    tercile_climatology = xr.open_dataset(clim_path.joinpath(f\"{GCM}_{period}_tercile_climatology_v2.netcdf\"), engine='netcdf4')\n",
    "    decile_climatology = xr.open_dataset(clim_path.joinpath(f\"{GCM}_{period}_decile_climatology_v2.netcdf\"), engine='netcdf4')\n",
    "    percentile_climatology = xr.open_dataset(clim_path.joinpath(f\"{GCM}_{period}_percentile_climatology_v2.netcdf\"), engine='netcdf4')\n",
    "\n",
    "    ### Open the (latest) realtime forecasts  \n",
    "\n",
    "    print(f\"{50*'-'}\\nReading forecasts issued {year}-{str(month).zfill(2)} for GCM {GCM}\")\n",
    "\n",
    "    x = xr.open_dataset(gcm_path.joinpath(f\"realtime/{GCM}/{varname.upper()}/ensemble_seas_forecasts_{varname}_from_{year}_{str(month).zfill(2)}_{GCM}.netcdf\"), engine='netcdf4')\n",
    "\n",
    "    ### preprocess (harmonize the variable names, sort the latitudes, etc )\n",
    "\n",
    "    x = C3S.preprocess_GCM(x)\n",
    "\n",
    "    ### convert from mm/day to mm/month \n",
    "\n",
    "    x = C3S.convert_rainfall(x, varin='tprate', varout='precip', leadvar='step', timevar='time', dropvar=True)\n",
    "    \n",
    "    ### just in case, remove potential missing fields (members)\n",
    "    \n",
    "    x = x.dropna(dim='member')\n",
    "    \n",
    "    # calculates the seasonal values if period == seasonal\n",
    "    \n",
    "    if period == 'seasonal': \n",
    "        \n",
    "        print(\"Calculating the seasonal (3 months) accumulations\")\n",
    "    \n",
    "        x = x.rolling({'step':3}, min_periods=3, center=False).sum('step') \n",
    "    \n",
    "        # get rid of the 2 first steps, which by definition contain missing values \n",
    "    \n",
    "        x = x.sel(step=slice(3, None))\n",
    "\n",
    "    ### checks that the initial month corresponds indeed to what we defined earlier \n",
    "\n",
    "    if (x.time.dt.year != year) or (x.time.dt.month != month): \n",
    "        \n",
    "        print(f\"issue with the initial date in the latest forecast, expected {year}-{month}, got {x.time.dt.year}-{x.time.dt.month}\")\n",
    "\n",
    "    ### selects the appropriate month in the terciles or deciles climatology (again, initialisation time, everything else is leadtime dependent)\n",
    "\n",
    "    clim_terciles = tercile_climatology.sel(month=month)\n",
    "\n",
    "    clim_deciles = decile_climatology.sel(month=month)\n",
    "    \n",
    "    clim_percentiles = percentile_climatology.sel(month=month)\n",
    "\n",
    "    ### Now calculates the tercile and decile category for each member \n",
    "\n",
    "    terciles_category = C3S.get_GCM_category_digitize(x, clim_terciles, varname='precip', dim='quantile')\n",
    "\n",
    "    deciles_category = C3S.get_GCM_category_digitize(x, clim_deciles, varname='precip', dim='quantile')\n",
    "    \n",
    "    percentiles_category = C3S.get_GCM_category_digitize(x, clim_percentiles, varname='precip', dim='quantile')\n",
    "\n",
    "    ### calculate the proportion of members in each category: i.e. the PROBABILITY for each category\n",
    "\n",
    "    terciles_category_percent = C3S.calculate_quantiles_probabilities(terciles_category, ncategories=3)\n",
    "\n",
    "    deciles_category_percent = C3S.calculate_quantiles_probabilities(deciles_category, ncategories=10)\n",
    "    \n",
    "    percentiles_category_percent = C3S.calculate_quantiles_probabilities(percentiles_category, ncategories=21)\n",
    "\n",
    "    ### creates a dummy 'GCM' dimension, and saves the tercile and decile probabilities to disk \n",
    "\n",
    "    terciles_category_percent = terciles_category_percent.expand_dims(dim={'GCM':[GCM]}, axis=0) \n",
    "\n",
    "    deciles_category_percent = deciles_category_percent.expand_dims(dim={'GCM':[GCM]}, axis=0) \n",
    "    \n",
    "    percentiles_category_percent = percentiles_category_percent.expand_dims(dim={'GCM':[GCM]}, axis=0)\n",
    "\n",
    "    ### saves to disk \n",
    "\n",
    "    terciles_category_percent.to_netcdf(opath.joinpath(f\"{period}_terciles_probabilities_from_{terciles_category_percent.time.dt.strftime('%Y-%m').data[0]}_{GCM}.netcdf\")) \n",
    "\n",
    "    deciles_category_percent.to_netcdf(opath.joinpath(f\"{period}_deciles_probabilities_from_{deciles_category_percent.time.dt.strftime('%Y-%m').data[0]}_{GCM}.netcdf\")) \n",
    "\n",
    "    percentiles_category_percent.to_netcdf(opath.joinpath(f\"{period}_percentiles_probabilities_from_{percentiles_category_percent.time.dt.strftime('%Y-%m').data[0]}_{GCM}.netcdf\")) \n",
    "\n",
    "    print(f\"\\n{GCM} {period} forecasts from {year}-{str(month).zfill(2)} processed ...\\n\")\n"
   ]
  },
  {
   "cell_type": "code",
   "execution_count": null,
   "id": "e90607be-044f-478e-8c56-ed69a5608960",
   "metadata": {},
   "outputs": [],
   "source": []
  },
  {
   "cell_type": "code",
   "execution_count": null,
   "id": "c24aa9b0-07ab-43ac-9127-e83a503a5230",
   "metadata": {},
   "outputs": [],
   "source": []
  }
 ],
 "metadata": {
  "kernelspec": {
   "display_name": "Python 3",
   "language": "python",
   "name": "python3"
  },
  "language_info": {
   "codemirror_mode": {
    "name": "ipython",
    "version": 3
   },
   "file_extension": ".py",
   "mimetype": "text/x-python",
   "name": "python",
   "nbconvert_exporter": "python",
   "pygments_lexer": "ipython3",
   "version": "3.8.10"
  }
 },
 "nbformat": 4,
 "nbformat_minor": 5
}
