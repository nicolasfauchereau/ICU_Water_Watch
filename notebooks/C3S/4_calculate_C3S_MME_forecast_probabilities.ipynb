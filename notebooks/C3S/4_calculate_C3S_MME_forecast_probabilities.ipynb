{
 "cells": [
  {
   "cell_type": "markdown",
   "id": "3880d8eb-ca66-48bb-8d73-e4143d0aaa36",
   "metadata": {
    "papermill": {
     "duration": 0.028225,
     "end_time": "2022-05-15T23:38:31.585953",
     "exception": false,
     "start_time": "2022-05-15T23:38:31.557728",
     "status": "completed"
    },
    "tags": []
   },
   "source": [
    "## calculate the probabilities for terciles, deciles and percentiles (0.02 then 0.05 to 0.95) categories for a 'realtime' forecast, with respect to the lead-time dependent monthly and seasonal hindcast climatologies, for each of the 8 C3S GCMs (ECMWF, UKMO, METEO-FRANCE, DWD, CMCC, NCEP, JMA and ECCC)"
   ]
  },
  {
   "cell_type": "markdown",
   "id": "046911ae-c3de-4e6e-8917-d48f12cf0ecf",
   "metadata": {
    "papermill": {
     "duration": 0.008508,
     "end_time": "2022-05-15T23:38:31.607194",
     "exception": false,
     "start_time": "2022-05-15T23:38:31.598686",
     "status": "completed"
    },
    "tags": []
   },
   "source": [
    "This notebook:   \n",
    "    \n",
    "1) reads the latest forecasts from the C3S MME [ECMWF, UKMO, METEO-FRANCE, DWD, CMCC, NCEP, JMA and ECCC]  \n",
    "2) preprocesses, converts to monthly / seasonal rainfall accumulations   \n",
    "3) reads the leadtime-dependent terciles, deciles and percentiles (0.02 then 0.05 to 0.95) climatologies corresponding to the initial month of the forecast  \n",
    "4) calculate the probabilities for each quantile category as the proportion of the GCM's ensemble members  \n",
    "5) saves to disk these probabilities for later use and mapping   "
   ]
  },
  {
   "cell_type": "code",
   "execution_count": 1,
   "id": "39906a50-30ee-4f07-bbff-6eb4831da534",
   "metadata": {
    "execution": {
     "iopub.execute_input": "2022-05-15T23:38:31.622450Z",
     "iopub.status.busy": "2022-05-15T23:38:31.622278Z",
     "iopub.status.idle": "2022-05-15T23:38:31.633816Z",
     "shell.execute_reply": "2022-05-15T23:38:31.633362Z"
    },
    "papermill": {
     "duration": 0.019904,
     "end_time": "2022-05-15T23:38:31.634943",
     "exception": false,
     "start_time": "2022-05-15T23:38:31.615039",
     "status": "completed"
    },
    "tags": []
   },
   "outputs": [],
   "source": [
    "%load_ext autoreload\n",
    "%autoreload 2"
   ]
  },
  {
   "cell_type": "code",
   "execution_count": 2,
   "id": "35f76d2f-14b2-44b4-98f2-7e3edeaeecf7",
   "metadata": {
    "execution": {
     "iopub.execute_input": "2022-05-15T23:38:31.648429Z",
     "iopub.status.busy": "2022-05-15T23:38:31.648284Z",
     "iopub.status.idle": "2022-05-15T23:38:32.650647Z",
     "shell.execute_reply": "2022-05-15T23:38:32.650098Z"
    },
    "papermill": {
     "duration": 1.010695,
     "end_time": "2022-05-15T23:38:32.651892",
     "exception": false,
     "start_time": "2022-05-15T23:38:31.641197",
     "status": "completed"
    },
    "tags": []
   },
   "outputs": [],
   "source": [
    "### os \n",
    "import os \n",
    "import sys\n",
    "\n",
    "### datetimes \n",
    "from datetime import datetime, timedelta\n",
    "from dateutil.relativedelta import relativedelta\n",
    "from calendar import month_name\n",
    "\n",
    "### scipy \n",
    "import numpy as np \n",
    "import pandas as pd\n",
    "import xarray as xr"
   ]
  },
  {
   "cell_type": "code",
   "execution_count": 3,
   "id": "6267b8b0-2ea5-49da-be46-c35ae2e9e4ec",
   "metadata": {
    "execution": {
     "iopub.execute_input": "2022-05-15T23:38:32.665543Z",
     "iopub.status.busy": "2022-05-15T23:38:32.665393Z",
     "iopub.status.idle": "2022-05-15T23:38:32.679565Z",
     "shell.execute_reply": "2022-05-15T23:38:32.679007Z"
    },
    "papermill": {
     "duration": 0.0229,
     "end_time": "2022-05-15T23:38:32.680952",
     "exception": false,
     "start_time": "2022-05-15T23:38:32.658052",
     "status": "completed"
    },
    "tags": []
   },
   "outputs": [],
   "source": [
    "import pathlib\n",
    "HOME = pathlib.Path.home()\n",
    "CWD = pathlib.Path.cwd() "
   ]
  },
  {
   "cell_type": "markdown",
   "id": "4908616d-93e1-4e2e-a799-8a3c6c69dc6d",
   "metadata": {
    "papermill": {
     "duration": 0.005856,
     "end_time": "2022-05-15T23:38:32.693364",
     "exception": false,
     "start_time": "2022-05-15T23:38:32.687508",
     "status": "completed"
    },
    "tags": []
   },
   "source": [
    "### import local functions for the processing of the C3S forecasts "
   ]
  },
  {
   "cell_type": "code",
   "execution_count": 4,
   "id": "3face832-c495-4625-b989-f4fccd48f686",
   "metadata": {
    "execution": {
     "iopub.execute_input": "2022-05-15T23:38:32.706660Z",
     "iopub.status.busy": "2022-05-15T23:38:32.706518Z",
     "iopub.status.idle": "2022-05-15T23:38:32.721797Z",
     "shell.execute_reply": "2022-05-15T23:38:32.721338Z"
    },
    "papermill": {
     "duration": 0.023031,
     "end_time": "2022-05-15T23:38:32.723006",
     "exception": false,
     "start_time": "2022-05-15T23:38:32.699975",
     "status": "completed"
    },
    "tags": []
   },
   "outputs": [],
   "source": [
    "sys.path.append('../..')"
   ]
  },
  {
   "cell_type": "code",
   "execution_count": 5,
   "id": "2c91d66f-1362-4c78-9e5d-219b294ac5a9",
   "metadata": {
    "execution": {
     "iopub.execute_input": "2022-05-15T23:38:32.736726Z",
     "iopub.status.busy": "2022-05-15T23:38:32.736588Z",
     "iopub.status.idle": "2022-05-15T23:38:45.479863Z",
     "shell.execute_reply": "2022-05-15T23:38:45.479323Z"
    },
    "papermill": {
     "duration": 12.751509,
     "end_time": "2022-05-15T23:38:45.481073",
     "exception": false,
     "start_time": "2022-05-15T23:38:32.729564",
     "status": "completed"
    },
    "tags": []
   },
   "outputs": [],
   "source": [
    "from ICU_Water_Watch import C3S, domains"
   ]
  },
  {
   "cell_type": "markdown",
   "id": "b683905e-dc6b-4bfd-8447-ea296a739ab5",
   "metadata": {
    "papermill": {
     "duration": 0.006828,
     "end_time": "2022-05-15T23:38:45.494015",
     "exception": false,
     "start_time": "2022-05-15T23:38:45.487187",
     "status": "completed"
    },
    "tags": []
   },
   "source": [
    "### parameters for papermill "
   ]
  },
  {
   "cell_type": "code",
   "execution_count": 6,
   "id": "86444799-6043-41c9-894a-c466d6260b49",
   "metadata": {
    "execution": {
     "iopub.execute_input": "2022-05-15T23:38:45.507308Z",
     "iopub.status.busy": "2022-05-15T23:38:45.507101Z",
     "iopub.status.idle": "2022-05-15T23:38:45.527023Z",
     "shell.execute_reply": "2022-05-15T23:38:45.526538Z"
    },
    "papermill": {
     "duration": 0.02825,
     "end_time": "2022-05-15T23:38:45.528316",
     "exception": false,
     "start_time": "2022-05-15T23:38:45.500066",
     "status": "completed"
    },
    "tags": [
     "parameters"
    ]
   },
   "outputs": [],
   "source": [
    "provider = 'CDS' # should not change\n",
    "GCM = 'ECMWF'\n",
    "# list_GCMs = ['ECMWF','UKMO','METEO_FRANCE','CMCC','DWD', 'NCEP', 'JMA', 'ECCC_CanCM4i', 'ECCC_GEM5_NEMO']\n",
    "varname = 'tprate' # can be in ['tprate', 't2m']\n",
    "period = 'monthly' # valid values: 'seasonal or 'monthly'\n",
    "# if one wants to process older forecasts \n",
    "lag = 0\n",
    "# path where to find the hindcasts and forecasts \n",
    "gcm_path = f'/media/nicolasf/END19101/ICU/data/{provider}/operational'\n",
    "outputs_path = '/home/nicolasf/operational/ICU/development/hotspots/code/ICU_Water_Watch/outputs/C3S'"
   ]
  },
  {
   "cell_type": "code",
   "execution_count": 8,
   "id": "7472b63f-471f-4214-b4f9-afbbde88e807",
   "metadata": {
    "execution": {
     "iopub.execute_input": "2022-05-15T23:38:45.572940Z",
     "iopub.status.busy": "2022-05-15T23:38:45.572787Z",
     "iopub.status.idle": "2022-05-15T23:38:45.590081Z",
     "shell.execute_reply": "2022-05-15T23:38:45.589665Z"
    },
    "papermill": {
     "duration": 0.025228,
     "end_time": "2022-05-15T23:38:45.591277",
     "exception": false,
     "start_time": "2022-05-15T23:38:45.566049",
     "status": "completed"
    },
    "tags": []
   },
   "outputs": [],
   "source": [
    "gcm_path = pathlib.Path(gcm_path)\n",
    "outputs_path = pathlib.Path(outputs_path)"
   ]
  },
  {
   "cell_type": "markdown",
   "id": "0c0bed97-7d1b-466b-9428-5774c9e62a75",
   "metadata": {
    "papermill": {
     "duration": 0.00623,
     "end_time": "2022-05-15T23:38:45.603697",
     "exception": false,
     "start_time": "2022-05-15T23:38:45.597467",
     "status": "completed"
    },
    "tags": []
   },
   "source": [
    "### create the outputs path if it doesnt exist "
   ]
  },
  {
   "cell_type": "code",
   "execution_count": 9,
   "id": "9f8212d4-c611-48d6-8be7-fc67faf9d621",
   "metadata": {
    "execution": {
     "iopub.execute_input": "2022-05-15T23:38:45.616822Z",
     "iopub.status.busy": "2022-05-15T23:38:45.616668Z",
     "iopub.status.idle": "2022-05-15T23:38:45.634442Z",
     "shell.execute_reply": "2022-05-15T23:38:45.633982Z"
    },
    "papermill": {
     "duration": 0.025754,
     "end_time": "2022-05-15T23:38:45.635652",
     "exception": false,
     "start_time": "2022-05-15T23:38:45.609898",
     "status": "completed"
    },
    "tags": []
   },
   "outputs": [],
   "source": [
    "if not(outputs_path).exists(): \n",
    "    outputs_path.mkdir(parents=True)"
   ]
  },
  {
   "cell_type": "markdown",
   "id": "4b6e5e18-324e-414b-bf36-6b9a74984413",
   "metadata": {
    "papermill": {
     "duration": 0.005883,
     "end_time": "2022-05-15T23:38:45.647644",
     "exception": false,
     "start_time": "2022-05-15T23:38:45.641761",
     "status": "completed"
    },
    "tags": []
   },
   "source": [
    "### domain for extraction "
   ]
  },
  {
   "cell_type": "code",
   "execution_count": 10,
   "id": "c0ad3fb4-a2f3-4d4b-ae78-f8f87e634449",
   "metadata": {
    "execution": {
     "iopub.execute_input": "2022-05-15T23:38:45.660376Z",
     "iopub.status.busy": "2022-05-15T23:38:45.660217Z",
     "iopub.status.idle": "2022-05-15T23:38:45.677535Z",
     "shell.execute_reply": "2022-05-15T23:38:45.677078Z"
    },
    "papermill": {
     "duration": 0.025274,
     "end_time": "2022-05-15T23:38:45.678757",
     "exception": false,
     "start_time": "2022-05-15T23:38:45.653483",
     "status": "completed"
    },
    "tags": []
   },
   "outputs": [],
   "source": [
    "domain = domains.domains['C3S_download']"
   ]
  },
  {
   "cell_type": "markdown",
   "id": "567333ca-4646-4274-8fc9-f7c2c1e7b2b6",
   "metadata": {
    "papermill": {
     "duration": 0.006269,
     "end_time": "2022-05-15T23:38:45.691635",
     "exception": false,
     "start_time": "2022-05-15T23:38:45.685366",
     "status": "completed"
    },
    "tags": []
   },
   "source": [
    "### get today's date "
   ]
  },
  {
   "cell_type": "code",
   "execution_count": 11,
   "id": "f435ed08-b3fd-4632-9f9e-5a656a504eb6",
   "metadata": {
    "execution": {
     "iopub.execute_input": "2022-05-15T23:38:45.704820Z",
     "iopub.status.busy": "2022-05-15T23:38:45.704670Z",
     "iopub.status.idle": "2022-05-15T23:38:45.721977Z",
     "shell.execute_reply": "2022-05-15T23:38:45.721508Z"
    },
    "papermill": {
     "duration": 0.025557,
     "end_time": "2022-05-15T23:38:45.723274",
     "exception": false,
     "start_time": "2022-05-15T23:38:45.697717",
     "status": "completed"
    },
    "tags": []
   },
   "outputs": [],
   "source": [
    "date = datetime.utcnow()"
   ]
  },
  {
   "cell_type": "markdown",
   "id": "8209293b-3222-49dc-86b5-6eecf058396e",
   "metadata": {
    "papermill": {
     "duration": 0.005842,
     "end_time": "2022-05-15T23:38:45.735163",
     "exception": false,
     "start_time": "2022-05-15T23:38:45.729321",
     "status": "completed"
    },
    "tags": []
   },
   "source": [
    "### apply lag "
   ]
  },
  {
   "cell_type": "code",
   "execution_count": 12,
   "id": "bdbdb36f-d620-4e82-b872-0771e2a6ee0d",
   "metadata": {
    "execution": {
     "iopub.execute_input": "2022-05-15T23:38:45.747949Z",
     "iopub.status.busy": "2022-05-15T23:38:45.747804Z",
     "iopub.status.idle": "2022-05-15T23:38:45.765574Z",
     "shell.execute_reply": "2022-05-15T23:38:45.765111Z"
    },
    "papermill": {
     "duration": 0.025653,
     "end_time": "2022-05-15T23:38:45.766782",
     "exception": false,
     "start_time": "2022-05-15T23:38:45.741129",
     "status": "completed"
    },
    "tags": []
   },
   "outputs": [],
   "source": [
    "date = date - relativedelta(months=lag)"
   ]
  },
  {
   "cell_type": "code",
   "execution_count": 13,
   "id": "30dc799d-8eb6-4b17-a3fe-a6f05dc15121",
   "metadata": {
    "execution": {
     "iopub.execute_input": "2022-05-15T23:38:45.779863Z",
     "iopub.status.busy": "2022-05-15T23:38:45.779719Z",
     "iopub.status.idle": "2022-05-15T23:38:45.797812Z",
     "shell.execute_reply": "2022-05-15T23:38:45.797370Z"
    },
    "papermill": {
     "duration": 0.025941,
     "end_time": "2022-05-15T23:38:45.798838",
     "exception": false,
     "start_time": "2022-05-15T23:38:45.772897",
     "status": "completed"
    },
    "tags": []
   },
   "outputs": [
    {
     "name": "stdout",
     "output_type": "stream",
     "text": [
      "will process forecasts issued in May 2022\n"
     ]
    }
   ],
   "source": [
    "print(f\"will process forecasts issued in {date:%B %Y}\")"
   ]
  },
  {
   "cell_type": "markdown",
   "id": "4413f04d-c7d1-4d58-b7df-e4cc5cf32185",
   "metadata": {
    "papermill": {
     "duration": 0.006386,
     "end_time": "2022-05-15T23:38:45.811620",
     "exception": false,
     "start_time": "2022-05-15T23:38:45.805234",
     "status": "completed"
    },
    "tags": []
   },
   "source": [
    "### path to the GCMs **hindcast datasets** and **climatologies** "
   ]
  },
  {
   "cell_type": "code",
   "execution_count": 14,
   "id": "2e4526aa-da84-43fb-8de2-cb745c042725",
   "metadata": {
    "execution": {
     "iopub.execute_input": "2022-05-15T23:38:45.824511Z",
     "iopub.status.busy": "2022-05-15T23:38:45.824370Z",
     "iopub.status.idle": "2022-05-15T23:38:45.841596Z",
     "shell.execute_reply": "2022-05-15T23:38:45.841106Z"
    },
    "papermill": {
     "duration": 0.025266,
     "end_time": "2022-05-15T23:38:45.842873",
     "exception": false,
     "start_time": "2022-05-15T23:38:45.817607",
     "status": "completed"
    },
    "tags": []
   },
   "outputs": [],
   "source": [
    "hindcasts_path = gcm_path.joinpath('hindcasts')"
   ]
  },
  {
   "cell_type": "markdown",
   "id": "753a86c1-5ec9-497e-a384-0edb2715cb3a",
   "metadata": {
    "papermill": {
     "duration": 0.006435,
     "end_time": "2022-05-15T23:38:45.856042",
     "exception": false,
     "start_time": "2022-05-15T23:38:45.849607",
     "status": "completed"
    },
    "tags": []
   },
   "source": [
    "### path to where the **realtime forecasts** have been downloaded "
   ]
  },
  {
   "cell_type": "code",
   "execution_count": 15,
   "id": "f54dfd83-d645-4148-b769-ab9248cb53de",
   "metadata": {
    "execution": {
     "iopub.execute_input": "2022-05-15T23:38:45.868857Z",
     "iopub.status.busy": "2022-05-15T23:38:45.868710Z",
     "iopub.status.idle": "2022-05-15T23:38:45.886335Z",
     "shell.execute_reply": "2022-05-15T23:38:45.885864Z"
    },
    "papermill": {
     "duration": 0.025431,
     "end_time": "2022-05-15T23:38:45.887544",
     "exception": false,
     "start_time": "2022-05-15T23:38:45.862113",
     "status": "completed"
    },
    "tags": []
   },
   "outputs": [],
   "source": [
    "forecasts_path = gcm_path.joinpath('forecasts')"
   ]
  },
  {
   "cell_type": "markdown",
   "id": "f6d7810c-ed9b-4c22-b09c-818793fba490",
   "metadata": {
    "papermill": {
     "duration": 0.006083,
     "end_time": "2022-05-15T23:38:45.899810",
     "exception": false,
     "start_time": "2022-05-15T23:38:45.893727",
     "status": "completed"
    },
    "tags": []
   },
   "source": [
    "### get year and month "
   ]
  },
  {
   "cell_type": "code",
   "execution_count": 16,
   "id": "e42ecc20-377f-43bf-8534-5a841cd625bd",
   "metadata": {
    "execution": {
     "iopub.execute_input": "2022-05-15T23:38:45.913291Z",
     "iopub.status.busy": "2022-05-15T23:38:45.913142Z",
     "iopub.status.idle": "2022-05-15T23:38:45.930843Z",
     "shell.execute_reply": "2022-05-15T23:38:45.930297Z"
    },
    "papermill": {
     "duration": 0.026188,
     "end_time": "2022-05-15T23:38:45.932187",
     "exception": false,
     "start_time": "2022-05-15T23:38:45.905999",
     "status": "completed"
    },
    "tags": []
   },
   "outputs": [],
   "source": [
    "year, month =  date.year, date.month"
   ]
  },
  {
   "cell_type": "markdown",
   "id": "7ca4a61d-4851-43ed-a157-66bffe47d3f1",
   "metadata": {
    "papermill": {
     "duration": 0.00605,
     "end_time": "2022-05-15T23:38:45.946999",
     "exception": false,
     "start_time": "2022-05-15T23:38:45.940949",
     "status": "completed"
    },
    "tags": []
   },
   "source": [
    "### calculates and saves the quantiles probabilities "
   ]
  },
  {
   "cell_type": "markdown",
   "id": "cf066c9d-bf33-4723-b801-806ff282285b",
   "metadata": {
    "papermill": {
     "duration": 0.006051,
     "end_time": "2022-05-15T23:38:45.959102",
     "exception": false,
     "start_time": "2022-05-15T23:38:45.953051",
     "status": "completed"
    },
    "tags": []
   },
   "source": [
    "#### read the climatologies "
   ]
  },
  {
   "cell_type": "code",
   "execution_count": 17,
   "id": "769e35a5-ce0b-4992-a92e-6a3a31931bf0",
   "metadata": {
    "execution": {
     "iopub.execute_input": "2022-05-15T23:38:45.971869Z",
     "iopub.status.busy": "2022-05-15T23:38:45.971714Z",
     "iopub.status.idle": "2022-05-15T23:38:45.988935Z",
     "shell.execute_reply": "2022-05-15T23:38:45.988384Z"
    },
    "papermill": {
     "duration": 0.025146,
     "end_time": "2022-05-15T23:38:45.990225",
     "exception": false,
     "start_time": "2022-05-15T23:38:45.965079",
     "status": "completed"
    },
    "tags": []
   },
   "outputs": [],
   "source": [
    "clim_path = hindcasts_path.joinpath(f'CLIMATOLOGY/{GCM}/{varname.upper()}')"
   ]
  },
  {
   "cell_type": "code",
   "execution_count": 18,
   "id": "0a5c1d55-2795-42d6-b049-255e25b3abf3",
   "metadata": {
    "execution": {
     "iopub.execute_input": "2022-05-15T23:38:46.004079Z",
     "iopub.status.busy": "2022-05-15T23:38:46.003930Z",
     "iopub.status.idle": "2022-05-15T23:38:46.070469Z",
     "shell.execute_reply": "2022-05-15T23:38:46.070021Z"
    },
    "papermill": {
     "duration": 0.074762,
     "end_time": "2022-05-15T23:38:46.071686",
     "exception": false,
     "start_time": "2022-05-15T23:38:45.996924",
     "status": "completed"
    },
    "tags": []
   },
   "outputs": [],
   "source": [
    "tercile_climatology = xr.open_dataset(clim_path.joinpath(f\"{GCM}_{varname}_{period}_tercile_climatology_{str(month).zfill(2)}.netcdf\"), engine='netcdf4')\n",
    "\n",
    "quartile_climatology = xr.open_dataset(clim_path.joinpath(f\"{GCM}_{varname}_{period}_quartile_climatology_{str(month).zfill(2)}.netcdf\"), engine='netcdf4')\n",
    "\n",
    "decile_climatology = xr.open_dataset(clim_path.joinpath(f\"{GCM}_{varname}_{period}_decile_climatology_{str(month).zfill(2)}.netcdf\"), engine='netcdf4')\n",
    "\n",
    "percentile_climatology = xr.open_dataset(clim_path.joinpath(f\"{GCM}_{varname}_{period}_percentile_climatology_{str(month).zfill(2)}.netcdf\"), engine='netcdf4')"
   ]
  },
  {
   "cell_type": "markdown",
   "id": "6773a12f-fa95-4a97-a070-1fe11f645483",
   "metadata": {
    "papermill": {
     "duration": 0.006246,
     "end_time": "2022-05-15T23:38:46.084184",
     "exception": false,
     "start_time": "2022-05-15T23:38:46.077938",
     "status": "completed"
    },
    "tags": []
   },
   "source": [
    "#### make sure we have the same domains"
   ]
  },
  {
   "cell_type": "code",
   "execution_count": 19,
   "id": "c9fe00f7-17b4-4e50-8270-c07069553dba",
   "metadata": {
    "execution": {
     "iopub.execute_input": "2022-05-15T23:38:46.097377Z",
     "iopub.status.busy": "2022-05-15T23:38:46.097228Z",
     "iopub.status.idle": "2022-05-15T23:38:46.116883Z",
     "shell.execute_reply": "2022-05-15T23:38:46.116407Z"
    },
    "papermill": {
     "duration": 0.027886,
     "end_time": "2022-05-15T23:38:46.118200",
     "exception": false,
     "start_time": "2022-05-15T23:38:46.090314",
     "status": "completed"
    },
    "tags": []
   },
   "outputs": [],
   "source": [
    "tercile_climatology = domains.extract_domain(tercile_climatology, domain)\n",
    "\n",
    "quartile_climatology = domains.extract_domain(quartile_climatology, domain)\n",
    "\n",
    "decile_climatology = domains.extract_domain(decile_climatology, domain)\n",
    "\n",
    "percentile_climatology = domains.extract_domain(percentile_climatology, domain)"
   ]
  },
  {
   "cell_type": "markdown",
   "id": "3cb65b05-a90a-4641-a7f7-52c382b1fee6",
   "metadata": {
    "papermill": {
     "duration": 0.00601,
     "end_time": "2022-05-15T23:38:46.130489",
     "exception": false,
     "start_time": "2022-05-15T23:38:46.124479",
     "status": "completed"
    },
    "tags": []
   },
   "source": [
    "#### Now read the forecasts "
   ]
  },
  {
   "cell_type": "code",
   "execution_count": 20,
   "id": "2eea3266-8da7-4f5b-971c-26c52d58fb5f",
   "metadata": {
    "execution": {
     "iopub.execute_input": "2022-05-15T23:38:46.143505Z",
     "iopub.status.busy": "2022-05-15T23:38:46.143356Z",
     "iopub.status.idle": "2022-05-15T23:38:46.163677Z",
     "shell.execute_reply": "2022-05-15T23:38:46.163341Z"
    },
    "papermill": {
     "duration": 0.028265,
     "end_time": "2022-05-15T23:38:46.164706",
     "exception": false,
     "start_time": "2022-05-15T23:38:46.136441",
     "status": "completed"
    },
    "tags": []
   },
   "outputs": [
    {
     "name": "stdout",
     "output_type": "stream",
     "text": [
      "--------------------------------------------------\n",
      "Reading tprate forecasts issued 2022-05 for GCM ECCC_GEM_NEMO\n"
     ]
    }
   ],
   "source": [
    "print(f\"{50*'-'}\\nReading {varname} forecasts issued {year}-{str(month).zfill(2)} for GCM {GCM}\")"
   ]
  },
  {
   "cell_type": "code",
   "execution_count": 21,
   "id": "60a261a9-d8fc-468d-b365-05bf0d7cb354",
   "metadata": {
    "execution": {
     "iopub.execute_input": "2022-05-15T23:38:46.178675Z",
     "iopub.status.busy": "2022-05-15T23:38:46.178227Z",
     "iopub.status.idle": "2022-05-15T23:38:46.200595Z",
     "shell.execute_reply": "2022-05-15T23:38:46.200101Z"
    },
    "papermill": {
     "duration": 0.030827,
     "end_time": "2022-05-15T23:38:46.201815",
     "exception": false,
     "start_time": "2022-05-15T23:38:46.170988",
     "status": "completed"
    },
    "tags": []
   },
   "outputs": [],
   "source": [
    "if 'ECCC' in GCM: \n",
    "\n",
    "    x = xr.open_dataset(forecasts_path.joinpath(f\"{GCM}/{varname.upper()}/ensemble_seas_forecasts_{varname}_from_{year}_{str(month).zfill(2)}_{GCM.split('_')[0]}.netcdf\"), engine='netcdf4')\n",
    "\n",
    "else: \n",
    "\n",
    "    x = xr.open_dataset(forecasts_path.joinpath(f\"{GCM}/{varname.upper()}/ensemble_seas_forecasts_{varname}_from_{year}_{str(month).zfill(2)}_{GCM}.netcdf\"), engine='netcdf4')\n"
   ]
  },
  {
   "cell_type": "code",
   "execution_count": 22,
   "id": "7a7badce-7786-4a8e-86b2-fd6af643d1db",
   "metadata": {
    "execution": {
     "iopub.execute_input": "2022-05-15T23:38:46.215834Z",
     "iopub.status.busy": "2022-05-15T23:38:46.215679Z",
     "iopub.status.idle": "2022-05-15T23:38:46.245086Z",
     "shell.execute_reply": "2022-05-15T23:38:46.244640Z"
    },
    "papermill": {
     "duration": 0.037512,
     "end_time": "2022-05-15T23:38:46.246128",
     "exception": false,
     "start_time": "2022-05-15T23:38:46.208616",
     "status": "completed"
    },
    "tags": []
   },
   "outputs": [
    {
     "data": {
      "text/html": [
       "<div><svg style=\"position: absolute; width: 0; height: 0; overflow: hidden\">\n",
       "<defs>\n",
       "<symbol id=\"icon-database\" viewBox=\"0 0 32 32\">\n",
       "<path d=\"M16 0c-8.837 0-16 2.239-16 5v4c0 2.761 7.163 5 16 5s16-2.239 16-5v-4c0-2.761-7.163-5-16-5z\"></path>\n",
       "<path d=\"M16 17c-8.837 0-16-2.239-16-5v6c0 2.761 7.163 5 16 5s16-2.239 16-5v-6c0 2.761-7.163 5-16 5z\"></path>\n",
       "<path d=\"M16 26c-8.837 0-16-2.239-16-5v6c0 2.761 7.163 5 16 5s16-2.239 16-5v-6c0 2.761-7.163 5-16 5z\"></path>\n",
       "</symbol>\n",
       "<symbol id=\"icon-file-text2\" viewBox=\"0 0 32 32\">\n",
       "<path d=\"M28.681 7.159c-0.694-0.947-1.662-2.053-2.724-3.116s-2.169-2.030-3.116-2.724c-1.612-1.182-2.393-1.319-2.841-1.319h-15.5c-1.378 0-2.5 1.121-2.5 2.5v27c0 1.378 1.122 2.5 2.5 2.5h23c1.378 0 2.5-1.122 2.5-2.5v-19.5c0-0.448-0.137-1.23-1.319-2.841zM24.543 5.457c0.959 0.959 1.712 1.825 2.268 2.543h-4.811v-4.811c0.718 0.556 1.584 1.309 2.543 2.268zM28 29.5c0 0.271-0.229 0.5-0.5 0.5h-23c-0.271 0-0.5-0.229-0.5-0.5v-27c0-0.271 0.229-0.5 0.5-0.5 0 0 15.499-0 15.5 0v7c0 0.552 0.448 1 1 1h7v19.5z\"></path>\n",
       "<path d=\"M23 26h-14c-0.552 0-1-0.448-1-1s0.448-1 1-1h14c0.552 0 1 0.448 1 1s-0.448 1-1 1z\"></path>\n",
       "<path d=\"M23 22h-14c-0.552 0-1-0.448-1-1s0.448-1 1-1h14c0.552 0 1 0.448 1 1s-0.448 1-1 1z\"></path>\n",
       "<path d=\"M23 18h-14c-0.552 0-1-0.448-1-1s0.448-1 1-1h14c0.552 0 1 0.448 1 1s-0.448 1-1 1z\"></path>\n",
       "</symbol>\n",
       "</defs>\n",
       "</svg>\n",
       "<style>/* CSS stylesheet for displaying xarray objects in jupyterlab.\n",
       " *\n",
       " */\n",
       "\n",
       ":root {\n",
       "  --xr-font-color0: var(--jp-content-font-color0, rgba(0, 0, 0, 1));\n",
       "  --xr-font-color2: var(--jp-content-font-color2, rgba(0, 0, 0, 0.54));\n",
       "  --xr-font-color3: var(--jp-content-font-color3, rgba(0, 0, 0, 0.38));\n",
       "  --xr-border-color: var(--jp-border-color2, #e0e0e0);\n",
       "  --xr-disabled-color: var(--jp-layout-color3, #bdbdbd);\n",
       "  --xr-background-color: var(--jp-layout-color0, white);\n",
       "  --xr-background-color-row-even: var(--jp-layout-color1, white);\n",
       "  --xr-background-color-row-odd: var(--jp-layout-color2, #eeeeee);\n",
       "}\n",
       "\n",
       "html[theme=dark],\n",
       "body.vscode-dark {\n",
       "  --xr-font-color0: rgba(255, 255, 255, 1);\n",
       "  --xr-font-color2: rgba(255, 255, 255, 0.54);\n",
       "  --xr-font-color3: rgba(255, 255, 255, 0.38);\n",
       "  --xr-border-color: #1F1F1F;\n",
       "  --xr-disabled-color: #515151;\n",
       "  --xr-background-color: #111111;\n",
       "  --xr-background-color-row-even: #111111;\n",
       "  --xr-background-color-row-odd: #313131;\n",
       "}\n",
       "\n",
       ".xr-wrap {\n",
       "  display: block !important;\n",
       "  min-width: 300px;\n",
       "  max-width: 700px;\n",
       "}\n",
       "\n",
       ".xr-text-repr-fallback {\n",
       "  /* fallback to plain text repr when CSS is not injected (untrusted notebook) */\n",
       "  display: none;\n",
       "}\n",
       "\n",
       ".xr-header {\n",
       "  padding-top: 6px;\n",
       "  padding-bottom: 6px;\n",
       "  margin-bottom: 4px;\n",
       "  border-bottom: solid 1px var(--xr-border-color);\n",
       "}\n",
       "\n",
       ".xr-header > div,\n",
       ".xr-header > ul {\n",
       "  display: inline;\n",
       "  margin-top: 0;\n",
       "  margin-bottom: 0;\n",
       "}\n",
       "\n",
       ".xr-obj-type,\n",
       ".xr-array-name {\n",
       "  margin-left: 2px;\n",
       "  margin-right: 10px;\n",
       "}\n",
       "\n",
       ".xr-obj-type {\n",
       "  color: var(--xr-font-color2);\n",
       "}\n",
       "\n",
       ".xr-sections {\n",
       "  padding-left: 0 !important;\n",
       "  display: grid;\n",
       "  grid-template-columns: 150px auto auto 1fr 20px 20px;\n",
       "}\n",
       "\n",
       ".xr-section-item {\n",
       "  display: contents;\n",
       "}\n",
       "\n",
       ".xr-section-item input {\n",
       "  display: none;\n",
       "}\n",
       "\n",
       ".xr-section-item input + label {\n",
       "  color: var(--xr-disabled-color);\n",
       "}\n",
       "\n",
       ".xr-section-item input:enabled + label {\n",
       "  cursor: pointer;\n",
       "  color: var(--xr-font-color2);\n",
       "}\n",
       "\n",
       ".xr-section-item input:enabled + label:hover {\n",
       "  color: var(--xr-font-color0);\n",
       "}\n",
       "\n",
       ".xr-section-summary {\n",
       "  grid-column: 1;\n",
       "  color: var(--xr-font-color2);\n",
       "  font-weight: 500;\n",
       "}\n",
       "\n",
       ".xr-section-summary > span {\n",
       "  display: inline-block;\n",
       "  padding-left: 0.5em;\n",
       "}\n",
       "\n",
       ".xr-section-summary-in:disabled + label {\n",
       "  color: var(--xr-font-color2);\n",
       "}\n",
       "\n",
       ".xr-section-summary-in + label:before {\n",
       "  display: inline-block;\n",
       "  content: '►';\n",
       "  font-size: 11px;\n",
       "  width: 15px;\n",
       "  text-align: center;\n",
       "}\n",
       "\n",
       ".xr-section-summary-in:disabled + label:before {\n",
       "  color: var(--xr-disabled-color);\n",
       "}\n",
       "\n",
       ".xr-section-summary-in:checked + label:before {\n",
       "  content: '▼';\n",
       "}\n",
       "\n",
       ".xr-section-summary-in:checked + label > span {\n",
       "  display: none;\n",
       "}\n",
       "\n",
       ".xr-section-summary,\n",
       ".xr-section-inline-details {\n",
       "  padding-top: 4px;\n",
       "  padding-bottom: 4px;\n",
       "}\n",
       "\n",
       ".xr-section-inline-details {\n",
       "  grid-column: 2 / -1;\n",
       "}\n",
       "\n",
       ".xr-section-details {\n",
       "  display: none;\n",
       "  grid-column: 1 / -1;\n",
       "  margin-bottom: 5px;\n",
       "}\n",
       "\n",
       ".xr-section-summary-in:checked ~ .xr-section-details {\n",
       "  display: contents;\n",
       "}\n",
       "\n",
       ".xr-array-wrap {\n",
       "  grid-column: 1 / -1;\n",
       "  display: grid;\n",
       "  grid-template-columns: 20px auto;\n",
       "}\n",
       "\n",
       ".xr-array-wrap > label {\n",
       "  grid-column: 1;\n",
       "  vertical-align: top;\n",
       "}\n",
       "\n",
       ".xr-preview {\n",
       "  color: var(--xr-font-color3);\n",
       "}\n",
       "\n",
       ".xr-array-preview,\n",
       ".xr-array-data {\n",
       "  padding: 0 5px !important;\n",
       "  grid-column: 2;\n",
       "}\n",
       "\n",
       ".xr-array-data,\n",
       ".xr-array-in:checked ~ .xr-array-preview {\n",
       "  display: none;\n",
       "}\n",
       "\n",
       ".xr-array-in:checked ~ .xr-array-data,\n",
       ".xr-array-preview {\n",
       "  display: inline-block;\n",
       "}\n",
       "\n",
       ".xr-dim-list {\n",
       "  display: inline-block !important;\n",
       "  list-style: none;\n",
       "  padding: 0 !important;\n",
       "  margin: 0;\n",
       "}\n",
       "\n",
       ".xr-dim-list li {\n",
       "  display: inline-block;\n",
       "  padding: 0;\n",
       "  margin: 0;\n",
       "}\n",
       "\n",
       ".xr-dim-list:before {\n",
       "  content: '(';\n",
       "}\n",
       "\n",
       ".xr-dim-list:after {\n",
       "  content: ')';\n",
       "}\n",
       "\n",
       ".xr-dim-list li:not(:last-child):after {\n",
       "  content: ',';\n",
       "  padding-right: 5px;\n",
       "}\n",
       "\n",
       ".xr-has-index {\n",
       "  font-weight: bold;\n",
       "}\n",
       "\n",
       ".xr-var-list,\n",
       ".xr-var-item {\n",
       "  display: contents;\n",
       "}\n",
       "\n",
       ".xr-var-item > div,\n",
       ".xr-var-item label,\n",
       ".xr-var-item > .xr-var-name span {\n",
       "  background-color: var(--xr-background-color-row-even);\n",
       "  margin-bottom: 0;\n",
       "}\n",
       "\n",
       ".xr-var-item > .xr-var-name:hover span {\n",
       "  padding-right: 5px;\n",
       "}\n",
       "\n",
       ".xr-var-list > li:nth-child(odd) > div,\n",
       ".xr-var-list > li:nth-child(odd) > label,\n",
       ".xr-var-list > li:nth-child(odd) > .xr-var-name span {\n",
       "  background-color: var(--xr-background-color-row-odd);\n",
       "}\n",
       "\n",
       ".xr-var-name {\n",
       "  grid-column: 1;\n",
       "}\n",
       "\n",
       ".xr-var-dims {\n",
       "  grid-column: 2;\n",
       "}\n",
       "\n",
       ".xr-var-dtype {\n",
       "  grid-column: 3;\n",
       "  text-align: right;\n",
       "  color: var(--xr-font-color2);\n",
       "}\n",
       "\n",
       ".xr-var-preview {\n",
       "  grid-column: 4;\n",
       "}\n",
       "\n",
       ".xr-var-name,\n",
       ".xr-var-dims,\n",
       ".xr-var-dtype,\n",
       ".xr-preview,\n",
       ".xr-attrs dt {\n",
       "  white-space: nowrap;\n",
       "  overflow: hidden;\n",
       "  text-overflow: ellipsis;\n",
       "  padding-right: 10px;\n",
       "}\n",
       "\n",
       ".xr-var-name:hover,\n",
       ".xr-var-dims:hover,\n",
       ".xr-var-dtype:hover,\n",
       ".xr-attrs dt:hover {\n",
       "  overflow: visible;\n",
       "  width: auto;\n",
       "  z-index: 1;\n",
       "}\n",
       "\n",
       ".xr-var-attrs,\n",
       ".xr-var-data {\n",
       "  display: none;\n",
       "  background-color: var(--xr-background-color) !important;\n",
       "  padding-bottom: 5px !important;\n",
       "}\n",
       "\n",
       ".xr-var-attrs-in:checked ~ .xr-var-attrs,\n",
       ".xr-var-data-in:checked ~ .xr-var-data {\n",
       "  display: block;\n",
       "}\n",
       "\n",
       ".xr-var-data > table {\n",
       "  float: right;\n",
       "}\n",
       "\n",
       ".xr-var-name span,\n",
       ".xr-var-data,\n",
       ".xr-attrs {\n",
       "  padding-left: 25px !important;\n",
       "}\n",
       "\n",
       ".xr-attrs,\n",
       ".xr-var-attrs,\n",
       ".xr-var-data {\n",
       "  grid-column: 1 / -1;\n",
       "}\n",
       "\n",
       "dl.xr-attrs {\n",
       "  padding: 0;\n",
       "  margin: 0;\n",
       "  display: grid;\n",
       "  grid-template-columns: 125px auto;\n",
       "}\n",
       "\n",
       ".xr-attrs dt,\n",
       ".xr-attrs dd {\n",
       "  padding: 0;\n",
       "  margin: 0;\n",
       "  float: left;\n",
       "  padding-right: 10px;\n",
       "  width: auto;\n",
       "}\n",
       "\n",
       ".xr-attrs dt {\n",
       "  font-weight: normal;\n",
       "  grid-column: 1;\n",
       "}\n",
       "\n",
       ".xr-attrs dt:hover span {\n",
       "  display: inline-block;\n",
       "  background: var(--xr-background-color);\n",
       "  padding-right: 10px;\n",
       "}\n",
       "\n",
       ".xr-attrs dd {\n",
       "  grid-column: 2;\n",
       "  white-space: pre-wrap;\n",
       "  word-break: break-all;\n",
       "}\n",
       "\n",
       ".xr-icon-database,\n",
       ".xr-icon-file-text2 {\n",
       "  display: inline-block;\n",
       "  vertical-align: middle;\n",
       "  width: 1em;\n",
       "  height: 1.5em !important;\n",
       "  stroke-width: 0;\n",
       "  stroke: currentColor;\n",
       "  fill: currentColor;\n",
       "}\n",
       "</style><pre class='xr-text-repr-fallback'>&lt;xarray.Dataset&gt;\n",
       "Dimensions:    (longitude: 141, latitude: 81, number: 10, time: 5)\n",
       "Coordinates:\n",
       "  * longitude  (longitude) float32 100.0 101.0 102.0 103.0 ... 238.0 239.0 240.0\n",
       "  * latitude   (latitude) float32 30.0 29.0 28.0 27.0 ... -48.0 -49.0 -50.0\n",
       "  * number     (number) int32 0 1 2 3 4 5 6 7 8 9\n",
       "  * time       (time) datetime64[ns] 2022-06-01 2022-07-01 ... 2022-10-01\n",
       "Data variables:\n",
       "    tprate     (time, number, latitude, longitude) float32 ...\n",
       "Attributes:\n",
       "    Conventions:  CF-1.6\n",
       "    history:      2022-05-15 21:48:16 GMT by grib_to_netcdf-2.24.3: /opt/ecmw...</pre><div class='xr-wrap' style='display:none'><div class='xr-header'><div class='xr-obj-type'>xarray.Dataset</div></div><ul class='xr-sections'><li class='xr-section-item'><input id='section-60ab829d-6647-4b4d-993a-fcd0b7b67cad' class='xr-section-summary-in' type='checkbox' disabled ><label for='section-60ab829d-6647-4b4d-993a-fcd0b7b67cad' class='xr-section-summary'  title='Expand/collapse section'>Dimensions:</label><div class='xr-section-inline-details'><ul class='xr-dim-list'><li><span class='xr-has-index'>longitude</span>: 141</li><li><span class='xr-has-index'>latitude</span>: 81</li><li><span class='xr-has-index'>number</span>: 10</li><li><span class='xr-has-index'>time</span>: 5</li></ul></div><div class='xr-section-details'></div></li><li class='xr-section-item'><input id='section-656e8127-6d0b-4512-ab72-7ec0da50cf47' class='xr-section-summary-in' type='checkbox'  checked><label for='section-656e8127-6d0b-4512-ab72-7ec0da50cf47' class='xr-section-summary' >Coordinates: <span>(4)</span></label><div class='xr-section-inline-details'></div><div class='xr-section-details'><ul class='xr-var-list'><li class='xr-var-item'><div class='xr-var-name'><span class='xr-has-index'>longitude</span></div><div class='xr-var-dims'>(longitude)</div><div class='xr-var-dtype'>float32</div><div class='xr-var-preview xr-preview'>100.0 101.0 102.0 ... 239.0 240.0</div><input id='attrs-77db0da9-e81f-404f-99bd-29141f28dc68' class='xr-var-attrs-in' type='checkbox' ><label for='attrs-77db0da9-e81f-404f-99bd-29141f28dc68' title='Show/Hide attributes'><svg class='icon xr-icon-file-text2'><use xlink:href='#icon-file-text2'></use></svg></label><input id='data-75e17df1-a206-4d2e-80ae-1ed53d03dad5' class='xr-var-data-in' type='checkbox'><label for='data-75e17df1-a206-4d2e-80ae-1ed53d03dad5' title='Show/Hide data repr'><svg class='icon xr-icon-database'><use xlink:href='#icon-database'></use></svg></label><div class='xr-var-attrs'><dl class='xr-attrs'><dt><span>units :</span></dt><dd>degrees_east</dd><dt><span>long_name :</span></dt><dd>longitude</dd></dl></div><div class='xr-var-data'><pre>array([100., 101., 102., 103., 104., 105., 106., 107., 108., 109., 110., 111.,\n",
       "       112., 113., 114., 115., 116., 117., 118., 119., 120., 121., 122., 123.,\n",
       "       124., 125., 126., 127., 128., 129., 130., 131., 132., 133., 134., 135.,\n",
       "       136., 137., 138., 139., 140., 141., 142., 143., 144., 145., 146., 147.,\n",
       "       148., 149., 150., 151., 152., 153., 154., 155., 156., 157., 158., 159.,\n",
       "       160., 161., 162., 163., 164., 165., 166., 167., 168., 169., 170., 171.,\n",
       "       172., 173., 174., 175., 176., 177., 178., 179., 180., 181., 182., 183.,\n",
       "       184., 185., 186., 187., 188., 189., 190., 191., 192., 193., 194., 195.,\n",
       "       196., 197., 198., 199., 200., 201., 202., 203., 204., 205., 206., 207.,\n",
       "       208., 209., 210., 211., 212., 213., 214., 215., 216., 217., 218., 219.,\n",
       "       220., 221., 222., 223., 224., 225., 226., 227., 228., 229., 230., 231.,\n",
       "       232., 233., 234., 235., 236., 237., 238., 239., 240.], dtype=float32)</pre></div></li><li class='xr-var-item'><div class='xr-var-name'><span class='xr-has-index'>latitude</span></div><div class='xr-var-dims'>(latitude)</div><div class='xr-var-dtype'>float32</div><div class='xr-var-preview xr-preview'>30.0 29.0 28.0 ... -49.0 -50.0</div><input id='attrs-e759f8ac-7b72-4427-aba2-c5ccb5e54fb9' class='xr-var-attrs-in' type='checkbox' ><label for='attrs-e759f8ac-7b72-4427-aba2-c5ccb5e54fb9' title='Show/Hide attributes'><svg class='icon xr-icon-file-text2'><use xlink:href='#icon-file-text2'></use></svg></label><input id='data-52818ba7-020c-4007-a42c-008cfb0deab5' class='xr-var-data-in' type='checkbox'><label for='data-52818ba7-020c-4007-a42c-008cfb0deab5' title='Show/Hide data repr'><svg class='icon xr-icon-database'><use xlink:href='#icon-database'></use></svg></label><div class='xr-var-attrs'><dl class='xr-attrs'><dt><span>units :</span></dt><dd>degrees_north</dd><dt><span>long_name :</span></dt><dd>latitude</dd></dl></div><div class='xr-var-data'><pre>array([ 30.,  29.,  28.,  27.,  26.,  25.,  24.,  23.,  22.,  21.,  20.,  19.,\n",
       "        18.,  17.,  16.,  15.,  14.,  13.,  12.,  11.,  10.,   9.,   8.,   7.,\n",
       "         6.,   5.,   4.,   3.,   2.,   1.,   0.,  -1.,  -2.,  -3.,  -4.,  -5.,\n",
       "        -6.,  -7.,  -8.,  -9., -10., -11., -12., -13., -14., -15., -16., -17.,\n",
       "       -18., -19., -20., -21., -22., -23., -24., -25., -26., -27., -28., -29.,\n",
       "       -30., -31., -32., -33., -34., -35., -36., -37., -38., -39., -40., -41.,\n",
       "       -42., -43., -44., -45., -46., -47., -48., -49., -50.], dtype=float32)</pre></div></li><li class='xr-var-item'><div class='xr-var-name'><span class='xr-has-index'>number</span></div><div class='xr-var-dims'>(number)</div><div class='xr-var-dtype'>int32</div><div class='xr-var-preview xr-preview'>0 1 2 3 4 5 6 7 8 9</div><input id='attrs-d9a89584-07a6-4b04-a156-6592d100486f' class='xr-var-attrs-in' type='checkbox' ><label for='attrs-d9a89584-07a6-4b04-a156-6592d100486f' title='Show/Hide attributes'><svg class='icon xr-icon-file-text2'><use xlink:href='#icon-file-text2'></use></svg></label><input id='data-f9662a9c-40e9-4a21-9219-d73643c2387f' class='xr-var-data-in' type='checkbox'><label for='data-f9662a9c-40e9-4a21-9219-d73643c2387f' title='Show/Hide data repr'><svg class='icon xr-icon-database'><use xlink:href='#icon-database'></use></svg></label><div class='xr-var-attrs'><dl class='xr-attrs'><dt><span>long_name :</span></dt><dd>ensemble_member</dd></dl></div><div class='xr-var-data'><pre>array([0, 1, 2, 3, 4, 5, 6, 7, 8, 9], dtype=int32)</pre></div></li><li class='xr-var-item'><div class='xr-var-name'><span class='xr-has-index'>time</span></div><div class='xr-var-dims'>(time)</div><div class='xr-var-dtype'>datetime64[ns]</div><div class='xr-var-preview xr-preview'>2022-06-01 ... 2022-10-01</div><input id='attrs-e34ba678-91df-4801-a872-9b30b07d59b6' class='xr-var-attrs-in' type='checkbox' ><label for='attrs-e34ba678-91df-4801-a872-9b30b07d59b6' title='Show/Hide attributes'><svg class='icon xr-icon-file-text2'><use xlink:href='#icon-file-text2'></use></svg></label><input id='data-9725e21a-d0b8-4e50-8d8a-bed3addf1ffd' class='xr-var-data-in' type='checkbox'><label for='data-9725e21a-d0b8-4e50-8d8a-bed3addf1ffd' title='Show/Hide data repr'><svg class='icon xr-icon-database'><use xlink:href='#icon-database'></use></svg></label><div class='xr-var-attrs'><dl class='xr-attrs'><dt><span>long_name :</span></dt><dd>time</dd></dl></div><div class='xr-var-data'><pre>array([&#x27;2022-06-01T00:00:00.000000000&#x27;, &#x27;2022-07-01T00:00:00.000000000&#x27;,\n",
       "       &#x27;2022-08-01T00:00:00.000000000&#x27;, &#x27;2022-09-01T00:00:00.000000000&#x27;,\n",
       "       &#x27;2022-10-01T00:00:00.000000000&#x27;], dtype=&#x27;datetime64[ns]&#x27;)</pre></div></li></ul></div></li><li class='xr-section-item'><input id='section-af6abde4-1989-418b-9342-d6b9ef3a687c' class='xr-section-summary-in' type='checkbox'  checked><label for='section-af6abde4-1989-418b-9342-d6b9ef3a687c' class='xr-section-summary' >Data variables: <span>(1)</span></label><div class='xr-section-inline-details'></div><div class='xr-section-details'><ul class='xr-var-list'><li class='xr-var-item'><div class='xr-var-name'><span>tprate</span></div><div class='xr-var-dims'>(time, number, latitude, longitude)</div><div class='xr-var-dtype'>float32</div><div class='xr-var-preview xr-preview'>...</div><input id='attrs-aa51eb50-f4a4-43e4-85f1-20539ce9b25f' class='xr-var-attrs-in' type='checkbox' ><label for='attrs-aa51eb50-f4a4-43e4-85f1-20539ce9b25f' title='Show/Hide attributes'><svg class='icon xr-icon-file-text2'><use xlink:href='#icon-file-text2'></use></svg></label><input id='data-97b4e0a9-17fc-4bdc-a676-4042bec8cfd5' class='xr-var-data-in' type='checkbox'><label for='data-97b4e0a9-17fc-4bdc-a676-4042bec8cfd5' title='Show/Hide data repr'><svg class='icon xr-icon-database'><use xlink:href='#icon-database'></use></svg></label><div class='xr-var-attrs'><dl class='xr-attrs'><dt><span>units :</span></dt><dd>m s**-1</dd><dt><span>long_name :</span></dt><dd>Mean total precipitation rate</dd></dl></div><div class='xr-var-data'><pre>[571050 values with dtype=float32]</pre></div></li></ul></div></li><li class='xr-section-item'><input id='section-56a86300-63c8-4a1e-bb27-98672b2400c9' class='xr-section-summary-in' type='checkbox'  checked><label for='section-56a86300-63c8-4a1e-bb27-98672b2400c9' class='xr-section-summary' >Attributes: <span>(2)</span></label><div class='xr-section-inline-details'></div><div class='xr-section-details'><dl class='xr-attrs'><dt><span>Conventions :</span></dt><dd>CF-1.6</dd><dt><span>history :</span></dt><dd>2022-05-15 21:48:16 GMT by grib_to_netcdf-2.24.3: /opt/ecmwf/mars-client/bin/grib_to_netcdf -S param -o /cache/data4/adaptor.mars.external-1652651296.0673313-11728-4-1242487b-d848-411a-809c-e3bf412bf6ca.nc /cache/tmp/1242487b-d848-411a-809c-e3bf412bf6ca-adaptor.mars.external-1652651294.4110944-11728-7-tmp.grib</dd></dl></div></li></ul></div></div>"
      ],
      "text/plain": [
       "<xarray.Dataset>\n",
       "Dimensions:    (longitude: 141, latitude: 81, number: 10, time: 5)\n",
       "Coordinates:\n",
       "  * longitude  (longitude) float32 100.0 101.0 102.0 103.0 ... 238.0 239.0 240.0\n",
       "  * latitude   (latitude) float32 30.0 29.0 28.0 27.0 ... -48.0 -49.0 -50.0\n",
       "  * number     (number) int32 0 1 2 3 4 5 6 7 8 9\n",
       "  * time       (time) datetime64[ns] 2022-06-01 2022-07-01 ... 2022-10-01\n",
       "Data variables:\n",
       "    tprate     (time, number, latitude, longitude) float32 ...\n",
       "Attributes:\n",
       "    Conventions:  CF-1.6\n",
       "    history:      2022-05-15 21:48:16 GMT by grib_to_netcdf-2.24.3: /opt/ecmw..."
      ]
     },
     "execution_count": 22,
     "metadata": {},
     "output_type": "execute_result"
    }
   ],
   "source": [
    "x"
   ]
  },
  {
   "cell_type": "markdown",
   "id": "99bd0cb2-e8bb-4254-916d-3d9c489deba8",
   "metadata": {
    "papermill": {
     "duration": 0.006593,
     "end_time": "2022-05-15T23:38:46.259452",
     "exception": false,
     "start_time": "2022-05-15T23:38:46.252859",
     "status": "completed"
    },
    "tags": []
   },
   "source": [
    "#### preprocess (harmonize the variable names, sort the latitudes, etc )"
   ]
  },
  {
   "cell_type": "code",
   "execution_count": 23,
   "id": "d40215d9-ee0e-41e0-b902-52a020185255",
   "metadata": {
    "execution": {
     "iopub.execute_input": "2022-05-15T23:38:46.273343Z",
     "iopub.status.busy": "2022-05-15T23:38:46.273181Z",
     "iopub.status.idle": "2022-05-15T23:38:46.305828Z",
     "shell.execute_reply": "2022-05-15T23:38:46.305441Z"
    },
    "papermill": {
     "duration": 0.041111,
     "end_time": "2022-05-15T23:38:46.307067",
     "exception": false,
     "start_time": "2022-05-15T23:38:46.265956",
     "status": "completed"
    },
    "tags": []
   },
   "outputs": [],
   "source": [
    "x = C3S.preprocess_GCM(x)"
   ]
  },
  {
   "cell_type": "markdown",
   "id": "d23388b4-1b3c-4f3d-8ea7-1229f3101990",
   "metadata": {
    "papermill": {
     "duration": 0.006354,
     "end_time": "2022-05-15T23:38:46.320017",
     "exception": false,
     "start_time": "2022-05-15T23:38:46.313663",
     "status": "completed"
    },
    "tags": []
   },
   "source": [
    "#### convert from mm/day to mm/month"
   ]
  },
  {
   "cell_type": "code",
   "execution_count": 24,
   "id": "e7025cd0-cfd7-49c9-b802-24b90818e187",
   "metadata": {
    "execution": {
     "iopub.execute_input": "2022-05-15T23:38:46.334541Z",
     "iopub.status.busy": "2022-05-15T23:38:46.334387Z",
     "iopub.status.idle": "2022-05-15T23:38:46.361389Z",
     "shell.execute_reply": "2022-05-15T23:38:46.360924Z"
    },
    "papermill": {
     "duration": 0.035669,
     "end_time": "2022-05-15T23:38:46.362439",
     "exception": false,
     "start_time": "2022-05-15T23:38:46.326770",
     "status": "completed"
    },
    "tags": []
   },
   "outputs": [
    {
     "name": "stdout",
     "output_type": "stream",
     "text": [
      "\n",
      "unit is m s**-1, converting to mm/day\n",
      "\n",
      "now converting to mm/month, converted precipitation will be held in var = precip\n"
     ]
    }
   ],
   "source": [
    "if varname == 'tprate': \n",
    "\n",
    "    varin = 'tprate'\n",
    "\n",
    "    varout = 'precip'\n",
    "\n",
    "    x = C3S.convert_rainfall(x, varin=varin, varout=varout, leadvar='step', timevar='time', dropvar=True)\n",
    "    \n",
    "    x = x.clip(min=0)\n",
    "\n",
    "else: \n",
    "\n",
    "    varout = varname\n"
   ]
  },
  {
   "cell_type": "markdown",
   "id": "aaa2589a-c347-438d-b1a9-408690d110c4",
   "metadata": {
    "papermill": {
     "duration": 0.006808,
     "end_time": "2022-05-15T23:38:46.375962",
     "exception": false,
     "start_time": "2022-05-15T23:38:46.369154",
     "status": "completed"
    },
    "tags": []
   },
   "source": [
    "#### just in case, remove potential missing fields (members)"
   ]
  },
  {
   "cell_type": "code",
   "execution_count": 25,
   "id": "61a6c04f-263f-4614-808b-f160db7c33aa",
   "metadata": {
    "execution": {
     "iopub.execute_input": "2022-05-15T23:38:46.390109Z",
     "iopub.status.busy": "2022-05-15T23:38:46.389968Z",
     "iopub.status.idle": "2022-05-15T23:38:46.410213Z",
     "shell.execute_reply": "2022-05-15T23:38:46.409728Z"
    },
    "papermill": {
     "duration": 0.028879,
     "end_time": "2022-05-15T23:38:46.411432",
     "exception": false,
     "start_time": "2022-05-15T23:38:46.382553",
     "status": "completed"
    },
    "tags": []
   },
   "outputs": [],
   "source": [
    "x = x.dropna(dim='member')"
   ]
  },
  {
   "cell_type": "markdown",
   "id": "23ef579b-0e8a-45d0-9436-c262188c802d",
   "metadata": {
    "papermill": {
     "duration": 0.006993,
     "end_time": "2022-05-15T23:38:46.425481",
     "exception": false,
     "start_time": "2022-05-15T23:38:46.418488",
     "status": "completed"
    },
    "tags": []
   },
   "source": [
    "#### make sure we have the same domain for the climatologies and the latest forecasts"
   ]
  },
  {
   "cell_type": "code",
   "execution_count": 26,
   "id": "4f389528-b473-40cc-ad72-55f74db8c1e8",
   "metadata": {
    "execution": {
     "iopub.execute_input": "2022-05-15T23:38:46.441663Z",
     "iopub.status.busy": "2022-05-15T23:38:46.441205Z",
     "iopub.status.idle": "2022-05-15T23:38:46.460007Z",
     "shell.execute_reply": "2022-05-15T23:38:46.459604Z"
    },
    "papermill": {
     "duration": 0.029047,
     "end_time": "2022-05-15T23:38:46.461222",
     "exception": false,
     "start_time": "2022-05-15T23:38:46.432175",
     "status": "completed"
    },
    "tags": []
   },
   "outputs": [],
   "source": [
    "x = domains.extract_domain(x, domain)"
   ]
  },
  {
   "cell_type": "markdown",
   "id": "16af3d1c-87db-4f47-b115-103d9c15ce4f",
   "metadata": {
    "papermill": {
     "duration": 0.006697,
     "end_time": "2022-05-15T23:38:46.474612",
     "exception": false,
     "start_time": "2022-05-15T23:38:46.467915",
     "status": "completed"
    },
    "tags": []
   },
   "source": [
    "#### calculates the seasonal values if period == seasonal"
   ]
  },
  {
   "cell_type": "code",
   "execution_count": 27,
   "id": "b4c4244d-6b9d-4881-b38a-f5125d1207d7",
   "metadata": {
    "execution": {
     "iopub.execute_input": "2022-05-15T23:38:46.488838Z",
     "iopub.status.busy": "2022-05-15T23:38:46.488651Z",
     "iopub.status.idle": "2022-05-15T23:38:46.511888Z",
     "shell.execute_reply": "2022-05-15T23:38:46.511405Z"
    },
    "papermill": {
     "duration": 0.032102,
     "end_time": "2022-05-15T23:38:46.513342",
     "exception": false,
     "start_time": "2022-05-15T23:38:46.481240",
     "status": "completed"
    },
    "tags": []
   },
   "outputs": [
    {
     "name": "stdout",
     "output_type": "stream",
     "text": [
      "Calculating the seasonal (3 months) accumulations or averages\n"
     ]
    }
   ],
   "source": [
    "if period == 'seasonal': \n",
    "\n",
    "    print(\"Calculating the seasonal (3 months) accumulations or averages\")\n",
    "\n",
    "    if varname == 'tprate': \n",
    "\n",
    "        x = x.rolling({'step':3}, min_periods=3, center=False).sum('step') \n",
    "\n",
    "    else: \n",
    "\n",
    "        x = x.rolling({'step':3}, min_periods=3, center=False).mean('step')\n",
    "\n",
    "    # get rid of the 2 first steps, which by definition contain missing values \n",
    "\n",
    "    x = x.sel(step=slice(3, None))"
   ]
  },
  {
   "cell_type": "markdown",
   "id": "41da7159-e135-4cf3-a7af-2341664650b5",
   "metadata": {
    "papermill": {
     "duration": 0.007041,
     "end_time": "2022-05-15T23:38:46.528971",
     "exception": false,
     "start_time": "2022-05-15T23:38:46.521930",
     "status": "completed"
    },
    "tags": []
   },
   "source": [
    "#### checks that the initial month corresponds indeed to what we defined earlier"
   ]
  },
  {
   "cell_type": "code",
   "execution_count": 28,
   "id": "64c74d58-3469-49f1-bc2c-f116b42989da",
   "metadata": {
    "execution": {
     "iopub.execute_input": "2022-05-15T23:38:46.543806Z",
     "iopub.status.busy": "2022-05-15T23:38:46.543655Z",
     "iopub.status.idle": "2022-05-15T23:38:46.563085Z",
     "shell.execute_reply": "2022-05-15T23:38:46.562624Z"
    },
    "papermill": {
     "duration": 0.028412,
     "end_time": "2022-05-15T23:38:46.564304",
     "exception": false,
     "start_time": "2022-05-15T23:38:46.535892",
     "status": "completed"
    },
    "tags": []
   },
   "outputs": [],
   "source": [
    "if (x.time.dt.year != year) or (x.time.dt.month != month): \n",
    "\n",
    "    print(f\"issue with the initial date in the latest forecast, expected {year}-{month}, got {x.time.dt.year}-{x.time.dt.month}\")"
   ]
  },
  {
   "cell_type": "markdown",
   "id": "2f65867b-d46a-4187-a281-777c1c19c67e",
   "metadata": {
    "papermill": {
     "duration": 0.006615,
     "end_time": "2022-05-15T23:38:46.577700",
     "exception": false,
     "start_time": "2022-05-15T23:38:46.571085",
     "status": "completed"
    },
    "tags": []
   },
   "source": [
    "##### Now calculates the tercile category for each member"
   ]
  },
  {
   "cell_type": "code",
   "execution_count": 29,
   "id": "4a81ee30-e6c5-4bde-9e4d-46557c036a75",
   "metadata": {
    "execution": {
     "iopub.execute_input": "2022-05-15T23:38:46.592282Z",
     "iopub.status.busy": "2022-05-15T23:38:46.592136Z",
     "iopub.status.idle": "2022-05-15T23:38:48.276666Z",
     "shell.execute_reply": "2022-05-15T23:38:48.276211Z"
    },
    "papermill": {
     "duration": 1.693563,
     "end_time": "2022-05-15T23:38:48.277905",
     "exception": false,
     "start_time": "2022-05-15T23:38:46.584342",
     "status": "completed"
    },
    "tags": []
   },
   "outputs": [],
   "source": [
    "terciles_category = C3S.get_GCM_category_digitize(x, tercile_climatology.squeeze(), varname=varout, dim='quantile')"
   ]
  },
  {
   "cell_type": "markdown",
   "id": "5bc0adad-c46d-4caa-91da-06d4147e556c",
   "metadata": {
    "papermill": {
     "duration": 0.006855,
     "end_time": "2022-05-15T23:38:48.292013",
     "exception": false,
     "start_time": "2022-05-15T23:38:48.285158",
     "status": "completed"
    },
    "tags": []
   },
   "source": [
    "##### and calculate the proportion of member in each category"
   ]
  },
  {
   "cell_type": "code",
   "execution_count": 30,
   "id": "425d341a-1086-4c61-9201-bfa090c18e88",
   "metadata": {
    "execution": {
     "iopub.execute_input": "2022-05-15T23:38:48.306697Z",
     "iopub.status.busy": "2022-05-15T23:38:48.306546Z",
     "iopub.status.idle": "2022-05-15T23:38:48.336562Z",
     "shell.execute_reply": "2022-05-15T23:38:48.336134Z"
    },
    "papermill": {
     "duration": 0.039048,
     "end_time": "2022-05-15T23:38:48.337763",
     "exception": false,
     "start_time": "2022-05-15T23:38:48.298715",
     "status": "completed"
    },
    "tags": []
   },
   "outputs": [],
   "source": [
    "terciles_category_percent = C3S.calculate_quantiles_probabilities(terciles_category, ncategories=3)"
   ]
  },
  {
   "cell_type": "markdown",
   "id": "8f7e2f7a-2475-4b47-ae78-bd408d01393c",
   "metadata": {
    "papermill": {
     "duration": 0.006526,
     "end_time": "2022-05-15T23:38:48.351239",
     "exception": false,
     "start_time": "2022-05-15T23:38:48.344713",
     "status": "completed"
    },
    "tags": []
   },
   "source": [
    "##### creates a dummy 'GCM' dimension"
   ]
  },
  {
   "cell_type": "code",
   "execution_count": 31,
   "id": "09bb5fb9-9551-4916-8d79-16bd8b706a2f",
   "metadata": {
    "execution": {
     "iopub.execute_input": "2022-05-15T23:38:48.365550Z",
     "iopub.status.busy": "2022-05-15T23:38:48.365396Z",
     "iopub.status.idle": "2022-05-15T23:38:48.383310Z",
     "shell.execute_reply": "2022-05-15T23:38:48.382863Z"
    },
    "papermill": {
     "duration": 0.026496,
     "end_time": "2022-05-15T23:38:48.384502",
     "exception": false,
     "start_time": "2022-05-15T23:38:48.358006",
     "status": "completed"
    },
    "tags": []
   },
   "outputs": [],
   "source": [
    "terciles_category_percent = terciles_category_percent.expand_dims(dim={'GCM':[GCM]}, axis=0) "
   ]
  },
  {
   "cell_type": "markdown",
   "id": "875eebe9-74de-4e57-9231-04034e3b9120",
   "metadata": {
    "papermill": {
     "duration": 0.006641,
     "end_time": "2022-05-15T23:38:48.398001",
     "exception": false,
     "start_time": "2022-05-15T23:38:48.391360",
     "status": "completed"
    },
    "tags": []
   },
   "source": [
    "##### includes the quantile values (i.e. the 'bounds' for the quantile categories) in the dataset"
   ]
  },
  {
   "cell_type": "code",
   "execution_count": 32,
   "id": "b8c42bb1-17bb-4e39-ab5c-08b97afec52d",
   "metadata": {
    "execution": {
     "iopub.execute_input": "2022-05-15T23:38:48.412574Z",
     "iopub.status.busy": "2022-05-15T23:38:48.412425Z",
     "iopub.status.idle": "2022-05-15T23:38:48.430363Z",
     "shell.execute_reply": "2022-05-15T23:38:48.429862Z"
    },
    "papermill": {
     "duration": 0.026901,
     "end_time": "2022-05-15T23:38:48.431577",
     "exception": false,
     "start_time": "2022-05-15T23:38:48.404676",
     "status": "completed"
    },
    "tags": []
   },
   "outputs": [],
   "source": [
    "terciles_category_percent.attrs['pct_values'] = tercile_climatology['quantile'].data"
   ]
  },
  {
   "cell_type": "markdown",
   "id": "198bc50e-6f65-42ff-8001-aaf367f5f690",
   "metadata": {
    "papermill": {
     "duration": 0.006699,
     "end_time": "2022-05-15T23:38:48.445010",
     "exception": false,
     "start_time": "2022-05-15T23:38:48.438311",
     "status": "completed"
    },
    "tags": []
   },
   "source": [
    "##### do the same for quartiles, deciles, percentiles probabilities "
   ]
  },
  {
   "cell_type": "code",
   "execution_count": 33,
   "id": "b10407e5-174b-4077-95db-0243a35bb851",
   "metadata": {
    "execution": {
     "iopub.execute_input": "2022-05-15T23:38:48.459279Z",
     "iopub.status.busy": "2022-05-15T23:38:48.459128Z",
     "iopub.status.idle": "2022-05-15T23:38:50.173312Z",
     "shell.execute_reply": "2022-05-15T23:38:50.172837Z"
    },
    "papermill": {
     "duration": 1.722818,
     "end_time": "2022-05-15T23:38:50.174510",
     "exception": false,
     "start_time": "2022-05-15T23:38:48.451692",
     "status": "completed"
    },
    "tags": []
   },
   "outputs": [],
   "source": [
    "quartiles_category = C3S.get_GCM_category_digitize(x, quartile_climatology.squeeze(), varname=varout, dim='quantile')\n",
    "quartiles_category_percent = C3S.calculate_quantiles_probabilities(quartiles_category, ncategories=4)\n",
    "quartiles_category_percent = quartiles_category_percent.expand_dims(dim={'GCM':[GCM]}, axis=0) \n",
    "quartiles_category_percent.attrs['pct_values'] = quartile_climatology['quantile'].data"
   ]
  },
  {
   "cell_type": "code",
   "execution_count": 34,
   "id": "0fc6a02c-bfef-41c4-b6f7-2e49d9264baa",
   "metadata": {
    "execution": {
     "iopub.execute_input": "2022-05-15T23:38:50.189588Z",
     "iopub.status.busy": "2022-05-15T23:38:50.189437Z",
     "iopub.status.idle": "2022-05-15T23:38:51.907497Z",
     "shell.execute_reply": "2022-05-15T23:38:51.907101Z"
    },
    "papermill": {
     "duration": 1.727154,
     "end_time": "2022-05-15T23:38:51.908771",
     "exception": false,
     "start_time": "2022-05-15T23:38:50.181617",
     "status": "completed"
    },
    "tags": []
   },
   "outputs": [],
   "source": [
    "deciles_category = C3S.get_GCM_category_digitize(x, decile_climatology.squeeze(), varname=varout, dim='quantile')\n",
    "deciles_category_percent = C3S.calculate_quantiles_probabilities(deciles_category, ncategories=10)\n",
    "deciles_category_percent = deciles_category_percent.expand_dims(dim={'GCM':[GCM]}, axis=0) \n",
    "deciles_category_percent.attrs['pct_values'] = decile_climatology['quantile'].data"
   ]
  },
  {
   "cell_type": "code",
   "execution_count": 35,
   "id": "c0f8c309-5b8a-4897-a60e-1abd25c0e726",
   "metadata": {
    "execution": {
     "iopub.execute_input": "2022-05-15T23:38:51.923123Z",
     "iopub.status.busy": "2022-05-15T23:38:51.922969Z",
     "iopub.status.idle": "2022-05-15T23:38:53.728805Z",
     "shell.execute_reply": "2022-05-15T23:38:53.728409Z"
    },
    "papermill": {
     "duration": 1.814578,
     "end_time": "2022-05-15T23:38:53.730084",
     "exception": false,
     "start_time": "2022-05-15T23:38:51.915506",
     "status": "completed"
    },
    "tags": []
   },
   "outputs": [],
   "source": [
    "percentiles_category = C3S.get_GCM_category_digitize(x, percentile_climatology.squeeze(), varname=varout, dim='quantile')\n",
    "percentiles_category_percent = C3S.calculate_quantiles_probabilities(percentiles_category, ncategories=21)\n",
    "percentiles_category_percent = percentiles_category_percent.expand_dims(dim={'GCM':[GCM]}, axis=0) \n",
    "percentiles_category_percent.attrs['pct_values'] = percentile_climatology['quantile'].data"
   ]
  },
  {
   "cell_type": "markdown",
   "id": "f0383b23-642d-4fa7-8819-b03580371fda",
   "metadata": {
    "papermill": {
     "duration": 0.006576,
     "end_time": "2022-05-15T23:38:53.743499",
     "exception": false,
     "start_time": "2022-05-15T23:38:53.736923",
     "status": "completed"
    },
    "tags": []
   },
   "source": [
    "### saves to disk "
   ]
  },
  {
   "cell_type": "code",
   "execution_count": 36,
   "id": "9598bfd2-2a29-4ea4-b51e-c9c8a1646cf0",
   "metadata": {
    "execution": {
     "iopub.execute_input": "2022-05-15T23:38:53.758078Z",
     "iopub.status.busy": "2022-05-15T23:38:53.757886Z",
     "iopub.status.idle": "2022-05-15T23:38:53.776615Z",
     "shell.execute_reply": "2022-05-15T23:38:53.776154Z"
    },
    "papermill": {
     "duration": 0.027378,
     "end_time": "2022-05-15T23:38:53.777536",
     "exception": false,
     "start_time": "2022-05-15T23:38:53.750158",
     "status": "completed"
    },
    "tags": []
   },
   "outputs": [
    {
     "name": "stdout",
     "output_type": "stream",
     "text": [
      "saving the quantile probabilities in the folder /home/nicolasf/operational/ICU/development/hotspots/code/ICU_Water_Watch/outputs/C3S\n"
     ]
    }
   ],
   "source": [
    "print(f\"saving the quantile probabilities in the folder {str(outputs_path)}\")"
   ]
  },
  {
   "cell_type": "code",
   "execution_count": 37,
   "id": "6ff4d475-065a-422a-b17a-04d9f21cff2f",
   "metadata": {
    "execution": {
     "iopub.execute_input": "2022-05-15T23:38:53.792236Z",
     "iopub.status.busy": "2022-05-15T23:38:53.792059Z",
     "iopub.status.idle": "2022-05-15T23:38:53.809904Z",
     "shell.execute_reply": "2022-05-15T23:38:53.809443Z"
    },
    "papermill": {
     "duration": 0.026532,
     "end_time": "2022-05-15T23:38:53.811050",
     "exception": false,
     "start_time": "2022-05-15T23:38:53.784518",
     "status": "completed"
    },
    "tags": []
   },
   "outputs": [],
   "source": [
    "dict_lat = dict(units = \"degrees_north\", long_name = \"Latitude\")\n",
    "dict_lon = dict(units = \"degrees_east\", long_name = \"Longitude\")"
   ]
  },
  {
   "cell_type": "code",
   "execution_count": 38,
   "id": "a61da32a-71e2-4a59-9cd0-827623c2f1b9",
   "metadata": {
    "execution": {
     "iopub.execute_input": "2022-05-15T23:38:53.825313Z",
     "iopub.status.busy": "2022-05-15T23:38:53.825167Z",
     "iopub.status.idle": "2022-05-15T23:38:53.843063Z",
     "shell.execute_reply": "2022-05-15T23:38:53.842609Z"
    },
    "papermill": {
     "duration": 0.026543,
     "end_time": "2022-05-15T23:38:53.844316",
     "exception": false,
     "start_time": "2022-05-15T23:38:53.817773",
     "status": "completed"
    },
    "tags": []
   },
   "outputs": [],
   "source": [
    "terciles_category_percent['lat'].attrs.update(dict_lat)\n",
    "terciles_category_percent['lon'].attrs.update(dict_lon)"
   ]
  },
  {
   "cell_type": "code",
   "execution_count": 39,
   "id": "ef0fd7d8-03da-4a24-86f1-af924f2b7217",
   "metadata": {
    "execution": {
     "iopub.execute_input": "2022-05-15T23:38:53.859183Z",
     "iopub.status.busy": "2022-05-15T23:38:53.859039Z",
     "iopub.status.idle": "2022-05-15T23:38:53.877425Z",
     "shell.execute_reply": "2022-05-15T23:38:53.876957Z"
    },
    "papermill": {
     "duration": 0.027513,
     "end_time": "2022-05-15T23:38:53.878574",
     "exception": false,
     "start_time": "2022-05-15T23:38:53.851061",
     "status": "completed"
    },
    "tags": []
   },
   "outputs": [],
   "source": [
    "quartiles_category_percent['lat'].attrs.update(dict_lat)\n",
    "quartiles_category_percent['lon'].attrs.update(dict_lon)"
   ]
  },
  {
   "cell_type": "code",
   "execution_count": 40,
   "id": "f9850307-0659-48ed-ba1e-aa444832064b",
   "metadata": {
    "execution": {
     "iopub.execute_input": "2022-05-15T23:38:53.893056Z",
     "iopub.status.busy": "2022-05-15T23:38:53.892908Z",
     "iopub.status.idle": "2022-05-15T23:38:53.910690Z",
     "shell.execute_reply": "2022-05-15T23:38:53.910219Z"
    },
    "papermill": {
     "duration": 0.026463,
     "end_time": "2022-05-15T23:38:53.911865",
     "exception": false,
     "start_time": "2022-05-15T23:38:53.885402",
     "status": "completed"
    },
    "tags": []
   },
   "outputs": [],
   "source": [
    "deciles_category_percent['lat'].attrs.update(dict_lat)\n",
    "deciles_category_percent['lon'].attrs.update(dict_lon)"
   ]
  },
  {
   "cell_type": "code",
   "execution_count": 41,
   "id": "b5020f2d-0d62-4e2a-8569-4926e0e6dafa",
   "metadata": {
    "execution": {
     "iopub.execute_input": "2022-05-15T23:38:53.926324Z",
     "iopub.status.busy": "2022-05-15T23:38:53.926176Z",
     "iopub.status.idle": "2022-05-15T23:38:53.944463Z",
     "shell.execute_reply": "2022-05-15T23:38:53.943937Z"
    },
    "papermill": {
     "duration": 0.02701,
     "end_time": "2022-05-15T23:38:53.945693",
     "exception": false,
     "start_time": "2022-05-15T23:38:53.918683",
     "status": "completed"
    },
    "tags": []
   },
   "outputs": [],
   "source": [
    "percentiles_category_percent['lat'].attrs.update(dict_lat)\n",
    "percentiles_category_percent['lon'].attrs.update(dict_lon)"
   ]
  },
  {
   "cell_type": "code",
   "execution_count": 42,
   "id": "8736460e-3331-48fc-8cc2-cc436fd31129",
   "metadata": {
    "execution": {
     "iopub.execute_input": "2022-05-15T23:38:53.963267Z",
     "iopub.status.busy": "2022-05-15T23:38:53.963099Z",
     "iopub.status.idle": "2022-05-15T23:38:54.016950Z",
     "shell.execute_reply": "2022-05-15T23:38:54.016504Z"
    },
    "papermill": {
     "duration": 0.065418,
     "end_time": "2022-05-15T23:38:54.018011",
     "exception": false,
     "start_time": "2022-05-15T23:38:53.952593",
     "status": "completed"
    },
    "tags": []
   },
   "outputs": [
    {
     "name": "stdout",
     "output_type": "stream",
     "text": [
      "\n",
      "ECCC_GEM_NEMO tprate seasonal forecasts from 2022-05 processed and saved in /home/nicolasf/operational/ICU/development/hotspots/code/ICU_Water_Watch/outputs/C3S...\n",
      "\n"
     ]
    }
   ],
   "source": [
    "terciles_category_percent.to_netcdf(outputs_path.joinpath(f\"{period}_{varname}_terciles_probabilities_from_{date:%Y-%m}_{GCM}.netcdf\")) \n",
    "\n",
    "quartiles_category_percent.to_netcdf(outputs_path.joinpath(f\"{period}_{varname}_quartiles_probabilities_from_{date:%Y-%m}_{GCM}.netcdf\")) \n",
    "\n",
    "deciles_category_percent.to_netcdf(outputs_path.joinpath(f\"{period}_{varname}_deciles_probabilities_from_{date:%Y-%m}_{GCM}.netcdf\")) \n",
    "\n",
    "percentiles_category_percent.to_netcdf(outputs_path.joinpath(f\"{period}_{varname}_percentiles_probabilities_from_{date:%Y-%m}_{GCM}.netcdf\")) \n",
    "\n",
    "print(f\"\\n{GCM} {varname} {period} forecasts from {year}-{str(month).zfill(2)} processed and saved in {str(outputs_path)}...\\n\")\n"
   ]
  },
  {
   "cell_type": "code",
   "execution_count": null,
   "id": "c01eb164-2565-42dc-885e-828e40598eb4",
   "metadata": {
    "papermill": {
     "duration": 0.006757,
     "end_time": "2022-05-15T23:38:54.031706",
     "exception": false,
     "start_time": "2022-05-15T23:38:54.024949",
     "status": "completed"
    },
    "tags": []
   },
   "outputs": [],
   "source": []
  }
 ],
 "metadata": {
  "kernelspec": {
   "display_name": "Python 3 (ipykernel)",
   "language": "python",
   "name": "python3"
  },
  "language_info": {
   "codemirror_mode": {
    "name": "ipython",
    "version": 3
   },
   "file_extension": ".py",
   "mimetype": "text/x-python",
   "name": "python",
   "nbconvert_exporter": "python",
   "pygments_lexer": "ipython3",
   "version": "3.9.12"
  },
  "papermill": {
   "default_parameters": {},
   "duration": 24.193735,
   "end_time": "2022-05-15T23:38:54.656252",
   "environment_variables": {},
   "exception": null,
   "input_path": "4_calculate_C3S_MME_forecast_probabilities.ipynb",
   "output_path": "4_calculate_C3S_MME_forecast_probabilities.ipynb",
   "parameters": {
    "GCM": "ECCC_GEM_NEMO",
    "period": "seasonal"
   },
   "start_time": "2022-05-15T23:38:30.462517",
   "version": "2.3.4"
  }
 },
 "nbformat": 4,
 "nbformat_minor": 5
}
