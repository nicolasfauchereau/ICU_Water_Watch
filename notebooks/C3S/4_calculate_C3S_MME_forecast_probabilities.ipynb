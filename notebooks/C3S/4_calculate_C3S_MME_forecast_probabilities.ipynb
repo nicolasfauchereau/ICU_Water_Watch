{
 "cells": [
  {
   "cell_type": "markdown",
   "id": "3880d8eb-ca66-48bb-8d73-e4143d0aaa36",
   "metadata": {
    "papermill": {
     "duration": 0.036757,
     "end_time": "2022-03-16T00:55:48.007757",
     "exception": false,
     "start_time": "2022-03-16T00:55:47.971000",
     "status": "completed"
    },
    "tags": []
   },
   "source": [
    "## calculate the probabilities for terciles, deciles and percentiles (0.02 then 0.05 to 0.95) categories for a 'realtime' forecast, with respect to the lead-time dependent monthly and seasonal hindcast climatologies, for each of the 8 C3S GCMs (ECMWF, UKMO, METEO-FRANCE, DWD, CMCC, NCEP, JMA and ECCC)"
   ]
  },
  {
   "cell_type": "markdown",
   "id": "046911ae-c3de-4e6e-8917-d48f12cf0ecf",
   "metadata": {
    "papermill": {
     "duration": 0.023789,
     "end_time": "2022-03-16T00:55:48.057019",
     "exception": false,
     "start_time": "2022-03-16T00:55:48.033230",
     "status": "completed"
    },
    "tags": []
   },
   "source": [
    "This notebook:   \n",
    "    \n",
    "1) reads the latest forecasts from the C3S MME [ECMWF, UKMO, METEO-FRANCE, DWD, CMCC, NCEP, JMA and ECCC]  \n",
    "2) preprocesses, converts to monthly / seasonal rainfall accumulations   \n",
    "3) reads the leadtime-dependent terciles, deciles and percentiles (0.02 then 0.05 to 0.95) climatologies corresponding to the initial month of the forecast  \n",
    "4) calculate the probabilities for each quantile category as the proportion of the GCM's ensemble members  \n",
    "5) saves to disk these probabilities for later use and mapping   "
   ]
  },
  {
   "cell_type": "code",
   "execution_count": 1,
   "id": "39906a50-30ee-4f07-bbff-6eb4831da534",
   "metadata": {
    "execution": {
     "iopub.execute_input": "2022-03-16T00:55:48.112533Z",
     "iopub.status.busy": "2022-03-16T00:55:48.112183Z",
     "iopub.status.idle": "2022-03-16T00:55:48.120552Z",
     "shell.execute_reply": "2022-03-16T00:55:48.120183Z"
    },
    "papermill": {
     "duration": 0.037423,
     "end_time": "2022-03-16T00:55:48.120641",
     "exception": false,
     "start_time": "2022-03-16T00:55:48.083218",
     "status": "completed"
    },
    "tags": []
   },
   "outputs": [],
   "source": [
    "%load_ext autoreload\n",
    "%autoreload 2"
   ]
  },
  {
   "cell_type": "code",
   "execution_count": 2,
   "id": "35f76d2f-14b2-44b4-98f2-7e3edeaeecf7",
   "metadata": {
    "execution": {
     "iopub.execute_input": "2022-03-16T00:55:48.172222Z",
     "iopub.status.busy": "2022-03-16T00:55:48.171883Z",
     "iopub.status.idle": "2022-03-16T00:55:49.092333Z",
     "shell.execute_reply": "2022-03-16T00:55:49.091927Z"
    },
    "papermill": {
     "duration": 0.94756,
     "end_time": "2022-03-16T00:55:49.092443",
     "exception": false,
     "start_time": "2022-03-16T00:55:48.144883",
     "status": "completed"
    },
    "tags": []
   },
   "outputs": [],
   "source": [
    "### os \n",
    "import os \n",
    "import sys\n",
    "\n",
    "### datetimes \n",
    "from datetime import datetime, timedelta\n",
    "from dateutil.relativedelta import relativedelta\n",
    "from calendar import month_name\n",
    "\n",
    "### scipy \n",
    "import numpy as np \n",
    "import pandas as pd\n",
    "import xarray as xr"
   ]
  },
  {
   "cell_type": "code",
   "execution_count": 3,
   "id": "6267b8b0-2ea5-49da-be46-c35ae2e9e4ec",
   "metadata": {
    "execution": {
     "iopub.execute_input": "2022-03-16T00:55:49.144814Z",
     "iopub.status.busy": "2022-03-16T00:55:49.144470Z",
     "iopub.status.idle": "2022-03-16T00:55:49.156740Z",
     "shell.execute_reply": "2022-03-16T00:55:49.156391Z"
    },
    "papermill": {
     "duration": 0.038957,
     "end_time": "2022-03-16T00:55:49.156822",
     "exception": false,
     "start_time": "2022-03-16T00:55:49.117865",
     "status": "completed"
    },
    "tags": []
   },
   "outputs": [],
   "source": [
    "import pathlib\n",
    "HOME = pathlib.Path.home()\n",
    "CWD = pathlib.Path.cwd() "
   ]
  },
  {
   "cell_type": "markdown",
   "id": "4908616d-93e1-4e2e-a799-8a3c6c69dc6d",
   "metadata": {
    "papermill": {
     "duration": 0.024332,
     "end_time": "2022-03-16T00:55:49.205483",
     "exception": false,
     "start_time": "2022-03-16T00:55:49.181151",
     "status": "completed"
    },
    "tags": []
   },
   "source": [
    "### import local functions for the processing of the C3S forecasts "
   ]
  },
  {
   "cell_type": "code",
   "execution_count": 4,
   "id": "3face832-c495-4625-b989-f4fccd48f686",
   "metadata": {
    "execution": {
     "iopub.execute_input": "2022-03-16T00:55:49.256696Z",
     "iopub.status.busy": "2022-03-16T00:55:49.256361Z",
     "iopub.status.idle": "2022-03-16T00:55:49.267850Z",
     "shell.execute_reply": "2022-03-16T00:55:49.268104Z"
    },
    "papermill": {
     "duration": 0.03871,
     "end_time": "2022-03-16T00:55:49.268205",
     "exception": false,
     "start_time": "2022-03-16T00:55:49.229495",
     "status": "completed"
    },
    "tags": []
   },
   "outputs": [],
   "source": [
    "sys.path.append('../..')"
   ]
  },
  {
   "cell_type": "code",
   "execution_count": 5,
   "id": "2c91d66f-1362-4c78-9e5d-219b294ac5a9",
   "metadata": {
    "execution": {
     "iopub.execute_input": "2022-03-16T00:55:49.318879Z",
     "iopub.status.busy": "2022-03-16T00:55:49.318538Z",
     "iopub.status.idle": "2022-03-16T00:56:02.364741Z",
     "shell.execute_reply": "2022-03-16T00:56:02.365014Z"
    },
    "papermill": {
     "duration": 13.073099,
     "end_time": "2022-03-16T00:56:02.365114",
     "exception": false,
     "start_time": "2022-03-16T00:55:49.292015",
     "status": "completed"
    },
    "tags": []
   },
   "outputs": [
    {
     "name": "stderr",
     "output_type": "stream",
     "text": [
      "/home/nicolasf/mambaforge/envs/ICU_ops/lib/python3.9/site-packages/statsmodels/compat/pandas.py:65: FutureWarning: pandas.Int64Index is deprecated and will be removed from pandas in a future version. Use pandas.Index with the appropriate dtype instead.\n",
      "  from pandas import Int64Index as NumericIndex\n"
     ]
    }
   ],
   "source": [
    "from ICU_Water_Watch import C3S, domains"
   ]
  },
  {
   "cell_type": "markdown",
   "id": "b683905e-dc6b-4bfd-8447-ea296a739ab5",
   "metadata": {
    "papermill": {
     "duration": 0.023502,
     "end_time": "2022-03-16T00:56:02.413023",
     "exception": false,
     "start_time": "2022-03-16T00:56:02.389521",
     "status": "completed"
    },
    "tags": []
   },
   "source": [
    "### parameters for papermill "
   ]
  },
  {
   "cell_type": "code",
   "execution_count": 6,
   "id": "86444799-6043-41c9-894a-c466d6260b49",
   "metadata": {
    "execution": {
     "iopub.execute_input": "2022-03-16T00:56:02.463153Z",
     "iopub.status.busy": "2022-03-16T00:56:02.462823Z",
     "iopub.status.idle": "2022-03-16T00:56:02.481001Z",
     "shell.execute_reply": "2022-03-16T00:56:02.480606Z"
    },
    "papermill": {
     "duration": 0.044338,
     "end_time": "2022-03-16T00:56:02.481121",
     "exception": false,
     "start_time": "2022-03-16T00:56:02.436783",
     "status": "completed"
    },
    "tags": [
     "parameters"
    ]
   },
   "outputs": [],
   "source": [
    "provider = 'CDS' # should not change\n",
    "GCM = 'ECMWF'\n",
    "# list_GCMs = ['ECMWF','UKMO','METEO_FRANCE','CMCC','DWD', 'NCEP', 'JMA', 'ECCC_CanCM4i', 'ECCC_GEM_NEMO']\n",
    "varname = 'tprate' # should not change\n",
    "period = 'seasonal' # valid values: 'seasonal or 'monthly'\n",
    "# if one wants to process older forecasts \n",
    "lag = 0\n",
    "# path where to find the hindcasts and forecasts \n",
    "gcm_path = f'/media/nicolasf/END19101/ICU/data/{provider}/operational'\n",
    "outputs_path = '/home/nicolasf/operational/ICU/development/hotspots/code/ICU_Water_Watch/outputs/C3S'"
   ]
  },
  {
   "cell_type": "code",
   "execution_count": 8,
   "id": "7472b63f-471f-4214-b4f9-afbbde88e807",
   "metadata": {
    "execution": {
     "iopub.execute_input": "2022-03-16T00:56:02.600637Z",
     "iopub.status.busy": "2022-03-16T00:56:02.600315Z",
     "iopub.status.idle": "2022-03-16T00:56:02.616674Z",
     "shell.execute_reply": "2022-03-16T00:56:02.616313Z"
    },
    "papermill": {
     "duration": 0.042862,
     "end_time": "2022-03-16T00:56:02.616754",
     "exception": false,
     "start_time": "2022-03-16T00:56:02.573892",
     "status": "completed"
    },
    "tags": []
   },
   "outputs": [],
   "source": [
    "gcm_path = pathlib.Path(gcm_path)\n",
    "outputs_path = pathlib.Path(outputs_path)"
   ]
  },
  {
   "cell_type": "markdown",
   "id": "0c0bed97-7d1b-466b-9428-5774c9e62a75",
   "metadata": {
    "papermill": {
     "duration": 0.02333,
     "end_time": "2022-03-16T00:56:02.663975",
     "exception": false,
     "start_time": "2022-03-16T00:56:02.640645",
     "status": "completed"
    },
    "tags": []
   },
   "source": [
    "### create the outputs path if it doesnt exist "
   ]
  },
  {
   "cell_type": "code",
   "execution_count": 9,
   "id": "9f8212d4-c611-48d6-8be7-fc67faf9d621",
   "metadata": {
    "execution": {
     "iopub.execute_input": "2022-03-16T00:56:02.713818Z",
     "iopub.status.busy": "2022-03-16T00:56:02.713501Z",
     "iopub.status.idle": "2022-03-16T00:56:02.729756Z",
     "shell.execute_reply": "2022-03-16T00:56:02.729381Z"
    },
    "papermill": {
     "duration": 0.042427,
     "end_time": "2022-03-16T00:56:02.729835",
     "exception": false,
     "start_time": "2022-03-16T00:56:02.687408",
     "status": "completed"
    },
    "tags": []
   },
   "outputs": [],
   "source": [
    "if not(outputs_path).exists(): \n",
    "    outputs_path.mkdir(parents=True)"
   ]
  },
  {
   "cell_type": "markdown",
   "id": "4b6e5e18-324e-414b-bf36-6b9a74984413",
   "metadata": {
    "papermill": {
     "duration": 0.023137,
     "end_time": "2022-03-16T00:56:02.776243",
     "exception": false,
     "start_time": "2022-03-16T00:56:02.753106",
     "status": "completed"
    },
    "tags": []
   },
   "source": [
    "### domain for extraction "
   ]
  },
  {
   "cell_type": "code",
   "execution_count": 10,
   "id": "c0ad3fb4-a2f3-4d4b-ae78-f8f87e634449",
   "metadata": {
    "execution": {
     "iopub.execute_input": "2022-03-16T00:56:02.826037Z",
     "iopub.status.busy": "2022-03-16T00:56:02.825295Z",
     "iopub.status.idle": "2022-03-16T00:56:02.842140Z",
     "shell.execute_reply": "2022-03-16T00:56:02.841865Z"
    },
    "papermill": {
     "duration": 0.042174,
     "end_time": "2022-03-16T00:56:02.842220",
     "exception": false,
     "start_time": "2022-03-16T00:56:02.800046",
     "status": "completed"
    },
    "tags": []
   },
   "outputs": [],
   "source": [
    "domain = domains.domains['C3S_download']"
   ]
  },
  {
   "cell_type": "markdown",
   "id": "567333ca-4646-4274-8fc9-f7c2c1e7b2b6",
   "metadata": {
    "papermill": {
     "duration": 0.023412,
     "end_time": "2022-03-16T00:56:02.889089",
     "exception": false,
     "start_time": "2022-03-16T00:56:02.865677",
     "status": "completed"
    },
    "tags": []
   },
   "source": [
    "### get today's date "
   ]
  },
  {
   "cell_type": "code",
   "execution_count": 11,
   "id": "f435ed08-b3fd-4632-9f9e-5a656a504eb6",
   "metadata": {
    "execution": {
     "iopub.execute_input": "2022-03-16T00:56:02.939616Z",
     "iopub.status.busy": "2022-03-16T00:56:02.939300Z",
     "iopub.status.idle": "2022-03-16T00:56:02.955602Z",
     "shell.execute_reply": "2022-03-16T00:56:02.955274Z"
    },
    "papermill": {
     "duration": 0.04251,
     "end_time": "2022-03-16T00:56:02.955679",
     "exception": false,
     "start_time": "2022-03-16T00:56:02.913169",
     "status": "completed"
    },
    "tags": []
   },
   "outputs": [],
   "source": [
    "date = datetime.utcnow()"
   ]
  },
  {
   "cell_type": "markdown",
   "id": "8209293b-3222-49dc-86b5-6eecf058396e",
   "metadata": {
    "papermill": {
     "duration": 0.024753,
     "end_time": "2022-03-16T00:56:03.004266",
     "exception": false,
     "start_time": "2022-03-16T00:56:02.979513",
     "status": "completed"
    },
    "tags": []
   },
   "source": [
    "### apply lag "
   ]
  },
  {
   "cell_type": "code",
   "execution_count": 12,
   "id": "bdbdb36f-d620-4e82-b872-0771e2a6ee0d",
   "metadata": {
    "execution": {
     "iopub.execute_input": "2022-03-16T00:56:03.056402Z",
     "iopub.status.busy": "2022-03-16T00:56:03.056088Z",
     "iopub.status.idle": "2022-03-16T00:56:03.072444Z",
     "shell.execute_reply": "2022-03-16T00:56:03.072094Z"
    },
    "papermill": {
     "duration": 0.042464,
     "end_time": "2022-03-16T00:56:03.072527",
     "exception": false,
     "start_time": "2022-03-16T00:56:03.030063",
     "status": "completed"
    },
    "tags": []
   },
   "outputs": [],
   "source": [
    "date = date - relativedelta(months=lag)"
   ]
  },
  {
   "cell_type": "code",
   "execution_count": 13,
   "id": "30dc799d-8eb6-4b17-a3fe-a6f05dc15121",
   "metadata": {
    "execution": {
     "iopub.execute_input": "2022-03-16T00:56:03.123135Z",
     "iopub.status.busy": "2022-03-16T00:56:03.122816Z",
     "iopub.status.idle": "2022-03-16T00:56:03.138862Z",
     "shell.execute_reply": "2022-03-16T00:56:03.138537Z"
    },
    "papermill": {
     "duration": 0.042962,
     "end_time": "2022-03-16T00:56:03.138937",
     "exception": false,
     "start_time": "2022-03-16T00:56:03.095975",
     "status": "completed"
    },
    "tags": []
   },
   "outputs": [
    {
     "name": "stdout",
     "output_type": "stream",
     "text": [
      "will process forecasts issued in March 2022\n"
     ]
    }
   ],
   "source": [
    "print(f\"will process forecasts issued in {date:%B %Y}\")"
   ]
  },
  {
   "cell_type": "markdown",
   "id": "4413f04d-c7d1-4d58-b7df-e4cc5cf32185",
   "metadata": {
    "papermill": {
     "duration": 0.024379,
     "end_time": "2022-03-16T00:56:03.186991",
     "exception": false,
     "start_time": "2022-03-16T00:56:03.162612",
     "status": "completed"
    },
    "tags": []
   },
   "source": [
    "### path to the GCMs **hindcast datasets** and **climatologies** "
   ]
  },
  {
   "cell_type": "code",
   "execution_count": 14,
   "id": "2e4526aa-da84-43fb-8de2-cb745c042725",
   "metadata": {
    "execution": {
     "iopub.execute_input": "2022-03-16T00:56:03.240643Z",
     "iopub.status.busy": "2022-03-16T00:56:03.240328Z",
     "iopub.status.idle": "2022-03-16T00:56:03.256622Z",
     "shell.execute_reply": "2022-03-16T00:56:03.256279Z"
    },
    "papermill": {
     "duration": 0.04448,
     "end_time": "2022-03-16T00:56:03.256703",
     "exception": false,
     "start_time": "2022-03-16T00:56:03.212223",
     "status": "completed"
    },
    "tags": []
   },
   "outputs": [],
   "source": [
    "hindcasts_path = gcm_path.joinpath('hindcasts')"
   ]
  },
  {
   "cell_type": "markdown",
   "id": "753a86c1-5ec9-497e-a384-0edb2715cb3a",
   "metadata": {
    "papermill": {
     "duration": 0.025086,
     "end_time": "2022-03-16T00:56:03.306654",
     "exception": false,
     "start_time": "2022-03-16T00:56:03.281568",
     "status": "completed"
    },
    "tags": []
   },
   "source": [
    "### path to where the **realtime forecasts** have been downloaded "
   ]
  },
  {
   "cell_type": "code",
   "execution_count": 15,
   "id": "f54dfd83-d645-4148-b769-ab9248cb53de",
   "metadata": {
    "execution": {
     "iopub.execute_input": "2022-03-16T00:56:03.357733Z",
     "iopub.status.busy": "2022-03-16T00:56:03.357366Z",
     "iopub.status.idle": "2022-03-16T00:56:03.373949Z",
     "shell.execute_reply": "2022-03-16T00:56:03.373614Z"
    },
    "papermill": {
     "duration": 0.043179,
     "end_time": "2022-03-16T00:56:03.374028",
     "exception": false,
     "start_time": "2022-03-16T00:56:03.330849",
     "status": "completed"
    },
    "tags": []
   },
   "outputs": [],
   "source": [
    "forecasts_path = gcm_path.joinpath('forecasts')"
   ]
  },
  {
   "cell_type": "markdown",
   "id": "f6d7810c-ed9b-4c22-b09c-818793fba490",
   "metadata": {
    "papermill": {
     "duration": 0.024072,
     "end_time": "2022-03-16T00:56:03.422768",
     "exception": false,
     "start_time": "2022-03-16T00:56:03.398696",
     "status": "completed"
    },
    "tags": []
   },
   "source": [
    "### get year and month "
   ]
  },
  {
   "cell_type": "code",
   "execution_count": 16,
   "id": "e42ecc20-377f-43bf-8534-5a841cd625bd",
   "metadata": {
    "execution": {
     "iopub.execute_input": "2022-03-16T00:56:03.474704Z",
     "iopub.status.busy": "2022-03-16T00:56:03.474346Z",
     "iopub.status.idle": "2022-03-16T00:56:03.503849Z",
     "shell.execute_reply": "2022-03-16T00:56:03.504113Z"
    },
    "papermill": {
     "duration": 0.0576,
     "end_time": "2022-03-16T00:56:03.504219",
     "exception": false,
     "start_time": "2022-03-16T00:56:03.446619",
     "status": "completed"
    },
    "tags": []
   },
   "outputs": [],
   "source": [
    "year, month =  date.year, date.month"
   ]
  },
  {
   "cell_type": "markdown",
   "id": "7ca4a61d-4851-43ed-a157-66bffe47d3f1",
   "metadata": {
    "papermill": {
     "duration": 0.025905,
     "end_time": "2022-03-16T00:56:03.554661",
     "exception": false,
     "start_time": "2022-03-16T00:56:03.528756",
     "status": "completed"
    },
    "tags": []
   },
   "source": [
    "### calculates and saves the quantiles probabilities "
   ]
  },
  {
   "cell_type": "markdown",
   "id": "cf066c9d-bf33-4723-b801-806ff282285b",
   "metadata": {
    "papermill": {
     "duration": 0.02451,
     "end_time": "2022-03-16T00:56:03.603311",
     "exception": false,
     "start_time": "2022-03-16T00:56:03.578801",
     "status": "completed"
    },
    "tags": []
   },
   "source": [
    "#### read the climatologies "
   ]
  },
  {
   "cell_type": "code",
   "execution_count": 17,
   "id": "769e35a5-ce0b-4992-a92e-6a3a31931bf0",
   "metadata": {
    "execution": {
     "iopub.execute_input": "2022-03-16T00:56:03.654603Z",
     "iopub.status.busy": "2022-03-16T00:56:03.654249Z",
     "iopub.status.idle": "2022-03-16T00:56:03.671986Z",
     "shell.execute_reply": "2022-03-16T00:56:03.671636Z"
    },
    "papermill": {
     "duration": 0.044549,
     "end_time": "2022-03-16T00:56:03.672067",
     "exception": false,
     "start_time": "2022-03-16T00:56:03.627518",
     "status": "completed"
    },
    "tags": []
   },
   "outputs": [],
   "source": [
    "clim_path = hindcasts_path.joinpath(f'CLIMATOLOGY/{GCM}/{varname.upper()}')"
   ]
  },
  {
   "cell_type": "code",
   "execution_count": 18,
   "id": "0a5c1d55-2795-42d6-b049-255e25b3abf3",
   "metadata": {
    "execution": {
     "iopub.execute_input": "2022-03-16T00:56:03.725309Z",
     "iopub.status.busy": "2022-03-16T00:56:03.724988Z",
     "iopub.status.idle": "2022-03-16T00:56:03.808117Z",
     "shell.execute_reply": "2022-03-16T00:56:03.808365Z"
    },
    "papermill": {
     "duration": 0.11158,
     "end_time": "2022-03-16T00:56:03.808466",
     "exception": false,
     "start_time": "2022-03-16T00:56:03.696886",
     "status": "completed"
    },
    "tags": []
   },
   "outputs": [],
   "source": [
    "tercile_climatology = xr.open_dataset(clim_path.joinpath(f\"{GCM}_{varname}_{period}_tercile_climatology_{str(month).zfill(2)}.netcdf\"), engine='netcdf4')\n",
    "\n",
    "quartile_climatology = xr.open_dataset(clim_path.joinpath(f\"{GCM}_{varname}_{period}_quartile_climatology_{str(month).zfill(2)}.netcdf\"), engine='netcdf4')\n",
    "\n",
    "decile_climatology = xr.open_dataset(clim_path.joinpath(f\"{GCM}_{varname}_{period}_decile_climatology_{str(month).zfill(2)}.netcdf\"), engine='netcdf4')\n",
    "\n",
    "percentile_climatology = xr.open_dataset(clim_path.joinpath(f\"{GCM}_{varname}_{period}_percentile_climatology_{str(month).zfill(2)}.netcdf\"), engine='netcdf4')"
   ]
  },
  {
   "cell_type": "markdown",
   "id": "6773a12f-fa95-4a97-a070-1fe11f645483",
   "metadata": {
    "papermill": {
     "duration": 0.023822,
     "end_time": "2022-03-16T00:56:03.855949",
     "exception": false,
     "start_time": "2022-03-16T00:56:03.832127",
     "status": "completed"
    },
    "tags": []
   },
   "source": [
    "#### make sure we have the same domains"
   ]
  },
  {
   "cell_type": "code",
   "execution_count": 19,
   "id": "c9fe00f7-17b4-4e50-8270-c07069553dba",
   "metadata": {
    "execution": {
     "iopub.execute_input": "2022-03-16T00:56:03.907944Z",
     "iopub.status.busy": "2022-03-16T00:56:03.907621Z",
     "iopub.status.idle": "2022-03-16T00:56:03.926399Z",
     "shell.execute_reply": "2022-03-16T00:56:03.926056Z"
    },
    "papermill": {
     "duration": 0.045568,
     "end_time": "2022-03-16T00:56:03.926477",
     "exception": false,
     "start_time": "2022-03-16T00:56:03.880909",
     "status": "completed"
    },
    "tags": []
   },
   "outputs": [],
   "source": [
    "tercile_climatology = domains.extract_domain(tercile_climatology, domain)\n",
    "\n",
    "quartile_climatology = domains.extract_domain(quartile_climatology, domain)\n",
    "\n",
    "decile_climatology = domains.extract_domain(decile_climatology, domain)\n",
    "\n",
    "percentile_climatology = domains.extract_domain(percentile_climatology, domain)"
   ]
  },
  {
   "cell_type": "markdown",
   "id": "3cb65b05-a90a-4641-a7f7-52c382b1fee6",
   "metadata": {
    "papermill": {
     "duration": 0.02412,
     "end_time": "2022-03-16T00:56:03.975070",
     "exception": false,
     "start_time": "2022-03-16T00:56:03.950950",
     "status": "completed"
    },
    "tags": []
   },
   "source": [
    "#### Now read the forecasts "
   ]
  },
  {
   "cell_type": "code",
   "execution_count": 20,
   "id": "2eea3266-8da7-4f5b-971c-26c52d58fb5f",
   "metadata": {
    "execution": {
     "iopub.execute_input": "2022-03-16T00:56:04.027485Z",
     "iopub.status.busy": "2022-03-16T00:56:04.027167Z",
     "iopub.status.idle": "2022-03-16T00:56:04.044159Z",
     "shell.execute_reply": "2022-03-16T00:56:04.043833Z"
    },
    "papermill": {
     "duration": 0.044064,
     "end_time": "2022-03-16T00:56:04.044233",
     "exception": false,
     "start_time": "2022-03-16T00:56:04.000169",
     "status": "completed"
    },
    "tags": []
   },
   "outputs": [
    {
     "name": "stdout",
     "output_type": "stream",
     "text": [
      "--------------------------------------------------\n",
      "Reading tprate forecasts issued 2022-03 for GCM ECCC_GEM_NEMO\n"
     ]
    }
   ],
   "source": [
    "print(f\"{50*'-'}\\nReading {varname} forecasts issued {year}-{str(month).zfill(2)} for GCM {GCM}\")"
   ]
  },
  {
   "cell_type": "code",
   "execution_count": 21,
   "id": "60a261a9-d8fc-468d-b365-05bf0d7cb354",
   "metadata": {
    "execution": {
     "iopub.execute_input": "2022-03-16T00:56:04.096004Z",
     "iopub.status.busy": "2022-03-16T00:56:04.095684Z",
     "iopub.status.idle": "2022-03-16T00:56:04.116926Z",
     "shell.execute_reply": "2022-03-16T00:56:04.116626Z"
    },
    "papermill": {
     "duration": 0.048383,
     "end_time": "2022-03-16T00:56:04.117006",
     "exception": false,
     "start_time": "2022-03-16T00:56:04.068623",
     "status": "completed"
    },
    "tags": []
   },
   "outputs": [],
   "source": [
    "if 'ECCC' in GCM: \n",
    "\n",
    "    x = xr.open_dataset(forecasts_path.joinpath(f\"{GCM}/{varname.upper()}/ensemble_seas_forecasts_{varname}_from_{year}_{str(month).zfill(2)}_{GCM.split('_')[0]}.netcdf\"), engine='netcdf4')\n",
    "\n",
    "else: \n",
    "\n",
    "    x = xr.open_dataset(forecasts_path.joinpath(f\"{GCM}/{varname.upper()}/ensemble_seas_forecasts_{varname}_from_{year}_{str(month).zfill(2)}_{GCM}.netcdf\"), engine='netcdf4')\n"
   ]
  },
  {
   "cell_type": "code",
   "execution_count": 22,
   "id": "7a7badce-7786-4a8e-86b2-fd6af643d1db",
   "metadata": {
    "execution": {
     "iopub.execute_input": "2022-03-16T00:56:04.167869Z",
     "iopub.status.busy": "2022-03-16T00:56:04.167462Z",
     "iopub.status.idle": "2022-03-16T00:56:04.194982Z",
     "shell.execute_reply": "2022-03-16T00:56:04.194654Z"
    },
    "papermill": {
     "duration": 0.053579,
     "end_time": "2022-03-16T00:56:04.195058",
     "exception": false,
     "start_time": "2022-03-16T00:56:04.141479",
     "status": "completed"
    },
    "tags": []
   },
   "outputs": [
    {
     "data": {
      "text/html": [
       "<div><svg style=\"position: absolute; width: 0; height: 0; overflow: hidden\">\n",
       "<defs>\n",
       "<symbol id=\"icon-database\" viewBox=\"0 0 32 32\">\n",
       "<path d=\"M16 0c-8.837 0-16 2.239-16 5v4c0 2.761 7.163 5 16 5s16-2.239 16-5v-4c0-2.761-7.163-5-16-5z\"></path>\n",
       "<path d=\"M16 17c-8.837 0-16-2.239-16-5v6c0 2.761 7.163 5 16 5s16-2.239 16-5v-6c0 2.761-7.163 5-16 5z\"></path>\n",
       "<path d=\"M16 26c-8.837 0-16-2.239-16-5v6c0 2.761 7.163 5 16 5s16-2.239 16-5v-6c0 2.761-7.163 5-16 5z\"></path>\n",
       "</symbol>\n",
       "<symbol id=\"icon-file-text2\" viewBox=\"0 0 32 32\">\n",
       "<path d=\"M28.681 7.159c-0.694-0.947-1.662-2.053-2.724-3.116s-2.169-2.030-3.116-2.724c-1.612-1.182-2.393-1.319-2.841-1.319h-15.5c-1.378 0-2.5 1.121-2.5 2.5v27c0 1.378 1.122 2.5 2.5 2.5h23c1.378 0 2.5-1.122 2.5-2.5v-19.5c0-0.448-0.137-1.23-1.319-2.841zM24.543 5.457c0.959 0.959 1.712 1.825 2.268 2.543h-4.811v-4.811c0.718 0.556 1.584 1.309 2.543 2.268zM28 29.5c0 0.271-0.229 0.5-0.5 0.5h-23c-0.271 0-0.5-0.229-0.5-0.5v-27c0-0.271 0.229-0.5 0.5-0.5 0 0 15.499-0 15.5 0v7c0 0.552 0.448 1 1 1h7v19.5z\"></path>\n",
       "<path d=\"M23 26h-14c-0.552 0-1-0.448-1-1s0.448-1 1-1h14c0.552 0 1 0.448 1 1s-0.448 1-1 1z\"></path>\n",
       "<path d=\"M23 22h-14c-0.552 0-1-0.448-1-1s0.448-1 1-1h14c0.552 0 1 0.448 1 1s-0.448 1-1 1z\"></path>\n",
       "<path d=\"M23 18h-14c-0.552 0-1-0.448-1-1s0.448-1 1-1h14c0.552 0 1 0.448 1 1s-0.448 1-1 1z\"></path>\n",
       "</symbol>\n",
       "</defs>\n",
       "</svg>\n",
       "<style>/* CSS stylesheet for displaying xarray objects in jupyterlab.\n",
       " *\n",
       " */\n",
       "\n",
       ":root {\n",
       "  --xr-font-color0: var(--jp-content-font-color0, rgba(0, 0, 0, 1));\n",
       "  --xr-font-color2: var(--jp-content-font-color2, rgba(0, 0, 0, 0.54));\n",
       "  --xr-font-color3: var(--jp-content-font-color3, rgba(0, 0, 0, 0.38));\n",
       "  --xr-border-color: var(--jp-border-color2, #e0e0e0);\n",
       "  --xr-disabled-color: var(--jp-layout-color3, #bdbdbd);\n",
       "  --xr-background-color: var(--jp-layout-color0, white);\n",
       "  --xr-background-color-row-even: var(--jp-layout-color1, white);\n",
       "  --xr-background-color-row-odd: var(--jp-layout-color2, #eeeeee);\n",
       "}\n",
       "\n",
       "html[theme=dark],\n",
       "body.vscode-dark {\n",
       "  --xr-font-color0: rgba(255, 255, 255, 1);\n",
       "  --xr-font-color2: rgba(255, 255, 255, 0.54);\n",
       "  --xr-font-color3: rgba(255, 255, 255, 0.38);\n",
       "  --xr-border-color: #1F1F1F;\n",
       "  --xr-disabled-color: #515151;\n",
       "  --xr-background-color: #111111;\n",
       "  --xr-background-color-row-even: #111111;\n",
       "  --xr-background-color-row-odd: #313131;\n",
       "}\n",
       "\n",
       ".xr-wrap {\n",
       "  display: block !important;\n",
       "  min-width: 300px;\n",
       "  max-width: 700px;\n",
       "}\n",
       "\n",
       ".xr-text-repr-fallback {\n",
       "  /* fallback to plain text repr when CSS is not injected (untrusted notebook) */\n",
       "  display: none;\n",
       "}\n",
       "\n",
       ".xr-header {\n",
       "  padding-top: 6px;\n",
       "  padding-bottom: 6px;\n",
       "  margin-bottom: 4px;\n",
       "  border-bottom: solid 1px var(--xr-border-color);\n",
       "}\n",
       "\n",
       ".xr-header > div,\n",
       ".xr-header > ul {\n",
       "  display: inline;\n",
       "  margin-top: 0;\n",
       "  margin-bottom: 0;\n",
       "}\n",
       "\n",
       ".xr-obj-type,\n",
       ".xr-array-name {\n",
       "  margin-left: 2px;\n",
       "  margin-right: 10px;\n",
       "}\n",
       "\n",
       ".xr-obj-type {\n",
       "  color: var(--xr-font-color2);\n",
       "}\n",
       "\n",
       ".xr-sections {\n",
       "  padding-left: 0 !important;\n",
       "  display: grid;\n",
       "  grid-template-columns: 150px auto auto 1fr 20px 20px;\n",
       "}\n",
       "\n",
       ".xr-section-item {\n",
       "  display: contents;\n",
       "}\n",
       "\n",
       ".xr-section-item input {\n",
       "  display: none;\n",
       "}\n",
       "\n",
       ".xr-section-item input + label {\n",
       "  color: var(--xr-disabled-color);\n",
       "}\n",
       "\n",
       ".xr-section-item input:enabled + label {\n",
       "  cursor: pointer;\n",
       "  color: var(--xr-font-color2);\n",
       "}\n",
       "\n",
       ".xr-section-item input:enabled + label:hover {\n",
       "  color: var(--xr-font-color0);\n",
       "}\n",
       "\n",
       ".xr-section-summary {\n",
       "  grid-column: 1;\n",
       "  color: var(--xr-font-color2);\n",
       "  font-weight: 500;\n",
       "}\n",
       "\n",
       ".xr-section-summary > span {\n",
       "  display: inline-block;\n",
       "  padding-left: 0.5em;\n",
       "}\n",
       "\n",
       ".xr-section-summary-in:disabled + label {\n",
       "  color: var(--xr-font-color2);\n",
       "}\n",
       "\n",
       ".xr-section-summary-in + label:before {\n",
       "  display: inline-block;\n",
       "  content: '►';\n",
       "  font-size: 11px;\n",
       "  width: 15px;\n",
       "  text-align: center;\n",
       "}\n",
       "\n",
       ".xr-section-summary-in:disabled + label:before {\n",
       "  color: var(--xr-disabled-color);\n",
       "}\n",
       "\n",
       ".xr-section-summary-in:checked + label:before {\n",
       "  content: '▼';\n",
       "}\n",
       "\n",
       ".xr-section-summary-in:checked + label > span {\n",
       "  display: none;\n",
       "}\n",
       "\n",
       ".xr-section-summary,\n",
       ".xr-section-inline-details {\n",
       "  padding-top: 4px;\n",
       "  padding-bottom: 4px;\n",
       "}\n",
       "\n",
       ".xr-section-inline-details {\n",
       "  grid-column: 2 / -1;\n",
       "}\n",
       "\n",
       ".xr-section-details {\n",
       "  display: none;\n",
       "  grid-column: 1 / -1;\n",
       "  margin-bottom: 5px;\n",
       "}\n",
       "\n",
       ".xr-section-summary-in:checked ~ .xr-section-details {\n",
       "  display: contents;\n",
       "}\n",
       "\n",
       ".xr-array-wrap {\n",
       "  grid-column: 1 / -1;\n",
       "  display: grid;\n",
       "  grid-template-columns: 20px auto;\n",
       "}\n",
       "\n",
       ".xr-array-wrap > label {\n",
       "  grid-column: 1;\n",
       "  vertical-align: top;\n",
       "}\n",
       "\n",
       ".xr-preview {\n",
       "  color: var(--xr-font-color3);\n",
       "}\n",
       "\n",
       ".xr-array-preview,\n",
       ".xr-array-data {\n",
       "  padding: 0 5px !important;\n",
       "  grid-column: 2;\n",
       "}\n",
       "\n",
       ".xr-array-data,\n",
       ".xr-array-in:checked ~ .xr-array-preview {\n",
       "  display: none;\n",
       "}\n",
       "\n",
       ".xr-array-in:checked ~ .xr-array-data,\n",
       ".xr-array-preview {\n",
       "  display: inline-block;\n",
       "}\n",
       "\n",
       ".xr-dim-list {\n",
       "  display: inline-block !important;\n",
       "  list-style: none;\n",
       "  padding: 0 !important;\n",
       "  margin: 0;\n",
       "}\n",
       "\n",
       ".xr-dim-list li {\n",
       "  display: inline-block;\n",
       "  padding: 0;\n",
       "  margin: 0;\n",
       "}\n",
       "\n",
       ".xr-dim-list:before {\n",
       "  content: '(';\n",
       "}\n",
       "\n",
       ".xr-dim-list:after {\n",
       "  content: ')';\n",
       "}\n",
       "\n",
       ".xr-dim-list li:not(:last-child):after {\n",
       "  content: ',';\n",
       "  padding-right: 5px;\n",
       "}\n",
       "\n",
       ".xr-has-index {\n",
       "  font-weight: bold;\n",
       "}\n",
       "\n",
       ".xr-var-list,\n",
       ".xr-var-item {\n",
       "  display: contents;\n",
       "}\n",
       "\n",
       ".xr-var-item > div,\n",
       ".xr-var-item label,\n",
       ".xr-var-item > .xr-var-name span {\n",
       "  background-color: var(--xr-background-color-row-even);\n",
       "  margin-bottom: 0;\n",
       "}\n",
       "\n",
       ".xr-var-item > .xr-var-name:hover span {\n",
       "  padding-right: 5px;\n",
       "}\n",
       "\n",
       ".xr-var-list > li:nth-child(odd) > div,\n",
       ".xr-var-list > li:nth-child(odd) > label,\n",
       ".xr-var-list > li:nth-child(odd) > .xr-var-name span {\n",
       "  background-color: var(--xr-background-color-row-odd);\n",
       "}\n",
       "\n",
       ".xr-var-name {\n",
       "  grid-column: 1;\n",
       "}\n",
       "\n",
       ".xr-var-dims {\n",
       "  grid-column: 2;\n",
       "}\n",
       "\n",
       ".xr-var-dtype {\n",
       "  grid-column: 3;\n",
       "  text-align: right;\n",
       "  color: var(--xr-font-color2);\n",
       "}\n",
       "\n",
       ".xr-var-preview {\n",
       "  grid-column: 4;\n",
       "}\n",
       "\n",
       ".xr-var-name,\n",
       ".xr-var-dims,\n",
       ".xr-var-dtype,\n",
       ".xr-preview,\n",
       ".xr-attrs dt {\n",
       "  white-space: nowrap;\n",
       "  overflow: hidden;\n",
       "  text-overflow: ellipsis;\n",
       "  padding-right: 10px;\n",
       "}\n",
       "\n",
       ".xr-var-name:hover,\n",
       ".xr-var-dims:hover,\n",
       ".xr-var-dtype:hover,\n",
       ".xr-attrs dt:hover {\n",
       "  overflow: visible;\n",
       "  width: auto;\n",
       "  z-index: 1;\n",
       "}\n",
       "\n",
       ".xr-var-attrs,\n",
       ".xr-var-data {\n",
       "  display: none;\n",
       "  background-color: var(--xr-background-color) !important;\n",
       "  padding-bottom: 5px !important;\n",
       "}\n",
       "\n",
       ".xr-var-attrs-in:checked ~ .xr-var-attrs,\n",
       ".xr-var-data-in:checked ~ .xr-var-data {\n",
       "  display: block;\n",
       "}\n",
       "\n",
       ".xr-var-data > table {\n",
       "  float: right;\n",
       "}\n",
       "\n",
       ".xr-var-name span,\n",
       ".xr-var-data,\n",
       ".xr-attrs {\n",
       "  padding-left: 25px !important;\n",
       "}\n",
       "\n",
       ".xr-attrs,\n",
       ".xr-var-attrs,\n",
       ".xr-var-data {\n",
       "  grid-column: 1 / -1;\n",
       "}\n",
       "\n",
       "dl.xr-attrs {\n",
       "  padding: 0;\n",
       "  margin: 0;\n",
       "  display: grid;\n",
       "  grid-template-columns: 125px auto;\n",
       "}\n",
       "\n",
       ".xr-attrs dt,\n",
       ".xr-attrs dd {\n",
       "  padding: 0;\n",
       "  margin: 0;\n",
       "  float: left;\n",
       "  padding-right: 10px;\n",
       "  width: auto;\n",
       "}\n",
       "\n",
       ".xr-attrs dt {\n",
       "  font-weight: normal;\n",
       "  grid-column: 1;\n",
       "}\n",
       "\n",
       ".xr-attrs dt:hover span {\n",
       "  display: inline-block;\n",
       "  background: var(--xr-background-color);\n",
       "  padding-right: 10px;\n",
       "}\n",
       "\n",
       ".xr-attrs dd {\n",
       "  grid-column: 2;\n",
       "  white-space: pre-wrap;\n",
       "  word-break: break-all;\n",
       "}\n",
       "\n",
       ".xr-icon-database,\n",
       ".xr-icon-file-text2 {\n",
       "  display: inline-block;\n",
       "  vertical-align: middle;\n",
       "  width: 1em;\n",
       "  height: 1.5em !important;\n",
       "  stroke-width: 0;\n",
       "  stroke: currentColor;\n",
       "  fill: currentColor;\n",
       "}\n",
       "</style><pre class='xr-text-repr-fallback'>&lt;xarray.Dataset&gt;\n",
       "Dimensions:    (longitude: 141, latitude: 81, number: 10, time: 5)\n",
       "Coordinates:\n",
       "  * longitude  (longitude) float32 100.0 101.0 102.0 103.0 ... 238.0 239.0 240.0\n",
       "  * latitude   (latitude) float32 30.0 29.0 28.0 27.0 ... -48.0 -49.0 -50.0\n",
       "  * number     (number) int32 0 1 2 3 4 5 6 7 8 9\n",
       "  * time       (time) datetime64[ns] 2022-04-01 2022-05-01 ... 2022-08-01\n",
       "Data variables:\n",
       "    tprate     (time, number, latitude, longitude) float32 ...\n",
       "Attributes:\n",
       "    Conventions:  CF-1.6\n",
       "    history:      2022-03-14 22:09:25 GMT by grib_to_netcdf-2.24.2: /opt/ecmw...</pre><div class='xr-wrap' style='display:none'><div class='xr-header'><div class='xr-obj-type'>xarray.Dataset</div></div><ul class='xr-sections'><li class='xr-section-item'><input id='section-ef5e40f8-86c9-40dd-9858-49f92c09f078' class='xr-section-summary-in' type='checkbox' disabled ><label for='section-ef5e40f8-86c9-40dd-9858-49f92c09f078' class='xr-section-summary'  title='Expand/collapse section'>Dimensions:</label><div class='xr-section-inline-details'><ul class='xr-dim-list'><li><span class='xr-has-index'>longitude</span>: 141</li><li><span class='xr-has-index'>latitude</span>: 81</li><li><span class='xr-has-index'>number</span>: 10</li><li><span class='xr-has-index'>time</span>: 5</li></ul></div><div class='xr-section-details'></div></li><li class='xr-section-item'><input id='section-4323e3a7-ba49-4c77-9e09-ea33e77eb254' class='xr-section-summary-in' type='checkbox'  checked><label for='section-4323e3a7-ba49-4c77-9e09-ea33e77eb254' class='xr-section-summary' >Coordinates: <span>(4)</span></label><div class='xr-section-inline-details'></div><div class='xr-section-details'><ul class='xr-var-list'><li class='xr-var-item'><div class='xr-var-name'><span class='xr-has-index'>longitude</span></div><div class='xr-var-dims'>(longitude)</div><div class='xr-var-dtype'>float32</div><div class='xr-var-preview xr-preview'>100.0 101.0 102.0 ... 239.0 240.0</div><input id='attrs-cfdb15d5-8346-4beb-87d4-567712e3916c' class='xr-var-attrs-in' type='checkbox' ><label for='attrs-cfdb15d5-8346-4beb-87d4-567712e3916c' title='Show/Hide attributes'><svg class='icon xr-icon-file-text2'><use xlink:href='#icon-file-text2'></use></svg></label><input id='data-f758a561-bc5f-4309-b065-cce13c66452a' class='xr-var-data-in' type='checkbox'><label for='data-f758a561-bc5f-4309-b065-cce13c66452a' title='Show/Hide data repr'><svg class='icon xr-icon-database'><use xlink:href='#icon-database'></use></svg></label><div class='xr-var-attrs'><dl class='xr-attrs'><dt><span>units :</span></dt><dd>degrees_east</dd><dt><span>long_name :</span></dt><dd>longitude</dd></dl></div><div class='xr-var-data'><pre>array([100., 101., 102., 103., 104., 105., 106., 107., 108., 109., 110., 111.,\n",
       "       112., 113., 114., 115., 116., 117., 118., 119., 120., 121., 122., 123.,\n",
       "       124., 125., 126., 127., 128., 129., 130., 131., 132., 133., 134., 135.,\n",
       "       136., 137., 138., 139., 140., 141., 142., 143., 144., 145., 146., 147.,\n",
       "       148., 149., 150., 151., 152., 153., 154., 155., 156., 157., 158., 159.,\n",
       "       160., 161., 162., 163., 164., 165., 166., 167., 168., 169., 170., 171.,\n",
       "       172., 173., 174., 175., 176., 177., 178., 179., 180., 181., 182., 183.,\n",
       "       184., 185., 186., 187., 188., 189., 190., 191., 192., 193., 194., 195.,\n",
       "       196., 197., 198., 199., 200., 201., 202., 203., 204., 205., 206., 207.,\n",
       "       208., 209., 210., 211., 212., 213., 214., 215., 216., 217., 218., 219.,\n",
       "       220., 221., 222., 223., 224., 225., 226., 227., 228., 229., 230., 231.,\n",
       "       232., 233., 234., 235., 236., 237., 238., 239., 240.], dtype=float32)</pre></div></li><li class='xr-var-item'><div class='xr-var-name'><span class='xr-has-index'>latitude</span></div><div class='xr-var-dims'>(latitude)</div><div class='xr-var-dtype'>float32</div><div class='xr-var-preview xr-preview'>30.0 29.0 28.0 ... -49.0 -50.0</div><input id='attrs-c8e0dfae-d233-4c9b-9646-1219a27b8198' class='xr-var-attrs-in' type='checkbox' ><label for='attrs-c8e0dfae-d233-4c9b-9646-1219a27b8198' title='Show/Hide attributes'><svg class='icon xr-icon-file-text2'><use xlink:href='#icon-file-text2'></use></svg></label><input id='data-3622f2d7-d8cc-40b0-afe9-f32a2c686534' class='xr-var-data-in' type='checkbox'><label for='data-3622f2d7-d8cc-40b0-afe9-f32a2c686534' title='Show/Hide data repr'><svg class='icon xr-icon-database'><use xlink:href='#icon-database'></use></svg></label><div class='xr-var-attrs'><dl class='xr-attrs'><dt><span>units :</span></dt><dd>degrees_north</dd><dt><span>long_name :</span></dt><dd>latitude</dd></dl></div><div class='xr-var-data'><pre>array([ 30.,  29.,  28.,  27.,  26.,  25.,  24.,  23.,  22.,  21.,  20.,  19.,\n",
       "        18.,  17.,  16.,  15.,  14.,  13.,  12.,  11.,  10.,   9.,   8.,   7.,\n",
       "         6.,   5.,   4.,   3.,   2.,   1.,   0.,  -1.,  -2.,  -3.,  -4.,  -5.,\n",
       "        -6.,  -7.,  -8.,  -9., -10., -11., -12., -13., -14., -15., -16., -17.,\n",
       "       -18., -19., -20., -21., -22., -23., -24., -25., -26., -27., -28., -29.,\n",
       "       -30., -31., -32., -33., -34., -35., -36., -37., -38., -39., -40., -41.,\n",
       "       -42., -43., -44., -45., -46., -47., -48., -49., -50.], dtype=float32)</pre></div></li><li class='xr-var-item'><div class='xr-var-name'><span class='xr-has-index'>number</span></div><div class='xr-var-dims'>(number)</div><div class='xr-var-dtype'>int32</div><div class='xr-var-preview xr-preview'>0 1 2 3 4 5 6 7 8 9</div><input id='attrs-3ee33681-0f2d-42cb-84a7-32b3521a23b5' class='xr-var-attrs-in' type='checkbox' ><label for='attrs-3ee33681-0f2d-42cb-84a7-32b3521a23b5' title='Show/Hide attributes'><svg class='icon xr-icon-file-text2'><use xlink:href='#icon-file-text2'></use></svg></label><input id='data-cc89266b-d718-4217-9e98-d0a641292687' class='xr-var-data-in' type='checkbox'><label for='data-cc89266b-d718-4217-9e98-d0a641292687' title='Show/Hide data repr'><svg class='icon xr-icon-database'><use xlink:href='#icon-database'></use></svg></label><div class='xr-var-attrs'><dl class='xr-attrs'><dt><span>long_name :</span></dt><dd>ensemble_member</dd></dl></div><div class='xr-var-data'><pre>array([0, 1, 2, 3, 4, 5, 6, 7, 8, 9], dtype=int32)</pre></div></li><li class='xr-var-item'><div class='xr-var-name'><span class='xr-has-index'>time</span></div><div class='xr-var-dims'>(time)</div><div class='xr-var-dtype'>datetime64[ns]</div><div class='xr-var-preview xr-preview'>2022-04-01 ... 2022-08-01</div><input id='attrs-86686969-bb03-42df-89d3-8f21934add85' class='xr-var-attrs-in' type='checkbox' ><label for='attrs-86686969-bb03-42df-89d3-8f21934add85' title='Show/Hide attributes'><svg class='icon xr-icon-file-text2'><use xlink:href='#icon-file-text2'></use></svg></label><input id='data-682e73c0-f47c-4f12-ad94-f3154070dcd2' class='xr-var-data-in' type='checkbox'><label for='data-682e73c0-f47c-4f12-ad94-f3154070dcd2' title='Show/Hide data repr'><svg class='icon xr-icon-database'><use xlink:href='#icon-database'></use></svg></label><div class='xr-var-attrs'><dl class='xr-attrs'><dt><span>long_name :</span></dt><dd>time</dd></dl></div><div class='xr-var-data'><pre>array([&#x27;2022-04-01T00:00:00.000000000&#x27;, &#x27;2022-05-01T00:00:00.000000000&#x27;,\n",
       "       &#x27;2022-06-01T00:00:00.000000000&#x27;, &#x27;2022-07-01T00:00:00.000000000&#x27;,\n",
       "       &#x27;2022-08-01T00:00:00.000000000&#x27;], dtype=&#x27;datetime64[ns]&#x27;)</pre></div></li></ul></div></li><li class='xr-section-item'><input id='section-89753abd-c343-45b8-a96f-4e0b0b3b36c6' class='xr-section-summary-in' type='checkbox'  checked><label for='section-89753abd-c343-45b8-a96f-4e0b0b3b36c6' class='xr-section-summary' >Data variables: <span>(1)</span></label><div class='xr-section-inline-details'></div><div class='xr-section-details'><ul class='xr-var-list'><li class='xr-var-item'><div class='xr-var-name'><span>tprate</span></div><div class='xr-var-dims'>(time, number, latitude, longitude)</div><div class='xr-var-dtype'>float32</div><div class='xr-var-preview xr-preview'>...</div><input id='attrs-99b0ef73-cfe2-462f-8ee0-cb7d8d186b7c' class='xr-var-attrs-in' type='checkbox' ><label for='attrs-99b0ef73-cfe2-462f-8ee0-cb7d8d186b7c' title='Show/Hide attributes'><svg class='icon xr-icon-file-text2'><use xlink:href='#icon-file-text2'></use></svg></label><input id='data-9d443ac8-d9e8-45ef-a99f-6b9d84bd85bc' class='xr-var-data-in' type='checkbox'><label for='data-9d443ac8-d9e8-45ef-a99f-6b9d84bd85bc' title='Show/Hide data repr'><svg class='icon xr-icon-database'><use xlink:href='#icon-database'></use></svg></label><div class='xr-var-attrs'><dl class='xr-attrs'><dt><span>units :</span></dt><dd>m s**-1</dd><dt><span>long_name :</span></dt><dd>Mean total precipitation rate</dd></dl></div><div class='xr-var-data'><pre>[571050 values with dtype=float32]</pre></div></li></ul></div></li><li class='xr-section-item'><input id='section-97b30137-49b8-4b8f-aef7-8b75be9f1b75' class='xr-section-summary-in' type='checkbox'  checked><label for='section-97b30137-49b8-4b8f-aef7-8b75be9f1b75' class='xr-section-summary' >Attributes: <span>(2)</span></label><div class='xr-section-inline-details'></div><div class='xr-section-details'><dl class='xr-attrs'><dt><span>Conventions :</span></dt><dd>CF-1.6</dd><dt><span>history :</span></dt><dd>2022-03-14 22:09:25 GMT by grib_to_netcdf-2.24.2: /opt/ecmwf/mars-client/bin/grib_to_netcdf -S param -o /cache/data6/adaptor.mars.external-1647295765.4957986-9040-25-137a7d41-985e-419f-bd57-54e85e72122f.nc /cache/tmp/137a7d41-985e-419f-bd57-54e85e72122f-adaptor.mars.external-1647295764.2067733-9040-14-tmp.grib</dd></dl></div></li></ul></div></div>"
      ],
      "text/plain": [
       "<xarray.Dataset>\n",
       "Dimensions:    (longitude: 141, latitude: 81, number: 10, time: 5)\n",
       "Coordinates:\n",
       "  * longitude  (longitude) float32 100.0 101.0 102.0 103.0 ... 238.0 239.0 240.0\n",
       "  * latitude   (latitude) float32 30.0 29.0 28.0 27.0 ... -48.0 -49.0 -50.0\n",
       "  * number     (number) int32 0 1 2 3 4 5 6 7 8 9\n",
       "  * time       (time) datetime64[ns] 2022-04-01 2022-05-01 ... 2022-08-01\n",
       "Data variables:\n",
       "    tprate     (time, number, latitude, longitude) float32 ...\n",
       "Attributes:\n",
       "    Conventions:  CF-1.6\n",
       "    history:      2022-03-14 22:09:25 GMT by grib_to_netcdf-2.24.2: /opt/ecmw..."
      ]
     },
     "execution_count": 22,
     "metadata": {},
     "output_type": "execute_result"
    }
   ],
   "source": [
    "x"
   ]
  },
  {
   "cell_type": "markdown",
   "id": "99bd0cb2-e8bb-4254-916d-3d9c489deba8",
   "metadata": {
    "papermill": {
     "duration": 0.0557,
     "end_time": "2022-03-16T00:56:04.276144",
     "exception": false,
     "start_time": "2022-03-16T00:56:04.220444",
     "status": "completed"
    },
    "tags": []
   },
   "source": [
    "#### preprocess (harmonize the variable names, sort the latitudes, etc )"
   ]
  },
  {
   "cell_type": "code",
   "execution_count": 23,
   "id": "d40215d9-ee0e-41e0-b902-52a020185255",
   "metadata": {
    "execution": {
     "iopub.execute_input": "2022-03-16T00:56:04.330383Z",
     "iopub.status.busy": "2022-03-16T00:56:04.330062Z",
     "iopub.status.idle": "2022-03-16T00:56:04.360955Z",
     "shell.execute_reply": "2022-03-16T00:56:04.360613Z"
    },
    "papermill": {
     "duration": 0.058276,
     "end_time": "2022-03-16T00:56:04.361034",
     "exception": false,
     "start_time": "2022-03-16T00:56:04.302758",
     "status": "completed"
    },
    "tags": []
   },
   "outputs": [],
   "source": [
    "x = C3S.preprocess_GCM(x)"
   ]
  },
  {
   "cell_type": "markdown",
   "id": "d23388b4-1b3c-4f3d-8ea7-1229f3101990",
   "metadata": {
    "papermill": {
     "duration": 0.02591,
     "end_time": "2022-03-16T00:56:04.413343",
     "exception": false,
     "start_time": "2022-03-16T00:56:04.387433",
     "status": "completed"
    },
    "tags": []
   },
   "source": [
    "#### convert from mm/day to mm/month"
   ]
  },
  {
   "cell_type": "code",
   "execution_count": 24,
   "id": "e7025cd0-cfd7-49c9-b802-24b90818e187",
   "metadata": {
    "execution": {
     "iopub.execute_input": "2022-03-16T00:56:04.467326Z",
     "iopub.status.busy": "2022-03-16T00:56:04.467003Z",
     "iopub.status.idle": "2022-03-16T00:56:04.492142Z",
     "shell.execute_reply": "2022-03-16T00:56:04.492402Z"
    },
    "papermill": {
     "duration": 0.053454,
     "end_time": "2022-03-16T00:56:04.492494",
     "exception": false,
     "start_time": "2022-03-16T00:56:04.439040",
     "status": "completed"
    },
    "tags": []
   },
   "outputs": [
    {
     "name": "stdout",
     "output_type": "stream",
     "text": [
      "\n",
      "unit is m s**-1, converting to mm/day\n",
      "\n",
      "now converting to mm/month, converted precipitation will be held in var = precip\n"
     ]
    }
   ],
   "source": [
    "if varname == 'tprate': \n",
    "\n",
    "    varin = 'tprate'\n",
    "\n",
    "    varout = 'precip'\n",
    "\n",
    "    x = C3S.convert_rainfall(x, varin=varin, varout=varout, leadvar='step', timevar='time', dropvar=True)\n",
    "\n",
    "else: \n",
    "\n",
    "    varout = varname\n"
   ]
  },
  {
   "cell_type": "markdown",
   "id": "aaa2589a-c347-438d-b1a9-408690d110c4",
   "metadata": {
    "papermill": {
     "duration": 0.026074,
     "end_time": "2022-03-16T00:56:04.545019",
     "exception": false,
     "start_time": "2022-03-16T00:56:04.518945",
     "status": "completed"
    },
    "tags": []
   },
   "source": [
    "#### just in case, remove potential missing fields (members)"
   ]
  },
  {
   "cell_type": "code",
   "execution_count": 25,
   "id": "61a6c04f-263f-4614-808b-f160db7c33aa",
   "metadata": {
    "execution": {
     "iopub.execute_input": "2022-03-16T00:56:04.599178Z",
     "iopub.status.busy": "2022-03-16T00:56:04.598860Z",
     "iopub.status.idle": "2022-03-16T00:56:04.617814Z",
     "shell.execute_reply": "2022-03-16T00:56:04.617456Z"
    },
    "papermill": {
     "duration": 0.046872,
     "end_time": "2022-03-16T00:56:04.617897",
     "exception": false,
     "start_time": "2022-03-16T00:56:04.571025",
     "status": "completed"
    },
    "tags": []
   },
   "outputs": [],
   "source": [
    "x = x.dropna(dim='member')"
   ]
  },
  {
   "cell_type": "markdown",
   "id": "23ef579b-0e8a-45d0-9436-c262188c802d",
   "metadata": {
    "papermill": {
     "duration": 0.025757,
     "end_time": "2022-03-16T00:56:04.669185",
     "exception": false,
     "start_time": "2022-03-16T00:56:04.643428",
     "status": "completed"
    },
    "tags": []
   },
   "source": [
    "#### make sure we have the same domain for the climatologies and the latest forecasts"
   ]
  },
  {
   "cell_type": "code",
   "execution_count": 26,
   "id": "4f389528-b473-40cc-ad72-55f74db8c1e8",
   "metadata": {
    "execution": {
     "iopub.execute_input": "2022-03-16T00:56:04.722748Z",
     "iopub.status.busy": "2022-03-16T00:56:04.722395Z",
     "iopub.status.idle": "2022-03-16T00:56:04.740257Z",
     "shell.execute_reply": "2022-03-16T00:56:04.739966Z"
    },
    "papermill": {
     "duration": 0.045658,
     "end_time": "2022-03-16T00:56:04.740334",
     "exception": false,
     "start_time": "2022-03-16T00:56:04.694676",
     "status": "completed"
    },
    "tags": []
   },
   "outputs": [],
   "source": [
    "x = domains.extract_domain(x, domain)"
   ]
  },
  {
   "cell_type": "markdown",
   "id": "16af3d1c-87db-4f47-b115-103d9c15ce4f",
   "metadata": {
    "papermill": {
     "duration": 0.025444,
     "end_time": "2022-03-16T00:56:04.791156",
     "exception": false,
     "start_time": "2022-03-16T00:56:04.765712",
     "status": "completed"
    },
    "tags": []
   },
   "source": [
    "#### calculates the seasonal values if period == seasonal"
   ]
  },
  {
   "cell_type": "code",
   "execution_count": 27,
   "id": "b4c4244d-6b9d-4881-b38a-f5125d1207d7",
   "metadata": {
    "execution": {
     "iopub.execute_input": "2022-03-16T00:56:04.847975Z",
     "iopub.status.busy": "2022-03-16T00:56:04.847647Z",
     "iopub.status.idle": "2022-03-16T00:56:04.869897Z",
     "shell.execute_reply": "2022-03-16T00:56:04.870166Z"
    },
    "papermill": {
     "duration": 0.051738,
     "end_time": "2022-03-16T00:56:04.870264",
     "exception": false,
     "start_time": "2022-03-16T00:56:04.818526",
     "status": "completed"
    },
    "tags": []
   },
   "outputs": [
    {
     "name": "stdout",
     "output_type": "stream",
     "text": [
      "Calculating the seasonal (3 months) accumulations or averages\n"
     ]
    }
   ],
   "source": [
    "if period == 'seasonal': \n",
    "\n",
    "    print(\"Calculating the seasonal (3 months) accumulations or averages\")\n",
    "\n",
    "    if varname == 'tprate': \n",
    "\n",
    "        x = x.rolling({'step':3}, min_periods=3, center=False).sum('step') \n",
    "\n",
    "    else: \n",
    "\n",
    "        x = x.rolling({'step':3}, min_periods=3, center=False).mean('step')\n",
    "\n",
    "    # get rid of the 2 first steps, which by definition contain missing values \n",
    "\n",
    "    x = x.sel(step=slice(3, None))"
   ]
  },
  {
   "cell_type": "markdown",
   "id": "41da7159-e135-4cf3-a7af-2341664650b5",
   "metadata": {
    "papermill": {
     "duration": 0.026792,
     "end_time": "2022-03-16T00:56:04.923363",
     "exception": false,
     "start_time": "2022-03-16T00:56:04.896571",
     "status": "completed"
    },
    "tags": []
   },
   "source": [
    "#### checks that the initial month corresponds indeed to what we defined earlier"
   ]
  },
  {
   "cell_type": "code",
   "execution_count": 28,
   "id": "64c74d58-3469-49f1-bc2c-f116b42989da",
   "metadata": {
    "execution": {
     "iopub.execute_input": "2022-03-16T00:56:04.978098Z",
     "iopub.status.busy": "2022-03-16T00:56:04.977605Z",
     "iopub.status.idle": "2022-03-16T00:56:04.995802Z",
     "shell.execute_reply": "2022-03-16T00:56:04.995454Z"
    },
    "papermill": {
     "duration": 0.046901,
     "end_time": "2022-03-16T00:56:04.995880",
     "exception": false,
     "start_time": "2022-03-16T00:56:04.948979",
     "status": "completed"
    },
    "tags": []
   },
   "outputs": [],
   "source": [
    "if (x.time.dt.year != year) or (x.time.dt.month != month): \n",
    "\n",
    "    print(f\"issue with the initial date in the latest forecast, expected {year}-{month}, got {x.time.dt.year}-{x.time.dt.month}\")"
   ]
  },
  {
   "cell_type": "markdown",
   "id": "2f65867b-d46a-4187-a281-777c1c19c67e",
   "metadata": {
    "papermill": {
     "duration": 0.025457,
     "end_time": "2022-03-16T00:56:05.047160",
     "exception": false,
     "start_time": "2022-03-16T00:56:05.021703",
     "status": "completed"
    },
    "tags": []
   },
   "source": [
    "##### Now calculates the tercile category for each member"
   ]
  },
  {
   "cell_type": "code",
   "execution_count": 29,
   "id": "4a81ee30-e6c5-4bde-9e4d-46557c036a75",
   "metadata": {
    "execution": {
     "iopub.execute_input": "2022-03-16T00:56:05.101979Z",
     "iopub.status.busy": "2022-03-16T00:56:05.101459Z",
     "iopub.status.idle": "2022-03-16T00:56:06.854778Z",
     "shell.execute_reply": "2022-03-16T00:56:06.854497Z"
    },
    "papermill": {
     "duration": 1.781718,
     "end_time": "2022-03-16T00:56:06.854861",
     "exception": false,
     "start_time": "2022-03-16T00:56:05.073143",
     "status": "completed"
    },
    "tags": []
   },
   "outputs": [],
   "source": [
    "terciles_category = C3S.get_GCM_category_digitize(x, tercile_climatology.squeeze(), varname=varout, dim='quantile')"
   ]
  },
  {
   "cell_type": "markdown",
   "id": "5bc0adad-c46d-4caa-91da-06d4147e556c",
   "metadata": {
    "papermill": {
     "duration": 0.041098,
     "end_time": "2022-03-16T00:56:06.921677",
     "exception": false,
     "start_time": "2022-03-16T00:56:06.880579",
     "status": "completed"
    },
    "tags": []
   },
   "source": [
    "##### and calculate the proportion of member in each category"
   ]
  },
  {
   "cell_type": "code",
   "execution_count": 30,
   "id": "425d341a-1086-4c61-9201-bfa090c18e88",
   "metadata": {
    "execution": {
     "iopub.execute_input": "2022-03-16T00:56:06.975706Z",
     "iopub.status.busy": "2022-03-16T00:56:06.975380Z",
     "iopub.status.idle": "2022-03-16T00:56:07.005785Z",
     "shell.execute_reply": "2022-03-16T00:56:07.005421Z"
    },
    "papermill": {
     "duration": 0.05843,
     "end_time": "2022-03-16T00:56:07.005871",
     "exception": false,
     "start_time": "2022-03-16T00:56:06.947441",
     "status": "completed"
    },
    "tags": []
   },
   "outputs": [],
   "source": [
    "terciles_category_percent = C3S.calculate_quantiles_probabilities(terciles_category, ncategories=3)"
   ]
  },
  {
   "cell_type": "markdown",
   "id": "8f7e2f7a-2475-4b47-ae78-bd408d01393c",
   "metadata": {
    "papermill": {
     "duration": 0.025872,
     "end_time": "2022-03-16T00:56:07.060057",
     "exception": false,
     "start_time": "2022-03-16T00:56:07.034185",
     "status": "completed"
    },
    "tags": []
   },
   "source": [
    "##### creates a dummy 'GCM' dimension"
   ]
  },
  {
   "cell_type": "code",
   "execution_count": 31,
   "id": "09bb5fb9-9551-4916-8d79-16bd8b706a2f",
   "metadata": {
    "execution": {
     "iopub.execute_input": "2022-03-16T00:56:07.114154Z",
     "iopub.status.busy": "2022-03-16T00:56:07.113825Z",
     "iopub.status.idle": "2022-03-16T00:56:07.131135Z",
     "shell.execute_reply": "2022-03-16T00:56:07.130825Z"
    },
    "papermill": {
     "duration": 0.04544,
     "end_time": "2022-03-16T00:56:07.131214",
     "exception": false,
     "start_time": "2022-03-16T00:56:07.085774",
     "status": "completed"
    },
    "tags": []
   },
   "outputs": [],
   "source": [
    "terciles_category_percent = terciles_category_percent.expand_dims(dim={'GCM':[GCM]}, axis=0) "
   ]
  },
  {
   "cell_type": "markdown",
   "id": "875eebe9-74de-4e57-9231-04034e3b9120",
   "metadata": {
    "papermill": {
     "duration": 0.026058,
     "end_time": "2022-03-16T00:56:07.182647",
     "exception": false,
     "start_time": "2022-03-16T00:56:07.156589",
     "status": "completed"
    },
    "tags": []
   },
   "source": [
    "##### includes the quantile values (i.e. the 'bounds' for the quantile categories) in the dataset"
   ]
  },
  {
   "cell_type": "code",
   "execution_count": 32,
   "id": "b8c42bb1-17bb-4e39-ab5c-08b97afec52d",
   "metadata": {
    "execution": {
     "iopub.execute_input": "2022-03-16T00:56:07.237599Z",
     "iopub.status.busy": "2022-03-16T00:56:07.237208Z",
     "iopub.status.idle": "2022-03-16T00:56:07.253852Z",
     "shell.execute_reply": "2022-03-16T00:56:07.253567Z"
    },
    "papermill": {
     "duration": 0.045277,
     "end_time": "2022-03-16T00:56:07.253935",
     "exception": false,
     "start_time": "2022-03-16T00:56:07.208658",
     "status": "completed"
    },
    "tags": []
   },
   "outputs": [],
   "source": [
    "terciles_category_percent.attrs['pct_values'] = tercile_climatology['quantile'].data"
   ]
  },
  {
   "cell_type": "markdown",
   "id": "198bc50e-6f65-42ff-8001-aaf367f5f690",
   "metadata": {
    "papermill": {
     "duration": 0.026226,
     "end_time": "2022-03-16T00:56:07.306712",
     "exception": false,
     "start_time": "2022-03-16T00:56:07.280486",
     "status": "completed"
    },
    "tags": []
   },
   "source": [
    "##### do the same for quartiles, deciles, percentiles probabilities "
   ]
  },
  {
   "cell_type": "code",
   "execution_count": 33,
   "id": "b10407e5-174b-4077-95db-0243a35bb851",
   "metadata": {
    "execution": {
     "iopub.execute_input": "2022-03-16T00:56:07.362246Z",
     "iopub.status.busy": "2022-03-16T00:56:07.361916Z",
     "iopub.status.idle": "2022-03-16T00:56:09.180892Z",
     "shell.execute_reply": "2022-03-16T00:56:09.180591Z"
    },
    "papermill": {
     "duration": 1.847758,
     "end_time": "2022-03-16T00:56:09.180975",
     "exception": false,
     "start_time": "2022-03-16T00:56:07.333217",
     "status": "completed"
    },
    "tags": []
   },
   "outputs": [],
   "source": [
    "quartiles_category = C3S.get_GCM_category_digitize(x, quartile_climatology.squeeze(), varname=varout, dim='quantile')\n",
    "quartiles_category_percent = C3S.calculate_quantiles_probabilities(quartiles_category, ncategories=4)\n",
    "quartiles_category_percent = quartiles_category_percent.expand_dims(dim={'GCM':[GCM]}, axis=0) \n",
    "quartiles_category_percent.attrs['pct_values'] = quartile_climatology['quantile'].data"
   ]
  },
  {
   "cell_type": "code",
   "execution_count": 34,
   "id": "0fc6a02c-bfef-41c4-b6f7-2e49d9264baa",
   "metadata": {
    "execution": {
     "iopub.execute_input": "2022-03-16T00:56:09.238046Z",
     "iopub.status.busy": "2022-03-16T00:56:09.237713Z",
     "iopub.status.idle": "2022-03-16T00:56:11.037888Z",
     "shell.execute_reply": "2022-03-16T00:56:11.038158Z"
    },
    "papermill": {
     "duration": 1.829727,
     "end_time": "2022-03-16T00:56:11.038264",
     "exception": false,
     "start_time": "2022-03-16T00:56:09.208537",
     "status": "completed"
    },
    "tags": []
   },
   "outputs": [],
   "source": [
    "deciles_category = C3S.get_GCM_category_digitize(x, decile_climatology.squeeze(), varname=varout, dim='quantile')\n",
    "deciles_category_percent = C3S.calculate_quantiles_probabilities(deciles_category, ncategories=10)\n",
    "deciles_category_percent = deciles_category_percent.expand_dims(dim={'GCM':[GCM]}, axis=0) \n",
    "deciles_category_percent.attrs['pct_values'] = decile_climatology['quantile'].data"
   ]
  },
  {
   "cell_type": "code",
   "execution_count": 35,
   "id": "c0f8c309-5b8a-4897-a60e-1abd25c0e726",
   "metadata": {
    "execution": {
     "iopub.execute_input": "2022-03-16T00:56:11.093879Z",
     "iopub.status.busy": "2022-03-16T00:56:11.093543Z",
     "iopub.status.idle": "2022-03-16T00:56:12.937398Z",
     "shell.execute_reply": "2022-03-16T00:56:12.937035Z"
    },
    "papermill": {
     "duration": 1.872757,
     "end_time": "2022-03-16T00:56:12.937489",
     "exception": false,
     "start_time": "2022-03-16T00:56:11.064732",
     "status": "completed"
    },
    "tags": []
   },
   "outputs": [],
   "source": [
    "percentiles_category = C3S.get_GCM_category_digitize(x, percentile_climatology.squeeze(), varname=varout, dim='quantile')\n",
    "percentiles_category_percent = C3S.calculate_quantiles_probabilities(percentiles_category, ncategories=21)\n",
    "percentiles_category_percent = percentiles_category_percent.expand_dims(dim={'GCM':[GCM]}, axis=0) \n",
    "percentiles_category_percent.attrs['pct_values'] = percentile_climatology['quantile'].data"
   ]
  },
  {
   "cell_type": "markdown",
   "id": "f0383b23-642d-4fa7-8819-b03580371fda",
   "metadata": {
    "papermill": {
     "duration": 0.026428,
     "end_time": "2022-03-16T00:56:12.990477",
     "exception": false,
     "start_time": "2022-03-16T00:56:12.964049",
     "status": "completed"
    },
    "tags": []
   },
   "source": [
    "### saves to disk "
   ]
  },
  {
   "cell_type": "code",
   "execution_count": 36,
   "id": "9598bfd2-2a29-4ea4-b51e-c9c8a1646cf0",
   "metadata": {
    "execution": {
     "iopub.execute_input": "2022-03-16T00:56:13.047327Z",
     "iopub.status.busy": "2022-03-16T00:56:13.047004Z",
     "iopub.status.idle": "2022-03-16T00:56:13.063347Z",
     "shell.execute_reply": "2022-03-16T00:56:13.063005Z"
    },
    "papermill": {
     "duration": 0.045618,
     "end_time": "2022-03-16T00:56:13.063425",
     "exception": false,
     "start_time": "2022-03-16T00:56:13.017807",
     "status": "completed"
    },
    "tags": []
   },
   "outputs": [
    {
     "name": "stdout",
     "output_type": "stream",
     "text": [
      "saving the quantile probabilities in the folder /home/nicolasf/operational/ICU/development/hotspots/code/ICU_Water_Watch/outputs/C3S\n"
     ]
    }
   ],
   "source": [
    "print(f\"saving the quantile probabilities in the folder {str(outputs_path)}\")"
   ]
  },
  {
   "cell_type": "code",
   "execution_count": 37,
   "id": "8736460e-3331-48fc-8cc2-cc436fd31129",
   "metadata": {
    "execution": {
     "iopub.execute_input": "2022-03-16T00:56:13.118809Z",
     "iopub.status.busy": "2022-03-16T00:56:13.118431Z",
     "iopub.status.idle": "2022-03-16T00:56:13.171679Z",
     "shell.execute_reply": "2022-03-16T00:56:13.171349Z"
    },
    "papermill": {
     "duration": 0.082277,
     "end_time": "2022-03-16T00:56:13.171756",
     "exception": false,
     "start_time": "2022-03-16T00:56:13.089479",
     "status": "completed"
    },
    "tags": []
   },
   "outputs": [
    {
     "name": "stdout",
     "output_type": "stream",
     "text": [
      "\n",
      "ECCC_GEM_NEMO tprate seasonal forecasts from 2022-03 processed and saved in /home/nicolasf/operational/ICU/development/hotspots/code/ICU_Water_Watch/outputs/C3S...\n",
      "\n"
     ]
    }
   ],
   "source": [
    "terciles_category_percent.to_netcdf(outputs_path.joinpath(f\"{period}_{varname}_terciles_probabilities_from_{date:%Y-%m}_{GCM}.netcdf\")) \n",
    "\n",
    "quartiles_category_percent.to_netcdf(outputs_path.joinpath(f\"{period}_{varname}_quartiles_probabilities_from_{date:%Y-%m}_{GCM}.netcdf\")) \n",
    "\n",
    "deciles_category_percent.to_netcdf(outputs_path.joinpath(f\"{period}_{varname}_deciles_probabilities_from_{date:%Y-%m}_{GCM}.netcdf\")) \n",
    "\n",
    "percentiles_category_percent.to_netcdf(outputs_path.joinpath(f\"{period}_{varname}_percentiles_probabilities_from_{date:%Y-%m}_{GCM}.netcdf\")) \n",
    "\n",
    "print(f\"\\n{GCM} {varname} {period} forecasts from {year}-{str(month).zfill(2)} processed and saved in {str(outputs_path)}...\\n\")\n"
   ]
  }
 ],
 "metadata": {
  "kernelspec": {
   "display_name": "Python 3 (ipykernel)",
   "language": "python",
   "name": "python3"
  },
  "language_info": {
   "codemirror_mode": {
    "name": "ipython",
    "version": 3
   },
   "file_extension": ".py",
   "mimetype": "text/x-python",
   "name": "python",
   "nbconvert_exporter": "python",
   "pygments_lexer": "ipython3",
   "version": "3.9.10"
  },
  "papermill": {
   "default_parameters": {},
   "duration": 26.76742,
   "end_time": "2022-03-16T00:56:13.818425",
   "environment_variables": {},
   "exception": null,
   "input_path": "4_calculate_C3S_MME_forecast_probabilities.ipynb",
   "output_path": "4_calculate_C3S_MME_forecast_probabilities.ipynb",
   "parameters": {
    "GCM": "ECCC_GEM_NEMO",
    "period": "seasonal"
   },
   "start_time": "2022-03-16T00:55:47.051005",
   "version": "2.3.4"
  }
 },
 "nbformat": 4,
 "nbformat_minor": 5
}
