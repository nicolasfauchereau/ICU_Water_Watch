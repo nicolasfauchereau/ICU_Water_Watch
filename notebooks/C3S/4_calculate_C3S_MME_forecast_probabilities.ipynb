{
 "cells": [
  {
   "cell_type": "markdown",
   "id": "3880d8eb-ca66-48bb-8d73-e4143d0aaa36",
   "metadata": {},
   "source": [
    "## calculate the probabilities for terciles, deciles and percentiles (0.02 then 0.05 to 0.95) categories for a 'realtime' forecast, with respect to the lead-time dependent monthly and seasonal hindcast climatologies, for each of the 8 C3S GCMs (ECMWF, UKMO, METEO-FRANCE, DWD, CMCC, NCEP, JMA and ECCC)"
   ]
  },
  {
   "cell_type": "markdown",
   "id": "046911ae-c3de-4e6e-8917-d48f12cf0ecf",
   "metadata": {},
   "source": [
    "This notebook:   \n",
    "    \n",
    "1) reads the latest forecasts from the C3S MME [ECMWF, UKMO, METEO-FRANCE, DWD, CMCC, NCEP, JMA and ECCC]  \n",
    "2) preprocesses, converts to monthly / seasonal rainfall accumulations   \n",
    "3) reads the leadtime-dependent terciles, deciles and percentiles (0.02 then 0.05 to 0.95) climatologies corresponding to the initial month of the forecast  \n",
    "4) calculate the probabilities for each quantile category as the proportion of the GCM's ensemble members  \n",
    "5) saves to disk these probabilities for later use and mapping   "
   ]
  },
  {
   "cell_type": "code",
   "execution_count": 1,
   "id": "39906a50-30ee-4f07-bbff-6eb4831da534",
   "metadata": {},
   "outputs": [],
   "source": [
    "%load_ext autoreload\n",
    "%autoreload 2"
   ]
  },
  {
   "cell_type": "code",
   "execution_count": 2,
   "id": "35f76d2f-14b2-44b4-98f2-7e3edeaeecf7",
   "metadata": {},
   "outputs": [],
   "source": [
    "### os \n",
    "import os \n",
    "import sys\n",
    "\n",
    "### datetimes \n",
    "from datetime import datetime, timedelta\n",
    "from dateutil.relativedelta import relativedelta\n",
    "from calendar import month_name\n",
    "\n",
    "### scipy \n",
    "import numpy as np \n",
    "import pandas as pd\n",
    "import xarray as xr"
   ]
  },
  {
   "cell_type": "code",
   "execution_count": 3,
   "id": "6267b8b0-2ea5-49da-be46-c35ae2e9e4ec",
   "metadata": {},
   "outputs": [],
   "source": [
    "import pathlib\n",
    "HOME = pathlib.Path.home()\n",
    "CWD = pathlib.Path.cwd() "
   ]
  },
  {
   "cell_type": "markdown",
   "id": "4908616d-93e1-4e2e-a799-8a3c6c69dc6d",
   "metadata": {},
   "source": [
    "### import local functions for the processing of the C3S forecasts "
   ]
  },
  {
   "cell_type": "code",
   "execution_count": 4,
   "id": "3face832-c495-4625-b989-f4fccd48f686",
   "metadata": {},
   "outputs": [],
   "source": [
    "sys.path.append('../..')"
   ]
  },
  {
   "cell_type": "code",
   "execution_count": 5,
   "id": "2c91d66f-1362-4c78-9e5d-219b294ac5a9",
   "metadata": {},
   "outputs": [
    {
     "name": "stderr",
     "output_type": "stream",
     "text": [
      "/home/nicolasf/mambaforge/envs/ICU_ops/lib/python3.9/site-packages/statsmodels/compat/pandas.py:65: FutureWarning: pandas.Int64Index is deprecated and will be removed from pandas in a future version. Use pandas.Index with the appropriate dtype instead.\n",
      "  from pandas import Int64Index as NumericIndex\n"
     ]
    }
   ],
   "source": [
    "from ICU_Water_Watch import C3S, domains"
   ]
  },
  {
   "cell_type": "markdown",
   "id": "b683905e-dc6b-4bfd-8447-ea296a739ab5",
   "metadata": {},
   "source": [
    "### parameters for papermill "
   ]
  },
  {
   "cell_type": "code",
   "execution_count": 6,
   "id": "86444799-6043-41c9-894a-c466d6260b49",
   "metadata": {},
   "outputs": [],
   "source": [
    "provider = 'CDS' # should not change\n",
    "list_GCMs = ['ECMWF','UKMO','METEO_FRANCE','CMCC','DWD', 'NCEP', 'JMA', 'ECCC_CanCM4i', 'ECCC_GEM_NEMO']\n",
    "varname = 'tprate' # should not change\n",
    "period = 'seasonal' # valid values: 'seasonal or 'monthly'\n",
    "# if one wants to process older forecasts \n",
    "lag = 0\n",
    "# path where to find the hindcasts and forecasts \n",
    "gcm_path = f'/media/nicolasf/END19101/ICU/data/{provider}/operational'\n",
    "outputs_path = '/home/nicolasf/operational/ICU/development/hotspots/code/ICU_Water_Watch/outputs/C3S'"
   ]
  },
  {
   "cell_type": "code",
   "execution_count": 7,
   "id": "7472b63f-471f-4214-b4f9-afbbde88e807",
   "metadata": {},
   "outputs": [],
   "source": [
    "gcm_path = pathlib.Path(gcm_path)\n",
    "outputs_path = pathlib.Path(outputs_path)"
   ]
  },
  {
   "cell_type": "markdown",
   "id": "0c0bed97-7d1b-466b-9428-5774c9e62a75",
   "metadata": {},
   "source": [
    "### create the outputs path if it doesnt exist "
   ]
  },
  {
   "cell_type": "code",
   "execution_count": 8,
   "id": "9f8212d4-c611-48d6-8be7-fc67faf9d621",
   "metadata": {},
   "outputs": [],
   "source": [
    "if not(outputs_path).exists(): \n",
    "    outputs_path.mkdir(parents=True)"
   ]
  },
  {
   "cell_type": "markdown",
   "id": "4b6e5e18-324e-414b-bf36-6b9a74984413",
   "metadata": {},
   "source": [
    "### domain for extraction "
   ]
  },
  {
   "cell_type": "code",
   "execution_count": 9,
   "id": "c0ad3fb4-a2f3-4d4b-ae78-f8f87e634449",
   "metadata": {},
   "outputs": [],
   "source": [
    "domain = domains.domains['C3S_download']"
   ]
  },
  {
   "cell_type": "markdown",
   "id": "567333ca-4646-4274-8fc9-f7c2c1e7b2b6",
   "metadata": {},
   "source": [
    "### get today's date "
   ]
  },
  {
   "cell_type": "code",
   "execution_count": 10,
   "id": "f435ed08-b3fd-4632-9f9e-5a656a504eb6",
   "metadata": {},
   "outputs": [],
   "source": [
    "date = datetime.utcnow()"
   ]
  },
  {
   "cell_type": "markdown",
   "id": "8209293b-3222-49dc-86b5-6eecf058396e",
   "metadata": {},
   "source": [
    "### apply lag "
   ]
  },
  {
   "cell_type": "code",
   "execution_count": 11,
   "id": "bdbdb36f-d620-4e82-b872-0771e2a6ee0d",
   "metadata": {},
   "outputs": [],
   "source": [
    "date = date - relativedelta(months=lag)"
   ]
  },
  {
   "cell_type": "code",
   "execution_count": 12,
   "id": "30dc799d-8eb6-4b17-a3fe-a6f05dc15121",
   "metadata": {},
   "outputs": [
    {
     "name": "stdout",
     "output_type": "stream",
     "text": [
      "will process forecasts issued in March 2022\n"
     ]
    }
   ],
   "source": [
    "print(f\"will process forecasts issued in {date:%B %Y}\")"
   ]
  },
  {
   "cell_type": "markdown",
   "id": "4413f04d-c7d1-4d58-b7df-e4cc5cf32185",
   "metadata": {},
   "source": [
    "### path to the GCMs **hindcast datasets** and **climatologies** "
   ]
  },
  {
   "cell_type": "code",
   "execution_count": 13,
   "id": "2e4526aa-da84-43fb-8de2-cb745c042725",
   "metadata": {},
   "outputs": [],
   "source": [
    "hindcasts_path = gcm_path.joinpath('hindcasts')"
   ]
  },
  {
   "cell_type": "markdown",
   "id": "753a86c1-5ec9-497e-a384-0edb2715cb3a",
   "metadata": {},
   "source": [
    "### path to where the **realtime forecasts** have been downloaded "
   ]
  },
  {
   "cell_type": "code",
   "execution_count": 14,
   "id": "f54dfd83-d645-4148-b769-ab9248cb53de",
   "metadata": {},
   "outputs": [],
   "source": [
    "forecasts_path = gcm_path.joinpath('forecasts')"
   ]
  },
  {
   "cell_type": "markdown",
   "id": "f6d7810c-ed9b-4c22-b09c-818793fba490",
   "metadata": {},
   "source": [
    "### get year and month "
   ]
  },
  {
   "cell_type": "code",
   "execution_count": 15,
   "id": "e42ecc20-377f-43bf-8534-5a841cd625bd",
   "metadata": {},
   "outputs": [],
   "source": [
    "year, month =  date.year, date.month"
   ]
  },
  {
   "cell_type": "markdown",
   "id": "38acab05-6c0c-4728-839a-a7a88b8e6e01",
   "metadata": {},
   "source": [
    "### loop over the GCMs here"
   ]
  },
  {
   "cell_type": "code",
   "execution_count": null,
   "id": "4978e38a-c280-4b62-9536-e8f947e9cee2",
   "metadata": {},
   "outputs": [
    {
     "name": "stdout",
     "output_type": "stream",
     "text": [
      "--------------------------------------------------\n",
      "Reading tprate forecasts issued 2022-03 for GCM ECMWF\n",
      "\n",
      "unit is m s**-1, converting to mm/day\n",
      "\n",
      "now converting to mm/month, converted precipitation will be held in var = precip\n",
      "saving the quantile probabilities in the folder /home/nicolasf/operational/ICU/development/hotspots/code/ICU_Water_Watch/outputs/C3S\n",
      "\n",
      "ECMWF tprate monthly forecasts from 2022-03 processed and saved in /home/nicolasf/operational/ICU/development/hotspots/code/ICU_Water_Watch/outputs/C3S...\n",
      "\n",
      "--------------------------------------------------\n",
      "Reading tprate forecasts issued 2022-03 for GCM UKMO\n",
      "\n",
      "unit is m s**-1, converting to mm/day\n",
      "\n",
      "now converting to mm/month, converted precipitation will be held in var = precip\n",
      "saving the quantile probabilities in the folder /home/nicolasf/operational/ICU/development/hotspots/code/ICU_Water_Watch/outputs/C3S\n",
      "\n",
      "UKMO tprate monthly forecasts from 2022-03 processed and saved in /home/nicolasf/operational/ICU/development/hotspots/code/ICU_Water_Watch/outputs/C3S...\n",
      "\n",
      "--------------------------------------------------\n",
      "Reading tprate forecasts issued 2022-03 for GCM METEO_FRANCE\n",
      "\n",
      "unit is m s**-1, converting to mm/day\n",
      "\n",
      "now converting to mm/month, converted precipitation will be held in var = precip\n",
      "saving the quantile probabilities in the folder /home/nicolasf/operational/ICU/development/hotspots/code/ICU_Water_Watch/outputs/C3S\n",
      "\n",
      "METEO_FRANCE tprate monthly forecasts from 2022-03 processed and saved in /home/nicolasf/operational/ICU/development/hotspots/code/ICU_Water_Watch/outputs/C3S...\n",
      "\n",
      "--------------------------------------------------\n",
      "Reading tprate forecasts issued 2022-03 for GCM CMCC\n",
      "\n",
      "unit is m s**-1, converting to mm/day\n",
      "\n",
      "now converting to mm/month, converted precipitation will be held in var = precip\n",
      "saving the quantile probabilities in the folder /home/nicolasf/operational/ICU/development/hotspots/code/ICU_Water_Watch/outputs/C3S\n",
      "\n",
      "CMCC tprate monthly forecasts from 2022-03 processed and saved in /home/nicolasf/operational/ICU/development/hotspots/code/ICU_Water_Watch/outputs/C3S...\n",
      "\n",
      "--------------------------------------------------\n",
      "Reading tprate forecasts issued 2022-03 for GCM DWD\n",
      "\n",
      "unit is m s**-1, converting to mm/day\n",
      "\n",
      "now converting to mm/month, converted precipitation will be held in var = precip\n",
      "saving the quantile probabilities in the folder /home/nicolasf/operational/ICU/development/hotspots/code/ICU_Water_Watch/outputs/C3S\n",
      "\n",
      "DWD tprate monthly forecasts from 2022-03 processed and saved in /home/nicolasf/operational/ICU/development/hotspots/code/ICU_Water_Watch/outputs/C3S...\n",
      "\n",
      "--------------------------------------------------\n",
      "Reading tprate forecasts issued 2022-03 for GCM NCEP\n",
      "\n",
      "unit is m s**-1, converting to mm/day\n",
      "\n",
      "now converting to mm/month, converted precipitation will be held in var = precip\n",
      "saving the quantile probabilities in the folder /home/nicolasf/operational/ICU/development/hotspots/code/ICU_Water_Watch/outputs/C3S\n",
      "\n",
      "NCEP tprate monthly forecasts from 2022-03 processed and saved in /home/nicolasf/operational/ICU/development/hotspots/code/ICU_Water_Watch/outputs/C3S...\n",
      "\n",
      "--------------------------------------------------\n",
      "Reading tprate forecasts issued 2022-03 for GCM JMA\n",
      "\n",
      "unit is m s**-1, converting to mm/day\n",
      "\n",
      "now converting to mm/month, converted precipitation will be held in var = precip\n",
      "saving the quantile probabilities in the folder /home/nicolasf/operational/ICU/development/hotspots/code/ICU_Water_Watch/outputs/C3S\n",
      "\n",
      "JMA tprate monthly forecasts from 2022-03 processed and saved in /home/nicolasf/operational/ICU/development/hotspots/code/ICU_Water_Watch/outputs/C3S...\n",
      "\n",
      "--------------------------------------------------\n",
      "Reading tprate forecasts issued 2022-03 for GCM ECCC_CanCM4i\n",
      "\n",
      "unit is m s**-1, converting to mm/day\n",
      "\n",
      "now converting to mm/month, converted precipitation will be held in var = precip\n",
      "saving the quantile probabilities in the folder /home/nicolasf/operational/ICU/development/hotspots/code/ICU_Water_Watch/outputs/C3S\n",
      "\n",
      "ECCC_CanCM4i tprate monthly forecasts from 2022-03 processed and saved in /home/nicolasf/operational/ICU/development/hotspots/code/ICU_Water_Watch/outputs/C3S...\n",
      "\n",
      "--------------------------------------------------\n",
      "Reading tprate forecasts issued 2022-03 for GCM ECCC_GEM_NEMO\n",
      "\n",
      "unit is m s**-1, converting to mm/day\n",
      "\n",
      "now converting to mm/month, converted precipitation will be held in var = precip\n",
      "saving the quantile probabilities in the folder /home/nicolasf/operational/ICU/development/hotspots/code/ICU_Water_Watch/outputs/C3S\n",
      "\n",
      "ECCC_GEM_NEMO tprate monthly forecasts from 2022-03 processed and saved in /home/nicolasf/operational/ICU/development/hotspots/code/ICU_Water_Watch/outputs/C3S...\n",
      "\n",
      "--------------------------------------------------\n",
      "Reading tprate forecasts issued 2022-03 for GCM ECMWF\n",
      "\n",
      "unit is m s**-1, converting to mm/day\n",
      "\n",
      "now converting to mm/month, converted precipitation will be held in var = precip\n",
      "Calculating the seasonal (3 months) accumulations or averages\n",
      "saving the quantile probabilities in the folder /home/nicolasf/operational/ICU/development/hotspots/code/ICU_Water_Watch/outputs/C3S\n",
      "\n",
      "ECMWF tprate seasonal forecasts from 2022-03 processed and saved in /home/nicolasf/operational/ICU/development/hotspots/code/ICU_Water_Watch/outputs/C3S...\n",
      "\n",
      "--------------------------------------------------\n",
      "Reading tprate forecasts issued 2022-03 for GCM UKMO\n",
      "\n",
      "unit is m s**-1, converting to mm/day\n",
      "\n",
      "now converting to mm/month, converted precipitation will be held in var = precip\n",
      "Calculating the seasonal (3 months) accumulations or averages\n",
      "saving the quantile probabilities in the folder /home/nicolasf/operational/ICU/development/hotspots/code/ICU_Water_Watch/outputs/C3S\n",
      "\n",
      "UKMO tprate seasonal forecasts from 2022-03 processed and saved in /home/nicolasf/operational/ICU/development/hotspots/code/ICU_Water_Watch/outputs/C3S...\n",
      "\n",
      "--------------------------------------------------\n",
      "Reading tprate forecasts issued 2022-03 for GCM METEO_FRANCE\n",
      "\n",
      "unit is m s**-1, converting to mm/day\n",
      "\n",
      "now converting to mm/month, converted precipitation will be held in var = precip\n",
      "Calculating the seasonal (3 months) accumulations or averages\n",
      "saving the quantile probabilities in the folder /home/nicolasf/operational/ICU/development/hotspots/code/ICU_Water_Watch/outputs/C3S\n",
      "\n",
      "METEO_FRANCE tprate seasonal forecasts from 2022-03 processed and saved in /home/nicolasf/operational/ICU/development/hotspots/code/ICU_Water_Watch/outputs/C3S...\n",
      "\n",
      "--------------------------------------------------\n",
      "Reading tprate forecasts issued 2022-03 for GCM CMCC\n",
      "\n",
      "unit is m s**-1, converting to mm/day\n",
      "\n",
      "now converting to mm/month, converted precipitation will be held in var = precip\n",
      "Calculating the seasonal (3 months) accumulations or averages\n",
      "saving the quantile probabilities in the folder /home/nicolasf/operational/ICU/development/hotspots/code/ICU_Water_Watch/outputs/C3S\n",
      "\n",
      "CMCC tprate seasonal forecasts from 2022-03 processed and saved in /home/nicolasf/operational/ICU/development/hotspots/code/ICU_Water_Watch/outputs/C3S...\n",
      "\n",
      "--------------------------------------------------\n",
      "Reading tprate forecasts issued 2022-03 for GCM DWD\n",
      "\n",
      "unit is m s**-1, converting to mm/day\n",
      "\n",
      "now converting to mm/month, converted precipitation will be held in var = precip\n",
      "Calculating the seasonal (3 months) accumulations or averages\n",
      "saving the quantile probabilities in the folder /home/nicolasf/operational/ICU/development/hotspots/code/ICU_Water_Watch/outputs/C3S\n",
      "\n",
      "DWD tprate seasonal forecasts from 2022-03 processed and saved in /home/nicolasf/operational/ICU/development/hotspots/code/ICU_Water_Watch/outputs/C3S...\n",
      "\n",
      "--------------------------------------------------\n",
      "Reading tprate forecasts issued 2022-03 for GCM NCEP\n",
      "\n",
      "unit is m s**-1, converting to mm/day\n",
      "\n",
      "now converting to mm/month, converted precipitation will be held in var = precip\n",
      "Calculating the seasonal (3 months) accumulations or averages\n",
      "saving the quantile probabilities in the folder /home/nicolasf/operational/ICU/development/hotspots/code/ICU_Water_Watch/outputs/C3S\n",
      "\n",
      "NCEP tprate seasonal forecasts from 2022-03 processed and saved in /home/nicolasf/operational/ICU/development/hotspots/code/ICU_Water_Watch/outputs/C3S...\n",
      "\n",
      "--------------------------------------------------\n",
      "Reading tprate forecasts issued 2022-03 for GCM JMA\n",
      "\n",
      "unit is m s**-1, converting to mm/day\n",
      "\n",
      "now converting to mm/month, converted precipitation will be held in var = precip\n",
      "Calculating the seasonal (3 months) accumulations or averages\n"
     ]
    }
   ],
   "source": [
    "for period in ['monthly', 'seasonal']: \n",
    "\n",
    "    for GCM in list_GCMs: \n",
    "\n",
    "        ### path to the CLIMATOLOGICAL terciles and deciles, \n",
    "\n",
    "        ### calculated over all the ensembles and month (for each initial month, i.e. leadtime dependent climatology) \n",
    "\n",
    "        # clim_path = gcm_path.joinpath(f'operational/hindcasts/CLIMATOLOGY/{GCM}')\n",
    "\n",
    "        clim_path = hindcasts_path.joinpath(f'CLIMATOLOGY/{GCM}/{varname.upper()}')\n",
    "\n",
    "        tercile_climatology = xr.open_dataset(clim_path.joinpath(f\"{GCM}_{varname}_{period}_tercile_climatology_{str(month).zfill(2)}.netcdf\"), engine='netcdf4')\n",
    "\n",
    "        decile_climatology = xr.open_dataset(clim_path.joinpath(f\"{GCM}_{varname}_{period}_decile_climatology_{str(month).zfill(2)}.netcdf\"), engine='netcdf4')\n",
    "\n",
    "        percentile_climatology = xr.open_dataset(clim_path.joinpath(f\"{GCM}_{varname}_{period}_percentile_climatology_{str(month).zfill(2)}.netcdf\"), engine='netcdf4')\n",
    "\n",
    "        # make sure we have the same domains\n",
    "\n",
    "        tercile_climatology = domains.extract_domain(tercile_climatology, domain)\n",
    "\n",
    "        decile_climatology = domains.extract_domain(decile_climatology, domain)\n",
    "\n",
    "        percentile_climatology = domains.extract_domain(percentile_climatology, domain)\n",
    "\n",
    "        print(f\"{50*'-'}\\nReading {varname} forecasts issued {year}-{str(month).zfill(2)} for GCM {GCM}\")\n",
    "\n",
    "        if 'ECCC' in GCM: \n",
    "\n",
    "            x = xr.open_dataset(forecasts_path.joinpath(f\"{GCM}/{varname.upper()}/ensemble_seas_forecasts_{varname}_from_{year}_{str(month).zfill(2)}_{GCM.split('_')[0]}.netcdf\"), engine='netcdf4')\n",
    "\n",
    "        else: \n",
    "\n",
    "            x = xr.open_dataset(forecasts_path.joinpath(f\"{GCM}/{varname.upper()}/ensemble_seas_forecasts_{varname}_from_{year}_{str(month).zfill(2)}_{GCM}.netcdf\"), engine='netcdf4')\n",
    "\n",
    "        ### preprocess (harmonize the variable names, sort the latitudes, etc )\n",
    "\n",
    "        x = C3S.preprocess_GCM(x)\n",
    "\n",
    "        ### convert from mm/day to mm/month \n",
    "        \n",
    "        if varname == 'tprate': \n",
    "\n",
    "            varin = 'tprate'\n",
    "            \n",
    "            varout = 'precip'\n",
    "            \n",
    "            x = C3S.convert_rainfall(x, varin=varin, varout=varout, leadvar='step', timevar='time', dropvar=True)\n",
    "            \n",
    "        else: \n",
    "            \n",
    "            varout = varname\n",
    "\n",
    "        ### just in case, remove potential missing fields (members)\n",
    "\n",
    "        x = x.dropna(dim='member')\n",
    "\n",
    "        ### make sure we have the same domain for the climatologies and the latest forecasts\n",
    "\n",
    "        x = domains.extract_domain(x, domain)\n",
    "\n",
    "        # calculates the seasonal values if period == seasonal\n",
    "\n",
    "        if period == 'seasonal': \n",
    "\n",
    "            print(\"Calculating the seasonal (3 months) accumulations or averages\")\n",
    "\n",
    "            if varname == 'tprate': \n",
    "            \n",
    "                x = x.rolling({'step':3}, min_periods=3, center=False).sum('step') \n",
    "\n",
    "            else: \n",
    "                \n",
    "                x = x.rolling({'step':3}, min_periods=3, center=False).mean('step')\n",
    "                \n",
    "            # get rid of the 2 first steps, which by definition contain missing values \n",
    "\n",
    "            x = x.sel(step=slice(3, None))\n",
    "\n",
    "        ### checks that the initial month corresponds indeed to what we defined earlier \n",
    "\n",
    "        if (x.time.dt.year != year) or (x.time.dt.month != month): \n",
    "\n",
    "            print(f\"issue with the initial date in the latest forecast, expected {year}-{month}, got {x.time.dt.year}-{x.time.dt.month}\")\n",
    "\n",
    "        ### Now calculates the tercile category for each member\n",
    "\n",
    "        terciles_category = C3S.get_GCM_category_digitize(x, tercile_climatology.squeeze(), varname=varout, dim='quantile')\n",
    "\n",
    "        ### and calculate the proportion of member in each category \n",
    "\n",
    "        terciles_category_percent = C3S.calculate_quantiles_probabilities(terciles_category, ncategories=3)\n",
    "\n",
    "        ### same thing as abobe, for decile categories \n",
    "\n",
    "        deciles_category = C3S.get_GCM_category_digitize(x, decile_climatology.squeeze(), varname=varout, dim='quantile')\n",
    "\n",
    "        deciles_category_percent = C3S.calculate_quantiles_probabilities(deciles_category, ncategories=10)\n",
    "\n",
    "        ### same thing as above for percentile categories \n",
    "\n",
    "        percentiles_category = C3S.get_GCM_category_digitize(x, percentile_climatology.squeeze(), varname=varout, dim='quantile')\n",
    "\n",
    "        percentiles_category_percent = C3S.calculate_quantiles_probabilities(percentiles_category, ncategories=21)\n",
    "\n",
    "        ### creates a dummy 'GCM' dimension, and saves the tercile and decile probabilities to disk \n",
    "\n",
    "        terciles_category_percent = terciles_category_percent.expand_dims(dim={'GCM':[GCM]}, axis=0) \n",
    "\n",
    "        deciles_category_percent = deciles_category_percent.expand_dims(dim={'GCM':[GCM]}, axis=0) \n",
    "\n",
    "        percentiles_category_percent = percentiles_category_percent.expand_dims(dim={'GCM':[GCM]}, axis=0)\n",
    "\n",
    "        # includes the quantile values (i.e. the 'bounds' for the quantile categories) in the dataset \n",
    "\n",
    "        terciles_category_percent.attrs['pct_values'] = tercile_climatology['quantile'].data\n",
    "        deciles_category_percent.attrs['pct_values'] = decile_climatology['quantile'].data\n",
    "        percentiles_category_percent.attrs['pct_values'] = percentile_climatology['quantile'].data\n",
    "\n",
    "        ### saves to disk \n",
    "\n",
    "        print(f\"saving the quantile probabilities in the folder {str(outputs_path)}\")\n",
    "\n",
    "        terciles_category_percent.to_netcdf(outputs_path.joinpath(f\"{period}_{varname}_terciles_probabilities_from_{date:%Y-%m}_{GCM}.netcdf\")) \n",
    "\n",
    "        deciles_category_percent.to_netcdf(outputs_path.joinpath(f\"{period}_{varname}_deciles_probabilities_from_{date:%Y-%m}_{GCM}.netcdf\")) \n",
    "\n",
    "        percentiles_category_percent.to_netcdf(outputs_path.joinpath(f\"{period}_{varname}_percentiles_probabilities_from_{date:%Y-%m}_{GCM}.netcdf\")) \n",
    "\n",
    "        print(f\"\\n{GCM} {varname} {period} forecasts from {year}-{str(month).zfill(2)} processed and saved in {str(outputs_path)}...\\n\")\n"
   ]
  },
  {
   "cell_type": "code",
   "execution_count": null,
   "id": "079c4ed4-4f15-4dfe-9f6e-db4fe80f4dae",
   "metadata": {},
   "outputs": [],
   "source": []
  },
  {
   "cell_type": "code",
   "execution_count": null,
   "id": "3909362c-dffc-4130-95b9-2dfa69e02e5b",
   "metadata": {},
   "outputs": [],
   "source": []
  }
 ],
 "metadata": {
  "kernelspec": {
   "display_name": "Python 3 (ipykernel)",
   "language": "python",
   "name": "python3"
  },
  "language_info": {
   "codemirror_mode": {
    "name": "ipython",
    "version": 3
   },
   "file_extension": ".py",
   "mimetype": "text/x-python",
   "name": "python",
   "nbconvert_exporter": "python",
   "pygments_lexer": "ipython3",
   "version": "3.9.10"
  }
 },
 "nbformat": 4,
 "nbformat_minor": 5
}
