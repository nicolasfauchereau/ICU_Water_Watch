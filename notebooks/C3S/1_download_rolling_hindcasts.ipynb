{
 "cells": [
  {
   "cell_type": "markdown",
   "metadata": {},
   "source": [
    "### download the rolling hindcasts "
   ]
  },
  {
   "cell_type": "code",
   "execution_count": 25,
   "metadata": {},
   "outputs": [
    {
     "name": "stdout",
     "output_type": "stream",
     "text": [
      "The autoreload extension is already loaded. To reload it, use:\n",
      "  %reload_ext autoreload\n"
     ]
    }
   ],
   "source": [
    "%load_ext autoreload\n",
    "%autoreload 2"
   ]
  },
  {
   "cell_type": "code",
   "execution_count": 26,
   "metadata": {
    "papermill": {
     "duration": 0.086706,
     "end_time": "2020-02-06T23:46:40.196481",
     "exception": false,
     "start_time": "2020-02-06T23:46:40.109775",
     "status": "completed"
    },
    "tags": []
   },
   "outputs": [],
   "source": [
    "import sys\n",
    "import pathlib\n",
    "from datetime import datetime\n",
    "from dateutil.relativedelta import relativedelta"
   ]
  },
  {
   "cell_type": "code",
   "execution_count": 27,
   "metadata": {},
   "outputs": [],
   "source": [
    "import numpy as np"
   ]
  },
  {
   "cell_type": "code",
   "execution_count": 28,
   "metadata": {
    "papermill": {
     "duration": 0.012961,
     "end_time": "2020-02-06T23:46:40.218011",
     "exception": false,
     "start_time": "2020-02-06T23:46:40.205050",
     "status": "completed"
    },
    "tags": []
   },
   "outputs": [],
   "source": [
    "HOME = pathlib.Path.home()"
   ]
  },
  {
   "cell_type": "code",
   "execution_count": 29,
   "metadata": {},
   "outputs": [],
   "source": [
    "CWD = pathlib.Path.cwd()"
   ]
  },
  {
   "cell_type": "code",
   "execution_count": 30,
   "metadata": {},
   "outputs": [
    {
     "data": {
      "text/plain": [
       "PosixPath('/home/nicolasf/operational/ICU/development/hotspots/code/ICU_Water_Watch/notebooks/C3S')"
      ]
     },
     "execution_count": 30,
     "metadata": {},
     "output_type": "execute_result"
    }
   ],
   "source": [
    "CWD"
   ]
  },
  {
   "cell_type": "markdown",
   "metadata": {},
   "source": [
    "### import local functions for the downloading of the C3S forecasts "
   ]
  },
  {
   "cell_type": "code",
   "execution_count": 31,
   "metadata": {},
   "outputs": [],
   "source": [
    "sys.path.append('../..')"
   ]
  },
  {
   "cell_type": "code",
   "execution_count": 32,
   "metadata": {},
   "outputs": [],
   "source": [
    "from ICU_Water_Watch import C3S, domains"
   ]
  },
  {
   "cell_type": "markdown",
   "metadata": {},
   "source": [
    "### show the predefined domains "
   ]
  },
  {
   "cell_type": "code",
   "execution_count": 33,
   "metadata": {},
   "outputs": [
    {
     "data": {
      "text/plain": [
       "{'Tropical_Pacific': [140, 220, -25, 25],\n",
       " 'SW_Pacific': [172.5, 190, -22.5, -12],\n",
       " 'Fiji': [175, 183, -21, -15],\n",
       " 'NZ': [161, 181, -50, -30],\n",
       " 'Pacific': [140, 240, -50, 25],\n",
       " 'C3S_download': [140, -120, -50, 30],\n",
       " 'Water_Watch': [120, 240, -38, 22.5]}"
      ]
     },
     "execution_count": 33,
     "metadata": {},
     "output_type": "execute_result"
    }
   ],
   "source": [
    "domains.domains"
   ]
  },
  {
   "cell_type": "markdown",
   "metadata": {},
   "source": [
    "### provider (always CDS for now)"
   ]
  },
  {
   "cell_type": "code",
   "execution_count": 34,
   "metadata": {
    "papermill": {
     "duration": 0.012879,
     "end_time": "2020-02-06T23:46:40.239506",
     "exception": false,
     "start_time": "2020-02-06T23:46:40.226627",
     "status": "completed"
    },
    "tags": []
   },
   "outputs": [],
   "source": [
    "provider = 'CDS'"
   ]
  },
  {
   "cell_type": "markdown",
   "metadata": {},
   "source": [
    "### variable name"
   ]
  },
  {
   "cell_type": "code",
   "execution_count": 35,
   "metadata": {},
   "outputs": [],
   "source": [
    "var_name = 'tprate'"
   ]
  },
  {
   "cell_type": "markdown",
   "metadata": {},
   "source": [
    "### list of GCMs "
   ]
  },
  {
   "cell_type": "code",
   "execution_count": 36,
   "metadata": {},
   "outputs": [],
   "source": [
    "# list_GCMs = ['ECMWF','UKMO','METEO_FRANCE', 'DWD', 'CMCC', 'NCEP', 'JMA', 'ECCC']\n",
    "list_GCMs = ['ECMWF','UKMO','METEO_FRANCE', 'DWD', 'CMCC', 'NCEP']"
   ]
  },
  {
   "cell_type": "markdown",
   "metadata": {},
   "source": [
    "### list of systems "
   ]
  },
  {
   "cell_type": "code",
   "execution_count": 37,
   "metadata": {},
   "outputs": [],
   "source": [
    "list_systems = [5, 600, 7, 21, 35, 2, 2, 2]"
   ]
  },
  {
   "cell_type": "code",
   "execution_count": 38,
   "metadata": {},
   "outputs": [],
   "source": [
    "dict_systems = dict(zip(list_GCMs, list_systems))"
   ]
  },
  {
   "cell_type": "code",
   "execution_count": 39,
   "metadata": {},
   "outputs": [
    {
     "data": {
      "text/plain": [
       "{'ECMWF': 5, 'UKMO': 600, 'METEO_FRANCE': 7, 'DWD': 21, 'CMCC': 35, 'NCEP': 2}"
      ]
     },
     "execution_count": 39,
     "metadata": {},
     "output_type": "execute_result"
    }
   ],
   "source": [
    "dict_systems"
   ]
  },
  {
   "cell_type": "code",
   "execution_count": 40,
   "metadata": {},
   "outputs": [],
   "source": [
    "list_GCMs = ['ECMWF','UKMO','METEO_FRANCE', 'DWD', 'CMCC', 'NCEP']"
   ]
  },
  {
   "cell_type": "markdown",
   "metadata": {},
   "source": [
    "### lag in months (if need to download older forecasts)"
   ]
  },
  {
   "cell_type": "code",
   "execution_count": 41,
   "metadata": {},
   "outputs": [],
   "source": [
    "lag = 0 "
   ]
  },
  {
   "cell_type": "markdown",
   "metadata": {},
   "source": [
    "### get today's date "
   ]
  },
  {
   "cell_type": "code",
   "execution_count": 42,
   "metadata": {},
   "outputs": [],
   "source": [
    "date = datetime.utcnow()"
   ]
  },
  {
   "cell_type": "markdown",
   "metadata": {},
   "source": [
    "### apply lag "
   ]
  },
  {
   "cell_type": "code",
   "execution_count": 43,
   "metadata": {},
   "outputs": [],
   "source": [
    "date = date - relativedelta(months=lag)"
   ]
  },
  {
   "cell_type": "markdown",
   "metadata": {},
   "source": [
    "### generate the dates for the download of the rolling hindcasts "
   ]
  },
  {
   "cell_type": "code",
   "execution_count": 44,
   "metadata": {},
   "outputs": [],
   "source": [
    "dates = [datetime(y, date.month, 1) for y in range(1993, 2016 + 1)]"
   ]
  },
  {
   "cell_type": "code",
   "execution_count": 45,
   "metadata": {},
   "outputs": [
    {
     "data": {
      "text/plain": [
       "[datetime.datetime(1993, 6, 1, 0, 0),\n",
       " datetime.datetime(1994, 6, 1, 0, 0),\n",
       " datetime.datetime(1995, 6, 1, 0, 0),\n",
       " datetime.datetime(1996, 6, 1, 0, 0),\n",
       " datetime.datetime(1997, 6, 1, 0, 0),\n",
       " datetime.datetime(1998, 6, 1, 0, 0),\n",
       " datetime.datetime(1999, 6, 1, 0, 0),\n",
       " datetime.datetime(2000, 6, 1, 0, 0),\n",
       " datetime.datetime(2001, 6, 1, 0, 0),\n",
       " datetime.datetime(2002, 6, 1, 0, 0),\n",
       " datetime.datetime(2003, 6, 1, 0, 0),\n",
       " datetime.datetime(2004, 6, 1, 0, 0),\n",
       " datetime.datetime(2005, 6, 1, 0, 0),\n",
       " datetime.datetime(2006, 6, 1, 0, 0),\n",
       " datetime.datetime(2007, 6, 1, 0, 0),\n",
       " datetime.datetime(2008, 6, 1, 0, 0),\n",
       " datetime.datetime(2009, 6, 1, 0, 0),\n",
       " datetime.datetime(2010, 6, 1, 0, 0),\n",
       " datetime.datetime(2011, 6, 1, 0, 0),\n",
       " datetime.datetime(2012, 6, 1, 0, 0),\n",
       " datetime.datetime(2013, 6, 1, 0, 0),\n",
       " datetime.datetime(2014, 6, 1, 0, 0),\n",
       " datetime.datetime(2015, 6, 1, 0, 0),\n",
       " datetime.datetime(2016, 6, 1, 0, 0)]"
      ]
     },
     "execution_count": 45,
     "metadata": {},
     "output_type": "execute_result"
    }
   ],
   "source": [
    "dates"
   ]
  },
  {
   "cell_type": "markdown",
   "metadata": {},
   "source": [
    "### path to download the realtime forecasts "
   ]
  },
  {
   "cell_type": "code",
   "execution_count": 46,
   "metadata": {},
   "outputs": [],
   "source": [
    "gcm_path = pathlib.Path(f'/media/nicolasf/END19101/ICU/data/{provider}/operational/hindcasts')"
   ]
  },
  {
   "cell_type": "code",
   "execution_count": 47,
   "metadata": {},
   "outputs": [],
   "source": [
    "if not(gcm_path.exists()): \n",
    "    gcm_path.mkdir(parents=True)"
   ]
  },
  {
   "cell_type": "markdown",
   "metadata": {},
   "source": [
    "### Now loops over the list of GCM and downloads, for the parameters provided "
   ]
  },
  {
   "cell_type": "code",
   "execution_count": 48,
   "metadata": {},
   "outputs": [
    {
     "name": "stdout",
     "output_type": "stream",
     "text": [
      "\n",
      "attempting to download tprate for GCM ECMWF, for level surface, year 1993, month 6, in netcdf, attempt 1 of 3\n",
      "\n"
     ]
    },
    {
     "name": "stderr",
     "output_type": "stream",
     "text": [
      "2021-06-14 12:15:47,625 INFO Welcome to the CDS\n",
      "2021-06-14 12:15:47,626 INFO Sending request to https://cds.climate.copernicus.eu/api/v2/resources/seasonal-monthly-single-levels\n",
      "2021-06-14 12:15:47,919 INFO Request is queued\n",
      "2021-06-14 12:20:10,020 INFO Request is completed\n",
      "2021-06-14 12:20:10,021 INFO Downloading https://download-0010.copernicus-climate.eu/cache-compute-0010/cache/data3/adaptor.mars.external-1623629956.0084534-9871-3-428ee94e-4fb0-42bd-9cca-eebe57eb2fbc.nc to /media/nicolasf/END19101/ICU/data/CDS/operational/hindcasts/ECMWF/TPRATE/ensemble_seas_forecasts_tprate_from_1993_06_ECMWF.netcdf (2M)\n",
      "2021-06-14 12:20:18,581 INFO Download rate 233.6K/s \n"
     ]
    },
    {
     "name": "stdout",
     "output_type": "stream",
     "text": [
      "\n",
      "/media/nicolasf/END19101/ICU/data/CDS/operational/hindcasts/ECMWF/TPRATE/ensemble_seas_forecasts_tprate_from_1993_06_ECMWF.netcdf downloaded OK\n",
      "\n",
      "\n",
      "attempting to download tprate for GCM UKMO, for level surface, year 1993, month 6, in netcdf, attempt 1 of 3\n",
      "\n"
     ]
    },
    {
     "name": "stderr",
     "output_type": "stream",
     "text": [
      "2021-06-14 12:20:19,161 INFO Welcome to the CDS\n",
      "2021-06-14 12:20:19,162 INFO Sending request to https://cds.climate.copernicus.eu/api/v2/resources/seasonal-monthly-single-levels\n",
      "2021-06-14 12:20:19,458 INFO Request is queued\n",
      "2021-06-14 12:21:37,010 INFO Request is completed\n",
      "2021-06-14 12:21:37,012 INFO Downloading https://download-0014.copernicus-climate.eu/cache-compute-0014/cache/data0/adaptor.mars.external-1623630081.817287-3778-17-35b046b8-2938-4dc3-a26a-fec900eca046.nc to /media/nicolasf/END19101/ICU/data/CDS/operational/hindcasts/UKMO/TPRATE/ensemble_seas_forecasts_tprate_from_1993_06_UKMO.netcdf (2.2M)\n",
      "2021-06-14 12:21:44,226 INFO Download rate 310.4K/s \n"
     ]
    },
    {
     "name": "stdout",
     "output_type": "stream",
     "text": [
      "\n",
      "/media/nicolasf/END19101/ICU/data/CDS/operational/hindcasts/UKMO/TPRATE/ensemble_seas_forecasts_tprate_from_1993_06_UKMO.netcdf downloaded OK\n",
      "\n",
      "\n",
      "attempting to download tprate for GCM METEO_FRANCE, for level surface, year 1993, month 6, in netcdf, attempt 1 of 3\n",
      "\n"
     ]
    },
    {
     "name": "stderr",
     "output_type": "stream",
     "text": [
      "2021-06-14 12:21:44,808 INFO Welcome to the CDS\n",
      "2021-06-14 12:21:44,809 INFO Sending request to https://cds.climate.copernicus.eu/api/v2/resources/seasonal-monthly-single-levels\n",
      "2021-06-14 12:21:45,103 INFO Request is queued\n",
      "2021-06-14 12:21:54,398 INFO Request is running\n",
      "2021-06-14 12:21:59,753 INFO Request is completed\n",
      "2021-06-14 12:21:59,755 INFO Downloading https://download-0006.copernicus-climate.eu/cache-compute-0006/cache/data4/adaptor.mars.external-1623630113.634501-16493-21-5c05f643-1112-4e84-86f3-9651cdf3bf85.nc to /media/nicolasf/END19101/ICU/data/CDS/operational/hindcasts/METEO_FRANCE/TPRATE/ensemble_seas_forecasts_tprate_from_1993_06_METEO_FRANCE.netcdf (2M)\n",
      "2021-06-14 12:22:07,227 INFO Download rate 267.6K/s \n"
     ]
    },
    {
     "name": "stdout",
     "output_type": "stream",
     "text": [
      "\n",
      "/media/nicolasf/END19101/ICU/data/CDS/operational/hindcasts/METEO_FRANCE/TPRATE/ensemble_seas_forecasts_tprate_from_1993_06_METEO_FRANCE.netcdf downloaded OK\n",
      "\n",
      "\n",
      "attempting to download tprate for GCM DWD, for level surface, year 1993, month 6, in netcdf, attempt 1 of 3\n",
      "\n"
     ]
    },
    {
     "name": "stderr",
     "output_type": "stream",
     "text": [
      "2021-06-14 12:22:07,810 INFO Welcome to the CDS\n",
      "2021-06-14 12:22:07,812 INFO Sending request to https://cds.climate.copernicus.eu/api/v2/resources/seasonal-monthly-single-levels\n",
      "2021-06-14 12:22:08,108 INFO Request is queued\n",
      "2021-06-14 12:22:59,736 INFO Request is running\n",
      "2021-06-14 12:23:25,678 INFO Request is completed\n",
      "2021-06-14 12:23:25,680 INFO Downloading https://download-0003.copernicus-climate.eu/cache-compute-0003/cache/data8/adaptor.mars.external-1623630178.575683-4499-3-bedcd43f-8367-4f69-ae7b-2bf68efc209d.nc to /media/nicolasf/END19101/ICU/data/CDS/operational/hindcasts/DWD/TPRATE/ensemble_seas_forecasts_tprate_from_1993_06_DWD.netcdf (2.3M)\n",
      "2021-06-14 12:23:34,935 INFO Download rate 259.3K/s \n"
     ]
    },
    {
     "name": "stdout",
     "output_type": "stream",
     "text": [
      "\n",
      "/media/nicolasf/END19101/ICU/data/CDS/operational/hindcasts/DWD/TPRATE/ensemble_seas_forecasts_tprate_from_1993_06_DWD.netcdf downloaded OK\n",
      "\n",
      "\n",
      "attempting to download tprate for GCM CMCC, for level surface, year 1993, month 6, in netcdf, attempt 1 of 3\n",
      "\n"
     ]
    },
    {
     "name": "stderr",
     "output_type": "stream",
     "text": [
      "2021-06-14 12:23:35,521 INFO Welcome to the CDS\n",
      "2021-06-14 12:23:35,523 INFO Sending request to https://cds.climate.copernicus.eu/api/v2/resources/seasonal-monthly-single-levels\n",
      "2021-06-14 12:23:36,298 INFO Request is queued\n",
      "2021-06-14 12:23:45,589 INFO Request is running\n",
      "2021-06-14 12:25:32,641 INFO Request is completed\n",
      "2021-06-14 12:25:32,642 INFO Downloading https://download-0011.copernicus-climate.eu/cache-compute-0011/cache/data3/adaptor.mars.external-1623630225.368344-14944-21-f33702bb-fdf3-492c-8269-e53f201f8a15.nc to /media/nicolasf/END19101/ICU/data/CDS/operational/hindcasts/CMCC/TPRATE/ensemble_seas_forecasts_tprate_from_1993_06_CMCC.netcdf (3.1M)\n",
      "2021-06-14 12:25:46,983 INFO Download rate 223K/s   \n"
     ]
    },
    {
     "name": "stdout",
     "output_type": "stream",
     "text": [
      "\n",
      "/media/nicolasf/END19101/ICU/data/CDS/operational/hindcasts/CMCC/TPRATE/ensemble_seas_forecasts_tprate_from_1993_06_CMCC.netcdf downloaded OK\n",
      "\n",
      "\n",
      "attempting to download tprate for GCM NCEP, for level surface, year 1993, month 6, in netcdf, attempt 1 of 3\n",
      "\n"
     ]
    },
    {
     "name": "stderr",
     "output_type": "stream",
     "text": [
      "2021-06-14 12:25:47,568 INFO Welcome to the CDS\n",
      "2021-06-14 12:25:47,569 INFO Sending request to https://cds.climate.copernicus.eu/api/v2/resources/seasonal-monthly-single-levels\n",
      "2021-06-14 12:25:47,863 INFO Request is queued\n",
      "2021-06-14 12:27:44,195 INFO Request is completed\n",
      "2021-06-14 12:27:44,196 INFO Downloading https://download-0012.copernicus-climate.eu/cache-compute-0012/cache/data1/adaptor.mars.external-1623630454.3596463-15431-21-8973b909-47ba-4b79-b4d1-3f4bdb2fd15d.nc to /media/nicolasf/END19101/ICU/data/CDS/operational/hindcasts/NCEP/TPRATE/ensemble_seas_forecasts_tprate_from_1993_06_NCEP.netcdf (1.9M)\n",
      "2021-06-14 12:27:51,725 INFO Download rate 255K/s   \n"
     ]
    },
    {
     "name": "stdout",
     "output_type": "stream",
     "text": [
      "\n",
      "/media/nicolasf/END19101/ICU/data/CDS/operational/hindcasts/NCEP/TPRATE/ensemble_seas_forecasts_tprate_from_1993_06_NCEP.netcdf downloaded OK\n",
      "\n",
      "\n",
      "attempting to download tprate for GCM ECMWF, for level surface, year 1994, month 6, in netcdf, attempt 1 of 3\n",
      "\n"
     ]
    },
    {
     "name": "stderr",
     "output_type": "stream",
     "text": [
      "2021-06-14 12:27:52,303 INFO Welcome to the CDS\n",
      "2021-06-14 12:27:52,304 INFO Sending request to https://cds.climate.copernicus.eu/api/v2/resources/seasonal-monthly-single-levels\n",
      "2021-06-14 12:27:52,603 INFO Request is queued\n",
      "2021-06-14 12:28:07,251 INFO Request is running\n",
      "2021-06-14 12:28:15,144 INFO Request is completed\n",
      "2021-06-14 12:28:15,145 INFO Downloading https://download-0013.copernicus-climate.eu/cache-compute-0013/cache/data2/adaptor.mars.external-1623630485.8248177-7855-17-d3857bd2-318e-4829-adf6-5c34e437405c.nc to /media/nicolasf/END19101/ICU/data/CDS/operational/hindcasts/ECMWF/TPRATE/ensemble_seas_forecasts_tprate_from_1994_06_ECMWF.netcdf (2M)\n",
      "2021-06-14 12:28:22,951 INFO Download rate 256.1K/s \n"
     ]
    },
    {
     "name": "stdout",
     "output_type": "stream",
     "text": [
      "\n",
      "/media/nicolasf/END19101/ICU/data/CDS/operational/hindcasts/ECMWF/TPRATE/ensemble_seas_forecasts_tprate_from_1994_06_ECMWF.netcdf downloaded OK\n",
      "\n",
      "\n",
      "attempting to download tprate for GCM UKMO, for level surface, year 1994, month 6, in netcdf, attempt 1 of 3\n",
      "\n"
     ]
    },
    {
     "name": "stderr",
     "output_type": "stream",
     "text": [
      "2021-06-14 12:28:23,534 INFO Welcome to the CDS\n",
      "2021-06-14 12:28:23,535 INFO Sending request to https://cds.climate.copernicus.eu/api/v2/resources/seasonal-monthly-single-levels\n",
      "2021-06-14 12:28:23,829 INFO Request is queued\n",
      "2021-06-14 12:31:18,167 INFO Request is completed\n",
      "2021-06-14 12:31:18,169 INFO Downloading https://download-0009.copernicus-climate.eu/cache-compute-0009/cache/data9/adaptor.mars.external-1623630646.886144-28031-1-21161840-fb2f-4194-bed4-47c3381151ba.nc to /media/nicolasf/END19101/ICU/data/CDS/operational/hindcasts/UKMO/TPRATE/ensemble_seas_forecasts_tprate_from_1994_06_UKMO.netcdf (2.2M)\n",
      "2021-06-14 12:31:29,305 INFO Download rate 201.1K/s \n"
     ]
    },
    {
     "name": "stdout",
     "output_type": "stream",
     "text": [
      "\n",
      "/media/nicolasf/END19101/ICU/data/CDS/operational/hindcasts/UKMO/TPRATE/ensemble_seas_forecasts_tprate_from_1994_06_UKMO.netcdf downloaded OK\n",
      "\n",
      "\n",
      "attempting to download tprate for GCM METEO_FRANCE, for level surface, year 1994, month 6, in netcdf, attempt 1 of 3\n",
      "\n"
     ]
    },
    {
     "name": "stderr",
     "output_type": "stream",
     "text": [
      "2021-06-14 12:31:29,878 INFO Welcome to the CDS\n",
      "2021-06-14 12:31:29,878 INFO Sending request to https://cds.climate.copernicus.eu/api/v2/resources/seasonal-monthly-single-levels\n",
      "2021-06-14 12:31:30,169 INFO Request is queued\n",
      "2021-06-14 12:31:31,458 INFO Request is running\n",
      "2021-06-14 12:31:35,787 INFO Request is completed\n",
      "2021-06-14 12:31:35,787 INFO Downloading https://download-0002.copernicus-climate.eu/cache-compute-0002/cache/data3/adaptor.mars.external-1623630690.560137-13484-7-3a186ca4-0095-47d5-bd9e-f9e87ec77f06.nc to /media/nicolasf/END19101/ICU/data/CDS/operational/hindcasts/METEO_FRANCE/TPRATE/ensemble_seas_forecasts_tprate_from_1994_06_METEO_FRANCE.netcdf (2M)\n",
      "2021-06-14 12:31:43,247 INFO Download rate 268K/s   \n"
     ]
    },
    {
     "name": "stdout",
     "output_type": "stream",
     "text": [
      "\n",
      "/media/nicolasf/END19101/ICU/data/CDS/operational/hindcasts/METEO_FRANCE/TPRATE/ensemble_seas_forecasts_tprate_from_1994_06_METEO_FRANCE.netcdf downloaded OK\n",
      "\n",
      "\n",
      "attempting to download tprate for GCM DWD, for level surface, year 1994, month 6, in netcdf, attempt 1 of 3\n",
      "\n"
     ]
    },
    {
     "name": "stderr",
     "output_type": "stream",
     "text": [
      "2021-06-14 12:31:43,830 INFO Welcome to the CDS\n",
      "2021-06-14 12:31:43,832 INFO Sending request to https://cds.climate.copernicus.eu/api/v2/resources/seasonal-monthly-single-levels\n",
      "2021-06-14 12:31:44,129 INFO Request is queued\n",
      "2021-06-14 12:32:35,749 INFO Request is completed\n",
      "2021-06-14 12:32:35,751 INFO Downloading https://download-0000.copernicus-climate.eu/cache-compute-0000/cache/data2/adaptor.mars.external-1623630741.970991-31775-4-7bd8cf12-486c-4f57-9ec7-afa49488ca03.nc to /media/nicolasf/END19101/ICU/data/CDS/operational/hindcasts/DWD/TPRATE/ensemble_seas_forecasts_tprate_from_1994_06_DWD.netcdf (2.3M)\n",
      "2021-06-14 12:32:47,702 INFO Download rate 200.7K/s \n"
     ]
    },
    {
     "name": "stdout",
     "output_type": "stream",
     "text": [
      "\n",
      "/media/nicolasf/END19101/ICU/data/CDS/operational/hindcasts/DWD/TPRATE/ensemble_seas_forecasts_tprate_from_1994_06_DWD.netcdf downloaded OK\n",
      "\n",
      "\n",
      "attempting to download tprate for GCM CMCC, for level surface, year 1994, month 6, in netcdf, attempt 1 of 3\n",
      "\n"
     ]
    },
    {
     "name": "stderr",
     "output_type": "stream",
     "text": [
      "2021-06-14 12:32:49,169 INFO Welcome to the CDS\n",
      "2021-06-14 12:32:49,170 INFO Sending request to https://cds.climate.copernicus.eu/api/v2/resources/seasonal-monthly-single-levels\n",
      "2021-06-14 12:32:49,462 INFO Request is queued\n",
      "2021-06-14 12:35:43,792 INFO Request is completed\n",
      "2021-06-14 12:35:43,795 INFO Downloading https://download-0011.copernicus-climate.eu/cache-compute-0011/cache/data7/adaptor.mars.external-1623630906.1832397-23738-9-5b9cea38-8d78-46ff-b9f9-000d536a853b.nc to /media/nicolasf/END19101/ICU/data/CDS/operational/hindcasts/CMCC/TPRATE/ensemble_seas_forecasts_tprate_from_1994_06_CMCC.netcdf (3.1M)\n",
      "2021-06-14 12:36:04,490 INFO Download rate 154.5K/s \n"
     ]
    },
    {
     "name": "stdout",
     "output_type": "stream",
     "text": [
      "\n",
      "/media/nicolasf/END19101/ICU/data/CDS/operational/hindcasts/CMCC/TPRATE/ensemble_seas_forecasts_tprate_from_1994_06_CMCC.netcdf downloaded OK\n",
      "\n",
      "\n",
      "attempting to download tprate for GCM NCEP, for level surface, year 1994, month 6, in netcdf, attempt 1 of 3\n",
      "\n"
     ]
    },
    {
     "name": "stderr",
     "output_type": "stream",
     "text": [
      "2021-06-14 12:36:05,080 INFO Welcome to the CDS\n",
      "2021-06-14 12:36:05,082 INFO Sending request to https://cds.climate.copernicus.eu/api/v2/resources/seasonal-monthly-single-levels\n",
      "2021-06-14 12:36:05,380 INFO Request is queued\n",
      "2021-06-14 12:40:27,438 INFO Request is completed\n",
      "2021-06-14 12:40:27,440 INFO Downloading https://download-0010.copernicus-climate.eu/cache-compute-0010/cache/data8/adaptor.mars.external-1623631156.3837595-19239-18-e2072696-3cc7-4fc5-9782-0baddceadae1.nc to /media/nicolasf/END19101/ICU/data/CDS/operational/hindcasts/NCEP/TPRATE/ensemble_seas_forecasts_tprate_from_1994_06_NCEP.netcdf (1.9M)\n",
      "2021-06-14 12:40:41,498 INFO Download rate 136.6K/s \n"
     ]
    },
    {
     "name": "stdout",
     "output_type": "stream",
     "text": [
      "\n",
      "/media/nicolasf/END19101/ICU/data/CDS/operational/hindcasts/NCEP/TPRATE/ensemble_seas_forecasts_tprate_from_1994_06_NCEP.netcdf downloaded OK\n",
      "\n",
      "\n",
      "attempting to download tprate for GCM ECMWF, for level surface, year 1995, month 6, in netcdf, attempt 1 of 3\n",
      "\n"
     ]
    },
    {
     "name": "stderr",
     "output_type": "stream",
     "text": [
      "2021-06-14 12:40:42,082 INFO Welcome to the CDS\n",
      "2021-06-14 12:40:42,085 INFO Sending request to https://cds.climate.copernicus.eu/api/v2/resources/seasonal-monthly-single-levels\n",
      "2021-06-14 12:40:42,384 INFO Request is queued\n",
      "2021-06-14 12:40:57,604 INFO Request is completed\n",
      "2021-06-14 12:40:57,606 INFO Downloading https://download-0012.copernicus-climate.eu/cache-compute-0012/cache/data8/adaptor.mars.external-1623631252.4313378-20246-16-4aa11c73-97ca-4135-96e7-c5a640604eab.nc to /media/nicolasf/END19101/ICU/data/CDS/operational/hindcasts/ECMWF/TPRATE/ensemble_seas_forecasts_tprate_from_1995_06_ECMWF.netcdf (2M)\n",
      "2021-06-14 12:41:10,069 INFO Download rate 160.4K/s \n"
     ]
    },
    {
     "name": "stdout",
     "output_type": "stream",
     "text": [
      "\n",
      "/media/nicolasf/END19101/ICU/data/CDS/operational/hindcasts/ECMWF/TPRATE/ensemble_seas_forecasts_tprate_from_1995_06_ECMWF.netcdf downloaded OK\n",
      "\n",
      "\n",
      "attempting to download tprate for GCM UKMO, for level surface, year 1995, month 6, in netcdf, attempt 1 of 3\n",
      "\n"
     ]
    },
    {
     "name": "stderr",
     "output_type": "stream",
     "text": [
      "2021-06-14 12:41:10,650 INFO Welcome to the CDS\n",
      "2021-06-14 12:41:10,652 INFO Sending request to https://cds.climate.copernicus.eu/api/v2/resources/seasonal-monthly-single-levels\n",
      "2021-06-14 12:41:10,952 INFO Request is queued\n",
      "2021-06-14 12:43:07,763 INFO Request is completed\n",
      "2021-06-14 12:43:07,764 INFO Downloading https://download-0004.copernicus-climate.eu/cache-compute-0004/cache/data2/adaptor.mars.external-1623631357.116417-31813-25-82bf4147-eeda-4faf-8f98-4ab4b5247d2e.nc to /media/nicolasf/END19101/ICU/data/CDS/operational/hindcasts/UKMO/TPRATE/ensemble_seas_forecasts_tprate_from_1995_06_UKMO.netcdf (2.2M)\n",
      "2021-06-14 12:43:26,375 INFO Download rate 120.3K/s \n"
     ]
    },
    {
     "name": "stdout",
     "output_type": "stream",
     "text": [
      "\n",
      "/media/nicolasf/END19101/ICU/data/CDS/operational/hindcasts/UKMO/TPRATE/ensemble_seas_forecasts_tprate_from_1995_06_UKMO.netcdf downloaded OK\n",
      "\n",
      "\n",
      "attempting to download tprate for GCM METEO_FRANCE, for level surface, year 1995, month 6, in netcdf, attempt 1 of 3\n",
      "\n"
     ]
    },
    {
     "name": "stderr",
     "output_type": "stream",
     "text": [
      "2021-06-14 12:43:26,962 INFO Welcome to the CDS\n",
      "2021-06-14 12:43:26,964 INFO Sending request to https://cds.climate.copernicus.eu/api/v2/resources/seasonal-monthly-single-levels\n",
      "2021-06-14 12:43:27,262 INFO Request is queued\n",
      "2021-06-14 12:46:21,587 INFO Request is completed\n",
      "2021-06-14 12:46:21,589 INFO Downloading https://download-0002.copernicus-climate.eu/cache-compute-0002/cache/data8/adaptor.mars.external-1623631525.1889238-22142-3-adefb4a6-14fd-4d4d-abc6-e608115b9e6a.nc to /media/nicolasf/END19101/ICU/data/CDS/operational/hindcasts/METEO_FRANCE/TPRATE/ensemble_seas_forecasts_tprate_from_1995_06_METEO_FRANCE.netcdf (2M)\n",
      "2021-06-14 12:46:29,682 INFO Download rate 247.1K/s \n"
     ]
    },
    {
     "name": "stdout",
     "output_type": "stream",
     "text": [
      "\n",
      "/media/nicolasf/END19101/ICU/data/CDS/operational/hindcasts/METEO_FRANCE/TPRATE/ensemble_seas_forecasts_tprate_from_1995_06_METEO_FRANCE.netcdf downloaded OK\n",
      "\n",
      "\n",
      "attempting to download tprate for GCM DWD, for level surface, year 1995, month 6, in netcdf, attempt 1 of 3\n",
      "\n"
     ]
    },
    {
     "name": "stderr",
     "output_type": "stream",
     "text": [
      "2021-06-14 12:46:30,267 INFO Welcome to the CDS\n",
      "2021-06-14 12:46:30,269 INFO Sending request to https://cds.climate.copernicus.eu/api/v2/resources/seasonal-monthly-single-levels\n",
      "2021-06-14 12:46:30,569 INFO Request is queued\n",
      "2021-06-14 12:49:24,899 INFO Request is completed\n",
      "2021-06-14 12:49:24,901 INFO Downloading https://download-0008.copernicus-climate.eu/cache-compute-0008/cache/data7/adaptor.mars.external-1623631714.141644-28525-3-0e8dbfe9-679c-43b9-8f1e-fc38587cb020.nc to /media/nicolasf/END19101/ICU/data/CDS/operational/hindcasts/DWD/TPRATE/ensemble_seas_forecasts_tprate_from_1995_06_DWD.netcdf (2.3M)\n",
      "2021-06-14 12:49:46,865 INFO Download rate 109.2K/s \n"
     ]
    },
    {
     "name": "stdout",
     "output_type": "stream",
     "text": [
      "\n",
      "/media/nicolasf/END19101/ICU/data/CDS/operational/hindcasts/DWD/TPRATE/ensemble_seas_forecasts_tprate_from_1995_06_DWD.netcdf downloaded OK\n",
      "\n",
      "\n",
      "attempting to download tprate for GCM CMCC, for level surface, year 1995, month 6, in netcdf, attempt 1 of 3\n",
      "\n"
     ]
    },
    {
     "name": "stderr",
     "output_type": "stream",
     "text": [
      "2021-06-14 12:49:47,445 INFO Welcome to the CDS\n",
      "2021-06-14 12:49:47,446 INFO Sending request to https://cds.climate.copernicus.eu/api/v2/resources/seasonal-monthly-single-levels\n",
      "2021-06-14 12:49:47,742 INFO Request is queued\n",
      "2021-06-14 12:50:21,969 INFO Request is completed\n",
      "2021-06-14 12:50:21,971 INFO Downloading https://download-0015.copernicus-climate.eu/cache-compute-0015/cache/data6/adaptor.mars.external-1623631816.5996168-14781-21-52956fc2-44ee-494a-9f25-0b944eacd087.nc to /media/nicolasf/END19101/ICU/data/CDS/operational/hindcasts/CMCC/TPRATE/ensemble_seas_forecasts_tprate_from_1995_06_CMCC.netcdf (3.1M)\n",
      "2021-06-14 12:50:40,962 INFO Download rate 168.4K/s \n"
     ]
    },
    {
     "name": "stdout",
     "output_type": "stream",
     "text": [
      "\n",
      "/media/nicolasf/END19101/ICU/data/CDS/operational/hindcasts/CMCC/TPRATE/ensemble_seas_forecasts_tprate_from_1995_06_CMCC.netcdf downloaded OK\n",
      "\n",
      "\n",
      "attempting to download tprate for GCM NCEP, for level surface, year 1995, month 6, in netcdf, attempt 1 of 3\n",
      "\n"
     ]
    },
    {
     "name": "stderr",
     "output_type": "stream",
     "text": [
      "2021-06-14 12:50:41,543 INFO Welcome to the CDS\n",
      "2021-06-14 12:50:41,544 INFO Sending request to https://cds.climate.copernicus.eu/api/v2/resources/seasonal-monthly-single-levels\n",
      "2021-06-14 12:50:41,839 INFO Request is queued\n",
      "2021-06-14 12:53:36,194 INFO Request is completed\n",
      "2021-06-14 12:53:36,196 INFO Downloading https://download-0014.copernicus-climate.eu/cache-compute-0014/cache/data4/adaptor.mars.external-1623632000.884796-22113-15-12785f0a-9c4c-4f48-8a36-38b809de27b2.nc to /media/nicolasf/END19101/ICU/data/CDS/operational/hindcasts/NCEP/TPRATE/ensemble_seas_forecasts_tprate_from_1995_06_NCEP.netcdf (1.9M)\n",
      "2021-06-14 12:53:47,266 INFO Download rate 173.4K/s \n"
     ]
    },
    {
     "name": "stdout",
     "output_type": "stream",
     "text": [
      "\n",
      "/media/nicolasf/END19101/ICU/data/CDS/operational/hindcasts/NCEP/TPRATE/ensemble_seas_forecasts_tprate_from_1995_06_NCEP.netcdf downloaded OK\n",
      "\n",
      "\n",
      "attempting to download tprate for GCM ECMWF, for level surface, year 1996, month 6, in netcdf, attempt 1 of 3\n",
      "\n"
     ]
    },
    {
     "name": "stderr",
     "output_type": "stream",
     "text": [
      "2021-06-14 12:53:47,850 INFO Welcome to the CDS\n",
      "2021-06-14 12:53:47,852 INFO Sending request to https://cds.climate.copernicus.eu/api/v2/resources/seasonal-monthly-single-levels\n",
      "2021-06-14 12:53:48,151 INFO Request is queued\n",
      "2021-06-14 12:56:42,502 INFO Request is completed\n",
      "2021-06-14 12:56:42,503 INFO Downloading https://download-0014.copernicus-climate.eu/cache-compute-0014/cache/data3/adaptor.mars.external-1623632163.2285032-22071-27-754b461c-1cb3-4d72-9409-716af4c2ba4c.nc to /media/nicolasf/END19101/ICU/data/CDS/operational/hindcasts/ECMWF/TPRATE/ensemble_seas_forecasts_tprate_from_1996_06_ECMWF.netcdf (2M)\n",
      "2021-06-14 12:56:50,591 INFO Download rate 247.2K/s \n"
     ]
    },
    {
     "name": "stdout",
     "output_type": "stream",
     "text": [
      "\n",
      "/media/nicolasf/END19101/ICU/data/CDS/operational/hindcasts/ECMWF/TPRATE/ensemble_seas_forecasts_tprate_from_1996_06_ECMWF.netcdf downloaded OK\n",
      "\n",
      "\n",
      "attempting to download tprate for GCM UKMO, for level surface, year 1996, month 6, in netcdf, attempt 1 of 3\n",
      "\n"
     ]
    },
    {
     "name": "stderr",
     "output_type": "stream",
     "text": [
      "2021-06-14 12:56:51,178 INFO Welcome to the CDS\n",
      "2021-06-14 12:56:51,180 INFO Sending request to https://cds.climate.copernicus.eu/api/v2/resources/seasonal-monthly-single-levels\n",
      "2021-06-14 12:56:51,479 INFO Request is queued\n",
      "2021-06-14 12:57:14,033 INFO Request is completed\n",
      "2021-06-14 12:57:14,034 INFO Downloading https://download-0014.copernicus-climate.eu/cache-compute-0014/cache/data9/adaptor.mars.external-1623632230.1667082-24717-1-514d112c-ce13-43d3-b46f-d33246c909ec.nc to /media/nicolasf/END19101/ICU/data/CDS/operational/hindcasts/UKMO/TPRATE/ensemble_seas_forecasts_tprate_from_1996_06_UKMO.netcdf (2.2M)\n",
      "2021-06-14 12:57:27,770 INFO Download rate 163K/s   \n"
     ]
    },
    {
     "name": "stdout",
     "output_type": "stream",
     "text": [
      "\n",
      "/media/nicolasf/END19101/ICU/data/CDS/operational/hindcasts/UKMO/TPRATE/ensemble_seas_forecasts_tprate_from_1996_06_UKMO.netcdf downloaded OK\n",
      "\n",
      "\n",
      "attempting to download tprate for GCM METEO_FRANCE, for level surface, year 1996, month 6, in netcdf, attempt 1 of 3\n",
      "\n"
     ]
    },
    {
     "name": "stderr",
     "output_type": "stream",
     "text": [
      "2021-06-14 12:57:28,355 INFO Welcome to the CDS\n",
      "2021-06-14 12:57:28,355 INFO Sending request to https://cds.climate.copernicus.eu/api/v2/resources/seasonal-monthly-single-levels\n",
      "2021-06-14 12:57:28,649 INFO Request is queued\n",
      "2021-06-14 12:59:25,909 INFO Request is completed\n",
      "2021-06-14 12:59:25,911 INFO Downloading https://download-0010.copernicus-climate.eu/cache-compute-0010/cache/data0/adaptor.mars.external-1623632346.5937974-31647-1-1a637b64-05aa-4b1c-8b00-2ed5dc5ea7ad.nc to /media/nicolasf/END19101/ICU/data/CDS/operational/hindcasts/METEO_FRANCE/TPRATE/ensemble_seas_forecasts_tprate_from_1996_06_METEO_FRANCE.netcdf (2M)\n",
      "2021-06-14 12:59:36,433 INFO Download rate 190.1K/s \n"
     ]
    },
    {
     "name": "stdout",
     "output_type": "stream",
     "text": [
      "\n",
      "/media/nicolasf/END19101/ICU/data/CDS/operational/hindcasts/METEO_FRANCE/TPRATE/ensemble_seas_forecasts_tprate_from_1996_06_METEO_FRANCE.netcdf downloaded OK\n",
      "\n",
      "\n",
      "attempting to download tprate for GCM DWD, for level surface, year 1996, month 6, in netcdf, attempt 1 of 3\n",
      "\n"
     ]
    },
    {
     "name": "stderr",
     "output_type": "stream",
     "text": [
      "2021-06-14 12:59:37,015 INFO Welcome to the CDS\n",
      "2021-06-14 12:59:37,016 INFO Sending request to https://cds.climate.copernicus.eu/api/v2/resources/seasonal-monthly-single-levels\n",
      "2021-06-14 12:59:37,311 INFO Request is queued\n",
      "2021-06-14 13:02:31,641 INFO Request is completed\n",
      "2021-06-14 13:02:31,642 INFO Downloading https://download-0013.copernicus-climate.eu/cache-compute-0013/cache/data9/adaptor.mars.external-1623632533.8653898-24116-17-66df9849-7525-4b3c-b750-35258f319554.nc to /media/nicolasf/END19101/ICU/data/CDS/operational/hindcasts/DWD/TPRATE/ensemble_seas_forecasts_tprate_from_1996_06_DWD.netcdf (2.3M)\n",
      "2021-06-14 13:02:40,847 INFO Download rate 260.6K/s \n"
     ]
    },
    {
     "name": "stdout",
     "output_type": "stream",
     "text": [
      "\n",
      "/media/nicolasf/END19101/ICU/data/CDS/operational/hindcasts/DWD/TPRATE/ensemble_seas_forecasts_tprate_from_1996_06_DWD.netcdf downloaded OK\n",
      "\n",
      "\n",
      "attempting to download tprate for GCM CMCC, for level surface, year 1996, month 6, in netcdf, attempt 1 of 3\n",
      "\n"
     ]
    },
    {
     "name": "stderr",
     "output_type": "stream",
     "text": [
      "2021-06-14 13:02:41,431 INFO Welcome to the CDS\n",
      "2021-06-14 13:02:41,432 INFO Sending request to https://cds.climate.copernicus.eu/api/v2/resources/seasonal-monthly-single-levels\n",
      "2021-06-14 13:02:41,730 INFO Request is queued\n",
      "2021-06-14 13:05:36,072 INFO Request is completed\n",
      "2021-06-14 13:05:36,074 INFO Downloading https://download-0014.copernicus-climate.eu/cache-compute-0014/cache/data6/adaptor.mars.external-1623632695.481501-26437-17-84c93efe-a19d-4bb3-ba8f-40baf8e592c2.nc to /media/nicolasf/END19101/ICU/data/CDS/operational/hindcasts/CMCC/TPRATE/ensemble_seas_forecasts_tprate_from_1996_06_CMCC.netcdf (3.1M)\n",
      "2021-06-14 13:05:54,589 INFO Download rate 172.7K/s \n"
     ]
    },
    {
     "name": "stdout",
     "output_type": "stream",
     "text": [
      "\n",
      "/media/nicolasf/END19101/ICU/data/CDS/operational/hindcasts/CMCC/TPRATE/ensemble_seas_forecasts_tprate_from_1996_06_CMCC.netcdf downloaded OK\n",
      "\n",
      "\n",
      "attempting to download tprate for GCM NCEP, for level surface, year 1996, month 6, in netcdf, attempt 1 of 3\n",
      "\n"
     ]
    },
    {
     "name": "stderr",
     "output_type": "stream",
     "text": [
      "2021-06-14 13:05:55,171 INFO Welcome to the CDS\n",
      "2021-06-14 13:05:55,173 INFO Sending request to https://cds.climate.copernicus.eu/api/v2/resources/seasonal-monthly-single-levels\n",
      "2021-06-14 13:05:55,478 INFO Request is queued\n",
      "2021-06-14 13:07:51,823 INFO Request is completed\n",
      "2021-06-14 13:07:51,823 INFO Downloading https://download-0000.copernicus-climate.eu/cache-compute-0000/cache/data7/adaptor.mars.external-1623632864.5008616-19983-3-9bad5977-c677-4602-a696-49b010f361cf.nc to /media/nicolasf/END19101/ICU/data/CDS/operational/hindcasts/NCEP/TPRATE/ensemble_seas_forecasts_tprate_from_1996_06_NCEP.netcdf (1.9M)\n",
      "2021-06-14 13:07:59,625 INFO Download rate 246K/s   \n"
     ]
    },
    {
     "name": "stdout",
     "output_type": "stream",
     "text": [
      "\n",
      "/media/nicolasf/END19101/ICU/data/CDS/operational/hindcasts/NCEP/TPRATE/ensemble_seas_forecasts_tprate_from_1996_06_NCEP.netcdf downloaded OK\n",
      "\n",
      "\n",
      "attempting to download tprate for GCM ECMWF, for level surface, year 1997, month 6, in netcdf, attempt 1 of 3\n",
      "\n"
     ]
    },
    {
     "name": "stderr",
     "output_type": "stream",
     "text": [
      "2021-06-14 13:08:00,207 INFO Welcome to the CDS\n",
      "2021-06-14 13:08:00,209 INFO Sending request to https://cds.climate.copernicus.eu/api/v2/resources/seasonal-monthly-single-levels\n",
      "2021-06-14 13:08:00,508 INFO Request is queued\n",
      "2021-06-14 13:18:26,701 INFO Request is completed\n",
      "2021-06-14 13:18:26,702 INFO Downloading https://download-0001.copernicus-climate.eu/cache-compute-0001/cache/data3/adaptor.mars.external-1623633412.9022088-13222-5-40b1af07-c592-427d-b6de-34eb71d77ac2.nc to /media/nicolasf/END19101/ICU/data/CDS/operational/hindcasts/ECMWF/TPRATE/ensemble_seas_forecasts_tprate_from_1997_06_ECMWF.netcdf (2M)\n",
      "2021-06-14 13:18:36,347 INFO Download rate 207.3K/s \n"
     ]
    },
    {
     "name": "stdout",
     "output_type": "stream",
     "text": [
      "\n",
      "/media/nicolasf/END19101/ICU/data/CDS/operational/hindcasts/ECMWF/TPRATE/ensemble_seas_forecasts_tprate_from_1997_06_ECMWF.netcdf downloaded OK\n",
      "\n",
      "\n",
      "attempting to download tprate for GCM UKMO, for level surface, year 1997, month 6, in netcdf, attempt 1 of 3\n",
      "\n"
     ]
    },
    {
     "name": "stderr",
     "output_type": "stream",
     "text": [
      "2021-06-14 13:18:36,926 INFO Welcome to the CDS\n",
      "2021-06-14 13:18:36,928 INFO Sending request to https://cds.climate.copernicus.eu/api/v2/resources/seasonal-monthly-single-levels\n",
      "2021-06-14 13:18:37,227 INFO Request is queued\n",
      "2021-06-14 13:22:59,379 INFO Request is completed\n",
      "2021-06-14 13:22:59,380 INFO Downloading https://download-0009.copernicus-climate.eu/cache-compute-0009/cache/data2/adaptor.mars.external-1623633708.586425-15410-17-70b2bb5d-f16a-4d05-9684-f69427aaffe4.nc to /media/nicolasf/END19101/ICU/data/CDS/operational/hindcasts/UKMO/TPRATE/ensemble_seas_forecasts_tprate_from_1997_06_UKMO.netcdf (2.2M)\n",
      "2021-06-14 13:23:10,106 INFO Download rate 208.8K/s \n"
     ]
    },
    {
     "name": "stdout",
     "output_type": "stream",
     "text": [
      "\n",
      "/media/nicolasf/END19101/ICU/data/CDS/operational/hindcasts/UKMO/TPRATE/ensemble_seas_forecasts_tprate_from_1997_06_UKMO.netcdf downloaded OK\n",
      "\n",
      "\n",
      "attempting to download tprate for GCM METEO_FRANCE, for level surface, year 1997, month 6, in netcdf, attempt 1 of 3\n",
      "\n"
     ]
    },
    {
     "name": "stderr",
     "output_type": "stream",
     "text": [
      "2021-06-14 13:23:10,692 INFO Welcome to the CDS\n",
      "2021-06-14 13:23:10,693 INFO Sending request to https://cds.climate.copernicus.eu/api/v2/resources/seasonal-monthly-single-levels\n",
      "2021-06-14 13:23:10,987 INFO Request is queued\n",
      "2021-06-14 13:25:07,317 INFO Request is completed\n",
      "2021-06-14 13:25:07,319 INFO Downloading https://download-0000.copernicus-climate.eu/cache-compute-0000/cache/data7/adaptor.mars.external-1623633899.3386612-24932-9-7128c115-a607-4a7e-b614-771ee0c7308c.nc to /media/nicolasf/END19101/ICU/data/CDS/operational/hindcasts/METEO_FRANCE/TPRATE/ensemble_seas_forecasts_tprate_from_1997_06_METEO_FRANCE.netcdf (2M)\n",
      "2021-06-14 13:25:17,119 INFO Download rate 204.1K/s \n"
     ]
    },
    {
     "name": "stdout",
     "output_type": "stream",
     "text": [
      "\n",
      "/media/nicolasf/END19101/ICU/data/CDS/operational/hindcasts/METEO_FRANCE/TPRATE/ensemble_seas_forecasts_tprate_from_1997_06_METEO_FRANCE.netcdf downloaded OK\n",
      "\n",
      "\n",
      "attempting to download tprate for GCM DWD, for level surface, year 1997, month 6, in netcdf, attempt 1 of 3\n",
      "\n"
     ]
    },
    {
     "name": "stderr",
     "output_type": "stream",
     "text": [
      "2021-06-14 13:25:17,703 INFO Welcome to the CDS\n",
      "2021-06-14 13:25:17,704 INFO Sending request to https://cds.climate.copernicus.eu/api/v2/resources/seasonal-monthly-single-levels\n",
      "2021-06-14 13:25:18,005 INFO Request is queued\n",
      "2021-06-14 13:29:40,065 INFO Request is completed\n",
      "2021-06-14 13:29:40,067 INFO Downloading https://download-0002.copernicus-climate.eu/cache-compute-0002/cache/data5/adaptor.mars.external-1623634098.7134109-6385-13-d5726742-7347-40d3-9738-a48cef25c47a.nc to /media/nicolasf/END19101/ICU/data/CDS/operational/hindcasts/DWD/TPRATE/ensemble_seas_forecasts_tprate_from_1997_06_DWD.netcdf (2.3M)\n",
      "2021-06-14 13:29:48,714 INFO Download rate 277.5K/s \n"
     ]
    },
    {
     "name": "stdout",
     "output_type": "stream",
     "text": [
      "\n",
      "/media/nicolasf/END19101/ICU/data/CDS/operational/hindcasts/DWD/TPRATE/ensemble_seas_forecasts_tprate_from_1997_06_DWD.netcdf downloaded OK\n",
      "\n",
      "\n",
      "attempting to download tprate for GCM CMCC, for level surface, year 1997, month 6, in netcdf, attempt 1 of 3\n",
      "\n"
     ]
    },
    {
     "name": "stderr",
     "output_type": "stream",
     "text": [
      "2021-06-14 13:29:49,299 INFO Welcome to the CDS\n",
      "2021-06-14 13:29:49,299 INFO Sending request to https://cds.climate.copernicus.eu/api/v2/resources/seasonal-monthly-single-levels\n",
      "2021-06-14 13:29:49,592 INFO Request is queued\n",
      "2021-06-14 13:30:12,139 INFO Request is completed\n",
      "2021-06-14 13:30:12,140 INFO Downloading https://download-0002.copernicus-climate.eu/cache-compute-0002/cache/data8/adaptor.mars.external-1623634206.1535442-7772-3-d5d8cc7c-79a3-4e93-ae54-4430ce7d49aa.nc to /media/nicolasf/END19101/ICU/data/CDS/operational/hindcasts/CMCC/TPRATE/ensemble_seas_forecasts_tprate_from_1997_06_CMCC.netcdf (3.1M)\n",
      "2021-06-14 13:30:23,463 INFO Download rate 282.5K/s \n"
     ]
    },
    {
     "name": "stdout",
     "output_type": "stream",
     "text": [
      "\n",
      "/media/nicolasf/END19101/ICU/data/CDS/operational/hindcasts/CMCC/TPRATE/ensemble_seas_forecasts_tprate_from_1997_06_CMCC.netcdf downloaded OK\n",
      "\n",
      "\n",
      "attempting to download tprate for GCM NCEP, for level surface, year 1997, month 6, in netcdf, attempt 1 of 3\n",
      "\n"
     ]
    },
    {
     "name": "stderr",
     "output_type": "stream",
     "text": [
      "2021-06-14 13:30:24,051 INFO Welcome to the CDS\n",
      "2021-06-14 13:30:24,053 INFO Sending request to https://cds.climate.copernicus.eu/api/v2/resources/seasonal-monthly-single-levels\n",
      "2021-06-14 13:30:24,352 INFO Request is queued\n",
      "2021-06-14 13:30:39,005 INFO Request is completed\n",
      "2021-06-14 13:30:39,007 INFO Downloading https://download-0012.copernicus-climate.eu/cache-compute-0012/cache/data2/adaptor.mars.external-1623634234.824023-14364-7-6e1c18e8-93e5-4ea2-9ef4-4bdfecd170b4.nc to /media/nicolasf/END19101/ICU/data/CDS/operational/hindcasts/NCEP/TPRATE/ensemble_seas_forecasts_tprate_from_1997_06_NCEP.netcdf (1.9M)\n",
      "2021-06-14 13:30:46,250 INFO Download rate 265K/s   \n"
     ]
    },
    {
     "name": "stdout",
     "output_type": "stream",
     "text": [
      "\n",
      "/media/nicolasf/END19101/ICU/data/CDS/operational/hindcasts/NCEP/TPRATE/ensemble_seas_forecasts_tprate_from_1997_06_NCEP.netcdf downloaded OK\n",
      "\n",
      "\n",
      "attempting to download tprate for GCM ECMWF, for level surface, year 1998, month 6, in netcdf, attempt 1 of 3\n",
      "\n"
     ]
    },
    {
     "name": "stderr",
     "output_type": "stream",
     "text": [
      "2021-06-14 13:30:46,836 INFO Welcome to the CDS\n",
      "2021-06-14 13:30:46,838 INFO Sending request to https://cds.climate.copernicus.eu/api/v2/resources/seasonal-monthly-single-levels\n",
      "2021-06-14 13:30:47,135 INFO Request is queued\n",
      "2021-06-14 13:31:38,781 INFO Request is completed\n",
      "2021-06-14 13:31:38,783 INFO Downloading https://download-0006.copernicus-climate.eu/cache-compute-0006/cache/data7/adaptor.mars.external-1623634281.6839778-13781-23-1b24d406-ff14-4570-a055-0d34555b30a2.nc to /media/nicolasf/END19101/ICU/data/CDS/operational/hindcasts/ECMWF/TPRATE/ensemble_seas_forecasts_tprate_from_1998_06_ECMWF.netcdf (2M)\n",
      "2021-06-14 13:31:45,446 INFO Download rate 300.1K/s \n"
     ]
    },
    {
     "name": "stdout",
     "output_type": "stream",
     "text": [
      "\n",
      "/media/nicolasf/END19101/ICU/data/CDS/operational/hindcasts/ECMWF/TPRATE/ensemble_seas_forecasts_tprate_from_1998_06_ECMWF.netcdf downloaded OK\n",
      "\n",
      "\n",
      "attempting to download tprate for GCM UKMO, for level surface, year 1998, month 6, in netcdf, attempt 1 of 3\n",
      "\n"
     ]
    },
    {
     "name": "stderr",
     "output_type": "stream",
     "text": [
      "2021-06-14 13:31:46,034 INFO Welcome to the CDS\n",
      "2021-06-14 13:31:46,036 INFO Sending request to https://cds.climate.copernicus.eu/api/v2/resources/seasonal-monthly-single-levels\n",
      "2021-06-14 13:31:46,351 INFO Request is queued\n",
      "2021-06-14 13:34:40,687 INFO Request is completed\n",
      "2021-06-14 13:34:40,689 INFO Downloading https://download-0001.copernicus-climate.eu/cache-compute-0001/cache/data8/adaptor.mars.external-1623634446.8845215-22159-7-e4c90a01-161d-475d-9e12-3dace582c8f5.nc to /media/nicolasf/END19101/ICU/data/CDS/operational/hindcasts/UKMO/TPRATE/ensemble_seas_forecasts_tprate_from_1998_06_UKMO.netcdf (2.2M)\n",
      "2021-06-14 13:34:49,617 INFO Download rate 250.8K/s \n"
     ]
    },
    {
     "name": "stdout",
     "output_type": "stream",
     "text": [
      "\n",
      "/media/nicolasf/END19101/ICU/data/CDS/operational/hindcasts/UKMO/TPRATE/ensemble_seas_forecasts_tprate_from_1998_06_UKMO.netcdf downloaded OK\n",
      "\n",
      "\n",
      "attempting to download tprate for GCM METEO_FRANCE, for level surface, year 1998, month 6, in netcdf, attempt 1 of 3\n",
      "\n"
     ]
    },
    {
     "name": "stderr",
     "output_type": "stream",
     "text": [
      "2021-06-14 13:34:50,191 INFO Welcome to the CDS\n",
      "2021-06-14 13:34:50,193 INFO Sending request to https://cds.climate.copernicus.eu/api/v2/resources/seasonal-monthly-single-levels\n",
      "2021-06-14 13:34:50,489 INFO Request is queued\n",
      "2021-06-14 13:36:46,814 INFO Request is completed\n",
      "2021-06-14 13:36:46,816 INFO Downloading https://download-0013.copernicus-climate.eu/cache-compute-0013/cache/data5/adaptor.mars.external-1623634572.9396439-5122-28-c08023d7-dcbd-4928-bb1b-176061de7312.nc to /media/nicolasf/END19101/ICU/data/CDS/operational/hindcasts/METEO_FRANCE/TPRATE/ensemble_seas_forecasts_tprate_from_1998_06_METEO_FRANCE.netcdf (2M)\n",
      "2021-06-14 13:36:53,766 INFO Download rate 287.8K/s \n"
     ]
    },
    {
     "name": "stdout",
     "output_type": "stream",
     "text": [
      "\n",
      "/media/nicolasf/END19101/ICU/data/CDS/operational/hindcasts/METEO_FRANCE/TPRATE/ensemble_seas_forecasts_tprate_from_1998_06_METEO_FRANCE.netcdf downloaded OK\n",
      "\n",
      "\n",
      "attempting to download tprate for GCM DWD, for level surface, year 1998, month 6, in netcdf, attempt 1 of 3\n",
      "\n"
     ]
    },
    {
     "name": "stderr",
     "output_type": "stream",
     "text": [
      "2021-06-14 13:36:54,349 INFO Welcome to the CDS\n",
      "2021-06-14 13:36:54,350 INFO Sending request to https://cds.climate.copernicus.eu/api/v2/resources/seasonal-monthly-single-levels\n",
      "2021-06-14 13:36:54,650 INFO Request is queued\n",
      "2021-06-14 13:39:48,983 INFO Request is completed\n",
      "2021-06-14 13:39:48,985 INFO Downloading https://download-0010.copernicus-climate.eu/cache-compute-0010/cache/data1/adaptor.mars.external-1623634756.1476245-16113-24-958a21f0-124f-45b7-ad3c-f4d1875e25f3.nc to /media/nicolasf/END19101/ICU/data/CDS/operational/hindcasts/DWD/TPRATE/ensemble_seas_forecasts_tprate_from_1998_06_DWD.netcdf (2.3M)\n",
      "2021-06-14 13:39:57,549 INFO Download rate 280.1K/s \n"
     ]
    },
    {
     "name": "stdout",
     "output_type": "stream",
     "text": [
      "\n",
      "/media/nicolasf/END19101/ICU/data/CDS/operational/hindcasts/DWD/TPRATE/ensemble_seas_forecasts_tprate_from_1998_06_DWD.netcdf downloaded OK\n",
      "\n",
      "\n",
      "attempting to download tprate for GCM CMCC, for level surface, year 1998, month 6, in netcdf, attempt 1 of 3\n",
      "\n"
     ]
    },
    {
     "name": "stderr",
     "output_type": "stream",
     "text": [
      "2021-06-14 13:39:58,127 INFO Welcome to the CDS\n",
      "2021-06-14 13:39:58,128 INFO Sending request to https://cds.climate.copernicus.eu/api/v2/resources/seasonal-monthly-single-levels\n",
      "2021-06-14 13:39:58,424 INFO Request is queued\n",
      "2021-06-14 13:42:52,751 INFO Request is completed\n",
      "2021-06-14 13:42:52,752 INFO Downloading https://download-0000.copernicus-climate.eu/cache-compute-0000/cache/data5/adaptor.mars.external-1623634935.1435738-29603-24-dfb670c6-f766-4683-9ad6-5148583a9e10.nc to /media/nicolasf/END19101/ICU/data/CDS/operational/hindcasts/CMCC/TPRATE/ensemble_seas_forecasts_tprate_from_1998_06_CMCC.netcdf (3.1M)\n",
      "2021-06-14 13:43:08,957 INFO Download rate 197.3K/s \n"
     ]
    },
    {
     "name": "stdout",
     "output_type": "stream",
     "text": [
      "\n",
      "/media/nicolasf/END19101/ICU/data/CDS/operational/hindcasts/CMCC/TPRATE/ensemble_seas_forecasts_tprate_from_1998_06_CMCC.netcdf downloaded OK\n",
      "\n",
      "\n",
      "attempting to download tprate for GCM NCEP, for level surface, year 1998, month 6, in netcdf, attempt 1 of 3\n",
      "\n"
     ]
    },
    {
     "name": "stderr",
     "output_type": "stream",
     "text": [
      "2021-06-14 13:43:09,536 INFO Welcome to the CDS\n",
      "2021-06-14 13:43:09,536 INFO Sending request to https://cds.climate.copernicus.eu/api/v2/resources/seasonal-monthly-single-levels\n",
      "2021-06-14 13:43:09,830 INFO Request is queued\n",
      "2021-06-14 13:46:04,166 INFO Request is completed\n",
      "2021-06-14 13:46:04,167 INFO Downloading https://download-0006.copernicus-climate.eu/cache-compute-0006/cache/data9/adaptor.mars.external-1623635121.642942-22777-26-ae4dfba6-6c1c-4b98-aa09-85c7375fdd40.nc to /media/nicolasf/END19101/ICU/data/CDS/operational/hindcasts/NCEP/TPRATE/ensemble_seas_forecasts_tprate_from_1998_06_NCEP.netcdf (1.9M)\n",
      "2021-06-14 13:46:11,709 INFO Download rate 254.5K/s \n"
     ]
    },
    {
     "name": "stdout",
     "output_type": "stream",
     "text": [
      "\n",
      "/media/nicolasf/END19101/ICU/data/CDS/operational/hindcasts/NCEP/TPRATE/ensemble_seas_forecasts_tprate_from_1998_06_NCEP.netcdf downloaded OK\n",
      "\n",
      "\n",
      "attempting to download tprate for GCM ECMWF, for level surface, year 1999, month 6, in netcdf, attempt 1 of 3\n",
      "\n"
     ]
    },
    {
     "name": "stderr",
     "output_type": "stream",
     "text": [
      "2021-06-14 13:46:12,287 INFO Welcome to the CDS\n",
      "2021-06-14 13:46:12,288 INFO Sending request to https://cds.climate.copernicus.eu/api/v2/resources/seasonal-monthly-single-levels\n",
      "2021-06-14 13:46:13,651 INFO Request is queued\n",
      "2021-06-14 13:46:19,275 INFO Request is running\n",
      "2021-06-14 13:46:28,297 INFO Request is completed\n",
      "2021-06-14 13:46:28,299 INFO Downloading https://download-0000.copernicus-climate.eu/cache-compute-0000/cache/data7/adaptor.mars.external-1623635179.089549-3945-3-3093737c-80e9-489a-aafa-702a19365998.nc to /media/nicolasf/END19101/ICU/data/CDS/operational/hindcasts/ECMWF/TPRATE/ensemble_seas_forecasts_tprate_from_1999_06_ECMWF.netcdf (2M)\n",
      "2021-06-14 13:46:38,014 INFO Download rate 205.8K/s \n"
     ]
    },
    {
     "name": "stdout",
     "output_type": "stream",
     "text": [
      "\n",
      "/media/nicolasf/END19101/ICU/data/CDS/operational/hindcasts/ECMWF/TPRATE/ensemble_seas_forecasts_tprate_from_1999_06_ECMWF.netcdf downloaded OK\n",
      "\n",
      "\n",
      "attempting to download tprate for GCM UKMO, for level surface, year 1999, month 6, in netcdf, attempt 1 of 3\n",
      "\n"
     ]
    },
    {
     "name": "stderr",
     "output_type": "stream",
     "text": [
      "2021-06-14 13:46:38,596 INFO Welcome to the CDS\n",
      "2021-06-14 13:46:38,597 INFO Sending request to https://cds.climate.copernicus.eu/api/v2/resources/seasonal-monthly-single-levels\n",
      "2021-06-14 13:46:38,894 INFO Request is queued\n",
      "2021-06-14 13:47:13,109 INFO Request is completed\n",
      "2021-06-14 13:47:13,113 INFO Downloading https://download-0014.copernicus-climate.eu/cache-compute-0014/cache/data2/adaptor.mars.external-1623635227.2092783-10974-13-2972ba8a-a47d-4f32-8261-22ba1635ac24.nc to /media/nicolasf/END19101/ICU/data/CDS/operational/hindcasts/UKMO/TPRATE/ensemble_seas_forecasts_tprate_from_1999_06_UKMO.netcdf (2.2M)\n",
      "2021-06-14 13:47:22,233 INFO Download rate 245.6K/s \n"
     ]
    },
    {
     "name": "stdout",
     "output_type": "stream",
     "text": [
      "\n",
      "/media/nicolasf/END19101/ICU/data/CDS/operational/hindcasts/UKMO/TPRATE/ensemble_seas_forecasts_tprate_from_1999_06_UKMO.netcdf downloaded OK\n",
      "\n",
      "\n",
      "attempting to download tprate for GCM METEO_FRANCE, for level surface, year 1999, month 6, in netcdf, attempt 1 of 3\n",
      "\n"
     ]
    },
    {
     "name": "stderr",
     "output_type": "stream",
     "text": [
      "2021-06-14 13:47:22,812 INFO Welcome to the CDS\n",
      "2021-06-14 13:47:22,813 INFO Sending request to https://cds.climate.copernicus.eu/api/v2/resources/seasonal-monthly-single-levels\n",
      "2021-06-14 13:47:23,107 INFO Request is queued\n",
      "2021-06-14 13:49:19,434 INFO Request is completed\n",
      "2021-06-14 13:49:19,435 INFO Downloading https://download-0001.copernicus-climate.eu/cache-compute-0001/cache/data2/adaptor.mars.external-1623635332.0713956-25379-7-899e1885-3a49-4689-b501-346a5b931e6a.nc to /media/nicolasf/END19101/ICU/data/CDS/operational/hindcasts/METEO_FRANCE/TPRATE/ensemble_seas_forecasts_tprate_from_1999_06_METEO_FRANCE.netcdf (2M)\n",
      "2021-06-14 13:49:28,006 INFO Download rate 233.3K/s \n"
     ]
    },
    {
     "name": "stdout",
     "output_type": "stream",
     "text": [
      "\n",
      "/media/nicolasf/END19101/ICU/data/CDS/operational/hindcasts/METEO_FRANCE/TPRATE/ensemble_seas_forecasts_tprate_from_1999_06_METEO_FRANCE.netcdf downloaded OK\n",
      "\n",
      "\n",
      "attempting to download tprate for GCM DWD, for level surface, year 1999, month 6, in netcdf, attempt 1 of 3\n",
      "\n"
     ]
    },
    {
     "name": "stderr",
     "output_type": "stream",
     "text": [
      "2021-06-14 13:49:28,583 INFO Welcome to the CDS\n",
      "2021-06-14 13:49:28,584 INFO Sending request to https://cds.climate.copernicus.eu/api/v2/resources/seasonal-monthly-single-levels\n",
      "2021-06-14 13:49:28,880 INFO Request is queued\n",
      "2021-06-14 13:49:43,526 INFO Request is running\n",
      "2021-06-14 13:49:51,413 INFO Request is completed\n",
      "2021-06-14 13:49:51,414 INFO Downloading https://download-0004.copernicus-climate.eu/cache-compute-0004/cache/data9/adaptor.mars.external-1623635381.3021877-30656-7-7d8dcc54-875c-4862-9ad1-582042ec1aa5.nc to /media/nicolasf/END19101/ICU/data/CDS/operational/hindcasts/DWD/TPRATE/ensemble_seas_forecasts_tprate_from_1999_06_DWD.netcdf (2.3M)\n",
      "2021-06-14 13:50:04,065 INFO Download rate 189.6K/s \n"
     ]
    },
    {
     "name": "stdout",
     "output_type": "stream",
     "text": [
      "\n",
      "/media/nicolasf/END19101/ICU/data/CDS/operational/hindcasts/DWD/TPRATE/ensemble_seas_forecasts_tprate_from_1999_06_DWD.netcdf downloaded OK\n",
      "\n",
      "\n",
      "attempting to download tprate for GCM CMCC, for level surface, year 1999, month 6, in netcdf, attempt 1 of 3\n",
      "\n"
     ]
    },
    {
     "name": "stderr",
     "output_type": "stream",
     "text": [
      "2021-06-14 13:50:04,644 INFO Welcome to the CDS\n",
      "2021-06-14 13:50:04,644 INFO Sending request to https://cds.climate.copernicus.eu/api/v2/resources/seasonal-monthly-single-levels\n",
      "2021-06-14 13:50:04,941 INFO Request is queued\n",
      "2021-06-14 13:50:27,471 INFO Request is completed\n",
      "2021-06-14 13:50:27,472 INFO Downloading https://download-0007.copernicus-climate.eu/cache-compute-0007/cache/data5/adaptor.mars.external-1623635420.7749763-24896-27-5346f69c-a7d6-4d50-8e46-6e83d6e8b766.nc to /media/nicolasf/END19101/ICU/data/CDS/operational/hindcasts/CMCC/TPRATE/ensemble_seas_forecasts_tprate_from_1999_06_CMCC.netcdf (3.1M)\n",
      "2021-06-14 13:50:42,582 INFO Download rate 211.6K/s \n"
     ]
    },
    {
     "name": "stdout",
     "output_type": "stream",
     "text": [
      "\n",
      "/media/nicolasf/END19101/ICU/data/CDS/operational/hindcasts/CMCC/TPRATE/ensemble_seas_forecasts_tprate_from_1999_06_CMCC.netcdf downloaded OK\n",
      "\n",
      "\n",
      "attempting to download tprate for GCM NCEP, for level surface, year 1999, month 6, in netcdf, attempt 1 of 3\n",
      "\n"
     ]
    },
    {
     "name": "stderr",
     "output_type": "stream",
     "text": [
      "2021-06-14 13:50:43,164 INFO Welcome to the CDS\n",
      "2021-06-14 13:50:43,165 INFO Sending request to https://cds.climate.copernicus.eu/api/v2/resources/seasonal-monthly-single-levels\n",
      "2021-06-14 13:50:43,463 INFO Request is queued\n",
      "2021-06-14 13:51:06,006 INFO Request is completed\n",
      "2021-06-14 13:51:06,007 INFO Downloading https://download-0015.copernicus-climate.eu/cache-compute-0015/cache/data5/adaptor.mars.external-1623635459.9103503-9646-22-55eed991-bff9-4185-abc5-be83445fadad.nc to /media/nicolasf/END19101/ICU/data/CDS/operational/hindcasts/NCEP/TPRATE/ensemble_seas_forecasts_tprate_from_1999_06_NCEP.netcdf (1.9M)\n",
      "2021-06-14 13:51:13,499 INFO Download rate 256.2K/s \n"
     ]
    },
    {
     "name": "stdout",
     "output_type": "stream",
     "text": [
      "\n",
      "/media/nicolasf/END19101/ICU/data/CDS/operational/hindcasts/NCEP/TPRATE/ensemble_seas_forecasts_tprate_from_1999_06_NCEP.netcdf downloaded OK\n",
      "\n",
      "\n",
      "attempting to download tprate for GCM ECMWF, for level surface, year 2000, month 6, in netcdf, attempt 1 of 3\n",
      "\n"
     ]
    },
    {
     "name": "stderr",
     "output_type": "stream",
     "text": [
      "2021-06-14 13:51:14,080 INFO Welcome to the CDS\n",
      "2021-06-14 13:51:14,081 INFO Sending request to https://cds.climate.copernicus.eu/api/v2/resources/seasonal-monthly-single-levels\n",
      "2021-06-14 13:51:14,415 INFO Request is queued\n",
      "2021-06-14 13:54:08,748 INFO Request is completed\n",
      "2021-06-14 13:54:08,750 INFO Downloading https://download-0015.copernicus-climate.eu/cache-compute-0015/cache/data4/adaptor.mars.external-1623635592.3614402-10750-23-844e1ec9-5508-4359-b1a5-34c806622a08.nc to /media/nicolasf/END19101/ICU/data/CDS/operational/hindcasts/ECMWF/TPRATE/ensemble_seas_forecasts_tprate_from_2000_06_ECMWF.netcdf (2M)\n",
      "2021-06-14 13:54:17,033 INFO Download rate 241.4K/s \n"
     ]
    },
    {
     "name": "stdout",
     "output_type": "stream",
     "text": [
      "\n",
      "/media/nicolasf/END19101/ICU/data/CDS/operational/hindcasts/ECMWF/TPRATE/ensemble_seas_forecasts_tprate_from_2000_06_ECMWF.netcdf downloaded OK\n",
      "\n",
      "\n",
      "attempting to download tprate for GCM UKMO, for level surface, year 2000, month 6, in netcdf, attempt 1 of 3\n",
      "\n"
     ]
    },
    {
     "name": "stderr",
     "output_type": "stream",
     "text": [
      "2021-06-14 13:54:17,610 INFO Welcome to the CDS\n",
      "2021-06-14 13:54:17,611 INFO Sending request to https://cds.climate.copernicus.eu/api/v2/resources/seasonal-monthly-single-levels\n",
      "2021-06-14 13:54:17,905 INFO Request is queued\n",
      "2021-06-14 13:55:09,516 INFO Request is completed\n",
      "2021-06-14 13:55:09,518 INFO Downloading https://download-0013.copernicus-climate.eu/cache-compute-0013/cache/data3/adaptor.mars.external-1623635696.6243005-17324-3-9faf5d9c-762c-4f85-8103-10ab87381f79.nc to /media/nicolasf/END19101/ICU/data/CDS/operational/hindcasts/UKMO/TPRATE/ensemble_seas_forecasts_tprate_from_2000_06_UKMO.netcdf (2.2M)\n",
      "2021-06-14 13:55:17,874 INFO Download rate 268K/s   \n"
     ]
    },
    {
     "name": "stdout",
     "output_type": "stream",
     "text": [
      "\n",
      "/media/nicolasf/END19101/ICU/data/CDS/operational/hindcasts/UKMO/TPRATE/ensemble_seas_forecasts_tprate_from_2000_06_UKMO.netcdf downloaded OK\n",
      "\n",
      "\n",
      "attempting to download tprate for GCM METEO_FRANCE, for level surface, year 2000, month 6, in netcdf, attempt 1 of 3\n",
      "\n"
     ]
    },
    {
     "name": "stderr",
     "output_type": "stream",
     "text": [
      "2021-06-14 13:55:18,453 INFO Welcome to the CDS\n",
      "2021-06-14 13:55:18,454 INFO Sending request to https://cds.climate.copernicus.eu/api/v2/resources/seasonal-monthly-single-levels\n",
      "2021-06-14 13:55:18,761 INFO Request is queued\n",
      "2021-06-14 13:56:10,376 INFO Request is completed\n",
      "2021-06-14 13:56:10,377 INFO Downloading https://download-0014.copernicus-climate.eu/cache-compute-0014/cache/data6/adaptor.mars.external-1623635758.5517757-19468-7-20c1f6b8-c89d-4a3f-89b3-7a7666832dce.nc to /media/nicolasf/END19101/ICU/data/CDS/operational/hindcasts/METEO_FRANCE/TPRATE/ensemble_seas_forecasts_tprate_from_2000_06_METEO_FRANCE.netcdf (2M)\n",
      "2021-06-14 13:56:16,838 INFO Download rate 309.5K/s \n"
     ]
    },
    {
     "name": "stdout",
     "output_type": "stream",
     "text": [
      "\n",
      "/media/nicolasf/END19101/ICU/data/CDS/operational/hindcasts/METEO_FRANCE/TPRATE/ensemble_seas_forecasts_tprate_from_2000_06_METEO_FRANCE.netcdf downloaded OK\n",
      "\n",
      "\n",
      "attempting to download tprate for GCM DWD, for level surface, year 2000, month 6, in netcdf, attempt 1 of 3\n",
      "\n"
     ]
    },
    {
     "name": "stderr",
     "output_type": "stream",
     "text": [
      "2021-06-14 13:56:17,429 INFO Welcome to the CDS\n",
      "2021-06-14 13:56:17,430 INFO Sending request to https://cds.climate.copernicus.eu/api/v2/resources/seasonal-monthly-single-levels\n",
      "2021-06-14 13:56:17,723 INFO Request is queued\n",
      "2021-06-14 13:56:52,879 INFO Request is completed\n",
      "2021-06-14 13:56:52,882 INFO Downloading https://download-0004.copernicus-climate.eu/cache-compute-0004/cache/data2/adaptor.mars.external-1623635802.1707265-5059-3-f1d58568-0967-479c-b55d-648b36896d37.nc to /media/nicolasf/END19101/ICU/data/CDS/operational/hindcasts/DWD/TPRATE/ensemble_seas_forecasts_tprate_from_2000_06_DWD.netcdf (2.3M)\n",
      "2021-06-14 13:57:01,546 INFO Download rate 276.9K/s \n"
     ]
    },
    {
     "name": "stdout",
     "output_type": "stream",
     "text": [
      "\n",
      "/media/nicolasf/END19101/ICU/data/CDS/operational/hindcasts/DWD/TPRATE/ensemble_seas_forecasts_tprate_from_2000_06_DWD.netcdf downloaded OK\n",
      "\n",
      "\n",
      "attempting to download tprate for GCM CMCC, for level surface, year 2000, month 6, in netcdf, attempt 1 of 3\n",
      "\n"
     ]
    },
    {
     "name": "stderr",
     "output_type": "stream",
     "text": [
      "2021-06-14 13:57:02,125 INFO Welcome to the CDS\n",
      "2021-06-14 13:57:02,125 INFO Sending request to https://cds.climate.copernicus.eu/api/v2/resources/seasonal-monthly-single-levels\n",
      "2021-06-14 13:57:02,422 INFO Request is queued\n",
      "2021-06-14 13:57:08,043 INFO Request is running\n",
      "2021-06-14 13:57:11,712 INFO Request is completed\n",
      "2021-06-14 13:57:11,713 INFO Downloading https://download-0009.copernicus-climate.eu/cache-compute-0009/cache/data4/adaptor.mars.external-1623635827.015071-29690-21-52dd4fa0-f296-442c-a373-742180f9ce06.nc to /media/nicolasf/END19101/ICU/data/CDS/operational/hindcasts/CMCC/TPRATE/ensemble_seas_forecasts_tprate_from_2000_06_CMCC.netcdf (3.1M)\n",
      "2021-06-14 13:57:21,210 INFO Download rate 336.8K/s \n"
     ]
    },
    {
     "name": "stdout",
     "output_type": "stream",
     "text": [
      "\n",
      "/media/nicolasf/END19101/ICU/data/CDS/operational/hindcasts/CMCC/TPRATE/ensemble_seas_forecasts_tprate_from_2000_06_CMCC.netcdf downloaded OK\n",
      "\n",
      "\n",
      "attempting to download tprate for GCM NCEP, for level surface, year 2000, month 6, in netcdf, attempt 1 of 3\n",
      "\n"
     ]
    },
    {
     "name": "stderr",
     "output_type": "stream",
     "text": [
      "2021-06-14 13:57:21,787 INFO Welcome to the CDS\n",
      "2021-06-14 13:57:21,788 INFO Sending request to https://cds.climate.copernicus.eu/api/v2/resources/seasonal-monthly-single-levels\n",
      "2021-06-14 13:57:22,082 INFO Request is queued\n",
      "2021-06-14 13:57:31,368 INFO Request is running\n",
      "2021-06-14 13:57:36,728 INFO Request is completed\n",
      "2021-06-14 13:57:36,730 INFO Downloading https://download-0001.copernicus-climate.eu/cache-compute-0001/cache/data3/adaptor.mars.external-1623635849.1154428-32128-25-93fdcd23-d0dc-49ea-8ee3-3289f4112ebc.nc to /media/nicolasf/END19101/ICU/data/CDS/operational/hindcasts/NCEP/TPRATE/ensemble_seas_forecasts_tprate_from_2000_06_NCEP.netcdf (1.9M)\n",
      "2021-06-14 13:57:44,801 INFO Download rate 237.9K/s \n"
     ]
    },
    {
     "name": "stdout",
     "output_type": "stream",
     "text": [
      "\n",
      "/media/nicolasf/END19101/ICU/data/CDS/operational/hindcasts/NCEP/TPRATE/ensemble_seas_forecasts_tprate_from_2000_06_NCEP.netcdf downloaded OK\n",
      "\n",
      "\n",
      "attempting to download tprate for GCM ECMWF, for level surface, year 2001, month 6, in netcdf, attempt 1 of 3\n",
      "\n"
     ]
    },
    {
     "name": "stderr",
     "output_type": "stream",
     "text": [
      "2021-06-14 13:57:45,376 INFO Welcome to the CDS\n",
      "2021-06-14 13:57:45,377 INFO Sending request to https://cds.climate.copernicus.eu/api/v2/resources/seasonal-monthly-single-levels\n",
      "2021-06-14 13:57:45,690 INFO Request is queued\n",
      "2021-06-14 13:57:54,972 INFO Request is running\n",
      "2021-06-14 13:58:00,327 INFO Request is completed\n",
      "2021-06-14 13:58:00,328 INFO Downloading https://download-0009.copernicus-climate.eu/cache-compute-0009/cache/data3/adaptor.mars.external-1623635872.839707-3276-28-4cc9a97b-6807-4581-91e9-b9bf87248138.nc to /media/nicolasf/END19101/ICU/data/CDS/operational/hindcasts/ECMWF/TPRATE/ensemble_seas_forecasts_tprate_from_2001_06_ECMWF.netcdf (2M)\n",
      "2021-06-14 13:58:09,146 INFO Download rate 226.8K/s \n"
     ]
    },
    {
     "name": "stdout",
     "output_type": "stream",
     "text": [
      "\n",
      "/media/nicolasf/END19101/ICU/data/CDS/operational/hindcasts/ECMWF/TPRATE/ensemble_seas_forecasts_tprate_from_2001_06_ECMWF.netcdf downloaded OK\n",
      "\n",
      "\n",
      "attempting to download tprate for GCM UKMO, for level surface, year 2001, month 6, in netcdf, attempt 1 of 3\n",
      "\n"
     ]
    },
    {
     "name": "stderr",
     "output_type": "stream",
     "text": [
      "2021-06-14 13:58:09,723 INFO Welcome to the CDS\n",
      "2021-06-14 13:58:09,723 INFO Sending request to https://cds.climate.copernicus.eu/api/v2/resources/seasonal-monthly-single-levels\n",
      "2021-06-14 13:58:10,047 INFO Request is queued\n",
      "2021-06-14 13:59:01,725 INFO Request is completed\n",
      "2021-06-14 13:59:01,727 INFO Downloading https://download-0015.copernicus-climate.eu/cache-compute-0015/cache/data5/adaptor.mars.external-1623635926.4526093-12351-23-c1789cce-8a56-44a0-9158-5808c0f40cf4.nc to /media/nicolasf/END19101/ICU/data/CDS/operational/hindcasts/UKMO/TPRATE/ensemble_seas_forecasts_tprate_from_2001_06_UKMO.netcdf (2.2M)\n",
      "2021-06-14 13:59:13,614 INFO Download rate 188.4K/s \n"
     ]
    },
    {
     "name": "stdout",
     "output_type": "stream",
     "text": [
      "\n",
      "/media/nicolasf/END19101/ICU/data/CDS/operational/hindcasts/UKMO/TPRATE/ensemble_seas_forecasts_tprate_from_2001_06_UKMO.netcdf downloaded OK\n",
      "\n",
      "\n",
      "attempting to download tprate for GCM METEO_FRANCE, for level surface, year 2001, month 6, in netcdf, attempt 1 of 3\n",
      "\n"
     ]
    },
    {
     "name": "stderr",
     "output_type": "stream",
     "text": [
      "2021-06-14 13:59:14,197 INFO Welcome to the CDS\n",
      "2021-06-14 13:59:14,199 INFO Sending request to https://cds.climate.copernicus.eu/api/v2/resources/seasonal-monthly-single-levels\n",
      "2021-06-14 13:59:14,519 INFO Request is queued\n",
      "2021-06-14 14:00:06,123 INFO Request is completed\n",
      "2021-06-14 14:00:06,124 INFO Downloading https://download-0007.copernicus-climate.eu/cache-compute-0007/cache/data8/adaptor.mars.external-1623635993.9113512-28413-22-7060624e-f5b9-457b-b2b2-e74a8d4e15f9.nc to /media/nicolasf/END19101/ICU/data/CDS/operational/hindcasts/METEO_FRANCE/TPRATE/ensemble_seas_forecasts_tprate_from_2001_06_METEO_FRANCE.netcdf (2M)\n",
      "2021-06-14 14:00:13,105 INFO Download rate 286.4K/s \n"
     ]
    },
    {
     "name": "stdout",
     "output_type": "stream",
     "text": [
      "\n",
      "/media/nicolasf/END19101/ICU/data/CDS/operational/hindcasts/METEO_FRANCE/TPRATE/ensemble_seas_forecasts_tprate_from_2001_06_METEO_FRANCE.netcdf downloaded OK\n",
      "\n",
      "\n",
      "attempting to download tprate for GCM DWD, for level surface, year 2001, month 6, in netcdf, attempt 1 of 3\n",
      "\n"
     ]
    },
    {
     "name": "stderr",
     "output_type": "stream",
     "text": [
      "2021-06-14 14:00:13,682 INFO Welcome to the CDS\n",
      "2021-06-14 14:00:13,683 INFO Sending request to https://cds.climate.copernicus.eu/api/v2/resources/seasonal-monthly-single-levels\n",
      "2021-06-14 14:00:13,993 INFO Request is queued\n",
      "2021-06-14 14:00:28,637 INFO Request is completed\n",
      "2021-06-14 14:00:28,637 INFO Downloading https://download-0013.copernicus-climate.eu/cache-compute-0013/cache/data6/adaptor.mars.external-1623636024.1624246-17957-17-ab3be872-fc6b-4213-ae2d-e15bf7a19ad6.nc to /media/nicolasf/END19101/ICU/data/CDS/operational/hindcasts/DWD/TPRATE/ensemble_seas_forecasts_tprate_from_2001_06_DWD.netcdf (2.3M)\n",
      "2021-06-14 14:00:37,253 INFO Download rate 278.4K/s \n"
     ]
    },
    {
     "name": "stdout",
     "output_type": "stream",
     "text": [
      "\n",
      "/media/nicolasf/END19101/ICU/data/CDS/operational/hindcasts/DWD/TPRATE/ensemble_seas_forecasts_tprate_from_2001_06_DWD.netcdf downloaded OK\n",
      "\n",
      "\n",
      "attempting to download tprate for GCM CMCC, for level surface, year 2001, month 6, in netcdf, attempt 1 of 3\n",
      "\n"
     ]
    },
    {
     "name": "stderr",
     "output_type": "stream",
     "text": [
      "2021-06-14 14:00:37,837 INFO Welcome to the CDS\n",
      "2021-06-14 14:00:37,838 INFO Sending request to https://cds.climate.copernicus.eu/api/v2/resources/seasonal-monthly-single-levels\n",
      "2021-06-14 14:00:38,144 INFO Request is queued\n",
      "2021-06-14 14:02:34,478 INFO Request is completed\n",
      "2021-06-14 14:02:34,480 INFO Downloading https://download-0002.copernicus-climate.eu/cache-compute-0002/cache/data5/adaptor.mars.external-1623636130.2023396-20109-18-7cab98e9-8866-4bd0-982c-9c001dcc1fbf.nc to /media/nicolasf/END19101/ICU/data/CDS/operational/hindcasts/CMCC/TPRATE/ensemble_seas_forecasts_tprate_from_2001_06_CMCC.netcdf (3.1M)\n",
      "2021-06-14 14:02:45,501 INFO Download rate 290.2K/s \n"
     ]
    },
    {
     "name": "stdout",
     "output_type": "stream",
     "text": [
      "\n",
      "/media/nicolasf/END19101/ICU/data/CDS/operational/hindcasts/CMCC/TPRATE/ensemble_seas_forecasts_tprate_from_2001_06_CMCC.netcdf downloaded OK\n",
      "\n",
      "\n",
      "attempting to download tprate for GCM NCEP, for level surface, year 2001, month 6, in netcdf, attempt 1 of 3\n",
      "\n"
     ]
    },
    {
     "name": "stderr",
     "output_type": "stream",
     "text": [
      "2021-06-14 14:02:46,077 INFO Welcome to the CDS\n",
      "2021-06-14 14:02:46,078 INFO Sending request to https://cds.climate.copernicus.eu/api/v2/resources/seasonal-monthly-single-levels\n",
      "2021-06-14 14:02:46,371 INFO Request is queued\n",
      "2021-06-14 14:03:37,973 INFO Request is running\n",
      "2021-06-14 14:04:03,916 INFO Request is completed\n",
      "2021-06-14 14:04:03,917 INFO Downloading https://download-0015.copernicus-climate.eu/cache-compute-0015/cache/data5/adaptor.mars.external-1623636216.8204186-13016-23-ab993c2c-9679-49cd-a703-11640360bbd4.nc to /media/nicolasf/END19101/ICU/data/CDS/operational/hindcasts/NCEP/TPRATE/ensemble_seas_forecasts_tprate_from_2001_06_NCEP.netcdf (1.9M)\n",
      "2021-06-14 14:04:12,025 INFO Download rate 236.8K/s \n"
     ]
    },
    {
     "name": "stdout",
     "output_type": "stream",
     "text": [
      "\n",
      "/media/nicolasf/END19101/ICU/data/CDS/operational/hindcasts/NCEP/TPRATE/ensemble_seas_forecasts_tprate_from_2001_06_NCEP.netcdf downloaded OK\n",
      "\n",
      "\n",
      "attempting to download tprate for GCM ECMWF, for level surface, year 2002, month 6, in netcdf, attempt 1 of 3\n",
      "\n"
     ]
    },
    {
     "name": "stderr",
     "output_type": "stream",
     "text": [
      "2021-06-14 14:04:12,601 INFO Welcome to the CDS\n",
      "2021-06-14 14:04:12,602 INFO Sending request to https://cds.climate.copernicus.eu/api/v2/resources/seasonal-monthly-single-levels\n",
      "2021-06-14 14:04:12,899 INFO Request is queued\n",
      "2021-06-14 14:04:22,185 INFO Request is running\n",
      "2021-06-14 14:04:27,543 INFO Request is completed\n",
      "2021-06-14 14:04:27,545 INFO Downloading https://download-0004.copernicus-climate.eu/cache-compute-0004/cache/data1/adaptor.mars.external-1623636258.4153757-4298-22-0a806671-9256-4085-bfa9-f853e3c33d91.nc to /media/nicolasf/END19101/ICU/data/CDS/operational/hindcasts/ECMWF/TPRATE/ensemble_seas_forecasts_tprate_from_2002_06_ECMWF.netcdf (2M)\n",
      "2021-06-14 14:04:38,397 INFO Download rate 184.3K/s \n"
     ]
    },
    {
     "name": "stdout",
     "output_type": "stream",
     "text": [
      "\n",
      "/media/nicolasf/END19101/ICU/data/CDS/operational/hindcasts/ECMWF/TPRATE/ensemble_seas_forecasts_tprate_from_2002_06_ECMWF.netcdf downloaded OK\n",
      "\n",
      "\n",
      "attempting to download tprate for GCM UKMO, for level surface, year 2002, month 6, in netcdf, attempt 1 of 3\n",
      "\n"
     ]
    },
    {
     "name": "stderr",
     "output_type": "stream",
     "text": [
      "2021-06-14 14:04:38,978 INFO Welcome to the CDS\n",
      "2021-06-14 14:04:38,979 INFO Sending request to https://cds.climate.copernicus.eu/api/v2/resources/seasonal-monthly-single-levels\n",
      "2021-06-14 14:04:39,280 INFO Request is queued\n",
      "2021-06-14 14:05:13,508 INFO Request is completed\n",
      "2021-06-14 14:05:13,510 INFO Downloading https://download-0008.copernicus-climate.eu/cache-compute-0008/cache/data4/adaptor.mars.external-1623636310.085435-29279-26-80d44f9a-b6a5-44b6-a08c-15f9325feb6e.nc to /media/nicolasf/END19101/ICU/data/CDS/operational/hindcasts/UKMO/TPRATE/ensemble_seas_forecasts_tprate_from_2002_06_UKMO.netcdf (2.2M)\n",
      "2021-06-14 14:05:27,091 INFO Download rate 164.9K/s \n"
     ]
    },
    {
     "name": "stdout",
     "output_type": "stream",
     "text": [
      "\n",
      "/media/nicolasf/END19101/ICU/data/CDS/operational/hindcasts/UKMO/TPRATE/ensemble_seas_forecasts_tprate_from_2002_06_UKMO.netcdf downloaded OK\n",
      "\n",
      "\n",
      "attempting to download tprate for GCM METEO_FRANCE, for level surface, year 2002, month 6, in netcdf, attempt 1 of 3\n",
      "\n"
     ]
    },
    {
     "name": "stderr",
     "output_type": "stream",
     "text": [
      "2021-06-14 14:05:27,674 INFO Welcome to the CDS\n",
      "2021-06-14 14:05:27,675 INFO Sending request to https://cds.climate.copernicus.eu/api/v2/resources/seasonal-monthly-single-levels\n",
      "2021-06-14 14:05:28,897 INFO Request is queued\n",
      "2021-06-14 14:06:20,503 INFO Request is completed\n",
      "2021-06-14 14:06:20,504 INFO Downloading https://download-0008.copernicus-climate.eu/cache-compute-0008/cache/data2/adaptor.mars.external-1623636364.1668518-30425-19-4199401d-e093-4023-907b-147499301036.nc to /media/nicolasf/END19101/ICU/data/CDS/operational/hindcasts/METEO_FRANCE/TPRATE/ensemble_seas_forecasts_tprate_from_2002_06_METEO_FRANCE.netcdf (2M)\n",
      "2021-06-14 14:06:27,697 INFO Download rate 278K/s   \n"
     ]
    },
    {
     "name": "stdout",
     "output_type": "stream",
     "text": [
      "\n",
      "/media/nicolasf/END19101/ICU/data/CDS/operational/hindcasts/METEO_FRANCE/TPRATE/ensemble_seas_forecasts_tprate_from_2002_06_METEO_FRANCE.netcdf downloaded OK\n",
      "\n",
      "\n",
      "attempting to download tprate for GCM DWD, for level surface, year 2002, month 6, in netcdf, attempt 1 of 3\n",
      "\n"
     ]
    },
    {
     "name": "stderr",
     "output_type": "stream",
     "text": [
      "2021-06-14 14:06:28,274 INFO Welcome to the CDS\n",
      "2021-06-14 14:06:28,275 INFO Sending request to https://cds.climate.copernicus.eu/api/v2/resources/seasonal-monthly-single-levels\n",
      "2021-06-14 14:06:28,588 INFO Request is queued\n",
      "2021-06-14 14:08:24,913 INFO Request is completed\n",
      "2021-06-14 14:08:24,914 INFO Downloading https://download-0003.copernicus-climate.eu/cache-compute-0003/cache/data8/adaptor.mars.external-1623636483.7534964-17687-7-14f5f854-9ed9-4fa6-abeb-34f25073f780.nc to /media/nicolasf/END19101/ICU/data/CDS/operational/hindcasts/DWD/TPRATE/ensemble_seas_forecasts_tprate_from_2002_06_DWD.netcdf (2.3M)\n",
      "2021-06-14 14:08:32,953 INFO Download rate 298.4K/s \n"
     ]
    },
    {
     "name": "stdout",
     "output_type": "stream",
     "text": [
      "\n",
      "/media/nicolasf/END19101/ICU/data/CDS/operational/hindcasts/DWD/TPRATE/ensemble_seas_forecasts_tprate_from_2002_06_DWD.netcdf downloaded OK\n",
      "\n",
      "\n",
      "attempting to download tprate for GCM CMCC, for level surface, year 2002, month 6, in netcdf, attempt 1 of 3\n",
      "\n"
     ]
    },
    {
     "name": "stderr",
     "output_type": "stream",
     "text": [
      "2021-06-14 14:08:33,529 INFO Welcome to the CDS\n",
      "2021-06-14 14:08:33,530 INFO Sending request to https://cds.climate.copernicus.eu/api/v2/resources/seasonal-monthly-single-levels\n",
      "2021-06-14 14:08:33,827 INFO Request is queued\n",
      "2021-06-14 14:12:55,925 INFO Request is completed\n",
      "2021-06-14 14:12:55,926 INFO Downloading https://download-0013.copernicus-climate.eu/cache-compute-0013/cache/data7/adaptor.mars.external-1623636697.9919264-26570-9-5fa7c822-7bad-4f89-843f-27443ab97b1a.nc to /media/nicolasf/END19101/ICU/data/CDS/operational/hindcasts/CMCC/TPRATE/ensemble_seas_forecasts_tprate_from_2002_06_CMCC.netcdf (3.1M)\n",
      "2021-06-14 14:13:10,034 INFO Download rate 226.7K/s \n"
     ]
    },
    {
     "name": "stdout",
     "output_type": "stream",
     "text": [
      "\n",
      "/media/nicolasf/END19101/ICU/data/CDS/operational/hindcasts/CMCC/TPRATE/ensemble_seas_forecasts_tprate_from_2002_06_CMCC.netcdf downloaded OK\n",
      "\n",
      "\n",
      "attempting to download tprate for GCM NCEP, for level surface, year 2002, month 6, in netcdf, attempt 1 of 3\n",
      "\n"
     ]
    },
    {
     "name": "stderr",
     "output_type": "stream",
     "text": [
      "2021-06-14 14:13:10,618 INFO Welcome to the CDS\n",
      "2021-06-14 14:13:10,619 INFO Sending request to https://cds.climate.copernicus.eu/api/v2/resources/seasonal-monthly-single-levels\n",
      "2021-06-14 14:13:10,928 INFO Request is queued\n",
      "2021-06-14 14:13:16,551 INFO Request is completed\n",
      "2021-06-14 14:13:16,552 INFO Downloading https://download-0009.copernicus-climate.eu/cache-compute-0009/cache/data9/adaptor.mars.external-1623636794.0759535-9787-1-963b62df-9d5c-44b1-b3ae-153865fbeede.nc to /media/nicolasf/END19101/ICU/data/CDS/operational/hindcasts/NCEP/TPRATE/ensemble_seas_forecasts_tprate_from_2002_06_NCEP.netcdf (1.9M)\n",
      "2021-06-14 14:13:23,019 INFO Download rate 296.9K/s \n"
     ]
    },
    {
     "name": "stdout",
     "output_type": "stream",
     "text": [
      "\n",
      "/media/nicolasf/END19101/ICU/data/CDS/operational/hindcasts/NCEP/TPRATE/ensemble_seas_forecasts_tprate_from_2002_06_NCEP.netcdf downloaded OK\n",
      "\n",
      "\n",
      "attempting to download tprate for GCM ECMWF, for level surface, year 2003, month 6, in netcdf, attempt 1 of 3\n",
      "\n"
     ]
    },
    {
     "name": "stderr",
     "output_type": "stream",
     "text": [
      "2021-06-14 14:13:23,599 INFO Welcome to the CDS\n",
      "2021-06-14 14:13:23,602 INFO Sending request to https://cds.climate.copernicus.eu/api/v2/resources/seasonal-monthly-single-levels\n",
      "2021-06-14 14:13:23,910 INFO Request is queued\n",
      "2021-06-14 14:13:38,553 INFO Request is running\n",
      "2021-06-14 14:13:46,445 INFO Request is completed\n",
      "2021-06-14 14:13:46,447 INFO Downloading https://download-0004.copernicus-climate.eu/cache-compute-0004/cache/data4/adaptor.mars.external-1623636816.068712-8847-21-dfd067b2-e17a-4f11-8ccb-b993843ad40a.nc to /media/nicolasf/END19101/ICU/data/CDS/operational/hindcasts/ECMWF/TPRATE/ensemble_seas_forecasts_tprate_from_2003_06_ECMWF.netcdf (2M)\n",
      "2021-06-14 14:13:58,758 INFO Download rate 162.4K/s \n"
     ]
    },
    {
     "name": "stdout",
     "output_type": "stream",
     "text": [
      "\n",
      "/media/nicolasf/END19101/ICU/data/CDS/operational/hindcasts/ECMWF/TPRATE/ensemble_seas_forecasts_tprate_from_2003_06_ECMWF.netcdf downloaded OK\n",
      "\n",
      "\n",
      "attempting to download tprate for GCM UKMO, for level surface, year 2003, month 6, in netcdf, attempt 1 of 3\n",
      "\n"
     ]
    },
    {
     "name": "stderr",
     "output_type": "stream",
     "text": [
      "2021-06-14 14:13:59,339 INFO Welcome to the CDS\n",
      "2021-06-14 14:13:59,340 INFO Sending request to https://cds.climate.copernicus.eu/api/v2/resources/seasonal-monthly-single-levels\n",
      "2021-06-14 14:13:59,635 INFO Request is queued\n",
      "2021-06-14 14:14:51,249 INFO Request is completed\n",
      "2021-06-14 14:14:51,251 INFO Downloading https://download-0000.copernicus-climate.eu/cache-compute-0000/cache/data6/adaptor.mars.external-1623636879.724459-14643-19-b23172ca-75bb-48ff-81d3-0f6efef1e164.nc to /media/nicolasf/END19101/ICU/data/CDS/operational/hindcasts/UKMO/TPRATE/ensemble_seas_forecasts_tprate_from_2003_06_UKMO.netcdf (2.2M)\n",
      "2021-06-14 14:15:03,098 INFO Download rate 189K/s   \n"
     ]
    },
    {
     "name": "stdout",
     "output_type": "stream",
     "text": [
      "\n",
      "/media/nicolasf/END19101/ICU/data/CDS/operational/hindcasts/UKMO/TPRATE/ensemble_seas_forecasts_tprate_from_2003_06_UKMO.netcdf downloaded OK\n",
      "\n",
      "\n",
      "attempting to download tprate for GCM METEO_FRANCE, for level surface, year 2003, month 6, in netcdf, attempt 1 of 3\n",
      "\n"
     ]
    },
    {
     "name": "stderr",
     "output_type": "stream",
     "text": [
      "2021-06-14 14:15:03,681 INFO Welcome to the CDS\n",
      "2021-06-14 14:15:03,682 INFO Sending request to https://cds.climate.copernicus.eu/api/v2/resources/seasonal-monthly-single-levels\n",
      "2021-06-14 14:15:03,979 INFO Request is queued\n",
      "2021-06-14 14:17:58,277 INFO Request is completed\n",
      "2021-06-14 14:17:58,278 INFO Downloading https://download-0007.copernicus-climate.eu/cache-compute-0007/cache/data7/adaptor.mars.external-1623637058.8394985-6903-1-187d194d-a098-4156-b654-bb37cbd5c6ae.nc to /media/nicolasf/END19101/ICU/data/CDS/operational/hindcasts/METEO_FRANCE/TPRATE/ensemble_seas_forecasts_tprate_from_2003_06_METEO_FRANCE.netcdf (2M)\n",
      "2021-06-14 14:18:05,014 INFO Download rate 296.8K/s \n"
     ]
    },
    {
     "name": "stdout",
     "output_type": "stream",
     "text": [
      "\n",
      "/media/nicolasf/END19101/ICU/data/CDS/operational/hindcasts/METEO_FRANCE/TPRATE/ensemble_seas_forecasts_tprate_from_2003_06_METEO_FRANCE.netcdf downloaded OK\n",
      "\n",
      "\n",
      "attempting to download tprate for GCM DWD, for level surface, year 2003, month 6, in netcdf, attempt 1 of 3\n",
      "\n"
     ]
    },
    {
     "name": "stderr",
     "output_type": "stream",
     "text": [
      "2021-06-14 14:18:05,592 INFO Welcome to the CDS\n",
      "2021-06-14 14:18:05,593 INFO Sending request to https://cds.climate.copernicus.eu/api/v2/resources/seasonal-monthly-single-levels\n",
      "2021-06-14 14:18:05,887 INFO Request is queued\n",
      "2021-06-14 14:19:23,436 INFO Request is completed\n",
      "2021-06-14 14:19:23,438 INFO Downloading https://download-0000.copernicus-climate.eu/cache-compute-0000/cache/data1/adaptor.mars.external-1623637147.2261415-17566-5-ff82132b-b599-4fb3-b468-3acfe80d2c51.nc to /media/nicolasf/END19101/ICU/data/CDS/operational/hindcasts/DWD/TPRATE/ensemble_seas_forecasts_tprate_from_2003_06_DWD.netcdf (2.3M)\n",
      "2021-06-14 14:19:34,294 INFO Download rate 221K/s   \n"
     ]
    },
    {
     "name": "stdout",
     "output_type": "stream",
     "text": [
      "\n",
      "/media/nicolasf/END19101/ICU/data/CDS/operational/hindcasts/DWD/TPRATE/ensemble_seas_forecasts_tprate_from_2003_06_DWD.netcdf downloaded OK\n",
      "\n",
      "\n",
      "attempting to download tprate for GCM CMCC, for level surface, year 2003, month 6, in netcdf, attempt 1 of 3\n",
      "\n"
     ]
    },
    {
     "name": "stderr",
     "output_type": "stream",
     "text": [
      "2021-06-14 14:19:34,876 INFO Welcome to the CDS\n",
      "2021-06-14 14:19:34,877 INFO Sending request to https://cds.climate.copernicus.eu/api/v2/resources/seasonal-monthly-single-levels\n",
      "2021-06-14 14:19:35,191 INFO Request is queued\n",
      "2021-06-14 14:20:52,747 INFO Request is completed\n",
      "2021-06-14 14:20:52,748 INFO Downloading https://download-0010.copernicus-climate.eu/cache-compute-0010/cache/data3/adaptor.mars.external-1623637237.873886-4814-3-43a1935e-ef06-487b-9190-2f5fd169b503.nc to /media/nicolasf/END19101/ICU/data/CDS/operational/hindcasts/CMCC/TPRATE/ensemble_seas_forecasts_tprate_from_2003_06_CMCC.netcdf (3.1M)\n",
      "2021-06-14 14:21:02,506 INFO Download rate 327.7K/s \n"
     ]
    },
    {
     "name": "stdout",
     "output_type": "stream",
     "text": [
      "\n",
      "/media/nicolasf/END19101/ICU/data/CDS/operational/hindcasts/CMCC/TPRATE/ensemble_seas_forecasts_tprate_from_2003_06_CMCC.netcdf downloaded OK\n",
      "\n",
      "\n",
      "attempting to download tprate for GCM NCEP, for level surface, year 2003, month 6, in netcdf, attempt 1 of 3\n",
      "\n"
     ]
    },
    {
     "name": "stderr",
     "output_type": "stream",
     "text": [
      "2021-06-14 14:21:03,083 INFO Welcome to the CDS\n",
      "2021-06-14 14:21:03,084 INFO Sending request to https://cds.climate.copernicus.eu/api/v2/resources/seasonal-monthly-single-levels\n",
      "2021-06-14 14:21:03,379 INFO Request is queued\n",
      "2021-06-14 14:21:12,674 INFO Request is running\n",
      "2021-06-14 14:21:18,028 INFO Request is completed\n",
      "2021-06-14 14:21:18,030 INFO Downloading https://download-0003.copernicus-climate.eu/cache-compute-0003/cache/data8/adaptor.mars.external-1623637272.1592548-25995-3-a9a8c887-b938-4ab7-b3ad-f92418e0eecd.nc to /media/nicolasf/END19101/ICU/data/CDS/operational/hindcasts/NCEP/TPRATE/ensemble_seas_forecasts_tprate_from_2003_06_NCEP.netcdf (1.9M)\n",
      "2021-06-14 14:21:24,475 INFO Download rate 297.9K/s \n"
     ]
    },
    {
     "name": "stdout",
     "output_type": "stream",
     "text": [
      "\n",
      "/media/nicolasf/END19101/ICU/data/CDS/operational/hindcasts/NCEP/TPRATE/ensemble_seas_forecasts_tprate_from_2003_06_NCEP.netcdf downloaded OK\n",
      "\n",
      "\n",
      "attempting to download tprate for GCM ECMWF, for level surface, year 2004, month 6, in netcdf, attempt 1 of 3\n",
      "\n"
     ]
    },
    {
     "name": "stderr",
     "output_type": "stream",
     "text": [
      "2021-06-14 14:21:25,059 INFO Welcome to the CDS\n",
      "2021-06-14 14:21:25,061 INFO Sending request to https://cds.climate.copernicus.eu/api/v2/resources/seasonal-monthly-single-levels\n",
      "2021-06-14 14:21:25,358 INFO Request is queued\n",
      "2021-06-14 14:22:42,916 INFO Request is completed\n",
      "2021-06-14 14:22:42,917 INFO Downloading https://download-0009.copernicus-climate.eu/cache-compute-0009/cache/data3/adaptor.mars.external-1623637339.1003346-16438-3-f207d2d7-c30f-4a0f-8f06-d2b95b331a10.nc to /media/nicolasf/END19101/ICU/data/CDS/operational/hindcasts/ECMWF/TPRATE/ensemble_seas_forecasts_tprate_from_2004_06_ECMWF.netcdf (2M)\n",
      "2021-06-14 14:22:51,617 INFO Download rate 229.8K/s \n"
     ]
    },
    {
     "name": "stdout",
     "output_type": "stream",
     "text": [
      "\n",
      "/media/nicolasf/END19101/ICU/data/CDS/operational/hindcasts/ECMWF/TPRATE/ensemble_seas_forecasts_tprate_from_2004_06_ECMWF.netcdf downloaded OK\n",
      "\n",
      "\n",
      "attempting to download tprate for GCM UKMO, for level surface, year 2004, month 6, in netcdf, attempt 1 of 3\n",
      "\n"
     ]
    },
    {
     "name": "stderr",
     "output_type": "stream",
     "text": [
      "2021-06-14 14:22:52,203 INFO Welcome to the CDS\n",
      "2021-06-14 14:22:52,204 INFO Sending request to https://cds.climate.copernicus.eu/api/v2/resources/seasonal-monthly-single-levels\n",
      "2021-06-14 14:22:52,499 INFO Request is queued\n",
      "2021-06-14 14:25:46,852 INFO Request is completed\n",
      "2021-06-14 14:25:46,854 INFO Downloading https://download-0009.copernicus-climate.eu/cache-compute-0009/cache/data0/adaptor.mars.external-1623637489.4148607-15051-15-321b4a69-0183-4931-b698-6ff1b6107e9c.nc to /media/nicolasf/END19101/ICU/data/CDS/operational/hindcasts/UKMO/TPRATE/ensemble_seas_forecasts_tprate_from_2004_06_UKMO.netcdf (2.2M)\n",
      "2021-06-14 14:25:57,046 INFO Download rate 219.7K/s \n"
     ]
    },
    {
     "name": "stdout",
     "output_type": "stream",
     "text": [
      "\n",
      "/media/nicolasf/END19101/ICU/data/CDS/operational/hindcasts/UKMO/TPRATE/ensemble_seas_forecasts_tprate_from_2004_06_UKMO.netcdf downloaded OK\n",
      "\n",
      "\n",
      "attempting to download tprate for GCM METEO_FRANCE, for level surface, year 2004, month 6, in netcdf, attempt 1 of 3\n",
      "\n"
     ]
    },
    {
     "name": "stderr",
     "output_type": "stream",
     "text": [
      "2021-06-14 14:25:58,760 INFO Welcome to the CDS\n",
      "2021-06-14 14:25:58,761 INFO Sending request to https://cds.climate.copernicus.eu/api/v2/resources/seasonal-monthly-single-levels\n",
      "2021-06-14 14:25:59,056 INFO Request is queued\n",
      "2021-06-14 14:27:55,387 INFO Request is completed\n",
      "2021-06-14 14:27:55,388 INFO Downloading https://download-0009.copernicus-climate.eu/cache-compute-0009/cache/data9/adaptor.mars.external-1623637657.1418896-18054-1-14d6ced4-9658-4439-92ee-485441311318.nc to /media/nicolasf/END19101/ICU/data/CDS/operational/hindcasts/METEO_FRANCE/TPRATE/ensemble_seas_forecasts_tprate_from_2004_06_METEO_FRANCE.netcdf (2M)\n",
      "2021-06-14 14:28:02,665 INFO Download rate 274.8K/s \n"
     ]
    },
    {
     "name": "stdout",
     "output_type": "stream",
     "text": [
      "\n",
      "/media/nicolasf/END19101/ICU/data/CDS/operational/hindcasts/METEO_FRANCE/TPRATE/ensemble_seas_forecasts_tprate_from_2004_06_METEO_FRANCE.netcdf downloaded OK\n",
      "\n",
      "\n",
      "attempting to download tprate for GCM DWD, for level surface, year 2004, month 6, in netcdf, attempt 1 of 3\n",
      "\n"
     ]
    },
    {
     "name": "stderr",
     "output_type": "stream",
     "text": [
      "2021-06-14 14:28:03,244 INFO Welcome to the CDS\n",
      "2021-06-14 14:28:03,244 INFO Sending request to https://cds.climate.copernicus.eu/api/v2/resources/seasonal-monthly-single-levels\n",
      "2021-06-14 14:28:03,539 INFO Request is queued\n",
      "2021-06-14 14:28:04,830 INFO Request is running\n",
      "2021-06-14 14:28:09,161 INFO Request is completed\n",
      "2021-06-14 14:28:09,162 INFO Downloading https://download-0001.copernicus-climate.eu/cache-compute-0001/cache/data7/adaptor.mars.external-1623637683.6794658-15161-1-5a0895fd-e8eb-4206-94fb-505bf531afe7.nc to /media/nicolasf/END19101/ICU/data/CDS/operational/hindcasts/DWD/TPRATE/ensemble_seas_forecasts_tprate_from_2004_06_DWD.netcdf (2.3M)\n",
      "2021-06-14 14:28:19,609 INFO Download rate 229.6K/s \n"
     ]
    },
    {
     "name": "stdout",
     "output_type": "stream",
     "text": [
      "\n",
      "/media/nicolasf/END19101/ICU/data/CDS/operational/hindcasts/DWD/TPRATE/ensemble_seas_forecasts_tprate_from_2004_06_DWD.netcdf downloaded OK\n",
      "\n",
      "\n",
      "attempting to download tprate for GCM CMCC, for level surface, year 2004, month 6, in netcdf, attempt 1 of 3\n",
      "\n"
     ]
    },
    {
     "name": "stderr",
     "output_type": "stream",
     "text": [
      "2021-06-14 14:28:20,189 INFO Welcome to the CDS\n",
      "2021-06-14 14:28:20,191 INFO Sending request to https://cds.climate.copernicus.eu/api/v2/resources/seasonal-monthly-single-levels\n",
      "2021-06-14 14:28:20,488 INFO Request is queued\n",
      "2021-06-14 14:29:38,046 INFO Request is completed\n",
      "2021-06-14 14:29:38,047 INFO Downloading https://download-0000.copernicus-climate.eu/cache-compute-0000/cache/data6/adaptor.mars.external-1623637764.3038611-19259-19-8def4286-e394-4da0-8ac3-550d6b3149ad.nc to /media/nicolasf/END19101/ICU/data/CDS/operational/hindcasts/CMCC/TPRATE/ensemble_seas_forecasts_tprate_from_2004_06_CMCC.netcdf (3.1M)\n",
      "2021-06-14 14:29:47,257 INFO Download rate 347.2K/s \n"
     ]
    },
    {
     "name": "stdout",
     "output_type": "stream",
     "text": [
      "\n",
      "/media/nicolasf/END19101/ICU/data/CDS/operational/hindcasts/CMCC/TPRATE/ensemble_seas_forecasts_tprate_from_2004_06_CMCC.netcdf downloaded OK\n",
      "\n",
      "\n",
      "attempting to download tprate for GCM NCEP, for level surface, year 2004, month 6, in netcdf, attempt 1 of 3\n",
      "\n"
     ]
    },
    {
     "name": "stderr",
     "output_type": "stream",
     "text": [
      "2021-06-14 14:29:47,833 INFO Welcome to the CDS\n",
      "2021-06-14 14:29:47,834 INFO Sending request to https://cds.climate.copernicus.eu/api/v2/resources/seasonal-monthly-single-levels\n",
      "2021-06-14 14:29:48,137 INFO Request is queued\n",
      "2021-06-14 14:31:05,694 INFO Request is completed\n",
      "2021-06-14 14:31:05,695 INFO Downloading https://download-0002.copernicus-climate.eu/cache-compute-0002/cache/data5/adaptor.mars.external-1623637845.2453005-1841-7-b201b17d-3475-4bde-a441-3edb480c092e.nc to /media/nicolasf/END19101/ICU/data/CDS/operational/hindcasts/NCEP/TPRATE/ensemble_seas_forecasts_tprate_from_2004_06_NCEP.netcdf (1.9M)\n",
      "2021-06-14 14:31:13,242 INFO Download rate 254.3K/s \n"
     ]
    },
    {
     "name": "stdout",
     "output_type": "stream",
     "text": [
      "\n",
      "/media/nicolasf/END19101/ICU/data/CDS/operational/hindcasts/NCEP/TPRATE/ensemble_seas_forecasts_tprate_from_2004_06_NCEP.netcdf downloaded OK\n",
      "\n",
      "\n",
      "attempting to download tprate for GCM ECMWF, for level surface, year 2005, month 6, in netcdf, attempt 1 of 3\n",
      "\n"
     ]
    },
    {
     "name": "stderr",
     "output_type": "stream",
     "text": [
      "2021-06-14 14:31:13,820 INFO Welcome to the CDS\n",
      "2021-06-14 14:31:13,822 INFO Sending request to https://cds.climate.copernicus.eu/api/v2/resources/seasonal-monthly-single-levels\n",
      "2021-06-14 14:31:14,123 INFO Request is queued\n",
      "2021-06-14 14:32:05,742 INFO Request is completed\n",
      "2021-06-14 14:32:05,744 INFO Downloading https://download-0001.copernicus-climate.eu/cache-compute-0001/cache/data6/adaptor.mars.external-1623637911.7614532-14535-20-7a4c743b-f142-40b3-b1e8-774c6121dfb4.nc to /media/nicolasf/END19101/ICU/data/CDS/operational/hindcasts/ECMWF/TPRATE/ensemble_seas_forecasts_tprate_from_2005_06_ECMWF.netcdf (2M)\n",
      "2021-06-14 14:32:22,398 INFO Download rate 120.1K/s \n"
     ]
    },
    {
     "name": "stdout",
     "output_type": "stream",
     "text": [
      "\n",
      "/media/nicolasf/END19101/ICU/data/CDS/operational/hindcasts/ECMWF/TPRATE/ensemble_seas_forecasts_tprate_from_2005_06_ECMWF.netcdf downloaded OK\n",
      "\n",
      "\n",
      "attempting to download tprate for GCM UKMO, for level surface, year 2005, month 6, in netcdf, attempt 1 of 3\n",
      "\n"
     ]
    },
    {
     "name": "stderr",
     "output_type": "stream",
     "text": [
      "2021-06-14 14:32:22,982 INFO Welcome to the CDS\n",
      "2021-06-14 14:32:22,982 INFO Sending request to https://cds.climate.copernicus.eu/api/v2/resources/seasonal-monthly-single-levels\n",
      "2021-06-14 14:32:23,326 INFO Request is queued\n",
      "2021-06-14 14:33:40,884 INFO Request is completed\n",
      "2021-06-14 14:33:40,885 INFO Downloading https://download-0007.copernicus-climate.eu/cache-compute-0007/cache/data0/adaptor.mars.external-1623638017.2136867-10960-9-e8c97d24-4c11-4f4b-bfdf-4f6be659a88b.nc to /media/nicolasf/END19101/ICU/data/CDS/operational/hindcasts/UKMO/TPRATE/ensemble_seas_forecasts_tprate_from_2005_06_UKMO.netcdf (2.2M)\n",
      "2021-06-14 14:33:48,149 INFO Download rate 308.3K/s \n"
     ]
    },
    {
     "name": "stdout",
     "output_type": "stream",
     "text": [
      "\n",
      "/media/nicolasf/END19101/ICU/data/CDS/operational/hindcasts/UKMO/TPRATE/ensemble_seas_forecasts_tprate_from_2005_06_UKMO.netcdf downloaded OK\n",
      "\n",
      "\n",
      "attempting to download tprate for GCM METEO_FRANCE, for level surface, year 2005, month 6, in netcdf, attempt 1 of 3\n",
      "\n"
     ]
    },
    {
     "name": "stderr",
     "output_type": "stream",
     "text": [
      "2021-06-14 14:33:48,727 INFO Welcome to the CDS\n",
      "2021-06-14 14:33:48,727 INFO Sending request to https://cds.climate.copernicus.eu/api/v2/resources/seasonal-monthly-single-levels\n",
      "2021-06-14 14:33:49,022 INFO Request is queued\n",
      "2021-06-14 14:34:11,557 INFO Request is running\n",
      "2021-06-14 14:34:23,248 INFO Request is completed\n",
      "2021-06-14 14:34:23,250 INFO Downloading https://download-0004.copernicus-climate.eu/cache-compute-0004/cache/data9/adaptor.mars.external-1623638048.7031527-21015-6-62769da2-c9e8-40ca-8465-d02b9d62a9f6.nc to /media/nicolasf/END19101/ICU/data/CDS/operational/hindcasts/METEO_FRANCE/TPRATE/ensemble_seas_forecasts_tprate_from_2005_06_METEO_FRANCE.netcdf (2M)\n",
      "2021-06-14 14:34:31,361 INFO Download rate 246.6K/s \n"
     ]
    },
    {
     "name": "stdout",
     "output_type": "stream",
     "text": [
      "\n",
      "/media/nicolasf/END19101/ICU/data/CDS/operational/hindcasts/METEO_FRANCE/TPRATE/ensemble_seas_forecasts_tprate_from_2005_06_METEO_FRANCE.netcdf downloaded OK\n",
      "\n",
      "\n",
      "attempting to download tprate for GCM DWD, for level surface, year 2005, month 6, in netcdf, attempt 1 of 3\n",
      "\n"
     ]
    },
    {
     "name": "stderr",
     "output_type": "stream",
     "text": [
      "2021-06-14 14:34:31,933 INFO Welcome to the CDS\n",
      "2021-06-14 14:34:31,935 INFO Sending request to https://cds.climate.copernicus.eu/api/v2/resources/seasonal-monthly-single-levels\n",
      "2021-06-14 14:34:32,230 INFO Request is queued\n",
      "2021-06-14 14:37:26,568 INFO Request is completed\n",
      "2021-06-14 14:37:26,571 INFO Downloading https://download-0012.copernicus-climate.eu/cache-compute-0012/cache/data5/adaptor.mars.external-1623638229.3833442-1648-23-ad856275-f5a9-493d-94b0-6d3e6ff07548.nc to /media/nicolasf/END19101/ICU/data/CDS/operational/hindcasts/DWD/TPRATE/ensemble_seas_forecasts_tprate_from_2005_06_DWD.netcdf (2.3M)\n",
      "2021-06-14 14:37:34,310 INFO Download rate 310K/s   \n"
     ]
    },
    {
     "name": "stdout",
     "output_type": "stream",
     "text": [
      "\n",
      "/media/nicolasf/END19101/ICU/data/CDS/operational/hindcasts/DWD/TPRATE/ensemble_seas_forecasts_tprate_from_2005_06_DWD.netcdf downloaded OK\n",
      "\n",
      "\n",
      "attempting to download tprate for GCM CMCC, for level surface, year 2005, month 6, in netcdf, attempt 1 of 3\n",
      "\n"
     ]
    },
    {
     "name": "stderr",
     "output_type": "stream",
     "text": [
      "2021-06-14 14:37:34,893 INFO Welcome to the CDS\n",
      "2021-06-14 14:37:34,894 INFO Sending request to https://cds.climate.copernicus.eu/api/v2/resources/seasonal-monthly-single-levels\n",
      "2021-06-14 14:37:35,212 INFO Request is queued\n",
      "2021-06-14 14:38:53,694 INFO Request is completed\n",
      "2021-06-14 14:38:53,696 INFO Downloading https://download-0015.copernicus-climate.eu/cache-compute-0015/cache/data1/adaptor.mars.external-1623638318.4898012-27440-20-35116575-f8dd-4710-871c-be2effe563b7.nc to /media/nicolasf/END19101/ICU/data/CDS/operational/hindcasts/CMCC/TPRATE/ensemble_seas_forecasts_tprate_from_2005_06_CMCC.netcdf (3.1M)\n",
      "2021-06-14 14:39:07,026 INFO Download rate 239.9K/s \n"
     ]
    },
    {
     "name": "stdout",
     "output_type": "stream",
     "text": [
      "\n",
      "/media/nicolasf/END19101/ICU/data/CDS/operational/hindcasts/CMCC/TPRATE/ensemble_seas_forecasts_tprate_from_2005_06_CMCC.netcdf downloaded OK\n",
      "\n",
      "\n",
      "attempting to download tprate for GCM NCEP, for level surface, year 2005, month 6, in netcdf, attempt 1 of 3\n",
      "\n"
     ]
    },
    {
     "name": "stderr",
     "output_type": "stream",
     "text": [
      "2021-06-14 14:39:07,607 INFO Welcome to the CDS\n",
      "2021-06-14 14:39:07,608 INFO Sending request to https://cds.climate.copernicus.eu/api/v2/resources/seasonal-monthly-single-levels\n",
      "2021-06-14 14:39:07,904 INFO Request is queued\n",
      "2021-06-14 14:40:25,470 INFO Request is running\n",
      "2021-06-14 14:41:04,241 INFO Request is completed\n",
      "2021-06-14 14:41:04,242 INFO Downloading https://download-0002.copernicus-climate.eu/cache-compute-0002/cache/data5/adaptor.mars.external-1623638423.6103864-8003-15-abf61db8-79e2-455d-86d7-d5070cb58bab.nc to /media/nicolasf/END19101/ICU/data/CDS/operational/hindcasts/NCEP/TPRATE/ensemble_seas_forecasts_tprate_from_2005_06_NCEP.netcdf (1.9M)\n",
      "2021-06-14 14:41:12,051 INFO Download rate 245.8K/s \n"
     ]
    },
    {
     "name": "stdout",
     "output_type": "stream",
     "text": [
      "\n",
      "/media/nicolasf/END19101/ICU/data/CDS/operational/hindcasts/NCEP/TPRATE/ensemble_seas_forecasts_tprate_from_2005_06_NCEP.netcdf downloaded OK\n",
      "\n",
      "\n",
      "attempting to download tprate for GCM ECMWF, for level surface, year 2006, month 6, in netcdf, attempt 1 of 3\n",
      "\n"
     ]
    },
    {
     "name": "stderr",
     "output_type": "stream",
     "text": [
      "2021-06-14 14:41:12,643 INFO Welcome to the CDS\n",
      "2021-06-14 14:41:12,644 INFO Sending request to https://cds.climate.copernicus.eu/api/v2/resources/seasonal-monthly-single-levels\n",
      "2021-06-14 14:41:12,936 INFO Request is queued\n",
      "2021-06-14 14:43:09,254 INFO Request is completed\n",
      "2021-06-14 14:43:09,255 INFO Downloading https://download-0009.copernicus-climate.eu/cache-compute-0009/cache/data3/adaptor.mars.external-1623638579.7698717-22223-2-0c7daf9a-8f9f-4b22-8922-f3513991c1cc.nc to /media/nicolasf/END19101/ICU/data/CDS/operational/hindcasts/ECMWF/TPRATE/ensemble_seas_forecasts_tprate_from_2006_06_ECMWF.netcdf (2M)\n",
      "2021-06-14 14:43:20,121 INFO Download rate 184K/s   \n"
     ]
    },
    {
     "name": "stdout",
     "output_type": "stream",
     "text": [
      "\n",
      "/media/nicolasf/END19101/ICU/data/CDS/operational/hindcasts/ECMWF/TPRATE/ensemble_seas_forecasts_tprate_from_2006_06_ECMWF.netcdf downloaded OK\n",
      "\n",
      "\n",
      "attempting to download tprate for GCM UKMO, for level surface, year 2006, month 6, in netcdf, attempt 1 of 3\n",
      "\n"
     ]
    },
    {
     "name": "stderr",
     "output_type": "stream",
     "text": [
      "2021-06-14 14:43:20,698 INFO Welcome to the CDS\n",
      "2021-06-14 14:43:20,700 INFO Sending request to https://cds.climate.copernicus.eu/api/v2/resources/seasonal-monthly-single-levels\n",
      "2021-06-14 14:43:20,999 INFO Request is queued\n",
      "2021-06-14 14:46:15,313 INFO Request is completed\n",
      "2021-06-14 14:46:15,315 INFO Downloading https://download-0012.copernicus-climate.eu/cache-compute-0012/cache/data1/adaptor.mars.external-1623638755.1810777-14313-1-2352154f-b3dc-4fb9-b748-e390533ca4ad.nc to /media/nicolasf/END19101/ICU/data/CDS/operational/hindcasts/UKMO/TPRATE/ensemble_seas_forecasts_tprate_from_2006_06_UKMO.netcdf (2.2M)\n",
      "2021-06-14 14:46:23,397 INFO Download rate 277.1K/s \n"
     ]
    },
    {
     "name": "stdout",
     "output_type": "stream",
     "text": [
      "\n",
      "/media/nicolasf/END19101/ICU/data/CDS/operational/hindcasts/UKMO/TPRATE/ensemble_seas_forecasts_tprate_from_2006_06_UKMO.netcdf downloaded OK\n",
      "\n",
      "\n",
      "attempting to download tprate for GCM METEO_FRANCE, for level surface, year 2006, month 6, in netcdf, attempt 1 of 3\n",
      "\n"
     ]
    },
    {
     "name": "stderr",
     "output_type": "stream",
     "text": [
      "2021-06-14 14:46:23,984 INFO Welcome to the CDS\n",
      "2021-06-14 14:46:23,985 INFO Sending request to https://cds.climate.copernicus.eu/api/v2/resources/seasonal-monthly-single-levels\n",
      "2021-06-14 14:46:24,298 INFO Request is queued\n",
      "2021-06-14 14:47:41,850 INFO Request is completed\n",
      "2021-06-14 14:47:41,851 INFO Downloading https://download-0006.copernicus-climate.eu/cache-compute-0006/cache/data5/adaptor.mars.external-1623638836.5710354-16694-13-effc4b2f-e423-40b5-8bbb-b365f50d78b1.nc to /media/nicolasf/END19101/ICU/data/CDS/operational/hindcasts/METEO_FRANCE/TPRATE/ensemble_seas_forecasts_tprate_from_2006_06_METEO_FRANCE.netcdf (2M)\n",
      "2021-06-14 14:47:50,170 INFO Download rate 240.4K/s \n"
     ]
    },
    {
     "name": "stdout",
     "output_type": "stream",
     "text": [
      "\n",
      "/media/nicolasf/END19101/ICU/data/CDS/operational/hindcasts/METEO_FRANCE/TPRATE/ensemble_seas_forecasts_tprate_from_2006_06_METEO_FRANCE.netcdf downloaded OK\n",
      "\n",
      "\n",
      "attempting to download tprate for GCM DWD, for level surface, year 2006, month 6, in netcdf, attempt 1 of 3\n",
      "\n"
     ]
    },
    {
     "name": "stderr",
     "output_type": "stream",
     "text": [
      "2021-06-14 14:47:50,753 INFO Welcome to the CDS\n",
      "2021-06-14 14:47:50,753 INFO Sending request to https://cds.climate.copernicus.eu/api/v2/resources/seasonal-monthly-single-levels\n",
      "2021-06-14 14:47:51,049 INFO Request is queued\n",
      "2021-06-14 14:54:14,628 INFO Request is completed\n",
      "2021-06-14 14:54:14,629 INFO Downloading https://download-0015.copernicus-climate.eu/cache-compute-0015/cache/data2/adaptor.mars.external-1623639176.0393639-6609-7-1dc10eab-4a6d-42fd-9b75-f6ba14a6ef9b.nc to /media/nicolasf/END19101/ICU/data/CDS/operational/hindcasts/DWD/TPRATE/ensemble_seas_forecasts_tprate_from_2006_06_DWD.netcdf (2.3M)\n",
      "2021-06-14 14:54:28,113 INFO Download rate 177.9K/s \n"
     ]
    },
    {
     "name": "stdout",
     "output_type": "stream",
     "text": [
      "\n",
      "/media/nicolasf/END19101/ICU/data/CDS/operational/hindcasts/DWD/TPRATE/ensemble_seas_forecasts_tprate_from_2006_06_DWD.netcdf downloaded OK\n",
      "\n",
      "\n",
      "attempting to download tprate for GCM CMCC, for level surface, year 2006, month 6, in netcdf, attempt 1 of 3\n",
      "\n"
     ]
    },
    {
     "name": "stderr",
     "output_type": "stream",
     "text": [
      "2021-06-14 14:54:28,690 INFO Welcome to the CDS\n",
      "2021-06-14 14:54:28,690 INFO Sending request to https://cds.climate.copernicus.eu/api/v2/resources/seasonal-monthly-single-levels\n",
      "2021-06-14 14:54:28,988 INFO Request is queued\n",
      "2021-06-14 14:54:51,522 INFO Request is running\n",
      "2021-06-14 14:55:03,213 INFO Request is completed\n",
      "2021-06-14 14:55:03,214 INFO Downloading https://download-0013.copernicus-climate.eu/cache-compute-0013/cache/data4/adaptor.mars.external-1623639289.1516733-10752-22-42428298-7de3-465f-b720-a3277fd084a0.nc to /media/nicolasf/END19101/ICU/data/CDS/operational/hindcasts/CMCC/TPRATE/ensemble_seas_forecasts_tprate_from_2006_06_CMCC.netcdf (3.1M)\n",
      "2021-06-14 14:55:18,117 INFO Download rate 214.6K/s \n"
     ]
    },
    {
     "name": "stdout",
     "output_type": "stream",
     "text": [
      "\n",
      "/media/nicolasf/END19101/ICU/data/CDS/operational/hindcasts/CMCC/TPRATE/ensemble_seas_forecasts_tprate_from_2006_06_CMCC.netcdf downloaded OK\n",
      "\n",
      "\n",
      "attempting to download tprate for GCM NCEP, for level surface, year 2006, month 6, in netcdf, attempt 1 of 3\n",
      "\n"
     ]
    },
    {
     "name": "stderr",
     "output_type": "stream",
     "text": [
      "2021-06-14 14:55:18,699 INFO Welcome to the CDS\n",
      "2021-06-14 14:55:18,700 INFO Sending request to https://cds.climate.copernicus.eu/api/v2/resources/seasonal-monthly-single-levels\n",
      "2021-06-14 14:55:19,009 INFO Request is queued\n",
      "2021-06-14 14:55:34,141 INFO Request is completed\n",
      "2021-06-14 14:55:34,141 INFO Downloading https://download-0001.copernicus-climate.eu/cache-compute-0001/cache/data2/adaptor.mars.external-1623639330.0250854-27264-6-2d27fe54-2143-4819-af9b-4f0dbe8f573f.nc to /media/nicolasf/END19101/ICU/data/CDS/operational/hindcasts/NCEP/TPRATE/ensemble_seas_forecasts_tprate_from_2006_06_NCEP.netcdf (1.9M)\n",
      "2021-06-14 14:55:40,894 INFO Download rate 284.3K/s \n"
     ]
    },
    {
     "name": "stdout",
     "output_type": "stream",
     "text": [
      "\n",
      "/media/nicolasf/END19101/ICU/data/CDS/operational/hindcasts/NCEP/TPRATE/ensemble_seas_forecasts_tprate_from_2006_06_NCEP.netcdf downloaded OK\n",
      "\n",
      "\n",
      "attempting to download tprate for GCM ECMWF, for level surface, year 2007, month 6, in netcdf, attempt 1 of 3\n",
      "\n"
     ]
    },
    {
     "name": "stderr",
     "output_type": "stream",
     "text": [
      "2021-06-14 14:55:41,479 INFO Welcome to the CDS\n",
      "2021-06-14 14:55:41,481 INFO Sending request to https://cds.climate.copernicus.eu/api/v2/resources/seasonal-monthly-single-levels\n",
      "2021-06-14 14:55:41,775 INFO Request is queued\n",
      "2021-06-14 14:58:36,109 INFO Request is running\n",
      "2021-06-14 15:00:03,829 INFO Request is completed\n",
      "2021-06-14 15:00:03,831 INFO Downloading https://download-0004.copernicus-climate.eu/cache-compute-0004/cache/data7/adaptor.mars.external-1623639512.3939247-31620-15-e7ca1199-74fd-4c34-a657-8f2de50d9195.nc to /media/nicolasf/END19101/ICU/data/CDS/operational/hindcasts/ECMWF/TPRATE/ensemble_seas_forecasts_tprate_from_2007_06_ECMWF.netcdf (2M)\n",
      "2021-06-14 15:00:10,493 INFO Download rate 300.1K/s \n"
     ]
    },
    {
     "name": "stdout",
     "output_type": "stream",
     "text": [
      "\n",
      "/media/nicolasf/END19101/ICU/data/CDS/operational/hindcasts/ECMWF/TPRATE/ensemble_seas_forecasts_tprate_from_2007_06_ECMWF.netcdf downloaded OK\n",
      "\n",
      "\n",
      "attempting to download tprate for GCM UKMO, for level surface, year 2007, month 6, in netcdf, attempt 1 of 3\n",
      "\n"
     ]
    },
    {
     "name": "stderr",
     "output_type": "stream",
     "text": [
      "2021-06-14 15:00:11,072 INFO Welcome to the CDS\n",
      "2021-06-14 15:00:11,073 INFO Sending request to https://cds.climate.copernicus.eu/api/v2/resources/seasonal-monthly-single-levels\n",
      "2021-06-14 15:00:11,365 INFO Request is queued\n",
      "2021-06-14 15:02:07,710 INFO Request is completed\n",
      "2021-06-14 15:02:07,711 INFO Downloading https://download-0007.copernicus-climate.eu/cache-compute-0007/cache/data7/adaptor.mars.external-1623639715.4018972-23969-1-a3cd4366-ead7-426c-879d-bf7d4ac8538f.nc to /media/nicolasf/END19101/ICU/data/CDS/operational/hindcasts/UKMO/TPRATE/ensemble_seas_forecasts_tprate_from_2007_06_UKMO.netcdf (2.2M)\n",
      "2021-06-14 15:02:14,938 INFO Download rate 309.8K/s \n"
     ]
    },
    {
     "name": "stdout",
     "output_type": "stream",
     "text": [
      "\n",
      "/media/nicolasf/END19101/ICU/data/CDS/operational/hindcasts/UKMO/TPRATE/ensemble_seas_forecasts_tprate_from_2007_06_UKMO.netcdf downloaded OK\n",
      "\n",
      "\n",
      "attempting to download tprate for GCM METEO_FRANCE, for level surface, year 2007, month 6, in netcdf, attempt 1 of 3\n",
      "\n"
     ]
    },
    {
     "name": "stderr",
     "output_type": "stream",
     "text": [
      "2021-06-14 15:02:15,522 INFO Welcome to the CDS\n",
      "2021-06-14 15:02:15,524 INFO Sending request to https://cds.climate.copernicus.eu/api/v2/resources/seasonal-monthly-single-levels\n",
      "2021-06-14 15:02:15,832 INFO Request is queued\n",
      "2021-06-14 15:02:18,918 INFO Request is running\n",
      "2021-06-14 15:02:21,463 INFO Request is completed\n",
      "2021-06-14 15:02:21,466 INFO Downloading https://download-0003.copernicus-climate.eu/cache-compute-0003/cache/data9/adaptor.mars.external-1623639738.3899975-9783-14-abca81a6-afc1-46a5-81e1-af019c58037d.nc to /media/nicolasf/END19101/ICU/data/CDS/operational/hindcasts/METEO_FRANCE/TPRATE/ensemble_seas_forecasts_tprate_from_2007_06_METEO_FRANCE.netcdf (2M)\n",
      "2021-06-14 15:02:27,939 INFO Download rate 308.9K/s \n"
     ]
    },
    {
     "name": "stdout",
     "output_type": "stream",
     "text": [
      "\n",
      "/media/nicolasf/END19101/ICU/data/CDS/operational/hindcasts/METEO_FRANCE/TPRATE/ensemble_seas_forecasts_tprate_from_2007_06_METEO_FRANCE.netcdf downloaded OK\n",
      "\n",
      "\n",
      "attempting to download tprate for GCM DWD, for level surface, year 2007, month 6, in netcdf, attempt 1 of 3\n",
      "\n"
     ]
    },
    {
     "name": "stderr",
     "output_type": "stream",
     "text": [
      "2021-06-14 15:02:28,528 INFO Welcome to the CDS\n",
      "2021-06-14 15:02:28,529 INFO Sending request to https://cds.climate.copernicus.eu/api/v2/resources/seasonal-monthly-single-levels\n",
      "2021-06-14 15:02:28,828 INFO Request is queued\n",
      "2021-06-14 15:06:50,941 INFO Request is completed\n",
      "2021-06-14 15:06:50,943 INFO Downloading https://download-0000.copernicus-climate.eu/cache-compute-0000/cache/data7/adaptor.mars.external-1623639995.157205-1203-9-b3083036-4686-4ad5-a401-2c761ac2780f.nc to /media/nicolasf/END19101/ICU/data/CDS/operational/hindcasts/DWD/TPRATE/ensemble_seas_forecasts_tprate_from_2007_06_DWD.netcdf (2.3M)\n",
      "2021-06-14 15:06:58,669 INFO Download rate 310.5K/s \n"
     ]
    },
    {
     "name": "stdout",
     "output_type": "stream",
     "text": [
      "\n",
      "/media/nicolasf/END19101/ICU/data/CDS/operational/hindcasts/DWD/TPRATE/ensemble_seas_forecasts_tprate_from_2007_06_DWD.netcdf downloaded OK\n",
      "\n",
      "\n",
      "attempting to download tprate for GCM CMCC, for level surface, year 2007, month 6, in netcdf, attempt 1 of 3\n",
      "\n"
     ]
    },
    {
     "name": "stderr",
     "output_type": "stream",
     "text": [
      "2021-06-14 15:06:59,244 INFO Welcome to the CDS\n",
      "2021-06-14 15:06:59,245 INFO Sending request to https://cds.climate.copernicus.eu/api/v2/resources/seasonal-monthly-single-levels\n",
      "2021-06-14 15:06:59,543 INFO Request is queued\n",
      "2021-06-14 15:07:51,167 INFO Request is completed\n",
      "2021-06-14 15:07:51,168 INFO Downloading https://download-0014.copernicus-climate.eu/cache-compute-0014/cache/data8/adaptor.mars.external-1623640061.6688144-15356-19-35ee0b9b-9cd5-4e67-9e29-2438cc7b5c51.nc to /media/nicolasf/END19101/ICU/data/CDS/operational/hindcasts/CMCC/TPRATE/ensemble_seas_forecasts_tprate_from_2007_06_CMCC.netcdf (3.1M)\n",
      "2021-06-14 15:08:01,918 INFO Download rate 297.5K/s \n"
     ]
    },
    {
     "name": "stdout",
     "output_type": "stream",
     "text": [
      "\n",
      "/media/nicolasf/END19101/ICU/data/CDS/operational/hindcasts/CMCC/TPRATE/ensemble_seas_forecasts_tprate_from_2007_06_CMCC.netcdf downloaded OK\n",
      "\n",
      "\n",
      "attempting to download tprate for GCM NCEP, for level surface, year 2007, month 6, in netcdf, attempt 1 of 3\n",
      "\n"
     ]
    },
    {
     "name": "stderr",
     "output_type": "stream",
     "text": [
      "2021-06-14 15:08:02,510 INFO Welcome to the CDS\n",
      "2021-06-14 15:08:02,510 INFO Sending request to https://cds.climate.copernicus.eu/api/v2/resources/seasonal-monthly-single-levels\n",
      "2021-06-14 15:08:02,826 INFO Request is queued\n",
      "2021-06-14 15:08:54,441 INFO Request is running\n",
      "2021-06-14 15:12:24,847 INFO Request is completed\n",
      "2021-06-14 15:12:24,848 INFO Downloading https://download-0013.copernicus-climate.eu/cache-compute-0013/cache/data3/adaptor.mars.external-1623640130.0020885-21043-3-04f80fb7-b4d7-4f2c-b488-d015bc0f8626.nc to /media/nicolasf/END19101/ICU/data/CDS/operational/hindcasts/NCEP/TPRATE/ensemble_seas_forecasts_tprate_from_2007_06_NCEP.netcdf (1.9M)\n",
      "2021-06-14 15:12:32,127 INFO Download rate 263.7K/s \n"
     ]
    },
    {
     "name": "stdout",
     "output_type": "stream",
     "text": [
      "\n",
      "/media/nicolasf/END19101/ICU/data/CDS/operational/hindcasts/NCEP/TPRATE/ensemble_seas_forecasts_tprate_from_2007_06_NCEP.netcdf downloaded OK\n",
      "\n",
      "\n",
      "attempting to download tprate for GCM ECMWF, for level surface, year 2008, month 6, in netcdf, attempt 1 of 3\n",
      "\n"
     ]
    },
    {
     "name": "stderr",
     "output_type": "stream",
     "text": [
      "2021-06-14 15:12:32,711 INFO Welcome to the CDS\n",
      "2021-06-14 15:12:32,713 INFO Sending request to https://cds.climate.copernicus.eu/api/v2/resources/seasonal-monthly-single-levels\n",
      "2021-06-14 15:12:33,014 INFO Request is queued\n",
      "2021-06-14 15:12:34,309 INFO Request is running\n",
      "2021-06-14 15:12:38,647 INFO Request is completed\n",
      "2021-06-14 15:12:38,649 INFO Downloading https://download-0010.copernicus-climate.eu/cache-compute-0010/cache/data2/adaptor.mars.external-1623640353.4067557-25851-7-9acc6dde-6291-4e57-b670-7fd503bb8c91.nc to /media/nicolasf/END19101/ICU/data/CDS/operational/hindcasts/ECMWF/TPRATE/ensemble_seas_forecasts_tprate_from_2008_06_ECMWF.netcdf (2M)\n",
      "2021-06-14 15:12:47,111 INFO Download rate 236.3K/s \n"
     ]
    },
    {
     "name": "stdout",
     "output_type": "stream",
     "text": [
      "\n",
      "/media/nicolasf/END19101/ICU/data/CDS/operational/hindcasts/ECMWF/TPRATE/ensemble_seas_forecasts_tprate_from_2008_06_ECMWF.netcdf downloaded OK\n",
      "\n",
      "\n",
      "attempting to download tprate for GCM UKMO, for level surface, year 2008, month 6, in netcdf, attempt 1 of 3\n",
      "\n"
     ]
    },
    {
     "name": "stderr",
     "output_type": "stream",
     "text": [
      "2021-06-14 15:12:47,695 INFO Welcome to the CDS\n",
      "2021-06-14 15:12:47,695 INFO Sending request to https://cds.climate.copernicus.eu/api/v2/resources/seasonal-monthly-single-levels\n",
      "2021-06-14 15:12:48,001 INFO Request is queued\n",
      "2021-06-14 15:13:22,237 INFO Request is completed\n",
      "2021-06-14 15:13:22,239 INFO Downloading https://download-0015.copernicus-climate.eu/cache-compute-0015/cache/data1/adaptor.mars.external-1623640392.4615352-17305-3-3699559a-d3fb-4695-95a5-8e4e787729ee.nc to /media/nicolasf/END19101/ICU/data/CDS/operational/hindcasts/UKMO/TPRATE/ensemble_seas_forecasts_tprate_from_2008_06_UKMO.netcdf (2.2M)\n",
      "2021-06-14 15:13:29,255 INFO Download rate 319.2K/s \n"
     ]
    },
    {
     "name": "stdout",
     "output_type": "stream",
     "text": [
      "\n",
      "/media/nicolasf/END19101/ICU/data/CDS/operational/hindcasts/UKMO/TPRATE/ensemble_seas_forecasts_tprate_from_2008_06_UKMO.netcdf downloaded OK\n",
      "\n",
      "\n",
      "attempting to download tprate for GCM METEO_FRANCE, for level surface, year 2008, month 6, in netcdf, attempt 1 of 3\n",
      "\n"
     ]
    },
    {
     "name": "stderr",
     "output_type": "stream",
     "text": [
      "2021-06-14 15:13:29,840 INFO Welcome to the CDS\n",
      "2021-06-14 15:13:29,841 INFO Sending request to https://cds.climate.copernicus.eu/api/v2/resources/seasonal-monthly-single-levels\n",
      "2021-06-14 15:13:30,138 INFO Request is queued\n",
      "2021-06-14 15:14:47,722 INFO Request is completed\n",
      "2021-06-14 15:14:47,724 INFO Downloading https://download-0004.copernicus-climate.eu/cache-compute-0004/cache/data8/adaptor.mars.external-1623640470.605234-5314-3-032cb195-e7b6-4c07-b98a-3fbbf690191a.nc to /media/nicolasf/END19101/ICU/data/CDS/operational/hindcasts/METEO_FRANCE/TPRATE/ensemble_seas_forecasts_tprate_from_2008_06_METEO_FRANCE.netcdf (2M)\n",
      "2021-06-14 15:14:54,727 INFO Download rate 285.6K/s \n"
     ]
    },
    {
     "name": "stdout",
     "output_type": "stream",
     "text": [
      "\n",
      "/media/nicolasf/END19101/ICU/data/CDS/operational/hindcasts/METEO_FRANCE/TPRATE/ensemble_seas_forecasts_tprate_from_2008_06_METEO_FRANCE.netcdf downloaded OK\n",
      "\n",
      "\n",
      "attempting to download tprate for GCM DWD, for level surface, year 2008, month 6, in netcdf, attempt 1 of 3\n",
      "\n"
     ]
    },
    {
     "name": "stderr",
     "output_type": "stream",
     "text": [
      "2021-06-14 15:14:55,313 INFO Welcome to the CDS\n",
      "2021-06-14 15:14:55,315 INFO Sending request to https://cds.climate.copernicus.eu/api/v2/resources/seasonal-monthly-single-levels\n",
      "2021-06-14 15:14:55,626 INFO Request is queued\n",
      "2021-06-14 15:16:13,200 INFO Request is completed\n",
      "2021-06-14 15:16:13,203 INFO Downloading https://download-0006.copernicus-climate.eu/cache-compute-0006/cache/data3/adaptor.mars.external-1623640563.703029-30016-27-7874a498-cf36-4512-b0e3-844bdd2151d1.nc to /media/nicolasf/END19101/ICU/data/CDS/operational/hindcasts/DWD/TPRATE/ensemble_seas_forecasts_tprate_from_2008_06_DWD.netcdf (2.3M)\n",
      "2021-06-14 15:16:23,455 INFO Download rate 234K/s   \n"
     ]
    },
    {
     "name": "stdout",
     "output_type": "stream",
     "text": [
      "\n",
      "/media/nicolasf/END19101/ICU/data/CDS/operational/hindcasts/DWD/TPRATE/ensemble_seas_forecasts_tprate_from_2008_06_DWD.netcdf downloaded OK\n",
      "\n",
      "\n",
      "attempting to download tprate for GCM CMCC, for level surface, year 2008, month 6, in netcdf, attempt 1 of 3\n",
      "\n"
     ]
    },
    {
     "name": "stderr",
     "output_type": "stream",
     "text": [
      "2021-06-14 15:16:24,037 INFO Welcome to the CDS\n",
      "2021-06-14 15:16:24,040 INFO Sending request to https://cds.climate.copernicus.eu/api/v2/resources/seasonal-monthly-single-levels\n",
      "2021-06-14 15:16:24,343 INFO Request is queued\n",
      "2021-06-14 15:16:46,888 INFO Request is running\n",
      "2021-06-14 15:16:58,581 INFO Request is completed\n",
      "2021-06-14 15:16:58,583 INFO Downloading https://download-0013.copernicus-climate.eu/cache-compute-0013/cache/data6/adaptor.mars.external-1623640606.1361778-11808-14-9e134e00-cbbe-468f-91ef-a0cf85481163.nc to /media/nicolasf/END19101/ICU/data/CDS/operational/hindcasts/CMCC/TPRATE/ensemble_seas_forecasts_tprate_from_2008_06_CMCC.netcdf (3.1M)\n",
      "2021-06-14 15:17:08,615 INFO Download rate 318.8K/s \n"
     ]
    },
    {
     "name": "stdout",
     "output_type": "stream",
     "text": [
      "\n",
      "/media/nicolasf/END19101/ICU/data/CDS/operational/hindcasts/CMCC/TPRATE/ensemble_seas_forecasts_tprate_from_2008_06_CMCC.netcdf downloaded OK\n",
      "\n",
      "\n",
      "attempting to download tprate for GCM NCEP, for level surface, year 2008, month 6, in netcdf, attempt 1 of 3\n",
      "\n"
     ]
    },
    {
     "name": "stderr",
     "output_type": "stream",
     "text": [
      "2021-06-14 15:17:09,201 INFO Welcome to the CDS\n",
      "2021-06-14 15:17:09,202 INFO Sending request to https://cds.climate.copernicus.eu/api/v2/resources/seasonal-monthly-single-levels\n",
      "2021-06-14 15:17:09,498 INFO Request is queued\n",
      "2021-06-14 15:19:05,833 INFO Request is completed\n",
      "2021-06-14 15:19:05,834 INFO Downloading https://download-0011.copernicus-climate.eu/cache-compute-0011/cache/data9/adaptor.mars.external-1623640718.0727615-30626-21-8c4bd579-b3dc-453e-8779-7120c96d8a8f.nc to /media/nicolasf/END19101/ICU/data/CDS/operational/hindcasts/NCEP/TPRATE/ensemble_seas_forecasts_tprate_from_2008_06_NCEP.netcdf (1.9M)\n",
      "2021-06-14 15:19:12,479 INFO Download rate 288.9K/s \n"
     ]
    },
    {
     "name": "stdout",
     "output_type": "stream",
     "text": [
      "\n",
      "/media/nicolasf/END19101/ICU/data/CDS/operational/hindcasts/NCEP/TPRATE/ensemble_seas_forecasts_tprate_from_2008_06_NCEP.netcdf downloaded OK\n",
      "\n",
      "\n",
      "attempting to download tprate for GCM ECMWF, for level surface, year 2009, month 6, in netcdf, attempt 1 of 3\n",
      "\n"
     ]
    },
    {
     "name": "stderr",
     "output_type": "stream",
     "text": [
      "2021-06-14 15:19:13,064 INFO Welcome to the CDS\n",
      "2021-06-14 15:19:13,066 INFO Sending request to https://cds.climate.copernicus.eu/api/v2/resources/seasonal-monthly-single-levels\n",
      "2021-06-14 15:19:13,370 INFO Request is queued\n",
      "2021-06-14 15:20:30,940 INFO Request is completed\n",
      "2021-06-14 15:20:30,943 INFO Downloading https://download-0004.copernicus-climate.eu/cache-compute-0004/cache/data8/adaptor.mars.external-1623640818.8389895-4831-27-62e62456-4204-4696-91af-dc88acaf8f3d.nc to /media/nicolasf/END19101/ICU/data/CDS/operational/hindcasts/ECMWF/TPRATE/ensemble_seas_forecasts_tprate_from_2009_06_ECMWF.netcdf (2M)\n",
      "2021-06-14 15:20:38,755 INFO Download rate 256K/s   \n"
     ]
    },
    {
     "name": "stdout",
     "output_type": "stream",
     "text": [
      "\n",
      "/media/nicolasf/END19101/ICU/data/CDS/operational/hindcasts/ECMWF/TPRATE/ensemble_seas_forecasts_tprate_from_2009_06_ECMWF.netcdf downloaded OK\n",
      "\n",
      "\n",
      "attempting to download tprate for GCM UKMO, for level surface, year 2009, month 6, in netcdf, attempt 1 of 3\n",
      "\n"
     ]
    },
    {
     "name": "stderr",
     "output_type": "stream",
     "text": [
      "2021-06-14 15:20:39,338 INFO Welcome to the CDS\n",
      "2021-06-14 15:20:39,339 INFO Sending request to https://cds.climate.copernicus.eu/api/v2/resources/seasonal-monthly-single-levels\n",
      "2021-06-14 15:20:39,634 INFO Request is queued\n",
      "2021-06-14 15:21:13,870 INFO Request is completed\n",
      "2021-06-14 15:21:13,872 INFO Downloading https://download-0009.copernicus-climate.eu/cache-compute-0009/cache/data7/adaptor.mars.external-1623640864.1264205-3471-19-36c60fe0-e192-4742-ad60-fb6db4466cc2.nc to /media/nicolasf/END19101/ICU/data/CDS/operational/hindcasts/UKMO/TPRATE/ensemble_seas_forecasts_tprate_from_2009_06_UKMO.netcdf (2.2M)\n",
      "2021-06-14 15:21:23,643 INFO Download rate 229.2K/s \n"
     ]
    },
    {
     "name": "stdout",
     "output_type": "stream",
     "text": [
      "\n",
      "/media/nicolasf/END19101/ICU/data/CDS/operational/hindcasts/UKMO/TPRATE/ensemble_seas_forecasts_tprate_from_2009_06_UKMO.netcdf downloaded OK\n",
      "\n",
      "\n",
      "attempting to download tprate for GCM METEO_FRANCE, for level surface, year 2009, month 6, in netcdf, attempt 1 of 3\n",
      "\n"
     ]
    },
    {
     "name": "stderr",
     "output_type": "stream",
     "text": [
      "2021-06-14 15:21:24,227 INFO Welcome to the CDS\n",
      "2021-06-14 15:21:24,229 INFO Sending request to https://cds.climate.copernicus.eu/api/v2/resources/seasonal-monthly-single-levels\n",
      "2021-06-14 15:21:24,528 INFO Request is queued\n",
      "2021-06-14 15:22:42,091 INFO Request is completed\n",
      "2021-06-14 15:22:42,092 INFO Downloading https://download-0006.copernicus-climate.eu/cache-compute-0006/cache/data4/adaptor.mars.external-1623640937.6109605-32541-21-1b5ab580-dcbf-4b9a-b041-c13be2fad00d.nc to /media/nicolasf/END19101/ICU/data/CDS/operational/hindcasts/METEO_FRANCE/TPRATE/ensemble_seas_forecasts_tprate_from_2009_06_METEO_FRANCE.netcdf (2M)\n",
      "2021-06-14 15:22:50,427 INFO Download rate 240K/s   \n"
     ]
    },
    {
     "name": "stdout",
     "output_type": "stream",
     "text": [
      "\n",
      "/media/nicolasf/END19101/ICU/data/CDS/operational/hindcasts/METEO_FRANCE/TPRATE/ensemble_seas_forecasts_tprate_from_2009_06_METEO_FRANCE.netcdf downloaded OK\n",
      "\n",
      "\n",
      "attempting to download tprate for GCM DWD, for level surface, year 2009, month 6, in netcdf, attempt 1 of 3\n",
      "\n"
     ]
    },
    {
     "name": "stderr",
     "output_type": "stream",
     "text": [
      "2021-06-14 15:22:51,015 INFO Welcome to the CDS\n",
      "2021-06-14 15:22:51,017 INFO Sending request to https://cds.climate.copernicus.eu/api/v2/resources/seasonal-monthly-single-levels\n",
      "2021-06-14 15:22:52,243 INFO Request is queued\n",
      "2021-06-14 15:24:09,815 INFO Request is completed\n",
      "2021-06-14 15:24:09,817 INFO Downloading https://download-0011.copernicus-climate.eu/cache-compute-0011/cache/data1/adaptor.mars.external-1623641038.3268695-5637-11-8fd107de-f0ae-4049-b70d-1a9abf17b732.nc to /media/nicolasf/END19101/ICU/data/CDS/operational/hindcasts/DWD/TPRATE/ensemble_seas_forecasts_tprate_from_2009_06_DWD.netcdf (2.3M)\n",
      "2021-06-14 15:24:18,750 INFO Download rate 268.6K/s \n"
     ]
    },
    {
     "name": "stdout",
     "output_type": "stream",
     "text": [
      "\n",
      "/media/nicolasf/END19101/ICU/data/CDS/operational/hindcasts/DWD/TPRATE/ensemble_seas_forecasts_tprate_from_2009_06_DWD.netcdf downloaded OK\n",
      "\n",
      "\n",
      "attempting to download tprate for GCM CMCC, for level surface, year 2009, month 6, in netcdf, attempt 1 of 3\n",
      "\n"
     ]
    },
    {
     "name": "stderr",
     "output_type": "stream",
     "text": [
      "2021-06-14 15:24:19,339 INFO Welcome to the CDS\n",
      "2021-06-14 15:24:19,340 INFO Sending request to https://cds.climate.copernicus.eu/api/v2/resources/seasonal-monthly-single-levels\n",
      "2021-06-14 15:24:19,638 INFO Request is queued\n",
      "2021-06-14 15:26:15,961 INFO Request is completed\n",
      "2021-06-14 15:26:15,963 INFO Downloading https://download-0000.copernicus-climate.eu/cache-compute-0000/cache/data6/adaptor.mars.external-1623641140.3052425-11379-20-2e88e60e-4503-4cfb-8ac8-49317ffcf33a.nc to /media/nicolasf/END19101/ICU/data/CDS/operational/hindcasts/CMCC/TPRATE/ensemble_seas_forecasts_tprate_from_2009_06_CMCC.netcdf (3.1M)\n",
      "2021-06-14 15:26:26,714 INFO Download rate 297.5K/s \n"
     ]
    },
    {
     "name": "stdout",
     "output_type": "stream",
     "text": [
      "\n",
      "/media/nicolasf/END19101/ICU/data/CDS/operational/hindcasts/CMCC/TPRATE/ensemble_seas_forecasts_tprate_from_2009_06_CMCC.netcdf downloaded OK\n",
      "\n",
      "\n",
      "attempting to download tprate for GCM NCEP, for level surface, year 2009, month 6, in netcdf, attempt 1 of 3\n",
      "\n"
     ]
    },
    {
     "name": "stderr",
     "output_type": "stream",
     "text": [
      "2021-06-14 15:26:27,298 INFO Welcome to the CDS\n",
      "2021-06-14 15:26:27,300 INFO Sending request to https://cds.climate.copernicus.eu/api/v2/resources/seasonal-monthly-single-levels\n",
      "2021-06-14 15:26:27,605 INFO Request is queued\n",
      "2021-06-14 15:32:51,424 INFO Request is completed\n",
      "2021-06-14 15:32:51,427 INFO Downloading https://download-0004.copernicus-climate.eu/cache-compute-0004/cache/data8/adaptor.mars.external-1623641560.0877042-15180-3-6ee9609b-e1ea-451c-91e0-e64edde914a6.nc to /media/nicolasf/END19101/ICU/data/CDS/operational/hindcasts/NCEP/TPRATE/ensemble_seas_forecasts_tprate_from_2009_06_NCEP.netcdf (1.9M)\n",
      "2021-06-14 15:33:02,271 INFO Download rate 177K/s   \n"
     ]
    },
    {
     "name": "stdout",
     "output_type": "stream",
     "text": [
      "\n",
      "/media/nicolasf/END19101/ICU/data/CDS/operational/hindcasts/NCEP/TPRATE/ensemble_seas_forecasts_tprate_from_2009_06_NCEP.netcdf downloaded OK\n",
      "\n",
      "\n",
      "attempting to download tprate for GCM ECMWF, for level surface, year 2010, month 6, in netcdf, attempt 1 of 3\n",
      "\n"
     ]
    },
    {
     "name": "stderr",
     "output_type": "stream",
     "text": [
      "2021-06-14 15:33:02,853 INFO Welcome to the CDS\n",
      "2021-06-14 15:33:02,856 INFO Sending request to https://cds.climate.copernicus.eu/api/v2/resources/seasonal-monthly-single-levels\n",
      "2021-06-14 15:33:03,156 INFO Request is queued\n",
      "2021-06-14 15:33:06,244 INFO Request is running\n",
      "2021-06-14 15:33:12,455 INFO Request is completed\n",
      "2021-06-14 15:33:12,455 INFO Downloading https://download-0006.copernicus-climate.eu/cache-compute-0006/cache/data9/adaptor.mars.external-1623641585.7820969-4953-3-e49b5abf-814d-4806-be81-262eaccfdb3b.nc to /media/nicolasf/END19101/ICU/data/CDS/operational/hindcasts/ECMWF/TPRATE/ensemble_seas_forecasts_tprate_from_2010_06_ECMWF.netcdf (2M)\n",
      "2021-06-14 15:33:18,917 INFO Download rate 309.4K/s \n"
     ]
    },
    {
     "name": "stdout",
     "output_type": "stream",
     "text": [
      "\n",
      "/media/nicolasf/END19101/ICU/data/CDS/operational/hindcasts/ECMWF/TPRATE/ensemble_seas_forecasts_tprate_from_2010_06_ECMWF.netcdf downloaded OK\n",
      "\n",
      "\n",
      "attempting to download tprate for GCM UKMO, for level surface, year 2010, month 6, in netcdf, attempt 1 of 3\n",
      "\n"
     ]
    },
    {
     "name": "stderr",
     "output_type": "stream",
     "text": [
      "2021-06-14 15:33:19,498 INFO Welcome to the CDS\n",
      "2021-06-14 15:33:19,500 INFO Sending request to https://cds.climate.copernicus.eu/api/v2/resources/seasonal-monthly-single-levels\n",
      "2021-06-14 15:33:19,798 INFO Request is queued\n",
      "2021-06-14 15:39:43,189 INFO Request is completed\n",
      "2021-06-14 15:39:43,189 INFO Downloading https://download-0006.copernicus-climate.eu/cache-compute-0006/cache/data3/adaptor.mars.external-1623641872.0662043-6166-15-89c73841-dcda-445f-b16e-107143bf56a0.nc to /media/nicolasf/END19101/ICU/data/CDS/operational/hindcasts/UKMO/TPRATE/ensemble_seas_forecasts_tprate_from_2010_06_UKMO.netcdf (2.2M)\n",
      "2021-06-14 15:39:50,193 INFO Download rate 319.7K/s \n"
     ]
    },
    {
     "name": "stdout",
     "output_type": "stream",
     "text": [
      "\n",
      "/media/nicolasf/END19101/ICU/data/CDS/operational/hindcasts/UKMO/TPRATE/ensemble_seas_forecasts_tprate_from_2010_06_UKMO.netcdf downloaded OK\n",
      "\n",
      "\n",
      "attempting to download tprate for GCM METEO_FRANCE, for level surface, year 2010, month 6, in netcdf, attempt 1 of 3\n",
      "\n"
     ]
    },
    {
     "name": "stderr",
     "output_type": "stream",
     "text": [
      "2021-06-14 15:39:50,767 INFO Welcome to the CDS\n",
      "2021-06-14 15:39:50,768 INFO Sending request to https://cds.climate.copernicus.eu/api/v2/resources/seasonal-monthly-single-levels\n",
      "2021-06-14 15:39:51,062 INFO Request is queued\n",
      "2021-06-14 15:41:47,371 INFO Request is completed\n",
      "2021-06-14 15:41:47,374 INFO Downloading https://download-0007.copernicus-climate.eu/cache-compute-0007/cache/data6/adaptor.mars.external-1623642084.253729-10512-15-597288a6-7d97-4ecc-ab0d-55a33fdf72c8.nc to /media/nicolasf/END19101/ICU/data/CDS/operational/hindcasts/METEO_FRANCE/TPRATE/ensemble_seas_forecasts_tprate_from_2010_06_METEO_FRANCE.netcdf (2M)\n",
      "2021-06-14 15:41:55,465 INFO Download rate 247.2K/s \n"
     ]
    },
    {
     "name": "stdout",
     "output_type": "stream",
     "text": [
      "\n",
      "/media/nicolasf/END19101/ICU/data/CDS/operational/hindcasts/METEO_FRANCE/TPRATE/ensemble_seas_forecasts_tprate_from_2010_06_METEO_FRANCE.netcdf downloaded OK\n",
      "\n",
      "\n",
      "attempting to download tprate for GCM DWD, for level surface, year 2010, month 6, in netcdf, attempt 1 of 3\n",
      "\n"
     ]
    },
    {
     "name": "stderr",
     "output_type": "stream",
     "text": [
      "2021-06-14 15:41:56,041 INFO Welcome to the CDS\n",
      "2021-06-14 15:41:56,043 INFO Sending request to https://cds.climate.copernicus.eu/api/v2/resources/seasonal-monthly-single-levels\n",
      "2021-06-14 15:41:56,341 INFO Request is queued\n",
      "2021-06-14 15:46:18,414 INFO Request is completed\n",
      "2021-06-14 15:46:18,415 INFO Downloading https://download-0003.copernicus-climate.eu/cache-compute-0003/cache/data5/adaptor.mars.external-1623642317.2171717-24971-23-a36577a2-02f3-44a0-b3fe-bc5b09a15a6e.nc to /media/nicolasf/END19101/ICU/data/CDS/operational/hindcasts/DWD/TPRATE/ensemble_seas_forecasts_tprate_from_2010_06_DWD.netcdf (2.3M)\n",
      "2021-06-14 15:46:26,171 INFO Download rate 309.3K/s \n"
     ]
    },
    {
     "name": "stdout",
     "output_type": "stream",
     "text": [
      "\n",
      "/media/nicolasf/END19101/ICU/data/CDS/operational/hindcasts/DWD/TPRATE/ensemble_seas_forecasts_tprate_from_2010_06_DWD.netcdf downloaded OK\n",
      "\n",
      "\n",
      "attempting to download tprate for GCM CMCC, for level surface, year 2010, month 6, in netcdf, attempt 1 of 3\n",
      "\n"
     ]
    },
    {
     "name": "stderr",
     "output_type": "stream",
     "text": [
      "2021-06-14 15:46:26,758 INFO Welcome to the CDS\n",
      "2021-06-14 15:46:26,760 INFO Sending request to https://cds.climate.copernicus.eu/api/v2/resources/seasonal-monthly-single-levels\n",
      "2021-06-14 15:46:27,059 INFO Request is queued\n",
      "2021-06-14 15:50:49,197 INFO Request is completed\n",
      "2021-06-14 15:50:49,198 INFO Downloading https://download-0003.copernicus-climate.eu/cache-compute-0003/cache/data0/adaptor.mars.external-1623642574.5157952-27911-9-509c6d0c-813c-477f-89d5-3f2a0b82a45d.nc to /media/nicolasf/END19101/ICU/data/CDS/operational/hindcasts/CMCC/TPRATE/ensemble_seas_forecasts_tprate_from_2010_06_CMCC.netcdf (3.1M)\n",
      "2021-06-14 15:51:00,819 INFO Download rate 275.2K/s \n"
     ]
    },
    {
     "name": "stdout",
     "output_type": "stream",
     "text": [
      "\n",
      "/media/nicolasf/END19101/ICU/data/CDS/operational/hindcasts/CMCC/TPRATE/ensemble_seas_forecasts_tprate_from_2010_06_CMCC.netcdf downloaded OK\n",
      "\n",
      "\n",
      "attempting to download tprate for GCM NCEP, for level surface, year 2010, month 6, in netcdf, attempt 1 of 3\n",
      "\n"
     ]
    },
    {
     "name": "stderr",
     "output_type": "stream",
     "text": [
      "2021-06-14 15:51:01,406 INFO Welcome to the CDS\n",
      "2021-06-14 15:51:01,408 INFO Sending request to https://cds.climate.copernicus.eu/api/v2/resources/seasonal-monthly-single-levels\n",
      "2021-06-14 15:51:01,707 INFO Request is queued\n",
      "2021-06-14 15:52:19,280 INFO Request is completed\n",
      "2021-06-14 15:52:19,282 INFO Downloading https://download-0000.copernicus-climate.eu/cache-compute-0000/cache/data2/adaptor.mars.external-1623642724.5234308-22718-26-436de457-71a1-4ec2-8b6b-79ea1bb84390.nc to /media/nicolasf/END19101/ICU/data/CDS/operational/hindcasts/NCEP/TPRATE/ensemble_seas_forecasts_tprate_from_2010_06_NCEP.netcdf (1.9M)\n",
      "2021-06-14 15:52:25,739 INFO Download rate 297.3K/s \n"
     ]
    },
    {
     "name": "stdout",
     "output_type": "stream",
     "text": [
      "\n",
      "/media/nicolasf/END19101/ICU/data/CDS/operational/hindcasts/NCEP/TPRATE/ensemble_seas_forecasts_tprate_from_2010_06_NCEP.netcdf downloaded OK\n",
      "\n",
      "\n",
      "attempting to download tprate for GCM ECMWF, for level surface, year 2011, month 6, in netcdf, attempt 1 of 3\n",
      "\n"
     ]
    },
    {
     "name": "stderr",
     "output_type": "stream",
     "text": [
      "2021-06-14 15:52:26,317 INFO Welcome to the CDS\n",
      "2021-06-14 15:52:26,318 INFO Sending request to https://cds.climate.copernicus.eu/api/v2/resources/seasonal-monthly-single-levels\n",
      "2021-06-14 15:52:26,611 INFO Request is queued\n",
      "2021-06-14 15:52:32,240 INFO Request is running\n",
      "2021-06-14 15:52:35,907 INFO Request is completed\n",
      "2021-06-14 15:52:35,909 INFO Downloading https://download-0002.copernicus-climate.eu/cache-compute-0002/cache/data3/adaptor.mars.external-1623642750.6551216-6190-7-43cc92a9-dd51-40d4-94f4-f100b3fed3d3.nc to /media/nicolasf/END19101/ICU/data/CDS/operational/hindcasts/ECMWF/TPRATE/ensemble_seas_forecasts_tprate_from_2011_06_ECMWF.netcdf (2M)\n",
      "2021-06-14 15:52:43,126 INFO Download rate 277.1K/s \n"
     ]
    },
    {
     "name": "stdout",
     "output_type": "stream",
     "text": [
      "\n",
      "/media/nicolasf/END19101/ICU/data/CDS/operational/hindcasts/ECMWF/TPRATE/ensemble_seas_forecasts_tprate_from_2011_06_ECMWF.netcdf downloaded OK\n",
      "\n",
      "\n",
      "attempting to download tprate for GCM UKMO, for level surface, year 2011, month 6, in netcdf, attempt 1 of 3\n",
      "\n"
     ]
    },
    {
     "name": "stderr",
     "output_type": "stream",
     "text": [
      "2021-06-14 15:52:43,713 INFO Welcome to the CDS\n",
      "2021-06-14 15:52:43,715 INFO Sending request to https://cds.climate.copernicus.eu/api/v2/resources/seasonal-monthly-single-levels\n",
      "2021-06-14 15:52:44,023 INFO Request is queued\n",
      "2021-06-14 15:52:53,315 INFO Request is completed\n",
      "2021-06-14 15:52:53,316 INFO Downloading https://download-0001.copernicus-climate.eu/cache-compute-0001/cache/data1/adaptor.mars.external-1623642770.3897095-15353-21-cdbfec53-5cad-4ea8-8eac-cde33961daab.nc to /media/nicolasf/END19101/ICU/data/CDS/operational/hindcasts/UKMO/TPRATE/ensemble_seas_forecasts_tprate_from_2011_06_UKMO.netcdf (2.2M)\n",
      "2021-06-14 15:53:02,725 INFO Download rate 238K/s   \n"
     ]
    },
    {
     "name": "stdout",
     "output_type": "stream",
     "text": [
      "\n",
      "/media/nicolasf/END19101/ICU/data/CDS/operational/hindcasts/UKMO/TPRATE/ensemble_seas_forecasts_tprate_from_2011_06_UKMO.netcdf downloaded OK\n",
      "\n",
      "\n",
      "attempting to download tprate for GCM METEO_FRANCE, for level surface, year 2011, month 6, in netcdf, attempt 1 of 3\n",
      "\n"
     ]
    },
    {
     "name": "stderr",
     "output_type": "stream",
     "text": [
      "2021-06-14 15:53:03,307 INFO Welcome to the CDS\n",
      "2021-06-14 15:53:03,308 INFO Sending request to https://cds.climate.copernicus.eu/api/v2/resources/seasonal-monthly-single-levels\n",
      "2021-06-14 15:53:03,639 INFO Request is queued\n",
      "2021-06-14 15:53:06,724 INFO Request is running\n",
      "2021-06-14 15:53:09,266 INFO Request is completed\n",
      "2021-06-14 15:53:09,267 INFO Downloading https://download-0006.copernicus-climate.eu/cache-compute-0006/cache/data5/adaptor.mars.external-1623642785.3872588-14348-16-88baadcb-2dd1-4e38-9a1c-4618c3a765ab.nc to /media/nicolasf/END19101/ICU/data/CDS/operational/hindcasts/METEO_FRANCE/TPRATE/ensemble_seas_forecasts_tprate_from_2011_06_METEO_FRANCE.netcdf (2M)\n",
      "2021-06-14 15:53:15,942 INFO Download rate 299.5K/s \n"
     ]
    },
    {
     "name": "stdout",
     "output_type": "stream",
     "text": [
      "\n",
      "/media/nicolasf/END19101/ICU/data/CDS/operational/hindcasts/METEO_FRANCE/TPRATE/ensemble_seas_forecasts_tprate_from_2011_06_METEO_FRANCE.netcdf downloaded OK\n",
      "\n",
      "\n",
      "attempting to download tprate for GCM DWD, for level surface, year 2011, month 6, in netcdf, attempt 1 of 3\n",
      "\n"
     ]
    },
    {
     "name": "stderr",
     "output_type": "stream",
     "text": [
      "2021-06-14 15:53:16,522 INFO Welcome to the CDS\n",
      "2021-06-14 15:53:16,523 INFO Sending request to https://cds.climate.copernicus.eu/api/v2/resources/seasonal-monthly-single-levels\n",
      "2021-06-14 15:53:16,840 INFO Request is queued\n",
      "2021-06-14 15:53:26,138 INFO Request is completed\n",
      "2021-06-14 15:53:26,140 INFO Downloading https://download-0002.copernicus-climate.eu/cache-compute-0002/cache/data8/adaptor.mars.external-1623642802.7904048-6758-3-058d0747-a424-4237-864d-cdaf952d9b49.nc to /media/nicolasf/END19101/ICU/data/CDS/operational/hindcasts/DWD/TPRATE/ensemble_seas_forecasts_tprate_from_2011_06_DWD.netcdf (2.3M)\n",
      "2021-06-14 15:53:34,721 INFO Download rate 279.6K/s \n"
     ]
    },
    {
     "name": "stdout",
     "output_type": "stream",
     "text": [
      "\n",
      "/media/nicolasf/END19101/ICU/data/CDS/operational/hindcasts/DWD/TPRATE/ensemble_seas_forecasts_tprate_from_2011_06_DWD.netcdf downloaded OK\n",
      "\n",
      "\n",
      "attempting to download tprate for GCM CMCC, for level surface, year 2011, month 6, in netcdf, attempt 1 of 3\n",
      "\n"
     ]
    },
    {
     "name": "stderr",
     "output_type": "stream",
     "text": [
      "2021-06-14 15:53:35,296 INFO Welcome to the CDS\n",
      "2021-06-14 15:53:35,297 INFO Sending request to https://cds.climate.copernicus.eu/api/v2/resources/seasonal-monthly-single-levels\n",
      "2021-06-14 15:53:35,593 INFO Request is queued\n",
      "2021-06-14 15:53:41,223 INFO Request is running\n",
      "2021-06-14 15:53:44,890 INFO Request is completed\n",
      "2021-06-14 15:53:44,893 INFO Downloading https://download-0012.copernicus-climate.eu/cache-compute-0012/cache/data8/adaptor.mars.external-1623642819.7656882-9384-15-032bd9d0-6a53-4c85-8f3b-498d9411224b.nc to /media/nicolasf/END19101/ICU/data/CDS/operational/hindcasts/CMCC/TPRATE/ensemble_seas_forecasts_tprate_from_2011_06_CMCC.netcdf (3.1M)\n",
      "2021-06-14 15:53:55,665 INFO Download rate 296.9K/s \n"
     ]
    },
    {
     "name": "stdout",
     "output_type": "stream",
     "text": [
      "\n",
      "/media/nicolasf/END19101/ICU/data/CDS/operational/hindcasts/CMCC/TPRATE/ensemble_seas_forecasts_tprate_from_2011_06_CMCC.netcdf downloaded OK\n",
      "\n",
      "\n",
      "attempting to download tprate for GCM NCEP, for level surface, year 2011, month 6, in netcdf, attempt 1 of 3\n",
      "\n"
     ]
    },
    {
     "name": "stderr",
     "output_type": "stream",
     "text": [
      "2021-06-14 15:53:56,241 INFO Welcome to the CDS\n",
      "2021-06-14 15:53:56,242 INFO Sending request to https://cds.climate.copernicus.eu/api/v2/resources/seasonal-monthly-single-levels\n",
      "2021-06-14 15:53:56,536 INFO Request is queued\n",
      "2021-06-14 15:56:50,884 INFO Request is completed\n",
      "2021-06-14 15:56:50,885 INFO Downloading https://download-0000.copernicus-climate.eu/cache-compute-0000/cache/data6/adaptor.mars.external-1623642972.200564-10938-17-7d8a5647-90b7-46ef-b12c-eaec80a43446.nc to /media/nicolasf/END19101/ICU/data/CDS/operational/hindcasts/NCEP/TPRATE/ensemble_seas_forecasts_tprate_from_2011_06_NCEP.netcdf (1.9M)\n",
      "2021-06-14 15:57:01,410 INFO Download rate 182.4K/s \n"
     ]
    },
    {
     "name": "stdout",
     "output_type": "stream",
     "text": [
      "\n",
      "/media/nicolasf/END19101/ICU/data/CDS/operational/hindcasts/NCEP/TPRATE/ensemble_seas_forecasts_tprate_from_2011_06_NCEP.netcdf downloaded OK\n",
      "\n",
      "\n",
      "attempting to download tprate for GCM ECMWF, for level surface, year 2012, month 6, in netcdf, attempt 1 of 3\n",
      "\n"
     ]
    },
    {
     "name": "stderr",
     "output_type": "stream",
     "text": [
      "2021-06-14 15:57:01,994 INFO Welcome to the CDS\n",
      "2021-06-14 15:57:01,995 INFO Sending request to https://cds.climate.copernicus.eu/api/v2/resources/seasonal-monthly-single-levels\n",
      "2021-06-14 15:57:02,292 INFO Request is queued\n",
      "2021-06-14 16:01:25,063 INFO Request is completed\n",
      "2021-06-14 16:01:25,063 INFO Downloading https://download-0010.copernicus-climate.eu/cache-compute-0010/cache/data7/adaptor.mars.external-1623643217.7010608-15274-24-1eccf11a-751c-46e5-acfe-59fa98c67f36.nc to /media/nicolasf/END19101/ICU/data/CDS/operational/hindcasts/ECMWF/TPRATE/ensemble_seas_forecasts_tprate_from_2012_06_ECMWF.netcdf (2M)\n",
      "2021-06-14 16:01:31,526 INFO Download rate 309.4K/s \n"
     ]
    },
    {
     "name": "stdout",
     "output_type": "stream",
     "text": [
      "\n",
      "/media/nicolasf/END19101/ICU/data/CDS/operational/hindcasts/ECMWF/TPRATE/ensemble_seas_forecasts_tprate_from_2012_06_ECMWF.netcdf downloaded OK\n",
      "\n",
      "\n",
      "attempting to download tprate for GCM UKMO, for level surface, year 2012, month 6, in netcdf, attempt 1 of 3\n",
      "\n"
     ]
    },
    {
     "name": "stderr",
     "output_type": "stream",
     "text": [
      "2021-06-14 16:01:32,110 INFO Welcome to the CDS\n",
      "2021-06-14 16:01:32,111 INFO Sending request to https://cds.climate.copernicus.eu/api/v2/resources/seasonal-monthly-single-levels\n",
      "2021-06-14 16:01:32,409 INFO Request is queued\n",
      "2021-06-14 16:04:26,727 INFO Request is completed\n",
      "2021-06-14 16:04:26,728 INFO Downloading https://download-0008.copernicus-climate.eu/cache-compute-0008/cache/data6/adaptor.mars.external-1623643428.9129431-20722-1-5fb07be7-9632-4271-81fc-38ebfdc218a4.nc to /media/nicolasf/END19101/ICU/data/CDS/operational/hindcasts/UKMO/TPRATE/ensemble_seas_forecasts_tprate_from_2012_06_UKMO.netcdf (2.2M)\n",
      "2021-06-14 16:04:36,911 INFO Download rate 219.9K/s \n"
     ]
    },
    {
     "name": "stdout",
     "output_type": "stream",
     "text": [
      "\n",
      "/media/nicolasf/END19101/ICU/data/CDS/operational/hindcasts/UKMO/TPRATE/ensemble_seas_forecasts_tprate_from_2012_06_UKMO.netcdf downloaded OK\n",
      "\n",
      "\n",
      "attempting to download tprate for GCM METEO_FRANCE, for level surface, year 2012, month 6, in netcdf, attempt 1 of 3\n",
      "\n"
     ]
    },
    {
     "name": "stderr",
     "output_type": "stream",
     "text": [
      "2021-06-14 16:04:37,496 INFO Welcome to the CDS\n",
      "2021-06-14 16:04:37,498 INFO Sending request to https://cds.climate.copernicus.eu/api/v2/resources/seasonal-monthly-single-levels\n",
      "2021-06-14 16:04:37,796 INFO Request is queued\n",
      "2021-06-14 16:05:55,347 INFO Request is completed\n",
      "2021-06-14 16:05:55,349 INFO Downloading https://download-0012.copernicus-climate.eu/cache-compute-0012/cache/data0/adaptor.mars.external-1623643537.5798342-18644-11-177d07f4-d2ba-4fb6-aa3c-01da261e49a8.nc to /media/nicolasf/END19101/ICU/data/CDS/operational/hindcasts/METEO_FRANCE/TPRATE/ensemble_seas_forecasts_tprate_from_2012_06_METEO_FRANCE.netcdf (2M)\n",
      "2021-06-14 16:06:01,818 INFO Download rate 309.2K/s \n"
     ]
    },
    {
     "name": "stdout",
     "output_type": "stream",
     "text": [
      "\n",
      "/media/nicolasf/END19101/ICU/data/CDS/operational/hindcasts/METEO_FRANCE/TPRATE/ensemble_seas_forecasts_tprate_from_2012_06_METEO_FRANCE.netcdf downloaded OK\n",
      "\n",
      "\n",
      "attempting to download tprate for GCM DWD, for level surface, year 2012, month 6, in netcdf, attempt 1 of 3\n",
      "\n"
     ]
    },
    {
     "name": "stderr",
     "output_type": "stream",
     "text": [
      "2021-06-14 16:06:02,406 INFO Welcome to the CDS\n",
      "2021-06-14 16:06:02,408 INFO Sending request to https://cds.climate.copernicus.eu/api/v2/resources/seasonal-monthly-single-levels\n",
      "2021-06-14 16:06:02,711 INFO Request is queued\n",
      "2021-06-14 16:06:25,256 INFO Request is running\n",
      "2021-06-14 16:06:36,947 INFO Request is completed\n",
      "2021-06-14 16:06:36,949 INFO Downloading https://download-0000.copernicus-climate.eu/cache-compute-0000/cache/data6/adaptor.mars.external-1623643583.2884622-27248-18-684dec67-f945-482c-a06e-50f3d902fff0.nc to /media/nicolasf/END19101/ICU/data/CDS/operational/hindcasts/DWD/TPRATE/ensemble_seas_forecasts_tprate_from_2012_06_DWD.netcdf (2.3M)\n",
      "2021-06-14 16:06:47,514 INFO Download rate 227.1K/s \n"
     ]
    },
    {
     "name": "stdout",
     "output_type": "stream",
     "text": [
      "\n",
      "/media/nicolasf/END19101/ICU/data/CDS/operational/hindcasts/DWD/TPRATE/ensemble_seas_forecasts_tprate_from_2012_06_DWD.netcdf downloaded OK\n",
      "\n",
      "\n",
      "attempting to download tprate for GCM CMCC, for level surface, year 2012, month 6, in netcdf, attempt 1 of 3\n",
      "\n"
     ]
    },
    {
     "name": "stderr",
     "output_type": "stream",
     "text": [
      "2021-06-14 16:06:48,096 INFO Welcome to the CDS\n",
      "2021-06-14 16:06:48,097 INFO Sending request to https://cds.climate.copernicus.eu/api/v2/resources/seasonal-monthly-single-levels\n",
      "2021-06-14 16:06:48,397 INFO Request is queued\n",
      "2021-06-14 16:07:22,633 INFO Request is running\n",
      "2021-06-14 16:07:40,025 INFO Request is completed\n",
      "2021-06-14 16:07:40,025 INFO Downloading https://download-0005.copernicus-climate.eu/cache-compute-0005/cache/data6/adaptor.mars.external-1623643639.6241863-22629-19-6cff6692-5426-468f-8aff-9d97859ba04b.nc to /media/nicolasf/END19101/ICU/data/CDS/operational/hindcasts/CMCC/TPRATE/ensemble_seas_forecasts_tprate_from_2012_06_CMCC.netcdf (3.1M)\n",
      "2021-06-14 16:07:49,407 INFO Download rate 340.9K/s \n"
     ]
    },
    {
     "name": "stdout",
     "output_type": "stream",
     "text": [
      "\n",
      "/media/nicolasf/END19101/ICU/data/CDS/operational/hindcasts/CMCC/TPRATE/ensemble_seas_forecasts_tprate_from_2012_06_CMCC.netcdf downloaded OK\n",
      "\n",
      "\n",
      "attempting to download tprate for GCM NCEP, for level surface, year 2012, month 6, in netcdf, attempt 1 of 3\n",
      "\n"
     ]
    },
    {
     "name": "stderr",
     "output_type": "stream",
     "text": [
      "2021-06-14 16:07:49,991 INFO Welcome to the CDS\n",
      "2021-06-14 16:07:49,992 INFO Sending request to https://cds.climate.copernicus.eu/api/v2/resources/seasonal-monthly-single-levels\n",
      "2021-06-14 16:07:50,284 INFO Request is queued\n",
      "2021-06-14 16:14:13,727 INFO Request is completed\n",
      "2021-06-14 16:14:13,727 INFO Downloading https://download-0010.copernicus-climate.eu/cache-compute-0010/cache/data6/adaptor.mars.external-1623643937.3170357-20251-9-952099f0-ec6d-4c6d-bacf-eac5bc63152b.nc to /media/nicolasf/END19101/ICU/data/CDS/operational/hindcasts/NCEP/TPRATE/ensemble_seas_forecasts_tprate_from_2012_06_NCEP.netcdf (1.9M)\n",
      "2021-06-14 16:14:20,374 INFO Download rate 288.8K/s \n"
     ]
    },
    {
     "name": "stdout",
     "output_type": "stream",
     "text": [
      "\n",
      "/media/nicolasf/END19101/ICU/data/CDS/operational/hindcasts/NCEP/TPRATE/ensemble_seas_forecasts_tprate_from_2012_06_NCEP.netcdf downloaded OK\n",
      "\n",
      "\n",
      "attempting to download tprate for GCM ECMWF, for level surface, year 2013, month 6, in netcdf, attempt 1 of 3\n",
      "\n"
     ]
    },
    {
     "name": "stderr",
     "output_type": "stream",
     "text": [
      "2021-06-14 16:14:20,957 INFO Welcome to the CDS\n",
      "2021-06-14 16:14:20,957 INFO Sending request to https://cds.climate.copernicus.eu/api/v2/resources/seasonal-monthly-single-levels\n",
      "2021-06-14 16:14:21,255 INFO Request is queued\n",
      "2021-06-14 16:15:38,820 INFO Request is completed\n",
      "2021-06-14 16:15:38,822 INFO Downloading https://download-0004.copernicus-climate.eu/cache-compute-0004/cache/data6/adaptor.mars.external-1623644120.368636-32192-5-05c55269-4896-40d0-9693-ab31f363e728.nc to /media/nicolasf/END19101/ICU/data/CDS/operational/hindcasts/ECMWF/TPRATE/ensemble_seas_forecasts_tprate_from_2013_06_ECMWF.netcdf (2M)\n",
      "2021-06-14 16:15:47,387 INFO Download rate 233.5K/s \n"
     ]
    },
    {
     "name": "stdout",
     "output_type": "stream",
     "text": [
      "\n",
      "/media/nicolasf/END19101/ICU/data/CDS/operational/hindcasts/ECMWF/TPRATE/ensemble_seas_forecasts_tprate_from_2013_06_ECMWF.netcdf downloaded OK\n",
      "\n",
      "\n",
      "attempting to download tprate for GCM UKMO, for level surface, year 2013, month 6, in netcdf, attempt 1 of 3\n",
      "\n"
     ]
    },
    {
     "name": "stderr",
     "output_type": "stream",
     "text": [
      "2021-06-14 16:15:47,965 INFO Welcome to the CDS\n",
      "2021-06-14 16:15:47,967 INFO Sending request to https://cds.climate.copernicus.eu/api/v2/resources/seasonal-monthly-single-levels\n",
      "2021-06-14 16:15:48,266 INFO Request is queued\n",
      "2021-06-14 16:15:51,352 INFO Request is running\n",
      "2021-06-14 16:15:53,897 INFO Request is completed\n",
      "2021-06-14 16:15:53,899 INFO Downloading https://download-0006.copernicus-climate.eu/cache-compute-0006/cache/data9/adaptor.mars.external-1623644150.3373597-27005-1-0d55a329-5891-4ea9-8f2e-aa1e74def400.nc to /media/nicolasf/END19101/ICU/data/CDS/operational/hindcasts/UKMO/TPRATE/ensemble_seas_forecasts_tprate_from_2013_06_UKMO.netcdf (2.2M)\n",
      "2021-06-14 16:16:01,178 INFO Download rate 307.7K/s \n"
     ]
    },
    {
     "name": "stdout",
     "output_type": "stream",
     "text": [
      "\n",
      "/media/nicolasf/END19101/ICU/data/CDS/operational/hindcasts/UKMO/TPRATE/ensemble_seas_forecasts_tprate_from_2013_06_UKMO.netcdf downloaded OK\n",
      "\n",
      "\n",
      "attempting to download tprate for GCM METEO_FRANCE, for level surface, year 2013, month 6, in netcdf, attempt 1 of 3\n",
      "\n"
     ]
    },
    {
     "name": "stderr",
     "output_type": "stream",
     "text": [
      "2021-06-14 16:16:01,757 INFO Welcome to the CDS\n",
      "2021-06-14 16:16:01,758 INFO Sending request to https://cds.climate.copernicus.eu/api/v2/resources/seasonal-monthly-single-levels\n",
      "2021-06-14 16:16:02,145 INFO Request is queued\n",
      "2021-06-14 16:16:53,755 INFO Request is completed\n",
      "2021-06-14 16:16:53,757 INFO Downloading https://download-0008.copernicus-climate.eu/cache-compute-0008/cache/data4/adaptor.mars.external-1623644210.006628-21250-15-3e518401-2cf0-4fbf-965a-98338c6ca866.nc to /media/nicolasf/END19101/ICU/data/CDS/operational/hindcasts/METEO_FRANCE/TPRATE/ensemble_seas_forecasts_tprate_from_2013_06_METEO_FRANCE.netcdf (2M)\n",
      "2021-06-14 16:17:00,247 INFO Download rate 308.1K/s \n"
     ]
    },
    {
     "name": "stdout",
     "output_type": "stream",
     "text": [
      "\n",
      "/media/nicolasf/END19101/ICU/data/CDS/operational/hindcasts/METEO_FRANCE/TPRATE/ensemble_seas_forecasts_tprate_from_2013_06_METEO_FRANCE.netcdf downloaded OK\n",
      "\n",
      "\n",
      "attempting to download tprate for GCM DWD, for level surface, year 2013, month 6, in netcdf, attempt 1 of 3\n",
      "\n"
     ]
    },
    {
     "name": "stderr",
     "output_type": "stream",
     "text": [
      "2021-06-14 16:17:00,831 INFO Welcome to the CDS\n",
      "2021-06-14 16:17:00,833 INFO Sending request to https://cds.climate.copernicus.eu/api/v2/resources/seasonal-monthly-single-levels\n",
      "2021-06-14 16:17:01,132 INFO Request is queued\n",
      "2021-06-14 16:18:57,466 INFO Request is completed\n",
      "2021-06-14 16:18:57,467 INFO Downloading https://download-0000.copernicus-climate.eu/cache-compute-0000/cache/data1/adaptor.mars.external-1623644311.6461213-3977-21-ca532bac-68e4-4c43-814c-0cad31be3662.nc to /media/nicolasf/END19101/ICU/data/CDS/operational/hindcasts/DWD/TPRATE/ensemble_seas_forecasts_tprate_from_2013_06_DWD.netcdf (2.3M)\n",
      "2021-06-14 16:19:08,289 INFO Download rate 221.7K/s \n"
     ]
    },
    {
     "name": "stdout",
     "output_type": "stream",
     "text": [
      "\n",
      "/media/nicolasf/END19101/ICU/data/CDS/operational/hindcasts/DWD/TPRATE/ensemble_seas_forecasts_tprate_from_2013_06_DWD.netcdf downloaded OK\n",
      "\n",
      "\n",
      "attempting to download tprate for GCM CMCC, for level surface, year 2013, month 6, in netcdf, attempt 1 of 3\n",
      "\n"
     ]
    },
    {
     "name": "stderr",
     "output_type": "stream",
     "text": [
      "2021-06-14 16:19:08,869 INFO Welcome to the CDS\n",
      "2021-06-14 16:19:08,871 INFO Sending request to https://cds.climate.copernicus.eu/api/v2/resources/seasonal-monthly-single-levels\n",
      "2021-06-14 16:19:09,172 INFO Request is queued\n",
      "2021-06-14 16:19:31,710 INFO Request is running\n",
      "2021-06-14 16:19:43,404 INFO Request is completed\n",
      "2021-06-14 16:19:43,407 INFO Downloading https://download-0002.copernicus-climate.eu/cache-compute-0002/cache/data5/adaptor.mars.external-1623644368.98667-17746-15-29788506-5296-4a8c-b1b7-ec114d327427.nc to /media/nicolasf/END19101/ICU/data/CDS/operational/hindcasts/CMCC/TPRATE/ensemble_seas_forecasts_tprate_from_2013_06_CMCC.netcdf (3.1M)\n",
      "2021-06-14 16:19:53,530 INFO Download rate 315.9K/s \n"
     ]
    },
    {
     "name": "stdout",
     "output_type": "stream",
     "text": [
      "\n",
      "/media/nicolasf/END19101/ICU/data/CDS/operational/hindcasts/CMCC/TPRATE/ensemble_seas_forecasts_tprate_from_2013_06_CMCC.netcdf downloaded OK\n",
      "\n",
      "\n",
      "attempting to download tprate for GCM NCEP, for level surface, year 2013, month 6, in netcdf, attempt 1 of 3\n",
      "\n"
     ]
    },
    {
     "name": "stderr",
     "output_type": "stream",
     "text": [
      "2021-06-14 16:19:54,115 INFO Welcome to the CDS\n",
      "2021-06-14 16:19:54,116 INFO Sending request to https://cds.climate.copernicus.eu/api/v2/resources/seasonal-monthly-single-levels\n",
      "2021-06-14 16:19:54,415 INFO Request is queued\n",
      "2021-06-14 16:21:50,752 INFO Request is completed\n",
      "2021-06-14 16:21:50,754 INFO Downloading https://download-0004.copernicus-climate.eu/cache-compute-0004/cache/data7/adaptor.mars.external-1623644491.455643-3766-1-a320d36f-9ba6-4bc2-bfd5-bca1a3b74861.nc to /media/nicolasf/END19101/ICU/data/CDS/operational/hindcasts/NCEP/TPRATE/ensemble_seas_forecasts_tprate_from_2013_06_NCEP.netcdf (1.9M)\n",
      "2021-06-14 16:21:57,251 INFO Download rate 295.5K/s \n"
     ]
    },
    {
     "name": "stdout",
     "output_type": "stream",
     "text": [
      "\n",
      "/media/nicolasf/END19101/ICU/data/CDS/operational/hindcasts/NCEP/TPRATE/ensemble_seas_forecasts_tprate_from_2013_06_NCEP.netcdf downloaded OK\n",
      "\n",
      "\n",
      "attempting to download tprate for GCM ECMWF, for level surface, year 2014, month 6, in netcdf, attempt 1 of 3\n",
      "\n"
     ]
    },
    {
     "name": "stderr",
     "output_type": "stream",
     "text": [
      "2021-06-14 16:21:57,841 INFO Welcome to the CDS\n",
      "2021-06-14 16:21:57,843 INFO Sending request to https://cds.climate.copernicus.eu/api/v2/resources/seasonal-monthly-single-levels\n",
      "2021-06-14 16:21:58,141 INFO Request is queued\n",
      "2021-06-14 16:23:15,727 INFO Request is completed\n",
      "2021-06-14 16:23:15,728 INFO Downloading https://download-0011.copernicus-climate.eu/cache-compute-0011/cache/data0/adaptor.mars.external-1623644583.7403584-29264-3-11411806-421e-4529-9b11-b8b753350288.nc to /media/nicolasf/END19101/ICU/data/CDS/operational/hindcasts/ECMWF/TPRATE/ensemble_seas_forecasts_tprate_from_2014_06_ECMWF.netcdf (2M)\n",
      "2021-06-14 16:23:26,198 INFO Download rate 191K/s   \n"
     ]
    },
    {
     "name": "stdout",
     "output_type": "stream",
     "text": [
      "\n",
      "/media/nicolasf/END19101/ICU/data/CDS/operational/hindcasts/ECMWF/TPRATE/ensemble_seas_forecasts_tprate_from_2014_06_ECMWF.netcdf downloaded OK\n",
      "\n",
      "\n",
      "attempting to download tprate for GCM UKMO, for level surface, year 2014, month 6, in netcdf, attempt 1 of 3\n",
      "\n"
     ]
    },
    {
     "name": "stderr",
     "output_type": "stream",
     "text": [
      "2021-06-14 16:23:26,781 INFO Welcome to the CDS\n",
      "2021-06-14 16:23:26,783 INFO Sending request to https://cds.climate.copernicus.eu/api/v2/resources/seasonal-monthly-single-levels\n",
      "2021-06-14 16:23:27,083 INFO Request is queued\n",
      "2021-06-14 16:24:01,319 INFO Request is running\n",
      "2021-06-14 16:24:18,710 INFO Request is completed\n",
      "2021-06-14 16:24:18,712 INFO Downloading https://download-0010.copernicus-climate.eu/cache-compute-0010/cache/data0/adaptor.mars.external-1623644639.9800751-28801-1-3e2fdecc-cb74-4fb3-b7d8-69190e4b8c56.nc to /media/nicolasf/END19101/ICU/data/CDS/operational/hindcasts/UKMO/TPRATE/ensemble_seas_forecasts_tprate_from_2014_06_UKMO.netcdf (2.2M)\n",
      "2021-06-14 16:24:26,249 INFO Download rate 297.1K/s \n"
     ]
    },
    {
     "name": "stdout",
     "output_type": "stream",
     "text": [
      "\n",
      "/media/nicolasf/END19101/ICU/data/CDS/operational/hindcasts/UKMO/TPRATE/ensemble_seas_forecasts_tprate_from_2014_06_UKMO.netcdf downloaded OK\n",
      "\n",
      "\n",
      "attempting to download tprate for GCM METEO_FRANCE, for level surface, year 2014, month 6, in netcdf, attempt 1 of 3\n",
      "\n"
     ]
    },
    {
     "name": "stderr",
     "output_type": "stream",
     "text": [
      "2021-06-14 16:24:26,825 INFO Welcome to the CDS\n",
      "2021-06-14 16:24:26,827 INFO Sending request to https://cds.climate.copernicus.eu/api/v2/resources/seasonal-monthly-single-levels\n",
      "2021-06-14 16:24:27,125 INFO Request is queued\n",
      "2021-06-14 16:24:49,668 INFO Request is completed\n",
      "2021-06-14 16:24:49,670 INFO Downloading https://download-0000.copernicus-climate.eu/cache-compute-0000/cache/data4/adaptor.mars.external-1623644684.8290985-7081-7-39c72ec5-f46d-4b4f-af61-9b81909f02ac.nc to /media/nicolasf/END19101/ICU/data/CDS/operational/hindcasts/METEO_FRANCE/TPRATE/ensemble_seas_forecasts_tprate_from_2014_06_METEO_FRANCE.netcdf (2M)\n",
      "2021-06-14 16:25:04,349 INFO Download rate 136.2K/s \n"
     ]
    },
    {
     "name": "stdout",
     "output_type": "stream",
     "text": [
      "\n",
      "/media/nicolasf/END19101/ICU/data/CDS/operational/hindcasts/METEO_FRANCE/TPRATE/ensemble_seas_forecasts_tprate_from_2014_06_METEO_FRANCE.netcdf downloaded OK\n",
      "\n",
      "\n",
      "attempting to download tprate for GCM DWD, for level surface, year 2014, month 6, in netcdf, attempt 1 of 3\n",
      "\n"
     ]
    },
    {
     "name": "stderr",
     "output_type": "stream",
     "text": [
      "2021-06-14 16:25:04,931 INFO Welcome to the CDS\n",
      "2021-06-14 16:25:04,932 INFO Sending request to https://cds.climate.copernicus.eu/api/v2/resources/seasonal-monthly-single-levels\n",
      "2021-06-14 16:25:06,164 INFO Request is queued\n",
      "2021-06-14 16:26:24,276 INFO Request is running\n",
      "2021-06-14 16:27:03,321 INFO Request is completed\n",
      "2021-06-14 16:27:03,323 INFO Downloading https://download-0008.copernicus-climate.eu/cache-compute-0008/cache/data4/adaptor.mars.external-1623644782.2582116-30255-15-bce7da5c-a13c-459b-8e19-26e77499ef87.nc to /media/nicolasf/END19101/ICU/data/CDS/operational/hindcasts/DWD/TPRATE/ensemble_seas_forecasts_tprate_from_2014_06_DWD.netcdf (2.3M)\n",
      "2021-06-14 16:27:11,733 INFO Download rate 285.3K/s \n"
     ]
    },
    {
     "name": "stdout",
     "output_type": "stream",
     "text": [
      "\n",
      "/media/nicolasf/END19101/ICU/data/CDS/operational/hindcasts/DWD/TPRATE/ensemble_seas_forecasts_tprate_from_2014_06_DWD.netcdf downloaded OK\n",
      "\n",
      "\n",
      "attempting to download tprate for GCM CMCC, for level surface, year 2014, month 6, in netcdf, attempt 1 of 3\n",
      "\n"
     ]
    },
    {
     "name": "stderr",
     "output_type": "stream",
     "text": [
      "2021-06-14 16:27:12,310 INFO Welcome to the CDS\n",
      "2021-06-14 16:27:12,312 INFO Sending request to https://cds.climate.copernicus.eu/api/v2/resources/seasonal-monthly-single-levels\n",
      "2021-06-14 16:27:12,613 INFO Request is queued\n",
      "2021-06-14 16:28:30,179 INFO Request is completed\n",
      "2021-06-14 16:28:30,181 INFO Downloading https://download-0015.copernicus-climate.eu/cache-compute-0015/cache/data3/adaptor.mars.external-1623644902.4853885-15432-9-5c809468-7c4b-495a-98c0-c647f8dc626e.nc to /media/nicolasf/END19101/ICU/data/CDS/operational/hindcasts/CMCC/TPRATE/ensemble_seas_forecasts_tprate_from_2014_06_CMCC.netcdf (3.1M)\n",
      "2021-06-14 16:28:41,467 INFO Download rate 283.4K/s \n"
     ]
    },
    {
     "name": "stdout",
     "output_type": "stream",
     "text": [
      "\n",
      "/media/nicolasf/END19101/ICU/data/CDS/operational/hindcasts/CMCC/TPRATE/ensemble_seas_forecasts_tprate_from_2014_06_CMCC.netcdf downloaded OK\n",
      "\n",
      "\n",
      "attempting to download tprate for GCM NCEP, for level surface, year 2014, month 6, in netcdf, attempt 1 of 3\n",
      "\n"
     ]
    },
    {
     "name": "stderr",
     "output_type": "stream",
     "text": [
      "2021-06-14 16:28:42,051 INFO Welcome to the CDS\n",
      "2021-06-14 16:28:42,053 INFO Sending request to https://cds.climate.copernicus.eu/api/v2/resources/seasonal-monthly-single-levels\n",
      "2021-06-14 16:28:42,352 INFO Request is queued\n",
      "2021-06-14 16:30:38,643 INFO Request is completed\n",
      "2021-06-14 16:30:38,645 INFO Downloading https://download-0003.copernicus-climate.eu/cache-compute-0003/cache/data2/adaptor.mars.external-1623645003.8864782-16326-13-3b3ac09c-de47-4a7d-84a6-2cf1595d8d18.nc to /media/nicolasf/END19101/ICU/data/CDS/operational/hindcasts/NCEP/TPRATE/ensemble_seas_forecasts_tprate_from_2014_06_NCEP.netcdf (1.9M)\n",
      "2021-06-14 16:30:45,102 INFO Download rate 297.3K/s \n"
     ]
    },
    {
     "name": "stdout",
     "output_type": "stream",
     "text": [
      "\n",
      "/media/nicolasf/END19101/ICU/data/CDS/operational/hindcasts/NCEP/TPRATE/ensemble_seas_forecasts_tprate_from_2014_06_NCEP.netcdf downloaded OK\n",
      "\n",
      "\n",
      "attempting to download tprate for GCM ECMWF, for level surface, year 2015, month 6, in netcdf, attempt 1 of 3\n",
      "\n"
     ]
    },
    {
     "name": "stderr",
     "output_type": "stream",
     "text": [
      "2021-06-14 16:30:45,684 INFO Welcome to the CDS\n",
      "2021-06-14 16:30:45,686 INFO Sending request to https://cds.climate.copernicus.eu/api/v2/resources/seasonal-monthly-single-levels\n",
      "2021-06-14 16:30:45,982 INFO Request is queued\n",
      "2021-06-14 16:30:55,271 INFO Request is running\n",
      "2021-06-14 16:31:00,632 INFO Request is completed\n",
      "2021-06-14 16:31:00,634 INFO Downloading https://download-0009.copernicus-climate.eu/cache-compute-0009/cache/data3/adaptor.mars.external-1623645054.1945186-5663-5-b835e865-ca18-4a8c-b668-890644e191fb.nc to /media/nicolasf/END19101/ICU/data/CDS/operational/hindcasts/ECMWF/TPRATE/ensemble_seas_forecasts_tprate_from_2015_06_ECMWF.netcdf (2M)\n",
      "2021-06-14 16:31:08,119 INFO Download rate 267.2K/s \n"
     ]
    },
    {
     "name": "stdout",
     "output_type": "stream",
     "text": [
      "\n",
      "/media/nicolasf/END19101/ICU/data/CDS/operational/hindcasts/ECMWF/TPRATE/ensemble_seas_forecasts_tprate_from_2015_06_ECMWF.netcdf downloaded OK\n",
      "\n",
      "\n",
      "attempting to download tprate for GCM UKMO, for level surface, year 2015, month 6, in netcdf, attempt 1 of 3\n",
      "\n"
     ]
    },
    {
     "name": "stderr",
     "output_type": "stream",
     "text": [
      "2021-06-14 16:31:08,702 INFO Welcome to the CDS\n",
      "2021-06-14 16:31:08,704 INFO Sending request to https://cds.climate.copernicus.eu/api/v2/resources/seasonal-monthly-single-levels\n",
      "2021-06-14 16:31:09,001 INFO Request is queued\n",
      "2021-06-14 16:32:00,627 INFO Request is completed\n",
      "2021-06-14 16:32:00,628 INFO Downloading https://download-0006.copernicus-climate.eu/cache-compute-0006/cache/data6/adaptor.mars.external-1623645117.3431904-21705-11-880b16cd-d7ad-4ec7-8a6e-724ac7c2ba74.nc to /media/nicolasf/END19101/ICU/data/CDS/operational/hindcasts/UKMO/TPRATE/ensemble_seas_forecasts_tprate_from_2015_06_UKMO.netcdf (2.2M)\n",
      "2021-06-14 16:32:07,645 INFO Download rate 319.2K/s \n"
     ]
    },
    {
     "name": "stdout",
     "output_type": "stream",
     "text": [
      "\n",
      "/media/nicolasf/END19101/ICU/data/CDS/operational/hindcasts/UKMO/TPRATE/ensemble_seas_forecasts_tprate_from_2015_06_UKMO.netcdf downloaded OK\n",
      "\n",
      "\n",
      "attempting to download tprate for GCM METEO_FRANCE, for level surface, year 2015, month 6, in netcdf, attempt 1 of 3\n",
      "\n"
     ]
    },
    {
     "name": "stderr",
     "output_type": "stream",
     "text": [
      "2021-06-14 16:32:08,226 INFO Welcome to the CDS\n",
      "2021-06-14 16:32:08,228 INFO Sending request to https://cds.climate.copernicus.eu/api/v2/resources/seasonal-monthly-single-levels\n",
      "2021-06-14 16:32:08,526 INFO Request is queued\n",
      "2021-06-14 16:35:02,862 INFO Request is completed\n",
      "2021-06-14 16:35:02,863 INFO Downloading https://download-0015.copernicus-climate.eu/cache-compute-0015/cache/data0/adaptor.mars.external-1623645244.9687634-17125-7-b3132056-1aed-4756-b4c9-f66acc8d5def.nc to /media/nicolasf/END19101/ICU/data/CDS/operational/hindcasts/METEO_FRANCE/TPRATE/ensemble_seas_forecasts_tprate_from_2015_06_METEO_FRANCE.netcdf (2M)\n",
      "2021-06-14 16:35:09,339 INFO Download rate 308.8K/s \n"
     ]
    },
    {
     "name": "stdout",
     "output_type": "stream",
     "text": [
      "\n",
      "/media/nicolasf/END19101/ICU/data/CDS/operational/hindcasts/METEO_FRANCE/TPRATE/ensemble_seas_forecasts_tprate_from_2015_06_METEO_FRANCE.netcdf downloaded OK\n",
      "\n",
      "\n",
      "attempting to download tprate for GCM DWD, for level surface, year 2015, month 6, in netcdf, attempt 1 of 3\n",
      "\n"
     ]
    },
    {
     "name": "stderr",
     "output_type": "stream",
     "text": [
      "2021-06-14 16:35:09,923 INFO Welcome to the CDS\n",
      "2021-06-14 16:35:09,924 INFO Sending request to https://cds.climate.copernicus.eu/api/v2/resources/seasonal-monthly-single-levels\n",
      "2021-06-14 16:35:10,222 INFO Request is queued\n",
      "2021-06-14 16:35:32,757 INFO Request is running\n",
      "2021-06-14 16:35:44,449 INFO Request is completed\n",
      "2021-06-14 16:35:44,451 INFO Downloading https://download-0003.copernicus-climate.eu/cache-compute-0003/cache/data7/adaptor.mars.external-1623645329.499433-18749-1-3149339a-aed3-489b-b05e-35728e40027c.nc to /media/nicolasf/END19101/ICU/data/CDS/operational/hindcasts/DWD/TPRATE/ensemble_seas_forecasts_tprate_from_2015_06_DWD.netcdf (2.3M)\n",
      "2021-06-14 16:35:52,285 INFO Download rate 306.2K/s \n"
     ]
    },
    {
     "name": "stdout",
     "output_type": "stream",
     "text": [
      "\n",
      "/media/nicolasf/END19101/ICU/data/CDS/operational/hindcasts/DWD/TPRATE/ensemble_seas_forecasts_tprate_from_2015_06_DWD.netcdf downloaded OK\n",
      "\n",
      "\n",
      "attempting to download tprate for GCM CMCC, for level surface, year 2015, month 6, in netcdf, attempt 1 of 3\n",
      "\n"
     ]
    },
    {
     "name": "stderr",
     "output_type": "stream",
     "text": [
      "2021-06-14 16:35:52,864 INFO Welcome to the CDS\n",
      "2021-06-14 16:35:52,866 INFO Sending request to https://cds.climate.copernicus.eu/api/v2/resources/seasonal-monthly-single-levels\n",
      "2021-06-14 16:35:53,163 INFO Request is queued\n",
      "2021-06-14 16:36:44,789 INFO Request is completed\n",
      "2021-06-14 16:36:44,789 INFO Downloading https://download-0008.copernicus-climate.eu/cache-compute-0008/cache/data6/adaptor.mars.external-1623645393.9573205-31857-22-fc154281-dc61-481b-a902-f38a9e9f131d.nc to /media/nicolasf/END19101/ICU/data/CDS/operational/hindcasts/CMCC/TPRATE/ensemble_seas_forecasts_tprate_from_2015_06_CMCC.netcdf (3.1M)\n",
      "2021-06-14 16:37:01,015 INFO Download rate 197.1K/s \n"
     ]
    },
    {
     "name": "stdout",
     "output_type": "stream",
     "text": [
      "\n",
      "/media/nicolasf/END19101/ICU/data/CDS/operational/hindcasts/CMCC/TPRATE/ensemble_seas_forecasts_tprate_from_2015_06_CMCC.netcdf downloaded OK\n",
      "\n",
      "\n",
      "attempting to download tprate for GCM NCEP, for level surface, year 2015, month 6, in netcdf, attempt 1 of 3\n",
      "\n"
     ]
    },
    {
     "name": "stderr",
     "output_type": "stream",
     "text": [
      "2021-06-14 16:37:01,599 INFO Welcome to the CDS\n",
      "2021-06-14 16:37:01,600 INFO Sending request to https://cds.climate.copernicus.eu/api/v2/resources/seasonal-monthly-single-levels\n",
      "2021-06-14 16:37:01,894 INFO Request is queued\n",
      "2021-06-14 16:37:24,432 INFO Request is running\n",
      "2021-06-14 16:37:36,128 INFO Request is completed\n",
      "2021-06-14 16:37:36,130 INFO Downloading https://download-0013.copernicus-climate.eu/cache-compute-0013/cache/data7/adaptor.mars.external-1623645442.3938234-26282-5-4ed28151-e6a4-4abf-a598-6bdf329717cc.nc to /media/nicolasf/END19101/ICU/data/CDS/operational/hindcasts/NCEP/TPRATE/ensemble_seas_forecasts_tprate_from_2015_06_NCEP.netcdf (1.9M)\n",
      "2021-06-14 16:37:46,058 INFO Download rate 193.4K/s \n"
     ]
    },
    {
     "name": "stdout",
     "output_type": "stream",
     "text": [
      "\n",
      "/media/nicolasf/END19101/ICU/data/CDS/operational/hindcasts/NCEP/TPRATE/ensemble_seas_forecasts_tprate_from_2015_06_NCEP.netcdf downloaded OK\n",
      "\n",
      "\n",
      "attempting to download tprate for GCM ECMWF, for level surface, year 2016, month 6, in netcdf, attempt 1 of 3\n",
      "\n"
     ]
    },
    {
     "name": "stderr",
     "output_type": "stream",
     "text": [
      "2021-06-14 16:37:47,567 INFO Welcome to the CDS\n",
      "2021-06-14 16:37:47,568 INFO Sending request to https://cds.climate.copernicus.eu/api/v2/resources/seasonal-monthly-single-levels\n",
      "2021-06-14 16:37:47,862 INFO Request is queued\n",
      "2021-06-14 16:39:44,183 INFO Request is completed\n",
      "2021-06-14 16:39:44,185 INFO Downloading https://download-0007.copernicus-climate.eu/cache-compute-0007/cache/data8/adaptor.mars.external-1623645572.5522325-31385-22-f5aa714a-7842-48b6-9f70-d7c964504361.nc to /media/nicolasf/END19101/ICU/data/CDS/operational/hindcasts/ECMWF/TPRATE/ensemble_seas_forecasts_tprate_from_2016_06_ECMWF.netcdf (2M)\n",
      "2021-06-14 16:39:50,862 INFO Download rate 299.5K/s \n"
     ]
    },
    {
     "name": "stdout",
     "output_type": "stream",
     "text": [
      "\n",
      "/media/nicolasf/END19101/ICU/data/CDS/operational/hindcasts/ECMWF/TPRATE/ensemble_seas_forecasts_tprate_from_2016_06_ECMWF.netcdf downloaded OK\n",
      "\n",
      "\n",
      "attempting to download tprate for GCM UKMO, for level surface, year 2016, month 6, in netcdf, attempt 1 of 3\n",
      "\n"
     ]
    },
    {
     "name": "stderr",
     "output_type": "stream",
     "text": [
      "2021-06-14 16:39:51,445 INFO Welcome to the CDS\n",
      "2021-06-14 16:39:51,447 INFO Sending request to https://cds.climate.copernicus.eu/api/v2/resources/seasonal-monthly-single-levels\n",
      "2021-06-14 16:39:51,744 INFO Request is queued\n",
      "2021-06-14 16:40:25,972 INFO Request is completed\n",
      "2021-06-14 16:40:25,974 INFO Downloading https://download-0013.copernicus-climate.eu/cache-compute-0013/cache/data0/adaptor.mars.external-1623645614.3116453-25039-21-ab0be97a-ea58-4db0-a1cb-a613c3e5c589.nc to /media/nicolasf/END19101/ICU/data/CDS/operational/hindcasts/UKMO/TPRATE/ensemble_seas_forecasts_tprate_from_2016_06_UKMO.netcdf (2.2M)\n",
      "2021-06-14 16:40:32,985 INFO Download rate 319.4K/s \n"
     ]
    },
    {
     "name": "stdout",
     "output_type": "stream",
     "text": [
      "\n",
      "/media/nicolasf/END19101/ICU/data/CDS/operational/hindcasts/UKMO/TPRATE/ensemble_seas_forecasts_tprate_from_2016_06_UKMO.netcdf downloaded OK\n",
      "\n",
      "\n",
      "attempting to download tprate for GCM METEO_FRANCE, for level surface, year 2016, month 6, in netcdf, attempt 1 of 3\n",
      "\n"
     ]
    },
    {
     "name": "stderr",
     "output_type": "stream",
     "text": [
      "2021-06-14 16:40:33,559 INFO Welcome to the CDS\n",
      "2021-06-14 16:40:33,560 INFO Sending request to https://cds.climate.copernicus.eu/api/v2/resources/seasonal-monthly-single-levels\n",
      "2021-06-14 16:40:33,855 INFO Request is queued\n",
      "2021-06-14 16:41:51,424 INFO Request is completed\n",
      "2021-06-14 16:41:51,426 INFO Downloading https://download-0008.copernicus-climate.eu/cache-compute-0008/cache/data0/adaptor.mars.external-1623645703.0533555-2019-17-e3b4c776-05b0-40df-9456-d5dbeabc7f42.nc to /media/nicolasf/END19101/ICU/data/CDS/operational/hindcasts/METEO_FRANCE/TPRATE/ensemble_seas_forecasts_tprate_from_2016_06_METEO_FRANCE.netcdf (2M)\n",
      "2021-06-14 16:42:00,613 INFO Download rate 217.7K/s \n"
     ]
    },
    {
     "name": "stdout",
     "output_type": "stream",
     "text": [
      "\n",
      "/media/nicolasf/END19101/ICU/data/CDS/operational/hindcasts/METEO_FRANCE/TPRATE/ensemble_seas_forecasts_tprate_from_2016_06_METEO_FRANCE.netcdf downloaded OK\n",
      "\n",
      "\n",
      "attempting to download tprate for GCM DWD, for level surface, year 2016, month 6, in netcdf, attempt 1 of 3\n",
      "\n"
     ]
    },
    {
     "name": "stderr",
     "output_type": "stream",
     "text": [
      "2021-06-14 16:42:01,195 INFO Welcome to the CDS\n",
      "2021-06-14 16:42:01,196 INFO Sending request to https://cds.climate.copernicus.eu/api/v2/resources/seasonal-monthly-single-levels\n",
      "2021-06-14 16:42:01,500 INFO Request is queued\n",
      "2021-06-14 16:43:19,073 INFO Request is completed\n",
      "2021-06-14 16:43:19,074 INFO Downloading https://download-0010.copernicus-climate.eu/cache-compute-0010/cache/data1/adaptor.mars.external-1623645781.7972517-31465-17-20653444-3cd7-46ab-b799-f3169ee810b9.nc to /media/nicolasf/END19101/ICU/data/CDS/operational/hindcasts/DWD/TPRATE/ensemble_seas_forecasts_tprate_from_2016_06_DWD.netcdf (2.3M)\n",
      "2021-06-14 16:43:28,782 INFO Download rate 247.1K/s \n"
     ]
    },
    {
     "name": "stdout",
     "output_type": "stream",
     "text": [
      "\n",
      "/media/nicolasf/END19101/ICU/data/CDS/operational/hindcasts/DWD/TPRATE/ensemble_seas_forecasts_tprate_from_2016_06_DWD.netcdf downloaded OK\n",
      "\n",
      "\n",
      "attempting to download tprate for GCM CMCC, for level surface, year 2016, month 6, in netcdf, attempt 1 of 3\n",
      "\n"
     ]
    },
    {
     "name": "stderr",
     "output_type": "stream",
     "text": [
      "2021-06-14 16:43:29,366 INFO Welcome to the CDS\n",
      "2021-06-14 16:43:29,368 INFO Sending request to https://cds.climate.copernicus.eu/api/v2/resources/seasonal-monthly-single-levels\n",
      "2021-06-14 16:43:29,665 INFO Request is queued\n",
      "2021-06-14 16:49:53,094 INFO Request is completed\n",
      "2021-06-14 16:49:53,095 INFO Downloading https://download-0009.copernicus-climate.eu/cache-compute-0009/cache/data0/adaptor.mars.external-1623646118.2618802-11377-7-64d96e1d-8e54-423d-85d6-1041b7430252.nc to /media/nicolasf/END19101/ICU/data/CDS/operational/hindcasts/CMCC/TPRATE/ensemble_seas_forecasts_tprate_from_2016_06_CMCC.netcdf (3.1M)\n",
      "2021-06-14 16:50:06,950 INFO Download rate 230.8K/s \n"
     ]
    },
    {
     "name": "stdout",
     "output_type": "stream",
     "text": [
      "\n",
      "/media/nicolasf/END19101/ICU/data/CDS/operational/hindcasts/CMCC/TPRATE/ensemble_seas_forecasts_tprate_from_2016_06_CMCC.netcdf downloaded OK\n",
      "\n",
      "\n",
      "attempting to download tprate for GCM NCEP, for level surface, year 2016, month 6, in netcdf, attempt 1 of 3\n",
      "\n"
     ]
    },
    {
     "name": "stderr",
     "output_type": "stream",
     "text": [
      "2021-06-14 16:50:07,536 INFO Welcome to the CDS\n",
      "2021-06-14 16:50:07,538 INFO Sending request to https://cds.climate.copernicus.eu/api/v2/resources/seasonal-monthly-single-levels\n",
      "2021-06-14 16:50:07,840 INFO Request is queued\n",
      "2021-06-14 16:51:25,408 INFO Request is completed\n",
      "2021-06-14 16:51:25,409 INFO Downloading https://download-0007.copernicus-climate.eu/cache-compute-0007/cache/data8/adaptor.mars.external-1623646261.9208622-6136-16-ea10c2d4-3546-4df6-8826-43c1ecf58d4f.nc to /media/nicolasf/END19101/ICU/data/CDS/operational/hindcasts/NCEP/TPRATE/ensemble_seas_forecasts_tprate_from_2016_06_NCEP.netcdf (1.9M)\n",
      "2021-06-14 16:51:31,846 INFO Download rate 298.2K/s \n"
     ]
    },
    {
     "name": "stdout",
     "output_type": "stream",
     "text": [
      "\n",
      "/media/nicolasf/END19101/ICU/data/CDS/operational/hindcasts/NCEP/TPRATE/ensemble_seas_forecasts_tprate_from_2016_06_NCEP.netcdf downloaded OK\n",
      "\n"
     ]
    }
   ],
   "source": [
    "for date in dates:\n",
    "    for GCM in list_GCMs: \n",
    "        C3S.download(\n",
    "        GCM=GCM,\n",
    "        system=dict_systems[GCM],\n",
    "        varname=var_name,\n",
    "        year=date.year,\n",
    "        month=date.month,\n",
    "        leadtimes=[1, 2, 3, 4, 5, 6],\n",
    "        opath=gcm_path.joinpath(GCM).joinpath(var_name.upper()),\n",
    "        domain=domains.domains['C3S_download'],\n",
    "        file_format='netcdf',\n",
    "        level='surface',\n",
    "        max_retry=3,\n",
    "        )   "
   ]
  },
  {
   "cell_type": "code",
   "execution_count": null,
   "metadata": {},
   "outputs": [],
   "source": []
  }
 ],
 "metadata": {
  "kernelspec": {
   "display_name": "Python 3",
   "language": "python",
   "name": "python3"
  },
  "language_info": {
   "codemirror_mode": {
    "name": "ipython",
    "version": 3
   },
   "file_extension": ".py",
   "mimetype": "text/x-python",
   "name": "python",
   "nbconvert_exporter": "python",
   "pygments_lexer": "ipython3",
   "version": "3.8.10"
  },
  "papermill": {
   "duration": 114.72282,
   "end_time": "2020-02-06T23:48:33.529053",
   "environment_variables": {},
   "exception": null,
   "input_path": "./download_CDS_forecasts.ipynb",
   "output_path": "./download_CDS_forecasts.ipynb",
   "parameters": {
    "GCM": "CMCC",
    "month": 12,
    "var_name": "PRECIP",
    "year": 2018
   },
   "start_time": "2020-02-06T23:46:38.806233",
   "version": "1.2.1"
  }
 },
 "nbformat": 4,
 "nbformat_minor": 4
}
