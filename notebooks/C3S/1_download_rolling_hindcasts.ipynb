{
 "cells": [
  {
   "cell_type": "markdown",
   "metadata": {},
   "source": [
    "### download the rolling hindcasts "
   ]
  },
  {
   "cell_type": "code",
   "execution_count": 24,
   "metadata": {},
   "outputs": [
    {
     "name": "stdout",
     "output_type": "stream",
     "text": [
      "The autoreload extension is already loaded. To reload it, use:\n",
      "  %reload_ext autoreload\n"
     ]
    }
   ],
   "source": [
    "%load_ext autoreload\n",
    "%autoreload 2"
   ]
  },
  {
   "cell_type": "code",
   "execution_count": 25,
   "metadata": {
    "papermill": {
     "duration": 0.086706,
     "end_time": "2020-02-06T23:46:40.196481",
     "exception": false,
     "start_time": "2020-02-06T23:46:40.109775",
     "status": "completed"
    },
    "tags": []
   },
   "outputs": [],
   "source": [
    "import sys\n",
    "import pathlib\n",
    "from datetime import datetime\n",
    "from dateutil.relativedelta import relativedelta"
   ]
  },
  {
   "cell_type": "code",
   "execution_count": 26,
   "metadata": {},
   "outputs": [],
   "source": [
    "import numpy as np"
   ]
  },
  {
   "cell_type": "code",
   "execution_count": 27,
   "metadata": {
    "papermill": {
     "duration": 0.012961,
     "end_time": "2020-02-06T23:46:40.218011",
     "exception": false,
     "start_time": "2020-02-06T23:46:40.205050",
     "status": "completed"
    },
    "tags": []
   },
   "outputs": [],
   "source": [
    "HOME = pathlib.Path.home()"
   ]
  },
  {
   "cell_type": "code",
   "execution_count": 28,
   "metadata": {},
   "outputs": [],
   "source": [
    "CWD = pathlib.Path.cwd()"
   ]
  },
  {
   "cell_type": "code",
   "execution_count": 29,
   "metadata": {},
   "outputs": [
    {
     "data": {
      "text/plain": [
       "PosixPath('/home/nicolasf/operational/ICU/development/hotspots/code/ICU_Water_Watch/notebooks/C3S')"
      ]
     },
     "execution_count": 29,
     "metadata": {},
     "output_type": "execute_result"
    }
   ],
   "source": [
    "CWD"
   ]
  },
  {
   "cell_type": "markdown",
   "metadata": {},
   "source": [
    "### import local functions for the downloading of the C3S forecasts "
   ]
  },
  {
   "cell_type": "code",
   "execution_count": 30,
   "metadata": {},
   "outputs": [],
   "source": [
    "sys.path.append('../..')"
   ]
  },
  {
   "cell_type": "code",
   "execution_count": 31,
   "metadata": {},
   "outputs": [],
   "source": [
    "from ICU_Water_Watch import C3S, domains"
   ]
  },
  {
   "cell_type": "markdown",
   "metadata": {},
   "source": [
    "### show the predefined domains "
   ]
  },
  {
   "cell_type": "code",
   "execution_count": 32,
   "metadata": {},
   "outputs": [
    {
     "data": {
      "text/plain": [
       "{'Tropical_Pacific': [140, 220, -25, 25],\n",
       " 'SW_Pacific': [172.5, 190, -22.5, -12],\n",
       " 'Fiji': [175, 183, -21, -15],\n",
       " 'NZ': [161, 181, -50, -30],\n",
       " 'Pacific': [140, 240, -50, 25],\n",
       " 'C3S_download': [100, 240, -50, 30],\n",
       " 'Water_Watch': [120, 240, -38, 22.5]}"
      ]
     },
     "execution_count": 32,
     "metadata": {},
     "output_type": "execute_result"
    }
   ],
   "source": [
    "domains.domains"
   ]
  },
  {
   "cell_type": "markdown",
   "metadata": {},
   "source": [
    "### provider (always CDS for now)"
   ]
  },
  {
   "cell_type": "code",
   "execution_count": 33,
   "metadata": {
    "papermill": {
     "duration": 0.012879,
     "end_time": "2020-02-06T23:46:40.239506",
     "exception": false,
     "start_time": "2020-02-06T23:46:40.226627",
     "status": "completed"
    },
    "tags": []
   },
   "outputs": [],
   "source": [
    "provider = 'CDS'"
   ]
  },
  {
   "cell_type": "markdown",
   "metadata": {},
   "source": [
    "### variable name"
   ]
  },
  {
   "cell_type": "code",
   "execution_count": 34,
   "metadata": {},
   "outputs": [],
   "source": [
    "var_name = 'tprate'"
   ]
  },
  {
   "cell_type": "markdown",
   "metadata": {},
   "source": [
    "### mapping GCMs to systems "
   ]
  },
  {
   "cell_type": "code",
   "execution_count": 38,
   "metadata": {},
   "outputs": [],
   "source": [
    "from collections import OrderedDict as OD"
   ]
  },
  {
   "cell_type": "code",
   "execution_count": 39,
   "metadata": {},
   "outputs": [],
   "source": [
    "dict_systems = OD(ECMWF=5,\n",
    "                   UKMO=600, \n",
    "                   METEO_FRANCE=8, \n",
    "                   DWD=21, \n",
    "                   CMCC=35, \n",
    "                   NCEP=2,\n",
    "                   JMA=2, \n",
    "                   )"
   ]
  },
  {
   "cell_type": "code",
   "execution_count": 40,
   "metadata": {},
   "outputs": [
    {
     "data": {
      "text/plain": [
       "odict_keys(['ECMWF', 'UKMO', 'METEO_FRANCE', 'DWD', 'CMCC', 'NCEP', 'JMA'])"
      ]
     },
     "execution_count": 40,
     "metadata": {},
     "output_type": "execute_result"
    }
   ],
   "source": [
    "dict_systems.keys()"
   ]
  },
  {
   "cell_type": "markdown",
   "metadata": {},
   "source": [
    "### lag in months (if need to download older forecasts)"
   ]
  },
  {
   "cell_type": "code",
   "execution_count": 41,
   "metadata": {},
   "outputs": [],
   "source": [
    "lag = 0"
   ]
  },
  {
   "cell_type": "markdown",
   "metadata": {},
   "source": [
    "### get today's date "
   ]
  },
  {
   "cell_type": "code",
   "execution_count": 42,
   "metadata": {},
   "outputs": [],
   "source": [
    "date = datetime.utcnow()"
   ]
  },
  {
   "cell_type": "markdown",
   "metadata": {},
   "source": [
    "### apply lag "
   ]
  },
  {
   "cell_type": "code",
   "execution_count": 43,
   "metadata": {},
   "outputs": [],
   "source": [
    "date = date - relativedelta(months=lag)"
   ]
  },
  {
   "cell_type": "code",
   "execution_count": 44,
   "metadata": {},
   "outputs": [
    {
     "data": {
      "text/plain": [
       "datetime.datetime(2021, 9, 20, 2, 48, 26, 437175)"
      ]
     },
     "execution_count": 44,
     "metadata": {},
     "output_type": "execute_result"
    }
   ],
   "source": [
    "date"
   ]
  },
  {
   "cell_type": "markdown",
   "metadata": {},
   "source": [
    "### generate the dates for the download of the rolling hindcasts "
   ]
  },
  {
   "cell_type": "code",
   "execution_count": 45,
   "metadata": {},
   "outputs": [],
   "source": [
    "dates = [datetime(y, date.month, 1) for y in range(1993, 2016 + 1)]"
   ]
  },
  {
   "cell_type": "code",
   "execution_count": 46,
   "metadata": {},
   "outputs": [
    {
     "data": {
      "text/plain": [
       "[datetime.datetime(1993, 9, 1, 0, 0),\n",
       " datetime.datetime(1994, 9, 1, 0, 0),\n",
       " datetime.datetime(1995, 9, 1, 0, 0),\n",
       " datetime.datetime(1996, 9, 1, 0, 0),\n",
       " datetime.datetime(1997, 9, 1, 0, 0),\n",
       " datetime.datetime(1998, 9, 1, 0, 0),\n",
       " datetime.datetime(1999, 9, 1, 0, 0),\n",
       " datetime.datetime(2000, 9, 1, 0, 0),\n",
       " datetime.datetime(2001, 9, 1, 0, 0),\n",
       " datetime.datetime(2002, 9, 1, 0, 0),\n",
       " datetime.datetime(2003, 9, 1, 0, 0),\n",
       " datetime.datetime(2004, 9, 1, 0, 0),\n",
       " datetime.datetime(2005, 9, 1, 0, 0),\n",
       " datetime.datetime(2006, 9, 1, 0, 0),\n",
       " datetime.datetime(2007, 9, 1, 0, 0),\n",
       " datetime.datetime(2008, 9, 1, 0, 0),\n",
       " datetime.datetime(2009, 9, 1, 0, 0),\n",
       " datetime.datetime(2010, 9, 1, 0, 0),\n",
       " datetime.datetime(2011, 9, 1, 0, 0),\n",
       " datetime.datetime(2012, 9, 1, 0, 0),\n",
       " datetime.datetime(2013, 9, 1, 0, 0),\n",
       " datetime.datetime(2014, 9, 1, 0, 0),\n",
       " datetime.datetime(2015, 9, 1, 0, 0),\n",
       " datetime.datetime(2016, 9, 1, 0, 0)]"
      ]
     },
     "execution_count": 46,
     "metadata": {},
     "output_type": "execute_result"
    }
   ],
   "source": [
    "dates"
   ]
  },
  {
   "cell_type": "markdown",
   "metadata": {},
   "source": [
    "### path to download the rolling hindcasts "
   ]
  },
  {
   "cell_type": "code",
   "execution_count": 47,
   "metadata": {},
   "outputs": [],
   "source": [
    "gcm_path = pathlib.Path(f'/media/nicolasf/END19101/ICU/data/{provider}/operational/hindcasts')"
   ]
  },
  {
   "cell_type": "code",
   "execution_count": 48,
   "metadata": {},
   "outputs": [],
   "source": [
    "if not(gcm_path.exists()): \n",
    "    gcm_path.mkdir(parents=True)"
   ]
  },
  {
   "cell_type": "markdown",
   "metadata": {},
   "source": [
    "### Now loops over the list of GCM and downloads, for the parameters provided "
   ]
  },
  {
   "cell_type": "code",
   "execution_count": null,
   "metadata": {},
   "outputs": [
    {
     "name": "stdout",
     "output_type": "stream",
     "text": [
      "\n",
      "/media/nicolasf/END19101/ICU/data/CDS/operational/hindcasts/ECMWF/TPRATE/ensemble_seas_forecasts_tprate_from_1993_09_ECMWF.netcdf exists already on disk, skipping download and returning path\n",
      "\n",
      "\n",
      "/media/nicolasf/END19101/ICU/data/CDS/operational/hindcasts/UKMO/TPRATE/ensemble_seas_forecasts_tprate_from_1993_09_UKMO.netcdf exists already on disk, skipping download and returning path\n",
      "\n",
      "\n",
      "attempting to download tprate for GCM METEO_FRANCE, for level surface, year 1993, month 9, in netcdf, attempt 1 of 3\n",
      "\n"
     ]
    },
    {
     "name": "stderr",
     "output_type": "stream",
     "text": [
      "2021-09-20 14:48:46,652 INFO Welcome to the CDS\n",
      "2021-09-20 14:48:46,654 INFO Sending request to https://cds.climate.copernicus.eu/api/v2/resources/seasonal-monthly-single-levels\n",
      "2021-09-20 14:48:47,163 INFO Request is queued\n",
      "2021-09-20 14:49:39,287 INFO Request is completed\n",
      "2021-09-20 14:49:39,290 INFO Downloading https://download-0003.copernicus-climate.eu/cache-compute-0003/cache/data1/adaptor.mars.external-1632106178.0847414-21262-4-9d0df15d-389d-45ae-a006-9cb86b285421.nc to /media/nicolasf/END19101/ICU/data/CDS/operational/hindcasts/METEO_FRANCE/TPRATE/ensemble_seas_forecasts_tprate_from_1993_09_METEO_FRANCE.netcdf (2.7M)\n",
      "2021-09-20 14:49:48,032 INFO Download rate 319.2K/s \n"
     ]
    },
    {
     "name": "stdout",
     "output_type": "stream",
     "text": [
      "\n",
      "/media/nicolasf/END19101/ICU/data/CDS/operational/hindcasts/METEO_FRANCE/TPRATE/ensemble_seas_forecasts_tprate_from_1993_09_METEO_FRANCE.netcdf downloaded OK\n",
      "\n",
      "\n",
      "/media/nicolasf/END19101/ICU/data/CDS/operational/hindcasts/DWD/TPRATE/ensemble_seas_forecasts_tprate_from_1993_09_DWD.netcdf exists already on disk, skipping download and returning path\n",
      "\n",
      "\n",
      "/media/nicolasf/END19101/ICU/data/CDS/operational/hindcasts/CMCC/TPRATE/ensemble_seas_forecasts_tprate_from_1993_09_CMCC.netcdf exists already on disk, skipping download and returning path\n",
      "\n",
      "\n",
      "/media/nicolasf/END19101/ICU/data/CDS/operational/hindcasts/NCEP/TPRATE/ensemble_seas_forecasts_tprate_from_1993_09_NCEP.netcdf exists already on disk, skipping download and returning path\n",
      "\n",
      "\n",
      "/media/nicolasf/END19101/ICU/data/CDS/operational/hindcasts/JMA/TPRATE/ensemble_seas_forecasts_tprate_from_1993_09_JMA.netcdf exists already on disk, skipping download and returning path\n",
      "\n",
      "\n",
      "/media/nicolasf/END19101/ICU/data/CDS/operational/hindcasts/ECMWF/TPRATE/ensemble_seas_forecasts_tprate_from_1994_09_ECMWF.netcdf exists already on disk, skipping download and returning path\n",
      "\n",
      "\n",
      "/media/nicolasf/END19101/ICU/data/CDS/operational/hindcasts/UKMO/TPRATE/ensemble_seas_forecasts_tprate_from_1994_09_UKMO.netcdf exists already on disk, skipping download and returning path\n",
      "\n",
      "\n",
      "attempting to download tprate for GCM METEO_FRANCE, for level surface, year 1994, month 9, in netcdf, attempt 1 of 3\n",
      "\n"
     ]
    },
    {
     "name": "stderr",
     "output_type": "stream",
     "text": [
      "2021-09-20 14:49:48,708 INFO Welcome to the CDS\n",
      "2021-09-20 14:49:48,710 INFO Sending request to https://cds.climate.copernicus.eu/api/v2/resources/seasonal-monthly-single-levels\n",
      "2021-09-20 14:49:49,322 INFO Request is queued\n",
      "2021-09-20 14:50:41,548 INFO Request is completed\n",
      "2021-09-20 14:50:41,551 INFO Downloading https://download-0009.copernicus-climate.eu/cache-compute-0009/cache/data3/adaptor.mars.external-1632106233.6881137-25923-8-95e051a8-2b6a-4aa0-b83a-9c01c4e2cdc0.nc to /media/nicolasf/END19101/ICU/data/CDS/operational/hindcasts/METEO_FRANCE/TPRATE/ensemble_seas_forecasts_tprate_from_1994_09_METEO_FRANCE.netcdf (2.7M)\n",
      "2021-09-20 14:50:52,249 INFO Download rate 260.9K/s \n"
     ]
    },
    {
     "name": "stdout",
     "output_type": "stream",
     "text": [
      "\n",
      "/media/nicolasf/END19101/ICU/data/CDS/operational/hindcasts/METEO_FRANCE/TPRATE/ensemble_seas_forecasts_tprate_from_1994_09_METEO_FRANCE.netcdf downloaded OK\n",
      "\n",
      "\n",
      "/media/nicolasf/END19101/ICU/data/CDS/operational/hindcasts/DWD/TPRATE/ensemble_seas_forecasts_tprate_from_1994_09_DWD.netcdf exists already on disk, skipping download and returning path\n",
      "\n",
      "\n",
      "/media/nicolasf/END19101/ICU/data/CDS/operational/hindcasts/CMCC/TPRATE/ensemble_seas_forecasts_tprate_from_1994_09_CMCC.netcdf exists already on disk, skipping download and returning path\n",
      "\n",
      "\n",
      "/media/nicolasf/END19101/ICU/data/CDS/operational/hindcasts/NCEP/TPRATE/ensemble_seas_forecasts_tprate_from_1994_09_NCEP.netcdf exists already on disk, skipping download and returning path\n",
      "\n",
      "\n",
      "/media/nicolasf/END19101/ICU/data/CDS/operational/hindcasts/JMA/TPRATE/ensemble_seas_forecasts_tprate_from_1994_09_JMA.netcdf exists already on disk, skipping download and returning path\n",
      "\n",
      "\n",
      "/media/nicolasf/END19101/ICU/data/CDS/operational/hindcasts/ECMWF/TPRATE/ensemble_seas_forecasts_tprate_from_1995_09_ECMWF.netcdf exists already on disk, skipping download and returning path\n",
      "\n",
      "\n",
      "/media/nicolasf/END19101/ICU/data/CDS/operational/hindcasts/UKMO/TPRATE/ensemble_seas_forecasts_tprate_from_1995_09_UKMO.netcdf exists already on disk, skipping download and returning path\n",
      "\n",
      "\n",
      "attempting to download tprate for GCM METEO_FRANCE, for level surface, year 1995, month 9, in netcdf, attempt 1 of 3\n",
      "\n"
     ]
    },
    {
     "name": "stderr",
     "output_type": "stream",
     "text": [
      "2021-09-20 14:50:52,965 INFO Welcome to the CDS\n",
      "2021-09-20 14:50:52,967 INFO Sending request to https://cds.climate.copernicus.eu/api/v2/resources/seasonal-monthly-single-levels\n",
      "2021-09-20 14:50:53,501 INFO Request is queued\n",
      "2021-09-20 14:51:03,053 INFO Request is running\n",
      "2021-09-20 14:51:08,583 INFO Request is completed\n",
      "2021-09-20 14:51:08,585 INFO Downloading https://download-0012.copernicus-climate.eu/cache-compute-0012/cache/data4/adaptor.mars.external-1632106264.4755864-18188-11-69fa8a2e-d9c1-4fb9-a673-45c362c46939.nc to /media/nicolasf/END19101/ICU/data/CDS/operational/hindcasts/METEO_FRANCE/TPRATE/ensemble_seas_forecasts_tprate_from_1995_09_METEO_FRANCE.netcdf (2.7M)\n",
      "2021-09-20 14:51:17,399 INFO Download rate 316.7K/s \n"
     ]
    },
    {
     "name": "stdout",
     "output_type": "stream",
     "text": [
      "\n",
      "/media/nicolasf/END19101/ICU/data/CDS/operational/hindcasts/METEO_FRANCE/TPRATE/ensemble_seas_forecasts_tprate_from_1995_09_METEO_FRANCE.netcdf downloaded OK\n",
      "\n",
      "\n",
      "/media/nicolasf/END19101/ICU/data/CDS/operational/hindcasts/DWD/TPRATE/ensemble_seas_forecasts_tprate_from_1995_09_DWD.netcdf exists already on disk, skipping download and returning path\n",
      "\n",
      "\n",
      "/media/nicolasf/END19101/ICU/data/CDS/operational/hindcasts/CMCC/TPRATE/ensemble_seas_forecasts_tprate_from_1995_09_CMCC.netcdf exists already on disk, skipping download and returning path\n",
      "\n",
      "\n",
      "/media/nicolasf/END19101/ICU/data/CDS/operational/hindcasts/NCEP/TPRATE/ensemble_seas_forecasts_tprate_from_1995_09_NCEP.netcdf exists already on disk, skipping download and returning path\n",
      "\n",
      "\n",
      "/media/nicolasf/END19101/ICU/data/CDS/operational/hindcasts/JMA/TPRATE/ensemble_seas_forecasts_tprate_from_1995_09_JMA.netcdf exists already on disk, skipping download and returning path\n",
      "\n",
      "\n",
      "/media/nicolasf/END19101/ICU/data/CDS/operational/hindcasts/ECMWF/TPRATE/ensemble_seas_forecasts_tprate_from_1996_09_ECMWF.netcdf exists already on disk, skipping download and returning path\n",
      "\n",
      "\n",
      "/media/nicolasf/END19101/ICU/data/CDS/operational/hindcasts/UKMO/TPRATE/ensemble_seas_forecasts_tprate_from_1996_09_UKMO.netcdf exists already on disk, skipping download and returning path\n",
      "\n",
      "\n",
      "attempting to download tprate for GCM METEO_FRANCE, for level surface, year 1996, month 9, in netcdf, attempt 1 of 3\n",
      "\n"
     ]
    },
    {
     "name": "stderr",
     "output_type": "stream",
     "text": [
      "2021-09-20 14:51:18,105 INFO Welcome to the CDS\n",
      "2021-09-20 14:51:18,107 INFO Sending request to https://cds.climate.copernicus.eu/api/v2/resources/seasonal-monthly-single-levels\n",
      "2021-09-20 14:51:18,516 INFO Request is queued\n",
      "2021-09-20 14:51:53,126 INFO Request is running\n",
      "2021-09-20 14:52:10,639 INFO Request is completed\n",
      "2021-09-20 14:52:10,641 INFO Downloading https://download-0001.copernicus-climate.eu/cache-compute-0001/cache/data7/adaptor.mars.external-1632106313.03896-21731-19-7a5cd493-4b7f-46ea-a763-d20620bd8899.nc to /media/nicolasf/END19101/ICU/data/CDS/operational/hindcasts/METEO_FRANCE/TPRATE/ensemble_seas_forecasts_tprate_from_1996_09_METEO_FRANCE.netcdf (2.7M)\n",
      "2021-09-20 14:52:19,173 INFO Download rate 327.1K/s \n"
     ]
    },
    {
     "name": "stdout",
     "output_type": "stream",
     "text": [
      "\n",
      "/media/nicolasf/END19101/ICU/data/CDS/operational/hindcasts/METEO_FRANCE/TPRATE/ensemble_seas_forecasts_tprate_from_1996_09_METEO_FRANCE.netcdf downloaded OK\n",
      "\n",
      "\n",
      "/media/nicolasf/END19101/ICU/data/CDS/operational/hindcasts/DWD/TPRATE/ensemble_seas_forecasts_tprate_from_1996_09_DWD.netcdf exists already on disk, skipping download and returning path\n",
      "\n",
      "\n",
      "/media/nicolasf/END19101/ICU/data/CDS/operational/hindcasts/CMCC/TPRATE/ensemble_seas_forecasts_tprate_from_1996_09_CMCC.netcdf exists already on disk, skipping download and returning path\n",
      "\n",
      "\n",
      "/media/nicolasf/END19101/ICU/data/CDS/operational/hindcasts/NCEP/TPRATE/ensemble_seas_forecasts_tprate_from_1996_09_NCEP.netcdf exists already on disk, skipping download and returning path\n",
      "\n",
      "\n",
      "/media/nicolasf/END19101/ICU/data/CDS/operational/hindcasts/JMA/TPRATE/ensemble_seas_forecasts_tprate_from_1996_09_JMA.netcdf exists already on disk, skipping download and returning path\n",
      "\n",
      "\n",
      "/media/nicolasf/END19101/ICU/data/CDS/operational/hindcasts/ECMWF/TPRATE/ensemble_seas_forecasts_tprate_from_1997_09_ECMWF.netcdf exists already on disk, skipping download and returning path\n",
      "\n",
      "\n",
      "/media/nicolasf/END19101/ICU/data/CDS/operational/hindcasts/UKMO/TPRATE/ensemble_seas_forecasts_tprate_from_1997_09_UKMO.netcdf exists already on disk, skipping download and returning path\n",
      "\n",
      "\n",
      "attempting to download tprate for GCM METEO_FRANCE, for level surface, year 1997, month 9, in netcdf, attempt 1 of 3\n",
      "\n"
     ]
    },
    {
     "name": "stderr",
     "output_type": "stream",
     "text": [
      "2021-09-20 14:52:19,782 INFO Welcome to the CDS\n",
      "2021-09-20 14:52:19,783 INFO Sending request to https://cds.climate.copernicus.eu/api/v2/resources/seasonal-monthly-single-levels\n",
      "2021-09-20 14:52:20,268 INFO Request is queued\n",
      "2021-09-20 14:52:35,188 INFO Request is completed\n",
      "2021-09-20 14:52:35,190 INFO Downloading https://download-0013.copernicus-climate.eu/cache-compute-0013/cache/data8/adaptor.mars.external-1632106354.0120294-16714-15-8b0c61cd-cde1-4849-8f41-6299ad56231e.nc to /media/nicolasf/END19101/ICU/data/CDS/operational/hindcasts/METEO_FRANCE/TPRATE/ensemble_seas_forecasts_tprate_from_1997_09_METEO_FRANCE.netcdf (2.7M)\n",
      "2021-09-20 14:52:43,953 INFO Download rate 318.5K/s \n"
     ]
    },
    {
     "name": "stdout",
     "output_type": "stream",
     "text": [
      "\n",
      "/media/nicolasf/END19101/ICU/data/CDS/operational/hindcasts/METEO_FRANCE/TPRATE/ensemble_seas_forecasts_tprate_from_1997_09_METEO_FRANCE.netcdf downloaded OK\n",
      "\n",
      "\n",
      "/media/nicolasf/END19101/ICU/data/CDS/operational/hindcasts/DWD/TPRATE/ensemble_seas_forecasts_tprate_from_1997_09_DWD.netcdf exists already on disk, skipping download and returning path\n",
      "\n",
      "\n",
      "/media/nicolasf/END19101/ICU/data/CDS/operational/hindcasts/CMCC/TPRATE/ensemble_seas_forecasts_tprate_from_1997_09_CMCC.netcdf exists already on disk, skipping download and returning path\n",
      "\n",
      "\n",
      "/media/nicolasf/END19101/ICU/data/CDS/operational/hindcasts/NCEP/TPRATE/ensemble_seas_forecasts_tprate_from_1997_09_NCEP.netcdf exists already on disk, skipping download and returning path\n",
      "\n",
      "\n",
      "/media/nicolasf/END19101/ICU/data/CDS/operational/hindcasts/JMA/TPRATE/ensemble_seas_forecasts_tprate_from_1997_09_JMA.netcdf exists already on disk, skipping download and returning path\n",
      "\n",
      "\n",
      "/media/nicolasf/END19101/ICU/data/CDS/operational/hindcasts/ECMWF/TPRATE/ensemble_seas_forecasts_tprate_from_1998_09_ECMWF.netcdf exists already on disk, skipping download and returning path\n",
      "\n",
      "\n",
      "/media/nicolasf/END19101/ICU/data/CDS/operational/hindcasts/UKMO/TPRATE/ensemble_seas_forecasts_tprate_from_1998_09_UKMO.netcdf exists already on disk, skipping download and returning path\n",
      "\n",
      "\n",
      "attempting to download tprate for GCM METEO_FRANCE, for level surface, year 1998, month 9, in netcdf, attempt 1 of 3\n",
      "\n"
     ]
    },
    {
     "name": "stderr",
     "output_type": "stream",
     "text": [
      "2021-09-20 14:52:44,637 INFO Welcome to the CDS\n",
      "2021-09-20 14:52:44,639 INFO Sending request to https://cds.climate.copernicus.eu/api/v2/resources/seasonal-monthly-single-levels\n",
      "2021-09-20 14:52:45,046 INFO Request is queued\n",
      "2021-09-20 14:54:03,283 INFO Request is completed\n",
      "2021-09-20 14:54:03,285 INFO Downloading https://download-0002.copernicus-climate.eu/cache-compute-0002/cache/data3/adaptor.mars.external-1632106422.2936673-2201-6-c59345dd-ecab-4d09-9235-c1a76af17c2f.nc to /media/nicolasf/END19101/ICU/data/CDS/operational/hindcasts/METEO_FRANCE/TPRATE/ensemble_seas_forecasts_tprate_from_1998_09_METEO_FRANCE.netcdf (2.7M)\n",
      "2021-09-20 14:54:11,995 INFO Download rate 320.4K/s \n"
     ]
    },
    {
     "name": "stdout",
     "output_type": "stream",
     "text": [
      "\n",
      "/media/nicolasf/END19101/ICU/data/CDS/operational/hindcasts/METEO_FRANCE/TPRATE/ensemble_seas_forecasts_tprate_from_1998_09_METEO_FRANCE.netcdf downloaded OK\n",
      "\n",
      "\n",
      "/media/nicolasf/END19101/ICU/data/CDS/operational/hindcasts/DWD/TPRATE/ensemble_seas_forecasts_tprate_from_1998_09_DWD.netcdf exists already on disk, skipping download and returning path\n",
      "\n",
      "\n",
      "/media/nicolasf/END19101/ICU/data/CDS/operational/hindcasts/CMCC/TPRATE/ensemble_seas_forecasts_tprate_from_1998_09_CMCC.netcdf exists already on disk, skipping download and returning path\n",
      "\n",
      "\n",
      "/media/nicolasf/END19101/ICU/data/CDS/operational/hindcasts/NCEP/TPRATE/ensemble_seas_forecasts_tprate_from_1998_09_NCEP.netcdf exists already on disk, skipping download and returning path\n",
      "\n",
      "\n",
      "/media/nicolasf/END19101/ICU/data/CDS/operational/hindcasts/JMA/TPRATE/ensemble_seas_forecasts_tprate_from_1998_09_JMA.netcdf exists already on disk, skipping download and returning path\n",
      "\n",
      "\n",
      "/media/nicolasf/END19101/ICU/data/CDS/operational/hindcasts/ECMWF/TPRATE/ensemble_seas_forecasts_tprate_from_1999_09_ECMWF.netcdf exists already on disk, skipping download and returning path\n",
      "\n",
      "\n",
      "/media/nicolasf/END19101/ICU/data/CDS/operational/hindcasts/UKMO/TPRATE/ensemble_seas_forecasts_tprate_from_1999_09_UKMO.netcdf exists already on disk, skipping download and returning path\n",
      "\n",
      "\n",
      "attempting to download tprate for GCM METEO_FRANCE, for level surface, year 1999, month 9, in netcdf, attempt 1 of 3\n",
      "\n"
     ]
    },
    {
     "name": "stderr",
     "output_type": "stream",
     "text": [
      "2021-09-20 14:54:12,597 INFO Welcome to the CDS\n",
      "2021-09-20 14:54:12,599 INFO Sending request to https://cds.climate.copernicus.eu/api/v2/resources/seasonal-monthly-single-levels\n",
      "2021-09-20 14:54:12,971 INFO Request is queued\n",
      "2021-09-20 14:54:18,745 INFO Request is running\n",
      "2021-09-20 14:54:22,534 INFO Request is completed\n",
      "2021-09-20 14:54:22,537 INFO Downloading https://download-0002.copernicus-climate.eu/cache-compute-0002/cache/data3/adaptor.mars.external-1632106460.173046-2123-12-ac039c5b-c176-4d64-8803-5b0983b2d6f2.nc to /media/nicolasf/END19101/ICU/data/CDS/operational/hindcasts/METEO_FRANCE/TPRATE/ensemble_seas_forecasts_tprate_from_1999_09_METEO_FRANCE.netcdf (2.7M)\n",
      "2021-09-20 14:54:28,773 INFO Download rate 447.6K/s \n"
     ]
    },
    {
     "name": "stdout",
     "output_type": "stream",
     "text": [
      "\n",
      "/media/nicolasf/END19101/ICU/data/CDS/operational/hindcasts/METEO_FRANCE/TPRATE/ensemble_seas_forecasts_tprate_from_1999_09_METEO_FRANCE.netcdf downloaded OK\n",
      "\n",
      "\n",
      "/media/nicolasf/END19101/ICU/data/CDS/operational/hindcasts/DWD/TPRATE/ensemble_seas_forecasts_tprate_from_1999_09_DWD.netcdf exists already on disk, skipping download and returning path\n",
      "\n",
      "\n",
      "/media/nicolasf/END19101/ICU/data/CDS/operational/hindcasts/CMCC/TPRATE/ensemble_seas_forecasts_tprate_from_1999_09_CMCC.netcdf exists already on disk, skipping download and returning path\n",
      "\n",
      "\n",
      "/media/nicolasf/END19101/ICU/data/CDS/operational/hindcasts/NCEP/TPRATE/ensemble_seas_forecasts_tprate_from_1999_09_NCEP.netcdf exists already on disk, skipping download and returning path\n",
      "\n",
      "\n",
      "/media/nicolasf/END19101/ICU/data/CDS/operational/hindcasts/JMA/TPRATE/ensemble_seas_forecasts_tprate_from_1999_09_JMA.netcdf exists already on disk, skipping download and returning path\n",
      "\n",
      "\n",
      "/media/nicolasf/END19101/ICU/data/CDS/operational/hindcasts/ECMWF/TPRATE/ensemble_seas_forecasts_tprate_from_2000_09_ECMWF.netcdf exists already on disk, skipping download and returning path\n",
      "\n",
      "\n",
      "/media/nicolasf/END19101/ICU/data/CDS/operational/hindcasts/UKMO/TPRATE/ensemble_seas_forecasts_tprate_from_2000_09_UKMO.netcdf exists already on disk, skipping download and returning path\n",
      "\n",
      "\n",
      "attempting to download tprate for GCM METEO_FRANCE, for level surface, year 2000, month 9, in netcdf, attempt 1 of 3\n",
      "\n"
     ]
    },
    {
     "name": "stderr",
     "output_type": "stream",
     "text": [
      "2021-09-20 14:54:29,394 INFO Welcome to the CDS\n",
      "2021-09-20 14:54:29,395 INFO Sending request to https://cds.climate.copernicus.eu/api/v2/resources/seasonal-monthly-single-levels\n",
      "2021-09-20 14:54:29,747 INFO Request is queued\n",
      "2021-09-20 14:55:21,954 INFO Request is completed\n",
      "2021-09-20 14:55:21,956 INFO Downloading https://download-0012.copernicus-climate.eu/cache-compute-0012/cache/data4/adaptor.mars.external-1632106519.5438607-20567-4-584b160d-a46b-492e-89a7-4bf6fbd286e8.nc to /media/nicolasf/END19101/ICU/data/CDS/operational/hindcasts/METEO_FRANCE/TPRATE/ensemble_seas_forecasts_tprate_from_2000_09_METEO_FRANCE.netcdf (2.7M)\n",
      "2021-09-20 14:55:29,240 INFO Download rate 383.2K/s \n"
     ]
    },
    {
     "name": "stdout",
     "output_type": "stream",
     "text": [
      "\n",
      "/media/nicolasf/END19101/ICU/data/CDS/operational/hindcasts/METEO_FRANCE/TPRATE/ensemble_seas_forecasts_tprate_from_2000_09_METEO_FRANCE.netcdf downloaded OK\n",
      "\n",
      "\n",
      "/media/nicolasf/END19101/ICU/data/CDS/operational/hindcasts/DWD/TPRATE/ensemble_seas_forecasts_tprate_from_2000_09_DWD.netcdf exists already on disk, skipping download and returning path\n",
      "\n",
      "\n",
      "/media/nicolasf/END19101/ICU/data/CDS/operational/hindcasts/CMCC/TPRATE/ensemble_seas_forecasts_tprate_from_2000_09_CMCC.netcdf exists already on disk, skipping download and returning path\n",
      "\n",
      "\n",
      "/media/nicolasf/END19101/ICU/data/CDS/operational/hindcasts/NCEP/TPRATE/ensemble_seas_forecasts_tprate_from_2000_09_NCEP.netcdf exists already on disk, skipping download and returning path\n",
      "\n",
      "\n",
      "/media/nicolasf/END19101/ICU/data/CDS/operational/hindcasts/JMA/TPRATE/ensemble_seas_forecasts_tprate_from_2000_09_JMA.netcdf exists already on disk, skipping download and returning path\n",
      "\n",
      "\n",
      "/media/nicolasf/END19101/ICU/data/CDS/operational/hindcasts/ECMWF/TPRATE/ensemble_seas_forecasts_tprate_from_2001_09_ECMWF.netcdf exists already on disk, skipping download and returning path\n",
      "\n",
      "\n",
      "/media/nicolasf/END19101/ICU/data/CDS/operational/hindcasts/UKMO/TPRATE/ensemble_seas_forecasts_tprate_from_2001_09_UKMO.netcdf exists already on disk, skipping download and returning path\n",
      "\n",
      "\n",
      "attempting to download tprate for GCM METEO_FRANCE, for level surface, year 2001, month 9, in netcdf, attempt 1 of 3\n",
      "\n"
     ]
    },
    {
     "name": "stderr",
     "output_type": "stream",
     "text": [
      "2021-09-20 14:55:29,917 INFO Welcome to the CDS\n",
      "2021-09-20 14:55:29,918 INFO Sending request to https://cds.climate.copernicus.eu/api/v2/resources/seasonal-monthly-single-levels\n",
      "2021-09-20 14:55:30,325 INFO Request is queued\n",
      "2021-09-20 14:56:04,937 INFO Request is running\n",
      "2021-09-20 14:56:22,342 INFO Request is completed\n",
      "2021-09-20 14:56:22,344 INFO Downloading https://download-0010.copernicus-climate.eu/cache-compute-0010/cache/data9/adaptor.mars.external-1632106565.944015-13630-15-f6fafe9c-3155-4756-bf6d-34fa615f01a8.nc to /media/nicolasf/END19101/ICU/data/CDS/operational/hindcasts/METEO_FRANCE/TPRATE/ensemble_seas_forecasts_tprate_from_2001_09_METEO_FRANCE.netcdf (2.7M)\n",
      "2021-09-20 14:56:31,265 INFO Download rate 312.9K/s \n"
     ]
    },
    {
     "name": "stdout",
     "output_type": "stream",
     "text": [
      "\n",
      "/media/nicolasf/END19101/ICU/data/CDS/operational/hindcasts/METEO_FRANCE/TPRATE/ensemble_seas_forecasts_tprate_from_2001_09_METEO_FRANCE.netcdf downloaded OK\n",
      "\n",
      "\n",
      "/media/nicolasf/END19101/ICU/data/CDS/operational/hindcasts/DWD/TPRATE/ensemble_seas_forecasts_tprate_from_2001_09_DWD.netcdf exists already on disk, skipping download and returning path\n",
      "\n",
      "\n",
      "/media/nicolasf/END19101/ICU/data/CDS/operational/hindcasts/CMCC/TPRATE/ensemble_seas_forecasts_tprate_from_2001_09_CMCC.netcdf exists already on disk, skipping download and returning path\n",
      "\n",
      "\n",
      "/media/nicolasf/END19101/ICU/data/CDS/operational/hindcasts/NCEP/TPRATE/ensemble_seas_forecasts_tprate_from_2001_09_NCEP.netcdf exists already on disk, skipping download and returning path\n",
      "\n",
      "\n",
      "/media/nicolasf/END19101/ICU/data/CDS/operational/hindcasts/JMA/TPRATE/ensemble_seas_forecasts_tprate_from_2001_09_JMA.netcdf exists already on disk, skipping download and returning path\n",
      "\n",
      "\n",
      "/media/nicolasf/END19101/ICU/data/CDS/operational/hindcasts/ECMWF/TPRATE/ensemble_seas_forecasts_tprate_from_2002_09_ECMWF.netcdf exists already on disk, skipping download and returning path\n",
      "\n",
      "\n",
      "/media/nicolasf/END19101/ICU/data/CDS/operational/hindcasts/UKMO/TPRATE/ensemble_seas_forecasts_tprate_from_2002_09_UKMO.netcdf exists already on disk, skipping download and returning path\n",
      "\n",
      "\n",
      "attempting to download tprate for GCM METEO_FRANCE, for level surface, year 2002, month 9, in netcdf, attempt 1 of 3\n",
      "\n"
     ]
    },
    {
     "name": "stderr",
     "output_type": "stream",
     "text": [
      "2021-09-20 14:56:31,953 INFO Welcome to the CDS\n",
      "2021-09-20 14:56:31,955 INFO Sending request to https://cds.climate.copernicus.eu/api/v2/resources/seasonal-monthly-single-levels\n",
      "2021-09-20 14:56:32,382 INFO Request is queued\n",
      "2021-09-20 14:56:55,337 INFO Request is completed\n",
      "2021-09-20 14:56:55,339 INFO Downloading https://download-0013.copernicus-climate.eu/cache-compute-0013/cache/data1/adaptor.mars.external-1632106609.5264137-20113-9-4ba58f79-c304-4a74-9ae8-df486ce5b621.nc to /media/nicolasf/END19101/ICU/data/CDS/operational/hindcasts/METEO_FRANCE/TPRATE/ensemble_seas_forecasts_tprate_from_2002_09_METEO_FRANCE.netcdf (2.7M)\n",
      "2021-09-20 14:57:03,496 INFO Download rate 342.2K/s \n"
     ]
    },
    {
     "name": "stdout",
     "output_type": "stream",
     "text": [
      "\n",
      "/media/nicolasf/END19101/ICU/data/CDS/operational/hindcasts/METEO_FRANCE/TPRATE/ensemble_seas_forecasts_tprate_from_2002_09_METEO_FRANCE.netcdf downloaded OK\n",
      "\n",
      "\n",
      "/media/nicolasf/END19101/ICU/data/CDS/operational/hindcasts/DWD/TPRATE/ensemble_seas_forecasts_tprate_from_2002_09_DWD.netcdf exists already on disk, skipping download and returning path\n",
      "\n",
      "\n",
      "/media/nicolasf/END19101/ICU/data/CDS/operational/hindcasts/CMCC/TPRATE/ensemble_seas_forecasts_tprate_from_2002_09_CMCC.netcdf exists already on disk, skipping download and returning path\n",
      "\n",
      "\n",
      "/media/nicolasf/END19101/ICU/data/CDS/operational/hindcasts/NCEP/TPRATE/ensemble_seas_forecasts_tprate_from_2002_09_NCEP.netcdf exists already on disk, skipping download and returning path\n",
      "\n",
      "\n",
      "/media/nicolasf/END19101/ICU/data/CDS/operational/hindcasts/JMA/TPRATE/ensemble_seas_forecasts_tprate_from_2002_09_JMA.netcdf exists already on disk, skipping download and returning path\n",
      "\n",
      "\n",
      "/media/nicolasf/END19101/ICU/data/CDS/operational/hindcasts/ECMWF/TPRATE/ensemble_seas_forecasts_tprate_from_2003_09_ECMWF.netcdf exists already on disk, skipping download and returning path\n",
      "\n",
      "\n",
      "/media/nicolasf/END19101/ICU/data/CDS/operational/hindcasts/UKMO/TPRATE/ensemble_seas_forecasts_tprate_from_2003_09_UKMO.netcdf exists already on disk, skipping download and returning path\n",
      "\n",
      "\n",
      "attempting to download tprate for GCM METEO_FRANCE, for level surface, year 2003, month 9, in netcdf, attempt 1 of 3\n",
      "\n"
     ]
    },
    {
     "name": "stderr",
     "output_type": "stream",
     "text": [
      "2021-09-20 14:57:04,228 INFO Welcome to the CDS\n",
      "2021-09-20 14:57:04,229 INFO Sending request to https://cds.climate.copernicus.eu/api/v2/resources/seasonal-monthly-single-levels\n",
      "2021-09-20 14:57:05,953 INFO Request is queued\n",
      "2021-09-20 14:57:07,300 INFO Request is running\n",
      "2021-09-20 14:57:09,112 INFO Request is completed\n",
      "2021-09-20 14:57:09,114 INFO Downloading https://download-0006.copernicus-climate.eu/cache-compute-0006/cache/data3/adaptor.mars.external-1632106628.0498698-23705-12-d35bcab6-4942-4053-8f44-cb0f5b6ac242.nc to /media/nicolasf/END19101/ICU/data/CDS/operational/hindcasts/METEO_FRANCE/TPRATE/ensemble_seas_forecasts_tprate_from_2003_09_METEO_FRANCE.netcdf (2.7M)\n",
      "2021-09-20 14:57:19,088 INFO Download rate 279.8K/s \n"
     ]
    },
    {
     "name": "stdout",
     "output_type": "stream",
     "text": [
      "\n",
      "/media/nicolasf/END19101/ICU/data/CDS/operational/hindcasts/METEO_FRANCE/TPRATE/ensemble_seas_forecasts_tprate_from_2003_09_METEO_FRANCE.netcdf downloaded OK\n",
      "\n",
      "\n",
      "/media/nicolasf/END19101/ICU/data/CDS/operational/hindcasts/DWD/TPRATE/ensemble_seas_forecasts_tprate_from_2003_09_DWD.netcdf exists already on disk, skipping download and returning path\n",
      "\n",
      "\n",
      "/media/nicolasf/END19101/ICU/data/CDS/operational/hindcasts/CMCC/TPRATE/ensemble_seas_forecasts_tprate_from_2003_09_CMCC.netcdf exists already on disk, skipping download and returning path\n",
      "\n",
      "\n",
      "/media/nicolasf/END19101/ICU/data/CDS/operational/hindcasts/NCEP/TPRATE/ensemble_seas_forecasts_tprate_from_2003_09_NCEP.netcdf exists already on disk, skipping download and returning path\n",
      "\n",
      "\n",
      "/media/nicolasf/END19101/ICU/data/CDS/operational/hindcasts/JMA/TPRATE/ensemble_seas_forecasts_tprate_from_2003_09_JMA.netcdf exists already on disk, skipping download and returning path\n",
      "\n",
      "\n",
      "/media/nicolasf/END19101/ICU/data/CDS/operational/hindcasts/ECMWF/TPRATE/ensemble_seas_forecasts_tprate_from_2004_09_ECMWF.netcdf exists already on disk, skipping download and returning path\n",
      "\n",
      "\n",
      "/media/nicolasf/END19101/ICU/data/CDS/operational/hindcasts/UKMO/TPRATE/ensemble_seas_forecasts_tprate_from_2004_09_UKMO.netcdf exists already on disk, skipping download and returning path\n",
      "\n",
      "\n",
      "attempting to download tprate for GCM METEO_FRANCE, for level surface, year 2004, month 9, in netcdf, attempt 1 of 3\n",
      "\n"
     ]
    },
    {
     "name": "stderr",
     "output_type": "stream",
     "text": [
      "2021-09-20 14:57:19,896 INFO Welcome to the CDS\n",
      "2021-09-20 14:57:19,898 INFO Sending request to https://cds.climate.copernicus.eu/api/v2/resources/seasonal-monthly-single-levels\n",
      "2021-09-20 14:57:20,255 INFO Request is queued\n",
      "2021-09-20 14:58:38,542 INFO Request is completed\n",
      "2021-09-20 14:58:38,544 INFO Downloading https://download-0011.copernicus-climate.eu/cache-compute-0011/cache/data9/adaptor.mars.external-1632106700.560793-7920-20-ea7b9b4f-9f95-49cf-aad3-75a0a4688be0.nc to /media/nicolasf/END19101/ICU/data/CDS/operational/hindcasts/METEO_FRANCE/TPRATE/ensemble_seas_forecasts_tprate_from_2004_09_METEO_FRANCE.netcdf (2.7M)\n",
      "2021-09-20 14:58:47,292 INFO Download rate 319.1K/s \n"
     ]
    },
    {
     "name": "stdout",
     "output_type": "stream",
     "text": [
      "\n",
      "/media/nicolasf/END19101/ICU/data/CDS/operational/hindcasts/METEO_FRANCE/TPRATE/ensemble_seas_forecasts_tprate_from_2004_09_METEO_FRANCE.netcdf downloaded OK\n",
      "\n",
      "\n",
      "/media/nicolasf/END19101/ICU/data/CDS/operational/hindcasts/DWD/TPRATE/ensemble_seas_forecasts_tprate_from_2004_09_DWD.netcdf exists already on disk, skipping download and returning path\n",
      "\n",
      "\n",
      "/media/nicolasf/END19101/ICU/data/CDS/operational/hindcasts/CMCC/TPRATE/ensemble_seas_forecasts_tprate_from_2004_09_CMCC.netcdf exists already on disk, skipping download and returning path\n",
      "\n",
      "\n",
      "/media/nicolasf/END19101/ICU/data/CDS/operational/hindcasts/NCEP/TPRATE/ensemble_seas_forecasts_tprate_from_2004_09_NCEP.netcdf exists already on disk, skipping download and returning path\n",
      "\n",
      "\n",
      "/media/nicolasf/END19101/ICU/data/CDS/operational/hindcasts/JMA/TPRATE/ensemble_seas_forecasts_tprate_from_2004_09_JMA.netcdf exists already on disk, skipping download and returning path\n",
      "\n",
      "\n",
      "/media/nicolasf/END19101/ICU/data/CDS/operational/hindcasts/ECMWF/TPRATE/ensemble_seas_forecasts_tprate_from_2005_09_ECMWF.netcdf exists already on disk, skipping download and returning path\n",
      "\n",
      "\n",
      "/media/nicolasf/END19101/ICU/data/CDS/operational/hindcasts/UKMO/TPRATE/ensemble_seas_forecasts_tprate_from_2005_09_UKMO.netcdf exists already on disk, skipping download and returning path\n",
      "\n",
      "\n",
      "attempting to download tprate for GCM METEO_FRANCE, for level surface, year 2005, month 9, in netcdf, attempt 1 of 3\n",
      "\n"
     ]
    },
    {
     "name": "stderr",
     "output_type": "stream",
     "text": [
      "2021-09-20 14:58:48,167 INFO Welcome to the CDS\n",
      "2021-09-20 14:58:48,169 INFO Sending request to https://cds.climate.copernicus.eu/api/v2/resources/seasonal-monthly-single-levels\n",
      "2021-09-20 14:58:48,551 INFO Request is queued\n",
      "2021-09-20 14:59:03,733 INFO Request is completed\n",
      "2021-09-20 14:59:03,735 INFO Downloading https://download-0011.copernicus-climate.eu/cache-compute-0011/cache/data7/adaptor.mars.external-1632106742.674387-11652-3-549413a7-f221-412e-9f65-ad148c740740.nc to /media/nicolasf/END19101/ICU/data/CDS/operational/hindcasts/METEO_FRANCE/TPRATE/ensemble_seas_forecasts_tprate_from_2005_09_METEO_FRANCE.netcdf (2.7M)\n",
      "2021-09-20 14:59:11,424 INFO Download rate 363K/s   \n"
     ]
    },
    {
     "name": "stdout",
     "output_type": "stream",
     "text": [
      "\n",
      "/media/nicolasf/END19101/ICU/data/CDS/operational/hindcasts/METEO_FRANCE/TPRATE/ensemble_seas_forecasts_tprate_from_2005_09_METEO_FRANCE.netcdf downloaded OK\n",
      "\n",
      "\n",
      "/media/nicolasf/END19101/ICU/data/CDS/operational/hindcasts/DWD/TPRATE/ensemble_seas_forecasts_tprate_from_2005_09_DWD.netcdf exists already on disk, skipping download and returning path\n",
      "\n",
      "\n",
      "/media/nicolasf/END19101/ICU/data/CDS/operational/hindcasts/CMCC/TPRATE/ensemble_seas_forecasts_tprate_from_2005_09_CMCC.netcdf exists already on disk, skipping download and returning path\n",
      "\n",
      "\n",
      "/media/nicolasf/END19101/ICU/data/CDS/operational/hindcasts/NCEP/TPRATE/ensemble_seas_forecasts_tprate_from_2005_09_NCEP.netcdf exists already on disk, skipping download and returning path\n",
      "\n",
      "\n",
      "/media/nicolasf/END19101/ICU/data/CDS/operational/hindcasts/JMA/TPRATE/ensemble_seas_forecasts_tprate_from_2005_09_JMA.netcdf exists already on disk, skipping download and returning path\n",
      "\n",
      "\n",
      "/media/nicolasf/END19101/ICU/data/CDS/operational/hindcasts/ECMWF/TPRATE/ensemble_seas_forecasts_tprate_from_2006_09_ECMWF.netcdf exists already on disk, skipping download and returning path\n",
      "\n",
      "\n",
      "/media/nicolasf/END19101/ICU/data/CDS/operational/hindcasts/UKMO/TPRATE/ensemble_seas_forecasts_tprate_from_2006_09_UKMO.netcdf exists already on disk, skipping download and returning path\n",
      "\n",
      "\n",
      "attempting to download tprate for GCM METEO_FRANCE, for level surface, year 2006, month 9, in netcdf, attempt 1 of 3\n",
      "\n"
     ]
    },
    {
     "name": "stderr",
     "output_type": "stream",
     "text": [
      "2021-09-20 14:59:12,206 INFO Welcome to the CDS\n",
      "2021-09-20 14:59:12,207 INFO Sending request to https://cds.climate.copernicus.eu/api/v2/resources/seasonal-monthly-single-levels\n",
      "2021-09-20 14:59:12,552 INFO Request is queued\n",
      "2021-09-20 14:59:35,709 INFO Request is completed\n",
      "2021-09-20 14:59:35,711 INFO Downloading https://download-0006.copernicus-climate.eu/cache-compute-0006/cache/data3/adaptor.mars.external-1632106770.1378715-28192-7-794597c5-4eff-48bb-8d39-1f0a733bea7f.nc to /media/nicolasf/END19101/ICU/data/CDS/operational/hindcasts/METEO_FRANCE/TPRATE/ensemble_seas_forecasts_tprate_from_2006_09_METEO_FRANCE.netcdf (2.7M)\n",
      "2021-09-20 14:59:43,968 INFO Download rate 338K/s   \n"
     ]
    },
    {
     "name": "stdout",
     "output_type": "stream",
     "text": [
      "\n",
      "/media/nicolasf/END19101/ICU/data/CDS/operational/hindcasts/METEO_FRANCE/TPRATE/ensemble_seas_forecasts_tprate_from_2006_09_METEO_FRANCE.netcdf downloaded OK\n",
      "\n",
      "\n",
      "/media/nicolasf/END19101/ICU/data/CDS/operational/hindcasts/DWD/TPRATE/ensemble_seas_forecasts_tprate_from_2006_09_DWD.netcdf exists already on disk, skipping download and returning path\n",
      "\n",
      "\n",
      "/media/nicolasf/END19101/ICU/data/CDS/operational/hindcasts/CMCC/TPRATE/ensemble_seas_forecasts_tprate_from_2006_09_CMCC.netcdf exists already on disk, skipping download and returning path\n",
      "\n",
      "\n",
      "/media/nicolasf/END19101/ICU/data/CDS/operational/hindcasts/NCEP/TPRATE/ensemble_seas_forecasts_tprate_from_2006_09_NCEP.netcdf exists already on disk, skipping download and returning path\n",
      "\n",
      "\n",
      "/media/nicolasf/END19101/ICU/data/CDS/operational/hindcasts/JMA/TPRATE/ensemble_seas_forecasts_tprate_from_2006_09_JMA.netcdf exists already on disk, skipping download and returning path\n",
      "\n",
      "\n",
      "/media/nicolasf/END19101/ICU/data/CDS/operational/hindcasts/ECMWF/TPRATE/ensemble_seas_forecasts_tprate_from_2007_09_ECMWF.netcdf exists already on disk, skipping download and returning path\n",
      "\n",
      "\n",
      "/media/nicolasf/END19101/ICU/data/CDS/operational/hindcasts/UKMO/TPRATE/ensemble_seas_forecasts_tprate_from_2007_09_UKMO.netcdf exists already on disk, skipping download and returning path\n",
      "\n",
      "\n",
      "attempting to download tprate for GCM METEO_FRANCE, for level surface, year 2007, month 9, in netcdf, attempt 1 of 3\n",
      "\n"
     ]
    },
    {
     "name": "stderr",
     "output_type": "stream",
     "text": [
      "2021-09-20 14:59:44,800 INFO Welcome to the CDS\n",
      "2021-09-20 14:59:44,800 INFO Sending request to https://cds.climate.copernicus.eu/api/v2/resources/seasonal-monthly-single-levels\n",
      "2021-09-20 14:59:45,206 INFO Request is queued\n",
      "2021-09-20 15:00:37,431 INFO Request is completed\n",
      "2021-09-20 15:00:37,433 INFO Downloading https://download-0005.copernicus-climate.eu/cache-compute-0005/cache/data5/adaptor.mars.external-1632106823.9184735-29563-2-3e535bbd-7609-41c3-9a72-b5b7e73a11f5.nc to /media/nicolasf/END19101/ICU/data/CDS/operational/hindcasts/METEO_FRANCE/TPRATE/ensemble_seas_forecasts_tprate_from_2007_09_METEO_FRANCE.netcdf (2.7M)\n",
      "2021-09-20 15:00:46,271 INFO Download rate 315.8K/s \n"
     ]
    },
    {
     "name": "stdout",
     "output_type": "stream",
     "text": [
      "\n",
      "/media/nicolasf/END19101/ICU/data/CDS/operational/hindcasts/METEO_FRANCE/TPRATE/ensemble_seas_forecasts_tprate_from_2007_09_METEO_FRANCE.netcdf downloaded OK\n",
      "\n",
      "\n",
      "/media/nicolasf/END19101/ICU/data/CDS/operational/hindcasts/DWD/TPRATE/ensemble_seas_forecasts_tprate_from_2007_09_DWD.netcdf exists already on disk, skipping download and returning path\n",
      "\n",
      "\n",
      "/media/nicolasf/END19101/ICU/data/CDS/operational/hindcasts/CMCC/TPRATE/ensemble_seas_forecasts_tprate_from_2007_09_CMCC.netcdf exists already on disk, skipping download and returning path\n",
      "\n",
      "\n",
      "attempting to download tprate for GCM NCEP, for level surface, year 2007, month 9, in netcdf, attempt 1 of 3\n",
      "\n"
     ]
    },
    {
     "name": "stderr",
     "output_type": "stream",
     "text": [
      "2021-09-20 15:00:47,057 INFO Welcome to the CDS\n",
      "2021-09-20 15:00:47,059 INFO Sending request to https://cds.climate.copernicus.eu/api/v2/resources/seasonal-monthly-single-levels\n",
      "2021-09-20 15:00:47,472 INFO Request is completed\n",
      "2021-09-20 15:00:47,475 INFO Downloading https://download-0006.copernicus-climate.eu/cache-compute-0006/cache/data2/adaptor.mars.external-1632102630.8057008-17131-19-8d10c12b-fc61-4bc0-bd7a-741e71b55c2a.nc to /media/nicolasf/END19101/ICU/data/CDS/operational/hindcasts/NCEP/TPRATE/ensemble_seas_forecasts_tprate_from_2007_09_NCEP.netcdf (2.6M)\n",
      "2021-09-20 15:00:55,424 INFO Download rate 337.1K/s \n"
     ]
    },
    {
     "name": "stdout",
     "output_type": "stream",
     "text": [
      "\n",
      "/media/nicolasf/END19101/ICU/data/CDS/operational/hindcasts/NCEP/TPRATE/ensemble_seas_forecasts_tprate_from_2007_09_NCEP.netcdf downloaded OK\n",
      "\n",
      "\n",
      "attempting to download tprate for GCM JMA, for level surface, year 2007, month 9, in netcdf, attempt 1 of 3\n",
      "\n"
     ]
    },
    {
     "name": "stderr",
     "output_type": "stream",
     "text": [
      "2021-09-20 15:00:56,070 INFO Welcome to the CDS\n",
      "2021-09-20 15:00:56,072 INFO Sending request to https://cds.climate.copernicus.eu/api/v2/resources/seasonal-monthly-single-levels\n",
      "2021-09-20 15:00:56,581 INFO Request is queued\n",
      "2021-09-20 15:07:20,973 INFO Request is completed\n",
      "2021-09-20 15:07:20,974 INFO Downloading https://download-0005.copernicus-climate.eu/cache-compute-0005/cache/data4/adaptor.mars.external-1632107144.1332664-31687-15-8c830b72-4d1e-4633-b683-17d69e413a73.nc to /media/nicolasf/END19101/ICU/data/CDS/operational/hindcasts/JMA/TPRATE/ensemble_seas_forecasts_tprate_from_2007_09_JMA.netcdf (185.3K)\n",
      "2021-09-20 15:07:23,617 INFO Download rate 70.1K/s \n"
     ]
    },
    {
     "name": "stdout",
     "output_type": "stream",
     "text": [
      "\n",
      "/media/nicolasf/END19101/ICU/data/CDS/operational/hindcasts/JMA/TPRATE/ensemble_seas_forecasts_tprate_from_2007_09_JMA.netcdf downloaded OK\n",
      "\n",
      "\n",
      "attempting to download tprate for GCM ECMWF, for level surface, year 2008, month 9, in netcdf, attempt 1 of 3\n",
      "\n"
     ]
    },
    {
     "name": "stderr",
     "output_type": "stream",
     "text": [
      "2021-09-20 15:07:24,352 INFO Welcome to the CDS\n",
      "2021-09-20 15:07:24,354 INFO Sending request to https://cds.climate.copernicus.eu/api/v2/resources/seasonal-monthly-single-levels\n",
      "2021-09-20 15:07:24,700 INFO Request is queued\n",
      "2021-09-20 15:07:59,679 INFO Request is running\n",
      "2021-09-20 15:08:17,194 INFO Request is completed\n",
      "2021-09-20 15:08:17,197 INFO Downloading https://download-0006.copernicus-climate.eu/cache-compute-0006/cache/data2/adaptor.mars.external-1632107283.3803766-2303-19-e1a57742-cca2-48a0-a7b0-bc66fb1973f1.nc to /media/nicolasf/END19101/ICU/data/CDS/operational/hindcasts/ECMWF/TPRATE/ensemble_seas_forecasts_tprate_from_2008_09_ECMWF.netcdf (2.7M)\n",
      "2021-09-20 15:08:25,080 INFO Download rate 354K/s   \n"
     ]
    },
    {
     "name": "stdout",
     "output_type": "stream",
     "text": [
      "\n",
      "/media/nicolasf/END19101/ICU/data/CDS/operational/hindcasts/ECMWF/TPRATE/ensemble_seas_forecasts_tprate_from_2008_09_ECMWF.netcdf downloaded OK\n",
      "\n",
      "\n",
      "attempting to download tprate for GCM UKMO, for level surface, year 2008, month 9, in netcdf, attempt 1 of 3\n",
      "\n"
     ]
    },
    {
     "name": "stderr",
     "output_type": "stream",
     "text": [
      "2021-09-20 15:08:25,892 INFO Welcome to the CDS\n",
      "2021-09-20 15:08:25,894 INFO Sending request to https://cds.climate.copernicus.eu/api/v2/resources/seasonal-monthly-single-levels\n",
      "2021-09-20 15:08:26,302 INFO Request is queued\n",
      "2021-09-20 15:12:49,363 INFO Request is completed\n",
      "2021-09-20 15:12:49,364 INFO Downloading https://download-0012.copernicus-climate.eu/cache-compute-0012/cache/data3/adaptor.mars.external-1632107507.0012178-1698-3-2df790ec-090a-45c5-97e3-318dcd2cd9ec.nc to /media/nicolasf/END19101/ICU/data/CDS/operational/hindcasts/UKMO/TPRATE/ensemble_seas_forecasts_tprate_from_2008_09_UKMO.netcdf (3.1M)\n",
      "2021-09-20 15:12:58,300 INFO Download rate 349.8K/s \n"
     ]
    },
    {
     "name": "stdout",
     "output_type": "stream",
     "text": [
      "\n",
      "/media/nicolasf/END19101/ICU/data/CDS/operational/hindcasts/UKMO/TPRATE/ensemble_seas_forecasts_tprate_from_2008_09_UKMO.netcdf downloaded OK\n",
      "\n",
      "\n",
      "attempting to download tprate for GCM METEO_FRANCE, for level surface, year 2008, month 9, in netcdf, attempt 1 of 3\n",
      "\n"
     ]
    },
    {
     "name": "stderr",
     "output_type": "stream",
     "text": [
      "2021-09-20 15:12:59,090 INFO Welcome to the CDS\n",
      "2021-09-20 15:12:59,092 INFO Sending request to https://cds.climate.copernicus.eu/api/v2/resources/seasonal-monthly-single-levels\n",
      "2021-09-20 15:12:59,602 INFO Request is queued\n",
      "2021-09-20 15:14:17,937 INFO Request is completed\n",
      "2021-09-20 15:14:17,940 INFO Downloading https://download-0000.copernicus-climate.eu/cache-compute-0000/cache/data7/adaptor.mars.external-1632107655.2636027-29222-18-9179e5cb-8b60-4fe1-ac8f-7f859f239895.nc to /media/nicolasf/END19101/ICU/data/CDS/operational/hindcasts/METEO_FRANCE/TPRATE/ensemble_seas_forecasts_tprate_from_2008_09_METEO_FRANCE.netcdf (2.7M)\n",
      "2021-09-20 15:14:26,556 INFO Download rate 323.9K/s \n"
     ]
    },
    {
     "name": "stdout",
     "output_type": "stream",
     "text": [
      "\n",
      "/media/nicolasf/END19101/ICU/data/CDS/operational/hindcasts/METEO_FRANCE/TPRATE/ensemble_seas_forecasts_tprate_from_2008_09_METEO_FRANCE.netcdf downloaded OK\n",
      "\n",
      "\n",
      "attempting to download tprate for GCM DWD, for level surface, year 2008, month 9, in netcdf, attempt 1 of 3\n",
      "\n"
     ]
    },
    {
     "name": "stderr",
     "output_type": "stream",
     "text": [
      "2021-09-20 15:14:27,256 INFO Welcome to the CDS\n",
      "2021-09-20 15:14:27,257 INFO Sending request to https://cds.climate.copernicus.eu/api/v2/resources/seasonal-monthly-single-levels\n",
      "2021-09-20 15:14:27,666 INFO Request is queued\n",
      "2021-09-20 15:17:22,953 INFO Request is running\n",
      "2021-09-20 15:18:51,652 INFO Request is completed\n",
      "2021-09-20 15:18:51,654 INFO Downloading https://download-0000.copernicus-climate.eu/cache-compute-0000/cache/data2/adaptor.mars.external-1632107842.966556-11254-10-36b887e6-a892-4f3e-94e7-e28a537b1a81.nc to /media/nicolasf/END19101/ICU/data/CDS/operational/hindcasts/DWD/TPRATE/ensemble_seas_forecasts_tprate_from_2008_09_DWD.netcdf (3.3M)\n",
      "2021-09-20 15:19:00,220 INFO Download rate 391K/s   \n"
     ]
    },
    {
     "name": "stdout",
     "output_type": "stream",
     "text": [
      "\n",
      "/media/nicolasf/END19101/ICU/data/CDS/operational/hindcasts/DWD/TPRATE/ensemble_seas_forecasts_tprate_from_2008_09_DWD.netcdf downloaded OK\n",
      "\n",
      "\n",
      "attempting to download tprate for GCM CMCC, for level surface, year 2008, month 9, in netcdf, attempt 1 of 3\n",
      "\n"
     ]
    },
    {
     "name": "stderr",
     "output_type": "stream",
     "text": [
      "2021-09-20 15:19:00,868 INFO Welcome to the CDS\n",
      "2021-09-20 15:19:00,870 INFO Sending request to https://cds.climate.copernicus.eu/api/v2/resources/seasonal-monthly-single-levels\n",
      "2021-09-20 15:19:01,277 INFO Request is queued\n",
      "2021-09-20 15:23:24,549 INFO Request is completed\n",
      "2021-09-20 15:23:24,551 INFO Downloading https://download-0001.copernicus-climate.eu/cache-compute-0001/cache/data9/adaptor.mars.external-1632108200.8816996-14124-10-cb22e688-4c18-4c0c-a4fd-46a09d87108c.nc to /media/nicolasf/END19101/ICU/data/CDS/operational/hindcasts/CMCC/TPRATE/ensemble_seas_forecasts_tprate_from_2008_09_CMCC.netcdf (4.4M)\n",
      "2021-09-20 15:23:37,273 INFO Download rate 350.9K/s \n"
     ]
    },
    {
     "name": "stdout",
     "output_type": "stream",
     "text": [
      "\n",
      "/media/nicolasf/END19101/ICU/data/CDS/operational/hindcasts/CMCC/TPRATE/ensemble_seas_forecasts_tprate_from_2008_09_CMCC.netcdf downloaded OK\n",
      "\n",
      "\n",
      "attempting to download tprate for GCM NCEP, for level surface, year 2008, month 9, in netcdf, attempt 1 of 3\n",
      "\n"
     ]
    },
    {
     "name": "stderr",
     "output_type": "stream",
     "text": [
      "2021-09-20 15:23:37,950 INFO Welcome to the CDS\n",
      "2021-09-20 15:23:37,951 INFO Sending request to https://cds.climate.copernicus.eu/api/v2/resources/seasonal-monthly-single-levels\n",
      "2021-09-20 15:23:38,301 INFO Request is queued\n",
      "2021-09-20 15:23:47,896 INFO Request is running\n",
      "2021-09-20 15:23:53,325 INFO Request is completed\n",
      "2021-09-20 15:23:53,328 INFO Downloading https://download-0012.copernicus-climate.eu/cache-compute-0012/cache/data5/adaptor.mars.external-1632108228.819656-7108-9-4bc0b507-cdd7-4b56-8d49-c10bb7877d1a.nc to /media/nicolasf/END19101/ICU/data/CDS/operational/hindcasts/NCEP/TPRATE/ensemble_seas_forecasts_tprate_from_2008_09_NCEP.netcdf (2.6M)\n",
      "2021-09-20 15:24:02,249 INFO Download rate 300.3K/s \n"
     ]
    },
    {
     "name": "stdout",
     "output_type": "stream",
     "text": [
      "\n",
      "/media/nicolasf/END19101/ICU/data/CDS/operational/hindcasts/NCEP/TPRATE/ensemble_seas_forecasts_tprate_from_2008_09_NCEP.netcdf downloaded OK\n",
      "\n",
      "\n",
      "attempting to download tprate for GCM JMA, for level surface, year 2008, month 9, in netcdf, attempt 1 of 3\n",
      "\n"
     ]
    },
    {
     "name": "stderr",
     "output_type": "stream",
     "text": [
      "2021-09-20 15:24:03,154 INFO Welcome to the CDS\n",
      "2021-09-20 15:24:03,156 INFO Sending request to https://cds.climate.copernicus.eu/api/v2/resources/seasonal-monthly-single-levels\n",
      "2021-09-20 15:24:03,667 INFO Request is queued\n",
      "2021-09-20 15:24:09,509 INFO Request is running\n",
      "2021-09-20 15:24:13,293 INFO Request is completed\n",
      "2021-09-20 15:24:13,295 INFO Downloading https://download-0001.copernicus-climate.eu/cache-compute-0001/cache/data0/adaptor.mars.external-1632108250.0969677-13847-20-821ba6dc-7c42-4cb4-9c5b-4855e17e7dae.nc to /media/nicolasf/END19101/ICU/data/CDS/operational/hindcasts/JMA/TPRATE/ensemble_seas_forecasts_tprate_from_2008_09_JMA.netcdf (185.3K)\n",
      "2021-09-20 15:24:14,564 INFO Download rate 146.3K/s\n"
     ]
    },
    {
     "name": "stdout",
     "output_type": "stream",
     "text": [
      "\n",
      "/media/nicolasf/END19101/ICU/data/CDS/operational/hindcasts/JMA/TPRATE/ensemble_seas_forecasts_tprate_from_2008_09_JMA.netcdf downloaded OK\n",
      "\n",
      "\n",
      "attempting to download tprate for GCM ECMWF, for level surface, year 2009, month 9, in netcdf, attempt 1 of 3\n",
      "\n"
     ]
    },
    {
     "name": "stderr",
     "output_type": "stream",
     "text": [
      "2021-09-20 15:24:15,238 INFO Welcome to the CDS\n",
      "2021-09-20 15:24:15,240 INFO Sending request to https://cds.climate.copernicus.eu/api/v2/resources/seasonal-monthly-single-levels\n",
      "2021-09-20 15:24:15,955 INFO Request is queued\n",
      "2021-09-20 15:24:50,533 INFO Request is completed\n",
      "2021-09-20 15:24:50,535 INFO Downloading https://download-0013.copernicus-climate.eu/cache-compute-0013/cache/data0/adaptor.mars.external-1632108284.3494043-5018-2-cc070837-6ec8-4c7f-956c-e3885aef5845.nc to /media/nicolasf/END19101/ICU/data/CDS/operational/hindcasts/ECMWF/TPRATE/ensemble_seas_forecasts_tprate_from_2009_09_ECMWF.netcdf (2.7M)\n",
      "2021-09-20 15:24:59,107 INFO Download rate 325.6K/s \n"
     ]
    },
    {
     "name": "stdout",
     "output_type": "stream",
     "text": [
      "\n",
      "/media/nicolasf/END19101/ICU/data/CDS/operational/hindcasts/ECMWF/TPRATE/ensemble_seas_forecasts_tprate_from_2009_09_ECMWF.netcdf downloaded OK\n",
      "\n",
      "\n",
      "attempting to download tprate for GCM UKMO, for level surface, year 2009, month 9, in netcdf, attempt 1 of 3\n",
      "\n"
     ]
    },
    {
     "name": "stderr",
     "output_type": "stream",
     "text": [
      "2021-09-20 15:24:59,782 INFO Welcome to the CDS\n",
      "2021-09-20 15:24:59,784 INFO Sending request to https://cds.climate.copernicus.eu/api/v2/resources/seasonal-monthly-single-levels\n",
      "2021-09-20 15:25:00,193 INFO Request is queued\n"
     ]
    }
   ],
   "source": [
    "lfiles = []\n",
    "for date in dates:\n",
    "    for GCM in dict_systems.keys(): \n",
    "        f = C3S.download(\n",
    "        GCM=GCM,\n",
    "        system=dict_systems[GCM],\n",
    "        varname=var_name,\n",
    "        year=date.year,\n",
    "        month=date.month,\n",
    "        leadtimes=[1, 2, 3, 4, 5, 6],\n",
    "        opath=gcm_path.joinpath(GCM).joinpath(var_name.upper()),\n",
    "        domain=domains.domains['C3S_download'],\n",
    "        file_format='netcdf',\n",
    "        level='surface',\n",
    "        max_retry=3,\n",
    "        )   \n",
    "        lfiles.append(f)"
   ]
  },
  {
   "cell_type": "code",
   "execution_count": null,
   "metadata": {},
   "outputs": [],
   "source": []
  }
 ],
 "metadata": {
  "kernelspec": {
   "display_name": "Python 3",
   "language": "python",
   "name": "python3"
  },
  "language_info": {
   "codemirror_mode": {
    "name": "ipython",
    "version": 3
   },
   "file_extension": ".py",
   "mimetype": "text/x-python",
   "name": "python",
   "nbconvert_exporter": "python",
   "pygments_lexer": "ipython3",
   "version": "3.8.10"
  },
  "papermill": {
   "duration": 114.72282,
   "end_time": "2020-02-06T23:48:33.529053",
   "environment_variables": {},
   "exception": null,
   "input_path": "./download_CDS_forecasts.ipynb",
   "output_path": "./download_CDS_forecasts.ipynb",
   "parameters": {
    "GCM": "CMCC",
    "month": 12,
    "var_name": "PRECIP",
    "year": 2018
   },
   "start_time": "2020-02-06T23:46:38.806233",
   "version": "1.2.1"
  }
 },
 "nbformat": 4,
 "nbformat_minor": 4
}
