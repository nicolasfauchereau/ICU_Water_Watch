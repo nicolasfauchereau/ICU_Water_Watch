{
 "cells": [
  {
   "cell_type": "code",
   "execution_count": 1,
   "id": "e9653104-bb26-4cc3-907d-4352d782f3fe",
   "metadata": {
    "execution": {
     "iopub.execute_input": "2021-07-27T16:24:17.320109Z",
     "iopub.status.busy": "2021-07-27T16:24:17.318152Z",
     "iopub.status.idle": "2021-07-27T16:24:17.437669Z",
     "shell.execute_reply": "2021-07-27T16:24:17.438877Z"
    },
    "papermill": {
     "duration": 0.164346,
     "end_time": "2021-07-27T16:24:17.439446",
     "exception": false,
     "start_time": "2021-07-27T16:24:17.275100",
     "status": "completed"
    },
    "tags": []
   },
   "outputs": [
    {
     "name": "stdout",
     "output_type": "stream",
     "text": [
      "/home/nicolasf/operational/ICU/development/hotspots/code/ICU_Water_Watch/notebooks/C3S\r\n"
     ]
    }
   ],
   "source": [
    "!pwd"
   ]
  },
  {
   "cell_type": "markdown",
   "id": "9ba4aa87-d44b-4d28-94e4-e559c2c02eab",
   "metadata": {
    "papermill": {
     "duration": 0.015211,
     "end_time": "2021-07-27T16:24:17.488115",
     "exception": false,
     "start_time": "2021-07-27T16:24:17.472904",
     "status": "completed"
    },
    "tags": []
   },
   "source": [
    "### download hindcast from the CDS, initial download is one file per initial month (for all hindcast years)"
   ]
  },
  {
   "cell_type": "code",
   "execution_count": 2,
   "id": "762cbc8d-4fe6-4d30-9bb6-dca947f35b20",
   "metadata": {
    "execution": {
     "iopub.execute_input": "2021-07-27T16:24:17.510562Z",
     "iopub.status.busy": "2021-07-27T16:24:17.510152Z",
     "iopub.status.idle": "2021-07-27T16:24:18.590058Z",
     "shell.execute_reply": "2021-07-27T16:24:18.589724Z"
    },
    "papermill": {
     "duration": 1.09206,
     "end_time": "2021-07-27T16:24:18.590138",
     "exception": false,
     "start_time": "2021-07-27T16:24:17.498078",
     "status": "completed"
    },
    "tags": []
   },
   "outputs": [],
   "source": [
    "%matplotlib inline\n",
    "\n",
    "### os\n",
    "import os\n",
    "import sys\n",
    "\n",
    "### datetimes\n",
    "from datetime import datetime, timedelta\n",
    "from dateutil import relativedelta\n",
    "\n",
    "### scipy\n",
    "import numpy as np\n",
    "import pandas as pd\n",
    "import xarray as xr\n",
    "import geopandas as gpd\n",
    "import cartopy.crs as ccrs\n",
    "import dask\n",
    "from dask.diagnostics import ProgressBar\n",
    "from tqdm import tqdm\n",
    "\n",
    "### plotting\n",
    "from matplotlib import pyplot as plt\n",
    "import matplotlib\n",
    "import seaborn as sns\n"
   ]
  },
  {
   "cell_type": "code",
   "execution_count": 3,
   "id": "cd825e9d-82ae-4a54-b260-372d319b9937",
   "metadata": {
    "execution": {
     "iopub.execute_input": "2021-07-27T16:24:18.607723Z",
     "iopub.status.busy": "2021-07-27T16:24:18.607407Z",
     "iopub.status.idle": "2021-07-27T16:24:18.639965Z",
     "shell.execute_reply": "2021-07-27T16:24:18.639671Z"
    },
    "papermill": {
     "duration": 0.042206,
     "end_time": "2021-07-27T16:24:18.640044",
     "exception": false,
     "start_time": "2021-07-27T16:24:18.597838",
     "status": "completed"
    },
    "tags": []
   },
   "outputs": [],
   "source": [
    "import cdsapi"
   ]
  },
  {
   "cell_type": "code",
   "execution_count": 4,
   "id": "10d14f59-b80b-4a5f-aed9-572d74a9904d",
   "metadata": {
    "execution": {
     "iopub.execute_input": "2021-07-27T16:24:18.657622Z",
     "iopub.status.busy": "2021-07-27T16:24:18.657310Z",
     "iopub.status.idle": "2021-07-27T16:24:18.659096Z",
     "shell.execute_reply": "2021-07-27T16:24:18.658787Z"
    },
    "papermill": {
     "duration": 0.01152,
     "end_time": "2021-07-27T16:24:18.659167",
     "exception": false,
     "start_time": "2021-07-27T16:24:18.647647",
     "status": "completed"
    },
    "tags": []
   },
   "outputs": [],
   "source": [
    "import pathlib\n",
    "\n",
    "HOME = pathlib.Path.home()\n",
    "CWD = pathlib.Path.cwd()"
   ]
  },
  {
   "cell_type": "code",
   "execution_count": 5,
   "id": "f4c46f0c-8107-4a22-a8ff-d1c174d31a3b",
   "metadata": {
    "execution": {
     "iopub.execute_input": "2021-07-27T16:24:18.676501Z",
     "iopub.status.busy": "2021-07-27T16:24:18.676190Z",
     "iopub.status.idle": "2021-07-27T16:24:18.677954Z",
     "shell.execute_reply": "2021-07-27T16:24:18.677638Z"
    },
    "papermill": {
     "duration": 0.011195,
     "end_time": "2021-07-27T16:24:18.678025",
     "exception": false,
     "start_time": "2021-07-27T16:24:18.666830",
     "status": "completed"
    },
    "tags": []
   },
   "outputs": [],
   "source": [
    "opath_tmp = CWD.joinpath('tmp')"
   ]
  },
  {
   "cell_type": "markdown",
   "id": "e426661e-b85d-4372-bee1-efc4d3b5b07b",
   "metadata": {
    "papermill": {
     "duration": 0.007481,
     "end_time": "2021-07-27T16:24:18.693214",
     "exception": false,
     "start_time": "2021-07-27T16:24:18.685733",
     "status": "completed"
    },
    "tags": []
   },
   "source": [
    "### PAPERMILL PARAMETERS BELOW "
   ]
  },
  {
   "cell_type": "code",
   "execution_count": 6,
   "id": "de0a687a-0096-4c9e-b571-957bb326bd95",
   "metadata": {
    "execution": {
     "iopub.execute_input": "2021-07-27T16:24:18.710836Z",
     "iopub.status.busy": "2021-07-27T16:24:18.710519Z",
     "iopub.status.idle": "2021-07-27T16:24:18.712206Z",
     "shell.execute_reply": "2021-07-27T16:24:18.711895Z"
    },
    "papermill": {
     "duration": 0.011219,
     "end_time": "2021-07-27T16:24:18.712279",
     "exception": false,
     "start_time": "2021-07-27T16:24:18.701060",
     "status": "completed"
    },
    "tags": [
     "parameters"
    ]
   },
   "outputs": [],
   "source": [
    "month = 1\n",
    "GCM = 'JMA'"
   ]
  },
  {
   "cell_type": "code",
   "execution_count": 7,
   "id": "46e1e26a",
   "metadata": {
    "execution": {
     "iopub.execute_input": "2021-07-27T16:24:18.729613Z",
     "iopub.status.busy": "2021-07-27T16:24:18.729298Z",
     "iopub.status.idle": "2021-07-27T16:24:18.731197Z",
     "shell.execute_reply": "2021-07-27T16:24:18.730910Z"
    },
    "papermill": {
     "duration": 0.011383,
     "end_time": "2021-07-27T16:24:18.731297",
     "exception": false,
     "start_time": "2021-07-27T16:24:18.719914",
     "status": "completed"
    },
    "tags": [
     "injected-parameters"
    ]
   },
   "outputs": [],
   "source": [
    "# Parameters\n",
    "month = 9\n",
    "GCM = \"JMA\"\n"
   ]
  },
  {
   "cell_type": "code",
   "execution_count": 8,
   "id": "3a67d408-7b7e-46ec-b3e2-e79b8f4ed7bb",
   "metadata": {
    "execution": {
     "iopub.execute_input": "2021-07-27T16:24:18.748955Z",
     "iopub.status.busy": "2021-07-27T16:24:18.748641Z",
     "iopub.status.idle": "2021-07-27T16:24:18.750401Z",
     "shell.execute_reply": "2021-07-27T16:24:18.750043Z"
    },
    "papermill": {
     "duration": 0.011243,
     "end_time": "2021-07-27T16:24:18.750473",
     "exception": false,
     "start_time": "2021-07-27T16:24:18.739230",
     "status": "completed"
    },
    "tags": []
   },
   "outputs": [],
   "source": [
    "month = int(month)"
   ]
  },
  {
   "cell_type": "markdown",
   "id": "59858378-8427-496d-9fb5-c11d2d0fbcb8",
   "metadata": {
    "papermill": {
     "duration": 0.00773,
     "end_time": "2021-07-27T16:24:18.765766",
     "exception": false,
     "start_time": "2021-07-27T16:24:18.758036",
     "status": "completed"
    },
    "tags": []
   },
   "source": [
    "### This won't change, so hard coded "
   ]
  },
  {
   "cell_type": "code",
   "execution_count": 9,
   "id": "02bec48d-9ea1-4669-acd1-301ae39825c5",
   "metadata": {
    "execution": {
     "iopub.execute_input": "2021-07-27T16:24:18.783100Z",
     "iopub.status.busy": "2021-07-27T16:24:18.782788Z",
     "iopub.status.idle": "2021-07-27T16:24:18.784545Z",
     "shell.execute_reply": "2021-07-27T16:24:18.784222Z"
    },
    "papermill": {
     "duration": 0.01137,
     "end_time": "2021-07-27T16:24:18.784617",
     "exception": false,
     "start_time": "2021-07-27T16:24:18.773247",
     "status": "completed"
    },
    "tags": []
   },
   "outputs": [],
   "source": [
    "start_year = 1993 \n",
    "end_year =  2016"
   ]
  },
  {
   "cell_type": "code",
   "execution_count": 10,
   "id": "bb06f17c-675b-4741-8721-c55017807f29",
   "metadata": {
    "execution": {
     "iopub.execute_input": "2021-07-27T16:24:18.801930Z",
     "iopub.status.busy": "2021-07-27T16:24:18.801617Z",
     "iopub.status.idle": "2021-07-27T16:24:18.803114Z",
     "shell.execute_reply": "2021-07-27T16:24:18.803352Z"
    },
    "papermill": {
     "duration": 0.011236,
     "end_time": "2021-07-27T16:24:18.803447",
     "exception": false,
     "start_time": "2021-07-27T16:24:18.792211",
     "status": "completed"
    },
    "tags": []
   },
   "outputs": [],
   "source": [
    "varname = 'Z850'"
   ]
  },
  {
   "cell_type": "code",
   "execution_count": 11,
   "id": "ab4ff0b6-1d9e-4006-bee4-c2c2bdf2d3cc",
   "metadata": {
    "execution": {
     "iopub.execute_input": "2021-07-27T16:24:18.821085Z",
     "iopub.status.busy": "2021-07-27T16:24:18.820774Z",
     "iopub.status.idle": "2021-07-27T16:24:18.822615Z",
     "shell.execute_reply": "2021-07-27T16:24:18.822324Z"
    },
    "papermill": {
     "duration": 0.011391,
     "end_time": "2021-07-27T16:24:18.822687",
     "exception": false,
     "start_time": "2021-07-27T16:24:18.811296",
     "status": "completed"
    },
    "tags": []
   },
   "outputs": [],
   "source": [
    "years = list(map(str, range(start_year, end_year + 1)))"
   ]
  },
  {
   "cell_type": "code",
   "execution_count": 12,
   "id": "fbc1b878-e418-427b-85ba-8d71ab345e13",
   "metadata": {
    "execution": {
     "iopub.execute_input": "2021-07-27T16:24:18.841876Z",
     "iopub.status.busy": "2021-07-27T16:24:18.841505Z",
     "iopub.status.idle": "2021-07-27T16:24:18.843803Z",
     "shell.execute_reply": "2021-07-27T16:24:18.843486Z"
    },
    "papermill": {
     "duration": 0.013506,
     "end_time": "2021-07-27T16:24:18.843875",
     "exception": false,
     "start_time": "2021-07-27T16:24:18.830369",
     "status": "completed"
    },
    "tags": []
   },
   "outputs": [
    {
     "data": {
      "text/plain": [
       "['1993',\n",
       " '1994',\n",
       " '1995',\n",
       " '1996',\n",
       " '1997',\n",
       " '1998',\n",
       " '1999',\n",
       " '2000',\n",
       " '2001',\n",
       " '2002',\n",
       " '2003',\n",
       " '2004',\n",
       " '2005',\n",
       " '2006',\n",
       " '2007',\n",
       " '2008',\n",
       " '2009',\n",
       " '2010',\n",
       " '2011',\n",
       " '2012',\n",
       " '2013',\n",
       " '2014',\n",
       " '2015',\n",
       " '2016']"
      ]
     },
     "execution_count": 12,
     "metadata": {},
     "output_type": "execute_result"
    }
   ],
   "source": [
    "years"
   ]
  },
  {
   "cell_type": "code",
   "execution_count": 13,
   "id": "a4181565-9bf6-4f1e-83a5-3ed7be615a7f",
   "metadata": {
    "execution": {
     "iopub.execute_input": "2021-07-27T16:24:18.861585Z",
     "iopub.status.busy": "2021-07-27T16:24:18.861269Z",
     "iopub.status.idle": "2021-07-27T16:24:18.863113Z",
     "shell.execute_reply": "2021-07-27T16:24:18.862712Z"
    },
    "papermill": {
     "duration": 0.01161,
     "end_time": "2021-07-27T16:24:18.863201",
     "exception": false,
     "start_time": "2021-07-27T16:24:18.851591",
     "status": "completed"
    },
    "tags": []
   },
   "outputs": [],
   "source": [
    "systems = ['2']"
   ]
  },
  {
   "cell_type": "code",
   "execution_count": 14,
   "id": "d8f725e5-df0d-4dd6-93b5-e52237853ecf",
   "metadata": {
    "execution": {
     "iopub.execute_input": "2021-07-27T16:24:18.882921Z",
     "iopub.status.busy": "2021-07-27T16:24:18.882344Z",
     "iopub.status.idle": "2021-07-27T16:24:18.884202Z",
     "shell.execute_reply": "2021-07-27T16:24:18.883936Z"
    },
    "papermill": {
     "duration": 0.012603,
     "end_time": "2021-07-27T16:24:18.884281",
     "exception": false,
     "start_time": "2021-07-27T16:24:18.871678",
     "status": "completed"
    },
    "tags": []
   },
   "outputs": [],
   "source": [
    "steps = [2,3,4,5,6]"
   ]
  },
  {
   "cell_type": "code",
   "execution_count": 15,
   "id": "53d0efaa-6fc0-45de-8e93-173f1fa3fbb6",
   "metadata": {
    "execution": {
     "iopub.execute_input": "2021-07-27T16:24:18.902734Z",
     "iopub.status.busy": "2021-07-27T16:24:18.902406Z",
     "iopub.status.idle": "2021-07-27T16:24:18.904116Z",
     "shell.execute_reply": "2021-07-27T16:24:18.903853Z"
    },
    "papermill": {
     "duration": 0.012083,
     "end_time": "2021-07-27T16:24:18.904195",
     "exception": false,
     "start_time": "2021-07-27T16:24:18.892112",
     "status": "completed"
    },
    "tags": []
   },
   "outputs": [],
   "source": [
    "if not opath_tmp.exists(): \n",
    "    opath_tmp.mkdir(parents=True)"
   ]
  },
  {
   "cell_type": "code",
   "execution_count": 16,
   "id": "7e5a74f1-b797-42af-8be8-dc48ce87c260",
   "metadata": {
    "execution": {
     "iopub.execute_input": "2021-07-27T16:24:18.922985Z",
     "iopub.status.busy": "2021-07-27T16:24:18.922603Z",
     "iopub.status.idle": "2021-07-27T16:24:18.924163Z",
     "shell.execute_reply": "2021-07-27T16:24:18.923898Z"
    },
    "papermill": {
     "duration": 0.012029,
     "end_time": "2021-07-27T16:24:18.924243",
     "exception": false,
     "start_time": "2021-07-27T16:24:18.912214",
     "status": "completed"
    },
    "tags": []
   },
   "outputs": [],
   "source": [
    "opath = pathlib.Path(f\"/media/nicolasf/END19101/ICU/data/CDS/{GCM.upper()}/{varname}\")"
   ]
  },
  {
   "cell_type": "code",
   "execution_count": 17,
   "id": "61a4a5e6-9647-46bb-819b-ab76619d4c27",
   "metadata": {
    "execution": {
     "iopub.execute_input": "2021-07-27T16:24:18.943607Z",
     "iopub.status.busy": "2021-07-27T16:24:18.943283Z",
     "iopub.status.idle": "2021-07-27T16:24:18.945067Z",
     "shell.execute_reply": "2021-07-27T16:24:18.944773Z"
    },
    "papermill": {
     "duration": 0.012288,
     "end_time": "2021-07-27T16:24:18.945145",
     "exception": false,
     "start_time": "2021-07-27T16:24:18.932857",
     "status": "completed"
    },
    "tags": []
   },
   "outputs": [],
   "source": [
    "if not opath.exists(): \n",
    "    opath.mkdir(parents=True)"
   ]
  },
  {
   "cell_type": "code",
   "execution_count": 18,
   "id": "7b11d0bb-87d6-4bca-a8b9-78b57a88e46d",
   "metadata": {
    "execution": {
     "iopub.execute_input": "2021-07-27T16:24:18.965894Z",
     "iopub.status.busy": "2021-07-27T16:24:18.965543Z",
     "iopub.status.idle": "2021-07-27T20:50:10.011366Z",
     "shell.execute_reply": "2021-07-27T20:50:10.010052Z"
    },
    "papermill": {
     "duration": 15950.926554,
     "end_time": "2021-07-27T20:50:09.879505",
     "exception": false,
     "start_time": "2021-07-27T16:24:18.952951",
     "status": "completed"
    },
    "tags": []
   },
   "outputs": [
    {
     "name": "stderr",
     "output_type": "stream",
     "text": [
      "2021-07-28 04:24:20,119 INFO Welcome to the CDS\n"
     ]
    },
    {
     "name": "stderr",
     "output_type": "stream",
     "text": [
      "2021-07-28 04:24:20,120 INFO Sending request to https://cds.climate.copernicus.eu/api/v2/resources/seasonal-monthly-pressure-levels\n"
     ]
    },
    {
     "name": "stderr",
     "output_type": "stream",
     "text": [
      "2021-07-28 04:24:20,441 INFO Request is queued\n"
     ]
    },
    {
     "name": "stderr",
     "output_type": "stream",
     "text": [
      "2021-07-28 07:52:59,610 INFO Request is running\n"
     ]
    },
    {
     "ename": "KeyboardInterrupt",
     "evalue": "",
     "output_type": "error",
     "traceback": [
      "\u001b[0;31m---------------------------------------------------------------------------\u001b[0m",
      "\u001b[0;31mKeyboardInterrupt\u001b[0m                         Traceback (most recent call last)",
      "\u001b[0;32m<ipython-input-18-5809e1b9d386>\u001b[0m in \u001b[0;36m<module>\u001b[0;34m\u001b[0m\n\u001b[1;32m      3\u001b[0m     \u001b[0mc\u001b[0m \u001b[0;34m=\u001b[0m \u001b[0mcdsapi\u001b[0m\u001b[0;34m.\u001b[0m\u001b[0mClient\u001b[0m\u001b[0;34m(\u001b[0m\u001b[0;34m)\u001b[0m\u001b[0;34m\u001b[0m\u001b[0;34m\u001b[0m\u001b[0m\n\u001b[1;32m      4\u001b[0m \u001b[0;34m\u001b[0m\u001b[0m\n\u001b[0;32m----> 5\u001b[0;31m     c.retrieve(\n\u001b[0m\u001b[1;32m      6\u001b[0m         \u001b[0;34m'seasonal-monthly-pressure-levels'\u001b[0m\u001b[0;34m,\u001b[0m\u001b[0;34m\u001b[0m\u001b[0;34m\u001b[0m\u001b[0m\n\u001b[1;32m      7\u001b[0m         {\n",
      "\u001b[0;32m~/mambaforge/envs/pangeo/lib/python3.8/site-packages/cdsapi/api.py\u001b[0m in \u001b[0;36mretrieve\u001b[0;34m(self, name, request, target)\u001b[0m\n\u001b[1;32m    346\u001b[0m \u001b[0;34m\u001b[0m\u001b[0m\n\u001b[1;32m    347\u001b[0m     \u001b[0;32mdef\u001b[0m \u001b[0mretrieve\u001b[0m\u001b[0;34m(\u001b[0m\u001b[0mself\u001b[0m\u001b[0;34m,\u001b[0m \u001b[0mname\u001b[0m\u001b[0;34m,\u001b[0m \u001b[0mrequest\u001b[0m\u001b[0;34m,\u001b[0m \u001b[0mtarget\u001b[0m\u001b[0;34m=\u001b[0m\u001b[0;32mNone\u001b[0m\u001b[0;34m)\u001b[0m\u001b[0;34m:\u001b[0m\u001b[0;34m\u001b[0m\u001b[0;34m\u001b[0m\u001b[0m\n\u001b[0;32m--> 348\u001b[0;31m         \u001b[0mresult\u001b[0m \u001b[0;34m=\u001b[0m \u001b[0mself\u001b[0m\u001b[0;34m.\u001b[0m\u001b[0m_api\u001b[0m\u001b[0;34m(\u001b[0m\u001b[0;34m\"%s/resources/%s\"\u001b[0m \u001b[0;34m%\u001b[0m \u001b[0;34m(\u001b[0m\u001b[0mself\u001b[0m\u001b[0;34m.\u001b[0m\u001b[0murl\u001b[0m\u001b[0;34m,\u001b[0m \u001b[0mname\u001b[0m\u001b[0;34m)\u001b[0m\u001b[0;34m,\u001b[0m \u001b[0mrequest\u001b[0m\u001b[0;34m,\u001b[0m \u001b[0;34m\"POST\"\u001b[0m\u001b[0;34m)\u001b[0m\u001b[0;34m\u001b[0m\u001b[0;34m\u001b[0m\u001b[0m\n\u001b[0m\u001b[1;32m    349\u001b[0m         \u001b[0;32mif\u001b[0m \u001b[0mtarget\u001b[0m \u001b[0;32mis\u001b[0m \u001b[0;32mnot\u001b[0m \u001b[0;32mNone\u001b[0m\u001b[0;34m:\u001b[0m\u001b[0;34m\u001b[0m\u001b[0;34m\u001b[0m\u001b[0m\n\u001b[1;32m    350\u001b[0m             \u001b[0mresult\u001b[0m\u001b[0;34m.\u001b[0m\u001b[0mdownload\u001b[0m\u001b[0;34m(\u001b[0m\u001b[0mtarget\u001b[0m\u001b[0;34m)\u001b[0m\u001b[0;34m\u001b[0m\u001b[0;34m\u001b[0m\u001b[0m\n",
      "\u001b[0;32m~/mambaforge/envs/pangeo/lib/python3.8/site-packages/cdsapi/api.py\u001b[0m in \u001b[0;36m_api\u001b[0;34m(self, url, request, method)\u001b[0m\n\u001b[1;32m    477\u001b[0m \u001b[0;34m\u001b[0m\u001b[0m\n\u001b[1;32m    478\u001b[0m                 \u001b[0mself\u001b[0m\u001b[0;34m.\u001b[0m\u001b[0mdebug\u001b[0m\u001b[0;34m(\u001b[0m\u001b[0;34m\"Request ID is %s, sleep %s\"\u001b[0m\u001b[0;34m,\u001b[0m \u001b[0mrid\u001b[0m\u001b[0;34m,\u001b[0m \u001b[0msleep\u001b[0m\u001b[0;34m)\u001b[0m\u001b[0;34m\u001b[0m\u001b[0;34m\u001b[0m\u001b[0m\n\u001b[0;32m--> 479\u001b[0;31m                 \u001b[0mtime\u001b[0m\u001b[0;34m.\u001b[0m\u001b[0msleep\u001b[0m\u001b[0;34m(\u001b[0m\u001b[0msleep\u001b[0m\u001b[0;34m)\u001b[0m\u001b[0;34m\u001b[0m\u001b[0;34m\u001b[0m\u001b[0m\n\u001b[0m\u001b[1;32m    480\u001b[0m                 \u001b[0msleep\u001b[0m \u001b[0;34m*=\u001b[0m \u001b[0;36m1.5\u001b[0m\u001b[0;34m\u001b[0m\u001b[0;34m\u001b[0m\u001b[0m\n\u001b[1;32m    481\u001b[0m                 \u001b[0;32mif\u001b[0m \u001b[0msleep\u001b[0m \u001b[0;34m>\u001b[0m \u001b[0mself\u001b[0m\u001b[0;34m.\u001b[0m\u001b[0msleep_max\u001b[0m\u001b[0;34m:\u001b[0m\u001b[0;34m\u001b[0m\u001b[0;34m\u001b[0m\u001b[0m\n",
      "\u001b[0;31mKeyboardInterrupt\u001b[0m: "
     ]
    }
   ],
   "source": [
    "if not opath_tmp.joinpath(f'download_{varname}_{GCM}_{month:02}.netcdf').exists(): \n",
    "    \n",
    "    c = cdsapi.Client()\n",
    "\n",
    "    c.retrieve(\n",
    "        'seasonal-monthly-pressure-levels',\n",
    "        {\n",
    "            'format': 'netcdf',\n",
    "            'originating_centre': GCM.lower(),\n",
    "            'system': systems,\n",
    "            'variable': 'geopotential',\n",
    "            'pressure_level': '850',\n",
    "            'product_type': 'monthly_mean',\n",
    "            'year': years,\n",
    "            'month': f'{month:02}',\n",
    "            'leadtime_month': list(map(str, steps)),\n",
    "            'area': [\n",
    "                55, -180, -55,\n",
    "                180,\n",
    "            ],\n",
    "        },\n",
    "        str(opath_tmp.joinpath(f'download_{varname}_{GCM}_{month:02}.netcdf')))\n",
    "    \n",
    "# # open, loop over months and saves \n",
    "        \n",
    "# dset = xr.open_dataset(opath_tmp.joinpath(f'download_{varname}_{GCM}_{month:02}.netcdf'), engine='netcdf4')\n",
    "\n",
    "# times = dset.time.to_index()\n",
    "\n",
    "# dset_l = []\n",
    "\n",
    "# c = 0\n",
    "\n",
    "# for i, t in enumerate(times[0::len(steps)]): \n",
    "\n",
    "#     sub = dset.isel(time=slice(c, c + len(steps)))\n",
    "\n",
    "#     init_time = sub.time.to_index()[0] - relativedelta.relativedelta(months = steps[0] - 1)\n",
    "\n",
    "#     print(f\"saving forecasts for {varname}, from {GCM}, from init time {init_time:%Y-%m}\")\n",
    "\n",
    "#     c += len(steps)\n",
    "\n",
    "#     sub.to_netcdf(opath.joinpath(f\"ensemble_seas_forecasts_{varname}_from_{init_time:%Y_%m}_{GCM}.netcdf\"))"
   ]
  },
  {
   "cell_type": "code",
   "execution_count": null,
   "id": "bf62a6e1-f330-4163-ab9e-08d17589a1bb",
   "metadata": {
    "papermill": {
     "duration": null,
     "end_time": null,
     "exception": null,
     "start_time": null,
     "status": "completed"
    },
    "tags": []
   },
   "outputs": [],
   "source": []
  }
 ],
 "metadata": {
  "kernelspec": {
   "display_name": "Python 3",
   "language": "python",
   "name": "python3"
  },
  "language_info": {
   "codemirror_mode": {
    "name": "ipython",
    "version": 3
   },
   "file_extension": ".py",
   "mimetype": "text/x-python",
   "name": "python",
   "nbconvert_exporter": "python",
   "pygments_lexer": "ipython3",
   "version": "3.8.10"
  },
  "papermill": {
   "default_parameters": {},
   "duration": 15953.746194,
   "end_time": "2021-07-27T20:50:10.378868",
   "environment_variables": {},
   "exception": null,
   "input_path": "download_CDS_per_initial_month_pressure.ipynb",
   "output_path": "download_CDS_per_initial_month_pressure.ipynb",
   "parameters": {
    "GCM": "JMA",
    "month": 9
   },
   "start_time": "2021-07-27T16:24:16.632674",
   "version": "2.3.3"
  }
 },
 "nbformat": 4,
 "nbformat_minor": 5
}