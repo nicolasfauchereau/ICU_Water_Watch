{
 "cells": [
  {
   "cell_type": "markdown",
   "id": "59b3fd23-e758-43ad-920b-a0315c90cb72",
   "metadata": {
    "papermill": {
     "duration": 0.02083,
     "end_time": "2021-10-27T03:36:26.168495",
     "exception": false,
     "start_time": "2021-10-27T03:36:26.147665",
     "status": "completed"
    },
    "tags": []
   },
   "source": [
    "### This notebook is run by: \n",
    "\n",
    "`drive_calculate_C3S_GCMs_hindcast_tercile_probabilities.ipynb`   \n",
    "\n",
    "For a given GCM, initial month, and period, it calculates the tercile climatology, saves the climatology in \n",
    "\n",
    "`/media/nicolasf/END19101/ICU/data/CDS/CLIMATOLOGY/{GCM}`\n",
    "\n",
    "then calculates the probabilities for each year (for the given initial month) and saves them in \n",
    "\n",
    "`/media/nicolasf/END19101/ICU/data/CDS/{GCM}/tercile_probs/{varname.upper()}`\n"
   ]
  },
  {
   "cell_type": "code",
   "execution_count": 1,
   "id": "39906a50-30ee-4f07-bbff-6eb4831da534",
   "metadata": {
    "execution": {
     "iopub.execute_input": "2021-10-27T03:36:26.212852Z",
     "iopub.status.busy": "2021-10-27T03:36:26.212500Z",
     "iopub.status.idle": "2021-10-27T03:36:26.219037Z",
     "shell.execute_reply": "2021-10-27T03:36:26.218645Z"
    },
    "papermill": {
     "duration": 0.030934,
     "end_time": "2021-10-27T03:36:26.219125",
     "exception": false,
     "start_time": "2021-10-27T03:36:26.188191",
     "status": "completed"
    },
    "tags": []
   },
   "outputs": [],
   "source": [
    "%load_ext autoreload\n",
    "%autoreload 2"
   ]
  },
  {
   "cell_type": "code",
   "execution_count": 2,
   "id": "35f76d2f-14b2-44b4-98f2-7e3edeaeecf7",
   "metadata": {
    "execution": {
     "iopub.execute_input": "2021-10-27T03:36:26.261077Z",
     "iopub.status.busy": "2021-10-27T03:36:26.260738Z",
     "iopub.status.idle": "2021-10-27T03:36:27.046289Z",
     "shell.execute_reply": "2021-10-27T03:36:27.045933Z"
    },
    "papermill": {
     "duration": 0.807702,
     "end_time": "2021-10-27T03:36:27.046369",
     "exception": false,
     "start_time": "2021-10-27T03:36:26.238667",
     "status": "completed"
    },
    "tags": []
   },
   "outputs": [],
   "source": [
    "### os \n",
    "import os \n",
    "import sys\n",
    "\n",
    "### datetimes \n",
    "from datetime import datetime, timedelta\n",
    "from dateutil.relativedelta import relativedelta\n",
    "from calendar import month_name\n",
    "\n",
    "### scipy \n",
    "import numpy as np \n",
    "import pandas as pd\n",
    "import xarray as xr\n",
    "\n",
    "# dask \n",
    "import dask \n",
    "from dask.diagnostics import ProgressBar"
   ]
  },
  {
   "cell_type": "code",
   "execution_count": 3,
   "id": "6267b8b0-2ea5-49da-be46-c35ae2e9e4ec",
   "metadata": {
    "execution": {
     "iopub.execute_input": "2021-10-27T03:36:27.087467Z",
     "iopub.status.busy": "2021-10-27T03:36:27.087120Z",
     "iopub.status.idle": "2021-10-27T03:36:27.097077Z",
     "shell.execute_reply": "2021-10-27T03:36:27.096795Z"
    },
    "papermill": {
     "duration": 0.030894,
     "end_time": "2021-10-27T03:36:27.097162",
     "exception": false,
     "start_time": "2021-10-27T03:36:27.066268",
     "status": "completed"
    },
    "tags": []
   },
   "outputs": [],
   "source": [
    "import pathlib\n",
    "HOME = pathlib.Path.home()\n",
    "CWD = pathlib.Path.cwd() "
   ]
  },
  {
   "cell_type": "markdown",
   "id": "4908616d-93e1-4e2e-a799-8a3c6c69dc6d",
   "metadata": {
    "papermill": {
     "duration": 0.018691,
     "end_time": "2021-10-27T03:36:27.134895",
     "exception": false,
     "start_time": "2021-10-27T03:36:27.116204",
     "status": "completed"
    },
    "tags": []
   },
   "source": [
    "### import local functions for the processing of the C3S forecasts "
   ]
  },
  {
   "cell_type": "code",
   "execution_count": 4,
   "id": "3face832-c495-4625-b989-f4fccd48f686",
   "metadata": {
    "execution": {
     "iopub.execute_input": "2021-10-27T03:36:27.174498Z",
     "iopub.status.busy": "2021-10-27T03:36:27.174175Z",
     "iopub.status.idle": "2021-10-27T03:36:27.183348Z",
     "shell.execute_reply": "2021-10-27T03:36:27.183601Z"
    },
    "papermill": {
     "duration": 0.030331,
     "end_time": "2021-10-27T03:36:27.183705",
     "exception": false,
     "start_time": "2021-10-27T03:36:27.153374",
     "status": "completed"
    },
    "tags": []
   },
   "outputs": [],
   "source": [
    "sys.path.append('../..')"
   ]
  },
  {
   "cell_type": "code",
   "execution_count": 5,
   "id": "2c91d66f-1362-4c78-9e5d-219b294ac5a9",
   "metadata": {
    "execution": {
     "iopub.execute_input": "2021-10-27T03:36:27.222733Z",
     "iopub.status.busy": "2021-10-27T03:36:27.222411Z",
     "iopub.status.idle": "2021-10-27T03:36:27.581541Z",
     "shell.execute_reply": "2021-10-27T03:36:27.581255Z"
    },
    "papermill": {
     "duration": 0.379256,
     "end_time": "2021-10-27T03:36:27.581626",
     "exception": false,
     "start_time": "2021-10-27T03:36:27.202370",
     "status": "completed"
    },
    "tags": []
   },
   "outputs": [],
   "source": [
    "from ICU_Water_Watch import C3S, domains"
   ]
  },
  {
   "cell_type": "code",
   "execution_count": 6,
   "id": "eca838a9-3ec1-41dc-92f9-52ca6afdb633",
   "metadata": {
    "execution": {
     "iopub.execute_input": "2021-10-27T03:36:27.621536Z",
     "iopub.status.busy": "2021-10-27T03:36:27.621218Z",
     "iopub.status.idle": "2021-10-27T03:36:27.633102Z",
     "shell.execute_reply": "2021-10-27T03:36:27.632836Z"
    },
    "papermill": {
     "duration": 0.032504,
     "end_time": "2021-10-27T03:36:27.633186",
     "exception": false,
     "start_time": "2021-10-27T03:36:27.600682",
     "status": "completed"
    },
    "tags": []
   },
   "outputs": [],
   "source": [
    "domain = domains.domains['C3S_download']"
   ]
  },
  {
   "cell_type": "code",
   "execution_count": 7,
   "id": "51ee2fdb-07b7-47a8-bdb0-43ac065ef557",
   "metadata": {
    "execution": {
     "iopub.execute_input": "2021-10-27T03:36:27.672793Z",
     "iopub.status.busy": "2021-10-27T03:36:27.672478Z",
     "iopub.status.idle": "2021-10-27T03:36:27.685988Z",
     "shell.execute_reply": "2021-10-27T03:36:27.685648Z"
    },
    "papermill": {
     "duration": 0.033884,
     "end_time": "2021-10-27T03:36:27.686068",
     "exception": false,
     "start_time": "2021-10-27T03:36:27.652184",
     "status": "completed"
    },
    "tags": []
   },
   "outputs": [
    {
     "data": {
      "text/plain": [
       "[100, 240, -50, 30]"
      ]
     },
     "execution_count": 7,
     "metadata": {},
     "output_type": "execute_result"
    }
   ],
   "source": [
    "domain"
   ]
  },
  {
   "cell_type": "markdown",
   "id": "d36c1e52-8e0e-4772-a8d2-cdeef4aab972",
   "metadata": {
    "papermill": {
     "duration": 0.018296,
     "end_time": "2021-10-27T03:36:27.722859",
     "exception": false,
     "start_time": "2021-10-27T03:36:27.704563",
     "status": "completed"
    },
    "tags": []
   },
   "source": [
    "### parameters for papermill "
   ]
  },
  {
   "cell_type": "code",
   "execution_count": 8,
   "id": "2f59f712-7648-491a-a28c-9f606490f2d2",
   "metadata": {
    "execution": {
     "iopub.execute_input": "2021-10-27T03:36:27.762242Z",
     "iopub.status.busy": "2021-10-27T03:36:27.761919Z",
     "iopub.status.idle": "2021-10-27T03:36:27.773629Z",
     "shell.execute_reply": "2021-10-27T03:36:27.773293Z"
    },
    "papermill": {
     "duration": 0.032408,
     "end_time": "2021-10-27T03:36:27.773709",
     "exception": false,
     "start_time": "2021-10-27T03:36:27.741301",
     "status": "completed"
    },
    "tags": [
     "parameters"
    ]
   },
   "outputs": [],
   "source": [
    "provider = 'CDS'\n",
    "varname = 'tprate'\n",
    "varname_out = 'precip'\n",
    "period = 'seasonal'\n",
    "GCM = 'ECMWF'\n",
    "month = 2\n",
    "quantile = 'tercile'"
   ]
  },
  {
   "cell_type": "code",
   "execution_count": 9,
   "id": "78ba5829",
   "metadata": {
    "execution": {
     "iopub.execute_input": "2021-10-27T03:36:27.813208Z",
     "iopub.status.busy": "2021-10-27T03:36:27.812887Z",
     "iopub.status.idle": "2021-10-27T03:36:27.824704Z",
     "shell.execute_reply": "2021-10-27T03:36:27.824414Z"
    },
    "papermill": {
     "duration": 0.032431,
     "end_time": "2021-10-27T03:36:27.824784",
     "exception": false,
     "start_time": "2021-10-27T03:36:27.792353",
     "status": "completed"
    },
    "tags": [
     "injected-parameters"
    ]
   },
   "outputs": [],
   "source": [
    "# Parameters\n",
    "GCM = \"ECMWF\"\n",
    "period = \"seasonal\"\n",
    "month = 7\n"
   ]
  },
  {
   "cell_type": "markdown",
   "id": "d68ad8b9-9922-4593-9ede-01afef04713d",
   "metadata": {
    "papermill": {
     "duration": 0.018392,
     "end_time": "2021-10-27T03:36:27.862107",
     "exception": false,
     "start_time": "2021-10-27T03:36:27.843715",
     "status": "completed"
    },
    "tags": []
   },
   "source": [
    "### list of GCMs "
   ]
  },
  {
   "cell_type": "code",
   "execution_count": 10,
   "id": "af33fe2e-5f59-4764-a2db-3195d6defe34",
   "metadata": {
    "execution": {
     "iopub.execute_input": "2021-10-27T03:36:27.902300Z",
     "iopub.status.busy": "2021-10-27T03:36:27.901981Z",
     "iopub.status.idle": "2021-10-27T03:36:27.913592Z",
     "shell.execute_reply": "2021-10-27T03:36:27.913326Z"
    },
    "papermill": {
     "duration": 0.032831,
     "end_time": "2021-10-27T03:36:27.913672",
     "exception": false,
     "start_time": "2021-10-27T03:36:27.880841",
     "status": "completed"
    },
    "tags": []
   },
   "outputs": [],
   "source": [
    "list_GCMs = ['ECMWF','UKMO','METEO_FRANCE','CMCC','DWD', 'NCEP', 'JMA']"
   ]
  },
  {
   "cell_type": "code",
   "execution_count": 11,
   "id": "a3e90573-f4bc-48fb-ac89-ed827bf7f2d0",
   "metadata": {
    "execution": {
     "iopub.execute_input": "2021-10-27T03:36:27.953812Z",
     "iopub.status.busy": "2021-10-27T03:36:27.953418Z",
     "iopub.status.idle": "2021-10-27T03:36:27.965488Z",
     "shell.execute_reply": "2021-10-27T03:36:27.965146Z"
    },
    "papermill": {
     "duration": 0.033004,
     "end_time": "2021-10-27T03:36:27.965569",
     "exception": false,
     "start_time": "2021-10-27T03:36:27.932565",
     "status": "completed"
    },
    "tags": []
   },
   "outputs": [],
   "source": [
    "if GCM not in list_GCMs: \n",
    "    print(f\"{GCM} is not in {', '.join(list_GCMs)}\")"
   ]
  },
  {
   "cell_type": "markdown",
   "id": "4413f04d-c7d1-4d58-b7df-e4cc5cf32185",
   "metadata": {
    "papermill": {
     "duration": 0.018797,
     "end_time": "2021-10-27T03:36:28.003136",
     "exception": false,
     "start_time": "2021-10-27T03:36:27.984339",
     "status": "completed"
    },
    "tags": []
   },
   "source": [
    "### path to the GCMs **hindcast datasets** and **climatologies** "
   ]
  },
  {
   "cell_type": "code",
   "execution_count": 12,
   "id": "2e4526aa-da84-43fb-8de2-cb745c042725",
   "metadata": {
    "execution": {
     "iopub.execute_input": "2021-10-27T03:36:28.043166Z",
     "iopub.status.busy": "2021-10-27T03:36:28.042847Z",
     "iopub.status.idle": "2021-10-27T03:36:28.055029Z",
     "shell.execute_reply": "2021-10-27T03:36:28.054647Z"
    },
    "papermill": {
     "duration": 0.032807,
     "end_time": "2021-10-27T03:36:28.055129",
     "exception": false,
     "start_time": "2021-10-27T03:36:28.022322",
     "status": "completed"
    },
    "tags": []
   },
   "outputs": [],
   "source": [
    "gcm_path = pathlib.Path(f'/media/nicolasf/END19101/ICU/data/{provider}')"
   ]
  },
  {
   "cell_type": "markdown",
   "id": "739b0cb3-a9da-4d3e-923a-cdde2351619e",
   "metadata": {
    "papermill": {
     "duration": 0.020434,
     "end_time": "2021-10-27T03:36:28.095730",
     "exception": false,
     "start_time": "2021-10-27T03:36:28.075296",
     "status": "completed"
    },
    "tags": []
   },
   "source": [
    "### reads the hindcasts "
   ]
  },
  {
   "cell_type": "code",
   "execution_count": 13,
   "id": "775cf724-3217-435d-b160-d07ba11348c2",
   "metadata": {
    "execution": {
     "iopub.execute_input": "2021-10-27T03:36:28.137201Z",
     "iopub.status.busy": "2021-10-27T03:36:28.136859Z",
     "iopub.status.idle": "2021-10-27T03:36:28.150153Z",
     "shell.execute_reply": "2021-10-27T03:36:28.149823Z"
    },
    "papermill": {
     "duration": 0.034585,
     "end_time": "2021-10-27T03:36:28.150238",
     "exception": false,
     "start_time": "2021-10-27T03:36:28.115653",
     "status": "completed"
    },
    "tags": []
   },
   "outputs": [],
   "source": [
    "lfiles_hindcast = list(gcm_path.joinpath(f\"{GCM}/{varname.upper()}\").glob(f\"ensemble_seas_forecasts_tprate_from_*_{month:02d}_{GCM}.netcdf\"))"
   ]
  },
  {
   "cell_type": "markdown",
   "id": "27f7a808-86a4-4e0f-a8b2-5192c0be1dc2",
   "metadata": {
    "papermill": {
     "duration": 0.022576,
     "end_time": "2021-10-27T03:36:28.192414",
     "exception": false,
     "start_time": "2021-10-27T03:36:28.169838",
     "status": "completed"
    },
    "tags": []
   },
   "source": [
    "### only keep the years 1993 to 2016"
   ]
  },
  {
   "cell_type": "code",
   "execution_count": 14,
   "id": "b1b36bb2-d242-49ca-8099-972ad0752400",
   "metadata": {
    "execution": {
     "iopub.execute_input": "2021-10-27T03:36:28.240367Z",
     "iopub.status.busy": "2021-10-27T03:36:28.239818Z",
     "iopub.status.idle": "2021-10-27T03:36:28.252590Z",
     "shell.execute_reply": "2021-10-27T03:36:28.252243Z"
    },
    "papermill": {
     "duration": 0.035634,
     "end_time": "2021-10-27T03:36:28.252672",
     "exception": false,
     "start_time": "2021-10-27T03:36:28.217038",
     "status": "completed"
    },
    "tags": []
   },
   "outputs": [],
   "source": [
    "lfiles_hindcast.sort()"
   ]
  },
  {
   "cell_type": "code",
   "execution_count": 15,
   "id": "609e145c-cbd7-4b8f-aef6-1e678b51a591",
   "metadata": {
    "execution": {
     "iopub.execute_input": "2021-10-27T03:36:28.298425Z",
     "iopub.status.busy": "2021-10-27T03:36:28.297890Z",
     "iopub.status.idle": "2021-10-27T03:36:28.310120Z",
     "shell.execute_reply": "2021-10-27T03:36:28.310401Z"
    },
    "papermill": {
     "duration": 0.037794,
     "end_time": "2021-10-27T03:36:28.310514",
     "exception": false,
     "start_time": "2021-10-27T03:36:28.272720",
     "status": "completed"
    },
    "tags": []
   },
   "outputs": [],
   "source": [
    "def get_year(fname): \n",
    "    return int(fname.name.split(\"_\")[5])"
   ]
  },
  {
   "cell_type": "code",
   "execution_count": 16,
   "id": "e8d46d8e-2285-4bb1-a2a0-ef6937837341",
   "metadata": {
    "execution": {
     "iopub.execute_input": "2021-10-27T03:36:28.352499Z",
     "iopub.status.busy": "2021-10-27T03:36:28.352101Z",
     "iopub.status.idle": "2021-10-27T03:36:28.364152Z",
     "shell.execute_reply": "2021-10-27T03:36:28.364434Z"
    },
    "papermill": {
     "duration": 0.034288,
     "end_time": "2021-10-27T03:36:28.364547",
     "exception": false,
     "start_time": "2021-10-27T03:36:28.330259",
     "status": "completed"
    },
    "tags": []
   },
   "outputs": [],
   "source": [
    "lfiles_hindcast = [x for x in lfiles_hindcast if get_year(x) <= 2016]"
   ]
  },
  {
   "cell_type": "code",
   "execution_count": 17,
   "id": "93f35f96-80ac-4b8e-a3ff-4b4a5926d586",
   "metadata": {
    "execution": {
     "iopub.execute_input": "2021-10-27T03:36:28.406509Z",
     "iopub.status.busy": "2021-10-27T03:36:28.406161Z",
     "iopub.status.idle": "2021-10-27T03:36:29.038148Z",
     "shell.execute_reply": "2021-10-27T03:36:29.037797Z"
    },
    "papermill": {
     "duration": 0.653842,
     "end_time": "2021-10-27T03:36:29.038232",
     "exception": false,
     "start_time": "2021-10-27T03:36:28.384390",
     "status": "completed"
    },
    "tags": []
   },
   "outputs": [],
   "source": [
    "hindcast = xr.open_mfdataset(lfiles_hindcast, preprocess=C3S.preprocess_GCM)"
   ]
  },
  {
   "cell_type": "code",
   "execution_count": 18,
   "id": "233d3a98-56db-497b-b2b2-81488ecb92b5",
   "metadata": {
    "execution": {
     "iopub.execute_input": "2021-10-27T03:36:29.080127Z",
     "iopub.status.busy": "2021-10-27T03:36:29.079686Z",
     "iopub.status.idle": "2021-10-27T03:36:29.095650Z",
     "shell.execute_reply": "2021-10-27T03:36:29.095241Z"
    },
    "papermill": {
     "duration": 0.0375,
     "end_time": "2021-10-27T03:36:29.095735",
     "exception": false,
     "start_time": "2021-10-27T03:36:29.058235",
     "status": "completed"
    },
    "tags": []
   },
   "outputs": [],
   "source": [
    "hindcast = domains.extract_domain(hindcast, domain)"
   ]
  },
  {
   "cell_type": "code",
   "execution_count": 19,
   "id": "36fd0203-fc52-4d06-9dc6-3592f3952175",
   "metadata": {
    "execution": {
     "iopub.execute_input": "2021-10-27T03:36:29.137387Z",
     "iopub.status.busy": "2021-10-27T03:36:29.137038Z",
     "iopub.status.idle": "2021-10-27T03:36:29.161378Z",
     "shell.execute_reply": "2021-10-27T03:36:29.161092Z"
    },
    "papermill": {
     "duration": 0.046094,
     "end_time": "2021-10-27T03:36:29.161462",
     "exception": false,
     "start_time": "2021-10-27T03:36:29.115368",
     "status": "completed"
    },
    "tags": []
   },
   "outputs": [
    {
     "name": "stdout",
     "output_type": "stream",
     "text": [
      "\n",
      "unit is m s**-1, converting to mm/day\n",
      "\n",
      "now converting to mm/month, converted precipitation will be held in var = precip\n"
     ]
    }
   ],
   "source": [
    "hindcast = C3S.convert_rainfall(hindcast, varin='tprate', varout='precip', leadvar='step', timevar='time', dropvar=True)"
   ]
  },
  {
   "cell_type": "code",
   "execution_count": 20,
   "id": "7475584c-8794-4b8a-ada1-160d129e5c92",
   "metadata": {
    "execution": {
     "iopub.execute_input": "2021-10-27T03:36:29.211679Z",
     "iopub.status.busy": "2021-10-27T03:36:29.211311Z",
     "iopub.status.idle": "2021-10-27T03:36:29.250437Z",
     "shell.execute_reply": "2021-10-27T03:36:29.250139Z"
    },
    "papermill": {
     "duration": 0.061252,
     "end_time": "2021-10-27T03:36:29.250522",
     "exception": false,
     "start_time": "2021-10-27T03:36:29.189270",
     "status": "completed"
    },
    "tags": []
   },
   "outputs": [
    {
     "name": "stdout",
     "output_type": "stream",
     "text": [
      "Calculating the seasonal (3 months) accumulations\n"
     ]
    }
   ],
   "source": [
    "if period == 'seasonal': \n",
    "\n",
    "    print(\"Calculating the seasonal (3 months) accumulations\")\n",
    "\n",
    "    hindcast = hindcast.rolling({'step':3}, min_periods=3, center=False).sum('step') \n",
    "\n",
    "    # get rid of the 2 first steps, which by definition contain missing values \n",
    "\n",
    "    hindcast = hindcast.sel(step=slice(3, None))"
   ]
  },
  {
   "cell_type": "markdown",
   "id": "685122b9-2d91-4040-9fdf-4eabd4fa9c6c",
   "metadata": {
    "papermill": {
     "duration": 0.019044,
     "end_time": "2021-10-27T03:36:29.289158",
     "exception": false,
     "start_time": "2021-10-27T03:36:29.270114",
     "status": "completed"
    },
    "tags": []
   },
   "source": [
    "### calculates the climatology "
   ]
  },
  {
   "cell_type": "code",
   "execution_count": 21,
   "id": "2f0d70c8-dcaa-4332-a1b0-46bd6dc1f7e1",
   "metadata": {
    "execution": {
     "iopub.execute_input": "2021-10-27T03:36:29.330758Z",
     "iopub.status.busy": "2021-10-27T03:36:29.330414Z",
     "iopub.status.idle": "2021-10-27T03:36:29.346062Z",
     "shell.execute_reply": "2021-10-27T03:36:29.346568Z"
    },
    "papermill": {
     "duration": 0.037854,
     "end_time": "2021-10-27T03:36:29.346733",
     "exception": false,
     "start_time": "2021-10-27T03:36:29.308879",
     "status": "completed"
    },
    "tags": []
   },
   "outputs": [
    {
     "data": {
      "text/plain": [
       "Frozen({'time': (1, 1, 1, 1, 1, 1, 1, 1, 1, 1, 1, 1, 1, 1, 1, 1, 1, 1, 1, 1, 1, 1, 1, 1), 'step': (3,), 'member': (25,), 'lat': (81,), 'lon': (121,)})"
      ]
     },
     "execution_count": 21,
     "metadata": {},
     "output_type": "execute_result"
    }
   ],
   "source": [
    "hindcast.chunks"
   ]
  },
  {
   "cell_type": "code",
   "execution_count": 22,
   "id": "1c9b56e3-5b0f-4305-80e9-c00bd23428e8",
   "metadata": {
    "execution": {
     "iopub.execute_input": "2021-10-27T03:36:29.411247Z",
     "iopub.status.busy": "2021-10-27T03:36:29.410895Z",
     "iopub.status.idle": "2021-10-27T03:36:29.426694Z",
     "shell.execute_reply": "2021-10-27T03:36:29.426376Z"
    },
    "papermill": {
     "duration": 0.038365,
     "end_time": "2021-10-27T03:36:29.426782",
     "exception": false,
     "start_time": "2021-10-27T03:36:29.388417",
     "status": "completed"
    },
    "tags": []
   },
   "outputs": [],
   "source": [
    "hindcast = hindcast.chunk({'time':-1, 'member':-1, 'lat':10, 'lon':10})"
   ]
  },
  {
   "cell_type": "code",
   "execution_count": 23,
   "id": "7b64a436-4ccf-4c1b-aa29-49c83023d116",
   "metadata": {
    "execution": {
     "iopub.execute_input": "2021-10-27T03:36:29.471425Z",
     "iopub.status.busy": "2021-10-27T03:36:29.471056Z",
     "iopub.status.idle": "2021-10-27T03:36:30.212483Z",
     "shell.execute_reply": "2021-10-27T03:36:30.212768Z"
    },
    "papermill": {
     "duration": 0.765437,
     "end_time": "2021-10-27T03:36:30.212874",
     "exception": false,
     "start_time": "2021-10-27T03:36:29.447437",
     "status": "completed"
    },
    "tags": []
   },
   "outputs": [],
   "source": [
    "instances = len(hindcast.stack(instance=('time','member')).dropna('instance')['instance'])"
   ]
  },
  {
   "cell_type": "code",
   "execution_count": 24,
   "id": "d60202ef-8e80-41a3-8122-1c8df5c7c0dc",
   "metadata": {
    "execution": {
     "iopub.execute_input": "2021-10-27T03:36:30.262305Z",
     "iopub.status.busy": "2021-10-27T03:36:30.261934Z",
     "iopub.status.idle": "2021-10-27T03:36:30.286441Z",
     "shell.execute_reply": "2021-10-27T03:36:30.286076Z"
    },
    "papermill": {
     "duration": 0.049884,
     "end_time": "2021-10-27T03:36:30.286527",
     "exception": false,
     "start_time": "2021-10-27T03:36:30.236643",
     "status": "completed"
    },
    "tags": []
   },
   "outputs": [
    {
     "data": {
      "text/plain": [
       "600"
      ]
     },
     "execution_count": 24,
     "metadata": {},
     "output_type": "execute_result"
    }
   ],
   "source": [
    "instances"
   ]
  },
  {
   "cell_type": "code",
   "execution_count": 25,
   "id": "345a29c8-a5b7-447b-919a-1cfb88c1eb04",
   "metadata": {
    "execution": {
     "iopub.execute_input": "2021-10-27T03:36:30.333162Z",
     "iopub.status.busy": "2021-10-27T03:36:30.332640Z",
     "iopub.status.idle": "2021-10-27T03:36:30.364575Z",
     "shell.execute_reply": "2021-10-27T03:36:30.364157Z"
    },
    "papermill": {
     "duration": 0.056493,
     "end_time": "2021-10-27T03:36:30.364767",
     "exception": false,
     "start_time": "2021-10-27T03:36:30.308274",
     "status": "completed"
    },
    "tags": []
   },
   "outputs": [],
   "source": [
    "tercile_climatology = hindcast.quantile([0.3333, 0.6666], dim=['time','member'])"
   ]
  },
  {
   "cell_type": "code",
   "execution_count": 26,
   "id": "65542966-b3d7-4803-9834-c6df0dd25978",
   "metadata": {
    "execution": {
     "iopub.execute_input": "2021-10-27T03:36:30.411328Z",
     "iopub.status.busy": "2021-10-27T03:36:30.410965Z",
     "iopub.status.idle": "2021-10-27T03:36:35.184489Z",
     "shell.execute_reply": "2021-10-27T03:36:35.182959Z"
    },
    "papermill": {
     "duration": 4.79837,
     "end_time": "2021-10-27T03:36:35.184806",
     "exception": false,
     "start_time": "2021-10-27T03:36:30.386436",
     "status": "completed"
    },
    "tags": []
   },
   "outputs": [
    {
     "name": "stdout",
     "output_type": "stream",
     "text": [
      "\r",
      "[                                        ] | 0% Completed |  0.0s"
     ]
    },
    {
     "name": "stdout",
     "output_type": "stream",
     "text": [
      "\r",
      "[####                                    ] | 11% Completed |  0.1s"
     ]
    },
    {
     "name": "stdout",
     "output_type": "stream",
     "text": [
      "\r",
      "[########                                ] | 21% Completed |  0.2s"
     ]
    },
    {
     "name": "stdout",
     "output_type": "stream",
     "text": [
      "\r",
      "[#############                           ] | 34% Completed |  0.3s"
     ]
    },
    {
     "name": "stdout",
     "output_type": "stream",
     "text": [
      "\r",
      "[##################                      ] | 45% Completed |  0.4s"
     ]
    },
    {
     "name": "stdout",
     "output_type": "stream",
     "text": [
      "\r",
      "[########################                ] | 60% Completed |  0.5s"
     ]
    },
    {
     "name": "stdout",
     "output_type": "stream",
     "text": [
      "\r",
      "[###########################             ] | 69% Completed |  0.6s"
     ]
    },
    {
     "name": "stdout",
     "output_type": "stream",
     "text": [
      "\r",
      "[############################            ] | 71% Completed |  0.7s"
     ]
    },
    {
     "name": "stdout",
     "output_type": "stream",
     "text": [
      "\r",
      "[############################            ] | 71% Completed |  0.8s"
     ]
    },
    {
     "name": "stdout",
     "output_type": "stream",
     "text": [
      "\r",
      "[############################            ] | 71% Completed |  0.9s"
     ]
    },
    {
     "name": "stdout",
     "output_type": "stream",
     "text": [
      "\r",
      "[############################            ] | 71% Completed |  1.0s"
     ]
    },
    {
     "name": "stdout",
     "output_type": "stream",
     "text": [
      "\r",
      "[############################            ] | 72% Completed |  1.1s"
     ]
    },
    {
     "name": "stdout",
     "output_type": "stream",
     "text": [
      "\r",
      "[#############################           ] | 74% Completed |  1.3s"
     ]
    },
    {
     "name": "stdout",
     "output_type": "stream",
     "text": [
      "\r",
      "[#############################           ] | 74% Completed |  1.4s"
     ]
    },
    {
     "name": "stdout",
     "output_type": "stream",
     "text": [
      "\r",
      "[#############################           ] | 74% Completed |  1.5s"
     ]
    },
    {
     "name": "stdout",
     "output_type": "stream",
     "text": [
      "\r",
      "[#############################           ] | 74% Completed |  1.6s"
     ]
    },
    {
     "name": "stdout",
     "output_type": "stream",
     "text": [
      "\r",
      "[##############################          ] | 76% Completed |  1.7s"
     ]
    },
    {
     "name": "stdout",
     "output_type": "stream",
     "text": [
      "\r",
      "[###############################         ] | 78% Completed |  1.8s"
     ]
    },
    {
     "name": "stdout",
     "output_type": "stream",
     "text": [
      "\r",
      "[###############################         ] | 78% Completed |  1.9s"
     ]
    },
    {
     "name": "stdout",
     "output_type": "stream",
     "text": [
      "\r",
      "[###############################         ] | 78% Completed |  2.0s"
     ]
    },
    {
     "name": "stdout",
     "output_type": "stream",
     "text": [
      "\r",
      "[###############################         ] | 79% Completed |  2.1s"
     ]
    },
    {
     "name": "stdout",
     "output_type": "stream",
     "text": [
      "\r",
      "[################################        ] | 81% Completed |  2.2s"
     ]
    },
    {
     "name": "stdout",
     "output_type": "stream",
     "text": [
      "\r",
      "[#################################       ] | 82% Completed |  2.3s"
     ]
    },
    {
     "name": "stdout",
     "output_type": "stream",
     "text": [
      "\r",
      "[#################################       ] | 82% Completed |  2.4s"
     ]
    },
    {
     "name": "stdout",
     "output_type": "stream",
     "text": [
      "\r",
      "[#################################       ] | 82% Completed |  2.5s"
     ]
    },
    {
     "name": "stdout",
     "output_type": "stream",
     "text": [
      "\r",
      "[#################################       ] | 83% Completed |  2.6s"
     ]
    },
    {
     "name": "stdout",
     "output_type": "stream",
     "text": [
      "\r",
      "[##################################      ] | 85% Completed |  2.7s"
     ]
    },
    {
     "name": "stdout",
     "output_type": "stream",
     "text": [
      "\r",
      "[##################################      ] | 86% Completed |  2.8s"
     ]
    },
    {
     "name": "stdout",
     "output_type": "stream",
     "text": [
      "\r",
      "[##################################      ] | 86% Completed |  2.9s"
     ]
    },
    {
     "name": "stdout",
     "output_type": "stream",
     "text": [
      "\r",
      "[##################################      ] | 86% Completed |  3.0s"
     ]
    },
    {
     "name": "stdout",
     "output_type": "stream",
     "text": [
      "\r",
      "[###################################     ] | 87% Completed |  3.1s"
     ]
    },
    {
     "name": "stdout",
     "output_type": "stream",
     "text": [
      "\r",
      "[###################################     ] | 89% Completed |  3.2s"
     ]
    },
    {
     "name": "stdout",
     "output_type": "stream",
     "text": [
      "\r",
      "[###################################     ] | 89% Completed |  3.3s"
     ]
    },
    {
     "name": "stdout",
     "output_type": "stream",
     "text": [
      "\r",
      "[###################################     ] | 89% Completed |  3.4s"
     ]
    },
    {
     "name": "stdout",
     "output_type": "stream",
     "text": [
      "\r",
      "[####################################    ] | 90% Completed |  3.5s"
     ]
    },
    {
     "name": "stdout",
     "output_type": "stream",
     "text": [
      "\r",
      "[####################################    ] | 92% Completed |  3.7s"
     ]
    },
    {
     "name": "stdout",
     "output_type": "stream",
     "text": [
      "\r",
      "[#####################################   ] | 93% Completed |  3.8s"
     ]
    },
    {
     "name": "stdout",
     "output_type": "stream",
     "text": [
      "\r",
      "[#####################################   ] | 93% Completed |  3.9s"
     ]
    },
    {
     "name": "stdout",
     "output_type": "stream",
     "text": [
      "\r",
      "[#####################################   ] | 93% Completed |  4.0s"
     ]
    },
    {
     "name": "stdout",
     "output_type": "stream",
     "text": [
      "\r",
      "[#####################################   ] | 94% Completed |  4.1s"
     ]
    },
    {
     "name": "stdout",
     "output_type": "stream",
     "text": [
      "\r",
      "[######################################  ] | 97% Completed |  4.2s"
     ]
    },
    {
     "name": "stdout",
     "output_type": "stream",
     "text": [
      "\r",
      "[####################################### ] | 97% Completed |  4.3s"
     ]
    },
    {
     "name": "stdout",
     "output_type": "stream",
     "text": [
      "\r",
      "[####################################### ] | 97% Completed |  4.4s"
     ]
    },
    {
     "name": "stdout",
     "output_type": "stream",
     "text": [
      "\r",
      "[####################################### ] | 97% Completed |  4.5s"
     ]
    },
    {
     "name": "stdout",
     "output_type": "stream",
     "text": [
      "\r",
      "[####################################### ] | 99% Completed |  4.6s"
     ]
    },
    {
     "name": "stdout",
     "output_type": "stream",
     "text": [
      "\r",
      "[########################################] | 100% Completed |  4.7s"
     ]
    },
    {
     "name": "stdout",
     "output_type": "stream",
     "text": [
      "\n"
     ]
    }
   ],
   "source": [
    "with ProgressBar(): \n",
    "    tercile_climatology = tercile_climatology.compute()"
   ]
  },
  {
   "cell_type": "code",
   "execution_count": 27,
   "id": "dd3cd26a-1e01-49f1-a77c-5f60cc537d47",
   "metadata": {
    "execution": {
     "iopub.execute_input": "2021-10-27T03:36:35.270597Z",
     "iopub.status.busy": "2021-10-27T03:36:35.270254Z",
     "iopub.status.idle": "2021-10-27T03:36:35.282168Z",
     "shell.execute_reply": "2021-10-27T03:36:35.281821Z"
    },
    "papermill": {
     "duration": 0.041821,
     "end_time": "2021-10-27T03:36:35.282252",
     "exception": false,
     "start_time": "2021-10-27T03:36:35.240431",
     "status": "completed"
    },
    "tags": []
   },
   "outputs": [],
   "source": [
    "tercile_climatology.attrs['ninstances'] = instances"
   ]
  },
  {
   "cell_type": "markdown",
   "id": "c85c4e4b-b36c-45cc-a6cd-0b03e5a73d14",
   "metadata": {
    "papermill": {
     "duration": 0.026583,
     "end_time": "2021-10-27T03:36:35.364952",
     "exception": false,
     "start_time": "2021-10-27T03:36:35.338369",
     "status": "completed"
    },
    "tags": []
   },
   "source": [
    "### save the climatology "
   ]
  },
  {
   "cell_type": "code",
   "execution_count": 28,
   "id": "b4614c94-efb2-45e8-a116-cb7fcc15c6db",
   "metadata": {
    "execution": {
     "iopub.execute_input": "2021-10-27T03:36:35.421023Z",
     "iopub.status.busy": "2021-10-27T03:36:35.420694Z",
     "iopub.status.idle": "2021-10-27T03:36:35.433214Z",
     "shell.execute_reply": "2021-10-27T03:36:35.432945Z"
    },
    "papermill": {
     "duration": 0.041252,
     "end_time": "2021-10-27T03:36:35.433294",
     "exception": false,
     "start_time": "2021-10-27T03:36:35.392042",
     "status": "completed"
    },
    "tags": []
   },
   "outputs": [
    {
     "data": {
      "text/plain": [
       "PosixPath('/media/nicolasf/END19101/ICU/data/CDS')"
      ]
     },
     "execution_count": 28,
     "metadata": {},
     "output_type": "execute_result"
    }
   ],
   "source": [
    "gcm_path"
   ]
  },
  {
   "cell_type": "code",
   "execution_count": 29,
   "id": "b142a69f-4615-47b3-b521-0624c91a1445",
   "metadata": {
    "execution": {
     "iopub.execute_input": "2021-10-27T03:36:35.490561Z",
     "iopub.status.busy": "2021-10-27T03:36:35.490228Z",
     "iopub.status.idle": "2021-10-27T03:36:35.502065Z",
     "shell.execute_reply": "2021-10-27T03:36:35.501735Z"
    },
    "papermill": {
     "duration": 0.041794,
     "end_time": "2021-10-27T03:36:35.502144",
     "exception": false,
     "start_time": "2021-10-27T03:36:35.460350",
     "status": "completed"
    },
    "tags": []
   },
   "outputs": [],
   "source": [
    "opath_clim = gcm_path.joinpath(f\"CLIMATOLOGY/{GCM}/{varname.upper()}\")"
   ]
  },
  {
   "cell_type": "code",
   "execution_count": 30,
   "id": "2e57dc80-2806-4186-af3c-a960b9c131b7",
   "metadata": {
    "execution": {
     "iopub.execute_input": "2021-10-27T03:36:35.564188Z",
     "iopub.status.busy": "2021-10-27T03:36:35.563845Z",
     "iopub.status.idle": "2021-10-27T03:36:35.575571Z",
     "shell.execute_reply": "2021-10-27T03:36:35.575825Z"
    },
    "papermill": {
     "duration": 0.044043,
     "end_time": "2021-10-27T03:36:35.575931",
     "exception": false,
     "start_time": "2021-10-27T03:36:35.531888",
     "status": "completed"
    },
    "tags": []
   },
   "outputs": [],
   "source": [
    "if not opath_clim.exists(): \n",
    "    opath_clim.mkdir(parents=True)"
   ]
  },
  {
   "cell_type": "code",
   "execution_count": 31,
   "id": "88f8a1a2-89bd-4020-a807-1891fae2e00a",
   "metadata": {
    "execution": {
     "iopub.execute_input": "2021-10-27T03:36:35.634313Z",
     "iopub.status.busy": "2021-10-27T03:36:35.633977Z",
     "iopub.status.idle": "2021-10-27T03:36:35.759999Z",
     "shell.execute_reply": "2021-10-27T03:36:35.758646Z"
    },
    "papermill": {
     "duration": 0.156313,
     "end_time": "2021-10-27T03:36:35.760293",
     "exception": false,
     "start_time": "2021-10-27T03:36:35.603980",
     "status": "completed"
    },
    "tags": []
   },
   "outputs": [],
   "source": [
    "tercile_climatology.to_netcdf(opath_clim.joinpath(f\"{GCM}_{period}_{quantile}_climatology_{month:02d}.netcdf\"))"
   ]
  },
  {
   "cell_type": "markdown",
   "id": "79578d75-d806-4a64-845d-140955356cc3",
   "metadata": {
    "papermill": {
     "duration": 0.028062,
     "end_time": "2021-10-27T03:36:35.847990",
     "exception": false,
     "start_time": "2021-10-27T03:36:35.819928",
     "status": "completed"
    },
    "tags": []
   },
   "source": [
    "### Now derive the categories for the hindcast using the above climatology "
   ]
  },
  {
   "cell_type": "code",
   "execution_count": 32,
   "id": "da342c87-c65d-4e74-81e5-9f388f093183",
   "metadata": {
    "execution": {
     "iopub.execute_input": "2021-10-27T03:36:35.911370Z",
     "iopub.status.busy": "2021-10-27T03:36:35.911024Z",
     "iopub.status.idle": "2021-10-27T03:36:35.930022Z",
     "shell.execute_reply": "2021-10-27T03:36:35.930293Z"
    },
    "papermill": {
     "duration": 0.051322,
     "end_time": "2021-10-27T03:36:35.930405",
     "exception": false,
     "start_time": "2021-10-27T03:36:35.879083",
     "status": "completed"
    },
    "tags": []
   },
   "outputs": [],
   "source": [
    "terciles_category = C3S.get_GCM_category_digitize(hindcast, tercile_climatology.squeeze(), varname=varname_out, dim='quantile')"
   ]
  },
  {
   "cell_type": "code",
   "execution_count": 33,
   "id": "1e1875ca-4268-40bf-8113-915e112204bc",
   "metadata": {
    "execution": {
     "iopub.execute_input": "2021-10-27T03:36:35.991770Z",
     "iopub.status.busy": "2021-10-27T03:36:35.991340Z",
     "iopub.status.idle": "2021-10-27T03:36:36.024490Z",
     "shell.execute_reply": "2021-10-27T03:36:36.024133Z"
    },
    "papermill": {
     "duration": 0.065193,
     "end_time": "2021-10-27T03:36:36.024602",
     "exception": false,
     "start_time": "2021-10-27T03:36:35.959409",
     "status": "completed"
    },
    "tags": []
   },
   "outputs": [
    {
     "data": {
      "text/html": [
       "<div><svg style=\"position: absolute; width: 0; height: 0; overflow: hidden\">\n",
       "<defs>\n",
       "<symbol id=\"icon-database\" viewBox=\"0 0 32 32\">\n",
       "<path d=\"M16 0c-8.837 0-16 2.239-16 5v4c0 2.761 7.163 5 16 5s16-2.239 16-5v-4c0-2.761-7.163-5-16-5z\"></path>\n",
       "<path d=\"M16 17c-8.837 0-16-2.239-16-5v6c0 2.761 7.163 5 16 5s16-2.239 16-5v-6c0 2.761-7.163 5-16 5z\"></path>\n",
       "<path d=\"M16 26c-8.837 0-16-2.239-16-5v6c0 2.761 7.163 5 16 5s16-2.239 16-5v-6c0 2.761-7.163 5-16 5z\"></path>\n",
       "</symbol>\n",
       "<symbol id=\"icon-file-text2\" viewBox=\"0 0 32 32\">\n",
       "<path d=\"M28.681 7.159c-0.694-0.947-1.662-2.053-2.724-3.116s-2.169-2.030-3.116-2.724c-1.612-1.182-2.393-1.319-2.841-1.319h-15.5c-1.378 0-2.5 1.121-2.5 2.5v27c0 1.378 1.122 2.5 2.5 2.5h23c1.378 0 2.5-1.122 2.5-2.5v-19.5c0-0.448-0.137-1.23-1.319-2.841zM24.543 5.457c0.959 0.959 1.712 1.825 2.268 2.543h-4.811v-4.811c0.718 0.556 1.584 1.309 2.543 2.268zM28 29.5c0 0.271-0.229 0.5-0.5 0.5h-23c-0.271 0-0.5-0.229-0.5-0.5v-27c0-0.271 0.229-0.5 0.5-0.5 0 0 15.499-0 15.5 0v7c0 0.552 0.448 1 1 1h7v19.5z\"></path>\n",
       "<path d=\"M23 26h-14c-0.552 0-1-0.448-1-1s0.448-1 1-1h14c0.552 0 1 0.448 1 1s-0.448 1-1 1z\"></path>\n",
       "<path d=\"M23 22h-14c-0.552 0-1-0.448-1-1s0.448-1 1-1h14c0.552 0 1 0.448 1 1s-0.448 1-1 1z\"></path>\n",
       "<path d=\"M23 18h-14c-0.552 0-1-0.448-1-1s0.448-1 1-1h14c0.552 0 1 0.448 1 1s-0.448 1-1 1z\"></path>\n",
       "</symbol>\n",
       "</defs>\n",
       "</svg>\n",
       "<style>/* CSS stylesheet for displaying xarray objects in jupyterlab.\n",
       " *\n",
       " */\n",
       "\n",
       ":root {\n",
       "  --xr-font-color0: var(--jp-content-font-color0, rgba(0, 0, 0, 1));\n",
       "  --xr-font-color2: var(--jp-content-font-color2, rgba(0, 0, 0, 0.54));\n",
       "  --xr-font-color3: var(--jp-content-font-color3, rgba(0, 0, 0, 0.38));\n",
       "  --xr-border-color: var(--jp-border-color2, #e0e0e0);\n",
       "  --xr-disabled-color: var(--jp-layout-color3, #bdbdbd);\n",
       "  --xr-background-color: var(--jp-layout-color0, white);\n",
       "  --xr-background-color-row-even: var(--jp-layout-color1, white);\n",
       "  --xr-background-color-row-odd: var(--jp-layout-color2, #eeeeee);\n",
       "}\n",
       "\n",
       "html[theme=dark],\n",
       "body.vscode-dark {\n",
       "  --xr-font-color0: rgba(255, 255, 255, 1);\n",
       "  --xr-font-color2: rgba(255, 255, 255, 0.54);\n",
       "  --xr-font-color3: rgba(255, 255, 255, 0.38);\n",
       "  --xr-border-color: #1F1F1F;\n",
       "  --xr-disabled-color: #515151;\n",
       "  --xr-background-color: #111111;\n",
       "  --xr-background-color-row-even: #111111;\n",
       "  --xr-background-color-row-odd: #313131;\n",
       "}\n",
       "\n",
       ".xr-wrap {\n",
       "  display: block;\n",
       "  min-width: 300px;\n",
       "  max-width: 700px;\n",
       "}\n",
       "\n",
       ".xr-text-repr-fallback {\n",
       "  /* fallback to plain text repr when CSS is not injected (untrusted notebook) */\n",
       "  display: none;\n",
       "}\n",
       "\n",
       ".xr-header {\n",
       "  padding-top: 6px;\n",
       "  padding-bottom: 6px;\n",
       "  margin-bottom: 4px;\n",
       "  border-bottom: solid 1px var(--xr-border-color);\n",
       "}\n",
       "\n",
       ".xr-header > div,\n",
       ".xr-header > ul {\n",
       "  display: inline;\n",
       "  margin-top: 0;\n",
       "  margin-bottom: 0;\n",
       "}\n",
       "\n",
       ".xr-obj-type,\n",
       ".xr-array-name {\n",
       "  margin-left: 2px;\n",
       "  margin-right: 10px;\n",
       "}\n",
       "\n",
       ".xr-obj-type {\n",
       "  color: var(--xr-font-color2);\n",
       "}\n",
       "\n",
       ".xr-sections {\n",
       "  padding-left: 0 !important;\n",
       "  display: grid;\n",
       "  grid-template-columns: 150px auto auto 1fr 20px 20px;\n",
       "}\n",
       "\n",
       ".xr-section-item {\n",
       "  display: contents;\n",
       "}\n",
       "\n",
       ".xr-section-item input {\n",
       "  display: none;\n",
       "}\n",
       "\n",
       ".xr-section-item input + label {\n",
       "  color: var(--xr-disabled-color);\n",
       "}\n",
       "\n",
       ".xr-section-item input:enabled + label {\n",
       "  cursor: pointer;\n",
       "  color: var(--xr-font-color2);\n",
       "}\n",
       "\n",
       ".xr-section-item input:enabled + label:hover {\n",
       "  color: var(--xr-font-color0);\n",
       "}\n",
       "\n",
       ".xr-section-summary {\n",
       "  grid-column: 1;\n",
       "  color: var(--xr-font-color2);\n",
       "  font-weight: 500;\n",
       "}\n",
       "\n",
       ".xr-section-summary > span {\n",
       "  display: inline-block;\n",
       "  padding-left: 0.5em;\n",
       "}\n",
       "\n",
       ".xr-section-summary-in:disabled + label {\n",
       "  color: var(--xr-font-color2);\n",
       "}\n",
       "\n",
       ".xr-section-summary-in + label:before {\n",
       "  display: inline-block;\n",
       "  content: '►';\n",
       "  font-size: 11px;\n",
       "  width: 15px;\n",
       "  text-align: center;\n",
       "}\n",
       "\n",
       ".xr-section-summary-in:disabled + label:before {\n",
       "  color: var(--xr-disabled-color);\n",
       "}\n",
       "\n",
       ".xr-section-summary-in:checked + label:before {\n",
       "  content: '▼';\n",
       "}\n",
       "\n",
       ".xr-section-summary-in:checked + label > span {\n",
       "  display: none;\n",
       "}\n",
       "\n",
       ".xr-section-summary,\n",
       ".xr-section-inline-details {\n",
       "  padding-top: 4px;\n",
       "  padding-bottom: 4px;\n",
       "}\n",
       "\n",
       ".xr-section-inline-details {\n",
       "  grid-column: 2 / -1;\n",
       "}\n",
       "\n",
       ".xr-section-details {\n",
       "  display: none;\n",
       "  grid-column: 1 / -1;\n",
       "  margin-bottom: 5px;\n",
       "}\n",
       "\n",
       ".xr-section-summary-in:checked ~ .xr-section-details {\n",
       "  display: contents;\n",
       "}\n",
       "\n",
       ".xr-array-wrap {\n",
       "  grid-column: 1 / -1;\n",
       "  display: grid;\n",
       "  grid-template-columns: 20px auto;\n",
       "}\n",
       "\n",
       ".xr-array-wrap > label {\n",
       "  grid-column: 1;\n",
       "  vertical-align: top;\n",
       "}\n",
       "\n",
       ".xr-preview {\n",
       "  color: var(--xr-font-color3);\n",
       "}\n",
       "\n",
       ".xr-array-preview,\n",
       ".xr-array-data {\n",
       "  padding: 0 5px !important;\n",
       "  grid-column: 2;\n",
       "}\n",
       "\n",
       ".xr-array-data,\n",
       ".xr-array-in:checked ~ .xr-array-preview {\n",
       "  display: none;\n",
       "}\n",
       "\n",
       ".xr-array-in:checked ~ .xr-array-data,\n",
       ".xr-array-preview {\n",
       "  display: inline-block;\n",
       "}\n",
       "\n",
       ".xr-dim-list {\n",
       "  display: inline-block !important;\n",
       "  list-style: none;\n",
       "  padding: 0 !important;\n",
       "  margin: 0;\n",
       "}\n",
       "\n",
       ".xr-dim-list li {\n",
       "  display: inline-block;\n",
       "  padding: 0;\n",
       "  margin: 0;\n",
       "}\n",
       "\n",
       ".xr-dim-list:before {\n",
       "  content: '(';\n",
       "}\n",
       "\n",
       ".xr-dim-list:after {\n",
       "  content: ')';\n",
       "}\n",
       "\n",
       ".xr-dim-list li:not(:last-child):after {\n",
       "  content: ',';\n",
       "  padding-right: 5px;\n",
       "}\n",
       "\n",
       ".xr-has-index {\n",
       "  font-weight: bold;\n",
       "}\n",
       "\n",
       ".xr-var-list,\n",
       ".xr-var-item {\n",
       "  display: contents;\n",
       "}\n",
       "\n",
       ".xr-var-item > div,\n",
       ".xr-var-item label,\n",
       ".xr-var-item > .xr-var-name span {\n",
       "  background-color: var(--xr-background-color-row-even);\n",
       "  margin-bottom: 0;\n",
       "}\n",
       "\n",
       ".xr-var-item > .xr-var-name:hover span {\n",
       "  padding-right: 5px;\n",
       "}\n",
       "\n",
       ".xr-var-list > li:nth-child(odd) > div,\n",
       ".xr-var-list > li:nth-child(odd) > label,\n",
       ".xr-var-list > li:nth-child(odd) > .xr-var-name span {\n",
       "  background-color: var(--xr-background-color-row-odd);\n",
       "}\n",
       "\n",
       ".xr-var-name {\n",
       "  grid-column: 1;\n",
       "}\n",
       "\n",
       ".xr-var-dims {\n",
       "  grid-column: 2;\n",
       "}\n",
       "\n",
       ".xr-var-dtype {\n",
       "  grid-column: 3;\n",
       "  text-align: right;\n",
       "  color: var(--xr-font-color2);\n",
       "}\n",
       "\n",
       ".xr-var-preview {\n",
       "  grid-column: 4;\n",
       "}\n",
       "\n",
       ".xr-var-name,\n",
       ".xr-var-dims,\n",
       ".xr-var-dtype,\n",
       ".xr-preview,\n",
       ".xr-attrs dt {\n",
       "  white-space: nowrap;\n",
       "  overflow: hidden;\n",
       "  text-overflow: ellipsis;\n",
       "  padding-right: 10px;\n",
       "}\n",
       "\n",
       ".xr-var-name:hover,\n",
       ".xr-var-dims:hover,\n",
       ".xr-var-dtype:hover,\n",
       ".xr-attrs dt:hover {\n",
       "  overflow: visible;\n",
       "  width: auto;\n",
       "  z-index: 1;\n",
       "}\n",
       "\n",
       ".xr-var-attrs,\n",
       ".xr-var-data {\n",
       "  display: none;\n",
       "  background-color: var(--xr-background-color) !important;\n",
       "  padding-bottom: 5px !important;\n",
       "}\n",
       "\n",
       ".xr-var-attrs-in:checked ~ .xr-var-attrs,\n",
       ".xr-var-data-in:checked ~ .xr-var-data {\n",
       "  display: block;\n",
       "}\n",
       "\n",
       ".xr-var-data > table {\n",
       "  float: right;\n",
       "}\n",
       "\n",
       ".xr-var-name span,\n",
       ".xr-var-data,\n",
       ".xr-attrs {\n",
       "  padding-left: 25px !important;\n",
       "}\n",
       "\n",
       ".xr-attrs,\n",
       ".xr-var-attrs,\n",
       ".xr-var-data {\n",
       "  grid-column: 1 / -1;\n",
       "}\n",
       "\n",
       "dl.xr-attrs {\n",
       "  padding: 0;\n",
       "  margin: 0;\n",
       "  display: grid;\n",
       "  grid-template-columns: 125px auto;\n",
       "}\n",
       "\n",
       ".xr-attrs dt,\n",
       ".xr-attrs dd {\n",
       "  padding: 0;\n",
       "  margin: 0;\n",
       "  float: left;\n",
       "  padding-right: 10px;\n",
       "  width: auto;\n",
       "}\n",
       "\n",
       ".xr-attrs dt {\n",
       "  font-weight: normal;\n",
       "  grid-column: 1;\n",
       "}\n",
       "\n",
       ".xr-attrs dt:hover span {\n",
       "  display: inline-block;\n",
       "  background: var(--xr-background-color);\n",
       "  padding-right: 10px;\n",
       "}\n",
       "\n",
       ".xr-attrs dd {\n",
       "  grid-column: 2;\n",
       "  white-space: pre-wrap;\n",
       "  word-break: break-all;\n",
       "}\n",
       "\n",
       ".xr-icon-database,\n",
       ".xr-icon-file-text2 {\n",
       "  display: inline-block;\n",
       "  vertical-align: middle;\n",
       "  width: 1em;\n",
       "  height: 1.5em !important;\n",
       "  stroke-width: 0;\n",
       "  stroke: currentColor;\n",
       "  fill: currentColor;\n",
       "}\n",
       "</style><pre class='xr-text-repr-fallback'>&lt;xarray.Dataset&gt;\n",
       "Dimensions:  (time: 24, lon: 121, lat: 81, member: 25, step: 3)\n",
       "Coordinates:\n",
       "  * time     (time) datetime64[ns] 1993-07-01 1994-07-01 ... 2016-07-01\n",
       "  * lon      (lon) float32 120.0 121.0 122.0 123.0 ... 237.0 238.0 239.0 240.0\n",
       "  * lat      (lat) float32 -50.0 -49.0 -48.0 -47.0 -46.0 ... 27.0 28.0 29.0 30.0\n",
       "  * member   (member) int32 0 1 2 3 4 5 6 7 8 9 ... 16 17 18 19 20 21 22 23 24\n",
       "  * step     (step) int64 3 4 5\n",
       "Data variables:\n",
       "    precip   (time, step, member, lat, lon) int64 dask.array&lt;chunksize=(24, 3, 25, 10, 10), meta=np.ndarray&gt;</pre><div class='xr-wrap' hidden><div class='xr-header'><div class='xr-obj-type'>xarray.Dataset</div></div><ul class='xr-sections'><li class='xr-section-item'><input id='section-cd580223-61da-4920-8003-f9ebc3b5098b' class='xr-section-summary-in' type='checkbox' disabled ><label for='section-cd580223-61da-4920-8003-f9ebc3b5098b' class='xr-section-summary'  title='Expand/collapse section'>Dimensions:</label><div class='xr-section-inline-details'><ul class='xr-dim-list'><li><span class='xr-has-index'>time</span>: 24</li><li><span class='xr-has-index'>lon</span>: 121</li><li><span class='xr-has-index'>lat</span>: 81</li><li><span class='xr-has-index'>member</span>: 25</li><li><span class='xr-has-index'>step</span>: 3</li></ul></div><div class='xr-section-details'></div></li><li class='xr-section-item'><input id='section-51dfddb2-1da1-4281-bdad-a5a7a91fa406' class='xr-section-summary-in' type='checkbox'  checked><label for='section-51dfddb2-1da1-4281-bdad-a5a7a91fa406' class='xr-section-summary' >Coordinates: <span>(5)</span></label><div class='xr-section-inline-details'></div><div class='xr-section-details'><ul class='xr-var-list'><li class='xr-var-item'><div class='xr-var-name'><span class='xr-has-index'>time</span></div><div class='xr-var-dims'>(time)</div><div class='xr-var-dtype'>datetime64[ns]</div><div class='xr-var-preview xr-preview'>1993-07-01 ... 2016-07-01</div><input id='attrs-c3e6ef30-fee8-4643-851b-cf2ef554b663' class='xr-var-attrs-in' type='checkbox' disabled><label for='attrs-c3e6ef30-fee8-4643-851b-cf2ef554b663' title='Show/Hide attributes'><svg class='icon xr-icon-file-text2'><use xlink:href='#icon-file-text2'></use></svg></label><input id='data-7151281c-9251-45f4-913b-2d9ab21fd96f' class='xr-var-data-in' type='checkbox'><label for='data-7151281c-9251-45f4-913b-2d9ab21fd96f' title='Show/Hide data repr'><svg class='icon xr-icon-database'><use xlink:href='#icon-database'></use></svg></label><div class='xr-var-attrs'><dl class='xr-attrs'></dl></div><div class='xr-var-data'><pre>array([&#x27;1993-07-01T00:00:00.000000000&#x27;, &#x27;1994-07-01T00:00:00.000000000&#x27;,\n",
       "       &#x27;1995-07-01T00:00:00.000000000&#x27;, &#x27;1996-07-01T00:00:00.000000000&#x27;,\n",
       "       &#x27;1997-07-01T00:00:00.000000000&#x27;, &#x27;1998-07-01T00:00:00.000000000&#x27;,\n",
       "       &#x27;1999-07-01T00:00:00.000000000&#x27;, &#x27;2000-07-01T00:00:00.000000000&#x27;,\n",
       "       &#x27;2001-07-01T00:00:00.000000000&#x27;, &#x27;2002-07-01T00:00:00.000000000&#x27;,\n",
       "       &#x27;2003-07-01T00:00:00.000000000&#x27;, &#x27;2004-07-01T00:00:00.000000000&#x27;,\n",
       "       &#x27;2005-07-01T00:00:00.000000000&#x27;, &#x27;2006-07-01T00:00:00.000000000&#x27;,\n",
       "       &#x27;2007-07-01T00:00:00.000000000&#x27;, &#x27;2008-07-01T00:00:00.000000000&#x27;,\n",
       "       &#x27;2009-07-01T00:00:00.000000000&#x27;, &#x27;2010-07-01T00:00:00.000000000&#x27;,\n",
       "       &#x27;2011-07-01T00:00:00.000000000&#x27;, &#x27;2012-07-01T00:00:00.000000000&#x27;,\n",
       "       &#x27;2013-07-01T00:00:00.000000000&#x27;, &#x27;2014-07-01T00:00:00.000000000&#x27;,\n",
       "       &#x27;2015-07-01T00:00:00.000000000&#x27;, &#x27;2016-07-01T00:00:00.000000000&#x27;],\n",
       "      dtype=&#x27;datetime64[ns]&#x27;)</pre></div></li><li class='xr-var-item'><div class='xr-var-name'><span class='xr-has-index'>lon</span></div><div class='xr-var-dims'>(lon)</div><div class='xr-var-dtype'>float32</div><div class='xr-var-preview xr-preview'>120.0 121.0 122.0 ... 239.0 240.0</div><input id='attrs-e07b406d-8b7b-4825-981e-e3ce8c2d1de7' class='xr-var-attrs-in' type='checkbox' disabled><label for='attrs-e07b406d-8b7b-4825-981e-e3ce8c2d1de7' title='Show/Hide attributes'><svg class='icon xr-icon-file-text2'><use xlink:href='#icon-file-text2'></use></svg></label><input id='data-118b07dd-63b0-4995-b608-40eced997168' class='xr-var-data-in' type='checkbox'><label for='data-118b07dd-63b0-4995-b608-40eced997168' title='Show/Hide data repr'><svg class='icon xr-icon-database'><use xlink:href='#icon-database'></use></svg></label><div class='xr-var-attrs'><dl class='xr-attrs'></dl></div><div class='xr-var-data'><pre>array([120., 121., 122., 123., 124., 125., 126., 127., 128., 129., 130., 131.,\n",
       "       132., 133., 134., 135., 136., 137., 138., 139., 140., 141., 142., 143.,\n",
       "       144., 145., 146., 147., 148., 149., 150., 151., 152., 153., 154., 155.,\n",
       "       156., 157., 158., 159., 160., 161., 162., 163., 164., 165., 166., 167.,\n",
       "       168., 169., 170., 171., 172., 173., 174., 175., 176., 177., 178., 179.,\n",
       "       180., 181., 182., 183., 184., 185., 186., 187., 188., 189., 190., 191.,\n",
       "       192., 193., 194., 195., 196., 197., 198., 199., 200., 201., 202., 203.,\n",
       "       204., 205., 206., 207., 208., 209., 210., 211., 212., 213., 214., 215.,\n",
       "       216., 217., 218., 219., 220., 221., 222., 223., 224., 225., 226., 227.,\n",
       "       228., 229., 230., 231., 232., 233., 234., 235., 236., 237., 238., 239.,\n",
       "       240.], dtype=float32)</pre></div></li><li class='xr-var-item'><div class='xr-var-name'><span class='xr-has-index'>lat</span></div><div class='xr-var-dims'>(lat)</div><div class='xr-var-dtype'>float32</div><div class='xr-var-preview xr-preview'>-50.0 -49.0 -48.0 ... 29.0 30.0</div><input id='attrs-9b8bbbc4-acf2-4176-9770-bc4c0ef6ed97' class='xr-var-attrs-in' type='checkbox' disabled><label for='attrs-9b8bbbc4-acf2-4176-9770-bc4c0ef6ed97' title='Show/Hide attributes'><svg class='icon xr-icon-file-text2'><use xlink:href='#icon-file-text2'></use></svg></label><input id='data-73653aac-13dd-437d-aeeb-18ad925ad4f4' class='xr-var-data-in' type='checkbox'><label for='data-73653aac-13dd-437d-aeeb-18ad925ad4f4' title='Show/Hide data repr'><svg class='icon xr-icon-database'><use xlink:href='#icon-database'></use></svg></label><div class='xr-var-attrs'><dl class='xr-attrs'></dl></div><div class='xr-var-data'><pre>array([-50., -49., -48., -47., -46., -45., -44., -43., -42., -41., -40., -39.,\n",
       "       -38., -37., -36., -35., -34., -33., -32., -31., -30., -29., -28., -27.,\n",
       "       -26., -25., -24., -23., -22., -21., -20., -19., -18., -17., -16., -15.,\n",
       "       -14., -13., -12., -11., -10.,  -9.,  -8.,  -7.,  -6.,  -5.,  -4.,  -3.,\n",
       "        -2.,  -1.,   0.,   1.,   2.,   3.,   4.,   5.,   6.,   7.,   8.,   9.,\n",
       "        10.,  11.,  12.,  13.,  14.,  15.,  16.,  17.,  18.,  19.,  20.,  21.,\n",
       "        22.,  23.,  24.,  25.,  26.,  27.,  28.,  29.,  30.], dtype=float32)</pre></div></li><li class='xr-var-item'><div class='xr-var-name'><span class='xr-has-index'>member</span></div><div class='xr-var-dims'>(member)</div><div class='xr-var-dtype'>int32</div><div class='xr-var-preview xr-preview'>0 1 2 3 4 5 6 ... 19 20 21 22 23 24</div><input id='attrs-6f299585-4a9c-415e-997e-f23f85cb4bd6' class='xr-var-attrs-in' type='checkbox' disabled><label for='attrs-6f299585-4a9c-415e-997e-f23f85cb4bd6' title='Show/Hide attributes'><svg class='icon xr-icon-file-text2'><use xlink:href='#icon-file-text2'></use></svg></label><input id='data-f0d04fee-11ac-45cc-99aa-159f697984ee' class='xr-var-data-in' type='checkbox'><label for='data-f0d04fee-11ac-45cc-99aa-159f697984ee' title='Show/Hide data repr'><svg class='icon xr-icon-database'><use xlink:href='#icon-database'></use></svg></label><div class='xr-var-attrs'><dl class='xr-attrs'></dl></div><div class='xr-var-data'><pre>array([ 0,  1,  2,  3,  4,  5,  6,  7,  8,  9, 10, 11, 12, 13, 14, 15, 16, 17,\n",
       "       18, 19, 20, 21, 22, 23, 24], dtype=int32)</pre></div></li><li class='xr-var-item'><div class='xr-var-name'><span class='xr-has-index'>step</span></div><div class='xr-var-dims'>(step)</div><div class='xr-var-dtype'>int64</div><div class='xr-var-preview xr-preview'>3 4 5</div><input id='attrs-b17290bd-0222-48b3-961e-a2795051545d' class='xr-var-attrs-in' type='checkbox' disabled><label for='attrs-b17290bd-0222-48b3-961e-a2795051545d' title='Show/Hide attributes'><svg class='icon xr-icon-file-text2'><use xlink:href='#icon-file-text2'></use></svg></label><input id='data-22efd86c-9756-40b4-9c89-290537171c85' class='xr-var-data-in' type='checkbox'><label for='data-22efd86c-9756-40b4-9c89-290537171c85' title='Show/Hide data repr'><svg class='icon xr-icon-database'><use xlink:href='#icon-database'></use></svg></label><div class='xr-var-attrs'><dl class='xr-attrs'></dl></div><div class='xr-var-data'><pre>array([3, 4, 5])</pre></div></li></ul></div></li><li class='xr-section-item'><input id='section-5c1e906d-f53f-468c-ac0d-b568fe07ec16' class='xr-section-summary-in' type='checkbox'  checked><label for='section-5c1e906d-f53f-468c-ac0d-b568fe07ec16' class='xr-section-summary' >Data variables: <span>(1)</span></label><div class='xr-section-inline-details'></div><div class='xr-section-details'><ul class='xr-var-list'><li class='xr-var-item'><div class='xr-var-name'><span>precip</span></div><div class='xr-var-dims'>(time, step, member, lat, lon)</div><div class='xr-var-dtype'>int64</div><div class='xr-var-preview xr-preview'>dask.array&lt;chunksize=(24, 3, 25, 10, 10), meta=np.ndarray&gt;</div><input id='attrs-aaa91011-2474-4930-ba3d-e1f3eeb6ac63' class='xr-var-attrs-in' type='checkbox' disabled><label for='attrs-aaa91011-2474-4930-ba3d-e1f3eeb6ac63' title='Show/Hide attributes'><svg class='icon xr-icon-file-text2'><use xlink:href='#icon-file-text2'></use></svg></label><input id='data-72a03757-9283-4a43-82d2-74d19ddbe441' class='xr-var-data-in' type='checkbox'><label for='data-72a03757-9283-4a43-82d2-74d19ddbe441' title='Show/Hide data repr'><svg class='icon xr-icon-database'><use xlink:href='#icon-database'></use></svg></label><div class='xr-var-attrs'><dl class='xr-attrs'></dl></div><div class='xr-var-data'><table>\n",
       "    <tr>\n",
       "        <td>\n",
       "            <table>\n",
       "                <thead>\n",
       "                    <tr>\n",
       "                        <td> </td>\n",
       "                        <th> Array </th>\n",
       "                        <th> Chunk </th>\n",
       "                    </tr>\n",
       "                </thead>\n",
       "                <tbody>\n",
       "                    \n",
       "                    <tr>\n",
       "                        <th> Bytes </th>\n",
       "                        <td> 134.60 MiB </td>\n",
       "                        <td> 1.37 MiB </td>\n",
       "                    </tr>\n",
       "                    \n",
       "                    <tr>\n",
       "                        <th> Shape </th>\n",
       "                        <td> (24, 3, 25, 81, 121) </td>\n",
       "                        <td> (24, 3, 25, 10, 10) </td>\n",
       "                    </tr>\n",
       "                    <tr>\n",
       "                        <th> Count </th>\n",
       "                        <td> 2015 Tasks </td>\n",
       "                        <td> 117 Chunks </td>\n",
       "                    </tr>\n",
       "                    <tr>\n",
       "                    <th> Type </th>\n",
       "                    <td> int64 </td>\n",
       "                    <td> numpy.ndarray </td>\n",
       "                    </tr>\n",
       "                </tbody>\n",
       "            </table>\n",
       "        </td>\n",
       "        <td>\n",
       "        <svg width=\"394\" height=\"155\" style=\"stroke:rgb(0,0,0);stroke-width:1\" >\n",
       "\n",
       "  <!-- Horizontal lines -->\n",
       "  <line x1=\"0\" y1=\"0\" x2=\"30\" y2=\"0\" style=\"stroke-width:2\" />\n",
       "  <line x1=\"0\" y1=\"41\" x2=\"30\" y2=\"41\" style=\"stroke-width:2\" />\n",
       "\n",
       "  <!-- Vertical lines -->\n",
       "  <line x1=\"0\" y1=\"0\" x2=\"0\" y2=\"41\" style=\"stroke-width:2\" />\n",
       "  <line x1=\"30\" y1=\"0\" x2=\"30\" y2=\"41\" style=\"stroke-width:2\" />\n",
       "\n",
       "  <!-- Colored Rectangle -->\n",
       "  <polygon points=\"0.0,0.0 30.26292606701685,0.0 30.26292606701685,41.974744095238016 0.0,41.974744095238016\" style=\"fill:#ECB172A0;stroke-width:0\"/>\n",
       "\n",
       "  <!-- Text -->\n",
       "  <text x=\"15.131463\" y=\"61.974744\" font-size=\"1.0rem\" font-weight=\"100\" text-anchor=\"middle\" >3</text>\n",
       "  <text x=\"50.262926\" y=\"20.987372\" font-size=\"1.0rem\" font-weight=\"100\" text-anchor=\"middle\" transform=\"rotate(0,50.262926,20.987372)\">24</text>\n",
       "\n",
       "\n",
       "  <!-- Horizontal lines -->\n",
       "  <line x1=\"100\" y1=\"0\" x2=\"124\" y2=\"24\" style=\"stroke-width:2\" />\n",
       "  <line x1=\"100\" y1=\"9\" x2=\"124\" y2=\"34\" />\n",
       "  <line x1=\"100\" y1=\"19\" x2=\"124\" y2=\"44\" />\n",
       "  <line x1=\"100\" y1=\"29\" x2=\"124\" y2=\"54\" />\n",
       "  <line x1=\"100\" y1=\"39\" x2=\"124\" y2=\"64\" />\n",
       "  <line x1=\"100\" y1=\"49\" x2=\"124\" y2=\"74\" />\n",
       "  <line x1=\"100\" y1=\"59\" x2=\"124\" y2=\"84\" />\n",
       "  <line x1=\"100\" y1=\"69\" x2=\"124\" y2=\"94\" />\n",
       "  <line x1=\"100\" y1=\"79\" x2=\"124\" y2=\"104\" />\n",
       "  <line x1=\"100\" y1=\"80\" x2=\"124\" y2=\"105\" style=\"stroke-width:2\" />\n",
       "\n",
       "  <!-- Vertical lines -->\n",
       "  <line x1=\"100\" y1=\"0\" x2=\"100\" y2=\"80\" style=\"stroke-width:2\" />\n",
       "  <line x1=\"124\" y1=\"24\" x2=\"124\" y2=\"105\" style=\"stroke-width:2\" />\n",
       "\n",
       "  <!-- Colored Rectangle -->\n",
       "  <polygon points=\"100.0,0.0 124.79187811826725,24.791878118267245 124.79187811826725,105.12245663066395 100.0,80.3305785123967\" style=\"fill:#ECB172A0;stroke-width:0\"/>\n",
       "\n",
       "  <!-- Horizontal lines -->\n",
       "  <line x1=\"100\" y1=\"0\" x2=\"220\" y2=\"0\" style=\"stroke-width:2\" />\n",
       "  <line x1=\"124\" y1=\"24\" x2=\"244\" y2=\"24\" style=\"stroke-width:2\" />\n",
       "\n",
       "  <!-- Vertical lines -->\n",
       "  <line x1=\"100\" y1=\"0\" x2=\"124\" y2=\"24\" style=\"stroke-width:2\" />\n",
       "  <line x1=\"109\" y1=\"0\" x2=\"134\" y2=\"24\" />\n",
       "  <line x1=\"119\" y1=\"0\" x2=\"144\" y2=\"24\" />\n",
       "  <line x1=\"129\" y1=\"0\" x2=\"154\" y2=\"24\" />\n",
       "  <line x1=\"139\" y1=\"0\" x2=\"164\" y2=\"24\" />\n",
       "  <line x1=\"149\" y1=\"0\" x2=\"174\" y2=\"24\" />\n",
       "  <line x1=\"159\" y1=\"0\" x2=\"184\" y2=\"24\" />\n",
       "  <line x1=\"169\" y1=\"0\" x2=\"194\" y2=\"24\" />\n",
       "  <line x1=\"179\" y1=\"0\" x2=\"204\" y2=\"24\" />\n",
       "  <line x1=\"189\" y1=\"0\" x2=\"214\" y2=\"24\" />\n",
       "  <line x1=\"199\" y1=\"0\" x2=\"223\" y2=\"24\" />\n",
       "  <line x1=\"209\" y1=\"0\" x2=\"233\" y2=\"24\" />\n",
       "  <line x1=\"219\" y1=\"0\" x2=\"243\" y2=\"24\" />\n",
       "  <line x1=\"220\" y1=\"0\" x2=\"244\" y2=\"24\" style=\"stroke-width:2\" />\n",
       "\n",
       "  <!-- Colored Rectangle -->\n",
       "  <polygon points=\"100.0,0.0 220.0,0.0 244.79187811826725,24.791878118267245 124.79187811826725,24.791878118267245\" style=\"fill:#ECB172A0;stroke-width:0\"/>\n",
       "\n",
       "  <!-- Horizontal lines -->\n",
       "  <line x1=\"124\" y1=\"24\" x2=\"244\" y2=\"24\" style=\"stroke-width:2\" />\n",
       "  <line x1=\"124\" y1=\"34\" x2=\"244\" y2=\"34\" />\n",
       "  <line x1=\"124\" y1=\"44\" x2=\"244\" y2=\"44\" />\n",
       "  <line x1=\"124\" y1=\"54\" x2=\"244\" y2=\"54\" />\n",
       "  <line x1=\"124\" y1=\"64\" x2=\"244\" y2=\"64\" />\n",
       "  <line x1=\"124\" y1=\"74\" x2=\"244\" y2=\"74\" />\n",
       "  <line x1=\"124\" y1=\"84\" x2=\"244\" y2=\"84\" />\n",
       "  <line x1=\"124\" y1=\"94\" x2=\"244\" y2=\"94\" />\n",
       "  <line x1=\"124\" y1=\"104\" x2=\"244\" y2=\"104\" />\n",
       "  <line x1=\"124\" y1=\"105\" x2=\"244\" y2=\"105\" style=\"stroke-width:2\" />\n",
       "\n",
       "  <!-- Vertical lines -->\n",
       "  <line x1=\"124\" y1=\"24\" x2=\"124\" y2=\"105\" style=\"stroke-width:2\" />\n",
       "  <line x1=\"134\" y1=\"24\" x2=\"134\" y2=\"105\" />\n",
       "  <line x1=\"144\" y1=\"24\" x2=\"144\" y2=\"105\" />\n",
       "  <line x1=\"154\" y1=\"24\" x2=\"154\" y2=\"105\" />\n",
       "  <line x1=\"164\" y1=\"24\" x2=\"164\" y2=\"105\" />\n",
       "  <line x1=\"174\" y1=\"24\" x2=\"174\" y2=\"105\" />\n",
       "  <line x1=\"184\" y1=\"24\" x2=\"184\" y2=\"105\" />\n",
       "  <line x1=\"194\" y1=\"24\" x2=\"194\" y2=\"105\" />\n",
       "  <line x1=\"204\" y1=\"24\" x2=\"204\" y2=\"105\" />\n",
       "  <line x1=\"214\" y1=\"24\" x2=\"214\" y2=\"105\" />\n",
       "  <line x1=\"223\" y1=\"24\" x2=\"223\" y2=\"105\" />\n",
       "  <line x1=\"233\" y1=\"24\" x2=\"233\" y2=\"105\" />\n",
       "  <line x1=\"243\" y1=\"24\" x2=\"243\" y2=\"105\" />\n",
       "  <line x1=\"244\" y1=\"24\" x2=\"244\" y2=\"105\" style=\"stroke-width:2\" />\n",
       "\n",
       "  <!-- Colored Rectangle -->\n",
       "  <polygon points=\"124.79187811826725,24.791878118267245 244.79187811826725,24.791878118267245 244.79187811826725,105.12245663066395 124.79187811826725,105.12245663066395\" style=\"fill:#ECB172A0;stroke-width:0\"/>\n",
       "\n",
       "  <!-- Text -->\n",
       "  <text x=\"184.791878\" y=\"125.122457\" font-size=\"1.0rem\" font-weight=\"100\" text-anchor=\"middle\" >121</text>\n",
       "  <text x=\"264.791878\" y=\"64.957167\" font-size=\"1.0rem\" font-weight=\"100\" text-anchor=\"middle\" transform=\"rotate(0,264.791878,64.957167)\">81</text>\n",
       "  <text x=\"102.395939\" y=\"112.726518\" font-size=\"1.0rem\" font-weight=\"100\" text-anchor=\"middle\" transform=\"rotate(45,102.395939,112.726518)\">25</text>\n",
       "</svg>\n",
       "        </td>\n",
       "    </tr>\n",
       "</table></div></li></ul></div></li><li class='xr-section-item'><input id='section-369c6db1-8457-4d94-a6d7-b72b7592875f' class='xr-section-summary-in' type='checkbox' disabled ><label for='section-369c6db1-8457-4d94-a6d7-b72b7592875f' class='xr-section-summary'  title='Expand/collapse section'>Attributes: <span>(0)</span></label><div class='xr-section-inline-details'></div><div class='xr-section-details'><dl class='xr-attrs'></dl></div></li></ul></div></div>"
      ],
      "text/plain": [
       "<xarray.Dataset>\n",
       "Dimensions:  (time: 24, lon: 121, lat: 81, member: 25, step: 3)\n",
       "Coordinates:\n",
       "  * time     (time) datetime64[ns] 1993-07-01 1994-07-01 ... 2016-07-01\n",
       "  * lon      (lon) float32 120.0 121.0 122.0 123.0 ... 237.0 238.0 239.0 240.0\n",
       "  * lat      (lat) float32 -50.0 -49.0 -48.0 -47.0 -46.0 ... 27.0 28.0 29.0 30.0\n",
       "  * member   (member) int32 0 1 2 3 4 5 6 7 8 9 ... 16 17 18 19 20 21 22 23 24\n",
       "  * step     (step) int64 3 4 5\n",
       "Data variables:\n",
       "    precip   (time, step, member, lat, lon) int64 dask.array<chunksize=(24, 3, 25, 10, 10), meta=np.ndarray>"
      ]
     },
     "execution_count": 33,
     "metadata": {},
     "output_type": "execute_result"
    }
   ],
   "source": [
    "terciles_category"
   ]
  },
  {
   "cell_type": "markdown",
   "id": "d3e3b58f-51ee-4f41-af9e-27125957e242",
   "metadata": {
    "papermill": {
     "duration": 0.030229,
     "end_time": "2021-10-27T03:36:36.085139",
     "exception": false,
     "start_time": "2021-10-27T03:36:36.054910",
     "status": "completed"
    },
    "tags": []
   },
   "source": [
    "### Now calculate the probabilities as the proportion (along the `member` dimension) of members in each categories "
   ]
  },
  {
   "cell_type": "code",
   "execution_count": 34,
   "id": "78cabb87-fd47-4cf7-88a0-a4b33020cb85",
   "metadata": {
    "execution": {
     "iopub.execute_input": "2021-10-27T03:36:36.155488Z",
     "iopub.status.busy": "2021-10-27T03:36:36.155107Z",
     "iopub.status.idle": "2021-10-27T03:36:07.782604Z",
     "shell.execute_reply": "2021-10-27T03:36:07.782964Z"
    },
    "papermill": {
     "duration": null,
     "end_time": null,
     "exception": false,
     "start_time": "2021-10-27T03:36:36.122633",
     "status": "running"
    },
    "tags": []
   },
   "outputs": [
    {
     "name": "stdout",
     "output_type": "stream",
     "text": [
      "\r",
      "[                                        ] | 0% Completed |  0.0s"
     ]
    },
    {
     "name": "stdout",
     "output_type": "stream",
     "text": [
      "\r",
      "[####                                    ] | 10% Completed |  0.1s"
     ]
    },
    {
     "name": "stdout",
     "output_type": "stream",
     "text": [
      "\r",
      "[#######                                 ] | 18% Completed |  0.2s"
     ]
    },
    {
     "name": "stdout",
     "output_type": "stream",
     "text": [
      "\r",
      "[###########                             ] | 28% Completed |  0.3s"
     ]
    },
    {
     "name": "stdout",
     "output_type": "stream",
     "text": [
      "\r",
      "[##############                          ] | 36% Completed |  0.4s"
     ]
    },
    {
     "name": "stdout",
     "output_type": "stream",
     "text": [
      "\r",
      "[#####################                   ] | 53% Completed |  0.5s"
     ]
    },
    {
     "name": "stdout",
     "output_type": "stream",
     "text": [
      "\r",
      "[###########################             ] | 68% Completed |  0.7s"
     ]
    },
    {
     "name": "stdout",
     "output_type": "stream",
     "text": [
      "\r",
      "[###########################             ] | 69% Completed |  1.0s"
     ]
    },
    {
     "name": "stdout",
     "output_type": "stream",
     "text": [
      "\r",
      "[###########################             ] | 69% Completed |  1.7s"
     ]
    },
    {
     "name": "stdout",
     "output_type": "stream",
     "text": [
      "\r",
      "[###########################             ] | 69% Completed |  2.0s"
     ]
    },
    {
     "name": "stdout",
     "output_type": "stream",
     "text": [
      "\r",
      "[###########################             ] | 69% Completed |  3.1s"
     ]
    },
    {
     "name": "stdout",
     "output_type": "stream",
     "text": [
      "\r",
      "[###########################             ] | 69% Completed |  3.7s"
     ]
    },
    {
     "name": "stdout",
     "output_type": "stream",
     "text": [
      "\r",
      "[###########################             ] | 69% Completed |  3.9s"
     ]
    },
    {
     "name": "stdout",
     "output_type": "stream",
     "text": [
      "\r",
      "[###########################             ] | 69% Completed |  4.1s"
     ]
    },
    {
     "name": "stdout",
     "output_type": "stream",
     "text": [
      "\r",
      "[###########################             ] | 69% Completed |  4.6s"
     ]
    },
    {
     "name": "stdout",
     "output_type": "stream",
     "text": [
      "\r",
      "[############################            ] | 70% Completed |  5.1s"
     ]
    },
    {
     "name": "stdout",
     "output_type": "stream",
     "text": [
      "\r",
      "[############################            ] | 70% Completed |  5.8s"
     ]
    },
    {
     "name": "stdout",
     "output_type": "stream",
     "text": [
      "\r",
      "[############################            ] | 70% Completed |  6.4s"
     ]
    },
    {
     "name": "stdout",
     "output_type": "stream",
     "text": [
      "\r",
      "[############################            ] | 70% Completed |  7.1s"
     ]
    },
    {
     "name": "stdout",
     "output_type": "stream",
     "text": [
      "\r",
      "[############################            ] | 70% Completed |  8.0s"
     ]
    },
    {
     "name": "stdout",
     "output_type": "stream",
     "text": [
      "\r",
      "[############################            ] | 70% Completed |  8.6s"
     ]
    },
    {
     "name": "stdout",
     "output_type": "stream",
     "text": [
      "\r",
      "[############################            ] | 70% Completed |  9.1s"
     ]
    },
    {
     "name": "stdout",
     "output_type": "stream",
     "text": [
      "\r",
      "[############################            ] | 70% Completed |  9.6s"
     ]
    },
    {
     "name": "stdout",
     "output_type": "stream",
     "text": [
      "\r",
      "[############################            ] | 70% Completed | 10.4s"
     ]
    },
    {
     "name": "stdout",
     "output_type": "stream",
     "text": [
      "\r",
      "[############################            ] | 70% Completed | 11.4s"
     ]
    },
    {
     "name": "stdout",
     "output_type": "stream",
     "text": [
      "\r",
      "[############################            ] | 70% Completed | 11.7s"
     ]
    },
    {
     "name": "stdout",
     "output_type": "stream",
     "text": [
      "\r",
      "[############################            ] | 70% Completed | 12.9s"
     ]
    },
    {
     "name": "stdout",
     "output_type": "stream",
     "text": [
      "\r",
      "[############################            ] | 70% Completed | 13.4s"
     ]
    },
    {
     "name": "stdout",
     "output_type": "stream",
     "text": [
      "\r",
      "[############################            ] | 70% Completed | 13.9s"
     ]
    },
    {
     "name": "stdout",
     "output_type": "stream",
     "text": [
      "\r",
      "[############################            ] | 70% Completed | 14.4s"
     ]
    },
    {
     "name": "stdout",
     "output_type": "stream",
     "text": [
      "\r",
      "[############################            ] | 70% Completed | 14.8s"
     ]
    },
    {
     "name": "stdout",
     "output_type": "stream",
     "text": [
      "\r",
      "[############################            ] | 70% Completed | 15.2s"
     ]
    },
    {
     "name": "stdout",
     "output_type": "stream",
     "text": [
      "\r",
      "[############################            ] | 70% Completed | 16.5s"
     ]
    },
    {
     "name": "stdout",
     "output_type": "stream",
     "text": [
      "\r",
      "[############################            ] | 70% Completed | 17.1s"
     ]
    },
    {
     "name": "stdout",
     "output_type": "stream",
     "text": [
      "\r",
      "[############################            ] | 70% Completed | 17.5s"
     ]
    },
    {
     "name": "stdout",
     "output_type": "stream",
     "text": [
      "\r",
      "[############################            ] | 71% Completed | 18.2s"
     ]
    },
    {
     "name": "stdout",
     "output_type": "stream",
     "text": [
      "\r",
      "[############################            ] | 71% Completed | 18.4s"
     ]
    },
    {
     "name": "stdout",
     "output_type": "stream",
     "text": [
      "\r",
      "[############################            ] | 71% Completed | 18.5s"
     ]
    },
    {
     "name": "stdout",
     "output_type": "stream",
     "text": [
      "\r",
      "[############################            ] | 72% Completed | 18.6s"
     ]
    },
    {
     "name": "stdout",
     "output_type": "stream",
     "text": [
      "\r",
      "[############################            ] | 72% Completed | 18.8s"
     ]
    },
    {
     "name": "stdout",
     "output_type": "stream",
     "text": [
      "\r",
      "[############################            ] | 72% Completed | 19.1s"
     ]
    },
    {
     "name": "stdout",
     "output_type": "stream",
     "text": [
      "\r",
      "[#############################           ] | 72% Completed | 19.3s"
     ]
    },
    {
     "name": "stdout",
     "output_type": "stream",
     "text": [
      "\r",
      "[#############################           ] | 72% Completed | 19.9s"
     ]
    },
    {
     "name": "stdout",
     "output_type": "stream",
     "text": [
      "\r",
      "[#############################           ] | 73% Completed | 20.6s"
     ]
    },
    {
     "name": "stdout",
     "output_type": "stream",
     "text": [
      "\r",
      "[#############################           ] | 73% Completed | 20.9s"
     ]
    },
    {
     "name": "stdout",
     "output_type": "stream",
     "text": [
      "\r",
      "[#############################           ] | 73% Completed | 21.5s"
     ]
    },
    {
     "name": "stdout",
     "output_type": "stream",
     "text": [
      "\r",
      "[#############################           ] | 73% Completed | 22.4s"
     ]
    },
    {
     "name": "stdout",
     "output_type": "stream",
     "text": [
      "\r",
      "[#############################           ] | 73% Completed | 23.6s"
     ]
    },
    {
     "name": "stdout",
     "output_type": "stream",
     "text": [
      "\r",
      "[#############################           ] | 73% Completed | 23.9s"
     ]
    },
    {
     "name": "stdout",
     "output_type": "stream",
     "text": [
      "\r",
      "[#############################           ] | 73% Completed | 24.6s"
     ]
    },
    {
     "name": "stdout",
     "output_type": "stream",
     "text": [
      "\r",
      "[#############################           ] | 74% Completed | 25.5s"
     ]
    },
    {
     "name": "stdout",
     "output_type": "stream",
     "text": [
      "\r",
      "[#############################           ] | 74% Completed | 26.1s"
     ]
    },
    {
     "name": "stdout",
     "output_type": "stream",
     "text": [
      "\r",
      "[#############################           ] | 74% Completed | 26.8s"
     ]
    },
    {
     "name": "stdout",
     "output_type": "stream",
     "text": [
      "\r",
      "[#############################           ] | 74% Completed | 27.1s"
     ]
    },
    {
     "name": "stdout",
     "output_type": "stream",
     "text": [
      "\r",
      "[#############################           ] | 74% Completed | 27.9s"
     ]
    },
    {
     "name": "stdout",
     "output_type": "stream",
     "text": [
      "\r",
      "[#############################           ] | 74% Completed | 28.4s"
     ]
    },
    {
     "name": "stdout",
     "output_type": "stream",
     "text": [
      "\r",
      "[#############################           ] | 74% Completed | 29.0s"
     ]
    },
    {
     "name": "stdout",
     "output_type": "stream",
     "text": [
      "\r",
      "[#############################           ] | 74% Completed | 29.3s"
     ]
    }
   ],
   "source": [
    "with ProgressBar(): \n",
    "    terciles_category_percent = C3S.calculate_quantiles_probabilities(terciles_category, ncategories=3)"
   ]
  },
  {
   "cell_type": "markdown",
   "id": "4c4c8679-b8fa-407a-ab93-1c9545da384e",
   "metadata": {
    "papermill": {
     "duration": null,
     "end_time": null,
     "exception": null,
     "start_time": null,
     "status": "pending"
    },
    "tags": []
   },
   "source": [
    "### plots "
   ]
  },
  {
   "cell_type": "code",
   "execution_count": null,
   "id": "8f48e2d4-c570-43ee-9d6c-f40239769fcd",
   "metadata": {
    "execution": {
     "iopub.execute_input": "2021-10-27T03:36:09.294091Z",
     "iopub.status.busy": "2021-10-27T03:36:09.293738Z",
     "iopub.status.idle": "2021-10-27T03:36:09.644782Z",
     "shell.execute_reply": "2021-10-27T03:36:09.644502Z"
    },
    "papermill": {
     "duration": null,
     "end_time": null,
     "exception": null,
     "start_time": null,
     "status": "pending"
    },
    "tags": []
   },
   "outputs": [],
   "source": [
    "terciles_category_percent.isel(time=0, step=0)[varname_out].plot(col=quantile)"
   ]
  },
  {
   "cell_type": "code",
   "execution_count": null,
   "id": "f8f67583-647d-4412-bcdd-053360f2a785",
   "metadata": {
    "execution": {
     "iopub.execute_input": "2021-10-27T03:36:10.364614Z",
     "iopub.status.busy": "2021-10-27T03:36:10.364297Z",
     "iopub.status.idle": "2021-10-27T03:36:10.705421Z",
     "shell.execute_reply": "2021-10-27T03:36:10.705083Z"
    },
    "papermill": {
     "duration": null,
     "end_time": null,
     "exception": null,
     "start_time": null,
     "status": "pending"
    },
    "tags": []
   },
   "outputs": [],
   "source": [
    "terciles_category_percent.isel(time=-1, step=0)[varname_out].plot(col=quantile)"
   ]
  },
  {
   "cell_type": "markdown",
   "id": "24270dcf-fd4a-4844-a520-a3363e718fb1",
   "metadata": {
    "papermill": {
     "duration": null,
     "end_time": null,
     "exception": null,
     "start_time": null,
     "status": "pending"
    },
    "tags": []
   },
   "source": [
    "### most likely category "
   ]
  },
  {
   "cell_type": "code",
   "execution_count": null,
   "id": "b73849ad-a387-4045-8d31-66fe0ef8b9ed",
   "metadata": {
    "execution": {
     "iopub.execute_input": "2021-10-27T03:36:12.262976Z",
     "iopub.status.busy": "2021-10-27T03:36:12.262640Z",
     "iopub.status.idle": "2021-10-27T03:36:12.426026Z",
     "shell.execute_reply": "2021-10-27T03:36:12.425690Z"
    },
    "papermill": {
     "duration": null,
     "end_time": null,
     "exception": null,
     "start_time": null,
     "status": "pending"
    },
    "tags": []
   },
   "outputs": [],
   "source": [
    "terciles_category_percent.idxmax(dim=quantile)[varname_out].isel(time=0, step=0).plot(levels=[1,2,3,4])"
   ]
  },
  {
   "cell_type": "code",
   "execution_count": null,
   "id": "d3ae4dc6-f6b0-4355-8851-2d8904cba50c",
   "metadata": {
    "execution": {
     "iopub.execute_input": "2021-10-27T03:36:13.170945Z",
     "iopub.status.busy": "2021-10-27T03:36:13.170628Z",
     "iopub.status.idle": "2021-10-27T03:36:13.330445Z",
     "shell.execute_reply": "2021-10-27T03:36:13.330113Z"
    },
    "papermill": {
     "duration": null,
     "end_time": null,
     "exception": null,
     "start_time": null,
     "status": "pending"
    },
    "tags": []
   },
   "outputs": [],
   "source": [
    "terciles_category_percent.idxmax(dim=quantile)[varname_out].isel(time=-1, step=0).plot(levels=[1,2,3,4])"
   ]
  },
  {
   "cell_type": "code",
   "execution_count": null,
   "id": "f8c03564-488b-479e-b26b-3edf5f03e365",
   "metadata": {
    "execution": {
     "iopub.execute_input": "2021-10-27T03:36:14.123342Z",
     "iopub.status.busy": "2021-10-27T03:36:14.122951Z",
     "iopub.status.idle": "2021-10-27T03:36:14.136100Z",
     "shell.execute_reply": "2021-10-27T03:36:14.136363Z"
    },
    "papermill": {
     "duration": null,
     "end_time": null,
     "exception": null,
     "start_time": null,
     "status": "pending"
    },
    "tags": []
   },
   "outputs": [],
   "source": [
    "GCM"
   ]
  },
  {
   "cell_type": "code",
   "execution_count": null,
   "id": "25ed91c0-3fb9-48be-a1c2-5e2b59b554f3",
   "metadata": {
    "execution": {
     "iopub.execute_input": "2021-10-27T03:36:14.913189Z",
     "iopub.status.busy": "2021-10-27T03:36:14.912856Z",
     "iopub.status.idle": "2021-10-27T03:36:14.925793Z",
     "shell.execute_reply": "2021-10-27T03:36:14.925520Z"
    },
    "papermill": {
     "duration": null,
     "end_time": null,
     "exception": null,
     "start_time": null,
     "status": "pending"
    },
    "tags": []
   },
   "outputs": [],
   "source": [
    "period "
   ]
  },
  {
   "cell_type": "code",
   "execution_count": null,
   "id": "b417fbd2-c075-4691-a808-a4043f1046fa",
   "metadata": {
    "execution": {
     "iopub.execute_input": "2021-10-27T03:36:15.707371Z",
     "iopub.status.busy": "2021-10-27T03:36:15.706936Z",
     "iopub.status.idle": "2021-10-27T03:36:15.720455Z",
     "shell.execute_reply": "2021-10-27T03:36:15.720178Z"
    },
    "papermill": {
     "duration": null,
     "end_time": null,
     "exception": null,
     "start_time": null,
     "status": "pending"
    },
    "tags": []
   },
   "outputs": [],
   "source": [
    "quantile"
   ]
  },
  {
   "cell_type": "markdown",
   "id": "5166b5e5-494c-4121-9353-42af5ad36924",
   "metadata": {
    "papermill": {
     "duration": null,
     "end_time": null,
     "exception": null,
     "start_time": null,
     "status": "pending"
    },
    "tags": []
   },
   "source": [
    "### now saves the tercile probabilities for each year, for the corresponding month "
   ]
  },
  {
   "cell_type": "code",
   "execution_count": null,
   "id": "9007e8b9-22ca-4447-a72c-6466dd2185c1",
   "metadata": {
    "execution": {
     "iopub.execute_input": "2021-10-27T03:36:17.251547Z",
     "iopub.status.busy": "2021-10-27T03:36:17.251177Z",
     "iopub.status.idle": "2021-10-27T03:36:17.264194Z",
     "shell.execute_reply": "2021-10-27T03:36:17.263845Z"
    },
    "papermill": {
     "duration": null,
     "end_time": null,
     "exception": null,
     "start_time": null,
     "status": "pending"
    },
    "tags": []
   },
   "outputs": [],
   "source": [
    "opath_probs = gcm_path.joinpath(f\"{GCM}/{quantile}_probs/{varname.upper()}\")"
   ]
  },
  {
   "cell_type": "code",
   "execution_count": null,
   "id": "5ac7aedb-62f5-459b-8c05-3b29138701bf",
   "metadata": {
    "execution": {
     "iopub.execute_input": "2021-10-27T03:36:18.047644Z",
     "iopub.status.busy": "2021-10-27T03:36:18.047295Z",
     "iopub.status.idle": "2021-10-27T03:36:18.060322Z",
     "shell.execute_reply": "2021-10-27T03:36:18.059901Z"
    },
    "papermill": {
     "duration": null,
     "end_time": null,
     "exception": null,
     "start_time": null,
     "status": "pending"
    },
    "tags": []
   },
   "outputs": [],
   "source": [
    "if not opath_probs.exists(): \n",
    "    opath_probs.mkdir(parents=True)"
   ]
  },
  {
   "cell_type": "code",
   "execution_count": null,
   "id": "2b8dfc68-23e5-4e06-a0f7-317ed9f1d0d7",
   "metadata": {
    "execution": {
     "iopub.execute_input": "2021-10-27T03:36:18.854205Z",
     "iopub.status.busy": "2021-10-27T03:36:18.853802Z",
     "iopub.status.idle": "2021-10-27T03:36:21.814981Z",
     "shell.execute_reply": "2021-10-27T03:36:21.814674Z"
    },
    "papermill": {
     "duration": null,
     "end_time": null,
     "exception": null,
     "start_time": null,
     "status": "pending"
    },
    "tags": []
   },
   "outputs": [],
   "source": [
    "for date in terciles_category_percent.time.to_index(): \n",
    "    sub = terciles_category_percent.sel(time=date)\n",
    "    sub = sub.expand_dims({'time':[date]})\n",
    "    sub.to_netcdf(opath_probs.joinpath(f\"{GCM}_{quantile}s_probs_{date:%Y-%m}.netcdf\"))"
   ]
  },
  {
   "cell_type": "code",
   "execution_count": null,
   "id": "9a969e46-2234-4060-95ef-467767d0143d",
   "metadata": {
    "papermill": {
     "duration": null,
     "end_time": null,
     "exception": null,
     "start_time": null,
     "status": "pending"
    },
    "tags": []
   },
   "outputs": [],
   "source": []
  }
 ],
 "metadata": {
  "kernelspec": {
   "display_name": "Python 3",
   "language": "python",
   "name": "python3"
  },
  "language_info": {
   "codemirror_mode": {
    "name": "ipython",
    "version": 3
   },
   "file_extension": ".py",
   "mimetype": "text/x-python",
   "name": "python",
   "nbconvert_exporter": "python",
   "pygments_lexer": "ipython3",
   "version": "3.8.10"
  },
  "papermill": {
   "default_parameters": {},
   "duration": null,
   "end_time": null,
   "environment_variables": {},
   "exception": null,
   "input_path": "calculate_C3S_GCMs_hindcast_tercile_probabilities.ipynb",
   "output_path": "calculate_C3S_GCMs_hindcast_tercile_probabilities.ipynb",
   "parameters": {
    "GCM": "ECMWF",
    "month": 7,
    "period": "seasonal"
   },
   "start_time": "2021-10-27T03:36:25.370963",
   "version": "2.3.3"
  }
 },
 "nbformat": 4,
 "nbformat_minor": 5
}