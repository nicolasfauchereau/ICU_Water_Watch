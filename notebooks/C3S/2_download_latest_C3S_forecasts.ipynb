{
 "cells": [
  {
   "cell_type": "markdown",
   "id": "8fef1cd8",
   "metadata": {
    "papermill": {
     "duration": 0.007384,
     "end_time": "2022-06-10T02:59:14.217053",
     "exception": false,
     "start_time": "2022-06-10T02:59:14.209669",
     "status": "completed"
    },
    "tags": []
   },
   "source": [
    "### download the last month of the CDS raw forecasts "
   ]
  },
  {
   "cell_type": "code",
   "execution_count": 1,
   "id": "fdc31ade",
   "metadata": {
    "execution": {
     "iopub.execute_input": "2022-06-10T02:59:14.225552Z",
     "iopub.status.busy": "2022-06-10T02:59:14.225378Z",
     "iopub.status.idle": "2022-06-10T02:59:14.237171Z",
     "shell.execute_reply": "2022-06-10T02:59:14.236719Z"
    },
    "papermill": {
     "duration": 0.017434,
     "end_time": "2022-06-10T02:59:14.238298",
     "exception": false,
     "start_time": "2022-06-10T02:59:14.220864",
     "status": "completed"
    },
    "tags": []
   },
   "outputs": [],
   "source": [
    "%load_ext autoreload\n",
    "%autoreload 2"
   ]
  },
  {
   "cell_type": "code",
   "execution_count": 2,
   "id": "b8ad2473",
   "metadata": {
    "execution": {
     "iopub.execute_input": "2022-06-10T02:59:14.246507Z",
     "iopub.status.busy": "2022-06-10T02:59:14.246385Z",
     "iopub.status.idle": "2022-06-10T02:59:15.468086Z",
     "shell.execute_reply": "2022-06-10T02:59:15.466372Z"
    },
    "papermill": {
     "duration": 1.229692,
     "end_time": "2022-06-10T02:59:15.471750",
     "exception": false,
     "start_time": "2022-06-10T02:59:14.242058",
     "status": "completed"
    },
    "tags": []
   },
   "outputs": [],
   "source": [
    "import sys\n",
    "from subprocess import call \n",
    "from shutil import which \n",
    "import pathlib\n",
    "from datetime import datetime\n",
    "from dateutil.relativedelta import relativedelta\n",
    "import dateparser\n",
    "import yaml\n",
    "from yaml.loader import SafeLoader\n",
    "\n",
    "import numpy as np\n",
    "import pandas as pd\n",
    "import xarray as xr"
   ]
  },
  {
   "cell_type": "code",
   "execution_count": 3,
   "id": "b785b7e6",
   "metadata": {
    "execution": {
     "iopub.execute_input": "2022-06-10T02:59:15.487688Z",
     "iopub.status.busy": "2022-06-10T02:59:15.487464Z",
     "iopub.status.idle": "2022-06-10T02:59:15.508203Z",
     "shell.execute_reply": "2022-06-10T02:59:15.507753Z"
    },
    "papermill": {
     "duration": 0.029315,
     "end_time": "2022-06-10T02:59:15.509323",
     "exception": false,
     "start_time": "2022-06-10T02:59:15.480008",
     "status": "completed"
    },
    "tags": []
   },
   "outputs": [],
   "source": [
    "from dask import delayed, compute\n",
    "from dask.diagnostics import ProgressBar"
   ]
  },
  {
   "cell_type": "code",
   "execution_count": 4,
   "id": "ee18db36",
   "metadata": {
    "execution": {
     "iopub.execute_input": "2022-06-10T02:59:15.517246Z",
     "iopub.status.busy": "2022-06-10T02:59:15.517130Z",
     "iopub.status.idle": "2022-06-10T02:59:15.530260Z",
     "shell.execute_reply": "2022-06-10T02:59:15.529947Z"
    },
    "papermill": {
     "duration": 0.018191,
     "end_time": "2022-06-10T02:59:15.531325",
     "exception": false,
     "start_time": "2022-06-10T02:59:15.513134",
     "status": "completed"
    },
    "tags": []
   },
   "outputs": [],
   "source": [
    "HOME = pathlib.Path.home()"
   ]
  },
  {
   "cell_type": "code",
   "execution_count": 5,
   "id": "7f9ab906",
   "metadata": {
    "execution": {
     "iopub.execute_input": "2022-06-10T02:59:15.539008Z",
     "iopub.status.busy": "2022-06-10T02:59:15.538892Z",
     "iopub.status.idle": "2022-06-10T02:59:15.552497Z",
     "shell.execute_reply": "2022-06-10T02:59:15.552009Z"
    },
    "papermill": {
     "duration": 0.018602,
     "end_time": "2022-06-10T02:59:15.553511",
     "exception": false,
     "start_time": "2022-06-10T02:59:15.534909",
     "status": "completed"
    },
    "tags": []
   },
   "outputs": [],
   "source": [
    "CWD = pathlib.Path.cwd()"
   ]
  },
  {
   "cell_type": "code",
   "execution_count": 6,
   "id": "84fce21b",
   "metadata": {
    "execution": {
     "iopub.execute_input": "2022-06-10T02:59:15.561341Z",
     "iopub.status.busy": "2022-06-10T02:59:15.561221Z",
     "iopub.status.idle": "2022-06-10T02:59:15.578339Z",
     "shell.execute_reply": "2022-06-10T02:59:15.577956Z"
    },
    "papermill": {
     "duration": 0.022185,
     "end_time": "2022-06-10T02:59:15.579336",
     "exception": false,
     "start_time": "2022-06-10T02:59:15.557151",
     "status": "completed"
    },
    "tags": []
   },
   "outputs": [
    {
     "data": {
      "text/plain": [
       "PosixPath('/home/nicolasf/operational/ICU/development/hotspots/code/ICU_Water_Watch/notebooks/C3S')"
      ]
     },
     "execution_count": 6,
     "metadata": {},
     "output_type": "execute_result"
    }
   ],
   "source": [
    "CWD"
   ]
  },
  {
   "cell_type": "markdown",
   "id": "7fbe5595",
   "metadata": {
    "papermill": {
     "duration": 0.003999,
     "end_time": "2022-06-10T02:59:15.587086",
     "exception": false,
     "start_time": "2022-06-10T02:59:15.583087",
     "status": "completed"
    },
    "tags": []
   },
   "source": [
    "### import local functions for the downloading of the C3S forecasts "
   ]
  },
  {
   "cell_type": "code",
   "execution_count": 7,
   "id": "b68d548d",
   "metadata": {
    "execution": {
     "iopub.execute_input": "2022-06-10T02:59:15.594846Z",
     "iopub.status.busy": "2022-06-10T02:59:15.594717Z",
     "iopub.status.idle": "2022-06-10T02:59:15.607960Z",
     "shell.execute_reply": "2022-06-10T02:59:15.607521Z"
    },
    "papermill": {
     "duration": 0.018529,
     "end_time": "2022-06-10T02:59:15.609116",
     "exception": false,
     "start_time": "2022-06-10T02:59:15.590587",
     "status": "completed"
    },
    "tags": []
   },
   "outputs": [],
   "source": [
    "sys.path.append('../..')"
   ]
  },
  {
   "cell_type": "code",
   "execution_count": 8,
   "id": "250d6e10",
   "metadata": {
    "execution": {
     "iopub.execute_input": "2022-06-10T02:59:15.617099Z",
     "iopub.status.busy": "2022-06-10T02:59:15.616979Z",
     "iopub.status.idle": "2022-06-10T02:59:27.775091Z",
     "shell.execute_reply": "2022-06-10T02:59:27.774595Z"
    },
    "papermill": {
     "duration": 12.163441,
     "end_time": "2022-06-10T02:59:27.776311",
     "exception": false,
     "start_time": "2022-06-10T02:59:15.612870",
     "status": "completed"
    },
    "tags": []
   },
   "outputs": [],
   "source": [
    "from ICU_Water_Watch import C3S, domains"
   ]
  },
  {
   "cell_type": "markdown",
   "id": "3fdcbf6c",
   "metadata": {
    "papermill": {
     "duration": 0.003507,
     "end_time": "2022-06-10T02:59:27.783649",
     "exception": false,
     "start_time": "2022-06-10T02:59:27.780142",
     "status": "completed"
    },
    "tags": []
   },
   "source": [
    "### parameters for papermill"
   ]
  },
  {
   "cell_type": "code",
   "execution_count": 9,
   "id": "b4c1b04b",
   "metadata": {
    "execution": {
     "iopub.execute_input": "2022-06-10T02:59:27.791529Z",
     "iopub.status.busy": "2022-06-10T02:59:27.791395Z",
     "iopub.status.idle": "2022-06-10T02:59:27.810161Z",
     "shell.execute_reply": "2022-06-10T02:59:27.809719Z"
    },
    "papermill": {
     "duration": 0.02402,
     "end_time": "2022-06-10T02:59:27.811188",
     "exception": false,
     "start_time": "2022-06-10T02:59:27.787168",
     "status": "completed"
    },
    "tags": [
     "parameters"
    ]
   },
   "outputs": [],
   "source": [
    "provider = 'CDS' # should not change\n",
    "varname = 'tprate' # should not change\n",
    "domain_name = \"C3S_download\" # domain name, see below \n",
    "# if one wants to download other forecasts than the ones corresponding to the current month\n",
    "lag = 0\n",
    "# path where to save the hindcasts / reforecasts\n",
    "gcm_path = f'/media/nicolasf/END19101/ICU/data/{provider}/operational/forecasts'\n",
    "config_yaml = './CDS_config.yaml' "
   ]
  },
  {
   "cell_type": "markdown",
   "id": "c619364f",
   "metadata": {
    "papermill": {
     "duration": 0.003621,
     "end_time": "2022-06-10T02:59:27.845629",
     "exception": false,
     "start_time": "2022-06-10T02:59:27.842008",
     "status": "completed"
    },
    "tags": []
   },
   "source": [
    "### reads the yaml file, mapping GCM to system "
   ]
  },
  {
   "cell_type": "markdown",
   "id": "28e77382",
   "metadata": {
    "papermill": {
     "duration": 0.003468,
     "end_time": "2022-06-10T02:59:27.852629",
     "exception": false,
     "start_time": "2022-06-10T02:59:27.849161",
     "status": "completed"
    },
    "tags": []
   },
   "source": [
    "Note that the forecast system to system number mapping is available at: \n",
    "    \n",
    "- [https://confluence.ecmwf.int/display/CKB/Description+of+the+C3S+seasonal+multi-system](https://confluence.ecmwf.int/display/CKB/Description+of+the+C3S+seasonal+multi-system)"
   ]
  },
  {
   "cell_type": "markdown",
   "id": "086eb4a6",
   "metadata": {
    "papermill": {
     "duration": 0.003443,
     "end_time": "2022-06-10T02:59:27.859515",
     "exception": false,
     "start_time": "2022-06-10T02:59:27.856072",
     "status": "completed"
    },
    "tags": []
   },
   "source": [
    "#### it can be read directly into pandas "
   ]
  },
  {
   "cell_type": "code",
   "execution_count": 11,
   "id": "5a25f704",
   "metadata": {
    "execution": {
     "iopub.execute_input": "2022-06-10T02:59:27.867623Z",
     "iopub.status.busy": "2022-06-10T02:59:27.867315Z",
     "iopub.status.idle": "2022-06-10T02:59:27.884808Z",
     "shell.execute_reply": "2022-06-10T02:59:27.884374Z"
    },
    "papermill": {
     "duration": 0.022717,
     "end_time": "2022-06-10T02:59:27.885826",
     "exception": false,
     "start_time": "2022-06-10T02:59:27.863109",
     "status": "completed"
    },
    "tags": []
   },
   "outputs": [],
   "source": [
    "url = 'https://confluence.ecmwf.int/display/CKB/Description+of+the+C3S+seasonal+multi-system'"
   ]
  },
  {
   "cell_type": "code",
   "execution_count": 12,
   "id": "8ec15ab8",
   "metadata": {
    "execution": {
     "iopub.execute_input": "2022-06-10T02:59:27.894426Z",
     "iopub.status.busy": "2022-06-10T02:59:27.894298Z",
     "iopub.status.idle": "2022-06-10T02:59:31.225132Z",
     "shell.execute_reply": "2022-06-10T02:59:31.224361Z"
    },
    "papermill": {
     "duration": 3.337253,
     "end_time": "2022-06-10T02:59:31.227213",
     "exception": false,
     "start_time": "2022-06-10T02:59:27.889960",
     "status": "completed"
    },
    "tags": []
   },
   "outputs": [],
   "source": [
    "systems_table = pd.read_html(url)"
   ]
  },
  {
   "cell_type": "code",
   "execution_count": 13,
   "id": "f8b05ad1",
   "metadata": {
    "execution": {
     "iopub.execute_input": "2022-06-10T02:59:31.236764Z",
     "iopub.status.busy": "2022-06-10T02:59:31.236637Z",
     "iopub.status.idle": "2022-06-10T02:59:31.254089Z",
     "shell.execute_reply": "2022-06-10T02:59:31.253659Z"
    },
    "papermill": {
     "duration": 0.022728,
     "end_time": "2022-06-10T02:59:31.255130",
     "exception": false,
     "start_time": "2022-06-10T02:59:31.232402",
     "status": "completed"
    },
    "tags": []
   },
   "outputs": [],
   "source": [
    "systems_table = systems_table[1]"
   ]
  },
  {
   "cell_type": "code",
   "execution_count": 14,
   "id": "d990b485",
   "metadata": {
    "execution": {
     "iopub.execute_input": "2022-06-10T02:59:31.263186Z",
     "iopub.status.busy": "2022-06-10T02:59:31.263068Z",
     "iopub.status.idle": "2022-06-10T02:59:31.284726Z",
     "shell.execute_reply": "2022-06-10T02:59:31.284291Z"
    },
    "papermill": {
     "duration": 0.026787,
     "end_time": "2022-06-10T02:59:31.285739",
     "exception": false,
     "start_time": "2022-06-10T02:59:31.258952",
     "status": "completed"
    },
    "tags": []
   },
   "outputs": [
    {
     "data": {
      "text/html": [
       "<div>\n",
       "<style scoped>\n",
       "    .dataframe tbody tr th:only-of-type {\n",
       "        vertical-align: middle;\n",
       "    }\n",
       "\n",
       "    .dataframe tbody tr th {\n",
       "        vertical-align: top;\n",
       "    }\n",
       "\n",
       "    .dataframe thead th {\n",
       "        text-align: right;\n",
       "    }\n",
       "</style>\n",
       "<table border=\"1\" class=\"dataframe\">\n",
       "  <thead>\n",
       "    <tr style=\"text-align: right;\">\n",
       "      <th></th>\n",
       "      <th>Forecasting centre</th>\n",
       "      <th>Forecasting system name</th>\n",
       "      <th>CDS 'system' value</th>\n",
       "    </tr>\n",
       "  </thead>\n",
       "  <tbody>\n",
       "    <tr>\n",
       "      <th>0</th>\n",
       "      <td>ECMWF</td>\n",
       "      <td>System 4</td>\n",
       "      <td>4</td>\n",
       "    </tr>\n",
       "    <tr>\n",
       "      <th>1</th>\n",
       "      <td>ECMWF</td>\n",
       "      <td>SEAS5</td>\n",
       "      <td>5</td>\n",
       "    </tr>\n",
       "    <tr>\n",
       "      <th>2</th>\n",
       "      <td>Météo-France</td>\n",
       "      <td>System 5</td>\n",
       "      <td>5</td>\n",
       "    </tr>\n",
       "    <tr>\n",
       "      <th>3</th>\n",
       "      <td>Météo-France</td>\n",
       "      <td>System 6</td>\n",
       "      <td>6</td>\n",
       "    </tr>\n",
       "    <tr>\n",
       "      <th>4</th>\n",
       "      <td>Météo-France</td>\n",
       "      <td>System 7</td>\n",
       "      <td>7</td>\n",
       "    </tr>\n",
       "    <tr>\n",
       "      <th>5</th>\n",
       "      <td>Météo-France</td>\n",
       "      <td>System 8</td>\n",
       "      <td>8</td>\n",
       "    </tr>\n",
       "    <tr>\n",
       "      <th>6</th>\n",
       "      <td>CMCC</td>\n",
       "      <td>SPS3</td>\n",
       "      <td>3</td>\n",
       "    </tr>\n",
       "    <tr>\n",
       "      <th>7</th>\n",
       "      <td>CMCC</td>\n",
       "      <td>SPS3.5</td>\n",
       "      <td>35</td>\n",
       "    </tr>\n",
       "    <tr>\n",
       "      <th>8</th>\n",
       "      <td>DWD</td>\n",
       "      <td>GCFS2.0</td>\n",
       "      <td>2</td>\n",
       "    </tr>\n",
       "    <tr>\n",
       "      <th>9</th>\n",
       "      <td>DWD</td>\n",
       "      <td>GCFS2.1</td>\n",
       "      <td>21</td>\n",
       "    </tr>\n",
       "    <tr>\n",
       "      <th>10</th>\n",
       "      <td>NCEP</td>\n",
       "      <td>CFSv2</td>\n",
       "      <td>2</td>\n",
       "    </tr>\n",
       "    <tr>\n",
       "      <th>11</th>\n",
       "      <td>JMA</td>\n",
       "      <td>CPS2</td>\n",
       "      <td>2</td>\n",
       "    </tr>\n",
       "    <tr>\n",
       "      <th>12</th>\n",
       "      <td>JMA</td>\n",
       "      <td>CPS3</td>\n",
       "      <td>3</td>\n",
       "    </tr>\n",
       "    <tr>\n",
       "      <th>13</th>\n",
       "      <td>ECCC</td>\n",
       "      <td>GEM-NEMO</td>\n",
       "      <td>1</td>\n",
       "    </tr>\n",
       "    <tr>\n",
       "      <th>14</th>\n",
       "      <td>ECCC</td>\n",
       "      <td>CanCM4i</td>\n",
       "      <td>2</td>\n",
       "    </tr>\n",
       "    <tr>\n",
       "      <th>15</th>\n",
       "      <td>ECCC</td>\n",
       "      <td>GEM5-NEMO</td>\n",
       "      <td>3</td>\n",
       "    </tr>\n",
       "  </tbody>\n",
       "</table>\n",
       "</div>"
      ],
      "text/plain": [
       "   Forecasting centre Forecasting system name  CDS 'system' value\n",
       "0               ECMWF                System 4                   4\n",
       "1               ECMWF                   SEAS5                   5\n",
       "2        Météo-France                System 5                   5\n",
       "3        Météo-France                System 6                   6\n",
       "4        Météo-France                System 7                   7\n",
       "5        Météo-France                System 8                   8\n",
       "6                CMCC                    SPS3                   3\n",
       "7                CMCC                  SPS3.5                  35\n",
       "8                 DWD                 GCFS2.0                   2\n",
       "9                 DWD                 GCFS2.1                  21\n",
       "10               NCEP                   CFSv2                   2\n",
       "11                JMA                    CPS2                   2\n",
       "12                JMA                    CPS3                   3\n",
       "13               ECCC                GEM-NEMO                   1\n",
       "14               ECCC                 CanCM4i                   2\n",
       "15               ECCC               GEM5-NEMO                   3"
      ]
     },
     "execution_count": 14,
     "metadata": {},
     "output_type": "execute_result"
    }
   ],
   "source": [
    "systems_table"
   ]
  },
  {
   "cell_type": "code",
   "execution_count": 15,
   "id": "8504acc5",
   "metadata": {
    "execution": {
     "iopub.execute_input": "2022-06-10T02:59:31.294195Z",
     "iopub.status.busy": "2022-06-10T02:59:31.294072Z",
     "iopub.status.idle": "2022-06-10T02:59:31.312564Z",
     "shell.execute_reply": "2022-06-10T02:59:31.312083Z"
    },
    "papermill": {
     "duration": 0.023956,
     "end_time": "2022-06-10T02:59:31.313616",
     "exception": false,
     "start_time": "2022-06-10T02:59:31.289660",
     "status": "completed"
    },
    "tags": []
   },
   "outputs": [],
   "source": [
    "# Open the file and load the file\n",
    "with open(config_yaml) as f:\n",
    "    dict_systems = yaml.load(f, Loader=SafeLoader)"
   ]
  },
  {
   "cell_type": "code",
   "execution_count": 16,
   "id": "cc000348",
   "metadata": {
    "execution": {
     "iopub.execute_input": "2022-06-10T02:59:31.322278Z",
     "iopub.status.busy": "2022-06-10T02:59:31.322150Z",
     "iopub.status.idle": "2022-06-10T02:59:31.340450Z",
     "shell.execute_reply": "2022-06-10T02:59:31.339991Z"
    },
    "papermill": {
     "duration": 0.023752,
     "end_time": "2022-06-10T02:59:31.341393",
     "exception": false,
     "start_time": "2022-06-10T02:59:31.317641",
     "status": "completed"
    },
    "tags": []
   },
   "outputs": [
    {
     "data": {
      "text/plain": [
       "{'ECMWF': 5,\n",
       " 'UKMO': 601,\n",
       " 'METEO_FRANCE': 8,\n",
       " 'DWD': 21,\n",
       " 'CMCC': 35,\n",
       " 'NCEP': 2,\n",
       " 'JMA': 3,\n",
       " 'ECCC_CanCM4i': 2,\n",
       " 'ECCC_GEM5_NEMO': 3}"
      ]
     },
     "execution_count": 16,
     "metadata": {},
     "output_type": "execute_result"
    }
   ],
   "source": [
    "dict_systems"
   ]
  },
  {
   "cell_type": "markdown",
   "id": "d8b74b89",
   "metadata": {
    "papermill": {
     "duration": 0.003732,
     "end_time": "2022-06-10T02:59:31.349103",
     "exception": false,
     "start_time": "2022-06-10T02:59:31.345371",
     "status": "completed"
    },
    "tags": []
   },
   "source": [
    "### casts the paths to `pathlib.Path` objects "
   ]
  },
  {
   "cell_type": "code",
   "execution_count": 17,
   "id": "17a9d49b",
   "metadata": {
    "execution": {
     "iopub.execute_input": "2022-06-10T02:59:31.357254Z",
     "iopub.status.busy": "2022-06-10T02:59:31.357131Z",
     "iopub.status.idle": "2022-06-10T02:59:31.374672Z",
     "shell.execute_reply": "2022-06-10T02:59:31.374240Z"
    },
    "papermill": {
     "duration": 0.023053,
     "end_time": "2022-06-10T02:59:31.375850",
     "exception": false,
     "start_time": "2022-06-10T02:59:31.352797",
     "status": "completed"
    },
    "tags": []
   },
   "outputs": [],
   "source": [
    "gcm_path = pathlib.Path(gcm_path)"
   ]
  },
  {
   "cell_type": "code",
   "execution_count": 18,
   "id": "b1295855",
   "metadata": {
    "execution": {
     "iopub.execute_input": "2022-06-10T02:59:31.384408Z",
     "iopub.status.busy": "2022-06-10T02:59:31.384266Z",
     "iopub.status.idle": "2022-06-10T02:59:31.401988Z",
     "shell.execute_reply": "2022-06-10T02:59:31.401546Z"
    },
    "papermill": {
     "duration": 0.02334,
     "end_time": "2022-06-10T02:59:31.403113",
     "exception": false,
     "start_time": "2022-06-10T02:59:31.379773",
     "status": "completed"
    },
    "tags": []
   },
   "outputs": [],
   "source": [
    "if not(gcm_path.exists()): \n",
    "    gcm_path.mkdir(parents=True)"
   ]
  },
  {
   "cell_type": "markdown",
   "id": "17348fe1",
   "metadata": {
    "papermill": {
     "duration": 0.003891,
     "end_time": "2022-06-10T02:59:31.410916",
     "exception": false,
     "start_time": "2022-06-10T02:59:31.407025",
     "status": "completed"
    },
    "tags": []
   },
   "source": [
    "### get today's date "
   ]
  },
  {
   "cell_type": "code",
   "execution_count": 19,
   "id": "f901371d",
   "metadata": {
    "execution": {
     "iopub.execute_input": "2022-06-10T02:59:31.419204Z",
     "iopub.status.busy": "2022-06-10T02:59:31.419080Z",
     "iopub.status.idle": "2022-06-10T02:59:31.461836Z",
     "shell.execute_reply": "2022-06-10T02:59:31.461390Z"
    },
    "papermill": {
     "duration": 0.048245,
     "end_time": "2022-06-10T02:59:31.462917",
     "exception": false,
     "start_time": "2022-06-10T02:59:31.414672",
     "status": "completed"
    },
    "tags": []
   },
   "outputs": [],
   "source": [
    "date = dateparser.parse('today')"
   ]
  },
  {
   "cell_type": "code",
   "execution_count": 20,
   "id": "8baeafab",
   "metadata": {
    "execution": {
     "iopub.execute_input": "2022-06-10T02:59:31.471696Z",
     "iopub.status.busy": "2022-06-10T02:59:31.471565Z",
     "iopub.status.idle": "2022-06-10T02:59:31.489924Z",
     "shell.execute_reply": "2022-06-10T02:59:31.489521Z"
    },
    "papermill": {
     "duration": 0.024074,
     "end_time": "2022-06-10T02:59:31.491029",
     "exception": false,
     "start_time": "2022-06-10T02:59:31.466955",
     "status": "completed"
    },
    "tags": []
   },
   "outputs": [
    {
     "data": {
      "text/plain": [
       "datetime.datetime(2022, 6, 10, 14, 59, 31, 458818)"
      ]
     },
     "execution_count": 20,
     "metadata": {},
     "output_type": "execute_result"
    }
   ],
   "source": [
    "date"
   ]
  },
  {
   "cell_type": "markdown",
   "id": "49a1f490",
   "metadata": {
    "papermill": {
     "duration": 0.003797,
     "end_time": "2022-06-10T02:59:31.498853",
     "exception": false,
     "start_time": "2022-06-10T02:59:31.495056",
     "status": "completed"
    },
    "tags": []
   },
   "source": [
    "### apply lag "
   ]
  },
  {
   "cell_type": "code",
   "execution_count": 21,
   "id": "f7ccea72",
   "metadata": {
    "execution": {
     "iopub.execute_input": "2022-06-10T02:59:31.507127Z",
     "iopub.status.busy": "2022-06-10T02:59:31.507007Z",
     "iopub.status.idle": "2022-06-10T02:59:31.524612Z",
     "shell.execute_reply": "2022-06-10T02:59:31.524186Z"
    },
    "papermill": {
     "duration": 0.023089,
     "end_time": "2022-06-10T02:59:31.525698",
     "exception": false,
     "start_time": "2022-06-10T02:59:31.502609",
     "status": "completed"
    },
    "tags": []
   },
   "outputs": [],
   "source": [
    "date = date - relativedelta(months=lag)"
   ]
  },
  {
   "cell_type": "code",
   "execution_count": 22,
   "id": "f29b8889",
   "metadata": {
    "execution": {
     "iopub.execute_input": "2022-06-10T02:59:31.534098Z",
     "iopub.status.busy": "2022-06-10T02:59:31.533979Z",
     "iopub.status.idle": "2022-06-10T02:59:31.552037Z",
     "shell.execute_reply": "2022-06-10T02:59:31.551558Z"
    },
    "papermill": {
     "duration": 0.023556,
     "end_time": "2022-06-10T02:59:31.553127",
     "exception": false,
     "start_time": "2022-06-10T02:59:31.529571",
     "status": "completed"
    },
    "tags": []
   },
   "outputs": [
    {
     "name": "stdout",
     "output_type": "stream",
     "text": [
      "will download the forecasts issued in June 2018\n"
     ]
    }
   ],
   "source": [
    "print(f\"will download the forecasts issued in {date:%B %Y}\")"
   ]
  },
  {
   "cell_type": "markdown",
   "id": "840945b6",
   "metadata": {
    "papermill": {
     "duration": 0.004404,
     "end_time": "2022-06-10T02:59:31.561613",
     "exception": false,
     "start_time": "2022-06-10T02:59:31.557209",
     "status": "completed"
    },
    "tags": []
   },
   "source": [
    "### use dask to parallelize the download of the forecasts "
   ]
  },
  {
   "cell_type": "markdown",
   "id": "a67d06d3",
   "metadata": {
    "papermill": {
     "duration": 0.004191,
     "end_time": "2022-06-10T02:59:31.570141",
     "exception": false,
     "start_time": "2022-06-10T02:59:31.565950",
     "status": "completed"
    },
    "tags": []
   },
   "source": [
    "#### build the queue"
   ]
  },
  {
   "cell_type": "code",
   "execution_count": 23,
   "id": "2a94725f",
   "metadata": {
    "execution": {
     "iopub.execute_input": "2022-06-10T02:59:31.579341Z",
     "iopub.status.busy": "2022-06-10T02:59:31.579202Z",
     "iopub.status.idle": "2022-06-10T02:59:31.601450Z",
     "shell.execute_reply": "2022-06-10T02:59:31.601076Z"
    },
    "papermill": {
     "duration": 0.02833,
     "end_time": "2022-06-10T02:59:31.602439",
     "exception": false,
     "start_time": "2022-06-10T02:59:31.574109",
     "status": "completed"
    },
    "tags": []
   },
   "outputs": [
    {
     "name": "stdout",
     "output_type": "stream",
     "text": [
      "processing ECCC, path should be /media/nicolasf/END19101/ICU/data/CDS/operational/forecasts/ECCC_CanCM4i/TPRATE\n",
      "processing ECCC, path should be /media/nicolasf/END19101/ICU/data/CDS/operational/forecasts/ECCC_GEM5_NEMO/TPRATE\n"
     ]
    }
   ],
   "source": [
    "downloaded_files = []\n",
    "\n",
    "for GCM in dict_systems.keys():\n",
    "\n",
    "    if 'ECCC' in GCM:\n",
    "        \n",
    "        GCM_API_name = GCM.split('_')[0]\n",
    "        \n",
    "        GCM_path = gcm_path.joinpath(GCM).joinpath(varname.upper())\n",
    "        \n",
    "        print(f\"processing ECCC, path should be {str(GCM_path)}\")\n",
    "    \n",
    "        args = dict(GCM=GCM_API_name,\n",
    "        system=dict_systems[GCM], \n",
    "        varname=varname,\n",
    "        year=date.year,\n",
    "        month=date.month,\n",
    "        leadtimes=[1, 2, 3, 4, 5, 6],\n",
    "        opath=GCM_path,\n",
    "        domain=domains.domains[domain_name],\n",
    "        file_format='netcdf',\n",
    "        level='surface',\n",
    "        max_retry=3)\n",
    "    \n",
    "    else: \n",
    "        \n",
    "        args = dict(GCM=GCM,\n",
    "        system=dict_systems[GCM], \n",
    "        varname=varname,\n",
    "        year=date.year,\n",
    "        month=date.month,\n",
    "        leadtimes=[1, 2, 3, 4, 5, 6],\n",
    "        opath=gcm_path.joinpath(GCM).joinpath(varname.upper()),\n",
    "        domain=domains.domains[domain_name],\n",
    "        file_format='netcdf',\n",
    "        level='surface',\n",
    "        max_retry=3)    \n",
    "    \n",
    "    downloaded_files.append(delayed(C3S.download)(**args))\n"
   ]
  },
  {
   "cell_type": "markdown",
   "id": "49b3c7f8",
   "metadata": {
    "papermill": {
     "duration": 0.004035,
     "end_time": "2022-06-10T02:59:31.610499",
     "exception": false,
     "start_time": "2022-06-10T02:59:31.606464",
     "status": "completed"
    },
    "tags": []
   },
   "source": [
    "#### now compute "
   ]
  },
  {
   "cell_type": "code",
   "execution_count": 24,
   "id": "200f97c7",
   "metadata": {
    "execution": {
     "iopub.execute_input": "2022-06-10T02:59:31.619182Z",
     "iopub.status.busy": "2022-06-10T02:59:31.619046Z",
     "iopub.status.idle": "2022-06-10T03:02:48.881690Z",
     "shell.execute_reply": "2022-06-10T03:02:48.879266Z"
    },
    "papermill": {
     "duration": 197.272165,
     "end_time": "2022-06-10T03:02:48.886538",
     "exception": false,
     "start_time": "2022-06-10T02:59:31.614373",
     "status": "completed"
    },
    "tags": []
   },
   "outputs": [
    {
     "name": "stdout",
     "output_type": "stream",
     "text": [
      "[                                        ] | 0% Completed |  0.0s\n",
      "attempting to download tprate for GCM ECCC, for level surface, year 2018, month 6, in netcdf, attempt 1 of 3\n",
      "\n",
      "\n",
      "attempting to download tprate for GCM JMA, for level surface, year 2018, month 6, in netcdf, attempt 1 of 3\n",
      "\n",
      "\n",
      "attempting to download tprate for GCM ECMWF, for level surface, year 2018, month 6, in netcdf, attempt 1 of 3\n",
      "\n",
      "\n",
      "attempting to download tprate for GCM ECCC, for level surface, year 2018, month 6, in netcdf, attempt 1 of 3\n",
      "\n",
      "\n",
      "attempting to download tprate for GCM UKMO, for level surface, year 2018, month 6, in netcdf, attempt 1 of 3\n",
      "\n",
      "\n",
      "attempting to download tprate for GCM DWD, for level surface, year 2018, month 6, in netcdf, attempt 1 of 3\n",
      "\n",
      "\n",
      "attempting to download tprate for GCM CMCC, for level surface, year 2018, month 6, in netcdf, attempt 1 of 3\n",
      "\n",
      "\n",
      "attempting to download tprate for GCM METEO_FRANCE, for level surface, year 2018, month 6, in netcdf, attempt 1 of 3\n",
      "\n",
      "\n",
      "attempting to download tprate for GCM NCEP, for level surface, year 2018, month 6, in netcdf, attempt 1 of 3\n",
      "\n",
      "[                                        ] | 0% Completed |  2.4s"
     ]
    },
    {
     "name": "stderr",
     "output_type": "stream",
     "text": [
      "2022-06-10 14:59:34,129 INFO Welcome to the CDS\n",
      "2022-06-10 14:59:34,130 INFO Welcome to the CDS\n",
      "2022-06-10 14:59:34,134 INFO Welcome to the CDS\n",
      "2022-06-10 14:59:34,136 INFO Welcome to the CDS\n",
      "2022-06-10 14:59:34,138 INFO Welcome to the CDS\n",
      "2022-06-10 14:59:34,139 INFO Welcome to the CDS\n",
      "2022-06-10 14:59:34,141 INFO Welcome to the CDS\n",
      "2022-06-10 14:59:34,142 INFO Welcome to the CDS\n",
      "2022-06-10 14:59:34,142 INFO Sending request to https://cds.climate.copernicus.eu/api/v2/resources/seasonal-monthly-single-levels\n",
      "2022-06-10 14:59:34,143 INFO Welcome to the CDS\n",
      "2022-06-10 14:59:34,145 INFO Sending request to https://cds.climate.copernicus.eu/api/v2/resources/seasonal-monthly-single-levels\n",
      "2022-06-10 14:59:34,147 INFO Sending request to https://cds.climate.copernicus.eu/api/v2/resources/seasonal-monthly-single-levels\n"
     ]
    },
    {
     "name": "stdout",
     "output_type": "stream",
     "text": [
      "[                                        ] | 0% Completed |  2.5s"
     ]
    },
    {
     "name": "stderr",
     "output_type": "stream",
     "text": [
      "2022-06-10 14:59:34,149 INFO Sending request to https://cds.climate.copernicus.eu/api/v2/resources/seasonal-monthly-single-levels\n",
      "2022-06-10 14:59:34,151 INFO Sending request to https://cds.climate.copernicus.eu/api/v2/resources/seasonal-monthly-single-levels\n",
      "2022-06-10 14:59:34,153 INFO Sending request to https://cds.climate.copernicus.eu/api/v2/resources/seasonal-monthly-single-levels\n",
      "2022-06-10 14:59:34,155 INFO Sending request to https://cds.climate.copernicus.eu/api/v2/resources/seasonal-monthly-single-levels\n",
      "2022-06-10 14:59:34,157 INFO Sending request to https://cds.climate.copernicus.eu/api/v2/resources/seasonal-monthly-single-levels\n",
      "2022-06-10 14:59:34,163 INFO Sending request to https://cds.climate.copernicus.eu/api/v2/resources/seasonal-monthly-single-levels\n"
     ]
    },
    {
     "name": "stdout",
     "output_type": "stream",
     "text": [
      "[                                        ] | 0% Completed |  2.8s"
     ]
    },
    {
     "name": "stderr",
     "output_type": "stream",
     "text": [
      "2022-06-10 14:59:34,538 INFO Request is queued\n",
      "2022-06-10 14:59:34,539 INFO Request is queued\n",
      "2022-06-10 14:59:34,541 INFO Request is queued\n",
      "2022-06-10 14:59:34,542 INFO Request is queued\n",
      "2022-06-10 14:59:34,544 INFO Request is queued\n",
      "2022-06-10 14:59:34,545 INFO Request is queued\n",
      "2022-06-10 14:59:34,547 INFO Request is queued\n",
      "2022-06-10 14:59:34,549 INFO Request is queued\n",
      "2022-06-10 14:59:34,552 INFO Request is queued\n"
     ]
    },
    {
     "name": "stdout",
     "output_type": "stream",
     "text": [
      "[                                        ] | 0% Completed |  4.4s"
     ]
    },
    {
     "name": "stderr",
     "output_type": "stream",
     "text": [
      "2022-06-10 14:59:36,075 INFO Request is running\n"
     ]
    },
    {
     "name": "stdout",
     "output_type": "stream",
     "text": [
      "[                                        ] | 0% Completed | 12.7s"
     ]
    },
    {
     "name": "stderr",
     "output_type": "stream",
     "text": [
      "2022-06-10 14:59:44,370 INFO Request is completed\n",
      "2022-06-10 14:59:44,372 INFO Request is running\n",
      "2022-06-10 14:59:44,379 INFO Downloading https://download-0010-clone.copernicus-climate.eu/cache-compute-0010/cache/data5/adaptor.mars.external-1654829981.0004141-22976-16-e93c789d-a40a-4797-918a-827833ca61d8.nc to /media/nicolasf/END19101/ICU/data/CDS/operational/forecasts/ECMWF/TPRATE/ensemble_seas_forecasts_tprate_from_2018_06_ECMWF.netcdf (5.6M)\n"
     ]
    },
    {
     "name": "stdout",
     "output_type": "stream",
     "text": [
      "[                                        ] | 0% Completed | 14.8s"
     ]
    },
    {
     "name": "stderr",
     "output_type": "stream",
     "text": [
      "  0%|                                                                  | 0.00/5.56M [00:00<?, ?B/s]"
     ]
    },
    {
     "name": "stdout",
     "output_type": "stream",
     "text": [
      "[                                        ] | 0% Completed | 15.2s"
     ]
    },
    {
     "name": "stderr",
     "output_type": "stream",
     "text": [
      "  0%|▏                                                        | 16.0k/5.56M [00:00<02:21, 41.0kB/s]"
     ]
    },
    {
     "name": "stdout",
     "output_type": "stream",
     "text": [
      "[                                        ] | 0% Completed | 15.6s"
     ]
    },
    {
     "name": "stderr",
     "output_type": "stream",
     "text": [
      "  1%|▌                                                        | 58.0k/5.56M [00:00<01:13, 79.0kB/s]"
     ]
    },
    {
     "name": "stdout",
     "output_type": "stream",
     "text": [
      "[                                        ] | 0% Completed | 16.2s"
     ]
    },
    {
     "name": "stderr",
     "output_type": "stream",
     "text": [
      "  2%|█▏                                                        | 120k/5.56M [00:01<01:01, 92.6kB/s]"
     ]
    },
    {
     "name": "stdout",
     "output_type": "stream",
     "text": [
      "[                                        ] | 0% Completed | 16.6s"
     ]
    },
    {
     "name": "stderr",
     "output_type": "stream",
     "text": [
      "  5%|██▊                                                        | 269k/5.56M [00:01<00:29, 189kB/s]"
     ]
    },
    {
     "name": "stdout",
     "output_type": "stream",
     "text": [
      "[                                        ] | 0% Completed | 17.0s"
     ]
    },
    {
     "name": "stderr",
     "output_type": "stream",
     "text": [
      " 10%|█████▉                                                     | 567k/5.56M [00:02<00:14, 375kB/s]"
     ]
    },
    {
     "name": "stdout",
     "output_type": "stream",
     "text": [
      "[                                        ] | 0% Completed | 17.4s"
     ]
    },
    {
     "name": "stderr",
     "output_type": "stream",
     "text": [
      " 19%|███████████▏                                              | 1.08M/5.56M [00:02<00:06, 684kB/s]"
     ]
    },
    {
     "name": "stdout",
     "output_type": "stream",
     "text": [
      "[                                        ] | 0% Completed | 17.7s"
     ]
    },
    {
     "name": "stderr",
     "output_type": "stream",
     "text": [
      " 29%|████████████████▊                                         | 1.61M/5.56M [00:03<00:04, 933kB/s]"
     ]
    },
    {
     "name": "stdout",
     "output_type": "stream",
     "text": [
      "[                                        ] | 0% Completed | 18.2s"
     ]
    },
    {
     "name": "stderr",
     "output_type": "stream",
     "text": [
      "2022-06-10 14:59:49,897 INFO Request is running\n",
      " 39%|██████████████████████                                   | 2.15M/5.56M [00:03<00:03, 1.04MB/s]2022-06-10 14:59:49,915 INFO Request is failed\n",
      "2022-06-10 14:59:49,919 INFO Request is completed\n",
      "2022-06-10 14:59:49,921 ERROR Message: no data is available within your requested subset\n",
      "2022-06-10 14:59:49,924 INFO Downloading https://download-0005-clone.copernicus-climate.eu/cache-compute-0005/cache/data1/adaptor.mars.external-1654829985.8993914-21956-16-a5f03d70-1c90-4701-aa3b-b83cd0a39004.nc to /media/nicolasf/END19101/ICU/data/CDS/operational/forecasts/DWD/TPRATE/ensemble_seas_forecasts_tprate_from_2018_06_DWD.netcdf (3.3M)\n",
      "2022-06-10 14:59:49,928 ERROR Reason:  Request returned no data\n",
      "2022-06-10 14:59:49,939 ERROR   Traceback (most recent call last):\n",
      "2022-06-10 14:59:49,942 ERROR     File \"/opt/cdstoolbox/cdscompute/cdscompute/cdshandlers/services/handler.py\", line 59, in handle_request\n",
      "2022-06-10 14:59:49,946 ERROR       result = cached(context.method, proc, context, context.args, context.kwargs)\n",
      "2022-06-10 14:59:49,950 ERROR     File \"/opt/cdstoolbox/cdscompute/cdscompute/caching.py\", line 108, in cached\n",
      "2022-06-10 14:59:49,953 ERROR       result = proc(context, *context.args, **context.kwargs)\n"
     ]
    },
    {
     "name": "stdout",
     "output_type": "stream",
     "text": [
      "[                                        ] | 0% Completed | 18.3s"
     ]
    },
    {
     "name": "stderr",
     "output_type": "stream",
     "text": [
      "2022-06-10 14:59:49,956 ERROR     File \"/opt/cdstoolbox/cdscompute/cdscompute/services.py\", line 124, in __call__\n",
      "2022-06-10 14:59:49,959 ERROR       return p(*args, **kwargs)\n",
      "2022-06-10 14:59:49,963 ERROR     File \"/opt/cdstoolbox/cdscompute/cdscompute/services.py\", line 60, in __call__\n",
      "2022-06-10 14:59:49,965 ERROR       return self.proc(context, *args, **kwargs)\n",
      "2022-06-10 14:59:49,968 ERROR     File \"/home/cds/cdsservices/services/mars/mars.py\", line 52, in external\n",
      "2022-06-10 14:59:49,969 ERROR       return mars(context, request, **kwargs)\n",
      "2022-06-10 14:59:49,970 ERROR     File \"/home/cds/cdsservices/services/mars/mars.py\", line 19, in mars\n",
      "2022-06-10 14:59:49,970 ERROR       execute_mars(context, requests)\n",
      "2022-06-10 14:59:49,970 ERROR     File \"/home/cds/cdsservices/services/mars/execute_mars.py\", line 25, in execute_mars\n",
      "2022-06-10 14:59:49,971 ERROR       raise NoDataException(\"Request returned no data\", '')\n",
      "2022-06-10 14:59:49,971 ERROR   cdsinf.exceptions.NoDataException: Request returned no data\n"
     ]
    },
    {
     "name": "stdout",
     "output_type": "stream",
     "text": [
      "\n",
      "failure to download or save /media/nicolasf/END19101/ICU/data/CDS/operational/forecasts/NCEP/TPRATE/ensemble_seas_forecasts_tprate_from_2018_06_NCEP.netcdf\n",
      "\n",
      "\n",
      "attempting to download tprate for GCM NCEP, for level surface, year 2018, month 6, in netcdf, attempt 2 of 3\n",
      "\n",
      "[                                        ] | 0% Completed | 18.6s"
     ]
    },
    {
     "name": "stderr",
     "output_type": "stream",
     "text": [
      " 49%|███████████████████████████▊                             | 2.71M/5.56M [00:03<00:02, 1.16MB/s]2022-06-10 14:59:50,326 INFO Welcome to the CDS\n",
      "2022-06-10 14:59:50,328 INFO Sending request to https://cds.climate.copernicus.eu/api/v2/resources/seasonal-monthly-single-levels\n"
     ]
    },
    {
     "name": "stdout",
     "output_type": "stream",
     "text": [
      "[                                        ] | 0% Completed | 19.0s"
     ]
    },
    {
     "name": "stderr",
     "output_type": "stream",
     "text": [
      " 59%|█████████████████████████████████▋                       | 3.29M/5.56M [00:04<00:01, 1.25MB/s]2022-06-10 14:59:50,742 INFO Request is queued\n"
     ]
    },
    {
     "name": "stdout",
     "output_type": "stream",
     "text": [
      "[                                        ] | 0% Completed | 19.4s"
     ]
    },
    {
     "name": "stderr",
     "output_type": "stream",
     "text": [
      " 70%|███████████████████████████████████████▋                 | 3.87M/5.56M [00:04<00:01, 1.33MB/s]"
     ]
    },
    {
     "name": "stdout",
     "output_type": "stream",
     "text": [
      "[                                        ] | 0% Completed | 19.8s"
     ]
    },
    {
     "name": "stderr",
     "output_type": "stream",
     "text": [
      " 80%|█████████████████████████████████████████████▊           | 4.46M/5.56M [00:05<00:00, 1.39MB/s]"
     ]
    },
    {
     "name": "stdout",
     "output_type": "stream",
     "text": [
      "[                                        ] | 0% Completed | 20.2s"
     ]
    },
    {
     "name": "stderr",
     "output_type": "stream",
     "text": [
      " 91%|████████████████████████████████████████████████████     | 5.07M/5.56M [00:05<00:00, 1.56MB/s]\n",
      "  0%|                                                                  | 0.00/3.27M [00:00<?, ?B/s]\u001b[A"
     ]
    },
    {
     "name": "stdout",
     "output_type": "stream",
     "text": [
      "[                                        ] | 0% Completed | 20.5s"
     ]
    },
    {
     "name": "stderr",
     "output_type": "stream",
     "text": [
      "2022-06-10 14:59:52,194 INFO Download rate 729K/s                                                  \n"
     ]
    },
    {
     "name": "stdout",
     "output_type": "stream",
     "text": [
      "[                                        ] | 0% Completed | 20.6s"
     ]
    },
    {
     "name": "stderr",
     "output_type": "stream",
     "text": [
      "\n",
      "  0%|▎                                                        | 16.0k/3.27M [00:00<01:09, 48.8kB/s]\u001b[A"
     ]
    },
    {
     "name": "stdout",
     "output_type": "stream",
     "text": [
      "[                                        ] | 0% Completed | 20.9s"
     ]
    },
    {
     "name": "stderr",
     "output_type": "stream",
     "text": [
      "\n",
      "  2%|█                                                        | 60.0k/3.27M [00:00<00:35, 95.6kB/s]\u001b[A"
     ]
    },
    {
     "name": "stdout",
     "output_type": "stream",
     "text": [
      "\n",
      "/media/nicolasf/END19101/ICU/data/CDS/operational/forecasts/ECMWF/TPRATE/ensemble_seas_forecasts_tprate_from_2018_06_ECMWF.netcdf downloaded OK\n",
      "\n",
      "[####                                    ] | 11% Completed | 21.3s"
     ]
    },
    {
     "name": "stderr",
     "output_type": "stream",
     "text": [
      "\n",
      "  4%|██▏                                                        | 122k/3.27M [00:01<00:26, 125kB/s]\u001b[A"
     ]
    },
    {
     "name": "stdout",
     "output_type": "stream",
     "text": [
      "[####                                    ] | 11% Completed | 21.7s"
     ]
    },
    {
     "name": "stderr",
     "output_type": "stream",
     "text": [
      "\n",
      "  8%|████▋                                                      | 269k/3.27M [00:01<00:13, 226kB/s]\u001b[A"
     ]
    },
    {
     "name": "stdout",
     "output_type": "stream",
     "text": [
      "[####                                    ] | 11% Completed | 22.0s"
     ]
    },
    {
     "name": "stderr",
     "output_type": "stream",
     "text": [
      "\n",
      " 12%|███████▏                                                   | 408k/3.27M [00:01<00:10, 291kB/s]\u001b[A"
     ]
    },
    {
     "name": "stdout",
     "output_type": "stream",
     "text": [
      "[####                                    ] | 11% Completed | 22.5s"
     ]
    },
    {
     "name": "stderr",
     "output_type": "stream",
     "text": [
      "\n",
      " 24%|██████████████▎                                            | 812k/3.27M [00:02<00:05, 518kB/s]\u001b[A"
     ]
    },
    {
     "name": "stdout",
     "output_type": "stream",
     "text": [
      "[####                                    ] | 11% Completed | 23.0s"
     ]
    },
    {
     "name": "stderr",
     "output_type": "stream",
     "text": [
      "\n",
      " 47%|███████████████████████████▏                              | 1.53M/3.27M [00:02<00:02, 894kB/s]\u001b[A"
     ]
    },
    {
     "name": "stdout",
     "output_type": "stream",
     "text": [
      "[####                                    ] | 11% Completed | 23.4s"
     ]
    },
    {
     "name": "stderr",
     "output_type": "stream",
     "text": [
      "\n",
      " 70%|███████████████████████████████████████▋                 | 2.27M/3.27M [00:03<00:00, 1.20MB/s]\u001b[A"
     ]
    },
    {
     "name": "stdout",
     "output_type": "stream",
     "text": [
      "[####                                    ] | 11% Completed | 23.8s"
     ]
    },
    {
     "name": "stderr",
     "output_type": "stream",
     "text": [
      "\n",
      " 93%|████████████████████████████████████████████████████▊    | 3.03M/3.27M [00:03<00:00, 1.42MB/s]\u001b[A"
     ]
    },
    {
     "name": "stdout",
     "output_type": "stream",
     "text": [
      "[####                                    ] | 11% Completed | 24.0s"
     ]
    },
    {
     "name": "stderr",
     "output_type": "stream",
     "text": [
      "\n",
      "                                                                                                   \u001b[A2022-06-10 14:59:55,752 INFO Download rate 575.4K/s\n"
     ]
    },
    {
     "name": "stdout",
     "output_type": "stream",
     "text": [
      "[####                                    ] | 11% Completed | 24.5s\n",
      "/media/nicolasf/END19101/ICU/data/CDS/operational/forecasts/DWD/TPRATE/ensemble_seas_forecasts_tprate_from_2018_06_DWD.netcdf downloaded OK\n",
      "\n",
      "[########                                ] | 22% Completed | 26.2s"
     ]
    },
    {
     "name": "stderr",
     "output_type": "stream",
     "text": [
      "2022-06-10 14:59:57,886 INFO Request is completed\n",
      "2022-06-10 14:59:57,892 INFO Downloading https://download-0005-clone.copernicus-climate.eu/cache-compute-0005/cache/data4/adaptor.mars.external-1654829989.700979-7197-6-bbca5eb0-86e0-4056-94ce-9f399a5b3d68.nc to /media/nicolasf/END19101/ICU/data/CDS/operational/forecasts/ECCC_CanCM4i/TPRATE/ensemble_seas_forecasts_tprate_from_2018_06_ECCC.netcdf (1.1M)\n",
      "2022-06-10 14:59:57,895 INFO Request is running\n"
     ]
    },
    {
     "name": "stdout",
     "output_type": "stream",
     "text": [
      "[########                                ] | 22% Completed | 26.7s"
     ]
    },
    {
     "name": "stderr",
     "output_type": "stream",
     "text": [
      "  0%|                                                                  | 0.00/1.09M [00:00<?, ?B/s]"
     ]
    },
    {
     "name": "stdout",
     "output_type": "stream",
     "text": [
      "[########                                ] | 22% Completed | 27.0s"
     ]
    },
    {
     "name": "stderr",
     "output_type": "stream",
     "text": [
      "  4%|██▏                                                       | 42.0k/1.09M [00:00<00:07, 150kB/s]"
     ]
    },
    {
     "name": "stdout",
     "output_type": "stream",
     "text": [
      "[########                                ] | 22% Completed | 27.3s"
     ]
    },
    {
     "name": "stderr",
     "output_type": "stream",
     "text": [
      " 12%|███████▎                                                   | 138k/1.09M [00:00<00:04, 242kB/s]"
     ]
    },
    {
     "name": "stdout",
     "output_type": "stream",
     "text": [
      "[########                                ] | 22% Completed | 27.7s"
     ]
    },
    {
     "name": "stderr",
     "output_type": "stream",
     "text": [
      " 30%|█████████████████▌                                         | 332k/1.09M [00:01<00:02, 372kB/s]"
     ]
    },
    {
     "name": "stdout",
     "output_type": "stream",
     "text": [
      "[########                                ] | 22% Completed | 28.0s"
     ]
    },
    {
     "name": "stderr",
     "output_type": "stream",
     "text": [
      " 63%|█████████████████████████████████████▍                     | 708k/1.09M [00:01<00:00, 689kB/s]"
     ]
    },
    {
     "name": "stdout",
     "output_type": "stream",
     "text": [
      "[########                                ] | 22% Completed | 28.2s"
     ]
    },
    {
     "name": "stderr",
     "output_type": "stream",
     "text": [
      "2022-06-10 14:59:59,854 INFO Download rate 570.8K/s                                                \n"
     ]
    },
    {
     "name": "stdout",
     "output_type": "stream",
     "text": [
      "[########                                ] | 22% Completed | 28.5s\n",
      "/media/nicolasf/END19101/ICU/data/CDS/operational/forecasts/ECCC_CanCM4i/TPRATE/ensemble_seas_forecasts_tprate_from_2018_06_ECCC.netcdf downloaded OK\n",
      "\n",
      "[#############                           ] | 33% Completed |  2min 58.5s"
     ]
    },
    {
     "name": "stderr",
     "output_type": "stream",
     "text": [
      "2022-06-10 15:02:30,161 INFO Request is completed\n",
      "2022-06-10 15:02:30,164 INFO Downloading https://download-0005-clone.copernicus-climate.eu/cache-compute-0005/cache/data1/adaptor.mars.external-1654830130.6727376-24836-16-5dc51564-57df-4279-9715-b59dbe06f678.nc to /media/nicolasf/END19101/ICU/data/CDS/operational/forecasts/METEO_FRANCE/TPRATE/ensemble_seas_forecasts_tprate_from_2018_06_METEO_FRANCE.netcdf (2.7M)\n",
      "2022-06-10 15:02:30,165 INFO Request is failed\n",
      "2022-06-10 15:02:30,168 INFO Request is failed\n",
      "2022-06-10 15:02:30,169 INFO Request is failed\n",
      "2022-06-10 15:02:30,169 INFO Request is completed\n",
      "2022-06-10 15:02:30,176 ERROR Message: no data is available within your requested subset\n",
      "2022-06-10 15:02:30,178 ERROR Message: no data is available within your requested subset\n",
      "2022-06-10 15:02:30,180 ERROR Message: no data is available within your requested subset\n"
     ]
    },
    {
     "name": "stdout",
     "output_type": "stream",
     "text": [
      "[#############                           ] | 33% Completed |  2min 58.6s"
     ]
    },
    {
     "name": "stderr",
     "output_type": "stream",
     "text": [
      "2022-06-10 15:02:30,183 INFO Downloading https://download-0000-clone.copernicus-climate.eu/cache-compute-0000/cache/data3/adaptor.mars.external-1654830124.7975478-6491-1-4fe628bc-8106-410c-9611-10a14202b216.nc to /media/nicolasf/END19101/ICU/data/CDS/operational/forecasts/ECCC_GEM5_NEMO/TPRATE/ensemble_seas_forecasts_tprate_from_2018_06_ECCC.netcdf (1.1M)\n",
      "2022-06-10 15:02:30,185 ERROR Reason:  Request returned no data\n",
      "2022-06-10 15:02:30,187 ERROR Reason:  Request returned no data\n",
      "2022-06-10 15:02:30,189 ERROR Reason:  Request returned no data\n",
      "2022-06-10 15:02:30,198 ERROR   Traceback (most recent call last):\n",
      "2022-06-10 15:02:30,201 ERROR   Traceback (most recent call last):\n",
      "2022-06-10 15:02:30,203 ERROR   Traceback (most recent call last):\n",
      "2022-06-10 15:02:30,205 ERROR     File \"/opt/cdstoolbox/cdscompute/cdscompute/cdshandlers/services/handler.py\", line 59, in handle_request\n",
      "2022-06-10 15:02:30,206 ERROR     File \"/opt/cdstoolbox/cdscompute/cdscompute/cdshandlers/services/handler.py\", line 59, in handle_request\n",
      "2022-06-10 15:02:30,208 ERROR     File \"/opt/cdstoolbox/cdscompute/cdscompute/cdshandlers/services/handler.py\", line 59, in handle_request\n",
      "2022-06-10 15:02:30,209 ERROR       result = cached(context.method, proc, context, context.args, context.kwargs)\n",
      "2022-06-10 15:02:30,210 ERROR       result = cached(context.method, proc, context, context.args, context.kwargs)\n",
      "2022-06-10 15:02:30,211 ERROR       result = cached(context.method, proc, context, context.args, context.kwargs)\n",
      "2022-06-10 15:02:30,212 ERROR     File \"/opt/cdstoolbox/cdscompute/cdscompute/caching.py\", line 108, in cached\n",
      "2022-06-10 15:02:30,213 ERROR     File \"/opt/cdstoolbox/cdscompute/cdscompute/caching.py\", line 108, in cached\n",
      "2022-06-10 15:02:30,213 ERROR     File \"/opt/cdstoolbox/cdscompute/cdscompute/caching.py\", line 108, in cached\n",
      "2022-06-10 15:02:30,214 ERROR       result = proc(context, *context.args, **context.kwargs)\n",
      "2022-06-10 15:02:30,215 ERROR       result = proc(context, *context.args, **context.kwargs)\n",
      "2022-06-10 15:02:30,216 ERROR       result = proc(context, *context.args, **context.kwargs)\n",
      "2022-06-10 15:02:30,216 ERROR     File \"/opt/cdstoolbox/cdscompute/cdscompute/services.py\", line 124, in __call__\n",
      "2022-06-10 15:02:30,217 ERROR     File \"/opt/cdstoolbox/cdscompute/cdscompute/services.py\", line 124, in __call__\n",
      "2022-06-10 15:02:30,217 ERROR     File \"/opt/cdstoolbox/cdscompute/cdscompute/services.py\", line 124, in __call__\n",
      "2022-06-10 15:02:30,218 ERROR       return p(*args, **kwargs)\n",
      "2022-06-10 15:02:30,220 ERROR     File \"/opt/cdstoolbox/cdscompute/cdscompute/services.py\", line 60, in __call__\n",
      "2022-06-10 15:02:30,219 ERROR       return p(*args, **kwargs)\n",
      "2022-06-10 15:02:30,219 ERROR       return p(*args, **kwargs)\n",
      "2022-06-10 15:02:30,220 ERROR       return self.proc(context, *args, **kwargs)\n",
      "2022-06-10 15:02:30,221 ERROR     File \"/opt/cdstoolbox/cdscompute/cdscompute/services.py\", line 60, in __call__\n",
      "2022-06-10 15:02:30,222 ERROR     File \"/opt/cdstoolbox/cdscompute/cdscompute/services.py\", line 60, in __call__\n",
      "2022-06-10 15:02:30,222 ERROR     File \"/home/cds/cdsservices/services/mars/mars.py\", line 52, in external\n",
      "2022-06-10 15:02:30,223 ERROR       return self.proc(context, *args, **kwargs)\n",
      "2022-06-10 15:02:30,223 ERROR       return self.proc(context, *args, **kwargs)\n",
      "2022-06-10 15:02:30,225 ERROR     File \"/home/cds/cdsservices/services/mars/mars.py\", line 52, in external\n",
      "2022-06-10 15:02:30,224 ERROR     File \"/home/cds/cdsservices/services/mars/mars.py\", line 52, in external\n",
      "2022-06-10 15:02:30,226 ERROR       return mars(context, request, **kwargs)\n",
      "2022-06-10 15:02:30,225 ERROR       return mars(context, request, **kwargs)\n",
      "2022-06-10 15:02:30,226 ERROR     File \"/home/cds/cdsservices/services/mars/mars.py\", line 19, in mars\n",
      "2022-06-10 15:02:30,226 ERROR     File \"/home/cds/cdsservices/services/mars/mars.py\", line 19, in mars\n",
      "2022-06-10 15:02:30,227 ERROR       execute_mars(context, requests)\n",
      "2022-06-10 15:02:30,227 ERROR       execute_mars(context, requests)\n",
      "2022-06-10 15:02:30,228 ERROR     File \"/home/cds/cdsservices/services/mars/execute_mars.py\", line 25, in execute_mars\n",
      "2022-06-10 15:02:30,228 ERROR     File \"/home/cds/cdsservices/services/mars/execute_mars.py\", line 25, in execute_mars\n",
      "2022-06-10 15:02:30,229 ERROR       raise NoDataException(\"Request returned no data\", '')\n",
      "2022-06-10 15:02:30,228 ERROR       raise NoDataException(\"Request returned no data\", '')\n",
      "2022-06-10 15:02:30,230 ERROR   cdsinf.exceptions.NoDataException: Request returned no data\n",
      "2022-06-10 15:02:30,229 ERROR   cdsinf.exceptions.NoDataException: Request returned no data\n",
      "2022-06-10 15:02:30,224 ERROR       return mars(context, request, **kwargs)\n",
      "2022-06-10 15:02:30,233 ERROR     File \"/home/cds/cdsservices/services/mars/mars.py\", line 19, in mars\n",
      "2022-06-10 15:02:30,234 ERROR       execute_mars(context, requests)\n",
      "2022-06-10 15:02:30,234 ERROR     File \"/home/cds/cdsservices/services/mars/execute_mars.py\", line 25, in execute_mars\n",
      "2022-06-10 15:02:30,235 ERROR       raise NoDataException(\"Request returned no data\", '')\n",
      "2022-06-10 15:02:30,235 ERROR   cdsinf.exceptions.NoDataException: Request returned no data\n"
     ]
    },
    {
     "name": "stdout",
     "output_type": "stream",
     "text": [
      "\n",
      "failure to download or save /media/nicolasf/END19101/ICU/data/CDS/operational/forecasts/CMCC/TPRATE/ensemble_seas_forecasts_tprate_from_2018_06_CMCC.netcdf\n",
      "\n",
      "\n",
      "attempting to download tprate for GCM CMCC, for level surface, year 2018, month 6, in netcdf, attempt 2 of 3\n",
      "\n",
      "\n",
      "failure to download or save /media/nicolasf/END19101/ICU/data/CDS/operational/forecasts/UKMO/TPRATE/ensemble_seas_forecasts_tprate_from_2018_06_UKMO.netcdf\n",
      "\n",
      "\n",
      "attempting to download tprate for GCM UKMO, for level surface, year 2018, month 6, in netcdf, attempt 2 of 3\n",
      "\n",
      "\n",
      "failure to download or save /media/nicolasf/END19101/ICU/data/CDS/operational/forecasts/JMA/TPRATE/ensemble_seas_forecasts_tprate_from_2018_06_JMA.netcdf\n",
      "\n",
      "\n",
      "attempting to download tprate for GCM JMA, for level surface, year 2018, month 6, in netcdf, attempt 2 of 3\n",
      "\n",
      "[#############                           ] | 33% Completed |  2min 58.9s"
     ]
    },
    {
     "name": "stderr",
     "output_type": "stream",
     "text": [
      "2022-06-10 15:02:30,565 INFO Welcome to the CDS\n",
      "2022-06-10 15:02:30,566 INFO Welcome to the CDS\n",
      "2022-06-10 15:02:30,567 INFO Welcome to the CDS\n",
      "2022-06-10 15:02:30,568 INFO Sending request to https://cds.climate.copernicus.eu/api/v2/resources/seasonal-monthly-single-levels\n",
      "2022-06-10 15:02:30,569 INFO Sending request to https://cds.climate.copernicus.eu/api/v2/resources/seasonal-monthly-single-levels\n",
      "2022-06-10 15:02:30,570 INFO Sending request to https://cds.climate.copernicus.eu/api/v2/resources/seasonal-monthly-single-levels\n"
     ]
    },
    {
     "name": "stdout",
     "output_type": "stream",
     "text": [
      "[#############                           ] | 33% Completed |  2min 59.4s"
     ]
    },
    {
     "name": "stderr",
     "output_type": "stream",
     "text": [
      "2022-06-10 15:02:31,076 INFO Request is queued\n",
      "2022-06-10 15:02:31,079 INFO Request is queued\n",
      "2022-06-10 15:02:31,081 INFO Request is queued\n"
     ]
    },
    {
     "name": "stdout",
     "output_type": "stream",
     "text": [
      "[#############                           ] | 33% Completed |  3min  0.3s"
     ]
    },
    {
     "name": "stderr",
     "output_type": "stream",
     "text": [
      "  0%|                                                                                                              | 0.00/2.73M [00:00<?, ?B/s]"
     ]
    },
    {
     "name": "stdout",
     "output_type": "stream",
     "text": [
      "[#############                           ] | 33% Completed |  3min  0.6s"
     ]
    },
    {
     "name": "stderr",
     "output_type": "stream",
     "text": [
      "  1%|▌                                                                                                    | 16.0k/2.73M [00:00<00:52, 54.5kB/s]\n",
      "  0%|                                                                                                              | 0.00/1.09M [00:00<?, ?B/s]\u001b[A"
     ]
    },
    {
     "name": "stdout",
     "output_type": "stream",
     "text": [
      "[#############                           ] | 33% Completed |  3min  0.7s"
     ]
    },
    {
     "name": "stderr",
     "output_type": "stream",
     "text": [
      "2022-06-10 15:02:32,394 INFO Request is running\n",
      "2022-06-10 15:02:32,399 INFO Request is failed\n",
      "2022-06-10 15:02:32,400 ERROR Message: no data is available within your requested subset\n",
      "2022-06-10 15:02:32,400 ERROR Reason:  Request returned no data\n",
      "2022-06-10 15:02:32,400 ERROR   Traceback (most recent call last):\n",
      "2022-06-10 15:02:32,401 ERROR     File \"/opt/cdstoolbox/cdscompute/cdscompute/cdshandlers/services/handler.py\", line 59, in handle_request\n",
      "2022-06-10 15:02:32,401 ERROR       result = cached(context.method, proc, context, context.args, context.kwargs)\n",
      "2022-06-10 15:02:32,401 ERROR     File \"/opt/cdstoolbox/cdscompute/cdscompute/caching.py\", line 108, in cached\n",
      "2022-06-10 15:02:32,402 ERROR       result = proc(context, *context.args, **context.kwargs)\n",
      "2022-06-10 15:02:32,402 ERROR     File \"/opt/cdstoolbox/cdscompute/cdscompute/services.py\", line 124, in __call__\n",
      "2022-06-10 15:02:32,402 ERROR       return p(*args, **kwargs)\n",
      "2022-06-10 15:02:32,402 ERROR     File \"/opt/cdstoolbox/cdscompute/cdscompute/services.py\", line 60, in __call__\n",
      "2022-06-10 15:02:32,403 ERROR       return self.proc(context, *args, **kwargs)\n",
      "2022-06-10 15:02:32,403 ERROR     File \"/home/cds/cdsservices/services/mars/mars.py\", line 52, in external\n",
      "2022-06-10 15:02:32,403 ERROR       return mars(context, request, **kwargs)\n",
      "2022-06-10 15:02:32,403 ERROR     File \"/home/cds/cdsservices/services/mars/mars.py\", line 19, in mars\n",
      "2022-06-10 15:02:32,403 ERROR       execute_mars(context, requests)\n",
      "2022-06-10 15:02:32,404 ERROR     File \"/home/cds/cdsservices/services/mars/execute_mars.py\", line 25, in execute_mars\n",
      "2022-06-10 15:02:32,404 ERROR       raise NoDataException(\"Request returned no data\", '')\n",
      "2022-06-10 15:02:32,405 ERROR   cdsinf.exceptions.NoDataException: Request returned no data\n"
     ]
    },
    {
     "name": "stdout",
     "output_type": "stream",
     "text": [
      "\n",
      "failure to download or save /media/nicolasf/END19101/ICU/data/CDS/operational/forecasts/JMA/TPRATE/ensemble_seas_forecasts_tprate_from_2018_06_JMA.netcdf\n",
      "\n",
      "\n",
      "attempting to download tprate for GCM JMA, for level surface, year 2018, month 6, in netcdf, attempt 3 of 3\n",
      "\n",
      "[#############                           ] | 33% Completed |  3min  0.9s"
     ]
    },
    {
     "name": "stderr",
     "output_type": "stream",
     "text": [
      "  2%|██                                                                                                    | 58.0k/2.73M [00:00<00:26, 105kB/s]\n",
      "  1%|█▍                                                                                                   | 16.0k/1.09M [00:00<00:20, 54.8kB/s]\u001b[A"
     ]
    },
    {
     "name": "stdout",
     "output_type": "stream",
     "text": [
      "[#############                           ] | 33% Completed |  3min  1.0s"
     ]
    },
    {
     "name": "stderr",
     "output_type": "stream",
     "text": [
      "2022-06-10 15:02:32,716 INFO Welcome to the CDS\n",
      "2022-06-10 15:02:32,716 INFO Sending request to https://cds.climate.copernicus.eu/api/v2/resources/seasonal-monthly-single-levels\n"
     ]
    },
    {
     "name": "stdout",
     "output_type": "stream",
     "text": [
      "[#############                           ] | 33% Completed |  3min  1.2s"
     ]
    },
    {
     "name": "stderr",
     "output_type": "stream",
     "text": [
      "  4%|████▏                                                                                                  | 112k/2.73M [00:00<00:19, 142kB/s]\n",
      "  5%|█████▌                                                                                                | 61.0k/1.09M [00:00<00:09, 111kB/s]\u001b[A"
     ]
    },
    {
     "name": "stdout",
     "output_type": "stream",
     "text": [
      "[#############                           ] | 33% Completed |  3min  1.4s"
     ]
    },
    {
     "name": "stderr",
     "output_type": "stream",
     "text": [
      "2022-06-10 15:02:33,050 INFO Request is queued\n"
     ]
    },
    {
     "name": "stdout",
     "output_type": "stream",
     "text": [
      "[#############                           ] | 33% Completed |  3min  1.5s"
     ]
    },
    {
     "name": "stderr",
     "output_type": "stream",
     "text": [
      "  9%|█████████▎                                                                                             | 252k/2.73M [00:01<00:09, 265kB/s]"
     ]
    },
    {
     "name": "stdout",
     "output_type": "stream",
     "text": [
      "[#############                           ] | 33% Completed |  3min  1.6s"
     ]
    },
    {
     "name": "stderr",
     "output_type": "stream",
     "text": [
      "\n",
      " 11%|███████████▏                                                                                           | 121k/1.09M [00:00<00:06, 150kB/s]\u001b[A"
     ]
    },
    {
     "name": "stdout",
     "output_type": "stream",
     "text": [
      "[#############                           ] | 33% Completed |  3min  1.8s"
     ]
    },
    {
     "name": "stderr",
     "output_type": "stream",
     "text": [
      " 19%|███████████████████▋                                                                                   | 535k/2.73M [00:01<00:04, 512kB/s]"
     ]
    },
    {
     "name": "stdout",
     "output_type": "stream",
     "text": [
      "[#############                           ] | 33% Completed |  3min  1.9s"
     ]
    },
    {
     "name": "stderr",
     "output_type": "stream",
     "text": [
      "\n",
      " 24%|████████████████████████▋                                                                              | 268k/1.09M [00:01<00:03, 282kB/s]\u001b[A"
     ]
    },
    {
     "name": "stdout",
     "output_type": "stream",
     "text": [
      "[#############                           ] | 33% Completed |  3min  2.1s"
     ]
    },
    {
     "name": "stderr",
     "output_type": "stream",
     "text": [
      " 34%|███████████████████████████████████▌                                                                   | 962k/2.73M [00:01<00:02, 828kB/s]"
     ]
    },
    {
     "name": "stdout",
     "output_type": "stream",
     "text": [
      "[#############                           ] | 33% Completed |  3min  2.2s"
     ]
    },
    {
     "name": "stderr",
     "output_type": "stream",
     "text": [
      "\n",
      " 51%|████████████████████████████████████████████████████▎                                                  | 568k/1.09M [00:01<00:01, 540kB/s]\u001b[A"
     ]
    },
    {
     "name": "stdout",
     "output_type": "stream",
     "text": [
      "[#############                           ] | 33% Completed |  3min  2.3s"
     ]
    },
    {
     "name": "stderr",
     "output_type": "stream",
     "text": [
      "\n",
      "                                                                                                                                               \u001b[A2022-06-10 15:02:33,997 INFO Download rate 293.6K/s\n"
     ]
    },
    {
     "name": "stdout",
     "output_type": "stream",
     "text": [
      "[#############                           ] | 33% Completed |  3min  2.4s"
     ]
    },
    {
     "name": "stderr",
     "output_type": "stream",
     "text": [
      " 50%|██████████████████████████████████████████████████▋                                                  | 1.37M/2.73M [00:02<00:01, 1.04MB/s]"
     ]
    },
    {
     "name": "stdout",
     "output_type": "stream",
     "text": [
      "[#############                           ] | 33% Completed |  3min  2.5s"
     ]
    },
    {
     "name": "stderr",
     "output_type": "stream",
     "text": [
      "2022-06-10 15:02:34,207 INFO Request is failed\n",
      "2022-06-10 15:02:34,208 ERROR Message: no data is available within your requested subset\n",
      "2022-06-10 15:02:34,209 ERROR Reason:  Request returned no data\n",
      "2022-06-10 15:02:34,209 ERROR   Traceback (most recent call last):\n",
      "2022-06-10 15:02:34,209 ERROR     File \"/opt/cdstoolbox/cdscompute/cdscompute/cdshandlers/services/handler.py\", line 59, in handle_request\n",
      "2022-06-10 15:02:34,210 ERROR       result = cached(context.method, proc, context, context.args, context.kwargs)\n",
      "2022-06-10 15:02:34,210 ERROR     File \"/opt/cdstoolbox/cdscompute/cdscompute/caching.py\", line 108, in cached\n",
      "2022-06-10 15:02:34,211 ERROR       result = proc(context, *context.args, **context.kwargs)\n",
      "2022-06-10 15:02:34,212 INFO Request is failed\n",
      "2022-06-10 15:02:34,212 ERROR     File \"/opt/cdstoolbox/cdscompute/cdscompute/services.py\", line 124, in __call__\n",
      "2022-06-10 15:02:34,213 ERROR Message: no data is available within your requested subset\n",
      "2022-06-10 15:02:34,214 ERROR       return p(*args, **kwargs)\n",
      "2022-06-10 15:02:34,214 ERROR Reason:  Request returned no data\n",
      "2022-06-10 15:02:34,215 ERROR     File \"/opt/cdstoolbox/cdscompute/cdscompute/services.py\", line 60, in __call__\n",
      "2022-06-10 15:02:34,216 ERROR   Traceback (most recent call last):\n",
      "2022-06-10 15:02:34,216 ERROR       return self.proc(context, *args, **kwargs)\n",
      "2022-06-10 15:02:34,217 ERROR     File \"/opt/cdstoolbox/cdscompute/cdscompute/cdshandlers/services/handler.py\", line 59, in handle_request\n",
      "2022-06-10 15:02:34,217 ERROR     File \"/home/cds/cdsservices/services/mars/mars.py\", line 52, in external\n",
      "2022-06-10 15:02:34,218 ERROR       result = cached(context.method, proc, context, context.args, context.kwargs)\n",
      "2022-06-10 15:02:34,218 ERROR       return mars(context, request, **kwargs)\n",
      "2022-06-10 15:02:34,219 ERROR     File \"/opt/cdstoolbox/cdscompute/cdscompute/caching.py\", line 108, in cached\n",
      "2022-06-10 15:02:34,219 ERROR     File \"/home/cds/cdsservices/services/mars/mars.py\", line 19, in mars\n",
      "2022-06-10 15:02:34,220 ERROR       execute_mars(context, requests)\n",
      "2022-06-10 15:02:34,220 ERROR       result = proc(context, *context.args, **context.kwargs)\n",
      "2022-06-10 15:02:34,221 ERROR     File \"/home/cds/cdsservices/services/mars/execute_mars.py\", line 25, in execute_mars\n",
      "2022-06-10 15:02:34,222 ERROR     File \"/opt/cdstoolbox/cdscompute/cdscompute/services.py\", line 124, in __call__\n",
      "2022-06-10 15:02:34,222 ERROR       raise NoDataException(\"Request returned no data\", '')\n",
      "2022-06-10 15:02:34,223 ERROR       return p(*args, **kwargs)\n",
      "2022-06-10 15:02:34,223 ERROR   cdsinf.exceptions.NoDataException: Request returned no data\n",
      "2022-06-10 15:02:34,224 ERROR     File \"/opt/cdstoolbox/cdscompute/cdscompute/services.py\", line 60, in __call__\n",
      "2022-06-10 15:02:34,225 ERROR       return self.proc(context, *args, **kwargs)\n",
      "2022-06-10 15:02:34,226 ERROR     File \"/home/cds/cdsservices/services/mars/mars.py\", line 52, in external\n",
      "2022-06-10 15:02:34,227 ERROR       return mars(context, request, **kwargs)\n",
      "2022-06-10 15:02:34,228 ERROR     File \"/home/cds/cdsservices/services/mars/mars.py\", line 19, in mars\n",
      "2022-06-10 15:02:34,228 ERROR       execute_mars(context, requests)\n",
      "2022-06-10 15:02:34,229 ERROR     File \"/home/cds/cdsservices/services/mars/execute_mars.py\", line 25, in execute_mars\n",
      "2022-06-10 15:02:34,229 ERROR       raise NoDataException(\"Request returned no data\", '')\n",
      "2022-06-10 15:02:34,230 ERROR   cdsinf.exceptions.NoDataException: Request returned no data\n"
     ]
    },
    {
     "name": "stdout",
     "output_type": "stream",
     "text": [
      "\n",
      "failure to download or save /media/nicolasf/END19101/ICU/data/CDS/operational/forecasts/UKMO/TPRATE/ensemble_seas_forecasts_tprate_from_2018_06_UKMO.netcdf\n",
      "\n",
      "\n",
      "attempting to download tprate for GCM UKMO, for level surface, year 2018, month 6, in netcdf, attempt 3 of 3\n",
      "\n",
      "\n",
      "failure to download or save /media/nicolasf/END19101/ICU/data/CDS/operational/forecasts/CMCC/TPRATE/ensemble_seas_forecasts_tprate_from_2018_06_CMCC.netcdf\n",
      "\n",
      "\n",
      "attempting to download tprate for GCM CMCC, for level surface, year 2018, month 6, in netcdf, attempt 3 of 3\n",
      "\n",
      "[#############                           ] | 33% Completed |  3min  2.6s\n",
      "/media/nicolasf/END19101/ICU/data/CDS/operational/forecasts/ECCC_GEM5_NEMO/TPRATE/ensemble_seas_forecasts_tprate_from_2018_06_ECCC.netcdf downloaded OK\n",
      "\n",
      "[#################                       ] | 44% Completed |  3min  2.7s"
     ]
    },
    {
     "name": "stderr",
     "output_type": "stream",
     "text": [
      "2022-06-10 15:02:34,365 INFO Request is running\n",
      " 66%|██████████████████████████████████████████████████████████████████▊                                  | 1.80M/2.73M [00:02<00:00, 1.20MB/s]"
     ]
    },
    {
     "name": "stdout",
     "output_type": "stream",
     "text": [
      "[#################                       ] | 44% Completed |  3min  2.8s"
     ]
    },
    {
     "name": "stderr",
     "output_type": "stream",
     "text": [
      "2022-06-10 15:02:34,535 INFO Welcome to the CDS\n",
      "2022-06-10 15:02:34,536 INFO Welcome to the CDS\n",
      "2022-06-10 15:02:34,537 INFO Sending request to https://cds.climate.copernicus.eu/api/v2/resources/seasonal-monthly-single-levels\n",
      "2022-06-10 15:02:34,536 INFO Sending request to https://cds.climate.copernicus.eu/api/v2/resources/seasonal-monthly-single-levels\n"
     ]
    },
    {
     "name": "stdout",
     "output_type": "stream",
     "text": [
      "[#################                       ] | 44% Completed |  3min  3.0s"
     ]
    },
    {
     "name": "stderr",
     "output_type": "stream",
     "text": [
      " 83%|███████████████████████████████████████████████████████████████████████████████████▌                 | 2.25M/2.73M [00:02<00:00, 1.32MB/s]"
     ]
    },
    {
     "name": "stdout",
     "output_type": "stream",
     "text": [
      "[#################                       ] | 44% Completed |  3min  3.1s"
     ]
    },
    {
     "name": "stderr",
     "output_type": "stream",
     "text": [
      "2022-06-10 15:02:34,854 INFO Request is queued\n"
     ]
    },
    {
     "name": "stdout",
     "output_type": "stream",
     "text": [
      "[#################                       ] | 44% Completed |  3min  3.2s"
     ]
    },
    {
     "name": "stderr",
     "output_type": "stream",
     "text": [
      "2022-06-10 15:02:34,862 INFO Request is queued\n"
     ]
    },
    {
     "name": "stdout",
     "output_type": "stream",
     "text": [
      "[#################                       ] | 44% Completed |  3min  3.3s"
     ]
    },
    {
     "name": "stderr",
     "output_type": "stream",
     "text": [
      " 99%|████████████████████████████████████████████████████████████████████████████████████████████████████▎| 2.71M/2.73M [00:03<00:00, 1.38MB/s]"
     ]
    },
    {
     "name": "stdout",
     "output_type": "stream",
     "text": [
      "[#################                       ] | 44% Completed |  3min  3.5s"
     ]
    },
    {
     "name": "stderr",
     "output_type": "stream",
     "text": [
      "2022-06-10 15:02:35,256 INFO Download rate 548.7K/s                                                                                            \n"
     ]
    },
    {
     "name": "stdout",
     "output_type": "stream",
     "text": [
      "[#################                       ] | 44% Completed |  3min  4.1s\n",
      "/media/nicolasf/END19101/ICU/data/CDS/operational/forecasts/METEO_FRANCE/TPRATE/ensemble_seas_forecasts_tprate_from_2018_06_METEO_FRANCE.netcdf downloaded OK\n",
      "\n",
      "[######################                  ] | 55% Completed |  3min  4.5s"
     ]
    },
    {
     "name": "stderr",
     "output_type": "stream",
     "text": [
      "2022-06-10 15:02:36,197 INFO Request is running\n",
      "2022-06-10 15:02:36,201 INFO Request is failed\n",
      "2022-06-10 15:02:36,201 INFO Request is failed\n",
      "2022-06-10 15:02:36,203 ERROR Message: no data is available within your requested subset\n",
      "2022-06-10 15:02:36,205 ERROR Message: no data is available within your requested subset\n",
      "2022-06-10 15:02:36,207 ERROR Reason:  Request returned no data\n",
      "2022-06-10 15:02:36,209 ERROR Reason:  Request returned no data\n",
      "2022-06-10 15:02:36,211 ERROR   Traceback (most recent call last):\n",
      "2022-06-10 15:02:36,213 ERROR   Traceback (most recent call last):\n",
      "2022-06-10 15:02:36,215 ERROR     File \"/opt/cdstoolbox/cdscompute/cdscompute/cdshandlers/services/handler.py\", line 59, in handle_request\n",
      "2022-06-10 15:02:36,217 ERROR     File \"/opt/cdstoolbox/cdscompute/cdscompute/cdshandlers/services/handler.py\", line 59, in handle_request\n",
      "2022-06-10 15:02:36,219 ERROR       result = cached(context.method, proc, context, context.args, context.kwargs)\n",
      "2022-06-10 15:02:36,221 ERROR       result = cached(context.method, proc, context, context.args, context.kwargs)\n",
      "2022-06-10 15:02:36,223 ERROR     File \"/opt/cdstoolbox/cdscompute/cdscompute/caching.py\", line 108, in cached\n",
      "2022-06-10 15:02:36,224 ERROR     File \"/opt/cdstoolbox/cdscompute/cdscompute/caching.py\", line 108, in cached\n",
      "2022-06-10 15:02:36,227 ERROR       result = proc(context, *context.args, **context.kwargs)\n",
      "2022-06-10 15:02:36,228 ERROR       result = proc(context, *context.args, **context.kwargs)\n",
      "2022-06-10 15:02:36,230 ERROR     File \"/opt/cdstoolbox/cdscompute/cdscompute/services.py\", line 124, in __call__\n",
      "2022-06-10 15:02:36,231 ERROR     File \"/opt/cdstoolbox/cdscompute/cdscompute/services.py\", line 124, in __call__\n",
      "2022-06-10 15:02:36,232 ERROR       return p(*args, **kwargs)\n",
      "2022-06-10 15:02:36,234 ERROR       return p(*args, **kwargs)\n",
      "2022-06-10 15:02:36,235 ERROR     File \"/opt/cdstoolbox/cdscompute/cdscompute/services.py\", line 60, in __call__\n",
      "2022-06-10 15:02:36,235 ERROR     File \"/opt/cdstoolbox/cdscompute/cdscompute/services.py\", line 60, in __call__\n",
      "2022-06-10 15:02:36,236 ERROR       return self.proc(context, *args, **kwargs)\n",
      "2022-06-10 15:02:36,237 ERROR       return self.proc(context, *args, **kwargs)\n",
      "2022-06-10 15:02:36,238 ERROR     File \"/home/cds/cdsservices/services/mars/mars.py\", line 52, in external\n",
      "2022-06-10 15:02:36,239 ERROR     File \"/home/cds/cdsservices/services/mars/mars.py\", line 52, in external\n",
      "2022-06-10 15:02:36,240 ERROR       return mars(context, request, **kwargs)\n",
      "2022-06-10 15:02:36,241 ERROR       return mars(context, request, **kwargs)\n",
      "2022-06-10 15:02:36,241 ERROR     File \"/home/cds/cdsservices/services/mars/mars.py\", line 19, in mars\n",
      "2022-06-10 15:02:36,243 ERROR       execute_mars(context, requests)\n",
      "2022-06-10 15:02:36,243 ERROR     File \"/home/cds/cdsservices/services/mars/execute_mars.py\", line 25, in execute_mars\n",
      "2022-06-10 15:02:36,242 ERROR     File \"/home/cds/cdsservices/services/mars/mars.py\", line 19, in mars\n",
      "2022-06-10 15:02:36,244 ERROR       raise NoDataException(\"Request returned no data\", '')\n",
      "2022-06-10 15:02:36,245 ERROR   cdsinf.exceptions.NoDataException: Request returned no data\n",
      "2022-06-10 15:02:36,244 ERROR       execute_mars(context, requests)\n",
      "2022-06-10 15:02:36,246 ERROR     File \"/home/cds/cdsservices/services/mars/execute_mars.py\", line 25, in execute_mars\n",
      "2022-06-10 15:02:36,247 ERROR       raise NoDataException(\"Request returned no data\", '')\n",
      "2022-06-10 15:02:36,247 ERROR   cdsinf.exceptions.NoDataException: Request returned no data\n"
     ]
    },
    {
     "name": "stdout",
     "output_type": "stream",
     "text": [
      "\n",
      "failure to download or save /media/nicolasf/END19101/ICU/data/CDS/operational/forecasts/CMCC/TPRATE/ensemble_seas_forecasts_tprate_from_2018_06_CMCC.netcdf\n",
      "\n",
      "\n",
      "failure to download or save /media/nicolasf/END19101/ICU/data/CDS/operational/forecasts/JMA/TPRATE/ensemble_seas_forecasts_tprate_from_2018_06_JMA.netcdf\n",
      "\n",
      "[###############################         ] | 77% Completed |  3min  6.5s"
     ]
    },
    {
     "name": "stderr",
     "output_type": "stream",
     "text": [
      "2022-06-10 15:02:38,109 INFO Request is failed\n",
      "2022-06-10 15:02:38,111 ERROR Message: no data is available within your requested subset\n",
      "2022-06-10 15:02:38,112 ERROR Reason:  Request returned no data\n",
      "2022-06-10 15:02:38,114 ERROR   Traceback (most recent call last):\n",
      "2022-06-10 15:02:38,116 ERROR     File \"/opt/cdstoolbox/cdscompute/cdscompute/cdshandlers/services/handler.py\", line 59, in handle_request\n",
      "2022-06-10 15:02:38,118 ERROR       result = cached(context.method, proc, context, context.args, context.kwargs)\n",
      "2022-06-10 15:02:38,119 ERROR     File \"/opt/cdstoolbox/cdscompute/cdscompute/caching.py\", line 108, in cached\n",
      "2022-06-10 15:02:38,121 ERROR       result = proc(context, *context.args, **context.kwargs)\n",
      "2022-06-10 15:02:38,122 ERROR     File \"/opt/cdstoolbox/cdscompute/cdscompute/services.py\", line 124, in __call__\n",
      "2022-06-10 15:02:38,124 ERROR       return p(*args, **kwargs)\n",
      "2022-06-10 15:02:38,125 ERROR     File \"/opt/cdstoolbox/cdscompute/cdscompute/services.py\", line 60, in __call__\n",
      "2022-06-10 15:02:38,126 ERROR       return self.proc(context, *args, **kwargs)\n",
      "2022-06-10 15:02:38,128 ERROR     File \"/home/cds/cdsservices/services/mars/mars.py\", line 52, in external\n",
      "2022-06-10 15:02:38,129 ERROR       return mars(context, request, **kwargs)\n",
      "2022-06-10 15:02:38,133 ERROR     File \"/home/cds/cdsservices/services/mars/mars.py\", line 19, in mars\n",
      "2022-06-10 15:02:38,134 ERROR       execute_mars(context, requests)\n",
      "2022-06-10 15:02:38,135 ERROR     File \"/home/cds/cdsservices/services/mars/execute_mars.py\", line 25, in execute_mars\n",
      "2022-06-10 15:02:38,136 ERROR       raise NoDataException(\"Request returned no data\", '')\n",
      "2022-06-10 15:02:38,137 ERROR   cdsinf.exceptions.NoDataException: Request returned no data\n"
     ]
    },
    {
     "name": "stdout",
     "output_type": "stream",
     "text": [
      "\n",
      "failure to download or save /media/nicolasf/END19101/ICU/data/CDS/operational/forecasts/UKMO/TPRATE/ensemble_seas_forecasts_tprate_from_2018_06_UKMO.netcdf\n",
      "\n",
      "[###################################     ] | 88% Completed |  3min 14.9s"
     ]
    },
    {
     "name": "stderr",
     "output_type": "stream",
     "text": [
      "2022-06-10 15:02:46,538 INFO Request is failed\n",
      "2022-06-10 15:02:46,539 ERROR Message: no data is available within your requested subset\n",
      "2022-06-10 15:02:46,541 ERROR Reason:  Request returned no data\n",
      "2022-06-10 15:02:46,543 ERROR   Traceback (most recent call last):\n",
      "2022-06-10 15:02:46,546 ERROR     File \"/opt/cdstoolbox/cdscompute/cdscompute/cdshandlers/services/handler.py\", line 59, in handle_request\n",
      "2022-06-10 15:02:46,548 ERROR       result = cached(context.method, proc, context, context.args, context.kwargs)\n",
      "2022-06-10 15:02:46,549 ERROR     File \"/opt/cdstoolbox/cdscompute/cdscompute/caching.py\", line 108, in cached\n",
      "2022-06-10 15:02:46,551 ERROR       result = proc(context, *context.args, **context.kwargs)\n",
      "2022-06-10 15:02:46,552 ERROR     File \"/opt/cdstoolbox/cdscompute/cdscompute/services.py\", line 124, in __call__\n",
      "2022-06-10 15:02:46,554 ERROR       return p(*args, **kwargs)\n",
      "2022-06-10 15:02:46,556 ERROR     File \"/opt/cdstoolbox/cdscompute/cdscompute/services.py\", line 60, in __call__\n",
      "2022-06-10 15:02:46,557 ERROR       return self.proc(context, *args, **kwargs)\n",
      "2022-06-10 15:02:46,560 ERROR     File \"/home/cds/cdsservices/services/mars/mars.py\", line 52, in external\n",
      "2022-06-10 15:02:46,562 ERROR       return mars(context, request, **kwargs)\n",
      "2022-06-10 15:02:46,563 ERROR     File \"/home/cds/cdsservices/services/mars/mars.py\", line 19, in mars\n",
      "2022-06-10 15:02:46,564 ERROR       execute_mars(context, requests)\n",
      "2022-06-10 15:02:46,566 ERROR     File \"/home/cds/cdsservices/services/mars/execute_mars.py\", line 25, in execute_mars\n",
      "2022-06-10 15:02:46,567 ERROR       raise NoDataException(\"Request returned no data\", '')\n",
      "2022-06-10 15:02:46,568 ERROR   cdsinf.exceptions.NoDataException: Request returned no data\n"
     ]
    },
    {
     "name": "stdout",
     "output_type": "stream",
     "text": [
      "\n",
      "failure to download or save /media/nicolasf/END19101/ICU/data/CDS/operational/forecasts/NCEP/TPRATE/ensemble_seas_forecasts_tprate_from_2018_06_NCEP.netcdf\n",
      "\n",
      "\n",
      "attempting to download tprate for GCM NCEP, for level surface, year 2018, month 6, in netcdf, attempt 3 of 3\n",
      "\n",
      "[###################################     ] | 88% Completed |  3min 15.3s"
     ]
    },
    {
     "name": "stderr",
     "output_type": "stream",
     "text": [
      "2022-06-10 15:02:46,952 INFO Welcome to the CDS\n",
      "2022-06-10 15:02:46,953 INFO Sending request to https://cds.climate.copernicus.eu/api/v2/resources/seasonal-monthly-single-levels\n"
     ]
    },
    {
     "name": "stdout",
     "output_type": "stream",
     "text": [
      "[###################################     ] | 88% Completed |  3min 15.7s"
     ]
    },
    {
     "name": "stderr",
     "output_type": "stream",
     "text": [
      "2022-06-10 15:02:47,357 INFO Request is queued\n"
     ]
    },
    {
     "name": "stdout",
     "output_type": "stream",
     "text": [
      "[###################################     ] | 88% Completed |  3min 17.1s"
     ]
    },
    {
     "name": "stderr",
     "output_type": "stream",
     "text": [
      "2022-06-10 15:02:48,790 INFO Request is failed\n",
      "2022-06-10 15:02:48,791 ERROR Message: no data is available within your requested subset\n",
      "2022-06-10 15:02:48,791 ERROR Reason:  Request returned no data\n",
      "2022-06-10 15:02:48,792 ERROR   Traceback (most recent call last):\n",
      "2022-06-10 15:02:48,792 ERROR     File \"/opt/cdstoolbox/cdscompute/cdscompute/cdshandlers/services/handler.py\", line 59, in handle_request\n",
      "2022-06-10 15:02:48,793 ERROR       result = cached(context.method, proc, context, context.args, context.kwargs)\n",
      "2022-06-10 15:02:48,793 ERROR     File \"/opt/cdstoolbox/cdscompute/cdscompute/caching.py\", line 108, in cached\n",
      "2022-06-10 15:02:48,794 ERROR       result = proc(context, *context.args, **context.kwargs)\n",
      "2022-06-10 15:02:48,794 ERROR     File \"/opt/cdstoolbox/cdscompute/cdscompute/services.py\", line 124, in __call__\n",
      "2022-06-10 15:02:48,795 ERROR       return p(*args, **kwargs)\n",
      "2022-06-10 15:02:48,795 ERROR     File \"/opt/cdstoolbox/cdscompute/cdscompute/services.py\", line 60, in __call__\n",
      "2022-06-10 15:02:48,796 ERROR       return self.proc(context, *args, **kwargs)\n",
      "2022-06-10 15:02:48,796 ERROR     File \"/home/cds/cdsservices/services/mars/mars.py\", line 52, in external\n",
      "2022-06-10 15:02:48,797 ERROR       return mars(context, request, **kwargs)\n",
      "2022-06-10 15:02:48,797 ERROR     File \"/home/cds/cdsservices/services/mars/mars.py\", line 19, in mars\n",
      "2022-06-10 15:02:48,798 ERROR       execute_mars(context, requests)\n",
      "2022-06-10 15:02:48,798 ERROR     File \"/home/cds/cdsservices/services/mars/execute_mars.py\", line 25, in execute_mars\n",
      "2022-06-10 15:02:48,799 ERROR       raise NoDataException(\"Request returned no data\", '')\n",
      "2022-06-10 15:02:48,799 ERROR   cdsinf.exceptions.NoDataException: Request returned no data\n"
     ]
    },
    {
     "name": "stdout",
     "output_type": "stream",
     "text": [
      "\n",
      "failure to download or save /media/nicolasf/END19101/ICU/data/CDS/operational/forecasts/NCEP/TPRATE/ensemble_seas_forecasts_tprate_from_2018_06_NCEP.netcdf\n",
      "\n",
      "[########################################] | 100% Completed |  3min 17.2s\n"
     ]
    }
   ],
   "source": [
    "with ProgressBar():\n",
    "    downloaded_files = compute(downloaded_files)"
   ]
  },
  {
   "cell_type": "markdown",
   "id": "f3b127be",
   "metadata": {
    "papermill": {
     "duration": 0.093461,
     "end_time": "2022-06-10T03:02:49.079360",
     "exception": false,
     "start_time": "2022-06-10T03:02:48.985899",
     "status": "completed"
    },
    "tags": []
   },
   "source": [
    "### check dimensions and return the total number of members in the C3S MME "
   ]
  },
  {
   "cell_type": "code",
   "execution_count": 25,
   "id": "79e4f30f",
   "metadata": {
    "execution": {
     "iopub.execute_input": "2022-06-10T03:02:49.231323Z",
     "iopub.status.busy": "2022-06-10T03:02:49.231181Z",
     "iopub.status.idle": "2022-06-10T03:02:49.249044Z",
     "shell.execute_reply": "2022-06-10T03:02:49.248586Z"
    },
    "papermill": {
     "duration": 0.08899,
     "end_time": "2022-06-10T03:02:49.250129",
     "exception": false,
     "start_time": "2022-06-10T03:02:49.161139",
     "status": "completed"
    },
    "tags": []
   },
   "outputs": [],
   "source": [
    "# lfiles = downloaded_files[0]"
   ]
  },
  {
   "cell_type": "code",
   "execution_count": 26,
   "id": "eaa05a0d-89e1-496a-8fbe-852524c5eaa4",
   "metadata": {
    "execution": {
     "iopub.execute_input": "2022-06-10T03:02:49.387621Z",
     "iopub.status.busy": "2022-06-10T03:02:49.387475Z",
     "iopub.status.idle": "2022-06-10T03:02:49.405764Z",
     "shell.execute_reply": "2022-06-10T03:02:49.405319Z"
    },
    "papermill": {
     "duration": 0.088897,
     "end_time": "2022-06-10T03:02:49.406809",
     "exception": false,
     "start_time": "2022-06-10T03:02:49.317912",
     "status": "completed"
    },
    "tags": []
   },
   "outputs": [],
   "source": [
    "# if len(lfiles) > 1: \n",
    "    \n",
    "#     members = []\n",
    "    \n",
    "#     for f in lfiles: \n",
    "#         g = f.name.split('.')[0].split('_')[-1]\n",
    "#         dset = xr.open_dataset(f)\n",
    "#         dset = dset.dropna('number')\n",
    "#         members.append(dset.dims['number'])\n",
    "#         # print(f\"{g}: {dset.dims}\")\n",
    "#         print(f\"{g}: {dset.dims['number']}\")\n",
    "        \n",
    "#     print(f\"TOTAL NUMBER OF MEMBERS IN THE C3S MME for forecasts issued {date:%B %Y}: {np.array(members).sum()}\")\n",
    "    "
   ]
  }
 ],
 "metadata": {
  "kernelspec": {
   "display_name": "Python 3 (ipykernel)",
   "language": "python",
   "name": "python3"
  },
  "language_info": {
   "codemirror_mode": {
    "name": "ipython",
    "version": 3
   },
   "file_extension": ".py",
   "mimetype": "text/x-python",
   "name": "python",
   "nbconvert_exporter": "python",
   "pygments_lexer": "ipython3",
   "version": "3.9.12"
  },
  "papermill": {
   "duration": 216.96628,
   "end_time": "2022-06-10T03:02:50.095519",
   "environment_variables": {},
   "exception": null,
   "input_path": "2_download_latest_C3S_forecasts.ipynb",
   "output_path": "2_download_latest_C3S_forecasts.ipynb",
   "parameters": {
    "lag": 48
   },
   "start_time": "2022-06-10T02:59:13.129239",
   "version": "1.2.1"
  }
 },
 "nbformat": 4,
 "nbformat_minor": 5
}
