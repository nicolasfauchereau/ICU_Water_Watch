{
 "cells": [
  {
   "cell_type": "markdown",
   "metadata": {},
   "source": [
    "### download the last month of the CDS raw forecasts "
   ]
  },
  {
   "cell_type": "code",
   "execution_count": 1,
   "metadata": {},
   "outputs": [],
   "source": [
    "%load_ext autoreload\n",
    "%autoreload 2"
   ]
  },
  {
   "cell_type": "code",
   "execution_count": 2,
   "metadata": {
    "papermill": {
     "duration": 0.086706,
     "end_time": "2020-02-06T23:46:40.196481",
     "exception": false,
     "start_time": "2020-02-06T23:46:40.109775",
     "status": "completed"
    },
    "tags": []
   },
   "outputs": [],
   "source": [
    "import sys\n",
    "import pathlib\n",
    "from datetime import datetime\n",
    "from dateutil.relativedelta import relativedelta"
   ]
  },
  {
   "cell_type": "code",
   "execution_count": 3,
   "metadata": {
    "papermill": {
     "duration": 0.012961,
     "end_time": "2020-02-06T23:46:40.218011",
     "exception": false,
     "start_time": "2020-02-06T23:46:40.205050",
     "status": "completed"
    },
    "tags": []
   },
   "outputs": [],
   "source": [
    "HOME = pathlib.Path.home()"
   ]
  },
  {
   "cell_type": "code",
   "execution_count": 4,
   "metadata": {},
   "outputs": [],
   "source": [
    "CWD = pathlib.Path.cwd()"
   ]
  },
  {
   "cell_type": "code",
   "execution_count": 5,
   "metadata": {},
   "outputs": [
    {
     "data": {
      "text/plain": [
       "PosixPath('/home/nicolasf/operational/ICU/development/hotspots/code/ICU_Water_Watch/notebooks/C3S')"
      ]
     },
     "execution_count": 5,
     "metadata": {},
     "output_type": "execute_result"
    }
   ],
   "source": [
    "CWD"
   ]
  },
  {
   "cell_type": "markdown",
   "metadata": {},
   "source": [
    "### import local functions for the downloading of the C3S forecasts "
   ]
  },
  {
   "cell_type": "code",
   "execution_count": 6,
   "metadata": {},
   "outputs": [],
   "source": [
    "sys.path.append('../..')"
   ]
  },
  {
   "cell_type": "code",
   "execution_count": 7,
   "metadata": {},
   "outputs": [],
   "source": [
    "from ICU_Water_Watch import C3S, domains"
   ]
  },
  {
   "cell_type": "markdown",
   "metadata": {},
   "source": [
    "### show the predefined domains "
   ]
  },
  {
   "cell_type": "code",
   "execution_count": 8,
   "metadata": {},
   "outputs": [
    {
     "data": {
      "text/plain": [
       "{'Tropical_Pacific': [140, 220, -25, 25],\n",
       " 'SW_Pacific': [172.5, 190, -22.5, -12],\n",
       " 'Fiji': [175, 183, -21, -15],\n",
       " 'NZ': [161, 181, -50, -30],\n",
       " 'Pacific': [140, 240, -50, 25],\n",
       " 'C3S_download': [140, 240, -50, 30],\n",
       " 'Water_Watch': [120, 240, -38, 22.5]}"
      ]
     },
     "execution_count": 8,
     "metadata": {},
     "output_type": "execute_result"
    }
   ],
   "source": [
    "domains.domains"
   ]
  },
  {
   "cell_type": "markdown",
   "metadata": {},
   "source": [
    "### provider (always CDS for now)"
   ]
  },
  {
   "cell_type": "code",
   "execution_count": 9,
   "metadata": {
    "papermill": {
     "duration": 0.012879,
     "end_time": "2020-02-06T23:46:40.239506",
     "exception": false,
     "start_time": "2020-02-06T23:46:40.226627",
     "status": "completed"
    },
    "tags": []
   },
   "outputs": [],
   "source": [
    "provider = 'CDS'"
   ]
  },
  {
   "cell_type": "markdown",
   "metadata": {},
   "source": [
    "### variable name"
   ]
  },
  {
   "cell_type": "code",
   "execution_count": 10,
   "metadata": {},
   "outputs": [],
   "source": [
    "var_name = 'tprate'"
   ]
  },
  {
   "cell_type": "markdown",
   "metadata": {},
   "source": [
    "### list of GCMs "
   ]
  },
  {
   "cell_type": "code",
   "execution_count": 11,
   "metadata": {},
   "outputs": [],
   "source": [
    "list_GCMs = ['ECMWF','UKMO','METEO_FRANCE','DWD', 'CMCC', 'NCEP', 'JMA', 'ECCC']"
   ]
  },
  {
   "cell_type": "markdown",
   "metadata": {},
   "source": [
    "### list of systems "
   ]
  },
  {
   "cell_type": "code",
   "execution_count": 13,
   "metadata": {},
   "outputs": [],
   "source": [
    "list_systems = [5, 600, 7, 21, 35, 2, 2, 2]"
   ]
  },
  {
   "cell_type": "code",
   "execution_count": 14,
   "metadata": {},
   "outputs": [],
   "source": [
    "dict_systems = dict(zip(list_GCMs, list_systems))"
   ]
  },
  {
   "cell_type": "code",
   "execution_count": 15,
   "metadata": {},
   "outputs": [
    {
     "data": {
      "text/plain": [
       "{'ECMWF': 5,\n",
       " 'UKMO': 600,\n",
       " 'METEO_FRANCE': 7,\n",
       " 'DWD': 21,\n",
       " 'CMCC': 35,\n",
       " 'NCEP': 2,\n",
       " 'JMA': 2,\n",
       " 'ECCC': 2}"
      ]
     },
     "execution_count": 15,
     "metadata": {},
     "output_type": "execute_result"
    }
   ],
   "source": [
    "dict_systems"
   ]
  },
  {
   "cell_type": "markdown",
   "metadata": {},
   "source": [
    "### lag in months (if need to download older forecasts)"
   ]
  },
  {
   "cell_type": "code",
   "execution_count": 12,
   "metadata": {},
   "outputs": [],
   "source": [
    "lag = 0 "
   ]
  },
  {
   "cell_type": "markdown",
   "metadata": {},
   "source": [
    "### get today's date "
   ]
  },
  {
   "cell_type": "code",
   "execution_count": 13,
   "metadata": {},
   "outputs": [],
   "source": [
    "date = datetime.utcnow()"
   ]
  },
  {
   "cell_type": "markdown",
   "metadata": {},
   "source": [
    "### apply lag "
   ]
  },
  {
   "cell_type": "code",
   "execution_count": 14,
   "metadata": {},
   "outputs": [],
   "source": [
    "date = date - relativedelta(months=lag)"
   ]
  },
  {
   "cell_type": "code",
   "execution_count": 15,
   "metadata": {},
   "outputs": [
    {
     "name": "stdout",
     "output_type": "stream",
     "text": [
      "will download forecasts initialised 2021 - 06\n"
     ]
    }
   ],
   "source": [
    "print(f\"will download forecasts initialised {date:%Y - %m}\")"
   ]
  },
  {
   "cell_type": "markdown",
   "metadata": {},
   "source": [
    "### path to download the realtime forecasts "
   ]
  },
  {
   "cell_type": "code",
   "execution_count": 17,
   "metadata": {},
   "outputs": [],
   "source": [
    "gcm_path = pathlib.Path(f'/media/nicolasf/END19101/ICU/data/{provider}/operational/forecasts')"
   ]
  },
  {
   "cell_type": "code",
   "execution_count": 18,
   "metadata": {},
   "outputs": [],
   "source": [
    "if not(gcm_path.exists()): \n",
    "    gcm_path.mkdir(parents=True)"
   ]
  },
  {
   "cell_type": "markdown",
   "metadata": {},
   "source": [
    "### Now loops over the list of GCM and downloads, for the parameters provided "
   ]
  },
  {
   "cell_type": "code",
   "execution_count": 19,
   "metadata": {},
   "outputs": [
    {
     "name": "stdout",
     "output_type": "stream",
     "text": [
      "\n",
      "attempting to download tprate for GCM ECMWF, for level surface, year 2021, month 6, in netcdf, attempt 1 of 3\n",
      "\n"
     ]
    },
    {
     "name": "stderr",
     "output_type": "stream",
     "text": [
      "2021-06-14 09:45:51,918 INFO Welcome to the CDS\n",
      "2021-06-14 09:45:51,920 INFO Sending request to https://cds.climate.copernicus.eu/api/v2/resources/seasonal-monthly-single-levels\n",
      "2021-06-14 09:45:52,237 INFO Request is queued\n",
      "2021-06-14 09:47:48,574 INFO Request is running\n",
      "2021-06-14 09:48:46,550 INFO Request is completed\n",
      "2021-06-14 09:48:46,552 INFO Downloading https://download-0005.copernicus-climate.eu/cache-compute-0005/cache/data4/adaptor.mars.external-1623620863.572268-7229-19-c22dcba1-568f-46cc-a8b6-772747f1de41.nc to /media/nicolasf/END19101/ICU/data/CDS/operational/forecasts/ECMWF/TPRATE/ensemble_seas_forecasts_tprate_from_2021_06_ECMWF.netcdf (4M)\n",
      "2021-06-14 09:49:00,642 INFO Download rate 289.4K/s \n"
     ]
    },
    {
     "name": "stdout",
     "output_type": "stream",
     "text": [
      "\n",
      "/media/nicolasf/END19101/ICU/data/CDS/operational/forecasts/ECMWF/TPRATE/ensemble_seas_forecasts_tprate_from_2021_06_ECMWF.netcdf downloaded OK\n",
      "\n",
      "\n",
      "attempting to download tprate for GCM UKMO, for level surface, year 2021, month 6, in netcdf, attempt 1 of 3\n",
      "\n"
     ]
    },
    {
     "name": "stderr",
     "output_type": "stream",
     "text": [
      "2021-06-14 09:49:01,229 INFO Welcome to the CDS\n",
      "2021-06-14 09:49:01,231 INFO Sending request to https://cds.climate.copernicus.eu/api/v2/resources/seasonal-monthly-single-levels\n",
      "2021-06-14 09:49:01,529 INFO Request is queued\n",
      "2021-06-14 09:50:19,102 INFO Request is completed\n",
      "2021-06-14 09:50:19,104 INFO Downloading https://download-0002.copernicus-climate.eu/cache-compute-0002/cache/data8/adaptor.mars.external-1623621006.0494678-1447-1-1b7f581d-ebf4-4135-af60-e2bc37381d2a.nc to /media/nicolasf/END19101/ICU/data/CDS/operational/forecasts/UKMO/TPRATE/ensemble_seas_forecasts_tprate_from_2021_06_UKMO.netcdf (4.8M)\n",
      "2021-06-14 09:50:35,206 INFO Download rate 307.8K/s \n"
     ]
    },
    {
     "name": "stdout",
     "output_type": "stream",
     "text": [
      "\n",
      "/media/nicolasf/END19101/ICU/data/CDS/operational/forecasts/UKMO/TPRATE/ensemble_seas_forecasts_tprate_from_2021_06_UKMO.netcdf downloaded OK\n",
      "\n",
      "\n",
      "attempting to download tprate for GCM METEO_FRANCE, for level surface, year 2021, month 6, in netcdf, attempt 1 of 3\n",
      "\n"
     ]
    },
    {
     "name": "stderr",
     "output_type": "stream",
     "text": [
      "2021-06-14 09:50:35,790 INFO Welcome to the CDS\n",
      "2021-06-14 09:50:35,792 INFO Sending request to https://cds.climate.copernicus.eu/api/v2/resources/seasonal-monthly-single-levels\n",
      "2021-06-14 09:50:36,091 INFO Request is queued\n",
      "2021-06-14 09:53:30,387 INFO Request is completed\n",
      "2021-06-14 09:53:30,389 INFO Downloading https://download-0010.copernicus-climate.eu/cache-compute-0010/cache/data3/adaptor.mars.external-1623621187.9205887-2339-9-67327860-a28d-4ea0-a76c-452c51f0a19a.nc to /media/nicolasf/END19101/ICU/data/CDS/operational/forecasts/METEO_FRANCE/TPRATE/ensemble_seas_forecasts_tprate_from_2021_06_METEO_FRANCE.netcdf (4M)\n",
      "2021-06-14 09:53:54,615 INFO Download rate 168.3K/s \n"
     ]
    },
    {
     "name": "stdout",
     "output_type": "stream",
     "text": [
      "\n",
      "/media/nicolasf/END19101/ICU/data/CDS/operational/forecasts/METEO_FRANCE/TPRATE/ensemble_seas_forecasts_tprate_from_2021_06_METEO_FRANCE.netcdf downloaded OK\n",
      "\n",
      "\n",
      "attempting to download tprate for GCM CMCC, for level surface, year 2021, month 6, in netcdf, attempt 1 of 3\n",
      "\n"
     ]
    },
    {
     "name": "stderr",
     "output_type": "stream",
     "text": [
      "2021-06-14 09:53:55,196 INFO Welcome to the CDS\n",
      "2021-06-14 09:53:55,197 INFO Sending request to https://cds.climate.copernicus.eu/api/v2/resources/seasonal-monthly-single-levels\n",
      "2021-06-14 09:53:55,490 INFO Request is queued\n",
      "2021-06-14 09:55:13,051 INFO Request is completed\n",
      "2021-06-14 09:55:13,053 INFO Downloading https://download-0007.copernicus-climate.eu/cache-compute-0007/cache/data5/adaptor.mars.external-1623621300.3479552-13560-17-97bace95-ce35-4e5d-b380-370cca614bba.nc to /media/nicolasf/END19101/ICU/data/CDS/operational/forecasts/CMCC/TPRATE/ensemble_seas_forecasts_tprate_from_2021_06_CMCC.netcdf (3.9M)\n",
      "2021-06-14 09:55:25,514 INFO Download rate 320.8K/s \n"
     ]
    },
    {
     "name": "stdout",
     "output_type": "stream",
     "text": [
      "\n",
      "/media/nicolasf/END19101/ICU/data/CDS/operational/forecasts/CMCC/TPRATE/ensemble_seas_forecasts_tprate_from_2021_06_CMCC.netcdf downloaded OK\n",
      "\n",
      "\n",
      "attempting to download tprate for GCM DWD, for level surface, year 2021, month 6, in netcdf, attempt 1 of 3\n",
      "\n"
     ]
    },
    {
     "name": "stderr",
     "output_type": "stream",
     "text": [
      "2021-06-14 09:55:26,098 INFO Welcome to the CDS\n",
      "2021-06-14 09:55:26,100 INFO Sending request to https://cds.climate.copernicus.eu/api/v2/resources/seasonal-monthly-single-levels\n",
      "2021-06-14 09:55:26,397 INFO Request is queued\n",
      "2021-06-14 09:55:41,052 INFO Request is running\n",
      "2021-06-14 09:55:48,942 INFO Request is completed\n",
      "2021-06-14 09:55:48,943 INFO Downloading https://download-0005.copernicus-climate.eu/cache-compute-0005/cache/data0/adaptor.mars.external-1623621336.06193-9577-27-4221deb6-ed94-4817-889a-cbdfceb02b60.nc to /media/nicolasf/END19101/ICU/data/CDS/operational/forecasts/DWD/TPRATE/ensemble_seas_forecasts_tprate_from_2021_06_DWD.netcdf (3.9M)\n",
      "2021-06-14 09:56:01,698 INFO Download rate 313.4K/s \n"
     ]
    },
    {
     "name": "stdout",
     "output_type": "stream",
     "text": [
      "\n",
      "/media/nicolasf/END19101/ICU/data/CDS/operational/forecasts/DWD/TPRATE/ensemble_seas_forecasts_tprate_from_2021_06_DWD.netcdf downloaded OK\n",
      "\n",
      "\n",
      "attempting to download tprate for GCM NCEP, for level surface, year 2021, month 6, in netcdf, attempt 1 of 3\n",
      "\n"
     ]
    },
    {
     "name": "stderr",
     "output_type": "stream",
     "text": [
      "2021-06-14 09:56:02,284 INFO Welcome to the CDS\n",
      "2021-06-14 09:56:02,286 INFO Sending request to https://cds.climate.copernicus.eu/api/v2/resources/seasonal-monthly-single-levels\n",
      "2021-06-14 09:56:02,588 INFO Request is queued\n",
      "2021-06-14 09:56:05,674 INFO Request is running\n",
      "2021-06-14 09:56:25,132 INFO Request is completed\n",
      "2021-06-14 09:56:25,134 INFO Downloading https://download-0002.copernicus-climate.eu/cache-compute-0002/cache/data5/adaptor.mars.external-1623621365.2940123-1482-13-6f5f49a5-6f2d-4033-83c2-6b969a12af28.nc to /media/nicolasf/END19101/ICU/data/CDS/operational/forecasts/NCEP/TPRATE/ensemble_seas_forecasts_tprate_from_2021_06_NCEP.netcdf (9.7M)\n",
      "2021-06-14 09:56:59,911 INFO Download rate 285K/s   \n"
     ]
    },
    {
     "name": "stdout",
     "output_type": "stream",
     "text": [
      "\n",
      "/media/nicolasf/END19101/ICU/data/CDS/operational/forecasts/NCEP/TPRATE/ensemble_seas_forecasts_tprate_from_2021_06_NCEP.netcdf downloaded OK\n",
      "\n",
      "\n",
      "attempting to download tprate for GCM JMA, for level surface, year 2021, month 6, in netcdf, attempt 1 of 3\n",
      "\n"
     ]
    },
    {
     "name": "stderr",
     "output_type": "stream",
     "text": [
      "2021-06-14 09:57:00,496 INFO Welcome to the CDS\n",
      "2021-06-14 09:57:00,498 INFO Sending request to https://cds.climate.copernicus.eu/api/v2/resources/seasonal-monthly-single-levels\n",
      "2021-06-14 09:57:00,795 INFO Request is queued\n",
      "2021-06-14 09:57:52,422 INFO Request is running\n",
      "2021-06-14 09:58:18,369 INFO Request is completed\n",
      "2021-06-14 09:58:18,371 INFO Downloading https://download-0003.copernicus-climate.eu/cache-compute-0003/cache/data9/adaptor.mars.external-1623621466.6209579-23100-21-9423f4e0-7b78-4959-9c6d-ae241054778c.nc to /media/nicolasf/END19101/ICU/data/CDS/operational/forecasts/JMA/TPRATE/ensemble_seas_forecasts_tprate_from_2021_06_JMA.netcdf (1M)\n",
      "2021-06-14 09:58:23,145 INFO Download rate 216.3K/s \n"
     ]
    },
    {
     "name": "stdout",
     "output_type": "stream",
     "text": [
      "\n",
      "/media/nicolasf/END19101/ICU/data/CDS/operational/forecasts/JMA/TPRATE/ensemble_seas_forecasts_tprate_from_2021_06_JMA.netcdf downloaded OK\n",
      "\n",
      "\n",
      "attempting to download tprate for GCM ECCC, for level surface, year 2021, month 6, in netcdf, attempt 1 of 3\n",
      "\n"
     ]
    },
    {
     "name": "stderr",
     "output_type": "stream",
     "text": [
      "2021-06-14 09:58:23,727 INFO Welcome to the CDS\n",
      "2021-06-14 09:58:23,729 INFO Sending request to https://cds.climate.copernicus.eu/api/v2/resources/seasonal-monthly-single-levels\n",
      "2021-06-14 09:58:24,026 INFO Request is queued\n",
      "2021-06-14 09:59:15,659 INFO Request is completed\n",
      "2021-06-14 09:59:15,661 INFO Downloading https://download-0014.copernicus-climate.eu/cache-compute-0014/cache/data7/adaptor.mars.external-1623621549.677284-2531-29-233c832f-ccf7-477c-925c-595fd89d9c01.nc to /media/nicolasf/END19101/ICU/data/CDS/operational/forecasts/ECCC/TPRATE/ensemble_seas_forecasts_tprate_from_2021_06_ECCC.netcdf (1.6M)\n",
      "2021-06-14 09:59:21,547 INFO Download rate 271.9K/s \n"
     ]
    },
    {
     "name": "stdout",
     "output_type": "stream",
     "text": [
      "\n",
      "/media/nicolasf/END19101/ICU/data/CDS/operational/forecasts/ECCC/TPRATE/ensemble_seas_forecasts_tprate_from_2021_06_ECCC.netcdf downloaded OK\n",
      "\n"
     ]
    }
   ],
   "source": [
    "for GCM in list_GCMs: \n",
    "    C3S.download(\n",
    "    GCM=GCM,\n",
    "    system=dict_systems[GCM]\n",
    "    varname=var_name,\n",
    "    year=date.year,\n",
    "    month=date.month,\n",
    "    leadtimes=[1, 2, 3, 4, 5, 6],\n",
    "    opath=gcm_path.joinpath(GCM).joinpath(var_name.upper()),\n",
    "    domain=domains.domains['C3S_download'],\n",
    "    file_format='netcdf',\n",
    "    level='surface',\n",
    "    max_retry=3,\n",
    "    )   "
   ]
  },
  {
   "cell_type": "code",
   "execution_count": null,
   "metadata": {},
   "outputs": [],
   "source": []
  }
 ],
 "metadata": {
  "kernelspec": {
   "display_name": "Python 3",
   "language": "python",
   "name": "python3"
  },
  "language_info": {
   "codemirror_mode": {
    "name": "ipython",
    "version": 3
   },
   "file_extension": ".py",
   "mimetype": "text/x-python",
   "name": "python",
   "nbconvert_exporter": "python",
   "pygments_lexer": "ipython3",
   "version": "3.8.10"
  },
  "papermill": {
   "duration": 114.72282,
   "end_time": "2020-02-06T23:48:33.529053",
   "environment_variables": {},
   "exception": null,
   "input_path": "./download_CDS_forecasts.ipynb",
   "output_path": "./download_CDS_forecasts.ipynb",
   "parameters": {
    "GCM": "CMCC",
    "month": 12,
    "var_name": "PRECIP",
    "year": 2018
   },
   "start_time": "2020-02-06T23:46:38.806233",
   "version": "1.2.1"
  }
 },
 "nbformat": 4,
 "nbformat_minor": 4
}
