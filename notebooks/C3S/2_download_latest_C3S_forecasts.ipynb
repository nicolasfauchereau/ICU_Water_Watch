{
 "cells": [
  {
   "cell_type": "markdown",
   "metadata": {},
   "source": [
    "### download the last month of the CDS raw forecasts "
   ]
  },
  {
   "cell_type": "code",
   "execution_count": 10,
   "metadata": {},
   "outputs": [
    {
     "name": "stdout",
     "output_type": "stream",
     "text": [
      "The autoreload extension is already loaded. To reload it, use:\n",
      "  %reload_ext autoreload\n"
     ]
    }
   ],
   "source": [
    "%load_ext autoreload\n",
    "%autoreload 2"
   ]
  },
  {
   "cell_type": "code",
   "execution_count": 11,
   "metadata": {
    "papermill": {
     "duration": 0.086706,
     "end_time": "2020-02-06T23:46:40.196481",
     "exception": false,
     "start_time": "2020-02-06T23:46:40.109775",
     "status": "completed"
    },
    "tags": []
   },
   "outputs": [],
   "source": [
    "import sys\n",
    "import pathlib\n",
    "from datetime import datetime\n",
    "from dateutil.relativedelta import relativedelta"
   ]
  },
  {
   "cell_type": "code",
   "execution_count": 12,
   "metadata": {
    "papermill": {
     "duration": 0.012961,
     "end_time": "2020-02-06T23:46:40.218011",
     "exception": false,
     "start_time": "2020-02-06T23:46:40.205050",
     "status": "completed"
    },
    "tags": []
   },
   "outputs": [],
   "source": [
    "HOME = pathlib.Path.home()"
   ]
  },
  {
   "cell_type": "code",
   "execution_count": 13,
   "metadata": {},
   "outputs": [],
   "source": [
    "CWD = pathlib.Path.cwd()"
   ]
  },
  {
   "cell_type": "code",
   "execution_count": 14,
   "metadata": {},
   "outputs": [
    {
     "data": {
      "text/plain": [
       "PosixPath('/home/nicolasf/operational/ICU/development/hotspots/code/ICU_Water_Watch/notebooks/C3S')"
      ]
     },
     "execution_count": 14,
     "metadata": {},
     "output_type": "execute_result"
    }
   ],
   "source": [
    "CWD"
   ]
  },
  {
   "cell_type": "markdown",
   "metadata": {},
   "source": [
    "### import local functions for the downloading of the C3S forecasts "
   ]
  },
  {
   "cell_type": "code",
   "execution_count": 15,
   "metadata": {},
   "outputs": [],
   "source": [
    "sys.path.append('../..')"
   ]
  },
  {
   "cell_type": "code",
   "execution_count": 16,
   "metadata": {},
   "outputs": [],
   "source": [
    "from ICU_Water_Watch import C3S, domains"
   ]
  },
  {
   "cell_type": "markdown",
   "metadata": {},
   "source": [
    "### show the predefined domains "
   ]
  },
  {
   "cell_type": "code",
   "execution_count": 17,
   "metadata": {},
   "outputs": [
    {
     "data": {
      "text/plain": [
       "{'Tropical_Pacific': [140, 220, -25, 25],\n",
       " 'SW_Pacific': [172.5, 190, -22.5, -12],\n",
       " 'Fiji': [175, 183, -21, -15],\n",
       " 'NZ': [161, 181, -50, -30],\n",
       " 'Pacific': [140, 240, -50, 25],\n",
       " 'C3S_download': [100, 240, -50, 30],\n",
       " 'Water_Watch': [120, 240, -38, 22.5]}"
      ]
     },
     "execution_count": 17,
     "metadata": {},
     "output_type": "execute_result"
    }
   ],
   "source": [
    "domains.domains"
   ]
  },
  {
   "cell_type": "markdown",
   "metadata": {},
   "source": [
    "### provider (always CDS for now)"
   ]
  },
  {
   "cell_type": "code",
   "execution_count": 18,
   "metadata": {
    "papermill": {
     "duration": 0.012879,
     "end_time": "2020-02-06T23:46:40.239506",
     "exception": false,
     "start_time": "2020-02-06T23:46:40.226627",
     "status": "completed"
    },
    "tags": []
   },
   "outputs": [],
   "source": [
    "provider = 'CDS'"
   ]
  },
  {
   "cell_type": "markdown",
   "metadata": {},
   "source": [
    "### variable name"
   ]
  },
  {
   "cell_type": "code",
   "execution_count": 19,
   "metadata": {},
   "outputs": [],
   "source": [
    "var_name = 'tprate'"
   ]
  },
  {
   "cell_type": "markdown",
   "metadata": {},
   "source": [
    "### list of GCMs "
   ]
  },
  {
   "cell_type": "code",
   "execution_count": 20,
   "metadata": {},
   "outputs": [],
   "source": [
    "list_GCMs = ['ECMWF','UKMO','METEO_FRANCE','DWD', 'CMCC', 'NCEP', 'JMA', 'ECCC']"
   ]
  },
  {
   "cell_type": "markdown",
   "metadata": {},
   "source": [
    "### list of systems "
   ]
  },
  {
   "cell_type": "code",
   "execution_count": 21,
   "metadata": {},
   "outputs": [],
   "source": [
    "list_systems = [5, 600, 7, 21, 35, 2, 2, 2]"
   ]
  },
  {
   "cell_type": "code",
   "execution_count": 22,
   "metadata": {},
   "outputs": [],
   "source": [
    "dict_systems = dict(zip(list_GCMs, list_systems))"
   ]
  },
  {
   "cell_type": "code",
   "execution_count": 23,
   "metadata": {},
   "outputs": [
    {
     "data": {
      "text/plain": [
       "{'ECMWF': 5,\n",
       " 'UKMO': 600,\n",
       " 'METEO_FRANCE': 7,\n",
       " 'DWD': 21,\n",
       " 'CMCC': 35,\n",
       " 'NCEP': 2,\n",
       " 'JMA': 2,\n",
       " 'ECCC': 2}"
      ]
     },
     "execution_count": 23,
     "metadata": {},
     "output_type": "execute_result"
    }
   ],
   "source": [
    "dict_systems"
   ]
  },
  {
   "cell_type": "markdown",
   "metadata": {},
   "source": [
    "### lag in months (if need to download older forecasts)"
   ]
  },
  {
   "cell_type": "code",
   "execution_count": 24,
   "metadata": {},
   "outputs": [],
   "source": [
    "lag = 0 "
   ]
  },
  {
   "cell_type": "markdown",
   "metadata": {},
   "source": [
    "### get today's date "
   ]
  },
  {
   "cell_type": "code",
   "execution_count": 25,
   "metadata": {},
   "outputs": [],
   "source": [
    "date = datetime.utcnow()"
   ]
  },
  {
   "cell_type": "markdown",
   "metadata": {},
   "source": [
    "### apply lag "
   ]
  },
  {
   "cell_type": "code",
   "execution_count": 26,
   "metadata": {},
   "outputs": [],
   "source": [
    "date = date - relativedelta(months=lag)"
   ]
  },
  {
   "cell_type": "code",
   "execution_count": 27,
   "metadata": {},
   "outputs": [
    {
     "name": "stdout",
     "output_type": "stream",
     "text": [
      "will download forecasts initialised 2021 - 06\n"
     ]
    }
   ],
   "source": [
    "print(f\"will download forecasts initialised {date:%Y - %m}\")"
   ]
  },
  {
   "cell_type": "markdown",
   "metadata": {},
   "source": [
    "### path to download the realtime forecasts "
   ]
  },
  {
   "cell_type": "code",
   "execution_count": 28,
   "metadata": {},
   "outputs": [],
   "source": [
    "gcm_path = pathlib.Path(f'/media/nicolasf/END19101/ICU/data/{provider}/operational/forecasts')"
   ]
  },
  {
   "cell_type": "code",
   "execution_count": 29,
   "metadata": {},
   "outputs": [],
   "source": [
    "if not(gcm_path.exists()): \n",
    "    gcm_path.mkdir(parents=True)"
   ]
  },
  {
   "cell_type": "markdown",
   "metadata": {},
   "source": [
    "### Now loops over the list of GCM and downloads, for the parameters provided "
   ]
  },
  {
   "cell_type": "code",
   "execution_count": 32,
   "metadata": {},
   "outputs": [
    {
     "name": "stdout",
     "output_type": "stream",
     "text": [
      "\n",
      "attempting to download tprate for GCM ECMWF, for level surface, year 2021, month 6, in netcdf, attempt 1 of 3\n",
      "\n"
     ]
    },
    {
     "name": "stderr",
     "output_type": "stream",
     "text": [
      "2021-06-16 15:56:46,937 INFO Welcome to the CDS\n",
      "2021-06-16 15:56:46,937 INFO Sending request to https://cds.climate.copernicus.eu/api/v2/resources/seasonal-monthly-single-levels\n",
      "2021-06-16 15:56:47,325 INFO Request is queued\n",
      "2021-06-16 15:57:09,868 INFO Request is running\n",
      "2021-06-16 15:57:21,558 INFO Request is completed\n",
      "2021-06-16 15:57:21,561 INFO Downloading https://download-0011.copernicus-climate.eu/cache-compute-0011/cache/data1/adaptor.mars.external-1623815826.6451182-7164-3-94b84977-8bcc-41c1-8d0a-946ce89dfda4.nc to /media/nicolasf/END19101/ICU/data/CDS/operational/forecasts/ECMWF/TPRATE/ensemble_seas_forecasts_tprate_from_2021_06_ECMWF.netcdf (5.6M)\n",
      "2021-06-16 15:57:46,314 INFO Download rate 229.9K/s \n"
     ]
    },
    {
     "name": "stdout",
     "output_type": "stream",
     "text": [
      "\n",
      "/media/nicolasf/END19101/ICU/data/CDS/operational/forecasts/ECMWF/TPRATE/ensemble_seas_forecasts_tprate_from_2021_06_ECMWF.netcdf downloaded OK\n",
      "\n",
      "\n",
      "attempting to download tprate for GCM UKMO, for level surface, year 2021, month 6, in netcdf, attempt 1 of 3\n",
      "\n"
     ]
    },
    {
     "name": "stderr",
     "output_type": "stream",
     "text": [
      "2021-06-16 15:57:46,894 INFO Welcome to the CDS\n",
      "2021-06-16 15:57:46,897 INFO Sending request to https://cds.climate.copernicus.eu/api/v2/resources/seasonal-monthly-single-levels\n",
      "2021-06-16 15:57:47,195 INFO Request is queued\n",
      "2021-06-16 16:04:10,658 INFO Request is completed\n",
      "2021-06-16 16:04:10,661 INFO Downloading https://download-0009.copernicus-climate.eu/cache-compute-0009/cache/data3/adaptor.mars.external-1623816231.1853528-9672-5-c0844cd5-a5d8-42e4-abc5-1df73eb7f8bb.nc to /media/nicolasf/END19101/ICU/data/CDS/operational/forecasts/UKMO/TPRATE/ensemble_seas_forecasts_tprate_from_2021_06_UKMO.netcdf (6.8M)\n",
      "2021-06-16 16:04:30,938 INFO Download rate 341.2K/s \n"
     ]
    },
    {
     "name": "stdout",
     "output_type": "stream",
     "text": [
      "\n",
      "/media/nicolasf/END19101/ICU/data/CDS/operational/forecasts/UKMO/TPRATE/ensemble_seas_forecasts_tprate_from_2021_06_UKMO.netcdf downloaded OK\n",
      "\n",
      "\n",
      "attempting to download tprate for GCM METEO_FRANCE, for level surface, year 2021, month 6, in netcdf, attempt 1 of 3\n",
      "\n"
     ]
    },
    {
     "name": "stderr",
     "output_type": "stream",
     "text": [
      "2021-06-16 16:04:31,524 INFO Welcome to the CDS\n",
      "2021-06-16 16:04:31,525 INFO Sending request to https://cds.climate.copernicus.eu/api/v2/resources/seasonal-monthly-single-levels\n",
      "2021-06-16 16:04:31,818 INFO Request is queued\n",
      "2021-06-16 16:12:56,720 INFO Request is completed\n",
      "2021-06-16 16:12:56,721 INFO Downloading https://download-0013.copernicus-climate.eu/cache-compute-0013/cache/data4/adaptor.mars.external-1623816748.9509397-23937-17-40561bbc-9ec3-41dc-b31a-3ec7b739ad73.nc to /media/nicolasf/END19101/ICU/data/CDS/operational/forecasts/METEO_FRANCE/TPRATE/ensemble_seas_forecasts_tprate_from_2021_06_METEO_FRANCE.netcdf (5.6M)\n",
      "2021-06-16 16:13:19,479 INFO Download rate 250K/s   \n"
     ]
    },
    {
     "name": "stdout",
     "output_type": "stream",
     "text": [
      "\n",
      "/media/nicolasf/END19101/ICU/data/CDS/operational/forecasts/METEO_FRANCE/TPRATE/ensemble_seas_forecasts_tprate_from_2021_06_METEO_FRANCE.netcdf downloaded OK\n",
      "\n",
      "\n",
      "attempting to download tprate for GCM DWD, for level surface, year 2021, month 6, in netcdf, attempt 1 of 3\n",
      "\n"
     ]
    },
    {
     "name": "stderr",
     "output_type": "stream",
     "text": [
      "2021-06-16 16:13:20,067 INFO Welcome to the CDS\n",
      "2021-06-16 16:13:20,068 INFO Sending request to https://cds.climate.copernicus.eu/api/v2/resources/seasonal-monthly-single-levels\n",
      "2021-06-16 16:13:20,368 INFO Request is queued\n",
      "2021-06-16 16:16:14,742 INFO Request is running\n",
      "2021-06-16 16:17:42,540 INFO Request is completed\n",
      "2021-06-16 16:17:42,541 INFO Downloading https://download-0014.copernicus-climate.eu/cache-compute-0014/cache/data0/adaptor.mars.external-1623816971.8080747-22011-27-461c775b-5374-4fcb-8b44-e2d06671e6db.nc to /media/nicolasf/END19101/ICU/data/CDS/operational/forecasts/DWD/TPRATE/ensemble_seas_forecasts_tprate_from_2021_06_DWD.netcdf (5.4M)\n",
      "2021-06-16 16:18:00,823 INFO Download rate 305.2K/s \n"
     ]
    },
    {
     "name": "stdout",
     "output_type": "stream",
     "text": [
      "\n",
      "/media/nicolasf/END19101/ICU/data/CDS/operational/forecasts/DWD/TPRATE/ensemble_seas_forecasts_tprate_from_2021_06_DWD.netcdf downloaded OK\n",
      "\n",
      "\n",
      "attempting to download tprate for GCM CMCC, for level surface, year 2021, month 6, in netcdf, attempt 1 of 3\n",
      "\n"
     ]
    },
    {
     "name": "stderr",
     "output_type": "stream",
     "text": [
      "2021-06-16 16:18:01,408 INFO Welcome to the CDS\n",
      "2021-06-16 16:18:01,409 INFO Sending request to https://cds.climate.copernicus.eu/api/v2/resources/seasonal-monthly-single-levels\n",
      "2021-06-16 16:18:01,705 INFO Request is queued\n",
      "2021-06-16 16:18:35,925 INFO Request is running\n",
      "2021-06-16 16:18:53,318 INFO Request is completed\n",
      "2021-06-16 16:18:53,320 INFO Downloading https://download-0010.copernicus-climate.eu/cache-compute-0010/cache/data0/adaptor.mars.external-1623817110.399128-8657-13-0036c760-9aa3-4abb-adcf-5861a7cdd5b6.nc to /media/nicolasf/END19101/ICU/data/CDS/operational/forecasts/CMCC/TPRATE/ensemble_seas_forecasts_tprate_from_2021_06_CMCC.netcdf (5.4M)\n",
      "2021-06-16 16:19:18,503 INFO Download rate 221.6K/s \n"
     ]
    },
    {
     "name": "stdout",
     "output_type": "stream",
     "text": [
      "\n",
      "/media/nicolasf/END19101/ICU/data/CDS/operational/forecasts/CMCC/TPRATE/ensemble_seas_forecasts_tprate_from_2021_06_CMCC.netcdf downloaded OK\n",
      "\n",
      "\n",
      "attempting to download tprate for GCM NCEP, for level surface, year 2021, month 6, in netcdf, attempt 1 of 3\n",
      "\n"
     ]
    },
    {
     "name": "stderr",
     "output_type": "stream",
     "text": [
      "2021-06-16 16:19:19,079 INFO Welcome to the CDS\n",
      "2021-06-16 16:19:19,080 INFO Sending request to https://cds.climate.copernicus.eu/api/v2/resources/seasonal-monthly-single-levels\n",
      "2021-06-16 16:19:19,374 INFO Request is queued\n",
      "2021-06-16 16:19:22,459 INFO Request is running\n",
      "2021-06-16 16:19:41,921 INFO Request is completed\n",
      "2021-06-16 16:19:41,924 INFO Downloading https://download-0002.copernicus-climate.eu/cache-compute-0002/cache/data6/adaptor.mars.external-1623817161.8763306-23421-27-88e358df-75b5-434f-b827-b171bdb31fe0.nc to /media/nicolasf/END19101/ICU/data/CDS/operational/forecasts/NCEP/TPRATE/ensemble_seas_forecasts_tprate_from_2021_06_NCEP.netcdf (13.5M)\n",
      "2021-06-16 16:20:33,167 INFO Download rate 270K/s   \n"
     ]
    },
    {
     "name": "stdout",
     "output_type": "stream",
     "text": [
      "\n",
      "/media/nicolasf/END19101/ICU/data/CDS/operational/forecasts/NCEP/TPRATE/ensemble_seas_forecasts_tprate_from_2021_06_NCEP.netcdf downloaded OK\n",
      "\n",
      "\n",
      "attempting to download tprate for GCM JMA, for level surface, year 2021, month 6, in netcdf, attempt 1 of 3\n",
      "\n"
     ]
    },
    {
     "name": "stderr",
     "output_type": "stream",
     "text": [
      "2021-06-16 16:20:33,754 INFO Welcome to the CDS\n",
      "2021-06-16 16:20:33,755 INFO Sending request to https://cds.climate.copernicus.eu/api/v2/resources/seasonal-monthly-single-levels\n",
      "2021-06-16 16:20:34,050 INFO Request is queued\n",
      "2021-06-16 16:22:30,394 INFO Request is completed\n",
      "2021-06-16 16:22:30,395 INFO Downloading https://download-0008.copernicus-climate.eu/cache-compute-0008/cache/data3/adaptor.mars.external-1623817328.7113812-13336-11-37369210-c771-4ef2-8f43-96e387dd64ae.nc to /media/nicolasf/END19101/ICU/data/CDS/operational/forecasts/JMA/TPRATE/ensemble_seas_forecasts_tprate_from_2021_06_JMA.netcdf (1.4M)\n",
      "2021-06-16 16:22:35,962 INFO Download rate 257.7K/s \n"
     ]
    },
    {
     "name": "stdout",
     "output_type": "stream",
     "text": [
      "\n",
      "/media/nicolasf/END19101/ICU/data/CDS/operational/forecasts/JMA/TPRATE/ensemble_seas_forecasts_tprate_from_2021_06_JMA.netcdf downloaded OK\n",
      "\n",
      "\n",
      "attempting to download tprate for GCM ECCC, for level surface, year 2021, month 6, in netcdf, attempt 1 of 3\n",
      "\n"
     ]
    },
    {
     "name": "stderr",
     "output_type": "stream",
     "text": [
      "2021-06-16 16:22:36,540 INFO Welcome to the CDS\n",
      "2021-06-16 16:22:36,542 INFO Sending request to https://cds.climate.copernicus.eu/api/v2/resources/seasonal-monthly-single-levels\n",
      "2021-06-16 16:22:36,843 INFO Request is queued\n",
      "2021-06-16 16:23:28,464 INFO Request is completed\n",
      "2021-06-16 16:23:28,466 INFO Downloading https://download-0006.copernicus-climate.eu/cache-compute-0006/cache/data9/adaptor.mars.external-1623817400.4368408-16217-3-640ba1a3-0af2-4349-8ba9-7eb2831a6a4f.nc to /media/nicolasf/END19101/ICU/data/CDS/operational/forecasts/ECCC/TPRATE/ensemble_seas_forecasts_tprate_from_2021_06_ECCC.netcdf (1.1M)\n",
      "2021-06-16 16:23:33,027 INFO Download rate 245.1K/s \n"
     ]
    },
    {
     "name": "stdout",
     "output_type": "stream",
     "text": [
      "\n",
      "/media/nicolasf/END19101/ICU/data/CDS/operational/forecasts/ECCC/TPRATE/ensemble_seas_forecasts_tprate_from_2021_06_ECCC.netcdf downloaded OK\n",
      "\n"
     ]
    }
   ],
   "source": [
    "for GCM in list_GCMs: \n",
    "    C3S.download(\n",
    "    GCM=GCM,\n",
    "    system=dict_systems[GCM], \n",
    "    varname=var_name,\n",
    "    year=date.year,\n",
    "    month=date.month,\n",
    "    leadtimes=[1, 2, 3, 4, 5, 6],\n",
    "    opath=gcm_path.joinpath(GCM).joinpath(var_name.upper()),\n",
    "    domain=domains.domains['C3S_download'],\n",
    "    file_format='netcdf',\n",
    "    level='surface',\n",
    "    max_retry=3,\n",
    "    )   "
   ]
  },
  {
   "cell_type": "code",
   "execution_count": null,
   "metadata": {},
   "outputs": [],
   "source": []
  }
 ],
 "metadata": {
  "kernelspec": {
   "display_name": "Python 3",
   "language": "python",
   "name": "python3"
  },
  "language_info": {
   "codemirror_mode": {
    "name": "ipython",
    "version": 3
   },
   "file_extension": ".py",
   "mimetype": "text/x-python",
   "name": "python",
   "nbconvert_exporter": "python",
   "pygments_lexer": "ipython3",
   "version": "3.8.10"
  },
  "papermill": {
   "duration": 114.72282,
   "end_time": "2020-02-06T23:48:33.529053",
   "environment_variables": {},
   "exception": null,
   "input_path": "./download_CDS_forecasts.ipynb",
   "output_path": "./download_CDS_forecasts.ipynb",
   "parameters": {
    "GCM": "CMCC",
    "month": 12,
    "var_name": "PRECIP",
    "year": 2018
   },
   "start_time": "2020-02-06T23:46:38.806233",
   "version": "1.2.1"
  }
 },
 "nbformat": 4,
 "nbformat_minor": 4
}
