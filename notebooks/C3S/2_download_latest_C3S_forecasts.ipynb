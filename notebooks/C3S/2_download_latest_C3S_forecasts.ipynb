{
 "cells": [
  {
   "cell_type": "markdown",
   "metadata": {},
   "source": [
    "### download the last month of the CDS raw forecasts "
   ]
  },
  {
   "cell_type": "code",
   "execution_count": 1,
   "metadata": {},
   "outputs": [],
   "source": [
    "%load_ext autoreload\n",
    "%autoreload 2"
   ]
  },
  {
   "cell_type": "code",
   "execution_count": 2,
   "metadata": {
    "papermill": {
     "duration": 0.086706,
     "end_time": "2020-02-06T23:46:40.196481",
     "exception": false,
     "start_time": "2020-02-06T23:46:40.109775",
     "status": "completed"
    },
    "tags": []
   },
   "outputs": [],
   "source": [
    "import sys\n",
    "import pathlib\n",
    "from datetime import datetime\n",
    "from dateutil.relativedelta import relativedelta\n",
    "import dateparser"
   ]
  },
  {
   "cell_type": "code",
   "execution_count": 3,
   "metadata": {},
   "outputs": [],
   "source": [
    "from dask import delayed, compute\n",
    "from dask.diagnostics import ProgressBar"
   ]
  },
  {
   "cell_type": "code",
   "execution_count": 4,
   "metadata": {
    "papermill": {
     "duration": 0.012961,
     "end_time": "2020-02-06T23:46:40.218011",
     "exception": false,
     "start_time": "2020-02-06T23:46:40.205050",
     "status": "completed"
    },
    "tags": []
   },
   "outputs": [],
   "source": [
    "HOME = pathlib.Path.home()"
   ]
  },
  {
   "cell_type": "code",
   "execution_count": 5,
   "metadata": {},
   "outputs": [],
   "source": [
    "CWD = pathlib.Path.cwd()"
   ]
  },
  {
   "cell_type": "code",
   "execution_count": 6,
   "metadata": {},
   "outputs": [
    {
     "data": {
      "text/plain": [
       "PosixPath('/home/nicolasf/operational/ICU/development/hotspots/code/ICU_Water_Watch/notebooks/C3S')"
      ]
     },
     "execution_count": 6,
     "metadata": {},
     "output_type": "execute_result"
    }
   ],
   "source": [
    "CWD"
   ]
  },
  {
   "cell_type": "markdown",
   "metadata": {},
   "source": [
    "### import local functions for the downloading of the C3S forecasts "
   ]
  },
  {
   "cell_type": "code",
   "execution_count": 7,
   "metadata": {},
   "outputs": [],
   "source": [
    "sys.path.append('../..')"
   ]
  },
  {
   "cell_type": "code",
   "execution_count": 8,
   "metadata": {},
   "outputs": [],
   "source": [
    "from ICU_Water_Watch import C3S, domains"
   ]
  },
  {
   "cell_type": "markdown",
   "metadata": {},
   "source": [
    "### show the predefined domains "
   ]
  },
  {
   "cell_type": "code",
   "execution_count": 9,
   "metadata": {},
   "outputs": [
    {
     "data": {
      "text/plain": [
       "{'Tropical_Pacific': [140, 220, -25, 25],\n",
       " 'SW_Pacific': [172.5, 190, -22.5, -12],\n",
       " 'Fiji': [175, 183, -21, -15],\n",
       " 'NZ': [161, 181, -50, -30],\n",
       " 'Pacific': [140, 240, -50, 25],\n",
       " 'C3S_download': [100, 240, -50, 30],\n",
       " 'Water_Watch': [120, 240, -38, 22.5]}"
      ]
     },
     "execution_count": 9,
     "metadata": {},
     "output_type": "execute_result"
    }
   ],
   "source": [
    "domains.domains"
   ]
  },
  {
   "cell_type": "markdown",
   "metadata": {},
   "source": [
    "### provider (always CDS for now)"
   ]
  },
  {
   "cell_type": "code",
   "execution_count": 10,
   "metadata": {
    "papermill": {
     "duration": 0.012879,
     "end_time": "2020-02-06T23:46:40.239506",
     "exception": false,
     "start_time": "2020-02-06T23:46:40.226627",
     "status": "completed"
    },
    "tags": []
   },
   "outputs": [],
   "source": [
    "provider = 'CDS'"
   ]
  },
  {
   "cell_type": "markdown",
   "metadata": {},
   "source": [
    "### variable name"
   ]
  },
  {
   "cell_type": "code",
   "execution_count": 11,
   "metadata": {},
   "outputs": [],
   "source": [
    "var_name = 'tprate'"
   ]
  },
  {
   "cell_type": "markdown",
   "metadata": {},
   "source": [
    "### list of GCMs "
   ]
  },
  {
   "cell_type": "code",
   "execution_count": 12,
   "metadata": {},
   "outputs": [],
   "source": [
    "list_GCMs = ['ECMWF','UKMO','METEO_FRANCE','CMCC','DWD', 'NCEP', 'JMA', 'ECCC']"
   ]
  },
  {
   "cell_type": "markdown",
   "metadata": {},
   "source": [
    "### mapping GCM to systems "
   ]
  },
  {
   "cell_type": "code",
   "execution_count": 13,
   "metadata": {},
   "outputs": [],
   "source": [
    "from collections import OrderedDict as OD"
   ]
  },
  {
   "cell_type": "code",
   "execution_count": 14,
   "metadata": {},
   "outputs": [],
   "source": [
    "dict_systems = OD(\n",
    "                ECMWF=5, # SEAS5, hindcast complete \n",
    "                UKMO=600, # note: only for system 14 is hindcast complete\n",
    "                METEO_FRANCE=8, # note: only for system 7 is hindcast complete\n",
    "                DWD=21, # GCFS2.1, hindcast complete \n",
    "                CMCC=35, # SPSv3.5, hindcast complete \n",
    "                NCEP=2,# CFSv2, hindcast complete \n",
    "                JMA=2, # CPS2, hindcast complete\n",
    "                ECCC_GEM_NEMO=1, # GEM-NEMO, hindcast incomplete\n",
    "                ECCC_CanCM4i=2, # CanCM4i, hindcast incomplete\n",
    "                )"
   ]
  },
  {
   "cell_type": "markdown",
   "metadata": {},
   "source": [
    "### lag in months (if need to download older forecasts)"
   ]
  },
  {
   "cell_type": "code",
   "execution_count": 15,
   "metadata": {},
   "outputs": [],
   "source": [
    "lag = 0 "
   ]
  },
  {
   "cell_type": "markdown",
   "metadata": {},
   "source": [
    "### get today's date "
   ]
  },
  {
   "cell_type": "code",
   "execution_count": 16,
   "metadata": {},
   "outputs": [],
   "source": [
    "date = dateparser.parse('today')"
   ]
  },
  {
   "cell_type": "code",
   "execution_count": 17,
   "metadata": {},
   "outputs": [
    {
     "data": {
      "text/plain": [
       "datetime.datetime(2021, 11, 17, 9, 39, 45, 824414)"
      ]
     },
     "execution_count": 17,
     "metadata": {},
     "output_type": "execute_result"
    }
   ],
   "source": [
    "date"
   ]
  },
  {
   "cell_type": "markdown",
   "metadata": {},
   "source": [
    "### apply lag "
   ]
  },
  {
   "cell_type": "code",
   "execution_count": 18,
   "metadata": {},
   "outputs": [],
   "source": [
    "date = date - relativedelta(months=lag)"
   ]
  },
  {
   "cell_type": "code",
   "execution_count": 19,
   "metadata": {},
   "outputs": [
    {
     "name": "stdout",
     "output_type": "stream",
     "text": [
      "will download the forecasts issued in November 2021\n"
     ]
    }
   ],
   "source": [
    "print(f\"will download the forecasts issued in {date:%B %Y}\")"
   ]
  },
  {
   "cell_type": "markdown",
   "metadata": {},
   "source": [
    "### path to download the realtime forecasts "
   ]
  },
  {
   "cell_type": "code",
   "execution_count": 20,
   "metadata": {},
   "outputs": [],
   "source": [
    "gcm_path = pathlib.Path(f'/media/nicolasf/END19101/ICU/data/CDS/operational/forecasts')"
   ]
  },
  {
   "cell_type": "code",
   "execution_count": 21,
   "metadata": {},
   "outputs": [],
   "source": [
    "if not(gcm_path.exists()): \n",
    "    gcm_path.mkdir(parents=True)"
   ]
  },
  {
   "cell_type": "markdown",
   "metadata": {},
   "source": [
    "### use dask to parallelize the download of the forecasts "
   ]
  },
  {
   "cell_type": "code",
   "execution_count": 22,
   "metadata": {},
   "outputs": [
    {
     "data": {
      "text/plain": [
       "['ECMWF', 'UKMO', 'METEO_FRANCE', 'CMCC', 'DWD', 'NCEP', 'JMA', 'ECCC']"
      ]
     },
     "execution_count": 22,
     "metadata": {},
     "output_type": "execute_result"
    }
   ],
   "source": [
    "list_GCMs"
   ]
  },
  {
   "cell_type": "code",
   "execution_count": 24,
   "metadata": {},
   "outputs": [
    {
     "name": "stdout",
     "output_type": "stream",
     "text": [
      "processing ECCC, path should be /media/nicolasf/END19101/ICU/data/CDS/operational/forecasts/ECCC_GEM_NEMO/TPRATE\n",
      "processing ECCC, path should be /media/nicolasf/END19101/ICU/data/CDS/operational/forecasts/ECCC_CanCM4i/TPRATE\n"
     ]
    }
   ],
   "source": [
    "downloaded_files = []\n",
    "\n",
    "for GCM in dict_systems.keys():\n",
    "    \n",
    "    if 'ECCC' in GCM:\n",
    "        \n",
    "        GCM_API_name = GCM.split('_')[0]\n",
    "        GCM_path = gcm_path.joinpath(GCM).joinpath(var_name.upper())\n",
    "        \n",
    "        print(f\"processing ECCC, path should be {str(GCM_path)}\")\n",
    "    \n",
    "        args = dict(GCM=GCM_API_name,\n",
    "        varname=var_name,\n",
    "        year=date.year,\n",
    "        month=date.month,\n",
    "        leadtimes=[1, 2, 3, 4, 5, 6],\n",
    "        opath=GCM_path,\n",
    "        domain=domains.domains['C3S_download'],\n",
    "        file_format='netcdf',\n",
    "        level='surface',\n",
    "        max_retry=3)\n",
    "    \n",
    "    else: \n",
    "        \n",
    "        args = dict(GCM=GCM,\n",
    "        varname=var_name,\n",
    "        year=date.year,\n",
    "        month=date.month,\n",
    "        leadtimes=[1, 2, 3, 4, 5, 6],\n",
    "        opath=gcm_path.joinpath(GCM).joinpath(var_name.upper()),\n",
    "        domain=domains.domains['C3S_download'],\n",
    "        file_format='netcdf',\n",
    "        level='surface',\n",
    "        max_retry=3)    \n",
    "    \n",
    "    downloaded_files.append(delayed(C3S.download)(**args))\n"
   ]
  },
  {
   "cell_type": "code",
   "execution_count": 25,
   "metadata": {},
   "outputs": [
    {
     "name": "stdout",
     "output_type": "stream",
     "text": [
      "[                                        ] | 0% Completed |  0.0s\n",
      "/media/nicolasf/END19101/ICU/data/CDS/operational/forecasts/METEO_FRANCE/TPRATE/ensemble_seas_forecasts_tprate_from_2021_11_METEO_FRANCE.netcdf exists already on disk, skipping download and returning path\n",
      "\n",
      "\n",
      "/media/nicolasf/END19101/ICU/data/CDS/operational/forecasts/JMA/TPRATE/ensemble_seas_forecasts_tprate_from_2021_11_JMA.netcdf exists already on disk, skipping download and returning path\n",
      "\n",
      "/media/nicolasf/END19101/ICU/data/CDS/operational/forecasts/DWD/TPRATE/ensemble_seas_forecasts_tprate_from_2021_11_DWD.netcdf exists already on disk, skipping download and returning path\n",
      "\n",
      "\n",
      "/media/nicolasf/END19101/ICU/data/CDS/operational/forecasts/CMCC/TPRATE/ensemble_seas_forecasts_tprate_from_2021_11_CMCC.netcdf exists already on disk, skipping download and returning path\n",
      "\n",
      "\n",
      "/media/nicolasf/END19101/ICU/data/CDS/operational/forecasts/NCEP/TPRATE/ensemble_seas_forecasts_tprate_from_2021_11_NCEP.netcdf exists already on disk, skipping download and returning path\n",
      "\n",
      "\n",
      "\n",
      "/media/nicolasf/END19101/ICU/data/CDS/operational/forecasts/ECMWF/TPRATE/ensemble_seas_forecasts_tprate_from_2021_11_ECMWF.netcdf exists already on disk, skipping download and returning path\n",
      "\n",
      "\n",
      "/media/nicolasf/END19101/ICU/data/CDS/operational/forecasts/UKMO/TPRATE/ensemble_seas_forecasts_tprate_from_2021_11_UKMO.netcdf exists already on disk, skipping download and returning path\n",
      "\n",
      "\n",
      "attempting to download tprate for GCM ECCC, for level surface, year 2021, month 11, in netcdf, attempt 1 of 3\n",
      "\n",
      "\n",
      "attempting to download tprate for GCM ECCC, for level surface, year 2021, month 11, in netcdf, attempt 1 of 3\n",
      "\n",
      "[###############################         ] | 77% Completed |  1.6s"
     ]
    },
    {
     "name": "stderr",
     "output_type": "stream",
     "text": [
      "2021-11-17 09:40:35,552 INFO Welcome to the CDS\n",
      "2021-11-17 09:40:35,555 INFO Welcome to the CDS\n",
      "2021-11-17 09:40:35,556 INFO Sending request to https://cds.climate.copernicus.eu/api/v2/resources/seasonal-monthly-single-levels\n",
      "2021-11-17 09:40:35,558 INFO Sending request to https://cds.climate.copernicus.eu/api/v2/resources/seasonal-monthly-single-levels\n"
     ]
    },
    {
     "name": "stdout",
     "output_type": "stream",
     "text": [
      "[###############################         ] | 77% Completed |  2.1s"
     ]
    },
    {
     "name": "stderr",
     "output_type": "stream",
     "text": [
      "2021-11-17 09:40:36,063 INFO Request is completed\n",
      "2021-11-17 09:40:36,065 INFO Downloading https://download-0009.copernicus-climate.eu/cache-compute-0009/cache/data1/adaptor.mars.external-1637016363.898373-30320-13-de9209f7-2025-47fa-8b44-8cd67fbd9a94.nc to /media/nicolasf/END19101/ICU/data/CDS/operational/forecasts/ECCC_CanCM4i/TPRATE/ensemble_seas_forecasts_tprate_from_2021_11_ECCC.netcdf (2.2M)\n",
      "2021-11-17 09:40:36,073 INFO Request is completed\n",
      "2021-11-17 09:40:36,076 INFO Downloading https://download-0009.copernicus-climate.eu/cache-compute-0009/cache/data1/adaptor.mars.external-1637016363.898373-30320-13-de9209f7-2025-47fa-8b44-8cd67fbd9a94.nc to /media/nicolasf/END19101/ICU/data/CDS/operational/forecasts/ECCC_GEM_NEMO/TPRATE/ensemble_seas_forecasts_tprate_from_2021_11_ECCC.netcdf (2.2M)\n"
     ]
    },
    {
     "name": "stdout",
     "output_type": "stream",
     "text": [
      "[###############################         ] | 77% Completed |  4.3s"
     ]
    },
    {
     "name": "stderr",
     "output_type": "stream",
     "text": [
      "  0%|          | 0.00/2.18M [00:00<?, ?B/s]\n",
      "  0%|          | 0.00/2.18M [00:00<?, ?B/s]\u001b[A"
     ]
    },
    {
     "name": "stdout",
     "output_type": "stream",
     "text": [
      "[###############################         ] | 77% Completed |  4.6s"
     ]
    },
    {
     "name": "stderr",
     "output_type": "stream",
     "text": [
      "  1%|          | 16.0k/2.18M [00:00<00:46, 48.7kB/s]\n",
      "  1%|          | 16.0k/2.18M [00:00<00:46, 49.0kB/s]\u001b[A"
     ]
    },
    {
     "name": "stdout",
     "output_type": "stream",
     "text": [
      "[###############################         ] | 77% Completed |  5.3s"
     ]
    },
    {
     "name": "stderr",
     "output_type": "stream",
     "text": [
      "  2%|▏         | 50.0k/2.18M [00:01<00:44, 50.5kB/s]\n",
      "  2%|▏         | 34.0k/2.18M [00:01<01:09, 32.6kB/s]\u001b[A"
     ]
    },
    {
     "name": "stdout",
     "output_type": "stream",
     "text": [
      "[###############################         ] | 77% Completed |  5.7s"
     ]
    },
    {
     "name": "stderr",
     "output_type": "stream",
     "text": [
      "  5%|▍         | 105k/2.18M [00:01<00:25, 84.4kB/s] \n",
      "  2%|▏         | 44.0k/2.18M [00:01<01:15, 29.7kB/s]\u001b[A"
     ]
    },
    {
     "name": "stdout",
     "output_type": "stream",
     "text": [
      "[###############################         ] | 77% Completed |  6.1s"
     ]
    },
    {
     "name": "stderr",
     "output_type": "stream",
     "text": [
      "  6%|▌         | 129k/2.18M [00:01<00:28, 75.3kB/s]\n",
      "  4%|▍         | 96.0k/2.18M [00:01<00:33, 65.3kB/s]\u001b[A"
     ]
    },
    {
     "name": "stdout",
     "output_type": "stream",
     "text": [
      "[###############################         ] | 77% Completed |  6.5s"
     ]
    },
    {
     "name": "stderr",
     "output_type": "stream",
     "text": [
      "  7%|▋         | 153k/2.18M [00:02<00:30, 70.4kB/s]\n",
      "  6%|▌         | 128k/2.18M [00:02<00:30, 70.5kB/s] \u001b[A"
     ]
    },
    {
     "name": "stdout",
     "output_type": "stream",
     "text": [
      "[###############################         ] | 77% Completed |  6.9s"
     ]
    },
    {
     "name": "stderr",
     "output_type": "stream",
     "text": [
      "  8%|▊         | 185k/2.18M [00:02<00:28, 73.6kB/s]"
     ]
    },
    {
     "name": "stdout",
     "output_type": "stream",
     "text": [
      "[###############################         ] | 77% Completed |  7.3s"
     ]
    },
    {
     "name": "stderr",
     "output_type": "stream",
     "text": [
      " 10%|▉         | 217k/2.18M [00:03<00:27, 75.6kB/s]"
     ]
    },
    {
     "name": "stdout",
     "output_type": "stream",
     "text": [
      "[###############################         ] | 77% Completed |  7.6s"
     ]
    },
    {
     "name": "stderr",
     "output_type": "stream",
     "text": [
      " 11%|█         | 249k/2.18M [00:03<00:23, 84.8kB/s]"
     ]
    },
    {
     "name": "stdout",
     "output_type": "stream",
     "text": [
      "[###############################         ] | 77% Completed |  7.9s"
     ]
    },
    {
     "name": "stderr",
     "output_type": "stream",
     "text": [
      " 13%|█▎        | 286k/2.18M [00:03<00:21, 93.5kB/s]"
     ]
    },
    {
     "name": "stdout",
     "output_type": "stream",
     "text": [
      "[###############################         ] | 77% Completed |  8.4s"
     ]
    },
    {
     "name": "stderr",
     "output_type": "stream",
     "text": [
      " 14%|█▍        | 318k/2.18M [00:04<00:21, 89.1kB/s]"
     ]
    },
    {
     "name": "stdout",
     "output_type": "stream",
     "text": [
      "[###############################         ] | 77% Completed |  8.7s"
     ]
    },
    {
     "name": "stderr",
     "output_type": "stream",
     "text": [
      " 16%|█▌        | 350k/2.18M [00:04<00:20, 93.9kB/s]"
     ]
    },
    {
     "name": "stdout",
     "output_type": "stream",
     "text": [
      "[###############################         ] | 77% Completed |  9.1s"
     ]
    },
    {
     "name": "stderr",
     "output_type": "stream",
     "text": [
      " 17%|█▋        | 382k/2.18M [00:04<00:21, 89.2kB/s]"
     ]
    },
    {
     "name": "stdout",
     "output_type": "stream",
     "text": [
      "[###############################         ] | 77% Completed |  9.4s"
     ]
    },
    {
     "name": "stderr",
     "output_type": "stream",
     "text": [
      "\n",
      "  7%|▋         | 160k/2.18M [00:05<01:26, 24.6kB/s]"
     ]
    },
    {
     "name": "stdout",
     "output_type": "stream",
     "text": [
      "[###############################         ] | 77% Completed |  9.5s"
     ]
    },
    {
     "name": "stderr",
     "output_type": "stream",
     "text": [
      " 19%|█▉        | 422k/2.18M [00:05<00:19, 96.4kB/s]"
     ]
    },
    {
     "name": "stdout",
     "output_type": "stream",
     "text": [
      "[###############################         ] | 77% Completed |  9.8s"
     ]
    },
    {
     "name": "stderr",
     "output_type": "stream",
     "text": [
      " 20%|██        | 454k/2.18M [00:05<00:19, 95.1kB/s]"
     ]
    },
    {
     "name": "stdout",
     "output_type": "stream",
     "text": [
      "[###############################         ] | 77% Completed | 10.3s"
     ]
    },
    {
     "name": "stderr",
     "output_type": "stream",
     "text": [
      " 22%|██▏       | 486k/2.18M [00:06<00:21, 83.3kB/s]\n",
      " 12%|█▏        | 277k/2.18M [00:06<00:38, 52.6kB/s]\u001b[A"
     ]
    },
    {
     "name": "stdout",
     "output_type": "stream",
     "text": [
      "[###############################         ] | 77% Completed | 10.7s"
     ]
    },
    {
     "name": "stderr",
     "output_type": "stream",
     "text": [
      " 24%|██▎       | 526k/2.18M [00:06<00:19, 88.3kB/s]"
     ]
    },
    {
     "name": "stdout",
     "output_type": "stream",
     "text": [
      "[###############################         ] | 77% Completed | 11.1s"
     ]
    },
    {
     "name": "stderr",
     "output_type": "stream",
     "text": [
      " 25%|██▌       | 566k/2.18M [00:06<00:18, 91.9kB/s]"
     ]
    },
    {
     "name": "stdout",
     "output_type": "stream",
     "text": [
      "[###############################         ] | 77% Completed | 11.4s"
     ]
    },
    {
     "name": "stderr",
     "output_type": "stream",
     "text": [
      " 27%|██▋       | 606k/2.18M [00:07<00:16, 103kB/s] "
     ]
    },
    {
     "name": "stdout",
     "output_type": "stream",
     "text": [
      "[###############################         ] | 77% Completed | 11.7s"
     ]
    },
    {
     "name": "stderr",
     "output_type": "stream",
     "text": [
      " 29%|██▉       | 646k/2.18M [00:07<00:14, 110kB/s]\n",
      " 13%|█▎        | 301k/2.18M [00:07<00:50, 39.3kB/s]\u001b[A"
     ]
    },
    {
     "name": "stdout",
     "output_type": "stream",
     "text": [
      "[###############################         ] | 77% Completed | 12.0s"
     ]
    },
    {
     "name": "stderr",
     "output_type": "stream",
     "text": [
      " 31%|███       | 686k/2.18M [00:07<00:13, 116kB/s]\n",
      " 16%|█▌        | 349k/2.18M [00:07<00:37, 51.9kB/s]\u001b[A"
     ]
    },
    {
     "name": "stdout",
     "output_type": "stream",
     "text": [
      "[###############################         ] | 77% Completed | 12.8s"
     ]
    },
    {
     "name": "stderr",
     "output_type": "stream",
     "text": [
      " 33%|███▎      | 726k/2.18M [00:08<00:18, 82.7kB/s]\n",
      " 17%|█▋        | 389k/2.18M [00:08<00:36, 51.4kB/s]\u001b[A"
     ]
    },
    {
     "name": "stdout",
     "output_type": "stream",
     "text": [
      "[###############################         ] | 77% Completed | 13.2s"
     ]
    },
    {
     "name": "stderr",
     "output_type": "stream",
     "text": [
      " 36%|███▌      | 806k/2.18M [00:09<00:12, 114kB/s] "
     ]
    },
    {
     "name": "stdout",
     "output_type": "stream",
     "text": [
      "[###############################         ] | 77% Completed | 13.7s"
     ]
    },
    {
     "name": "stderr",
     "output_type": "stream",
     "text": [
      " 38%|███▊      | 838k/2.18M [00:09<00:13, 105kB/s]\n",
      " 19%|█▉        | 421k/2.18M [00:09<00:38, 48.2kB/s]\u001b[A"
     ]
    },
    {
     "name": "stdout",
     "output_type": "stream",
     "text": [
      "[###############################         ] | 77% Completed | 14.1s"
     ]
    },
    {
     "name": "stderr",
     "output_type": "stream",
     "text": [
      " 39%|███▉      | 873k/2.18M [00:09<00:13, 99.7kB/s]\n",
      " 21%|██        | 463k/2.18M [00:09<00:31, 57.7kB/s]\u001b[A"
     ]
    },
    {
     "name": "stdout",
     "output_type": "stream",
     "text": [
      "[###############################         ] | 77% Completed | 14.5s"
     ]
    },
    {
     "name": "stderr",
     "output_type": "stream",
     "text": [
      " 41%|████      | 913k/2.18M [00:10<00:13, 99.9kB/s]\n",
      " 21%|██▏       | 479k/2.18M [00:10<00:33, 54.3kB/s]\u001b[A"
     ]
    },
    {
     "name": "stdout",
     "output_type": "stream",
     "text": [
      "[###############################         ] | 77% Completed | 14.8s"
     ]
    },
    {
     "name": "stderr",
     "output_type": "stream",
     "text": [
      " 42%|████▏     | 945k/2.18M [00:10<00:13, 101kB/s] \n",
      " 22%|██▏       | 495k/2.18M [00:10<00:32, 54.1kB/s]\u001b[A"
     ]
    },
    {
     "name": "stdout",
     "output_type": "stream",
     "text": [
      "[###############################         ] | 77% Completed | 15.1s"
     ]
    },
    {
     "name": "stderr",
     "output_type": "stream",
     "text": [
      " 44%|████▍     | 985k/2.18M [00:10<00:11, 109kB/s]\n",
      " 23%|██▎       | 511k/2.18M [00:10<00:32, 54.1kB/s]\u001b[A"
     ]
    },
    {
     "name": "stdout",
     "output_type": "stream",
     "text": [
      "[###############################         ] | 77% Completed | 15.4s"
     ]
    },
    {
     "name": "stderr",
     "output_type": "stream",
     "text": [
      " 46%|████▌     | 1.00M/2.18M [00:11<00:10, 116kB/s]\n",
      " 24%|██▎       | 527k/2.18M [00:11<00:32, 53.7kB/s]\u001b[A"
     ]
    },
    {
     "name": "stdout",
     "output_type": "stream",
     "text": [
      "[###############################         ] | 77% Completed | 15.8s"
     ]
    },
    {
     "name": "stderr",
     "output_type": "stream",
     "text": [
      " 48%|████▊     | 1.05M/2.18M [00:11<00:10, 117kB/s]\n",
      " 24%|██▍       | 543k/2.18M [00:11<00:34, 49.8kB/s]\u001b[A"
     ]
    },
    {
     "name": "stdout",
     "output_type": "stream",
     "text": [
      "[###############################         ] | 77% Completed | 16.5s"
     ]
    },
    {
     "name": "stderr",
     "output_type": "stream",
     "text": [
      " 50%|████▉     | 1.09M/2.18M [00:12<00:12, 90.8kB/s]"
     ]
    },
    {
     "name": "stdout",
     "output_type": "stream",
     "text": [
      "[###############################         ] | 77% Completed | 16.9s"
     ]
    },
    {
     "name": "stderr",
     "output_type": "stream",
     "text": [
      " 53%|█████▎    | 1.16M/2.18M [00:12<00:09, 116kB/s] \n",
      " 25%|██▌       | 559k/2.18M [00:12<00:55, 30.9kB/s]\u001b[A"
     ]
    },
    {
     "name": "stdout",
     "output_type": "stream",
     "text": [
      "[###############################         ] | 77% Completed | 17.3s"
     ]
    },
    {
     "name": "stderr",
     "output_type": "stream",
     "text": [
      " 55%|█████▍    | 1.19M/2.18M [00:13<00:09, 106kB/s]\n",
      " 27%|██▋       | 607k/2.18M [00:13<00:33, 50.2kB/s]\u001b[A"
     ]
    },
    {
     "name": "stdout",
     "output_type": "stream",
     "text": [
      "[###############################         ] | 77% Completed | 17.7s"
     ]
    },
    {
     "name": "stderr",
     "output_type": "stream",
     "text": [
      " 56%|█████▌    | 1.22M/2.18M [00:13<00:10, 98.2kB/s]\n",
      " 28%|██▊       | 623k/2.18M [00:13<00:34, 47.7kB/s]\u001b[A"
     ]
    },
    {
     "name": "stdout",
     "output_type": "stream",
     "text": [
      "[###############################         ] | 77% Completed | 18.1s"
     ]
    },
    {
     "name": "stderr",
     "output_type": "stream",
     "text": [
      " 58%|█████▊    | 1.26M/2.18M [00:13<00:09, 99.0kB/s]\n",
      " 29%|██▊       | 639k/2.18M [00:13<00:35, 45.9kB/s]\u001b[A"
     ]
    },
    {
     "name": "stdout",
     "output_type": "stream",
     "text": [
      "[###############################         ] | 77% Completed | 18.4s"
     ]
    },
    {
     "name": "stderr",
     "output_type": "stream",
     "text": [
      " 59%|█████▉    | 1.29M/2.18M [00:14<00:09, 101kB/s] \n",
      " 29%|██▉       | 655k/2.18M [00:14<00:33, 47.5kB/s]\u001b[A"
     ]
    },
    {
     "name": "stdout",
     "output_type": "stream",
     "text": [
      "[###############################         ] | 77% Completed | 18.9s"
     ]
    },
    {
     "name": "stderr",
     "output_type": "stream",
     "text": [
      " 61%|██████    | 1.33M/2.18M [00:14<00:08, 101kB/s]\n",
      " 30%|███       | 671k/2.18M [00:14<00:35, 45.3kB/s]\u001b[A"
     ]
    },
    {
     "name": "stdout",
     "output_type": "stream",
     "text": [
      "[###############################         ] | 77% Completed | 19.8s"
     ]
    },
    {
     "name": "stderr",
     "output_type": "stream",
     "text": [
      "\n",
      " 31%|███       | 695k/2.18M [00:15<00:42, 37.0kB/s]\u001b[A"
     ]
    },
    {
     "name": "stdout",
     "output_type": "stream",
     "text": [
      "[###############################         ] | 77% Completed | 20.2s"
     ]
    },
    {
     "name": "stderr",
     "output_type": "stream",
     "text": [
      "\n",
      " 33%|███▎      | 727k/2.18M [00:15<00:31, 49.0kB/s]\u001b[A"
     ]
    },
    {
     "name": "stdout",
     "output_type": "stream",
     "text": [
      "[###############################         ] | 77% Completed | 20.5s"
     ]
    },
    {
     "name": "stderr",
     "output_type": "stream",
     "text": [
      " 63%|██████▎   | 1.37M/2.18M [00:16<00:16, 52.3kB/s]"
     ]
    },
    {
     "name": "stdout",
     "output_type": "stream",
     "text": [
      "[###############################         ] | 77% Completed | 20.6s"
     ]
    },
    {
     "name": "stderr",
     "output_type": "stream",
     "text": [
      "\n",
      " 33%|███▎      | 743k/2.18M [00:16<00:32, 46.9kB/s]\u001b[A"
     ]
    },
    {
     "name": "stdout",
     "output_type": "stream",
     "text": [
      "[###############################         ] | 77% Completed | 21.2s"
     ]
    },
    {
     "name": "stderr",
     "output_type": "stream",
     "text": [
      " 63%|██████▎   | 1.38M/2.18M [00:16<00:19, 42.3kB/s]\n",
      " 34%|███▎      | 751k/2.18M [00:16<00:43, 34.8kB/s]\u001b[A"
     ]
    },
    {
     "name": "stdout",
     "output_type": "stream",
     "text": [
      "[###############################         ] | 77% Completed | 21.5s"
     ]
    },
    {
     "name": "stderr",
     "output_type": "stream",
     "text": [
      " 64%|██████▍   | 1.39M/2.18M [00:17<00:18, 43.9kB/s]\n",
      " 34%|███▍      | 767k/2.18M [00:17<00:39, 38.5kB/s]\u001b[A"
     ]
    },
    {
     "name": "stdout",
     "output_type": "stream",
     "text": [
      "[###############################         ] | 77% Completed | 21.9s"
     ]
    },
    {
     "name": "stderr",
     "output_type": "stream",
     "text": [
      " 65%|██████▍   | 1.41M/2.18M [00:17<00:19, 41.4kB/s]\n",
      " 35%|███▌      | 791k/2.18M [00:17<00:33, 44.5kB/s]\u001b[A"
     ]
    },
    {
     "name": "stdout",
     "output_type": "stream",
     "text": [
      "[###############################         ] | 77% Completed | 22.3s"
     ]
    },
    {
     "name": "stderr",
     "output_type": "stream",
     "text": [
      " 66%|██████▌   | 1.44M/2.18M [00:18<00:15, 50.8kB/s]\n",
      " 36%|███▌      | 807k/2.18M [00:18<00:33, 43.3kB/s]\u001b[A"
     ]
    },
    {
     "name": "stdout",
     "output_type": "stream",
     "text": [
      "[###############################         ] | 77% Completed | 22.7s"
     ]
    },
    {
     "name": "stderr",
     "output_type": "stream",
     "text": [
      " 68%|██████▊   | 1.48M/2.18M [00:18<00:11, 62.3kB/s]\n",
      " 37%|███▋      | 823k/2.18M [00:18<00:34, 42.4kB/s]\u001b[A"
     ]
    },
    {
     "name": "stdout",
     "output_type": "stream",
     "text": [
      "[###############################         ] | 77% Completed | 23.1s"
     ]
    },
    {
     "name": "stderr",
     "output_type": "stream",
     "text": [
      " 69%|██████▊   | 1.50M/2.18M [00:18<00:11, 61.8kB/s]\n",
      " 38%|███▊      | 847k/2.18M [00:18<00:29, 47.5kB/s]\u001b[A"
     ]
    },
    {
     "name": "stdout",
     "output_type": "stream",
     "text": [
      "[###############################         ] | 77% Completed | 23.3s"
     ]
    },
    {
     "name": "stderr",
     "output_type": "stream",
     "text": [
      " 70%|███████   | 1.54M/2.18M [00:19<00:08, 76.6kB/s]"
     ]
    },
    {
     "name": "stdout",
     "output_type": "stream",
     "text": [
      "[###############################         ] | 77% Completed | 23.4s"
     ]
    },
    {
     "name": "stderr",
     "output_type": "stream",
     "text": [
      "\n",
      " 39%|███▊      | 863k/2.18M [00:19<00:28, 49.5kB/s]\u001b[A"
     ]
    },
    {
     "name": "stdout",
     "output_type": "stream",
     "text": [
      "[###############################         ] | 77% Completed | 23.7s"
     ]
    },
    {
     "name": "stderr",
     "output_type": "stream",
     "text": [
      " 72%|███████▏  | 1.57M/2.18M [00:19<00:07, 88.9kB/s]\n",
      " 39%|███▉      | 879k/2.18M [00:19<00:27, 49.7kB/s]\u001b[A"
     ]
    },
    {
     "name": "stdout",
     "output_type": "stream",
     "text": [
      "[###############################         ] | 77% Completed | 24.0s"
     ]
    },
    {
     "name": "stderr",
     "output_type": "stream",
     "text": [
      " 74%|███████▎  | 1.61M/2.18M [00:19<00:06, 93.5kB/s]"
     ]
    },
    {
     "name": "stdout",
     "output_type": "stream",
     "text": [
      "[###############################         ] | 77% Completed | 24.5s"
     ]
    },
    {
     "name": "stderr",
     "output_type": "stream",
     "text": [
      " 76%|███████▌  | 1.65M/2.18M [00:20<00:05, 97.3kB/s]\n",
      " 40%|████      | 903k/2.18M [00:20<00:31, 42.7kB/s]\u001b[A"
     ]
    },
    {
     "name": "stdout",
     "output_type": "stream",
     "text": [
      "[###############################         ] | 77% Completed | 24.9s"
     ]
    },
    {
     "name": "stderr",
     "output_type": "stream",
     "text": [
      " 77%|███████▋  | 1.69M/2.18M [00:20<00:05, 99.1kB/s]\n",
      " 42%|████▏     | 935k/2.18M [00:20<00:25, 52.9kB/s]\u001b[A"
     ]
    },
    {
     "name": "stdout",
     "output_type": "stream",
     "text": [
      "[###############################         ] | 77% Completed | 25.4s"
     ]
    },
    {
     "name": "stderr",
     "output_type": "stream",
     "text": [
      " 79%|███████▉  | 1.73M/2.18M [00:21<00:05, 92.1kB/s]\n",
      " 43%|████▎     | 951k/2.18M [00:21<00:28, 46.0kB/s]\u001b[A"
     ]
    },
    {
     "name": "stdout",
     "output_type": "stream",
     "text": [
      "[###############################         ] | 77% Completed | 25.8s"
     ]
    },
    {
     "name": "stderr",
     "output_type": "stream",
     "text": [
      " 81%|████████  | 1.76M/2.18M [00:21<00:04, 94.3kB/s]\n",
      " 43%|████▎     | 967k/2.18M [00:21<00:29, 44.3kB/s]\u001b[A"
     ]
    },
    {
     "name": "stdout",
     "output_type": "stream",
     "text": [
      "[###############################         ] | 77% Completed | 26.2s"
     ]
    },
    {
     "name": "stderr",
     "output_type": "stream",
     "text": [
      " 83%|████████▎ | 1.80M/2.18M [00:21<00:04, 96.3kB/s]"
     ]
    },
    {
     "name": "stdout",
     "output_type": "stream",
     "text": [
      "[###############################         ] | 77% Completed | 26.5s"
     ]
    },
    {
     "name": "stderr",
     "output_type": "stream",
     "text": [
      " 85%|████████▌ | 1.86M/2.18M [00:22<00:02, 119kB/s] \n",
      " 44%|████▎     | 975k/2.18M [00:22<00:41, 31.3kB/s]\u001b[A"
     ]
    },
    {
     "name": "stdout",
     "output_type": "stream",
     "text": [
      "[###############################         ] | 77% Completed | 26.8s"
     ]
    },
    {
     "name": "stderr",
     "output_type": "stream",
     "text": [
      " 87%|████████▋ | 1.90M/2.18M [00:22<00:02, 127kB/s]"
     ]
    },
    {
     "name": "stdout",
     "output_type": "stream",
     "text": [
      "[###############################         ] | 77% Completed | 27.1s"
     ]
    },
    {
     "name": "stderr",
     "output_type": "stream",
     "text": [
      " 90%|████████▉ | 1.96M/2.18M [00:22<00:01, 143kB/s]"
     ]
    },
    {
     "name": "stdout",
     "output_type": "stream",
     "text": [
      "[###############################         ] | 77% Completed | 27.5s"
     ]
    },
    {
     "name": "stderr",
     "output_type": "stream",
     "text": [
      " 93%|█████████▎| 2.02M/2.18M [00:23<00:01, 149kB/s]"
     ]
    },
    {
     "name": "stdout",
     "output_type": "stream",
     "text": [
      "[###############################         ] | 77% Completed | 28.3s"
     ]
    },
    {
     "name": "stderr",
     "output_type": "stream",
     "text": [
      " 95%|█████████▌| 2.08M/2.18M [00:24<00:00, 110kB/s]"
     ]
    },
    {
     "name": "stdout",
     "output_type": "stream",
     "text": [
      "[###############################         ] | 77% Completed | 28.6s"
     ]
    },
    {
     "name": "stderr",
     "output_type": "stream",
     "text": [
      " 98%|█████████▊| 2.14M/2.18M [00:24<00:00, 133kB/s]"
     ]
    },
    {
     "name": "stdout",
     "output_type": "stream",
     "text": [
      "[###############################         ] | 77% Completed | 28.7s"
     ]
    },
    {
     "name": "stderr",
     "output_type": "stream",
     "text": [
      "2021-11-17 09:41:02,681 INFO Download rate 83.9K/s \n"
     ]
    },
    {
     "name": "stdout",
     "output_type": "stream",
     "text": [
      "[###############################         ] | 77% Completed | 28.9s"
     ]
    },
    {
     "name": "stderr",
     "output_type": "stream",
     "text": [
      "\n",
      " 45%|████▌     | 0.98M/2.18M [00:24<01:05, 19.3kB/s]\u001b[A"
     ]
    },
    {
     "name": "stdout",
     "output_type": "stream",
     "text": [
      "[###############################         ] | 77% Completed | 29.0s\n",
      "/media/nicolasf/END19101/ICU/data/CDS/operational/forecasts/ECCC_GEM_NEMO/TPRATE/ensemble_seas_forecasts_tprate_from_2021_11_ECCC.netcdf downloaded OK\n",
      "\n",
      "[###################################     ] | 88% Completed | 29.9s"
     ]
    },
    {
     "name": "stderr",
     "output_type": "stream",
     "text": [
      "\n",
      " 45%|████▌     | 0.99M/2.18M [00:25<01:17, 16.1kB/s]\u001b[A"
     ]
    },
    {
     "name": "stdout",
     "output_type": "stream",
     "text": [
      "[###################################     ] | 88% Completed | 30.4s"
     ]
    },
    {
     "name": "stderr",
     "output_type": "stream",
     "text": [
      "\n",
      " 46%|████▌     | 1.00M/2.18M [00:26<01:14, 16.6kB/s]\u001b[A"
     ]
    },
    {
     "name": "stdout",
     "output_type": "stream",
     "text": [
      "[###################################     ] | 88% Completed | 30.8s"
     ]
    },
    {
     "name": "stderr",
     "output_type": "stream",
     "text": [
      "\n",
      " 47%|████▋     | 1.01M/2.18M [00:26<00:59, 20.5kB/s]\u001b[A"
     ]
    },
    {
     "name": "stdout",
     "output_type": "stream",
     "text": [
      "[###################################     ] | 88% Completed | 31.1s"
     ]
    },
    {
     "name": "stderr",
     "output_type": "stream",
     "text": [
      "\n",
      " 47%|████▋     | 1.02M/2.18M [00:26<00:56, 21.6kB/s]\u001b[A"
     ]
    },
    {
     "name": "stdout",
     "output_type": "stream",
     "text": [
      "[###################################     ] | 88% Completed | 31.4s"
     ]
    },
    {
     "name": "stderr",
     "output_type": "stream",
     "text": [
      "\n",
      " 47%|████▋     | 1.03M/2.18M [00:27<00:53, 22.7kB/s]\u001b[A"
     ]
    },
    {
     "name": "stdout",
     "output_type": "stream",
     "text": [
      "[###################################     ] | 88% Completed | 31.7s"
     ]
    },
    {
     "name": "stderr",
     "output_type": "stream",
     "text": [
      "\n",
      " 48%|████▊     | 1.05M/2.18M [00:27<00:41, 28.4kB/s]\u001b[A"
     ]
    },
    {
     "name": "stdout",
     "output_type": "stream",
     "text": [
      "[###################################     ] | 88% Completed | 32.1s"
     ]
    },
    {
     "name": "stderr",
     "output_type": "stream",
     "text": [
      "\n",
      " 48%|████▊     | 1.05M/2.18M [00:27<00:45, 26.1kB/s]\u001b[A"
     ]
    },
    {
     "name": "stdout",
     "output_type": "stream",
     "text": [
      "[###################################     ] | 88% Completed | 32.5s"
     ]
    },
    {
     "name": "stderr",
     "output_type": "stream",
     "text": [
      "\n",
      " 49%|████▊     | 1.06M/2.18M [00:28<00:48, 24.4kB/s]\u001b[A"
     ]
    },
    {
     "name": "stdout",
     "output_type": "stream",
     "text": [
      "[###################################     ] | 88% Completed | 32.9s"
     ]
    },
    {
     "name": "stderr",
     "output_type": "stream",
     "text": [
      "\n",
      " 49%|████▉     | 1.08M/2.18M [00:28<00:40, 28.8kB/s]\u001b[A"
     ]
    },
    {
     "name": "stdout",
     "output_type": "stream",
     "text": [
      "[###################################     ] | 88% Completed | 33.2s"
     ]
    },
    {
     "name": "stderr",
     "output_type": "stream",
     "text": [
      "\n",
      " 50%|█████     | 1.09M/2.18M [00:28<00:32, 34.6kB/s]\u001b[A"
     ]
    },
    {
     "name": "stdout",
     "output_type": "stream",
     "text": [
      "[###################################     ] | 88% Completed | 33.6s"
     ]
    },
    {
     "name": "stderr",
     "output_type": "stream",
     "text": [
      "\n",
      " 51%|█████     | 1.11M/2.18M [00:29<00:30, 36.4kB/s]\u001b[A"
     ]
    },
    {
     "name": "stdout",
     "output_type": "stream",
     "text": [
      "[###################################     ] | 88% Completed | 34.0s"
     ]
    },
    {
     "name": "stderr",
     "output_type": "stream",
     "text": [
      "\n",
      " 52%|█████▏    | 1.12M/2.18M [00:29<00:29, 37.4kB/s]\u001b[A"
     ]
    },
    {
     "name": "stdout",
     "output_type": "stream",
     "text": [
      "[###################################     ] | 88% Completed | 34.4s"
     ]
    },
    {
     "name": "stderr",
     "output_type": "stream",
     "text": [
      "\n",
      " 53%|█████▎    | 1.15M/2.18M [00:30<00:23, 46.0kB/s]\u001b[A"
     ]
    },
    {
     "name": "stdout",
     "output_type": "stream",
     "text": [
      "[###################################     ] | 88% Completed | 34.7s"
     ]
    },
    {
     "name": "stderr",
     "output_type": "stream",
     "text": [
      "\n",
      " 54%|█████▎    | 1.17M/2.18M [00:30<00:20, 52.5kB/s]\u001b[A"
     ]
    },
    {
     "name": "stdout",
     "output_type": "stream",
     "text": [
      "[###################################     ] | 88% Completed | 35.2s"
     ]
    },
    {
     "name": "stderr",
     "output_type": "stream",
     "text": [
      "\n",
      " 55%|█████▍    | 1.19M/2.18M [00:30<00:19, 54.1kB/s]\u001b[A"
     ]
    },
    {
     "name": "stdout",
     "output_type": "stream",
     "text": [
      "[###################################     ] | 88% Completed | 35.5s"
     ]
    },
    {
     "name": "stderr",
     "output_type": "stream",
     "text": [
      "\n",
      " 56%|█████▌    | 1.22M/2.18M [00:31<00:17, 56.7kB/s]\u001b[A"
     ]
    },
    {
     "name": "stdout",
     "output_type": "stream",
     "text": [
      "[###################################     ] | 88% Completed | 36.0s"
     ]
    },
    {
     "name": "stderr",
     "output_type": "stream",
     "text": [
      "\n",
      " 57%|█████▋    | 1.25M/2.18M [00:31<00:15, 61.5kB/s]\u001b[A"
     ]
    },
    {
     "name": "stdout",
     "output_type": "stream",
     "text": [
      "[###################################     ] | 88% Completed | 36.3s"
     ]
    },
    {
     "name": "stderr",
     "output_type": "stream",
     "text": [
      "\n",
      " 58%|█████▊    | 1.27M/2.18M [00:32<00:14, 67.0kB/s]\u001b[A"
     ]
    },
    {
     "name": "stdout",
     "output_type": "stream",
     "text": [
      "[###################################     ] | 88% Completed | 36.6s"
     ]
    },
    {
     "name": "stderr",
     "output_type": "stream",
     "text": [
      "\n",
      " 60%|█████▉    | 1.30M/2.18M [00:32<00:11, 78.3kB/s]\u001b[A"
     ]
    },
    {
     "name": "stdout",
     "output_type": "stream",
     "text": [
      "[###################################     ] | 88% Completed | 37.0s"
     ]
    },
    {
     "name": "stderr",
     "output_type": "stream",
     "text": [
      "\n",
      " 61%|██████    | 1.33M/2.18M [00:32<00:11, 77.9kB/s]\u001b[A"
     ]
    },
    {
     "name": "stdout",
     "output_type": "stream",
     "text": [
      "[###################################     ] | 88% Completed | 37.4s"
     ]
    },
    {
     "name": "stderr",
     "output_type": "stream",
     "text": [
      "\n",
      " 63%|██████▎   | 1.37M/2.18M [00:33<00:09, 85.0kB/s]\u001b[A"
     ]
    },
    {
     "name": "stdout",
     "output_type": "stream",
     "text": [
      "[###################################     ] | 88% Completed | 37.7s"
     ]
    },
    {
     "name": "stderr",
     "output_type": "stream",
     "text": [
      "\n",
      " 65%|██████▍   | 1.41M/2.18M [00:33<00:08, 98.6kB/s]\u001b[A"
     ]
    },
    {
     "name": "stdout",
     "output_type": "stream",
     "text": [
      "[###################################     ] | 88% Completed | 38.0s"
     ]
    },
    {
     "name": "stderr",
     "output_type": "stream",
     "text": [
      "\n",
      " 67%|██████▋   | 1.46M/2.18M [00:33<00:06, 114kB/s] \u001b[A"
     ]
    },
    {
     "name": "stdout",
     "output_type": "stream",
     "text": [
      "[###################################     ] | 88% Completed | 38.3s"
     ]
    },
    {
     "name": "stderr",
     "output_type": "stream",
     "text": [
      "\n",
      " 69%|██████▉   | 1.50M/2.18M [00:34<00:05, 123kB/s]\u001b[A"
     ]
    },
    {
     "name": "stdout",
     "output_type": "stream",
     "text": [
      "[###################################     ] | 88% Completed | 38.6s"
     ]
    },
    {
     "name": "stderr",
     "output_type": "stream",
     "text": [
      "\n",
      " 71%|███████   | 1.55M/2.18M [00:34<00:04, 137kB/s]\u001b[A"
     ]
    },
    {
     "name": "stdout",
     "output_type": "stream",
     "text": [
      "[###################################     ] | 88% Completed | 38.9s"
     ]
    },
    {
     "name": "stderr",
     "output_type": "stream",
     "text": [
      "\n",
      " 73%|███████▎  | 1.60M/2.18M [00:34<00:04, 142kB/s]\u001b[A"
     ]
    },
    {
     "name": "stdout",
     "output_type": "stream",
     "text": [
      "[###################################     ] | 88% Completed | 39.2s"
     ]
    },
    {
     "name": "stderr",
     "output_type": "stream",
     "text": [
      "\n",
      " 76%|███████▌  | 1.66M/2.18M [00:35<00:03, 162kB/s]\u001b[A"
     ]
    },
    {
     "name": "stdout",
     "output_type": "stream",
     "text": [
      "[###################################     ] | 88% Completed | 39.9s"
     ]
    },
    {
     "name": "stderr",
     "output_type": "stream",
     "text": [
      "\n",
      " 79%|███████▊  | 1.71M/2.18M [00:35<00:04, 122kB/s]\u001b[A"
     ]
    },
    {
     "name": "stdout",
     "output_type": "stream",
     "text": [
      "[###################################     ] | 88% Completed | 40.2s"
     ]
    },
    {
     "name": "stderr",
     "output_type": "stream",
     "text": [
      "\n",
      " 83%|████████▎ | 1.81M/2.18M [00:36<00:02, 172kB/s]"
     ]
    },
    {
     "name": "stdout",
     "output_type": "stream",
     "text": [
      "[###################################     ] | 88% Completed | 40.3s"
     ]
    },
    {
     "name": "stderr",
     "output_type": "stream",
     "text": [
      "\u001b[A"
     ]
    },
    {
     "name": "stdout",
     "output_type": "stream",
     "text": [
      "[###################################     ] | 88% Completed | 40.7s"
     ]
    },
    {
     "name": "stderr",
     "output_type": "stream",
     "text": [
      "\n",
      " 85%|████████▍ | 1.85M/2.18M [00:36<00:02, 150kB/s]"
     ]
    },
    {
     "name": "stdout",
     "output_type": "stream",
     "text": [
      "[###################################     ] | 88% Completed | 40.8s"
     ]
    },
    {
     "name": "stderr",
     "output_type": "stream",
     "text": [
      "\u001b[A"
     ]
    },
    {
     "name": "stdout",
     "output_type": "stream",
     "text": [
      "[###################################     ] | 88% Completed | 41.2s"
     ]
    },
    {
     "name": "stderr",
     "output_type": "stream",
     "text": [
      "\n",
      " 87%|████████▋ | 1.90M/2.18M [00:36<00:02, 141kB/s]\u001b[A"
     ]
    },
    {
     "name": "stdout",
     "output_type": "stream",
     "text": [
      "[###################################     ] | 88% Completed | 41.4s"
     ]
    },
    {
     "name": "stderr",
     "output_type": "stream",
     "text": [
      "\n",
      " 89%|████████▉ | 1.94M/2.18M [00:37<00:01, 146kB/s]\u001b[A"
     ]
    },
    {
     "name": "stdout",
     "output_type": "stream",
     "text": [
      "[###################################     ] | 88% Completed | 41.7s"
     ]
    },
    {
     "name": "stderr",
     "output_type": "stream",
     "text": [
      "\n",
      " 91%|█████████▏| 1.99M/2.18M [00:37<00:01, 151kB/s]\u001b[A"
     ]
    },
    {
     "name": "stdout",
     "output_type": "stream",
     "text": [
      "[###################################     ] | 88% Completed | 42.2s"
     ]
    },
    {
     "name": "stderr",
     "output_type": "stream",
     "text": [
      "\n",
      " 94%|█████████▍| 2.05M/2.18M [00:37<00:00, 144kB/s]\u001b[A"
     ]
    },
    {
     "name": "stdout",
     "output_type": "stream",
     "text": [
      "[###################################     ] | 88% Completed | 42.5s"
     ]
    },
    {
     "name": "stderr",
     "output_type": "stream",
     "text": [
      "\n",
      " 96%|█████████▋| 2.10M/2.18M [00:38<00:00, 155kB/s]\u001b[A"
     ]
    },
    {
     "name": "stdout",
     "output_type": "stream",
     "text": [
      "[###################################     ] | 88% Completed | 42.9s"
     ]
    },
    {
     "name": "stderr",
     "output_type": "stream",
     "text": [
      "\n",
      " 99%|█████████▉| 2.16M/2.18M [00:38<00:00, 150kB/s]\u001b[A"
     ]
    },
    {
     "name": "stdout",
     "output_type": "stream",
     "text": [
      "[###################################     ] | 88% Completed | 43.0s"
     ]
    },
    {
     "name": "stderr",
     "output_type": "stream",
     "text": [
      "\n",
      "                                                   \u001b[A2021-11-17 09:41:16,942 INFO Download rate 54.6K/s\n"
     ]
    },
    {
     "name": "stdout",
     "output_type": "stream",
     "text": [
      "[###################################     ] | 88% Completed | 43.4s\n",
      "/media/nicolasf/END19101/ICU/data/CDS/operational/forecasts/ECCC_CanCM4i/TPRATE/ensemble_seas_forecasts_tprate_from_2021_11_ECCC.netcdf downloaded OK\n",
      "\n",
      "[########################################] | 100% Completed | 43.5s\n"
     ]
    }
   ],
   "source": [
    "with ProgressBar():\n",
    "    downloaded_files = compute(downloaded_files)"
   ]
  },
  {
   "cell_type": "code",
   "execution_count": 26,
   "metadata": {},
   "outputs": [],
   "source": [
    "# for GCM in list_GCMs: \n",
    "    \n",
    "#     f = C3S.download(\n",
    "#     GCM=GCM,\n",
    "#     varname=var_name,\n",
    "#     year=date.year,\n",
    "#     month=date.month,\n",
    "#     leadtimes=[1, 2, 3, 4, 5, 6],\n",
    "#     opath=gcm_path.joinpath(GCM).joinpath(var_name.upper()),\n",
    "#     domain=domains.domains['C3S_download'],\n",
    "#     file_format='netcdf',\n",
    "#     level='surface',\n",
    "#     max_retry=3,\n",
    "#     )   \n",
    "#     lfiles.append(f)"
   ]
  },
  {
   "cell_type": "markdown",
   "metadata": {},
   "source": [
    "### check dimensions and return the total number of members in the C3S MME "
   ]
  },
  {
   "cell_type": "code",
   "execution_count": 27,
   "metadata": {},
   "outputs": [],
   "source": [
    "import xarray as xr"
   ]
  },
  {
   "cell_type": "code",
   "execution_count": 28,
   "metadata": {},
   "outputs": [
    {
     "name": "stdout",
     "output_type": "stream",
     "text": [
      "Frozen({'longitude': 141, 'latitude': 81, 'number': 51, 'time': 5})\n",
      "Frozen({'longitude': 141, 'latitude': 81, 'number': 62, 'time': 5})\n",
      "Frozen({'longitude': 141, 'latitude': 81, 'number': 51, 'time': 5})\n",
      "Frozen({'longitude': 141, 'latitude': 81, 'number': 50, 'time': 5})\n",
      "Frozen({'longitude': 141, 'latitude': 81, 'number': 50, 'time': 5})\n",
      "Frozen({'longitude': 141, 'latitude': 81, 'number': 124, 'time': 5})\n",
      "Frozen({'longitude': 57, 'latitude': 33, 'number': 78, 'time': 5})\n",
      "Frozen({'longitude': 141, 'latitude': 81, 'number': 10, 'time': 5, 'system': 2})\n",
      "<xarray.DataArray 'system' (system: 2)>\n",
      "array([1, 2], dtype=int32)\n",
      "Coordinates:\n",
      "  * system   (system) int32 1 2\n",
      "Attributes:\n",
      "    long_name:  system\n",
      "Frozen({'longitude': 141, 'latitude': 81, 'number': 10, 'time': 5, 'system': 2})\n",
      "<xarray.DataArray 'system' (system: 2)>\n",
      "array([1, 2], dtype=int32)\n",
      "Coordinates:\n",
      "  * system   (system) int32 1 2\n",
      "Attributes:\n",
      "    long_name:  system\n"
     ]
    }
   ],
   "source": [
    "members = []\n",
    "for f in downloaded_files[0]: \n",
    "    dset = xr.open_dataset(f)\n",
    "    members.append(dset.dims['number'])\n",
    "    print(dset.dims)\n",
    "    if 'system' in dset.dims:\n",
    "        print(dset['system'])\n",
    "    "
   ]
  },
  {
   "cell_type": "code",
   "execution_count": 28,
   "metadata": {},
   "outputs": [],
   "source": [
    "import numpy as np "
   ]
  },
  {
   "cell_type": "code",
   "execution_count": 29,
   "metadata": {},
   "outputs": [
    {
     "data": {
      "text/plain": [
       "476"
      ]
     },
     "execution_count": 29,
     "metadata": {},
     "output_type": "execute_result"
    }
   ],
   "source": [
    "np.array(members).sum()"
   ]
  },
  {
   "cell_type": "code",
   "execution_count": null,
   "metadata": {},
   "outputs": [],
   "source": []
  }
 ],
 "metadata": {
  "kernelspec": {
   "display_name": "Python 3",
   "language": "python",
   "name": "python3"
  },
  "language_info": {
   "codemirror_mode": {
    "name": "ipython",
    "version": 3
   },
   "file_extension": ".py",
   "mimetype": "text/x-python",
   "name": "python",
   "nbconvert_exporter": "python",
   "pygments_lexer": "ipython3",
   "version": "3.8.10"
  },
  "papermill": {
   "duration": 114.72282,
   "end_time": "2020-02-06T23:48:33.529053",
   "environment_variables": {},
   "exception": null,
   "input_path": "./download_CDS_forecasts.ipynb",
   "output_path": "./download_CDS_forecasts.ipynb",
   "parameters": {
    "GCM": "CMCC",
    "month": 12,
    "var_name": "PRECIP",
    "year": 2018
   },
   "start_time": "2020-02-06T23:46:38.806233",
   "version": "1.2.1"
  }
 },
 "nbformat": 4,
 "nbformat_minor": 4
}
