{
 "cells": [
  {
   "cell_type": "markdown",
   "metadata": {},
   "source": [
    "### download the last month of the CDS raw forecasts "
   ]
  },
  {
   "cell_type": "code",
   "execution_count": 42,
   "metadata": {},
   "outputs": [
    {
     "name": "stdout",
     "output_type": "stream",
     "text": [
      "The autoreload extension is already loaded. To reload it, use:\n",
      "  %reload_ext autoreload\n"
     ]
    }
   ],
   "source": [
    "%load_ext autoreload\n",
    "%autoreload 2"
   ]
  },
  {
   "cell_type": "code",
   "execution_count": 43,
   "metadata": {
    "papermill": {
     "duration": 0.086706,
     "end_time": "2020-02-06T23:46:40.196481",
     "exception": false,
     "start_time": "2020-02-06T23:46:40.109775",
     "status": "completed"
    },
    "tags": []
   },
   "outputs": [],
   "source": [
    "import sys\n",
    "import pathlib\n",
    "from datetime import datetime\n",
    "from dateutil.relativedelta import relativedelta\n",
    "import dateparser"
   ]
  },
  {
   "cell_type": "code",
   "execution_count": 44,
   "metadata": {},
   "outputs": [],
   "source": [
    "from dask import delayed, compute\n",
    "from dask.diagnostics import ProgressBar"
   ]
  },
  {
   "cell_type": "code",
   "execution_count": 45,
   "metadata": {
    "papermill": {
     "duration": 0.012961,
     "end_time": "2020-02-06T23:46:40.218011",
     "exception": false,
     "start_time": "2020-02-06T23:46:40.205050",
     "status": "completed"
    },
    "tags": []
   },
   "outputs": [],
   "source": [
    "HOME = pathlib.Path.home()"
   ]
  },
  {
   "cell_type": "code",
   "execution_count": 46,
   "metadata": {},
   "outputs": [],
   "source": [
    "CWD = pathlib.Path.cwd()"
   ]
  },
  {
   "cell_type": "code",
   "execution_count": 47,
   "metadata": {},
   "outputs": [
    {
     "data": {
      "text/plain": [
       "PosixPath('/home/nicolasf/operational/ICU/development/hotspots/code/ICU_Water_Watch/notebooks/C3S')"
      ]
     },
     "execution_count": 47,
     "metadata": {},
     "output_type": "execute_result"
    }
   ],
   "source": [
    "CWD"
   ]
  },
  {
   "cell_type": "markdown",
   "metadata": {},
   "source": [
    "### import local functions for the downloading of the C3S forecasts "
   ]
  },
  {
   "cell_type": "code",
   "execution_count": 48,
   "metadata": {},
   "outputs": [],
   "source": [
    "sys.path.append('../..')"
   ]
  },
  {
   "cell_type": "code",
   "execution_count": 49,
   "metadata": {},
   "outputs": [],
   "source": [
    "from ICU_Water_Watch import C3S, domains"
   ]
  },
  {
   "cell_type": "markdown",
   "metadata": {},
   "source": [
    "### show the predefined domains "
   ]
  },
  {
   "cell_type": "code",
   "execution_count": 50,
   "metadata": {},
   "outputs": [
    {
     "data": {
      "text/plain": [
       "{'Tropical_Pacific': [140, 220, -25, 25],\n",
       " 'SW_Pacific': [172.5, 190, -22.5, -12],\n",
       " 'Fiji': [175, 183, -21, -15],\n",
       " 'NZ': [161, 181, -50, -30],\n",
       " 'Pacific': [140, 240, -50, 25],\n",
       " 'C3S_download': [100, 240, -50, 30],\n",
       " 'Water_Watch': [125, 240, -35, 25]}"
      ]
     },
     "execution_count": 50,
     "metadata": {},
     "output_type": "execute_result"
    }
   ],
   "source": [
    "domains.domains"
   ]
  },
  {
   "cell_type": "markdown",
   "metadata": {},
   "source": [
    "### provider (always CDS for now)"
   ]
  },
  {
   "cell_type": "code",
   "execution_count": 51,
   "metadata": {
    "papermill": {
     "duration": 0.012879,
     "end_time": "2020-02-06T23:46:40.239506",
     "exception": false,
     "start_time": "2020-02-06T23:46:40.226627",
     "status": "completed"
    },
    "tags": []
   },
   "outputs": [],
   "source": [
    "provider = 'CDS'"
   ]
  },
  {
   "cell_type": "markdown",
   "metadata": {},
   "source": [
    "### variable name"
   ]
  },
  {
   "cell_type": "code",
   "execution_count": 52,
   "metadata": {},
   "outputs": [],
   "source": [
    "var_name = 'tprate'"
   ]
  },
  {
   "cell_type": "markdown",
   "metadata": {},
   "source": [
    "### list of GCMs "
   ]
  },
  {
   "cell_type": "code",
   "execution_count": 53,
   "metadata": {},
   "outputs": [],
   "source": [
    "list_GCMs = ['ECMWF','UKMO','METEO_FRANCE','CMCC','DWD', 'NCEP', 'JMA', 'ECCC_CanCM4i', 'ECCC_GEM_NEMO']"
   ]
  },
  {
   "cell_type": "markdown",
   "metadata": {},
   "source": [
    "### mapping GCM to systems "
   ]
  },
  {
   "cell_type": "code",
   "execution_count": 54,
   "metadata": {},
   "outputs": [],
   "source": [
    "from collections import OrderedDict as OD"
   ]
  },
  {
   "cell_type": "code",
   "execution_count": 55,
   "metadata": {},
   "outputs": [],
   "source": [
    "dict_systems = OD(\n",
    "                ECMWF=5, # SEAS5, hindcast complete \n",
    "                UKMO=601, # note: only for system 14 is hindcast complete\n",
    "                METEO_FRANCE=8, # note: only for system 7 is hindcast complete\n",
    "                DWD=21, # GCFS2.1, hindcast complete \n",
    "                CMCC=35, # SPSv3.5, hindcast complete \n",
    "                NCEP=2,# CFSv2, hindcast complete \n",
    "                JMA=3, # CPS2, hindcast complete\n",
    "                ECCC_GEM_NEMO=2, # GEM-NEMO, hindcast incomplete\n",
    "                ECCC_CanCM4i=3, # CanCM4i, hindcast incomplete\n",
    "                )"
   ]
  },
  {
   "cell_type": "markdown",
   "metadata": {},
   "source": [
    "### lag in months (if need to download older forecasts)"
   ]
  },
  {
   "cell_type": "code",
   "execution_count": 56,
   "metadata": {},
   "outputs": [],
   "source": [
    "lag = 0 "
   ]
  },
  {
   "cell_type": "markdown",
   "metadata": {},
   "source": [
    "### get today's date "
   ]
  },
  {
   "cell_type": "code",
   "execution_count": 57,
   "metadata": {},
   "outputs": [],
   "source": [
    "date = dateparser.parse('today')"
   ]
  },
  {
   "cell_type": "code",
   "execution_count": 58,
   "metadata": {},
   "outputs": [
    {
     "data": {
      "text/plain": [
       "datetime.datetime(2022, 3, 14, 10, 54, 50, 304501)"
      ]
     },
     "execution_count": 58,
     "metadata": {},
     "output_type": "execute_result"
    }
   ],
   "source": [
    "date"
   ]
  },
  {
   "cell_type": "markdown",
   "metadata": {},
   "source": [
    "### apply lag "
   ]
  },
  {
   "cell_type": "code",
   "execution_count": 59,
   "metadata": {},
   "outputs": [],
   "source": [
    "date = date - relativedelta(months=lag)"
   ]
  },
  {
   "cell_type": "code",
   "execution_count": 60,
   "metadata": {},
   "outputs": [
    {
     "name": "stdout",
     "output_type": "stream",
     "text": [
      "will download the forecasts issued in March 2022\n"
     ]
    }
   ],
   "source": [
    "print(f\"will download the forecasts issued in {date:%B %Y}\")"
   ]
  },
  {
   "cell_type": "markdown",
   "metadata": {},
   "source": [
    "### path to download the realtime forecasts "
   ]
  },
  {
   "cell_type": "code",
   "execution_count": 61,
   "metadata": {},
   "outputs": [],
   "source": [
    "gcm_path = pathlib.Path(f'/media/nicolasf/END19101/ICU/data/{provider}/operational/forecasts')"
   ]
  },
  {
   "cell_type": "code",
   "execution_count": 62,
   "metadata": {},
   "outputs": [],
   "source": [
    "if not(gcm_path.exists()): \n",
    "    gcm_path.mkdir(parents=True)"
   ]
  },
  {
   "cell_type": "markdown",
   "metadata": {},
   "source": [
    "### use dask to parallelize the download of the forecasts "
   ]
  },
  {
   "cell_type": "markdown",
   "metadata": {},
   "source": [
    "#### build the queue"
   ]
  },
  {
   "cell_type": "code",
   "execution_count": 63,
   "metadata": {},
   "outputs": [
    {
     "name": "stdout",
     "output_type": "stream",
     "text": [
      "processing ECCC, path should be /media/nicolasf/END19101/ICU/data/CDS/operational/forecasts/ECCC_GEM_NEMO/TPRATE\n",
      "processing ECCC, path should be /media/nicolasf/END19101/ICU/data/CDS/operational/forecasts/ECCC_CanCM4i/TPRATE\n"
     ]
    }
   ],
   "source": [
    "downloaded_files = []\n",
    "\n",
    "for GCM in dict_systems.keys():\n",
    "    \n",
    "    if 'ECCC' in GCM:\n",
    "        \n",
    "        GCM_API_name = GCM.split('_')[0]\n",
    "        GCM_path = gcm_path.joinpath(GCM).joinpath(var_name.upper())\n",
    "        \n",
    "        print(f\"processing ECCC, path should be {str(GCM_path)}\")\n",
    "    \n",
    "        args = dict(GCM=GCM_API_name,\n",
    "        varname=var_name,\n",
    "        year=date.year,\n",
    "        month=date.month,\n",
    "        leadtimes=[1, 2, 3, 4, 5, 6],\n",
    "        opath=GCM_path,\n",
    "        domain=domains.domains['C3S_download'],\n",
    "        file_format='netcdf',\n",
    "        level='surface',\n",
    "        max_retry=3)\n",
    "    \n",
    "    else: \n",
    "        \n",
    "        args = dict(GCM=GCM,\n",
    "        varname=var_name,\n",
    "        year=date.year,\n",
    "        month=date.month,\n",
    "        leadtimes=[1, 2, 3, 4, 5, 6],\n",
    "        opath=gcm_path.joinpath(GCM).joinpath(var_name.upper()),\n",
    "        domain=domains.domains['C3S_download'],\n",
    "        file_format='netcdf',\n",
    "        level='surface',\n",
    "        max_retry=3)    \n",
    "    \n",
    "    downloaded_files.append(delayed(C3S.download)(**args))\n"
   ]
  },
  {
   "cell_type": "markdown",
   "metadata": {},
   "source": [
    "#### now compute "
   ]
  },
  {
   "cell_type": "code",
   "execution_count": 64,
   "metadata": {},
   "outputs": [
    {
     "name": "stdout",
     "output_type": "stream",
     "text": [
      "[                                        ] | 0% Completed |  0.0s\n",
      "attempting to download tprate for GCM METEO_FRANCE, for level surface, year 2022, month 3, in netcdf, attempt 1 of 3\n",
      "\n",
      "\n",
      "attempting to download tprate for GCM DWD, for level surface, year 2022, month 3, in netcdf, attempt 1 of 3\n",
      "\n",
      "\n",
      "attempting to download tprate for GCM CMCC, for level surface, year 2022, month 3, in netcdf, attempt 1 of 3\n",
      "\n",
      "\n",
      "attempting to download tprate for GCM ECCC, for level surface, year 2022, month 3, in netcdf, attempt 1 of 3\n",
      "\n",
      "\n",
      "attempting to download tprate for GCM JMA, for level surface, year 2022, month 3, in netcdf, attempt 1 of 3\n",
      "\n",
      "attempting to download tprate for GCM ECMWF, for level surface, year 2022, month 3, in netcdf, attempt 1 of 3\n",
      "\n",
      "\n",
      "\n",
      "attempting to download tprate for GCM ECCC, for level surface, year 2022, month 3, in netcdf, attempt 1 of 3\n",
      "\n",
      "\n",
      "attempting to download tprate for GCM UKMO, for level surface, year 2022, month 3, in netcdf, attempt 1 of 3\n",
      "\n",
      "attempting to download tprate for GCM NCEP, for level surface, year 2022, month 3, in netcdf, attempt 1 of 3\n",
      "\n",
      "\n",
      "[                                        ] | 0% Completed |  2.0s"
     ]
    },
    {
     "name": "stderr",
     "output_type": "stream",
     "text": [
      "2022-03-14 10:54:55,526 INFO Welcome to the CDS\n",
      "2022-03-14 10:54:55,527 INFO Sending request to https://cds.climate.copernicus.eu/api/v2/resources/seasonal-monthly-single-levels\n",
      "2022-03-14 10:54:55,531 INFO Welcome to the CDS\n",
      "2022-03-14 10:54:55,532 INFO Sending request to https://cds.climate.copernicus.eu/api/v2/resources/seasonal-monthly-single-levels\n",
      "2022-03-14 10:54:55,540 INFO Welcome to the CDS\n",
      "2022-03-14 10:54:55,541 INFO Sending request to https://cds.climate.copernicus.eu/api/v2/resources/seasonal-monthly-single-levels\n",
      "2022-03-14 10:54:55,544 INFO Welcome to the CDS\n",
      "2022-03-14 10:54:55,545 INFO Sending request to https://cds.climate.copernicus.eu/api/v2/resources/seasonal-monthly-single-levels\n",
      "2022-03-14 10:54:55,549 INFO Welcome to the CDS\n",
      "2022-03-14 10:54:55,550 INFO Sending request to https://cds.climate.copernicus.eu/api/v2/resources/seasonal-monthly-single-levels\n",
      "2022-03-14 10:54:55,554 INFO Welcome to the CDS\n",
      "2022-03-14 10:54:55,555 INFO Welcome to the CDS\n",
      "2022-03-14 10:54:55,556 INFO Welcome to the CDS\n",
      "2022-03-14 10:54:55,556 INFO Welcome to the CDS\n",
      "2022-03-14 10:54:55,557 INFO Sending request to https://cds.climate.copernicus.eu/api/v2/resources/seasonal-monthly-single-levels\n",
      "2022-03-14 10:54:55,558 INFO Sending request to https://cds.climate.copernicus.eu/api/v2/resources/seasonal-monthly-single-levels\n",
      "2022-03-14 10:54:55,559 INFO Sending request to https://cds.climate.copernicus.eu/api/v2/resources/seasonal-monthly-single-levels\n",
      "2022-03-14 10:54:55,560 INFO Sending request to https://cds.climate.copernicus.eu/api/v2/resources/seasonal-monthly-single-levels\n"
     ]
    },
    {
     "name": "stdout",
     "output_type": "stream",
     "text": [
      "[                                        ] | 0% Completed |  2.3s"
     ]
    },
    {
     "name": "stderr",
     "output_type": "stream",
     "text": [
      "2022-03-14 10:54:55,869 INFO Request is completed\n",
      "2022-03-14 10:54:55,871 INFO Downloading https://download-0006.copernicus-climate.eu/cache-compute-0006/cache/data8/adaptor.mars.external-1647204403.8488767-10872-13-c0015af2-0b10-4880-8981-5827f75c250d.nc to /media/nicolasf/END19101/ICU/data/CDS/operational/forecasts/NCEP/TPRATE/ensemble_seas_forecasts_tprate_from_2022_03_NCEP.netcdf (12.2M)\n",
      "2022-03-14 10:54:55,873 INFO Request is completed\n",
      "2022-03-14 10:54:55,876 INFO Request is completed\n",
      "2022-03-14 10:54:55,884 INFO Request is completed\n",
      "2022-03-14 10:54:55,886 INFO Request is completed\n",
      "2022-03-14 10:54:55,887 INFO Request is completed\n",
      "2022-03-14 10:54:55,887 INFO Downloading https://download-0014.copernicus-climate.eu/cache-compute-0014/cache/data2/adaptor.mars.external-1647204431.1138828-20452-14-cd07b156-967f-413c-aa56-8066c6b1f295.nc to /media/nicolasf/END19101/ICU/data/CDS/operational/forecasts/DWD/TPRATE/ensemble_seas_forecasts_tprate_from_2022_03_DWD.netcdf (5.4M)\n",
      "2022-03-14 10:54:55,888 INFO Downloading https://download-0014.copernicus-climate.eu/cache-compute-0014/cache/data0/adaptor.mars.external-1647204414.572903-27875-20-18e8d58c-2021-4162-b354-d424be47e56d.nc to /media/nicolasf/END19101/ICU/data/CDS/operational/forecasts/ECCC_CanCM4i/TPRATE/ensemble_seas_forecasts_tprate_from_2022_03_ECCC.netcdf (2.2M)\n",
      "2022-03-14 10:54:55,889 INFO Downloading https://download-0013.copernicus-climate.eu/cache-compute-0013/cache/data6/adaptor.mars.external-1647204378.1261036-24476-20-99e461c5-36f0-4060-a7cc-d6c0ceb808b5.nc to /media/nicolasf/END19101/ICU/data/CDS/operational/forecasts/ECMWF/TPRATE/ensemble_seas_forecasts_tprate_from_2022_03_ECMWF.netcdf (5.6M)\n",
      "2022-03-14 10:54:55,890 INFO Request is completed\n",
      "2022-03-14 10:54:55,892 INFO Downloading https://download-0014.copernicus-climate.eu/cache-compute-0014/cache/data0/adaptor.mars.external-1647204414.572903-27875-20-18e8d58c-2021-4162-b354-d424be47e56d.nc to /media/nicolasf/END19101/ICU/data/CDS/operational/forecasts/ECCC_GEM_NEMO/TPRATE/ensemble_seas_forecasts_tprate_from_2022_03_ECCC.netcdf (2.2M)\n",
      "2022-03-14 10:54:55,893 INFO Downloading https://download-0002.copernicus-climate.eu/cache-compute-0002/cache/data8/adaptor.mars.external-1647204411.27653-29102-16-1f43ec63-b008-4e2f-81d9-ce72a8dacd9a.nc to /media/nicolasf/END19101/ICU/data/CDS/operational/forecasts/CMCC/TPRATE/ensemble_seas_forecasts_tprate_from_2022_03_CMCC.netcdf (5.4M)\n",
      "2022-03-14 10:54:55,902 INFO Request is completed\n",
      "2022-03-14 10:54:55,903 INFO Downloading https://download-0007.copernicus-climate.eu/cache-compute-0007/cache/data7/adaptor.mars.external-1647204394.1724145-7774-10-6f6a5ac0-1f5b-4d22-8a02-93bd93478c46.nc to /media/nicolasf/END19101/ICU/data/CDS/operational/forecasts/JMA/TPRATE/ensemble_seas_forecasts_tprate_from_2022_03_JMA.netcdf (9.8M)\n",
      "2022-03-14 10:54:55,907 INFO Downloading https://download-0001.copernicus-climate.eu/cache-compute-0001/cache/data9/adaptor.mars.external-1647204384.2110586-6419-15-12f7ad3e-a6be-4a31-87b5-801306809feb.nc to /media/nicolasf/END19101/ICU/data/CDS/operational/forecasts/METEO_FRANCE/TPRATE/ensemble_seas_forecasts_tprate_from_2022_03_METEO_FRANCE.netcdf (5.6M)\n"
     ]
    },
    {
     "name": "stdout",
     "output_type": "stream",
     "text": [
      "[                                        ] | 0% Completed |  2.4s"
     ]
    },
    {
     "name": "stderr",
     "output_type": "stream",
     "text": [
      "2022-03-14 10:54:55,939 INFO Request is completed\n",
      "2022-03-14 10:54:55,939 INFO Downloading https://download-0008.copernicus-climate.eu/cache-compute-0008/cache/data6/adaptor.mars.external-1647204420.5321822-27345-12-ab5003d6-cd6e-4e59-a4a8-243b8059e4be.nc to /media/nicolasf/END19101/ICU/data/CDS/operational/forecasts/UKMO/TPRATE/ensemble_seas_forecasts_tprate_from_2022_03_UKMO.netcdf (6.1M)\n"
     ]
    },
    {
     "name": "stdout",
     "output_type": "stream",
     "text": [
      "[                                        ] | 0% Completed |  3.7s"
     ]
    },
    {
     "name": "stderr",
     "output_type": "stream",
     "text": [
      "  0%|                                                                                                                | 0.00/12.2M [00:00<?, ?B/s]\n",
      "  0%|                                                                                                                | 0.00/6.10M [00:00<?, ?B/s]\u001b[A\n",
      "\n",
      "  0%|                                                                                                                | 0.00/5.56M [00:00<?, ?B/s]\u001b[A\u001b[A"
     ]
    },
    {
     "name": "stdout",
     "output_type": "stream",
     "text": [
      "[                                        ] | 0% Completed |  3.8s"
     ]
    },
    {
     "name": "stderr",
     "output_type": "stream",
     "text": [
      "\n",
      "\n",
      "\n",
      "  0%|                                                                                                                | 0.00/5.56M [00:00<?, ?B/s]\u001b[A\u001b[A\u001b[A"
     ]
    },
    {
     "name": "stdout",
     "output_type": "stream",
     "text": [
      "[                                        ] | 0% Completed |  4.0s"
     ]
    },
    {
     "name": "stderr",
     "output_type": "stream",
     "text": [
      "  0%|▏                                                                                                      | 16.0k/12.2M [00:00<03:38, 58.6kB/s]\n",
      "\n",
      "  0%|▎                                                                                                      | 16.0k/5.56M [00:00<01:37, 59.3kB/s]\u001b[A\u001b[A\n",
      "  0%|▎                                                                                                      | 16.0k/6.10M [00:00<01:49, 58.2kB/s]\u001b[A\n",
      "\n",
      "\n",
      "  0%|▎                                                                                                      | 16.0k/5.56M [00:00<01:39, 58.5kB/s]\u001b[A\u001b[A\u001b[A"
     ]
    },
    {
     "name": "stdout",
     "output_type": "stream",
     "text": [
      "[                                        ] | 0% Completed |  4.2s"
     ]
    },
    {
     "name": "stderr",
     "output_type": "stream",
     "text": [
      "\n",
      "\n",
      "\n",
      "\n",
      "  0%|                                                                                                                | 0.00/9.81M [00:00<?, ?B/s]\u001b[A\u001b[A\u001b[A\u001b[A\n",
      "\n",
      "\n",
      "\n",
      "\n",
      "  0%|                                                                                                                | 0.00/5.45M [00:00<?, ?B/s]\u001b[A\u001b[A\u001b[A\u001b[A\u001b[A"
     ]
    },
    {
     "name": "stdout",
     "output_type": "stream",
     "text": [
      "[                                        ] | 0% Completed |  4.4s"
     ]
    },
    {
     "name": "stderr",
     "output_type": "stream",
     "text": [
      "\n",
      "\n",
      "\n",
      "\n",
      "\n",
      "\n",
      "  1%|▌                                                                                                       | 69.0k/12.2M [00:00<01:33, 137kB/s]\u001b[A\u001b[A\u001b[A\u001b[A\u001b[A\u001b[A\n",
      "\n",
      "\n",
      "\n",
      "\n",
      "\n",
      "\n",
      "\n",
      "  0%|                                                                                                                | 0.00/5.45M [00:00<?, ?B/s]\u001b[A\u001b[A\u001b[A\u001b[A\u001b[A\u001b[A\u001b[A\u001b[A\n",
      "\n",
      "\n",
      "\n",
      "\n",
      "\n",
      "\n",
      "  0%|                                                                                                                | 0.00/2.18M [00:00<?, ?B/s]\u001b[A\u001b[A\u001b[A\u001b[A\u001b[A\u001b[A\u001b[A\n",
      "\n",
      "  1%|█                                                                                                       | 56.0k/5.56M [00:00<00:52, 110kB/s]\u001b[A\u001b[A\n",
      "  1%|▉                                                                                                       | 53.0k/6.10M [00:00<01:02, 102kB/s]\u001b[A\n",
      "\n",
      "\n",
      "  1%|█▏                                                                                                      | 67.0k/5.56M [00:00<00:43, 133kB/s]\u001b[A\u001b[A\u001b[A\n",
      "\n",
      "\n",
      "\n",
      "  0%|▏                                                                                                      | 16.0k/9.81M [00:00<02:55, 58.5kB/s]\u001b[A\u001b[A\u001b[A\u001b[A\n",
      "\n",
      "\n",
      "\n",
      "\n",
      "  0%|▎                                                                                                      | 16.0k/5.45M [00:00<01:37, 58.6kB/s]\u001b[A\u001b[A\u001b[A\u001b[A\u001b[A"
     ]
    },
    {
     "name": "stdout",
     "output_type": "stream",
     "text": [
      "[                                        ] | 0% Completed |  4.6s"
     ]
    },
    {
     "name": "stderr",
     "output_type": "stream",
     "text": [
      "\n",
      "\n",
      "\n",
      "\n",
      "\n",
      "\n",
      "  1%|▋                                                                                                      | 16.0k/2.18M [00:00<00:38, 59.4kB/s]\u001b[A\u001b[A\u001b[A\u001b[A\u001b[A\u001b[A"
     ]
    },
    {
     "name": "stdout",
     "output_type": "stream",
     "text": [
      "[                                        ] | 0% Completed |  4.7s"
     ]
    },
    {
     "name": "stderr",
     "output_type": "stream",
     "text": [
      "  1%|█▎                                                                                                       | 163k/12.2M [00:00<00:54, 231kB/s]\n",
      "\n",
      "\n",
      "\n",
      "\n",
      "\n",
      "\n",
      "\n",
      "  0%|▎                                                                                                      | 16.0k/5.45M [00:00<01:34, 60.4kB/s]\u001b[A\u001b[A\u001b[A\u001b[A\u001b[A\u001b[A\u001b[A\u001b[A\n",
      "\n",
      "  2%|██                                                                                                       | 112k/5.56M [00:00<00:37, 153kB/s]\u001b[A\u001b[A\n",
      "  1%|█▌                                                                                                      | 93.0k/6.10M [00:00<00:51, 121kB/s]\u001b[A\n",
      "\n",
      "\n",
      "  2%|██▎                                                                                                      | 123k/5.56M [00:00<00:34, 164kB/s]\u001b[A\u001b[A\u001b[A\n",
      "\n",
      "\n",
      "\n",
      "  1%|▌                                                                                                       | 58.0k/9.81M [00:00<01:30, 114kB/s]\u001b[A\u001b[A\u001b[A\u001b[A\n",
      "\n",
      "\n",
      "\n",
      "\n",
      "  1%|█▏                                                                                                      | 64.0k/5.45M [00:00<00:44, 127kB/s]\u001b[A\u001b[A\u001b[A\u001b[A\u001b[A"
     ]
    },
    {
     "name": "stdout",
     "output_type": "stream",
     "text": [
      "[                                        ] | 0% Completed |  4.9s"
     ]
    },
    {
     "name": "stderr",
     "output_type": "stream",
     "text": [
      "\n",
      "\n",
      "\n",
      "\n",
      "\n",
      "\n",
      "  3%|██▉                                                                                                      | 350k/12.2M [00:01<00:30, 409kB/s]\u001b[A\u001b[A\u001b[A\u001b[A\u001b[A\u001b[A\n",
      "\n",
      "\n",
      "\n",
      "\n",
      "\n",
      "\n",
      "\n",
      "  1%|█▏                                                                                                      | 64.0k/5.45M [00:00<00:44, 127kB/s]\u001b[A\u001b[A\u001b[A\u001b[A\u001b[A\u001b[A\u001b[A\u001b[A"
     ]
    },
    {
     "name": "stdout",
     "output_type": "stream",
     "text": [
      "[                                        ] | 0% Completed |  5.0s"
     ]
    },
    {
     "name": "stderr",
     "output_type": "stream",
     "text": [
      "\n",
      "\n",
      "  4%|████▋                                                                                                    | 254k/5.56M [00:01<00:18, 294kB/s]\u001b[A\u001b[A\n",
      "\n",
      "\n",
      "\n",
      "\n",
      "\n",
      "\n",
      "  1%|▋                                                                                                      | 16.0k/2.18M [00:00<01:20, 28.4kB/s]\u001b[A\u001b[A\u001b[A\u001b[A\u001b[A\u001b[A\u001b[A\n",
      "  3%|███▎                                                                                                     | 200k/6.10M [00:01<00:27, 223kB/s]\u001b[A\n",
      "\n",
      "\n",
      "  5%|█████                                                                                                    | 275k/5.56M [00:01<00:17, 316kB/s]\u001b[A\u001b[A\u001b[A\n",
      "\n",
      "\n",
      "\n",
      "  1%|▉                                                                                                       | 90.0k/9.81M [00:00<01:29, 114kB/s]\u001b[A\u001b[A\u001b[A\u001b[A\n",
      "\n",
      "\n",
      "\n",
      "\n",
      "  2%|██▎                                                                                                      | 121k/5.45M [00:00<00:34, 163kB/s]\u001b[A\u001b[A\u001b[A\u001b[A\u001b[A"
     ]
    },
    {
     "name": "stdout",
     "output_type": "stream",
     "text": [
      "[                                        ] | 0% Completed |  5.2s"
     ]
    },
    {
     "name": "stderr",
     "output_type": "stream",
     "text": [
      "\n",
      "\n",
      "\n",
      "\n",
      "\n",
      "\n",
      "  6%|██████▏                                                                                                  | 731k/12.2M [00:01<00:15, 761kB/s]\u001b[A\u001b[A\u001b[A\u001b[A\u001b[A\u001b[A\n",
      "\n",
      "\n",
      "\n",
      "\n",
      "\n",
      "\n",
      "\n",
      "  2%|██▍                                                                                                      | 128k/5.45M [00:00<00:32, 174kB/s]\u001b[A\u001b[A\u001b[A\u001b[A\u001b[A\u001b[A\u001b[A\u001b[A\n",
      "\n",
      "  9%|█████████▊                                                                                               | 531k/5.56M [00:01<00:09, 546kB/s]\u001b[A\u001b[A"
     ]
    },
    {
     "name": "stdout",
     "output_type": "stream",
     "text": [
      "[                                        ] | 0% Completed |  5.3s"
     ]
    },
    {
     "name": "stderr",
     "output_type": "stream",
     "text": [
      "\n",
      "  7%|███████                                                                                                  | 422k/6.10M [00:01<00:14, 426kB/s]\u001b[A\n",
      "\n",
      "\n",
      "\n",
      "  2%|██▏                                                                                                      | 206k/9.81M [00:01<00:42, 235kB/s]\u001b[A\u001b[A\u001b[A\u001b[A\n",
      "\n",
      "\n",
      "\n",
      "\n",
      "  5%|█████▏                                                                                                   | 278k/5.45M [00:01<00:16, 322kB/s]\u001b[A\u001b[A\u001b[A\u001b[A\u001b[A"
     ]
    },
    {
     "name": "stdout",
     "output_type": "stream",
     "text": [
      "[                                        ] | 0% Completed |  5.5s"
     ]
    },
    {
     "name": "stderr",
     "output_type": "stream",
     "text": [
      "\n",
      "\n",
      "\n",
      "\n",
      "\n",
      "\n",
      " 12%|████████████▎                                                                                          | 1.46M/12.2M [00:01<00:07, 1.44MB/s]\u001b[A\u001b[A\u001b[A\u001b[A\u001b[A\u001b[A\n",
      "\n",
      "\n",
      "\n",
      "\n",
      "\n",
      "\n",
      "\n",
      "  5%|█████▎                                                                                                   | 280k/5.45M [00:01<00:17, 317kB/s]\u001b[A\u001b[A\u001b[A\u001b[A\u001b[A\u001b[A\u001b[A\u001b[A\n",
      "\n",
      " 19%|███████████████████▌                                                                                   | 1.05M/5.56M [00:01<00:04, 1.02MB/s]\u001b[A\u001b[A"
     ]
    },
    {
     "name": "stdout",
     "output_type": "stream",
     "text": [
      "[                                        ] | 0% Completed |  5.6s"
     ]
    },
    {
     "name": "stderr",
     "output_type": "stream",
     "text": [
      "\n",
      "\n",
      "\n",
      "\n",
      "\n",
      "\n",
      "\n",
      "  2%|█▉                                                                                                     | 43.0k/2.18M [00:01<00:57, 39.1kB/s]\u001b[A\u001b[A\u001b[A\u001b[A\u001b[A\u001b[A\u001b[A\n",
      "\n",
      "\n",
      " 10%|██████████▊                                                                                              | 587k/5.56M [00:01<00:12, 429kB/s]\u001b[A\u001b[A\u001b[A\n",
      " 12%|████████████▏                                                                                            | 723k/6.10M [00:01<00:09, 615kB/s]\u001b[A\n",
      "\n",
      "\n",
      "\n",
      "  4%|████▋                                                                                                    | 443k/9.81M [00:01<00:22, 438kB/s]\u001b[A\u001b[A\u001b[A\u001b[A\n",
      "\n",
      "\n",
      "\n",
      "\n",
      " 11%|███████████                                                                                              | 587k/5.45M [00:01<00:08, 578kB/s]\u001b[A\u001b[A\u001b[A\u001b[A\u001b[A"
     ]
    },
    {
     "name": "stdout",
     "output_type": "stream",
     "text": [
      "[                                        ] | 0% Completed |  5.8s"
     ]
    },
    {
     "name": "stderr",
     "output_type": "stream",
     "text": [
      "\n",
      "\n",
      "\n",
      "\n",
      "\n",
      "\n",
      " 24%|█████████████████████████▋                                                                               | 547k/2.18M [00:01<00:03, 562kB/s]\u001b[A\u001b[A\u001b[A\u001b[A\u001b[A\u001b[A\n",
      "\n",
      "\n",
      "\n",
      "\n",
      "\n",
      "\n",
      "\n",
      "  6%|█████▊                                                                                                   | 312k/5.45M [00:01<00:22, 236kB/s]\u001b[A\u001b[A\u001b[A\u001b[A\u001b[A\u001b[A\u001b[A\u001b[A"
     ]
    },
    {
     "name": "stdout",
     "output_type": "stream",
     "text": [
      "[                                        ] | 0% Completed |  5.9s"
     ]
    },
    {
     "name": "stderr",
     "output_type": "stream",
     "text": [
      "\n",
      "\n",
      " 21%|██████████████████████▏                                                                                 | 1.19M/5.56M [00:02<00:05, 810kB/s]\u001b[A\u001b[A\n",
      "\n",
      "\n",
      "\n",
      "\n",
      "\n",
      "\n",
      "  5%|████▉                                                                                                   | 107k/2.18M [00:01<00:23, 91.2kB/s]\u001b[A\u001b[A\u001b[A\u001b[A\u001b[A\u001b[A\u001b[A\n",
      " 23%|████████████████████████▏                                                                              | 1.43M/6.10M [00:02<00:03, 1.25MB/s]\u001b[A\n",
      "\n",
      "\n",
      " 19%|███████████████████▋                                                                                   | 2.33M/12.2M [00:02<00:05, 1.77MB/s]\u001b[A\u001b[A\u001b[A\n",
      "\n",
      "\n",
      "\n",
      "  9%|█████████▍                                                                                               | 904k/9.81M [00:01<00:11, 821kB/s]\u001b[A\u001b[A\u001b[A\u001b[A\n",
      "\n",
      "\n",
      "\n",
      "\n",
      " 21%|██████████████████████▏                                                                                | 1.17M/5.45M [00:01<00:04, 1.09MB/s]\u001b[A\u001b[A\u001b[A\u001b[A\u001b[A"
     ]
    },
    {
     "name": "stdout",
     "output_type": "stream",
     "text": [
      "[                                        ] | 0% Completed |  6.0s"
     ]
    },
    {
     "name": "stderr",
     "output_type": "stream",
     "text": [
      "\n",
      "\n",
      "\n",
      "\n",
      "\n",
      "\n",
      " 50%|███████████████████████████████████████████████████▎                                                   | 1.09M/2.18M [00:01<00:01, 1.07MB/s]\u001b[A\u001b[A\u001b[A\u001b[A\u001b[A\u001b[A"
     ]
    },
    {
     "name": "stdout",
     "output_type": "stream",
     "text": [
      "[                                        ] | 0% Completed |  6.1s"
     ]
    },
    {
     "name": "stderr",
     "output_type": "stream",
     "text": [
      " 29%|█████████████████████████████▊                                                                         | 3.54M/12.2M [00:02<00:03, 2.83MB/s]\n",
      "\n",
      "\n",
      "\n",
      "\n",
      "\n",
      "\n",
      "\n",
      " 15%|███████████████▎                                                                                         | 814k/5.45M [00:01<00:06, 759kB/s]\u001b[A\u001b[A\u001b[A\u001b[A\u001b[A\u001b[A\u001b[A\u001b[A\n",
      "\n",
      " 54%|████████████████████████████████████████████████████████▏                                              | 3.03M/5.56M [00:02<00:00, 2.68MB/s]\u001b[A\u001b[A\n",
      " 32%|████████████████████████████████▋                                                                      | 1.94M/6.10M [00:02<00:03, 1.44MB/s]\u001b[A\n",
      "\n",
      "\n",
      "\n",
      "\n",
      "\n",
      "\n",
      "  6%|██████▍                                                                                                 | 139k/2.18M [00:01<00:21, 97.8kB/s]\u001b[A\u001b[A\u001b[A\u001b[A\u001b[A\u001b[A\u001b[A"
     ]
    },
    {
     "name": "stdout",
     "output_type": "stream",
     "text": [
      "[                                        ] | 0% Completed |  6.2s"
     ]
    },
    {
     "name": "stderr",
     "output_type": "stream",
     "text": [
      "\n",
      "\n",
      "\n",
      " 36%|████████████████████████████████████▉                                                                  | 1.99M/5.56M [00:02<00:02, 1.36MB/s]\u001b[A\u001b[A\u001b[A\n",
      "\n",
      "\n",
      "\n",
      "\n",
      " 33%|█████████████████████████████████▋                                                                     | 1.78M/5.45M [00:02<00:02, 1.45MB/s]\u001b[A\u001b[A\u001b[A\u001b[A\u001b[A"
     ]
    },
    {
     "name": "stdout",
     "output_type": "stream",
     "text": [
      "[                                        ] | 0% Completed |  6.3s"
     ]
    },
    {
     "name": "stderr",
     "output_type": "stream",
     "text": [
      "\n",
      "\n",
      "\n",
      "\n",
      "\n",
      "\n",
      " 42%|██████████████████████████████████████████▉                                                            | 5.08M/12.2M [00:02<00:01, 3.78MB/s]\u001b[A\u001b[A\u001b[A\u001b[A\u001b[A\u001b[A"
     ]
    },
    {
     "name": "stdout",
     "output_type": "stream",
     "text": [
      "[                                        ] | 0% Completed |  6.4s"
     ]
    },
    {
     "name": "stderr",
     "output_type": "stream",
     "text": [
      "\n",
      "\n",
      "\n",
      "\n",
      "\n",
      "\n",
      "\n",
      "\n",
      " 19%|███████████████████▊                                                                                    | 1.04M/5.45M [00:02<00:05, 795kB/s]\u001b[A\u001b[A\u001b[A\u001b[A\u001b[A\u001b[A\u001b[A\u001b[A\n",
      "\n",
      " 70%|███████████████████████████████████████████████████████████████████████▉                               | 3.88M/5.56M [00:02<00:00, 2.83MB/s]\u001b[A\u001b[A\n",
      " 40%|█████████████████████████████████████████▎                                                             | 2.45M/6.10M [00:02<00:02, 1.57MB/s]\u001b[A\n",
      "\n",
      "\n",
      "\n",
      "\n",
      "\n",
      "\n",
      "  8%|████████                                                                                                 | 171k/2.18M [00:02<00:20, 103kB/s]\u001b[A\u001b[A\u001b[A\u001b[A\u001b[A\u001b[A\u001b[A"
     ]
    },
    {
     "name": "stdout",
     "output_type": "stream",
     "text": [
      "[                                        ] | 0% Completed |  6.5s"
     ]
    },
    {
     "name": "stderr",
     "output_type": "stream",
     "text": [
      "\n",
      "\n",
      "\n",
      " 43%|████████████████████████████████████████████                                                           | 2.38M/5.56M [00:02<00:02, 1.33MB/s]\u001b[A\u001b[A\u001b[A\n",
      "\n",
      "\n",
      "\n",
      " 14%|██████████████▌                                                                                         | 1.38M/9.81M [00:02<00:10, 856kB/s]\u001b[A\u001b[A\u001b[A\u001b[A\n",
      "\n",
      "\n",
      "\n",
      "\n",
      " 39%|███████████████████████████████████████▋                                                               | 2.10M/5.45M [00:02<00:02, 1.32MB/s]\u001b[A\u001b[A\u001b[A\u001b[A\u001b[A"
     ]
    },
    {
     "name": "stdout",
     "output_type": "stream",
     "text": [
      "[                                        ] | 0% Completed |  6.6s"
     ]
    },
    {
     "name": "stderr",
     "output_type": "stream",
     "text": [
      "\n",
      "\n",
      "\n",
      "\n",
      "\n",
      "\n",
      "100%|██████████████████████████████████████████████████████████████████████████████████████████████████████▌| 2.17M/2.18M [00:02<00:00, 1.43MB/s]\u001b[A\u001b[A\u001b[A\u001b[A\u001b[A\u001b[A"
     ]
    },
    {
     "name": "stdout",
     "output_type": "stream",
     "text": [
      "[                                        ] | 0% Completed |  6.7s"
     ]
    },
    {
     "name": "stderr",
     "output_type": "stream",
     "text": [
      "\n",
      "\n",
      "\n",
      "\n",
      "\n",
      "\n",
      "\n",
      "\n",
      " 24%|████████████████████████▌                                                                               | 1.29M/5.45M [00:02<00:05, 836kB/s]\u001b[A\u001b[A\u001b[A\u001b[A\u001b[A\u001b[A\u001b[A\u001b[A\n",
      "\n",
      " 86%|████████████████████████████████████████████████████████████████████████████████████████▍              | 4.77M/5.56M [00:02<00:00, 2.96MB/s]\u001b[A\u001b[A\n",
      " 49%|██████████████████████████████████████████████████▍                                                    | 2.99M/6.10M [00:02<00:01, 1.70MB/s]\u001b[A\n",
      "\n",
      "\n",
      " 51%|████████████████████████████████████████████████████▊                                                  | 2.85M/5.56M [00:02<00:01, 1.50MB/s]\u001b[A\u001b[A\u001b[A\n",
      "\n",
      "\n",
      "\n",
      "\n",
      "\n",
      "\n",
      "  9%|█████████▉                                                                                               | 211k/2.18M [00:02<00:18, 114kB/s]\u001b[A\u001b[A\u001b[A\u001b[A\u001b[A\u001b[A\u001b[A\n",
      "\n",
      "\n",
      "\n",
      "\n",
      "\n",
      "                                                                                                                                                 \u001b[A\u001b[A\u001b[A\u001b[A\u001b[A\u001b[A2022-03-14 10:55:00,288 INFO Download rate 508.6K/s\n"
     ]
    },
    {
     "name": "stdout",
     "output_type": "stream",
     "text": [
      "[                                        ] | 0% Completed |  6.8s"
     ]
    },
    {
     "name": "stderr",
     "output_type": "stream",
     "text": [
      "\n",
      "\n",
      "\n",
      "\n",
      " 23%|███████████████████████▎                                                                               | 2.21M/9.81M [00:02<00:05, 1.42MB/s]\u001b[A\u001b[A\u001b[A\u001b[A\n",
      "\n",
      "\n",
      "\n",
      "\n",
      " 52%|█████████████████████████████████████████████████████▋                                                 | 2.84M/5.45M [00:02<00:01, 1.78MB/s]\u001b[A\u001b[A\u001b[A\u001b[A\u001b[A\n",
      "\n",
      "                                                                                                                                                 \u001b[A\u001b[A2022-03-14 10:55:00,360 INFO Download rate 1.2M/s\n"
     ]
    },
    {
     "name": "stdout",
     "output_type": "stream",
     "text": [
      "[                                        ] | 0% Completed |  6.9s"
     ]
    },
    {
     "name": "stderr",
     "output_type": "stream",
     "text": [
      " 53%|██████████████████████████████████████████████████████                                                 | 6.41M/12.2M [00:03<00:01, 3.19MB/s]\n",
      "\n",
      "\n",
      "\n",
      "\n",
      "\n",
      "\n",
      "\n",
      " 28%|█████████████████████████████▏                                                                          | 1.53M/5.45M [00:02<00:04, 858kB/s]\u001b[A\u001b[A\u001b[A\u001b[A\u001b[A\u001b[A\u001b[A\u001b[A"
     ]
    },
    {
     "name": "stdout",
     "output_type": "stream",
     "text": [
      "[                                        ] | 0% Completed |  7.0s"
     ]
    },
    {
     "name": "stderr",
     "output_type": "stream",
     "text": [
      "\n",
      "\n",
      "\n",
      " 57%|██████████████████████████████████████████████████████████▋                                            | 3.17M/5.56M [00:03<00:01, 1.41MB/s]\u001b[A\u001b[A\u001b[A\n",
      " 58%|███████████████████████████████████████████████████████████▋                                           | 3.54M/6.10M [00:03<00:01, 1.78MB/s]\u001b[A\n",
      "\n",
      "\n",
      "\n",
      "\n",
      "\n",
      "\n",
      " 12%|████████████▏                                                                                            | 259k/2.18M [00:02<00:15, 131kB/s]\u001b[A\u001b[A\u001b[A\u001b[A\u001b[A\u001b[A\u001b[A\n",
      "\n",
      "\n",
      "\n",
      "\n",
      " 60%|█████████████████████████████████████████████████████████████▊                                         | 3.27M/5.45M [00:02<00:01, 1.73MB/s]\u001b[A\u001b[A\u001b[A\u001b[A\u001b[A\n",
      "\n",
      "\n",
      "\n",
      " 26%|███████████████████████████                                                                            | 2.57M/9.81M [00:02<00:05, 1.40MB/s]\u001b[A\u001b[A\u001b[A\u001b[A"
     ]
    },
    {
     "name": "stdout",
     "output_type": "stream",
     "text": [
      "\n",
      "/media/nicolasf/END19101/ICU/data/CDS/operational/forecasts/ECCC_CanCM4i/TPRATE/ensemble_seas_forecasts_tprate_from_2022_03_ECCC.netcdf downloaded OK\n",
      "\n",
      "[####                                    ] | 11% Completed |  7.1s\n",
      "/media/nicolasf/END19101/ICU/data/CDS/operational/forecasts/ECMWF/TPRATE/ensemble_seas_forecasts_tprate_from_2022_03_ECMWF.netcdf downloaded OK\n",
      "\n",
      "[########                                ] | 22% Completed |  7.2s"
     ]
    },
    {
     "name": "stderr",
     "output_type": "stream",
     "text": [
      " 72%|█████████████████████████████████████████████████████████████████████████▋                             | 8.73M/12.2M [00:03<00:00, 4.58MB/s]\n",
      "\n",
      "\n",
      "\n",
      "\n",
      "\n",
      "\n",
      "\n",
      " 32%|█████████████████████████████████▊                                                                      | 1.77M/5.45M [00:02<00:04, 868kB/s]\u001b[A\u001b[A\u001b[A\u001b[A\u001b[A\u001b[A\u001b[A\u001b[A"
     ]
    },
    {
     "name": "stdout",
     "output_type": "stream",
     "text": [
      "[########                                ] | 22% Completed |  7.3s"
     ]
    },
    {
     "name": "stderr",
     "output_type": "stream",
     "text": [
      "\n",
      "\n",
      "\n",
      " 63%|████████████████████████████████████████████████████████████████▊                                      | 3.50M/5.56M [00:03<00:01, 1.35MB/s]\u001b[A\u001b[A\u001b[A\n",
      " 67%|████████████████████████████████████████████████████████████████████▉                                  | 4.08M/6.10M [00:03<00:01, 1.86MB/s]\u001b[A\n",
      "\n",
      "\n",
      "\n",
      "\n",
      "\n",
      "\n",
      " 13%|██████████████                                                                                           | 299k/2.18M [00:02<00:14, 134kB/s]\u001b[A\u001b[A\u001b[A\u001b[A\u001b[A\u001b[A\u001b[A\n",
      "\n",
      "\n",
      "\n",
      " 30%|██████████████████████████████▉                                                                        | 2.94M/9.81M [00:03<00:05, 1.38MB/s]\u001b[A\u001b[A\u001b[A\u001b[A\n",
      "\n",
      "\n",
      "\n",
      "\n",
      " 68%|██████████████████████████████████████████████████████████████████████▍                                | 3.72M/5.45M [00:03<00:01, 1.71MB/s]\u001b[A\u001b[A\u001b[A\u001b[A\u001b[A"
     ]
    },
    {
     "name": "stdout",
     "output_type": "stream",
     "text": [
      "[########                                ] | 22% Completed |  7.4s"
     ]
    },
    {
     "name": "stderr",
     "output_type": "stream",
     "text": [
      "\n",
      "\n",
      "\n",
      "\n",
      "\n",
      " 81%|███████████████████████████████████████████████████████████████████████████████████▍                   | 9.89M/12.2M [00:03<00:00, 4.50MB/s]\u001b[A\u001b[A\u001b[A\u001b[A\u001b[A"
     ]
    },
    {
     "name": "stdout",
     "output_type": "stream",
     "text": [
      "[########                                ] | 22% Completed |  7.5s"
     ]
    },
    {
     "name": "stderr",
     "output_type": "stream",
     "text": [
      "\n",
      "\n",
      "\n",
      "\n",
      "\n",
      "\n",
      "\n",
      "\n",
      " 37%|██████████████████████████████████████▌                                                                 | 2.02M/5.45M [00:03<00:04, 882kB/s]\u001b[A\u001b[A\u001b[A\u001b[A\u001b[A\u001b[A\u001b[A\u001b[A\n",
      "\n",
      "\n",
      " 69%|███████████████████████████████████████████████████████████████████████▏                               | 3.84M/5.56M [00:03<00:01, 1.33MB/s]\u001b[A\u001b[A\u001b[A"
     ]
    },
    {
     "name": "stdout",
     "output_type": "stream",
     "text": [
      "[########                                ] | 22% Completed |  7.6s"
     ]
    },
    {
     "name": "stderr",
     "output_type": "stream",
     "text": [
      "\n",
      "\n",
      "\n",
      "\n",
      "\n",
      "\n",
      "\n",
      " 16%|████████████████▎                                                                                        | 347k/2.18M [00:03<00:13, 145kB/s]\u001b[A\u001b[A\u001b[A\u001b[A\u001b[A\u001b[A\u001b[A\n",
      " 76%|██████████████████████████████████████████████████████████████████████████████▎                        | 4.64M/6.10M [00:03<00:00, 1.88MB/s]\u001b[A\n",
      "\n",
      "\n",
      "\n",
      " 34%|██████████████████████████████████▉                                                                    | 3.32M/9.81M [00:03<00:04, 1.39MB/s]\u001b[A\u001b[A\u001b[A\u001b[A\n",
      "\n",
      "\n",
      "\n",
      "\n",
      " 82%|███████████████████████████████████████████████████████████████████████████████████▉                   | 4.44M/5.45M [00:03<00:00, 1.88MB/s]\u001b[A\u001b[A\u001b[A\u001b[A\u001b[A"
     ]
    },
    {
     "name": "stdout",
     "output_type": "stream",
     "text": [
      "[########                                ] | 22% Completed |  7.7s"
     ]
    },
    {
     "name": "stderr",
     "output_type": "stream",
     "text": [
      "\n",
      "\n",
      "\n",
      " 91%|█████████████████████████████████████████████████████████████████████████████████████████████▍         | 11.1M/12.2M [00:03<00:00, 4.48MB/s]\u001b[A\u001b[A\u001b[A"
     ]
    },
    {
     "name": "stdout",
     "output_type": "stream",
     "text": [
      "[########                                ] | 22% Completed |  7.8s"
     ]
    },
    {
     "name": "stderr",
     "output_type": "stream",
     "text": [
      "\n",
      "\n",
      "\n",
      "\n",
      "\n",
      "\n",
      "\n",
      "\n",
      " 42%|███████████████████████████████████████████▎                                                            | 2.27M/5.45M [00:03<00:03, 894kB/s]\u001b[A\u001b[A\u001b[A\u001b[A\u001b[A\u001b[A\u001b[A\u001b[A\n",
      "\n",
      "\n",
      "\n",
      "\n",
      "\n",
      "\n",
      " 17%|██████████████████▏                                                                                      | 387k/2.18M [00:03<00:13, 145kB/s]\u001b[A\u001b[A\u001b[A\u001b[A\u001b[A\u001b[A\u001b[A\n",
      " 85%|███████████████████████████████████████████████████████████████████████████████████████▌               | 5.18M/6.10M [00:04<00:00, 1.92MB/s]\u001b[A"
     ]
    },
    {
     "name": "stdout",
     "output_type": "stream",
     "text": [
      "[########                                ] | 22% Completed |  7.9s"
     ]
    },
    {
     "name": "stderr",
     "output_type": "stream",
     "text": [
      "\n",
      "\n",
      "\n",
      " 78%|████████████████████████████████████████████████████████████████████████████████▋                      | 4.35M/5.56M [00:04<00:00, 1.37MB/s]\u001b[A\u001b[A\u001b[A\n",
      "\n",
      "\n",
      "\n",
      "\n",
      " 86%|████████████████████████████████████████████████████████████████████████████████████████▋              | 4.69M/5.45M [00:03<00:00, 1.57MB/s]\u001b[A\u001b[A\u001b[A\u001b[A\u001b[A\n",
      "\n",
      "\n",
      "\n",
      "2022-03-14 10:55:01,486 INFO Download rate 2.2M/s                                                                                                \u001b[A\u001b[A\u001b[A\u001b[A\n"
     ]
    },
    {
     "name": "stdout",
     "output_type": "stream",
     "text": [
      "[########                                ] | 22% Completed |  8.0s"
     ]
    },
    {
     "name": "stderr",
     "output_type": "stream",
     "text": [
      "\n",
      "\n",
      "\n",
      "\n",
      "\n",
      "\n",
      "\n",
      "\n",
      " 46%|███████████████████████████████████████████████▉                                                        | 2.51M/5.45M [00:03<00:03, 896kB/s]\u001b[A\u001b[A\u001b[A\u001b[A\u001b[A\u001b[A\u001b[A\u001b[A"
     ]
    },
    {
     "name": "stdout",
     "output_type": "stream",
     "text": [
      "[########                                ] | 22% Completed |  8.1s"
     ]
    },
    {
     "name": "stderr",
     "output_type": "stream",
     "text": [
      "\n",
      "\n",
      "\n",
      " 82%|████████████████████████████████████████████████████████████████████████████████████▏                  | 4.54M/5.56M [00:04<00:00, 1.22MB/s]\u001b[A\u001b[A\u001b[A\n",
      "\n",
      "\n",
      "\n",
      "\n",
      "\n",
      "\n",
      " 19%|████████████████████▍                                                                                    | 435k/2.18M [00:03<00:12, 152kB/s]\u001b[A\u001b[A\u001b[A\u001b[A\u001b[A\u001b[A\u001b[A\n",
      " 94%|████████████████████████████████████████████████████████████████████████████████████████████████▉      | 5.74M/6.10M [00:04<00:00, 1.92MB/s]\u001b[A\n",
      "\n",
      "\n",
      "\n",
      " 42%|███████████████████████████████████████████▎                                                           | 4.13M/9.81M [00:04<00:04, 1.43MB/s]\u001b[A\u001b[A\u001b[A\u001b[A\n",
      "\n",
      "\n",
      "\n",
      "\n",
      " 95%|██████████████████████████████████████████████████████████████████████████████████████████████████▎    | 5.20M/5.45M [00:04<00:00, 1.68MB/s]"
     ]
    },
    {
     "name": "stdout",
     "output_type": "stream",
     "text": [
      "[########                                ] | 22% Completed |  8.2s"
     ]
    },
    {
     "name": "stderr",
     "output_type": "stream",
     "text": [
      "\u001b[A\u001b[A\u001b[A\u001b[A\u001b[A"
     ]
    },
    {
     "name": "stdout",
     "output_type": "stream",
     "text": [
      "\n",
      "/media/nicolasf/END19101/ICU/data/CDS/operational/forecasts/NCEP/TPRATE/ensemble_seas_forecasts_tprate_from_2022_03_NCEP.netcdf downloaded OK\n",
      "\n",
      "[#############                           ] | 33% Completed |  8.3s"
     ]
    },
    {
     "name": "stderr",
     "output_type": "stream",
     "text": [
      "\n",
      "                                                                                                                                                 \u001b[A2022-03-14 10:55:01,847 INFO Download rate 1M/s\n",
      "\n",
      "\n",
      "\n",
      "\n",
      "\n",
      "                                                                                                                                                 \u001b[A\u001b[A\u001b[A\u001b[A\u001b[A2022-03-14 10:55:01,880 INFO Download rate 933.9K/s\n",
      "\n",
      "\n",
      "\n",
      "\n",
      "\n",
      "\n",
      "\n",
      "\n",
      " 51%|████████████████████████████████████████████████████▋                                                   | 2.76M/5.45M [00:04<00:03, 905kB/s]\u001b[A\u001b[A\u001b[A\u001b[A\u001b[A\u001b[A\u001b[A\u001b[A"
     ]
    },
    {
     "name": "stdout",
     "output_type": "stream",
     "text": [
      "[#############                           ] | 33% Completed |  8.4s"
     ]
    },
    {
     "name": "stderr",
     "output_type": "stream",
     "text": [
      "\n",
      "\n",
      "\n",
      " 88%|██████████████████████████████████████████████████████████████████████████████████████████▉            | 4.90M/5.56M [00:04<00:00, 1.26MB/s]\u001b[A\u001b[A\u001b[A\n",
      "\n",
      "\n",
      "\n",
      "\n",
      "\n",
      "\n",
      " 21%|██████████████████████▎                                                                                  | 475k/2.18M [00:04<00:12, 150kB/s]\u001b[A\u001b[A\u001b[A\u001b[A\u001b[A\u001b[A\u001b[A\n",
      "\n",
      "\n",
      "\n",
      " 46%|███████████████████████████████████████████████▋                                                       | 4.54M/9.81M [00:04<00:03, 1.45MB/s]\u001b[A\u001b[A\u001b[A\u001b[A"
     ]
    },
    {
     "name": "stdout",
     "output_type": "stream",
     "text": [
      "[#############                           ] | 33% Completed |  8.5s"
     ]
    },
    {
     "name": "stderr",
     "output_type": "stream",
     "text": [
      "\n",
      "\n",
      "\n",
      " 95%|█████████████████████████████████████████████████████████████████████████████████████████████████▋     | 5.27M/5.56M [00:04<00:00, 1.57MB/s]\u001b[A\u001b[A\u001b[A"
     ]
    },
    {
     "name": "stdout",
     "output_type": "stream",
     "text": [
      "[#############                           ] | 33% Completed |  8.6s"
     ]
    },
    {
     "name": "stderr",
     "output_type": "stream",
     "text": [
      "\n",
      "\n",
      "\n",
      "\n",
      "\n",
      "\n",
      "\n",
      "\n",
      " 55%|█████████████████████████████████████████████████████████▍                                              | 3.01M/5.45M [00:04<00:02, 905kB/s]\u001b[A\u001b[A\u001b[A\u001b[A\u001b[A\u001b[A\u001b[A\u001b[A"
     ]
    },
    {
     "name": "stdout",
     "output_type": "stream",
     "text": [
      "\n",
      "/media/nicolasf/END19101/ICU/data/CDS/operational/forecasts/UKMO/TPRATE/ensemble_seas_forecasts_tprate_from_2022_03_UKMO.netcdf downloaded OK\n",
      "\n",
      "\n",
      "/media/nicolasf/END19101/ICU/data/CDS/operational/forecasts/CMCC/TPRATE/ensemble_seas_forecasts_tprate_from_2022_03_CMCC.netcdf downloaded OK\n",
      "\n",
      "[######################                  ] | 55% Completed |  8.7s"
     ]
    },
    {
     "name": "stderr",
     "output_type": "stream",
     "text": [
      "\n",
      "\n",
      "\n",
      "\n",
      "\n",
      "\n",
      "\n",
      " 23%|████████████████████████▌                                                                                | 523k/2.18M [00:04<00:11, 155kB/s]\u001b[A\u001b[A\u001b[A\u001b[A\u001b[A\u001b[A\u001b[A\n",
      "\n",
      "\n",
      "\n",
      " 51%|████████████████████████████████████████████████████▏                                                  | 4.96M/9.81M [00:04<00:03, 1.48MB/s]\u001b[A\u001b[A\u001b[A\u001b[A\n",
      "\n",
      "\n",
      " 98%|████████████████████████████████████████████████████████████████████████████████████████████████████▉  | 5.44M/5.56M [00:04<00:00, 1.35MB/s]\u001b[A\u001b[A\u001b[A"
     ]
    },
    {
     "name": "stdout",
     "output_type": "stream",
     "text": [
      "[######################                  ] | 55% Completed |  8.8s"
     ]
    },
    {
     "name": "stderr",
     "output_type": "stream",
     "text": [
      "\n",
      "\n",
      "\n",
      "                                                                                                                                                 \u001b[A\u001b[A\u001b[A2022-03-14 10:55:02,428 INFO Download rate 873K/s\n"
     ]
    },
    {
     "name": "stdout",
     "output_type": "stream",
     "text": [
      "[######################                  ] | 55% Completed |  8.9s"
     ]
    },
    {
     "name": "stderr",
     "output_type": "stream",
     "text": [
      "\n",
      "\n",
      "\n",
      "\n",
      "\n",
      "\n",
      "\n",
      "\n",
      " 60%|██████████████████████████████████████████████████████████████▏                                         | 3.26M/5.45M [00:04<00:02, 917kB/s]\u001b[A\u001b[A\u001b[A\u001b[A\u001b[A\u001b[A\u001b[A\u001b[A"
     ]
    },
    {
     "name": "stdout",
     "output_type": "stream",
     "text": [
      "[######################                  ] | 55% Completed |  9.0s"
     ]
    },
    {
     "name": "stderr",
     "output_type": "stream",
     "text": [
      "\n",
      "\n",
      "\n",
      "\n",
      "\n",
      "\n",
      "\n",
      " 25%|██████████████████████████▍                                                                              | 563k/2.18M [00:04<00:11, 151kB/s]\u001b[A\u001b[A\u001b[A\u001b[A\u001b[A\u001b[A\u001b[A\n",
      "\n",
      "\n",
      "\n",
      " 55%|████████████████████████████████████████████████████████▋                                              | 5.39M/9.81M [00:04<00:03, 1.52MB/s]\u001b[A\u001b[A\u001b[A\u001b[A"
     ]
    },
    {
     "name": "stdout",
     "output_type": "stream",
     "text": [
      "[######################                  ] | 55% Completed |  9.1s\n",
      "/media/nicolasf/END19101/ICU/data/CDS/operational/forecasts/METEO_FRANCE/TPRATE/ensemble_seas_forecasts_tprate_from_2022_03_METEO_FRANCE.netcdf downloaded OK\n",
      "\n"
     ]
    },
    {
     "name": "stderr",
     "output_type": "stream",
     "text": [
      "\n",
      "\n",
      "\n",
      "\n",
      "\n",
      "\n",
      "\n",
      "\n"
     ]
    },
    {
     "name": "stdout",
     "output_type": "stream",
     "text": [
      "[##########################              ] | 66% Completed |  9.2s"
     ]
    },
    {
     "name": "stderr",
     "output_type": "stream",
     "text": [
      " 65%|███████████████████████████████████████████████████████████████████▏                                    | 3.52M/5.45M [00:04<00:02, 927kB/s]\u001b[A\u001b[A\u001b[A\u001b[A\u001b[A\u001b[A\u001b[A\u001b[A\n",
      "\n",
      "\n",
      "\n",
      "\n",
      "\n",
      "\n",
      " 27%|████████████████████████████▋                                                                            | 611k/2.18M [00:04<00:10, 157kB/s]\u001b[A\u001b[A\u001b[A\u001b[A\u001b[A\u001b[A\u001b[A"
     ]
    },
    {
     "name": "stdout",
     "output_type": "stream",
     "text": [
      "[##########################              ] | 66% Completed |  9.4s"
     ]
    },
    {
     "name": "stderr",
     "output_type": "stream",
     "text": [
      "\n",
      "\n",
      "\n",
      "\n",
      " 59%|█████████████████████████████████████████████████████████████▏                                         | 5.82M/9.81M [00:05<00:02, 1.53MB/s]\u001b[A\u001b[A\u001b[A\u001b[A"
     ]
    },
    {
     "name": "stdout",
     "output_type": "stream",
     "text": [
      "[##########################              ] | 66% Completed |  9.5s"
     ]
    },
    {
     "name": "stderr",
     "output_type": "stream",
     "text": [
      "\n",
      "\n",
      "\n",
      "\n",
      "\n",
      "\n",
      "\n",
      "\n",
      " 69%|████████████████████████████████████████████████████████████████████████                                | 3.78M/5.45M [00:05<00:01, 937kB/s]\u001b[A\u001b[A\u001b[A\u001b[A\u001b[A\u001b[A\u001b[A\u001b[A"
     ]
    },
    {
     "name": "stdout",
     "output_type": "stream",
     "text": [
      "[##########################              ] | 66% Completed |  9.6s"
     ]
    },
    {
     "name": "stderr",
     "output_type": "stream",
     "text": [
      "\n",
      "\n",
      "\n",
      "\n",
      "\n",
      "\n",
      "\n",
      " 29%|██████████████████████████████▌                                                                          | 651k/2.18M [00:05<00:10, 153kB/s]\u001b[A\u001b[A\u001b[A\u001b[A\u001b[A\u001b[A\u001b[A\n",
      "\n",
      "\n",
      "\n",
      " 64%|█████████████████████████████████████████████████████████████████▋                                     | 6.25M/9.81M [00:05<00:02, 1.55MB/s]\u001b[A\u001b[A\u001b[A\u001b[A"
     ]
    },
    {
     "name": "stdout",
     "output_type": "stream",
     "text": [
      "[##########################              ] | 66% Completed |  9.8s"
     ]
    },
    {
     "name": "stderr",
     "output_type": "stream",
     "text": [
      "\n",
      "\n",
      "\n",
      "\n",
      "\n",
      "\n",
      "\n",
      "\n",
      " 74%|█████████████████████████████████████████████████████████████████████████████▏                          | 4.04M/5.45M [00:05<00:01, 943kB/s]\u001b[A\u001b[A\u001b[A\u001b[A\u001b[A\u001b[A\u001b[A\u001b[A"
     ]
    },
    {
     "name": "stdout",
     "output_type": "stream",
     "text": [
      "[##########################              ] | 66% Completed |  9.9s"
     ]
    },
    {
     "name": "stderr",
     "output_type": "stream",
     "text": [
      "\n",
      "\n",
      "\n",
      "\n",
      "\n",
      "\n",
      "\n",
      " 31%|████████████████████████████████▊                                                                        | 699k/2.18M [00:05<00:09, 158kB/s]\u001b[A\u001b[A\u001b[A\u001b[A\u001b[A\u001b[A\u001b[A\n",
      "\n",
      "\n",
      "\n",
      " 68%|██████████████████████████████████████████████████████████████████████▏                                | 6.68M/9.81M [00:05<00:02, 1.56MB/s]\u001b[A\u001b[A\u001b[A\u001b[A"
     ]
    },
    {
     "name": "stdout",
     "output_type": "stream",
     "text": [
      "[##########################              ] | 66% Completed | 10.1s"
     ]
    },
    {
     "name": "stderr",
     "output_type": "stream",
     "text": [
      "\n",
      "\n",
      "\n",
      "\n",
      "\n",
      "\n",
      "\n",
      "\n",
      " 79%|██████████████████████████████████████████████████████████████████████████████████▎                     | 4.31M/5.45M [00:05<00:01, 963kB/s]\u001b[A\u001b[A\u001b[A\u001b[A\u001b[A\u001b[A\u001b[A\u001b[A"
     ]
    },
    {
     "name": "stdout",
     "output_type": "stream",
     "text": [
      "[##########################              ] | 66% Completed | 10.2s"
     ]
    },
    {
     "name": "stderr",
     "output_type": "stream",
     "text": [
      "\n",
      "\n",
      "\n",
      "\n",
      " 73%|██████████████████████████████████████████████████████████████████████████▋                            | 7.11M/9.81M [00:06<00:01, 1.57MB/s]\u001b[A\u001b[A\u001b[A\u001b[A\n",
      "\n",
      "\n",
      "\n",
      "\n",
      "\n",
      "\n",
      " 33%|███████████████████████████████████▏                                                                     | 747k/2.18M [00:05<00:09, 161kB/s]\u001b[A\u001b[A\u001b[A\u001b[A\u001b[A\u001b[A\u001b[A"
     ]
    },
    {
     "name": "stdout",
     "output_type": "stream",
     "text": [
      "[##########################              ] | 66% Completed | 10.4s"
     ]
    },
    {
     "name": "stderr",
     "output_type": "stream",
     "text": [
      "\n",
      "\n",
      "\n",
      "\n",
      "\n",
      "\n",
      "\n",
      "\n",
      " 84%|███████████████████████████████████████████████████████████████████████████████████████▌                | 4.59M/5.45M [00:05<00:00, 978kB/s]\u001b[A\u001b[A\u001b[A\u001b[A\u001b[A\u001b[A\u001b[A\u001b[A"
     ]
    },
    {
     "name": "stdout",
     "output_type": "stream",
     "text": [
      "[##########################              ] | 66% Completed | 10.5s"
     ]
    },
    {
     "name": "stderr",
     "output_type": "stream",
     "text": [
      "\n",
      "\n",
      "\n",
      "\n",
      " 77%|███████████████████████████████████████████████████████████████████████████████▏                       | 7.54M/9.81M [00:06<00:01, 1.57MB/s]\u001b[A\u001b[A\u001b[A\u001b[A\n",
      "\n",
      "\n",
      "\n",
      "\n",
      "\n",
      "\n",
      " 36%|█████████████████████████████████████▍                                                                   | 795k/2.18M [00:06<00:09, 163kB/s]\u001b[A\u001b[A\u001b[A\u001b[A\u001b[A\u001b[A\u001b[A"
     ]
    },
    {
     "name": "stdout",
     "output_type": "stream",
     "text": [
      "[##########################              ] | 66% Completed | 10.6s"
     ]
    },
    {
     "name": "stderr",
     "output_type": "stream",
     "text": [
      "\n",
      "\n",
      "\n",
      "\n",
      "\n",
      "\n",
      "\n",
      "\n",
      " 89%|████████████████████████████████████████████████████████████████████████████████████████████▉           | 4.87M/5.45M [00:06<00:00, 997kB/s]\u001b[A\u001b[A\u001b[A\u001b[A\u001b[A\u001b[A\u001b[A\u001b[A"
     ]
    },
    {
     "name": "stdout",
     "output_type": "stream",
     "text": [
      "[##########################              ] | 66% Completed | 10.8s"
     ]
    },
    {
     "name": "stderr",
     "output_type": "stream",
     "text": [
      "\n",
      "\n",
      "\n",
      "\n",
      " 81%|███████████████████████████████████████████████████████████████████████████████████▋                   | 7.97M/9.81M [00:06<00:01, 1.58MB/s]\u001b[A\u001b[A\u001b[A\u001b[A\n",
      "\n",
      "\n",
      "\n",
      "\n",
      "\n",
      "\n",
      " 38%|███████████████████████████████████████▋                                                                 | 843k/2.18M [00:06<00:08, 166kB/s]\u001b[A\u001b[A\u001b[A\u001b[A\u001b[A\u001b[A\u001b[A"
     ]
    },
    {
     "name": "stdout",
     "output_type": "stream",
     "text": [
      "[##########################              ] | 66% Completed | 10.9s"
     ]
    },
    {
     "name": "stderr",
     "output_type": "stream",
     "text": [
      "\n",
      "\n",
      "\n",
      "\n",
      "\n",
      "\n",
      "\n",
      "\n",
      " 95%|█████████████████████████████████████████████████████████████████████████████████████████████████▌     | 5.16M/5.45M [00:06<00:00, 1.02MB/s]\u001b[A\u001b[A\u001b[A\u001b[A\u001b[A\u001b[A\u001b[A\u001b[A"
     ]
    },
    {
     "name": "stdout",
     "output_type": "stream",
     "text": [
      "[##########################              ] | 66% Completed | 11.0s"
     ]
    },
    {
     "name": "stderr",
     "output_type": "stream",
     "text": [
      "\n",
      "\n",
      "\n",
      "\n",
      " 86%|████████████████████████████████████████████████████████████████████████████████████████▎              | 8.41M/9.81M [00:06<00:00, 1.59MB/s]\u001b[A\u001b[A\u001b[A\u001b[A\n",
      "\n",
      "\n",
      "\n",
      "\n",
      "\n",
      "\n",
      " 40%|█████████████████████████████████████████▉                                                               | 891k/2.18M [00:06<00:08, 169kB/s]\u001b[A\u001b[A\u001b[A\u001b[A\u001b[A\u001b[A\u001b[A"
     ]
    },
    {
     "name": "stdout",
     "output_type": "stream",
     "text": [
      "[##########################              ] | 66% Completed | 11.1s"
     ]
    },
    {
     "name": "stderr",
     "output_type": "stream",
     "text": [
      "\n",
      "\n",
      "\n",
      "\n",
      "\n",
      "\n",
      "\n",
      "\n",
      "                                                                                                                                                 \u001b[A\u001b[A\u001b[A\u001b[A\u001b[A\u001b[A\u001b[A\u001b[A2022-03-14 10:55:04,618 INFO Download rate 639.5K/s\n"
     ]
    },
    {
     "name": "stdout",
     "output_type": "stream",
     "text": [
      "[##########################              ] | 66% Completed | 11.3s"
     ]
    },
    {
     "name": "stderr",
     "output_type": "stream",
     "text": [
      "\n",
      "\n",
      "\n",
      "\n",
      " 90%|████████████████████████████████████████████████████████████████████████████████████████████▉          | 8.85M/9.81M [00:07<00:00, 1.60MB/s]\u001b[A\u001b[A\u001b[A\u001b[A\n",
      "\n",
      "\n",
      "\n",
      "\n",
      "\n",
      "\n",
      " 42%|████████████████████████████████████████████▌                                                            | 947k/2.18M [00:06<00:07, 176kB/s]\u001b[A\u001b[A\u001b[A\u001b[A\u001b[A\u001b[A\u001b[A"
     ]
    },
    {
     "name": "stdout",
     "output_type": "stream",
     "text": [
      "[##########################              ] | 66% Completed | 11.4s\n",
      "/media/nicolasf/END19101/ICU/data/CDS/operational/forecasts/DWD/TPRATE/ensemble_seas_forecasts_tprate_from_2022_03_DWD.netcdf downloaded OK\n",
      "\n",
      "[###############################         ] | 77% Completed | 11.6s"
     ]
    },
    {
     "name": "stderr",
     "output_type": "stream",
     "text": [
      "\n",
      "\n",
      "\n",
      "\n",
      " 95%|█████████████████████████████████████████████████████████████████████████████████████████████████▌     | 9.29M/9.81M [00:07<00:00, 1.60MB/s]\u001b[A\u001b[A\u001b[A\u001b[A\n",
      "\n",
      "\n",
      "\n",
      "\n",
      "\n",
      "\n",
      " 45%|██████████████████████████████████████████████▊                                                          | 995k/2.18M [00:07<00:07, 176kB/s]\u001b[A\u001b[A\u001b[A\u001b[A\u001b[A\u001b[A\u001b[A"
     ]
    },
    {
     "name": "stdout",
     "output_type": "stream",
     "text": [
      "[###############################         ] | 77% Completed | 11.9s"
     ]
    },
    {
     "name": "stderr",
     "output_type": "stream",
     "text": [
      "\n",
      "\n",
      "\n",
      "\n",
      " 99%|██████████████████████████████████████████████████████████████████████████████████████████████████████▎| 9.74M/9.81M [00:07<00:00, 1.62MB/s]\u001b[A\u001b[A\u001b[A\u001b[A\n",
      "\n",
      "\n",
      "\n",
      "\n",
      "\n",
      "\n",
      " 47%|█████████████████████████████████████████████████▏                                                      | 1.03M/2.18M [00:07<00:06, 188kB/s]\u001b[A\u001b[A\u001b[A\u001b[A\u001b[A\u001b[A\u001b[A"
     ]
    },
    {
     "name": "stdout",
     "output_type": "stream",
     "text": [
      "[###############################         ] | 77% Completed | 12.0s"
     ]
    },
    {
     "name": "stderr",
     "output_type": "stream",
     "text": [
      "\n",
      "\n",
      "\n",
      "\n",
      "                                                                                                                                                 \u001b[A\u001b[A\u001b[A\u001b[A2022-03-14 10:55:05,596 INFO Download rate 1M/s\n"
     ]
    },
    {
     "name": "stdout",
     "output_type": "stream",
     "text": [
      "[###############################         ] | 77% Completed | 12.2s"
     ]
    },
    {
     "name": "stderr",
     "output_type": "stream",
     "text": [
      "\n",
      "\n",
      "\n",
      "\n",
      "\n",
      "\n",
      "\n",
      " 50%|████████████████████████████████████████████████████                                                    | 1.09M/2.18M [00:07<00:05, 200kB/s]\u001b[A\u001b[A\u001b[A\u001b[A\u001b[A\u001b[A\u001b[A"
     ]
    },
    {
     "name": "stdout",
     "output_type": "stream",
     "text": [
      "[###############################         ] | 77% Completed | 12.3s\n",
      "/media/nicolasf/END19101/ICU/data/CDS/operational/forecasts/JMA/TPRATE/ensemble_seas_forecasts_tprate_from_2022_03_JMA.netcdf downloaded OK\n",
      "\n",
      "[###################################     ] | 88% Completed | 12.5s"
     ]
    },
    {
     "name": "stderr",
     "output_type": "stream",
     "text": [
      "\n",
      "\n",
      "\n",
      "\n",
      "\n",
      "\n",
      "\n",
      " 53%|███████████████████████████████████████████████████████▍                                                | 1.16M/2.18M [00:08<00:04, 214kB/s]\u001b[A\u001b[A\u001b[A\u001b[A\u001b[A\u001b[A\u001b[A"
     ]
    },
    {
     "name": "stdout",
     "output_type": "stream",
     "text": [
      "[###################################     ] | 88% Completed | 12.7s"
     ]
    },
    {
     "name": "stderr",
     "output_type": "stream",
     "text": [
      "\n",
      "\n",
      "\n",
      "\n",
      "\n",
      "\n",
      "\n",
      " 57%|██████████████████████████████████████████████████████████▊                                             | 1.23M/2.18M [00:08<00:04, 229kB/s]\u001b[A\u001b[A\u001b[A\u001b[A\u001b[A\u001b[A\u001b[A"
     ]
    },
    {
     "name": "stdout",
     "output_type": "stream",
     "text": [
      "[###################################     ] | 88% Completed | 13.0s"
     ]
    },
    {
     "name": "stderr",
     "output_type": "stream",
     "text": [
      "\n",
      "\n",
      "\n",
      "\n",
      "\n",
      "\n",
      "\n",
      " 60%|██████████████████████████████████████████████████████████████▌                                         | 1.31M/2.18M [00:08<00:03, 246kB/s]\u001b[A\u001b[A\u001b[A\u001b[A\u001b[A\u001b[A\u001b[A"
     ]
    },
    {
     "name": "stdout",
     "output_type": "stream",
     "text": [
      "[###################################     ] | 88% Completed | 13.3s"
     ]
    },
    {
     "name": "stderr",
     "output_type": "stream",
     "text": [
      "\n",
      "\n",
      "\n",
      "\n",
      "\n",
      "\n",
      "\n",
      " 64%|██████████████████████████████████████████████████████████████████▋                                     | 1.40M/2.18M [00:08<00:03, 266kB/s]\u001b[A\u001b[A\u001b[A\u001b[A\u001b[A\u001b[A\u001b[A"
     ]
    },
    {
     "name": "stdout",
     "output_type": "stream",
     "text": [
      "[###################################     ] | 88% Completed | 13.6s"
     ]
    },
    {
     "name": "stderr",
     "output_type": "stream",
     "text": [
      "\n",
      "\n",
      "\n",
      "\n",
      "\n",
      "\n",
      "\n",
      " 69%|███████████████████████████████████████████████████████████████████████▌                                | 1.50M/2.18M [00:09<00:02, 297kB/s]\u001b[A\u001b[A\u001b[A\u001b[A\u001b[A\u001b[A\u001b[A"
     ]
    },
    {
     "name": "stdout",
     "output_type": "stream",
     "text": [
      "[###################################     ] | 88% Completed | 13.9s"
     ]
    },
    {
     "name": "stderr",
     "output_type": "stream",
     "text": [
      "\n",
      "\n",
      "\n",
      "\n",
      "\n",
      "\n",
      "\n",
      " 74%|████████████████████████████████████████████████████████████████████████████▊                           | 1.61M/2.18M [00:09<00:01, 328kB/s]\u001b[A\u001b[A\u001b[A\u001b[A\u001b[A\u001b[A\u001b[A"
     ]
    },
    {
     "name": "stdout",
     "output_type": "stream",
     "text": [
      "[###################################     ] | 88% Completed | 14.2s"
     ]
    },
    {
     "name": "stderr",
     "output_type": "stream",
     "text": [
      "\n",
      "\n",
      "\n",
      "\n",
      "\n",
      "\n",
      "\n",
      " 80%|██████████████████████████████████████████████████████████████████████████████████▊                     | 1.74M/2.18M [00:09<00:01, 366kB/s]\u001b[A\u001b[A\u001b[A\u001b[A\u001b[A\u001b[A\u001b[A"
     ]
    },
    {
     "name": "stdout",
     "output_type": "stream",
     "text": [
      "[###################################     ] | 88% Completed | 14.4s"
     ]
    },
    {
     "name": "stderr",
     "output_type": "stream",
     "text": [
      "\n",
      "\n",
      "\n",
      "\n",
      "\n",
      "\n",
      "\n",
      " 86%|█████████████████████████████████████████████████████████████████████████████████████████               | 1.87M/2.18M [00:10<00:00, 405kB/s]\u001b[A\u001b[A\u001b[A\u001b[A\u001b[A\u001b[A\u001b[A"
     ]
    },
    {
     "name": "stdout",
     "output_type": "stream",
     "text": [
      "[###################################     ] | 88% Completed | 14.7s"
     ]
    },
    {
     "name": "stderr",
     "output_type": "stream",
     "text": [
      "\n",
      "\n",
      "\n",
      "\n",
      "\n",
      "\n",
      "\n",
      " 93%|████████████████████████████████████████████████████████████████████████████████████████████████▎       | 2.02M/2.18M [00:10<00:00, 450kB/s]\u001b[A\u001b[A\u001b[A\u001b[A\u001b[A\u001b[A\u001b[A"
     ]
    },
    {
     "name": "stdout",
     "output_type": "stream",
     "text": [
      "[###################################     ] | 88% Completed | 15.0s"
     ]
    },
    {
     "name": "stderr",
     "output_type": "stream",
     "text": [
      "\n",
      "\n",
      "\n",
      "\n",
      "\n",
      "\n",
      "\n",
      "                                                                                                                                                 \u001b[A\u001b[A\u001b[A\u001b[A\u001b[A\u001b[A\u001b[A2022-03-14 10:55:08,522 INFO Download rate 177K/s\n"
     ]
    },
    {
     "name": "stdout",
     "output_type": "stream",
     "text": [
      "[###################################     ] | 88% Completed | 15.3s\n",
      "/media/nicolasf/END19101/ICU/data/CDS/operational/forecasts/ECCC_GEM_NEMO/TPRATE/ensemble_seas_forecasts_tprate_from_2022_03_ECCC.netcdf downloaded OK\n",
      "\n",
      "[########################################] | 100% Completed | 15.4s\n"
     ]
    }
   ],
   "source": [
    "with ProgressBar():\n",
    "    downloaded_files = compute(downloaded_files)"
   ]
  },
  {
   "cell_type": "code",
   "execution_count": 24,
   "metadata": {},
   "outputs": [],
   "source": [
    "# for GCM in list_GCMs: \n",
    "    \n",
    "#     f = C3S.download(\n",
    "#     GCM=GCM,\n",
    "#     varname=var_name,\n",
    "#     year=date.year,\n",
    "#     month=date.month,\n",
    "#     leadtimes=[1, 2, 3, 4, 5, 6],\n",
    "#     opath=gcm_path.joinpath(GCM).joinpath(var_name.upper()),\n",
    "#     domain=domains.domains['C3S_download'],\n",
    "#     file_format='netcdf',\n",
    "#     level='surface',\n",
    "#     max_retry=3,\n",
    "#     )   \n",
    "#     lfiles.append(f)"
   ]
  },
  {
   "cell_type": "markdown",
   "metadata": {},
   "source": [
    "### check dimensions and return the total number of members in the C3S MME "
   ]
  },
  {
   "cell_type": "code",
   "execution_count": 25,
   "metadata": {},
   "outputs": [],
   "source": [
    "import xarray as xr"
   ]
  },
  {
   "cell_type": "code",
   "execution_count": 26,
   "metadata": {},
   "outputs": [
    {
     "name": "stdout",
     "output_type": "stream",
     "text": [
      "Frozen({'longitude': 141, 'latitude': 81, 'number': 51, 'time': 5})\n",
      "Frozen({'longitude': 141, 'latitude': 81, 'number': 56, 'time': 5})\n",
      "Frozen({'longitude': 141, 'latitude': 81, 'number': 51, 'time': 5})\n",
      "Frozen({'longitude': 141, 'latitude': 81, 'number': 50, 'time': 5})\n",
      "Frozen({'longitude': 141, 'latitude': 81, 'number': 50, 'time': 5})\n",
      "Frozen({'longitude': 141, 'latitude': 81, 'number': 112, 'time': 5})\n",
      "Frozen({'longitude': 113, 'latitude': 65, 'number': 140, 'time': 5})\n",
      "Frozen({'longitude': 141, 'latitude': 81, 'number': 10, 'time': 5, 'system': 2})\n",
      "<xarray.DataArray 'system' (system: 2)>\n",
      "array([2, 3], dtype=int32)\n",
      "Coordinates:\n",
      "  * system   (system) int32 2 3\n",
      "Attributes:\n",
      "    long_name:  system\n",
      "Frozen({'longitude': 141, 'latitude': 81, 'number': 10, 'time': 5, 'system': 2})\n",
      "<xarray.DataArray 'system' (system: 2)>\n",
      "array([2, 3], dtype=int32)\n",
      "Coordinates:\n",
      "  * system   (system) int32 2 3\n",
      "Attributes:\n",
      "    long_name:  system\n"
     ]
    }
   ],
   "source": [
    "members = []\n",
    "for f in downloaded_files[0]: \n",
    "    dset = xr.open_dataset(f)\n",
    "    members.append(dset.dims['number'])\n",
    "    print(dset.dims)\n",
    "    if 'system' in dset.dims:\n",
    "        print(dset['system'])\n",
    "    "
   ]
  },
  {
   "cell_type": "code",
   "execution_count": 27,
   "metadata": {},
   "outputs": [],
   "source": [
    "import numpy as np "
   ]
  },
  {
   "cell_type": "code",
   "execution_count": 28,
   "metadata": {},
   "outputs": [
    {
     "data": {
      "text/plain": [
       "530"
      ]
     },
     "execution_count": 28,
     "metadata": {},
     "output_type": "execute_result"
    }
   ],
   "source": [
    "np.array(members).sum()"
   ]
  },
  {
   "cell_type": "code",
   "execution_count": 29,
   "metadata": {},
   "outputs": [
    {
     "data": {
      "text/plain": [
       "[PosixPath('/media/nicolasf/END19101/ICU/data/CDS/operational/forecasts/ECMWF/TPRATE/ensemble_seas_forecasts_tprate_from_2022_03_ECMWF.netcdf'),\n",
       " PosixPath('/media/nicolasf/END19101/ICU/data/CDS/operational/forecasts/UKMO/TPRATE/ensemble_seas_forecasts_tprate_from_2022_03_UKMO.netcdf'),\n",
       " PosixPath('/media/nicolasf/END19101/ICU/data/CDS/operational/forecasts/METEO_FRANCE/TPRATE/ensemble_seas_forecasts_tprate_from_2022_03_METEO_FRANCE.netcdf'),\n",
       " PosixPath('/media/nicolasf/END19101/ICU/data/CDS/operational/forecasts/DWD/TPRATE/ensemble_seas_forecasts_tprate_from_2022_03_DWD.netcdf'),\n",
       " PosixPath('/media/nicolasf/END19101/ICU/data/CDS/operational/forecasts/CMCC/TPRATE/ensemble_seas_forecasts_tprate_from_2022_03_CMCC.netcdf'),\n",
       " PosixPath('/media/nicolasf/END19101/ICU/data/CDS/operational/forecasts/NCEP/TPRATE/ensemble_seas_forecasts_tprate_from_2022_03_NCEP.netcdf'),\n",
       " PosixPath('/media/nicolasf/END19101/ICU/data/CDS/operational/forecasts/JMA/TPRATE/ensemble_seas_forecasts_tprate_from_2022_03_JMA.netcdf'),\n",
       " PosixPath('/media/nicolasf/END19101/ICU/data/CDS/operational/forecasts/ECCC_GEM_NEMO/TPRATE/ensemble_seas_forecasts_tprate_from_2022_03_ECCC.netcdf'),\n",
       " PosixPath('/media/nicolasf/END19101/ICU/data/CDS/operational/forecasts/ECCC_CanCM4i/TPRATE/ensemble_seas_forecasts_tprate_from_2022_03_ECCC.netcdf')]"
      ]
     },
     "execution_count": 29,
     "metadata": {},
     "output_type": "execute_result"
    }
   ],
   "source": [
    "downloaded_files[0]"
   ]
  },
  {
   "cell_type": "code",
   "execution_count": null,
   "metadata": {},
   "outputs": [],
   "source": []
  }
 ],
 "metadata": {
  "kernelspec": {
   "display_name": "Python 3 (ipykernel)",
   "language": "python",
   "name": "python3"
  },
  "language_info": {
   "codemirror_mode": {
    "name": "ipython",
    "version": 3
   },
   "file_extension": ".py",
   "mimetype": "text/x-python",
   "name": "python",
   "nbconvert_exporter": "python",
   "pygments_lexer": "ipython3",
   "version": "3.9.10"
  },
  "papermill": {
   "duration": 114.72282,
   "end_time": "2020-02-06T23:48:33.529053",
   "environment_variables": {},
   "exception": null,
   "input_path": "./download_CDS_forecasts.ipynb",
   "output_path": "./download_CDS_forecasts.ipynb",
   "parameters": {
    "GCM": "CMCC",
    "month": 12,
    "var_name": "PRECIP",
    "year": 2018
   },
   "start_time": "2020-02-06T23:46:38.806233",
   "version": "1.2.1"
  }
 },
 "nbformat": 4,
 "nbformat_minor": 4
}
