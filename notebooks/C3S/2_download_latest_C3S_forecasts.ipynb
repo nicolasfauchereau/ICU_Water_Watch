{
 "cells": [
  {
   "cell_type": "markdown",
   "metadata": {},
   "source": [
    "### download the last month of the CDS raw forecasts "
   ]
  },
  {
   "cell_type": "code",
   "execution_count": 1,
   "metadata": {},
   "outputs": [],
   "source": [
    "%load_ext autoreload\n",
    "%autoreload 2"
   ]
  },
  {
   "cell_type": "code",
   "execution_count": 2,
   "metadata": {
    "papermill": {
     "duration": 0.086706,
     "end_time": "2020-02-06T23:46:40.196481",
     "exception": false,
     "start_time": "2020-02-06T23:46:40.109775",
     "status": "completed"
    },
    "tags": []
   },
   "outputs": [],
   "source": [
    "import sys\n",
    "import pathlib\n",
    "from datetime import datetime\n",
    "from dateutil.relativedelta import relativedelta"
   ]
  },
  {
   "cell_type": "code",
   "execution_count": 3,
   "metadata": {},
   "outputs": [],
   "source": [
    "from dask import delayed, compute\n",
    "from dask.diagnostics import ProgressBar"
   ]
  },
  {
   "cell_type": "code",
   "execution_count": 4,
   "metadata": {
    "papermill": {
     "duration": 0.012961,
     "end_time": "2020-02-06T23:46:40.218011",
     "exception": false,
     "start_time": "2020-02-06T23:46:40.205050",
     "status": "completed"
    },
    "tags": []
   },
   "outputs": [],
   "source": [
    "HOME = pathlib.Path.home()"
   ]
  },
  {
   "cell_type": "code",
   "execution_count": 5,
   "metadata": {},
   "outputs": [],
   "source": [
    "CWD = pathlib.Path.cwd()"
   ]
  },
  {
   "cell_type": "code",
   "execution_count": 6,
   "metadata": {},
   "outputs": [
    {
     "data": {
      "text/plain": [
       "PosixPath('/home/nicolasf/operational/ICU/development/hotspots/code/ICU_Water_Watch/notebooks/C3S')"
      ]
     },
     "execution_count": 6,
     "metadata": {},
     "output_type": "execute_result"
    }
   ],
   "source": [
    "CWD"
   ]
  },
  {
   "cell_type": "markdown",
   "metadata": {},
   "source": [
    "### import local functions for the downloading of the C3S forecasts "
   ]
  },
  {
   "cell_type": "code",
   "execution_count": 7,
   "metadata": {},
   "outputs": [],
   "source": [
    "sys.path.append('../..')"
   ]
  },
  {
   "cell_type": "code",
   "execution_count": 8,
   "metadata": {},
   "outputs": [],
   "source": [
    "from ICU_Water_Watch import C3S, domains"
   ]
  },
  {
   "cell_type": "markdown",
   "metadata": {},
   "source": [
    "### show the predefined domains "
   ]
  },
  {
   "cell_type": "code",
   "execution_count": 9,
   "metadata": {},
   "outputs": [
    {
     "data": {
      "text/plain": [
       "{'Tropical_Pacific': [140, 220, -25, 25],\n",
       " 'SW_Pacific': [172.5, 190, -22.5, -12],\n",
       " 'Fiji': [175, 183, -21, -15],\n",
       " 'NZ': [161, 181, -50, -30],\n",
       " 'Pacific': [140, 240, -50, 25],\n",
       " 'C3S_download': [100, 240, -50, 30],\n",
       " 'Water_Watch': [120, 240, -38, 22.5]}"
      ]
     },
     "execution_count": 9,
     "metadata": {},
     "output_type": "execute_result"
    }
   ],
   "source": [
    "domains.domains"
   ]
  },
  {
   "cell_type": "markdown",
   "metadata": {},
   "source": [
    "### provider (always CDS for now)"
   ]
  },
  {
   "cell_type": "code",
   "execution_count": 10,
   "metadata": {
    "papermill": {
     "duration": 0.012879,
     "end_time": "2020-02-06T23:46:40.239506",
     "exception": false,
     "start_time": "2020-02-06T23:46:40.226627",
     "status": "completed"
    },
    "tags": []
   },
   "outputs": [],
   "source": [
    "provider = 'CDS'"
   ]
  },
  {
   "cell_type": "markdown",
   "metadata": {},
   "source": [
    "### variable name"
   ]
  },
  {
   "cell_type": "code",
   "execution_count": 11,
   "metadata": {},
   "outputs": [],
   "source": [
    "var_name = 'tprate'"
   ]
  },
  {
   "cell_type": "markdown",
   "metadata": {},
   "source": [
    "### list of GCMs "
   ]
  },
  {
   "cell_type": "code",
   "execution_count": 12,
   "metadata": {},
   "outputs": [],
   "source": [
    "list_GCMs = ['ECMWF','UKMO','METEO_FRANCE','CMCC','DWD', 'NCEP', 'JMA', 'ECCC']"
   ]
  },
  {
   "cell_type": "markdown",
   "metadata": {},
   "source": [
    "### lag in months (if need to download older forecasts)"
   ]
  },
  {
   "cell_type": "code",
   "execution_count": 13,
   "metadata": {},
   "outputs": [],
   "source": [
    "lag = 0 "
   ]
  },
  {
   "cell_type": "markdown",
   "metadata": {},
   "source": [
    "### get today's date "
   ]
  },
  {
   "cell_type": "code",
   "execution_count": 14,
   "metadata": {},
   "outputs": [],
   "source": [
    "date = datetime.utcnow()"
   ]
  },
  {
   "cell_type": "markdown",
   "metadata": {},
   "source": [
    "### apply lag "
   ]
  },
  {
   "cell_type": "code",
   "execution_count": 15,
   "metadata": {},
   "outputs": [],
   "source": [
    "date = date - relativedelta(months=lag)"
   ]
  },
  {
   "cell_type": "code",
   "execution_count": 16,
   "metadata": {},
   "outputs": [
    {
     "name": "stdout",
     "output_type": "stream",
     "text": [
      "will download the forecasts issued in September 2021\n"
     ]
    }
   ],
   "source": [
    "print(f\"will download the forecasts issued in {date:%B %Y}\")"
   ]
  },
  {
   "cell_type": "markdown",
   "metadata": {},
   "source": [
    "### path to download the realtime forecasts "
   ]
  },
  {
   "cell_type": "code",
   "execution_count": 17,
   "metadata": {},
   "outputs": [],
   "source": [
    "gcm_path = pathlib.Path(f'/media/nicolasf/END19101/ICU/data/CDS/operational/forecasts')"
   ]
  },
  {
   "cell_type": "code",
   "execution_count": 18,
   "metadata": {},
   "outputs": [],
   "source": [
    "if not(gcm_path.exists()): \n",
    "    gcm_path.mkdir(parents=True)"
   ]
  },
  {
   "cell_type": "markdown",
   "metadata": {},
   "source": [
    "### use dask to parallelize the download of the forecasts "
   ]
  },
  {
   "cell_type": "code",
   "execution_count": 19,
   "metadata": {},
   "outputs": [
    {
     "data": {
      "text/plain": [
       "['ECMWF', 'UKMO', 'METEO_FRANCE', 'CMCC', 'DWD', 'NCEP', 'JMA', 'ECCC']"
      ]
     },
     "execution_count": 19,
     "metadata": {},
     "output_type": "execute_result"
    }
   ],
   "source": [
    "list_GCMs"
   ]
  },
  {
   "cell_type": "code",
   "execution_count": 20,
   "metadata": {},
   "outputs": [],
   "source": [
    "downloaded_files = []\n",
    "\n",
    "for GCM in list_GCMs:\n",
    "    \n",
    "    args = dict(GCM=GCM,\n",
    "    varname=var_name,\n",
    "    year=date.year,\n",
    "    month=date.month,\n",
    "    leadtimes=[1, 2, 3, 4, 5, 6],\n",
    "    opath=gcm_path.joinpath(GCM).joinpath(var_name.upper()),\n",
    "    domain=domains.domains['C3S_download'],\n",
    "    file_format='netcdf',\n",
    "    level='surface',\n",
    "    max_retry=3)\n",
    "    \n",
    "    downloaded_files.append(delayed(C3S.download)(**args))\n"
   ]
  },
  {
   "cell_type": "code",
   "execution_count": 21,
   "metadata": {},
   "outputs": [
    {
     "name": "stdout",
     "output_type": "stream",
     "text": [
      "[                                        ] | 0% Completed |  0.0s\n",
      "/media/nicolasf/END19101/ICU/data/CDS/operational/forecasts/CMCC/TPRATE/ensemble_seas_forecasts_tprate_from_2021_09_CMCC.netcdf exists already on disk, skipping download and returning path\n",
      "\n",
      "\n",
      "/media/nicolasf/END19101/ICU/data/CDS/operational/forecasts/JMA/TPRATE/ensemble_seas_forecasts_tprate_from_2021_09_JMA.netcdf exists already on disk, skipping download and returning path\n",
      "\n",
      "\n",
      "/media/nicolasf/END19101/ICU/data/CDS/operational/forecasts/NCEP/TPRATE/ensemble_seas_forecasts_tprate_from_2021_09_NCEP.netcdf exists already on disk, skipping download and returning path\n",
      "\n",
      "\n",
      "/media/nicolasf/END19101/ICU/data/CDS/operational/forecasts/UKMO/TPRATE/ensemble_seas_forecasts_tprate_from_2021_09_UKMO.netcdf exists already on disk, skipping download and returning path\n",
      "\n",
      "/media/nicolasf/END19101/ICU/data/CDS/operational/forecasts/METEO_FRANCE/TPRATE/ensemble_seas_forecasts_tprate_from_2021_09_METEO_FRANCE.netcdf exists already on disk, skipping download and returning path\n",
      "\n",
      "\n",
      "\n",
      "/media/nicolasf/END19101/ICU/data/CDS/operational/forecasts/ECCC/TPRATE/ensemble_seas_forecasts_tprate_from_2021_09_ECCC.netcdf exists already on disk, skipping download and returning path\n",
      "\n",
      "/media/nicolasf/END19101/ICU/data/CDS/operational/forecasts/ECMWF/TPRATE/ensemble_seas_forecasts_tprate_from_2021_09_ECMWF.netcdf exists already on disk, skipping download and returning path\n",
      "\n",
      "\n",
      "\n",
      "/media/nicolasf/END19101/ICU/data/CDS/operational/forecasts/DWD/TPRATE/ensemble_seas_forecasts_tprate_from_2021_09_DWD.netcdf exists already on disk, skipping download and returning path\n",
      "\n",
      "[########################################] | 100% Completed |  0.1s\n"
     ]
    }
   ],
   "source": [
    "with ProgressBar():\n",
    "    downloaded_files = compute(downloaded_files)"
   ]
  },
  {
   "cell_type": "code",
   "execution_count": 22,
   "metadata": {},
   "outputs": [],
   "source": [
    "# for GCM in list_GCMs: \n",
    "    \n",
    "#     f = C3S.download(\n",
    "#     GCM=GCM,\n",
    "#     varname=var_name,\n",
    "#     year=date.year,\n",
    "#     month=date.month,\n",
    "#     leadtimes=[1, 2, 3, 4, 5, 6],\n",
    "#     opath=gcm_path.joinpath(GCM).joinpath(var_name.upper()),\n",
    "#     domain=domains.domains['C3S_download'],\n",
    "#     file_format='netcdf',\n",
    "#     level='surface',\n",
    "#     max_retry=3,\n",
    "#     )   \n",
    "#     lfiles.append(f)"
   ]
  },
  {
   "cell_type": "markdown",
   "metadata": {},
   "source": [
    "### check dimensions and return the total number of members in the C3S MME "
   ]
  },
  {
   "cell_type": "code",
   "execution_count": 23,
   "metadata": {},
   "outputs": [],
   "source": [
    "import xarray as xr"
   ]
  },
  {
   "cell_type": "code",
   "execution_count": 24,
   "metadata": {},
   "outputs": [
    {
     "name": "stdout",
     "output_type": "stream",
     "text": [
      "Frozen({'longitude': 141, 'latitude': 81, 'number': 51, 'time': 5})\n",
      "Frozen({'longitude': 141, 'latitude': 81, 'number': 62, 'time': 5})\n",
      "Frozen({'longitude': 141, 'latitude': 81, 'number': 51, 'time': 5})\n",
      "Frozen({'longitude': 141, 'latitude': 81, 'number': 50, 'time': 5})\n",
      "Frozen({'longitude': 141, 'latitude': 81, 'number': 50, 'time': 5})\n",
      "Frozen({'longitude': 141, 'latitude': 81, 'number': 124, 'time': 5})\n",
      "Frozen({'longitude': 57, 'latitude': 33, 'number': 78, 'time': 5})\n",
      "Frozen({'longitude': 141, 'latitude': 81, 'number': 10, 'time': 5, 'system': 2})\n",
      "<xarray.DataArray 'system' (system: 2)>\n",
      "array([1, 2], dtype=int32)\n",
      "Coordinates:\n",
      "  * system   (system) int32 1 2\n",
      "Attributes:\n",
      "    long_name:  system\n"
     ]
    }
   ],
   "source": [
    "members = []\n",
    "for f in downloaded_files[0]: \n",
    "    dset = xr.open_dataset(f)\n",
    "    members.append(dset.dims['number'])\n",
    "    print(dset.dims)\n",
    "    if 'system' in dset.dims:\n",
    "        print(dset['system'])\n",
    "    "
   ]
  },
  {
   "cell_type": "code",
   "execution_count": 25,
   "metadata": {},
   "outputs": [],
   "source": [
    "import numpy as np "
   ]
  },
  {
   "cell_type": "code",
   "execution_count": 26,
   "metadata": {},
   "outputs": [
    {
     "data": {
      "text/plain": [
       "476"
      ]
     },
     "execution_count": 26,
     "metadata": {},
     "output_type": "execute_result"
    }
   ],
   "source": [
    "np.array(members).sum()"
   ]
  },
  {
   "cell_type": "code",
   "execution_count": null,
   "metadata": {},
   "outputs": [],
   "source": []
  }
 ],
 "metadata": {
  "kernelspec": {
   "display_name": "Python 3",
   "language": "python",
   "name": "python3"
  },
  "language_info": {
   "codemirror_mode": {
    "name": "ipython",
    "version": 3
   },
   "file_extension": ".py",
   "mimetype": "text/x-python",
   "name": "python",
   "nbconvert_exporter": "python",
   "pygments_lexer": "ipython3",
   "version": "3.8.10"
  },
  "papermill": {
   "duration": 114.72282,
   "end_time": "2020-02-06T23:48:33.529053",
   "environment_variables": {},
   "exception": null,
   "input_path": "./download_CDS_forecasts.ipynb",
   "output_path": "./download_CDS_forecasts.ipynb",
   "parameters": {
    "GCM": "CMCC",
    "month": 12,
    "var_name": "PRECIP",
    "year": 2018
   },
   "start_time": "2020-02-06T23:46:38.806233",
   "version": "1.2.1"
  }
 },
 "nbformat": 4,
 "nbformat_minor": 4
}
