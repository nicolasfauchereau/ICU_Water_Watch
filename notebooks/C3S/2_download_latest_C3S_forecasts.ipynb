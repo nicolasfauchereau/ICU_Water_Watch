{
 "cells": [
  {
   "cell_type": "markdown",
   "metadata": {},
   "source": [
    "### download the last month of the CDS raw forecasts "
   ]
  },
  {
   "cell_type": "code",
   "execution_count": 1,
   "metadata": {},
   "outputs": [],
   "source": [
    "%load_ext autoreload\n",
    "%autoreload 2"
   ]
  },
  {
   "cell_type": "code",
   "execution_count": 2,
   "metadata": {
    "papermill": {
     "duration": 0.086706,
     "end_time": "2020-02-06T23:46:40.196481",
     "exception": false,
     "start_time": "2020-02-06T23:46:40.109775",
     "status": "completed"
    },
    "tags": []
   },
   "outputs": [],
   "source": [
    "import sys\n",
    "from subprocess import call \n",
    "from shutil import which \n",
    "import pathlib\n",
    "from datetime import datetime\n",
    "from dateutil.relativedelta import relativedelta\n",
    "import dateparser\n",
    "import yaml\n",
    "from yaml.loader import SafeLoader\n",
    "import ipynbname\n",
    "\n",
    "import numpy as np\n",
    "import xarray as xr"
   ]
  },
  {
   "cell_type": "code",
   "execution_count": 3,
   "metadata": {},
   "outputs": [],
   "source": [
    "from dask import delayed, compute\n",
    "from dask.diagnostics import ProgressBar"
   ]
  },
  {
   "cell_type": "code",
   "execution_count": 4,
   "metadata": {
    "papermill": {
     "duration": 0.012961,
     "end_time": "2020-02-06T23:46:40.218011",
     "exception": false,
     "start_time": "2020-02-06T23:46:40.205050",
     "status": "completed"
    },
    "tags": []
   },
   "outputs": [],
   "source": [
    "HOME = pathlib.Path.home()"
   ]
  },
  {
   "cell_type": "code",
   "execution_count": 5,
   "metadata": {},
   "outputs": [],
   "source": [
    "CWD = pathlib.Path.cwd()"
   ]
  },
  {
   "cell_type": "code",
   "execution_count": 6,
   "metadata": {},
   "outputs": [
    {
     "data": {
      "text/plain": [
       "PosixPath('/home/nicolasf/operational/ICU/development/hotspots/code/ICU_Water_Watch/notebooks/C3S')"
      ]
     },
     "execution_count": 6,
     "metadata": {},
     "output_type": "execute_result"
    }
   ],
   "source": [
    "CWD"
   ]
  },
  {
   "cell_type": "markdown",
   "metadata": {},
   "source": [
    "### import local functions for the downloading of the C3S forecasts "
   ]
  },
  {
   "cell_type": "code",
   "execution_count": 7,
   "metadata": {},
   "outputs": [],
   "source": [
    "sys.path.append('../..')"
   ]
  },
  {
   "cell_type": "code",
   "execution_count": 8,
   "metadata": {},
   "outputs": [
    {
     "name": "stderr",
     "output_type": "stream",
     "text": [
      "/home/nicolasf/mambaforge/envs/ICU_ops/lib/python3.9/site-packages/statsmodels/compat/pandas.py:65: FutureWarning: pandas.Int64Index is deprecated and will be removed from pandas in a future version. Use pandas.Index with the appropriate dtype instead.\n",
      "  from pandas import Int64Index as NumericIndex\n"
     ]
    }
   ],
   "source": [
    "from ICU_Water_Watch import C3S, domains"
   ]
  },
  {
   "cell_type": "markdown",
   "metadata": {},
   "source": [
    "### parameters for papermill"
   ]
  },
  {
   "cell_type": "code",
   "execution_count": 9,
   "metadata": {},
   "outputs": [],
   "source": [
    "provider = 'CDS' # should not change\n",
    "varname = 'tprate' # should not change\n",
    "domain_name = \"C3S_download\" # domain name, see below \n",
    "# if one wants to download other forecasts than the ones corresponding to the current month\n",
    "lag = 0\n",
    "# path where to save the hindcasts / reforecasts\n",
    "gcm_path = f'/media/nicolasf/END19101/ICU/data/{provider}/operational/forecasts'\n",
    "config_yaml = './CDS_config.yaml' "
   ]
  },
  {
   "cell_type": "markdown",
   "metadata": {},
   "source": [
    "### reads the yaml file, mapping GCM to system "
   ]
  },
  {
   "cell_type": "code",
   "execution_count": 10,
   "metadata": {},
   "outputs": [],
   "source": [
    "# Open the file and load the file\n",
    "with open(config_yaml) as f:\n",
    "    dict_systems = yaml.load(f, Loader=SafeLoader)"
   ]
  },
  {
   "cell_type": "code",
   "execution_count": 11,
   "metadata": {},
   "outputs": [
    {
     "data": {
      "text/plain": [
       "{'ECMWF': 5,\n",
       " 'UKMO': 601,\n",
       " 'METEO_FRANCE': 8,\n",
       " 'DWD': 21,\n",
       " 'CMCC': 35,\n",
       " 'NCEP': 2,\n",
       " 'JMA': 3,\n",
       " 'ECCC_GEM_NEMO': 2,\n",
       " 'ECCC_CanCM4i': 3}"
      ]
     },
     "execution_count": 11,
     "metadata": {},
     "output_type": "execute_result"
    }
   ],
   "source": [
    "dict_systems"
   ]
  },
  {
   "cell_type": "markdown",
   "metadata": {
    "papermill": {
     "duration": 0.015076,
     "end_time": "2022-03-07T02:13:04.296342",
     "exception": false,
     "start_time": "2022-03-07T02:13:04.281266",
     "status": "completed"
    },
    "tags": []
   },
   "source": [
    "### casts the paths to `pathlib.Path` objects "
   ]
  },
  {
   "cell_type": "code",
   "execution_count": 12,
   "metadata": {
    "papermill": {
     "duration": 0.03438,
     "end_time": "2022-03-07T02:13:04.345203",
     "exception": false,
     "start_time": "2022-03-07T02:13:04.310823",
     "status": "completed"
    },
    "tags": []
   },
   "outputs": [],
   "source": [
    "gcm_path = pathlib.Path(gcm_path)"
   ]
  },
  {
   "cell_type": "code",
   "execution_count": 13,
   "metadata": {},
   "outputs": [],
   "source": [
    "if not(gcm_path.exists()): \n",
    "    gcm_path.mkdir(parents=True)"
   ]
  },
  {
   "cell_type": "markdown",
   "metadata": {},
   "source": [
    "### get today's date "
   ]
  },
  {
   "cell_type": "code",
   "execution_count": 14,
   "metadata": {},
   "outputs": [],
   "source": [
    "date = dateparser.parse('today')"
   ]
  },
  {
   "cell_type": "code",
   "execution_count": 15,
   "metadata": {},
   "outputs": [
    {
     "data": {
      "text/plain": [
       "datetime.datetime(2022, 3, 15, 15, 46, 35, 194674)"
      ]
     },
     "execution_count": 15,
     "metadata": {},
     "output_type": "execute_result"
    }
   ],
   "source": [
    "date"
   ]
  },
  {
   "cell_type": "markdown",
   "metadata": {},
   "source": [
    "### apply lag "
   ]
  },
  {
   "cell_type": "code",
   "execution_count": 16,
   "metadata": {},
   "outputs": [],
   "source": [
    "date = date - relativedelta(months=lag)"
   ]
  },
  {
   "cell_type": "code",
   "execution_count": 17,
   "metadata": {},
   "outputs": [
    {
     "name": "stdout",
     "output_type": "stream",
     "text": [
      "will download the forecasts issued in March 2022\n"
     ]
    }
   ],
   "source": [
    "print(f\"will download the forecasts issued in {date:%B %Y}\")"
   ]
  },
  {
   "cell_type": "markdown",
   "metadata": {},
   "source": [
    "### use dask to parallelize the download of the forecasts "
   ]
  },
  {
   "cell_type": "markdown",
   "metadata": {},
   "source": [
    "#### build the queue"
   ]
  },
  {
   "cell_type": "code",
   "execution_count": 18,
   "metadata": {},
   "outputs": [
    {
     "name": "stdout",
     "output_type": "stream",
     "text": [
      "processing ECCC, path should be /media/nicolasf/END19101/ICU/data/CDS/operational/forecasts/ECCC_GEM_NEMO/TPRATE\n",
      "processing ECCC, path should be /media/nicolasf/END19101/ICU/data/CDS/operational/forecasts/ECCC_CanCM4i/TPRATE\n"
     ]
    }
   ],
   "source": [
    "downloaded_files = []\n",
    "\n",
    "for GCM in dict_systems.keys():\n",
    "    \n",
    "    if 'ECCC' in GCM:\n",
    "        \n",
    "        GCM_API_name = GCM.split('_')[0]\n",
    "        \n",
    "        GCM_path = gcm_path.joinpath(GCM).joinpath(varname.upper())\n",
    "        \n",
    "        print(f\"processing ECCC, path should be {str(GCM_path)}\")\n",
    "    \n",
    "        args = dict(GCM=GCM_API_name,\n",
    "        system=dict_systems[GCM], \n",
    "        varname=varname,\n",
    "        year=date.year,\n",
    "        month=date.month,\n",
    "        leadtimes=[1, 2, 3, 4, 5, 6],\n",
    "        opath=GCM_path,\n",
    "        domain=domains.domains[domain_name],\n",
    "        file_format='netcdf',\n",
    "        level='surface',\n",
    "        max_retry=3)\n",
    "    \n",
    "    else: \n",
    "        \n",
    "        args = dict(GCM=GCM,\n",
    "        system=dict_systems[GCM], \n",
    "        varname=varname,\n",
    "        year=date.year,\n",
    "        month=date.month,\n",
    "        leadtimes=[1, 2, 3, 4, 5, 6],\n",
    "        opath=gcm_path.joinpath(GCM).joinpath(varname.upper()),\n",
    "        domain=domains.domains[domain_name],\n",
    "        file_format='netcdf',\n",
    "        level='surface',\n",
    "        max_retry=3)    \n",
    "    \n",
    "    downloaded_files.append(delayed(C3S.download)(**args))\n"
   ]
  },
  {
   "cell_type": "markdown",
   "metadata": {},
   "source": [
    "#### now compute "
   ]
  },
  {
   "cell_type": "code",
   "execution_count": 19,
   "metadata": {},
   "outputs": [
    {
     "name": "stdout",
     "output_type": "stream",
     "text": [
      "[                                        ] | 0% Completed |  0.0s\n",
      "/media/nicolasf/END19101/ICU/data/CDS/operational/forecasts/NCEP/TPRATE/ensemble_seas_forecasts_tprate_from_2022_03_NCEP.netcdf exists already on disk, skipping download and returning path\n",
      "\n",
      "/media/nicolasf/END19101/ICU/data/CDS/operational/forecasts/JMA/TPRATE/ensemble_seas_forecasts_tprate_from_2022_03_JMA.netcdf exists already on disk, skipping download and returning path\n",
      "\n",
      "\n",
      "\n",
      "/media/nicolasf/END19101/ICU/data/CDS/operational/forecasts/UKMO/TPRATE/ensemble_seas_forecasts_tprate_from_2022_03_UKMO.netcdf exists already on disk, skipping download and returning path\n",
      "\n",
      "\n",
      "/media/nicolasf/END19101/ICU/data/CDS/operational/forecasts/ECCC_GEM_NEMO/TPRATE/ensemble_seas_forecasts_tprate_from_2022_03_ECCC.netcdf exists already on disk, skipping download and returning path\n",
      "\n",
      "/media/nicolasf/END19101/ICU/data/CDS/operational/forecasts/ECMWF/TPRATE/ensemble_seas_forecasts_tprate_from_2022_03_ECMWF.netcdf exists already on disk, skipping download and returning path\n",
      "\n",
      "\n",
      "/media/nicolasf/END19101/ICU/data/CDS/operational/forecasts/CMCC/TPRATE/ensemble_seas_forecasts_tprate_from_2022_03_CMCC.netcdf exists already on disk, skipping download and returning path\n",
      "\n",
      "\n",
      "/media/nicolasf/END19101/ICU/data/CDS/operational/forecasts/METEO_FRANCE/TPRATE/ensemble_seas_forecasts_tprate_from_2022_03_METEO_FRANCE.netcdf exists already on disk, skipping download and returning path\n",
      "\n",
      "\n",
      "/media/nicolasf/END19101/ICU/data/CDS/operational/forecasts/DWD/TPRATE/ensemble_seas_forecasts_tprate_from_2022_03_DWD.netcdf exists already on disk, skipping download and returning path\n",
      "\n",
      "\n",
      "\n",
      "/media/nicolasf/END19101/ICU/data/CDS/operational/forecasts/ECCC_CanCM4i/TPRATE/ensemble_seas_forecasts_tprate_from_2022_03_ECCC.netcdf exists already on disk, skipping download and returning path\n",
      "\n",
      "[########################################] | 100% Completed |  0.1s\n"
     ]
    }
   ],
   "source": [
    "with ProgressBar():\n",
    "    downloaded_files = compute(downloaded_files)"
   ]
  },
  {
   "cell_type": "markdown",
   "metadata": {},
   "source": [
    "### check dimensions and return the total number of members in the C3S MME "
   ]
  },
  {
   "cell_type": "code",
   "execution_count": 20,
   "metadata": {},
   "outputs": [],
   "source": [
    "lfiles = downloaded_files[0]"
   ]
  },
  {
   "cell_type": "code",
   "execution_count": 21,
   "metadata": {},
   "outputs": [
    {
     "data": {
      "text/plain": [
       "['ensemble_seas_forecasts_tprate_from_2022_03_ECMWF.netcdf',\n",
       " 'ensemble_seas_forecasts_tprate_from_2022_03_UKMO.netcdf',\n",
       " 'ensemble_seas_forecasts_tprate_from_2022_03_METEO_FRANCE.netcdf',\n",
       " 'ensemble_seas_forecasts_tprate_from_2022_03_DWD.netcdf',\n",
       " 'ensemble_seas_forecasts_tprate_from_2022_03_CMCC.netcdf',\n",
       " 'ensemble_seas_forecasts_tprate_from_2022_03_NCEP.netcdf',\n",
       " 'ensemble_seas_forecasts_tprate_from_2022_03_JMA.netcdf',\n",
       " 'ensemble_seas_forecasts_tprate_from_2022_03_ECCC.netcdf',\n",
       " 'ensemble_seas_forecasts_tprate_from_2022_03_ECCC.netcdf']"
      ]
     },
     "execution_count": 21,
     "metadata": {},
     "output_type": "execute_result"
    }
   ],
   "source": [
    "[f.name for f in lfiles]"
   ]
  },
  {
   "cell_type": "code",
   "execution_count": 22,
   "metadata": {},
   "outputs": [
    {
     "name": "stdout",
     "output_type": "stream",
     "text": [
      "ECMWF: Frozen({'longitude': 141, 'latitude': 81, 'number': 51, 'time': 5})\n",
      "UKMO: Frozen({'longitude': 141, 'latitude': 81, 'number': 56, 'time': 5})\n",
      "FRANCE: Frozen({'longitude': 141, 'latitude': 81, 'number': 51, 'time': 5})\n",
      "DWD: Frozen({'longitude': 141, 'latitude': 81, 'number': 50, 'time': 5})\n",
      "CMCC: Frozen({'longitude': 141, 'latitude': 81, 'number': 50, 'time': 5})\n",
      "NCEP: Frozen({'longitude': 141, 'latitude': 81, 'number': 112, 'time': 5})\n",
      "JMA: Frozen({'longitude': 113, 'latitude': 65, 'number': 140, 'time': 5})\n",
      "ECCC: Frozen({'longitude': 141, 'latitude': 81, 'number': 10, 'time': 5})\n",
      "ECCC: Frozen({'longitude': 141, 'latitude': 81, 'number': 10, 'time': 5})\n"
     ]
    }
   ],
   "source": [
    "members = []\n",
    "for f in lfiles: \n",
    "    g = f.name.split('.')[0].split('_')[-1]\n",
    "    dset = xr.open_dataset(f)\n",
    "    members.append(dset.dims['number'])\n",
    "    print(f\"{g}: {dset.dims}\")\n",
    "    "
   ]
  },
  {
   "cell_type": "code",
   "execution_count": 23,
   "metadata": {},
   "outputs": [
    {
     "name": "stdout",
     "output_type": "stream",
     "text": [
      "TOTAL NUMBER OF MEMBERS IN THE C3S MME for forecasts issued March 2022: 530\n"
     ]
    }
   ],
   "source": [
    "print(f\"TOTAL NUMBER OF MEMBERS IN THE C3S MME for forecasts issued {date:%B %Y}: {np.array(members).sum()}\")"
   ]
  },
  {
   "cell_type": "markdown",
   "metadata": {},
   "source": [
    "### convert the notebook to HTML "
   ]
  },
  {
   "cell_type": "markdown",
   "metadata": {},
   "source": [
    "This does not work with papermill"
   ]
  },
  {
   "cell_type": "code",
   "execution_count": 24,
   "metadata": {},
   "outputs": [],
   "source": [
    "# jupyter = which('jupyter')\n",
    "\n",
    "# nb_name = ipynbname.name()\n",
    "\n",
    "# nb_name\n",
    "\n",
    "# cmd = f\"{jupyter} nbconvert --to html {nb_name}.ipynb\"\n",
    "\n",
    "# r = call(cmd, shell=True)"
   ]
  }
 ],
 "metadata": {
  "kernelspec": {
   "display_name": "Python 3 (ipykernel)",
   "language": "python",
   "name": "python3"
  },
  "language_info": {
   "codemirror_mode": {
    "name": "ipython",
    "version": 3
   },
   "file_extension": ".py",
   "mimetype": "text/x-python",
   "name": "python",
   "nbconvert_exporter": "python",
   "pygments_lexer": "ipython3",
   "version": "3.9.10"
  },
  "papermill": {
   "duration": 114.72282,
   "end_time": "2020-02-06T23:48:33.529053",
   "environment_variables": {},
   "exception": null,
   "input_path": "./download_CDS_forecasts.ipynb",
   "output_path": "./download_CDS_forecasts.ipynb",
   "parameters": {
    "GCM": "CMCC",
    "month": 12,
    "var_name": "PRECIP",
    "year": 2018
   },
   "start_time": "2020-02-06T23:46:38.806233",
   "version": "1.2.1"
  }
 },
 "nbformat": 4,
 "nbformat_minor": 4
}
