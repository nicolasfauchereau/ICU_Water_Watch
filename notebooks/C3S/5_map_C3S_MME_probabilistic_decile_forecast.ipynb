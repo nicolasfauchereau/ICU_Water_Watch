{
 "cells": [
  {
   "cell_type": "code",
   "execution_count": 1,
   "id": "3c3bb7f3",
   "metadata": {
    "execution": {
     "iopub.execute_input": "2022-01-17T20:53:00.040299Z",
     "iopub.status.busy": "2022-01-17T20:53:00.039921Z",
     "iopub.status.idle": "2022-01-17T20:53:00.047003Z",
     "shell.execute_reply": "2022-01-17T20:53:00.046617Z"
    },
    "papermill": {
     "duration": 0.049268,
     "end_time": "2022-01-17T20:53:00.047134",
     "exception": false,
     "start_time": "2022-01-17T20:52:59.997866",
     "status": "completed"
    },
    "tags": []
   },
   "outputs": [],
   "source": [
    "%load_ext autoreload\n",
    "%autoreload 2"
   ]
  },
  {
   "cell_type": "code",
   "execution_count": 2,
   "id": "e039d488",
   "metadata": {
    "execution": {
     "iopub.execute_input": "2022-01-17T20:53:00.111425Z",
     "iopub.status.busy": "2022-01-17T20:53:00.111086Z",
     "iopub.status.idle": "2022-01-17T20:53:00.275731Z",
     "shell.execute_reply": "2022-01-17T20:53:00.276070Z"
    },
    "papermill": {
     "duration": 0.198306,
     "end_time": "2022-01-17T20:53:00.276187",
     "exception": false,
     "start_time": "2022-01-17T20:53:00.077881",
     "status": "completed"
    },
    "tags": []
   },
   "outputs": [],
   "source": [
    "import matplotlib"
   ]
  },
  {
   "cell_type": "code",
   "execution_count": 3,
   "id": "3eb63822",
   "metadata": {
    "execution": {
     "iopub.execute_input": "2022-01-17T20:53:00.341863Z",
     "iopub.status.busy": "2022-01-17T20:53:00.341490Z",
     "iopub.status.idle": "2022-01-17T20:53:01.472676Z",
     "shell.execute_reply": "2022-01-17T20:53:01.472324Z"
    },
    "papermill": {
     "duration": 1.16601,
     "end_time": "2022-01-17T20:53:01.472778",
     "exception": false,
     "start_time": "2022-01-17T20:53:00.306768",
     "status": "completed"
    },
    "tags": []
   },
   "outputs": [],
   "source": [
    "# %matplotlib widget\n",
    "%matplotlib inline\n",
    "\n",
    "### os \n",
    "import os \n",
    "import sys\n",
    "\n",
    "### datetimes \n",
    "from datetime import datetime, timedelta\n",
    "from dateutil.relativedelta import relativedelta\n",
    "from calendar import month_name, month_abbr\n",
    "import dateparser\n",
    "\n",
    "### scipy \n",
    "import numpy as np \n",
    "import pandas as pd\n",
    "import xarray as xr\n",
    "from cartopy import crs as ccrs\n",
    "\n",
    "### plotting \n",
    "from matplotlib import pyplot as plt\n",
    "import palettable"
   ]
  },
  {
   "cell_type": "code",
   "execution_count": 4,
   "id": "1c902a1d",
   "metadata": {
    "execution": {
     "iopub.execute_input": "2022-01-17T20:53:01.545743Z",
     "iopub.status.busy": "2022-01-17T20:53:01.545111Z",
     "iopub.status.idle": "2022-01-17T20:53:01.560572Z",
     "shell.execute_reply": "2022-01-17T20:53:01.561078Z"
    },
    "papermill": {
     "duration": 0.056388,
     "end_time": "2022-01-17T20:53:01.561258",
     "exception": false,
     "start_time": "2022-01-17T20:53:01.504870",
     "status": "completed"
    },
    "tags": []
   },
   "outputs": [],
   "source": [
    "import pathlib\n",
    "\n",
    "HOME = pathlib.Path.home()\n",
    "CWD = pathlib.Path.cwd() "
   ]
  },
  {
   "cell_type": "markdown",
   "id": "6a2ebc74",
   "metadata": {
    "papermill": {
     "duration": 0.032626,
     "end_time": "2022-01-17T20:53:01.652428",
     "exception": false,
     "start_time": "2022-01-17T20:53:01.619802",
     "status": "completed"
    },
    "tags": []
   },
   "source": [
    "### import local functions for the downloading of the C3S forecasts "
   ]
  },
  {
   "cell_type": "code",
   "execution_count": 5,
   "id": "c55e4025",
   "metadata": {
    "execution": {
     "iopub.execute_input": "2022-01-17T20:53:01.718525Z",
     "iopub.status.busy": "2022-01-17T20:53:01.717993Z",
     "iopub.status.idle": "2022-01-17T20:53:01.728816Z",
     "shell.execute_reply": "2022-01-17T20:53:01.728440Z"
    },
    "papermill": {
     "duration": 0.044794,
     "end_time": "2022-01-17T20:53:01.728920",
     "exception": false,
     "start_time": "2022-01-17T20:53:01.684126",
     "status": "completed"
    },
    "tags": []
   },
   "outputs": [],
   "source": [
    "sys.path.append('../..')"
   ]
  },
  {
   "cell_type": "code",
   "execution_count": 6,
   "id": "4a1333ed",
   "metadata": {
    "execution": {
     "iopub.execute_input": "2022-01-17T20:53:01.812485Z",
     "iopub.status.busy": "2022-01-17T20:53:01.812108Z",
     "iopub.status.idle": "2022-01-17T20:53:15.671128Z",
     "shell.execute_reply": "2022-01-17T20:53:15.671393Z"
    },
    "papermill": {
     "duration": 13.908591,
     "end_time": "2022-01-17T20:53:15.671528",
     "exception": false,
     "start_time": "2022-01-17T20:53:01.762937",
     "status": "completed"
    },
    "tags": []
   },
   "outputs": [],
   "source": [
    "from ICU_Water_Watch import geo, C3S, domains, plot, utils"
   ]
  },
  {
   "cell_type": "code",
   "execution_count": 7,
   "id": "58dfa13b",
   "metadata": {
    "execution": {
     "iopub.execute_input": "2022-01-17T20:53:15.744275Z",
     "iopub.status.busy": "2022-01-17T20:53:15.743782Z",
     "iopub.status.idle": "2022-01-17T20:53:15.761649Z",
     "shell.execute_reply": "2022-01-17T20:53:15.761914Z"
    },
    "papermill": {
     "duration": 0.055627,
     "end_time": "2022-01-17T20:53:15.762037",
     "exception": false,
     "start_time": "2022-01-17T20:53:15.706410",
     "status": "completed"
    },
    "tags": []
   },
   "outputs": [
    {
     "data": {
      "text/plain": [
       "{'Tropical_Pacific': [140, 220, -25, 25],\n",
       " 'SW_Pacific': [172.5, 190, -22.5, -12],\n",
       " 'Fiji': [175, 183, -21, -15],\n",
       " 'NZ': [161, 181, -50, -30],\n",
       " 'Pacific': [140, 240, -50, 25],\n",
       " 'C3S_download': [100, 240, -50, 30],\n",
       " 'Water_Watch': [125, 240, -35, 25]}"
      ]
     },
     "execution_count": 7,
     "metadata": {},
     "output_type": "execute_result"
    }
   ],
   "source": [
    "domains.domains"
   ]
  },
  {
   "cell_type": "markdown",
   "id": "69388ae5",
   "metadata": {
    "papermill": {
     "duration": 0.037397,
     "end_time": "2022-01-17T20:53:15.831205",
     "exception": false,
     "start_time": "2022-01-17T20:53:15.793808",
     "status": "completed"
    },
    "tags": [
     "parameters"
    ]
   },
   "source": [
    "### parameters for papermill"
   ]
  },
  {
   "cell_type": "code",
   "execution_count": 8,
   "id": "b036b6a1",
   "metadata": {
    "execution": {
     "iopub.execute_input": "2022-01-17T20:53:15.901796Z",
     "iopub.status.busy": "2022-01-17T20:53:15.901440Z",
     "iopub.status.idle": "2022-01-17T20:53:15.915772Z",
     "shell.execute_reply": "2022-01-17T20:53:15.915395Z"
    },
    "papermill": {
     "duration": 0.052411,
     "end_time": "2022-01-17T20:53:15.915876",
     "exception": false,
     "start_time": "2022-01-17T20:53:15.863465",
     "status": "completed"
    },
    "tags": [
     "injected-parameters"
    ]
   },
   "outputs": [],
   "source": [
    "# Parameters\n",
    "period = \"seasonal\"\n",
    "lead = 3\n",
    "date = \"this month\"\n"
   ]
  },
  {
   "cell_type": "code",
   "execution_count": 9,
   "id": "9669ce54-445f-47ae-af49-2dac923305af",
   "metadata": {
    "execution": {
     "iopub.execute_input": "2022-01-17T20:53:15.983842Z",
     "iopub.status.busy": "2022-01-17T20:53:15.983487Z",
     "iopub.status.idle": "2022-01-17T20:53:15.997704Z",
     "shell.execute_reply": "2022-01-17T20:53:15.998000Z"
    },
    "papermill": {
     "duration": 0.049655,
     "end_time": "2022-01-17T20:53:15.998168",
     "exception": false,
     "start_time": "2022-01-17T20:53:15.948513",
     "status": "completed"
    },
    "tags": [
     "parameters"
    ]
   },
   "outputs": [],
   "source": [
    "domain_name = 'Water_Watch' # domain name \n",
    "date = \"last month\"\n",
    "period = \"seasonal\"\n",
    "lead = 2\n",
    "quantile = 'decile'\n",
    "varname = 'precip'\n",
    "dpath_shapes = '/home/nicolasf/operational/ICU/development/hotspots/data/shapefiles'\n",
    "dpath_forecasts = '/home/nicolasf/operational/ICU/development/hotspots/code/ICU_Water_Watch/outputs/C3S'\n",
    "fpath = '/home/nicolasf/operational/ICU/development/hotspots/code/ICU_Water_Watch/figures'\n",
    "fpath_web = '/home/nicolasf/operational/ICU_Web/C3S/'"
   ]
  },
  {
   "cell_type": "markdown",
   "id": "8d045738",
   "metadata": {
    "papermill": {
     "duration": 0.038306,
     "end_time": "2022-01-17T20:53:16.069713",
     "exception": false,
     "start_time": "2022-01-17T20:53:16.031407",
     "status": "completed"
    },
    "tags": []
   },
   "source": [
    "### casts the paths to pathlib.Paths "
   ]
  },
  {
   "cell_type": "code",
   "execution_count": 10,
   "id": "55896a49",
   "metadata": {
    "execution": {
     "iopub.execute_input": "2022-01-17T20:53:16.142459Z",
     "iopub.status.busy": "2022-01-17T20:53:16.142093Z",
     "iopub.status.idle": "2022-01-17T20:53:16.156651Z",
     "shell.execute_reply": "2022-01-17T20:53:16.156288Z"
    },
    "papermill": {
     "duration": 0.050688,
     "end_time": "2022-01-17T20:53:16.156755",
     "exception": false,
     "start_time": "2022-01-17T20:53:16.106067",
     "status": "completed"
    },
    "tags": []
   },
   "outputs": [],
   "source": [
    "dpath_shapes = pathlib.Path(dpath_shapes)\n",
    "dpath_forecasts = pathlib.Path(dpath_forecasts)\n",
    "fpath = pathlib.Path(fpath)\n",
    "fpath_web = pathlib.Path(fpath_web)"
   ]
  },
  {
   "cell_type": "markdown",
   "id": "9ff5453a",
   "metadata": {
    "papermill": {
     "duration": 0.033336,
     "end_time": "2022-01-17T20:53:16.221649",
     "exception": false,
     "start_time": "2022-01-17T20:53:16.188313",
     "status": "completed"
    },
    "tags": []
   },
   "source": [
    "### domain "
   ]
  },
  {
   "cell_type": "code",
   "execution_count": 11,
   "id": "597167c6",
   "metadata": {
    "execution": {
     "iopub.execute_input": "2022-01-17T20:53:16.286321Z",
     "iopub.status.busy": "2022-01-17T20:53:16.285978Z",
     "iopub.status.idle": "2022-01-17T20:53:16.300463Z",
     "shell.execute_reply": "2022-01-17T20:53:16.300731Z"
    },
    "papermill": {
     "duration": 0.048032,
     "end_time": "2022-01-17T20:53:16.300857",
     "exception": false,
     "start_time": "2022-01-17T20:53:16.252825",
     "status": "completed"
    },
    "tags": []
   },
   "outputs": [],
   "source": [
    "domain = domains.domains[domain_name]"
   ]
  },
  {
   "cell_type": "markdown",
   "id": "637862d4",
   "metadata": {
    "papermill": {
     "duration": 0.036718,
     "end_time": "2022-01-17T20:53:16.369987",
     "exception": false,
     "start_time": "2022-01-17T20:53:16.333269",
     "status": "completed"
    },
    "tags": []
   },
   "source": [
    "### EEZ shapes "
   ]
  },
  {
   "cell_type": "code",
   "execution_count": 12,
   "id": "39d1c009",
   "metadata": {
    "execution": {
     "iopub.execute_input": "2022-01-17T20:53:16.433875Z",
     "iopub.status.busy": "2022-01-17T20:53:16.433531Z",
     "iopub.status.idle": "2022-01-17T20:53:16.486475Z",
     "shell.execute_reply": "2022-01-17T20:53:16.486090Z"
    },
    "papermill": {
     "duration": 0.086056,
     "end_time": "2022-01-17T20:53:16.486586",
     "exception": false,
     "start_time": "2022-01-17T20:53:16.400530",
     "status": "completed"
    },
    "tags": []
   },
   "outputs": [],
   "source": [
    "EEZs, merged_EEZs = geo.get_EEZs(dpath_shapes)"
   ]
  },
  {
   "cell_type": "markdown",
   "id": "715b1331",
   "metadata": {
    "papermill": {
     "duration": 0.031346,
     "end_time": "2022-01-17T20:53:16.550245",
     "exception": false,
     "start_time": "2022-01-17T20:53:16.518899",
     "status": "completed"
    },
    "tags": []
   },
   "source": [
    "### year and month (initial month of the forecast)"
   ]
  },
  {
   "cell_type": "code",
   "execution_count": 13,
   "id": "a79a33a0",
   "metadata": {
    "execution": {
     "iopub.execute_input": "2022-01-17T20:53:16.614089Z",
     "iopub.status.busy": "2022-01-17T20:53:16.613745Z",
     "iopub.status.idle": "2022-01-17T20:53:16.649074Z",
     "shell.execute_reply": "2022-01-17T20:53:16.648709Z"
    },
    "papermill": {
     "duration": 0.068216,
     "end_time": "2022-01-17T20:53:16.649177",
     "exception": false,
     "start_time": "2022-01-17T20:53:16.580961",
     "status": "completed"
    },
    "tags": []
   },
   "outputs": [],
   "source": [
    "year = dateparser.parse(date).year"
   ]
  },
  {
   "cell_type": "code",
   "execution_count": 14,
   "id": "8d6fc95f",
   "metadata": {
    "execution": {
     "iopub.execute_input": "2022-01-17T20:53:16.716102Z",
     "iopub.status.busy": "2022-01-17T20:53:16.715670Z",
     "iopub.status.idle": "2022-01-17T20:53:16.732591Z",
     "shell.execute_reply": "2022-01-17T20:53:16.732058Z"
    },
    "papermill": {
     "duration": 0.051457,
     "end_time": "2022-01-17T20:53:16.732749",
     "exception": false,
     "start_time": "2022-01-17T20:53:16.681292",
     "status": "completed"
    },
    "tags": []
   },
   "outputs": [],
   "source": [
    "month = dateparser.parse(date).month"
   ]
  },
  {
   "cell_type": "code",
   "execution_count": 15,
   "id": "23436f94",
   "metadata": {
    "execution": {
     "iopub.execute_input": "2022-01-17T20:53:16.814292Z",
     "iopub.status.busy": "2022-01-17T20:53:16.813948Z",
     "iopub.status.idle": "2022-01-17T20:53:16.828123Z",
     "shell.execute_reply": "2022-01-17T20:53:16.827765Z"
    },
    "papermill": {
     "duration": 0.046925,
     "end_time": "2022-01-17T20:53:16.828227",
     "exception": false,
     "start_time": "2022-01-17T20:53:16.781302",
     "status": "completed"
    },
    "tags": []
   },
   "outputs": [
    {
     "name": "stdout",
     "output_type": "stream",
     "text": [
      "2021 - 12\n"
     ]
    }
   ],
   "source": [
    "print(f\"{year} - {month}\")"
   ]
  },
  {
   "cell_type": "markdown",
   "id": "b28585f6",
   "metadata": {
    "papermill": {
     "duration": 0.03096,
     "end_time": "2022-01-17T20:53:16.890337",
     "exception": false,
     "start_time": "2022-01-17T20:53:16.859377",
     "status": "completed"
    },
    "tags": []
   },
   "source": [
    "### provider "
   ]
  },
  {
   "cell_type": "code",
   "execution_count": 16,
   "id": "9dbe585c",
   "metadata": {
    "execution": {
     "iopub.execute_input": "2022-01-17T20:53:16.953430Z",
     "iopub.status.busy": "2022-01-17T20:53:16.953091Z",
     "iopub.status.idle": "2022-01-17T20:53:16.967288Z",
     "shell.execute_reply": "2022-01-17T20:53:16.966910Z"
    },
    "papermill": {
     "duration": 0.046528,
     "end_time": "2022-01-17T20:53:16.967393",
     "exception": false,
     "start_time": "2022-01-17T20:53:16.920865",
     "status": "completed"
    },
    "tags": []
   },
   "outputs": [],
   "source": [
    "provider = 'CDS'"
   ]
  },
  {
   "cell_type": "markdown",
   "id": "1c9955f7",
   "metadata": {
    "papermill": {
     "duration": 0.031212,
     "end_time": "2022-01-17T20:53:17.030207",
     "exception": false,
     "start_time": "2022-01-17T20:53:16.998995",
     "status": "completed"
    },
    "tags": []
   },
   "source": [
    "#### list of GCMs to inlude "
   ]
  },
  {
   "cell_type": "code",
   "execution_count": 17,
   "id": "727dd670",
   "metadata": {
    "execution": {
     "iopub.execute_input": "2022-01-17T20:53:17.098815Z",
     "iopub.status.busy": "2022-01-17T20:53:17.098195Z",
     "iopub.status.idle": "2022-01-17T20:53:17.112592Z",
     "shell.execute_reply": "2022-01-17T20:53:17.112195Z"
    },
    "papermill": {
     "duration": 0.051569,
     "end_time": "2022-01-17T20:53:17.112697",
     "exception": false,
     "start_time": "2022-01-17T20:53:17.061128",
     "status": "completed"
    },
    "tags": []
   },
   "outputs": [],
   "source": [
    "list_GCMs = ['ECMWF','UKMO','METEO_FRANCE','CMCC','DWD', 'NCEP', 'JMA', 'ECCC_CanCM4i', 'ECCC_GEM_NEMO']"
   ]
  },
  {
   "cell_type": "markdown",
   "id": "d4744c4d",
   "metadata": {
    "papermill": {
     "duration": 0.030908,
     "end_time": "2022-01-17T20:53:17.175385",
     "exception": false,
     "start_time": "2022-01-17T20:53:17.144477",
     "status": "completed"
    },
    "tags": []
   },
   "source": [
    "### what is the first step and the number of steps in either the monthly or seasonal forecasts "
   ]
  },
  {
   "cell_type": "code",
   "execution_count": 18,
   "id": "de1163fc",
   "metadata": {
    "execution": {
     "iopub.execute_input": "2022-01-17T20:53:17.239723Z",
     "iopub.status.busy": "2022-01-17T20:53:17.239381Z",
     "iopub.status.idle": "2022-01-17T20:53:17.253590Z",
     "shell.execute_reply": "2022-01-17T20:53:17.253225Z"
    },
    "papermill": {
     "duration": 0.047718,
     "end_time": "2022-01-17T20:53:17.253692",
     "exception": false,
     "start_time": "2022-01-17T20:53:17.205974",
     "status": "completed"
    },
    "tags": []
   },
   "outputs": [],
   "source": [
    "if period == 'seasonal': \n",
    "    nsteps = 3\n",
    "    first_step = 3\n",
    "elif period == 'monthly': \n",
    "    nsteps = 5\n",
    "    first_step = 1"
   ]
  },
  {
   "cell_type": "code",
   "execution_count": 19,
   "id": "b94416aa",
   "metadata": {
    "execution": {
     "iopub.execute_input": "2022-01-17T20:53:17.323584Z",
     "iopub.status.busy": "2022-01-17T20:53:17.323192Z",
     "iopub.status.idle": "2022-01-17T20:53:17.337689Z",
     "shell.execute_reply": "2022-01-17T20:53:17.337328Z"
    },
    "papermill": {
     "duration": 0.05152,
     "end_time": "2022-01-17T20:53:17.337798",
     "exception": false,
     "start_time": "2022-01-17T20:53:17.286278",
     "status": "completed"
    },
    "tags": []
   },
   "outputs": [],
   "source": [
    "step = lead + first_step - 1"
   ]
  },
  {
   "cell_type": "code",
   "execution_count": 20,
   "id": "46081778",
   "metadata": {
    "execution": {
     "iopub.execute_input": "2022-01-17T20:53:17.408440Z",
     "iopub.status.busy": "2022-01-17T20:53:17.407876Z",
     "iopub.status.idle": "2022-01-17T20:53:17.424341Z",
     "shell.execute_reply": "2022-01-17T20:53:17.424869Z"
    },
    "papermill": {
     "duration": 0.051944,
     "end_time": "2022-01-17T20:53:17.425064",
     "exception": false,
     "start_time": "2022-01-17T20:53:17.373120",
     "status": "completed"
    },
    "tags": []
   },
   "outputs": [
    {
     "data": {
      "text/plain": [
       "4"
      ]
     },
     "execution_count": 20,
     "metadata": {},
     "output_type": "execute_result"
    }
   ],
   "source": [
    "step"
   ]
  },
  {
   "cell_type": "markdown",
   "id": "c7cba0b6",
   "metadata": {
    "papermill": {
     "duration": 0.035267,
     "end_time": "2022-01-17T20:53:17.504200",
     "exception": false,
     "start_time": "2022-01-17T20:53:17.468933",
     "status": "completed"
    },
    "tags": []
   },
   "source": [
    "### paths to the realtime forecasts"
   ]
  },
  {
   "cell_type": "code",
   "execution_count": 21,
   "id": "f4c44626",
   "metadata": {
    "execution": {
     "iopub.execute_input": "2022-01-17T20:53:17.570385Z",
     "iopub.status.busy": "2022-01-17T20:53:17.570048Z",
     "iopub.status.idle": "2022-01-17T20:53:17.584514Z",
     "shell.execute_reply": "2022-01-17T20:53:17.584169Z"
    },
    "papermill": {
     "duration": 0.048032,
     "end_time": "2022-01-17T20:53:17.584653",
     "exception": false,
     "start_time": "2022-01-17T20:53:17.536621",
     "status": "completed"
    },
    "tags": []
   },
   "outputs": [],
   "source": [
    "dpath_forecasts = CWD.parents[1].joinpath(\"outputs/C3S\")"
   ]
  },
  {
   "cell_type": "code",
   "execution_count": 22,
   "id": "d603efab",
   "metadata": {
    "execution": {
     "iopub.execute_input": "2022-01-17T20:53:17.654577Z",
     "iopub.status.busy": "2022-01-17T20:53:17.654233Z",
     "iopub.status.idle": "2022-01-17T20:53:17.670076Z",
     "shell.execute_reply": "2022-01-17T20:53:17.669732Z"
    },
    "papermill": {
     "duration": 0.053089,
     "end_time": "2022-01-17T20:53:17.670177",
     "exception": false,
     "start_time": "2022-01-17T20:53:17.617088",
     "status": "completed"
    },
    "tags": []
   },
   "outputs": [
    {
     "data": {
      "text/plain": [
       "PosixPath('/home/nicolasf/operational/ICU/development/hotspots/code/ICU_Water_Watch/outputs/C3S')"
      ]
     },
     "execution_count": 22,
     "metadata": {},
     "output_type": "execute_result"
    }
   ],
   "source": [
    "dpath_forecasts"
   ]
  },
  {
   "cell_type": "code",
   "execution_count": 23,
   "id": "fc86f837",
   "metadata": {
    "execution": {
     "iopub.execute_input": "2022-01-17T20:53:17.758315Z",
     "iopub.status.busy": "2022-01-17T20:53:17.757931Z",
     "iopub.status.idle": "2022-01-17T20:53:17.772583Z",
     "shell.execute_reply": "2022-01-17T20:53:17.772217Z"
    },
    "papermill": {
     "duration": 0.065374,
     "end_time": "2022-01-17T20:53:17.772687",
     "exception": false,
     "start_time": "2022-01-17T20:53:17.707313",
     "status": "completed"
    },
    "tags": []
   },
   "outputs": [],
   "source": [
    "lfiles = list(dpath_forecasts.glob(f\"{period}_{quantile}s_probabilities_from_{year}-{str(month).zfill(2)}_*.netcdf\"))"
   ]
  },
  {
   "cell_type": "markdown",
   "id": "7f22329c",
   "metadata": {
    "papermill": {
     "duration": 0.032833,
     "end_time": "2022-01-17T20:53:17.839098",
     "exception": false,
     "start_time": "2022-01-17T20:53:17.806265",
     "status": "completed"
    },
    "tags": []
   },
   "source": [
    "### checks the files names "
   ]
  },
  {
   "cell_type": "code",
   "execution_count": 24,
   "id": "3145dc3d",
   "metadata": {
    "execution": {
     "iopub.execute_input": "2022-01-17T20:53:17.904463Z",
     "iopub.status.busy": "2022-01-17T20:53:17.904123Z",
     "iopub.status.idle": "2022-01-17T20:53:17.919706Z",
     "shell.execute_reply": "2022-01-17T20:53:17.919360Z"
    },
    "papermill": {
     "duration": 0.049124,
     "end_time": "2022-01-17T20:53:17.919810",
     "exception": false,
     "start_time": "2022-01-17T20:53:17.870686",
     "status": "completed"
    },
    "tags": []
   },
   "outputs": [
    {
     "data": {
      "text/plain": [
       "['seasonal_deciles_probabilities_from_2021-12_ECCC_GEM_NEMO.netcdf',\n",
       " 'seasonal_deciles_probabilities_from_2021-12_ECCC_CanCM4i.netcdf',\n",
       " 'seasonal_deciles_probabilities_from_2021-12_NCEP.netcdf',\n",
       " 'seasonal_deciles_probabilities_from_2021-12_DWD.netcdf',\n",
       " 'seasonal_deciles_probabilities_from_2021-12_ECMWF.netcdf',\n",
       " 'seasonal_deciles_probabilities_from_2021-12_CMCC.netcdf',\n",
       " 'seasonal_deciles_probabilities_from_2021-12_UKMO.netcdf',\n",
       " 'seasonal_deciles_probabilities_from_2021-12_JMA.netcdf',\n",
       " 'seasonal_deciles_probabilities_from_2021-12_METEO_FRANCE.netcdf']"
      ]
     },
     "execution_count": 24,
     "metadata": {},
     "output_type": "execute_result"
    }
   ],
   "source": [
    "[f.name for f in lfiles]"
   ]
  },
  {
   "cell_type": "markdown",
   "id": "998d717b",
   "metadata": {
    "papermill": {
     "duration": 0.03181,
     "end_time": "2022-01-17T20:53:17.989579",
     "exception": false,
     "start_time": "2022-01-17T20:53:17.957769",
     "status": "completed"
    },
    "tags": []
   },
   "source": [
    "### open the multiple files dataset, concatenate along the \"GCM\" dimension "
   ]
  },
  {
   "cell_type": "code",
   "execution_count": 25,
   "id": "cbfb2f51",
   "metadata": {
    "execution": {
     "iopub.execute_input": "2022-01-17T20:53:18.060691Z",
     "iopub.status.busy": "2022-01-17T20:53:18.060347Z",
     "iopub.status.idle": "2022-01-17T20:53:18.216597Z",
     "shell.execute_reply": "2022-01-17T20:53:18.217098Z"
    },
    "papermill": {
     "duration": 0.19481,
     "end_time": "2022-01-17T20:53:18.217288",
     "exception": false,
     "start_time": "2022-01-17T20:53:18.022478",
     "status": "completed"
    },
    "tags": []
   },
   "outputs": [],
   "source": [
    "probs = xr.open_mfdataset(lfiles, concat_dim='GCM', combine='nested', engine='netcdf4') "
   ]
  },
  {
   "cell_type": "code",
   "execution_count": 26,
   "id": "a6400684",
   "metadata": {
    "execution": {
     "iopub.execute_input": "2022-01-17T20:53:18.307894Z",
     "iopub.status.busy": "2022-01-17T20:53:18.307265Z",
     "iopub.status.idle": "2022-01-17T20:53:18.343137Z",
     "shell.execute_reply": "2022-01-17T20:53:18.342799Z"
    },
    "papermill": {
     "duration": 0.070862,
     "end_time": "2022-01-17T20:53:18.343243",
     "exception": false,
     "start_time": "2022-01-17T20:53:18.272381",
     "status": "completed"
    },
    "tags": []
   },
   "outputs": [
    {
     "data": {
      "text/html": [
       "<div><svg style=\"position: absolute; width: 0; height: 0; overflow: hidden\">\n",
       "<defs>\n",
       "<symbol id=\"icon-database\" viewBox=\"0 0 32 32\">\n",
       "<path d=\"M16 0c-8.837 0-16 2.239-16 5v4c0 2.761 7.163 5 16 5s16-2.239 16-5v-4c0-2.761-7.163-5-16-5z\"></path>\n",
       "<path d=\"M16 17c-8.837 0-16-2.239-16-5v6c0 2.761 7.163 5 16 5s16-2.239 16-5v-6c0 2.761-7.163 5-16 5z\"></path>\n",
       "<path d=\"M16 26c-8.837 0-16-2.239-16-5v6c0 2.761 7.163 5 16 5s16-2.239 16-5v-6c0 2.761-7.163 5-16 5z\"></path>\n",
       "</symbol>\n",
       "<symbol id=\"icon-file-text2\" viewBox=\"0 0 32 32\">\n",
       "<path d=\"M28.681 7.159c-0.694-0.947-1.662-2.053-2.724-3.116s-2.169-2.030-3.116-2.724c-1.612-1.182-2.393-1.319-2.841-1.319h-15.5c-1.378 0-2.5 1.121-2.5 2.5v27c0 1.378 1.122 2.5 2.5 2.5h23c1.378 0 2.5-1.122 2.5-2.5v-19.5c0-0.448-0.137-1.23-1.319-2.841zM24.543 5.457c0.959 0.959 1.712 1.825 2.268 2.543h-4.811v-4.811c0.718 0.556 1.584 1.309 2.543 2.268zM28 29.5c0 0.271-0.229 0.5-0.5 0.5h-23c-0.271 0-0.5-0.229-0.5-0.5v-27c0-0.271 0.229-0.5 0.5-0.5 0 0 15.499-0 15.5 0v7c0 0.552 0.448 1 1 1h7v19.5z\"></path>\n",
       "<path d=\"M23 26h-14c-0.552 0-1-0.448-1-1s0.448-1 1-1h14c0.552 0 1 0.448 1 1s-0.448 1-1 1z\"></path>\n",
       "<path d=\"M23 22h-14c-0.552 0-1-0.448-1-1s0.448-1 1-1h14c0.552 0 1 0.448 1 1s-0.448 1-1 1z\"></path>\n",
       "<path d=\"M23 18h-14c-0.552 0-1-0.448-1-1s0.448-1 1-1h14c0.552 0 1 0.448 1 1s-0.448 1-1 1z\"></path>\n",
       "</symbol>\n",
       "</defs>\n",
       "</svg>\n",
       "<style>/* CSS stylesheet for displaying xarray objects in jupyterlab.\n",
       " *\n",
       " */\n",
       "\n",
       ":root {\n",
       "  --xr-font-color0: var(--jp-content-font-color0, rgba(0, 0, 0, 1));\n",
       "  --xr-font-color2: var(--jp-content-font-color2, rgba(0, 0, 0, 0.54));\n",
       "  --xr-font-color3: var(--jp-content-font-color3, rgba(0, 0, 0, 0.38));\n",
       "  --xr-border-color: var(--jp-border-color2, #e0e0e0);\n",
       "  --xr-disabled-color: var(--jp-layout-color3, #bdbdbd);\n",
       "  --xr-background-color: var(--jp-layout-color0, white);\n",
       "  --xr-background-color-row-even: var(--jp-layout-color1, white);\n",
       "  --xr-background-color-row-odd: var(--jp-layout-color2, #eeeeee);\n",
       "}\n",
       "\n",
       "html[theme=dark],\n",
       "body.vscode-dark {\n",
       "  --xr-font-color0: rgba(255, 255, 255, 1);\n",
       "  --xr-font-color2: rgba(255, 255, 255, 0.54);\n",
       "  --xr-font-color3: rgba(255, 255, 255, 0.38);\n",
       "  --xr-border-color: #1F1F1F;\n",
       "  --xr-disabled-color: #515151;\n",
       "  --xr-background-color: #111111;\n",
       "  --xr-background-color-row-even: #111111;\n",
       "  --xr-background-color-row-odd: #313131;\n",
       "}\n",
       "\n",
       ".xr-wrap {\n",
       "  display: block;\n",
       "  min-width: 300px;\n",
       "  max-width: 700px;\n",
       "}\n",
       "\n",
       ".xr-text-repr-fallback {\n",
       "  /* fallback to plain text repr when CSS is not injected (untrusted notebook) */\n",
       "  display: none;\n",
       "}\n",
       "\n",
       ".xr-header {\n",
       "  padding-top: 6px;\n",
       "  padding-bottom: 6px;\n",
       "  margin-bottom: 4px;\n",
       "  border-bottom: solid 1px var(--xr-border-color);\n",
       "}\n",
       "\n",
       ".xr-header > div,\n",
       ".xr-header > ul {\n",
       "  display: inline;\n",
       "  margin-top: 0;\n",
       "  margin-bottom: 0;\n",
       "}\n",
       "\n",
       ".xr-obj-type,\n",
       ".xr-array-name {\n",
       "  margin-left: 2px;\n",
       "  margin-right: 10px;\n",
       "}\n",
       "\n",
       ".xr-obj-type {\n",
       "  color: var(--xr-font-color2);\n",
       "}\n",
       "\n",
       ".xr-sections {\n",
       "  padding-left: 0 !important;\n",
       "  display: grid;\n",
       "  grid-template-columns: 150px auto auto 1fr 20px 20px;\n",
       "}\n",
       "\n",
       ".xr-section-item {\n",
       "  display: contents;\n",
       "}\n",
       "\n",
       ".xr-section-item input {\n",
       "  display: none;\n",
       "}\n",
       "\n",
       ".xr-section-item input + label {\n",
       "  color: var(--xr-disabled-color);\n",
       "}\n",
       "\n",
       ".xr-section-item input:enabled + label {\n",
       "  cursor: pointer;\n",
       "  color: var(--xr-font-color2);\n",
       "}\n",
       "\n",
       ".xr-section-item input:enabled + label:hover {\n",
       "  color: var(--xr-font-color0);\n",
       "}\n",
       "\n",
       ".xr-section-summary {\n",
       "  grid-column: 1;\n",
       "  color: var(--xr-font-color2);\n",
       "  font-weight: 500;\n",
       "}\n",
       "\n",
       ".xr-section-summary > span {\n",
       "  display: inline-block;\n",
       "  padding-left: 0.5em;\n",
       "}\n",
       "\n",
       ".xr-section-summary-in:disabled + label {\n",
       "  color: var(--xr-font-color2);\n",
       "}\n",
       "\n",
       ".xr-section-summary-in + label:before {\n",
       "  display: inline-block;\n",
       "  content: '►';\n",
       "  font-size: 11px;\n",
       "  width: 15px;\n",
       "  text-align: center;\n",
       "}\n",
       "\n",
       ".xr-section-summary-in:disabled + label:before {\n",
       "  color: var(--xr-disabled-color);\n",
       "}\n",
       "\n",
       ".xr-section-summary-in:checked + label:before {\n",
       "  content: '▼';\n",
       "}\n",
       "\n",
       ".xr-section-summary-in:checked + label > span {\n",
       "  display: none;\n",
       "}\n",
       "\n",
       ".xr-section-summary,\n",
       ".xr-section-inline-details {\n",
       "  padding-top: 4px;\n",
       "  padding-bottom: 4px;\n",
       "}\n",
       "\n",
       ".xr-section-inline-details {\n",
       "  grid-column: 2 / -1;\n",
       "}\n",
       "\n",
       ".xr-section-details {\n",
       "  display: none;\n",
       "  grid-column: 1 / -1;\n",
       "  margin-bottom: 5px;\n",
       "}\n",
       "\n",
       ".xr-section-summary-in:checked ~ .xr-section-details {\n",
       "  display: contents;\n",
       "}\n",
       "\n",
       ".xr-array-wrap {\n",
       "  grid-column: 1 / -1;\n",
       "  display: grid;\n",
       "  grid-template-columns: 20px auto;\n",
       "}\n",
       "\n",
       ".xr-array-wrap > label {\n",
       "  grid-column: 1;\n",
       "  vertical-align: top;\n",
       "}\n",
       "\n",
       ".xr-preview {\n",
       "  color: var(--xr-font-color3);\n",
       "}\n",
       "\n",
       ".xr-array-preview,\n",
       ".xr-array-data {\n",
       "  padding: 0 5px !important;\n",
       "  grid-column: 2;\n",
       "}\n",
       "\n",
       ".xr-array-data,\n",
       ".xr-array-in:checked ~ .xr-array-preview {\n",
       "  display: none;\n",
       "}\n",
       "\n",
       ".xr-array-in:checked ~ .xr-array-data,\n",
       ".xr-array-preview {\n",
       "  display: inline-block;\n",
       "}\n",
       "\n",
       ".xr-dim-list {\n",
       "  display: inline-block !important;\n",
       "  list-style: none;\n",
       "  padding: 0 !important;\n",
       "  margin: 0;\n",
       "}\n",
       "\n",
       ".xr-dim-list li {\n",
       "  display: inline-block;\n",
       "  padding: 0;\n",
       "  margin: 0;\n",
       "}\n",
       "\n",
       ".xr-dim-list:before {\n",
       "  content: '(';\n",
       "}\n",
       "\n",
       ".xr-dim-list:after {\n",
       "  content: ')';\n",
       "}\n",
       "\n",
       ".xr-dim-list li:not(:last-child):after {\n",
       "  content: ',';\n",
       "  padding-right: 5px;\n",
       "}\n",
       "\n",
       ".xr-has-index {\n",
       "  font-weight: bold;\n",
       "}\n",
       "\n",
       ".xr-var-list,\n",
       ".xr-var-item {\n",
       "  display: contents;\n",
       "}\n",
       "\n",
       ".xr-var-item > div,\n",
       ".xr-var-item label,\n",
       ".xr-var-item > .xr-var-name span {\n",
       "  background-color: var(--xr-background-color-row-even);\n",
       "  margin-bottom: 0;\n",
       "}\n",
       "\n",
       ".xr-var-item > .xr-var-name:hover span {\n",
       "  padding-right: 5px;\n",
       "}\n",
       "\n",
       ".xr-var-list > li:nth-child(odd) > div,\n",
       ".xr-var-list > li:nth-child(odd) > label,\n",
       ".xr-var-list > li:nth-child(odd) > .xr-var-name span {\n",
       "  background-color: var(--xr-background-color-row-odd);\n",
       "}\n",
       "\n",
       ".xr-var-name {\n",
       "  grid-column: 1;\n",
       "}\n",
       "\n",
       ".xr-var-dims {\n",
       "  grid-column: 2;\n",
       "}\n",
       "\n",
       ".xr-var-dtype {\n",
       "  grid-column: 3;\n",
       "  text-align: right;\n",
       "  color: var(--xr-font-color2);\n",
       "}\n",
       "\n",
       ".xr-var-preview {\n",
       "  grid-column: 4;\n",
       "}\n",
       "\n",
       ".xr-var-name,\n",
       ".xr-var-dims,\n",
       ".xr-var-dtype,\n",
       ".xr-preview,\n",
       ".xr-attrs dt {\n",
       "  white-space: nowrap;\n",
       "  overflow: hidden;\n",
       "  text-overflow: ellipsis;\n",
       "  padding-right: 10px;\n",
       "}\n",
       "\n",
       ".xr-var-name:hover,\n",
       ".xr-var-dims:hover,\n",
       ".xr-var-dtype:hover,\n",
       ".xr-attrs dt:hover {\n",
       "  overflow: visible;\n",
       "  width: auto;\n",
       "  z-index: 1;\n",
       "}\n",
       "\n",
       ".xr-var-attrs,\n",
       ".xr-var-data {\n",
       "  display: none;\n",
       "  background-color: var(--xr-background-color) !important;\n",
       "  padding-bottom: 5px !important;\n",
       "}\n",
       "\n",
       ".xr-var-attrs-in:checked ~ .xr-var-attrs,\n",
       ".xr-var-data-in:checked ~ .xr-var-data {\n",
       "  display: block;\n",
       "}\n",
       "\n",
       ".xr-var-data > table {\n",
       "  float: right;\n",
       "}\n",
       "\n",
       ".xr-var-name span,\n",
       ".xr-var-data,\n",
       ".xr-attrs {\n",
       "  padding-left: 25px !important;\n",
       "}\n",
       "\n",
       ".xr-attrs,\n",
       ".xr-var-attrs,\n",
       ".xr-var-data {\n",
       "  grid-column: 1 / -1;\n",
       "}\n",
       "\n",
       "dl.xr-attrs {\n",
       "  padding: 0;\n",
       "  margin: 0;\n",
       "  display: grid;\n",
       "  grid-template-columns: 125px auto;\n",
       "}\n",
       "\n",
       ".xr-attrs dt,\n",
       ".xr-attrs dd {\n",
       "  padding: 0;\n",
       "  margin: 0;\n",
       "  float: left;\n",
       "  padding-right: 10px;\n",
       "  width: auto;\n",
       "}\n",
       "\n",
       ".xr-attrs dt {\n",
       "  font-weight: normal;\n",
       "  grid-column: 1;\n",
       "}\n",
       "\n",
       ".xr-attrs dt:hover span {\n",
       "  display: inline-block;\n",
       "  background: var(--xr-background-color);\n",
       "  padding-right: 10px;\n",
       "}\n",
       "\n",
       ".xr-attrs dd {\n",
       "  grid-column: 2;\n",
       "  white-space: pre-wrap;\n",
       "  word-break: break-all;\n",
       "}\n",
       "\n",
       ".xr-icon-database,\n",
       ".xr-icon-file-text2 {\n",
       "  display: inline-block;\n",
       "  vertical-align: middle;\n",
       "  width: 1em;\n",
       "  height: 1.5em !important;\n",
       "  stroke-width: 0;\n",
       "  stroke: currentColor;\n",
       "  fill: currentColor;\n",
       "}\n",
       "</style><pre class='xr-text-repr-fallback'>&lt;xarray.Dataset&gt;\n",
       "Dimensions:  (GCM: 9, decile: 10, time: 1, step: 3, lat: 81, lon: 121)\n",
       "Coordinates:\n",
       "  * GCM      (GCM) object &#x27;ECCC_GEM_NEMO&#x27; &#x27;ECCC_CanCM4i&#x27; ... &#x27;METEO_FRANCE&#x27;\n",
       "  * time     (time) datetime64[ns] 2021-12-01\n",
       "  * lon      (lon) float32 120.0 121.0 122.0 123.0 ... 237.0 238.0 239.0 240.0\n",
       "  * lat      (lat) float32 -50.0 -49.0 -48.0 -47.0 -46.0 ... 27.0 28.0 29.0 30.0\n",
       "  * step     (step) int64 3 4 5\n",
       "    month    int64 12\n",
       "  * decile   (decile) int64 1 2 3 4 5 6 7 8 9 10\n",
       "Data variables:\n",
       "    precip   (GCM, decile, time, step, lat, lon) float64 dask.array&lt;chunksize=(1, 10, 1, 3, 81, 121), meta=np.ndarray&gt;\n",
       "Attributes:\n",
       "    pct_values:  [0.1 0.2 0.3 0.4 0.5 0.6 0.7 0.8 0.9]</pre><div class='xr-wrap' hidden><div class='xr-header'><div class='xr-obj-type'>xarray.Dataset</div></div><ul class='xr-sections'><li class='xr-section-item'><input id='section-2297dfa7-3df1-445d-8725-fd9f2d2db2db' class='xr-section-summary-in' type='checkbox' disabled ><label for='section-2297dfa7-3df1-445d-8725-fd9f2d2db2db' class='xr-section-summary'  title='Expand/collapse section'>Dimensions:</label><div class='xr-section-inline-details'><ul class='xr-dim-list'><li><span class='xr-has-index'>GCM</span>: 9</li><li><span class='xr-has-index'>decile</span>: 10</li><li><span class='xr-has-index'>time</span>: 1</li><li><span class='xr-has-index'>step</span>: 3</li><li><span class='xr-has-index'>lat</span>: 81</li><li><span class='xr-has-index'>lon</span>: 121</li></ul></div><div class='xr-section-details'></div></li><li class='xr-section-item'><input id='section-6bccc3da-3fd0-4c41-98c5-bb8edac81301' class='xr-section-summary-in' type='checkbox'  checked><label for='section-6bccc3da-3fd0-4c41-98c5-bb8edac81301' class='xr-section-summary' >Coordinates: <span>(7)</span></label><div class='xr-section-inline-details'></div><div class='xr-section-details'><ul class='xr-var-list'><li class='xr-var-item'><div class='xr-var-name'><span class='xr-has-index'>GCM</span></div><div class='xr-var-dims'>(GCM)</div><div class='xr-var-dtype'>object</div><div class='xr-var-preview xr-preview'>&#x27;ECCC_GEM_NEMO&#x27; ... &#x27;METEO_FRANCE&#x27;</div><input id='attrs-728f9aac-ca7a-4c33-a181-1780b1da3fdf' class='xr-var-attrs-in' type='checkbox' disabled><label for='attrs-728f9aac-ca7a-4c33-a181-1780b1da3fdf' title='Show/Hide attributes'><svg class='icon xr-icon-file-text2'><use xlink:href='#icon-file-text2'></use></svg></label><input id='data-653117bc-74cb-423b-8478-7a10d0748185' class='xr-var-data-in' type='checkbox'><label for='data-653117bc-74cb-423b-8478-7a10d0748185' title='Show/Hide data repr'><svg class='icon xr-icon-database'><use xlink:href='#icon-database'></use></svg></label><div class='xr-var-attrs'><dl class='xr-attrs'></dl></div><div class='xr-var-data'><pre>array([&#x27;ECCC_GEM_NEMO&#x27;, &#x27;ECCC_CanCM4i&#x27;, &#x27;NCEP&#x27;, &#x27;DWD&#x27;, &#x27;ECMWF&#x27;, &#x27;CMCC&#x27;, &#x27;UKMO&#x27;,\n",
       "       &#x27;JMA&#x27;, &#x27;METEO_FRANCE&#x27;], dtype=object)</pre></div></li><li class='xr-var-item'><div class='xr-var-name'><span class='xr-has-index'>time</span></div><div class='xr-var-dims'>(time)</div><div class='xr-var-dtype'>datetime64[ns]</div><div class='xr-var-preview xr-preview'>2021-12-01</div><input id='attrs-c49f791a-6af4-4e15-a03a-ff31fdad5db5' class='xr-var-attrs-in' type='checkbox' disabled><label for='attrs-c49f791a-6af4-4e15-a03a-ff31fdad5db5' title='Show/Hide attributes'><svg class='icon xr-icon-file-text2'><use xlink:href='#icon-file-text2'></use></svg></label><input id='data-8ab0227f-12df-4e14-9a72-f142cca7e6bc' class='xr-var-data-in' type='checkbox'><label for='data-8ab0227f-12df-4e14-9a72-f142cca7e6bc' title='Show/Hide data repr'><svg class='icon xr-icon-database'><use xlink:href='#icon-database'></use></svg></label><div class='xr-var-attrs'><dl class='xr-attrs'></dl></div><div class='xr-var-data'><pre>array([&#x27;2021-12-01T00:00:00.000000000&#x27;], dtype=&#x27;datetime64[ns]&#x27;)</pre></div></li><li class='xr-var-item'><div class='xr-var-name'><span class='xr-has-index'>lon</span></div><div class='xr-var-dims'>(lon)</div><div class='xr-var-dtype'>float32</div><div class='xr-var-preview xr-preview'>120.0 121.0 122.0 ... 239.0 240.0</div><input id='attrs-57c56d2e-cee6-469d-846c-0fcf0a2ff5cd' class='xr-var-attrs-in' type='checkbox' disabled><label for='attrs-57c56d2e-cee6-469d-846c-0fcf0a2ff5cd' title='Show/Hide attributes'><svg class='icon xr-icon-file-text2'><use xlink:href='#icon-file-text2'></use></svg></label><input id='data-32ec661e-be53-4a2f-8faa-e2c3c2758d9d' class='xr-var-data-in' type='checkbox'><label for='data-32ec661e-be53-4a2f-8faa-e2c3c2758d9d' title='Show/Hide data repr'><svg class='icon xr-icon-database'><use xlink:href='#icon-database'></use></svg></label><div class='xr-var-attrs'><dl class='xr-attrs'></dl></div><div class='xr-var-data'><pre>array([120., 121., 122., 123., 124., 125., 126., 127., 128., 129., 130., 131.,\n",
       "       132., 133., 134., 135., 136., 137., 138., 139., 140., 141., 142., 143.,\n",
       "       144., 145., 146., 147., 148., 149., 150., 151., 152., 153., 154., 155.,\n",
       "       156., 157., 158., 159., 160., 161., 162., 163., 164., 165., 166., 167.,\n",
       "       168., 169., 170., 171., 172., 173., 174., 175., 176., 177., 178., 179.,\n",
       "       180., 181., 182., 183., 184., 185., 186., 187., 188., 189., 190., 191.,\n",
       "       192., 193., 194., 195., 196., 197., 198., 199., 200., 201., 202., 203.,\n",
       "       204., 205., 206., 207., 208., 209., 210., 211., 212., 213., 214., 215.,\n",
       "       216., 217., 218., 219., 220., 221., 222., 223., 224., 225., 226., 227.,\n",
       "       228., 229., 230., 231., 232., 233., 234., 235., 236., 237., 238., 239.,\n",
       "       240.], dtype=float32)</pre></div></li><li class='xr-var-item'><div class='xr-var-name'><span class='xr-has-index'>lat</span></div><div class='xr-var-dims'>(lat)</div><div class='xr-var-dtype'>float32</div><div class='xr-var-preview xr-preview'>-50.0 -49.0 -48.0 ... 29.0 30.0</div><input id='attrs-02239aa7-bc0d-4a5d-a8d0-6a44ac4c287d' class='xr-var-attrs-in' type='checkbox' disabled><label for='attrs-02239aa7-bc0d-4a5d-a8d0-6a44ac4c287d' title='Show/Hide attributes'><svg class='icon xr-icon-file-text2'><use xlink:href='#icon-file-text2'></use></svg></label><input id='data-711e918f-26d7-4167-a0ca-cfec9a9ee5d0' class='xr-var-data-in' type='checkbox'><label for='data-711e918f-26d7-4167-a0ca-cfec9a9ee5d0' title='Show/Hide data repr'><svg class='icon xr-icon-database'><use xlink:href='#icon-database'></use></svg></label><div class='xr-var-attrs'><dl class='xr-attrs'></dl></div><div class='xr-var-data'><pre>array([-50., -49., -48., -47., -46., -45., -44., -43., -42., -41., -40., -39.,\n",
       "       -38., -37., -36., -35., -34., -33., -32., -31., -30., -29., -28., -27.,\n",
       "       -26., -25., -24., -23., -22., -21., -20., -19., -18., -17., -16., -15.,\n",
       "       -14., -13., -12., -11., -10.,  -9.,  -8.,  -7.,  -6.,  -5.,  -4.,  -3.,\n",
       "        -2.,  -1.,   0.,   1.,   2.,   3.,   4.,   5.,   6.,   7.,   8.,   9.,\n",
       "        10.,  11.,  12.,  13.,  14.,  15.,  16.,  17.,  18.,  19.,  20.,  21.,\n",
       "        22.,  23.,  24.,  25.,  26.,  27.,  28.,  29.,  30.], dtype=float32)</pre></div></li><li class='xr-var-item'><div class='xr-var-name'><span class='xr-has-index'>step</span></div><div class='xr-var-dims'>(step)</div><div class='xr-var-dtype'>int64</div><div class='xr-var-preview xr-preview'>3 4 5</div><input id='attrs-c9b669f8-4593-42e6-80bd-3fa85cbfefa0' class='xr-var-attrs-in' type='checkbox' disabled><label for='attrs-c9b669f8-4593-42e6-80bd-3fa85cbfefa0' title='Show/Hide attributes'><svg class='icon xr-icon-file-text2'><use xlink:href='#icon-file-text2'></use></svg></label><input id='data-5a7d4dfa-8b92-4562-9514-680abcc9f200' class='xr-var-data-in' type='checkbox'><label for='data-5a7d4dfa-8b92-4562-9514-680abcc9f200' title='Show/Hide data repr'><svg class='icon xr-icon-database'><use xlink:href='#icon-database'></use></svg></label><div class='xr-var-attrs'><dl class='xr-attrs'></dl></div><div class='xr-var-data'><pre>array([3, 4, 5])</pre></div></li><li class='xr-var-item'><div class='xr-var-name'><span>month</span></div><div class='xr-var-dims'>()</div><div class='xr-var-dtype'>int64</div><div class='xr-var-preview xr-preview'>12</div><input id='attrs-a07670f7-2033-4f24-a24d-18ff8bcb1e38' class='xr-var-attrs-in' type='checkbox' disabled><label for='attrs-a07670f7-2033-4f24-a24d-18ff8bcb1e38' title='Show/Hide attributes'><svg class='icon xr-icon-file-text2'><use xlink:href='#icon-file-text2'></use></svg></label><input id='data-bb98661b-abc4-46dc-9f35-0a6743e0003e' class='xr-var-data-in' type='checkbox'><label for='data-bb98661b-abc4-46dc-9f35-0a6743e0003e' title='Show/Hide data repr'><svg class='icon xr-icon-database'><use xlink:href='#icon-database'></use></svg></label><div class='xr-var-attrs'><dl class='xr-attrs'></dl></div><div class='xr-var-data'><pre>array(12)</pre></div></li><li class='xr-var-item'><div class='xr-var-name'><span class='xr-has-index'>decile</span></div><div class='xr-var-dims'>(decile)</div><div class='xr-var-dtype'>int64</div><div class='xr-var-preview xr-preview'>1 2 3 4 5 6 7 8 9 10</div><input id='attrs-5621e1b5-064c-4e00-9381-328a7abd9961' class='xr-var-attrs-in' type='checkbox' disabled><label for='attrs-5621e1b5-064c-4e00-9381-328a7abd9961' title='Show/Hide attributes'><svg class='icon xr-icon-file-text2'><use xlink:href='#icon-file-text2'></use></svg></label><input id='data-94c80c21-4be7-452e-9445-b198fc2a4d70' class='xr-var-data-in' type='checkbox'><label for='data-94c80c21-4be7-452e-9445-b198fc2a4d70' title='Show/Hide data repr'><svg class='icon xr-icon-database'><use xlink:href='#icon-database'></use></svg></label><div class='xr-var-attrs'><dl class='xr-attrs'></dl></div><div class='xr-var-data'><pre>array([ 1,  2,  3,  4,  5,  6,  7,  8,  9, 10])</pre></div></li></ul></div></li><li class='xr-section-item'><input id='section-cd185e36-bfde-4d60-8aed-6a8be4ac3f0c' class='xr-section-summary-in' type='checkbox'  checked><label for='section-cd185e36-bfde-4d60-8aed-6a8be4ac3f0c' class='xr-section-summary' >Data variables: <span>(1)</span></label><div class='xr-section-inline-details'></div><div class='xr-section-details'><ul class='xr-var-list'><li class='xr-var-item'><div class='xr-var-name'><span>precip</span></div><div class='xr-var-dims'>(GCM, decile, time, step, lat, lon)</div><div class='xr-var-dtype'>float64</div><div class='xr-var-preview xr-preview'>dask.array&lt;chunksize=(1, 10, 1, 3, 81, 121), meta=np.ndarray&gt;</div><input id='attrs-24a1cc5d-8ec8-4753-97d1-d5a9bb79a23e' class='xr-var-attrs-in' type='checkbox' disabled><label for='attrs-24a1cc5d-8ec8-4753-97d1-d5a9bb79a23e' title='Show/Hide attributes'><svg class='icon xr-icon-file-text2'><use xlink:href='#icon-file-text2'></use></svg></label><input id='data-9546258f-f38f-466a-81b1-c6a33725342f' class='xr-var-data-in' type='checkbox'><label for='data-9546258f-f38f-466a-81b1-c6a33725342f' title='Show/Hide data repr'><svg class='icon xr-icon-database'><use xlink:href='#icon-database'></use></svg></label><div class='xr-var-attrs'><dl class='xr-attrs'></dl></div><div class='xr-var-data'><table>\n",
       "    <tr>\n",
       "        <td>\n",
       "            <table>\n",
       "                <thead>\n",
       "                    <tr>\n",
       "                        <td> </td>\n",
       "                        <th> Array </th>\n",
       "                        <th> Chunk </th>\n",
       "                    </tr>\n",
       "                </thead>\n",
       "                <tbody>\n",
       "                    \n",
       "                    <tr>\n",
       "                        <th> Bytes </th>\n",
       "                        <td> 20.19 MiB </td>\n",
       "                        <td> 2.24 MiB </td>\n",
       "                    </tr>\n",
       "                    \n",
       "                    <tr>\n",
       "                        <th> Shape </th>\n",
       "                        <td> (9, 10, 1, 3, 81, 121) </td>\n",
       "                        <td> (1, 10, 1, 3, 81, 121) </td>\n",
       "                    </tr>\n",
       "                    <tr>\n",
       "                        <th> Count </th>\n",
       "                        <td> 27 Tasks </td>\n",
       "                        <td> 9 Chunks </td>\n",
       "                    </tr>\n",
       "                    <tr>\n",
       "                    <th> Type </th>\n",
       "                    <td> float64 </td>\n",
       "                    <td> numpy.ndarray </td>\n",
       "                    </tr>\n",
       "                </tbody>\n",
       "            </table>\n",
       "        </td>\n",
       "        <td>\n",
       "        <svg width=\"441\" height=\"148\" style=\"stroke:rgb(0,0,0);stroke-width:1\" >\n",
       "\n",
       "  <!-- Horizontal lines -->\n",
       "  <line x1=\"10\" y1=\"0\" x2=\"31\" y2=\"21\" style=\"stroke-width:2\" />\n",
       "  <line x1=\"10\" y1=\"37\" x2=\"31\" y2=\"59\" style=\"stroke-width:2\" />\n",
       "\n",
       "  <!-- Vertical lines -->\n",
       "  <line x1=\"10\" y1=\"0\" x2=\"10\" y2=\"37\" style=\"stroke-width:2\" />\n",
       "  <line x1=\"12\" y1=\"2\" x2=\"12\" y2=\"39\" />\n",
       "  <line x1=\"14\" y1=\"4\" x2=\"14\" y2=\"42\" />\n",
       "  <line x1=\"17\" y1=\"7\" x2=\"17\" y2=\"44\" />\n",
       "  <line x1=\"19\" y1=\"9\" x2=\"19\" y2=\"47\" />\n",
       "  <line x1=\"22\" y1=\"12\" x2=\"22\" y2=\"49\" />\n",
       "  <line x1=\"24\" y1=\"14\" x2=\"24\" y2=\"51\" />\n",
       "  <line x1=\"26\" y1=\"16\" x2=\"26\" y2=\"54\" />\n",
       "  <line x1=\"29\" y1=\"19\" x2=\"29\" y2=\"56\" />\n",
       "  <line x1=\"31\" y1=\"21\" x2=\"31\" y2=\"59\" style=\"stroke-width:2\" />\n",
       "\n",
       "  <!-- Colored Rectangle -->\n",
       "  <polygon points=\"10.0,0.0 31.705460913306453,21.705460913306453 31.705460913306453,59.22101676725615 10.0,37.5155558539497\" style=\"fill:#ECB172A0;stroke-width:0\"/>\n",
       "\n",
       "  <!-- Horizontal lines -->\n",
       "  <line x1=\"10\" y1=\"0\" x2=\"35\" y2=\"0\" style=\"stroke-width:2\" />\n",
       "  <line x1=\"12\" y1=\"2\" x2=\"37\" y2=\"2\" />\n",
       "  <line x1=\"14\" y1=\"4\" x2=\"40\" y2=\"4\" />\n",
       "  <line x1=\"17\" y1=\"7\" x2=\"42\" y2=\"7\" />\n",
       "  <line x1=\"19\" y1=\"9\" x2=\"45\" y2=\"9\" />\n",
       "  <line x1=\"22\" y1=\"12\" x2=\"47\" y2=\"12\" />\n",
       "  <line x1=\"24\" y1=\"14\" x2=\"49\" y2=\"14\" />\n",
       "  <line x1=\"26\" y1=\"16\" x2=\"52\" y2=\"16\" />\n",
       "  <line x1=\"29\" y1=\"19\" x2=\"54\" y2=\"19\" />\n",
       "  <line x1=\"31\" y1=\"21\" x2=\"57\" y2=\"21\" style=\"stroke-width:2\" />\n",
       "\n",
       "  <!-- Vertical lines -->\n",
       "  <line x1=\"10\" y1=\"0\" x2=\"31\" y2=\"21\" style=\"stroke-width:2\" />\n",
       "  <line x1=\"35\" y1=\"0\" x2=\"57\" y2=\"21\" style=\"stroke-width:2\" />\n",
       "\n",
       "  <!-- Colored Rectangle -->\n",
       "  <polygon points=\"10.0,0.0 35.41261651458248,0.0 57.118077427888934,21.705460913306453 31.705460913306453,21.705460913306453\" style=\"fill:#ECB172A0;stroke-width:0\"/>\n",
       "\n",
       "  <!-- Horizontal lines -->\n",
       "  <line x1=\"31\" y1=\"21\" x2=\"57\" y2=\"21\" style=\"stroke-width:2\" />\n",
       "  <line x1=\"31\" y1=\"59\" x2=\"57\" y2=\"59\" style=\"stroke-width:2\" />\n",
       "\n",
       "  <!-- Vertical lines -->\n",
       "  <line x1=\"31\" y1=\"21\" x2=\"31\" y2=\"59\" style=\"stroke-width:2\" />\n",
       "  <line x1=\"57\" y1=\"21\" x2=\"57\" y2=\"59\" style=\"stroke-width:2\" />\n",
       "\n",
       "  <!-- Colored Rectangle -->\n",
       "  <polygon points=\"31.705460913306453,21.705460913306453 57.118077427888934,21.705460913306453 57.118077427888934,59.22101676725615 31.705460913306453,59.22101676725615\" style=\"fill:#ECB172A0;stroke-width:0\"/>\n",
       "\n",
       "  <!-- Text -->\n",
       "  <text x=\"44.411769\" y=\"79.221017\" font-size=\"1.0rem\" font-weight=\"100\" text-anchor=\"middle\" >1</text>\n",
       "  <text x=\"77.118077\" y=\"40.463239\" font-size=\"1.0rem\" font-weight=\"100\" text-anchor=\"middle\" transform=\"rotate(0,77.118077,40.463239)\">10</text>\n",
       "  <text x=\"10.852730\" y=\"68.368286\" font-size=\"1.0rem\" font-weight=\"100\" text-anchor=\"middle\" transform=\"rotate(45,10.852730,68.368286)\">9</text>\n",
       "\n",
       "\n",
       "  <!-- Horizontal lines -->\n",
       "  <line x1=\"127\" y1=\"0\" x2=\"144\" y2=\"17\" style=\"stroke-width:2\" />\n",
       "  <line x1=\"127\" y1=\"80\" x2=\"144\" y2=\"98\" style=\"stroke-width:2\" />\n",
       "\n",
       "  <!-- Vertical lines -->\n",
       "  <line x1=\"127\" y1=\"0\" x2=\"127\" y2=\"80\" style=\"stroke-width:2\" />\n",
       "  <line x1=\"144\" y1=\"17\" x2=\"144\" y2=\"98\" style=\"stroke-width:2\" />\n",
       "\n",
       "  <!-- Colored Rectangle -->\n",
       "  <polygon points=\"127.0,0.0 144.80172121589226,17.801721215892265 144.80172121589226,98.13229972828896 127.0,80.3305785123967\" style=\"fill:#ECB172A0;stroke-width:0\"/>\n",
       "\n",
       "  <!-- Horizontal lines -->\n",
       "  <line x1=\"127\" y1=\"0\" x2=\"247\" y2=\"0\" style=\"stroke-width:2\" />\n",
       "  <line x1=\"144\" y1=\"17\" x2=\"264\" y2=\"17\" style=\"stroke-width:2\" />\n",
       "\n",
       "  <!-- Vertical lines -->\n",
       "  <line x1=\"127\" y1=\"0\" x2=\"144\" y2=\"17\" style=\"stroke-width:2\" />\n",
       "  <line x1=\"247\" y1=\"0\" x2=\"264\" y2=\"17\" style=\"stroke-width:2\" />\n",
       "\n",
       "  <!-- Colored Rectangle -->\n",
       "  <polygon points=\"127.0,0.0 247.0,0.0 264.80172121589226,17.801721215892265 144.80172121589226,17.801721215892265\" style=\"fill:#ECB172A0;stroke-width:0\"/>\n",
       "\n",
       "  <!-- Horizontal lines -->\n",
       "  <line x1=\"144\" y1=\"17\" x2=\"264\" y2=\"17\" style=\"stroke-width:2\" />\n",
       "  <line x1=\"144\" y1=\"98\" x2=\"264\" y2=\"98\" style=\"stroke-width:2\" />\n",
       "\n",
       "  <!-- Vertical lines -->\n",
       "  <line x1=\"144\" y1=\"17\" x2=\"144\" y2=\"98\" style=\"stroke-width:2\" />\n",
       "  <line x1=\"264\" y1=\"17\" x2=\"264\" y2=\"98\" style=\"stroke-width:2\" />\n",
       "\n",
       "  <!-- Colored Rectangle -->\n",
       "  <polygon points=\"144.80172121589226,17.801721215892265 264.80172121589226,17.801721215892265 264.80172121589226,98.13229972828896 144.80172121589226,98.13229972828896\" style=\"fill:#ECB172A0;stroke-width:0\"/>\n",
       "\n",
       "  <!-- Text -->\n",
       "  <text x=\"204.801721\" y=\"118.132300\" font-size=\"1.0rem\" font-weight=\"100\" text-anchor=\"middle\" >121</text>\n",
       "  <text x=\"284.801721\" y=\"57.967010\" font-size=\"1.0rem\" font-weight=\"100\" text-anchor=\"middle\" transform=\"rotate(0,284.801721,57.967010)\">81</text>\n",
       "  <text x=\"125.900861\" y=\"109.231439\" font-size=\"1.0rem\" font-weight=\"100\" text-anchor=\"middle\" transform=\"rotate(45,125.900861,109.231439)\">3</text>\n",
       "</svg>\n",
       "        </td>\n",
       "    </tr>\n",
       "</table></div></li></ul></div></li><li class='xr-section-item'><input id='section-bd106764-0eda-4f41-a3df-329980910668' class='xr-section-summary-in' type='checkbox'  checked><label for='section-bd106764-0eda-4f41-a3df-329980910668' class='xr-section-summary' >Attributes: <span>(1)</span></label><div class='xr-section-inline-details'></div><div class='xr-section-details'><dl class='xr-attrs'><dt><span>pct_values :</span></dt><dd>[0.1 0.2 0.3 0.4 0.5 0.6 0.7 0.8 0.9]</dd></dl></div></li></ul></div></div>"
      ],
      "text/plain": [
       "<xarray.Dataset>\n",
       "Dimensions:  (GCM: 9, decile: 10, time: 1, step: 3, lat: 81, lon: 121)\n",
       "Coordinates:\n",
       "  * GCM      (GCM) object 'ECCC_GEM_NEMO' 'ECCC_CanCM4i' ... 'METEO_FRANCE'\n",
       "  * time     (time) datetime64[ns] 2021-12-01\n",
       "  * lon      (lon) float32 120.0 121.0 122.0 123.0 ... 237.0 238.0 239.0 240.0\n",
       "  * lat      (lat) float32 -50.0 -49.0 -48.0 -47.0 -46.0 ... 27.0 28.0 29.0 30.0\n",
       "  * step     (step) int64 3 4 5\n",
       "    month    int64 12\n",
       "  * decile   (decile) int64 1 2 3 4 5 6 7 8 9 10\n",
       "Data variables:\n",
       "    precip   (GCM, decile, time, step, lat, lon) float64 dask.array<chunksize=(1, 10, 1, 3, 81, 121), meta=np.ndarray>\n",
       "Attributes:\n",
       "    pct_values:  [0.1 0.2 0.3 0.4 0.5 0.6 0.7 0.8 0.9]"
      ]
     },
     "execution_count": 26,
     "metadata": {},
     "output_type": "execute_result"
    }
   ],
   "source": [
    "probs"
   ]
  },
  {
   "cell_type": "markdown",
   "id": "3f196ab6",
   "metadata": {
    "papermill": {
     "duration": 0.035645,
     "end_time": "2022-01-17T20:53:18.415023",
     "exception": false,
     "start_time": "2022-01-17T20:53:18.379378",
     "status": "completed"
    },
    "tags": []
   },
   "source": [
    "### interpolate"
   ]
  },
  {
   "cell_type": "code",
   "execution_count": 27,
   "id": "f613fc28",
   "metadata": {
    "execution": {
     "iopub.execute_input": "2022-01-17T20:53:18.486375Z",
     "iopub.status.busy": "2022-01-17T20:53:18.486045Z",
     "iopub.status.idle": "2022-01-17T20:53:18.509672Z",
     "shell.execute_reply": "2022-01-17T20:53:18.509289Z"
    },
    "papermill": {
     "duration": 0.060469,
     "end_time": "2022-01-17T20:53:18.509780",
     "exception": false,
     "start_time": "2022-01-17T20:53:18.449311",
     "status": "completed"
    },
    "tags": []
   },
   "outputs": [],
   "source": [
    "probs = utils.interp(probs, interp_factor=6)"
   ]
  },
  {
   "cell_type": "code",
   "execution_count": 28,
   "id": "ee09f6db",
   "metadata": {
    "execution": {
     "iopub.execute_input": "2022-01-17T20:53:18.577133Z",
     "iopub.status.busy": "2022-01-17T20:53:18.576794Z",
     "iopub.status.idle": "2022-01-17T20:53:18.605222Z",
     "shell.execute_reply": "2022-01-17T20:53:18.604852Z"
    },
    "papermill": {
     "duration": 0.062071,
     "end_time": "2022-01-17T20:53:18.605329",
     "exception": false,
     "start_time": "2022-01-17T20:53:18.543258",
     "status": "completed"
    },
    "tags": []
   },
   "outputs": [
    {
     "data": {
      "text/html": [
       "<div><svg style=\"position: absolute; width: 0; height: 0; overflow: hidden\">\n",
       "<defs>\n",
       "<symbol id=\"icon-database\" viewBox=\"0 0 32 32\">\n",
       "<path d=\"M16 0c-8.837 0-16 2.239-16 5v4c0 2.761 7.163 5 16 5s16-2.239 16-5v-4c0-2.761-7.163-5-16-5z\"></path>\n",
       "<path d=\"M16 17c-8.837 0-16-2.239-16-5v6c0 2.761 7.163 5 16 5s16-2.239 16-5v-6c0 2.761-7.163 5-16 5z\"></path>\n",
       "<path d=\"M16 26c-8.837 0-16-2.239-16-5v6c0 2.761 7.163 5 16 5s16-2.239 16-5v-6c0 2.761-7.163 5-16 5z\"></path>\n",
       "</symbol>\n",
       "<symbol id=\"icon-file-text2\" viewBox=\"0 0 32 32\">\n",
       "<path d=\"M28.681 7.159c-0.694-0.947-1.662-2.053-2.724-3.116s-2.169-2.030-3.116-2.724c-1.612-1.182-2.393-1.319-2.841-1.319h-15.5c-1.378 0-2.5 1.121-2.5 2.5v27c0 1.378 1.122 2.5 2.5 2.5h23c1.378 0 2.5-1.122 2.5-2.5v-19.5c0-0.448-0.137-1.23-1.319-2.841zM24.543 5.457c0.959 0.959 1.712 1.825 2.268 2.543h-4.811v-4.811c0.718 0.556 1.584 1.309 2.543 2.268zM28 29.5c0 0.271-0.229 0.5-0.5 0.5h-23c-0.271 0-0.5-0.229-0.5-0.5v-27c0-0.271 0.229-0.5 0.5-0.5 0 0 15.499-0 15.5 0v7c0 0.552 0.448 1 1 1h7v19.5z\"></path>\n",
       "<path d=\"M23 26h-14c-0.552 0-1-0.448-1-1s0.448-1 1-1h14c0.552 0 1 0.448 1 1s-0.448 1-1 1z\"></path>\n",
       "<path d=\"M23 22h-14c-0.552 0-1-0.448-1-1s0.448-1 1-1h14c0.552 0 1 0.448 1 1s-0.448 1-1 1z\"></path>\n",
       "<path d=\"M23 18h-14c-0.552 0-1-0.448-1-1s0.448-1 1-1h14c0.552 0 1 0.448 1 1s-0.448 1-1 1z\"></path>\n",
       "</symbol>\n",
       "</defs>\n",
       "</svg>\n",
       "<style>/* CSS stylesheet for displaying xarray objects in jupyterlab.\n",
       " *\n",
       " */\n",
       "\n",
       ":root {\n",
       "  --xr-font-color0: var(--jp-content-font-color0, rgba(0, 0, 0, 1));\n",
       "  --xr-font-color2: var(--jp-content-font-color2, rgba(0, 0, 0, 0.54));\n",
       "  --xr-font-color3: var(--jp-content-font-color3, rgba(0, 0, 0, 0.38));\n",
       "  --xr-border-color: var(--jp-border-color2, #e0e0e0);\n",
       "  --xr-disabled-color: var(--jp-layout-color3, #bdbdbd);\n",
       "  --xr-background-color: var(--jp-layout-color0, white);\n",
       "  --xr-background-color-row-even: var(--jp-layout-color1, white);\n",
       "  --xr-background-color-row-odd: var(--jp-layout-color2, #eeeeee);\n",
       "}\n",
       "\n",
       "html[theme=dark],\n",
       "body.vscode-dark {\n",
       "  --xr-font-color0: rgba(255, 255, 255, 1);\n",
       "  --xr-font-color2: rgba(255, 255, 255, 0.54);\n",
       "  --xr-font-color3: rgba(255, 255, 255, 0.38);\n",
       "  --xr-border-color: #1F1F1F;\n",
       "  --xr-disabled-color: #515151;\n",
       "  --xr-background-color: #111111;\n",
       "  --xr-background-color-row-even: #111111;\n",
       "  --xr-background-color-row-odd: #313131;\n",
       "}\n",
       "\n",
       ".xr-wrap {\n",
       "  display: block;\n",
       "  min-width: 300px;\n",
       "  max-width: 700px;\n",
       "}\n",
       "\n",
       ".xr-text-repr-fallback {\n",
       "  /* fallback to plain text repr when CSS is not injected (untrusted notebook) */\n",
       "  display: none;\n",
       "}\n",
       "\n",
       ".xr-header {\n",
       "  padding-top: 6px;\n",
       "  padding-bottom: 6px;\n",
       "  margin-bottom: 4px;\n",
       "  border-bottom: solid 1px var(--xr-border-color);\n",
       "}\n",
       "\n",
       ".xr-header > div,\n",
       ".xr-header > ul {\n",
       "  display: inline;\n",
       "  margin-top: 0;\n",
       "  margin-bottom: 0;\n",
       "}\n",
       "\n",
       ".xr-obj-type,\n",
       ".xr-array-name {\n",
       "  margin-left: 2px;\n",
       "  margin-right: 10px;\n",
       "}\n",
       "\n",
       ".xr-obj-type {\n",
       "  color: var(--xr-font-color2);\n",
       "}\n",
       "\n",
       ".xr-sections {\n",
       "  padding-left: 0 !important;\n",
       "  display: grid;\n",
       "  grid-template-columns: 150px auto auto 1fr 20px 20px;\n",
       "}\n",
       "\n",
       ".xr-section-item {\n",
       "  display: contents;\n",
       "}\n",
       "\n",
       ".xr-section-item input {\n",
       "  display: none;\n",
       "}\n",
       "\n",
       ".xr-section-item input + label {\n",
       "  color: var(--xr-disabled-color);\n",
       "}\n",
       "\n",
       ".xr-section-item input:enabled + label {\n",
       "  cursor: pointer;\n",
       "  color: var(--xr-font-color2);\n",
       "}\n",
       "\n",
       ".xr-section-item input:enabled + label:hover {\n",
       "  color: var(--xr-font-color0);\n",
       "}\n",
       "\n",
       ".xr-section-summary {\n",
       "  grid-column: 1;\n",
       "  color: var(--xr-font-color2);\n",
       "  font-weight: 500;\n",
       "}\n",
       "\n",
       ".xr-section-summary > span {\n",
       "  display: inline-block;\n",
       "  padding-left: 0.5em;\n",
       "}\n",
       "\n",
       ".xr-section-summary-in:disabled + label {\n",
       "  color: var(--xr-font-color2);\n",
       "}\n",
       "\n",
       ".xr-section-summary-in + label:before {\n",
       "  display: inline-block;\n",
       "  content: '►';\n",
       "  font-size: 11px;\n",
       "  width: 15px;\n",
       "  text-align: center;\n",
       "}\n",
       "\n",
       ".xr-section-summary-in:disabled + label:before {\n",
       "  color: var(--xr-disabled-color);\n",
       "}\n",
       "\n",
       ".xr-section-summary-in:checked + label:before {\n",
       "  content: '▼';\n",
       "}\n",
       "\n",
       ".xr-section-summary-in:checked + label > span {\n",
       "  display: none;\n",
       "}\n",
       "\n",
       ".xr-section-summary,\n",
       ".xr-section-inline-details {\n",
       "  padding-top: 4px;\n",
       "  padding-bottom: 4px;\n",
       "}\n",
       "\n",
       ".xr-section-inline-details {\n",
       "  grid-column: 2 / -1;\n",
       "}\n",
       "\n",
       ".xr-section-details {\n",
       "  display: none;\n",
       "  grid-column: 1 / -1;\n",
       "  margin-bottom: 5px;\n",
       "}\n",
       "\n",
       ".xr-section-summary-in:checked ~ .xr-section-details {\n",
       "  display: contents;\n",
       "}\n",
       "\n",
       ".xr-array-wrap {\n",
       "  grid-column: 1 / -1;\n",
       "  display: grid;\n",
       "  grid-template-columns: 20px auto;\n",
       "}\n",
       "\n",
       ".xr-array-wrap > label {\n",
       "  grid-column: 1;\n",
       "  vertical-align: top;\n",
       "}\n",
       "\n",
       ".xr-preview {\n",
       "  color: var(--xr-font-color3);\n",
       "}\n",
       "\n",
       ".xr-array-preview,\n",
       ".xr-array-data {\n",
       "  padding: 0 5px !important;\n",
       "  grid-column: 2;\n",
       "}\n",
       "\n",
       ".xr-array-data,\n",
       ".xr-array-in:checked ~ .xr-array-preview {\n",
       "  display: none;\n",
       "}\n",
       "\n",
       ".xr-array-in:checked ~ .xr-array-data,\n",
       ".xr-array-preview {\n",
       "  display: inline-block;\n",
       "}\n",
       "\n",
       ".xr-dim-list {\n",
       "  display: inline-block !important;\n",
       "  list-style: none;\n",
       "  padding: 0 !important;\n",
       "  margin: 0;\n",
       "}\n",
       "\n",
       ".xr-dim-list li {\n",
       "  display: inline-block;\n",
       "  padding: 0;\n",
       "  margin: 0;\n",
       "}\n",
       "\n",
       ".xr-dim-list:before {\n",
       "  content: '(';\n",
       "}\n",
       "\n",
       ".xr-dim-list:after {\n",
       "  content: ')';\n",
       "}\n",
       "\n",
       ".xr-dim-list li:not(:last-child):after {\n",
       "  content: ',';\n",
       "  padding-right: 5px;\n",
       "}\n",
       "\n",
       ".xr-has-index {\n",
       "  font-weight: bold;\n",
       "}\n",
       "\n",
       ".xr-var-list,\n",
       ".xr-var-item {\n",
       "  display: contents;\n",
       "}\n",
       "\n",
       ".xr-var-item > div,\n",
       ".xr-var-item label,\n",
       ".xr-var-item > .xr-var-name span {\n",
       "  background-color: var(--xr-background-color-row-even);\n",
       "  margin-bottom: 0;\n",
       "}\n",
       "\n",
       ".xr-var-item > .xr-var-name:hover span {\n",
       "  padding-right: 5px;\n",
       "}\n",
       "\n",
       ".xr-var-list > li:nth-child(odd) > div,\n",
       ".xr-var-list > li:nth-child(odd) > label,\n",
       ".xr-var-list > li:nth-child(odd) > .xr-var-name span {\n",
       "  background-color: var(--xr-background-color-row-odd);\n",
       "}\n",
       "\n",
       ".xr-var-name {\n",
       "  grid-column: 1;\n",
       "}\n",
       "\n",
       ".xr-var-dims {\n",
       "  grid-column: 2;\n",
       "}\n",
       "\n",
       ".xr-var-dtype {\n",
       "  grid-column: 3;\n",
       "  text-align: right;\n",
       "  color: var(--xr-font-color2);\n",
       "}\n",
       "\n",
       ".xr-var-preview {\n",
       "  grid-column: 4;\n",
       "}\n",
       "\n",
       ".xr-var-name,\n",
       ".xr-var-dims,\n",
       ".xr-var-dtype,\n",
       ".xr-preview,\n",
       ".xr-attrs dt {\n",
       "  white-space: nowrap;\n",
       "  overflow: hidden;\n",
       "  text-overflow: ellipsis;\n",
       "  padding-right: 10px;\n",
       "}\n",
       "\n",
       ".xr-var-name:hover,\n",
       ".xr-var-dims:hover,\n",
       ".xr-var-dtype:hover,\n",
       ".xr-attrs dt:hover {\n",
       "  overflow: visible;\n",
       "  width: auto;\n",
       "  z-index: 1;\n",
       "}\n",
       "\n",
       ".xr-var-attrs,\n",
       ".xr-var-data {\n",
       "  display: none;\n",
       "  background-color: var(--xr-background-color) !important;\n",
       "  padding-bottom: 5px !important;\n",
       "}\n",
       "\n",
       ".xr-var-attrs-in:checked ~ .xr-var-attrs,\n",
       ".xr-var-data-in:checked ~ .xr-var-data {\n",
       "  display: block;\n",
       "}\n",
       "\n",
       ".xr-var-data > table {\n",
       "  float: right;\n",
       "}\n",
       "\n",
       ".xr-var-name span,\n",
       ".xr-var-data,\n",
       ".xr-attrs {\n",
       "  padding-left: 25px !important;\n",
       "}\n",
       "\n",
       ".xr-attrs,\n",
       ".xr-var-attrs,\n",
       ".xr-var-data {\n",
       "  grid-column: 1 / -1;\n",
       "}\n",
       "\n",
       "dl.xr-attrs {\n",
       "  padding: 0;\n",
       "  margin: 0;\n",
       "  display: grid;\n",
       "  grid-template-columns: 125px auto;\n",
       "}\n",
       "\n",
       ".xr-attrs dt,\n",
       ".xr-attrs dd {\n",
       "  padding: 0;\n",
       "  margin: 0;\n",
       "  float: left;\n",
       "  padding-right: 10px;\n",
       "  width: auto;\n",
       "}\n",
       "\n",
       ".xr-attrs dt {\n",
       "  font-weight: normal;\n",
       "  grid-column: 1;\n",
       "}\n",
       "\n",
       ".xr-attrs dt:hover span {\n",
       "  display: inline-block;\n",
       "  background: var(--xr-background-color);\n",
       "  padding-right: 10px;\n",
       "}\n",
       "\n",
       ".xr-attrs dd {\n",
       "  grid-column: 2;\n",
       "  white-space: pre-wrap;\n",
       "  word-break: break-all;\n",
       "}\n",
       "\n",
       ".xr-icon-database,\n",
       ".xr-icon-file-text2 {\n",
       "  display: inline-block;\n",
       "  vertical-align: middle;\n",
       "  width: 1em;\n",
       "  height: 1.5em !important;\n",
       "  stroke-width: 0;\n",
       "  stroke: currentColor;\n",
       "  fill: currentColor;\n",
       "}\n",
       "</style><pre class='xr-text-repr-fallback'>&lt;xarray.Dataset&gt;\n",
       "Dimensions:  (GCM: 9, decile: 10, time: 1, step: 3, lat: 486, lon: 726)\n",
       "Coordinates:\n",
       "  * GCM      (GCM) object &#x27;ECCC_GEM_NEMO&#x27; &#x27;ECCC_CanCM4i&#x27; ... &#x27;METEO_FRANCE&#x27;\n",
       "  * time     (time) datetime64[ns] 2021-12-01\n",
       "  * step     (step) int64 3 4 5\n",
       "    month    int64 12\n",
       "  * decile   (decile) int64 1 2 3 4 5 6 7 8 9 10\n",
       "  * lon      (lon) float64 120.0 120.2 120.3 120.5 ... 239.5 239.7 239.8 240.0\n",
       "  * lat      (lat) float64 -50.0 -49.84 -49.67 -49.51 ... 29.51 29.67 29.84 30.0\n",
       "Data variables:\n",
       "    precip   (GCM, decile, time, step, lat, lon) float64 dask.array&lt;chunksize=(1, 10, 1, 3, 486, 726), meta=np.ndarray&gt;\n",
       "Attributes:\n",
       "    pct_values:  [0.1 0.2 0.3 0.4 0.5 0.6 0.7 0.8 0.9]</pre><div class='xr-wrap' hidden><div class='xr-header'><div class='xr-obj-type'>xarray.Dataset</div></div><ul class='xr-sections'><li class='xr-section-item'><input id='section-3e7185f3-a9ff-4f66-9989-eed077028d35' class='xr-section-summary-in' type='checkbox' disabled ><label for='section-3e7185f3-a9ff-4f66-9989-eed077028d35' class='xr-section-summary'  title='Expand/collapse section'>Dimensions:</label><div class='xr-section-inline-details'><ul class='xr-dim-list'><li><span class='xr-has-index'>GCM</span>: 9</li><li><span class='xr-has-index'>decile</span>: 10</li><li><span class='xr-has-index'>time</span>: 1</li><li><span class='xr-has-index'>step</span>: 3</li><li><span class='xr-has-index'>lat</span>: 486</li><li><span class='xr-has-index'>lon</span>: 726</li></ul></div><div class='xr-section-details'></div></li><li class='xr-section-item'><input id='section-4590c9b3-9957-4c23-abb5-c8cb3fb07656' class='xr-section-summary-in' type='checkbox'  checked><label for='section-4590c9b3-9957-4c23-abb5-c8cb3fb07656' class='xr-section-summary' >Coordinates: <span>(7)</span></label><div class='xr-section-inline-details'></div><div class='xr-section-details'><ul class='xr-var-list'><li class='xr-var-item'><div class='xr-var-name'><span class='xr-has-index'>GCM</span></div><div class='xr-var-dims'>(GCM)</div><div class='xr-var-dtype'>object</div><div class='xr-var-preview xr-preview'>&#x27;ECCC_GEM_NEMO&#x27; ... &#x27;METEO_FRANCE&#x27;</div><input id='attrs-2247a3d6-93ba-449f-add8-b85a11a2d4aa' class='xr-var-attrs-in' type='checkbox' disabled><label for='attrs-2247a3d6-93ba-449f-add8-b85a11a2d4aa' title='Show/Hide attributes'><svg class='icon xr-icon-file-text2'><use xlink:href='#icon-file-text2'></use></svg></label><input id='data-1c43d17c-c655-4cad-93ee-58ae9c064daf' class='xr-var-data-in' type='checkbox'><label for='data-1c43d17c-c655-4cad-93ee-58ae9c064daf' title='Show/Hide data repr'><svg class='icon xr-icon-database'><use xlink:href='#icon-database'></use></svg></label><div class='xr-var-attrs'><dl class='xr-attrs'></dl></div><div class='xr-var-data'><pre>array([&#x27;ECCC_GEM_NEMO&#x27;, &#x27;ECCC_CanCM4i&#x27;, &#x27;NCEP&#x27;, &#x27;DWD&#x27;, &#x27;ECMWF&#x27;, &#x27;CMCC&#x27;, &#x27;UKMO&#x27;,\n",
       "       &#x27;JMA&#x27;, &#x27;METEO_FRANCE&#x27;], dtype=object)</pre></div></li><li class='xr-var-item'><div class='xr-var-name'><span class='xr-has-index'>time</span></div><div class='xr-var-dims'>(time)</div><div class='xr-var-dtype'>datetime64[ns]</div><div class='xr-var-preview xr-preview'>2021-12-01</div><input id='attrs-295aec3f-7e53-4e65-ae26-c7a26b4326f9' class='xr-var-attrs-in' type='checkbox' disabled><label for='attrs-295aec3f-7e53-4e65-ae26-c7a26b4326f9' title='Show/Hide attributes'><svg class='icon xr-icon-file-text2'><use xlink:href='#icon-file-text2'></use></svg></label><input id='data-d33101ff-011d-4345-80c6-251a1c361f59' class='xr-var-data-in' type='checkbox'><label for='data-d33101ff-011d-4345-80c6-251a1c361f59' title='Show/Hide data repr'><svg class='icon xr-icon-database'><use xlink:href='#icon-database'></use></svg></label><div class='xr-var-attrs'><dl class='xr-attrs'></dl></div><div class='xr-var-data'><pre>array([&#x27;2021-12-01T00:00:00.000000000&#x27;], dtype=&#x27;datetime64[ns]&#x27;)</pre></div></li><li class='xr-var-item'><div class='xr-var-name'><span class='xr-has-index'>step</span></div><div class='xr-var-dims'>(step)</div><div class='xr-var-dtype'>int64</div><div class='xr-var-preview xr-preview'>3 4 5</div><input id='attrs-912b2519-cb9e-4c31-8d3a-7aa98399ae67' class='xr-var-attrs-in' type='checkbox' disabled><label for='attrs-912b2519-cb9e-4c31-8d3a-7aa98399ae67' title='Show/Hide attributes'><svg class='icon xr-icon-file-text2'><use xlink:href='#icon-file-text2'></use></svg></label><input id='data-ac616192-8468-40e3-ac7e-f37ea5786681' class='xr-var-data-in' type='checkbox'><label for='data-ac616192-8468-40e3-ac7e-f37ea5786681' title='Show/Hide data repr'><svg class='icon xr-icon-database'><use xlink:href='#icon-database'></use></svg></label><div class='xr-var-attrs'><dl class='xr-attrs'></dl></div><div class='xr-var-data'><pre>array([3, 4, 5])</pre></div></li><li class='xr-var-item'><div class='xr-var-name'><span>month</span></div><div class='xr-var-dims'>()</div><div class='xr-var-dtype'>int64</div><div class='xr-var-preview xr-preview'>12</div><input id='attrs-a31e92ea-9789-4128-b085-8b45aaaa6511' class='xr-var-attrs-in' type='checkbox' disabled><label for='attrs-a31e92ea-9789-4128-b085-8b45aaaa6511' title='Show/Hide attributes'><svg class='icon xr-icon-file-text2'><use xlink:href='#icon-file-text2'></use></svg></label><input id='data-e405bcbf-d24e-4708-abc8-a78d184d8d6c' class='xr-var-data-in' type='checkbox'><label for='data-e405bcbf-d24e-4708-abc8-a78d184d8d6c' title='Show/Hide data repr'><svg class='icon xr-icon-database'><use xlink:href='#icon-database'></use></svg></label><div class='xr-var-attrs'><dl class='xr-attrs'></dl></div><div class='xr-var-data'><pre>array(12)</pre></div></li><li class='xr-var-item'><div class='xr-var-name'><span class='xr-has-index'>decile</span></div><div class='xr-var-dims'>(decile)</div><div class='xr-var-dtype'>int64</div><div class='xr-var-preview xr-preview'>1 2 3 4 5 6 7 8 9 10</div><input id='attrs-76e6687d-9f95-4142-a938-ad20400519df' class='xr-var-attrs-in' type='checkbox' disabled><label for='attrs-76e6687d-9f95-4142-a938-ad20400519df' title='Show/Hide attributes'><svg class='icon xr-icon-file-text2'><use xlink:href='#icon-file-text2'></use></svg></label><input id='data-be5094ce-c69a-4be5-a7cb-ab04fa264ac6' class='xr-var-data-in' type='checkbox'><label for='data-be5094ce-c69a-4be5-a7cb-ab04fa264ac6' title='Show/Hide data repr'><svg class='icon xr-icon-database'><use xlink:href='#icon-database'></use></svg></label><div class='xr-var-attrs'><dl class='xr-attrs'></dl></div><div class='xr-var-data'><pre>array([ 1,  2,  3,  4,  5,  6,  7,  8,  9, 10])</pre></div></li><li class='xr-var-item'><div class='xr-var-name'><span class='xr-has-index'>lon</span></div><div class='xr-var-dims'>(lon)</div><div class='xr-var-dtype'>float64</div><div class='xr-var-preview xr-preview'>120.0 120.2 120.3 ... 239.8 240.0</div><input id='attrs-0f3de4f0-b90d-4646-98b9-3a35abfd6ee3' class='xr-var-attrs-in' type='checkbox' disabled><label for='attrs-0f3de4f0-b90d-4646-98b9-3a35abfd6ee3' title='Show/Hide attributes'><svg class='icon xr-icon-file-text2'><use xlink:href='#icon-file-text2'></use></svg></label><input id='data-7bf79212-9f3b-481c-8069-3703141b68fd' class='xr-var-data-in' type='checkbox'><label for='data-7bf79212-9f3b-481c-8069-3703141b68fd' title='Show/Hide data repr'><svg class='icon xr-icon-database'><use xlink:href='#icon-database'></use></svg></label><div class='xr-var-attrs'><dl class='xr-attrs'></dl></div><div class='xr-var-data'><pre>array([120.      , 120.165517, 120.331034, ..., 239.668966, 239.834483,\n",
       "       240.      ])</pre></div></li><li class='xr-var-item'><div class='xr-var-name'><span class='xr-has-index'>lat</span></div><div class='xr-var-dims'>(lat)</div><div class='xr-var-dtype'>float64</div><div class='xr-var-preview xr-preview'>-50.0 -49.84 -49.67 ... 29.84 30.0</div><input id='attrs-937980e6-1bdb-4416-a1e1-2668fabe04e0' class='xr-var-attrs-in' type='checkbox' disabled><label for='attrs-937980e6-1bdb-4416-a1e1-2668fabe04e0' title='Show/Hide attributes'><svg class='icon xr-icon-file-text2'><use xlink:href='#icon-file-text2'></use></svg></label><input id='data-968bc46f-7624-4b8f-b5ce-ded06a8d3020' class='xr-var-data-in' type='checkbox'><label for='data-968bc46f-7624-4b8f-b5ce-ded06a8d3020' title='Show/Hide data repr'><svg class='icon xr-icon-database'><use xlink:href='#icon-database'></use></svg></label><div class='xr-var-attrs'><dl class='xr-attrs'></dl></div><div class='xr-var-data'><pre>array([-50.      , -49.835052, -49.670103, ...,  29.670103,  29.835052,\n",
       "        30.      ])</pre></div></li></ul></div></li><li class='xr-section-item'><input id='section-107fd148-b1e3-48a2-91fe-a14c19d864ad' class='xr-section-summary-in' type='checkbox'  checked><label for='section-107fd148-b1e3-48a2-91fe-a14c19d864ad' class='xr-section-summary' >Data variables: <span>(1)</span></label><div class='xr-section-inline-details'></div><div class='xr-section-details'><ul class='xr-var-list'><li class='xr-var-item'><div class='xr-var-name'><span>precip</span></div><div class='xr-var-dims'>(GCM, decile, time, step, lat, lon)</div><div class='xr-var-dtype'>float64</div><div class='xr-var-preview xr-preview'>dask.array&lt;chunksize=(1, 10, 1, 3, 486, 726), meta=np.ndarray&gt;</div><input id='attrs-40728f56-6c28-4b07-a81e-480e96a8d400' class='xr-var-attrs-in' type='checkbox' disabled><label for='attrs-40728f56-6c28-4b07-a81e-480e96a8d400' title='Show/Hide attributes'><svg class='icon xr-icon-file-text2'><use xlink:href='#icon-file-text2'></use></svg></label><input id='data-a9e39f4c-9e7a-45a9-b059-712907577930' class='xr-var-data-in' type='checkbox'><label for='data-a9e39f4c-9e7a-45a9-b059-712907577930' title='Show/Hide data repr'><svg class='icon xr-icon-database'><use xlink:href='#icon-database'></use></svg></label><div class='xr-var-attrs'><dl class='xr-attrs'></dl></div><div class='xr-var-data'><table>\n",
       "    <tr>\n",
       "        <td>\n",
       "            <table>\n",
       "                <thead>\n",
       "                    <tr>\n",
       "                        <td> </td>\n",
       "                        <th> Array </th>\n",
       "                        <th> Chunk </th>\n",
       "                    </tr>\n",
       "                </thead>\n",
       "                <tbody>\n",
       "                    \n",
       "                    <tr>\n",
       "                        <th> Bytes </th>\n",
       "                        <td> 726.82 MiB </td>\n",
       "                        <td> 80.76 MiB </td>\n",
       "                    </tr>\n",
       "                    \n",
       "                    <tr>\n",
       "                        <th> Shape </th>\n",
       "                        <td> (9, 10, 1, 3, 486, 726) </td>\n",
       "                        <td> (1, 10, 1, 3, 486, 726) </td>\n",
       "                    </tr>\n",
       "                    <tr>\n",
       "                        <th> Count </th>\n",
       "                        <td> 71 Tasks </td>\n",
       "                        <td> 9 Chunks </td>\n",
       "                    </tr>\n",
       "                    <tr>\n",
       "                    <th> Type </th>\n",
       "                    <td> float64 </td>\n",
       "                    <td> numpy.ndarray </td>\n",
       "                    </tr>\n",
       "                </tbody>\n",
       "            </table>\n",
       "        </td>\n",
       "        <td>\n",
       "        <svg width=\"424\" height=\"145\" style=\"stroke:rgb(0,0,0);stroke-width:1\" >\n",
       "\n",
       "  <!-- Horizontal lines -->\n",
       "  <line x1=\"10\" y1=\"0\" x2=\"25\" y2=\"15\" style=\"stroke-width:2\" />\n",
       "  <line x1=\"10\" y1=\"27\" x2=\"25\" y2=\"42\" style=\"stroke-width:2\" />\n",
       "\n",
       "  <!-- Vertical lines -->\n",
       "  <line x1=\"10\" y1=\"0\" x2=\"10\" y2=\"27\" style=\"stroke-width:2\" />\n",
       "  <line x1=\"11\" y1=\"1\" x2=\"11\" y2=\"28\" />\n",
       "  <line x1=\"13\" y1=\"3\" x2=\"13\" y2=\"30\" />\n",
       "  <line x1=\"15\" y1=\"5\" x2=\"15\" y2=\"32\" />\n",
       "  <line x1=\"16\" y1=\"6\" x2=\"16\" y2=\"33\" />\n",
       "  <line x1=\"18\" y1=\"8\" x2=\"18\" y2=\"35\" />\n",
       "  <line x1=\"20\" y1=\"10\" x2=\"20\" y2=\"37\" />\n",
       "  <line x1=\"22\" y1=\"12\" x2=\"22\" y2=\"39\" />\n",
       "  <line x1=\"23\" y1=\"13\" x2=\"23\" y2=\"40\" />\n",
       "  <line x1=\"25\" y1=\"15\" x2=\"25\" y2=\"42\" style=\"stroke-width:2\" />\n",
       "\n",
       "  <!-- Colored Rectangle -->\n",
       "  <polygon points=\"10.0,0.0 25.5709935097992,15.570993509799202 25.5709935097992,42.581891523612626 10.0,27.01089801381342\" style=\"fill:#ECB172A0;stroke-width:0\"/>\n",
       "\n",
       "  <!-- Horizontal lines -->\n",
       "  <line x1=\"10\" y1=\"0\" x2=\"35\" y2=\"0\" style=\"stroke-width:2\" />\n",
       "  <line x1=\"11\" y1=\"1\" x2=\"37\" y2=\"1\" />\n",
       "  <line x1=\"13\" y1=\"3\" x2=\"38\" y2=\"3\" />\n",
       "  <line x1=\"15\" y1=\"5\" x2=\"40\" y2=\"5\" />\n",
       "  <line x1=\"16\" y1=\"6\" x2=\"42\" y2=\"6\" />\n",
       "  <line x1=\"18\" y1=\"8\" x2=\"44\" y2=\"8\" />\n",
       "  <line x1=\"20\" y1=\"10\" x2=\"45\" y2=\"10\" />\n",
       "  <line x1=\"22\" y1=\"12\" x2=\"47\" y2=\"12\" />\n",
       "  <line x1=\"23\" y1=\"13\" x2=\"49\" y2=\"13\" />\n",
       "  <line x1=\"25\" y1=\"15\" x2=\"50\" y2=\"15\" style=\"stroke-width:2\" />\n",
       "\n",
       "  <!-- Vertical lines -->\n",
       "  <line x1=\"10\" y1=\"0\" x2=\"25\" y2=\"15\" style=\"stroke-width:2\" />\n",
       "  <line x1=\"35\" y1=\"0\" x2=\"50\" y2=\"15\" style=\"stroke-width:2\" />\n",
       "\n",
       "  <!-- Colored Rectangle -->\n",
       "  <polygon points=\"10.0,0.0 35.41261651458248,0.0 50.98361002438168,15.570993509799202 25.5709935097992,15.570993509799202\" style=\"fill:#ECB172A0;stroke-width:0\"/>\n",
       "\n",
       "  <!-- Horizontal lines -->\n",
       "  <line x1=\"25\" y1=\"15\" x2=\"50\" y2=\"15\" style=\"stroke-width:2\" />\n",
       "  <line x1=\"25\" y1=\"42\" x2=\"50\" y2=\"42\" style=\"stroke-width:2\" />\n",
       "\n",
       "  <!-- Vertical lines -->\n",
       "  <line x1=\"25\" y1=\"15\" x2=\"25\" y2=\"42\" style=\"stroke-width:2\" />\n",
       "  <line x1=\"50\" y1=\"15\" x2=\"50\" y2=\"42\" style=\"stroke-width:2\" />\n",
       "\n",
       "  <!-- Colored Rectangle -->\n",
       "  <polygon points=\"25.5709935097992,15.570993509799202 50.98361002438169,15.570993509799202 50.98361002438169,42.581891523612626 25.5709935097992,42.581891523612626\" style=\"fill:#ECB172A0;stroke-width:0\"/>\n",
       "\n",
       "  <!-- Text -->\n",
       "  <text x=\"38.277302\" y=\"62.581892\" font-size=\"1.0rem\" font-weight=\"100\" text-anchor=\"middle\" >1</text>\n",
       "  <text x=\"70.983610\" y=\"29.076443\" font-size=\"1.0rem\" font-weight=\"100\" text-anchor=\"middle\" transform=\"rotate(0,70.983610,29.076443)\">10</text>\n",
       "  <text x=\"7.785497\" y=\"54.796395\" font-size=\"1.0rem\" font-weight=\"100\" text-anchor=\"middle\" transform=\"rotate(45,7.785497,54.796395)\">9</text>\n",
       "\n",
       "\n",
       "  <!-- Horizontal lines -->\n",
       "  <line x1=\"120\" y1=\"0\" x2=\"134\" y2=\"14\" style=\"stroke-width:2\" />\n",
       "  <line x1=\"120\" y1=\"80\" x2=\"134\" y2=\"95\" style=\"stroke-width:2\" />\n",
       "\n",
       "  <!-- Vertical lines -->\n",
       "  <line x1=\"120\" y1=\"0\" x2=\"120\" y2=\"80\" style=\"stroke-width:2\" />\n",
       "  <line x1=\"134\" y1=\"14\" x2=\"134\" y2=\"95\" style=\"stroke-width:2\" />\n",
       "\n",
       "  <!-- Colored Rectangle -->\n",
       "  <polygon points=\"120.0,0.0 134.9485979497544,14.948597949754403 134.9485979497544,95.2791764621511 120.0,80.3305785123967\" style=\"fill:#ECB172A0;stroke-width:0\"/>\n",
       "\n",
       "  <!-- Horizontal lines -->\n",
       "  <line x1=\"120\" y1=\"0\" x2=\"240\" y2=\"0\" style=\"stroke-width:2\" />\n",
       "  <line x1=\"134\" y1=\"14\" x2=\"254\" y2=\"14\" style=\"stroke-width:2\" />\n",
       "\n",
       "  <!-- Vertical lines -->\n",
       "  <line x1=\"120\" y1=\"0\" x2=\"134\" y2=\"14\" style=\"stroke-width:2\" />\n",
       "  <line x1=\"240\" y1=\"0\" x2=\"254\" y2=\"14\" style=\"stroke-width:2\" />\n",
       "\n",
       "  <!-- Colored Rectangle -->\n",
       "  <polygon points=\"120.0,0.0 240.0,0.0 254.9485979497544,14.948597949754403 134.9485979497544,14.948597949754403\" style=\"fill:#ECB172A0;stroke-width:0\"/>\n",
       "\n",
       "  <!-- Horizontal lines -->\n",
       "  <line x1=\"134\" y1=\"14\" x2=\"254\" y2=\"14\" style=\"stroke-width:2\" />\n",
       "  <line x1=\"134\" y1=\"95\" x2=\"254\" y2=\"95\" style=\"stroke-width:2\" />\n",
       "\n",
       "  <!-- Vertical lines -->\n",
       "  <line x1=\"134\" y1=\"14\" x2=\"134\" y2=\"95\" style=\"stroke-width:2\" />\n",
       "  <line x1=\"254\" y1=\"14\" x2=\"254\" y2=\"95\" style=\"stroke-width:2\" />\n",
       "\n",
       "  <!-- Colored Rectangle -->\n",
       "  <polygon points=\"134.9485979497544,14.948597949754403 254.9485979497544,14.948597949754403 254.9485979497544,95.2791764621511 134.9485979497544,95.2791764621511\" style=\"fill:#ECB172A0;stroke-width:0\"/>\n",
       "\n",
       "  <!-- Text -->\n",
       "  <text x=\"194.948598\" y=\"115.279176\" font-size=\"1.0rem\" font-weight=\"100\" text-anchor=\"middle\" >726</text>\n",
       "  <text x=\"274.948598\" y=\"55.113887\" font-size=\"1.0rem\" font-weight=\"100\" text-anchor=\"middle\" transform=\"rotate(-90,274.948598,55.113887)\">486</text>\n",
       "  <text x=\"117.474299\" y=\"107.804877\" font-size=\"1.0rem\" font-weight=\"100\" text-anchor=\"middle\" transform=\"rotate(45,117.474299,107.804877)\">3</text>\n",
       "</svg>\n",
       "        </td>\n",
       "    </tr>\n",
       "</table></div></li></ul></div></li><li class='xr-section-item'><input id='section-78e50541-cb7c-405f-937a-25be33e8ec90' class='xr-section-summary-in' type='checkbox'  checked><label for='section-78e50541-cb7c-405f-937a-25be33e8ec90' class='xr-section-summary' >Attributes: <span>(1)</span></label><div class='xr-section-inline-details'></div><div class='xr-section-details'><dl class='xr-attrs'><dt><span>pct_values :</span></dt><dd>[0.1 0.2 0.3 0.4 0.5 0.6 0.7 0.8 0.9]</dd></dl></div></li></ul></div></div>"
      ],
      "text/plain": [
       "<xarray.Dataset>\n",
       "Dimensions:  (GCM: 9, decile: 10, time: 1, step: 3, lat: 486, lon: 726)\n",
       "Coordinates:\n",
       "  * GCM      (GCM) object 'ECCC_GEM_NEMO' 'ECCC_CanCM4i' ... 'METEO_FRANCE'\n",
       "  * time     (time) datetime64[ns] 2021-12-01\n",
       "  * step     (step) int64 3 4 5\n",
       "    month    int64 12\n",
       "  * decile   (decile) int64 1 2 3 4 5 6 7 8 9 10\n",
       "  * lon      (lon) float64 120.0 120.2 120.3 120.5 ... 239.5 239.7 239.8 240.0\n",
       "  * lat      (lat) float64 -50.0 -49.84 -49.67 -49.51 ... 29.51 29.67 29.84 30.0\n",
       "Data variables:\n",
       "    precip   (GCM, decile, time, step, lat, lon) float64 dask.array<chunksize=(1, 10, 1, 3, 486, 726), meta=np.ndarray>\n",
       "Attributes:\n",
       "    pct_values:  [0.1 0.2 0.3 0.4 0.5 0.6 0.7 0.8 0.9]"
      ]
     },
     "execution_count": 28,
     "metadata": {},
     "output_type": "execute_result"
    }
   ],
   "source": [
    "probs"
   ]
  },
  {
   "cell_type": "code",
   "execution_count": 29,
   "id": "e0351790",
   "metadata": {
    "execution": {
     "iopub.execute_input": "2022-01-17T20:53:18.681093Z",
     "iopub.status.busy": "2022-01-17T20:53:18.680441Z",
     "iopub.status.idle": "2022-01-17T20:53:18.695865Z",
     "shell.execute_reply": "2022-01-17T20:53:18.696142Z"
    },
    "papermill": {
     "duration": 0.051919,
     "end_time": "2022-01-17T20:53:18.696272",
     "exception": false,
     "start_time": "2022-01-17T20:53:18.644353",
     "status": "completed"
    },
    "tags": []
   },
   "outputs": [],
   "source": [
    "probs = probs.mean('GCM')"
   ]
  },
  {
   "cell_type": "markdown",
   "id": "cf30fa54",
   "metadata": {
    "papermill": {
     "duration": 0.034073,
     "end_time": "2022-01-17T20:53:18.788270",
     "exception": false,
     "start_time": "2022-01-17T20:53:18.754197",
     "status": "completed"
    },
    "tags": []
   },
   "source": [
    "### make sure the probabilities sum to 100 over the decile dimension "
   ]
  },
  {
   "cell_type": "code",
   "execution_count": 30,
   "id": "2145cec1",
   "metadata": {
    "execution": {
     "iopub.execute_input": "2022-01-17T20:53:18.859536Z",
     "iopub.status.busy": "2022-01-17T20:53:18.859191Z",
     "iopub.status.idle": "2022-01-17T20:53:21.495620Z",
     "shell.execute_reply": "2022-01-17T20:53:21.495278Z"
    },
    "papermill": {
     "duration": 2.673899,
     "end_time": "2022-01-17T20:53:21.495719",
     "exception": false,
     "start_time": "2022-01-17T20:53:18.821820",
     "status": "completed"
    },
    "tags": []
   },
   "outputs": [
    {
     "data": {
      "text/plain": [
       "<matplotlib.collections.QuadMesh at 0x7fb8a01340a0>"
      ]
     },
     "execution_count": 30,
     "metadata": {},
     "output_type": "execute_result"
    },
    {
     "data": {
      "image/png": "[encoded data removed]",
      "text/plain": [
       "<Figure size 432x288 with 2 Axes>"
      ]
     },
     "metadata": {
      "needs_background": "light"
     },
     "output_type": "display_data"
    }
   ],
   "source": [
    "probs.sum('decile').squeeze().sel(step=3)['precip'].plot()"
   ]
  },
  {
   "cell_type": "markdown",
   "id": "60ff4443",
   "metadata": {
    "papermill": {
     "duration": 0.035455,
     "end_time": "2022-01-17T20:53:21.564945",
     "exception": false,
     "start_time": "2022-01-17T20:53:21.529490",
     "status": "completed"
    },
    "tags": []
   },
   "source": [
    "### Now calculates the cumulative probabilities over the decile dimension "
   ]
  },
  {
   "cell_type": "code",
   "execution_count": 31,
   "id": "d275c7d1",
   "metadata": {
    "execution": {
     "iopub.execute_input": "2022-01-17T20:53:21.659312Z",
     "iopub.status.busy": "2022-01-17T20:53:21.658752Z",
     "iopub.status.idle": "2022-01-17T20:53:21.674046Z",
     "shell.execute_reply": "2022-01-17T20:53:21.674481Z"
    },
    "papermill": {
     "duration": 0.072838,
     "end_time": "2022-01-17T20:53:21.674661",
     "exception": false,
     "start_time": "2022-01-17T20:53:21.601823",
     "status": "completed"
    },
    "tags": []
   },
   "outputs": [],
   "source": [
    "cum_probs = probs.cumsum('decile', keep_attrs=True)"
   ]
  },
  {
   "cell_type": "code",
   "execution_count": 32,
   "id": "e2d3a5b1",
   "metadata": {
    "execution": {
     "iopub.execute_input": "2022-01-17T20:53:21.807719Z",
     "iopub.status.busy": "2022-01-17T20:53:21.807150Z",
     "iopub.status.idle": "2022-01-17T20:53:24.499801Z",
     "shell.execute_reply": "2022-01-17T20:53:24.499518Z"
    },
    "papermill": {
     "duration": 2.730239,
     "end_time": "2022-01-17T20:53:24.499901",
     "exception": false,
     "start_time": "2022-01-17T20:53:21.769662",
     "status": "completed"
    },
    "tags": []
   },
   "outputs": [
    {
     "data": {
      "text/plain": [
       "<matplotlib.collections.QuadMesh at 0x7fb8a1ada970>"
      ]
     },
     "execution_count": 32,
     "metadata": {},
     "output_type": "execute_result"
    },
    {
     "data": {
      "image/png": "[encoded data removed]",
      "text/plain": [
       "<Figure size 432x288 with 2 Axes>"
      ]
     },
     "metadata": {
      "needs_background": "light"
     },
     "output_type": "display_data"
    }
   ],
   "source": [
    "cum_probs.isel(decile=-1).sel(step=step).squeeze()['precip'].plot()"
   ]
  },
  {
   "cell_type": "markdown",
   "id": "80105213",
   "metadata": {
    "papermill": {
     "duration": 0.036906,
     "end_time": "2022-01-17T20:53:24.574517",
     "exception": false,
     "start_time": "2022-01-17T20:53:24.537611",
     "status": "completed"
    },
    "tags": []
   },
   "source": [
    "### recode the decile values, so they go from 1 to 10 instead of 0 to 9 "
   ]
  },
  {
   "cell_type": "code",
   "execution_count": 33,
   "id": "61f05ada",
   "metadata": {
    "execution": {
     "iopub.execute_input": "2022-01-17T20:53:24.653024Z",
     "iopub.status.busy": "2022-01-17T20:53:24.652646Z",
     "iopub.status.idle": "2022-01-17T20:53:24.670524Z",
     "shell.execute_reply": "2022-01-17T20:53:24.670240Z"
    },
    "papermill": {
     "duration": 0.058724,
     "end_time": "2022-01-17T20:53:24.670626",
     "exception": false,
     "start_time": "2022-01-17T20:53:24.611902",
     "status": "completed"
    },
    "tags": []
   },
   "outputs": [
    {
     "data": {
      "text/html": [
       "<div><svg style=\"position: absolute; width: 0; height: 0; overflow: hidden\">\n",
       "<defs>\n",
       "<symbol id=\"icon-database\" viewBox=\"0 0 32 32\">\n",
       "<path d=\"M16 0c-8.837 0-16 2.239-16 5v4c0 2.761 7.163 5 16 5s16-2.239 16-5v-4c0-2.761-7.163-5-16-5z\"></path>\n",
       "<path d=\"M16 17c-8.837 0-16-2.239-16-5v6c0 2.761 7.163 5 16 5s16-2.239 16-5v-6c0 2.761-7.163 5-16 5z\"></path>\n",
       "<path d=\"M16 26c-8.837 0-16-2.239-16-5v6c0 2.761 7.163 5 16 5s16-2.239 16-5v-6c0 2.761-7.163 5-16 5z\"></path>\n",
       "</symbol>\n",
       "<symbol id=\"icon-file-text2\" viewBox=\"0 0 32 32\">\n",
       "<path d=\"M28.681 7.159c-0.694-0.947-1.662-2.053-2.724-3.116s-2.169-2.030-3.116-2.724c-1.612-1.182-2.393-1.319-2.841-1.319h-15.5c-1.378 0-2.5 1.121-2.5 2.5v27c0 1.378 1.122 2.5 2.5 2.5h23c1.378 0 2.5-1.122 2.5-2.5v-19.5c0-0.448-0.137-1.23-1.319-2.841zM24.543 5.457c0.959 0.959 1.712 1.825 2.268 2.543h-4.811v-4.811c0.718 0.556 1.584 1.309 2.543 2.268zM28 29.5c0 0.271-0.229 0.5-0.5 0.5h-23c-0.271 0-0.5-0.229-0.5-0.5v-27c0-0.271 0.229-0.5 0.5-0.5 0 0 15.499-0 15.5 0v7c0 0.552 0.448 1 1 1h7v19.5z\"></path>\n",
       "<path d=\"M23 26h-14c-0.552 0-1-0.448-1-1s0.448-1 1-1h14c0.552 0 1 0.448 1 1s-0.448 1-1 1z\"></path>\n",
       "<path d=\"M23 22h-14c-0.552 0-1-0.448-1-1s0.448-1 1-1h14c0.552 0 1 0.448 1 1s-0.448 1-1 1z\"></path>\n",
       "<path d=\"M23 18h-14c-0.552 0-1-0.448-1-1s0.448-1 1-1h14c0.552 0 1 0.448 1 1s-0.448 1-1 1z\"></path>\n",
       "</symbol>\n",
       "</defs>\n",
       "</svg>\n",
       "<style>/* CSS stylesheet for displaying xarray objects in jupyterlab.\n",
       " *\n",
       " */\n",
       "\n",
       ":root {\n",
       "  --xr-font-color0: var(--jp-content-font-color0, rgba(0, 0, 0, 1));\n",
       "  --xr-font-color2: var(--jp-content-font-color2, rgba(0, 0, 0, 0.54));\n",
       "  --xr-font-color3: var(--jp-content-font-color3, rgba(0, 0, 0, 0.38));\n",
       "  --xr-border-color: var(--jp-border-color2, #e0e0e0);\n",
       "  --xr-disabled-color: var(--jp-layout-color3, #bdbdbd);\n",
       "  --xr-background-color: var(--jp-layout-color0, white);\n",
       "  --xr-background-color-row-even: var(--jp-layout-color1, white);\n",
       "  --xr-background-color-row-odd: var(--jp-layout-color2, #eeeeee);\n",
       "}\n",
       "\n",
       "html[theme=dark],\n",
       "body.vscode-dark {\n",
       "  --xr-font-color0: rgba(255, 255, 255, 1);\n",
       "  --xr-font-color2: rgba(255, 255, 255, 0.54);\n",
       "  --xr-font-color3: rgba(255, 255, 255, 0.38);\n",
       "  --xr-border-color: #1F1F1F;\n",
       "  --xr-disabled-color: #515151;\n",
       "  --xr-background-color: #111111;\n",
       "  --xr-background-color-row-even: #111111;\n",
       "  --xr-background-color-row-odd: #313131;\n",
       "}\n",
       "\n",
       ".xr-wrap {\n",
       "  display: block;\n",
       "  min-width: 300px;\n",
       "  max-width: 700px;\n",
       "}\n",
       "\n",
       ".xr-text-repr-fallback {\n",
       "  /* fallback to plain text repr when CSS is not injected (untrusted notebook) */\n",
       "  display: none;\n",
       "}\n",
       "\n",
       ".xr-header {\n",
       "  padding-top: 6px;\n",
       "  padding-bottom: 6px;\n",
       "  margin-bottom: 4px;\n",
       "  border-bottom: solid 1px var(--xr-border-color);\n",
       "}\n",
       "\n",
       ".xr-header > div,\n",
       ".xr-header > ul {\n",
       "  display: inline;\n",
       "  margin-top: 0;\n",
       "  margin-bottom: 0;\n",
       "}\n",
       "\n",
       ".xr-obj-type,\n",
       ".xr-array-name {\n",
       "  margin-left: 2px;\n",
       "  margin-right: 10px;\n",
       "}\n",
       "\n",
       ".xr-obj-type {\n",
       "  color: var(--xr-font-color2);\n",
       "}\n",
       "\n",
       ".xr-sections {\n",
       "  padding-left: 0 !important;\n",
       "  display: grid;\n",
       "  grid-template-columns: 150px auto auto 1fr 20px 20px;\n",
       "}\n",
       "\n",
       ".xr-section-item {\n",
       "  display: contents;\n",
       "}\n",
       "\n",
       ".xr-section-item input {\n",
       "  display: none;\n",
       "}\n",
       "\n",
       ".xr-section-item input + label {\n",
       "  color: var(--xr-disabled-color);\n",
       "}\n",
       "\n",
       ".xr-section-item input:enabled + label {\n",
       "  cursor: pointer;\n",
       "  color: var(--xr-font-color2);\n",
       "}\n",
       "\n",
       ".xr-section-item input:enabled + label:hover {\n",
       "  color: var(--xr-font-color0);\n",
       "}\n",
       "\n",
       ".xr-section-summary {\n",
       "  grid-column: 1;\n",
       "  color: var(--xr-font-color2);\n",
       "  font-weight: 500;\n",
       "}\n",
       "\n",
       ".xr-section-summary > span {\n",
       "  display: inline-block;\n",
       "  padding-left: 0.5em;\n",
       "}\n",
       "\n",
       ".xr-section-summary-in:disabled + label {\n",
       "  color: var(--xr-font-color2);\n",
       "}\n",
       "\n",
       ".xr-section-summary-in + label:before {\n",
       "  display: inline-block;\n",
       "  content: '►';\n",
       "  font-size: 11px;\n",
       "  width: 15px;\n",
       "  text-align: center;\n",
       "}\n",
       "\n",
       ".xr-section-summary-in:disabled + label:before {\n",
       "  color: var(--xr-disabled-color);\n",
       "}\n",
       "\n",
       ".xr-section-summary-in:checked + label:before {\n",
       "  content: '▼';\n",
       "}\n",
       "\n",
       ".xr-section-summary-in:checked + label > span {\n",
       "  display: none;\n",
       "}\n",
       "\n",
       ".xr-section-summary,\n",
       ".xr-section-inline-details {\n",
       "  padding-top: 4px;\n",
       "  padding-bottom: 4px;\n",
       "}\n",
       "\n",
       ".xr-section-inline-details {\n",
       "  grid-column: 2 / -1;\n",
       "}\n",
       "\n",
       ".xr-section-details {\n",
       "  display: none;\n",
       "  grid-column: 1 / -1;\n",
       "  margin-bottom: 5px;\n",
       "}\n",
       "\n",
       ".xr-section-summary-in:checked ~ .xr-section-details {\n",
       "  display: contents;\n",
       "}\n",
       "\n",
       ".xr-array-wrap {\n",
       "  grid-column: 1 / -1;\n",
       "  display: grid;\n",
       "  grid-template-columns: 20px auto;\n",
       "}\n",
       "\n",
       ".xr-array-wrap > label {\n",
       "  grid-column: 1;\n",
       "  vertical-align: top;\n",
       "}\n",
       "\n",
       ".xr-preview {\n",
       "  color: var(--xr-font-color3);\n",
       "}\n",
       "\n",
       ".xr-array-preview,\n",
       ".xr-array-data {\n",
       "  padding: 0 5px !important;\n",
       "  grid-column: 2;\n",
       "}\n",
       "\n",
       ".xr-array-data,\n",
       ".xr-array-in:checked ~ .xr-array-preview {\n",
       "  display: none;\n",
       "}\n",
       "\n",
       ".xr-array-in:checked ~ .xr-array-data,\n",
       ".xr-array-preview {\n",
       "  display: inline-block;\n",
       "}\n",
       "\n",
       ".xr-dim-list {\n",
       "  display: inline-block !important;\n",
       "  list-style: none;\n",
       "  padding: 0 !important;\n",
       "  margin: 0;\n",
       "}\n",
       "\n",
       ".xr-dim-list li {\n",
       "  display: inline-block;\n",
       "  padding: 0;\n",
       "  margin: 0;\n",
       "}\n",
       "\n",
       ".xr-dim-list:before {\n",
       "  content: '(';\n",
       "}\n",
       "\n",
       ".xr-dim-list:after {\n",
       "  content: ')';\n",
       "}\n",
       "\n",
       ".xr-dim-list li:not(:last-child):after {\n",
       "  content: ',';\n",
       "  padding-right: 5px;\n",
       "}\n",
       "\n",
       ".xr-has-index {\n",
       "  font-weight: bold;\n",
       "}\n",
       "\n",
       ".xr-var-list,\n",
       ".xr-var-item {\n",
       "  display: contents;\n",
       "}\n",
       "\n",
       ".xr-var-item > div,\n",
       ".xr-var-item label,\n",
       ".xr-var-item > .xr-var-name span {\n",
       "  background-color: var(--xr-background-color-row-even);\n",
       "  margin-bottom: 0;\n",
       "}\n",
       "\n",
       ".xr-var-item > .xr-var-name:hover span {\n",
       "  padding-right: 5px;\n",
       "}\n",
       "\n",
       ".xr-var-list > li:nth-child(odd) > div,\n",
       ".xr-var-list > li:nth-child(odd) > label,\n",
       ".xr-var-list > li:nth-child(odd) > .xr-var-name span {\n",
       "  background-color: var(--xr-background-color-row-odd);\n",
       "}\n",
       "\n",
       ".xr-var-name {\n",
       "  grid-column: 1;\n",
       "}\n",
       "\n",
       ".xr-var-dims {\n",
       "  grid-column: 2;\n",
       "}\n",
       "\n",
       ".xr-var-dtype {\n",
       "  grid-column: 3;\n",
       "  text-align: right;\n",
       "  color: var(--xr-font-color2);\n",
       "}\n",
       "\n",
       ".xr-var-preview {\n",
       "  grid-column: 4;\n",
       "}\n",
       "\n",
       ".xr-var-name,\n",
       ".xr-var-dims,\n",
       ".xr-var-dtype,\n",
       ".xr-preview,\n",
       ".xr-attrs dt {\n",
       "  white-space: nowrap;\n",
       "  overflow: hidden;\n",
       "  text-overflow: ellipsis;\n",
       "  padding-right: 10px;\n",
       "}\n",
       "\n",
       ".xr-var-name:hover,\n",
       ".xr-var-dims:hover,\n",
       ".xr-var-dtype:hover,\n",
       ".xr-attrs dt:hover {\n",
       "  overflow: visible;\n",
       "  width: auto;\n",
       "  z-index: 1;\n",
       "}\n",
       "\n",
       ".xr-var-attrs,\n",
       ".xr-var-data {\n",
       "  display: none;\n",
       "  background-color: var(--xr-background-color) !important;\n",
       "  padding-bottom: 5px !important;\n",
       "}\n",
       "\n",
       ".xr-var-attrs-in:checked ~ .xr-var-attrs,\n",
       ".xr-var-data-in:checked ~ .xr-var-data {\n",
       "  display: block;\n",
       "}\n",
       "\n",
       ".xr-var-data > table {\n",
       "  float: right;\n",
       "}\n",
       "\n",
       ".xr-var-name span,\n",
       ".xr-var-data,\n",
       ".xr-attrs {\n",
       "  padding-left: 25px !important;\n",
       "}\n",
       "\n",
       ".xr-attrs,\n",
       ".xr-var-attrs,\n",
       ".xr-var-data {\n",
       "  grid-column: 1 / -1;\n",
       "}\n",
       "\n",
       "dl.xr-attrs {\n",
       "  padding: 0;\n",
       "  margin: 0;\n",
       "  display: grid;\n",
       "  grid-template-columns: 125px auto;\n",
       "}\n",
       "\n",
       ".xr-attrs dt,\n",
       ".xr-attrs dd {\n",
       "  padding: 0;\n",
       "  margin: 0;\n",
       "  float: left;\n",
       "  padding-right: 10px;\n",
       "  width: auto;\n",
       "}\n",
       "\n",
       ".xr-attrs dt {\n",
       "  font-weight: normal;\n",
       "  grid-column: 1;\n",
       "}\n",
       "\n",
       ".xr-attrs dt:hover span {\n",
       "  display: inline-block;\n",
       "  background: var(--xr-background-color);\n",
       "  padding-right: 10px;\n",
       "}\n",
       "\n",
       ".xr-attrs dd {\n",
       "  grid-column: 2;\n",
       "  white-space: pre-wrap;\n",
       "  word-break: break-all;\n",
       "}\n",
       "\n",
       ".xr-icon-database,\n",
       ".xr-icon-file-text2 {\n",
       "  display: inline-block;\n",
       "  vertical-align: middle;\n",
       "  width: 1em;\n",
       "  height: 1.5em !important;\n",
       "  stroke-width: 0;\n",
       "  stroke: currentColor;\n",
       "  fill: currentColor;\n",
       "}\n",
       "</style><pre class='xr-text-repr-fallback'>&lt;xarray.DataArray &#x27;decile&#x27; (decile: 10)&gt;\n",
       "array([0, 1, 2, 3, 4, 5, 6, 7, 8, 9])\n",
       "Coordinates:\n",
       "    month    int64 12\n",
       "Dimensions without coordinates: decile</pre><div class='xr-wrap' hidden><div class='xr-header'><div class='xr-obj-type'>xarray.DataArray</div><div class='xr-array-name'>'decile'</div><ul class='xr-dim-list'><li><span>decile</span>: 10</li></ul></div><ul class='xr-sections'><li class='xr-section-item'><div class='xr-array-wrap'><input id='section-b7b3b276-e3e6-46e9-9aa9-3e8a29bdea47' class='xr-array-in' type='checkbox' checked><label for='section-b7b3b276-e3e6-46e9-9aa9-3e8a29bdea47' title='Show/hide data repr'><svg class='icon xr-icon-database'><use xlink:href='#icon-database'></use></svg></label><div class='xr-array-preview xr-preview'><span>0 1 2 3 4 5 6 7 8 9</span></div><div class='xr-array-data'><pre>array([0, 1, 2, 3, 4, 5, 6, 7, 8, 9])</pre></div></div></li><li class='xr-section-item'><input id='section-a8f3e14f-8a52-4b2a-9f2d-5c5be3fa73d1' class='xr-section-summary-in' type='checkbox'  checked><label for='section-a8f3e14f-8a52-4b2a-9f2d-5c5be3fa73d1' class='xr-section-summary' >Coordinates: <span>(1)</span></label><div class='xr-section-inline-details'></div><div class='xr-section-details'><ul class='xr-var-list'><li class='xr-var-item'><div class='xr-var-name'><span>month</span></div><div class='xr-var-dims'>()</div><div class='xr-var-dtype'>int64</div><div class='xr-var-preview xr-preview'>12</div><input id='attrs-b0ade796-bb36-4d2d-adb3-1c2f3cb43d7a' class='xr-var-attrs-in' type='checkbox' disabled><label for='attrs-b0ade796-bb36-4d2d-adb3-1c2f3cb43d7a' title='Show/Hide attributes'><svg class='icon xr-icon-file-text2'><use xlink:href='#icon-file-text2'></use></svg></label><input id='data-f124ac42-e82f-4a05-b294-00faf8bd1ddb' class='xr-var-data-in' type='checkbox'><label for='data-f124ac42-e82f-4a05-b294-00faf8bd1ddb' title='Show/Hide data repr'><svg class='icon xr-icon-database'><use xlink:href='#icon-database'></use></svg></label><div class='xr-var-attrs'><dl class='xr-attrs'></dl></div><div class='xr-var-data'><pre>array(12)</pre></div></li></ul></div></li><li class='xr-section-item'><input id='section-3dc5383e-04f5-4674-97eb-08b3cf3ce0b4' class='xr-section-summary-in' type='checkbox' disabled ><label for='section-3dc5383e-04f5-4674-97eb-08b3cf3ce0b4' class='xr-section-summary'  title='Expand/collapse section'>Attributes: <span>(0)</span></label><div class='xr-section-inline-details'></div><div class='xr-section-details'><dl class='xr-attrs'></dl></div></li></ul></div></div>"
      ],
      "text/plain": [
       "<xarray.DataArray 'decile' (decile: 10)>\n",
       "array([0, 1, 2, 3, 4, 5, 6, 7, 8, 9])\n",
       "Coordinates:\n",
       "    month    int64 12\n",
       "Dimensions without coordinates: decile"
      ]
     },
     "execution_count": 33,
     "metadata": {},
     "output_type": "execute_result"
    }
   ],
   "source": [
    "cum_probs.decile"
   ]
  },
  {
   "cell_type": "code",
   "execution_count": 34,
   "id": "380d996e",
   "metadata": {
    "execution": {
     "iopub.execute_input": "2022-01-17T20:53:24.750367Z",
     "iopub.status.busy": "2022-01-17T20:53:24.750001Z",
     "iopub.status.idle": "2022-01-17T20:53:24.765785Z",
     "shell.execute_reply": "2022-01-17T20:53:24.765400Z"
    },
    "papermill": {
     "duration": 0.056562,
     "end_time": "2022-01-17T20:53:24.765890",
     "exception": false,
     "start_time": "2022-01-17T20:53:24.709328",
     "status": "completed"
    },
    "tags": []
   },
   "outputs": [],
   "source": [
    "cum_probs['decile'] = cum_probs['decile'] + 1"
   ]
  },
  {
   "cell_type": "code",
   "execution_count": 35,
   "id": "26cd733c",
   "metadata": {
    "execution": {
     "iopub.execute_input": "2022-01-17T20:53:24.842994Z",
     "iopub.status.busy": "2022-01-17T20:53:24.842637Z",
     "iopub.status.idle": "2022-01-17T20:53:24.861896Z",
     "shell.execute_reply": "2022-01-17T20:53:24.861444Z"
    },
    "papermill": {
     "duration": 0.058802,
     "end_time": "2022-01-17T20:53:24.862011",
     "exception": false,
     "start_time": "2022-01-17T20:53:24.803209",
     "status": "completed"
    },
    "tags": []
   },
   "outputs": [
    {
     "data": {
      "text/html": [
       "<div><svg style=\"position: absolute; width: 0; height: 0; overflow: hidden\">\n",
       "<defs>\n",
       "<symbol id=\"icon-database\" viewBox=\"0 0 32 32\">\n",
       "<path d=\"M16 0c-8.837 0-16 2.239-16 5v4c0 2.761 7.163 5 16 5s16-2.239 16-5v-4c0-2.761-7.163-5-16-5z\"></path>\n",
       "<path d=\"M16 17c-8.837 0-16-2.239-16-5v6c0 2.761 7.163 5 16 5s16-2.239 16-5v-6c0 2.761-7.163 5-16 5z\"></path>\n",
       "<path d=\"M16 26c-8.837 0-16-2.239-16-5v6c0 2.761 7.163 5 16 5s16-2.239 16-5v-6c0 2.761-7.163 5-16 5z\"></path>\n",
       "</symbol>\n",
       "<symbol id=\"icon-file-text2\" viewBox=\"0 0 32 32\">\n",
       "<path d=\"M28.681 7.159c-0.694-0.947-1.662-2.053-2.724-3.116s-2.169-2.030-3.116-2.724c-1.612-1.182-2.393-1.319-2.841-1.319h-15.5c-1.378 0-2.5 1.121-2.5 2.5v27c0 1.378 1.122 2.5 2.5 2.5h23c1.378 0 2.5-1.122 2.5-2.5v-19.5c0-0.448-0.137-1.23-1.319-2.841zM24.543 5.457c0.959 0.959 1.712 1.825 2.268 2.543h-4.811v-4.811c0.718 0.556 1.584 1.309 2.543 2.268zM28 29.5c0 0.271-0.229 0.5-0.5 0.5h-23c-0.271 0-0.5-0.229-0.5-0.5v-27c0-0.271 0.229-0.5 0.5-0.5 0 0 15.499-0 15.5 0v7c0 0.552 0.448 1 1 1h7v19.5z\"></path>\n",
       "<path d=\"M23 26h-14c-0.552 0-1-0.448-1-1s0.448-1 1-1h14c0.552 0 1 0.448 1 1s-0.448 1-1 1z\"></path>\n",
       "<path d=\"M23 22h-14c-0.552 0-1-0.448-1-1s0.448-1 1-1h14c0.552 0 1 0.448 1 1s-0.448 1-1 1z\"></path>\n",
       "<path d=\"M23 18h-14c-0.552 0-1-0.448-1-1s0.448-1 1-1h14c0.552 0 1 0.448 1 1s-0.448 1-1 1z\"></path>\n",
       "</symbol>\n",
       "</defs>\n",
       "</svg>\n",
       "<style>/* CSS stylesheet for displaying xarray objects in jupyterlab.\n",
       " *\n",
       " */\n",
       "\n",
       ":root {\n",
       "  --xr-font-color0: var(--jp-content-font-color0, rgba(0, 0, 0, 1));\n",
       "  --xr-font-color2: var(--jp-content-font-color2, rgba(0, 0, 0, 0.54));\n",
       "  --xr-font-color3: var(--jp-content-font-color3, rgba(0, 0, 0, 0.38));\n",
       "  --xr-border-color: var(--jp-border-color2, #e0e0e0);\n",
       "  --xr-disabled-color: var(--jp-layout-color3, #bdbdbd);\n",
       "  --xr-background-color: var(--jp-layout-color0, white);\n",
       "  --xr-background-color-row-even: var(--jp-layout-color1, white);\n",
       "  --xr-background-color-row-odd: var(--jp-layout-color2, #eeeeee);\n",
       "}\n",
       "\n",
       "html[theme=dark],\n",
       "body.vscode-dark {\n",
       "  --xr-font-color0: rgba(255, 255, 255, 1);\n",
       "  --xr-font-color2: rgba(255, 255, 255, 0.54);\n",
       "  --xr-font-color3: rgba(255, 255, 255, 0.38);\n",
       "  --xr-border-color: #1F1F1F;\n",
       "  --xr-disabled-color: #515151;\n",
       "  --xr-background-color: #111111;\n",
       "  --xr-background-color-row-even: #111111;\n",
       "  --xr-background-color-row-odd: #313131;\n",
       "}\n",
       "\n",
       ".xr-wrap {\n",
       "  display: block;\n",
       "  min-width: 300px;\n",
       "  max-width: 700px;\n",
       "}\n",
       "\n",
       ".xr-text-repr-fallback {\n",
       "  /* fallback to plain text repr when CSS is not injected (untrusted notebook) */\n",
       "  display: none;\n",
       "}\n",
       "\n",
       ".xr-header {\n",
       "  padding-top: 6px;\n",
       "  padding-bottom: 6px;\n",
       "  margin-bottom: 4px;\n",
       "  border-bottom: solid 1px var(--xr-border-color);\n",
       "}\n",
       "\n",
       ".xr-header > div,\n",
       ".xr-header > ul {\n",
       "  display: inline;\n",
       "  margin-top: 0;\n",
       "  margin-bottom: 0;\n",
       "}\n",
       "\n",
       ".xr-obj-type,\n",
       ".xr-array-name {\n",
       "  margin-left: 2px;\n",
       "  margin-right: 10px;\n",
       "}\n",
       "\n",
       ".xr-obj-type {\n",
       "  color: var(--xr-font-color2);\n",
       "}\n",
       "\n",
       ".xr-sections {\n",
       "  padding-left: 0 !important;\n",
       "  display: grid;\n",
       "  grid-template-columns: 150px auto auto 1fr 20px 20px;\n",
       "}\n",
       "\n",
       ".xr-section-item {\n",
       "  display: contents;\n",
       "}\n",
       "\n",
       ".xr-section-item input {\n",
       "  display: none;\n",
       "}\n",
       "\n",
       ".xr-section-item input + label {\n",
       "  color: var(--xr-disabled-color);\n",
       "}\n",
       "\n",
       ".xr-section-item input:enabled + label {\n",
       "  cursor: pointer;\n",
       "  color: var(--xr-font-color2);\n",
       "}\n",
       "\n",
       ".xr-section-item input:enabled + label:hover {\n",
       "  color: var(--xr-font-color0);\n",
       "}\n",
       "\n",
       ".xr-section-summary {\n",
       "  grid-column: 1;\n",
       "  color: var(--xr-font-color2);\n",
       "  font-weight: 500;\n",
       "}\n",
       "\n",
       ".xr-section-summary > span {\n",
       "  display: inline-block;\n",
       "  padding-left: 0.5em;\n",
       "}\n",
       "\n",
       ".xr-section-summary-in:disabled + label {\n",
       "  color: var(--xr-font-color2);\n",
       "}\n",
       "\n",
       ".xr-section-summary-in + label:before {\n",
       "  display: inline-block;\n",
       "  content: '►';\n",
       "  font-size: 11px;\n",
       "  width: 15px;\n",
       "  text-align: center;\n",
       "}\n",
       "\n",
       ".xr-section-summary-in:disabled + label:before {\n",
       "  color: var(--xr-disabled-color);\n",
       "}\n",
       "\n",
       ".xr-section-summary-in:checked + label:before {\n",
       "  content: '▼';\n",
       "}\n",
       "\n",
       ".xr-section-summary-in:checked + label > span {\n",
       "  display: none;\n",
       "}\n",
       "\n",
       ".xr-section-summary,\n",
       ".xr-section-inline-details {\n",
       "  padding-top: 4px;\n",
       "  padding-bottom: 4px;\n",
       "}\n",
       "\n",
       ".xr-section-inline-details {\n",
       "  grid-column: 2 / -1;\n",
       "}\n",
       "\n",
       ".xr-section-details {\n",
       "  display: none;\n",
       "  grid-column: 1 / -1;\n",
       "  margin-bottom: 5px;\n",
       "}\n",
       "\n",
       ".xr-section-summary-in:checked ~ .xr-section-details {\n",
       "  display: contents;\n",
       "}\n",
       "\n",
       ".xr-array-wrap {\n",
       "  grid-column: 1 / -1;\n",
       "  display: grid;\n",
       "  grid-template-columns: 20px auto;\n",
       "}\n",
       "\n",
       ".xr-array-wrap > label {\n",
       "  grid-column: 1;\n",
       "  vertical-align: top;\n",
       "}\n",
       "\n",
       ".xr-preview {\n",
       "  color: var(--xr-font-color3);\n",
       "}\n",
       "\n",
       ".xr-array-preview,\n",
       ".xr-array-data {\n",
       "  padding: 0 5px !important;\n",
       "  grid-column: 2;\n",
       "}\n",
       "\n",
       ".xr-array-data,\n",
       ".xr-array-in:checked ~ .xr-array-preview {\n",
       "  display: none;\n",
       "}\n",
       "\n",
       ".xr-array-in:checked ~ .xr-array-data,\n",
       ".xr-array-preview {\n",
       "  display: inline-block;\n",
       "}\n",
       "\n",
       ".xr-dim-list {\n",
       "  display: inline-block !important;\n",
       "  list-style: none;\n",
       "  padding: 0 !important;\n",
       "  margin: 0;\n",
       "}\n",
       "\n",
       ".xr-dim-list li {\n",
       "  display: inline-block;\n",
       "  padding: 0;\n",
       "  margin: 0;\n",
       "}\n",
       "\n",
       ".xr-dim-list:before {\n",
       "  content: '(';\n",
       "}\n",
       "\n",
       ".xr-dim-list:after {\n",
       "  content: ')';\n",
       "}\n",
       "\n",
       ".xr-dim-list li:not(:last-child):after {\n",
       "  content: ',';\n",
       "  padding-right: 5px;\n",
       "}\n",
       "\n",
       ".xr-has-index {\n",
       "  font-weight: bold;\n",
       "}\n",
       "\n",
       ".xr-var-list,\n",
       ".xr-var-item {\n",
       "  display: contents;\n",
       "}\n",
       "\n",
       ".xr-var-item > div,\n",
       ".xr-var-item label,\n",
       ".xr-var-item > .xr-var-name span {\n",
       "  background-color: var(--xr-background-color-row-even);\n",
       "  margin-bottom: 0;\n",
       "}\n",
       "\n",
       ".xr-var-item > .xr-var-name:hover span {\n",
       "  padding-right: 5px;\n",
       "}\n",
       "\n",
       ".xr-var-list > li:nth-child(odd) > div,\n",
       ".xr-var-list > li:nth-child(odd) > label,\n",
       ".xr-var-list > li:nth-child(odd) > .xr-var-name span {\n",
       "  background-color: var(--xr-background-color-row-odd);\n",
       "}\n",
       "\n",
       ".xr-var-name {\n",
       "  grid-column: 1;\n",
       "}\n",
       "\n",
       ".xr-var-dims {\n",
       "  grid-column: 2;\n",
       "}\n",
       "\n",
       ".xr-var-dtype {\n",
       "  grid-column: 3;\n",
       "  text-align: right;\n",
       "  color: var(--xr-font-color2);\n",
       "}\n",
       "\n",
       ".xr-var-preview {\n",
       "  grid-column: 4;\n",
       "}\n",
       "\n",
       ".xr-var-name,\n",
       ".xr-var-dims,\n",
       ".xr-var-dtype,\n",
       ".xr-preview,\n",
       ".xr-attrs dt {\n",
       "  white-space: nowrap;\n",
       "  overflow: hidden;\n",
       "  text-overflow: ellipsis;\n",
       "  padding-right: 10px;\n",
       "}\n",
       "\n",
       ".xr-var-name:hover,\n",
       ".xr-var-dims:hover,\n",
       ".xr-var-dtype:hover,\n",
       ".xr-attrs dt:hover {\n",
       "  overflow: visible;\n",
       "  width: auto;\n",
       "  z-index: 1;\n",
       "}\n",
       "\n",
       ".xr-var-attrs,\n",
       ".xr-var-data {\n",
       "  display: none;\n",
       "  background-color: var(--xr-background-color) !important;\n",
       "  padding-bottom: 5px !important;\n",
       "}\n",
       "\n",
       ".xr-var-attrs-in:checked ~ .xr-var-attrs,\n",
       ".xr-var-data-in:checked ~ .xr-var-data {\n",
       "  display: block;\n",
       "}\n",
       "\n",
       ".xr-var-data > table {\n",
       "  float: right;\n",
       "}\n",
       "\n",
       ".xr-var-name span,\n",
       ".xr-var-data,\n",
       ".xr-attrs {\n",
       "  padding-left: 25px !important;\n",
       "}\n",
       "\n",
       ".xr-attrs,\n",
       ".xr-var-attrs,\n",
       ".xr-var-data {\n",
       "  grid-column: 1 / -1;\n",
       "}\n",
       "\n",
       "dl.xr-attrs {\n",
       "  padding: 0;\n",
       "  margin: 0;\n",
       "  display: grid;\n",
       "  grid-template-columns: 125px auto;\n",
       "}\n",
       "\n",
       ".xr-attrs dt,\n",
       ".xr-attrs dd {\n",
       "  padding: 0;\n",
       "  margin: 0;\n",
       "  float: left;\n",
       "  padding-right: 10px;\n",
       "  width: auto;\n",
       "}\n",
       "\n",
       ".xr-attrs dt {\n",
       "  font-weight: normal;\n",
       "  grid-column: 1;\n",
       "}\n",
       "\n",
       ".xr-attrs dt:hover span {\n",
       "  display: inline-block;\n",
       "  background: var(--xr-background-color);\n",
       "  padding-right: 10px;\n",
       "}\n",
       "\n",
       ".xr-attrs dd {\n",
       "  grid-column: 2;\n",
       "  white-space: pre-wrap;\n",
       "  word-break: break-all;\n",
       "}\n",
       "\n",
       ".xr-icon-database,\n",
       ".xr-icon-file-text2 {\n",
       "  display: inline-block;\n",
       "  vertical-align: middle;\n",
       "  width: 1em;\n",
       "  height: 1.5em !important;\n",
       "  stroke-width: 0;\n",
       "  stroke: currentColor;\n",
       "  fill: currentColor;\n",
       "}\n",
       "</style><pre class='xr-text-repr-fallback'>&lt;xarray.DataArray &#x27;decile&#x27; (decile: 10)&gt;\n",
       "array([ 1,  2,  3,  4,  5,  6,  7,  8,  9, 10])\n",
       "Coordinates:\n",
       "    month    int64 12\n",
       "  * decile   (decile) int64 1 2 3 4 5 6 7 8 9 10</pre><div class='xr-wrap' hidden><div class='xr-header'><div class='xr-obj-type'>xarray.DataArray</div><div class='xr-array-name'>'decile'</div><ul class='xr-dim-list'><li><span class='xr-has-index'>decile</span>: 10</li></ul></div><ul class='xr-sections'><li class='xr-section-item'><div class='xr-array-wrap'><input id='section-9c35f32e-3fb2-4423-b13a-76769595067f' class='xr-array-in' type='checkbox' checked><label for='section-9c35f32e-3fb2-4423-b13a-76769595067f' title='Show/hide data repr'><svg class='icon xr-icon-database'><use xlink:href='#icon-database'></use></svg></label><div class='xr-array-preview xr-preview'><span>1 2 3 4 5 6 7 8 9 10</span></div><div class='xr-array-data'><pre>array([ 1,  2,  3,  4,  5,  6,  7,  8,  9, 10])</pre></div></div></li><li class='xr-section-item'><input id='section-361fd764-f64b-4760-91b9-ffcd5fd363a7' class='xr-section-summary-in' type='checkbox'  checked><label for='section-361fd764-f64b-4760-91b9-ffcd5fd363a7' class='xr-section-summary' >Coordinates: <span>(2)</span></label><div class='xr-section-inline-details'></div><div class='xr-section-details'><ul class='xr-var-list'><li class='xr-var-item'><div class='xr-var-name'><span>month</span></div><div class='xr-var-dims'>()</div><div class='xr-var-dtype'>int64</div><div class='xr-var-preview xr-preview'>12</div><input id='attrs-2126f01d-32a0-43ee-8bf0-b2ea655d4f38' class='xr-var-attrs-in' type='checkbox' disabled><label for='attrs-2126f01d-32a0-43ee-8bf0-b2ea655d4f38' title='Show/Hide attributes'><svg class='icon xr-icon-file-text2'><use xlink:href='#icon-file-text2'></use></svg></label><input id='data-98565258-c726-4e78-8181-2979d5ded010' class='xr-var-data-in' type='checkbox'><label for='data-98565258-c726-4e78-8181-2979d5ded010' title='Show/Hide data repr'><svg class='icon xr-icon-database'><use xlink:href='#icon-database'></use></svg></label><div class='xr-var-attrs'><dl class='xr-attrs'></dl></div><div class='xr-var-data'><pre>array(12)</pre></div></li><li class='xr-var-item'><div class='xr-var-name'><span class='xr-has-index'>decile</span></div><div class='xr-var-dims'>(decile)</div><div class='xr-var-dtype'>int64</div><div class='xr-var-preview xr-preview'>1 2 3 4 5 6 7 8 9 10</div><input id='attrs-705c74ff-142c-4150-b01f-7385a451bc3d' class='xr-var-attrs-in' type='checkbox' disabled><label for='attrs-705c74ff-142c-4150-b01f-7385a451bc3d' title='Show/Hide attributes'><svg class='icon xr-icon-file-text2'><use xlink:href='#icon-file-text2'></use></svg></label><input id='data-4fd1dc15-c1de-424c-ab59-5d824b7aff29' class='xr-var-data-in' type='checkbox'><label for='data-4fd1dc15-c1de-424c-ab59-5d824b7aff29' title='Show/Hide data repr'><svg class='icon xr-icon-database'><use xlink:href='#icon-database'></use></svg></label><div class='xr-var-attrs'><dl class='xr-attrs'></dl></div><div class='xr-var-data'><pre>array([ 1,  2,  3,  4,  5,  6,  7,  8,  9, 10])</pre></div></li></ul></div></li><li class='xr-section-item'><input id='section-e8a516be-bb74-47ad-ba6d-c2cec0ce2d42' class='xr-section-summary-in' type='checkbox' disabled ><label for='section-e8a516be-bb74-47ad-ba6d-c2cec0ce2d42' class='xr-section-summary'  title='Expand/collapse section'>Attributes: <span>(0)</span></label><div class='xr-section-inline-details'></div><div class='xr-section-details'><dl class='xr-attrs'></dl></div></li></ul></div></div>"
      ],
      "text/plain": [
       "<xarray.DataArray 'decile' (decile: 10)>\n",
       "array([ 1,  2,  3,  4,  5,  6,  7,  8,  9, 10])\n",
       "Coordinates:\n",
       "    month    int64 12\n",
       "  * decile   (decile) int64 1 2 3 4 5 6 7 8 9 10"
      ]
     },
     "execution_count": 35,
     "metadata": {},
     "output_type": "execute_result"
    }
   ],
   "source": [
    "cum_probs.decile"
   ]
  },
  {
   "cell_type": "markdown",
   "id": "ec4e8ddd",
   "metadata": {
    "papermill": {
     "duration": 0.038069,
     "end_time": "2022-01-17T20:53:24.940470",
     "exception": false,
     "start_time": "2022-01-17T20:53:24.902401",
     "status": "completed"
    },
    "tags": []
   },
   "source": [
    "#### selects probabilities greater or equal than 50% "
   ]
  },
  {
   "cell_type": "code",
   "execution_count": 36,
   "id": "6144557e",
   "metadata": {
    "execution": {
     "iopub.execute_input": "2022-01-17T20:53:25.018619Z",
     "iopub.status.busy": "2022-01-17T20:53:25.018263Z",
     "iopub.status.idle": "2022-01-17T20:53:25.036432Z",
     "shell.execute_reply": "2022-01-17T20:53:25.036697Z"
    },
    "papermill": {
     "duration": 0.059815,
     "end_time": "2022-01-17T20:53:25.036834",
     "exception": false,
     "start_time": "2022-01-17T20:53:24.977019",
     "status": "completed"
    },
    "tags": []
   },
   "outputs": [],
   "source": [
    "cum_probs = cum_probs.where(cum_probs['precip'] >= 50)"
   ]
  },
  {
   "cell_type": "markdown",
   "id": "a59c5176",
   "metadata": {
    "papermill": {
     "duration": 0.039302,
     "end_time": "2022-01-17T20:53:25.114533",
     "exception": false,
     "start_time": "2022-01-17T20:53:25.075231",
     "status": "completed"
    },
    "tags": []
   },
   "source": [
    "### quick plot of the minimum decile value for the cumulative decile probabilities reaching 50% "
   ]
  },
  {
   "cell_type": "code",
   "execution_count": 37,
   "id": "45da967d",
   "metadata": {
    "execution": {
     "iopub.execute_input": "2022-01-17T20:53:25.192669Z",
     "iopub.status.busy": "2022-01-17T20:53:25.192313Z",
     "iopub.status.idle": "2022-01-17T20:53:28.307391Z",
     "shell.execute_reply": "2022-01-17T20:53:28.307645Z"
    },
    "papermill": {
     "duration": 3.155966,
     "end_time": "2022-01-17T20:53:28.307764",
     "exception": false,
     "start_time": "2022-01-17T20:53:25.151798",
     "status": "completed"
    },
    "tags": []
   },
   "outputs": [
    {
     "data": {
      "text/plain": [
       "Text(0.5, 1.0, '')"
      ]
     },
     "execution_count": 37,
     "metadata": {},
     "output_type": "execute_result"
    },
    {
     "data": {
      "image/png": "[encoded data removed]",
      "text/plain": [
       "<Figure size 1008x576 with 2 Axes>"
      ]
     },
     "metadata": {
      "needs_background": "light"
     },
     "output_type": "display_data"
    }
   ],
   "source": [
    "f, ax = plt.subplots(subplot_kw=dict(projection=ccrs.PlateCarree(central_longitude=180)), figsize=(14,8))\n",
    "\n",
    "cum_probs.idxmin('decile').squeeze().sel(step=step)['precip'].plot.contourf(ax=ax, levels=np.arange(0, 11), transform=ccrs.PlateCarree(), \\\n",
    "                                                                   cbar_kwargs={'shrink':0.7, 'boundaries':np.arange(11), 'drawedges':True})\n",
    "ax.coastlines()\n",
    "\n",
    "ax.set_title('')"
   ]
  },
  {
   "cell_type": "markdown",
   "id": "5144b327",
   "metadata": {
    "papermill": {
     "duration": 0.038817,
     "end_time": "2022-01-17T20:53:28.385126",
     "exception": false,
     "start_time": "2022-01-17T20:53:28.346309",
     "status": "completed"
    },
    "tags": []
   },
   "source": [
    "### Now starts the prototype plotting "
   ]
  },
  {
   "cell_type": "code",
   "execution_count": 38,
   "id": "fc61800f",
   "metadata": {
    "execution": {
     "iopub.execute_input": "2022-01-17T20:53:28.464971Z",
     "iopub.status.busy": "2022-01-17T20:53:28.464631Z",
     "iopub.status.idle": "2022-01-17T20:53:28.479092Z",
     "shell.execute_reply": "2022-01-17T20:53:28.478789Z"
    },
    "papermill": {
     "duration": 0.055109,
     "end_time": "2022-01-17T20:53:28.479196",
     "exception": false,
     "start_time": "2022-01-17T20:53:28.424087",
     "status": "completed"
    },
    "tags": []
   },
   "outputs": [],
   "source": [
    "thresholds = np.arange(0.5, 10.5 + 1, 1)"
   ]
  },
  {
   "cell_type": "code",
   "execution_count": 39,
   "id": "b4786fe3",
   "metadata": {
    "execution": {
     "iopub.execute_input": "2022-01-17T20:53:28.563281Z",
     "iopub.status.busy": "2022-01-17T20:53:28.562836Z",
     "iopub.status.idle": "2022-01-17T20:53:28.578224Z",
     "shell.execute_reply": "2022-01-17T20:53:28.577881Z"
    },
    "papermill": {
     "duration": 0.056689,
     "end_time": "2022-01-17T20:53:28.578325",
     "exception": false,
     "start_time": "2022-01-17T20:53:28.521636",
     "status": "completed"
    },
    "tags": []
   },
   "outputs": [
    {
     "data": {
      "text/plain": [
       "array([ 0.5,  1.5,  2.5,  3.5,  4.5,  5.5,  6.5,  7.5,  8.5,  9.5, 10.5])"
      ]
     },
     "execution_count": 39,
     "metadata": {},
     "output_type": "execute_result"
    }
   ],
   "source": [
    "thresholds"
   ]
  },
  {
   "cell_type": "code",
   "execution_count": 40,
   "id": "1f010162",
   "metadata": {
    "execution": {
     "iopub.execute_input": "2022-01-17T20:53:28.656856Z",
     "iopub.status.busy": "2022-01-17T20:53:28.656520Z",
     "iopub.status.idle": "2022-01-17T20:53:28.671701Z",
     "shell.execute_reply": "2022-01-17T20:53:28.671321Z"
    },
    "papermill": {
     "duration": 0.055617,
     "end_time": "2022-01-17T20:53:28.671805",
     "exception": false,
     "start_time": "2022-01-17T20:53:28.616188",
     "status": "completed"
    },
    "tags": []
   },
   "outputs": [],
   "source": [
    "ticks_marks = np.diff(np.array(thresholds)) / 2.\n",
    "\n",
    "ticks = [thresholds[i] + ticks_marks[i] for i in range(len(thresholds) - 1)]"
   ]
  },
  {
   "cell_type": "code",
   "execution_count": 41,
   "id": "ca15564e",
   "metadata": {
    "execution": {
     "iopub.execute_input": "2022-01-17T20:53:28.756458Z",
     "iopub.status.busy": "2022-01-17T20:53:28.756118Z",
     "iopub.status.idle": "2022-01-17T20:53:28.771196Z",
     "shell.execute_reply": "2022-01-17T20:53:28.770850Z"
    },
    "papermill": {
     "duration": 0.056553,
     "end_time": "2022-01-17T20:53:28.771296",
     "exception": false,
     "start_time": "2022-01-17T20:53:28.714743",
     "status": "completed"
    },
    "tags": []
   },
   "outputs": [
    {
     "data": {
      "text/plain": [
       "[1.0, 2.0, 3.0, 4.0, 5.0, 6.0, 7.0, 8.0, 9.0, 10.0]"
      ]
     },
     "execution_count": 41,
     "metadata": {},
     "output_type": "execute_result"
    }
   ],
   "source": [
    "ticks"
   ]
  },
  {
   "cell_type": "code",
   "execution_count": 42,
   "id": "7fd0d9b8",
   "metadata": {
    "execution": {
     "iopub.execute_input": "2022-01-17T20:53:28.852417Z",
     "iopub.status.busy": "2022-01-17T20:53:28.852079Z",
     "iopub.status.idle": "2022-01-17T20:53:28.866970Z",
     "shell.execute_reply": "2022-01-17T20:53:28.866659Z"
    },
    "papermill": {
     "duration": 0.056212,
     "end_time": "2022-01-17T20:53:28.867070",
     "exception": false,
     "start_time": "2022-01-17T20:53:28.810858",
     "status": "completed"
    },
    "tags": []
   },
   "outputs": [],
   "source": [
    "hexes = ['#003c30', '#01665e', '#35978f', '#80cdc1', '#c7eae5', '#f6e8c3', '#dfc27d', '#bf812d', '#8c510a', '#543005']"
   ]
  },
  {
   "cell_type": "code",
   "execution_count": 43,
   "id": "4c258744",
   "metadata": {
    "execution": {
     "iopub.execute_input": "2022-01-17T20:53:28.950389Z",
     "iopub.status.busy": "2022-01-17T20:53:28.950049Z",
     "iopub.status.idle": "2022-01-17T20:53:28.964278Z",
     "shell.execute_reply": "2022-01-17T20:53:28.963942Z"
    },
    "papermill": {
     "duration": 0.057236,
     "end_time": "2022-01-17T20:53:28.964378",
     "exception": false,
     "start_time": "2022-01-17T20:53:28.907142",
     "status": "completed"
    },
    "tags": []
   },
   "outputs": [],
   "source": [
    "hexes.reverse()"
   ]
  },
  {
   "cell_type": "code",
   "execution_count": 44,
   "id": "121592cd",
   "metadata": {
    "execution": {
     "iopub.execute_input": "2022-01-17T20:53:29.046230Z",
     "iopub.status.busy": "2022-01-17T20:53:29.045895Z",
     "iopub.status.idle": "2022-01-17T20:53:29.060278Z",
     "shell.execute_reply": "2022-01-17T20:53:29.059930Z"
    },
    "papermill": {
     "duration": 0.05598,
     "end_time": "2022-01-17T20:53:29.060383",
     "exception": false,
     "start_time": "2022-01-17T20:53:29.004403",
     "status": "completed"
    },
    "tags": []
   },
   "outputs": [],
   "source": [
    "cbar_ticklabels = ['>90th', '80-90th', '70-80th', '60-70th', '50-60th', '40-50th', '30-40th', '20-30th', '10-20th', '< 10th']"
   ]
  },
  {
   "cell_type": "code",
   "execution_count": 45,
   "id": "bc5ef3c1",
   "metadata": {
    "execution": {
     "iopub.execute_input": "2022-01-17T20:53:29.142439Z",
     "iopub.status.busy": "2022-01-17T20:53:29.142111Z",
     "iopub.status.idle": "2022-01-17T20:53:29.157617Z",
     "shell.execute_reply": "2022-01-17T20:53:29.157892Z"
    },
    "papermill": {
     "duration": 0.058998,
     "end_time": "2022-01-17T20:53:29.158011",
     "exception": false,
     "start_time": "2022-01-17T20:53:29.099013",
     "status": "completed"
    },
    "tags": []
   },
   "outputs": [],
   "source": [
    "cbar_ticklabels.reverse()"
   ]
  },
  {
   "cell_type": "code",
   "execution_count": 46,
   "id": "a7aff0bb",
   "metadata": {
    "execution": {
     "iopub.execute_input": "2022-01-17T20:53:29.242577Z",
     "iopub.status.busy": "2022-01-17T20:53:29.242220Z",
     "iopub.status.idle": "2022-01-17T20:53:29.257214Z",
     "shell.execute_reply": "2022-01-17T20:53:29.256853Z"
    },
    "papermill": {
     "duration": 0.056819,
     "end_time": "2022-01-17T20:53:29.257318",
     "exception": false,
     "start_time": "2022-01-17T20:53:29.200499",
     "status": "completed"
    },
    "tags": []
   },
   "outputs": [
    {
     "data": {
      "text/plain": [
       "['< 10th',\n",
       " '10-20th',\n",
       " '20-30th',\n",
       " '30-40th',\n",
       " '40-50th',\n",
       " '50-60th',\n",
       " '60-70th',\n",
       " '70-80th',\n",
       " '80-90th',\n",
       " '>90th']"
      ]
     },
     "execution_count": 46,
     "metadata": {},
     "output_type": "execute_result"
    }
   ],
   "source": [
    "cbar_ticklabels"
   ]
  },
  {
   "cell_type": "code",
   "execution_count": 47,
   "id": "0bc1d2a2",
   "metadata": {
    "execution": {
     "iopub.execute_input": "2022-01-17T20:53:29.341274Z",
     "iopub.status.busy": "2022-01-17T20:53:29.340939Z",
     "iopub.status.idle": "2022-01-17T20:53:29.355735Z",
     "shell.execute_reply": "2022-01-17T20:53:29.355391Z"
    },
    "papermill": {
     "duration": 0.057341,
     "end_time": "2022-01-17T20:53:29.355842",
     "exception": false,
     "start_time": "2022-01-17T20:53:29.298501",
     "status": "completed"
    },
    "tags": []
   },
   "outputs": [],
   "source": [
    "import matplotlib"
   ]
  },
  {
   "cell_type": "code",
   "execution_count": 48,
   "id": "47d2c6b4",
   "metadata": {
    "execution": {
     "iopub.execute_input": "2022-01-17T20:53:29.442610Z",
     "iopub.status.busy": "2022-01-17T20:53:29.442083Z",
     "iopub.status.idle": "2022-01-17T20:53:29.456863Z",
     "shell.execute_reply": "2022-01-17T20:53:29.457144Z"
    },
    "papermill": {
     "duration": 0.059556,
     "end_time": "2022-01-17T20:53:29.457315",
     "exception": false,
     "start_time": "2022-01-17T20:53:29.397759",
     "status": "completed"
    },
    "tags": []
   },
   "outputs": [],
   "source": [
    "cmap = matplotlib.colors.ListedColormap(hexes, name='decile')"
   ]
  },
  {
   "cell_type": "code",
   "execution_count": 49,
   "id": "a007c97a",
   "metadata": {
    "execution": {
     "iopub.execute_input": "2022-01-17T20:53:29.545371Z",
     "iopub.status.busy": "2022-01-17T20:53:29.544812Z",
     "iopub.status.idle": "2022-01-17T20:53:29.562325Z",
     "shell.execute_reply": "2022-01-17T20:53:29.562578Z"
    },
    "papermill": {
     "duration": 0.062157,
     "end_time": "2022-01-17T20:53:29.562701",
     "exception": false,
     "start_time": "2022-01-17T20:53:29.500544",
     "status": "completed"
    },
    "tags": []
   },
   "outputs": [
    {
     "data": {
      "image/png": "[encoded data removed]",
      "text/html": [
       "<div style=\"vertical-align: middle;\"><strong>decile</strong> </div><div class=\"cmap\"><img alt=\"decile colormap\" title=\"decile\" style=\"border: 1px solid #555;\" src=\"data:image/png;base64,iVBORw0KGgoAAAANSUhEUgAAAgAAAABACAYAAABsv8+/AAAAFXRFWHRUaXRsZQBkZWNpbGUgY29sb3JtYXBonyRcAAAAG3RFWHREZXNjcmlwdGlvbgBkZWNpbGUgY29sb3JtYXAhCDy4AAAAMHRFWHRBdXRob3IATWF0cGxvdGxpYiB2My40LjIsIGh0dHBzOi8vbWF0cGxvdGxpYi5vcmes1mPdAAAAMnRFWHRTb2Z0d2FyZQBNYXRwbG90bGliIHYzLjQuMiwgaHR0cHM6Ly9tYXRwbG90bGliLm9yZ4Jw/PoAAAF2SURBVHic7darTQNgGEBRaNIZsDwSdBMMFoOuYNWKrkAIDQgUjkHKEn/4Eu45E1x5L1922/PFP/J4s51OWOZhdzedsMz10346YZmr++fphGU+NrfTCcscf76nE5Y5vL5PJyzzdjpNJyxz/vqcTlhqMx0AAPw9AwAAQQYAAIIMAAAEGQAACDIAABBkAAAgyAAAQJABAIAgAwAAQQYAAIIMAAAEGQAACDIAABBkAAAgyAAAQJABAIAgAwAAQQYAAIIMAAAEGQAACDIAABBkAAAgyAAAQJABAIAgAwAAQQYAAIIMAAAEGQAACDIAABBkAAAgyAAAQJABAIAgAwAAQQYAAIIMAAAEGQAACDIAABBkAAAgyAAAQJABAIAgAwAAQQYAAIIMAAAEGQAACDIAABBkAAAgyAAAQJABAIAgAwAAQQYAAIIMAAAEGQAACDIAABBkAAAgyAAAQJABAIAgAwAAQQYAAIIMAAAEGQAACDIAABBkAAAg6BfH1w7rwRZTHQAAAABJRU5ErkJggg==\"></div><div style=\"vertical-align: middle; max-width: 514px; display: flex; justify-content: space-between;\"><div style=\"float: left;\"><div title=\"#543005ff\" style=\"display: inline-block; width: 1em; height: 1em; margin: 0; vertical-align: middle; border: 1px solid #555; background-color: #543005ff;\"></div> under</div><div style=\"margin: 0 auto; display: inline-block;\">bad <div title=\"#00000000\" style=\"display: inline-block; width: 1em; height: 1em; margin: 0; vertical-align: middle; border: 1px solid #555; background-color: #00000000;\"></div></div><div style=\"float: right;\">over <div title=\"#003c30ff\" style=\"display: inline-block; width: 1em; height: 1em; margin: 0; vertical-align: middle; border: 1px solid #555; background-color: #003c30ff;\"></div></div>"
      ],
      "text/plain": [
       "<matplotlib.colors.ListedColormap at 0x7fb8a42f2cd0>"
      ]
     },
     "execution_count": 49,
     "metadata": {},
     "output_type": "execute_result"
    }
   ],
   "source": [
    "cmap"
   ]
  },
  {
   "cell_type": "code",
   "execution_count": 50,
   "id": "f776330c",
   "metadata": {
    "execution": {
     "iopub.execute_input": "2022-01-17T20:53:29.644288Z",
     "iopub.status.busy": "2022-01-17T20:53:29.643929Z",
     "iopub.status.idle": "2022-01-17T20:53:29.669509Z",
     "shell.execute_reply": "2022-01-17T20:53:29.669773Z"
    },
    "papermill": {
     "duration": 0.067239,
     "end_time": "2022-01-17T20:53:29.669897",
     "exception": false,
     "start_time": "2022-01-17T20:53:29.602658",
     "status": "completed"
    },
    "tags": []
   },
   "outputs": [],
   "source": [
    "decile_map = cum_probs.idxmin('decile').squeeze().sel(step=step)"
   ]
  },
  {
   "cell_type": "code",
   "execution_count": 51,
   "id": "062527c8",
   "metadata": {
    "execution": {
     "iopub.execute_input": "2022-01-17T20:53:29.751123Z",
     "iopub.status.busy": "2022-01-17T20:53:29.750763Z",
     "iopub.status.idle": "2022-01-17T20:53:29.820038Z",
     "shell.execute_reply": "2022-01-17T20:53:29.820578Z"
    },
    "papermill": {
     "duration": 0.111447,
     "end_time": "2022-01-17T20:53:29.820776",
     "exception": false,
     "start_time": "2022-01-17T20:53:29.709329",
     "status": "completed"
    },
    "tags": []
   },
   "outputs": [
    {
     "data": {
      "text/html": [
       "<div>\n",
       "<style scoped>\n",
       "    .dataframe tbody tr th:only-of-type {\n",
       "        vertical-align: middle;\n",
       "    }\n",
       "\n",
       "    .dataframe tbody tr th {\n",
       "        vertical-align: top;\n",
       "    }\n",
       "\n",
       "    .dataframe thead th {\n",
       "        text-align: right;\n",
       "    }\n",
       "</style>\n",
       "<table border=\"1\" class=\"dataframe\">\n",
       "  <thead>\n",
       "    <tr style=\"text-align: right;\">\n",
       "      <th></th>\n",
       "      <th>index</th>\n",
       "      <th>geometry</th>\n",
       "    </tr>\n",
       "  </thead>\n",
       "  <tbody>\n",
       "    <tr>\n",
       "      <th>0</th>\n",
       "      <td>EEZ</td>\n",
       "      <td>POLYGON ((188.633 -22.239, 188.629 -22.255, 18...</td>\n",
       "    </tr>\n",
       "  </tbody>\n",
       "</table>\n",
       "</div>"
      ],
      "text/plain": [
       "  index                                           geometry\n",
       "0   EEZ  POLYGON ((188.633 -22.239, 188.629 -22.255, 18..."
      ]
     },
     "execution_count": 51,
     "metadata": {},
     "output_type": "execute_result"
    }
   ],
   "source": [
    "merged_EEZs"
   ]
  },
  {
   "cell_type": "code",
   "execution_count": 52,
   "id": "f24d2f75",
   "metadata": {
    "execution": {
     "iopub.execute_input": "2022-01-17T20:53:29.914292Z",
     "iopub.status.busy": "2022-01-17T20:53:29.913701Z",
     "iopub.status.idle": "2022-01-17T20:53:30.015904Z",
     "shell.execute_reply": "2022-01-17T20:53:30.015588Z"
    },
    "papermill": {
     "duration": 0.145425,
     "end_time": "2022-01-17T20:53:30.016025",
     "exception": false,
     "start_time": "2022-01-17T20:53:29.870600",
     "status": "completed"
    },
    "tags": []
   },
   "outputs": [],
   "source": [
    "decile_map = geo.make_mask_from_gpd(decile_map, merged_EEZs, subset=False, insert=True)"
   ]
  },
  {
   "cell_type": "code",
   "execution_count": 53,
   "id": "49d2ecaa",
   "metadata": {
    "execution": {
     "iopub.execute_input": "2022-01-17T20:53:30.098438Z",
     "iopub.status.busy": "2022-01-17T20:53:30.098078Z",
     "iopub.status.idle": "2022-01-17T20:53:32.726671Z",
     "shell.execute_reply": "2022-01-17T20:53:32.726295Z"
    },
    "papermill": {
     "duration": 2.671334,
     "end_time": "2022-01-17T20:53:32.726776",
     "exception": false,
     "start_time": "2022-01-17T20:53:30.055442",
     "status": "completed"
    },
    "tags": []
   },
   "outputs": [
    {
     "data": {
      "text/plain": [
       "<matplotlib.collections.QuadMesh at 0x7fb8a4b8b400>"
      ]
     },
     "execution_count": 53,
     "metadata": {},
     "output_type": "execute_result"
    },
    {
     "data": {
      "image/png": "[encoded data removed]",
      "text/plain": [
       "<Figure size 432x288 with 2 Axes>"
      ]
     },
     "metadata": {
      "needs_background": "light"
     },
     "output_type": "display_data"
    }
   ],
   "source": [
    "(decile_map['precip'] * decile_map['mask']).plot()"
   ]
  },
  {
   "cell_type": "code",
   "execution_count": 54,
   "id": "d03b184d",
   "metadata": {
    "execution": {
     "iopub.execute_input": "2022-01-17T20:53:32.812961Z",
     "iopub.status.busy": "2022-01-17T20:53:32.812627Z",
     "iopub.status.idle": "2022-01-17T20:53:32.828234Z",
     "shell.execute_reply": "2022-01-17T20:53:32.828503Z"
    },
    "papermill": {
     "duration": 0.060678,
     "end_time": "2022-01-17T20:53:32.828625",
     "exception": false,
     "start_time": "2022-01-17T20:53:32.767947",
     "status": "completed"
    },
    "tags": []
   },
   "outputs": [],
   "source": [
    "month_name = list(month_name)"
   ]
  },
  {
   "cell_type": "code",
   "execution_count": 55,
   "id": "48622fa6",
   "metadata": {
    "execution": {
     "iopub.execute_input": "2022-01-17T20:53:32.912129Z",
     "iopub.status.busy": "2022-01-17T20:53:32.911781Z",
     "iopub.status.idle": "2022-01-17T20:53:32.927164Z",
     "shell.execute_reply": "2022-01-17T20:53:32.926809Z"
    },
    "papermill": {
     "duration": 0.05821,
     "end_time": "2022-01-17T20:53:32.927263",
     "exception": false,
     "start_time": "2022-01-17T20:53:32.869053",
     "status": "completed"
    },
    "tags": []
   },
   "outputs": [],
   "source": [
    "month_name += month_name[1:]"
   ]
  },
  {
   "cell_type": "code",
   "execution_count": 56,
   "id": "86912e97",
   "metadata": {
    "execution": {
     "iopub.execute_input": "2022-01-17T20:53:33.009420Z",
     "iopub.status.busy": "2022-01-17T20:53:33.009085Z",
     "iopub.status.idle": "2022-01-17T20:53:33.024161Z",
     "shell.execute_reply": "2022-01-17T20:53:33.023797Z"
    },
    "papermill": {
     "duration": 0.05669,
     "end_time": "2022-01-17T20:53:33.024259",
     "exception": false,
     "start_time": "2022-01-17T20:53:32.967569",
     "status": "completed"
    },
    "tags": []
   },
   "outputs": [],
   "source": [
    "if period == 'monthly': \n",
    "    label_period = month_name[month + step]\n",
    "elif period == 'seasonal': \n",
    "    label_period = month_name[month + step - 2] + \" - \" + month_name[month + step]"
   ]
  },
  {
   "cell_type": "code",
   "execution_count": 57,
   "id": "c991af60",
   "metadata": {
    "execution": {
     "iopub.execute_input": "2022-01-17T20:53:33.107335Z",
     "iopub.status.busy": "2022-01-17T20:53:33.107000Z",
     "iopub.status.idle": "2022-01-17T20:53:33.122820Z",
     "shell.execute_reply": "2022-01-17T20:53:33.122478Z"
    },
    "papermill": {
     "duration": 0.05822,
     "end_time": "2022-01-17T20:53:33.122916",
     "exception": false,
     "start_time": "2022-01-17T20:53:33.064696",
     "status": "completed"
    },
    "tags": []
   },
   "outputs": [
    {
     "data": {
      "text/plain": [
       "4"
      ]
     },
     "execution_count": 57,
     "metadata": {},
     "output_type": "execute_result"
    }
   ],
   "source": [
    "step"
   ]
  },
  {
   "cell_type": "code",
   "execution_count": 58,
   "id": "a1efe919",
   "metadata": {
    "execution": {
     "iopub.execute_input": "2022-01-17T20:53:33.208811Z",
     "iopub.status.busy": "2022-01-17T20:53:33.208482Z",
     "iopub.status.idle": "2022-01-17T20:53:33.224133Z",
     "shell.execute_reply": "2022-01-17T20:53:33.223739Z"
    },
    "papermill": {
     "duration": 0.058042,
     "end_time": "2022-01-17T20:53:33.224230",
     "exception": false,
     "start_time": "2022-01-17T20:53:33.166188",
     "status": "completed"
    },
    "tags": []
   },
   "outputs": [
    {
     "data": {
      "text/plain": [
       "'February - April'"
      ]
     },
     "execution_count": 58,
     "metadata": {},
     "output_type": "execute_result"
    }
   ],
   "source": [
    "label_period"
   ]
  },
  {
   "cell_type": "code",
   "execution_count": 59,
   "id": "f25be321",
   "metadata": {
    "execution": {
     "iopub.execute_input": "2022-01-17T20:53:33.307135Z",
     "iopub.status.busy": "2022-01-17T20:53:33.306796Z",
     "iopub.status.idle": "2022-01-17T20:53:36.979091Z",
     "shell.execute_reply": "2022-01-17T20:53:36.979362Z"
    },
    "papermill": {
     "duration": 3.716029,
     "end_time": "2022-01-17T20:53:36.979482",
     "exception": false,
     "start_time": "2022-01-17T20:53:33.263453",
     "status": "completed"
    },
    "tags": []
   },
   "outputs": [
    {
     "data": {
      "image/png": "[encoded data removed]",
      "text/plain": [
       "<Figure size 1008x576 with 1 Axes>"
      ]
     },
     "metadata": {
      "needs_background": "light"
     },
     "output_type": "display_data"
    }
   ],
   "source": [
    "f, ax = plt.subplots(subplot_kw=dict(projection=ccrs.PlateCarree(central_longitude=180)), figsize=(14,8))\n",
    "\n",
    "ff = (decile_map['precip'] * decile_map['mask']).plot.contourf(ax=ax, levels=thresholds, cmap=cmap, transform=ccrs.PlateCarree(), add_colorbar=False)\n",
    "\n",
    "ax.coastlines(resolution='10m', lw=0.5)\n",
    "\n",
    "ax.set_title('')\n",
    "\n",
    "cbar_kwargs={'shrink':0.5, 'pad':0.01, 'extend':'neither', 'drawedges':True, 'ticks':ticks, 'aspect':15}\n",
    "\n",
    "cbar_ax = ax.axes.inset_axes([0.9, 0.525, 0.025, 0.38])\n",
    "\n",
    "cb = plt.colorbar(ff, cax=cbar_ax, **cbar_kwargs)\n",
    "\n",
    "cb.ax.minorticks_off()\n",
    "\n",
    "cbar_ax.set_yticklabels(cbar_ticklabels)\n",
    "\n",
    "plot.add_geom(ax, geoms=EEZs)\n",
    "\n",
    "title = f\"Decile precipitation forecast\\n{label_period}\"\n",
    "\n",
    "ax.text(0.99, 0.95, title, fontsize=13, fontdict={'color':'k'}, bbox=dict(facecolor='w', edgecolor='w'), horizontalalignment='right', verticalalignment='center', transform=ax.transAxes)\n",
    "\n",
    "ax.text(0.01, 0.02, u'\\u00A9'+\" NIWA\", transform=ax.transAxes, bbox=dict(facecolor='w', edgecolor='w'), fontdict=dict(color='0.4'))\n",
    "\n",
    "# ax.text(0.99, 0.02, \"(first decile value where cumulative probability reaches 50%)\",transform=ax.transAxes, horizontalalignment='right')\n",
    "\n",
    "ax.set_extent(domain, crs = ccrs.PlateCarree())"
   ]
  },
  {
   "cell_type": "code",
   "execution_count": 60,
   "id": "9afbebdf",
   "metadata": {
    "execution": {
     "iopub.execute_input": "2022-01-17T20:53:37.071313Z",
     "iopub.status.busy": "2022-01-17T20:53:37.070967Z",
     "iopub.status.idle": "2022-01-17T20:53:37.467293Z",
     "shell.execute_reply": "2022-01-17T20:53:37.466921Z"
    },
    "papermill": {
     "duration": 0.445266,
     "end_time": "2022-01-17T20:53:37.467399",
     "exception": false,
     "start_time": "2022-01-17T20:53:37.022133",
     "status": "completed"
    },
    "tags": []
   },
   "outputs": [],
   "source": [
    "f.savefig(fpath.joinpath(f'decile_forecast_prototype_{period}_{year}_{month:02d}_init_{label_period.replace(\" - \",\"_\")}.png'), dpi=200, facecolor='w', bbox_inches='tight')"
   ]
  },
  {
   "cell_type": "code",
   "execution_count": 61,
   "id": "006b2ea3",
   "metadata": {
    "execution": {
     "iopub.execute_input": "2022-01-17T20:53:37.557681Z",
     "iopub.status.busy": "2022-01-17T20:53:37.557120Z",
     "iopub.status.idle": "2022-01-17T20:53:37.977470Z",
     "shell.execute_reply": "2022-01-17T20:53:37.977167Z"
    },
    "papermill": {
     "duration": 0.466186,
     "end_time": "2022-01-17T20:53:37.977578",
     "exception": false,
     "start_time": "2022-01-17T20:53:37.511392",
     "status": "completed"
    },
    "tags": []
   },
   "outputs": [],
   "source": [
    "f.savefig(fpath_web.joinpath(f'decile_forecast_prototype_{period}_lead{lead}_latest.png'), dpi=200, facecolor='w', bbox_inches='tight')"
   ]
  },
  {
   "cell_type": "markdown",
   "id": "b2abc4f2",
   "metadata": {
    "papermill": {
     "duration": 0.046559,
     "end_time": "2022-01-17T20:53:38.072360",
     "exception": false,
     "start_time": "2022-01-17T20:53:38.025801",
     "status": "completed"
    },
    "tags": []
   },
   "source": [
    "### create station heatmap "
   ]
  },
  {
   "cell_type": "code",
   "execution_count": 62,
   "id": "3ab56d87",
   "metadata": {
    "execution": {
     "iopub.execute_input": "2022-01-17T20:53:38.161600Z",
     "iopub.status.busy": "2022-01-17T20:53:38.161255Z",
     "iopub.status.idle": "2022-01-17T20:53:38.176411Z",
     "shell.execute_reply": "2022-01-17T20:53:38.176029Z"
    },
    "papermill": {
     "duration": 0.060215,
     "end_time": "2022-01-17T20:53:38.176542",
     "exception": false,
     "start_time": "2022-01-17T20:53:38.116327",
     "status": "completed"
    },
    "tags": []
   },
   "outputs": [],
   "source": [
    "station_name = 'Nadi'\n",
    "lon = 177.4356\n",
    "lat = -17.7765"
   ]
  },
  {
   "cell_type": "code",
   "execution_count": 63,
   "id": "27512475",
   "metadata": {
    "execution": {
     "iopub.execute_input": "2022-01-17T20:53:38.270271Z",
     "iopub.status.busy": "2022-01-17T20:53:38.269932Z",
     "iopub.status.idle": "2022-01-17T20:53:38.286273Z",
     "shell.execute_reply": "2022-01-17T20:53:38.286539Z"
    },
    "papermill": {
     "duration": 0.062704,
     "end_time": "2022-01-17T20:53:38.286667",
     "exception": false,
     "start_time": "2022-01-17T20:53:38.223963",
     "status": "completed"
    },
    "tags": []
   },
   "outputs": [],
   "source": [
    "probs_station = probs.sel(lat=lat, lon=lon, method='nearest')"
   ]
  },
  {
   "cell_type": "code",
   "execution_count": 64,
   "id": "e68c7121",
   "metadata": {
    "execution": {
     "iopub.execute_input": "2022-01-17T20:53:38.376535Z",
     "iopub.status.busy": "2022-01-17T20:53:38.375977Z",
     "iopub.status.idle": "2022-01-17T20:53:40.325892Z",
     "shell.execute_reply": "2022-01-17T20:53:40.325510Z"
    },
    "papermill": {
     "duration": 1.996195,
     "end_time": "2022-01-17T20:53:40.325995",
     "exception": false,
     "start_time": "2022-01-17T20:53:38.329800",
     "status": "completed"
    },
    "tags": []
   },
   "outputs": [],
   "source": [
    "probs_station_df = probs_station.squeeze()[['precip']].to_dataframe()['precip']"
   ]
  },
  {
   "cell_type": "code",
   "execution_count": 65,
   "id": "77a1d239",
   "metadata": {
    "execution": {
     "iopub.execute_input": "2022-01-17T20:53:40.422804Z",
     "iopub.status.busy": "2022-01-17T20:53:40.422420Z",
     "iopub.status.idle": "2022-01-17T20:53:40.448918Z",
     "shell.execute_reply": "2022-01-17T20:53:40.448529Z"
    },
    "papermill": {
     "duration": 0.078343,
     "end_time": "2022-01-17T20:53:40.449023",
     "exception": false,
     "start_time": "2022-01-17T20:53:40.370680",
     "status": "completed"
    },
    "tags": []
   },
   "outputs": [],
   "source": [
    "probs_station_df = probs_station_df.unstack()"
   ]
  },
  {
   "cell_type": "code",
   "execution_count": 66,
   "id": "883260ac",
   "metadata": {
    "execution": {
     "iopub.execute_input": "2022-01-17T20:53:40.542868Z",
     "iopub.status.busy": "2022-01-17T20:53:40.542327Z",
     "iopub.status.idle": "2022-01-17T20:53:40.561700Z",
     "shell.execute_reply": "2022-01-17T20:53:40.561350Z"
    },
    "papermill": {
     "duration": 0.067153,
     "end_time": "2022-01-17T20:53:40.561799",
     "exception": false,
     "start_time": "2022-01-17T20:53:40.494646",
     "status": "completed"
    },
    "tags": []
   },
   "outputs": [
    {
     "data": {
      "text/html": [
       "<div>\n",
       "<style scoped>\n",
       "    .dataframe tbody tr th:only-of-type {\n",
       "        vertical-align: middle;\n",
       "    }\n",
       "\n",
       "    .dataframe tbody tr th {\n",
       "        vertical-align: top;\n",
       "    }\n",
       "\n",
       "    .dataframe thead th {\n",
       "        text-align: right;\n",
       "    }\n",
       "</style>\n",
       "<table border=\"1\" class=\"dataframe\">\n",
       "  <thead>\n",
       "    <tr style=\"text-align: right;\">\n",
       "      <th>step</th>\n",
       "      <th>3</th>\n",
       "      <th>4</th>\n",
       "      <th>5</th>\n",
       "    </tr>\n",
       "    <tr>\n",
       "      <th>decile</th>\n",
       "      <th></th>\n",
       "      <th></th>\n",
       "      <th></th>\n",
       "    </tr>\n",
       "  </thead>\n",
       "  <tbody>\n",
       "    <tr>\n",
       "      <th>1</th>\n",
       "      <td>0.301267</td>\n",
       "      <td>0.347893</td>\n",
       "      <td>1.326872</td>\n",
       "    </tr>\n",
       "    <tr>\n",
       "      <th>2</th>\n",
       "      <td>3.136642</td>\n",
       "      <td>1.472416</td>\n",
       "      <td>3.586009</td>\n",
       "    </tr>\n",
       "    <tr>\n",
       "      <th>3</th>\n",
       "      <td>2.903245</td>\n",
       "      <td>5.877045</td>\n",
       "      <td>7.220259</td>\n",
       "    </tr>\n",
       "    <tr>\n",
       "      <th>4</th>\n",
       "      <td>4.230212</td>\n",
       "      <td>5.443103</td>\n",
       "      <td>7.096012</td>\n",
       "    </tr>\n",
       "    <tr>\n",
       "      <th>5</th>\n",
       "      <td>5.616020</td>\n",
       "      <td>12.347270</td>\n",
       "      <td>8.578310</td>\n",
       "    </tr>\n",
       "    <tr>\n",
       "      <th>6</th>\n",
       "      <td>8.038366</td>\n",
       "      <td>11.250063</td>\n",
       "      <td>11.182908</td>\n",
       "    </tr>\n",
       "    <tr>\n",
       "      <th>7</th>\n",
       "      <td>10.975570</td>\n",
       "      <td>10.627348</td>\n",
       "      <td>12.098008</td>\n",
       "    </tr>\n",
       "    <tr>\n",
       "      <th>8</th>\n",
       "      <td>15.750278</td>\n",
       "      <td>12.119462</td>\n",
       "      <td>15.763560</td>\n",
       "    </tr>\n",
       "    <tr>\n",
       "      <th>9</th>\n",
       "      <td>18.941284</td>\n",
       "      <td>16.620516</td>\n",
       "      <td>14.478495</td>\n",
       "    </tr>\n",
       "    <tr>\n",
       "      <th>10</th>\n",
       "      <td>30.107116</td>\n",
       "      <td>23.894885</td>\n",
       "      <td>18.669568</td>\n",
       "    </tr>\n",
       "  </tbody>\n",
       "</table>\n",
       "</div>"
      ],
      "text/plain": [
       "step            3          4          5\n",
       "decile                                 \n",
       "1        0.301267   0.347893   1.326872\n",
       "2        3.136642   1.472416   3.586009\n",
       "3        2.903245   5.877045   7.220259\n",
       "4        4.230212   5.443103   7.096012\n",
       "5        5.616020  12.347270   8.578310\n",
       "6        8.038366  11.250063  11.182908\n",
       "7       10.975570  10.627348  12.098008\n",
       "8       15.750278  12.119462  15.763560\n",
       "9       18.941284  16.620516  14.478495\n",
       "10      30.107116  23.894885  18.669568"
      ]
     },
     "execution_count": 66,
     "metadata": {},
     "output_type": "execute_result"
    }
   ],
   "source": [
    "probs_station_df"
   ]
  },
  {
   "cell_type": "code",
   "execution_count": 67,
   "id": "a5b17235",
   "metadata": {
    "execution": {
     "iopub.execute_input": "2022-01-17T20:53:40.657199Z",
     "iopub.status.busy": "2022-01-17T20:53:40.656860Z",
     "iopub.status.idle": "2022-01-17T20:53:40.672419Z",
     "shell.execute_reply": "2022-01-17T20:53:40.672681Z"
    },
    "papermill": {
     "duration": 0.064848,
     "end_time": "2022-01-17T20:53:40.672804",
     "exception": false,
     "start_time": "2022-01-17T20:53:40.607956",
     "status": "completed"
    },
    "tags": []
   },
   "outputs": [],
   "source": [
    "if period == 'seasonal': \n",
    "    n_steps = 3\n",
    "elif period == 'monthly': \n",
    "    n_steps = 5"
   ]
  },
  {
   "cell_type": "code",
   "execution_count": 68,
   "id": "ad366c7a",
   "metadata": {
    "execution": {
     "iopub.execute_input": "2022-01-17T20:53:40.763622Z",
     "iopub.status.busy": "2022-01-17T20:53:40.763260Z",
     "iopub.status.idle": "2022-01-17T20:53:40.955492Z",
     "shell.execute_reply": "2022-01-17T20:53:40.955131Z"
    },
    "papermill": {
     "duration": 0.237931,
     "end_time": "2022-01-17T20:53:40.955632",
     "exception": false,
     "start_time": "2022-01-17T20:53:40.717701",
     "status": "completed"
    },
    "tags": []
   },
   "outputs": [
    {
     "data": {
      "image/png": "[encoded data removed]",
      "text/plain": [
       "<Figure size 432x360 with 1 Axes>"
      ]
     },
     "metadata": {
      "needs_background": "light"
     },
     "output_type": "display_data"
    }
   ],
   "source": [
    "f, ax = plot.plot_heatmap(probs_station_df, period=period, n_steps=n_steps, year=2022, cmap='Oranges_r', title=f'C3S MME ensemble mean, Nadi', cumsum=False, start_month=month + 1)"
   ]
  },
  {
   "cell_type": "code",
   "execution_count": 69,
   "id": "701f6226",
   "metadata": {
    "execution": {
     "iopub.execute_input": "2022-01-17T20:53:41.068640Z",
     "iopub.status.busy": "2022-01-17T20:53:41.068106Z",
     "iopub.status.idle": "2022-01-17T20:53:41.203177Z",
     "shell.execute_reply": "2022-01-17T20:53:41.202591Z"
    },
    "papermill": {
     "duration": 0.202025,
     "end_time": "2022-01-17T20:53:41.203308",
     "exception": false,
     "start_time": "2022-01-17T20:53:41.001283",
     "status": "completed"
    },
    "tags": []
   },
   "outputs": [],
   "source": [
    "f.savefig(fpath.joinpath(f'{station_name}_{period}_from_{year}_{month}.png'), dpi=200, bbox_inches='tight', facecolor='w')"
   ]
  },
  {
   "cell_type": "code",
   "execution_count": null,
   "id": "80919027-51f4-4c53-b2a1-9540d6b7ef84",
   "metadata": {
    "papermill": {
     "duration": 0.045425,
     "end_time": "2022-01-17T20:53:41.292658",
     "exception": false,
     "start_time": "2022-01-17T20:53:41.247233",
     "status": "completed"
    },
    "tags": []
   },
   "outputs": [],
   "source": []
  },
  {
   "cell_type": "code",
   "execution_count": null,
   "id": "e02ca736-afde-40db-b8e1-8ac635f1cf88",
   "metadata": {
    "papermill": {
     "duration": 0.044397,
     "end_time": "2022-01-17T20:53:41.380843",
     "exception": false,
     "start_time": "2022-01-17T20:53:41.336446",
     "status": "completed"
    },
    "tags": []
   },
   "outputs": [],
   "source": []
  },
  {
   "cell_type": "code",
   "execution_count": null,
   "id": "e5830510-4a11-4672-ad2a-7796585b93c3",
   "metadata": {
    "papermill": {
     "duration": 0.044103,
     "end_time": "2022-01-17T20:53:41.470498",
     "exception": false,
     "start_time": "2022-01-17T20:53:41.426395",
     "status": "completed"
    },
    "tags": []
   },
   "outputs": [],
   "source": []
  }
 ],
 "metadata": {
  "interpreter": {
   "hash": "df53d632f991ae6da976d69f0a13fc423563be07cde77240b1fc66d1fa832155"
  },
  "kernelspec": {
   "display_name": "Python 3",
   "language": "python",
   "name": "python3"
  },
  "language_info": {
   "codemirror_mode": {
    "name": "ipython",
    "version": 3
   },
   "file_extension": ".py",
   "mimetype": "text/x-python",
   "name": "python",
   "nbconvert_exporter": "python",
   "pygments_lexer": "ipython3",
   "version": "3.8.10"
  },
  "papermill": {
   "default_parameters": {},
   "duration": 43.068592,
   "end_time": "2022-01-17T20:53:42.221130",
   "environment_variables": {},
   "exception": null,
   "input_path": "/home/nicolasf/operational/ICU/development/hotspots/code/ICU_Water_Watch/notebooks/C3S/5_map_C3S_MME_probabilistic_decile_forecast.ipynb",
   "output_path": "/home/nicolasf/operational/ICU/development/hotspots/code/ICU_Water_Watch/notebooks/C3S/5_map_C3S_MME_probabilistic_decile_forecast.ipynb",
   "parameters": {
    "date": "this month",
    "lead": 3,
    "period": "seasonal"
   },
   "start_time": "2022-01-17T20:52:59.152538",
   "version": "2.3.3"
  }
 },
 "nbformat": 4,
 "nbformat_minor": 5
}