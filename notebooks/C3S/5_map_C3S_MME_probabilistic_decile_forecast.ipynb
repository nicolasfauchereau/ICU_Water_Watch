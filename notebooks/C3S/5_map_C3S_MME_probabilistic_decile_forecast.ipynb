{
 "cells": [
  {
   "cell_type": "code",
   "execution_count": 1,
   "id": "3c3bb7f3",
   "metadata": {
    "execution": {
     "iopub.execute_input": "2022-03-13T23:12:30.804445Z",
     "iopub.status.busy": "2022-03-13T23:12:30.804102Z",
     "iopub.status.idle": "2022-03-13T23:12:30.812281Z",
     "shell.execute_reply": "2022-03-13T23:12:30.811897Z"
    },
    "papermill": {
     "duration": 0.055349,
     "end_time": "2022-03-13T23:12:30.812385",
     "exception": false,
     "start_time": "2022-03-13T23:12:30.757036",
     "status": "completed"
    },
    "tags": []
   },
   "outputs": [],
   "source": [
    "%load_ext autoreload\n",
    "%autoreload 2"
   ]
  },
  {
   "cell_type": "code",
   "execution_count": 2,
   "id": "e039d488",
   "metadata": {
    "execution": {
     "iopub.execute_input": "2022-03-13T23:12:30.895893Z",
     "iopub.status.busy": "2022-03-13T23:12:30.895530Z",
     "iopub.status.idle": "2022-03-13T23:12:31.128650Z",
     "shell.execute_reply": "2022-03-13T23:12:31.128947Z"
    },
    "papermill": {
     "duration": 0.276993,
     "end_time": "2022-03-13T23:12:31.129077",
     "exception": false,
     "start_time": "2022-03-13T23:12:30.852084",
     "status": "completed"
    },
    "tags": []
   },
   "outputs": [],
   "source": [
    "import matplotlib"
   ]
  },
  {
   "cell_type": "code",
   "execution_count": 3,
   "id": "3eb63822",
   "metadata": {
    "execution": {
     "iopub.execute_input": "2022-03-13T23:12:31.218412Z",
     "iopub.status.busy": "2022-03-13T23:12:31.218042Z",
     "iopub.status.idle": "2022-03-13T23:12:32.947509Z",
     "shell.execute_reply": "2022-03-13T23:12:32.947107Z"
    },
    "papermill": {
     "duration": 1.776242,
     "end_time": "2022-03-13T23:12:32.947662",
     "exception": false,
     "start_time": "2022-03-13T23:12:31.171420",
     "status": "completed"
    },
    "tags": []
   },
   "outputs": [],
   "source": [
    "# %matplotlib widget\n",
    "%matplotlib inline\n",
    "\n",
    "### os \n",
    "import os \n",
    "import sys\n",
    "\n",
    "### datetimes \n",
    "from datetime import datetime, timedelta\n",
    "from dateutil.relativedelta import relativedelta\n",
    "from calendar import month_name, month_abbr\n",
    "import dateparser\n",
    "\n",
    "### scipy \n",
    "import numpy as np \n",
    "import pandas as pd\n",
    "import xarray as xr\n",
    "from cartopy import crs as ccrs\n",
    "\n",
    "### plotting \n",
    "from matplotlib import pyplot as plt\n",
    "import palettable"
   ]
  },
  {
   "cell_type": "code",
   "execution_count": 4,
   "id": "1c902a1d",
   "metadata": {
    "execution": {
     "iopub.execute_input": "2022-03-13T23:12:33.038931Z",
     "iopub.status.busy": "2022-03-13T23:12:33.038511Z",
     "iopub.status.idle": "2022-03-13T23:12:33.053583Z",
     "shell.execute_reply": "2022-03-13T23:12:33.053077Z"
    },
    "papermill": {
     "duration": 0.058722,
     "end_time": "2022-03-13T23:12:33.053708",
     "exception": false,
     "start_time": "2022-03-13T23:12:32.994986",
     "status": "completed"
    },
    "tags": []
   },
   "outputs": [],
   "source": [
    "import pathlib\n",
    "\n",
    "HOME = pathlib.Path.home()\n",
    "CWD = pathlib.Path.cwd() "
   ]
  },
  {
   "cell_type": "markdown",
   "id": "6a2ebc74",
   "metadata": {
    "papermill": {
     "duration": 0.047618,
     "end_time": "2022-03-13T23:12:33.152748",
     "exception": false,
     "start_time": "2022-03-13T23:12:33.105130",
     "status": "completed"
    },
    "tags": []
   },
   "source": [
    "### import local functions for the downloading of the C3S forecasts "
   ]
  },
  {
   "cell_type": "code",
   "execution_count": 5,
   "id": "c55e4025",
   "metadata": {
    "execution": {
     "iopub.execute_input": "2022-03-13T23:12:33.251231Z",
     "iopub.status.busy": "2022-03-13T23:12:33.250829Z",
     "iopub.status.idle": "2022-03-13T23:12:33.265808Z",
     "shell.execute_reply": "2022-03-13T23:12:33.266202Z"
    },
    "papermill": {
     "duration": 0.065907,
     "end_time": "2022-03-13T23:12:33.266338",
     "exception": false,
     "start_time": "2022-03-13T23:12:33.200431",
     "status": "completed"
    },
    "tags": []
   },
   "outputs": [],
   "source": [
    "sys.path.append('../..')"
   ]
  },
  {
   "cell_type": "code",
   "execution_count": 6,
   "id": "4a1333ed",
   "metadata": {
    "execution": {
     "iopub.execute_input": "2022-03-13T23:12:33.366237Z",
     "iopub.status.busy": "2022-03-13T23:12:33.365806Z",
     "iopub.status.idle": "2022-03-13T23:12:46.609490Z",
     "shell.execute_reply": "2022-03-13T23:12:46.608973Z"
    },
    "papermill": {
     "duration": 13.294292,
     "end_time": "2022-03-13T23:12:46.609623",
     "exception": false,
     "start_time": "2022-03-13T23:12:33.315331",
     "status": "completed"
    },
    "tags": []
   },
   "outputs": [
    {
     "name": "stderr",
     "output_type": "stream",
     "text": [
      "/home/nicolasf/mambaforge/envs/ICU_ops/lib/python3.9/site-packages/statsmodels/compat/pandas.py:65: FutureWarning: pandas.Int64Index is deprecated and will be removed from pandas in a future version. Use pandas.Index with the appropriate dtype instead.\n",
      "  from pandas import Int64Index as NumericIndex\n"
     ]
    }
   ],
   "source": [
    "from ICU_Water_Watch import geo, C3S, domains, plot, utils"
   ]
  },
  {
   "cell_type": "code",
   "execution_count": 7,
   "id": "58dfa13b",
   "metadata": {
    "execution": {
     "iopub.execute_input": "2022-03-13T23:12:46.709291Z",
     "iopub.status.busy": "2022-03-13T23:12:46.708706Z",
     "iopub.status.idle": "2022-03-13T23:12:46.734786Z",
     "shell.execute_reply": "2022-03-13T23:12:46.734433Z"
    },
    "papermill": {
     "duration": 0.070268,
     "end_time": "2022-03-13T23:12:46.734910",
     "exception": false,
     "start_time": "2022-03-13T23:12:46.664642",
     "status": "completed"
    },
    "tags": []
   },
   "outputs": [
    {
     "data": {
      "text/plain": [
       "{'Tropical_Pacific': [140, 220, -25, 25],\n",
       " 'SW_Pacific': [172.5, 190, -22.5, -12],\n",
       " 'Fiji': [175, 183, -21, -15],\n",
       " 'NZ': [161, 181, -50, -30],\n",
       " 'Pacific': [140, 240, -50, 25],\n",
       " 'C3S_download': [100, 240, -50, 30],\n",
       " 'Water_Watch': [125, 240, -35, 25]}"
      ]
     },
     "execution_count": 7,
     "metadata": {},
     "output_type": "execute_result"
    }
   ],
   "source": [
    "domains.domains"
   ]
  },
  {
   "cell_type": "markdown",
   "id": "69388ae5",
   "metadata": {
    "papermill": {
     "duration": 0.051891,
     "end_time": "2022-03-13T23:12:46.836129",
     "exception": false,
     "start_time": "2022-03-13T23:12:46.784238",
     "status": "completed"
    },
    "tags": [
     "parameters"
    ]
   },
   "source": [
    "### parameters for papermill"
   ]
  },
  {
   "cell_type": "code",
   "execution_count": 8,
   "id": "b34e282c",
   "metadata": {
    "execution": {
     "iopub.execute_input": "2022-03-13T23:12:46.927892Z",
     "iopub.status.busy": "2022-03-13T23:12:46.927264Z",
     "iopub.status.idle": "2022-03-13T23:12:46.944676Z",
     "shell.execute_reply": "2022-03-13T23:12:46.944327Z"
    },
    "papermill": {
     "duration": 0.064039,
     "end_time": "2022-03-13T23:12:46.944793",
     "exception": false,
     "start_time": "2022-03-13T23:12:46.880754",
     "status": "completed"
    },
    "tags": [
     "injected-parameters"
    ]
   },
   "outputs": [],
   "source": [
    "# Parameters\n",
    "period = \"seasonal\"\n",
    "lead = 3\n",
    "date = \"this month\"\n"
   ]
  },
  {
   "cell_type": "code",
   "execution_count": 9,
   "id": "9669ce54-445f-47ae-af49-2dac923305af",
   "metadata": {
    "execution": {
     "iopub.execute_input": "2022-03-13T23:12:47.032343Z",
     "iopub.status.busy": "2022-03-13T23:12:47.031991Z",
     "iopub.status.idle": "2022-03-13T23:12:47.049496Z",
     "shell.execute_reply": "2022-03-13T23:12:47.049128Z"
    },
    "papermill": {
     "duration": 0.060306,
     "end_time": "2022-03-13T23:12:47.049600",
     "exception": false,
     "start_time": "2022-03-13T23:12:46.989294",
     "status": "completed"
    },
    "tags": [
     "parameters"
    ]
   },
   "outputs": [],
   "source": [
    "domain_name = 'Water_Watch' # domain name \n",
    "date = \"last month\"\n",
    "period = \"seasonal\"\n",
    "lead = 1\n",
    "quantile = 'decile'\n",
    "varname = 'precip'\n",
    "dpath_shapes = '/home/nicolasf/operational/ICU/development/hotspots/data/shapefiles'\n",
    "dpath_forecasts = '/home/nicolasf/operational/ICU/development/hotspots/code/ICU_Water_Watch/outputs/C3S'\n",
    "fpath = '/home/nicolasf/operational/ICU/development/hotspots/code/ICU_Water_Watch/figures/C3S'\n",
    "fpath_web = '/home/nicolasf/operational/ICU_Web/C3S/'"
   ]
  },
  {
   "cell_type": "markdown",
   "id": "8d045738",
   "metadata": {
    "papermill": {
     "duration": 0.040927,
     "end_time": "2022-03-13T23:12:47.131561",
     "exception": false,
     "start_time": "2022-03-13T23:12:47.090634",
     "status": "completed"
    },
    "tags": []
   },
   "source": [
    "### casts the paths to pathlib.Paths "
   ]
  },
  {
   "cell_type": "code",
   "execution_count": 10,
   "id": "55896a49",
   "metadata": {
    "execution": {
     "iopub.execute_input": "2022-03-13T23:12:47.216474Z",
     "iopub.status.busy": "2022-03-13T23:12:47.216081Z",
     "iopub.status.idle": "2022-03-13T23:12:47.232501Z",
     "shell.execute_reply": "2022-03-13T23:12:47.232154Z"
    },
    "papermill": {
     "duration": 0.060499,
     "end_time": "2022-03-13T23:12:47.232610",
     "exception": false,
     "start_time": "2022-03-13T23:12:47.172111",
     "status": "completed"
    },
    "tags": []
   },
   "outputs": [],
   "source": [
    "dpath_shapes = pathlib.Path(dpath_shapes)\n",
    "dpath_forecasts = pathlib.Path(dpath_forecasts)\n",
    "fpath = pathlib.Path(fpath)\n",
    "fpath_web = pathlib.Path(fpath_web)"
   ]
  },
  {
   "cell_type": "markdown",
   "id": "9ff5453a",
   "metadata": {
    "papermill": {
     "duration": 0.046126,
     "end_time": "2022-03-13T23:12:47.324031",
     "exception": false,
     "start_time": "2022-03-13T23:12:47.277905",
     "status": "completed"
    },
    "tags": []
   },
   "source": [
    "### domain "
   ]
  },
  {
   "cell_type": "code",
   "execution_count": 11,
   "id": "597167c6",
   "metadata": {
    "execution": {
     "iopub.execute_input": "2022-03-13T23:12:47.409501Z",
     "iopub.status.busy": "2022-03-13T23:12:47.409136Z",
     "iopub.status.idle": "2022-03-13T23:12:47.425614Z",
     "shell.execute_reply": "2022-03-13T23:12:47.425271Z"
    },
    "papermill": {
     "duration": 0.060303,
     "end_time": "2022-03-13T23:12:47.425729",
     "exception": false,
     "start_time": "2022-03-13T23:12:47.365426",
     "status": "completed"
    },
    "tags": []
   },
   "outputs": [],
   "source": [
    "domain = domains.domains[domain_name]"
   ]
  },
  {
   "cell_type": "markdown",
   "id": "637862d4",
   "metadata": {
    "papermill": {
     "duration": 0.046344,
     "end_time": "2022-03-13T23:12:47.517784",
     "exception": false,
     "start_time": "2022-03-13T23:12:47.471440",
     "status": "completed"
    },
    "tags": []
   },
   "source": [
    "### EEZ shapes "
   ]
  },
  {
   "cell_type": "code",
   "execution_count": 12,
   "id": "39d1c009",
   "metadata": {
    "execution": {
     "iopub.execute_input": "2022-03-13T23:12:47.609125Z",
     "iopub.status.busy": "2022-03-13T23:12:47.608697Z",
     "iopub.status.idle": "2022-03-13T23:12:47.643967Z",
     "shell.execute_reply": "2022-03-13T23:12:47.643649Z"
    },
    "papermill": {
     "duration": 0.082437,
     "end_time": "2022-03-13T23:12:47.644078",
     "exception": false,
     "start_time": "2022-03-13T23:12:47.561641",
     "status": "completed"
    },
    "tags": []
   },
   "outputs": [],
   "source": [
    "EEZs, merged_EEZs = geo.get_EEZs(dpath_shapes)"
   ]
  },
  {
   "cell_type": "markdown",
   "id": "715b1331",
   "metadata": {
    "papermill": {
     "duration": 0.046481,
     "end_time": "2022-03-13T23:12:47.731929",
     "exception": false,
     "start_time": "2022-03-13T23:12:47.685448",
     "status": "completed"
    },
    "tags": []
   },
   "source": [
    "### year and month (initial month of the forecast)"
   ]
  },
  {
   "cell_type": "code",
   "execution_count": 13,
   "id": "a79a33a0",
   "metadata": {
    "execution": {
     "iopub.execute_input": "2022-03-13T23:12:47.826911Z",
     "iopub.status.busy": "2022-03-13T23:12:47.826547Z",
     "iopub.status.idle": "2022-03-13T23:12:47.862798Z",
     "shell.execute_reply": "2022-03-13T23:12:47.862412Z"
    },
    "papermill": {
     "duration": 0.084152,
     "end_time": "2022-03-13T23:12:47.862905",
     "exception": false,
     "start_time": "2022-03-13T23:12:47.778753",
     "status": "completed"
    },
    "tags": []
   },
   "outputs": [],
   "source": [
    "year = dateparser.parse(date).year"
   ]
  },
  {
   "cell_type": "code",
   "execution_count": 14,
   "id": "8d6fc95f",
   "metadata": {
    "execution": {
     "iopub.execute_input": "2022-03-13T23:12:47.956263Z",
     "iopub.status.busy": "2022-03-13T23:12:47.955912Z",
     "iopub.status.idle": "2022-03-13T23:12:47.974392Z",
     "shell.execute_reply": "2022-03-13T23:12:47.974071Z"
    },
    "papermill": {
     "duration": 0.066283,
     "end_time": "2022-03-13T23:12:47.974496",
     "exception": false,
     "start_time": "2022-03-13T23:12:47.908213",
     "status": "completed"
    },
    "tags": []
   },
   "outputs": [],
   "source": [
    "month = dateparser.parse(date).month"
   ]
  },
  {
   "cell_type": "code",
   "execution_count": 15,
   "id": "23436f94",
   "metadata": {
    "execution": {
     "iopub.execute_input": "2022-03-13T23:12:48.066327Z",
     "iopub.status.busy": "2022-03-13T23:12:48.065633Z",
     "iopub.status.idle": "2022-03-13T23:12:48.082884Z",
     "shell.execute_reply": "2022-03-13T23:12:48.082596Z"
    },
    "papermill": {
     "duration": 0.067121,
     "end_time": "2022-03-13T23:12:48.082987",
     "exception": false,
     "start_time": "2022-03-13T23:12:48.015866",
     "status": "completed"
    },
    "tags": []
   },
   "outputs": [
    {
     "name": "stdout",
     "output_type": "stream",
     "text": [
      "2022 - 2\n"
     ]
    }
   ],
   "source": [
    "print(f\"{year} - {month}\")"
   ]
  },
  {
   "cell_type": "markdown",
   "id": "b28585f6",
   "metadata": {
    "papermill": {
     "duration": 0.0513,
     "end_time": "2022-03-13T23:12:48.174657",
     "exception": false,
     "start_time": "2022-03-13T23:12:48.123357",
     "status": "completed"
    },
    "tags": []
   },
   "source": [
    "### provider "
   ]
  },
  {
   "cell_type": "code",
   "execution_count": 16,
   "id": "9dbe585c",
   "metadata": {
    "execution": {
     "iopub.execute_input": "2022-03-13T23:12:48.265992Z",
     "iopub.status.busy": "2022-03-13T23:12:48.265629Z",
     "iopub.status.idle": "2022-03-13T23:12:48.290163Z",
     "shell.execute_reply": "2022-03-13T23:12:48.289843Z"
    },
    "papermill": {
     "duration": 0.070764,
     "end_time": "2022-03-13T23:12:48.290266",
     "exception": false,
     "start_time": "2022-03-13T23:12:48.219502",
     "status": "completed"
    },
    "tags": []
   },
   "outputs": [],
   "source": [
    "provider = 'CDS'"
   ]
  },
  {
   "cell_type": "markdown",
   "id": "1c9955f7",
   "metadata": {
    "papermill": {
     "duration": 0.051508,
     "end_time": "2022-03-13T23:12:48.383177",
     "exception": false,
     "start_time": "2022-03-13T23:12:48.331669",
     "status": "completed"
    },
    "tags": []
   },
   "source": [
    "#### list of GCMs to inlude "
   ]
  },
  {
   "cell_type": "code",
   "execution_count": 17,
   "id": "727dd670",
   "metadata": {
    "execution": {
     "iopub.execute_input": "2022-03-13T23:12:48.467099Z",
     "iopub.status.busy": "2022-03-13T23:12:48.466730Z",
     "iopub.status.idle": "2022-03-13T23:12:48.483968Z",
     "shell.execute_reply": "2022-03-13T23:12:48.484277Z"
    },
    "papermill": {
     "duration": 0.060635,
     "end_time": "2022-03-13T23:12:48.484425",
     "exception": false,
     "start_time": "2022-03-13T23:12:48.423790",
     "status": "completed"
    },
    "tags": []
   },
   "outputs": [],
   "source": [
    "list_GCMs = ['ECMWF','UKMO','METEO_FRANCE','CMCC','DWD', 'NCEP', 'JMA', 'ECCC_CanCM4i', 'ECCC_GEM_NEMO']"
   ]
  },
  {
   "cell_type": "markdown",
   "id": "d4744c4d",
   "metadata": {
    "papermill": {
     "duration": 0.041381,
     "end_time": "2022-03-13T23:12:48.566618",
     "exception": false,
     "start_time": "2022-03-13T23:12:48.525237",
     "status": "completed"
    },
    "tags": []
   },
   "source": [
    "### what is the first step and the number of steps in either the monthly or seasonal forecasts "
   ]
  },
  {
   "cell_type": "code",
   "execution_count": 18,
   "id": "de1163fc",
   "metadata": {
    "execution": {
     "iopub.execute_input": "2022-03-13T23:12:48.651018Z",
     "iopub.status.busy": "2022-03-13T23:12:48.650665Z",
     "iopub.status.idle": "2022-03-13T23:12:48.667602Z",
     "shell.execute_reply": "2022-03-13T23:12:48.667287Z"
    },
    "papermill": {
     "duration": 0.060476,
     "end_time": "2022-03-13T23:12:48.667714",
     "exception": false,
     "start_time": "2022-03-13T23:12:48.607238",
     "status": "completed"
    },
    "tags": []
   },
   "outputs": [],
   "source": [
    "if period == 'seasonal': \n",
    "    nsteps = 3\n",
    "    first_step = 3\n",
    "elif period == 'monthly': \n",
    "    nsteps = 5\n",
    "    first_step = 1"
   ]
  },
  {
   "cell_type": "code",
   "execution_count": 19,
   "id": "b94416aa",
   "metadata": {
    "execution": {
     "iopub.execute_input": "2022-03-13T23:12:48.752595Z",
     "iopub.status.busy": "2022-03-13T23:12:48.751944Z",
     "iopub.status.idle": "2022-03-13T23:12:48.769065Z",
     "shell.execute_reply": "2022-03-13T23:12:48.768652Z"
    },
    "papermill": {
     "duration": 0.060385,
     "end_time": "2022-03-13T23:12:48.769173",
     "exception": false,
     "start_time": "2022-03-13T23:12:48.708788",
     "status": "completed"
    },
    "tags": []
   },
   "outputs": [],
   "source": [
    "step = lead + first_step - 1"
   ]
  },
  {
   "cell_type": "code",
   "execution_count": 20,
   "id": "46081778",
   "metadata": {
    "execution": {
     "iopub.execute_input": "2022-03-13T23:12:48.862654Z",
     "iopub.status.busy": "2022-03-13T23:12:48.862308Z",
     "iopub.status.idle": "2022-03-13T23:12:48.879926Z",
     "shell.execute_reply": "2022-03-13T23:12:48.879613Z"
    },
    "papermill": {
     "duration": 0.065382,
     "end_time": "2022-03-13T23:12:48.880039",
     "exception": false,
     "start_time": "2022-03-13T23:12:48.814657",
     "status": "completed"
    },
    "tags": []
   },
   "outputs": [
    {
     "data": {
      "text/plain": [
       "3"
      ]
     },
     "execution_count": 20,
     "metadata": {},
     "output_type": "execute_result"
    }
   ],
   "source": [
    "step"
   ]
  },
  {
   "cell_type": "markdown",
   "id": "c7cba0b6",
   "metadata": {
    "papermill": {
     "duration": 0.045019,
     "end_time": "2022-03-13T23:12:48.971706",
     "exception": false,
     "start_time": "2022-03-13T23:12:48.926687",
     "status": "completed"
    },
    "tags": []
   },
   "source": [
    "### paths to the realtime forecasts"
   ]
  },
  {
   "cell_type": "code",
   "execution_count": 21,
   "id": "f4c44626",
   "metadata": {
    "execution": {
     "iopub.execute_input": "2022-03-13T23:12:49.066768Z",
     "iopub.status.busy": "2022-03-13T23:12:49.066418Z",
     "iopub.status.idle": "2022-03-13T23:12:49.084025Z",
     "shell.execute_reply": "2022-03-13T23:12:49.083641Z"
    },
    "papermill": {
     "duration": 0.066564,
     "end_time": "2022-03-13T23:12:49.084130",
     "exception": false,
     "start_time": "2022-03-13T23:12:49.017566",
     "status": "completed"
    },
    "tags": []
   },
   "outputs": [],
   "source": [
    "dpath_forecasts = CWD.parents[1].joinpath(\"outputs/C3S\")"
   ]
  },
  {
   "cell_type": "code",
   "execution_count": 22,
   "id": "d603efab",
   "metadata": {
    "execution": {
     "iopub.execute_input": "2022-03-13T23:12:49.171170Z",
     "iopub.status.busy": "2022-03-13T23:12:49.170811Z",
     "iopub.status.idle": "2022-03-13T23:12:49.188113Z",
     "shell.execute_reply": "2022-03-13T23:12:49.188392Z"
    },
    "papermill": {
     "duration": 0.063073,
     "end_time": "2022-03-13T23:12:49.188514",
     "exception": false,
     "start_time": "2022-03-13T23:12:49.125441",
     "status": "completed"
    },
    "tags": []
   },
   "outputs": [
    {
     "data": {
      "text/plain": [
       "PosixPath('/home/nicolasf/operational/ICU/development/hotspots/code/ICU_Water_Watch/outputs/C3S')"
      ]
     },
     "execution_count": 22,
     "metadata": {},
     "output_type": "execute_result"
    }
   ],
   "source": [
    "dpath_forecasts"
   ]
  },
  {
   "cell_type": "code",
   "execution_count": 23,
   "id": "fc86f837",
   "metadata": {
    "execution": {
     "iopub.execute_input": "2022-03-13T23:12:49.281535Z",
     "iopub.status.busy": "2022-03-13T23:12:49.281186Z",
     "iopub.status.idle": "2022-03-13T23:12:49.300092Z",
     "shell.execute_reply": "2022-03-13T23:12:49.299721Z"
    },
    "papermill": {
     "duration": 0.067753,
     "end_time": "2022-03-13T23:12:49.300198",
     "exception": false,
     "start_time": "2022-03-13T23:12:49.232445",
     "status": "completed"
    },
    "tags": []
   },
   "outputs": [],
   "source": [
    "lfiles = list(dpath_forecasts.glob(f\"{period}_{quantile}s_probabilities_from_{year}-{str(month).zfill(2)}_*.netcdf\"))"
   ]
  },
  {
   "cell_type": "markdown",
   "id": "7f22329c",
   "metadata": {
    "papermill": {
     "duration": 0.046974,
     "end_time": "2022-03-13T23:12:49.391906",
     "exception": false,
     "start_time": "2022-03-13T23:12:49.344932",
     "status": "completed"
    },
    "tags": []
   },
   "source": [
    "### checks the files names "
   ]
  },
  {
   "cell_type": "code",
   "execution_count": 24,
   "id": "3145dc3d",
   "metadata": {
    "execution": {
     "iopub.execute_input": "2022-03-13T23:12:49.487681Z",
     "iopub.status.busy": "2022-03-13T23:12:49.487287Z",
     "iopub.status.idle": "2022-03-13T23:12:49.504766Z",
     "shell.execute_reply": "2022-03-13T23:12:49.504437Z"
    },
    "papermill": {
     "duration": 0.067073,
     "end_time": "2022-03-13T23:12:49.504877",
     "exception": false,
     "start_time": "2022-03-13T23:12:49.437804",
     "status": "completed"
    },
    "tags": []
   },
   "outputs": [
    {
     "data": {
      "text/plain": [
       "['seasonal_deciles_probabilities_from_2022-02_ECCC_CanCM4i.netcdf',\n",
       " 'seasonal_deciles_probabilities_from_2022-02_ECMWF.netcdf',\n",
       " 'seasonal_deciles_probabilities_from_2022-02_UKMO.netcdf',\n",
       " 'seasonal_deciles_probabilities_from_2022-02_METEO_FRANCE.netcdf',\n",
       " 'seasonal_deciles_probabilities_from_2022-02_CMCC.netcdf',\n",
       " 'seasonal_deciles_probabilities_from_2022-02_JMA.netcdf',\n",
       " 'seasonal_deciles_probabilities_from_2022-02_ECCC_GEM_NEMO.netcdf',\n",
       " 'seasonal_deciles_probabilities_from_2022-02_NCEP.netcdf',\n",
       " 'seasonal_deciles_probabilities_from_2022-02_DWD.netcdf']"
      ]
     },
     "execution_count": 24,
     "metadata": {},
     "output_type": "execute_result"
    }
   ],
   "source": [
    "[f.name for f in lfiles]"
   ]
  },
  {
   "cell_type": "markdown",
   "id": "998d717b",
   "metadata": {
    "papermill": {
     "duration": 0.043139,
     "end_time": "2022-03-13T23:12:49.611273",
     "exception": false,
     "start_time": "2022-03-13T23:12:49.568134",
     "status": "completed"
    },
    "tags": []
   },
   "source": [
    "### open the multiple files dataset, concatenate along the \"GCM\" dimension "
   ]
  },
  {
   "cell_type": "code",
   "execution_count": 25,
   "id": "cbfb2f51",
   "metadata": {
    "execution": {
     "iopub.execute_input": "2022-03-13T23:12:49.697894Z",
     "iopub.status.busy": "2022-03-13T23:12:49.697534Z",
     "iopub.status.idle": "2022-03-13T23:12:49.852183Z",
     "shell.execute_reply": "2022-03-13T23:12:49.852452Z"
    },
    "papermill": {
     "duration": 0.199596,
     "end_time": "2022-03-13T23:12:49.852578",
     "exception": false,
     "start_time": "2022-03-13T23:12:49.652982",
     "status": "completed"
    },
    "tags": []
   },
   "outputs": [],
   "source": [
    "probs = xr.open_mfdataset(lfiles, concat_dim='GCM', combine='nested', engine='netcdf4') "
   ]
  },
  {
   "cell_type": "code",
   "execution_count": 26,
   "id": "a6400684",
   "metadata": {
    "execution": {
     "iopub.execute_input": "2022-03-13T23:12:49.940058Z",
     "iopub.status.busy": "2022-03-13T23:12:49.939655Z",
     "iopub.status.idle": "2022-03-13T23:12:49.973843Z",
     "shell.execute_reply": "2022-03-13T23:12:49.974108Z"
    },
    "papermill": {
     "duration": 0.080291,
     "end_time": "2022-03-13T23:12:49.974229",
     "exception": false,
     "start_time": "2022-03-13T23:12:49.893938",
     "status": "completed"
    },
    "tags": []
   },
   "outputs": [
    {
     "data": {
      "text/html": [
       "<div><svg style=\"position: absolute; width: 0; height: 0; overflow: hidden\">\n",
       "<defs>\n",
       "<symbol id=\"icon-database\" viewBox=\"0 0 32 32\">\n",
       "<path d=\"M16 0c-8.837 0-16 2.239-16 5v4c0 2.761 7.163 5 16 5s16-2.239 16-5v-4c0-2.761-7.163-5-16-5z\"></path>\n",
       "<path d=\"M16 17c-8.837 0-16-2.239-16-5v6c0 2.761 7.163 5 16 5s16-2.239 16-5v-6c0 2.761-7.163 5-16 5z\"></path>\n",
       "<path d=\"M16 26c-8.837 0-16-2.239-16-5v6c0 2.761 7.163 5 16 5s16-2.239 16-5v-6c0 2.761-7.163 5-16 5z\"></path>\n",
       "</symbol>\n",
       "<symbol id=\"icon-file-text2\" viewBox=\"0 0 32 32\">\n",
       "<path d=\"M28.681 7.159c-0.694-0.947-1.662-2.053-2.724-3.116s-2.169-2.030-3.116-2.724c-1.612-1.182-2.393-1.319-2.841-1.319h-15.5c-1.378 0-2.5 1.121-2.5 2.5v27c0 1.378 1.122 2.5 2.5 2.5h23c1.378 0 2.5-1.122 2.5-2.5v-19.5c0-0.448-0.137-1.23-1.319-2.841zM24.543 5.457c0.959 0.959 1.712 1.825 2.268 2.543h-4.811v-4.811c0.718 0.556 1.584 1.309 2.543 2.268zM28 29.5c0 0.271-0.229 0.5-0.5 0.5h-23c-0.271 0-0.5-0.229-0.5-0.5v-27c0-0.271 0.229-0.5 0.5-0.5 0 0 15.499-0 15.5 0v7c0 0.552 0.448 1 1 1h7v19.5z\"></path>\n",
       "<path d=\"M23 26h-14c-0.552 0-1-0.448-1-1s0.448-1 1-1h14c0.552 0 1 0.448 1 1s-0.448 1-1 1z\"></path>\n",
       "<path d=\"M23 22h-14c-0.552 0-1-0.448-1-1s0.448-1 1-1h14c0.552 0 1 0.448 1 1s-0.448 1-1 1z\"></path>\n",
       "<path d=\"M23 18h-14c-0.552 0-1-0.448-1-1s0.448-1 1-1h14c0.552 0 1 0.448 1 1s-0.448 1-1 1z\"></path>\n",
       "</symbol>\n",
       "</defs>\n",
       "</svg>\n",
       "<style>/* CSS stylesheet for displaying xarray objects in jupyterlab.\n",
       " *\n",
       " */\n",
       "\n",
       ":root {\n",
       "  --xr-font-color0: var(--jp-content-font-color0, rgba(0, 0, 0, 1));\n",
       "  --xr-font-color2: var(--jp-content-font-color2, rgba(0, 0, 0, 0.54));\n",
       "  --xr-font-color3: var(--jp-content-font-color3, rgba(0, 0, 0, 0.38));\n",
       "  --xr-border-color: var(--jp-border-color2, #e0e0e0);\n",
       "  --xr-disabled-color: var(--jp-layout-color3, #bdbdbd);\n",
       "  --xr-background-color: var(--jp-layout-color0, white);\n",
       "  --xr-background-color-row-even: var(--jp-layout-color1, white);\n",
       "  --xr-background-color-row-odd: var(--jp-layout-color2, #eeeeee);\n",
       "}\n",
       "\n",
       "html[theme=dark],\n",
       "body.vscode-dark {\n",
       "  --xr-font-color0: rgba(255, 255, 255, 1);\n",
       "  --xr-font-color2: rgba(255, 255, 255, 0.54);\n",
       "  --xr-font-color3: rgba(255, 255, 255, 0.38);\n",
       "  --xr-border-color: #1F1F1F;\n",
       "  --xr-disabled-color: #515151;\n",
       "  --xr-background-color: #111111;\n",
       "  --xr-background-color-row-even: #111111;\n",
       "  --xr-background-color-row-odd: #313131;\n",
       "}\n",
       "\n",
       ".xr-wrap {\n",
       "  display: block !important;\n",
       "  min-width: 300px;\n",
       "  max-width: 700px;\n",
       "}\n",
       "\n",
       ".xr-text-repr-fallback {\n",
       "  /* fallback to plain text repr when CSS is not injected (untrusted notebook) */\n",
       "  display: none;\n",
       "}\n",
       "\n",
       ".xr-header {\n",
       "  padding-top: 6px;\n",
       "  padding-bottom: 6px;\n",
       "  margin-bottom: 4px;\n",
       "  border-bottom: solid 1px var(--xr-border-color);\n",
       "}\n",
       "\n",
       ".xr-header > div,\n",
       ".xr-header > ul {\n",
       "  display: inline;\n",
       "  margin-top: 0;\n",
       "  margin-bottom: 0;\n",
       "}\n",
       "\n",
       ".xr-obj-type,\n",
       ".xr-array-name {\n",
       "  margin-left: 2px;\n",
       "  margin-right: 10px;\n",
       "}\n",
       "\n",
       ".xr-obj-type {\n",
       "  color: var(--xr-font-color2);\n",
       "}\n",
       "\n",
       ".xr-sections {\n",
       "  padding-left: 0 !important;\n",
       "  display: grid;\n",
       "  grid-template-columns: 150px auto auto 1fr 20px 20px;\n",
       "}\n",
       "\n",
       ".xr-section-item {\n",
       "  display: contents;\n",
       "}\n",
       "\n",
       ".xr-section-item input {\n",
       "  display: none;\n",
       "}\n",
       "\n",
       ".xr-section-item input + label {\n",
       "  color: var(--xr-disabled-color);\n",
       "}\n",
       "\n",
       ".xr-section-item input:enabled + label {\n",
       "  cursor: pointer;\n",
       "  color: var(--xr-font-color2);\n",
       "}\n",
       "\n",
       ".xr-section-item input:enabled + label:hover {\n",
       "  color: var(--xr-font-color0);\n",
       "}\n",
       "\n",
       ".xr-section-summary {\n",
       "  grid-column: 1;\n",
       "  color: var(--xr-font-color2);\n",
       "  font-weight: 500;\n",
       "}\n",
       "\n",
       ".xr-section-summary > span {\n",
       "  display: inline-block;\n",
       "  padding-left: 0.5em;\n",
       "}\n",
       "\n",
       ".xr-section-summary-in:disabled + label {\n",
       "  color: var(--xr-font-color2);\n",
       "}\n",
       "\n",
       ".xr-section-summary-in + label:before {\n",
       "  display: inline-block;\n",
       "  content: '►';\n",
       "  font-size: 11px;\n",
       "  width: 15px;\n",
       "  text-align: center;\n",
       "}\n",
       "\n",
       ".xr-section-summary-in:disabled + label:before {\n",
       "  color: var(--xr-disabled-color);\n",
       "}\n",
       "\n",
       ".xr-section-summary-in:checked + label:before {\n",
       "  content: '▼';\n",
       "}\n",
       "\n",
       ".xr-section-summary-in:checked + label > span {\n",
       "  display: none;\n",
       "}\n",
       "\n",
       ".xr-section-summary,\n",
       ".xr-section-inline-details {\n",
       "  padding-top: 4px;\n",
       "  padding-bottom: 4px;\n",
       "}\n",
       "\n",
       ".xr-section-inline-details {\n",
       "  grid-column: 2 / -1;\n",
       "}\n",
       "\n",
       ".xr-section-details {\n",
       "  display: none;\n",
       "  grid-column: 1 / -1;\n",
       "  margin-bottom: 5px;\n",
       "}\n",
       "\n",
       ".xr-section-summary-in:checked ~ .xr-section-details {\n",
       "  display: contents;\n",
       "}\n",
       "\n",
       ".xr-array-wrap {\n",
       "  grid-column: 1 / -1;\n",
       "  display: grid;\n",
       "  grid-template-columns: 20px auto;\n",
       "}\n",
       "\n",
       ".xr-array-wrap > label {\n",
       "  grid-column: 1;\n",
       "  vertical-align: top;\n",
       "}\n",
       "\n",
       ".xr-preview {\n",
       "  color: var(--xr-font-color3);\n",
       "}\n",
       "\n",
       ".xr-array-preview,\n",
       ".xr-array-data {\n",
       "  padding: 0 5px !important;\n",
       "  grid-column: 2;\n",
       "}\n",
       "\n",
       ".xr-array-data,\n",
       ".xr-array-in:checked ~ .xr-array-preview {\n",
       "  display: none;\n",
       "}\n",
       "\n",
       ".xr-array-in:checked ~ .xr-array-data,\n",
       ".xr-array-preview {\n",
       "  display: inline-block;\n",
       "}\n",
       "\n",
       ".xr-dim-list {\n",
       "  display: inline-block !important;\n",
       "  list-style: none;\n",
       "  padding: 0 !important;\n",
       "  margin: 0;\n",
       "}\n",
       "\n",
       ".xr-dim-list li {\n",
       "  display: inline-block;\n",
       "  padding: 0;\n",
       "  margin: 0;\n",
       "}\n",
       "\n",
       ".xr-dim-list:before {\n",
       "  content: '(';\n",
       "}\n",
       "\n",
       ".xr-dim-list:after {\n",
       "  content: ')';\n",
       "}\n",
       "\n",
       ".xr-dim-list li:not(:last-child):after {\n",
       "  content: ',';\n",
       "  padding-right: 5px;\n",
       "}\n",
       "\n",
       ".xr-has-index {\n",
       "  font-weight: bold;\n",
       "}\n",
       "\n",
       ".xr-var-list,\n",
       ".xr-var-item {\n",
       "  display: contents;\n",
       "}\n",
       "\n",
       ".xr-var-item > div,\n",
       ".xr-var-item label,\n",
       ".xr-var-item > .xr-var-name span {\n",
       "  background-color: var(--xr-background-color-row-even);\n",
       "  margin-bottom: 0;\n",
       "}\n",
       "\n",
       ".xr-var-item > .xr-var-name:hover span {\n",
       "  padding-right: 5px;\n",
       "}\n",
       "\n",
       ".xr-var-list > li:nth-child(odd) > div,\n",
       ".xr-var-list > li:nth-child(odd) > label,\n",
       ".xr-var-list > li:nth-child(odd) > .xr-var-name span {\n",
       "  background-color: var(--xr-background-color-row-odd);\n",
       "}\n",
       "\n",
       ".xr-var-name {\n",
       "  grid-column: 1;\n",
       "}\n",
       "\n",
       ".xr-var-dims {\n",
       "  grid-column: 2;\n",
       "}\n",
       "\n",
       ".xr-var-dtype {\n",
       "  grid-column: 3;\n",
       "  text-align: right;\n",
       "  color: var(--xr-font-color2);\n",
       "}\n",
       "\n",
       ".xr-var-preview {\n",
       "  grid-column: 4;\n",
       "}\n",
       "\n",
       ".xr-var-name,\n",
       ".xr-var-dims,\n",
       ".xr-var-dtype,\n",
       ".xr-preview,\n",
       ".xr-attrs dt {\n",
       "  white-space: nowrap;\n",
       "  overflow: hidden;\n",
       "  text-overflow: ellipsis;\n",
       "  padding-right: 10px;\n",
       "}\n",
       "\n",
       ".xr-var-name:hover,\n",
       ".xr-var-dims:hover,\n",
       ".xr-var-dtype:hover,\n",
       ".xr-attrs dt:hover {\n",
       "  overflow: visible;\n",
       "  width: auto;\n",
       "  z-index: 1;\n",
       "}\n",
       "\n",
       ".xr-var-attrs,\n",
       ".xr-var-data {\n",
       "  display: none;\n",
       "  background-color: var(--xr-background-color) !important;\n",
       "  padding-bottom: 5px !important;\n",
       "}\n",
       "\n",
       ".xr-var-attrs-in:checked ~ .xr-var-attrs,\n",
       ".xr-var-data-in:checked ~ .xr-var-data {\n",
       "  display: block;\n",
       "}\n",
       "\n",
       ".xr-var-data > table {\n",
       "  float: right;\n",
       "}\n",
       "\n",
       ".xr-var-name span,\n",
       ".xr-var-data,\n",
       ".xr-attrs {\n",
       "  padding-left: 25px !important;\n",
       "}\n",
       "\n",
       ".xr-attrs,\n",
       ".xr-var-attrs,\n",
       ".xr-var-data {\n",
       "  grid-column: 1 / -1;\n",
       "}\n",
       "\n",
       "dl.xr-attrs {\n",
       "  padding: 0;\n",
       "  margin: 0;\n",
       "  display: grid;\n",
       "  grid-template-columns: 125px auto;\n",
       "}\n",
       "\n",
       ".xr-attrs dt,\n",
       ".xr-attrs dd {\n",
       "  padding: 0;\n",
       "  margin: 0;\n",
       "  float: left;\n",
       "  padding-right: 10px;\n",
       "  width: auto;\n",
       "}\n",
       "\n",
       ".xr-attrs dt {\n",
       "  font-weight: normal;\n",
       "  grid-column: 1;\n",
       "}\n",
       "\n",
       ".xr-attrs dt:hover span {\n",
       "  display: inline-block;\n",
       "  background: var(--xr-background-color);\n",
       "  padding-right: 10px;\n",
       "}\n",
       "\n",
       ".xr-attrs dd {\n",
       "  grid-column: 2;\n",
       "  white-space: pre-wrap;\n",
       "  word-break: break-all;\n",
       "}\n",
       "\n",
       ".xr-icon-database,\n",
       ".xr-icon-file-text2 {\n",
       "  display: inline-block;\n",
       "  vertical-align: middle;\n",
       "  width: 1em;\n",
       "  height: 1.5em !important;\n",
       "  stroke-width: 0;\n",
       "  stroke: currentColor;\n",
       "  fill: currentColor;\n",
       "}\n",
       "</style><pre class='xr-text-repr-fallback'>&lt;xarray.Dataset&gt;\n",
       "Dimensions:  (GCM: 9, decile: 10, time: 1, step: 3, lat: 81, lon: 121)\n",
       "Coordinates:\n",
       "  * GCM      (GCM) object &#x27;ECCC_CanCM4i&#x27; &#x27;ECMWF&#x27; &#x27;UKMO&#x27; ... &#x27;NCEP&#x27; &#x27;DWD&#x27;\n",
       "  * time     (time) datetime64[ns] 2022-02-01\n",
       "  * lon      (lon) float32 120.0 121.0 122.0 123.0 ... 237.0 238.0 239.0 240.0\n",
       "  * lat      (lat) float32 -50.0 -49.0 -48.0 -47.0 -46.0 ... 27.0 28.0 29.0 30.0\n",
       "  * step     (step) int64 3 4 5\n",
       "    month    int64 2\n",
       "  * decile   (decile) int64 1 2 3 4 5 6 7 8 9 10\n",
       "Data variables:\n",
       "    precip   (GCM, decile, time, step, lat, lon) float64 dask.array&lt;chunksize=(1, 10, 1, 3, 81, 121), meta=np.ndarray&gt;\n",
       "Attributes:\n",
       "    pct_values:  [0.1 0.2 0.3 0.4 0.5 0.6 0.7 0.8 0.9]</pre><div class='xr-wrap' style='display:none'><div class='xr-header'><div class='xr-obj-type'>xarray.Dataset</div></div><ul class='xr-sections'><li class='xr-section-item'><input id='section-a48fed6c-2ee0-4bad-8eb5-95e19707082a' class='xr-section-summary-in' type='checkbox' disabled ><label for='section-a48fed6c-2ee0-4bad-8eb5-95e19707082a' class='xr-section-summary'  title='Expand/collapse section'>Dimensions:</label><div class='xr-section-inline-details'><ul class='xr-dim-list'><li><span class='xr-has-index'>GCM</span>: 9</li><li><span class='xr-has-index'>decile</span>: 10</li><li><span class='xr-has-index'>time</span>: 1</li><li><span class='xr-has-index'>step</span>: 3</li><li><span class='xr-has-index'>lat</span>: 81</li><li><span class='xr-has-index'>lon</span>: 121</li></ul></div><div class='xr-section-details'></div></li><li class='xr-section-item'><input id='section-cb1423ac-14b4-4a68-a1fb-acf6ada7cfbd' class='xr-section-summary-in' type='checkbox'  checked><label for='section-cb1423ac-14b4-4a68-a1fb-acf6ada7cfbd' class='xr-section-summary' >Coordinates: <span>(7)</span></label><div class='xr-section-inline-details'></div><div class='xr-section-details'><ul class='xr-var-list'><li class='xr-var-item'><div class='xr-var-name'><span class='xr-has-index'>GCM</span></div><div class='xr-var-dims'>(GCM)</div><div class='xr-var-dtype'>object</div><div class='xr-var-preview xr-preview'>&#x27;ECCC_CanCM4i&#x27; &#x27;ECMWF&#x27; ... &#x27;DWD&#x27;</div><input id='attrs-23f9a8b7-2b70-4055-8c5a-9aff3e356be9' class='xr-var-attrs-in' type='checkbox' disabled><label for='attrs-23f9a8b7-2b70-4055-8c5a-9aff3e356be9' title='Show/Hide attributes'><svg class='icon xr-icon-file-text2'><use xlink:href='#icon-file-text2'></use></svg></label><input id='data-9fd1fd3f-f79c-43ab-af86-e8d03d719f2d' class='xr-var-data-in' type='checkbox'><label for='data-9fd1fd3f-f79c-43ab-af86-e8d03d719f2d' title='Show/Hide data repr'><svg class='icon xr-icon-database'><use xlink:href='#icon-database'></use></svg></label><div class='xr-var-attrs'><dl class='xr-attrs'></dl></div><div class='xr-var-data'><pre>array([&#x27;ECCC_CanCM4i&#x27;, &#x27;ECMWF&#x27;, &#x27;UKMO&#x27;, &#x27;METEO_FRANCE&#x27;, &#x27;CMCC&#x27;, &#x27;JMA&#x27;,\n",
       "       &#x27;ECCC_GEM_NEMO&#x27;, &#x27;NCEP&#x27;, &#x27;DWD&#x27;], dtype=object)</pre></div></li><li class='xr-var-item'><div class='xr-var-name'><span class='xr-has-index'>time</span></div><div class='xr-var-dims'>(time)</div><div class='xr-var-dtype'>datetime64[ns]</div><div class='xr-var-preview xr-preview'>2022-02-01</div><input id='attrs-dd8c0726-d1d4-426a-aa30-c9ce38950458' class='xr-var-attrs-in' type='checkbox' disabled><label for='attrs-dd8c0726-d1d4-426a-aa30-c9ce38950458' title='Show/Hide attributes'><svg class='icon xr-icon-file-text2'><use xlink:href='#icon-file-text2'></use></svg></label><input id='data-94cf2c07-26ab-4717-a57d-2965ada2105a' class='xr-var-data-in' type='checkbox'><label for='data-94cf2c07-26ab-4717-a57d-2965ada2105a' title='Show/Hide data repr'><svg class='icon xr-icon-database'><use xlink:href='#icon-database'></use></svg></label><div class='xr-var-attrs'><dl class='xr-attrs'></dl></div><div class='xr-var-data'><pre>array([&#x27;2022-02-01T00:00:00.000000000&#x27;], dtype=&#x27;datetime64[ns]&#x27;)</pre></div></li><li class='xr-var-item'><div class='xr-var-name'><span class='xr-has-index'>lon</span></div><div class='xr-var-dims'>(lon)</div><div class='xr-var-dtype'>float32</div><div class='xr-var-preview xr-preview'>120.0 121.0 122.0 ... 239.0 240.0</div><input id='attrs-5340e933-8025-448a-ab7d-8272e5dbeb0c' class='xr-var-attrs-in' type='checkbox' disabled><label for='attrs-5340e933-8025-448a-ab7d-8272e5dbeb0c' title='Show/Hide attributes'><svg class='icon xr-icon-file-text2'><use xlink:href='#icon-file-text2'></use></svg></label><input id='data-eaacc292-0ae7-4a42-98b6-b7c9ff512a8e' class='xr-var-data-in' type='checkbox'><label for='data-eaacc292-0ae7-4a42-98b6-b7c9ff512a8e' title='Show/Hide data repr'><svg class='icon xr-icon-database'><use xlink:href='#icon-database'></use></svg></label><div class='xr-var-attrs'><dl class='xr-attrs'></dl></div><div class='xr-var-data'><pre>array([120., 121., 122., 123., 124., 125., 126., 127., 128., 129., 130., 131.,\n",
       "       132., 133., 134., 135., 136., 137., 138., 139., 140., 141., 142., 143.,\n",
       "       144., 145., 146., 147., 148., 149., 150., 151., 152., 153., 154., 155.,\n",
       "       156., 157., 158., 159., 160., 161., 162., 163., 164., 165., 166., 167.,\n",
       "       168., 169., 170., 171., 172., 173., 174., 175., 176., 177., 178., 179.,\n",
       "       180., 181., 182., 183., 184., 185., 186., 187., 188., 189., 190., 191.,\n",
       "       192., 193., 194., 195., 196., 197., 198., 199., 200., 201., 202., 203.,\n",
       "       204., 205., 206., 207., 208., 209., 210., 211., 212., 213., 214., 215.,\n",
       "       216., 217., 218., 219., 220., 221., 222., 223., 224., 225., 226., 227.,\n",
       "       228., 229., 230., 231., 232., 233., 234., 235., 236., 237., 238., 239.,\n",
       "       240.], dtype=float32)</pre></div></li><li class='xr-var-item'><div class='xr-var-name'><span class='xr-has-index'>lat</span></div><div class='xr-var-dims'>(lat)</div><div class='xr-var-dtype'>float32</div><div class='xr-var-preview xr-preview'>-50.0 -49.0 -48.0 ... 29.0 30.0</div><input id='attrs-49f36153-95f5-4929-b623-494309e504f0' class='xr-var-attrs-in' type='checkbox' disabled><label for='attrs-49f36153-95f5-4929-b623-494309e504f0' title='Show/Hide attributes'><svg class='icon xr-icon-file-text2'><use xlink:href='#icon-file-text2'></use></svg></label><input id='data-b4bb21d6-1668-4f4d-9cce-e8256d4fd8a7' class='xr-var-data-in' type='checkbox'><label for='data-b4bb21d6-1668-4f4d-9cce-e8256d4fd8a7' title='Show/Hide data repr'><svg class='icon xr-icon-database'><use xlink:href='#icon-database'></use></svg></label><div class='xr-var-attrs'><dl class='xr-attrs'></dl></div><div class='xr-var-data'><pre>array([-50., -49., -48., -47., -46., -45., -44., -43., -42., -41., -40., -39.,\n",
       "       -38., -37., -36., -35., -34., -33., -32., -31., -30., -29., -28., -27.,\n",
       "       -26., -25., -24., -23., -22., -21., -20., -19., -18., -17., -16., -15.,\n",
       "       -14., -13., -12., -11., -10.,  -9.,  -8.,  -7.,  -6.,  -5.,  -4.,  -3.,\n",
       "        -2.,  -1.,   0.,   1.,   2.,   3.,   4.,   5.,   6.,   7.,   8.,   9.,\n",
       "        10.,  11.,  12.,  13.,  14.,  15.,  16.,  17.,  18.,  19.,  20.,  21.,\n",
       "        22.,  23.,  24.,  25.,  26.,  27.,  28.,  29.,  30.], dtype=float32)</pre></div></li><li class='xr-var-item'><div class='xr-var-name'><span class='xr-has-index'>step</span></div><div class='xr-var-dims'>(step)</div><div class='xr-var-dtype'>int64</div><div class='xr-var-preview xr-preview'>3 4 5</div><input id='attrs-98de6bb6-1007-42bd-b4f0-d4be76e3bf0e' class='xr-var-attrs-in' type='checkbox' disabled><label for='attrs-98de6bb6-1007-42bd-b4f0-d4be76e3bf0e' title='Show/Hide attributes'><svg class='icon xr-icon-file-text2'><use xlink:href='#icon-file-text2'></use></svg></label><input id='data-493ba362-9a01-4f91-8b48-cfee445cec82' class='xr-var-data-in' type='checkbox'><label for='data-493ba362-9a01-4f91-8b48-cfee445cec82' title='Show/Hide data repr'><svg class='icon xr-icon-database'><use xlink:href='#icon-database'></use></svg></label><div class='xr-var-attrs'><dl class='xr-attrs'></dl></div><div class='xr-var-data'><pre>array([3, 4, 5])</pre></div></li><li class='xr-var-item'><div class='xr-var-name'><span>month</span></div><div class='xr-var-dims'>()</div><div class='xr-var-dtype'>int64</div><div class='xr-var-preview xr-preview'>2</div><input id='attrs-2d8d0f07-b601-4e73-8a61-f9bdfffe6458' class='xr-var-attrs-in' type='checkbox' disabled><label for='attrs-2d8d0f07-b601-4e73-8a61-f9bdfffe6458' title='Show/Hide attributes'><svg class='icon xr-icon-file-text2'><use xlink:href='#icon-file-text2'></use></svg></label><input id='data-d321b1ce-1d12-4d77-beb0-26ab92c98be7' class='xr-var-data-in' type='checkbox'><label for='data-d321b1ce-1d12-4d77-beb0-26ab92c98be7' title='Show/Hide data repr'><svg class='icon xr-icon-database'><use xlink:href='#icon-database'></use></svg></label><div class='xr-var-attrs'><dl class='xr-attrs'></dl></div><div class='xr-var-data'><pre>array(2)</pre></div></li><li class='xr-var-item'><div class='xr-var-name'><span class='xr-has-index'>decile</span></div><div class='xr-var-dims'>(decile)</div><div class='xr-var-dtype'>int64</div><div class='xr-var-preview xr-preview'>1 2 3 4 5 6 7 8 9 10</div><input id='attrs-9b09e1cd-aadf-4967-bf9c-23b25c85ded5' class='xr-var-attrs-in' type='checkbox' disabled><label for='attrs-9b09e1cd-aadf-4967-bf9c-23b25c85ded5' title='Show/Hide attributes'><svg class='icon xr-icon-file-text2'><use xlink:href='#icon-file-text2'></use></svg></label><input id='data-a32ad79a-f501-4e40-b97a-b020e6566380' class='xr-var-data-in' type='checkbox'><label for='data-a32ad79a-f501-4e40-b97a-b020e6566380' title='Show/Hide data repr'><svg class='icon xr-icon-database'><use xlink:href='#icon-database'></use></svg></label><div class='xr-var-attrs'><dl class='xr-attrs'></dl></div><div class='xr-var-data'><pre>array([ 1,  2,  3,  4,  5,  6,  7,  8,  9, 10])</pre></div></li></ul></div></li><li class='xr-section-item'><input id='section-40471333-9816-454d-a6fc-dd6f7613ecae' class='xr-section-summary-in' type='checkbox'  checked><label for='section-40471333-9816-454d-a6fc-dd6f7613ecae' class='xr-section-summary' >Data variables: <span>(1)</span></label><div class='xr-section-inline-details'></div><div class='xr-section-details'><ul class='xr-var-list'><li class='xr-var-item'><div class='xr-var-name'><span>precip</span></div><div class='xr-var-dims'>(GCM, decile, time, step, lat, lon)</div><div class='xr-var-dtype'>float64</div><div class='xr-var-preview xr-preview'>dask.array&lt;chunksize=(1, 10, 1, 3, 81, 121), meta=np.ndarray&gt;</div><input id='attrs-60a5f28d-f216-4a8e-b831-98d1d20e21b2' class='xr-var-attrs-in' type='checkbox' disabled><label for='attrs-60a5f28d-f216-4a8e-b831-98d1d20e21b2' title='Show/Hide attributes'><svg class='icon xr-icon-file-text2'><use xlink:href='#icon-file-text2'></use></svg></label><input id='data-2c1e4dd6-b890-4f67-94d5-778f3040baf4' class='xr-var-data-in' type='checkbox'><label for='data-2c1e4dd6-b890-4f67-94d5-778f3040baf4' title='Show/Hide data repr'><svg class='icon xr-icon-database'><use xlink:href='#icon-database'></use></svg></label><div class='xr-var-attrs'><dl class='xr-attrs'></dl></div><div class='xr-var-data'><table>\n",
       "    <tr>\n",
       "        <td>\n",
       "            <table>\n",
       "                <thead>\n",
       "                    <tr>\n",
       "                        <td> </td>\n",
       "                        <th> Array </th>\n",
       "                        <th> Chunk </th>\n",
       "                    </tr>\n",
       "                </thead>\n",
       "                <tbody>\n",
       "                    \n",
       "                    <tr>\n",
       "                        <th> Bytes </th>\n",
       "                        <td> 20.19 MiB </td>\n",
       "                        <td> 2.24 MiB </td>\n",
       "                    </tr>\n",
       "                    \n",
       "                    <tr>\n",
       "                        <th> Shape </th>\n",
       "                        <td> (9, 10, 1, 3, 81, 121) </td>\n",
       "                        <td> (1, 10, 1, 3, 81, 121) </td>\n",
       "                    </tr>\n",
       "                    <tr>\n",
       "                        <th> Count </th>\n",
       "                        <td> 27 Tasks </td>\n",
       "                        <td> 9 Chunks </td>\n",
       "                    </tr>\n",
       "                    <tr>\n",
       "                    <th> Type </th>\n",
       "                    <td> float64 </td>\n",
       "                    <td> numpy.ndarray </td>\n",
       "                    </tr>\n",
       "                </tbody>\n",
       "            </table>\n",
       "        </td>\n",
       "        <td>\n",
       "        <svg width=\"441\" height=\"148\" style=\"stroke:rgb(0,0,0);stroke-width:1\" >\n",
       "\n",
       "  <!-- Horizontal lines -->\n",
       "  <line x1=\"10\" y1=\"0\" x2=\"31\" y2=\"21\" style=\"stroke-width:2\" />\n",
       "  <line x1=\"10\" y1=\"37\" x2=\"31\" y2=\"59\" style=\"stroke-width:2\" />\n",
       "\n",
       "  <!-- Vertical lines -->\n",
       "  <line x1=\"10\" y1=\"0\" x2=\"10\" y2=\"37\" style=\"stroke-width:2\" />\n",
       "  <line x1=\"12\" y1=\"2\" x2=\"12\" y2=\"39\" />\n",
       "  <line x1=\"14\" y1=\"4\" x2=\"14\" y2=\"42\" />\n",
       "  <line x1=\"17\" y1=\"7\" x2=\"17\" y2=\"44\" />\n",
       "  <line x1=\"19\" y1=\"9\" x2=\"19\" y2=\"47\" />\n",
       "  <line x1=\"22\" y1=\"12\" x2=\"22\" y2=\"49\" />\n",
       "  <line x1=\"24\" y1=\"14\" x2=\"24\" y2=\"51\" />\n",
       "  <line x1=\"26\" y1=\"16\" x2=\"26\" y2=\"54\" />\n",
       "  <line x1=\"29\" y1=\"19\" x2=\"29\" y2=\"56\" />\n",
       "  <line x1=\"31\" y1=\"21\" x2=\"31\" y2=\"59\" style=\"stroke-width:2\" />\n",
       "\n",
       "  <!-- Colored Rectangle -->\n",
       "  <polygon points=\"10.0,0.0 31.705460913306453,21.705460913306453 31.705460913306453,59.22101676725615 10.0,37.5155558539497\" style=\"fill:#ECB172A0;stroke-width:0\"/>\n",
       "\n",
       "  <!-- Horizontal lines -->\n",
       "  <line x1=\"10\" y1=\"0\" x2=\"35\" y2=\"0\" style=\"stroke-width:2\" />\n",
       "  <line x1=\"12\" y1=\"2\" x2=\"37\" y2=\"2\" />\n",
       "  <line x1=\"14\" y1=\"4\" x2=\"40\" y2=\"4\" />\n",
       "  <line x1=\"17\" y1=\"7\" x2=\"42\" y2=\"7\" />\n",
       "  <line x1=\"19\" y1=\"9\" x2=\"45\" y2=\"9\" />\n",
       "  <line x1=\"22\" y1=\"12\" x2=\"47\" y2=\"12\" />\n",
       "  <line x1=\"24\" y1=\"14\" x2=\"49\" y2=\"14\" />\n",
       "  <line x1=\"26\" y1=\"16\" x2=\"52\" y2=\"16\" />\n",
       "  <line x1=\"29\" y1=\"19\" x2=\"54\" y2=\"19\" />\n",
       "  <line x1=\"31\" y1=\"21\" x2=\"57\" y2=\"21\" style=\"stroke-width:2\" />\n",
       "\n",
       "  <!-- Vertical lines -->\n",
       "  <line x1=\"10\" y1=\"0\" x2=\"31\" y2=\"21\" style=\"stroke-width:2\" />\n",
       "  <line x1=\"35\" y1=\"0\" x2=\"57\" y2=\"21\" style=\"stroke-width:2\" />\n",
       "\n",
       "  <!-- Colored Rectangle -->\n",
       "  <polygon points=\"10.0,0.0 35.41261651458248,0.0 57.118077427888934,21.705460913306453 31.705460913306453,21.705460913306453\" style=\"fill:#ECB172A0;stroke-width:0\"/>\n",
       "\n",
       "  <!-- Horizontal lines -->\n",
       "  <line x1=\"31\" y1=\"21\" x2=\"57\" y2=\"21\" style=\"stroke-width:2\" />\n",
       "  <line x1=\"31\" y1=\"59\" x2=\"57\" y2=\"59\" style=\"stroke-width:2\" />\n",
       "\n",
       "  <!-- Vertical lines -->\n",
       "  <line x1=\"31\" y1=\"21\" x2=\"31\" y2=\"59\" style=\"stroke-width:2\" />\n",
       "  <line x1=\"57\" y1=\"21\" x2=\"57\" y2=\"59\" style=\"stroke-width:2\" />\n",
       "\n",
       "  <!-- Colored Rectangle -->\n",
       "  <polygon points=\"31.705460913306453,21.705460913306453 57.118077427888934,21.705460913306453 57.118077427888934,59.22101676725615 31.705460913306453,59.22101676725615\" style=\"fill:#ECB172A0;stroke-width:0\"/>\n",
       "\n",
       "  <!-- Text -->\n",
       "  <text x=\"44.411769\" y=\"79.221017\" font-size=\"1.0rem\" font-weight=\"100\" text-anchor=\"middle\" >1</text>\n",
       "  <text x=\"77.118077\" y=\"40.463239\" font-size=\"1.0rem\" font-weight=\"100\" text-anchor=\"middle\" transform=\"rotate(0,77.118077,40.463239)\">10</text>\n",
       "  <text x=\"10.852730\" y=\"68.368286\" font-size=\"1.0rem\" font-weight=\"100\" text-anchor=\"middle\" transform=\"rotate(45,10.852730,68.368286)\">9</text>\n",
       "\n",
       "\n",
       "  <!-- Horizontal lines -->\n",
       "  <line x1=\"127\" y1=\"0\" x2=\"144\" y2=\"17\" style=\"stroke-width:2\" />\n",
       "  <line x1=\"127\" y1=\"80\" x2=\"144\" y2=\"98\" style=\"stroke-width:2\" />\n",
       "\n",
       "  <!-- Vertical lines -->\n",
       "  <line x1=\"127\" y1=\"0\" x2=\"127\" y2=\"80\" style=\"stroke-width:2\" />\n",
       "  <line x1=\"144\" y1=\"17\" x2=\"144\" y2=\"98\" style=\"stroke-width:2\" />\n",
       "\n",
       "  <!-- Colored Rectangle -->\n",
       "  <polygon points=\"127.0,0.0 144.80172121589226,17.801721215892265 144.80172121589226,98.13229972828896 127.0,80.3305785123967\" style=\"fill:#ECB172A0;stroke-width:0\"/>\n",
       "\n",
       "  <!-- Horizontal lines -->\n",
       "  <line x1=\"127\" y1=\"0\" x2=\"247\" y2=\"0\" style=\"stroke-width:2\" />\n",
       "  <line x1=\"144\" y1=\"17\" x2=\"264\" y2=\"17\" style=\"stroke-width:2\" />\n",
       "\n",
       "  <!-- Vertical lines -->\n",
       "  <line x1=\"127\" y1=\"0\" x2=\"144\" y2=\"17\" style=\"stroke-width:2\" />\n",
       "  <line x1=\"247\" y1=\"0\" x2=\"264\" y2=\"17\" style=\"stroke-width:2\" />\n",
       "\n",
       "  <!-- Colored Rectangle -->\n",
       "  <polygon points=\"127.0,0.0 247.0,0.0 264.80172121589226,17.801721215892265 144.80172121589226,17.801721215892265\" style=\"fill:#ECB172A0;stroke-width:0\"/>\n",
       "\n",
       "  <!-- Horizontal lines -->\n",
       "  <line x1=\"144\" y1=\"17\" x2=\"264\" y2=\"17\" style=\"stroke-width:2\" />\n",
       "  <line x1=\"144\" y1=\"98\" x2=\"264\" y2=\"98\" style=\"stroke-width:2\" />\n",
       "\n",
       "  <!-- Vertical lines -->\n",
       "  <line x1=\"144\" y1=\"17\" x2=\"144\" y2=\"98\" style=\"stroke-width:2\" />\n",
       "  <line x1=\"264\" y1=\"17\" x2=\"264\" y2=\"98\" style=\"stroke-width:2\" />\n",
       "\n",
       "  <!-- Colored Rectangle -->\n",
       "  <polygon points=\"144.80172121589226,17.801721215892265 264.80172121589226,17.801721215892265 264.80172121589226,98.13229972828896 144.80172121589226,98.13229972828896\" style=\"fill:#ECB172A0;stroke-width:0\"/>\n",
       "\n",
       "  <!-- Text -->\n",
       "  <text x=\"204.801721\" y=\"118.132300\" font-size=\"1.0rem\" font-weight=\"100\" text-anchor=\"middle\" >121</text>\n",
       "  <text x=\"284.801721\" y=\"57.967010\" font-size=\"1.0rem\" font-weight=\"100\" text-anchor=\"middle\" transform=\"rotate(0,284.801721,57.967010)\">81</text>\n",
       "  <text x=\"125.900861\" y=\"109.231439\" font-size=\"1.0rem\" font-weight=\"100\" text-anchor=\"middle\" transform=\"rotate(45,125.900861,109.231439)\">3</text>\n",
       "</svg>\n",
       "        </td>\n",
       "    </tr>\n",
       "</table></div></li></ul></div></li><li class='xr-section-item'><input id='section-3bb1191f-4673-4b6f-8b5b-46b56570593e' class='xr-section-summary-in' type='checkbox'  checked><label for='section-3bb1191f-4673-4b6f-8b5b-46b56570593e' class='xr-section-summary' >Attributes: <span>(1)</span></label><div class='xr-section-inline-details'></div><div class='xr-section-details'><dl class='xr-attrs'><dt><span>pct_values :</span></dt><dd>[0.1 0.2 0.3 0.4 0.5 0.6 0.7 0.8 0.9]</dd></dl></div></li></ul></div></div>"
      ],
      "text/plain": [
       "<xarray.Dataset>\n",
       "Dimensions:  (GCM: 9, decile: 10, time: 1, step: 3, lat: 81, lon: 121)\n",
       "Coordinates:\n",
       "  * GCM      (GCM) object 'ECCC_CanCM4i' 'ECMWF' 'UKMO' ... 'NCEP' 'DWD'\n",
       "  * time     (time) datetime64[ns] 2022-02-01\n",
       "  * lon      (lon) float32 120.0 121.0 122.0 123.0 ... 237.0 238.0 239.0 240.0\n",
       "  * lat      (lat) float32 -50.0 -49.0 -48.0 -47.0 -46.0 ... 27.0 28.0 29.0 30.0\n",
       "  * step     (step) int64 3 4 5\n",
       "    month    int64 2\n",
       "  * decile   (decile) int64 1 2 3 4 5 6 7 8 9 10\n",
       "Data variables:\n",
       "    precip   (GCM, decile, time, step, lat, lon) float64 dask.array<chunksize=(1, 10, 1, 3, 81, 121), meta=np.ndarray>\n",
       "Attributes:\n",
       "    pct_values:  [0.1 0.2 0.3 0.4 0.5 0.6 0.7 0.8 0.9]"
      ]
     },
     "execution_count": 26,
     "metadata": {},
     "output_type": "execute_result"
    }
   ],
   "source": [
    "probs"
   ]
  },
  {
   "cell_type": "markdown",
   "id": "3f196ab6",
   "metadata": {
    "papermill": {
     "duration": 0.049635,
     "end_time": "2022-03-13T23:12:50.072250",
     "exception": false,
     "start_time": "2022-03-13T23:12:50.022615",
     "status": "completed"
    },
    "tags": []
   },
   "source": [
    "### interpolate"
   ]
  },
  {
   "cell_type": "code",
   "execution_count": 27,
   "id": "f613fc28",
   "metadata": {
    "execution": {
     "iopub.execute_input": "2022-03-13T23:12:50.161473Z",
     "iopub.status.busy": "2022-03-13T23:12:50.161130Z",
     "iopub.status.idle": "2022-03-13T23:12:50.186158Z",
     "shell.execute_reply": "2022-03-13T23:12:50.185799Z"
    },
    "papermill": {
     "duration": 0.069534,
     "end_time": "2022-03-13T23:12:50.186265",
     "exception": false,
     "start_time": "2022-03-13T23:12:50.116731",
     "status": "completed"
    },
    "tags": []
   },
   "outputs": [],
   "source": [
    "probs = utils.interp(probs, interp_factor=6)"
   ]
  },
  {
   "cell_type": "code",
   "execution_count": 28,
   "id": "ee09f6db",
   "metadata": {
    "execution": {
     "iopub.execute_input": "2022-03-13T23:12:50.275698Z",
     "iopub.status.busy": "2022-03-13T23:12:50.275337Z",
     "iopub.status.idle": "2022-03-13T23:12:50.311393Z",
     "shell.execute_reply": "2022-03-13T23:12:50.311029Z"
    },
    "papermill": {
     "duration": 0.081974,
     "end_time": "2022-03-13T23:12:50.311505",
     "exception": false,
     "start_time": "2022-03-13T23:12:50.229531",
     "status": "completed"
    },
    "tags": []
   },
   "outputs": [
    {
     "data": {
      "text/html": [
       "<div><svg style=\"position: absolute; width: 0; height: 0; overflow: hidden\">\n",
       "<defs>\n",
       "<symbol id=\"icon-database\" viewBox=\"0 0 32 32\">\n",
       "<path d=\"M16 0c-8.837 0-16 2.239-16 5v4c0 2.761 7.163 5 16 5s16-2.239 16-5v-4c0-2.761-7.163-5-16-5z\"></path>\n",
       "<path d=\"M16 17c-8.837 0-16-2.239-16-5v6c0 2.761 7.163 5 16 5s16-2.239 16-5v-6c0 2.761-7.163 5-16 5z\"></path>\n",
       "<path d=\"M16 26c-8.837 0-16-2.239-16-5v6c0 2.761 7.163 5 16 5s16-2.239 16-5v-6c0 2.761-7.163 5-16 5z\"></path>\n",
       "</symbol>\n",
       "<symbol id=\"icon-file-text2\" viewBox=\"0 0 32 32\">\n",
       "<path d=\"M28.681 7.159c-0.694-0.947-1.662-2.053-2.724-3.116s-2.169-2.030-3.116-2.724c-1.612-1.182-2.393-1.319-2.841-1.319h-15.5c-1.378 0-2.5 1.121-2.5 2.5v27c0 1.378 1.122 2.5 2.5 2.5h23c1.378 0 2.5-1.122 2.5-2.5v-19.5c0-0.448-0.137-1.23-1.319-2.841zM24.543 5.457c0.959 0.959 1.712 1.825 2.268 2.543h-4.811v-4.811c0.718 0.556 1.584 1.309 2.543 2.268zM28 29.5c0 0.271-0.229 0.5-0.5 0.5h-23c-0.271 0-0.5-0.229-0.5-0.5v-27c0-0.271 0.229-0.5 0.5-0.5 0 0 15.499-0 15.5 0v7c0 0.552 0.448 1 1 1h7v19.5z\"></path>\n",
       "<path d=\"M23 26h-14c-0.552 0-1-0.448-1-1s0.448-1 1-1h14c0.552 0 1 0.448 1 1s-0.448 1-1 1z\"></path>\n",
       "<path d=\"M23 22h-14c-0.552 0-1-0.448-1-1s0.448-1 1-1h14c0.552 0 1 0.448 1 1s-0.448 1-1 1z\"></path>\n",
       "<path d=\"M23 18h-14c-0.552 0-1-0.448-1-1s0.448-1 1-1h14c0.552 0 1 0.448 1 1s-0.448 1-1 1z\"></path>\n",
       "</symbol>\n",
       "</defs>\n",
       "</svg>\n",
       "<style>/* CSS stylesheet for displaying xarray objects in jupyterlab.\n",
       " *\n",
       " */\n",
       "\n",
       ":root {\n",
       "  --xr-font-color0: var(--jp-content-font-color0, rgba(0, 0, 0, 1));\n",
       "  --xr-font-color2: var(--jp-content-font-color2, rgba(0, 0, 0, 0.54));\n",
       "  --xr-font-color3: var(--jp-content-font-color3, rgba(0, 0, 0, 0.38));\n",
       "  --xr-border-color: var(--jp-border-color2, #e0e0e0);\n",
       "  --xr-disabled-color: var(--jp-layout-color3, #bdbdbd);\n",
       "  --xr-background-color: var(--jp-layout-color0, white);\n",
       "  --xr-background-color-row-even: var(--jp-layout-color1, white);\n",
       "  --xr-background-color-row-odd: var(--jp-layout-color2, #eeeeee);\n",
       "}\n",
       "\n",
       "html[theme=dark],\n",
       "body.vscode-dark {\n",
       "  --xr-font-color0: rgba(255, 255, 255, 1);\n",
       "  --xr-font-color2: rgba(255, 255, 255, 0.54);\n",
       "  --xr-font-color3: rgba(255, 255, 255, 0.38);\n",
       "  --xr-border-color: #1F1F1F;\n",
       "  --xr-disabled-color: #515151;\n",
       "  --xr-background-color: #111111;\n",
       "  --xr-background-color-row-even: #111111;\n",
       "  --xr-background-color-row-odd: #313131;\n",
       "}\n",
       "\n",
       ".xr-wrap {\n",
       "  display: block !important;\n",
       "  min-width: 300px;\n",
       "  max-width: 700px;\n",
       "}\n",
       "\n",
       ".xr-text-repr-fallback {\n",
       "  /* fallback to plain text repr when CSS is not injected (untrusted notebook) */\n",
       "  display: none;\n",
       "}\n",
       "\n",
       ".xr-header {\n",
       "  padding-top: 6px;\n",
       "  padding-bottom: 6px;\n",
       "  margin-bottom: 4px;\n",
       "  border-bottom: solid 1px var(--xr-border-color);\n",
       "}\n",
       "\n",
       ".xr-header > div,\n",
       ".xr-header > ul {\n",
       "  display: inline;\n",
       "  margin-top: 0;\n",
       "  margin-bottom: 0;\n",
       "}\n",
       "\n",
       ".xr-obj-type,\n",
       ".xr-array-name {\n",
       "  margin-left: 2px;\n",
       "  margin-right: 10px;\n",
       "}\n",
       "\n",
       ".xr-obj-type {\n",
       "  color: var(--xr-font-color2);\n",
       "}\n",
       "\n",
       ".xr-sections {\n",
       "  padding-left: 0 !important;\n",
       "  display: grid;\n",
       "  grid-template-columns: 150px auto auto 1fr 20px 20px;\n",
       "}\n",
       "\n",
       ".xr-section-item {\n",
       "  display: contents;\n",
       "}\n",
       "\n",
       ".xr-section-item input {\n",
       "  display: none;\n",
       "}\n",
       "\n",
       ".xr-section-item input + label {\n",
       "  color: var(--xr-disabled-color);\n",
       "}\n",
       "\n",
       ".xr-section-item input:enabled + label {\n",
       "  cursor: pointer;\n",
       "  color: var(--xr-font-color2);\n",
       "}\n",
       "\n",
       ".xr-section-item input:enabled + label:hover {\n",
       "  color: var(--xr-font-color0);\n",
       "}\n",
       "\n",
       ".xr-section-summary {\n",
       "  grid-column: 1;\n",
       "  color: var(--xr-font-color2);\n",
       "  font-weight: 500;\n",
       "}\n",
       "\n",
       ".xr-section-summary > span {\n",
       "  display: inline-block;\n",
       "  padding-left: 0.5em;\n",
       "}\n",
       "\n",
       ".xr-section-summary-in:disabled + label {\n",
       "  color: var(--xr-font-color2);\n",
       "}\n",
       "\n",
       ".xr-section-summary-in + label:before {\n",
       "  display: inline-block;\n",
       "  content: '►';\n",
       "  font-size: 11px;\n",
       "  width: 15px;\n",
       "  text-align: center;\n",
       "}\n",
       "\n",
       ".xr-section-summary-in:disabled + label:before {\n",
       "  color: var(--xr-disabled-color);\n",
       "}\n",
       "\n",
       ".xr-section-summary-in:checked + label:before {\n",
       "  content: '▼';\n",
       "}\n",
       "\n",
       ".xr-section-summary-in:checked + label > span {\n",
       "  display: none;\n",
       "}\n",
       "\n",
       ".xr-section-summary,\n",
       ".xr-section-inline-details {\n",
       "  padding-top: 4px;\n",
       "  padding-bottom: 4px;\n",
       "}\n",
       "\n",
       ".xr-section-inline-details {\n",
       "  grid-column: 2 / -1;\n",
       "}\n",
       "\n",
       ".xr-section-details {\n",
       "  display: none;\n",
       "  grid-column: 1 / -1;\n",
       "  margin-bottom: 5px;\n",
       "}\n",
       "\n",
       ".xr-section-summary-in:checked ~ .xr-section-details {\n",
       "  display: contents;\n",
       "}\n",
       "\n",
       ".xr-array-wrap {\n",
       "  grid-column: 1 / -1;\n",
       "  display: grid;\n",
       "  grid-template-columns: 20px auto;\n",
       "}\n",
       "\n",
       ".xr-array-wrap > label {\n",
       "  grid-column: 1;\n",
       "  vertical-align: top;\n",
       "}\n",
       "\n",
       ".xr-preview {\n",
       "  color: var(--xr-font-color3);\n",
       "}\n",
       "\n",
       ".xr-array-preview,\n",
       ".xr-array-data {\n",
       "  padding: 0 5px !important;\n",
       "  grid-column: 2;\n",
       "}\n",
       "\n",
       ".xr-array-data,\n",
       ".xr-array-in:checked ~ .xr-array-preview {\n",
       "  display: none;\n",
       "}\n",
       "\n",
       ".xr-array-in:checked ~ .xr-array-data,\n",
       ".xr-array-preview {\n",
       "  display: inline-block;\n",
       "}\n",
       "\n",
       ".xr-dim-list {\n",
       "  display: inline-block !important;\n",
       "  list-style: none;\n",
       "  padding: 0 !important;\n",
       "  margin: 0;\n",
       "}\n",
       "\n",
       ".xr-dim-list li {\n",
       "  display: inline-block;\n",
       "  padding: 0;\n",
       "  margin: 0;\n",
       "}\n",
       "\n",
       ".xr-dim-list:before {\n",
       "  content: '(';\n",
       "}\n",
       "\n",
       ".xr-dim-list:after {\n",
       "  content: ')';\n",
       "}\n",
       "\n",
       ".xr-dim-list li:not(:last-child):after {\n",
       "  content: ',';\n",
       "  padding-right: 5px;\n",
       "}\n",
       "\n",
       ".xr-has-index {\n",
       "  font-weight: bold;\n",
       "}\n",
       "\n",
       ".xr-var-list,\n",
       ".xr-var-item {\n",
       "  display: contents;\n",
       "}\n",
       "\n",
       ".xr-var-item > div,\n",
       ".xr-var-item label,\n",
       ".xr-var-item > .xr-var-name span {\n",
       "  background-color: var(--xr-background-color-row-even);\n",
       "  margin-bottom: 0;\n",
       "}\n",
       "\n",
       ".xr-var-item > .xr-var-name:hover span {\n",
       "  padding-right: 5px;\n",
       "}\n",
       "\n",
       ".xr-var-list > li:nth-child(odd) > div,\n",
       ".xr-var-list > li:nth-child(odd) > label,\n",
       ".xr-var-list > li:nth-child(odd) > .xr-var-name span {\n",
       "  background-color: var(--xr-background-color-row-odd);\n",
       "}\n",
       "\n",
       ".xr-var-name {\n",
       "  grid-column: 1;\n",
       "}\n",
       "\n",
       ".xr-var-dims {\n",
       "  grid-column: 2;\n",
       "}\n",
       "\n",
       ".xr-var-dtype {\n",
       "  grid-column: 3;\n",
       "  text-align: right;\n",
       "  color: var(--xr-font-color2);\n",
       "}\n",
       "\n",
       ".xr-var-preview {\n",
       "  grid-column: 4;\n",
       "}\n",
       "\n",
       ".xr-var-name,\n",
       ".xr-var-dims,\n",
       ".xr-var-dtype,\n",
       ".xr-preview,\n",
       ".xr-attrs dt {\n",
       "  white-space: nowrap;\n",
       "  overflow: hidden;\n",
       "  text-overflow: ellipsis;\n",
       "  padding-right: 10px;\n",
       "}\n",
       "\n",
       ".xr-var-name:hover,\n",
       ".xr-var-dims:hover,\n",
       ".xr-var-dtype:hover,\n",
       ".xr-attrs dt:hover {\n",
       "  overflow: visible;\n",
       "  width: auto;\n",
       "  z-index: 1;\n",
       "}\n",
       "\n",
       ".xr-var-attrs,\n",
       ".xr-var-data {\n",
       "  display: none;\n",
       "  background-color: var(--xr-background-color) !important;\n",
       "  padding-bottom: 5px !important;\n",
       "}\n",
       "\n",
       ".xr-var-attrs-in:checked ~ .xr-var-attrs,\n",
       ".xr-var-data-in:checked ~ .xr-var-data {\n",
       "  display: block;\n",
       "}\n",
       "\n",
       ".xr-var-data > table {\n",
       "  float: right;\n",
       "}\n",
       "\n",
       ".xr-var-name span,\n",
       ".xr-var-data,\n",
       ".xr-attrs {\n",
       "  padding-left: 25px !important;\n",
       "}\n",
       "\n",
       ".xr-attrs,\n",
       ".xr-var-attrs,\n",
       ".xr-var-data {\n",
       "  grid-column: 1 / -1;\n",
       "}\n",
       "\n",
       "dl.xr-attrs {\n",
       "  padding: 0;\n",
       "  margin: 0;\n",
       "  display: grid;\n",
       "  grid-template-columns: 125px auto;\n",
       "}\n",
       "\n",
       ".xr-attrs dt,\n",
       ".xr-attrs dd {\n",
       "  padding: 0;\n",
       "  margin: 0;\n",
       "  float: left;\n",
       "  padding-right: 10px;\n",
       "  width: auto;\n",
       "}\n",
       "\n",
       ".xr-attrs dt {\n",
       "  font-weight: normal;\n",
       "  grid-column: 1;\n",
       "}\n",
       "\n",
       ".xr-attrs dt:hover span {\n",
       "  display: inline-block;\n",
       "  background: var(--xr-background-color);\n",
       "  padding-right: 10px;\n",
       "}\n",
       "\n",
       ".xr-attrs dd {\n",
       "  grid-column: 2;\n",
       "  white-space: pre-wrap;\n",
       "  word-break: break-all;\n",
       "}\n",
       "\n",
       ".xr-icon-database,\n",
       ".xr-icon-file-text2 {\n",
       "  display: inline-block;\n",
       "  vertical-align: middle;\n",
       "  width: 1em;\n",
       "  height: 1.5em !important;\n",
       "  stroke-width: 0;\n",
       "  stroke: currentColor;\n",
       "  fill: currentColor;\n",
       "}\n",
       "</style><pre class='xr-text-repr-fallback'>&lt;xarray.Dataset&gt;\n",
       "Dimensions:  (GCM: 9, decile: 10, time: 1, step: 3, lat: 486, lon: 726)\n",
       "Coordinates:\n",
       "  * GCM      (GCM) object &#x27;ECCC_CanCM4i&#x27; &#x27;ECMWF&#x27; &#x27;UKMO&#x27; ... &#x27;NCEP&#x27; &#x27;DWD&#x27;\n",
       "  * time     (time) datetime64[ns] 2022-02-01\n",
       "  * step     (step) int64 3 4 5\n",
       "    month    int64 2\n",
       "  * decile   (decile) int64 1 2 3 4 5 6 7 8 9 10\n",
       "  * lon      (lon) float64 120.0 120.2 120.3 120.5 ... 239.5 239.7 239.8 240.0\n",
       "  * lat      (lat) float64 -50.0 -49.84 -49.67 -49.51 ... 29.51 29.67 29.84 30.0\n",
       "Data variables:\n",
       "    precip   (GCM, decile, time, step, lat, lon) float64 dask.array&lt;chunksize=(1, 10, 1, 3, 486, 726), meta=np.ndarray&gt;\n",
       "Attributes:\n",
       "    pct_values:  [0.1 0.2 0.3 0.4 0.5 0.6 0.7 0.8 0.9]</pre><div class='xr-wrap' style='display:none'><div class='xr-header'><div class='xr-obj-type'>xarray.Dataset</div></div><ul class='xr-sections'><li class='xr-section-item'><input id='section-44a37404-12e2-4d25-848a-9fc543b8d071' class='xr-section-summary-in' type='checkbox' disabled ><label for='section-44a37404-12e2-4d25-848a-9fc543b8d071' class='xr-section-summary'  title='Expand/collapse section'>Dimensions:</label><div class='xr-section-inline-details'><ul class='xr-dim-list'><li><span class='xr-has-index'>GCM</span>: 9</li><li><span class='xr-has-index'>decile</span>: 10</li><li><span class='xr-has-index'>time</span>: 1</li><li><span class='xr-has-index'>step</span>: 3</li><li><span class='xr-has-index'>lat</span>: 486</li><li><span class='xr-has-index'>lon</span>: 726</li></ul></div><div class='xr-section-details'></div></li><li class='xr-section-item'><input id='section-c0e60586-fc71-4a1a-8741-dbbfb6ad102b' class='xr-section-summary-in' type='checkbox'  checked><label for='section-c0e60586-fc71-4a1a-8741-dbbfb6ad102b' class='xr-section-summary' >Coordinates: <span>(7)</span></label><div class='xr-section-inline-details'></div><div class='xr-section-details'><ul class='xr-var-list'><li class='xr-var-item'><div class='xr-var-name'><span class='xr-has-index'>GCM</span></div><div class='xr-var-dims'>(GCM)</div><div class='xr-var-dtype'>object</div><div class='xr-var-preview xr-preview'>&#x27;ECCC_CanCM4i&#x27; &#x27;ECMWF&#x27; ... &#x27;DWD&#x27;</div><input id='attrs-1ce55efa-f6d6-4d53-a113-3641edd53e19' class='xr-var-attrs-in' type='checkbox' disabled><label for='attrs-1ce55efa-f6d6-4d53-a113-3641edd53e19' title='Show/Hide attributes'><svg class='icon xr-icon-file-text2'><use xlink:href='#icon-file-text2'></use></svg></label><input id='data-c2335268-193d-4f3e-98fc-aacb37fd6c0b' class='xr-var-data-in' type='checkbox'><label for='data-c2335268-193d-4f3e-98fc-aacb37fd6c0b' title='Show/Hide data repr'><svg class='icon xr-icon-database'><use xlink:href='#icon-database'></use></svg></label><div class='xr-var-attrs'><dl class='xr-attrs'></dl></div><div class='xr-var-data'><pre>array([&#x27;ECCC_CanCM4i&#x27;, &#x27;ECMWF&#x27;, &#x27;UKMO&#x27;, &#x27;METEO_FRANCE&#x27;, &#x27;CMCC&#x27;, &#x27;JMA&#x27;,\n",
       "       &#x27;ECCC_GEM_NEMO&#x27;, &#x27;NCEP&#x27;, &#x27;DWD&#x27;], dtype=object)</pre></div></li><li class='xr-var-item'><div class='xr-var-name'><span class='xr-has-index'>time</span></div><div class='xr-var-dims'>(time)</div><div class='xr-var-dtype'>datetime64[ns]</div><div class='xr-var-preview xr-preview'>2022-02-01</div><input id='attrs-1265be2e-134e-4d72-b91f-2455293451c6' class='xr-var-attrs-in' type='checkbox' disabled><label for='attrs-1265be2e-134e-4d72-b91f-2455293451c6' title='Show/Hide attributes'><svg class='icon xr-icon-file-text2'><use xlink:href='#icon-file-text2'></use></svg></label><input id='data-dd07d553-164f-4447-a9ae-c466194ed22c' class='xr-var-data-in' type='checkbox'><label for='data-dd07d553-164f-4447-a9ae-c466194ed22c' title='Show/Hide data repr'><svg class='icon xr-icon-database'><use xlink:href='#icon-database'></use></svg></label><div class='xr-var-attrs'><dl class='xr-attrs'></dl></div><div class='xr-var-data'><pre>array([&#x27;2022-02-01T00:00:00.000000000&#x27;], dtype=&#x27;datetime64[ns]&#x27;)</pre></div></li><li class='xr-var-item'><div class='xr-var-name'><span class='xr-has-index'>step</span></div><div class='xr-var-dims'>(step)</div><div class='xr-var-dtype'>int64</div><div class='xr-var-preview xr-preview'>3 4 5</div><input id='attrs-c446b7a3-e9d1-4daa-b698-dbd84fa4ae4b' class='xr-var-attrs-in' type='checkbox' disabled><label for='attrs-c446b7a3-e9d1-4daa-b698-dbd84fa4ae4b' title='Show/Hide attributes'><svg class='icon xr-icon-file-text2'><use xlink:href='#icon-file-text2'></use></svg></label><input id='data-5846c60a-1213-4961-8e23-93887b9be410' class='xr-var-data-in' type='checkbox'><label for='data-5846c60a-1213-4961-8e23-93887b9be410' title='Show/Hide data repr'><svg class='icon xr-icon-database'><use xlink:href='#icon-database'></use></svg></label><div class='xr-var-attrs'><dl class='xr-attrs'></dl></div><div class='xr-var-data'><pre>array([3, 4, 5])</pre></div></li><li class='xr-var-item'><div class='xr-var-name'><span>month</span></div><div class='xr-var-dims'>()</div><div class='xr-var-dtype'>int64</div><div class='xr-var-preview xr-preview'>2</div><input id='attrs-28416edf-21b3-4442-9dce-1f08009d6163' class='xr-var-attrs-in' type='checkbox' disabled><label for='attrs-28416edf-21b3-4442-9dce-1f08009d6163' title='Show/Hide attributes'><svg class='icon xr-icon-file-text2'><use xlink:href='#icon-file-text2'></use></svg></label><input id='data-01499d33-2c43-4939-ad9c-d1e35e3246cf' class='xr-var-data-in' type='checkbox'><label for='data-01499d33-2c43-4939-ad9c-d1e35e3246cf' title='Show/Hide data repr'><svg class='icon xr-icon-database'><use xlink:href='#icon-database'></use></svg></label><div class='xr-var-attrs'><dl class='xr-attrs'></dl></div><div class='xr-var-data'><pre>array(2)</pre></div></li><li class='xr-var-item'><div class='xr-var-name'><span class='xr-has-index'>decile</span></div><div class='xr-var-dims'>(decile)</div><div class='xr-var-dtype'>int64</div><div class='xr-var-preview xr-preview'>1 2 3 4 5 6 7 8 9 10</div><input id='attrs-27a539f6-508c-435c-a4a2-2b96b2cb0429' class='xr-var-attrs-in' type='checkbox' disabled><label for='attrs-27a539f6-508c-435c-a4a2-2b96b2cb0429' title='Show/Hide attributes'><svg class='icon xr-icon-file-text2'><use xlink:href='#icon-file-text2'></use></svg></label><input id='data-2bbf8f3d-a2f8-4a64-bf0b-67232b51776d' class='xr-var-data-in' type='checkbox'><label for='data-2bbf8f3d-a2f8-4a64-bf0b-67232b51776d' title='Show/Hide data repr'><svg class='icon xr-icon-database'><use xlink:href='#icon-database'></use></svg></label><div class='xr-var-attrs'><dl class='xr-attrs'></dl></div><div class='xr-var-data'><pre>array([ 1,  2,  3,  4,  5,  6,  7,  8,  9, 10])</pre></div></li><li class='xr-var-item'><div class='xr-var-name'><span class='xr-has-index'>lon</span></div><div class='xr-var-dims'>(lon)</div><div class='xr-var-dtype'>float64</div><div class='xr-var-preview xr-preview'>120.0 120.2 120.3 ... 239.8 240.0</div><input id='attrs-6bb7bb41-5045-4a78-999d-7ab873c32f08' class='xr-var-attrs-in' type='checkbox' disabled><label for='attrs-6bb7bb41-5045-4a78-999d-7ab873c32f08' title='Show/Hide attributes'><svg class='icon xr-icon-file-text2'><use xlink:href='#icon-file-text2'></use></svg></label><input id='data-f4d0a69e-9d17-4ae4-9797-c5868ca4e309' class='xr-var-data-in' type='checkbox'><label for='data-f4d0a69e-9d17-4ae4-9797-c5868ca4e309' title='Show/Hide data repr'><svg class='icon xr-icon-database'><use xlink:href='#icon-database'></use></svg></label><div class='xr-var-attrs'><dl class='xr-attrs'></dl></div><div class='xr-var-data'><pre>array([120.      , 120.165517, 120.331034, ..., 239.668966, 239.834483,\n",
       "       240.      ])</pre></div></li><li class='xr-var-item'><div class='xr-var-name'><span class='xr-has-index'>lat</span></div><div class='xr-var-dims'>(lat)</div><div class='xr-var-dtype'>float64</div><div class='xr-var-preview xr-preview'>-50.0 -49.84 -49.67 ... 29.84 30.0</div><input id='attrs-5968adb3-6d51-4e39-9aba-cdb1101621e2' class='xr-var-attrs-in' type='checkbox' disabled><label for='attrs-5968adb3-6d51-4e39-9aba-cdb1101621e2' title='Show/Hide attributes'><svg class='icon xr-icon-file-text2'><use xlink:href='#icon-file-text2'></use></svg></label><input id='data-b943f6e9-44b3-4a5c-9d5d-fad26f968e1e' class='xr-var-data-in' type='checkbox'><label for='data-b943f6e9-44b3-4a5c-9d5d-fad26f968e1e' title='Show/Hide data repr'><svg class='icon xr-icon-database'><use xlink:href='#icon-database'></use></svg></label><div class='xr-var-attrs'><dl class='xr-attrs'></dl></div><div class='xr-var-data'><pre>array([-50.      , -49.835052, -49.670103, ...,  29.670103,  29.835052,\n",
       "        30.      ])</pre></div></li></ul></div></li><li class='xr-section-item'><input id='section-bd0c542c-ab17-4863-b9b9-673306286a90' class='xr-section-summary-in' type='checkbox'  checked><label for='section-bd0c542c-ab17-4863-b9b9-673306286a90' class='xr-section-summary' >Data variables: <span>(1)</span></label><div class='xr-section-inline-details'></div><div class='xr-section-details'><ul class='xr-var-list'><li class='xr-var-item'><div class='xr-var-name'><span>precip</span></div><div class='xr-var-dims'>(GCM, decile, time, step, lat, lon)</div><div class='xr-var-dtype'>float64</div><div class='xr-var-preview xr-preview'>dask.array&lt;chunksize=(1, 10, 1, 3, 486, 726), meta=np.ndarray&gt;</div><input id='attrs-f407eb40-9528-4f6d-966f-b9465ad1f1a5' class='xr-var-attrs-in' type='checkbox' disabled><label for='attrs-f407eb40-9528-4f6d-966f-b9465ad1f1a5' title='Show/Hide attributes'><svg class='icon xr-icon-file-text2'><use xlink:href='#icon-file-text2'></use></svg></label><input id='data-1c35d079-be6f-4ce4-bf69-88da7d076711' class='xr-var-data-in' type='checkbox'><label for='data-1c35d079-be6f-4ce4-bf69-88da7d076711' title='Show/Hide data repr'><svg class='icon xr-icon-database'><use xlink:href='#icon-database'></use></svg></label><div class='xr-var-attrs'><dl class='xr-attrs'></dl></div><div class='xr-var-data'><table>\n",
       "    <tr>\n",
       "        <td>\n",
       "            <table>\n",
       "                <thead>\n",
       "                    <tr>\n",
       "                        <td> </td>\n",
       "                        <th> Array </th>\n",
       "                        <th> Chunk </th>\n",
       "                    </tr>\n",
       "                </thead>\n",
       "                <tbody>\n",
       "                    \n",
       "                    <tr>\n",
       "                        <th> Bytes </th>\n",
       "                        <td> 726.82 MiB </td>\n",
       "                        <td> 80.76 MiB </td>\n",
       "                    </tr>\n",
       "                    \n",
       "                    <tr>\n",
       "                        <th> Shape </th>\n",
       "                        <td> (9, 10, 1, 3, 486, 726) </td>\n",
       "                        <td> (1, 10, 1, 3, 486, 726) </td>\n",
       "                    </tr>\n",
       "                    <tr>\n",
       "                        <th> Count </th>\n",
       "                        <td> 71 Tasks </td>\n",
       "                        <td> 9 Chunks </td>\n",
       "                    </tr>\n",
       "                    <tr>\n",
       "                    <th> Type </th>\n",
       "                    <td> float64 </td>\n",
       "                    <td> numpy.ndarray </td>\n",
       "                    </tr>\n",
       "                </tbody>\n",
       "            </table>\n",
       "        </td>\n",
       "        <td>\n",
       "        <svg width=\"424\" height=\"145\" style=\"stroke:rgb(0,0,0);stroke-width:1\" >\n",
       "\n",
       "  <!-- Horizontal lines -->\n",
       "  <line x1=\"10\" y1=\"0\" x2=\"25\" y2=\"15\" style=\"stroke-width:2\" />\n",
       "  <line x1=\"10\" y1=\"27\" x2=\"25\" y2=\"42\" style=\"stroke-width:2\" />\n",
       "\n",
       "  <!-- Vertical lines -->\n",
       "  <line x1=\"10\" y1=\"0\" x2=\"10\" y2=\"27\" style=\"stroke-width:2\" />\n",
       "  <line x1=\"11\" y1=\"1\" x2=\"11\" y2=\"28\" />\n",
       "  <line x1=\"13\" y1=\"3\" x2=\"13\" y2=\"30\" />\n",
       "  <line x1=\"15\" y1=\"5\" x2=\"15\" y2=\"32\" />\n",
       "  <line x1=\"16\" y1=\"6\" x2=\"16\" y2=\"33\" />\n",
       "  <line x1=\"18\" y1=\"8\" x2=\"18\" y2=\"35\" />\n",
       "  <line x1=\"20\" y1=\"10\" x2=\"20\" y2=\"37\" />\n",
       "  <line x1=\"22\" y1=\"12\" x2=\"22\" y2=\"39\" />\n",
       "  <line x1=\"23\" y1=\"13\" x2=\"23\" y2=\"40\" />\n",
       "  <line x1=\"25\" y1=\"15\" x2=\"25\" y2=\"42\" style=\"stroke-width:2\" />\n",
       "\n",
       "  <!-- Colored Rectangle -->\n",
       "  <polygon points=\"10.0,0.0 25.5709935097992,15.570993509799202 25.5709935097992,42.581891523612626 10.0,27.01089801381342\" style=\"fill:#ECB172A0;stroke-width:0\"/>\n",
       "\n",
       "  <!-- Horizontal lines -->\n",
       "  <line x1=\"10\" y1=\"0\" x2=\"35\" y2=\"0\" style=\"stroke-width:2\" />\n",
       "  <line x1=\"11\" y1=\"1\" x2=\"37\" y2=\"1\" />\n",
       "  <line x1=\"13\" y1=\"3\" x2=\"38\" y2=\"3\" />\n",
       "  <line x1=\"15\" y1=\"5\" x2=\"40\" y2=\"5\" />\n",
       "  <line x1=\"16\" y1=\"6\" x2=\"42\" y2=\"6\" />\n",
       "  <line x1=\"18\" y1=\"8\" x2=\"44\" y2=\"8\" />\n",
       "  <line x1=\"20\" y1=\"10\" x2=\"45\" y2=\"10\" />\n",
       "  <line x1=\"22\" y1=\"12\" x2=\"47\" y2=\"12\" />\n",
       "  <line x1=\"23\" y1=\"13\" x2=\"49\" y2=\"13\" />\n",
       "  <line x1=\"25\" y1=\"15\" x2=\"50\" y2=\"15\" style=\"stroke-width:2\" />\n",
       "\n",
       "  <!-- Vertical lines -->\n",
       "  <line x1=\"10\" y1=\"0\" x2=\"25\" y2=\"15\" style=\"stroke-width:2\" />\n",
       "  <line x1=\"35\" y1=\"0\" x2=\"50\" y2=\"15\" style=\"stroke-width:2\" />\n",
       "\n",
       "  <!-- Colored Rectangle -->\n",
       "  <polygon points=\"10.0,0.0 35.41261651458248,0.0 50.98361002438168,15.570993509799202 25.5709935097992,15.570993509799202\" style=\"fill:#ECB172A0;stroke-width:0\"/>\n",
       "\n",
       "  <!-- Horizontal lines -->\n",
       "  <line x1=\"25\" y1=\"15\" x2=\"50\" y2=\"15\" style=\"stroke-width:2\" />\n",
       "  <line x1=\"25\" y1=\"42\" x2=\"50\" y2=\"42\" style=\"stroke-width:2\" />\n",
       "\n",
       "  <!-- Vertical lines -->\n",
       "  <line x1=\"25\" y1=\"15\" x2=\"25\" y2=\"42\" style=\"stroke-width:2\" />\n",
       "  <line x1=\"50\" y1=\"15\" x2=\"50\" y2=\"42\" style=\"stroke-width:2\" />\n",
       "\n",
       "  <!-- Colored Rectangle -->\n",
       "  <polygon points=\"25.5709935097992,15.570993509799202 50.98361002438169,15.570993509799202 50.98361002438169,42.581891523612626 25.5709935097992,42.581891523612626\" style=\"fill:#ECB172A0;stroke-width:0\"/>\n",
       "\n",
       "  <!-- Text -->\n",
       "  <text x=\"38.277302\" y=\"62.581892\" font-size=\"1.0rem\" font-weight=\"100\" text-anchor=\"middle\" >1</text>\n",
       "  <text x=\"70.983610\" y=\"29.076443\" font-size=\"1.0rem\" font-weight=\"100\" text-anchor=\"middle\" transform=\"rotate(0,70.983610,29.076443)\">10</text>\n",
       "  <text x=\"7.785497\" y=\"54.796395\" font-size=\"1.0rem\" font-weight=\"100\" text-anchor=\"middle\" transform=\"rotate(45,7.785497,54.796395)\">9</text>\n",
       "\n",
       "\n",
       "  <!-- Horizontal lines -->\n",
       "  <line x1=\"120\" y1=\"0\" x2=\"134\" y2=\"14\" style=\"stroke-width:2\" />\n",
       "  <line x1=\"120\" y1=\"80\" x2=\"134\" y2=\"95\" style=\"stroke-width:2\" />\n",
       "\n",
       "  <!-- Vertical lines -->\n",
       "  <line x1=\"120\" y1=\"0\" x2=\"120\" y2=\"80\" style=\"stroke-width:2\" />\n",
       "  <line x1=\"134\" y1=\"14\" x2=\"134\" y2=\"95\" style=\"stroke-width:2\" />\n",
       "\n",
       "  <!-- Colored Rectangle -->\n",
       "  <polygon points=\"120.0,0.0 134.9485979497544,14.948597949754403 134.9485979497544,95.2791764621511 120.0,80.3305785123967\" style=\"fill:#ECB172A0;stroke-width:0\"/>\n",
       "\n",
       "  <!-- Horizontal lines -->\n",
       "  <line x1=\"120\" y1=\"0\" x2=\"240\" y2=\"0\" style=\"stroke-width:2\" />\n",
       "  <line x1=\"134\" y1=\"14\" x2=\"254\" y2=\"14\" style=\"stroke-width:2\" />\n",
       "\n",
       "  <!-- Vertical lines -->\n",
       "  <line x1=\"120\" y1=\"0\" x2=\"134\" y2=\"14\" style=\"stroke-width:2\" />\n",
       "  <line x1=\"240\" y1=\"0\" x2=\"254\" y2=\"14\" style=\"stroke-width:2\" />\n",
       "\n",
       "  <!-- Colored Rectangle -->\n",
       "  <polygon points=\"120.0,0.0 240.0,0.0 254.9485979497544,14.948597949754403 134.9485979497544,14.948597949754403\" style=\"fill:#ECB172A0;stroke-width:0\"/>\n",
       "\n",
       "  <!-- Horizontal lines -->\n",
       "  <line x1=\"134\" y1=\"14\" x2=\"254\" y2=\"14\" style=\"stroke-width:2\" />\n",
       "  <line x1=\"134\" y1=\"95\" x2=\"254\" y2=\"95\" style=\"stroke-width:2\" />\n",
       "\n",
       "  <!-- Vertical lines -->\n",
       "  <line x1=\"134\" y1=\"14\" x2=\"134\" y2=\"95\" style=\"stroke-width:2\" />\n",
       "  <line x1=\"254\" y1=\"14\" x2=\"254\" y2=\"95\" style=\"stroke-width:2\" />\n",
       "\n",
       "  <!-- Colored Rectangle -->\n",
       "  <polygon points=\"134.9485979497544,14.948597949754403 254.9485979497544,14.948597949754403 254.9485979497544,95.2791764621511 134.9485979497544,95.2791764621511\" style=\"fill:#ECB172A0;stroke-width:0\"/>\n",
       "\n",
       "  <!-- Text -->\n",
       "  <text x=\"194.948598\" y=\"115.279176\" font-size=\"1.0rem\" font-weight=\"100\" text-anchor=\"middle\" >726</text>\n",
       "  <text x=\"274.948598\" y=\"55.113887\" font-size=\"1.0rem\" font-weight=\"100\" text-anchor=\"middle\" transform=\"rotate(-90,274.948598,55.113887)\">486</text>\n",
       "  <text x=\"117.474299\" y=\"107.804877\" font-size=\"1.0rem\" font-weight=\"100\" text-anchor=\"middle\" transform=\"rotate(45,117.474299,107.804877)\">3</text>\n",
       "</svg>\n",
       "        </td>\n",
       "    </tr>\n",
       "</table></div></li></ul></div></li><li class='xr-section-item'><input id='section-21d20b8a-bf51-42c1-9e69-02aeb4506fc5' class='xr-section-summary-in' type='checkbox'  checked><label for='section-21d20b8a-bf51-42c1-9e69-02aeb4506fc5' class='xr-section-summary' >Attributes: <span>(1)</span></label><div class='xr-section-inline-details'></div><div class='xr-section-details'><dl class='xr-attrs'><dt><span>pct_values :</span></dt><dd>[0.1 0.2 0.3 0.4 0.5 0.6 0.7 0.8 0.9]</dd></dl></div></li></ul></div></div>"
      ],
      "text/plain": [
       "<xarray.Dataset>\n",
       "Dimensions:  (GCM: 9, decile: 10, time: 1, step: 3, lat: 486, lon: 726)\n",
       "Coordinates:\n",
       "  * GCM      (GCM) object 'ECCC_CanCM4i' 'ECMWF' 'UKMO' ... 'NCEP' 'DWD'\n",
       "  * time     (time) datetime64[ns] 2022-02-01\n",
       "  * step     (step) int64 3 4 5\n",
       "    month    int64 2\n",
       "  * decile   (decile) int64 1 2 3 4 5 6 7 8 9 10\n",
       "  * lon      (lon) float64 120.0 120.2 120.3 120.5 ... 239.5 239.7 239.8 240.0\n",
       "  * lat      (lat) float64 -50.0 -49.84 -49.67 -49.51 ... 29.51 29.67 29.84 30.0\n",
       "Data variables:\n",
       "    precip   (GCM, decile, time, step, lat, lon) float64 dask.array<chunksize=(1, 10, 1, 3, 486, 726), meta=np.ndarray>\n",
       "Attributes:\n",
       "    pct_values:  [0.1 0.2 0.3 0.4 0.5 0.6 0.7 0.8 0.9]"
      ]
     },
     "execution_count": 28,
     "metadata": {},
     "output_type": "execute_result"
    }
   ],
   "source": [
    "probs"
   ]
  },
  {
   "cell_type": "code",
   "execution_count": 29,
   "id": "e0351790",
   "metadata": {
    "execution": {
     "iopub.execute_input": "2022-03-13T23:12:50.406393Z",
     "iopub.status.busy": "2022-03-13T23:12:50.405975Z",
     "iopub.status.idle": "2022-03-13T23:12:50.425447Z",
     "shell.execute_reply": "2022-03-13T23:12:50.425088Z"
    },
    "papermill": {
     "duration": 0.070025,
     "end_time": "2022-03-13T23:12:50.425573",
     "exception": false,
     "start_time": "2022-03-13T23:12:50.355548",
     "status": "completed"
    },
    "tags": []
   },
   "outputs": [],
   "source": [
    "probs = probs.mean('GCM')"
   ]
  },
  {
   "cell_type": "markdown",
   "id": "cf30fa54",
   "metadata": {
    "papermill": {
     "duration": 0.043886,
     "end_time": "2022-03-13T23:12:50.519198",
     "exception": false,
     "start_time": "2022-03-13T23:12:50.475312",
     "status": "completed"
    },
    "tags": []
   },
   "source": [
    "### make sure the probabilities sum to 100 over the decile dimension "
   ]
  },
  {
   "cell_type": "code",
   "execution_count": 30,
   "id": "2145cec1",
   "metadata": {
    "execution": {
     "iopub.execute_input": "2022-03-13T23:12:50.612008Z",
     "iopub.status.busy": "2022-03-13T23:12:50.611433Z",
     "iopub.status.idle": "2022-03-13T23:12:53.231558Z",
     "shell.execute_reply": "2022-03-13T23:12:53.231207Z"
    },
    "papermill": {
     "duration": 2.666575,
     "end_time": "2022-03-13T23:12:53.231662",
     "exception": false,
     "start_time": "2022-03-13T23:12:50.565087",
     "status": "completed"
    },
    "tags": []
   },
   "outputs": [
    {
     "data": {
      "text/plain": [
       "<matplotlib.collections.QuadMesh at 0x7f13ed09bee0>"
      ]
     },
     "execution_count": 30,
     "metadata": {},
     "output_type": "execute_result"
    },
    {
     "data": {
      "image/png": "[encoded data removed]",
      "text/plain": [
       "<Figure size 432x288 with 2 Axes>"
      ]
     },
     "metadata": {
      "needs_background": "light"
     },
     "output_type": "display_data"
    }
   ],
   "source": [
    "probs.sum('decile').squeeze().sel(step=3)['precip'].plot(vmin=99.99, vmax=100.01)"
   ]
  },
  {
   "cell_type": "markdown",
   "id": "60ff4443",
   "metadata": {
    "papermill": {
     "duration": 0.056478,
     "end_time": "2022-03-13T23:12:53.332298",
     "exception": false,
     "start_time": "2022-03-13T23:12:53.275820",
     "status": "completed"
    },
    "tags": []
   },
   "source": [
    "### Now calculates the cumulative probabilities over the decile dimension "
   ]
  },
  {
   "cell_type": "code",
   "execution_count": 31,
   "id": "d275c7d1",
   "metadata": {
    "execution": {
     "iopub.execute_input": "2022-03-13T23:12:53.423885Z",
     "iopub.status.busy": "2022-03-13T23:12:53.423510Z",
     "iopub.status.idle": "2022-03-13T23:12:53.441199Z",
     "shell.execute_reply": "2022-03-13T23:12:53.441467Z"
    },
    "papermill": {
     "duration": 0.06522,
     "end_time": "2022-03-13T23:12:53.441599",
     "exception": false,
     "start_time": "2022-03-13T23:12:53.376379",
     "status": "completed"
    },
    "tags": []
   },
   "outputs": [],
   "source": [
    "cum_probs = probs.cumsum('decile', keep_attrs=True)"
   ]
  },
  {
   "cell_type": "code",
   "execution_count": 32,
   "id": "e2d3a5b1",
   "metadata": {
    "execution": {
     "iopub.execute_input": "2022-03-13T23:12:53.535136Z",
     "iopub.status.busy": "2022-03-13T23:12:53.534789Z",
     "iopub.status.idle": "2022-03-13T23:12:56.258246Z",
     "shell.execute_reply": "2022-03-13T23:12:56.257954Z"
    },
    "papermill": {
     "duration": 2.771546,
     "end_time": "2022-03-13T23:12:56.258350",
     "exception": false,
     "start_time": "2022-03-13T23:12:53.486804",
     "status": "completed"
    },
    "tags": []
   },
   "outputs": [
    {
     "data": {
      "text/plain": [
       "<matplotlib.collections.QuadMesh at 0x7f14651ecdf0>"
      ]
     },
     "execution_count": 32,
     "metadata": {},
     "output_type": "execute_result"
    },
    {
     "data": {
      "image/png": "[encoded data removed]",
      "text/plain": [
       "<Figure size 432x288 with 2 Axes>"
      ]
     },
     "metadata": {
      "needs_background": "light"
     },
     "output_type": "display_data"
    }
   ],
   "source": [
    "cum_probs.isel(decile=-1).sel(step=step).squeeze()['precip'].plot()"
   ]
  },
  {
   "cell_type": "code",
   "execution_count": 33,
   "id": "5c82b73b-a41e-4aec-90ba-d46d59acbd25",
   "metadata": {
    "execution": {
     "iopub.execute_input": "2022-03-13T23:12:56.355299Z",
     "iopub.status.busy": "2022-03-13T23:12:56.354686Z",
     "iopub.status.idle": "2022-03-13T23:12:56.388100Z",
     "shell.execute_reply": "2022-03-13T23:12:56.387804Z"
    },
    "papermill": {
     "duration": 0.083414,
     "end_time": "2022-03-13T23:12:56.388205",
     "exception": false,
     "start_time": "2022-03-13T23:12:56.304791",
     "status": "completed"
    },
    "tags": []
   },
   "outputs": [
    {
     "data": {
      "text/html": [
       "<div><svg style=\"position: absolute; width: 0; height: 0; overflow: hidden\">\n",
       "<defs>\n",
       "<symbol id=\"icon-database\" viewBox=\"0 0 32 32\">\n",
       "<path d=\"M16 0c-8.837 0-16 2.239-16 5v4c0 2.761 7.163 5 16 5s16-2.239 16-5v-4c0-2.761-7.163-5-16-5z\"></path>\n",
       "<path d=\"M16 17c-8.837 0-16-2.239-16-5v6c0 2.761 7.163 5 16 5s16-2.239 16-5v-6c0 2.761-7.163 5-16 5z\"></path>\n",
       "<path d=\"M16 26c-8.837 0-16-2.239-16-5v6c0 2.761 7.163 5 16 5s16-2.239 16-5v-6c0 2.761-7.163 5-16 5z\"></path>\n",
       "</symbol>\n",
       "<symbol id=\"icon-file-text2\" viewBox=\"0 0 32 32\">\n",
       "<path d=\"M28.681 7.159c-0.694-0.947-1.662-2.053-2.724-3.116s-2.169-2.030-3.116-2.724c-1.612-1.182-2.393-1.319-2.841-1.319h-15.5c-1.378 0-2.5 1.121-2.5 2.5v27c0 1.378 1.122 2.5 2.5 2.5h23c1.378 0 2.5-1.122 2.5-2.5v-19.5c0-0.448-0.137-1.23-1.319-2.841zM24.543 5.457c0.959 0.959 1.712 1.825 2.268 2.543h-4.811v-4.811c0.718 0.556 1.584 1.309 2.543 2.268zM28 29.5c0 0.271-0.229 0.5-0.5 0.5h-23c-0.271 0-0.5-0.229-0.5-0.5v-27c0-0.271 0.229-0.5 0.5-0.5 0 0 15.499-0 15.5 0v7c0 0.552 0.448 1 1 1h7v19.5z\"></path>\n",
       "<path d=\"M23 26h-14c-0.552 0-1-0.448-1-1s0.448-1 1-1h14c0.552 0 1 0.448 1 1s-0.448 1-1 1z\"></path>\n",
       "<path d=\"M23 22h-14c-0.552 0-1-0.448-1-1s0.448-1 1-1h14c0.552 0 1 0.448 1 1s-0.448 1-1 1z\"></path>\n",
       "<path d=\"M23 18h-14c-0.552 0-1-0.448-1-1s0.448-1 1-1h14c0.552 0 1 0.448 1 1s-0.448 1-1 1z\"></path>\n",
       "</symbol>\n",
       "</defs>\n",
       "</svg>\n",
       "<style>/* CSS stylesheet for displaying xarray objects in jupyterlab.\n",
       " *\n",
       " */\n",
       "\n",
       ":root {\n",
       "  --xr-font-color0: var(--jp-content-font-color0, rgba(0, 0, 0, 1));\n",
       "  --xr-font-color2: var(--jp-content-font-color2, rgba(0, 0, 0, 0.54));\n",
       "  --xr-font-color3: var(--jp-content-font-color3, rgba(0, 0, 0, 0.38));\n",
       "  --xr-border-color: var(--jp-border-color2, #e0e0e0);\n",
       "  --xr-disabled-color: var(--jp-layout-color3, #bdbdbd);\n",
       "  --xr-background-color: var(--jp-layout-color0, white);\n",
       "  --xr-background-color-row-even: var(--jp-layout-color1, white);\n",
       "  --xr-background-color-row-odd: var(--jp-layout-color2, #eeeeee);\n",
       "}\n",
       "\n",
       "html[theme=dark],\n",
       "body.vscode-dark {\n",
       "  --xr-font-color0: rgba(255, 255, 255, 1);\n",
       "  --xr-font-color2: rgba(255, 255, 255, 0.54);\n",
       "  --xr-font-color3: rgba(255, 255, 255, 0.38);\n",
       "  --xr-border-color: #1F1F1F;\n",
       "  --xr-disabled-color: #515151;\n",
       "  --xr-background-color: #111111;\n",
       "  --xr-background-color-row-even: #111111;\n",
       "  --xr-background-color-row-odd: #313131;\n",
       "}\n",
       "\n",
       ".xr-wrap {\n",
       "  display: block !important;\n",
       "  min-width: 300px;\n",
       "  max-width: 700px;\n",
       "}\n",
       "\n",
       ".xr-text-repr-fallback {\n",
       "  /* fallback to plain text repr when CSS is not injected (untrusted notebook) */\n",
       "  display: none;\n",
       "}\n",
       "\n",
       ".xr-header {\n",
       "  padding-top: 6px;\n",
       "  padding-bottom: 6px;\n",
       "  margin-bottom: 4px;\n",
       "  border-bottom: solid 1px var(--xr-border-color);\n",
       "}\n",
       "\n",
       ".xr-header > div,\n",
       ".xr-header > ul {\n",
       "  display: inline;\n",
       "  margin-top: 0;\n",
       "  margin-bottom: 0;\n",
       "}\n",
       "\n",
       ".xr-obj-type,\n",
       ".xr-array-name {\n",
       "  margin-left: 2px;\n",
       "  margin-right: 10px;\n",
       "}\n",
       "\n",
       ".xr-obj-type {\n",
       "  color: var(--xr-font-color2);\n",
       "}\n",
       "\n",
       ".xr-sections {\n",
       "  padding-left: 0 !important;\n",
       "  display: grid;\n",
       "  grid-template-columns: 150px auto auto 1fr 20px 20px;\n",
       "}\n",
       "\n",
       ".xr-section-item {\n",
       "  display: contents;\n",
       "}\n",
       "\n",
       ".xr-section-item input {\n",
       "  display: none;\n",
       "}\n",
       "\n",
       ".xr-section-item input + label {\n",
       "  color: var(--xr-disabled-color);\n",
       "}\n",
       "\n",
       ".xr-section-item input:enabled + label {\n",
       "  cursor: pointer;\n",
       "  color: var(--xr-font-color2);\n",
       "}\n",
       "\n",
       ".xr-section-item input:enabled + label:hover {\n",
       "  color: var(--xr-font-color0);\n",
       "}\n",
       "\n",
       ".xr-section-summary {\n",
       "  grid-column: 1;\n",
       "  color: var(--xr-font-color2);\n",
       "  font-weight: 500;\n",
       "}\n",
       "\n",
       ".xr-section-summary > span {\n",
       "  display: inline-block;\n",
       "  padding-left: 0.5em;\n",
       "}\n",
       "\n",
       ".xr-section-summary-in:disabled + label {\n",
       "  color: var(--xr-font-color2);\n",
       "}\n",
       "\n",
       ".xr-section-summary-in + label:before {\n",
       "  display: inline-block;\n",
       "  content: '►';\n",
       "  font-size: 11px;\n",
       "  width: 15px;\n",
       "  text-align: center;\n",
       "}\n",
       "\n",
       ".xr-section-summary-in:disabled + label:before {\n",
       "  color: var(--xr-disabled-color);\n",
       "}\n",
       "\n",
       ".xr-section-summary-in:checked + label:before {\n",
       "  content: '▼';\n",
       "}\n",
       "\n",
       ".xr-section-summary-in:checked + label > span {\n",
       "  display: none;\n",
       "}\n",
       "\n",
       ".xr-section-summary,\n",
       ".xr-section-inline-details {\n",
       "  padding-top: 4px;\n",
       "  padding-bottom: 4px;\n",
       "}\n",
       "\n",
       ".xr-section-inline-details {\n",
       "  grid-column: 2 / -1;\n",
       "}\n",
       "\n",
       ".xr-section-details {\n",
       "  display: none;\n",
       "  grid-column: 1 / -1;\n",
       "  margin-bottom: 5px;\n",
       "}\n",
       "\n",
       ".xr-section-summary-in:checked ~ .xr-section-details {\n",
       "  display: contents;\n",
       "}\n",
       "\n",
       ".xr-array-wrap {\n",
       "  grid-column: 1 / -1;\n",
       "  display: grid;\n",
       "  grid-template-columns: 20px auto;\n",
       "}\n",
       "\n",
       ".xr-array-wrap > label {\n",
       "  grid-column: 1;\n",
       "  vertical-align: top;\n",
       "}\n",
       "\n",
       ".xr-preview {\n",
       "  color: var(--xr-font-color3);\n",
       "}\n",
       "\n",
       ".xr-array-preview,\n",
       ".xr-array-data {\n",
       "  padding: 0 5px !important;\n",
       "  grid-column: 2;\n",
       "}\n",
       "\n",
       ".xr-array-data,\n",
       ".xr-array-in:checked ~ .xr-array-preview {\n",
       "  display: none;\n",
       "}\n",
       "\n",
       ".xr-array-in:checked ~ .xr-array-data,\n",
       ".xr-array-preview {\n",
       "  display: inline-block;\n",
       "}\n",
       "\n",
       ".xr-dim-list {\n",
       "  display: inline-block !important;\n",
       "  list-style: none;\n",
       "  padding: 0 !important;\n",
       "  margin: 0;\n",
       "}\n",
       "\n",
       ".xr-dim-list li {\n",
       "  display: inline-block;\n",
       "  padding: 0;\n",
       "  margin: 0;\n",
       "}\n",
       "\n",
       ".xr-dim-list:before {\n",
       "  content: '(';\n",
       "}\n",
       "\n",
       ".xr-dim-list:after {\n",
       "  content: ')';\n",
       "}\n",
       "\n",
       ".xr-dim-list li:not(:last-child):after {\n",
       "  content: ',';\n",
       "  padding-right: 5px;\n",
       "}\n",
       "\n",
       ".xr-has-index {\n",
       "  font-weight: bold;\n",
       "}\n",
       "\n",
       ".xr-var-list,\n",
       ".xr-var-item {\n",
       "  display: contents;\n",
       "}\n",
       "\n",
       ".xr-var-item > div,\n",
       ".xr-var-item label,\n",
       ".xr-var-item > .xr-var-name span {\n",
       "  background-color: var(--xr-background-color-row-even);\n",
       "  margin-bottom: 0;\n",
       "}\n",
       "\n",
       ".xr-var-item > .xr-var-name:hover span {\n",
       "  padding-right: 5px;\n",
       "}\n",
       "\n",
       ".xr-var-list > li:nth-child(odd) > div,\n",
       ".xr-var-list > li:nth-child(odd) > label,\n",
       ".xr-var-list > li:nth-child(odd) > .xr-var-name span {\n",
       "  background-color: var(--xr-background-color-row-odd);\n",
       "}\n",
       "\n",
       ".xr-var-name {\n",
       "  grid-column: 1;\n",
       "}\n",
       "\n",
       ".xr-var-dims {\n",
       "  grid-column: 2;\n",
       "}\n",
       "\n",
       ".xr-var-dtype {\n",
       "  grid-column: 3;\n",
       "  text-align: right;\n",
       "  color: var(--xr-font-color2);\n",
       "}\n",
       "\n",
       ".xr-var-preview {\n",
       "  grid-column: 4;\n",
       "}\n",
       "\n",
       ".xr-var-name,\n",
       ".xr-var-dims,\n",
       ".xr-var-dtype,\n",
       ".xr-preview,\n",
       ".xr-attrs dt {\n",
       "  white-space: nowrap;\n",
       "  overflow: hidden;\n",
       "  text-overflow: ellipsis;\n",
       "  padding-right: 10px;\n",
       "}\n",
       "\n",
       ".xr-var-name:hover,\n",
       ".xr-var-dims:hover,\n",
       ".xr-var-dtype:hover,\n",
       ".xr-attrs dt:hover {\n",
       "  overflow: visible;\n",
       "  width: auto;\n",
       "  z-index: 1;\n",
       "}\n",
       "\n",
       ".xr-var-attrs,\n",
       ".xr-var-data {\n",
       "  display: none;\n",
       "  background-color: var(--xr-background-color) !important;\n",
       "  padding-bottom: 5px !important;\n",
       "}\n",
       "\n",
       ".xr-var-attrs-in:checked ~ .xr-var-attrs,\n",
       ".xr-var-data-in:checked ~ .xr-var-data {\n",
       "  display: block;\n",
       "}\n",
       "\n",
       ".xr-var-data > table {\n",
       "  float: right;\n",
       "}\n",
       "\n",
       ".xr-var-name span,\n",
       ".xr-var-data,\n",
       ".xr-attrs {\n",
       "  padding-left: 25px !important;\n",
       "}\n",
       "\n",
       ".xr-attrs,\n",
       ".xr-var-attrs,\n",
       ".xr-var-data {\n",
       "  grid-column: 1 / -1;\n",
       "}\n",
       "\n",
       "dl.xr-attrs {\n",
       "  padding: 0;\n",
       "  margin: 0;\n",
       "  display: grid;\n",
       "  grid-template-columns: 125px auto;\n",
       "}\n",
       "\n",
       ".xr-attrs dt,\n",
       ".xr-attrs dd {\n",
       "  padding: 0;\n",
       "  margin: 0;\n",
       "  float: left;\n",
       "  padding-right: 10px;\n",
       "  width: auto;\n",
       "}\n",
       "\n",
       ".xr-attrs dt {\n",
       "  font-weight: normal;\n",
       "  grid-column: 1;\n",
       "}\n",
       "\n",
       ".xr-attrs dt:hover span {\n",
       "  display: inline-block;\n",
       "  background: var(--xr-background-color);\n",
       "  padding-right: 10px;\n",
       "}\n",
       "\n",
       ".xr-attrs dd {\n",
       "  grid-column: 2;\n",
       "  white-space: pre-wrap;\n",
       "  word-break: break-all;\n",
       "}\n",
       "\n",
       ".xr-icon-database,\n",
       ".xr-icon-file-text2 {\n",
       "  display: inline-block;\n",
       "  vertical-align: middle;\n",
       "  width: 1em;\n",
       "  height: 1.5em !important;\n",
       "  stroke-width: 0;\n",
       "  stroke: currentColor;\n",
       "  fill: currentColor;\n",
       "}\n",
       "</style><pre class='xr-text-repr-fallback'>&lt;xarray.Dataset&gt;\n",
       "Dimensions:  (decile: 10, time: 1, step: 3, lat: 486, lon: 726)\n",
       "Coordinates:\n",
       "  * time     (time) datetime64[ns] 2022-02-01\n",
       "  * step     (step) int64 3 4 5\n",
       "    month    int64 2\n",
       "  * lon      (lon) float64 120.0 120.2 120.3 120.5 ... 239.5 239.7 239.8 240.0\n",
       "  * lat      (lat) float64 -50.0 -49.84 -49.67 -49.51 ... 29.51 29.67 29.84 30.0\n",
       "Dimensions without coordinates: decile\n",
       "Data variables:\n",
       "    precip   (decile, time, step, lat, lon) float64 dask.array&lt;chunksize=(10, 1, 3, 486, 726), meta=np.ndarray&gt;</pre><div class='xr-wrap' style='display:none'><div class='xr-header'><div class='xr-obj-type'>xarray.Dataset</div></div><ul class='xr-sections'><li class='xr-section-item'><input id='section-2d0a84e0-11ac-47fe-94f2-22fe8b3078bc' class='xr-section-summary-in' type='checkbox' disabled ><label for='section-2d0a84e0-11ac-47fe-94f2-22fe8b3078bc' class='xr-section-summary'  title='Expand/collapse section'>Dimensions:</label><div class='xr-section-inline-details'><ul class='xr-dim-list'><li><span>decile</span>: 10</li><li><span class='xr-has-index'>time</span>: 1</li><li><span class='xr-has-index'>step</span>: 3</li><li><span class='xr-has-index'>lat</span>: 486</li><li><span class='xr-has-index'>lon</span>: 726</li></ul></div><div class='xr-section-details'></div></li><li class='xr-section-item'><input id='section-bc048948-01a7-496e-9dea-6a55c6886255' class='xr-section-summary-in' type='checkbox'  checked><label for='section-bc048948-01a7-496e-9dea-6a55c6886255' class='xr-section-summary' >Coordinates: <span>(5)</span></label><div class='xr-section-inline-details'></div><div class='xr-section-details'><ul class='xr-var-list'><li class='xr-var-item'><div class='xr-var-name'><span class='xr-has-index'>time</span></div><div class='xr-var-dims'>(time)</div><div class='xr-var-dtype'>datetime64[ns]</div><div class='xr-var-preview xr-preview'>2022-02-01</div><input id='attrs-0b41efd8-9644-411c-8c5f-319b344b0e52' class='xr-var-attrs-in' type='checkbox' disabled><label for='attrs-0b41efd8-9644-411c-8c5f-319b344b0e52' title='Show/Hide attributes'><svg class='icon xr-icon-file-text2'><use xlink:href='#icon-file-text2'></use></svg></label><input id='data-70894d28-9f08-4d4a-a4b2-0d81b1a5447d' class='xr-var-data-in' type='checkbox'><label for='data-70894d28-9f08-4d4a-a4b2-0d81b1a5447d' title='Show/Hide data repr'><svg class='icon xr-icon-database'><use xlink:href='#icon-database'></use></svg></label><div class='xr-var-attrs'><dl class='xr-attrs'></dl></div><div class='xr-var-data'><pre>array([&#x27;2022-02-01T00:00:00.000000000&#x27;], dtype=&#x27;datetime64[ns]&#x27;)</pre></div></li><li class='xr-var-item'><div class='xr-var-name'><span class='xr-has-index'>step</span></div><div class='xr-var-dims'>(step)</div><div class='xr-var-dtype'>int64</div><div class='xr-var-preview xr-preview'>3 4 5</div><input id='attrs-23d5fc17-92af-4d65-8bf9-dce7ffb82585' class='xr-var-attrs-in' type='checkbox' disabled><label for='attrs-23d5fc17-92af-4d65-8bf9-dce7ffb82585' title='Show/Hide attributes'><svg class='icon xr-icon-file-text2'><use xlink:href='#icon-file-text2'></use></svg></label><input id='data-fad630fc-cdac-42b4-bb44-420e02fc4d28' class='xr-var-data-in' type='checkbox'><label for='data-fad630fc-cdac-42b4-bb44-420e02fc4d28' title='Show/Hide data repr'><svg class='icon xr-icon-database'><use xlink:href='#icon-database'></use></svg></label><div class='xr-var-attrs'><dl class='xr-attrs'></dl></div><div class='xr-var-data'><pre>array([3, 4, 5])</pre></div></li><li class='xr-var-item'><div class='xr-var-name'><span>month</span></div><div class='xr-var-dims'>()</div><div class='xr-var-dtype'>int64</div><div class='xr-var-preview xr-preview'>2</div><input id='attrs-463c6dce-8505-4626-bf08-37e808455468' class='xr-var-attrs-in' type='checkbox' disabled><label for='attrs-463c6dce-8505-4626-bf08-37e808455468' title='Show/Hide attributes'><svg class='icon xr-icon-file-text2'><use xlink:href='#icon-file-text2'></use></svg></label><input id='data-2f94b7ae-d220-422d-8394-560682cf2b72' class='xr-var-data-in' type='checkbox'><label for='data-2f94b7ae-d220-422d-8394-560682cf2b72' title='Show/Hide data repr'><svg class='icon xr-icon-database'><use xlink:href='#icon-database'></use></svg></label><div class='xr-var-attrs'><dl class='xr-attrs'></dl></div><div class='xr-var-data'><pre>array(2)</pre></div></li><li class='xr-var-item'><div class='xr-var-name'><span class='xr-has-index'>lon</span></div><div class='xr-var-dims'>(lon)</div><div class='xr-var-dtype'>float64</div><div class='xr-var-preview xr-preview'>120.0 120.2 120.3 ... 239.8 240.0</div><input id='attrs-df0a8fa7-4fa9-42e3-89cb-03e0d34e4d45' class='xr-var-attrs-in' type='checkbox' disabled><label for='attrs-df0a8fa7-4fa9-42e3-89cb-03e0d34e4d45' title='Show/Hide attributes'><svg class='icon xr-icon-file-text2'><use xlink:href='#icon-file-text2'></use></svg></label><input id='data-06ea97d3-0939-4da8-8d80-f3094843264f' class='xr-var-data-in' type='checkbox'><label for='data-06ea97d3-0939-4da8-8d80-f3094843264f' title='Show/Hide data repr'><svg class='icon xr-icon-database'><use xlink:href='#icon-database'></use></svg></label><div class='xr-var-attrs'><dl class='xr-attrs'></dl></div><div class='xr-var-data'><pre>array([120.      , 120.165517, 120.331034, ..., 239.668966, 239.834483,\n",
       "       240.      ])</pre></div></li><li class='xr-var-item'><div class='xr-var-name'><span class='xr-has-index'>lat</span></div><div class='xr-var-dims'>(lat)</div><div class='xr-var-dtype'>float64</div><div class='xr-var-preview xr-preview'>-50.0 -49.84 -49.67 ... 29.84 30.0</div><input id='attrs-22dce15d-9dac-498d-9105-e5ffe0dc657c' class='xr-var-attrs-in' type='checkbox' disabled><label for='attrs-22dce15d-9dac-498d-9105-e5ffe0dc657c' title='Show/Hide attributes'><svg class='icon xr-icon-file-text2'><use xlink:href='#icon-file-text2'></use></svg></label><input id='data-c82640bb-45c0-46d1-a6e7-b90445991f94' class='xr-var-data-in' type='checkbox'><label for='data-c82640bb-45c0-46d1-a6e7-b90445991f94' title='Show/Hide data repr'><svg class='icon xr-icon-database'><use xlink:href='#icon-database'></use></svg></label><div class='xr-var-attrs'><dl class='xr-attrs'></dl></div><div class='xr-var-data'><pre>array([-50.      , -49.835052, -49.670103, ...,  29.670103,  29.835052,\n",
       "        30.      ])</pre></div></li></ul></div></li><li class='xr-section-item'><input id='section-1bf289e2-0d4d-48b1-a07f-f0486ae3961c' class='xr-section-summary-in' type='checkbox'  checked><label for='section-1bf289e2-0d4d-48b1-a07f-f0486ae3961c' class='xr-section-summary' >Data variables: <span>(1)</span></label><div class='xr-section-inline-details'></div><div class='xr-section-details'><ul class='xr-var-list'><li class='xr-var-item'><div class='xr-var-name'><span>precip</span></div><div class='xr-var-dims'>(decile, time, step, lat, lon)</div><div class='xr-var-dtype'>float64</div><div class='xr-var-preview xr-preview'>dask.array&lt;chunksize=(10, 1, 3, 486, 726), meta=np.ndarray&gt;</div><input id='attrs-2933c69b-71a2-4127-8bac-e5f07e837133' class='xr-var-attrs-in' type='checkbox' disabled><label for='attrs-2933c69b-71a2-4127-8bac-e5f07e837133' title='Show/Hide attributes'><svg class='icon xr-icon-file-text2'><use xlink:href='#icon-file-text2'></use></svg></label><input id='data-64a2bfbb-9747-4048-84f2-9bccbfa6d917' class='xr-var-data-in' type='checkbox'><label for='data-64a2bfbb-9747-4048-84f2-9bccbfa6d917' title='Show/Hide data repr'><svg class='icon xr-icon-database'><use xlink:href='#icon-database'></use></svg></label><div class='xr-var-attrs'><dl class='xr-attrs'></dl></div><div class='xr-var-data'><table>\n",
       "    <tr>\n",
       "        <td>\n",
       "            <table>\n",
       "                <thead>\n",
       "                    <tr>\n",
       "                        <td> </td>\n",
       "                        <th> Array </th>\n",
       "                        <th> Chunk </th>\n",
       "                    </tr>\n",
       "                </thead>\n",
       "                <tbody>\n",
       "                    \n",
       "                    <tr>\n",
       "                        <th> Bytes </th>\n",
       "                        <td> 80.76 MiB </td>\n",
       "                        <td> 80.76 MiB </td>\n",
       "                    </tr>\n",
       "                    \n",
       "                    <tr>\n",
       "                        <th> Shape </th>\n",
       "                        <td> (10, 1, 3, 486, 726) </td>\n",
       "                        <td> (10, 1, 3, 486, 726) </td>\n",
       "                    </tr>\n",
       "                    <tr>\n",
       "                        <th> Count </th>\n",
       "                        <td> 87 Tasks </td>\n",
       "                        <td> 1 Chunks </td>\n",
       "                    </tr>\n",
       "                    <tr>\n",
       "                    <th> Type </th>\n",
       "                    <td> float64 </td>\n",
       "                    <td> numpy.ndarray </td>\n",
       "                    </tr>\n",
       "                </tbody>\n",
       "            </table>\n",
       "        </td>\n",
       "        <td>\n",
       "        <svg width=\"374\" height=\"145\" style=\"stroke:rgb(0,0,0);stroke-width:1\" >\n",
       "\n",
       "  <!-- Horizontal lines -->\n",
       "  <line x1=\"0\" y1=\"0\" x2=\"25\" y2=\"0\" style=\"stroke-width:2\" />\n",
       "  <line x1=\"0\" y1=\"27\" x2=\"25\" y2=\"27\" style=\"stroke-width:2\" />\n",
       "\n",
       "  <!-- Vertical lines -->\n",
       "  <line x1=\"0\" y1=\"0\" x2=\"0\" y2=\"27\" style=\"stroke-width:2\" />\n",
       "  <line x1=\"25\" y1=\"0\" x2=\"25\" y2=\"27\" style=\"stroke-width:2\" />\n",
       "\n",
       "  <!-- Colored Rectangle -->\n",
       "  <polygon points=\"0.0,0.0 25.412616514582485,0.0 25.412616514582485,27.01089801381342 0.0,27.01089801381342\" style=\"fill:#ECB172A0;stroke-width:0\"/>\n",
       "\n",
       "  <!-- Text -->\n",
       "  <text x=\"12.706308\" y=\"47.010898\" font-size=\"1.0rem\" font-weight=\"100\" text-anchor=\"middle\" >1</text>\n",
       "  <text x=\"45.412617\" y=\"13.505449\" font-size=\"1.0rem\" font-weight=\"100\" text-anchor=\"middle\" transform=\"rotate(0,45.412617,13.505449)\">10</text>\n",
       "\n",
       "\n",
       "  <!-- Horizontal lines -->\n",
       "  <line x1=\"95\" y1=\"0\" x2=\"109\" y2=\"14\" style=\"stroke-width:2\" />\n",
       "  <line x1=\"95\" y1=\"80\" x2=\"109\" y2=\"95\" style=\"stroke-width:2\" />\n",
       "\n",
       "  <!-- Vertical lines -->\n",
       "  <line x1=\"95\" y1=\"0\" x2=\"95\" y2=\"80\" style=\"stroke-width:2\" />\n",
       "  <line x1=\"109\" y1=\"14\" x2=\"109\" y2=\"95\" style=\"stroke-width:2\" />\n",
       "\n",
       "  <!-- Colored Rectangle -->\n",
       "  <polygon points=\"95.0,0.0 109.9485979497544,14.948597949754403 109.9485979497544,95.2791764621511 95.0,80.3305785123967\" style=\"fill:#ECB172A0;stroke-width:0\"/>\n",
       "\n",
       "  <!-- Horizontal lines -->\n",
       "  <line x1=\"95\" y1=\"0\" x2=\"215\" y2=\"0\" style=\"stroke-width:2\" />\n",
       "  <line x1=\"109\" y1=\"14\" x2=\"229\" y2=\"14\" style=\"stroke-width:2\" />\n",
       "\n",
       "  <!-- Vertical lines -->\n",
       "  <line x1=\"95\" y1=\"0\" x2=\"109\" y2=\"14\" style=\"stroke-width:2\" />\n",
       "  <line x1=\"215\" y1=\"0\" x2=\"229\" y2=\"14\" style=\"stroke-width:2\" />\n",
       "\n",
       "  <!-- Colored Rectangle -->\n",
       "  <polygon points=\"95.0,0.0 215.0,0.0 229.9485979497544,14.948597949754403 109.9485979497544,14.948597949754403\" style=\"fill:#ECB172A0;stroke-width:0\"/>\n",
       "\n",
       "  <!-- Horizontal lines -->\n",
       "  <line x1=\"109\" y1=\"14\" x2=\"229\" y2=\"14\" style=\"stroke-width:2\" />\n",
       "  <line x1=\"109\" y1=\"95\" x2=\"229\" y2=\"95\" style=\"stroke-width:2\" />\n",
       "\n",
       "  <!-- Vertical lines -->\n",
       "  <line x1=\"109\" y1=\"14\" x2=\"109\" y2=\"95\" style=\"stroke-width:2\" />\n",
       "  <line x1=\"229\" y1=\"14\" x2=\"229\" y2=\"95\" style=\"stroke-width:2\" />\n",
       "\n",
       "  <!-- Colored Rectangle -->\n",
       "  <polygon points=\"109.9485979497544,14.948597949754403 229.9485979497544,14.948597949754403 229.9485979497544,95.2791764621511 109.9485979497544,95.2791764621511\" style=\"fill:#ECB172A0;stroke-width:0\"/>\n",
       "\n",
       "  <!-- Text -->\n",
       "  <text x=\"169.948598\" y=\"115.279176\" font-size=\"1.0rem\" font-weight=\"100\" text-anchor=\"middle\" >726</text>\n",
       "  <text x=\"249.948598\" y=\"55.113887\" font-size=\"1.0rem\" font-weight=\"100\" text-anchor=\"middle\" transform=\"rotate(-90,249.948598,55.113887)\">486</text>\n",
       "  <text x=\"92.474299\" y=\"107.804877\" font-size=\"1.0rem\" font-weight=\"100\" text-anchor=\"middle\" transform=\"rotate(45,92.474299,107.804877)\">3</text>\n",
       "</svg>\n",
       "        </td>\n",
       "    </tr>\n",
       "</table></div></li></ul></div></li><li class='xr-section-item'><input id='section-8d4bb021-bb2c-4144-a03c-a5f3eb1dd34d' class='xr-section-summary-in' type='checkbox' disabled ><label for='section-8d4bb021-bb2c-4144-a03c-a5f3eb1dd34d' class='xr-section-summary'  title='Expand/collapse section'>Attributes: <span>(0)</span></label><div class='xr-section-inline-details'></div><div class='xr-section-details'><dl class='xr-attrs'></dl></div></li></ul></div></div>"
      ],
      "text/plain": [
       "<xarray.Dataset>\n",
       "Dimensions:  (decile: 10, time: 1, step: 3, lat: 486, lon: 726)\n",
       "Coordinates:\n",
       "  * time     (time) datetime64[ns] 2022-02-01\n",
       "  * step     (step) int64 3 4 5\n",
       "    month    int64 2\n",
       "  * lon      (lon) float64 120.0 120.2 120.3 120.5 ... 239.5 239.7 239.8 240.0\n",
       "  * lat      (lat) float64 -50.0 -49.84 -49.67 -49.51 ... 29.51 29.67 29.84 30.0\n",
       "Dimensions without coordinates: decile\n",
       "Data variables:\n",
       "    precip   (decile, time, step, lat, lon) float64 dask.array<chunksize=(10, 1, 3, 486, 726), meta=np.ndarray>"
      ]
     },
     "execution_count": 33,
     "metadata": {},
     "output_type": "execute_result"
    }
   ],
   "source": [
    "cum_probs"
   ]
  },
  {
   "cell_type": "markdown",
   "id": "80105213",
   "metadata": {
    "papermill": {
     "duration": 0.047988,
     "end_time": "2022-03-13T23:12:56.486762",
     "exception": false,
     "start_time": "2022-03-13T23:12:56.438774",
     "status": "completed"
    },
    "tags": []
   },
   "source": [
    "### recode the decile values, so they go from 1 to 10 instead of 0 to 9 "
   ]
  },
  {
   "cell_type": "code",
   "execution_count": 34,
   "id": "61f05ada",
   "metadata": {
    "execution": {
     "iopub.execute_input": "2022-03-13T23:12:56.590997Z",
     "iopub.status.busy": "2022-03-13T23:12:56.590088Z",
     "iopub.status.idle": "2022-03-13T23:12:56.611193Z",
     "shell.execute_reply": "2022-03-13T23:12:56.610834Z"
    },
    "papermill": {
     "duration": 0.07809,
     "end_time": "2022-03-13T23:12:56.611297",
     "exception": false,
     "start_time": "2022-03-13T23:12:56.533207",
     "status": "completed"
    },
    "tags": []
   },
   "outputs": [
    {
     "data": {
      "text/html": [
       "<div><svg style=\"position: absolute; width: 0; height: 0; overflow: hidden\">\n",
       "<defs>\n",
       "<symbol id=\"icon-database\" viewBox=\"0 0 32 32\">\n",
       "<path d=\"M16 0c-8.837 0-16 2.239-16 5v4c0 2.761 7.163 5 16 5s16-2.239 16-5v-4c0-2.761-7.163-5-16-5z\"></path>\n",
       "<path d=\"M16 17c-8.837 0-16-2.239-16-5v6c0 2.761 7.163 5 16 5s16-2.239 16-5v-6c0 2.761-7.163 5-16 5z\"></path>\n",
       "<path d=\"M16 26c-8.837 0-16-2.239-16-5v6c0 2.761 7.163 5 16 5s16-2.239 16-5v-6c0 2.761-7.163 5-16 5z\"></path>\n",
       "</symbol>\n",
       "<symbol id=\"icon-file-text2\" viewBox=\"0 0 32 32\">\n",
       "<path d=\"M28.681 7.159c-0.694-0.947-1.662-2.053-2.724-3.116s-2.169-2.030-3.116-2.724c-1.612-1.182-2.393-1.319-2.841-1.319h-15.5c-1.378 0-2.5 1.121-2.5 2.5v27c0 1.378 1.122 2.5 2.5 2.5h23c1.378 0 2.5-1.122 2.5-2.5v-19.5c0-0.448-0.137-1.23-1.319-2.841zM24.543 5.457c0.959 0.959 1.712 1.825 2.268 2.543h-4.811v-4.811c0.718 0.556 1.584 1.309 2.543 2.268zM28 29.5c0 0.271-0.229 0.5-0.5 0.5h-23c-0.271 0-0.5-0.229-0.5-0.5v-27c0-0.271 0.229-0.5 0.5-0.5 0 0 15.499-0 15.5 0v7c0 0.552 0.448 1 1 1h7v19.5z\"></path>\n",
       "<path d=\"M23 26h-14c-0.552 0-1-0.448-1-1s0.448-1 1-1h14c0.552 0 1 0.448 1 1s-0.448 1-1 1z\"></path>\n",
       "<path d=\"M23 22h-14c-0.552 0-1-0.448-1-1s0.448-1 1-1h14c0.552 0 1 0.448 1 1s-0.448 1-1 1z\"></path>\n",
       "<path d=\"M23 18h-14c-0.552 0-1-0.448-1-1s0.448-1 1-1h14c0.552 0 1 0.448 1 1s-0.448 1-1 1z\"></path>\n",
       "</symbol>\n",
       "</defs>\n",
       "</svg>\n",
       "<style>/* CSS stylesheet for displaying xarray objects in jupyterlab.\n",
       " *\n",
       " */\n",
       "\n",
       ":root {\n",
       "  --xr-font-color0: var(--jp-content-font-color0, rgba(0, 0, 0, 1));\n",
       "  --xr-font-color2: var(--jp-content-font-color2, rgba(0, 0, 0, 0.54));\n",
       "  --xr-font-color3: var(--jp-content-font-color3, rgba(0, 0, 0, 0.38));\n",
       "  --xr-border-color: var(--jp-border-color2, #e0e0e0);\n",
       "  --xr-disabled-color: var(--jp-layout-color3, #bdbdbd);\n",
       "  --xr-background-color: var(--jp-layout-color0, white);\n",
       "  --xr-background-color-row-even: var(--jp-layout-color1, white);\n",
       "  --xr-background-color-row-odd: var(--jp-layout-color2, #eeeeee);\n",
       "}\n",
       "\n",
       "html[theme=dark],\n",
       "body.vscode-dark {\n",
       "  --xr-font-color0: rgba(255, 255, 255, 1);\n",
       "  --xr-font-color2: rgba(255, 255, 255, 0.54);\n",
       "  --xr-font-color3: rgba(255, 255, 255, 0.38);\n",
       "  --xr-border-color: #1F1F1F;\n",
       "  --xr-disabled-color: #515151;\n",
       "  --xr-background-color: #111111;\n",
       "  --xr-background-color-row-even: #111111;\n",
       "  --xr-background-color-row-odd: #313131;\n",
       "}\n",
       "\n",
       ".xr-wrap {\n",
       "  display: block !important;\n",
       "  min-width: 300px;\n",
       "  max-width: 700px;\n",
       "}\n",
       "\n",
       ".xr-text-repr-fallback {\n",
       "  /* fallback to plain text repr when CSS is not injected (untrusted notebook) */\n",
       "  display: none;\n",
       "}\n",
       "\n",
       ".xr-header {\n",
       "  padding-top: 6px;\n",
       "  padding-bottom: 6px;\n",
       "  margin-bottom: 4px;\n",
       "  border-bottom: solid 1px var(--xr-border-color);\n",
       "}\n",
       "\n",
       ".xr-header > div,\n",
       ".xr-header > ul {\n",
       "  display: inline;\n",
       "  margin-top: 0;\n",
       "  margin-bottom: 0;\n",
       "}\n",
       "\n",
       ".xr-obj-type,\n",
       ".xr-array-name {\n",
       "  margin-left: 2px;\n",
       "  margin-right: 10px;\n",
       "}\n",
       "\n",
       ".xr-obj-type {\n",
       "  color: var(--xr-font-color2);\n",
       "}\n",
       "\n",
       ".xr-sections {\n",
       "  padding-left: 0 !important;\n",
       "  display: grid;\n",
       "  grid-template-columns: 150px auto auto 1fr 20px 20px;\n",
       "}\n",
       "\n",
       ".xr-section-item {\n",
       "  display: contents;\n",
       "}\n",
       "\n",
       ".xr-section-item input {\n",
       "  display: none;\n",
       "}\n",
       "\n",
       ".xr-section-item input + label {\n",
       "  color: var(--xr-disabled-color);\n",
       "}\n",
       "\n",
       ".xr-section-item input:enabled + label {\n",
       "  cursor: pointer;\n",
       "  color: var(--xr-font-color2);\n",
       "}\n",
       "\n",
       ".xr-section-item input:enabled + label:hover {\n",
       "  color: var(--xr-font-color0);\n",
       "}\n",
       "\n",
       ".xr-section-summary {\n",
       "  grid-column: 1;\n",
       "  color: var(--xr-font-color2);\n",
       "  font-weight: 500;\n",
       "}\n",
       "\n",
       ".xr-section-summary > span {\n",
       "  display: inline-block;\n",
       "  padding-left: 0.5em;\n",
       "}\n",
       "\n",
       ".xr-section-summary-in:disabled + label {\n",
       "  color: var(--xr-font-color2);\n",
       "}\n",
       "\n",
       ".xr-section-summary-in + label:before {\n",
       "  display: inline-block;\n",
       "  content: '►';\n",
       "  font-size: 11px;\n",
       "  width: 15px;\n",
       "  text-align: center;\n",
       "}\n",
       "\n",
       ".xr-section-summary-in:disabled + label:before {\n",
       "  color: var(--xr-disabled-color);\n",
       "}\n",
       "\n",
       ".xr-section-summary-in:checked + label:before {\n",
       "  content: '▼';\n",
       "}\n",
       "\n",
       ".xr-section-summary-in:checked + label > span {\n",
       "  display: none;\n",
       "}\n",
       "\n",
       ".xr-section-summary,\n",
       ".xr-section-inline-details {\n",
       "  padding-top: 4px;\n",
       "  padding-bottom: 4px;\n",
       "}\n",
       "\n",
       ".xr-section-inline-details {\n",
       "  grid-column: 2 / -1;\n",
       "}\n",
       "\n",
       ".xr-section-details {\n",
       "  display: none;\n",
       "  grid-column: 1 / -1;\n",
       "  margin-bottom: 5px;\n",
       "}\n",
       "\n",
       ".xr-section-summary-in:checked ~ .xr-section-details {\n",
       "  display: contents;\n",
       "}\n",
       "\n",
       ".xr-array-wrap {\n",
       "  grid-column: 1 / -1;\n",
       "  display: grid;\n",
       "  grid-template-columns: 20px auto;\n",
       "}\n",
       "\n",
       ".xr-array-wrap > label {\n",
       "  grid-column: 1;\n",
       "  vertical-align: top;\n",
       "}\n",
       "\n",
       ".xr-preview {\n",
       "  color: var(--xr-font-color3);\n",
       "}\n",
       "\n",
       ".xr-array-preview,\n",
       ".xr-array-data {\n",
       "  padding: 0 5px !important;\n",
       "  grid-column: 2;\n",
       "}\n",
       "\n",
       ".xr-array-data,\n",
       ".xr-array-in:checked ~ .xr-array-preview {\n",
       "  display: none;\n",
       "}\n",
       "\n",
       ".xr-array-in:checked ~ .xr-array-data,\n",
       ".xr-array-preview {\n",
       "  display: inline-block;\n",
       "}\n",
       "\n",
       ".xr-dim-list {\n",
       "  display: inline-block !important;\n",
       "  list-style: none;\n",
       "  padding: 0 !important;\n",
       "  margin: 0;\n",
       "}\n",
       "\n",
       ".xr-dim-list li {\n",
       "  display: inline-block;\n",
       "  padding: 0;\n",
       "  margin: 0;\n",
       "}\n",
       "\n",
       ".xr-dim-list:before {\n",
       "  content: '(';\n",
       "}\n",
       "\n",
       ".xr-dim-list:after {\n",
       "  content: ')';\n",
       "}\n",
       "\n",
       ".xr-dim-list li:not(:last-child):after {\n",
       "  content: ',';\n",
       "  padding-right: 5px;\n",
       "}\n",
       "\n",
       ".xr-has-index {\n",
       "  font-weight: bold;\n",
       "}\n",
       "\n",
       ".xr-var-list,\n",
       ".xr-var-item {\n",
       "  display: contents;\n",
       "}\n",
       "\n",
       ".xr-var-item > div,\n",
       ".xr-var-item label,\n",
       ".xr-var-item > .xr-var-name span {\n",
       "  background-color: var(--xr-background-color-row-even);\n",
       "  margin-bottom: 0;\n",
       "}\n",
       "\n",
       ".xr-var-item > .xr-var-name:hover span {\n",
       "  padding-right: 5px;\n",
       "}\n",
       "\n",
       ".xr-var-list > li:nth-child(odd) > div,\n",
       ".xr-var-list > li:nth-child(odd) > label,\n",
       ".xr-var-list > li:nth-child(odd) > .xr-var-name span {\n",
       "  background-color: var(--xr-background-color-row-odd);\n",
       "}\n",
       "\n",
       ".xr-var-name {\n",
       "  grid-column: 1;\n",
       "}\n",
       "\n",
       ".xr-var-dims {\n",
       "  grid-column: 2;\n",
       "}\n",
       "\n",
       ".xr-var-dtype {\n",
       "  grid-column: 3;\n",
       "  text-align: right;\n",
       "  color: var(--xr-font-color2);\n",
       "}\n",
       "\n",
       ".xr-var-preview {\n",
       "  grid-column: 4;\n",
       "}\n",
       "\n",
       ".xr-var-name,\n",
       ".xr-var-dims,\n",
       ".xr-var-dtype,\n",
       ".xr-preview,\n",
       ".xr-attrs dt {\n",
       "  white-space: nowrap;\n",
       "  overflow: hidden;\n",
       "  text-overflow: ellipsis;\n",
       "  padding-right: 10px;\n",
       "}\n",
       "\n",
       ".xr-var-name:hover,\n",
       ".xr-var-dims:hover,\n",
       ".xr-var-dtype:hover,\n",
       ".xr-attrs dt:hover {\n",
       "  overflow: visible;\n",
       "  width: auto;\n",
       "  z-index: 1;\n",
       "}\n",
       "\n",
       ".xr-var-attrs,\n",
       ".xr-var-data {\n",
       "  display: none;\n",
       "  background-color: var(--xr-background-color) !important;\n",
       "  padding-bottom: 5px !important;\n",
       "}\n",
       "\n",
       ".xr-var-attrs-in:checked ~ .xr-var-attrs,\n",
       ".xr-var-data-in:checked ~ .xr-var-data {\n",
       "  display: block;\n",
       "}\n",
       "\n",
       ".xr-var-data > table {\n",
       "  float: right;\n",
       "}\n",
       "\n",
       ".xr-var-name span,\n",
       ".xr-var-data,\n",
       ".xr-attrs {\n",
       "  padding-left: 25px !important;\n",
       "}\n",
       "\n",
       ".xr-attrs,\n",
       ".xr-var-attrs,\n",
       ".xr-var-data {\n",
       "  grid-column: 1 / -1;\n",
       "}\n",
       "\n",
       "dl.xr-attrs {\n",
       "  padding: 0;\n",
       "  margin: 0;\n",
       "  display: grid;\n",
       "  grid-template-columns: 125px auto;\n",
       "}\n",
       "\n",
       ".xr-attrs dt,\n",
       ".xr-attrs dd {\n",
       "  padding: 0;\n",
       "  margin: 0;\n",
       "  float: left;\n",
       "  padding-right: 10px;\n",
       "  width: auto;\n",
       "}\n",
       "\n",
       ".xr-attrs dt {\n",
       "  font-weight: normal;\n",
       "  grid-column: 1;\n",
       "}\n",
       "\n",
       ".xr-attrs dt:hover span {\n",
       "  display: inline-block;\n",
       "  background: var(--xr-background-color);\n",
       "  padding-right: 10px;\n",
       "}\n",
       "\n",
       ".xr-attrs dd {\n",
       "  grid-column: 2;\n",
       "  white-space: pre-wrap;\n",
       "  word-break: break-all;\n",
       "}\n",
       "\n",
       ".xr-icon-database,\n",
       ".xr-icon-file-text2 {\n",
       "  display: inline-block;\n",
       "  vertical-align: middle;\n",
       "  width: 1em;\n",
       "  height: 1.5em !important;\n",
       "  stroke-width: 0;\n",
       "  stroke: currentColor;\n",
       "  fill: currentColor;\n",
       "}\n",
       "</style><pre class='xr-text-repr-fallback'>&lt;xarray.DataArray &#x27;decile&#x27; (decile: 10)&gt;\n",
       "array([0, 1, 2, 3, 4, 5, 6, 7, 8, 9])\n",
       "Coordinates:\n",
       "    month    int64 2\n",
       "Dimensions without coordinates: decile</pre><div class='xr-wrap' style='display:none'><div class='xr-header'><div class='xr-obj-type'>xarray.DataArray</div><div class='xr-array-name'>'decile'</div><ul class='xr-dim-list'><li><span>decile</span>: 10</li></ul></div><ul class='xr-sections'><li class='xr-section-item'><div class='xr-array-wrap'><input id='section-97048262-d4b5-4c66-94c6-d42e80f39ea5' class='xr-array-in' type='checkbox' checked><label for='section-97048262-d4b5-4c66-94c6-d42e80f39ea5' title='Show/hide data repr'><svg class='icon xr-icon-database'><use xlink:href='#icon-database'></use></svg></label><div class='xr-array-preview xr-preview'><span>0 1 2 3 4 5 6 7 8 9</span></div><div class='xr-array-data'><pre>array([0, 1, 2, 3, 4, 5, 6, 7, 8, 9])</pre></div></div></li><li class='xr-section-item'><input id='section-7c66bec2-4c54-4ab2-9af1-8284eb5af81e' class='xr-section-summary-in' type='checkbox'  checked><label for='section-7c66bec2-4c54-4ab2-9af1-8284eb5af81e' class='xr-section-summary' >Coordinates: <span>(1)</span></label><div class='xr-section-inline-details'></div><div class='xr-section-details'><ul class='xr-var-list'><li class='xr-var-item'><div class='xr-var-name'><span>month</span></div><div class='xr-var-dims'>()</div><div class='xr-var-dtype'>int64</div><div class='xr-var-preview xr-preview'>2</div><input id='attrs-9d37d377-d219-4497-8f3a-2694e6ad10ff' class='xr-var-attrs-in' type='checkbox' disabled><label for='attrs-9d37d377-d219-4497-8f3a-2694e6ad10ff' title='Show/Hide attributes'><svg class='icon xr-icon-file-text2'><use xlink:href='#icon-file-text2'></use></svg></label><input id='data-8c9f2b33-ea06-4f1a-88bb-9cc7aa72d36d' class='xr-var-data-in' type='checkbox'><label for='data-8c9f2b33-ea06-4f1a-88bb-9cc7aa72d36d' title='Show/Hide data repr'><svg class='icon xr-icon-database'><use xlink:href='#icon-database'></use></svg></label><div class='xr-var-attrs'><dl class='xr-attrs'></dl></div><div class='xr-var-data'><pre>array(2)</pre></div></li></ul></div></li><li class='xr-section-item'><input id='section-142ce682-e566-4d39-ac8f-5360601c7d5a' class='xr-section-summary-in' type='checkbox' disabled ><label for='section-142ce682-e566-4d39-ac8f-5360601c7d5a' class='xr-section-summary'  title='Expand/collapse section'>Attributes: <span>(0)</span></label><div class='xr-section-inline-details'></div><div class='xr-section-details'><dl class='xr-attrs'></dl></div></li></ul></div></div>"
      ],
      "text/plain": [
       "<xarray.DataArray 'decile' (decile: 10)>\n",
       "array([0, 1, 2, 3, 4, 5, 6, 7, 8, 9])\n",
       "Coordinates:\n",
       "    month    int64 2\n",
       "Dimensions without coordinates: decile"
      ]
     },
     "execution_count": 34,
     "metadata": {},
     "output_type": "execute_result"
    }
   ],
   "source": [
    "cum_probs.decile"
   ]
  },
  {
   "cell_type": "code",
   "execution_count": 35,
   "id": "380d996e",
   "metadata": {
    "execution": {
     "iopub.execute_input": "2022-03-13T23:12:56.710404Z",
     "iopub.status.busy": "2022-03-13T23:12:56.709696Z",
     "iopub.status.idle": "2022-03-13T23:12:56.729156Z",
     "shell.execute_reply": "2022-03-13T23:12:56.728814Z"
    },
    "papermill": {
     "duration": 0.0701,
     "end_time": "2022-03-13T23:12:56.729265",
     "exception": false,
     "start_time": "2022-03-13T23:12:56.659165",
     "status": "completed"
    },
    "tags": []
   },
   "outputs": [],
   "source": [
    "cum_probs['decile'] = cum_probs['decile'] + 1"
   ]
  },
  {
   "cell_type": "code",
   "execution_count": 36,
   "id": "26cd733c",
   "metadata": {
    "execution": {
     "iopub.execute_input": "2022-03-13T23:12:56.837679Z",
     "iopub.status.busy": "2022-03-13T23:12:56.837312Z",
     "iopub.status.idle": "2022-03-13T23:12:56.873274Z",
     "shell.execute_reply": "2022-03-13T23:12:56.872898Z"
    },
    "papermill": {
     "duration": 0.088916,
     "end_time": "2022-03-13T23:12:56.873385",
     "exception": false,
     "start_time": "2022-03-13T23:12:56.784469",
     "status": "completed"
    },
    "tags": []
   },
   "outputs": [
    {
     "data": {
      "text/html": [
       "<div><svg style=\"position: absolute; width: 0; height: 0; overflow: hidden\">\n",
       "<defs>\n",
       "<symbol id=\"icon-database\" viewBox=\"0 0 32 32\">\n",
       "<path d=\"M16 0c-8.837 0-16 2.239-16 5v4c0 2.761 7.163 5 16 5s16-2.239 16-5v-4c0-2.761-7.163-5-16-5z\"></path>\n",
       "<path d=\"M16 17c-8.837 0-16-2.239-16-5v6c0 2.761 7.163 5 16 5s16-2.239 16-5v-6c0 2.761-7.163 5-16 5z\"></path>\n",
       "<path d=\"M16 26c-8.837 0-16-2.239-16-5v6c0 2.761 7.163 5 16 5s16-2.239 16-5v-6c0 2.761-7.163 5-16 5z\"></path>\n",
       "</symbol>\n",
       "<symbol id=\"icon-file-text2\" viewBox=\"0 0 32 32\">\n",
       "<path d=\"M28.681 7.159c-0.694-0.947-1.662-2.053-2.724-3.116s-2.169-2.030-3.116-2.724c-1.612-1.182-2.393-1.319-2.841-1.319h-15.5c-1.378 0-2.5 1.121-2.5 2.5v27c0 1.378 1.122 2.5 2.5 2.5h23c1.378 0 2.5-1.122 2.5-2.5v-19.5c0-0.448-0.137-1.23-1.319-2.841zM24.543 5.457c0.959 0.959 1.712 1.825 2.268 2.543h-4.811v-4.811c0.718 0.556 1.584 1.309 2.543 2.268zM28 29.5c0 0.271-0.229 0.5-0.5 0.5h-23c-0.271 0-0.5-0.229-0.5-0.5v-27c0-0.271 0.229-0.5 0.5-0.5 0 0 15.499-0 15.5 0v7c0 0.552 0.448 1 1 1h7v19.5z\"></path>\n",
       "<path d=\"M23 26h-14c-0.552 0-1-0.448-1-1s0.448-1 1-1h14c0.552 0 1 0.448 1 1s-0.448 1-1 1z\"></path>\n",
       "<path d=\"M23 22h-14c-0.552 0-1-0.448-1-1s0.448-1 1-1h14c0.552 0 1 0.448 1 1s-0.448 1-1 1z\"></path>\n",
       "<path d=\"M23 18h-14c-0.552 0-1-0.448-1-1s0.448-1 1-1h14c0.552 0 1 0.448 1 1s-0.448 1-1 1z\"></path>\n",
       "</symbol>\n",
       "</defs>\n",
       "</svg>\n",
       "<style>/* CSS stylesheet for displaying xarray objects in jupyterlab.\n",
       " *\n",
       " */\n",
       "\n",
       ":root {\n",
       "  --xr-font-color0: var(--jp-content-font-color0, rgba(0, 0, 0, 1));\n",
       "  --xr-font-color2: var(--jp-content-font-color2, rgba(0, 0, 0, 0.54));\n",
       "  --xr-font-color3: var(--jp-content-font-color3, rgba(0, 0, 0, 0.38));\n",
       "  --xr-border-color: var(--jp-border-color2, #e0e0e0);\n",
       "  --xr-disabled-color: var(--jp-layout-color3, #bdbdbd);\n",
       "  --xr-background-color: var(--jp-layout-color0, white);\n",
       "  --xr-background-color-row-even: var(--jp-layout-color1, white);\n",
       "  --xr-background-color-row-odd: var(--jp-layout-color2, #eeeeee);\n",
       "}\n",
       "\n",
       "html[theme=dark],\n",
       "body.vscode-dark {\n",
       "  --xr-font-color0: rgba(255, 255, 255, 1);\n",
       "  --xr-font-color2: rgba(255, 255, 255, 0.54);\n",
       "  --xr-font-color3: rgba(255, 255, 255, 0.38);\n",
       "  --xr-border-color: #1F1F1F;\n",
       "  --xr-disabled-color: #515151;\n",
       "  --xr-background-color: #111111;\n",
       "  --xr-background-color-row-even: #111111;\n",
       "  --xr-background-color-row-odd: #313131;\n",
       "}\n",
       "\n",
       ".xr-wrap {\n",
       "  display: block !important;\n",
       "  min-width: 300px;\n",
       "  max-width: 700px;\n",
       "}\n",
       "\n",
       ".xr-text-repr-fallback {\n",
       "  /* fallback to plain text repr when CSS is not injected (untrusted notebook) */\n",
       "  display: none;\n",
       "}\n",
       "\n",
       ".xr-header {\n",
       "  padding-top: 6px;\n",
       "  padding-bottom: 6px;\n",
       "  margin-bottom: 4px;\n",
       "  border-bottom: solid 1px var(--xr-border-color);\n",
       "}\n",
       "\n",
       ".xr-header > div,\n",
       ".xr-header > ul {\n",
       "  display: inline;\n",
       "  margin-top: 0;\n",
       "  margin-bottom: 0;\n",
       "}\n",
       "\n",
       ".xr-obj-type,\n",
       ".xr-array-name {\n",
       "  margin-left: 2px;\n",
       "  margin-right: 10px;\n",
       "}\n",
       "\n",
       ".xr-obj-type {\n",
       "  color: var(--xr-font-color2);\n",
       "}\n",
       "\n",
       ".xr-sections {\n",
       "  padding-left: 0 !important;\n",
       "  display: grid;\n",
       "  grid-template-columns: 150px auto auto 1fr 20px 20px;\n",
       "}\n",
       "\n",
       ".xr-section-item {\n",
       "  display: contents;\n",
       "}\n",
       "\n",
       ".xr-section-item input {\n",
       "  display: none;\n",
       "}\n",
       "\n",
       ".xr-section-item input + label {\n",
       "  color: var(--xr-disabled-color);\n",
       "}\n",
       "\n",
       ".xr-section-item input:enabled + label {\n",
       "  cursor: pointer;\n",
       "  color: var(--xr-font-color2);\n",
       "}\n",
       "\n",
       ".xr-section-item input:enabled + label:hover {\n",
       "  color: var(--xr-font-color0);\n",
       "}\n",
       "\n",
       ".xr-section-summary {\n",
       "  grid-column: 1;\n",
       "  color: var(--xr-font-color2);\n",
       "  font-weight: 500;\n",
       "}\n",
       "\n",
       ".xr-section-summary > span {\n",
       "  display: inline-block;\n",
       "  padding-left: 0.5em;\n",
       "}\n",
       "\n",
       ".xr-section-summary-in:disabled + label {\n",
       "  color: var(--xr-font-color2);\n",
       "}\n",
       "\n",
       ".xr-section-summary-in + label:before {\n",
       "  display: inline-block;\n",
       "  content: '►';\n",
       "  font-size: 11px;\n",
       "  width: 15px;\n",
       "  text-align: center;\n",
       "}\n",
       "\n",
       ".xr-section-summary-in:disabled + label:before {\n",
       "  color: var(--xr-disabled-color);\n",
       "}\n",
       "\n",
       ".xr-section-summary-in:checked + label:before {\n",
       "  content: '▼';\n",
       "}\n",
       "\n",
       ".xr-section-summary-in:checked + label > span {\n",
       "  display: none;\n",
       "}\n",
       "\n",
       ".xr-section-summary,\n",
       ".xr-section-inline-details {\n",
       "  padding-top: 4px;\n",
       "  padding-bottom: 4px;\n",
       "}\n",
       "\n",
       ".xr-section-inline-details {\n",
       "  grid-column: 2 / -1;\n",
       "}\n",
       "\n",
       ".xr-section-details {\n",
       "  display: none;\n",
       "  grid-column: 1 / -1;\n",
       "  margin-bottom: 5px;\n",
       "}\n",
       "\n",
       ".xr-section-summary-in:checked ~ .xr-section-details {\n",
       "  display: contents;\n",
       "}\n",
       "\n",
       ".xr-array-wrap {\n",
       "  grid-column: 1 / -1;\n",
       "  display: grid;\n",
       "  grid-template-columns: 20px auto;\n",
       "}\n",
       "\n",
       ".xr-array-wrap > label {\n",
       "  grid-column: 1;\n",
       "  vertical-align: top;\n",
       "}\n",
       "\n",
       ".xr-preview {\n",
       "  color: var(--xr-font-color3);\n",
       "}\n",
       "\n",
       ".xr-array-preview,\n",
       ".xr-array-data {\n",
       "  padding: 0 5px !important;\n",
       "  grid-column: 2;\n",
       "}\n",
       "\n",
       ".xr-array-data,\n",
       ".xr-array-in:checked ~ .xr-array-preview {\n",
       "  display: none;\n",
       "}\n",
       "\n",
       ".xr-array-in:checked ~ .xr-array-data,\n",
       ".xr-array-preview {\n",
       "  display: inline-block;\n",
       "}\n",
       "\n",
       ".xr-dim-list {\n",
       "  display: inline-block !important;\n",
       "  list-style: none;\n",
       "  padding: 0 !important;\n",
       "  margin: 0;\n",
       "}\n",
       "\n",
       ".xr-dim-list li {\n",
       "  display: inline-block;\n",
       "  padding: 0;\n",
       "  margin: 0;\n",
       "}\n",
       "\n",
       ".xr-dim-list:before {\n",
       "  content: '(';\n",
       "}\n",
       "\n",
       ".xr-dim-list:after {\n",
       "  content: ')';\n",
       "}\n",
       "\n",
       ".xr-dim-list li:not(:last-child):after {\n",
       "  content: ',';\n",
       "  padding-right: 5px;\n",
       "}\n",
       "\n",
       ".xr-has-index {\n",
       "  font-weight: bold;\n",
       "}\n",
       "\n",
       ".xr-var-list,\n",
       ".xr-var-item {\n",
       "  display: contents;\n",
       "}\n",
       "\n",
       ".xr-var-item > div,\n",
       ".xr-var-item label,\n",
       ".xr-var-item > .xr-var-name span {\n",
       "  background-color: var(--xr-background-color-row-even);\n",
       "  margin-bottom: 0;\n",
       "}\n",
       "\n",
       ".xr-var-item > .xr-var-name:hover span {\n",
       "  padding-right: 5px;\n",
       "}\n",
       "\n",
       ".xr-var-list > li:nth-child(odd) > div,\n",
       ".xr-var-list > li:nth-child(odd) > label,\n",
       ".xr-var-list > li:nth-child(odd) > .xr-var-name span {\n",
       "  background-color: var(--xr-background-color-row-odd);\n",
       "}\n",
       "\n",
       ".xr-var-name {\n",
       "  grid-column: 1;\n",
       "}\n",
       "\n",
       ".xr-var-dims {\n",
       "  grid-column: 2;\n",
       "}\n",
       "\n",
       ".xr-var-dtype {\n",
       "  grid-column: 3;\n",
       "  text-align: right;\n",
       "  color: var(--xr-font-color2);\n",
       "}\n",
       "\n",
       ".xr-var-preview {\n",
       "  grid-column: 4;\n",
       "}\n",
       "\n",
       ".xr-var-name,\n",
       ".xr-var-dims,\n",
       ".xr-var-dtype,\n",
       ".xr-preview,\n",
       ".xr-attrs dt {\n",
       "  white-space: nowrap;\n",
       "  overflow: hidden;\n",
       "  text-overflow: ellipsis;\n",
       "  padding-right: 10px;\n",
       "}\n",
       "\n",
       ".xr-var-name:hover,\n",
       ".xr-var-dims:hover,\n",
       ".xr-var-dtype:hover,\n",
       ".xr-attrs dt:hover {\n",
       "  overflow: visible;\n",
       "  width: auto;\n",
       "  z-index: 1;\n",
       "}\n",
       "\n",
       ".xr-var-attrs,\n",
       ".xr-var-data {\n",
       "  display: none;\n",
       "  background-color: var(--xr-background-color) !important;\n",
       "  padding-bottom: 5px !important;\n",
       "}\n",
       "\n",
       ".xr-var-attrs-in:checked ~ .xr-var-attrs,\n",
       ".xr-var-data-in:checked ~ .xr-var-data {\n",
       "  display: block;\n",
       "}\n",
       "\n",
       ".xr-var-data > table {\n",
       "  float: right;\n",
       "}\n",
       "\n",
       ".xr-var-name span,\n",
       ".xr-var-data,\n",
       ".xr-attrs {\n",
       "  padding-left: 25px !important;\n",
       "}\n",
       "\n",
       ".xr-attrs,\n",
       ".xr-var-attrs,\n",
       ".xr-var-data {\n",
       "  grid-column: 1 / -1;\n",
       "}\n",
       "\n",
       "dl.xr-attrs {\n",
       "  padding: 0;\n",
       "  margin: 0;\n",
       "  display: grid;\n",
       "  grid-template-columns: 125px auto;\n",
       "}\n",
       "\n",
       ".xr-attrs dt,\n",
       ".xr-attrs dd {\n",
       "  padding: 0;\n",
       "  margin: 0;\n",
       "  float: left;\n",
       "  padding-right: 10px;\n",
       "  width: auto;\n",
       "}\n",
       "\n",
       ".xr-attrs dt {\n",
       "  font-weight: normal;\n",
       "  grid-column: 1;\n",
       "}\n",
       "\n",
       ".xr-attrs dt:hover span {\n",
       "  display: inline-block;\n",
       "  background: var(--xr-background-color);\n",
       "  padding-right: 10px;\n",
       "}\n",
       "\n",
       ".xr-attrs dd {\n",
       "  grid-column: 2;\n",
       "  white-space: pre-wrap;\n",
       "  word-break: break-all;\n",
       "}\n",
       "\n",
       ".xr-icon-database,\n",
       ".xr-icon-file-text2 {\n",
       "  display: inline-block;\n",
       "  vertical-align: middle;\n",
       "  width: 1em;\n",
       "  height: 1.5em !important;\n",
       "  stroke-width: 0;\n",
       "  stroke: currentColor;\n",
       "  fill: currentColor;\n",
       "}\n",
       "</style><pre class='xr-text-repr-fallback'>&lt;xarray.DataArray &#x27;decile&#x27; (decile: 10)&gt;\n",
       "array([ 1,  2,  3,  4,  5,  6,  7,  8,  9, 10])\n",
       "Coordinates:\n",
       "    month    int64 2\n",
       "  * decile   (decile) int64 1 2 3 4 5 6 7 8 9 10</pre><div class='xr-wrap' style='display:none'><div class='xr-header'><div class='xr-obj-type'>xarray.DataArray</div><div class='xr-array-name'>'decile'</div><ul class='xr-dim-list'><li><span class='xr-has-index'>decile</span>: 10</li></ul></div><ul class='xr-sections'><li class='xr-section-item'><div class='xr-array-wrap'><input id='section-ee2296bb-3975-4d55-9048-a61c3dedea93' class='xr-array-in' type='checkbox' checked><label for='section-ee2296bb-3975-4d55-9048-a61c3dedea93' title='Show/hide data repr'><svg class='icon xr-icon-database'><use xlink:href='#icon-database'></use></svg></label><div class='xr-array-preview xr-preview'><span>1 2 3 4 5 6 7 8 9 10</span></div><div class='xr-array-data'><pre>array([ 1,  2,  3,  4,  5,  6,  7,  8,  9, 10])</pre></div></div></li><li class='xr-section-item'><input id='section-98843e6a-f536-4440-826b-58927b4c8a2d' class='xr-section-summary-in' type='checkbox'  checked><label for='section-98843e6a-f536-4440-826b-58927b4c8a2d' class='xr-section-summary' >Coordinates: <span>(2)</span></label><div class='xr-section-inline-details'></div><div class='xr-section-details'><ul class='xr-var-list'><li class='xr-var-item'><div class='xr-var-name'><span>month</span></div><div class='xr-var-dims'>()</div><div class='xr-var-dtype'>int64</div><div class='xr-var-preview xr-preview'>2</div><input id='attrs-23e1d3da-0512-4fe8-a0eb-30194662a206' class='xr-var-attrs-in' type='checkbox' disabled><label for='attrs-23e1d3da-0512-4fe8-a0eb-30194662a206' title='Show/Hide attributes'><svg class='icon xr-icon-file-text2'><use xlink:href='#icon-file-text2'></use></svg></label><input id='data-616ed7b4-c90c-419f-94e3-d03be7987a12' class='xr-var-data-in' type='checkbox'><label for='data-616ed7b4-c90c-419f-94e3-d03be7987a12' title='Show/Hide data repr'><svg class='icon xr-icon-database'><use xlink:href='#icon-database'></use></svg></label><div class='xr-var-attrs'><dl class='xr-attrs'></dl></div><div class='xr-var-data'><pre>array(2)</pre></div></li><li class='xr-var-item'><div class='xr-var-name'><span class='xr-has-index'>decile</span></div><div class='xr-var-dims'>(decile)</div><div class='xr-var-dtype'>int64</div><div class='xr-var-preview xr-preview'>1 2 3 4 5 6 7 8 9 10</div><input id='attrs-8acc07de-1274-46dd-958e-ef77cd9ee722' class='xr-var-attrs-in' type='checkbox' disabled><label for='attrs-8acc07de-1274-46dd-958e-ef77cd9ee722' title='Show/Hide attributes'><svg class='icon xr-icon-file-text2'><use xlink:href='#icon-file-text2'></use></svg></label><input id='data-07d9cf3b-396f-4092-be7d-bd64afcc7d76' class='xr-var-data-in' type='checkbox'><label for='data-07d9cf3b-396f-4092-be7d-bd64afcc7d76' title='Show/Hide data repr'><svg class='icon xr-icon-database'><use xlink:href='#icon-database'></use></svg></label><div class='xr-var-attrs'><dl class='xr-attrs'></dl></div><div class='xr-var-data'><pre>array([ 1,  2,  3,  4,  5,  6,  7,  8,  9, 10])</pre></div></li></ul></div></li><li class='xr-section-item'><input id='section-b6e01411-fbbd-46cf-9e3a-0b54a331d4bb' class='xr-section-summary-in' type='checkbox' disabled ><label for='section-b6e01411-fbbd-46cf-9e3a-0b54a331d4bb' class='xr-section-summary'  title='Expand/collapse section'>Attributes: <span>(0)</span></label><div class='xr-section-inline-details'></div><div class='xr-section-details'><dl class='xr-attrs'></dl></div></li></ul></div></div>"
      ],
      "text/plain": [
       "<xarray.DataArray 'decile' (decile: 10)>\n",
       "array([ 1,  2,  3,  4,  5,  6,  7,  8,  9, 10])\n",
       "Coordinates:\n",
       "    month    int64 2\n",
       "  * decile   (decile) int64 1 2 3 4 5 6 7 8 9 10"
      ]
     },
     "execution_count": 36,
     "metadata": {},
     "output_type": "execute_result"
    }
   ],
   "source": [
    "cum_probs.decile"
   ]
  },
  {
   "cell_type": "markdown",
   "id": "ec4e8ddd",
   "metadata": {
    "papermill": {
     "duration": 0.050877,
     "end_time": "2022-03-13T23:12:56.977274",
     "exception": false,
     "start_time": "2022-03-13T23:12:56.926397",
     "status": "completed"
    },
    "tags": []
   },
   "source": [
    "#### selects probabilities greater or equal than 50% "
   ]
  },
  {
   "cell_type": "code",
   "execution_count": 37,
   "id": "6144557e",
   "metadata": {
    "execution": {
     "iopub.execute_input": "2022-03-13T23:12:57.078647Z",
     "iopub.status.busy": "2022-03-13T23:12:57.078271Z",
     "iopub.status.idle": "2022-03-13T23:12:57.103887Z",
     "shell.execute_reply": "2022-03-13T23:12:57.104185Z"
    },
    "papermill": {
     "duration": 0.077819,
     "end_time": "2022-03-13T23:12:57.104311",
     "exception": false,
     "start_time": "2022-03-13T23:12:57.026492",
     "status": "completed"
    },
    "tags": []
   },
   "outputs": [],
   "source": [
    "cum_probs = cum_probs.where(cum_probs['precip'] >= 50)"
   ]
  },
  {
   "cell_type": "markdown",
   "id": "a59c5176",
   "metadata": {
    "papermill": {
     "duration": 0.051843,
     "end_time": "2022-03-13T23:12:57.206465",
     "exception": false,
     "start_time": "2022-03-13T23:12:57.154622",
     "status": "completed"
    },
    "tags": []
   },
   "source": [
    "### quick plot of the minimum decile value for the cumulative decile probabilities reaching 50% "
   ]
  },
  {
   "cell_type": "code",
   "execution_count": 38,
   "id": "45da967d",
   "metadata": {
    "execution": {
     "iopub.execute_input": "2022-03-13T23:12:57.314671Z",
     "iopub.status.busy": "2022-03-13T23:12:57.314306Z",
     "iopub.status.idle": "2022-03-13T23:13:01.199181Z",
     "shell.execute_reply": "2022-03-13T23:13:01.199603Z"
    },
    "papermill": {
     "duration": 3.945166,
     "end_time": "2022-03-13T23:13:01.199782",
     "exception": false,
     "start_time": "2022-03-13T23:12:57.254616",
     "status": "completed"
    },
    "tags": []
   },
   "outputs": [
    {
     "data": {
      "text/plain": [
       "Text(0.5, 1.0, '')"
      ]
     },
     "execution_count": 38,
     "metadata": {},
     "output_type": "execute_result"
    },
    {
     "data": {
      "image/png": "[encoded data removed]",
      "text/plain": [
       "<Figure size 1008x576 with 2 Axes>"
      ]
     },
     "metadata": {
      "needs_background": "light"
     },
     "output_type": "display_data"
    }
   ],
   "source": [
    "f, ax = plt.subplots(subplot_kw=dict(projection=ccrs.PlateCarree(central_longitude=180)), figsize=(14,8))\n",
    "\n",
    "cum_probs.idxmin('decile').squeeze().sel(step=step)['precip'].plot.contourf(ax=ax, levels=np.arange(0, 11), transform=ccrs.PlateCarree(), \\\n",
    "                                                                   cbar_kwargs={'shrink':0.7, 'boundaries':np.arange(11), 'drawedges':True})\n",
    "ax.coastlines()\n",
    "\n",
    "ax.set_title('')"
   ]
  },
  {
   "cell_type": "markdown",
   "id": "5144b327",
   "metadata": {
    "papermill": {
     "duration": 0.052394,
     "end_time": "2022-03-13T23:13:01.311660",
     "exception": false,
     "start_time": "2022-03-13T23:13:01.259266",
     "status": "completed"
    },
    "tags": []
   },
   "source": [
    "### Now starts the prototype plotting "
   ]
  },
  {
   "cell_type": "code",
   "execution_count": 39,
   "id": "fc61800f",
   "metadata": {
    "execution": {
     "iopub.execute_input": "2022-03-13T23:13:01.413723Z",
     "iopub.status.busy": "2022-03-13T23:13:01.413359Z",
     "iopub.status.idle": "2022-03-13T23:13:01.431736Z",
     "shell.execute_reply": "2022-03-13T23:13:01.431414Z"
    },
    "papermill": {
     "duration": 0.070453,
     "end_time": "2022-03-13T23:13:01.431847",
     "exception": false,
     "start_time": "2022-03-13T23:13:01.361394",
     "status": "completed"
    },
    "tags": []
   },
   "outputs": [],
   "source": [
    "thresholds = np.arange(0.5, 10.5 + 1, 1)"
   ]
  },
  {
   "cell_type": "code",
   "execution_count": 40,
   "id": "b4786fe3",
   "metadata": {
    "execution": {
     "iopub.execute_input": "2022-03-13T23:13:01.534428Z",
     "iopub.status.busy": "2022-03-13T23:13:01.534076Z",
     "iopub.status.idle": "2022-03-13T23:13:01.552480Z",
     "shell.execute_reply": "2022-03-13T23:13:01.552122Z"
    },
    "papermill": {
     "duration": 0.070695,
     "end_time": "2022-03-13T23:13:01.552586",
     "exception": false,
     "start_time": "2022-03-13T23:13:01.481891",
     "status": "completed"
    },
    "tags": []
   },
   "outputs": [
    {
     "data": {
      "text/plain": [
       "array([ 0.5,  1.5,  2.5,  3.5,  4.5,  5.5,  6.5,  7.5,  8.5,  9.5, 10.5])"
      ]
     },
     "execution_count": 40,
     "metadata": {},
     "output_type": "execute_result"
    }
   ],
   "source": [
    "thresholds"
   ]
  },
  {
   "cell_type": "code",
   "execution_count": 41,
   "id": "1f010162",
   "metadata": {
    "execution": {
     "iopub.execute_input": "2022-03-13T23:13:01.667817Z",
     "iopub.status.busy": "2022-03-13T23:13:01.667195Z",
     "iopub.status.idle": "2022-03-13T23:13:01.684368Z",
     "shell.execute_reply": "2022-03-13T23:13:01.684638Z"
    },
    "papermill": {
     "duration": 0.081888,
     "end_time": "2022-03-13T23:13:01.684768",
     "exception": false,
     "start_time": "2022-03-13T23:13:01.602880",
     "status": "completed"
    },
    "tags": []
   },
   "outputs": [],
   "source": [
    "ticks_marks = np.diff(np.array(thresholds)) / 2.\n",
    "\n",
    "ticks = [thresholds[i] + ticks_marks[i] for i in range(len(thresholds) - 1)]"
   ]
  },
  {
   "cell_type": "code",
   "execution_count": 42,
   "id": "ca15564e",
   "metadata": {
    "execution": {
     "iopub.execute_input": "2022-03-13T23:13:01.798807Z",
     "iopub.status.busy": "2022-03-13T23:13:01.798462Z",
     "iopub.status.idle": "2022-03-13T23:13:01.816189Z",
     "shell.execute_reply": "2022-03-13T23:13:01.815912Z"
    },
    "papermill": {
     "duration": 0.081686,
     "end_time": "2022-03-13T23:13:01.816292",
     "exception": false,
     "start_time": "2022-03-13T23:13:01.734606",
     "status": "completed"
    },
    "tags": []
   },
   "outputs": [
    {
     "data": {
      "text/plain": [
       "[1.0, 2.0, 3.0, 4.0, 5.0, 6.0, 7.0, 8.0, 9.0, 10.0]"
      ]
     },
     "execution_count": 42,
     "metadata": {},
     "output_type": "execute_result"
    }
   ],
   "source": [
    "ticks"
   ]
  },
  {
   "cell_type": "code",
   "execution_count": 43,
   "id": "7fd0d9b8",
   "metadata": {
    "execution": {
     "iopub.execute_input": "2022-03-13T23:13:01.922051Z",
     "iopub.status.busy": "2022-03-13T23:13:01.921702Z",
     "iopub.status.idle": "2022-03-13T23:13:01.938413Z",
     "shell.execute_reply": "2022-03-13T23:13:01.938688Z"
    },
    "papermill": {
     "duration": 0.074254,
     "end_time": "2022-03-13T23:13:01.938819",
     "exception": false,
     "start_time": "2022-03-13T23:13:01.864565",
     "status": "completed"
    },
    "tags": []
   },
   "outputs": [],
   "source": [
    "hexes = ['#003c30', '#01665e', '#35978f', '#80cdc1', '#c7eae5', '#f6e8c3', '#dfc27d', '#bf812d', '#8c510a', '#543005']"
   ]
  },
  {
   "cell_type": "code",
   "execution_count": 44,
   "id": "4c258744",
   "metadata": {
    "execution": {
     "iopub.execute_input": "2022-03-13T23:13:02.042478Z",
     "iopub.status.busy": "2022-03-13T23:13:02.042102Z",
     "iopub.status.idle": "2022-03-13T23:13:02.059394Z",
     "shell.execute_reply": "2022-03-13T23:13:02.059080Z"
    },
    "papermill": {
     "duration": 0.070101,
     "end_time": "2022-03-13T23:13:02.059505",
     "exception": false,
     "start_time": "2022-03-13T23:13:01.989404",
     "status": "completed"
    },
    "tags": []
   },
   "outputs": [],
   "source": [
    "hexes.reverse()"
   ]
  },
  {
   "cell_type": "code",
   "execution_count": 45,
   "id": "121592cd",
   "metadata": {
    "execution": {
     "iopub.execute_input": "2022-03-13T23:13:02.163707Z",
     "iopub.status.busy": "2022-03-13T23:13:02.163318Z",
     "iopub.status.idle": "2022-03-13T23:13:02.181082Z",
     "shell.execute_reply": "2022-03-13T23:13:02.180739Z"
    },
    "papermill": {
     "duration": 0.07113,
     "end_time": "2022-03-13T23:13:02.181191",
     "exception": false,
     "start_time": "2022-03-13T23:13:02.110061",
     "status": "completed"
    },
    "tags": []
   },
   "outputs": [],
   "source": [
    "cbar_ticklabels = ['>90th', '80-90th', '70-80th', '60-70th', '50-60th', '40-50th', '30-40th', '20-30th', '10-20th', '< 10th']"
   ]
  },
  {
   "cell_type": "code",
   "execution_count": 46,
   "id": "bc5ef3c1",
   "metadata": {
    "execution": {
     "iopub.execute_input": "2022-03-13T23:13:02.287947Z",
     "iopub.status.busy": "2022-03-13T23:13:02.287602Z",
     "iopub.status.idle": "2022-03-13T23:13:02.304801Z",
     "shell.execute_reply": "2022-03-13T23:13:02.304480Z"
    },
    "papermill": {
     "duration": 0.072105,
     "end_time": "2022-03-13T23:13:02.304906",
     "exception": false,
     "start_time": "2022-03-13T23:13:02.232801",
     "status": "completed"
    },
    "tags": []
   },
   "outputs": [],
   "source": [
    "cbar_ticklabels.reverse()"
   ]
  },
  {
   "cell_type": "code",
   "execution_count": 47,
   "id": "a7aff0bb",
   "metadata": {
    "execution": {
     "iopub.execute_input": "2022-03-13T23:13:02.407860Z",
     "iopub.status.busy": "2022-03-13T23:13:02.407486Z",
     "iopub.status.idle": "2022-03-13T23:13:02.425190Z",
     "shell.execute_reply": "2022-03-13T23:13:02.424849Z"
    },
    "papermill": {
     "duration": 0.070721,
     "end_time": "2022-03-13T23:13:02.425289",
     "exception": false,
     "start_time": "2022-03-13T23:13:02.354568",
     "status": "completed"
    },
    "tags": []
   },
   "outputs": [
    {
     "data": {
      "text/plain": [
       "['< 10th',\n",
       " '10-20th',\n",
       " '20-30th',\n",
       " '30-40th',\n",
       " '40-50th',\n",
       " '50-60th',\n",
       " '60-70th',\n",
       " '70-80th',\n",
       " '80-90th',\n",
       " '>90th']"
      ]
     },
     "execution_count": 47,
     "metadata": {},
     "output_type": "execute_result"
    }
   ],
   "source": [
    "cbar_ticklabels"
   ]
  },
  {
   "cell_type": "code",
   "execution_count": 48,
   "id": "0bc1d2a2",
   "metadata": {
    "execution": {
     "iopub.execute_input": "2022-03-13T23:13:02.528772Z",
     "iopub.status.busy": "2022-03-13T23:13:02.528432Z",
     "iopub.status.idle": "2022-03-13T23:13:02.545210Z",
     "shell.execute_reply": "2022-03-13T23:13:02.545493Z"
    },
    "papermill": {
     "duration": 0.071139,
     "end_time": "2022-03-13T23:13:02.545619",
     "exception": false,
     "start_time": "2022-03-13T23:13:02.474480",
     "status": "completed"
    },
    "tags": []
   },
   "outputs": [],
   "source": [
    "import matplotlib"
   ]
  },
  {
   "cell_type": "code",
   "execution_count": 49,
   "id": "47d2c6b4",
   "metadata": {
    "execution": {
     "iopub.execute_input": "2022-03-13T23:13:02.647596Z",
     "iopub.status.busy": "2022-03-13T23:13:02.647236Z",
     "iopub.status.idle": "2022-03-13T23:13:02.664359Z",
     "shell.execute_reply": "2022-03-13T23:13:02.663997Z"
    },
    "papermill": {
     "duration": 0.069491,
     "end_time": "2022-03-13T23:13:02.664462",
     "exception": false,
     "start_time": "2022-03-13T23:13:02.594971",
     "status": "completed"
    },
    "tags": []
   },
   "outputs": [],
   "source": [
    "cmap = matplotlib.colors.ListedColormap(hexes, name='decile')"
   ]
  },
  {
   "cell_type": "code",
   "execution_count": 50,
   "id": "a007c97a",
   "metadata": {
    "execution": {
     "iopub.execute_input": "2022-03-13T23:13:02.767340Z",
     "iopub.status.busy": "2022-03-13T23:13:02.766979Z",
     "iopub.status.idle": "2022-03-13T23:13:02.788059Z",
     "shell.execute_reply": "2022-03-13T23:13:02.787723Z"
    },
    "papermill": {
     "duration": 0.073894,
     "end_time": "2022-03-13T23:13:02.788160",
     "exception": false,
     "start_time": "2022-03-13T23:13:02.714266",
     "status": "completed"
    },
    "tags": []
   },
   "outputs": [
    {
     "data": {
      "image/png": "[encoded data removed]",
      "text/html": [
       "<div style=\"vertical-align: middle;\"><strong>decile</strong> </div><div class=\"cmap\"><img alt=\"decile colormap\" title=\"decile\" style=\"border: 1px solid #555;\" src=\"data:image/png;base64,iVBORw0KGgoAAAANSUhEUgAAAgAAAABACAYAAABsv8+/AAAAFXRFWHRUaXRsZQBkZWNpbGUgY29sb3JtYXBonyRcAAAAG3RFWHREZXNjcmlwdGlvbgBkZWNpbGUgY29sb3JtYXAhCDy4AAAAMHRFWHRBdXRob3IATWF0cGxvdGxpYiB2My41LjEsIGh0dHBzOi8vbWF0cGxvdGxpYi5vcmf3t87PAAAAMnRFWHRTb2Z0d2FyZQBNYXRwbG90bGliIHYzLjUuMSwgaHR0cHM6Ly9tYXRwbG90bGliLm9yZ9kRUegAAAF2SURBVHic7darTQNgGEBRaNIZsDwSdBMMFoOuYNWKrkAIDQgUjkHKEn/4Eu45E1x5L1922/PFP/J4s51OWOZhdzedsMz10346YZmr++fphGU+NrfTCcscf76nE5Y5vL5PJyzzdjpNJyxz/vqcTlhqMx0AAPw9AwAAQQYAAIIMAAAEGQAACDIAABBkAAAgyAAAQJABAIAgAwAAQQYAAIIMAAAEGQAACDIAABBkAAAgyAAAQJABAIAgAwAAQQYAAIIMAAAEGQAACDIAABBkAAAgyAAAQJABAIAgAwAAQQYAAIIMAAAEGQAACDIAABBkAAAgyAAAQJABAIAgAwAAQQYAAIIMAAAEGQAACDIAABBkAAAgyAAAQJABAIAgAwAAQQYAAIIMAAAEGQAACDIAABBkAAAgyAAAQJABAIAgAwAAQQYAAIIMAAAEGQAACDIAABBkAAAgyAAAQJABAIAgAwAAQQYAAIIMAAAEGQAACDIAABBkAAAg6BfH1w7rwRZTHQAAAABJRU5ErkJggg==\"></div><div style=\"vertical-align: middle; max-width: 514px; display: flex; justify-content: space-between;\"><div style=\"float: left;\"><div title=\"#543005ff\" style=\"display: inline-block; width: 1em; height: 1em; margin: 0; vertical-align: middle; border: 1px solid #555; background-color: #543005ff;\"></div> under</div><div style=\"margin: 0 auto; display: inline-block;\">bad <div title=\"#00000000\" style=\"display: inline-block; width: 1em; height: 1em; margin: 0; vertical-align: middle; border: 1px solid #555; background-color: #00000000;\"></div></div><div style=\"float: right;\">over <div title=\"#003c30ff\" style=\"display: inline-block; width: 1em; height: 1em; margin: 0; vertical-align: middle; border: 1px solid #555; background-color: #003c30ff;\"></div></div>"
      ],
      "text/plain": [
       "<matplotlib.colors.ListedColormap at 0x7f13f22f7280>"
      ]
     },
     "execution_count": 50,
     "metadata": {},
     "output_type": "execute_result"
    }
   ],
   "source": [
    "cmap"
   ]
  },
  {
   "cell_type": "code",
   "execution_count": 51,
   "id": "f776330c",
   "metadata": {
    "execution": {
     "iopub.execute_input": "2022-03-13T23:13:02.892348Z",
     "iopub.status.busy": "2022-03-13T23:13:02.891983Z",
     "iopub.status.idle": "2022-03-13T23:13:02.919790Z",
     "shell.execute_reply": "2022-03-13T23:13:02.920055Z"
    },
    "papermill": {
     "duration": 0.081692,
     "end_time": "2022-03-13T23:13:02.920183",
     "exception": false,
     "start_time": "2022-03-13T23:13:02.838491",
     "status": "completed"
    },
    "tags": []
   },
   "outputs": [],
   "source": [
    "decile_map = cum_probs.idxmin('decile').squeeze().sel(step=step)"
   ]
  },
  {
   "cell_type": "code",
   "execution_count": 52,
   "id": "062527c8",
   "metadata": {
    "execution": {
     "iopub.execute_input": "2022-03-13T23:13:03.025518Z",
     "iopub.status.busy": "2022-03-13T23:13:03.025145Z",
     "iopub.status.idle": "2022-03-13T23:13:03.104908Z",
     "shell.execute_reply": "2022-03-13T23:13:03.104559Z"
    },
    "papermill": {
     "duration": 0.134538,
     "end_time": "2022-03-13T23:13:03.105007",
     "exception": false,
     "start_time": "2022-03-13T23:13:02.970469",
     "status": "completed"
    },
    "tags": []
   },
   "outputs": [
    {
     "data": {
      "text/html": [
       "<div>\n",
       "<style scoped>\n",
       "    .dataframe tbody tr th:only-of-type {\n",
       "        vertical-align: middle;\n",
       "    }\n",
       "\n",
       "    .dataframe tbody tr th {\n",
       "        vertical-align: top;\n",
       "    }\n",
       "\n",
       "    .dataframe thead th {\n",
       "        text-align: right;\n",
       "    }\n",
       "</style>\n",
       "<table border=\"1\" class=\"dataframe\">\n",
       "  <thead>\n",
       "    <tr style=\"text-align: right;\">\n",
       "      <th></th>\n",
       "      <th>index</th>\n",
       "      <th>geometry</th>\n",
       "    </tr>\n",
       "  </thead>\n",
       "  <tbody>\n",
       "    <tr>\n",
       "      <th>0</th>\n",
       "      <td>EEZ</td>\n",
       "      <td>POLYGON ((188.63281 -22.23893, 188.62887 -22.2...</td>\n",
       "    </tr>\n",
       "  </tbody>\n",
       "</table>\n",
       "</div>"
      ],
      "text/plain": [
       "  index                                           geometry\n",
       "0   EEZ  POLYGON ((188.63281 -22.23893, 188.62887 -22.2..."
      ]
     },
     "execution_count": 52,
     "metadata": {},
     "output_type": "execute_result"
    }
   ],
   "source": [
    "merged_EEZs"
   ]
  },
  {
   "cell_type": "code",
   "execution_count": 53,
   "id": "f24d2f75",
   "metadata": {
    "execution": {
     "iopub.execute_input": "2022-03-13T23:13:03.212735Z",
     "iopub.status.busy": "2022-03-13T23:13:03.211729Z",
     "iopub.status.idle": "2022-03-13T23:13:03.295239Z",
     "shell.execute_reply": "2022-03-13T23:13:03.294850Z"
    },
    "papermill": {
     "duration": 0.140593,
     "end_time": "2022-03-13T23:13:03.295353",
     "exception": false,
     "start_time": "2022-03-13T23:13:03.154760",
     "status": "completed"
    },
    "tags": []
   },
   "outputs": [],
   "source": [
    "decile_map = geo.make_mask_from_gpd(decile_map, merged_EEZs, subset=False, insert=True)"
   ]
  },
  {
   "cell_type": "code",
   "execution_count": 54,
   "id": "49d2ecaa",
   "metadata": {
    "execution": {
     "iopub.execute_input": "2022-03-13T23:13:03.412661Z",
     "iopub.status.busy": "2022-03-13T23:13:03.412133Z",
     "iopub.status.idle": "2022-03-13T23:13:06.242845Z",
     "shell.execute_reply": "2022-03-13T23:13:06.242269Z"
    },
    "papermill": {
     "duration": 2.887444,
     "end_time": "2022-03-13T23:13:06.243014",
     "exception": false,
     "start_time": "2022-03-13T23:13:03.355570",
     "status": "completed"
    },
    "tags": []
   },
   "outputs": [
    {
     "data": {
      "text/plain": [
       "<matplotlib.collections.QuadMesh at 0x7f13f25b0310>"
      ]
     },
     "execution_count": 54,
     "metadata": {},
     "output_type": "execute_result"
    },
    {
     "data": {
      "image/png": "[encoded data removed]",
      "text/plain": [
       "<Figure size 432x288 with 2 Axes>"
      ]
     },
     "metadata": {
      "needs_background": "light"
     },
     "output_type": "display_data"
    }
   ],
   "source": [
    "(decile_map['precip'] * decile_map['mask']).plot()"
   ]
  },
  {
   "cell_type": "code",
   "execution_count": 55,
   "id": "d03b184d",
   "metadata": {
    "execution": {
     "iopub.execute_input": "2022-03-13T23:13:06.369232Z",
     "iopub.status.busy": "2022-03-13T23:13:06.368876Z",
     "iopub.status.idle": "2022-03-13T23:13:06.388226Z",
     "shell.execute_reply": "2022-03-13T23:13:06.388505Z"
    },
    "papermill": {
     "duration": 0.083932,
     "end_time": "2022-03-13T23:13:06.388641",
     "exception": false,
     "start_time": "2022-03-13T23:13:06.304709",
     "status": "completed"
    },
    "tags": []
   },
   "outputs": [],
   "source": [
    "month_name = list(month_name)"
   ]
  },
  {
   "cell_type": "code",
   "execution_count": 56,
   "id": "48622fa6",
   "metadata": {
    "execution": {
     "iopub.execute_input": "2022-03-13T23:13:06.517851Z",
     "iopub.status.busy": "2022-03-13T23:13:06.517472Z",
     "iopub.status.idle": "2022-03-13T23:13:06.548313Z",
     "shell.execute_reply": "2022-03-13T23:13:06.547673Z"
    },
    "papermill": {
     "duration": 0.091745,
     "end_time": "2022-03-13T23:13:06.548454",
     "exception": false,
     "start_time": "2022-03-13T23:13:06.456709",
     "status": "completed"
    },
    "tags": []
   },
   "outputs": [],
   "source": [
    "month_name += month_name[1:]"
   ]
  },
  {
   "cell_type": "code",
   "execution_count": 57,
   "id": "86912e97",
   "metadata": {
    "execution": {
     "iopub.execute_input": "2022-03-13T23:13:06.664099Z",
     "iopub.status.busy": "2022-03-13T23:13:06.663732Z",
     "iopub.status.idle": "2022-03-13T23:13:06.683833Z",
     "shell.execute_reply": "2022-03-13T23:13:06.684124Z"
    },
    "papermill": {
     "duration": 0.078672,
     "end_time": "2022-03-13T23:13:06.684249",
     "exception": false,
     "start_time": "2022-03-13T23:13:06.605577",
     "status": "completed"
    },
    "tags": []
   },
   "outputs": [],
   "source": [
    "if period == 'monthly': \n",
    "    label_period = month_name[month + step]\n",
    "elif period == 'seasonal': \n",
    "    label_period = month_name[month + step - 2] + \" - \" + month_name[month + step]"
   ]
  },
  {
   "cell_type": "code",
   "execution_count": 58,
   "id": "c991af60",
   "metadata": {
    "execution": {
     "iopub.execute_input": "2022-03-13T23:13:06.795808Z",
     "iopub.status.busy": "2022-03-13T23:13:06.795076Z",
     "iopub.status.idle": "2022-03-13T23:13:06.815869Z",
     "shell.execute_reply": "2022-03-13T23:13:06.815447Z"
    },
    "papermill": {
     "duration": 0.075917,
     "end_time": "2022-03-13T23:13:06.816039",
     "exception": false,
     "start_time": "2022-03-13T23:13:06.740122",
     "status": "completed"
    },
    "tags": []
   },
   "outputs": [
    {
     "data": {
      "text/plain": [
       "3"
      ]
     },
     "execution_count": 58,
     "metadata": {},
     "output_type": "execute_result"
    }
   ],
   "source": [
    "step"
   ]
  },
  {
   "cell_type": "code",
   "execution_count": 59,
   "id": "a1efe919",
   "metadata": {
    "execution": {
     "iopub.execute_input": "2022-03-13T23:13:06.935684Z",
     "iopub.status.busy": "2022-03-13T23:13:06.935304Z",
     "iopub.status.idle": "2022-03-13T23:13:06.954860Z",
     "shell.execute_reply": "2022-03-13T23:13:06.954508Z"
    },
    "papermill": {
     "duration": 0.083649,
     "end_time": "2022-03-13T23:13:06.954964",
     "exception": false,
     "start_time": "2022-03-13T23:13:06.871315",
     "status": "completed"
    },
    "tags": []
   },
   "outputs": [
    {
     "data": {
      "text/plain": [
       "'March - May'"
      ]
     },
     "execution_count": 59,
     "metadata": {},
     "output_type": "execute_result"
    }
   ],
   "source": [
    "label_period"
   ]
  },
  {
   "cell_type": "code",
   "execution_count": 60,
   "id": "f25be321",
   "metadata": {
    "execution": {
     "iopub.execute_input": "2022-03-13T23:13:07.068772Z",
     "iopub.status.busy": "2022-03-13T23:13:07.068390Z",
     "iopub.status.idle": "2022-03-13T23:13:14.296697Z",
     "shell.execute_reply": "2022-03-13T23:13:14.296975Z"
    },
    "papermill": {
     "duration": 7.28885,
     "end_time": "2022-03-13T23:13:14.297103",
     "exception": false,
     "start_time": "2022-03-13T23:13:07.008253",
     "status": "completed"
    },
    "tags": []
   },
   "outputs": [
    {
     "data": {
      "image/png": "[encoded data removed]",
      "text/plain": [
       "<Figure size 1008x576 with 1 Axes>"
      ]
     },
     "metadata": {
      "needs_background": "light"
     },
     "output_type": "display_data"
    }
   ],
   "source": [
    "f, ax = plt.subplots(subplot_kw=dict(projection=ccrs.PlateCarree(central_longitude=180)), figsize=(14,8))\n",
    "\n",
    "ff = (decile_map['precip'] * decile_map['mask']).plot.contourf(ax=ax, levels=thresholds, cmap=cmap, transform=ccrs.PlateCarree(), add_colorbar=False)\n",
    "\n",
    "ax.coastlines(resolution='10m', lw=0.5)\n",
    "\n",
    "ax.set_title('')\n",
    "\n",
    "cbar_kwargs={'shrink':0.5, 'pad':0.01, 'extend':'neither', 'drawedges':True, 'ticks':ticks, 'aspect':15}\n",
    "\n",
    "cbar_ax = ax.axes.inset_axes([0.9, 0.525, 0.025, 0.38])\n",
    "\n",
    "cb = plt.colorbar(ff, cax=cbar_ax, **cbar_kwargs)\n",
    "\n",
    "cb.ax.minorticks_off()\n",
    "\n",
    "cbar_ax.set_yticklabels(cbar_ticklabels)\n",
    "\n",
    "plot.add_geom(ax, geoms=EEZs)\n",
    "\n",
    "title = f\"Decile precipitation forecast\\n{label_period}\"\n",
    "\n",
    "ax.text(0.99, 0.95, title, fontsize=13, fontdict={'color':'k'}, bbox=dict(facecolor='w', edgecolor='w'), horizontalalignment='right', verticalalignment='center', transform=ax.transAxes)\n",
    "\n",
    "ax.text(0.01, 0.02, u'\\u00A9'+\" NIWA\", transform=ax.transAxes, bbox=dict(facecolor='w', edgecolor='w'), fontdict=dict(color='0.4'))\n",
    "\n",
    "# ax.text(0.99, 0.02, \"(first decile value where cumulative probability reaches 50%)\",transform=ax.transAxes, horizontalalignment='right')\n",
    "\n",
    "ax.set_extent(domain, crs = ccrs.PlateCarree())"
   ]
  },
  {
   "cell_type": "code",
   "execution_count": 61,
   "id": "9afbebdf",
   "metadata": {
    "execution": {
     "iopub.execute_input": "2022-03-13T23:13:14.415217Z",
     "iopub.status.busy": "2022-03-13T23:13:14.414877Z",
     "iopub.status.idle": "2022-03-13T23:13:14.791723Z",
     "shell.execute_reply": "2022-03-13T23:13:14.791284Z"
    },
    "papermill": {
     "duration": 0.437645,
     "end_time": "2022-03-13T23:13:14.791836",
     "exception": false,
     "start_time": "2022-03-13T23:13:14.354191",
     "status": "completed"
    },
    "tags": []
   },
   "outputs": [],
   "source": [
    "f.savefig(fpath.joinpath(f'decile_forecast_prototype_{period}_{year}_{month:02d}_init_{label_period.replace(\" - \",\"_\")}.png'), dpi=200, facecolor='w', bbox_inches='tight')"
   ]
  },
  {
   "cell_type": "code",
   "execution_count": 62,
   "id": "006b2ea3",
   "metadata": {
    "execution": {
     "iopub.execute_input": "2022-03-13T23:13:14.904644Z",
     "iopub.status.busy": "2022-03-13T23:13:14.904279Z",
     "iopub.status.idle": "2022-03-13T23:13:15.276551Z",
     "shell.execute_reply": "2022-03-13T23:13:15.276257Z"
    },
    "papermill": {
     "duration": 0.431629,
     "end_time": "2022-03-13T23:13:15.276654",
     "exception": false,
     "start_time": "2022-03-13T23:13:14.845025",
     "status": "completed"
    },
    "tags": []
   },
   "outputs": [],
   "source": [
    "f.savefig(fpath_web.joinpath(f'decile_forecast_prototype_{period}_lead{lead}_latest.png'), dpi=200, facecolor='w', bbox_inches='tight')"
   ]
  },
  {
   "cell_type": "markdown",
   "id": "b2abc4f2",
   "metadata": {
    "papermill": {
     "duration": 0.063817,
     "end_time": "2022-03-13T23:13:15.394049",
     "exception": false,
     "start_time": "2022-03-13T23:13:15.330232",
     "status": "completed"
    },
    "tags": []
   },
   "source": [
    "### create station heatmap "
   ]
  },
  {
   "cell_type": "code",
   "execution_count": 63,
   "id": "3ab56d87",
   "metadata": {
    "execution": {
     "iopub.execute_input": "2022-03-13T23:13:15.508066Z",
     "iopub.status.busy": "2022-03-13T23:13:15.507431Z",
     "iopub.status.idle": "2022-03-13T23:13:15.525258Z",
     "shell.execute_reply": "2022-03-13T23:13:15.524903Z"
    },
    "papermill": {
     "duration": 0.07781,
     "end_time": "2022-03-13T23:13:15.525359",
     "exception": false,
     "start_time": "2022-03-13T23:13:15.447549",
     "status": "completed"
    },
    "tags": []
   },
   "outputs": [],
   "source": [
    "station_name = 'Nadi'\n",
    "lon = 177.4356\n",
    "lat = -17.7765"
   ]
  },
  {
   "cell_type": "code",
   "execution_count": 64,
   "id": "27512475",
   "metadata": {
    "execution": {
     "iopub.execute_input": "2022-03-13T23:13:15.642535Z",
     "iopub.status.busy": "2022-03-13T23:13:15.642185Z",
     "iopub.status.idle": "2022-03-13T23:13:15.660947Z",
     "shell.execute_reply": "2022-03-13T23:13:15.660576Z"
    },
    "papermill": {
     "duration": 0.082237,
     "end_time": "2022-03-13T23:13:15.661051",
     "exception": false,
     "start_time": "2022-03-13T23:13:15.578814",
     "status": "completed"
    },
    "tags": []
   },
   "outputs": [],
   "source": [
    "probs_station = probs.sel(lat=lat, lon=lon, method='nearest')"
   ]
  },
  {
   "cell_type": "code",
   "execution_count": 65,
   "id": "e68c7121",
   "metadata": {
    "execution": {
     "iopub.execute_input": "2022-03-13T23:13:15.778352Z",
     "iopub.status.busy": "2022-03-13T23:13:15.777997Z",
     "iopub.status.idle": "2022-03-13T23:13:17.764767Z",
     "shell.execute_reply": "2022-03-13T23:13:17.765225Z"
    },
    "papermill": {
     "duration": 2.050114,
     "end_time": "2022-03-13T23:13:17.765402",
     "exception": false,
     "start_time": "2022-03-13T23:13:15.715288",
     "status": "completed"
    },
    "tags": []
   },
   "outputs": [],
   "source": [
    "probs_station_df = probs_station.squeeze()[['precip']].to_dataframe()['precip']"
   ]
  },
  {
   "cell_type": "code",
   "execution_count": 66,
   "id": "77a1d239",
   "metadata": {
    "execution": {
     "iopub.execute_input": "2022-03-13T23:13:17.896114Z",
     "iopub.status.busy": "2022-03-13T23:13:17.895736Z",
     "iopub.status.idle": "2022-03-13T23:13:17.914686Z",
     "shell.execute_reply": "2022-03-13T23:13:17.914323Z"
    },
    "papermill": {
     "duration": 0.076224,
     "end_time": "2022-03-13T23:13:17.914791",
     "exception": false,
     "start_time": "2022-03-13T23:13:17.838567",
     "status": "completed"
    },
    "tags": []
   },
   "outputs": [],
   "source": [
    "probs_station_df = probs_station_df.unstack()"
   ]
  },
  {
   "cell_type": "code",
   "execution_count": 67,
   "id": "883260ac",
   "metadata": {
    "execution": {
     "iopub.execute_input": "2022-03-13T23:13:18.027323Z",
     "iopub.status.busy": "2022-03-13T23:13:18.026573Z",
     "iopub.status.idle": "2022-03-13T23:13:18.049303Z",
     "shell.execute_reply": "2022-03-13T23:13:18.048961Z"
    },
    "papermill": {
     "duration": 0.080195,
     "end_time": "2022-03-13T23:13:18.049406",
     "exception": false,
     "start_time": "2022-03-13T23:13:17.969211",
     "status": "completed"
    },
    "tags": []
   },
   "outputs": [
    {
     "data": {
      "text/html": [
       "<div>\n",
       "<style scoped>\n",
       "    .dataframe tbody tr th:only-of-type {\n",
       "        vertical-align: middle;\n",
       "    }\n",
       "\n",
       "    .dataframe tbody tr th {\n",
       "        vertical-align: top;\n",
       "    }\n",
       "\n",
       "    .dataframe thead th {\n",
       "        text-align: right;\n",
       "    }\n",
       "</style>\n",
       "<table border=\"1\" class=\"dataframe\">\n",
       "  <thead>\n",
       "    <tr style=\"text-align: right;\">\n",
       "      <th>step</th>\n",
       "      <th>3</th>\n",
       "      <th>4</th>\n",
       "      <th>5</th>\n",
       "    </tr>\n",
       "    <tr>\n",
       "      <th>decile</th>\n",
       "      <th></th>\n",
       "      <th></th>\n",
       "      <th></th>\n",
       "    </tr>\n",
       "  </thead>\n",
       "  <tbody>\n",
       "    <tr>\n",
       "      <th>1</th>\n",
       "      <td>1.333646</td>\n",
       "      <td>0.562974</td>\n",
       "      <td>1.549806</td>\n",
       "    </tr>\n",
       "    <tr>\n",
       "      <th>2</th>\n",
       "      <td>2.502271</td>\n",
       "      <td>3.245111</td>\n",
       "      <td>2.798049</td>\n",
       "    </tr>\n",
       "    <tr>\n",
       "      <th>3</th>\n",
       "      <td>3.996304</td>\n",
       "      <td>4.885098</td>\n",
       "      <td>3.970615</td>\n",
       "    </tr>\n",
       "    <tr>\n",
       "      <th>4</th>\n",
       "      <td>6.306327</td>\n",
       "      <td>6.990654</td>\n",
       "      <td>6.661643</td>\n",
       "    </tr>\n",
       "    <tr>\n",
       "      <th>5</th>\n",
       "      <td>8.464626</td>\n",
       "      <td>6.910581</td>\n",
       "      <td>8.301480</td>\n",
       "    </tr>\n",
       "    <tr>\n",
       "      <th>6</th>\n",
       "      <td>8.903179</td>\n",
       "      <td>8.892342</td>\n",
       "      <td>10.033715</td>\n",
       "    </tr>\n",
       "    <tr>\n",
       "      <th>7</th>\n",
       "      <td>13.211903</td>\n",
       "      <td>13.207538</td>\n",
       "      <td>12.108944</td>\n",
       "    </tr>\n",
       "    <tr>\n",
       "      <th>8</th>\n",
       "      <td>13.849234</td>\n",
       "      <td>16.354968</td>\n",
       "      <td>16.174353</td>\n",
       "    </tr>\n",
       "    <tr>\n",
       "      <th>9</th>\n",
       "      <td>17.548359</td>\n",
       "      <td>16.370860</td>\n",
       "      <td>15.680698</td>\n",
       "    </tr>\n",
       "    <tr>\n",
       "      <th>10</th>\n",
       "      <td>23.884152</td>\n",
       "      <td>22.579874</td>\n",
       "      <td>22.720698</td>\n",
       "    </tr>\n",
       "  </tbody>\n",
       "</table>\n",
       "</div>"
      ],
      "text/plain": [
       "step            3          4          5\n",
       "decile                                 \n",
       "1        1.333646   0.562974   1.549806\n",
       "2        2.502271   3.245111   2.798049\n",
       "3        3.996304   4.885098   3.970615\n",
       "4        6.306327   6.990654   6.661643\n",
       "5        8.464626   6.910581   8.301480\n",
       "6        8.903179   8.892342  10.033715\n",
       "7       13.211903  13.207538  12.108944\n",
       "8       13.849234  16.354968  16.174353\n",
       "9       17.548359  16.370860  15.680698\n",
       "10      23.884152  22.579874  22.720698"
      ]
     },
     "execution_count": 67,
     "metadata": {},
     "output_type": "execute_result"
    }
   ],
   "source": [
    "probs_station_df"
   ]
  },
  {
   "cell_type": "code",
   "execution_count": 68,
   "id": "a5b17235",
   "metadata": {
    "execution": {
     "iopub.execute_input": "2022-03-13T23:13:18.162190Z",
     "iopub.status.busy": "2022-03-13T23:13:18.161850Z",
     "iopub.status.idle": "2022-03-13T23:13:18.179196Z",
     "shell.execute_reply": "2022-03-13T23:13:18.178851Z"
    },
    "papermill": {
     "duration": 0.075547,
     "end_time": "2022-03-13T23:13:18.179296",
     "exception": false,
     "start_time": "2022-03-13T23:13:18.103749",
     "status": "completed"
    },
    "tags": []
   },
   "outputs": [],
   "source": [
    "if period == 'seasonal': \n",
    "    n_steps = 3\n",
    "elif period == 'monthly': \n",
    "    n_steps = 5"
   ]
  },
  {
   "cell_type": "code",
   "execution_count": 69,
   "id": "ad366c7a",
   "metadata": {
    "execution": {
     "iopub.execute_input": "2022-03-13T23:13:18.293633Z",
     "iopub.status.busy": "2022-03-13T23:13:18.293271Z",
     "iopub.status.idle": "2022-03-13T23:13:18.480689Z",
     "shell.execute_reply": "2022-03-13T23:13:18.480948Z"
    },
    "papermill": {
     "duration": 0.246874,
     "end_time": "2022-03-13T23:13:18.481074",
     "exception": false,
     "start_time": "2022-03-13T23:13:18.234200",
     "status": "completed"
    },
    "tags": []
   },
   "outputs": [
    {
     "data": {
      "image/png": "[encoded data removed]",
      "text/plain": [
       "<Figure size 432x360 with 1 Axes>"
      ]
     },
     "metadata": {
      "needs_background": "light"
     },
     "output_type": "display_data"
    }
   ],
   "source": [
    "f, ax = plot.plot_heatmap(probs_station_df, period=period, n_steps=n_steps, year=2022, cmap='Oranges_r', title=f'C3S MME ensemble mean, Nadi', cumsum=False, start_month=month + 1)"
   ]
  },
  {
   "cell_type": "code",
   "execution_count": 70,
   "id": "701f6226",
   "metadata": {
    "execution": {
     "iopub.execute_input": "2022-03-13T23:13:18.601293Z",
     "iopub.status.busy": "2022-03-13T23:13:18.600895Z",
     "iopub.status.idle": "2022-03-13T23:13:18.733497Z",
     "shell.execute_reply": "2022-03-13T23:13:18.733173Z"
    },
    "papermill": {
     "duration": 0.193565,
     "end_time": "2022-03-13T23:13:18.733603",
     "exception": false,
     "start_time": "2022-03-13T23:13:18.540038",
     "status": "completed"
    },
    "tags": []
   },
   "outputs": [],
   "source": [
    "f.savefig(fpath.joinpath(f'{station_name}_{period}_from_{year}_{month}.png'), dpi=200, bbox_inches='tight', facecolor='w')"
   ]
  },
  {
   "cell_type": "code",
   "execution_count": null,
   "id": "80919027-51f4-4c53-b2a1-9540d6b7ef84",
   "metadata": {
    "papermill": {
     "duration": 0.05642,
     "end_time": "2022-03-13T23:13:18.847024",
     "exception": false,
     "start_time": "2022-03-13T23:13:18.790604",
     "status": "completed"
    },
    "tags": []
   },
   "outputs": [],
   "source": []
  },
  {
   "cell_type": "code",
   "execution_count": null,
   "id": "e02ca736-afde-40db-b8e1-8ac635f1cf88",
   "metadata": {
    "papermill": {
     "duration": 0.055322,
     "end_time": "2022-03-13T23:13:18.973523",
     "exception": false,
     "start_time": "2022-03-13T23:13:18.918201",
     "status": "completed"
    },
    "tags": []
   },
   "outputs": [],
   "source": []
  },
  {
   "cell_type": "code",
   "execution_count": null,
   "id": "e5830510-4a11-4672-ad2a-7796585b93c3",
   "metadata": {
    "papermill": {
     "duration": 0.068291,
     "end_time": "2022-03-13T23:13:19.096545",
     "exception": false,
     "start_time": "2022-03-13T23:13:19.028254",
     "status": "completed"
    },
    "tags": []
   },
   "outputs": [],
   "source": []
  }
 ],
 "metadata": {
  "interpreter": {
   "hash": "df53d632f991ae6da976d69f0a13fc423563be07cde77240b1fc66d1fa832155"
  },
  "kernelspec": {
   "display_name": "Python 3 (ipykernel)",
   "language": "python",
   "name": "python3"
  },
  "language_info": {
   "codemirror_mode": {
    "name": "ipython",
    "version": 3
   },
   "file_extension": ".py",
   "mimetype": "text/x-python",
   "name": "python",
   "nbconvert_exporter": "python",
   "pygments_lexer": "ipython3",
   "version": "3.9.10"
  },
  "papermill": {
   "default_parameters": {},
   "duration": 50.061115,
   "end_time": "2022-03-13T23:13:19.868219",
   "environment_variables": {},
   "exception": null,
   "input_path": "/home/nicolasf/operational/ICU/development/hotspots/code/ICU_Water_Watch/notebooks/C3S/5_map_C3S_MME_probabilistic_decile_forecast.ipynb",
   "output_path": "/home/nicolasf/operational/ICU/development/hotspots/code/ICU_Water_Watch/notebooks/C3S/5_map_C3S_MME_probabilistic_decile_forecast.ipynb",
   "parameters": {
    "date": "this month",
    "lead": 3,
    "period": "seasonal"
   },
   "start_time": "2022-03-13T23:12:29.807104",
   "version": "2.3.3"
  }
 },
 "nbformat": 4,
 "nbformat_minor": 5
}