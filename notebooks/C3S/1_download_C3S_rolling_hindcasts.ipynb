{
 "cells": [
  {
   "cell_type": "markdown",
   "metadata": {},
   "source": [
    "### download the rolling hindcasts for all GCMs from the Copernicus Climate Datastore"
   ]
  },
  {
   "cell_type": "code",
   "execution_count": 32,
   "metadata": {},
   "outputs": [
    {
     "name": "stdout",
     "output_type": "stream",
     "text": [
      "The autoreload extension is already loaded. To reload it, use:\n",
      "  %reload_ext autoreload\n"
     ]
    }
   ],
   "source": [
    "%load_ext autoreload\n",
    "%autoreload 2"
   ]
  },
  {
   "cell_type": "code",
   "execution_count": 33,
   "metadata": {
    "papermill": {
     "duration": 0.086706,
     "end_time": "2020-02-06T23:46:40.196481",
     "exception": false,
     "start_time": "2020-02-06T23:46:40.109775",
     "status": "completed"
    },
    "tags": []
   },
   "outputs": [],
   "source": [
    "import sys\n",
    "import pathlib\n",
    "from datetime import datetime\n",
    "from dateutil.relativedelta import relativedelta\n",
    "import dateparser"
   ]
  },
  {
   "cell_type": "code",
   "execution_count": 34,
   "metadata": {},
   "outputs": [],
   "source": [
    "from dask import delayed, compute\n",
    "from dask.diagnostics import ProgressBar"
   ]
  },
  {
   "cell_type": "code",
   "execution_count": 35,
   "metadata": {},
   "outputs": [],
   "source": [
    "import numpy as np"
   ]
  },
  {
   "cell_type": "code",
   "execution_count": 36,
   "metadata": {
    "papermill": {
     "duration": 0.012961,
     "end_time": "2020-02-06T23:46:40.218011",
     "exception": false,
     "start_time": "2020-02-06T23:46:40.205050",
     "status": "completed"
    },
    "tags": []
   },
   "outputs": [],
   "source": [
    "HOME = pathlib.Path.home()"
   ]
  },
  {
   "cell_type": "code",
   "execution_count": 37,
   "metadata": {},
   "outputs": [],
   "source": [
    "CWD = pathlib.Path.cwd()"
   ]
  },
  {
   "cell_type": "code",
   "execution_count": 38,
   "metadata": {},
   "outputs": [
    {
     "data": {
      "text/plain": [
       "PosixPath('/home/nicolasf/operational/ICU/development/hotspots/code/ICU_Water_Watch/notebooks/C3S')"
      ]
     },
     "execution_count": 38,
     "metadata": {},
     "output_type": "execute_result"
    }
   ],
   "source": [
    "CWD"
   ]
  },
  {
   "cell_type": "markdown",
   "metadata": {},
   "source": [
    "### import local functions for the downloading of the C3S forecasts "
   ]
  },
  {
   "cell_type": "code",
   "execution_count": 39,
   "metadata": {},
   "outputs": [],
   "source": [
    "sys.path.append('../..')"
   ]
  },
  {
   "cell_type": "code",
   "execution_count": 40,
   "metadata": {},
   "outputs": [],
   "source": [
    "from ICU_Water_Watch import C3S, domains"
   ]
  },
  {
   "cell_type": "markdown",
   "metadata": {},
   "source": [
    "### show the predefined domains "
   ]
  },
  {
   "cell_type": "code",
   "execution_count": 41,
   "metadata": {},
   "outputs": [
    {
     "data": {
      "text/plain": [
       "{'Tropical_Pacific': [140, 220, -25, 25],\n",
       " 'SW_Pacific': [172.5, 190, -22.5, -12],\n",
       " 'Fiji': [175, 183, -21, -15],\n",
       " 'NZ': [161, 181, -50, -30],\n",
       " 'Pacific': [140, 240, -50, 25],\n",
       " 'C3S_download': [100, 240, -50, 30],\n",
       " 'Water_Watch': [120, 240, -35, 25]}"
      ]
     },
     "execution_count": 41,
     "metadata": {},
     "output_type": "execute_result"
    }
   ],
   "source": [
    "domains.domains"
   ]
  },
  {
   "cell_type": "markdown",
   "metadata": {},
   "source": [
    "### provider (always CDS for now)"
   ]
  },
  {
   "cell_type": "code",
   "execution_count": 42,
   "metadata": {
    "papermill": {
     "duration": 0.012879,
     "end_time": "2020-02-06T23:46:40.239506",
     "exception": false,
     "start_time": "2020-02-06T23:46:40.226627",
     "status": "completed"
    },
    "tags": []
   },
   "outputs": [],
   "source": [
    "provider = 'CDS'"
   ]
  },
  {
   "cell_type": "markdown",
   "metadata": {},
   "source": [
    "### variable name"
   ]
  },
  {
   "cell_type": "code",
   "execution_count": 43,
   "metadata": {},
   "outputs": [],
   "source": [
    "var_name = 'tprate'"
   ]
  },
  {
   "cell_type": "markdown",
   "metadata": {},
   "source": [
    "### mapping GCMs to systems "
   ]
  },
  {
   "cell_type": "markdown",
   "metadata": {},
   "source": [
    "#### The mapping between the GCM name and the latest system version available for the forecasts needs to be checked [on the CDS website](https://cds.climate.copernicus.eu/)"
   ]
  },
  {
   "cell_type": "code",
   "execution_count": 44,
   "metadata": {},
   "outputs": [],
   "source": [
    "from collections import OrderedDict as OD"
   ]
  },
  {
   "cell_type": "code",
   "execution_count": 45,
   "metadata": {},
   "outputs": [],
   "source": [
    "dict_systems = OD(\n",
    "                ECMWF=5, # SEAS5, hindcast complete \n",
    "                UKMO=600, # note: only for system 14 is hindcast complete\n",
    "                METEO_FRANCE=8, # note: only for system 7 is hindcast complete\n",
    "                DWD=21, # GCFS2.1, hindcast complete \n",
    "                CMCC=35, # SPSv3.5, hindcast complete \n",
    "                NCEP=2,# CFSv2, hindcast complete \n",
    "                JMA=2, # CPS2, hindcast complete\n",
    "                ECCC_GEM_NEMO=1, # GEM-NEMO, hindcast incomplete\n",
    "                ECCC_CanCM4i=2, # CanCM4i, hindcast incomplete\n",
    "                )"
   ]
  },
  {
   "cell_type": "code",
   "execution_count": 46,
   "metadata": {},
   "outputs": [
    {
     "data": {
      "text/plain": [
       "odict_keys(['ECMWF', 'UKMO', 'METEO_FRANCE', 'DWD', 'CMCC', 'NCEP', 'JMA', 'ECCC_GEM_NEMO', 'ECCC_CanCM4i'])"
      ]
     },
     "execution_count": 46,
     "metadata": {},
     "output_type": "execute_result"
    }
   ],
   "source": [
    "dict_systems.keys()"
   ]
  },
  {
   "cell_type": "markdown",
   "metadata": {},
   "source": [
    "### lag in months (if need to download older forecasts)"
   ]
  },
  {
   "cell_type": "code",
   "execution_count": 47,
   "metadata": {},
   "outputs": [],
   "source": [
    "lag = 1"
   ]
  },
  {
   "cell_type": "markdown",
   "metadata": {},
   "source": [
    "### get today's date "
   ]
  },
  {
   "cell_type": "code",
   "execution_count": 48,
   "metadata": {},
   "outputs": [],
   "source": [
    "date = dateparser.parse('today')"
   ]
  },
  {
   "cell_type": "markdown",
   "metadata": {},
   "source": [
    "### apply lag "
   ]
  },
  {
   "cell_type": "code",
   "execution_count": 49,
   "metadata": {},
   "outputs": [],
   "source": [
    "date = date - relativedelta(months=lag)"
   ]
  },
  {
   "cell_type": "code",
   "execution_count": 50,
   "metadata": {},
   "outputs": [
    {
     "data": {
      "text/plain": [
       "datetime.datetime(2021, 10, 17, 14, 22, 27, 246244)"
      ]
     },
     "execution_count": 50,
     "metadata": {},
     "output_type": "execute_result"
    }
   ],
   "source": [
    "date"
   ]
  },
  {
   "cell_type": "markdown",
   "metadata": {},
   "source": [
    "### generate the dates for the download of the rolling hindcasts "
   ]
  },
  {
   "cell_type": "code",
   "execution_count": 51,
   "metadata": {},
   "outputs": [],
   "source": [
    "dates = [datetime(y, date.month, 1) for y in range(1993, 2016 + 1)]"
   ]
  },
  {
   "cell_type": "code",
   "execution_count": 52,
   "metadata": {},
   "outputs": [
    {
     "data": {
      "text/plain": [
       "[datetime.datetime(1993, 10, 1, 0, 0),\n",
       " datetime.datetime(1994, 10, 1, 0, 0),\n",
       " datetime.datetime(1995, 10, 1, 0, 0),\n",
       " datetime.datetime(1996, 10, 1, 0, 0),\n",
       " datetime.datetime(1997, 10, 1, 0, 0),\n",
       " datetime.datetime(1998, 10, 1, 0, 0),\n",
       " datetime.datetime(1999, 10, 1, 0, 0),\n",
       " datetime.datetime(2000, 10, 1, 0, 0),\n",
       " datetime.datetime(2001, 10, 1, 0, 0),\n",
       " datetime.datetime(2002, 10, 1, 0, 0),\n",
       " datetime.datetime(2003, 10, 1, 0, 0),\n",
       " datetime.datetime(2004, 10, 1, 0, 0),\n",
       " datetime.datetime(2005, 10, 1, 0, 0),\n",
       " datetime.datetime(2006, 10, 1, 0, 0),\n",
       " datetime.datetime(2007, 10, 1, 0, 0),\n",
       " datetime.datetime(2008, 10, 1, 0, 0),\n",
       " datetime.datetime(2009, 10, 1, 0, 0),\n",
       " datetime.datetime(2010, 10, 1, 0, 0),\n",
       " datetime.datetime(2011, 10, 1, 0, 0),\n",
       " datetime.datetime(2012, 10, 1, 0, 0),\n",
       " datetime.datetime(2013, 10, 1, 0, 0),\n",
       " datetime.datetime(2014, 10, 1, 0, 0),\n",
       " datetime.datetime(2015, 10, 1, 0, 0),\n",
       " datetime.datetime(2016, 10, 1, 0, 0)]"
      ]
     },
     "execution_count": 52,
     "metadata": {},
     "output_type": "execute_result"
    }
   ],
   "source": [
    "dates"
   ]
  },
  {
   "cell_type": "markdown",
   "metadata": {},
   "source": [
    "### path to download the rolling hindcasts "
   ]
  },
  {
   "cell_type": "code",
   "execution_count": 53,
   "metadata": {},
   "outputs": [],
   "source": [
    "gcm_path = pathlib.Path(f'/media/nicolasf/END19101/ICU/data/{provider}/operational/hindcasts')"
   ]
  },
  {
   "cell_type": "code",
   "execution_count": 54,
   "metadata": {},
   "outputs": [],
   "source": [
    "if not(gcm_path.exists()): \n",
    "    gcm_path.mkdir(parents=True)"
   ]
  },
  {
   "cell_type": "markdown",
   "metadata": {},
   "source": [
    "### Now loops over the dates, creates a dictionnary containing the keywords arguments, and pass to dask for parallel download "
   ]
  },
  {
   "cell_type": "code",
   "execution_count": 55,
   "metadata": {},
   "outputs": [],
   "source": [
    "list_GCMs = ['ECMWF', 'UKMO', 'METEO_FRANCE', 'DWD', 'CMCC', 'NCEP', 'JMA', 'ECCC_CanCM4i', 'ECCC_GEM_NEMO']"
   ]
  },
  {
   "cell_type": "code",
   "execution_count": 56,
   "metadata": {},
   "outputs": [
    {
     "data": {
      "text/plain": [
       "PosixPath('/media/nicolasf/END19101/ICU/data/CDS/operational/hindcasts')"
      ]
     },
     "execution_count": 56,
     "metadata": {},
     "output_type": "execute_result"
    }
   ],
   "source": [
    "gcm_path"
   ]
  },
  {
   "cell_type": "code",
   "execution_count": 57,
   "metadata": {},
   "outputs": [
    {
     "name": "stdout",
     "output_type": "stream",
     "text": [
      "processing ECCC, path should be /media/nicolasf/END19101/ICU/data/CDS/operational/hindcasts/ECCC_CanCM4i/TPRATE\n",
      "processing ECCC, path should be /media/nicolasf/END19101/ICU/data/CDS/operational/hindcasts/ECCC_GEM_NEMO/TPRATE\n",
      "[                                        ] | 0% Completed |  0.0s\n",
      "/media/nicolasf/END19101/ICU/data/CDS/operational/hindcasts/ECCC_GEM_NEMO/TPRATE/ensemble_seas_forecasts_tprate_from_1993_10_ECCC.netcdf exists already on disk, skipping download and returning path\n",
      "\n",
      "\n",
      "attempting to download tprate for GCM ECCC, for level surface, year 1993, month 10, in netcdf, attempt 1 of 3\n",
      "\n",
      "[####################                    ] | 50% Completed |  1.8s"
     ]
    },
    {
     "name": "stderr",
     "output_type": "stream",
     "text": [
      "2021-11-17 14:22:34,285 INFO Welcome to the CDS\n",
      "2021-11-17 14:22:34,286 INFO Sending request to https://cds.climate.copernicus.eu/api/v2/resources/seasonal-monthly-single-levels\n"
     ]
    },
    {
     "name": "stdout",
     "output_type": "stream",
     "text": [
      "[####################                    ] | 50% Completed |  2.2s"
     ]
    },
    {
     "name": "stderr",
     "output_type": "stream",
     "text": [
      "2021-11-17 14:22:34,685 INFO Request is queued\n"
     ]
    },
    {
     "name": "stdout",
     "output_type": "stream",
     "text": [
      "[####################                    ] | 50% Completed | 25.1s"
     ]
    },
    {
     "name": "stderr",
     "output_type": "stream",
     "text": [
      "2021-11-17 14:22:57,631 INFO Request is running\n"
     ]
    },
    {
     "name": "stdout",
     "output_type": "stream",
     "text": [
      "[####################                    ] | 50% Completed | 54.3s"
     ]
    },
    {
     "name": "stderr",
     "output_type": "stream",
     "text": [
      "2021-11-17 14:23:26,794 INFO Request is completed\n",
      "2021-11-17 14:23:26,794 INFO Downloading https://download-0012.copernicus-climate.eu/cache-compute-0012/cache/data0/adaptor.mars.external-1637112189.4122565-9639-12-39bd5d44-ace3-4fb5-9c23-acc4437fcf34.nc to /media/nicolasf/END19101/ICU/data/CDS/operational/hindcasts/ECCC_CanCM4i/TPRATE/ensemble_seas_forecasts_tprate_from_1993_10_ECCC.netcdf (1.1M)\n"
     ]
    },
    {
     "name": "stdout",
     "output_type": "stream",
     "text": [
      "[####################                    ] | 50% Completed | 56.2s"
     ]
    },
    {
     "name": "stderr",
     "output_type": "stream",
     "text": [
      "  0%|          | 0.00/1.09M [00:00<?, ?B/s]"
     ]
    },
    {
     "name": "stdout",
     "output_type": "stream",
     "text": [
      "[####################                    ] | 50% Completed | 56.7s"
     ]
    },
    {
     "name": "stderr",
     "output_type": "stream",
     "text": [
      "  1%|▏         | 16.0k/1.09M [00:00<00:28, 40.1kB/s]"
     ]
    },
    {
     "name": "stdout",
     "output_type": "stream",
     "text": [
      "[####################                    ] | 50% Completed | 57.1s"
     ]
    },
    {
     "name": "stderr",
     "output_type": "stream",
     "text": [
      "  4%|▍         | 50.0k/1.09M [00:00<00:16, 66.6kB/s]"
     ]
    },
    {
     "name": "stdout",
     "output_type": "stream",
     "text": [
      "[####################                    ] | 50% Completed | 57.5s"
     ]
    },
    {
     "name": "stderr",
     "output_type": "stream",
     "text": [
      "  9%|▉         | 106k/1.09M [00:01<00:10, 99.9kB/s] "
     ]
    },
    {
     "name": "stdout",
     "output_type": "stream",
     "text": [
      "[####################                    ] | 50% Completed | 57.9s"
     ]
    },
    {
     "name": "stderr",
     "output_type": "stream",
     "text": [
      " 14%|█▍        | 162k/1.09M [00:01<00:08, 115kB/s] "
     ]
    },
    {
     "name": "stdout",
     "output_type": "stream",
     "text": [
      "[####################                    ] | 50% Completed | 58.2s"
     ]
    },
    {
     "name": "stderr",
     "output_type": "stream",
     "text": [
      " 20%|█▉        | 218k/1.09M [00:01<00:06, 139kB/s]"
     ]
    },
    {
     "name": "stdout",
     "output_type": "stream",
     "text": [
      "[####################                    ] | 50% Completed | 58.5s"
     ]
    },
    {
     "name": "stderr",
     "output_type": "stream",
     "text": [
      " 24%|██▍       | 270k/1.09M [00:02<00:05, 152kB/s]"
     ]
    },
    {
     "name": "stdout",
     "output_type": "stream",
     "text": [
      "[####################                    ] | 50% Completed | 58.7s"
     ]
    },
    {
     "name": "stderr",
     "output_type": "stream",
     "text": [
      " 29%|██▉       | 326k/1.09M [00:02<00:04, 165kB/s]"
     ]
    },
    {
     "name": "stdout",
     "output_type": "stream",
     "text": [
      "[####################                    ] | 50% Completed | 59.0s"
     ]
    },
    {
     "name": "stderr",
     "output_type": "stream",
     "text": [
      " 35%|███▍      | 390k/1.09M [00:02<00:04, 180kB/s]"
     ]
    },
    {
     "name": "stdout",
     "output_type": "stream",
     "text": [
      "[####################                    ] | 50% Completed | 59.4s"
     ]
    },
    {
     "name": "stderr",
     "output_type": "stream",
     "text": [
      " 40%|███▉      | 446k/1.09M [00:03<00:03, 173kB/s]"
     ]
    },
    {
     "name": "stdout",
     "output_type": "stream",
     "text": [
      "[####################                    ] | 50% Completed |  1min  0.1s"
     ]
    },
    {
     "name": "stderr",
     "output_type": "stream",
     "text": [
      " 42%|████▏     | 470k/1.09M [00:03<00:06, 106kB/s]"
     ]
    },
    {
     "name": "stdout",
     "output_type": "stream",
     "text": [
      "[####################                    ] | 50% Completed |  1min  0.4s"
     ]
    },
    {
     "name": "stderr",
     "output_type": "stream",
     "text": [
      " 51%|█████     | 571k/1.09M [00:04<00:03, 158kB/s]"
     ]
    },
    {
     "name": "stdout",
     "output_type": "stream",
     "text": [
      "[####################                    ] | 50% Completed |  1min  0.8s"
     ]
    },
    {
     "name": "stderr",
     "output_type": "stream",
     "text": [
      " 56%|█████▌    | 627k/1.09M [00:04<00:03, 153kB/s]"
     ]
    },
    {
     "name": "stdout",
     "output_type": "stream",
     "text": [
      "[####################                    ] | 50% Completed |  1min  1.2s"
     ]
    },
    {
     "name": "stderr",
     "output_type": "stream",
     "text": [
      " 60%|██████    | 675k/1.09M [00:05<00:03, 143kB/s]"
     ]
    },
    {
     "name": "stdout",
     "output_type": "stream",
     "text": [
      "[####################                    ] | 50% Completed |  1min  1.5s"
     ]
    },
    {
     "name": "stderr",
     "output_type": "stream",
     "text": [
      " 65%|██████▍   | 723k/1.09M [00:05<00:02, 149kB/s]"
     ]
    },
    {
     "name": "stdout",
     "output_type": "stream",
     "text": [
      "[####################                    ] | 50% Completed |  1min  1.9s"
     ]
    },
    {
     "name": "stderr",
     "output_type": "stream",
     "text": [
      " 69%|██████▉   | 776k/1.09M [00:05<00:02, 142kB/s]"
     ]
    },
    {
     "name": "stdout",
     "output_type": "stream",
     "text": [
      "[####################                    ] | 50% Completed |  1min  2.2s"
     ]
    },
    {
     "name": "stderr",
     "output_type": "stream",
     "text": [
      " 74%|███████▍  | 832k/1.09M [00:06<00:01, 155kB/s]"
     ]
    },
    {
     "name": "stdout",
     "output_type": "stream",
     "text": [
      "[####################                    ] | 50% Completed |  1min  2.7s"
     ]
    },
    {
     "name": "stderr",
     "output_type": "stream",
     "text": [
      " 79%|███████▉  | 888k/1.09M [00:06<00:01, 148kB/s]"
     ]
    },
    {
     "name": "stdout",
     "output_type": "stream",
     "text": [
      "[####################                    ] | 50% Completed |  1min  3.5s"
     ]
    },
    {
     "name": "stderr",
     "output_type": "stream",
     "text": [
      " 84%|████████▍ | 944k/1.09M [00:07<00:01, 111kB/s]"
     ]
    },
    {
     "name": "stdout",
     "output_type": "stream",
     "text": [
      "[####################                    ] | 50% Completed |  1min  3.9s"
     ]
    },
    {
     "name": "stderr",
     "output_type": "stream",
     "text": [
      " 93%|█████████▎| 1.01M/1.09M [00:07<00:00, 143kB/s]"
     ]
    },
    {
     "name": "stdout",
     "output_type": "stream",
     "text": [
      "[####################                    ] | 50% Completed |  1min  4.4s"
     ]
    },
    {
     "name": "stderr",
     "output_type": "stream",
     "text": [
      " 97%|█████████▋| 1.05M/1.09M [00:08<00:00, 132kB/s]"
     ]
    },
    {
     "name": "stdout",
     "output_type": "stream",
     "text": [
      "[####################                    ] | 50% Completed |  1min  4.5s"
     ]
    },
    {
     "name": "stderr",
     "output_type": "stream",
     "text": [
      "2021-11-17 14:23:36,940 INFO Download rate 110.1K/s\n"
     ]
    },
    {
     "name": "stdout",
     "output_type": "stream",
     "text": [
      "[####################                    ] | 50% Completed |  1min  4.9s\n",
      "/media/nicolasf/END19101/ICU/data/CDS/operational/hindcasts/ECCC_CanCM4i/TPRATE/ensemble_seas_forecasts_tprate_from_1993_10_ECCC.netcdf downloaded OK\n",
      "\n",
      "[########################################] | 100% Completed |  1min  5.0s\n",
      "processing ECCC, path should be /media/nicolasf/END19101/ICU/data/CDS/operational/hindcasts/ECCC_CanCM4i/TPRATE\n",
      "processing ECCC, path should be /media/nicolasf/END19101/ICU/data/CDS/operational/hindcasts/ECCC_GEM_NEMO/TPRATE\n",
      "[                                        ] | 0% Completed |  0.0s\n",
      "/media/nicolasf/END19101/ICU/data/CDS/operational/hindcasts/ECCC_GEM_NEMO/TPRATE/ensemble_seas_forecasts_tprate_from_1994_10_ECCC.netcdf exists already on disk, skipping download and returning path\n",
      "\n",
      "\n",
      "attempting to download tprate for GCM ECCC, for level surface, year 1994, month 10, in netcdf, attempt 1 of 3\n",
      "\n",
      "[####################                    ] | 50% Completed |  0.3s"
     ]
    },
    {
     "name": "stderr",
     "output_type": "stream",
     "text": [
      "2021-11-17 14:23:37,756 INFO Welcome to the CDS\n",
      "2021-11-17 14:23:37,756 INFO Sending request to https://cds.climate.copernicus.eu/api/v2/resources/seasonal-monthly-single-levels\n"
     ]
    },
    {
     "name": "stdout",
     "output_type": "stream",
     "text": [
      "[####################                    ] | 50% Completed |  0.6s"
     ]
    },
    {
     "name": "stderr",
     "output_type": "stream",
     "text": [
      "2021-11-17 14:23:38,100 INFO Request is queued\n"
     ]
    },
    {
     "name": "stdout",
     "output_type": "stream",
     "text": [
      "[####################                    ] | 50% Completed | 35.2s"
     ]
    },
    {
     "name": "stderr",
     "output_type": "stream",
     "text": [
      "2021-11-17 14:24:12,673 INFO Request is running\n"
     ]
    },
    {
     "name": "stdout",
     "output_type": "stream",
     "text": [
      "[####################                    ] | 50% Completed |  1min 18.6s"
     ]
    },
    {
     "name": "stderr",
     "output_type": "stream",
     "text": [
      "2021-11-17 14:24:56,029 INFO Request is completed\n",
      "2021-11-17 14:24:56,030 INFO Downloading https://download-0011.copernicus-climate.eu/cache-compute-0011/cache/data7/adaptor.mars.external-1637112274.346164-19955-15-1c5699d0-6da0-4e0c-bc80-6b48bb2492b2.nc to /media/nicolasf/END19101/ICU/data/CDS/operational/hindcasts/ECCC_CanCM4i/TPRATE/ensemble_seas_forecasts_tprate_from_1994_10_ECCC.netcdf (1.1M)\n"
     ]
    },
    {
     "name": "stdout",
     "output_type": "stream",
     "text": [
      "[####################                    ] | 50% Completed |  1min 20.5s"
     ]
    },
    {
     "name": "stderr",
     "output_type": "stream",
     "text": [
      "  0%|          | 0.00/1.09M [00:00<?, ?B/s]"
     ]
    },
    {
     "name": "stdout",
     "output_type": "stream",
     "text": [
      "[####################                    ] | 50% Completed |  1min 21.0s"
     ]
    },
    {
     "name": "stderr",
     "output_type": "stream",
     "text": [
      "  1%|▏         | 16.0k/1.09M [00:00<00:36, 31.2kB/s]"
     ]
    },
    {
     "name": "stdout",
     "output_type": "stream",
     "text": [
      "[####################                    ] | 50% Completed |  1min 21.3s"
     ]
    },
    {
     "name": "stderr",
     "output_type": "stream",
     "text": [
      "  5%|▌         | 58.0k/1.09M [00:00<00:13, 82.5kB/s]"
     ]
    },
    {
     "name": "stdout",
     "output_type": "stream",
     "text": [
      "[####################                    ] | 50% Completed |  1min 21.8s"
     ]
    },
    {
     "name": "stderr",
     "output_type": "stream",
     "text": [
      " 10%|█         | 113k/1.09M [00:01<00:10, 95.6kB/s] "
     ]
    },
    {
     "name": "stdout",
     "output_type": "stream",
     "text": [
      "[####################                    ] | 50% Completed |  1min 22.6s"
     ]
    },
    {
     "name": "stderr",
     "output_type": "stream",
     "text": [
      " 16%|█▌        | 174k/1.09M [00:02<00:11, 85.1kB/s]"
     ]
    },
    {
     "name": "stdout",
     "output_type": "stream",
     "text": [
      "[####################                    ] | 50% Completed |  1min 23.1s"
     ]
    },
    {
     "name": "stderr",
     "output_type": "stream",
     "text": [
      " 21%|██        | 230k/1.09M [00:02<00:09, 101kB/s] "
     ]
    },
    {
     "name": "stdout",
     "output_type": "stream",
     "text": [
      "[####################                    ] | 50% Completed |  1min 23.4s"
     ]
    },
    {
     "name": "stderr",
     "output_type": "stream",
     "text": [
      " 28%|██▊       | 318k/1.09M [00:02<00:05, 145kB/s]"
     ]
    },
    {
     "name": "stdout",
     "output_type": "stream",
     "text": [
      "[####################                    ] | 50% Completed |  1min 23.7s"
     ]
    },
    {
     "name": "stderr",
     "output_type": "stream",
     "text": [
      " 33%|███▎      | 366k/1.09M [00:03<00:05, 149kB/s]"
     ]
    },
    {
     "name": "stdout",
     "output_type": "stream",
     "text": [
      "[####################                    ] | 50% Completed |  1min 24.0s"
     ]
    },
    {
     "name": "stderr",
     "output_type": "stream",
     "text": [
      " 38%|███▊      | 422k/1.09M [00:03<00:04, 158kB/s]"
     ]
    },
    {
     "name": "stdout",
     "output_type": "stream",
     "text": [
      "[####################                    ] | 50% Completed |  1min 24.4s"
     ]
    },
    {
     "name": "stderr",
     "output_type": "stream",
     "text": [
      " 43%|████▎     | 478k/1.09M [00:03<00:04, 152kB/s]"
     ]
    },
    {
     "name": "stdout",
     "output_type": "stream",
     "text": [
      "[####################                    ] | 50% Completed |  1min 24.8s"
     ]
    },
    {
     "name": "stderr",
     "output_type": "stream",
     "text": [
      " 48%|████▊     | 531k/1.09M [00:04<00:04, 146kB/s]"
     ]
    },
    {
     "name": "stdout",
     "output_type": "stream",
     "text": [
      "[####################                    ] | 50% Completed |  1min 25.5s"
     ]
    },
    {
     "name": "stderr",
     "output_type": "stream",
     "text": [
      " 53%|█████▎    | 587k/1.09M [00:05<00:04, 118kB/s]"
     ]
    },
    {
     "name": "stdout",
     "output_type": "stream",
     "text": [
      "[####################                    ] | 50% Completed |  1min 25.9s"
     ]
    },
    {
     "name": "stderr",
     "output_type": "stream",
     "text": [
      " 58%|█████▊    | 651k/1.09M [00:05<00:03, 128kB/s]"
     ]
    },
    {
     "name": "stdout",
     "output_type": "stream",
     "text": [
      "[####################                    ] | 50% Completed |  1min 26.2s"
     ]
    },
    {
     "name": "stderr",
     "output_type": "stream",
     "text": [
      " 65%|██████▌   | 731k/1.09M [00:05<00:02, 159kB/s]"
     ]
    },
    {
     "name": "stdout",
     "output_type": "stream",
     "text": [
      "[####################                    ] | 50% Completed |  1min 26.6s"
     ]
    },
    {
     "name": "stderr",
     "output_type": "stream",
     "text": [
      " 69%|██████▉   | 776k/1.09M [00:06<00:02, 145kB/s]"
     ]
    },
    {
     "name": "stdout",
     "output_type": "stream",
     "text": [
      "[####################                    ] | 50% Completed |  1min 26.9s"
     ]
    },
    {
     "name": "stderr",
     "output_type": "stream",
     "text": [
      " 73%|███████▎  | 816k/1.09M [00:06<00:02, 142kB/s]"
     ]
    },
    {
     "name": "stdout",
     "output_type": "stream",
     "text": [
      "[####################                    ] | 50% Completed |  1min 27.3s"
     ]
    },
    {
     "name": "stderr",
     "output_type": "stream",
     "text": [
      " 78%|███████▊  | 872k/1.09M [00:06<00:01, 142kB/s]"
     ]
    },
    {
     "name": "stdout",
     "output_type": "stream",
     "text": [
      "[####################                    ] | 50% Completed |  1min 27.6s"
     ]
    },
    {
     "name": "stderr",
     "output_type": "stream",
     "text": [
      " 82%|████████▏ | 920k/1.09M [00:07<00:01, 146kB/s]"
     ]
    },
    {
     "name": "stdout",
     "output_type": "stream",
     "text": [
      "[####################                    ] | 50% Completed |  1min 27.9s"
     ]
    },
    {
     "name": "stderr",
     "output_type": "stream",
     "text": [
      " 87%|████████▋ | 968k/1.09M [00:07<00:01, 150kB/s]"
     ]
    },
    {
     "name": "stdout",
     "output_type": "stream",
     "text": [
      "[####################                    ] | 50% Completed |  1min 28.2s"
     ]
    },
    {
     "name": "stderr",
     "output_type": "stream",
     "text": [
      " 92%|█████████▏| 1.00M/1.09M [00:07<00:00, 159kB/s]"
     ]
    },
    {
     "name": "stdout",
     "output_type": "stream",
     "text": [
      "[####################                    ] | 50% Completed |  1min 28.5s"
     ]
    },
    {
     "name": "stderr",
     "output_type": "stream",
     "text": [
      " 97%|█████████▋| 1.05M/1.09M [00:08<00:00, 169kB/s]"
     ]
    },
    {
     "name": "stdout",
     "output_type": "stream",
     "text": [
      "[####################                    ] | 50% Completed |  1min 28.6s"
     ]
    },
    {
     "name": "stderr",
     "output_type": "stream",
     "text": [
      "2021-11-17 14:25:06,116 INFO Download rate 110.8K/s\n"
     ]
    },
    {
     "name": "stdout",
     "output_type": "stream",
     "text": [
      "[####################                    ] | 50% Completed |  1min 28.9s\n",
      "/media/nicolasf/END19101/ICU/data/CDS/operational/hindcasts/ECCC_CanCM4i/TPRATE/ensemble_seas_forecasts_tprate_from_1994_10_ECCC.netcdf downloaded OK\n",
      "\n",
      "[########################################] | 100% Completed |  1min 29.0s\n",
      "processing ECCC, path should be /media/nicolasf/END19101/ICU/data/CDS/operational/hindcasts/ECCC_CanCM4i/TPRATE\n",
      "processing ECCC, path should be /media/nicolasf/END19101/ICU/data/CDS/operational/hindcasts/ECCC_GEM_NEMO/TPRATE\n",
      "[                                        ] | 0% Completed |  0.0s\n",
      "/media/nicolasf/END19101/ICU/data/CDS/operational/hindcasts/ECCC_GEM_NEMO/TPRATE/ensemble_seas_forecasts_tprate_from_1995_10_ECCC.netcdf exists already on disk, skipping download and returning path\n",
      "\n",
      "\n",
      "attempting to download tprate for GCM ECCC, for level surface, year 1995, month 10, in netcdf, attempt 1 of 3\n",
      "\n",
      "[####################                    ] | 50% Completed |  0.4s"
     ]
    },
    {
     "name": "stderr",
     "output_type": "stream",
     "text": [
      "2021-11-17 14:25:06,838 INFO Welcome to the CDS\n",
      "2021-11-17 14:25:06,839 INFO Sending request to https://cds.climate.copernicus.eu/api/v2/resources/seasonal-monthly-single-levels\n"
     ]
    },
    {
     "name": "stdout",
     "output_type": "stream",
     "text": [
      "[####################                    ] | 50% Completed |  0.7s"
     ]
    },
    {
     "name": "stderr",
     "output_type": "stream",
     "text": [
      "2021-11-17 14:25:07,177 INFO Request is queued\n"
     ]
    },
    {
     "name": "stdout",
     "output_type": "stream",
     "text": [
      "[####################                    ] | 50% Completed |  3.8s"
     ]
    },
    {
     "name": "stderr",
     "output_type": "stream",
     "text": [
      "2021-11-17 14:25:10,318 INFO Request is running\n"
     ]
    },
    {
     "name": "stdout",
     "output_type": "stream",
     "text": [
      "[####################                    ] | 50% Completed | 53.2s"
     ]
    },
    {
     "name": "stderr",
     "output_type": "stream",
     "text": [
      "2021-11-17 14:25:59,676 INFO Request is completed\n",
      "2021-11-17 14:25:59,677 INFO Downloading https://download-0005.copernicus-climate.eu/cache-compute-0005/cache/data7/adaptor.mars.external-1637112354.9210496-20332-5-102eebff-1ed6-4266-afb9-fca9cb3d7200.nc to /media/nicolasf/END19101/ICU/data/CDS/operational/hindcasts/ECCC_CanCM4i/TPRATE/ensemble_seas_forecasts_tprate_from_1995_10_ECCC.netcdf (1.1M)\n"
     ]
    },
    {
     "name": "stdout",
     "output_type": "stream",
     "text": [
      "[####################                    ] | 50% Completed | 54.9s"
     ]
    },
    {
     "name": "stderr",
     "output_type": "stream",
     "text": [
      "  0%|          | 0.00/1.09M [00:00<?, ?B/s]"
     ]
    },
    {
     "name": "stdout",
     "output_type": "stream",
     "text": [
      "[####################                    ] | 50% Completed | 55.2s"
     ]
    },
    {
     "name": "stderr",
     "output_type": "stream",
     "text": [
      "  1%|▏         | 16.0k/1.09M [00:00<00:20, 55.0kB/s]"
     ]
    },
    {
     "name": "stdout",
     "output_type": "stream",
     "text": [
      "[####################                    ] | 50% Completed | 55.7s"
     ]
    },
    {
     "name": "stderr",
     "output_type": "stream",
     "text": [
      "  5%|▌         | 60.0k/1.09M [00:00<00:14, 77.0kB/s]"
     ]
    },
    {
     "name": "stdout",
     "output_type": "stream",
     "text": [
      "[####################                    ] | 50% Completed | 56.3s"
     ]
    },
    {
     "name": "stderr",
     "output_type": "stream",
     "text": [
      " 10%|▉         | 108k/1.09M [00:01<00:12, 85.2kB/s] "
     ]
    },
    {
     "name": "stdout",
     "output_type": "stream",
     "text": [
      "[####################                    ] | 50% Completed | 56.6s"
     ]
    },
    {
     "name": "stderr",
     "output_type": "stream",
     "text": [
      " 15%|█▌        | 172k/1.09M [00:01<00:07, 124kB/s] "
     ]
    },
    {
     "name": "stdout",
     "output_type": "stream",
     "text": [
      "[####################                    ] | 50% Completed | 56.9s"
     ]
    },
    {
     "name": "stderr",
     "output_type": "stream",
     "text": [
      " 17%|█▋        | 188k/1.09M [00:02<00:09, 96.4kB/s]"
     ]
    },
    {
     "name": "stdout",
     "output_type": "stream",
     "text": [
      "[####################                    ] | 50% Completed | 57.3s"
     ]
    },
    {
     "name": "stderr",
     "output_type": "stream",
     "text": [
      " 26%|██▋       | 294k/1.09M [00:02<00:05, 166kB/s] "
     ]
    },
    {
     "name": "stdout",
     "output_type": "stream",
     "text": [
      "[####################                    ] | 50% Completed | 57.7s"
     ]
    },
    {
     "name": "stderr",
     "output_type": "stream",
     "text": [
      " 28%|██▊       | 312k/1.09M [00:02<00:06, 124kB/s]"
     ]
    },
    {
     "name": "stdout",
     "output_type": "stream",
     "text": [
      "[####################                    ] | 50% Completed |  1min  1.1s"
     ]
    },
    {
     "name": "stderr",
     "output_type": "stream",
     "text": [
      " 31%|███▏      | 350k/1.09M [00:06<00:23, 32.8kB/s]"
     ]
    },
    {
     "name": "stdout",
     "output_type": "stream",
     "text": [
      "[####################                    ] | 50% Completed |  1min  1.5s"
     ]
    },
    {
     "name": "stderr",
     "output_type": "stream",
     "text": [
      " 32%|███▏      | 360k/1.09M [00:06<00:24, 31.9kB/s]"
     ]
    },
    {
     "name": "stdout",
     "output_type": "stream",
     "text": [
      "[####################                    ] | 50% Completed |  1min  2.9s"
     ]
    },
    {
     "name": "stderr",
     "output_type": "stream",
     "text": [
      " 37%|███▋      | 414k/1.09M [00:07<00:19, 36.4kB/s]"
     ]
    },
    {
     "name": "stdout",
     "output_type": "stream",
     "text": [
      "[####################                    ] | 50% Completed |  1min  3.2s"
     ]
    },
    {
     "name": "stderr",
     "output_type": "stream",
     "text": [
      " 40%|███▉      | 446k/1.09M [00:08<00:15, 44.1kB/s]"
     ]
    },
    {
     "name": "stdout",
     "output_type": "stream",
     "text": [
      "[####################                    ] | 50% Completed |  1min  3.5s"
     ]
    },
    {
     "name": "stderr",
     "output_type": "stream",
     "text": [
      " 48%|████▊     | 539k/1.09M [00:08<00:07, 79.3kB/s]"
     ]
    },
    {
     "name": "stdout",
     "output_type": "stream",
     "text": [
      "[####################                    ] | 50% Completed |  1min  5.0s"
     ]
    },
    {
     "name": "stderr",
     "output_type": "stream",
     "text": [
      " 50%|████▉     | 554k/1.09M [00:10<00:12, 45.6kB/s]"
     ]
    },
    {
     "name": "stdout",
     "output_type": "stream",
     "text": [
      "[####################                    ] | 50% Completed |  1min  5.8s"
     ]
    },
    {
     "name": "stderr",
     "output_type": "stream",
     "text": [
      " 51%|█████     | 565k/1.09M [00:10<00:15, 36.9kB/s]"
     ]
    },
    {
     "name": "stdout",
     "output_type": "stream",
     "text": [
      "[####################                    ] | 50% Completed |  1min  6.2s"
     ]
    },
    {
     "name": "stderr",
     "output_type": "stream",
     "text": [
      " 53%|█████▎    | 595k/1.09M [00:11<00:12, 43.1kB/s]"
     ]
    },
    {
     "name": "stdout",
     "output_type": "stream",
     "text": [
      "[####################                    ] | 50% Completed |  1min  6.9s"
     ]
    },
    {
     "name": "stderr",
     "output_type": "stream",
     "text": [
      " 55%|█████▌    | 619k/1.09M [00:11<00:12, 40.5kB/s]"
     ]
    },
    {
     "name": "stdout",
     "output_type": "stream",
     "text": [
      "[####################                    ] | 50% Completed |  1min  7.6s"
     ]
    },
    {
     "name": "stderr",
     "output_type": "stream",
     "text": [
      " 57%|█████▋    | 635k/1.09M [00:12<00:13, 35.4kB/s]"
     ]
    },
    {
     "name": "stdout",
     "output_type": "stream",
     "text": [
      "[####################                    ] | 50% Completed |  1min  8.5s"
     ]
    },
    {
     "name": "stderr",
     "output_type": "stream",
     "text": [
      " 59%|█████▉    | 659k/1.09M [00:13<00:13, 33.6kB/s]"
     ]
    },
    {
     "name": "stdout",
     "output_type": "stream",
     "text": [
      "[####################                    ] | 50% Completed |  1min  8.9s"
     ]
    },
    {
     "name": "stderr",
     "output_type": "stream",
     "text": [
      " 60%|█████▉    | 667k/1.09M [00:13<00:14, 31.1kB/s]"
     ]
    },
    {
     "name": "stdout",
     "output_type": "stream",
     "text": [
      "[####################                    ] | 50% Completed |  1min  9.2s"
     ]
    },
    {
     "name": "stderr",
     "output_type": "stream",
     "text": [
      " 61%|██████    | 683k/1.09M [00:14<00:12, 35.0kB/s]"
     ]
    },
    {
     "name": "stdout",
     "output_type": "stream",
     "text": [
      "[####################                    ] | 50% Completed |  1min  9.5s"
     ]
    },
    {
     "name": "stderr",
     "output_type": "stream",
     "text": [
      " 62%|██████▏   | 691k/1.09M [00:14<00:12, 33.6kB/s]"
     ]
    },
    {
     "name": "stdout",
     "output_type": "stream",
     "text": [
      "[####################                    ] | 50% Completed |  1min  9.7s"
     ]
    },
    {
     "name": "stderr",
     "output_type": "stream",
     "text": [
      " 63%|██████▎   | 699k/1.09M [00:14<00:13, 32.3kB/s]"
     ]
    },
    {
     "name": "stdout",
     "output_type": "stream",
     "text": [
      "[####################                    ] | 50% Completed |  1min 10.1s"
     ]
    },
    {
     "name": "stderr",
     "output_type": "stream",
     "text": [
      " 63%|██████▎   | 707k/1.09M [00:15<00:13, 30.2kB/s]"
     ]
    },
    {
     "name": "stdout",
     "output_type": "stream",
     "text": [
      "[####################                    ] | 50% Completed |  1min 10.5s"
     ]
    },
    {
     "name": "stderr",
     "output_type": "stream",
     "text": [
      " 65%|██████▍   | 723k/1.09M [00:15<00:12, 33.2kB/s]"
     ]
    },
    {
     "name": "stdout",
     "output_type": "stream",
     "text": [
      "[####################                    ] | 50% Completed |  1min 10.9s"
     ]
    },
    {
     "name": "stderr",
     "output_type": "stream",
     "text": [
      " 65%|██████▌   | 731k/1.09M [00:15<00:13, 29.2kB/s]"
     ]
    },
    {
     "name": "stdout",
     "output_type": "stream",
     "text": [
      "[####################                    ] | 50% Completed |  1min 11.2s"
     ]
    },
    {
     "name": "stderr",
     "output_type": "stream",
     "text": [
      " 67%|██████▋   | 747k/1.09M [00:16<00:10, 35.2kB/s]"
     ]
    },
    {
     "name": "stdout",
     "output_type": "stream",
     "text": [
      "[####################                    ] | 50% Completed |  1min 11.6s"
     ]
    },
    {
     "name": "stderr",
     "output_type": "stream",
     "text": [
      " 68%|██████▊   | 760k/1.09M [00:16<00:10, 34.3kB/s]"
     ]
    },
    {
     "name": "stdout",
     "output_type": "stream",
     "text": [
      "[####################                    ] | 50% Completed |  1min 11.9s"
     ]
    },
    {
     "name": "stderr",
     "output_type": "stream",
     "text": [
      " 69%|██████▉   | 776k/1.09M [00:17<00:08, 39.1kB/s]"
     ]
    },
    {
     "name": "stdout",
     "output_type": "stream",
     "text": [
      "[####################                    ] | 50% Completed |  1min 12.6s"
     ]
    },
    {
     "name": "stderr",
     "output_type": "stream",
     "text": [
      " 71%|███████   | 792k/1.09M [00:17<00:10, 31.7kB/s]"
     ]
    },
    {
     "name": "stdout",
     "output_type": "stream",
     "text": [
      "[####################                    ] | 50% Completed |  1min 13.0s"
     ]
    },
    {
     "name": "stderr",
     "output_type": "stream",
     "text": [
      " 74%|███████▎  | 824k/1.09M [00:18<00:06, 44.8kB/s]"
     ]
    },
    {
     "name": "stdout",
     "output_type": "stream",
     "text": [
      "[####################                    ] | 50% Completed |  1min 13.4s"
     ]
    },
    {
     "name": "stderr",
     "output_type": "stream",
     "text": [
      " 74%|███████▍  | 832k/1.09M [00:18<00:07, 37.8kB/s]"
     ]
    },
    {
     "name": "stdout",
     "output_type": "stream",
     "text": [
      "[####################                    ] | 50% Completed |  1min 13.8s"
     ]
    },
    {
     "name": "stderr",
     "output_type": "stream",
     "text": [
      " 77%|███████▋  | 856k/1.09M [00:18<00:06, 44.3kB/s]"
     ]
    },
    {
     "name": "stdout",
     "output_type": "stream",
     "text": [
      "[####################                    ] | 50% Completed |  1min 14.1s"
     ]
    },
    {
     "name": "stderr",
     "output_type": "stream",
     "text": [
      " 78%|███████▊  | 872k/1.09M [00:19<00:05, 46.8kB/s]"
     ]
    },
    {
     "name": "stdout",
     "output_type": "stream",
     "text": [
      "[####################                    ] | 50% Completed |  1min 14.5s"
     ]
    },
    {
     "name": "stderr",
     "output_type": "stream",
     "text": [
      " 79%|███████▉  | 888k/1.09M [00:19<00:04, 48.2kB/s]"
     ]
    },
    {
     "name": "stdout",
     "output_type": "stream",
     "text": [
      "[####################                    ] | 50% Completed |  1min 14.9s"
     ]
    },
    {
     "name": "stderr",
     "output_type": "stream",
     "text": [
      " 82%|████████▏ | 912k/1.09M [00:19<00:04, 51.7kB/s]"
     ]
    },
    {
     "name": "stdout",
     "output_type": "stream",
     "text": [
      "[####################                    ] | 50% Completed |  1min 15.6s"
     ]
    },
    {
     "name": "stderr",
     "output_type": "stream",
     "text": [
      " 83%|████████▎ | 928k/1.09M [00:20<00:04, 38.9kB/s]"
     ]
    },
    {
     "name": "stdout",
     "output_type": "stream",
     "text": [
      "[####################                    ] | 50% Completed |  1min 16.2s"
     ]
    },
    {
     "name": "stderr",
     "output_type": "stream",
     "text": [
      " 86%|████████▌ | 960k/1.09M [00:21<00:03, 44.0kB/s]"
     ]
    },
    {
     "name": "stdout",
     "output_type": "stream",
     "text": [
      "[####################                    ] | 50% Completed |  1min 16.5s"
     ]
    },
    {
     "name": "stderr",
     "output_type": "stream",
     "text": [
      " 87%|████████▋ | 968k/1.09M [00:21<00:03, 40.6kB/s]"
     ]
    },
    {
     "name": "stdout",
     "output_type": "stream",
     "text": [
      "[####################                    ] | 50% Completed |  1min 17.3s"
     ]
    },
    {
     "name": "stderr",
     "output_type": "stream",
     "text": [
      " 88%|████████▊ | 984k/1.09M [00:22<00:04, 33.4kB/s]"
     ]
    },
    {
     "name": "stdout",
     "output_type": "stream",
     "text": [
      "[####################                    ] | 50% Completed |  1min 17.8s"
     ]
    },
    {
     "name": "stderr",
     "output_type": "stream",
     "text": [
      " 90%|█████████ | 0.98M/1.09M [00:22<00:02, 37.7kB/s]"
     ]
    },
    {
     "name": "stdout",
     "output_type": "stream",
     "text": [
      "[####################                    ] | 50% Completed |  1min 18.1s"
     ]
    },
    {
     "name": "stderr",
     "output_type": "stream",
     "text": [
      " 92%|█████████▏| 1.00M/1.09M [00:23<00:02, 40.2kB/s]"
     ]
    },
    {
     "name": "stdout",
     "output_type": "stream",
     "text": [
      "[####################                    ] | 50% Completed |  1min 18.5s"
     ]
    },
    {
     "name": "stderr",
     "output_type": "stream",
     "text": [
      " 93%|█████████▎| 1.01M/1.09M [00:23<00:02, 40.1kB/s]"
     ]
    },
    {
     "name": "stdout",
     "output_type": "stream",
     "text": [
      "[####################                    ] | 50% Completed |  1min 18.8s"
     ]
    },
    {
     "name": "stderr",
     "output_type": "stream",
     "text": [
      " 94%|█████████▎| 1.02M/1.09M [00:23<00:01, 37.3kB/s]"
     ]
    },
    {
     "name": "stdout",
     "output_type": "stream",
     "text": [
      "[####################                    ] | 50% Completed |  1min 19.1s"
     ]
    },
    {
     "name": "stderr",
     "output_type": "stream",
     "text": [
      " 95%|█████████▌| 1.04M/1.09M [00:24<00:01, 41.6kB/s]"
     ]
    },
    {
     "name": "stdout",
     "output_type": "stream",
     "text": [
      "[####################                    ] | 50% Completed |  1min 19.4s"
     ]
    },
    {
     "name": "stderr",
     "output_type": "stream",
     "text": [
      " 97%|█████████▋| 1.05M/1.09M [00:24<00:00, 44.0kB/s]"
     ]
    },
    {
     "name": "stdout",
     "output_type": "stream",
     "text": [
      "[####################                    ] | 50% Completed |  1min 19.7s"
     ]
    },
    {
     "name": "stderr",
     "output_type": "stream",
     "text": [
      " 98%|█████████▊| 1.07M/1.09M [00:24<00:00, 46.6kB/s]"
     ]
    },
    {
     "name": "stdout",
     "output_type": "stream",
     "text": [
      "[####################                    ] | 50% Completed |  1min 20.1s"
     ]
    },
    {
     "name": "stderr",
     "output_type": "stream",
     "text": [
      " 99%|█████████▉| 1.08M/1.09M [00:25<00:00, 43.4kB/s]"
     ]
    },
    {
     "name": "stdout",
     "output_type": "stream",
     "text": [
      "[####################                    ] | 50% Completed |  1min 20.3s"
     ]
    },
    {
     "name": "stderr",
     "output_type": "stream",
     "text": [
      "2021-11-17 14:26:26,712 INFO Download rate 41.3K/s  \n"
     ]
    },
    {
     "name": "stdout",
     "output_type": "stream",
     "text": [
      "[####################                    ] | 50% Completed |  1min 20.7s\n",
      "/media/nicolasf/END19101/ICU/data/CDS/operational/hindcasts/ECCC_CanCM4i/TPRATE/ensemble_seas_forecasts_tprate_from_1995_10_ECCC.netcdf downloaded OK\n",
      "\n",
      "[########################################] | 100% Completed |  1min 20.8s\n",
      "processing ECCC, path should be /media/nicolasf/END19101/ICU/data/CDS/operational/hindcasts/ECCC_CanCM4i/TPRATE\n",
      "processing ECCC, path should be /media/nicolasf/END19101/ICU/data/CDS/operational/hindcasts/ECCC_GEM_NEMO/TPRATE\n",
      "[                                        ] | 0% Completed |  0.0s\n",
      "/media/nicolasf/END19101/ICU/data/CDS/operational/hindcasts/ECCC_GEM_NEMO/TPRATE/ensemble_seas_forecasts_tprate_from_1996_10_ECCC.netcdf exists already on disk, skipping download and returning path\n",
      "\n",
      "\n",
      "attempting to download tprate for GCM ECCC, for level surface, year 1996, month 10, in netcdf, attempt 1 of 3\n",
      "\n",
      "[####################                    ] | 50% Completed |  0.4s"
     ]
    },
    {
     "name": "stderr",
     "output_type": "stream",
     "text": [
      "2021-11-17 14:26:27,630 INFO Welcome to the CDS\n",
      "2021-11-17 14:26:27,630 INFO Sending request to https://cds.climate.copernicus.eu/api/v2/resources/seasonal-monthly-single-levels\n"
     ]
    },
    {
     "name": "stdout",
     "output_type": "stream",
     "text": [
      "[####################                    ] | 50% Completed |  0.7s"
     ]
    },
    {
     "name": "stderr",
     "output_type": "stream",
     "text": [
      "2021-11-17 14:26:27,939 INFO Request is queued\n"
     ]
    },
    {
     "name": "stdout",
     "output_type": "stream",
     "text": [
      "[####################                    ] | 50% Completed | 53.1s"
     ]
    },
    {
     "name": "stderr",
     "output_type": "stream",
     "text": [
      "2021-11-17 14:27:20,363 INFO Request is running\n"
     ]
    },
    {
     "name": "stdout",
     "output_type": "stream",
     "text": [
      "[####################                    ] | 50% Completed |  1min 19.1s"
     ]
    },
    {
     "name": "stderr",
     "output_type": "stream",
     "text": [
      "2021-11-17 14:27:46,368 INFO Request is completed\n",
      "2021-11-17 14:27:46,369 INFO Downloading https://download-0008.copernicus-climate.eu/cache-compute-0008/cache/data3/adaptor.mars.external-1637112461.0187488-19843-2-c751da72-a353-42e9-b57c-6f627252191f.nc to /media/nicolasf/END19101/ICU/data/CDS/operational/hindcasts/ECCC_CanCM4i/TPRATE/ensemble_seas_forecasts_tprate_from_1996_10_ECCC.netcdf (1.1M)\n"
     ]
    },
    {
     "name": "stdout",
     "output_type": "stream",
     "text": [
      "[####################                    ] | 50% Completed |  1min 22.4s"
     ]
    },
    {
     "name": "stderr",
     "output_type": "stream",
     "text": [
      "  0%|          | 0.00/1.09M [00:00<?, ?B/s]"
     ]
    },
    {
     "name": "stdout",
     "output_type": "stream",
     "text": [
      "[####################                    ] | 50% Completed |  1min 22.7s"
     ]
    },
    {
     "name": "stderr",
     "output_type": "stream",
     "text": [
      "  1%|          | 8.00k/1.09M [00:00<00:42, 26.7kB/s]"
     ]
    },
    {
     "name": "stdout",
     "output_type": "stream",
     "text": [
      "[####################                    ] | 50% Completed |  1min 23.1s"
     ]
    },
    {
     "name": "stderr",
     "output_type": "stream",
     "text": [
      "  2%|▏         | 24.0k/1.09M [00:00<00:31, 35.7kB/s]"
     ]
    },
    {
     "name": "stdout",
     "output_type": "stream",
     "text": [
      "[####################                    ] | 50% Completed |  1min 23.5s"
     ]
    },
    {
     "name": "stderr",
     "output_type": "stream",
     "text": [
      "  4%|▎         | 40.0k/1.09M [00:01<00:29, 37.8kB/s]"
     ]
    },
    {
     "name": "stdout",
     "output_type": "stream",
     "text": [
      "[####################                    ] | 50% Completed |  1min 23.9s"
     ]
    },
    {
     "name": "stderr",
     "output_type": "stream",
     "text": [
      "  6%|▌         | 64.0k/1.09M [00:01<00:22, 47.0kB/s]"
     ]
    },
    {
     "name": "stdout",
     "output_type": "stream",
     "text": [
      "[####################                    ] | 50% Completed |  1min 24.3s"
     ]
    },
    {
     "name": "stderr",
     "output_type": "stream",
     "text": [
      "  7%|▋         | 80.0k/1.09M [00:01<00:23, 44.5kB/s]"
     ]
    },
    {
     "name": "stdout",
     "output_type": "stream",
     "text": [
      "[####################                    ] | 50% Completed |  1min 24.6s"
     ]
    },
    {
     "name": "stderr",
     "output_type": "stream",
     "text": [
      "  9%|▉         | 104k/1.09M [00:02<00:18, 55.4kB/s] "
     ]
    },
    {
     "name": "stdout",
     "output_type": "stream",
     "text": [
      "[####################                    ] | 50% Completed |  1min 24.9s"
     ]
    },
    {
     "name": "stderr",
     "output_type": "stream",
     "text": [
      " 11%|█▏        | 128k/1.09M [00:02<00:16, 63.2kB/s]"
     ]
    },
    {
     "name": "stdout",
     "output_type": "stream",
     "text": [
      "[####################                    ] | 50% Completed |  1min 25.3s"
     ]
    },
    {
     "name": "stderr",
     "output_type": "stream",
     "text": [
      " 13%|█▎        | 144k/1.09M [00:02<00:18, 53.5kB/s]"
     ]
    },
    {
     "name": "stdout",
     "output_type": "stream",
     "text": [
      "[####################                    ] | 50% Completed |  1min 25.6s"
     ]
    },
    {
     "name": "stderr",
     "output_type": "stream",
     "text": [
      " 15%|█▍        | 165k/1.09M [00:03<00:16, 58.9kB/s]"
     ]
    },
    {
     "name": "stdout",
     "output_type": "stream",
     "text": [
      "[####################                    ] | 50% Completed |  1min 25.9s"
     ]
    },
    {
     "name": "stderr",
     "output_type": "stream",
     "text": [
      " 17%|█▋        | 192k/1.09M [00:03<00:13, 68.7kB/s]"
     ]
    },
    {
     "name": "stdout",
     "output_type": "stream",
     "text": [
      "[####################                    ] | 50% Completed |  1min 26.3s"
     ]
    },
    {
     "name": "stderr",
     "output_type": "stream",
     "text": [
      " 19%|█▊        | 208k/1.09M [00:03<00:16, 56.9kB/s]"
     ]
    },
    {
     "name": "stdout",
     "output_type": "stream",
     "text": [
      "[####################                    ] | 50% Completed |  1min 26.8s"
     ]
    },
    {
     "name": "stderr",
     "output_type": "stream",
     "text": [
      " 20%|██        | 227k/1.09M [00:04<00:16, 53.9kB/s]"
     ]
    },
    {
     "name": "stdout",
     "output_type": "stream",
     "text": [
      "[####################                    ] | 50% Completed |  1min 27.1s"
     ]
    },
    {
     "name": "stderr",
     "output_type": "stream",
     "text": [
      " 23%|██▎       | 254k/1.09M [00:04<00:13, 63.3kB/s]"
     ]
    },
    {
     "name": "stdout",
     "output_type": "stream",
     "text": [
      "[####################                    ] | 50% Completed |  1min 27.5s"
     ]
    },
    {
     "name": "stderr",
     "output_type": "stream",
     "text": [
      " 25%|██▍       | 278k/1.09M [00:05<00:13, 62.2kB/s]"
     ]
    },
    {
     "name": "stdout",
     "output_type": "stream",
     "text": [
      "[####################                    ] | 50% Completed |  1min 27.8s"
     ]
    },
    {
     "name": "stderr",
     "output_type": "stream",
     "text": [
      " 27%|██▋       | 302k/1.09M [00:05<00:12, 67.8kB/s]"
     ]
    },
    {
     "name": "stdout",
     "output_type": "stream",
     "text": [
      "[####################                    ] | 50% Completed |  1min 28.1s"
     ]
    },
    {
     "name": "stderr",
     "output_type": "stream",
     "text": [
      " 30%|██▉       | 334k/1.09M [00:05<00:10, 77.4kB/s]"
     ]
    },
    {
     "name": "stdout",
     "output_type": "stream",
     "text": [
      "[####################                    ] | 50% Completed |  1min 28.7s"
     ]
    },
    {
     "name": "stderr",
     "output_type": "stream",
     "text": [
      " 33%|███▎      | 366k/1.09M [00:06<00:11, 66.9kB/s]"
     ]
    },
    {
     "name": "stdout",
     "output_type": "stream",
     "text": [
      "[####################                    ] | 50% Completed |  1min 29.2s"
     ]
    },
    {
     "name": "stderr",
     "output_type": "stream",
     "text": [
      " 36%|███▌      | 398k/1.09M [00:06<00:10, 70.7kB/s]"
     ]
    },
    {
     "name": "stdout",
     "output_type": "stream",
     "text": [
      "[####################                    ] | 50% Completed |  1min 29.6s"
     ]
    },
    {
     "name": "stderr",
     "output_type": "stream",
     "text": [
      " 38%|███▊      | 430k/1.09M [00:07<00:09, 73.4kB/s]"
     ]
    },
    {
     "name": "stdout",
     "output_type": "stream",
     "text": [
      "[####################                    ] | 50% Completed |  1min 30.0s"
     ]
    },
    {
     "name": "stderr",
     "output_type": "stream",
     "text": [
      " 42%|████▏     | 470k/1.09M [00:07<00:08, 81.3kB/s]"
     ]
    },
    {
     "name": "stdout",
     "output_type": "stream",
     "text": [
      "[####################                    ] | 50% Completed |  1min 30.5s"
     ]
    },
    {
     "name": "stderr",
     "output_type": "stream",
     "text": [
      " 45%|████▌     | 507k/1.09M [00:08<00:07, 78.8kB/s]"
     ]
    },
    {
     "name": "stdout",
     "output_type": "stream",
     "text": [
      "[####################                    ] | 50% Completed |  1min 30.9s"
     ]
    },
    {
     "name": "stderr",
     "output_type": "stream",
     "text": [
      " 49%|████▉     | 547k/1.09M [00:08<00:06, 87.0kB/s]"
     ]
    },
    {
     "name": "stdout",
     "output_type": "stream",
     "text": [
      "[####################                    ] | 50% Completed |  1min 31.3s"
     ]
    },
    {
     "name": "stderr",
     "output_type": "stream",
     "text": [
      " 53%|█████▎    | 587k/1.09M [00:08<00:06, 88.5kB/s]"
     ]
    },
    {
     "name": "stdout",
     "output_type": "stream",
     "text": [
      "[####################                    ] | 50% Completed |  1min 31.7s"
     ]
    },
    {
     "name": "stderr",
     "output_type": "stream",
     "text": [
      " 56%|█████▌    | 627k/1.09M [00:09<00:05, 95.7kB/s]"
     ]
    },
    {
     "name": "stdout",
     "output_type": "stream",
     "text": [
      "[####################                    ] | 50% Completed |  1min 32.0s"
     ]
    },
    {
     "name": "stderr",
     "output_type": "stream",
     "text": [
      " 60%|█████▉    | 667k/1.09M [00:09<00:04, 101kB/s] "
     ]
    },
    {
     "name": "stdout",
     "output_type": "stream",
     "text": [
      "[####################                    ] | 50% Completed |  1min 32.4s"
     ]
    },
    {
     "name": "stderr",
     "output_type": "stream",
     "text": [
      " 64%|██████▍   | 715k/1.09M [00:09<00:03, 110kB/s]"
     ]
    },
    {
     "name": "stdout",
     "output_type": "stream",
     "text": [
      "[####################                    ] | 50% Completed |  1min 32.9s"
     ]
    },
    {
     "name": "stderr",
     "output_type": "stream",
     "text": [
      " 69%|██████▊   | 768k/1.09M [00:10<00:03, 113kB/s]"
     ]
    },
    {
     "name": "stdout",
     "output_type": "stream",
     "text": [
      "[####################                    ] | 50% Completed |  1min 33.3s"
     ]
    },
    {
     "name": "stderr",
     "output_type": "stream",
     "text": [
      " 74%|███████▎  | 824k/1.09M [00:10<00:02, 122kB/s]"
     ]
    },
    {
     "name": "stdout",
     "output_type": "stream",
     "text": [
      "[####################                    ] | 50% Completed |  1min 34.0s"
     ]
    },
    {
     "name": "stderr",
     "output_type": "stream",
     "text": [
      " 79%|███████▉  | 888k/1.09M [00:11<00:02, 110kB/s]"
     ]
    },
    {
     "name": "stdout",
     "output_type": "stream",
     "text": [
      "[####################                    ] | 50% Completed |  1min 34.2s"
     ]
    },
    {
     "name": "stderr",
     "output_type": "stream",
     "text": [
      " 84%|████████▍ | 944k/1.09M [00:11<00:01, 127kB/s]"
     ]
    },
    {
     "name": "stdout",
     "output_type": "stream",
     "text": [
      "[####################                    ] | 50% Completed |  1min 34.6s"
     ]
    },
    {
     "name": "stderr",
     "output_type": "stream",
     "text": [
      " 92%|█████████▏| 1.01M/1.09M [00:12<00:00, 161kB/s]"
     ]
    },
    {
     "name": "stdout",
     "output_type": "stream",
     "text": [
      "[####################                    ] | 50% Completed |  1min 35.3s"
     ]
    },
    {
     "name": "stderr",
     "output_type": "stream",
     "text": [
      " 97%|█████████▋| 1.05M/1.09M [00:12<00:00, 121kB/s]"
     ]
    },
    {
     "name": "stdout",
     "output_type": "stream",
     "text": [
      "[####################                    ] | 50% Completed |  1min 35.4s"
     ]
    },
    {
     "name": "stderr",
     "output_type": "stream",
     "text": [
      "2021-11-17 14:28:02,656 INFO Download rate 68.6K/s \n"
     ]
    },
    {
     "name": "stdout",
     "output_type": "stream",
     "text": [
      "[####################                    ] | 50% Completed |  1min 35.7s\n",
      "/media/nicolasf/END19101/ICU/data/CDS/operational/hindcasts/ECCC_CanCM4i/TPRATE/ensemble_seas_forecasts_tprate_from_1996_10_ECCC.netcdf downloaded OK\n",
      "\n",
      "[########################################] | 100% Completed |  1min 35.8s\n",
      "processing ECCC, path should be /media/nicolasf/END19101/ICU/data/CDS/operational/hindcasts/ECCC_CanCM4i/TPRATE\n",
      "processing ECCC, path should be /media/nicolasf/END19101/ICU/data/CDS/operational/hindcasts/ECCC_GEM_NEMO/TPRATE\n",
      "[                                        ] | 0% Completed |  0.0s\n",
      "attempting to download tprate for GCM ECCC, for level surface, year 1997, month 10, in netcdf, attempt 1 of 3\n",
      "\n",
      "\n",
      "/media/nicolasf/END19101/ICU/data/CDS/operational/hindcasts/ECCC_GEM_NEMO/TPRATE/ensemble_seas_forecasts_tprate_from_1997_10_ECCC.netcdf exists already on disk, skipping download and returning path\n",
      "\n",
      "[####################                    ] | 50% Completed |  0.3s"
     ]
    },
    {
     "name": "stderr",
     "output_type": "stream",
     "text": [
      "2021-11-17 14:28:03,367 INFO Welcome to the CDS\n",
      "2021-11-17 14:28:03,368 INFO Sending request to https://cds.climate.copernicus.eu/api/v2/resources/seasonal-monthly-single-levels\n"
     ]
    },
    {
     "name": "stdout",
     "output_type": "stream",
     "text": [
      "[####################                    ] | 50% Completed |  0.6s"
     ]
    },
    {
     "name": "stderr",
     "output_type": "stream",
     "text": [
      "2021-11-17 14:28:03,689 INFO Request is queued\n"
     ]
    },
    {
     "name": "stdout",
     "output_type": "stream",
     "text": [
      "[####################                    ] | 50% Completed |  4min 24.1s"
     ]
    },
    {
     "name": "stderr",
     "output_type": "stream",
     "text": [
      "2021-11-17 14:32:27,145 INFO Request is completed\n",
      "2021-11-17 14:32:27,145 INFO Downloading https://download-0010.copernicus-climate.eu/cache-compute-0010/cache/data5/adaptor.mars.external-1637112694.851153-2288-10-1f773740-a6ea-49b7-8b20-53deb7407fd3.nc to /media/nicolasf/END19101/ICU/data/CDS/operational/hindcasts/ECCC_CanCM4i/TPRATE/ensemble_seas_forecasts_tprate_from_1997_10_ECCC.netcdf (1.1M)\n"
     ]
    },
    {
     "name": "stdout",
     "output_type": "stream",
     "text": [
      "[####################                    ] | 50% Completed |  4min 26.1s"
     ]
    },
    {
     "name": "stderr",
     "output_type": "stream",
     "text": [
      "  0%|          | 0.00/1.09M [00:00<?, ?B/s]"
     ]
    },
    {
     "name": "stdout",
     "output_type": "stream",
     "text": [
      "[####################                    ] | 50% Completed |  4min 26.5s"
     ]
    },
    {
     "name": "stderr",
     "output_type": "stream",
     "text": [
      "  1%|▏         | 16.0k/1.09M [00:00<00:22, 50.5kB/s]"
     ]
    },
    {
     "name": "stdout",
     "output_type": "stream",
     "text": [
      "[####################                    ] | 50% Completed |  4min 26.9s"
     ]
    },
    {
     "name": "stderr",
     "output_type": "stream",
     "text": [
      "  4%|▍         | 50.0k/1.09M [00:00<00:14, 73.2kB/s]"
     ]
    },
    {
     "name": "stdout",
     "output_type": "stream",
     "text": [
      "[####################                    ] | 50% Completed |  4min 27.3s"
     ]
    },
    {
     "name": "stderr",
     "output_type": "stream",
     "text": [
      "  9%|▉         | 106k/1.09M [00:01<00:09, 105kB/s]  "
     ]
    },
    {
     "name": "stdout",
     "output_type": "stream",
     "text": [
      "[####################                    ] | 50% Completed |  4min 27.7s"
     ]
    },
    {
     "name": "stderr",
     "output_type": "stream",
     "text": [
      " 14%|█▍        | 162k/1.09M [00:01<00:08, 120kB/s]"
     ]
    },
    {
     "name": "stdout",
     "output_type": "stream",
     "text": [
      "[####################                    ] | 50% Completed |  4min 28.1s"
     ]
    },
    {
     "name": "stderr",
     "output_type": "stream",
     "text": [
      " 19%|█▉        | 210k/1.09M [00:01<00:07, 120kB/s]"
     ]
    },
    {
     "name": "stdout",
     "output_type": "stream",
     "text": [
      "[####################                    ] | 50% Completed |  4min 28.5s"
     ]
    },
    {
     "name": "stderr",
     "output_type": "stream",
     "text": [
      " 24%|██▍       | 270k/1.09M [00:02<00:06, 130kB/s]"
     ]
    },
    {
     "name": "stdout",
     "output_type": "stream",
     "text": [
      "[####################                    ] | 50% Completed |  4min 28.9s"
     ]
    },
    {
     "name": "stderr",
     "output_type": "stream",
     "text": [
      " 29%|██▉       | 326k/1.09M [00:02<00:06, 133kB/s]"
     ]
    },
    {
     "name": "stdout",
     "output_type": "stream",
     "text": [
      "[####################                    ] | 50% Completed |  4min 29.2s"
     ]
    },
    {
     "name": "stderr",
     "output_type": "stream",
     "text": [
      " 34%|███▍      | 382k/1.09M [00:03<00:05, 149kB/s]"
     ]
    },
    {
     "name": "stdout",
     "output_type": "stream",
     "text": [
      "[####################                    ] | 50% Completed |  4min 29.5s"
     ]
    },
    {
     "name": "stderr",
     "output_type": "stream",
     "text": [
      " 39%|███▉      | 438k/1.09M [00:03<00:04, 157kB/s]"
     ]
    },
    {
     "name": "stdout",
     "output_type": "stream",
     "text": [
      "[####################                    ] | 50% Completed |  4min 30.2s"
     ]
    },
    {
     "name": "stderr",
     "output_type": "stream",
     "text": [
      " 44%|████▍     | 494k/1.09M [00:04<00:05, 122kB/s]"
     ]
    },
    {
     "name": "stdout",
     "output_type": "stream",
     "text": [
      "[####################                    ] | 50% Completed |  4min 30.5s"
     ]
    },
    {
     "name": "stderr",
     "output_type": "stream",
     "text": [
      " 50%|█████     | 563k/1.09M [00:04<00:03, 147kB/s]"
     ]
    },
    {
     "name": "stdout",
     "output_type": "stream",
     "text": [
      "[####################                    ] | 50% Completed |  4min 30.8s"
     ]
    },
    {
     "name": "stderr",
     "output_type": "stream",
     "text": [
      " 58%|█████▊    | 646k/1.09M [00:04<00:02, 181kB/s]"
     ]
    },
    {
     "name": "stdout",
     "output_type": "stream",
     "text": [
      "[####################                    ] | 50% Completed |  4min 31.1s"
     ]
    },
    {
     "name": "stderr",
     "output_type": "stream",
     "text": [
      " 63%|██████▎   | 702k/1.09M [00:05<00:02, 181kB/s]"
     ]
    },
    {
     "name": "stdout",
     "output_type": "stream",
     "text": [
      "[####################                    ] | 50% Completed |  4min 31.4s"
     ]
    },
    {
     "name": "stderr",
     "output_type": "stream",
     "text": [
      " 68%|██████▊   | 758k/1.09M [00:05<00:01, 184kB/s]"
     ]
    },
    {
     "name": "stdout",
     "output_type": "stream",
     "text": [
      "[####################                    ] | 50% Completed |  4min 31.7s"
     ]
    },
    {
     "name": "stderr",
     "output_type": "stream",
     "text": [
      " 73%|███████▎  | 816k/1.09M [00:05<00:01, 181kB/s]"
     ]
    },
    {
     "name": "stdout",
     "output_type": "stream",
     "text": [
      "[####################                    ] | 50% Completed |  4min 32.6s"
     ]
    },
    {
     "name": "stderr",
     "output_type": "stream",
     "text": [
      " 79%|███████▉  | 880k/1.09M [00:06<00:01, 129kB/s]"
     ]
    },
    {
     "name": "stdout",
     "output_type": "stream",
     "text": [
      "[####################                    ] | 50% Completed |  4min 33.0s"
     ]
    },
    {
     "name": "stderr",
     "output_type": "stream",
     "text": [
      " 84%|████████▍ | 936k/1.09M [00:06<00:01, 133kB/s]"
     ]
    },
    {
     "name": "stdout",
     "output_type": "stream",
     "text": [
      "[####################                    ] | 50% Completed |  4min 33.4s"
     ]
    },
    {
     "name": "stderr",
     "output_type": "stream",
     "text": [
      " 92%|█████████▏| 1.00M/1.09M [00:07<00:00, 156kB/s]"
     ]
    },
    {
     "name": "stdout",
     "output_type": "stream",
     "text": [
      "[####################                    ] | 50% Completed |  4min 33.8s"
     ]
    },
    {
     "name": "stderr",
     "output_type": "stream",
     "text": [
      " 96%|█████████▌| 1.05M/1.09M [00:07<00:00, 146kB/s]"
     ]
    },
    {
     "name": "stdout",
     "output_type": "stream",
     "text": [
      "[####################                    ] | 50% Completed |  4min 33.9s"
     ]
    },
    {
     "name": "stderr",
     "output_type": "stream",
     "text": [
      "2021-11-17 14:32:36,972 INFO Download rate 113.7K/s\n"
     ]
    },
    {
     "name": "stdout",
     "output_type": "stream",
     "text": [
      "[####################                    ] | 50% Completed |  4min 34.3s\n",
      "/media/nicolasf/END19101/ICU/data/CDS/operational/hindcasts/ECCC_CanCM4i/TPRATE/ensemble_seas_forecasts_tprate_from_1997_10_ECCC.netcdf downloaded OK\n",
      "\n",
      "[########################################] | 100% Completed |  4min 34.4s\n",
      "processing ECCC, path should be /media/nicolasf/END19101/ICU/data/CDS/operational/hindcasts/ECCC_CanCM4i/TPRATE\n",
      "processing ECCC, path should be /media/nicolasf/END19101/ICU/data/CDS/operational/hindcasts/ECCC_GEM_NEMO/TPRATE\n",
      "[                                        ] | 0% Completed |  0.0s\n",
      "attempting to download tprate for GCM ECCC, for level surface, year 1998, month 10, in netcdf, attempt 1 of 3\n",
      "\n",
      "/media/nicolasf/END19101/ICU/data/CDS/operational/hindcasts/ECCC_GEM_NEMO/TPRATE/ensemble_seas_forecasts_tprate_from_1998_10_ECCC.netcdf exists already on disk, skipping download and returning path\n",
      "\n",
      "\n",
      "[####################                    ] | 50% Completed |  0.4s"
     ]
    },
    {
     "name": "stderr",
     "output_type": "stream",
     "text": [
      "2021-11-17 14:32:37,892 INFO Welcome to the CDS\n",
      "2021-11-17 14:32:37,892 INFO Sending request to https://cds.climate.copernicus.eu/api/v2/resources/seasonal-monthly-single-levels\n"
     ]
    },
    {
     "name": "stdout",
     "output_type": "stream",
     "text": [
      "[####################                    ] | 50% Completed |  0.8s"
     ]
    },
    {
     "name": "stderr",
     "output_type": "stream",
     "text": [
      "2021-11-17 14:32:38,301 INFO Request is queued\n"
     ]
    },
    {
     "name": "stdout",
     "output_type": "stream",
     "text": [
      "[####################                    ] | 50% Completed | 53.0s"
     ]
    },
    {
     "name": "stderr",
     "output_type": "stream",
     "text": [
      "2021-11-17 14:33:30,421 INFO Request is running\n"
     ]
    },
    {
     "name": "stdout",
     "output_type": "stream",
     "text": [
      "[####################                    ] | 50% Completed |  1min 18.9s"
     ]
    },
    {
     "name": "stderr",
     "output_type": "stream",
     "text": [
      "2021-11-17 14:33:56,431 INFO Request is completed\n",
      "2021-11-17 14:33:56,431 INFO Downloading https://download-0012.copernicus-climate.eu/cache-compute-0012/cache/data0/adaptor.mars.external-1637112815.986332-14558-1-6bcd3b99-e0f6-4762-a0b4-c75c254f6e94.nc to /media/nicolasf/END19101/ICU/data/CDS/operational/hindcasts/ECCC_CanCM4i/TPRATE/ensemble_seas_forecasts_tprate_from_1998_10_ECCC.netcdf (1.1M)\n"
     ]
    },
    {
     "name": "stdout",
     "output_type": "stream",
     "text": [
      "[####################                    ] | 50% Completed |  1min 20.6s"
     ]
    },
    {
     "name": "stderr",
     "output_type": "stream",
     "text": [
      "  0%|          | 0.00/1.09M [00:00<?, ?B/s]"
     ]
    },
    {
     "name": "stdout",
     "output_type": "stream",
     "text": [
      "[####################                    ] | 50% Completed |  1min 20.9s"
     ]
    },
    {
     "name": "stderr",
     "output_type": "stream",
     "text": [
      "  1%|▏         | 16.0k/1.09M [00:00<00:20, 56.0kB/s]"
     ]
    },
    {
     "name": "stdout",
     "output_type": "stream",
     "text": [
      "[####################                    ] | 50% Completed |  1min 21.1s"
     ]
    },
    {
     "name": "stderr",
     "output_type": "stream",
     "text": [
      "  5%|▌         | 56.0k/1.09M [00:00<00:10, 105kB/s] "
     ]
    },
    {
     "name": "stdout",
     "output_type": "stream",
     "text": [
      "[####################                    ] | 50% Completed |  1min 21.4s"
     ]
    },
    {
     "name": "stderr",
     "output_type": "stream",
     "text": [
      " 13%|█▎        | 143k/1.09M [00:00<00:05, 196kB/s] "
     ]
    },
    {
     "name": "stdout",
     "output_type": "stream",
     "text": [
      "[####################                    ] | 50% Completed |  1min 21.9s"
     ]
    },
    {
     "name": "stderr",
     "output_type": "stream",
     "text": [
      " 28%|██▊       | 310k/1.09M [00:01<00:02, 338kB/s]"
     ]
    },
    {
     "name": "stdout",
     "output_type": "stream",
     "text": [
      "[####################                    ] | 50% Completed |  1min 22.4s"
     ]
    },
    {
     "name": "stderr",
     "output_type": "stream",
     "text": [
      " 33%|███▎      | 366k/1.09M [00:01<00:03, 226kB/s]"
     ]
    },
    {
     "name": "stdout",
     "output_type": "stream",
     "text": [
      "[####################                    ] | 50% Completed |  1min 22.8s"
     ]
    },
    {
     "name": "stderr",
     "output_type": "stream",
     "text": [
      " 57%|█████▋    | 635k/1.09M [00:02<00:01, 388kB/s]"
     ]
    },
    {
     "name": "stdout",
     "output_type": "stream",
     "text": [
      "[####################                    ] | 50% Completed |  1min 23.2s"
     ]
    },
    {
     "name": "stderr",
     "output_type": "stream",
     "text": [
      " 63%|██████▎   | 707k/1.09M [00:02<00:01, 318kB/s]"
     ]
    },
    {
     "name": "stdout",
     "output_type": "stream",
     "text": [
      "[####################                    ] | 50% Completed |  1min 24.9s"
     ]
    },
    {
     "name": "stderr",
     "output_type": "stream",
     "text": [
      " 74%|███████▍  | 832k/1.09M [00:04<00:01, 154kB/s]"
     ]
    },
    {
     "name": "stdout",
     "output_type": "stream",
     "text": [
      "[####################                    ] | 50% Completed |  1min 25.5s"
     ]
    },
    {
     "name": "stderr",
     "output_type": "stream",
     "text": [
      " 77%|███████▋  | 857k/1.09M [00:04<00:02, 126kB/s]"
     ]
    },
    {
     "name": "stdout",
     "output_type": "stream",
     "text": [
      "[####################                    ] | 50% Completed |  1min 25.8s"
     ]
    },
    {
     "name": "stderr",
     "output_type": "stream",
     "text": [
      " 83%|████████▎ | 928k/1.09M [00:05<00:01, 142kB/s]"
     ]
    },
    {
     "name": "stdout",
     "output_type": "stream",
     "text": [
      "[####################                    ] | 50% Completed |  1min 25.9s"
     ]
    },
    {
     "name": "stderr",
     "output_type": "stream",
     "text": [
      "2021-11-17 14:34:03,396 INFO Download rate 160.4K/s\n"
     ]
    },
    {
     "name": "stdout",
     "output_type": "stream",
     "text": [
      "[####################                    ] | 50% Completed |  1min 26.3s\n",
      "/media/nicolasf/END19101/ICU/data/CDS/operational/hindcasts/ECCC_CanCM4i/TPRATE/ensemble_seas_forecasts_tprate_from_1998_10_ECCC.netcdf downloaded OK\n",
      "\n",
      "[########################################] | 100% Completed |  1min 26.4s\n",
      "processing ECCC, path should be /media/nicolasf/END19101/ICU/data/CDS/operational/hindcasts/ECCC_CanCM4i/TPRATE\n",
      "processing ECCC, path should be /media/nicolasf/END19101/ICU/data/CDS/operational/hindcasts/ECCC_GEM_NEMO/TPRATE\n",
      "[                                        ] | 0% Completed |  0.0s\n",
      "attempting to download tprate for GCM ECCC, for level surface, year 1999, month 10, in netcdf, attempt 1 of 3\n",
      "\n",
      "/media/nicolasf/END19101/ICU/data/CDS/operational/hindcasts/ECCC_GEM_NEMO/TPRATE/ensemble_seas_forecasts_tprate_from_1999_10_ECCC.netcdf exists already on disk, skipping download and returning path\n",
      "\n",
      "\n",
      "[####################                    ] | 50% Completed |  0.3s"
     ]
    },
    {
     "name": "stderr",
     "output_type": "stream",
     "text": [
      "2021-11-17 14:34:04,213 INFO Welcome to the CDS\n",
      "2021-11-17 14:34:04,213 INFO Sending request to https://cds.climate.copernicus.eu/api/v2/resources/seasonal-monthly-single-levels\n"
     ]
    },
    {
     "name": "stdout",
     "output_type": "stream",
     "text": [
      "[####################                    ] | 50% Completed |  0.7s"
     ]
    },
    {
     "name": "stderr",
     "output_type": "stream",
     "text": [
      "2021-11-17 14:34:04,622 INFO Request is queued\n"
     ]
    },
    {
     "name": "stdout",
     "output_type": "stream",
     "text": [
      "[####################                    ] | 50% Completed | 23.7s"
     ]
    },
    {
     "name": "stderr",
     "output_type": "stream",
     "text": [
      "2021-11-17 14:34:27,574 INFO Request is running\n"
     ]
    },
    {
     "name": "stdout",
     "output_type": "stream",
     "text": [
      "[####################                    ] | 50% Completed | 52.9s"
     ]
    },
    {
     "name": "stderr",
     "output_type": "stream",
     "text": [
      "2021-11-17 14:34:56,725 INFO Request is completed\n",
      "2021-11-17 14:34:56,726 INFO Downloading https://download-0006.copernicus-climate.eu/cache-compute-0006/cache/data9/adaptor.mars.external-1637112885.0394797-32550-3-c1ba1b4d-7f9b-4ba2-935a-6586db19b690.nc to /media/nicolasf/END19101/ICU/data/CDS/operational/hindcasts/ECCC_CanCM4i/TPRATE/ensemble_seas_forecasts_tprate_from_1999_10_ECCC.netcdf (1.1M)\n"
     ]
    },
    {
     "name": "stdout",
     "output_type": "stream",
     "text": [
      "[####################                    ] | 50% Completed | 54.6s"
     ]
    },
    {
     "name": "stderr",
     "output_type": "stream",
     "text": [
      "  0%|          | 0.00/1.09M [00:00<?, ?B/s]"
     ]
    },
    {
     "name": "stdout",
     "output_type": "stream",
     "text": [
      "[####################                    ] | 50% Completed | 54.9s"
     ]
    },
    {
     "name": "stderr",
     "output_type": "stream",
     "text": [
      "  1%|▏         | 16.0k/1.09M [00:00<00:22, 50.4kB/s]"
     ]
    },
    {
     "name": "stdout",
     "output_type": "stream",
     "text": [
      "[####################                    ] | 50% Completed | 55.2s"
     ]
    },
    {
     "name": "stderr",
     "output_type": "stream",
     "text": [
      "  5%|▌         | 58.0k/1.09M [00:00<00:10, 105kB/s] "
     ]
    },
    {
     "name": "stdout",
     "output_type": "stream",
     "text": [
      "[####################                    ] | 50% Completed | 55.7s"
     ]
    },
    {
     "name": "stderr",
     "output_type": "stream",
     "text": [
      " 10%|█         | 114k/1.09M [00:01<00:08, 118kB/s] "
     ]
    },
    {
     "name": "stdout",
     "output_type": "stream",
     "text": [
      "[####################                    ] | 50% Completed | 56.3s"
     ]
    },
    {
     "name": "stderr",
     "output_type": "stream",
     "text": [
      " 15%|█▌        | 170k/1.09M [00:01<00:09, 106kB/s]"
     ]
    },
    {
     "name": "stdout",
     "output_type": "stream",
     "text": [
      "[####################                    ] | 50% Completed | 56.6s"
     ]
    },
    {
     "name": "stderr",
     "output_type": "stream",
     "text": [
      " 24%|██▍       | 270k/1.09M [00:01<00:05, 168kB/s]"
     ]
    },
    {
     "name": "stdout",
     "output_type": "stream",
     "text": [
      "[####################                    ] | 50% Completed | 57.0s"
     ]
    },
    {
     "name": "stderr",
     "output_type": "stream",
     "text": [
      " 28%|██▊       | 318k/1.09M [00:02<00:05, 152kB/s]"
     ]
    },
    {
     "name": "stdout",
     "output_type": "stream",
     "text": [
      "[####################                    ] | 50% Completed | 57.4s"
     ]
    },
    {
     "name": "stderr",
     "output_type": "stream",
     "text": [
      " 33%|███▎      | 366k/1.09M [00:02<00:05, 141kB/s]"
     ]
    },
    {
     "name": "stdout",
     "output_type": "stream",
     "text": [
      "[####################                    ] | 50% Completed | 57.8s"
     ]
    },
    {
     "name": "stderr",
     "output_type": "stream",
     "text": [
      " 38%|███▊      | 422k/1.09M [00:03<00:05, 141kB/s]"
     ]
    },
    {
     "name": "stdout",
     "output_type": "stream",
     "text": [
      "[####################                    ] | 50% Completed | 58.2s"
     ]
    },
    {
     "name": "stderr",
     "output_type": "stream",
     "text": [
      " 43%|████▎     | 478k/1.09M [00:03<00:04, 141kB/s]"
     ]
    },
    {
     "name": "stdout",
     "output_type": "stream",
     "text": [
      "[####################                    ] | 50% Completed | 58.9s"
     ]
    },
    {
     "name": "stderr",
     "output_type": "stream",
     "text": [
      " 48%|████▊     | 539k/1.09M [00:04<00:05, 117kB/s]"
     ]
    },
    {
     "name": "stdout",
     "output_type": "stream",
     "text": [
      "[####################                    ] | 50% Completed | 59.2s"
     ]
    },
    {
     "name": "stderr",
     "output_type": "stream",
     "text": [
      " 57%|█████▋    | 635k/1.09M [00:04<00:03, 162kB/s]"
     ]
    },
    {
     "name": "stdout",
     "output_type": "stream",
     "text": [
      "[####################                    ] | 50% Completed | 59.5s"
     ]
    },
    {
     "name": "stderr",
     "output_type": "stream",
     "text": [
      " 61%|██████    | 683k/1.09M [00:04<00:02, 163kB/s]"
     ]
    },
    {
     "name": "stdout",
     "output_type": "stream",
     "text": [
      "[####################                    ] | 50% Completed | 59.9s"
     ]
    },
    {
     "name": "stderr",
     "output_type": "stream",
     "text": [
      " 65%|██████▌   | 731k/1.09M [00:05<00:02, 147kB/s]"
     ]
    },
    {
     "name": "stdout",
     "output_type": "stream",
     "text": [
      "[####################                    ] | 50% Completed |  1min  0.2s"
     ]
    },
    {
     "name": "stderr",
     "output_type": "stream",
     "text": [
      " 69%|██████▉   | 776k/1.09M [00:05<00:02, 148kB/s]"
     ]
    },
    {
     "name": "stdout",
     "output_type": "stream",
     "text": [
      "[####################                    ] | 50% Completed |  1min  0.7s"
     ]
    },
    {
     "name": "stderr",
     "output_type": "stream",
     "text": [
      " 74%|███████▎  | 824k/1.09M [00:06<00:02, 128kB/s]"
     ]
    },
    {
     "name": "stdout",
     "output_type": "stream",
     "text": [
      "[####################                    ] | 50% Completed |  1min  1.0s"
     ]
    },
    {
     "name": "stderr",
     "output_type": "stream",
     "text": [
      " 78%|███████▊  | 872k/1.09M [00:06<00:01, 138kB/s]"
     ]
    },
    {
     "name": "stdout",
     "output_type": "stream",
     "text": [
      "[####################                    ] | 50% Completed |  1min  1.3s"
     ]
    },
    {
     "name": "stderr",
     "output_type": "stream",
     "text": [
      " 83%|████████▎ | 928k/1.09M [00:06<00:01, 148kB/s]"
     ]
    },
    {
     "name": "stdout",
     "output_type": "stream",
     "text": [
      "[####################                    ] | 50% Completed |  1min  1.7s"
     ]
    },
    {
     "name": "stderr",
     "output_type": "stream",
     "text": [
      " 87%|████████▋ | 976k/1.09M [00:07<00:01, 139kB/s]"
     ]
    },
    {
     "name": "stdout",
     "output_type": "stream",
     "text": [
      "[####################                    ] | 50% Completed |  1min  2.1s"
     ]
    },
    {
     "name": "stderr",
     "output_type": "stream",
     "text": [
      " 92%|█████████▏| 1.00M/1.09M [00:07<00:00, 144kB/s]"
     ]
    },
    {
     "name": "stdout",
     "output_type": "stream",
     "text": [
      "[####################                    ] | 50% Completed |  1min  2.5s"
     ]
    },
    {
     "name": "stderr",
     "output_type": "stream",
     "text": [
      " 97%|█████████▋| 1.05M/1.09M [00:07<00:00, 143kB/s]"
     ]
    },
    {
     "name": "stdout",
     "output_type": "stream",
     "text": [
      "[####################                    ] | 50% Completed |  1min  2.6s"
     ]
    },
    {
     "name": "stderr",
     "output_type": "stream",
     "text": [
      "2021-11-17 14:35:06,472 INFO Download rate 114.7K/s\n"
     ]
    },
    {
     "name": "stdout",
     "output_type": "stream",
     "text": [
      "[####################                    ] | 50% Completed |  1min  2.9s\n",
      "/media/nicolasf/END19101/ICU/data/CDS/operational/hindcasts/ECCC_CanCM4i/TPRATE/ensemble_seas_forecasts_tprate_from_1999_10_ECCC.netcdf downloaded OK\n",
      "\n",
      "[########################################] | 100% Completed |  1min  3.0s\n",
      "processing ECCC, path should be /media/nicolasf/END19101/ICU/data/CDS/operational/hindcasts/ECCC_CanCM4i/TPRATE\n",
      "processing ECCC, path should be /media/nicolasf/END19101/ICU/data/CDS/operational/hindcasts/ECCC_GEM_NEMO/TPRATE\n",
      "[                                        ] | 0% Completed |  0.0s\n",
      "/media/nicolasf/END19101/ICU/data/CDS/operational/hindcasts/ECCC_GEM_NEMO/TPRATE/ensemble_seas_forecasts_tprate_from_2000_10_ECCC.netcdf exists already on disk, skipping download and returning path\n",
      "\n",
      "attempting to download tprate for GCM ECCC, for level surface, year 2000, month 10, in netcdf, attempt 1 of 3\n",
      "\n",
      "\n",
      "[####################                    ] | 50% Completed |  0.8s"
     ]
    },
    {
     "name": "stderr",
     "output_type": "stream",
     "text": [
      "2021-11-17 14:35:07,711 INFO Welcome to the CDS\n",
      "2021-11-17 14:35:07,711 INFO Sending request to https://cds.climate.copernicus.eu/api/v2/resources/seasonal-monthly-single-levels\n"
     ]
    },
    {
     "name": "stdout",
     "output_type": "stream",
     "text": [
      "[####################                    ] | 50% Completed |  1.1s"
     ]
    },
    {
     "name": "stderr",
     "output_type": "stream",
     "text": [
      "2021-11-17 14:35:08,018 INFO Request is queued\n"
     ]
    },
    {
     "name": "stdout",
     "output_type": "stream",
     "text": [
      "[####################                    ] | 50% Completed | 24.3s"
     ]
    },
    {
     "name": "stderr",
     "output_type": "stream",
     "text": [
      "2021-11-17 14:35:31,149 INFO Request is running\n"
     ]
    },
    {
     "name": "stdout",
     "output_type": "stream",
     "text": [
      "[####################                    ] | 50% Completed | 36.1s"
     ]
    },
    {
     "name": "stderr",
     "output_type": "stream",
     "text": [
      "2021-11-17 14:35:42,962 INFO Request is completed\n",
      "2021-11-17 14:35:42,963 INFO Downloading https://download-0010.copernicus-climate.eu/cache-compute-0010/cache/data3/adaptor.mars.external-1637112938.7568367-22821-18-1a697108-6de9-460d-99d8-3586ac72e912.nc to /media/nicolasf/END19101/ICU/data/CDS/operational/hindcasts/ECCC_CanCM4i/TPRATE/ensemble_seas_forecasts_tprate_from_2000_10_ECCC.netcdf (1.1M)\n"
     ]
    },
    {
     "name": "stdout",
     "output_type": "stream",
     "text": [
      "[####################                    ] | 50% Completed | 38.1s"
     ]
    },
    {
     "name": "stderr",
     "output_type": "stream",
     "text": [
      "  0%|          | 0.00/1.09M [00:00<?, ?B/s]"
     ]
    },
    {
     "name": "stdout",
     "output_type": "stream",
     "text": [
      "[####################                    ] | 50% Completed | 38.5s"
     ]
    },
    {
     "name": "stderr",
     "output_type": "stream",
     "text": [
      "  1%|▏         | 16.0k/1.09M [00:00<00:28, 39.9kB/s]"
     ]
    },
    {
     "name": "stdout",
     "output_type": "stream",
     "text": [
      "[####################                    ] | 50% Completed | 38.9s"
     ]
    },
    {
     "name": "stderr",
     "output_type": "stream",
     "text": [
      "  5%|▍         | 52.0k/1.09M [00:00<00:15, 69.3kB/s]"
     ]
    },
    {
     "name": "stdout",
     "output_type": "stream",
     "text": [
      "[####################                    ] | 50% Completed | 39.3s"
     ]
    },
    {
     "name": "stderr",
     "output_type": "stream",
     "text": [
      " 10%|█         | 112k/1.09M [00:01<00:09, 106kB/s]  "
     ]
    },
    {
     "name": "stdout",
     "output_type": "stream",
     "text": [
      "[####################                    ] | 50% Completed | 40.1s"
     ]
    },
    {
     "name": "stderr",
     "output_type": "stream",
     "text": [
      " 15%|█▌        | 168k/1.09M [00:02<00:11, 85.7kB/s]"
     ]
    },
    {
     "name": "stdout",
     "output_type": "stream",
     "text": [
      "[####################                    ] | 50% Completed | 40.5s"
     ]
    },
    {
     "name": "stderr",
     "output_type": "stream",
     "text": [
      " 24%|██▍       | 270k/1.09M [00:02<00:06, 134kB/s] "
     ]
    },
    {
     "name": "stdout",
     "output_type": "stream",
     "text": [
      "[####################                    ] | 50% Completed | 40.8s"
     ]
    },
    {
     "name": "stderr",
     "output_type": "stream",
     "text": [
      " 28%|██▊       | 318k/1.09M [00:02<00:05, 140kB/s]"
     ]
    },
    {
     "name": "stdout",
     "output_type": "stream",
     "text": [
      "[####################                    ] | 50% Completed | 41.1s"
     ]
    },
    {
     "name": "stderr",
     "output_type": "stream",
     "text": [
      " 33%|███▎      | 366k/1.09M [00:03<00:05, 145kB/s]"
     ]
    },
    {
     "name": "stdout",
     "output_type": "stream",
     "text": [
      "[####################                    ] | 50% Completed | 41.4s"
     ]
    },
    {
     "name": "stderr",
     "output_type": "stream",
     "text": [
      " 38%|███▊      | 422k/1.09M [00:03<00:04, 156kB/s]"
     ]
    },
    {
     "name": "stdout",
     "output_type": "stream",
     "text": [
      "[####################                    ] | 50% Completed | 42.0s"
     ]
    },
    {
     "name": "stderr",
     "output_type": "stream",
     "text": [
      " 43%|████▎     | 478k/1.09M [00:03<00:05, 131kB/s]"
     ]
    },
    {
     "name": "stdout",
     "output_type": "stream",
     "text": [
      "[####################                    ] | 50% Completed | 42.3s"
     ]
    },
    {
     "name": "stderr",
     "output_type": "stream",
     "text": [
      " 51%|█████     | 571k/1.09M [00:04<00:03, 171kB/s]"
     ]
    },
    {
     "name": "stdout",
     "output_type": "stream",
     "text": [
      "[####################                    ] | 50% Completed | 42.6s"
     ]
    },
    {
     "name": "stderr",
     "output_type": "stream",
     "text": [
      " 55%|█████▌    | 619k/1.09M [00:04<00:02, 171kB/s]"
     ]
    },
    {
     "name": "stdout",
     "output_type": "stream",
     "text": [
      "[####################                    ] | 50% Completed | 43.0s"
     ]
    },
    {
     "name": "stderr",
     "output_type": "stream",
     "text": [
      " 60%|█████▉    | 667k/1.09M [00:04<00:02, 156kB/s]"
     ]
    },
    {
     "name": "stdout",
     "output_type": "stream",
     "text": [
      "[####################                    ] | 50% Completed | 43.4s"
     ]
    },
    {
     "name": "stderr",
     "output_type": "stream",
     "text": [
      " 64%|██████▍   | 715k/1.09M [00:05<00:02, 153kB/s]"
     ]
    },
    {
     "name": "stdout",
     "output_type": "stream",
     "text": [
      "[####################                    ] | 50% Completed | 43.8s"
     ]
    },
    {
     "name": "stderr",
     "output_type": "stream",
     "text": [
      " 69%|██████▊   | 768k/1.09M [00:05<00:02, 146kB/s]"
     ]
    },
    {
     "name": "stdout",
     "output_type": "stream",
     "text": [
      "[####################                    ] | 50% Completed | 44.1s"
     ]
    },
    {
     "name": "stderr",
     "output_type": "stream",
     "text": [
      " 73%|███████▎  | 816k/1.09M [00:06<00:02, 152kB/s]"
     ]
    },
    {
     "name": "stdout",
     "output_type": "stream",
     "text": [
      "[####################                    ] | 50% Completed | 44.4s"
     ]
    },
    {
     "name": "stderr",
     "output_type": "stream",
     "text": [
      " 77%|███████▋  | 864k/1.09M [00:06<00:01, 155kB/s]"
     ]
    },
    {
     "name": "stdout",
     "output_type": "stream",
     "text": [
      "[####################                    ] | 50% Completed | 44.7s"
     ]
    },
    {
     "name": "stderr",
     "output_type": "stream",
     "text": [
      " 82%|████████▏ | 920k/1.09M [00:06<00:01, 160kB/s]"
     ]
    },
    {
     "name": "stdout",
     "output_type": "stream",
     "text": [
      "[####################                    ] | 50% Completed | 45.0s"
     ]
    },
    {
     "name": "stderr",
     "output_type": "stream",
     "text": [
      " 87%|████████▋ | 976k/1.09M [00:06<00:00, 168kB/s]"
     ]
    },
    {
     "name": "stdout",
     "output_type": "stream",
     "text": [
      "[####################                    ] | 50% Completed | 45.8s"
     ]
    },
    {
     "name": "stderr",
     "output_type": "stream",
     "text": [
      " 93%|█████████▎| 1.01M/1.09M [00:07<00:00, 122kB/s]"
     ]
    },
    {
     "name": "stdout",
     "output_type": "stream",
     "text": [
      "[####################                    ] | 50% Completed | 45.9s"
     ]
    },
    {
     "name": "stderr",
     "output_type": "stream",
     "text": [
      "2021-11-17 14:35:52,860 INFO Download rate 112.9K/s\n"
     ]
    },
    {
     "name": "stdout",
     "output_type": "stream",
     "text": [
      "[####################                    ] | 50% Completed | 46.2s\n",
      "/media/nicolasf/END19101/ICU/data/CDS/operational/hindcasts/ECCC_CanCM4i/TPRATE/ensemble_seas_forecasts_tprate_from_2000_10_ECCC.netcdf downloaded OK\n",
      "\n",
      "[########################################] | 100% Completed | 46.3s\n",
      "processing ECCC, path should be /media/nicolasf/END19101/ICU/data/CDS/operational/hindcasts/ECCC_CanCM4i/TPRATE\n",
      "processing ECCC, path should be /media/nicolasf/END19101/ICU/data/CDS/operational/hindcasts/ECCC_GEM_NEMO/TPRATE\n",
      "[                                        ] | 0% Completed |  0.0s\n",
      "attempting to download tprate for GCM ECCC, for level surface, year 2001, month 10, in netcdf, attempt 1 of 3\n",
      "\n",
      "\n",
      "/media/nicolasf/END19101/ICU/data/CDS/operational/hindcasts/ECCC_GEM_NEMO/TPRATE/ensemble_seas_forecasts_tprate_from_2001_10_ECCC.netcdf exists already on disk, skipping download and returning path\n",
      "\n",
      "[####################                    ] | 50% Completed |  0.3s"
     ]
    },
    {
     "name": "stderr",
     "output_type": "stream",
     "text": [
      "2021-11-17 14:35:53,574 INFO Welcome to the CDS\n",
      "2021-11-17 14:35:53,575 INFO Sending request to https://cds.climate.copernicus.eu/api/v2/resources/seasonal-monthly-single-levels\n"
     ]
    },
    {
     "name": "stdout",
     "output_type": "stream",
     "text": [
      "[####################                    ] | 50% Completed |  0.6s"
     ]
    },
    {
     "name": "stderr",
     "output_type": "stream",
     "text": [
      "2021-11-17 14:35:53,895 INFO Request is queued\n"
     ]
    },
    {
     "name": "stdout",
     "output_type": "stream",
     "text": [
      "[####################                    ] | 50% Completed | 35.4s"
     ]
    },
    {
     "name": "stderr",
     "output_type": "stream",
     "text": [
      "2021-11-17 14:36:28,593 INFO Request is running\n"
     ]
    },
    {
     "name": "stdout",
     "output_type": "stream",
     "text": [
      "[####################                    ] | 50% Completed |  1min 18.9s"
     ]
    },
    {
     "name": "stderr",
     "output_type": "stream",
     "text": [
      "2021-11-17 14:37:12,057 INFO Request is completed\n",
      "2021-11-17 14:37:12,057 INFO Downloading https://download-0011.copernicus-climate.eu/cache-compute-0011/cache/data0/adaptor.mars.external-1637113011.7040043-9084-12-29533d97-3c78-4bff-8481-58111a7a45ec.nc to /media/nicolasf/END19101/ICU/data/CDS/operational/hindcasts/ECCC_CanCM4i/TPRATE/ensemble_seas_forecasts_tprate_from_2001_10_ECCC.netcdf (1.1M)\n"
     ]
    },
    {
     "name": "stdout",
     "output_type": "stream",
     "text": [
      "[####################                    ] | 50% Completed |  1min 20.8s"
     ]
    },
    {
     "name": "stderr",
     "output_type": "stream",
     "text": [
      "  0%|          | 0.00/1.09M [00:00<?, ?B/s]"
     ]
    },
    {
     "name": "stdout",
     "output_type": "stream",
     "text": [
      "[####################                    ] | 50% Completed |  1min 21.2s"
     ]
    },
    {
     "name": "stderr",
     "output_type": "stream",
     "text": [
      "  1%|▏         | 16.0k/1.09M [00:00<00:28, 40.1kB/s]"
     ]
    },
    {
     "name": "stdout",
     "output_type": "stream",
     "text": [
      "[####################                    ] | 50% Completed |  1min 21.7s"
     ]
    },
    {
     "name": "stderr",
     "output_type": "stream",
     "text": [
      "  5%|▌         | 58.0k/1.09M [00:00<00:13, 78.2kB/s]"
     ]
    },
    {
     "name": "stdout",
     "output_type": "stream",
     "text": [
      "[####################                    ] | 50% Completed |  1min 22.1s"
     ]
    },
    {
     "name": "stderr",
     "output_type": "stream",
     "text": [
      "  8%|▊         | 87.0k/1.09M [00:01<00:14, 74.2kB/s]"
     ]
    },
    {
     "name": "stdout",
     "output_type": "stream",
     "text": [
      "[####################                    ] | 50% Completed |  1min 23.0s"
     ]
    },
    {
     "name": "stderr",
     "output_type": "stream",
     "text": [
      " 13%|█▎        | 148k/1.09M [00:02<00:14, 70.9kB/s] "
     ]
    },
    {
     "name": "stdout",
     "output_type": "stream",
     "text": [
      "[####################                    ] | 50% Completed |  1min 23.3s"
     ]
    },
    {
     "name": "stderr",
     "output_type": "stream",
     "text": [
      " 25%|██▍       | 278k/1.09M [00:02<00:05, 153kB/s] "
     ]
    },
    {
     "name": "stdout",
     "output_type": "stream",
     "text": [
      "[####################                    ] | 50% Completed |  1min 23.7s"
     ]
    },
    {
     "name": "stderr",
     "output_type": "stream",
     "text": [
      " 31%|███       | 342k/1.09M [00:02<00:05, 154kB/s]"
     ]
    },
    {
     "name": "stdout",
     "output_type": "stream",
     "text": [
      "[####################                    ] | 50% Completed |  1min 24.4s"
     ]
    },
    {
     "name": "stderr",
     "output_type": "stream",
     "text": [
      " 43%|████▎     | 486k/1.09M [00:03<00:03, 176kB/s]"
     ]
    },
    {
     "name": "stdout",
     "output_type": "stream",
     "text": [
      "[####################                    ] | 50% Completed |  1min 24.8s"
     ]
    },
    {
     "name": "stderr",
     "output_type": "stream",
     "text": [
      " 49%|████▉     | 547k/1.09M [00:03<00:03, 174kB/s]"
     ]
    },
    {
     "name": "stdout",
     "output_type": "stream",
     "text": [
      "[####################                    ] | 50% Completed |  1min 25.2s"
     ]
    },
    {
     "name": "stderr",
     "output_type": "stream",
     "text": [
      " 57%|█████▋    | 635k/1.09M [00:04<00:02, 182kB/s]"
     ]
    },
    {
     "name": "stdout",
     "output_type": "stream",
     "text": [
      "[####################                    ] | 50% Completed |  1min 25.6s"
     ]
    },
    {
     "name": "stderr",
     "output_type": "stream",
     "text": [
      " 61%|██████    | 683k/1.09M [00:04<00:02, 165kB/s]"
     ]
    },
    {
     "name": "stdout",
     "output_type": "stream",
     "text": [
      "[####################                    ] | 50% Completed |  1min 25.9s"
     ]
    },
    {
     "name": "stderr",
     "output_type": "stream",
     "text": [
      " 65%|██████▌   | 731k/1.09M [00:05<00:02, 165kB/s]"
     ]
    },
    {
     "name": "stdout",
     "output_type": "stream",
     "text": [
      "[####################                    ] | 50% Completed |  1min 26.3s"
     ]
    },
    {
     "name": "stderr",
     "output_type": "stream",
     "text": [
      " 70%|███████   | 784k/1.09M [00:05<00:02, 154kB/s]"
     ]
    },
    {
     "name": "stdout",
     "output_type": "stream",
     "text": [
      "[####################                    ] | 50% Completed |  1min 26.7s"
     ]
    },
    {
     "name": "stderr",
     "output_type": "stream",
     "text": [
      " 75%|███████▌  | 840k/1.09M [00:05<00:01, 149kB/s]"
     ]
    },
    {
     "name": "stdout",
     "output_type": "stream",
     "text": [
      "[####################                    ] | 50% Completed |  1min 27.1s"
     ]
    },
    {
     "name": "stderr",
     "output_type": "stream",
     "text": [
      " 80%|████████  | 896k/1.09M [00:06<00:01, 157kB/s]"
     ]
    },
    {
     "name": "stdout",
     "output_type": "stream",
     "text": [
      "[####################                    ] | 50% Completed |  1min 27.5s"
     ]
    },
    {
     "name": "stderr",
     "output_type": "stream",
     "text": [
      " 85%|████████▌ | 950k/1.09M [00:06<00:01, 151kB/s]"
     ]
    },
    {
     "name": "stdout",
     "output_type": "stream",
     "text": [
      "[####################                    ] | 50% Completed |  1min 27.9s"
     ]
    },
    {
     "name": "stderr",
     "output_type": "stream",
     "text": [
      " 90%|█████████ | 0.98M/1.09M [00:07<00:00, 148kB/s]"
     ]
    },
    {
     "name": "stdout",
     "output_type": "stream",
     "text": [
      "[####################                    ] | 50% Completed |  1min 28.2s"
     ]
    },
    {
     "name": "stderr",
     "output_type": "stream",
     "text": [
      " 95%|█████████▌| 1.04M/1.09M [00:07<00:00, 159kB/s]"
     ]
    },
    {
     "name": "stdout",
     "output_type": "stream",
     "text": [
      "[####################                    ] | 50% Completed |  1min 28.3s"
     ]
    },
    {
     "name": "stderr",
     "output_type": "stream",
     "text": [
      "2021-11-17 14:37:21,536 INFO Download rate 117.9K/s\n"
     ]
    },
    {
     "name": "stdout",
     "output_type": "stream",
     "text": [
      "[####################                    ] | 50% Completed |  1min 28.8s\n",
      "/media/nicolasf/END19101/ICU/data/CDS/operational/hindcasts/ECCC_CanCM4i/TPRATE/ensemble_seas_forecasts_tprate_from_2001_10_ECCC.netcdf downloaded OK\n",
      "\n",
      "[########################################] | 100% Completed |  1min 28.9s\n",
      "processing ECCC, path should be /media/nicolasf/END19101/ICU/data/CDS/operational/hindcasts/ECCC_CanCM4i/TPRATE\n",
      "processing ECCC, path should be /media/nicolasf/END19101/ICU/data/CDS/operational/hindcasts/ECCC_GEM_NEMO/TPRATE\n",
      "[                                        ] | 0% Completed |  0.0s\n",
      "/media/nicolasf/END19101/ICU/data/CDS/operational/hindcasts/ECCC_GEM_NEMO/TPRATE/ensemble_seas_forecasts_tprate_from_2002_10_ECCC.netcdf exists already on disk, skipping download and returning path\n",
      "\n",
      "\n",
      "attempting to download tprate for GCM ECCC, for level surface, year 2002, month 10, in netcdf, attempt 1 of 3\n",
      "\n",
      "[####################                    ] | 50% Completed |  0.3s"
     ]
    },
    {
     "name": "stderr",
     "output_type": "stream",
     "text": [
      "2021-11-17 14:37:22,454 INFO Welcome to the CDS\n",
      "2021-11-17 14:37:22,455 INFO Sending request to https://cds.climate.copernicus.eu/api/v2/resources/seasonal-monthly-single-levels\n"
     ]
    },
    {
     "name": "stdout",
     "output_type": "stream",
     "text": [
      "[####################                    ] | 50% Completed |  0.7s"
     ]
    },
    {
     "name": "stderr",
     "output_type": "stream",
     "text": [
      "2021-11-17 14:37:22,864 INFO Request is queued\n"
     ]
    },
    {
     "name": "stdout",
     "output_type": "stream",
     "text": [
      "[####################                    ] | 50% Completed | 35.5s"
     ]
    },
    {
     "name": "stderr",
     "output_type": "stream",
     "text": [
      "2021-11-17 14:37:57,680 INFO Request is running\n"
     ]
    },
    {
     "name": "stdout",
     "output_type": "stream",
     "text": [
      "[####################                    ] | 50% Completed |  1min 19.1s"
     ]
    },
    {
     "name": "stderr",
     "output_type": "stream",
     "text": [
      "2021-11-17 14:38:41,301 INFO Request is completed\n",
      "2021-11-17 14:38:41,302 INFO Downloading https://download-0010.copernicus-climate.eu/cache-compute-0010/cache/data5/adaptor.mars.external-1637113113.1596935-2765-7-8bf662fa-f6cb-414f-a376-71e4ccdc5497.nc to /media/nicolasf/END19101/ICU/data/CDS/operational/hindcasts/ECCC_CanCM4i/TPRATE/ensemble_seas_forecasts_tprate_from_2002_10_ECCC.netcdf (1.1M)\n"
     ]
    },
    {
     "name": "stdout",
     "output_type": "stream",
     "text": [
      "[####################                    ] | 50% Completed |  1min 21.2s"
     ]
    },
    {
     "name": "stderr",
     "output_type": "stream",
     "text": [
      "  0%|          | 0.00/1.09M [00:00<?, ?B/s]"
     ]
    },
    {
     "name": "stdout",
     "output_type": "stream",
     "text": [
      "[####################                    ] | 50% Completed |  1min 21.6s"
     ]
    },
    {
     "name": "stderr",
     "output_type": "stream",
     "text": [
      "  1%|▏         | 16.0k/1.09M [00:00<00:28, 40.1kB/s]"
     ]
    },
    {
     "name": "stdout",
     "output_type": "stream",
     "text": [
      "[####################                    ] | 50% Completed |  1min 21.9s"
     ]
    },
    {
     "name": "stderr",
     "output_type": "stream",
     "text": [
      "  4%|▍         | 50.0k/1.09M [00:00<00:13, 78.8kB/s]"
     ]
    },
    {
     "name": "stdout",
     "output_type": "stream",
     "text": [
      "[####################                    ] | 50% Completed |  1min 22.5s"
     ]
    },
    {
     "name": "stderr",
     "output_type": "stream",
     "text": [
      "  7%|▋         | 82.0k/1.09M [00:01<00:13, 78.8kB/s]"
     ]
    },
    {
     "name": "stdout",
     "output_type": "stream",
     "text": [
      "[####################                    ] | 50% Completed |  1min 22.9s"
     ]
    },
    {
     "name": "stderr",
     "output_type": "stream",
     "text": [
      " 11%|█         | 122k/1.09M [00:01<00:11, 87.6kB/s] "
     ]
    },
    {
     "name": "stdout",
     "output_type": "stream",
     "text": [
      "[####################                    ] | 50% Completed |  1min 23.2s"
     ]
    },
    {
     "name": "stderr",
     "output_type": "stream",
     "text": [
      " 14%|█▍        | 154k/1.09M [00:01<00:10, 92.9kB/s]"
     ]
    },
    {
     "name": "stdout",
     "output_type": "stream",
     "text": [
      "[####################                    ] | 50% Completed |  1min 23.7s"
     ]
    },
    {
     "name": "stderr",
     "output_type": "stream",
     "text": [
      " 17%|█▋        | 194k/1.09M [00:02<00:10, 87.9kB/s]"
     ]
    },
    {
     "name": "stdout",
     "output_type": "stream",
     "text": [
      "[####################                    ] | 50% Completed |  1min 24.2s"
     ]
    },
    {
     "name": "stderr",
     "output_type": "stream",
     "text": [
      " 21%|██        | 236k/1.09M [00:02<00:10, 86.5kB/s]"
     ]
    },
    {
     "name": "stdout",
     "output_type": "stream",
     "text": [
      "[####################                    ] | 50% Completed |  1min 24.6s"
     ]
    },
    {
     "name": "stderr",
     "output_type": "stream",
     "text": [
      " 25%|██▍       | 276k/1.09M [00:03<00:09, 90.3kB/s]"
     ]
    },
    {
     "name": "stdout",
     "output_type": "stream",
     "text": [
      "[####################                    ] | 50% Completed |  1min 25.0s"
     ]
    },
    {
     "name": "stderr",
     "output_type": "stream",
     "text": [
      " 29%|██▉       | 324k/1.09M [00:03<00:08, 99.5kB/s]"
     ]
    },
    {
     "name": "stdout",
     "output_type": "stream",
     "text": [
      "[####################                    ] | 50% Completed |  1min 25.5s"
     ]
    },
    {
     "name": "stderr",
     "output_type": "stream",
     "text": [
      " 34%|███▍      | 380k/1.09M [00:04<00:07, 104kB/s] "
     ]
    },
    {
     "name": "stdout",
     "output_type": "stream",
     "text": [
      "[####################                    ] | 50% Completed |  1min 26.1s"
     ]
    },
    {
     "name": "stderr",
     "output_type": "stream",
     "text": [
      " 39%|███▉      | 436k/1.09M [00:04<00:06, 100kB/s]"
     ]
    },
    {
     "name": "stdout",
     "output_type": "stream",
     "text": [
      "[####################                    ] | 50% Completed |  1min 26.4s"
     ]
    },
    {
     "name": "stderr",
     "output_type": "stream",
     "text": [
      " 50%|████▉     | 556k/1.09M [00:05<00:03, 164kB/s]"
     ]
    },
    {
     "name": "stdout",
     "output_type": "stream",
     "text": [
      "[####################                    ] | 50% Completed |  1min 26.8s"
     ]
    },
    {
     "name": "stderr",
     "output_type": "stream",
     "text": [
      " 55%|█████▍    | 612k/1.09M [00:05<00:03, 156kB/s]"
     ]
    },
    {
     "name": "stdout",
     "output_type": "stream",
     "text": [
      "[####################                    ] | 50% Completed |  1min 27.2s"
     ]
    },
    {
     "name": "stderr",
     "output_type": "stream",
     "text": [
      " 60%|█████▉    | 668k/1.09M [00:05<00:02, 161kB/s]"
     ]
    },
    {
     "name": "stdout",
     "output_type": "stream",
     "text": [
      "[####################                    ] | 50% Completed |  1min 27.9s"
     ]
    },
    {
     "name": "stderr",
     "output_type": "stream",
     "text": [
      " 66%|██████▌   | 732k/1.09M [00:06<00:03, 124kB/s]"
     ]
    },
    {
     "name": "stdout",
     "output_type": "stream",
     "text": [
      "[####################                    ] | 50% Completed |  1min 28.3s"
     ]
    },
    {
     "name": "stderr",
     "output_type": "stream",
     "text": [
      " 75%|███████▍  | 836k/1.09M [00:06<00:01, 167kB/s]"
     ]
    },
    {
     "name": "stdout",
     "output_type": "stream",
     "text": [
      "[####################                    ] | 50% Completed |  1min 28.7s"
     ]
    },
    {
     "name": "stderr",
     "output_type": "stream",
     "text": [
      " 79%|███████▉  | 884k/1.09M [00:07<00:01, 156kB/s]"
     ]
    },
    {
     "name": "stdout",
     "output_type": "stream",
     "text": [
      "[####################                    ] | 50% Completed |  1min 29.1s"
     ]
    },
    {
     "name": "stderr",
     "output_type": "stream",
     "text": [
      " 83%|████████▎ | 932k/1.09M [00:07<00:01, 146kB/s]"
     ]
    },
    {
     "name": "stdout",
     "output_type": "stream",
     "text": [
      "[####################                    ] | 50% Completed |  1min 29.7s"
     ]
    },
    {
     "name": "stderr",
     "output_type": "stream",
     "text": [
      " 88%|████████▊ | 980k/1.09M [00:08<00:01, 121kB/s]"
     ]
    },
    {
     "name": "stdout",
     "output_type": "stream",
     "text": [
      "[####################                    ] | 50% Completed |  1min 30.0s"
     ]
    },
    {
     "name": "stderr",
     "output_type": "stream",
     "text": [
      " 93%|█████████▎| 1.01M/1.09M [00:08<00:00, 135kB/s]"
     ]
    },
    {
     "name": "stdout",
     "output_type": "stream",
     "text": [
      "[####################                    ] | 50% Completed |  1min 30.3s"
     ]
    },
    {
     "name": "stderr",
     "output_type": "stream",
     "text": [
      " 97%|█████████▋| 1.06M/1.09M [00:09<00:00, 141kB/s]"
     ]
    },
    {
     "name": "stdout",
     "output_type": "stream",
     "text": [
      "[####################                    ] | 50% Completed |  1min 30.4s"
     ]
    },
    {
     "name": "stderr",
     "output_type": "stream",
     "text": [
      "2021-11-17 14:38:52,564 INFO Download rate 99.2K/s \n"
     ]
    },
    {
     "name": "stdout",
     "output_type": "stream",
     "text": [
      "[####################                    ] | 50% Completed |  1min 30.8s\n",
      "/media/nicolasf/END19101/ICU/data/CDS/operational/hindcasts/ECCC_CanCM4i/TPRATE/ensemble_seas_forecasts_tprate_from_2002_10_ECCC.netcdf downloaded OK\n",
      "\n",
      "[########################################] | 100% Completed |  1min 30.9s\n",
      "processing ECCC, path should be /media/nicolasf/END19101/ICU/data/CDS/operational/hindcasts/ECCC_CanCM4i/TPRATE\n",
      "processing ECCC, path should be /media/nicolasf/END19101/ICU/data/CDS/operational/hindcasts/ECCC_GEM_NEMO/TPRATE\n",
      "[                                        ] | 0% Completed |  0.0s\n",
      "/media/nicolasf/END19101/ICU/data/CDS/operational/hindcasts/ECCC_GEM_NEMO/TPRATE/ensemble_seas_forecasts_tprate_from_2003_10_ECCC.netcdf exists already on disk, skipping download and returning path\n",
      "\n",
      "attempting to download tprate for GCM ECCC, for level surface, year 2003, month 10, in netcdf, attempt 1 of 3\n",
      "\n",
      "\n",
      "[####################                    ] | 50% Completed |  0.2s"
     ]
    },
    {
     "name": "stderr",
     "output_type": "stream",
     "text": [
      "2021-11-17 14:38:53,330 INFO Welcome to the CDS\n",
      "2021-11-17 14:38:53,331 INFO Sending request to https://cds.climate.copernicus.eu/api/v2/resources/seasonal-monthly-single-levels\n"
     ]
    },
    {
     "name": "stdout",
     "output_type": "stream",
     "text": [
      "[####################                    ] | 50% Completed |  0.6s"
     ]
    },
    {
     "name": "stderr",
     "output_type": "stream",
     "text": [
      "2021-11-17 14:38:53,648 INFO Request is queued\n"
     ]
    },
    {
     "name": "stdout",
     "output_type": "stream",
     "text": [
      "[####################                    ] | 50% Completed | 52.7s"
     ]
    },
    {
     "name": "stderr",
     "output_type": "stream",
     "text": [
      "2021-11-17 14:39:45,720 INFO Request is running\n"
     ]
    },
    {
     "name": "stdout",
     "output_type": "stream",
     "text": [
      "[####################                    ] | 50% Completed |  1min 19.3s"
     ]
    },
    {
     "name": "stderr",
     "output_type": "stream",
     "text": [
      "2021-11-17 14:40:12,438 INFO Request is completed\n",
      "2021-11-17 14:40:12,439 INFO Downloading https://download-0013.copernicus-climate.eu/cache-compute-0013/cache/data4/adaptor.mars.external-1637113202.9011648-5287-8-11e7a4c7-cb75-49c9-95ee-ac799a58f062.nc to /media/nicolasf/END19101/ICU/data/CDS/operational/hindcasts/ECCC_CanCM4i/TPRATE/ensemble_seas_forecasts_tprate_from_2003_10_ECCC.netcdf (1.1M)\n"
     ]
    },
    {
     "name": "stdout",
     "output_type": "stream",
     "text": [
      "[####################                    ] | 50% Completed |  1min 22.1s"
     ]
    },
    {
     "name": "stderr",
     "output_type": "stream",
     "text": [
      "  0%|          | 0.00/1.09M [00:00<?, ?B/s]"
     ]
    },
    {
     "name": "stdout",
     "output_type": "stream",
     "text": [
      "[####################                    ] | 50% Completed |  1min 22.5s"
     ]
    },
    {
     "name": "stderr",
     "output_type": "stream",
     "text": [
      "  2%|▏         | 24.0k/1.09M [00:00<00:19, 56.3kB/s]"
     ]
    },
    {
     "name": "stdout",
     "output_type": "stream",
     "text": [
      "[####################                    ] | 50% Completed |  1min 22.9s"
     ]
    },
    {
     "name": "stderr",
     "output_type": "stream",
     "text": [
      "  5%|▍         | 52.0k/1.09M [00:00<00:16, 66.9kB/s]"
     ]
    },
    {
     "name": "stdout",
     "output_type": "stream",
     "text": [
      "[####################                    ] | 50% Completed |  1min 23.2s"
     ]
    },
    {
     "name": "stderr",
     "output_type": "stream",
     "text": [
      "  6%|▌         | 68.0k/1.09M [00:01<00:17, 62.5kB/s]"
     ]
    },
    {
     "name": "stdout",
     "output_type": "stream",
     "text": [
      "[####################                    ] | 50% Completed |  1min 23.5s"
     ]
    },
    {
     "name": "stderr",
     "output_type": "stream",
     "text": [
      "  8%|▊         | 92.0k/1.09M [00:01<00:15, 67.9kB/s]"
     ]
    },
    {
     "name": "stdout",
     "output_type": "stream",
     "text": [
      "[####################                    ] | 50% Completed |  1min 23.9s"
     ]
    },
    {
     "name": "stderr",
     "output_type": "stream",
     "text": [
      " 10%|█         | 116k/1.09M [00:01<00:15, 64.8kB/s] "
     ]
    },
    {
     "name": "stdout",
     "output_type": "stream",
     "text": [
      "[####################                    ] | 50% Completed |  1min 24.3s"
     ]
    },
    {
     "name": "stderr",
     "output_type": "stream",
     "text": [
      " 13%|█▎        | 140k/1.09M [00:02<00:15, 63.2kB/s]"
     ]
    },
    {
     "name": "stdout",
     "output_type": "stream",
     "text": [
      "[####################                    ] | 50% Completed |  1min 24.7s"
     ]
    },
    {
     "name": "stderr",
     "output_type": "stream",
     "text": [
      " 15%|█▌        | 172k/1.09M [00:02<00:14, 68.8kB/s]"
     ]
    },
    {
     "name": "stdout",
     "output_type": "stream",
     "text": [
      "[####################                    ] | 50% Completed |  1min 25.1s"
     ]
    },
    {
     "name": "stderr",
     "output_type": "stream",
     "text": [
      " 18%|█▊        | 196k/1.09M [00:03<00:14, 65.9kB/s]"
     ]
    },
    {
     "name": "stdout",
     "output_type": "stream",
     "text": [
      "[####################                    ] | 50% Completed |  1min 25.4s"
     ]
    },
    {
     "name": "stderr",
     "output_type": "stream",
     "text": [
      " 20%|██        | 228k/1.09M [00:03<00:11, 77.5kB/s]"
     ]
    },
    {
     "name": "stdout",
     "output_type": "stream",
     "text": [
      "[####################                    ] | 50% Completed |  1min 25.7s"
     ]
    },
    {
     "name": "stderr",
     "output_type": "stream",
     "text": [
      " 23%|██▎       | 260k/1.09M [00:03<00:10, 86.4kB/s]"
     ]
    },
    {
     "name": "stdout",
     "output_type": "stream",
     "text": [
      "[####################                    ] | 50% Completed |  1min 26.0s"
     ]
    },
    {
     "name": "stderr",
     "output_type": "stream",
     "text": [
      " 25%|██▌       | 284k/1.09M [00:03<00:10, 82.6kB/s]"
     ]
    },
    {
     "name": "stdout",
     "output_type": "stream",
     "text": [
      "[####################                    ] | 50% Completed |  1min 26.3s"
     ]
    },
    {
     "name": "stderr",
     "output_type": "stream",
     "text": [
      " 28%|██▊       | 316k/1.09M [00:04<00:09, 90.5kB/s]"
     ]
    },
    {
     "name": "stdout",
     "output_type": "stream",
     "text": [
      "[####################                    ] | 50% Completed |  1min 26.7s"
     ]
    },
    {
     "name": "stderr",
     "output_type": "stream",
     "text": [
      " 30%|███       | 340k/1.09M [00:04<00:10, 79.0kB/s]"
     ]
    },
    {
     "name": "stdout",
     "output_type": "stream",
     "text": [
      "[####################                    ] | 50% Completed |  1min 27.0s"
     ]
    },
    {
     "name": "stderr",
     "output_type": "stream",
     "text": [
      " 33%|███▎      | 372k/1.09M [00:04<00:08, 87.5kB/s]"
     ]
    },
    {
     "name": "stdout",
     "output_type": "stream",
     "text": [
      "[####################                    ] | 50% Completed |  1min 27.4s"
     ]
    },
    {
     "name": "stderr",
     "output_type": "stream",
     "text": [
      " 36%|███▌      | 404k/1.09M [00:05<00:08, 83.9kB/s]"
     ]
    },
    {
     "name": "stdout",
     "output_type": "stream",
     "text": [
      "[####################                    ] | 50% Completed |  1min 27.7s"
     ]
    },
    {
     "name": "stderr",
     "output_type": "stream",
     "text": [
      " 39%|███▉      | 436k/1.09M [00:05<00:07, 91.1kB/s]"
     ]
    },
    {
     "name": "stdout",
     "output_type": "stream",
     "text": [
      "[####################                    ] | 50% Completed |  1min 28.0s"
     ]
    },
    {
     "name": "stderr",
     "output_type": "stream",
     "text": [
      " 41%|████      | 460k/1.09M [00:06<00:07, 89.1kB/s]"
     ]
    },
    {
     "name": "stdout",
     "output_type": "stream",
     "text": [
      "[####################                    ] | 50% Completed |  1min 28.3s"
     ]
    },
    {
     "name": "stderr",
     "output_type": "stream",
     "text": [
      " 45%|████▍     | 500k/1.09M [00:06<00:06, 103kB/s] "
     ]
    },
    {
     "name": "stdout",
     "output_type": "stream",
     "text": [
      "[####################                    ] | 50% Completed |  1min 28.7s"
     ]
    },
    {
     "name": "stderr",
     "output_type": "stream",
     "text": [
      " 48%|████▊     | 532k/1.09M [00:06<00:05, 100kB/s]"
     ]
    },
    {
     "name": "stdout",
     "output_type": "stream",
     "text": [
      "[####################                    ] | 50% Completed |  1min 29.4s"
     ]
    },
    {
     "name": "stderr",
     "output_type": "stream",
     "text": [
      " 51%|█████     | 572k/1.09M [00:07<00:07, 76.4kB/s]"
     ]
    },
    {
     "name": "stdout",
     "output_type": "stream",
     "text": [
      "[####################                    ] | 50% Completed |  1min 29.7s"
     ]
    },
    {
     "name": "stderr",
     "output_type": "stream",
     "text": [
      " 58%|█████▊    | 644k/1.09M [00:07<00:04, 114kB/s] "
     ]
    },
    {
     "name": "stdout",
     "output_type": "stream",
     "text": [
      "[####################                    ] | 50% Completed |  1min 30.0s"
     ]
    },
    {
     "name": "stderr",
     "output_type": "stream",
     "text": [
      " 60%|██████    | 676k/1.09M [00:08<00:03, 113kB/s]"
     ]
    },
    {
     "name": "stdout",
     "output_type": "stream",
     "text": [
      "[####################                    ] | 50% Completed |  1min 30.3s"
     ]
    },
    {
     "name": "stderr",
     "output_type": "stream",
     "text": [
      " 63%|██████▎   | 708k/1.09M [00:08<00:03, 113kB/s]"
     ]
    },
    {
     "name": "stdout",
     "output_type": "stream",
     "text": [
      "[####################                    ] | 50% Completed |  1min 30.7s"
     ]
    },
    {
     "name": "stderr",
     "output_type": "stream",
     "text": [
      " 67%|██████▋   | 752k/1.09M [00:08<00:03, 115kB/s]"
     ]
    },
    {
     "name": "stdout",
     "output_type": "stream",
     "text": [
      "[####################                    ] | 50% Completed |  1min 31.1s"
     ]
    },
    {
     "name": "stderr",
     "output_type": "stream",
     "text": [
      " 71%|███████   | 792k/1.09M [00:09<00:03, 108kB/s]"
     ]
    },
    {
     "name": "stdout",
     "output_type": "stream",
     "text": [
      "[####################                    ] | 50% Completed |  1min 31.5s"
     ]
    },
    {
     "name": "stderr",
     "output_type": "stream",
     "text": [
      " 74%|███████▍  | 832k/1.09M [00:09<00:02, 106kB/s]"
     ]
    },
    {
     "name": "stdout",
     "output_type": "stream",
     "text": [
      "[####################                    ] | 50% Completed |  1min 31.9s"
     ]
    },
    {
     "name": "stderr",
     "output_type": "stream",
     "text": [
      " 78%|███████▊  | 872k/1.09M [00:09<00:02, 104kB/s]"
     ]
    },
    {
     "name": "stdout",
     "output_type": "stream",
     "text": [
      "[####################                    ] | 50% Completed |  1min 32.3s"
     ]
    },
    {
     "name": "stderr",
     "output_type": "stream",
     "text": [
      " 82%|████████▏ | 912k/1.09M [00:10<00:02, 103kB/s]"
     ]
    },
    {
     "name": "stdout",
     "output_type": "stream",
     "text": [
      "[####################                    ] | 50% Completed |  1min 32.7s"
     ]
    },
    {
     "name": "stderr",
     "output_type": "stream",
     "text": [
      " 86%|████████▌ | 960k/1.09M [00:10<00:01, 108kB/s]"
     ]
    },
    {
     "name": "stdout",
     "output_type": "stream",
     "text": [
      "[####################                    ] | 50% Completed |  1min 33.1s"
     ]
    },
    {
     "name": "stderr",
     "output_type": "stream",
     "text": [
      " 89%|████████▉ | 0.98M/1.09M [00:11<00:01, 106kB/s]"
     ]
    },
    {
     "name": "stdout",
     "output_type": "stream",
     "text": [
      "[####################                    ] | 50% Completed |  1min 33.5s"
     ]
    },
    {
     "name": "stderr",
     "output_type": "stream",
     "text": [
      " 93%|█████████▎| 1.01M/1.09M [00:11<00:00, 102kB/s]"
     ]
    },
    {
     "name": "stdout",
     "output_type": "stream",
     "text": [
      "[####################                    ] | 50% Completed |  1min 34.0s"
     ]
    },
    {
     "name": "stderr",
     "output_type": "stream",
     "text": [
      " 97%|█████████▋| 1.06M/1.09M [00:11<00:00, 107kB/s]"
     ]
    },
    {
     "name": "stdout",
     "output_type": "stream",
     "text": [
      "[####################                    ] | 50% Completed |  1min 34.1s"
     ]
    },
    {
     "name": "stderr",
     "output_type": "stream",
     "text": [
      "2021-11-17 14:40:27,196 INFO Download rate 75.7K/s \n"
     ]
    },
    {
     "name": "stdout",
     "output_type": "stream",
     "text": [
      "[####################                    ] | 50% Completed |  1min 34.6s\n",
      "/media/nicolasf/END19101/ICU/data/CDS/operational/hindcasts/ECCC_CanCM4i/TPRATE/ensemble_seas_forecasts_tprate_from_2003_10_ECCC.netcdf downloaded OK\n",
      "\n",
      "[########################################] | 100% Completed |  1min 34.7s\n",
      "processing ECCC, path should be /media/nicolasf/END19101/ICU/data/CDS/operational/hindcasts/ECCC_CanCM4i/TPRATE\n",
      "processing ECCC, path should be /media/nicolasf/END19101/ICU/data/CDS/operational/hindcasts/ECCC_GEM_NEMO/TPRATE\n",
      "[                                        ] | 0% Completed |  0.0s\n",
      "/media/nicolasf/END19101/ICU/data/CDS/operational/hindcasts/ECCC_GEM_NEMO/TPRATE/ensemble_seas_forecasts_tprate_from_2004_10_ECCC.netcdf exists already on disk, skipping download and returning path\n",
      "\n",
      "\n",
      "attempting to download tprate for GCM ECCC, for level surface, year 2004, month 10, in netcdf, attempt 1 of 3\n",
      "\n",
      "[####################                    ] | 50% Completed |  0.2s"
     ]
    },
    {
     "name": "stderr",
     "output_type": "stream",
     "text": [
      "2021-11-17 14:40:28,082 INFO Welcome to the CDS\n",
      "2021-11-17 14:40:28,082 INFO Sending request to https://cds.climate.copernicus.eu/api/v2/resources/seasonal-monthly-single-levels\n"
     ]
    },
    {
     "name": "stdout",
     "output_type": "stream",
     "text": [
      "[####################                    ] | 50% Completed |  0.6s"
     ]
    },
    {
     "name": "stderr",
     "output_type": "stream",
     "text": [
      "2021-11-17 14:40:28,424 INFO Request is queued\n"
     ]
    },
    {
     "name": "stdout",
     "output_type": "stream",
     "text": [
      "[####################                    ] | 50% Completed | 24.1s"
     ]
    },
    {
     "name": "stderr",
     "output_type": "stream",
     "text": [
      "2021-11-17 14:40:51,862 INFO Request is running\n"
     ]
    },
    {
     "name": "stdout",
     "output_type": "stream",
     "text": [
      "[####################                    ] | 50% Completed | 53.1s"
     ]
    },
    {
     "name": "stderr",
     "output_type": "stream",
     "text": [
      "2021-11-17 14:41:20,985 INFO Request is completed\n",
      "2021-11-17 14:41:20,986 INFO Downloading https://download-0010.copernicus-climate.eu/cache-compute-0010/cache/data9/adaptor.mars.external-1637113278.0912907-12177-8-c39d5fa4-678e-478b-9805-8bb21108d71f.nc to /media/nicolasf/END19101/ICU/data/CDS/operational/hindcasts/ECCC_CanCM4i/TPRATE/ensemble_seas_forecasts_tprate_from_2004_10_ECCC.netcdf (1.1M)\n"
     ]
    },
    {
     "name": "stdout",
     "output_type": "stream",
     "text": [
      "[####################                    ] | 50% Completed | 55.0s"
     ]
    },
    {
     "name": "stderr",
     "output_type": "stream",
     "text": [
      "  0%|          | 0.00/1.09M [00:00<?, ?B/s]"
     ]
    },
    {
     "name": "stdout",
     "output_type": "stream",
     "text": [
      "[####################                    ] | 50% Completed | 55.3s"
     ]
    },
    {
     "name": "stderr",
     "output_type": "stream",
     "text": [
      "  1%|▏         | 16.0k/1.09M [00:00<00:20, 54.0kB/s]"
     ]
    },
    {
     "name": "stdout",
     "output_type": "stream",
     "text": [
      "[####################                    ] | 50% Completed | 57.2s"
     ]
    },
    {
     "name": "stderr",
     "output_type": "stream",
     "text": [
      "  2%|▏         | 26.0k/1.09M [00:02<01:50, 10.1kB/s]"
     ]
    },
    {
     "name": "stdout",
     "output_type": "stream",
     "text": [
      "[####################                    ] | 50% Completed | 57.5s"
     ]
    },
    {
     "name": "stderr",
     "output_type": "stream",
     "text": [
      "  4%|▍         | 42.0k/1.09M [00:02<01:03, 17.4kB/s]"
     ]
    },
    {
     "name": "stdout",
     "output_type": "stream",
     "text": [
      "[####################                    ] | 50% Completed | 59.0s"
     ]
    },
    {
     "name": "stderr",
     "output_type": "stream",
     "text": [
      "  7%|▋         | 82.0k/1.09M [00:03<00:45, 23.3kB/s]"
     ]
    },
    {
     "name": "stdout",
     "output_type": "stream",
     "text": [
      "[####################                    ] | 50% Completed | 59.8s"
     ]
    },
    {
     "name": "stderr",
     "output_type": "stream",
     "text": [
      "  8%|▊         | 90.0k/1.09M [00:04<00:54, 19.3kB/s]"
     ]
    },
    {
     "name": "stdout",
     "output_type": "stream",
     "text": [
      "[####################                    ] | 50% Completed |  1min  0.8s"
     ]
    },
    {
     "name": "stderr",
     "output_type": "stream",
     "text": [
      " 12%|█▏        | 130k/1.09M [00:05<00:37, 26.7kB/s] "
     ]
    },
    {
     "name": "stdout",
     "output_type": "stream",
     "text": [
      "[####################                    ] | 50% Completed |  1min  1.1s"
     ]
    },
    {
     "name": "stderr",
     "output_type": "stream",
     "text": [
      " 23%|██▎       | 254k/1.09M [00:06<00:11, 76.6kB/s]"
     ]
    },
    {
     "name": "stdout",
     "output_type": "stream",
     "text": [
      "[####################                    ] | 50% Completed |  1min  2.6s"
     ]
    },
    {
     "name": "stderr",
     "output_type": "stream",
     "text": [
      " 25%|██▍       | 278k/1.09M [00:07<00:18, 47.5kB/s]"
     ]
    },
    {
     "name": "stdout",
     "output_type": "stream",
     "text": [
      "[####################                    ] | 50% Completed |  1min  3.2s"
     ]
    },
    {
     "name": "stderr",
     "output_type": "stream",
     "text": [
      " 26%|██▌       | 289k/1.09M [00:08<00:20, 41.3kB/s]"
     ]
    },
    {
     "name": "stdout",
     "output_type": "stream",
     "text": [
      "[####################                    ] | 50% Completed |  1min  3.5s"
     ]
    },
    {
     "name": "stderr",
     "output_type": "stream",
     "text": [
      " 28%|██▊       | 310k/1.09M [00:08<00:18, 45.4kB/s]"
     ]
    },
    {
     "name": "stdout",
     "output_type": "stream",
     "text": [
      "[####################                    ] | 50% Completed |  1min  3.8s"
     ]
    },
    {
     "name": "stderr",
     "output_type": "stream",
     "text": [
      " 30%|██▉       | 334k/1.09M [00:08<00:15, 50.5kB/s]"
     ]
    },
    {
     "name": "stdout",
     "output_type": "stream",
     "text": [
      "[####################                    ] | 50% Completed |  1min  4.2s"
     ]
    },
    {
     "name": "stderr",
     "output_type": "stream",
     "text": [
      " 31%|███▏      | 350k/1.09M [00:09<00:16, 48.1kB/s]"
     ]
    },
    {
     "name": "stdout",
     "output_type": "stream",
     "text": [
      "[####################                    ] | 50% Completed |  1min  4.5s"
     ]
    },
    {
     "name": "stderr",
     "output_type": "stream",
     "text": [
      " 33%|███▎      | 374k/1.09M [00:09<00:13, 54.5kB/s]"
     ]
    },
    {
     "name": "stdout",
     "output_type": "stream",
     "text": [
      "[####################                    ] | 50% Completed |  1min  4.8s"
     ]
    },
    {
     "name": "stderr",
     "output_type": "stream",
     "text": [
      " 35%|███▍      | 390k/1.09M [00:09<00:13, 54.7kB/s]"
     ]
    },
    {
     "name": "stdout",
     "output_type": "stream",
     "text": [
      "[####################                    ] | 50% Completed |  1min  5.2s"
     ]
    },
    {
     "name": "stderr",
     "output_type": "stream",
     "text": [
      " 37%|███▋      | 419k/1.09M [00:10<00:11, 64.2kB/s]"
     ]
    },
    {
     "name": "stdout",
     "output_type": "stream",
     "text": [
      "[####################                    ] | 50% Completed |  1min  5.6s"
     ]
    },
    {
     "name": "stderr",
     "output_type": "stream",
     "text": [
      " 40%|███▉      | 443k/1.09M [00:10<00:10, 62.8kB/s]"
     ]
    },
    {
     "name": "stdout",
     "output_type": "stream",
     "text": [
      "[####################                    ] | 50% Completed |  1min  6.2s"
     ]
    },
    {
     "name": "stderr",
     "output_type": "stream",
     "text": [
      " 41%|████      | 459k/1.09M [00:11<00:14, 48.1kB/s]"
     ]
    },
    {
     "name": "stdout",
     "output_type": "stream",
     "text": [
      "[####################                    ] | 50% Completed |  1min  6.6s"
     ]
    },
    {
     "name": "stderr",
     "output_type": "stream",
     "text": [
      " 44%|████▍     | 491k/1.09M [00:11<00:11, 57.2kB/s]"
     ]
    },
    {
     "name": "stdout",
     "output_type": "stream",
     "text": [
      "[####################                    ] | 50% Completed |  1min  7.0s"
     ]
    },
    {
     "name": "stderr",
     "output_type": "stream",
     "text": [
      " 46%|████▌     | 515k/1.09M [00:12<00:10, 58.0kB/s]"
     ]
    },
    {
     "name": "stdout",
     "output_type": "stream",
     "text": [
      "[####################                    ] | 50% Completed |  1min  7.6s"
     ]
    },
    {
     "name": "stderr",
     "output_type": "stream",
     "text": [
      " 48%|████▊     | 531k/1.09M [00:12<00:13, 46.1kB/s]"
     ]
    },
    {
     "name": "stdout",
     "output_type": "stream",
     "text": [
      "[####################                    ] | 50% Completed |  1min  8.5s"
     ]
    },
    {
     "name": "stderr",
     "output_type": "stream",
     "text": [
      " 49%|████▉     | 547k/1.09M [00:13<00:16, 35.2kB/s]"
     ]
    },
    {
     "name": "stdout",
     "output_type": "stream",
     "text": [
      "[####################                    ] | 50% Completed |  1min 10.1s"
     ]
    },
    {
     "name": "stderr",
     "output_type": "stream",
     "text": [
      " 51%|█████     | 571k/1.09M [00:15<00:23, 24.2kB/s]"
     ]
    },
    {
     "name": "stdout",
     "output_type": "stream",
     "text": [
      "[####################                    ] | 50% Completed |  1min 10.6s"
     ]
    },
    {
     "name": "stderr",
     "output_type": "stream",
     "text": [
      " 55%|█████▌    | 619k/1.09M [00:15<00:12, 39.8kB/s]"
     ]
    },
    {
     "name": "stdout",
     "output_type": "stream",
     "text": [
      "[####################                    ] | 50% Completed |  1min 11.0s"
     ]
    },
    {
     "name": "stderr",
     "output_type": "stream",
     "text": [
      " 58%|█████▊    | 643k/1.09M [00:15<00:11, 43.6kB/s]"
     ]
    },
    {
     "name": "stdout",
     "output_type": "stream",
     "text": [
      "[####################                    ] | 50% Completed |  1min 11.4s"
     ]
    },
    {
     "name": "stderr",
     "output_type": "stream",
     "text": [
      " 60%|█████▉    | 667k/1.09M [00:16<00:09, 47.0kB/s]"
     ]
    },
    {
     "name": "stdout",
     "output_type": "stream",
     "text": [
      "[####################                    ] | 50% Completed |  1min 12.2s"
     ]
    },
    {
     "name": "stderr",
     "output_type": "stream",
     "text": [
      " 61%|██████    | 683k/1.09M [00:17<00:12, 36.8kB/s]"
     ]
    },
    {
     "name": "stdout",
     "output_type": "stream",
     "text": [
      "[####################                    ] | 50% Completed |  1min 12.5s"
     ]
    },
    {
     "name": "stderr",
     "output_type": "stream",
     "text": [
      " 63%|██████▎   | 699k/1.09M [00:17<00:10, 39.7kB/s]"
     ]
    },
    {
     "name": "stdout",
     "output_type": "stream",
     "text": [
      "[####################                    ] | 50% Completed |  1min 12.9s"
     ]
    },
    {
     "name": "stderr",
     "output_type": "stream",
     "text": [
      " 65%|██████▍   | 723k/1.09M [00:17<00:09, 44.7kB/s]"
     ]
    },
    {
     "name": "stdout",
     "output_type": "stream",
     "text": [
      "[####################                    ] | 50% Completed |  1min 13.6s"
     ]
    },
    {
     "name": "stderr",
     "output_type": "stream",
     "text": [
      " 66%|██████▌   | 739k/1.09M [00:18<00:10, 36.4kB/s]"
     ]
    },
    {
     "name": "stdout",
     "output_type": "stream",
     "text": [
      "[####################                    ] | 50% Completed |  1min 15.0s"
     ]
    },
    {
     "name": "stderr",
     "output_type": "stream",
     "text": [
      " 68%|██████▊   | 755k/1.09M [00:20<00:15, 23.4kB/s]"
     ]
    },
    {
     "name": "stdout",
     "output_type": "stream",
     "text": [
      "[####################                    ] | 50% Completed |  1min 15.3s"
     ]
    },
    {
     "name": "stderr",
     "output_type": "stream",
     "text": [
      " 70%|███████   | 784k/1.09M [00:20<00:10, 33.5kB/s]"
     ]
    },
    {
     "name": "stdout",
     "output_type": "stream",
     "text": [
      "[####################                    ] | 50% Completed |  1min 16.9s"
     ]
    },
    {
     "name": "stderr",
     "output_type": "stream",
     "text": [
      " 71%|███████   | 792k/1.09M [00:21<00:17, 19.6kB/s]"
     ]
    },
    {
     "name": "stdout",
     "output_type": "stream",
     "text": [
      "[####################                    ] | 50% Completed |  1min 18.2s"
     ]
    },
    {
     "name": "stderr",
     "output_type": "stream",
     "text": [
      " 72%|███████▏  | 800k/1.09M [00:23<00:22, 14.5kB/s]"
     ]
    },
    {
     "name": "stdout",
     "output_type": "stream",
     "text": [
      "[####################                    ] | 50% Completed |  1min 18.9s"
     ]
    },
    {
     "name": "stderr",
     "output_type": "stream",
     "text": [
      " 74%|███████▎  | 824k/1.09M [00:23<00:15, 18.9kB/s]"
     ]
    },
    {
     "name": "stdout",
     "output_type": "stream",
     "text": [
      "[####################                    ] | 50% Completed |  1min 19.3s"
     ]
    },
    {
     "name": "stderr",
     "output_type": "stream",
     "text": [
      " 74%|███████▍  | 832k/1.09M [00:24<00:15, 19.1kB/s]"
     ]
    },
    {
     "name": "stdout",
     "output_type": "stream",
     "text": [
      "[####################                    ] | 50% Completed |  1min 21.1s"
     ]
    },
    {
     "name": "stderr",
     "output_type": "stream",
     "text": [
      " 75%|███████▌  | 840k/1.09M [00:26<00:23, 11.9kB/s]"
     ]
    },
    {
     "name": "stdout",
     "output_type": "stream",
     "text": [
      "[####################                    ] | 50% Completed |  1min 21.4s"
     ]
    },
    {
     "name": "stderr",
     "output_type": "stream",
     "text": [
      " 76%|███████▌  | 848k/1.09M [00:26<00:20, 13.6kB/s]"
     ]
    },
    {
     "name": "stdout",
     "output_type": "stream",
     "text": [
      "[####################                    ] | 50% Completed |  1min 21.7s"
     ]
    },
    {
     "name": "stderr",
     "output_type": "stream",
     "text": [
      " 77%|███████▋  | 856k/1.09M [00:26<00:17, 14.9kB/s]"
     ]
    },
    {
     "name": "stdout",
     "output_type": "stream",
     "text": [
      "[####################                    ] | 50% Completed |  1min 22.1s"
     ]
    },
    {
     "name": "stderr",
     "output_type": "stream",
     "text": [
      " 77%|███████▋  | 864k/1.09M [00:27<00:16, 15.9kB/s]"
     ]
    },
    {
     "name": "stdout",
     "output_type": "stream",
     "text": [
      "[####################                    ] | 50% Completed |  1min 22.6s"
     ]
    },
    {
     "name": "stderr",
     "output_type": "stream",
     "text": [
      " 78%|███████▊  | 872k/1.09M [00:27<00:14, 16.8kB/s]"
     ]
    },
    {
     "name": "stdout",
     "output_type": "stream",
     "text": [
      "[####################                    ] | 50% Completed |  1min 23.0s"
     ]
    },
    {
     "name": "stderr",
     "output_type": "stream",
     "text": [
      " 79%|███████▉  | 880k/1.09M [00:28<00:13, 17.6kB/s]"
     ]
    },
    {
     "name": "stdout",
     "output_type": "stream",
     "text": [
      "[####################                    ] | 50% Completed |  1min 23.6s"
     ]
    },
    {
     "name": "stderr",
     "output_type": "stream",
     "text": [
      " 79%|███████▉  | 888k/1.09M [00:28<00:13, 17.1kB/s]"
     ]
    },
    {
     "name": "stdout",
     "output_type": "stream",
     "text": [
      "[####################                    ] | 50% Completed |  1min 24.0s"
     ]
    },
    {
     "name": "stderr",
     "output_type": "stream",
     "text": [
      " 80%|████████  | 896k/1.09M [00:28<00:12, 17.9kB/s]"
     ]
    },
    {
     "name": "stdout",
     "output_type": "stream",
     "text": [
      "[####################                    ] | 50% Completed |  1min 24.3s"
     ]
    },
    {
     "name": "stderr",
     "output_type": "stream",
     "text": [
      " 81%|████████  | 904k/1.09M [00:29<00:11, 19.8kB/s]"
     ]
    },
    {
     "name": "stdout",
     "output_type": "stream",
     "text": [
      "[####################                    ] | 50% Completed |  1min 24.6s"
     ]
    },
    {
     "name": "stderr",
     "output_type": "stream",
     "text": [
      " 82%|████████▏ | 912k/1.09M [00:29<00:09, 21.6kB/s]"
     ]
    },
    {
     "name": "stdout",
     "output_type": "stream",
     "text": [
      "[####################                    ] | 50% Completed |  1min 24.9s"
     ]
    },
    {
     "name": "stderr",
     "output_type": "stream",
     "text": [
      " 82%|████████▏ | 920k/1.09M [00:29<00:08, 22.7kB/s]"
     ]
    },
    {
     "name": "stdout",
     "output_type": "stream",
     "text": [
      "[####################                    ] | 50% Completed |  1min 25.3s"
     ]
    },
    {
     "name": "stderr",
     "output_type": "stream",
     "text": [
      " 84%|████████▍ | 936k/1.09M [00:30<00:06, 28.3kB/s]"
     ]
    },
    {
     "name": "stdout",
     "output_type": "stream",
     "text": [
      "[####################                    ] | 50% Completed |  1min 25.6s"
     ]
    },
    {
     "name": "stderr",
     "output_type": "stream",
     "text": [
      " 84%|████████▍ | 944k/1.09M [00:30<00:06, 28.1kB/s]"
     ]
    },
    {
     "name": "stdout",
     "output_type": "stream",
     "text": [
      "[####################                    ] | 50% Completed |  1min 25.9s"
     ]
    },
    {
     "name": "stderr",
     "output_type": "stream",
     "text": [
      " 86%|████████▌ | 960k/1.09M [00:30<00:04, 35.3kB/s]"
     ]
    },
    {
     "name": "stdout",
     "output_type": "stream",
     "text": [
      "[####################                    ] | 50% Completed |  1min 26.3s"
     ]
    },
    {
     "name": "stderr",
     "output_type": "stream",
     "text": [
      " 87%|████████▋ | 968k/1.09M [00:31<00:05, 29.5kB/s]"
     ]
    },
    {
     "name": "stdout",
     "output_type": "stream",
     "text": [
      "[####################                    ] | 50% Completed |  1min 26.6s"
     ]
    },
    {
     "name": "stderr",
     "output_type": "stream",
     "text": [
      " 89%|████████▉ | 992k/1.09M [00:31<00:03, 42.7kB/s]"
     ]
    },
    {
     "name": "stdout",
     "output_type": "stream",
     "text": [
      "[####################                    ] | 50% Completed |  1min 27.3s"
     ]
    },
    {
     "name": "stderr",
     "output_type": "stream",
     "text": [
      " 90%|█████████ | 0.98M/1.09M [00:32<00:03, 33.5kB/s]"
     ]
    },
    {
     "name": "stdout",
     "output_type": "stream",
     "text": [
      "[####################                    ] | 50% Completed |  1min 28.0s"
     ]
    },
    {
     "name": "stderr",
     "output_type": "stream",
     "text": [
      " 92%|█████████▏| 1.01M/1.09M [00:33<00:02, 33.3kB/s]"
     ]
    },
    {
     "name": "stdout",
     "output_type": "stream",
     "text": [
      "[####################                    ] | 50% Completed |  1min 29.0s"
     ]
    },
    {
     "name": "stderr",
     "output_type": "stream",
     "text": [
      " 94%|█████████▎| 1.02M/1.09M [00:33<00:02, 26.7kB/s]"
     ]
    },
    {
     "name": "stdout",
     "output_type": "stream",
     "text": [
      "[####################                    ] | 50% Completed |  1min 32.7s"
     ]
    },
    {
     "name": "stderr",
     "output_type": "stream",
     "text": [
      " 95%|█████████▌| 1.04M/1.09M [00:37<00:05, 10.7kB/s]"
     ]
    },
    {
     "name": "stdout",
     "output_type": "stream",
     "text": [
      "[####################                    ] | 50% Completed |  1min 34.4s"
     ]
    },
    {
     "name": "stderr",
     "output_type": "stream",
     "text": [
      " 96%|█████████▌| 1.05M/1.09M [00:39<00:05, 8.91kB/s]"
     ]
    },
    {
     "name": "stdout",
     "output_type": "stream",
     "text": [
      "[####################                    ] | 50% Completed |  1min 35.0s"
     ]
    },
    {
     "name": "stderr",
     "output_type": "stream",
     "text": [
      " 97%|█████████▋| 1.05M/1.09M [00:40<00:04, 9.51kB/s]"
     ]
    },
    {
     "name": "stdout",
     "output_type": "stream",
     "text": [
      "[####################                    ] | 50% Completed |  1min 37.7s"
     ]
    },
    {
     "name": "stderr",
     "output_type": "stream",
     "text": [
      " 97%|█████████▋| 1.06M/1.09M [00:42<00:04, 6.47kB/s]"
     ]
    },
    {
     "name": "stdout",
     "output_type": "stream",
     "text": [
      "[####################                    ] | 50% Completed |  1min 38.1s"
     ]
    },
    {
     "name": "stderr",
     "output_type": "stream",
     "text": [
      " 98%|█████████▊| 1.07M/1.09M [00:43<00:02, 7.71kB/s]"
     ]
    },
    {
     "name": "stdout",
     "output_type": "stream",
     "text": [
      "[####################                    ] | 50% Completed |  1min 39.5s"
     ]
    },
    {
     "name": "stderr",
     "output_type": "stream",
     "text": [
      " 99%|█████████▊| 1.08M/1.09M [00:44<00:02, 7.25kB/s]"
     ]
    },
    {
     "name": "stdout",
     "output_type": "stream",
     "text": [
      "[####################                    ] | 50% Completed |  1min 39.7s"
     ]
    },
    {
     "name": "stderr",
     "output_type": "stream",
     "text": [
      "2021-11-17 14:42:07,524 INFO Download rate 24K/s    \n"
     ]
    },
    {
     "name": "stdout",
     "output_type": "stream",
     "text": [
      "[####################                    ] | 50% Completed |  1min 40.0s\n",
      "/media/nicolasf/END19101/ICU/data/CDS/operational/hindcasts/ECCC_CanCM4i/TPRATE/ensemble_seas_forecasts_tprate_from_2004_10_ECCC.netcdf downloaded OK\n",
      "\n",
      "[########################################] | 100% Completed |  1min 40.1s\n",
      "processing ECCC, path should be /media/nicolasf/END19101/ICU/data/CDS/operational/hindcasts/ECCC_CanCM4i/TPRATE\n",
      "processing ECCC, path should be /media/nicolasf/END19101/ICU/data/CDS/operational/hindcasts/ECCC_GEM_NEMO/TPRATE\n",
      "[                                        ] | 0% Completed |  0.0s\n",
      "/media/nicolasf/END19101/ICU/data/CDS/operational/hindcasts/ECCC_GEM_NEMO/TPRATE/ensemble_seas_forecasts_tprate_from_2005_10_ECCC.netcdf exists already on disk, skipping download and returning path\n",
      "\n",
      "\n",
      "attempting to download tprate for GCM ECCC, for level surface, year 2005, month 10, in netcdf, attempt 1 of 3\n",
      "\n",
      "[####################                    ] | 50% Completed |  0.3s"
     ]
    },
    {
     "name": "stderr",
     "output_type": "stream",
     "text": [
      "2021-11-17 14:42:08,148 INFO Welcome to the CDS\n",
      "2021-11-17 14:42:08,149 INFO Sending request to https://cds.climate.copernicus.eu/api/v2/resources/seasonal-monthly-single-levels\n"
     ]
    },
    {
     "name": "stdout",
     "output_type": "stream",
     "text": [
      "[####################                    ] | 50% Completed |  0.6s"
     ]
    },
    {
     "name": "stderr",
     "output_type": "stream",
     "text": [
      "2021-11-17 14:42:08,510 INFO Request is queued\n"
     ]
    },
    {
     "name": "stdout",
     "output_type": "stream",
     "text": [
      "[####################                    ] | 50% Completed |  6min 26.3s"
     ]
    },
    {
     "name": "stderr",
     "output_type": "stream",
     "text": [
      "2021-11-17 14:48:34,174 INFO Request is completed\n",
      "2021-11-17 14:48:34,175 INFO Downloading https://download-0013.copernicus-climate.eu/cache-compute-0013/cache/data1/adaptor.mars.external-1637113626.0120232-12433-2-8d1d67f8-9827-4632-8e0d-5eca4aaf8507.nc to /media/nicolasf/END19101/ICU/data/CDS/operational/hindcasts/ECCC_CanCM4i/TPRATE/ensemble_seas_forecasts_tprate_from_2005_10_ECCC.netcdf (1.1M)\n"
     ]
    },
    {
     "name": "stdout",
     "output_type": "stream",
     "text": [
      "[####################                    ] | 50% Completed |  6min 28.4s"
     ]
    },
    {
     "name": "stderr",
     "output_type": "stream",
     "text": [
      "  0%|          | 0.00/1.09M [00:00<?, ?B/s]"
     ]
    },
    {
     "name": "stdout",
     "output_type": "stream",
     "text": [
      "[####################                    ] | 50% Completed |  6min 28.8s"
     ]
    },
    {
     "name": "stderr",
     "output_type": "stream",
     "text": [
      "  1%|▏         | 16.0k/1.09M [00:00<00:27, 41.1kB/s]"
     ]
    },
    {
     "name": "stdout",
     "output_type": "stream",
     "text": [
      "[####################                    ] | 50% Completed |  6min 30.5s"
     ]
    },
    {
     "name": "stderr",
     "output_type": "stream",
     "text": [
      "  4%|▍         | 50.0k/1.09M [00:02<00:47, 22.9kB/s]"
     ]
    },
    {
     "name": "stdout",
     "output_type": "stream",
     "text": [
      "[####################                    ] | 50% Completed |  6min 30.9s"
     ]
    },
    {
     "name": "stderr",
     "output_type": "stream",
     "text": [
      "  9%|▉         | 106k/1.09M [00:02<00:21, 49.3kB/s] "
     ]
    },
    {
     "name": "stdout",
     "output_type": "stream",
     "text": [
      "[####################                    ] | 50% Completed |  6min 31.2s"
     ]
    },
    {
     "name": "stderr",
     "output_type": "stream",
     "text": [
      " 14%|█▍        | 162k/1.09M [00:02<00:12, 76.7kB/s]"
     ]
    },
    {
     "name": "stdout",
     "output_type": "stream",
     "text": [
      "[####################                    ] | 50% Completed |  6min 31.5s"
     ]
    },
    {
     "name": "stderr",
     "output_type": "stream",
     "text": [
      " 20%|█▉        | 218k/1.09M [00:03<00:09, 99.5kB/s]"
     ]
    },
    {
     "name": "stdout",
     "output_type": "stream",
     "text": [
      "[####################                    ] | 50% Completed |  6min 31.8s"
     ]
    },
    {
     "name": "stderr",
     "output_type": "stream",
     "text": [
      " 25%|██▍       | 278k/1.09M [00:03<00:06, 125kB/s] "
     ]
    },
    {
     "name": "stdout",
     "output_type": "stream",
     "text": [
      "[####################                    ] | 50% Completed |  6min 32.1s"
     ]
    },
    {
     "name": "stderr",
     "output_type": "stream",
     "text": [
      " 30%|██▉       | 334k/1.09M [00:03<00:05, 142kB/s]"
     ]
    },
    {
     "name": "stdout",
     "output_type": "stream",
     "text": [
      "[####################                    ] | 50% Completed |  6min 32.4s"
     ]
    },
    {
     "name": "stderr",
     "output_type": "stream",
     "text": [
      " 36%|███▌      | 398k/1.09M [00:04<00:04, 164kB/s]"
     ]
    },
    {
     "name": "stdout",
     "output_type": "stream",
     "text": [
      "[####################                    ] | 50% Completed |  6min 32.7s"
     ]
    },
    {
     "name": "stderr",
     "output_type": "stream",
     "text": [
      " 41%|████▏     | 462k/1.09M [00:04<00:03, 181kB/s]"
     ]
    },
    {
     "name": "stdout",
     "output_type": "stream",
     "text": [
      "[####################                    ] | 50% Completed |  6min 33.0s"
     ]
    },
    {
     "name": "stderr",
     "output_type": "stream",
     "text": [
      " 48%|████▊     | 531k/1.09M [00:04<00:03, 198kB/s]"
     ]
    },
    {
     "name": "stdout",
     "output_type": "stream",
     "text": [
      "[####################                    ] | 50% Completed |  6min 33.2s"
     ]
    },
    {
     "name": "stderr",
     "output_type": "stream",
     "text": [
      " 54%|█████▍    | 603k/1.09M [00:04<00:02, 213kB/s]"
     ]
    },
    {
     "name": "stdout",
     "output_type": "stream",
     "text": [
      "[####################                    ] | 50% Completed |  6min 33.5s"
     ]
    },
    {
     "name": "stderr",
     "output_type": "stream",
     "text": [
      " 60%|██████    | 675k/1.09M [00:05<00:02, 225kB/s]"
     ]
    },
    {
     "name": "stdout",
     "output_type": "stream",
     "text": [
      "[####################                    ] | 50% Completed |  6min 33.8s"
     ]
    },
    {
     "name": "stderr",
     "output_type": "stream",
     "text": [
      " 68%|██████▊   | 760k/1.09M [00:05<00:01, 246kB/s]"
     ]
    },
    {
     "name": "stdout",
     "output_type": "stream",
     "text": [
      "[####################                    ] | 50% Completed |  6min 34.1s"
     ]
    },
    {
     "name": "stderr",
     "output_type": "stream",
     "text": [
      " 75%|███████▌  | 840k/1.09M [00:05<00:01, 256kB/s]"
     ]
    },
    {
     "name": "stdout",
     "output_type": "stream",
     "text": [
      "[####################                    ] | 50% Completed |  6min 34.5s"
     ]
    },
    {
     "name": "stderr",
     "output_type": "stream",
     "text": [
      " 82%|████████▏ | 920k/1.09M [00:06<00:00, 249kB/s]"
     ]
    },
    {
     "name": "stdout",
     "output_type": "stream",
     "text": [
      "[####################                    ] | 50% Completed |  6min 34.8s"
     ]
    },
    {
     "name": "stderr",
     "output_type": "stream",
     "text": [
      " 87%|████████▋ | 976k/1.09M [00:06<00:00, 234kB/s]"
     ]
    },
    {
     "name": "stdout",
     "output_type": "stream",
     "text": [
      "[####################                    ] | 50% Completed |  6min 35.1s"
     ]
    },
    {
     "name": "stderr",
     "output_type": "stream",
     "text": [
      " 89%|████████▉ | 0.98M/1.09M [00:06<00:00, 185kB/s]"
     ]
    },
    {
     "name": "stdout",
     "output_type": "stream",
     "text": [
      "[####################                    ] | 50% Completed |  6min 35.6s"
     ]
    },
    {
     "name": "stderr",
     "output_type": "stream",
     "text": [
      " 99%|█████████▊| 1.08M/1.09M [00:07<00:00, 197kB/s]"
     ]
    },
    {
     "name": "stdout",
     "output_type": "stream",
     "text": [
      "[####################                    ] | 50% Completed |  6min 35.7s"
     ]
    },
    {
     "name": "stderr",
     "output_type": "stream",
     "text": [
      "2021-11-17 14:48:43,600 INFO Download rate 118.6K/s\n"
     ]
    },
    {
     "name": "stdout",
     "output_type": "stream",
     "text": [
      "[####################                    ] | 50% Completed |  6min 36.1s\n",
      "/media/nicolasf/END19101/ICU/data/CDS/operational/hindcasts/ECCC_CanCM4i/TPRATE/ensemble_seas_forecasts_tprate_from_2005_10_ECCC.netcdf downloaded OK\n",
      "\n",
      "[########################################] | 100% Completed |  6min 36.2s\n",
      "processing ECCC, path should be /media/nicolasf/END19101/ICU/data/CDS/operational/hindcasts/ECCC_CanCM4i/TPRATE\n",
      "processing ECCC, path should be /media/nicolasf/END19101/ICU/data/CDS/operational/hindcasts/ECCC_GEM_NEMO/TPRATE\n",
      "[                                        ] | 0% Completed |  0.0s\n",
      "/media/nicolasf/END19101/ICU/data/CDS/operational/hindcasts/ECCC_GEM_NEMO/TPRATE/ensemble_seas_forecasts_tprate_from_2006_10_ECCC.netcdf exists already on disk, skipping download and returning path\n",
      "\n",
      "attempting to download tprate for GCM ECCC, for level surface, year 2006, month 10, in netcdf, attempt 1 of 3\n",
      "\n",
      "\n",
      "[####################                    ] | 50% Completed |  0.2s"
     ]
    },
    {
     "name": "stderr",
     "output_type": "stream",
     "text": [
      "2021-11-17 14:48:44,383 INFO Welcome to the CDS\n",
      "2021-11-17 14:48:44,383 INFO Sending request to https://cds.climate.copernicus.eu/api/v2/resources/seasonal-monthly-single-levels\n"
     ]
    },
    {
     "name": "stdout",
     "output_type": "stream",
     "text": [
      "[####################                    ] | 50% Completed |  0.6s"
     ]
    },
    {
     "name": "stderr",
     "output_type": "stream",
     "text": [
      "2021-11-17 14:48:44,708 INFO Request is queued\n"
     ]
    },
    {
     "name": "stdout",
     "output_type": "stream",
     "text": [
      "[####################                    ] | 50% Completed | 35.9s"
     ]
    },
    {
     "name": "stderr",
     "output_type": "stream",
     "text": [
      "2021-11-17 14:49:20,003 INFO Request is running\n"
     ]
    },
    {
     "name": "stdout",
     "output_type": "stream",
     "text": [
      "[####################                    ] | 50% Completed |  1min 19.4s"
     ]
    },
    {
     "name": "stderr",
     "output_type": "stream",
     "text": [
      "2021-11-17 14:50:03,543 INFO Request is completed\n",
      "2021-11-17 14:50:03,543 INFO Downloading https://download-0007.copernicus-climate.eu/cache-compute-0007/cache/data5/adaptor.mars.external-1637113784.6755772-20000-10-61471fdc-549c-4372-af97-f481df18c7b6.nc to /media/nicolasf/END19101/ICU/data/CDS/operational/hindcasts/ECCC_CanCM4i/TPRATE/ensemble_seas_forecasts_tprate_from_2006_10_ECCC.netcdf (1.1M)\n"
     ]
    },
    {
     "name": "stdout",
     "output_type": "stream",
     "text": [
      "[####################                    ] | 50% Completed |  1min 21.3s"
     ]
    },
    {
     "name": "stderr",
     "output_type": "stream",
     "text": [
      "  0%|          | 0.00/1.09M [00:00<?, ?B/s]"
     ]
    },
    {
     "name": "stdout",
     "output_type": "stream",
     "text": [
      "[####################                    ] | 50% Completed |  1min 21.7s"
     ]
    },
    {
     "name": "stderr",
     "output_type": "stream",
     "text": [
      "  1%|▏         | 16.0k/1.09M [00:00<00:28, 39.9kB/s]"
     ]
    },
    {
     "name": "stdout",
     "output_type": "stream",
     "text": [
      "[####################                    ] | 50% Completed |  1min 22.1s"
     ]
    },
    {
     "name": "stderr",
     "output_type": "stream",
     "text": [
      "  5%|▌         | 58.0k/1.09M [00:00<00:13, 78.3kB/s]"
     ]
    },
    {
     "name": "stdout",
     "output_type": "stream",
     "text": [
      "[####################                    ] | 50% Completed |  1min 22.5s"
     ]
    },
    {
     "name": "stderr",
     "output_type": "stream",
     "text": [
      " 10%|█         | 114k/1.09M [00:01<00:09, 107kB/s]  "
     ]
    },
    {
     "name": "stdout",
     "output_type": "stream",
     "text": [
      "[####################                    ] | 50% Completed |  1min 23.1s"
     ]
    },
    {
     "name": "stderr",
     "output_type": "stream",
     "text": [
      " 16%|█▌        | 178k/1.09M [00:01<00:08, 116kB/s]"
     ]
    },
    {
     "name": "stdout",
     "output_type": "stream",
     "text": [
      "[####################                    ] | 50% Completed |  1min 24.0s"
     ]
    },
    {
     "name": "stderr",
     "output_type": "stream",
     "text": [
      " 21%|██        | 234k/1.09M [00:02<00:10, 87.3kB/s]"
     ]
    },
    {
     "name": "stdout",
     "output_type": "stream",
     "text": [
      "[####################                    ] | 50% Completed |  1min 24.4s"
     ]
    },
    {
     "name": "stderr",
     "output_type": "stream",
     "text": [
      " 30%|██▉       | 334k/1.09M [00:03<00:06, 129kB/s] "
     ]
    },
    {
     "name": "stdout",
     "output_type": "stream",
     "text": [
      "[####################                    ] | 50% Completed |  1min 24.6s"
     ]
    },
    {
     "name": "stderr",
     "output_type": "stream",
     "text": [
      " 34%|███▍      | 382k/1.09M [00:03<00:05, 137kB/s]"
     ]
    },
    {
     "name": "stdout",
     "output_type": "stream",
     "text": [
      "[####################                    ] | 50% Completed |  1min 25.0s"
     ]
    },
    {
     "name": "stderr",
     "output_type": "stream",
     "text": [
      " 38%|███▊      | 422k/1.09M [00:03<00:05, 134kB/s]"
     ]
    },
    {
     "name": "stdout",
     "output_type": "stream",
     "text": [
      "[####################                    ] | 50% Completed |  1min 25.3s"
     ]
    },
    {
     "name": "stderr",
     "output_type": "stream",
     "text": [
      " 43%|████▎     | 478k/1.09M [00:03<00:04, 147kB/s]"
     ]
    },
    {
     "name": "stdout",
     "output_type": "stream",
     "text": [
      "[####################                    ] | 50% Completed |  1min 25.7s"
     ]
    },
    {
     "name": "stderr",
     "output_type": "stream",
     "text": [
      " 48%|████▊     | 531k/1.09M [00:04<00:04, 143kB/s]"
     ]
    },
    {
     "name": "stdout",
     "output_type": "stream",
     "text": [
      "[####################                    ] | 50% Completed |  1min 26.6s"
     ]
    },
    {
     "name": "stderr",
     "output_type": "stream",
     "text": [
      " 53%|█████▎    | 595k/1.09M [00:05<00:05, 106kB/s]"
     ]
    },
    {
     "name": "stdout",
     "output_type": "stream",
     "text": [
      "[####################                    ] | 50% Completed |  1min 26.9s"
     ]
    },
    {
     "name": "stderr",
     "output_type": "stream",
     "text": [
      " 63%|██████▎   | 699k/1.09M [00:05<00:02, 153kB/s]"
     ]
    },
    {
     "name": "stdout",
     "output_type": "stream",
     "text": [
      "[####################                    ] | 50% Completed |  1min 27.3s"
     ]
    },
    {
     "name": "stderr",
     "output_type": "stream",
     "text": [
      " 66%|██████▌   | 739k/1.09M [00:06<00:02, 139kB/s]"
     ]
    },
    {
     "name": "stdout",
     "output_type": "stream",
     "text": [
      "[####################                    ] | 50% Completed |  1min 27.7s"
     ]
    },
    {
     "name": "stderr",
     "output_type": "stream",
     "text": [
      " 70%|███████   | 784k/1.09M [00:06<00:02, 131kB/s]"
     ]
    },
    {
     "name": "stdout",
     "output_type": "stream",
     "text": [
      "[####################                    ] | 50% Completed |  1min 28.0s"
     ]
    },
    {
     "name": "stderr",
     "output_type": "stream",
     "text": [
      " 74%|███████▍  | 832k/1.09M [00:06<00:02, 140kB/s]"
     ]
    },
    {
     "name": "stdout",
     "output_type": "stream",
     "text": [
      "[####################                    ] | 50% Completed |  1min 28.3s"
     ]
    },
    {
     "name": "stderr",
     "output_type": "stream",
     "text": [
      " 79%|███████▉  | 880k/1.09M [00:07<00:01, 143kB/s]"
     ]
    },
    {
     "name": "stdout",
     "output_type": "stream",
     "text": [
      "[####################                    ] | 50% Completed |  1min 28.8s"
     ]
    },
    {
     "name": "stderr",
     "output_type": "stream",
     "text": [
      " 84%|████████▍ | 936k/1.09M [00:07<00:01, 140kB/s]"
     ]
    },
    {
     "name": "stdout",
     "output_type": "stream",
     "text": [
      "[####################                    ] | 50% Completed |  1min 29.1s"
     ]
    },
    {
     "name": "stderr",
     "output_type": "stream",
     "text": [
      " 88%|████████▊ | 984k/1.09M [00:07<00:01, 135kB/s]"
     ]
    },
    {
     "name": "stdout",
     "output_type": "stream",
     "text": [
      "[####################                    ] | 50% Completed |  1min 29.5s"
     ]
    },
    {
     "name": "stderr",
     "output_type": "stream",
     "text": [
      " 92%|█████████▏| 1.01M/1.09M [00:08<00:00, 141kB/s]"
     ]
    },
    {
     "name": "stdout",
     "output_type": "stream",
     "text": [
      "[####################                    ] | 50% Completed |  1min 29.9s"
     ]
    },
    {
     "name": "stderr",
     "output_type": "stream",
     "text": [
      " 97%|█████████▋| 1.05M/1.09M [00:08<00:00, 134kB/s]"
     ]
    },
    {
     "name": "stdout",
     "output_type": "stream",
     "text": [
      "[####################                    ] | 50% Completed |  1min 30.1s"
     ]
    },
    {
     "name": "stderr",
     "output_type": "stream",
     "text": [
      "2021-11-17 14:50:14,144 INFO Download rate 105.4K/s\n"
     ]
    },
    {
     "name": "stdout",
     "output_type": "stream",
     "text": [
      "[####################                    ] | 50% Completed |  1min 30.5s\n",
      "/media/nicolasf/END19101/ICU/data/CDS/operational/hindcasts/ECCC_CanCM4i/TPRATE/ensemble_seas_forecasts_tprate_from_2006_10_ECCC.netcdf downloaded OK\n",
      "\n",
      "[########################################] | 100% Completed |  1min 30.6s\n",
      "processing ECCC, path should be /media/nicolasf/END19101/ICU/data/CDS/operational/hindcasts/ECCC_CanCM4i/TPRATE\n",
      "processing ECCC, path should be /media/nicolasf/END19101/ICU/data/CDS/operational/hindcasts/ECCC_GEM_NEMO/TPRATE\n",
      "[                                        ] | 0% Completed |  0.0s\n",
      "/media/nicolasf/END19101/ICU/data/CDS/operational/hindcasts/ECCC_GEM_NEMO/TPRATE/ensemble_seas_forecasts_tprate_from_2007_10_ECCC.netcdf exists already on disk, skipping download and returning path\n",
      "\n",
      "\n",
      "attempting to download tprate for GCM ECCC, for level surface, year 2007, month 10, in netcdf, attempt 1 of 3\n",
      "\n",
      "[####################                    ] | 50% Completed |  0.3s"
     ]
    },
    {
     "name": "stderr",
     "output_type": "stream",
     "text": [
      "2021-11-17 14:50:14,955 INFO Welcome to the CDS\n",
      "2021-11-17 14:50:14,955 INFO Sending request to https://cds.climate.copernicus.eu/api/v2/resources/seasonal-monthly-single-levels\n"
     ]
    },
    {
     "name": "stdout",
     "output_type": "stream",
     "text": [
      "[####################                    ] | 50% Completed |  0.7s"
     ]
    },
    {
     "name": "stderr",
     "output_type": "stream",
     "text": [
      "2021-11-17 14:50:15,370 INFO Request is queued\n"
     ]
    },
    {
     "name": "stdout",
     "output_type": "stream",
     "text": [
      "[####################                    ] | 50% Completed | 10.2s"
     ]
    },
    {
     "name": "stderr",
     "output_type": "stream",
     "text": [
      "2021-11-17 14:50:24,893 INFO Request is running\n"
     ]
    },
    {
     "name": "stdout",
     "output_type": "stream",
     "text": [
      "[####################                    ] | 50% Completed | 23.7s"
     ]
    },
    {
     "name": "stderr",
     "output_type": "stream",
     "text": [
      "2021-11-17 14:50:38,326 INFO Request is completed\n",
      "2021-11-17 14:50:38,327 INFO Downloading https://download-0007.copernicus-climate.eu/cache-compute-0007/cache/data1/adaptor.mars.external-1637113835.6000156-10662-15-681595be-e597-4a45-83b1-9cddcd1696a0.nc to /media/nicolasf/END19101/ICU/data/CDS/operational/hindcasts/ECCC_CanCM4i/TPRATE/ensemble_seas_forecasts_tprate_from_2007_10_ECCC.netcdf (1.1M)\n"
     ]
    },
    {
     "name": "stdout",
     "output_type": "stream",
     "text": [
      "[####################                    ] | 50% Completed | 24.2s"
     ]
    },
    {
     "name": "stderr",
     "output_type": "stream",
     "text": [
      "  0%|          | 0.00/1.09M [00:00<?, ?B/s]"
     ]
    },
    {
     "name": "stdout",
     "output_type": "stream",
     "text": [
      "[####################                    ] | 50% Completed | 24.6s"
     ]
    },
    {
     "name": "stderr",
     "output_type": "stream",
     "text": [
      "  1%|          | 8.00k/1.09M [00:00<00:56, 20.3kB/s]"
     ]
    },
    {
     "name": "stdout",
     "output_type": "stream",
     "text": [
      "[####################                    ] | 50% Completed | 24.8s"
     ]
    },
    {
     "name": "stderr",
     "output_type": "stream",
     "text": [
      "  3%|▎         | 32.0k/1.09M [00:00<00:20, 53.0kB/s]"
     ]
    },
    {
     "name": "stdout",
     "output_type": "stream",
     "text": [
      "[####################                    ] | 50% Completed | 25.3s"
     ]
    },
    {
     "name": "stderr",
     "output_type": "stream",
     "text": [
      "  7%|▋         | 77.0k/1.09M [00:01<00:13, 81.1kB/s]"
     ]
    },
    {
     "name": "stdout",
     "output_type": "stream",
     "text": [
      "[####################                    ] | 50% Completed | 25.7s"
     ]
    },
    {
     "name": "stderr",
     "output_type": "stream",
     "text": [
      " 11%|█         | 125k/1.09M [00:01<00:10, 97.2kB/s] "
     ]
    },
    {
     "name": "stdout",
     "output_type": "stream",
     "text": [
      "[####################                    ] | 50% Completed | 26.1s"
     ]
    },
    {
     "name": "stderr",
     "output_type": "stream",
     "text": [
      " 15%|█▌        | 173k/1.09M [00:01<00:09, 106kB/s] "
     ]
    },
    {
     "name": "stdout",
     "output_type": "stream",
     "text": [
      "[####################                    ] | 50% Completed | 26.5s"
     ]
    },
    {
     "name": "stderr",
     "output_type": "stream",
     "text": [
      " 20%|██        | 229k/1.09M [00:02<00:07, 118kB/s]"
     ]
    },
    {
     "name": "stdout",
     "output_type": "stream",
     "text": [
      "[####################                    ] | 50% Completed | 26.8s"
     ]
    },
    {
     "name": "stderr",
     "output_type": "stream",
     "text": [
      " 25%|██▍       | 278k/1.09M [00:02<00:06, 132kB/s]"
     ]
    },
    {
     "name": "stdout",
     "output_type": "stream",
     "text": [
      "[####################                    ] | 50% Completed | 27.2s"
     ]
    },
    {
     "name": "stderr",
     "output_type": "stream",
     "text": [
      " 30%|██▉       | 334k/1.09M [00:03<00:06, 133kB/s]"
     ]
    },
    {
     "name": "stdout",
     "output_type": "stream",
     "text": [
      "[####################                    ] | 50% Completed | 28.0s"
     ]
    },
    {
     "name": "stderr",
     "output_type": "stream",
     "text": [
      " 35%|███▍      | 390k/1.09M [00:03<00:07, 102kB/s]"
     ]
    },
    {
     "name": "stdout",
     "output_type": "stream",
     "text": [
      "[####################                    ] | 50% Completed | 28.4s"
     ]
    },
    {
     "name": "stderr",
     "output_type": "stream",
     "text": [
      " 41%|████      | 454k/1.09M [00:04<00:05, 118kB/s]"
     ]
    },
    {
     "name": "stdout",
     "output_type": "stream",
     "text": [
      "[####################                    ] | 50% Completed | 28.7s"
     ]
    },
    {
     "name": "stderr",
     "output_type": "stream",
     "text": [
      " 48%|████▊     | 539k/1.09M [00:04<00:03, 155kB/s]"
     ]
    },
    {
     "name": "stdout",
     "output_type": "stream",
     "text": [
      "[####################                    ] | 50% Completed | 29.1s"
     ]
    },
    {
     "name": "stderr",
     "output_type": "stream",
     "text": [
      " 53%|█████▎    | 587k/1.09M [00:05<00:03, 143kB/s]"
     ]
    },
    {
     "name": "stdout",
     "output_type": "stream",
     "text": [
      "[####################                    ] | 50% Completed | 29.4s"
     ]
    },
    {
     "name": "stderr",
     "output_type": "stream",
     "text": [
      " 57%|█████▋    | 635k/1.09M [00:05<00:03, 147kB/s]"
     ]
    },
    {
     "name": "stdout",
     "output_type": "stream",
     "text": [
      "[####################                    ] | 50% Completed | 29.8s"
     ]
    },
    {
     "name": "stderr",
     "output_type": "stream",
     "text": [
      " 61%|██████    | 683k/1.09M [00:05<00:02, 150kB/s]"
     ]
    },
    {
     "name": "stdout",
     "output_type": "stream",
     "text": [
      "[####################                    ] | 50% Completed | 30.2s"
     ]
    },
    {
     "name": "stderr",
     "output_type": "stream",
     "text": [
      " 65%|██████▌   | 731k/1.09M [00:06<00:02, 140kB/s]"
     ]
    },
    {
     "name": "stdout",
     "output_type": "stream",
     "text": [
      "[####################                    ] | 50% Completed | 30.6s"
     ]
    },
    {
     "name": "stderr",
     "output_type": "stream",
     "text": [
      " 70%|███████   | 784k/1.09M [00:06<00:02, 138kB/s]"
     ]
    },
    {
     "name": "stdout",
     "output_type": "stream",
     "text": [
      "[####################                    ] | 50% Completed | 31.0s"
     ]
    },
    {
     "name": "stderr",
     "output_type": "stream",
     "text": [
      " 75%|███████▌  | 840k/1.09M [00:06<00:02, 138kB/s]"
     ]
    },
    {
     "name": "stdout",
     "output_type": "stream",
     "text": [
      "[####################                    ] | 50% Completed | 31.8s"
     ]
    },
    {
     "name": "stderr",
     "output_type": "stream",
     "text": [
      " 80%|████████  | 896k/1.09M [00:07<00:02, 106kB/s]"
     ]
    },
    {
     "name": "stdout",
     "output_type": "stream",
     "text": [
      "[####################                    ] | 50% Completed | 32.2s"
     ]
    },
    {
     "name": "stderr",
     "output_type": "stream",
     "text": [
      " 86%|████████▌ | 960k/1.09M [00:08<00:01, 120kB/s]"
     ]
    },
    {
     "name": "stdout",
     "output_type": "stream",
     "text": [
      "[####################                    ] | 50% Completed | 32.5s"
     ]
    },
    {
     "name": "stderr",
     "output_type": "stream",
     "text": [
      " 93%|█████████▎| 1.01M/1.09M [00:08<00:00, 150kB/s]"
     ]
    },
    {
     "name": "stdout",
     "output_type": "stream",
     "text": [
      "[####################                    ] | 50% Completed | 32.9s"
     ]
    },
    {
     "name": "stderr",
     "output_type": "stream",
     "text": [
      " 97%|█████████▋| 1.06M/1.09M [00:08<00:00, 142kB/s]"
     ]
    },
    {
     "name": "stdout",
     "output_type": "stream",
     "text": [
      "[####################                    ] | 50% Completed | 33.0s"
     ]
    },
    {
     "name": "stderr",
     "output_type": "stream",
     "text": [
      "2021-11-17 14:50:47,732 INFO Download rate 118.8K/s\n"
     ]
    },
    {
     "name": "stdout",
     "output_type": "stream",
     "text": [
      "[####################                    ] | 50% Completed | 33.4s\n",
      "/media/nicolasf/END19101/ICU/data/CDS/operational/hindcasts/ECCC_CanCM4i/TPRATE/ensemble_seas_forecasts_tprate_from_2007_10_ECCC.netcdf downloaded OK\n",
      "\n",
      "[########################################] | 100% Completed | 33.5s\n",
      "processing ECCC, path should be /media/nicolasf/END19101/ICU/data/CDS/operational/hindcasts/ECCC_CanCM4i/TPRATE\n",
      "processing ECCC, path should be /media/nicolasf/END19101/ICU/data/CDS/operational/hindcasts/ECCC_GEM_NEMO/TPRATE\n",
      "[                                        ] | 0% Completed |  0.0s\n",
      "/media/nicolasf/END19101/ICU/data/CDS/operational/hindcasts/ECCC_GEM_NEMO/TPRATE/ensemble_seas_forecasts_tprate_from_2008_10_ECCC.netcdf exists already on disk, skipping download and returning path\n",
      "\n",
      "\n",
      "attempting to download tprate for GCM ECCC, for level surface, year 2008, month 10, in netcdf, attempt 1 of 3\n",
      "\n",
      "[####################                    ] | 50% Completed |  0.3s"
     ]
    },
    {
     "name": "stderr",
     "output_type": "stream",
     "text": [
      "2021-11-17 14:50:48,551 INFO Welcome to the CDS\n",
      "2021-11-17 14:50:48,552 INFO Sending request to https://cds.climate.copernicus.eu/api/v2/resources/seasonal-monthly-single-levels\n"
     ]
    },
    {
     "name": "stdout",
     "output_type": "stream",
     "text": [
      "[####################                    ] | 50% Completed |  0.7s"
     ]
    },
    {
     "name": "stderr",
     "output_type": "stream",
     "text": [
      "2021-11-17 14:50:48,961 INFO Request is queued\n"
     ]
    },
    {
     "name": "stdout",
     "output_type": "stream",
     "text": [
      "[####################                    ] | 50% Completed | 23.8s"
     ]
    },
    {
     "name": "stderr",
     "output_type": "stream",
     "text": [
      "2021-11-17 14:51:12,001 INFO Request is running\n"
     ]
    },
    {
     "name": "stdout",
     "output_type": "stream",
     "text": [
      "[####################                    ] | 50% Completed |  1min 19.1s"
     ]
    },
    {
     "name": "stderr",
     "output_type": "stream",
     "text": [
      "2021-11-17 14:52:07,300 INFO Request is completed\n",
      "2021-11-17 14:52:07,301 INFO Downloading https://download-0014.copernicus-climate.eu/cache-compute-0014/cache/data7/adaptor.mars.external-1637113906.273249-5557-16-46bfaa2b-0904-461f-8583-cd66aa138ddc.nc to /media/nicolasf/END19101/ICU/data/CDS/operational/hindcasts/ECCC_CanCM4i/TPRATE/ensemble_seas_forecasts_tprate_from_2008_10_ECCC.netcdf (1.1M)\n"
     ]
    },
    {
     "name": "stdout",
     "output_type": "stream",
     "text": [
      "[####################                    ] | 50% Completed |  1min 21.1s"
     ]
    },
    {
     "name": "stderr",
     "output_type": "stream",
     "text": [
      "  0%|          | 0.00/1.09M [00:00<?, ?B/s]"
     ]
    },
    {
     "name": "stdout",
     "output_type": "stream",
     "text": [
      "[####################                    ] | 50% Completed |  1min 21.5s"
     ]
    },
    {
     "name": "stderr",
     "output_type": "stream",
     "text": [
      "  1%|▏         | 16.0k/1.09M [00:00<00:28, 40.1kB/s]"
     ]
    },
    {
     "name": "stdout",
     "output_type": "stream",
     "text": [
      "[####################                    ] | 50% Completed |  1min 21.9s"
     ]
    },
    {
     "name": "stderr",
     "output_type": "stream",
     "text": [
      "  5%|▌         | 58.0k/1.09M [00:00<00:13, 78.3kB/s]"
     ]
    },
    {
     "name": "stdout",
     "output_type": "stream",
     "text": [
      "[####################                    ] | 50% Completed |  1min 22.3s"
     ]
    },
    {
     "name": "stderr",
     "output_type": "stream",
     "text": [
      "  9%|▉         | 98.0k/1.09M [00:01<00:11, 88.2kB/s]"
     ]
    },
    {
     "name": "stdout",
     "output_type": "stream",
     "text": [
      "[####################                    ] | 50% Completed |  1min 22.9s"
     ]
    },
    {
     "name": "stderr",
     "output_type": "stream",
     "text": [
      " 13%|█▎        | 146k/1.09M [00:01<00:10, 91.5kB/s] "
     ]
    },
    {
     "name": "stdout",
     "output_type": "stream",
     "text": [
      "[####################                    ] | 50% Completed |  1min 23.3s"
     ]
    },
    {
     "name": "stderr",
     "output_type": "stream",
     "text": [
      " 17%|█▋        | 194k/1.09M [00:02<00:09, 101kB/s] "
     ]
    },
    {
     "name": "stdout",
     "output_type": "stream",
     "text": [
      "[####################                    ] | 50% Completed |  1min 23.7s"
     ]
    },
    {
     "name": "stderr",
     "output_type": "stream",
     "text": [
      " 22%|██▏       | 242k/1.09M [00:02<00:08, 107kB/s]"
     ]
    },
    {
     "name": "stdout",
     "output_type": "stream",
     "text": [
      "[####################                    ] | 50% Completed |  1min 24.1s"
     ]
    },
    {
     "name": "stderr",
     "output_type": "stream",
     "text": [
      " 26%|██▋       | 294k/1.09M [00:02<00:07, 115kB/s]"
     ]
    },
    {
     "name": "stdout",
     "output_type": "stream",
     "text": [
      "[####################                    ] | 50% Completed |  1min 24.5s"
     ]
    },
    {
     "name": "stderr",
     "output_type": "stream",
     "text": [
      " 31%|███       | 342k/1.09M [00:03<00:06, 116kB/s]"
     ]
    },
    {
     "name": "stdout",
     "output_type": "stream",
     "text": [
      "[####################                    ] | 50% Completed |  1min 24.9s"
     ]
    },
    {
     "name": "stderr",
     "output_type": "stream",
     "text": [
      " 36%|███▌      | 398k/1.09M [00:03<00:05, 124kB/s]"
     ]
    },
    {
     "name": "stdout",
     "output_type": "stream",
     "text": [
      "[####################                    ] | 50% Completed |  1min 25.4s"
     ]
    },
    {
     "name": "stderr",
     "output_type": "stream",
     "text": [
      " 41%|████      | 454k/1.09M [00:04<00:05, 119kB/s]"
     ]
    },
    {
     "name": "stdout",
     "output_type": "stream",
     "text": [
      "[####################                    ] | 50% Completed |  1min 25.8s"
     ]
    },
    {
     "name": "stderr",
     "output_type": "stream",
     "text": [
      " 45%|████▌     | 507k/1.09M [00:04<00:05, 123kB/s]"
     ]
    },
    {
     "name": "stdout",
     "output_type": "stream",
     "text": [
      "[####################                    ] | 50% Completed |  1min 26.1s"
     ]
    },
    {
     "name": "stderr",
     "output_type": "stream",
     "text": [
      " 51%|█████     | 571k/1.09M [00:05<00:03, 142kB/s]"
     ]
    },
    {
     "name": "stdout",
     "output_type": "stream",
     "text": [
      "[####################                    ] | 50% Completed |  1min 27.4s"
     ]
    },
    {
     "name": "stderr",
     "output_type": "stream",
     "text": [
      " 56%|█████▌    | 627k/1.09M [00:06<00:05, 84.5kB/s]"
     ]
    },
    {
     "name": "stdout",
     "output_type": "stream",
     "text": [
      "[####################                    ] | 50% Completed |  1min 27.8s"
     ]
    },
    {
     "name": "stderr",
     "output_type": "stream",
     "text": [
      " 62%|██████▏   | 691k/1.09M [00:06<00:04, 100kB/s] "
     ]
    },
    {
     "name": "stdout",
     "output_type": "stream",
     "text": [
      "[####################                    ] | 50% Completed |  1min 28.2s"
     ]
    },
    {
     "name": "stderr",
     "output_type": "stream",
     "text": [
      " 74%|███████▍  | 832k/1.09M [00:07<00:01, 158kB/s]"
     ]
    },
    {
     "name": "stdout",
     "output_type": "stream",
     "text": [
      "[####################                    ] | 50% Completed |  1min 28.7s"
     ]
    },
    {
     "name": "stderr",
     "output_type": "stream",
     "text": [
      " 79%|███████▉  | 880k/1.09M [00:07<00:01, 149kB/s]"
     ]
    },
    {
     "name": "stdout",
     "output_type": "stream",
     "text": [
      "[####################                    ] | 50% Completed |  1min 29.2s"
     ]
    },
    {
     "name": "stderr",
     "output_type": "stream",
     "text": [
      " 83%|████████▎ | 928k/1.09M [00:07<00:01, 141kB/s]"
     ]
    },
    {
     "name": "stdout",
     "output_type": "stream",
     "text": [
      "[####################                    ] | 50% Completed |  1min 29.7s"
     ]
    },
    {
     "name": "stderr",
     "output_type": "stream",
     "text": [
      " 88%|████████▊ | 984k/1.09M [00:08<00:01, 131kB/s]"
     ]
    },
    {
     "name": "stdout",
     "output_type": "stream",
     "text": [
      "[####################                    ] | 50% Completed |  1min 30.7s"
     ]
    },
    {
     "name": "stderr",
     "output_type": "stream",
     "text": [
      " 94%|█████████▎| 1.02M/1.09M [00:09<00:00, 99.3kB/s]"
     ]
    },
    {
     "name": "stdout",
     "output_type": "stream",
     "text": [
      "[####################                    ] | 50% Completed |  1min 31.1s"
     ]
    },
    {
     "name": "stderr",
     "output_type": "stream",
     "text": [
      " 99%|█████████▉| 1.08M/1.09M [00:09<00:00, 112kB/s] "
     ]
    },
    {
     "name": "stdout",
     "output_type": "stream",
     "text": [
      "[####################                    ] | 50% Completed |  1min 31.2s"
     ]
    },
    {
     "name": "stderr",
     "output_type": "stream",
     "text": [
      "2021-11-17 14:52:19,390 INFO Download rate 92.4K/s \n"
     ]
    },
    {
     "name": "stdout",
     "output_type": "stream",
     "text": [
      "[####################                    ] | 50% Completed |  1min 31.6s\n",
      "/media/nicolasf/END19101/ICU/data/CDS/operational/hindcasts/ECCC_CanCM4i/TPRATE/ensemble_seas_forecasts_tprate_from_2008_10_ECCC.netcdf downloaded OK\n",
      "\n",
      "[########################################] | 100% Completed |  1min 31.7s\n",
      "processing ECCC, path should be /media/nicolasf/END19101/ICU/data/CDS/operational/hindcasts/ECCC_CanCM4i/TPRATE\n",
      "processing ECCC, path should be /media/nicolasf/END19101/ICU/data/CDS/operational/hindcasts/ECCC_GEM_NEMO/TPRATE\n",
      "[                                        ] | 0% Completed |  0.0s\n",
      "/media/nicolasf/END19101/ICU/data/CDS/operational/hindcasts/ECCC_GEM_NEMO/TPRATE/ensemble_seas_forecasts_tprate_from_2009_10_ECCC.netcdf exists already on disk, skipping download and returning path\n",
      "\n",
      "\n",
      "attempting to download tprate for GCM ECCC, for level surface, year 2009, month 10, in netcdf, attempt 1 of 3\n",
      "\n",
      "[####################                    ] | 50% Completed |  0.4s"
     ]
    },
    {
     "name": "stderr",
     "output_type": "stream",
     "text": [
      "2021-11-17 14:52:20,306 INFO Welcome to the CDS\n",
      "2021-11-17 14:52:20,306 INFO Sending request to https://cds.climate.copernicus.eu/api/v2/resources/seasonal-monthly-single-levels\n"
     ]
    },
    {
     "name": "stdout",
     "output_type": "stream",
     "text": [
      "[####################                    ] | 50% Completed |  0.7s"
     ]
    },
    {
     "name": "stderr",
     "output_type": "stream",
     "text": [
      "2021-11-17 14:52:20,613 INFO Request is queued\n"
     ]
    },
    {
     "name": "stdout",
     "output_type": "stream",
     "text": [
      "[####################                    ] | 50% Completed | 15.9s"
     ]
    },
    {
     "name": "stderr",
     "output_type": "stream",
     "text": [
      "2021-11-17 14:52:35,877 INFO Request is running\n"
     ]
    },
    {
     "name": "stdout",
     "output_type": "stream",
     "text": [
      "[####################                    ] | 50% Completed | 35.7s"
     ]
    },
    {
     "name": "stderr",
     "output_type": "stream",
     "text": [
      "2021-11-17 14:52:55,533 INFO Request is completed\n",
      "2021-11-17 14:52:55,533 INFO Downloading https://download-0000.copernicus-climate.eu/cache-compute-0000/cache/data3/adaptor.mars.external-1637113974.2050402-32445-2-48b69365-a520-4031-9880-0735bd40fe8d.nc to /media/nicolasf/END19101/ICU/data/CDS/operational/hindcasts/ECCC_CanCM4i/TPRATE/ensemble_seas_forecasts_tprate_from_2009_10_ECCC.netcdf (1.1M)\n"
     ]
    },
    {
     "name": "stdout",
     "output_type": "stream",
     "text": [
      "[####################                    ] | 50% Completed | 37.8s"
     ]
    },
    {
     "name": "stderr",
     "output_type": "stream",
     "text": [
      "  0%|          | 0.00/1.09M [00:00<?, ?B/s]"
     ]
    },
    {
     "name": "stdout",
     "output_type": "stream",
     "text": [
      "[####################                    ] | 50% Completed | 38.2s"
     ]
    },
    {
     "name": "stderr",
     "output_type": "stream",
     "text": [
      "  1%|▏         | 16.0k/1.09M [00:00<00:28, 40.0kB/s]"
     ]
    },
    {
     "name": "stdout",
     "output_type": "stream",
     "text": [
      "[####################                    ] | 50% Completed | 38.5s"
     ]
    },
    {
     "name": "stderr",
     "output_type": "stream",
     "text": [
      "  5%|▍         | 53.0k/1.09M [00:00<00:12, 84.2kB/s]"
     ]
    },
    {
     "name": "stdout",
     "output_type": "stream",
     "text": [
      "[####################                    ] | 50% Completed | 38.8s"
     ]
    },
    {
     "name": "stderr",
     "output_type": "stream",
     "text": [
      " 10%|█         | 113k/1.09M [00:01<00:07, 131kB/s]  "
     ]
    },
    {
     "name": "stdout",
     "output_type": "stream",
     "text": [
      "[####################                    ] | 50% Completed | 39.2s"
     ]
    },
    {
     "name": "stderr",
     "output_type": "stream",
     "text": [
      " 14%|█▍        | 161k/1.09M [00:01<00:07, 127kB/s]"
     ]
    },
    {
     "name": "stdout",
     "output_type": "stream",
     "text": [
      "[####################                    ] | 50% Completed | 39.6s"
     ]
    },
    {
     "name": "stderr",
     "output_type": "stream",
     "text": [
      " 19%|█▉        | 217k/1.09M [00:01<00:06, 132kB/s]"
     ]
    },
    {
     "name": "stdout",
     "output_type": "stream",
     "text": [
      "[####################                    ] | 50% Completed | 40.0s"
     ]
    },
    {
     "name": "stderr",
     "output_type": "stream",
     "text": [
      " 25%|██▍       | 278k/1.09M [00:02<00:06, 139kB/s]"
     ]
    },
    {
     "name": "stdout",
     "output_type": "stream",
     "text": [
      "[####################                    ] | 50% Completed | 40.5s"
     ]
    },
    {
     "name": "stderr",
     "output_type": "stream",
     "text": [
      " 30%|██▉       | 334k/1.09M [00:02<00:06, 129kB/s]"
     ]
    },
    {
     "name": "stdout",
     "output_type": "stream",
     "text": [
      "[####################                    ] | 50% Completed | 40.9s"
     ]
    },
    {
     "name": "stderr",
     "output_type": "stream",
     "text": [
      " 35%|███▍      | 390k/1.09M [00:03<00:05, 132kB/s]"
     ]
    },
    {
     "name": "stdout",
     "output_type": "stream",
     "text": [
      "[####################                    ] | 50% Completed | 41.7s"
     ]
    },
    {
     "name": "stderr",
     "output_type": "stream",
     "text": [
      " 40%|███▉      | 446k/1.09M [00:03<00:06, 109kB/s]"
     ]
    },
    {
     "name": "stdout",
     "output_type": "stream",
     "text": [
      "[####################                    ] | 50% Completed | 42.1s"
     ]
    },
    {
     "name": "stderr",
     "output_type": "stream",
     "text": [
      " 50%|█████     | 563k/1.09M [00:04<00:03, 157kB/s]"
     ]
    },
    {
     "name": "stdout",
     "output_type": "stream",
     "text": [
      "[####################                    ] | 50% Completed | 42.5s"
     ]
    },
    {
     "name": "stderr",
     "output_type": "stream",
     "text": [
      " 55%|█████▍    | 611k/1.09M [00:04<00:03, 147kB/s]"
     ]
    },
    {
     "name": "stdout",
     "output_type": "stream",
     "text": [
      "[####################                    ] | 50% Completed | 42.9s"
     ]
    },
    {
     "name": "stderr",
     "output_type": "stream",
     "text": [
      " 60%|█████▉    | 667k/1.09M [00:05<00:03, 145kB/s]"
     ]
    },
    {
     "name": "stdout",
     "output_type": "stream",
     "text": [
      "[####################                    ] | 50% Completed | 43.7s"
     ]
    },
    {
     "name": "stderr",
     "output_type": "stream",
     "text": [
      " 65%|██████▍   | 723k/1.09M [00:05<00:03, 112kB/s]"
     ]
    },
    {
     "name": "stdout",
     "output_type": "stream",
     "text": [
      "[####################                    ] | 50% Completed | 44.2s"
     ]
    },
    {
     "name": "stderr",
     "output_type": "stream",
     "text": [
      " 70%|███████   | 784k/1.09M [00:06<00:02, 115kB/s]"
     ]
    },
    {
     "name": "stdout",
     "output_type": "stream",
     "text": [
      "[####################                    ] | 50% Completed | 44.7s"
     ]
    },
    {
     "name": "stderr",
     "output_type": "stream",
     "text": [
      " 78%|███████▊  | 870k/1.09M [00:06<00:01, 131kB/s]"
     ]
    },
    {
     "name": "stdout",
     "output_type": "stream",
     "text": [
      "[####################                    ] | 50% Completed | 45.2s"
     ]
    },
    {
     "name": "stderr",
     "output_type": "stream",
     "text": [
      " 82%|████████▏ | 917k/1.09M [00:07<00:01, 120kB/s]"
     ]
    },
    {
     "name": "stdout",
     "output_type": "stream",
     "text": [
      "[####################                    ] | 50% Completed | 45.7s"
     ]
    },
    {
     "name": "stderr",
     "output_type": "stream",
     "text": [
      " 88%|████████▊ | 978k/1.09M [00:07<00:01, 120kB/s]"
     ]
    },
    {
     "name": "stdout",
     "output_type": "stream",
     "text": [
      "[####################                    ] | 50% Completed | 46.1s"
     ]
    },
    {
     "name": "stderr",
     "output_type": "stream",
     "text": [
      " 92%|█████████▏| 1.01M/1.09M [00:08<00:00, 124kB/s]"
     ]
    },
    {
     "name": "stdout",
     "output_type": "stream",
     "text": [
      "[####################                    ] | 50% Completed | 47.0s"
     ]
    },
    {
     "name": "stderr",
     "output_type": "stream",
     "text": [
      " 97%|█████████▋| 1.06M/1.09M [00:09<00:00, 96.4kB/s]"
     ]
    },
    {
     "name": "stdout",
     "output_type": "stream",
     "text": [
      "[####################                    ] | 50% Completed | 47.1s"
     ]
    },
    {
     "name": "stderr",
     "output_type": "stream",
     "text": [
      "                                                    "
     ]
    },
    {
     "name": "stdout",
     "output_type": "stream",
     "text": [
      "[####################                    ] | 50% Completed | 47.3s"
     ]
    },
    {
     "name": "stderr",
     "output_type": "stream",
     "text": [
      "2021-11-17 14:53:07,115 INFO Download rate 96.5K/s\n"
     ]
    },
    {
     "name": "stdout",
     "output_type": "stream",
     "text": [
      "[####################                    ] | 50% Completed | 47.6s\n",
      "/media/nicolasf/END19101/ICU/data/CDS/operational/hindcasts/ECCC_CanCM4i/TPRATE/ensemble_seas_forecasts_tprate_from_2009_10_ECCC.netcdf downloaded OK\n",
      "\n",
      "[########################################] | 100% Completed | 47.7s\n",
      "processing ECCC, path should be /media/nicolasf/END19101/ICU/data/CDS/operational/hindcasts/ECCC_CanCM4i/TPRATE\n",
      "processing ECCC, path should be /media/nicolasf/END19101/ICU/data/CDS/operational/hindcasts/ECCC_GEM_NEMO/TPRATE\n",
      "[                                        ] | 0% Completed |  0.0s\n",
      "/media/nicolasf/END19101/ICU/data/CDS/operational/hindcasts/ECCC_GEM_NEMO/TPRATE/ensemble_seas_forecasts_tprate_from_2010_10_ECCC.netcdf exists already on disk, skipping download and returning path\n",
      "\n",
      "\n",
      "attempting to download tprate for GCM ECCC, for level surface, year 2010, month 10, in netcdf, attempt 1 of 3\n",
      "\n",
      "[####################                    ] | 50% Completed |  0.3s"
     ]
    },
    {
     "name": "stderr",
     "output_type": "stream",
     "text": [
      "2021-11-17 14:53:07,925 INFO Welcome to the CDS\n",
      "2021-11-17 14:53:07,926 INFO Sending request to https://cds.climate.copernicus.eu/api/v2/resources/seasonal-monthly-single-levels\n"
     ]
    },
    {
     "name": "stdout",
     "output_type": "stream",
     "text": [
      "[####################                    ] | 50% Completed |  0.7s"
     ]
    },
    {
     "name": "stderr",
     "output_type": "stream",
     "text": [
      "2021-11-17 14:53:08,255 INFO Request is queued\n"
     ]
    },
    {
     "name": "stdout",
     "output_type": "stream",
     "text": [
      "[####################                    ] | 50% Completed |  4min 24.2s"
     ]
    },
    {
     "name": "stderr",
     "output_type": "stream",
     "text": [
      "2021-11-17 14:57:31,810 INFO Request is completed\n",
      "2021-11-17 14:57:31,811 INFO Downloading https://download-0010.copernicus-climate.eu/cache-compute-0010/cache/data2/adaptor.mars.external-1637114199.8716319-12177-11-3c7b8412-4649-4adb-9843-b970f5d8727b.nc to /media/nicolasf/END19101/ICU/data/CDS/operational/hindcasts/ECCC_CanCM4i/TPRATE/ensemble_seas_forecasts_tprate_from_2010_10_ECCC.netcdf (1.1M)\n"
     ]
    },
    {
     "name": "stdout",
     "output_type": "stream",
     "text": [
      "[####################                    ] | 50% Completed |  4min 26.4s"
     ]
    },
    {
     "name": "stderr",
     "output_type": "stream",
     "text": [
      "  0%|          | 0.00/1.09M [00:00<?, ?B/s]"
     ]
    },
    {
     "name": "stdout",
     "output_type": "stream",
     "text": [
      "[####################                    ] | 50% Completed |  4min 26.8s"
     ]
    },
    {
     "name": "stderr",
     "output_type": "stream",
     "text": [
      "  1%|          | 8.00k/1.09M [00:00<00:56, 20.1kB/s]"
     ]
    },
    {
     "name": "stdout",
     "output_type": "stream",
     "text": [
      "[####################                    ] | 50% Completed |  4min 27.2s"
     ]
    },
    {
     "name": "stderr",
     "output_type": "stream",
     "text": [
      "  1%|▏         | 16.0k/1.09M [00:00<00:56, 20.0kB/s]"
     ]
    },
    {
     "name": "stdout",
     "output_type": "stream",
     "text": [
      "[####################                    ] | 50% Completed |  4min 27.6s"
     ]
    },
    {
     "name": "stderr",
     "output_type": "stream",
     "text": [
      "  3%|▎         | 34.0k/1.09M [00:01<00:35, 31.4kB/s]"
     ]
    },
    {
     "name": "stdout",
     "output_type": "stream",
     "text": [
      "[####################                    ] | 50% Completed |  4min 28.0s"
     ]
    },
    {
     "name": "stderr",
     "output_type": "stream",
     "text": [
      "  4%|▍         | 42.0k/1.09M [00:01<00:40, 26.9kB/s]"
     ]
    },
    {
     "name": "stdout",
     "output_type": "stream",
     "text": [
      "[####################                    ] | 50% Completed |  4min 28.4s"
     ]
    },
    {
     "name": "stderr",
     "output_type": "stream",
     "text": [
      "  5%|▌         | 58.0k/1.09M [00:02<00:34, 31.6kB/s]"
     ]
    },
    {
     "name": "stdout",
     "output_type": "stream",
     "text": [
      "[####################                    ] | 50% Completed |  4min 28.8s"
     ]
    },
    {
     "name": "stderr",
     "output_type": "stream",
     "text": [
      "  7%|▋         | 74.0k/1.09M [00:02<00:30, 34.5kB/s]"
     ]
    },
    {
     "name": "stdout",
     "output_type": "stream",
     "text": [
      "[####################                    ] | 50% Completed |  4min 29.1s"
     ]
    },
    {
     "name": "stderr",
     "output_type": "stream",
     "text": [
      "  8%|▊         | 87.0k/1.09M [00:02<00:28, 36.8kB/s]"
     ]
    },
    {
     "name": "stdout",
     "output_type": "stream",
     "text": [
      "[####################                    ] | 50% Completed |  4min 29.5s"
     ]
    },
    {
     "name": "stderr",
     "output_type": "stream",
     "text": [
      "  9%|▉         | 105k/1.09M [00:03<00:23, 43.2kB/s] "
     ]
    },
    {
     "name": "stdout",
     "output_type": "stream",
     "text": [
      "[####################                    ] | 50% Completed |  4min 29.9s"
     ]
    },
    {
     "name": "stderr",
     "output_type": "stream",
     "text": [
      " 11%|█         | 121k/1.09M [00:03<00:24, 42.1kB/s]"
     ]
    },
    {
     "name": "stdout",
     "output_type": "stream",
     "text": [
      "[####################                    ] | 50% Completed |  4min 30.3s"
     ]
    },
    {
     "name": "stderr",
     "output_type": "stream",
     "text": [
      " 13%|█▎        | 145k/1.09M [00:03<00:20, 48.0kB/s]"
     ]
    },
    {
     "name": "stdout",
     "output_type": "stream",
     "text": [
      "[####################                    ] | 50% Completed |  4min 30.7s"
     ]
    },
    {
     "name": "stderr",
     "output_type": "stream",
     "text": [
      " 15%|█▌        | 169k/1.09M [00:04<00:18, 51.8kB/s]"
     ]
    },
    {
     "name": "stdout",
     "output_type": "stream",
     "text": [
      "[####################                    ] | 50% Completed |  4min 31.1s"
     ]
    },
    {
     "name": "stderr",
     "output_type": "stream",
     "text": [
      " 19%|█▊        | 208k/1.09M [00:04<00:14, 66.1kB/s]"
     ]
    },
    {
     "name": "stdout",
     "output_type": "stream",
     "text": [
      "[####################                    ] | 50% Completed |  4min 31.5s"
     ]
    },
    {
     "name": "stderr",
     "output_type": "stream",
     "text": [
      " 22%|██▏       | 248k/1.09M [00:05<00:11, 76.6kB/s]"
     ]
    },
    {
     "name": "stdout",
     "output_type": "stream",
     "text": [
      "[####################                    ] | 50% Completed |  4min 31.9s"
     ]
    },
    {
     "name": "stderr",
     "output_type": "stream",
     "text": [
      " 27%|██▋       | 302k/1.09M [00:05<00:08, 102kB/s] "
     ]
    },
    {
     "name": "stdout",
     "output_type": "stream",
     "text": [
      "[####################                    ] | 50% Completed |  4min 32.1s"
     ]
    },
    {
     "name": "stderr",
     "output_type": "stream",
     "text": [
      " 32%|███▏      | 358k/1.09M [00:05<00:06, 126kB/s]"
     ]
    },
    {
     "name": "stdout",
     "output_type": "stream",
     "text": [
      "[####################                    ] | 50% Completed |  4min 32.5s"
     ]
    },
    {
     "name": "stderr",
     "output_type": "stream",
     "text": [
      " 37%|███▋      | 414k/1.09M [00:06<00:05, 140kB/s]"
     ]
    },
    {
     "name": "stdout",
     "output_type": "stream",
     "text": [
      "[####################                    ] | 50% Completed |  4min 33.2s"
     ]
    },
    {
     "name": "stderr",
     "output_type": "stream",
     "text": [
      " 43%|████▎     | 478k/1.09M [00:06<00:05, 119kB/s]"
     ]
    },
    {
     "name": "stdout",
     "output_type": "stream",
     "text": [
      "[####################                    ] | 50% Completed |  4min 33.4s"
     ]
    },
    {
     "name": "stderr",
     "output_type": "stream",
     "text": [
      " 50%|████▉     | 555k/1.09M [00:07<00:03, 152kB/s]"
     ]
    },
    {
     "name": "stdout",
     "output_type": "stream",
     "text": [
      "[####################                    ] | 50% Completed |  4min 33.7s"
     ]
    },
    {
     "name": "stderr",
     "output_type": "stream",
     "text": [
      " 58%|█████▊    | 651k/1.09M [00:07<00:02, 197kB/s]"
     ]
    },
    {
     "name": "stdout",
     "output_type": "stream",
     "text": [
      "[####################                    ] | 50% Completed |  4min 34.3s"
     ]
    },
    {
     "name": "stderr",
     "output_type": "stream",
     "text": [
      " 65%|██████▍   | 723k/1.09M [00:07<00:02, 170kB/s]"
     ]
    },
    {
     "name": "stdout",
     "output_type": "stream",
     "text": [
      "[####################                    ] | 50% Completed |  4min 35.0s"
     ]
    },
    {
     "name": "stderr",
     "output_type": "stream",
     "text": [
      " 70%|███████   | 784k/1.09M [00:08<00:02, 136kB/s]"
     ]
    },
    {
     "name": "stdout",
     "output_type": "stream",
     "text": [
      "[####################                    ] | 50% Completed |  4min 35.3s"
     ]
    },
    {
     "name": "stderr",
     "output_type": "stream",
     "text": [
      " 80%|████████  | 896k/1.09M [00:08<00:01, 184kB/s]"
     ]
    },
    {
     "name": "stdout",
     "output_type": "stream",
     "text": [
      "[####################                    ] | 50% Completed |  4min 35.7s"
     ]
    },
    {
     "name": "stderr",
     "output_type": "stream",
     "text": [
      " 85%|████████▌ | 952k/1.09M [00:09<00:00, 172kB/s]"
     ]
    },
    {
     "name": "stdout",
     "output_type": "stream",
     "text": [
      "[####################                    ] | 50% Completed |  4min 36.0s"
     ]
    },
    {
     "name": "stderr",
     "output_type": "stream",
     "text": [
      " 90%|█████████ | 0.98M/1.09M [00:09<00:00, 175kB/s]"
     ]
    },
    {
     "name": "stdout",
     "output_type": "stream",
     "text": [
      "[####################                    ] | 50% Completed |  4min 36.3s"
     ]
    },
    {
     "name": "stderr",
     "output_type": "stream",
     "text": [
      " 96%|█████████▌| 1.05M/1.09M [00:09<00:00, 186kB/s]"
     ]
    },
    {
     "name": "stdout",
     "output_type": "stream",
     "text": [
      "[####################                    ] | 50% Completed |  4min 36.4s"
     ]
    },
    {
     "name": "stderr",
     "output_type": "stream",
     "text": [
      "2021-11-17 14:57:43,996 INFO Download rate 91.7K/s \n"
     ]
    },
    {
     "name": "stdout",
     "output_type": "stream",
     "text": [
      "[####################                    ] | 50% Completed |  4min 36.7s\n",
      "/media/nicolasf/END19101/ICU/data/CDS/operational/hindcasts/ECCC_CanCM4i/TPRATE/ensemble_seas_forecasts_tprate_from_2010_10_ECCC.netcdf downloaded OK\n",
      "\n",
      "[########################################] | 100% Completed |  4min 36.8s\n",
      "processing ECCC, path should be /media/nicolasf/END19101/ICU/data/CDS/operational/hindcasts/ECCC_CanCM4i/TPRATE\n",
      "processing ECCC, path should be /media/nicolasf/END19101/ICU/data/CDS/operational/hindcasts/ECCC_GEM_NEMO/TPRATE\n",
      "[                                        ] | 0% Completed |  0.0s\n",
      "/media/nicolasf/END19101/ICU/data/CDS/operational/hindcasts/ECCC_GEM_NEMO/TPRATE/ensemble_seas_forecasts_tprate_from_2011_10_ECCC.netcdf exists already on disk, skipping download and returning path\n",
      "\n",
      "attempting to download tprate for GCM ECCC, for level surface, year 2011, month 10, in netcdf, attempt 1 of 3\n",
      "\n",
      "\n",
      "[####################                    ] | 50% Completed |  0.4s"
     ]
    },
    {
     "name": "stderr",
     "output_type": "stream",
     "text": [
      "2021-11-17 14:57:44,748 INFO Welcome to the CDS\n",
      "2021-11-17 14:57:44,749 INFO Sending request to https://cds.climate.copernicus.eu/api/v2/resources/seasonal-monthly-single-levels\n"
     ]
    },
    {
     "name": "stdout",
     "output_type": "stream",
     "text": [
      "[####################                    ] | 50% Completed |  0.7s"
     ]
    },
    {
     "name": "stderr",
     "output_type": "stream",
     "text": [
      "2021-11-17 14:57:45,132 INFO Request is queued\n"
     ]
    },
    {
     "name": "stdout",
     "output_type": "stream",
     "text": [
      "[####################                    ] | 50% Completed | 53.2s"
     ]
    },
    {
     "name": "stderr",
     "output_type": "stream",
     "text": [
      "2021-11-17 14:58:37,562 INFO Request is running\n"
     ]
    },
    {
     "name": "stdout",
     "output_type": "stream",
     "text": [
      "[####################                    ] | 50% Completed |  1min 19.1s"
     ]
    },
    {
     "name": "stderr",
     "output_type": "stream",
     "text": [
      "2021-11-17 14:59:03,527 INFO Request is completed\n",
      "2021-11-17 14:59:03,528 INFO Downloading https://download-0007.copernicus-climate.eu/cache-compute-0007/cache/data5/adaptor.mars.external-1637114325.6348703-3615-10-929874e3-b048-4620-b95c-208f68e93bab.nc to /media/nicolasf/END19101/ICU/data/CDS/operational/hindcasts/ECCC_CanCM4i/TPRATE/ensemble_seas_forecasts_tprate_from_2011_10_ECCC.netcdf (1.1M)\n"
     ]
    },
    {
     "name": "stdout",
     "output_type": "stream",
     "text": [
      "[####################                    ] | 50% Completed |  1min 22.3s"
     ]
    },
    {
     "name": "stderr",
     "output_type": "stream",
     "text": [
      "  0%|          | 0.00/1.09M [00:00<?, ?B/s]"
     ]
    },
    {
     "name": "stdout",
     "output_type": "stream",
     "text": [
      "[####################                    ] | 50% Completed |  1min 22.7s"
     ]
    },
    {
     "name": "stderr",
     "output_type": "stream",
     "text": [
      "  1%|          | 8.00k/1.09M [00:00<00:54, 20.9kB/s]"
     ]
    },
    {
     "name": "stdout",
     "output_type": "stream",
     "text": [
      "[####################                    ] | 50% Completed |  1min 23.4s"
     ]
    },
    {
     "name": "stderr",
     "output_type": "stream",
     "text": [
      "  1%|▏         | 16.0k/1.09M [00:01<01:20, 14.1kB/s]"
     ]
    },
    {
     "name": "stdout",
     "output_type": "stream",
     "text": [
      "[####################                    ] | 50% Completed |  1min 23.8s"
     ]
    },
    {
     "name": "stderr",
     "output_type": "stream",
     "text": [
      "  3%|▎         | 32.0k/1.09M [00:01<00:46, 23.7kB/s]"
     ]
    },
    {
     "name": "stdout",
     "output_type": "stream",
     "text": [
      "[####################                    ] | 50% Completed |  1min 24.1s"
     ]
    },
    {
     "name": "stderr",
     "output_type": "stream",
     "text": [
      "  4%|▍         | 48.0k/1.09M [00:01<00:33, 32.5kB/s]"
     ]
    },
    {
     "name": "stdout",
     "output_type": "stream",
     "text": [
      "[####################                    ] | 50% Completed |  1min 24.4s"
     ]
    },
    {
     "name": "stderr",
     "output_type": "stream",
     "text": [
      "  6%|▌         | 64.0k/1.09M [00:02<00:28, 38.2kB/s]"
     ]
    },
    {
     "name": "stdout",
     "output_type": "stream",
     "text": [
      "[####################                    ] | 50% Completed |  1min 24.8s"
     ]
    },
    {
     "name": "stderr",
     "output_type": "stream",
     "text": [
      "  6%|▋         | 72.0k/1.09M [00:02<00:33, 31.7kB/s]"
     ]
    },
    {
     "name": "stdout",
     "output_type": "stream",
     "text": [
      "[####################                    ] | 50% Completed |  1min 25.2s"
     ]
    },
    {
     "name": "stderr",
     "output_type": "stream",
     "text": [
      "  8%|▊         | 88.0k/1.09M [00:02<00:30, 34.5kB/s]"
     ]
    },
    {
     "name": "stdout",
     "output_type": "stream",
     "text": [
      "[####################                    ] | 50% Completed |  1min 26.3s"
     ]
    },
    {
     "name": "stderr",
     "output_type": "stream",
     "text": [
      "  9%|▊         | 96.0k/1.09M [00:03<00:52, 20.0kB/s]"
     ]
    },
    {
     "name": "stdout",
     "output_type": "stream",
     "text": [
      "[####################                    ] | 50% Completed |  1min 26.7s"
     ]
    },
    {
     "name": "stderr",
     "output_type": "stream",
     "text": [
      " 10%|█         | 112k/1.09M [00:04<00:41, 24.8kB/s] "
     ]
    },
    {
     "name": "stdout",
     "output_type": "stream",
     "text": [
      "[####################                    ] | 50% Completed |  1min 27.1s"
     ]
    },
    {
     "name": "stderr",
     "output_type": "stream",
     "text": [
      " 11%|█         | 120k/1.09M [00:04<00:43, 23.6kB/s]"
     ]
    },
    {
     "name": "stdout",
     "output_type": "stream",
     "text": [
      "[####################                    ] | 50% Completed |  1min 27.5s"
     ]
    },
    {
     "name": "stderr",
     "output_type": "stream",
     "text": [
      " 12%|█▏        | 136k/1.09M [00:05<00:35, 27.9kB/s]"
     ]
    },
    {
     "name": "stdout",
     "output_type": "stream",
     "text": [
      "[####################                    ] | 50% Completed |  1min 27.9s"
     ]
    },
    {
     "name": "stderr",
     "output_type": "stream",
     "text": [
      " 14%|█▎        | 152k/1.09M [00:05<00:31, 31.3kB/s]"
     ]
    },
    {
     "name": "stdout",
     "output_type": "stream",
     "text": [
      "[####################                    ] | 50% Completed |  1min 28.3s"
     ]
    },
    {
     "name": "stderr",
     "output_type": "stream",
     "text": [
      " 14%|█▍        | 160k/1.09M [00:06<00:34, 28.1kB/s]"
     ]
    },
    {
     "name": "stdout",
     "output_type": "stream",
     "text": [
      "[####################                    ] | 50% Completed |  1min 28.6s"
     ]
    },
    {
     "name": "stderr",
     "output_type": "stream",
     "text": [
      " 16%|█▌        | 176k/1.09M [00:06<00:28, 34.0kB/s]"
     ]
    },
    {
     "name": "stdout",
     "output_type": "stream",
     "text": [
      "[####################                    ] | 50% Completed |  1min 29.0s"
     ]
    },
    {
     "name": "stderr",
     "output_type": "stream",
     "text": [
      " 16%|█▋        | 184k/1.09M [00:06<00:32, 29.7kB/s]"
     ]
    },
    {
     "name": "stdout",
     "output_type": "stream",
     "text": [
      "[####################                    ] | 50% Completed |  1min 29.4s"
     ]
    },
    {
     "name": "stderr",
     "output_type": "stream",
     "text": [
      " 18%|█▊        | 200k/1.09M [00:07<00:28, 32.8kB/s]"
     ]
    },
    {
     "name": "stdout",
     "output_type": "stream",
     "text": [
      "[####################                    ] | 50% Completed |  1min 29.8s"
     ]
    },
    {
     "name": "stderr",
     "output_type": "stream",
     "text": [
      " 19%|█▉        | 216k/1.09M [00:07<00:26, 35.0kB/s]"
     ]
    },
    {
     "name": "stdout",
     "output_type": "stream",
     "text": [
      "[####################                    ] | 50% Completed |  1min 30.5s"
     ]
    },
    {
     "name": "stderr",
     "output_type": "stream",
     "text": [
      " 21%|██        | 232k/1.09M [00:08<00:30, 29.5kB/s]"
     ]
    },
    {
     "name": "stdout",
     "output_type": "stream",
     "text": [
      "[####################                    ] | 50% Completed |  1min 30.9s"
     ]
    },
    {
     "name": "stderr",
     "output_type": "stream",
     "text": [
      " 22%|██▏       | 248k/1.09M [00:08<00:27, 32.5kB/s]"
     ]
    },
    {
     "name": "stdout",
     "output_type": "stream",
     "text": [
      "[####################                    ] | 50% Completed |  1min 31.2s"
     ]
    },
    {
     "name": "stderr",
     "output_type": "stream",
     "text": [
      " 23%|██▎       | 262k/1.09M [00:08<00:24, 36.0kB/s]"
     ]
    },
    {
     "name": "stdout",
     "output_type": "stream",
     "text": [
      "[####################                    ] | 50% Completed |  1min 31.5s"
     ]
    },
    {
     "name": "stderr",
     "output_type": "stream",
     "text": [
      " 25%|██▍       | 278k/1.09M [00:09<00:21, 39.8kB/s]"
     ]
    },
    {
     "name": "stdout",
     "output_type": "stream",
     "text": [
      "[####################                    ] | 50% Completed |  1min 31.8s"
     ]
    },
    {
     "name": "stderr",
     "output_type": "stream",
     "text": [
      " 26%|██▋       | 294k/1.09M [00:09<00:19, 43.2kB/s]"
     ]
    },
    {
     "name": "stdout",
     "output_type": "stream",
     "text": [
      "[####################                    ] | 50% Completed |  1min 32.2s"
     ]
    },
    {
     "name": "stderr",
     "output_type": "stream",
     "text": [
      " 28%|██▊       | 310k/1.09M [00:10<00:19, 42.2kB/s]"
     ]
    },
    {
     "name": "stdout",
     "output_type": "stream",
     "text": [
      "[####################                    ] | 50% Completed |  1min 32.7s"
     ]
    },
    {
     "name": "stderr",
     "output_type": "stream",
     "text": [
      " 29%|██▉       | 326k/1.09M [00:10<00:17, 45.1kB/s]"
     ]
    },
    {
     "name": "stdout",
     "output_type": "stream",
     "text": [
      "[####################                    ] | 50% Completed |  1min 33.1s"
     ]
    },
    {
     "name": "stderr",
     "output_type": "stream",
     "text": [
      " 31%|███       | 342k/1.09M [00:10<00:18, 43.3kB/s]"
     ]
    },
    {
     "name": "stdout",
     "output_type": "stream",
     "text": [
      "[####################                    ] | 50% Completed |  1min 33.4s"
     ]
    },
    {
     "name": "stderr",
     "output_type": "stream",
     "text": [
      " 32%|███▏      | 358k/1.09M [00:11<00:16, 46.4kB/s]"
     ]
    },
    {
     "name": "stdout",
     "output_type": "stream",
     "text": [
      "[####################                    ] | 50% Completed |  1min 33.8s"
     ]
    },
    {
     "name": "stderr",
     "output_type": "stream",
     "text": [
      " 33%|███▎      | 374k/1.09M [00:11<00:17, 43.8kB/s]"
     ]
    },
    {
     "name": "stdout",
     "output_type": "stream",
     "text": [
      "[####################                    ] | 50% Completed |  1min 34.1s"
     ]
    },
    {
     "name": "stderr",
     "output_type": "stream",
     "text": [
      " 35%|███▍      | 390k/1.09M [00:11<00:16, 46.3kB/s]"
     ]
    },
    {
     "name": "stdout",
     "output_type": "stream",
     "text": [
      "[####################                    ] | 50% Completed |  1min 34.7s"
     ]
    },
    {
     "name": "stderr",
     "output_type": "stream",
     "text": [
      " 36%|███▌      | 398k/1.09M [00:12<00:22, 32.3kB/s]"
     ]
    },
    {
     "name": "stdout",
     "output_type": "stream",
     "text": [
      "[####################                    ] | 50% Completed |  1min 35.0s"
     ]
    },
    {
     "name": "stderr",
     "output_type": "stream",
     "text": [
      " 37%|███▋      | 414k/1.09M [00:12<00:19, 37.6kB/s]"
     ]
    },
    {
     "name": "stdout",
     "output_type": "stream",
     "text": [
      "[####################                    ] | 50% Completed |  1min 35.4s"
     ]
    },
    {
     "name": "stderr",
     "output_type": "stream",
     "text": [
      " 38%|███▊      | 430k/1.09M [00:13<00:18, 37.9kB/s]"
     ]
    },
    {
     "name": "stdout",
     "output_type": "stream",
     "text": [
      "[####################                    ] | 50% Completed |  1min 35.8s"
     ]
    },
    {
     "name": "stderr",
     "output_type": "stream",
     "text": [
      " 39%|███▉      | 438k/1.09M [00:13<00:21, 32.4kB/s]"
     ]
    },
    {
     "name": "stdout",
     "output_type": "stream",
     "text": [
      "[####################                    ] | 50% Completed |  1min 36.2s"
     ]
    },
    {
     "name": "stderr",
     "output_type": "stream",
     "text": [
      " 41%|████      | 454k/1.09M [00:13<00:19, 34.7kB/s]"
     ]
    },
    {
     "name": "stdout",
     "output_type": "stream",
     "text": [
      "[####################                    ] | 50% Completed |  1min 36.6s"
     ]
    },
    {
     "name": "stderr",
     "output_type": "stream",
     "text": [
      " 42%|████▏     | 470k/1.09M [00:14<00:18, 36.3kB/s]"
     ]
    },
    {
     "name": "stdout",
     "output_type": "stream",
     "text": [
      "[####################                    ] | 50% Completed |  1min 37.0s"
     ]
    },
    {
     "name": "stderr",
     "output_type": "stream",
     "text": [
      " 43%|████▎     | 486k/1.09M [00:14<00:17, 37.4kB/s]"
     ]
    },
    {
     "name": "stdout",
     "output_type": "stream",
     "text": [
      "[####################                    ] | 50% Completed |  1min 38.0s"
     ]
    },
    {
     "name": "stderr",
     "output_type": "stream",
     "text": [
      " 45%|████▍     | 502k/1.09M [00:15<00:23, 26.3kB/s]"
     ]
    },
    {
     "name": "stdout",
     "output_type": "stream",
     "text": [
      "[####################                    ] | 50% Completed |  1min 38.5s"
     ]
    },
    {
     "name": "stderr",
     "output_type": "stream",
     "text": [
      " 47%|████▋     | 523k/1.09M [00:16<00:18, 32.3kB/s]"
     ]
    },
    {
     "name": "stdout",
     "output_type": "stream",
     "text": [
      "[####################                    ] | 50% Completed |  1min 38.9s"
     ]
    },
    {
     "name": "stderr",
     "output_type": "stream",
     "text": [
      " 48%|████▊     | 539k/1.09M [00:16<00:17, 34.2kB/s]"
     ]
    },
    {
     "name": "stdout",
     "output_type": "stream",
     "text": [
      "[####################                    ] | 50% Completed |  1min 39.2s"
     ]
    },
    {
     "name": "stderr",
     "output_type": "stream",
     "text": [
      " 50%|████▉     | 555k/1.09M [00:16<00:14, 38.5kB/s]"
     ]
    },
    {
     "name": "stdout",
     "output_type": "stream",
     "text": [
      "[####################                    ] | 50% Completed |  1min 39.5s"
     ]
    },
    {
     "name": "stderr",
     "output_type": "stream",
     "text": [
      " 51%|█████     | 571k/1.09M [00:17<00:13, 41.8kB/s]"
     ]
    },
    {
     "name": "stdout",
     "output_type": "stream",
     "text": [
      "[####################                    ] | 50% Completed |  1min 39.9s"
     ]
    },
    {
     "name": "stderr",
     "output_type": "stream",
     "text": [
      " 53%|█████▎    | 587k/1.09M [00:17<00:13, 41.0kB/s]"
     ]
    },
    {
     "name": "stdout",
     "output_type": "stream",
     "text": [
      "[####################                    ] | 50% Completed |  1min 40.7s"
     ]
    },
    {
     "name": "stderr",
     "output_type": "stream",
     "text": [
      " 54%|█████▍    | 603k/1.09M [00:18<00:16, 31.2kB/s]"
     ]
    },
    {
     "name": "stdout",
     "output_type": "stream",
     "text": [
      "[####################                    ] | 50% Completed |  1min 41.2s"
     ]
    },
    {
     "name": "stderr",
     "output_type": "stream",
     "text": [
      " 56%|█████▌    | 627k/1.09M [00:18<00:13, 36.2kB/s]"
     ]
    },
    {
     "name": "stdout",
     "output_type": "stream",
     "text": [
      "[####################                    ] | 50% Completed |  1min 41.6s"
     ]
    },
    {
     "name": "stderr",
     "output_type": "stream",
     "text": [
      " 58%|█████▊    | 643k/1.09M [00:19<00:13, 37.2kB/s]"
     ]
    },
    {
     "name": "stdout",
     "output_type": "stream",
     "text": [
      "[####################                    ] | 50% Completed |  1min 42.0s"
     ]
    },
    {
     "name": "stderr",
     "output_type": "stream",
     "text": [
      " 58%|█████▊    | 651k/1.09M [00:19<00:14, 32.6kB/s]"
     ]
    },
    {
     "name": "stdout",
     "output_type": "stream",
     "text": [
      "[####################                    ] | 50% Completed |  1min 42.4s"
     ]
    },
    {
     "name": "stderr",
     "output_type": "stream",
     "text": [
      " 60%|█████▉    | 667k/1.09M [00:20<00:13, 34.6kB/s]"
     ]
    },
    {
     "name": "stdout",
     "output_type": "stream",
     "text": [
      "[####################                    ] | 50% Completed |  1min 42.8s"
     ]
    },
    {
     "name": "stderr",
     "output_type": "stream",
     "text": [
      " 61%|██████    | 683k/1.09M [00:20<00:12, 36.1kB/s]"
     ]
    },
    {
     "name": "stdout",
     "output_type": "stream",
     "text": [
      "[####################                    ] | 50% Completed |  1min 43.5s"
     ]
    },
    {
     "name": "stderr",
     "output_type": "stream",
     "text": [
      " 63%|██████▎   | 699k/1.09M [00:21<00:13, 30.7kB/s]"
     ]
    },
    {
     "name": "stdout",
     "output_type": "stream",
     "text": [
      "[####################                    ] | 50% Completed |  1min 45.1s"
     ]
    },
    {
     "name": "stderr",
     "output_type": "stream",
     "text": [
      " 64%|██████▍   | 715k/1.09M [00:22<00:21, 19.5kB/s]"
     ]
    },
    {
     "name": "stdout",
     "output_type": "stream",
     "text": [
      "[####################                    ] | 50% Completed |  1min 45.5s"
     ]
    },
    {
     "name": "stderr",
     "output_type": "stream",
     "text": [
      " 65%|██████▍   | 723k/1.09M [00:23<00:20, 19.6kB/s]"
     ]
    },
    {
     "name": "stdout",
     "output_type": "stream",
     "text": [
      "[####################                    ] | 50% Completed |  1min 45.9s"
     ]
    },
    {
     "name": "stderr",
     "output_type": "stream",
     "text": [
      " 67%|██████▋   | 747k/1.09M [00:23<00:13, 27.6kB/s]"
     ]
    },
    {
     "name": "stdout",
     "output_type": "stream",
     "text": [
      "[####################                    ] | 50% Completed |  1min 46.2s"
     ]
    },
    {
     "name": "stderr",
     "output_type": "stream",
     "text": [
      " 68%|██████▊   | 760k/1.09M [00:23<00:12, 30.4kB/s]"
     ]
    },
    {
     "name": "stdout",
     "output_type": "stream",
     "text": [
      "[####################                    ] | 50% Completed |  1min 46.8s"
     ]
    },
    {
     "name": "stderr",
     "output_type": "stream",
     "text": [
      " 69%|██████▉   | 776k/1.09M [00:24<00:11, 30.9kB/s]"
     ]
    },
    {
     "name": "stdout",
     "output_type": "stream",
     "text": [
      "[####################                    ] | 50% Completed |  1min 47.2s"
     ]
    },
    {
     "name": "stderr",
     "output_type": "stream",
     "text": [
      " 70%|███████   | 784k/1.09M [00:24<00:12, 28.2kB/s]"
     ]
    },
    {
     "name": "stdout",
     "output_type": "stream",
     "text": [
      "[####################                    ] | 50% Completed |  1min 47.6s"
     ]
    },
    {
     "name": "stderr",
     "output_type": "stream",
     "text": [
      " 72%|███████▏  | 800k/1.09M [00:25<00:10, 31.3kB/s]"
     ]
    },
    {
     "name": "stdout",
     "output_type": "stream",
     "text": [
      "[####################                    ] | 50% Completed |  1min 48.0s"
     ]
    },
    {
     "name": "stderr",
     "output_type": "stream",
     "text": [
      " 73%|███████▎  | 816k/1.09M [00:25<00:09, 33.7kB/s]"
     ]
    },
    {
     "name": "stdout",
     "output_type": "stream",
     "text": [
      "[####################                    ] | 50% Completed |  1min 48.4s"
     ]
    },
    {
     "name": "stderr",
     "output_type": "stream",
     "text": [
      " 74%|███████▍  | 832k/1.09M [00:26<00:08, 36.4kB/s]"
     ]
    },
    {
     "name": "stdout",
     "output_type": "stream",
     "text": [
      "[####################                    ] | 50% Completed |  1min 48.8s"
     ]
    },
    {
     "name": "stderr",
     "output_type": "stream",
     "text": [
      " 76%|███████▌  | 848k/1.09M [00:26<00:07, 36.6kB/s]"
     ]
    },
    {
     "name": "stdout",
     "output_type": "stream",
     "text": [
      "[####################                    ] | 50% Completed |  1min 49.5s"
     ]
    },
    {
     "name": "stderr",
     "output_type": "stream",
     "text": [
      " 77%|███████▋  | 864k/1.09M [00:27<00:08, 30.8kB/s]"
     ]
    },
    {
     "name": "stdout",
     "output_type": "stream",
     "text": [
      "[####################                    ] | 50% Completed |  1min 49.9s"
     ]
    },
    {
     "name": "stderr",
     "output_type": "stream",
     "text": [
      " 80%|████████  | 896k/1.09M [00:27<00:05, 43.3kB/s]"
     ]
    },
    {
     "name": "stdout",
     "output_type": "stream",
     "text": [
      "[####################                    ] | 50% Completed |  1min 50.5s"
     ]
    },
    {
     "name": "stderr",
     "output_type": "stream",
     "text": [
      " 82%|████████▏ | 912k/1.09M [00:28<00:05, 38.0kB/s]"
     ]
    },
    {
     "name": "stdout",
     "output_type": "stream",
     "text": [
      "[####################                    ] | 50% Completed |  1min 51.1s"
     ]
    },
    {
     "name": "stderr",
     "output_type": "stream",
     "text": [
      " 84%|████████▍ | 936k/1.09M [00:28<00:04, 40.2kB/s]"
     ]
    },
    {
     "name": "stdout",
     "output_type": "stream",
     "text": [
      "[####################                    ] | 50% Completed |  1min 51.5s"
     ]
    },
    {
     "name": "stderr",
     "output_type": "stream",
     "text": [
      " 85%|████████▌ | 952k/1.09M [00:29<00:04, 40.4kB/s]"
     ]
    },
    {
     "name": "stdout",
     "output_type": "stream",
     "text": [
      "[####################                    ] | 50% Completed |  1min 51.9s"
     ]
    },
    {
     "name": "stderr",
     "output_type": "stream",
     "text": [
      " 86%|████████▌ | 960k/1.09M [00:29<00:04, 35.0kB/s]"
     ]
    },
    {
     "name": "stdout",
     "output_type": "stream",
     "text": [
      "[####################                    ] | 50% Completed |  1min 52.3s"
     ]
    },
    {
     "name": "stderr",
     "output_type": "stream",
     "text": [
      " 87%|████████▋ | 976k/1.09M [00:29<00:03, 36.4kB/s]"
     ]
    },
    {
     "name": "stdout",
     "output_type": "stream",
     "text": [
      "[####################                    ] | 50% Completed |  1min 52.6s"
     ]
    },
    {
     "name": "stderr",
     "output_type": "stream",
     "text": [
      " 89%|████████▉ | 992k/1.09M [00:30<00:03, 40.6kB/s]"
     ]
    },
    {
     "name": "stdout",
     "output_type": "stream",
     "text": [
      "[####################                    ] | 50% Completed |  1min 52.9s"
     ]
    },
    {
     "name": "stderr",
     "output_type": "stream",
     "text": [
      " 89%|████████▉ | 0.98M/1.09M [00:30<00:03, 36.8kB/s]"
     ]
    },
    {
     "name": "stdout",
     "output_type": "stream",
     "text": [
      "[####################                    ] | 50% Completed |  1min 53.3s"
     ]
    },
    {
     "name": "stderr",
     "output_type": "stream",
     "text": [
      " 92%|█████████▏| 1.00M/1.09M [00:31<00:02, 43.3kB/s]"
     ]
    },
    {
     "name": "stdout",
     "output_type": "stream",
     "text": [
      "[####################                    ] | 50% Completed |  1min 53.7s"
     ]
    },
    {
     "name": "stderr",
     "output_type": "stream",
     "text": [
      " 93%|█████████▎| 1.01M/1.09M [00:31<00:01, 42.3kB/s]"
     ]
    },
    {
     "name": "stdout",
     "output_type": "stream",
     "text": [
      "[####################                    ] | 50% Completed |  1min 54.0s"
     ]
    },
    {
     "name": "stderr",
     "output_type": "stream",
     "text": [
      " 94%|█████████▍| 1.03M/1.09M [00:31<00:01, 45.1kB/s]"
     ]
    },
    {
     "name": "stdout",
     "output_type": "stream",
     "text": [
      "[####################                    ] | 50% Completed |  1min 54.8s"
     ]
    },
    {
     "name": "stderr",
     "output_type": "stream",
     "text": [
      " 95%|█████████▌| 1.04M/1.09M [00:32<00:01, 28.0kB/s]"
     ]
    },
    {
     "name": "stdout",
     "output_type": "stream",
     "text": [
      "[####################                    ] | 50% Completed |  1min 55.2s"
     ]
    },
    {
     "name": "stderr",
     "output_type": "stream",
     "text": [
      " 97%|█████████▋| 1.05M/1.09M [00:32<00:01, 31.1kB/s]"
     ]
    },
    {
     "name": "stdout",
     "output_type": "stream",
     "text": [
      "[####################                    ] | 50% Completed |  1min 55.5s"
     ]
    },
    {
     "name": "stderr",
     "output_type": "stream",
     "text": [
      " 99%|█████████▊| 1.08M/1.09M [00:33<00:00, 42.1kB/s]"
     ]
    },
    {
     "name": "stdout",
     "output_type": "stream",
     "text": [
      "[####################                    ] | 50% Completed |  1min 55.6s"
     ]
    },
    {
     "name": "stderr",
     "output_type": "stream",
     "text": [
      "2021-11-17 14:59:40,016 INFO Download rate 30.6K/s  \n"
     ]
    },
    {
     "name": "stdout",
     "output_type": "stream",
     "text": [
      "[####################                    ] | 50% Completed |  1min 55.9s\n",
      "/media/nicolasf/END19101/ICU/data/CDS/operational/hindcasts/ECCC_CanCM4i/TPRATE/ensemble_seas_forecasts_tprate_from_2011_10_ECCC.netcdf downloaded OK\n",
      "\n",
      "[########################################] | 100% Completed |  1min 56.0s\n",
      "processing ECCC, path should be /media/nicolasf/END19101/ICU/data/CDS/operational/hindcasts/ECCC_CanCM4i/TPRATE\n",
      "processing ECCC, path should be /media/nicolasf/END19101/ICU/data/CDS/operational/hindcasts/ECCC_GEM_NEMO/TPRATE\n",
      "[                                        ] | 0% Completed |  0.0s\n",
      "/media/nicolasf/END19101/ICU/data/CDS/operational/hindcasts/ECCC_GEM_NEMO/TPRATE/ensemble_seas_forecasts_tprate_from_2012_10_ECCC.netcdf exists already on disk, skipping download and returning path\n",
      "\n",
      "\n",
      "attempting to download tprate for GCM ECCC, for level surface, year 2012, month 10, in netcdf, attempt 1 of 3\n",
      "\n",
      "[####################                    ] | 50% Completed |  0.2s"
     ]
    },
    {
     "name": "stderr",
     "output_type": "stream",
     "text": [
      "2021-11-17 14:59:40,643 INFO Welcome to the CDS\n",
      "2021-11-17 14:59:40,644 INFO Sending request to https://cds.climate.copernicus.eu/api/v2/resources/seasonal-monthly-single-levels\n"
     ]
    },
    {
     "name": "stdout",
     "output_type": "stream",
     "text": [
      "[####################                    ] | 50% Completed |  0.6s"
     ]
    },
    {
     "name": "stderr",
     "output_type": "stream",
     "text": [
      "2021-11-17 14:59:41,051 INFO Request is queued\n"
     ]
    },
    {
     "name": "stdout",
     "output_type": "stream",
     "text": [
      "[####################                    ] | 50% Completed | 52.9s"
     ]
    },
    {
     "name": "stderr",
     "output_type": "stream",
     "text": [
      "2021-11-17 15:00:33,280 INFO Request is running\n"
     ]
    },
    {
     "name": "stdout",
     "output_type": "stream",
     "text": [
      "[####################                    ] | 50% Completed |  1min 19.5s"
     ]
    },
    {
     "name": "stderr",
     "output_type": "stream",
     "text": [
      "2021-11-17 15:00:59,901 INFO Request is completed\n",
      "2021-11-17 15:00:59,902 INFO Downloading https://download-0006.copernicus-climate.eu/cache-compute-0006/cache/data9/adaptor.mars.external-1637114435.5311978-1363-12-dce49596-8b7d-4dfe-ba0f-fff2da58b963.nc to /media/nicolasf/END19101/ICU/data/CDS/operational/hindcasts/ECCC_CanCM4i/TPRATE/ensemble_seas_forecasts_tprate_from_2012_10_ECCC.netcdf (1.1M)\n"
     ]
    },
    {
     "name": "stdout",
     "output_type": "stream",
     "text": [
      "[####################                    ] | 50% Completed |  1min 24.1s"
     ]
    },
    {
     "name": "stderr",
     "output_type": "stream",
     "text": [
      "  0%|          | 0.00/1.09M [00:00<?, ?B/s]"
     ]
    },
    {
     "name": "stdout",
     "output_type": "stream",
     "text": [
      "[####################                    ] | 50% Completed |  1min 24.4s"
     ]
    },
    {
     "name": "stderr",
     "output_type": "stream",
     "text": [
      "  1%|          | 8.00k/1.09M [00:00<00:40, 28.3kB/s]"
     ]
    },
    {
     "name": "stdout",
     "output_type": "stream",
     "text": [
      "[####################                    ] | 50% Completed |  1min 24.8s"
     ]
    },
    {
     "name": "stderr",
     "output_type": "stream",
     "text": [
      "  2%|▏         | 24.0k/1.09M [00:00<00:31, 35.1kB/s]"
     ]
    },
    {
     "name": "stdout",
     "output_type": "stream",
     "text": [
      "[####################                    ] | 50% Completed |  1min 25.2s"
     ]
    },
    {
     "name": "stderr",
     "output_type": "stream",
     "text": [
      "  4%|▎         | 40.0k/1.09M [00:01<00:29, 37.5kB/s]"
     ]
    },
    {
     "name": "stdout",
     "output_type": "stream",
     "text": [
      "[####################                    ] | 50% Completed |  1min 25.6s"
     ]
    },
    {
     "name": "stderr",
     "output_type": "stream",
     "text": [
      "  5%|▌         | 56.0k/1.09M [00:01<00:28, 38.6kB/s]"
     ]
    },
    {
     "name": "stdout",
     "output_type": "stream",
     "text": [
      "[####################                    ] | 50% Completed |  1min 26.0s"
     ]
    },
    {
     "name": "stderr",
     "output_type": "stream",
     "text": [
      "  6%|▌         | 69.0k/1.09M [00:01<00:29, 36.3kB/s]"
     ]
    },
    {
     "name": "stdout",
     "output_type": "stream",
     "text": [
      "[####################                    ] | 50% Completed |  1min 26.4s"
     ]
    },
    {
     "name": "stderr",
     "output_type": "stream",
     "text": [
      "  8%|▊         | 85.0k/1.09M [00:02<00:28, 37.5kB/s]"
     ]
    },
    {
     "name": "stdout",
     "output_type": "stream",
     "text": [
      "[####################                    ] | 50% Completed |  1min 26.7s"
     ]
    },
    {
     "name": "stderr",
     "output_type": "stream",
     "text": [
      " 10%|▉         | 109k/1.09M [00:02<00:21, 48.9kB/s] "
     ]
    },
    {
     "name": "stdout",
     "output_type": "stream",
     "text": [
      "[####################                    ] | 50% Completed |  1min 27.0s"
     ]
    },
    {
     "name": "stderr",
     "output_type": "stream",
     "text": [
      " 11%|█         | 125k/1.09M [00:02<00:20, 50.2kB/s]"
     ]
    },
    {
     "name": "stdout",
     "output_type": "stream",
     "text": [
      "[####################                    ] | 50% Completed |  1min 27.4s"
     ]
    },
    {
     "name": "stderr",
     "output_type": "stream",
     "text": [
      " 13%|█▎        | 149k/1.09M [00:03<00:18, 53.6kB/s]"
     ]
    },
    {
     "name": "stdout",
     "output_type": "stream",
     "text": [
      "[####################                    ] | 50% Completed |  1min 28.0s"
     ]
    },
    {
     "name": "stderr",
     "output_type": "stream",
     "text": [
      " 16%|█▌        | 181k/1.09M [00:03<00:15, 62.3kB/s]"
     ]
    },
    {
     "name": "stdout",
     "output_type": "stream",
     "text": [
      "[####################                    ] | 50% Completed |  1min 28.4s"
     ]
    },
    {
     "name": "stderr",
     "output_type": "stream",
     "text": [
      " 18%|█▊        | 205k/1.09M [00:04<00:15, 61.6kB/s]"
     ]
    },
    {
     "name": "stdout",
     "output_type": "stream",
     "text": [
      "[####################                    ] | 50% Completed |  1min 28.7s"
     ]
    },
    {
     "name": "stderr",
     "output_type": "stream",
     "text": [
      " 21%|██        | 237k/1.09M [00:04<00:12, 73.1kB/s]"
     ]
    },
    {
     "name": "stdout",
     "output_type": "stream",
     "text": [
      "[####################                    ] | 50% Completed |  1min 29.1s"
     ]
    },
    {
     "name": "stderr",
     "output_type": "stream",
     "text": [
      " 24%|██▍       | 270k/1.09M [00:04<00:11, 76.2kB/s]"
     ]
    },
    {
     "name": "stdout",
     "output_type": "stream",
     "text": [
      "[####################                    ] | 50% Completed |  1min 29.5s"
     ]
    },
    {
     "name": "stderr",
     "output_type": "stream",
     "text": [
      " 28%|██▊       | 310k/1.09M [00:05<00:09, 83.8kB/s]"
     ]
    },
    {
     "name": "stdout",
     "output_type": "stream",
     "text": [
      "[####################                    ] | 50% Completed |  1min 29.9s"
     ]
    },
    {
     "name": "stderr",
     "output_type": "stream",
     "text": [
      " 31%|███▏      | 350k/1.09M [00:05<00:08, 88.9kB/s]"
     ]
    },
    {
     "name": "stdout",
     "output_type": "stream",
     "text": [
      "[####################                    ] | 50% Completed |  1min 30.3s"
     ]
    },
    {
     "name": "stderr",
     "output_type": "stream",
     "text": [
      " 34%|███▍      | 382k/1.09M [00:06<00:08, 86.1kB/s]"
     ]
    },
    {
     "name": "stdout",
     "output_type": "stream",
     "text": [
      "[####################                    ] | 50% Completed |  1min 30.7s"
     ]
    },
    {
     "name": "stderr",
     "output_type": "stream",
     "text": [
      " 38%|███▊      | 430k/1.09M [00:06<00:07, 96.5kB/s]"
     ]
    },
    {
     "name": "stdout",
     "output_type": "stream",
     "text": [
      "[####################                    ] | 50% Completed |  1min 31.1s"
     ]
    },
    {
     "name": "stderr",
     "output_type": "stream",
     "text": [
      " 42%|████▏     | 470k/1.09M [00:06<00:06, 97.6kB/s]"
     ]
    },
    {
     "name": "stdout",
     "output_type": "stream",
     "text": [
      "[####################                    ] | 50% Completed |  1min 31.4s"
     ]
    },
    {
     "name": "stderr",
     "output_type": "stream",
     "text": [
      " 46%|████▌     | 515k/1.09M [00:07<00:05, 111kB/s] "
     ]
    },
    {
     "name": "stdout",
     "output_type": "stream",
     "text": [
      "[####################                    ] | 50% Completed |  1min 31.7s"
     ]
    },
    {
     "name": "stderr",
     "output_type": "stream",
     "text": [
      " 50%|█████     | 563k/1.09M [00:07<00:04, 123kB/s]"
     ]
    },
    {
     "name": "stdout",
     "output_type": "stream",
     "text": [
      "[####################                    ] | 50% Completed |  1min 32.1s"
     ]
    },
    {
     "name": "stderr",
     "output_type": "stream",
     "text": [
      " 55%|█████▌    | 619k/1.09M [00:07<00:03, 129kB/s]"
     ]
    },
    {
     "name": "stdout",
     "output_type": "stream",
     "text": [
      "[####################                    ] | 50% Completed |  1min 32.9s"
     ]
    },
    {
     "name": "stderr",
     "output_type": "stream",
     "text": [
      " 60%|██████    | 672k/1.09M [00:08<00:04, 98.5kB/s]"
     ]
    },
    {
     "name": "stdout",
     "output_type": "stream",
     "text": [
      "[####################                    ] | 50% Completed |  1min 33.2s"
     ]
    },
    {
     "name": "stderr",
     "output_type": "stream",
     "text": [
      " 69%|██████▊   | 768k/1.09M [00:09<00:02, 145kB/s] "
     ]
    },
    {
     "name": "stdout",
     "output_type": "stream",
     "text": [
      "[####################                    ] | 50% Completed |  1min 33.6s"
     ]
    },
    {
     "name": "stderr",
     "output_type": "stream",
     "text": [
      " 73%|███████▎  | 816k/1.09M [00:09<00:02, 137kB/s]"
     ]
    },
    {
     "name": "stdout",
     "output_type": "stream",
     "text": [
      "[####################                    ] | 50% Completed |  1min 34.1s"
     ]
    },
    {
     "name": "stderr",
     "output_type": "stream",
     "text": [
      " 77%|███████▋  | 856k/1.09M [00:09<00:02, 127kB/s]"
     ]
    },
    {
     "name": "stdout",
     "output_type": "stream",
     "text": [
      "[####################                    ] | 50% Completed |  1min 34.5s"
     ]
    },
    {
     "name": "stderr",
     "output_type": "stream",
     "text": [
      " 82%|████████▏ | 912k/1.09M [00:10<00:01, 130kB/s]"
     ]
    },
    {
     "name": "stdout",
     "output_type": "stream",
     "text": [
      "[####################                    ] | 50% Completed |  1min 34.8s"
     ]
    },
    {
     "name": "stderr",
     "output_type": "stream",
     "text": [
      " 87%|████████▋ | 968k/1.09M [00:10<00:01, 144kB/s]"
     ]
    },
    {
     "name": "stdout",
     "output_type": "stream",
     "text": [
      "[####################                    ] | 50% Completed |  1min 35.3s"
     ]
    },
    {
     "name": "stderr",
     "output_type": "stream",
     "text": [
      " 92%|█████████▏| 1.00M/1.09M [00:11<00:00, 128kB/s]"
     ]
    },
    {
     "name": "stdout",
     "output_type": "stream",
     "text": [
      "[####################                    ] | 50% Completed |  1min 35.7s"
     ]
    },
    {
     "name": "stderr",
     "output_type": "stream",
     "text": [
      " 97%|█████████▋| 1.06M/1.09M [00:11<00:00, 141kB/s]"
     ]
    },
    {
     "name": "stdout",
     "output_type": "stream",
     "text": [
      "[####################                    ] | 50% Completed |  1min 35.8s"
     ]
    },
    {
     "name": "stderr",
     "output_type": "stream",
     "text": [
      "2021-11-17 15:01:16,192 INFO Download rate 68.6K/s \n"
     ]
    },
    {
     "name": "stdout",
     "output_type": "stream",
     "text": [
      "[####################                    ] | 50% Completed |  1min 36.2s\n",
      "/media/nicolasf/END19101/ICU/data/CDS/operational/hindcasts/ECCC_CanCM4i/TPRATE/ensemble_seas_forecasts_tprate_from_2012_10_ECCC.netcdf downloaded OK\n",
      "\n",
      "[########################################] | 100% Completed |  1min 36.3s\n",
      "processing ECCC, path should be /media/nicolasf/END19101/ICU/data/CDS/operational/hindcasts/ECCC_CanCM4i/TPRATE\n",
      "processing ECCC, path should be /media/nicolasf/END19101/ICU/data/CDS/operational/hindcasts/ECCC_GEM_NEMO/TPRATE\n",
      "[                                        ] | 0% Completed |  0.0s\n",
      "/media/nicolasf/END19101/ICU/data/CDS/operational/hindcasts/ECCC_GEM_NEMO/TPRATE/ensemble_seas_forecasts_tprate_from_2013_10_ECCC.netcdf exists already on disk, skipping download and returning path\n",
      "\n",
      "\n",
      "attempting to download tprate for GCM ECCC, for level surface, year 2013, month 10, in netcdf, attempt 1 of 3\n",
      "\n",
      "[####################                    ] | 50% Completed |  0.3s"
     ]
    },
    {
     "name": "stderr",
     "output_type": "stream",
     "text": [
      "2021-11-17 15:01:17,002 INFO Welcome to the CDS\n",
      "2021-11-17 15:01:17,003 INFO Sending request to https://cds.climate.copernicus.eu/api/v2/resources/seasonal-monthly-single-levels\n"
     ]
    },
    {
     "name": "stdout",
     "output_type": "stream",
     "text": [
      "[####################                    ] | 50% Completed |  0.7s"
     ]
    },
    {
     "name": "stderr",
     "output_type": "stream",
     "text": [
      "2021-11-17 15:01:17,413 INFO Request is queued\n"
     ]
    },
    {
     "name": "stdout",
     "output_type": "stream",
     "text": [
      "[####################                    ] | 50% Completed | 23.9s"
     ]
    },
    {
     "name": "stderr",
     "output_type": "stream",
     "text": [
      "2021-11-17 15:01:40,560 INFO Request is running\n"
     ]
    },
    {
     "name": "stdout",
     "output_type": "stream",
     "text": [
      "[####################                    ] | 50% Completed | 53.0s"
     ]
    },
    {
     "name": "stderr",
     "output_type": "stream",
     "text": [
      "2021-11-17 15:02:09,744 INFO Request is completed\n"
     ]
    },
    {
     "name": "stdout",
     "output_type": "stream",
     "text": [
      "[####################                    ] | 50% Completed | 53.1s"
     ]
    },
    {
     "name": "stderr",
     "output_type": "stream",
     "text": [
      "2021-11-17 15:02:09,745 INFO Downloading https://download-0004.copernicus-climate.eu/cache-compute-0004/cache/data7/adaptor.mars.external-1637114512.2996829-6020-1-0d202fc9-bbd0-4266-9344-54aea28c03e9.nc to /media/nicolasf/END19101/ICU/data/CDS/operational/hindcasts/ECCC_CanCM4i/TPRATE/ensemble_seas_forecasts_tprate_from_2013_10_ECCC.netcdf (1.1M)\n"
     ]
    },
    {
     "name": "stdout",
     "output_type": "stream",
     "text": [
      "[####################                    ] | 50% Completed | 55.4s"
     ]
    },
    {
     "name": "stderr",
     "output_type": "stream",
     "text": [
      "  0%|          | 0.00/1.09M [00:00<?, ?B/s]"
     ]
    },
    {
     "name": "stdout",
     "output_type": "stream",
     "text": [
      "[####################                    ] | 50% Completed | 56.2s"
     ]
    },
    {
     "name": "stderr",
     "output_type": "stream",
     "text": [
      "  1%|▏         | 16.0k/1.09M [00:00<00:56, 20.1kB/s]"
     ]
    },
    {
     "name": "stdout",
     "output_type": "stream",
     "text": [
      "[####################                    ] | 50% Completed | 56.8s"
     ]
    },
    {
     "name": "stderr",
     "output_type": "stream",
     "text": [
      "  3%|▎         | 34.0k/1.09M [00:01<00:43, 25.2kB/s]"
     ]
    },
    {
     "name": "stdout",
     "output_type": "stream",
     "text": [
      "[####################                    ] | 50% Completed | 57.1s"
     ]
    },
    {
     "name": "stderr",
     "output_type": "stream",
     "text": [
      "  7%|▋         | 82.0k/1.09M [00:01<00:16, 62.5kB/s]"
     ]
    },
    {
     "name": "stdout",
     "output_type": "stream",
     "text": [
      "[####################                    ] | 50% Completed | 57.5s"
     ]
    },
    {
     "name": "stderr",
     "output_type": "stream",
     "text": [
      "  9%|▉         | 106k/1.09M [00:02<00:17, 60.7kB/s] "
     ]
    },
    {
     "name": "stdout",
     "output_type": "stream",
     "text": [
      "[####################                    ] | 50% Completed | 58.3s"
     ]
    },
    {
     "name": "stderr",
     "output_type": "stream",
     "text": [
      " 12%|█▏        | 130k/1.09M [00:02<00:22, 45.7kB/s]"
     ]
    },
    {
     "name": "stdout",
     "output_type": "stream",
     "text": [
      "[####################                    ] | 50% Completed | 58.7s"
     ]
    },
    {
     "name": "stderr",
     "output_type": "stream",
     "text": [
      " 14%|█▍        | 162k/1.09M [00:03<00:17, 54.6kB/s]"
     ]
    },
    {
     "name": "stdout",
     "output_type": "stream",
     "text": [
      "[####################                    ] | 50% Completed | 59.2s"
     ]
    },
    {
     "name": "stderr",
     "output_type": "stream",
     "text": [
      " 15%|█▌        | 170k/1.09M [00:03<00:21, 45.2kB/s]"
     ]
    },
    {
     "name": "stdout",
     "output_type": "stream",
     "text": [
      "[####################                    ] | 50% Completed | 59.7s"
     ]
    },
    {
     "name": "stderr",
     "output_type": "stream",
     "text": [
      " 19%|█▉        | 210k/1.09M [00:04<00:16, 56.6kB/s]"
     ]
    },
    {
     "name": "stdout",
     "output_type": "stream",
     "text": [
      "[####################                    ] | 50% Completed |  1min  0.1s"
     ]
    },
    {
     "name": "stderr",
     "output_type": "stream",
     "text": [
      " 20%|██        | 226k/1.09M [00:04<00:17, 52.1kB/s]"
     ]
    },
    {
     "name": "stdout",
     "output_type": "stream",
     "text": [
      "[####################                    ] | 50% Completed |  1min  0.4s"
     ]
    },
    {
     "name": "stderr",
     "output_type": "stream",
     "text": [
      " 22%|██▏       | 242k/1.09M [00:05<00:17, 51.1kB/s]"
     ]
    },
    {
     "name": "stdout",
     "output_type": "stream",
     "text": [
      "[####################                    ] | 50% Completed |  1min  0.9s"
     ]
    },
    {
     "name": "stderr",
     "output_type": "stream",
     "text": [
      " 23%|██▎       | 262k/1.09M [00:05<00:18, 48.3kB/s]"
     ]
    },
    {
     "name": "stdout",
     "output_type": "stream",
     "text": [
      "[####################                    ] | 50% Completed |  1min  1.3s"
     ]
    },
    {
     "name": "stderr",
     "output_type": "stream",
     "text": [
      " 25%|██▍       | 278k/1.09M [00:05<00:18, 46.0kB/s]"
     ]
    },
    {
     "name": "stdout",
     "output_type": "stream",
     "text": [
      "[####################                    ] | 50% Completed |  1min  1.7s"
     ]
    },
    {
     "name": "stderr",
     "output_type": "stream",
     "text": [
      " 27%|██▋       | 302k/1.09M [00:06<00:16, 49.8kB/s]"
     ]
    },
    {
     "name": "stdout",
     "output_type": "stream",
     "text": [
      "[####################                    ] | 50% Completed |  1min  2.1s"
     ]
    },
    {
     "name": "stderr",
     "output_type": "stream",
     "text": [
      " 28%|██▊       | 318k/1.09M [00:06<00:17, 47.2kB/s]"
     ]
    },
    {
     "name": "stdout",
     "output_type": "stream",
     "text": [
      "[####################                    ] | 50% Completed |  1min  2.4s"
     ]
    },
    {
     "name": "stderr",
     "output_type": "stream",
     "text": [
      " 30%|██▉       | 334k/1.09M [00:07<00:16, 48.7kB/s]"
     ]
    },
    {
     "name": "stdout",
     "output_type": "stream",
     "text": [
      "[####################                    ] | 50% Completed |  1min  2.9s"
     ]
    },
    {
     "name": "stderr",
     "output_type": "stream",
     "text": [
      " 32%|███▏      | 358k/1.09M [00:07<00:14, 52.0kB/s]"
     ]
    },
    {
     "name": "stdout",
     "output_type": "stream",
     "text": [
      "[####################                    ] | 50% Completed |  1min  3.3s"
     ]
    },
    {
     "name": "stderr",
     "output_type": "stream",
     "text": [
      " 33%|███▎      | 374k/1.09M [00:07<00:15, 48.5kB/s]"
     ]
    },
    {
     "name": "stdout",
     "output_type": "stream",
     "text": [
      "[####################                    ] | 50% Completed |  1min  3.7s"
     ]
    },
    {
     "name": "stderr",
     "output_type": "stream",
     "text": [
      " 36%|███▌      | 398k/1.09M [00:08<00:14, 52.1kB/s]"
     ]
    },
    {
     "name": "stdout",
     "output_type": "stream",
     "text": [
      "[####################                    ] | 50% Completed |  1min  4.0s"
     ]
    },
    {
     "name": "stderr",
     "output_type": "stream",
     "text": [
      " 38%|███▊      | 430k/1.09M [00:08<00:10, 66.3kB/s]"
     ]
    },
    {
     "name": "stdout",
     "output_type": "stream",
     "text": [
      "[####################                    ] | 50% Completed |  1min  4.4s"
     ]
    },
    {
     "name": "stderr",
     "output_type": "stream",
     "text": [
      " 41%|████▏     | 462k/1.09M [00:09<00:09, 69.9kB/s]"
     ]
    },
    {
     "name": "stdout",
     "output_type": "stream",
     "text": [
      "[####################                    ] | 50% Completed |  1min  4.7s"
     ]
    },
    {
     "name": "stderr",
     "output_type": "stream",
     "text": [
      " 44%|████▍     | 494k/1.09M [00:09<00:08, 79.2kB/s]"
     ]
    },
    {
     "name": "stdout",
     "output_type": "stream",
     "text": [
      "[####################                    ] | 50% Completed |  1min  5.2s"
     ]
    },
    {
     "name": "stderr",
     "output_type": "stream",
     "text": [
      " 48%|████▊     | 539k/1.09M [00:09<00:06, 90.0kB/s]"
     ]
    },
    {
     "name": "stdout",
     "output_type": "stream",
     "text": [
      "[####################                    ] | 50% Completed |  1min  5.6s"
     ]
    },
    {
     "name": "stderr",
     "output_type": "stream",
     "text": [
      " 53%|█████▎    | 587k/1.09M [00:10<00:05, 99.5kB/s]"
     ]
    },
    {
     "name": "stdout",
     "output_type": "stream",
     "text": [
      "[####################                    ] | 50% Completed |  1min  6.0s"
     ]
    },
    {
     "name": "stderr",
     "output_type": "stream",
     "text": [
      " 57%|█████▋    | 635k/1.09M [00:10<00:04, 105kB/s] "
     ]
    },
    {
     "name": "stdout",
     "output_type": "stream",
     "text": [
      "[####################                    ] | 50% Completed |  1min  6.8s"
     ]
    },
    {
     "name": "stderr",
     "output_type": "stream",
     "text": [
      " 60%|█████▉    | 667k/1.09M [00:11<00:06, 75.0kB/s]"
     ]
    },
    {
     "name": "stdout",
     "output_type": "stream",
     "text": [
      "[####################                    ] | 50% Completed |  1min  7.1s"
     ]
    },
    {
     "name": "stderr",
     "output_type": "stream",
     "text": [
      " 64%|██████▍   | 715k/1.09M [00:11<00:04, 93.2kB/s]"
     ]
    },
    {
     "name": "stdout",
     "output_type": "stream",
     "text": [
      "[####################                    ] | 50% Completed |  1min  7.4s"
     ]
    },
    {
     "name": "stderr",
     "output_type": "stream",
     "text": [
      " 65%|██████▍   | 726k/1.09M [00:11<00:04, 81.4kB/s]"
     ]
    },
    {
     "name": "stdout",
     "output_type": "stream",
     "text": [
      "[####################                    ] | 50% Completed |  1min  7.8s"
     ]
    },
    {
     "name": "stderr",
     "output_type": "stream",
     "text": [
      " 69%|██████▉   | 776k/1.09M [00:12<00:03, 92.4kB/s]"
     ]
    },
    {
     "name": "stdout",
     "output_type": "stream",
     "text": [
      "[####################                    ] | 50% Completed |  1min  8.6s"
     ]
    },
    {
     "name": "stderr",
     "output_type": "stream",
     "text": [
      " 72%|███████▏  | 800k/1.09M [00:13<00:05, 63.9kB/s]"
     ]
    },
    {
     "name": "stdout",
     "output_type": "stream",
     "text": [
      "[####################                    ] | 50% Completed |  1min  9.0s"
     ]
    },
    {
     "name": "stderr",
     "output_type": "stream",
     "text": [
      " 75%|███████▌  | 840k/1.09M [00:13<00:03, 72.5kB/s]"
     ]
    },
    {
     "name": "stdout",
     "output_type": "stream",
     "text": [
      "[####################                    ] | 50% Completed |  1min  9.4s"
     ]
    },
    {
     "name": "stderr",
     "output_type": "stream",
     "text": [
      " 77%|███████▋  | 864k/1.09M [00:14<00:03, 69.5kB/s]"
     ]
    },
    {
     "name": "stdout",
     "output_type": "stream",
     "text": [
      "[####################                    ] | 50% Completed |  1min  9.7s"
     ]
    },
    {
     "name": "stderr",
     "output_type": "stream",
     "text": [
      " 79%|███████▉  | 880k/1.09M [00:14<00:03, 66.8kB/s]"
     ]
    },
    {
     "name": "stdout",
     "output_type": "stream",
     "text": [
      "[####################                    ] | 50% Completed |  1min 10.1s"
     ]
    },
    {
     "name": "stderr",
     "output_type": "stream",
     "text": [
      " 81%|████████  | 904k/1.09M [00:14<00:03, 64.0kB/s]"
     ]
    },
    {
     "name": "stdout",
     "output_type": "stream",
     "text": [
      "[####################                    ] | 50% Completed |  1min 10.5s"
     ]
    },
    {
     "name": "stderr",
     "output_type": "stream",
     "text": [
      " 83%|████████▎ | 928k/1.09M [00:15<00:03, 62.8kB/s]"
     ]
    },
    {
     "name": "stdout",
     "output_type": "stream",
     "text": [
      "[####################                    ] | 50% Completed |  1min 10.9s"
     ]
    },
    {
     "name": "stderr",
     "output_type": "stream",
     "text": [
      " 85%|████████▌ | 952k/1.09M [00:15<00:02, 62.0kB/s]"
     ]
    },
    {
     "name": "stdout",
     "output_type": "stream",
     "text": [
      "[####################                    ] | 50% Completed |  1min 11.4s"
     ]
    },
    {
     "name": "stderr",
     "output_type": "stream",
     "text": [
      " 87%|████████▋ | 976k/1.09M [00:15<00:02, 61.4kB/s]"
     ]
    },
    {
     "name": "stdout",
     "output_type": "stream",
     "text": [
      "[####################                    ] | 50% Completed |  1min 11.8s"
     ]
    },
    {
     "name": "stderr",
     "output_type": "stream",
     "text": [
      " 89%|████████▉ | 0.98M/1.09M [00:16<00:01, 60.7kB/s]"
     ]
    },
    {
     "name": "stdout",
     "output_type": "stream",
     "text": [
      "[####################                    ] | 50% Completed |  1min 12.2s"
     ]
    },
    {
     "name": "stderr",
     "output_type": "stream",
     "text": [
      " 92%|█████████▏| 1.00M/1.09M [00:16<00:01, 59.9kB/s]"
     ]
    },
    {
     "name": "stdout",
     "output_type": "stream",
     "text": [
      "[####################                    ] | 50% Completed |  1min 12.5s"
     ]
    },
    {
     "name": "stderr",
     "output_type": "stream",
     "text": [
      " 94%|█████████▍| 1.03M/1.09M [00:17<00:00, 71.4kB/s]"
     ]
    },
    {
     "name": "stdout",
     "output_type": "stream",
     "text": [
      "[####################                    ] | 50% Completed |  1min 13.3s"
     ]
    },
    {
     "name": "stderr",
     "output_type": "stream",
     "text": [
      " 97%|█████████▋| 1.05M/1.09M [00:17<00:00, 51.5kB/s]"
     ]
    },
    {
     "name": "stdout",
     "output_type": "stream",
     "text": [
      "[####################                    ] | 50% Completed |  1min 13.4s"
     ]
    },
    {
     "name": "stderr",
     "output_type": "stream",
     "text": [
      "2021-11-17 15:02:30,128 INFO Download rate 54.8K/s  \n"
     ]
    },
    {
     "name": "stdout",
     "output_type": "stream",
     "text": [
      "[####################                    ] | 50% Completed |  1min 13.8s\n",
      "/media/nicolasf/END19101/ICU/data/CDS/operational/hindcasts/ECCC_CanCM4i/TPRATE/ensemble_seas_forecasts_tprate_from_2013_10_ECCC.netcdf downloaded OK\n",
      "\n",
      "[########################################] | 100% Completed |  1min 13.9s\n",
      "processing ECCC, path should be /media/nicolasf/END19101/ICU/data/CDS/operational/hindcasts/ECCC_CanCM4i/TPRATE\n",
      "processing ECCC, path should be /media/nicolasf/END19101/ICU/data/CDS/operational/hindcasts/ECCC_GEM_NEMO/TPRATE\n",
      "[                                        ] | 0% Completed |  0.0s\n",
      "attempting to download tprate for GCM ECCC, for level surface, year 2014, month 10, in netcdf, attempt 1 of 3\n",
      "\n",
      "/media/nicolasf/END19101/ICU/data/CDS/operational/hindcasts/ECCC_GEM_NEMO/TPRATE/ensemble_seas_forecasts_tprate_from_2014_10_ECCC.netcdf exists already on disk, skipping download and returning path\n",
      "\n",
      "\n",
      "[####################                    ] | 50% Completed |  0.4s"
     ]
    },
    {
     "name": "stderr",
     "output_type": "stream",
     "text": [
      "2021-11-17 15:02:31,040 INFO Welcome to the CDS\n",
      "2021-11-17 15:02:31,041 INFO Sending request to https://cds.climate.copernicus.eu/api/v2/resources/seasonal-monthly-single-levels\n"
     ]
    },
    {
     "name": "stdout",
     "output_type": "stream",
     "text": [
      "[####################                    ] | 50% Completed |  0.8s"
     ]
    },
    {
     "name": "stderr",
     "output_type": "stream",
     "text": [
      "2021-11-17 15:02:31,451 INFO Request is queued\n"
     ]
    },
    {
     "name": "stdout",
     "output_type": "stream",
     "text": [
      "[####################                    ] | 50% Completed | 10.5s"
     ]
    },
    {
     "name": "stderr",
     "output_type": "stream",
     "text": [
      "2021-11-17 15:02:41,074 INFO Request is running\n"
     ]
    },
    {
     "name": "stdout",
     "output_type": "stream",
     "text": [
      "[####################                    ] | 50% Completed | 24.1s"
     ]
    },
    {
     "name": "stderr",
     "output_type": "stream",
     "text": [
      "2021-11-17 15:02:54,697 INFO Request is completed\n",
      "2021-11-17 15:02:54,697 INFO Downloading https://download-0004.copernicus-climate.eu/cache-compute-0004/cache/data2/adaptor.mars.external-1637114572.855143-6020-8-771ca0ff-3d79-4d63-8fe5-ebd3f6b4bd8b.nc to /media/nicolasf/END19101/ICU/data/CDS/operational/hindcasts/ECCC_CanCM4i/TPRATE/ensemble_seas_forecasts_tprate_from_2014_10_ECCC.netcdf (1.1M)\n"
     ]
    },
    {
     "name": "stdout",
     "output_type": "stream",
     "text": [
      "[####################                    ] | 50% Completed | 24.5s"
     ]
    },
    {
     "name": "stderr",
     "output_type": "stream",
     "text": [
      "  0%|          | 0.00/1.09M [00:00<?, ?B/s]"
     ]
    },
    {
     "name": "stdout",
     "output_type": "stream",
     "text": [
      "[####################                    ] | 50% Completed | 25.3s"
     ]
    },
    {
     "name": "stderr",
     "output_type": "stream",
     "text": [
      "  1%|          | 8.00k/1.09M [00:00<01:53, 10.0kB/s]"
     ]
    },
    {
     "name": "stdout",
     "output_type": "stream",
     "text": [
      "[####################                    ] | 50% Completed | 25.8s"
     ]
    },
    {
     "name": "stderr",
     "output_type": "stream",
     "text": [
      "  4%|▍         | 42.0k/1.09M [00:01<00:29, 37.4kB/s]"
     ]
    },
    {
     "name": "stdout",
     "output_type": "stream",
     "text": [
      "[####################                    ] | 50% Completed | 26.2s"
     ]
    },
    {
     "name": "stderr",
     "output_type": "stream",
     "text": [
      "  5%|▌         | 58.0k/1.09M [00:01<00:28, 38.3kB/s]"
     ]
    },
    {
     "name": "stdout",
     "output_type": "stream",
     "text": [
      "[####################                    ] | 50% Completed | 26.6s"
     ]
    },
    {
     "name": "stderr",
     "output_type": "stream",
     "text": [
      "  7%|▋         | 74.0k/1.09M [00:02<00:27, 38.9kB/s]"
     ]
    },
    {
     "name": "stdout",
     "output_type": "stream",
     "text": [
      "[####################                    ] | 50% Completed | 27.0s"
     ]
    },
    {
     "name": "stderr",
     "output_type": "stream",
     "text": [
      "  8%|▊         | 90.0k/1.09M [00:02<00:26, 39.1kB/s]"
     ]
    },
    {
     "name": "stdout",
     "output_type": "stream",
     "text": [
      "[####################                    ] | 50% Completed | 27.4s"
     ]
    },
    {
     "name": "stderr",
     "output_type": "stream",
     "text": [
      "  9%|▉         | 106k/1.09M [00:02<00:26, 39.5kB/s] "
     ]
    },
    {
     "name": "stdout",
     "output_type": "stream",
     "text": [
      "[####################                    ] | 50% Completed | 27.8s"
     ]
    },
    {
     "name": "stderr",
     "output_type": "stream",
     "text": [
      " 11%|█         | 122k/1.09M [00:03<00:23, 43.0kB/s]"
     ]
    },
    {
     "name": "stdout",
     "output_type": "stream",
     "text": [
      "[####################                    ] | 50% Completed | 28.1s"
     ]
    },
    {
     "name": "stderr",
     "output_type": "stream",
     "text": [
      " 12%|█▏        | 138k/1.09M [00:03<00:21, 45.8kB/s]"
     ]
    },
    {
     "name": "stdout",
     "output_type": "stream",
     "text": [
      "[####################                    ] | 50% Completed | 28.5s"
     ]
    },
    {
     "name": "stderr",
     "output_type": "stream",
     "text": [
      " 14%|█▍        | 154k/1.09M [00:03<00:22, 43.8kB/s]"
     ]
    },
    {
     "name": "stdout",
     "output_type": "stream",
     "text": [
      "[####################                    ] | 50% Completed | 28.9s"
     ]
    },
    {
     "name": "stderr",
     "output_type": "stream",
     "text": [
      " 15%|█▌        | 170k/1.09M [00:04<00:22, 42.6kB/s]"
     ]
    },
    {
     "name": "stdout",
     "output_type": "stream",
     "text": [
      "[####################                    ] | 50% Completed | 29.3s"
     ]
    },
    {
     "name": "stderr",
     "output_type": "stream",
     "text": [
      " 17%|█▋        | 194k/1.09M [00:04<00:19, 48.1kB/s]"
     ]
    },
    {
     "name": "stdout",
     "output_type": "stream",
     "text": [
      "[####################                    ] | 50% Completed | 29.6s"
     ]
    },
    {
     "name": "stderr",
     "output_type": "stream",
     "text": [
      " 19%|█▉        | 210k/1.09M [00:05<00:18, 50.1kB/s]"
     ]
    },
    {
     "name": "stdout",
     "output_type": "stream",
     "text": [
      "[####################                    ] | 50% Completed | 30.0s"
     ]
    },
    {
     "name": "stderr",
     "output_type": "stream",
     "text": [
      " 21%|██        | 234k/1.09M [00:05<00:17, 52.6kB/s]"
     ]
    },
    {
     "name": "stdout",
     "output_type": "stream",
     "text": [
      "[####################                    ] | 50% Completed | 30.5s"
     ]
    },
    {
     "name": "stderr",
     "output_type": "stream",
     "text": [
      " 23%|██▎       | 262k/1.09M [00:06<00:16, 53.9kB/s]"
     ]
    },
    {
     "name": "stdout",
     "output_type": "stream",
     "text": [
      "[####################                    ] | 50% Completed | 30.8s"
     ]
    },
    {
     "name": "stderr",
     "output_type": "stream",
     "text": [
      " 26%|██▋       | 294k/1.09M [00:06<00:12, 66.5kB/s]"
     ]
    },
    {
     "name": "stdout",
     "output_type": "stream",
     "text": [
      "[####################                    ] | 50% Completed | 31.1s"
     ]
    },
    {
     "name": "stderr",
     "output_type": "stream",
     "text": [
      " 29%|██▉       | 326k/1.09M [00:06<00:10, 76.7kB/s]"
     ]
    },
    {
     "name": "stdout",
     "output_type": "stream",
     "text": [
      "[####################                    ] | 50% Completed | 31.5s"
     ]
    },
    {
     "name": "stderr",
     "output_type": "stream",
     "text": [
      " 32%|███▏      | 358k/1.09M [00:07<00:10, 77.7kB/s]"
     ]
    },
    {
     "name": "stdout",
     "output_type": "stream",
     "text": [
      "[####################                    ] | 50% Completed | 32.3s"
     ]
    },
    {
     "name": "stderr",
     "output_type": "stream",
     "text": [
      " 35%|███▍      | 390k/1.09M [00:07<00:12, 59.5kB/s]"
     ]
    },
    {
     "name": "stdout",
     "output_type": "stream",
     "text": [
      "[####################                    ] | 50% Completed | 32.7s"
     ]
    },
    {
     "name": "stderr",
     "output_type": "stream",
     "text": [
      " 38%|███▊      | 422k/1.09M [00:08<00:10, 64.9kB/s]"
     ]
    },
    {
     "name": "stdout",
     "output_type": "stream",
     "text": [
      "[####################                    ] | 50% Completed | 33.1s"
     ]
    },
    {
     "name": "stderr",
     "output_type": "stream",
     "text": [
      " 41%|████      | 454k/1.09M [00:08<00:09, 69.0kB/s]"
     ]
    },
    {
     "name": "stdout",
     "output_type": "stream",
     "text": [
      "[####################                    ] | 50% Completed | 33.5s"
     ]
    },
    {
     "name": "stderr",
     "output_type": "stream",
     "text": [
      " 43%|████▎     | 486k/1.09M [00:09<00:08, 71.9kB/s]"
     ]
    },
    {
     "name": "stdout",
     "output_type": "stream",
     "text": [
      "[####################                    ] | 50% Completed | 33.9s"
     ]
    },
    {
     "name": "stderr",
     "output_type": "stream",
     "text": [
      " 46%|████▌     | 515k/1.09M [00:09<00:07, 77.6kB/s]"
     ]
    },
    {
     "name": "stdout",
     "output_type": "stream",
     "text": [
      "[####################                    ] | 50% Completed | 34.1s"
     ]
    },
    {
     "name": "stderr",
     "output_type": "stream",
     "text": [
      " 49%|████▉     | 547k/1.09M [00:09<00:06, 85.9kB/s]"
     ]
    },
    {
     "name": "stdout",
     "output_type": "stream",
     "text": [
      "[####################                    ] | 50% Completed | 34.6s"
     ]
    },
    {
     "name": "stderr",
     "output_type": "stream",
     "text": [
      " 52%|█████▏    | 579k/1.09M [00:10<00:06, 82.9kB/s]"
     ]
    },
    {
     "name": "stdout",
     "output_type": "stream",
     "text": [
      "[####################                    ] | 50% Completed | 34.9s"
     ]
    },
    {
     "name": "stderr",
     "output_type": "stream",
     "text": [
      " 55%|█████▌    | 619k/1.09M [00:10<00:05, 94.6kB/s]"
     ]
    },
    {
     "name": "stdout",
     "output_type": "stream",
     "text": [
      "[####################                    ] | 50% Completed | 35.3s"
     ]
    },
    {
     "name": "stderr",
     "output_type": "stream",
     "text": [
      " 58%|█████▊    | 651k/1.09M [00:10<00:05, 90.8kB/s]"
     ]
    },
    {
     "name": "stdout",
     "output_type": "stream",
     "text": [
      "[####################                    ] | 50% Completed | 36.2s"
     ]
    },
    {
     "name": "stderr",
     "output_type": "stream",
     "text": [
      " 62%|██████▏   | 691k/1.09M [00:11<00:06, 71.2kB/s]"
     ]
    },
    {
     "name": "stdout",
     "output_type": "stream",
     "text": [
      "[####################                    ] | 50% Completed | 36.7s"
     ]
    },
    {
     "name": "stderr",
     "output_type": "stream",
     "text": [
      " 67%|██████▋   | 747k/1.09M [00:12<00:04, 83.4kB/s]"
     ]
    },
    {
     "name": "stdout",
     "output_type": "stream",
     "text": [
      "[####################                    ] | 50% Completed | 37.0s"
     ]
    },
    {
     "name": "stderr",
     "output_type": "stream",
     "text": [
      " 69%|██████▉   | 776k/1.09M [00:12<00:04, 86.1kB/s]"
     ]
    },
    {
     "name": "stdout",
     "output_type": "stream",
     "text": [
      "[####################                    ] | 50% Completed | 37.3s"
     ]
    },
    {
     "name": "stderr",
     "output_type": "stream",
     "text": [
      " 72%|███████▏  | 800k/1.09M [00:12<00:03, 84.9kB/s]"
     ]
    },
    {
     "name": "stdout",
     "output_type": "stream",
     "text": [
      "[####################                    ] | 50% Completed | 37.7s"
     ]
    },
    {
     "name": "stderr",
     "output_type": "stream",
     "text": [
      " 74%|███████▍  | 832k/1.09M [00:13<00:03, 83.4kB/s]"
     ]
    },
    {
     "name": "stdout",
     "output_type": "stream",
     "text": [
      "[####################                    ] | 50% Completed | 38.0s"
     ]
    },
    {
     "name": "stderr",
     "output_type": "stream",
     "text": [
      " 77%|███████▋  | 864k/1.09M [00:13<00:02, 89.1kB/s]"
     ]
    },
    {
     "name": "stdout",
     "output_type": "stream",
     "text": [
      "[####################                    ] | 50% Completed | 38.4s"
     ]
    },
    {
     "name": "stderr",
     "output_type": "stream",
     "text": [
      " 80%|████████  | 896k/1.09M [00:13<00:02, 86.2kB/s]"
     ]
    },
    {
     "name": "stdout",
     "output_type": "stream",
     "text": [
      "[####################                    ] | 50% Completed | 39.2s"
     ]
    },
    {
     "name": "stderr",
     "output_type": "stream",
     "text": [
      " 83%|████████▎ | 928k/1.09M [00:14<00:03, 64.2kB/s]"
     ]
    },
    {
     "name": "stdout",
     "output_type": "stream",
     "text": [
      "[####################                    ] | 50% Completed | 39.8s"
     ]
    },
    {
     "name": "stderr",
     "output_type": "stream",
     "text": [
      " 88%|████████▊ | 984k/1.09M [00:15<00:01, 74.1kB/s]"
     ]
    },
    {
     "name": "stdout",
     "output_type": "stream",
     "text": [
      "[####################                    ] | 50% Completed | 40.2s"
     ]
    },
    {
     "name": "stderr",
     "output_type": "stream",
     "text": [
      " 90%|█████████ | 0.98M/1.09M [00:15<00:01, 70.4kB/s]"
     ]
    },
    {
     "name": "stdout",
     "output_type": "stream",
     "text": [
      "[####################                    ] | 50% Completed | 40.7s"
     ]
    },
    {
     "name": "stderr",
     "output_type": "stream",
     "text": [
      " 93%|█████████▎| 1.01M/1.09M [00:16<00:01, 71.9kB/s]"
     ]
    },
    {
     "name": "stdout",
     "output_type": "stream",
     "text": [
      "[####################                    ] | 50% Completed | 41.2s"
     ]
    },
    {
     "name": "stderr",
     "output_type": "stream",
     "text": [
      " 95%|█████████▌| 1.04M/1.09M [00:16<00:00, 64.9kB/s]"
     ]
    },
    {
     "name": "stdout",
     "output_type": "stream",
     "text": [
      "[####################                    ] | 50% Completed | 41.6s"
     ]
    },
    {
     "name": "stderr",
     "output_type": "stream",
     "text": [
      " 98%|█████████▊| 1.07M/1.09M [00:17<00:00, 68.7kB/s]"
     ]
    },
    {
     "name": "stdout",
     "output_type": "stream",
     "text": [
      "[####################                    ] | 50% Completed | 41.7s"
     ]
    },
    {
     "name": "stderr",
     "output_type": "stream",
     "text": [
      "2021-11-17 15:03:12,316 INFO Download rate 63.4K/s  \n"
     ]
    },
    {
     "name": "stdout",
     "output_type": "stream",
     "text": [
      "[####################                    ] | 50% Completed | 42.1s\n",
      "/media/nicolasf/END19101/ICU/data/CDS/operational/hindcasts/ECCC_CanCM4i/TPRATE/ensemble_seas_forecasts_tprate_from_2014_10_ECCC.netcdf downloaded OK\n",
      "\n",
      "[########################################] | 100% Completed | 42.2s\n",
      "processing ECCC, path should be /media/nicolasf/END19101/ICU/data/CDS/operational/hindcasts/ECCC_CanCM4i/TPRATE\n",
      "processing ECCC, path should be /media/nicolasf/END19101/ICU/data/CDS/operational/hindcasts/ECCC_GEM_NEMO/TPRATE\n",
      "[                                        ] | 0% Completed |  0.0s\n",
      "/media/nicolasf/END19101/ICU/data/CDS/operational/hindcasts/ECCC_GEM_NEMO/TPRATE/ensemble_seas_forecasts_tprate_from_2015_10_ECCC.netcdf exists already on disk, skipping download and returning path\n",
      "\n",
      "\n",
      "attempting to download tprate for GCM ECCC, for level surface, year 2015, month 10, in netcdf, attempt 1 of 3\n",
      "\n",
      "[####################                    ] | 50% Completed |  0.3s"
     ]
    },
    {
     "name": "stderr",
     "output_type": "stream",
     "text": [
      "2021-11-17 15:03:13,128 INFO Welcome to the CDS\n",
      "2021-11-17 15:03:13,128 INFO Sending request to https://cds.climate.copernicus.eu/api/v2/resources/seasonal-monthly-single-levels\n"
     ]
    },
    {
     "name": "stdout",
     "output_type": "stream",
     "text": [
      "[####################                    ] | 50% Completed |  0.6s"
     ]
    },
    {
     "name": "stderr",
     "output_type": "stream",
     "text": [
      "2021-11-17 15:03:13,436 INFO Request is queued\n"
     ]
    },
    {
     "name": "stdout",
     "output_type": "stream",
     "text": [
      "[####################                    ] | 50% Completed | 23.9s"
     ]
    },
    {
     "name": "stderr",
     "output_type": "stream",
     "text": [
      "2021-11-17 15:03:36,679 INFO Request is running\n"
     ]
    },
    {
     "name": "stdout",
     "output_type": "stream",
     "text": [
      "[####################                    ] | 50% Completed | 35.8s"
     ]
    },
    {
     "name": "stderr",
     "output_type": "stream",
     "text": [
      "2021-11-17 15:03:48,561 INFO Request is completed\n",
      "2021-11-17 15:03:48,562 INFO Downloading https://download-0003.copernicus-climate.eu/cache-compute-0003/cache/data9/adaptor.mars.external-1637114627.3633406-30089-13-0f9c6a3d-e42d-4f20-9eb3-0eb054b52cc4.nc to /media/nicolasf/END19101/ICU/data/CDS/operational/hindcasts/ECCC_CanCM4i/TPRATE/ensemble_seas_forecasts_tprate_from_2015_10_ECCC.netcdf (1.1M)\n"
     ]
    },
    {
     "name": "stdout",
     "output_type": "stream",
     "text": [
      "[####################                    ] | 50% Completed | 37.8s"
     ]
    },
    {
     "name": "stderr",
     "output_type": "stream",
     "text": [
      "  0%|          | 0.00/1.09M [00:00<?, ?B/s]"
     ]
    },
    {
     "name": "stdout",
     "output_type": "stream",
     "text": [
      "[####################                    ] | 50% Completed | 38.2s"
     ]
    },
    {
     "name": "stderr",
     "output_type": "stream",
     "text": [
      "  1%|▏         | 16.0k/1.09M [00:00<00:28, 40.0kB/s]"
     ]
    },
    {
     "name": "stdout",
     "output_type": "stream",
     "text": [
      "[####################                    ] | 50% Completed | 38.8s"
     ]
    },
    {
     "name": "stderr",
     "output_type": "stream",
     "text": [
      "  3%|▎         | 34.0k/1.09M [00:01<00:33, 33.3kB/s]"
     ]
    },
    {
     "name": "stdout",
     "output_type": "stream",
     "text": [
      "[####################                    ] | 50% Completed | 39.1s"
     ]
    },
    {
     "name": "stderr",
     "output_type": "stream",
     "text": [
      " 11%|█         | 125k/1.09M [00:01<00:08, 124kB/s]  "
     ]
    },
    {
     "name": "stdout",
     "output_type": "stream",
     "text": [
      "[####################                    ] | 50% Completed | 39.4s"
     ]
    },
    {
     "name": "stderr",
     "output_type": "stream",
     "text": [
      " 15%|█▌        | 173k/1.09M [00:01<00:07, 138kB/s]"
     ]
    },
    {
     "name": "stdout",
     "output_type": "stream",
     "text": [
      "[####################                    ] | 50% Completed | 40.0s"
     ]
    },
    {
     "name": "stderr",
     "output_type": "stream",
     "text": [
      " 20%|█▉        | 219k/1.09M [00:02<00:08, 105kB/s]"
     ]
    },
    {
     "name": "stdout",
     "output_type": "stream",
     "text": [
      "[####################                    ] | 50% Completed | 40.3s"
     ]
    },
    {
     "name": "stderr",
     "output_type": "stream",
     "text": [
      " 22%|██▏       | 243k/1.09M [00:02<00:08, 99.7kB/s]"
     ]
    },
    {
     "name": "stdout",
     "output_type": "stream",
     "text": [
      "[####################                    ] | 50% Completed | 40.6s"
     ]
    },
    {
     "name": "stderr",
     "output_type": "stream",
     "text": [
      " 23%|██▎       | 262k/1.09M [00:02<00:09, 89.5kB/s]"
     ]
    },
    {
     "name": "stdout",
     "output_type": "stream",
     "text": [
      "[####################                    ] | 50% Completed | 41.5s"
     ]
    },
    {
     "name": "stderr",
     "output_type": "stream",
     "text": [
      " 28%|██▊       | 310k/1.09M [00:03<00:11, 74.6kB/s]"
     ]
    },
    {
     "name": "stdout",
     "output_type": "stream",
     "text": [
      "[####################                    ] | 50% Completed | 42.2s"
     ]
    },
    {
     "name": "stderr",
     "output_type": "stream",
     "text": [
      " 29%|██▉       | 326k/1.09M [00:04<00:14, 54.7kB/s]"
     ]
    },
    {
     "name": "stdout",
     "output_type": "stream",
     "text": [
      "[####################                    ] | 50% Completed | 43.2s"
     ]
    },
    {
     "name": "stderr",
     "output_type": "stream",
     "text": [
      " 33%|███▎      | 366k/1.09M [00:05<00:15, 48.2kB/s]"
     ]
    },
    {
     "name": "stdout",
     "output_type": "stream",
     "text": [
      "[####################                    ] | 50% Completed | 44.0s"
     ]
    },
    {
     "name": "stderr",
     "output_type": "stream",
     "text": [
      " 34%|███▍      | 382k/1.09M [00:06<00:19, 38.8kB/s]"
     ]
    },
    {
     "name": "stdout",
     "output_type": "stream",
     "text": [
      "[####################                    ] | 50% Completed | 44.8s"
     ]
    },
    {
     "name": "stderr",
     "output_type": "stream",
     "text": [
      " 36%|███▋      | 406k/1.09M [00:07<00:20, 36.0kB/s]"
     ]
    },
    {
     "name": "stdout",
     "output_type": "stream",
     "text": [
      "[####################                    ] | 50% Completed | 45.1s"
     ]
    },
    {
     "name": "stderr",
     "output_type": "stream",
     "text": [
      " 38%|███▊      | 430k/1.09M [00:07<00:16, 42.8kB/s]"
     ]
    },
    {
     "name": "stdout",
     "output_type": "stream",
     "text": [
      "[####################                    ] | 50% Completed | 45.5s"
     ]
    },
    {
     "name": "stderr",
     "output_type": "stream",
     "text": [
      " 40%|███▉      | 446k/1.09M [00:07<00:16, 41.9kB/s]"
     ]
    },
    {
     "name": "stdout",
     "output_type": "stream",
     "text": [
      "[####################                    ] | 50% Completed | 45.8s"
     ]
    },
    {
     "name": "stderr",
     "output_type": "stream",
     "text": [
      " 41%|████      | 454k/1.09M [00:08<00:17, 39.3kB/s]"
     ]
    },
    {
     "name": "stdout",
     "output_type": "stream",
     "text": [
      "[####################                    ] | 50% Completed | 46.1s"
     ]
    },
    {
     "name": "stderr",
     "output_type": "stream",
     "text": [
      " 42%|████▏     | 470k/1.09M [00:08<00:15, 41.9kB/s]"
     ]
    },
    {
     "name": "stdout",
     "output_type": "stream",
     "text": [
      "[####################                    ] | 50% Completed | 46.4s"
     ]
    },
    {
     "name": "stderr",
     "output_type": "stream",
     "text": [
      " 43%|████▎     | 486k/1.09M [00:08<00:14, 44.6kB/s]"
     ]
    },
    {
     "name": "stdout",
     "output_type": "stream",
     "text": [
      "[####################                    ] | 50% Completed | 46.7s"
     ]
    },
    {
     "name": "stderr",
     "output_type": "stream",
     "text": [
      " 44%|████▍     | 494k/1.09M [00:08<00:15, 40.5kB/s]"
     ]
    },
    {
     "name": "stdout",
     "output_type": "stream",
     "text": [
      "[####################                    ] | 50% Completed | 47.0s"
     ]
    },
    {
     "name": "stderr",
     "output_type": "stream",
     "text": [
      " 45%|████▌     | 507k/1.09M [00:09<00:15, 40.8kB/s]"
     ]
    },
    {
     "name": "stdout",
     "output_type": "stream",
     "text": [
      "[####################                    ] | 50% Completed | 47.3s"
     ]
    },
    {
     "name": "stderr",
     "output_type": "stream",
     "text": [
      " 47%|████▋     | 523k/1.09M [00:09<00:13, 44.2kB/s]"
     ]
    },
    {
     "name": "stdout",
     "output_type": "stream",
     "text": [
      "[####################                    ] | 50% Completed | 47.6s"
     ]
    },
    {
     "name": "stderr",
     "output_type": "stream",
     "text": [
      " 48%|████▊     | 539k/1.09M [00:09<00:12, 47.3kB/s]"
     ]
    },
    {
     "name": "stdout",
     "output_type": "stream",
     "text": [
      "[####################                    ] | 50% Completed | 48.0s"
     ]
    },
    {
     "name": "stderr",
     "output_type": "stream",
     "text": [
      " 50%|████▉     | 555k/1.09M [00:10<00:11, 48.4kB/s]"
     ]
    },
    {
     "name": "stdout",
     "output_type": "stream",
     "text": [
      "[####################                    ] | 50% Completed | 48.7s"
     ]
    },
    {
     "name": "stderr",
     "output_type": "stream",
     "text": [
      " 51%|█████     | 571k/1.09M [00:10<00:15, 35.7kB/s]"
     ]
    },
    {
     "name": "stdout",
     "output_type": "stream",
     "text": [
      "[####################                    ] | 50% Completed | 49.7s"
     ]
    },
    {
     "name": "stderr",
     "output_type": "stream",
     "text": [
      " 53%|█████▎    | 587k/1.09M [00:11<00:19, 27.4kB/s]"
     ]
    },
    {
     "name": "stdout",
     "output_type": "stream",
     "text": [
      "[####################                    ] | 50% Completed | 50.3s"
     ]
    },
    {
     "name": "stderr",
     "output_type": "stream",
     "text": [
      " 54%|█████▍    | 603k/1.09M [00:12<00:19, 27.2kB/s]"
     ]
    },
    {
     "name": "stdout",
     "output_type": "stream",
     "text": [
      "[####################                    ] | 50% Completed | 51.1s"
     ]
    },
    {
     "name": "stderr",
     "output_type": "stream",
     "text": [
      " 55%|█████▌    | 619k/1.09M [00:13<00:20, 24.5kB/s]"
     ]
    },
    {
     "name": "stdout",
     "output_type": "stream",
     "text": [
      "[####################                    ] | 50% Completed | 51.5s"
     ]
    },
    {
     "name": "stderr",
     "output_type": "stream",
     "text": [
      " 56%|█████▌    | 627k/1.09M [00:13<00:21, 23.6kB/s]"
     ]
    },
    {
     "name": "stdout",
     "output_type": "stream",
     "text": [
      "[####################                    ] | 50% Completed | 52.1s"
     ]
    },
    {
     "name": "stderr",
     "output_type": "stream",
     "text": [
      " 57%|█████▋    | 635k/1.09M [00:14<00:24, 20.5kB/s]"
     ]
    },
    {
     "name": "stdout",
     "output_type": "stream",
     "text": [
      "[####################                    ] | 50% Completed | 52.4s"
     ]
    },
    {
     "name": "stderr",
     "output_type": "stream",
     "text": [
      " 58%|█████▊    | 643k/1.09M [00:14<00:22, 21.5kB/s]"
     ]
    },
    {
     "name": "stdout",
     "output_type": "stream",
     "text": [
      "[####################                    ] | 50% Completed | 52.8s"
     ]
    },
    {
     "name": "stderr",
     "output_type": "stream",
     "text": [
      " 58%|█████▊    | 651k/1.09M [00:15<00:22, 21.1kB/s]"
     ]
    },
    {
     "name": "stdout",
     "output_type": "stream",
     "text": [
      "[####################                    ] | 50% Completed | 53.2s"
     ]
    },
    {
     "name": "stderr",
     "output_type": "stream",
     "text": [
      " 59%|█████▉    | 659k/1.09M [00:15<00:22, 20.8kB/s]"
     ]
    },
    {
     "name": "stdout",
     "output_type": "stream",
     "text": [
      "[####################                    ] | 50% Completed | 53.6s"
     ]
    },
    {
     "name": "stderr",
     "output_type": "stream",
     "text": [
      " 60%|█████▉    | 667k/1.09M [00:15<00:22, 20.6kB/s]"
     ]
    },
    {
     "name": "stdout",
     "output_type": "stream",
     "text": [
      "[####################                    ] | 50% Completed | 54.5s"
     ]
    },
    {
     "name": "stderr",
     "output_type": "stream",
     "text": [
      " 60%|██████    | 675k/1.09M [00:16<00:28, 15.9kB/s]"
     ]
    },
    {
     "name": "stdout",
     "output_type": "stream",
     "text": [
      "[####################                    ] | 50% Completed | 55.3s"
     ]
    },
    {
     "name": "stderr",
     "output_type": "stream",
     "text": [
      " 62%|██████▏   | 691k/1.09M [00:17<00:24, 17.5kB/s]"
     ]
    },
    {
     "name": "stdout",
     "output_type": "stream",
     "text": [
      "[####################                    ] | 50% Completed | 55.6s"
     ]
    },
    {
     "name": "stderr",
     "output_type": "stream",
     "text": [
      " 63%|██████▎   | 699k/1.09M [00:17<00:22, 19.1kB/s]"
     ]
    },
    {
     "name": "stdout",
     "output_type": "stream",
     "text": [
      "[####################                    ] | 50% Completed | 56.4s"
     ]
    },
    {
     "name": "stderr",
     "output_type": "stream",
     "text": [
      " 63%|██████▎   | 707k/1.09M [00:18<00:27, 15.5kB/s]"
     ]
    },
    {
     "name": "stdout",
     "output_type": "stream",
     "text": [
      "[####################                    ] | 50% Completed | 57.9s"
     ]
    },
    {
     "name": "stderr",
     "output_type": "stream",
     "text": [
      " 64%|██████▍   | 715k/1.09M [00:20<00:40, 10.2kB/s]"
     ]
    },
    {
     "name": "stdout",
     "output_type": "stream",
     "text": [
      "[####################                    ] | 50% Completed | 58.2s"
     ]
    },
    {
     "name": "stderr",
     "output_type": "stream",
     "text": [
      " 65%|██████▍   | 723k/1.09M [00:20<00:32, 12.4kB/s]"
     ]
    },
    {
     "name": "stdout",
     "output_type": "stream",
     "text": [
      "[####################                    ] | 50% Completed | 59.0s"
     ]
    },
    {
     "name": "stderr",
     "output_type": "stream",
     "text": [
      " 65%|██████▌   | 731k/1.09M [00:21<00:33, 11.9kB/s]"
     ]
    },
    {
     "name": "stdout",
     "output_type": "stream",
     "text": [
      "[####################                    ] | 50% Completed | 59.3s"
     ]
    },
    {
     "name": "stderr",
     "output_type": "stream",
     "text": [
      " 66%|██████▌   | 739k/1.09M [00:21<00:28, 13.7kB/s]"
     ]
    },
    {
     "name": "stdout",
     "output_type": "stream",
     "text": [
      "[####################                    ] | 50% Completed | 59.8s"
     ]
    },
    {
     "name": "stderr",
     "output_type": "stream",
     "text": [
      " 67%|██████▋   | 747k/1.09M [00:22<00:25, 15.1kB/s]"
     ]
    },
    {
     "name": "stdout",
     "output_type": "stream",
     "text": [
      "[####################                    ] | 50% Completed |  1min  0.1s"
     ]
    },
    {
     "name": "stderr",
     "output_type": "stream",
     "text": [
      " 68%|██████▊   | 755k/1.09M [00:22<00:21, 17.3kB/s]"
     ]
    },
    {
     "name": "stdout",
     "output_type": "stream",
     "text": [
      "[####################                    ] | 50% Completed |  1min  1.9s"
     ]
    },
    {
     "name": "stderr",
     "output_type": "stream",
     "text": [
      " 68%|██████▊   | 760k/1.09M [00:24<00:44, 8.29kB/s]"
     ]
    },
    {
     "name": "stdout",
     "output_type": "stream",
     "text": [
      "[####################                    ] | 50% Completed |  1min  3.4s"
     ]
    },
    {
     "name": "stderr",
     "output_type": "stream",
     "text": [
      " 69%|██████▊   | 768k/1.09M [00:25<00:49, 7.24kB/s]"
     ]
    },
    {
     "name": "stdout",
     "output_type": "stream",
     "text": [
      "[####################                    ] | 50% Completed |  1min  3.7s"
     ]
    },
    {
     "name": "stderr",
     "output_type": "stream",
     "text": [
      " 69%|██████▉   | 776k/1.09M [00:25<00:37, 9.40kB/s]"
     ]
    },
    {
     "name": "stdout",
     "output_type": "stream",
     "text": [
      "[####################                    ] | 50% Completed |  1min  4.4s"
     ]
    },
    {
     "name": "stderr",
     "output_type": "stream",
     "text": [
      " 70%|███████   | 784k/1.09M [00:26<00:34, 9.95kB/s]"
     ]
    },
    {
     "name": "stdout",
     "output_type": "stream",
     "text": [
      "[####################                    ] | 50% Completed |  1min  4.8s"
     ]
    },
    {
     "name": "stderr",
     "output_type": "stream",
     "text": [
      " 71%|███████   | 792k/1.09M [00:27<00:28, 11.8kB/s]"
     ]
    },
    {
     "name": "stdout",
     "output_type": "stream",
     "text": [
      "[####################                    ] | 50% Completed |  1min  5.6s"
     ]
    },
    {
     "name": "stderr",
     "output_type": "stream",
     "text": [
      " 72%|███████▏  | 800k/1.09M [00:27<00:29, 11.2kB/s]"
     ]
    },
    {
     "name": "stdout",
     "output_type": "stream",
     "text": [
      "[####################                    ] | 50% Completed |  1min  6.4s"
     ]
    },
    {
     "name": "stderr",
     "output_type": "stream",
     "text": [
      " 72%|███████▏  | 808k/1.09M [00:28<00:28, 11.3kB/s]"
     ]
    },
    {
     "name": "stdout",
     "output_type": "stream",
     "text": [
      "[####################                    ] | 50% Completed |  1min  6.8s"
     ]
    },
    {
     "name": "stderr",
     "output_type": "stream",
     "text": [
      " 73%|███████▎  | 816k/1.09M [00:28<00:23, 13.0kB/s]"
     ]
    },
    {
     "name": "stdout",
     "output_type": "stream",
     "text": [
      "[####################                    ] | 50% Completed |  1min  7.2s"
     ]
    },
    {
     "name": "stderr",
     "output_type": "stream",
     "text": [
      " 74%|███████▎  | 824k/1.09M [00:29<00:20, 14.5kB/s]"
     ]
    },
    {
     "name": "stdout",
     "output_type": "stream",
     "text": [
      "[####################                    ] | 50% Completed |  1min  7.6s"
     ]
    },
    {
     "name": "stderr",
     "output_type": "stream",
     "text": [
      " 74%|███████▍  | 832k/1.09M [00:29<00:18, 15.8kB/s]"
     ]
    },
    {
     "name": "stdout",
     "output_type": "stream",
     "text": [
      "[####################                    ] | 50% Completed |  1min  8.0s"
     ]
    },
    {
     "name": "stderr",
     "output_type": "stream",
     "text": [
      " 75%|███████▌  | 840k/1.09M [00:30<00:16, 16.9kB/s]"
     ]
    },
    {
     "name": "stdout",
     "output_type": "stream",
     "text": [
      "[####################                    ] | 50% Completed |  1min  8.4s"
     ]
    },
    {
     "name": "stderr",
     "output_type": "stream",
     "text": [
      " 77%|███████▋  | 856k/1.09M [00:30<00:11, 23.0kB/s]"
     ]
    },
    {
     "name": "stdout",
     "output_type": "stream",
     "text": [
      "[####################                    ] | 50% Completed |  1min  9.1s"
     ]
    },
    {
     "name": "stderr",
     "output_type": "stream",
     "text": [
      " 78%|███████▊  | 872k/1.09M [00:31<00:10, 23.0kB/s]"
     ]
    },
    {
     "name": "stdout",
     "output_type": "stream",
     "text": [
      "[####################                    ] | 50% Completed |  1min  9.4s"
     ]
    },
    {
     "name": "stderr",
     "output_type": "stream",
     "text": [
      " 79%|███████▉  | 888k/1.09M [00:31<00:08, 28.9kB/s]"
     ]
    },
    {
     "name": "stdout",
     "output_type": "stream",
     "text": [
      "[####################                    ] | 50% Completed |  1min  9.8s"
     ]
    },
    {
     "name": "stderr",
     "output_type": "stream",
     "text": [
      " 82%|████████▏ | 920k/1.09M [00:32<00:04, 42.8kB/s]"
     ]
    },
    {
     "name": "stdout",
     "output_type": "stream",
     "text": [
      "[####################                    ] | 50% Completed |  1min 10.5s"
     ]
    },
    {
     "name": "stderr",
     "output_type": "stream",
     "text": [
      " 83%|████████▎ | 928k/1.09M [00:32<00:06, 30.1kB/s]"
     ]
    },
    {
     "name": "stdout",
     "output_type": "stream",
     "text": [
      "[####################                    ] | 50% Completed |  1min 11.2s"
     ]
    },
    {
     "name": "stderr",
     "output_type": "stream",
     "text": [
      " 84%|████████▍ | 936k/1.09M [00:33<00:07, 23.4kB/s]"
     ]
    },
    {
     "name": "stdout",
     "output_type": "stream",
     "text": [
      "[####################                    ] | 50% Completed |  1min 11.8s"
     ]
    },
    {
     "name": "stderr",
     "output_type": "stream",
     "text": [
      " 85%|████████▌ | 952k/1.09M [00:34<00:06, 24.3kB/s]"
     ]
    },
    {
     "name": "stdout",
     "output_type": "stream",
     "text": [
      "[####################                    ] | 50% Completed |  1min 16.0s"
     ]
    },
    {
     "name": "stderr",
     "output_type": "stream",
     "text": [
      " 87%|████████▋ | 976k/1.09M [00:38<00:13, 10.4kB/s]"
     ]
    },
    {
     "name": "stdout",
     "output_type": "stream",
     "text": [
      "[####################                    ] | 50% Completed |  1min 16.3s"
     ]
    },
    {
     "name": "stderr",
     "output_type": "stream",
     "text": [
      " 88%|████████▊ | 984k/1.09M [00:38<00:11, 11.7kB/s]"
     ]
    },
    {
     "name": "stdout",
     "output_type": "stream",
     "text": [
      "[####################                    ] | 50% Completed |  1min 16.6s"
     ]
    },
    {
     "name": "stderr",
     "output_type": "stream",
     "text": [
      " 89%|████████▉ | 992k/1.09M [00:38<00:09, 13.0kB/s]"
     ]
    },
    {
     "name": "stdout",
     "output_type": "stream",
     "text": [
      "[####################                    ] | 50% Completed |  1min 17.5s"
     ]
    },
    {
     "name": "stderr",
     "output_type": "stream",
     "text": [
      " 89%|████████▉ | 0.98M/1.09M [00:39<00:09, 12.2kB/s]"
     ]
    },
    {
     "name": "stdout",
     "output_type": "stream",
     "text": [
      "[####################                    ] | 50% Completed |  1min 18.3s"
     ]
    },
    {
     "name": "stderr",
     "output_type": "stream",
     "text": [
      " 90%|█████████ | 0.98M/1.09M [00:40<00:09, 12.0kB/s]"
     ]
    },
    {
     "name": "stdout",
     "output_type": "stream",
     "text": [
      "[####################                    ] | 50% Completed |  1min 18.7s"
     ]
    },
    {
     "name": "stderr",
     "output_type": "stream",
     "text": [
      " 91%|█████████ | 0.99M/1.09M [00:40<00:07, 13.4kB/s]"
     ]
    },
    {
     "name": "stdout",
     "output_type": "stream",
     "text": [
      "[####################                    ] | 50% Completed |  1min 19.2s"
     ]
    },
    {
     "name": "stderr",
     "output_type": "stream",
     "text": [
      " 92%|█████████▏| 1.00M/1.09M [00:41<00:07, 13.5kB/s]"
     ]
    },
    {
     "name": "stdout",
     "output_type": "stream",
     "text": [
      "[####################                    ] | 50% Completed |  1min 19.6s"
     ]
    },
    {
     "name": "stderr",
     "output_type": "stream",
     "text": [
      " 92%|█████████▏| 1.01M/1.09M [00:41<00:05, 14.9kB/s]"
     ]
    },
    {
     "name": "stdout",
     "output_type": "stream",
     "text": [
      "[####################                    ] | 50% Completed |  1min 20.0s"
     ]
    },
    {
     "name": "stderr",
     "output_type": "stream",
     "text": [
      " 93%|█████████▎| 1.01M/1.09M [00:42<00:05, 16.0kB/s]"
     ]
    },
    {
     "name": "stdout",
     "output_type": "stream",
     "text": [
      "[####################                    ] | 50% Completed |  1min 20.4s"
     ]
    },
    {
     "name": "stderr",
     "output_type": "stream",
     "text": [
      " 94%|█████████▎| 1.02M/1.09M [00:42<00:04, 17.0kB/s]"
     ]
    },
    {
     "name": "stdout",
     "output_type": "stream",
     "text": [
      "[####################                    ] | 50% Completed |  1min 21.5s"
     ]
    },
    {
     "name": "stderr",
     "output_type": "stream",
     "text": [
      " 94%|█████████▍| 1.03M/1.09M [00:43<00:05, 12.1kB/s]"
     ]
    },
    {
     "name": "stdout",
     "output_type": "stream",
     "text": [
      "[####################                    ] | 50% Completed |  1min 22.4s"
     ]
    },
    {
     "name": "stderr",
     "output_type": "stream",
     "text": [
      " 96%|█████████▌| 1.05M/1.09M [00:44<00:03, 14.3kB/s]"
     ]
    },
    {
     "name": "stdout",
     "output_type": "stream",
     "text": [
      "[####################                    ] | 50% Completed |  1min 25.5s"
     ]
    },
    {
     "name": "stderr",
     "output_type": "stream",
     "text": [
      " 97%|█████████▋| 1.05M/1.09M [00:47<00:05, 6.91kB/s]"
     ]
    },
    {
     "name": "stdout",
     "output_type": "stream",
     "text": [
      "[####################                    ] | 50% Completed |  1min 25.9s"
     ]
    },
    {
     "name": "stderr",
     "output_type": "stream",
     "text": [
      " 97%|█████████▋| 1.06M/1.09M [00:48<00:03, 8.32kB/s]"
     ]
    },
    {
     "name": "stdout",
     "output_type": "stream",
     "text": [
      "[####################                    ] | 50% Completed |  1min 26.3s"
     ]
    },
    {
     "name": "stderr",
     "output_type": "stream",
     "text": [
      " 98%|█████████▊| 1.07M/1.09M [00:48<00:02, 9.88kB/s]"
     ]
    },
    {
     "name": "stdout",
     "output_type": "stream",
     "text": [
      "[####################                    ] | 50% Completed |  1min 26.7s"
     ]
    },
    {
     "name": "stderr",
     "output_type": "stream",
     "text": [
      " 99%|█████████▊| 1.08M/1.09M [00:48<00:01, 11.5kB/s]"
     ]
    },
    {
     "name": "stdout",
     "output_type": "stream",
     "text": [
      "[####################                    ] | 50% Completed |  1min 27.0s"
     ]
    },
    {
     "name": "stderr",
     "output_type": "stream",
     "text": [
      " 99%|█████████▉| 1.08M/1.09M [00:49<00:00, 13.8kB/s]"
     ]
    },
    {
     "name": "stdout",
     "output_type": "stream",
     "text": [
      "[####################                    ] | 50% Completed |  1min 27.1s"
     ]
    },
    {
     "name": "stderr",
     "output_type": "stream",
     "text": [
      "2021-11-17 15:04:39,956 INFO Download rate 21.7K/s  \n"
     ]
    },
    {
     "name": "stdout",
     "output_type": "stream",
     "text": [
      "[####################                    ] | 50% Completed |  1min 27.4s\n",
      "/media/nicolasf/END19101/ICU/data/CDS/operational/hindcasts/ECCC_CanCM4i/TPRATE/ensemble_seas_forecasts_tprate_from_2015_10_ECCC.netcdf downloaded OK\n",
      "\n",
      "[########################################] | 100% Completed |  1min 27.5s\n",
      "processing ECCC, path should be /media/nicolasf/END19101/ICU/data/CDS/operational/hindcasts/ECCC_CanCM4i/TPRATE\n",
      "processing ECCC, path should be /media/nicolasf/END19101/ICU/data/CDS/operational/hindcasts/ECCC_GEM_NEMO/TPRATE\n",
      "[                                        ] | 0% Completed |  0.0s\n",
      "/media/nicolasf/END19101/ICU/data/CDS/operational/hindcasts/ECCC_GEM_NEMO/TPRATE/ensemble_seas_forecasts_tprate_from_2016_10_ECCC.netcdf exists already on disk, skipping download and returning path\n",
      "\n",
      "\n",
      "attempting to download tprate for GCM ECCC, for level surface, year 2016, month 10, in netcdf, attempt 1 of 3\n",
      "\n",
      "[####################                    ] | 50% Completed |  0.2s"
     ]
    },
    {
     "name": "stderr",
     "output_type": "stream",
     "text": [
      "2021-11-17 15:04:40,628 INFO Welcome to the CDS\n",
      "2021-11-17 15:04:40,628 INFO Sending request to https://cds.climate.copernicus.eu/api/v2/resources/seasonal-monthly-single-levels\n"
     ]
    },
    {
     "name": "stdout",
     "output_type": "stream",
     "text": [
      "[####################                    ] | 50% Completed |  0.6s"
     ]
    },
    {
     "name": "stderr",
     "output_type": "stream",
     "text": [
      "2021-11-17 15:04:40,987 INFO Request is queued\n"
     ]
    },
    {
     "name": "stdout",
     "output_type": "stream",
     "text": [
      "[####################                    ] | 50% Completed | 54.6s"
     ]
    },
    {
     "name": "stderr",
     "output_type": "stream",
     "text": [
      "2021-11-17 15:05:34,952 INFO Request is running\n"
     ]
    },
    {
     "name": "stdout",
     "output_type": "stream",
     "text": [
      "[####################                    ] | 50% Completed |  1min 21.2s"
     ]
    },
    {
     "name": "stderr",
     "output_type": "stream",
     "text": [
      "2021-11-17 15:06:01,576 INFO Request is completed\n",
      "2021-11-17 15:06:01,577 INFO Downloading https://download-0009.copernicus-climate.eu/cache-compute-0009/cache/data6/adaptor.mars.external-1637114745.2028797-22255-7-55d90b19-8026-4bc5-b878-b4a3d78580b0.nc to /media/nicolasf/END19101/ICU/data/CDS/operational/hindcasts/ECCC_CanCM4i/TPRATE/ensemble_seas_forecasts_tprate_from_2016_10_ECCC.netcdf (1.1M)\n"
     ]
    },
    {
     "name": "stdout",
     "output_type": "stream",
     "text": [
      "[####################                    ] | 50% Completed |  1min 23.1s"
     ]
    },
    {
     "name": "stderr",
     "output_type": "stream",
     "text": [
      "  0%|          | 0.00/1.09M [00:00<?, ?B/s]"
     ]
    },
    {
     "name": "stdout",
     "output_type": "stream",
     "text": [
      "[####################                    ] | 50% Completed |  1min 23.5s"
     ]
    },
    {
     "name": "stderr",
     "output_type": "stream",
     "text": [
      "  1%|▏         | 16.0k/1.09M [00:00<00:21, 51.6kB/s]"
     ]
    },
    {
     "name": "stdout",
     "output_type": "stream",
     "text": [
      "[####################                    ] | 50% Completed |  1min 23.9s"
     ]
    },
    {
     "name": "stderr",
     "output_type": "stream",
     "text": [
      "  4%|▍         | 50.0k/1.09M [00:00<00:14, 73.0kB/s]"
     ]
    },
    {
     "name": "stdout",
     "output_type": "stream",
     "text": [
      "[####################                    ] | 50% Completed |  1min 24.3s"
     ]
    },
    {
     "name": "stderr",
     "output_type": "stream",
     "text": [
      "  9%|▉         | 105k/1.09M [00:01<00:09, 104kB/s]  "
     ]
    },
    {
     "name": "stdout",
     "output_type": "stream",
     "text": [
      "[####################                    ] | 50% Completed |  1min 24.7s"
     ]
    },
    {
     "name": "stderr",
     "output_type": "stream",
     "text": [
      " 14%|█▍        | 157k/1.09M [00:01<00:08, 115kB/s]"
     ]
    },
    {
     "name": "stdout",
     "output_type": "stream",
     "text": [
      "[####################                    ] | 50% Completed |  1min 25.1s"
     ]
    },
    {
     "name": "stderr",
     "output_type": "stream",
     "text": [
      " 19%|█▉        | 213k/1.09M [00:01<00:07, 124kB/s]"
     ]
    },
    {
     "name": "stdout",
     "output_type": "stream",
     "text": [
      "[####################                    ] | 50% Completed |  1min 25.5s"
     ]
    },
    {
     "name": "stderr",
     "output_type": "stream",
     "text": [
      " 24%|██▍       | 270k/1.09M [00:02<00:06, 130kB/s]"
     ]
    },
    {
     "name": "stdout",
     "output_type": "stream",
     "text": [
      "[####################                    ] | 50% Completed |  1min 26.2s"
     ]
    },
    {
     "name": "stderr",
     "output_type": "stream",
     "text": [
      " 29%|██▊       | 321k/1.09M [00:03<00:07, 104kB/s]"
     ]
    },
    {
     "name": "stdout",
     "output_type": "stream",
     "text": [
      "[####################                    ] | 50% Completed |  1min 26.6s"
     ]
    },
    {
     "name": "stderr",
     "output_type": "stream",
     "text": [
      " 38%|███▊      | 420k/1.09M [00:03<00:04, 143kB/s]"
     ]
    },
    {
     "name": "stdout",
     "output_type": "stream",
     "text": [
      "[####################                    ] | 50% Completed |  1min 26.9s"
     ]
    },
    {
     "name": "stderr",
     "output_type": "stream",
     "text": [
      " 41%|████      | 460k/1.09M [00:03<00:04, 141kB/s]"
     ]
    },
    {
     "name": "stdout",
     "output_type": "stream",
     "text": [
      "[####################                    ] | 50% Completed |  1min 27.5s"
     ]
    },
    {
     "name": "stderr",
     "output_type": "stream",
     "text": [
      " 45%|████▌     | 508k/1.09M [00:04<00:05, 117kB/s]"
     ]
    },
    {
     "name": "stdout",
     "output_type": "stream",
     "text": [
      "[####################                    ] | 50% Completed |  1min 27.8s"
     ]
    },
    {
     "name": "stderr",
     "output_type": "stream",
     "text": [
      " 50%|█████     | 559k/1.09M [00:04<00:04, 129kB/s]"
     ]
    },
    {
     "name": "stdout",
     "output_type": "stream",
     "text": [
      "[####################                    ] | 50% Completed |  1min 28.2s"
     ]
    },
    {
     "name": "stderr",
     "output_type": "stream",
     "text": [
      " 56%|█████▌    | 623k/1.09M [00:05<00:03, 138kB/s]"
     ]
    },
    {
     "name": "stdout",
     "output_type": "stream",
     "text": [
      "[####################                    ] | 50% Completed |  1min 28.6s"
     ]
    },
    {
     "name": "stderr",
     "output_type": "stream",
     "text": [
      " 59%|█████▉    | 663k/1.09M [00:05<00:03, 127kB/s]"
     ]
    },
    {
     "name": "stdout",
     "output_type": "stream",
     "text": [
      "[####################                    ] | 50% Completed |  1min 29.0s"
     ]
    },
    {
     "name": "stderr",
     "output_type": "stream",
     "text": [
      " 63%|██████▎   | 703k/1.09M [00:05<00:03, 119kB/s]"
     ]
    },
    {
     "name": "stdout",
     "output_type": "stream",
     "text": [
      "[####################                    ] | 50% Completed |  1min 29.5s"
     ]
    },
    {
     "name": "stderr",
     "output_type": "stream",
     "text": [
      " 66%|██████▋   | 741k/1.09M [00:06<00:03, 112kB/s]"
     ]
    },
    {
     "name": "stdout",
     "output_type": "stream",
     "text": [
      "[####################                    ] | 50% Completed |  1min 29.9s"
     ]
    },
    {
     "name": "stderr",
     "output_type": "stream",
     "text": [
      " 70%|██████▉   | 781k/1.09M [00:06<00:03, 108kB/s]"
     ]
    },
    {
     "name": "stdout",
     "output_type": "stream",
     "text": [
      "[####################                    ] | 50% Completed |  1min 30.4s"
     ]
    },
    {
     "name": "stderr",
     "output_type": "stream",
     "text": [
      " 74%|███████▍  | 829k/1.09M [00:07<00:02, 112kB/s]"
     ]
    },
    {
     "name": "stdout",
     "output_type": "stream",
     "text": [
      "[####################                    ] | 50% Completed |  1min 31.0s"
     ]
    },
    {
     "name": "stderr",
     "output_type": "stream",
     "text": [
      " 77%|███████▋  | 865k/1.09M [00:07<00:02, 91.6kB/s]"
     ]
    },
    {
     "name": "stdout",
     "output_type": "stream",
     "text": [
      "[####################                    ] | 50% Completed |  1min 31.4s"
     ]
    },
    {
     "name": "stderr",
     "output_type": "stream",
     "text": [
      " 84%|████████▍ | 939k/1.09M [00:08<00:01, 117kB/s] "
     ]
    },
    {
     "name": "stdout",
     "output_type": "stream",
     "text": [
      "[####################                    ] | 50% Completed |  1min 31.8s"
     ]
    },
    {
     "name": "stderr",
     "output_type": "stream",
     "text": [
      " 87%|████████▋ | 969k/1.09M [00:08<00:01, 104kB/s]"
     ]
    },
    {
     "name": "stdout",
     "output_type": "stream",
     "text": [
      "[####################                    ] | 50% Completed |  1min 32.2s"
     ]
    },
    {
     "name": "stderr",
     "output_type": "stream",
     "text": [
      " 90%|████████▉ | 0.98M/1.09M [00:09<00:01, 98.2kB/s]"
     ]
    },
    {
     "name": "stdout",
     "output_type": "stream",
     "text": [
      "[####################                    ] | 50% Completed |  1min 32.6s"
     ]
    },
    {
     "name": "stderr",
     "output_type": "stream",
     "text": [
      " 93%|█████████▎| 1.01M/1.09M [00:09<00:00, 97.3kB/s]"
     ]
    },
    {
     "name": "stdout",
     "output_type": "stream",
     "text": [
      "[####################                    ] | 50% Completed |  1min 33.0s"
     ]
    },
    {
     "name": "stderr",
     "output_type": "stream",
     "text": [
      " 96%|█████████▌| 1.05M/1.09M [00:09<00:00, 92.3kB/s]"
     ]
    },
    {
     "name": "stdout",
     "output_type": "stream",
     "text": [
      "[####################                    ] | 50% Completed |  1min 33.3s"
     ]
    },
    {
     "name": "stderr",
     "output_type": "stream",
     "text": [
      " 99%|█████████▉| 1.08M/1.09M [00:10<00:00, 103kB/s] "
     ]
    },
    {
     "name": "stdout",
     "output_type": "stream",
     "text": [
      "[####################                    ] | 50% Completed |  1min 33.4s"
     ]
    },
    {
     "name": "stderr",
     "output_type": "stream",
     "text": [
      "2021-11-17 15:06:13,752 INFO Download rate 91.8K/s \n"
     ]
    },
    {
     "name": "stdout",
     "output_type": "stream",
     "text": [
      "[####################                    ] | 50% Completed |  1min 33.7s\n",
      "/media/nicolasf/END19101/ICU/data/CDS/operational/hindcasts/ECCC_CanCM4i/TPRATE/ensemble_seas_forecasts_tprate_from_2016_10_ECCC.netcdf downloaded OK\n",
      "\n",
      "[########################################] | 100% Completed |  1min 33.8s\n"
     ]
    }
   ],
   "source": [
    "for date in dates: \n",
    "    \n",
    "    downloaded_files = []\n",
    "\n",
    "    # for GCM in dict_systems.keys():\n",
    "    for GCM in list_GCMs[-2:]:\n",
    "\n",
    "        if 'ECCC' in GCM: \n",
    "            \n",
    "            GCM_API_name = GCM.split('_')[0]\n",
    "            GCM_path = gcm_path.joinpath(GCM).joinpath(var_name.upper())\n",
    "            \n",
    "            print(f\"processing ECCC, path should be {str(GCM_path)}\")\n",
    "        \n",
    "            args = dict(GCM=GCM_API_name,\n",
    "            system=dict_systems[GCM],\n",
    "            varname=var_name,\n",
    "            year=date.year,\n",
    "            month=date.month,\n",
    "            leadtimes=[1, 2, 3, 4, 5, 6],\n",
    "            opath=GCM_path,\n",
    "            domain=domains.domains['C3S_download'],\n",
    "            file_format='netcdf',\n",
    "            level='surface',\n",
    "            max_retry=3)\n",
    "        \n",
    "        else: \n",
    "\n",
    "            args = dict(GCM=GCM,\n",
    "            system=dict_systems[GCM],\n",
    "            varname=var_name,\n",
    "            year=date.year,\n",
    "            month=date.month,\n",
    "            leadtimes=[1, 2, 3, 4, 5, 6],\n",
    "            opath=gcm_path.joinpath(GCM).joinpath(var_name.upper()),\n",
    "            domain=domains.domains['C3S_download'],\n",
    "            file_format='netcdf',\n",
    "            level='surface',\n",
    "            max_retry=3)\n",
    "            \n",
    "\n",
    "        downloaded_files.append(delayed(C3S.download)(**args))\n",
    "\n",
    "    with ProgressBar():\n",
    "        downloaded_files = compute(downloaded_files)"
   ]
  },
  {
   "cell_type": "code",
   "execution_count": null,
   "metadata": {},
   "outputs": [],
   "source": []
  },
  {
   "cell_type": "code",
   "execution_count": null,
   "metadata": {},
   "outputs": [],
   "source": []
  }
 ],
 "metadata": {
  "kernelspec": {
   "display_name": "Python 3",
   "language": "python",
   "name": "python3"
  },
  "language_info": {
   "codemirror_mode": {
    "name": "ipython",
    "version": 3
   },
   "file_extension": ".py",
   "mimetype": "text/x-python",
   "name": "python",
   "nbconvert_exporter": "python",
   "pygments_lexer": "ipython3",
   "version": "3.8.10"
  },
  "papermill": {
   "duration": 114.72282,
   "end_time": "2020-02-06T23:48:33.529053",
   "environment_variables": {},
   "exception": null,
   "input_path": "./download_CDS_forecasts.ipynb",
   "output_path": "./download_CDS_forecasts.ipynb",
   "parameters": {
    "GCM": "CMCC",
    "month": 12,
    "var_name": "PRECIP",
    "year": 2018
   },
   "start_time": "2020-02-06T23:46:38.806233",
   "version": "1.2.1"
  }
 },
 "nbformat": 4,
 "nbformat_minor": 4
}
