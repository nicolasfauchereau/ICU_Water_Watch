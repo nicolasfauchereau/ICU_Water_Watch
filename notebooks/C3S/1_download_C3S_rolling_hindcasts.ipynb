{
 "cells": [
  {
   "cell_type": "markdown",
   "id": "649f9533",
   "metadata": {
    "papermill": {
     "duration": 0.010235,
     "end_time": "2022-09-22T03:45:30.120595",
     "exception": false,
     "start_time": "2022-09-22T03:45:30.110360",
     "status": "completed"
    },
    "tags": []
   },
   "source": [
    "### download the rolling hindcasts for all GCMs from the Copernicus Climate Datastore"
   ]
  },
  {
   "cell_type": "code",
   "execution_count": 19,
   "id": "3c21dc7e",
   "metadata": {
    "papermill": {
     "duration": 0.033033,
     "end_time": "2022-09-22T03:45:30.162540",
     "exception": false,
     "start_time": "2022-09-22T03:45:30.129507",
     "status": "completed"
    },
    "tags": []
   },
   "outputs": [
    {
     "name": "stdout",
     "output_type": "stream",
     "text": [
      "The autoreload extension is already loaded. To reload it, use:\n",
      "  %reload_ext autoreload\n"
     ]
    }
   ],
   "source": [
    "%load_ext autoreload\n",
    "%autoreload 2"
   ]
  },
  {
   "cell_type": "code",
   "execution_count": 20,
   "id": "d19a251f",
   "metadata": {
    "papermill": {
     "duration": 0.302159,
     "end_time": "2022-09-22T03:45:30.474550",
     "exception": false,
     "start_time": "2022-09-22T03:45:30.172391",
     "status": "completed"
    },
    "tags": []
   },
   "outputs": [],
   "source": [
    "import sys\n",
    "from subprocess import call \n",
    "from shutil import which \n",
    "import pathlib\n",
    "from datetime import datetime\n",
    "from dateutil.relativedelta import relativedelta\n",
    "import dateparser\n",
    "import yaml\n",
    "from yaml.loader import SafeLoader"
   ]
  },
  {
   "cell_type": "code",
   "execution_count": 21,
   "id": "00ad77c5",
   "metadata": {
    "papermill": {
     "duration": 0.077432,
     "end_time": "2022-09-22T03:45:30.557434",
     "exception": false,
     "start_time": "2022-09-22T03:45:30.480002",
     "status": "completed"
    },
    "tags": []
   },
   "outputs": [],
   "source": [
    "from dask import delayed, compute\n",
    "from dask.diagnostics import ProgressBar"
   ]
  },
  {
   "cell_type": "code",
   "execution_count": 22,
   "id": "6229283e",
   "metadata": {
    "papermill": {
     "duration": 0.268136,
     "end_time": "2022-09-22T03:45:30.829603",
     "exception": false,
     "start_time": "2022-09-22T03:45:30.561467",
     "status": "completed"
    },
    "tags": []
   },
   "outputs": [],
   "source": [
    "import numpy as np\n",
    "import pandas as pd"
   ]
  },
  {
   "cell_type": "code",
   "execution_count": 23,
   "id": "3648da48",
   "metadata": {
    "papermill": {
     "duration": 0.021202,
     "end_time": "2022-09-22T03:45:30.855399",
     "exception": false,
     "start_time": "2022-09-22T03:45:30.834197",
     "status": "completed"
    },
    "tags": []
   },
   "outputs": [],
   "source": [
    "HOME = pathlib.Path.home()"
   ]
  },
  {
   "cell_type": "code",
   "execution_count": 24,
   "id": "d2ac339c",
   "metadata": {
    "papermill": {
     "duration": 0.017111,
     "end_time": "2022-09-22T03:45:30.879802",
     "exception": false,
     "start_time": "2022-09-22T03:45:30.862691",
     "status": "completed"
    },
    "tags": []
   },
   "outputs": [],
   "source": [
    "CWD = pathlib.Path.cwd()"
   ]
  },
  {
   "cell_type": "code",
   "execution_count": 25,
   "id": "7fdfba2a",
   "metadata": {
    "papermill": {
     "duration": 0.02202,
     "end_time": "2022-09-22T03:45:30.907297",
     "exception": false,
     "start_time": "2022-09-22T03:45:30.885277",
     "status": "completed"
    },
    "tags": []
   },
   "outputs": [
    {
     "data": {
      "text/plain": [
       "PosixPath('/home/nicolasf/operational/ICU/development/hotspots/code/ICU_Water_Watch/notebooks/C3S')"
      ]
     },
     "execution_count": 25,
     "metadata": {},
     "output_type": "execute_result"
    }
   ],
   "source": [
    "CWD"
   ]
  },
  {
   "cell_type": "markdown",
   "id": "963108ba",
   "metadata": {
    "papermill": {
     "duration": 0.006464,
     "end_time": "2022-09-22T03:45:30.918263",
     "exception": false,
     "start_time": "2022-09-22T03:45:30.911799",
     "status": "completed"
    },
    "tags": []
   },
   "source": [
    "### import local functions for the downloading of the C3S forecasts "
   ]
  },
  {
   "cell_type": "code",
   "execution_count": 26,
   "id": "1e031d85",
   "metadata": {
    "papermill": {
     "duration": 0.017024,
     "end_time": "2022-09-22T03:45:30.939634",
     "exception": false,
     "start_time": "2022-09-22T03:45:30.922610",
     "status": "completed"
    },
    "tags": []
   },
   "outputs": [],
   "source": [
    "sys.path.append('../..')"
   ]
  },
  {
   "cell_type": "code",
   "execution_count": 27,
   "id": "e32ceec5",
   "metadata": {
    "papermill": {
     "duration": 13.831273,
     "end_time": "2022-09-22T03:45:44.775153",
     "exception": false,
     "start_time": "2022-09-22T03:45:30.943880",
     "status": "completed"
    },
    "tags": []
   },
   "outputs": [],
   "source": [
    "from ICU_Water_Watch import C3S, domains"
   ]
  },
  {
   "cell_type": "markdown",
   "id": "6a8884cb",
   "metadata": {
    "papermill": {
     "duration": 0.00383,
     "end_time": "2022-09-22T03:45:44.783273",
     "exception": false,
     "start_time": "2022-09-22T03:45:44.779443",
     "status": "completed"
    },
    "tags": []
   },
   "source": [
    "### parameters for papermill"
   ]
  },
  {
   "cell_type": "code",
   "execution_count": 41,
   "id": "03564e25",
   "metadata": {
    "papermill": {
     "duration": 0.032655,
     "end_time": "2022-09-22T03:45:44.846279",
     "exception": false,
     "start_time": "2022-09-22T03:45:44.813624",
     "status": "completed"
    },
    "tags": [
     "parameters"
    ]
   },
   "outputs": [],
   "source": [
    "provider = 'CDS' # should not change\n",
    "varname = 't2m' # can be in ['tprate','t2m', 'sst']\n",
    "domain_name = 'C3S_download'\n",
    "# if one wants to download other reforecasts than the ones corresponding to the current month\n",
    "lag = 0\n",
    "# path where to save the hindcasts / reforecasts\n",
    "gcm_path = f'/media/nicolasf/END19101/ICU/data/{provider}'\n",
    "config_path = '.' # where to find the yaml file(s) mapping GCM to System number\n",
    "stream = 'hindcasts' # can be 'operational' or 'hindcasts', with the latter corresponding the GCM system with complete hindcasts"
   ]
  },
  {
   "cell_type": "markdown",
   "id": "aa9ae3cf-1c42-46d0-b650-144a44144dd1",
   "metadata": {
    "papermill": {
     "duration": 0.004183,
     "end_time": "2022-09-22T03:45:47.259075",
     "exception": false,
     "start_time": "2022-09-22T03:45:47.254892",
     "status": "completed"
    },
    "tags": []
   },
   "source": [
    "### casts the paths to `pathlib.Path` objects "
   ]
  },
  {
   "cell_type": "code",
   "execution_count": 42,
   "id": "a6a70430",
   "metadata": {
    "papermill": {
     "duration": 0.025255,
     "end_time": "2022-09-22T03:45:47.288731",
     "exception": false,
     "start_time": "2022-09-22T03:45:47.263476",
     "status": "completed"
    },
    "tags": []
   },
   "outputs": [],
   "source": [
    "gcm_path = pathlib.Path(gcm_path)"
   ]
  },
  {
   "cell_type": "markdown",
   "id": "bcbb9de9-12ba-4b5e-ba0e-7faf594ac647",
   "metadata": {},
   "source": [
    "### expand the path depending on whether we want the 'operational' stream (latest system number) or the 'hindcasts' stream (complete hindcast period)"
   ]
  },
  {
   "cell_type": "code",
   "execution_count": 43,
   "id": "f37fe458-e1d6-4144-89c1-9f928c9b4f79",
   "metadata": {},
   "outputs": [],
   "source": [
    "if stream == 'hindcasts': \n",
    "    gcm_path = gcm_path\n",
    "elif stream == 'operational': \n",
    "    gcm_path = gcm_path.joinpath('operational/hindcasts')"
   ]
  },
  {
   "cell_type": "code",
   "execution_count": 61,
   "id": "b478a103-aa6c-4d73-b893-1be14908b921",
   "metadata": {},
   "outputs": [
    {
     "name": "stdout",
     "output_type": "stream",
     "text": [
      "/media/nicolasf/END19101/ICU/data/CDS\n"
     ]
    }
   ],
   "source": [
    "print(gcm_path)"
   ]
  },
  {
   "cell_type": "markdown",
   "id": "141ad68c-5a25-492a-9568-f04ca937f34f",
   "metadata": {
    "papermill": {
     "duration": 0.0039,
     "end_time": "2022-09-22T03:45:44.893725",
     "exception": false,
     "start_time": "2022-09-22T03:45:44.889825",
     "status": "completed"
    },
    "tags": []
   },
   "source": [
    "### reads the yaml file, mapping GCM to system "
   ]
  },
  {
   "cell_type": "markdown",
   "id": "ffe13a47-f18e-4fa6-bcef-6800a7f6ad41",
   "metadata": {
    "papermill": {
     "duration": 0.003927,
     "end_time": "2022-09-22T03:45:44.904043",
     "exception": false,
     "start_time": "2022-09-22T03:45:44.900116",
     "status": "completed"
    },
    "tags": []
   },
   "source": [
    "Note that the forecast system to system number mapping is available at: \n",
    "    \n",
    "- [https://confluence.ecmwf.int/display/CKB/Description+of+the+C3S+seasonal+multi-system](https://confluence.ecmwf.int/display/CKB/Description+of+the+C3S+seasonal+multi-system)"
   ]
  },
  {
   "cell_type": "markdown",
   "id": "cc379993-9616-4406-bf49-e445a7fa0e43",
   "metadata": {
    "papermill": {
     "duration": 0.003977,
     "end_time": "2022-09-22T03:45:44.912009",
     "exception": false,
     "start_time": "2022-09-22T03:45:44.908032",
     "status": "completed"
    },
    "tags": []
   },
   "source": [
    "#### it can be read directly into pandas "
   ]
  },
  {
   "cell_type": "code",
   "execution_count": 44,
   "id": "d9320e69-cafa-4702-97c3-1b91ac40a441",
   "metadata": {
    "papermill": {
     "duration": 0.02456,
     "end_time": "2022-09-22T03:45:44.940631",
     "exception": false,
     "start_time": "2022-09-22T03:45:44.916071",
     "status": "completed"
    },
    "tags": []
   },
   "outputs": [],
   "source": [
    "url = 'https://confluence.ecmwf.int/display/CKB/Description+of+the+C3S+seasonal+multi-system'"
   ]
  },
  {
   "cell_type": "code",
   "execution_count": 45,
   "id": "dfce252f-70f7-4edf-8f70-25ef2bd3d0a7",
   "metadata": {
    "papermill": {
     "duration": 2.13371,
     "end_time": "2022-09-22T03:45:47.078677",
     "exception": false,
     "start_time": "2022-09-22T03:45:44.944967",
     "status": "completed"
    },
    "tags": []
   },
   "outputs": [],
   "source": [
    "systems_table = pd.read_html(url)"
   ]
  },
  {
   "cell_type": "code",
   "execution_count": 46,
   "id": "5a9668fd-c341-419d-926c-00f244fd98cc",
   "metadata": {
    "papermill": {
     "duration": 0.026696,
     "end_time": "2022-09-22T03:45:47.109988",
     "exception": false,
     "start_time": "2022-09-22T03:45:47.083292",
     "status": "completed"
    },
    "tags": []
   },
   "outputs": [],
   "source": [
    "systems_table = systems_table[1]"
   ]
  },
  {
   "cell_type": "code",
   "execution_count": 47,
   "id": "f4af3176-210e-41ad-99e3-e5ab3785bd82",
   "metadata": {
    "papermill": {
     "duration": 0.0288,
     "end_time": "2022-09-22T03:45:47.142941",
     "exception": false,
     "start_time": "2022-09-22T03:45:47.114141",
     "status": "completed"
    },
    "tags": []
   },
   "outputs": [
    {
     "data": {
      "text/html": [
       "<div>\n",
       "<style scoped>\n",
       "    .dataframe tbody tr th:only-of-type {\n",
       "        vertical-align: middle;\n",
       "    }\n",
       "\n",
       "    .dataframe tbody tr th {\n",
       "        vertical-align: top;\n",
       "    }\n",
       "\n",
       "    .dataframe thead th {\n",
       "        text-align: right;\n",
       "    }\n",
       "</style>\n",
       "<table border=\"1\" class=\"dataframe\">\n",
       "  <thead>\n",
       "    <tr style=\"text-align: right;\">\n",
       "      <th></th>\n",
       "      <th>Forecasting centre</th>\n",
       "      <th>Forecasting system name</th>\n",
       "      <th>CDS 'system' value</th>\n",
       "    </tr>\n",
       "  </thead>\n",
       "  <tbody>\n",
       "    <tr>\n",
       "      <th>0</th>\n",
       "      <td>ECMWF</td>\n",
       "      <td>System 4</td>\n",
       "      <td>4</td>\n",
       "    </tr>\n",
       "    <tr>\n",
       "      <th>1</th>\n",
       "      <td>ECMWF</td>\n",
       "      <td>SEAS5</td>\n",
       "      <td>5</td>\n",
       "    </tr>\n",
       "    <tr>\n",
       "      <th>2</th>\n",
       "      <td>Météo-France</td>\n",
       "      <td>System 5</td>\n",
       "      <td>5</td>\n",
       "    </tr>\n",
       "    <tr>\n",
       "      <th>3</th>\n",
       "      <td>Météo-France</td>\n",
       "      <td>System 6</td>\n",
       "      <td>6</td>\n",
       "    </tr>\n",
       "    <tr>\n",
       "      <th>4</th>\n",
       "      <td>Météo-France</td>\n",
       "      <td>System 7</td>\n",
       "      <td>7</td>\n",
       "    </tr>\n",
       "    <tr>\n",
       "      <th>5</th>\n",
       "      <td>Météo-France</td>\n",
       "      <td>System 8</td>\n",
       "      <td>8</td>\n",
       "    </tr>\n",
       "    <tr>\n",
       "      <th>6</th>\n",
       "      <td>CMCC</td>\n",
       "      <td>SPS3</td>\n",
       "      <td>3</td>\n",
       "    </tr>\n",
       "    <tr>\n",
       "      <th>7</th>\n",
       "      <td>CMCC</td>\n",
       "      <td>SPS3.5</td>\n",
       "      <td>35</td>\n",
       "    </tr>\n",
       "    <tr>\n",
       "      <th>8</th>\n",
       "      <td>DWD</td>\n",
       "      <td>GCFS2.0</td>\n",
       "      <td>2</td>\n",
       "    </tr>\n",
       "    <tr>\n",
       "      <th>9</th>\n",
       "      <td>DWD</td>\n",
       "      <td>GCFS2.1</td>\n",
       "      <td>21</td>\n",
       "    </tr>\n",
       "    <tr>\n",
       "      <th>10</th>\n",
       "      <td>NCEP</td>\n",
       "      <td>CFSv2</td>\n",
       "      <td>2</td>\n",
       "    </tr>\n",
       "    <tr>\n",
       "      <th>11</th>\n",
       "      <td>JMA</td>\n",
       "      <td>CPS2</td>\n",
       "      <td>2</td>\n",
       "    </tr>\n",
       "    <tr>\n",
       "      <th>12</th>\n",
       "      <td>JMA</td>\n",
       "      <td>CPS3</td>\n",
       "      <td>3</td>\n",
       "    </tr>\n",
       "    <tr>\n",
       "      <th>13</th>\n",
       "      <td>ECCC</td>\n",
       "      <td>GEM-NEMO</td>\n",
       "      <td>1</td>\n",
       "    </tr>\n",
       "    <tr>\n",
       "      <th>14</th>\n",
       "      <td>ECCC</td>\n",
       "      <td>CanCM4i</td>\n",
       "      <td>2</td>\n",
       "    </tr>\n",
       "    <tr>\n",
       "      <th>15</th>\n",
       "      <td>ECCC</td>\n",
       "      <td>GEM5-NEMO</td>\n",
       "      <td>3</td>\n",
       "    </tr>\n",
       "  </tbody>\n",
       "</table>\n",
       "</div>"
      ],
      "text/plain": [
       "   Forecasting centre Forecasting system name  CDS 'system' value\n",
       "0               ECMWF                System 4                   4\n",
       "1               ECMWF                   SEAS5                   5\n",
       "2        Météo-France                System 5                   5\n",
       "3        Météo-France                System 6                   6\n",
       "4        Météo-France                System 7                   7\n",
       "5        Météo-France                System 8                   8\n",
       "6                CMCC                    SPS3                   3\n",
       "7                CMCC                  SPS3.5                  35\n",
       "8                 DWD                 GCFS2.0                   2\n",
       "9                 DWD                 GCFS2.1                  21\n",
       "10               NCEP                   CFSv2                   2\n",
       "11                JMA                    CPS2                   2\n",
       "12                JMA                    CPS3                   3\n",
       "13               ECCC                GEM-NEMO                   1\n",
       "14               ECCC                 CanCM4i                   2\n",
       "15               ECCC               GEM5-NEMO                   3"
      ]
     },
     "execution_count": 47,
     "metadata": {},
     "output_type": "execute_result"
    }
   ],
   "source": [
    "systems_table"
   ]
  },
  {
   "cell_type": "code",
   "execution_count": 48,
   "id": "d269ece1-82ad-4083-be14-c314e75d8e9a",
   "metadata": {},
   "outputs": [],
   "source": [
    "config_yaml = pathlib.Path(config_path).joinpath(f\"CDS_config_{stream}.yaml\")"
   ]
  },
  {
   "cell_type": "code",
   "execution_count": 49,
   "id": "7485f621-5f99-4c4f-b07e-3c1f20117b67",
   "metadata": {
    "papermill": {
     "duration": 0.0252,
     "end_time": "2022-09-22T03:45:47.172503",
     "exception": false,
     "start_time": "2022-09-22T03:45:47.147303",
     "status": "completed"
    },
    "tags": []
   },
   "outputs": [],
   "source": [
    "# Open the file and load the file\n",
    "with open(config_yaml) as f:\n",
    "    dict_systems = yaml.load(f, Loader=SafeLoader)"
   ]
  },
  {
   "cell_type": "code",
   "execution_count": 50,
   "id": "5a15d0eb-bfb5-46cc-bbc8-89cbcc44ddbe",
   "metadata": {
    "papermill": {
     "duration": 0.025624,
     "end_time": "2022-09-22T03:45:47.202350",
     "exception": false,
     "start_time": "2022-09-22T03:45:47.176726",
     "status": "completed"
    },
    "tags": []
   },
   "outputs": [
    {
     "data": {
      "text/plain": [
       "{'ECMWF': 5,\n",
       " 'UKMO': 600,\n",
       " 'METEO_FRANCE': 8,\n",
       " 'DWD': 21,\n",
       " 'CMCC': 35,\n",
       " 'NCEP': 2,\n",
       " 'JMA': 3,\n",
       " 'ECCC_CanCM4i': 2,\n",
       " 'ECCC_GEM5_NEMO': 3}"
      ]
     },
     "execution_count": 50,
     "metadata": {},
     "output_type": "execute_result"
    }
   ],
   "source": [
    "dict_systems"
   ]
  },
  {
   "cell_type": "code",
   "execution_count": 51,
   "id": "13e5faa8-ddd1-43c3-98f9-5581210544c9",
   "metadata": {
    "papermill": {
     "duration": 0.035097,
     "end_time": "2022-09-22T03:45:47.241870",
     "exception": false,
     "start_time": "2022-09-22T03:45:47.206773",
     "status": "completed"
    },
    "tags": []
   },
   "outputs": [
    {
     "data": {
      "text/plain": [
       "dict_keys(['ECMWF', 'UKMO', 'METEO_FRANCE', 'DWD', 'CMCC', 'NCEP', 'JMA', 'ECCC_CanCM4i', 'ECCC_GEM5_NEMO'])"
      ]
     },
     "execution_count": 51,
     "metadata": {},
     "output_type": "execute_result"
    }
   ],
   "source": [
    "dict_systems.keys()"
   ]
  },
  {
   "cell_type": "markdown",
   "id": "2fc4adfe",
   "metadata": {
    "papermill": {
     "duration": 0.004372,
     "end_time": "2022-09-22T03:45:47.297904",
     "exception": false,
     "start_time": "2022-09-22T03:45:47.293532",
     "status": "completed"
    },
    "tags": []
   },
   "source": [
    "### get today's date "
   ]
  },
  {
   "cell_type": "code",
   "execution_count": 52,
   "id": "35d39153",
   "metadata": {
    "papermill": {
     "duration": 0.052732,
     "end_time": "2022-09-22T03:45:47.354915",
     "exception": false,
     "start_time": "2022-09-22T03:45:47.302183",
     "status": "completed"
    },
    "tags": []
   },
   "outputs": [],
   "source": [
    "date = dateparser.parse('today')"
   ]
  },
  {
   "cell_type": "code",
   "execution_count": 53,
   "id": "8b6e1b72",
   "metadata": {
    "papermill": {
     "duration": 0.030119,
     "end_time": "2022-09-22T03:45:47.389756",
     "exception": false,
     "start_time": "2022-09-22T03:45:47.359637",
     "status": "completed"
    },
    "tags": []
   },
   "outputs": [
    {
     "data": {
      "text/plain": [
       "datetime.datetime(2022, 9, 23, 9, 34, 42, 625458)"
      ]
     },
     "execution_count": 53,
     "metadata": {},
     "output_type": "execute_result"
    }
   ],
   "source": [
    "date"
   ]
  },
  {
   "cell_type": "markdown",
   "id": "e85bb7a7",
   "metadata": {
    "papermill": {
     "duration": 0.004173,
     "end_time": "2022-09-22T03:45:47.398663",
     "exception": false,
     "start_time": "2022-09-22T03:45:47.394490",
     "status": "completed"
    },
    "tags": []
   },
   "source": [
    "### apply lag "
   ]
  },
  {
   "cell_type": "code",
   "execution_count": 54,
   "id": "12c6d03a",
   "metadata": {
    "papermill": {
     "duration": 0.025882,
     "end_time": "2022-09-22T03:45:47.428820",
     "exception": false,
     "start_time": "2022-09-22T03:45:47.402938",
     "status": "completed"
    },
    "tags": []
   },
   "outputs": [],
   "source": [
    "date = date - relativedelta(months=lag)"
   ]
  },
  {
   "cell_type": "code",
   "execution_count": 55,
   "id": "8cb55fc8",
   "metadata": {
    "papermill": {
     "duration": 0.025643,
     "end_time": "2022-09-22T03:45:47.458896",
     "exception": false,
     "start_time": "2022-09-22T03:45:47.433253",
     "status": "completed"
    },
    "tags": []
   },
   "outputs": [
    {
     "name": "stdout",
     "output_type": "stream",
     "text": [
      "the hindcast data will be downloaded for all re-forecasts initialised in September\n"
     ]
    }
   ],
   "source": [
    "print(f\"the hindcast data will be downloaded for all re-forecasts initialised in {date:%B}\")"
   ]
  },
  {
   "cell_type": "markdown",
   "id": "d252bb55",
   "metadata": {
    "papermill": {
     "duration": 0.00469,
     "end_time": "2022-09-22T03:45:47.468375",
     "exception": false,
     "start_time": "2022-09-22T03:45:47.463685",
     "status": "completed"
    },
    "tags": []
   },
   "source": [
    "### generate the dates for the download of the rolling hindcasts "
   ]
  },
  {
   "cell_type": "code",
   "execution_count": 56,
   "id": "20083d02",
   "metadata": {
    "papermill": {
     "duration": 0.025658,
     "end_time": "2022-09-22T03:45:47.498429",
     "exception": false,
     "start_time": "2022-09-22T03:45:47.472771",
     "status": "completed"
    },
    "tags": []
   },
   "outputs": [],
   "source": [
    "dates = [datetime(y, date.month, 1) for y in range(1993, 2016 + 1)]"
   ]
  },
  {
   "cell_type": "code",
   "execution_count": 57,
   "id": "a1e8bbdf",
   "metadata": {
    "papermill": {
     "duration": 0.025297,
     "end_time": "2022-09-22T03:45:47.528306",
     "exception": false,
     "start_time": "2022-09-22T03:45:47.503009",
     "status": "completed"
    },
    "tags": []
   },
   "outputs": [
    {
     "data": {
      "text/plain": [
       "[datetime.datetime(1993, 9, 1, 0, 0),\n",
       " datetime.datetime(1994, 9, 1, 0, 0),\n",
       " datetime.datetime(1995, 9, 1, 0, 0),\n",
       " datetime.datetime(1996, 9, 1, 0, 0),\n",
       " datetime.datetime(1997, 9, 1, 0, 0),\n",
       " datetime.datetime(1998, 9, 1, 0, 0),\n",
       " datetime.datetime(1999, 9, 1, 0, 0),\n",
       " datetime.datetime(2000, 9, 1, 0, 0),\n",
       " datetime.datetime(2001, 9, 1, 0, 0),\n",
       " datetime.datetime(2002, 9, 1, 0, 0),\n",
       " datetime.datetime(2003, 9, 1, 0, 0),\n",
       " datetime.datetime(2004, 9, 1, 0, 0),\n",
       " datetime.datetime(2005, 9, 1, 0, 0),\n",
       " datetime.datetime(2006, 9, 1, 0, 0),\n",
       " datetime.datetime(2007, 9, 1, 0, 0),\n",
       " datetime.datetime(2008, 9, 1, 0, 0),\n",
       " datetime.datetime(2009, 9, 1, 0, 0),\n",
       " datetime.datetime(2010, 9, 1, 0, 0),\n",
       " datetime.datetime(2011, 9, 1, 0, 0),\n",
       " datetime.datetime(2012, 9, 1, 0, 0),\n",
       " datetime.datetime(2013, 9, 1, 0, 0),\n",
       " datetime.datetime(2014, 9, 1, 0, 0),\n",
       " datetime.datetime(2015, 9, 1, 0, 0),\n",
       " datetime.datetime(2016, 9, 1, 0, 0)]"
      ]
     },
     "execution_count": 57,
     "metadata": {},
     "output_type": "execute_result"
    }
   ],
   "source": [
    "dates"
   ]
  },
  {
   "cell_type": "markdown",
   "id": "74247127",
   "metadata": {
    "papermill": {
     "duration": 0.004281,
     "end_time": "2022-09-22T03:45:47.537218",
     "exception": false,
     "start_time": "2022-09-22T03:45:47.532937",
     "status": "completed"
    },
    "tags": []
   },
   "source": [
    "### path to download the rolling hindcasts "
   ]
  },
  {
   "cell_type": "code",
   "execution_count": 58,
   "id": "b71f0481",
   "metadata": {
    "papermill": {
     "duration": 0.026037,
     "end_time": "2022-09-22T03:45:47.567700",
     "exception": false,
     "start_time": "2022-09-22T03:45:47.541663",
     "status": "completed"
    },
    "tags": []
   },
   "outputs": [],
   "source": [
    "if not(gcm_path.exists()): \n",
    "    gcm_path.mkdir(parents=True)"
   ]
  },
  {
   "cell_type": "markdown",
   "id": "5a6f4954",
   "metadata": {
    "papermill": {
     "duration": 0.004808,
     "end_time": "2022-09-22T03:45:47.577215",
     "exception": false,
     "start_time": "2022-09-22T03:45:47.572407",
     "status": "completed"
    },
    "tags": []
   },
   "source": [
    "### Now loops over the dates, creates a dictionnary containing the keywords arguments, and pass to dask for parallel download "
   ]
  },
  {
   "cell_type": "code",
   "execution_count": 59,
   "id": "23683c56",
   "metadata": {
    "papermill": {
     "duration": 230.829749,
     "end_time": "2022-09-22T03:49:38.411711",
     "exception": false,
     "start_time": "2022-09-22T03:45:47.581962",
     "status": "completed"
    },
    "tags": []
   },
   "outputs": [
    {
     "name": "stdout",
     "output_type": "stream",
     "text": [
      "[                                        ] | 0% Completed |  0.0s\n",
      "/media/nicolasf/END19101/ICU/data/CDS/UKMO/T2M/ensemble_seas_forecasts_t2m_from_1993_09_UKMO.netcdf exists already on disk, skipping download and returning path\n",
      "\n",
      "\n",
      "attempting to download t2m for GCM JMA, for level surface, year 1993, month 9, in netcdf, attempt 1 of 3\n",
      "\n",
      "[####################                    ] | 50% Completed |  2.0s"
     ]
    },
    {
     "name": "stderr",
     "output_type": "stream",
     "text": [
      "2022-09-23 09:34:52,278 INFO Welcome to the CDS\n",
      "2022-09-23 09:34:52,279 INFO Sending request to https://cds.climate.copernicus.eu/api/v2/resources/seasonal-monthly-single-levels\n"
     ]
    },
    {
     "name": "stdout",
     "output_type": "stream",
     "text": [
      "[####################                    ] | 50% Completed |  2.5s"
     ]
    },
    {
     "name": "stderr",
     "output_type": "stream",
     "text": [
      "2022-09-23 09:34:52,797 INFO Request is completed\n",
      "2022-09-23 09:34:52,799 INFO Downloading https://download-0002-clone.copernicus-climate.eu/cache-compute-0002/cache/data0/adaptor.mars.external-1663818350.4740324-16136-7-ee815047-4613-4c21-8fe0-2143776d6ef5.nc to /media/nicolasf/END19101/ICU/data/CDS/JMA/T2M/ensemble_seas_forecasts_t2m_from_1993_09_JMA.netcdf (719.2K)\n"
     ]
    },
    {
     "name": "stdout",
     "output_type": "stream",
     "text": [
      "[####################                    ] | 50% Completed |  4.5s"
     ]
    },
    {
     "name": "stderr",
     "output_type": "stream",
     "text": [
      "  0%|                                                                                                                 | 0.00/719k [00:00<?, ?B/s]"
     ]
    },
    {
     "name": "stdout",
     "output_type": "stream",
     "text": [
      "[####################                    ] | 50% Completed |  4.8s"
     ]
    },
    {
     "name": "stderr",
     "output_type": "stream",
     "text": [
      "  2%|██▎                                                                                                     | 16.0k/719k [00:00<00:12, 56.4kB/s]"
     ]
    },
    {
     "name": "stdout",
     "output_type": "stream",
     "text": [
      "[####################                    ] | 50% Completed |  5.1s"
     ]
    },
    {
     "name": "stderr",
     "output_type": "stream",
     "text": [
      "  8%|████████▌                                                                                                | 59.0k/719k [00:00<00:06, 111kB/s]"
     ]
    },
    {
     "name": "stdout",
     "output_type": "stream",
     "text": [
      "[####################                    ] | 50% Completed |  5.4s"
     ]
    },
    {
     "name": "stderr",
     "output_type": "stream",
     "text": [
      " 13%|█████████████▎                                                                                           | 91.0k/719k [00:00<00:05, 111kB/s]"
     ]
    },
    {
     "name": "stdout",
     "output_type": "stream",
     "text": [
      "[####################                    ] | 50% Completed |  5.7s"
     ]
    },
    {
     "name": "stderr",
     "output_type": "stream",
     "text": [
      " 23%|████████████████████████▎                                                                                 | 165k/719k [00:01<00:03, 169kB/s]"
     ]
    },
    {
     "name": "stdout",
     "output_type": "stream",
     "text": [
      "[####################                    ] | 50% Completed |  6.0s"
     ]
    },
    {
     "name": "stderr",
     "output_type": "stream",
     "text": [
      " 49%|███████████████████████████████████████████████████▌                                                      | 350k/719k [00:01<00:01, 340kB/s]"
     ]
    },
    {
     "name": "stdout",
     "output_type": "stream",
     "text": [
      "[####################                    ] | 50% Completed |  6.1s"
     ]
    },
    {
     "name": "stderr",
     "output_type": "stream",
     "text": [
      "2022-09-23 09:34:56,356 INFO Download rate 202.3K/s                                                                                              \n"
     ]
    },
    {
     "name": "stdout",
     "output_type": "stream",
     "text": [
      "[####################                    ] | 50% Completed |  6.4s\n",
      "/media/nicolasf/END19101/ICU/data/CDS/JMA/T2M/ensemble_seas_forecasts_t2m_from_1993_09_JMA.netcdf downloaded OK\n",
      "\n",
      "[########################################] | 100% Completed |  6.5s\n",
      "[                                        ] | 0% Completed |  0.0s\n",
      "/media/nicolasf/END19101/ICU/data/CDS/UKMO/T2M/ensemble_seas_forecasts_t2m_from_1994_09_UKMO.netcdf exists already on disk, skipping download and returning path\n",
      "\n",
      "attempting to download t2m for GCM JMA, for level surface, year 1994, month 9, in netcdf, attempt 1 of 3\n",
      "\n",
      "\n",
      "[####################                    ] | 50% Completed |  0.3s"
     ]
    },
    {
     "name": "stderr",
     "output_type": "stream",
     "text": [
      "2022-09-23 09:34:57,050 INFO Welcome to the CDS\n",
      "2022-09-23 09:34:57,053 INFO Sending request to https://cds.climate.copernicus.eu/api/v2/resources/seasonal-monthly-single-levels\n"
     ]
    },
    {
     "name": "stdout",
     "output_type": "stream",
     "text": [
      "[####################                    ] | 50% Completed |  0.6s"
     ]
    },
    {
     "name": "stderr",
     "output_type": "stream",
     "text": [
      "2022-09-23 09:34:57,456 INFO Request is completed\n",
      "2022-09-23 09:34:57,458 INFO Downloading https://download-0003-clone.copernicus-climate.eu/cache-compute-0003/cache/data6/adaptor.mars.external-1663818357.8416402-16368-4-8e86784a-fe67-455a-a549-b3e062ab0877.nc to /media/nicolasf/END19101/ICU/data/CDS/JMA/T2M/ensemble_seas_forecasts_t2m_from_1994_09_JMA.netcdf (719.2K)\n"
     ]
    },
    {
     "name": "stdout",
     "output_type": "stream",
     "text": [
      "[####################                    ] | 50% Completed |  2.7s"
     ]
    },
    {
     "name": "stderr",
     "output_type": "stream",
     "text": [
      "  0%|                                                                                                                 | 0.00/719k [00:00<?, ?B/s]"
     ]
    },
    {
     "name": "stdout",
     "output_type": "stream",
     "text": [
      "[####################                    ] | 50% Completed |  2.9s"
     ]
    },
    {
     "name": "stderr",
     "output_type": "stream",
     "text": [
      "  2%|██▎                                                                                                     | 16.0k/719k [00:00<00:12, 56.8kB/s]"
     ]
    },
    {
     "name": "stdout",
     "output_type": "stream",
     "text": [
      "[####################                    ] | 50% Completed |  3.2s"
     ]
    },
    {
     "name": "stderr",
     "output_type": "stream",
     "text": [
      "  7%|███████▏                                                                                                | 50.0k/719k [00:00<00:07, 93.1kB/s]"
     ]
    },
    {
     "name": "stdout",
     "output_type": "stream",
     "text": [
      "[####################                    ] | 50% Completed |  3.5s"
     ]
    },
    {
     "name": "stderr",
     "output_type": "stream",
     "text": [
      " 13%|█████████████▏                                                                                           | 90.0k/719k [00:00<00:05, 114kB/s]"
     ]
    },
    {
     "name": "stdout",
     "output_type": "stream",
     "text": [
      "[####################                    ] | 50% Completed |  3.8s"
     ]
    },
    {
     "name": "stderr",
     "output_type": "stream",
     "text": [
      " 28%|█████████████████████████████▍                                                                            | 200k/719k [00:01<00:02, 220kB/s]"
     ]
    },
    {
     "name": "stdout",
     "output_type": "stream",
     "text": [
      "[####################                    ] | 50% Completed |  4.1s"
     ]
    },
    {
     "name": "stderr",
     "output_type": "stream",
     "text": [
      " 60%|███████████████████████████████████████████████████████████████▋                                          | 432k/719k [00:01<00:00, 431kB/s]"
     ]
    },
    {
     "name": "stdout",
     "output_type": "stream",
     "text": [
      "[####################                    ] | 50% Completed |  4.2s"
     ]
    },
    {
     "name": "stderr",
     "output_type": "stream",
     "text": [
      "2022-09-23 09:35:00,988 INFO Download rate 203.9K/s                                                                                              \n"
     ]
    },
    {
     "name": "stdout",
     "output_type": "stream",
     "text": [
      "[####################                    ] | 50% Completed |  4.5s\n",
      "/media/nicolasf/END19101/ICU/data/CDS/JMA/T2M/ensemble_seas_forecasts_t2m_from_1994_09_JMA.netcdf downloaded OK\n",
      "\n",
      "[########################################] | 100% Completed |  4.6s\n",
      "[                                        ] | 0% Completed |  0.0s\n",
      "/media/nicolasf/END19101/ICU/data/CDS/UKMO/T2M/ensemble_seas_forecasts_t2m_from_1995_09_UKMO.netcdf exists already on disk, skipping download and returning path\n",
      "\n",
      "attempting to download t2m for GCM JMA, for level surface, year 1995, month 9, in netcdf, attempt 1 of 3\n",
      "\n",
      "\n",
      "[####################                    ] | 50% Completed |  0.2s"
     ]
    },
    {
     "name": "stderr",
     "output_type": "stream",
     "text": [
      "2022-09-23 09:35:01,639 INFO Welcome to the CDS\n"
     ]
    },
    {
     "name": "stdout",
     "output_type": "stream",
     "text": [
      "[####################                    ] | 50% Completed |  0.3s"
     ]
    },
    {
     "name": "stderr",
     "output_type": "stream",
     "text": [
      "2022-09-23 09:35:01,642 INFO Sending request to https://cds.climate.copernicus.eu/api/v2/resources/seasonal-monthly-single-levels\n"
     ]
    },
    {
     "name": "stdout",
     "output_type": "stream",
     "text": [
      "[####################                    ] | 50% Completed |  0.7s"
     ]
    },
    {
     "name": "stderr",
     "output_type": "stream",
     "text": [
      "2022-09-23 09:35:02,076 INFO Request is completed\n",
      "2022-09-23 09:35:02,078 INFO Downloading https://download-0013-clone.copernicus-climate.eu/cache-compute-0013/cache/data7/adaptor.mars.external-1663818364.9022038-8699-5-17c81087-a826-41ac-a05d-3c46b87a4d36.nc to /media/nicolasf/END19101/ICU/data/CDS/JMA/T2M/ensemble_seas_forecasts_t2m_from_1995_09_JMA.netcdf (719.2K)\n"
     ]
    },
    {
     "name": "stdout",
     "output_type": "stream",
     "text": [
      "[####################                    ] | 50% Completed |  2.6s"
     ]
    },
    {
     "name": "stderr",
     "output_type": "stream",
     "text": [
      "  0%|                                                                                                                 | 0.00/719k [00:00<?, ?B/s]"
     ]
    },
    {
     "name": "stdout",
     "output_type": "stream",
     "text": [
      "[####################                    ] | 50% Completed |  3.0s"
     ]
    },
    {
     "name": "stderr",
     "output_type": "stream",
     "text": [
      "  2%|██▎                                                                                                     | 16.0k/719k [00:00<00:12, 56.6kB/s]"
     ]
    },
    {
     "name": "stdout",
     "output_type": "stream",
     "text": [
      "[####################                    ] | 50% Completed |  3.3s"
     ]
    },
    {
     "name": "stderr",
     "output_type": "stream",
     "text": [
      "  9%|█████████▋                                                                                               | 66.0k/719k [00:00<00:05, 126kB/s]"
     ]
    },
    {
     "name": "stdout",
     "output_type": "stream",
     "text": [
      "[####################                    ] | 50% Completed |  3.6s"
     ]
    },
    {
     "name": "stderr",
     "output_type": "stream",
     "text": [
      " 21%|██████████████████████▋                                                                                   | 154k/719k [00:00<00:02, 208kB/s]"
     ]
    },
    {
     "name": "stdout",
     "output_type": "stream",
     "text": [
      "[####################                    ] | 50% Completed |  3.9s"
     ]
    },
    {
     "name": "stderr",
     "output_type": "stream",
     "text": [
      " 47%|█████████████████████████████████████████████████▊                                                        | 338k/719k [00:01<00:01, 379kB/s]"
     ]
    },
    {
     "name": "stdout",
     "output_type": "stream",
     "text": [
      "[####################                    ] | 50% Completed |  4.2s"
     ]
    },
    {
     "name": "stderr",
     "output_type": "stream",
     "text": [
      " 80%|████████████████████████████████████████████████████████████████████████████████████▎                     | 572k/719k [00:01<00:00, 535kB/s]"
     ]
    },
    {
     "name": "stdout",
     "output_type": "stream",
     "text": [
      "[####################                    ] | 50% Completed |  4.3s"
     ]
    },
    {
     "name": "stderr",
     "output_type": "stream",
     "text": [
      "2022-09-23 09:35:05,629 INFO Download rate 202.7K/s                                                                                              \n"
     ]
    },
    {
     "name": "stdout",
     "output_type": "stream",
     "text": [
      "[####################                    ] | 50% Completed |  4.6s\n",
      "/media/nicolasf/END19101/ICU/data/CDS/JMA/T2M/ensemble_seas_forecasts_t2m_from_1995_09_JMA.netcdf downloaded OK\n",
      "\n",
      "[########################################] | 100% Completed |  4.7s\n",
      "[                                        ] | 0% Completed |  0.0s\n",
      "/media/nicolasf/END19101/ICU/data/CDS/UKMO/T2M/ensemble_seas_forecasts_t2m_from_1996_09_UKMO.netcdf exists already on disk, skipping download and returning path\n",
      "\n",
      "\n",
      "attempting to download t2m for GCM JMA, for level surface, year 1996, month 9, in netcdf, attempt 1 of 3\n",
      "\n",
      "[####################                    ] | 50% Completed |  0.3s"
     ]
    },
    {
     "name": "stderr",
     "output_type": "stream",
     "text": [
      "2022-09-23 09:35:06,338 INFO Welcome to the CDS\n",
      "2022-09-23 09:35:06,340 INFO Sending request to https://cds.climate.copernicus.eu/api/v2/resources/seasonal-monthly-single-levels\n"
     ]
    },
    {
     "name": "stdout",
     "output_type": "stream",
     "text": [
      "[####################                    ] | 50% Completed |  0.6s"
     ]
    },
    {
     "name": "stderr",
     "output_type": "stream",
     "text": [
      "2022-09-23 09:35:06,729 INFO Request is completed\n",
      "2022-09-23 09:35:06,731 INFO Downloading https://download-0015-clone.copernicus-climate.eu/cache-compute-0015/cache/data2/adaptor.mars.external-1663818372.5597873-18368-7-e0723320-0d6c-48f3-b1e2-6213ff48860f.nc to /media/nicolasf/END19101/ICU/data/CDS/JMA/T2M/ensemble_seas_forecasts_t2m_from_1996_09_JMA.netcdf (719.2K)\n"
     ]
    },
    {
     "name": "stdout",
     "output_type": "stream",
     "text": [
      "[####################                    ] | 50% Completed |  2.7s"
     ]
    },
    {
     "name": "stderr",
     "output_type": "stream",
     "text": [
      "  0%|                                                                                                                 | 0.00/719k [00:00<?, ?B/s]"
     ]
    },
    {
     "name": "stdout",
     "output_type": "stream",
     "text": [
      "[####################                    ] | 50% Completed |  2.9s"
     ]
    },
    {
     "name": "stderr",
     "output_type": "stream",
     "text": [
      "  2%|██▎                                                                                                     | 16.0k/719k [00:00<00:12, 56.0kB/s]"
     ]
    },
    {
     "name": "stdout",
     "output_type": "stream",
     "text": [
      "[####################                    ] | 50% Completed |  3.2s"
     ]
    },
    {
     "name": "stderr",
     "output_type": "stream",
     "text": [
      " 10%|██████████                                                                                               | 69.0k/719k [00:00<00:05, 131kB/s]"
     ]
    },
    {
     "name": "stdout",
     "output_type": "stream",
     "text": [
      "[####################                    ] | 50% Completed |  3.5s"
     ]
    },
    {
     "name": "stderr",
     "output_type": "stream",
     "text": [
      " 18%|███████████████████                                                                                       | 129k/719k [00:00<00:03, 166kB/s]"
     ]
    },
    {
     "name": "stdout",
     "output_type": "stream",
     "text": [
      "[####################                    ] | 50% Completed |  3.8s"
     ]
    },
    {
     "name": "stderr",
     "output_type": "stream",
     "text": [
      " 40%|██████████████████████████████████████████▏                                                               | 286k/719k [00:01<00:01, 316kB/s]"
     ]
    },
    {
     "name": "stdout",
     "output_type": "stream",
     "text": [
      "[####################                    ] | 50% Completed |  4.1s"
     ]
    },
    {
     "name": "stderr",
     "output_type": "stream",
     "text": [
      " 83%|███████████████████████████████████████████████████████████████████████████████████████▊                  | 596k/719k [00:01<00:00, 590kB/s]"
     ]
    },
    {
     "name": "stdout",
     "output_type": "stream",
     "text": [
      "[####################                    ] | 50% Completed |  4.2s"
     ]
    },
    {
     "name": "stderr",
     "output_type": "stream",
     "text": [
      "2022-09-23 09:35:10,277 INFO Download rate 202.9K/s                                                                                              \n"
     ]
    },
    {
     "name": "stdout",
     "output_type": "stream",
     "text": [
      "[####################                    ] | 50% Completed |  4.5s\n",
      "/media/nicolasf/END19101/ICU/data/CDS/JMA/T2M/ensemble_seas_forecasts_t2m_from_1996_09_JMA.netcdf downloaded OK\n",
      "\n",
      "[########################################] | 100% Completed |  4.6s\n",
      "[                                        ] | 0% Completed |  0.0s\n",
      "/media/nicolasf/END19101/ICU/data/CDS/UKMO/T2M/ensemble_seas_forecasts_t2m_from_1997_09_UKMO.netcdf exists already on disk, skipping download and returning path\n",
      "\n",
      "\n",
      "attempting to download t2m for GCM JMA, for level surface, year 1997, month 9, in netcdf, attempt 1 of 3\n",
      "\n",
      "[####################                    ] | 50% Completed |  0.2s"
     ]
    },
    {
     "name": "stderr",
     "output_type": "stream",
     "text": [
      "2022-09-23 09:35:10,928 INFO Welcome to the CDS\n"
     ]
    },
    {
     "name": "stdout",
     "output_type": "stream",
     "text": [
      "[####################                    ] | 50% Completed |  0.3s"
     ]
    },
    {
     "name": "stderr",
     "output_type": "stream",
     "text": [
      "2022-09-23 09:35:10,930 INFO Sending request to https://cds.climate.copernicus.eu/api/v2/resources/seasonal-monthly-single-levels\n"
     ]
    },
    {
     "name": "stdout",
     "output_type": "stream",
     "text": [
      "[####################                    ] | 50% Completed |  0.6s"
     ]
    },
    {
     "name": "stderr",
     "output_type": "stream",
     "text": [
      "2022-09-23 09:35:11,318 INFO Request is completed\n",
      "2022-09-23 09:35:11,320 INFO Downloading https://download-0012-clone.copernicus-climate.eu/cache-compute-0012/cache/data9/adaptor.mars.external-1663818379.8805358-32625-2-230cdb5f-e7bb-43f6-8986-76b96bc11906.nc to /media/nicolasf/END19101/ICU/data/CDS/JMA/T2M/ensemble_seas_forecasts_t2m_from_1997_09_JMA.netcdf (719.2K)\n"
     ]
    },
    {
     "name": "stdout",
     "output_type": "stream",
     "text": [
      "[####################                    ] | 50% Completed |  2.7s"
     ]
    },
    {
     "name": "stderr",
     "output_type": "stream",
     "text": [
      "  0%|                                                                                                                 | 0.00/719k [00:00<?, ?B/s]"
     ]
    },
    {
     "name": "stdout",
     "output_type": "stream",
     "text": [
      "[####################                    ] | 50% Completed |  3.0s"
     ]
    },
    {
     "name": "stderr",
     "output_type": "stream",
     "text": [
      "  2%|██▎                                                                                                     | 16.0k/719k [00:00<00:12, 56.6kB/s]"
     ]
    },
    {
     "name": "stdout",
     "output_type": "stream",
     "text": [
      "[####################                    ] | 50% Completed |  3.2s"
     ]
    },
    {
     "name": "stderr",
     "output_type": "stream",
     "text": [
      "  9%|█████████▉                                                                                               | 68.0k/719k [00:00<00:05, 130kB/s]"
     ]
    },
    {
     "name": "stdout",
     "output_type": "stream",
     "text": [
      "[####################                    ] | 50% Completed |  3.5s"
     ]
    },
    {
     "name": "stderr",
     "output_type": "stream",
     "text": [
      " 13%|█████████████▊                                                                                           | 95.0k/719k [00:00<00:05, 113kB/s]"
     ]
    },
    {
     "name": "stdout",
     "output_type": "stream",
     "text": [
      "[####################                    ] | 50% Completed |  3.8s"
     ]
    },
    {
     "name": "stderr",
     "output_type": "stream",
     "text": [
      " 28%|██████████████████████████████                                                                            | 204k/719k [00:01<00:02, 218kB/s]"
     ]
    },
    {
     "name": "stdout",
     "output_type": "stream",
     "text": [
      "[####################                    ] | 50% Completed |  4.1s"
     ]
    },
    {
     "name": "stderr",
     "output_type": "stream",
     "text": [
      " 60%|███████████████████████████████████████████████████████████████▉                                          | 434k/719k [00:01<00:00, 427kB/s]"
     ]
    },
    {
     "name": "stdout",
     "output_type": "stream",
     "text": [
      "[####################                    ] | 50% Completed |  4.2s"
     ]
    },
    {
     "name": "stderr",
     "output_type": "stream",
     "text": [
      "2022-09-23 09:35:14,893 INFO Download rate 201.4K/s                                                                                              \n"
     ]
    },
    {
     "name": "stdout",
     "output_type": "stream",
     "text": [
      "[####################                    ] | 50% Completed |  4.5s\n",
      "/media/nicolasf/END19101/ICU/data/CDS/JMA/T2M/ensemble_seas_forecasts_t2m_from_1997_09_JMA.netcdf downloaded OK\n",
      "\n",
      "[########################################] | 100% Completed |  4.6s\n",
      "[                                        ] | 0% Completed |  0.0s\n",
      "/media/nicolasf/END19101/ICU/data/CDS/UKMO/T2M/ensemble_seas_forecasts_t2m_from_1998_09_UKMO.netcdf exists already on disk, skipping download and returning path\n",
      "\n",
      "attempting to download t2m for GCM JMA, for level surface, year 1998, month 9, in netcdf, attempt 1 of 3\n",
      "\n",
      "\n",
      "[####################                    ] | 50% Completed |  0.2s"
     ]
    },
    {
     "name": "stderr",
     "output_type": "stream",
     "text": [
      "2022-09-23 09:35:15,515 INFO Welcome to the CDS\n",
      "2022-09-23 09:35:15,515 INFO Sending request to https://cds.climate.copernicus.eu/api/v2/resources/seasonal-monthly-single-levels\n"
     ]
    },
    {
     "name": "stdout",
     "output_type": "stream",
     "text": [
      "[####################                    ] | 50% Completed |  0.6s"
     ]
    },
    {
     "name": "stderr",
     "output_type": "stream",
     "text": [
      "2022-09-23 09:35:15,910 INFO Request is completed\n",
      "2022-09-23 09:35:15,912 INFO Downloading https://download-0021.copernicus-climate.eu/cache-compute-0021/cache/data8/adaptor.mars.external-1663818387.0766823-17530-6-ec5351ef-4187-4145-bddc-ca26c0c9d92a.nc to /media/nicolasf/END19101/ICU/data/CDS/JMA/T2M/ensemble_seas_forecasts_t2m_from_1998_09_JMA.netcdf (719.2K)\n"
     ]
    },
    {
     "name": "stdout",
     "output_type": "stream",
     "text": [
      "[####################                    ] | 50% Completed |  2.6s"
     ]
    },
    {
     "name": "stderr",
     "output_type": "stream",
     "text": [
      "  0%|                                                                                                                 | 0.00/719k [00:00<?, ?B/s]"
     ]
    },
    {
     "name": "stdout",
     "output_type": "stream",
     "text": [
      "[####################                    ] | 50% Completed |  2.8s"
     ]
    },
    {
     "name": "stderr",
     "output_type": "stream",
     "text": [
      "  2%|██▎                                                                                                     | 16.0k/719k [00:00<00:12, 56.5kB/s]"
     ]
    },
    {
     "name": "stdout",
     "output_type": "stream",
     "text": [
      "[####################                    ] | 50% Completed |  3.2s"
     ]
    },
    {
     "name": "stderr",
     "output_type": "stream",
     "text": [
      "  9%|█████████▋                                                                                               | 66.0k/719k [00:00<00:05, 126kB/s]"
     ]
    },
    {
     "name": "stdout",
     "output_type": "stream",
     "text": [
      "[####################                    ] | 50% Completed |  3.5s"
     ]
    },
    {
     "name": "stderr",
     "output_type": "stream",
     "text": [
      " 14%|███████████████▎                                                                                          | 104k/719k [00:00<00:04, 129kB/s]"
     ]
    },
    {
     "name": "stdout",
     "output_type": "stream",
     "text": [
      "[####################                    ] | 50% Completed |  3.8s"
     ]
    },
    {
     "name": "stderr",
     "output_type": "stream",
     "text": [
      " 28%|█████████████████████████████▍                                                                            | 200k/719k [00:01<00:02, 210kB/s]"
     ]
    },
    {
     "name": "stdout",
     "output_type": "stream",
     "text": [
      "[####################                    ] | 50% Completed |  4.1s"
     ]
    },
    {
     "name": "stderr",
     "output_type": "stream",
     "text": [
      " 59%|██████████████████████████████████████████████████████████████▋                                           | 425k/719k [00:01<00:00, 416kB/s]"
     ]
    },
    {
     "name": "stdout",
     "output_type": "stream",
     "text": [
      "[####################                    ] | 50% Completed |  4.2s"
     ]
    },
    {
     "name": "stderr",
     "output_type": "stream",
     "text": [
      "2022-09-23 09:35:19,448 INFO Download rate 203.5K/s                                                                                              \n"
     ]
    },
    {
     "name": "stdout",
     "output_type": "stream",
     "text": [
      "[####################                    ] | 50% Completed |  4.5s\n",
      "/media/nicolasf/END19101/ICU/data/CDS/JMA/T2M/ensemble_seas_forecasts_t2m_from_1998_09_JMA.netcdf downloaded OK\n",
      "\n",
      "[########################################] | 100% Completed |  4.6s\n",
      "[                                        ] | 0% Completed |  0.0s\n",
      "/media/nicolasf/END19101/ICU/data/CDS/UKMO/T2M/ensemble_seas_forecasts_t2m_from_1999_09_UKMO.netcdf exists already on disk, skipping download and returning path\n",
      "\n",
      "attempting to download t2m for GCM JMA, for level surface, year 1999, month 9, in netcdf, attempt 1 of 3\n",
      "\n",
      "\n",
      "[####################                    ] | 50% Completed |  0.3s"
     ]
    },
    {
     "name": "stderr",
     "output_type": "stream",
     "text": [
      "2022-09-23 09:35:20,111 INFO Welcome to the CDS\n",
      "2022-09-23 09:35:20,113 INFO Sending request to https://cds.climate.copernicus.eu/api/v2/resources/seasonal-monthly-single-levels\n"
     ]
    },
    {
     "name": "stdout",
     "output_type": "stream",
     "text": [
      "[####################                    ] | 50% Completed |  0.6s"
     ]
    },
    {
     "name": "stderr",
     "output_type": "stream",
     "text": [
      "2022-09-23 09:35:20,468 INFO Request is completed\n",
      "2022-09-23 09:35:20,469 INFO Downloading https://download-0002-clone.copernicus-climate.eu/cache-compute-0002/cache/data3/adaptor.mars.external-1663818394.3408597-4151-16-d10253a8-51f5-409e-8656-974f9003a512.nc to /media/nicolasf/END19101/ICU/data/CDS/JMA/T2M/ensemble_seas_forecasts_t2m_from_1999_09_JMA.netcdf (719.2K)\n"
     ]
    },
    {
     "name": "stdout",
     "output_type": "stream",
     "text": [
      "[####################                    ] | 50% Completed |  0.9s"
     ]
    },
    {
     "name": "stderr",
     "output_type": "stream",
     "text": [
      "  0%|                                                                                                                 | 0.00/719k [00:00<?, ?B/s]"
     ]
    },
    {
     "name": "stdout",
     "output_type": "stream",
     "text": [
      "[####################                    ] | 50% Completed |  1.2s"
     ]
    },
    {
     "name": "stderr",
     "output_type": "stream",
     "text": [
      "  1%|█▏                                                                                                      | 8.00k/719k [00:00<00:25, 28.3kB/s]"
     ]
    },
    {
     "name": "stdout",
     "output_type": "stream",
     "text": [
      "[####################                    ] | 50% Completed |  1.5s"
     ]
    },
    {
     "name": "stderr",
     "output_type": "stream",
     "text": [
      "  5%|████▉                                                                                                   | 34.0k/719k [00:00<00:10, 65.0kB/s]"
     ]
    },
    {
     "name": "stdout",
     "output_type": "stream",
     "text": [
      "[####################                    ] | 50% Completed |  1.8s"
     ]
    },
    {
     "name": "stderr",
     "output_type": "stream",
     "text": [
      " 13%|█████████████▊                                                                                           | 95.0k/719k [00:00<00:04, 132kB/s]"
     ]
    },
    {
     "name": "stdout",
     "output_type": "stream",
     "text": [
      "[####################                    ] | 50% Completed |  2.1s"
     ]
    },
    {
     "name": "stderr",
     "output_type": "stream",
     "text": [
      " 28%|█████████████████████████████▍                                                                            | 200k/719k [00:01<00:02, 224kB/s]"
     ]
    },
    {
     "name": "stdout",
     "output_type": "stream",
     "text": [
      "[####################                    ] | 50% Completed |  2.4s"
     ]
    },
    {
     "name": "stderr",
     "output_type": "stream",
     "text": [
      " 59%|██████████████████████████████████████████████████████████████▎                                           | 423k/719k [00:01<00:00, 422kB/s]"
     ]
    },
    {
     "name": "stdout",
     "output_type": "stream",
     "text": [
      "[####################                    ] | 50% Completed |  2.5s"
     ]
    },
    {
     "name": "stderr",
     "output_type": "stream",
     "text": [
      "2022-09-23 09:35:22,384 INFO Download rate 375.6K/s                                                                                              \n"
     ]
    },
    {
     "name": "stdout",
     "output_type": "stream",
     "text": [
      "[####################                    ] | 50% Completed |  2.8s\n",
      "/media/nicolasf/END19101/ICU/data/CDS/JMA/T2M/ensemble_seas_forecasts_t2m_from_1999_09_JMA.netcdf downloaded OK\n",
      "\n",
      "[########################################] | 100% Completed |  2.9s\n",
      "[                                        ] | 0% Completed |  0.0s\n",
      "/media/nicolasf/END19101/ICU/data/CDS/UKMO/T2M/ensemble_seas_forecasts_t2m_from_2000_09_UKMO.netcdf exists already on disk, skipping download and returning path\n",
      "\n",
      "attempting to download t2m for GCM JMA, for level surface, year 2000, month 9, in netcdf, attempt 1 of 3\n",
      "\n",
      "\n",
      "[####################                    ] | 50% Completed |  0.3s"
     ]
    },
    {
     "name": "stderr",
     "output_type": "stream",
     "text": [
      "2022-09-23 09:35:23,066 INFO Welcome to the CDS\n",
      "2022-09-23 09:35:23,066 INFO Sending request to https://cds.climate.copernicus.eu/api/v2/resources/seasonal-monthly-single-levels\n"
     ]
    },
    {
     "name": "stdout",
     "output_type": "stream",
     "text": [
      "[####################                    ] | 50% Completed |  0.6s"
     ]
    },
    {
     "name": "stderr",
     "output_type": "stream",
     "text": [
      "2022-09-23 09:35:23,447 INFO Request is completed\n",
      "2022-09-23 09:35:23,448 INFO Downloading https://download-0001-clone.copernicus-climate.eu/cache-compute-0001/cache/data4/adaptor.mars.external-1663818400.1369903-798-17-8057dd3b-bf3c-4776-b314-fe216a412611.nc to /media/nicolasf/END19101/ICU/data/CDS/JMA/T2M/ensemble_seas_forecasts_t2m_from_2000_09_JMA.netcdf (719.2K)\n"
     ]
    },
    {
     "name": "stdout",
     "output_type": "stream",
     "text": [
      "[####################                    ] | 50% Completed |  2.5s"
     ]
    },
    {
     "name": "stderr",
     "output_type": "stream",
     "text": [
      "  0%|                                                                                                                 | 0.00/719k [00:00<?, ?B/s]"
     ]
    },
    {
     "name": "stdout",
     "output_type": "stream",
     "text": [
      "[####################                    ] | 50% Completed |  2.8s"
     ]
    },
    {
     "name": "stderr",
     "output_type": "stream",
     "text": [
      "  2%|██▎                                                                                                     | 16.0k/719k [00:00<00:12, 55.9kB/s]"
     ]
    },
    {
     "name": "stdout",
     "output_type": "stream",
     "text": [
      "[####################                    ] | 50% Completed |  3.1s"
     ]
    },
    {
     "name": "stderr",
     "output_type": "stream",
     "text": [
      "  8%|████████▍                                                                                                | 58.0k/719k [00:00<00:06, 109kB/s]"
     ]
    },
    {
     "name": "stdout",
     "output_type": "stream",
     "text": [
      "[####################                    ] | 50% Completed |  3.4s"
     ]
    },
    {
     "name": "stderr",
     "output_type": "stream",
     "text": [
      " 13%|█████████████▌                                                                                           | 93.0k/719k [00:00<00:05, 115kB/s]"
     ]
    },
    {
     "name": "stdout",
     "output_type": "stream",
     "text": [
      "[####################                    ] | 50% Completed |  3.8s"
     ]
    },
    {
     "name": "stderr",
     "output_type": "stream",
     "text": [
      " 29%|██████████████████████████████▌                                                                           | 207k/719k [00:01<00:02, 226kB/s]"
     ]
    },
    {
     "name": "stdout",
     "output_type": "stream",
     "text": [
      "[####################                    ] | 50% Completed |  4.1s"
     ]
    },
    {
     "name": "stderr",
     "output_type": "stream",
     "text": [
      " 61%|████████████████████████████████████████████████████████████████▊                                         | 440k/719k [00:01<00:00, 436kB/s]"
     ]
    },
    {
     "name": "stdout",
     "output_type": "stream",
     "text": [
      "[####################                    ] | 50% Completed |  4.2s"
     ]
    },
    {
     "name": "stderr",
     "output_type": "stream",
     "text": [
      "2022-09-23 09:35:26,979 INFO Download rate 203.7K/s                                                                                              \n"
     ]
    },
    {
     "name": "stdout",
     "output_type": "stream",
     "text": [
      "[####################                    ] | 50% Completed |  4.5s\n",
      "/media/nicolasf/END19101/ICU/data/CDS/JMA/T2M/ensemble_seas_forecasts_t2m_from_2000_09_JMA.netcdf downloaded OK\n",
      "\n",
      "[########################################] | 100% Completed |  4.6s\n",
      "[                                        ] | 0% Completed |  0.0s\n",
      "attempting to download t2m for GCM UKMO, for level surface, year 2001, month 9, in netcdf, attempt 1 of 3\n",
      "\n",
      "\n",
      "attempting to download t2m for GCM JMA, for level surface, year 2001, month 9, in netcdf, attempt 1 of 3\n",
      "\n",
      "[                                        ] | 0% Completed |  0.3s"
     ]
    },
    {
     "name": "stderr",
     "output_type": "stream",
     "text": [
      "2022-09-23 09:35:27,637 INFO Welcome to the CDS\n",
      "2022-09-23 09:35:27,638 INFO Sending request to https://cds.climate.copernicus.eu/api/v2/resources/seasonal-monthly-single-levels\n"
     ]
    },
    {
     "name": "stdout",
     "output_type": "stream",
     "text": [
      "[                                        ] | 0% Completed |  0.6s"
     ]
    },
    {
     "name": "stderr",
     "output_type": "stream",
     "text": [
      "2022-09-23 09:35:27,956 INFO Request is queued\n"
     ]
    },
    {
     "name": "stdout",
     "output_type": "stream",
     "text": [
      "[                                        ] | 0% Completed |  1.1s"
     ]
    },
    {
     "name": "stderr",
     "output_type": "stream",
     "text": [
      "2022-09-23 09:35:28,544 INFO Welcome to the CDS\n"
     ]
    },
    {
     "name": "stdout",
     "output_type": "stream",
     "text": [
      "[                                        ] | 0% Completed |  1.2s"
     ]
    },
    {
     "name": "stderr",
     "output_type": "stream",
     "text": [
      "2022-09-23 09:35:28,547 INFO Sending request to https://cds.climate.copernicus.eu/api/v2/resources/seasonal-monthly-single-levels\n"
     ]
    },
    {
     "name": "stdout",
     "output_type": "stream",
     "text": [
      "[                                        ] | 0% Completed |  1.5s"
     ]
    },
    {
     "name": "stderr",
     "output_type": "stream",
     "text": [
      "2022-09-23 09:35:28,921 INFO Request is completed\n",
      "2022-09-23 09:35:28,923 INFO Downloading https://download-0015-clone.copernicus-climate.eu/cache-compute-0015/cache/data2/adaptor.mars.external-1663818407.5639842-18792-7-6e2756f5-1936-45d4-bb98-796ca04fc8c8.nc to /media/nicolasf/END19101/ICU/data/CDS/JMA/T2M/ensemble_seas_forecasts_t2m_from_2001_09_JMA.netcdf (719.2K)\n"
     ]
    },
    {
     "name": "stdout",
     "output_type": "stream",
     "text": [
      "[                                        ] | 0% Completed |  1.8s"
     ]
    },
    {
     "name": "stderr",
     "output_type": "stream",
     "text": [
      "  0%|                                                                                                                 | 0.00/719k [00:00<?, ?B/s]"
     ]
    },
    {
     "name": "stdout",
     "output_type": "stream",
     "text": [
      "[                                        ] | 0% Completed |  1.9s"
     ]
    },
    {
     "name": "stderr",
     "output_type": "stream",
     "text": [
      "2022-09-23 09:35:29,262 INFO Request is failed\n",
      "2022-09-23 09:35:29,262 ERROR Message: no data is available within your requested subset\n",
      "2022-09-23 09:35:29,263 ERROR Reason:  Request returned no data\n",
      "2022-09-23 09:35:29,263 ERROR   Traceback (most recent call last):\n",
      "2022-09-23 09:35:29,263 ERROR     File \"/opt/cdstoolbox/cdscompute/cdscompute/cdshandlers/services/handler.py\", line 59, in handle_request\n",
      "2022-09-23 09:35:29,263 ERROR       result = cached(context.method, proc, context, context.args, context.kwargs)\n",
      "2022-09-23 09:35:29,264 ERROR     File \"/opt/cdstoolbox/cdscompute/cdscompute/caching.py\", line 108, in cached\n",
      "2022-09-23 09:35:29,264 ERROR       result = proc(context, *context.args, **context.kwargs)\n",
      "2022-09-23 09:35:29,264 ERROR     File \"/opt/cdstoolbox/cdscompute/cdscompute/services.py\", line 124, in __call__\n",
      "2022-09-23 09:35:29,265 ERROR       return p(*args, **kwargs)\n",
      "2022-09-23 09:35:29,265 ERROR     File \"/opt/cdstoolbox/cdscompute/cdscompute/services.py\", line 60, in __call__\n",
      "2022-09-23 09:35:29,266 ERROR       return self.proc(context, *args, **kwargs)\n",
      "2022-09-23 09:35:29,266 ERROR     File \"/home/cds/cdsservices/services/mars/mars.py\", line 52, in external\n",
      "2022-09-23 09:35:29,266 ERROR       return mars(context, request, **kwargs)\n",
      "2022-09-23 09:35:29,267 ERROR     File \"/home/cds/cdsservices/services/mars/mars.py\", line 19, in mars\n",
      "2022-09-23 09:35:29,267 ERROR       execute_mars(context, requests)\n",
      "2022-09-23 09:35:29,267 ERROR     File \"/home/cds/cdsservices/services/mars/execute_mars.py\", line 25, in execute_mars\n",
      "2022-09-23 09:35:29,268 ERROR       raise NoDataException(\"Request returned no data\", '')\n",
      "2022-09-23 09:35:29,268 ERROR   cdsinf.exceptions.NoDataException: Request returned no data\n"
     ]
    },
    {
     "name": "stdout",
     "output_type": "stream",
     "text": [
      "\n",
      "failure to download or save /media/nicolasf/END19101/ICU/data/CDS/UKMO/T2M/ensemble_seas_forecasts_t2m_from_2001_09_UKMO.netcdf\n",
      "\n",
      "\n",
      "attempting to download t2m for GCM UKMO, for level surface, year 2001, month 9, in netcdf, attempt 2 of 3\n",
      "\n",
      "[                                        ] | 0% Completed |  2.1s"
     ]
    },
    {
     "name": "stderr",
     "output_type": "stream",
     "text": [
      "  1%|█▏                                                                                                      | 8.00k/719k [00:00<00:26, 27.8kB/s]"
     ]
    },
    {
     "name": "stdout",
     "output_type": "stream",
     "text": [
      "[                                        ] | 0% Completed |  2.2s"
     ]
    },
    {
     "name": "stderr",
     "output_type": "stream",
     "text": [
      "2022-09-23 09:35:29,567 INFO Welcome to the CDS\n",
      "2022-09-23 09:35:29,569 INFO Sending request to https://cds.climate.copernicus.eu/api/v2/resources/seasonal-monthly-single-levels\n"
     ]
    },
    {
     "name": "stdout",
     "output_type": "stream",
     "text": [
      "[                                        ] | 0% Completed |  2.4s"
     ]
    },
    {
     "name": "stderr",
     "output_type": "stream",
     "text": [
      "  5%|████▉                                                                                                   | 34.0k/719k [00:00<00:10, 64.6kB/s]"
     ]
    },
    {
     "name": "stdout",
     "output_type": "stream",
     "text": [
      "[                                        ] | 0% Completed |  2.5s"
     ]
    },
    {
     "name": "stderr",
     "output_type": "stream",
     "text": [
      "2022-09-23 09:35:29,880 INFO Request is queued\n"
     ]
    },
    {
     "name": "stdout",
     "output_type": "stream",
     "text": [
      "[                                        ] | 0% Completed |  2.7s"
     ]
    },
    {
     "name": "stderr",
     "output_type": "stream",
     "text": [
      " 13%|█████████████▏                                                                                           | 90.0k/719k [00:00<00:05, 124kB/s]"
     ]
    },
    {
     "name": "stdout",
     "output_type": "stream",
     "text": [
      "[                                        ] | 0% Completed |  3.1s"
     ]
    },
    {
     "name": "stderr",
     "output_type": "stream",
     "text": [
      " 28%|██████████████████████████████                                                                            | 204k/719k [00:01<00:02, 231kB/s]"
     ]
    },
    {
     "name": "stdout",
     "output_type": "stream",
     "text": [
      "[                                        ] | 0% Completed |  3.4s"
     ]
    },
    {
     "name": "stderr",
     "output_type": "stream",
     "text": [
      " 58%|█████████████████████████████████████████████████████████████▉                                            | 420k/719k [00:01<00:00, 418kB/s]"
     ]
    },
    {
     "name": "stdout",
     "output_type": "stream",
     "text": [
      "[                                        ] | 0% Completed |  3.5s"
     ]
    },
    {
     "name": "stderr",
     "output_type": "stream",
     "text": [
      "2022-09-23 09:35:30,853 INFO Download rate 373K/s                                                                                                \n"
     ]
    },
    {
     "name": "stdout",
     "output_type": "stream",
     "text": [
      "[                                        ] | 0% Completed |  3.8s"
     ]
    },
    {
     "name": "stderr",
     "output_type": "stream",
     "text": [
      "2022-09-23 09:35:31,189 INFO Request is failed\n",
      "2022-09-23 09:35:31,191 ERROR Message: no data is available within your requested subset\n"
     ]
    },
    {
     "name": "stdout",
     "output_type": "stream",
     "text": [
      "\n",
      "/media/nicolasf/END19101/ICU/data/CDS/JMA/T2M/ensemble_seas_forecasts_t2m_from_2001_09_JMA.netcdf downloaded OK\n",
      "\n"
     ]
    },
    {
     "name": "stderr",
     "output_type": "stream",
     "text": [
      "2022-09-23 09:35:31,193 ERROR Reason:  Request returned no data\n"
     ]
    },
    {
     "name": "stdout",
     "output_type": "stream",
     "text": [
      "[####################                    ] | 50% Completed |  3.9s"
     ]
    },
    {
     "name": "stderr",
     "output_type": "stream",
     "text": [
      "2022-09-23 09:35:31,196 ERROR   Traceback (most recent call last):\n",
      "2022-09-23 09:35:31,199 ERROR     File \"/opt/cdstoolbox/cdscompute/cdscompute/cdshandlers/services/handler.py\", line 59, in handle_request\n",
      "2022-09-23 09:35:31,200 ERROR       result = cached(context.method, proc, context, context.args, context.kwargs)\n",
      "2022-09-23 09:35:31,203 ERROR     File \"/opt/cdstoolbox/cdscompute/cdscompute/caching.py\", line 108, in cached\n",
      "2022-09-23 09:35:31,205 ERROR       result = proc(context, *context.args, **context.kwargs)\n",
      "2022-09-23 09:35:31,207 ERROR     File \"/opt/cdstoolbox/cdscompute/cdscompute/services.py\", line 124, in __call__\n",
      "2022-09-23 09:35:31,209 ERROR       return p(*args, **kwargs)\n",
      "2022-09-23 09:35:31,211 ERROR     File \"/opt/cdstoolbox/cdscompute/cdscompute/services.py\", line 60, in __call__\n",
      "2022-09-23 09:35:31,212 ERROR       return self.proc(context, *args, **kwargs)\n",
      "2022-09-23 09:35:31,214 ERROR     File \"/home/cds/cdsservices/services/mars/mars.py\", line 52, in external\n",
      "2022-09-23 09:35:31,217 ERROR       return mars(context, request, **kwargs)\n",
      "2022-09-23 09:35:31,220 ERROR     File \"/home/cds/cdsservices/services/mars/mars.py\", line 19, in mars\n",
      "2022-09-23 09:35:31,222 ERROR       execute_mars(context, requests)\n",
      "2022-09-23 09:35:31,224 ERROR     File \"/home/cds/cdsservices/services/mars/execute_mars.py\", line 25, in execute_mars\n",
      "2022-09-23 09:35:31,225 ERROR       raise NoDataException(\"Request returned no data\", '')\n",
      "2022-09-23 09:35:31,227 ERROR   cdsinf.exceptions.NoDataException: Request returned no data\n"
     ]
    },
    {
     "name": "stdout",
     "output_type": "stream",
     "text": [
      "\n",
      "failure to download or save /media/nicolasf/END19101/ICU/data/CDS/UKMO/T2M/ensemble_seas_forecasts_t2m_from_2001_09_UKMO.netcdf\n",
      "\n",
      "\n",
      "attempting to download t2m for GCM UKMO, for level surface, year 2001, month 9, in netcdf, attempt 3 of 3\n",
      "\n",
      "[####################                    ] | 50% Completed |  4.2s"
     ]
    },
    {
     "name": "stderr",
     "output_type": "stream",
     "text": [
      "2022-09-23 09:35:31,528 INFO Welcome to the CDS\n",
      "2022-09-23 09:35:31,529 INFO Sending request to https://cds.climate.copernicus.eu/api/v2/resources/seasonal-monthly-single-levels\n"
     ]
    },
    {
     "name": "stdout",
     "output_type": "stream",
     "text": [
      "[####################                    ] | 50% Completed |  4.5s"
     ]
    },
    {
     "name": "stderr",
     "output_type": "stream",
     "text": [
      "2022-09-23 09:35:31,861 INFO Request is queued\n"
     ]
    },
    {
     "name": "stdout",
     "output_type": "stream",
     "text": [
      "[####################                    ] | 50% Completed |  5.8s"
     ]
    },
    {
     "name": "stderr",
     "output_type": "stream",
     "text": [
      "2022-09-23 09:35:33,167 INFO Request is failed\n",
      "2022-09-23 09:35:33,169 ERROR Message: no data is available within your requested subset\n",
      "2022-09-23 09:35:33,171 ERROR Reason:  Request returned no data\n",
      "2022-09-23 09:35:33,173 ERROR   Traceback (most recent call last):\n",
      "2022-09-23 09:35:33,174 ERROR     File \"/opt/cdstoolbox/cdscompute/cdscompute/cdshandlers/services/handler.py\", line 59, in handle_request\n",
      "2022-09-23 09:35:33,176 ERROR       result = cached(context.method, proc, context, context.args, context.kwargs)\n",
      "2022-09-23 09:35:33,177 ERROR     File \"/opt/cdstoolbox/cdscompute/cdscompute/caching.py\", line 108, in cached\n",
      "2022-09-23 09:35:33,180 ERROR       result = proc(context, *context.args, **context.kwargs)\n",
      "2022-09-23 09:35:33,182 ERROR     File \"/opt/cdstoolbox/cdscompute/cdscompute/services.py\", line 124, in __call__\n",
      "2022-09-23 09:35:33,183 ERROR       return p(*args, **kwargs)\n",
      "2022-09-23 09:35:33,186 ERROR     File \"/opt/cdstoolbox/cdscompute/cdscompute/services.py\", line 60, in __call__\n",
      "2022-09-23 09:35:33,193 ERROR       return self.proc(context, *args, **kwargs)\n",
      "2022-09-23 09:35:33,194 ERROR     File \"/home/cds/cdsservices/services/mars/mars.py\", line 52, in external\n",
      "2022-09-23 09:35:33,196 ERROR       return mars(context, request, **kwargs)\n",
      "2022-09-23 09:35:33,198 ERROR     File \"/home/cds/cdsservices/services/mars/mars.py\", line 19, in mars\n",
      "2022-09-23 09:35:33,199 ERROR       execute_mars(context, requests)\n",
      "2022-09-23 09:35:33,200 ERROR     File \"/home/cds/cdsservices/services/mars/execute_mars.py\", line 25, in execute_mars\n",
      "2022-09-23 09:35:33,201 ERROR       raise NoDataException(\"Request returned no data\", '')\n",
      "2022-09-23 09:35:33,202 ERROR   cdsinf.exceptions.NoDataException: Request returned no data\n"
     ]
    },
    {
     "name": "stdout",
     "output_type": "stream",
     "text": [
      "\n",
      "failure to download or save /media/nicolasf/END19101/ICU/data/CDS/UKMO/T2M/ensemble_seas_forecasts_t2m_from_2001_09_UKMO.netcdf\n",
      "\n",
      "[########################################] | 100% Completed |  5.9s\n",
      "[                                        ] | 0% Completed |  0.0s\n",
      "attempting to download t2m for GCM JMA, for level surface, year 2002, month 9, in netcdf, attempt 1 of 3\n",
      "\n",
      "\n",
      "attempting to download t2m for GCM UKMO, for level surface, year 2002, month 9, in netcdf, attempt 1 of 3\n",
      "\n",
      "[                                        ] | 0% Completed |  0.2s"
     ]
    },
    {
     "name": "stderr",
     "output_type": "stream",
     "text": [
      "2022-09-23 09:35:33,537 INFO Welcome to the CDS\n",
      "2022-09-23 09:35:33,538 INFO Welcome to the CDS\n",
      "2022-09-23 09:35:33,538 INFO Sending request to https://cds.climate.copernicus.eu/api/v2/resources/seasonal-monthly-single-levels\n"
     ]
    },
    {
     "name": "stdout",
     "output_type": "stream",
     "text": [
      "[                                        ] | 0% Completed |  0.3s"
     ]
    },
    {
     "name": "stderr",
     "output_type": "stream",
     "text": [
      "2022-09-23 09:35:33,539 INFO Sending request to https://cds.climate.copernicus.eu/api/v2/resources/seasonal-monthly-single-levels\n"
     ]
    },
    {
     "name": "stdout",
     "output_type": "stream",
     "text": [
      "[                                        ] | 0% Completed |  0.6s"
     ]
    },
    {
     "name": "stderr",
     "output_type": "stream",
     "text": [
      "2022-09-23 09:35:33,885 INFO Request is queued\n",
      "2022-09-23 09:35:33,937 INFO Request is completed\n",
      "2022-09-23 09:35:33,939 INFO Downloading https://download-0007-clone.copernicus-climate.eu/cache-compute-0007/cache/data0/adaptor.mars.external-1663818413.6928334-24781-15-54f1a7fc-3085-4554-b91c-b610899be79a.nc to /media/nicolasf/END19101/ICU/data/CDS/JMA/T2M/ensemble_seas_forecasts_t2m_from_2002_09_JMA.netcdf (719.2K)\n"
     ]
    },
    {
     "name": "stdout",
     "output_type": "stream",
     "text": [
      "[                                        ] | 0% Completed |  1.9s"
     ]
    },
    {
     "name": "stderr",
     "output_type": "stream",
     "text": [
      "2022-09-23 09:35:35,192 INFO Request is failed\n",
      "2022-09-23 09:35:35,194 ERROR Message: no data is available within your requested subset\n",
      "2022-09-23 09:35:35,196 ERROR Reason:  Request returned no data\n",
      "2022-09-23 09:35:35,197 ERROR   Traceback (most recent call last):\n",
      "2022-09-23 09:35:35,199 ERROR     File \"/opt/cdstoolbox/cdscompute/cdscompute/cdshandlers/services/handler.py\", line 59, in handle_request\n",
      "2022-09-23 09:35:35,201 ERROR       result = cached(context.method, proc, context, context.args, context.kwargs)\n",
      "2022-09-23 09:35:35,202 ERROR     File \"/opt/cdstoolbox/cdscompute/cdscompute/caching.py\", line 108, in cached\n",
      "2022-09-23 09:35:35,204 ERROR       result = proc(context, *context.args, **context.kwargs)\n",
      "2022-09-23 09:35:35,206 ERROR     File \"/opt/cdstoolbox/cdscompute/cdscompute/services.py\", line 124, in __call__\n",
      "2022-09-23 09:35:35,208 ERROR       return p(*args, **kwargs)\n",
      "2022-09-23 09:35:35,210 ERROR     File \"/opt/cdstoolbox/cdscompute/cdscompute/services.py\", line 60, in __call__\n",
      "2022-09-23 09:35:35,211 ERROR       return self.proc(context, *args, **kwargs)\n",
      "2022-09-23 09:35:35,213 ERROR     File \"/home/cds/cdsservices/services/mars/mars.py\", line 52, in external\n",
      "2022-09-23 09:35:35,215 ERROR       return mars(context, request, **kwargs)\n",
      "2022-09-23 09:35:35,217 ERROR     File \"/home/cds/cdsservices/services/mars/mars.py\", line 19, in mars\n",
      "2022-09-23 09:35:35,219 ERROR       execute_mars(context, requests)\n",
      "2022-09-23 09:35:35,220 ERROR     File \"/home/cds/cdsservices/services/mars/execute_mars.py\", line 25, in execute_mars\n",
      "2022-09-23 09:35:35,222 ERROR       raise NoDataException(\"Request returned no data\", '')\n",
      "2022-09-23 09:35:35,223 ERROR   cdsinf.exceptions.NoDataException: Request returned no data\n"
     ]
    },
    {
     "name": "stdout",
     "output_type": "stream",
     "text": [
      "\n",
      "failure to download or save /media/nicolasf/END19101/ICU/data/CDS/UKMO/T2M/ensemble_seas_forecasts_t2m_from_2002_09_UKMO.netcdf\n",
      "\n",
      "\n",
      "attempting to download t2m for GCM UKMO, for level surface, year 2002, month 9, in netcdf, attempt 2 of 3\n",
      "\n",
      "[                                        ] | 0% Completed |  2.2s"
     ]
    },
    {
     "name": "stderr",
     "output_type": "stream",
     "text": [
      "2022-09-23 09:35:35,527 INFO Welcome to the CDS\n",
      "2022-09-23 09:35:35,528 INFO Sending request to https://cds.climate.copernicus.eu/api/v2/resources/seasonal-monthly-single-levels\n"
     ]
    },
    {
     "name": "stdout",
     "output_type": "stream",
     "text": [
      "[                                        ] | 0% Completed |  2.5s"
     ]
    },
    {
     "name": "stderr",
     "output_type": "stream",
     "text": [
      "2022-09-23 09:35:35,850 INFO Request is queued\n"
     ]
    },
    {
     "name": "stdout",
     "output_type": "stream",
     "text": [
      "[                                        ] | 0% Completed |  2.6s"
     ]
    },
    {
     "name": "stderr",
     "output_type": "stream",
     "text": [
      "  0%|                                                                                                                 | 0.00/719k [00:00<?, ?B/s]"
     ]
    },
    {
     "name": "stdout",
     "output_type": "stream",
     "text": [
      "[                                        ] | 0% Completed |  2.9s"
     ]
    },
    {
     "name": "stderr",
     "output_type": "stream",
     "text": [
      "  2%|██▎                                                                                                     | 16.0k/719k [00:00<00:12, 56.5kB/s]"
     ]
    },
    {
     "name": "stdout",
     "output_type": "stream",
     "text": [
      "[                                        ] | 0% Completed |  3.2s"
     ]
    },
    {
     "name": "stderr",
     "output_type": "stream",
     "text": [
      "  8%|████████▌                                                                                                | 59.0k/719k [00:00<00:06, 111kB/s]"
     ]
    },
    {
     "name": "stdout",
     "output_type": "stream",
     "text": [
      "[                                        ] | 0% Completed |  3.5s"
     ]
    },
    {
     "name": "stderr",
     "output_type": "stream",
     "text": [
      " 13%|█████████████▎                                                                                           | 91.0k/719k [00:00<00:05, 111kB/s]"
     ]
    },
    {
     "name": "stdout",
     "output_type": "stream",
     "text": [
      "[                                        ] | 0% Completed |  3.8s"
     ]
    },
    {
     "name": "stderr",
     "output_type": "stream",
     "text": [
      " 25%|██████████████████████████▍                                                                               | 179k/719k [00:01<00:02, 188kB/s]"
     ]
    },
    {
     "name": "stdout",
     "output_type": "stream",
     "text": [
      "[                                        ] | 0% Completed |  3.9s"
     ]
    },
    {
     "name": "stderr",
     "output_type": "stream",
     "text": [
      "2022-09-23 09:35:37,159 INFO Request is failed\n",
      "2022-09-23 09:35:37,160 ERROR Message: no data is available within your requested subset\n",
      "2022-09-23 09:35:37,162 ERROR Reason:  Request returned no data\n",
      "2022-09-23 09:35:37,164 ERROR   Traceback (most recent call last):\n",
      "2022-09-23 09:35:37,166 ERROR     File \"/opt/cdstoolbox/cdscompute/cdscompute/cdshandlers/services/handler.py\", line 59, in handle_request\n",
      "2022-09-23 09:35:37,168 ERROR       result = cached(context.method, proc, context, context.args, context.kwargs)\n",
      "2022-09-23 09:35:37,169 ERROR     File \"/opt/cdstoolbox/cdscompute/cdscompute/caching.py\", line 108, in cached\n",
      "2022-09-23 09:35:37,171 ERROR       result = proc(context, *context.args, **context.kwargs)\n",
      "2022-09-23 09:35:37,172 ERROR     File \"/opt/cdstoolbox/cdscompute/cdscompute/services.py\", line 124, in __call__\n",
      "2022-09-23 09:35:37,174 ERROR       return p(*args, **kwargs)\n",
      "2022-09-23 09:35:37,176 ERROR     File \"/opt/cdstoolbox/cdscompute/cdscompute/services.py\", line 60, in __call__\n",
      "2022-09-23 09:35:37,178 ERROR       return self.proc(context, *args, **kwargs)\n",
      "2022-09-23 09:35:37,180 ERROR     File \"/home/cds/cdsservices/services/mars/mars.py\", line 52, in external\n",
      "2022-09-23 09:35:37,181 ERROR       return mars(context, request, **kwargs)\n",
      "2022-09-23 09:35:37,183 ERROR     File \"/home/cds/cdsservices/services/mars/mars.py\", line 19, in mars\n",
      "2022-09-23 09:35:37,190 ERROR       execute_mars(context, requests)\n",
      "2022-09-23 09:35:37,191 ERROR     File \"/home/cds/cdsservices/services/mars/execute_mars.py\", line 25, in execute_mars\n",
      "2022-09-23 09:35:37,193 ERROR       raise NoDataException(\"Request returned no data\", '')\n",
      "2022-09-23 09:35:37,194 ERROR   cdsinf.exceptions.NoDataException: Request returned no data\n"
     ]
    },
    {
     "name": "stdout",
     "output_type": "stream",
     "text": [
      "\n",
      "failure to download or save /media/nicolasf/END19101/ICU/data/CDS/UKMO/T2M/ensemble_seas_forecasts_t2m_from_2002_09_UKMO.netcdf\n",
      "\n",
      "\n",
      "attempting to download t2m for GCM UKMO, for level surface, year 2002, month 9, in netcdf, attempt 3 of 3\n",
      "\n",
      "[                                        ] | 0% Completed |  4.1s"
     ]
    },
    {
     "name": "stderr",
     "output_type": "stream",
     "text": [
      " 54%|█████████████████████████████████████████████████████████                                                 | 387k/719k [00:01<00:00, 380kB/s]"
     ]
    },
    {
     "name": "stdout",
     "output_type": "stream",
     "text": [
      "[                                        ] | 0% Completed |  4.2s"
     ]
    },
    {
     "name": "stderr",
     "output_type": "stream",
     "text": [
      "                                                                                                                                                 2022-09-23 09:35:37,495 INFO Welcome to the CDS\n",
      "2022-09-23 09:35:37,496 INFO Sending request to https://cds.climate.copernicus.eu/api/v2/resources/seasonal-monthly-single-levels\n",
      "2022-09-23 09:35:37,496 INFO Download rate 202.2K/s\n"
     ]
    },
    {
     "name": "stdout",
     "output_type": "stream",
     "text": [
      "[                                        ] | 0% Completed |  4.5s\n",
      "/media/nicolasf/END19101/ICU/data/CDS/JMA/T2M/ensemble_seas_forecasts_t2m_from_2002_09_JMA.netcdf downloaded OK\n",
      "\n",
      "[####################                    ] | 50% Completed |  4.6s"
     ]
    },
    {
     "name": "stderr",
     "output_type": "stream",
     "text": [
      "2022-09-23 09:35:37,819 INFO Request is queued\n"
     ]
    },
    {
     "name": "stdout",
     "output_type": "stream",
     "text": [
      "[####################                    ] | 50% Completed |  5.8s"
     ]
    },
    {
     "name": "stderr",
     "output_type": "stream",
     "text": [
      "2022-09-23 09:35:39,123 INFO Request is failed\n",
      "2022-09-23 09:35:39,124 ERROR Message: no data is available within your requested subset\n",
      "2022-09-23 09:35:39,125 ERROR Reason:  Request returned no data\n",
      "2022-09-23 09:35:39,125 ERROR   Traceback (most recent call last):\n",
      "2022-09-23 09:35:39,126 ERROR     File \"/opt/cdstoolbox/cdscompute/cdscompute/cdshandlers/services/handler.py\", line 59, in handle_request\n",
      "2022-09-23 09:35:39,127 ERROR       result = cached(context.method, proc, context, context.args, context.kwargs)\n",
      "2022-09-23 09:35:39,127 ERROR     File \"/opt/cdstoolbox/cdscompute/cdscompute/caching.py\", line 108, in cached\n",
      "2022-09-23 09:35:39,128 ERROR       result = proc(context, *context.args, **context.kwargs)\n",
      "2022-09-23 09:35:39,129 ERROR     File \"/opt/cdstoolbox/cdscompute/cdscompute/services.py\", line 124, in __call__\n",
      "2022-09-23 09:35:39,129 ERROR       return p(*args, **kwargs)\n",
      "2022-09-23 09:35:39,130 ERROR     File \"/opt/cdstoolbox/cdscompute/cdscompute/services.py\", line 60, in __call__\n",
      "2022-09-23 09:35:39,131 ERROR       return self.proc(context, *args, **kwargs)\n",
      "2022-09-23 09:35:39,132 ERROR     File \"/home/cds/cdsservices/services/mars/mars.py\", line 52, in external\n",
      "2022-09-23 09:35:39,132 ERROR       return mars(context, request, **kwargs)\n",
      "2022-09-23 09:35:39,133 ERROR     File \"/home/cds/cdsservices/services/mars/mars.py\", line 19, in mars\n",
      "2022-09-23 09:35:39,134 ERROR       execute_mars(context, requests)\n",
      "2022-09-23 09:35:39,134 ERROR     File \"/home/cds/cdsservices/services/mars/execute_mars.py\", line 25, in execute_mars\n",
      "2022-09-23 09:35:39,135 ERROR       raise NoDataException(\"Request returned no data\", '')\n",
      "2022-09-23 09:35:39,135 ERROR   cdsinf.exceptions.NoDataException: Request returned no data\n"
     ]
    },
    {
     "name": "stdout",
     "output_type": "stream",
     "text": [
      "\n",
      "failure to download or save /media/nicolasf/END19101/ICU/data/CDS/UKMO/T2M/ensemble_seas_forecasts_t2m_from_2002_09_UKMO.netcdf\n",
      "\n",
      "[########################################] | 100% Completed |  5.9s\n",
      "[                                        ] | 0% Completed |  0.0s\n",
      "attempting to download t2m for GCM JMA, for level surface, year 2003, month 9, in netcdf, attempt 1 of 3\n",
      "\n",
      "\n",
      "attempting to download t2m for GCM UKMO, for level surface, year 2003, month 9, in netcdf, attempt 1 of 3\n",
      "\n",
      "[                                        ] | 0% Completed |  0.3s"
     ]
    },
    {
     "name": "stderr",
     "output_type": "stream",
     "text": [
      "2022-09-23 09:35:39,446 INFO Welcome to the CDS\n",
      "2022-09-23 09:35:39,448 INFO Welcome to the CDS\n",
      "2022-09-23 09:35:39,453 INFO Sending request to https://cds.climate.copernicus.eu/api/v2/resources/seasonal-monthly-single-levels\n",
      "2022-09-23 09:35:39,457 INFO Sending request to https://cds.climate.copernicus.eu/api/v2/resources/seasonal-monthly-single-levels\n"
     ]
    },
    {
     "name": "stdout",
     "output_type": "stream",
     "text": [
      "[                                        ] | 0% Completed |  0.6s"
     ]
    },
    {
     "name": "stderr",
     "output_type": "stream",
     "text": [
      "2022-09-23 09:35:39,799 INFO Request is queued\n",
      "2022-09-23 09:35:39,838 INFO Request is completed\n",
      "2022-09-23 09:35:39,839 INFO Downloading https://download-0019.copernicus-climate.eu/cache-compute-0019/cache/data0/adaptor.mars.external-1663818421.0410771-1028-5-bbab93e0-b3be-47b0-879c-70db5b5f0313.nc to /media/nicolasf/END19101/ICU/data/CDS/JMA/T2M/ensemble_seas_forecasts_t2m_from_2003_09_JMA.netcdf (719.2K)\n"
     ]
    },
    {
     "name": "stdout",
     "output_type": "stream",
     "text": [
      "[                                        ] | 0% Completed |  1.9s"
     ]
    },
    {
     "name": "stderr",
     "output_type": "stream",
     "text": [
      "2022-09-23 09:35:41,107 INFO Request is failed\n",
      "2022-09-23 09:35:41,109 ERROR Message: no data is available within your requested subset\n",
      "2022-09-23 09:35:41,110 ERROR Reason:  Request returned no data\n",
      "2022-09-23 09:35:41,112 ERROR   Traceback (most recent call last):\n",
      "2022-09-23 09:35:41,114 ERROR     File \"/opt/cdstoolbox/cdscompute/cdscompute/cdshandlers/services/handler.py\", line 59, in handle_request\n",
      "2022-09-23 09:35:41,116 ERROR       result = cached(context.method, proc, context, context.args, context.kwargs)\n",
      "2022-09-23 09:35:41,118 ERROR     File \"/opt/cdstoolbox/cdscompute/cdscompute/caching.py\", line 108, in cached\n",
      "2022-09-23 09:35:41,119 ERROR       result = proc(context, *context.args, **context.kwargs)\n",
      "2022-09-23 09:35:41,121 ERROR     File \"/opt/cdstoolbox/cdscompute/cdscompute/services.py\", line 124, in __call__\n",
      "2022-09-23 09:35:41,123 ERROR       return p(*args, **kwargs)\n",
      "2022-09-23 09:35:41,128 ERROR     File \"/opt/cdstoolbox/cdscompute/cdscompute/services.py\", line 60, in __call__\n",
      "2022-09-23 09:35:41,129 ERROR       return self.proc(context, *args, **kwargs)\n",
      "2022-09-23 09:35:41,130 ERROR     File \"/home/cds/cdsservices/services/mars/mars.py\", line 52, in external\n",
      "2022-09-23 09:35:41,131 ERROR       return mars(context, request, **kwargs)\n",
      "2022-09-23 09:35:41,132 ERROR     File \"/home/cds/cdsservices/services/mars/mars.py\", line 19, in mars\n",
      "2022-09-23 09:35:41,133 ERROR       execute_mars(context, requests)\n",
      "2022-09-23 09:35:41,135 ERROR     File \"/home/cds/cdsservices/services/mars/execute_mars.py\", line 25, in execute_mars\n",
      "2022-09-23 09:35:41,136 ERROR       raise NoDataException(\"Request returned no data\", '')\n",
      "2022-09-23 09:35:41,137 ERROR   cdsinf.exceptions.NoDataException: Request returned no data\n"
     ]
    },
    {
     "name": "stdout",
     "output_type": "stream",
     "text": [
      "\n",
      "failure to download or save /media/nicolasf/END19101/ICU/data/CDS/UKMO/T2M/ensemble_seas_forecasts_t2m_from_2003_09_UKMO.netcdf\n",
      "\n",
      "\n",
      "attempting to download t2m for GCM UKMO, for level surface, year 2003, month 9, in netcdf, attempt 2 of 3\n",
      "\n",
      "[                                        ] | 0% Completed |  2.2s"
     ]
    },
    {
     "name": "stderr",
     "output_type": "stream",
     "text": [
      "2022-09-23 09:35:41,437 INFO Welcome to the CDS\n",
      "2022-09-23 09:35:41,439 INFO Sending request to https://cds.climate.copernicus.eu/api/v2/resources/seasonal-monthly-single-levels\n"
     ]
    },
    {
     "name": "stdout",
     "output_type": "stream",
     "text": [
      "[                                        ] | 0% Completed |  2.5s"
     ]
    },
    {
     "name": "stderr",
     "output_type": "stream",
     "text": [
      "2022-09-23 09:35:41,749 INFO Request is queued\n",
      "  0%|                                                                                                                 | 0.00/719k [00:00<?, ?B/s]"
     ]
    },
    {
     "name": "stdout",
     "output_type": "stream",
     "text": [
      "[                                        ] | 0% Completed |  2.8s"
     ]
    },
    {
     "name": "stderr",
     "output_type": "stream",
     "text": [
      "  2%|██▎                                                                                                     | 16.0k/719k [00:00<00:12, 56.1kB/s]"
     ]
    },
    {
     "name": "stdout",
     "output_type": "stream",
     "text": [
      "[                                        ] | 0% Completed |  3.2s"
     ]
    },
    {
     "name": "stderr",
     "output_type": "stream",
     "text": [
      "  7%|███████▌                                                                                                | 52.0k/719k [00:00<00:07, 96.8kB/s]"
     ]
    },
    {
     "name": "stdout",
     "output_type": "stream",
     "text": [
      "[                                        ] | 0% Completed |  3.5s"
     ]
    },
    {
     "name": "stderr",
     "output_type": "stream",
     "text": [
      " 13%|█████████████▍                                                                                           | 92.0k/719k [00:00<00:05, 116kB/s]"
     ]
    },
    {
     "name": "stdout",
     "output_type": "stream",
     "text": [
      "[                                        ] | 0% Completed |  3.8s"
     ]
    },
    {
     "name": "stderr",
     "output_type": "stream",
     "text": [
      " 29%|██████████████████████████████▊                                                                           | 209k/719k [00:01<00:02, 231kB/s]"
     ]
    },
    {
     "name": "stdout",
     "output_type": "stream",
     "text": [
      "[                                        ] | 0% Completed |  3.9s"
     ]
    },
    {
     "name": "stderr",
     "output_type": "stream",
     "text": [
      "2022-09-23 09:35:43,059 INFO Request is failed\n",
      "2022-09-23 09:35:43,061 ERROR Message: no data is available within your requested subset\n",
      "2022-09-23 09:35:43,063 ERROR Reason:  Request returned no data\n",
      "2022-09-23 09:35:43,065 ERROR   Traceback (most recent call last):\n",
      "2022-09-23 09:35:43,067 ERROR     File \"/opt/cdstoolbox/cdscompute/cdscompute/cdshandlers/services/handler.py\", line 59, in handle_request\n",
      "2022-09-23 09:35:43,070 ERROR       result = cached(context.method, proc, context, context.args, context.kwargs)\n",
      "2022-09-23 09:35:43,072 ERROR     File \"/opt/cdstoolbox/cdscompute/cdscompute/caching.py\", line 108, in cached\n",
      "2022-09-23 09:35:43,074 ERROR       result = proc(context, *context.args, **context.kwargs)\n",
      "2022-09-23 09:35:43,080 ERROR     File \"/opt/cdstoolbox/cdscompute/cdscompute/services.py\", line 124, in __call__\n",
      "2022-09-23 09:35:43,081 ERROR       return p(*args, **kwargs)\n",
      "2022-09-23 09:35:43,082 ERROR     File \"/opt/cdstoolbox/cdscompute/cdscompute/services.py\", line 60, in __call__\n",
      "2022-09-23 09:35:43,085 ERROR       return self.proc(context, *args, **kwargs)\n",
      "2022-09-23 09:35:43,086 ERROR     File \"/home/cds/cdsservices/services/mars/mars.py\", line 52, in external\n",
      "2022-09-23 09:35:43,087 ERROR       return mars(context, request, **kwargs)\n",
      "2022-09-23 09:35:43,089 ERROR     File \"/home/cds/cdsservices/services/mars/mars.py\", line 19, in mars\n",
      "2022-09-23 09:35:43,090 ERROR       execute_mars(context, requests)\n",
      "2022-09-23 09:35:43,091 ERROR     File \"/home/cds/cdsservices/services/mars/execute_mars.py\", line 25, in execute_mars\n",
      "2022-09-23 09:35:43,091 ERROR       raise NoDataException(\"Request returned no data\", '')\n",
      "2022-09-23 09:35:43,092 ERROR   cdsinf.exceptions.NoDataException: Request returned no data\n"
     ]
    },
    {
     "name": "stdout",
     "output_type": "stream",
     "text": [
      "\n",
      "failure to download or save /media/nicolasf/END19101/ICU/data/CDS/UKMO/T2M/ensemble_seas_forecasts_t2m_from_2003_09_UKMO.netcdf\n",
      "\n",
      "\n",
      "attempting to download t2m for GCM UKMO, for level surface, year 2003, month 9, in netcdf, attempt 3 of 3\n",
      "\n",
      "[                                        ] | 0% Completed |  4.1s"
     ]
    },
    {
     "name": "stderr",
     "output_type": "stream",
     "text": [
      " 60%|███████████████████████████████████████████████████████████████▉                                          | 434k/719k [00:01<00:00, 429kB/s]"
     ]
    },
    {
     "name": "stdout",
     "output_type": "stream",
     "text": [
      "[                                        ] | 0% Completed |  4.2s"
     ]
    },
    {
     "name": "stderr",
     "output_type": "stream",
     "text": [
      "2022-09-23 09:35:43,385 INFO Download rate 202.9K/s                                                                                              \n",
      "2022-09-23 09:35:43,393 INFO Welcome to the CDS\n",
      "2022-09-23 09:35:43,395 INFO Sending request to https://cds.climate.copernicus.eu/api/v2/resources/seasonal-monthly-single-levels\n"
     ]
    },
    {
     "name": "stdout",
     "output_type": "stream",
     "text": [
      "[                                        ] | 0% Completed |  4.5s\n",
      "/media/nicolasf/END19101/ICU/data/CDS/JMA/T2M/ensemble_seas_forecasts_t2m_from_2003_09_JMA.netcdf downloaded OK\n",
      "\n",
      "[####################                    ] | 50% Completed |  4.6s"
     ]
    },
    {
     "name": "stderr",
     "output_type": "stream",
     "text": [
      "2022-09-23 09:35:43,745 INFO Request is queued\n"
     ]
    },
    {
     "name": "stdout",
     "output_type": "stream",
     "text": [
      "[####################                    ] | 50% Completed |  5.9s"
     ]
    },
    {
     "name": "stderr",
     "output_type": "stream",
     "text": [
      "2022-09-23 09:35:45,054 INFO Request is failed\n",
      "2022-09-23 09:35:45,055 ERROR Message: no data is available within your requested subset\n",
      "2022-09-23 09:35:45,057 ERROR Reason:  Request returned no data\n",
      "2022-09-23 09:35:45,059 ERROR   Traceback (most recent call last):\n",
      "2022-09-23 09:35:45,060 ERROR     File \"/opt/cdstoolbox/cdscompute/cdscompute/cdshandlers/services/handler.py\", line 59, in handle_request\n",
      "2022-09-23 09:35:45,062 ERROR       result = cached(context.method, proc, context, context.args, context.kwargs)\n",
      "2022-09-23 09:35:45,064 ERROR     File \"/opt/cdstoolbox/cdscompute/cdscompute/caching.py\", line 108, in cached\n",
      "2022-09-23 09:35:45,066 ERROR       result = proc(context, *context.args, **context.kwargs)\n",
      "2022-09-23 09:35:45,068 ERROR     File \"/opt/cdstoolbox/cdscompute/cdscompute/services.py\", line 124, in __call__\n",
      "2022-09-23 09:35:45,069 ERROR       return p(*args, **kwargs)\n",
      "2022-09-23 09:35:45,071 ERROR     File \"/opt/cdstoolbox/cdscompute/cdscompute/services.py\", line 60, in __call__\n",
      "2022-09-23 09:35:45,079 ERROR       return self.proc(context, *args, **kwargs)\n",
      "2022-09-23 09:35:45,081 ERROR     File \"/home/cds/cdsservices/services/mars/mars.py\", line 52, in external\n",
      "2022-09-23 09:35:45,082 ERROR       return mars(context, request, **kwargs)\n",
      "2022-09-23 09:35:45,084 ERROR     File \"/home/cds/cdsservices/services/mars/mars.py\", line 19, in mars\n",
      "2022-09-23 09:35:45,085 ERROR       execute_mars(context, requests)\n",
      "2022-09-23 09:35:45,086 ERROR     File \"/home/cds/cdsservices/services/mars/execute_mars.py\", line 25, in execute_mars\n",
      "2022-09-23 09:35:45,087 ERROR       raise NoDataException(\"Request returned no data\", '')\n",
      "2022-09-23 09:35:45,089 ERROR   cdsinf.exceptions.NoDataException: Request returned no data\n"
     ]
    },
    {
     "name": "stdout",
     "output_type": "stream",
     "text": [
      "\n",
      "failure to download or save /media/nicolasf/END19101/ICU/data/CDS/UKMO/T2M/ensemble_seas_forecasts_t2m_from_2003_09_UKMO.netcdf\n",
      "\n",
      "[########################################] | 100% Completed |  6.0s\n",
      "[                                        ] | 0% Completed |  0.0s\n",
      "attempting to download t2m for GCM JMA, for level surface, year 2004, month 9, in netcdf, attempt 1 of 3\n",
      "\n",
      "\n",
      "attempting to download t2m for GCM UKMO, for level surface, year 2004, month 9, in netcdf, attempt 1 of 3\n",
      "\n",
      "[                                        ] | 0% Completed |  0.2s"
     ]
    },
    {
     "name": "stderr",
     "output_type": "stream",
     "text": [
      "2022-09-23 09:35:45,455 INFO Welcome to the CDS\n",
      "2022-09-23 09:35:45,455 INFO Welcome to the CDS\n"
     ]
    },
    {
     "name": "stdout",
     "output_type": "stream",
     "text": [
      "[                                        ] | 0% Completed |  0.3s"
     ]
    },
    {
     "name": "stderr",
     "output_type": "stream",
     "text": [
      "2022-09-23 09:35:45,458 INFO Sending request to https://cds.climate.copernicus.eu/api/v2/resources/seasonal-monthly-single-levels\n",
      "2022-09-23 09:35:45,461 INFO Sending request to https://cds.climate.copernicus.eu/api/v2/resources/seasonal-monthly-single-levels\n"
     ]
    },
    {
     "name": "stdout",
     "output_type": "stream",
     "text": [
      "[                                        ] | 0% Completed |  0.6s"
     ]
    },
    {
     "name": "stderr",
     "output_type": "stream",
     "text": [
      "2022-09-23 09:35:45,839 INFO Request is queued\n"
     ]
    },
    {
     "name": "stdout",
     "output_type": "stream",
     "text": [
      "[                                        ] | 0% Completed |  0.7s"
     ]
    },
    {
     "name": "stderr",
     "output_type": "stream",
     "text": [
      "2022-09-23 09:35:45,896 INFO Request is completed\n",
      "2022-09-23 09:35:45,898 INFO Downloading https://download-0010-clone.copernicus-climate.eu/cache-compute-0010/cache/data5/adaptor.mars.external-1663818428.263704-29806-9-38c10edd-45c1-416f-a730-31695ce2619d.nc to /media/nicolasf/END19101/ICU/data/CDS/JMA/T2M/ensemble_seas_forecasts_t2m_from_2004_09_JMA.netcdf (719.2K)\n"
     ]
    },
    {
     "name": "stdout",
     "output_type": "stream",
     "text": [
      "[                                        ] | 0% Completed |  1.9s"
     ]
    },
    {
     "name": "stderr",
     "output_type": "stream",
     "text": [
      "2022-09-23 09:35:47,147 INFO Request is failed\n",
      "2022-09-23 09:35:47,149 ERROR Message: no data is available within your requested subset\n",
      "2022-09-23 09:35:47,150 ERROR Reason:  Request returned no data\n",
      "2022-09-23 09:35:47,152 ERROR   Traceback (most recent call last):\n",
      "2022-09-23 09:35:47,154 ERROR     File \"/opt/cdstoolbox/cdscompute/cdscompute/cdshandlers/services/handler.py\", line 59, in handle_request\n",
      "2022-09-23 09:35:47,155 ERROR       result = cached(context.method, proc, context, context.args, context.kwargs)\n",
      "2022-09-23 09:35:47,157 ERROR     File \"/opt/cdstoolbox/cdscompute/cdscompute/caching.py\", line 108, in cached\n",
      "2022-09-23 09:35:47,159 ERROR       result = proc(context, *context.args, **context.kwargs)\n",
      "2022-09-23 09:35:47,160 ERROR     File \"/opt/cdstoolbox/cdscompute/cdscompute/services.py\", line 124, in __call__\n",
      "2022-09-23 09:35:47,162 ERROR       return p(*args, **kwargs)\n",
      "2022-09-23 09:35:47,164 ERROR     File \"/opt/cdstoolbox/cdscompute/cdscompute/services.py\", line 60, in __call__\n",
      "2022-09-23 09:35:47,166 ERROR       return self.proc(context, *args, **kwargs)\n",
      "2022-09-23 09:35:47,168 ERROR     File \"/home/cds/cdsservices/services/mars/mars.py\", line 52, in external\n",
      "2022-09-23 09:35:47,169 ERROR       return mars(context, request, **kwargs)\n",
      "2022-09-23 09:35:47,171 ERROR     File \"/home/cds/cdsservices/services/mars/mars.py\", line 19, in mars\n",
      "2022-09-23 09:35:47,173 ERROR       execute_mars(context, requests)\n",
      "2022-09-23 09:35:47,175 ERROR     File \"/home/cds/cdsservices/services/mars/execute_mars.py\", line 25, in execute_mars\n",
      "2022-09-23 09:35:47,176 ERROR       raise NoDataException(\"Request returned no data\", '')\n",
      "2022-09-23 09:35:47,183 ERROR   cdsinf.exceptions.NoDataException: Request returned no data\n"
     ]
    },
    {
     "name": "stdout",
     "output_type": "stream",
     "text": [
      "\n",
      "failure to download or save /media/nicolasf/END19101/ICU/data/CDS/UKMO/T2M/ensemble_seas_forecasts_t2m_from_2004_09_UKMO.netcdf\n",
      "\n",
      "\n",
      "attempting to download t2m for GCM UKMO, for level surface, year 2004, month 9, in netcdf, attempt 2 of 3\n",
      "\n",
      "[                                        ] | 0% Completed |  2.2s"
     ]
    },
    {
     "name": "stderr",
     "output_type": "stream",
     "text": [
      "2022-09-23 09:35:47,483 INFO Welcome to the CDS\n",
      "2022-09-23 09:35:47,485 INFO Sending request to https://cds.climate.copernicus.eu/api/v2/resources/seasonal-monthly-single-levels\n"
     ]
    },
    {
     "name": "stdout",
     "output_type": "stream",
     "text": [
      "[                                        ] | 0% Completed |  2.7s"
     ]
    },
    {
     "name": "stderr",
     "output_type": "stream",
     "text": [
      "2022-09-23 09:35:47,839 INFO Request is queued\n",
      "  0%|                                                                                                                 | 0.00/719k [00:00<?, ?B/s]"
     ]
    },
    {
     "name": "stdout",
     "output_type": "stream",
     "text": [
      "[                                        ] | 0% Completed |  3.0s"
     ]
    },
    {
     "name": "stderr",
     "output_type": "stream",
     "text": [
      "  2%|██▎                                                                                                     | 16.0k/719k [00:00<00:12, 56.4kB/s]"
     ]
    },
    {
     "name": "stdout",
     "output_type": "stream",
     "text": [
      "[                                        ] | 0% Completed |  3.3s"
     ]
    },
    {
     "name": "stderr",
     "output_type": "stream",
     "text": [
      " 10%|██████████▏                                                                                              | 70.0k/719k [00:00<00:04, 134kB/s]"
     ]
    },
    {
     "name": "stdout",
     "output_type": "stream",
     "text": [
      "[                                        ] | 0% Completed |  3.6s"
     ]
    },
    {
     "name": "stderr",
     "output_type": "stream",
     "text": [
      " 13%|█████████████▋                                                                                           | 94.0k/719k [00:00<00:05, 111kB/s]"
     ]
    },
    {
     "name": "stdout",
     "output_type": "stream",
     "text": [
      "[                                        ] | 0% Completed |  3.9s"
     ]
    },
    {
     "name": "stderr",
     "output_type": "stream",
     "text": [
      " 29%|██████████████████████████████▋                                                                           | 208k/719k [00:01<00:02, 223kB/s]"
     ]
    },
    {
     "name": "stdout",
     "output_type": "stream",
     "text": [
      "[                                        ] | 0% Completed |  4.0s"
     ]
    },
    {
     "name": "stderr",
     "output_type": "stream",
     "text": [
      "2022-09-23 09:35:49,147 INFO Request is failed\n",
      "2022-09-23 09:35:49,149 ERROR Message: no data is available within your requested subset\n",
      "2022-09-23 09:35:49,151 ERROR Reason:  Request returned no data\n",
      "2022-09-23 09:35:49,153 ERROR   Traceback (most recent call last):\n",
      "2022-09-23 09:35:49,157 ERROR     File \"/opt/cdstoolbox/cdscompute/cdscompute/cdshandlers/services/handler.py\", line 59, in handle_request\n",
      "2022-09-23 09:35:49,158 ERROR       result = cached(context.method, proc, context, context.args, context.kwargs)\n",
      "2022-09-23 09:35:49,160 ERROR     File \"/opt/cdstoolbox/cdscompute/cdscompute/caching.py\", line 108, in cached\n",
      "2022-09-23 09:35:49,162 ERROR       result = proc(context, *context.args, **context.kwargs)\n",
      "2022-09-23 09:35:49,163 ERROR     File \"/opt/cdstoolbox/cdscompute/cdscompute/services.py\", line 124, in __call__\n",
      "2022-09-23 09:35:49,165 ERROR       return p(*args, **kwargs)\n",
      "2022-09-23 09:35:49,167 ERROR     File \"/opt/cdstoolbox/cdscompute/cdscompute/services.py\", line 60, in __call__\n",
      "2022-09-23 09:35:49,169 ERROR       return self.proc(context, *args, **kwargs)\n",
      "2022-09-23 09:35:49,170 ERROR     File \"/home/cds/cdsservices/services/mars/mars.py\", line 52, in external\n",
      "2022-09-23 09:35:49,172 ERROR       return mars(context, request, **kwargs)\n",
      "2022-09-23 09:35:49,174 ERROR     File \"/home/cds/cdsservices/services/mars/mars.py\", line 19, in mars\n",
      "2022-09-23 09:35:49,175 ERROR       execute_mars(context, requests)\n",
      "2022-09-23 09:35:49,176 ERROR     File \"/home/cds/cdsservices/services/mars/execute_mars.py\", line 25, in execute_mars\n",
      "2022-09-23 09:35:49,177 ERROR       raise NoDataException(\"Request returned no data\", '')\n",
      "2022-09-23 09:35:49,179 ERROR   cdsinf.exceptions.NoDataException: Request returned no data\n"
     ]
    },
    {
     "name": "stdout",
     "output_type": "stream",
     "text": [
      "\n",
      "failure to download or save /media/nicolasf/END19101/ICU/data/CDS/UKMO/T2M/ensemble_seas_forecasts_t2m_from_2004_09_UKMO.netcdf\n",
      "\n",
      "\n",
      "attempting to download t2m for GCM UKMO, for level surface, year 2004, month 9, in netcdf, attempt 3 of 3\n",
      "\n",
      "[                                        ] | 0% Completed |  4.2s"
     ]
    },
    {
     "name": "stderr",
     "output_type": "stream",
     "text": [
      " 61%|████████████████████████████████████████████████████████████████▋                                         | 439k/719k [00:01<00:00, 431kB/s]"
     ]
    },
    {
     "name": "stdout",
     "output_type": "stream",
     "text": [
      "[                                        ] | 0% Completed |  4.3s"
     ]
    },
    {
     "name": "stderr",
     "output_type": "stream",
     "text": [
      "2022-09-23 09:35:49,476 INFO Download rate 201.1K/s                                                                                              \n",
      "2022-09-23 09:35:49,486 INFO Welcome to the CDS\n",
      "2022-09-23 09:35:49,488 INFO Sending request to https://cds.climate.copernicus.eu/api/v2/resources/seasonal-monthly-single-levels\n"
     ]
    },
    {
     "name": "stdout",
     "output_type": "stream",
     "text": [
      "[                                        ] | 0% Completed |  4.6s"
     ]
    },
    {
     "name": "stderr",
     "output_type": "stream",
     "text": [
      "2022-09-23 09:35:49,827 INFO Request is queued\n"
     ]
    },
    {
     "name": "stdout",
     "output_type": "stream",
     "text": [
      "\n",
      "/media/nicolasf/END19101/ICU/data/CDS/JMA/T2M/ensemble_seas_forecasts_t2m_from_2004_09_JMA.netcdf downloaded OK\n",
      "\n",
      "[####################                    ] | 50% Completed |  5.9s"
     ]
    },
    {
     "name": "stderr",
     "output_type": "stream",
     "text": [
      "2022-09-23 09:35:51,135 INFO Request is failed\n",
      "2022-09-23 09:35:51,137 ERROR Message: no data is available within your requested subset\n",
      "2022-09-23 09:35:51,139 ERROR Reason:  Request returned no data\n",
      "2022-09-23 09:35:51,141 ERROR   Traceback (most recent call last):\n",
      "2022-09-23 09:35:51,143 ERROR     File \"/opt/cdstoolbox/cdscompute/cdscompute/cdshandlers/services/handler.py\", line 59, in handle_request\n",
      "2022-09-23 09:35:51,145 ERROR       result = cached(context.method, proc, context, context.args, context.kwargs)\n",
      "2022-09-23 09:35:51,147 ERROR     File \"/opt/cdstoolbox/cdscompute/cdscompute/caching.py\", line 108, in cached\n",
      "2022-09-23 09:35:51,149 ERROR       result = proc(context, *context.args, **context.kwargs)\n",
      "2022-09-23 09:35:51,151 ERROR     File \"/opt/cdstoolbox/cdscompute/cdscompute/services.py\", line 124, in __call__\n",
      "2022-09-23 09:35:51,153 ERROR       return p(*args, **kwargs)\n",
      "2022-09-23 09:35:51,155 ERROR     File \"/opt/cdstoolbox/cdscompute/cdscompute/services.py\", line 60, in __call__\n",
      "2022-09-23 09:35:51,157 ERROR       return self.proc(context, *args, **kwargs)\n",
      "2022-09-23 09:35:51,158 ERROR     File \"/home/cds/cdsservices/services/mars/mars.py\", line 52, in external\n",
      "2022-09-23 09:35:51,160 ERROR       return mars(context, request, **kwargs)\n",
      "2022-09-23 09:35:51,162 ERROR     File \"/home/cds/cdsservices/services/mars/mars.py\", line 19, in mars\n",
      "2022-09-23 09:35:51,163 ERROR       execute_mars(context, requests)\n",
      "2022-09-23 09:35:51,165 ERROR     File \"/home/cds/cdsservices/services/mars/execute_mars.py\", line 25, in execute_mars\n",
      "2022-09-23 09:35:51,167 ERROR       raise NoDataException(\"Request returned no data\", '')\n"
     ]
    },
    {
     "name": "stdout",
     "output_type": "stream",
     "text": [
      "[####################                    ] | 50% Completed |  6.0s"
     ]
    },
    {
     "name": "stderr",
     "output_type": "stream",
     "text": [
      "2022-09-23 09:35:51,170 ERROR   cdsinf.exceptions.NoDataException: Request returned no data\n"
     ]
    },
    {
     "name": "stdout",
     "output_type": "stream",
     "text": [
      "\n",
      "failure to download or save /media/nicolasf/END19101/ICU/data/CDS/UKMO/T2M/ensemble_seas_forecasts_t2m_from_2004_09_UKMO.netcdf\n",
      "\n",
      "[########################################] | 100% Completed |  6.1s\n",
      "[                                        ] | 0% Completed |  0.0s\n",
      "attempting to download t2m for GCM JMA, for level surface, year 2005, month 9, in netcdf, attempt 1 of 3\n",
      "\n",
      "\n",
      "attempting to download t2m for GCM UKMO, for level surface, year 2005, month 9, in netcdf, attempt 1 of 3\n",
      "\n",
      "[                                        ] | 0% Completed |  0.3s"
     ]
    },
    {
     "name": "stderr",
     "output_type": "stream",
     "text": [
      "2022-09-23 09:35:51,581 INFO Welcome to the CDS\n",
      "2022-09-23 09:35:51,584 INFO Sending request to https://cds.climate.copernicus.eu/api/v2/resources/seasonal-monthly-single-levels\n",
      "2022-09-23 09:35:51,586 INFO Welcome to the CDS\n",
      "2022-09-23 09:35:51,599 INFO Sending request to https://cds.climate.copernicus.eu/api/v2/resources/seasonal-monthly-single-levels\n"
     ]
    },
    {
     "name": "stdout",
     "output_type": "stream",
     "text": [
      "[                                        ] | 0% Completed |  0.6s"
     ]
    },
    {
     "name": "stderr",
     "output_type": "stream",
     "text": [
      "2022-09-23 09:35:51,938 INFO Request is queued\n",
      "2022-09-23 09:35:51,949 INFO Request is completed\n",
      "2022-09-23 09:35:51,950 INFO Downloading https://download-0015-clone.copernicus-climate.eu/cache-compute-0015/cache/data2/adaptor.mars.external-1663818436.5979064-19051-7-a4344e96-e05f-4483-a13e-4114c5d1fc05.nc to /media/nicolasf/END19101/ICU/data/CDS/JMA/T2M/ensemble_seas_forecasts_t2m_from_2005_09_JMA.netcdf (719.2K)\n"
     ]
    },
    {
     "name": "stdout",
     "output_type": "stream",
     "text": [
      "[                                        ] | 0% Completed |  0.9s"
     ]
    },
    {
     "name": "stderr",
     "output_type": "stream",
     "text": [
      "  0%|                                                                                                                 | 0.00/719k [00:00<?, ?B/s]"
     ]
    },
    {
     "name": "stdout",
     "output_type": "stream",
     "text": [
      "[                                        ] | 0% Completed |  1.2s"
     ]
    },
    {
     "name": "stderr",
     "output_type": "stream",
     "text": [
      "  1%|█▏                                                                                                      | 8.00k/719k [00:00<00:25, 28.3kB/s]"
     ]
    },
    {
     "name": "stdout",
     "output_type": "stream",
     "text": [
      "[                                        ] | 0% Completed |  1.5s"
     ]
    },
    {
     "name": "stderr",
     "output_type": "stream",
     "text": [
      "  5%|█████                                                                                                   | 35.0k/719k [00:00<00:10, 67.0kB/s]"
     ]
    },
    {
     "name": "stdout",
     "output_type": "stream",
     "text": [
      "[                                        ] | 0% Completed |  1.8s"
     ]
    },
    {
     "name": "stderr",
     "output_type": "stream",
     "text": [
      " 13%|█████████████▎                                                                                           | 91.0k/719k [00:00<00:05, 125kB/s]"
     ]
    },
    {
     "name": "stdout",
     "output_type": "stream",
     "text": [
      "[                                        ] | 0% Completed |  1.9s"
     ]
    },
    {
     "name": "stderr",
     "output_type": "stream",
     "text": [
      "2022-09-23 09:35:53,245 INFO Request is failed\n",
      "2022-09-23 09:35:53,246 ERROR Message: no data is available within your requested subset\n",
      "2022-09-23 09:35:53,248 ERROR Reason:  Request returned no data\n",
      "2022-09-23 09:35:53,252 ERROR   Traceback (most recent call last):\n",
      "2022-09-23 09:35:53,254 ERROR     File \"/opt/cdstoolbox/cdscompute/cdscompute/cdshandlers/services/handler.py\", line 59, in handle_request\n",
      "2022-09-23 09:35:53,256 ERROR       result = cached(context.method, proc, context, context.args, context.kwargs)\n",
      "2022-09-23 09:35:53,258 ERROR     File \"/opt/cdstoolbox/cdscompute/cdscompute/caching.py\", line 108, in cached\n",
      "2022-09-23 09:35:53,260 ERROR       result = proc(context, *context.args, **context.kwargs)\n",
      "2022-09-23 09:35:53,263 ERROR     File \"/opt/cdstoolbox/cdscompute/cdscompute/services.py\", line 124, in __call__\n",
      "2022-09-23 09:35:53,267 ERROR       return p(*args, **kwargs)\n",
      "2022-09-23 09:35:53,269 ERROR     File \"/opt/cdstoolbox/cdscompute/cdscompute/services.py\", line 60, in __call__\n",
      "2022-09-23 09:35:53,271 ERROR       return self.proc(context, *args, **kwargs)\n",
      "2022-09-23 09:35:53,274 ERROR     File \"/home/cds/cdsservices/services/mars/mars.py\", line 52, in external\n",
      "2022-09-23 09:35:53,276 ERROR       return mars(context, request, **kwargs)\n",
      "2022-09-23 09:35:53,277 ERROR     File \"/home/cds/cdsservices/services/mars/mars.py\", line 19, in mars\n",
      "2022-09-23 09:35:53,279 ERROR       execute_mars(context, requests)\n",
      "2022-09-23 09:35:53,280 ERROR     File \"/home/cds/cdsservices/services/mars/execute_mars.py\", line 25, in execute_mars\n",
      "2022-09-23 09:35:53,282 ERROR       raise NoDataException(\"Request returned no data\", '')\n",
      "2022-09-23 09:35:53,283 ERROR   cdsinf.exceptions.NoDataException: Request returned no data\n"
     ]
    },
    {
     "name": "stdout",
     "output_type": "stream",
     "text": [
      "\n",
      "failure to download or save /media/nicolasf/END19101/ICU/data/CDS/UKMO/T2M/ensemble_seas_forecasts_t2m_from_2005_09_UKMO.netcdf\n",
      "\n",
      "\n",
      "attempting to download t2m for GCM UKMO, for level surface, year 2005, month 9, in netcdf, attempt 2 of 3\n",
      "\n",
      "[                                        ] | 0% Completed |  2.1s"
     ]
    },
    {
     "name": "stderr",
     "output_type": "stream",
     "text": [
      " 28%|█████████████████████████████▋                                                                            | 201k/719k [00:01<00:02, 227kB/s]"
     ]
    },
    {
     "name": "stdout",
     "output_type": "stream",
     "text": [
      "[                                        ] | 0% Completed |  2.2s"
     ]
    },
    {
     "name": "stderr",
     "output_type": "stream",
     "text": [
      "2022-09-23 09:35:53,585 INFO Welcome to the CDS\n",
      "2022-09-23 09:35:53,588 INFO Sending request to https://cds.climate.copernicus.eu/api/v2/resources/seasonal-monthly-single-levels\n"
     ]
    },
    {
     "name": "stdout",
     "output_type": "stream",
     "text": [
      "[                                        ] | 0% Completed |  2.4s"
     ]
    },
    {
     "name": "stderr",
     "output_type": "stream",
     "text": [
      " 60%|███████████████████████████████████████████████████████████████                                           | 428k/719k [00:01<00:00, 429kB/s]"
     ]
    },
    {
     "name": "stdout",
     "output_type": "stream",
     "text": [
      "[                                        ] | 0% Completed |  2.5s"
     ]
    },
    {
     "name": "stderr",
     "output_type": "stream",
     "text": [
      "2022-09-23 09:35:53,869 INFO Download rate 374.9K/s                                                                                              \n",
      "2022-09-23 09:35:53,900 INFO Request is queued\n"
     ]
    },
    {
     "name": "stdout",
     "output_type": "stream",
     "text": [
      "[                                        ] | 0% Completed |  2.8s\n",
      "/media/nicolasf/END19101/ICU/data/CDS/JMA/T2M/ensemble_seas_forecasts_t2m_from_2005_09_JMA.netcdf downloaded OK\n",
      "\n",
      "[####################                    ] | 50% Completed |  3.9s"
     ]
    },
    {
     "name": "stderr",
     "output_type": "stream",
     "text": [
      "2022-09-23 09:35:55,207 INFO Request is failed\n",
      "2022-09-23 09:35:55,209 ERROR Message: no data is available within your requested subset\n",
      "2022-09-23 09:35:55,211 ERROR Reason:  Request returned no data\n",
      "2022-09-23 09:35:55,213 ERROR   Traceback (most recent call last):\n",
      "2022-09-23 09:35:55,217 ERROR     File \"/opt/cdstoolbox/cdscompute/cdscompute/cdshandlers/services/handler.py\", line 59, in handle_request\n",
      "2022-09-23 09:35:55,218 ERROR       result = cached(context.method, proc, context, context.args, context.kwargs)\n",
      "2022-09-23 09:35:55,220 ERROR     File \"/opt/cdstoolbox/cdscompute/cdscompute/caching.py\", line 108, in cached\n",
      "2022-09-23 09:35:55,222 ERROR       result = proc(context, *context.args, **context.kwargs)\n",
      "2022-09-23 09:35:55,223 ERROR     File \"/opt/cdstoolbox/cdscompute/cdscompute/services.py\", line 124, in __call__\n",
      "2022-09-23 09:35:55,225 ERROR       return p(*args, **kwargs)\n",
      "2022-09-23 09:35:55,227 ERROR     File \"/opt/cdstoolbox/cdscompute/cdscompute/services.py\", line 60, in __call__\n",
      "2022-09-23 09:35:55,229 ERROR       return self.proc(context, *args, **kwargs)\n",
      "2022-09-23 09:35:55,230 ERROR     File \"/home/cds/cdsservices/services/mars/mars.py\", line 52, in external\n",
      "2022-09-23 09:35:55,232 ERROR       return mars(context, request, **kwargs)\n",
      "2022-09-23 09:35:55,234 ERROR     File \"/home/cds/cdsservices/services/mars/mars.py\", line 19, in mars\n",
      "2022-09-23 09:35:55,235 ERROR       execute_mars(context, requests)\n",
      "2022-09-23 09:35:55,237 ERROR     File \"/home/cds/cdsservices/services/mars/execute_mars.py\", line 25, in execute_mars\n",
      "2022-09-23 09:35:55,238 ERROR       raise NoDataException(\"Request returned no data\", '')\n",
      "2022-09-23 09:35:55,244 ERROR   cdsinf.exceptions.NoDataException: Request returned no data\n"
     ]
    },
    {
     "name": "stdout",
     "output_type": "stream",
     "text": [
      "\n",
      "failure to download or save /media/nicolasf/END19101/ICU/data/CDS/UKMO/T2M/ensemble_seas_forecasts_t2m_from_2005_09_UKMO.netcdf\n",
      "\n",
      "\n",
      "attempting to download t2m for GCM UKMO, for level surface, year 2005, month 9, in netcdf, attempt 3 of 3\n",
      "\n",
      "[####################                    ] | 50% Completed |  4.2s"
     ]
    },
    {
     "name": "stderr",
     "output_type": "stream",
     "text": [
      "2022-09-23 09:35:55,545 INFO Welcome to the CDS\n",
      "2022-09-23 09:35:55,547 INFO Sending request to https://cds.climate.copernicus.eu/api/v2/resources/seasonal-monthly-single-levels\n"
     ]
    },
    {
     "name": "stdout",
     "output_type": "stream",
     "text": [
      "[####################                    ] | 50% Completed |  4.6s"
     ]
    },
    {
     "name": "stderr",
     "output_type": "stream",
     "text": [
      "2022-09-23 09:35:55,868 INFO Request is queued\n"
     ]
    },
    {
     "name": "stdout",
     "output_type": "stream",
     "text": [
      "[####################                    ] | 50% Completed |  5.8s"
     ]
    },
    {
     "name": "stderr",
     "output_type": "stream",
     "text": [
      "2022-09-23 09:35:57,175 INFO Request is failed\n",
      "2022-09-23 09:35:57,177 ERROR Message: no data is available within your requested subset\n",
      "2022-09-23 09:35:57,179 ERROR Reason:  Request returned no data\n",
      "2022-09-23 09:35:57,181 ERROR   Traceback (most recent call last):\n",
      "2022-09-23 09:35:57,183 ERROR     File \"/opt/cdstoolbox/cdscompute/cdscompute/cdshandlers/services/handler.py\", line 59, in handle_request\n",
      "2022-09-23 09:35:57,186 ERROR       result = cached(context.method, proc, context, context.args, context.kwargs)\n"
     ]
    },
    {
     "name": "stdout",
     "output_type": "stream",
     "text": [
      "[####################                    ] | 50% Completed |  5.9s"
     ]
    },
    {
     "name": "stderr",
     "output_type": "stream",
     "text": [
      "2022-09-23 09:35:57,189 ERROR     File \"/opt/cdstoolbox/cdscompute/cdscompute/caching.py\", line 108, in cached\n",
      "2022-09-23 09:35:57,192 ERROR       result = proc(context, *context.args, **context.kwargs)\n",
      "2022-09-23 09:35:57,195 ERROR     File \"/opt/cdstoolbox/cdscompute/cdscompute/services.py\", line 124, in __call__\n",
      "2022-09-23 09:35:57,197 ERROR       return p(*args, **kwargs)\n",
      "2022-09-23 09:35:57,199 ERROR     File \"/opt/cdstoolbox/cdscompute/cdscompute/services.py\", line 60, in __call__\n",
      "2022-09-23 09:35:57,201 ERROR       return self.proc(context, *args, **kwargs)\n",
      "2022-09-23 09:35:57,203 ERROR     File \"/home/cds/cdsservices/services/mars/mars.py\", line 52, in external\n",
      "2022-09-23 09:35:57,205 ERROR       return mars(context, request, **kwargs)\n",
      "2022-09-23 09:35:57,213 ERROR     File \"/home/cds/cdsservices/services/mars/mars.py\", line 19, in mars\n",
      "2022-09-23 09:35:57,214 ERROR       execute_mars(context, requests)\n",
      "2022-09-23 09:35:57,216 ERROR     File \"/home/cds/cdsservices/services/mars/execute_mars.py\", line 25, in execute_mars\n",
      "2022-09-23 09:35:57,217 ERROR       raise NoDataException(\"Request returned no data\", '')\n",
      "2022-09-23 09:35:57,218 ERROR   cdsinf.exceptions.NoDataException: Request returned no data\n"
     ]
    },
    {
     "name": "stdout",
     "output_type": "stream",
     "text": [
      "\n",
      "failure to download or save /media/nicolasf/END19101/ICU/data/CDS/UKMO/T2M/ensemble_seas_forecasts_t2m_from_2005_09_UKMO.netcdf\n",
      "\n",
      "[########################################] | 100% Completed |  6.0s\n",
      "[                                        ] | 0% Completed |  0.0s\n",
      "attempting to download t2m for GCM JMA, for level surface, year 2006, month 9, in netcdf, attempt 1 of 3\n",
      "\n",
      "attempting to download t2m for GCM UKMO, for level surface, year 2006, month 9, in netcdf, attempt 1 of 3\n",
      "\n",
      "\n",
      "[                                        ] | 0% Completed |  0.2s"
     ]
    },
    {
     "name": "stderr",
     "output_type": "stream",
     "text": [
      "2022-09-23 09:35:57,607 INFO Welcome to the CDS\n"
     ]
    },
    {
     "name": "stdout",
     "output_type": "stream",
     "text": [
      "[                                        ] | 0% Completed |  0.3s"
     ]
    },
    {
     "name": "stderr",
     "output_type": "stream",
     "text": [
      "2022-09-23 09:35:57,609 INFO Sending request to https://cds.climate.copernicus.eu/api/v2/resources/seasonal-monthly-single-levels\n",
      "2022-09-23 09:35:57,613 INFO Welcome to the CDS\n",
      "2022-09-23 09:35:57,616 INFO Sending request to https://cds.climate.copernicus.eu/api/v2/resources/seasonal-monthly-single-levels\n"
     ]
    },
    {
     "name": "stdout",
     "output_type": "stream",
     "text": [
      "[                                        ] | 0% Completed |  0.6s"
     ]
    },
    {
     "name": "stderr",
     "output_type": "stream",
     "text": [
      "2022-09-23 09:35:57,932 INFO Request is queued\n",
      "2022-09-23 09:35:57,966 INFO Request is completed\n",
      "2022-09-23 09:35:57,968 INFO Downloading https://download-0012-clone.copernicus-climate.eu/cache-compute-0012/cache/data1/adaptor.mars.external-1663818449.5936513-32358-4-db9adf37-df3d-42da-bb89-416c7b64bc89.nc to /media/nicolasf/END19101/ICU/data/CDS/JMA/T2M/ensemble_seas_forecasts_t2m_from_2006_09_JMA.netcdf (719.2K)\n"
     ]
    },
    {
     "name": "stdout",
     "output_type": "stream",
     "text": [
      "[                                        ] | 0% Completed |  0.9s"
     ]
    },
    {
     "name": "stderr",
     "output_type": "stream",
     "text": [
      "  0%|                                                                                                                 | 0.00/719k [00:00<?, ?B/s]"
     ]
    },
    {
     "name": "stdout",
     "output_type": "stream",
     "text": [
      "[                                        ] | 0% Completed |  1.2s"
     ]
    },
    {
     "name": "stderr",
     "output_type": "stream",
     "text": [
      "  1%|█▏                                                                                                      | 8.00k/719k [00:00<00:25, 28.3kB/s]"
     ]
    },
    {
     "name": "stdout",
     "output_type": "stream",
     "text": [
      "[                                        ] | 0% Completed |  1.5s"
     ]
    },
    {
     "name": "stderr",
     "output_type": "stream",
     "text": [
      "  5%|████▉                                                                                                   | 34.0k/719k [00:00<00:10, 64.9kB/s]"
     ]
    },
    {
     "name": "stdout",
     "output_type": "stream",
     "text": [
      "[                                        ] | 0% Completed |  1.8s"
     ]
    },
    {
     "name": "stderr",
     "output_type": "stream",
     "text": [
      " 13%|█████████████▊                                                                                           | 95.0k/719k [00:00<00:04, 132kB/s]2022-09-23 09:35:59,240 INFO Request is failed\n"
     ]
    },
    {
     "name": "stdout",
     "output_type": "stream",
     "text": [
      "[                                        ] | 0% Completed |  1.9s"
     ]
    },
    {
     "name": "stderr",
     "output_type": "stream",
     "text": [
      "2022-09-23 09:35:59,243 ERROR Message: no data is available within your requested subset\n",
      "2022-09-23 09:35:59,245 ERROR Reason:  Request returned no data\n",
      "2022-09-23 09:35:59,248 ERROR   Traceback (most recent call last):\n",
      "2022-09-23 09:35:59,250 ERROR     File \"/opt/cdstoolbox/cdscompute/cdscompute/cdshandlers/services/handler.py\", line 59, in handle_request\n",
      "2022-09-23 09:35:59,252 ERROR       result = cached(context.method, proc, context, context.args, context.kwargs)\n",
      "2022-09-23 09:35:59,253 ERROR     File \"/opt/cdstoolbox/cdscompute/cdscompute/caching.py\", line 108, in cached\n",
      "2022-09-23 09:35:59,254 ERROR       result = proc(context, *context.args, **context.kwargs)\n",
      "2022-09-23 09:35:59,255 ERROR     File \"/opt/cdstoolbox/cdscompute/cdscompute/services.py\", line 124, in __call__\n",
      "2022-09-23 09:35:59,256 ERROR       return p(*args, **kwargs)\n",
      "2022-09-23 09:35:59,257 ERROR     File \"/opt/cdstoolbox/cdscompute/cdscompute/services.py\", line 60, in __call__\n",
      "2022-09-23 09:35:59,258 ERROR       return self.proc(context, *args, **kwargs)\n",
      "2022-09-23 09:35:59,259 ERROR     File \"/home/cds/cdsservices/services/mars/mars.py\", line 52, in external\n",
      "2022-09-23 09:35:59,260 ERROR       return mars(context, request, **kwargs)\n",
      "2022-09-23 09:35:59,261 ERROR     File \"/home/cds/cdsservices/services/mars/mars.py\", line 19, in mars\n",
      "2022-09-23 09:35:59,261 ERROR       execute_mars(context, requests)\n",
      "2022-09-23 09:35:59,262 ERROR     File \"/home/cds/cdsservices/services/mars/execute_mars.py\", line 25, in execute_mars\n",
      "2022-09-23 09:35:59,268 ERROR       raise NoDataException(\"Request returned no data\", '')\n",
      "2022-09-23 09:35:59,269 ERROR   cdsinf.exceptions.NoDataException: Request returned no data\n"
     ]
    },
    {
     "name": "stdout",
     "output_type": "stream",
     "text": [
      "\n",
      "failure to download or save /media/nicolasf/END19101/ICU/data/CDS/UKMO/T2M/ensemble_seas_forecasts_t2m_from_2006_09_UKMO.netcdf\n",
      "\n",
      "\n",
      "attempting to download t2m for GCM UKMO, for level surface, year 2006, month 9, in netcdf, attempt 2 of 3\n",
      "\n",
      "[                                        ] | 0% Completed |  2.1s"
     ]
    },
    {
     "name": "stderr",
     "output_type": "stream",
     "text": [
      " 28%|█████████████████████████████▍                                                                            | 200k/719k [00:01<00:02, 224kB/s]"
     ]
    },
    {
     "name": "stdout",
     "output_type": "stream",
     "text": [
      "[                                        ] | 0% Completed |  2.2s"
     ]
    },
    {
     "name": "stderr",
     "output_type": "stream",
     "text": [
      "2022-09-23 09:35:59,570 INFO Welcome to the CDS\n",
      "2022-09-23 09:35:59,573 INFO Sending request to https://cds.climate.copernicus.eu/api/v2/resources/seasonal-monthly-single-levels\n"
     ]
    },
    {
     "name": "stdout",
     "output_type": "stream",
     "text": [
      "[                                        ] | 0% Completed |  2.4s"
     ]
    },
    {
     "name": "stderr",
     "output_type": "stream",
     "text": [
      " 59%|██████████████████████████████████████████████████████████████▍                                           | 424k/719k [00:01<00:00, 423kB/s]"
     ]
    },
    {
     "name": "stdout",
     "output_type": "stream",
     "text": [
      "[                                        ] | 0% Completed |  2.6s"
     ]
    },
    {
     "name": "stderr",
     "output_type": "stream",
     "text": [
      "2022-09-23 09:35:59,885 INFO Download rate 375.7K/s                                                                                              \n",
      "2022-09-23 09:35:59,917 INFO Request is queued\n"
     ]
    },
    {
     "name": "stdout",
     "output_type": "stream",
     "text": [
      "[                                        ] | 0% Completed |  2.9s\n",
      "/media/nicolasf/END19101/ICU/data/CDS/JMA/T2M/ensemble_seas_forecasts_t2m_from_2006_09_JMA.netcdf downloaded OK\n",
      "\n",
      "[####################                    ] | 50% Completed |  3.9s"
     ]
    },
    {
     "name": "stderr",
     "output_type": "stream",
     "text": [
      "2022-09-23 09:36:01,225 INFO Request is failed\n",
      "2022-09-23 09:36:01,227 ERROR Message: no data is available within your requested subset\n",
      "2022-09-23 09:36:01,229 ERROR Reason:  Request returned no data\n",
      "2022-09-23 09:36:01,231 ERROR   Traceback (most recent call last):\n",
      "2022-09-23 09:36:01,234 ERROR     File \"/opt/cdstoolbox/cdscompute/cdscompute/cdshandlers/services/handler.py\", line 59, in handle_request\n",
      "2022-09-23 09:36:01,236 ERROR       result = cached(context.method, proc, context, context.args, context.kwargs)\n",
      "2022-09-23 09:36:01,238 ERROR     File \"/opt/cdstoolbox/cdscompute/cdscompute/caching.py\", line 108, in cached\n",
      "2022-09-23 09:36:01,240 ERROR       result = proc(context, *context.args, **context.kwargs)\n",
      "2022-09-23 09:36:01,242 ERROR     File \"/opt/cdstoolbox/cdscompute/cdscompute/services.py\", line 124, in __call__\n",
      "2022-09-23 09:36:01,245 ERROR       return p(*args, **kwargs)\n",
      "2022-09-23 09:36:01,247 ERROR     File \"/opt/cdstoolbox/cdscompute/cdscompute/services.py\", line 60, in __call__\n",
      "2022-09-23 09:36:01,249 ERROR       return self.proc(context, *args, **kwargs)\n",
      "2022-09-23 09:36:01,252 ERROR     File \"/home/cds/cdsservices/services/mars/mars.py\", line 52, in external\n",
      "2022-09-23 09:36:01,254 ERROR       return mars(context, request, **kwargs)\n",
      "2022-09-23 09:36:01,255 ERROR     File \"/home/cds/cdsservices/services/mars/mars.py\", line 19, in mars\n",
      "2022-09-23 09:36:01,257 ERROR       execute_mars(context, requests)\n",
      "2022-09-23 09:36:01,258 ERROR     File \"/home/cds/cdsservices/services/mars/execute_mars.py\", line 25, in execute_mars\n",
      "2022-09-23 09:36:01,260 ERROR       raise NoDataException(\"Request returned no data\", '')\n",
      "2022-09-23 09:36:01,261 ERROR   cdsinf.exceptions.NoDataException: Request returned no data\n"
     ]
    },
    {
     "name": "stdout",
     "output_type": "stream",
     "text": [
      "\n",
      "failure to download or save /media/nicolasf/END19101/ICU/data/CDS/UKMO/T2M/ensemble_seas_forecasts_t2m_from_2006_09_UKMO.netcdf\n",
      "\n",
      "\n",
      "attempting to download t2m for GCM UKMO, for level surface, year 2006, month 9, in netcdf, attempt 3 of 3\n",
      "\n",
      "[####################                    ] | 50% Completed |  4.2s"
     ]
    },
    {
     "name": "stderr",
     "output_type": "stream",
     "text": [
      "2022-09-23 09:36:01,567 INFO Welcome to the CDS\n",
      "2022-09-23 09:36:01,569 INFO Sending request to https://cds.climate.copernicus.eu/api/v2/resources/seasonal-monthly-single-levels\n"
     ]
    },
    {
     "name": "stdout",
     "output_type": "stream",
     "text": [
      "[####################                    ] | 50% Completed |  4.6s"
     ]
    },
    {
     "name": "stderr",
     "output_type": "stream",
     "text": [
      "2022-09-23 09:36:01,911 INFO Request is queued\n"
     ]
    },
    {
     "name": "stdout",
     "output_type": "stream",
     "text": [
      "[####################                    ] | 50% Completed |  5.9s"
     ]
    },
    {
     "name": "stderr",
     "output_type": "stream",
     "text": [
      "2022-09-23 09:36:03,219 INFO Request is failed\n",
      "2022-09-23 09:36:03,221 ERROR Message: no data is available within your requested subset\n",
      "2022-09-23 09:36:03,224 ERROR Reason:  Request returned no data\n",
      "2022-09-23 09:36:03,226 ERROR   Traceback (most recent call last):\n",
      "2022-09-23 09:36:03,227 ERROR     File \"/opt/cdstoolbox/cdscompute/cdscompute/cdshandlers/services/handler.py\", line 59, in handle_request\n",
      "2022-09-23 09:36:03,229 ERROR       result = cached(context.method, proc, context, context.args, context.kwargs)\n",
      "2022-09-23 09:36:03,230 ERROR     File \"/opt/cdstoolbox/cdscompute/cdscompute/caching.py\", line 108, in cached\n",
      "2022-09-23 09:36:03,232 ERROR       result = proc(context, *context.args, **context.kwargs)\n",
      "2022-09-23 09:36:03,233 ERROR     File \"/opt/cdstoolbox/cdscompute/cdscompute/services.py\", line 124, in __call__\n",
      "2022-09-23 09:36:03,234 ERROR       return p(*args, **kwargs)\n",
      "2022-09-23 09:36:03,235 ERROR     File \"/opt/cdstoolbox/cdscompute/cdscompute/services.py\", line 60, in __call__\n",
      "2022-09-23 09:36:03,236 ERROR       return self.proc(context, *args, **kwargs)\n",
      "2022-09-23 09:36:03,236 ERROR     File \"/home/cds/cdsservices/services/mars/mars.py\", line 52, in external\n",
      "2022-09-23 09:36:03,237 ERROR       return mars(context, request, **kwargs)\n",
      "2022-09-23 09:36:03,237 ERROR     File \"/home/cds/cdsservices/services/mars/mars.py\", line 19, in mars\n",
      "2022-09-23 09:36:03,238 ERROR       execute_mars(context, requests)\n",
      "2022-09-23 09:36:03,239 ERROR     File \"/home/cds/cdsservices/services/mars/execute_mars.py\", line 25, in execute_mars\n",
      "2022-09-23 09:36:03,239 ERROR       raise NoDataException(\"Request returned no data\", '')\n",
      "2022-09-23 09:36:03,240 ERROR   cdsinf.exceptions.NoDataException: Request returned no data\n"
     ]
    },
    {
     "name": "stdout",
     "output_type": "stream",
     "text": [
      "\n",
      "failure to download or save /media/nicolasf/END19101/ICU/data/CDS/UKMO/T2M/ensemble_seas_forecasts_t2m_from_2006_09_UKMO.netcdf\n",
      "\n",
      "[########################################] | 100% Completed |  6.0s\n",
      "[                                        ] | 0% Completed |  0.0s\n",
      "attempting to download t2m for GCM UKMO, for level surface, year 2007, month 9, in netcdf, attempt 1 of 3\n",
      "\n",
      "\n",
      "attempting to download t2m for GCM JMA, for level surface, year 2007, month 9, in netcdf, attempt 1 of 3\n",
      "\n",
      "[                                        ] | 0% Completed |  0.2s"
     ]
    },
    {
     "name": "stderr",
     "output_type": "stream",
     "text": [
      "2022-09-23 09:36:03,620 INFO Welcome to the CDS\n"
     ]
    },
    {
     "name": "stdout",
     "output_type": "stream",
     "text": [
      "[                                        ] | 0% Completed |  0.3s"
     ]
    },
    {
     "name": "stderr",
     "output_type": "stream",
     "text": [
      "2022-09-23 09:36:03,624 INFO Welcome to the CDS\n",
      "2022-09-23 09:36:03,626 INFO Sending request to https://cds.climate.copernicus.eu/api/v2/resources/seasonal-monthly-single-levels\n",
      "2022-09-23 09:36:03,629 INFO Sending request to https://cds.climate.copernicus.eu/api/v2/resources/seasonal-monthly-single-levels\n"
     ]
    },
    {
     "name": "stdout",
     "output_type": "stream",
     "text": [
      "[                                        ] | 0% Completed |  0.6s"
     ]
    },
    {
     "name": "stderr",
     "output_type": "stream",
     "text": [
      "2022-09-23 09:36:03,944 INFO Request is queued\n"
     ]
    },
    {
     "name": "stdout",
     "output_type": "stream",
     "text": [
      "[                                        ] | 0% Completed |  0.7s"
     ]
    },
    {
     "name": "stderr",
     "output_type": "stream",
     "text": [
      "2022-09-23 09:36:04,095 INFO Request is queued\n"
     ]
    },
    {
     "name": "stdout",
     "output_type": "stream",
     "text": [
      "[                                        ] | 0% Completed |  1.8s"
     ]
    },
    {
     "name": "stderr",
     "output_type": "stream",
     "text": [
      "2022-09-23 09:36:05,252 INFO Request is failed\n",
      "2022-09-23 09:36:05,254 ERROR Message: no data is available within your requested subset\n",
      "2022-09-23 09:36:05,256 ERROR Reason:  Request returned no data\n",
      "2022-09-23 09:36:05,258 ERROR   Traceback (most recent call last):\n",
      "2022-09-23 09:36:05,260 ERROR     File \"/opt/cdstoolbox/cdscompute/cdscompute/cdshandlers/services/handler.py\", line 59, in handle_request\n"
     ]
    },
    {
     "name": "stdout",
     "output_type": "stream",
     "text": [
      "[                                        ] | 0% Completed |  1.9s"
     ]
    },
    {
     "name": "stderr",
     "output_type": "stream",
     "text": [
      "2022-09-23 09:36:05,263 ERROR       result = cached(context.method, proc, context, context.args, context.kwargs)\n",
      "2022-09-23 09:36:05,266 ERROR     File \"/opt/cdstoolbox/cdscompute/cdscompute/caching.py\", line 108, in cached\n",
      "2022-09-23 09:36:05,268 ERROR       result = proc(context, *context.args, **context.kwargs)\n",
      "2022-09-23 09:36:05,269 ERROR     File \"/opt/cdstoolbox/cdscompute/cdscompute/services.py\", line 124, in __call__\n",
      "2022-09-23 09:36:05,271 ERROR       return p(*args, **kwargs)\n",
      "2022-09-23 09:36:05,273 ERROR     File \"/opt/cdstoolbox/cdscompute/cdscompute/services.py\", line 60, in __call__\n",
      "2022-09-23 09:36:05,274 ERROR       return self.proc(context, *args, **kwargs)\n",
      "2022-09-23 09:36:05,276 ERROR     File \"/home/cds/cdsservices/services/mars/mars.py\", line 52, in external\n",
      "2022-09-23 09:36:05,278 ERROR       return mars(context, request, **kwargs)\n",
      "2022-09-23 09:36:05,280 ERROR     File \"/home/cds/cdsservices/services/mars/mars.py\", line 19, in mars\n",
      "2022-09-23 09:36:05,281 ERROR       execute_mars(context, requests)\n",
      "2022-09-23 09:36:05,289 ERROR     File \"/home/cds/cdsservices/services/mars/execute_mars.py\", line 25, in execute_mars\n",
      "2022-09-23 09:36:05,291 ERROR       raise NoDataException(\"Request returned no data\", '')\n",
      "2022-09-23 09:36:05,293 ERROR   cdsinf.exceptions.NoDataException: Request returned no data\n"
     ]
    },
    {
     "name": "stdout",
     "output_type": "stream",
     "text": [
      "\n",
      "failure to download or save /media/nicolasf/END19101/ICU/data/CDS/UKMO/T2M/ensemble_seas_forecasts_t2m_from_2007_09_UKMO.netcdf\n",
      "\n",
      "\n",
      "attempting to download t2m for GCM UKMO, for level surface, year 2007, month 9, in netcdf, attempt 2 of 3\n",
      "\n",
      "[                                        ] | 0% Completed |  2.0s"
     ]
    },
    {
     "name": "stderr",
     "output_type": "stream",
     "text": [
      "2022-09-23 09:36:05,402 INFO Request is running\n"
     ]
    },
    {
     "name": "stdout",
     "output_type": "stream",
     "text": [
      "[                                        ] | 0% Completed |  2.3s"
     ]
    },
    {
     "name": "stderr",
     "output_type": "stream",
     "text": [
      "2022-09-23 09:36:05,596 INFO Welcome to the CDS\n",
      "2022-09-23 09:36:05,598 INFO Sending request to https://cds.climate.copernicus.eu/api/v2/resources/seasonal-monthly-single-levels\n"
     ]
    },
    {
     "name": "stdout",
     "output_type": "stream",
     "text": [
      "[                                        ] | 0% Completed |  2.6s"
     ]
    },
    {
     "name": "stderr",
     "output_type": "stream",
     "text": [
      "2022-09-23 09:36:05,909 INFO Request is queued\n"
     ]
    },
    {
     "name": "stdout",
     "output_type": "stream",
     "text": [
      "[                                        ] | 0% Completed |  3.9s"
     ]
    },
    {
     "name": "stderr",
     "output_type": "stream",
     "text": [
      "2022-09-23 09:36:07,211 INFO Request is completed\n",
      "2022-09-23 09:36:07,213 INFO Downloading https://download-0012-clone.copernicus-climate.eu/cache-compute-0012/cache/data1/adaptor.mars.external-1663882565.265166-32234-18-eae5795d-8ba1-4eea-b9b7-2bdf2e81951e.nc to /media/nicolasf/END19101/ICU/data/CDS/JMA/T2M/ensemble_seas_forecasts_t2m_from_2007_09_JMA.netcdf (719.2K)\n",
      "2022-09-23 09:36:07,221 INFO Request is failed\n",
      "2022-09-23 09:36:07,223 ERROR Message: no data is available within your requested subset\n",
      "2022-09-23 09:36:07,225 ERROR Reason:  Request returned no data\n",
      "2022-09-23 09:36:07,226 ERROR   Traceback (most recent call last):\n",
      "2022-09-23 09:36:07,229 ERROR     File \"/opt/cdstoolbox/cdscompute/cdscompute/cdshandlers/services/handler.py\", line 59, in handle_request\n",
      "2022-09-23 09:36:07,230 ERROR       result = cached(context.method, proc, context, context.args, context.kwargs)\n",
      "2022-09-23 09:36:07,232 ERROR     File \"/opt/cdstoolbox/cdscompute/cdscompute/caching.py\", line 108, in cached\n",
      "2022-09-23 09:36:07,234 ERROR       result = proc(context, *context.args, **context.kwargs)\n",
      "2022-09-23 09:36:07,236 ERROR     File \"/opt/cdstoolbox/cdscompute/cdscompute/services.py\", line 124, in __call__\n",
      "2022-09-23 09:36:07,238 ERROR       return p(*args, **kwargs)\n",
      "2022-09-23 09:36:07,240 ERROR     File \"/opt/cdstoolbox/cdscompute/cdscompute/services.py\", line 60, in __call__\n",
      "2022-09-23 09:36:07,241 ERROR       return self.proc(context, *args, **kwargs)\n",
      "2022-09-23 09:36:07,243 ERROR     File \"/home/cds/cdsservices/services/mars/mars.py\", line 52, in external\n",
      "2022-09-23 09:36:07,245 ERROR       return mars(context, request, **kwargs)\n",
      "2022-09-23 09:36:07,246 ERROR     File \"/home/cds/cdsservices/services/mars/mars.py\", line 19, in mars\n",
      "2022-09-23 09:36:07,247 ERROR       execute_mars(context, requests)\n",
      "2022-09-23 09:36:07,249 ERROR     File \"/home/cds/cdsservices/services/mars/execute_mars.py\", line 25, in execute_mars\n",
      "2022-09-23 09:36:07,250 ERROR       raise NoDataException(\"Request returned no data\", '')\n",
      "2022-09-23 09:36:07,251 ERROR   cdsinf.exceptions.NoDataException: Request returned no data\n"
     ]
    },
    {
     "name": "stdout",
     "output_type": "stream",
     "text": [
      "\n",
      "failure to download or save /media/nicolasf/END19101/ICU/data/CDS/UKMO/T2M/ensemble_seas_forecasts_t2m_from_2007_09_UKMO.netcdf\n",
      "\n",
      "\n",
      "attempting to download t2m for GCM UKMO, for level surface, year 2007, month 9, in netcdf, attempt 3 of 3\n",
      "\n",
      "[                                        ] | 0% Completed |  4.2s"
     ]
    },
    {
     "name": "stderr",
     "output_type": "stream",
     "text": [
      "  0%|                                                                                                                 | 0.00/719k [00:00<?, ?B/s]2022-09-23 09:36:07,559 INFO Welcome to the CDS\n",
      "2022-09-23 09:36:07,560 INFO Sending request to https://cds.climate.copernicus.eu/api/v2/resources/seasonal-monthly-single-levels\n"
     ]
    },
    {
     "name": "stdout",
     "output_type": "stream",
     "text": [
      "[                                        ] | 0% Completed |  4.5s"
     ]
    },
    {
     "name": "stderr",
     "output_type": "stream",
     "text": [
      "  1%|█▏                                                                                                      | 8.00k/719k [00:00<00:25, 28.0kB/s]2022-09-23 09:36:07,867 INFO Request is queued\n"
     ]
    },
    {
     "name": "stdout",
     "output_type": "stream",
     "text": [
      "[                                        ] | 0% Completed |  4.8s"
     ]
    },
    {
     "name": "stderr",
     "output_type": "stream",
     "text": [
      "  5%|████▉                                                                                                   | 34.0k/719k [00:00<00:10, 64.6kB/s]"
     ]
    },
    {
     "name": "stdout",
     "output_type": "stream",
     "text": [
      "[                                        ] | 0% Completed |  5.0s"
     ]
    },
    {
     "name": "stderr",
     "output_type": "stream",
     "text": [
      " 13%|█████████████▋                                                                                           | 94.0k/719k [00:00<00:04, 130kB/s]"
     ]
    },
    {
     "name": "stdout",
     "output_type": "stream",
     "text": [
      "[                                        ] | 0% Completed |  5.3s"
     ]
    },
    {
     "name": "stderr",
     "output_type": "stream",
     "text": [
      " 29%|██████████████████████████████▎                                                                           | 206k/719k [00:01<00:02, 232kB/s]"
     ]
    },
    {
     "name": "stdout",
     "output_type": "stream",
     "text": [
      "[                                        ] | 0% Completed |  5.6s"
     ]
    },
    {
     "name": "stderr",
     "output_type": "stream",
     "text": [
      " 60%|███████████████████████████████████████████████████████████████                                           | 428k/719k [00:01<00:00, 426kB/s]"
     ]
    },
    {
     "name": "stdout",
     "output_type": "stream",
     "text": [
      "[                                        ] | 0% Completed |  5.7s"
     ]
    },
    {
     "name": "stderr",
     "output_type": "stream",
     "text": [
      "2022-09-23 09:36:09,116 INFO Download rate 378.6K/s                                                                                              \n"
     ]
    },
    {
     "name": "stdout",
     "output_type": "stream",
     "text": [
      "[                                        ] | 0% Completed |  5.8s"
     ]
    },
    {
     "name": "stderr",
     "output_type": "stream",
     "text": [
      "2022-09-23 09:36:09,173 INFO Request is failed\n",
      "2022-09-23 09:36:09,175 ERROR Message: no data is available within your requested subset\n",
      "2022-09-23 09:36:09,176 ERROR Reason:  Request returned no data\n",
      "2022-09-23 09:36:09,177 ERROR   Traceback (most recent call last):\n",
      "2022-09-23 09:36:09,178 ERROR     File \"/opt/cdstoolbox/cdscompute/cdscompute/cdshandlers/services/handler.py\", line 59, in handle_request\n",
      "2022-09-23 09:36:09,179 ERROR       result = cached(context.method, proc, context, context.args, context.kwargs)\n",
      "2022-09-23 09:36:09,180 ERROR     File \"/opt/cdstoolbox/cdscompute/cdscompute/caching.py\", line 108, in cached\n",
      "2022-09-23 09:36:09,182 ERROR       result = proc(context, *context.args, **context.kwargs)\n",
      "2022-09-23 09:36:09,184 ERROR     File \"/opt/cdstoolbox/cdscompute/cdscompute/services.py\", line 124, in __call__\n",
      "2022-09-23 09:36:09,186 ERROR       return p(*args, **kwargs)\n",
      "2022-09-23 09:36:09,187 ERROR     File \"/opt/cdstoolbox/cdscompute/cdscompute/services.py\", line 60, in __call__\n",
      "2022-09-23 09:36:09,189 ERROR       return self.proc(context, *args, **kwargs)\n",
      "2022-09-23 09:36:09,191 ERROR     File \"/home/cds/cdsservices/services/mars/mars.py\", line 52, in external\n",
      "2022-09-23 09:36:09,193 ERROR       return mars(context, request, **kwargs)\n",
      "2022-09-23 09:36:09,195 ERROR     File \"/home/cds/cdsservices/services/mars/mars.py\", line 19, in mars\n",
      "2022-09-23 09:36:09,197 ERROR       execute_mars(context, requests)\n",
      "2022-09-23 09:36:09,198 ERROR     File \"/home/cds/cdsservices/services/mars/execute_mars.py\", line 25, in execute_mars\n",
      "2022-09-23 09:36:09,200 ERROR       raise NoDataException(\"Request returned no data\", '')\n",
      "2022-09-23 09:36:09,203 ERROR   cdsinf.exceptions.NoDataException: Request returned no data\n"
     ]
    },
    {
     "name": "stdout",
     "output_type": "stream",
     "text": [
      "\n",
      "failure to download or save /media/nicolasf/END19101/ICU/data/CDS/UKMO/T2M/ensemble_seas_forecasts_t2m_from_2007_09_UKMO.netcdf\n",
      "\n",
      "[####################                    ] | 50% Completed |  6.0s\n",
      "/media/nicolasf/END19101/ICU/data/CDS/JMA/T2M/ensemble_seas_forecasts_t2m_from_2007_09_JMA.netcdf downloaded OK\n",
      "\n",
      "[########################################] | 100% Completed |  6.1s\n",
      "[                                        ] | 0% Completed |  0.0s\n",
      "attempting to download t2m for GCM UKMO, for level surface, year 2008, month 9, in netcdf, attempt 1 of 3\n",
      "\n",
      "\n",
      "attempting to download t2m for GCM JMA, for level surface, year 2008, month 9, in netcdf, attempt 1 of 3\n",
      "\n",
      "[                                        ] | 0% Completed |  0.2s"
     ]
    },
    {
     "name": "stderr",
     "output_type": "stream",
     "text": [
      "2022-09-23 09:36:09,744 INFO Welcome to the CDS\n",
      "2022-09-23 09:36:09,746 INFO Sending request to https://cds.climate.copernicus.eu/api/v2/resources/seasonal-monthly-single-levels\n",
      "2022-09-23 09:36:09,753 INFO Welcome to the CDS\n"
     ]
    },
    {
     "name": "stdout",
     "output_type": "stream",
     "text": [
      "[                                        ] | 0% Completed |  0.3s"
     ]
    },
    {
     "name": "stderr",
     "output_type": "stream",
     "text": [
      "2022-09-23 09:36:09,757 INFO Sending request to https://cds.climate.copernicus.eu/api/v2/resources/seasonal-monthly-single-levels\n"
     ]
    },
    {
     "name": "stdout",
     "output_type": "stream",
     "text": [
      "[                                        ] | 0% Completed |  0.6s"
     ]
    },
    {
     "name": "stderr",
     "output_type": "stream",
     "text": [
      "2022-09-23 09:36:10,101 INFO Request is completed\n",
      "2022-09-23 09:36:10,104 INFO Downloading https://download-0002-clone.copernicus-climate.eu/cache-compute-0002/cache/data9/adaptor.mars.external-1663818470.5803761-14408-14-c4d38a00-0c4f-4ca0-b95c-53042f156808.nc to /media/nicolasf/END19101/ICU/data/CDS/JMA/T2M/ensemble_seas_forecasts_t2m_from_2008_09_JMA.netcdf (719.2K)\n",
      "2022-09-23 09:36:10,106 INFO Request is queued\n"
     ]
    },
    {
     "name": "stdout",
     "output_type": "stream",
     "text": [
      "[                                        ] | 0% Completed |  0.9s"
     ]
    },
    {
     "name": "stderr",
     "output_type": "stream",
     "text": [
      "  0%|                                                                                                                 | 0.00/719k [00:00<?, ?B/s]"
     ]
    },
    {
     "name": "stdout",
     "output_type": "stream",
     "text": [
      "[                                        ] | 0% Completed |  1.2s"
     ]
    },
    {
     "name": "stderr",
     "output_type": "stream",
     "text": [
      "  1%|█▏                                                                                                      | 8.00k/719k [00:00<00:25, 28.3kB/s]"
     ]
    },
    {
     "name": "stdout",
     "output_type": "stream",
     "text": [
      "[                                        ] | 0% Completed |  1.5s"
     ]
    },
    {
     "name": "stderr",
     "output_type": "stream",
     "text": [
      "  5%|█████                                                                                                   | 35.0k/719k [00:00<00:10, 67.0kB/s]"
     ]
    },
    {
     "name": "stdout",
     "output_type": "stream",
     "text": [
      "[                                        ] | 0% Completed |  1.9s"
     ]
    },
    {
     "name": "stderr",
     "output_type": "stream",
     "text": [
      " 13%|█████████████▎                                                                                           | 91.0k/719k [00:00<00:05, 125kB/s]"
     ]
    },
    {
     "name": "stdout",
     "output_type": "stream",
     "text": [
      "[                                        ] | 0% Completed |  2.0s"
     ]
    },
    {
     "name": "stderr",
     "output_type": "stream",
     "text": [
      "2022-09-23 09:36:11,423 INFO Request is failed\n",
      "2022-09-23 09:36:11,424 ERROR Message: no data is available within your requested subset\n",
      "2022-09-23 09:36:11,426 ERROR Reason:  Request returned no data\n",
      "2022-09-23 09:36:11,429 ERROR   Traceback (most recent call last):\n",
      "2022-09-23 09:36:11,431 ERROR     File \"/opt/cdstoolbox/cdscompute/cdscompute/cdshandlers/services/handler.py\", line 59, in handle_request\n",
      "2022-09-23 09:36:11,433 ERROR       result = cached(context.method, proc, context, context.args, context.kwargs)\n",
      "2022-09-23 09:36:11,436 ERROR     File \"/opt/cdstoolbox/cdscompute/cdscompute/caching.py\", line 108, in cached\n",
      "2022-09-23 09:36:11,438 ERROR       result = proc(context, *context.args, **context.kwargs)\n",
      "2022-09-23 09:36:11,440 ERROR     File \"/opt/cdstoolbox/cdscompute/cdscompute/services.py\", line 124, in __call__\n",
      "2022-09-23 09:36:11,442 ERROR       return p(*args, **kwargs)\n",
      "2022-09-23 09:36:11,445 ERROR     File \"/opt/cdstoolbox/cdscompute/cdscompute/services.py\", line 60, in __call__\n",
      "2022-09-23 09:36:11,447 ERROR       return self.proc(context, *args, **kwargs)\n",
      "2022-09-23 09:36:11,449 ERROR     File \"/home/cds/cdsservices/services/mars/mars.py\", line 52, in external\n",
      "2022-09-23 09:36:11,451 ERROR       return mars(context, request, **kwargs)\n",
      "2022-09-23 09:36:11,453 ERROR     File \"/home/cds/cdsservices/services/mars/mars.py\", line 19, in mars\n",
      "2022-09-23 09:36:11,455 ERROR       execute_mars(context, requests)\n",
      "2022-09-23 09:36:11,456 ERROR     File \"/home/cds/cdsservices/services/mars/execute_mars.py\", line 25, in execute_mars\n",
      "2022-09-23 09:36:11,458 ERROR       raise NoDataException(\"Request returned no data\", '')\n",
      "2022-09-23 09:36:11,459 ERROR   cdsinf.exceptions.NoDataException: Request returned no data\n"
     ]
    },
    {
     "name": "stdout",
     "output_type": "stream",
     "text": [
      "\n",
      "failure to download or save /media/nicolasf/END19101/ICU/data/CDS/UKMO/T2M/ensemble_seas_forecasts_t2m_from_2008_09_UKMO.netcdf\n",
      "\n",
      "\n",
      "attempting to download t2m for GCM UKMO, for level surface, year 2008, month 9, in netcdf, attempt 2 of 3\n",
      "\n",
      "[                                        ] | 0% Completed |  2.2s"
     ]
    },
    {
     "name": "stderr",
     "output_type": "stream",
     "text": [
      " 28%|█████████████████████████████▉                                                                            | 203k/719k [00:01<00:02, 230kB/s]"
     ]
    },
    {
     "name": "stdout",
     "output_type": "stream",
     "text": [
      "[                                        ] | 0% Completed |  2.3s"
     ]
    },
    {
     "name": "stderr",
     "output_type": "stream",
     "text": [
      "2022-09-23 09:36:11,765 INFO Welcome to the CDS\n",
      "2022-09-23 09:36:11,767 INFO Sending request to https://cds.climate.copernicus.eu/api/v2/resources/seasonal-monthly-single-levels\n"
     ]
    },
    {
     "name": "stdout",
     "output_type": "stream",
     "text": [
      "[                                        ] | 0% Completed |  2.5s"
     ]
    },
    {
     "name": "stderr",
     "output_type": "stream",
     "text": [
      " 59%|██████████████████████████████████████████████████████████████▎                                           | 423k/719k [00:01<00:00, 422kB/s]"
     ]
    },
    {
     "name": "stdout",
     "output_type": "stream",
     "text": [
      "[                                        ] | 0% Completed |  2.6s"
     ]
    },
    {
     "name": "stderr",
     "output_type": "stream",
     "text": [
      "2022-09-23 09:36:12,033 INFO Download rate 373.7K/s                                                                                              \n",
      "2022-09-23 09:36:12,078 INFO Request is queued\n"
     ]
    },
    {
     "name": "stdout",
     "output_type": "stream",
     "text": [
      "[                                        ] | 0% Completed |  2.9s\n",
      "/media/nicolasf/END19101/ICU/data/CDS/JMA/T2M/ensemble_seas_forecasts_t2m_from_2008_09_JMA.netcdf downloaded OK\n",
      "\n",
      "[####################                    ] | 50% Completed |  3.9s"
     ]
    },
    {
     "name": "stderr",
     "output_type": "stream",
     "text": [
      "2022-09-23 09:36:13,384 INFO Request is failed\n",
      "2022-09-23 09:36:13,386 ERROR Message: no data is available within your requested subset\n",
      "2022-09-23 09:36:13,388 ERROR Reason:  Request returned no data\n",
      "2022-09-23 09:36:13,390 ERROR   Traceback (most recent call last):\n",
      "2022-09-23 09:36:13,392 ERROR     File \"/opt/cdstoolbox/cdscompute/cdscompute/cdshandlers/services/handler.py\", line 59, in handle_request\n",
      "2022-09-23 09:36:13,394 ERROR       result = cached(context.method, proc, context, context.args, context.kwargs)\n",
      "2022-09-23 09:36:13,396 ERROR     File \"/opt/cdstoolbox/cdscompute/cdscompute/caching.py\", line 108, in cached\n",
      "2022-09-23 09:36:13,398 ERROR       result = proc(context, *context.args, **context.kwargs)\n",
      "2022-09-23 09:36:13,400 ERROR     File \"/opt/cdstoolbox/cdscompute/cdscompute/services.py\", line 124, in __call__\n",
      "2022-09-23 09:36:13,401 ERROR       return p(*args, **kwargs)\n",
      "2022-09-23 09:36:13,403 ERROR     File \"/opt/cdstoolbox/cdscompute/cdscompute/services.py\", line 60, in __call__\n",
      "2022-09-23 09:36:13,405 ERROR       return self.proc(context, *args, **kwargs)\n",
      "2022-09-23 09:36:13,407 ERROR     File \"/home/cds/cdsservices/services/mars/mars.py\", line 52, in external\n",
      "2022-09-23 09:36:13,409 ERROR       return mars(context, request, **kwargs)\n",
      "2022-09-23 09:36:13,410 ERROR     File \"/home/cds/cdsservices/services/mars/mars.py\", line 19, in mars\n",
      "2022-09-23 09:36:13,415 ERROR       execute_mars(context, requests)\n",
      "2022-09-23 09:36:13,416 ERROR     File \"/home/cds/cdsservices/services/mars/execute_mars.py\", line 25, in execute_mars\n",
      "2022-09-23 09:36:13,417 ERROR       raise NoDataException(\"Request returned no data\", '')\n",
      "2022-09-23 09:36:13,418 ERROR   cdsinf.exceptions.NoDataException: Request returned no data\n"
     ]
    },
    {
     "name": "stdout",
     "output_type": "stream",
     "text": [
      "\n",
      "failure to download or save /media/nicolasf/END19101/ICU/data/CDS/UKMO/T2M/ensemble_seas_forecasts_t2m_from_2008_09_UKMO.netcdf\n",
      "\n",
      "\n",
      "attempting to download t2m for GCM UKMO, for level surface, year 2008, month 9, in netcdf, attempt 3 of 3\n",
      "\n",
      "[####################                    ] | 50% Completed |  4.2s"
     ]
    },
    {
     "name": "stderr",
     "output_type": "stream",
     "text": [
      "2022-09-23 09:36:13,720 INFO Welcome to the CDS\n",
      "2022-09-23 09:36:13,722 INFO Sending request to https://cds.climate.copernicus.eu/api/v2/resources/seasonal-monthly-single-levels\n"
     ]
    },
    {
     "name": "stdout",
     "output_type": "stream",
     "text": [
      "[####################                    ] | 50% Completed |  4.6s"
     ]
    },
    {
     "name": "stderr",
     "output_type": "stream",
     "text": [
      "2022-09-23 09:36:14,041 INFO Request is queued\n"
     ]
    },
    {
     "name": "stdout",
     "output_type": "stream",
     "text": [
      "[####################                    ] | 50% Completed |  5.8s"
     ]
    },
    {
     "name": "stderr",
     "output_type": "stream",
     "text": [
      "2022-09-23 09:36:15,348 INFO Request is failed\n",
      "2022-09-23 09:36:15,351 ERROR Message: no data is available within your requested subset\n",
      "2022-09-23 09:36:15,352 ERROR Reason:  Request returned no data\n",
      "2022-09-23 09:36:15,354 ERROR   Traceback (most recent call last):\n",
      "2022-09-23 09:36:15,356 ERROR     File \"/opt/cdstoolbox/cdscompute/cdscompute/cdshandlers/services/handler.py\", line 59, in handle_request\n",
      "2022-09-23 09:36:15,358 ERROR       result = cached(context.method, proc, context, context.args, context.kwargs)\n",
      "2022-09-23 09:36:15,360 ERROR     File \"/opt/cdstoolbox/cdscompute/cdscompute/caching.py\", line 108, in cached\n",
      "2022-09-23 09:36:15,362 ERROR       result = proc(context, *context.args, **context.kwargs)\n"
     ]
    },
    {
     "name": "stdout",
     "output_type": "stream",
     "text": [
      "[####################                    ] | 50% Completed |  5.9s"
     ]
    },
    {
     "name": "stderr",
     "output_type": "stream",
     "text": [
      "2022-09-23 09:36:15,364 ERROR     File \"/opt/cdstoolbox/cdscompute/cdscompute/services.py\", line 124, in __call__\n",
      "2022-09-23 09:36:15,367 ERROR       return p(*args, **kwargs)\n",
      "2022-09-23 09:36:15,369 ERROR     File \"/opt/cdstoolbox/cdscompute/cdscompute/services.py\", line 60, in __call__\n",
      "2022-09-23 09:36:15,371 ERROR       return self.proc(context, *args, **kwargs)\n",
      "2022-09-23 09:36:15,372 ERROR     File \"/home/cds/cdsservices/services/mars/mars.py\", line 52, in external\n",
      "2022-09-23 09:36:15,374 ERROR       return mars(context, request, **kwargs)\n",
      "2022-09-23 09:36:15,376 ERROR     File \"/home/cds/cdsservices/services/mars/mars.py\", line 19, in mars\n",
      "2022-09-23 09:36:15,377 ERROR       execute_mars(context, requests)\n",
      "2022-09-23 09:36:15,379 ERROR     File \"/home/cds/cdsservices/services/mars/execute_mars.py\", line 25, in execute_mars\n",
      "2022-09-23 09:36:15,380 ERROR       raise NoDataException(\"Request returned no data\", '')\n",
      "2022-09-23 09:36:15,382 ERROR   cdsinf.exceptions.NoDataException: Request returned no data\n"
     ]
    },
    {
     "name": "stdout",
     "output_type": "stream",
     "text": [
      "\n",
      "failure to download or save /media/nicolasf/END19101/ICU/data/CDS/UKMO/T2M/ensemble_seas_forecasts_t2m_from_2008_09_UKMO.netcdf\n",
      "\n",
      "[########################################] | 100% Completed |  6.0s\n",
      "[                                        ] | 0% Completed |  0.0s\n",
      "attempting to download t2m for GCM UKMO, for level surface, year 2009, month 9, in netcdf, attempt 1 of 3\n",
      "\n",
      "\n",
      "attempting to download t2m for GCM JMA, for level surface, year 2009, month 9, in netcdf, attempt 1 of 3\n",
      "\n",
      "[                                        ] | 0% Completed |  0.2s"
     ]
    },
    {
     "name": "stderr",
     "output_type": "stream",
     "text": [
      "2022-09-23 09:36:15,771 INFO Welcome to the CDS\n",
      "2022-09-23 09:36:15,772 INFO Sending request to https://cds.climate.copernicus.eu/api/v2/resources/seasonal-monthly-single-levels\n",
      "2022-09-23 09:36:15,775 INFO Welcome to the CDS\n"
     ]
    },
    {
     "name": "stdout",
     "output_type": "stream",
     "text": [
      "[                                        ] | 0% Completed |  0.3s"
     ]
    },
    {
     "name": "stderr",
     "output_type": "stream",
     "text": [
      "2022-09-23 09:36:15,775 INFO Sending request to https://cds.climate.copernicus.eu/api/v2/resources/seasonal-monthly-single-levels\n"
     ]
    },
    {
     "name": "stdout",
     "output_type": "stream",
     "text": [
      "[                                        ] | 0% Completed |  0.6s"
     ]
    },
    {
     "name": "stderr",
     "output_type": "stream",
     "text": [
      "2022-09-23 09:36:16,111 INFO Request is queued\n"
     ]
    },
    {
     "name": "stdout",
     "output_type": "stream",
     "text": [
      "[                                        ] | 0% Completed |  0.7s"
     ]
    },
    {
     "name": "stderr",
     "output_type": "stream",
     "text": [
      "2022-09-23 09:36:16,198 INFO Request is completed\n",
      "2022-09-23 09:36:16,200 INFO Downloading https://download-0001-clone.copernicus-climate.eu/cache-compute-0001/cache/data0/adaptor.mars.external-1663818483.457769-10516-4-b1e10b82-bb47-40e2-ba40-88cbe91aaae7.nc to /media/nicolasf/END19101/ICU/data/CDS/JMA/T2M/ensemble_seas_forecasts_t2m_from_2009_09_JMA.netcdf (719.2K)\n"
     ]
    },
    {
     "name": "stdout",
     "output_type": "stream",
     "text": [
      "[                                        ] | 0% Completed |  1.0s"
     ]
    },
    {
     "name": "stderr",
     "output_type": "stream",
     "text": [
      "  0%|                                                                                                                 | 0.00/719k [00:00<?, ?B/s]"
     ]
    },
    {
     "name": "stdout",
     "output_type": "stream",
     "text": [
      "[                                        ] | 0% Completed |  1.3s"
     ]
    },
    {
     "name": "stderr",
     "output_type": "stream",
     "text": [
      "  1%|█▏                                                                                                      | 8.00k/719k [00:00<00:26, 27.9kB/s]"
     ]
    },
    {
     "name": "stdout",
     "output_type": "stream",
     "text": [
      "[                                        ] | 0% Completed |  1.6s"
     ]
    },
    {
     "name": "stderr",
     "output_type": "stream",
     "text": [
      "  5%|████▉                                                                                                   | 34.0k/719k [00:00<00:10, 64.6kB/s]"
     ]
    },
    {
     "name": "stdout",
     "output_type": "stream",
     "text": [
      "[                                        ] | 0% Completed |  1.9s"
     ]
    },
    {
     "name": "stderr",
     "output_type": "stream",
     "text": [
      "2022-09-23 09:36:17,419 INFO Request is failed\n",
      "2022-09-23 09:36:17,421 ERROR Message: no data is available within your requested subset\n",
      "2022-09-23 09:36:17,422 ERROR Reason:  Request returned no data\n",
      "2022-09-23 09:36:17,424 ERROR   Traceback (most recent call last):\n",
      "2022-09-23 09:36:17,426 ERROR     File \"/opt/cdstoolbox/cdscompute/cdscompute/cdshandlers/services/handler.py\", line 59, in handle_request\n",
      "2022-09-23 09:36:17,428 ERROR       result = cached(context.method, proc, context, context.args, context.kwargs)\n",
      "2022-09-23 09:36:17,430 ERROR     File \"/opt/cdstoolbox/cdscompute/cdscompute/caching.py\", line 108, in cached\n",
      "2022-09-23 09:36:17,432 ERROR       result = proc(context, *context.args, **context.kwargs)\n",
      " 13%|█████████████▍                                                                                           | 92.0k/719k [00:00<00:05, 126kB/s]2022-09-23 09:36:17,438 ERROR     File \"/opt/cdstoolbox/cdscompute/cdscompute/services.py\", line 124, in __call__\n",
      "2022-09-23 09:36:17,441 ERROR       return p(*args, **kwargs)\n",
      "2022-09-23 09:36:17,446 ERROR     File \"/opt/cdstoolbox/cdscompute/cdscompute/services.py\", line 60, in __call__\n",
      "2022-09-23 09:36:17,448 ERROR       return self.proc(context, *args, **kwargs)\n",
      "2022-09-23 09:36:17,450 ERROR     File \"/home/cds/cdsservices/services/mars/mars.py\", line 52, in external\n",
      "2022-09-23 09:36:17,451 ERROR       return mars(context, request, **kwargs)\n",
      "2022-09-23 09:36:17,452 ERROR     File \"/home/cds/cdsservices/services/mars/mars.py\", line 19, in mars\n",
      "2022-09-23 09:36:17,452 ERROR       execute_mars(context, requests)\n",
      "2022-09-23 09:36:17,453 ERROR     File \"/home/cds/cdsservices/services/mars/execute_mars.py\", line 25, in execute_mars\n",
      "2022-09-23 09:36:17,453 ERROR       raise NoDataException(\"Request returned no data\", '')\n",
      "2022-09-23 09:36:17,454 ERROR   cdsinf.exceptions.NoDataException: Request returned no data\n"
     ]
    },
    {
     "name": "stdout",
     "output_type": "stream",
     "text": [
      "\n",
      "failure to download or save /media/nicolasf/END19101/ICU/data/CDS/UKMO/T2M/ensemble_seas_forecasts_t2m_from_2009_09_UKMO.netcdf\n",
      "\n",
      "\n",
      "attempting to download t2m for GCM UKMO, for level surface, year 2009, month 9, in netcdf, attempt 2 of 3\n",
      "\n",
      "[                                        ] | 0% Completed |  2.2s"
     ]
    },
    {
     "name": "stderr",
     "output_type": "stream",
     "text": [
      " 28%|█████████████████████████████▍                                                                            | 200k/719k [00:01<00:02, 225kB/s]2022-09-23 09:36:17,755 INFO Welcome to the CDS\n",
      "2022-09-23 09:36:17,757 INFO Sending request to https://cds.climate.copernicus.eu/api/v2/resources/seasonal-monthly-single-levels\n"
     ]
    },
    {
     "name": "stdout",
     "output_type": "stream",
     "text": [
      "[                                        ] | 0% Completed |  2.5s"
     ]
    },
    {
     "name": "stderr",
     "output_type": "stream",
     "text": [
      " 59%|██████████████████████████████████████████████████████████████▊                                           | 426k/719k [00:01<00:00, 427kB/s]2022-09-23 09:36:18,099 INFO Request is queued\n"
     ]
    },
    {
     "name": "stdout",
     "output_type": "stream",
     "text": [
      "[                                        ] | 0% Completed |  2.6s"
     ]
    },
    {
     "name": "stderr",
     "output_type": "stream",
     "text": [
      "2022-09-23 09:36:18,145 INFO Download rate 370.1K/s                                                                                              \n"
     ]
    },
    {
     "name": "stdout",
     "output_type": "stream",
     "text": [
      "[                                        ] | 0% Completed |  3.0s\n",
      "/media/nicolasf/END19101/ICU/data/CDS/JMA/T2M/ensemble_seas_forecasts_t2m_from_2009_09_JMA.netcdf downloaded OK\n",
      "\n",
      "[####################                    ] | 50% Completed |  3.9s"
     ]
    },
    {
     "name": "stderr",
     "output_type": "stream",
     "text": [
      "2022-09-23 09:36:19,407 INFO Request is failed\n",
      "2022-09-23 09:36:19,409 ERROR Message: no data is available within your requested subset\n",
      "2022-09-23 09:36:19,410 ERROR Reason:  Request returned no data\n",
      "2022-09-23 09:36:19,412 ERROR   Traceback (most recent call last):\n",
      "2022-09-23 09:36:19,414 ERROR     File \"/opt/cdstoolbox/cdscompute/cdscompute/cdshandlers/services/handler.py\", line 59, in handle_request\n",
      "2022-09-23 09:36:19,418 ERROR       result = cached(context.method, proc, context, context.args, context.kwargs)\n",
      "2022-09-23 09:36:19,420 ERROR     File \"/opt/cdstoolbox/cdscompute/cdscompute/caching.py\", line 108, in cached\n",
      "2022-09-23 09:36:19,421 ERROR       result = proc(context, *context.args, **context.kwargs)\n",
      "2022-09-23 09:36:19,423 ERROR     File \"/opt/cdstoolbox/cdscompute/cdscompute/services.py\", line 124, in __call__\n",
      "2022-09-23 09:36:19,425 ERROR       return p(*args, **kwargs)\n",
      "2022-09-23 09:36:19,429 ERROR     File \"/opt/cdstoolbox/cdscompute/cdscompute/services.py\", line 60, in __call__\n",
      "2022-09-23 09:36:19,431 ERROR       return self.proc(context, *args, **kwargs)\n",
      "2022-09-23 09:36:19,433 ERROR     File \"/home/cds/cdsservices/services/mars/mars.py\", line 52, in external\n",
      "2022-09-23 09:36:19,434 ERROR       return mars(context, request, **kwargs)\n",
      "2022-09-23 09:36:19,436 ERROR     File \"/home/cds/cdsservices/services/mars/mars.py\", line 19, in mars\n",
      "2022-09-23 09:36:19,438 ERROR       execute_mars(context, requests)\n",
      "2022-09-23 09:36:19,440 ERROR     File \"/home/cds/cdsservices/services/mars/execute_mars.py\", line 25, in execute_mars\n",
      "2022-09-23 09:36:19,441 ERROR       raise NoDataException(\"Request returned no data\", '')\n",
      "2022-09-23 09:36:19,442 ERROR   cdsinf.exceptions.NoDataException: Request returned no data\n"
     ]
    },
    {
     "name": "stdout",
     "output_type": "stream",
     "text": [
      "\n",
      "failure to download or save /media/nicolasf/END19101/ICU/data/CDS/UKMO/T2M/ensemble_seas_forecasts_t2m_from_2009_09_UKMO.netcdf\n",
      "\n",
      "\n",
      "attempting to download t2m for GCM UKMO, for level surface, year 2009, month 9, in netcdf, attempt 3 of 3\n",
      "\n",
      "[####################                    ] | 50% Completed |  4.2s"
     ]
    },
    {
     "name": "stderr",
     "output_type": "stream",
     "text": [
      "2022-09-23 09:36:19,747 INFO Welcome to the CDS\n",
      "2022-09-23 09:36:19,749 INFO Sending request to https://cds.climate.copernicus.eu/api/v2/resources/seasonal-monthly-single-levels\n"
     ]
    },
    {
     "name": "stdout",
     "output_type": "stream",
     "text": [
      "[####################                    ] | 50% Completed |  4.5s"
     ]
    },
    {
     "name": "stderr",
     "output_type": "stream",
     "text": [
      "2022-09-23 09:36:20,061 INFO Request is queued\n"
     ]
    },
    {
     "name": "stdout",
     "output_type": "stream",
     "text": [
      "[####################                    ] | 50% Completed |  5.8s"
     ]
    },
    {
     "name": "stderr",
     "output_type": "stream",
     "text": [
      "2022-09-23 09:36:21,369 INFO Request is failed\n",
      "2022-09-23 09:36:21,371 ERROR Message: no data is available within your requested subset\n",
      "2022-09-23 09:36:21,372 ERROR Reason:  Request returned no data\n",
      "2022-09-23 09:36:21,374 ERROR   Traceback (most recent call last):\n",
      "2022-09-23 09:36:21,376 ERROR     File \"/opt/cdstoolbox/cdscompute/cdscompute/cdshandlers/services/handler.py\", line 59, in handle_request\n",
      "2022-09-23 09:36:21,377 ERROR       result = cached(context.method, proc, context, context.args, context.kwargs)\n",
      "2022-09-23 09:36:21,379 ERROR     File \"/opt/cdstoolbox/cdscompute/cdscompute/caching.py\", line 108, in cached\n",
      "2022-09-23 09:36:21,381 ERROR       result = proc(context, *context.args, **context.kwargs)\n",
      "2022-09-23 09:36:21,383 ERROR     File \"/opt/cdstoolbox/cdscompute/cdscompute/services.py\", line 124, in __call__\n",
      "2022-09-23 09:36:21,384 ERROR       return p(*args, **kwargs)\n",
      "2022-09-23 09:36:21,386 ERROR     File \"/opt/cdstoolbox/cdscompute/cdscompute/services.py\", line 60, in __call__\n",
      "2022-09-23 09:36:21,388 ERROR       return self.proc(context, *args, **kwargs)\n"
     ]
    },
    {
     "name": "stdout",
     "output_type": "stream",
     "text": [
      "[####################                    ] | 50% Completed |  5.9s"
     ]
    },
    {
     "name": "stderr",
     "output_type": "stream",
     "text": [
      "2022-09-23 09:36:21,397 ERROR     File \"/home/cds/cdsservices/services/mars/mars.py\", line 52, in external\n",
      "2022-09-23 09:36:21,398 ERROR       return mars(context, request, **kwargs)\n",
      "2022-09-23 09:36:21,400 ERROR     File \"/home/cds/cdsservices/services/mars/mars.py\", line 19, in mars\n",
      "2022-09-23 09:36:21,401 ERROR       execute_mars(context, requests)\n",
      "2022-09-23 09:36:21,402 ERROR     File \"/home/cds/cdsservices/services/mars/execute_mars.py\", line 25, in execute_mars\n",
      "2022-09-23 09:36:21,404 ERROR       raise NoDataException(\"Request returned no data\", '')\n",
      "2022-09-23 09:36:21,405 ERROR   cdsinf.exceptions.NoDataException: Request returned no data\n"
     ]
    },
    {
     "name": "stdout",
     "output_type": "stream",
     "text": [
      "\n",
      "failure to download or save /media/nicolasf/END19101/ICU/data/CDS/UKMO/T2M/ensemble_seas_forecasts_t2m_from_2009_09_UKMO.netcdf\n",
      "\n",
      "[########################################] | 100% Completed |  6.0s\n",
      "[                                        ] | 0% Completed |  0.0s\n",
      "attempting to download t2m for GCM UKMO, for level surface, year 2010, month 9, in netcdf, attempt 1 of 3\n",
      "\n",
      "\n",
      "attempting to download t2m for GCM JMA, for level surface, year 2010, month 9, in netcdf, attempt 1 of 3\n",
      "\n",
      "[                                        ] | 0% Completed |  0.3s"
     ]
    },
    {
     "name": "stderr",
     "output_type": "stream",
     "text": [
      "2022-09-23 09:36:21,813 INFO Welcome to the CDS\n",
      "2022-09-23 09:36:21,815 INFO Sending request to https://cds.climate.copernicus.eu/api/v2/resources/seasonal-monthly-single-levels\n",
      "2022-09-23 09:36:21,816 INFO Welcome to the CDS\n",
      "2022-09-23 09:36:21,827 INFO Sending request to https://cds.climate.copernicus.eu/api/v2/resources/seasonal-monthly-single-levels\n"
     ]
    },
    {
     "name": "stdout",
     "output_type": "stream",
     "text": [
      "[                                        ] | 0% Completed |  0.6s"
     ]
    },
    {
     "name": "stderr",
     "output_type": "stream",
     "text": [
      "2022-09-23 09:36:22,135 INFO Request is queued\n"
     ]
    },
    {
     "name": "stdout",
     "output_type": "stream",
     "text": [
      "[                                        ] | 0% Completed |  0.8s"
     ]
    },
    {
     "name": "stderr",
     "output_type": "stream",
     "text": [
      "2022-09-23 09:36:22,396 INFO Request is completed\n",
      "2022-09-23 09:36:22,398 INFO Downloading https://download-0014-clone.copernicus-climate.eu/cache-compute-0014/cache/data9/adaptor.mars.external-1663818494.0391555-2900-8-be04e9a5-565f-44d6-9e2f-b0752c675be0.nc to /media/nicolasf/END19101/ICU/data/CDS/JMA/T2M/ensemble_seas_forecasts_t2m_from_2010_09_JMA.netcdf (719.2K)\n"
     ]
    },
    {
     "name": "stdout",
     "output_type": "stream",
     "text": [
      "[                                        ] | 0% Completed |  1.8s"
     ]
    },
    {
     "name": "stderr",
     "output_type": "stream",
     "text": [
      "2022-09-23 09:36:23,440 INFO Request is failed\n"
     ]
    },
    {
     "name": "stdout",
     "output_type": "stream",
     "text": [
      "[                                        ] | 0% Completed |  1.9s"
     ]
    },
    {
     "name": "stderr",
     "output_type": "stream",
     "text": [
      "2022-09-23 09:36:23,444 ERROR Message: no data is available within your requested subset\n",
      "2022-09-23 09:36:23,445 ERROR Reason:  Request returned no data\n",
      "2022-09-23 09:36:23,447 ERROR   Traceback (most recent call last):\n",
      "2022-09-23 09:36:23,449 ERROR     File \"/opt/cdstoolbox/cdscompute/cdscompute/cdshandlers/services/handler.py\", line 59, in handle_request\n",
      "2022-09-23 09:36:23,451 ERROR       result = cached(context.method, proc, context, context.args, context.kwargs)\n",
      "2022-09-23 09:36:23,453 ERROR     File \"/opt/cdstoolbox/cdscompute/cdscompute/caching.py\", line 108, in cached\n",
      "2022-09-23 09:36:23,455 ERROR       result = proc(context, *context.args, **context.kwargs)\n",
      "2022-09-23 09:36:23,461 ERROR     File \"/opt/cdstoolbox/cdscompute/cdscompute/services.py\", line 124, in __call__\n",
      "2022-09-23 09:36:23,463 ERROR       return p(*args, **kwargs)\n",
      "2022-09-23 09:36:23,464 ERROR     File \"/opt/cdstoolbox/cdscompute/cdscompute/services.py\", line 60, in __call__\n",
      "2022-09-23 09:36:23,466 ERROR       return self.proc(context, *args, **kwargs)\n",
      "2022-09-23 09:36:23,468 ERROR     File \"/home/cds/cdsservices/services/mars/mars.py\", line 52, in external\n",
      "2022-09-23 09:36:23,469 ERROR       return mars(context, request, **kwargs)\n",
      "2022-09-23 09:36:23,471 ERROR     File \"/home/cds/cdsservices/services/mars/mars.py\", line 19, in mars\n",
      "2022-09-23 09:36:23,473 ERROR       execute_mars(context, requests)\n",
      "2022-09-23 09:36:23,474 ERROR     File \"/home/cds/cdsservices/services/mars/execute_mars.py\", line 25, in execute_mars\n",
      "2022-09-23 09:36:23,475 ERROR       raise NoDataException(\"Request returned no data\", '')\n",
      "2022-09-23 09:36:23,476 ERROR   cdsinf.exceptions.NoDataException: Request returned no data\n"
     ]
    },
    {
     "name": "stdout",
     "output_type": "stream",
     "text": [
      "\n",
      "failure to download or save /media/nicolasf/END19101/ICU/data/CDS/UKMO/T2M/ensemble_seas_forecasts_t2m_from_2010_09_UKMO.netcdf\n",
      "\n",
      "\n",
      "attempting to download t2m for GCM UKMO, for level surface, year 2010, month 9, in netcdf, attempt 2 of 3\n",
      "\n",
      "[                                        ] | 0% Completed |  2.2s"
     ]
    },
    {
     "name": "stderr",
     "output_type": "stream",
     "text": [
      "2022-09-23 09:36:23,780 INFO Welcome to the CDS\n",
      "2022-09-23 09:36:23,782 INFO Sending request to https://cds.climate.copernicus.eu/api/v2/resources/seasonal-monthly-single-levels\n"
     ]
    },
    {
     "name": "stdout",
     "output_type": "stream",
     "text": [
      "[                                        ] | 0% Completed |  2.6s"
     ]
    },
    {
     "name": "stderr",
     "output_type": "stream",
     "text": [
      "2022-09-23 09:36:24,109 INFO Request is queued\n"
     ]
    },
    {
     "name": "stdout",
     "output_type": "stream",
     "text": [
      "[                                        ] | 0% Completed |  2.9s"
     ]
    },
    {
     "name": "stderr",
     "output_type": "stream",
     "text": [
      "  0%|                                                                                                                 | 0.00/719k [00:00<?, ?B/s]"
     ]
    },
    {
     "name": "stdout",
     "output_type": "stream",
     "text": [
      "[                                        ] | 0% Completed |  3.1s"
     ]
    },
    {
     "name": "stderr",
     "output_type": "stream",
     "text": [
      "  2%|██▎                                                                                                     | 16.0k/719k [00:00<00:12, 55.7kB/s]"
     ]
    },
    {
     "name": "stdout",
     "output_type": "stream",
     "text": [
      "[                                        ] | 0% Completed |  3.4s"
     ]
    },
    {
     "name": "stderr",
     "output_type": "stream",
     "text": [
      "  8%|████████▍                                                                                                | 58.0k/719k [00:00<00:06, 109kB/s]"
     ]
    },
    {
     "name": "stdout",
     "output_type": "stream",
     "text": [
      "[                                        ] | 0% Completed |  3.7s"
     ]
    },
    {
     "name": "stderr",
     "output_type": "stream",
     "text": [
      " 13%|█████████████▏                                                                                           | 90.0k/719k [00:00<00:05, 109kB/s]"
     ]
    },
    {
     "name": "stdout",
     "output_type": "stream",
     "text": [
      "[                                        ] | 0% Completed |  3.9s"
     ]
    },
    {
     "name": "stderr",
     "output_type": "stream",
     "text": [
      "2022-09-23 09:36:25,415 INFO Request is failed\n",
      "2022-09-23 09:36:25,417 ERROR Message: no data is available within your requested subset\n",
      "2022-09-23 09:36:25,418 ERROR Reason:  Request returned no data\n",
      "2022-09-23 09:36:25,419 ERROR   Traceback (most recent call last):\n",
      "2022-09-23 09:36:25,421 ERROR     File \"/opt/cdstoolbox/cdscompute/cdscompute/cdshandlers/services/handler.py\", line 59, in handle_request\n",
      "2022-09-23 09:36:25,423 ERROR       result = cached(context.method, proc, context, context.args, context.kwargs)\n",
      "2022-09-23 09:36:25,425 ERROR     File \"/opt/cdstoolbox/cdscompute/cdscompute/caching.py\", line 108, in cached\n",
      "2022-09-23 09:36:25,427 ERROR       result = proc(context, *context.args, **context.kwargs)\n",
      "2022-09-23 09:36:25,430 ERROR     File \"/opt/cdstoolbox/cdscompute/cdscompute/services.py\", line 124, in __call__\n",
      "2022-09-23 09:36:25,432 ERROR       return p(*args, **kwargs)\n",
      "2022-09-23 09:36:25,435 ERROR     File \"/opt/cdstoolbox/cdscompute/cdscompute/services.py\", line 60, in __call__\n",
      "2022-09-23 09:36:25,436 ERROR       return self.proc(context, *args, **kwargs)\n",
      "2022-09-23 09:36:25,438 ERROR     File \"/home/cds/cdsservices/services/mars/mars.py\", line 52, in external\n",
      "2022-09-23 09:36:25,439 ERROR       return mars(context, request, **kwargs)\n",
      "2022-09-23 09:36:25,441 ERROR     File \"/home/cds/cdsservices/services/mars/mars.py\", line 19, in mars\n",
      "2022-09-23 09:36:25,442 ERROR       execute_mars(context, requests)\n",
      "2022-09-23 09:36:25,444 ERROR     File \"/home/cds/cdsservices/services/mars/execute_mars.py\", line 25, in execute_mars\n",
      "2022-09-23 09:36:25,446 ERROR       raise NoDataException(\"Request returned no data\", '')\n",
      "2022-09-23 09:36:25,447 ERROR   cdsinf.exceptions.NoDataException: Request returned no data\n"
     ]
    },
    {
     "name": "stdout",
     "output_type": "stream",
     "text": [
      "\n",
      "failure to download or save /media/nicolasf/END19101/ICU/data/CDS/UKMO/T2M/ensemble_seas_forecasts_t2m_from_2010_09_UKMO.netcdf\n",
      "\n",
      "\n",
      "attempting to download t2m for GCM UKMO, for level surface, year 2010, month 9, in netcdf, attempt 3 of 3\n",
      "\n",
      "[                                        ] | 0% Completed |  4.0s"
     ]
    },
    {
     "name": "stderr",
     "output_type": "stream",
     "text": [
      " 29%|██████████████████████████████▉                                                                           | 210k/719k [00:01<00:02, 230kB/s]"
     ]
    },
    {
     "name": "stdout",
     "output_type": "stream",
     "text": [
      "[                                        ] | 0% Completed |  4.2s"
     ]
    },
    {
     "name": "stderr",
     "output_type": "stream",
     "text": [
      "2022-09-23 09:36:25,753 INFO Welcome to the CDS\n",
      "2022-09-23 09:36:25,754 INFO Sending request to https://cds.climate.copernicus.eu/api/v2/resources/seasonal-monthly-single-levels\n"
     ]
    },
    {
     "name": "stdout",
     "output_type": "stream",
     "text": [
      "[                                        ] | 0% Completed |  4.3s"
     ]
    },
    {
     "name": "stderr",
     "output_type": "stream",
     "text": [
      " 63%|██████████████████████████████████████████████████████████████████▊                                       | 453k/719k [00:01<00:00, 450kB/s]"
     ]
    },
    {
     "name": "stdout",
     "output_type": "stream",
     "text": [
      "[                                        ] | 0% Completed |  4.4s"
     ]
    },
    {
     "name": "stderr",
     "output_type": "stream",
     "text": [
      "2022-09-23 09:36:25,956 INFO Download rate 202.2K/s                                                                                              \n"
     ]
    },
    {
     "name": "stdout",
     "output_type": "stream",
     "text": [
      "[                                        ] | 0% Completed |  4.5s"
     ]
    },
    {
     "name": "stderr",
     "output_type": "stream",
     "text": [
      "2022-09-23 09:36:26,064 INFO Request is queued\n"
     ]
    },
    {
     "name": "stdout",
     "output_type": "stream",
     "text": [
      "[                                        ] | 0% Completed |  4.7s\n",
      "/media/nicolasf/END19101/ICU/data/CDS/JMA/T2M/ensemble_seas_forecasts_t2m_from_2010_09_JMA.netcdf downloaded OK\n",
      "\n",
      "[####################                    ] | 50% Completed |  5.8s"
     ]
    },
    {
     "name": "stderr",
     "output_type": "stream",
     "text": [
      "2022-09-23 09:36:27,370 INFO Request is failed\n",
      "2022-09-23 09:36:27,372 ERROR Message: no data is available within your requested subset\n",
      "2022-09-23 09:36:27,374 ERROR Reason:  Request returned no data\n",
      "2022-09-23 09:36:27,376 ERROR   Traceback (most recent call last):\n",
      "2022-09-23 09:36:27,378 ERROR     File \"/opt/cdstoolbox/cdscompute/cdscompute/cdshandlers/services/handler.py\", line 59, in handle_request\n",
      "2022-09-23 09:36:27,380 ERROR       result = cached(context.method, proc, context, context.args, context.kwargs)\n",
      "2022-09-23 09:36:27,382 ERROR     File \"/opt/cdstoolbox/cdscompute/cdscompute/caching.py\", line 108, in cached\n",
      "2022-09-23 09:36:27,384 ERROR       result = proc(context, *context.args, **context.kwargs)\n",
      "2022-09-23 09:36:27,387 ERROR     File \"/opt/cdstoolbox/cdscompute/cdscompute/services.py\", line 124, in __call__\n",
      "2022-09-23 09:36:27,392 ERROR       return p(*args, **kwargs)\n",
      "2022-09-23 09:36:27,394 ERROR     File \"/opt/cdstoolbox/cdscompute/cdscompute/services.py\", line 60, in __call__\n",
      "2022-09-23 09:36:27,395 ERROR       return self.proc(context, *args, **kwargs)\n",
      "2022-09-23 09:36:27,396 ERROR     File \"/home/cds/cdsservices/services/mars/mars.py\", line 52, in external\n",
      "2022-09-23 09:36:27,397 ERROR       return mars(context, request, **kwargs)\n",
      "2022-09-23 09:36:27,398 ERROR     File \"/home/cds/cdsservices/services/mars/mars.py\", line 19, in mars\n",
      "2022-09-23 09:36:27,399 ERROR       execute_mars(context, requests)\n",
      "2022-09-23 09:36:27,401 ERROR     File \"/home/cds/cdsservices/services/mars/execute_mars.py\", line 25, in execute_mars\n",
      "2022-09-23 09:36:27,402 ERROR       raise NoDataException(\"Request returned no data\", '')\n",
      "2022-09-23 09:36:27,403 ERROR   cdsinf.exceptions.NoDataException: Request returned no data\n"
     ]
    },
    {
     "name": "stdout",
     "output_type": "stream",
     "text": [
      "\n",
      "failure to download or save /media/nicolasf/END19101/ICU/data/CDS/UKMO/T2M/ensemble_seas_forecasts_t2m_from_2010_09_UKMO.netcdf\n",
      "\n",
      "[########################################] | 100% Completed |  5.9s\n",
      "[                                        ] | 0% Completed |  0.0s\n",
      "attempting to download t2m for GCM UKMO, for level surface, year 2011, month 9, in netcdf, attempt 1 of 3\n",
      "\n",
      "\n",
      "attempting to download t2m for GCM JMA, for level surface, year 2011, month 9, in netcdf, attempt 1 of 3\n",
      "\n",
      "[                                        ] | 0% Completed |  0.2s"
     ]
    },
    {
     "name": "stderr",
     "output_type": "stream",
     "text": [
      "2022-09-23 09:36:27,711 INFO Welcome to the CDS\n"
     ]
    },
    {
     "name": "stdout",
     "output_type": "stream",
     "text": [
      "[                                        ] | 0% Completed |  0.3s"
     ]
    },
    {
     "name": "stderr",
     "output_type": "stream",
     "text": [
      "2022-09-23 09:36:27,714 INFO Welcome to the CDS\n",
      "2022-09-23 09:36:27,714 INFO Sending request to https://cds.climate.copernicus.eu/api/v2/resources/seasonal-monthly-single-levels\n",
      "2022-09-23 09:36:27,718 INFO Sending request to https://cds.climate.copernicus.eu/api/v2/resources/seasonal-monthly-single-levels\n"
     ]
    },
    {
     "name": "stdout",
     "output_type": "stream",
     "text": [
      "[                                        ] | 0% Completed |  0.6s"
     ]
    },
    {
     "name": "stderr",
     "output_type": "stream",
     "text": [
      "2022-09-23 09:36:28,079 INFO Request is queued\n",
      "2022-09-23 09:36:28,083 INFO Request is completed\n",
      "2022-09-23 09:36:28,085 INFO Downloading https://download-0003-clone.copernicus-climate.eu/cache-compute-0003/cache/data7/adaptor.mars.external-1663818505.1060715-17109-5-5e0742db-bdcc-480b-9ce0-b57ab7ba7b30.nc to /media/nicolasf/END19101/ICU/data/CDS/JMA/T2M/ensemble_seas_forecasts_t2m_from_2011_09_JMA.netcdf (719.2K)\n"
     ]
    },
    {
     "name": "stdout",
     "output_type": "stream",
     "text": [
      "[                                        ] | 0% Completed |  1.8s"
     ]
    },
    {
     "name": "stderr",
     "output_type": "stream",
     "text": [
      "  0%|                                                                                                                 | 0.00/719k [00:00<?, ?B/s]"
     ]
    },
    {
     "name": "stdout",
     "output_type": "stream",
     "text": [
      "[                                        ] | 0% Completed |  1.9s"
     ]
    },
    {
     "name": "stderr",
     "output_type": "stream",
     "text": [
      "2022-09-23 09:36:29,383 INFO Request is failed\n",
      "2022-09-23 09:36:29,385 ERROR Message: no data is available within your requested subset\n",
      "2022-09-23 09:36:29,386 ERROR Reason:  Request returned no data\n",
      "2022-09-23 09:36:29,388 ERROR   Traceback (most recent call last):\n",
      "2022-09-23 09:36:29,389 ERROR     File \"/opt/cdstoolbox/cdscompute/cdscompute/cdshandlers/services/handler.py\", line 59, in handle_request\n",
      "2022-09-23 09:36:29,390 ERROR       result = cached(context.method, proc, context, context.args, context.kwargs)\n",
      "2022-09-23 09:36:29,391 ERROR     File \"/opt/cdstoolbox/cdscompute/cdscompute/caching.py\", line 108, in cached\n",
      "2022-09-23 09:36:29,392 ERROR       result = proc(context, *context.args, **context.kwargs)\n",
      "2022-09-23 09:36:29,393 ERROR     File \"/opt/cdstoolbox/cdscompute/cdscompute/services.py\", line 124, in __call__\n",
      "2022-09-23 09:36:29,394 ERROR       return p(*args, **kwargs)\n",
      "2022-09-23 09:36:29,394 ERROR     File \"/opt/cdstoolbox/cdscompute/cdscompute/services.py\", line 60, in __call__\n",
      "2022-09-23 09:36:29,395 ERROR       return self.proc(context, *args, **kwargs)\n",
      "2022-09-23 09:36:29,396 ERROR     File \"/home/cds/cdsservices/services/mars/mars.py\", line 52, in external\n",
      "2022-09-23 09:36:29,396 ERROR       return mars(context, request, **kwargs)\n",
      "2022-09-23 09:36:29,397 ERROR     File \"/home/cds/cdsservices/services/mars/mars.py\", line 19, in mars\n",
      "2022-09-23 09:36:29,398 ERROR       execute_mars(context, requests)\n",
      "2022-09-23 09:36:29,398 ERROR     File \"/home/cds/cdsservices/services/mars/execute_mars.py\", line 25, in execute_mars\n",
      "2022-09-23 09:36:29,399 ERROR       raise NoDataException(\"Request returned no data\", '')\n",
      "2022-09-23 09:36:29,400 ERROR   cdsinf.exceptions.NoDataException: Request returned no data\n"
     ]
    },
    {
     "name": "stdout",
     "output_type": "stream",
     "text": [
      "\n",
      "failure to download or save /media/nicolasf/END19101/ICU/data/CDS/UKMO/T2M/ensemble_seas_forecasts_t2m_from_2011_09_UKMO.netcdf\n",
      "\n",
      "\n",
      "attempting to download t2m for GCM UKMO, for level surface, year 2011, month 9, in netcdf, attempt 2 of 3\n",
      "\n",
      "[                                        ] | 0% Completed |  2.1s"
     ]
    },
    {
     "name": "stderr",
     "output_type": "stream",
     "text": [
      "  2%|██▎                                                                                                     | 16.0k/719k [00:00<00:12, 56.0kB/s]"
     ]
    },
    {
     "name": "stdout",
     "output_type": "stream",
     "text": [
      "[                                        ] | 0% Completed |  2.2s"
     ]
    },
    {
     "name": "stderr",
     "output_type": "stream",
     "text": [
      "2022-09-23 09:36:29,700 INFO Welcome to the CDS\n",
      "2022-09-23 09:36:29,701 INFO Sending request to https://cds.climate.copernicus.eu/api/v2/resources/seasonal-monthly-single-levels\n"
     ]
    },
    {
     "name": "stdout",
     "output_type": "stream",
     "text": [
      "[                                        ] | 0% Completed |  2.4s"
     ]
    },
    {
     "name": "stderr",
     "output_type": "stream",
     "text": [
      "  9%|█████████▋                                                                                               | 66.0k/719k [00:00<00:05, 125kB/s]"
     ]
    },
    {
     "name": "stdout",
     "output_type": "stream",
     "text": [
      "[                                        ] | 0% Completed |  2.5s"
     ]
    },
    {
     "name": "stderr",
     "output_type": "stream",
     "text": [
      "2022-09-23 09:36:30,028 INFO Request is queued\n"
     ]
    },
    {
     "name": "stdout",
     "output_type": "stream",
     "text": [
      "[                                        ] | 0% Completed |  2.7s"
     ]
    },
    {
     "name": "stderr",
     "output_type": "stream",
     "text": [
      " 14%|██████████████▎                                                                                          | 98.0k/719k [00:00<00:05, 119kB/s]"
     ]
    },
    {
     "name": "stdout",
     "output_type": "stream",
     "text": [
      "[                                        ] | 0% Completed |  3.1s"
     ]
    },
    {
     "name": "stderr",
     "output_type": "stream",
     "text": [
      " 25%|██████████████████████████▊                                                                               | 182k/719k [00:01<00:02, 187kB/s]"
     ]
    },
    {
     "name": "stdout",
     "output_type": "stream",
     "text": [
      "[                                        ] | 0% Completed |  3.4s"
     ]
    },
    {
     "name": "stderr",
     "output_type": "stream",
     "text": [
      " 55%|██████████████████████████████████████████████████████████▋                                               | 398k/719k [00:01<00:00, 390kB/s]"
     ]
    },
    {
     "name": "stdout",
     "output_type": "stream",
     "text": [
      "[                                        ] | 0% Completed |  3.5s"
     ]
    },
    {
     "name": "stderr",
     "output_type": "stream",
     "text": [
      "2022-09-23 09:36:30,925 INFO Download rate 253.4K/s                                                                                              \n"
     ]
    },
    {
     "name": "stdout",
     "output_type": "stream",
     "text": [
      "[                                        ] | 0% Completed |  3.8s\n",
      "/media/nicolasf/END19101/ICU/data/CDS/JMA/T2M/ensemble_seas_forecasts_t2m_from_2011_09_JMA.netcdf downloaded OK\n",
      "\n",
      "[####################                    ] | 50% Completed |  3.9s"
     ]
    },
    {
     "name": "stderr",
     "output_type": "stream",
     "text": [
      "2022-09-23 09:36:31,336 INFO Request is failed\n",
      "2022-09-23 09:36:31,337 ERROR Message: no data is available within your requested subset\n",
      "2022-09-23 09:36:31,339 ERROR Reason:  Request returned no data\n",
      "2022-09-23 09:36:31,341 ERROR   Traceback (most recent call last):\n",
      "2022-09-23 09:36:31,344 ERROR     File \"/opt/cdstoolbox/cdscompute/cdscompute/cdshandlers/services/handler.py\", line 59, in handle_request\n",
      "2022-09-23 09:36:31,347 ERROR       result = cached(context.method, proc, context, context.args, context.kwargs)\n",
      "2022-09-23 09:36:31,350 ERROR     File \"/opt/cdstoolbox/cdscompute/cdscompute/caching.py\", line 108, in cached\n",
      "2022-09-23 09:36:31,353 ERROR       result = proc(context, *context.args, **context.kwargs)\n",
      "2022-09-23 09:36:31,355 ERROR     File \"/opt/cdstoolbox/cdscompute/cdscompute/services.py\", line 124, in __call__\n",
      "2022-09-23 09:36:31,358 ERROR       return p(*args, **kwargs)\n",
      "2022-09-23 09:36:31,365 ERROR     File \"/opt/cdstoolbox/cdscompute/cdscompute/services.py\", line 60, in __call__\n",
      "2022-09-23 09:36:31,366 ERROR       return self.proc(context, *args, **kwargs)\n",
      "2022-09-23 09:36:31,368 ERROR     File \"/home/cds/cdsservices/services/mars/mars.py\", line 52, in external\n",
      "2022-09-23 09:36:31,369 ERROR       return mars(context, request, **kwargs)\n",
      "2022-09-23 09:36:31,371 ERROR     File \"/home/cds/cdsservices/services/mars/mars.py\", line 19, in mars\n",
      "2022-09-23 09:36:31,372 ERROR       execute_mars(context, requests)\n",
      "2022-09-23 09:36:31,372 ERROR     File \"/home/cds/cdsservices/services/mars/execute_mars.py\", line 25, in execute_mars\n",
      "2022-09-23 09:36:31,373 ERROR       raise NoDataException(\"Request returned no data\", '')\n",
      "2022-09-23 09:36:31,374 ERROR   cdsinf.exceptions.NoDataException: Request returned no data\n"
     ]
    },
    {
     "name": "stdout",
     "output_type": "stream",
     "text": [
      "\n",
      "failure to download or save /media/nicolasf/END19101/ICU/data/CDS/UKMO/T2M/ensemble_seas_forecasts_t2m_from_2011_09_UKMO.netcdf\n",
      "\n",
      "\n",
      "attempting to download t2m for GCM UKMO, for level surface, year 2011, month 9, in netcdf, attempt 3 of 3\n",
      "\n",
      "[####################                    ] | 50% Completed |  4.2s"
     ]
    },
    {
     "name": "stderr",
     "output_type": "stream",
     "text": [
      "2022-09-23 09:36:31,676 INFO Welcome to the CDS\n",
      "2022-09-23 09:36:31,678 INFO Sending request to https://cds.climate.copernicus.eu/api/v2/resources/seasonal-monthly-single-levels\n"
     ]
    },
    {
     "name": "stdout",
     "output_type": "stream",
     "text": [
      "[####################                    ] | 50% Completed |  4.6s"
     ]
    },
    {
     "name": "stderr",
     "output_type": "stream",
     "text": [
      "2022-09-23 09:36:32,005 INFO Request is queued\n"
     ]
    },
    {
     "name": "stdout",
     "output_type": "stream",
     "text": [
      "[####################                    ] | 50% Completed |  5.8s"
     ]
    },
    {
     "name": "stderr",
     "output_type": "stream",
     "text": [
      "2022-09-23 09:36:33,314 INFO Request is failed\n",
      "2022-09-23 09:36:33,315 ERROR Message: no data is available within your requested subset\n",
      "2022-09-23 09:36:33,318 ERROR Reason:  Request returned no data\n",
      "2022-09-23 09:36:33,323 ERROR   Traceback (most recent call last):\n"
     ]
    },
    {
     "name": "stdout",
     "output_type": "stream",
     "text": [
      "[####################                    ] | 50% Completed |  5.9s"
     ]
    },
    {
     "name": "stderr",
     "output_type": "stream",
     "text": [
      "2022-09-23 09:36:33,327 ERROR     File \"/opt/cdstoolbox/cdscompute/cdscompute/cdshandlers/services/handler.py\", line 59, in handle_request\n",
      "2022-09-23 09:36:33,329 ERROR       result = cached(context.method, proc, context, context.args, context.kwargs)\n",
      "2022-09-23 09:36:33,332 ERROR     File \"/opt/cdstoolbox/cdscompute/cdscompute/caching.py\", line 108, in cached\n",
      "2022-09-23 09:36:33,334 ERROR       result = proc(context, *context.args, **context.kwargs)\n",
      "2022-09-23 09:36:33,339 ERROR     File \"/opt/cdstoolbox/cdscompute/cdscompute/services.py\", line 124, in __call__\n",
      "2022-09-23 09:36:33,341 ERROR       return p(*args, **kwargs)\n",
      "2022-09-23 09:36:33,343 ERROR     File \"/opt/cdstoolbox/cdscompute/cdscompute/services.py\", line 60, in __call__\n",
      "2022-09-23 09:36:33,344 ERROR       return self.proc(context, *args, **kwargs)\n",
      "2022-09-23 09:36:33,346 ERROR     File \"/home/cds/cdsservices/services/mars/mars.py\", line 52, in external\n",
      "2022-09-23 09:36:33,347 ERROR       return mars(context, request, **kwargs)\n",
      "2022-09-23 09:36:33,348 ERROR     File \"/home/cds/cdsservices/services/mars/mars.py\", line 19, in mars\n",
      "2022-09-23 09:36:33,349 ERROR       execute_mars(context, requests)\n",
      "2022-09-23 09:36:33,351 ERROR     File \"/home/cds/cdsservices/services/mars/execute_mars.py\", line 25, in execute_mars\n",
      "2022-09-23 09:36:33,352 ERROR       raise NoDataException(\"Request returned no data\", '')\n",
      "2022-09-23 09:36:33,353 ERROR   cdsinf.exceptions.NoDataException: Request returned no data\n"
     ]
    },
    {
     "name": "stdout",
     "output_type": "stream",
     "text": [
      "\n",
      "failure to download or save /media/nicolasf/END19101/ICU/data/CDS/UKMO/T2M/ensemble_seas_forecasts_t2m_from_2011_09_UKMO.netcdf\n",
      "\n",
      "[########################################] | 100% Completed |  6.0s\n",
      "[                                        ] | 0% Completed |  0.0s\n",
      "attempting to download t2m for GCM JMA, for level surface, year 2012, month 9, in netcdf, attempt 1 of 3\n",
      "\n",
      "\n",
      "attempting to download t2m for GCM UKMO, for level surface, year 2012, month 9, in netcdf, attempt 1 of 3\n",
      "\n",
      "[                                        ] | 0% Completed |  0.2s"
     ]
    },
    {
     "name": "stderr",
     "output_type": "stream",
     "text": [
      "2022-09-23 09:36:33,732 INFO Welcome to the CDS\n",
      "2022-09-23 09:36:33,733 INFO Welcome to the CDS\n",
      "2022-09-23 09:36:33,734 INFO Sending request to https://cds.climate.copernicus.eu/api/v2/resources/seasonal-monthly-single-levels\n",
      "2022-09-23 09:36:33,735 INFO Sending request to https://cds.climate.copernicus.eu/api/v2/resources/seasonal-monthly-single-levels\n"
     ]
    },
    {
     "name": "stdout",
     "output_type": "stream",
     "text": [
      "[                                        ] | 0% Completed |  0.6s"
     ]
    },
    {
     "name": "stderr",
     "output_type": "stream",
     "text": [
      "2022-09-23 09:36:34,048 INFO Request is queued\n",
      "2022-09-23 09:36:34,146 INFO Request is queued\n"
     ]
    },
    {
     "name": "stdout",
     "output_type": "stream",
     "text": [
      "[                                        ] | 0% Completed |  1.8s"
     ]
    },
    {
     "name": "stderr",
     "output_type": "stream",
     "text": [
      "2022-09-23 09:36:35,354 INFO Request is failed\n",
      "2022-09-23 09:36:35,355 ERROR Message: no data is available within your requested subset\n",
      "2022-09-23 09:36:35,356 ERROR Reason:  Request returned no data\n",
      "2022-09-23 09:36:35,356 ERROR   Traceback (most recent call last):\n",
      "2022-09-23 09:36:35,357 ERROR     File \"/opt/cdstoolbox/cdscompute/cdscompute/cdshandlers/services/handler.py\", line 59, in handle_request\n",
      "2022-09-23 09:36:35,357 ERROR       result = cached(context.method, proc, context, context.args, context.kwargs)\n",
      "2022-09-23 09:36:35,358 ERROR     File \"/opt/cdstoolbox/cdscompute/cdscompute/caching.py\", line 108, in cached\n",
      "2022-09-23 09:36:35,358 ERROR       result = proc(context, *context.args, **context.kwargs)\n",
      "2022-09-23 09:36:35,359 ERROR     File \"/opt/cdstoolbox/cdscompute/cdscompute/services.py\", line 124, in __call__\n",
      "2022-09-23 09:36:35,359 ERROR       return p(*args, **kwargs)\n",
      "2022-09-23 09:36:35,359 ERROR     File \"/opt/cdstoolbox/cdscompute/cdscompute/services.py\", line 60, in __call__\n",
      "2022-09-23 09:36:35,360 ERROR       return self.proc(context, *args, **kwargs)\n",
      "2022-09-23 09:36:35,360 ERROR     File \"/home/cds/cdsservices/services/mars/mars.py\", line 52, in external\n",
      "2022-09-23 09:36:35,361 ERROR       return mars(context, request, **kwargs)\n",
      "2022-09-23 09:36:35,361 ERROR     File \"/home/cds/cdsservices/services/mars/mars.py\", line 19, in mars\n",
      "2022-09-23 09:36:35,361 ERROR       execute_mars(context, requests)\n",
      "2022-09-23 09:36:35,362 ERROR     File \"/home/cds/cdsservices/services/mars/execute_mars.py\", line 25, in execute_mars\n",
      "2022-09-23 09:36:35,362 ERROR       raise NoDataException(\"Request returned no data\", '')\n",
      "2022-09-23 09:36:35,363 ERROR   cdsinf.exceptions.NoDataException: Request returned no data\n"
     ]
    },
    {
     "name": "stdout",
     "output_type": "stream",
     "text": [
      "\n",
      "failure to download or save /media/nicolasf/END19101/ICU/data/CDS/UKMO/T2M/ensemble_seas_forecasts_t2m_from_2012_09_UKMO.netcdf\n",
      "\n",
      "\n",
      "attempting to download t2m for GCM UKMO, for level surface, year 2012, month 9, in netcdf, attempt 2 of 3\n",
      "\n",
      "[                                        ] | 0% Completed |  1.9s"
     ]
    },
    {
     "name": "stderr",
     "output_type": "stream",
     "text": [
      "2022-09-23 09:36:35,454 INFO Request is running\n"
     ]
    },
    {
     "name": "stdout",
     "output_type": "stream",
     "text": [
      "[                                        ] | 0% Completed |  2.1s"
     ]
    },
    {
     "name": "stderr",
     "output_type": "stream",
     "text": [
      "2022-09-23 09:36:35,664 INFO Welcome to the CDS\n",
      "2022-09-23 09:36:35,666 INFO Sending request to https://cds.climate.copernicus.eu/api/v2/resources/seasonal-monthly-single-levels\n"
     ]
    },
    {
     "name": "stdout",
     "output_type": "stream",
     "text": [
      "[                                        ] | 0% Completed |  2.5s"
     ]
    },
    {
     "name": "stderr",
     "output_type": "stream",
     "text": [
      "2022-09-23 09:36:36,007 INFO Request is queued\n"
     ]
    },
    {
     "name": "stdout",
     "output_type": "stream",
     "text": [
      "[                                        ] | 0% Completed |  3.8s"
     ]
    },
    {
     "name": "stderr",
     "output_type": "stream",
     "text": [
      "2022-09-23 09:36:37,259 INFO Request is completed\n",
      "2022-09-23 09:36:37,259 INFO Downloading https://download-0004-clone.copernicus-climate.eu/cache-compute-0004/cache/data0/adaptor.mars.external-1663882595.562875-27948-11-7f34e7a1-8075-4b03-9c41-1b87c14835be.nc to /media/nicolasf/END19101/ICU/data/CDS/JMA/T2M/ensemble_seas_forecasts_t2m_from_2012_09_JMA.netcdf (719.2K)\n"
     ]
    },
    {
     "name": "stdout",
     "output_type": "stream",
     "text": [
      "[                                        ] | 0% Completed |  3.9s"
     ]
    },
    {
     "name": "stderr",
     "output_type": "stream",
     "text": [
      "2022-09-23 09:36:37,313 INFO Request is failed\n",
      "2022-09-23 09:36:37,314 ERROR Message: no data is available within your requested subset\n",
      "2022-09-23 09:36:37,314 ERROR Reason:  Request returned no data\n",
      "2022-09-23 09:36:37,315 ERROR   Traceback (most recent call last):\n",
      "2022-09-23 09:36:37,315 ERROR     File \"/opt/cdstoolbox/cdscompute/cdscompute/cdshandlers/services/handler.py\", line 59, in handle_request\n",
      "2022-09-23 09:36:37,315 ERROR       result = cached(context.method, proc, context, context.args, context.kwargs)\n",
      "2022-09-23 09:36:37,316 ERROR     File \"/opt/cdstoolbox/cdscompute/cdscompute/caching.py\", line 108, in cached\n",
      "2022-09-23 09:36:37,316 ERROR       result = proc(context, *context.args, **context.kwargs)\n",
      "2022-09-23 09:36:37,316 ERROR     File \"/opt/cdstoolbox/cdscompute/cdscompute/services.py\", line 124, in __call__\n",
      "2022-09-23 09:36:37,317 ERROR       return p(*args, **kwargs)\n",
      "2022-09-23 09:36:37,317 ERROR     File \"/opt/cdstoolbox/cdscompute/cdscompute/services.py\", line 60, in __call__\n",
      "2022-09-23 09:36:37,318 ERROR       return self.proc(context, *args, **kwargs)\n",
      "2022-09-23 09:36:37,318 ERROR     File \"/home/cds/cdsservices/services/mars/mars.py\", line 52, in external\n",
      "2022-09-23 09:36:37,319 ERROR       return mars(context, request, **kwargs)\n",
      "2022-09-23 09:36:37,319 ERROR     File \"/home/cds/cdsservices/services/mars/mars.py\", line 19, in mars\n",
      "2022-09-23 09:36:37,320 ERROR       execute_mars(context, requests)\n",
      "2022-09-23 09:36:37,320 ERROR     File \"/home/cds/cdsservices/services/mars/execute_mars.py\", line 25, in execute_mars\n",
      "2022-09-23 09:36:37,321 ERROR       raise NoDataException(\"Request returned no data\", '')\n",
      "2022-09-23 09:36:37,321 ERROR   cdsinf.exceptions.NoDataException: Request returned no data\n"
     ]
    },
    {
     "name": "stdout",
     "output_type": "stream",
     "text": [
      "\n",
      "failure to download or save /media/nicolasf/END19101/ICU/data/CDS/UKMO/T2M/ensemble_seas_forecasts_t2m_from_2012_09_UKMO.netcdf\n",
      "\n",
      "\n",
      "attempting to download t2m for GCM UKMO, for level surface, year 2012, month 9, in netcdf, attempt 3 of 3\n",
      "\n",
      "[                                        ] | 0% Completed |  4.2s"
     ]
    },
    {
     "name": "stderr",
     "output_type": "stream",
     "text": [
      "2022-09-23 09:36:37,620 INFO Welcome to the CDS\n",
      "2022-09-23 09:36:37,620 INFO Sending request to https://cds.climate.copernicus.eu/api/v2/resources/seasonal-monthly-single-levels\n"
     ]
    },
    {
     "name": "stdout",
     "output_type": "stream",
     "text": [
      "[                                        ] | 0% Completed |  4.5s"
     ]
    },
    {
     "name": "stderr",
     "output_type": "stream",
     "text": [
      "2022-09-23 09:36:37,927 INFO Request is queued\n"
     ]
    },
    {
     "name": "stdout",
     "output_type": "stream",
     "text": [
      "[                                        ] | 0% Completed |  5.7s"
     ]
    },
    {
     "name": "stderr",
     "output_type": "stream",
     "text": [
      "  0%|                                                                                                                 | 0.00/719k [00:00<?, ?B/s]2022-09-23 09:36:39,236 INFO Request is failed\n",
      "2022-09-23 09:36:39,238 ERROR Message: no data is available within your requested subset\n",
      "2022-09-23 09:36:39,240 ERROR Reason:  Request returned no data\n"
     ]
    },
    {
     "name": "stdout",
     "output_type": "stream",
     "text": [
      "[                                        ] | 0% Completed |  5.8s"
     ]
    },
    {
     "name": "stderr",
     "output_type": "stream",
     "text": [
      "2022-09-23 09:36:39,242 ERROR   Traceback (most recent call last):\n",
      "2022-09-23 09:36:39,245 ERROR     File \"/opt/cdstoolbox/cdscompute/cdscompute/cdshandlers/services/handler.py\", line 59, in handle_request\n",
      "2022-09-23 09:36:39,247 ERROR       result = cached(context.method, proc, context, context.args, context.kwargs)\n",
      "2022-09-23 09:36:39,250 ERROR     File \"/opt/cdstoolbox/cdscompute/cdscompute/caching.py\", line 108, in cached\n",
      "2022-09-23 09:36:39,253 ERROR       result = proc(context, *context.args, **context.kwargs)\n",
      "2022-09-23 09:36:39,255 ERROR     File \"/opt/cdstoolbox/cdscompute/cdscompute/services.py\", line 124, in __call__\n",
      "2022-09-23 09:36:39,257 ERROR       return p(*args, **kwargs)\n",
      "2022-09-23 09:36:39,259 ERROR     File \"/opt/cdstoolbox/cdscompute/cdscompute/services.py\", line 60, in __call__\n",
      "2022-09-23 09:36:39,262 ERROR       return self.proc(context, *args, **kwargs)\n",
      "2022-09-23 09:36:39,264 ERROR     File \"/home/cds/cdsservices/services/mars/mars.py\", line 52, in external\n",
      "2022-09-23 09:36:39,266 ERROR       return mars(context, request, **kwargs)\n",
      "2022-09-23 09:36:39,268 ERROR     File \"/home/cds/cdsservices/services/mars/mars.py\", line 19, in mars\n",
      "2022-09-23 09:36:39,270 ERROR       execute_mars(context, requests)\n",
      "2022-09-23 09:36:39,273 ERROR     File \"/home/cds/cdsservices/services/mars/execute_mars.py\", line 25, in execute_mars\n",
      "2022-09-23 09:36:39,275 ERROR       raise NoDataException(\"Request returned no data\", '')\n",
      "2022-09-23 09:36:39,276 ERROR   cdsinf.exceptions.NoDataException: Request returned no data\n"
     ]
    },
    {
     "name": "stdout",
     "output_type": "stream",
     "text": [
      "\n",
      "failure to download or save /media/nicolasf/END19101/ICU/data/CDS/UKMO/T2M/ensemble_seas_forecasts_t2m_from_2012_09_UKMO.netcdf\n",
      "\n",
      "[####################                    ] | 50% Completed |  6.0s"
     ]
    },
    {
     "name": "stderr",
     "output_type": "stream",
     "text": [
      "  2%|██▎                                                                                                     | 16.0k/719k [00:00<00:12, 56.9kB/s]"
     ]
    },
    {
     "name": "stdout",
     "output_type": "stream",
     "text": [
      "[####################                    ] | 50% Completed |  6.3s"
     ]
    },
    {
     "name": "stderr",
     "output_type": "stream",
     "text": [
      "  8%|████████▊                                                                                                | 60.0k/719k [00:00<00:05, 114kB/s]"
     ]
    },
    {
     "name": "stdout",
     "output_type": "stream",
     "text": [
      "[####################                    ] | 50% Completed |  6.6s"
     ]
    },
    {
     "name": "stderr",
     "output_type": "stream",
     "text": [
      " 13%|█████████████▋                                                                                           | 94.0k/719k [00:00<00:05, 116kB/s]"
     ]
    },
    {
     "name": "stdout",
     "output_type": "stream",
     "text": [
      "[####################                    ] | 50% Completed |  6.9s"
     ]
    },
    {
     "name": "stderr",
     "output_type": "stream",
     "text": [
      " 29%|██████████████████████████████▊                                                                           | 209k/719k [00:01<00:02, 228kB/s]"
     ]
    },
    {
     "name": "stdout",
     "output_type": "stream",
     "text": [
      "[####################                    ] | 50% Completed |  7.1s"
     ]
    },
    {
     "name": "stderr",
     "output_type": "stream",
     "text": [
      " 61%|████████████████████████████████████████████████████████████████▊                                         | 440k/719k [00:01<00:00, 435kB/s]"
     ]
    },
    {
     "name": "stdout",
     "output_type": "stream",
     "text": [
      "[####################                    ] | 50% Completed |  7.4s"
     ]
    },
    {
     "name": "stderr",
     "output_type": "stream",
     "text": [
      " 86%|███████████████████████████████████████████████████████████████████████████████████████████▌              | 621k/719k [00:01<00:00, 501kB/s]"
     ]
    },
    {
     "name": "stdout",
     "output_type": "stream",
     "text": [
      "[####################                    ] | 50% Completed |  7.6s"
     ]
    },
    {
     "name": "stderr",
     "output_type": "stream",
     "text": [
      "2022-09-23 09:36:41,077 INFO Download rate 188.4K/s                                                                                              \n"
     ]
    },
    {
     "name": "stdout",
     "output_type": "stream",
     "text": [
      "[####################                    ] | 50% Completed |  8.9s\n",
      "/media/nicolasf/END19101/ICU/data/CDS/JMA/T2M/ensemble_seas_forecasts_t2m_from_2012_09_JMA.netcdf downloaded OK\n",
      "\n",
      "[########################################] | 100% Completed |  9.0s\n",
      "[                                        ] | 0% Completed |  0.0s\n",
      "attempting to download t2m for GCM JMA, for level surface, year 2013, month 9, in netcdf, attempt 1 of 3\n",
      "\n",
      "\n",
      "attempting to download t2m for GCM UKMO, for level surface, year 2013, month 9, in netcdf, attempt 1 of 3\n",
      "\n",
      "[                                        ] | 0% Completed |  0.3s"
     ]
    },
    {
     "name": "stderr",
     "output_type": "stream",
     "text": [
      "2022-09-23 09:36:42,729 INFO Welcome to the CDS\n",
      "2022-09-23 09:36:42,732 INFO Sending request to https://cds.climate.copernicus.eu/api/v2/resources/seasonal-monthly-single-levels\n",
      "2022-09-23 09:36:42,734 INFO Welcome to the CDS\n",
      "2022-09-23 09:36:42,743 INFO Sending request to https://cds.climate.copernicus.eu/api/v2/resources/seasonal-monthly-single-levels\n"
     ]
    },
    {
     "name": "stdout",
     "output_type": "stream",
     "text": [
      "[                                        ] | 0% Completed |  0.6s"
     ]
    },
    {
     "name": "stderr",
     "output_type": "stream",
     "text": [
      "2022-09-23 09:36:43,081 INFO Request is completed\n",
      "2022-09-23 09:36:43,082 INFO Downloading https://download-0013-clone.copernicus-climate.eu/cache-compute-0013/cache/data3/adaptor.mars.external-1663818536.06545-9352-6-bfeb00e9-e5ab-4893-844b-5f9941556bca.nc to /media/nicolasf/END19101/ICU/data/CDS/JMA/T2M/ensemble_seas_forecasts_t2m_from_2013_09_JMA.netcdf (719.2K)\n",
      "2022-09-23 09:36:43,102 INFO Request is queued\n"
     ]
    },
    {
     "name": "stdout",
     "output_type": "stream",
     "text": [
      "[                                        ] | 0% Completed |  1.8s"
     ]
    },
    {
     "name": "stderr",
     "output_type": "stream",
     "text": [
      "  0%|                                                                                                                 | 0.00/719k [00:00<?, ?B/s]"
     ]
    },
    {
     "name": "stdout",
     "output_type": "stream",
     "text": [
      "[                                        ] | 0% Completed |  1.9s"
     ]
    },
    {
     "name": "stderr",
     "output_type": "stream",
     "text": [
      "2022-09-23 09:36:44,411 INFO Request is failed\n",
      "2022-09-23 09:36:44,413 ERROR Message: no data is available within your requested subset\n",
      "2022-09-23 09:36:44,414 ERROR Reason:  Request returned no data\n",
      "2022-09-23 09:36:44,416 ERROR   Traceback (most recent call last):\n",
      "2022-09-23 09:36:44,418 ERROR     File \"/opt/cdstoolbox/cdscompute/cdscompute/cdshandlers/services/handler.py\", line 59, in handle_request\n",
      "2022-09-23 09:36:44,419 ERROR       result = cached(context.method, proc, context, context.args, context.kwargs)\n",
      "2022-09-23 09:36:44,423 ERROR     File \"/opt/cdstoolbox/cdscompute/cdscompute/caching.py\", line 108, in cached\n",
      "2022-09-23 09:36:44,425 ERROR       result = proc(context, *context.args, **context.kwargs)\n",
      "2022-09-23 09:36:44,426 ERROR     File \"/opt/cdstoolbox/cdscompute/cdscompute/services.py\", line 124, in __call__\n",
      "2022-09-23 09:36:44,428 ERROR       return p(*args, **kwargs)\n",
      "2022-09-23 09:36:44,430 ERROR     File \"/opt/cdstoolbox/cdscompute/cdscompute/services.py\", line 60, in __call__\n",
      "2022-09-23 09:36:44,432 ERROR       return self.proc(context, *args, **kwargs)\n",
      "2022-09-23 09:36:44,434 ERROR     File \"/home/cds/cdsservices/services/mars/mars.py\", line 52, in external\n",
      "2022-09-23 09:36:44,437 ERROR       return mars(context, request, **kwargs)\n",
      "2022-09-23 09:36:44,438 ERROR     File \"/home/cds/cdsservices/services/mars/mars.py\", line 19, in mars\n",
      "2022-09-23 09:36:44,440 ERROR       execute_mars(context, requests)\n",
      "2022-09-23 09:36:44,441 ERROR     File \"/home/cds/cdsservices/services/mars/execute_mars.py\", line 25, in execute_mars\n",
      "2022-09-23 09:36:44,443 ERROR       raise NoDataException(\"Request returned no data\", '')\n",
      "2022-09-23 09:36:44,448 ERROR   cdsinf.exceptions.NoDataException: Request returned no data\n"
     ]
    },
    {
     "name": "stdout",
     "output_type": "stream",
     "text": [
      "\n",
      "failure to download or save /media/nicolasf/END19101/ICU/data/CDS/UKMO/T2M/ensemble_seas_forecasts_t2m_from_2013_09_UKMO.netcdf\n",
      "\n",
      "\n",
      "attempting to download t2m for GCM UKMO, for level surface, year 2013, month 9, in netcdf, attempt 2 of 3\n",
      "\n",
      "[                                        ] | 0% Completed |  2.1s"
     ]
    },
    {
     "name": "stderr",
     "output_type": "stream",
     "text": [
      "  2%|██▎                                                                                                     | 16.0k/719k [00:00<00:12, 56.2kB/s]"
     ]
    },
    {
     "name": "stdout",
     "output_type": "stream",
     "text": [
      "[                                        ] | 0% Completed |  2.2s"
     ]
    },
    {
     "name": "stderr",
     "output_type": "stream",
     "text": [
      "2022-09-23 09:36:44,749 INFO Welcome to the CDS\n",
      "2022-09-23 09:36:44,751 INFO Sending request to https://cds.climate.copernicus.eu/api/v2/resources/seasonal-monthly-single-levels\n"
     ]
    },
    {
     "name": "stdout",
     "output_type": "stream",
     "text": [
      "[                                        ] | 0% Completed |  2.4s"
     ]
    },
    {
     "name": "stderr",
     "output_type": "stream",
     "text": [
      "  8%|████████▉                                                                                                | 61.0k/719k [00:00<00:05, 115kB/s]"
     ]
    },
    {
     "name": "stdout",
     "output_type": "stream",
     "text": [
      "[                                        ] | 0% Completed |  2.5s"
     ]
    },
    {
     "name": "stderr",
     "output_type": "stream",
     "text": [
      "2022-09-23 09:36:45,065 INFO Request is queued\n"
     ]
    },
    {
     "name": "stdout",
     "output_type": "stream",
     "text": [
      "[                                        ] | 0% Completed |  2.8s"
     ]
    },
    {
     "name": "stderr",
     "output_type": "stream",
     "text": [
      " 13%|█████████████▌                                                                                           | 93.0k/719k [00:00<00:05, 113kB/s]"
     ]
    },
    {
     "name": "stdout",
     "output_type": "stream",
     "text": [
      "[                                        ] | 0% Completed |  3.1s"
     ]
    },
    {
     "name": "stderr",
     "output_type": "stream",
     "text": [
      " 24%|█████████████████████████▋                                                                                | 174k/719k [00:01<00:03, 180kB/s]"
     ]
    },
    {
     "name": "stdout",
     "output_type": "stream",
     "text": [
      "[                                        ] | 0% Completed |  3.4s"
     ]
    },
    {
     "name": "stderr",
     "output_type": "stream",
     "text": [
      " 53%|████████████████████████████████████████████████████████                                                  | 380k/719k [00:01<00:00, 373kB/s]"
     ]
    },
    {
     "name": "stdout",
     "output_type": "stream",
     "text": [
      "[                                        ] | 0% Completed |  3.5s"
     ]
    },
    {
     "name": "stderr",
     "output_type": "stream",
     "text": [
      "2022-09-23 09:36:45,916 INFO Download rate 253.8K/s                                                                                              \n"
     ]
    },
    {
     "name": "stdout",
     "output_type": "stream",
     "text": [
      "[                                        ] | 0% Completed |  3.8s\n",
      "/media/nicolasf/END19101/ICU/data/CDS/JMA/T2M/ensemble_seas_forecasts_t2m_from_2013_09_JMA.netcdf downloaded OK\n",
      "\n",
      "[####################                    ] | 50% Completed |  3.9s"
     ]
    },
    {
     "name": "stderr",
     "output_type": "stream",
     "text": [
      "2022-09-23 09:36:46,373 INFO Request is failed\n",
      "2022-09-23 09:36:46,374 ERROR Message: no data is available within your requested subset\n",
      "2022-09-23 09:36:46,376 ERROR Reason:  Request returned no data\n",
      "2022-09-23 09:36:46,379 ERROR   Traceback (most recent call last):\n",
      "2022-09-23 09:36:46,381 ERROR     File \"/opt/cdstoolbox/cdscompute/cdscompute/cdshandlers/services/handler.py\", line 59, in handle_request\n",
      "2022-09-23 09:36:46,384 ERROR       result = cached(context.method, proc, context, context.args, context.kwargs)\n",
      "2022-09-23 09:36:46,391 ERROR     File \"/opt/cdstoolbox/cdscompute/cdscompute/caching.py\", line 108, in cached\n"
     ]
    },
    {
     "name": "stdout",
     "output_type": "stream",
     "text": [
      "[####################                    ] | 50% Completed |  4.0s"
     ]
    },
    {
     "name": "stderr",
     "output_type": "stream",
     "text": [
      "2022-09-23 09:36:46,394 ERROR       result = proc(context, *context.args, **context.kwargs)\n",
      "2022-09-23 09:36:46,397 ERROR     File \"/opt/cdstoolbox/cdscompute/cdscompute/services.py\", line 124, in __call__\n",
      "2022-09-23 09:36:46,399 ERROR       return p(*args, **kwargs)\n",
      "2022-09-23 09:36:46,402 ERROR     File \"/opt/cdstoolbox/cdscompute/cdscompute/services.py\", line 60, in __call__\n",
      "2022-09-23 09:36:46,404 ERROR       return self.proc(context, *args, **kwargs)\n",
      "2022-09-23 09:36:46,405 ERROR     File \"/home/cds/cdsservices/services/mars/mars.py\", line 52, in external\n",
      "2022-09-23 09:36:46,407 ERROR       return mars(context, request, **kwargs)\n",
      "2022-09-23 09:36:46,408 ERROR     File \"/home/cds/cdsservices/services/mars/mars.py\", line 19, in mars\n",
      "2022-09-23 09:36:46,409 ERROR       execute_mars(context, requests)\n",
      "2022-09-23 09:36:46,410 ERROR     File \"/home/cds/cdsservices/services/mars/execute_mars.py\", line 25, in execute_mars\n",
      "2022-09-23 09:36:46,411 ERROR       raise NoDataException(\"Request returned no data\", '')\n",
      "2022-09-23 09:36:46,411 ERROR   cdsinf.exceptions.NoDataException: Request returned no data\n"
     ]
    },
    {
     "name": "stdout",
     "output_type": "stream",
     "text": [
      "\n",
      "failure to download or save /media/nicolasf/END19101/ICU/data/CDS/UKMO/T2M/ensemble_seas_forecasts_t2m_from_2013_09_UKMO.netcdf\n",
      "\n",
      "\n",
      "attempting to download t2m for GCM UKMO, for level surface, year 2013, month 9, in netcdf, attempt 3 of 3\n",
      "\n",
      "[####################                    ] | 50% Completed |  4.3s"
     ]
    },
    {
     "name": "stderr",
     "output_type": "stream",
     "text": [
      "2022-09-23 09:36:46,714 INFO Welcome to the CDS\n",
      "2022-09-23 09:36:46,716 INFO Sending request to https://cds.climate.copernicus.eu/api/v2/resources/seasonal-monthly-single-levels\n"
     ]
    },
    {
     "name": "stdout",
     "output_type": "stream",
     "text": [
      "[####################                    ] | 50% Completed |  4.6s"
     ]
    },
    {
     "name": "stderr",
     "output_type": "stream",
     "text": [
      "2022-09-23 09:36:47,048 INFO Request is queued\n"
     ]
    },
    {
     "name": "stdout",
     "output_type": "stream",
     "text": [
      "[####################                    ] | 50% Completed |  5.9s"
     ]
    },
    {
     "name": "stderr",
     "output_type": "stream",
     "text": [
      "2022-09-23 09:36:48,355 INFO Request is failed\n",
      "2022-09-23 09:36:48,357 ERROR Message: no data is available within your requested subset\n",
      "2022-09-23 09:36:48,358 ERROR Reason:  Request returned no data\n",
      "2022-09-23 09:36:48,360 ERROR   Traceback (most recent call last):\n",
      "2022-09-23 09:36:48,361 ERROR     File \"/opt/cdstoolbox/cdscompute/cdscompute/cdshandlers/services/handler.py\", line 59, in handle_request\n",
      "2022-09-23 09:36:48,363 ERROR       result = cached(context.method, proc, context, context.args, context.kwargs)\n",
      "2022-09-23 09:36:48,365 ERROR     File \"/opt/cdstoolbox/cdscompute/cdscompute/caching.py\", line 108, in cached\n",
      "2022-09-23 09:36:48,367 ERROR       result = proc(context, *context.args, **context.kwargs)\n",
      "2022-09-23 09:36:48,368 ERROR     File \"/opt/cdstoolbox/cdscompute/cdscompute/services.py\", line 124, in __call__\n",
      "2022-09-23 09:36:48,370 ERROR       return p(*args, **kwargs)\n",
      "2022-09-23 09:36:48,372 ERROR     File \"/opt/cdstoolbox/cdscompute/cdscompute/services.py\", line 60, in __call__\n",
      "2022-09-23 09:36:48,373 ERROR       return self.proc(context, *args, **kwargs)\n",
      "2022-09-23 09:36:48,375 ERROR     File \"/home/cds/cdsservices/services/mars/mars.py\", line 52, in external\n",
      "2022-09-23 09:36:48,377 ERROR       return mars(context, request, **kwargs)\n",
      "2022-09-23 09:36:48,379 ERROR     File \"/home/cds/cdsservices/services/mars/mars.py\", line 19, in mars\n",
      "2022-09-23 09:36:48,382 ERROR       execute_mars(context, requests)\n",
      "2022-09-23 09:36:48,383 ERROR     File \"/home/cds/cdsservices/services/mars/execute_mars.py\", line 25, in execute_mars\n",
      "2022-09-23 09:36:48,385 ERROR       raise NoDataException(\"Request returned no data\", '')\n",
      "2022-09-23 09:36:48,387 ERROR   cdsinf.exceptions.NoDataException: Request returned no data\n"
     ]
    },
    {
     "name": "stdout",
     "output_type": "stream",
     "text": [
      "\n",
      "failure to download or save /media/nicolasf/END19101/ICU/data/CDS/UKMO/T2M/ensemble_seas_forecasts_t2m_from_2013_09_UKMO.netcdf\n",
      "\n",
      "[########################################] | 100% Completed |  6.0s\n",
      "[                                        ] | 0% Completed |  0.0s\n",
      "attempting to download t2m for GCM UKMO, for level surface, year 2014, month 9, in netcdf, attempt 1 of 3\n",
      "\n",
      "\n",
      "attempting to download t2m for GCM JMA, for level surface, year 2014, month 9, in netcdf, attempt 1 of 3\n",
      "\n",
      "[                                        ] | 0% Completed |  0.2s"
     ]
    },
    {
     "name": "stderr",
     "output_type": "stream",
     "text": [
      "2022-09-23 09:36:48,733 INFO Welcome to the CDS\n"
     ]
    },
    {
     "name": "stdout",
     "output_type": "stream",
     "text": [
      "[                                        ] | 0% Completed |  0.3s"
     ]
    },
    {
     "name": "stderr",
     "output_type": "stream",
     "text": [
      "2022-09-23 09:36:48,735 INFO Welcome to the CDS\n",
      "2022-09-23 09:36:48,736 INFO Sending request to https://cds.climate.copernicus.eu/api/v2/resources/seasonal-monthly-single-levels\n",
      "2022-09-23 09:36:48,740 INFO Sending request to https://cds.climate.copernicus.eu/api/v2/resources/seasonal-monthly-single-levels\n"
     ]
    },
    {
     "name": "stdout",
     "output_type": "stream",
     "text": [
      "[                                        ] | 0% Completed |  0.6s"
     ]
    },
    {
     "name": "stderr",
     "output_type": "stream",
     "text": [
      "2022-09-23 09:36:49,080 INFO Request is queued\n"
     ]
    },
    {
     "name": "stdout",
     "output_type": "stream",
     "text": [
      "[                                        ] | 0% Completed |  0.7s"
     ]
    },
    {
     "name": "stderr",
     "output_type": "stream",
     "text": [
      "2022-09-23 09:36:49,153 INFO Request is completed\n",
      "2022-09-23 09:36:49,155 INFO Downloading https://download-0015-clone.copernicus-climate.eu/cache-compute-0015/cache/data7/adaptor.mars.external-1663818546.9559722-18368-10-5653efc2-85d0-4c42-b9e2-fa8e5227fe38.nc to /media/nicolasf/END19101/ICU/data/CDS/JMA/T2M/ensemble_seas_forecasts_t2m_from_2014_09_JMA.netcdf (719.2K)\n"
     ]
    },
    {
     "name": "stdout",
     "output_type": "stream",
     "text": [
      "[                                        ] | 0% Completed |  1.0s"
     ]
    },
    {
     "name": "stderr",
     "output_type": "stream",
     "text": [
      "  0%|                                                                                                                 | 0.00/719k [00:00<?, ?B/s]"
     ]
    },
    {
     "name": "stdout",
     "output_type": "stream",
     "text": [
      "[                                        ] | 0% Completed |  1.3s"
     ]
    },
    {
     "name": "stderr",
     "output_type": "stream",
     "text": [
      "  1%|█▏                                                                                                      | 8.00k/719k [00:00<00:25, 28.2kB/s]"
     ]
    },
    {
     "name": "stdout",
     "output_type": "stream",
     "text": [
      "[                                        ] | 0% Completed |  1.6s"
     ]
    },
    {
     "name": "stderr",
     "output_type": "stream",
     "text": [
      "  5%|████▉                                                                                                   | 34.0k/719k [00:00<00:10, 64.8kB/s]"
     ]
    },
    {
     "name": "stdout",
     "output_type": "stream",
     "text": [
      "[                                        ] | 0% Completed |  1.9s"
     ]
    },
    {
     "name": "stderr",
     "output_type": "stream",
     "text": [
      " 13%|█████████████▍                                                                                           | 92.0k/719k [00:00<00:05, 127kB/s]2022-09-23 09:36:50,388 INFO Request is failed\n",
      "2022-09-23 09:36:50,390 ERROR Message: no data is available within your requested subset\n",
      "2022-09-23 09:36:50,392 ERROR Reason:  Request returned no data\n",
      "2022-09-23 09:36:50,393 ERROR   Traceback (most recent call last):\n",
      "2022-09-23 09:36:50,395 ERROR     File \"/opt/cdstoolbox/cdscompute/cdscompute/cdshandlers/services/handler.py\", line 59, in handle_request\n",
      "2022-09-23 09:36:50,397 ERROR       result = cached(context.method, proc, context, context.args, context.kwargs)\n",
      "2022-09-23 09:36:50,399 ERROR     File \"/opt/cdstoolbox/cdscompute/cdscompute/caching.py\", line 108, in cached\n",
      "2022-09-23 09:36:50,401 ERROR       result = proc(context, *context.args, **context.kwargs)\n",
      "2022-09-23 09:36:50,402 ERROR     File \"/opt/cdstoolbox/cdscompute/cdscompute/services.py\", line 124, in __call__\n",
      "2022-09-23 09:36:50,404 ERROR       return p(*args, **kwargs)\n",
      "2022-09-23 09:36:50,405 ERROR     File \"/opt/cdstoolbox/cdscompute/cdscompute/services.py\", line 60, in __call__\n",
      "2022-09-23 09:36:50,406 ERROR       return self.proc(context, *args, **kwargs)\n",
      "2022-09-23 09:36:50,410 ERROR     File \"/home/cds/cdsservices/services/mars/mars.py\", line 52, in external\n",
      "2022-09-23 09:36:50,410 ERROR       return mars(context, request, **kwargs)\n",
      "2022-09-23 09:36:50,411 ERROR     File \"/home/cds/cdsservices/services/mars/mars.py\", line 19, in mars\n",
      "2022-09-23 09:36:50,412 ERROR       execute_mars(context, requests)\n",
      "2022-09-23 09:36:50,413 ERROR     File \"/home/cds/cdsservices/services/mars/execute_mars.py\", line 25, in execute_mars\n",
      "2022-09-23 09:36:50,414 ERROR       raise NoDataException(\"Request returned no data\", '')\n",
      "2022-09-23 09:36:50,415 ERROR   cdsinf.exceptions.NoDataException: Request returned no data\n"
     ]
    },
    {
     "name": "stdout",
     "output_type": "stream",
     "text": [
      "\n",
      "failure to download or save /media/nicolasf/END19101/ICU/data/CDS/UKMO/T2M/ensemble_seas_forecasts_t2m_from_2014_09_UKMO.netcdf\n",
      "\n",
      "\n",
      "attempting to download t2m for GCM UKMO, for level surface, year 2014, month 9, in netcdf, attempt 2 of 3\n",
      "\n",
      "[                                        ] | 0% Completed |  2.1s"
     ]
    },
    {
     "name": "stderr",
     "output_type": "stream",
     "text": [
      " 28%|██████████████████████████████                                                                            | 204k/719k [00:01<00:02, 230kB/s]"
     ]
    },
    {
     "name": "stdout",
     "output_type": "stream",
     "text": [
      "[                                        ] | 0% Completed |  2.2s"
     ]
    },
    {
     "name": "stderr",
     "output_type": "stream",
     "text": [
      "2022-09-23 09:36:50,715 INFO Welcome to the CDS\n",
      "2022-09-23 09:36:50,716 INFO Sending request to https://cds.climate.copernicus.eu/api/v2/resources/seasonal-monthly-single-levels\n"
     ]
    },
    {
     "name": "stdout",
     "output_type": "stream",
     "text": [
      "[                                        ] | 0% Completed |  2.4s"
     ]
    },
    {
     "name": "stderr",
     "output_type": "stream",
     "text": [
      " 58%|█████████████████████████████████████████████████████████████▉                                            | 420k/719k [00:01<00:00, 417kB/s]"
     ]
    },
    {
     "name": "stdout",
     "output_type": "stream",
     "text": [
      "[                                        ] | 0% Completed |  2.5s"
     ]
    },
    {
     "name": "stderr",
     "output_type": "stream",
     "text": [
      "2022-09-23 09:36:51,049 INFO Request is queued\n",
      "                                                                                                                                                 "
     ]
    },
    {
     "name": "stdout",
     "output_type": "stream",
     "text": [
      "[                                        ] | 0% Completed |  2.6s"
     ]
    },
    {
     "name": "stderr",
     "output_type": "stream",
     "text": [
      "2022-09-23 09:36:51,080 INFO Download rate 374.1K/s\n"
     ]
    },
    {
     "name": "stdout",
     "output_type": "stream",
     "text": [
      "[                                        ] | 0% Completed |  3.0s\n",
      "/media/nicolasf/END19101/ICU/data/CDS/JMA/T2M/ensemble_seas_forecasts_t2m_from_2014_09_JMA.netcdf downloaded OK\n",
      "\n",
      "[####################                    ] | 50% Completed |  3.9s"
     ]
    },
    {
     "name": "stderr",
     "output_type": "stream",
     "text": [
      "2022-09-23 09:36:52,353 INFO Request is failed\n",
      "2022-09-23 09:36:52,355 ERROR Message: no data is available within your requested subset\n",
      "2022-09-23 09:36:52,357 ERROR Reason:  Request returned no data\n",
      "2022-09-23 09:36:52,359 ERROR   Traceback (most recent call last):\n",
      "2022-09-23 09:36:52,361 ERROR     File \"/opt/cdstoolbox/cdscompute/cdscompute/cdshandlers/services/handler.py\", line 59, in handle_request\n",
      "2022-09-23 09:36:52,362 ERROR       result = cached(context.method, proc, context, context.args, context.kwargs)\n",
      "2022-09-23 09:36:52,364 ERROR     File \"/opt/cdstoolbox/cdscompute/cdscompute/caching.py\", line 108, in cached\n",
      "2022-09-23 09:36:52,366 ERROR       result = proc(context, *context.args, **context.kwargs)\n",
      "2022-09-23 09:36:52,367 ERROR     File \"/opt/cdstoolbox/cdscompute/cdscompute/services.py\", line 124, in __call__\n",
      "2022-09-23 09:36:52,369 ERROR       return p(*args, **kwargs)\n",
      "2022-09-23 09:36:52,371 ERROR     File \"/opt/cdstoolbox/cdscompute/cdscompute/services.py\", line 60, in __call__\n",
      "2022-09-23 09:36:52,372 ERROR       return self.proc(context, *args, **kwargs)\n",
      "2022-09-23 09:36:52,374 ERROR     File \"/home/cds/cdsservices/services/mars/mars.py\", line 52, in external\n",
      "2022-09-23 09:36:52,375 ERROR       return mars(context, request, **kwargs)\n",
      "2022-09-23 09:36:52,376 ERROR     File \"/home/cds/cdsservices/services/mars/mars.py\", line 19, in mars\n",
      "2022-09-23 09:36:52,378 ERROR       execute_mars(context, requests)\n",
      "2022-09-23 09:36:52,379 ERROR     File \"/home/cds/cdsservices/services/mars/execute_mars.py\", line 25, in execute_mars\n",
      "2022-09-23 09:36:52,380 ERROR       raise NoDataException(\"Request returned no data\", '')\n",
      "2022-09-23 09:36:52,381 ERROR   cdsinf.exceptions.NoDataException: Request returned no data\n"
     ]
    },
    {
     "name": "stdout",
     "output_type": "stream",
     "text": [
      "\n",
      "failure to download or save /media/nicolasf/END19101/ICU/data/CDS/UKMO/T2M/ensemble_seas_forecasts_t2m_from_2014_09_UKMO.netcdf\n",
      "\n",
      "\n",
      "attempting to download t2m for GCM UKMO, for level surface, year 2014, month 9, in netcdf, attempt 3 of 3\n",
      "\n",
      "[####################                    ] | 50% Completed |  4.2s"
     ]
    },
    {
     "name": "stderr",
     "output_type": "stream",
     "text": [
      "2022-09-23 09:36:52,684 INFO Welcome to the CDS\n",
      "2022-09-23 09:36:52,686 INFO Sending request to https://cds.climate.copernicus.eu/api/v2/resources/seasonal-monthly-single-levels\n"
     ]
    },
    {
     "name": "stdout",
     "output_type": "stream",
     "text": [
      "[####################                    ] | 50% Completed |  4.5s"
     ]
    },
    {
     "name": "stderr",
     "output_type": "stream",
     "text": [
      "2022-09-23 09:36:52,997 INFO Request is queued\n"
     ]
    },
    {
     "name": "stdout",
     "output_type": "stream",
     "text": [
      "[####################                    ] | 50% Completed |  5.8s"
     ]
    },
    {
     "name": "stderr",
     "output_type": "stream",
     "text": [
      "2022-09-23 09:36:54,303 INFO Request is failed\n",
      "2022-09-23 09:36:54,304 ERROR Message: no data is available within your requested subset\n",
      "2022-09-23 09:36:54,304 ERROR Reason:  Request returned no data\n",
      "2022-09-23 09:36:54,305 ERROR   Traceback (most recent call last):\n",
      "2022-09-23 09:36:54,305 ERROR     File \"/opt/cdstoolbox/cdscompute/cdscompute/cdshandlers/services/handler.py\", line 59, in handle_request\n",
      "2022-09-23 09:36:54,305 ERROR       result = cached(context.method, proc, context, context.args, context.kwargs)\n",
      "2022-09-23 09:36:54,306 ERROR     File \"/opt/cdstoolbox/cdscompute/cdscompute/caching.py\", line 108, in cached\n",
      "2022-09-23 09:36:54,306 ERROR       result = proc(context, *context.args, **context.kwargs)\n",
      "2022-09-23 09:36:54,307 ERROR     File \"/opt/cdstoolbox/cdscompute/cdscompute/services.py\", line 124, in __call__\n",
      "2022-09-23 09:36:54,307 ERROR       return p(*args, **kwargs)\n",
      "2022-09-23 09:36:54,307 ERROR     File \"/opt/cdstoolbox/cdscompute/cdscompute/services.py\", line 60, in __call__\n",
      "2022-09-23 09:36:54,307 ERROR       return self.proc(context, *args, **kwargs)\n",
      "2022-09-23 09:36:54,308 ERROR     File \"/home/cds/cdsservices/services/mars/mars.py\", line 52, in external\n",
      "2022-09-23 09:36:54,308 ERROR       return mars(context, request, **kwargs)\n",
      "2022-09-23 09:36:54,308 ERROR     File \"/home/cds/cdsservices/services/mars/mars.py\", line 19, in mars\n",
      "2022-09-23 09:36:54,309 ERROR       execute_mars(context, requests)\n",
      "2022-09-23 09:36:54,309 ERROR     File \"/home/cds/cdsservices/services/mars/execute_mars.py\", line 25, in execute_mars\n",
      "2022-09-23 09:36:54,310 ERROR       raise NoDataException(\"Request returned no data\", '')\n",
      "2022-09-23 09:36:54,310 ERROR   cdsinf.exceptions.NoDataException: Request returned no data\n"
     ]
    },
    {
     "name": "stdout",
     "output_type": "stream",
     "text": [
      "\n",
      "failure to download or save /media/nicolasf/END19101/ICU/data/CDS/UKMO/T2M/ensemble_seas_forecasts_t2m_from_2014_09_UKMO.netcdf\n",
      "\n",
      "[########################################] | 100% Completed |  5.9s\n",
      "[                                        ] | 0% Completed |  0.0s\n",
      "attempting to download t2m for GCM JMA, for level surface, year 2015, month 9, in netcdf, attempt 1 of 3\n",
      "\n",
      "\n",
      "attempting to download t2m for GCM UKMO, for level surface, year 2015, month 9, in netcdf, attempt 1 of 3\n",
      "\n",
      "[                                        ] | 0% Completed |  0.2s"
     ]
    },
    {
     "name": "stderr",
     "output_type": "stream",
     "text": [
      "2022-09-23 09:36:54,630 INFO Welcome to the CDS\n"
     ]
    },
    {
     "name": "stdout",
     "output_type": "stream",
     "text": [
      "[                                        ] | 0% Completed |  0.3s"
     ]
    },
    {
     "name": "stderr",
     "output_type": "stream",
     "text": [
      "2022-09-23 09:36:54,632 INFO Welcome to the CDS\n",
      "2022-09-23 09:36:54,634 INFO Sending request to https://cds.climate.copernicus.eu/api/v2/resources/seasonal-monthly-single-levels\n",
      "2022-09-23 09:36:54,638 INFO Sending request to https://cds.climate.copernicus.eu/api/v2/resources/seasonal-monthly-single-levels\n"
     ]
    },
    {
     "name": "stdout",
     "output_type": "stream",
     "text": [
      "[                                        ] | 0% Completed |  0.6s"
     ]
    },
    {
     "name": "stderr",
     "output_type": "stream",
     "text": [
      "2022-09-23 09:36:54,970 INFO Request is queued\n"
     ]
    },
    {
     "name": "stdout",
     "output_type": "stream",
     "text": [
      "[                                        ] | 0% Completed |  0.7s"
     ]
    },
    {
     "name": "stderr",
     "output_type": "stream",
     "text": [
      "2022-09-23 09:36:55,050 INFO Request is completed\n",
      "2022-09-23 09:36:55,051 INFO Downloading https://download-0019.copernicus-climate.eu/cache-compute-0019/cache/data0/adaptor.mars.external-1663818556.7046304-5955-2-a2d92d3a-2b3b-4617-b728-34a10a279772.nc to /media/nicolasf/END19101/ICU/data/CDS/JMA/T2M/ensemble_seas_forecasts_t2m_from_2015_09_JMA.netcdf (719.2K)\n"
     ]
    },
    {
     "name": "stdout",
     "output_type": "stream",
     "text": [
      "[                                        ] | 0% Completed |  1.9s"
     ]
    },
    {
     "name": "stderr",
     "output_type": "stream",
     "text": [
      "2022-09-23 09:36:56,277 INFO Request is failed\n",
      "2022-09-23 09:36:56,278 ERROR Message: no data is available within your requested subset\n",
      "2022-09-23 09:36:56,280 ERROR Reason:  Request returned no data\n",
      "2022-09-23 09:36:56,282 ERROR   Traceback (most recent call last):\n",
      "2022-09-23 09:36:56,283 ERROR     File \"/opt/cdstoolbox/cdscompute/cdscompute/cdshandlers/services/handler.py\", line 59, in handle_request\n",
      "2022-09-23 09:36:56,285 ERROR       result = cached(context.method, proc, context, context.args, context.kwargs)\n",
      "2022-09-23 09:36:56,289 ERROR     File \"/opt/cdstoolbox/cdscompute/cdscompute/caching.py\", line 108, in cached\n",
      "2022-09-23 09:36:56,290 ERROR       result = proc(context, *context.args, **context.kwargs)\n",
      "2022-09-23 09:36:56,292 ERROR     File \"/opt/cdstoolbox/cdscompute/cdscompute/services.py\", line 124, in __call__\n",
      "2022-09-23 09:36:56,293 ERROR       return p(*args, **kwargs)\n",
      "2022-09-23 09:36:56,295 ERROR     File \"/opt/cdstoolbox/cdscompute/cdscompute/services.py\", line 60, in __call__\n",
      "2022-09-23 09:36:56,297 ERROR       return self.proc(context, *args, **kwargs)\n",
      "2022-09-23 09:36:56,301 ERROR     File \"/home/cds/cdsservices/services/mars/mars.py\", line 52, in external\n",
      "2022-09-23 09:36:56,303 ERROR       return mars(context, request, **kwargs)\n",
      "2022-09-23 09:36:56,305 ERROR     File \"/home/cds/cdsservices/services/mars/mars.py\", line 19, in mars\n",
      "  0%|                                                                                                                 | 0.00/719k [00:00<?, ?B/s]2022-09-23 09:36:56,308 ERROR       execute_mars(context, requests)\n",
      "2022-09-23 09:36:56,310 ERROR     File \"/home/cds/cdsservices/services/mars/execute_mars.py\", line 25, in execute_mars\n",
      "2022-09-23 09:36:56,311 ERROR       raise NoDataException(\"Request returned no data\", '')\n",
      "2022-09-23 09:36:56,313 ERROR   cdsinf.exceptions.NoDataException: Request returned no data\n"
     ]
    },
    {
     "name": "stdout",
     "output_type": "stream",
     "text": [
      "\n",
      "failure to download or save /media/nicolasf/END19101/ICU/data/CDS/UKMO/T2M/ensemble_seas_forecasts_t2m_from_2015_09_UKMO.netcdf\n",
      "\n",
      "\n",
      "attempting to download t2m for GCM UKMO, for level surface, year 2015, month 9, in netcdf, attempt 2 of 3\n",
      "\n",
      "[                                        ] | 0% Completed |  2.2s"
     ]
    },
    {
     "name": "stderr",
     "output_type": "stream",
     "text": [
      "  2%|██▎                                                                                                     | 16.0k/719k [00:00<00:12, 57.6kB/s]2022-09-23 09:36:56,619 INFO Welcome to the CDS\n",
      "2022-09-23 09:36:56,621 INFO Sending request to https://cds.climate.copernicus.eu/api/v2/resources/seasonal-monthly-single-levels\n"
     ]
    },
    {
     "name": "stdout",
     "output_type": "stream",
     "text": [
      "[                                        ] | 0% Completed |  2.5s"
     ]
    },
    {
     "name": "stderr",
     "output_type": "stream",
     "text": [
      " 10%|██████████                                                                                               | 69.0k/719k [00:00<00:05, 133kB/s]2022-09-23 09:36:56,943 INFO Request is queued\n"
     ]
    },
    {
     "name": "stdout",
     "output_type": "stream",
     "text": [
      "[                                        ] | 0% Completed |  2.8s"
     ]
    },
    {
     "name": "stderr",
     "output_type": "stream",
     "text": [
      " 13%|█████████████▌                                                                                           | 93.0k/719k [00:00<00:05, 110kB/s]"
     ]
    },
    {
     "name": "stdout",
     "output_type": "stream",
     "text": [
      "[                                        ] | 0% Completed |  3.1s"
     ]
    },
    {
     "name": "stderr",
     "output_type": "stream",
     "text": [
      " 28%|█████████████████████████████▎                                                                            | 199k/719k [00:01<00:02, 212kB/s]"
     ]
    },
    {
     "name": "stdout",
     "output_type": "stream",
     "text": [
      "[                                        ] | 0% Completed |  3.4s"
     ]
    },
    {
     "name": "stderr",
     "output_type": "stream",
     "text": [
      " 59%|██████████████████████████████████████████████████████████████▋                                           | 425k/719k [00:01<00:00, 419kB/s]"
     ]
    },
    {
     "name": "stdout",
     "output_type": "stream",
     "text": [
      "[                                        ] | 0% Completed |  3.5s"
     ]
    },
    {
     "name": "stderr",
     "output_type": "stream",
     "text": [
      "2022-09-23 09:36:57,896 INFO Download rate 252.8K/s                                                                                              \n"
     ]
    },
    {
     "name": "stdout",
     "output_type": "stream",
     "text": [
      "[                                        ] | 0% Completed |  3.9s"
     ]
    },
    {
     "name": "stderr",
     "output_type": "stream",
     "text": [
      "2022-09-23 09:36:58,248 INFO Request is failed\n",
      "2022-09-23 09:36:58,250 ERROR Message: no data is available within your requested subset\n",
      "2022-09-23 09:36:58,252 ERROR Reason:  Request returned no data\n",
      "2022-09-23 09:36:58,254 ERROR   Traceback (most recent call last):\n",
      "2022-09-23 09:36:58,257 ERROR     File \"/opt/cdstoolbox/cdscompute/cdscompute/cdshandlers/services/handler.py\", line 59, in handle_request\n",
      "2022-09-23 09:36:58,259 ERROR       result = cached(context.method, proc, context, context.args, context.kwargs)\n",
      "2022-09-23 09:36:58,261 ERROR     File \"/opt/cdstoolbox/cdscompute/cdscompute/caching.py\", line 108, in cached\n",
      "2022-09-23 09:36:58,262 ERROR       result = proc(context, *context.args, **context.kwargs)\n",
      "2022-09-23 09:36:58,264 ERROR     File \"/opt/cdstoolbox/cdscompute/cdscompute/services.py\", line 124, in __call__\n",
      "2022-09-23 09:36:58,266 ERROR       return p(*args, **kwargs)\n",
      "2022-09-23 09:36:58,268 ERROR     File \"/opt/cdstoolbox/cdscompute/cdscompute/services.py\", line 60, in __call__\n",
      "2022-09-23 09:36:58,270 ERROR       return self.proc(context, *args, **kwargs)\n",
      "2022-09-23 09:36:58,272 ERROR     File \"/home/cds/cdsservices/services/mars/mars.py\", line 52, in external\n",
      "2022-09-23 09:36:58,274 ERROR       return mars(context, request, **kwargs)\n",
      "2022-09-23 09:36:58,275 ERROR     File \"/home/cds/cdsservices/services/mars/mars.py\", line 19, in mars\n",
      "2022-09-23 09:36:58,277 ERROR       execute_mars(context, requests)\n",
      "2022-09-23 09:36:58,279 ERROR     File \"/home/cds/cdsservices/services/mars/execute_mars.py\", line 25, in execute_mars\n",
      "2022-09-23 09:36:58,281 ERROR       raise NoDataException(\"Request returned no data\", '')\n",
      "2022-09-23 09:36:58,282 ERROR   cdsinf.exceptions.NoDataException: Request returned no data\n"
     ]
    },
    {
     "name": "stdout",
     "output_type": "stream",
     "text": [
      "\n",
      "/media/nicolasf/END19101/ICU/data/CDS/JMA/T2M/ensemble_seas_forecasts_t2m_from_2015_09_JMA.netcdf downloaded OK\n",
      "\n",
      "\n",
      "failure to download or save /media/nicolasf/END19101/ICU/data/CDS/UKMO/T2M/ensemble_seas_forecasts_t2m_from_2015_09_UKMO.netcdf\n",
      "\n",
      "\n",
      "attempting to download t2m for GCM UKMO, for level surface, year 2015, month 9, in netcdf, attempt 3 of 3\n",
      "\n",
      "[####################                    ] | 50% Completed |  4.2s"
     ]
    },
    {
     "name": "stderr",
     "output_type": "stream",
     "text": [
      "2022-09-23 09:36:58,587 INFO Welcome to the CDS\n",
      "2022-09-23 09:36:58,589 INFO Sending request to https://cds.climate.copernicus.eu/api/v2/resources/seasonal-monthly-single-levels\n"
     ]
    },
    {
     "name": "stdout",
     "output_type": "stream",
     "text": [
      "[####################                    ] | 50% Completed |  4.6s"
     ]
    },
    {
     "name": "stderr",
     "output_type": "stream",
     "text": [
      "2022-09-23 09:36:58,932 INFO Request is queued\n"
     ]
    },
    {
     "name": "stdout",
     "output_type": "stream",
     "text": [
      "[####################                    ] | 50% Completed |  5.8s"
     ]
    },
    {
     "name": "stderr",
     "output_type": "stream",
     "text": [
      "2022-09-23 09:37:00,241 INFO Request is failed\n",
      "2022-09-23 09:37:00,244 ERROR Message: no data is available within your requested subset\n",
      "2022-09-23 09:37:00,247 ERROR Reason:  Request returned no data\n"
     ]
    },
    {
     "name": "stdout",
     "output_type": "stream",
     "text": [
      "[####################                    ] | 50% Completed |  5.9s"
     ]
    },
    {
     "name": "stderr",
     "output_type": "stream",
     "text": [
      "2022-09-23 09:37:00,249 ERROR   Traceback (most recent call last):\n",
      "2022-09-23 09:37:00,252 ERROR     File \"/opt/cdstoolbox/cdscompute/cdscompute/cdshandlers/services/handler.py\", line 59, in handle_request\n",
      "2022-09-23 09:37:00,254 ERROR       result = cached(context.method, proc, context, context.args, context.kwargs)\n",
      "2022-09-23 09:37:00,256 ERROR     File \"/opt/cdstoolbox/cdscompute/cdscompute/caching.py\", line 108, in cached\n",
      "2022-09-23 09:37:00,258 ERROR       result = proc(context, *context.args, **context.kwargs)\n",
      "2022-09-23 09:37:00,260 ERROR     File \"/opt/cdstoolbox/cdscompute/cdscompute/services.py\", line 124, in __call__\n",
      "2022-09-23 09:37:00,262 ERROR       return p(*args, **kwargs)\n",
      "2022-09-23 09:37:00,264 ERROR     File \"/opt/cdstoolbox/cdscompute/cdscompute/services.py\", line 60, in __call__\n",
      "2022-09-23 09:37:00,266 ERROR       return self.proc(context, *args, **kwargs)\n",
      "2022-09-23 09:37:00,268 ERROR     File \"/home/cds/cdsservices/services/mars/mars.py\", line 52, in external\n",
      "2022-09-23 09:37:00,270 ERROR       return mars(context, request, **kwargs)\n",
      "2022-09-23 09:37:00,272 ERROR     File \"/home/cds/cdsservices/services/mars/mars.py\", line 19, in mars\n",
      "2022-09-23 09:37:00,273 ERROR       execute_mars(context, requests)\n",
      "2022-09-23 09:37:00,275 ERROR     File \"/home/cds/cdsservices/services/mars/execute_mars.py\", line 25, in execute_mars\n",
      "2022-09-23 09:37:00,276 ERROR       raise NoDataException(\"Request returned no data\", '')\n",
      "2022-09-23 09:37:00,277 ERROR   cdsinf.exceptions.NoDataException: Request returned no data\n"
     ]
    },
    {
     "name": "stdout",
     "output_type": "stream",
     "text": [
      "\n",
      "failure to download or save /media/nicolasf/END19101/ICU/data/CDS/UKMO/T2M/ensemble_seas_forecasts_t2m_from_2015_09_UKMO.netcdf\n",
      "\n",
      "[########################################] | 100% Completed |  6.0s\n",
      "[                                        ] | 0% Completed |  0.0s\n",
      "attempting to download t2m for GCM JMA, for level surface, year 2016, month 9, in netcdf, attempt 1 of 3\n",
      "\n",
      "attempting to download t2m for GCM UKMO, for level surface, year 2016, month 9, in netcdf, attempt 1 of 3\n",
      "\n",
      "\n",
      "[                                        ] | 0% Completed |  0.2s"
     ]
    },
    {
     "name": "stderr",
     "output_type": "stream",
     "text": [
      "2022-09-23 09:37:00,656 INFO Welcome to the CDS\n",
      "2022-09-23 09:37:00,660 INFO Sending request to https://cds.climate.copernicus.eu/api/v2/resources/seasonal-monthly-single-levels\n"
     ]
    },
    {
     "name": "stdout",
     "output_type": "stream",
     "text": [
      "[                                        ] | 0% Completed |  0.3s"
     ]
    },
    {
     "name": "stderr",
     "output_type": "stream",
     "text": [
      "2022-09-23 09:37:00,660 INFO Welcome to the CDS\n",
      "2022-09-23 09:37:00,670 INFO Sending request to https://cds.climate.copernicus.eu/api/v2/resources/seasonal-monthly-single-levels\n"
     ]
    },
    {
     "name": "stdout",
     "output_type": "stream",
     "text": [
      "[                                        ] | 0% Completed |  0.6s"
     ]
    },
    {
     "name": "stderr",
     "output_type": "stream",
     "text": [
      "2022-09-23 09:37:01,025 INFO Request is queued\n"
     ]
    },
    {
     "name": "stdout",
     "output_type": "stream",
     "text": [
      "[                                        ] | 0% Completed |  0.7s"
     ]
    },
    {
     "name": "stderr",
     "output_type": "stream",
     "text": [
      "2022-09-23 09:37:01,095 INFO Request is completed\n",
      "2022-09-23 09:37:01,097 INFO Downloading https://download-0004-clone.copernicus-climate.eu/cache-compute-0004/cache/data8/adaptor.mars.external-1663818569.1998475-20563-2-9ac5907e-19a6-426c-ab03-1c7a61904a6d.nc to /media/nicolasf/END19101/ICU/data/CDS/JMA/T2M/ensemble_seas_forecasts_t2m_from_2016_09_JMA.netcdf (719.2K)\n"
     ]
    },
    {
     "name": "stdout",
     "output_type": "stream",
     "text": [
      "[                                        ] | 0% Completed |  1.0s"
     ]
    },
    {
     "name": "stderr",
     "output_type": "stream",
     "text": [
      "  0%|                                                                                                                 | 0.00/719k [00:00<?, ?B/s]"
     ]
    },
    {
     "name": "stdout",
     "output_type": "stream",
     "text": [
      "[                                        ] | 0% Completed |  1.3s"
     ]
    },
    {
     "name": "stderr",
     "output_type": "stream",
     "text": [
      "  1%|█▏                                                                                                      | 8.00k/719k [00:00<00:25, 28.3kB/s]"
     ]
    },
    {
     "name": "stdout",
     "output_type": "stream",
     "text": [
      "[                                        ] | 0% Completed |  1.6s"
     ]
    },
    {
     "name": "stderr",
     "output_type": "stream",
     "text": [
      "  5%|████▉                                                                                                   | 34.0k/719k [00:00<00:10, 65.0kB/s]"
     ]
    },
    {
     "name": "stdout",
     "output_type": "stream",
     "text": [
      "[                                        ] | 0% Completed |  1.9s"
     ]
    },
    {
     "name": "stderr",
     "output_type": "stream",
     "text": [
      " 13%|█████████████▍                                                                                           | 92.0k/719k [00:00<00:05, 127kB/s]2022-09-23 09:37:02,331 INFO Request is failed\n",
      "2022-09-23 09:37:02,333 ERROR Message: no data is available within your requested subset\n",
      "2022-09-23 09:37:02,335 ERROR Reason:  Request returned no data\n",
      "2022-09-23 09:37:02,336 ERROR   Traceback (most recent call last):\n",
      "2022-09-23 09:37:02,338 ERROR     File \"/opt/cdstoolbox/cdscompute/cdscompute/cdshandlers/services/handler.py\", line 59, in handle_request\n",
      "2022-09-23 09:37:02,340 ERROR       result = cached(context.method, proc, context, context.args, context.kwargs)\n",
      "2022-09-23 09:37:02,342 ERROR     File \"/opt/cdstoolbox/cdscompute/cdscompute/caching.py\", line 108, in cached\n",
      "2022-09-23 09:37:02,343 ERROR       result = proc(context, *context.args, **context.kwargs)\n",
      "2022-09-23 09:37:02,345 ERROR     File \"/opt/cdstoolbox/cdscompute/cdscompute/services.py\", line 124, in __call__\n",
      "2022-09-23 09:37:02,347 ERROR       return p(*args, **kwargs)\n",
      "2022-09-23 09:37:02,348 ERROR     File \"/opt/cdstoolbox/cdscompute/cdscompute/services.py\", line 60, in __call__\n",
      "2022-09-23 09:37:02,350 ERROR       return self.proc(context, *args, **kwargs)\n",
      "2022-09-23 09:37:02,352 ERROR     File \"/home/cds/cdsservices/services/mars/mars.py\", line 52, in external\n",
      "2022-09-23 09:37:02,354 ERROR       return mars(context, request, **kwargs)\n",
      "2022-09-23 09:37:02,355 ERROR     File \"/home/cds/cdsservices/services/mars/mars.py\", line 19, in mars\n",
      "2022-09-23 09:37:02,357 ERROR       execute_mars(context, requests)\n",
      "2022-09-23 09:37:02,359 ERROR     File \"/home/cds/cdsservices/services/mars/execute_mars.py\", line 25, in execute_mars\n",
      "2022-09-23 09:37:02,360 ERROR       raise NoDataException(\"Request returned no data\", '')\n",
      "2022-09-23 09:37:02,361 ERROR   cdsinf.exceptions.NoDataException: Request returned no data\n"
     ]
    },
    {
     "name": "stdout",
     "output_type": "stream",
     "text": [
      "\n",
      "failure to download or save /media/nicolasf/END19101/ICU/data/CDS/UKMO/T2M/ensemble_seas_forecasts_t2m_from_2016_09_UKMO.netcdf\n",
      "\n",
      "\n",
      "attempting to download t2m for GCM UKMO, for level surface, year 2016, month 9, in netcdf, attempt 2 of 3\n",
      "\n",
      "[                                        ] | 0% Completed |  2.2s"
     ]
    },
    {
     "name": "stderr",
     "output_type": "stream",
     "text": [
      " 29%|██████████████████████████████▎                                                                           | 206k/719k [00:01<00:02, 233kB/s]2022-09-23 09:37:02,665 INFO Welcome to the CDS\n",
      "2022-09-23 09:37:02,667 INFO Sending request to https://cds.climate.copernicus.eu/api/v2/resources/seasonal-monthly-single-levels\n"
     ]
    },
    {
     "name": "stdout",
     "output_type": "stream",
     "text": [
      "[                                        ] | 0% Completed |  2.4s"
     ]
    },
    {
     "name": "stderr",
     "output_type": "stream",
     "text": [
      " 59%|██████████████████████████████████████████████████████████████▏                                           | 422k/719k [00:01<00:00, 420kB/s]"
     ]
    },
    {
     "name": "stdout",
     "output_type": "stream",
     "text": [
      "[                                        ] | 0% Completed |  2.5s"
     ]
    },
    {
     "name": "stderr",
     "output_type": "stream",
     "text": [
      "2022-09-23 09:37:03,001 INFO Request is queued\n"
     ]
    },
    {
     "name": "stdout",
     "output_type": "stream",
     "text": [
      "[                                        ] | 0% Completed |  2.7s"
     ]
    },
    {
     "name": "stderr",
     "output_type": "stream",
     "text": [
      "2022-09-23 09:37:03,017 INFO Download rate 375K/s                                                                                                \n"
     ]
    },
    {
     "name": "stdout",
     "output_type": "stream",
     "text": [
      "[                                        ] | 0% Completed |  3.0s\n",
      "/media/nicolasf/END19101/ICU/data/CDS/JMA/T2M/ensemble_seas_forecasts_t2m_from_2016_09_JMA.netcdf downloaded OK\n",
      "\n",
      "[####################                    ] | 50% Completed |  3.9s"
     ]
    },
    {
     "name": "stderr",
     "output_type": "stream",
     "text": [
      "2022-09-23 09:37:04,308 INFO Request is failed\n",
      "2022-09-23 09:37:04,310 ERROR Message: no data is available within your requested subset\n",
      "2022-09-23 09:37:04,312 ERROR Reason:  Request returned no data\n",
      "2022-09-23 09:37:04,314 ERROR   Traceback (most recent call last):\n",
      "2022-09-23 09:37:04,318 ERROR     File \"/opt/cdstoolbox/cdscompute/cdscompute/cdshandlers/services/handler.py\", line 59, in handle_request\n",
      "2022-09-23 09:37:04,320 ERROR       result = cached(context.method, proc, context, context.args, context.kwargs)\n",
      "2022-09-23 09:37:04,322 ERROR     File \"/opt/cdstoolbox/cdscompute/cdscompute/caching.py\", line 108, in cached\n",
      "2022-09-23 09:37:04,324 ERROR       result = proc(context, *context.args, **context.kwargs)\n",
      "2022-09-23 09:37:04,326 ERROR     File \"/opt/cdstoolbox/cdscompute/cdscompute/services.py\", line 124, in __call__\n",
      "2022-09-23 09:37:04,329 ERROR       return p(*args, **kwargs)\n"
     ]
    },
    {
     "name": "stdout",
     "output_type": "stream",
     "text": [
      "[####################                    ] | 50% Completed |  4.0s"
     ]
    },
    {
     "name": "stderr",
     "output_type": "stream",
     "text": [
      "2022-09-23 09:37:04,333 ERROR     File \"/opt/cdstoolbox/cdscompute/cdscompute/services.py\", line 60, in __call__\n",
      "2022-09-23 09:37:04,335 ERROR       return self.proc(context, *args, **kwargs)\n",
      "2022-09-23 09:37:04,337 ERROR     File \"/home/cds/cdsservices/services/mars/mars.py\", line 52, in external\n",
      "2022-09-23 09:37:04,338 ERROR       return mars(context, request, **kwargs)\n",
      "2022-09-23 09:37:04,340 ERROR     File \"/home/cds/cdsservices/services/mars/mars.py\", line 19, in mars\n",
      "2022-09-23 09:37:04,342 ERROR       execute_mars(context, requests)\n",
      "2022-09-23 09:37:04,343 ERROR     File \"/home/cds/cdsservices/services/mars/execute_mars.py\", line 25, in execute_mars\n",
      "2022-09-23 09:37:04,344 ERROR       raise NoDataException(\"Request returned no data\", '')\n",
      "2022-09-23 09:37:04,345 ERROR   cdsinf.exceptions.NoDataException: Request returned no data\n"
     ]
    },
    {
     "name": "stdout",
     "output_type": "stream",
     "text": [
      "\n",
      "failure to download or save /media/nicolasf/END19101/ICU/data/CDS/UKMO/T2M/ensemble_seas_forecasts_t2m_from_2016_09_UKMO.netcdf\n",
      "\n",
      "\n",
      "attempting to download t2m for GCM UKMO, for level surface, year 2016, month 9, in netcdf, attempt 3 of 3\n",
      "\n",
      "[####################                    ] | 50% Completed |  4.3s"
     ]
    },
    {
     "name": "stderr",
     "output_type": "stream",
     "text": [
      "2022-09-23 09:37:04,649 INFO Welcome to the CDS\n",
      "2022-09-23 09:37:04,650 INFO Sending request to https://cds.climate.copernicus.eu/api/v2/resources/seasonal-monthly-single-levels\n"
     ]
    },
    {
     "name": "stdout",
     "output_type": "stream",
     "text": [
      "[####################                    ] | 50% Completed |  4.6s"
     ]
    },
    {
     "name": "stderr",
     "output_type": "stream",
     "text": [
      "2022-09-23 09:37:04,971 INFO Request is queued\n"
     ]
    },
    {
     "name": "stdout",
     "output_type": "stream",
     "text": [
      "[####################                    ] | 50% Completed |  5.9s"
     ]
    },
    {
     "name": "stderr",
     "output_type": "stream",
     "text": [
      "2022-09-23 09:37:06,277 INFO Request is failed\n",
      "2022-09-23 09:37:06,278 ERROR Message: no data is available within your requested subset\n",
      "2022-09-23 09:37:06,280 ERROR Reason:  Request returned no data\n",
      "2022-09-23 09:37:06,282 ERROR   Traceback (most recent call last):\n",
      "2022-09-23 09:37:06,285 ERROR     File \"/opt/cdstoolbox/cdscompute/cdscompute/cdshandlers/services/handler.py\", line 59, in handle_request\n",
      "2022-09-23 09:37:06,287 ERROR       result = cached(context.method, proc, context, context.args, context.kwargs)\n",
      "2022-09-23 09:37:06,289 ERROR     File \"/opt/cdstoolbox/cdscompute/cdscompute/caching.py\", line 108, in cached\n",
      "2022-09-23 09:37:06,291 ERROR       result = proc(context, *context.args, **context.kwargs)\n",
      "2022-09-23 09:37:06,294 ERROR     File \"/opt/cdstoolbox/cdscompute/cdscompute/services.py\", line 124, in __call__\n",
      "2022-09-23 09:37:06,296 ERROR       return p(*args, **kwargs)\n",
      "2022-09-23 09:37:06,298 ERROR     File \"/opt/cdstoolbox/cdscompute/cdscompute/services.py\", line 60, in __call__\n",
      "2022-09-23 09:37:06,300 ERROR       return self.proc(context, *args, **kwargs)\n",
      "2022-09-23 09:37:06,302 ERROR     File \"/home/cds/cdsservices/services/mars/mars.py\", line 52, in external\n",
      "2022-09-23 09:37:06,304 ERROR       return mars(context, request, **kwargs)\n",
      "2022-09-23 09:37:06,306 ERROR     File \"/home/cds/cdsservices/services/mars/mars.py\", line 19, in mars\n",
      "2022-09-23 09:37:06,308 ERROR       execute_mars(context, requests)\n",
      "2022-09-23 09:37:06,309 ERROR     File \"/home/cds/cdsservices/services/mars/execute_mars.py\", line 25, in execute_mars\n",
      "2022-09-23 09:37:06,310 ERROR       raise NoDataException(\"Request returned no data\", '')\n",
      "2022-09-23 09:37:06,311 ERROR   cdsinf.exceptions.NoDataException: Request returned no data\n"
     ]
    },
    {
     "name": "stdout",
     "output_type": "stream",
     "text": [
      "\n",
      "failure to download or save /media/nicolasf/END19101/ICU/data/CDS/UKMO/T2M/ensemble_seas_forecasts_t2m_from_2016_09_UKMO.netcdf\n",
      "\n",
      "[########################################] | 100% Completed |  6.0s\n"
     ]
    }
   ],
   "source": [
    "for date in dates: \n",
    "    \n",
    "    downloaded_files = []\n",
    "\n",
    "    # for GCM in dict_systems.keys():\n",
    "    for GCM in ['UKMO','JMA']: \n",
    "        \n",
    "        if 'ECCC' in GCM: \n",
    "            \n",
    "            GCM_API_name = GCM.split('_')[0]\n",
    "            \n",
    "            GCM_path = gcm_path.joinpath(GCM).joinpath(varname.upper())\n",
    "            \n",
    "            print(f\"processing ECCC, path should be {str(GCM_path)}\")\n",
    "        \n",
    "            args = dict(GCM=GCM_API_name,\n",
    "            system=dict_systems[GCM],\n",
    "            varname=varname,\n",
    "            year=date.year,\n",
    "            month=date.month,\n",
    "            leadtimes=[1, 2, 3, 4, 5, 6],\n",
    "            opath=GCM_path,\n",
    "            domain=domains.domains[domain_name],\n",
    "            file_format='netcdf',\n",
    "            level='surface',\n",
    "            max_retry=3)\n",
    "        \n",
    "        else: \n",
    "\n",
    "            args = dict(GCM=GCM,\n",
    "            system=dict_systems[GCM],\n",
    "            varname=varname,\n",
    "            year=date.year,\n",
    "            month=date.month,\n",
    "            leadtimes=[1, 2, 3, 4, 5, 6],\n",
    "            opath=gcm_path.joinpath(GCM).joinpath(varname.upper()),\n",
    "            domain=domains.domains[domain_name],\n",
    "            file_format='netcdf',\n",
    "            level='surface',\n",
    "            max_retry=3)\n",
    "            \n",
    "\n",
    "        downloaded_files.append(delayed(C3S.download)(**args))\n",
    "\n",
    "    with ProgressBar():\n",
    "        downloaded_files = compute(downloaded_files)"
   ]
  },
  {
   "cell_type": "markdown",
   "id": "c73ccc21-f838-4dd8-a00d-baa068004e32",
   "metadata": {
    "papermill": {
     "duration": 0.088394,
     "end_time": "2022-09-22T03:49:38.616771",
     "exception": false,
     "start_time": "2022-09-22T03:49:38.528377",
     "status": "completed"
    },
    "tags": []
   },
   "source": [
    "### convert the notebook to HTML "
   ]
  },
  {
   "cell_type": "markdown",
   "id": "e686fff8-987c-4cdf-aa90-af2624e36fdc",
   "metadata": {
    "papermill": {
     "duration": 0.089818,
     "end_time": "2022-09-22T03:49:38.793748",
     "exception": false,
     "start_time": "2022-09-22T03:49:38.703930",
     "status": "completed"
    },
    "tags": []
   },
   "source": [
    "### Note: this does not work with papermill"
   ]
  },
  {
   "cell_type": "code",
   "execution_count": 28,
   "id": "b8bce410-39b2-4152-8e70-b4b2bccc8bd1",
   "metadata": {
    "execution": {
     "iopub.execute_input": "2022-09-22T03:49:38.981787Z",
     "iopub.status.busy": "2022-09-22T03:49:38.981578Z",
     "iopub.status.idle": "2022-09-22T03:49:39.002517Z",
     "shell.execute_reply": "2022-09-22T03:49:39.001777Z"
    },
    "papermill": {
     "duration": 0.117582,
     "end_time": "2022-09-22T03:49:39.003998",
     "exception": false,
     "start_time": "2022-09-22T03:49:38.886416",
     "status": "completed"
    },
    "tags": []
   },
   "outputs": [],
   "source": [
    "# jupyter = which('jupyter')\n",
    "\n",
    "# nb_name = ipynbname.name()\n",
    "\n",
    "# nb_name\n",
    "\n",
    "# cmd = f\"{jupyter} nbconvert --to html {nb_name}.ipynb\"\n",
    "\n",
    "# r = call(cmd, shell=True)"
   ]
  }
 ],
 "metadata": {
  "kernelspec": {
   "display_name": "Python 3 (ipykernel)",
   "language": "python",
   "name": "python3"
  },
  "language_info": {
   "codemirror_mode": {
    "name": "ipython",
    "version": 3
   },
   "file_extension": ".py",
   "mimetype": "text/x-python",
   "name": "python",
   "nbconvert_exporter": "python",
   "pygments_lexer": "ipython3",
   "version": "3.9.13"
  },
  "papermill": {
   "duration": 250.57206,
   "end_time": "2022-09-22T03:49:39.745510",
   "environment_variables": {},
   "exception": null,
   "input_path": "1_download_C3S_rolling_hindcasts.ipynb",
   "output_path": "1_download_C3S_rolling_hindcasts.ipynb",
   "parameters": {
    "lag": 0
   },
   "start_time": "2022-09-22T03:45:29.173450",
   "version": "1.2.1"
  }
 },
 "nbformat": 4,
 "nbformat_minor": 5
}
