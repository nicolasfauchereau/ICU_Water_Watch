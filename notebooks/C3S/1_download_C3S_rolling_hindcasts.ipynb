{
 "cells": [
  {
   "cell_type": "markdown",
   "id": "649f9533",
   "metadata": {
    "papermill": {
     "duration": 0.019961,
     "end_time": "2022-03-07T02:12:50.179201",
     "exception": false,
     "start_time": "2022-03-07T02:12:50.159240",
     "status": "completed"
    },
    "tags": []
   },
   "source": [
    "### download the rolling hindcasts for all GCMs from the Copernicus Climate Datastore"
   ]
  },
  {
   "cell_type": "code",
   "execution_count": 1,
   "id": "3c21dc7e",
   "metadata": {
    "papermill": {
     "duration": 0.030127,
     "end_time": "2022-03-07T02:12:50.224996",
     "exception": false,
     "start_time": "2022-03-07T02:12:50.194869",
     "status": "completed"
    },
    "tags": []
   },
   "outputs": [],
   "source": [
    "%load_ext autoreload\n",
    "%autoreload 2"
   ]
  },
  {
   "cell_type": "code",
   "execution_count": 2,
   "id": "d19a251f",
   "metadata": {
    "papermill": {
     "duration": 0.19219,
     "end_time": "2022-03-07T02:12:50.431845",
     "exception": false,
     "start_time": "2022-03-07T02:12:50.239655",
     "status": "completed"
    },
    "tags": []
   },
   "outputs": [],
   "source": [
    "import sys\n",
    "import pathlib\n",
    "from datetime import datetime\n",
    "from dateutil.relativedelta import relativedelta\n",
    "import dateparser"
   ]
  },
  {
   "cell_type": "code",
   "execution_count": 3,
   "id": "00ad77c5",
   "metadata": {
    "papermill": {
     "duration": 0.113266,
     "end_time": "2022-03-07T02:12:50.560389",
     "exception": false,
     "start_time": "2022-03-07T02:12:50.447123",
     "status": "completed"
    },
    "tags": []
   },
   "outputs": [],
   "source": [
    "from dask import delayed, compute\n",
    "from dask.diagnostics import ProgressBar"
   ]
  },
  {
   "cell_type": "code",
   "execution_count": 4,
   "id": "6229283e",
   "metadata": {
    "papermill": {
     "duration": 0.08991,
     "end_time": "2022-03-07T02:12:50.664797",
     "exception": false,
     "start_time": "2022-03-07T02:12:50.574887",
     "status": "completed"
    },
    "tags": []
   },
   "outputs": [],
   "source": [
    "import numpy as np"
   ]
  },
  {
   "cell_type": "code",
   "execution_count": 5,
   "id": "3648da48",
   "metadata": {
    "papermill": {
     "duration": 0.038301,
     "end_time": "2022-03-07T02:12:50.736706",
     "exception": false,
     "start_time": "2022-03-07T02:12:50.698405",
     "status": "completed"
    },
    "tags": []
   },
   "outputs": [],
   "source": [
    "HOME = pathlib.Path.home()"
   ]
  },
  {
   "cell_type": "code",
   "execution_count": 6,
   "id": "d2ac339c",
   "metadata": {
    "papermill": {
     "duration": 0.023633,
     "end_time": "2022-03-07T02:12:50.774867",
     "exception": false,
     "start_time": "2022-03-07T02:12:50.751234",
     "status": "completed"
    },
    "tags": []
   },
   "outputs": [],
   "source": [
    "CWD = pathlib.Path.cwd()"
   ]
  },
  {
   "cell_type": "code",
   "execution_count": 7,
   "id": "7fdfba2a",
   "metadata": {
    "papermill": {
     "duration": 0.027954,
     "end_time": "2022-03-07T02:12:50.817174",
     "exception": false,
     "start_time": "2022-03-07T02:12:50.789220",
     "status": "completed"
    },
    "tags": []
   },
   "outputs": [
    {
     "data": {
      "text/plain": [
       "PosixPath('/home/nicolasf/operational/ICU/development/hotspots/code/ICU_Water_Watch/notebooks/C3S')"
      ]
     },
     "execution_count": 7,
     "metadata": {},
     "output_type": "execute_result"
    }
   ],
   "source": [
    "CWD"
   ]
  },
  {
   "cell_type": "markdown",
   "id": "963108ba",
   "metadata": {
    "papermill": {
     "duration": 0.01554,
     "end_time": "2022-03-07T02:12:50.848267",
     "exception": false,
     "start_time": "2022-03-07T02:12:50.832727",
     "status": "completed"
    },
    "tags": []
   },
   "source": [
    "### import local functions for the downloading of the C3S forecasts "
   ]
  },
  {
   "cell_type": "code",
   "execution_count": 8,
   "id": "1e031d85",
   "metadata": {
    "papermill": {
     "duration": 0.026724,
     "end_time": "2022-03-07T02:12:50.890761",
     "exception": false,
     "start_time": "2022-03-07T02:12:50.864037",
     "status": "completed"
    },
    "tags": []
   },
   "outputs": [],
   "source": [
    "sys.path.append('../..')"
   ]
  },
  {
   "cell_type": "code",
   "execution_count": 9,
   "id": "e32ceec5",
   "metadata": {
    "papermill": {
     "duration": 13.232714,
     "end_time": "2022-03-07T02:13:04.138350",
     "exception": false,
     "start_time": "2022-03-07T02:12:50.905636",
     "status": "completed"
    },
    "tags": []
   },
   "outputs": [
    {
     "name": "stderr",
     "output_type": "stream",
     "text": [
      "/home/nicolasf/mambaforge/envs/ICU_ops/lib/python3.9/site-packages/statsmodels/compat/pandas.py:65: FutureWarning: pandas.Int64Index is deprecated and will be removed from pandas in a future version. Use pandas.Index with the appropriate dtype instead.\n",
      "  from pandas import Int64Index as NumericIndex\n"
     ]
    }
   ],
   "source": [
    "from ICU_Water_Watch import C3S, domains"
   ]
  },
  {
   "cell_type": "markdown",
   "id": "6a8884cb",
   "metadata": {
    "papermill": {
     "duration": 0.016849,
     "end_time": "2022-03-07T02:13:04.169268",
     "exception": false,
     "start_time": "2022-03-07T02:13:04.152419",
     "status": "completed"
    },
    "tags": []
   },
   "source": [
    "### parameters for papermill"
   ]
  },
  {
   "cell_type": "code",
   "execution_count": 10,
   "id": "03564e25",
   "metadata": {
    "papermill": {
     "duration": 0.035365,
     "end_time": "2022-03-07T02:13:04.219586",
     "exception": false,
     "start_time": "2022-03-07T02:13:04.184221",
     "status": "completed"
    },
    "tags": [
     "parameters"
    ]
   },
   "outputs": [],
   "source": [
    "provider = 'CDS' # should not change\n",
    "var_name = 'tprate' # should not change\n",
    "domain_name = \"Water_Watch\" # domain name, see below \n",
    "# if one wants to download other reforecasts than the ones corresponding to the current month\n",
    "lag = 0\n",
    "# path where to save the hindcasts / reforecasts\n",
    "gcm_path = f'/media/nicolasf/END19101/ICU/data/{provider}/operational/hindcasts'"
   ]
  },
  {
   "cell_type": "markdown",
   "id": "43744be0",
   "metadata": {
    "papermill": {
     "duration": 0.015076,
     "end_time": "2022-03-07T02:13:04.296342",
     "exception": false,
     "start_time": "2022-03-07T02:13:04.281266",
     "status": "completed"
    },
    "tags": []
   },
   "source": [
    "### casts the paths to `pathlib.Path` objects "
   ]
  },
  {
   "cell_type": "code",
   "execution_count": 11,
   "id": "a6a70430",
   "metadata": {
    "papermill": {
     "duration": 0.03438,
     "end_time": "2022-03-07T02:13:04.345203",
     "exception": false,
     "start_time": "2022-03-07T02:13:04.310823",
     "status": "completed"
    },
    "tags": []
   },
   "outputs": [],
   "source": [
    "gcm_path = pathlib.Path(gcm_path)"
   ]
  },
  {
   "cell_type": "markdown",
   "id": "4a8effb7",
   "metadata": {
    "papermill": {
     "duration": 0.014489,
     "end_time": "2022-03-07T02:13:04.374140",
     "exception": false,
     "start_time": "2022-03-07T02:13:04.359651",
     "status": "completed"
    },
    "tags": []
   },
   "source": [
    "### mapping GCMs to systems "
   ]
  },
  {
   "cell_type": "markdown",
   "id": "b18aba5a",
   "metadata": {
    "papermill": {
     "duration": 0.015644,
     "end_time": "2022-03-07T02:13:04.404335",
     "exception": false,
     "start_time": "2022-03-07T02:13:04.388691",
     "status": "completed"
    },
    "tags": []
   },
   "source": [
    "#### The mapping between the GCM name and the latest system version available for the forecasts needs to be checked [on the CDS website](https://cds.climate.copernicus.eu/)"
   ]
  },
  {
   "cell_type": "code",
   "execution_count": 12,
   "id": "54b0a1ca",
   "metadata": {
    "papermill": {
     "duration": 0.033508,
     "end_time": "2022-03-07T02:13:04.453029",
     "exception": false,
     "start_time": "2022-03-07T02:13:04.419521",
     "status": "completed"
    },
    "tags": []
   },
   "outputs": [],
   "source": [
    "from collections import OrderedDict as OD"
   ]
  },
  {
   "cell_type": "code",
   "execution_count": 13,
   "id": "d8a9721c",
   "metadata": {
    "papermill": {
     "duration": 0.033588,
     "end_time": "2022-03-07T02:13:04.501489",
     "exception": false,
     "start_time": "2022-03-07T02:13:04.467901",
     "status": "completed"
    },
    "tags": []
   },
   "outputs": [],
   "source": [
    "dict_systems = OD(\n",
    "                ECMWF=5, # SEAS5, hindcast complete \n",
    "                UKMO=601, # note: only for system 14 is hindcast complete\n",
    "                METEO_FRANCE=8, # note: only for system 7 is hindcast complete\n",
    "                DWD=21, # GCFS2.1, hindcast complete \n",
    "                CMCC=35, # SPSv3.5, hindcast complete \n",
    "                NCEP=2,# CFSv2, hindcast complete \n",
    "                JMA=3, # CPS2, hindcast complete\n",
    "                ECCC_GEM_NEMO=2, # GEM-NEMO, hindcast incomplete\n",
    "                ECCC_CanCM4i=3, # CanCM4i, hindcast incomplete\n",
    "                )"
   ]
  },
  {
   "cell_type": "markdown",
   "id": "2fc4adfe",
   "metadata": {
    "papermill": {
     "duration": 0.015628,
     "end_time": "2022-03-07T02:13:04.531590",
     "exception": false,
     "start_time": "2022-03-07T02:13:04.515962",
     "status": "completed"
    },
    "tags": []
   },
   "source": [
    "### get today's date "
   ]
  },
  {
   "cell_type": "code",
   "execution_count": 14,
   "id": "35d39153",
   "metadata": {
    "papermill": {
     "duration": 0.052758,
     "end_time": "2022-03-07T02:13:04.598866",
     "exception": false,
     "start_time": "2022-03-07T02:13:04.546108",
     "status": "completed"
    },
    "tags": []
   },
   "outputs": [],
   "source": [
    "date = dateparser.parse('today')"
   ]
  },
  {
   "cell_type": "code",
   "execution_count": 15,
   "id": "8b6e1b72",
   "metadata": {
    "papermill": {
     "duration": 0.035389,
     "end_time": "2022-03-07T02:13:04.648628",
     "exception": false,
     "start_time": "2022-03-07T02:13:04.613239",
     "status": "completed"
    },
    "tags": []
   },
   "outputs": [
    {
     "data": {
      "text/plain": [
       "datetime.datetime(2022, 3, 14, 10, 38, 27, 280115)"
      ]
     },
     "execution_count": 15,
     "metadata": {},
     "output_type": "execute_result"
    }
   ],
   "source": [
    "date"
   ]
  },
  {
   "cell_type": "markdown",
   "id": "e85bb7a7",
   "metadata": {
    "papermill": {
     "duration": 0.016362,
     "end_time": "2022-03-07T02:13:04.680756",
     "exception": false,
     "start_time": "2022-03-07T02:13:04.664394",
     "status": "completed"
    },
    "tags": []
   },
   "source": [
    "### apply lag "
   ]
  },
  {
   "cell_type": "code",
   "execution_count": 16,
   "id": "12c6d03a",
   "metadata": {
    "papermill": {
     "duration": 0.03373,
     "end_time": "2022-03-07T02:13:04.729937",
     "exception": false,
     "start_time": "2022-03-07T02:13:04.696207",
     "status": "completed"
    },
    "tags": []
   },
   "outputs": [],
   "source": [
    "date = date - relativedelta(months=lag)"
   ]
  },
  {
   "cell_type": "code",
   "execution_count": 17,
   "id": "8cb55fc8",
   "metadata": {
    "papermill": {
     "duration": 0.033879,
     "end_time": "2022-03-07T02:13:04.778899",
     "exception": false,
     "start_time": "2022-03-07T02:13:04.745020",
     "status": "completed"
    },
    "tags": []
   },
   "outputs": [
    {
     "name": "stdout",
     "output_type": "stream",
     "text": [
      "the hindcast data will be downloaded for all re-forecasts initialised in March\n"
     ]
    }
   ],
   "source": [
    "print(f\"the hindcast data will be downloaded for all re-forecasts initialised in {date:%B}\")"
   ]
  },
  {
   "cell_type": "markdown",
   "id": "d252bb55",
   "metadata": {
    "papermill": {
     "duration": 0.015757,
     "end_time": "2022-03-07T02:13:04.809877",
     "exception": false,
     "start_time": "2022-03-07T02:13:04.794120",
     "status": "completed"
    },
    "tags": []
   },
   "source": [
    "### generate the dates for the download of the rolling hindcasts "
   ]
  },
  {
   "cell_type": "code",
   "execution_count": 18,
   "id": "20083d02",
   "metadata": {
    "papermill": {
     "duration": 0.033866,
     "end_time": "2022-03-07T02:13:04.858848",
     "exception": false,
     "start_time": "2022-03-07T02:13:04.824982",
     "status": "completed"
    },
    "tags": []
   },
   "outputs": [],
   "source": [
    "dates = [datetime(y, date.month, 1) for y in range(1993, 2016 + 1)]"
   ]
  },
  {
   "cell_type": "code",
   "execution_count": 19,
   "id": "a1e8bbdf",
   "metadata": {
    "papermill": {
     "duration": 0.034755,
     "end_time": "2022-03-07T02:13:04.908977",
     "exception": false,
     "start_time": "2022-03-07T02:13:04.874222",
     "status": "completed"
    },
    "tags": []
   },
   "outputs": [
    {
     "data": {
      "text/plain": [
       "[datetime.datetime(1993, 3, 1, 0, 0),\n",
       " datetime.datetime(1994, 3, 1, 0, 0),\n",
       " datetime.datetime(1995, 3, 1, 0, 0),\n",
       " datetime.datetime(1996, 3, 1, 0, 0),\n",
       " datetime.datetime(1997, 3, 1, 0, 0),\n",
       " datetime.datetime(1998, 3, 1, 0, 0),\n",
       " datetime.datetime(1999, 3, 1, 0, 0),\n",
       " datetime.datetime(2000, 3, 1, 0, 0),\n",
       " datetime.datetime(2001, 3, 1, 0, 0),\n",
       " datetime.datetime(2002, 3, 1, 0, 0),\n",
       " datetime.datetime(2003, 3, 1, 0, 0),\n",
       " datetime.datetime(2004, 3, 1, 0, 0),\n",
       " datetime.datetime(2005, 3, 1, 0, 0),\n",
       " datetime.datetime(2006, 3, 1, 0, 0),\n",
       " datetime.datetime(2007, 3, 1, 0, 0),\n",
       " datetime.datetime(2008, 3, 1, 0, 0),\n",
       " datetime.datetime(2009, 3, 1, 0, 0),\n",
       " datetime.datetime(2010, 3, 1, 0, 0),\n",
       " datetime.datetime(2011, 3, 1, 0, 0),\n",
       " datetime.datetime(2012, 3, 1, 0, 0),\n",
       " datetime.datetime(2013, 3, 1, 0, 0),\n",
       " datetime.datetime(2014, 3, 1, 0, 0),\n",
       " datetime.datetime(2015, 3, 1, 0, 0),\n",
       " datetime.datetime(2016, 3, 1, 0, 0)]"
      ]
     },
     "execution_count": 19,
     "metadata": {},
     "output_type": "execute_result"
    }
   ],
   "source": [
    "dates"
   ]
  },
  {
   "cell_type": "markdown",
   "id": "74247127",
   "metadata": {
    "papermill": {
     "duration": 0.015725,
     "end_time": "2022-03-07T02:13:04.940202",
     "exception": false,
     "start_time": "2022-03-07T02:13:04.924477",
     "status": "completed"
    },
    "tags": []
   },
   "source": [
    "### path to download the rolling hindcasts "
   ]
  },
  {
   "cell_type": "code",
   "execution_count": 20,
   "id": "b71f0481",
   "metadata": {
    "papermill": {
     "duration": 0.033855,
     "end_time": "2022-03-07T02:13:04.989299",
     "exception": false,
     "start_time": "2022-03-07T02:13:04.955444",
     "status": "completed"
    },
    "tags": []
   },
   "outputs": [],
   "source": [
    "if not(gcm_path.exists()): \n",
    "    gcm_path.mkdir(parents=True)"
   ]
  },
  {
   "cell_type": "markdown",
   "id": "5a6f4954",
   "metadata": {
    "papermill": {
     "duration": 0.015608,
     "end_time": "2022-03-07T02:13:05.020713",
     "exception": false,
     "start_time": "2022-03-07T02:13:05.005105",
     "status": "completed"
    },
    "tags": []
   },
   "source": [
    "### Now loops over the dates, creates a dictionnary containing the keywords arguments, and pass to dask for parallel download "
   ]
  },
  {
   "cell_type": "code",
   "execution_count": 21,
   "id": "2c1892a8",
   "metadata": {
    "papermill": {
     "duration": 0.034892,
     "end_time": "2022-03-07T02:13:05.070968",
     "exception": false,
     "start_time": "2022-03-07T02:13:05.036076",
     "status": "completed"
    },
    "tags": []
   },
   "outputs": [],
   "source": [
    "list_GCMs = ['ECMWF', 'UKMO', 'METEO_FRANCE', 'DWD', 'CMCC', 'NCEP', 'JMA', 'ECCC_CanCM4i', 'ECCC_GEM_NEMO']"
   ]
  },
  {
   "cell_type": "code",
   "execution_count": 23,
   "id": "23683c56",
   "metadata": {
    "papermill": {
     "duration": 2.598112,
     "end_time": "2022-03-07T02:13:07.684431",
     "exception": false,
     "start_time": "2022-03-07T02:13:05.086319",
     "status": "completed"
    },
    "tags": []
   },
   "outputs": [
    {
     "name": "stdout",
     "output_type": "stream",
     "text": [
      "processing ECCC, path should be /media/nicolasf/END19101/ICU/data/CDS/operational/hindcasts/ECCC_CanCM4i/TPRATE\n",
      "processing ECCC, path should be /media/nicolasf/END19101/ICU/data/CDS/operational/hindcasts/ECCC_GEM_NEMO/TPRATE\n",
      "[                                        ] | 0% Completed |  0.0s\n",
      "/media/nicolasf/END19101/ICU/data/CDS/operational/hindcasts/ECCC_CanCM4i/TPRATE/ensemble_seas_forecasts_tprate_from_1993_03_ECCC.netcdf exists already on disk, skipping download and returning path\n",
      "\n",
      "\n",
      "/media/nicolasf/END19101/ICU/data/CDS/operational/hindcasts/ECMWF/TPRATE/ensemble_seas_forecasts_tprate_from_1993_03_ECMWF.netcdf exists already on disk, skipping download and returning path\n",
      "\n",
      "attempting to download tprate for GCM UKMO, for level surface, year 1993, month 3, in netcdf, attempt 1 of 3\n",
      "\n",
      "\n",
      "\n",
      "/media/nicolasf/END19101/ICU/data/CDS/operational/hindcasts/NCEP/TPRATE/ensemble_seas_forecasts_tprate_from_1993_03_NCEP.netcdf exists already on disk, skipping download and returning path\n",
      "\n",
      "\n",
      "attempting to download tprate for GCM JMA, for level surface, year 1993, month 3, in netcdf, attempt 1 of 3\n",
      "\n",
      "\n",
      "/media/nicolasf/END19101/ICU/data/CDS/operational/hindcasts/DWD/TPRATE/ensemble_seas_forecasts_tprate_from_1993_03_DWD.netcdf exists already on disk, skipping download and returning path\n",
      "\n",
      "/media/nicolasf/END19101/ICU/data/CDS/operational/hindcasts/CMCC/TPRATE/ensemble_seas_forecasts_tprate_from_1993_03_CMCC.netcdf exists already on disk, skipping download and returning path\n",
      "\n",
      "\n",
      "\n",
      "attempting to download tprate for GCM METEO_FRANCE, for level surface, year 1993, month 3, in netcdf, attempt 1 of 3\n",
      "\n",
      "\n",
      "attempting to download tprate for GCM ECCC, for level surface, year 1993, month 3, in netcdf, attempt 1 of 3\n",
      "\n",
      "[######################                  ] | 55% Completed |  1.8s"
     ]
    },
    {
     "name": "stderr",
     "output_type": "stream",
     "text": [
      "2022-03-14 10:51:44,150 INFO Welcome to the CDS\n",
      "2022-03-14 10:51:44,153 INFO Welcome to the CDS\n",
      "2022-03-14 10:51:44,156 INFO Welcome to the CDS\n",
      "2022-03-14 10:51:44,157 INFO Sending request to https://cds.climate.copernicus.eu/api/v2/resources/seasonal-monthly-single-levels\n",
      "2022-03-14 10:51:44,158 INFO Sending request to https://cds.climate.copernicus.eu/api/v2/resources/seasonal-monthly-single-levels\n",
      "2022-03-14 10:51:44,161 INFO Sending request to https://cds.climate.copernicus.eu/api/v2/resources/seasonal-monthly-single-levels\n",
      "2022-03-14 10:51:44,172 INFO Welcome to the CDS\n",
      "2022-03-14 10:51:44,186 INFO Sending request to https://cds.climate.copernicus.eu/api/v2/resources/seasonal-monthly-single-levels\n"
     ]
    },
    {
     "name": "stdout",
     "output_type": "stream",
     "text": [
      "[######################                  ] | 55% Completed |  2.1s"
     ]
    },
    {
     "name": "stderr",
     "output_type": "stream",
     "text": [
      "2022-03-14 10:51:44,478 INFO Request is queued\n",
      "2022-03-14 10:51:44,481 INFO Request is queued\n",
      "2022-03-14 10:51:44,504 INFO Request is queued\n"
     ]
    },
    {
     "name": "stdout",
     "output_type": "stream",
     "text": [
      "[######################                  ] | 55% Completed |  2.2s"
     ]
    },
    {
     "name": "stderr",
     "output_type": "stream",
     "text": [
      "2022-03-14 10:51:44,539 INFO Request is queued\n"
     ]
    },
    {
     "name": "stdout",
     "output_type": "stream",
     "text": [
      "[######################                  ] | 55% Completed |  3.5s"
     ]
    },
    {
     "name": "stderr",
     "output_type": "stream",
     "text": [
      "2022-03-14 10:51:45,777 INFO Request is running\n"
     ]
    },
    {
     "name": "stdout",
     "output_type": "stream",
     "text": [
      "[######################                  ] | 55% Completed |  5.2s"
     ]
    },
    {
     "name": "stderr",
     "output_type": "stream",
     "text": [
      "2022-03-14 10:51:47,574 INFO Request is completed\n",
      "2022-03-14 10:51:47,575 INFO Downloading https://download-0001.copernicus-climate.eu/cache-compute-0001/cache/data9/adaptor.mars.external-1647208305.9401054-23469-10-cb30e0f2-2260-4080-b388-3a35a0009f9d.nc to /media/nicolasf/END19101/ICU/data/CDS/operational/hindcasts/ECCC_GEM_NEMO/TPRATE/ensemble_seas_forecasts_tprate_from_1993_03_ECCC.netcdf (1.1M)\n"
     ]
    },
    {
     "name": "stdout",
     "output_type": "stream",
     "text": [
      "[######################                  ] | 55% Completed |  5.3s"
     ]
    },
    {
     "name": "stderr",
     "output_type": "stream",
     "text": [
      "2022-03-14 10:51:47,611 INFO Request is running\n"
     ]
    },
    {
     "name": "stdout",
     "output_type": "stream",
     "text": [
      "[######################                  ] | 55% Completed |  7.0s"
     ]
    },
    {
     "name": "stderr",
     "output_type": "stream",
     "text": [
      "  0%|                                                                                                                | 0.00/1.09M [00:00<?, ?B/s]"
     ]
    },
    {
     "name": "stdout",
     "output_type": "stream",
     "text": [
      "[######################                  ] | 55% Completed |  7.3s"
     ]
    },
    {
     "name": "stderr",
     "output_type": "stream",
     "text": [
      "  1%|█▍                                                                                                     | 16.0k/1.09M [00:00<00:19, 57.3kB/s]"
     ]
    },
    {
     "name": "stdout",
     "output_type": "stream",
     "text": [
      "[######################                  ] | 55% Completed |  7.5s"
     ]
    },
    {
     "name": "stderr",
     "output_type": "stream",
     "text": [
      "  6%|█████▉                                                                                                  | 64.0k/1.09M [00:00<00:08, 124kB/s]"
     ]
    },
    {
     "name": "stdout",
     "output_type": "stream",
     "text": [
      "[######################                  ] | 55% Completed |  7.8s"
     ]
    },
    {
     "name": "stderr",
     "output_type": "stream",
     "text": [
      "2022-03-14 10:51:50,155 INFO Request is completed\n",
      "2022-03-14 10:51:50,156 INFO Downloading https://download-0006.copernicus-climate.eu/cache-compute-0006/cache/data1/adaptor.mars.external-1647208308.7773879-12756-20-3199abf3-e56c-4222-b627-26beed7eba2f.nc to /media/nicolasf/END19101/ICU/data/CDS/operational/hindcasts/UKMO/TPRATE/ensemble_seas_forecasts_tprate_from_1993_03_UKMO.netcdf (3.1M)\n",
      "2022-03-14 10:51:50,174 INFO Request is running\n",
      " 12%|████████████                                                                                             | 129k/1.09M [00:00<00:05, 173kB/s]"
     ]
    },
    {
     "name": "stdout",
     "output_type": "stream",
     "text": [
      "[######################                  ] | 55% Completed |  8.1s"
     ]
    },
    {
     "name": "stderr",
     "output_type": "stream",
     "text": [
      " 26%|██████████████████████████▊                                                                              | 286k/1.09M [00:01<00:02, 325kB/s]"
     ]
    },
    {
     "name": "stdout",
     "output_type": "stream",
     "text": [
      "[######################                  ] | 55% Completed |  8.5s"
     ]
    },
    {
     "name": "stderr",
     "output_type": "stream",
     "text": [
      " 53%|███████████████████████████████████████████████████████▉                                                 | 595k/1.09M [00:01<00:00, 605kB/s]"
     ]
    },
    {
     "name": "stdout",
     "output_type": "stream",
     "text": [
      "[######################                  ] | 55% Completed |  8.6s"
     ]
    },
    {
     "name": "stderr",
     "output_type": "stream",
     "text": [
      "2022-03-14 10:51:50,900 INFO Download rate 336K/s                                                                                                \n"
     ]
    },
    {
     "name": "stdout",
     "output_type": "stream",
     "text": [
      "[######################                  ] | 55% Completed |  8.9s\n",
      "/media/nicolasf/END19101/ICU/data/CDS/operational/hindcasts/ECCC_GEM_NEMO/TPRATE/ensemble_seas_forecasts_tprate_from_1993_03_ECCC.netcdf downloaded OK\n",
      "\n",
      "[##########################              ] | 66% Completed |  9.6s"
     ]
    },
    {
     "name": "stderr",
     "output_type": "stream",
     "text": [
      "  0%|                                                                                                                | 0.00/3.05M [00:00<?, ?B/s]"
     ]
    },
    {
     "name": "stdout",
     "output_type": "stream",
     "text": [
      "[##########################              ] | 66% Completed |  9.9s"
     ]
    },
    {
     "name": "stderr",
     "output_type": "stream",
     "text": [
      "  1%|▌                                                                                                      | 16.0k/3.05M [00:00<00:55, 57.6kB/s]"
     ]
    },
    {
     "name": "stdout",
     "output_type": "stream",
     "text": [
      "[##########################              ] | 66% Completed | 10.2s"
     ]
    },
    {
     "name": "stderr",
     "output_type": "stream",
     "text": [
      "  2%|██▎                                                                                                     | 70.0k/3.05M [00:00<00:22, 137kB/s]"
     ]
    },
    {
     "name": "stdout",
     "output_type": "stream",
     "text": [
      "[##########################              ] | 66% Completed | 10.5s"
     ]
    },
    {
     "name": "stderr",
     "output_type": "stream",
     "text": [
      "  5%|█████▌                                                                                                   | 166k/3.05M [00:00<00:13, 231kB/s]"
     ]
    },
    {
     "name": "stdout",
     "output_type": "stream",
     "text": [
      "[##########################              ] | 66% Completed | 10.7s"
     ]
    },
    {
     "name": "stderr",
     "output_type": "stream",
     "text": [
      " 11%|███████████▊                                                                                             | 350k/3.05M [00:01<00:07, 399kB/s]"
     ]
    },
    {
     "name": "stdout",
     "output_type": "stream",
     "text": [
      "[##########################              ] | 66% Completed | 11.0s"
     ]
    },
    {
     "name": "stderr",
     "output_type": "stream",
     "text": [
      " 23%|████████████████████████▌                                                                                | 731k/3.05M [00:01<00:03, 745kB/s]"
     ]
    },
    {
     "name": "stdout",
     "output_type": "stream",
     "text": [
      "[##########################              ] | 66% Completed | 11.3s"
     ]
    },
    {
     "name": "stderr",
     "output_type": "stream",
     "text": [
      " 47%|████████████████████████████████████████████████▉                                                      | 1.45M/3.05M [00:01<00:01, 1.40MB/s]"
     ]
    },
    {
     "name": "stdout",
     "output_type": "stream",
     "text": [
      "[##########################              ] | 66% Completed | 11.4s"
     ]
    },
    {
     "name": "stderr",
     "output_type": "stream",
     "text": [
      "2022-03-14 10:51:53,783 INFO Request is running\n"
     ]
    },
    {
     "name": "stdout",
     "output_type": "stream",
     "text": [
      "[##########################              ] | 66% Completed | 11.5s"
     ]
    },
    {
     "name": "stderr",
     "output_type": "stream",
     "text": [
      "2022-03-14 10:51:53,850 INFO Request is completed\n",
      "2022-03-14 10:51:53,852 INFO Downloading https://download-0006.copernicus-climate.eu/cache-compute-0006/cache/data5/adaptor.mars.external-1647208310.8609622-13956-7-22201515-8584-4695-a961-ada9aca1a672.nc to /media/nicolasf/END19101/ICU/data/CDS/operational/hindcasts/JMA/TPRATE/ensemble_seas_forecasts_tprate_from_1993_03_JMA.netcdf (719.2K)\n"
     ]
    },
    {
     "name": "stdout",
     "output_type": "stream",
     "text": [
      "[##########################              ] | 66% Completed | 11.6s"
     ]
    },
    {
     "name": "stderr",
     "output_type": "stream",
     "text": [
      " 80%|██████████████████████████████████████████████████████████████████████████████████▏                    | 2.43M/3.05M [00:02<00:00, 2.05MB/s]"
     ]
    },
    {
     "name": "stdout",
     "output_type": "stream",
     "text": [
      "[##########################              ] | 66% Completed | 11.8s"
     ]
    },
    {
     "name": "stderr",
     "output_type": "stream",
     "text": [
      "2022-03-14 10:51:54,096 INFO Download rate 793.3K/s                                                                                              \n"
     ]
    },
    {
     "name": "stdout",
     "output_type": "stream",
     "text": [
      "[##########################              ] | 66% Completed | 12.0s\n",
      "/media/nicolasf/END19101/ICU/data/CDS/operational/hindcasts/UKMO/TPRATE/ensemble_seas_forecasts_tprate_from_1993_03_UKMO.netcdf downloaded OK\n",
      "\n",
      "[###############################         ] | 77% Completed | 12.7s"
     ]
    },
    {
     "name": "stderr",
     "output_type": "stream",
     "text": [
      "  0%|                                                                                                                 | 0.00/719k [00:00<?, ?B/s]"
     ]
    },
    {
     "name": "stdout",
     "output_type": "stream",
     "text": [
      "[###############################         ] | 77% Completed | 13.0s"
     ]
    },
    {
     "name": "stderr",
     "output_type": "stream",
     "text": [
      "  2%|██▎                                                                                                     | 16.0k/719k [00:00<00:12, 58.6kB/s]"
     ]
    },
    {
     "name": "stdout",
     "output_type": "stream",
     "text": [
      "[###############################         ] | 77% Completed | 13.3s"
     ]
    },
    {
     "name": "stderr",
     "output_type": "stream",
     "text": [
      " 10%|██████████▏                                                                                              | 70.0k/719k [00:00<00:04, 140kB/s]"
     ]
    },
    {
     "name": "stdout",
     "output_type": "stream",
     "text": [
      "[###############################         ] | 77% Completed | 13.6s"
     ]
    },
    {
     "name": "stderr",
     "output_type": "stream",
     "text": [
      " 18%|███████████████████                                                                                       | 129k/719k [00:00<00:03, 174kB/s]"
     ]
    },
    {
     "name": "stdout",
     "output_type": "stream",
     "text": [
      "[###############################         ] | 77% Completed | 13.9s"
     ]
    },
    {
     "name": "stderr",
     "output_type": "stream",
     "text": [
      " 40%|██████████████████████████████████████████▏                                                               | 286k/719k [00:01<00:01, 331kB/s]"
     ]
    },
    {
     "name": "stdout",
     "output_type": "stream",
     "text": [
      "[###############################         ] | 77% Completed | 14.1s"
     ]
    },
    {
     "name": "stderr",
     "output_type": "stream",
     "text": [
      " 83%|███████████████████████████████████████████████████████████████████████████████████████▋                  | 595k/719k [00:01<00:00, 617kB/s]"
     ]
    },
    {
     "name": "stdout",
     "output_type": "stream",
     "text": [
      "[###############################         ] | 77% Completed | 14.2s"
     ]
    },
    {
     "name": "stderr",
     "output_type": "stream",
     "text": [
      "2022-03-14 10:51:56,592 INFO Download rate 262.6K/s                                                                                              \n"
     ]
    },
    {
     "name": "stdout",
     "output_type": "stream",
     "text": [
      "[###############################         ] | 77% Completed | 14.5s\n",
      "/media/nicolasf/END19101/ICU/data/CDS/operational/hindcasts/JMA/TPRATE/ensemble_seas_forecasts_tprate_from_1993_03_JMA.netcdf downloaded OK\n",
      "\n",
      "[###################################     ] | 88% Completed | 16.8s"
     ]
    },
    {
     "name": "stderr",
     "output_type": "stream",
     "text": [
      "2022-03-14 10:51:59,141 INFO Request is completed\n",
      "2022-03-14 10:51:59,141 INFO Downloading https://download-0003.copernicus-climate.eu/cache-compute-0003/cache/data3/adaptor.mars.external-1647208313.8697538-12104-15-23fb2c98-6019-4711-8a8b-d3d6a6345442.nc to /media/nicolasf/END19101/ICU/data/CDS/operational/hindcasts/METEO_FRANCE/TPRATE/ensemble_seas_forecasts_tprate_from_1993_03_METEO_FRANCE.netcdf (2.7M)\n"
     ]
    },
    {
     "name": "stdout",
     "output_type": "stream",
     "text": [
      "[###################################     ] | 88% Completed | 18.5s"
     ]
    },
    {
     "name": "stderr",
     "output_type": "stream",
     "text": [
      "  0%|                                                                                                                | 0.00/2.73M [00:00<?, ?B/s]"
     ]
    },
    {
     "name": "stdout",
     "output_type": "stream",
     "text": [
      "[###################################     ] | 88% Completed | 18.7s"
     ]
    },
    {
     "name": "stderr",
     "output_type": "stream",
     "text": [
      "  1%|▌                                                                                                      | 16.0k/2.73M [00:00<00:48, 58.2kB/s]"
     ]
    },
    {
     "name": "stdout",
     "output_type": "stream",
     "text": [
      "[###################################     ] | 88% Completed | 19.0s"
     ]
    },
    {
     "name": "stderr",
     "output_type": "stream",
     "text": [
      "  2%|██▌                                                                                                     | 69.0k/2.73M [00:00<00:20, 137kB/s]"
     ]
    },
    {
     "name": "stdout",
     "output_type": "stream",
     "text": [
      "[###################################     ] | 88% Completed | 19.4s"
     ]
    },
    {
     "name": "stderr",
     "output_type": "stream",
     "text": [
      "  5%|█████                                                                                                    | 133k/2.73M [00:00<00:15, 180kB/s]"
     ]
    },
    {
     "name": "stdout",
     "output_type": "stream",
     "text": [
      "[###################################     ] | 88% Completed | 19.7s"
     ]
    },
    {
     "name": "stderr",
     "output_type": "stream",
     "text": [
      " 11%|███████████▏                                                                                             | 298k/2.73M [00:01<00:07, 344kB/s]"
     ]
    },
    {
     "name": "stdout",
     "output_type": "stream",
     "text": [
      "[###################################     ] | 88% Completed | 20.0s"
     ]
    },
    {
     "name": "stderr",
     "output_type": "stream",
     "text": [
      " 22%|███████████████████████▌                                                                                 | 627k/2.73M [00:01<00:03, 648kB/s]"
     ]
    },
    {
     "name": "stdout",
     "output_type": "stream",
     "text": [
      "[###################################     ] | 88% Completed | 20.3s"
     ]
    },
    {
     "name": "stderr",
     "output_type": "stream",
     "text": [
      " 46%|███████████████████████████████████████████████▍                                                       | 1.25M/2.73M [00:01<00:01, 1.23MB/s]"
     ]
    },
    {
     "name": "stdout",
     "output_type": "stream",
     "text": [
      "[###################################     ] | 88% Completed | 20.6s"
     ]
    },
    {
     "name": "stderr",
     "output_type": "stream",
     "text": [
      " 82%|████████████████████████████████████████████████████████████████████████████████████▎                  | 2.23M/2.73M [00:02<00:00, 1.95MB/s]"
     ]
    },
    {
     "name": "stdout",
     "output_type": "stream",
     "text": [
      "[###################################     ] | 88% Completed | 20.8s"
     ]
    },
    {
     "name": "stderr",
     "output_type": "stream",
     "text": [
      " 89%|███████████████████████████████████████████████████████████████████████████████████████████▏           | 2.41M/2.73M [00:02<00:00, 1.60MB/s]"
     ]
    },
    {
     "name": "stdout",
     "output_type": "stream",
     "text": [
      "[###################################     ] | 88% Completed | 20.9s"
     ]
    },
    {
     "name": "stderr",
     "output_type": "stream",
     "text": [
      "2022-03-14 10:52:03,232 INFO Download rate 682.2K/s                                                                                              \n"
     ]
    },
    {
     "name": "stdout",
     "output_type": "stream",
     "text": [
      "[###################################     ] | 88% Completed | 21.2s\n",
      "/media/nicolasf/END19101/ICU/data/CDS/operational/hindcasts/METEO_FRANCE/TPRATE/ensemble_seas_forecasts_tprate_from_1993_03_METEO_FRANCE.netcdf downloaded OK\n",
      "\n",
      "[########################################] | 100% Completed | 21.3s\n",
      "processing ECCC, path should be /media/nicolasf/END19101/ICU/data/CDS/operational/hindcasts/ECCC_CanCM4i/TPRATE\n",
      "processing ECCC, path should be /media/nicolasf/END19101/ICU/data/CDS/operational/hindcasts/ECCC_GEM_NEMO/TPRATE\n",
      "[                                        ] | 0% Completed |  0.0s\n",
      "/media/nicolasf/END19101/ICU/data/CDS/operational/hindcasts/CMCC/TPRATE/ensemble_seas_forecasts_tprate_from_1994_03_CMCC.netcdf exists already on disk, skipping download and returning path\n",
      "\n",
      "\n",
      "/media/nicolasf/END19101/ICU/data/CDS/operational/hindcasts/NCEP/TPRATE/ensemble_seas_forecasts_tprate_from_1994_03_NCEP.netcdf exists already on disk, skipping download and returning path\n",
      "\n",
      "\n",
      "/media/nicolasf/END19101/ICU/data/CDS/operational/hindcasts/DWD/TPRATE/ensemble_seas_forecasts_tprate_from_1994_03_DWD.netcdf exists already on disk, skipping download and returning path\n",
      "\n",
      "\n",
      "attempting to download tprate for GCM METEO_FRANCE, for level surface, year 1994, month 3, in netcdf, attempt 1 of 3\n",
      "\n",
      "\n",
      "attempting to download tprate for GCM UKMO, for level surface, year 1994, month 3, in netcdf, attempt 1 of 3\n",
      "\n",
      "/media/nicolasf/END19101/ICU/data/CDS/operational/hindcasts/ECMWF/TPRATE/ensemble_seas_forecasts_tprate_from_1994_03_ECMWF.netcdf exists already on disk, skipping download and returning path\n",
      "\n",
      "\n",
      "\n",
      "attempting to download tprate for GCM ECCC, for level surface, year 1994, month 3, in netcdf, attempt 1 of 3\n",
      "\n",
      "attempting to download tprate for GCM JMA, for level surface, year 1994, month 3, in netcdf, attempt 1 of 3\n",
      "\n",
      "\n",
      "/media/nicolasf/END19101/ICU/data/CDS/operational/hindcasts/ECCC_CanCM4i/TPRATE/ensemble_seas_forecasts_tprate_from_1994_03_ECCC.netcdf exists already on disk, skipping download and returning path\n",
      "\n",
      "\n",
      "[######################                  ] | 55% Completed |  0.2s"
     ]
    },
    {
     "name": "stderr",
     "output_type": "stream",
     "text": [
      "2022-03-14 10:52:03,850 INFO Welcome to the CDS\n",
      "2022-03-14 10:52:03,850 INFO Sending request to https://cds.climate.copernicus.eu/api/v2/resources/seasonal-monthly-single-levels\n",
      "2022-03-14 10:52:03,853 INFO Welcome to the CDS\n",
      "2022-03-14 10:52:03,853 INFO Welcome to the CDS\n",
      "2022-03-14 10:52:03,854 INFO Sending request to https://cds.climate.copernicus.eu/api/v2/resources/seasonal-monthly-single-levels\n",
      "2022-03-14 10:52:03,854 INFO Sending request to https://cds.climate.copernicus.eu/api/v2/resources/seasonal-monthly-single-levels\n",
      "2022-03-14 10:52:03,858 INFO Welcome to the CDS\n",
      "2022-03-14 10:52:03,859 INFO Sending request to https://cds.climate.copernicus.eu/api/v2/resources/seasonal-monthly-single-levels\n"
     ]
    },
    {
     "name": "stdout",
     "output_type": "stream",
     "text": [
      "[######################                  ] | 55% Completed |  0.5s"
     ]
    },
    {
     "name": "stderr",
     "output_type": "stream",
     "text": [
      "2022-03-14 10:52:04,146 INFO Request is queued\n",
      "2022-03-14 10:52:04,148 INFO Request is queued\n",
      "2022-03-14 10:52:04,149 INFO Request is queued\n",
      "2022-03-14 10:52:04,157 INFO Request is queued\n"
     ]
    },
    {
     "name": "stdout",
     "output_type": "stream",
     "text": [
      "[######################                  ] | 55% Completed |  1.8s"
     ]
    },
    {
     "name": "stderr",
     "output_type": "stream",
     "text": [
      "2022-03-14 10:52:05,443 INFO Request is running\n"
     ]
    },
    {
     "name": "stdout",
     "output_type": "stream",
     "text": [
      "[######################                  ] | 55% Completed |  3.6s"
     ]
    },
    {
     "name": "stderr",
     "output_type": "stream",
     "text": [
      "2022-03-14 10:52:07,233 INFO Request is completed\n",
      "2022-03-14 10:52:07,234 INFO Downloading https://download-0002.copernicus-climate.eu/cache-compute-0002/cache/data2/adaptor.mars.external-1647208325.6795142-4331-9-0343de0d-181a-4820-9954-8fd830b74838.nc to /media/nicolasf/END19101/ICU/data/CDS/operational/hindcasts/JMA/TPRATE/ensemble_seas_forecasts_tprate_from_1994_03_JMA.netcdf (719.2K)\n",
      "2022-03-14 10:52:07,237 INFO Request is running\n"
     ]
    },
    {
     "name": "stdout",
     "output_type": "stream",
     "text": [
      "[######################                  ] | 55% Completed |  5.3s"
     ]
    },
    {
     "name": "stderr",
     "output_type": "stream",
     "text": [
      "  0%|                                                                                                                 | 0.00/719k [00:00<?, ?B/s]"
     ]
    },
    {
     "name": "stdout",
     "output_type": "stream",
     "text": [
      "[######################                  ] | 55% Completed |  5.7s"
     ]
    },
    {
     "name": "stderr",
     "output_type": "stream",
     "text": [
      "  2%|██▎                                                                                                     | 16.0k/719k [00:00<00:12, 59.2kB/s]"
     ]
    },
    {
     "name": "stdout",
     "output_type": "stream",
     "text": [
      "[######################                  ] | 55% Completed |  6.0s"
     ]
    },
    {
     "name": "stderr",
     "output_type": "stream",
     "text": [
      "  9%|█████████▋                                                                                               | 66.0k/719k [00:00<00:05, 132kB/s]"
     ]
    },
    {
     "name": "stdout",
     "output_type": "stream",
     "text": [
      "[######################                  ] | 55% Completed |  6.2s"
     ]
    },
    {
     "name": "stderr",
     "output_type": "stream",
     "text": [
      "2022-03-14 10:52:09,772 INFO Request is running\n",
      "2022-03-14 10:52:09,785 INFO Request is completed\n",
      "2022-03-14 10:52:09,787 INFO Downloading https://download-0008.copernicus-climate.eu/cache-compute-0008/cache/data9/adaptor.mars.external-1647208328.891431-29559-14-99df04e3-8c6d-4a9c-9d9f-beb5b8fd7bbf.nc to /media/nicolasf/END19101/ICU/data/CDS/operational/hindcasts/METEO_FRANCE/TPRATE/ensemble_seas_forecasts_tprate_from_1994_03_METEO_FRANCE.netcdf (2.7M)\n",
      " 18%|███████████████████▎                                                                                      | 131k/719k [00:00<00:03, 179kB/s]"
     ]
    },
    {
     "name": "stdout",
     "output_type": "stream",
     "text": [
      "[######################                  ] | 55% Completed |  6.5s"
     ]
    },
    {
     "name": "stderr",
     "output_type": "stream",
     "text": [
      " 36%|██████████████████████████████████████▌                                                                   | 262k/719k [00:01<00:01, 294kB/s]"
     ]
    },
    {
     "name": "stdout",
     "output_type": "stream",
     "text": [
      "[######################                  ] | 55% Completed |  6.8s"
     ]
    },
    {
     "name": "stderr",
     "output_type": "stream",
     "text": [
      " 77%|█████████████████████████████████████████████████████████████████████████████████▊                        | 555k/719k [00:01<00:00, 571kB/s]"
     ]
    },
    {
     "name": "stdout",
     "output_type": "stream",
     "text": [
      "[######################                  ] | 55% Completed |  6.9s"
     ]
    },
    {
     "name": "stderr",
     "output_type": "stream",
     "text": [
      "2022-03-14 10:52:10,477 INFO Download rate 221.8K/s                                                                                              \n"
     ]
    },
    {
     "name": "stdout",
     "output_type": "stream",
     "text": [
      "[######################                  ] | 55% Completed |  7.2s\n",
      "/media/nicolasf/END19101/ICU/data/CDS/operational/hindcasts/JMA/TPRATE/ensemble_seas_forecasts_tprate_from_1994_03_JMA.netcdf downloaded OK\n",
      "\n",
      "[##########################              ] | 66% Completed |  8.0s"
     ]
    },
    {
     "name": "stderr",
     "output_type": "stream",
     "text": [
      "  0%|                                                                                                                | 0.00/2.73M [00:00<?, ?B/s]"
     ]
    },
    {
     "name": "stdout",
     "output_type": "stream",
     "text": [
      "[##########################              ] | 66% Completed |  8.2s"
     ]
    },
    {
     "name": "stderr",
     "output_type": "stream",
     "text": [
      "  1%|▌                                                                                                      | 16.0k/2.73M [00:00<00:48, 59.0kB/s]"
     ]
    },
    {
     "name": "stdout",
     "output_type": "stream",
     "text": [
      "[##########################              ] | 66% Completed |  8.5s"
     ]
    },
    {
     "name": "stderr",
     "output_type": "stream",
     "text": [
      "  2%|██▍                                                                                                     | 66.0k/2.73M [00:00<00:21, 131kB/s]"
     ]
    },
    {
     "name": "stdout",
     "output_type": "stream",
     "text": [
      "[##########################              ] | 66% Completed |  8.8s"
     ]
    },
    {
     "name": "stderr",
     "output_type": "stream",
     "text": [
      "  5%|████▊                                                                                                    | 127k/2.73M [00:00<00:15, 172kB/s]"
     ]
    },
    {
     "name": "stdout",
     "output_type": "stream",
     "text": [
      "[##########################              ] | 66% Completed |  9.1s"
     ]
    },
    {
     "name": "stderr",
     "output_type": "stream",
     "text": [
      " 10%|██████████▊                                                                                              | 286k/2.73M [00:01<00:07, 331kB/s]"
     ]
    },
    {
     "name": "stdout",
     "output_type": "stream",
     "text": [
      "[##########################              ] | 66% Completed |  9.3s"
     ]
    },
    {
     "name": "stderr",
     "output_type": "stream",
     "text": [
      " 21%|██████████████████████▍                                                                                  | 595k/2.73M [00:01<00:03, 615kB/s]"
     ]
    },
    {
     "name": "stdout",
     "output_type": "stream",
     "text": [
      "[##########################              ] | 66% Completed |  9.6s"
     ]
    },
    {
     "name": "stderr",
     "output_type": "stream",
     "text": [
      " 44%|████████████████████████████████████████████▊                                                          | 1.19M/2.73M [00:01<00:01, 1.17MB/s]"
     ]
    },
    {
     "name": "stdout",
     "output_type": "stream",
     "text": [
      "[##########################              ] | 66% Completed |  9.8s"
     ]
    },
    {
     "name": "stderr",
     "output_type": "stream",
     "text": [
      "2022-03-14 10:52:13,453 INFO Request is completed\n",
      "2022-03-14 10:52:13,455 INFO Downloading https://download-0007.copernicus-climate.eu/cache-compute-0007/cache/data6/adaptor.mars.external-1647208331.511118-15744-16-0cbbc217-7fc0-4c94-b352-49b4df4bca64.nc to /media/nicolasf/END19101/ICU/data/CDS/operational/hindcasts/ECCC_GEM_NEMO/TPRATE/ensemble_seas_forecasts_tprate_from_1994_03_ECCC.netcdf (1.1M)\n",
      "2022-03-14 10:52:13,465 INFO Request is running\n"
     ]
    },
    {
     "name": "stdout",
     "output_type": "stream",
     "text": [
      "[##########################              ] | 66% Completed |  9.9s"
     ]
    },
    {
     "name": "stderr",
     "output_type": "stream",
     "text": [
      " 78%|████████████████████████████████████████████████████████████████████████████████▊                      | 2.14M/2.73M [00:02<00:00, 1.88MB/s]"
     ]
    },
    {
     "name": "stdout",
     "output_type": "stream",
     "text": [
      "[##########################              ] | 66% Completed | 10.2s"
     ]
    },
    {
     "name": "stderr",
     "output_type": "stream",
     "text": [
      " 87%|█████████████████████████████████████████████████████████████████████████████████████████▉             | 2.38M/2.73M [00:02<00:00, 1.62MB/s]"
     ]
    },
    {
     "name": "stdout",
     "output_type": "stream",
     "text": [
      "[##########################              ] | 66% Completed | 10.3s"
     ]
    },
    {
     "name": "stderr",
     "output_type": "stream",
     "text": [
      "2022-03-14 10:52:13,945 INFO Download rate 671.4K/s                                                                                              \n"
     ]
    },
    {
     "name": "stdout",
     "output_type": "stream",
     "text": [
      "[##########################              ] | 66% Completed | 10.6s\n",
      "/media/nicolasf/END19101/ICU/data/CDS/operational/hindcasts/METEO_FRANCE/TPRATE/ensemble_seas_forecasts_tprate_from_1994_03_METEO_FRANCE.netcdf downloaded OK\n",
      "\n",
      "[###############################         ] | 77% Completed | 11.5s"
     ]
    },
    {
     "name": "stderr",
     "output_type": "stream",
     "text": [
      "  0%|                                                                                                                | 0.00/1.09M [00:00<?, ?B/s]"
     ]
    },
    {
     "name": "stdout",
     "output_type": "stream",
     "text": [
      "[###############################         ] | 77% Completed | 11.9s"
     ]
    },
    {
     "name": "stderr",
     "output_type": "stream",
     "text": [
      "  1%|█▍                                                                                                     | 16.0k/1.09M [00:00<00:18, 59.4kB/s]"
     ]
    },
    {
     "name": "stdout",
     "output_type": "stream",
     "text": [
      "[###############################         ] | 77% Completed | 12.2s"
     ]
    },
    {
     "name": "stderr",
     "output_type": "stream",
     "text": [
      "  6%|██████▏                                                                                                 | 67.0k/1.09M [00:00<00:08, 134kB/s]"
     ]
    },
    {
     "name": "stdout",
     "output_type": "stream",
     "text": [
      "[###############################         ] | 77% Completed | 12.5s"
     ]
    },
    {
     "name": "stderr",
     "output_type": "stream",
     "text": [
      " 12%|████████████▎                                                                                            | 131k/1.09M [00:00<00:05, 179kB/s]"
     ]
    },
    {
     "name": "stdout",
     "output_type": "stream",
     "text": [
      "[###############################         ] | 77% Completed | 12.8s"
     ]
    },
    {
     "name": "stderr",
     "output_type": "stream",
     "text": [
      " 26%|██████████████████████████▊                                                                              | 286k/1.09M [00:01<00:02, 329kB/s]"
     ]
    },
    {
     "name": "stdout",
     "output_type": "stream",
     "text": [
      "[###############################         ] | 77% Completed | 13.0s"
     ]
    },
    {
     "name": "stderr",
     "output_type": "stream",
     "text": [
      " 53%|███████████████████████████████████████████████████████▋                                                 | 592k/1.09M [00:01<00:00, 611kB/s]"
     ]
    },
    {
     "name": "stdout",
     "output_type": "stream",
     "text": [
      "[###############################         ] | 77% Completed | 13.3s"
     ]
    },
    {
     "name": "stderr",
     "output_type": "stream",
     "text": [
      " 77%|████████████████████████████████████████████████████████████████████████████████▉                        | 861k/1.09M [00:01<00:00, 715kB/s]"
     ]
    },
    {
     "name": "stdout",
     "output_type": "stream",
     "text": [
      "[###############################         ] | 77% Completed | 14.4s"
     ]
    },
    {
     "name": "stderr",
     "output_type": "stream",
     "text": [
      "100%|███████████████████████████████████████████████████████████████████████████████████████████████████████▊| 1.09M/1.09M [00:02<00:00, 404kB/s]"
     ]
    },
    {
     "name": "stdout",
     "output_type": "stream",
     "text": [
      "[###############################         ] | 77% Completed | 14.5s"
     ]
    },
    {
     "name": "stderr",
     "output_type": "stream",
     "text": [
      "2022-03-14 10:52:18,138 INFO Download rate 238.7K/s                                                                                              \n"
     ]
    },
    {
     "name": "stdout",
     "output_type": "stream",
     "text": [
      "[###############################         ] | 77% Completed | 14.8s\n",
      "/media/nicolasf/END19101/ICU/data/CDS/operational/hindcasts/ECCC_GEM_NEMO/TPRATE/ensemble_seas_forecasts_tprate_from_1994_03_ECCC.netcdf downloaded OK\n",
      "\n",
      "[###################################     ] | 88% Completed | 15.2s"
     ]
    },
    {
     "name": "stderr",
     "output_type": "stream",
     "text": [
      "2022-03-14 10:52:18,827 INFO Request is completed\n",
      "2022-03-14 10:52:18,829 INFO Downloading https://download-0006.copernicus-climate.eu/cache-compute-0006/cache/data7/adaptor.mars.external-1647208334.4542193-12998-17-480a47fa-dfe4-4830-bc8b-c9897b66bc15.nc to /media/nicolasf/END19101/ICU/data/CDS/operational/hindcasts/UKMO/TPRATE/ensemble_seas_forecasts_tprate_from_1994_03_UKMO.netcdf (3.1M)\n"
     ]
    },
    {
     "name": "stdout",
     "output_type": "stream",
     "text": [
      "[###################################     ] | 88% Completed | 15.5s"
     ]
    },
    {
     "name": "stderr",
     "output_type": "stream",
     "text": [
      "  0%|                                                                                                                | 0.00/3.05M [00:00<?, ?B/s]"
     ]
    },
    {
     "name": "stdout",
     "output_type": "stream",
     "text": [
      "[###################################     ] | 88% Completed | 15.8s"
     ]
    },
    {
     "name": "stderr",
     "output_type": "stream",
     "text": [
      "  0%|▎                                                                                                      | 8.00k/3.05M [00:00<01:48, 29.5kB/s]"
     ]
    },
    {
     "name": "stdout",
     "output_type": "stream",
     "text": [
      "[###################################     ] | 88% Completed | 16.0s"
     ]
    },
    {
     "name": "stderr",
     "output_type": "stream",
     "text": [
      "  1%|█                                                                                                      | 34.0k/3.05M [00:00<00:46, 68.0kB/s]"
     ]
    },
    {
     "name": "stdout",
     "output_type": "stream",
     "text": [
      "[###################################     ] | 88% Completed | 16.3s"
     ]
    },
    {
     "name": "stderr",
     "output_type": "stream",
     "text": [
      "  3%|██▉                                                                                                     | 90.0k/3.05M [00:00<00:23, 130kB/s]"
     ]
    },
    {
     "name": "stdout",
     "output_type": "stream",
     "text": [
      "[###################################     ] | 88% Completed | 16.6s"
     ]
    },
    {
     "name": "stderr",
     "output_type": "stream",
     "text": [
      "  7%|██████▉                                                                                                  | 205k/3.05M [00:01<00:12, 244kB/s]"
     ]
    },
    {
     "name": "stdout",
     "output_type": "stream",
     "text": [
      "[###################################     ] | 88% Completed | 16.9s"
     ]
    },
    {
     "name": "stderr",
     "output_type": "stream",
     "text": [
      " 14%|██████████████▏                                                                                          | 422k/3.05M [00:01<00:06, 441kB/s]"
     ]
    },
    {
     "name": "stdout",
     "output_type": "stream",
     "text": [
      "[###################################     ] | 88% Completed | 17.2s"
     ]
    },
    {
     "name": "stderr",
     "output_type": "stream",
     "text": [
      " 27%|████████████████████████████▊                                                                            | 856k/3.05M [00:01<00:02, 827kB/s]"
     ]
    },
    {
     "name": "stdout",
     "output_type": "stream",
     "text": [
      "[###################################     ] | 88% Completed | 17.4s"
     ]
    },
    {
     "name": "stderr",
     "output_type": "stream",
     "text": [
      " 55%|████████████████████████████████████████████████████████▉                                              | 1.69M/3.05M [00:01<00:00, 1.59MB/s]"
     ]
    },
    {
     "name": "stdout",
     "output_type": "stream",
     "text": [
      "[###################################     ] | 88% Completed | 17.8s"
     ]
    },
    {
     "name": "stderr",
     "output_type": "stream",
     "text": [
      " 82%|████████████████████████████████████████████████████████████████████████████████████▊                  | 2.51M/3.05M [00:02<00:00, 2.01MB/s]"
     ]
    },
    {
     "name": "stdout",
     "output_type": "stream",
     "text": [
      "[###################################     ] | 88% Completed | 18.0s"
     ]
    },
    {
     "name": "stderr",
     "output_type": "stream",
     "text": [
      "2022-03-14 10:52:21,541 INFO Download rate 1.1M/s                                                                                                \n"
     ]
    },
    {
     "name": "stdout",
     "output_type": "stream",
     "text": [
      "[###################################     ] | 88% Completed | 18.3s\n",
      "/media/nicolasf/END19101/ICU/data/CDS/operational/hindcasts/UKMO/TPRATE/ensemble_seas_forecasts_tprate_from_1994_03_UKMO.netcdf downloaded OK\n",
      "\n",
      "[########################################] | 100% Completed | 18.4s\n",
      "processing ECCC, path should be /media/nicolasf/END19101/ICU/data/CDS/operational/hindcasts/ECCC_CanCM4i/TPRATE\n",
      "processing ECCC, path should be /media/nicolasf/END19101/ICU/data/CDS/operational/hindcasts/ECCC_GEM_NEMO/TPRATE\n",
      "[                                        ] | 0% Completed |  0.0s\n",
      "/media/nicolasf/END19101/ICU/data/CDS/operational/hindcasts/DWD/TPRATE/ensemble_seas_forecasts_tprate_from_1995_03_DWD.netcdf exists already on disk, skipping download and returning path\n",
      "\n",
      "\n",
      "/media/nicolasf/END19101/ICU/data/CDS/operational/hindcasts/CMCC/TPRATE/ensemble_seas_forecasts_tprate_from_1995_03_CMCC.netcdf exists already on disk, skipping download and returning path\n",
      "\n",
      "\n",
      "attempting to download tprate for GCM METEO_FRANCE, for level surface, year 1995, month 3, in netcdf, attempt 1 of 3\n",
      "\n",
      "\n",
      "/media/nicolasf/END19101/ICU/data/CDS/operational/hindcasts/NCEP/TPRATE/ensemble_seas_forecasts_tprate_from_1995_03_NCEP.netcdf exists already on disk, skipping download and returning path\n",
      "\n",
      "\n",
      "attempting to download tprate for GCM UKMO, for level surface, year 1995, month 3, in netcdf, attempt 1 of 3\n",
      "\n",
      "\n",
      "/media/nicolasf/END19101/ICU/data/CDS/operational/hindcasts/ECCC_CanCM4i/TPRATE/ensemble_seas_forecasts_tprate_from_1995_03_ECCC.netcdf exists already on disk, skipping download and returning path\n",
      "\n",
      "\n",
      "/media/nicolasf/END19101/ICU/data/CDS/operational/hindcasts/ECMWF/TPRATE/ensemble_seas_forecasts_tprate_from_1995_03_ECMWF.netcdf exists already on disk, skipping download and returning path\n",
      "\n",
      "\n",
      "attempting to download tprate for GCM ECCC, for level surface, year 1995, month 3, in netcdf, attempt 1 of 3\n",
      "\n",
      "\n",
      "attempting to download tprate for GCM JMA, for level surface, year 1995, month 3, in netcdf, attempt 1 of 3\n",
      "\n",
      "[######################                  ] | 55% Completed |  0.2s"
     ]
    },
    {
     "name": "stderr",
     "output_type": "stream",
     "text": [
      "2022-03-14 10:52:22,249 INFO Welcome to the CDS\n",
      "2022-03-14 10:52:22,250 INFO Sending request to https://cds.climate.copernicus.eu/api/v2/resources/seasonal-monthly-single-levels\n"
     ]
    },
    {
     "name": "stdout",
     "output_type": "stream",
     "text": [
      "[######################                  ] | 55% Completed |  0.3s"
     ]
    },
    {
     "name": "stderr",
     "output_type": "stream",
     "text": [
      "2022-03-14 10:52:22,259 INFO Welcome to the CDS\n",
      "2022-03-14 10:52:22,260 INFO Welcome to the CDS\n",
      "2022-03-14 10:52:22,261 INFO Sending request to https://cds.climate.copernicus.eu/api/v2/resources/seasonal-monthly-single-levels\n",
      "2022-03-14 10:52:22,261 INFO Sending request to https://cds.climate.copernicus.eu/api/v2/resources/seasonal-monthly-single-levels\n",
      "2022-03-14 10:52:22,266 INFO Welcome to the CDS\n",
      "2022-03-14 10:52:22,266 INFO Sending request to https://cds.climate.copernicus.eu/api/v2/resources/seasonal-monthly-single-levels\n"
     ]
    },
    {
     "name": "stdout",
     "output_type": "stream",
     "text": [
      "[######################                  ] | 55% Completed |  0.5s"
     ]
    },
    {
     "name": "stderr",
     "output_type": "stream",
     "text": [
      "2022-03-14 10:52:22,546 INFO Request is queued\n"
     ]
    },
    {
     "name": "stdout",
     "output_type": "stream",
     "text": [
      "[######################                  ] | 55% Completed |  0.6s"
     ]
    },
    {
     "name": "stderr",
     "output_type": "stream",
     "text": [
      "2022-03-14 10:52:22,560 INFO Request is queued\n",
      "2022-03-14 10:52:22,563 INFO Request is queued\n",
      "2022-03-14 10:52:22,610 INFO Request is queued\n"
     ]
    },
    {
     "name": "stdout",
     "output_type": "stream",
     "text": [
      "[######################                  ] | 55% Completed |  1.8s"
     ]
    },
    {
     "name": "stderr",
     "output_type": "stream",
     "text": [
      "2022-03-14 10:52:23,844 INFO Request is running\n"
     ]
    },
    {
     "name": "stdout",
     "output_type": "stream",
     "text": [
      "[######################                  ] | 55% Completed |  6.2s"
     ]
    },
    {
     "name": "stderr",
     "output_type": "stream",
     "text": [
      "2022-03-14 10:52:28,185 INFO Request is completed\n",
      "2022-03-14 10:52:28,186 INFO Downloading https://download-0012.copernicus-climate.eu/cache-compute-0012/cache/data0/adaptor.mars.external-1647208346.28815-26135-8-735ebba0-9410-45c1-a21e-50646807fb2f.nc to /media/nicolasf/END19101/ICU/data/CDS/operational/hindcasts/METEO_FRANCE/TPRATE/ensemble_seas_forecasts_tprate_from_1995_03_METEO_FRANCE.netcdf (2.7M)\n",
      "2022-03-14 10:52:28,244 INFO Request is running\n"
     ]
    },
    {
     "name": "stdout",
     "output_type": "stream",
     "text": [
      "[######################                  ] | 55% Completed |  7.9s"
     ]
    },
    {
     "name": "stderr",
     "output_type": "stream",
     "text": [
      "  0%|                                                                                                                | 0.00/2.73M [00:00<?, ?B/s]"
     ]
    },
    {
     "name": "stdout",
     "output_type": "stream",
     "text": [
      "[######################                  ] | 55% Completed |  8.3s"
     ]
    },
    {
     "name": "stderr",
     "output_type": "stream",
     "text": [
      "  1%|▌                                                                                                      | 16.0k/2.73M [00:00<00:48, 58.6kB/s]"
     ]
    },
    {
     "name": "stdout",
     "output_type": "stream",
     "text": [
      "[######################                  ] | 55% Completed |  8.5s"
     ]
    },
    {
     "name": "stderr",
     "output_type": "stream",
     "text": [
      "  2%|██▍                                                                                                     | 66.0k/2.73M [00:00<00:21, 131kB/s]"
     ]
    },
    {
     "name": "stdout",
     "output_type": "stream",
     "text": [
      "[######################                  ] | 55% Completed |  8.8s"
     ]
    },
    {
     "name": "stderr",
     "output_type": "stream",
     "text": [
      "  5%|████▊                                                                                                    | 129k/2.73M [00:00<00:15, 176kB/s]"
     ]
    },
    {
     "name": "stdout",
     "output_type": "stream",
     "text": [
      "[######################                  ] | 55% Completed |  9.1s"
     ]
    },
    {
     "name": "stderr",
     "output_type": "stream",
     "text": [
      " 10%|██████████▍                                                                                              | 278k/2.73M [00:01<00:08, 319kB/s]"
     ]
    },
    {
     "name": "stdout",
     "output_type": "stream",
     "text": [
      "[######################                  ] | 55% Completed |  9.4s"
     ]
    },
    {
     "name": "stderr",
     "output_type": "stream",
     "text": [
      " 21%|██████████████████████                                                                                   | 587k/2.73M [00:01<00:03, 608kB/s]"
     ]
    },
    {
     "name": "stdout",
     "output_type": "stream",
     "text": [
      "[######################                  ] | 55% Completed |  9.6s"
     ]
    },
    {
     "name": "stderr",
     "output_type": "stream",
     "text": [
      " 43%|████████████████████████████████████████████▎                                                          | 1.17M/2.73M [00:01<00:01, 1.15MB/s]"
     ]
    },
    {
     "name": "stdout",
     "output_type": "stream",
     "text": [
      "[######################                  ] | 55% Completed |  9.9s"
     ]
    },
    {
     "name": "stderr",
     "output_type": "stream",
     "text": [
      "2022-03-14 10:52:31,881 INFO Request is running\n",
      "2022-03-14 10:52:31,921 INFO Request is completed\n",
      "2022-03-14 10:52:31,922 INFO Downloading https://download-0003.copernicus-climate.eu/cache-compute-0003/cache/data4/adaptor.mars.external-1647208350.1233068-13809-1-1e05fc4e-2305-4579-bbfa-3062beb0301e.nc to /media/nicolasf/END19101/ICU/data/CDS/operational/hindcasts/UKMO/TPRATE/ensemble_seas_forecasts_tprate_from_1995_03_UKMO.netcdf (3.1M)\n"
     ]
    },
    {
     "name": "stdout",
     "output_type": "stream",
     "text": [
      "[######################                  ] | 55% Completed | 10.0s"
     ]
    },
    {
     "name": "stderr",
     "output_type": "stream",
     "text": [
      " 76%|██████████████████████████████████████████████████████████████████████████████▋                        | 2.08M/2.73M [00:02<00:00, 1.83MB/s]"
     ]
    },
    {
     "name": "stdout",
     "output_type": "stream",
     "text": [
      "[######################                  ] | 55% Completed | 10.2s"
     ]
    },
    {
     "name": "stderr",
     "output_type": "stream",
     "text": [
      " 86%|█████████████████████████████████████████████████████████████████████████████████████████              | 2.36M/2.73M [00:02<00:00, 1.63MB/s]\n",
      "  0%|                                                                                                                | 0.00/3.05M [00:00<?, ?B/s]\u001b[A"
     ]
    },
    {
     "name": "stdout",
     "output_type": "stream",
     "text": [
      "[######################                  ] | 55% Completed | 10.3s"
     ]
    },
    {
     "name": "stderr",
     "output_type": "stream",
     "text": [
      "2022-03-14 10:52:32,320 INFO Download rate 675.3K/s                                                                                              \n"
     ]
    },
    {
     "name": "stdout",
     "output_type": "stream",
     "text": [
      "[######################                  ] | 55% Completed | 10.5s"
     ]
    },
    {
     "name": "stderr",
     "output_type": "stream",
     "text": [
      "\n",
      "  0%|▎                                                                                                      | 8.00k/3.05M [00:00<01:48, 29.5kB/s]\u001b[A"
     ]
    },
    {
     "name": "stdout",
     "output_type": "stream",
     "text": [
      "[######################                  ] | 55% Completed | 10.6s\n",
      "/media/nicolasf/END19101/ICU/data/CDS/operational/hindcasts/METEO_FRANCE/TPRATE/ensemble_seas_forecasts_tprate_from_1995_03_METEO_FRANCE.netcdf downloaded OK\n",
      "\n",
      "[##########################              ] | 66% Completed | 10.8s"
     ]
    },
    {
     "name": "stderr",
     "output_type": "stream",
     "text": [
      "\n",
      "  1%|█                                                                                                      | 34.0k/3.05M [00:00<00:46, 67.6kB/s]\u001b[A"
     ]
    },
    {
     "name": "stdout",
     "output_type": "stream",
     "text": [
      "[##########################              ] | 66% Completed | 11.1s"
     ]
    },
    {
     "name": "stderr",
     "output_type": "stream",
     "text": [
      "\n",
      "  3%|██▉                                                                                                     | 90.0k/3.05M [00:00<00:24, 129kB/s]\u001b[A"
     ]
    },
    {
     "name": "stdout",
     "output_type": "stream",
     "text": [
      "[##########################              ] | 66% Completed | 11.3s"
     ]
    },
    {
     "name": "stderr",
     "output_type": "stream",
     "text": [
      "\n",
      "  6%|██████▊                                                                                                  | 201k/3.05M [00:01<00:12, 236kB/s]\u001b[A"
     ]
    },
    {
     "name": "stdout",
     "output_type": "stream",
     "text": [
      "[##########################              ] | 66% Completed | 11.6s"
     ]
    },
    {
     "name": "stderr",
     "output_type": "stream",
     "text": [
      "\n",
      " 14%|██████████████▏                                                                                          | 422k/3.05M [00:01<00:06, 439kB/s]\u001b[A"
     ]
    },
    {
     "name": "stdout",
     "output_type": "stream",
     "text": [
      "[##########################              ] | 66% Completed | 11.9s"
     ]
    },
    {
     "name": "stderr",
     "output_type": "stream",
     "text": [
      "\n",
      " 25%|█████████████████████████▊                                                                               | 768k/3.05M [00:01<00:03, 694kB/s]\u001b[A"
     ]
    },
    {
     "name": "stdout",
     "output_type": "stream",
     "text": [
      "[##########################              ] | 66% Completed | 12.2s"
     ]
    },
    {
     "name": "stderr",
     "output_type": "stream",
     "text": [
      "\n",
      " 27%|████████████████████████████                                                                             | 835k/3.05M [00:01<00:04, 560kB/s]\u001b[A"
     ]
    },
    {
     "name": "stdout",
     "output_type": "stream",
     "text": [
      "[##########################              ] | 66% Completed | 12.5s"
     ]
    },
    {
     "name": "stderr",
     "output_type": "stream",
     "text": [
      "\n",
      " 70%|███████████████████████████████████████████████████████████████████████▌                               | 2.12M/3.05M [00:02<00:00, 1.93MB/s]\u001b[A"
     ]
    },
    {
     "name": "stdout",
     "output_type": "stream",
     "text": [
      "[##########################              ] | 66% Completed | 12.8s"
     ]
    },
    {
     "name": "stderr",
     "output_type": "stream",
     "text": [
      "\n",
      " 87%|██████████████████████████████████████████████████████████████████████████████████████████             | 2.67M/3.05M [00:02<00:00, 1.96MB/s]\u001b[A"
     ]
    },
    {
     "name": "stdout",
     "output_type": "stream",
     "text": [
      "[##########################              ] | 66% Completed | 12.9s"
     ]
    },
    {
     "name": "stderr",
     "output_type": "stream",
     "text": [
      "\n",
      "                                                                                                                                                 \u001b[A2022-03-14 10:52:34,896 INFO Download rate 1M/s\n"
     ]
    },
    {
     "name": "stdout",
     "output_type": "stream",
     "text": [
      "[##########################              ] | 66% Completed | 13.2s\n",
      "/media/nicolasf/END19101/ICU/data/CDS/operational/hindcasts/UKMO/TPRATE/ensemble_seas_forecasts_tprate_from_1995_03_UKMO.netcdf downloaded OK\n",
      "\n",
      "[###############################         ] | 77% Completed | 15.2s"
     ]
    },
    {
     "name": "stderr",
     "output_type": "stream",
     "text": [
      "2022-03-14 10:52:37,227 INFO Request is completed\n",
      "2022-03-14 10:52:37,228 INFO Downloading https://download-0015.copernicus-climate.eu/cache-compute-0015/cache/data3/adaptor.mars.external-1647208354.1309006-28284-11-5c7b8124-e446-40d1-b355-a28a2fb08481.nc to /media/nicolasf/END19101/ICU/data/CDS/operational/hindcasts/JMA/TPRATE/ensemble_seas_forecasts_tprate_from_1995_03_JMA.netcdf (719.2K)\n",
      "2022-03-14 10:52:37,243 INFO Request is completed\n",
      "2022-03-14 10:52:37,243 INFO Downloading https://download-0008.copernicus-climate.eu/cache-compute-0008/cache/data0/adaptor.mars.external-1647208351.93222-30510-8-abf861d3-68c9-43a0-bac0-54e1e8346e67.nc to /media/nicolasf/END19101/ICU/data/CDS/operational/hindcasts/ECCC_GEM_NEMO/TPRATE/ensemble_seas_forecasts_tprate_from_1995_03_ECCC.netcdf (1.1M)\n"
     ]
    },
    {
     "name": "stdout",
     "output_type": "stream",
     "text": [
      "[###############################         ] | 77% Completed | 15.5s"
     ]
    },
    {
     "name": "stderr",
     "output_type": "stream",
     "text": [
      "  0%|                                                                                                                | 0.00/1.09M [00:00<?, ?B/s]"
     ]
    },
    {
     "name": "stdout",
     "output_type": "stream",
     "text": [
      "[###############################         ] | 77% Completed | 15.8s"
     ]
    },
    {
     "name": "stderr",
     "output_type": "stream",
     "text": [
      "  1%|▋                                                                                                      | 8.00k/1.09M [00:00<00:39, 29.1kB/s]"
     ]
    },
    {
     "name": "stdout",
     "output_type": "stream",
     "text": [
      "[###############################         ] | 77% Completed | 16.1s"
     ]
    },
    {
     "name": "stderr",
     "output_type": "stream",
     "text": [
      "  3%|███▏                                                                                                   | 34.0k/1.09M [00:00<00:16, 67.4kB/s]"
     ]
    },
    {
     "name": "stdout",
     "output_type": "stream",
     "text": [
      "[###############################         ] | 77% Completed | 16.3s"
     ]
    },
    {
     "name": "stderr",
     "output_type": "stream",
     "text": [
      "  8%|████████▌                                                                                               | 92.0k/1.09M [00:00<00:07, 133kB/s]"
     ]
    },
    {
     "name": "stdout",
     "output_type": "stream",
     "text": [
      "[###############################         ] | 77% Completed | 16.6s"
     ]
    },
    {
     "name": "stderr",
     "output_type": "stream",
     "text": [
      " 18%|██████████████████▊                                                                                      | 200k/1.09M [00:01<00:04, 234kB/s]"
     ]
    },
    {
     "name": "stdout",
     "output_type": "stream",
     "text": [
      "[###############################         ] | 77% Completed | 16.9s"
     ]
    },
    {
     "name": "stderr",
     "output_type": "stream",
     "text": [
      " 38%|███████████████████████████████████████▋                                                                 | 422k/1.09M [00:01<00:01, 440kB/s]\n",
      "  0%|                                                                                                                 | 0.00/719k [00:00<?, ?B/s]\u001b[A"
     ]
    },
    {
     "name": "stdout",
     "output_type": "stream",
     "text": [
      "[###############################         ] | 77% Completed | 17.3s"
     ]
    },
    {
     "name": "stderr",
     "output_type": "stream",
     "text": [
      " 77%|█████████████████████████████████████████████████████████████████████████████████▏                       | 864k/1.09M [00:01<00:00, 834kB/s]\n",
      "  2%|██▎                                                                                                     | 16.0k/719k [00:00<00:12, 57.6kB/s]\u001b[A"
     ]
    },
    {
     "name": "stdout",
     "output_type": "stream",
     "text": [
      "[###############################         ] | 77% Completed | 17.4s"
     ]
    },
    {
     "name": "stderr",
     "output_type": "stream",
     "text": [
      "2022-03-14 10:52:39,336 INFO Download rate 534.1K/s                                                                                              \n"
     ]
    },
    {
     "name": "stdout",
     "output_type": "stream",
     "text": [
      "[###############################         ] | 77% Completed | 17.6s"
     ]
    },
    {
     "name": "stderr",
     "output_type": "stream",
     "text": [
      "\n",
      "  8%|████████▍                                                                                                | 58.0k/719k [00:00<00:06, 112kB/s]\u001b[A"
     ]
    },
    {
     "name": "stdout",
     "output_type": "stream",
     "text": [
      "[###############################         ] | 77% Completed | 17.7s\n",
      "/media/nicolasf/END19101/ICU/data/CDS/operational/hindcasts/ECCC_GEM_NEMO/TPRATE/ensemble_seas_forecasts_tprate_from_1995_03_ECCC.netcdf downloaded OK\n",
      "\n",
      "[###################################     ] | 88% Completed | 17.9s"
     ]
    },
    {
     "name": "stderr",
     "output_type": "stream",
     "text": [
      "\n",
      " 13%|█████████████▏                                                                                           | 90.0k/719k [00:00<00:05, 113kB/s]\u001b[A"
     ]
    },
    {
     "name": "stdout",
     "output_type": "stream",
     "text": [
      "[###################################     ] | 88% Completed | 18.1s"
     ]
    },
    {
     "name": "stderr",
     "output_type": "stream",
     "text": [
      "\n",
      " 28%|█████████████████████████████▍                                                                            | 200k/719k [00:01<00:02, 223kB/s]\u001b[A"
     ]
    },
    {
     "name": "stdout",
     "output_type": "stream",
     "text": [
      "[###################################     ] | 88% Completed | 18.4s"
     ]
    },
    {
     "name": "stderr",
     "output_type": "stream",
     "text": [
      "\n",
      " 60%|███████████████████████████████████████████████████████████████▍                                          | 430k/719k [00:01<00:00, 439kB/s]\u001b[A"
     ]
    },
    {
     "name": "stdout",
     "output_type": "stream",
     "text": [
      "[###################################     ] | 88% Completed | 18.5s"
     ]
    },
    {
     "name": "stderr",
     "output_type": "stream",
     "text": [
      "\n",
      "                                                                                                                                                 \u001b[A2022-03-14 10:52:40,496 INFO Download rate 220.1K/s\n"
     ]
    },
    {
     "name": "stdout",
     "output_type": "stream",
     "text": [
      "[###################################     ] | 88% Completed | 18.8s\n",
      "/media/nicolasf/END19101/ICU/data/CDS/operational/hindcasts/JMA/TPRATE/ensemble_seas_forecasts_tprate_from_1995_03_JMA.netcdf downloaded OK\n",
      "\n",
      "[########################################] | 100% Completed | 18.9s\n",
      "processing ECCC, path should be /media/nicolasf/END19101/ICU/data/CDS/operational/hindcasts/ECCC_CanCM4i/TPRATE\n",
      "processing ECCC, path should be /media/nicolasf/END19101/ICU/data/CDS/operational/hindcasts/ECCC_GEM_NEMO/TPRATE\n",
      "[                                        ] | 0% Completed |  0.0s\n",
      "/media/nicolasf/END19101/ICU/data/CDS/operational/hindcasts/NCEP/TPRATE/ensemble_seas_forecasts_tprate_from_1996_03_NCEP.netcdf exists already on disk, skipping download and returning path\n",
      "\n",
      "attempting to download tprate for GCM ECCC, for level surface, year 1996, month 3, in netcdf, attempt 1 of 3\n",
      "\n",
      "\n",
      "\n",
      "attempting to download tprate for GCM METEO_FRANCE, for level surface, year 1996, month 3, in netcdf, attempt 1 of 3\n",
      "\n",
      "\n",
      "/media/nicolasf/END19101/ICU/data/CDS/operational/hindcasts/ECMWF/TPRATE/ensemble_seas_forecasts_tprate_from_1996_03_ECMWF.netcdf exists already on disk, skipping download and returning path\n",
      "\n",
      "\n",
      "/media/nicolasf/END19101/ICU/data/CDS/operational/hindcasts/ECCC_CanCM4i/TPRATE/ensemble_seas_forecasts_tprate_from_1996_03_ECCC.netcdf exists already on disk, skipping download and returning path\n",
      "\n",
      "\n",
      "/media/nicolasf/END19101/ICU/data/CDS/operational/hindcasts/DWD/TPRATE/ensemble_seas_forecasts_tprate_from_1996_03_DWD.netcdf exists already on disk, skipping download and returning path\n",
      "\n",
      "\n",
      "attempting to download tprate for GCM JMA, for level surface, year 1996, month 3, in netcdf, attempt 1 of 3\n",
      "\n",
      "\n",
      "/media/nicolasf/END19101/ICU/data/CDS/operational/hindcasts/CMCC/TPRATE/ensemble_seas_forecasts_tprate_from_1996_03_CMCC.netcdf exists already on disk, skipping download and returning path\n",
      "\n",
      "\n",
      "attempting to download tprate for GCM UKMO, for level surface, year 1996, month 3, in netcdf, attempt 1 of 3\n",
      "\n",
      "[######################                  ] | 55% Completed |  0.3s"
     ]
    },
    {
     "name": "stderr",
     "output_type": "stream",
     "text": [
      "2022-03-14 10:52:41,124 INFO Welcome to the CDS\n",
      "2022-03-14 10:52:41,125 INFO Sending request to https://cds.climate.copernicus.eu/api/v2/resources/seasonal-monthly-single-levels\n",
      "2022-03-14 10:52:41,128 INFO Welcome to the CDS\n",
      "2022-03-14 10:52:41,128 INFO Sending request to https://cds.climate.copernicus.eu/api/v2/resources/seasonal-monthly-single-levels\n",
      "2022-03-14 10:52:41,128 INFO Welcome to the CDS\n",
      "2022-03-14 10:52:41,130 INFO Sending request to https://cds.climate.copernicus.eu/api/v2/resources/seasonal-monthly-single-levels\n",
      "2022-03-14 10:52:41,132 INFO Welcome to the CDS\n",
      "2022-03-14 10:52:41,133 INFO Sending request to https://cds.climate.copernicus.eu/api/v2/resources/seasonal-monthly-single-levels\n"
     ]
    },
    {
     "name": "stdout",
     "output_type": "stream",
     "text": [
      "[######################                  ] | 55% Completed |  0.5s"
     ]
    },
    {
     "name": "stderr",
     "output_type": "stream",
     "text": [
      "2022-03-14 10:52:41,417 INFO Request is queued\n",
      "2022-03-14 10:52:41,420 INFO Request is queued\n",
      "2022-03-14 10:52:41,425 INFO Request is queued\n"
     ]
    },
    {
     "name": "stdout",
     "output_type": "stream",
     "text": [
      "[######################                  ] | 55% Completed |  0.6s"
     ]
    },
    {
     "name": "stderr",
     "output_type": "stream",
     "text": [
      "2022-03-14 10:52:41,444 INFO Request is queued\n"
     ]
    },
    {
     "name": "stdout",
     "output_type": "stream",
     "text": [
      "[######################                  ] | 55% Completed |  1.8s"
     ]
    },
    {
     "name": "stderr",
     "output_type": "stream",
     "text": [
      "2022-03-14 10:52:42,713 INFO Request is running\n"
     ]
    },
    {
     "name": "stdout",
     "output_type": "stream",
     "text": [
      "[######################                  ] | 55% Completed |  3.6s"
     ]
    },
    {
     "name": "stderr",
     "output_type": "stream",
     "text": [
      "2022-03-14 10:52:44,500 INFO Request is running\n",
      "2022-03-14 10:52:44,511 INFO Request is completed\n",
      "2022-03-14 10:52:44,511 INFO Downloading https://download-0005.copernicus-climate.eu/cache-compute-0005/cache/data1/adaptor.mars.external-1647208363.037983-12717-3-f5bd9d4a-169a-485a-9f1a-d1536af55062.nc to /media/nicolasf/END19101/ICU/data/CDS/operational/hindcasts/JMA/TPRATE/ensemble_seas_forecasts_tprate_from_1996_03_JMA.netcdf (719.2K)\n"
     ]
    },
    {
     "name": "stdout",
     "output_type": "stream",
     "text": [
      "[######################                  ] | 55% Completed |  5.3s"
     ]
    },
    {
     "name": "stderr",
     "output_type": "stream",
     "text": [
      "  0%|                                                                                                                 | 0.00/719k [00:00<?, ?B/s]"
     ]
    },
    {
     "name": "stdout",
     "output_type": "stream",
     "text": [
      "[######################                  ] | 55% Completed |  5.6s"
     ]
    },
    {
     "name": "stderr",
     "output_type": "stream",
     "text": [
      "  2%|██▎                                                                                                     | 16.0k/719k [00:00<00:12, 58.1kB/s]"
     ]
    },
    {
     "name": "stdout",
     "output_type": "stream",
     "text": [
      "[######################                  ] | 55% Completed |  5.9s"
     ]
    },
    {
     "name": "stderr",
     "output_type": "stream",
     "text": [
      "  9%|█████████▋                                                                                               | 66.0k/719k [00:00<00:05, 130kB/s]"
     ]
    },
    {
     "name": "stdout",
     "output_type": "stream",
     "text": [
      "[######################                  ] | 55% Completed |  6.2s"
     ]
    },
    {
     "name": "stderr",
     "output_type": "stream",
     "text": [
      " 23%|███████████████████████▉                                                                                  | 162k/719k [00:00<00:02, 229kB/s]"
     ]
    },
    {
     "name": "stdout",
     "output_type": "stream",
     "text": [
      "[######################                  ] | 55% Completed |  6.4s"
     ]
    },
    {
     "name": "stderr",
     "output_type": "stream",
     "text": [
      " 49%|███████████████████████████████████████████████████▌                                                      | 350k/719k [00:01<00:00, 407kB/s]"
     ]
    },
    {
     "name": "stdout",
     "output_type": "stream",
     "text": [
      "[######################                  ] | 55% Completed |  6.7s"
     ]
    },
    {
     "name": "stderr",
     "output_type": "stream",
     "text": [
      "2022-03-14 10:52:47,480 INFO Download rate 242.3K/s                                                                                              \n"
     ]
    },
    {
     "name": "stdout",
     "output_type": "stream",
     "text": [
      "[######################                  ] | 55% Completed |  7.0s\n",
      "/media/nicolasf/END19101/ICU/data/CDS/operational/hindcasts/JMA/TPRATE/ensemble_seas_forecasts_tprate_from_1996_03_JMA.netcdf downloaded OK\n",
      "\n",
      "[##########################              ] | 66% Completed |  9.9s"
     ]
    },
    {
     "name": "stderr",
     "output_type": "stream",
     "text": [
      "2022-03-14 10:52:50,707 INFO Request is completed\n",
      "2022-03-14 10:52:50,709 INFO Downloading https://download-0003.copernicus-climate.eu/cache-compute-0003/cache/data8/adaptor.mars.external-1647208367.1999452-12128-19-8ffe96d7-425a-48d8-b7c5-3dbe0c06a6a3.nc to /media/nicolasf/END19101/ICU/data/CDS/operational/hindcasts/METEO_FRANCE/TPRATE/ensemble_seas_forecasts_tprate_from_1996_03_METEO_FRANCE.netcdf (2.7M)\n",
      "2022-03-14 10:52:50,723 INFO Request is running\n"
     ]
    },
    {
     "name": "stdout",
     "output_type": "stream",
     "text": [
      "[##########################              ] | 66% Completed | 10.2s"
     ]
    },
    {
     "name": "stderr",
     "output_type": "stream",
     "text": [
      "  0%|                                                                                                                | 0.00/2.73M [00:00<?, ?B/s]"
     ]
    },
    {
     "name": "stdout",
     "output_type": "stream",
     "text": [
      "[##########################              ] | 66% Completed | 10.4s"
     ]
    },
    {
     "name": "stderr",
     "output_type": "stream",
     "text": [
      "  0%|▎                                                                                                      | 8.00k/2.73M [00:00<01:37, 29.3kB/s]"
     ]
    },
    {
     "name": "stdout",
     "output_type": "stream",
     "text": [
      "[##########################              ] | 66% Completed | 10.7s"
     ]
    },
    {
     "name": "stderr",
     "output_type": "stream",
     "text": [
      "  1%|█▎                                                                                                     | 35.0k/2.73M [00:00<00:40, 69.6kB/s]"
     ]
    },
    {
     "name": "stdout",
     "output_type": "stream",
     "text": [
      "[##########################              ] | 66% Completed | 11.0s"
     ]
    },
    {
     "name": "stderr",
     "output_type": "stream",
     "text": [
      "  3%|███▍                                                                                                    | 91.0k/2.73M [00:00<00:21, 130kB/s]"
     ]
    },
    {
     "name": "stdout",
     "output_type": "stream",
     "text": [
      "[##########################              ] | 66% Completed | 11.3s"
     ]
    },
    {
     "name": "stderr",
     "output_type": "stream",
     "text": [
      "  7%|███████▋                                                                                                 | 203k/2.73M [00:01<00:11, 238kB/s]"
     ]
    },
    {
     "name": "stdout",
     "output_type": "stream",
     "text": [
      "[##########################              ] | 66% Completed | 11.5s"
     ]
    },
    {
     "name": "stderr",
     "output_type": "stream",
     "text": [
      " 15%|███████████████▉                                                                                         | 422k/2.73M [00:01<00:05, 437kB/s]"
     ]
    },
    {
     "name": "stdout",
     "output_type": "stream",
     "text": [
      "[##########################              ] | 66% Completed | 11.8s"
     ]
    },
    {
     "name": "stderr",
     "output_type": "stream",
     "text": [
      " 31%|████████████████████████████████▌                                                                        | 864k/2.73M [00:01<00:02, 822kB/s]"
     ]
    },
    {
     "name": "stdout",
     "output_type": "stream",
     "text": [
      "[##########################              ] | 66% Completed | 12.1s"
     ]
    },
    {
     "name": "stderr",
     "output_type": "stream",
     "text": [
      " 52%|█████████████████████████████████████████████████████▎                                                 | 1.41M/2.73M [00:01<00:01, 1.23MB/s]"
     ]
    },
    {
     "name": "stdout",
     "output_type": "stream",
     "text": [
      "[##########################              ] | 66% Completed | 12.4s"
     ]
    },
    {
     "name": "stderr",
     "output_type": "stream",
     "text": [
      " 58%|███████████████████████████████████████████████████████████▋                                           | 1.58M/2.73M [00:02<00:01, 1.01MB/s]"
     ]
    },
    {
     "name": "stdout",
     "output_type": "stream",
     "text": [
      "[##########################              ] | 66% Completed | 12.7s"
     ]
    },
    {
     "name": "stderr",
     "output_type": "stream",
     "text": [
      " 84%|██████████████████████████████████████████████████████████████████████████████████████▍                | 2.29M/2.73M [00:02<00:00, 1.54MB/s]"
     ]
    },
    {
     "name": "stdout",
     "output_type": "stream",
     "text": [
      "[##########################              ] | 66% Completed | 13.0s"
     ]
    },
    {
     "name": "stderr",
     "output_type": "stream",
     "text": [
      " 99%|██████████████████████████████████████████████████████████████████████████████████████████████████████▎| 2.71M/2.73M [00:02<00:00, 1.55MB/s]"
     ]
    },
    {
     "name": "stdout",
     "output_type": "stream",
     "text": [
      "[##########################              ] | 66% Completed | 13.1s"
     ]
    },
    {
     "name": "stderr",
     "output_type": "stream",
     "text": [
      "2022-03-14 10:52:53,969 INFO Download rate 856.5K/s                                                                                              \n"
     ]
    },
    {
     "name": "stdout",
     "output_type": "stream",
     "text": [
      "[##########################              ] | 66% Completed | 13.4s\n",
      "/media/nicolasf/END19101/ICU/data/CDS/operational/hindcasts/METEO_FRANCE/TPRATE/ensemble_seas_forecasts_tprate_from_1996_03_METEO_FRANCE.netcdf downloaded OK\n",
      "\n",
      "[###############################         ] | 77% Completed | 15.2s"
     ]
    },
    {
     "name": "stderr",
     "output_type": "stream",
     "text": [
      "2022-03-14 10:52:56,083 INFO Request is completed\n",
      "2022-03-14 10:52:56,085 INFO Downloading https://download-0012.copernicus-climate.eu/cache-compute-0012/cache/data4/adaptor.mars.external-1647208370.336675-26375-7-7a68080f-b649-40f5-a787-4d765c96a1d3.nc to /media/nicolasf/END19101/ICU/data/CDS/operational/hindcasts/UKMO/TPRATE/ensemble_seas_forecasts_tprate_from_1996_03_UKMO.netcdf (3.1M)\n"
     ]
    },
    {
     "name": "stdout",
     "output_type": "stream",
     "text": [
      "[###############################         ] | 77% Completed | 15.3s"
     ]
    },
    {
     "name": "stderr",
     "output_type": "stream",
     "text": [
      "2022-03-14 10:52:56,097 INFO Request is completed\n",
      "2022-03-14 10:52:56,097 INFO Downloading https://download-0001.copernicus-climate.eu/cache-compute-0001/cache/data9/adaptor.mars.external-1647208372.9515402-24110-10-00c83516-3086-4727-8357-fbededd58b75.nc to /media/nicolasf/END19101/ICU/data/CDS/operational/hindcasts/ECCC_GEM_NEMO/TPRATE/ensemble_seas_forecasts_tprate_from_1996_03_ECCC.netcdf (1.1M)\n"
     ]
    },
    {
     "name": "stdout",
     "output_type": "stream",
     "text": [
      "[###############################         ] | 77% Completed | 15.5s"
     ]
    },
    {
     "name": "stderr",
     "output_type": "stream",
     "text": [
      "  0%|                                                                                                                | 0.00/3.05M [00:00<?, ?B/s]"
     ]
    },
    {
     "name": "stdout",
     "output_type": "stream",
     "text": [
      "[###############################         ] | 77% Completed | 15.8s"
     ]
    },
    {
     "name": "stderr",
     "output_type": "stream",
     "text": [
      "  0%|▎                                                                                                      | 8.00k/3.05M [00:00<01:49, 29.3kB/s]"
     ]
    },
    {
     "name": "stdout",
     "output_type": "stream",
     "text": [
      "[###############################         ] | 77% Completed | 16.1s"
     ]
    },
    {
     "name": "stderr",
     "output_type": "stream",
     "text": [
      "  1%|█▎                                                                                                     | 40.0k/3.05M [00:00<00:39, 80.6kB/s]"
     ]
    },
    {
     "name": "stdout",
     "output_type": "stream",
     "text": [
      "[###############################         ] | 77% Completed | 16.4s"
     ]
    },
    {
     "name": "stderr",
     "output_type": "stream",
     "text": [
      "  3%|███▏                                                                                                    | 96.0k/3.05M [00:00<00:22, 137kB/s]"
     ]
    },
    {
     "name": "stdout",
     "output_type": "stream",
     "text": [
      "[###############################         ] | 77% Completed | 16.5s"
     ]
    },
    {
     "name": "stderr",
     "output_type": "stream",
     "text": [
      "\n",
      "  0%|                                                                                                                | 0.00/1.09M [00:00<?, ?B/s]\u001b[A"
     ]
    },
    {
     "name": "stdout",
     "output_type": "stream",
     "text": [
      "[###############################         ] | 77% Completed | 16.6s"
     ]
    },
    {
     "name": "stderr",
     "output_type": "stream",
     "text": [
      "  6%|██████▋                                                                                                  | 200k/3.05M [00:01<00:12, 232kB/s]"
     ]
    },
    {
     "name": "stdout",
     "output_type": "stream",
     "text": [
      "[###############################         ] | 77% Completed | 16.7s"
     ]
    },
    {
     "name": "stderr",
     "output_type": "stream",
     "text": [
      "\n",
      "  1%|█▍                                                                                                     | 16.0k/1.09M [00:00<00:19, 58.4kB/s]\u001b[A"
     ]
    },
    {
     "name": "stdout",
     "output_type": "stream",
     "text": [
      "[###############################         ] | 77% Completed | 16.9s"
     ]
    },
    {
     "name": "stderr",
     "output_type": "stream",
     "text": [
      " 14%|██████████████▏                                                                                          | 422k/3.05M [00:01<00:06, 439kB/s]"
     ]
    },
    {
     "name": "stdout",
     "output_type": "stream",
     "text": [
      "[###############################         ] | 77% Completed | 17.0s"
     ]
    },
    {
     "name": "stderr",
     "output_type": "stream",
     "text": [
      "\n",
      "  6%|█████▉                                                                                                  | 64.0k/1.09M [00:00<00:08, 126kB/s]\u001b[A"
     ]
    },
    {
     "name": "stdout",
     "output_type": "stream",
     "text": [
      "[###############################         ] | 77% Completed | 17.2s"
     ]
    },
    {
     "name": "stderr",
     "output_type": "stream",
     "text": [
      " 28%|█████████████████████████████                                                                            | 864k/3.05M [00:01<00:02, 835kB/s]"
     ]
    },
    {
     "name": "stdout",
     "output_type": "stream",
     "text": [
      "[###############################         ] | 77% Completed | 17.3s"
     ]
    },
    {
     "name": "stderr",
     "output_type": "stream",
     "text": [
      "\n",
      " 11%|███████████▉                                                                                             | 127k/1.09M [00:00<00:05, 172kB/s]\u001b[A"
     ]
    },
    {
     "name": "stdout",
     "output_type": "stream",
     "text": [
      "[###############################         ] | 77% Completed | 17.5s"
     ]
    },
    {
     "name": "stderr",
     "output_type": "stream",
     "text": [
      " 56%|█████████████████████████████████████████████████████████▏                                             | 1.70M/3.05M [00:01<00:00, 1.60MB/s]"
     ]
    },
    {
     "name": "stdout",
     "output_type": "stream",
     "text": [
      "[###############################         ] | 77% Completed | 17.6s"
     ]
    },
    {
     "name": "stderr",
     "output_type": "stream",
     "text": [
      "\n",
      " 25%|██████████████████████████                                                                               | 278k/1.09M [00:01<00:02, 320kB/s]\u001b[A"
     ]
    },
    {
     "name": "stdout",
     "output_type": "stream",
     "text": [
      "[###############################         ] | 77% Completed | 17.8s"
     ]
    },
    {
     "name": "stderr",
     "output_type": "stream",
     "text": [
      " 85%|███████████████████████████████████████████████████████████████████████████████████████▉               | 2.61M/3.05M [00:02<00:00, 2.11MB/s]"
     ]
    },
    {
     "name": "stdout",
     "output_type": "stream",
     "text": [
      "[###############################         ] | 77% Completed | 17.9s"
     ]
    },
    {
     "name": "stderr",
     "output_type": "stream",
     "text": [
      "\n",
      "2022-03-14 10:52:58,789 INFO Download rate 1.1M/s                                                                                                \u001b[A\n"
     ]
    },
    {
     "name": "stdout",
     "output_type": "stream",
     "text": [
      "[###############################         ] | 77% Completed | 18.0s"
     ]
    },
    {
     "name": "stderr",
     "output_type": "stream",
     "text": [
      "\n",
      "                                                                                                                                                 \u001b[A2022-03-14 10:52:58,856 INFO Download rate 405.1K/s\n"
     ]
    },
    {
     "name": "stdout",
     "output_type": "stream",
     "text": [
      "[###############################         ] | 77% Completed | 18.2s\n",
      "/media/nicolasf/END19101/ICU/data/CDS/operational/hindcasts/UKMO/TPRATE/ensemble_seas_forecasts_tprate_from_1996_03_UKMO.netcdf downloaded OK\n",
      "\n",
      "[###################################     ] | 88% Completed | 18.3s\n",
      "/media/nicolasf/END19101/ICU/data/CDS/operational/hindcasts/ECCC_GEM_NEMO/TPRATE/ensemble_seas_forecasts_tprate_from_1996_03_ECCC.netcdf downloaded OK\n",
      "\n",
      "[########################################] | 100% Completed | 18.4s\n",
      "processing ECCC, path should be /media/nicolasf/END19101/ICU/data/CDS/operational/hindcasts/ECCC_CanCM4i/TPRATE\n",
      "processing ECCC, path should be /media/nicolasf/END19101/ICU/data/CDS/operational/hindcasts/ECCC_GEM_NEMO/TPRATE\n",
      "[                                        ] | 0% Completed |  0.0s\n",
      "/media/nicolasf/END19101/ICU/data/CDS/operational/hindcasts/NCEP/TPRATE/ensemble_seas_forecasts_tprate_from_1997_03_NCEP.netcdf exists already on disk, skipping download and returning path\n",
      "\n",
      "/media/nicolasf/END19101/ICU/data/CDS/operational/hindcasts/ECMWF/TPRATE/ensemble_seas_forecasts_tprate_from_1997_03_ECMWF.netcdf exists already on disk, skipping download and returning path\n",
      "\n",
      "\n",
      "\n",
      "/media/nicolasf/END19101/ICU/data/CDS/operational/hindcasts/DWD/TPRATE/ensemble_seas_forecasts_tprate_from_1997_03_DWD.netcdf exists already on disk, skipping download and returning path\n",
      "\n",
      "\n",
      "attempting to download tprate for GCM JMA, for level surface, year 1997, month 3, in netcdf, attempt 1 of 3\n",
      "\n",
      "attempting to download tprate for GCM ECCC, for level surface, year 1997, month 3, in netcdf, attempt 1 of 3\n",
      "\n",
      "\n",
      "/media/nicolasf/END19101/ICU/data/CDS/operational/hindcasts/CMCC/TPRATE/ensemble_seas_forecasts_tprate_from_1997_03_CMCC.netcdf exists already on disk, skipping download and returning path\n",
      "\n",
      "\n",
      "attempting to download tprate for GCM METEO_FRANCE, for level surface, year 1997, month 3, in netcdf, attempt 1 of 3\n",
      "\n",
      "\n",
      "attempting to download tprate for GCM UKMO, for level surface, year 1997, month 3, in netcdf, attempt 1 of 3\n",
      "\n",
      "\n",
      "\n",
      "/media/nicolasf/END19101/ICU/data/CDS/operational/hindcasts/ECCC_CanCM4i/TPRATE/ensemble_seas_forecasts_tprate_from_1997_03_ECCC.netcdf exists already on disk, skipping download and returning path\n",
      "\n",
      "[######################                  ] | 55% Completed |  0.2s"
     ]
    },
    {
     "name": "stderr",
     "output_type": "stream",
     "text": [
      "2022-03-14 10:52:59,549 INFO Welcome to the CDS\n"
     ]
    },
    {
     "name": "stdout",
     "output_type": "stream",
     "text": [
      "[######################                  ] | 55% Completed |  0.3s"
     ]
    },
    {
     "name": "stderr",
     "output_type": "stream",
     "text": [
      "2022-03-14 10:52:59,554 INFO Sending request to https://cds.climate.copernicus.eu/api/v2/resources/seasonal-monthly-single-levels\n",
      "2022-03-14 10:52:59,561 INFO Welcome to the CDS\n",
      "2022-03-14 10:52:59,568 INFO Welcome to the CDS\n",
      "2022-03-14 10:52:59,569 INFO Sending request to https://cds.climate.copernicus.eu/api/v2/resources/seasonal-monthly-single-levels\n",
      "2022-03-14 10:52:59,569 INFO Sending request to https://cds.climate.copernicus.eu/api/v2/resources/seasonal-monthly-single-levels\n",
      "2022-03-14 10:52:59,570 INFO Welcome to the CDS\n",
      "2022-03-14 10:52:59,573 INFO Sending request to https://cds.climate.copernicus.eu/api/v2/resources/seasonal-monthly-single-levels\n"
     ]
    },
    {
     "name": "stdout",
     "output_type": "stream",
     "text": [
      "[######################                  ] | 55% Completed |  0.5s"
     ]
    },
    {
     "name": "stderr",
     "output_type": "stream",
     "text": [
      "2022-03-14 10:52:59,855 INFO Request is queued\n"
     ]
    },
    {
     "name": "stdout",
     "output_type": "stream",
     "text": [
      "[######################                  ] | 55% Completed |  0.6s"
     ]
    },
    {
     "name": "stderr",
     "output_type": "stream",
     "text": [
      "2022-03-14 10:52:59,862 INFO Request is queued\n",
      "2022-03-14 10:52:59,883 INFO Request is queued\n",
      "2022-03-14 10:52:59,888 INFO Request is queued\n"
     ]
    },
    {
     "name": "stdout",
     "output_type": "stream",
     "text": [
      "[######################                  ] | 55% Completed |  1.8s"
     ]
    },
    {
     "name": "stderr",
     "output_type": "stream",
     "text": [
      "2022-03-14 10:53:01,153 INFO Request is running\n"
     ]
    },
    {
     "name": "stdout",
     "output_type": "stream",
     "text": [
      "[######################                  ] | 55% Completed |  3.7s"
     ]
    },
    {
     "name": "stderr",
     "output_type": "stream",
     "text": [
      "2022-03-14 10:53:02,949 INFO Request is completed\n",
      "2022-03-14 10:53:02,950 INFO Downloading https://download-0013.copernicus-climate.eu/cache-compute-0013/cache/data1/adaptor.mars.external-1647208381.5949185-29100-6-a8313da2-d604-40ef-951c-7230f1e75a1a.nc to /media/nicolasf/END19101/ICU/data/CDS/operational/hindcasts/ECCC_GEM_NEMO/TPRATE/ensemble_seas_forecasts_tprate_from_1997_03_ECCC.netcdf (1.1M)\n",
      "2022-03-14 10:53:02,953 INFO Request is failed\n",
      "2022-03-14 10:53:02,954 ERROR Message: an internal error occurred processing your request\n",
      "2022-03-14 10:53:02,954 ERROR Reason:  [Errno 13] Permission denied: '/cache/tmp'\n",
      "2022-03-14 10:53:02,955 ERROR   Traceback (most recent call last):\n",
      "2022-03-14 10:53:02,955 ERROR     File \"/usr/lib64/python3.6/os.py\", line 220, in makedirs\n",
      "2022-03-14 10:53:02,955 ERROR       mkdir(name, mode)\n",
      "2022-03-14 10:53:02,956 ERROR   FileExistsError: [Errno 17] File exists: '/cache/tmp'\n",
      "2022-03-14 10:53:02,978 INFO Request is running\n"
     ]
    },
    {
     "name": "stdout",
     "output_type": "stream",
     "text": [
      "\n",
      "failure to download or save /media/nicolasf/END19101/ICU/data/CDS/operational/hindcasts/JMA/TPRATE/ensemble_seas_forecasts_tprate_from_1997_03_JMA.netcdf\n",
      "\n",
      "\n",
      "attempting to download tprate for GCM JMA, for level surface, year 1997, month 3, in netcdf, attempt 2 of 3\n",
      "\n",
      "[######################                  ] | 55% Completed |  4.0s"
     ]
    },
    {
     "name": "stderr",
     "output_type": "stream",
     "text": [
      "2022-03-14 10:53:03,243 INFO Welcome to the CDS\n",
      "2022-03-14 10:53:03,245 INFO Sending request to https://cds.climate.copernicus.eu/api/v2/resources/seasonal-monthly-single-levels\n"
     ]
    },
    {
     "name": "stdout",
     "output_type": "stream",
     "text": [
      "[######################                  ] | 55% Completed |  4.3s"
     ]
    },
    {
     "name": "stderr",
     "output_type": "stream",
     "text": [
      "2022-03-14 10:53:03,542 INFO Request is queued\n"
     ]
    },
    {
     "name": "stdout",
     "output_type": "stream",
     "text": [
      "[######################                  ] | 55% Completed |  5.4s"
     ]
    },
    {
     "name": "stderr",
     "output_type": "stream",
     "text": [
      "  0%|                                                                                                                | 0.00/1.09M [00:00<?, ?B/s]"
     ]
    },
    {
     "name": "stdout",
     "output_type": "stream",
     "text": [
      "[######################                  ] | 55% Completed |  5.7s"
     ]
    },
    {
     "name": "stderr",
     "output_type": "stream",
     "text": [
      "  1%|█▍                                                                                                     | 16.0k/1.09M [00:00<00:19, 59.1kB/s]"
     ]
    },
    {
     "name": "stdout",
     "output_type": "stream",
     "text": [
      "[######################                  ] | 55% Completed |  6.0s"
     ]
    },
    {
     "name": "stderr",
     "output_type": "stream",
     "text": [
      "  5%|████▉                                                                                                   | 53.0k/1.09M [00:00<00:10, 104kB/s]"
     ]
    },
    {
     "name": "stdout",
     "output_type": "stream",
     "text": [
      "[######################                  ] | 55% Completed |  6.3s"
     ]
    },
    {
     "name": "stderr",
     "output_type": "stream",
     "text": [
      "  8%|████████▋                                                                                               | 93.0k/1.09M [00:00<00:08, 123kB/s]"
     ]
    },
    {
     "name": "stdout",
     "output_type": "stream",
     "text": [
      "[######################                  ] | 55% Completed |  6.5s"
     ]
    },
    {
     "name": "stderr",
     "output_type": "stream",
     "text": [
      " 19%|███████████████████▌                                                                                     | 208k/1.09M [00:01<00:03, 240kB/s]"
     ]
    },
    {
     "name": "stdout",
     "output_type": "stream",
     "text": [
      "[######################                  ] | 55% Completed |  6.8s"
     ]
    },
    {
     "name": "stderr",
     "output_type": "stream",
     "text": [
      " 39%|█████████████████████████████████████████▏                                                               | 438k/1.09M [00:01<00:01, 454kB/s]"
     ]
    },
    {
     "name": "stdout",
     "output_type": "stream",
     "text": [
      "[######################                  ] | 55% Completed |  7.1s"
     ]
    },
    {
     "name": "stderr",
     "output_type": "stream",
     "text": [
      " 81%|████████████████████████████████████████████████████████████████████████████████████▉                    | 904k/1.09M [00:01<00:00, 875kB/s]"
     ]
    },
    {
     "name": "stdout",
     "output_type": "stream",
     "text": [
      "[######################                  ] | 55% Completed |  7.2s"
     ]
    },
    {
     "name": "stderr",
     "output_type": "stream",
     "text": [
      "2022-03-14 10:53:06,513 INFO Download rate 313.7K/s                                                                                              \n"
     ]
    },
    {
     "name": "stdout",
     "output_type": "stream",
     "text": [
      "[######################                  ] | 55% Completed |  7.5s\n",
      "/media/nicolasf/END19101/ICU/data/CDS/operational/hindcasts/ECCC_GEM_NEMO/TPRATE/ensemble_seas_forecasts_tprate_from_1997_03_ECCC.netcdf downloaded OK\n",
      "\n",
      "[##########################              ] | 66% Completed |  9.9s"
     ]
    },
    {
     "name": "stderr",
     "output_type": "stream",
     "text": [
      "2022-03-14 10:53:09,179 INFO Request is running\n",
      "2022-03-14 10:53:09,199 INFO Request is completed\n",
      "2022-03-14 10:53:09,201 INFO Downloading https://download-0007.copernicus-climate.eu/cache-compute-0007/cache/data6/adaptor.mars.external-1647208384.9747374-16262-15-5da9c59e-1b9e-4312-b0c8-a421dc403b60.nc to /media/nicolasf/END19101/ICU/data/CDS/operational/hindcasts/METEO_FRANCE/TPRATE/ensemble_seas_forecasts_tprate_from_1997_03_METEO_FRANCE.netcdf (2.7M)\n"
     ]
    },
    {
     "name": "stdout",
     "output_type": "stream",
     "text": [
      "[##########################              ] | 66% Completed | 10.5s"
     ]
    },
    {
     "name": "stderr",
     "output_type": "stream",
     "text": [
      "  0%|                                                                                                                | 0.00/2.73M [00:00<?, ?B/s]"
     ]
    },
    {
     "name": "stdout",
     "output_type": "stream",
     "text": [
      "[##########################              ] | 66% Completed | 10.8s"
     ]
    },
    {
     "name": "stderr",
     "output_type": "stream",
     "text": [
      "  0%|▎                                                                                                      | 9.00k/2.73M [00:00<01:25, 33.3kB/s]"
     ]
    },
    {
     "name": "stdout",
     "output_type": "stream",
     "text": [
      "[##########################              ] | 66% Completed | 11.0s"
     ]
    },
    {
     "name": "stderr",
     "output_type": "stream",
     "text": [
      "  1%|▉                                                                                                      | 25.0k/2.73M [00:00<00:58, 48.0kB/s]"
     ]
    },
    {
     "name": "stdout",
     "output_type": "stream",
     "text": [
      "[##########################              ] | 66% Completed | 11.3s"
     ]
    },
    {
     "name": "stderr",
     "output_type": "stream",
     "text": [
      "  2%|██▎                                                                                                    | 61.0k/2.73M [00:00<00:32, 85.9kB/s]"
     ]
    },
    {
     "name": "stdout",
     "output_type": "stream",
     "text": [
      "[##########################              ] | 66% Completed | 11.6s"
     ]
    },
    {
     "name": "stderr",
     "output_type": "stream",
     "text": [
      "  4%|████▋                                                                                                    | 125k/2.73M [00:01<00:18, 144kB/s]"
     ]
    },
    {
     "name": "stdout",
     "output_type": "stream",
     "text": [
      "[##########################              ] | 66% Completed | 11.9s"
     ]
    },
    {
     "name": "stderr",
     "output_type": "stream",
     "text": [
      "  9%|█████████▊                                                                                               | 262k/2.73M [00:01<00:09, 272kB/s]"
     ]
    },
    {
     "name": "stdout",
     "output_type": "stream",
     "text": [
      "[##########################              ] | 66% Completed | 12.2s"
     ]
    },
    {
     "name": "stderr",
     "output_type": "stream",
     "text": [
      " 19%|███████████████████▉                                                                                     | 531k/2.73M [00:01<00:04, 511kB/s]"
     ]
    },
    {
     "name": "stdout",
     "output_type": "stream",
     "text": [
      "[##########################              ] | 66% Completed | 12.4s"
     ]
    },
    {
     "name": "stderr",
     "output_type": "stream",
     "text": [
      " 38%|███████████████████████████████████████▉                                                                | 1.05M/2.73M [00:01<00:01, 986kB/s]"
     ]
    },
    {
     "name": "stdout",
     "output_type": "stream",
     "text": [
      "[##########################              ] | 66% Completed | 12.7s"
     ]
    },
    {
     "name": "stderr",
     "output_type": "stream",
     "text": [
      " 61%|██████████████████████████████████████████████████████████████▎                                        | 1.65M/2.73M [00:02<00:00, 1.39MB/s]"
     ]
    },
    {
     "name": "stdout",
     "output_type": "stream",
     "text": [
      "[##########################              ] | 66% Completed | 13.0s"
     ]
    },
    {
     "name": "stderr",
     "output_type": "stream",
     "text": [
      " 83%|█████████████████████████████████████████████████████████████████████████████████████▌                 | 2.26M/2.73M [00:02<00:00, 1.67MB/s]"
     ]
    },
    {
     "name": "stdout",
     "output_type": "stream",
     "text": [
      "[##########################              ] | 66% Completed | 13.1s"
     ]
    },
    {
     "name": "stderr",
     "output_type": "stream",
     "text": [
      "2022-03-14 10:53:12,434 INFO Download rate 863.7K/s                                                                                              \n"
     ]
    },
    {
     "name": "stdout",
     "output_type": "stream",
     "text": [
      "[##########################              ] | 66% Completed | 13.4s\n",
      "/media/nicolasf/END19101/ICU/data/CDS/operational/hindcasts/METEO_FRANCE/TPRATE/ensemble_seas_forecasts_tprate_from_1997_03_METEO_FRANCE.netcdf downloaded OK\n",
      "\n",
      "[###############################         ] | 77% Completed | 13.5s"
     ]
    },
    {
     "name": "stderr",
     "output_type": "stream",
     "text": [
      "2022-03-14 10:53:12,863 INFO Request is completed\n",
      "2022-03-14 10:53:12,864 INFO Downloading https://download-0012.copernicus-climate.eu/cache-compute-0012/cache/data8/adaptor.mars.external-1647208390.7892833-24938-16-13f7400f-7a67-4651-8cde-325f09f69b2f.nc to /media/nicolasf/END19101/ICU/data/CDS/operational/hindcasts/JMA/TPRATE/ensemble_seas_forecasts_tprate_from_1997_03_JMA.netcdf (719.2K)\n"
     ]
    },
    {
     "name": "stdout",
     "output_type": "stream",
     "text": [
      "[###############################         ] | 77% Completed | 13.9s"
     ]
    },
    {
     "name": "stderr",
     "output_type": "stream",
     "text": [
      "  0%|                                                                                                                 | 0.00/719k [00:00<?, ?B/s]"
     ]
    },
    {
     "name": "stdout",
     "output_type": "stream",
     "text": [
      "[###############################         ] | 77% Completed | 14.2s"
     ]
    },
    {
     "name": "stderr",
     "output_type": "stream",
     "text": [
      "  1%|█▏                                                                                                      | 8.00k/719k [00:00<00:24, 29.5kB/s]"
     ]
    },
    {
     "name": "stdout",
     "output_type": "stream",
     "text": [
      "[###############################         ] | 77% Completed | 14.5s"
     ]
    },
    {
     "name": "stderr",
     "output_type": "stream",
     "text": [
      "  6%|█████▊                                                                                                  | 40.0k/719k [00:00<00:08, 80.9kB/s]"
     ]
    },
    {
     "name": "stdout",
     "output_type": "stream",
     "text": [
      "[###############################         ] | 77% Completed | 14.7s"
     ]
    },
    {
     "name": "stderr",
     "output_type": "stream",
     "text": [
      " 13%|█████████████▌                                                                                           | 93.0k/719k [00:00<00:04, 132kB/s]"
     ]
    },
    {
     "name": "stdout",
     "output_type": "stream",
     "text": [
      "[###############################         ] | 77% Completed | 15.0s"
     ]
    },
    {
     "name": "stderr",
     "output_type": "stream",
     "text": [
      " 29%|██████████████████████████████▏                                                                           | 205k/719k [00:01<00:02, 241kB/s]"
     ]
    },
    {
     "name": "stdout",
     "output_type": "stream",
     "text": [
      "[###############################         ] | 77% Completed | 15.3s"
     ]
    },
    {
     "name": "stderr",
     "output_type": "stream",
     "text": [
      "2022-03-14 10:53:14,543 INFO Request is completed\n",
      "2022-03-14 10:53:14,546 INFO Downloading https://download-0008.copernicus-climate.eu/cache-compute-0008/cache/data9/adaptor.mars.external-1647208388.8093908-29559-19-352aa637-5b8a-4582-96ab-3d7f6ee15d48.nc to /media/nicolasf/END19101/ICU/data/CDS/operational/hindcasts/UKMO/TPRATE/ensemble_seas_forecasts_tprate_from_1997_03_UKMO.netcdf (3.1M)\n",
      " 59%|██████████████████████████████████████████████████████████████▏                                           | 422k/719k [00:01<00:00, 439kB/s]"
     ]
    },
    {
     "name": "stdout",
     "output_type": "stream",
     "text": [
      "[###############################         ] | 77% Completed | 15.4s"
     ]
    },
    {
     "name": "stderr",
     "output_type": "stream",
     "text": [
      "2022-03-14 10:53:14,685 INFO Download rate 395.2K/s                                                                                              \n"
     ]
    },
    {
     "name": "stdout",
     "output_type": "stream",
     "text": [
      "[###############################         ] | 77% Completed | 15.6s"
     ]
    },
    {
     "name": "stderr",
     "output_type": "stream",
     "text": [
      "  0%|                                                                                                                | 0.00/3.05M [00:00<?, ?B/s]"
     ]
    },
    {
     "name": "stdout",
     "output_type": "stream",
     "text": [
      "[###############################         ] | 77% Completed | 15.7s\n",
      "/media/nicolasf/END19101/ICU/data/CDS/operational/hindcasts/JMA/TPRATE/ensemble_seas_forecasts_tprate_from_1997_03_JMA.netcdf downloaded OK\n",
      "\n",
      "[###################################     ] | 88% Completed | 15.8s"
     ]
    },
    {
     "name": "stderr",
     "output_type": "stream",
     "text": [
      "  0%|▎                                                                                                      | 8.00k/3.05M [00:00<01:48, 29.4kB/s]"
     ]
    },
    {
     "name": "stdout",
     "output_type": "stream",
     "text": [
      "[###################################     ] | 88% Completed | 16.1s"
     ]
    },
    {
     "name": "stderr",
     "output_type": "stream",
     "text": [
      "  1%|█                                                                                                      | 34.0k/3.05M [00:00<00:46, 67.7kB/s]"
     ]
    },
    {
     "name": "stdout",
     "output_type": "stream",
     "text": [
      "[###################################     ] | 88% Completed | 16.4s"
     ]
    },
    {
     "name": "stderr",
     "output_type": "stream",
     "text": [
      "  3%|██▉                                                                                                     | 90.0k/3.05M [00:00<00:23, 130kB/s]"
     ]
    },
    {
     "name": "stdout",
     "output_type": "stream",
     "text": [
      "[###################################     ] | 88% Completed | 16.7s"
     ]
    },
    {
     "name": "stderr",
     "output_type": "stream",
     "text": [
      "  6%|██████▊                                                                                                  | 202k/3.05M [00:01<00:12, 239kB/s]"
     ]
    },
    {
     "name": "stdout",
     "output_type": "stream",
     "text": [
      "[###################################     ] | 88% Completed | 17.0s"
     ]
    },
    {
     "name": "stderr",
     "output_type": "stream",
     "text": [
      " 14%|██████████████▏                                                                                          | 422k/3.05M [00:01<00:06, 440kB/s]"
     ]
    },
    {
     "name": "stdout",
     "output_type": "stream",
     "text": [
      "[###################################     ] | 88% Completed | 17.2s"
     ]
    },
    {
     "name": "stderr",
     "output_type": "stream",
     "text": [
      " 17%|██████████████████                                                                                       | 539k/3.05M [00:01<00:06, 430kB/s]"
     ]
    },
    {
     "name": "stdout",
     "output_type": "stream",
     "text": [
      "[###################################     ] | 88% Completed | 17.5s"
     ]
    },
    {
     "name": "stderr",
     "output_type": "stream",
     "text": [
      " 42%|███████████████████████████████████████████▋                                                           | 1.29M/3.05M [00:01<00:01, 1.22MB/s]"
     ]
    },
    {
     "name": "stdout",
     "output_type": "stream",
     "text": [
      "[###################################     ] | 88% Completed | 17.8s"
     ]
    },
    {
     "name": "stderr",
     "output_type": "stream",
     "text": [
      " 55%|████████████████████████████████████████████████████████▍                                              | 1.67M/3.05M [00:02<00:01, 1.28MB/s]"
     ]
    },
    {
     "name": "stdout",
     "output_type": "stream",
     "text": [
      "[###################################     ] | 88% Completed | 18.1s"
     ]
    },
    {
     "name": "stderr",
     "output_type": "stream",
     "text": [
      " 68%|█████████████████████████████████████████████████████████████████████▊                                 | 2.07M/3.05M [00:02<00:00, 1.34MB/s]"
     ]
    },
    {
     "name": "stdout",
     "output_type": "stream",
     "text": [
      "[###################################     ] | 88% Completed | 18.3s"
     ]
    },
    {
     "name": "stderr",
     "output_type": "stream",
     "text": [
      " 81%|███████████████████████████████████████████████████████████████████████████████████▍                   | 2.47M/3.05M [00:02<00:00, 1.39MB/s]"
     ]
    },
    {
     "name": "stdout",
     "output_type": "stream",
     "text": [
      "[###################################     ] | 88% Completed | 18.6s"
     ]
    },
    {
     "name": "stderr",
     "output_type": "stream",
     "text": [
      " 95%|█████████████████████████████████████████████████████████████████████████████████████████████████▍     | 2.89M/3.05M [00:03<00:00, 1.43MB/s]"
     ]
    },
    {
     "name": "stdout",
     "output_type": "stream",
     "text": [
      "[###################################     ] | 88% Completed | 18.7s"
     ]
    },
    {
     "name": "stderr",
     "output_type": "stream",
     "text": [
      "2022-03-14 10:53:18,078 INFO Download rate 885.2K/s                                                                                              \n"
     ]
    },
    {
     "name": "stdout",
     "output_type": "stream",
     "text": [
      "[###################################     ] | 88% Completed | 19.0s\n",
      "/media/nicolasf/END19101/ICU/data/CDS/operational/hindcasts/UKMO/TPRATE/ensemble_seas_forecasts_tprate_from_1997_03_UKMO.netcdf downloaded OK\n",
      "\n",
      "[########################################] | 100% Completed | 19.1s\n",
      "processing ECCC, path should be /media/nicolasf/END19101/ICU/data/CDS/operational/hindcasts/ECCC_CanCM4i/TPRATE\n",
      "processing ECCC, path should be /media/nicolasf/END19101/ICU/data/CDS/operational/hindcasts/ECCC_GEM_NEMO/TPRATE\n",
      "[                                        ] | 0% Completed |  0.0s\n",
      "/media/nicolasf/END19101/ICU/data/CDS/operational/hindcasts/DWD/TPRATE/ensemble_seas_forecasts_tprate_from_1998_03_DWD.netcdf exists already on disk, skipping download and returning path\n",
      "\n",
      "\n",
      "/media/nicolasf/END19101/ICU/data/CDS/operational/hindcasts/NCEP/TPRATE/ensemble_seas_forecasts_tprate_from_1998_03_NCEP.netcdf exists already on disk, skipping download and returning path\n",
      "\n",
      "\n",
      "/media/nicolasf/END19101/ICU/data/CDS/operational/hindcasts/ECCC_CanCM4i/TPRATE/ensemble_seas_forecasts_tprate_from_1998_03_ECCC.netcdf exists already on disk, skipping download and returning path\n",
      "\n",
      "\n",
      "/media/nicolasf/END19101/ICU/data/CDS/operational/hindcasts/CMCC/TPRATE/ensemble_seas_forecasts_tprate_from_1998_03_CMCC.netcdf exists already on disk, skipping download and returning path\n",
      "\n",
      "\n",
      "/media/nicolasf/END19101/ICU/data/CDS/operational/hindcasts/ECMWF/TPRATE/ensemble_seas_forecasts_tprate_from_1998_03_ECMWF.netcdf exists already on disk, skipping download and returning path\n",
      "\n",
      "\n",
      "attempting to download tprate for GCM METEO_FRANCE, for level surface, year 1998, month 3, in netcdf, attempt 1 of 3\n",
      "\n",
      "\n",
      "attempting to download tprate for GCM UKMO, for level surface, year 1998, month 3, in netcdf, attempt 1 of 3\n",
      "\n",
      "\n",
      "attempting to download tprate for GCM ECCC, for level surface, year 1998, month 3, in netcdf, attempt 1 of 3\n",
      "\n",
      "\n",
      "attempting to download tprate for GCM JMA, for level surface, year 1998, month 3, in netcdf, attempt 1 of 3\n",
      "\n",
      "[######################                  ] | 55% Completed |  0.2s"
     ]
    },
    {
     "name": "stderr",
     "output_type": "stream",
     "text": [
      "2022-03-14 10:53:18,714 INFO Welcome to the CDS\n"
     ]
    },
    {
     "name": "stdout",
     "output_type": "stream",
     "text": [
      "[######################                  ] | 55% Completed |  0.3s"
     ]
    },
    {
     "name": "stderr",
     "output_type": "stream",
     "text": [
      "2022-03-14 10:53:18,718 INFO Welcome to the CDS\n",
      "2022-03-14 10:53:18,719 INFO Sending request to https://cds.climate.copernicus.eu/api/v2/resources/seasonal-monthly-single-levels\n",
      "2022-03-14 10:53:18,720 INFO Welcome to the CDS\n",
      "2022-03-14 10:53:18,724 INFO Welcome to the CDS\n",
      "2022-03-14 10:53:18,725 INFO Sending request to https://cds.climate.copernicus.eu/api/v2/resources/seasonal-monthly-single-levels\n",
      "2022-03-14 10:53:18,735 INFO Sending request to https://cds.climate.copernicus.eu/api/v2/resources/seasonal-monthly-single-levels\n",
      "2022-03-14 10:53:18,738 INFO Sending request to https://cds.climate.copernicus.eu/api/v2/resources/seasonal-monthly-single-levels\n"
     ]
    },
    {
     "name": "stdout",
     "output_type": "stream",
     "text": [
      "[######################                  ] | 55% Completed |  0.5s"
     ]
    },
    {
     "name": "stderr",
     "output_type": "stream",
     "text": [
      "2022-03-14 10:53:19,029 INFO Request is queued\n"
     ]
    },
    {
     "name": "stdout",
     "output_type": "stream",
     "text": [
      "[######################                  ] | 55% Completed |  0.6s"
     ]
    },
    {
     "name": "stderr",
     "output_type": "stream",
     "text": [
      "2022-03-14 10:53:19,033 INFO Request is queued\n",
      "2022-03-14 10:53:19,038 INFO Request is queued\n",
      "2022-03-14 10:53:19,055 INFO Request is queued\n"
     ]
    },
    {
     "name": "stdout",
     "output_type": "stream",
     "text": [
      "[######################                  ] | 55% Completed |  1.8s"
     ]
    },
    {
     "name": "stderr",
     "output_type": "stream",
     "text": [
      "2022-03-14 10:53:20,329 INFO Request is running\n"
     ]
    },
    {
     "name": "stdout",
     "output_type": "stream",
     "text": [
      "[######################                  ] | 55% Completed |  6.2s"
     ]
    },
    {
     "name": "stderr",
     "output_type": "stream",
     "text": [
      "2022-03-14 10:53:24,676 INFO Request is completed\n",
      "2022-03-14 10:53:24,678 INFO Downloading https://download-0011.copernicus-climate.eu/cache-compute-0011/cache/data6/adaptor.mars.external-1647208401.901072-24170-20-a1dfd99d-def0-4201-9ac6-a7e4829680fa.nc to /media/nicolasf/END19101/ICU/data/CDS/operational/hindcasts/UKMO/TPRATE/ensemble_seas_forecasts_tprate_from_1998_03_UKMO.netcdf (3.1M)\n",
      "2022-03-14 10:53:24,687 INFO Request is running\n"
     ]
    },
    {
     "name": "stdout",
     "output_type": "stream",
     "text": [
      "[######################                  ] | 55% Completed |  8.0s"
     ]
    },
    {
     "name": "stderr",
     "output_type": "stream",
     "text": [
      "  0%|                                                                                                                | 0.00/3.05M [00:00<?, ?B/s]"
     ]
    },
    {
     "name": "stdout",
     "output_type": "stream",
     "text": [
      "[######################                  ] | 55% Completed |  8.3s"
     ]
    },
    {
     "name": "stderr",
     "output_type": "stream",
     "text": [
      "  1%|▌                                                                                                      | 16.0k/3.05M [00:00<00:54, 58.2kB/s]"
     ]
    },
    {
     "name": "stdout",
     "output_type": "stream",
     "text": [
      "[######################                  ] | 55% Completed |  8.6s"
     ]
    },
    {
     "name": "stderr",
     "output_type": "stream",
     "text": [
      "  2%|██▏                                                                                                     | 66.0k/3.05M [00:00<00:24, 129kB/s]"
     ]
    },
    {
     "name": "stdout",
     "output_type": "stream",
     "text": [
      "[######################                  ] | 55% Completed |  8.9s"
     ]
    },
    {
     "name": "stderr",
     "output_type": "stream",
     "text": [
      "  4%|████▎                                                                                                    | 129k/3.05M [00:00<00:17, 173kB/s]"
     ]
    },
    {
     "name": "stdout",
     "output_type": "stream",
     "text": [
      "[######################                  ] | 55% Completed |  9.2s"
     ]
    },
    {
     "name": "stderr",
     "output_type": "stream",
     "text": [
      "  9%|█████████▌                                                                                               | 286k/3.05M [00:01<00:08, 326kB/s]"
     ]
    },
    {
     "name": "stdout",
     "output_type": "stream",
     "text": [
      "[######################                  ] | 55% Completed |  9.5s"
     ]
    },
    {
     "name": "stderr",
     "output_type": "stream",
     "text": [
      " 19%|███████████████████▉                                                                                     | 595k/3.05M [00:01<00:04, 605kB/s]"
     ]
    },
    {
     "name": "stdout",
     "output_type": "stream",
     "text": [
      "[######################                  ] | 55% Completed |  9.7s"
     ]
    },
    {
     "name": "stderr",
     "output_type": "stream",
     "text": [
      " 39%|████████████████████████████████████████                                                               | 1.19M/3.05M [00:01<00:01, 1.15MB/s]"
     ]
    },
    {
     "name": "stdout",
     "output_type": "stream",
     "text": [
      "[######################                  ] | 55% Completed |  9.9s"
     ]
    },
    {
     "name": "stderr",
     "output_type": "stream",
     "text": [
      "2022-03-14 10:53:28,332 INFO Request is running\n",
      "2022-03-14 10:53:28,366 INFO Request is completed\n",
      "2022-03-14 10:53:28,367 INFO Downloading https://download-0012.copernicus-climate.eu/cache-compute-0012/cache/data1/adaptor.mars.external-1647208404.3013644-22490-13-95a8d3b0-4f43-479d-beb6-cb4f0ab93454.nc to /media/nicolasf/END19101/ICU/data/CDS/operational/hindcasts/ECCC_GEM_NEMO/TPRATE/ensemble_seas_forecasts_tprate_from_1998_03_ECCC.netcdf (1.1M)\n"
     ]
    },
    {
     "name": "stdout",
     "output_type": "stream",
     "text": [
      "[######################                  ] | 55% Completed | 10.0s"
     ]
    },
    {
     "name": "stderr",
     "output_type": "stream",
     "text": [
      " 70%|████████████████████████████████████████████████████████████████████████▏                              | 2.14M/3.05M [00:02<00:00, 1.85MB/s]"
     ]
    },
    {
     "name": "stdout",
     "output_type": "stream",
     "text": [
      "[######################                  ] | 55% Completed | 10.2s"
     ]
    },
    {
     "name": "stderr",
     "output_type": "stream",
     "text": [
      "\n",
      "  0%|                                                                                                                | 0.00/1.09M [00:00<?, ?B/s]\u001b[A"
     ]
    },
    {
     "name": "stdout",
     "output_type": "stream",
     "text": [
      "[######################                  ] | 55% Completed | 10.3s"
     ]
    },
    {
     "name": "stderr",
     "output_type": "stream",
     "text": [
      " 77%|███████████████████████████████████████████████████████████████████████████████▌                       | 2.36M/3.05M [00:02<00:00, 1.57MB/s]"
     ]
    },
    {
     "name": "stdout",
     "output_type": "stream",
     "text": [
      "[######################                  ] | 55% Completed | 10.4s"
     ]
    },
    {
     "name": "stderr",
     "output_type": "stream",
     "text": [
      "2022-03-14 10:53:28,886 INFO Download rate 743.1K/s                                                                                              \n"
     ]
    },
    {
     "name": "stdout",
     "output_type": "stream",
     "text": [
      "[######################                  ] | 55% Completed | 10.5s"
     ]
    },
    {
     "name": "stderr",
     "output_type": "stream",
     "text": [
      "\n",
      "  1%|▋                                                                                                      | 8.00k/1.09M [00:00<00:37, 30.0kB/s]\u001b[A"
     ]
    },
    {
     "name": "stdout",
     "output_type": "stream",
     "text": [
      "[######################                  ] | 55% Completed | 10.7s"
     ]
    },
    {
     "name": "stderr",
     "output_type": "stream",
     "text": [
      "\n",
      "  3%|███▏                                                                                                   | 34.0k/1.09M [00:00<00:16, 68.4kB/s]"
     ]
    },
    {
     "name": "stdout",
     "output_type": "stream",
     "text": [
      "\n",
      "/media/nicolasf/END19101/ICU/data/CDS/operational/hindcasts/UKMO/TPRATE/ensemble_seas_forecasts_tprate_from_1998_03_UKMO.netcdf downloaded OK\n",
      "\n"
     ]
    },
    {
     "name": "stderr",
     "output_type": "stream",
     "text": [
      "\u001b[A"
     ]
    },
    {
     "name": "stdout",
     "output_type": "stream",
     "text": [
      "[##########################              ] | 66% Completed | 11.0s"
     ]
    },
    {
     "name": "stderr",
     "output_type": "stream",
     "text": [
      "\n",
      "  9%|████████▉                                                                                               | 96.0k/1.09M [00:00<00:07, 141kB/s]\u001b[A"
     ]
    },
    {
     "name": "stdout",
     "output_type": "stream",
     "text": [
      "[##########################              ] | 66% Completed | 11.3s"
     ]
    },
    {
     "name": "stderr",
     "output_type": "stream",
     "text": [
      "\n",
      " 18%|███████████████████▎                                                                                     | 205k/1.09M [00:01<00:03, 242kB/s]\u001b[A"
     ]
    },
    {
     "name": "stdout",
     "output_type": "stream",
     "text": [
      "[##########################              ] | 66% Completed | 11.6s"
     ]
    },
    {
     "name": "stderr",
     "output_type": "stream",
     "text": [
      "\n",
      " 38%|███████████████████████████████████████▋                                                                 | 422k/1.09M [00:01<00:01, 440kB/s]\u001b[A"
     ]
    },
    {
     "name": "stdout",
     "output_type": "stream",
     "text": [
      "[##########################              ] | 66% Completed | 11.8s"
     ]
    },
    {
     "name": "stderr",
     "output_type": "stream",
     "text": [
      "\n",
      " 77%|█████████████████████████████████████████████████████████████████████████████████▏                       | 864k/1.09M [00:01<00:00, 837kB/s]\u001b[A"
     ]
    },
    {
     "name": "stdout",
     "output_type": "stream",
     "text": [
      "[##########################              ] | 66% Completed | 12.0s"
     ]
    },
    {
     "name": "stderr",
     "output_type": "stream",
     "text": [
      "\n",
      "                                                                                                                                                 \u001b[A2022-03-14 10:53:30,473 INFO Download rate 530.7K/s\n"
     ]
    },
    {
     "name": "stdout",
     "output_type": "stream",
     "text": [
      "[##########################              ] | 66% Completed | 12.4s\n",
      "/media/nicolasf/END19101/ICU/data/CDS/operational/hindcasts/ECCC_GEM_NEMO/TPRATE/ensemble_seas_forecasts_tprate_from_1998_03_ECCC.netcdf downloaded OK\n",
      "\n",
      "[###############################         ] | 77% Completed | 15.2s"
     ]
    },
    {
     "name": "stderr",
     "output_type": "stream",
     "text": [
      "2022-03-14 10:53:33,697 INFO Request is completed\n",
      "2022-03-14 10:53:33,698 INFO Downloading https://download-0007.copernicus-climate.eu/cache-compute-0007/cache/data7/adaptor.mars.external-1647208408.3196635-15488-20-fc4c4bf6-2b7c-4ac6-b0ec-50507ce987c0.nc to /media/nicolasf/END19101/ICU/data/CDS/operational/hindcasts/METEO_FRANCE/TPRATE/ensemble_seas_forecasts_tprate_from_1998_03_METEO_FRANCE.netcdf (2.7M)\n"
     ]
    },
    {
     "name": "stdout",
     "output_type": "stream",
     "text": [
      "[###############################         ] | 77% Completed | 15.3s"
     ]
    },
    {
     "name": "stderr",
     "output_type": "stream",
     "text": [
      "2022-03-14 10:53:33,717 INFO Request is completed\n",
      "2022-03-14 10:53:33,718 INFO Downloading https://download-0007.copernicus-climate.eu/cache-compute-0007/cache/data6/adaptor.mars.external-1647208410.9737966-15419-18-41d334d4-b5a6-4319-8bb8-6d23e440e8c5.nc to /media/nicolasf/END19101/ICU/data/CDS/operational/hindcasts/JMA/TPRATE/ensemble_seas_forecasts_tprate_from_1998_03_JMA.netcdf (719.2K)\n"
     ]
    },
    {
     "name": "stdout",
     "output_type": "stream",
     "text": [
      "[###############################         ] | 77% Completed | 15.5s"
     ]
    },
    {
     "name": "stderr",
     "output_type": "stream",
     "text": [
      "  0%|                                                                                                                | 0.00/2.73M [00:00<?, ?B/s]"
     ]
    },
    {
     "name": "stdout",
     "output_type": "stream",
     "text": [
      "[###############################         ] | 77% Completed | 15.8s"
     ]
    },
    {
     "name": "stderr",
     "output_type": "stream",
     "text": [
      "  0%|▎                                                                                                      | 8.00k/2.73M [00:00<01:35, 29.7kB/s]"
     ]
    },
    {
     "name": "stdout",
     "output_type": "stream",
     "text": [
      "[###############################         ] | 77% Completed | 16.1s"
     ]
    },
    {
     "name": "stderr",
     "output_type": "stream",
     "text": [
      "  1%|█▎                                                                                                     | 35.0k/2.73M [00:00<00:40, 70.2kB/s]"
     ]
    },
    {
     "name": "stdout",
     "output_type": "stream",
     "text": [
      "[###############################         ] | 77% Completed | 16.3s"
     ]
    },
    {
     "name": "stderr",
     "output_type": "stream",
     "text": [
      "  3%|███▍                                                                                                    | 91.0k/2.73M [00:00<00:21, 131kB/s]"
     ]
    },
    {
     "name": "stdout",
     "output_type": "stream",
     "text": [
      "[###############################         ] | 77% Completed | 16.5s"
     ]
    },
    {
     "name": "stderr",
     "output_type": "stream",
     "text": [
      "\n",
      "  0%|                                                                                                                 | 0.00/719k [00:00<?, ?B/s]\u001b[A"
     ]
    },
    {
     "name": "stdout",
     "output_type": "stream",
     "text": [
      "[###############################         ] | 77% Completed | 16.6s"
     ]
    },
    {
     "name": "stderr",
     "output_type": "stream",
     "text": [
      "  7%|███████▋                                                                                                 | 203k/2.73M [00:01<00:11, 241kB/s]"
     ]
    },
    {
     "name": "stdout",
     "output_type": "stream",
     "text": [
      "[###############################         ] | 77% Completed | 16.7s"
     ]
    },
    {
     "name": "stderr",
     "output_type": "stream",
     "text": [
      "\n",
      "  2%|██▎                                                                                                     | 16.0k/719k [00:00<00:12, 59.6kB/s]\u001b[A"
     ]
    },
    {
     "name": "stdout",
     "output_type": "stream",
     "text": [
      "[###############################         ] | 77% Completed | 16.9s"
     ]
    },
    {
     "name": "stderr",
     "output_type": "stream",
     "text": [
      " 15%|███████████████▉                                                                                         | 422k/2.73M [00:01<00:05, 441kB/s]"
     ]
    },
    {
     "name": "stdout",
     "output_type": "stream",
     "text": [
      "[###############################         ] | 77% Completed | 17.0s"
     ]
    },
    {
     "name": "stderr",
     "output_type": "stream",
     "text": [
      "\n",
      " 10%|██████████▏                                                                                              | 70.0k/719k [00:00<00:04, 140kB/s]\u001b[A"
     ]
    },
    {
     "name": "stdout",
     "output_type": "stream",
     "text": [
      "[###############################         ] | 77% Completed | 17.2s"
     ]
    },
    {
     "name": "stderr",
     "output_type": "stream",
     "text": [
      " 31%|████████████████████████████████▋                                                                        | 868k/2.73M [00:01<00:02, 843kB/s]"
     ]
    },
    {
     "name": "stdout",
     "output_type": "stream",
     "text": [
      "[###############################         ] | 77% Completed | 17.3s"
     ]
    },
    {
     "name": "stderr",
     "output_type": "stream",
     "text": [
      "\n",
      " 18%|██████████████████▌                                                                                       | 126k/719k [00:00<00:03, 169kB/s]\u001b[A"
     ]
    },
    {
     "name": "stdout",
     "output_type": "stream",
     "text": [
      "[###############################         ] | 77% Completed | 17.4s"
     ]
    },
    {
     "name": "stderr",
     "output_type": "stream",
     "text": [
      " 53%|███████████████████████████████████████████████████████                                                | 1.46M/2.73M [00:01<00:01, 1.31MB/s]"
     ]
    },
    {
     "name": "stdout",
     "output_type": "stream",
     "text": [
      "[###############################         ] | 77% Completed | 17.7s"
     ]
    },
    {
     "name": "stderr",
     "output_type": "stream",
     "text": [
      "\n",
      " 38%|███████████████████████████████████████▊                                                                  | 270k/719k [00:01<00:01, 307kB/s]\u001b[A"
     ]
    },
    {
     "name": "stdout",
     "output_type": "stream",
     "text": [
      "[###############################         ] | 77% Completed | 17.8s"
     ]
    },
    {
     "name": "stderr",
     "output_type": "stream",
     "text": [
      " 76%|██████████████████████████████████████████████████████████████████████████████▌                        | 2.08M/2.73M [00:02<00:00, 1.63MB/s]"
     ]
    },
    {
     "name": "stdout",
     "output_type": "stream",
     "text": [
      "[###############################         ] | 77% Completed | 18.0s"
     ]
    },
    {
     "name": "stderr",
     "output_type": "stream",
     "text": [
      "\n",
      " 79%|████████████████████████████████████████████████████████████████████████████████████▏                     | 571k/719k [00:01<00:00, 589kB/s]\u001b[A"
     ]
    },
    {
     "name": "stdout",
     "output_type": "stream",
     "text": [
      "[###############################         ] | 77% Completed | 18.1s"
     ]
    },
    {
     "name": "stderr",
     "output_type": "stream",
     "text": [
      "\n",
      "                                                                                                                                                 \u001b[A2022-03-14 10:53:36,484 INFO Download rate 260.1K/s\n",
      " 99%|██████████████████████████████████████████████████████████████████████████████████████████████████████▏| 2.70M/2.73M [00:02<00:00, 1.85MB/s]"
     ]
    },
    {
     "name": "stdout",
     "output_type": "stream",
     "text": [
      "[###############################         ] | 77% Completed | 18.2s"
     ]
    },
    {
     "name": "stderr",
     "output_type": "stream",
     "text": [
      "2022-03-14 10:53:36,629 INFO Download rate 952.1K/s                                                                                              \n"
     ]
    },
    {
     "name": "stdout",
     "output_type": "stream",
     "text": [
      "[###############################         ] | 77% Completed | 18.4s\n",
      "/media/nicolasf/END19101/ICU/data/CDS/operational/hindcasts/JMA/TPRATE/ensemble_seas_forecasts_tprate_from_1998_03_JMA.netcdf downloaded OK\n",
      "\n",
      "[###################################     ] | 88% Completed | 18.5s\n",
      "/media/nicolasf/END19101/ICU/data/CDS/operational/hindcasts/METEO_FRANCE/TPRATE/ensemble_seas_forecasts_tprate_from_1998_03_METEO_FRANCE.netcdf downloaded OK\n",
      "\n",
      "[########################################] | 100% Completed | 18.6s\n",
      "processing ECCC, path should be /media/nicolasf/END19101/ICU/data/CDS/operational/hindcasts/ECCC_CanCM4i/TPRATE\n",
      "processing ECCC, path should be /media/nicolasf/END19101/ICU/data/CDS/operational/hindcasts/ECCC_GEM_NEMO/TPRATE\n",
      "[                                        ] | 0% Completed |  0.0s\n",
      "attempting to download tprate for GCM JMA, for level surface, year 1999, month 3, in netcdf, attempt 1 of 3\n",
      "\n",
      "/media/nicolasf/END19101/ICU/data/CDS/operational/hindcasts/DWD/TPRATE/ensemble_seas_forecasts_tprate_from_1999_03_DWD.netcdf exists already on disk, skipping download and returning path\n",
      "\n",
      "attempting to download tprate for GCM UKMO, for level surface, year 1999, month 3, in netcdf, attempt 1 of 3\n",
      "\n",
      "\n",
      "/media/nicolasf/END19101/ICU/data/CDS/operational/hindcasts/NCEP/TPRATE/ensemble_seas_forecasts_tprate_from_1999_03_NCEP.netcdf exists already on disk, skipping download and returning path\n",
      "\n",
      "\n",
      "\n",
      "/media/nicolasf/END19101/ICU/data/CDS/operational/hindcasts/CMCC/TPRATE/ensemble_seas_forecasts_tprate_from_1999_03_CMCC.netcdf exists already on disk, skipping download and returning path\n",
      "\n",
      "\n",
      "attempting to download tprate for GCM METEO_FRANCE, for level surface, year 1999, month 3, in netcdf, attempt 1 of 3\n",
      "\n",
      "\n",
      "attempting to download tprate for GCM ECCC, for level surface, year 1999, month 3, in netcdf, attempt 1 of 3\n",
      "\n",
      "\n",
      "\n",
      "/media/nicolasf/END19101/ICU/data/CDS/operational/hindcasts/ECCC_CanCM4i/TPRATE/ensemble_seas_forecasts_tprate_from_1999_03_ECCC.netcdf exists already on disk, skipping download and returning path\n",
      "\n",
      "\n",
      "/media/nicolasf/END19101/ICU/data/CDS/operational/hindcasts/ECMWF/TPRATE/ensemble_seas_forecasts_tprate_from_1999_03_ECMWF.netcdf exists already on disk, skipping download and returning path\n",
      "\n",
      "[######################                  ] | 55% Completed |  0.3s"
     ]
    },
    {
     "name": "stderr",
     "output_type": "stream",
     "text": [
      "2022-03-14 10:53:37,309 INFO Welcome to the CDS\n",
      "2022-03-14 10:53:37,310 INFO Welcome to the CDS\n",
      "2022-03-14 10:53:37,310 INFO Sending request to https://cds.climate.copernicus.eu/api/v2/resources/seasonal-monthly-single-levels\n",
      "2022-03-14 10:53:37,311 INFO Sending request to https://cds.climate.copernicus.eu/api/v2/resources/seasonal-monthly-single-levels\n",
      "2022-03-14 10:53:37,319 INFO Welcome to the CDS\n",
      "2022-03-14 10:53:37,319 INFO Welcome to the CDS\n",
      "2022-03-14 10:53:37,320 INFO Sending request to https://cds.climate.copernicus.eu/api/v2/resources/seasonal-monthly-single-levels\n",
      "2022-03-14 10:53:37,321 INFO Sending request to https://cds.climate.copernicus.eu/api/v2/resources/seasonal-monthly-single-levels\n"
     ]
    },
    {
     "name": "stdout",
     "output_type": "stream",
     "text": [
      "[######################                  ] | 55% Completed |  0.6s"
     ]
    },
    {
     "name": "stderr",
     "output_type": "stream",
     "text": [
      "2022-03-14 10:53:37,616 INFO Request is queued\n",
      "2022-03-14 10:53:37,619 INFO Request is queued\n",
      "2022-03-14 10:53:37,622 INFO Request is queued\n",
      "2022-03-14 10:53:37,648 INFO Request is queued\n"
     ]
    },
    {
     "name": "stdout",
     "output_type": "stream",
     "text": [
      "[######################                  ] | 55% Completed |  1.8s"
     ]
    },
    {
     "name": "stderr",
     "output_type": "stream",
     "text": [
      "2022-03-14 10:53:38,913 INFO Request is running\n"
     ]
    },
    {
     "name": "stdout",
     "output_type": "stream",
     "text": [
      "[######################                  ] | 55% Completed |  6.2s"
     ]
    },
    {
     "name": "stderr",
     "output_type": "stream",
     "text": [
      "2022-03-14 10:53:43,268 INFO Request is completed\n",
      "2022-03-14 10:53:43,270 INFO Downloading https://download-0010.copernicus-climate.eu/cache-compute-0010/cache/data4/adaptor.mars.external-1647208420.950003-11358-2-db177bb0-0ec3-453b-9f9c-4eee2777891c.nc to /media/nicolasf/END19101/ICU/data/CDS/operational/hindcasts/METEO_FRANCE/TPRATE/ensemble_seas_forecasts_tprate_from_1999_03_METEO_FRANCE.netcdf (2.7M)\n",
      "2022-03-14 10:53:43,290 INFO Request is running\n"
     ]
    },
    {
     "name": "stdout",
     "output_type": "stream",
     "text": [
      "[######################                  ] | 55% Completed |  8.5s"
     ]
    },
    {
     "name": "stderr",
     "output_type": "stream",
     "text": [
      "  0%|                                                                                                                | 0.00/2.73M [00:00<?, ?B/s]"
     ]
    },
    {
     "name": "stdout",
     "output_type": "stream",
     "text": [
      "[######################                  ] | 55% Completed |  8.9s"
     ]
    },
    {
     "name": "stderr",
     "output_type": "stream",
     "text": [
      "  1%|▌                                                                                                      | 16.0k/2.73M [00:00<00:48, 59.2kB/s]"
     ]
    },
    {
     "name": "stdout",
     "output_type": "stream",
     "text": [
      "[######################                  ] | 55% Completed |  9.1s"
     ]
    },
    {
     "name": "stderr",
     "output_type": "stream",
     "text": [
      "  2%|██▍                                                                                                     | 66.0k/2.73M [00:00<00:21, 132kB/s]"
     ]
    },
    {
     "name": "stdout",
     "output_type": "stream",
     "text": [
      "[######################                  ] | 55% Completed |  9.4s"
     ]
    },
    {
     "name": "stderr",
     "output_type": "stream",
     "text": [
      "  5%|████▉                                                                                                    | 130k/2.73M [00:00<00:15, 178kB/s]"
     ]
    },
    {
     "name": "stdout",
     "output_type": "stream",
     "text": [
      "[######################                  ] | 55% Completed |  9.7s"
     ]
    },
    {
     "name": "stderr",
     "output_type": "stream",
     "text": [
      " 10%|██████████▊                                                                                              | 286k/2.73M [00:01<00:07, 332kB/s]"
     ]
    },
    {
     "name": "stdout",
     "output_type": "stream",
     "text": [
      "[######################                  ] | 55% Completed |  9.9s"
     ]
    },
    {
     "name": "stderr",
     "output_type": "stream",
     "text": [
      "2022-03-14 10:53:46,950 INFO Request is running\n",
      "2022-03-14 10:53:46,963 INFO Request is completed\n",
      "2022-03-14 10:53:46,965 INFO Downloading https://download-0011.copernicus-climate.eu/cache-compute-0011/cache/data1/adaptor.mars.external-1647208424.307068-24899-15-bf56894c-06c0-4233-a6e4-e0eec55f4eb9.nc to /media/nicolasf/END19101/ICU/data/CDS/operational/hindcasts/UKMO/TPRATE/ensemble_seas_forecasts_tprate_from_1999_03_UKMO.netcdf (3.1M)\n"
     ]
    },
    {
     "name": "stdout",
     "output_type": "stream",
     "text": [
      "[######################                  ] | 55% Completed | 10.0s"
     ]
    },
    {
     "name": "stderr",
     "output_type": "stream",
     "text": [
      " 21%|██████████████████████▍                                                                                  | 595k/2.73M [00:01<00:03, 617kB/s]"
     ]
    },
    {
     "name": "stdout",
     "output_type": "stream",
     "text": [
      "[######################                  ] | 55% Completed | 10.2s"
     ]
    },
    {
     "name": "stderr",
     "output_type": "stream",
     "text": [
      " 44%|█████████████████████████████████████████████▏                                                         | 1.19M/2.73M [00:01<00:01, 1.18MB/s]\n",
      "  0%|                                                                                                                | 0.00/3.05M [00:00<?, ?B/s]\u001b[A"
     ]
    },
    {
     "name": "stdout",
     "output_type": "stream",
     "text": [
      "[######################                  ] | 55% Completed | 10.5s"
     ]
    },
    {
     "name": "stderr",
     "output_type": "stream",
     "text": [
      "\n",
      " 60%|█████████████████████████████████████████████████████████████▊                                         | 1.63M/2.73M [00:01<00:00, 1.30MB/s]\u001b[A"
     ]
    },
    {
     "name": "stdout",
     "output_type": "stream",
     "text": [
      "[######################                  ] | 55% Completed | 10.7s"
     ]
    },
    {
     "name": "stderr",
     "output_type": "stream",
     "text": [
      "2022-03-14 10:53:47,685 INFO Download rate 632.6K/s                                                                                              \n"
     ]
    },
    {
     "name": "stdout",
     "output_type": "stream",
     "text": [
      "[######################                  ] | 55% Completed | 10.8s"
     ]
    },
    {
     "name": "stderr",
     "output_type": "stream",
     "text": [
      "\n",
      "  1%|█                                                                                                      | 34.0k/3.05M [00:00<00:47, 66.4kB/s]\u001b[A"
     ]
    },
    {
     "name": "stdout",
     "output_type": "stream",
     "text": [
      "[######################                  ] | 55% Completed | 10.9s\n",
      "/media/nicolasf/END19101/ICU/data/CDS/operational/hindcasts/METEO_FRANCE/TPRATE/ensemble_seas_forecasts_tprate_from_1999_03_METEO_FRANCE.netcdf downloaded OK\n",
      "\n",
      "[##########################              ] | 66% Completed | 11.1s"
     ]
    },
    {
     "name": "stderr",
     "output_type": "stream",
     "text": [
      "\n",
      "  3%|███▏                                                                                                    | 94.0k/3.05M [00:00<00:23, 134kB/s]\u001b[A"
     ]
    },
    {
     "name": "stdout",
     "output_type": "stream",
     "text": [
      "[##########################              ] | 66% Completed | 11.4s"
     ]
    },
    {
     "name": "stderr",
     "output_type": "stream",
     "text": [
      "\n",
      "  7%|██████▉                                                                                                  | 206k/3.05M [00:01<00:12, 238kB/s]\u001b[A"
     ]
    },
    {
     "name": "stdout",
     "output_type": "stream",
     "text": [
      "[##########################              ] | 66% Completed | 11.7s"
     ]
    },
    {
     "name": "stderr",
     "output_type": "stream",
     "text": [
      "\n",
      " 14%|██████████████▏                                                                                          | 422k/3.05M [00:01<00:06, 430kB/s]\u001b[A"
     ]
    },
    {
     "name": "stdout",
     "output_type": "stream",
     "text": [
      "[##########################              ] | 66% Completed | 11.9s"
     ]
    },
    {
     "name": "stderr",
     "output_type": "stream",
     "text": [
      "\n",
      " 28%|█████████████████████████████                                                                            | 864k/3.05M [00:01<00:02, 819kB/s]\u001b[A"
     ]
    },
    {
     "name": "stdout",
     "output_type": "stream",
     "text": [
      "[##########################              ] | 66% Completed | 12.2s"
     ]
    },
    {
     "name": "stderr",
     "output_type": "stream",
     "text": [
      "\n",
      " 56%|█████████████████████████████████████████████████████████▌                                             | 1.70M/3.05M [00:02<00:00, 1.58MB/s]\u001b[A"
     ]
    },
    {
     "name": "stdout",
     "output_type": "stream",
     "text": [
      "[##########################              ] | 66% Completed | 12.5s"
     ]
    },
    {
     "name": "stderr",
     "output_type": "stream",
     "text": [
      "\n",
      " 91%|█████████████████████████████████████████████████████████████████████████████████████████████▌         | 2.77M/3.05M [00:02<00:00, 2.22MB/s]\u001b[A"
     ]
    },
    {
     "name": "stdout",
     "output_type": "stream",
     "text": [
      "[##########################              ] | 66% Completed | 12.8s"
     ]
    },
    {
     "name": "stderr",
     "output_type": "stream",
     "text": [
      "\n",
      " 98%|████████████████████████████████████████████████████████████████████████████████████████████████████▌  | 2.98M/3.05M [00:02<00:00, 1.77MB/s]\u001b[A"
     ]
    },
    {
     "name": "stdout",
     "output_type": "stream",
     "text": [
      "[##########################              ] | 66% Completed | 12.9s"
     ]
    },
    {
     "name": "stderr",
     "output_type": "stream",
     "text": [
      "\n",
      "                                                                                                                                                 \u001b[A2022-03-14 10:53:50,013 INFO Download rate 1M/s\n"
     ]
    },
    {
     "name": "stdout",
     "output_type": "stream",
     "text": [
      "[##########################              ] | 66% Completed | 13.2s\n",
      "/media/nicolasf/END19101/ICU/data/CDS/operational/hindcasts/UKMO/TPRATE/ensemble_seas_forecasts_tprate_from_1999_03_UKMO.netcdf downloaded OK\n",
      "\n",
      "[###############################         ] | 77% Completed | 15.3s"
     ]
    },
    {
     "name": "stderr",
     "output_type": "stream",
     "text": [
      "2022-03-14 10:53:52,288 INFO Request is completed\n",
      "2022-03-14 10:53:52,290 INFO Downloading https://download-0013.copernicus-climate.eu/cache-compute-0013/cache/data6/adaptor.mars.external-1647208428.3860564-28039-20-c76effa5-556d-4065-a7e8-1eb94d4c6929.nc to /media/nicolasf/END19101/ICU/data/CDS/operational/hindcasts/JMA/TPRATE/ensemble_seas_forecasts_tprate_from_1999_03_JMA.netcdf (719.2K)\n",
      "2022-03-14 10:53:52,320 INFO Request is completed\n",
      "2022-03-14 10:53:52,321 INFO Downloading https://download-0002.copernicus-climate.eu/cache-compute-0002/cache/data5/adaptor.mars.external-1647208426.5517306-4039-8-fa010080-9108-484c-9d51-96e337de0bc8.nc to /media/nicolasf/END19101/ICU/data/CDS/operational/hindcasts/ECCC_GEM_NEMO/TPRATE/ensemble_seas_forecasts_tprate_from_1999_03_ECCC.netcdf (1.1M)\n"
     ]
    },
    {
     "name": "stdout",
     "output_type": "stream",
     "text": [
      "[###############################         ] | 77% Completed | 15.6s"
     ]
    },
    {
     "name": "stderr",
     "output_type": "stream",
     "text": [
      "  0%|                                                                                                                 | 0.00/719k [00:00<?, ?B/s]"
     ]
    },
    {
     "name": "stdout",
     "output_type": "stream",
     "text": [
      "[###############################         ] | 77% Completed | 15.8s"
     ]
    },
    {
     "name": "stderr",
     "output_type": "stream",
     "text": [
      "  1%|█▏                                                                                                      | 8.00k/719k [00:00<00:24, 29.6kB/s]"
     ]
    },
    {
     "name": "stdout",
     "output_type": "stream",
     "text": [
      "[###############################         ] | 77% Completed | 16.1s"
     ]
    },
    {
     "name": "stderr",
     "output_type": "stream",
     "text": [
      "  5%|████▉                                                                                                   | 34.0k/719k [00:00<00:10, 68.0kB/s]"
     ]
    },
    {
     "name": "stdout",
     "output_type": "stream",
     "text": [
      "[###############################         ] | 77% Completed | 16.4s"
     ]
    },
    {
     "name": "stderr",
     "output_type": "stream",
     "text": [
      " 13%|█████████████▊                                                                                           | 95.0k/719k [00:00<00:04, 138kB/s]"
     ]
    },
    {
     "name": "stdout",
     "output_type": "stream",
     "text": [
      "[###############################         ] | 77% Completed | 16.5s"
     ]
    },
    {
     "name": "stderr",
     "output_type": "stream",
     "text": [
      "\n",
      "  0%|                                                                                                                | 0.00/1.09M [00:00<?, ?B/s]"
     ]
    },
    {
     "name": "stdout",
     "output_type": "stream",
     "text": [
      "[###############################         ] | 77% Completed | 16.6s"
     ]
    },
    {
     "name": "stderr",
     "output_type": "stream",
     "text": [
      "\u001b[A"
     ]
    },
    {
     "name": "stdout",
     "output_type": "stream",
     "text": [
      "[###############################         ] | 77% Completed | 16.7s"
     ]
    },
    {
     "name": "stderr",
     "output_type": "stream",
     "text": [
      " 29%|██████████████████████████████▌                                                                           | 207k/719k [00:01<00:02, 245kB/s]"
     ]
    },
    {
     "name": "stdout",
     "output_type": "stream",
     "text": [
      "[###############################         ] | 77% Completed | 16.8s"
     ]
    },
    {
     "name": "stderr",
     "output_type": "stream",
     "text": [
      "\n",
      "  1%|█▍                                                                                                     | 16.0k/1.09M [00:00<00:18, 59.7kB/s]\u001b[A"
     ]
    },
    {
     "name": "stdout",
     "output_type": "stream",
     "text": [
      "[###############################         ] | 77% Completed | 16.9s"
     ]
    },
    {
     "name": "stderr",
     "output_type": "stream",
     "text": [
      " 59%|██████████████████████████████████████████████████████████████▊                                           | 426k/719k [00:01<00:00, 443kB/s]"
     ]
    },
    {
     "name": "stdout",
     "output_type": "stream",
     "text": [
      "[###############################         ] | 77% Completed | 17.1s"
     ]
    },
    {
     "name": "stderr",
     "output_type": "stream",
     "text": [
      "2022-03-14 10:53:54,113 INFO Download rate 394.8K/s                                                                                              \n",
      "\n",
      "  5%|█████▏                                                                                                  | 56.0k/1.09M [00:00<00:09, 110kB/s]\u001b[A"
     ]
    },
    {
     "name": "stdout",
     "output_type": "stream",
     "text": [
      "[###############################         ] | 77% Completed | 17.4s"
     ]
    },
    {
     "name": "stderr",
     "output_type": "stream",
     "text": [
      "\n",
      " 10%|██████████▌                                                                                              | 113k/1.09M [00:00<00:06, 154kB/s]\u001b[A"
     ]
    },
    {
     "name": "stdout",
     "output_type": "stream",
     "text": [
      "\n",
      "/media/nicolasf/END19101/ICU/data/CDS/operational/hindcasts/JMA/TPRATE/ensemble_seas_forecasts_tprate_from_1999_03_JMA.netcdf downloaded OK\n",
      "\n",
      "[###################################     ] | 88% Completed | 17.6s"
     ]
    },
    {
     "name": "stderr",
     "output_type": "stream",
     "text": [
      "\n"
     ]
    },
    {
     "name": "stdout",
     "output_type": "stream",
     "text": [
      "[###################################     ] | 88% Completed | 17.7s"
     ]
    },
    {
     "name": "stderr",
     "output_type": "stream",
     "text": [
      " 23%|████████████████████████▏                                                                                | 257k/1.09M [00:01<00:02, 299kB/s]\u001b[A"
     ]
    },
    {
     "name": "stdout",
     "output_type": "stream",
     "text": [
      "[###################################     ] | 88% Completed | 17.9s"
     ]
    },
    {
     "name": "stderr",
     "output_type": "stream",
     "text": [
      "\n",
      " 48%|█████████████████████████████████████████████████▉                                                       | 531k/1.09M [00:01<00:01, 549kB/s]\u001b[A"
     ]
    },
    {
     "name": "stdout",
     "output_type": "stream",
     "text": [
      "[###################################     ] | 88% Completed | 18.2s"
     ]
    },
    {
     "name": "stderr",
     "output_type": "stream",
     "text": [
      "\n",
      " 97%|████████████████████████████████████████████████████████████████████████████████████████████████████▏  | 1.06M/1.09M [00:01<00:00, 1.05MB/s]\u001b[A"
     ]
    },
    {
     "name": "stdout",
     "output_type": "stream",
     "text": [
      "[###################################     ] | 88% Completed | 18.3s"
     ]
    },
    {
     "name": "stderr",
     "output_type": "stream",
     "text": [
      "\n",
      "                                                                                                                                                 \u001b[A2022-03-14 10:53:55,405 INFO Download rate 362.6K/s\n"
     ]
    },
    {
     "name": "stdout",
     "output_type": "stream",
     "text": [
      "[###################################     ] | 88% Completed | 18.6s\n",
      "/media/nicolasf/END19101/ICU/data/CDS/operational/hindcasts/ECCC_GEM_NEMO/TPRATE/ensemble_seas_forecasts_tprate_from_1999_03_ECCC.netcdf downloaded OK\n",
      "\n",
      "[########################################] | 100% Completed | 18.8s\n",
      "processing ECCC, path should be /media/nicolasf/END19101/ICU/data/CDS/operational/hindcasts/ECCC_CanCM4i/TPRATE\n",
      "processing ECCC, path should be /media/nicolasf/END19101/ICU/data/CDS/operational/hindcasts/ECCC_GEM_NEMO/TPRATE\n",
      "[                                        ] | 0% Completed |  0.0s\n",
      "/media/nicolasf/END19101/ICU/data/CDS/operational/hindcasts/ECCC_CanCM4i/TPRATE/ensemble_seas_forecasts_tprate_from_2000_03_ECCC.netcdf exists already on disk, skipping download and returning path\n",
      "\n",
      "\n",
      "attempting to download tprate for GCM ECCC, for level surface, year 2000, month 3, in netcdf, attempt 1 of 3\n",
      "\n",
      "\n",
      "/media/nicolasf/END19101/ICU/data/CDS/operational/hindcasts/CMCC/TPRATE/ensemble_seas_forecasts_tprate_from_2000_03_CMCC.netcdf exists already on disk, skipping download and returning path\n",
      "\n",
      "\n",
      "attempting to download tprate for GCM METEO_FRANCE, for level surface, year 2000, month 3, in netcdf, attempt 1 of 3\n",
      "\n",
      "\n",
      "attempting to download tprate for GCM UKMO, for level surface, year 2000, month 3, in netcdf, attempt 1 of 3\n",
      "\n",
      "\n",
      "attempting to download tprate for GCM JMA, for level surface, year 2000, month 3, in netcdf, attempt 1 of 3\n",
      "\n",
      "\n",
      "/media/nicolasf/END19101/ICU/data/CDS/operational/hindcasts/ECMWF/TPRATE/ensemble_seas_forecasts_tprate_from_2000_03_ECMWF.netcdf exists already on disk, skipping download and returning path\n",
      "\n",
      "\n",
      "/media/nicolasf/END19101/ICU/data/CDS/operational/hindcasts/NCEP/TPRATE/ensemble_seas_forecasts_tprate_from_2000_03_NCEP.netcdf exists already on disk, skipping download and returning path\n",
      "\n",
      "\n",
      "/media/nicolasf/END19101/ICU/data/CDS/operational/hindcasts/DWD/TPRATE/ensemble_seas_forecasts_tprate_from_2000_03_DWD.netcdf exists already on disk, skipping download and returning path\n",
      "\n",
      "[######################                  ] | 55% Completed |  0.2s"
     ]
    },
    {
     "name": "stderr",
     "output_type": "stream",
     "text": [
      "2022-03-14 10:53:56,071 INFO Welcome to the CDS\n",
      "2022-03-14 10:53:56,074 INFO Sending request to https://cds.climate.copernicus.eu/api/v2/resources/seasonal-monthly-single-levels\n"
     ]
    },
    {
     "name": "stdout",
     "output_type": "stream",
     "text": [
      "[######################                  ] | 55% Completed |  0.3s"
     ]
    },
    {
     "name": "stderr",
     "output_type": "stream",
     "text": [
      "2022-03-14 10:53:56,076 INFO Welcome to the CDS\n",
      "2022-03-14 10:53:56,084 INFO Welcome to the CDS\n",
      "2022-03-14 10:53:56,087 INFO Welcome to the CDS\n",
      "2022-03-14 10:53:56,088 INFO Sending request to https://cds.climate.copernicus.eu/api/v2/resources/seasonal-monthly-single-levels\n",
      "2022-03-14 10:53:56,093 INFO Sending request to https://cds.climate.copernicus.eu/api/v2/resources/seasonal-monthly-single-levels\n",
      "2022-03-14 10:53:56,095 INFO Sending request to https://cds.climate.copernicus.eu/api/v2/resources/seasonal-monthly-single-levels\n"
     ]
    },
    {
     "name": "stdout",
     "output_type": "stream",
     "text": [
      "[######################                  ] | 55% Completed |  0.5s"
     ]
    },
    {
     "name": "stderr",
     "output_type": "stream",
     "text": [
      "2022-03-14 10:53:56,376 INFO Request is queued\n"
     ]
    },
    {
     "name": "stdout",
     "output_type": "stream",
     "text": [
      "[######################                  ] | 55% Completed |  0.6s"
     ]
    },
    {
     "name": "stderr",
     "output_type": "stream",
     "text": [
      "2022-03-14 10:53:56,394 INFO Request is queued\n",
      "2022-03-14 10:53:56,411 INFO Request is queued\n",
      "2022-03-14 10:53:56,414 INFO Request is queued\n"
     ]
    },
    {
     "name": "stdout",
     "output_type": "stream",
     "text": [
      "[######################                  ] | 55% Completed |  1.8s"
     ]
    },
    {
     "name": "stderr",
     "output_type": "stream",
     "text": [
      "2022-03-14 10:53:57,675 INFO Request is failed\n",
      "2022-03-14 10:53:57,677 ERROR Message: an internal error occurred processing your request\n",
      "2022-03-14 10:53:57,679 ERROR Reason:  [Errno 13] Permission denied: '/cache/tmp'\n",
      "2022-03-14 10:53:57,680 ERROR   Traceback (most recent call last):\n",
      "2022-03-14 10:53:57,683 ERROR     File \"/usr/lib64/python3.6/os.py\", line 220, in makedirs\n",
      "2022-03-14 10:53:57,684 ERROR       mkdir(name, mode)\n",
      "2022-03-14 10:53:57,685 ERROR   FileExistsError: [Errno 17] File exists: '/cache/tmp'\n"
     ]
    },
    {
     "name": "stdout",
     "output_type": "stream",
     "text": [
      "\n",
      "failure to download or save /media/nicolasf/END19101/ICU/data/CDS/operational/hindcasts/ECCC_GEM_NEMO/TPRATE/ensemble_seas_forecasts_tprate_from_2000_03_ECCC.netcdf\n",
      "\n",
      "\n",
      "attempting to download tprate for GCM ECCC, for level surface, year 2000, month 3, in netcdf, attempt 2 of 3\n",
      "\n"
     ]
    },
    {
     "name": "stderr",
     "output_type": "stream",
     "text": [
      "2022-03-14 10:53:57,708 INFO Request is running\n"
     ]
    },
    {
     "name": "stdout",
     "output_type": "stream",
     "text": [
      "[######################                  ] | 55% Completed |  2.2s"
     ]
    },
    {
     "name": "stderr",
     "output_type": "stream",
     "text": [
      "2022-03-14 10:53:57,980 INFO Welcome to the CDS\n",
      "2022-03-14 10:53:57,982 INFO Sending request to https://cds.climate.copernicus.eu/api/v2/resources/seasonal-monthly-single-levels\n"
     ]
    },
    {
     "name": "stdout",
     "output_type": "stream",
     "text": [
      "[######################                  ] | 55% Completed |  2.5s"
     ]
    },
    {
     "name": "stderr",
     "output_type": "stream",
     "text": [
      "2022-03-14 10:53:58,285 INFO Request is queued\n"
     ]
    },
    {
     "name": "stdout",
     "output_type": "stream",
     "text": [
      "[######################                  ] | 55% Completed |  6.2s"
     ]
    },
    {
     "name": "stderr",
     "output_type": "stream",
     "text": [
      "2022-03-14 10:54:02,050 INFO Request is completed\n",
      "2022-03-14 10:54:02,051 INFO Downloading https://download-0007.copernicus-climate.eu/cache-compute-0007/cache/data8/adaptor.mars.external-1647208439.7068536-17511-7-b3fabbc5-ec04-45fa-85ca-1599e22f3da3.nc to /media/nicolasf/END19101/ICU/data/CDS/operational/hindcasts/UKMO/TPRATE/ensemble_seas_forecasts_tprate_from_2000_03_UKMO.netcdf (3.1M)\n",
      "2022-03-14 10:54:02,065 INFO Request is running\n"
     ]
    },
    {
     "name": "stdout",
     "output_type": "stream",
     "text": [
      "[######################                  ] | 55% Completed |  6.5s"
     ]
    },
    {
     "name": "stderr",
     "output_type": "stream",
     "text": [
      "  0%|                                                                                                                | 0.00/3.05M [00:00<?, ?B/s]"
     ]
    },
    {
     "name": "stdout",
     "output_type": "stream",
     "text": [
      "[######################                  ] | 55% Completed |  6.8s"
     ]
    },
    {
     "name": "stderr",
     "output_type": "stream",
     "text": [
      "  0%|▎                                                                                                      | 8.00k/3.05M [00:00<01:47, 29.6kB/s]"
     ]
    },
    {
     "name": "stdout",
     "output_type": "stream",
     "text": [
      "[######################                  ] | 55% Completed |  7.0s"
     ]
    },
    {
     "name": "stderr",
     "output_type": "stream",
     "text": [
      "  1%|█▎                                                                                                     | 40.0k/3.05M [00:00<00:38, 81.1kB/s]"
     ]
    },
    {
     "name": "stdout",
     "output_type": "stream",
     "text": [
      "[######################                  ] | 55% Completed |  7.4s"
     ]
    },
    {
     "name": "stderr",
     "output_type": "stream",
     "text": [
      "  3%|███                                                                                                     | 93.0k/3.05M [00:00<00:23, 132kB/s]"
     ]
    },
    {
     "name": "stdout",
     "output_type": "stream",
     "text": [
      "[######################                  ] | 55% Completed |  7.7s"
     ]
    },
    {
     "name": "stderr",
     "output_type": "stream",
     "text": [
      "  6%|██████▊                                                                                                  | 203k/3.05M [00:01<00:12, 238kB/s]"
     ]
    },
    {
     "name": "stdout",
     "output_type": "stream",
     "text": [
      "[######################                  ] | 55% Completed |  8.0s"
     ]
    },
    {
     "name": "stderr",
     "output_type": "stream",
     "text": [
      " 14%|██████████████▏                                                                                          | 422k/3.05M [00:01<00:06, 440kB/s]"
     ]
    },
    {
     "name": "stdout",
     "output_type": "stream",
     "text": [
      "[######################                  ] | 55% Completed |  8.1s"
     ]
    },
    {
     "name": "stderr",
     "output_type": "stream",
     "text": [
      "2022-03-14 10:54:03,923 INFO Request is running\n"
     ]
    },
    {
     "name": "stdout",
     "output_type": "stream",
     "text": [
      "[######################                  ] | 55% Completed |  8.3s"
     ]
    },
    {
     "name": "stderr",
     "output_type": "stream",
     "text": [
      " 28%|█████████████████████████████                                                                            | 864k/3.05M [00:01<00:02, 835kB/s]"
     ]
    },
    {
     "name": "stdout",
     "output_type": "stream",
     "text": [
      "[######################                  ] | 55% Completed |  8.5s"
     ]
    },
    {
     "name": "stderr",
     "output_type": "stream",
     "text": [
      " 48%|█████████████████████████████████████████████████▋                                                     | 1.47M/3.05M [00:01<00:01, 1.33MB/s]"
     ]
    },
    {
     "name": "stdout",
     "output_type": "stream",
     "text": [
      "[######################                  ] | 55% Completed |  8.8s"
     ]
    },
    {
     "name": "stderr",
     "output_type": "stream",
     "text": [
      " 70%|███████████████████████████████████████████████████████████████████████▉                               | 2.13M/3.05M [00:02<00:00, 1.69MB/s]"
     ]
    },
    {
     "name": "stdout",
     "output_type": "stream",
     "text": [
      "[######################                  ] | 55% Completed |  9.1s"
     ]
    },
    {
     "name": "stderr",
     "output_type": "stream",
     "text": [
      " 92%|███████████████████████████████████████████████████████████████████████████████████████████████        | 2.82M/3.05M [00:02<00:00, 1.95MB/s]"
     ]
    },
    {
     "name": "stdout",
     "output_type": "stream",
     "text": [
      "[######################                  ] | 55% Completed |  9.2s"
     ]
    },
    {
     "name": "stderr",
     "output_type": "stream",
     "text": [
      "2022-03-14 10:54:04,997 INFO Download rate 1M/s                                                                                                  \n"
     ]
    },
    {
     "name": "stdout",
     "output_type": "stream",
     "text": [
      "[######################                  ] | 55% Completed |  9.5s\n",
      "/media/nicolasf/END19101/ICU/data/CDS/operational/hindcasts/UKMO/TPRATE/ensemble_seas_forecasts_tprate_from_2000_03_UKMO.netcdf downloaded OK\n",
      "\n",
      "[##########################              ] | 66% Completed |  9.9s"
     ]
    },
    {
     "name": "stderr",
     "output_type": "stream",
     "text": [
      "2022-03-14 10:54:05,708 INFO Request is failed\n",
      "2022-03-14 10:54:05,710 ERROR Message: an internal error occurred processing your request\n",
      "2022-03-14 10:54:05,712 ERROR Reason:  [Errno 13] Permission denied: '/cache/tmp'\n",
      "2022-03-14 10:54:05,713 ERROR   Traceback (most recent call last):\n",
      "2022-03-14 10:54:05,715 ERROR     File \"/usr/lib64/python3.6/os.py\", line 220, in makedirs\n",
      "2022-03-14 10:54:05,716 ERROR       mkdir(name, mode)\n",
      "2022-03-14 10:54:05,716 ERROR   FileExistsError: [Errno 17] File exists: '/cache/tmp'\n",
      "2022-03-14 10:54:05,749 INFO Request is completed\n",
      "2022-03-14 10:54:05,750 INFO Downloading https://download-0007.copernicus-climate.eu/cache-compute-0007/cache/data8/adaptor.mars.external-1647208441.7641394-17811-4-d07ed960-53a6-4640-b477-63c2c40affb1.nc to /media/nicolasf/END19101/ICU/data/CDS/operational/hindcasts/JMA/TPRATE/ensemble_seas_forecasts_tprate_from_2000_03_JMA.netcdf (719.2K)\n"
     ]
    },
    {
     "name": "stdout",
     "output_type": "stream",
     "text": [
      "\n",
      "failure to download or save /media/nicolasf/END19101/ICU/data/CDS/operational/hindcasts/METEO_FRANCE/TPRATE/ensemble_seas_forecasts_tprate_from_2000_03_METEO_FRANCE.netcdf\n",
      "\n",
      "\n",
      "attempting to download tprate for GCM METEO_FRANCE, for level surface, year 2000, month 3, in netcdf, attempt 2 of 3\n",
      "\n",
      "[##########################              ] | 66% Completed | 10.2s"
     ]
    },
    {
     "name": "stderr",
     "output_type": "stream",
     "text": [
      "2022-03-14 10:54:06,004 INFO Welcome to the CDS\n",
      "2022-03-14 10:54:06,006 INFO Sending request to https://cds.climate.copernicus.eu/api/v2/resources/seasonal-monthly-single-levels\n",
      "  0%|                                                                                                                 | 0.00/719k [00:00<?, ?B/s]"
     ]
    },
    {
     "name": "stdout",
     "output_type": "stream",
     "text": [
      "[##########################              ] | 66% Completed | 10.5s"
     ]
    },
    {
     "name": "stderr",
     "output_type": "stream",
     "text": [
      "2022-03-14 10:54:06,306 INFO Request is queued\n",
      " 24%|█████████████████████████                                                                                 | 170k/719k [00:00<00:00, 622kB/s]"
     ]
    },
    {
     "name": "stdout",
     "output_type": "stream",
     "text": [
      "[##########################              ] | 66% Completed | 10.8s"
     ]
    },
    {
     "name": "stderr",
     "output_type": "stream",
     "text": [
      " 74%|█████████████████████████████████████████████████████████████████████████████▌                           | 531k/719k [00:00<00:00, 1.03MB/s]"
     ]
    },
    {
     "name": "stdout",
     "output_type": "stream",
     "text": [
      "[##########################              ] | 66% Completed | 10.9s"
     ]
    },
    {
     "name": "stderr",
     "output_type": "stream",
     "text": [
      "2022-03-14 10:54:06,713 INFO Download rate 747.2K/s                                                                                              \n"
     ]
    },
    {
     "name": "stdout",
     "output_type": "stream",
     "text": [
      "[##########################              ] | 66% Completed | 11.2s\n",
      "/media/nicolasf/END19101/ICU/data/CDS/operational/hindcasts/JMA/TPRATE/ensemble_seas_forecasts_tprate_from_2000_03_JMA.netcdf downloaded OK\n",
      "\n",
      "[###############################         ] | 77% Completed | 11.8s"
     ]
    },
    {
     "name": "stderr",
     "output_type": "stream",
     "text": [
      "2022-03-14 10:54:07,597 INFO Request is completed\n",
      "2022-03-14 10:54:07,599 INFO Downloading https://download-0013.copernicus-climate.eu/cache-compute-0013/cache/data0/adaptor.mars.external-1647208446.439113-28476-18-63e90ee5-1af6-4012-b323-ae8d61bec4bc.nc to /media/nicolasf/END19101/ICU/data/CDS/operational/hindcasts/ECCC_GEM_NEMO/TPRATE/ensemble_seas_forecasts_tprate_from_2000_03_ECCC.netcdf (1.1M)\n",
      "2022-03-14 10:54:07,602 INFO Request is running\n"
     ]
    },
    {
     "name": "stdout",
     "output_type": "stream",
     "text": [
      "[###############################         ] | 77% Completed | 12.0s"
     ]
    },
    {
     "name": "stderr",
     "output_type": "stream",
     "text": [
      "  0%|                                                                                                                | 0.00/1.09M [00:00<?, ?B/s]"
     ]
    },
    {
     "name": "stdout",
     "output_type": "stream",
     "text": [
      "[###############################         ] | 77% Completed | 12.3s"
     ]
    },
    {
     "name": "stderr",
     "output_type": "stream",
     "text": [
      "  1%|▋                                                                                                      | 8.00k/1.09M [00:00<00:38, 29.6kB/s]"
     ]
    },
    {
     "name": "stdout",
     "output_type": "stream",
     "text": [
      "[###############################         ] | 77% Completed | 12.6s"
     ]
    },
    {
     "name": "stderr",
     "output_type": "stream",
     "text": [
      "  3%|███▏                                                                                                   | 35.0k/1.09M [00:00<00:15, 70.2kB/s]"
     ]
    },
    {
     "name": "stdout",
     "output_type": "stream",
     "text": [
      "[###############################         ] | 77% Completed | 13.0s"
     ]
    },
    {
     "name": "stderr",
     "output_type": "stream",
     "text": [
      "  8%|████████▍                                                                                               | 91.0k/1.09M [00:00<00:08, 131kB/s]"
     ]
    },
    {
     "name": "stdout",
     "output_type": "stream",
     "text": [
      "[###############################         ] | 77% Completed | 13.2s"
     ]
    },
    {
     "name": "stderr",
     "output_type": "stream",
     "text": [
      " 18%|███████████████████                                                                                      | 203k/1.09M [00:01<00:03, 240kB/s]"
     ]
    },
    {
     "name": "stdout",
     "output_type": "stream",
     "text": [
      "[###############################         ] | 77% Completed | 13.5s"
     ]
    },
    {
     "name": "stderr",
     "output_type": "stream",
     "text": [
      " 38%|███████████████████████████████████████▋                                                                 | 422k/1.09M [00:01<00:01, 440kB/s]"
     ]
    },
    {
     "name": "stdout",
     "output_type": "stream",
     "text": [
      "[###############################         ] | 77% Completed | 13.8s"
     ]
    },
    {
     "name": "stderr",
     "output_type": "stream",
     "text": [
      " 77%|█████████████████████████████████████████████████████████████████████████████████▏                       | 864k/1.09M [00:01<00:00, 835kB/s]"
     ]
    },
    {
     "name": "stdout",
     "output_type": "stream",
     "text": [
      "[###############################         ] | 77% Completed | 13.9s"
     ]
    },
    {
     "name": "stderr",
     "output_type": "stream",
     "text": [
      "2022-03-14 10:54:09,694 INFO Download rate 533.6K/s                                                                                              \n"
     ]
    },
    {
     "name": "stdout",
     "output_type": "stream",
     "text": [
      "[###############################         ] | 77% Completed | 14.2s\n",
      "/media/nicolasf/END19101/ICU/data/CDS/operational/hindcasts/ECCC_GEM_NEMO/TPRATE/ensemble_seas_forecasts_tprate_from_2000_03_ECCC.netcdf downloaded OK\n",
      "\n",
      "[###################################     ] | 88% Completed | 16.1s"
     ]
    },
    {
     "name": "stderr",
     "output_type": "stream",
     "text": [
      "2022-03-14 10:54:11,942 INFO Request is completed\n",
      "2022-03-14 10:54:11,944 INFO Downloading https://download-0011.copernicus-climate.eu/cache-compute-0011/cache/data2/adaptor.mars.external-1647208450.5198817-26343-5-ab41281c-4a13-49b3-8b3a-4ea6add2c42b.nc to /media/nicolasf/END19101/ICU/data/CDS/operational/hindcasts/METEO_FRANCE/TPRATE/ensemble_seas_forecasts_tprate_from_2000_03_METEO_FRANCE.netcdf (2.7M)\n"
     ]
    },
    {
     "name": "stdout",
     "output_type": "stream",
     "text": [
      "[###################################     ] | 88% Completed | 16.4s"
     ]
    },
    {
     "name": "stderr",
     "output_type": "stream",
     "text": [
      "  0%|                                                                                                                | 0.00/2.73M [00:00<?, ?B/s]"
     ]
    },
    {
     "name": "stdout",
     "output_type": "stream",
     "text": [
      "[###################################     ] | 88% Completed | 16.7s"
     ]
    },
    {
     "name": "stderr",
     "output_type": "stream",
     "text": [
      "  0%|▎                                                                                                      | 8.00k/2.73M [00:00<01:41, 28.1kB/s]"
     ]
    },
    {
     "name": "stdout",
     "output_type": "stream",
     "text": [
      "[###################################     ] | 88% Completed | 17.0s"
     ]
    },
    {
     "name": "stderr",
     "output_type": "stream",
     "text": [
      "  1%|█▎                                                                                                     | 35.0k/2.73M [00:00<00:42, 67.1kB/s]"
     ]
    },
    {
     "name": "stdout",
     "output_type": "stream",
     "text": [
      "[###################################     ] | 88% Completed | 17.3s"
     ]
    },
    {
     "name": "stderr",
     "output_type": "stream",
     "text": [
      "  3%|███▍                                                                                                    | 91.0k/2.73M [00:00<00:21, 127kB/s]"
     ]
    },
    {
     "name": "stdout",
     "output_type": "stream",
     "text": [
      "[###################################     ] | 88% Completed | 17.5s"
     ]
    },
    {
     "name": "stderr",
     "output_type": "stream",
     "text": [
      "  7%|███████▋                                                                                                 | 205k/2.73M [00:01<00:11, 236kB/s]"
     ]
    },
    {
     "name": "stdout",
     "output_type": "stream",
     "text": [
      "[###################################     ] | 88% Completed | 17.9s"
     ]
    },
    {
     "name": "stderr",
     "output_type": "stream",
     "text": [
      " 15%|███████████████▉                                                                                         | 422k/2.73M [00:01<00:05, 429kB/s]"
     ]
    },
    {
     "name": "stdout",
     "output_type": "stream",
     "text": [
      "[###################################     ] | 88% Completed | 18.2s"
     ]
    },
    {
     "name": "stderr",
     "output_type": "stream",
     "text": [
      " 31%|████████████████████████████████▌                                                                        | 864k/2.73M [00:01<00:02, 817kB/s]"
     ]
    },
    {
     "name": "stdout",
     "output_type": "stream",
     "text": [
      "[###################################     ] | 88% Completed | 18.5s"
     ]
    },
    {
     "name": "stderr",
     "output_type": "stream",
     "text": [
      " 63%|████████████████████████████████████████████████████████████████▍                                      | 1.70M/2.73M [00:02<00:00, 1.57MB/s]"
     ]
    },
    {
     "name": "stdout",
     "output_type": "stream",
     "text": [
      "[###################################     ] | 88% Completed | 18.6s"
     ]
    },
    {
     "name": "stderr",
     "output_type": "stream",
     "text": [
      "2022-03-14 10:54:14,413 INFO Download rate 1.1M/s                                                                                                \n"
     ]
    },
    {
     "name": "stdout",
     "output_type": "stream",
     "text": [
      "[###################################     ] | 88% Completed | 18.9s\n",
      "/media/nicolasf/END19101/ICU/data/CDS/operational/hindcasts/METEO_FRANCE/TPRATE/ensemble_seas_forecasts_tprate_from_2000_03_METEO_FRANCE.netcdf downloaded OK\n",
      "\n",
      "[########################################] | 100% Completed | 19.0s\n",
      "processing ECCC, path should be /media/nicolasf/END19101/ICU/data/CDS/operational/hindcasts/ECCC_CanCM4i/TPRATE\n",
      "processing ECCC, path should be /media/nicolasf/END19101/ICU/data/CDS/operational/hindcasts/ECCC_GEM_NEMO/TPRATE\n",
      "[                                        ] | 0% Completed |  0.0s\n",
      "/media/nicolasf/END19101/ICU/data/CDS/operational/hindcasts/DWD/TPRATE/ensemble_seas_forecasts_tprate_from_2001_03_DWD.netcdf exists already on disk, skipping download and returning path\n",
      "\n",
      "\n",
      "/media/nicolasf/END19101/ICU/data/CDS/operational/hindcasts/ECCC_CanCM4i/TPRATE/ensemble_seas_forecasts_tprate_from_2001_03_ECCC.netcdf exists already on disk, skipping download and returning path\n",
      "\n",
      "\n",
      "/media/nicolasf/END19101/ICU/data/CDS/operational/hindcasts/ECMWF/TPRATE/ensemble_seas_forecasts_tprate_from_2001_03_ECMWF.netcdf exists already on disk, skipping download and returning path\n",
      "\n",
      "\n",
      "attempting to download tprate for GCM JMA, for level surface, year 2001, month 3, in netcdf, attempt 1 of 3\n",
      "\n",
      "attempting to download tprate for GCM ECCC, for level surface, year 2001, month 3, in netcdf, attempt 1 of 3\n",
      "\n",
      "\n",
      "\n",
      "attempting to download tprate for GCM METEO_FRANCE, for level surface, year 2001, month 3, in netcdf, attempt 1 of 3\n",
      "\n",
      "\n",
      "attempting to download tprate for GCM UKMO, for level surface, year 2001, month 3, in netcdf, attempt 1 of 3\n",
      "\n",
      "\n",
      "/media/nicolasf/END19101/ICU/data/CDS/operational/hindcasts/NCEP/TPRATE/ensemble_seas_forecasts_tprate_from_2001_03_NCEP.netcdf exists already on disk, skipping download and returning path\n",
      "\n",
      "\n",
      "/media/nicolasf/END19101/ICU/data/CDS/operational/hindcasts/CMCC/TPRATE/ensemble_seas_forecasts_tprate_from_2001_03_CMCC.netcdf exists already on disk, skipping download and returning path\n",
      "\n",
      "[######################                  ] | 55% Completed |  0.2s"
     ]
    },
    {
     "name": "stderr",
     "output_type": "stream",
     "text": [
      "2022-03-14 10:54:15,052 INFO Welcome to the CDS\n",
      "2022-03-14 10:54:15,054 INFO Sending request to https://cds.climate.copernicus.eu/api/v2/resources/seasonal-monthly-single-levels\n",
      "2022-03-14 10:54:15,063 INFO Welcome to the CDS\n"
     ]
    },
    {
     "name": "stdout",
     "output_type": "stream",
     "text": [
      "[######################                  ] | 55% Completed |  0.3s"
     ]
    },
    {
     "name": "stderr",
     "output_type": "stream",
     "text": [
      "2022-03-14 10:54:15,068 INFO Welcome to the CDS\n",
      "2022-03-14 10:54:15,068 INFO Sending request to https://cds.climate.copernicus.eu/api/v2/resources/seasonal-monthly-single-levels\n",
      "2022-03-14 10:54:15,073 INFO Welcome to the CDS\n",
      "2022-03-14 10:54:15,074 INFO Sending request to https://cds.climate.copernicus.eu/api/v2/resources/seasonal-monthly-single-levels\n",
      "2022-03-14 10:54:15,084 INFO Sending request to https://cds.climate.copernicus.eu/api/v2/resources/seasonal-monthly-single-levels\n"
     ]
    },
    {
     "name": "stdout",
     "output_type": "stream",
     "text": [
      "[######################                  ] | 55% Completed |  0.5s"
     ]
    },
    {
     "name": "stderr",
     "output_type": "stream",
     "text": [
      "2022-03-14 10:54:15,362 INFO Request is queued\n"
     ]
    },
    {
     "name": "stdout",
     "output_type": "stream",
     "text": [
      "[######################                  ] | 55% Completed |  0.6s"
     ]
    },
    {
     "name": "stderr",
     "output_type": "stream",
     "text": [
      "2022-03-14 10:54:15,381 INFO Request is queued\n",
      "2022-03-14 10:54:15,387 INFO Request is queued\n",
      "2022-03-14 10:54:15,396 INFO Request is queued\n"
     ]
    },
    {
     "name": "stdout",
     "output_type": "stream",
     "text": [
      "[######################                  ] | 55% Completed |  1.9s"
     ]
    },
    {
     "name": "stderr",
     "output_type": "stream",
     "text": [
      "2022-03-14 10:54:16,683 INFO Request is running\n",
      "2022-03-14 10:54:16,686 INFO Request is failed\n",
      "2022-03-14 10:54:16,690 ERROR Message: an internal error occurred processing your request\n",
      "2022-03-14 10:54:16,693 ERROR Reason:  [Errno 13] Permission denied: '/cache/tmp'\n",
      "2022-03-14 10:54:16,693 ERROR   Traceback (most recent call last):\n",
      "2022-03-14 10:54:16,694 ERROR     File \"/usr/lib64/python3.6/os.py\", line 220, in makedirs\n",
      "2022-03-14 10:54:16,694 ERROR       mkdir(name, mode)\n",
      "2022-03-14 10:54:16,694 ERROR   FileExistsError: [Errno 17] File exists: '/cache/tmp'\n"
     ]
    },
    {
     "name": "stdout",
     "output_type": "stream",
     "text": [
      "\n",
      "failure to download or save /media/nicolasf/END19101/ICU/data/CDS/operational/hindcasts/JMA/TPRATE/ensemble_seas_forecasts_tprate_from_2001_03_JMA.netcdf\n",
      "\n",
      "\n",
      "attempting to download tprate for GCM JMA, for level surface, year 2001, month 3, in netcdf, attempt 2 of 3\n",
      "\n",
      "[######################                  ] | 55% Completed |  2.2s"
     ]
    },
    {
     "name": "stderr",
     "output_type": "stream",
     "text": [
      "2022-03-14 10:54:16,983 INFO Welcome to the CDS\n",
      "2022-03-14 10:54:16,984 INFO Sending request to https://cds.climate.copernicus.eu/api/v2/resources/seasonal-monthly-single-levels\n"
     ]
    },
    {
     "name": "stdout",
     "output_type": "stream",
     "text": [
      "[######################                  ] | 55% Completed |  2.5s"
     ]
    },
    {
     "name": "stderr",
     "output_type": "stream",
     "text": [
      "2022-03-14 10:54:17,284 INFO Request is queued\n"
     ]
    },
    {
     "name": "stdout",
     "output_type": "stream",
     "text": [
      "[######################                  ] | 55% Completed |  6.2s"
     ]
    },
    {
     "name": "stderr",
     "output_type": "stream",
     "text": [
      "2022-03-14 10:54:21,009 INFO Request is running\n",
      "2022-03-14 10:54:21,026 INFO Request is completed\n",
      "2022-03-14 10:54:21,028 INFO Downloading https://download-0003.copernicus-climate.eu/cache-compute-0003/cache/data6/adaptor.mars.external-1647208459.8264296-14018-6-17fca093-49b1-4265-ab56-1ef2707ff73c.nc to /media/nicolasf/END19101/ICU/data/CDS/operational/hindcasts/UKMO/TPRATE/ensemble_seas_forecasts_tprate_from_2001_03_UKMO.netcdf (3.1M)\n"
     ]
    },
    {
     "name": "stdout",
     "output_type": "stream",
     "text": [
      "[######################                  ] | 55% Completed |  7.8s"
     ]
    },
    {
     "name": "stderr",
     "output_type": "stream",
     "text": [
      "  0%|                                                                                                                | 0.00/3.05M [00:00<?, ?B/s]"
     ]
    },
    {
     "name": "stdout",
     "output_type": "stream",
     "text": [
      "[######################                  ] | 55% Completed |  8.1s"
     ]
    },
    {
     "name": "stderr",
     "output_type": "stream",
     "text": [
      "  1%|▌                                                                                                      | 16.0k/3.05M [00:00<00:53, 59.2kB/s]"
     ]
    },
    {
     "name": "stdout",
     "output_type": "stream",
     "text": [
      "[######################                  ] | 55% Completed |  8.4s"
     ]
    },
    {
     "name": "stderr",
     "output_type": "stream",
     "text": [
      "  2%|█▊                                                                                                      | 56.0k/3.05M [00:00<00:28, 110kB/s]"
     ]
    },
    {
     "name": "stdout",
     "output_type": "stream",
     "text": [
      "[######################                  ] | 55% Completed |  8.6s"
     ]
    },
    {
     "name": "stderr",
     "output_type": "stream",
     "text": [
      "  3%|███▏                                                                                                    | 96.0k/3.05M [00:00<00:24, 126kB/s]"
     ]
    },
    {
     "name": "stdout",
     "output_type": "stream",
     "text": [
      "[######################                  ] | 55% Completed |  8.9s"
     ]
    },
    {
     "name": "stderr",
     "output_type": "stream",
     "text": [
      "  7%|██████▉                                                                                                  | 208k/3.05M [00:01<00:12, 238kB/s]"
     ]
    },
    {
     "name": "stdout",
     "output_type": "stream",
     "text": [
      "[######################                  ] | 55% Completed |  9.2s"
     ]
    },
    {
     "name": "stderr",
     "output_type": "stream",
     "text": [
      " 14%|██████████████▊                                                                                          | 440k/3.05M [00:01<00:06, 456kB/s]"
     ]
    },
    {
     "name": "stdout",
     "output_type": "stream",
     "text": [
      "[######################                  ] | 55% Completed |  9.5s"
     ]
    },
    {
     "name": "stderr",
     "output_type": "stream",
     "text": [
      " 29%|██████████████████████████████▎                                                                          | 904k/3.05M [00:01<00:02, 875kB/s]"
     ]
    },
    {
     "name": "stdout",
     "output_type": "stream",
     "text": [
      "[######################                  ] | 55% Completed |  9.7s"
     ]
    },
    {
     "name": "stderr",
     "output_type": "stream",
     "text": [
      " 59%|████████████████████████████████████████████████████████████▍                                          | 1.79M/3.05M [00:01<00:00, 1.69MB/s]"
     ]
    },
    {
     "name": "stdout",
     "output_type": "stream",
     "text": [
      "[######################                  ] | 55% Completed |  9.9s"
     ]
    },
    {
     "name": "stderr",
     "output_type": "stream",
     "text": [
      "2022-03-14 10:54:24,678 INFO Request is completed\n",
      "2022-03-14 10:54:24,680 INFO Downloading https://download-0003.copernicus-climate.eu/cache-compute-0003/cache/data3/adaptor.mars.external-1647208462.9297786-13002-18-0a0c0a65-9861-4b4e-9802-6c828c6d7e10.nc to /media/nicolasf/END19101/ICU/data/CDS/operational/hindcasts/METEO_FRANCE/TPRATE/ensemble_seas_forecasts_tprate_from_2001_03_METEO_FRANCE.netcdf (2.7M)\n",
      "2022-03-14 10:54:24,708 INFO Request is running\n"
     ]
    },
    {
     "name": "stdout",
     "output_type": "stream",
     "text": [
      "[######################                  ] | 55% Completed | 10.0s"
     ]
    },
    {
     "name": "stderr",
     "output_type": "stream",
     "text": [
      " 89%|███████████████████████████████████████████████████████████████████████████████████████████▍           | 2.71M/3.05M [00:02<00:00, 2.18MB/s]"
     ]
    },
    {
     "name": "stdout",
     "output_type": "stream",
     "text": [
      "[######################                  ] | 55% Completed | 10.2s"
     ]
    },
    {
     "name": "stderr",
     "output_type": "stream",
     "text": [
      "2022-03-14 10:54:24,972 INFO Download rate 792.8K/s                                                                                              \n"
     ]
    },
    {
     "name": "stdout",
     "output_type": "stream",
     "text": [
      "[######################                  ] | 55% Completed | 10.5s\n",
      "/media/nicolasf/END19101/ICU/data/CDS/operational/hindcasts/UKMO/TPRATE/ensemble_seas_forecasts_tprate_from_2001_03_UKMO.netcdf downloaded OK\n",
      "\n",
      "[##########################              ] | 66% Completed | 11.1s"
     ]
    },
    {
     "name": "stderr",
     "output_type": "stream",
     "text": [
      "  0%|                                                                                                                | 0.00/2.73M [00:00<?, ?B/s]"
     ]
    },
    {
     "name": "stdout",
     "output_type": "stream",
     "text": [
      "[##########################              ] | 66% Completed | 11.4s"
     ]
    },
    {
     "name": "stderr",
     "output_type": "stream",
     "text": [
      "  1%|▌                                                                                                      | 16.0k/2.73M [00:00<00:48, 58.1kB/s]"
     ]
    },
    {
     "name": "stdout",
     "output_type": "stream",
     "text": [
      "[##########################              ] | 66% Completed | 11.7s"
     ]
    },
    {
     "name": "stderr",
     "output_type": "stream",
     "text": [
      "  2%|██▍                                                                                                     | 66.0k/2.73M [00:00<00:21, 129kB/s]"
     ]
    },
    {
     "name": "stdout",
     "output_type": "stream",
     "text": [
      "[##########################              ] | 66% Completed | 11.8s"
     ]
    },
    {
     "name": "stderr",
     "output_type": "stream",
     "text": [
      "2022-03-14 10:54:26,599 INFO Request is running\n"
     ]
    },
    {
     "name": "stdout",
     "output_type": "stream",
     "text": [
      "[##########################              ] | 66% Completed | 11.9s"
     ]
    },
    {
     "name": "stderr",
     "output_type": "stream",
     "text": [
      "  4%|███▋                                                                                                    | 98.0k/2.73M [00:00<00:22, 122kB/s]"
     ]
    },
    {
     "name": "stdout",
     "output_type": "stream",
     "text": [
      "[##########################              ] | 66% Completed | 12.2s"
     ]
    },
    {
     "name": "stderr",
     "output_type": "stream",
     "text": [
      "  8%|████████▏                                                                                                | 219k/2.73M [00:01<00:10, 244kB/s]"
     ]
    },
    {
     "name": "stdout",
     "output_type": "stream",
     "text": [
      "[##########################              ] | 66% Completed | 12.5s"
     ]
    },
    {
     "name": "stderr",
     "output_type": "stream",
     "text": [
      " 17%|█████████████████▌                                                                                       | 467k/2.73M [00:01<00:05, 475kB/s]"
     ]
    },
    {
     "name": "stdout",
     "output_type": "stream",
     "text": [
      "[##########################              ] | 66% Completed | 12.9s"
     ]
    },
    {
     "name": "stderr",
     "output_type": "stream",
     "text": [
      " 34%|███████████████████████████████████▉                                                                     | 955k/2.73M [00:01<00:02, 905kB/s]"
     ]
    },
    {
     "name": "stdout",
     "output_type": "stream",
     "text": [
      "[##########################              ] | 66% Completed | 13.5s"
     ]
    },
    {
     "name": "stderr",
     "output_type": "stream",
     "text": [
      " 67%|████████████████████████████████████████████████████████████████████▉                                  | 1.82M/2.73M [00:02<00:00, 1.26MB/s]"
     ]
    },
    {
     "name": "stdout",
     "output_type": "stream",
     "text": [
      "[##########################              ] | 66% Completed | 13.6s"
     ]
    },
    {
     "name": "stderr",
     "output_type": "stream",
     "text": [
      "2022-03-14 10:54:28,348 INFO Download rate 761.2K/s                                                                                              \n"
     ]
    },
    {
     "name": "stdout",
     "output_type": "stream",
     "text": [
      "[##########################              ] | 66% Completed | 13.9s\n",
      "/media/nicolasf/END19101/ICU/data/CDS/operational/hindcasts/METEO_FRANCE/TPRATE/ensemble_seas_forecasts_tprate_from_2001_03_METEO_FRANCE.netcdf downloaded OK\n",
      "\n",
      "[###############################         ] | 77% Completed | 15.3s"
     ]
    },
    {
     "name": "stderr",
     "output_type": "stream",
     "text": [
      "2022-03-14 10:54:30,079 INFO Request is completed\n",
      "2022-03-14 10:54:30,081 INFO Downloading https://download-0006.copernicus-climate.eu/cache-compute-0006/cache/data5/adaptor.mars.external-1647208464.8405817-14072-19-33c00623-c509-4dba-8bd7-9e0c0460519b.nc to /media/nicolasf/END19101/ICU/data/CDS/operational/hindcasts/ECCC_GEM_NEMO/TPRATE/ensemble_seas_forecasts_tprate_from_2001_03_ECCC.netcdf (1.1M)\n"
     ]
    },
    {
     "name": "stdout",
     "output_type": "stream",
     "text": [
      "[###############################         ] | 77% Completed | 16.8s"
     ]
    },
    {
     "name": "stderr",
     "output_type": "stream",
     "text": [
      "  0%|                                                                                                                | 0.00/1.09M [00:00<?, ?B/s]"
     ]
    },
    {
     "name": "stdout",
     "output_type": "stream",
     "text": [
      "[###############################         ] | 77% Completed | 17.1s"
     ]
    },
    {
     "name": "stderr",
     "output_type": "stream",
     "text": [
      "  1%|█▍                                                                                                     | 16.0k/1.09M [00:00<00:19, 57.6kB/s]2022-03-14 10:54:31,958 INFO Request is completed\n",
      "2022-03-14 10:54:31,959 INFO Downloading https://download-0003.copernicus-climate.eu/cache-compute-0003/cache/data2/adaptor.mars.external-1647208466.850645-13809-11-f375bea0-2637-486a-85d4-8743f29ae2cd.nc to /media/nicolasf/END19101/ICU/data/CDS/operational/hindcasts/JMA/TPRATE/ensemble_seas_forecasts_tprate_from_2001_03_JMA.netcdf (719.2K)\n"
     ]
    },
    {
     "name": "stdout",
     "output_type": "stream",
     "text": [
      "[###############################         ] | 77% Completed | 17.4s"
     ]
    },
    {
     "name": "stderr",
     "output_type": "stream",
     "text": [
      "  5%|█████▍                                                                                                  | 58.0k/1.09M [00:00<00:09, 111kB/s]\n",
      "  0%|                                                                                                                 | 0.00/719k [00:00<?, ?B/s]\u001b[A"
     ]
    },
    {
     "name": "stdout",
     "output_type": "stream",
     "text": [
      "[###############################         ] | 77% Completed | 17.7s"
     ]
    },
    {
     "name": "stderr",
     "output_type": "stream",
     "text": [
      " 10%|██████████▌                                                                                              | 112k/1.09M [00:00<00:06, 148kB/s]\n",
      "  1%|█▏                                                                                                      | 8.00k/719k [00:00<00:25, 28.8kB/s]\u001b[A"
     ]
    },
    {
     "name": "stdout",
     "output_type": "stream",
     "text": [
      "[###############################         ] | 77% Completed | 18.0s"
     ]
    },
    {
     "name": "stderr",
     "output_type": "stream",
     "text": [
      " 23%|███████████████████████▊                                                                                 | 254k/1.09M [00:01<00:03, 288kB/s]\n",
      "  5%|████▉                                                                                                   | 34.0k/719k [00:00<00:10, 66.4kB/s]\u001b[A"
     ]
    },
    {
     "name": "stdout",
     "output_type": "stream",
     "text": [
      "[###############################         ] | 77% Completed | 18.4s"
     ]
    },
    {
     "name": "stderr",
     "output_type": "stream",
     "text": [
      " 48%|█████████████████████████████████████████████████▉                                                       | 531k/1.09M [00:01<00:01, 537kB/s]\n",
      " 13%|██████████████                                                                                           | 96.0k/719k [00:00<00:04, 136kB/s]\u001b[A"
     ]
    },
    {
     "name": "stdout",
     "output_type": "stream",
     "text": [
      "[###############################         ] | 77% Completed | 18.6s"
     ]
    },
    {
     "name": "stderr",
     "output_type": "stream",
     "text": [
      " 97%|████████████████████████████████████████████████████████████████████████████████████████████████████▏  | 1.06M/1.09M [00:01<00:00, 1.02MB/s]\n",
      " 28%|█████████████████████████████▍                                                                            | 200k/719k [00:01<00:02, 229kB/s]\u001b[A"
     ]
    },
    {
     "name": "stdout",
     "output_type": "stream",
     "text": [
      "[###############################         ] | 77% Completed | 18.8s"
     ]
    },
    {
     "name": "stderr",
     "output_type": "stream",
     "text": [
      "2022-03-14 10:54:33,517 INFO Download rate 325.3K/s                                                                                              \n"
     ]
    },
    {
     "name": "stdout",
     "output_type": "stream",
     "text": [
      "[###############################         ] | 77% Completed | 18.9s"
     ]
    },
    {
     "name": "stderr",
     "output_type": "stream",
     "text": [
      "\n",
      " 59%|██████████████████████████████████████████████████████████████▎                                           | 423k/719k [00:01<00:00, 432kB/s]\u001b[A"
     ]
    },
    {
     "name": "stdout",
     "output_type": "stream",
     "text": [
      "[###############################         ] | 77% Completed | 19.0s\n",
      "/media/nicolasf/END19101/ICU/data/CDS/operational/hindcasts/ECCC_GEM_NEMO/TPRATE/ensemble_seas_forecasts_tprate_from_2001_03_ECCC.netcdf downloaded OK\n",
      "\n",
      "[###################################     ] | 88% Completed | 19.1s"
     ]
    },
    {
     "name": "stderr",
     "output_type": "stream",
     "text": [
      "\n",
      "                                                                                                                                                 \u001b[A2022-03-14 10:54:33,823 INFO Download rate 385.9K/s\n"
     ]
    },
    {
     "name": "stdout",
     "output_type": "stream",
     "text": [
      "[###################################     ] | 88% Completed | 19.4s\n",
      "/media/nicolasf/END19101/ICU/data/CDS/operational/hindcasts/JMA/TPRATE/ensemble_seas_forecasts_tprate_from_2001_03_JMA.netcdf downloaded OK\n",
      "\n",
      "[########################################] | 100% Completed | 19.5s\n",
      "processing ECCC, path should be /media/nicolasf/END19101/ICU/data/CDS/operational/hindcasts/ECCC_CanCM4i/TPRATE\n",
      "processing ECCC, path should be /media/nicolasf/END19101/ICU/data/CDS/operational/hindcasts/ECCC_GEM_NEMO/TPRATE\n",
      "[                                        ] | 0% Completed |  0.0s\n",
      "/media/nicolasf/END19101/ICU/data/CDS/operational/hindcasts/DWD/TPRATE/ensemble_seas_forecasts_tprate_from_2002_03_DWD.netcdf exists already on disk, skipping download and returning path\n",
      "\n",
      "\n",
      "/media/nicolasf/END19101/ICU/data/CDS/operational/hindcasts/ECCC_CanCM4i/TPRATE/ensemble_seas_forecasts_tprate_from_2002_03_ECCC.netcdf exists already on disk, skipping download and returning path\n",
      "\n",
      "\n",
      "/media/nicolasf/END19101/ICU/data/CDS/operational/hindcasts/NCEP/TPRATE/ensemble_seas_forecasts_tprate_from_2002_03_NCEP.netcdf exists already on disk, skipping download and returning path\n",
      "\n",
      "\n",
      "attempting to download tprate for GCM ECCC, for level surface, year 2002, month 3, in netcdf, attempt 1 of 3\n",
      "\n",
      "\n",
      "attempting to download tprate for GCM UKMO, for level surface, year 2002, month 3, in netcdf, attempt 1 of 3\n",
      "\n",
      "\n",
      "attempting to download tprate for GCM METEO_FRANCE, for level surface, year 2002, month 3, in netcdf, attempt 1 of 3\n",
      "\n",
      "\n",
      "/media/nicolasf/END19101/ICU/data/CDS/operational/hindcasts/CMCC/TPRATE/ensemble_seas_forecasts_tprate_from_2002_03_CMCC.netcdf exists already on disk, skipping download and returning path\n",
      "\n",
      "\n",
      "/media/nicolasf/END19101/ICU/data/CDS/operational/hindcasts/ECMWF/TPRATE/ensemble_seas_forecasts_tprate_from_2002_03_ECMWF.netcdf exists already on disk, skipping download and returning path\n",
      "\n",
      "attempting to download tprate for GCM JMA, for level surface, year 2002, month 3, in netcdf, attempt 1 of 3\n",
      "\n",
      "\n",
      "[######################                  ] | 55% Completed |  0.2s"
     ]
    },
    {
     "name": "stderr",
     "output_type": "stream",
     "text": [
      "2022-03-14 10:54:34,548 INFO Welcome to the CDS\n"
     ]
    },
    {
     "name": "stdout",
     "output_type": "stream",
     "text": [
      "[######################                  ] | 55% Completed |  0.3s"
     ]
    },
    {
     "name": "stderr",
     "output_type": "stream",
     "text": [
      "2022-03-14 10:54:34,550 INFO Sending request to https://cds.climate.copernicus.eu/api/v2/resources/seasonal-monthly-single-levels\n",
      "2022-03-14 10:54:34,560 INFO Welcome to the CDS\n",
      "2022-03-14 10:54:34,562 INFO Sending request to https://cds.climate.copernicus.eu/api/v2/resources/seasonal-monthly-single-levels\n",
      "2022-03-14 10:54:34,563 INFO Welcome to the CDS\n",
      "2022-03-14 10:54:34,571 INFO Welcome to the CDS\n",
      "2022-03-14 10:54:34,573 INFO Sending request to https://cds.climate.copernicus.eu/api/v2/resources/seasonal-monthly-single-levels\n",
      "2022-03-14 10:54:34,575 INFO Sending request to https://cds.climate.copernicus.eu/api/v2/resources/seasonal-monthly-single-levels\n"
     ]
    },
    {
     "name": "stdout",
     "output_type": "stream",
     "text": [
      "[######################                  ] | 55% Completed |  0.5s"
     ]
    },
    {
     "name": "stderr",
     "output_type": "stream",
     "text": [
      "2022-03-14 10:54:34,855 INFO Request is queued\n",
      "2022-03-14 10:54:34,862 INFO Request is queued\n"
     ]
    },
    {
     "name": "stdout",
     "output_type": "stream",
     "text": [
      "[######################                  ] | 55% Completed |  0.6s"
     ]
    },
    {
     "name": "stderr",
     "output_type": "stream",
     "text": [
      "2022-03-14 10:54:34,881 INFO Request is queued\n",
      "2022-03-14 10:54:34,883 INFO Request is queued\n"
     ]
    },
    {
     "name": "stdout",
     "output_type": "stream",
     "text": [
      "[######################                  ] | 55% Completed |  1.8s"
     ]
    },
    {
     "name": "stderr",
     "output_type": "stream",
     "text": [
      "2022-03-14 10:54:36,151 INFO Request is running\n"
     ]
    },
    {
     "name": "stdout",
     "output_type": "stream",
     "text": [
      "[######################                  ] | 55% Completed |  3.7s"
     ]
    },
    {
     "name": "stderr",
     "output_type": "stream",
     "text": [
      "2022-03-14 10:54:37,952 INFO Request is completed\n",
      "2022-03-14 10:54:37,954 INFO Downloading https://download-0006.copernicus-climate.eu/cache-compute-0006/cache/data1/adaptor.mars.external-1647208476.1772919-14072-20-7623ce28-5ab9-4a0c-8018-ccff0dccaa5e.nc to /media/nicolasf/END19101/ICU/data/CDS/operational/hindcasts/ECCC_GEM_NEMO/TPRATE/ensemble_seas_forecasts_tprate_from_2002_03_ECCC.netcdf (1.1M)\n"
     ]
    },
    {
     "name": "stdout",
     "output_type": "stream",
     "text": [
      "[######################                  ] | 55% Completed |  3.8s"
     ]
    },
    {
     "name": "stderr",
     "output_type": "stream",
     "text": [
      "2022-03-14 10:54:38,025 INFO Request is running\n"
     ]
    },
    {
     "name": "stdout",
     "output_type": "stream",
     "text": [
      "[######################                  ] | 55% Completed |  4.0s"
     ]
    },
    {
     "name": "stderr",
     "output_type": "stream",
     "text": [
      "  0%|                                                                                                                | 0.00/1.09M [00:00<?, ?B/s]"
     ]
    },
    {
     "name": "stdout",
     "output_type": "stream",
     "text": [
      "[######################                  ] | 55% Completed |  4.3s"
     ]
    },
    {
     "name": "stderr",
     "output_type": "stream",
     "text": [
      "  1%|▋                                                                                                      | 8.00k/1.09M [00:00<00:39, 28.7kB/s]"
     ]
    },
    {
     "name": "stdout",
     "output_type": "stream",
     "text": [
      "[######################                  ] | 55% Completed |  4.5s"
     ]
    },
    {
     "name": "stderr",
     "output_type": "stream",
     "text": [
      "  3%|███▏                                                                                                   | 34.0k/1.09M [00:00<00:16, 66.1kB/s]"
     ]
    },
    {
     "name": "stdout",
     "output_type": "stream",
     "text": [
      "[######################                  ] | 55% Completed |  4.8s"
     ]
    },
    {
     "name": "stderr",
     "output_type": "stream",
     "text": [
      "  8%|████████▍                                                                                               | 90.0k/1.09M [00:00<00:08, 126kB/s]"
     ]
    },
    {
     "name": "stdout",
     "output_type": "stream",
     "text": [
      "[######################                  ] | 55% Completed |  5.1s"
     ]
    },
    {
     "name": "stderr",
     "output_type": "stream",
     "text": [
      " 18%|██████████████████▉                                                                                      | 201k/1.09M [00:01<00:04, 231kB/s]"
     ]
    },
    {
     "name": "stdout",
     "output_type": "stream",
     "text": [
      "[######################                  ] | 55% Completed |  5.4s"
     ]
    },
    {
     "name": "stderr",
     "output_type": "stream",
     "text": [
      " 38%|███████████████████████████████████████▋                                                                 | 422k/1.09M [00:01<00:01, 430kB/s]"
     ]
    },
    {
     "name": "stdout",
     "output_type": "stream",
     "text": [
      "[######################                  ] | 55% Completed |  5.7s"
     ]
    },
    {
     "name": "stderr",
     "output_type": "stream",
     "text": [
      " 77%|████████████████████████████████████████████████████████████████████████████████▉                        | 862k/1.09M [00:01<00:00, 813kB/s]"
     ]
    },
    {
     "name": "stdout",
     "output_type": "stream",
     "text": [
      "[######################                  ] | 55% Completed |  5.8s"
     ]
    },
    {
     "name": "stderr",
     "output_type": "stream",
     "text": [
      "2022-03-14 10:54:40,106 INFO Download rate 519.7K/s                                                                                              \n"
     ]
    },
    {
     "name": "stdout",
     "output_type": "stream",
     "text": [
      "[######################                  ] | 55% Completed |  6.1s\n",
      "/media/nicolasf/END19101/ICU/data/CDS/operational/hindcasts/ECCC_GEM_NEMO/TPRATE/ensemble_seas_forecasts_tprate_from_2002_03_ECCC.netcdf downloaded OK\n",
      "\n",
      "[##########################              ] | 66% Completed |  6.2s"
     ]
    },
    {
     "name": "stderr",
     "output_type": "stream",
     "text": [
      "2022-03-14 10:54:40,507 INFO Request is running\n"
     ]
    },
    {
     "name": "stdout",
     "output_type": "stream",
     "text": [
      "[##########################              ] | 66% Completed |  6.3s"
     ]
    },
    {
     "name": "stderr",
     "output_type": "stream",
     "text": [
      "2022-03-14 10:54:40,572 INFO Request is completed\n",
      "2022-03-14 10:54:40,572 INFO Downloading https://download-0006.copernicus-climate.eu/cache-compute-0006/cache/data9/adaptor.mars.external-1647208477.8584018-14566-14-e223751e-e02f-4e81-99b6-cb4d8ffad9e3.nc to /media/nicolasf/END19101/ICU/data/CDS/operational/hindcasts/JMA/TPRATE/ensemble_seas_forecasts_tprate_from_2002_03_JMA.netcdf (719.2K)\n"
     ]
    },
    {
     "name": "stdout",
     "output_type": "stream",
     "text": [
      "[##########################              ] | 66% Completed |  6.5s"
     ]
    },
    {
     "name": "stderr",
     "output_type": "stream",
     "text": [
      "  0%|                                                                                                                 | 0.00/719k [00:00<?, ?B/s]"
     ]
    },
    {
     "name": "stdout",
     "output_type": "stream",
     "text": [
      "[##########################              ] | 66% Completed |  6.8s"
     ]
    },
    {
     "name": "stderr",
     "output_type": "stream",
     "text": [
      " 74%|█████████████████████████████████████████████████████████████████████████████▍                           | 530k/719k [00:00<00:00, 1.91MB/s]"
     ]
    },
    {
     "name": "stdout",
     "output_type": "stream",
     "text": [
      "[##########################              ] | 66% Completed |  6.9s"
     ]
    },
    {
     "name": "stderr",
     "output_type": "stream",
     "text": [
      "2022-03-14 10:54:41,269 INFO Download rate 1M/s                                                                                                  \n"
     ]
    },
    {
     "name": "stdout",
     "output_type": "stream",
     "text": [
      "[##########################              ] | 66% Completed |  7.2s\n",
      "/media/nicolasf/END19101/ICU/data/CDS/operational/hindcasts/JMA/TPRATE/ensemble_seas_forecasts_tprate_from_2002_03_JMA.netcdf downloaded OK\n",
      "\n",
      "[###############################         ] | 77% Completed |  9.9s"
     ]
    },
    {
     "name": "stderr",
     "output_type": "stream",
     "text": [
      "2022-03-14 10:54:44,181 INFO Request is completed\n",
      "2022-03-14 10:54:44,183 INFO Downloading https://download-0001.copernicus-climate.eu/cache-compute-0001/cache/data0/adaptor.mars.external-1647208481.2133894-25724-1-f88be491-fbf3-4b9f-a210-35d193e45217.nc to /media/nicolasf/END19101/ICU/data/CDS/operational/hindcasts/METEO_FRANCE/TPRATE/ensemble_seas_forecasts_tprate_from_2002_03_METEO_FRANCE.netcdf (2.7M)\n"
     ]
    },
    {
     "name": "stdout",
     "output_type": "stream",
     "text": [
      "[###############################         ] | 77% Completed | 10.0s"
     ]
    },
    {
     "name": "stderr",
     "output_type": "stream",
     "text": [
      "2022-03-14 10:54:44,246 INFO Request is running\n"
     ]
    },
    {
     "name": "stdout",
     "output_type": "stream",
     "text": [
      "[###############################         ] | 77% Completed | 11.4s"
     ]
    },
    {
     "name": "stderr",
     "output_type": "stream",
     "text": [
      "  0%|                                                                                                                | 0.00/2.73M [00:00<?, ?B/s]"
     ]
    },
    {
     "name": "stdout",
     "output_type": "stream",
     "text": [
      "[###############################         ] | 77% Completed | 11.7s"
     ]
    },
    {
     "name": "stderr",
     "output_type": "stream",
     "text": [
      "  1%|▌                                                                                                      | 16.0k/2.73M [00:00<00:48, 58.1kB/s]"
     ]
    },
    {
     "name": "stdout",
     "output_type": "stream",
     "text": [
      "[###############################         ] | 77% Completed | 12.0s"
     ]
    },
    {
     "name": "stderr",
     "output_type": "stream",
     "text": [
      "  2%|█▉                                                                                                     | 51.0k/2.73M [00:00<00:28, 98.4kB/s]"
     ]
    },
    {
     "name": "stdout",
     "output_type": "stream",
     "text": [
      "[###############################         ] | 77% Completed | 12.3s"
     ]
    },
    {
     "name": "stderr",
     "output_type": "stream",
     "text": [
      "  4%|████▎                                                                                                    | 115k/2.73M [00:00<00:17, 159kB/s]"
     ]
    },
    {
     "name": "stdout",
     "output_type": "stream",
     "text": [
      "[###############################         ] | 77% Completed | 12.6s"
     ]
    },
    {
     "name": "stderr",
     "output_type": "stream",
     "text": [
      "  9%|█████████▌                                                                                               | 254k/2.73M [00:01<00:08, 294kB/s]"
     ]
    },
    {
     "name": "stdout",
     "output_type": "stream",
     "text": [
      "[###############################         ] | 77% Completed | 12.8s"
     ]
    },
    {
     "name": "stderr",
     "output_type": "stream",
     "text": [
      " 19%|███████████████████▉                                                                                     | 531k/2.73M [00:01<00:04, 549kB/s]"
     ]
    },
    {
     "name": "stdout",
     "output_type": "stream",
     "text": [
      "[###############################         ] | 77% Completed | 13.1s"
     ]
    },
    {
     "name": "stderr",
     "output_type": "stream",
     "text": [
      " 39%|████████████████████████████████████████                                                               | 1.06M/2.73M [00:01<00:01, 1.04MB/s]"
     ]
    },
    {
     "name": "stdout",
     "output_type": "stream",
     "text": [
      "[###############################         ] | 77% Completed | 13.4s"
     ]
    },
    {
     "name": "stderr",
     "output_type": "stream",
     "text": [
      " 54%|███████████████████████████████████████████████████████▎                                               | 1.46M/2.73M [00:02<00:01, 1.15MB/s]"
     ]
    },
    {
     "name": "stdout",
     "output_type": "stream",
     "text": [
      "[###############################         ] | 77% Completed | 13.7s"
     ]
    },
    {
     "name": "stderr",
     "output_type": "stream",
     "text": [
      " 91%|██████████████████████████████████████████████████████████████████████████████████████████████         | 2.49M/2.73M [00:02<00:00, 1.98MB/s]"
     ]
    },
    {
     "name": "stdout",
     "output_type": "stream",
     "text": [
      "[###############################         ] | 77% Completed | 13.8s"
     ]
    },
    {
     "name": "stderr",
     "output_type": "stream",
     "text": [
      "2022-03-14 10:54:48,148 INFO Download rate 704.1K/s                                                                                              \n"
     ]
    },
    {
     "name": "stdout",
     "output_type": "stream",
     "text": [
      "[###############################         ] | 77% Completed | 14.1s\n",
      "/media/nicolasf/END19101/ICU/data/CDS/operational/hindcasts/METEO_FRANCE/TPRATE/ensemble_seas_forecasts_tprate_from_2002_03_METEO_FRANCE.netcdf downloaded OK\n",
      "\n",
      "[###################################     ] | 88% Completed | 15.4s"
     ]
    },
    {
     "name": "stderr",
     "output_type": "stream",
     "text": [
      "2022-03-14 10:54:49,609 INFO Request is completed\n",
      "2022-03-14 10:54:49,612 INFO Downloading https://download-0008.copernicus-climate.eu/cache-compute-0008/cache/data3/adaptor.mars.external-1647208484.3007262-31612-7-23540d9c-0b53-429a-8e77-3607e852e305.nc to /media/nicolasf/END19101/ICU/data/CDS/operational/hindcasts/UKMO/TPRATE/ensemble_seas_forecasts_tprate_from_2002_03_UKMO.netcdf (3.1M)\n"
     ]
    },
    {
     "name": "stdout",
     "output_type": "stream",
     "text": [
      "[###################################     ] | 88% Completed | 16.9s"
     ]
    },
    {
     "name": "stderr",
     "output_type": "stream",
     "text": [
      "  0%|                                                                                                                | 0.00/3.05M [00:00<?, ?B/s]"
     ]
    },
    {
     "name": "stdout",
     "output_type": "stream",
     "text": [
      "[###################################     ] | 88% Completed | 17.1s"
     ]
    },
    {
     "name": "stderr",
     "output_type": "stream",
     "text": [
      "  1%|▌                                                                                                      | 16.0k/3.05M [00:00<00:54, 58.0kB/s]"
     ]
    },
    {
     "name": "stdout",
     "output_type": "stream",
     "text": [
      "[###################################     ] | 88% Completed | 17.4s"
     ]
    },
    {
     "name": "stderr",
     "output_type": "stream",
     "text": [
      "  2%|██▏                                                                                                     | 66.0k/3.05M [00:00<00:24, 130kB/s]"
     ]
    },
    {
     "name": "stdout",
     "output_type": "stream",
     "text": [
      "[###################################     ] | 88% Completed | 17.7s"
     ]
    },
    {
     "name": "stderr",
     "output_type": "stream",
     "text": [
      "  4%|████▎                                                                                                    | 130k/3.05M [00:00<00:17, 176kB/s]"
     ]
    },
    {
     "name": "stdout",
     "output_type": "stream",
     "text": [
      "[###################################     ] | 88% Completed | 18.0s"
     ]
    },
    {
     "name": "stderr",
     "output_type": "stream",
     "text": [
      "  9%|█████████▌                                                                                               | 286k/3.05M [00:01<00:08, 329kB/s]"
     ]
    },
    {
     "name": "stdout",
     "output_type": "stream",
     "text": [
      "[###################################     ] | 88% Completed | 18.3s"
     ]
    },
    {
     "name": "stderr",
     "output_type": "stream",
     "text": [
      " 19%|███████████████████▉                                                                                     | 595k/3.05M [00:01<00:04, 612kB/s]"
     ]
    },
    {
     "name": "stdout",
     "output_type": "stream",
     "text": [
      "[###################################     ] | 88% Completed | 18.5s"
     ]
    },
    {
     "name": "stderr",
     "output_type": "stream",
     "text": [
      " 39%|███████████████████████████████████████▊                                                               | 1.18M/3.05M [00:01<00:01, 1.15MB/s]"
     ]
    },
    {
     "name": "stdout",
     "output_type": "stream",
     "text": [
      "[###################################     ] | 88% Completed | 18.8s"
     ]
    },
    {
     "name": "stderr",
     "output_type": "stream",
     "text": [
      " 69%|██████████████████████████████████████████████████████████████████████▌                                | 2.09M/3.05M [00:02<00:00, 1.83MB/s]"
     ]
    },
    {
     "name": "stdout",
     "output_type": "stream",
     "text": [
      "[###################################     ] | 88% Completed | 19.1s"
     ]
    },
    {
     "name": "stderr",
     "output_type": "stream",
     "text": [
      " 78%|████████████████████████████████████████████████████████████████████████████████                       | 2.37M/3.05M [00:02<00:00, 1.62MB/s]"
     ]
    },
    {
     "name": "stdout",
     "output_type": "stream",
     "text": [
      "[###################################     ] | 88% Completed | 19.2s"
     ]
    },
    {
     "name": "stderr",
     "output_type": "stream",
     "text": [
      "2022-03-14 10:54:53,564 INFO Download rate 791K/s                                                                                                \n"
     ]
    },
    {
     "name": "stdout",
     "output_type": "stream",
     "text": [
      "[###################################     ] | 88% Completed | 19.5s\n",
      "/media/nicolasf/END19101/ICU/data/CDS/operational/hindcasts/UKMO/TPRATE/ensemble_seas_forecasts_tprate_from_2002_03_UKMO.netcdf downloaded OK\n",
      "\n",
      "[########################################] | 100% Completed | 19.6s\n",
      "processing ECCC, path should be /media/nicolasf/END19101/ICU/data/CDS/operational/hindcasts/ECCC_CanCM4i/TPRATE\n",
      "processing ECCC, path should be /media/nicolasf/END19101/ICU/data/CDS/operational/hindcasts/ECCC_GEM_NEMO/TPRATE\n",
      "[                                        ] | 0% Completed |  0.0s\n",
      "/media/nicolasf/END19101/ICU/data/CDS/operational/hindcasts/ECCC_CanCM4i/TPRATE/ensemble_seas_forecasts_tprate_from_2003_03_ECCC.netcdf exists already on disk, skipping download and returning path\n",
      "\n",
      "/media/nicolasf/END19101/ICU/data/CDS/operational/hindcasts/DWD/TPRATE/ensemble_seas_forecasts_tprate_from_2003_03_DWD.netcdf exists already on disk, skipping download and returning path\n",
      "\n",
      "\n",
      "/media/nicolasf/END19101/ICU/data/CDS/operational/hindcasts/ECMWF/TPRATE/ensemble_seas_forecasts_tprate_from_2003_03_ECMWF.netcdf exists already on disk, skipping download and returning path\n",
      "\n",
      "\n",
      "\n",
      "attempting to download tprate for GCM UKMO, for level surface, year 2003, month 3, in netcdf, attempt 1 of 3\n",
      "\n",
      "attempting to download tprate for GCM JMA, for level surface, year 2003, month 3, in netcdf, attempt 1 of 3\n",
      "\n",
      "\n",
      "\n",
      "/media/nicolasf/END19101/ICU/data/CDS/operational/hindcasts/CMCC/TPRATE/ensemble_seas_forecasts_tprate_from_2003_03_CMCC.netcdf exists already on disk, skipping download and returning path\n",
      "\n",
      "attempting to download tprate for GCM METEO_FRANCE, for level surface, year 2003, month 3, in netcdf, attempt 1 of 3\n",
      "\n",
      "\n",
      "attempting to download tprate for GCM ECCC, for level surface, year 2003, month 3, in netcdf, attempt 1 of 3\n",
      "\n",
      "\n",
      "/media/nicolasf/END19101/ICU/data/CDS/operational/hindcasts/NCEP/TPRATE/ensemble_seas_forecasts_tprate_from_2003_03_NCEP.netcdf exists already on disk, skipping download and returning path\n",
      "\n",
      "\n",
      "[######################                  ] | 55% Completed |  0.3s"
     ]
    },
    {
     "name": "stderr",
     "output_type": "stream",
     "text": [
      "2022-03-14 10:54:54,206 INFO Welcome to the CDS\n",
      "2022-03-14 10:54:54,206 INFO Sending request to https://cds.climate.copernicus.eu/api/v2/resources/seasonal-monthly-single-levels\n",
      "2022-03-14 10:54:54,209 INFO Welcome to the CDS\n",
      "2022-03-14 10:54:54,209 INFO Welcome to the CDS\n",
      "2022-03-14 10:54:54,210 INFO Sending request to https://cds.climate.copernicus.eu/api/v2/resources/seasonal-monthly-single-levels\n",
      "2022-03-14 10:54:54,210 INFO Sending request to https://cds.climate.copernicus.eu/api/v2/resources/seasonal-monthly-single-levels\n",
      "2022-03-14 10:54:54,217 INFO Welcome to the CDS\n",
      "2022-03-14 10:54:54,218 INFO Sending request to https://cds.climate.copernicus.eu/api/v2/resources/seasonal-monthly-single-levels\n"
     ]
    },
    {
     "name": "stdout",
     "output_type": "stream",
     "text": [
      "[######################                  ] | 55% Completed |  0.5s"
     ]
    },
    {
     "name": "stderr",
     "output_type": "stream",
     "text": [
      "2022-03-14 10:54:54,500 INFO Request is queued\n"
     ]
    },
    {
     "name": "stdout",
     "output_type": "stream",
     "text": [
      "[######################                  ] | 55% Completed |  0.6s"
     ]
    },
    {
     "name": "stderr",
     "output_type": "stream",
     "text": [
      "2022-03-14 10:54:54,504 INFO Request is queued\n",
      "2022-03-14 10:54:54,505 INFO Request is queued\n",
      "2022-03-14 10:54:54,516 INFO Request is queued\n"
     ]
    },
    {
     "name": "stdout",
     "output_type": "stream",
     "text": [
      "[######################                  ] | 55% Completed |  1.8s"
     ]
    },
    {
     "name": "stderr",
     "output_type": "stream",
     "text": [
      "2022-03-14 10:54:55,800 INFO Request is running\n"
     ]
    },
    {
     "name": "stdout",
     "output_type": "stream",
     "text": [
      "[######################                  ] | 55% Completed |  3.6s"
     ]
    },
    {
     "name": "stderr",
     "output_type": "stream",
     "text": [
      "2022-03-14 10:54:57,595 INFO Request is completed\n",
      "2022-03-14 10:54:57,598 INFO Request is running\n",
      "2022-03-14 10:54:57,599 INFO Downloading https://download-0013.copernicus-climate.eu/cache-compute-0013/cache/data4/adaptor.mars.external-1647208495.9197924-30283-1-fdf94f15-2083-49b3-ad12-c9ae46f582c5.nc to /media/nicolasf/END19101/ICU/data/CDS/operational/hindcasts/JMA/TPRATE/ensemble_seas_forecasts_tprate_from_2003_03_JMA.netcdf (719.2K)\n"
     ]
    },
    {
     "name": "stdout",
     "output_type": "stream",
     "text": [
      "[######################                  ] | 55% Completed |  3.9s"
     ]
    },
    {
     "name": "stderr",
     "output_type": "stream",
     "text": [
      "  0%|                                                                                                                 | 0.00/719k [00:00<?, ?B/s]"
     ]
    },
    {
     "name": "stdout",
     "output_type": "stream",
     "text": [
      "[######################                  ] | 55% Completed |  4.3s"
     ]
    },
    {
     "name": "stderr",
     "output_type": "stream",
     "text": [
      "  1%|█▏                                                                                                      | 8.00k/719k [00:00<00:25, 29.1kB/s]"
     ]
    },
    {
     "name": "stdout",
     "output_type": "stream",
     "text": [
      "[######################                  ] | 55% Completed |  4.6s"
     ]
    },
    {
     "name": "stderr",
     "output_type": "stream",
     "text": [
      "  6%|█████▊                                                                                                  | 40.0k/719k [00:00<00:08, 80.3kB/s]"
     ]
    },
    {
     "name": "stdout",
     "output_type": "stream",
     "text": [
      "[######################                  ] | 55% Completed |  4.8s"
     ]
    },
    {
     "name": "stderr",
     "output_type": "stream",
     "text": [
      " 13%|█████████████▌                                                                                           | 93.0k/719k [00:00<00:04, 130kB/s]"
     ]
    },
    {
     "name": "stdout",
     "output_type": "stream",
     "text": [
      "[######################                  ] | 55% Completed |  5.1s"
     ]
    },
    {
     "name": "stderr",
     "output_type": "stream",
     "text": [
      " 28%|█████████████████████████████▍                                                                            | 200k/719k [00:01<00:02, 228kB/s]"
     ]
    },
    {
     "name": "stdout",
     "output_type": "stream",
     "text": [
      "[######################                  ] | 55% Completed |  5.4s"
     ]
    },
    {
     "name": "stderr",
     "output_type": "stream",
     "text": [
      " 43%|█████████████████████████████████████████████▋                                                            | 310k/719k [00:01<00:01, 276kB/s]"
     ]
    },
    {
     "name": "stdout",
     "output_type": "stream",
     "text": [
      "[######################                  ] | 55% Completed |  5.7s"
     ]
    },
    {
     "name": "stderr",
     "output_type": "stream",
     "text": [
      " 58%|█████████████████████████████████████████████████████████████                                             | 414k/719k [00:01<00:01, 311kB/s]"
     ]
    },
    {
     "name": "stdout",
     "output_type": "stream",
     "text": [
      "[######################                  ] | 55% Completed |  5.8s"
     ]
    },
    {
     "name": "stderr",
     "output_type": "stream",
     "text": [
      "2022-03-14 10:54:59,748 INFO Download rate 335.2K/s                                                                                              \n"
     ]
    },
    {
     "name": "stdout",
     "output_type": "stream",
     "text": [
      "[######################                  ] | 55% Completed |  6.1s\n",
      "/media/nicolasf/END19101/ICU/data/CDS/operational/hindcasts/JMA/TPRATE/ensemble_seas_forecasts_tprate_from_2003_03_JMA.netcdf downloaded OK\n",
      "\n",
      "[##########################              ] | 66% Completed |  6.2s"
     ]
    },
    {
     "name": "stderr",
     "output_type": "stream",
     "text": [
      "2022-03-14 10:55:00,135 INFO Request is running\n",
      "2022-03-14 10:55:00,145 INFO Request is completed\n",
      "2022-03-14 10:55:00,149 INFO Downloading https://download-0008.copernicus-climate.eu/cache-compute-0008/cache/data3/adaptor.mars.external-1647208497.6529005-31711-7-0c5465a0-ee5d-43a3-89ab-c368494ef1e6.nc to /media/nicolasf/END19101/ICU/data/CDS/operational/hindcasts/ECCC_GEM_NEMO/TPRATE/ensemble_seas_forecasts_tprate_from_2003_03_ECCC.netcdf (1.1M)\n"
     ]
    },
    {
     "name": "stdout",
     "output_type": "stream",
     "text": [
      "[##########################              ] | 66% Completed |  6.5s"
     ]
    },
    {
     "name": "stderr",
     "output_type": "stream",
     "text": [
      "  0%|                                                                                                                | 0.00/1.09M [00:00<?, ?B/s]"
     ]
    },
    {
     "name": "stdout",
     "output_type": "stream",
     "text": [
      "[##########################              ] | 66% Completed |  6.8s"
     ]
    },
    {
     "name": "stderr",
     "output_type": "stream",
     "text": [
      "  1%|▋                                                                                                      | 8.00k/1.09M [00:00<00:38, 29.4kB/s]"
     ]
    },
    {
     "name": "stdout",
     "output_type": "stream",
     "text": [
      "[##########################              ] | 66% Completed |  7.1s"
     ]
    },
    {
     "name": "stderr",
     "output_type": "stream",
     "text": [
      "  3%|███▏                                                                                                   | 34.0k/1.09M [00:00<00:16, 67.6kB/s]"
     ]
    },
    {
     "name": "stdout",
     "output_type": "stream",
     "text": [
      "[##########################              ] | 66% Completed |  7.3s"
     ]
    },
    {
     "name": "stderr",
     "output_type": "stream",
     "text": [
      "  9%|████████▉                                                                                               | 96.0k/1.09M [00:00<00:07, 139kB/s]"
     ]
    },
    {
     "name": "stdout",
     "output_type": "stream",
     "text": [
      "[##########################              ] | 66% Completed |  7.6s"
     ]
    },
    {
     "name": "stderr",
     "output_type": "stream",
     "text": [
      " 18%|██████████████████▊                                                                                      | 200k/1.09M [00:01<00:04, 232kB/s]"
     ]
    },
    {
     "name": "stdout",
     "output_type": "stream",
     "text": [
      "[##########################              ] | 66% Completed |  7.9s"
     ]
    },
    {
     "name": "stderr",
     "output_type": "stream",
     "text": [
      " 38%|███████████████████████████████████████▋                                                                 | 422k/1.09M [00:01<00:01, 438kB/s]"
     ]
    },
    {
     "name": "stdout",
     "output_type": "stream",
     "text": [
      "[##########################              ] | 66% Completed |  8.2s"
     ]
    },
    {
     "name": "stderr",
     "output_type": "stream",
     "text": [
      " 77%|█████████████████████████████████████████████████████████████████████████████████▏                       | 864k/1.09M [00:01<00:00, 831kB/s]"
     ]
    },
    {
     "name": "stdout",
     "output_type": "stream",
     "text": [
      "[##########################              ] | 66% Completed |  8.3s"
     ]
    },
    {
     "name": "stderr",
     "output_type": "stream",
     "text": [
      "2022-03-14 10:55:02,273 INFO Download rate 526.6K/s                                                                                              \n"
     ]
    },
    {
     "name": "stdout",
     "output_type": "stream",
     "text": [
      "[##########################              ] | 66% Completed |  8.6s\n",
      "/media/nicolasf/END19101/ICU/data/CDS/operational/hindcasts/ECCC_GEM_NEMO/TPRATE/ensemble_seas_forecasts_tprate_from_2003_03_ECCC.netcdf downloaded OK\n",
      "\n",
      "[###############################         ] | 77% Completed |  9.8s"
     ]
    },
    {
     "name": "stderr",
     "output_type": "stream",
     "text": [
      "2022-03-14 10:55:03,808 INFO Request is completed\n",
      "2022-03-14 10:55:03,810 INFO Downloading https://download-0007.copernicus-climate.eu/cache-compute-0007/cache/data8/adaptor.mars.external-1647208502.3994262-17945-7-b617c638-7fe1-4814-be63-d149e06373c4.nc to /media/nicolasf/END19101/ICU/data/CDS/operational/hindcasts/UKMO/TPRATE/ensemble_seas_forecasts_tprate_from_2003_03_UKMO.netcdf (3.1M)\n",
      "2022-03-14 10:55:03,820 INFO Request is failed\n",
      "2022-03-14 10:55:03,822 ERROR Message: an internal error occurred processing your request\n",
      "2022-03-14 10:55:03,824 ERROR Reason:  [Errno 13] Permission denied: '/cache/tmp'\n",
      "2022-03-14 10:55:03,827 ERROR   Traceback (most recent call last):\n",
      "2022-03-14 10:55:03,828 ERROR     File \"/usr/lib64/python3.6/os.py\", line 220, in makedirs\n",
      "2022-03-14 10:55:03,829 ERROR       mkdir(name, mode)\n",
      "2022-03-14 10:55:03,831 ERROR   FileExistsError: [Errno 17] File exists: '/cache/tmp'\n"
     ]
    },
    {
     "name": "stdout",
     "output_type": "stream",
     "text": [
      "\n",
      "failure to download or save /media/nicolasf/END19101/ICU/data/CDS/operational/hindcasts/METEO_FRANCE/TPRATE/ensemble_seas_forecasts_tprate_from_2003_03_METEO_FRANCE.netcdf\n",
      "\n",
      "\n",
      "attempting to download tprate for GCM METEO_FRANCE, for level surface, year 2003, month 3, in netcdf, attempt 2 of 3\n",
      "\n",
      "[###############################         ] | 77% Completed | 10.1s"
     ]
    },
    {
     "name": "stderr",
     "output_type": "stream",
     "text": [
      "  0%|                                                                                                                | 0.00/3.05M [00:00<?, ?B/s]2022-03-14 10:55:04,123 INFO Welcome to the CDS\n",
      "2022-03-14 10:55:04,125 INFO Sending request to https://cds.climate.copernicus.eu/api/v2/resources/seasonal-monthly-single-levels\n"
     ]
    },
    {
     "name": "stdout",
     "output_type": "stream",
     "text": [
      "[###############################         ] | 77% Completed | 10.4s"
     ]
    },
    {
     "name": "stderr",
     "output_type": "stream",
     "text": [
      "  0%|▎                                                                                                      | 8.00k/3.05M [00:00<01:47, 29.6kB/s]2022-03-14 10:55:04,424 INFO Request is queued\n"
     ]
    },
    {
     "name": "stdout",
     "output_type": "stream",
     "text": [
      "[###############################         ] | 77% Completed | 10.8s"
     ]
    },
    {
     "name": "stderr",
     "output_type": "stream",
     "text": [
      "  1%|█▎                                                                                                     | 40.0k/3.05M [00:00<00:39, 81.0kB/s]"
     ]
    },
    {
     "name": "stdout",
     "output_type": "stream",
     "text": [
      "[###############################         ] | 77% Completed | 11.0s"
     ]
    },
    {
     "name": "stderr",
     "output_type": "stream",
     "text": [
      "  3%|███▏                                                                                                    | 96.0k/3.05M [00:00<00:22, 137kB/s]"
     ]
    },
    {
     "name": "stdout",
     "output_type": "stream",
     "text": [
      "[###############################         ] | 77% Completed | 11.3s"
     ]
    },
    {
     "name": "stderr",
     "output_type": "stream",
     "text": [
      "  6%|██████▋                                                                                                  | 200k/3.05M [00:01<00:12, 233kB/s]"
     ]
    },
    {
     "name": "stdout",
     "output_type": "stream",
     "text": [
      "[###############################         ] | 77% Completed | 11.6s"
     ]
    },
    {
     "name": "stderr",
     "output_type": "stream",
     "text": [
      " 14%|██████████████▏                                                                                          | 422k/3.05M [00:01<00:06, 440kB/s]"
     ]
    },
    {
     "name": "stdout",
     "output_type": "stream",
     "text": [
      "[###############################         ] | 77% Completed | 11.8s"
     ]
    },
    {
     "name": "stderr",
     "output_type": "stream",
     "text": [
      "2022-03-14 10:55:05,720 INFO Request is running\n"
     ]
    },
    {
     "name": "stdout",
     "output_type": "stream",
     "text": [
      "[###############################         ] | 77% Completed | 11.9s"
     ]
    },
    {
     "name": "stderr",
     "output_type": "stream",
     "text": [
      " 28%|████████████████████████████▉                                                                            | 862k/3.05M [00:01<00:02, 835kB/s]"
     ]
    },
    {
     "name": "stdout",
     "output_type": "stream",
     "text": [
      "[###############################         ] | 77% Completed | 12.2s"
     ]
    },
    {
     "name": "stderr",
     "output_type": "stream",
     "text": [
      " 48%|█████████████████████████████████████████████████▌                                                     | 1.47M/3.05M [00:01<00:01, 1.32MB/s]"
     ]
    },
    {
     "name": "stdout",
     "output_type": "stream",
     "text": [
      "[###############################         ] | 77% Completed | 12.4s"
     ]
    },
    {
     "name": "stderr",
     "output_type": "stream",
     "text": [
      " 70%|███████████████████████████████████████████████████████████████████████▋                               | 2.12M/3.05M [00:02<00:00, 1.68MB/s]"
     ]
    },
    {
     "name": "stdout",
     "output_type": "stream",
     "text": [
      "[###############################         ] | 77% Completed | 12.7s"
     ]
    },
    {
     "name": "stderr",
     "output_type": "stream",
     "text": [
      " 95%|█████████████████████████████████████████████████████████████████████████████████████████████████▊     | 2.90M/3.05M [00:02<00:00, 2.06MB/s]"
     ]
    },
    {
     "name": "stdout",
     "output_type": "stream",
     "text": [
      "[###############################         ] | 77% Completed | 12.8s"
     ]
    },
    {
     "name": "stderr",
     "output_type": "stream",
     "text": [
      "2022-03-14 10:55:06,757 INFO Download rate 1M/s                                                                                                  \n"
     ]
    },
    {
     "name": "stdout",
     "output_type": "stream",
     "text": [
      "[###############################         ] | 77% Completed | 13.1s\n",
      "/media/nicolasf/END19101/ICU/data/CDS/operational/hindcasts/UKMO/TPRATE/ensemble_seas_forecasts_tprate_from_2003_03_UKMO.netcdf downloaded OK\n",
      "\n",
      "[###################################     ] | 88% Completed | 16.1s"
     ]
    },
    {
     "name": "stderr",
     "output_type": "stream",
     "text": [
      "2022-03-14 10:55:10,057 INFO Request is completed\n",
      "2022-03-14 10:55:10,059 INFO Downloading https://download-0008.copernicus-climate.eu/cache-compute-0008/cache/data2/adaptor.mars.external-1647208508.2987404-32274-1-007533db-db42-48e1-acf9-81d3a60fdd67.nc to /media/nicolasf/END19101/ICU/data/CDS/operational/hindcasts/METEO_FRANCE/TPRATE/ensemble_seas_forecasts_tprate_from_2003_03_METEO_FRANCE.netcdf (2.7M)\n"
     ]
    },
    {
     "name": "stdout",
     "output_type": "stream",
     "text": [
      "[###################################     ] | 88% Completed | 16.4s"
     ]
    },
    {
     "name": "stderr",
     "output_type": "stream",
     "text": [
      "  0%|                                                                                                                | 0.00/2.73M [00:00<?, ?B/s]"
     ]
    },
    {
     "name": "stdout",
     "output_type": "stream",
     "text": [
      "[###################################     ] | 88% Completed | 16.6s"
     ]
    },
    {
     "name": "stderr",
     "output_type": "stream",
     "text": [
      "  0%|▎                                                                                                      | 8.00k/2.73M [00:00<01:37, 29.3kB/s]"
     ]
    },
    {
     "name": "stdout",
     "output_type": "stream",
     "text": [
      "[###################################     ] | 88% Completed | 17.0s"
     ]
    },
    {
     "name": "stderr",
     "output_type": "stream",
     "text": [
      "  1%|█▎                                                                                                     | 34.0k/2.73M [00:00<00:41, 67.3kB/s]"
     ]
    },
    {
     "name": "stdout",
     "output_type": "stream",
     "text": [
      "[###################################     ] | 88% Completed | 17.3s"
     ]
    },
    {
     "name": "stderr",
     "output_type": "stream",
     "text": [
      "  3%|███▍                                                                                                    | 93.0k/2.73M [00:00<00:20, 134kB/s]"
     ]
    },
    {
     "name": "stdout",
     "output_type": "stream",
     "text": [
      "[###################################     ] | 88% Completed | 17.6s"
     ]
    },
    {
     "name": "stderr",
     "output_type": "stream",
     "text": [
      "  7%|███████▊                                                                                                 | 206k/2.73M [00:01<00:10, 242kB/s]"
     ]
    },
    {
     "name": "stdout",
     "output_type": "stream",
     "text": [
      "[###################################     ] | 88% Completed | 17.9s"
     ]
    },
    {
     "name": "stderr",
     "output_type": "stream",
     "text": [
      " 15%|███████████████▉                                                                                         | 422k/2.73M [00:01<00:05, 436kB/s]"
     ]
    },
    {
     "name": "stdout",
     "output_type": "stream",
     "text": [
      "[###################################     ] | 88% Completed | 18.1s"
     ]
    },
    {
     "name": "stderr",
     "output_type": "stream",
     "text": [
      " 31%|████████████████████████████████▌                                                                        | 864k/2.73M [00:01<00:02, 830kB/s]"
     ]
    },
    {
     "name": "stdout",
     "output_type": "stream",
     "text": [
      "[###################################     ] | 88% Completed | 18.4s"
     ]
    },
    {
     "name": "stderr",
     "output_type": "stream",
     "text": [
      " 63%|████████████████████████████████████████████████████████████████▍                                      | 1.70M/2.73M [00:01<00:00, 1.60MB/s]"
     ]
    },
    {
     "name": "stdout",
     "output_type": "stream",
     "text": [
      "[###################################     ] | 88% Completed | 18.9s"
     ]
    },
    {
     "name": "stderr",
     "output_type": "stream",
     "text": [
      " 99%|██████████████████████████████████████████████████████████████████████████████████████████████████████▎| 2.71M/2.73M [00:02<00:00, 1.81MB/s]"
     ]
    },
    {
     "name": "stdout",
     "output_type": "stream",
     "text": [
      "[###################################     ] | 88% Completed | 19.6s"
     ]
    },
    {
     "name": "stderr",
     "output_type": "stream",
     "text": [
      "2022-03-14 10:55:13,528 INFO Download rate 804.6K/s                                                                                              \n"
     ]
    },
    {
     "name": "stdout",
     "output_type": "stream",
     "text": [
      "[###################################     ] | 88% Completed | 19.9s\n",
      "/media/nicolasf/END19101/ICU/data/CDS/operational/hindcasts/METEO_FRANCE/TPRATE/ensemble_seas_forecasts_tprate_from_2003_03_METEO_FRANCE.netcdf downloaded OK\n",
      "\n",
      "[########################################] | 100% Completed | 20.0s\n",
      "processing ECCC, path should be /media/nicolasf/END19101/ICU/data/CDS/operational/hindcasts/ECCC_CanCM4i/TPRATE\n",
      "processing ECCC, path should be /media/nicolasf/END19101/ICU/data/CDS/operational/hindcasts/ECCC_GEM_NEMO/TPRATE\n",
      "[                                        ] | 0% Completed |  0.0s\n",
      "attempting to download tprate for GCM ECCC, for level surface, year 2004, month 3, in netcdf, attempt 1 of 3\n",
      "\n",
      "/media/nicolasf/END19101/ICU/data/CDS/operational/hindcasts/ECMWF/TPRATE/ensemble_seas_forecasts_tprate_from_2004_03_ECMWF.netcdf exists already on disk, skipping download and returning path\n",
      "\n",
      "\n",
      "/media/nicolasf/END19101/ICU/data/CDS/operational/hindcasts/DWD/TPRATE/ensemble_seas_forecasts_tprate_from_2004_03_DWD.netcdf exists already on disk, skipping download and returning path\n",
      "\n",
      "/media/nicolasf/END19101/ICU/data/CDS/operational/hindcasts/CMCC/TPRATE/ensemble_seas_forecasts_tprate_from_2004_03_CMCC.netcdf exists already on disk, skipping download and returning path\n",
      "\n",
      "\n",
      "attempting to download tprate for GCM UKMO, for level surface, year 2004, month 3, in netcdf, attempt 1 of 3\n",
      "\n",
      "\n",
      "/media/nicolasf/END19101/ICU/data/CDS/operational/hindcasts/NCEP/TPRATE/ensemble_seas_forecasts_tprate_from_2004_03_NCEP.netcdf exists already on disk, skipping download and returning path\n",
      "\n",
      "\n",
      "\n",
      "attempting to download tprate for GCM JMA, for level surface, year 2004, month 3, in netcdf, attempt 1 of 3\n",
      "\n",
      "/media/nicolasf/END19101/ICU/data/CDS/operational/hindcasts/ECCC_CanCM4i/TPRATE/ensemble_seas_forecasts_tprate_from_2004_03_ECCC.netcdf exists already on disk, skipping download and returning path\n",
      "\n",
      "\n",
      "\n",
      "\n",
      "attempting to download tprate for GCM METEO_FRANCE, for level surface, year 2004, month 3, in netcdf, attempt 1 of 3\n",
      "\n",
      "[######################                  ] | 55% Completed |  0.2s"
     ]
    },
    {
     "name": "stderr",
     "output_type": "stream",
     "text": [
      "2022-03-14 10:55:14,199 INFO Welcome to the CDS\n"
     ]
    },
    {
     "name": "stdout",
     "output_type": "stream",
     "text": [
      "[######################                  ] | 55% Completed |  0.3s"
     ]
    },
    {
     "name": "stderr",
     "output_type": "stream",
     "text": [
      "2022-03-14 10:55:14,201 INFO Sending request to https://cds.climate.copernicus.eu/api/v2/resources/seasonal-monthly-single-levels\n",
      "2022-03-14 10:55:14,211 INFO Welcome to the CDS\n",
      "2022-03-14 10:55:14,212 INFO Welcome to the CDS\n",
      "2022-03-14 10:55:14,214 INFO Sending request to https://cds.climate.copernicus.eu/api/v2/resources/seasonal-monthly-single-levels\n",
      "2022-03-14 10:55:14,218 INFO Welcome to the CDS\n",
      "2022-03-14 10:55:14,219 INFO Sending request to https://cds.climate.copernicus.eu/api/v2/resources/seasonal-monthly-single-levels\n",
      "2022-03-14 10:55:14,227 INFO Sending request to https://cds.climate.copernicus.eu/api/v2/resources/seasonal-monthly-single-levels\n"
     ]
    },
    {
     "name": "stdout",
     "output_type": "stream",
     "text": [
      "[######################                  ] | 55% Completed |  0.5s"
     ]
    },
    {
     "name": "stderr",
     "output_type": "stream",
     "text": [
      "2022-03-14 10:55:14,505 INFO Request is queued\n"
     ]
    },
    {
     "name": "stdout",
     "output_type": "stream",
     "text": [
      "[######################                  ] | 55% Completed |  0.6s"
     ]
    },
    {
     "name": "stderr",
     "output_type": "stream",
     "text": [
      "2022-03-14 10:55:14,525 INFO Request is queued\n",
      "2022-03-14 10:55:14,528 INFO Request is queued\n",
      "2022-03-14 10:55:14,536 INFO Request is queued\n"
     ]
    },
    {
     "name": "stdout",
     "output_type": "stream",
     "text": [
      "[######################                  ] | 55% Completed |  1.8s"
     ]
    },
    {
     "name": "stderr",
     "output_type": "stream",
     "text": [
      "2022-03-14 10:55:15,798 INFO Request is running\n"
     ]
    },
    {
     "name": "stdout",
     "output_type": "stream",
     "text": [
      "[######################                  ] | 55% Completed |  3.7s"
     ]
    },
    {
     "name": "stderr",
     "output_type": "stream",
     "text": [
      "2022-03-14 10:55:17,593 INFO Request is completed\n",
      "2022-03-14 10:55:17,595 INFO Downloading https://download-0011.copernicus-climate.eu/cache-compute-0011/cache/data0/adaptor.mars.external-1647208515.6648753-25681-17-2d995628-72e2-497c-86c3-f4a1948d67ca.nc to /media/nicolasf/END19101/ICU/data/CDS/operational/hindcasts/ECCC_GEM_NEMO/TPRATE/ensemble_seas_forecasts_tprate_from_2004_03_ECCC.netcdf (1.1M)\n",
      "2022-03-14 10:55:17,615 INFO Request is running\n"
     ]
    },
    {
     "name": "stdout",
     "output_type": "stream",
     "text": [
      "[######################                  ] | 55% Completed |  4.0s"
     ]
    },
    {
     "name": "stderr",
     "output_type": "stream",
     "text": [
      "  0%|                                                                                                                | 0.00/1.09M [00:00<?, ?B/s]"
     ]
    },
    {
     "name": "stdout",
     "output_type": "stream",
     "text": [
      "[######################                  ] | 55% Completed |  4.3s"
     ]
    },
    {
     "name": "stderr",
     "output_type": "stream",
     "text": [
      "  1%|▋                                                                                                      | 8.00k/1.09M [00:00<00:39, 28.9kB/s]"
     ]
    },
    {
     "name": "stdout",
     "output_type": "stream",
     "text": [
      "[######################                  ] | 55% Completed |  4.5s"
     ]
    },
    {
     "name": "stderr",
     "output_type": "stream",
     "text": [
      "  4%|███▊                                                                                                   | 42.0k/1.09M [00:00<00:13, 83.4kB/s]"
     ]
    },
    {
     "name": "stdout",
     "output_type": "stream",
     "text": [
      "[######################                  ] | 55% Completed |  4.8s"
     ]
    },
    {
     "name": "stderr",
     "output_type": "stream",
     "text": [
      "  9%|████████▊                                                                                               | 95.0k/1.09M [00:00<00:07, 132kB/s]"
     ]
    },
    {
     "name": "stdout",
     "output_type": "stream",
     "text": [
      "[######################                  ] | 55% Completed |  5.1s"
     ]
    },
    {
     "name": "stderr",
     "output_type": "stream",
     "text": [
      " 18%|███████████████████▏                                                                                     | 204k/1.09M [00:01<00:04, 233kB/s]"
     ]
    },
    {
     "name": "stdout",
     "output_type": "stream",
     "text": [
      "[######################                  ] | 55% Completed |  5.4s"
     ]
    },
    {
     "name": "stderr",
     "output_type": "stream",
     "text": [
      " 38%|███████████████████████████████████████▊                                                                 | 424k/1.09M [00:01<00:01, 432kB/s]"
     ]
    },
    {
     "name": "stdout",
     "output_type": "stream",
     "text": [
      "[######################                  ] | 55% Completed |  5.7s"
     ]
    },
    {
     "name": "stderr",
     "output_type": "stream",
     "text": [
      " 77%|█████████████████████████████████████████████████████████████████████████████████▏                       | 864k/1.09M [00:01<00:00, 818kB/s]"
     ]
    },
    {
     "name": "stdout",
     "output_type": "stream",
     "text": [
      "[######################                  ] | 55% Completed |  5.8s"
     ]
    },
    {
     "name": "stderr",
     "output_type": "stream",
     "text": [
      "2022-03-14 10:55:19,729 INFO Download rate 524K/s                                                                                                \n"
     ]
    },
    {
     "name": "stdout",
     "output_type": "stream",
     "text": [
      "[######################                  ] | 55% Completed |  6.1s\n",
      "/media/nicolasf/END19101/ICU/data/CDS/operational/hindcasts/ECCC_GEM_NEMO/TPRATE/ensemble_seas_forecasts_tprate_from_2004_03_ECCC.netcdf downloaded OK\n",
      "\n",
      "[##########################              ] | 66% Completed |  9.9s"
     ]
    },
    {
     "name": "stderr",
     "output_type": "stream",
     "text": [
      "2022-03-14 10:55:23,839 INFO Request is completed\n",
      "2022-03-14 10:55:23,841 INFO Downloading https://download-0007.copernicus-climate.eu/cache-compute-0007/cache/data1/adaptor.mars.external-1647208522.3732915-17904-8-c178acff-fd22-4860-aefc-87325f229bc2.nc to /media/nicolasf/END19101/ICU/data/CDS/operational/hindcasts/UKMO/TPRATE/ensemble_seas_forecasts_tprate_from_2004_03_UKMO.netcdf (3.1M)\n",
      "2022-03-14 10:55:23,843 INFO Request is running\n"
     ]
    },
    {
     "name": "stdout",
     "output_type": "stream",
     "text": [
      "[##########################              ] | 66% Completed | 10.2s"
     ]
    },
    {
     "name": "stderr",
     "output_type": "stream",
     "text": [
      "  0%|                                                                                                                | 0.00/3.05M [00:00<?, ?B/s]"
     ]
    },
    {
     "name": "stdout",
     "output_type": "stream",
     "text": [
      "[##########################              ] | 66% Completed | 10.5s"
     ]
    },
    {
     "name": "stderr",
     "output_type": "stream",
     "text": [
      "  0%|▎                                                                                                      | 8.00k/3.05M [00:00<01:49, 29.2kB/s]"
     ]
    },
    {
     "name": "stdout",
     "output_type": "stream",
     "text": [
      "[##########################              ] | 66% Completed | 10.8s"
     ]
    },
    {
     "name": "stderr",
     "output_type": "stream",
     "text": [
      "  1%|█▎                                                                                                     | 40.0k/3.05M [00:00<00:39, 79.5kB/s]"
     ]
    },
    {
     "name": "stdout",
     "output_type": "stream",
     "text": [
      "[##########################              ] | 66% Completed | 11.1s"
     ]
    },
    {
     "name": "stderr",
     "output_type": "stream",
     "text": [
      "  3%|███▏                                                                                                    | 96.0k/3.05M [00:00<00:22, 136kB/s]"
     ]
    },
    {
     "name": "stdout",
     "output_type": "stream",
     "text": [
      "[##########################              ] | 66% Completed | 11.3s"
     ]
    },
    {
     "name": "stderr",
     "output_type": "stream",
     "text": [
      "  6%|██████▊                                                                                                  | 201k/3.05M [00:01<00:12, 233kB/s]"
     ]
    },
    {
     "name": "stdout",
     "output_type": "stream",
     "text": [
      "[##########################              ] | 66% Completed | 11.6s"
     ]
    },
    {
     "name": "stderr",
     "output_type": "stream",
     "text": [
      " 14%|██████████████▏                                                                                          | 422k/3.05M [00:01<00:06, 438kB/s]"
     ]
    },
    {
     "name": "stdout",
     "output_type": "stream",
     "text": [
      "[##########################              ] | 66% Completed | 11.9s"
     ]
    },
    {
     "name": "stderr",
     "output_type": "stream",
     "text": [
      " 28%|█████████████████████████████                                                                            | 864k/3.05M [00:01<00:02, 835kB/s]"
     ]
    },
    {
     "name": "stdout",
     "output_type": "stream",
     "text": [
      "[##########################              ] | 66% Completed | 12.2s"
     ]
    },
    {
     "name": "stderr",
     "output_type": "stream",
     "text": [
      " 50%|███████████████████████████████████████████████████▏                                                   | 1.52M/3.05M [00:01<00:01, 1.37MB/s]"
     ]
    },
    {
     "name": "stdout",
     "output_type": "stream",
     "text": [
      "[##########################              ] | 66% Completed | 12.5s"
     ]
    },
    {
     "name": "stderr",
     "output_type": "stream",
     "text": [
      " 73%|███████████████████████████████████████████████████████████████████████████▌                           | 2.24M/3.05M [00:02<00:00, 1.80MB/s]"
     ]
    },
    {
     "name": "stdout",
     "output_type": "stream",
     "text": [
      "[##########################              ] | 66% Completed | 12.7s"
     ]
    },
    {
     "name": "stderr",
     "output_type": "stream",
     "text": [
      "2022-03-14 10:55:26,609 INFO Download rate 1.1M/s                                                                                                \n"
     ]
    },
    {
     "name": "stdout",
     "output_type": "stream",
     "text": [
      "[##########################              ] | 66% Completed | 13.0s\n",
      "/media/nicolasf/END19101/ICU/data/CDS/operational/hindcasts/UKMO/TPRATE/ensemble_seas_forecasts_tprate_from_2004_03_UKMO.netcdf downloaded OK\n",
      "\n",
      "[###############################         ] | 77% Completed | 15.2s"
     ]
    },
    {
     "name": "stderr",
     "output_type": "stream",
     "text": [
      "2022-03-14 10:55:29,205 INFO Request is running\n",
      "2022-03-14 10:55:29,216 INFO Request is completed\n",
      "2022-03-14 10:55:29,218 INFO Downloading https://download-0002.copernicus-climate.eu/cache-compute-0002/cache/data2/adaptor.mars.external-1647208527.2807324-5565-12-a71d892d-edbe-4f24-89b0-308c230b320d.nc to /media/nicolasf/END19101/ICU/data/CDS/operational/hindcasts/METEO_FRANCE/TPRATE/ensemble_seas_forecasts_tprate_from_2004_03_METEO_FRANCE.netcdf (2.7M)\n"
     ]
    },
    {
     "name": "stdout",
     "output_type": "stream",
     "text": [
      "[###############################         ] | 77% Completed | 16.5s"
     ]
    },
    {
     "name": "stderr",
     "output_type": "stream",
     "text": [
      "  0%|                                                                                                                | 0.00/2.73M [00:00<?, ?B/s]"
     ]
    },
    {
     "name": "stdout",
     "output_type": "stream",
     "text": [
      "[###############################         ] | 77% Completed | 16.8s"
     ]
    },
    {
     "name": "stderr",
     "output_type": "stream",
     "text": [
      "  1%|▌                                                                                                      | 16.0k/2.73M [00:00<00:48, 58.3kB/s]"
     ]
    },
    {
     "name": "stdout",
     "output_type": "stream",
     "text": [
      "[###############################         ] | 77% Completed | 17.1s"
     ]
    },
    {
     "name": "stderr",
     "output_type": "stream",
     "text": [
      "  2%|██▍                                                                                                     | 66.0k/2.73M [00:00<00:21, 130kB/s]"
     ]
    },
    {
     "name": "stdout",
     "output_type": "stream",
     "text": [
      "[###############################         ] | 77% Completed | 17.4s"
     ]
    },
    {
     "name": "stderr",
     "output_type": "stream",
     "text": [
      "  5%|████▉                                                                                                    | 131k/2.73M [00:00<00:15, 176kB/s]"
     ]
    },
    {
     "name": "stdout",
     "output_type": "stream",
     "text": [
      "[###############################         ] | 77% Completed | 17.7s"
     ]
    },
    {
     "name": "stderr",
     "output_type": "stream",
     "text": [
      " 10%|██████████▍                                                                                              | 278k/2.73M [00:01<00:08, 314kB/s]"
     ]
    },
    {
     "name": "stdout",
     "output_type": "stream",
     "text": [
      "[###############################         ] | 77% Completed | 17.9s"
     ]
    },
    {
     "name": "stderr",
     "output_type": "stream",
     "text": [
      " 21%|██████████████████████                                                                                   | 587k/2.73M [00:01<00:03, 599kB/s]"
     ]
    },
    {
     "name": "stdout",
     "output_type": "stream",
     "text": [
      "[###############################         ] | 77% Completed | 18.2s"
     ]
    },
    {
     "name": "stderr",
     "output_type": "stream",
     "text": [
      " 43%|████████████████████████████████████████████▌                                                          | 1.18M/2.73M [00:01<00:01, 1.15MB/s]"
     ]
    },
    {
     "name": "stdout",
     "output_type": "stream",
     "text": [
      "[###############################         ] | 77% Completed | 18.5s"
     ]
    },
    {
     "name": "stderr",
     "output_type": "stream",
     "text": [
      " 78%|███████████████████████████████████████████████████████████████████████████████▉                       | 2.11M/2.73M [00:02<00:00, 1.84MB/s]"
     ]
    },
    {
     "name": "stdout",
     "output_type": "stream",
     "text": [
      "[###############################         ] | 77% Completed | 18.8s"
     ]
    },
    {
     "name": "stderr",
     "output_type": "stream",
     "text": [
      " 87%|█████████████████████████████████████████████████████████████████████████████████████████▉             | 2.38M/2.73M [00:02<00:00, 1.61MB/s]"
     ]
    },
    {
     "name": "stdout",
     "output_type": "stream",
     "text": [
      "[###############################         ] | 77% Completed | 18.9s"
     ]
    },
    {
     "name": "stderr",
     "output_type": "stream",
     "text": [
      "2022-03-14 10:55:32,873 INFO Download rate 763.6K/s                                                                                              \n"
     ]
    },
    {
     "name": "stdout",
     "output_type": "stream",
     "text": [
      "[###############################         ] | 77% Completed | 19.2s\n",
      "/media/nicolasf/END19101/ICU/data/CDS/operational/hindcasts/METEO_FRANCE/TPRATE/ensemble_seas_forecasts_tprate_from_2004_03_METEO_FRANCE.netcdf downloaded OK\n",
      "\n",
      "[###################################     ] | 88% Completed | 23.2s"
     ]
    },
    {
     "name": "stderr",
     "output_type": "stream",
     "text": [
      "2022-03-14 10:55:37,101 INFO Request is completed\n",
      "2022-03-14 10:55:37,101 INFO Downloading https://download-0006.copernicus-climate.eu/cache-compute-0006/cache/data9/adaptor.mars.external-1647208529.730291-15267-9-0abd3cc2-728c-4891-aca8-d7e3fd4ebd6c.nc to /media/nicolasf/END19101/ICU/data/CDS/operational/hindcasts/JMA/TPRATE/ensemble_seas_forecasts_tprate_from_2004_03_JMA.netcdf (719.2K)\n"
     ]
    },
    {
     "name": "stdout",
     "output_type": "stream",
     "text": [
      "[###################################     ] | 88% Completed | 23.5s"
     ]
    },
    {
     "name": "stderr",
     "output_type": "stream",
     "text": [
      "  0%|                                                                                                                 | 0.00/719k [00:00<?, ?B/s]"
     ]
    },
    {
     "name": "stdout",
     "output_type": "stream",
     "text": [
      "[###################################     ] | 88% Completed | 23.8s"
     ]
    },
    {
     "name": "stderr",
     "output_type": "stream",
     "text": [
      "  1%|█▏                                                                                                      | 8.00k/719k [00:00<00:25, 28.7kB/s]"
     ]
    },
    {
     "name": "stdout",
     "output_type": "stream",
     "text": [
      "[###################################     ] | 88% Completed | 24.0s"
     ]
    },
    {
     "name": "stderr",
     "output_type": "stream",
     "text": [
      "  5%|████▉                                                                                                   | 34.0k/719k [00:00<00:10, 66.0kB/s]"
     ]
    },
    {
     "name": "stdout",
     "output_type": "stream",
     "text": [
      "[###################################     ] | 88% Completed | 24.3s"
     ]
    },
    {
     "name": "stderr",
     "output_type": "stream",
     "text": [
      " 13%|██████████████                                                                                           | 96.0k/719k [00:00<00:04, 136kB/s]"
     ]
    },
    {
     "name": "stdout",
     "output_type": "stream",
     "text": [
      "[###################################     ] | 88% Completed | 24.6s"
     ]
    },
    {
     "name": "stderr",
     "output_type": "stream",
     "text": [
      " 28%|█████████████████████████████▍                                                                            | 200k/719k [00:01<00:02, 228kB/s]"
     ]
    },
    {
     "name": "stdout",
     "output_type": "stream",
     "text": [
      "[###################################     ] | 88% Completed | 24.9s"
     ]
    },
    {
     "name": "stderr",
     "output_type": "stream",
     "text": [
      " 59%|██████████████████████████████████████████████████████████████▏                                           | 422k/719k [00:01<00:00, 428kB/s]"
     ]
    },
    {
     "name": "stdout",
     "output_type": "stream",
     "text": [
      "[###################################     ] | 88% Completed | 25.0s"
     ]
    },
    {
     "name": "stderr",
     "output_type": "stream",
     "text": [
      "2022-03-14 10:55:38,969 INFO Download rate 385.1K/s                                                                                              \n"
     ]
    },
    {
     "name": "stdout",
     "output_type": "stream",
     "text": [
      "[###################################     ] | 88% Completed | 25.3s\n",
      "/media/nicolasf/END19101/ICU/data/CDS/operational/hindcasts/JMA/TPRATE/ensemble_seas_forecasts_tprate_from_2004_03_JMA.netcdf downloaded OK\n",
      "\n",
      "[########################################] | 100% Completed | 25.4s\n",
      "processing ECCC, path should be /media/nicolasf/END19101/ICU/data/CDS/operational/hindcasts/ECCC_CanCM4i/TPRATE\n",
      "processing ECCC, path should be /media/nicolasf/END19101/ICU/data/CDS/operational/hindcasts/ECCC_GEM_NEMO/TPRATE\n",
      "[                                        ] | 0% Completed |  0.0s\n",
      "attempting to download tprate for GCM JMA, for level surface, year 2005, month 3, in netcdf, attempt 1 of 3\n",
      "\n",
      "\n",
      "/media/nicolasf/END19101/ICU/data/CDS/operational/hindcasts/ECMWF/TPRATE/ensemble_seas_forecasts_tprate_from_2005_03_ECMWF.netcdf exists already on disk, skipping download and returning path\n",
      "\n",
      "/media/nicolasf/END19101/ICU/data/CDS/operational/hindcasts/ECCC_CanCM4i/TPRATE/ensemble_seas_forecasts_tprate_from_2005_03_ECCC.netcdf exists already on disk, skipping download and returning path\n",
      "\n",
      "\n",
      "/media/nicolasf/END19101/ICU/data/CDS/operational/hindcasts/CMCC/TPRATE/ensemble_seas_forecasts_tprate_from_2005_03_CMCC.netcdf exists already on disk, skipping download and returning path\n",
      "\n",
      "\n",
      "/media/nicolasf/END19101/ICU/data/CDS/operational/hindcasts/DWD/TPRATE/ensemble_seas_forecasts_tprate_from_2005_03_DWD.netcdf exists already on disk, skipping download and returning path\n",
      "\n",
      "\n",
      "attempting to download tprate for GCM ECCC, for level surface, year 2005, month 3, in netcdf, attempt 1 of 3\n",
      "\n",
      "\n",
      "\n",
      "attempting to download tprate for GCM METEO_FRANCE, for level surface, year 2005, month 3, in netcdf, attempt 1 of 3\n",
      "\n",
      "\n",
      "/media/nicolasf/END19101/ICU/data/CDS/operational/hindcasts/NCEP/TPRATE/ensemble_seas_forecasts_tprate_from_2005_03_NCEP.netcdf exists already on disk, skipping download and returning path\n",
      "\n",
      "\n",
      "attempting to download tprate for GCM UKMO, for level surface, year 2005, month 3, in netcdf, attempt 1 of 3\n",
      "\n",
      "[######################                  ] | 55% Completed |  0.2s"
     ]
    },
    {
     "name": "stderr",
     "output_type": "stream",
     "text": [
      "2022-03-14 10:55:39,608 INFO Welcome to the CDS\n",
      "2022-03-14 10:55:39,611 INFO Welcome to the CDS\n",
      "2022-03-14 10:55:39,611 INFO Sending request to https://cds.climate.copernicus.eu/api/v2/resources/seasonal-monthly-single-levels\n",
      "2022-03-14 10:55:39,613 INFO Welcome to the CDS\n",
      "2022-03-14 10:55:39,615 INFO Sending request to https://cds.climate.copernicus.eu/api/v2/resources/seasonal-monthly-single-levels\n",
      "2022-03-14 10:55:39,620 INFO Welcome to the CDS\n",
      "2022-03-14 10:55:39,620 INFO Sending request to https://cds.climate.copernicus.eu/api/v2/resources/seasonal-monthly-single-levels\n",
      "2022-03-14 10:55:39,622 INFO Sending request to https://cds.climate.copernicus.eu/api/v2/resources/seasonal-monthly-single-levels\n"
     ]
    },
    {
     "name": "stdout",
     "output_type": "stream",
     "text": [
      "[######################                  ] | 55% Completed |  0.5s"
     ]
    },
    {
     "name": "stderr",
     "output_type": "stream",
     "text": [
      "2022-03-14 10:55:39,911 INFO Request is queued\n",
      "2022-03-14 10:55:39,916 INFO Request is queued\n",
      "2022-03-14 10:55:39,917 INFO Request is queued\n"
     ]
    },
    {
     "name": "stdout",
     "output_type": "stream",
     "text": [
      "[######################                  ] | 55% Completed |  0.6s"
     ]
    },
    {
     "name": "stderr",
     "output_type": "stream",
     "text": [
      "2022-03-14 10:55:39,930 INFO Request is queued\n"
     ]
    },
    {
     "name": "stdout",
     "output_type": "stream",
     "text": [
      "[######################                  ] | 55% Completed |  1.8s"
     ]
    },
    {
     "name": "stderr",
     "output_type": "stream",
     "text": [
      "2022-03-14 10:55:41,210 INFO Request is running\n"
     ]
    },
    {
     "name": "stdout",
     "output_type": "stream",
     "text": [
      "[######################                  ] | 55% Completed |  3.7s"
     ]
    },
    {
     "name": "stderr",
     "output_type": "stream",
     "text": [
      "2022-03-14 10:55:43,019 INFO Request is completed\n",
      "2022-03-14 10:55:43,021 INFO Downloading https://download-0001.copernicus-climate.eu/cache-compute-0001/cache/data2/adaptor.mars.external-1647208541.1760545-24836-16-46741d87-8d59-4149-89ee-c2dd4dbd968b.nc to /media/nicolasf/END19101/ICU/data/CDS/operational/hindcasts/JMA/TPRATE/ensemble_seas_forecasts_tprate_from_2005_03_JMA.netcdf (719.2K)\n",
      "2022-03-14 10:55:43,024 INFO Request is running\n"
     ]
    },
    {
     "name": "stdout",
     "output_type": "stream",
     "text": [
      "[######################                  ] | 55% Completed |  4.0s"
     ]
    },
    {
     "name": "stderr",
     "output_type": "stream",
     "text": [
      "  0%|                                                                                                                 | 0.00/719k [00:00<?, ?B/s]"
     ]
    },
    {
     "name": "stdout",
     "output_type": "stream",
     "text": [
      "[######################                  ] | 55% Completed |  4.3s"
     ]
    },
    {
     "name": "stderr",
     "output_type": "stream",
     "text": [
      "  1%|█▏                                                                                                      | 8.00k/719k [00:00<00:24, 29.4kB/s]"
     ]
    },
    {
     "name": "stdout",
     "output_type": "stream",
     "text": [
      "[######################                  ] | 55% Completed |  4.6s"
     ]
    },
    {
     "name": "stderr",
     "output_type": "stream",
     "text": [
      "  5%|████▉                                                                                                   | 34.0k/719k [00:00<00:10, 67.3kB/s]"
     ]
    },
    {
     "name": "stdout",
     "output_type": "stream",
     "text": [
      "[######################                  ] | 55% Completed |  4.8s"
     ]
    },
    {
     "name": "stderr",
     "output_type": "stream",
     "text": [
      " 13%|█████████████▊                                                                                           | 95.0k/719k [00:00<00:04, 138kB/s]"
     ]
    },
    {
     "name": "stdout",
     "output_type": "stream",
     "text": [
      "[######################                  ] | 55% Completed |  5.1s"
     ]
    },
    {
     "name": "stderr",
     "output_type": "stream",
     "text": [
      " 28%|█████████████████████████████▍                                                                            | 200k/719k [00:01<00:02, 233kB/s]"
     ]
    },
    {
     "name": "stdout",
     "output_type": "stream",
     "text": [
      "[######################                  ] | 55% Completed |  5.4s"
     ]
    },
    {
     "name": "stderr",
     "output_type": "stream",
     "text": [
      " 59%|██████████████████████████████████████████████████████████████▏                                           | 422k/719k [00:01<00:00, 438kB/s]"
     ]
    },
    {
     "name": "stdout",
     "output_type": "stream",
     "text": [
      "[######################                  ] | 55% Completed |  5.5s"
     ]
    },
    {
     "name": "stderr",
     "output_type": "stream",
     "text": [
      "2022-03-14 10:55:44,853 INFO Download rate 393.2K/s                                                                                              \n"
     ]
    },
    {
     "name": "stdout",
     "output_type": "stream",
     "text": [
      "[######################                  ] | 55% Completed |  5.8s\n",
      "/media/nicolasf/END19101/ICU/data/CDS/operational/hindcasts/JMA/TPRATE/ensemble_seas_forecasts_tprate_from_2005_03_JMA.netcdf downloaded OK\n",
      "\n",
      "[##########################              ] | 66% Completed |  6.2s"
     ]
    },
    {
     "name": "stderr",
     "output_type": "stream",
     "text": [
      "2022-03-14 10:55:45,560 INFO Request is failed\n",
      "2022-03-14 10:55:45,562 ERROR Message: an internal error occurred processing your request\n",
      "2022-03-14 10:55:45,564 ERROR Reason:  [Errno 13] Permission denied: '/cache/tmp'\n",
      "2022-03-14 10:55:45,565 ERROR   Traceback (most recent call last):\n",
      "2022-03-14 10:55:45,567 ERROR     File \"/usr/lib64/python3.6/os.py\", line 220, in makedirs\n",
      "2022-03-14 10:55:45,568 ERROR       mkdir(name, mode)\n",
      "2022-03-14 10:55:45,570 ERROR   FileExistsError: [Errno 17] File exists: '/cache/tmp'\n",
      "2022-03-14 10:55:45,581 INFO Request is completed\n",
      "2022-03-14 10:55:45,583 INFO Downloading https://download-0002.copernicus-climate.eu/cache-compute-0002/cache/data8/adaptor.mars.external-1647208544.3958786-4039-16-8042de36-7f03-42a7-afc1-6e167e8fd02e.nc to /media/nicolasf/END19101/ICU/data/CDS/operational/hindcasts/METEO_FRANCE/TPRATE/ensemble_seas_forecasts_tprate_from_2005_03_METEO_FRANCE.netcdf (2.7M)\n"
     ]
    },
    {
     "name": "stdout",
     "output_type": "stream",
     "text": [
      "\n",
      "failure to download or save /media/nicolasf/END19101/ICU/data/CDS/operational/hindcasts/ECCC_GEM_NEMO/TPRATE/ensemble_seas_forecasts_tprate_from_2005_03_ECCC.netcdf\n",
      "\n",
      "\n",
      "attempting to download tprate for GCM ECCC, for level surface, year 2005, month 3, in netcdf, attempt 2 of 3\n",
      "\n",
      "[##########################              ] | 66% Completed |  6.5s"
     ]
    },
    {
     "name": "stderr",
     "output_type": "stream",
     "text": [
      "2022-03-14 10:55:45,863 INFO Welcome to the CDS\n",
      "2022-03-14 10:55:45,864 INFO Sending request to https://cds.climate.copernicus.eu/api/v2/resources/seasonal-monthly-single-levels\n",
      "  0%|                                                                                                                | 0.00/2.73M [00:00<?, ?B/s]"
     ]
    },
    {
     "name": "stdout",
     "output_type": "stream",
     "text": [
      "[##########################              ] | 66% Completed |  6.8s"
     ]
    },
    {
     "name": "stderr",
     "output_type": "stream",
     "text": [
      "2022-03-14 10:55:46,159 INFO Request is queued\n",
      "  0%|▎                                                                                                      | 8.00k/2.73M [00:00<01:38, 28.9kB/s]"
     ]
    },
    {
     "name": "stdout",
     "output_type": "stream",
     "text": [
      "[##########################              ] | 66% Completed |  7.1s"
     ]
    },
    {
     "name": "stderr",
     "output_type": "stream",
     "text": [
      "  1%|█▍                                                                                                     | 40.0k/2.73M [00:00<00:35, 79.3kB/s]2022-03-14 10:55:46,518 INFO Request is running\n"
     ]
    },
    {
     "name": "stdout",
     "output_type": "stream",
     "text": [
      "[##########################              ] | 66% Completed |  7.4s"
     ]
    },
    {
     "name": "stderr",
     "output_type": "stream",
     "text": [
      "  3%|███▌                                                                                                    | 96.0k/2.73M [00:00<00:20, 134kB/s]"
     ]
    },
    {
     "name": "stdout",
     "output_type": "stream",
     "text": [
      "[##########################              ] | 66% Completed |  7.6s"
     ]
    },
    {
     "name": "stderr",
     "output_type": "stream",
     "text": [
      "  7%|███████▌                                                                                                 | 202k/2.73M [00:01<00:11, 231kB/s]"
     ]
    },
    {
     "name": "stdout",
     "output_type": "stream",
     "text": [
      "[##########################              ] | 66% Completed |  7.9s"
     ]
    },
    {
     "name": "stderr",
     "output_type": "stream",
     "text": [
      " 15%|████████████████                                                                                         | 427k/2.73M [00:01<00:05, 437kB/s]"
     ]
    },
    {
     "name": "stdout",
     "output_type": "stream",
     "text": [
      "[##########################              ] | 66% Completed |  8.2s"
     ]
    },
    {
     "name": "stderr",
     "output_type": "stream",
     "text": [
      " 31%|████████████████████████████████▌                                                                        | 864k/2.73M [00:01<00:02, 819kB/s]"
     ]
    },
    {
     "name": "stdout",
     "output_type": "stream",
     "text": [
      "[##########################              ] | 66% Completed |  8.5s"
     ]
    },
    {
     "name": "stderr",
     "output_type": "stream",
     "text": [
      " 61%|██████████████████████████████████████████████████████████████▉                                        | 1.67M/2.73M [00:02<00:00, 1.48MB/s]"
     ]
    },
    {
     "name": "stdout",
     "output_type": "stream",
     "text": [
      "[##########################              ] | 66% Completed |  8.7s"
     ]
    },
    {
     "name": "stderr",
     "output_type": "stream",
     "text": [
      "2022-03-14 10:55:48,097 INFO Download rate 1.1M/s                                                                                                \n"
     ]
    },
    {
     "name": "stdout",
     "output_type": "stream",
     "text": [
      "[##########################              ] | 66% Completed |  9.0s\n",
      "/media/nicolasf/END19101/ICU/data/CDS/operational/hindcasts/METEO_FRANCE/TPRATE/ensemble_seas_forecasts_tprate_from_2005_03_METEO_FRANCE.netcdf downloaded OK\n",
      "\n",
      "[###############################         ] | 77% Completed |  9.9s"
     ]
    },
    {
     "name": "stderr",
     "output_type": "stream",
     "text": [
      "2022-03-14 10:55:49,246 INFO Request is running\n"
     ]
    },
    {
     "name": "stdout",
     "output_type": "stream",
     "text": [
      "[###############################         ] | 77% Completed | 10.8s"
     ]
    },
    {
     "name": "stderr",
     "output_type": "stream",
     "text": [
      "2022-03-14 10:55:50,192 INFO Request is completed\n",
      "2022-03-14 10:55:50,194 INFO Downloading https://download-0011.copernicus-climate.eu/cache-compute-0011/cache/data2/adaptor.mars.external-1647208547.51125-26934-5-7366c021-adf3-4e46-bb3b-0b7faed0d765.nc to /media/nicolasf/END19101/ICU/data/CDS/operational/hindcasts/UKMO/TPRATE/ensemble_seas_forecasts_tprate_from_2005_03_UKMO.netcdf (3.1M)\n"
     ]
    },
    {
     "name": "stdout",
     "output_type": "stream",
     "text": [
      "[###############################         ] | 77% Completed | 11.1s"
     ]
    },
    {
     "name": "stderr",
     "output_type": "stream",
     "text": [
      "  0%|                                                                                                                | 0.00/3.05M [00:00<?, ?B/s]"
     ]
    },
    {
     "name": "stdout",
     "output_type": "stream",
     "text": [
      "[###############################         ] | 77% Completed | 11.4s"
     ]
    },
    {
     "name": "stderr",
     "output_type": "stream",
     "text": [
      "  0%|▎                                                                                                      | 8.00k/3.05M [00:00<01:49, 29.1kB/s]"
     ]
    },
    {
     "name": "stdout",
     "output_type": "stream",
     "text": [
      "[###############################         ] | 77% Completed | 11.7s"
     ]
    },
    {
     "name": "stderr",
     "output_type": "stream",
     "text": [
      "  1%|█                                                                                                      | 34.0k/3.05M [00:00<00:47, 66.7kB/s]"
     ]
    },
    {
     "name": "stdout",
     "output_type": "stream",
     "text": [
      "[###############################         ] | 77% Completed | 12.0s"
     ]
    },
    {
     "name": "stderr",
     "output_type": "stream",
     "text": [
      "  3%|██▉                                                                                                     | 90.0k/3.05M [00:00<00:24, 128kB/s]"
     ]
    },
    {
     "name": "stdout",
     "output_type": "stream",
     "text": [
      "[###############################         ] | 77% Completed | 12.3s"
     ]
    },
    {
     "name": "stderr",
     "output_type": "stream",
     "text": [
      "  6%|██████▊                                                                                                  | 201k/3.05M [00:01<00:12, 233kB/s]"
     ]
    },
    {
     "name": "stdout",
     "output_type": "stream",
     "text": [
      "[###############################         ] | 77% Completed | 12.4s"
     ]
    },
    {
     "name": "stderr",
     "output_type": "stream",
     "text": [
      "2022-03-14 10:55:51,794 INFO Request is completed\n",
      "2022-03-14 10:55:51,794 INFO Downloading https://download-0008.copernicus-climate.eu/cache-compute-0008/cache/data3/adaptor.mars.external-1647208549.5338995-32288-4-651d3a22-26a7-4892-b38d-630c69187a4b.nc to /media/nicolasf/END19101/ICU/data/CDS/operational/hindcasts/ECCC_GEM_NEMO/TPRATE/ensemble_seas_forecasts_tprate_from_2005_03_ECCC.netcdf (1.1M)\n"
     ]
    },
    {
     "name": "stdout",
     "output_type": "stream",
     "text": [
      "[###############################         ] | 77% Completed | 12.6s"
     ]
    },
    {
     "name": "stderr",
     "output_type": "stream",
     "text": [
      " 14%|██████████████▏                                                                                          | 422k/3.05M [00:01<00:06, 430kB/s]"
     ]
    },
    {
     "name": "stdout",
     "output_type": "stream",
     "text": [
      "[###############################         ] | 77% Completed | 12.7s"
     ]
    },
    {
     "name": "stderr",
     "output_type": "stream",
     "text": [
      "\n",
      "  0%|                                                                                                                | 0.00/1.09M [00:00<?, ?B/s]\u001b[A"
     ]
    },
    {
     "name": "stdout",
     "output_type": "stream",
     "text": [
      "[###############################         ] | 77% Completed | 12.9s"
     ]
    },
    {
     "name": "stderr",
     "output_type": "stream",
     "text": [
      " 28%|█████████████████████████████                                                                            | 864k/3.05M [00:01<00:02, 807kB/s]"
     ]
    },
    {
     "name": "stdout",
     "output_type": "stream",
     "text": [
      "[###############################         ] | 77% Completed | 13.0s"
     ]
    },
    {
     "name": "stderr",
     "output_type": "stream",
     "text": [
      "\n",
      "  1%|▋                                                                                                      | 8.00k/1.09M [00:00<00:38, 29.6kB/s]\u001b[A"
     ]
    },
    {
     "name": "stdout",
     "output_type": "stream",
     "text": [
      "[###############################         ] | 77% Completed | 13.2s"
     ]
    },
    {
     "name": "stderr",
     "output_type": "stream",
     "text": [
      " 36%|█████████████████████████████████████▏                                                                  | 1.09M/3.05M [00:02<00:02, 820kB/s]"
     ]
    },
    {
     "name": "stdout",
     "output_type": "stream",
     "text": [
      "[###############################         ] | 77% Completed | 13.3s"
     ]
    },
    {
     "name": "stderr",
     "output_type": "stream",
     "text": [
      "\n",
      "  3%|███▏                                                                                                   | 34.0k/1.09M [00:00<00:16, 67.7kB/s]\u001b[A"
     ]
    },
    {
     "name": "stdout",
     "output_type": "stream",
     "text": [
      "[###############################         ] | 77% Completed | 13.4s"
     ]
    },
    {
     "name": "stderr",
     "output_type": "stream",
     "text": [
      " 62%|███████████████████████████████████████████████████████████████▊                                       | 1.89M/3.05M [00:02<00:00, 1.47MB/s]"
     ]
    },
    {
     "name": "stdout",
     "output_type": "stream",
     "text": [
      "[###############################         ] | 77% Completed | 13.5s"
     ]
    },
    {
     "name": "stderr",
     "output_type": "stream",
     "text": [
      "\n",
      "  8%|████████▍                                                                                               | 90.0k/1.09M [00:00<00:08, 129kB/s]\u001b[A"
     ]
    },
    {
     "name": "stdout",
     "output_type": "stream",
     "text": [
      "[###############################         ] | 77% Completed | 13.7s"
     ]
    },
    {
     "name": "stderr",
     "output_type": "stream",
     "text": [
      " 96%|███████████████████████████████████████████████████████████████████████████████████████████████████    | 2.93M/3.05M [00:02<00:00, 2.19MB/s]"
     ]
    },
    {
     "name": "stdout",
     "output_type": "stream",
     "text": [
      "[###############################         ] | 77% Completed | 13.8s"
     ]
    },
    {
     "name": "stderr",
     "output_type": "stream",
     "text": [
      "\n",
      "2022-03-14 10:55:53,244 INFO Download rate 1M/s                                                                                                  \u001b[A\n"
     ]
    },
    {
     "name": "stdout",
     "output_type": "stream",
     "text": [
      "[###############################         ] | 77% Completed | 14.1s"
     ]
    },
    {
     "name": "stderr",
     "output_type": "stream",
     "text": [
      "\n",
      " 38%|███████████████████████████████████████▋                                                                 | 422k/1.09M [00:01<00:01, 438kB/s]\u001b[A"
     ]
    },
    {
     "name": "stdout",
     "output_type": "stream",
     "text": [
      "\n",
      "/media/nicolasf/END19101/ICU/data/CDS/operational/hindcasts/UKMO/TPRATE/ensemble_seas_forecasts_tprate_from_2005_03_UKMO.netcdf downloaded OK\n",
      "\n",
      "[###################################     ] | 88% Completed | 14.4s"
     ]
    },
    {
     "name": "stderr",
     "output_type": "stream",
     "text": [
      "\n",
      " 77%|█████████████████████████████████████████████████████████████████████████████████▏                       | 864k/1.09M [00:01<00:00, 831kB/s]\u001b[A"
     ]
    },
    {
     "name": "stdout",
     "output_type": "stream",
     "text": [
      "[###################################     ] | 88% Completed | 14.5s"
     ]
    },
    {
     "name": "stderr",
     "output_type": "stream",
     "text": [
      "\n",
      "                                                                                                                                                 \u001b[A2022-03-14 10:55:53,908 INFO Download rate 528.8K/s\n"
     ]
    },
    {
     "name": "stdout",
     "output_type": "stream",
     "text": [
      "[###################################     ] | 88% Completed | 14.8s\n",
      "/media/nicolasf/END19101/ICU/data/CDS/operational/hindcasts/ECCC_GEM_NEMO/TPRATE/ensemble_seas_forecasts_tprate_from_2005_03_ECCC.netcdf downloaded OK\n",
      "\n",
      "[########################################] | 100% Completed | 14.9s\n",
      "processing ECCC, path should be /media/nicolasf/END19101/ICU/data/CDS/operational/hindcasts/ECCC_CanCM4i/TPRATE\n",
      "processing ECCC, path should be /media/nicolasf/END19101/ICU/data/CDS/operational/hindcasts/ECCC_GEM_NEMO/TPRATE\n",
      "[                                        ] | 0% Completed |  0.0s\n",
      "/media/nicolasf/END19101/ICU/data/CDS/operational/hindcasts/ECCC_CanCM4i/TPRATE/ensemble_seas_forecasts_tprate_from_2006_03_ECCC.netcdf exists already on disk, skipping download and returning path\n",
      "\n",
      "\n",
      "attempting to download tprate for GCM UKMO, for level surface, year 2006, month 3, in netcdf, attempt 1 of 3\n",
      "\n",
      "\n",
      "attempting to download tprate for GCM ECCC, for level surface, year 2006, month 3, in netcdf, attempt 1 of 3\n",
      "\n",
      "\n",
      "attempting to download tprate for GCM METEO_FRANCE, for level surface, year 2006, month 3, in netcdf, attempt 1 of 3\n",
      "\n",
      "\n",
      "attempting to download tprate for GCM JMA, for level surface, year 2006, month 3, in netcdf, attempt 1 of 3\n",
      "\n",
      "\n",
      "/media/nicolasf/END19101/ICU/data/CDS/operational/hindcasts/DWD/TPRATE/ensemble_seas_forecasts_tprate_from_2006_03_DWD.netcdf exists already on disk, skipping download and returning path\n",
      "\n",
      "\n",
      "/media/nicolasf/END19101/ICU/data/CDS/operational/hindcasts/NCEP/TPRATE/ensemble_seas_forecasts_tprate_from_2006_03_NCEP.netcdf exists already on disk, skipping download and returning path\n",
      "\n",
      "\n",
      "/media/nicolasf/END19101/ICU/data/CDS/operational/hindcasts/CMCC/TPRATE/ensemble_seas_forecasts_tprate_from_2006_03_CMCC.netcdf exists already on disk, skipping download and returning path\n",
      "\n",
      "/media/nicolasf/END19101/ICU/data/CDS/operational/hindcasts/ECMWF/TPRATE/ensemble_seas_forecasts_tprate_from_2006_03_ECMWF.netcdf exists already on disk, skipping download and returning path\n",
      "\n",
      "\n",
      "[######################                  ] | 55% Completed |  0.2s"
     ]
    },
    {
     "name": "stderr",
     "output_type": "stream",
     "text": [
      "2022-03-14 10:55:54,579 INFO Welcome to the CDS\n",
      "2022-03-14 10:55:54,581 INFO Sending request to https://cds.climate.copernicus.eu/api/v2/resources/seasonal-monthly-single-levels\n"
     ]
    },
    {
     "name": "stdout",
     "output_type": "stream",
     "text": [
      "[######################                  ] | 55% Completed |  0.3s"
     ]
    },
    {
     "name": "stderr",
     "output_type": "stream",
     "text": [
      "2022-03-14 10:55:54,587 INFO Welcome to the CDS\n",
      "2022-03-14 10:55:54,590 INFO Welcome to the CDS\n",
      "2022-03-14 10:55:54,591 INFO Welcome to the CDS\n",
      "2022-03-14 10:55:54,594 INFO Sending request to https://cds.climate.copernicus.eu/api/v2/resources/seasonal-monthly-single-levels\n",
      "2022-03-14 10:55:54,600 INFO Sending request to https://cds.climate.copernicus.eu/api/v2/resources/seasonal-monthly-single-levels\n",
      "2022-03-14 10:55:54,602 INFO Sending request to https://cds.climate.copernicus.eu/api/v2/resources/seasonal-monthly-single-levels\n"
     ]
    },
    {
     "name": "stdout",
     "output_type": "stream",
     "text": [
      "[######################                  ] | 55% Completed |  0.5s"
     ]
    },
    {
     "name": "stderr",
     "output_type": "stream",
     "text": [
      "2022-03-14 10:55:54,885 INFO Request is queued\n"
     ]
    },
    {
     "name": "stdout",
     "output_type": "stream",
     "text": [
      "[######################                  ] | 55% Completed |  0.6s"
     ]
    },
    {
     "name": "stderr",
     "output_type": "stream",
     "text": [
      "2022-03-14 10:55:54,913 INFO Request is queued\n",
      "2022-03-14 10:55:54,915 INFO Request is queued\n",
      "2022-03-14 10:55:54,934 INFO Request is queued\n"
     ]
    },
    {
     "name": "stdout",
     "output_type": "stream",
     "text": [
      "[######################                  ] | 55% Completed |  1.9s"
     ]
    },
    {
     "name": "stderr",
     "output_type": "stream",
     "text": [
      "2022-03-14 10:55:56,186 INFO Request is running\n"
     ]
    },
    {
     "name": "stdout",
     "output_type": "stream",
     "text": [
      "[######################                  ] | 55% Completed |  6.2s"
     ]
    },
    {
     "name": "stderr",
     "output_type": "stream",
     "text": [
      "2022-03-14 10:56:00,532 INFO Request is completed\n",
      "2022-03-14 10:56:00,534 INFO Downloading https://download-0012.copernicus-climate.eu/cache-compute-0012/cache/data4/adaptor.mars.external-1647208557.295977-26723-14-8e127cf4-2563-4339-9220-0f61dd387e11.nc to /media/nicolasf/END19101/ICU/data/CDS/operational/hindcasts/UKMO/TPRATE/ensemble_seas_forecasts_tprate_from_2006_03_UKMO.netcdf (3.1M)\n",
      "2022-03-14 10:56:00,549 INFO Request is running\n",
      "2022-03-14 10:56:00,553 INFO Request is completed\n",
      "2022-03-14 10:56:00,555 INFO Downloading https://download-0003.copernicus-climate.eu/cache-compute-0003/cache/data1/adaptor.mars.external-1647208559.1362398-13809-16-61dfaa1d-c899-4beb-8f7e-f58a3644c256.nc to /media/nicolasf/END19101/ICU/data/CDS/operational/hindcasts/JMA/TPRATE/ensemble_seas_forecasts_tprate_from_2006_03_JMA.netcdf (719.2K)\n"
     ]
    },
    {
     "name": "stdout",
     "output_type": "stream",
     "text": [
      "[######################                  ] | 55% Completed |  7.4s"
     ]
    },
    {
     "name": "stderr",
     "output_type": "stream",
     "text": [
      "  0%|                                                                                                                 | 0.00/719k [00:00<?, ?B/s]"
     ]
    },
    {
     "name": "stdout",
     "output_type": "stream",
     "text": [
      "[######################                  ] | 55% Completed |  7.7s"
     ]
    },
    {
     "name": "stderr",
     "output_type": "stream",
     "text": [
      "  2%|██▎                                                                                                     | 16.0k/719k [00:00<00:12, 58.6kB/s]\n",
      "  0%|                                                                                                                | 0.00/3.05M [00:00<?, ?B/s]\u001b[A"
     ]
    },
    {
     "name": "stdout",
     "output_type": "stream",
     "text": [
      "[######################                  ] | 55% Completed |  8.0s"
     ]
    },
    {
     "name": "stderr",
     "output_type": "stream",
     "text": [
      "  8%|████████▍                                                                                                | 58.0k/719k [00:00<00:05, 114kB/s]\n",
      "  1%|▌                                                                                                      | 16.0k/3.05M [00:00<00:54, 58.0kB/s]\u001b[A"
     ]
    },
    {
     "name": "stdout",
     "output_type": "stream",
     "text": [
      "[######################                  ] | 55% Completed |  8.4s"
     ]
    },
    {
     "name": "stderr",
     "output_type": "stream",
     "text": [
      " 16%|████████████████▋                                                                                         | 113k/719k [00:00<00:04, 153kB/s]\n",
      "  2%|██▏                                                                                                     | 64.0k/3.05M [00:00<00:24, 125kB/s]\u001b[A"
     ]
    },
    {
     "name": "stdout",
     "output_type": "stream",
     "text": [
      "[######################                  ] | 55% Completed |  8.6s"
     ]
    },
    {
     "name": "stderr",
     "output_type": "stream",
     "text": [
      " 35%|█████████████████████████████████████▍                                                                    | 254k/719k [00:01<00:01, 294kB/s]"
     ]
    },
    {
     "name": "stdout",
     "output_type": "stream",
     "text": [
      "[######################                  ] | 55% Completed |  8.7s"
     ]
    },
    {
     "name": "stderr",
     "output_type": "stream",
     "text": [
      "\n",
      "  4%|████▎                                                                                                    | 127k/3.05M [00:00<00:17, 171kB/s]\u001b[A"
     ]
    },
    {
     "name": "stdout",
     "output_type": "stream",
     "text": [
      "[######################                  ] | 55% Completed |  8.9s"
     ]
    },
    {
     "name": "stderr",
     "output_type": "stream",
     "text": [
      " 74%|██████████████████████████████████████████████████████████████████████████████▎                           | 531k/719k [00:01<00:00, 549kB/s]\n",
      "  9%|█████████                                                                                                | 270k/3.05M [00:01<00:09, 307kB/s]\u001b[A"
     ]
    },
    {
     "name": "stdout",
     "output_type": "stream",
     "text": [
      "[######################                  ] | 55% Completed |  9.0s"
     ]
    },
    {
     "name": "stderr",
     "output_type": "stream",
     "text": [
      "2022-03-14 10:56:03,312 INFO Download rate 261K/s                                                                                                \n"
     ]
    },
    {
     "name": "stdout",
     "output_type": "stream",
     "text": [
      "[######################                  ] | 55% Completed |  9.2s"
     ]
    },
    {
     "name": "stderr",
     "output_type": "stream",
     "text": [
      "\n",
      " 18%|███████████████████▏                                                                                     | 571k/3.05M [00:01<00:04, 586kB/s]\u001b[A"
     ]
    },
    {
     "name": "stdout",
     "output_type": "stream",
     "text": [
      "[######################                  ] | 55% Completed |  9.3s\n",
      "/media/nicolasf/END19101/ICU/data/CDS/operational/hindcasts/JMA/TPRATE/ensemble_seas_forecasts_tprate_from_2006_03_JMA.netcdf downloaded OK\n",
      "\n",
      "[##########################              ] | 66% Completed |  9.5s"
     ]
    },
    {
     "name": "stderr",
     "output_type": "stream",
     "text": [
      "\n",
      " 36%|████████████████████████████████████▌                                                                  | 1.08M/3.05M [00:01<00:01, 1.05MB/s]\u001b[A"
     ]
    },
    {
     "name": "stdout",
     "output_type": "stream",
     "text": [
      "[##########################              ] | 66% Completed |  9.8s"
     ]
    },
    {
     "name": "stderr",
     "output_type": "stream",
     "text": [
      "\n",
      " 64%|██████████████████████████████████████████████████████████████████▏                                    | 1.96M/3.05M [00:02<00:00, 1.66MB/s]\u001b[A"
     ]
    },
    {
     "name": "stdout",
     "output_type": "stream",
     "text": [
      "[##########################              ] | 66% Completed |  9.9s"
     ]
    },
    {
     "name": "stderr",
     "output_type": "stream",
     "text": [
      "2022-03-14 10:56:04,216 INFO Request is completed\n",
      "2022-03-14 10:56:04,217 INFO Downloading https://download-0003.copernicus-climate.eu/cache-compute-0003/cache/data5/adaptor.mars.external-1647208560.9135878-14354-7-7ebf1007-3d41-49ff-bb90-30118e5e464b.nc to /media/nicolasf/END19101/ICU/data/CDS/operational/hindcasts/ECCC_GEM_NEMO/TPRATE/ensemble_seas_forecasts_tprate_from_2006_03_ECCC.netcdf (1.1M)\n",
      "2022-03-14 10:56:04,237 INFO Request is running\n",
      "\n",
      "                                                                                                                                                 \u001b[A2022-03-14 10:56:04,253 INFO Download rate 840.7K/s\n"
     ]
    },
    {
     "name": "stdout",
     "output_type": "stream",
     "text": [
      "[##########################              ] | 66% Completed | 10.2s"
     ]
    },
    {
     "name": "stderr",
     "output_type": "stream",
     "text": [
      "  0%|                                                                                                                | 0.00/1.09M [00:00<?, ?B/s]"
     ]
    },
    {
     "name": "stdout",
     "output_type": "stream",
     "text": [
      "\n",
      "/media/nicolasf/END19101/ICU/data/CDS/operational/hindcasts/UKMO/TPRATE/ensemble_seas_forecasts_tprate_from_2006_03_UKMO.netcdf downloaded OK\n",
      "\n",
      "[###############################         ] | 77% Completed | 10.5s"
     ]
    },
    {
     "name": "stderr",
     "output_type": "stream",
     "text": [
      " 15%|███████████████▋                                                                                         | 167k/1.09M [00:00<00:01, 606kB/s]"
     ]
    },
    {
     "name": "stdout",
     "output_type": "stream",
     "text": [
      "[###############################         ] | 77% Completed | 11.0s"
     ]
    },
    {
     "name": "stderr",
     "output_type": "stream",
     "text": [
      " 39%|████████████████████████████████████████▉                                                                | 436k/1.09M [00:00<00:01, 515kB/s]"
     ]
    },
    {
     "name": "stdout",
     "output_type": "stream",
     "text": [
      "[###############################         ] | 77% Completed | 11.2s"
     ]
    },
    {
     "name": "stderr",
     "output_type": "stream",
     "text": [
      "2022-03-14 10:56:05,501 INFO Download rate 871K/s                                                                                                \n"
     ]
    },
    {
     "name": "stdout",
     "output_type": "stream",
     "text": [
      "[###############################         ] | 77% Completed | 11.5s\n",
      "/media/nicolasf/END19101/ICU/data/CDS/operational/hindcasts/ECCC_GEM_NEMO/TPRATE/ensemble_seas_forecasts_tprate_from_2006_03_ECCC.netcdf downloaded OK\n",
      "\n",
      "[###################################     ] | 88% Completed | 15.3s"
     ]
    },
    {
     "name": "stderr",
     "output_type": "stream",
     "text": [
      "2022-03-14 10:56:09,593 INFO Request is completed\n",
      "2022-03-14 10:56:09,594 INFO Downloading https://download-0006.copernicus-climate.eu/cache-compute-0006/cache/data5/adaptor.mars.external-1647208564.6032345-15610-7-05dbde05-3933-42d4-b95c-a22ce676676b.nc to /media/nicolasf/END19101/ICU/data/CDS/operational/hindcasts/METEO_FRANCE/TPRATE/ensemble_seas_forecasts_tprate_from_2006_03_METEO_FRANCE.netcdf (2.7M)\n"
     ]
    },
    {
     "name": "stdout",
     "output_type": "stream",
     "text": [
      "[###################################     ] | 88% Completed | 15.6s"
     ]
    },
    {
     "name": "stderr",
     "output_type": "stream",
     "text": [
      "  0%|                                                                                                                | 0.00/2.73M [00:00<?, ?B/s]"
     ]
    },
    {
     "name": "stdout",
     "output_type": "stream",
     "text": [
      "[###################################     ] | 88% Completed | 15.9s"
     ]
    },
    {
     "name": "stderr",
     "output_type": "stream",
     "text": [
      "  0%|▎                                                                                                      | 8.00k/2.73M [00:00<01:40, 28.4kB/s]"
     ]
    },
    {
     "name": "stdout",
     "output_type": "stream",
     "text": [
      "[###################################     ] | 88% Completed | 16.2s"
     ]
    },
    {
     "name": "stderr",
     "output_type": "stream",
     "text": [
      "  1%|█▎                                                                                                     | 34.0k/2.73M [00:00<00:42, 65.8kB/s]"
     ]
    },
    {
     "name": "stdout",
     "output_type": "stream",
     "text": [
      "[###################################     ] | 88% Completed | 16.5s"
     ]
    },
    {
     "name": "stderr",
     "output_type": "stream",
     "text": [
      "  3%|███▌                                                                                                    | 95.0k/2.73M [00:00<00:20, 134kB/s]"
     ]
    },
    {
     "name": "stdout",
     "output_type": "stream",
     "text": [
      "[###################################     ] | 88% Completed | 16.7s"
     ]
    },
    {
     "name": "stderr",
     "output_type": "stream",
     "text": [
      "  7%|███████▌                                                                                                 | 201k/2.73M [00:01<00:11, 229kB/s]"
     ]
    },
    {
     "name": "stdout",
     "output_type": "stream",
     "text": [
      "[###################################     ] | 88% Completed | 17.0s"
     ]
    },
    {
     "name": "stderr",
     "output_type": "stream",
     "text": [
      " 15%|███████████████▉                                                                                         | 422k/2.73M [00:01<00:05, 428kB/s]"
     ]
    },
    {
     "name": "stdout",
     "output_type": "stream",
     "text": [
      "[###################################     ] | 88% Completed | 17.3s"
     ]
    },
    {
     "name": "stderr",
     "output_type": "stream",
     "text": [
      " 31%|████████████████████████████████▌                                                                        | 864k/2.73M [00:01<00:02, 813kB/s]"
     ]
    },
    {
     "name": "stdout",
     "output_type": "stream",
     "text": [
      "[###################################     ] | 88% Completed | 17.6s"
     ]
    },
    {
     "name": "stderr",
     "output_type": "stream",
     "text": [
      " 63%|████████████████████████████████████████████████████████████████▍                                      | 1.70M/2.73M [00:02<00:00, 1.57MB/s]"
     ]
    },
    {
     "name": "stdout",
     "output_type": "stream",
     "text": [
      "[###################################     ] | 88% Completed | 18.4s"
     ]
    },
    {
     "name": "stderr",
     "output_type": "stream",
     "text": [
      " 96%|███████████████████████████████████████████████████████████████████████████████████████████████████    | 2.62M/2.73M [00:02<00:00, 1.34MB/s]"
     ]
    },
    {
     "name": "stdout",
     "output_type": "stream",
     "text": [
      "[###################################     ] | 88% Completed | 21.9s"
     ]
    },
    {
     "name": "stderr",
     "output_type": "stream",
     "text": [
      "2022-03-14 10:56:16,249 INFO Download rate 419.3K/s                                                                                              \n"
     ]
    },
    {
     "name": "stdout",
     "output_type": "stream",
     "text": [
      "[###################################     ] | 88% Completed | 22.2s\n",
      "/media/nicolasf/END19101/ICU/data/CDS/operational/hindcasts/METEO_FRANCE/TPRATE/ensemble_seas_forecasts_tprate_from_2006_03_METEO_FRANCE.netcdf downloaded OK\n",
      "\n",
      "[########################################] | 100% Completed | 22.3s\n",
      "processing ECCC, path should be /media/nicolasf/END19101/ICU/data/CDS/operational/hindcasts/ECCC_CanCM4i/TPRATE\n",
      "processing ECCC, path should be /media/nicolasf/END19101/ICU/data/CDS/operational/hindcasts/ECCC_GEM_NEMO/TPRATE\n",
      "[                                        ] | 0% Completed |  0.0s\n",
      "attempting to download tprate for GCM METEO_FRANCE, for level surface, year 2007, month 3, in netcdf, attempt 1 of 3\n",
      "\n",
      "/media/nicolasf/END19101/ICU/data/CDS/operational/hindcasts/DWD/TPRATE/ensemble_seas_forecasts_tprate_from_2007_03_DWD.netcdf exists already on disk, skipping download and returning path\n",
      "\n",
      "\n",
      "/media/nicolasf/END19101/ICU/data/CDS/operational/hindcasts/ECCC_CanCM4i/TPRATE/ensemble_seas_forecasts_tprate_from_2007_03_ECCC.netcdf exists already on disk, skipping download and returning path\n",
      "\n",
      "\n",
      "attempting to download tprate for GCM ECCC, for level surface, year 2007, month 3, in netcdf, attempt 1 of 3\n",
      "\n",
      "\n",
      "\n",
      "/media/nicolasf/END19101/ICU/data/CDS/operational/hindcasts/NCEP/TPRATE/ensemble_seas_forecasts_tprate_from_2007_03_NCEP.netcdf exists already on disk, skipping download and returning path\n",
      "\n",
      "\n",
      "/media/nicolasf/END19101/ICU/data/CDS/operational/hindcasts/CMCC/TPRATE/ensemble_seas_forecasts_tprate_from_2007_03_CMCC.netcdf exists already on disk, skipping download and returning path\n",
      "\n",
      "\n",
      "attempting to download tprate for GCM JMA, for level surface, year 2007, month 3, in netcdf, attempt 1 of 3\n",
      "\n",
      "\n",
      "/media/nicolasf/END19101/ICU/data/CDS/operational/hindcasts/ECMWF/TPRATE/ensemble_seas_forecasts_tprate_from_2007_03_ECMWF.netcdf exists already on disk, skipping download and returning path\n",
      "\n",
      "\n",
      "attempting to download tprate for GCM UKMO, for level surface, year 2007, month 3, in netcdf, attempt 1 of 3\n",
      "\n",
      "[######################                  ] | 55% Completed |  0.2s"
     ]
    },
    {
     "name": "stderr",
     "output_type": "stream",
     "text": [
      "2022-03-14 10:56:16,941 INFO Welcome to the CDS\n",
      "2022-03-14 10:56:16,941 INFO Sending request to https://cds.climate.copernicus.eu/api/v2/resources/seasonal-monthly-single-levels\n"
     ]
    },
    {
     "name": "stdout",
     "output_type": "stream",
     "text": [
      "[######################                  ] | 55% Completed |  0.3s"
     ]
    },
    {
     "name": "stderr",
     "output_type": "stream",
     "text": [
      "2022-03-14 10:56:16,947 INFO Welcome to the CDS\n",
      "2022-03-14 10:56:16,948 INFO Sending request to https://cds.climate.copernicus.eu/api/v2/resources/seasonal-monthly-single-levels\n",
      "2022-03-14 10:56:16,951 INFO Welcome to the CDS\n",
      "2022-03-14 10:56:16,951 INFO Sending request to https://cds.climate.copernicus.eu/api/v2/resources/seasonal-monthly-single-levels\n",
      "2022-03-14 10:56:16,963 INFO Welcome to the CDS\n",
      "2022-03-14 10:56:16,963 INFO Sending request to https://cds.climate.copernicus.eu/api/v2/resources/seasonal-monthly-single-levels\n"
     ]
    },
    {
     "name": "stdout",
     "output_type": "stream",
     "text": [
      "[######################                  ] | 55% Completed |  0.5s"
     ]
    },
    {
     "name": "stderr",
     "output_type": "stream",
     "text": [
      "2022-03-14 10:56:17,238 INFO Request is queued\n",
      "2022-03-14 10:56:17,238 INFO Request is queued\n",
      "2022-03-14 10:56:17,242 INFO Request is queued\n"
     ]
    },
    {
     "name": "stdout",
     "output_type": "stream",
     "text": [
      "[######################                  ] | 55% Completed |  1.5s"
     ]
    },
    {
     "name": "stderr",
     "output_type": "stream",
     "text": [
      "2022-03-14 10:56:18,183 INFO Request is queued\n"
     ]
    },
    {
     "name": "stdout",
     "output_type": "stream",
     "text": [
      "[######################                  ] | 55% Completed |  1.8s"
     ]
    },
    {
     "name": "stderr",
     "output_type": "stream",
     "text": [
      "2022-03-14 10:56:18,532 INFO Request is running\n"
     ]
    },
    {
     "name": "stdout",
     "output_type": "stream",
     "text": [
      "[######################                  ] | 55% Completed |  3.7s"
     ]
    },
    {
     "name": "stderr",
     "output_type": "stream",
     "text": [
      "2022-03-14 10:56:20,327 INFO Request is completed\n",
      "2022-03-14 10:56:20,329 INFO Downloading https://download-0009.copernicus-climate.eu/cache-compute-0009/cache/data5/adaptor.mars.external-1647208579.3120291-12485-18-2615fd2b-bea1-4919-bd9f-92717733b4c8.nc to /media/nicolasf/END19101/ICU/data/CDS/operational/hindcasts/ECCC_GEM_NEMO/TPRATE/ensemble_seas_forecasts_tprate_from_2007_03_ECCC.netcdf (1.1M)\n",
      "2022-03-14 10:56:20,339 INFO Request is running\n"
     ]
    },
    {
     "name": "stdout",
     "output_type": "stream",
     "text": [
      "[######################                  ] | 55% Completed |  5.4s"
     ]
    },
    {
     "name": "stderr",
     "output_type": "stream",
     "text": [
      "  0%|                                                                                                                | 0.00/1.09M [00:00<?, ?B/s]"
     ]
    },
    {
     "name": "stdout",
     "output_type": "stream",
     "text": [
      "[######################                  ] | 55% Completed |  5.7s"
     ]
    },
    {
     "name": "stderr",
     "output_type": "stream",
     "text": [
      "  1%|█▍                                                                                                     | 16.0k/1.09M [00:00<00:19, 57.3kB/s]"
     ]
    },
    {
     "name": "stdout",
     "output_type": "stream",
     "text": [
      "[######################                  ] | 55% Completed |  6.0s"
     ]
    },
    {
     "name": "stderr",
     "output_type": "stream",
     "text": [
      "  6%|██████▌                                                                                                 | 70.0k/1.09M [00:00<00:07, 136kB/s]"
     ]
    },
    {
     "name": "stdout",
     "output_type": "stream",
     "text": [
      "[######################                  ] | 55% Completed |  6.3s"
     ]
    },
    {
     "name": "stderr",
     "output_type": "stream",
     "text": [
      " 12%|████████████▎                                                                                            | 131k/1.09M [00:00<00:05, 172kB/s]"
     ]
    },
    {
     "name": "stdout",
     "output_type": "stream",
     "text": [
      "[######################                  ] | 55% Completed |  6.6s"
     ]
    },
    {
     "name": "stderr",
     "output_type": "stream",
     "text": [
      " 26%|██████████████████████████▊                                                                              | 286k/1.09M [00:01<00:02, 319kB/s]"
     ]
    },
    {
     "name": "stdout",
     "output_type": "stream",
     "text": [
      "[######################                  ] | 55% Completed |  6.9s"
     ]
    },
    {
     "name": "stderr",
     "output_type": "stream",
     "text": [
      " 53%|███████████████████████████████████████████████████████▉                                                 | 595k/1.09M [00:01<00:00, 596kB/s]"
     ]
    },
    {
     "name": "stdout",
     "output_type": "stream",
     "text": [
      "[######################                  ] | 55% Completed |  7.0s"
     ]
    },
    {
     "name": "stderr",
     "output_type": "stream",
     "text": [
      "2022-03-14 10:56:23,690 INFO Download rate 332.7K/s                                                                                              \n"
     ]
    },
    {
     "name": "stdout",
     "output_type": "stream",
     "text": [
      "[######################                  ] | 55% Completed |  7.3s\n",
      "/media/nicolasf/END19101/ICU/data/CDS/operational/hindcasts/ECCC_GEM_NEMO/TPRATE/ensemble_seas_forecasts_tprate_from_2007_03_ECCC.netcdf downloaded OK\n",
      "\n",
      "[##########################              ] | 66% Completed |  9.9s"
     ]
    },
    {
     "name": "stderr",
     "output_type": "stream",
     "text": [
      "2022-03-14 10:56:26,562 INFO Request is completed\n",
      "2022-03-14 10:56:26,564 INFO Downloading https://download-0015.copernicus-climate.eu/cache-compute-0015/cache/data8/adaptor.mars.external-1647208583.1864853-2043-8-433b0601-107e-481f-99e8-b2a9ef6c3856.nc to /media/nicolasf/END19101/ICU/data/CDS/operational/hindcasts/METEO_FRANCE/TPRATE/ensemble_seas_forecasts_tprate_from_2007_03_METEO_FRANCE.netcdf (2.7M)\n"
     ]
    },
    {
     "name": "stdout",
     "output_type": "stream",
     "text": [
      "[##########################              ] | 66% Completed | 10.8s"
     ]
    },
    {
     "name": "stderr",
     "output_type": "stream",
     "text": [
      "2022-03-14 10:56:27,491 INFO Request is running\n"
     ]
    },
    {
     "name": "stdout",
     "output_type": "stream",
     "text": [
      "[##########################              ] | 66% Completed | 10.9s"
     ]
    },
    {
     "name": "stderr",
     "output_type": "stream",
     "text": [
      "2022-03-14 10:56:27,511 INFO Request is completed\n",
      "2022-03-14 10:56:27,513 INFO Downloading https://download-0005.copernicus-climate.eu/cache-compute-0005/cache/data0/adaptor.mars.external-1647208585.2379403-13079-16-ed3202fa-2521-43c3-a0e5-dd02532fc485.nc to /media/nicolasf/END19101/ICU/data/CDS/operational/hindcasts/JMA/TPRATE/ensemble_seas_forecasts_tprate_from_2007_03_JMA.netcdf (719.2K)\n"
     ]
    },
    {
     "name": "stdout",
     "output_type": "stream",
     "text": [
      "[##########################              ] | 66% Completed | 11.4s"
     ]
    },
    {
     "name": "stderr",
     "output_type": "stream",
     "text": [
      "  0%|                                                                                                                | 0.00/2.73M [00:00<?, ?B/s]"
     ]
    },
    {
     "name": "stdout",
     "output_type": "stream",
     "text": [
      "[##########################              ] | 66% Completed | 11.7s"
     ]
    },
    {
     "name": "stderr",
     "output_type": "stream",
     "text": [
      "  1%|▌                                                                                                      | 16.0k/2.73M [00:00<00:48, 58.8kB/s]"
     ]
    },
    {
     "name": "stdout",
     "output_type": "stream",
     "text": [
      "[##########################              ] | 66% Completed | 12.0s"
     ]
    },
    {
     "name": "stderr",
     "output_type": "stream",
     "text": [
      "  2%|██▍                                                                                                     | 64.0k/2.73M [00:00<00:22, 127kB/s]"
     ]
    },
    {
     "name": "stdout",
     "output_type": "stream",
     "text": [
      "[##########################              ] | 66% Completed | 12.3s"
     ]
    },
    {
     "name": "stderr",
     "output_type": "stream",
     "text": [
      "  5%|████▊                                                                                                    | 127k/2.73M [00:00<00:15, 173kB/s]"
     ]
    },
    {
     "name": "stdout",
     "output_type": "stream",
     "text": [
      "[##########################              ] | 66% Completed | 12.4s"
     ]
    },
    {
     "name": "stderr",
     "output_type": "stream",
     "text": [
      "\n",
      "  0%|                                                                                                                 | 0.00/719k [00:00<?, ?B/s]\u001b[A"
     ]
    },
    {
     "name": "stdout",
     "output_type": "stream",
     "text": [
      "[##########################              ] | 66% Completed | 12.6s"
     ]
    },
    {
     "name": "stderr",
     "output_type": "stream",
     "text": [
      " 10%|██████████▊                                                                                              | 286k/2.73M [00:01<00:07, 332kB/s]\n",
      "  2%|██▎                                                                                                     | 16.0k/719k [00:00<00:12, 58.4kB/s]\u001b[A"
     ]
    },
    {
     "name": "stdout",
     "output_type": "stream",
     "text": [
      "[##########################              ] | 66% Completed | 12.8s"
     ]
    },
    {
     "name": "stderr",
     "output_type": "stream",
     "text": [
      " 21%|██████████████████████▍                                                                                  | 595k/2.73M [00:01<00:03, 616kB/s]"
     ]
    },
    {
     "name": "stdout",
     "output_type": "stream",
     "text": [
      "[##########################              ] | 66% Completed | 12.9s"
     ]
    },
    {
     "name": "stderr",
     "output_type": "stream",
     "text": [
      "\n",
      "  9%|█████████▎                                                                                               | 64.0k/719k [00:00<00:05, 126kB/s]\u001b[A"
     ]
    },
    {
     "name": "stdout",
     "output_type": "stream",
     "text": [
      "[##########################              ] | 66% Completed | 13.1s"
     ]
    },
    {
     "name": "stderr",
     "output_type": "stream",
     "text": [
      " 44%|████████████████████████████████████████████▊                                                          | 1.19M/2.73M [00:01<00:01, 1.17MB/s]"
     ]
    },
    {
     "name": "stdout",
     "output_type": "stream",
     "text": [
      "[##########################              ] | 66% Completed | 13.2s"
     ]
    },
    {
     "name": "stderr",
     "output_type": "stream",
     "text": [
      "\n",
      " 18%|███████████████████                                                                                       | 129k/719k [00:00<00:03, 176kB/s]\u001b[A"
     ]
    },
    {
     "name": "stdout",
     "output_type": "stream",
     "text": [
      "[##########################              ] | 66% Completed | 13.4s"
     ]
    },
    {
     "name": "stderr",
     "output_type": "stream",
     "text": [
      " 78%|████████████████████████████████████████████████████████████████████████████████▊                      | 2.14M/2.73M [00:02<00:00, 1.88MB/s]"
     ]
    },
    {
     "name": "stdout",
     "output_type": "stream",
     "text": [
      "[##########################              ] | 66% Completed | 13.5s"
     ]
    },
    {
     "name": "stderr",
     "output_type": "stream",
     "text": [
      "\n",
      " 40%|██████████████████████████████████████████▏                                                               | 286k/719k [00:01<00:01, 330kB/s]\u001b[A"
     ]
    },
    {
     "name": "stdout",
     "output_type": "stream",
     "text": [
      "[##########################              ] | 66% Completed | 13.7s"
     ]
    },
    {
     "name": "stderr",
     "output_type": "stream",
     "text": [
      " 85%|███████████████████████████████████████████████████████████████████████████████████████▍               | 2.31M/2.73M [00:02<00:00, 1.53MB/s]\n",
      " 83%|███████████████████████████████████████████████████████████████████████████████████████▋                  | 595k/719k [00:01<00:00, 614kB/s]"
     ]
    },
    {
     "name": "stdout",
     "output_type": "stream",
     "text": [
      "[##########################              ] | 66% Completed | 13.8s"
     ]
    },
    {
     "name": "stderr",
     "output_type": "stream",
     "text": [
      "2022-03-14 10:56:30,510 INFO Download rate 707.5K/s                                                                                              \n"
     ]
    },
    {
     "name": "stdout",
     "output_type": "stream",
     "text": [
      "[##########################              ] | 66% Completed | 13.9s"
     ]
    },
    {
     "name": "stderr",
     "output_type": "stream",
     "text": [
      "\n",
      "                                                                                                                                                 \u001b[A2022-03-14 10:56:30,573 INFO Download rate 235.2K/s\n"
     ]
    },
    {
     "name": "stdout",
     "output_type": "stream",
     "text": [
      "[##########################              ] | 66% Completed | 14.1s\n",
      "/media/nicolasf/END19101/ICU/data/CDS/operational/hindcasts/METEO_FRANCE/TPRATE/ensemble_seas_forecasts_tprate_from_2007_03_METEO_FRANCE.netcdf downloaded OK\n",
      "\n",
      "[###############################         ] | 77% Completed | 14.2s\n",
      "/media/nicolasf/END19101/ICU/data/CDS/operational/hindcasts/JMA/TPRATE/ensemble_seas_forecasts_tprate_from_2007_03_JMA.netcdf downloaded OK\n",
      "\n",
      "[###################################     ] | 88% Completed | 16.2s"
     ]
    },
    {
     "name": "stderr",
     "output_type": "stream",
     "text": [
      "2022-03-14 10:56:32,854 INFO Request is completed\n",
      "2022-03-14 10:56:32,856 INFO Downloading https://download-0001.copernicus-climate.eu/cache-compute-0001/cache/data0/adaptor.mars.external-1647208588.501428-26523-1-2ae9a87a-d836-4dd1-bd18-995c52acea77.nc to /media/nicolasf/END19101/ICU/data/CDS/operational/hindcasts/UKMO/TPRATE/ensemble_seas_forecasts_tprate_from_2007_03_UKMO.netcdf (3.1M)\n"
     ]
    },
    {
     "name": "stdout",
     "output_type": "stream",
     "text": [
      "[###################################     ] | 88% Completed | 17.4s"
     ]
    },
    {
     "name": "stderr",
     "output_type": "stream",
     "text": [
      "  0%|                                                                                                                | 0.00/3.05M [00:00<?, ?B/s]"
     ]
    },
    {
     "name": "stdout",
     "output_type": "stream",
     "text": [
      "[###################################     ] | 88% Completed | 17.7s"
     ]
    },
    {
     "name": "stderr",
     "output_type": "stream",
     "text": [
      "  1%|▌                                                                                                      | 16.0k/3.05M [00:00<00:53, 59.4kB/s]"
     ]
    },
    {
     "name": "stdout",
     "output_type": "stream",
     "text": [
      "[###################################     ] | 88% Completed | 18.0s"
     ]
    },
    {
     "name": "stderr",
     "output_type": "stream",
     "text": [
      "  2%|██▏                                                                                                     | 66.0k/3.05M [00:00<00:23, 132kB/s]"
     ]
    },
    {
     "name": "stdout",
     "output_type": "stream",
     "text": [
      "[###################################     ] | 88% Completed | 18.2s"
     ]
    },
    {
     "name": "stderr",
     "output_type": "stream",
     "text": [
      "  5%|█████▍                                                                                                   | 162k/3.05M [00:00<00:13, 231kB/s]"
     ]
    },
    {
     "name": "stdout",
     "output_type": "stream",
     "text": [
      "[###################################     ] | 88% Completed | 18.5s"
     ]
    },
    {
     "name": "stderr",
     "output_type": "stream",
     "text": [
      " 10%|██████████▋                                                                                              | 318k/3.05M [00:01<00:07, 364kB/s]"
     ]
    },
    {
     "name": "stdout",
     "output_type": "stream",
     "text": [
      "[###################################     ] | 88% Completed | 18.8s"
     ]
    },
    {
     "name": "stderr",
     "output_type": "stream",
     "text": [
      " 21%|██████████████████████▍                                                                                  | 667k/3.05M [00:01<00:03, 691kB/s]"
     ]
    },
    {
     "name": "stdout",
     "output_type": "stream",
     "text": [
      "[###################################     ] | 88% Completed | 19.1s"
     ]
    },
    {
     "name": "stderr",
     "output_type": "stream",
     "text": [
      " 44%|████████████████████████████████████████████▉                                                          | 1.33M/3.05M [00:01<00:01, 1.32MB/s]"
     ]
    },
    {
     "name": "stdout",
     "output_type": "stream",
     "text": [
      "[###################################     ] | 88% Completed | 19.4s"
     ]
    },
    {
     "name": "stderr",
     "output_type": "stream",
     "text": [
      " 80%|██████████████████████████████████████████████████████████████████████████████████▍                    | 2.44M/3.05M [00:01<00:00, 2.16MB/s]"
     ]
    },
    {
     "name": "stdout",
     "output_type": "stream",
     "text": [
      "[###################################     ] | 88% Completed | 19.6s"
     ]
    },
    {
     "name": "stderr",
     "output_type": "stream",
     "text": [
      " 88%|██████████████████████████████████████████████████████████████████████████████████████████▊            | 2.69M/3.05M [00:02<00:00, 1.84MB/s]"
     ]
    },
    {
     "name": "stdout",
     "output_type": "stream",
     "text": [
      "[###################################     ] | 88% Completed | 19.8s"
     ]
    },
    {
     "name": "stderr",
     "output_type": "stream",
     "text": [
      "2022-03-14 10:56:36,452 INFO Download rate 869.4K/s                                                                                              \n"
     ]
    },
    {
     "name": "stdout",
     "output_type": "stream",
     "text": [
      "[###################################     ] | 88% Completed | 20.0s\n",
      "/media/nicolasf/END19101/ICU/data/CDS/operational/hindcasts/UKMO/TPRATE/ensemble_seas_forecasts_tprate_from_2007_03_UKMO.netcdf downloaded OK\n",
      "\n",
      "[########################################] | 100% Completed | 20.1s\n",
      "processing ECCC, path should be /media/nicolasf/END19101/ICU/data/CDS/operational/hindcasts/ECCC_CanCM4i/TPRATE\n",
      "processing ECCC, path should be /media/nicolasf/END19101/ICU/data/CDS/operational/hindcasts/ECCC_GEM_NEMO/TPRATE\n",
      "[                                        ] | 0% Completed |  0.0s\n",
      "attempting to download tprate for GCM ECCC, for level surface, year 2008, month 3, in netcdf, attempt 1 of 3\n",
      "\n",
      "attempting to download tprate for GCM JMA, for level surface, year 2008, month 3, in netcdf, attempt 1 of 3\n",
      "\n",
      "\n",
      "/media/nicolasf/END19101/ICU/data/CDS/operational/hindcasts/DWD/TPRATE/ensemble_seas_forecasts_tprate_from_2008_03_DWD.netcdf exists already on disk, skipping download and returning path\n",
      "\n",
      "\n",
      "/media/nicolasf/END19101/ICU/data/CDS/operational/hindcasts/ECMWF/TPRATE/ensemble_seas_forecasts_tprate_from_2008_03_ECMWF.netcdf exists already on disk, skipping download and returning path\n",
      "\n",
      "attempting to download tprate for GCM UKMO, for level surface, year 2008, month 3, in netcdf, attempt 1 of 3\n",
      "\n",
      "\n",
      "/media/nicolasf/END19101/ICU/data/CDS/operational/hindcasts/NCEP/TPRATE/ensemble_seas_forecasts_tprate_from_2008_03_NCEP.netcdf exists already on disk, skipping download and returning path\n",
      "\n",
      "\n",
      "/media/nicolasf/END19101/ICU/data/CDS/operational/hindcasts/ECCC_CanCM4i/TPRATE/ensemble_seas_forecasts_tprate_from_2008_03_ECCC.netcdf exists already on disk, skipping download and returning path\n",
      "\n",
      "\n",
      "\n",
      "attempting to download tprate for GCM METEO_FRANCE, for level surface, year 2008, month 3, in netcdf, attempt 1 of 3\n",
      "\n",
      "\n",
      "\n",
      "/media/nicolasf/END19101/ICU/data/CDS/operational/hindcasts/CMCC/TPRATE/ensemble_seas_forecasts_tprate_from_2008_03_CMCC.netcdf exists already on disk, skipping download and returning path\n",
      "\n",
      "[######################                  ] | 55% Completed |  0.2s"
     ]
    },
    {
     "name": "stderr",
     "output_type": "stream",
     "text": [
      "2022-03-14 10:56:37,045 INFO Welcome to the CDS\n",
      "2022-03-14 10:56:37,047 INFO Welcome to the CDS\n",
      "2022-03-14 10:56:37,048 INFO Sending request to https://cds.climate.copernicus.eu/api/v2/resources/seasonal-monthly-single-levels\n"
     ]
    },
    {
     "name": "stdout",
     "output_type": "stream",
     "text": [
      "[######################                  ] | 55% Completed |  0.3s"
     ]
    },
    {
     "name": "stderr",
     "output_type": "stream",
     "text": [
      "2022-03-14 10:56:37,050 INFO Welcome to the CDS\n",
      "2022-03-14 10:56:37,052 INFO Welcome to the CDS\n",
      "2022-03-14 10:56:37,054 INFO Sending request to https://cds.climate.copernicus.eu/api/v2/resources/seasonal-monthly-single-levels\n",
      "2022-03-14 10:56:37,066 INFO Sending request to https://cds.climate.copernicus.eu/api/v2/resources/seasonal-monthly-single-levels\n",
      "2022-03-14 10:56:37,067 INFO Sending request to https://cds.climate.copernicus.eu/api/v2/resources/seasonal-monthly-single-levels\n"
     ]
    },
    {
     "name": "stdout",
     "output_type": "stream",
     "text": [
      "[######################                  ] | 55% Completed |  0.5s"
     ]
    },
    {
     "name": "stderr",
     "output_type": "stream",
     "text": [
      "2022-03-14 10:56:37,357 INFO Request is queued\n",
      "2022-03-14 10:56:37,365 INFO Request is queued\n"
     ]
    },
    {
     "name": "stdout",
     "output_type": "stream",
     "text": [
      "[######################                  ] | 55% Completed |  0.6s"
     ]
    },
    {
     "name": "stderr",
     "output_type": "stream",
     "text": [
      "2022-03-14 10:56:37,372 INFO Request is queued\n",
      "2022-03-14 10:56:37,377 INFO Request is queued\n"
     ]
    },
    {
     "name": "stdout",
     "output_type": "stream",
     "text": [
      "[######################                  ] | 55% Completed |  1.8s"
     ]
    },
    {
     "name": "stderr",
     "output_type": "stream",
     "text": [
      "2022-03-14 10:56:38,654 INFO Request is failed\n",
      "2022-03-14 10:56:38,655 ERROR Message: an internal error occurred processing your request\n",
      "2022-03-14 10:56:38,657 ERROR Reason:  [Errno 13] Permission denied: '/cache/tmp'\n",
      "2022-03-14 10:56:38,658 ERROR   Traceback (most recent call last):\n",
      "2022-03-14 10:56:38,660 ERROR     File \"/usr/lib64/python3.6/os.py\", line 220, in makedirs\n",
      "2022-03-14 10:56:38,663 ERROR       mkdir(name, mode)\n",
      "2022-03-14 10:56:38,665 ERROR   FileExistsError: [Errno 17] File exists: '/cache/tmp'\n",
      "2022-03-14 10:56:38,674 INFO Request is running\n"
     ]
    },
    {
     "name": "stdout",
     "output_type": "stream",
     "text": [
      "\n",
      "failure to download or save /media/nicolasf/END19101/ICU/data/CDS/operational/hindcasts/ECCC_GEM_NEMO/TPRATE/ensemble_seas_forecasts_tprate_from_2008_03_ECCC.netcdf\n",
      "\n",
      "\n",
      "attempting to download tprate for GCM ECCC, for level surface, year 2008, month 3, in netcdf, attempt 2 of 3\n",
      "\n",
      "[######################                  ] | 55% Completed |  2.1s"
     ]
    },
    {
     "name": "stderr",
     "output_type": "stream",
     "text": [
      "2022-03-14 10:56:38,955 INFO Welcome to the CDS\n",
      "2022-03-14 10:56:38,957 INFO Sending request to https://cds.climate.copernicus.eu/api/v2/resources/seasonal-monthly-single-levels\n"
     ]
    },
    {
     "name": "stdout",
     "output_type": "stream",
     "text": [
      "[######################                  ] | 55% Completed |  2.4s"
     ]
    },
    {
     "name": "stderr",
     "output_type": "stream",
     "text": [
      "2022-03-14 10:56:39,251 INFO Request is queued\n"
     ]
    },
    {
     "name": "stdout",
     "output_type": "stream",
     "text": [
      "[######################                  ] | 55% Completed |  3.7s"
     ]
    },
    {
     "name": "stderr",
     "output_type": "stream",
     "text": [
      "2022-03-14 10:56:40,465 INFO Request is running\n",
      "2022-03-14 10:56:40,469 INFO Request is completed\n",
      "2022-03-14 10:56:40,470 INFO Downloading https://download-0011.copernicus-climate.eu/cache-compute-0011/cache/data5/adaptor.mars.external-1647208598.6546445-26343-16-77f6e733-3626-44b6-8877-570cf6afb221.nc to /media/nicolasf/END19101/ICU/data/CDS/operational/hindcasts/JMA/TPRATE/ensemble_seas_forecasts_tprate_from_2008_03_JMA.netcdf (719.2K)\n"
     ]
    },
    {
     "name": "stdout",
     "output_type": "stream",
     "text": [
      "[######################                  ] | 55% Completed |  4.0s"
     ]
    },
    {
     "name": "stderr",
     "output_type": "stream",
     "text": [
      "  0%|                                                                                                                 | 0.00/719k [00:00<?, ?B/s]"
     ]
    },
    {
     "name": "stdout",
     "output_type": "stream",
     "text": [
      "[######################                  ] | 55% Completed |  4.3s"
     ]
    },
    {
     "name": "stderr",
     "output_type": "stream",
     "text": [
      "  1%|█▏                                                                                                      | 8.00k/719k [00:00<00:25, 29.0kB/s]"
     ]
    },
    {
     "name": "stdout",
     "output_type": "stream",
     "text": [
      "[######################                  ] | 55% Completed |  4.6s"
     ]
    },
    {
     "name": "stderr",
     "output_type": "stream",
     "text": [
      "  5%|████▉                                                                                                   | 34.0k/719k [00:00<00:10, 65.0kB/s]"
     ]
    },
    {
     "name": "stdout",
     "output_type": "stream",
     "text": [
      "[######################                  ] | 55% Completed |  5.4s"
     ]
    },
    {
     "name": "stderr",
     "output_type": "stream",
     "text": [
      "  8%|████████▍                                                                                               | 58.0k/719k [00:01<00:17, 38.9kB/s]"
     ]
    },
    {
     "name": "stdout",
     "output_type": "stream",
     "text": [
      "[######################                  ] | 55% Completed |  5.7s"
     ]
    },
    {
     "name": "stderr",
     "output_type": "stream",
     "text": [
      " 31%|█████████████████████████████████▎                                                                        | 226k/719k [00:01<00:02, 180kB/s]"
     ]
    },
    {
     "name": "stdout",
     "output_type": "stream",
     "text": [
      "[######################                  ] | 55% Completed |  6.0s"
     ]
    },
    {
     "name": "stderr",
     "output_type": "stream",
     "text": [
      " 40%|██████████████████████████████████████████▏                                                               | 286k/719k [00:02<00:02, 189kB/s]"
     ]
    },
    {
     "name": "stdout",
     "output_type": "stream",
     "text": [
      "[######################                  ] | 55% Completed |  6.2s"
     ]
    },
    {
     "name": "stderr",
     "output_type": "stream",
     "text": [
      "2022-03-14 10:56:43,002 INFO Request is running\n",
      "2022-03-14 10:56:43,012 INFO Request is completed\n",
      "2022-03-14 10:56:43,014 INFO Downloading https://download-0005.copernicus-climate.eu/cache-compute-0005/cache/data0/adaptor.mars.external-1647208602.0138893-8051-16-a1d40651-1457-4d00-b357-505a609bb04d.nc to /media/nicolasf/END19101/ICU/data/CDS/operational/hindcasts/METEO_FRANCE/TPRATE/ensemble_seas_forecasts_tprate_from_2008_03_METEO_FRANCE.netcdf (2.7M)\n"
     ]
    },
    {
     "name": "stdout",
     "output_type": "stream",
     "text": [
      "[######################                  ] | 55% Completed |  6.3s"
     ]
    },
    {
     "name": "stderr",
     "output_type": "stream",
     "text": [
      " 48%|██████████████████████████████████████████████████▍                                                       | 342k/719k [00:02<00:02, 192kB/s]"
     ]
    },
    {
     "name": "stdout",
     "output_type": "stream",
     "text": [
      "[######################                  ] | 55% Completed |  6.5s"
     ]
    },
    {
     "name": "stderr",
     "output_type": "stream",
     "text": [
      "\n",
      " 55%|██████████████████████████████████████████████████████████▋                                               | 398k/719k [00:02<00:01, 194kB/s]\u001b[A"
     ]
    },
    {
     "name": "stdout",
     "output_type": "stream",
     "text": [
      "[######################                  ] | 55% Completed |  6.8s"
     ]
    },
    {
     "name": "stderr",
     "output_type": "stream",
     "text": [
      "\n",
      " 65%|█████████████████████████████████████████████████████████████████████▎                                    | 470k/719k [00:02<00:01, 212kB/s]\u001b[A"
     ]
    },
    {
     "name": "stdout",
     "output_type": "stream",
     "text": [
      "[######################                  ] | 55% Completed |  7.0s"
     ]
    },
    {
     "name": "stderr",
     "output_type": "stream",
     "text": [
      "\n",
      "  1%|█▎                                                                                                     | 34.0k/2.73M [00:00<00:41, 67.3kB/s]\u001b[A"
     ]
    },
    {
     "name": "stdout",
     "output_type": "stream",
     "text": [
      "[######################                  ] | 55% Completed |  7.1s"
     ]
    },
    {
     "name": "stderr",
     "output_type": "stream",
     "text": [
      " 75%|███████████████████████████████████████████████████████████████████████████████▍                          | 539k/719k [00:03<00:00, 222kB/s]"
     ]
    },
    {
     "name": "stdout",
     "output_type": "stream",
     "text": [
      "[######################                  ] | 55% Completed |  7.3s"
     ]
    },
    {
     "name": "stderr",
     "output_type": "stream",
     "text": [
      "\n",
      "  3%|███▍                                                                                                    | 93.0k/2.73M [00:00<00:20, 134kB/s]\u001b[A"
     ]
    },
    {
     "name": "stdout",
     "output_type": "stream",
     "text": [
      "[######################                  ] | 55% Completed |  7.4s"
     ]
    },
    {
     "name": "stderr",
     "output_type": "stream",
     "text": [
      " 85%|██████████████████████████████████████████████████████████████████████████████████████████                | 611k/719k [00:03<00:00, 231kB/s]"
     ]
    },
    {
     "name": "stdout",
     "output_type": "stream",
     "text": [
      "[######################                  ] | 55% Completed |  7.6s"
     ]
    },
    {
     "name": "stderr",
     "output_type": "stream",
     "text": [
      "\n",
      "  7%|███████▋                                                                                                 | 205k/2.73M [00:01<00:10, 241kB/s]\u001b[A"
     ]
    },
    {
     "name": "stdout",
     "output_type": "stream",
     "text": [
      "[######################                  ] | 55% Completed |  7.7s"
     ]
    },
    {
     "name": "stderr",
     "output_type": "stream",
     "text": [
      " 95%|████████████████████████████████████████████████████████████████████████████████████████████████████▋     | 683k/719k [00:03<00:00, 239kB/s]"
     ]
    },
    {
     "name": "stdout",
     "output_type": "stream",
     "text": [
      "[######################                  ] | 55% Completed |  7.8s"
     ]
    },
    {
     "name": "stderr",
     "output_type": "stream",
     "text": [
      "2022-03-14 10:56:44,638 INFO Download rate 172.6K/s                                                                                              \n"
     ]
    },
    {
     "name": "stdout",
     "output_type": "stream",
     "text": [
      "[######################                  ] | 55% Completed |  7.9s"
     ]
    },
    {
     "name": "stderr",
     "output_type": "stream",
     "text": [
      "\n",
      " 15%|███████████████▉                                                                                         | 422k/2.73M [00:01<00:05, 436kB/s]\u001b[A"
     ]
    },
    {
     "name": "stdout",
     "output_type": "stream",
     "text": [
      "[######################                  ] | 55% Completed |  8.2s\n",
      "/media/nicolasf/END19101/ICU/data/CDS/operational/hindcasts/JMA/TPRATE/ensemble_seas_forecasts_tprate_from_2008_03_JMA.netcdf downloaded OK\n",
      "\n",
      "[##########################              ] | 66% Completed |  8.3s"
     ]
    },
    {
     "name": "stderr",
     "output_type": "stream",
     "text": [
      "\n",
      " 31%|████████████████████████████████▏                                                                        | 856k/2.73M [00:01<00:02, 821kB/s]\u001b[A"
     ]
    },
    {
     "name": "stdout",
     "output_type": "stream",
     "text": [
      "[##########################              ] | 66% Completed |  8.5s"
     ]
    },
    {
     "name": "stderr",
     "output_type": "stream",
     "text": [
      "\n",
      " 62%|███████████████████████████████████████████████████████████████▌                                       | 1.68M/2.73M [00:01<00:00, 1.57MB/s]\u001b[A"
     ]
    },
    {
     "name": "stdout",
     "output_type": "stream",
     "text": [
      "[##########################              ] | 66% Completed |  8.8s"
     ]
    },
    {
     "name": "stderr",
     "output_type": "stream",
     "text": [
      "\n",
      " 88%|██████████████████████████████████████████████████████████████████████████████████████████▊            | 2.40M/2.73M [00:02<00:00, 1.87MB/s]\u001b[A"
     ]
    },
    {
     "name": "stdout",
     "output_type": "stream",
     "text": [
      "[##########################              ] | 66% Completed |  9.1s"
     ]
    },
    {
     "name": "stderr",
     "output_type": "stream",
     "text": [
      "\n",
      " 96%|██████████████████████████████████████████████████████████████████████████████████████████████████▌    | 2.61M/2.73M [00:02<00:00, 1.53MB/s]\u001b[A"
     ]
    },
    {
     "name": "stdout",
     "output_type": "stream",
     "text": [
      "[##########################              ] | 66% Completed |  9.2s"
     ]
    },
    {
     "name": "stderr",
     "output_type": "stream",
     "text": [
      "\n",
      "                                                                                                                                                 \u001b[A2022-03-14 10:56:46,012 INFO Download rate 931.3K/s\n"
     ]
    },
    {
     "name": "stdout",
     "output_type": "stream",
     "text": [
      "[##########################              ] | 66% Completed |  9.5s\n",
      "/media/nicolasf/END19101/ICU/data/CDS/operational/hindcasts/METEO_FRANCE/TPRATE/ensemble_seas_forecasts_tprate_from_2008_03_METEO_FRANCE.netcdf downloaded OK\n",
      "\n",
      "[###############################         ] | 77% Completed | 11.7s"
     ]
    },
    {
     "name": "stderr",
     "output_type": "stream",
     "text": [
      "2022-03-14 10:56:48,548 INFO Request is completed\n",
      "2022-03-14 10:56:48,549 INFO Downloading https://download-0011.copernicus-climate.eu/cache-compute-0011/cache/data1/adaptor.mars.external-1647208607.8713734-19536-19-d94354e0-86ef-4085-9e6a-c202a40e559c.nc to /media/nicolasf/END19101/ICU/data/CDS/operational/hindcasts/ECCC_GEM_NEMO/TPRATE/ensemble_seas_forecasts_tprate_from_2008_03_ECCC.netcdf (1.1M)\n"
     ]
    },
    {
     "name": "stdout",
     "output_type": "stream",
     "text": [
      "[###############################         ] | 77% Completed | 12.0s"
     ]
    },
    {
     "name": "stderr",
     "output_type": "stream",
     "text": [
      "  0%|                                                                                                                | 0.00/1.09M [00:00<?, ?B/s]"
     ]
    },
    {
     "name": "stdout",
     "output_type": "stream",
     "text": [
      "[###############################         ] | 77% Completed | 12.3s"
     ]
    },
    {
     "name": "stderr",
     "output_type": "stream",
     "text": [
      "  1%|▋                                                                                                      | 8.00k/1.09M [00:00<00:39, 28.6kB/s]"
     ]
    },
    {
     "name": "stdout",
     "output_type": "stream",
     "text": [
      "[###############################         ] | 77% Completed | 12.6s"
     ]
    },
    {
     "name": "stderr",
     "output_type": "stream",
     "text": [
      "  3%|███▏                                                                                                   | 34.0k/1.09M [00:00<00:16, 66.2kB/s]"
     ]
    },
    {
     "name": "stdout",
     "output_type": "stream",
     "text": [
      "[###############################         ] | 77% Completed | 12.9s"
     ]
    },
    {
     "name": "stderr",
     "output_type": "stream",
     "text": [
      "  8%|████████▍                                                                                               | 90.0k/1.09M [00:00<00:08, 127kB/s]"
     ]
    },
    {
     "name": "stdout",
     "output_type": "stream",
     "text": [
      "[###############################         ] | 77% Completed | 13.1s"
     ]
    },
    {
     "name": "stderr",
     "output_type": "stream",
     "text": [
      " 14%|██████████████▍                                                                                          | 154k/1.09M [00:01<00:05, 167kB/s]"
     ]
    },
    {
     "name": "stdout",
     "output_type": "stream",
     "text": [
      "[###############################         ] | 77% Completed | 13.4s"
     ]
    },
    {
     "name": "stderr",
     "output_type": "stream",
     "text": [
      " 20%|████████████████████▍                                                                                    | 218k/1.09M [00:01<00:04, 187kB/s]"
     ]
    },
    {
     "name": "stdout",
     "output_type": "stream",
     "text": [
      "[###############################         ] | 77% Completed | 13.7s"
     ]
    },
    {
     "name": "stderr",
     "output_type": "stream",
     "text": [
      " 26%|██████████████████████████▊                                                                              | 286k/1.09M [00:01<00:04, 204kB/s]"
     ]
    },
    {
     "name": "stdout",
     "output_type": "stream",
     "text": [
      "[###############################         ] | 77% Completed | 14.1s"
     ]
    },
    {
     "name": "stderr",
     "output_type": "stream",
     "text": [
      " 32%|█████████████████████████████████▋                                                                       | 358k/1.09M [00:02<00:03, 219kB/s]"
     ]
    },
    {
     "name": "stdout",
     "output_type": "stream",
     "text": [
      "[###############################         ] | 77% Completed | 14.4s"
     ]
    },
    {
     "name": "stderr",
     "output_type": "stream",
     "text": [
      " 38%|████████████████████████████████████████▍                                                                | 430k/1.09M [00:02<00:03, 230kB/s]"
     ]
    },
    {
     "name": "stdout",
     "output_type": "stream",
     "text": [
      "[###############################         ] | 77% Completed | 14.7s"
     ]
    },
    {
     "name": "stderr",
     "output_type": "stream",
     "text": [
      " 45%|███████████████████████████████████████████████▏                                                         | 502k/1.09M [00:02<00:02, 241kB/s]"
     ]
    },
    {
     "name": "stdout",
     "output_type": "stream",
     "text": [
      "[###############################         ] | 77% Completed | 15.0s"
     ]
    },
    {
     "name": "stderr",
     "output_type": "stream",
     "text": [
      " 52%|██████████████████████████████████████████████████████▍                                                  | 579k/1.09M [00:02<00:02, 250kB/s]"
     ]
    },
    {
     "name": "stdout",
     "output_type": "stream",
     "text": [
      "[###############################         ] | 77% Completed | 15.2s"
     ]
    },
    {
     "name": "stderr",
     "output_type": "stream",
     "text": [
      " 58%|█████████████████████████████████████████████████████████████▏                                           | 651k/1.09M [00:03<00:01, 253kB/s]"
     ]
    },
    {
     "name": "stdout",
     "output_type": "stream",
     "text": [
      "[###############################         ] | 77% Completed | 15.3s"
     ]
    },
    {
     "name": "stderr",
     "output_type": "stream",
     "text": [
      "2022-03-14 10:56:52,030 INFO Request is completed\n",
      "2022-03-14 10:56:52,031 INFO Downloading https://download-0005.copernicus-climate.eu/cache-compute-0005/cache/data8/adaptor.mars.external-1647208606.0337565-12915-19-5e31cdef-e511-4024-9e72-bf2ff9afb471.nc to /media/nicolasf/END19101/ICU/data/CDS/operational/hindcasts/UKMO/TPRATE/ensemble_seas_forecasts_tprate_from_2008_03_UKMO.netcdf (3.1M)\n"
     ]
    },
    {
     "name": "stdout",
     "output_type": "stream",
     "text": [
      "[###############################         ] | 77% Completed | 15.5s"
     ]
    },
    {
     "name": "stderr",
     "output_type": "stream",
     "text": [
      " 65%|████████████████████████████████████████████████████████████████████▋                                    | 731k/1.09M [00:03<00:01, 263kB/s]\n",
      "  0%|                                                                                                                | 0.00/3.05M [00:00<?, ?B/s]\u001b[A"
     ]
    },
    {
     "name": "stdout",
     "output_type": "stream",
     "text": [
      "[###############################         ] | 77% Completed | 15.8s"
     ]
    },
    {
     "name": "stderr",
     "output_type": "stream",
     "text": [
      " 72%|███████████████████████████████████████████████████████████████████████████▉                             | 808k/1.09M [00:03<00:01, 266kB/s]\n",
      "  0%|▎                                                                                                      | 8.00k/3.05M [00:00<01:50, 28.8kB/s]\u001b[A"
     ]
    },
    {
     "name": "stdout",
     "output_type": "stream",
     "text": [
      "[###############################         ] | 77% Completed | 16.1s"
     ]
    },
    {
     "name": "stderr",
     "output_type": "stream",
     "text": [
      " 80%|████████████████████████████████████████████████████████████████████████████████████▏                    | 896k/1.09M [00:04<00:00, 280kB/s]\n",
      "  1%|█                                                                                                      | 34.0k/3.05M [00:00<00:47, 66.7kB/s]\u001b[A"
     ]
    },
    {
     "name": "stdout",
     "output_type": "stream",
     "text": [
      "[###############################         ] | 77% Completed | 16.4s"
     ]
    },
    {
     "name": "stderr",
     "output_type": "stream",
     "text": [
      " 87%|███████████████████████████████████████████████████████████████████████████████████████████▋             | 976k/1.09M [00:04<00:00, 281kB/s]\n",
      "  3%|███▏                                                                                                    | 96.0k/3.05M [00:00<00:22, 138kB/s]\u001b[A"
     ]
    },
    {
     "name": "stdout",
     "output_type": "stream",
     "text": [
      "[###############################         ] | 77% Completed | 16.7s"
     ]
    },
    {
     "name": "stderr",
     "output_type": "stream",
     "text": [
      " 96%|███████████████████████████████████████████████████████████████████████████████████████████████████▋    | 1.05M/1.09M [00:04<00:00, 298kB/s]\n",
      "  6%|██████▊                                                                                                  | 201k/3.05M [00:01<00:12, 233kB/s]\u001b[A"
     ]
    },
    {
     "name": "stdout",
     "output_type": "stream",
     "text": [
      "[###############################         ] | 77% Completed | 16.8s"
     ]
    },
    {
     "name": "stderr",
     "output_type": "stream",
     "text": [
      "2022-03-14 10:56:53,586 INFO Download rate 221.9K/s                                                                                              \n"
     ]
    },
    {
     "name": "stdout",
     "output_type": "stream",
     "text": [
      "[###############################         ] | 77% Completed | 16.9s"
     ]
    },
    {
     "name": "stderr",
     "output_type": "stream",
     "text": [
      "\n",
      " 14%|██████████████▏                                                                                          | 422k/3.05M [00:01<00:06, 436kB/s]\u001b[A"
     ]
    },
    {
     "name": "stdout",
     "output_type": "stream",
     "text": [
      "[###############################         ] | 77% Completed | 17.1s\n",
      "/media/nicolasf/END19101/ICU/data/CDS/operational/hindcasts/ECCC_GEM_NEMO/TPRATE/ensemble_seas_forecasts_tprate_from_2008_03_ECCC.netcdf downloaded OK\n",
      "\n",
      "[###################################     ] | 88% Completed | 17.2s"
     ]
    },
    {
     "name": "stderr",
     "output_type": "stream",
     "text": [
      "\n",
      " 28%|█████████████████████████████▏                                                                           | 867k/3.05M [00:01<00:02, 833kB/s]\u001b[A"
     ]
    },
    {
     "name": "stdout",
     "output_type": "stream",
     "text": [
      "[###################################     ] | 88% Completed | 17.5s"
     ]
    },
    {
     "name": "stderr",
     "output_type": "stream",
     "text": [
      "\n",
      " 56%|█████████████████████████████████████████████████████████▍                                             | 1.70M/3.05M [00:01<00:00, 1.59MB/s]\u001b[A"
     ]
    },
    {
     "name": "stdout",
     "output_type": "stream",
     "text": [
      "[###################################     ] | 88% Completed | 17.8s"
     ]
    },
    {
     "name": "stderr",
     "output_type": "stream",
     "text": [
      "\n",
      " 88%|███████████████████████████████████████████████████████████████████████████████████████████▏           | 2.70M/3.05M [00:02<00:00, 2.16MB/s]\u001b[A"
     ]
    },
    {
     "name": "stdout",
     "output_type": "stream",
     "text": [
      "[###################################     ] | 88% Completed | 17.9s"
     ]
    },
    {
     "name": "stderr",
     "output_type": "stream",
     "text": [
      "\n",
      "                                                                                                                                                 \u001b[A2022-03-14 10:56:54,756 INFO Download rate 1.1M/s\n"
     ]
    },
    {
     "name": "stdout",
     "output_type": "stream",
     "text": [
      "[###################################     ] | 88% Completed | 18.2s\n",
      "/media/nicolasf/END19101/ICU/data/CDS/operational/hindcasts/UKMO/TPRATE/ensemble_seas_forecasts_tprate_from_2008_03_UKMO.netcdf downloaded OK\n",
      "\n",
      "[########################################] | 100% Completed | 18.3s\n",
      "processing ECCC, path should be /media/nicolasf/END19101/ICU/data/CDS/operational/hindcasts/ECCC_CanCM4i/TPRATE\n",
      "processing ECCC, path should be /media/nicolasf/END19101/ICU/data/CDS/operational/hindcasts/ECCC_GEM_NEMO/TPRATE\n",
      "[                                        ] | 0% Completed |  0.0s\n",
      "/media/nicolasf/END19101/ICU/data/CDS/operational/hindcasts/CMCC/TPRATE/ensemble_seas_forecasts_tprate_from_2009_03_CMCC.netcdf exists already on disk, skipping download and returning path\n",
      "\n",
      "\n",
      "/media/nicolasf/END19101/ICU/data/CDS/operational/hindcasts/ECMWF/TPRATE/ensemble_seas_forecasts_tprate_from_2009_03_ECMWF.netcdf exists already on disk, skipping download and returning path\n",
      "\n",
      "\n",
      "attempting to download tprate for GCM JMA, for level surface, year 2009, month 3, in netcdf, attempt 1 of 3\n",
      "\n",
      "\n",
      "/media/nicolasf/END19101/ICU/data/CDS/operational/hindcasts/ECCC_CanCM4i/TPRATE/ensemble_seas_forecasts_tprate_from_2009_03_ECCC.netcdf exists already on disk, skipping download and returning path\n",
      "\n",
      "\n",
      "attempting to download tprate for GCM ECCC, for level surface, year 2009, month 3, in netcdf, attempt 1 of 3\n",
      "\n",
      "/media/nicolasf/END19101/ICU/data/CDS/operational/hindcasts/DWD/TPRATE/ensemble_seas_forecasts_tprate_from_2009_03_DWD.netcdf exists already on disk, skipping download and returning path\n",
      "\n",
      "\n",
      "\n",
      "/media/nicolasf/END19101/ICU/data/CDS/operational/hindcasts/NCEP/TPRATE/ensemble_seas_forecasts_tprate_from_2009_03_NCEP.netcdf exists already on disk, skipping download and returning path\n",
      "\n",
      "\n",
      "attempting to download tprate for GCM UKMO, for level surface, year 2009, month 3, in netcdf, attempt 1 of 3\n",
      "\n",
      "\n",
      "attempting to download tprate for GCM METEO_FRANCE, for level surface, year 2009, month 3, in netcdf, attempt 1 of 3\n",
      "\n",
      "[######################                  ] | 55% Completed |  0.2s"
     ]
    },
    {
     "name": "stderr",
     "output_type": "stream",
     "text": [
      "2022-03-14 10:56:55,379 INFO Welcome to the CDS\n",
      "2022-03-14 10:56:55,382 INFO Welcome to the CDS\n",
      "2022-03-14 10:56:55,384 INFO Welcome to the CDS\n",
      "2022-03-14 10:56:55,384 INFO Sending request to https://cds.climate.copernicus.eu/api/v2/resources/seasonal-monthly-single-levels\n",
      "2022-03-14 10:56:55,386 INFO Welcome to the CDS\n"
     ]
    },
    {
     "name": "stdout",
     "output_type": "stream",
     "text": [
      "[######################                  ] | 55% Completed |  0.3s"
     ]
    },
    {
     "name": "stderr",
     "output_type": "stream",
     "text": [
      "2022-03-14 10:56:55,388 INFO Sending request to https://cds.climate.copernicus.eu/api/v2/resources/seasonal-monthly-single-levels\n",
      "2022-03-14 10:56:55,391 INFO Sending request to https://cds.climate.copernicus.eu/api/v2/resources/seasonal-monthly-single-levels\n",
      "2022-03-14 10:56:55,396 INFO Sending request to https://cds.climate.copernicus.eu/api/v2/resources/seasonal-monthly-single-levels\n"
     ]
    },
    {
     "name": "stdout",
     "output_type": "stream",
     "text": [
      "[######################                  ] | 55% Completed |  0.5s"
     ]
    },
    {
     "name": "stderr",
     "output_type": "stream",
     "text": [
      "2022-03-14 10:56:55,690 INFO Request is queued\n",
      "2022-03-14 10:56:55,693 INFO Request is queued\n",
      "2022-03-14 10:56:55,697 INFO Request is queued\n",
      "2022-03-14 10:56:55,699 INFO Request is queued\n"
     ]
    },
    {
     "name": "stdout",
     "output_type": "stream",
     "text": [
      "[######################                  ] | 55% Completed |  1.8s"
     ]
    },
    {
     "name": "stderr",
     "output_type": "stream",
     "text": [
      "2022-03-14 10:56:56,988 INFO Request is running\n"
     ]
    },
    {
     "name": "stdout",
     "output_type": "stream",
     "text": [
      "[######################                  ] | 55% Completed |  2.9s"
     ]
    },
    {
     "name": "stderr",
     "output_type": "stream",
     "text": [
      "2022-03-14 10:56:57,971 INFO Request is running\n"
     ]
    },
    {
     "name": "stdout",
     "output_type": "stream",
     "text": [
      "[######################                  ] | 55% Completed |  3.7s"
     ]
    },
    {
     "name": "stderr",
     "output_type": "stream",
     "text": [
      "2022-03-14 10:56:58,779 INFO Request is completed\n",
      "2022-03-14 10:56:58,780 INFO Downloading https://download-0002.copernicus-climate.eu/cache-compute-0002/cache/data3/adaptor.mars.external-1647208616.7153637-6078-11-8de08316-b315-4c9e-941c-a7c854bc6a3c.nc to /media/nicolasf/END19101/ICU/data/CDS/operational/hindcasts/JMA/TPRATE/ensemble_seas_forecasts_tprate_from_2009_03_JMA.netcdf (719.2K)\n"
     ]
    },
    {
     "name": "stdout",
     "output_type": "stream",
     "text": [
      "[######################                  ] | 55% Completed |  5.2s"
     ]
    },
    {
     "name": "stderr",
     "output_type": "stream",
     "text": [
      "  0%|                                                                                                                 | 0.00/719k [00:00<?, ?B/s]"
     ]
    },
    {
     "name": "stdout",
     "output_type": "stream",
     "text": [
      "[######################                  ] | 55% Completed |  5.5s"
     ]
    },
    {
     "name": "stderr",
     "output_type": "stream",
     "text": [
      "  2%|██▎                                                                                                     | 16.0k/719k [00:00<00:12, 58.8kB/s]"
     ]
    },
    {
     "name": "stdout",
     "output_type": "stream",
     "text": [
      "[######################                  ] | 55% Completed |  5.7s"
     ]
    },
    {
     "name": "stderr",
     "output_type": "stream",
     "text": [
      " 10%|██████████▏                                                                                              | 70.0k/719k [00:00<00:04, 139kB/s]"
     ]
    },
    {
     "name": "stdout",
     "output_type": "stream",
     "text": [
      "[######################                  ] | 55% Completed |  6.0s"
     ]
    },
    {
     "name": "stderr",
     "output_type": "stream",
     "text": [
      " 18%|██████████████████▌                                                                                       | 126k/719k [00:00<00:03, 168kB/s]"
     ]
    },
    {
     "name": "stdout",
     "output_type": "stream",
     "text": [
      "[######################                  ] | 55% Completed |  6.3s"
     ]
    },
    {
     "name": "stderr",
     "output_type": "stream",
     "text": [
      " 40%|██████████████████████████████████████████▏                                                               | 286k/719k [00:01<00:01, 330kB/s]"
     ]
    },
    {
     "name": "stdout",
     "output_type": "stream",
     "text": [
      "[######################                  ] | 55% Completed |  6.6s"
     ]
    },
    {
     "name": "stderr",
     "output_type": "stream",
     "text": [
      " 83%|███████████████████████████████████████████████████████████████████████████████████████▋                  | 595k/719k [00:01<00:00, 613kB/s]"
     ]
    },
    {
     "name": "stdout",
     "output_type": "stream",
     "text": [
      "[######################                  ] | 55% Completed |  6.7s"
     ]
    },
    {
     "name": "stderr",
     "output_type": "stream",
     "text": [
      "2022-03-14 10:57:01,857 INFO Download rate 233.8K/s                                                                                              \n"
     ]
    },
    {
     "name": "stdout",
     "output_type": "stream",
     "text": [
      "[######################                  ] | 55% Completed |  7.0s\n",
      "/media/nicolasf/END19101/ICU/data/CDS/operational/hindcasts/JMA/TPRATE/ensemble_seas_forecasts_tprate_from_2009_03_JMA.netcdf downloaded OK\n",
      "\n",
      "[##########################              ] | 66% Completed |  7.1s"
     ]
    },
    {
     "name": "stderr",
     "output_type": "stream",
     "text": [
      "2022-03-14 10:57:02,308 INFO Request is completed\n",
      "2022-03-14 10:57:02,310 INFO Downloading https://download-0011.copernicus-climate.eu/cache-compute-0011/cache/data3/adaptor.mars.external-1647208620.7579637-27725-3-e1624e4c-9cd8-4a37-9259-180b4267607f.nc to /media/nicolasf/END19101/ICU/data/CDS/operational/hindcasts/METEO_FRANCE/TPRATE/ensemble_seas_forecasts_tprate_from_2009_03_METEO_FRANCE.netcdf (2.7M)\n"
     ]
    },
    {
     "name": "stdout",
     "output_type": "stream",
     "text": [
      "[##########################              ] | 66% Completed |  7.2s"
     ]
    },
    {
     "name": "stderr",
     "output_type": "stream",
     "text": [
      "2022-03-14 10:57:02,329 INFO Request is running\n"
     ]
    },
    {
     "name": "stdout",
     "output_type": "stream",
     "text": [
      "[##########################              ] | 66% Completed |  7.4s"
     ]
    },
    {
     "name": "stderr",
     "output_type": "stream",
     "text": [
      "  0%|                                                                                                                | 0.00/2.73M [00:00<?, ?B/s]"
     ]
    },
    {
     "name": "stdout",
     "output_type": "stream",
     "text": [
      "[##########################              ] | 66% Completed |  7.7s"
     ]
    },
    {
     "name": "stderr",
     "output_type": "stream",
     "text": [
      "  0%|▎                                                                                                      | 8.00k/2.73M [00:00<01:38, 29.0kB/s]"
     ]
    },
    {
     "name": "stdout",
     "output_type": "stream",
     "text": [
      "[##########################              ] | 66% Completed |  8.1s"
     ]
    },
    {
     "name": "stderr",
     "output_type": "stream",
     "text": [
      "  2%|█▌                                                                                                     | 42.0k/2.73M [00:00<00:33, 83.5kB/s]"
     ]
    },
    {
     "name": "stdout",
     "output_type": "stream",
     "text": [
      "[##########################              ] | 66% Completed |  8.4s"
     ]
    },
    {
     "name": "stderr",
     "output_type": "stream",
     "text": [
      "  3%|███▎                                                                                                    | 90.0k/2.73M [00:00<00:22, 123kB/s]"
     ]
    },
    {
     "name": "stdout",
     "output_type": "stream",
     "text": [
      "[##########################              ] | 66% Completed |  8.7s"
     ]
    },
    {
     "name": "stderr",
     "output_type": "stream",
     "text": [
      "  6%|██████▍                                                                                                  | 170k/2.73M [00:01<00:14, 186kB/s]"
     ]
    },
    {
     "name": "stdout",
     "output_type": "stream",
     "text": [
      "[##########################              ] | 66% Completed |  8.9s"
     ]
    },
    {
     "name": "stderr",
     "output_type": "stream",
     "text": [
      "  9%|█████████▍                                                                                               | 250k/2.73M [00:01<00:11, 222kB/s]"
     ]
    },
    {
     "name": "stdout",
     "output_type": "stream",
     "text": [
      "[##########################              ] | 66% Completed |  9.2s"
     ]
    },
    {
     "name": "stderr",
     "output_type": "stream",
     "text": [
      " 12%|████████████▊                                                                                            | 342k/2.73M [00:01<00:09, 258kB/s]"
     ]
    },
    {
     "name": "stdout",
     "output_type": "stream",
     "text": [
      "[##########################              ] | 66% Completed |  9.5s"
     ]
    },
    {
     "name": "stderr",
     "output_type": "stream",
     "text": [
      " 16%|████████████████▊                                                                                        | 446k/2.73M [00:02<00:08, 294kB/s]"
     ]
    },
    {
     "name": "stdout",
     "output_type": "stream",
     "text": [
      "[##########################              ] | 66% Completed |  9.8s"
     ]
    },
    {
     "name": "stderr",
     "output_type": "stream",
     "text": [
      " 20%|█████████████████████▏                                                                                   | 563k/2.73M [00:02<00:06, 333kB/s]"
     ]
    },
    {
     "name": "stdout",
     "output_type": "stream",
     "text": [
      "[##########################              ] | 66% Completed | 10.1s"
     ]
    },
    {
     "name": "stderr",
     "output_type": "stream",
     "text": [
      " 25%|██████████████████████████                                                                               | 691k/2.73M [00:02<00:05, 371kB/s]"
     ]
    },
    {
     "name": "stdout",
     "output_type": "stream",
     "text": [
      "[##########################              ] | 66% Completed | 10.4s"
     ]
    },
    {
     "name": "stderr",
     "output_type": "stream",
     "text": [
      " 30%|███████████████████████████████▌                                                                         | 840k/2.73M [00:02<00:04, 420kB/s]"
     ]
    },
    {
     "name": "stdout",
     "output_type": "stream",
     "text": [
      "[##########################              ] | 66% Completed | 10.6s"
     ]
    },
    {
     "name": "stderr",
     "output_type": "stream",
     "text": [
      " 36%|█████████████████████████████████████▊                                                                  | 0.99M/2.73M [00:03<00:03, 483kB/s]"
     ]
    },
    {
     "name": "stdout",
     "output_type": "stream",
     "text": [
      "[##########################              ] | 66% Completed | 10.9s"
     ]
    },
    {
     "name": "stderr",
     "output_type": "stream",
     "text": [
      "2022-03-14 10:57:06,003 INFO Request is completed\n",
      "2022-03-14 10:57:06,004 INFO Downloading https://download-0005.copernicus-climate.eu/cache-compute-0005/cache/data9/adaptor.mars.external-1647208624.7627776-12915-20-5551db5f-8534-4127-a8d6-3e146b5051f9.nc to /media/nicolasf/END19101/ICU/data/CDS/operational/hindcasts/UKMO/TPRATE/ensemble_seas_forecasts_tprate_from_2009_03_UKMO.netcdf (3.1M)\n",
      " 43%|████████████████████████████████████████████▉                                                           | 1.18M/2.73M [00:03<00:02, 543kB/s]"
     ]
    },
    {
     "name": "stdout",
     "output_type": "stream",
     "text": [
      "[##########################              ] | 66% Completed | 11.1s"
     ]
    },
    {
     "name": "stderr",
     "output_type": "stream",
     "text": [
      "\n",
      "  0%|                                                                                                                | 0.00/3.05M [00:00<?, ?B/s]\u001b[A"
     ]
    },
    {
     "name": "stdout",
     "output_type": "stream",
     "text": [
      "[##########################              ] | 66% Completed | 11.3s"
     ]
    },
    {
     "name": "stderr",
     "output_type": "stream",
     "text": [
      " 50%|███████████████████████████████████████████████████▋                                                    | 1.36M/2.73M [00:03<00:02, 531kB/s]"
     ]
    },
    {
     "name": "stdout",
     "output_type": "stream",
     "text": [
      "[##########################              ] | 66% Completed | 11.4s"
     ]
    },
    {
     "name": "stderr",
     "output_type": "stream",
     "text": [
      "\n",
      "  0%|▎                                                                                                      | 8.00k/3.05M [00:00<01:49, 29.3kB/s]\u001b[A"
     ]
    },
    {
     "name": "stdout",
     "output_type": "stream",
     "text": [
      "[##########################              ] | 66% Completed | 11.5s"
     ]
    },
    {
     "name": "stderr",
     "output_type": "stream",
     "text": [
      " 52%|█████████████████████████████████████████████████████▋                                                  | 1.41M/2.73M [00:04<00:02, 464kB/s]"
     ]
    },
    {
     "name": "stdout",
     "output_type": "stream",
     "text": [
      "[##########################              ] | 66% Completed | 11.7s"
     ]
    },
    {
     "name": "stderr",
     "output_type": "stream",
     "text": [
      "\n",
      "  1%|█                                                                                                      | 34.0k/3.05M [00:00<00:46, 67.5kB/s]\u001b[A"
     ]
    },
    {
     "name": "stdout",
     "output_type": "stream",
     "text": [
      "[##########################              ] | 66% Completed | 11.8s"
     ]
    },
    {
     "name": "stderr",
     "output_type": "stream",
     "text": [
      " 64%|██████████████████████████████████████████████████████████████████▌                                     | 1.74M/2.73M [00:04<00:01, 701kB/s]"
     ]
    },
    {
     "name": "stdout",
     "output_type": "stream",
     "text": [
      "[##########################              ] | 66% Completed | 12.0s"
     ]
    },
    {
     "name": "stderr",
     "output_type": "stream",
     "text": [
      "\n",
      "  3%|███▏                                                                                                    | 94.0k/3.05M [00:00<00:22, 136kB/s]\u001b[A"
     ]
    },
    {
     "name": "stdout",
     "output_type": "stream",
     "text": [
      "[##########################              ] | 66% Completed | 12.1s"
     ]
    },
    {
     "name": "stderr",
     "output_type": "stream",
     "text": [
      " 70%|█████████████████████████████████████████████████████████████████████████                               | 1.91M/2.73M [00:04<00:01, 677kB/s]"
     ]
    },
    {
     "name": "stdout",
     "output_type": "stream",
     "text": [
      "[##########################              ] | 66% Completed | 12.3s"
     ]
    },
    {
     "name": "stderr",
     "output_type": "stream",
     "text": [
      "\n",
      " 77%|███████████████████████████████████████████████████████████████████████████████▊                        | 2.09M/2.73M [00:04<00:00, 667kB/s]\u001b[A"
     ]
    },
    {
     "name": "stdout",
     "output_type": "stream",
     "text": [
      "[##########################              ] | 66% Completed | 12.5s"
     ]
    },
    {
     "name": "stderr",
     "output_type": "stream",
     "text": [
      "\n",
      " 14%|██████████████▏                                                                                          | 422k/3.05M [00:01<00:06, 436kB/s]\u001b[A"
     ]
    },
    {
     "name": "stdout",
     "output_type": "stream",
     "text": [
      "[##########################              ] | 66% Completed | 12.6s"
     ]
    },
    {
     "name": "stderr",
     "output_type": "stream",
     "text": [
      " 84%|██████████████████████████████████████████████████████████████████████████████████████▉                 | 2.28M/2.73M [00:05<00:00, 672kB/s]"
     ]
    },
    {
     "name": "stdout",
     "output_type": "stream",
     "text": [
      "[##########################              ] | 66% Completed | 12.7s"
     ]
    },
    {
     "name": "stderr",
     "output_type": "stream",
     "text": [
      " 88%|███████████████████████████████████████████████████████████████████████████████████████████▍            | 2.40M/2.73M [00:05<00:00, 746kB/s]"
     ]
    },
    {
     "name": "stdout",
     "output_type": "stream",
     "text": [
      "[##########################              ] | 66% Completed | 12.8s"
     ]
    },
    {
     "name": "stderr",
     "output_type": "stream",
     "text": [
      "\n",
      " 28%|████████████████████████████▉                                                                            | 862k/3.05M [00:01<00:02, 829kB/s]\u001b[A"
     ]
    },
    {
     "name": "stdout",
     "output_type": "stream",
     "text": [
      "[##########################              ] | 66% Completed | 13.1s"
     ]
    },
    {
     "name": "stderr",
     "output_type": "stream",
     "text": [
      "\n",
      " 56%|█████████████████████████████████████████████████████████▌                                             | 1.70M/3.05M [00:01<00:00, 1.60MB/s]\u001b[A"
     ]
    },
    {
     "name": "stdout",
     "output_type": "stream",
     "text": [
      "[##########################              ] | 66% Completed | 13.2s"
     ]
    },
    {
     "name": "stderr",
     "output_type": "stream",
     "text": [
      " 91%|██████████████████████████████████████████████████████████████████████████████████████████████▌         | 2.48M/2.73M [00:05<00:00, 474kB/s]"
     ]
    },
    {
     "name": "stdout",
     "output_type": "stream",
     "text": [
      "[##########################              ] | 66% Completed | 13.3s"
     ]
    },
    {
     "name": "stderr",
     "output_type": "stream",
     "text": [
      " 97%|█████████████████████████████████████████████████████████████████████████████████████████████████████▎  | 2.65M/2.73M [00:05<00:00, 638kB/s]"
     ]
    },
    {
     "name": "stdout",
     "output_type": "stream",
     "text": [
      "[##########################              ] | 66% Completed | 13.4s"
     ]
    },
    {
     "name": "stderr",
     "output_type": "stream",
     "text": [
      "\n",
      " 96%|██████████████████████████████████████████████████████████████████████████████████████████████████▌    | 2.92M/3.05M [00:02<00:00, 2.52MB/s]\u001b[A"
     ]
    },
    {
     "name": "stdout",
     "output_type": "stream",
     "text": [
      "[##########################              ] | 66% Completed | 13.6s"
     ]
    },
    {
     "name": "stderr",
     "output_type": "stream",
     "text": [
      "\n",
      "                                                                                                                                                 \u001b[A2022-03-14 10:57:08,688 INFO Download rate 1.1M/s\n"
     ]
    },
    {
     "name": "stdout",
     "output_type": "stream",
     "text": [
      "[##########################              ] | 66% Completed | 13.7s"
     ]
    },
    {
     "name": "stderr",
     "output_type": "stream",
     "text": [
      "2022-03-14 10:57:08,765 INFO Download rate 432.4K/s                                                                                              \n"
     ]
    },
    {
     "name": "stdout",
     "output_type": "stream",
     "text": [
      "[##########################              ] | 66% Completed | 13.9s\n",
      "/media/nicolasf/END19101/ICU/data/CDS/operational/hindcasts/UKMO/TPRATE/ensemble_seas_forecasts_tprate_from_2009_03_UKMO.netcdf downloaded OK\n",
      "\n",
      "[###############################         ] | 77% Completed | 14.0s\n",
      "/media/nicolasf/END19101/ICU/data/CDS/operational/hindcasts/METEO_FRANCE/TPRATE/ensemble_seas_forecasts_tprate_from_2009_03_METEO_FRANCE.netcdf downloaded OK\n",
      "\n",
      "[###################################     ] | 88% Completed | 15.2s"
     ]
    },
    {
     "name": "stderr",
     "output_type": "stream",
     "text": [
      "2022-03-14 10:57:10,362 INFO Request is completed\n",
      "2022-03-14 10:57:10,365 INFO Downloading https://download-0007.copernicus-climate.eu/cache-compute-0007/cache/data6/adaptor.mars.external-1647208626.8003943-17945-15-3d32110b-fbf5-417f-99fc-6b9d442f54f5.nc to /media/nicolasf/END19101/ICU/data/CDS/operational/hindcasts/ECCC_GEM_NEMO/TPRATE/ensemble_seas_forecasts_tprate_from_2009_03_ECCC.netcdf (1.1M)\n"
     ]
    },
    {
     "name": "stdout",
     "output_type": "stream",
     "text": [
      "[###################################     ] | 88% Completed | 16.8s"
     ]
    },
    {
     "name": "stderr",
     "output_type": "stream",
     "text": [
      "  0%|                                                                                                                | 0.00/1.09M [00:00<?, ?B/s]"
     ]
    },
    {
     "name": "stdout",
     "output_type": "stream",
     "text": [
      "[###################################     ] | 88% Completed | 17.0s"
     ]
    },
    {
     "name": "stderr",
     "output_type": "stream",
     "text": [
      "  1%|█▍                                                                                                     | 16.0k/1.09M [00:00<00:19, 58.4kB/s]"
     ]
    },
    {
     "name": "stdout",
     "output_type": "stream",
     "text": [
      "[###################################     ] | 88% Completed | 17.3s"
     ]
    },
    {
     "name": "stderr",
     "output_type": "stream",
     "text": [
      "  6%|██████▏                                                                                                 | 66.0k/1.09M [00:00<00:08, 129kB/s]"
     ]
    },
    {
     "name": "stdout",
     "output_type": "stream",
     "text": [
      "[###################################     ] | 88% Completed | 17.6s"
     ]
    },
    {
     "name": "stderr",
     "output_type": "stream",
     "text": [
      " 12%|████████████▉                                                                                            | 138k/1.09M [00:00<00:05, 187kB/s]"
     ]
    },
    {
     "name": "stdout",
     "output_type": "stream",
     "text": [
      "[###################################     ] | 88% Completed | 17.9s"
     ]
    },
    {
     "name": "stderr",
     "output_type": "stream",
     "text": [
      " 27%|████████████████████████████▊                                                                            | 306k/1.09M [00:01<00:02, 345kB/s]"
     ]
    },
    {
     "name": "stdout",
     "output_type": "stream",
     "text": [
      "[###################################     ] | 88% Completed | 18.5s"
     ]
    },
    {
     "name": "stderr",
     "output_type": "stream",
     "text": [
      " 40%|██████████████████████████████████████████▎                                                              | 450k/1.09M [00:01<00:02, 298kB/s]"
     ]
    },
    {
     "name": "stdout",
     "output_type": "stream",
     "text": [
      "[###################################     ] | 88% Completed | 18.6s"
     ]
    },
    {
     "name": "stderr",
     "output_type": "stream",
     "text": [
      "2022-03-14 10:57:13,757 INFO Download rate 329.5K/s                                                                                              \n"
     ]
    },
    {
     "name": "stdout",
     "output_type": "stream",
     "text": [
      "[###################################     ] | 88% Completed | 19.0s\n",
      "/media/nicolasf/END19101/ICU/data/CDS/operational/hindcasts/ECCC_GEM_NEMO/TPRATE/ensemble_seas_forecasts_tprate_from_2009_03_ECCC.netcdf downloaded OK\n",
      "\n",
      "[########################################] | 100% Completed | 19.1s\n",
      "processing ECCC, path should be /media/nicolasf/END19101/ICU/data/CDS/operational/hindcasts/ECCC_CanCM4i/TPRATE\n",
      "processing ECCC, path should be /media/nicolasf/END19101/ICU/data/CDS/operational/hindcasts/ECCC_GEM_NEMO/TPRATE\n",
      "[                                        ] | 0% Completed |  0.0s\n",
      "/media/nicolasf/END19101/ICU/data/CDS/operational/hindcasts/DWD/TPRATE/ensemble_seas_forecasts_tprate_from_2010_03_DWD.netcdf exists already on disk, skipping download and returning path\n",
      "\n",
      "\n",
      "/media/nicolasf/END19101/ICU/data/CDS/operational/hindcasts/ECCC_CanCM4i/TPRATE/ensemble_seas_forecasts_tprate_from_2010_03_ECCC.netcdf exists already on disk, skipping download and returning path\n",
      "\n",
      "\n",
      "/media/nicolasf/END19101/ICU/data/CDS/operational/hindcasts/ECMWF/TPRATE/ensemble_seas_forecasts_tprate_from_2010_03_ECMWF.netcdf exists already on disk, skipping download and returning path\n",
      "\n",
      "\n",
      "attempting to download tprate for GCM ECCC, for level surface, year 2010, month 3, in netcdf, attempt 1 of 3\n",
      "\n",
      "\n",
      "attempting to download tprate for GCM UKMO, for level surface, year 2010, month 3, in netcdf, attempt 1 of 3\n",
      "\n",
      "\n",
      "/media/nicolasf/END19101/ICU/data/CDS/operational/hindcasts/CMCC/TPRATE/ensemble_seas_forecasts_tprate_from_2010_03_CMCC.netcdf exists already on disk, skipping download and returning path\n",
      "\n",
      "attempting to download tprate for GCM METEO_FRANCE, for level surface, year 2010, month 3, in netcdf, attempt 1 of 3\n",
      "\n",
      "\n",
      "\n",
      "attempting to download tprate for GCM JMA, for level surface, year 2010, month 3, in netcdf, attempt 1 of 3\n",
      "\n",
      "\n",
      "/media/nicolasf/END19101/ICU/data/CDS/operational/hindcasts/NCEP/TPRATE/ensemble_seas_forecasts_tprate_from_2010_03_NCEP.netcdf exists already on disk, skipping download and returning path\n",
      "\n",
      "[######################                  ] | 55% Completed |  0.2s"
     ]
    },
    {
     "name": "stderr",
     "output_type": "stream",
     "text": [
      "2022-03-14 10:57:14,463 INFO Welcome to the CDS\n",
      "2022-03-14 10:57:14,465 INFO Sending request to https://cds.climate.copernicus.eu/api/v2/resources/seasonal-monthly-single-levels\n"
     ]
    },
    {
     "name": "stdout",
     "output_type": "stream",
     "text": [
      "[######################                  ] | 55% Completed |  0.3s"
     ]
    },
    {
     "name": "stderr",
     "output_type": "stream",
     "text": [
      "2022-03-14 10:57:14,476 INFO Welcome to the CDS\n",
      "2022-03-14 10:57:14,478 INFO Welcome to the CDS\n",
      "2022-03-14 10:57:14,479 INFO Sending request to https://cds.climate.copernicus.eu/api/v2/resources/seasonal-monthly-single-levels\n",
      "2022-03-14 10:57:14,483 INFO Welcome to the CDS\n",
      "2022-03-14 10:57:14,484 INFO Sending request to https://cds.climate.copernicus.eu/api/v2/resources/seasonal-monthly-single-levels\n",
      "2022-03-14 10:57:14,491 INFO Sending request to https://cds.climate.copernicus.eu/api/v2/resources/seasonal-monthly-single-levels\n"
     ]
    },
    {
     "name": "stdout",
     "output_type": "stream",
     "text": [
      "[######################                  ] | 55% Completed |  0.5s"
     ]
    },
    {
     "name": "stderr",
     "output_type": "stream",
     "text": [
      "2022-03-14 10:57:14,766 INFO Request is queued\n"
     ]
    },
    {
     "name": "stdout",
     "output_type": "stream",
     "text": [
      "[######################                  ] | 55% Completed |  0.6s"
     ]
    },
    {
     "name": "stderr",
     "output_type": "stream",
     "text": [
      "2022-03-14 10:57:14,790 INFO Request is queued\n",
      "2022-03-14 10:57:14,793 INFO Request is queued\n",
      "2022-03-14 10:57:14,796 INFO Request is queued\n"
     ]
    },
    {
     "name": "stdout",
     "output_type": "stream",
     "text": [
      "[######################                  ] | 55% Completed |  1.9s"
     ]
    },
    {
     "name": "stderr",
     "output_type": "stream",
     "text": [
      "2022-03-14 10:57:16,089 INFO Request is running\n"
     ]
    },
    {
     "name": "stdout",
     "output_type": "stream",
     "text": [
      "[######################                  ] | 55% Completed |  6.2s"
     ]
    },
    {
     "name": "stderr",
     "output_type": "stream",
     "text": [
      "2022-03-14 10:57:20,403 INFO Request is running\n",
      "2022-03-14 10:57:20,425 INFO Request is failed\n",
      "2022-03-14 10:57:20,426 ERROR Message: an internal error occurred processing your request\n",
      "2022-03-14 10:57:20,428 ERROR Reason:  [Errno 13] Permission denied: '/cache/tmp'\n",
      "2022-03-14 10:57:20,432 ERROR   Traceback (most recent call last):\n",
      "2022-03-14 10:57:20,432 INFO Request is completed\n",
      "2022-03-14 10:57:20,432 ERROR     File \"/usr/lib64/python3.6/os.py\", line 220, in makedirs\n",
      "2022-03-14 10:57:20,433 INFO Downloading https://download-0005.copernicus-climate.eu/cache-compute-0005/cache/data9/adaptor.mars.external-1647208638.8306062-945-19-c0abadaa-51a0-4aaa-87b9-05eca20c0d51.nc to /media/nicolasf/END19101/ICU/data/CDS/operational/hindcasts/METEO_FRANCE/TPRATE/ensemble_seas_forecasts_tprate_from_2010_03_METEO_FRANCE.netcdf (2.7M)\n",
      "2022-03-14 10:57:20,433 ERROR       mkdir(name, mode)\n",
      "2022-03-14 10:57:20,435 INFO Request is failed\n",
      "2022-03-14 10:57:20,436 ERROR   FileExistsError: [Errno 17] File exists: '/cache/tmp'\n",
      "2022-03-14 10:57:20,437 ERROR Message: an internal error occurred processing your request\n",
      "2022-03-14 10:57:20,438 ERROR Reason:  [Errno 13] Permission denied: '/cache/tmp'\n",
      "2022-03-14 10:57:20,438 ERROR   Traceback (most recent call last):\n",
      "2022-03-14 10:57:20,439 ERROR     File \"/usr/lib64/python3.6/os.py\", line 220, in makedirs\n",
      "2022-03-14 10:57:20,440 ERROR       mkdir(name, mode)\n",
      "2022-03-14 10:57:20,440 ERROR   FileExistsError: [Errno 17] File exists: '/cache/tmp'\n"
     ]
    },
    {
     "name": "stdout",
     "output_type": "stream",
     "text": [
      "\n",
      "failure to download or save /media/nicolasf/END19101/ICU/data/CDS/operational/hindcasts/JMA/TPRATE/ensemble_seas_forecasts_tprate_from_2010_03_JMA.netcdf\n",
      "\n",
      "\n",
      "attempting to download tprate for GCM JMA, for level surface, year 2010, month 3, in netcdf, attempt 2 of 3\n",
      "\n",
      "\n",
      "failure to download or save /media/nicolasf/END19101/ICU/data/CDS/operational/hindcasts/UKMO/TPRATE/ensemble_seas_forecasts_tprate_from_2010_03_UKMO.netcdf\n",
      "\n",
      "\n",
      "attempting to download tprate for GCM UKMO, for level surface, year 2010, month 3, in netcdf, attempt 2 of 3\n",
      "\n",
      "[######################                  ] | 55% Completed |  6.5s"
     ]
    },
    {
     "name": "stderr",
     "output_type": "stream",
     "text": [
      "2022-03-14 10:57:20,725 INFO Welcome to the CDS\n",
      "  0%|                                                                                                                | 0.00/2.73M [00:00<?, ?B/s]2022-03-14 10:57:20,727 INFO Welcome to the CDS\n",
      "2022-03-14 10:57:20,729 INFO Sending request to https://cds.climate.copernicus.eu/api/v2/resources/seasonal-monthly-single-levels\n",
      "2022-03-14 10:57:20,735 INFO Sending request to https://cds.climate.copernicus.eu/api/v2/resources/seasonal-monthly-single-levels\n"
     ]
    },
    {
     "name": "stdout",
     "output_type": "stream",
     "text": [
      "[######################                  ] | 55% Completed |  6.8s"
     ]
    },
    {
     "name": "stderr",
     "output_type": "stream",
     "text": [
      "  0%|▎                                                                                                      | 8.00k/2.73M [00:00<01:34, 30.1kB/s]2022-03-14 10:57:21,033 INFO Request is queued\n",
      "2022-03-14 10:57:21,040 INFO Request is queued\n"
     ]
    },
    {
     "name": "stdout",
     "output_type": "stream",
     "text": [
      "[######################                  ] | 55% Completed |  7.0s"
     ]
    },
    {
     "name": "stderr",
     "output_type": "stream",
     "text": [
      "  1%|█▍                                                                                                     | 40.0k/2.73M [00:00<00:34, 81.2kB/s]"
     ]
    },
    {
     "name": "stdout",
     "output_type": "stream",
     "text": [
      "[######################                  ] | 55% Completed |  7.3s"
     ]
    },
    {
     "name": "stderr",
     "output_type": "stream",
     "text": [
      "  3%|███▌                                                                                                    | 96.0k/2.73M [00:00<00:20, 137kB/s]"
     ]
    },
    {
     "name": "stdout",
     "output_type": "stream",
     "text": [
      "[######################                  ] | 55% Completed |  7.6s"
     ]
    },
    {
     "name": "stderr",
     "output_type": "stream",
     "text": [
      "  7%|███████▍                                                                                                 | 199k/2.73M [00:01<00:11, 230kB/s]"
     ]
    },
    {
     "name": "stdout",
     "output_type": "stream",
     "text": [
      "[######################                  ] | 55% Completed |  8.0s"
     ]
    },
    {
     "name": "stderr",
     "output_type": "stream",
     "text": [
      " 15%|███████████████▉                                                                                         | 422k/2.73M [00:01<00:05, 438kB/s]"
     ]
    },
    {
     "name": "stdout",
     "output_type": "stream",
     "text": [
      "[######################                  ] | 55% Completed |  8.2s"
     ]
    },
    {
     "name": "stderr",
     "output_type": "stream",
     "text": [
      "2022-03-14 10:57:22,326 INFO Request is running\n"
     ]
    },
    {
     "name": "stdout",
     "output_type": "stream",
     "text": [
      "[######################                  ] | 55% Completed |  8.3s"
     ]
    },
    {
     "name": "stderr",
     "output_type": "stream",
     "text": [
      " 31%|████████████████████████████████▌                                                                        | 864k/2.73M [00:01<00:02, 833kB/s]"
     ]
    },
    {
     "name": "stdout",
     "output_type": "stream",
     "text": [
      "[######################                  ] | 55% Completed |  8.5s"
     ]
    },
    {
     "name": "stderr",
     "output_type": "stream",
     "text": [
      " 63%|████████████████████████████████████████████████████████████████▍                                      | 1.70M/2.73M [00:01<00:00, 1.60MB/s]"
     ]
    },
    {
     "name": "stdout",
     "output_type": "stream",
     "text": [
      "[######################                  ] | 55% Completed |  8.7s"
     ]
    },
    {
     "name": "stderr",
     "output_type": "stream",
     "text": [
      "2022-03-14 10:57:22,846 INFO Download rate 1.1M/s                                                                                                \n"
     ]
    },
    {
     "name": "stdout",
     "output_type": "stream",
     "text": [
      "[######################                  ] | 55% Completed |  9.0s\n",
      "/media/nicolasf/END19101/ICU/data/CDS/operational/hindcasts/METEO_FRANCE/TPRATE/ensemble_seas_forecasts_tprate_from_2010_03_METEO_FRANCE.netcdf downloaded OK\n",
      "\n",
      "[##########################              ] | 66% Completed |  9.9s"
     ]
    },
    {
     "name": "stderr",
     "output_type": "stream",
     "text": [
      "2022-03-14 10:57:24,074 INFO Request is completed\n",
      "2022-03-14 10:57:24,075 INFO Downloading https://download-0011.copernicus-climate.eu/cache-compute-0011/cache/data9/adaptor.mars.external-1647208640.742604-26975-10-353dc902-b7b1-4a57-be45-98a3018e237f.nc to /media/nicolasf/END19101/ICU/data/CDS/operational/hindcasts/ECCC_GEM_NEMO/TPRATE/ensemble_seas_forecasts_tprate_from_2010_03_ECCC.netcdf (1.1M)\n",
      "2022-03-14 10:57:24,119 INFO Request is completed\n",
      "2022-03-14 10:57:24,122 INFO Downloading https://download-0007.copernicus-climate.eu/cache-compute-0007/cache/data6/adaptor.mars.external-1647208642.4148982-17237-15-0959222a-5e9a-4004-a157-1440ac50daeb.nc to /media/nicolasf/END19101/ICU/data/CDS/operational/hindcasts/JMA/TPRATE/ensemble_seas_forecasts_tprate_from_2010_03_JMA.netcdf (719.2K)\n",
      "2022-03-14 10:57:24,123 INFO Request is running\n"
     ]
    },
    {
     "name": "stdout",
     "output_type": "stream",
     "text": [
      "[##########################              ] | 66% Completed | 10.2s"
     ]
    },
    {
     "name": "stderr",
     "output_type": "stream",
     "text": [
      "  0%|                                                                                                                | 0.00/1.09M [00:00<?, ?B/s]\n",
      "  0%|                                                                                                                 | 0.00/719k [00:00<?, ?B/s]\u001b[A"
     ]
    },
    {
     "name": "stdout",
     "output_type": "stream",
     "text": [
      "[##########################              ] | 66% Completed | 10.5s"
     ]
    },
    {
     "name": "stderr",
     "output_type": "stream",
     "text": [
      "  1%|▋                                                                                                      | 8.00k/1.09M [00:00<00:39, 28.6kB/s]\n",
      "  1%|█▏                                                                                                      | 8.00k/719k [00:00<00:24, 29.2kB/s]\u001b[A"
     ]
    },
    {
     "name": "stdout",
     "output_type": "stream",
     "text": [
      "[##########################              ] | 66% Completed | 10.7s"
     ]
    },
    {
     "name": "stderr",
     "output_type": "stream",
     "text": [
      "  3%|███▏                                                                                                   | 34.0k/1.09M [00:00<00:16, 66.3kB/s]"
     ]
    },
    {
     "name": "stdout",
     "output_type": "stream",
     "text": [
      "[##########################              ] | 66% Completed | 10.8s"
     ]
    },
    {
     "name": "stderr",
     "output_type": "stream",
     "text": [
      "\n",
      "  5%|████▉                                                                                                   | 34.0k/719k [00:00<00:10, 66.8kB/s]\u001b[A"
     ]
    },
    {
     "name": "stdout",
     "output_type": "stream",
     "text": [
      "[##########################              ] | 66% Completed | 11.0s"
     ]
    },
    {
     "name": "stderr",
     "output_type": "stream",
     "text": [
      "  8%|████████▍                                                                                               | 90.0k/1.09M [00:00<00:08, 127kB/s]"
     ]
    },
    {
     "name": "stdout",
     "output_type": "stream",
     "text": [
      "[##########################              ] | 66% Completed | 11.1s"
     ]
    },
    {
     "name": "stderr",
     "output_type": "stream",
     "text": [
      "\n",
      " 13%|██████████████                                                                                           | 96.0k/719k [00:00<00:04, 137kB/s]\u001b[A"
     ]
    },
    {
     "name": "stdout",
     "output_type": "stream",
     "text": [
      "[##########################              ] | 66% Completed | 11.3s"
     ]
    },
    {
     "name": "stderr",
     "output_type": "stream",
     "text": [
      " 18%|██████████████████▉                                                                                      | 202k/1.09M [00:01<00:03, 234kB/s]"
     ]
    },
    {
     "name": "stdout",
     "output_type": "stream",
     "text": [
      "[##########################              ] | 66% Completed | 11.4s"
     ]
    },
    {
     "name": "stderr",
     "output_type": "stream",
     "text": [
      "\n",
      " 28%|█████████████████████████████▍                                                                            | 200k/719k [00:01<00:02, 229kB/s]\u001b[A"
     ]
    },
    {
     "name": "stdout",
     "output_type": "stream",
     "text": [
      "[##########################              ] | 66% Completed | 11.6s"
     ]
    },
    {
     "name": "stderr",
     "output_type": "stream",
     "text": [
      " 31%|████████████████████████████████▉                                                                        | 350k/1.09M [00:01<00:02, 340kB/s]\n",
      " 59%|██████████████████████████████████████████████████████████████▏                                           | 422k/719k [00:01<00:00, 431kB/s]\u001b[A"
     ]
    },
    {
     "name": "stdout",
     "output_type": "stream",
     "text": [
      "[##########################              ] | 66% Completed | 11.8s"
     ]
    },
    {
     "name": "stderr",
     "output_type": "stream",
     "text": [
      "\n",
      "                                                                                                                                                 \u001b[A2022-03-14 10:57:25,987 INFO Download rate 386.1K/s\n"
     ]
    },
    {
     "name": "stdout",
     "output_type": "stream",
     "text": [
      "[##########################              ] | 66% Completed | 11.9s"
     ]
    },
    {
     "name": "stderr",
     "output_type": "stream",
     "text": [
      " 46%|███████████████████████████████████████████████▉                                                         | 510k/1.09M [00:01<00:01, 418kB/s]"
     ]
    },
    {
     "name": "stdout",
     "output_type": "stream",
     "text": [
      "[##########################              ] | 66% Completed | 12.1s\n",
      "/media/nicolasf/END19101/ICU/data/CDS/operational/hindcasts/JMA/TPRATE/ensemble_seas_forecasts_tprate_from_2010_03_JMA.netcdf downloaded OK\n",
      "\n"
     ]
    },
    {
     "name": "stderr",
     "output_type": "stream",
     "text": [
      " 60%|██████████████████████████████████████████████████████████████▉                                          | 670k/1.09M [00:02<00:00, 468kB/s]"
     ]
    },
    {
     "name": "stdout",
     "output_type": "stream",
     "text": [
      "[###############################         ] | 77% Completed | 12.4s"
     ]
    },
    {
     "name": "stderr",
     "output_type": "stream",
     "text": [
      " 75%|██████████████████████████████████████████████████████████████████████████████▌                          | 836k/1.09M [00:02<00:00, 507kB/s]2022-03-14 10:57:26,672 INFO Request is completed\n",
      "2022-03-14 10:57:26,673 INFO Downloading https://download-0001.copernicus-climate.eu/cache-compute-0001/cache/data1/adaptor.mars.external-1647208645.462162-25425-14-a95ccdb2-5177-4736-871a-9dad7e9e77dd.nc to /media/nicolasf/END19101/ICU/data/CDS/operational/hindcasts/UKMO/TPRATE/ensemble_seas_forecasts_tprate_from_2010_03_UKMO.netcdf (3.1M)\n"
     ]
    },
    {
     "name": "stdout",
     "output_type": "stream",
     "text": [
      "[###############################         ] | 77% Completed | 12.7s"
     ]
    },
    {
     "name": "stderr",
     "output_type": "stream",
     "text": [
      " 91%|██████████████████████████████████████████████████████████████████████████████████████████████▏         | 0.99M/1.09M [00:02<00:00, 544kB/s]\n",
      "  0%|                                                                                                                | 0.00/3.05M [00:00<?, ?B/s]\u001b[A"
     ]
    },
    {
     "name": "stdout",
     "output_type": "stream",
     "text": [
      "[###############################         ] | 77% Completed | 12.8s"
     ]
    },
    {
     "name": "stderr",
     "output_type": "stream",
     "text": [
      "2022-03-14 10:57:27,072 INFO Download rate 373K/s                                                                                                \n"
     ]
    },
    {
     "name": "stdout",
     "output_type": "stream",
     "text": [
      "[###############################         ] | 77% Completed | 13.0s"
     ]
    },
    {
     "name": "stderr",
     "output_type": "stream",
     "text": [
      "\n",
      "  0%|▎                                                                                                      | 8.00k/3.05M [00:00<01:48, 29.4kB/s]\u001b[A"
     ]
    },
    {
     "name": "stdout",
     "output_type": "stream",
     "text": [
      "[###############################         ] | 77% Completed | 13.1s\n",
      "/media/nicolasf/END19101/ICU/data/CDS/operational/hindcasts/ECCC_GEM_NEMO/TPRATE/ensemble_seas_forecasts_tprate_from_2010_03_ECCC.netcdf downloaded OK\n",
      "\n",
      "[###################################     ] | 88% Completed | 13.3s"
     ]
    },
    {
     "name": "stderr",
     "output_type": "stream",
     "text": [
      "\n",
      "  1%|█▎                                                                                                     | 40.0k/3.05M [00:00<00:39, 80.1kB/s]\u001b[A"
     ]
    },
    {
     "name": "stdout",
     "output_type": "stream",
     "text": [
      "[###################################     ] | 88% Completed | 13.6s"
     ]
    },
    {
     "name": "stderr",
     "output_type": "stream",
     "text": [
      "\n",
      "  3%|███▏                                                                                                    | 95.0k/3.05M [00:00<00:23, 135kB/s]\u001b[A"
     ]
    },
    {
     "name": "stdout",
     "output_type": "stream",
     "text": [
      "[###################################     ] | 88% Completed | 13.8s"
     ]
    },
    {
     "name": "stderr",
     "output_type": "stream",
     "text": [
      "\n",
      "  6%|██████▍                                                                                                  | 192k/3.05M [00:01<00:13, 221kB/s]\u001b[A"
     ]
    },
    {
     "name": "stdout",
     "output_type": "stream",
     "text": [
      "[###################################     ] | 88% Completed | 14.2s"
     ]
    },
    {
     "name": "stderr",
     "output_type": "stream",
     "text": [
      "\n",
      " 12%|█████████████                                                                                            | 390k/3.05M [00:01<00:06, 400kB/s]\u001b[A"
     ]
    },
    {
     "name": "stdout",
     "output_type": "stream",
     "text": [
      "[###################################     ] | 88% Completed | 14.5s"
     ]
    },
    {
     "name": "stderr",
     "output_type": "stream",
     "text": [
      "\n",
      " 25%|██████████████████████████                                                                               | 774k/3.05M [00:01<00:03, 738kB/s]\u001b[A"
     ]
    },
    {
     "name": "stdout",
     "output_type": "stream",
     "text": [
      "[###################################     ] | 88% Completed | 14.8s"
     ]
    },
    {
     "name": "stderr",
     "output_type": "stream",
     "text": [
      "\n",
      " 50%|███████████████████████████████████████████████████▎                                                   | 1.52M/3.05M [00:01<00:01, 1.43MB/s]\u001b[A"
     ]
    },
    {
     "name": "stdout",
     "output_type": "stream",
     "text": [
      "[###################################     ] | 88% Completed | 15.1s"
     ]
    },
    {
     "name": "stderr",
     "output_type": "stream",
     "text": [
      "\n",
      " 79%|█████████████████████████████████████████████████████████████████████████████████▊                     | 2.42M/3.05M [00:02<00:00, 1.98MB/s]\u001b[A"
     ]
    },
    {
     "name": "stdout",
     "output_type": "stream",
     "text": [
      "[###################################     ] | 88% Completed | 15.2s"
     ]
    },
    {
     "name": "stderr",
     "output_type": "stream",
     "text": [
      "\n",
      "                                                                                                                                                 \u001b[A2022-03-14 10:57:29,368 INFO Download rate 1.1M/s\n"
     ]
    },
    {
     "name": "stdout",
     "output_type": "stream",
     "text": [
      "[###################################     ] | 88% Completed | 15.5s\n",
      "/media/nicolasf/END19101/ICU/data/CDS/operational/hindcasts/UKMO/TPRATE/ensemble_seas_forecasts_tprate_from_2010_03_UKMO.netcdf downloaded OK\n",
      "\n",
      "[########################################] | 100% Completed | 15.6s\n",
      "processing ECCC, path should be /media/nicolasf/END19101/ICU/data/CDS/operational/hindcasts/ECCC_CanCM4i/TPRATE\n",
      "processing ECCC, path should be /media/nicolasf/END19101/ICU/data/CDS/operational/hindcasts/ECCC_GEM_NEMO/TPRATE\n",
      "[                                        ] | 0% Completed |  0.0s\n",
      "/media/nicolasf/END19101/ICU/data/CDS/operational/hindcasts/NCEP/TPRATE/ensemble_seas_forecasts_tprate_from_2011_03_NCEP.netcdf exists already on disk, skipping download and returning path\n",
      "\n",
      "/media/nicolasf/END19101/ICU/data/CDS/operational/hindcasts/ECMWF/TPRATE/ensemble_seas_forecasts_tprate_from_2011_03_ECMWF.netcdf exists already on disk, skipping download and returning path\n",
      "\n",
      "\n",
      "\n",
      "/media/nicolasf/END19101/ICU/data/CDS/operational/hindcasts/ECCC_CanCM4i/TPRATE/ensemble_seas_forecasts_tprate_from_2011_03_ECCC.netcdf exists already on disk, skipping download and returning path\n",
      "\n",
      "/media/nicolasf/END19101/ICU/data/CDS/operational/hindcasts/CMCC/TPRATE/ensemble_seas_forecasts_tprate_from_2011_03_CMCC.netcdf exists already on disk, skipping download and returning path\n",
      "\n",
      "\n",
      "attempting to download tprate for GCM JMA, for level surface, year 2011, month 3, in netcdf, attempt 1 of 3\n",
      "\n",
      "attempting to download tprate for GCM UKMO, for level surface, year 2011, month 3, in netcdf, attempt 1 of 3\n",
      "\n",
      "\n",
      "/media/nicolasf/END19101/ICU/data/CDS/operational/hindcasts/DWD/TPRATE/ensemble_seas_forecasts_tprate_from_2011_03_DWD.netcdf exists already on disk, skipping download and returning path\n",
      "\n",
      "\n",
      "attempting to download tprate for GCM METEO_FRANCE, for level surface, year 2011, month 3, in netcdf, attempt 1 of 3\n",
      "\n",
      "\n",
      "\n",
      "\n",
      "attempting to download tprate for GCM ECCC, for level surface, year 2011, month 3, in netcdf, attempt 1 of 3\n",
      "\n",
      "[######################                  ] | 55% Completed |  0.2s"
     ]
    },
    {
     "name": "stderr",
     "output_type": "stream",
     "text": [
      "2022-03-14 10:57:30,027 INFO Welcome to the CDS\n",
      "2022-03-14 10:57:30,030 INFO Welcome to the CDS\n",
      "2022-03-14 10:57:30,031 INFO Sending request to https://cds.climate.copernicus.eu/api/v2/resources/seasonal-monthly-single-levels\n",
      "2022-03-14 10:57:30,033 INFO Welcome to the CDS\n"
     ]
    },
    {
     "name": "stdout",
     "output_type": "stream",
     "text": [
      "[######################                  ] | 55% Completed |  0.3s"
     ]
    },
    {
     "name": "stderr",
     "output_type": "stream",
     "text": [
      "2022-03-14 10:57:30,035 INFO Sending request to https://cds.climate.copernicus.eu/api/v2/resources/seasonal-monthly-single-levels\n",
      "2022-03-14 10:57:30,037 INFO Welcome to the CDS\n",
      "2022-03-14 10:57:30,056 INFO Sending request to https://cds.climate.copernicus.eu/api/v2/resources/seasonal-monthly-single-levels\n",
      "2022-03-14 10:57:30,047 INFO Sending request to https://cds.climate.copernicus.eu/api/v2/resources/seasonal-monthly-single-levels\n"
     ]
    },
    {
     "name": "stdout",
     "output_type": "stream",
     "text": [
      "[######################                  ] | 55% Completed |  0.5s"
     ]
    },
    {
     "name": "stderr",
     "output_type": "stream",
     "text": [
      "2022-03-14 10:57:30,342 INFO Request is queued\n",
      "2022-03-14 10:57:30,346 INFO Request is queued\n"
     ]
    },
    {
     "name": "stdout",
     "output_type": "stream",
     "text": [
      "[######################                  ] | 55% Completed |  0.6s"
     ]
    },
    {
     "name": "stderr",
     "output_type": "stream",
     "text": [
      "2022-03-14 10:57:30,355 INFO Request is queued\n",
      "2022-03-14 10:57:30,374 INFO Request is queued\n"
     ]
    },
    {
     "name": "stdout",
     "output_type": "stream",
     "text": [
      "[######################                  ] | 55% Completed |  1.8s"
     ]
    },
    {
     "name": "stderr",
     "output_type": "stream",
     "text": [
      "2022-03-14 10:57:31,647 INFO Request is running\n"
     ]
    },
    {
     "name": "stdout",
     "output_type": "stream",
     "text": [
      "[######################                  ] | 55% Completed |  3.7s"
     ]
    },
    {
     "name": "stderr",
     "output_type": "stream",
     "text": [
      "2022-03-14 10:57:33,429 INFO Request is running\n",
      "2022-03-14 10:57:33,442 INFO Request is completed\n",
      "2022-03-14 10:57:33,444 INFO Downloading https://download-0009.copernicus-climate.eu/cache-compute-0009/cache/data7/adaptor.mars.external-1647208651.451518-14338-2-84a94c34-51c4-45ab-ae0f-484ee3a48876.nc to /media/nicolasf/END19101/ICU/data/CDS/operational/hindcasts/JMA/TPRATE/ensemble_seas_forecasts_tprate_from_2011_03_JMA.netcdf (719.2K)\n"
     ]
    },
    {
     "name": "stdout",
     "output_type": "stream",
     "text": [
      "[######################                  ] | 55% Completed |  5.0s"
     ]
    },
    {
     "name": "stderr",
     "output_type": "stream",
     "text": [
      "  0%|                                                                                                                 | 0.00/719k [00:00<?, ?B/s]"
     ]
    },
    {
     "name": "stdout",
     "output_type": "stream",
     "text": [
      "[######################                  ] | 55% Completed |  5.2s"
     ]
    },
    {
     "name": "stderr",
     "output_type": "stream",
     "text": [
      "  2%|██▎                                                                                                     | 16.0k/719k [00:00<00:12, 58.7kB/s]"
     ]
    },
    {
     "name": "stdout",
     "output_type": "stream",
     "text": [
      "[######################                  ] | 55% Completed |  5.5s"
     ]
    },
    {
     "name": "stderr",
     "output_type": "stream",
     "text": [
      "  8%|████████▉                                                                                                | 61.0k/719k [00:00<00:05, 120kB/s]"
     ]
    },
    {
     "name": "stdout",
     "output_type": "stream",
     "text": [
      "[######################                  ] | 55% Completed |  5.8s"
     ]
    },
    {
     "name": "stderr",
     "output_type": "stream",
     "text": [
      " 16%|█████████████████▏                                                                                        | 117k/719k [00:00<00:03, 158kB/s]"
     ]
    },
    {
     "name": "stdout",
     "output_type": "stream",
     "text": [
      "[######################                  ] | 55% Completed |  6.1s"
     ]
    },
    {
     "name": "stderr",
     "output_type": "stream",
     "text": [
      " 36%|██████████████████████████████████████▍                                                                   | 261k/719k [00:01<00:01, 301kB/s]"
     ]
    },
    {
     "name": "stdout",
     "output_type": "stream",
     "text": [
      "[######################                  ] | 55% Completed |  6.4s"
     ]
    },
    {
     "name": "stderr",
     "output_type": "stream",
     "text": [
      " 67%|███████████████████████████████████████████████████████████████████████▎                                  | 484k/719k [00:01<00:00, 481kB/s]"
     ]
    },
    {
     "name": "stdout",
     "output_type": "stream",
     "text": [
      "[######################                  ] | 55% Completed |  6.7s"
     ]
    },
    {
     "name": "stderr",
     "output_type": "stream",
     "text": [
      " 87%|████████████████████████████████████████████████████████████████████████████████████████████▋             | 629k/719k [00:01<00:00, 483kB/s]"
     ]
    },
    {
     "name": "stdout",
     "output_type": "stream",
     "text": [
      "[######################                  ] | 55% Completed |  6.9s"
     ]
    },
    {
     "name": "stderr",
     "output_type": "stream",
     "text": [
      " 99%|████████████████████████████████████████████████████████████████████████████████████████████████████████▍ | 709k/719k [00:02<00:00, 421kB/s]"
     ]
    },
    {
     "name": "stdout",
     "output_type": "stream",
     "text": [
      "[######################                  ] | 55% Completed |  8.1s"
     ]
    },
    {
     "name": "stderr",
     "output_type": "stream",
     "text": [
      "2022-03-14 10:57:37,944 INFO Download rate 159.9K/s                                                                                              \n"
     ]
    },
    {
     "name": "stdout",
     "output_type": "stream",
     "text": [
      "[######################                  ] | 55% Completed |  8.4s\n",
      "/media/nicolasf/END19101/ICU/data/CDS/operational/hindcasts/JMA/TPRATE/ensemble_seas_forecasts_tprate_from_2011_03_JMA.netcdf downloaded OK\n",
      "\n",
      "[##########################              ] | 66% Completed |  9.9s"
     ]
    },
    {
     "name": "stderr",
     "output_type": "stream",
     "text": [
      "2022-03-14 10:57:39,645 INFO Request is completed\n",
      "2022-03-14 10:57:39,647 INFO Downloading https://download-0012.copernicus-climate.eu/cache-compute-0012/cache/data0/adaptor.mars.external-1647208655.3940358-28165-8-ceebecb6-d535-40fd-ab3e-891dfbcd21cf.nc to /media/nicolasf/END19101/ICU/data/CDS/operational/hindcasts/UKMO/TPRATE/ensemble_seas_forecasts_tprate_from_2011_03_UKMO.netcdf (3.1M)\n",
      "2022-03-14 10:57:39,649 INFO Request is running\n",
      "2022-03-14 10:57:39,674 INFO Request is completed\n",
      "2022-03-14 10:57:39,675 INFO Downloading https://download-0006.copernicus-climate.eu/cache-compute-0006/cache/data3/adaptor.mars.external-1647208658.0043044-15661-12-60bcbe2b-8df9-420d-b549-f6d52fb5469a.nc to /media/nicolasf/END19101/ICU/data/CDS/operational/hindcasts/ECCC_GEM_NEMO/TPRATE/ensemble_seas_forecasts_tprate_from_2011_03_ECCC.netcdf (1.1M)\n"
     ]
    },
    {
     "name": "stdout",
     "output_type": "stream",
     "text": [
      "[##########################              ] | 66% Completed | 11.1s"
     ]
    },
    {
     "name": "stderr",
     "output_type": "stream",
     "text": [
      "  0%|                                                                                                                | 0.00/3.05M [00:00<?, ?B/s]"
     ]
    },
    {
     "name": "stdout",
     "output_type": "stream",
     "text": [
      "[##########################              ] | 66% Completed | 11.4s"
     ]
    },
    {
     "name": "stderr",
     "output_type": "stream",
     "text": [
      "  1%|▌                                                                                                      | 16.0k/3.05M [00:00<00:55, 57.2kB/s]\n",
      "  0%|                                                                                                                | 0.00/1.09M [00:00<?, ?B/s]\u001b[A"
     ]
    },
    {
     "name": "stdout",
     "output_type": "stream",
     "text": [
      "[##########################              ] | 66% Completed | 11.7s"
     ]
    },
    {
     "name": "stderr",
     "output_type": "stream",
     "text": [
      "\n",
      "  2%|█▉                                                                                                      | 60.0k/3.05M [00:00<00:27, 116kB/s]\u001b[A"
     ]
    },
    {
     "name": "stdout",
     "output_type": "stream",
     "text": [
      "[##########################              ] | 66% Completed | 12.0s"
     ]
    },
    {
     "name": "stderr",
     "output_type": "stream",
     "text": [
      "\n",
      "  4%|████▍                                                                                                    | 132k/3.05M [00:00<00:17, 180kB/s]\u001b[A"
     ]
    },
    {
     "name": "stdout",
     "output_type": "stream",
     "text": [
      "[##########################              ] | 66% Completed | 12.3s"
     ]
    },
    {
     "name": "stderr",
     "output_type": "stream",
     "text": [
      "\n",
      "  9%|█████████▉                                                                                               | 294k/3.05M [00:01<00:08, 336kB/s]\u001b[A"
     ]
    },
    {
     "name": "stdout",
     "output_type": "stream",
     "text": [
      "[##########################              ] | 66% Completed | 12.5s"
     ]
    },
    {
     "name": "stderr",
     "output_type": "stream",
     "text": [
      "\n",
      " 26%|██████████████████████████▊                                                                              | 286k/1.09M [00:01<00:02, 332kB/s]\u001b[A"
     ]
    },
    {
     "name": "stdout",
     "output_type": "stream",
     "text": [
      "[##########################              ] | 66% Completed | 12.6s"
     ]
    },
    {
     "name": "stderr",
     "output_type": "stream",
     "text": [
      " 20%|████████████████████▋                                                                                    | 617k/3.05M [00:01<00:04, 629kB/s]"
     ]
    },
    {
     "name": "stdout",
     "output_type": "stream",
     "text": [
      "[##########################              ] | 66% Completed | 12.8s"
     ]
    },
    {
     "name": "stderr",
     "output_type": "stream",
     "text": [
      "\n",
      " 40%|█████████████████████████████████████████▌                                                             | 1.23M/3.05M [00:01<00:01, 1.19MB/s]\u001b[A"
     ]
    },
    {
     "name": "stdout",
     "output_type": "stream",
     "text": [
      "[##########################              ] | 66% Completed | 12.9s"
     ]
    },
    {
     "name": "stderr",
     "output_type": "stream",
     "text": [
      "\n",
      "                                                                                                                                                 \u001b[A2022-03-14 10:57:42,711 INFO Download rate 368.1K/s\n"
     ]
    },
    {
     "name": "stdout",
     "output_type": "stream",
     "text": [
      "[##########################              ] | 66% Completed | 13.2s"
     ]
    },
    {
     "name": "stderr",
     "output_type": "stream",
     "text": [
      " 65%|██████████████████████████████████████████████████████████████████▋                                    | 1.97M/3.05M [00:02<00:00, 1.64MB/s]"
     ]
    },
    {
     "name": "stdout",
     "output_type": "stream",
     "text": [
      "\n",
      "/media/nicolasf/END19101/ICU/data/CDS/operational/hindcasts/ECCC_GEM_NEMO/TPRATE/ensemble_seas_forecasts_tprate_from_2011_03_ECCC.netcdf downloaded OK\n",
      "\n",
      "[###############################         ] | 77% Completed | 13.3s"
     ]
    },
    {
     "name": "stderr",
     "output_type": "stream",
     "text": [
      "2022-03-14 10:57:43,077 INFO Download rate 912.2K/s                                                                                              \n"
     ]
    },
    {
     "name": "stdout",
     "output_type": "stream",
     "text": [
      "[###############################         ] | 77% Completed | 13.6s\n",
      "/media/nicolasf/END19101/ICU/data/CDS/operational/hindcasts/UKMO/TPRATE/ensemble_seas_forecasts_tprate_from_2011_03_UKMO.netcdf downloaded OK\n",
      "\n",
      "[###################################     ] | 88% Completed | 15.2s"
     ]
    },
    {
     "name": "stderr",
     "output_type": "stream",
     "text": [
      "2022-03-14 10:57:45,013 INFO Request is completed\n",
      "2022-03-14 10:57:45,013 INFO Downloading https://download-0005.copernicus-climate.eu/cache-compute-0005/cache/data3/adaptor.mars.external-1647208662.1757784-14621-6-1c15422d-d8e0-454d-8abb-956e8cbafcf8.nc to /media/nicolasf/END19101/ICU/data/CDS/operational/hindcasts/METEO_FRANCE/TPRATE/ensemble_seas_forecasts_tprate_from_2011_03_METEO_FRANCE.netcdf (2.7M)\n"
     ]
    },
    {
     "name": "stdout",
     "output_type": "stream",
     "text": [
      "[###################################     ] | 88% Completed | 15.5s"
     ]
    },
    {
     "name": "stderr",
     "output_type": "stream",
     "text": [
      "  0%|                                                                                                                | 0.00/2.73M [00:00<?, ?B/s]"
     ]
    },
    {
     "name": "stdout",
     "output_type": "stream",
     "text": [
      "[###################################     ] | 88% Completed | 15.8s"
     ]
    },
    {
     "name": "stderr",
     "output_type": "stream",
     "text": [
      "  0%|▎                                                                                                      | 8.00k/2.73M [00:00<01:36, 29.4kB/s]"
     ]
    },
    {
     "name": "stdout",
     "output_type": "stream",
     "text": [
      "[###################################     ] | 88% Completed | 16.0s"
     ]
    },
    {
     "name": "stderr",
     "output_type": "stream",
     "text": [
      "  1%|█▎                                                                                                     | 34.0k/2.73M [00:00<00:41, 67.7kB/s]"
     ]
    },
    {
     "name": "stdout",
     "output_type": "stream",
     "text": [
      "[###################################     ] | 88% Completed | 16.4s"
     ]
    },
    {
     "name": "stderr",
     "output_type": "stream",
     "text": [
      "  3%|███▎                                                                                                    | 90.0k/2.73M [00:00<00:22, 122kB/s]"
     ]
    },
    {
     "name": "stdout",
     "output_type": "stream",
     "text": [
      "[###################################     ] | 88% Completed | 16.7s"
     ]
    },
    {
     "name": "stderr",
     "output_type": "stream",
     "text": [
      "  7%|███████▍                                                                                                 | 199k/2.73M [00:01<00:11, 226kB/s]"
     ]
    },
    {
     "name": "stdout",
     "output_type": "stream",
     "text": [
      "[###################################     ] | 88% Completed | 17.0s"
     ]
    },
    {
     "name": "stderr",
     "output_type": "stream",
     "text": [
      " 13%|██████████████                                                                                           | 374k/2.73M [00:01<00:06, 369kB/s]"
     ]
    },
    {
     "name": "stdout",
     "output_type": "stream",
     "text": [
      "[###################################     ] | 88% Completed | 17.3s"
     ]
    },
    {
     "name": "stderr",
     "output_type": "stream",
     "text": [
      " 20%|█████████████████████▍                                                                                   | 571k/2.73M [00:01<00:04, 484kB/s]"
     ]
    },
    {
     "name": "stdout",
     "output_type": "stream",
     "text": [
      "[###################################     ] | 88% Completed | 17.6s"
     ]
    },
    {
     "name": "stderr",
     "output_type": "stream",
     "text": [
      " 29%|██████████████████████████████▋                                                                          | 816k/2.73M [00:02<00:03, 614kB/s]"
     ]
    },
    {
     "name": "stdout",
     "output_type": "stream",
     "text": [
      "[###################################     ] | 88% Completed | 17.9s"
     ]
    },
    {
     "name": "stderr",
     "output_type": "stream",
     "text": [
      " 39%|████████████████████████████████████████▌                                                               | 1.06M/2.73M [00:02<00:02, 729kB/s]"
     ]
    },
    {
     "name": "stdout",
     "output_type": "stream",
     "text": [
      "[###################################     ] | 88% Completed | 18.1s"
     ]
    },
    {
     "name": "stderr",
     "output_type": "stream",
     "text": [
      " 50%|████████████████████████████████████████████████████▎                                                   | 1.37M/2.73M [00:02<00:01, 854kB/s]"
     ]
    },
    {
     "name": "stdout",
     "output_type": "stream",
     "text": [
      "[###################################     ] | 88% Completed | 18.4s"
     ]
    },
    {
     "name": "stderr",
     "output_type": "stream",
     "text": [
      " 62%|████████████████████████████████████████████████████████████████▍                                       | 1.69M/2.73M [00:02<00:01, 956kB/s]"
     ]
    },
    {
     "name": "stdout",
     "output_type": "stream",
     "text": [
      "[###################################     ] | 88% Completed | 18.7s"
     ]
    },
    {
     "name": "stderr",
     "output_type": "stream",
     "text": [
      " 75%|████████████████████████████████████████████████████████████████████████████▉                          | 2.04M/2.73M [00:03<00:00, 1.06MB/s]"
     ]
    },
    {
     "name": "stdout",
     "output_type": "stream",
     "text": [
      "[###################################     ] | 88% Completed | 19.0s"
     ]
    },
    {
     "name": "stderr",
     "output_type": "stream",
     "text": [
      " 89%|███████████████████████████████████████████████████████████████████████████████████████████▍           | 2.42M/2.73M [00:03<00:00, 1.17MB/s]"
     ]
    },
    {
     "name": "stdout",
     "output_type": "stream",
     "text": [
      "[###################################     ] | 88% Completed | 19.1s"
     ]
    },
    {
     "name": "stderr",
     "output_type": "stream",
     "text": [
      "2022-03-14 10:57:48,870 INFO Download rate 723.8K/s                                                                                              \n"
     ]
    },
    {
     "name": "stdout",
     "output_type": "stream",
     "text": [
      "[###################################     ] | 88% Completed | 19.4s\n",
      "/media/nicolasf/END19101/ICU/data/CDS/operational/hindcasts/METEO_FRANCE/TPRATE/ensemble_seas_forecasts_tprate_from_2011_03_METEO_FRANCE.netcdf downloaded OK\n",
      "\n",
      "[########################################] | 100% Completed | 19.5s\n",
      "processing ECCC, path should be /media/nicolasf/END19101/ICU/data/CDS/operational/hindcasts/ECCC_CanCM4i/TPRATE\n",
      "processing ECCC, path should be /media/nicolasf/END19101/ICU/data/CDS/operational/hindcasts/ECCC_GEM_NEMO/TPRATE\n",
      "[                                        ] | 0% Completed |  0.0s\n",
      "/media/nicolasf/END19101/ICU/data/CDS/operational/hindcasts/ECCC_CanCM4i/TPRATE/ensemble_seas_forecasts_tprate_from_2012_03_ECCC.netcdf exists already on disk, skipping download and returning path\n",
      "\n",
      "/media/nicolasf/END19101/ICU/data/CDS/operational/hindcasts/DWD/TPRATE/ensemble_seas_forecasts_tprate_from_2012_03_DWD.netcdf exists already on disk, skipping download and returning path\n",
      "\n",
      "\n",
      "\n",
      "attempting to download tprate for GCM UKMO, for level surface, year 2012, month 3, in netcdf, attempt 1 of 3\n",
      "\n",
      "\n",
      "/media/nicolasf/END19101/ICU/data/CDS/operational/hindcasts/CMCC/TPRATE/ensemble_seas_forecasts_tprate_from_2012_03_CMCC.netcdf exists already on disk, skipping download and returning path\n",
      "\n",
      "\n",
      "/media/nicolasf/END19101/ICU/data/CDS/operational/hindcasts/NCEP/TPRATE/ensemble_seas_forecasts_tprate_from_2012_03_NCEP.netcdf exists already on disk, skipping download and returning path\n",
      "\n",
      "\n",
      "attempting to download tprate for GCM ECCC, for level surface, year 2012, month 3, in netcdf, attempt 1 of 3\n",
      "\n",
      "\n",
      "attempting to download tprate for GCM METEO_FRANCE, for level surface, year 2012, month 3, in netcdf, attempt 1 of 3\n",
      "\n",
      "\n",
      "/media/nicolasf/END19101/ICU/data/CDS/operational/hindcasts/ECMWF/TPRATE/ensemble_seas_forecasts_tprate_from_2012_03_ECMWF.netcdf exists already on disk, skipping download and returning path\n",
      "\n",
      "\n",
      "attempting to download tprate for GCM JMA, for level surface, year 2012, month 3, in netcdf, attempt 1 of 3\n",
      "\n",
      "[######################                  ] | 55% Completed |  0.2s"
     ]
    },
    {
     "name": "stderr",
     "output_type": "stream",
     "text": [
      "2022-03-14 10:57:49,545 INFO Welcome to the CDS\n",
      "2022-03-14 10:57:49,547 INFO Sending request to https://cds.climate.copernicus.eu/api/v2/resources/seasonal-monthly-single-levels\n"
     ]
    },
    {
     "name": "stdout",
     "output_type": "stream",
     "text": [
      "[######################                  ] | 55% Completed |  0.3s"
     ]
    },
    {
     "name": "stderr",
     "output_type": "stream",
     "text": [
      "2022-03-14 10:57:49,557 INFO Welcome to the CDS\n",
      "2022-03-14 10:57:49,559 INFO Sending request to https://cds.climate.copernicus.eu/api/v2/resources/seasonal-monthly-single-levels\n",
      "2022-03-14 10:57:49,561 INFO Welcome to the CDS\n",
      "2022-03-14 10:57:49,563 INFO Welcome to the CDS\n",
      "2022-03-14 10:57:49,572 INFO Sending request to https://cds.climate.copernicus.eu/api/v2/resources/seasonal-monthly-single-levels\n",
      "2022-03-14 10:57:49,575 INFO Sending request to https://cds.climate.copernicus.eu/api/v2/resources/seasonal-monthly-single-levels\n"
     ]
    },
    {
     "name": "stdout",
     "output_type": "stream",
     "text": [
      "[######################                  ] | 55% Completed |  0.5s"
     ]
    },
    {
     "name": "stderr",
     "output_type": "stream",
     "text": [
      "2022-03-14 10:57:49,846 INFO Request is queued\n"
     ]
    },
    {
     "name": "stdout",
     "output_type": "stream",
     "text": [
      "[######################                  ] | 55% Completed |  0.6s"
     ]
    },
    {
     "name": "stderr",
     "output_type": "stream",
     "text": [
      "2022-03-14 10:57:49,868 INFO Request is queued\n",
      "2022-03-14 10:57:49,872 INFO Request is queued\n",
      "2022-03-14 10:57:49,876 INFO Request is queued\n"
     ]
    },
    {
     "name": "stdout",
     "output_type": "stream",
     "text": [
      "[######################                  ] | 55% Completed |  1.8s"
     ]
    },
    {
     "name": "stderr",
     "output_type": "stream",
     "text": [
      "2022-03-14 10:57:51,167 INFO Request is running\n"
     ]
    },
    {
     "name": "stdout",
     "output_type": "stream",
     "text": [
      "[######################                  ] | 55% Completed |  3.7s"
     ]
    },
    {
     "name": "stderr",
     "output_type": "stream",
     "text": [
      "2022-03-14 10:57:52,956 INFO Request is running\n",
      "2022-03-14 10:57:52,957 INFO Request is completed\n",
      "2022-03-14 10:57:52,959 INFO Downloading https://download-0013.copernicus-climate.eu/cache-compute-0013/cache/data3/adaptor.mars.external-1647208670.9948132-31125-7-01387be3-4a27-4d02-ab69-1577cd4dc887.nc to /media/nicolasf/END19101/ICU/data/CDS/operational/hindcasts/JMA/TPRATE/ensemble_seas_forecasts_tprate_from_2012_03_JMA.netcdf (719.2K)\n"
     ]
    },
    {
     "name": "stdout",
     "output_type": "stream",
     "text": [
      "[######################                  ] | 55% Completed |  5.2s"
     ]
    },
    {
     "name": "stderr",
     "output_type": "stream",
     "text": [
      "  0%|                                                                                                                 | 0.00/719k [00:00<?, ?B/s]"
     ]
    },
    {
     "name": "stdout",
     "output_type": "stream",
     "text": [
      "[######################                  ] | 55% Completed |  5.5s"
     ]
    },
    {
     "name": "stderr",
     "output_type": "stream",
     "text": [
      "  2%|██▎                                                                                                     | 16.0k/719k [00:00<00:12, 59.3kB/s]"
     ]
    },
    {
     "name": "stdout",
     "output_type": "stream",
     "text": [
      "[######################                  ] | 55% Completed |  5.8s"
     ]
    },
    {
     "name": "stderr",
     "output_type": "stream",
     "text": [
      "  9%|█████████▋                                                                                               | 66.0k/719k [00:00<00:05, 132kB/s]"
     ]
    },
    {
     "name": "stdout",
     "output_type": "stream",
     "text": [
      "[######################                  ] | 55% Completed |  6.1s"
     ]
    },
    {
     "name": "stderr",
     "output_type": "stream",
     "text": [
      " 17%|█████████████████▉                                                                                        | 122k/719k [00:00<00:03, 165kB/s]"
     ]
    },
    {
     "name": "stdout",
     "output_type": "stream",
     "text": [
      "[######################                  ] | 55% Completed |  6.2s"
     ]
    },
    {
     "name": "stderr",
     "output_type": "stream",
     "text": [
      "2022-03-14 10:57:55,487 INFO Request is running\n",
      "2022-03-14 10:57:55,498 INFO Request is completed\n",
      "2022-03-14 10:57:55,499 INFO Downloading https://download-0011.copernicus-climate.eu/cache-compute-0011/cache/data5/adaptor.mars.external-1647208672.7331276-25641-16-c6a081d5-f840-45a7-98c8-fee4d78e1630.nc to /media/nicolasf/END19101/ICU/data/CDS/operational/hindcasts/ECCC_GEM_NEMO/TPRATE/ensemble_seas_forecasts_tprate_from_2012_03_ECCC.netcdf (1.1M)\n"
     ]
    },
    {
     "name": "stdout",
     "output_type": "stream",
     "text": [
      "[######################                  ] | 55% Completed |  6.3s"
     ]
    },
    {
     "name": "stderr",
     "output_type": "stream",
     "text": [
      " 38%|███████████████████████████████████████▊                                                                  | 270k/719k [00:01<00:01, 313kB/s]"
     ]
    },
    {
     "name": "stdout",
     "output_type": "stream",
     "text": [
      "[######################                  ] | 55% Completed |  6.5s"
     ]
    },
    {
     "name": "stderr",
     "output_type": "stream",
     "text": [
      "\n",
      "  0%|                                                                                                                | 0.00/1.09M [00:00<?, ?B/s]\u001b[A"
     ]
    },
    {
     "name": "stdout",
     "output_type": "stream",
     "text": [
      "[######################                  ] | 55% Completed |  6.6s"
     ]
    },
    {
     "name": "stderr",
     "output_type": "stream",
     "text": [
      " 79%|████████████████████████████████████████████████████████████████████████████████████▏                     | 571k/719k [00:01<00:00, 595kB/s]"
     ]
    },
    {
     "name": "stdout",
     "output_type": "stream",
     "text": [
      "[######################                  ] | 55% Completed |  6.7s"
     ]
    },
    {
     "name": "stderr",
     "output_type": "stream",
     "text": [
      "2022-03-14 10:57:56,026 INFO Download rate 234.6K/s                                                                                              \n"
     ]
    },
    {
     "name": "stdout",
     "output_type": "stream",
     "text": [
      "[######################                  ] | 55% Completed |  6.8s"
     ]
    },
    {
     "name": "stderr",
     "output_type": "stream",
     "text": [
      "\n",
      "  1%|▋                                                                                                      | 8.00k/1.09M [00:00<00:39, 28.7kB/s]\u001b[A"
     ]
    },
    {
     "name": "stdout",
     "output_type": "stream",
     "text": [
      "[######################                  ] | 55% Completed |  7.0s\n",
      "/media/nicolasf/END19101/ICU/data/CDS/operational/hindcasts/JMA/TPRATE/ensemble_seas_forecasts_tprate_from_2012_03_JMA.netcdf downloaded OK\n",
      "\n",
      "[##########################              ] | 66% Completed |  7.1s"
     ]
    },
    {
     "name": "stderr",
     "output_type": "stream",
     "text": [
      "\n",
      "  3%|███▏                                                                                                   | 34.0k/1.09M [00:00<00:16, 66.4kB/s]\u001b[A"
     ]
    },
    {
     "name": "stdout",
     "output_type": "stream",
     "text": [
      "[##########################              ] | 66% Completed |  7.4s"
     ]
    },
    {
     "name": "stderr",
     "output_type": "stream",
     "text": [
      "\n",
      "  9%|████████▉                                                                                               | 96.0k/1.09M [00:00<00:07, 137kB/s]\u001b[A"
     ]
    },
    {
     "name": "stdout",
     "output_type": "stream",
     "text": [
      "[##########################              ] | 66% Completed |  7.6s"
     ]
    },
    {
     "name": "stderr",
     "output_type": "stream",
     "text": [
      "\n",
      " 18%|██████████████████▉                                                                                      | 201k/1.09M [00:01<00:04, 231kB/s]\u001b[A"
     ]
    },
    {
     "name": "stdout",
     "output_type": "stream",
     "text": [
      "[##########################              ] | 66% Completed |  7.9s"
     ]
    },
    {
     "name": "stderr",
     "output_type": "stream",
     "text": [
      "\n",
      " 31%|████████████████████████████████▉                                                                        | 350k/1.09M [00:01<00:02, 339kB/s]\u001b[A"
     ]
    },
    {
     "name": "stdout",
     "output_type": "stream",
     "text": [
      "[##########################              ] | 66% Completed |  8.2s"
     ]
    },
    {
     "name": "stderr",
     "output_type": "stream",
     "text": [
      "\n",
      " 46%|███████████████████████████████████████████████▉                                                         | 510k/1.09M [00:01<00:01, 414kB/s]\u001b[A"
     ]
    },
    {
     "name": "stdout",
     "output_type": "stream",
     "text": [
      "[##########################              ] | 66% Completed |  8.5s"
     ]
    },
    {
     "name": "stderr",
     "output_type": "stream",
     "text": [
      "\n",
      " 60%|██████████████████████████████████████████████████████████████▉                                          | 670k/1.09M [00:02<00:00, 468kB/s]\u001b[A"
     ]
    },
    {
     "name": "stdout",
     "output_type": "stream",
     "text": [
      "[##########################              ] | 66% Completed |  8.8s"
     ]
    },
    {
     "name": "stderr",
     "output_type": "stream",
     "text": [
      "\n",
      " 75%|██████████████████████████████████████████████████████████████████████████████▋                          | 838k/1.09M [00:02<00:00, 510kB/s]\u001b[A"
     ]
    },
    {
     "name": "stdout",
     "output_type": "stream",
     "text": [
      "[##########################              ] | 66% Completed |  9.1s"
     ]
    },
    {
     "name": "stderr",
     "output_type": "stream",
     "text": [
      "\n",
      " 91%|██████████████████████████████████████████████████████████████████████████████████████████████▎         | 0.99M/1.09M [00:02<00:00, 542kB/s]\u001b[A"
     ]
    },
    {
     "name": "stdout",
     "output_type": "stream",
     "text": [
      "[##########################              ] | 66% Completed |  9.2s"
     ]
    },
    {
     "name": "stderr",
     "output_type": "stream",
     "text": [
      "\n",
      "                                                                                                                                                 \u001b[A2022-03-14 10:57:58,541 INFO Download rate 367.4K/s\n"
     ]
    },
    {
     "name": "stdout",
     "output_type": "stream",
     "text": [
      "[##########################              ] | 66% Completed |  9.5s\n",
      "/media/nicolasf/END19101/ICU/data/CDS/operational/hindcasts/ECCC_GEM_NEMO/TPRATE/ensemble_seas_forecasts_tprate_from_2012_03_ECCC.netcdf downloaded OK\n",
      "\n",
      "[###############################         ] | 77% Completed |  9.9s"
     ]
    },
    {
     "name": "stderr",
     "output_type": "stream",
     "text": [
      "2022-03-14 10:57:59,143 INFO Request is running\n",
      "2022-03-14 10:57:59,158 INFO Request is completed\n",
      "2022-03-14 10:57:59,159 INFO Downloading https://download-0001.copernicus-climate.eu/cache-compute-0001/cache/data1/adaptor.mars.external-1647208676.2642984-25724-14-6ad64f9f-3751-49b0-a8f7-d9e49a45ad4d.nc to /media/nicolasf/END19101/ICU/data/CDS/operational/hindcasts/METEO_FRANCE/TPRATE/ensemble_seas_forecasts_tprate_from_2012_03_METEO_FRANCE.netcdf (2.7M)\n"
     ]
    },
    {
     "name": "stdout",
     "output_type": "stream",
     "text": [
      "[###############################         ] | 77% Completed | 10.2s"
     ]
    },
    {
     "name": "stderr",
     "output_type": "stream",
     "text": [
      "  0%|                                                                                                                | 0.00/2.73M [00:00<?, ?B/s]"
     ]
    },
    {
     "name": "stdout",
     "output_type": "stream",
     "text": [
      "[###############################         ] | 77% Completed | 10.5s"
     ]
    },
    {
     "name": "stderr",
     "output_type": "stream",
     "text": [
      "  0%|▎                                                                                                      | 8.00k/2.73M [00:00<01:37, 29.3kB/s]"
     ]
    },
    {
     "name": "stdout",
     "output_type": "stream",
     "text": [
      "[###############################         ] | 77% Completed | 10.8s"
     ]
    },
    {
     "name": "stderr",
     "output_type": "stream",
     "text": [
      "  1%|█▍                                                                                                     | 40.0k/2.73M [00:00<00:34, 80.7kB/s]"
     ]
    },
    {
     "name": "stdout",
     "output_type": "stream",
     "text": [
      "[###############################         ] | 77% Completed | 11.0s"
     ]
    },
    {
     "name": "stderr",
     "output_type": "stream",
     "text": [
      "  3%|███▍                                                                                                    | 92.0k/2.73M [00:00<00:21, 130kB/s]"
     ]
    },
    {
     "name": "stdout",
     "output_type": "stream",
     "text": [
      "[###############################         ] | 77% Completed | 11.3s"
     ]
    },
    {
     "name": "stderr",
     "output_type": "stream",
     "text": [
      "  7%|███████▋                                                                                                 | 204k/2.73M [00:01<00:11, 240kB/s]"
     ]
    },
    {
     "name": "stdout",
     "output_type": "stream",
     "text": [
      "[###############################         ] | 77% Completed | 11.6s"
     ]
    },
    {
     "name": "stderr",
     "output_type": "stream",
     "text": [
      " 15%|███████████████▉                                                                                         | 422k/2.73M [00:01<00:05, 439kB/s]"
     ]
    },
    {
     "name": "stdout",
     "output_type": "stream",
     "text": [
      "[###############################         ] | 77% Completed | 11.9s"
     ]
    },
    {
     "name": "stderr",
     "output_type": "stream",
     "text": [
      " 31%|████████████████████████████████▌                                                                        | 864k/2.73M [00:01<00:02, 836kB/s]"
     ]
    },
    {
     "name": "stdout",
     "output_type": "stream",
     "text": [
      "[###############################         ] | 77% Completed | 12.1s"
     ]
    },
    {
     "name": "stderr",
     "output_type": "stream",
     "text": [
      " 63%|████████████████████████████████████████████████████████████████▍                                      | 1.70M/2.73M [00:01<00:00, 1.61MB/s]"
     ]
    },
    {
     "name": "stdout",
     "output_type": "stream",
     "text": [
      "[###############################         ] | 77% Completed | 12.6s"
     ]
    },
    {
     "name": "stderr",
     "output_type": "stream",
     "text": [
      " 98%|█████████████████████████████████████████████████████████████████████████████████████████████████████▏ | 2.68M/2.73M [00:02<00:00, 1.78MB/s]"
     ]
    },
    {
     "name": "stdout",
     "output_type": "stream",
     "text": [
      "[###############################         ] | 77% Completed | 13.9s"
     ]
    },
    {
     "name": "stderr",
     "output_type": "stream",
     "text": [
      "2022-03-14 10:58:03,174 INFO Download rate 695.3K/s                                                                                              \n"
     ]
    },
    {
     "name": "stdout",
     "output_type": "stream",
     "text": [
      "[###############################         ] | 77% Completed | 14.2s\n",
      "/media/nicolasf/END19101/ICU/data/CDS/operational/hindcasts/METEO_FRANCE/TPRATE/ensemble_seas_forecasts_tprate_from_2012_03_METEO_FRANCE.netcdf downloaded OK\n",
      "\n",
      "[###################################     ] | 88% Completed | 15.2s"
     ]
    },
    {
     "name": "stderr",
     "output_type": "stream",
     "text": [
      "2022-03-14 10:58:04,505 INFO Request is completed\n",
      "2022-03-14 10:58:04,505 INFO Downloading https://download-0011.copernicus-climate.eu/cache-compute-0011/cache/data7/adaptor.mars.external-1647208680.1365883-27725-7-c53822fc-06f3-4eb5-8fe1-d6cf6861ea3e.nc to /media/nicolasf/END19101/ICU/data/CDS/operational/hindcasts/UKMO/TPRATE/ensemble_seas_forecasts_tprate_from_2012_03_UKMO.netcdf (3.1M)\n"
     ]
    },
    {
     "name": "stdout",
     "output_type": "stream",
     "text": [
      "[###################################     ] | 88% Completed | 15.5s"
     ]
    },
    {
     "name": "stderr",
     "output_type": "stream",
     "text": [
      "  0%|                                                                                                                | 0.00/3.05M [00:00<?, ?B/s]"
     ]
    },
    {
     "name": "stdout",
     "output_type": "stream",
     "text": [
      "[###################################     ] | 88% Completed | 15.8s"
     ]
    },
    {
     "name": "stderr",
     "output_type": "stream",
     "text": [
      "  0%|▎                                                                                                      | 8.00k/3.05M [00:00<01:51, 28.7kB/s]"
     ]
    },
    {
     "name": "stdout",
     "output_type": "stream",
     "text": [
      "[###################################     ] | 88% Completed | 16.1s"
     ]
    },
    {
     "name": "stderr",
     "output_type": "stream",
     "text": [
      "  1%|█                                                                                                      | 34.0k/3.05M [00:00<00:47, 66.4kB/s]"
     ]
    },
    {
     "name": "stdout",
     "output_type": "stream",
     "text": [
      "[###################################     ] | 88% Completed | 16.4s"
     ]
    },
    {
     "name": "stderr",
     "output_type": "stream",
     "text": [
      "  3%|██▉                                                                                                     | 90.0k/3.05M [00:00<00:24, 127kB/s]"
     ]
    },
    {
     "name": "stdout",
     "output_type": "stream",
     "text": [
      "[###################################     ] | 88% Completed | 16.7s"
     ]
    },
    {
     "name": "stderr",
     "output_type": "stream",
     "text": [
      "  6%|██████▋                                                                                                  | 199k/3.05M [00:01<00:13, 230kB/s]"
     ]
    },
    {
     "name": "stdout",
     "output_type": "stream",
     "text": [
      "[###################################     ] | 88% Completed | 17.0s"
     ]
    },
    {
     "name": "stderr",
     "output_type": "stream",
     "text": [
      " 11%|████████████                                                                                             | 358k/3.05M [00:01<00:08, 351kB/s]"
     ]
    },
    {
     "name": "stdout",
     "output_type": "stream",
     "text": [
      "[###################################     ] | 88% Completed | 17.3s"
     ]
    },
    {
     "name": "stderr",
     "output_type": "stream",
     "text": [
      " 17%|█████████████████▊                                                                                       | 531k/3.05M [00:01<00:06, 441kB/s]"
     ]
    },
    {
     "name": "stdout",
     "output_type": "stream",
     "text": [
      "[###################################     ] | 88% Completed | 17.5s"
     ]
    },
    {
     "name": "stderr",
     "output_type": "stream",
     "text": [
      " 23%|███████████████████████▊                                                                                 | 707k/3.05M [00:02<00:04, 501kB/s]"
     ]
    },
    {
     "name": "stdout",
     "output_type": "stream",
     "text": [
      "[###################################     ] | 88% Completed | 17.8s"
     ]
    },
    {
     "name": "stderr",
     "output_type": "stream",
     "text": [
      " 29%|██████████████████████████████                                                                           | 896k/3.05M [00:02<00:04, 556kB/s]"
     ]
    },
    {
     "name": "stdout",
     "output_type": "stream",
     "text": [
      "[###################################     ] | 88% Completed | 18.1s"
     ]
    },
    {
     "name": "stderr",
     "output_type": "stream",
     "text": [
      " 35%|████████████████████████████████████▋                                                                   | 1.08M/3.05M [00:02<00:03, 611kB/s]"
     ]
    },
    {
     "name": "stdout",
     "output_type": "stream",
     "text": [
      "[###################################     ] | 88% Completed | 18.4s"
     ]
    },
    {
     "name": "stderr",
     "output_type": "stream",
     "text": [
      " 42%|███████████████████████████████████████████▌                                                            | 1.28M/3.05M [00:02<00:02, 647kB/s]"
     ]
    },
    {
     "name": "stdout",
     "output_type": "stream",
     "text": [
      "[###################################     ] | 88% Completed | 18.7s"
     ]
    },
    {
     "name": "stderr",
     "output_type": "stream",
     "text": [
      " 49%|██████████████████████████████████████████████████▋                                                     | 1.49M/3.05M [00:03<00:02, 685kB/s]"
     ]
    },
    {
     "name": "stdout",
     "output_type": "stream",
     "text": [
      "[###################################     ] | 88% Completed | 19.0s"
     ]
    },
    {
     "name": "stderr",
     "output_type": "stream",
     "text": [
      " 56%|██████████████████████████████████████████████████████████▎                                             | 1.71M/3.05M [00:03<00:01, 724kB/s]"
     ]
    },
    {
     "name": "stdout",
     "output_type": "stream",
     "text": [
      "[###################################     ] | 88% Completed | 19.2s"
     ]
    },
    {
     "name": "stderr",
     "output_type": "stream",
     "text": [
      " 64%|██████████████████████████████████████████████████████████████████▎                                     | 1.95M/3.05M [00:03<00:01, 763kB/s]"
     ]
    },
    {
     "name": "stdout",
     "output_type": "stream",
     "text": [
      "[###################################     ] | 88% Completed | 19.5s"
     ]
    },
    {
     "name": "stderr",
     "output_type": "stream",
     "text": [
      " 72%|██████████████████████████████████████████████████████████████████████████▋                             | 2.19M/3.05M [00:04<00:01, 804kB/s]"
     ]
    },
    {
     "name": "stdout",
     "output_type": "stream",
     "text": [
      "[###################################     ] | 88% Completed | 19.8s"
     ]
    },
    {
     "name": "stderr",
     "output_type": "stream",
     "text": [
      " 80%|███████████████████████████████████████████████████████████████████████████████████▍                    | 2.45M/3.05M [00:04<00:00, 849kB/s]"
     ]
    },
    {
     "name": "stdout",
     "output_type": "stream",
     "text": [
      "[###################################     ] | 88% Completed | 20.1s"
     ]
    },
    {
     "name": "stderr",
     "output_type": "stream",
     "text": [
      " 90%|█████████████████████████████████████████████████████████████████████████████████████████████           | 2.73M/3.05M [00:04<00:00, 902kB/s]"
     ]
    },
    {
     "name": "stdout",
     "output_type": "stream",
     "text": [
      "[###################################     ] | 88% Completed | 20.4s"
     ]
    },
    {
     "name": "stderr",
     "output_type": "stream",
     "text": [
      " 99%|███████████████████████████████████████████████████████████████████████████████████████████████████████▏| 3.03M/3.05M [00:04<00:00, 957kB/s]"
     ]
    },
    {
     "name": "stdout",
     "output_type": "stream",
     "text": [
      "[###################################     ] | 88% Completed | 20.5s"
     ]
    },
    {
     "name": "stderr",
     "output_type": "stream",
     "text": [
      "2022-03-14 10:58:09,800 INFO Download rate 590.3K/s                                                                                              \n"
     ]
    },
    {
     "name": "stdout",
     "output_type": "stream",
     "text": [
      "[###################################     ] | 88% Completed | 20.8s\n",
      "/media/nicolasf/END19101/ICU/data/CDS/operational/hindcasts/UKMO/TPRATE/ensemble_seas_forecasts_tprate_from_2012_03_UKMO.netcdf downloaded OK\n",
      "\n",
      "[########################################] | 100% Completed | 20.9s\n",
      "processing ECCC, path should be /media/nicolasf/END19101/ICU/data/CDS/operational/hindcasts/ECCC_CanCM4i/TPRATE\n",
      "processing ECCC, path should be /media/nicolasf/END19101/ICU/data/CDS/operational/hindcasts/ECCC_GEM_NEMO/TPRATE\n",
      "[                                        ] | 0% Completed |  0.0s\n",
      "/media/nicolasf/END19101/ICU/data/CDS/operational/hindcasts/ECMWF/TPRATE/ensemble_seas_forecasts_tprate_from_2013_03_ECMWF.netcdf exists already on disk, skipping download and returning path\n",
      "\n",
      "\n",
      "/media/nicolasf/END19101/ICU/data/CDS/operational/hindcasts/NCEP/TPRATE/ensemble_seas_forecasts_tprate_from_2013_03_NCEP.netcdf exists already on disk, skipping download and returning path\n",
      "\n",
      "\n",
      "attempting to download tprate for GCM JMA, for level surface, year 2013, month 3, in netcdf, attempt 1 of 3\n",
      "\n",
      "\n",
      "attempting to download tprate for GCM ECCC, for level surface, year 2013, month 3, in netcdf, attempt 1 of 3\n",
      "\n",
      "\n",
      "attempting to download tprate for GCM UKMO, for level surface, year 2013, month 3, in netcdf, attempt 1 of 3\n",
      "\n",
      "\n",
      "attempting to download tprate for GCM METEO_FRANCE, for level surface, year 2013, month 3, in netcdf, attempt 1 of 3\n",
      "\n",
      "/media/nicolasf/END19101/ICU/data/CDS/operational/hindcasts/DWD/TPRATE/ensemble_seas_forecasts_tprate_from_2013_03_DWD.netcdf exists already on disk, skipping download and returning path\n",
      "\n",
      "\n",
      "\n",
      "/media/nicolasf/END19101/ICU/data/CDS/operational/hindcasts/ECCC_CanCM4i/TPRATE/ensemble_seas_forecasts_tprate_from_2013_03_ECCC.netcdf exists already on disk, skipping download and returning path\n",
      "\n",
      "\n",
      "/media/nicolasf/END19101/ICU/data/CDS/operational/hindcasts/CMCC/TPRATE/ensemble_seas_forecasts_tprate_from_2013_03_CMCC.netcdf exists already on disk, skipping download and returning path\n",
      "\n",
      "[######################                  ] | 55% Completed |  0.2s"
     ]
    },
    {
     "name": "stderr",
     "output_type": "stream",
     "text": [
      "2022-03-14 10:58:10,467 INFO Welcome to the CDS\n",
      "2022-03-14 10:58:10,468 INFO Welcome to the CDS\n",
      "2022-03-14 10:58:10,471 INFO Welcome to the CDS\n",
      "2022-03-14 10:58:10,472 INFO Sending request to https://cds.climate.copernicus.eu/api/v2/resources/seasonal-monthly-single-levels\n",
      "2022-03-14 10:58:10,474 INFO Welcome to the CDS\n",
      "2022-03-14 10:58:10,476 INFO Sending request to https://cds.climate.copernicus.eu/api/v2/resources/seasonal-monthly-single-levels\n",
      "2022-03-14 10:58:10,477 INFO Sending request to https://cds.climate.copernicus.eu/api/v2/resources/seasonal-monthly-single-levels\n"
     ]
    },
    {
     "name": "stdout",
     "output_type": "stream",
     "text": [
      "[######################                  ] | 55% Completed |  0.3s"
     ]
    },
    {
     "name": "stderr",
     "output_type": "stream",
     "text": [
      "2022-03-14 10:58:10,479 INFO Sending request to https://cds.climate.copernicus.eu/api/v2/resources/seasonal-monthly-single-levels\n"
     ]
    },
    {
     "name": "stdout",
     "output_type": "stream",
     "text": [
      "[######################                  ] | 55% Completed |  0.5s"
     ]
    },
    {
     "name": "stderr",
     "output_type": "stream",
     "text": [
      "2022-03-14 10:58:10,774 INFO Request is queued\n",
      "2022-03-14 10:58:10,777 INFO Request is queued\n",
      "2022-03-14 10:58:10,781 INFO Request is queued\n"
     ]
    },
    {
     "name": "stdout",
     "output_type": "stream",
     "text": [
      "[######################                  ] | 55% Completed |  0.6s"
     ]
    },
    {
     "name": "stderr",
     "output_type": "stream",
     "text": [
      "2022-03-14 10:58:10,783 INFO Request is queued\n"
     ]
    },
    {
     "name": "stdout",
     "output_type": "stream",
     "text": [
      "[######################                  ] | 55% Completed |  1.8s"
     ]
    },
    {
     "name": "stderr",
     "output_type": "stream",
     "text": [
      "2022-03-14 10:58:12,078 INFO Request is running\n"
     ]
    },
    {
     "name": "stdout",
     "output_type": "stream",
     "text": [
      "[######################                  ] | 55% Completed |  3.7s"
     ]
    },
    {
     "name": "stderr",
     "output_type": "stream",
     "text": [
      "2022-03-14 10:58:13,867 INFO Request is completed\n",
      "2022-03-14 10:58:13,868 INFO Downloading https://download-0001.copernicus-climate.eu/cache-compute-0001/cache/data5/adaptor.mars.external-1647208691.6895442-25848-13-ac7604d3-b287-4f23-aea1-4b929d1eb853.nc to /media/nicolasf/END19101/ICU/data/CDS/operational/hindcasts/JMA/TPRATE/ensemble_seas_forecasts_tprate_from_2013_03_JMA.netcdf (719.2K)\n",
      "2022-03-14 10:58:13,873 INFO Request is running\n"
     ]
    },
    {
     "name": "stdout",
     "output_type": "stream",
     "text": [
      "[######################                  ] | 55% Completed |  4.0s"
     ]
    },
    {
     "name": "stderr",
     "output_type": "stream",
     "text": [
      "  0%|                                                                                                                 | 0.00/719k [00:00<?, ?B/s]"
     ]
    },
    {
     "name": "stdout",
     "output_type": "stream",
     "text": [
      "[######################                  ] | 55% Completed |  4.2s"
     ]
    },
    {
     "name": "stderr",
     "output_type": "stream",
     "text": [
      "  1%|█▏                                                                                                      | 8.00k/719k [00:00<00:24, 29.6kB/s]"
     ]
    },
    {
     "name": "stdout",
     "output_type": "stream",
     "text": [
      "[######################                  ] | 55% Completed |  4.5s"
     ]
    },
    {
     "name": "stderr",
     "output_type": "stream",
     "text": [
      "  5%|████▉                                                                                                   | 34.0k/719k [00:00<00:10, 68.1kB/s]"
     ]
    },
    {
     "name": "stdout",
     "output_type": "stream",
     "text": [
      "[######################                  ] | 55% Completed |  4.8s"
     ]
    },
    {
     "name": "stderr",
     "output_type": "stream",
     "text": [
      " 13%|█████████████▏                                                                                           | 90.0k/719k [00:00<00:04, 130kB/s]"
     ]
    },
    {
     "name": "stdout",
     "output_type": "stream",
     "text": [
      "[######################                  ] | 55% Completed |  5.1s"
     ]
    },
    {
     "name": "stderr",
     "output_type": "stream",
     "text": [
      " 28%|█████████████████████████████▊                                                                            | 202k/719k [00:01<00:02, 240kB/s]"
     ]
    },
    {
     "name": "stdout",
     "output_type": "stream",
     "text": [
      "[######################                  ] | 55% Completed |  5.4s"
     ]
    },
    {
     "name": "stderr",
     "output_type": "stream",
     "text": [
      " 59%|██████████████████████████████████████████████████████████████▏                                           | 422k/719k [00:01<00:00, 441kB/s]"
     ]
    },
    {
     "name": "stdout",
     "output_type": "stream",
     "text": [
      "[######################                  ] | 55% Completed |  5.5s"
     ]
    },
    {
     "name": "stderr",
     "output_type": "stream",
     "text": [
      "2022-03-14 10:58:15,686 INFO Download rate 395.8K/s                                                                                              \n"
     ]
    },
    {
     "name": "stdout",
     "output_type": "stream",
     "text": [
      "[######################                  ] | 55% Completed |  5.8s\n",
      "/media/nicolasf/END19101/ICU/data/CDS/operational/hindcasts/JMA/TPRATE/ensemble_seas_forecasts_tprate_from_2013_03_JMA.netcdf downloaded OK\n",
      "\n",
      "[##########################              ] | 66% Completed |  6.2s"
     ]
    },
    {
     "name": "stderr",
     "output_type": "stream",
     "text": [
      "2022-03-14 10:58:16,409 INFO Request is running\n",
      "2022-03-14 10:58:16,417 INFO Request is completed\n",
      "2022-03-14 10:58:16,418 INFO Downloading https://download-0003.copernicus-climate.eu/cache-compute-0003/cache/data4/adaptor.mars.external-1647208693.8204103-19419-1-4570eb16-5ccc-4daa-9a9b-2c529eb674dc.nc to /media/nicolasf/END19101/ICU/data/CDS/operational/hindcasts/ECCC_GEM_NEMO/TPRATE/ensemble_seas_forecasts_tprate_from_2013_03_ECCC.netcdf (1.1M)\n"
     ]
    },
    {
     "name": "stdout",
     "output_type": "stream",
     "text": [
      "[##########################              ] | 66% Completed |  7.7s"
     ]
    },
    {
     "name": "stderr",
     "output_type": "stream",
     "text": [
      "  0%|                                                                                                                | 0.00/1.09M [00:00<?, ?B/s]"
     ]
    },
    {
     "name": "stdout",
     "output_type": "stream",
     "text": [
      "[##########################              ] | 66% Completed |  8.0s"
     ]
    },
    {
     "name": "stderr",
     "output_type": "stream",
     "text": [
      "  1%|█▍                                                                                                     | 16.0k/1.09M [00:00<00:19, 58.4kB/s]"
     ]
    },
    {
     "name": "stdout",
     "output_type": "stream",
     "text": [
      "[##########################              ] | 66% Completed |  8.3s"
     ]
    },
    {
     "name": "stderr",
     "output_type": "stream",
     "text": [
      "  6%|██████▎                                                                                                 | 68.0k/1.09M [00:00<00:08, 134kB/s]"
     ]
    },
    {
     "name": "stdout",
     "output_type": "stream",
     "text": [
      "[##########################              ] | 66% Completed |  8.5s"
     ]
    },
    {
     "name": "stderr",
     "output_type": "stream",
     "text": [
      " 12%|████████████▎                                                                                            | 131k/1.09M [00:00<00:05, 176kB/s]"
     ]
    },
    {
     "name": "stdout",
     "output_type": "stream",
     "text": [
      "[##########################              ] | 66% Completed |  8.8s"
     ]
    },
    {
     "name": "stderr",
     "output_type": "stream",
     "text": [
      " 25%|██████████████████████████▋                                                                              | 284k/1.09M [00:01<00:02, 323kB/s]"
     ]
    },
    {
     "name": "stdout",
     "output_type": "stream",
     "text": [
      "[##########################              ] | 66% Completed |  9.1s"
     ]
    },
    {
     "name": "stderr",
     "output_type": "stream",
     "text": [
      " 53%|███████████████████████████████████████████████████████▉                                                 | 595k/1.09M [00:01<00:00, 608kB/s]"
     ]
    },
    {
     "name": "stdout",
     "output_type": "stream",
     "text": [
      "[##########################              ] | 66% Completed |  9.2s"
     ]
    },
    {
     "name": "stderr",
     "output_type": "stream",
     "text": [
      "2022-03-14 10:58:19,506 INFO Download rate 361.9K/s                                                                                              \n"
     ]
    },
    {
     "name": "stdout",
     "output_type": "stream",
     "text": [
      "[##########################              ] | 66% Completed |  9.6s\n",
      "/media/nicolasf/END19101/ICU/data/CDS/operational/hindcasts/ECCC_GEM_NEMO/TPRATE/ensemble_seas_forecasts_tprate_from_2013_03_ECCC.netcdf downloaded OK\n",
      "\n",
      "[###############################         ] | 77% Completed |  9.9s"
     ]
    },
    {
     "name": "stderr",
     "output_type": "stream",
     "text": [
      "2022-03-14 10:58:20,080 INFO Request is completed\n",
      "2022-03-14 10:58:20,082 INFO Downloading https://download-0013.copernicus-climate.eu/cache-compute-0013/cache/data1/adaptor.mars.external-1647208697.2946634-32568-4-4f4510cb-d79b-417b-a954-7e3af02bcf4c.nc to /media/nicolasf/END19101/ICU/data/CDS/operational/hindcasts/UKMO/TPRATE/ensemble_seas_forecasts_tprate_from_2013_03_UKMO.netcdf (3.1M)\n",
      "2022-03-14 10:58:20,088 INFO Request is running\n"
     ]
    },
    {
     "name": "stdout",
     "output_type": "stream",
     "text": [
      "[###############################         ] | 77% Completed | 10.2s"
     ]
    },
    {
     "name": "stderr",
     "output_type": "stream",
     "text": [
      "  0%|                                                                                                                | 0.00/3.05M [00:00<?, ?B/s]"
     ]
    },
    {
     "name": "stdout",
     "output_type": "stream",
     "text": [
      "[###############################         ] | 77% Completed | 10.5s"
     ]
    },
    {
     "name": "stderr",
     "output_type": "stream",
     "text": [
      "  0%|▎                                                                                                      | 8.00k/3.05M [00:00<01:48, 29.5kB/s]"
     ]
    },
    {
     "name": "stdout",
     "output_type": "stream",
     "text": [
      "[###############################         ] | 77% Completed | 10.7s"
     ]
    },
    {
     "name": "stderr",
     "output_type": "stream",
     "text": [
      "  1%|█▎                                                                                                     | 40.0k/3.05M [00:00<00:39, 81.0kB/s]"
     ]
    },
    {
     "name": "stdout",
     "output_type": "stream",
     "text": [
      "[###############################         ] | 77% Completed | 11.0s"
     ]
    },
    {
     "name": "stderr",
     "output_type": "stream",
     "text": [
      "  3%|███▏                                                                                                    | 96.0k/3.05M [00:00<00:22, 137kB/s]"
     ]
    },
    {
     "name": "stdout",
     "output_type": "stream",
     "text": [
      "[###############################         ] | 77% Completed | 11.3s"
     ]
    },
    {
     "name": "stderr",
     "output_type": "stream",
     "text": [
      "  6%|██████▋                                                                                                  | 200k/3.05M [00:01<00:12, 233kB/s]"
     ]
    },
    {
     "name": "stdout",
     "output_type": "stream",
     "text": [
      "[###############################         ] | 77% Completed | 11.6s"
     ]
    },
    {
     "name": "stderr",
     "output_type": "stream",
     "text": [
      " 13%|██████████████▏                                                                                          | 421k/3.05M [00:01<00:06, 439kB/s]"
     ]
    },
    {
     "name": "stdout",
     "output_type": "stream",
     "text": [
      "[###############################         ] | 77% Completed | 11.8s"
     ]
    },
    {
     "name": "stderr",
     "output_type": "stream",
     "text": [
      " 28%|█████████████████████████████                                                                            | 864k/3.05M [00:01<00:02, 837kB/s]"
     ]
    },
    {
     "name": "stdout",
     "output_type": "stream",
     "text": [
      "[###############################         ] | 77% Completed | 12.1s"
     ]
    },
    {
     "name": "stderr",
     "output_type": "stream",
     "text": [
      " 56%|█████████████████████████████████████████████████████████▌                                             | 1.70M/3.05M [00:01<00:00, 1.61MB/s]"
     ]
    },
    {
     "name": "stdout",
     "output_type": "stream",
     "text": [
      "[###############################         ] | 77% Completed | 12.4s"
     ]
    },
    {
     "name": "stderr",
     "output_type": "stream",
     "text": [
      " 87%|█████████████████████████████████████████████████████████████████████████████████████████▌             | 2.65M/3.05M [00:02<00:00, 2.16MB/s]"
     ]
    },
    {
     "name": "stdout",
     "output_type": "stream",
     "text": [
      "[###############################         ] | 77% Completed | 12.6s"
     ]
    },
    {
     "name": "stderr",
     "output_type": "stream",
     "text": [
      "2022-03-14 10:58:22,777 INFO Download rate 1.1M/s                                                                                                \n"
     ]
    },
    {
     "name": "stdout",
     "output_type": "stream",
     "text": [
      "[###############################         ] | 77% Completed | 12.9s\n",
      "/media/nicolasf/END19101/ICU/data/CDS/operational/hindcasts/UKMO/TPRATE/ensemble_seas_forecasts_tprate_from_2013_03_UKMO.netcdf downloaded OK\n",
      "\n",
      "[###################################     ] | 88% Completed | 15.2s"
     ]
    },
    {
     "name": "stderr",
     "output_type": "stream",
     "text": [
      "2022-03-14 10:58:25,446 INFO Request is completed\n",
      "2022-03-14 10:58:25,447 INFO Downloading https://download-0014.copernicus-climate.eu/cache-compute-0014/cache/data2/adaptor.mars.external-1647208700.7922823-26249-12-d235d6b1-50fc-469c-b784-b532469a3a63.nc to /media/nicolasf/END19101/ICU/data/CDS/operational/hindcasts/METEO_FRANCE/TPRATE/ensemble_seas_forecasts_tprate_from_2013_03_METEO_FRANCE.netcdf (2.7M)\n"
     ]
    },
    {
     "name": "stdout",
     "output_type": "stream",
     "text": [
      "[###################################     ] | 88% Completed | 16.8s"
     ]
    },
    {
     "name": "stderr",
     "output_type": "stream",
     "text": [
      "  0%|                                                                                                                | 0.00/2.73M [00:00<?, ?B/s]"
     ]
    },
    {
     "name": "stdout",
     "output_type": "stream",
     "text": [
      "[###################################     ] | 88% Completed | 17.0s"
     ]
    },
    {
     "name": "stderr",
     "output_type": "stream",
     "text": [
      "  1%|▌                                                                                                      | 16.0k/2.73M [00:00<00:48, 58.6kB/s]"
     ]
    },
    {
     "name": "stdout",
     "output_type": "stream",
     "text": [
      "[###################################     ] | 88% Completed | 17.3s"
     ]
    },
    {
     "name": "stderr",
     "output_type": "stream",
     "text": [
      "  2%|██▏                                                                                                     | 58.0k/2.73M [00:00<00:24, 114kB/s]"
     ]
    },
    {
     "name": "stdout",
     "output_type": "stream",
     "text": [
      "[###################################     ] | 88% Completed | 17.6s"
     ]
    },
    {
     "name": "stderr",
     "output_type": "stream",
     "text": [
      "  3%|███▎                                                                                                    | 90.0k/2.73M [00:00<00:23, 115kB/s]"
     ]
    },
    {
     "name": "stdout",
     "output_type": "stream",
     "text": [
      "[###################################     ] | 88% Completed | 17.9s"
     ]
    },
    {
     "name": "stderr",
     "output_type": "stream",
     "text": [
      "  8%|███████▉                                                                                                 | 210k/2.73M [00:01<00:10, 242kB/s]"
     ]
    },
    {
     "name": "stdout",
     "output_type": "stream",
     "text": [
      "[###################################     ] | 88% Completed | 18.1s"
     ]
    },
    {
     "name": "stderr",
     "output_type": "stream",
     "text": [
      " 16%|████████████████▍                                                                                        | 438k/2.73M [00:01<00:05, 454kB/s]"
     ]
    },
    {
     "name": "stdout",
     "output_type": "stream",
     "text": [
      "[###################################     ] | 88% Completed | 18.4s"
     ]
    },
    {
     "name": "stderr",
     "output_type": "stream",
     "text": [
      " 32%|██████████████████████████████████                                                                       | 904k/2.73M [00:01<00:02, 875kB/s]"
     ]
    },
    {
     "name": "stdout",
     "output_type": "stream",
     "text": [
      "[###################################     ] | 88% Completed | 18.7s"
     ]
    },
    {
     "name": "stderr",
     "output_type": "stream",
     "text": [
      " 64%|██████████████████████████████████████████████████████████████████▏                                    | 1.75M/2.73M [00:01<00:00, 1.60MB/s]"
     ]
    },
    {
     "name": "stdout",
     "output_type": "stream",
     "text": [
      "[###################################     ] | 88% Completed | 19.0s"
     ]
    },
    {
     "name": "stderr",
     "output_type": "stream",
     "text": [
      " 70%|███████████████████████████████████████████████████████████████████████▊                               | 1.90M/2.73M [00:02<00:00, 1.31MB/s]"
     ]
    },
    {
     "name": "stdout",
     "output_type": "stream",
     "text": [
      "[###################################     ] | 88% Completed | 20.1s"
     ]
    },
    {
     "name": "stderr",
     "output_type": "stream",
     "text": [
      "100%|███████████████████████████████████████████████████████████████████████████████████████████████████████▉| 2.72M/2.73M [00:03<00:00, 972kB/s]"
     ]
    },
    {
     "name": "stdout",
     "output_type": "stream",
     "text": [
      "[###################################     ] | 88% Completed | 20.2s"
     ]
    },
    {
     "name": "stderr",
     "output_type": "stream",
     "text": [
      "2022-03-14 10:58:30,420 INFO Download rate 561.4K/s                                                                                              \n"
     ]
    },
    {
     "name": "stdout",
     "output_type": "stream",
     "text": [
      "[###################################     ] | 88% Completed | 20.5s\n",
      "/media/nicolasf/END19101/ICU/data/CDS/operational/hindcasts/METEO_FRANCE/TPRATE/ensemble_seas_forecasts_tprate_from_2013_03_METEO_FRANCE.netcdf downloaded OK\n",
      "\n",
      "[########################################] | 100% Completed | 20.6s\n",
      "processing ECCC, path should be /media/nicolasf/END19101/ICU/data/CDS/operational/hindcasts/ECCC_CanCM4i/TPRATE\n",
      "processing ECCC, path should be /media/nicolasf/END19101/ICU/data/CDS/operational/hindcasts/ECCC_GEM_NEMO/TPRATE\n",
      "[                                        ] | 0% Completed |  0.0s\n",
      "/media/nicolasf/END19101/ICU/data/CDS/operational/hindcasts/ECMWF/TPRATE/ensemble_seas_forecasts_tprate_from_2014_03_ECMWF.netcdf exists already on disk, skipping download and returning path\n",
      "\n",
      "/media/nicolasf/END19101/ICU/data/CDS/operational/hindcasts/CMCC/TPRATE/ensemble_seas_forecasts_tprate_from_2014_03_CMCC.netcdf exists already on disk, skipping download and returning path\n",
      "\n",
      "\n",
      "attempting to download tprate for GCM METEO_FRANCE, for level surface, year 2014, month 3, in netcdf, attempt 1 of 3\n",
      "\n",
      "\n",
      "/media/nicolasf/END19101/ICU/data/CDS/operational/hindcasts/NCEP/TPRATE/ensemble_seas_forecasts_tprate_from_2014_03_NCEP.netcdf exists already on disk, skipping download and returning path\n",
      "\n",
      "\n",
      "/media/nicolasf/END19101/ICU/data/CDS/operational/hindcasts/ECCC_CanCM4i/TPRATE/ensemble_seas_forecasts_tprate_from_2014_03_ECCC.netcdf exists already on disk, skipping download and returning path\n",
      "\n",
      "/media/nicolasf/END19101/ICU/data/CDS/operational/hindcasts/DWD/TPRATE/ensemble_seas_forecasts_tprate_from_2014_03_DWD.netcdf exists already on disk, skipping download and returning path\n",
      "\n",
      "\n",
      "attempting to download tprate for GCM ECCC, for level surface, year 2014, month 3, in netcdf, attempt 1 of 3\n",
      "\n",
      "\n",
      "attempting to download tprate for GCM UKMO, for level surface, year 2014, month 3, in netcdf, attempt 1 of 3\n",
      "\n",
      "\n",
      "\n",
      "\n",
      "attempting to download tprate for GCM JMA, for level surface, year 2014, month 3, in netcdf, attempt 1 of 3\n",
      "\n",
      "[######################                  ] | 55% Completed |  0.2s"
     ]
    },
    {
     "name": "stderr",
     "output_type": "stream",
     "text": [
      "2022-03-14 10:58:31,103 INFO Welcome to the CDS\n",
      "2022-03-14 10:58:31,104 INFO Sending request to https://cds.climate.copernicus.eu/api/v2/resources/seasonal-monthly-single-levels\n",
      "2022-03-14 10:58:31,103 INFO Welcome to the CDS\n",
      "2022-03-14 10:58:31,106 INFO Welcome to the CDS\n",
      "2022-03-14 10:58:31,106 INFO Sending request to https://cds.climate.copernicus.eu/api/v2/resources/seasonal-monthly-single-levels\n",
      "2022-03-14 10:58:31,107 INFO Sending request to https://cds.climate.copernicus.eu/api/v2/resources/seasonal-monthly-single-levels\n",
      "2022-03-14 10:58:31,111 INFO Welcome to the CDS\n",
      "2022-03-14 10:58:31,112 INFO Sending request to https://cds.climate.copernicus.eu/api/v2/resources/seasonal-monthly-single-levels\n"
     ]
    },
    {
     "name": "stdout",
     "output_type": "stream",
     "text": [
      "[######################                  ] | 55% Completed |  0.5s"
     ]
    },
    {
     "name": "stderr",
     "output_type": "stream",
     "text": [
      "2022-03-14 10:58:31,403 INFO Request is queued\n",
      "2022-03-14 10:58:31,405 INFO Request is queued\n",
      "2022-03-14 10:58:31,406 INFO Request is queued\n",
      "2022-03-14 10:58:31,409 INFO Request is queued\n"
     ]
    },
    {
     "name": "stdout",
     "output_type": "stream",
     "text": [
      "[######################                  ] | 55% Completed |  1.8s"
     ]
    },
    {
     "name": "stderr",
     "output_type": "stream",
     "text": [
      "2022-03-14 10:58:32,702 INFO Request is running\n"
     ]
    },
    {
     "name": "stdout",
     "output_type": "stream",
     "text": [
      "[######################                  ] | 55% Completed |  3.6s"
     ]
    },
    {
     "name": "stderr",
     "output_type": "stream",
     "text": [
      "2022-03-14 10:58:34,496 INFO Request is completed\n",
      "2022-03-14 10:58:34,498 INFO Downloading https://download-0008.copernicus-climate.eu/cache-compute-0008/cache/data8/adaptor.mars.external-1647208712.5118332-31948-17-db653864-5f15-447b-95ec-2f763b690f49.nc to /media/nicolasf/END19101/ICU/data/CDS/operational/hindcasts/JMA/TPRATE/ensemble_seas_forecasts_tprate_from_2014_03_JMA.netcdf (719.2K)\n",
      "2022-03-14 10:58:34,510 INFO Request is running\n"
     ]
    },
    {
     "name": "stdout",
     "output_type": "stream",
     "text": [
      "[######################                  ] | 55% Completed |  5.2s"
     ]
    },
    {
     "name": "stderr",
     "output_type": "stream",
     "text": [
      "  0%|                                                                                                                 | 0.00/719k [00:00<?, ?B/s]"
     ]
    },
    {
     "name": "stdout",
     "output_type": "stream",
     "text": [
      "[######################                  ] | 55% Completed |  5.5s"
     ]
    },
    {
     "name": "stderr",
     "output_type": "stream",
     "text": [
      "  2%|██▎                                                                                                     | 16.0k/719k [00:00<00:12, 58.1kB/s]"
     ]
    },
    {
     "name": "stdout",
     "output_type": "stream",
     "text": [
      "[######################                  ] | 55% Completed |  5.7s"
     ]
    },
    {
     "name": "stderr",
     "output_type": "stream",
     "text": [
      "  9%|█████████▋                                                                                               | 66.0k/719k [00:00<00:05, 130kB/s]"
     ]
    },
    {
     "name": "stdout",
     "output_type": "stream",
     "text": [
      "[######################                  ] | 55% Completed |  6.0s"
     ]
    },
    {
     "name": "stderr",
     "output_type": "stream",
     "text": [
      " 18%|███████████████████▏                                                                                      | 130k/719k [00:00<00:03, 176kB/s]"
     ]
    },
    {
     "name": "stdout",
     "output_type": "stream",
     "text": [
      "[######################                  ] | 55% Completed |  6.2s"
     ]
    },
    {
     "name": "stderr",
     "output_type": "stream",
     "text": [
      "2022-03-14 10:58:37,043 INFO Request is running\n",
      "2022-03-14 10:58:37,058 INFO Request is completed\n",
      "2022-03-14 10:58:37,060 INFO Downloading https://download-0008.copernicus-climate.eu/cache-compute-0008/cache/data9/adaptor.mars.external-1647208716.2620618-31776-19-e185c56b-3d5a-4364-bb34-bee4e0305ff0.nc to /media/nicolasf/END19101/ICU/data/CDS/operational/hindcasts/METEO_FRANCE/TPRATE/ensemble_seas_forecasts_tprate_from_2014_03_METEO_FRANCE.netcdf (2.7M)\n"
     ]
    },
    {
     "name": "stdout",
     "output_type": "stream",
     "text": [
      "[######################                  ] | 55% Completed |  6.3s"
     ]
    },
    {
     "name": "stderr",
     "output_type": "stream",
     "text": [
      " 38%|███████████████████████████████████████▊                                                                  | 270k/719k [00:01<00:01, 306kB/s]"
     ]
    },
    {
     "name": "stdout",
     "output_type": "stream",
     "text": [
      "[######################                  ] | 55% Completed |  6.6s"
     ]
    },
    {
     "name": "stderr",
     "output_type": "stream",
     "text": [
      " 78%|██████████████████████████████████████████████████████████████████████████████████▉                       | 563k/719k [00:01<00:00, 576kB/s]"
     ]
    },
    {
     "name": "stdout",
     "output_type": "stream",
     "text": [
      "[######################                  ] | 55% Completed |  6.7s"
     ]
    },
    {
     "name": "stderr",
     "output_type": "stream",
     "text": [
      "2022-03-14 10:58:37,541 INFO Download rate 236.5K/s                                                                                              \n"
     ]
    },
    {
     "name": "stdout",
     "output_type": "stream",
     "text": [
      "[######################                  ] | 55% Completed |  7.0s\n",
      "/media/nicolasf/END19101/ICU/data/CDS/operational/hindcasts/JMA/TPRATE/ensemble_seas_forecasts_tprate_from_2014_03_JMA.netcdf downloaded OK\n",
      "\n",
      "[##########################              ] | 66% Completed |  7.5s"
     ]
    },
    {
     "name": "stderr",
     "output_type": "stream",
     "text": [
      "  0%|                                                                                                                | 0.00/2.73M [00:00<?, ?B/s]"
     ]
    },
    {
     "name": "stdout",
     "output_type": "stream",
     "text": [
      "[##########################              ] | 66% Completed |  7.7s"
     ]
    },
    {
     "name": "stderr",
     "output_type": "stream",
     "text": [
      "  1%|▌                                                                                                      | 16.0k/2.73M [00:00<00:48, 58.7kB/s]"
     ]
    },
    {
     "name": "stdout",
     "output_type": "stream",
     "text": [
      "[##########################              ] | 66% Completed |  8.0s"
     ]
    },
    {
     "name": "stderr",
     "output_type": "stream",
     "text": [
      "  2%|██▍                                                                                                     | 66.0k/2.73M [00:00<00:21, 131kB/s]"
     ]
    },
    {
     "name": "stdout",
     "output_type": "stream",
     "text": [
      "[##########################              ] | 66% Completed |  8.3s"
     ]
    },
    {
     "name": "stderr",
     "output_type": "stream",
     "text": [
      "  4%|████▌                                                                                                    | 122k/2.73M [00:00<00:16, 163kB/s]"
     ]
    },
    {
     "name": "stdout",
     "output_type": "stream",
     "text": [
      "[##########################              ] | 66% Completed |  8.6s"
     ]
    },
    {
     "name": "stderr",
     "output_type": "stream",
     "text": [
      " 10%|██████████▍                                                                                              | 276k/2.73M [00:01<00:08, 319kB/s]"
     ]
    },
    {
     "name": "stdout",
     "output_type": "stream",
     "text": [
      "[##########################              ] | 66% Completed |  8.8s"
     ]
    },
    {
     "name": "stderr",
     "output_type": "stream",
     "text": [
      " 21%|█████████████████████▊                                                                                   | 579k/2.73M [00:01<00:03, 598kB/s]"
     ]
    },
    {
     "name": "stdout",
     "output_type": "stream",
     "text": [
      "[##########################              ] | 66% Completed |  9.1s"
     ]
    },
    {
     "name": "stderr",
     "output_type": "stream",
     "text": [
      " 42%|███████████████████████████████████████████▌                                                           | 1.15M/2.73M [00:01<00:01, 1.13MB/s]"
     ]
    },
    {
     "name": "stdout",
     "output_type": "stream",
     "text": [
      "[##########################              ] | 66% Completed |  9.7s"
     ]
    },
    {
     "name": "stderr",
     "output_type": "stream",
     "text": [
      " 77%|███████████████████████████████████████████████████████████████████████████████▊                       | 2.11M/2.73M [00:02<00:00, 1.45MB/s]"
     ]
    },
    {
     "name": "stdout",
     "output_type": "stream",
     "text": [
      "[##########################              ] | 66% Completed |  9.9s"
     ]
    },
    {
     "name": "stderr",
     "output_type": "stream",
     "text": [
      "2022-03-14 10:58:40,715 INFO Request is completed\n",
      "2022-03-14 10:58:40,717 INFO Downloading https://download-0006.copernicus-climate.eu/cache-compute-0006/cache/data1/adaptor.mars.external-1647208719.482477-14772-20-f032af76-0cbf-466c-9feb-a29843684d6a.nc to /media/nicolasf/END19101/ICU/data/CDS/operational/hindcasts/ECCC_GEM_NEMO/TPRATE/ensemble_seas_forecasts_tprate_from_2014_03_ECCC.netcdf (1.1M)\n",
      "2022-03-14 10:58:40,726 INFO Request is running\n",
      "2022-03-14 10:58:40,728 INFO Download rate 761.2K/s                                                                                              \n"
     ]
    },
    {
     "name": "stdout",
     "output_type": "stream",
     "text": [
      "[##########################              ] | 66% Completed | 10.2s"
     ]
    },
    {
     "name": "stderr",
     "output_type": "stream",
     "text": [
      "  0%|                                                                                                                | 0.00/1.09M [00:00<?, ?B/s]"
     ]
    },
    {
     "name": "stdout",
     "output_type": "stream",
     "text": [
      "\n",
      "/media/nicolasf/END19101/ICU/data/CDS/operational/hindcasts/METEO_FRANCE/TPRATE/ensemble_seas_forecasts_tprate_from_2014_03_METEO_FRANCE.netcdf downloaded OK\n",
      "\n",
      "[###############################         ] | 77% Completed | 10.5s"
     ]
    },
    {
     "name": "stderr",
     "output_type": "stream",
     "text": [
      "  1%|▋                                                                                                      | 8.00k/1.09M [00:00<00:38, 29.6kB/s]"
     ]
    },
    {
     "name": "stdout",
     "output_type": "stream",
     "text": [
      "[###############################         ] | 77% Completed | 10.7s"
     ]
    },
    {
     "name": "stderr",
     "output_type": "stream",
     "text": [
      "  3%|███▏                                                                                                   | 35.0k/1.09M [00:00<00:15, 70.2kB/s]"
     ]
    },
    {
     "name": "stdout",
     "output_type": "stream",
     "text": [
      "[###############################         ] | 77% Completed | 11.0s"
     ]
    },
    {
     "name": "stderr",
     "output_type": "stream",
     "text": [
      "  9%|████████▉                                                                                               | 96.0k/1.09M [00:00<00:07, 140kB/s]"
     ]
    },
    {
     "name": "stdout",
     "output_type": "stream",
     "text": [
      "[###############################         ] | 77% Completed | 11.3s"
     ]
    },
    {
     "name": "stderr",
     "output_type": "stream",
     "text": [
      " 18%|██████████████████▋                                                                                      | 199k/1.09M [00:01<00:04, 233kB/s]"
     ]
    },
    {
     "name": "stdout",
     "output_type": "stream",
     "text": [
      "[###############################         ] | 77% Completed | 11.6s"
     ]
    },
    {
     "name": "stderr",
     "output_type": "stream",
     "text": [
      " 38%|███████████████████████████████████████▋                                                                 | 422k/1.09M [00:01<00:01, 441kB/s]"
     ]
    },
    {
     "name": "stdout",
     "output_type": "stream",
     "text": [
      "[###############################         ] | 77% Completed | 11.8s"
     ]
    },
    {
     "name": "stderr",
     "output_type": "stream",
     "text": [
      " 78%|█████████████████████████████████████████████████████████████████████████████████▍                       | 867k/1.09M [00:01<00:00, 842kB/s]"
     ]
    },
    {
     "name": "stdout",
     "output_type": "stream",
     "text": [
      "[###############################         ] | 77% Completed | 12.0s"
     ]
    },
    {
     "name": "stderr",
     "output_type": "stream",
     "text": [
      "2022-03-14 10:58:42,813 INFO Download rate 533.3K/s                                                                                              \n"
     ]
    },
    {
     "name": "stdout",
     "output_type": "stream",
     "text": [
      "[###############################         ] | 77% Completed | 12.2s\n",
      "/media/nicolasf/END19101/ICU/data/CDS/operational/hindcasts/ECCC_GEM_NEMO/TPRATE/ensemble_seas_forecasts_tprate_from_2014_03_ECCC.netcdf downloaded OK\n",
      "\n",
      "[###################################     ] | 88% Completed | 15.2s"
     ]
    },
    {
     "name": "stderr",
     "output_type": "stream",
     "text": [
      "2022-03-14 10:58:46,087 INFO Request is completed\n",
      "2022-03-14 10:58:46,089 INFO Downloading https://download-0002.copernicus-climate.eu/cache-compute-0002/cache/data4/adaptor.mars.external-1647208722.2226193-6078-18-b2413fd6-2959-423a-ab19-fd91334acb99.nc to /media/nicolasf/END19101/ICU/data/CDS/operational/hindcasts/UKMO/TPRATE/ensemble_seas_forecasts_tprate_from_2014_03_UKMO.netcdf (3.1M)\n"
     ]
    },
    {
     "name": "stdout",
     "output_type": "stream",
     "text": [
      "[###################################     ] | 88% Completed | 16.5s"
     ]
    },
    {
     "name": "stderr",
     "output_type": "stream",
     "text": [
      "  0%|                                                                                                                | 0.00/3.05M [00:00<?, ?B/s]"
     ]
    },
    {
     "name": "stdout",
     "output_type": "stream",
     "text": [
      "[###################################     ] | 88% Completed | 16.8s"
     ]
    },
    {
     "name": "stderr",
     "output_type": "stream",
     "text": [
      "  1%|▌                                                                                                      | 16.0k/3.05M [00:00<00:53, 59.0kB/s]"
     ]
    },
    {
     "name": "stdout",
     "output_type": "stream",
     "text": [
      "[###################################     ] | 88% Completed | 17.1s"
     ]
    },
    {
     "name": "stderr",
     "output_type": "stream",
     "text": [
      "  2%|██▎                                                                                                     | 68.0k/3.05M [00:00<00:23, 136kB/s]"
     ]
    },
    {
     "name": "stdout",
     "output_type": "stream",
     "text": [
      "[###################################     ] | 88% Completed | 17.4s"
     ]
    },
    {
     "name": "stderr",
     "output_type": "stream",
     "text": [
      "  4%|████▍                                                                                                    | 131k/3.05M [00:00<00:17, 178kB/s]"
     ]
    },
    {
     "name": "stdout",
     "output_type": "stream",
     "text": [
      "[###################################     ] | 88% Completed | 17.6s"
     ]
    },
    {
     "name": "stderr",
     "output_type": "stream",
     "text": [
      "  9%|█████████▌                                                                                               | 286k/3.05M [00:01<00:08, 330kB/s]"
     ]
    },
    {
     "name": "stdout",
     "output_type": "stream",
     "text": [
      "[###################################     ] | 88% Completed | 17.9s"
     ]
    },
    {
     "name": "stderr",
     "output_type": "stream",
     "text": [
      " 19%|███████████████████▉                                                                                     | 595k/3.05M [00:01<00:04, 614kB/s]"
     ]
    },
    {
     "name": "stdout",
     "output_type": "stream",
     "text": [
      "[###################################     ] | 88% Completed | 18.2s"
     ]
    },
    {
     "name": "stderr",
     "output_type": "stream",
     "text": [
      " 39%|████████████████████████████████████████                                                               | 1.19M/3.05M [00:01<00:01, 1.17MB/s]"
     ]
    },
    {
     "name": "stdout",
     "output_type": "stream",
     "text": [
      "[###################################     ] | 88% Completed | 18.5s"
     ]
    },
    {
     "name": "stderr",
     "output_type": "stream",
     "text": [
      " 70%|███████████████████████████████████████████████████████████████████████▌                               | 2.12M/3.05M [00:02<00:00, 1.87MB/s]"
     ]
    },
    {
     "name": "stdout",
     "output_type": "stream",
     "text": [
      "[###################################     ] | 88% Completed | 18.7s"
     ]
    },
    {
     "name": "stderr",
     "output_type": "stream",
     "text": [
      "2022-03-14 10:58:49,534 INFO Download rate 907.6K/s                                                                                              \n"
     ]
    },
    {
     "name": "stdout",
     "output_type": "stream",
     "text": [
      "[###################################     ] | 88% Completed | 19.0s\n",
      "/media/nicolasf/END19101/ICU/data/CDS/operational/hindcasts/UKMO/TPRATE/ensemble_seas_forecasts_tprate_from_2014_03_UKMO.netcdf downloaded OK\n",
      "\n",
      "[########################################] | 100% Completed | 19.1s\n",
      "processing ECCC, path should be /media/nicolasf/END19101/ICU/data/CDS/operational/hindcasts/ECCC_CanCM4i/TPRATE\n",
      "processing ECCC, path should be /media/nicolasf/END19101/ICU/data/CDS/operational/hindcasts/ECCC_GEM_NEMO/TPRATE\n",
      "[                                        ] | 0% Completed |  0.0s\n",
      "/media/nicolasf/END19101/ICU/data/CDS/operational/hindcasts/CMCC/TPRATE/ensemble_seas_forecasts_tprate_from_2015_03_CMCC.netcdf exists already on disk, skipping download and returning path\n",
      "\n",
      "\n",
      "/media/nicolasf/END19101/ICU/data/CDS/operational/hindcasts/ECCC_CanCM4i/TPRATE/ensemble_seas_forecasts_tprate_from_2015_03_ECCC.netcdf exists already on disk, skipping download and returning path\n",
      "\n",
      "\n",
      "/media/nicolasf/END19101/ICU/data/CDS/operational/hindcasts/DWD/TPRATE/ensemble_seas_forecasts_tprate_from_2015_03_DWD.netcdf exists already on disk, skipping download and returning path\n",
      "\n",
      "\n",
      "/media/nicolasf/END19101/ICU/data/CDS/operational/hindcasts/NCEP/TPRATE/ensemble_seas_forecasts_tprate_from_2015_03_NCEP.netcdf exists already on disk, skipping download and returning path\n",
      "\n",
      "\n",
      "attempting to download tprate for GCM ECCC, for level surface, year 2015, month 3, in netcdf, attempt 1 of 3\n",
      "\n",
      "\n",
      "/media/nicolasf/END19101/ICU/data/CDS/operational/hindcasts/ECMWF/TPRATE/ensemble_seas_forecasts_tprate_from_2015_03_ECMWF.netcdf exists already on disk, skipping download and returning path\n",
      "\n",
      "\n",
      "attempting to download tprate for GCM METEO_FRANCE, for level surface, year 2015, month 3, in netcdf, attempt 1 of 3\n",
      "\n",
      "\n",
      "attempting to download tprate for GCM JMA, for level surface, year 2015, month 3, in netcdf, attempt 1 of 3\n",
      "\n",
      "\n",
      "attempting to download tprate for GCM UKMO, for level surface, year 2015, month 3, in netcdf, attempt 1 of 3\n",
      "\n",
      "[######################                  ] | 55% Completed |  0.2s"
     ]
    },
    {
     "name": "stderr",
     "output_type": "stream",
     "text": [
      "2022-03-14 10:58:50,245 INFO Welcome to the CDS\n",
      "2022-03-14 10:58:50,246 INFO Sending request to https://cds.climate.copernicus.eu/api/v2/resources/seasonal-monthly-single-levels\n"
     ]
    },
    {
     "name": "stdout",
     "output_type": "stream",
     "text": [
      "[######################                  ] | 55% Completed |  0.3s"
     ]
    },
    {
     "name": "stderr",
     "output_type": "stream",
     "text": [
      "2022-03-14 10:58:50,249 INFO Welcome to the CDS\n",
      "2022-03-14 10:58:50,249 INFO Sending request to https://cds.climate.copernicus.eu/api/v2/resources/seasonal-monthly-single-levels\n",
      "2022-03-14 10:58:50,259 INFO Welcome to the CDS\n",
      "2022-03-14 10:58:50,260 INFO Welcome to the CDS\n",
      "2022-03-14 10:58:50,260 INFO Sending request to https://cds.climate.copernicus.eu/api/v2/resources/seasonal-monthly-single-levels\n",
      "2022-03-14 10:58:50,261 INFO Sending request to https://cds.climate.copernicus.eu/api/v2/resources/seasonal-monthly-single-levels\n"
     ]
    },
    {
     "name": "stdout",
     "output_type": "stream",
     "text": [
      "[######################                  ] | 55% Completed |  0.5s"
     ]
    },
    {
     "name": "stderr",
     "output_type": "stream",
     "text": [
      "2022-03-14 10:58:50,540 INFO Request is queued\n",
      "2022-03-14 10:58:50,541 INFO Request is queued\n"
     ]
    },
    {
     "name": "stdout",
     "output_type": "stream",
     "text": [
      "[######################                  ] | 55% Completed |  0.6s"
     ]
    },
    {
     "name": "stderr",
     "output_type": "stream",
     "text": [
      "2022-03-14 10:58:50,555 INFO Request is queued\n",
      "2022-03-14 10:58:50,585 INFO Request is queued\n"
     ]
    },
    {
     "name": "stdout",
     "output_type": "stream",
     "text": [
      "[######################                  ] | 55% Completed |  1.8s"
     ]
    },
    {
     "name": "stderr",
     "output_type": "stream",
     "text": [
      "2022-03-14 10:58:51,836 INFO Request is running\n"
     ]
    },
    {
     "name": "stdout",
     "output_type": "stream",
     "text": [
      "[######################                  ] | 55% Completed |  6.2s"
     ]
    },
    {
     "name": "stderr",
     "output_type": "stream",
     "text": [
      "2022-03-14 10:58:56,173 INFO Request is completed\n",
      "2022-03-14 10:58:56,175 INFO Downloading https://download-0002.copernicus-climate.eu/cache-compute-0002/cache/data5/adaptor.mars.external-1647208732.9852035-9813-5-5e527d29-d453-430f-8731-1a8cb0d832b2.nc to /media/nicolasf/END19101/ICU/data/CDS/operational/hindcasts/METEO_FRANCE/TPRATE/ensemble_seas_forecasts_tprate_from_2015_03_METEO_FRANCE.netcdf (2.7M)\n",
      "2022-03-14 10:58:56,183 INFO Request is running\n"
     ]
    },
    {
     "name": "stdout",
     "output_type": "stream",
     "text": [
      "[######################                  ] | 55% Completed |  6.5s"
     ]
    },
    {
     "name": "stderr",
     "output_type": "stream",
     "text": [
      "  0%|                                                                                                                | 0.00/2.73M [00:00<?, ?B/s]"
     ]
    },
    {
     "name": "stdout",
     "output_type": "stream",
     "text": [
      "[######################                  ] | 55% Completed |  6.7s"
     ]
    },
    {
     "name": "stderr",
     "output_type": "stream",
     "text": [
      "  0%|▎                                                                                                      | 8.00k/2.73M [00:00<01:36, 29.6kB/s]"
     ]
    },
    {
     "name": "stdout",
     "output_type": "stream",
     "text": [
      "[######################                  ] | 55% Completed |  7.0s"
     ]
    },
    {
     "name": "stderr",
     "output_type": "stream",
     "text": [
      "  1%|█▎                                                                                                     | 35.0k/2.73M [00:00<00:40, 69.9kB/s]"
     ]
    },
    {
     "name": "stdout",
     "output_type": "stream",
     "text": [
      "[######################                  ] | 55% Completed |  7.3s"
     ]
    },
    {
     "name": "stderr",
     "output_type": "stream",
     "text": [
      "  3%|███▌                                                                                                    | 96.0k/2.73M [00:00<00:19, 139kB/s]"
     ]
    },
    {
     "name": "stdout",
     "output_type": "stream",
     "text": [
      "[######################                  ] | 55% Completed |  7.6s"
     ]
    },
    {
     "name": "stderr",
     "output_type": "stream",
     "text": [
      "  7%|███████▌                                                                                                 | 201k/2.73M [00:01<00:11, 234kB/s]"
     ]
    },
    {
     "name": "stdout",
     "output_type": "stream",
     "text": [
      "[######################                  ] | 55% Completed |  7.9s"
     ]
    },
    {
     "name": "stderr",
     "output_type": "stream",
     "text": [
      " 15%|███████████████▉                                                                                         | 422k/2.73M [00:01<00:05, 438kB/s]"
     ]
    },
    {
     "name": "stdout",
     "output_type": "stream",
     "text": [
      "[######################                  ] | 55% Completed |  8.1s"
     ]
    },
    {
     "name": "stderr",
     "output_type": "stream",
     "text": [
      " 31%|████████████████████████████████▌                                                                        | 865k/2.73M [00:01<00:02, 834kB/s]"
     ]
    },
    {
     "name": "stdout",
     "output_type": "stream",
     "text": [
      "[######################                  ] | 55% Completed |  8.4s"
     ]
    },
    {
     "name": "stderr",
     "output_type": "stream",
     "text": [
      " 63%|████████████████████████████████████████████████████████████████▍                                      | 1.71M/2.73M [00:01<00:00, 1.60MB/s]"
     ]
    },
    {
     "name": "stdout",
     "output_type": "stream",
     "text": [
      "[######################                  ] | 55% Completed |  8.7s"
     ]
    },
    {
     "name": "stderr",
     "output_type": "stream",
     "text": [
      " 95%|██████████████████████████████████████████████████████████████████████████████████████████████████▎    | 2.60M/2.73M [00:02<00:00, 2.08MB/s]"
     ]
    },
    {
     "name": "stdout",
     "output_type": "stream",
     "text": [
      "[######################                  ] | 55% Completed |  9.9s"
     ]
    },
    {
     "name": "stderr",
     "output_type": "stream",
     "text": [
      "2022-03-14 10:58:59,859 INFO Request is completed\n",
      "2022-03-14 10:58:59,860 INFO Downloading https://download-0005.copernicus-climate.eu/cache-compute-0005/cache/data9/adaptor.mars.external-1647208737.3860948-12717-20-c3e5ee5a-b478-4f97-b4ad-00e806486196.nc to /media/nicolasf/END19101/ICU/data/CDS/operational/hindcasts/UKMO/TPRATE/ensemble_seas_forecasts_tprate_from_2015_03_UKMO.netcdf (3.1M)\n"
     ]
    },
    {
     "name": "stdout",
     "output_type": "stream",
     "text": [
      "[######################                  ] | 55% Completed | 10.0s"
     ]
    },
    {
     "name": "stderr",
     "output_type": "stream",
     "text": [
      "2022-03-14 10:58:59,920 INFO Download rate 745.3K/s                                                                                              \n"
     ]
    },
    {
     "name": "stdout",
     "output_type": "stream",
     "text": [
      "[######################                  ] | 55% Completed | 10.2s\n",
      "/media/nicolasf/END19101/ICU/data/CDS/operational/hindcasts/METEO_FRANCE/TPRATE/ensemble_seas_forecasts_tprate_from_2015_03_METEO_FRANCE.netcdf downloaded OK\n",
      "\n",
      "[##########################              ] | 66% Completed | 10.8s"
     ]
    },
    {
     "name": "stderr",
     "output_type": "stream",
     "text": [
      "2022-03-14 10:59:00,765 INFO Request is completed\n",
      "2022-03-14 10:59:00,766 INFO Downloading https://download-0010.copernicus-climate.eu/cache-compute-0010/cache/data2/adaptor.mars.external-1647208739.433198-12384-8-b87df857-3390-426c-8868-e815d1331c91.nc to /media/nicolasf/END19101/ICU/data/CDS/operational/hindcasts/ECCC_GEM_NEMO/TPRATE/ensemble_seas_forecasts_tprate_from_2015_03_ECCC.netcdf (1.1M)\n"
     ]
    },
    {
     "name": "stdout",
     "output_type": "stream",
     "text": [
      "[##########################              ] | 66% Completed | 11.4s"
     ]
    },
    {
     "name": "stderr",
     "output_type": "stream",
     "text": [
      "  0%|                                                                                                                | 0.00/3.05M [00:00<?, ?B/s]"
     ]
    },
    {
     "name": "stdout",
     "output_type": "stream",
     "text": [
      "[##########################              ] | 66% Completed | 11.7s"
     ]
    },
    {
     "name": "stderr",
     "output_type": "stream",
     "text": [
      "  1%|▌                                                                                                      | 16.0k/3.05M [00:00<00:55, 57.4kB/s]"
     ]
    },
    {
     "name": "stdout",
     "output_type": "stream",
     "text": [
      "[##########################              ] | 66% Completed | 12.0s"
     ]
    },
    {
     "name": "stderr",
     "output_type": "stream",
     "text": [
      "  2%|██▏                                                                                                     | 66.0k/3.05M [00:00<00:24, 129kB/s]"
     ]
    },
    {
     "name": "stdout",
     "output_type": "stream",
     "text": [
      "[##########################              ] | 66% Completed | 12.2s"
     ]
    },
    {
     "name": "stderr",
     "output_type": "stream",
     "text": [
      "  4%|████▎                                                                                                    | 130k/3.05M [00:00<00:17, 174kB/s]"
     ]
    },
    {
     "name": "stdout",
     "output_type": "stream",
     "text": [
      "[##########################              ] | 66% Completed | 12.3s"
     ]
    },
    {
     "name": "stderr",
     "output_type": "stream",
     "text": [
      "\n",
      "  0%|                                                                                                                | 0.00/1.09M [00:00<?, ?B/s]\u001b[A"
     ]
    },
    {
     "name": "stdout",
     "output_type": "stream",
     "text": [
      "[##########################              ] | 66% Completed | 12.5s"
     ]
    },
    {
     "name": "stderr",
     "output_type": "stream",
     "text": [
      "  9%|█████████▍                                                                                               | 282k/3.05M [00:01<00:09, 319kB/s]"
     ]
    },
    {
     "name": "stdout",
     "output_type": "stream",
     "text": [
      "[##########################              ] | 66% Completed | 12.6s"
     ]
    },
    {
     "name": "stderr",
     "output_type": "stream",
     "text": [
      "\n",
      "  1%|█▍                                                                                                     | 16.0k/1.09M [00:00<00:19, 57.7kB/s]\u001b[A"
     ]
    },
    {
     "name": "stdout",
     "output_type": "stream",
     "text": [
      "[##########################              ] | 66% Completed | 12.8s"
     ]
    },
    {
     "name": "stderr",
     "output_type": "stream",
     "text": [
      " 19%|███████████████████▉                                                                                     | 594k/3.05M [00:01<00:04, 606kB/s]"
     ]
    },
    {
     "name": "stdout",
     "output_type": "stream",
     "text": [
      "[##########################              ] | 66% Completed | 12.9s"
     ]
    },
    {
     "name": "stderr",
     "output_type": "stream",
     "text": [
      "\n",
      "  6%|██████▍                                                                                                 | 69.0k/1.09M [00:00<00:07, 135kB/s]\u001b[A"
     ]
    },
    {
     "name": "stdout",
     "output_type": "stream",
     "text": [
      "[##########################              ] | 66% Completed | 13.1s"
     ]
    },
    {
     "name": "stderr",
     "output_type": "stream",
     "text": [
      " 39%|███████████████████████████████████████▉                                                               | 1.18M/3.05M [00:01<00:01, 1.15MB/s]\n",
      " 12%|████████████                                                                                             | 129k/1.09M [00:00<00:05, 171kB/s]\u001b[A"
     ]
    },
    {
     "name": "stdout",
     "output_type": "stream",
     "text": [
      "[##########################              ] | 66% Completed | 13.4s"
     ]
    },
    {
     "name": "stderr",
     "output_type": "stream",
     "text": [
      "\n",
      " 25%|██████████████████████████                                                                               | 278k/1.09M [00:01<00:02, 313kB/s]\u001b[A"
     ]
    },
    {
     "name": "stdout",
     "output_type": "stream",
     "text": [
      "[##########################              ] | 66% Completed | 13.7s"
     ]
    },
    {
     "name": "stderr",
     "output_type": "stream",
     "text": [
      " 71%|█████████████████████████████████████████████████████████████████████████▍                             | 2.18M/3.05M [00:02<00:00, 1.47MB/s]\n",
      " 52%|██████████████████████████████████████████████████████▍                                                  | 579k/1.09M [00:01<00:00, 587kB/s]\u001b[A"
     ]
    },
    {
     "name": "stdout",
     "output_type": "stream",
     "text": [
      "[##########################              ] | 66% Completed | 13.8s"
     ]
    },
    {
     "name": "stderr",
     "output_type": "stream",
     "text": [
      "2022-03-14 10:59:03,805 INFO Download rate 792.5K/s                                                                                              \n",
      "\n",
      "                                                                                                                                                 \u001b[A2022-03-14 10:59:03,849 INFO Download rate 362.5K/s\n"
     ]
    },
    {
     "name": "stdout",
     "output_type": "stream",
     "text": [
      "[##########################              ] | 66% Completed | 14.1s\n",
      "/media/nicolasf/END19101/ICU/data/CDS/operational/hindcasts/UKMO/TPRATE/ensemble_seas_forecasts_tprate_from_2015_03_UKMO.netcdf downloaded OK\n",
      "\n",
      "\n",
      "/media/nicolasf/END19101/ICU/data/CDS/operational/hindcasts/ECCC_GEM_NEMO/TPRATE/ensemble_seas_forecasts_tprate_from_2015_03_ECCC.netcdf downloaded OK\n",
      "\n",
      "[###################################     ] | 88% Completed | 15.3s"
     ]
    },
    {
     "name": "stderr",
     "output_type": "stream",
     "text": [
      "2022-03-14 10:59:05,244 INFO Request is failed\n",
      "2022-03-14 10:59:05,244 ERROR Message: an internal error occurred processing your request\n",
      "2022-03-14 10:59:05,245 ERROR Reason:  [Errno 13] Permission denied: '/cache/tmp'\n",
      "2022-03-14 10:59:05,245 ERROR   Traceback (most recent call last):\n",
      "2022-03-14 10:59:05,245 ERROR     File \"/usr/lib64/python3.6/os.py\", line 220, in makedirs\n",
      "2022-03-14 10:59:05,246 ERROR       mkdir(name, mode)\n",
      "2022-03-14 10:59:05,246 ERROR   FileExistsError: [Errno 17] File exists: '/cache/tmp'\n"
     ]
    },
    {
     "name": "stdout",
     "output_type": "stream",
     "text": [
      "\n",
      "failure to download or save /media/nicolasf/END19101/ICU/data/CDS/operational/hindcasts/JMA/TPRATE/ensemble_seas_forecasts_tprate_from_2015_03_JMA.netcdf\n",
      "\n",
      "\n",
      "attempting to download tprate for GCM JMA, for level surface, year 2015, month 3, in netcdf, attempt 2 of 3\n",
      "\n",
      "[###################################     ] | 88% Completed | 15.6s"
     ]
    },
    {
     "name": "stderr",
     "output_type": "stream",
     "text": [
      "2022-03-14 10:59:05,537 INFO Welcome to the CDS\n",
      "2022-03-14 10:59:05,537 INFO Sending request to https://cds.climate.copernicus.eu/api/v2/resources/seasonal-monthly-single-levels\n"
     ]
    },
    {
     "name": "stdout",
     "output_type": "stream",
     "text": [
      "[###################################     ] | 88% Completed | 15.9s"
     ]
    },
    {
     "name": "stderr",
     "output_type": "stream",
     "text": [
      "2022-03-14 10:59:05,837 INFO Request is queued\n"
     ]
    },
    {
     "name": "stdout",
     "output_type": "stream",
     "text": [
      "[###################################     ] | 88% Completed | 17.2s"
     ]
    },
    {
     "name": "stderr",
     "output_type": "stream",
     "text": [
      "2022-03-14 10:59:07,137 INFO Request is failed\n",
      "2022-03-14 10:59:07,138 ERROR Message: an internal error occurred processing your request\n",
      "2022-03-14 10:59:07,138 ERROR Reason:  [Errno 13] Permission denied: '/cache/tmp'\n",
      "2022-03-14 10:59:07,139 ERROR   Traceback (most recent call last):\n",
      "2022-03-14 10:59:07,140 ERROR     File \"/usr/lib64/python3.6/os.py\", line 220, in makedirs\n",
      "2022-03-14 10:59:07,140 ERROR       mkdir(name, mode)\n",
      "2022-03-14 10:59:07,141 ERROR   FileExistsError: [Errno 17] File exists: '/cache/tmp'\n"
     ]
    },
    {
     "name": "stdout",
     "output_type": "stream",
     "text": [
      "\n",
      "failure to download or save /media/nicolasf/END19101/ICU/data/CDS/operational/hindcasts/JMA/TPRATE/ensemble_seas_forecasts_tprate_from_2015_03_JMA.netcdf\n",
      "\n",
      "\n",
      "attempting to download tprate for GCM JMA, for level surface, year 2015, month 3, in netcdf, attempt 3 of 3\n",
      "\n",
      "[###################################     ] | 88% Completed | 17.4s"
     ]
    },
    {
     "name": "stderr",
     "output_type": "stream",
     "text": [
      "2022-03-14 10:59:07,433 INFO Welcome to the CDS\n",
      "2022-03-14 10:59:07,434 INFO Sending request to https://cds.climate.copernicus.eu/api/v2/resources/seasonal-monthly-single-levels\n"
     ]
    },
    {
     "name": "stdout",
     "output_type": "stream",
     "text": [
      "[###################################     ] | 88% Completed | 17.7s"
     ]
    },
    {
     "name": "stderr",
     "output_type": "stream",
     "text": [
      "2022-03-14 10:59:07,736 INFO Request is queued\n"
     ]
    },
    {
     "name": "stdout",
     "output_type": "stream",
     "text": [
      "[###################################     ] | 88% Completed | 19.0s"
     ]
    },
    {
     "name": "stderr",
     "output_type": "stream",
     "text": [
      "2022-03-14 10:59:09,032 INFO Request is running\n"
     ]
    },
    {
     "name": "stdout",
     "output_type": "stream",
     "text": [
      "[###################################     ] | 88% Completed | 20.9s"
     ]
    },
    {
     "name": "stderr",
     "output_type": "stream",
     "text": [
      "2022-03-14 10:59:10,828 INFO Request is completed\n",
      "2022-03-14 10:59:10,829 INFO Downloading https://download-0014.copernicus-climate.eu/cache-compute-0014/cache/data4/adaptor.mars.external-1647208748.992982-12841-19-5d7f9137-26ab-46f7-8892-2b452812f318.nc to /media/nicolasf/END19101/ICU/data/CDS/operational/hindcasts/JMA/TPRATE/ensemble_seas_forecasts_tprate_from_2015_03_JMA.netcdf (719.2K)\n"
     ]
    },
    {
     "name": "stdout",
     "output_type": "stream",
     "text": [
      "[###################################     ] | 88% Completed | 21.4s"
     ]
    },
    {
     "name": "stderr",
     "output_type": "stream",
     "text": [
      "  0%|                                                                                                                 | 0.00/719k [00:00<?, ?B/s]"
     ]
    },
    {
     "name": "stdout",
     "output_type": "stream",
     "text": [
      "[###################################     ] | 88% Completed | 21.7s"
     ]
    },
    {
     "name": "stderr",
     "output_type": "stream",
     "text": [
      "  1%|█▏                                                                                                      | 8.00k/719k [00:00<00:24, 29.6kB/s]"
     ]
    },
    {
     "name": "stdout",
     "output_type": "stream",
     "text": [
      "[###################################     ] | 88% Completed | 22.0s"
     ]
    },
    {
     "name": "stderr",
     "output_type": "stream",
     "text": [
      "  4%|███▊                                                                                                    | 26.0k/719k [00:00<00:13, 50.8kB/s]"
     ]
    },
    {
     "name": "stdout",
     "output_type": "stream",
     "text": [
      "[###################################     ] | 88% Completed | 22.3s"
     ]
    },
    {
     "name": "stderr",
     "output_type": "stream",
     "text": [
      "  8%|████████▍                                                                                               | 58.0k/719k [00:00<00:08, 80.9kB/s]"
     ]
    },
    {
     "name": "stdout",
     "output_type": "stream",
     "text": [
      "[###################################     ] | 88% Completed | 22.5s"
     ]
    },
    {
     "name": "stderr",
     "output_type": "stream",
     "text": [
      " 18%|███████████████████▏                                                                                      | 130k/719k [00:01<00:03, 152kB/s]"
     ]
    },
    {
     "name": "stdout",
     "output_type": "stream",
     "text": [
      "[###################################     ] | 88% Completed | 22.8s"
     ]
    },
    {
     "name": "stderr",
     "output_type": "stream",
     "text": [
      " 36%|██████████████████████████████████████▌                                                                   | 262k/719k [00:01<00:01, 271kB/s]"
     ]
    },
    {
     "name": "stdout",
     "output_type": "stream",
     "text": [
      "[###################################     ] | 88% Completed | 23.1s"
     ]
    },
    {
     "name": "stderr",
     "output_type": "stream",
     "text": [
      " 74%|██████████████████████████████████████████████████████████████████████████████▎                           | 531k/719k [00:01<00:00, 511kB/s]"
     ]
    },
    {
     "name": "stdout",
     "output_type": "stream",
     "text": [
      "[###################################     ] | 88% Completed | 23.2s"
     ]
    },
    {
     "name": "stderr",
     "output_type": "stream",
     "text": [
      "2022-03-14 10:59:13,196 INFO Download rate 303.9K/s                                                                                              \n"
     ]
    },
    {
     "name": "stdout",
     "output_type": "stream",
     "text": [
      "[###################################     ] | 88% Completed | 23.5s\n",
      "/media/nicolasf/END19101/ICU/data/CDS/operational/hindcasts/JMA/TPRATE/ensemble_seas_forecasts_tprate_from_2015_03_JMA.netcdf downloaded OK\n",
      "\n",
      "[########################################] | 100% Completed | 23.6s\n",
      "processing ECCC, path should be /media/nicolasf/END19101/ICU/data/CDS/operational/hindcasts/ECCC_CanCM4i/TPRATE\n",
      "processing ECCC, path should be /media/nicolasf/END19101/ICU/data/CDS/operational/hindcasts/ECCC_GEM_NEMO/TPRATE\n",
      "[                                        ] | 0% Completed |  0.0s\n",
      "/media/nicolasf/END19101/ICU/data/CDS/operational/hindcasts/ECCC_CanCM4i/TPRATE/ensemble_seas_forecasts_tprate_from_2016_03_ECCC.netcdf exists already on disk, skipping download and returning path\n",
      "\n",
      "\n",
      "/media/nicolasf/END19101/ICU/data/CDS/operational/hindcasts/NCEP/TPRATE/ensemble_seas_forecasts_tprate_from_2016_03_NCEP.netcdf exists already on disk, skipping download and returning path\n",
      "\n",
      "\n",
      "/media/nicolasf/END19101/ICU/data/CDS/operational/hindcasts/DWD/TPRATE/ensemble_seas_forecasts_tprate_from_2016_03_DWD.netcdf exists already on disk, skipping download and returning path\n",
      "\n",
      "\n",
      "/media/nicolasf/END19101/ICU/data/CDS/operational/hindcasts/CMCC/TPRATE/ensemble_seas_forecasts_tprate_from_2016_03_CMCC.netcdf exists already on disk, skipping download and returning path\n",
      "\n",
      "\n",
      "attempting to download tprate for GCM METEO_FRANCE, for level surface, year 2016, month 3, in netcdf, attempt 1 of 3\n",
      "\n",
      "\n",
      "attempting to download tprate for GCM UKMO, for level surface, year 2016, month 3, in netcdf, attempt 1 of 3\n",
      "\n",
      "attempting to download tprate for GCM JMA, for level surface, year 2016, month 3, in netcdf, attempt 1 of 3\n",
      "\n",
      "\n",
      "attempting to download tprate for GCM ECCC, for level surface, year 2016, month 3, in netcdf, attempt 1 of 3\n",
      "\n",
      "\n",
      "/media/nicolasf/END19101/ICU/data/CDS/operational/hindcasts/ECMWF/TPRATE/ensemble_seas_forecasts_tprate_from_2016_03_ECMWF.netcdf exists already on disk, skipping download and returning path\n",
      "\n",
      "\n",
      "[######################                  ] | 55% Completed |  0.3s"
     ]
    },
    {
     "name": "stderr",
     "output_type": "stream",
     "text": [
      "2022-03-14 10:59:13,872 INFO Welcome to the CDS\n",
      "2022-03-14 10:59:13,874 INFO Welcome to the CDS\n",
      "2022-03-14 10:59:13,875 INFO Sending request to https://cds.climate.copernicus.eu/api/v2/resources/seasonal-monthly-single-levels\n",
      "2022-03-14 10:59:13,877 INFO Sending request to https://cds.climate.copernicus.eu/api/v2/resources/seasonal-monthly-single-levels\n",
      "2022-03-14 10:59:13,882 INFO Welcome to the CDS\n",
      "2022-03-14 10:59:13,884 INFO Welcome to the CDS\n",
      "2022-03-14 10:59:13,891 INFO Sending request to https://cds.climate.copernicus.eu/api/v2/resources/seasonal-monthly-single-levels\n",
      "2022-03-14 10:59:13,893 INFO Sending request to https://cds.climate.copernicus.eu/api/v2/resources/seasonal-monthly-single-levels\n"
     ]
    },
    {
     "name": "stdout",
     "output_type": "stream",
     "text": [
      "[######################                  ] | 55% Completed |  0.5s"
     ]
    },
    {
     "name": "stderr",
     "output_type": "stream",
     "text": [
      "2022-03-14 10:59:14,172 INFO Request is queued\n"
     ]
    },
    {
     "name": "stdout",
     "output_type": "stream",
     "text": [
      "[######################                  ] | 55% Completed |  0.6s"
     ]
    },
    {
     "name": "stderr",
     "output_type": "stream",
     "text": [
      "2022-03-14 10:59:14,183 INFO Request is queued\n",
      "2022-03-14 10:59:14,191 INFO Request is queued\n",
      "2022-03-14 10:59:14,196 INFO Request is queued\n"
     ]
    },
    {
     "name": "stdout",
     "output_type": "stream",
     "text": [
      "[######################                  ] | 55% Completed |  1.8s"
     ]
    },
    {
     "name": "stderr",
     "output_type": "stream",
     "text": [
      "2022-03-14 10:59:15,471 INFO Request is running\n"
     ]
    },
    {
     "name": "stdout",
     "output_type": "stream",
     "text": [
      "[######################                  ] | 55% Completed |  3.7s"
     ]
    },
    {
     "name": "stderr",
     "output_type": "stream",
     "text": [
      "2022-03-14 10:59:17,265 INFO Request is completed\n",
      "2022-03-14 10:59:17,267 INFO Downloading https://download-0005.copernicus-climate.eu/cache-compute-0005/cache/data9/adaptor.mars.external-1647208755.138549-16566-9-9a632e54-e819-4ccb-9032-e177223cb48c.nc to /media/nicolasf/END19101/ICU/data/CDS/operational/hindcasts/JMA/TPRATE/ensemble_seas_forecasts_tprate_from_2016_03_JMA.netcdf (719.2K)\n",
      "2022-03-14 10:59:17,278 INFO Request is running\n"
     ]
    },
    {
     "name": "stdout",
     "output_type": "stream",
     "text": [
      "[######################                  ] | 55% Completed |  4.0s"
     ]
    },
    {
     "name": "stderr",
     "output_type": "stream",
     "text": [
      "  0%|                                                                                                                 | 0.00/719k [00:00<?, ?B/s]"
     ]
    },
    {
     "name": "stdout",
     "output_type": "stream",
     "text": [
      "[######################                  ] | 55% Completed |  4.3s"
     ]
    },
    {
     "name": "stderr",
     "output_type": "stream",
     "text": [
      "  1%|█▏                                                                                                      | 8.00k/719k [00:00<00:25, 29.0kB/s]"
     ]
    },
    {
     "name": "stdout",
     "output_type": "stream",
     "text": [
      "[######################                  ] | 55% Completed |  4.5s"
     ]
    },
    {
     "name": "stderr",
     "output_type": "stream",
     "text": [
      "  5%|████▉                                                                                                   | 34.0k/719k [00:00<00:10, 66.8kB/s]"
     ]
    },
    {
     "name": "stdout",
     "output_type": "stream",
     "text": [
      "[######################                  ] | 55% Completed |  4.8s"
     ]
    },
    {
     "name": "stderr",
     "output_type": "stream",
     "text": [
      " 13%|█████████████▏                                                                                           | 90.0k/719k [00:00<00:05, 128kB/s]"
     ]
    },
    {
     "name": "stdout",
     "output_type": "stream",
     "text": [
      "[######################                  ] | 55% Completed |  5.1s"
     ]
    },
    {
     "name": "stderr",
     "output_type": "stream",
     "text": [
      " 28%|█████████████████████████████▌                                                                            | 201k/719k [00:01<00:02, 234kB/s]"
     ]
    },
    {
     "name": "stdout",
     "output_type": "stream",
     "text": [
      "[######################                  ] | 55% Completed |  5.4s"
     ]
    },
    {
     "name": "stderr",
     "output_type": "stream",
     "text": [
      " 59%|██████████████████████████████████████████████████████████████▏                                           | 422k/719k [00:01<00:00, 434kB/s]"
     ]
    },
    {
     "name": "stdout",
     "output_type": "stream",
     "text": [
      "[######################                  ] | 55% Completed |  5.5s"
     ]
    },
    {
     "name": "stderr",
     "output_type": "stream",
     "text": [
      "2022-03-14 10:59:19,113 INFO Download rate 390K/s                                                                                                \n"
     ]
    },
    {
     "name": "stdout",
     "output_type": "stream",
     "text": [
      "[######################                  ] | 55% Completed |  5.8s\n",
      "/media/nicolasf/END19101/ICU/data/CDS/operational/hindcasts/JMA/TPRATE/ensemble_seas_forecasts_tprate_from_2016_03_JMA.netcdf downloaded OK\n",
      "\n",
      "[##########################              ] | 66% Completed |  9.9s"
     ]
    },
    {
     "name": "stderr",
     "output_type": "stream",
     "text": [
      "2022-03-14 10:59:23,492 INFO Request is completed\n",
      "2022-03-14 10:59:23,494 INFO Request is completed\n",
      "2022-03-14 10:59:23,497 INFO Downloading https://download-0014.copernicus-climate.eu/cache-compute-0014/cache/data4/adaptor.mars.external-1647208759.1216779-26925-8-34e9c7ec-66b1-4623-96f9-3fc8a08614f4.nc to /media/nicolasf/END19101/ICU/data/CDS/operational/hindcasts/METEO_FRANCE/TPRATE/ensemble_seas_forecasts_tprate_from_2016_03_METEO_FRANCE.netcdf (2.7M)\n",
      "2022-03-14 10:59:23,498 INFO Request is failed\n",
      "2022-03-14 10:59:23,500 INFO Downloading https://download-0009.copernicus-climate.eu/cache-compute-0009/cache/data6/adaptor.mars.external-1647208762.1185818-14255-10-d5590c00-34f0-4acb-8921-20d08bb092c3.nc to /media/nicolasf/END19101/ICU/data/CDS/operational/hindcasts/UKMO/TPRATE/ensemble_seas_forecasts_tprate_from_2016_03_UKMO.netcdf (3.1M)\n",
      "2022-03-14 10:59:23,509 ERROR Message: an internal error occurred processing your request\n",
      "2022-03-14 10:59:23,520 ERROR Reason:  [Errno 13] Permission denied: '/cache/tmp'\n",
      "2022-03-14 10:59:23,522 ERROR   Traceback (most recent call last):\n",
      "2022-03-14 10:59:23,523 ERROR     File \"/usr/lib64/python3.6/os.py\", line 220, in makedirs\n",
      "2022-03-14 10:59:23,525 ERROR       mkdir(name, mode)\n",
      "2022-03-14 10:59:23,526 ERROR   FileExistsError: [Errno 17] File exists: '/cache/tmp'\n"
     ]
    },
    {
     "name": "stdout",
     "output_type": "stream",
     "text": [
      "\n",
      "failure to download or save /media/nicolasf/END19101/ICU/data/CDS/operational/hindcasts/ECCC_GEM_NEMO/TPRATE/ensemble_seas_forecasts_tprate_from_2016_03_ECCC.netcdf\n",
      "\n",
      "\n",
      "attempting to download tprate for GCM ECCC, for level surface, year 2016, month 3, in netcdf, attempt 2 of 3\n",
      "\n",
      "[##########################              ] | 66% Completed | 10.2s"
     ]
    },
    {
     "name": "stderr",
     "output_type": "stream",
     "text": [
      "  0%|                                                                                                                | 0.00/2.73M [00:00<?, ?B/s]2022-03-14 10:59:23,821 INFO Welcome to the CDS\n",
      "2022-03-14 10:59:23,822 INFO Sending request to https://cds.climate.copernicus.eu/api/v2/resources/seasonal-monthly-single-levels\n"
     ]
    },
    {
     "name": "stdout",
     "output_type": "stream",
     "text": [
      "[##########################              ] | 66% Completed | 10.5s"
     ]
    },
    {
     "name": "stderr",
     "output_type": "stream",
     "text": [
      "  0%|▎                                                                                                      | 8.00k/2.73M [00:00<01:37, 29.2kB/s]2022-03-14 10:59:24,122 INFO Request is queued\n"
     ]
    },
    {
     "name": "stdout",
     "output_type": "stream",
     "text": [
      "[##########################              ] | 66% Completed | 10.8s"
     ]
    },
    {
     "name": "stderr",
     "output_type": "stream",
     "text": [
      "  1%|█▎                                                                                                     | 34.0k/2.73M [00:00<00:41, 67.8kB/s]"
     ]
    },
    {
     "name": "stdout",
     "output_type": "stream",
     "text": [
      "[##########################              ] | 66% Completed | 11.0s"
     ]
    },
    {
     "name": "stderr",
     "output_type": "stream",
     "text": [
      "  3%|███▎                                                                                                    | 90.0k/2.73M [00:00<00:21, 130kB/s]"
     ]
    },
    {
     "name": "stdout",
     "output_type": "stream",
     "text": [
      "[##########################              ] | 66% Completed | 11.3s"
     ]
    },
    {
     "name": "stderr",
     "output_type": "stream",
     "text": [
      "  7%|███████▌                                                                                                 | 202k/2.73M [00:01<00:11, 240kB/s]"
     ]
    },
    {
     "name": "stdout",
     "output_type": "stream",
     "text": [
      "[##########################              ] | 66% Completed | 11.5s"
     ]
    },
    {
     "name": "stderr",
     "output_type": "stream",
     "text": [
      "\n",
      "  0%|                                                                                                                | 0.00/3.05M [00:00<?, ?B/s]\u001b[A"
     ]
    },
    {
     "name": "stdout",
     "output_type": "stream",
     "text": [
      "[##########################              ] | 66% Completed | 11.6s"
     ]
    },
    {
     "name": "stderr",
     "output_type": "stream",
     "text": [
      " 15%|███████████████▉                                                                                         | 422k/2.73M [00:01<00:05, 442kB/s]"
     ]
    },
    {
     "name": "stdout",
     "output_type": "stream",
     "text": [
      "[##########################              ] | 66% Completed | 11.7s"
     ]
    },
    {
     "name": "stderr",
     "output_type": "stream",
     "text": [
      "\n",
      "  1%|▌                                                                                                      | 16.0k/3.05M [00:00<00:54, 58.5kB/s]\u001b[A"
     ]
    },
    {
     "name": "stdout",
     "output_type": "stream",
     "text": [
      "[##########################              ] | 66% Completed | 11.8s"
     ]
    },
    {
     "name": "stderr",
     "output_type": "stream",
     "text": [
      "2022-03-14 10:59:25,422 INFO Request is failed\n",
      "2022-03-14 10:59:25,424 ERROR Message: an internal error occurred processing your request\n",
      "2022-03-14 10:59:25,426 ERROR Reason:  [Errno 13] Permission denied: '/cache/tmp'\n",
      "2022-03-14 10:59:25,428 ERROR   Traceback (most recent call last):\n",
      "2022-03-14 10:59:25,430 ERROR     File \"/usr/lib64/python3.6/os.py\", line 220, in makedirs\n",
      "2022-03-14 10:59:25,431 ERROR       mkdir(name, mode)\n",
      "2022-03-14 10:59:25,433 ERROR   FileExistsError: [Errno 17] File exists: '/cache/tmp'\n"
     ]
    },
    {
     "name": "stdout",
     "output_type": "stream",
     "text": [
      "\n",
      "failure to download or save /media/nicolasf/END19101/ICU/data/CDS/operational/hindcasts/ECCC_GEM_NEMO/TPRATE/ensemble_seas_forecasts_tprate_from_2016_03_ECCC.netcdf\n",
      "\n",
      "\n",
      "attempting to download tprate for GCM ECCC, for level surface, year 2016, month 3, in netcdf, attempt 3 of 3\n",
      "\n",
      "[##########################              ] | 66% Completed | 11.9s"
     ]
    },
    {
     "name": "stderr",
     "output_type": "stream",
     "text": [
      " 31%|████████████████████████████████▌                                                                        | 864k/2.73M [00:01<00:02, 838kB/s]"
     ]
    },
    {
     "name": "stdout",
     "output_type": "stream",
     "text": [
      "[##########################              ] | 66% Completed | 12.0s"
     ]
    },
    {
     "name": "stderr",
     "output_type": "stream",
     "text": [
      "\n",
      "  2%|██▏                                                                                                     | 66.0k/3.05M [00:00<00:24, 130kB/s]\u001b[A"
     ]
    },
    {
     "name": "stdout",
     "output_type": "stream",
     "text": [
      "[##########################              ] | 66% Completed | 12.1s"
     ]
    },
    {
     "name": "stderr",
     "output_type": "stream",
     "text": [
      "2022-03-14 10:59:25,732 INFO Welcome to the CDS\n",
      "2022-03-14 10:59:25,734 INFO Sending request to https://cds.climate.copernicus.eu/api/v2/resources/seasonal-monthly-single-levels\n",
      " 63%|████████████████████████████████████████████████████████████████▍                                      | 1.70M/2.73M [00:01<00:00, 1.61MB/s]"
     ]
    },
    {
     "name": "stdout",
     "output_type": "stream",
     "text": [
      "[##########################              ] | 66% Completed | 12.3s"
     ]
    },
    {
     "name": "stderr",
     "output_type": "stream",
     "text": [
      "2022-03-14 10:59:25,917 INFO Download rate 1.1M/s                                                                                                \n",
      "\n",
      "  4%|████▎                                                                                                    | 129k/3.05M [00:00<00:17, 173kB/s]\u001b[A"
     ]
    },
    {
     "name": "stdout",
     "output_type": "stream",
     "text": [
      "[##########################              ] | 66% Completed | 12.4s"
     ]
    },
    {
     "name": "stderr",
     "output_type": "stream",
     "text": [
      "2022-03-14 10:59:26,037 INFO Request is queued\n"
     ]
    },
    {
     "name": "stdout",
     "output_type": "stream",
     "text": [
      "[##########################              ] | 66% Completed | 12.6s"
     ]
    },
    {
     "name": "stderr",
     "output_type": "stream",
     "text": [
      "\n",
      "  9%|█████████▋                                                                                               | 288k/3.05M [00:01<00:08, 329kB/s]\u001b[A"
     ]
    },
    {
     "name": "stdout",
     "output_type": "stream",
     "text": [
      "\n",
      "/media/nicolasf/END19101/ICU/data/CDS/operational/hindcasts/METEO_FRANCE/TPRATE/ensemble_seas_forecasts_tprate_from_2016_03_METEO_FRANCE.netcdf downloaded OK\n",
      "\n",
      "[###############################         ] | 77% Completed | 12.9s"
     ]
    },
    {
     "name": "stderr",
     "output_type": "stream",
     "text": [
      "\n",
      " 19%|███████████████████▉                                                                                     | 595k/3.05M [00:01<00:04, 605kB/s]\u001b[A"
     ]
    },
    {
     "name": "stdout",
     "output_type": "stream",
     "text": [
      "[###############################         ] | 77% Completed | 13.2s"
     ]
    },
    {
     "name": "stderr",
     "output_type": "stream",
     "text": [
      "\n",
      " 39%|████████████████████████████████████████▎                                                              | 1.20M/3.05M [00:01<00:01, 1.16MB/s]\u001b[A"
     ]
    },
    {
     "name": "stdout",
     "output_type": "stream",
     "text": [
      "[###############################         ] | 77% Completed | 13.5s"
     ]
    },
    {
     "name": "stderr",
     "output_type": "stream",
     "text": [
      "\n",
      " 69%|███████████████████████████████████████████████████████████████████████                                | 2.11M/3.05M [00:02<00:00, 1.82MB/s]\u001b[A"
     ]
    },
    {
     "name": "stdout",
     "output_type": "stream",
     "text": [
      "[###############################         ] | 77% Completed | 13.7s"
     ]
    },
    {
     "name": "stderr",
     "output_type": "stream",
     "text": [
      "2022-03-14 10:59:27,333 INFO Request is running\n",
      "\n",
      " 97%|███████████████████████████████████████████████████████████████████████████████████████████████████▌   | 2.95M/3.05M [00:02<00:00, 2.22MB/s]\u001b[A"
     ]
    },
    {
     "name": "stdout",
     "output_type": "stream",
     "text": [
      "[###############################         ] | 77% Completed | 15.3s"
     ]
    },
    {
     "name": "stderr",
     "output_type": "stream",
     "text": [
      "\n",
      "                                                                                                                                                 \u001b[A2022-03-14 10:59:28,905 INFO Download rate 579.4K/s\n"
     ]
    },
    {
     "name": "stdout",
     "output_type": "stream",
     "text": [
      "[###############################         ] | 77% Completed | 15.5s"
     ]
    },
    {
     "name": "stderr",
     "output_type": "stream",
     "text": [
      "2022-03-14 10:59:29,127 INFO Request is completed\n",
      "2022-03-14 10:59:29,129 INFO Downloading https://download-0002.copernicus-climate.eu/cache-compute-0002/cache/data6/adaptor.mars.external-1647208767.226134-6196-17-8e601410-e923-424d-b442-f029fcb00bd1.nc to /media/nicolasf/END19101/ICU/data/CDS/operational/hindcasts/ECCC_GEM_NEMO/TPRATE/ensemble_seas_forecasts_tprate_from_2016_03_ECCC.netcdf (1.1M)\n"
     ]
    },
    {
     "name": "stdout",
     "output_type": "stream",
     "text": [
      "[###############################         ] | 77% Completed | 15.6s\n",
      "/media/nicolasf/END19101/ICU/data/CDS/operational/hindcasts/UKMO/TPRATE/ensemble_seas_forecasts_tprate_from_2016_03_UKMO.netcdf downloaded OK\n",
      "\n",
      "[###################################     ] | 88% Completed | 16.1s"
     ]
    },
    {
     "name": "stderr",
     "output_type": "stream",
     "text": [
      "  0%|                                                                                                                | 0.00/1.09M [00:00<?, ?B/s]"
     ]
    },
    {
     "name": "stdout",
     "output_type": "stream",
     "text": [
      "[###################################     ] | 88% Completed | 16.4s"
     ]
    },
    {
     "name": "stderr",
     "output_type": "stream",
     "text": [
      "  1%|▋                                                                                                      | 8.00k/1.09M [00:00<00:38, 29.4kB/s]"
     ]
    },
    {
     "name": "stdout",
     "output_type": "stream",
     "text": [
      "[###################################     ] | 88% Completed | 16.7s"
     ]
    },
    {
     "name": "stderr",
     "output_type": "stream",
     "text": [
      "  1%|█▍                                                                                                     | 16.0k/1.09M [00:00<00:38, 29.1kB/s]"
     ]
    },
    {
     "name": "stdout",
     "output_type": "stream",
     "text": [
      "[###################################     ] | 88% Completed | 16.9s"
     ]
    },
    {
     "name": "stderr",
     "output_type": "stream",
     "text": [
      "  4%|███▋                                                                                                   | 40.0k/1.09M [00:00<00:19, 55.5kB/s]"
     ]
    },
    {
     "name": "stdout",
     "output_type": "stream",
     "text": [
      "[###################################     ] | 88% Completed | 17.2s"
     ]
    },
    {
     "name": "stderr",
     "output_type": "stream",
     "text": [
      "  7%|███████▎                                                                                               | 80.0k/1.09M [00:01<00:11, 90.8kB/s]"
     ]
    },
    {
     "name": "stdout",
     "output_type": "stream",
     "text": [
      "[###################################     ] | 88% Completed | 17.5s"
     ]
    },
    {
     "name": "stderr",
     "output_type": "stream",
     "text": [
      " 15%|███████████████▉                                                                                         | 169k/1.09M [00:01<00:05, 174kB/s]"
     ]
    },
    {
     "name": "stdout",
     "output_type": "stream",
     "text": [
      "[###################################     ] | 88% Completed | 17.8s"
     ]
    },
    {
     "name": "stderr",
     "output_type": "stream",
     "text": [
      " 31%|████████████████████████████████▉                                                                        | 350k/1.09M [00:01<00:02, 338kB/s]"
     ]
    },
    {
     "name": "stdout",
     "output_type": "stream",
     "text": [
      "[###################################     ] | 88% Completed | 18.0s"
     ]
    },
    {
     "name": "stderr",
     "output_type": "stream",
     "text": [
      " 63%|█████████████████████████████████████████████████████████████████▋                                       | 699k/1.09M [00:01<00:00, 640kB/s]"
     ]
    },
    {
     "name": "stdout",
     "output_type": "stream",
     "text": [
      "[###################################     ] | 88% Completed | 18.2s"
     ]
    },
    {
     "name": "stderr",
     "output_type": "stream",
     "text": [
      "2022-03-14 10:59:31,801 INFO Download rate 418.3K/s                                                                                              \n"
     ]
    },
    {
     "name": "stdout",
     "output_type": "stream",
     "text": [
      "[###################################     ] | 88% Completed | 18.5s\n",
      "/media/nicolasf/END19101/ICU/data/CDS/operational/hindcasts/ECCC_GEM_NEMO/TPRATE/ensemble_seas_forecasts_tprate_from_2016_03_ECCC.netcdf downloaded OK\n",
      "\n",
      "[########################################] | 100% Completed | 18.6s\n"
     ]
    }
   ],
   "source": [
    "for date in dates: \n",
    "    \n",
    "    downloaded_files = []\n",
    "\n",
    "    for GCM in list_GCMs:\n",
    "        \n",
    "        if 'ECCC' in GCM: \n",
    "            \n",
    "            GCM_API_name = GCM.split('_')[0]\n",
    "            GCM_path = gcm_path.joinpath(GCM).joinpath(var_name.upper())\n",
    "            \n",
    "            print(f\"processing ECCC, path should be {str(GCM_path)}\")\n",
    "        \n",
    "            args = dict(GCM=GCM_API_name,\n",
    "            system=dict_systems[GCM],\n",
    "            varname=var_name,\n",
    "            year=date.year,\n",
    "            month=date.month,\n",
    "            leadtimes=[1, 2, 3, 4, 5, 6],\n",
    "            opath=GCM_path,\n",
    "            domain=domains.domains['C3S_download'],\n",
    "            file_format='netcdf',\n",
    "            level='surface',\n",
    "            max_retry=3)\n",
    "        \n",
    "        else: \n",
    "\n",
    "            args = dict(GCM=GCM,\n",
    "            system=dict_systems[GCM],\n",
    "            varname=var_name,\n",
    "            year=date.year,\n",
    "            month=date.month,\n",
    "            leadtimes=[1, 2, 3, 4, 5, 6],\n",
    "            opath=gcm_path.joinpath(GCM).joinpath(var_name.upper()),\n",
    "            domain=domains.domains['C3S_download'],\n",
    "            file_format='netcdf',\n",
    "            level='surface',\n",
    "            max_retry=3)\n",
    "            \n",
    "\n",
    "        downloaded_files.append(delayed(C3S.download)(**args))\n",
    "\n",
    "    with ProgressBar():\n",
    "        downloaded_files = compute(downloaded_files)"
   ]
  },
  {
   "cell_type": "code",
   "execution_count": null,
   "id": "803bb314",
   "metadata": {
    "papermill": {
     "duration": 0.03205,
     "end_time": "2022-03-07T02:13:07.777477",
     "exception": false,
     "start_time": "2022-03-07T02:13:07.745427",
     "status": "completed"
    },
    "tags": []
   },
   "outputs": [],
   "source": []
  },
  {
   "cell_type": "code",
   "execution_count": null,
   "id": "c1e5ef14",
   "metadata": {
    "papermill": {
     "duration": 0.033779,
     "end_time": "2022-03-07T02:13:07.843326",
     "exception": false,
     "start_time": "2022-03-07T02:13:07.809547",
     "status": "completed"
    },
    "tags": []
   },
   "outputs": [],
   "source": []
  }
 ],
 "metadata": {
  "kernelspec": {
   "display_name": "Python 3 (ipykernel)",
   "language": "python",
   "name": "python3"
  },
  "language_info": {
   "codemirror_mode": {
    "name": "ipython",
    "version": 3
   },
   "file_extension": ".py",
   "mimetype": "text/x-python",
   "name": "python",
   "nbconvert_exporter": "python",
   "pygments_lexer": "ipython3",
   "version": "3.9.10"
  },
  "papermill": {
   "duration": 19.239842,
   "end_time": "2022-03-07T02:13:08.492820",
   "environment_variables": {},
   "exception": null,
   "input_path": "1_download_C3S_rolling_hindcasts.ipynb",
   "output_path": "1_download_C3S_rolling_hindcasts.ipynb",
   "parameters": {
    "lag": 12,
    "var_name": "sst"
   },
   "start_time": "2022-03-07T02:12:49.252978",
   "version": "1.2.1"
  }
 },
 "nbformat": 4,
 "nbformat_minor": 5
}
