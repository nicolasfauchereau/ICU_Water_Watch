{
 "cells": [
  {
   "cell_type": "markdown",
   "id": "649f9533",
   "metadata": {
    "papermill": {
     "duration": 0.018844,
     "end_time": "2022-06-09T04:40:06.392503",
     "exception": false,
     "start_time": "2022-06-09T04:40:06.373659",
     "status": "completed"
    },
    "tags": []
   },
   "source": [
    "### download the rolling hindcasts for all GCMs from the Copernicus Climate Datastore"
   ]
  },
  {
   "cell_type": "code",
   "execution_count": 1,
   "id": "3c21dc7e",
   "metadata": {
    "execution": {
     "iopub.execute_input": "2022-06-09T04:40:06.419166Z",
     "iopub.status.busy": "2022-06-09T04:40:06.418878Z",
     "iopub.status.idle": "2022-06-09T04:40:06.434334Z",
     "shell.execute_reply": "2022-06-09T04:40:06.433755Z"
    },
    "papermill": {
     "duration": 0.026097,
     "end_time": "2022-06-09T04:40:06.435830",
     "exception": false,
     "start_time": "2022-06-09T04:40:06.409733",
     "status": "completed"
    },
    "tags": []
   },
   "outputs": [],
   "source": [
    "%load_ext autoreload\n",
    "%autoreload 2"
   ]
  },
  {
   "cell_type": "code",
   "execution_count": 2,
   "id": "d19a251f",
   "metadata": {
    "execution": {
     "iopub.execute_input": "2022-06-09T04:40:06.446926Z",
     "iopub.status.busy": "2022-06-09T04:40:06.446765Z",
     "iopub.status.idle": "2022-06-09T04:40:06.721859Z",
     "shell.execute_reply": "2022-06-09T04:40:06.721417Z"
    },
    "papermill": {
     "duration": 0.282081,
     "end_time": "2022-06-09T04:40:06.723089",
     "exception": false,
     "start_time": "2022-06-09T04:40:06.441008",
     "status": "completed"
    },
    "tags": []
   },
   "outputs": [],
   "source": [
    "import sys\n",
    "from subprocess import call \n",
    "from shutil import which \n",
    "import pathlib\n",
    "from datetime import datetime\n",
    "from dateutil.relativedelta import relativedelta\n",
    "import dateparser\n",
    "import yaml\n",
    "from yaml.loader import SafeLoader"
   ]
  },
  {
   "cell_type": "code",
   "execution_count": 3,
   "id": "00ad77c5",
   "metadata": {
    "execution": {
     "iopub.execute_input": "2022-06-09T04:40:06.731622Z",
     "iopub.status.busy": "2022-06-09T04:40:06.731497Z",
     "iopub.status.idle": "2022-06-09T04:40:06.812627Z",
     "shell.execute_reply": "2022-06-09T04:40:06.812157Z"
    },
    "papermill": {
     "duration": 0.086727,
     "end_time": "2022-06-09T04:40:06.813919",
     "exception": false,
     "start_time": "2022-06-09T04:40:06.727192",
     "status": "completed"
    },
    "tags": []
   },
   "outputs": [],
   "source": [
    "from dask import delayed, compute\n",
    "from dask.diagnostics import ProgressBar"
   ]
  },
  {
   "cell_type": "code",
   "execution_count": 4,
   "id": "6229283e",
   "metadata": {
    "execution": {
     "iopub.execute_input": "2022-06-09T04:40:06.823179Z",
     "iopub.status.busy": "2022-06-09T04:40:06.823051Z",
     "iopub.status.idle": "2022-06-09T04:40:07.059634Z",
     "shell.execute_reply": "2022-06-09T04:40:07.059174Z"
    },
    "papermill": {
     "duration": 0.242168,
     "end_time": "2022-06-09T04:40:07.060818",
     "exception": false,
     "start_time": "2022-06-09T04:40:06.818650",
     "status": "completed"
    },
    "tags": []
   },
   "outputs": [],
   "source": [
    "import numpy as np\n",
    "import pandas as pd"
   ]
  },
  {
   "cell_type": "code",
   "execution_count": 5,
   "id": "3648da48",
   "metadata": {
    "execution": {
     "iopub.execute_input": "2022-06-09T04:40:07.069263Z",
     "iopub.status.busy": "2022-06-09T04:40:07.069047Z",
     "iopub.status.idle": "2022-06-09T04:40:07.078179Z",
     "shell.execute_reply": "2022-06-09T04:40:07.077725Z"
    },
    "papermill": {
     "duration": 0.014687,
     "end_time": "2022-06-09T04:40:07.079464",
     "exception": false,
     "start_time": "2022-06-09T04:40:07.064777",
     "status": "completed"
    },
    "tags": []
   },
   "outputs": [],
   "source": [
    "HOME = pathlib.Path.home()"
   ]
  },
  {
   "cell_type": "code",
   "execution_count": 6,
   "id": "d2ac339c",
   "metadata": {
    "execution": {
     "iopub.execute_input": "2022-06-09T04:40:07.087752Z",
     "iopub.status.busy": "2022-06-09T04:40:07.087537Z",
     "iopub.status.idle": "2022-06-09T04:40:07.096756Z",
     "shell.execute_reply": "2022-06-09T04:40:07.096303Z"
    },
    "papermill": {
     "duration": 0.014548,
     "end_time": "2022-06-09T04:40:07.097854",
     "exception": false,
     "start_time": "2022-06-09T04:40:07.083306",
     "status": "completed"
    },
    "tags": []
   },
   "outputs": [],
   "source": [
    "CWD = pathlib.Path.cwd()"
   ]
  },
  {
   "cell_type": "code",
   "execution_count": 7,
   "id": "7fdfba2a",
   "metadata": {
    "execution": {
     "iopub.execute_input": "2022-06-09T04:40:07.106426Z",
     "iopub.status.busy": "2022-06-09T04:40:07.106279Z",
     "iopub.status.idle": "2022-06-09T04:40:07.119325Z",
     "shell.execute_reply": "2022-06-09T04:40:07.118966Z"
    },
    "papermill": {
     "duration": 0.018507,
     "end_time": "2022-06-09T04:40:07.120292",
     "exception": false,
     "start_time": "2022-06-09T04:40:07.101785",
     "status": "completed"
    },
    "tags": []
   },
   "outputs": [
    {
     "data": {
      "text/plain": [
       "PosixPath('/home/nicolasf/operational/ICU/development/hotspots/code/ICU_Water_Watch/notebooks/C3S')"
      ]
     },
     "execution_count": 7,
     "metadata": {},
     "output_type": "execute_result"
    }
   ],
   "source": [
    "CWD"
   ]
  },
  {
   "cell_type": "markdown",
   "id": "963108ba",
   "metadata": {
    "papermill": {
     "duration": 0.003835,
     "end_time": "2022-06-09T04:40:07.128430",
     "exception": false,
     "start_time": "2022-06-09T04:40:07.124595",
     "status": "completed"
    },
    "tags": []
   },
   "source": [
    "### import local functions for the downloading of the C3S forecasts "
   ]
  },
  {
   "cell_type": "code",
   "execution_count": 8,
   "id": "1e031d85",
   "metadata": {
    "execution": {
     "iopub.execute_input": "2022-06-09T04:40:07.136898Z",
     "iopub.status.busy": "2022-06-09T04:40:07.136748Z",
     "iopub.status.idle": "2022-06-09T04:40:07.145985Z",
     "shell.execute_reply": "2022-06-09T04:40:07.145553Z"
    },
    "papermill": {
     "duration": 0.014761,
     "end_time": "2022-06-09T04:40:07.147041",
     "exception": false,
     "start_time": "2022-06-09T04:40:07.132280",
     "status": "completed"
    },
    "tags": []
   },
   "outputs": [],
   "source": [
    "sys.path.append('../..')"
   ]
  },
  {
   "cell_type": "code",
   "execution_count": 9,
   "id": "e32ceec5",
   "metadata": {
    "execution": {
     "iopub.execute_input": "2022-06-09T04:40:07.155591Z",
     "iopub.status.busy": "2022-06-09T04:40:07.155455Z",
     "iopub.status.idle": "2022-06-09T04:40:20.211048Z",
     "shell.execute_reply": "2022-06-09T04:40:20.210537Z"
    },
    "papermill": {
     "duration": 13.061275,
     "end_time": "2022-06-09T04:40:20.212329",
     "exception": false,
     "start_time": "2022-06-09T04:40:07.151054",
     "status": "completed"
    },
    "tags": []
   },
   "outputs": [],
   "source": [
    "from ICU_Water_Watch import C3S, domains"
   ]
  },
  {
   "cell_type": "markdown",
   "id": "6a8884cb",
   "metadata": {
    "papermill": {
     "duration": 0.003826,
     "end_time": "2022-06-09T04:40:20.220337",
     "exception": false,
     "start_time": "2022-06-09T04:40:20.216511",
     "status": "completed"
    },
    "tags": []
   },
   "source": [
    "### parameters for papermill"
   ]
  },
  {
   "cell_type": "code",
   "execution_count": 10,
   "id": "03564e25",
   "metadata": {
    "execution": {
     "iopub.execute_input": "2022-06-09T04:40:20.229767Z",
     "iopub.status.busy": "2022-06-09T04:40:20.229616Z",
     "iopub.status.idle": "2022-06-09T04:40:20.248613Z",
     "shell.execute_reply": "2022-06-09T04:40:20.248094Z"
    },
    "papermill": {
     "duration": 0.02515,
     "end_time": "2022-06-09T04:40:20.249844",
     "exception": false,
     "start_time": "2022-06-09T04:40:20.224694",
     "status": "completed"
    },
    "tags": [
     "parameters"
    ]
   },
   "outputs": [],
   "source": [
    "provider = 'CDS' # should not change\n",
    "varname = 'tprate' # can be ['tprate' or 't2m']\n",
    "domain_name = 'C3S_download'\n",
    "# if one wants to download other reforecasts than the ones corresponding to the current month\n",
    "lag = 0\n",
    "# path where to save the hindcasts / reforecasts\n",
    "gcm_path = f'/media/nicolasf/END19101/ICU/data/{provider}/operational/hindcasts'\n",
    "config_yaml = './CDS_config.yaml' "
   ]
  },
  {
   "cell_type": "markdown",
   "id": "141ad68c-5a25-492a-9568-f04ca937f34f",
   "metadata": {
    "papermill": {
     "duration": 0.003751,
     "end_time": "2022-06-09T04:40:20.286330",
     "exception": false,
     "start_time": "2022-06-09T04:40:20.282579",
     "status": "completed"
    },
    "tags": []
   },
   "source": [
    "### reads the yaml file, mapping GCM to system "
   ]
  },
  {
   "cell_type": "markdown",
   "id": "ffe13a47-f18e-4fa6-bcef-6800a7f6ad41",
   "metadata": {
    "papermill": {
     "duration": 0.004306,
     "end_time": "2022-06-09T04:40:20.294831",
     "exception": false,
     "start_time": "2022-06-09T04:40:20.290525",
     "status": "completed"
    },
    "tags": []
   },
   "source": [
    "Note that the forecast system to system number mapping is available at: \n",
    "    \n",
    "- [https://confluence.ecmwf.int/display/CKB/Description+of+the+C3S+seasonal+multi-system](https://confluence.ecmwf.int/display/CKB/Description+of+the+C3S+seasonal+multi-system)"
   ]
  },
  {
   "cell_type": "markdown",
   "id": "cc379993-9616-4406-bf49-e445a7fa0e43",
   "metadata": {
    "papermill": {
     "duration": 0.003766,
     "end_time": "2022-06-09T04:40:20.302558",
     "exception": false,
     "start_time": "2022-06-09T04:40:20.298792",
     "status": "completed"
    },
    "tags": []
   },
   "source": [
    "#### it can be read directly into pandas "
   ]
  },
  {
   "cell_type": "code",
   "execution_count": 12,
   "id": "d9320e69-cafa-4702-97c3-1b91ac40a441",
   "metadata": {
    "execution": {
     "iopub.execute_input": "2022-06-09T04:40:20.312054Z",
     "iopub.status.busy": "2022-06-09T04:40:20.311908Z",
     "iopub.status.idle": "2022-06-09T04:40:20.330146Z",
     "shell.execute_reply": "2022-06-09T04:40:20.329688Z"
    },
    "papermill": {
     "duration": 0.02465,
     "end_time": "2022-06-09T04:40:20.331365",
     "exception": false,
     "start_time": "2022-06-09T04:40:20.306715",
     "status": "completed"
    },
    "tags": []
   },
   "outputs": [],
   "source": [
    "url = 'https://confluence.ecmwf.int/display/CKB/Description+of+the+C3S+seasonal+multi-system'"
   ]
  },
  {
   "cell_type": "code",
   "execution_count": 13,
   "id": "dfce252f-70f7-4edf-8f70-25ef2bd3d0a7",
   "metadata": {
    "execution": {
     "iopub.execute_input": "2022-06-09T04:40:20.340546Z",
     "iopub.status.busy": "2022-06-09T04:40:20.340397Z",
     "iopub.status.idle": "2022-06-09T04:40:23.877102Z",
     "shell.execute_reply": "2022-06-09T04:40:23.876310Z"
    },
    "papermill": {
     "duration": 3.543377,
     "end_time": "2022-06-09T04:40:23.878934",
     "exception": false,
     "start_time": "2022-06-09T04:40:20.335557",
     "status": "completed"
    },
    "tags": []
   },
   "outputs": [],
   "source": [
    "systems_table = pd.read_html(url)"
   ]
  },
  {
   "cell_type": "code",
   "execution_count": 14,
   "id": "5a9668fd-c341-419d-926c-00f244fd98cc",
   "metadata": {
    "execution": {
     "iopub.execute_input": "2022-06-09T04:40:23.892402Z",
     "iopub.status.busy": "2022-06-09T04:40:23.892132Z",
     "iopub.status.idle": "2022-06-09T04:40:23.919847Z",
     "shell.execute_reply": "2022-06-09T04:40:23.918127Z"
    },
    "papermill": {
     "duration": 0.039511,
     "end_time": "2022-06-09T04:40:23.924572",
     "exception": false,
     "start_time": "2022-06-09T04:40:23.885061",
     "status": "completed"
    },
    "tags": []
   },
   "outputs": [],
   "source": [
    "systems_table = systems_table[1]"
   ]
  },
  {
   "cell_type": "code",
   "execution_count": 15,
   "id": "f4af3176-210e-41ad-99e3-e5ab3785bd82",
   "metadata": {
    "execution": {
     "iopub.execute_input": "2022-06-09T04:40:23.955305Z",
     "iopub.status.busy": "2022-06-09T04:40:23.954987Z",
     "iopub.status.idle": "2022-06-09T04:40:23.986728Z",
     "shell.execute_reply": "2022-06-09T04:40:23.986165Z"
    },
    "papermill": {
     "duration": 0.044511,
     "end_time": "2022-06-09T04:40:23.988161",
     "exception": false,
     "start_time": "2022-06-09T04:40:23.943650",
     "status": "completed"
    },
    "tags": []
   },
   "outputs": [
    {
     "data": {
      "text/html": [
       "<div>\n",
       "<style scoped>\n",
       "    .dataframe tbody tr th:only-of-type {\n",
       "        vertical-align: middle;\n",
       "    }\n",
       "\n",
       "    .dataframe tbody tr th {\n",
       "        vertical-align: top;\n",
       "    }\n",
       "\n",
       "    .dataframe thead th {\n",
       "        text-align: right;\n",
       "    }\n",
       "</style>\n",
       "<table border=\"1\" class=\"dataframe\">\n",
       "  <thead>\n",
       "    <tr style=\"text-align: right;\">\n",
       "      <th></th>\n",
       "      <th>Forecasting centre</th>\n",
       "      <th>Forecasting system name</th>\n",
       "      <th>CDS 'system' value</th>\n",
       "    </tr>\n",
       "  </thead>\n",
       "  <tbody>\n",
       "    <tr>\n",
       "      <th>0</th>\n",
       "      <td>ECMWF</td>\n",
       "      <td>System 4</td>\n",
       "      <td>4</td>\n",
       "    </tr>\n",
       "    <tr>\n",
       "      <th>1</th>\n",
       "      <td>ECMWF</td>\n",
       "      <td>SEAS5</td>\n",
       "      <td>5</td>\n",
       "    </tr>\n",
       "    <tr>\n",
       "      <th>2</th>\n",
       "      <td>Météo-France</td>\n",
       "      <td>System 5</td>\n",
       "      <td>5</td>\n",
       "    </tr>\n",
       "    <tr>\n",
       "      <th>3</th>\n",
       "      <td>Météo-France</td>\n",
       "      <td>System 6</td>\n",
       "      <td>6</td>\n",
       "    </tr>\n",
       "    <tr>\n",
       "      <th>4</th>\n",
       "      <td>Météo-France</td>\n",
       "      <td>System 7</td>\n",
       "      <td>7</td>\n",
       "    </tr>\n",
       "    <tr>\n",
       "      <th>5</th>\n",
       "      <td>Météo-France</td>\n",
       "      <td>System 8</td>\n",
       "      <td>8</td>\n",
       "    </tr>\n",
       "    <tr>\n",
       "      <th>6</th>\n",
       "      <td>CMCC</td>\n",
       "      <td>SPS3</td>\n",
       "      <td>3</td>\n",
       "    </tr>\n",
       "    <tr>\n",
       "      <th>7</th>\n",
       "      <td>CMCC</td>\n",
       "      <td>SPS3.5</td>\n",
       "      <td>35</td>\n",
       "    </tr>\n",
       "    <tr>\n",
       "      <th>8</th>\n",
       "      <td>DWD</td>\n",
       "      <td>GCFS2.0</td>\n",
       "      <td>2</td>\n",
       "    </tr>\n",
       "    <tr>\n",
       "      <th>9</th>\n",
       "      <td>DWD</td>\n",
       "      <td>GCFS2.1</td>\n",
       "      <td>21</td>\n",
       "    </tr>\n",
       "    <tr>\n",
       "      <th>10</th>\n",
       "      <td>NCEP</td>\n",
       "      <td>CFSv2</td>\n",
       "      <td>2</td>\n",
       "    </tr>\n",
       "    <tr>\n",
       "      <th>11</th>\n",
       "      <td>JMA</td>\n",
       "      <td>CPS2</td>\n",
       "      <td>2</td>\n",
       "    </tr>\n",
       "    <tr>\n",
       "      <th>12</th>\n",
       "      <td>JMA</td>\n",
       "      <td>CPS3</td>\n",
       "      <td>3</td>\n",
       "    </tr>\n",
       "    <tr>\n",
       "      <th>13</th>\n",
       "      <td>ECCC</td>\n",
       "      <td>GEM-NEMO</td>\n",
       "      <td>1</td>\n",
       "    </tr>\n",
       "    <tr>\n",
       "      <th>14</th>\n",
       "      <td>ECCC</td>\n",
       "      <td>CanCM4i</td>\n",
       "      <td>2</td>\n",
       "    </tr>\n",
       "    <tr>\n",
       "      <th>15</th>\n",
       "      <td>ECCC</td>\n",
       "      <td>GEM5-NEMO</td>\n",
       "      <td>3</td>\n",
       "    </tr>\n",
       "  </tbody>\n",
       "</table>\n",
       "</div>"
      ],
      "text/plain": [
       "   Forecasting centre Forecasting system name  CDS 'system' value\n",
       "0               ECMWF                System 4                   4\n",
       "1               ECMWF                   SEAS5                   5\n",
       "2        Météo-France                System 5                   5\n",
       "3        Météo-France                System 6                   6\n",
       "4        Météo-France                System 7                   7\n",
       "5        Météo-France                System 8                   8\n",
       "6                CMCC                    SPS3                   3\n",
       "7                CMCC                  SPS3.5                  35\n",
       "8                 DWD                 GCFS2.0                   2\n",
       "9                 DWD                 GCFS2.1                  21\n",
       "10               NCEP                   CFSv2                   2\n",
       "11                JMA                    CPS2                   2\n",
       "12                JMA                    CPS3                   3\n",
       "13               ECCC                GEM-NEMO                   1\n",
       "14               ECCC                 CanCM4i                   2\n",
       "15               ECCC               GEM5-NEMO                   3"
      ]
     },
     "execution_count": 15,
     "metadata": {},
     "output_type": "execute_result"
    }
   ],
   "source": [
    "systems_table"
   ]
  },
  {
   "cell_type": "code",
   "execution_count": 16,
   "id": "7485f621-5f99-4c4f-b07e-3c1f20117b67",
   "metadata": {
    "execution": {
     "iopub.execute_input": "2022-06-09T04:40:24.001298Z",
     "iopub.status.busy": "2022-06-09T04:40:24.001097Z",
     "iopub.status.idle": "2022-06-09T04:40:24.025616Z",
     "shell.execute_reply": "2022-06-09T04:40:24.025052Z"
    },
    "papermill": {
     "duration": 0.032148,
     "end_time": "2022-06-09T04:40:24.026901",
     "exception": false,
     "start_time": "2022-06-09T04:40:23.994753",
     "status": "completed"
    },
    "tags": []
   },
   "outputs": [],
   "source": [
    "# Open the file and load the file\n",
    "with open(config_yaml) as f:\n",
    "    dict_systems = yaml.load(f, Loader=SafeLoader)"
   ]
  },
  {
   "cell_type": "code",
   "execution_count": 17,
   "id": "5a15d0eb-bfb5-46cc-bbc8-89cbcc44ddbe",
   "metadata": {
    "execution": {
     "iopub.execute_input": "2022-06-09T04:40:24.035816Z",
     "iopub.status.busy": "2022-06-09T04:40:24.035677Z",
     "iopub.status.idle": "2022-06-09T04:40:24.054611Z",
     "shell.execute_reply": "2022-06-09T04:40:24.054138Z"
    },
    "papermill": {
     "duration": 0.024629,
     "end_time": "2022-06-09T04:40:24.055739",
     "exception": false,
     "start_time": "2022-06-09T04:40:24.031110",
     "status": "completed"
    },
    "tags": []
   },
   "outputs": [
    {
     "data": {
      "text/plain": [
       "{'ECMWF': 5,\n",
       " 'UKMO': 601,\n",
       " 'METEO_FRANCE': 8,\n",
       " 'DWD': 21,\n",
       " 'CMCC': 35,\n",
       " 'NCEP': 2,\n",
       " 'JMA': 3,\n",
       " 'ECCC_CanCM4i': 2,\n",
       " 'ECCC_GEM5_NEMO': 3}"
      ]
     },
     "execution_count": 17,
     "metadata": {},
     "output_type": "execute_result"
    }
   ],
   "source": [
    "dict_systems"
   ]
  },
  {
   "cell_type": "markdown",
   "id": "43744be0",
   "metadata": {
    "papermill": {
     "duration": 0.004034,
     "end_time": "2022-06-09T04:40:24.064135",
     "exception": false,
     "start_time": "2022-06-09T04:40:24.060101",
     "status": "completed"
    },
    "tags": []
   },
   "source": [
    "### casts the paths to `pathlib.Path` objects "
   ]
  },
  {
   "cell_type": "code",
   "execution_count": 18,
   "id": "a6a70430",
   "metadata": {
    "execution": {
     "iopub.execute_input": "2022-06-09T04:40:24.073373Z",
     "iopub.status.busy": "2022-06-09T04:40:24.073226Z",
     "iopub.status.idle": "2022-06-09T04:40:24.091614Z",
     "shell.execute_reply": "2022-06-09T04:40:24.091148Z"
    },
    "papermill": {
     "duration": 0.024624,
     "end_time": "2022-06-09T04:40:24.092818",
     "exception": false,
     "start_time": "2022-06-09T04:40:24.068194",
     "status": "completed"
    },
    "tags": []
   },
   "outputs": [],
   "source": [
    "gcm_path = pathlib.Path(gcm_path)"
   ]
  },
  {
   "cell_type": "markdown",
   "id": "2fc4adfe",
   "metadata": {
    "papermill": {
     "duration": 0.004048,
     "end_time": "2022-06-09T04:40:24.101245",
     "exception": false,
     "start_time": "2022-06-09T04:40:24.097197",
     "status": "completed"
    },
    "tags": []
   },
   "source": [
    "### get today's date "
   ]
  },
  {
   "cell_type": "code",
   "execution_count": 19,
   "id": "35d39153",
   "metadata": {
    "execution": {
     "iopub.execute_input": "2022-06-09T04:40:24.110498Z",
     "iopub.status.busy": "2022-06-09T04:40:24.110349Z",
     "iopub.status.idle": "2022-06-09T04:40:24.154931Z",
     "shell.execute_reply": "2022-06-09T04:40:24.154451Z"
    },
    "papermill": {
     "duration": 0.050888,
     "end_time": "2022-06-09T04:40:24.156229",
     "exception": false,
     "start_time": "2022-06-09T04:40:24.105341",
     "status": "completed"
    },
    "tags": []
   },
   "outputs": [],
   "source": [
    "date = dateparser.parse('today')"
   ]
  },
  {
   "cell_type": "code",
   "execution_count": 20,
   "id": "8b6e1b72",
   "metadata": {
    "execution": {
     "iopub.execute_input": "2022-06-09T04:40:24.165446Z",
     "iopub.status.busy": "2022-06-09T04:40:24.165301Z",
     "iopub.status.idle": "2022-06-09T04:40:24.184861Z",
     "shell.execute_reply": "2022-06-09T04:40:24.184427Z"
    },
    "papermill": {
     "duration": 0.025444,
     "end_time": "2022-06-09T04:40:24.186008",
     "exception": false,
     "start_time": "2022-06-09T04:40:24.160564",
     "status": "completed"
    },
    "tags": []
   },
   "outputs": [
    {
     "data": {
      "text/plain": [
       "datetime.datetime(2022, 6, 9, 16, 40, 24, 151815)"
      ]
     },
     "execution_count": 20,
     "metadata": {},
     "output_type": "execute_result"
    }
   ],
   "source": [
    "date"
   ]
  },
  {
   "cell_type": "markdown",
   "id": "e85bb7a7",
   "metadata": {
    "papermill": {
     "duration": 0.00421,
     "end_time": "2022-06-09T04:40:24.194661",
     "exception": false,
     "start_time": "2022-06-09T04:40:24.190451",
     "status": "completed"
    },
    "tags": []
   },
   "source": [
    "### apply lag "
   ]
  },
  {
   "cell_type": "code",
   "execution_count": 21,
   "id": "12c6d03a",
   "metadata": {
    "execution": {
     "iopub.execute_input": "2022-06-09T04:40:24.204328Z",
     "iopub.status.busy": "2022-06-09T04:40:24.204174Z",
     "iopub.status.idle": "2022-06-09T04:40:24.222259Z",
     "shell.execute_reply": "2022-06-09T04:40:24.221772Z"
    },
    "papermill": {
     "duration": 0.024246,
     "end_time": "2022-06-09T04:40:24.223480",
     "exception": false,
     "start_time": "2022-06-09T04:40:24.199234",
     "status": "completed"
    },
    "tags": []
   },
   "outputs": [],
   "source": [
    "date = date - relativedelta(months=lag)"
   ]
  },
  {
   "cell_type": "code",
   "execution_count": 22,
   "id": "8cb55fc8",
   "metadata": {
    "execution": {
     "iopub.execute_input": "2022-06-09T04:40:24.232986Z",
     "iopub.status.busy": "2022-06-09T04:40:24.232506Z",
     "iopub.status.idle": "2022-06-09T04:40:24.251006Z",
     "shell.execute_reply": "2022-06-09T04:40:24.250571Z"
    },
    "papermill": {
     "duration": 0.024233,
     "end_time": "2022-06-09T04:40:24.252002",
     "exception": false,
     "start_time": "2022-06-09T04:40:24.227769",
     "status": "completed"
    },
    "tags": []
   },
   "outputs": [
    {
     "name": "stdout",
     "output_type": "stream",
     "text": [
      "the hindcast data will be downloaded for all re-forecasts initialised in June\n"
     ]
    }
   ],
   "source": [
    "print(f\"the hindcast data will be downloaded for all re-forecasts initialised in {date:%B}\")"
   ]
  },
  {
   "cell_type": "markdown",
   "id": "d252bb55",
   "metadata": {
    "papermill": {
     "duration": 0.004118,
     "end_time": "2022-06-09T04:40:24.260533",
     "exception": false,
     "start_time": "2022-06-09T04:40:24.256415",
     "status": "completed"
    },
    "tags": []
   },
   "source": [
    "### generate the dates for the download of the rolling hindcasts "
   ]
  },
  {
   "cell_type": "code",
   "execution_count": 23,
   "id": "20083d02",
   "metadata": {
    "execution": {
     "iopub.execute_input": "2022-06-09T04:40:24.269731Z",
     "iopub.status.busy": "2022-06-09T04:40:24.269581Z",
     "iopub.status.idle": "2022-06-09T04:40:24.288340Z",
     "shell.execute_reply": "2022-06-09T04:40:24.287885Z"
    },
    "papermill": {
     "duration": 0.024829,
     "end_time": "2022-06-09T04:40:24.289543",
     "exception": false,
     "start_time": "2022-06-09T04:40:24.264714",
     "status": "completed"
    },
    "tags": []
   },
   "outputs": [],
   "source": [
    "dates = [datetime(y, date.month, 1) for y in range(1993, 2016 + 1)]"
   ]
  },
  {
   "cell_type": "code",
   "execution_count": 24,
   "id": "a1e8bbdf",
   "metadata": {
    "execution": {
     "iopub.execute_input": "2022-06-09T04:40:24.298951Z",
     "iopub.status.busy": "2022-06-09T04:40:24.298810Z",
     "iopub.status.idle": "2022-06-09T04:40:24.317683Z",
     "shell.execute_reply": "2022-06-09T04:40:24.317363Z"
    },
    "papermill": {
     "duration": 0.024809,
     "end_time": "2022-06-09T04:40:24.318637",
     "exception": false,
     "start_time": "2022-06-09T04:40:24.293828",
     "status": "completed"
    },
    "tags": []
   },
   "outputs": [
    {
     "data": {
      "text/plain": [
       "[datetime.datetime(1993, 6, 1, 0, 0),\n",
       " datetime.datetime(1994, 6, 1, 0, 0),\n",
       " datetime.datetime(1995, 6, 1, 0, 0),\n",
       " datetime.datetime(1996, 6, 1, 0, 0),\n",
       " datetime.datetime(1997, 6, 1, 0, 0),\n",
       " datetime.datetime(1998, 6, 1, 0, 0),\n",
       " datetime.datetime(1999, 6, 1, 0, 0),\n",
       " datetime.datetime(2000, 6, 1, 0, 0),\n",
       " datetime.datetime(2001, 6, 1, 0, 0),\n",
       " datetime.datetime(2002, 6, 1, 0, 0),\n",
       " datetime.datetime(2003, 6, 1, 0, 0),\n",
       " datetime.datetime(2004, 6, 1, 0, 0),\n",
       " datetime.datetime(2005, 6, 1, 0, 0),\n",
       " datetime.datetime(2006, 6, 1, 0, 0),\n",
       " datetime.datetime(2007, 6, 1, 0, 0),\n",
       " datetime.datetime(2008, 6, 1, 0, 0),\n",
       " datetime.datetime(2009, 6, 1, 0, 0),\n",
       " datetime.datetime(2010, 6, 1, 0, 0),\n",
       " datetime.datetime(2011, 6, 1, 0, 0),\n",
       " datetime.datetime(2012, 6, 1, 0, 0),\n",
       " datetime.datetime(2013, 6, 1, 0, 0),\n",
       " datetime.datetime(2014, 6, 1, 0, 0),\n",
       " datetime.datetime(2015, 6, 1, 0, 0),\n",
       " datetime.datetime(2016, 6, 1, 0, 0)]"
      ]
     },
     "execution_count": 24,
     "metadata": {},
     "output_type": "execute_result"
    }
   ],
   "source": [
    "dates"
   ]
  },
  {
   "cell_type": "markdown",
   "id": "74247127",
   "metadata": {
    "papermill": {
     "duration": 0.004272,
     "end_time": "2022-06-09T04:40:24.327610",
     "exception": false,
     "start_time": "2022-06-09T04:40:24.323338",
     "status": "completed"
    },
    "tags": []
   },
   "source": [
    "### path to download the rolling hindcasts "
   ]
  },
  {
   "cell_type": "code",
   "execution_count": 25,
   "id": "b71f0481",
   "metadata": {
    "execution": {
     "iopub.execute_input": "2022-06-09T04:40:24.337419Z",
     "iopub.status.busy": "2022-06-09T04:40:24.337057Z",
     "iopub.status.idle": "2022-06-09T04:40:24.355206Z",
     "shell.execute_reply": "2022-06-09T04:40:24.354706Z"
    },
    "papermill": {
     "duration": 0.024344,
     "end_time": "2022-06-09T04:40:24.356403",
     "exception": false,
     "start_time": "2022-06-09T04:40:24.332059",
     "status": "completed"
    },
    "tags": []
   },
   "outputs": [],
   "source": [
    "if not(gcm_path.exists()): \n",
    "    gcm_path.mkdir(parents=True)"
   ]
  },
  {
   "cell_type": "markdown",
   "id": "5a6f4954",
   "metadata": {
    "papermill": {
     "duration": 0.004109,
     "end_time": "2022-06-09T04:40:24.364906",
     "exception": false,
     "start_time": "2022-06-09T04:40:24.360797",
     "status": "completed"
    },
    "tags": []
   },
   "source": [
    "### Now loops over the dates, creates a dictionnary containing the keywords arguments, and pass to dask for parallel download "
   ]
  },
  {
   "cell_type": "code",
   "execution_count": 26,
   "id": "23683c56",
   "metadata": {
    "execution": {
     "iopub.execute_input": "2022-06-09T04:40:24.374093Z",
     "iopub.status.busy": "2022-06-09T04:40:24.373952Z",
     "iopub.status.idle": "2022-06-09T04:40:27.048173Z",
     "shell.execute_reply": "2022-06-09T04:40:27.046305Z"
    },
    "papermill": {
     "duration": 2.684017,
     "end_time": "2022-06-09T04:40:27.053092",
     "exception": false,
     "start_time": "2022-06-09T04:40:24.369075",
     "status": "completed"
    },
    "tags": []
   },
   "outputs": [
    {
     "name": "stdout",
     "output_type": "stream",
     "text": [
      "processing ECCC, path should be /media/nicolasf/END19101/ICU/data/CDS/operational/hindcasts/ECCC_CanCM4i/TPRATE\n",
      "processing ECCC, path should be /media/nicolasf/END19101/ICU/data/CDS/operational/hindcasts/ECCC_GEM5_NEMO/TPRATE\n",
      "[                                        ] | 0% Completed |  0.0s\n",
      "/media/nicolasf/END19101/ICU/data/CDS/operational/hindcasts/ECCC_CanCM4i/TPRATE/ensemble_seas_forecasts_tprate_from_1993_06_ECCC.netcdf exists already on disk, skipping download and returning path\n",
      "\n",
      "\n",
      "/media/nicolasf/END19101/ICU/data/CDS/operational/hindcasts/ECCC_GEM5_NEMO/TPRATE/ensemble_seas_forecasts_tprate_from_1993_06_ECCC.netcdf exists already on disk, skipping download and returning path\n",
      "\n",
      "[########################################] | 100% Completed |  0.1s\n",
      "processing ECCC, path should be /media/nicolasf/END19101/ICU/data/CDS/operational/hindcasts/ECCC_CanCM4i/TPRATE\n",
      "processing ECCC, path should be /media/nicolasf/END19101/ICU/data/CDS/operational/hindcasts/ECCC_GEM5_NEMO/TPRATE\n",
      "[                                        ] | 0% Completed |  0.0s\n",
      "/media/nicolasf/END19101/ICU/data/CDS/operational/hindcasts/ECCC_GEM5_NEMO/TPRATE/ensemble_seas_forecasts_tprate_from_1994_06_ECCC.netcdf exists already on disk, skipping download and returning path\n",
      "\n",
      "\n",
      "/media/nicolasf/END19101/ICU/data/CDS/operational/hindcasts/ECCC_CanCM4i/TPRATE/ensemble_seas_forecasts_tprate_from_1994_06_ECCC.netcdf exists already on disk, skipping download and returning path\n",
      "\n",
      "[########################################] | 100% Completed |  0.1s\n",
      "processing ECCC, path should be /media/nicolasf/END19101/ICU/data/CDS/operational/hindcasts/ECCC_CanCM4i/TPRATE\n",
      "processing ECCC, path should be /media/nicolasf/END19101/ICU/data/CDS/operational/hindcasts/ECCC_GEM5_NEMO/TPRATE\n",
      "[                                        ] | 0% Completed |  0.0s\n",
      "/media/nicolasf/END19101/ICU/data/CDS/operational/hindcasts/ECCC_GEM5_NEMO/TPRATE/ensemble_seas_forecasts_tprate_from_1995_06_ECCC.netcdf exists already on disk, skipping download and returning path\n",
      "\n",
      "/media/nicolasf/END19101/ICU/data/CDS/operational/hindcasts/ECCC_CanCM4i/TPRATE/ensemble_seas_forecasts_tprate_from_1995_06_ECCC.netcdf exists already on disk, skipping download and returning path\n",
      "\n",
      "\n",
      "[########################################] | 100% Completed |  0.1s\n",
      "processing ECCC, path should be /media/nicolasf/END19101/ICU/data/CDS/operational/hindcasts/ECCC_CanCM4i/TPRATE\n",
      "processing ECCC, path should be /media/nicolasf/END19101/ICU/data/CDS/operational/hindcasts/ECCC_GEM5_NEMO/TPRATE\n",
      "[                                        ] | 0% Completed |  0.0s\n",
      "/media/nicolasf/END19101/ICU/data/CDS/operational/hindcasts/ECCC_GEM5_NEMO/TPRATE/ensemble_seas_forecasts_tprate_from_1996_06_ECCC.netcdf exists already on disk, skipping download and returning path\n",
      "\n",
      "/media/nicolasf/END19101/ICU/data/CDS/operational/hindcasts/ECCC_CanCM4i/TPRATE/ensemble_seas_forecasts_tprate_from_1996_06_ECCC.netcdf exists already on disk, skipping download and returning path\n",
      "\n",
      "\n",
      "[########################################] | 100% Completed |  0.1s\n",
      "processing ECCC, path should be /media/nicolasf/END19101/ICU/data/CDS/operational/hindcasts/ECCC_CanCM4i/TPRATE\n",
      "processing ECCC, path should be /media/nicolasf/END19101/ICU/data/CDS/operational/hindcasts/ECCC_GEM5_NEMO/TPRATE\n",
      "[                                        ] | 0% Completed |  0.0s\n",
      "/media/nicolasf/END19101/ICU/data/CDS/operational/hindcasts/ECCC_GEM5_NEMO/TPRATE/ensemble_seas_forecasts_tprate_from_1997_06_ECCC.netcdf exists already on disk, skipping download and returning path\n",
      "\n",
      "\n",
      "/media/nicolasf/END19101/ICU/data/CDS/operational/hindcasts/ECCC_CanCM4i/TPRATE/ensemble_seas_forecasts_tprate_from_1997_06_ECCC.netcdf exists already on disk, skipping download and returning path\n",
      "\n",
      "[########################################] | 100% Completed |  0.1s\n",
      "processing ECCC, path should be /media/nicolasf/END19101/ICU/data/CDS/operational/hindcasts/ECCC_CanCM4i/TPRATE\n",
      "processing ECCC, path should be /media/nicolasf/END19101/ICU/data/CDS/operational/hindcasts/ECCC_GEM5_NEMO/TPRATE\n",
      "[                                        ] | 0% Completed |  0.0s\n",
      "/media/nicolasf/END19101/ICU/data/CDS/operational/hindcasts/ECCC_CanCM4i/TPRATE/ensemble_seas_forecasts_tprate_from_1998_06_ECCC.netcdf exists already on disk, skipping download and returning path\n",
      "\n",
      "/media/nicolasf/END19101/ICU/data/CDS/operational/hindcasts/ECCC_GEM5_NEMO/TPRATE/ensemble_seas_forecasts_tprate_from_1998_06_ECCC.netcdf exists already on disk, skipping download and returning path\n",
      "\n",
      "\n",
      "[########################################] | 100% Completed |  0.1s\n",
      "processing ECCC, path should be /media/nicolasf/END19101/ICU/data/CDS/operational/hindcasts/ECCC_CanCM4i/TPRATE\n",
      "processing ECCC, path should be /media/nicolasf/END19101/ICU/data/CDS/operational/hindcasts/ECCC_GEM5_NEMO/TPRATE\n",
      "[                                        ] | 0% Completed |  0.0s\n",
      "/media/nicolasf/END19101/ICU/data/CDS/operational/hindcasts/ECCC_CanCM4i/TPRATE/ensemble_seas_forecasts_tprate_from_1999_06_ECCC.netcdf exists already on disk, skipping download and returning path\n",
      "\n",
      "\n",
      "/media/nicolasf/END19101/ICU/data/CDS/operational/hindcasts/ECCC_GEM5_NEMO/TPRATE/ensemble_seas_forecasts_tprate_from_1999_06_ECCC.netcdf exists already on disk, skipping download and returning path\n",
      "\n",
      "[########################################] | 100% Completed |  0.1s\n",
      "processing ECCC, path should be /media/nicolasf/END19101/ICU/data/CDS/operational/hindcasts/ECCC_CanCM4i/TPRATE\n",
      "processing ECCC, path should be /media/nicolasf/END19101/ICU/data/CDS/operational/hindcasts/ECCC_GEM5_NEMO/TPRATE\n",
      "[                                        ] | 0% Completed |  0.0s\n",
      "/media/nicolasf/END19101/ICU/data/CDS/operational/hindcasts/ECCC_CanCM4i/TPRATE/ensemble_seas_forecasts_tprate_from_2000_06_ECCC.netcdf exists already on disk, skipping download and returning path\n",
      "\n",
      "\n",
      "/media/nicolasf/END19101/ICU/data/CDS/operational/hindcasts/ECCC_GEM5_NEMO/TPRATE/ensemble_seas_forecasts_tprate_from_2000_06_ECCC.netcdf exists already on disk, skipping download and returning path\n",
      "\n",
      "[########################################] | 100% Completed |  0.1s\n",
      "processing ECCC, path should be /media/nicolasf/END19101/ICU/data/CDS/operational/hindcasts/ECCC_CanCM4i/TPRATE\n",
      "processing ECCC, path should be /media/nicolasf/END19101/ICU/data/CDS/operational/hindcasts/ECCC_GEM5_NEMO/TPRATE\n",
      "[                                        ] | 0% Completed |  0.0s\n",
      "/media/nicolasf/END19101/ICU/data/CDS/operational/hindcasts/ECCC_CanCM4i/TPRATE/ensemble_seas_forecasts_tprate_from_2001_06_ECCC.netcdf exists already on disk, skipping download and returning path\n",
      "\n",
      "\n",
      "/media/nicolasf/END19101/ICU/data/CDS/operational/hindcasts/ECCC_GEM5_NEMO/TPRATE/ensemble_seas_forecasts_tprate_from_2001_06_ECCC.netcdf exists already on disk, skipping download and returning path\n",
      "\n",
      "[########################################] | 100% Completed |  0.1s\n",
      "processing ECCC, path should be /media/nicolasf/END19101/ICU/data/CDS/operational/hindcasts/ECCC_CanCM4i/TPRATE\n",
      "processing ECCC, path should be /media/nicolasf/END19101/ICU/data/CDS/operational/hindcasts/ECCC_GEM5_NEMO/TPRATE\n",
      "[                                        ] | 0% Completed |  0.0s\n",
      "/media/nicolasf/END19101/ICU/data/CDS/operational/hindcasts/ECCC_CanCM4i/TPRATE/ensemble_seas_forecasts_tprate_from_2002_06_ECCC.netcdf exists already on disk, skipping download and returning path\n",
      "\n",
      "/media/nicolasf/END19101/ICU/data/CDS/operational/hindcasts/ECCC_GEM5_NEMO/TPRATE/ensemble_seas_forecasts_tprate_from_2002_06_ECCC.netcdf exists already on disk, skipping download and returning path\n",
      "\n",
      "\n",
      "[########################################] | 100% Completed |  0.1s\n",
      "processing ECCC, path should be /media/nicolasf/END19101/ICU/data/CDS/operational/hindcasts/ECCC_CanCM4i/TPRATE\n",
      "processing ECCC, path should be /media/nicolasf/END19101/ICU/data/CDS/operational/hindcasts/ECCC_GEM5_NEMO/TPRATE\n",
      "[                                        ] | 0% Completed |  0.0s\n",
      "/media/nicolasf/END19101/ICU/data/CDS/operational/hindcasts/ECCC_CanCM4i/TPRATE/ensemble_seas_forecasts_tprate_from_2003_06_ECCC.netcdf exists already on disk, skipping download and returning path\n",
      "\n",
      "/media/nicolasf/END19101/ICU/data/CDS/operational/hindcasts/ECCC_GEM5_NEMO/TPRATE/ensemble_seas_forecasts_tprate_from_2003_06_ECCC.netcdf exists already on disk, skipping download and returning path\n",
      "\n",
      "\n",
      "[########################################] | 100% Completed |  0.1s\n",
      "processing ECCC, path should be /media/nicolasf/END19101/ICU/data/CDS/operational/hindcasts/ECCC_CanCM4i/TPRATE\n",
      "processing ECCC, path should be /media/nicolasf/END19101/ICU/data/CDS/operational/hindcasts/ECCC_GEM5_NEMO/TPRATE\n",
      "[                                        ] | 0% Completed |  0.0s\n",
      "/media/nicolasf/END19101/ICU/data/CDS/operational/hindcasts/ECCC_GEM5_NEMO/TPRATE/ensemble_seas_forecasts_tprate_from_2004_06_ECCC.netcdf exists already on disk, skipping download and returning path\n",
      "\n",
      "/media/nicolasf/END19101/ICU/data/CDS/operational/hindcasts/ECCC_CanCM4i/TPRATE/ensemble_seas_forecasts_tprate_from_2004_06_ECCC.netcdf exists already on disk, skipping download and returning path\n",
      "\n",
      "\n",
      "[########################################] | 100% Completed |  0.1s\n",
      "processing ECCC, path should be /media/nicolasf/END19101/ICU/data/CDS/operational/hindcasts/ECCC_CanCM4i/TPRATE\n",
      "processing ECCC, path should be /media/nicolasf/END19101/ICU/data/CDS/operational/hindcasts/ECCC_GEM5_NEMO/TPRATE\n",
      "[                                        ] | 0% Completed |  0.0s\n",
      "/media/nicolasf/END19101/ICU/data/CDS/operational/hindcasts/ECCC_GEM5_NEMO/TPRATE/ensemble_seas_forecasts_tprate_from_2005_06_ECCC.netcdf exists already on disk, skipping download and returning path\n",
      "\n",
      "/media/nicolasf/END19101/ICU/data/CDS/operational/hindcasts/ECCC_CanCM4i/TPRATE/ensemble_seas_forecasts_tprate_from_2005_06_ECCC.netcdf exists already on disk, skipping download and returning path\n",
      "\n",
      "\n",
      "[########################################] | 100% Completed |  0.1s\n",
      "processing ECCC, path should be /media/nicolasf/END19101/ICU/data/CDS/operational/hindcasts/ECCC_CanCM4i/TPRATE\n",
      "processing ECCC, path should be /media/nicolasf/END19101/ICU/data/CDS/operational/hindcasts/ECCC_GEM5_NEMO/TPRATE\n",
      "[                                        ] | 0% Completed |  0.0s\n",
      "/media/nicolasf/END19101/ICU/data/CDS/operational/hindcasts/ECCC_CanCM4i/TPRATE/ensemble_seas_forecasts_tprate_from_2006_06_ECCC.netcdf exists already on disk, skipping download and returning path\n",
      "\n",
      "/media/nicolasf/END19101/ICU/data/CDS/operational/hindcasts/ECCC_GEM5_NEMO/TPRATE/ensemble_seas_forecasts_tprate_from_2006_06_ECCC.netcdf exists already on disk, skipping download and returning path\n",
      "\n",
      "\n",
      "[########################################] | 100% Completed |  0.1s\n",
      "processing ECCC, path should be /media/nicolasf/END19101/ICU/data/CDS/operational/hindcasts/ECCC_CanCM4i/TPRATE\n",
      "processing ECCC, path should be /media/nicolasf/END19101/ICU/data/CDS/operational/hindcasts/ECCC_GEM5_NEMO/TPRATE\n",
      "[                                        ] | 0% Completed |  0.0s\n",
      "/media/nicolasf/END19101/ICU/data/CDS/operational/hindcasts/ECCC_GEM5_NEMO/TPRATE/ensemble_seas_forecasts_tprate_from_2007_06_ECCC.netcdf exists already on disk, skipping download and returning path\n",
      "\n",
      "\n",
      "/media/nicolasf/END19101/ICU/data/CDS/operational/hindcasts/ECCC_CanCM4i/TPRATE/ensemble_seas_forecasts_tprate_from_2007_06_ECCC.netcdf exists already on disk, skipping download and returning path\n",
      "\n",
      "[########################################] | 100% Completed |  0.1s\n",
      "processing ECCC, path should be /media/nicolasf/END19101/ICU/data/CDS/operational/hindcasts/ECCC_CanCM4i/TPRATE\n",
      "processing ECCC, path should be /media/nicolasf/END19101/ICU/data/CDS/operational/hindcasts/ECCC_GEM5_NEMO/TPRATE\n",
      "[                                        ] | 0% Completed |  0.0s\n",
      "/media/nicolasf/END19101/ICU/data/CDS/operational/hindcasts/ECCC_CanCM4i/TPRATE/ensemble_seas_forecasts_tprate_from_2008_06_ECCC.netcdf exists already on disk, skipping download and returning path\n",
      "\n",
      "/media/nicolasf/END19101/ICU/data/CDS/operational/hindcasts/ECCC_GEM5_NEMO/TPRATE/ensemble_seas_forecasts_tprate_from_2008_06_ECCC.netcdf exists already on disk, skipping download and returning path\n",
      "\n",
      "\n",
      "[########################################] | 100% Completed |  0.1s\n",
      "processing ECCC, path should be /media/nicolasf/END19101/ICU/data/CDS/operational/hindcasts/ECCC_CanCM4i/TPRATE\n",
      "processing ECCC, path should be /media/nicolasf/END19101/ICU/data/CDS/operational/hindcasts/ECCC_GEM5_NEMO/TPRATE\n",
      "[                                        ] | 0% Completed |  0.0s\n",
      "/media/nicolasf/END19101/ICU/data/CDS/operational/hindcasts/ECCC_GEM5_NEMO/TPRATE/ensemble_seas_forecasts_tprate_from_2009_06_ECCC.netcdf exists already on disk, skipping download and returning path\n",
      "\n",
      "/media/nicolasf/END19101/ICU/data/CDS/operational/hindcasts/ECCC_CanCM4i/TPRATE/ensemble_seas_forecasts_tprate_from_2009_06_ECCC.netcdf exists already on disk, skipping download and returning path\n",
      "\n",
      "\n",
      "[########################################] | 100% Completed |  0.1s\n",
      "processing ECCC, path should be /media/nicolasf/END19101/ICU/data/CDS/operational/hindcasts/ECCC_CanCM4i/TPRATE\n",
      "processing ECCC, path should be /media/nicolasf/END19101/ICU/data/CDS/operational/hindcasts/ECCC_GEM5_NEMO/TPRATE\n",
      "[                                        ] | 0% Completed |  0.0s\n",
      "/media/nicolasf/END19101/ICU/data/CDS/operational/hindcasts/ECCC_CanCM4i/TPRATE/ensemble_seas_forecasts_tprate_from_2010_06_ECCC.netcdf exists already on disk, skipping download and returning path\n",
      "\n",
      "/media/nicolasf/END19101/ICU/data/CDS/operational/hindcasts/ECCC_GEM5_NEMO/TPRATE/ensemble_seas_forecasts_tprate_from_2010_06_ECCC.netcdf exists already on disk, skipping download and returning path\n",
      "\n",
      "\n",
      "[########################################] | 100% Completed |  0.1s\n",
      "processing ECCC, path should be /media/nicolasf/END19101/ICU/data/CDS/operational/hindcasts/ECCC_CanCM4i/TPRATE\n",
      "processing ECCC, path should be /media/nicolasf/END19101/ICU/data/CDS/operational/hindcasts/ECCC_GEM5_NEMO/TPRATE\n",
      "[                                        ] | 0% Completed |  0.0s\n",
      "/media/nicolasf/END19101/ICU/data/CDS/operational/hindcasts/ECCC_CanCM4i/TPRATE/ensemble_seas_forecasts_tprate_from_2011_06_ECCC.netcdf exists already on disk, skipping download and returning path\n",
      "\n",
      "\n",
      "/media/nicolasf/END19101/ICU/data/CDS/operational/hindcasts/ECCC_GEM5_NEMO/TPRATE/ensemble_seas_forecasts_tprate_from_2011_06_ECCC.netcdf exists already on disk, skipping download and returning path\n",
      "\n",
      "[########################################] | 100% Completed |  0.1s\n",
      "processing ECCC, path should be /media/nicolasf/END19101/ICU/data/CDS/operational/hindcasts/ECCC_CanCM4i/TPRATE\n",
      "processing ECCC, path should be /media/nicolasf/END19101/ICU/data/CDS/operational/hindcasts/ECCC_GEM5_NEMO/TPRATE\n",
      "[                                        ] | 0% Completed |  0.0s\n",
      "/media/nicolasf/END19101/ICU/data/CDS/operational/hindcasts/ECCC_CanCM4i/TPRATE/ensemble_seas_forecasts_tprate_from_2012_06_ECCC.netcdf exists already on disk, skipping download and returning path\n",
      "\n",
      "/media/nicolasf/END19101/ICU/data/CDS/operational/hindcasts/ECCC_GEM5_NEMO/TPRATE/ensemble_seas_forecasts_tprate_from_2012_06_ECCC.netcdf exists already on disk, skipping download and returning path\n",
      "\n",
      "\n",
      "[########################################] | 100% Completed |  0.1s\n",
      "processing ECCC, path should be /media/nicolasf/END19101/ICU/data/CDS/operational/hindcasts/ECCC_CanCM4i/TPRATE\n",
      "processing ECCC, path should be /media/nicolasf/END19101/ICU/data/CDS/operational/hindcasts/ECCC_GEM5_NEMO/TPRATE\n",
      "[                                        ] | 0% Completed |  0.0s\n",
      "/media/nicolasf/END19101/ICU/data/CDS/operational/hindcasts/ECCC_GEM5_NEMO/TPRATE/ensemble_seas_forecasts_tprate_from_2013_06_ECCC.netcdf exists already on disk, skipping download and returning path\n",
      "\n",
      "/media/nicolasf/END19101/ICU/data/CDS/operational/hindcasts/ECCC_CanCM4i/TPRATE/ensemble_seas_forecasts_tprate_from_2013_06_ECCC.netcdf exists already on disk, skipping download and returning path\n",
      "\n",
      "\n",
      "[########################################] | 100% Completed |  0.1s\n",
      "processing ECCC, path should be /media/nicolasf/END19101/ICU/data/CDS/operational/hindcasts/ECCC_CanCM4i/TPRATE\n",
      "processing ECCC, path should be /media/nicolasf/END19101/ICU/data/CDS/operational/hindcasts/ECCC_GEM5_NEMO/TPRATE\n",
      "[                                        ] | 0% Completed |  0.0s\n",
      "/media/nicolasf/END19101/ICU/data/CDS/operational/hindcasts/ECCC_GEM5_NEMO/TPRATE/ensemble_seas_forecasts_tprate_from_2014_06_ECCC.netcdf exists already on disk, skipping download and returning path\n",
      "\n",
      "/media/nicolasf/END19101/ICU/data/CDS/operational/hindcasts/ECCC_CanCM4i/TPRATE/ensemble_seas_forecasts_tprate_from_2014_06_ECCC.netcdf exists already on disk, skipping download and returning path\n",
      "\n",
      "\n",
      "[########################################] | 100% Completed |  0.1s\n",
      "processing ECCC, path should be /media/nicolasf/END19101/ICU/data/CDS/operational/hindcasts/ECCC_CanCM4i/TPRATE\n",
      "processing ECCC, path should be /media/nicolasf/END19101/ICU/data/CDS/operational/hindcasts/ECCC_GEM5_NEMO/TPRATE\n",
      "[                                        ] | 0% Completed |  0.0s\n",
      "/media/nicolasf/END19101/ICU/data/CDS/operational/hindcasts/ECCC_CanCM4i/TPRATE/ensemble_seas_forecasts_tprate_from_2015_06_ECCC.netcdf exists already on disk, skipping download and returning path\n",
      "\n",
      "\n",
      "/media/nicolasf/END19101/ICU/data/CDS/operational/hindcasts/ECCC_GEM5_NEMO/TPRATE/ensemble_seas_forecasts_tprate_from_2015_06_ECCC.netcdf exists already on disk, skipping download and returning path\n",
      "\n",
      "[########################################] | 100% Completed |  0.1s\n",
      "processing ECCC, path should be /media/nicolasf/END19101/ICU/data/CDS/operational/hindcasts/ECCC_CanCM4i/TPRATE\n",
      "processing ECCC, path should be /media/nicolasf/END19101/ICU/data/CDS/operational/hindcasts/ECCC_GEM5_NEMO/TPRATE\n",
      "[                                        ] | 0% Completed |  0.0s\n",
      "/media/nicolasf/END19101/ICU/data/CDS/operational/hindcasts/ECCC_GEM5_NEMO/TPRATE/ensemble_seas_forecasts_tprate_from_2016_06_ECCC.netcdf exists already on disk, skipping download and returning path\n",
      "\n",
      "\n",
      "/media/nicolasf/END19101/ICU/data/CDS/operational/hindcasts/ECCC_CanCM4i/TPRATE/ensemble_seas_forecasts_tprate_from_2016_06_ECCC.netcdf exists already on disk, skipping download and returning path\n",
      "\n",
      "[########################################] | 100% Completed |  0.1s\n"
     ]
    }
   ],
   "source": [
    "for date in dates: \n",
    "    \n",
    "    downloaded_files = []\n",
    "\n",
    "    for GCM in dict_systems.keys():\n",
    "        \n",
    "        if 'ECCC' in GCM: \n",
    "            \n",
    "            GCM_API_name = GCM.split('_')[0]\n",
    "            \n",
    "            GCM_path = gcm_path.joinpath(GCM).joinpath(varname.upper())\n",
    "            \n",
    "            print(f\"processing ECCC, path should be {str(GCM_path)}\")\n",
    "        \n",
    "            args = dict(GCM=GCM_API_name,\n",
    "            system=dict_systems[GCM],\n",
    "            varname=varname,\n",
    "            year=date.year,\n",
    "            month=date.month,\n",
    "            leadtimes=[1, 2, 3, 4, 5, 6],\n",
    "            opath=GCM_path,\n",
    "            domain=domains.domains[domain_name],\n",
    "            file_format='netcdf',\n",
    "            level='surface',\n",
    "            max_retry=3)\n",
    "        \n",
    "        else: \n",
    "\n",
    "            args = dict(GCM=GCM,\n",
    "            system=dict_systems[GCM],\n",
    "            varname=varname,\n",
    "            year=date.year,\n",
    "            month=date.month,\n",
    "            leadtimes=[1, 2, 3, 4, 5, 6],\n",
    "            opath=gcm_path.joinpath(GCM).joinpath(varname.upper()),\n",
    "            domain=domains.domains[domain_name],\n",
    "            file_format='netcdf',\n",
    "            level='surface',\n",
    "            max_retry=3)\n",
    "            \n",
    "\n",
    "        downloaded_files.append(delayed(C3S.download)(**args))\n",
    "\n",
    "    with ProgressBar():\n",
    "        downloaded_files = compute(downloaded_files)"
   ]
  },
  {
   "cell_type": "markdown",
   "id": "c73ccc21-f838-4dd8-a00d-baa068004e32",
   "metadata": {
    "papermill": {
     "duration": 0.012103,
     "end_time": "2022-06-09T04:40:27.093883",
     "exception": false,
     "start_time": "2022-06-09T04:40:27.081780",
     "status": "completed"
    },
    "tags": []
   },
   "source": [
    "### convert the notebook to HTML "
   ]
  },
  {
   "cell_type": "markdown",
   "id": "e686fff8-987c-4cdf-aa90-af2624e36fdc",
   "metadata": {
    "papermill": {
     "duration": 0.0074,
     "end_time": "2022-06-09T04:40:27.110095",
     "exception": false,
     "start_time": "2022-06-09T04:40:27.102695",
     "status": "completed"
    },
    "tags": []
   },
   "source": [
    "### Note: this does not work with papermill"
   ]
  },
  {
   "cell_type": "code",
   "execution_count": 27,
   "id": "b8bce410-39b2-4152-8e70-b4b2bccc8bd1",
   "metadata": {
    "execution": {
     "iopub.execute_input": "2022-06-09T04:40:27.124674Z",
     "iopub.status.busy": "2022-06-09T04:40:27.124526Z",
     "iopub.status.idle": "2022-06-09T04:40:27.142266Z",
     "shell.execute_reply": "2022-06-09T04:40:27.141835Z"
    },
    "papermill": {
     "duration": 0.026446,
     "end_time": "2022-06-09T04:40:27.143373",
     "exception": false,
     "start_time": "2022-06-09T04:40:27.116927",
     "status": "completed"
    },
    "tags": []
   },
   "outputs": [],
   "source": [
    "# jupyter = which('jupyter')\n",
    "\n",
    "# nb_name = ipynbname.name()\n",
    "\n",
    "# nb_name\n",
    "\n",
    "# cmd = f\"{jupyter} nbconvert --to html {nb_name}.ipynb\"\n",
    "\n",
    "# r = call(cmd, shell=True)"
   ]
  },
  {
   "cell_type": "code",
   "execution_count": null,
   "id": "e17f703f-839e-467f-9e90-27ab9c81860f",
   "metadata": {
    "papermill": {
     "duration": 0.006911,
     "end_time": "2022-06-09T04:40:27.157828",
     "exception": false,
     "start_time": "2022-06-09T04:40:27.150917",
     "status": "completed"
    },
    "tags": []
   },
   "outputs": [],
   "source": []
  }
 ],
 "metadata": {
  "kernelspec": {
   "display_name": "Python 3 (ipykernel)",
   "language": "python",
   "name": "python3"
  },
  "language_info": {
   "codemirror_mode": {
    "name": "ipython",
    "version": 3
   },
   "file_extension": ".py",
   "mimetype": "text/x-python",
   "name": "python",
   "nbconvert_exporter": "python",
   "pygments_lexer": "ipython3",
   "version": "3.9.12"
  },
  "papermill": {
   "duration": 22.482742,
   "end_time": "2022-06-09T04:40:27.783610",
   "environment_variables": {},
   "exception": null,
   "input_path": "1_download_C3S_rolling_hindcasts_TPRATE.ipynb",
   "output_path": "1_download_C3S_rolling_hindcasts_TPRATE.ipynb",
   "parameters": {
    "lag": 0
   },
   "start_time": "2022-06-09T04:40:05.300868",
   "version": "1.2.1"
  }
 },
 "nbformat": 4,
 "nbformat_minor": 5
}
