{
 "cells": [
  {
   "cell_type": "markdown",
   "id": "649f9533",
   "metadata": {
    "papermill": {
     "duration": 0.02986,
     "end_time": "2022-03-15T02:07:19.596492",
     "exception": false,
     "start_time": "2022-03-15T02:07:19.566632",
     "status": "completed"
    },
    "tags": []
   },
   "source": [
    "### download the rolling hindcasts for all GCMs from the Copernicus Climate Datastore"
   ]
  },
  {
   "cell_type": "code",
   "execution_count": 1,
   "id": "3c21dc7e",
   "metadata": {
    "papermill": {
     "duration": 0.028849,
     "end_time": "2022-03-15T02:07:19.644700",
     "exception": false,
     "start_time": "2022-03-15T02:07:19.615851",
     "status": "completed"
    },
    "tags": []
   },
   "outputs": [],
   "source": [
    "%load_ext autoreload\n",
    "%autoreload 2"
   ]
  },
  {
   "cell_type": "code",
   "execution_count": 2,
   "id": "d19a251f",
   "metadata": {
    "papermill": {
     "duration": 0.203741,
     "end_time": "2022-03-15T02:07:19.864122",
     "exception": false,
     "start_time": "2022-03-15T02:07:19.660381",
     "status": "completed"
    },
    "tags": []
   },
   "outputs": [],
   "source": [
    "import sys\n",
    "from subprocess import call \n",
    "from shutil import which \n",
    "import pathlib\n",
    "from datetime import datetime\n",
    "from dateutil.relativedelta import relativedelta\n",
    "import dateparser\n",
    "import yaml\n",
    "from yaml.loader import SafeLoader\n",
    "import ipynbname"
   ]
  },
  {
   "cell_type": "code",
   "execution_count": 3,
   "id": "00ad77c5",
   "metadata": {
    "papermill": {
     "duration": 0.103453,
     "end_time": "2022-03-15T02:07:19.983356",
     "exception": false,
     "start_time": "2022-03-15T02:07:19.879903",
     "status": "completed"
    },
    "tags": []
   },
   "outputs": [],
   "source": [
    "from dask import delayed, compute\n",
    "from dask.diagnostics import ProgressBar"
   ]
  },
  {
   "cell_type": "code",
   "execution_count": 4,
   "id": "6229283e",
   "metadata": {
    "papermill": {
     "duration": 0.094991,
     "end_time": "2022-03-15T02:07:20.094012",
     "exception": false,
     "start_time": "2022-03-15T02:07:19.999021",
     "status": "completed"
    },
    "tags": []
   },
   "outputs": [],
   "source": [
    "import numpy as np"
   ]
  },
  {
   "cell_type": "code",
   "execution_count": 5,
   "id": "3648da48",
   "metadata": {
    "papermill": {
     "duration": 0.035774,
     "end_time": "2022-03-15T02:07:20.165469",
     "exception": false,
     "start_time": "2022-03-15T02:07:20.129695",
     "status": "completed"
    },
    "tags": []
   },
   "outputs": [],
   "source": [
    "HOME = pathlib.Path.home()"
   ]
  },
  {
   "cell_type": "code",
   "execution_count": 6,
   "id": "d2ac339c",
   "metadata": {
    "papermill": {
     "duration": 0.025199,
     "end_time": "2022-03-15T02:07:20.206571",
     "exception": false,
     "start_time": "2022-03-15T02:07:20.181372",
     "status": "completed"
    },
    "tags": []
   },
   "outputs": [],
   "source": [
    "CWD = pathlib.Path.cwd()"
   ]
  },
  {
   "cell_type": "code",
   "execution_count": 7,
   "id": "7fdfba2a",
   "metadata": {
    "papermill": {
     "duration": 0.02881,
     "end_time": "2022-03-15T02:07:20.250977",
     "exception": false,
     "start_time": "2022-03-15T02:07:20.222167",
     "status": "completed"
    },
    "tags": []
   },
   "outputs": [
    {
     "data": {
      "text/plain": [
       "PosixPath('/home/nicolasf/operational/ICU/development/hotspots/code/ICU_Water_Watch/notebooks/C3S')"
      ]
     },
     "execution_count": 7,
     "metadata": {},
     "output_type": "execute_result"
    }
   ],
   "source": [
    "CWD"
   ]
  },
  {
   "cell_type": "markdown",
   "id": "963108ba",
   "metadata": {
    "papermill": {
     "duration": 0.01637,
     "end_time": "2022-03-15T02:07:20.283525",
     "exception": false,
     "start_time": "2022-03-15T02:07:20.267155",
     "status": "completed"
    },
    "tags": []
   },
   "source": [
    "### import local functions for the downloading of the C3S forecasts "
   ]
  },
  {
   "cell_type": "code",
   "execution_count": 8,
   "id": "1e031d85",
   "metadata": {
    "papermill": {
     "duration": 0.025076,
     "end_time": "2022-03-15T02:07:20.324560",
     "exception": false,
     "start_time": "2022-03-15T02:07:20.299484",
     "status": "completed"
    },
    "tags": []
   },
   "outputs": [],
   "source": [
    "sys.path.append('../..')"
   ]
  },
  {
   "cell_type": "code",
   "execution_count": 9,
   "id": "e32ceec5",
   "metadata": {
    "papermill": {
     "duration": 13.620067,
     "end_time": "2022-03-15T02:07:33.960297",
     "exception": false,
     "start_time": "2022-03-15T02:07:20.340230",
     "status": "completed"
    },
    "tags": []
   },
   "outputs": [
    {
     "name": "stderr",
     "output_type": "stream",
     "text": [
      "/home/nicolasf/mambaforge/envs/ICU_ops/lib/python3.9/site-packages/statsmodels/compat/pandas.py:65: FutureWarning: pandas.Int64Index is deprecated and will be removed from pandas in a future version. Use pandas.Index with the appropriate dtype instead.\n",
      "  from pandas import Int64Index as NumericIndex\n"
     ]
    }
   ],
   "source": [
    "from ICU_Water_Watch import C3S, domains"
   ]
  },
  {
   "cell_type": "markdown",
   "id": "6a8884cb",
   "metadata": {
    "papermill": {
     "duration": 0.017092,
     "end_time": "2022-03-15T02:07:33.993787",
     "exception": false,
     "start_time": "2022-03-15T02:07:33.976695",
     "status": "completed"
    },
    "tags": []
   },
   "source": [
    "### parameters for papermill"
   ]
  },
  {
   "cell_type": "code",
   "execution_count": 10,
   "id": "03564e25",
   "metadata": {
    "papermill": {
     "duration": 0.04083,
     "end_time": "2022-03-15T02:07:34.051046",
     "exception": false,
     "start_time": "2022-03-15T02:07:34.010216",
     "status": "completed"
    },
    "tags": [
     "parameters"
    ]
   },
   "outputs": [],
   "source": [
    "provider = 'CDS' # should not change\n",
    "varname = 'tprate' # should not change\n",
    "domain_name = 'C3S_download'\n",
    "# if one wants to download other reforecasts than the ones corresponding to the current month\n",
    "lag = 0\n",
    "# path where to save the hindcasts / reforecasts\n",
    "gcm_path = f'/media/nicolasf/END19101/ICU/data/{provider}/operational/hindcasts'\n",
    "config_yaml = './CDS_config.yaml' "
   ]
  },
  {
   "cell_type": "code",
   "execution_count": 11,
   "id": "ffccf51a",
   "metadata": {
    "papermill": {
     "duration": 0.046474,
     "end_time": "2022-03-15T02:07:34.114474",
     "exception": false,
     "start_time": "2022-03-15T02:07:34.068000",
     "status": "completed"
    },
    "tags": [
     "injected-parameters"
    ]
   },
   "outputs": [],
   "source": [
    "# Parameters\n",
    "lag = 0\n"
   ]
  },
  {
   "cell_type": "markdown",
   "id": "141ad68c-5a25-492a-9568-f04ca937f34f",
   "metadata": {
    "papermill": {
     "duration": 0.016403,
     "end_time": "2022-03-15T02:07:34.148605",
     "exception": false,
     "start_time": "2022-03-15T02:07:34.132202",
     "status": "completed"
    },
    "tags": []
   },
   "source": [
    "### reads the yaml file, mapping GCM to system "
   ]
  },
  {
   "cell_type": "code",
   "execution_count": 12,
   "id": "7485f621-5f99-4c4f-b07e-3c1f20117b67",
   "metadata": {
    "papermill": {
     "duration": 0.042107,
     "end_time": "2022-03-15T02:07:34.207284",
     "exception": false,
     "start_time": "2022-03-15T02:07:34.165177",
     "status": "completed"
    },
    "tags": []
   },
   "outputs": [],
   "source": [
    "# Open the file and load the file\n",
    "with open(config_yaml) as f:\n",
    "    dict_systems = yaml.load(f, Loader=SafeLoader)"
   ]
  },
  {
   "cell_type": "code",
   "execution_count": 13,
   "id": "5a15d0eb-bfb5-46cc-bbc8-89cbcc44ddbe",
   "metadata": {
    "papermill": {
     "duration": 0.036549,
     "end_time": "2022-03-15T02:07:34.260329",
     "exception": false,
     "start_time": "2022-03-15T02:07:34.223780",
     "status": "completed"
    },
    "tags": []
   },
   "outputs": [
    {
     "data": {
      "text/plain": [
       "{'ECMWF': 5,\n",
       " 'UKMO': 601,\n",
       " 'METEO_FRANCE': 8,\n",
       " 'DWD': 21,\n",
       " 'CMCC': 35,\n",
       " 'NCEP': 2,\n",
       " 'JMA': 3,\n",
       " 'ECCC_GEM_NEMO': 2,\n",
       " 'ECCC_CanCM4i': 3}"
      ]
     },
     "execution_count": 13,
     "metadata": {},
     "output_type": "execute_result"
    }
   ],
   "source": [
    "dict_systems"
   ]
  },
  {
   "cell_type": "markdown",
   "id": "43744be0",
   "metadata": {
    "papermill": {
     "duration": 0.016657,
     "end_time": "2022-03-15T02:07:34.293838",
     "exception": false,
     "start_time": "2022-03-15T02:07:34.277181",
     "status": "completed"
    },
    "tags": []
   },
   "source": [
    "### casts the paths to `pathlib.Path` objects "
   ]
  },
  {
   "cell_type": "code",
   "execution_count": 14,
   "id": "a6a70430",
   "metadata": {
    "papermill": {
     "duration": 0.037533,
     "end_time": "2022-03-15T02:07:34.347638",
     "exception": false,
     "start_time": "2022-03-15T02:07:34.310105",
     "status": "completed"
    },
    "tags": []
   },
   "outputs": [],
   "source": [
    "gcm_path = pathlib.Path(gcm_path)"
   ]
  },
  {
   "cell_type": "markdown",
   "id": "2fc4adfe",
   "metadata": {
    "papermill": {
     "duration": 0.018231,
     "end_time": "2022-03-15T02:07:34.386284",
     "exception": false,
     "start_time": "2022-03-15T02:07:34.368053",
     "status": "completed"
    },
    "tags": []
   },
   "source": [
    "### get today's date "
   ]
  },
  {
   "cell_type": "code",
   "execution_count": 15,
   "id": "35d39153",
   "metadata": {
    "papermill": {
     "duration": 0.059601,
     "end_time": "2022-03-15T02:07:34.462859",
     "exception": false,
     "start_time": "2022-03-15T02:07:34.403258",
     "status": "completed"
    },
    "tags": []
   },
   "outputs": [],
   "source": [
    "date = dateparser.parse('today')"
   ]
  },
  {
   "cell_type": "code",
   "execution_count": 16,
   "id": "8b6e1b72",
   "metadata": {
    "papermill": {
     "duration": 0.039082,
     "end_time": "2022-03-15T02:07:34.519836",
     "exception": false,
     "start_time": "2022-03-15T02:07:34.480754",
     "status": "completed"
    },
    "tags": []
   },
   "outputs": [
    {
     "data": {
      "text/plain": [
       "datetime.datetime(2022, 3, 15, 15, 41, 9, 303283)"
      ]
     },
     "execution_count": 16,
     "metadata": {},
     "output_type": "execute_result"
    }
   ],
   "source": [
    "date"
   ]
  },
  {
   "cell_type": "markdown",
   "id": "e85bb7a7",
   "metadata": {
    "papermill": {
     "duration": 0.016966,
     "end_time": "2022-03-15T02:07:34.553937",
     "exception": false,
     "start_time": "2022-03-15T02:07:34.536971",
     "status": "completed"
    },
    "tags": []
   },
   "source": [
    "### apply lag "
   ]
  },
  {
   "cell_type": "code",
   "execution_count": 17,
   "id": "12c6d03a",
   "metadata": {
    "papermill": {
     "duration": 0.036716,
     "end_time": "2022-03-15T02:07:34.607468",
     "exception": false,
     "start_time": "2022-03-15T02:07:34.570752",
     "status": "completed"
    },
    "tags": []
   },
   "outputs": [],
   "source": [
    "date = date - relativedelta(months=lag)"
   ]
  },
  {
   "cell_type": "code",
   "execution_count": 18,
   "id": "8cb55fc8",
   "metadata": {
    "papermill": {
     "duration": 0.035412,
     "end_time": "2022-03-15T02:07:34.659774",
     "exception": false,
     "start_time": "2022-03-15T02:07:34.624362",
     "status": "completed"
    },
    "tags": []
   },
   "outputs": [
    {
     "name": "stdout",
     "output_type": "stream",
     "text": [
      "the hindcast data will be downloaded for all re-forecasts initialised in March\n"
     ]
    }
   ],
   "source": [
    "print(f\"the hindcast data will be downloaded for all re-forecasts initialised in {date:%B}\")"
   ]
  },
  {
   "cell_type": "markdown",
   "id": "d252bb55",
   "metadata": {
    "papermill": {
     "duration": 0.016626,
     "end_time": "2022-03-15T02:07:34.693432",
     "exception": false,
     "start_time": "2022-03-15T02:07:34.676806",
     "status": "completed"
    },
    "tags": []
   },
   "source": [
    "### generate the dates for the download of the rolling hindcasts "
   ]
  },
  {
   "cell_type": "code",
   "execution_count": 19,
   "id": "20083d02",
   "metadata": {
    "papermill": {
     "duration": 0.034924,
     "end_time": "2022-03-15T02:07:34.744891",
     "exception": false,
     "start_time": "2022-03-15T02:07:34.709967",
     "status": "completed"
    },
    "tags": []
   },
   "outputs": [],
   "source": [
    "dates = [datetime(y, date.month, 1) for y in range(1993, 2016 + 1)]"
   ]
  },
  {
   "cell_type": "code",
   "execution_count": 20,
   "id": "a1e8bbdf",
   "metadata": {
    "papermill": {
     "duration": 0.03659,
     "end_time": "2022-03-15T02:07:34.797909",
     "exception": false,
     "start_time": "2022-03-15T02:07:34.761319",
     "status": "completed"
    },
    "tags": []
   },
   "outputs": [
    {
     "data": {
      "text/plain": [
       "[datetime.datetime(1993, 3, 1, 0, 0),\n",
       " datetime.datetime(1994, 3, 1, 0, 0),\n",
       " datetime.datetime(1995, 3, 1, 0, 0),\n",
       " datetime.datetime(1996, 3, 1, 0, 0),\n",
       " datetime.datetime(1997, 3, 1, 0, 0),\n",
       " datetime.datetime(1998, 3, 1, 0, 0),\n",
       " datetime.datetime(1999, 3, 1, 0, 0),\n",
       " datetime.datetime(2000, 3, 1, 0, 0),\n",
       " datetime.datetime(2001, 3, 1, 0, 0),\n",
       " datetime.datetime(2002, 3, 1, 0, 0),\n",
       " datetime.datetime(2003, 3, 1, 0, 0),\n",
       " datetime.datetime(2004, 3, 1, 0, 0),\n",
       " datetime.datetime(2005, 3, 1, 0, 0),\n",
       " datetime.datetime(2006, 3, 1, 0, 0),\n",
       " datetime.datetime(2007, 3, 1, 0, 0),\n",
       " datetime.datetime(2008, 3, 1, 0, 0),\n",
       " datetime.datetime(2009, 3, 1, 0, 0),\n",
       " datetime.datetime(2010, 3, 1, 0, 0),\n",
       " datetime.datetime(2011, 3, 1, 0, 0),\n",
       " datetime.datetime(2012, 3, 1, 0, 0),\n",
       " datetime.datetime(2013, 3, 1, 0, 0),\n",
       " datetime.datetime(2014, 3, 1, 0, 0),\n",
       " datetime.datetime(2015, 3, 1, 0, 0),\n",
       " datetime.datetime(2016, 3, 1, 0, 0)]"
      ]
     },
     "execution_count": 20,
     "metadata": {},
     "output_type": "execute_result"
    }
   ],
   "source": [
    "dates"
   ]
  },
  {
   "cell_type": "markdown",
   "id": "74247127",
   "metadata": {
    "papermill": {
     "duration": 0.018391,
     "end_time": "2022-03-15T02:07:34.834150",
     "exception": false,
     "start_time": "2022-03-15T02:07:34.815759",
     "status": "completed"
    },
    "tags": []
   },
   "source": [
    "### path to download the rolling hindcasts "
   ]
  },
  {
   "cell_type": "code",
   "execution_count": 21,
   "id": "b71f0481",
   "metadata": {
    "papermill": {
     "duration": 0.036099,
     "end_time": "2022-03-15T02:07:34.887757",
     "exception": false,
     "start_time": "2022-03-15T02:07:34.851658",
     "status": "completed"
    },
    "tags": []
   },
   "outputs": [],
   "source": [
    "if not(gcm_path.exists()): \n",
    "    gcm_path.mkdir(parents=True)"
   ]
  },
  {
   "cell_type": "markdown",
   "id": "5a6f4954",
   "metadata": {
    "papermill": {
     "duration": 0.017238,
     "end_time": "2022-03-15T02:07:34.922930",
     "exception": false,
     "start_time": "2022-03-15T02:07:34.905692",
     "status": "completed"
    },
    "tags": []
   },
   "source": [
    "### Now loops over the dates, creates a dictionnary containing the keywords arguments, and pass to dask for parallel download "
   ]
  },
  {
   "cell_type": "code",
   "execution_count": 22,
   "id": "23683c56",
   "metadata": {
    "papermill": {
     "duration": null,
     "end_time": null,
     "exception": false,
     "start_time": "2022-03-15T02:07:34.940436",
     "status": "running"
    },
    "tags": []
   },
   "outputs": [
    {
     "name": "stdout",
     "output_type": "stream",
     "text": [
      "processing ECCC, path should be /media/nicolasf/END19101/ICU/data/CDS/operational/hindcasts/ECCC_GEM_NEMO/TPRATE\n",
      "processing ECCC, path should be /media/nicolasf/END19101/ICU/data/CDS/operational/hindcasts/ECCC_CanCM4i/TPRATE\n",
      "[                                        ] | 0% Completed |  0.0s\n",
      "/media/nicolasf/END19101/ICU/data/CDS/operational/hindcasts/ECCC_GEM_NEMO/TPRATE/ensemble_seas_forecasts_tprate_from_1993_03_ECCC.netcdf exists already on disk, skipping download and returning path\n",
      "\n",
      "\n",
      "/media/nicolasf/END19101/ICU/data/CDS/operational/hindcasts/CMCC/TPRATE/ensemble_seas_forecasts_tprate_from_1993_03_CMCC.netcdf exists already on disk, skipping download and returning path\n",
      "\n",
      "\n",
      "/media/nicolasf/END19101/ICU/data/CDS/operational/hindcasts/NCEP/TPRATE/ensemble_seas_forecasts_tprate_from_1993_03_NCEP.netcdf exists already on disk, skipping download and returning path\n",
      "\n",
      "\n",
      "/media/nicolasf/END19101/ICU/data/CDS/operational/hindcasts/JMA/TPRATE/ensemble_seas_forecasts_tprate_from_1993_03_JMA.netcdf exists already on disk, skipping download and returning path\n",
      "\n",
      "\n",
      "/media/nicolasf/END19101/ICU/data/CDS/operational/hindcasts/ECCC_CanCM4i/TPRATE/ensemble_seas_forecasts_tprate_from_1993_03_ECCC.netcdf exists already on disk, skipping download and returning path\n",
      "\n",
      "\n",
      "/media/nicolasf/END19101/ICU/data/CDS/operational/hindcasts/DWD/TPRATE/ensemble_seas_forecasts_tprate_from_1993_03_DWD.netcdf exists already on disk, skipping download and returning path\n",
      "\n",
      "\n",
      "/media/nicolasf/END19101/ICU/data/CDS/operational/hindcasts/UKMO/TPRATE/ensemble_seas_forecasts_tprate_from_1993_03_UKMO.netcdf exists already on disk, skipping download and returning path\n",
      "\n",
      "\n",
      "/media/nicolasf/END19101/ICU/data/CDS/operational/hindcasts/METEO_FRANCE/TPRATE/ensemble_seas_forecasts_tprate_from_1993_03_METEO_FRANCE.netcdf exists already on disk, skipping download and returning path\n",
      "\n",
      "\n",
      "/media/nicolasf/END19101/ICU/data/CDS/operational/hindcasts/ECMWF/TPRATE/ensemble_seas_forecasts_tprate_from_1993_03_ECMWF.netcdf exists already on disk, skipping download and returning path\n",
      "\n",
      "[########################################] | 100% Completed |  0.1s\n",
      "processing ECCC, path should be /media/nicolasf/END19101/ICU/data/CDS/operational/hindcasts/ECCC_GEM_NEMO/TPRATE\n",
      "processing ECCC, path should be /media/nicolasf/END19101/ICU/data/CDS/operational/hindcasts/ECCC_CanCM4i/TPRATE\n",
      "[                                        ] | 0% Completed |  0.0s\n",
      "/media/nicolasf/END19101/ICU/data/CDS/operational/hindcasts/NCEP/TPRATE/ensemble_seas_forecasts_tprate_from_1994_03_NCEP.netcdf exists already on disk, skipping download and returning path\n",
      "\n",
      "\n",
      "/media/nicolasf/END19101/ICU/data/CDS/operational/hindcasts/ECCC_CanCM4i/TPRATE/ensemble_seas_forecasts_tprate_from_1994_03_ECCC.netcdf exists already on disk, skipping download and returning path\n",
      "\n",
      "\n",
      "/media/nicolasf/END19101/ICU/data/CDS/operational/hindcasts/DWD/TPRATE/ensemble_seas_forecasts_tprate_from_1994_03_DWD.netcdf exists already on disk, skipping download and returning path\n",
      "\n",
      "\n",
      "/media/nicolasf/END19101/ICU/data/CDS/operational/hindcasts/ECCC_GEM_NEMO/TPRATE/ensemble_seas_forecasts_tprate_from_1994_03_ECCC.netcdf exists already on disk, skipping download and returning path\n",
      "\n",
      "\n",
      "/media/nicolasf/END19101/ICU/data/CDS/operational/hindcasts/METEO_FRANCE/TPRATE/ensemble_seas_forecasts_tprate_from_1994_03_METEO_FRANCE.netcdf exists already on disk, skipping download and returning path\n",
      "\n",
      "\n",
      "/media/nicolasf/END19101/ICU/data/CDS/operational/hindcasts/JMA/TPRATE/ensemble_seas_forecasts_tprate_from_1994_03_JMA.netcdf exists already on disk, skipping download and returning path\n",
      "\n",
      "/media/nicolasf/END19101/ICU/data/CDS/operational/hindcasts/ECMWF/TPRATE/ensemble_seas_forecasts_tprate_from_1994_03_ECMWF.netcdf exists already on disk, skipping download and returning path\n",
      "\n",
      "\n",
      "/media/nicolasf/END19101/ICU/data/CDS/operational/hindcasts/CMCC/TPRATE/ensemble_seas_forecasts_tprate_from_1994_03_CMCC.netcdf exists already on disk, skipping download and returning path\n",
      "\n",
      "\n",
      "\n",
      "/media/nicolasf/END19101/ICU/data/CDS/operational/hindcasts/UKMO/TPRATE/ensemble_seas_forecasts_tprate_from_1994_03_UKMO.netcdf exists already on disk, skipping download and returning path\n",
      "\n",
      "[########################################] | 100% Completed |  0.1s\n",
      "processing ECCC, path should be /media/nicolasf/END19101/ICU/data/CDS/operational/hindcasts/ECCC_GEM_NEMO/TPRATE\n",
      "processing ECCC, path should be /media/nicolasf/END19101/ICU/data/CDS/operational/hindcasts/ECCC_CanCM4i/TPRATE\n",
      "[                                        ] | 0% Completed |  0.0s\n",
      "/media/nicolasf/END19101/ICU/data/CDS/operational/hindcasts/CMCC/TPRATE/ensemble_seas_forecasts_tprate_from_1995_03_CMCC.netcdf exists already on disk, skipping download and returning path\n",
      "\n",
      "/media/nicolasf/END19101/ICU/data/CDS/operational/hindcasts/METEO_FRANCE/TPRATE/ensemble_seas_forecasts_tprate_from_1995_03_METEO_FRANCE.netcdf exists already on disk, skipping download and returning path\n",
      "\n",
      "\n",
      "/media/nicolasf/END19101/ICU/data/CDS/operational/hindcasts/UKMO/TPRATE/ensemble_seas_forecasts_tprate_from_1995_03_UKMO.netcdf exists already on disk, skipping download and returning path\n",
      "\n",
      "\n",
      "/media/nicolasf/END19101/ICU/data/CDS/operational/hindcasts/NCEP/TPRATE/ensemble_seas_forecasts_tprate_from_1995_03_NCEP.netcdf exists already on disk, skipping download and returning path\n",
      "\n",
      "\n",
      "/media/nicolasf/END19101/ICU/data/CDS/operational/hindcasts/ECMWF/TPRATE/ensemble_seas_forecasts_tprate_from_1995_03_ECMWF.netcdf exists already on disk, skipping download and returning path\n",
      "\n",
      "\n",
      "\n",
      "/media/nicolasf/END19101/ICU/data/CDS/operational/hindcasts/DWD/TPRATE/ensemble_seas_forecasts_tprate_from_1995_03_DWD.netcdf exists already on disk, skipping download and returning path\n",
      "\n",
      "\n",
      "/media/nicolasf/END19101/ICU/data/CDS/operational/hindcasts/ECCC_CanCM4i/TPRATE/ensemble_seas_forecasts_tprate_from_1995_03_ECCC.netcdf exists already on disk, skipping download and returning path\n",
      "\n",
      "\n",
      "/media/nicolasf/END19101/ICU/data/CDS/operational/hindcasts/JMA/TPRATE/ensemble_seas_forecasts_tprate_from_1995_03_JMA.netcdf exists already on disk, skipping download and returning path\n",
      "\n",
      "\n",
      "/media/nicolasf/END19101/ICU/data/CDS/operational/hindcasts/ECCC_GEM_NEMO/TPRATE/ensemble_seas_forecasts_tprate_from_1995_03_ECCC.netcdf exists already on disk, skipping download and returning path\n",
      "\n",
      "[########################################] | 100% Completed |  0.1s\n",
      "processing ECCC, path should be /media/nicolasf/END19101/ICU/data/CDS/operational/hindcasts/ECCC_GEM_NEMO/TPRATE\n",
      "processing ECCC, path should be /media/nicolasf/END19101/ICU/data/CDS/operational/hindcasts/ECCC_CanCM4i/TPRATE\n",
      "[                                        ] | 0% Completed |  0.0s\n",
      "/media/nicolasf/END19101/ICU/data/CDS/operational/hindcasts/ECCC_GEM_NEMO/TPRATE/ensemble_seas_forecasts_tprate_from_1996_03_ECCC.netcdf exists already on disk, skipping download and returning path\n",
      "\n",
      "/media/nicolasf/END19101/ICU/data/CDS/operational/hindcasts/METEO_FRANCE/TPRATE/ensemble_seas_forecasts_tprate_from_1996_03_METEO_FRANCE.netcdf exists already on disk, skipping download and returning path\n",
      "\n",
      "\n",
      "/media/nicolasf/END19101/ICU/data/CDS/operational/hindcasts/DWD/TPRATE/ensemble_seas_forecasts_tprate_from_1996_03_DWD.netcdf exists already on disk, skipping download and returning path\n",
      "\n",
      "\n",
      "/media/nicolasf/END19101/ICU/data/CDS/operational/hindcasts/UKMO/TPRATE/ensemble_seas_forecasts_tprate_from_1996_03_UKMO.netcdf exists already on disk, skipping download and returning path\n",
      "\n",
      "\n",
      "/media/nicolasf/END19101/ICU/data/CDS/operational/hindcasts/ECCC_CanCM4i/TPRATE/ensemble_seas_forecasts_tprate_from_1996_03_ECCC.netcdf exists already on disk, skipping download and returning path\n",
      "\n",
      "\n",
      "/media/nicolasf/END19101/ICU/data/CDS/operational/hindcasts/JMA/TPRATE/ensemble_seas_forecasts_tprate_from_1996_03_JMA.netcdf exists already on disk, skipping download and returning path\n",
      "\n",
      "\n",
      "/media/nicolasf/END19101/ICU/data/CDS/operational/hindcasts/CMCC/TPRATE/ensemble_seas_forecasts_tprate_from_1996_03_CMCC.netcdf exists already on disk, skipping download and returning path\n",
      "\n",
      "\n",
      "\n",
      "/media/nicolasf/END19101/ICU/data/CDS/operational/hindcasts/ECMWF/TPRATE/ensemble_seas_forecasts_tprate_from_1996_03_ECMWF.netcdf exists already on disk, skipping download and returning path\n",
      "\n",
      "\n",
      "/media/nicolasf/END19101/ICU/data/CDS/operational/hindcasts/NCEP/TPRATE/ensemble_seas_forecasts_tprate_from_1996_03_NCEP.netcdf exists already on disk, skipping download and returning path\n",
      "\n",
      "[########################################] | 100% Completed |  0.1s\n",
      "processing ECCC, path should be /media/nicolasf/END19101/ICU/data/CDS/operational/hindcasts/ECCC_GEM_NEMO/TPRATE\n",
      "processing ECCC, path should be /media/nicolasf/END19101/ICU/data/CDS/operational/hindcasts/ECCC_CanCM4i/TPRATE\n",
      "[                                        ] | 0% Completed |  0.0s\n",
      "/media/nicolasf/END19101/ICU/data/CDS/operational/hindcasts/ECMWF/TPRATE/ensemble_seas_forecasts_tprate_from_1997_03_ECMWF.netcdf exists already on disk, skipping download and returning path\n",
      "\n",
      "/media/nicolasf/END19101/ICU/data/CDS/operational/hindcasts/CMCC/TPRATE/ensemble_seas_forecasts_tprate_from_1997_03_CMCC.netcdf exists already on disk, skipping download and returning path\n",
      "\n",
      "\n",
      "\n",
      "/media/nicolasf/END19101/ICU/data/CDS/operational/hindcasts/NCEP/TPRATE/ensemble_seas_forecasts_tprate_from_1997_03_NCEP.netcdf exists already on disk, skipping download and returning path\n",
      "\n",
      "\n",
      "/media/nicolasf/END19101/ICU/data/CDS/operational/hindcasts/DWD/TPRATE/ensemble_seas_forecasts_tprate_from_1997_03_DWD.netcdf exists already on disk, skipping download and returning path\n",
      "\n",
      "/media/nicolasf/END19101/ICU/data/CDS/operational/hindcasts/METEO_FRANCE/TPRATE/ensemble_seas_forecasts_tprate_from_1997_03_METEO_FRANCE.netcdf exists already on disk, skipping download and returning path\n",
      "\n",
      "\n",
      "\n",
      "/media/nicolasf/END19101/ICU/data/CDS/operational/hindcasts/ECCC_CanCM4i/TPRATE/ensemble_seas_forecasts_tprate_from_1997_03_ECCC.netcdf exists already on disk, skipping download and returning path\n",
      "\n",
      "/media/nicolasf/END19101/ICU/data/CDS/operational/hindcasts/ECCC_GEM_NEMO/TPRATE/ensemble_seas_forecasts_tprate_from_1997_03_ECCC.netcdf exists already on disk, skipping download and returning path\n",
      "\n",
      "/media/nicolasf/END19101/ICU/data/CDS/operational/hindcasts/UKMO/TPRATE/ensemble_seas_forecasts_tprate_from_1997_03_UKMO.netcdf exists already on disk, skipping download and returning path\n",
      "\n",
      "/media/nicolasf/END19101/ICU/data/CDS/operational/hindcasts/JMA/TPRATE/ensemble_seas_forecasts_tprate_from_1997_03_JMA.netcdf exists already on disk, skipping download and returning path\n",
      "\n",
      "\n",
      "\n",
      "\n",
      "[########################################] | 100% Completed |  0.1s\n",
      "processing ECCC, path should be /media/nicolasf/END19101/ICU/data/CDS/operational/hindcasts/ECCC_GEM_NEMO/TPRATE\n",
      "processing ECCC, path should be /media/nicolasf/END19101/ICU/data/CDS/operational/hindcasts/ECCC_CanCM4i/TPRATE\n",
      "[                                        ] | 0% Completed |  0.0s\n",
      "/media/nicolasf/END19101/ICU/data/CDS/operational/hindcasts/CMCC/TPRATE/ensemble_seas_forecasts_tprate_from_1998_03_CMCC.netcdf exists already on disk, skipping download and returning path\n",
      "\n",
      "/media/nicolasf/END19101/ICU/data/CDS/operational/hindcasts/ECMWF/TPRATE/ensemble_seas_forecasts_tprate_from_1998_03_ECMWF.netcdf exists already on disk, skipping download and returning path\n",
      "\n",
      "\n",
      "/media/nicolasf/END19101/ICU/data/CDS/operational/hindcasts/METEO_FRANCE/TPRATE/ensemble_seas_forecasts_tprate_from_1998_03_METEO_FRANCE.netcdf exists already on disk, skipping download and returning path\n",
      "\n",
      "/media/nicolasf/END19101/ICU/data/CDS/operational/hindcasts/ECCC_GEM_NEMO/TPRATE/ensemble_seas_forecasts_tprate_from_1998_03_ECCC.netcdf exists already on disk, skipping download and returning path\n",
      "\n",
      "\n",
      "/media/nicolasf/END19101/ICU/data/CDS/operational/hindcasts/ECCC_CanCM4i/TPRATE/ensemble_seas_forecasts_tprate_from_1998_03_ECCC.netcdf exists already on disk, skipping download and returning path\n",
      "\n",
      "\n",
      "/media/nicolasf/END19101/ICU/data/CDS/operational/hindcasts/NCEP/TPRATE/ensemble_seas_forecasts_tprate_from_1998_03_NCEP.netcdf exists already on disk, skipping download and returning path\n",
      "\n",
      "\n",
      "\n",
      "\n",
      "/media/nicolasf/END19101/ICU/data/CDS/operational/hindcasts/JMA/TPRATE/ensemble_seas_forecasts_tprate_from_1998_03_JMA.netcdf exists already on disk, skipping download and returning path\n",
      "\n",
      "\n",
      "/media/nicolasf/END19101/ICU/data/CDS/operational/hindcasts/DWD/TPRATE/ensemble_seas_forecasts_tprate_from_1998_03_DWD.netcdf exists already on disk, skipping download and returning path\n",
      "\n",
      "\n",
      "/media/nicolasf/END19101/ICU/data/CDS/operational/hindcasts/UKMO/TPRATE/ensemble_seas_forecasts_tprate_from_1998_03_UKMO.netcdf exists already on disk, skipping download and returning path\n",
      "\n",
      "[########################################] | 100% Completed |  0.1s\n",
      "processing ECCC, path should be /media/nicolasf/END19101/ICU/data/CDS/operational/hindcasts/ECCC_GEM_NEMO/TPRATE\n",
      "processing ECCC, path should be /media/nicolasf/END19101/ICU/data/CDS/operational/hindcasts/ECCC_CanCM4i/TPRATE\n",
      "[                                        ] | 0% Completed |  0.0s\n",
      "/media/nicolasf/END19101/ICU/data/CDS/operational/hindcasts/CMCC/TPRATE/ensemble_seas_forecasts_tprate_from_1999_03_CMCC.netcdf exists already on disk, skipping download and returning path\n",
      "\n",
      "/media/nicolasf/END19101/ICU/data/CDS/operational/hindcasts/ECCC_GEM_NEMO/TPRATE/ensemble_seas_forecasts_tprate_from_1999_03_ECCC.netcdf exists already on disk, skipping download and returning path\n",
      "\n",
      "\n",
      "\n",
      "/media/nicolasf/END19101/ICU/data/CDS/operational/hindcasts/JMA/TPRATE/ensemble_seas_forecasts_tprate_from_1999_03_JMA.netcdf exists already on disk, skipping download and returning path\n",
      "\n",
      "/media/nicolasf/END19101/ICU/data/CDS/operational/hindcasts/METEO_FRANCE/TPRATE/ensemble_seas_forecasts_tprate_from_1999_03_METEO_FRANCE.netcdf exists already on disk, skipping download and returning path\n",
      "\n",
      "/media/nicolasf/END19101/ICU/data/CDS/operational/hindcasts/NCEP/TPRATE/ensemble_seas_forecasts_tprate_from_1999_03_NCEP.netcdf exists already on disk, skipping download and returning path\n",
      "\n",
      "\n",
      "/media/nicolasf/END19101/ICU/data/CDS/operational/hindcasts/UKMO/TPRATE/ensemble_seas_forecasts_tprate_from_1999_03_UKMO.netcdf exists already on disk, skipping download and returning path\n",
      "\n",
      "\n",
      "/media/nicolasf/END19101/ICU/data/CDS/operational/hindcasts/ECCC_CanCM4i/TPRATE/ensemble_seas_forecasts_tprate_from_1999_03_ECCC.netcdf exists already on disk, skipping download and returning path\n",
      "\n",
      "\n",
      "/media/nicolasf/END19101/ICU/data/CDS/operational/hindcasts/DWD/TPRATE/ensemble_seas_forecasts_tprate_from_1999_03_DWD.netcdf exists already on disk, skipping download and returning path\n",
      "\n",
      "\n",
      "\n",
      "\n",
      "/media/nicolasf/END19101/ICU/data/CDS/operational/hindcasts/ECMWF/TPRATE/ensemble_seas_forecasts_tprate_from_1999_03_ECMWF.netcdf exists already on disk, skipping download and returning path\n",
      "\n",
      "[########################################] | 100% Completed |  0.1s\n",
      "processing ECCC, path should be /media/nicolasf/END19101/ICU/data/CDS/operational/hindcasts/ECCC_GEM_NEMO/TPRATE\n",
      "processing ECCC, path should be /media/nicolasf/END19101/ICU/data/CDS/operational/hindcasts/ECCC_CanCM4i/TPRATE\n",
      "[                                        ] | 0% Completed |  0.0s\n",
      "/media/nicolasf/END19101/ICU/data/CDS/operational/hindcasts/ECCC_GEM_NEMO/TPRATE/ensemble_seas_forecasts_tprate_from_2000_03_ECCC.netcdf exists already on disk, skipping download and returning path\n",
      "\n",
      "/media/nicolasf/END19101/ICU/data/CDS/operational/hindcasts/ECMWF/TPRATE/ensemble_seas_forecasts_tprate_from_2000_03_ECMWF.netcdf exists already on disk, skipping download and returning path\n",
      "\n",
      "\n",
      "/media/nicolasf/END19101/ICU/data/CDS/operational/hindcasts/UKMO/TPRATE/ensemble_seas_forecasts_tprate_from_2000_03_UKMO.netcdf exists already on disk, skipping download and returning path\n",
      "\n",
      "\n",
      "/media/nicolasf/END19101/ICU/data/CDS/operational/hindcasts/JMA/TPRATE/ensemble_seas_forecasts_tprate_from_2000_03_JMA.netcdf exists already on disk, skipping download and returning path\n",
      "\n",
      "\n",
      "/media/nicolasf/END19101/ICU/data/CDS/operational/hindcasts/DWD/TPRATE/ensemble_seas_forecasts_tprate_from_2000_03_DWD.netcdf exists already on disk, skipping download and returning path\n",
      "\n",
      "\n",
      "/media/nicolasf/END19101/ICU/data/CDS/operational/hindcasts/NCEP/TPRATE/ensemble_seas_forecasts_tprate_from_2000_03_NCEP.netcdf exists already on disk, skipping download and returning path\n",
      "\n",
      "\n",
      "/media/nicolasf/END19101/ICU/data/CDS/operational/hindcasts/CMCC/TPRATE/ensemble_seas_forecasts_tprate_from_2000_03_CMCC.netcdf exists already on disk, skipping download and returning path\n",
      "\n",
      "\n",
      "/media/nicolasf/END19101/ICU/data/CDS/operational/hindcasts/ECCC_CanCM4i/TPRATE/ensemble_seas_forecasts_tprate_from_2000_03_ECCC.netcdf exists already on disk, skipping download and returning path\n",
      "\n",
      "\n",
      "\n",
      "/media/nicolasf/END19101/ICU/data/CDS/operational/hindcasts/METEO_FRANCE/TPRATE/ensemble_seas_forecasts_tprate_from_2000_03_METEO_FRANCE.netcdf exists already on disk, skipping download and returning path\n",
      "\n",
      "[########################################] | 100% Completed |  0.1s\n",
      "processing ECCC, path should be /media/nicolasf/END19101/ICU/data/CDS/operational/hindcasts/ECCC_GEM_NEMO/TPRATE\n",
      "processing ECCC, path should be /media/nicolasf/END19101/ICU/data/CDS/operational/hindcasts/ECCC_CanCM4i/TPRATE\n",
      "[                                        ] | 0% Completed |  0.0s\n",
      "/media/nicolasf/END19101/ICU/data/CDS/operational/hindcasts/CMCC/TPRATE/ensemble_seas_forecasts_tprate_from_2001_03_CMCC.netcdf exists already on disk, skipping download and returning path\n",
      "\n",
      "/media/nicolasf/END19101/ICU/data/CDS/operational/hindcasts/JMA/TPRATE/ensemble_seas_forecasts_tprate_from_2001_03_JMA.netcdf exists already on disk, skipping download and returning path\n",
      "\n",
      "\n",
      "\n",
      "/media/nicolasf/END19101/ICU/data/CDS/operational/hindcasts/METEO_FRANCE/TPRATE/ensemble_seas_forecasts_tprate_from_2001_03_METEO_FRANCE.netcdf exists already on disk, skipping download and returning path\n",
      "\n",
      "\n",
      "/media/nicolasf/END19101/ICU/data/CDS/operational/hindcasts/ECMWF/TPRATE/ensemble_seas_forecasts_tprate_from_2001_03_ECMWF.netcdf exists already on disk, skipping download and returning path\n",
      "\n",
      "\n",
      "/media/nicolasf/END19101/ICU/data/CDS/operational/hindcasts/ECCC_CanCM4i/TPRATE/ensemble_seas_forecasts_tprate_from_2001_03_ECCC.netcdf exists already on disk, skipping download and returning path\n",
      "\n",
      "\n",
      "/media/nicolasf/END19101/ICU/data/CDS/operational/hindcasts/ECCC_GEM_NEMO/TPRATE/ensemble_seas_forecasts_tprate_from_2001_03_ECCC.netcdf exists already on disk, skipping download and returning path\n",
      "\n",
      "\n",
      "/media/nicolasf/END19101/ICU/data/CDS/operational/hindcasts/NCEP/TPRATE/ensemble_seas_forecasts_tprate_from_2001_03_NCEP.netcdf exists already on disk, skipping download and returning path\n",
      "\n",
      "/media/nicolasf/END19101/ICU/data/CDS/operational/hindcasts/UKMO/TPRATE/ensemble_seas_forecasts_tprate_from_2001_03_UKMO.netcdf exists already on disk, skipping download and returning path\n",
      "\n",
      "\n",
      "\n",
      "/media/nicolasf/END19101/ICU/data/CDS/operational/hindcasts/DWD/TPRATE/ensemble_seas_forecasts_tprate_from_2001_03_DWD.netcdf exists already on disk, skipping download and returning path\n",
      "\n",
      "[########################################] | 100% Completed |  0.1s\n",
      "processing ECCC, path should be /media/nicolasf/END19101/ICU/data/CDS/operational/hindcasts/ECCC_GEM_NEMO/TPRATE\n",
      "processing ECCC, path should be /media/nicolasf/END19101/ICU/data/CDS/operational/hindcasts/ECCC_CanCM4i/TPRATE\n",
      "[                                        ] | 0% Completed |  0.0s\n",
      "/media/nicolasf/END19101/ICU/data/CDS/operational/hindcasts/CMCC/TPRATE/ensemble_seas_forecasts_tprate_from_2002_03_CMCC.netcdf exists already on disk, skipping download and returning path\n",
      "\n",
      "\n",
      "/media/nicolasf/END19101/ICU/data/CDS/operational/hindcasts/UKMO/TPRATE/ensemble_seas_forecasts_tprate_from_2002_03_UKMO.netcdf exists already on disk, skipping download and returning path\n",
      "\n",
      "\n",
      "/media/nicolasf/END19101/ICU/data/CDS/operational/hindcasts/ECCC_CanCM4i/TPRATE/ensemble_seas_forecasts_tprate_from_2002_03_ECCC.netcdf exists already on disk, skipping download and returning path\n",
      "\n",
      "/media/nicolasf/END19101/ICU/data/CDS/operational/hindcasts/JMA/TPRATE/ensemble_seas_forecasts_tprate_from_2002_03_JMA.netcdf exists already on disk, skipping download and returning path\n",
      "\n",
      "\n",
      "/media/nicolasf/END19101/ICU/data/CDS/operational/hindcasts/METEO_FRANCE/TPRATE/ensemble_seas_forecasts_tprate_from_2002_03_METEO_FRANCE.netcdf exists already on disk, skipping download and returning path\n",
      "\n",
      "\n",
      "/media/nicolasf/END19101/ICU/data/CDS/operational/hindcasts/NCEP/TPRATE/ensemble_seas_forecasts_tprate_from_2002_03_NCEP.netcdf exists already on disk, skipping download and returning path\n",
      "\n",
      "/media/nicolasf/END19101/ICU/data/CDS/operational/hindcasts/ECCC_GEM_NEMO/TPRATE/ensemble_seas_forecasts_tprate_from_2002_03_ECCC.netcdf exists already on disk, skipping download and returning path\n",
      "\n",
      "/media/nicolasf/END19101/ICU/data/CDS/operational/hindcasts/ECMWF/TPRATE/ensemble_seas_forecasts_tprate_from_2002_03_ECMWF.netcdf exists already on disk, skipping download and returning path\n",
      "\n",
      "\n",
      "\n",
      "\n",
      "/media/nicolasf/END19101/ICU/data/CDS/operational/hindcasts/DWD/TPRATE/ensemble_seas_forecasts_tprate_from_2002_03_DWD.netcdf exists already on disk, skipping download and returning path\n",
      "\n",
      "\n",
      "[########################################] | 100% Completed |  0.1s\n",
      "processing ECCC, path should be /media/nicolasf/END19101/ICU/data/CDS/operational/hindcasts/ECCC_GEM_NEMO/TPRATE\n",
      "processing ECCC, path should be /media/nicolasf/END19101/ICU/data/CDS/operational/hindcasts/ECCC_CanCM4i/TPRATE\n",
      "[                                        ] | 0% Completed |  0.0s\n",
      "/media/nicolasf/END19101/ICU/data/CDS/operational/hindcasts/JMA/TPRATE/ensemble_seas_forecasts_tprate_from_2003_03_JMA.netcdf exists already on disk, skipping download and returning path\n",
      "\n",
      "\n",
      "/media/nicolasf/END19101/ICU/data/CDS/operational/hindcasts/ECCC_GEM_NEMO/TPRATE/ensemble_seas_forecasts_tprate_from_2003_03_ECCC.netcdf exists already on disk, skipping download and returning path\n",
      "\n",
      "/media/nicolasf/END19101/ICU/data/CDS/operational/hindcasts/DWD/TPRATE/ensemble_seas_forecasts_tprate_from_2003_03_DWD.netcdf exists already on disk, skipping download and returning path\n",
      "\n",
      "\n",
      "\n",
      "/media/nicolasf/END19101/ICU/data/CDS/operational/hindcasts/ECCC_CanCM4i/TPRATE/ensemble_seas_forecasts_tprate_from_2003_03_ECCC.netcdf exists already on disk, skipping download and returning path\n",
      "\n",
      "/media/nicolasf/END19101/ICU/data/CDS/operational/hindcasts/UKMO/TPRATE/ensemble_seas_forecasts_tprate_from_2003_03_UKMO.netcdf exists already on disk, skipping download and returning path\n",
      "\n",
      "\n",
      "/media/nicolasf/END19101/ICU/data/CDS/operational/hindcasts/CMCC/TPRATE/ensemble_seas_forecasts_tprate_from_2003_03_CMCC.netcdf exists already on disk, skipping download and returning path\n",
      "\n",
      "\n",
      "/media/nicolasf/END19101/ICU/data/CDS/operational/hindcasts/METEO_FRANCE/TPRATE/ensemble_seas_forecasts_tprate_from_2003_03_METEO_FRANCE.netcdf exists already on disk, skipping download and returning path\n",
      "\n",
      "\n",
      "\n",
      "/media/nicolasf/END19101/ICU/data/CDS/operational/hindcasts/ECMWF/TPRATE/ensemble_seas_forecasts_tprate_from_2003_03_ECMWF.netcdf exists already on disk, skipping download and returning path\n",
      "\n",
      "/media/nicolasf/END19101/ICU/data/CDS/operational/hindcasts/NCEP/TPRATE/ensemble_seas_forecasts_tprate_from_2003_03_NCEP.netcdf exists already on disk, skipping download and returning path\n",
      "\n",
      "\n",
      "[########################################] | 100% Completed |  0.1s\n",
      "processing ECCC, path should be /media/nicolasf/END19101/ICU/data/CDS/operational/hindcasts/ECCC_GEM_NEMO/TPRATE\n",
      "processing ECCC, path should be /media/nicolasf/END19101/ICU/data/CDS/operational/hindcasts/ECCC_CanCM4i/TPRATE\n",
      "[                                        ] | 0% Completed |  0.0s\n",
      "/media/nicolasf/END19101/ICU/data/CDS/operational/hindcasts/NCEP/TPRATE/ensemble_seas_forecasts_tprate_from_2004_03_NCEP.netcdf exists already on disk, skipping download and returning path\n",
      "\n",
      "/media/nicolasf/END19101/ICU/data/CDS/operational/hindcasts/METEO_FRANCE/TPRATE/ensemble_seas_forecasts_tprate_from_2004_03_METEO_FRANCE.netcdf exists already on disk, skipping download and returning path\n",
      "\n",
      "\n",
      "\n",
      "/media/nicolasf/END19101/ICU/data/CDS/operational/hindcasts/ECCC_CanCM4i/TPRATE/ensemble_seas_forecasts_tprate_from_2004_03_ECCC.netcdf exists already on disk, skipping download and returning path\n",
      "\n",
      "\n",
      "/media/nicolasf/END19101/ICU/data/CDS/operational/hindcasts/DWD/TPRATE/ensemble_seas_forecasts_tprate_from_2004_03_DWD.netcdf exists already on disk, skipping download and returning path\n",
      "\n",
      "\n",
      "/media/nicolasf/END19101/ICU/data/CDS/operational/hindcasts/CMCC/TPRATE/ensemble_seas_forecasts_tprate_from_2004_03_CMCC.netcdf exists already on disk, skipping download and returning path\n",
      "\n",
      "\n",
      "/media/nicolasf/END19101/ICU/data/CDS/operational/hindcasts/ECMWF/TPRATE/ensemble_seas_forecasts_tprate_from_2004_03_ECMWF.netcdf exists already on disk, skipping download and returning path\n",
      "\n",
      "/media/nicolasf/END19101/ICU/data/CDS/operational/hindcasts/UKMO/TPRATE/ensemble_seas_forecasts_tprate_from_2004_03_UKMO.netcdf exists already on disk, skipping download and returning path\n",
      "\n",
      "\n",
      "/media/nicolasf/END19101/ICU/data/CDS/operational/hindcasts/JMA/TPRATE/ensemble_seas_forecasts_tprate_from_2004_03_JMA.netcdf exists already on disk, skipping download and returning path\n",
      "\n",
      "\n",
      "/media/nicolasf/END19101/ICU/data/CDS/operational/hindcasts/ECCC_GEM_NEMO/TPRATE/ensemble_seas_forecasts_tprate_from_2004_03_ECCC.netcdf exists already on disk, skipping download and returning path\n",
      "\n",
      "\n",
      "[########################################] | 100% Completed |  0.1s\n",
      "processing ECCC, path should be /media/nicolasf/END19101/ICU/data/CDS/operational/hindcasts/ECCC_GEM_NEMO/TPRATE\n",
      "processing ECCC, path should be /media/nicolasf/END19101/ICU/data/CDS/operational/hindcasts/ECCC_CanCM4i/TPRATE\n",
      "[                                        ] | 0% Completed |  0.0s\n",
      "/media/nicolasf/END19101/ICU/data/CDS/operational/hindcasts/JMA/TPRATE/ensemble_seas_forecasts_tprate_from_2005_03_JMA.netcdf exists already on disk, skipping download and returning path\n",
      "\n",
      "/media/nicolasf/END19101/ICU/data/CDS/operational/hindcasts/ECMWF/TPRATE/ensemble_seas_forecasts_tprate_from_2005_03_ECMWF.netcdf exists already on disk, skipping download and returning path\n",
      "\n",
      "\n",
      "/media/nicolasf/END19101/ICU/data/CDS/operational/hindcasts/ECCC_CanCM4i/TPRATE/ensemble_seas_forecasts_tprate_from_2005_03_ECCC.netcdf exists already on disk, skipping download and returning path\n",
      "\n",
      "\n",
      "/media/nicolasf/END19101/ICU/data/CDS/operational/hindcasts/ECCC_GEM_NEMO/TPRATE/ensemble_seas_forecasts_tprate_from_2005_03_ECCC.netcdf exists already on disk, skipping download and returning path\n",
      "\n",
      "\n",
      "/media/nicolasf/END19101/ICU/data/CDS/operational/hindcasts/DWD/TPRATE/ensemble_seas_forecasts_tprate_from_2005_03_DWD.netcdf exists already on disk, skipping download and returning path\n",
      "\n",
      "/media/nicolasf/END19101/ICU/data/CDS/operational/hindcasts/NCEP/TPRATE/ensemble_seas_forecasts_tprate_from_2005_03_NCEP.netcdf exists already on disk, skipping download and returning path\n",
      "\n",
      "\n",
      "\n",
      "\n",
      "/media/nicolasf/END19101/ICU/data/CDS/operational/hindcasts/UKMO/TPRATE/ensemble_seas_forecasts_tprate_from_2005_03_UKMO.netcdf exists already on disk, skipping download and returning path\n",
      "\n",
      "/media/nicolasf/END19101/ICU/data/CDS/operational/hindcasts/METEO_FRANCE/TPRATE/ensemble_seas_forecasts_tprate_from_2005_03_METEO_FRANCE.netcdf exists already on disk, skipping download and returning path\n",
      "\n",
      "/media/nicolasf/END19101/ICU/data/CDS/operational/hindcasts/CMCC/TPRATE/ensemble_seas_forecasts_tprate_from_2005_03_CMCC.netcdf exists already on disk, skipping download and returning path\n",
      "\n",
      "\n",
      "\n",
      "[########################################] | 100% Completed |  0.1s\n",
      "processing ECCC, path should be /media/nicolasf/END19101/ICU/data/CDS/operational/hindcasts/ECCC_GEM_NEMO/TPRATE\n",
      "processing ECCC, path should be /media/nicolasf/END19101/ICU/data/CDS/operational/hindcasts/ECCC_CanCM4i/TPRATE\n",
      "[                                        ] | 0% Completed |  0.0s\n",
      "/media/nicolasf/END19101/ICU/data/CDS/operational/hindcasts/NCEP/TPRATE/ensemble_seas_forecasts_tprate_from_2006_03_NCEP.netcdf exists already on disk, skipping download and returning path\n",
      "\n",
      "/media/nicolasf/END19101/ICU/data/CDS/operational/hindcasts/ECMWF/TPRATE/ensemble_seas_forecasts_tprate_from_2006_03_ECMWF.netcdf exists already on disk, skipping download and returning path\n",
      "\n",
      "\n",
      "/media/nicolasf/END19101/ICU/data/CDS/operational/hindcasts/JMA/TPRATE/ensemble_seas_forecasts_tprate_from_2006_03_JMA.netcdf exists already on disk, skipping download and returning path\n",
      "\n",
      "\n",
      "/media/nicolasf/END19101/ICU/data/CDS/operational/hindcasts/ECCC_CanCM4i/TPRATE/ensemble_seas_forecasts_tprate_from_2006_03_ECCC.netcdf exists already on disk, skipping download and returning path\n",
      "\n",
      "\n",
      "/media/nicolasf/END19101/ICU/data/CDS/operational/hindcasts/METEO_FRANCE/TPRATE/ensemble_seas_forecasts_tprate_from_2006_03_METEO_FRANCE.netcdf exists already on disk, skipping download and returning path\n",
      "\n",
      "\n",
      "/media/nicolasf/END19101/ICU/data/CDS/operational/hindcasts/CMCC/TPRATE/ensemble_seas_forecasts_tprate_from_2006_03_CMCC.netcdf exists already on disk, skipping download and returning path\n",
      "\n",
      "\n",
      "/media/nicolasf/END19101/ICU/data/CDS/operational/hindcasts/UKMO/TPRATE/ensemble_seas_forecasts_tprate_from_2006_03_UKMO.netcdf exists already on disk, skipping download and returning path\n",
      "\n",
      "\n",
      "\n",
      "/media/nicolasf/END19101/ICU/data/CDS/operational/hindcasts/DWD/TPRATE/ensemble_seas_forecasts_tprate_from_2006_03_DWD.netcdf exists already on disk, skipping download and returning path\n",
      "\n",
      "/media/nicolasf/END19101/ICU/data/CDS/operational/hindcasts/ECCC_GEM_NEMO/TPRATE/ensemble_seas_forecasts_tprate_from_2006_03_ECCC.netcdf exists already on disk, skipping download and returning path\n",
      "\n",
      "\n",
      "[########################################] | 100% Completed |  0.1s\n",
      "processing ECCC, path should be /media/nicolasf/END19101/ICU/data/CDS/operational/hindcasts/ECCC_GEM_NEMO/TPRATE\n",
      "processing ECCC, path should be /media/nicolasf/END19101/ICU/data/CDS/operational/hindcasts/ECCC_CanCM4i/TPRATE\n",
      "[                                        ] | 0% Completed |  0.0s\n",
      "/media/nicolasf/END19101/ICU/data/CDS/operational/hindcasts/DWD/TPRATE/ensemble_seas_forecasts_tprate_from_2007_03_DWD.netcdf exists already on disk, skipping download and returning path\n",
      "\n",
      "/media/nicolasf/END19101/ICU/data/CDS/operational/hindcasts/ECCC_CanCM4i/TPRATE/ensemble_seas_forecasts_tprate_from_2007_03_ECCC.netcdf exists already on disk, skipping download and returning path\n",
      "\n",
      "\n",
      "/media/nicolasf/END19101/ICU/data/CDS/operational/hindcasts/ECMWF/TPRATE/ensemble_seas_forecasts_tprate_from_2007_03_ECMWF.netcdf exists already on disk, skipping download and returning path\n",
      "\n",
      "\n",
      "/media/nicolasf/END19101/ICU/data/CDS/operational/hindcasts/UKMO/TPRATE/ensemble_seas_forecasts_tprate_from_2007_03_UKMO.netcdf exists already on disk, skipping download and returning path\n",
      "\n",
      "\n",
      "/media/nicolasf/END19101/ICU/data/CDS/operational/hindcasts/ECCC_GEM_NEMO/TPRATE/ensemble_seas_forecasts_tprate_from_2007_03_ECCC.netcdf exists already on disk, skipping download and returning path\n",
      "\n",
      "\n",
      "/media/nicolasf/END19101/ICU/data/CDS/operational/hindcasts/NCEP/TPRATE/ensemble_seas_forecasts_tprate_from_2007_03_NCEP.netcdf exists already on disk, skipping download and returning path\n",
      "\n",
      "\n",
      "\n",
      "/media/nicolasf/END19101/ICU/data/CDS/operational/hindcasts/JMA/TPRATE/ensemble_seas_forecasts_tprate_from_2007_03_JMA.netcdf exists already on disk, skipping download and returning path\n",
      "\n",
      "\n",
      "/media/nicolasf/END19101/ICU/data/CDS/operational/hindcasts/CMCC/TPRATE/ensemble_seas_forecasts_tprate_from_2007_03_CMCC.netcdf exists already on disk, skipping download and returning path\n",
      "\n",
      "/media/nicolasf/END19101/ICU/data/CDS/operational/hindcasts/METEO_FRANCE/TPRATE/ensemble_seas_forecasts_tprate_from_2007_03_METEO_FRANCE.netcdf exists already on disk, skipping download and returning path\n",
      "\n",
      "\n",
      "[########################################] | 100% Completed |  0.1s\n",
      "processing ECCC, path should be /media/nicolasf/END19101/ICU/data/CDS/operational/hindcasts/ECCC_GEM_NEMO/TPRATE\n",
      "processing ECCC, path should be /media/nicolasf/END19101/ICU/data/CDS/operational/hindcasts/ECCC_CanCM4i/TPRATE\n",
      "[                                        ] | 0% Completed |  0.0s\n",
      "/media/nicolasf/END19101/ICU/data/CDS/operational/hindcasts/METEO_FRANCE/TPRATE/ensemble_seas_forecasts_tprate_from_2008_03_METEO_FRANCE.netcdf exists already on disk, skipping download and returning path\n",
      "\n",
      "\n",
      "/media/nicolasf/END19101/ICU/data/CDS/operational/hindcasts/UKMO/TPRATE/ensemble_seas_forecasts_tprate_from_2008_03_UKMO.netcdf exists already on disk, skipping download and returning path\n",
      "\n",
      "\n",
      "/media/nicolasf/END19101/ICU/data/CDS/operational/hindcasts/ECCC_GEM_NEMO/TPRATE/ensemble_seas_forecasts_tprate_from_2008_03_ECCC.netcdf exists already on disk, skipping download and returning path\n",
      "\n",
      "/media/nicolasf/END19101/ICU/data/CDS/operational/hindcasts/NCEP/TPRATE/ensemble_seas_forecasts_tprate_from_2008_03_NCEP.netcdf exists already on disk, skipping download and returning path\n",
      "\n",
      "\n",
      "\n",
      "/media/nicolasf/END19101/ICU/data/CDS/operational/hindcasts/ECCC_CanCM4i/TPRATE/ensemble_seas_forecasts_tprate_from_2008_03_ECCC.netcdf exists already on disk, skipping download and returning path\n",
      "\n",
      "\n",
      "/media/nicolasf/END19101/ICU/data/CDS/operational/hindcasts/CMCC/TPRATE/ensemble_seas_forecasts_tprate_from_2008_03_CMCC.netcdf exists already on disk, skipping download and returning path\n",
      "\n",
      "/media/nicolasf/END19101/ICU/data/CDS/operational/hindcasts/JMA/TPRATE/ensemble_seas_forecasts_tprate_from_2008_03_JMA.netcdf exists already on disk, skipping download and returning path\n",
      "\n",
      "\n",
      "\n",
      "/media/nicolasf/END19101/ICU/data/CDS/operational/hindcasts/DWD/TPRATE/ensemble_seas_forecasts_tprate_from_2008_03_DWD.netcdf exists already on disk, skipping download and returning path\n",
      "\n",
      "/media/nicolasf/END19101/ICU/data/CDS/operational/hindcasts/ECMWF/TPRATE/ensemble_seas_forecasts_tprate_from_2008_03_ECMWF.netcdf exists already on disk, skipping download and returning path\n",
      "\n",
      "\n",
      "[########################################] | 100% Completed |  0.1s\n",
      "processing ECCC, path should be /media/nicolasf/END19101/ICU/data/CDS/operational/hindcasts/ECCC_GEM_NEMO/TPRATE\n",
      "processing ECCC, path should be /media/nicolasf/END19101/ICU/data/CDS/operational/hindcasts/ECCC_CanCM4i/TPRATE\n",
      "[                                        ] | 0% Completed |  0.0s\n",
      "/media/nicolasf/END19101/ICU/data/CDS/operational/hindcasts/JMA/TPRATE/ensemble_seas_forecasts_tprate_from_2009_03_JMA.netcdf exists already on disk, skipping download and returning path\n",
      "\n",
      "\n",
      "/media/nicolasf/END19101/ICU/data/CDS/operational/hindcasts/CMCC/TPRATE/ensemble_seas_forecasts_tprate_from_2009_03_CMCC.netcdf exists already on disk, skipping download and returning path\n",
      "\n",
      "\n",
      "/media/nicolasf/END19101/ICU/data/CDS/operational/hindcasts/METEO_FRANCE/TPRATE/ensemble_seas_forecasts_tprate_from_2009_03_METEO_FRANCE.netcdf exists already on disk, skipping download and returning path\n",
      "\n",
      "\n",
      "/media/nicolasf/END19101/ICU/data/CDS/operational/hindcasts/DWD/TPRATE/ensemble_seas_forecasts_tprate_from_2009_03_DWD.netcdf exists already on disk, skipping download and returning path\n",
      "\n",
      "\n",
      "/media/nicolasf/END19101/ICU/data/CDS/operational/hindcasts/UKMO/TPRATE/ensemble_seas_forecasts_tprate_from_2009_03_UKMO.netcdf exists already on disk, skipping download and returning path\n",
      "\n",
      "/media/nicolasf/END19101/ICU/data/CDS/operational/hindcasts/ECMWF/TPRATE/ensemble_seas_forecasts_tprate_from_2009_03_ECMWF.netcdf exists already on disk, skipping download and returning path\n",
      "\n",
      "\n",
      "/media/nicolasf/END19101/ICU/data/CDS/operational/hindcasts/ECCC_GEM_NEMO/TPRATE/ensemble_seas_forecasts_tprate_from_2009_03_ECCC.netcdf exists already on disk, skipping download and returning path\n",
      "\n",
      "\n",
      "/media/nicolasf/END19101/ICU/data/CDS/operational/hindcasts/NCEP/TPRATE/ensemble_seas_forecasts_tprate_from_2009_03_NCEP.netcdf exists already on disk, skipping download and returning path\n",
      "\n",
      "\n",
      "/media/nicolasf/END19101/ICU/data/CDS/operational/hindcasts/ECCC_CanCM4i/TPRATE/ensemble_seas_forecasts_tprate_from_2009_03_ECCC.netcdf exists already on disk, skipping download and returning path\n",
      "\n",
      "\n",
      "[########################################] | 100% Completed |  0.1s\n",
      "processing ECCC, path should be /media/nicolasf/END19101/ICU/data/CDS/operational/hindcasts/ECCC_GEM_NEMO/TPRATE\n",
      "processing ECCC, path should be /media/nicolasf/END19101/ICU/data/CDS/operational/hindcasts/ECCC_CanCM4i/TPRATE\n",
      "[                                        ] | 0% Completed |  0.0s\n",
      "/media/nicolasf/END19101/ICU/data/CDS/operational/hindcasts/ECCC_CanCM4i/TPRATE/ensemble_seas_forecasts_tprate_from_2010_03_ECCC.netcdf exists already on disk, skipping download and returning path\n",
      "\n",
      "\n",
      "/media/nicolasf/END19101/ICU/data/CDS/operational/hindcasts/CMCC/TPRATE/ensemble_seas_forecasts_tprate_from_2010_03_CMCC.netcdf exists already on disk, skipping download and returning path\n",
      "\n",
      "\n",
      "/media/nicolasf/END19101/ICU/data/CDS/operational/hindcasts/ECMWF/TPRATE/ensemble_seas_forecasts_tprate_from_2010_03_ECMWF.netcdf exists already on disk, skipping download and returning path\n",
      "\n",
      "\n",
      "/media/nicolasf/END19101/ICU/data/CDS/operational/hindcasts/JMA/TPRATE/ensemble_seas_forecasts_tprate_from_2010_03_JMA.netcdf exists already on disk, skipping download and returning path\n",
      "\n",
      "/media/nicolasf/END19101/ICU/data/CDS/operational/hindcasts/UKMO/TPRATE/ensemble_seas_forecasts_tprate_from_2010_03_UKMO.netcdf exists already on disk, skipping download and returning path\n",
      "\n",
      "/media/nicolasf/END19101/ICU/data/CDS/operational/hindcasts/ECCC_GEM_NEMO/TPRATE/ensemble_seas_forecasts_tprate_from_2010_03_ECCC.netcdf exists already on disk, skipping download and returning path\n",
      "\n",
      "\n",
      "\n",
      "\n",
      "/media/nicolasf/END19101/ICU/data/CDS/operational/hindcasts/METEO_FRANCE/TPRATE/ensemble_seas_forecasts_tprate_from_2010_03_METEO_FRANCE.netcdf exists already on disk, skipping download and returning path\n",
      "\n",
      "/media/nicolasf/END19101/ICU/data/CDS/operational/hindcasts/NCEP/TPRATE/ensemble_seas_forecasts_tprate_from_2010_03_NCEP.netcdf exists already on disk, skipping download and returning path\n",
      "\n",
      "\n",
      "\n",
      "/media/nicolasf/END19101/ICU/data/CDS/operational/hindcasts/DWD/TPRATE/ensemble_seas_forecasts_tprate_from_2010_03_DWD.netcdf exists already on disk, skipping download and returning path\n",
      "\n",
      "[########################################] | 100% Completed |  0.1s\n",
      "processing ECCC, path should be /media/nicolasf/END19101/ICU/data/CDS/operational/hindcasts/ECCC_GEM_NEMO/TPRATE\n",
      "processing ECCC, path should be /media/nicolasf/END19101/ICU/data/CDS/operational/hindcasts/ECCC_CanCM4i/TPRATE\n",
      "[                                        ] | 0% Completed |  0.0s\n",
      "/media/nicolasf/END19101/ICU/data/CDS/operational/hindcasts/UKMO/TPRATE/ensemble_seas_forecasts_tprate_from_2011_03_UKMO.netcdf exists already on disk, skipping download and returning path\n",
      "\n",
      "/media/nicolasf/END19101/ICU/data/CDS/operational/hindcasts/NCEP/TPRATE/ensemble_seas_forecasts_tprate_from_2011_03_NCEP.netcdf exists already on disk, skipping download and returning path\n",
      "\n",
      "\n",
      "\n",
      "/media/nicolasf/END19101/ICU/data/CDS/operational/hindcasts/ECCC_CanCM4i/TPRATE/ensemble_seas_forecasts_tprate_from_2011_03_ECCC.netcdf exists already on disk, skipping download and returning path\n",
      "\n",
      "/media/nicolasf/END19101/ICU/data/CDS/operational/hindcasts/ECMWF/TPRATE/ensemble_seas_forecasts_tprate_from_2011_03_ECMWF.netcdf exists already on disk, skipping download and returning path\n",
      "\n",
      "\n",
      "\n",
      "/media/nicolasf/END19101/ICU/data/CDS/operational/hindcasts/ECCC_GEM_NEMO/TPRATE/ensemble_seas_forecasts_tprate_from_2011_03_ECCC.netcdf exists already on disk, skipping download and returning path\n",
      "\n",
      "\n",
      "/media/nicolasf/END19101/ICU/data/CDS/operational/hindcasts/METEO_FRANCE/TPRATE/ensemble_seas_forecasts_tprate_from_2011_03_METEO_FRANCE.netcdf exists already on disk, skipping download and returning path\n",
      "\n",
      "/media/nicolasf/END19101/ICU/data/CDS/operational/hindcasts/CMCC/TPRATE/ensemble_seas_forecasts_tprate_from_2011_03_CMCC.netcdf exists already on disk, skipping download and returning path\n",
      "\n",
      "\n",
      "\n",
      "/media/nicolasf/END19101/ICU/data/CDS/operational/hindcasts/DWD/TPRATE/ensemble_seas_forecasts_tprate_from_2011_03_DWD.netcdf exists already on disk, skipping download and returning path\n",
      "\n",
      "/media/nicolasf/END19101/ICU/data/CDS/operational/hindcasts/JMA/TPRATE/ensemble_seas_forecasts_tprate_from_2011_03_JMA.netcdf exists already on disk, skipping download and returning path\n",
      "\n",
      "\n",
      "[########################################] | 100% Completed |  0.1s\n",
      "processing ECCC, path should be /media/nicolasf/END19101/ICU/data/CDS/operational/hindcasts/ECCC_GEM_NEMO/TPRATE\n",
      "processing ECCC, path should be /media/nicolasf/END19101/ICU/data/CDS/operational/hindcasts/ECCC_CanCM4i/TPRATE\n",
      "[                                        ] | 0% Completed |  0.0s\n",
      "/media/nicolasf/END19101/ICU/data/CDS/operational/hindcasts/ECMWF/TPRATE/ensemble_seas_forecasts_tprate_from_2012_03_ECMWF.netcdf exists already on disk, skipping download and returning path\n",
      "\n",
      "/media/nicolasf/END19101/ICU/data/CDS/operational/hindcasts/ECCC_GEM_NEMO/TPRATE/ensemble_seas_forecasts_tprate_from_2012_03_ECCC.netcdf exists already on disk, skipping download and returning path\n",
      "\n",
      "\n",
      "/media/nicolasf/END19101/ICU/data/CDS/operational/hindcasts/METEO_FRANCE/TPRATE/ensemble_seas_forecasts_tprate_from_2012_03_METEO_FRANCE.netcdf exists already on disk, skipping download and returning path\n",
      "\n",
      "\n",
      "/media/nicolasf/END19101/ICU/data/CDS/operational/hindcasts/DWD/TPRATE/ensemble_seas_forecasts_tprate_from_2012_03_DWD.netcdf exists already on disk, skipping download and returning path\n",
      "\n",
      "\n",
      "\n",
      "/media/nicolasf/END19101/ICU/data/CDS/operational/hindcasts/UKMO/TPRATE/ensemble_seas_forecasts_tprate_from_2012_03_UKMO.netcdf exists already on disk, skipping download and returning path\n",
      "\n",
      "\n",
      "/media/nicolasf/END19101/ICU/data/CDS/operational/hindcasts/JMA/TPRATE/ensemble_seas_forecasts_tprate_from_2012_03_JMA.netcdf exists already on disk, skipping download and returning path\n",
      "\n",
      "\n",
      "/media/nicolasf/END19101/ICU/data/CDS/operational/hindcasts/NCEP/TPRATE/ensemble_seas_forecasts_tprate_from_2012_03_NCEP.netcdf exists already on disk, skipping download and returning path\n",
      "\n",
      "\n",
      "/media/nicolasf/END19101/ICU/data/CDS/operational/hindcasts/ECCC_CanCM4i/TPRATE/ensemble_seas_forecasts_tprate_from_2012_03_ECCC.netcdf exists already on disk, skipping download and returning path\n",
      "\n",
      "/media/nicolasf/END19101/ICU/data/CDS/operational/hindcasts/CMCC/TPRATE/ensemble_seas_forecasts_tprate_from_2012_03_CMCC.netcdf exists already on disk, skipping download and returning path\n",
      "\n",
      "\n",
      "[########################################] | 100% Completed |  0.1s\n",
      "processing ECCC, path should be /media/nicolasf/END19101/ICU/data/CDS/operational/hindcasts/ECCC_GEM_NEMO/TPRATE\n",
      "processing ECCC, path should be /media/nicolasf/END19101/ICU/data/CDS/operational/hindcasts/ECCC_CanCM4i/TPRATE\n",
      "[                                        ] | 0% Completed |  0.0s\n",
      "/media/nicolasf/END19101/ICU/data/CDS/operational/hindcasts/ECCC_CanCM4i/TPRATE/ensemble_seas_forecasts_tprate_from_2013_03_ECCC.netcdf exists already on disk, skipping download and returning path\n",
      "\n",
      "/media/nicolasf/END19101/ICU/data/CDS/operational/hindcasts/JMA/TPRATE/ensemble_seas_forecasts_tprate_from_2013_03_JMA.netcdf exists already on disk, skipping download and returning path\n",
      "\n",
      "\n",
      "/media/nicolasf/END19101/ICU/data/CDS/operational/hindcasts/METEO_FRANCE/TPRATE/ensemble_seas_forecasts_tprate_from_2013_03_METEO_FRANCE.netcdf exists already on disk, skipping download and returning path\n",
      "\n",
      "\n",
      "/media/nicolasf/END19101/ICU/data/CDS/operational/hindcasts/NCEP/TPRATE/ensemble_seas_forecasts_tprate_from_2013_03_NCEP.netcdf exists already on disk, skipping download and returning path\n",
      "\n",
      "\n",
      "/media/nicolasf/END19101/ICU/data/CDS/operational/hindcasts/UKMO/TPRATE/ensemble_seas_forecasts_tprate_from_2013_03_UKMO.netcdf exists already on disk, skipping download and returning path\n",
      "\n",
      "\n",
      "/media/nicolasf/END19101/ICU/data/CDS/operational/hindcasts/ECCC_GEM_NEMO/TPRATE/ensemble_seas_forecasts_tprate_from_2013_03_ECCC.netcdf exists already on disk, skipping download and returning path\n",
      "\n",
      "\n",
      "\n",
      "/media/nicolasf/END19101/ICU/data/CDS/operational/hindcasts/DWD/TPRATE/ensemble_seas_forecasts_tprate_from_2013_03_DWD.netcdf exists already on disk, skipping download and returning path\n",
      "\n",
      "/media/nicolasf/END19101/ICU/data/CDS/operational/hindcasts/CMCC/TPRATE/ensemble_seas_forecasts_tprate_from_2013_03_CMCC.netcdf exists already on disk, skipping download and returning path\n",
      "\n",
      "\n",
      "\n",
      "/media/nicolasf/END19101/ICU/data/CDS/operational/hindcasts/ECMWF/TPRATE/ensemble_seas_forecasts_tprate_from_2013_03_ECMWF.netcdf exists already on disk, skipping download and returning path\n",
      "\n",
      "[########################################] | 100% Completed |  0.1s\n",
      "processing ECCC, path should be /media/nicolasf/END19101/ICU/data/CDS/operational/hindcasts/ECCC_GEM_NEMO/TPRATE\n",
      "processing ECCC, path should be /media/nicolasf/END19101/ICU/data/CDS/operational/hindcasts/ECCC_CanCM4i/TPRATE\n",
      "[                                        ] | 0% Completed |  0.0s\n",
      "/media/nicolasf/END19101/ICU/data/CDS/operational/hindcasts/JMA/TPRATE/ensemble_seas_forecasts_tprate_from_2014_03_JMA.netcdf exists already on disk, skipping download and returning path\n",
      "\n",
      "\n",
      "/media/nicolasf/END19101/ICU/data/CDS/operational/hindcasts/ECMWF/TPRATE/ensemble_seas_forecasts_tprate_from_2014_03_ECMWF.netcdf exists already on disk, skipping download and returning path\n",
      "\n",
      "\n",
      "/media/nicolasf/END19101/ICU/data/CDS/operational/hindcasts/DWD/TPRATE/ensemble_seas_forecasts_tprate_from_2014_03_DWD.netcdf exists already on disk, skipping download and returning path\n",
      "\n",
      "/media/nicolasf/END19101/ICU/data/CDS/operational/hindcasts/CMCC/TPRATE/ensemble_seas_forecasts_tprate_from_2014_03_CMCC.netcdf exists already on disk, skipping download and returning path\n",
      "\n",
      "\n",
      "\n",
      "/media/nicolasf/END19101/ICU/data/CDS/operational/hindcasts/ECCC_GEM_NEMO/TPRATE/ensemble_seas_forecasts_tprate_from_2014_03_ECCC.netcdf exists already on disk, skipping download and returning path\n",
      "\n",
      "/media/nicolasf/END19101/ICU/data/CDS/operational/hindcasts/NCEP/TPRATE/ensemble_seas_forecasts_tprate_from_2014_03_NCEP.netcdf exists already on disk, skipping download and returning path\n",
      "\n",
      "/media/nicolasf/END19101/ICU/data/CDS/operational/hindcasts/ECCC_CanCM4i/TPRATE/ensemble_seas_forecasts_tprate_from_2014_03_ECCC.netcdf exists already on disk, skipping download and returning path\n",
      "\n",
      "\n",
      "\n",
      "/media/nicolasf/END19101/ICU/data/CDS/operational/hindcasts/UKMO/TPRATE/ensemble_seas_forecasts_tprate_from_2014_03_UKMO.netcdf exists already on disk, skipping download and returning path\n",
      "\n",
      "\n",
      "/media/nicolasf/END19101/ICU/data/CDS/operational/hindcasts/METEO_FRANCE/TPRATE/ensemble_seas_forecasts_tprate_from_2014_03_METEO_FRANCE.netcdf exists already on disk, skipping download and returning path\n",
      "\n",
      "\n",
      "[########################################] | 100% Completed |  0.1s\n",
      "processing ECCC, path should be /media/nicolasf/END19101/ICU/data/CDS/operational/hindcasts/ECCC_GEM_NEMO/TPRATE\n",
      "processing ECCC, path should be /media/nicolasf/END19101/ICU/data/CDS/operational/hindcasts/ECCC_CanCM4i/TPRATE\n",
      "[                                        ] | 0% Completed |  0.0s\n",
      "/media/nicolasf/END19101/ICU/data/CDS/operational/hindcasts/UKMO/TPRATE/ensemble_seas_forecasts_tprate_from_2015_03_UKMO.netcdf exists already on disk, skipping download and returning path\n",
      "\n",
      "\n",
      "/media/nicolasf/END19101/ICU/data/CDS/operational/hindcasts/DWD/TPRATE/ensemble_seas_forecasts_tprate_from_2015_03_DWD.netcdf exists already on disk, skipping download and returning path\n",
      "\n",
      "/media/nicolasf/END19101/ICU/data/CDS/operational/hindcasts/CMCC/TPRATE/ensemble_seas_forecasts_tprate_from_2015_03_CMCC.netcdf exists already on disk, skipping download and returning path\n",
      "\n",
      "/media/nicolasf/END19101/ICU/data/CDS/operational/hindcasts/ECCC_GEM_NEMO/TPRATE/ensemble_seas_forecasts_tprate_from_2015_03_ECCC.netcdf exists already on disk, skipping download and returning path\n",
      "\n",
      "/media/nicolasf/END19101/ICU/data/CDS/operational/hindcasts/METEO_FRANCE/TPRATE/ensemble_seas_forecasts_tprate_from_2015_03_METEO_FRANCE.netcdf exists already on disk, skipping download and returning path\n",
      "\n",
      "\n",
      "/media/nicolasf/END19101/ICU/data/CDS/operational/hindcasts/JMA/TPRATE/ensemble_seas_forecasts_tprate_from_2015_03_JMA.netcdf exists already on disk, skipping download and returning path\n",
      "\n",
      "\n",
      "\n",
      "/media/nicolasf/END19101/ICU/data/CDS/operational/hindcasts/ECCC_CanCM4i/TPRATE/ensemble_seas_forecasts_tprate_from_2015_03_ECCC.netcdf exists already on disk, skipping download and returning path\n",
      "\n",
      "\n",
      "\n",
      "/media/nicolasf/END19101/ICU/data/CDS/operational/hindcasts/ECMWF/TPRATE/ensemble_seas_forecasts_tprate_from_2015_03_ECMWF.netcdf exists already on disk, skipping download and returning path\n",
      "\n",
      "\n",
      "/media/nicolasf/END19101/ICU/data/CDS/operational/hindcasts/NCEP/TPRATE/ensemble_seas_forecasts_tprate_from_2015_03_NCEP.netcdf exists already on disk, skipping download and returning path\n",
      "\n",
      "\n",
      "[########################################] | 100% Completed |  0.1s\n",
      "processing ECCC, path should be /media/nicolasf/END19101/ICU/data/CDS/operational/hindcasts/ECCC_GEM_NEMO/TPRATE\n",
      "processing ECCC, path should be /media/nicolasf/END19101/ICU/data/CDS/operational/hindcasts/ECCC_CanCM4i/TPRATE\n",
      "[                                        ] | 0% Completed |  0.0s\n",
      "/media/nicolasf/END19101/ICU/data/CDS/operational/hindcasts/ECCC_CanCM4i/TPRATE/ensemble_seas_forecasts_tprate_from_2016_03_ECCC.netcdf exists already on disk, skipping download and returning path\n",
      "\n",
      "/media/nicolasf/END19101/ICU/data/CDS/operational/hindcasts/METEO_FRANCE/TPRATE/ensemble_seas_forecasts_tprate_from_2016_03_METEO_FRANCE.netcdf exists already on disk, skipping download and returning path\n",
      "\n",
      "\n",
      "/media/nicolasf/END19101/ICU/data/CDS/operational/hindcasts/NCEP/TPRATE/ensemble_seas_forecasts_tprate_from_2016_03_NCEP.netcdf exists already on disk, skipping download and returning path\n",
      "\n",
      "\n",
      "/media/nicolasf/END19101/ICU/data/CDS/operational/hindcasts/UKMO/TPRATE/ensemble_seas_forecasts_tprate_from_2016_03_UKMO.netcdf exists already on disk, skipping download and returning path\n",
      "\n",
      "\n",
      "/media/nicolasf/END19101/ICU/data/CDS/operational/hindcasts/JMA/TPRATE/ensemble_seas_forecasts_tprate_from_2016_03_JMA.netcdf exists already on disk, skipping download and returning path\n",
      "\n",
      "\n",
      "/media/nicolasf/END19101/ICU/data/CDS/operational/hindcasts/CMCC/TPRATE/ensemble_seas_forecasts_tprate_from_2016_03_CMCC.netcdf exists already on disk, skipping download and returning path\n",
      "\n",
      "\n",
      "/media/nicolasf/END19101/ICU/data/CDS/operational/hindcasts/DWD/TPRATE/ensemble_seas_forecasts_tprate_from_2016_03_DWD.netcdf exists already on disk, skipping download and returning path\n",
      "\n",
      "\n",
      "\n",
      "/media/nicolasf/END19101/ICU/data/CDS/operational/hindcasts/ECCC_GEM_NEMO/TPRATE/ensemble_seas_forecasts_tprate_from_2016_03_ECCC.netcdf exists already on disk, skipping download and returning path\n",
      "\n",
      "/media/nicolasf/END19101/ICU/data/CDS/operational/hindcasts/ECMWF/TPRATE/ensemble_seas_forecasts_tprate_from_2016_03_ECMWF.netcdf exists already on disk, skipping download and returning path\n",
      "\n",
      "\n",
      "[########################################] | 100% Completed |  0.1s\n"
     ]
    }
   ],
   "source": [
    "for date in dates: \n",
    "    \n",
    "    downloaded_files = []\n",
    "\n",
    "    for GCM in dict_systems.keys():\n",
    "        \n",
    "        if 'ECCC' in GCM: \n",
    "            \n",
    "            GCM_API_name = GCM.split('_')[0]\n",
    "            \n",
    "            GCM_path = gcm_path.joinpath(GCM).joinpath(varname.upper())\n",
    "            \n",
    "            print(f\"processing ECCC, path should be {str(GCM_path)}\")\n",
    "        \n",
    "            args = dict(GCM=GCM_API_name,\n",
    "            system=dict_systems[GCM],\n",
    "            varname=varname,\n",
    "            year=date.year,\n",
    "            month=date.month,\n",
    "            leadtimes=[1, 2, 3, 4, 5, 6],\n",
    "            opath=GCM_path,\n",
    "            domain=domains.domains[domain_name],\n",
    "            file_format='netcdf',\n",
    "            level='surface',\n",
    "            max_retry=3)\n",
    "        \n",
    "        else: \n",
    "\n",
    "            args = dict(GCM=GCM,\n",
    "            system=dict_systems[GCM],\n",
    "            varname=varname,\n",
    "            year=date.year,\n",
    "            month=date.month,\n",
    "            leadtimes=[1, 2, 3, 4, 5, 6],\n",
    "            opath=gcm_path.joinpath(GCM).joinpath(varname.upper()),\n",
    "            domain=domains.domains[domain_name],\n",
    "            file_format='netcdf',\n",
    "            level='surface',\n",
    "            max_retry=3)\n",
    "            \n",
    "\n",
    "        downloaded_files.append(delayed(C3S.download)(**args))\n",
    "\n",
    "    with ProgressBar():\n",
    "        downloaded_files = compute(downloaded_files)"
   ]
  },
  {
   "cell_type": "markdown",
   "id": "c73ccc21-f838-4dd8-a00d-baa068004e32",
   "metadata": {
    "papermill": {
     "duration": null,
     "end_time": null,
     "exception": null,
     "start_time": null,
     "status": "pending"
    },
    "tags": []
   },
   "source": [
    "### convert the notebook to HTML "
   ]
  },
  {
   "cell_type": "markdown",
   "id": "e686fff8-987c-4cdf-aa90-af2624e36fdc",
   "metadata": {},
   "source": [
    "### Note: this does not work with papermill"
   ]
  },
  {
   "cell_type": "code",
   "execution_count": 23,
   "id": "b8bce410-39b2-4152-8e70-b4b2bccc8bd1",
   "metadata": {
    "papermill": {
     "duration": null,
     "end_time": null,
     "exception": null,
     "start_time": null,
     "status": "pending"
    },
    "tags": []
   },
   "outputs": [],
   "source": [
    "# jupyter = which('jupyter')\n",
    "\n",
    "# nb_name = ipynbname.name()\n",
    "\n",
    "# nb_name\n",
    "\n",
    "# cmd = f\"{jupyter} nbconvert --to html {nb_name}.ipynb\"\n",
    "\n",
    "# r = call(cmd, shell=True)"
   ]
  },
  {
   "cell_type": "code",
   "execution_count": null,
   "id": "e17f703f-839e-467f-9e90-27ab9c81860f",
   "metadata": {
    "papermill": {
     "duration": null,
     "end_time": null,
     "exception": null,
     "start_time": null,
     "status": "pending"
    },
    "tags": []
   },
   "outputs": [],
   "source": []
  }
 ],
 "metadata": {
  "kernelspec": {
   "display_name": "Python 3 (ipykernel)",
   "language": "python",
   "name": "python3"
  },
  "language_info": {
   "codemirror_mode": {
    "name": "ipython",
    "version": 3
   },
   "file_extension": ".py",
   "mimetype": "text/x-python",
   "name": "python",
   "nbconvert_exporter": "python",
   "pygments_lexer": "ipython3",
   "version": "3.9.10"
  },
  "papermill": {
   "duration": null,
   "end_time": null,
   "environment_variables": {},
   "exception": null,
   "input_path": "1_download_C3S_rolling_hindcasts.ipynb",
   "output_path": "1_download_C3S_rolling_hindcasts.ipynb",
   "parameters": {
    "lag": 0
   },
   "start_time": "2022-03-15T02:07:18.662459",
   "version": "1.2.1"
  }
 },
 "nbformat": 4,
 "nbformat_minor": 5
}
