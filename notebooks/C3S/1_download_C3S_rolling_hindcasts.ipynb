{
 "cells": [
  {
   "cell_type": "markdown",
   "metadata": {},
   "source": [
    "### download the rolling hindcasts for all GCMs from the Copernicus Climate Datastore"
   ]
  },
  {
   "cell_type": "code",
   "execution_count": 1,
   "metadata": {},
   "outputs": [],
   "source": [
    "%load_ext autoreload\n",
    "%autoreload 2"
   ]
  },
  {
   "cell_type": "code",
   "execution_count": 2,
   "metadata": {
    "papermill": {
     "duration": 0.086706,
     "end_time": "2020-02-06T23:46:40.196481",
     "exception": false,
     "start_time": "2020-02-06T23:46:40.109775",
     "status": "completed"
    },
    "tags": []
   },
   "outputs": [],
   "source": [
    "import sys\n",
    "import pathlib\n",
    "from datetime import datetime\n",
    "from dateutil.relativedelta import relativedelta\n",
    "import dateparser"
   ]
  },
  {
   "cell_type": "code",
   "execution_count": 3,
   "metadata": {},
   "outputs": [],
   "source": [
    "from dask import delayed, compute\n",
    "from dask.diagnostics import ProgressBar"
   ]
  },
  {
   "cell_type": "code",
   "execution_count": 4,
   "metadata": {},
   "outputs": [],
   "source": [
    "import numpy as np"
   ]
  },
  {
   "cell_type": "code",
   "execution_count": 5,
   "metadata": {
    "papermill": {
     "duration": 0.012961,
     "end_time": "2020-02-06T23:46:40.218011",
     "exception": false,
     "start_time": "2020-02-06T23:46:40.205050",
     "status": "completed"
    },
    "tags": []
   },
   "outputs": [],
   "source": [
    "HOME = pathlib.Path.home()"
   ]
  },
  {
   "cell_type": "code",
   "execution_count": 6,
   "metadata": {},
   "outputs": [],
   "source": [
    "CWD = pathlib.Path.cwd()"
   ]
  },
  {
   "cell_type": "code",
   "execution_count": 7,
   "metadata": {},
   "outputs": [
    {
     "data": {
      "text/plain": [
       "PosixPath('/home/nicolasf/operational/ICU/development/hotspots/code/ICU_Water_Watch/notebooks/C3S')"
      ]
     },
     "execution_count": 7,
     "metadata": {},
     "output_type": "execute_result"
    }
   ],
   "source": [
    "CWD"
   ]
  },
  {
   "cell_type": "markdown",
   "metadata": {},
   "source": [
    "### import local functions for the downloading of the C3S forecasts "
   ]
  },
  {
   "cell_type": "code",
   "execution_count": 8,
   "metadata": {},
   "outputs": [],
   "source": [
    "sys.path.append('../..')"
   ]
  },
  {
   "cell_type": "code",
   "execution_count": 9,
   "metadata": {},
   "outputs": [],
   "source": [
    "from ICU_Water_Watch import C3S, domains"
   ]
  },
  {
   "cell_type": "markdown",
   "metadata": {},
   "source": [
    "### parameters for papermill"
   ]
  },
  {
   "cell_type": "code",
   "execution_count": 10,
   "metadata": {
    "tags": [
     "parameters"
    ]
   },
   "outputs": [],
   "source": [
    "provider = 'CDS' # should not change\n",
    "var_name = 'tprate' # should not change\n",
    "domain_name = \"Water_Watch\" # domain name, see below \n",
    "# if one wants to download other reforecasts than the ones corresponding to the current month\n",
    "lag = 0 \n",
    "# path where to save the hindcasts / reforecasts\n",
    "gcm_path = f'/media/nicolasf/END19101/ICU/data/{provider}/operational/hindcasts'"
   ]
  },
  {
   "cell_type": "markdown",
   "metadata": {},
   "source": [
    "### casts the paths to `pathlib.Path` objects "
   ]
  },
  {
   "cell_type": "code",
   "execution_count": 11,
   "metadata": {},
   "outputs": [],
   "source": [
    "gcm_path = pathlib.Path(gcm_path)"
   ]
  },
  {
   "cell_type": "markdown",
   "metadata": {},
   "source": [
    "### mapping GCMs to systems "
   ]
  },
  {
   "cell_type": "markdown",
   "metadata": {},
   "source": [
    "#### The mapping between the GCM name and the latest system version available for the forecasts needs to be checked [on the CDS website](https://cds.climate.copernicus.eu/)"
   ]
  },
  {
   "cell_type": "code",
   "execution_count": 12,
   "metadata": {},
   "outputs": [],
   "source": [
    "from collections import OrderedDict as OD"
   ]
  },
  {
   "cell_type": "code",
   "execution_count": 13,
   "metadata": {},
   "outputs": [],
   "source": [
    "dict_systems = OD(\n",
    "                ECMWF=5, # SEAS5, hindcast complete \n",
    "                UKMO=600, # note: only for system 14 is hindcast complete\n",
    "                METEO_FRANCE=8, # note: only for system 7 is hindcast complete\n",
    "                DWD=21, # GCFS2.1, hindcast complete \n",
    "                CMCC=35, # SPSv3.5, hindcast complete \n",
    "                NCEP=2,# CFSv2, hindcast complete \n",
    "                JMA=2, # CPS2, hindcast complete\n",
    "                ECCC_GEM_NEMO=2, # GEM-NEMO, hindcast incomplete\n",
    "                ECCC_CanCM4i=3, # CanCM4i, hindcast incomplete\n",
    "                )"
   ]
  },
  {
   "cell_type": "markdown",
   "metadata": {},
   "source": [
    "### get today's date "
   ]
  },
  {
   "cell_type": "code",
   "execution_count": 14,
   "metadata": {},
   "outputs": [],
   "source": [
    "date = dateparser.parse('today')"
   ]
  },
  {
   "cell_type": "code",
   "execution_count": 15,
   "metadata": {},
   "outputs": [
    {
     "data": {
      "text/plain": [
       "datetime.datetime(2022, 1, 18, 13, 13, 10, 856461)"
      ]
     },
     "execution_count": 15,
     "metadata": {},
     "output_type": "execute_result"
    }
   ],
   "source": [
    "date"
   ]
  },
  {
   "cell_type": "markdown",
   "metadata": {},
   "source": [
    "### apply lag "
   ]
  },
  {
   "cell_type": "code",
   "execution_count": 16,
   "metadata": {},
   "outputs": [],
   "source": [
    "date = date - relativedelta(months=lag)"
   ]
  },
  {
   "cell_type": "code",
   "execution_count": 17,
   "metadata": {},
   "outputs": [
    {
     "name": "stdout",
     "output_type": "stream",
     "text": [
      "the hindcast data will be downloaded for all re-forecasts initialised in January\n"
     ]
    }
   ],
   "source": [
    "print(f\"the hindcast data will be downloaded for all re-forecasts initialised in {date:%B}\")"
   ]
  },
  {
   "cell_type": "markdown",
   "metadata": {},
   "source": [
    "### generate the dates for the download of the rolling hindcasts "
   ]
  },
  {
   "cell_type": "code",
   "execution_count": 18,
   "metadata": {},
   "outputs": [],
   "source": [
    "dates = [datetime(y, date.month, 1) for y in range(1993, 2016 + 1)]"
   ]
  },
  {
   "cell_type": "code",
   "execution_count": 19,
   "metadata": {},
   "outputs": [
    {
     "data": {
      "text/plain": [
       "[datetime.datetime(1993, 1, 1, 0, 0),\n",
       " datetime.datetime(1994, 1, 1, 0, 0),\n",
       " datetime.datetime(1995, 1, 1, 0, 0),\n",
       " datetime.datetime(1996, 1, 1, 0, 0),\n",
       " datetime.datetime(1997, 1, 1, 0, 0),\n",
       " datetime.datetime(1998, 1, 1, 0, 0),\n",
       " datetime.datetime(1999, 1, 1, 0, 0),\n",
       " datetime.datetime(2000, 1, 1, 0, 0),\n",
       " datetime.datetime(2001, 1, 1, 0, 0),\n",
       " datetime.datetime(2002, 1, 1, 0, 0),\n",
       " datetime.datetime(2003, 1, 1, 0, 0),\n",
       " datetime.datetime(2004, 1, 1, 0, 0),\n",
       " datetime.datetime(2005, 1, 1, 0, 0),\n",
       " datetime.datetime(2006, 1, 1, 0, 0),\n",
       " datetime.datetime(2007, 1, 1, 0, 0),\n",
       " datetime.datetime(2008, 1, 1, 0, 0),\n",
       " datetime.datetime(2009, 1, 1, 0, 0),\n",
       " datetime.datetime(2010, 1, 1, 0, 0),\n",
       " datetime.datetime(2011, 1, 1, 0, 0),\n",
       " datetime.datetime(2012, 1, 1, 0, 0),\n",
       " datetime.datetime(2013, 1, 1, 0, 0),\n",
       " datetime.datetime(2014, 1, 1, 0, 0),\n",
       " datetime.datetime(2015, 1, 1, 0, 0),\n",
       " datetime.datetime(2016, 1, 1, 0, 0)]"
      ]
     },
     "execution_count": 19,
     "metadata": {},
     "output_type": "execute_result"
    }
   ],
   "source": [
    "dates"
   ]
  },
  {
   "cell_type": "markdown",
   "metadata": {},
   "source": [
    "### path to download the rolling hindcasts "
   ]
  },
  {
   "cell_type": "code",
   "execution_count": 20,
   "metadata": {},
   "outputs": [],
   "source": [
    "if not(gcm_path.exists()): \n",
    "    gcm_path.mkdir(parents=True)"
   ]
  },
  {
   "cell_type": "markdown",
   "metadata": {},
   "source": [
    "### Now loops over the dates, creates a dictionnary containing the keywords arguments, and pass to dask for parallel download "
   ]
  },
  {
   "cell_type": "code",
   "execution_count": 21,
   "metadata": {},
   "outputs": [],
   "source": [
    "list_GCMs = ['ECMWF', 'UKMO', 'METEO_FRANCE', 'DWD', 'CMCC', 'NCEP', 'JMA', 'ECCC_CanCM4i', 'ECCC_GEM_NEMO']"
   ]
  },
  {
   "cell_type": "code",
   "execution_count": null,
   "metadata": {},
   "outputs": [],
   "source": [
    "for date in dates: \n",
    "    \n",
    "    downloaded_files = []\n",
    "\n",
    "    for GCM in dict_systems.keys():\n",
    "        \n",
    "        if 'ECCC' in GCM: \n",
    "            \n",
    "            GCM_API_name = GCM.split('_')[0]\n",
    "            GCM_path = gcm_path.joinpath(GCM).joinpath(var_name.upper())\n",
    "            \n",
    "            print(f\"processing ECCC, path should be {str(GCM_path)}\")\n",
    "        \n",
    "            args = dict(GCM=GCM_API_name,\n",
    "            system=dict_systems[GCM],\n",
    "            varname=var_name,\n",
    "            year=date.year,\n",
    "            month=date.month,\n",
    "            leadtimes=[1, 2, 3, 4, 5, 6],\n",
    "            opath=GCM_path,\n",
    "            domain=domains.domains['C3S_download'],\n",
    "            file_format='netcdf',\n",
    "            level='surface',\n",
    "            max_retry=3)\n",
    "        \n",
    "        else: \n",
    "\n",
    "            args = dict(GCM=GCM,\n",
    "            system=dict_systems[GCM],\n",
    "            varname=var_name,\n",
    "            year=date.year,\n",
    "            month=date.month,\n",
    "            leadtimes=[1, 2, 3, 4, 5, 6],\n",
    "            opath=gcm_path.joinpath(GCM).joinpath(var_name.upper()),\n",
    "            domain=domains.domains['C3S_download'],\n",
    "            file_format='netcdf',\n",
    "            level='surface',\n",
    "            max_retry=3)\n",
    "            \n",
    "\n",
    "        downloaded_files.append(delayed(C3S.download)(**args))\n",
    "\n",
    "    with ProgressBar():\n",
    "        downloaded_files = compute(downloaded_files)"
   ]
  },
  {
   "cell_type": "code",
   "execution_count": null,
   "metadata": {},
   "outputs": [],
   "source": []
  },
  {
   "cell_type": "code",
   "execution_count": null,
   "metadata": {},
   "outputs": [],
   "source": []
  }
 ],
 "metadata": {
  "kernelspec": {
   "display_name": "Python 3",
   "language": "python",
   "name": "python3"
  },
  "language_info": {
   "codemirror_mode": {
    "name": "ipython",
    "version": 3
   },
   "file_extension": ".py",
   "mimetype": "text/x-python",
   "name": "python",
   "nbconvert_exporter": "python",
   "pygments_lexer": "ipython3",
   "version": "3.8.10"
  },
  "papermill": {
   "duration": 114.72282,
   "end_time": "2020-02-06T23:48:33.529053",
   "environment_variables": {},
   "exception": null,
   "input_path": "./download_CDS_forecasts.ipynb",
   "output_path": "./download_CDS_forecasts.ipynb",
   "parameters": {
    "GCM": "CMCC",
    "month": 12,
    "var_name": "PRECIP",
    "year": 2018
   },
   "start_time": "2020-02-06T23:46:38.806233",
   "version": "1.2.1"
  }
 },
 "nbformat": 4,
 "nbformat_minor": 4
}
