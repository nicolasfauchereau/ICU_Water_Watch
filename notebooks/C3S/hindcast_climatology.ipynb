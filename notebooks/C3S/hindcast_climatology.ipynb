{
 "cells": [
  {
   "cell_type": "markdown",
   "id": "dc848a92-0993-4d7a-8b8c-59ee5d5e5564",
   "metadata": {},
   "source": [
    "# calculate the leadtime-dependent climatological terciles, deciles and percentiles (0.02, then 0.05 to 0.95 with 0.05 step) from the individual GCMs' hindcast dataset (period 1993 - 2016) "
   ]
  },
  {
   "cell_type": "code",
   "execution_count": 1,
   "id": "d9e3e956-31d5-4606-b762-657a128f93dc",
   "metadata": {},
   "outputs": [],
   "source": [
    "%load_ext autoreload\n",
    "%autoreload 2"
   ]
  },
  {
   "cell_type": "code",
   "execution_count": 2,
   "id": "ec7c9f73-b771-4191-9c46-eb9e2ca266ad",
   "metadata": {},
   "outputs": [],
   "source": [
    "%matplotlib inline\n",
    "\n",
    "### os\n",
    "import os\n",
    "import sys\n",
    "from collections import OrderedDict\n",
    "\n",
    "### datetimes\n",
    "from datetime import datetime, timedelta\n",
    "\n",
    "### scipy\n",
    "import numpy as np\n",
    "import pandas as pd\n",
    "import xarray as xr\n",
    "import geopandas as gpd\n",
    "import cartopy.crs as ccrs\n",
    "import dask\n",
    "from dask.diagnostics import ProgressBar\n",
    "from tqdm import tqdm\n",
    "\n",
    "### plotting\n",
    "from matplotlib import pyplot as plt\n",
    "import matplotlib\n",
    "import seaborn as sns\n"
   ]
  },
  {
   "cell_type": "code",
   "execution_count": 3,
   "id": "0cab9771-20cf-4302-9c84-97580f01d934",
   "metadata": {},
   "outputs": [],
   "source": [
    "import pathlib\n",
    "\n",
    "HOME = pathlib.Path.home()\n",
    "CWD = pathlib.Path.cwd() "
   ]
  },
  {
   "cell_type": "code",
   "execution_count": 4,
   "id": "03b5d899-37d8-48b0-b161-3b5a67d2e116",
   "metadata": {},
   "outputs": [],
   "source": [
    "sys.path.append('../../') "
   ]
  },
  {
   "cell_type": "code",
   "execution_count": 5,
   "id": "d986433d-94b5-41de-b90e-ff762bdcb9c4",
   "metadata": {},
   "outputs": [],
   "source": [
    "from ICU_Water_Watch import geo, C3S, domains, plot"
   ]
  },
  {
   "cell_type": "markdown",
   "id": "ea904f40-803b-439c-ade7-bda5bed7ac2e",
   "metadata": {},
   "source": [
    "### dictionnary holding quantile name and quantile values, they are passed as **lists** to avoid any numerical issues "
   ]
  },
  {
   "cell_type": "code",
   "execution_count": 6,
   "id": "6ccb7b07-f062-4ea7-9f0a-58dd9b082bba",
   "metadata": {},
   "outputs": [],
   "source": [
    "dict_quantiles = OrderedDict()\n",
    "dict_quantiles['tercile'] = [0.3333, 0.6666]\n",
    "dict_quantiles['decile'] = [0.1, 0.2, 0.3, 0.4, 0.5, 0.6, 0.7, 0.8, 0.9]\n",
    "dict_quantiles['percentile'] = [0.02, 0.05, 0.1 , 0.15, 0.2 , 0.25, 0.3 , 0.35, 0.4 , 0.45, 0.5 , 0.55, 0.6 , 0.65, 0.7 , 0.75, 0.8 , 0.85, 0.9 , 0.95] "
   ]
  },
  {
   "cell_type": "markdown",
   "id": "ca1eed61-799e-4262-85e3-d99fa6adb06a",
   "metadata": {},
   "source": [
    "### variables "
   ]
  },
  {
   "cell_type": "markdown",
   "id": "96d0dc8f-a93d-4991-bbe1-7a69f0d8218d",
   "metadata": {},
   "source": [
    "### provider "
   ]
  },
  {
   "cell_type": "code",
   "execution_count": 7,
   "id": "35ece13e-6463-4971-88ad-1c54f83dd48c",
   "metadata": {},
   "outputs": [],
   "source": [
    "provider = 'CDS'"
   ]
  },
  {
   "cell_type": "markdown",
   "id": "7a074e91-ff6d-409b-9edb-99937762be6d",
   "metadata": {},
   "source": [
    "### variable name in the hindcast dataset "
   ]
  },
  {
   "cell_type": "code",
   "execution_count": 8,
   "id": "3b658af6-becd-4299-b8cf-49e1c67b16d0",
   "metadata": {},
   "outputs": [],
   "source": [
    "varname = 'tprate'"
   ]
  },
  {
   "cell_type": "markdown",
   "id": "1c221cf6-f23e-4284-acb5-07a568fc97c8",
   "metadata": {},
   "source": [
    "### period: `monthly` or `seasonal` "
   ]
  },
  {
   "cell_type": "code",
   "execution_count": 9,
   "id": "47da6c59-9ce4-4f54-b8bf-b6972eafdfc0",
   "metadata": {},
   "outputs": [],
   "source": [
    "period = 'seasonal'\n",
    "# period = 'monthly'"
   ]
  },
  {
   "cell_type": "markdown",
   "id": "8315176c-fd03-4d08-b638-8be2681fbc4b",
   "metadata": {},
   "source": [
    "### list of valid GCMs "
   ]
  },
  {
   "cell_type": "code",
   "execution_count": 10,
   "id": "5a92f4fd-17f1-4716-a67a-3584aeacf52d",
   "metadata": {},
   "outputs": [],
   "source": [
    "GCMs = ['ECMWF', 'UKMO', 'METEO_FRANCE', 'DWD', 'CMCC', 'NCEP', 'JMA', 'ECCC']"
   ]
  },
  {
   "cell_type": "markdown",
   "id": "0687480f-9cdd-4fae-a24f-2a4387c6b7f8",
   "metadata": {},
   "source": [
    "### demonstration for one GCM "
   ]
  },
  {
   "cell_type": "code",
   "execution_count": 11,
   "id": "9f5a2f6e-5fcf-4f7f-925d-9fbc6c083ccb",
   "metadata": {},
   "outputs": [],
   "source": [
    "GCM = 'ECMWF'"
   ]
  },
  {
   "cell_type": "markdown",
   "id": "1e5315c7-8f76-4063-9a1a-bbd857a5bdff",
   "metadata": {},
   "source": [
    "### path definition "
   ]
  },
  {
   "cell_type": "markdown",
   "id": "6066e28c-480a-4d4f-a59f-6dd39789ba73",
   "metadata": {},
   "source": [
    "### where to find the GCM hindcast datasets "
   ]
  },
  {
   "cell_type": "code",
   "execution_count": 12,
   "id": "cbcb65ed-7126-4c4b-b7b1-29f7c053f5b1",
   "metadata": {},
   "outputs": [],
   "source": [
    "gcm_path = pathlib.Path(f'/media/nicolasf/END19101/ICU/data/{provider}')"
   ]
  },
  {
   "cell_type": "code",
   "execution_count": 13,
   "id": "33fe9a62-f1e7-40b4-a77b-7d7ddee2b7ca",
   "metadata": {},
   "outputs": [],
   "source": [
    "dpath = gcm_path.joinpath(GCM).joinpath(varname.upper())"
   ]
  },
  {
   "cell_type": "code",
   "execution_count": 14,
   "id": "692494fd-2d87-4d0c-9e6d-1aa8b3d71794",
   "metadata": {},
   "outputs": [
    {
     "name": "stdout",
     "output_type": "stream",
     "text": [
      "/media/nicolasf/END19101/ICU/data/CDS/ECMWF/TPRATE\n"
     ]
    }
   ],
   "source": [
    "print(dpath)"
   ]
  },
  {
   "cell_type": "markdown",
   "id": "e50a87c7-b682-47e8-a894-0ce0910b7065",
   "metadata": {},
   "source": [
    "### where to save the climatologies "
   ]
  },
  {
   "cell_type": "code",
   "execution_count": 15,
   "id": "679005be-3f9c-4f2a-83de-7768c5b917d4",
   "metadata": {},
   "outputs": [],
   "source": [
    "clim_path = gcm_path.joinpath(f'CLIMATOLOGY/{GCM}')"
   ]
  },
  {
   "cell_type": "code",
   "execution_count": 16,
   "id": "a2f7f1dc-078f-4de8-90d5-6f3537a1cb0d",
   "metadata": {},
   "outputs": [
    {
     "data": {
      "text/plain": [
       "PosixPath('/media/nicolasf/END19101/ICU/data/CDS/CLIMATOLOGY/ECMWF')"
      ]
     },
     "execution_count": 16,
     "metadata": {},
     "output_type": "execute_result"
    }
   ],
   "source": [
    "clim_path"
   ]
  },
  {
   "cell_type": "markdown",
   "id": "d47e42f3-1647-4f1b-866f-501481e2dfab",
   "metadata": {},
   "source": [
    "### get the list of files "
   ]
  },
  {
   "cell_type": "code",
   "execution_count": 17,
   "id": "f0b72f90-2b59-45d1-833f-8e47715b9177",
   "metadata": {},
   "outputs": [],
   "source": [
    "lfiles = list(dpath.glob(f\"ensemble_seas_forecasts_{varname}_from_*_{GCM}.netcdf\"))"
   ]
  },
  {
   "cell_type": "code",
   "execution_count": 18,
   "id": "a1e49b09-ad9d-4881-b396-a41abccb3857",
   "metadata": {},
   "outputs": [],
   "source": [
    "lfiles.sort()"
   ]
  },
  {
   "cell_type": "code",
   "execution_count": 19,
   "id": "0ea663ad-65eb-4523-af55-34cec14aee5c",
   "metadata": {},
   "outputs": [
    {
     "data": {
      "text/plain": [
       "PosixPath('/media/nicolasf/END19101/ICU/data/CDS/ECMWF/TPRATE/ensemble_seas_forecasts_tprate_from_1993_01_ECMWF.netcdf')"
      ]
     },
     "execution_count": 19,
     "metadata": {},
     "output_type": "execute_result"
    }
   ],
   "source": [
    "lfiles[0]"
   ]
  },
  {
   "cell_type": "code",
   "execution_count": 20,
   "id": "f05cb729-d357-4ffc-a0d7-f05e84c4edb3",
   "metadata": {},
   "outputs": [
    {
     "data": {
      "text/plain": [
       "PosixPath('/media/nicolasf/END19101/ICU/data/CDS/ECMWF/TPRATE/ensemble_seas_forecasts_tprate_from_2021_04_ECMWF.netcdf')"
      ]
     },
     "execution_count": 20,
     "metadata": {},
     "output_type": "execute_result"
    }
   ],
   "source": [
    "lfiles[-1]"
   ]
  },
  {
   "cell_type": "code",
   "execution_count": 21,
   "id": "9f8ec547-7d72-4cf7-ac6a-ef68a1013548",
   "metadata": {},
   "outputs": [
    {
     "data": {
      "text/plain": [
       "338"
      ]
     },
     "execution_count": 21,
     "metadata": {},
     "output_type": "execute_result"
    }
   ],
   "source": [
    "len(lfiles)"
   ]
  },
  {
   "cell_type": "markdown",
   "id": "a2e165d4-9d23-469b-9085-3aa4f0280eac",
   "metadata": {},
   "source": [
    "### open the multiple files dataset, concatenating over the time dimension, and preprocessing "
   ]
  },
  {
   "cell_type": "code",
   "execution_count": 22,
   "id": "4c877a5a-60b4-44f0-8b3f-e9e1205f20d3",
   "metadata": {},
   "outputs": [],
   "source": [
    "dset = xr.open_mfdataset(lfiles, preprocess=C3S.preprocess_GCM, parallel=True, engine='netcdf4')"
   ]
  },
  {
   "cell_type": "code",
   "execution_count": 23,
   "id": "b7afaa16-4579-4ce1-8c9e-aa2da451b518",
   "metadata": {},
   "outputs": [
    {
     "data": {
      "text/plain": [
       "<bound method Dataset.info of <xarray.Dataset>\n",
       "Dimensions:  (lat: 86, lon: 126, member: 51, step: 5, time: 338)\n",
       "Coordinates:\n",
       "  * member   (member) int64 0 1 2 3 4 5 6 7 8 9 ... 42 43 44 45 46 47 48 49 50\n",
       "  * time     (time) datetime64[ns] 1993-01-01 1993-02-01 ... 2021-04-01\n",
       "  * lon      (lon) float32 120.0 121.0 122.0 123.0 ... 242.0 243.0 244.0 245.0\n",
       "  * lat      (lat) float32 -55.0 -54.0 -53.0 -52.0 -51.0 ... 27.0 28.0 29.0 30.0\n",
       "  * step     (step) int64 1 2 3 4 5\n",
       "Data variables:\n",
       "    tprate   (time, step, member, lat, lon) float32 dask.array<chunksize=(1, 5, 51, 86, 126), meta=np.ndarray>\n",
       "Attributes:\n",
       "    Conventions:  CF-1.6\n",
       "    history:      2021-02-10 19:56:10 GMT by grib_to_netcdf-2.16.0: /opt/ecmw...>"
      ]
     },
     "execution_count": 23,
     "metadata": {},
     "output_type": "execute_result"
    }
   ],
   "source": [
    "dset.info"
   ]
  },
  {
   "cell_type": "markdown",
   "id": "f7bbf7e7-c341-436b-b9db-103fd378dcb0",
   "metadata": {},
   "source": [
    "### selects the hindcast period "
   ]
  },
  {
   "cell_type": "code",
   "execution_count": 24,
   "id": "b543e1a2-5e81-43d0-8bcc-66cd8a1eeedf",
   "metadata": {},
   "outputs": [],
   "source": [
    "dset = dset.sel(time=slice('1993', '2016'))"
   ]
  },
  {
   "cell_type": "markdown",
   "id": "d462983e-c166-4b90-a2cc-26b2f1e7d9cb",
   "metadata": {},
   "source": [
    "### convert to monthly rainfall accumulations (mm/month)"
   ]
  },
  {
   "cell_type": "code",
   "execution_count": 25,
   "id": "6e725dd4-91d0-4246-8d00-6f604b1f489e",
   "metadata": {},
   "outputs": [
    {
     "data": {
      "text/plain": [
       "{'units': 'm s**-1', 'long_name': 'Mean total precipitation rate'}"
      ]
     },
     "execution_count": 25,
     "metadata": {},
     "output_type": "execute_result"
    }
   ],
   "source": [
    "dset.tprate.attrs"
   ]
  },
  {
   "cell_type": "code",
   "execution_count": 26,
   "id": "67d42493-35a0-4658-ad1c-a6818fc91d2b",
   "metadata": {},
   "outputs": [
    {
     "name": "stdout",
     "output_type": "stream",
     "text": [
      "\n",
      "unit is m s**-1, converting to mm/day\n",
      "\n",
      "now converting to mm/month, converted precipitation will be held in var = precip\n"
     ]
    }
   ],
   "source": [
    "dset = C3S.convert_rainfall(dset, varin='tprate', varout='precip', leadvar='step', timevar='time', dropvar=True)"
   ]
  },
  {
   "cell_type": "code",
   "execution_count": 27,
   "id": "4d15bffd-b6c1-49dc-ac3c-428e824a10ca",
   "metadata": {},
   "outputs": [
    {
     "data": {
      "text/plain": [
       "<bound method Dataset.info of <xarray.Dataset>\n",
       "Dimensions:  (lat: 86, lon: 126, member: 51, step: 5, time: 288)\n",
       "Coordinates:\n",
       "  * member   (member) int64 0 1 2 3 4 5 6 7 8 9 ... 42 43 44 45 46 47 48 49 50\n",
       "  * time     (time) datetime64[ns] 1993-01-01 1993-02-01 ... 2016-12-01\n",
       "  * lon      (lon) float32 120.0 121.0 122.0 123.0 ... 242.0 243.0 244.0 245.0\n",
       "  * lat      (lat) float32 -55.0 -54.0 -53.0 -52.0 -51.0 ... 27.0 28.0 29.0 30.0\n",
       "  * step     (step) int64 1 2 3 4 5\n",
       "Data variables:\n",
       "    precip   (time, step, member, lat, lon) float64 dask.array<chunksize=(1, 5, 51, 86, 126), meta=np.ndarray>\n",
       "Attributes:\n",
       "    Conventions:  CF-1.6\n",
       "    history:      2021-02-10 19:56:10 GMT by grib_to_netcdf-2.16.0: /opt/ecmw...>"
      ]
     },
     "execution_count": 27,
     "metadata": {},
     "output_type": "execute_result"
    }
   ],
   "source": [
    "dset.info"
   ]
  },
  {
   "cell_type": "code",
   "execution_count": 28,
   "id": "5c7fe646-bfd6-417e-aaaa-8e0cb0b899c8",
   "metadata": {},
   "outputs": [
    {
     "data": {
      "text/plain": [
       "{'units': 'mm/month'}"
      ]
     },
     "execution_count": 28,
     "metadata": {},
     "output_type": "execute_result"
    }
   ],
   "source": [
    "dset.precip.attrs"
   ]
  },
  {
   "cell_type": "markdown",
   "id": "fd7553f0-3ff3-46f3-bdcd-6e6f48f7abb7",
   "metadata": {},
   "source": [
    "### make sure there are no negative values "
   ]
  },
  {
   "cell_type": "code",
   "execution_count": 29,
   "id": "48667708-24cc-4f51-ab18-3a75e2f28ccd",
   "metadata": {},
   "outputs": [],
   "source": [
    "dset = dset.clip(min=0)"
   ]
  },
  {
   "cell_type": "markdown",
   "id": "a6dd054f-5e96-48e6-b935-80d9ea0f54a2",
   "metadata": {},
   "source": [
    "### if the period is set to seasonal, calculates the seasonal accumulations "
   ]
  },
  {
   "cell_type": "code",
   "execution_count": 30,
   "id": "cc83f98c-909f-44bc-aa14-ef1778a747f5",
   "metadata": {},
   "outputs": [],
   "source": [
    "if period == 'seasonal': \n",
    "    \n",
    "    dset = dset.rolling({'step':3}, min_periods=3).sum('step')\n",
    "    \n",
    "    dset = dset.sel({'step':slice(3, None)})"
   ]
  },
  {
   "cell_type": "code",
   "execution_count": 31,
   "id": "84f4203d-9b4b-4db5-b4a2-174be37b28c5",
   "metadata": {},
   "outputs": [
    {
     "data": {
      "text/plain": [
       "<bound method Dataset.info of <xarray.Dataset>\n",
       "Dimensions:  (lat: 86, lon: 126, member: 51, step: 3, time: 288)\n",
       "Coordinates:\n",
       "  * member   (member) int64 0 1 2 3 4 5 6 7 8 9 ... 42 43 44 45 46 47 48 49 50\n",
       "  * time     (time) datetime64[ns] 1993-01-01 1993-02-01 ... 2016-12-01\n",
       "  * lon      (lon) float32 120.0 121.0 122.0 123.0 ... 242.0 243.0 244.0 245.0\n",
       "  * lat      (lat) float32 -55.0 -54.0 -53.0 -52.0 -51.0 ... 27.0 28.0 29.0 30.0\n",
       "  * step     (step) int64 3 4 5\n",
       "Data variables:\n",
       "    precip   (time, step, member, lat, lon) float64 dask.array<chunksize=(1, 3, 51, 86, 126), meta=np.ndarray>\n",
       "Attributes:\n",
       "    Conventions:  CF-1.6\n",
       "    history:      2021-02-10 19:56:10 GMT by grib_to_netcdf-2.16.0: /opt/ecmw...>"
      ]
     },
     "execution_count": 31,
     "metadata": {},
     "output_type": "execute_result"
    }
   ],
   "source": [
    "dset.info"
   ]
  },
  {
   "cell_type": "markdown",
   "id": "aab31221-ef5d-4a3c-9967-81aaf3d160aa",
   "metadata": {},
   "source": [
    "### rechunk "
   ]
  },
  {
   "cell_type": "code",
   "execution_count": 32,
   "id": "f19d676e-3e48-4f94-8416-b4e91eae83c1",
   "metadata": {},
   "outputs": [
    {
     "data": {
      "text/plain": [
       "Frozen(SortedKeysDict({'time': (1, 1, 1, 1, 1, 1, 1, 1, 1, 1, 1, 1, 1, 1, 1, 1, 1, 1, 1, 1, 1, 1, 1, 1, 1, 1, 1, 1, 1, 1, 1, 1, 1, 1, 1, 1, 1, 1, 1, 1, 1, 1, 1, 1, 1, 1, 1, 1, 1, 1, 1, 1, 1, 1, 1, 1, 1, 1, 1, 1, 1, 1, 1, 1, 1, 1, 1, 1, 1, 1, 1, 1, 1, 1, 1, 1, 1, 1, 1, 1, 1, 1, 1, 1, 1, 1, 1, 1, 1, 1, 1, 1, 1, 1, 1, 1, 1, 1, 1, 1, 1, 1, 1, 1, 1, 1, 1, 1, 1, 1, 1, 1, 1, 1, 1, 1, 1, 1, 1, 1, 1, 1, 1, 1, 1, 1, 1, 1, 1, 1, 1, 1, 1, 1, 1, 1, 1, 1, 1, 1, 1, 1, 1, 1, 1, 1, 1, 1, 1, 1, 1, 1, 1, 1, 1, 1, 1, 1, 1, 1, 1, 1, 1, 1, 1, 1, 1, 1, 1, 1, 1, 1, 1, 1, 1, 1, 1, 1, 1, 1, 1, 1, 1, 1, 1, 1, 1, 1, 1, 1, 1, 1, 1, 1, 1, 1, 1, 1, 1, 1, 1, 1, 1, 1, 1, 1, 1, 1, 1, 1, 1, 1, 1, 1, 1, 1, 1, 1, 1, 1, 1, 1, 1, 1, 1, 1, 1, 1, 1, 1, 1, 1, 1, 1, 1, 1, 1, 1, 1, 1, 1, 1, 1, 1, 1, 1, 1, 1, 1, 1, 1, 1, 1, 1, 1, 1, 1, 1, 1, 1, 1, 1, 1, 1, 1, 1, 1, 1, 1, 1, 1, 1, 1, 1, 1, 1, 1, 1, 1, 1, 1, 1, 1, 1, 1, 1, 1, 1), 'step': (3,), 'member': (51,), 'lat': (86,), 'lon': (126,)}))"
      ]
     },
     "execution_count": 32,
     "metadata": {},
     "output_type": "execute_result"
    }
   ],
   "source": [
    "dset.chunks"
   ]
  },
  {
   "cell_type": "code",
   "execution_count": 33,
   "id": "82dc21a1-bc53-4f03-acb5-f58e983c20e4",
   "metadata": {},
   "outputs": [],
   "source": [
    "chunks = {\n",
    "    'time':-1, \n",
    "    'member':-1, \n",
    "    'step':1, \n",
    "    'lat':5, \n",
    "    'lon':5\n",
    "}"
   ]
  },
  {
   "cell_type": "code",
   "execution_count": 34,
   "id": "e288e6b1-1b84-48c2-a2bb-472aa4b740f5",
   "metadata": {},
   "outputs": [],
   "source": [
    "dset = dset.chunk(chunks)"
   ]
  },
  {
   "cell_type": "markdown",
   "id": "4db2f04f-6bb2-46ee-8279-40478b7a55a2",
   "metadata": {},
   "source": [
    "### get the months present in the hindcast dataset (not all months are present for all GCMs, i.e. the ECCC GCM's hindcasts are updated every month, when the corresponding realtime forecast is made available ..)"
   ]
  },
  {
   "cell_type": "code",
   "execution_count": 35,
   "id": "19bb3b1d-8989-4b4c-8162-7070198f668c",
   "metadata": {},
   "outputs": [],
   "source": [
    "months = np.unique(dset.time.dt.month) "
   ]
  },
  {
   "cell_type": "code",
   "execution_count": 36,
   "id": "f02bc7a8-9bda-402b-9267-592915d4e05b",
   "metadata": {},
   "outputs": [
    {
     "data": {
      "text/plain": [
       "array([ 1,  2,  3,  4,  5,  6,  7,  8,  9, 10, 11, 12])"
      ]
     },
     "execution_count": 36,
     "metadata": {},
     "output_type": "execute_result"
    }
   ],
   "source": [
    "months"
   ]
  },
  {
   "cell_type": "code",
   "execution_count": null,
   "id": "4c4f8e80-add8-45f7-9594-f52879352282",
   "metadata": {},
   "outputs": [
    {
     "name": "stdout",
     "output_type": "stream",
     "text": [
      "calculating seasonal hindcast climatologies for ECMWF, month 1\n",
      "\n",
      "The hindcast climatologies for month 1 in ECMWF will be calculated using 600 instances\n",
      "\n",
      "[########################################] | 100% Completed | 20.8s\n",
      "Successfully saved /media/nicolasf/END19101/ICU/data/CDS/CLIMATOLOGY/ECMWF/ECMWF_seasonal_tercile_climatology_01.netcdf\n",
      "\n",
      "[########################################] | 100% Completed | 20.8s\n",
      "Successfully saved /media/nicolasf/END19101/ICU/data/CDS/CLIMATOLOGY/ECMWF/ECMWF_seasonal_decile_climatology_01.netcdf\n",
      "\n",
      "[########################################] | 100% Completed | 20.9s\n",
      "Successfully saved /media/nicolasf/END19101/ICU/data/CDS/CLIMATOLOGY/ECMWF/ECMWF_seasonal_percentile_climatology_01.netcdf\n",
      "\n",
      "calculating seasonal hindcast climatologies for ECMWF, month 2\n",
      "\n",
      "The hindcast climatologies for month 2 in ECMWF will be calculated using 600 instances\n",
      "\n",
      "[########################################] | 100% Completed | 20.9s\n",
      "Successfully saved /media/nicolasf/END19101/ICU/data/CDS/CLIMATOLOGY/ECMWF/ECMWF_seasonal_tercile_climatology_02.netcdf\n",
      "\n",
      "[########################################] | 100% Completed | 20.5s\n",
      "Successfully saved /media/nicolasf/END19101/ICU/data/CDS/CLIMATOLOGY/ECMWF/ECMWF_seasonal_decile_climatology_02.netcdf\n",
      "\n",
      "[########################################] | 100% Completed | 20.6s\n",
      "Successfully saved /media/nicolasf/END19101/ICU/data/CDS/CLIMATOLOGY/ECMWF/ECMWF_seasonal_percentile_climatology_02.netcdf\n",
      "\n",
      "calculating seasonal hindcast climatologies for ECMWF, month 3\n",
      "\n",
      "The hindcast climatologies for month 3 in ECMWF will be calculated using 600 instances\n",
      "\n",
      "[########################################] | 100% Completed | 20.6s\n",
      "Successfully saved /media/nicolasf/END19101/ICU/data/CDS/CLIMATOLOGY/ECMWF/ECMWF_seasonal_tercile_climatology_03.netcdf\n",
      "\n",
      "[########################################] | 100% Completed | 20.5s\n",
      "Successfully saved /media/nicolasf/END19101/ICU/data/CDS/CLIMATOLOGY/ECMWF/ECMWF_seasonal_decile_climatology_03.netcdf\n",
      "\n",
      "[########################################] | 100% Completed | 21.0s\n",
      "Successfully saved /media/nicolasf/END19101/ICU/data/CDS/CLIMATOLOGY/ECMWF/ECMWF_seasonal_percentile_climatology_03.netcdf\n",
      "\n",
      "calculating seasonal hindcast climatologies for ECMWF, month 4\n",
      "\n",
      "The hindcast climatologies for month 4 in ECMWF will be calculated using 600 instances\n",
      "\n",
      "[########################################] | 100% Completed | 20.6s\n",
      "Successfully saved /media/nicolasf/END19101/ICU/data/CDS/CLIMATOLOGY/ECMWF/ECMWF_seasonal_tercile_climatology_04.netcdf\n",
      "\n",
      "[########################################] | 100% Completed | 20.7s\n",
      "Successfully saved /media/nicolasf/END19101/ICU/data/CDS/CLIMATOLOGY/ECMWF/ECMWF_seasonal_decile_climatology_04.netcdf\n",
      "\n",
      "[########################################] | 100% Completed | 20.6s\n",
      "Successfully saved /media/nicolasf/END19101/ICU/data/CDS/CLIMATOLOGY/ECMWF/ECMWF_seasonal_percentile_climatology_04.netcdf\n",
      "\n",
      "calculating seasonal hindcast climatologies for ECMWF, month 5\n",
      "\n",
      "The hindcast climatologies for month 5 in ECMWF will be calculated using 600 instances\n",
      "\n",
      "[########################################] | 100% Completed | 20.8s\n",
      "Successfully saved /media/nicolasf/END19101/ICU/data/CDS/CLIMATOLOGY/ECMWF/ECMWF_seasonal_tercile_climatology_05.netcdf\n",
      "\n",
      "[########################################] | 100% Completed | 21.1s\n",
      "Successfully saved /media/nicolasf/END19101/ICU/data/CDS/CLIMATOLOGY/ECMWF/ECMWF_seasonal_decile_climatology_05.netcdf\n",
      "\n",
      "[########                                ] | 20% Completed |  2.8s"
     ]
    }
   ],
   "source": [
    "for month in months:\n",
    "    \n",
    "    print(f\"calculating {period} hindcast climatologies for {GCM}, month {month}\\n\")\n",
    "    \n",
    "    # selects the month\n",
    "    clim = dset.sel(time=(dset.time.dt.month==month))\n",
    "    \n",
    "    # stack the time and member dimension \n",
    "    clim = clim.stack(instance=('time','member'))\n",
    "\n",
    "    # drop the eventual missing instances (due to sometimes inconsistent number of members)\n",
    "    clim = clim.dropna(dim='instance')\n",
    "    \n",
    "    # rechunk so that we have a continuous instance dimension \n",
    "    clim = clim.chunk({'instance':-1})\n",
    "    \n",
    "    # number of instances for the calculation of the quantiles climatologies, will be added to the dataset for record-keeping \n",
    "    n_instances = len(clim['instance'])\n",
    "    \n",
    "    # print \n",
    "    print(f\"The hindcast climatologies for month {month} in {GCM} will be calculated using {n_instances} instances\\n\")\n",
    "    \n",
    "    # now loop over the quantiles dictionnary, calculates the climatological quantiles, do some \n",
    "    # data munging, and saves to disk \n",
    "    \n",
    "    for k in dict_quantiles.keys():\n",
    "        \n",
    "        print(f\"{k} climatology\\n\")\n",
    "        \n",
    "        clim_quantile = clim.quantile(dict_quantiles[k], dim='instance')\n",
    "        \n",
    "        # adds a `'month' dimension with coordinate `month`, for later concatenation\n",
    "        clim_quantile = clim_quantile.expand_dims({'month':[month]})\n",
    "        \n",
    "        # add the number of instances in the dataset for record-keeping\n",
    "        clim_quantile['n_instances'] = (('month'), [n_instances])\n",
    "        \n",
    "        # now compute \n",
    "        with ProgressBar(): \n",
    "            \n",
    "            clim_quantile = clim_quantile.compute() \n",
    "        \n",
    "        # save to disk \n",
    "        clim_quantile.to_netcdf(clim_path.joinpath(f\"{GCM}_{period}_{k}_climatology_{str(month).zfill(2)}.netcdf\"))\n",
    "        \n",
    "        if clim_path.joinpath(f\"{GCM}_{period}_{k}_climatology_{str(month).zfill(2)}.netcdf\").exists(): \n",
    "            \n",
    "            print(f\"Successfully saved {str(clim_path.joinpath(f'{GCM}_{period}_{k}_climatology_{str(month).zfill(2)}.netcdf'))}\\n\")\n",
    "            \n",
    "            clim_quantile.close()"
   ]
  },
  {
   "cell_type": "code",
   "execution_count": null,
   "id": "17f8fcd6-5e98-4fad-9851-44e14b4809ca",
   "metadata": {},
   "outputs": [],
   "source": []
  }
 ],
 "metadata": {
  "kernelspec": {
   "display_name": "Python 3",
   "language": "python",
   "name": "python3"
  },
  "language_info": {
   "codemirror_mode": {
    "name": "ipython",
    "version": 3
   },
   "file_extension": ".py",
   "mimetype": "text/x-python",
   "name": "python",
   "nbconvert_exporter": "python",
   "pygments_lexer": "ipython3",
   "version": "3.8.10"
  }
 },
 "nbformat": 4,
 "nbformat_minor": 5
}
