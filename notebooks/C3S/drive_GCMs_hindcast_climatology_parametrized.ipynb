{
 "cells": [
  {
   "cell_type": "code",
   "execution_count": 1,
   "id": "d49f0922-ca7a-4e5b-934f-ac80bfd083bd",
   "metadata": {},
   "outputs": [],
   "source": [
    "import sys \n",
    "import os "
   ]
  },
  {
   "cell_type": "code",
   "execution_count": 2,
   "id": "744551d6-1748-4768-9ad8-b6a6d0acac46",
   "metadata": {},
   "outputs": [],
   "source": [
    "import pathlib\n",
    "\n",
    "HOME = pathlib.Path.home()\n",
    "CWD = pathlib.Path.cwd() "
   ]
  },
  {
   "cell_type": "code",
   "execution_count": 3,
   "id": "36e2f198-3ae3-4ba6-b1ce-0ab4d1df8f7c",
   "metadata": {},
   "outputs": [
    {
     "name": "stderr",
     "output_type": "stream",
     "text": [
      "/home/nicolasf/mambaforge/envs/climetlab/lib/python3.8/site-packages/papermill/iorw.py:50: FutureWarning: pyarrow.HadoopFileSystem is deprecated as of 2.0.0, please use pyarrow.fs.HadoopFileSystem instead.\n",
      "  from pyarrow import HadoopFileSystem\n"
     ]
    }
   ],
   "source": [
    "import papermill as pm"
   ]
  },
  {
   "cell_type": "code",
   "execution_count": 4,
   "id": "21083e02-33a9-4c87-b491-6a1a42c7acaa",
   "metadata": {},
   "outputs": [],
   "source": [
    "notebook_name = 'GCMs_hindcast_climatology_parametrized.ipynb'"
   ]
  },
  {
   "cell_type": "code",
   "execution_count": 5,
   "id": "8e32a931-47aa-4d8a-957b-f5ef1739cbe2",
   "metadata": {},
   "outputs": [],
   "source": [
    "GCMs = ['ECMWF', 'UKMO', 'METEO_FRANCE', 'DWD', 'CMCC', 'NCEP', 'JMA']"
   ]
  },
  {
   "cell_type": "code",
   "execution_count": 6,
   "id": "5ab974ce-b4ea-40ce-8233-2a0262fb7f96",
   "metadata": {},
   "outputs": [
    {
     "data": {
      "text/plain": [
       "['UKMO', 'METEO_FRANCE', 'DWD', 'CMCC', 'NCEP', 'JMA']"
      ]
     },
     "execution_count": 6,
     "metadata": {},
     "output_type": "execute_result"
    }
   ],
   "source": [
    "GCMs[1:]"
   ]
  },
  {
   "cell_type": "code",
   "execution_count": 7,
   "id": "c479767e-3fc4-477a-b29e-a6222f9b2270",
   "metadata": {},
   "outputs": [],
   "source": [
    "period = 'monthly'"
   ]
  },
  {
   "cell_type": "code",
   "execution_count": 8,
   "id": "d1f6c8e4-c9b1-429c-864b-76b0a9d48105",
   "metadata": {},
   "outputs": [],
   "source": [
    "quantiles = ['tercile','decile','percentile']"
   ]
  },
  {
   "cell_type": "code",
   "execution_count": 9,
   "id": "58c63279-576b-4be3-b446-5b50e285e8d4",
   "metadata": {},
   "outputs": [
    {
     "name": "stdout",
     "output_type": "stream",
     "text": [
      "executing GCMs_hindcast_climatology_parametrized.ipynb for GCM ECMWF, period monthly, quantile tercile\n"
     ]
    },
    {
     "data": {
      "application/vnd.jupyter.widget-view+json": {
       "model_id": "ae561ad0e8c54c329b1ec5279dddbc71",
       "version_major": 2,
       "version_minor": 0
      },
      "text/plain": [
       "Executing:   0%|          | 0/52 [00:00<?, ?cell/s]"
      ]
     },
     "metadata": {},
     "output_type": "display_data"
    },
    {
     "name": "stdout",
     "output_type": "stream",
     "text": [
      "executing GCMs_hindcast_climatology_parametrized.ipynb for GCM ECMWF, period monthly, quantile decile\n"
     ]
    },
    {
     "data": {
      "application/vnd.jupyter.widget-view+json": {
       "model_id": "a6d9e92cd2284f2abb49371159005270",
       "version_major": 2,
       "version_minor": 0
      },
      "text/plain": [
       "Executing:   0%|          | 0/52 [00:00<?, ?cell/s]"
      ]
     },
     "metadata": {},
     "output_type": "display_data"
    },
    {
     "name": "stdout",
     "output_type": "stream",
     "text": [
      "executing GCMs_hindcast_climatology_parametrized.ipynb for GCM ECMWF, period monthly, quantile percentile\n"
     ]
    },
    {
     "data": {
      "application/vnd.jupyter.widget-view+json": {
       "model_id": "a5ff6cbabd974cb6aacb64dddf01f77f",
       "version_major": 2,
       "version_minor": 0
      },
      "text/plain": [
       "Executing:   0%|          | 0/52 [00:00<?, ?cell/s]"
      ]
     },
     "metadata": {},
     "output_type": "display_data"
    },
    {
     "name": "stdout",
     "output_type": "stream",
     "text": [
      "executing GCMs_hindcast_climatology_parametrized.ipynb for GCM UKMO, period monthly, quantile tercile\n"
     ]
    },
    {
     "data": {
      "application/vnd.jupyter.widget-view+json": {
       "model_id": "be7690ffa0a94abf815c31dcbb75c3d4",
       "version_major": 2,
       "version_minor": 0
      },
      "text/plain": [
       "Executing:   0%|          | 0/52 [00:00<?, ?cell/s]"
      ]
     },
     "metadata": {},
     "output_type": "display_data"
    },
    {
     "name": "stdout",
     "output_type": "stream",
     "text": [
      "executing GCMs_hindcast_climatology_parametrized.ipynb for GCM UKMO, period monthly, quantile decile\n"
     ]
    },
    {
     "data": {
      "application/vnd.jupyter.widget-view+json": {
       "model_id": "ffb85cc4d2ce402b9fb02de2abd51558",
       "version_major": 2,
       "version_minor": 0
      },
      "text/plain": [
       "Executing:   0%|          | 0/52 [00:00<?, ?cell/s]"
      ]
     },
     "metadata": {},
     "output_type": "display_data"
    },
    {
     "name": "stdout",
     "output_type": "stream",
     "text": [
      "executing GCMs_hindcast_climatology_parametrized.ipynb for GCM UKMO, period monthly, quantile percentile\n"
     ]
    },
    {
     "data": {
      "application/vnd.jupyter.widget-view+json": {
       "model_id": "9c56e4c7d2ec44a99322e992fee03cb0",
       "version_major": 2,
       "version_minor": 0
      },
      "text/plain": [
       "Executing:   0%|          | 0/52 [00:00<?, ?cell/s]"
      ]
     },
     "metadata": {},
     "output_type": "display_data"
    },
    {
     "name": "stdout",
     "output_type": "stream",
     "text": [
      "executing GCMs_hindcast_climatology_parametrized.ipynb for GCM METEO_FRANCE, period monthly, quantile tercile\n"
     ]
    },
    {
     "data": {
      "application/vnd.jupyter.widget-view+json": {
       "model_id": "c932ee252fb54fe3994aaac7c274f33b",
       "version_major": 2,
       "version_minor": 0
      },
      "text/plain": [
       "Executing:   0%|          | 0/52 [00:00<?, ?cell/s]"
      ]
     },
     "metadata": {},
     "output_type": "display_data"
    },
    {
     "name": "stdout",
     "output_type": "stream",
     "text": [
      "executing GCMs_hindcast_climatology_parametrized.ipynb for GCM METEO_FRANCE, period monthly, quantile decile\n"
     ]
    },
    {
     "data": {
      "application/vnd.jupyter.widget-view+json": {
       "model_id": "2f6b1c1d5c874e51bda22e07059fa54a",
       "version_major": 2,
       "version_minor": 0
      },
      "text/plain": [
       "Executing:   0%|          | 0/52 [00:00<?, ?cell/s]"
      ]
     },
     "metadata": {},
     "output_type": "display_data"
    },
    {
     "name": "stdout",
     "output_type": "stream",
     "text": [
      "executing GCMs_hindcast_climatology_parametrized.ipynb for GCM METEO_FRANCE, period monthly, quantile percentile\n"
     ]
    },
    {
     "data": {
      "application/vnd.jupyter.widget-view+json": {
       "model_id": "2f1e89730cab429c93a8a6969799f263",
       "version_major": 2,
       "version_minor": 0
      },
      "text/plain": [
       "Executing:   0%|          | 0/52 [00:00<?, ?cell/s]"
      ]
     },
     "metadata": {},
     "output_type": "display_data"
    },
    {
     "name": "stdout",
     "output_type": "stream",
     "text": [
      "executing GCMs_hindcast_climatology_parametrized.ipynb for GCM DWD, period monthly, quantile tercile\n"
     ]
    },
    {
     "data": {
      "application/vnd.jupyter.widget-view+json": {
       "model_id": "f1e51a03cc9740ec8016d1f5da7b47b3",
       "version_major": 2,
       "version_minor": 0
      },
      "text/plain": [
       "Executing:   0%|          | 0/52 [00:00<?, ?cell/s]"
      ]
     },
     "metadata": {},
     "output_type": "display_data"
    },
    {
     "name": "stdout",
     "output_type": "stream",
     "text": [
      "executing GCMs_hindcast_climatology_parametrized.ipynb for GCM DWD, period monthly, quantile decile\n"
     ]
    },
    {
     "data": {
      "application/vnd.jupyter.widget-view+json": {
       "model_id": "1a953b8c4ebc4a68b858c50316077876",
       "version_major": 2,
       "version_minor": 0
      },
      "text/plain": [
       "Executing:   0%|          | 0/52 [00:00<?, ?cell/s]"
      ]
     },
     "metadata": {},
     "output_type": "display_data"
    },
    {
     "name": "stdout",
     "output_type": "stream",
     "text": [
      "executing GCMs_hindcast_climatology_parametrized.ipynb for GCM DWD, period monthly, quantile percentile\n"
     ]
    },
    {
     "data": {
      "application/vnd.jupyter.widget-view+json": {
       "model_id": "8d3aefa3ea5348afb8ff660791fc0d7f",
       "version_major": 2,
       "version_minor": 0
      },
      "text/plain": [
       "Executing:   0%|          | 0/52 [00:00<?, ?cell/s]"
      ]
     },
     "metadata": {},
     "output_type": "display_data"
    },
    {
     "name": "stdout",
     "output_type": "stream",
     "text": [
      "executing GCMs_hindcast_climatology_parametrized.ipynb for GCM CMCC, period monthly, quantile tercile\n"
     ]
    },
    {
     "data": {
      "application/vnd.jupyter.widget-view+json": {
       "model_id": "b0558701678649938b2b6b99e75a04ce",
       "version_major": 2,
       "version_minor": 0
      },
      "text/plain": [
       "Executing:   0%|          | 0/52 [00:00<?, ?cell/s]"
      ]
     },
     "metadata": {},
     "output_type": "display_data"
    },
    {
     "name": "stdout",
     "output_type": "stream",
     "text": [
      "executing GCMs_hindcast_climatology_parametrized.ipynb for GCM CMCC, period monthly, quantile decile\n"
     ]
    },
    {
     "data": {
      "application/vnd.jupyter.widget-view+json": {
       "model_id": "c3a3d00f3bac450a94a40e4f6fb6859e",
       "version_major": 2,
       "version_minor": 0
      },
      "text/plain": [
       "Executing:   0%|          | 0/52 [00:00<?, ?cell/s]"
      ]
     },
     "metadata": {},
     "output_type": "display_data"
    },
    {
     "name": "stdout",
     "output_type": "stream",
     "text": [
      "executing GCMs_hindcast_climatology_parametrized.ipynb for GCM CMCC, period monthly, quantile percentile\n"
     ]
    },
    {
     "data": {
      "application/vnd.jupyter.widget-view+json": {
       "model_id": "38ac2c0ea2bf46c5a6c58a186eeb7c3b",
       "version_major": 2,
       "version_minor": 0
      },
      "text/plain": [
       "Executing:   0%|          | 0/52 [00:00<?, ?cell/s]"
      ]
     },
     "metadata": {},
     "output_type": "display_data"
    },
    {
     "name": "stdout",
     "output_type": "stream",
     "text": [
      "executing GCMs_hindcast_climatology_parametrized.ipynb for GCM NCEP, period monthly, quantile tercile\n"
     ]
    },
    {
     "data": {
      "application/vnd.jupyter.widget-view+json": {
       "model_id": "619027f0f1654a65b53c13bb2c7c048e",
       "version_major": 2,
       "version_minor": 0
      },
      "text/plain": [
       "Executing:   0%|          | 0/52 [00:00<?, ?cell/s]"
      ]
     },
     "metadata": {},
     "output_type": "display_data"
    },
    {
     "name": "stdout",
     "output_type": "stream",
     "text": [
      "executing GCMs_hindcast_climatology_parametrized.ipynb for GCM NCEP, period monthly, quantile decile\n"
     ]
    },
    {
     "data": {
      "application/vnd.jupyter.widget-view+json": {
       "model_id": "38c6fd4a95cf4dd292217f828c920b5b",
       "version_major": 2,
       "version_minor": 0
      },
      "text/plain": [
       "Executing:   0%|          | 0/52 [00:00<?, ?cell/s]"
      ]
     },
     "metadata": {},
     "output_type": "display_data"
    },
    {
     "name": "stdout",
     "output_type": "stream",
     "text": [
      "executing GCMs_hindcast_climatology_parametrized.ipynb for GCM NCEP, period monthly, quantile percentile\n"
     ]
    },
    {
     "data": {
      "application/vnd.jupyter.widget-view+json": {
       "model_id": "a9634e0f5da945b8afc9d8d1a2258006",
       "version_major": 2,
       "version_minor": 0
      },
      "text/plain": [
       "Executing:   0%|          | 0/52 [00:00<?, ?cell/s]"
      ]
     },
     "metadata": {},
     "output_type": "display_data"
    },
    {
     "name": "stdout",
     "output_type": "stream",
     "text": [
      "executing GCMs_hindcast_climatology_parametrized.ipynb for GCM JMA, period monthly, quantile tercile\n"
     ]
    },
    {
     "data": {
      "application/vnd.jupyter.widget-view+json": {
       "model_id": "5a3dc16ceecd44b89563ab1672eccd0f",
       "version_major": 2,
       "version_minor": 0
      },
      "text/plain": [
       "Executing:   0%|          | 0/52 [00:00<?, ?cell/s]"
      ]
     },
     "metadata": {},
     "output_type": "display_data"
    },
    {
     "name": "stdout",
     "output_type": "stream",
     "text": [
      "executing GCMs_hindcast_climatology_parametrized.ipynb for GCM JMA, period monthly, quantile decile\n"
     ]
    },
    {
     "data": {
      "application/vnd.jupyter.widget-view+json": {
       "model_id": "e3e7e59c0d5c4fa2ae160ea6673b2dde",
       "version_major": 2,
       "version_minor": 0
      },
      "text/plain": [
       "Executing:   0%|          | 0/52 [00:00<?, ?cell/s]"
      ]
     },
     "metadata": {},
     "output_type": "display_data"
    },
    {
     "name": "stdout",
     "output_type": "stream",
     "text": [
      "executing GCMs_hindcast_climatology_parametrized.ipynb for GCM JMA, period monthly, quantile percentile\n"
     ]
    },
    {
     "data": {
      "application/vnd.jupyter.widget-view+json": {
       "model_id": "ff8b0385bccc461b9eab5333070ac042",
       "version_major": 2,
       "version_minor": 0
      },
      "text/plain": [
       "Executing:   0%|          | 0/52 [00:00<?, ?cell/s]"
      ]
     },
     "metadata": {},
     "output_type": "display_data"
    }
   ],
   "source": [
    "for GCM in GCMs: \n",
    "    \n",
    "    for quantile in quantiles: \n",
    "\n",
    "        print(f\"executing {notebook_name} for GCM {GCM}, period {period}, quantile {quantile}\")\n",
    "\n",
    "        pm.execute_notebook(\n",
    "            f'{str(CWD.joinpath(notebook_name))}',\n",
    "            f'{str(CWD.joinpath(notebook_name))}',\n",
    "            parameters=dict(GCM=GCM, period=period, quantile=quantile)\n",
    "        )"
   ]
  },
  {
   "cell_type": "markdown",
   "id": "402a6f23-efde-4c2c-b776-c2dd13bb9c7e",
   "metadata": {},
   "source": [
    "### The code below is just to compare the decile climatologies to the percentile climatologies "
   ]
  },
  {
   "cell_type": "code",
   "execution_count": 10,
   "id": "982fecf8-f9ad-4ae0-995a-22921f002c44",
   "metadata": {},
   "outputs": [],
   "source": [
    "# import xarray as xr\n",
    "\n",
    "# dset1 = xr.open_dataset(\"/media/nicolasf/END19101/ICU/data/CDS/CLIMATOLOGY/ECMWF/ECMWF_seasonal_precip_parametrized_percentile_climatology.netcdf\")\n",
    "\n",
    "# dset1.sel(quantile=0.1, month=1, step=3)['precip'].plot()\n",
    "\n",
    "# dset2 = xr.open_dataset(\"/media/nicolasf/END19101/ICU/data/CDS/CLIMATOLOGY/ECMWF/ECMWF_seasonal_precip_parametrized_decile_climatology.netcdf\")\n",
    "\n",
    "# dset2.sel(quantile=0.1, month=1, step=3)['precip'].plot()\n",
    "\n",
    "# (dset1 - dset2).sel(quantile=0.1, month=1, step=3)['precip'].plot()"
   ]
  }
 ],
 "metadata": {
  "kernelspec": {
   "display_name": "Python 3",
   "language": "python",
   "name": "python3"
  },
  "language_info": {
   "codemirror_mode": {
    "name": "ipython",
    "version": 3
   },
   "file_extension": ".py",
   "mimetype": "text/x-python",
   "name": "python",
   "nbconvert_exporter": "python",
   "pygments_lexer": "ipython3",
   "version": "3.8.10"
  }
 },
 "nbformat": 4,
 "nbformat_minor": 5
}
