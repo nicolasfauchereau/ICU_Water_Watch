{
 "cells": [
  {
   "cell_type": "markdown",
   "id": "439f8645-0cc7-4d39-8af3-18702600a2f2",
   "metadata": {
    "papermill": {
     "duration": 0.05642,
     "end_time": "2022-04-04T02:35:28.964208",
     "exception": false,
     "start_time": "2022-04-04T02:35:28.907788",
     "status": "completed"
    },
    "tags": []
   },
   "source": [
    "# map the decile probabilistic forecast (1st decile category where cumulative probability reaches 50%) from the C3S MME "
   ]
  },
  {
   "cell_type": "code",
   "execution_count": 1,
   "id": "3c3bb7f3",
   "metadata": {
    "papermill": {
     "duration": 0.045711,
     "end_time": "2022-04-04T02:35:29.042928",
     "exception": false,
     "start_time": "2022-04-04T02:35:28.997217",
     "status": "completed"
    },
    "tags": []
   },
   "outputs": [],
   "source": [
    "%load_ext autoreload\n",
    "%autoreload 2"
   ]
  },
  {
   "cell_type": "code",
   "execution_count": 2,
   "id": "e039d488",
   "metadata": {
    "papermill": {
     "duration": 0.226465,
     "end_time": "2022-04-04T02:35:29.301814",
     "exception": false,
     "start_time": "2022-04-04T02:35:29.075349",
     "status": "completed"
    },
    "tags": []
   },
   "outputs": [],
   "source": [
    "import matplotlib"
   ]
  },
  {
   "cell_type": "code",
   "execution_count": 3,
   "id": "3eb63822",
   "metadata": {
    "papermill": {
     "duration": 1.108289,
     "end_time": "2022-04-04T02:35:30.452253",
     "exception": false,
     "start_time": "2022-04-04T02:35:29.343964",
     "status": "completed"
    },
    "tags": []
   },
   "outputs": [],
   "source": [
    "# %matplotlib widget\n",
    "%matplotlib inline\n",
    "\n",
    "### os \n",
    "import os \n",
    "import sys\n",
    "\n",
    "### datetimes \n",
    "from datetime import datetime, timedelta\n",
    "from dateutil.relativedelta import relativedelta\n",
    "from calendar import month_name, month_abbr\n",
    "import dateparser\n",
    "\n",
    "### scipy \n",
    "import numpy as np \n",
    "import pandas as pd\n",
    "import xarray as xr\n",
    "from cartopy import crs as ccrs\n",
    "\n",
    "### plotting \n",
    "from matplotlib import pyplot as plt\n",
    "import palettable"
   ]
  },
  {
   "cell_type": "code",
   "execution_count": 4,
   "id": "1c902a1d",
   "metadata": {
    "papermill": {
     "duration": 0.046919,
     "end_time": "2022-04-04T02:35:30.530290",
     "exception": false,
     "start_time": "2022-04-04T02:35:30.483371",
     "status": "completed"
    },
    "tags": []
   },
   "outputs": [],
   "source": [
    "import pathlib\n",
    "\n",
    "HOME = pathlib.Path.home()\n",
    "CWD = pathlib.Path.cwd() "
   ]
  },
  {
   "cell_type": "markdown",
   "id": "6a2ebc74",
   "metadata": {
    "papermill": {
     "duration": 0.030919,
     "end_time": "2022-04-04T02:35:30.592282",
     "exception": false,
     "start_time": "2022-04-04T02:35:30.561363",
     "status": "completed"
    },
    "tags": []
   },
   "source": [
    "### import local functions for the downloading of the C3S forecasts "
   ]
  },
  {
   "cell_type": "code",
   "execution_count": 5,
   "id": "c55e4025",
   "metadata": {
    "papermill": {
     "duration": 0.046085,
     "end_time": "2022-04-04T02:35:30.669823",
     "exception": false,
     "start_time": "2022-04-04T02:35:30.623738",
     "status": "completed"
    },
    "tags": []
   },
   "outputs": [],
   "source": [
    "sys.path.append('../..')"
   ]
  },
  {
   "cell_type": "code",
   "execution_count": 6,
   "id": "4a1333ed",
   "metadata": {
    "papermill": {
     "duration": 12.410433,
     "end_time": "2022-04-04T02:35:43.111300",
     "exception": false,
     "start_time": "2022-04-04T02:35:30.700867",
     "status": "completed"
    },
    "tags": []
   },
   "outputs": [],
   "source": [
    "from ICU_Water_Watch import geo, C3S, domains, plot, utils"
   ]
  },
  {
   "cell_type": "code",
   "execution_count": 7,
   "id": "58dfa13b",
   "metadata": {
    "papermill": {
     "duration": 0.057045,
     "end_time": "2022-04-04T02:35:43.201325",
     "exception": false,
     "start_time": "2022-04-04T02:35:43.144280",
     "status": "completed"
    },
    "tags": []
   },
   "outputs": [
    {
     "data": {
      "text/plain": [
       "{'Tropical_Pacific': [140, 220, -25, 25],\n",
       " 'SW_Pacific': [172.5, 190, -22.5, -12],\n",
       " 'Fiji': [175, 183, -21, -15],\n",
       " 'NZ': [161, 181, -50, -30],\n",
       " 'Pacific': [140, 240, -50, 25],\n",
       " 'C3S_download': [100, 240, -50, 30],\n",
       " 'Water_Watch': [125, 240, -35, 25]}"
      ]
     },
     "execution_count": 7,
     "metadata": {},
     "output_type": "execute_result"
    }
   ],
   "source": [
    "domains.domains"
   ]
  },
  {
   "cell_type": "markdown",
   "id": "69388ae5",
   "metadata": {
    "papermill": {
     "duration": 0.034668,
     "end_time": "2022-04-04T02:35:43.269368",
     "exception": false,
     "start_time": "2022-04-04T02:35:43.234700",
     "status": "completed"
    },
    "tags": [
     "parameters"
    ]
   },
   "source": [
    "### parameters for papermill"
   ]
  },
  {
   "cell_type": "code",
   "execution_count": 8,
   "id": "327a855c-0ad6-476b-850a-b67328507b29",
   "metadata": {
    "papermill": {
     "duration": 0.051456,
     "end_time": "2022-04-04T02:35:43.436840",
     "exception": false,
     "start_time": "2022-04-04T02:35:43.385384",
     "status": "completed"
    },
    "tags": []
   },
   "outputs": [],
   "source": [
    "provider = 'CDS' # should not change\n",
    "domain_name = 'Water_Watch' # domain name for plotting, see `domains` module\n",
    "period = \"monthly\"\n",
    "lag = 1 # lag with respect to current month\n",
    "lead = 1 # lead time (month or season)\n",
    "quantile = 'decile' # should stay at \"decile\"\n",
    "varfname = 'tprate' # variable reference in the filenames\n",
    "varname = 'precip' # variable name in the forecast probabilities\n",
    "dpath_shapes = '/home/nicolasf/operational/ICU/development/hotspots/data/shapefiles' # shapes for the Pacific countries EEZs\n",
    "dpath_forecasts = '/home/nicolasf/operational/ICU/development/hotspots/code/ICU_Water_Watch/outputs/C3S' # forecast probabilities\n",
    "fpath = '/home/nicolasf/operational/ICU/development/hotspots/code/ICU_Water_Watch/figures/C3S' # paths for the figures \n",
    "fpath_web = '/home/nicolasf/operational/ICU_Web/C3S/' # path for the figures for the web "
   ]
  },
  {
   "cell_type": "markdown",
   "id": "8d045738",
   "metadata": {
    "papermill": {
     "duration": 0.032319,
     "end_time": "2022-04-04T02:35:43.501945",
     "exception": false,
     "start_time": "2022-04-04T02:35:43.469626",
     "status": "completed"
    },
    "tags": []
   },
   "source": [
    "### casts the paths to pathlib.Paths "
   ]
  },
  {
   "cell_type": "code",
   "execution_count": 9,
   "id": "55896a49",
   "metadata": {
    "papermill": {
     "duration": 0.053281,
     "end_time": "2022-04-04T02:35:43.587105",
     "exception": false,
     "start_time": "2022-04-04T02:35:43.533824",
     "status": "completed"
    },
    "tags": []
   },
   "outputs": [],
   "source": [
    "dpath_shapes = pathlib.Path(dpath_shapes)\n",
    "dpath_forecasts = pathlib.Path(dpath_forecasts)\n",
    "fpath = pathlib.Path(fpath)\n",
    "fpath_web = pathlib.Path(fpath_web)"
   ]
  },
  {
   "cell_type": "code",
   "execution_count": null,
   "id": "cea37c10-08b7-46a0-acc4-29f28ea601a9",
   "metadata": {},
   "outputs": [],
   "source": [
    "if not fpath_web.exists(): \n",
    "    fpath_web.mkdir(parents=True)"
   ]
  },
  {
   "cell_type": "markdown",
   "id": "9ff5453a",
   "metadata": {
    "papermill": {
     "duration": 0.031929,
     "end_time": "2022-04-04T02:35:43.651230",
     "exception": false,
     "start_time": "2022-04-04T02:35:43.619301",
     "status": "completed"
    },
    "tags": []
   },
   "source": [
    "### domain "
   ]
  },
  {
   "cell_type": "code",
   "execution_count": 10,
   "id": "597167c6",
   "metadata": {
    "papermill": {
     "duration": 0.05283,
     "end_time": "2022-04-04T02:35:43.736573",
     "exception": false,
     "start_time": "2022-04-04T02:35:43.683743",
     "status": "completed"
    },
    "tags": []
   },
   "outputs": [],
   "source": [
    "domain = domains.domains[domain_name]"
   ]
  },
  {
   "cell_type": "markdown",
   "id": "637862d4",
   "metadata": {
    "papermill": {
     "duration": 0.033002,
     "end_time": "2022-04-04T02:35:43.803819",
     "exception": false,
     "start_time": "2022-04-04T02:35:43.770817",
     "status": "completed"
    },
    "tags": []
   },
   "source": [
    "### EEZ shapes "
   ]
  },
  {
   "cell_type": "code",
   "execution_count": 11,
   "id": "39d1c009",
   "metadata": {
    "papermill": {
     "duration": 0.069229,
     "end_time": "2022-04-04T02:35:43.904540",
     "exception": false,
     "start_time": "2022-04-04T02:35:43.835311",
     "status": "completed"
    },
    "tags": []
   },
   "outputs": [],
   "source": [
    "EEZs, merged_EEZs = geo.get_EEZs(dpath_shapes)"
   ]
  },
  {
   "cell_type": "markdown",
   "id": "b3a93a05-7b4a-4b86-8827-6e6bfcff5641",
   "metadata": {
    "papermill": {
     "duration": 0.031749,
     "end_time": "2022-04-04T02:35:43.968360",
     "exception": false,
     "start_time": "2022-04-04T02:35:43.936611",
     "status": "completed"
    },
    "tags": []
   },
   "source": [
    "### year and month (initial month of the forecast)"
   ]
  },
  {
   "cell_type": "code",
   "execution_count": 12,
   "id": "c3cd3990-45b7-4ded-850c-728d745f4506",
   "metadata": {
    "papermill": {
     "duration": 0.07702,
     "end_time": "2022-04-04T02:35:44.078305",
     "exception": false,
     "start_time": "2022-04-04T02:35:44.001285",
     "status": "completed"
    },
    "tags": []
   },
   "outputs": [],
   "source": [
    "date = dateparser.parse('today')"
   ]
  },
  {
   "cell_type": "code",
   "execution_count": 13,
   "id": "04f485ee-1aca-473c-8755-13064912d182",
   "metadata": {
    "papermill": {
     "duration": 0.050402,
     "end_time": "2022-04-04T02:35:44.163292",
     "exception": false,
     "start_time": "2022-04-04T02:35:44.112890",
     "status": "completed"
    },
    "tags": []
   },
   "outputs": [],
   "source": [
    "date = date - relativedelta(months=lag)"
   ]
  },
  {
   "cell_type": "code",
   "execution_count": 14,
   "id": "ce3f894d-e08f-44c4-95ac-f5830c6407f6",
   "metadata": {
    "papermill": {
     "duration": 0.051813,
     "end_time": "2022-04-04T02:35:44.247476",
     "exception": false,
     "start_time": "2022-04-04T02:35:44.195663",
     "status": "completed"
    },
    "tags": []
   },
   "outputs": [],
   "source": [
    "year = date.year \n",
    "month = date.month"
   ]
  },
  {
   "cell_type": "code",
   "execution_count": 15,
   "id": "11d32255-58ed-4d95-afab-952f6ba2a4a3",
   "metadata": {
    "papermill": {
     "duration": 0.050964,
     "end_time": "2022-04-04T02:35:44.330182",
     "exception": false,
     "start_time": "2022-04-04T02:35:44.279218",
     "status": "completed"
    },
    "tags": []
   },
   "outputs": [
    {
     "name": "stdout",
     "output_type": "stream",
     "text": [
      "2022 - 3\n"
     ]
    }
   ],
   "source": [
    "print(f\"{year} - {month}\")"
   ]
  },
  {
   "cell_type": "markdown",
   "id": "1c9955f7",
   "metadata": {
    "papermill": {
     "duration": 0.032013,
     "end_time": "2022-04-04T02:35:44.394185",
     "exception": false,
     "start_time": "2022-04-04T02:35:44.362172",
     "status": "completed"
    },
    "tags": []
   },
   "source": [
    "#### list of GCMs to inlude "
   ]
  },
  {
   "cell_type": "code",
   "execution_count": 16,
   "id": "727dd670",
   "metadata": {
    "papermill": {
     "duration": 0.051244,
     "end_time": "2022-04-04T02:35:44.477921",
     "exception": false,
     "start_time": "2022-04-04T02:35:44.426677",
     "status": "completed"
    },
    "tags": []
   },
   "outputs": [],
   "source": [
    "list_GCMs = ['ECMWF','UKMO','METEO_FRANCE','CMCC','DWD', 'NCEP', 'JMA', 'ECCC_CanCM4i', 'ECCC_GEM_NEMO']"
   ]
  },
  {
   "cell_type": "markdown",
   "id": "d4744c4d",
   "metadata": {
    "papermill": {
     "duration": 0.031667,
     "end_time": "2022-04-04T02:35:44.541588",
     "exception": false,
     "start_time": "2022-04-04T02:35:44.509921",
     "status": "completed"
    },
    "tags": []
   },
   "source": [
    "### what is the first step and the number of steps in either the monthly or seasonal forecasts "
   ]
  },
  {
   "cell_type": "code",
   "execution_count": 17,
   "id": "de1163fc",
   "metadata": {
    "papermill": {
     "duration": 0.054216,
     "end_time": "2022-04-04T02:35:44.627766",
     "exception": false,
     "start_time": "2022-04-04T02:35:44.573550",
     "status": "completed"
    },
    "tags": []
   },
   "outputs": [],
   "source": [
    "if period == 'seasonal': \n",
    "    nsteps = 3\n",
    "    first_step = 3\n",
    "elif period == 'monthly': \n",
    "    nsteps = 5\n",
    "    first_step = 1"
   ]
  },
  {
   "cell_type": "code",
   "execution_count": 18,
   "id": "b94416aa",
   "metadata": {
    "papermill": {
     "duration": 0.050603,
     "end_time": "2022-04-04T02:35:44.709672",
     "exception": false,
     "start_time": "2022-04-04T02:35:44.659069",
     "status": "completed"
    },
    "tags": []
   },
   "outputs": [],
   "source": [
    "step = lead + first_step - 1"
   ]
  },
  {
   "cell_type": "code",
   "execution_count": 19,
   "id": "46081778",
   "metadata": {
    "papermill": {
     "duration": 0.054572,
     "end_time": "2022-04-04T02:35:44.796487",
     "exception": false,
     "start_time": "2022-04-04T02:35:44.741915",
     "status": "completed"
    },
    "tags": []
   },
   "outputs": [
    {
     "data": {
      "text/plain": [
       "1"
      ]
     },
     "execution_count": 19,
     "metadata": {},
     "output_type": "execute_result"
    }
   ],
   "source": [
    "step"
   ]
  },
  {
   "cell_type": "markdown",
   "id": "c7cba0b6",
   "metadata": {
    "papermill": {
     "duration": 0.032927,
     "end_time": "2022-04-04T02:35:44.864496",
     "exception": false,
     "start_time": "2022-04-04T02:35:44.831569",
     "status": "completed"
    },
    "tags": []
   },
   "source": [
    "### paths to the realtime forecasts"
   ]
  },
  {
   "cell_type": "code",
   "execution_count": 20,
   "id": "fc86f837",
   "metadata": {
    "papermill": {
     "duration": 0.052792,
     "end_time": "2022-04-04T02:35:44.950155",
     "exception": false,
     "start_time": "2022-04-04T02:35:44.897363",
     "status": "completed"
    },
    "tags": []
   },
   "outputs": [],
   "source": [
    "lfiles = list(dpath_forecasts.glob(f\"{period}_{quantile}s_probabilities_from_{year}-{str(month).zfill(2)}_*.netcdf\"))"
   ]
  },
  {
   "cell_type": "markdown",
   "id": "7f22329c",
   "metadata": {
    "papermill": {
     "duration": 0.038974,
     "end_time": "2022-04-04T02:35:45.021813",
     "exception": false,
     "start_time": "2022-04-04T02:35:44.982839",
     "status": "completed"
    },
    "tags": []
   },
   "source": [
    "### checks the files names "
   ]
  },
  {
   "cell_type": "code",
   "execution_count": 21,
   "id": "3145dc3d",
   "metadata": {
    "papermill": {
     "duration": 0.051813,
     "end_time": "2022-04-04T02:35:45.112123",
     "exception": false,
     "start_time": "2022-04-04T02:35:45.060310",
     "status": "completed"
    },
    "tags": []
   },
   "outputs": [
    {
     "data": {
      "text/plain": [
       "['monthly_deciles_probabilities_from_2022-03_DWD.netcdf',\n",
       " 'monthly_deciles_probabilities_from_2022-03_CMCC.netcdf',\n",
       " 'monthly_deciles_probabilities_from_2022-03_UKMO.netcdf',\n",
       " 'monthly_deciles_probabilities_from_2022-03_ECCC_GEM_NEMO.netcdf',\n",
       " 'monthly_deciles_probabilities_from_2022-03_ECMWF.netcdf',\n",
       " 'monthly_deciles_probabilities_from_2022-03_ECCC_CanCM4i.netcdf',\n",
       " 'monthly_deciles_probabilities_from_2022-03_METEO_FRANCE.netcdf',\n",
       " 'monthly_deciles_probabilities_from_2022-03_NCEP.netcdf',\n",
       " 'monthly_deciles_probabilities_from_2022-03_JMA.netcdf']"
      ]
     },
     "execution_count": 21,
     "metadata": {},
     "output_type": "execute_result"
    }
   ],
   "source": [
    "[f.name for f in lfiles]"
   ]
  },
  {
   "cell_type": "markdown",
   "id": "998d717b",
   "metadata": {
    "papermill": {
     "duration": 0.03187,
     "end_time": "2022-04-04T02:35:45.175287",
     "exception": false,
     "start_time": "2022-04-04T02:35:45.143417",
     "status": "completed"
    },
    "tags": []
   },
   "source": [
    "### open the multiple files dataset, concatenate along the \"GCM\" dimension "
   ]
  },
  {
   "cell_type": "code",
   "execution_count": 22,
   "id": "cbfb2f51",
   "metadata": {
    "papermill": {
     "duration": 0.202185,
     "end_time": "2022-04-04T02:35:45.409127",
     "exception": false,
     "start_time": "2022-04-04T02:35:45.206942",
     "status": "completed"
    },
    "tags": []
   },
   "outputs": [],
   "source": [
    "probs = xr.open_mfdataset(lfiles, concat_dim='GCM', combine='nested', engine='netcdf4') "
   ]
  },
  {
   "cell_type": "code",
   "execution_count": 23,
   "id": "a6400684",
   "metadata": {
    "papermill": {
     "duration": 0.06979,
     "end_time": "2022-04-04T02:35:45.513150",
     "exception": false,
     "start_time": "2022-04-04T02:35:45.443360",
     "status": "completed"
    },
    "tags": []
   },
   "outputs": [
    {
     "data": {
      "text/html": [
       "<div><svg style=\"position: absolute; width: 0; height: 0; overflow: hidden\">\n",
       "<defs>\n",
       "<symbol id=\"icon-database\" viewBox=\"0 0 32 32\">\n",
       "<path d=\"M16 0c-8.837 0-16 2.239-16 5v4c0 2.761 7.163 5 16 5s16-2.239 16-5v-4c0-2.761-7.163-5-16-5z\"></path>\n",
       "<path d=\"M16 17c-8.837 0-16-2.239-16-5v6c0 2.761 7.163 5 16 5s16-2.239 16-5v-6c0 2.761-7.163 5-16 5z\"></path>\n",
       "<path d=\"M16 26c-8.837 0-16-2.239-16-5v6c0 2.761 7.163 5 16 5s16-2.239 16-5v-6c0 2.761-7.163 5-16 5z\"></path>\n",
       "</symbol>\n",
       "<symbol id=\"icon-file-text2\" viewBox=\"0 0 32 32\">\n",
       "<path d=\"M28.681 7.159c-0.694-0.947-1.662-2.053-2.724-3.116s-2.169-2.030-3.116-2.724c-1.612-1.182-2.393-1.319-2.841-1.319h-15.5c-1.378 0-2.5 1.121-2.5 2.5v27c0 1.378 1.122 2.5 2.5 2.5h23c1.378 0 2.5-1.122 2.5-2.5v-19.5c0-0.448-0.137-1.23-1.319-2.841zM24.543 5.457c0.959 0.959 1.712 1.825 2.268 2.543h-4.811v-4.811c0.718 0.556 1.584 1.309 2.543 2.268zM28 29.5c0 0.271-0.229 0.5-0.5 0.5h-23c-0.271 0-0.5-0.229-0.5-0.5v-27c0-0.271 0.229-0.5 0.5-0.5 0 0 15.499-0 15.5 0v7c0 0.552 0.448 1 1 1h7v19.5z\"></path>\n",
       "<path d=\"M23 26h-14c-0.552 0-1-0.448-1-1s0.448-1 1-1h14c0.552 0 1 0.448 1 1s-0.448 1-1 1z\"></path>\n",
       "<path d=\"M23 22h-14c-0.552 0-1-0.448-1-1s0.448-1 1-1h14c0.552 0 1 0.448 1 1s-0.448 1-1 1z\"></path>\n",
       "<path d=\"M23 18h-14c-0.552 0-1-0.448-1-1s0.448-1 1-1h14c0.552 0 1 0.448 1 1s-0.448 1-1 1z\"></path>\n",
       "</symbol>\n",
       "</defs>\n",
       "</svg>\n",
       "<style>/* CSS stylesheet for displaying xarray objects in jupyterlab.\n",
       " *\n",
       " */\n",
       "\n",
       ":root {\n",
       "  --xr-font-color0: var(--jp-content-font-color0, rgba(0, 0, 0, 1));\n",
       "  --xr-font-color2: var(--jp-content-font-color2, rgba(0, 0, 0, 0.54));\n",
       "  --xr-font-color3: var(--jp-content-font-color3, rgba(0, 0, 0, 0.38));\n",
       "  --xr-border-color: var(--jp-border-color2, #e0e0e0);\n",
       "  --xr-disabled-color: var(--jp-layout-color3, #bdbdbd);\n",
       "  --xr-background-color: var(--jp-layout-color0, white);\n",
       "  --xr-background-color-row-even: var(--jp-layout-color1, white);\n",
       "  --xr-background-color-row-odd: var(--jp-layout-color2, #eeeeee);\n",
       "}\n",
       "\n",
       "html[theme=dark],\n",
       "body.vscode-dark {\n",
       "  --xr-font-color0: rgba(255, 255, 255, 1);\n",
       "  --xr-font-color2: rgba(255, 255, 255, 0.54);\n",
       "  --xr-font-color3: rgba(255, 255, 255, 0.38);\n",
       "  --xr-border-color: #1F1F1F;\n",
       "  --xr-disabled-color: #515151;\n",
       "  --xr-background-color: #111111;\n",
       "  --xr-background-color-row-even: #111111;\n",
       "  --xr-background-color-row-odd: #313131;\n",
       "}\n",
       "\n",
       ".xr-wrap {\n",
       "  display: block !important;\n",
       "  min-width: 300px;\n",
       "  max-width: 700px;\n",
       "}\n",
       "\n",
       ".xr-text-repr-fallback {\n",
       "  /* fallback to plain text repr when CSS is not injected (untrusted notebook) */\n",
       "  display: none;\n",
       "}\n",
       "\n",
       ".xr-header {\n",
       "  padding-top: 6px;\n",
       "  padding-bottom: 6px;\n",
       "  margin-bottom: 4px;\n",
       "  border-bottom: solid 1px var(--xr-border-color);\n",
       "}\n",
       "\n",
       ".xr-header > div,\n",
       ".xr-header > ul {\n",
       "  display: inline;\n",
       "  margin-top: 0;\n",
       "  margin-bottom: 0;\n",
       "}\n",
       "\n",
       ".xr-obj-type,\n",
       ".xr-array-name {\n",
       "  margin-left: 2px;\n",
       "  margin-right: 10px;\n",
       "}\n",
       "\n",
       ".xr-obj-type {\n",
       "  color: var(--xr-font-color2);\n",
       "}\n",
       "\n",
       ".xr-sections {\n",
       "  padding-left: 0 !important;\n",
       "  display: grid;\n",
       "  grid-template-columns: 150px auto auto 1fr 20px 20px;\n",
       "}\n",
       "\n",
       ".xr-section-item {\n",
       "  display: contents;\n",
       "}\n",
       "\n",
       ".xr-section-item input {\n",
       "  display: none;\n",
       "}\n",
       "\n",
       ".xr-section-item input + label {\n",
       "  color: var(--xr-disabled-color);\n",
       "}\n",
       "\n",
       ".xr-section-item input:enabled + label {\n",
       "  cursor: pointer;\n",
       "  color: var(--xr-font-color2);\n",
       "}\n",
       "\n",
       ".xr-section-item input:enabled + label:hover {\n",
       "  color: var(--xr-font-color0);\n",
       "}\n",
       "\n",
       ".xr-section-summary {\n",
       "  grid-column: 1;\n",
       "  color: var(--xr-font-color2);\n",
       "  font-weight: 500;\n",
       "}\n",
       "\n",
       ".xr-section-summary > span {\n",
       "  display: inline-block;\n",
       "  padding-left: 0.5em;\n",
       "}\n",
       "\n",
       ".xr-section-summary-in:disabled + label {\n",
       "  color: var(--xr-font-color2);\n",
       "}\n",
       "\n",
       ".xr-section-summary-in + label:before {\n",
       "  display: inline-block;\n",
       "  content: '►';\n",
       "  font-size: 11px;\n",
       "  width: 15px;\n",
       "  text-align: center;\n",
       "}\n",
       "\n",
       ".xr-section-summary-in:disabled + label:before {\n",
       "  color: var(--xr-disabled-color);\n",
       "}\n",
       "\n",
       ".xr-section-summary-in:checked + label:before {\n",
       "  content: '▼';\n",
       "}\n",
       "\n",
       ".xr-section-summary-in:checked + label > span {\n",
       "  display: none;\n",
       "}\n",
       "\n",
       ".xr-section-summary,\n",
       ".xr-section-inline-details {\n",
       "  padding-top: 4px;\n",
       "  padding-bottom: 4px;\n",
       "}\n",
       "\n",
       ".xr-section-inline-details {\n",
       "  grid-column: 2 / -1;\n",
       "}\n",
       "\n",
       ".xr-section-details {\n",
       "  display: none;\n",
       "  grid-column: 1 / -1;\n",
       "  margin-bottom: 5px;\n",
       "}\n",
       "\n",
       ".xr-section-summary-in:checked ~ .xr-section-details {\n",
       "  display: contents;\n",
       "}\n",
       "\n",
       ".xr-array-wrap {\n",
       "  grid-column: 1 / -1;\n",
       "  display: grid;\n",
       "  grid-template-columns: 20px auto;\n",
       "}\n",
       "\n",
       ".xr-array-wrap > label {\n",
       "  grid-column: 1;\n",
       "  vertical-align: top;\n",
       "}\n",
       "\n",
       ".xr-preview {\n",
       "  color: var(--xr-font-color3);\n",
       "}\n",
       "\n",
       ".xr-array-preview,\n",
       ".xr-array-data {\n",
       "  padding: 0 5px !important;\n",
       "  grid-column: 2;\n",
       "}\n",
       "\n",
       ".xr-array-data,\n",
       ".xr-array-in:checked ~ .xr-array-preview {\n",
       "  display: none;\n",
       "}\n",
       "\n",
       ".xr-array-in:checked ~ .xr-array-data,\n",
       ".xr-array-preview {\n",
       "  display: inline-block;\n",
       "}\n",
       "\n",
       ".xr-dim-list {\n",
       "  display: inline-block !important;\n",
       "  list-style: none;\n",
       "  padding: 0 !important;\n",
       "  margin: 0;\n",
       "}\n",
       "\n",
       ".xr-dim-list li {\n",
       "  display: inline-block;\n",
       "  padding: 0;\n",
       "  margin: 0;\n",
       "}\n",
       "\n",
       ".xr-dim-list:before {\n",
       "  content: '(';\n",
       "}\n",
       "\n",
       ".xr-dim-list:after {\n",
       "  content: ')';\n",
       "}\n",
       "\n",
       ".xr-dim-list li:not(:last-child):after {\n",
       "  content: ',';\n",
       "  padding-right: 5px;\n",
       "}\n",
       "\n",
       ".xr-has-index {\n",
       "  font-weight: bold;\n",
       "}\n",
       "\n",
       ".xr-var-list,\n",
       ".xr-var-item {\n",
       "  display: contents;\n",
       "}\n",
       "\n",
       ".xr-var-item > div,\n",
       ".xr-var-item label,\n",
       ".xr-var-item > .xr-var-name span {\n",
       "  background-color: var(--xr-background-color-row-even);\n",
       "  margin-bottom: 0;\n",
       "}\n",
       "\n",
       ".xr-var-item > .xr-var-name:hover span {\n",
       "  padding-right: 5px;\n",
       "}\n",
       "\n",
       ".xr-var-list > li:nth-child(odd) > div,\n",
       ".xr-var-list > li:nth-child(odd) > label,\n",
       ".xr-var-list > li:nth-child(odd) > .xr-var-name span {\n",
       "  background-color: var(--xr-background-color-row-odd);\n",
       "}\n",
       "\n",
       ".xr-var-name {\n",
       "  grid-column: 1;\n",
       "}\n",
       "\n",
       ".xr-var-dims {\n",
       "  grid-column: 2;\n",
       "}\n",
       "\n",
       ".xr-var-dtype {\n",
       "  grid-column: 3;\n",
       "  text-align: right;\n",
       "  color: var(--xr-font-color2);\n",
       "}\n",
       "\n",
       ".xr-var-preview {\n",
       "  grid-column: 4;\n",
       "}\n",
       "\n",
       ".xr-var-name,\n",
       ".xr-var-dims,\n",
       ".xr-var-dtype,\n",
       ".xr-preview,\n",
       ".xr-attrs dt {\n",
       "  white-space: nowrap;\n",
       "  overflow: hidden;\n",
       "  text-overflow: ellipsis;\n",
       "  padding-right: 10px;\n",
       "}\n",
       "\n",
       ".xr-var-name:hover,\n",
       ".xr-var-dims:hover,\n",
       ".xr-var-dtype:hover,\n",
       ".xr-attrs dt:hover {\n",
       "  overflow: visible;\n",
       "  width: auto;\n",
       "  z-index: 1;\n",
       "}\n",
       "\n",
       ".xr-var-attrs,\n",
       ".xr-var-data {\n",
       "  display: none;\n",
       "  background-color: var(--xr-background-color) !important;\n",
       "  padding-bottom: 5px !important;\n",
       "}\n",
       "\n",
       ".xr-var-attrs-in:checked ~ .xr-var-attrs,\n",
       ".xr-var-data-in:checked ~ .xr-var-data {\n",
       "  display: block;\n",
       "}\n",
       "\n",
       ".xr-var-data > table {\n",
       "  float: right;\n",
       "}\n",
       "\n",
       ".xr-var-name span,\n",
       ".xr-var-data,\n",
       ".xr-attrs {\n",
       "  padding-left: 25px !important;\n",
       "}\n",
       "\n",
       ".xr-attrs,\n",
       ".xr-var-attrs,\n",
       ".xr-var-data {\n",
       "  grid-column: 1 / -1;\n",
       "}\n",
       "\n",
       "dl.xr-attrs {\n",
       "  padding: 0;\n",
       "  margin: 0;\n",
       "  display: grid;\n",
       "  grid-template-columns: 125px auto;\n",
       "}\n",
       "\n",
       ".xr-attrs dt,\n",
       ".xr-attrs dd {\n",
       "  padding: 0;\n",
       "  margin: 0;\n",
       "  float: left;\n",
       "  padding-right: 10px;\n",
       "  width: auto;\n",
       "}\n",
       "\n",
       ".xr-attrs dt {\n",
       "  font-weight: normal;\n",
       "  grid-column: 1;\n",
       "}\n",
       "\n",
       ".xr-attrs dt:hover span {\n",
       "  display: inline-block;\n",
       "  background: var(--xr-background-color);\n",
       "  padding-right: 10px;\n",
       "}\n",
       "\n",
       ".xr-attrs dd {\n",
       "  grid-column: 2;\n",
       "  white-space: pre-wrap;\n",
       "  word-break: break-all;\n",
       "}\n",
       "\n",
       ".xr-icon-database,\n",
       ".xr-icon-file-text2 {\n",
       "  display: inline-block;\n",
       "  vertical-align: middle;\n",
       "  width: 1em;\n",
       "  height: 1.5em !important;\n",
       "  stroke-width: 0;\n",
       "  stroke: currentColor;\n",
       "  fill: currentColor;\n",
       "}\n",
       "</style><pre class='xr-text-repr-fallback'>&lt;xarray.Dataset&gt;\n",
       "Dimensions:  (GCM: 9, decile: 10, time: 1, step: 5, lat: 81, lon: 121)\n",
       "Coordinates:\n",
       "  * GCM      (GCM) object &#x27;DWD&#x27; &#x27;CMCC&#x27; &#x27;UKMO&#x27; ... &#x27;METEO_FRANCE&#x27; &#x27;NCEP&#x27; &#x27;JMA&#x27;\n",
       "  * time     (time) datetime64[ns] 2022-03-01\n",
       "  * lon      (lon) float32 120.0 121.0 122.0 123.0 ... 237.0 238.0 239.0 240.0\n",
       "  * lat      (lat) float32 -50.0 -49.0 -48.0 -47.0 -46.0 ... 27.0 28.0 29.0 30.0\n",
       "  * step     (step) int64 1 2 3 4 5\n",
       "    month    int64 3\n",
       "  * decile   (decile) int64 1 2 3 4 5 6 7 8 9 10\n",
       "Data variables:\n",
       "    precip   (GCM, decile, time, step, lat, lon) float64 dask.array&lt;chunksize=(1, 10, 1, 5, 81, 121), meta=np.ndarray&gt;\n",
       "Attributes:\n",
       "    pct_values:  [0.1 0.2 0.3 0.4 0.5 0.6 0.7 0.8 0.9]</pre><div class='xr-wrap' style='display:none'><div class='xr-header'><div class='xr-obj-type'>xarray.Dataset</div></div><ul class='xr-sections'><li class='xr-section-item'><input id='section-276275d7-77a0-497f-86bc-88165c42434b' class='xr-section-summary-in' type='checkbox' disabled ><label for='section-276275d7-77a0-497f-86bc-88165c42434b' class='xr-section-summary'  title='Expand/collapse section'>Dimensions:</label><div class='xr-section-inline-details'><ul class='xr-dim-list'><li><span class='xr-has-index'>GCM</span>: 9</li><li><span class='xr-has-index'>decile</span>: 10</li><li><span class='xr-has-index'>time</span>: 1</li><li><span class='xr-has-index'>step</span>: 5</li><li><span class='xr-has-index'>lat</span>: 81</li><li><span class='xr-has-index'>lon</span>: 121</li></ul></div><div class='xr-section-details'></div></li><li class='xr-section-item'><input id='section-a54becef-4fd1-4864-9290-b162cca4a30d' class='xr-section-summary-in' type='checkbox'  checked><label for='section-a54becef-4fd1-4864-9290-b162cca4a30d' class='xr-section-summary' >Coordinates: <span>(7)</span></label><div class='xr-section-inline-details'></div><div class='xr-section-details'><ul class='xr-var-list'><li class='xr-var-item'><div class='xr-var-name'><span class='xr-has-index'>GCM</span></div><div class='xr-var-dims'>(GCM)</div><div class='xr-var-dtype'>object</div><div class='xr-var-preview xr-preview'>&#x27;DWD&#x27; &#x27;CMCC&#x27; ... &#x27;NCEP&#x27; &#x27;JMA&#x27;</div><input id='attrs-20969a8f-3904-490b-992c-ababd64b4efa' class='xr-var-attrs-in' type='checkbox' disabled><label for='attrs-20969a8f-3904-490b-992c-ababd64b4efa' title='Show/Hide attributes'><svg class='icon xr-icon-file-text2'><use xlink:href='#icon-file-text2'></use></svg></label><input id='data-32343134-36e7-478c-b344-f24f6a53dcf2' class='xr-var-data-in' type='checkbox'><label for='data-32343134-36e7-478c-b344-f24f6a53dcf2' title='Show/Hide data repr'><svg class='icon xr-icon-database'><use xlink:href='#icon-database'></use></svg></label><div class='xr-var-attrs'><dl class='xr-attrs'></dl></div><div class='xr-var-data'><pre>array([&#x27;DWD&#x27;, &#x27;CMCC&#x27;, &#x27;UKMO&#x27;, &#x27;ECCC_GEM_NEMO&#x27;, &#x27;ECMWF&#x27;, &#x27;ECCC_CanCM4i&#x27;,\n",
       "       &#x27;METEO_FRANCE&#x27;, &#x27;NCEP&#x27;, &#x27;JMA&#x27;], dtype=object)</pre></div></li><li class='xr-var-item'><div class='xr-var-name'><span class='xr-has-index'>time</span></div><div class='xr-var-dims'>(time)</div><div class='xr-var-dtype'>datetime64[ns]</div><div class='xr-var-preview xr-preview'>2022-03-01</div><input id='attrs-1986bfb1-52a7-4f8c-b467-c9beb5fac6bf' class='xr-var-attrs-in' type='checkbox' disabled><label for='attrs-1986bfb1-52a7-4f8c-b467-c9beb5fac6bf' title='Show/Hide attributes'><svg class='icon xr-icon-file-text2'><use xlink:href='#icon-file-text2'></use></svg></label><input id='data-54b5b598-63f0-45a5-bcfc-b64b73a94fb9' class='xr-var-data-in' type='checkbox'><label for='data-54b5b598-63f0-45a5-bcfc-b64b73a94fb9' title='Show/Hide data repr'><svg class='icon xr-icon-database'><use xlink:href='#icon-database'></use></svg></label><div class='xr-var-attrs'><dl class='xr-attrs'></dl></div><div class='xr-var-data'><pre>array([&#x27;2022-03-01T00:00:00.000000000&#x27;], dtype=&#x27;datetime64[ns]&#x27;)</pre></div></li><li class='xr-var-item'><div class='xr-var-name'><span class='xr-has-index'>lon</span></div><div class='xr-var-dims'>(lon)</div><div class='xr-var-dtype'>float32</div><div class='xr-var-preview xr-preview'>120.0 121.0 122.0 ... 239.0 240.0</div><input id='attrs-ac633acb-d744-40a7-93d9-b355652c7433' class='xr-var-attrs-in' type='checkbox' disabled><label for='attrs-ac633acb-d744-40a7-93d9-b355652c7433' title='Show/Hide attributes'><svg class='icon xr-icon-file-text2'><use xlink:href='#icon-file-text2'></use></svg></label><input id='data-4e983da9-d617-428e-8109-1be0045fd9d3' class='xr-var-data-in' type='checkbox'><label for='data-4e983da9-d617-428e-8109-1be0045fd9d3' title='Show/Hide data repr'><svg class='icon xr-icon-database'><use xlink:href='#icon-database'></use></svg></label><div class='xr-var-attrs'><dl class='xr-attrs'></dl></div><div class='xr-var-data'><pre>array([120., 121., 122., 123., 124., 125., 126., 127., 128., 129., 130., 131.,\n",
       "       132., 133., 134., 135., 136., 137., 138., 139., 140., 141., 142., 143.,\n",
       "       144., 145., 146., 147., 148., 149., 150., 151., 152., 153., 154., 155.,\n",
       "       156., 157., 158., 159., 160., 161., 162., 163., 164., 165., 166., 167.,\n",
       "       168., 169., 170., 171., 172., 173., 174., 175., 176., 177., 178., 179.,\n",
       "       180., 181., 182., 183., 184., 185., 186., 187., 188., 189., 190., 191.,\n",
       "       192., 193., 194., 195., 196., 197., 198., 199., 200., 201., 202., 203.,\n",
       "       204., 205., 206., 207., 208., 209., 210., 211., 212., 213., 214., 215.,\n",
       "       216., 217., 218., 219., 220., 221., 222., 223., 224., 225., 226., 227.,\n",
       "       228., 229., 230., 231., 232., 233., 234., 235., 236., 237., 238., 239.,\n",
       "       240.], dtype=float32)</pre></div></li><li class='xr-var-item'><div class='xr-var-name'><span class='xr-has-index'>lat</span></div><div class='xr-var-dims'>(lat)</div><div class='xr-var-dtype'>float32</div><div class='xr-var-preview xr-preview'>-50.0 -49.0 -48.0 ... 29.0 30.0</div><input id='attrs-8549077a-f390-40fb-b1b6-64dff0c87538' class='xr-var-attrs-in' type='checkbox' disabled><label for='attrs-8549077a-f390-40fb-b1b6-64dff0c87538' title='Show/Hide attributes'><svg class='icon xr-icon-file-text2'><use xlink:href='#icon-file-text2'></use></svg></label><input id='data-d83d3c46-a9d1-4526-9146-506ec54b9696' class='xr-var-data-in' type='checkbox'><label for='data-d83d3c46-a9d1-4526-9146-506ec54b9696' title='Show/Hide data repr'><svg class='icon xr-icon-database'><use xlink:href='#icon-database'></use></svg></label><div class='xr-var-attrs'><dl class='xr-attrs'></dl></div><div class='xr-var-data'><pre>array([-50., -49., -48., -47., -46., -45., -44., -43., -42., -41., -40., -39.,\n",
       "       -38., -37., -36., -35., -34., -33., -32., -31., -30., -29., -28., -27.,\n",
       "       -26., -25., -24., -23., -22., -21., -20., -19., -18., -17., -16., -15.,\n",
       "       -14., -13., -12., -11., -10.,  -9.,  -8.,  -7.,  -6.,  -5.,  -4.,  -3.,\n",
       "        -2.,  -1.,   0.,   1.,   2.,   3.,   4.,   5.,   6.,   7.,   8.,   9.,\n",
       "        10.,  11.,  12.,  13.,  14.,  15.,  16.,  17.,  18.,  19.,  20.,  21.,\n",
       "        22.,  23.,  24.,  25.,  26.,  27.,  28.,  29.,  30.], dtype=float32)</pre></div></li><li class='xr-var-item'><div class='xr-var-name'><span class='xr-has-index'>step</span></div><div class='xr-var-dims'>(step)</div><div class='xr-var-dtype'>int64</div><div class='xr-var-preview xr-preview'>1 2 3 4 5</div><input id='attrs-dd40dca8-ef7c-4a13-b4a2-00574bc57363' class='xr-var-attrs-in' type='checkbox' disabled><label for='attrs-dd40dca8-ef7c-4a13-b4a2-00574bc57363' title='Show/Hide attributes'><svg class='icon xr-icon-file-text2'><use xlink:href='#icon-file-text2'></use></svg></label><input id='data-5b639195-e802-4a6e-9f2c-57ae64479897' class='xr-var-data-in' type='checkbox'><label for='data-5b639195-e802-4a6e-9f2c-57ae64479897' title='Show/Hide data repr'><svg class='icon xr-icon-database'><use xlink:href='#icon-database'></use></svg></label><div class='xr-var-attrs'><dl class='xr-attrs'></dl></div><div class='xr-var-data'><pre>array([1, 2, 3, 4, 5])</pre></div></li><li class='xr-var-item'><div class='xr-var-name'><span>month</span></div><div class='xr-var-dims'>()</div><div class='xr-var-dtype'>int64</div><div class='xr-var-preview xr-preview'>3</div><input id='attrs-1d88e4a3-6bc2-426d-9601-f0e41f6010c3' class='xr-var-attrs-in' type='checkbox' disabled><label for='attrs-1d88e4a3-6bc2-426d-9601-f0e41f6010c3' title='Show/Hide attributes'><svg class='icon xr-icon-file-text2'><use xlink:href='#icon-file-text2'></use></svg></label><input id='data-daa2e86e-4e46-4134-8883-1952b4aa88cb' class='xr-var-data-in' type='checkbox'><label for='data-daa2e86e-4e46-4134-8883-1952b4aa88cb' title='Show/Hide data repr'><svg class='icon xr-icon-database'><use xlink:href='#icon-database'></use></svg></label><div class='xr-var-attrs'><dl class='xr-attrs'></dl></div><div class='xr-var-data'><pre>array(3)</pre></div></li><li class='xr-var-item'><div class='xr-var-name'><span class='xr-has-index'>decile</span></div><div class='xr-var-dims'>(decile)</div><div class='xr-var-dtype'>int64</div><div class='xr-var-preview xr-preview'>1 2 3 4 5 6 7 8 9 10</div><input id='attrs-54a56cbc-28d9-42bd-83a5-ca8068226369' class='xr-var-attrs-in' type='checkbox' disabled><label for='attrs-54a56cbc-28d9-42bd-83a5-ca8068226369' title='Show/Hide attributes'><svg class='icon xr-icon-file-text2'><use xlink:href='#icon-file-text2'></use></svg></label><input id='data-cdca11c1-27df-44ac-861b-228a533aa33c' class='xr-var-data-in' type='checkbox'><label for='data-cdca11c1-27df-44ac-861b-228a533aa33c' title='Show/Hide data repr'><svg class='icon xr-icon-database'><use xlink:href='#icon-database'></use></svg></label><div class='xr-var-attrs'><dl class='xr-attrs'></dl></div><div class='xr-var-data'><pre>array([ 1,  2,  3,  4,  5,  6,  7,  8,  9, 10])</pre></div></li></ul></div></li><li class='xr-section-item'><input id='section-ad6b0d71-4133-401b-90a7-eaea6137d983' class='xr-section-summary-in' type='checkbox'  checked><label for='section-ad6b0d71-4133-401b-90a7-eaea6137d983' class='xr-section-summary' >Data variables: <span>(1)</span></label><div class='xr-section-inline-details'></div><div class='xr-section-details'><ul class='xr-var-list'><li class='xr-var-item'><div class='xr-var-name'><span>precip</span></div><div class='xr-var-dims'>(GCM, decile, time, step, lat, lon)</div><div class='xr-var-dtype'>float64</div><div class='xr-var-preview xr-preview'>dask.array&lt;chunksize=(1, 10, 1, 5, 81, 121), meta=np.ndarray&gt;</div><input id='attrs-02764409-96c8-4e6d-94e3-b77d2a64a974' class='xr-var-attrs-in' type='checkbox' disabled><label for='attrs-02764409-96c8-4e6d-94e3-b77d2a64a974' title='Show/Hide attributes'><svg class='icon xr-icon-file-text2'><use xlink:href='#icon-file-text2'></use></svg></label><input id='data-2db80bcc-7066-461a-9e45-d2bd65c06e93' class='xr-var-data-in' type='checkbox'><label for='data-2db80bcc-7066-461a-9e45-d2bd65c06e93' title='Show/Hide data repr'><svg class='icon xr-icon-database'><use xlink:href='#icon-database'></use></svg></label><div class='xr-var-attrs'><dl class='xr-attrs'></dl></div><div class='xr-var-data'><table>\n",
       "    <tr>\n",
       "        <td>\n",
       "            <table>\n",
       "                <thead>\n",
       "                    <tr>\n",
       "                        <td> </td>\n",
       "                        <th> Array </th>\n",
       "                        <th> Chunk </th>\n",
       "                    </tr>\n",
       "                </thead>\n",
       "                <tbody>\n",
       "                    \n",
       "                    <tr>\n",
       "                        <th> Bytes </th>\n",
       "                        <td> 33.65 MiB </td>\n",
       "                        <td> 3.74 MiB </td>\n",
       "                    </tr>\n",
       "                    \n",
       "                    <tr>\n",
       "                        <th> Shape </th>\n",
       "                        <td> (9, 10, 1, 5, 81, 121) </td>\n",
       "                        <td> (1, 10, 1, 5, 81, 121) </td>\n",
       "                    </tr>\n",
       "                    <tr>\n",
       "                        <th> Count </th>\n",
       "                        <td> 27 Tasks </td>\n",
       "                        <td> 9 Chunks </td>\n",
       "                    </tr>\n",
       "                    <tr>\n",
       "                    <th> Type </th>\n",
       "                    <td> float64 </td>\n",
       "                    <td> numpy.ndarray </td>\n",
       "                    </tr>\n",
       "                </tbody>\n",
       "            </table>\n",
       "        </td>\n",
       "        <td>\n",
       "        <svg width=\"443\" height=\"149\" style=\"stroke:rgb(0,0,0);stroke-width:1\" >\n",
       "\n",
       "  <!-- Horizontal lines -->\n",
       "  <line x1=\"10\" y1=\"0\" x2=\"31\" y2=\"21\" style=\"stroke-width:2\" />\n",
       "  <line x1=\"10\" y1=\"37\" x2=\"31\" y2=\"59\" style=\"stroke-width:2\" />\n",
       "\n",
       "  <!-- Vertical lines -->\n",
       "  <line x1=\"10\" y1=\"0\" x2=\"10\" y2=\"37\" style=\"stroke-width:2\" />\n",
       "  <line x1=\"12\" y1=\"2\" x2=\"12\" y2=\"39\" />\n",
       "  <line x1=\"14\" y1=\"4\" x2=\"14\" y2=\"42\" />\n",
       "  <line x1=\"17\" y1=\"7\" x2=\"17\" y2=\"44\" />\n",
       "  <line x1=\"19\" y1=\"9\" x2=\"19\" y2=\"47\" />\n",
       "  <line x1=\"22\" y1=\"12\" x2=\"22\" y2=\"49\" />\n",
       "  <line x1=\"24\" y1=\"14\" x2=\"24\" y2=\"51\" />\n",
       "  <line x1=\"26\" y1=\"16\" x2=\"26\" y2=\"54\" />\n",
       "  <line x1=\"29\" y1=\"19\" x2=\"29\" y2=\"56\" />\n",
       "  <line x1=\"31\" y1=\"21\" x2=\"31\" y2=\"59\" style=\"stroke-width:2\" />\n",
       "\n",
       "  <!-- Colored Rectangle -->\n",
       "  <polygon points=\"10.0,0.0 31.705460913306453,21.705460913306453 31.705460913306453,59.22101676725615 10.0,37.5155558539497\" style=\"fill:#ECB172A0;stroke-width:0\"/>\n",
       "\n",
       "  <!-- Horizontal lines -->\n",
       "  <line x1=\"10\" y1=\"0\" x2=\"35\" y2=\"0\" style=\"stroke-width:2\" />\n",
       "  <line x1=\"12\" y1=\"2\" x2=\"37\" y2=\"2\" />\n",
       "  <line x1=\"14\" y1=\"4\" x2=\"40\" y2=\"4\" />\n",
       "  <line x1=\"17\" y1=\"7\" x2=\"42\" y2=\"7\" />\n",
       "  <line x1=\"19\" y1=\"9\" x2=\"45\" y2=\"9\" />\n",
       "  <line x1=\"22\" y1=\"12\" x2=\"47\" y2=\"12\" />\n",
       "  <line x1=\"24\" y1=\"14\" x2=\"49\" y2=\"14\" />\n",
       "  <line x1=\"26\" y1=\"16\" x2=\"52\" y2=\"16\" />\n",
       "  <line x1=\"29\" y1=\"19\" x2=\"54\" y2=\"19\" />\n",
       "  <line x1=\"31\" y1=\"21\" x2=\"57\" y2=\"21\" style=\"stroke-width:2\" />\n",
       "\n",
       "  <!-- Vertical lines -->\n",
       "  <line x1=\"10\" y1=\"0\" x2=\"31\" y2=\"21\" style=\"stroke-width:2\" />\n",
       "  <line x1=\"35\" y1=\"0\" x2=\"57\" y2=\"21\" style=\"stroke-width:2\" />\n",
       "\n",
       "  <!-- Colored Rectangle -->\n",
       "  <polygon points=\"10.0,0.0 35.41261651458248,0.0 57.118077427888934,21.705460913306453 31.705460913306453,21.705460913306453\" style=\"fill:#ECB172A0;stroke-width:0\"/>\n",
       "\n",
       "  <!-- Horizontal lines -->\n",
       "  <line x1=\"31\" y1=\"21\" x2=\"57\" y2=\"21\" style=\"stroke-width:2\" />\n",
       "  <line x1=\"31\" y1=\"59\" x2=\"57\" y2=\"59\" style=\"stroke-width:2\" />\n",
       "\n",
       "  <!-- Vertical lines -->\n",
       "  <line x1=\"31\" y1=\"21\" x2=\"31\" y2=\"59\" style=\"stroke-width:2\" />\n",
       "  <line x1=\"57\" y1=\"21\" x2=\"57\" y2=\"59\" style=\"stroke-width:2\" />\n",
       "\n",
       "  <!-- Colored Rectangle -->\n",
       "  <polygon points=\"31.705460913306453,21.705460913306453 57.118077427888934,21.705460913306453 57.118077427888934,59.22101676725615 31.705460913306453,59.22101676725615\" style=\"fill:#ECB172A0;stroke-width:0\"/>\n",
       "\n",
       "  <!-- Text -->\n",
       "  <text x=\"44.411769\" y=\"79.221017\" font-size=\"1.0rem\" font-weight=\"100\" text-anchor=\"middle\" >1</text>\n",
       "  <text x=\"77.118077\" y=\"40.463239\" font-size=\"1.0rem\" font-weight=\"100\" text-anchor=\"middle\" transform=\"rotate(0,77.118077,40.463239)\">10</text>\n",
       "  <text x=\"10.852730\" y=\"68.368286\" font-size=\"1.0rem\" font-weight=\"100\" text-anchor=\"middle\" transform=\"rotate(45,10.852730,68.368286)\">9</text>\n",
       "\n",
       "\n",
       "  <!-- Horizontal lines -->\n",
       "  <line x1=\"127\" y1=\"0\" x2=\"146\" y2=\"19\" style=\"stroke-width:2\" />\n",
       "  <line x1=\"127\" y1=\"80\" x2=\"146\" y2=\"99\" style=\"stroke-width:2\" />\n",
       "\n",
       "  <!-- Vertical lines -->\n",
       "  <line x1=\"127\" y1=\"0\" x2=\"127\" y2=\"80\" style=\"stroke-width:2\" />\n",
       "  <line x1=\"146\" y1=\"19\" x2=\"146\" y2=\"99\" style=\"stroke-width:2\" />\n",
       "\n",
       "  <!-- Colored Rectangle -->\n",
       "  <polygon points=\"127.0,0.0 146.60758039345913,19.607580393459138 146.60758039345913,99.93815890585583 127.0,80.3305785123967\" style=\"fill:#ECB172A0;stroke-width:0\"/>\n",
       "\n",
       "  <!-- Horizontal lines -->\n",
       "  <line x1=\"127\" y1=\"0\" x2=\"247\" y2=\"0\" style=\"stroke-width:2\" />\n",
       "  <line x1=\"146\" y1=\"19\" x2=\"266\" y2=\"19\" style=\"stroke-width:2\" />\n",
       "\n",
       "  <!-- Vertical lines -->\n",
       "  <line x1=\"127\" y1=\"0\" x2=\"146\" y2=\"19\" style=\"stroke-width:2\" />\n",
       "  <line x1=\"247\" y1=\"0\" x2=\"266\" y2=\"19\" style=\"stroke-width:2\" />\n",
       "\n",
       "  <!-- Colored Rectangle -->\n",
       "  <polygon points=\"127.0,0.0 247.0,0.0 266.60758039345916,19.607580393459138 146.60758039345913,19.607580393459138\" style=\"fill:#ECB172A0;stroke-width:0\"/>\n",
       "\n",
       "  <!-- Horizontal lines -->\n",
       "  <line x1=\"146\" y1=\"19\" x2=\"266\" y2=\"19\" style=\"stroke-width:2\" />\n",
       "  <line x1=\"146\" y1=\"99\" x2=\"266\" y2=\"99\" style=\"stroke-width:2\" />\n",
       "\n",
       "  <!-- Vertical lines -->\n",
       "  <line x1=\"146\" y1=\"19\" x2=\"146\" y2=\"99\" style=\"stroke-width:2\" />\n",
       "  <line x1=\"266\" y1=\"19\" x2=\"266\" y2=\"99\" style=\"stroke-width:2\" />\n",
       "\n",
       "  <!-- Colored Rectangle -->\n",
       "  <polygon points=\"146.60758039345913,19.607580393459138 266.6075803934591,19.607580393459138 266.6075803934591,99.93815890585583 146.60758039345913,99.93815890585583\" style=\"fill:#ECB172A0;stroke-width:0\"/>\n",
       "\n",
       "  <!-- Text -->\n",
       "  <text x=\"206.607580\" y=\"119.938159\" font-size=\"1.0rem\" font-weight=\"100\" text-anchor=\"middle\" >121</text>\n",
       "  <text x=\"286.607580\" y=\"59.772870\" font-size=\"1.0rem\" font-weight=\"100\" text-anchor=\"middle\" transform=\"rotate(0,286.607580,59.772870)\">81</text>\n",
       "  <text x=\"126.803790\" y=\"110.134369\" font-size=\"1.0rem\" font-weight=\"100\" text-anchor=\"middle\" transform=\"rotate(45,126.803790,110.134369)\">5</text>\n",
       "</svg>\n",
       "        </td>\n",
       "    </tr>\n",
       "</table></div></li></ul></div></li><li class='xr-section-item'><input id='section-0c4c2102-3e96-4d25-8b0a-d90f9bd5f5d2' class='xr-section-summary-in' type='checkbox'  checked><label for='section-0c4c2102-3e96-4d25-8b0a-d90f9bd5f5d2' class='xr-section-summary' >Attributes: <span>(1)</span></label><div class='xr-section-inline-details'></div><div class='xr-section-details'><dl class='xr-attrs'><dt><span>pct_values :</span></dt><dd>[0.1 0.2 0.3 0.4 0.5 0.6 0.7 0.8 0.9]</dd></dl></div></li></ul></div></div>"
      ],
      "text/plain": [
       "<xarray.Dataset>\n",
       "Dimensions:  (GCM: 9, decile: 10, time: 1, step: 5, lat: 81, lon: 121)\n",
       "Coordinates:\n",
       "  * GCM      (GCM) object 'DWD' 'CMCC' 'UKMO' ... 'METEO_FRANCE' 'NCEP' 'JMA'\n",
       "  * time     (time) datetime64[ns] 2022-03-01\n",
       "  * lon      (lon) float32 120.0 121.0 122.0 123.0 ... 237.0 238.0 239.0 240.0\n",
       "  * lat      (lat) float32 -50.0 -49.0 -48.0 -47.0 -46.0 ... 27.0 28.0 29.0 30.0\n",
       "  * step     (step) int64 1 2 3 4 5\n",
       "    month    int64 3\n",
       "  * decile   (decile) int64 1 2 3 4 5 6 7 8 9 10\n",
       "Data variables:\n",
       "    precip   (GCM, decile, time, step, lat, lon) float64 dask.array<chunksize=(1, 10, 1, 5, 81, 121), meta=np.ndarray>\n",
       "Attributes:\n",
       "    pct_values:  [0.1 0.2 0.3 0.4 0.5 0.6 0.7 0.8 0.9]"
      ]
     },
     "execution_count": 23,
     "metadata": {},
     "output_type": "execute_result"
    }
   ],
   "source": [
    "probs"
   ]
  },
  {
   "cell_type": "markdown",
   "id": "3f196ab6",
   "metadata": {
    "papermill": {
     "duration": 0.033601,
     "end_time": "2022-04-04T02:35:45.580707",
     "exception": false,
     "start_time": "2022-04-04T02:35:45.547106",
     "status": "completed"
    },
    "tags": []
   },
   "source": [
    "### interpolate (for smoother maps)"
   ]
  },
  {
   "cell_type": "code",
   "execution_count": 24,
   "id": "f613fc28",
   "metadata": {
    "papermill": {
     "duration": 0.062002,
     "end_time": "2022-04-04T02:35:45.676227",
     "exception": false,
     "start_time": "2022-04-04T02:35:45.614225",
     "status": "completed"
    },
    "tags": []
   },
   "outputs": [],
   "source": [
    "probs = utils.interp(probs, interp_factor=6)"
   ]
  },
  {
   "cell_type": "code",
   "execution_count": 25,
   "id": "ee09f6db",
   "metadata": {
    "papermill": {
     "duration": 0.065523,
     "end_time": "2022-04-04T02:35:45.774605",
     "exception": false,
     "start_time": "2022-04-04T02:35:45.709082",
     "status": "completed"
    },
    "tags": []
   },
   "outputs": [
    {
     "data": {
      "text/html": [
       "<div><svg style=\"position: absolute; width: 0; height: 0; overflow: hidden\">\n",
       "<defs>\n",
       "<symbol id=\"icon-database\" viewBox=\"0 0 32 32\">\n",
       "<path d=\"M16 0c-8.837 0-16 2.239-16 5v4c0 2.761 7.163 5 16 5s16-2.239 16-5v-4c0-2.761-7.163-5-16-5z\"></path>\n",
       "<path d=\"M16 17c-8.837 0-16-2.239-16-5v6c0 2.761 7.163 5 16 5s16-2.239 16-5v-6c0 2.761-7.163 5-16 5z\"></path>\n",
       "<path d=\"M16 26c-8.837 0-16-2.239-16-5v6c0 2.761 7.163 5 16 5s16-2.239 16-5v-6c0 2.761-7.163 5-16 5z\"></path>\n",
       "</symbol>\n",
       "<symbol id=\"icon-file-text2\" viewBox=\"0 0 32 32\">\n",
       "<path d=\"M28.681 7.159c-0.694-0.947-1.662-2.053-2.724-3.116s-2.169-2.030-3.116-2.724c-1.612-1.182-2.393-1.319-2.841-1.319h-15.5c-1.378 0-2.5 1.121-2.5 2.5v27c0 1.378 1.122 2.5 2.5 2.5h23c1.378 0 2.5-1.122 2.5-2.5v-19.5c0-0.448-0.137-1.23-1.319-2.841zM24.543 5.457c0.959 0.959 1.712 1.825 2.268 2.543h-4.811v-4.811c0.718 0.556 1.584 1.309 2.543 2.268zM28 29.5c0 0.271-0.229 0.5-0.5 0.5h-23c-0.271 0-0.5-0.229-0.5-0.5v-27c0-0.271 0.229-0.5 0.5-0.5 0 0 15.499-0 15.5 0v7c0 0.552 0.448 1 1 1h7v19.5z\"></path>\n",
       "<path d=\"M23 26h-14c-0.552 0-1-0.448-1-1s0.448-1 1-1h14c0.552 0 1 0.448 1 1s-0.448 1-1 1z\"></path>\n",
       "<path d=\"M23 22h-14c-0.552 0-1-0.448-1-1s0.448-1 1-1h14c0.552 0 1 0.448 1 1s-0.448 1-1 1z\"></path>\n",
       "<path d=\"M23 18h-14c-0.552 0-1-0.448-1-1s0.448-1 1-1h14c0.552 0 1 0.448 1 1s-0.448 1-1 1z\"></path>\n",
       "</symbol>\n",
       "</defs>\n",
       "</svg>\n",
       "<style>/* CSS stylesheet for displaying xarray objects in jupyterlab.\n",
       " *\n",
       " */\n",
       "\n",
       ":root {\n",
       "  --xr-font-color0: var(--jp-content-font-color0, rgba(0, 0, 0, 1));\n",
       "  --xr-font-color2: var(--jp-content-font-color2, rgba(0, 0, 0, 0.54));\n",
       "  --xr-font-color3: var(--jp-content-font-color3, rgba(0, 0, 0, 0.38));\n",
       "  --xr-border-color: var(--jp-border-color2, #e0e0e0);\n",
       "  --xr-disabled-color: var(--jp-layout-color3, #bdbdbd);\n",
       "  --xr-background-color: var(--jp-layout-color0, white);\n",
       "  --xr-background-color-row-even: var(--jp-layout-color1, white);\n",
       "  --xr-background-color-row-odd: var(--jp-layout-color2, #eeeeee);\n",
       "}\n",
       "\n",
       "html[theme=dark],\n",
       "body.vscode-dark {\n",
       "  --xr-font-color0: rgba(255, 255, 255, 1);\n",
       "  --xr-font-color2: rgba(255, 255, 255, 0.54);\n",
       "  --xr-font-color3: rgba(255, 255, 255, 0.38);\n",
       "  --xr-border-color: #1F1F1F;\n",
       "  --xr-disabled-color: #515151;\n",
       "  --xr-background-color: #111111;\n",
       "  --xr-background-color-row-even: #111111;\n",
       "  --xr-background-color-row-odd: #313131;\n",
       "}\n",
       "\n",
       ".xr-wrap {\n",
       "  display: block !important;\n",
       "  min-width: 300px;\n",
       "  max-width: 700px;\n",
       "}\n",
       "\n",
       ".xr-text-repr-fallback {\n",
       "  /* fallback to plain text repr when CSS is not injected (untrusted notebook) */\n",
       "  display: none;\n",
       "}\n",
       "\n",
       ".xr-header {\n",
       "  padding-top: 6px;\n",
       "  padding-bottom: 6px;\n",
       "  margin-bottom: 4px;\n",
       "  border-bottom: solid 1px var(--xr-border-color);\n",
       "}\n",
       "\n",
       ".xr-header > div,\n",
       ".xr-header > ul {\n",
       "  display: inline;\n",
       "  margin-top: 0;\n",
       "  margin-bottom: 0;\n",
       "}\n",
       "\n",
       ".xr-obj-type,\n",
       ".xr-array-name {\n",
       "  margin-left: 2px;\n",
       "  margin-right: 10px;\n",
       "}\n",
       "\n",
       ".xr-obj-type {\n",
       "  color: var(--xr-font-color2);\n",
       "}\n",
       "\n",
       ".xr-sections {\n",
       "  padding-left: 0 !important;\n",
       "  display: grid;\n",
       "  grid-template-columns: 150px auto auto 1fr 20px 20px;\n",
       "}\n",
       "\n",
       ".xr-section-item {\n",
       "  display: contents;\n",
       "}\n",
       "\n",
       ".xr-section-item input {\n",
       "  display: none;\n",
       "}\n",
       "\n",
       ".xr-section-item input + label {\n",
       "  color: var(--xr-disabled-color);\n",
       "}\n",
       "\n",
       ".xr-section-item input:enabled + label {\n",
       "  cursor: pointer;\n",
       "  color: var(--xr-font-color2);\n",
       "}\n",
       "\n",
       ".xr-section-item input:enabled + label:hover {\n",
       "  color: var(--xr-font-color0);\n",
       "}\n",
       "\n",
       ".xr-section-summary {\n",
       "  grid-column: 1;\n",
       "  color: var(--xr-font-color2);\n",
       "  font-weight: 500;\n",
       "}\n",
       "\n",
       ".xr-section-summary > span {\n",
       "  display: inline-block;\n",
       "  padding-left: 0.5em;\n",
       "}\n",
       "\n",
       ".xr-section-summary-in:disabled + label {\n",
       "  color: var(--xr-font-color2);\n",
       "}\n",
       "\n",
       ".xr-section-summary-in + label:before {\n",
       "  display: inline-block;\n",
       "  content: '►';\n",
       "  font-size: 11px;\n",
       "  width: 15px;\n",
       "  text-align: center;\n",
       "}\n",
       "\n",
       ".xr-section-summary-in:disabled + label:before {\n",
       "  color: var(--xr-disabled-color);\n",
       "}\n",
       "\n",
       ".xr-section-summary-in:checked + label:before {\n",
       "  content: '▼';\n",
       "}\n",
       "\n",
       ".xr-section-summary-in:checked + label > span {\n",
       "  display: none;\n",
       "}\n",
       "\n",
       ".xr-section-summary,\n",
       ".xr-section-inline-details {\n",
       "  padding-top: 4px;\n",
       "  padding-bottom: 4px;\n",
       "}\n",
       "\n",
       ".xr-section-inline-details {\n",
       "  grid-column: 2 / -1;\n",
       "}\n",
       "\n",
       ".xr-section-details {\n",
       "  display: none;\n",
       "  grid-column: 1 / -1;\n",
       "  margin-bottom: 5px;\n",
       "}\n",
       "\n",
       ".xr-section-summary-in:checked ~ .xr-section-details {\n",
       "  display: contents;\n",
       "}\n",
       "\n",
       ".xr-array-wrap {\n",
       "  grid-column: 1 / -1;\n",
       "  display: grid;\n",
       "  grid-template-columns: 20px auto;\n",
       "}\n",
       "\n",
       ".xr-array-wrap > label {\n",
       "  grid-column: 1;\n",
       "  vertical-align: top;\n",
       "}\n",
       "\n",
       ".xr-preview {\n",
       "  color: var(--xr-font-color3);\n",
       "}\n",
       "\n",
       ".xr-array-preview,\n",
       ".xr-array-data {\n",
       "  padding: 0 5px !important;\n",
       "  grid-column: 2;\n",
       "}\n",
       "\n",
       ".xr-array-data,\n",
       ".xr-array-in:checked ~ .xr-array-preview {\n",
       "  display: none;\n",
       "}\n",
       "\n",
       ".xr-array-in:checked ~ .xr-array-data,\n",
       ".xr-array-preview {\n",
       "  display: inline-block;\n",
       "}\n",
       "\n",
       ".xr-dim-list {\n",
       "  display: inline-block !important;\n",
       "  list-style: none;\n",
       "  padding: 0 !important;\n",
       "  margin: 0;\n",
       "}\n",
       "\n",
       ".xr-dim-list li {\n",
       "  display: inline-block;\n",
       "  padding: 0;\n",
       "  margin: 0;\n",
       "}\n",
       "\n",
       ".xr-dim-list:before {\n",
       "  content: '(';\n",
       "}\n",
       "\n",
       ".xr-dim-list:after {\n",
       "  content: ')';\n",
       "}\n",
       "\n",
       ".xr-dim-list li:not(:last-child):after {\n",
       "  content: ',';\n",
       "  padding-right: 5px;\n",
       "}\n",
       "\n",
       ".xr-has-index {\n",
       "  font-weight: bold;\n",
       "}\n",
       "\n",
       ".xr-var-list,\n",
       ".xr-var-item {\n",
       "  display: contents;\n",
       "}\n",
       "\n",
       ".xr-var-item > div,\n",
       ".xr-var-item label,\n",
       ".xr-var-item > .xr-var-name span {\n",
       "  background-color: var(--xr-background-color-row-even);\n",
       "  margin-bottom: 0;\n",
       "}\n",
       "\n",
       ".xr-var-item > .xr-var-name:hover span {\n",
       "  padding-right: 5px;\n",
       "}\n",
       "\n",
       ".xr-var-list > li:nth-child(odd) > div,\n",
       ".xr-var-list > li:nth-child(odd) > label,\n",
       ".xr-var-list > li:nth-child(odd) > .xr-var-name span {\n",
       "  background-color: var(--xr-background-color-row-odd);\n",
       "}\n",
       "\n",
       ".xr-var-name {\n",
       "  grid-column: 1;\n",
       "}\n",
       "\n",
       ".xr-var-dims {\n",
       "  grid-column: 2;\n",
       "}\n",
       "\n",
       ".xr-var-dtype {\n",
       "  grid-column: 3;\n",
       "  text-align: right;\n",
       "  color: var(--xr-font-color2);\n",
       "}\n",
       "\n",
       ".xr-var-preview {\n",
       "  grid-column: 4;\n",
       "}\n",
       "\n",
       ".xr-var-name,\n",
       ".xr-var-dims,\n",
       ".xr-var-dtype,\n",
       ".xr-preview,\n",
       ".xr-attrs dt {\n",
       "  white-space: nowrap;\n",
       "  overflow: hidden;\n",
       "  text-overflow: ellipsis;\n",
       "  padding-right: 10px;\n",
       "}\n",
       "\n",
       ".xr-var-name:hover,\n",
       ".xr-var-dims:hover,\n",
       ".xr-var-dtype:hover,\n",
       ".xr-attrs dt:hover {\n",
       "  overflow: visible;\n",
       "  width: auto;\n",
       "  z-index: 1;\n",
       "}\n",
       "\n",
       ".xr-var-attrs,\n",
       ".xr-var-data {\n",
       "  display: none;\n",
       "  background-color: var(--xr-background-color) !important;\n",
       "  padding-bottom: 5px !important;\n",
       "}\n",
       "\n",
       ".xr-var-attrs-in:checked ~ .xr-var-attrs,\n",
       ".xr-var-data-in:checked ~ .xr-var-data {\n",
       "  display: block;\n",
       "}\n",
       "\n",
       ".xr-var-data > table {\n",
       "  float: right;\n",
       "}\n",
       "\n",
       ".xr-var-name span,\n",
       ".xr-var-data,\n",
       ".xr-attrs {\n",
       "  padding-left: 25px !important;\n",
       "}\n",
       "\n",
       ".xr-attrs,\n",
       ".xr-var-attrs,\n",
       ".xr-var-data {\n",
       "  grid-column: 1 / -1;\n",
       "}\n",
       "\n",
       "dl.xr-attrs {\n",
       "  padding: 0;\n",
       "  margin: 0;\n",
       "  display: grid;\n",
       "  grid-template-columns: 125px auto;\n",
       "}\n",
       "\n",
       ".xr-attrs dt,\n",
       ".xr-attrs dd {\n",
       "  padding: 0;\n",
       "  margin: 0;\n",
       "  float: left;\n",
       "  padding-right: 10px;\n",
       "  width: auto;\n",
       "}\n",
       "\n",
       ".xr-attrs dt {\n",
       "  font-weight: normal;\n",
       "  grid-column: 1;\n",
       "}\n",
       "\n",
       ".xr-attrs dt:hover span {\n",
       "  display: inline-block;\n",
       "  background: var(--xr-background-color);\n",
       "  padding-right: 10px;\n",
       "}\n",
       "\n",
       ".xr-attrs dd {\n",
       "  grid-column: 2;\n",
       "  white-space: pre-wrap;\n",
       "  word-break: break-all;\n",
       "}\n",
       "\n",
       ".xr-icon-database,\n",
       ".xr-icon-file-text2 {\n",
       "  display: inline-block;\n",
       "  vertical-align: middle;\n",
       "  width: 1em;\n",
       "  height: 1.5em !important;\n",
       "  stroke-width: 0;\n",
       "  stroke: currentColor;\n",
       "  fill: currentColor;\n",
       "}\n",
       "</style><pre class='xr-text-repr-fallback'>&lt;xarray.Dataset&gt;\n",
       "Dimensions:  (GCM: 9, decile: 10, time: 1, step: 5, lat: 486, lon: 726)\n",
       "Coordinates:\n",
       "  * GCM      (GCM) object &#x27;DWD&#x27; &#x27;CMCC&#x27; &#x27;UKMO&#x27; ... &#x27;METEO_FRANCE&#x27; &#x27;NCEP&#x27; &#x27;JMA&#x27;\n",
       "  * time     (time) datetime64[ns] 2022-03-01\n",
       "  * step     (step) int64 1 2 3 4 5\n",
       "    month    int64 3\n",
       "  * decile   (decile) int64 1 2 3 4 5 6 7 8 9 10\n",
       "  * lon      (lon) float64 120.0 120.2 120.3 120.5 ... 239.5 239.7 239.8 240.0\n",
       "  * lat      (lat) float64 -50.0 -49.84 -49.67 -49.51 ... 29.51 29.67 29.84 30.0\n",
       "Data variables:\n",
       "    precip   (GCM, decile, time, step, lat, lon) float64 dask.array&lt;chunksize=(1, 10, 1, 5, 486, 726), meta=np.ndarray&gt;\n",
       "Attributes:\n",
       "    pct_values:  [0.1 0.2 0.3 0.4 0.5 0.6 0.7 0.8 0.9]</pre><div class='xr-wrap' style='display:none'><div class='xr-header'><div class='xr-obj-type'>xarray.Dataset</div></div><ul class='xr-sections'><li class='xr-section-item'><input id='section-c0a88e6c-2f9b-4887-843b-8a8eb7997a41' class='xr-section-summary-in' type='checkbox' disabled ><label for='section-c0a88e6c-2f9b-4887-843b-8a8eb7997a41' class='xr-section-summary'  title='Expand/collapse section'>Dimensions:</label><div class='xr-section-inline-details'><ul class='xr-dim-list'><li><span class='xr-has-index'>GCM</span>: 9</li><li><span class='xr-has-index'>decile</span>: 10</li><li><span class='xr-has-index'>time</span>: 1</li><li><span class='xr-has-index'>step</span>: 5</li><li><span class='xr-has-index'>lat</span>: 486</li><li><span class='xr-has-index'>lon</span>: 726</li></ul></div><div class='xr-section-details'></div></li><li class='xr-section-item'><input id='section-5c8e975b-a657-40d0-865c-a98a08a836ad' class='xr-section-summary-in' type='checkbox'  checked><label for='section-5c8e975b-a657-40d0-865c-a98a08a836ad' class='xr-section-summary' >Coordinates: <span>(7)</span></label><div class='xr-section-inline-details'></div><div class='xr-section-details'><ul class='xr-var-list'><li class='xr-var-item'><div class='xr-var-name'><span class='xr-has-index'>GCM</span></div><div class='xr-var-dims'>(GCM)</div><div class='xr-var-dtype'>object</div><div class='xr-var-preview xr-preview'>&#x27;DWD&#x27; &#x27;CMCC&#x27; ... &#x27;NCEP&#x27; &#x27;JMA&#x27;</div><input id='attrs-c1f0b596-28d0-472a-857d-dbbbd34cc20b' class='xr-var-attrs-in' type='checkbox' disabled><label for='attrs-c1f0b596-28d0-472a-857d-dbbbd34cc20b' title='Show/Hide attributes'><svg class='icon xr-icon-file-text2'><use xlink:href='#icon-file-text2'></use></svg></label><input id='data-acea49f4-fcaf-42a3-8205-a4d8540d3bbe' class='xr-var-data-in' type='checkbox'><label for='data-acea49f4-fcaf-42a3-8205-a4d8540d3bbe' title='Show/Hide data repr'><svg class='icon xr-icon-database'><use xlink:href='#icon-database'></use></svg></label><div class='xr-var-attrs'><dl class='xr-attrs'></dl></div><div class='xr-var-data'><pre>array([&#x27;DWD&#x27;, &#x27;CMCC&#x27;, &#x27;UKMO&#x27;, &#x27;ECCC_GEM_NEMO&#x27;, &#x27;ECMWF&#x27;, &#x27;ECCC_CanCM4i&#x27;,\n",
       "       &#x27;METEO_FRANCE&#x27;, &#x27;NCEP&#x27;, &#x27;JMA&#x27;], dtype=object)</pre></div></li><li class='xr-var-item'><div class='xr-var-name'><span class='xr-has-index'>time</span></div><div class='xr-var-dims'>(time)</div><div class='xr-var-dtype'>datetime64[ns]</div><div class='xr-var-preview xr-preview'>2022-03-01</div><input id='attrs-acff8982-2e50-4179-920b-e806a75df58b' class='xr-var-attrs-in' type='checkbox' disabled><label for='attrs-acff8982-2e50-4179-920b-e806a75df58b' title='Show/Hide attributes'><svg class='icon xr-icon-file-text2'><use xlink:href='#icon-file-text2'></use></svg></label><input id='data-045b989d-6a65-403f-9494-54c74dbe3243' class='xr-var-data-in' type='checkbox'><label for='data-045b989d-6a65-403f-9494-54c74dbe3243' title='Show/Hide data repr'><svg class='icon xr-icon-database'><use xlink:href='#icon-database'></use></svg></label><div class='xr-var-attrs'><dl class='xr-attrs'></dl></div><div class='xr-var-data'><pre>array([&#x27;2022-03-01T00:00:00.000000000&#x27;], dtype=&#x27;datetime64[ns]&#x27;)</pre></div></li><li class='xr-var-item'><div class='xr-var-name'><span class='xr-has-index'>step</span></div><div class='xr-var-dims'>(step)</div><div class='xr-var-dtype'>int64</div><div class='xr-var-preview xr-preview'>1 2 3 4 5</div><input id='attrs-ed2c30dd-a117-46b0-8962-49e3ac1e6e3e' class='xr-var-attrs-in' type='checkbox' disabled><label for='attrs-ed2c30dd-a117-46b0-8962-49e3ac1e6e3e' title='Show/Hide attributes'><svg class='icon xr-icon-file-text2'><use xlink:href='#icon-file-text2'></use></svg></label><input id='data-9040719f-5c26-42a3-9d50-e6f005f862b9' class='xr-var-data-in' type='checkbox'><label for='data-9040719f-5c26-42a3-9d50-e6f005f862b9' title='Show/Hide data repr'><svg class='icon xr-icon-database'><use xlink:href='#icon-database'></use></svg></label><div class='xr-var-attrs'><dl class='xr-attrs'></dl></div><div class='xr-var-data'><pre>array([1, 2, 3, 4, 5])</pre></div></li><li class='xr-var-item'><div class='xr-var-name'><span>month</span></div><div class='xr-var-dims'>()</div><div class='xr-var-dtype'>int64</div><div class='xr-var-preview xr-preview'>3</div><input id='attrs-e5fcfc05-e609-491c-808f-c57a881dd316' class='xr-var-attrs-in' type='checkbox' disabled><label for='attrs-e5fcfc05-e609-491c-808f-c57a881dd316' title='Show/Hide attributes'><svg class='icon xr-icon-file-text2'><use xlink:href='#icon-file-text2'></use></svg></label><input id='data-3d4f0e97-ef81-4f7c-8adf-98fcde142a99' class='xr-var-data-in' type='checkbox'><label for='data-3d4f0e97-ef81-4f7c-8adf-98fcde142a99' title='Show/Hide data repr'><svg class='icon xr-icon-database'><use xlink:href='#icon-database'></use></svg></label><div class='xr-var-attrs'><dl class='xr-attrs'></dl></div><div class='xr-var-data'><pre>array(3)</pre></div></li><li class='xr-var-item'><div class='xr-var-name'><span class='xr-has-index'>decile</span></div><div class='xr-var-dims'>(decile)</div><div class='xr-var-dtype'>int64</div><div class='xr-var-preview xr-preview'>1 2 3 4 5 6 7 8 9 10</div><input id='attrs-b9500d11-2c96-4b00-a1ef-2c75f6cca6fa' class='xr-var-attrs-in' type='checkbox' disabled><label for='attrs-b9500d11-2c96-4b00-a1ef-2c75f6cca6fa' title='Show/Hide attributes'><svg class='icon xr-icon-file-text2'><use xlink:href='#icon-file-text2'></use></svg></label><input id='data-c0014517-054c-4dc3-a2dc-a9295f35a5d0' class='xr-var-data-in' type='checkbox'><label for='data-c0014517-054c-4dc3-a2dc-a9295f35a5d0' title='Show/Hide data repr'><svg class='icon xr-icon-database'><use xlink:href='#icon-database'></use></svg></label><div class='xr-var-attrs'><dl class='xr-attrs'></dl></div><div class='xr-var-data'><pre>array([ 1,  2,  3,  4,  5,  6,  7,  8,  9, 10])</pre></div></li><li class='xr-var-item'><div class='xr-var-name'><span class='xr-has-index'>lon</span></div><div class='xr-var-dims'>(lon)</div><div class='xr-var-dtype'>float64</div><div class='xr-var-preview xr-preview'>120.0 120.2 120.3 ... 239.8 240.0</div><input id='attrs-3cbc09b1-ad8f-43db-bd66-ec6a3c7e7cb3' class='xr-var-attrs-in' type='checkbox' disabled><label for='attrs-3cbc09b1-ad8f-43db-bd66-ec6a3c7e7cb3' title='Show/Hide attributes'><svg class='icon xr-icon-file-text2'><use xlink:href='#icon-file-text2'></use></svg></label><input id='data-c386a57a-63e0-4ea5-8e16-98be30b10140' class='xr-var-data-in' type='checkbox'><label for='data-c386a57a-63e0-4ea5-8e16-98be30b10140' title='Show/Hide data repr'><svg class='icon xr-icon-database'><use xlink:href='#icon-database'></use></svg></label><div class='xr-var-attrs'><dl class='xr-attrs'></dl></div><div class='xr-var-data'><pre>array([120.      , 120.165517, 120.331034, ..., 239.668966, 239.834483,\n",
       "       240.      ])</pre></div></li><li class='xr-var-item'><div class='xr-var-name'><span class='xr-has-index'>lat</span></div><div class='xr-var-dims'>(lat)</div><div class='xr-var-dtype'>float64</div><div class='xr-var-preview xr-preview'>-50.0 -49.84 -49.67 ... 29.84 30.0</div><input id='attrs-bd3edd4e-5293-4ca3-a9d6-4143da6661c2' class='xr-var-attrs-in' type='checkbox' disabled><label for='attrs-bd3edd4e-5293-4ca3-a9d6-4143da6661c2' title='Show/Hide attributes'><svg class='icon xr-icon-file-text2'><use xlink:href='#icon-file-text2'></use></svg></label><input id='data-84798b47-67b6-4063-950f-44d73a97b3a8' class='xr-var-data-in' type='checkbox'><label for='data-84798b47-67b6-4063-950f-44d73a97b3a8' title='Show/Hide data repr'><svg class='icon xr-icon-database'><use xlink:href='#icon-database'></use></svg></label><div class='xr-var-attrs'><dl class='xr-attrs'></dl></div><div class='xr-var-data'><pre>array([-50.      , -49.835052, -49.670103, ...,  29.670103,  29.835052,\n",
       "        30.      ])</pre></div></li></ul></div></li><li class='xr-section-item'><input id='section-1cee5019-7ec5-4b58-b4a8-1237b43c72be' class='xr-section-summary-in' type='checkbox'  checked><label for='section-1cee5019-7ec5-4b58-b4a8-1237b43c72be' class='xr-section-summary' >Data variables: <span>(1)</span></label><div class='xr-section-inline-details'></div><div class='xr-section-details'><ul class='xr-var-list'><li class='xr-var-item'><div class='xr-var-name'><span>precip</span></div><div class='xr-var-dims'>(GCM, decile, time, step, lat, lon)</div><div class='xr-var-dtype'>float64</div><div class='xr-var-preview xr-preview'>dask.array&lt;chunksize=(1, 10, 1, 5, 486, 726), meta=np.ndarray&gt;</div><input id='attrs-d0526e27-cf0b-4229-9f4f-39a4fdcd5818' class='xr-var-attrs-in' type='checkbox' disabled><label for='attrs-d0526e27-cf0b-4229-9f4f-39a4fdcd5818' title='Show/Hide attributes'><svg class='icon xr-icon-file-text2'><use xlink:href='#icon-file-text2'></use></svg></label><input id='data-07710a29-1cb9-45b1-b31c-c024a9c4957e' class='xr-var-data-in' type='checkbox'><label for='data-07710a29-1cb9-45b1-b31c-c024a9c4957e' title='Show/Hide data repr'><svg class='icon xr-icon-database'><use xlink:href='#icon-database'></use></svg></label><div class='xr-var-attrs'><dl class='xr-attrs'></dl></div><div class='xr-var-data'><table>\n",
       "    <tr>\n",
       "        <td>\n",
       "            <table>\n",
       "                <thead>\n",
       "                    <tr>\n",
       "                        <td> </td>\n",
       "                        <th> Array </th>\n",
       "                        <th> Chunk </th>\n",
       "                    </tr>\n",
       "                </thead>\n",
       "                <tbody>\n",
       "                    \n",
       "                    <tr>\n",
       "                        <th> Bytes </th>\n",
       "                        <td> 1.18 GiB </td>\n",
       "                        <td> 134.60 MiB </td>\n",
       "                    </tr>\n",
       "                    \n",
       "                    <tr>\n",
       "                        <th> Shape </th>\n",
       "                        <td> (9, 10, 1, 5, 486, 726) </td>\n",
       "                        <td> (1, 10, 1, 5, 486, 726) </td>\n",
       "                    </tr>\n",
       "                    <tr>\n",
       "                        <th> Count </th>\n",
       "                        <td> 71 Tasks </td>\n",
       "                        <td> 9 Chunks </td>\n",
       "                    </tr>\n",
       "                    <tr>\n",
       "                    <th> Type </th>\n",
       "                    <td> float64 </td>\n",
       "                    <td> numpy.ndarray </td>\n",
       "                    </tr>\n",
       "                </tbody>\n",
       "            </table>\n",
       "        </td>\n",
       "        <td>\n",
       "        <svg width=\"424\" height=\"145\" style=\"stroke:rgb(0,0,0);stroke-width:1\" >\n",
       "\n",
       "  <!-- Horizontal lines -->\n",
       "  <line x1=\"10\" y1=\"0\" x2=\"25\" y2=\"15\" style=\"stroke-width:2\" />\n",
       "  <line x1=\"10\" y1=\"27\" x2=\"25\" y2=\"42\" style=\"stroke-width:2\" />\n",
       "\n",
       "  <!-- Vertical lines -->\n",
       "  <line x1=\"10\" y1=\"0\" x2=\"10\" y2=\"27\" style=\"stroke-width:2\" />\n",
       "  <line x1=\"11\" y1=\"1\" x2=\"11\" y2=\"28\" />\n",
       "  <line x1=\"13\" y1=\"3\" x2=\"13\" y2=\"30\" />\n",
       "  <line x1=\"15\" y1=\"5\" x2=\"15\" y2=\"32\" />\n",
       "  <line x1=\"16\" y1=\"6\" x2=\"16\" y2=\"33\" />\n",
       "  <line x1=\"18\" y1=\"8\" x2=\"18\" y2=\"35\" />\n",
       "  <line x1=\"20\" y1=\"10\" x2=\"20\" y2=\"37\" />\n",
       "  <line x1=\"22\" y1=\"12\" x2=\"22\" y2=\"39\" />\n",
       "  <line x1=\"23\" y1=\"13\" x2=\"23\" y2=\"40\" />\n",
       "  <line x1=\"25\" y1=\"15\" x2=\"25\" y2=\"42\" style=\"stroke-width:2\" />\n",
       "\n",
       "  <!-- Colored Rectangle -->\n",
       "  <polygon points=\"10.0,0.0 25.5709935097992,15.570993509799202 25.5709935097992,42.581891523612626 10.0,27.01089801381342\" style=\"fill:#ECB172A0;stroke-width:0\"/>\n",
       "\n",
       "  <!-- Horizontal lines -->\n",
       "  <line x1=\"10\" y1=\"0\" x2=\"35\" y2=\"0\" style=\"stroke-width:2\" />\n",
       "  <line x1=\"11\" y1=\"1\" x2=\"37\" y2=\"1\" />\n",
       "  <line x1=\"13\" y1=\"3\" x2=\"38\" y2=\"3\" />\n",
       "  <line x1=\"15\" y1=\"5\" x2=\"40\" y2=\"5\" />\n",
       "  <line x1=\"16\" y1=\"6\" x2=\"42\" y2=\"6\" />\n",
       "  <line x1=\"18\" y1=\"8\" x2=\"44\" y2=\"8\" />\n",
       "  <line x1=\"20\" y1=\"10\" x2=\"45\" y2=\"10\" />\n",
       "  <line x1=\"22\" y1=\"12\" x2=\"47\" y2=\"12\" />\n",
       "  <line x1=\"23\" y1=\"13\" x2=\"49\" y2=\"13\" />\n",
       "  <line x1=\"25\" y1=\"15\" x2=\"50\" y2=\"15\" style=\"stroke-width:2\" />\n",
       "\n",
       "  <!-- Vertical lines -->\n",
       "  <line x1=\"10\" y1=\"0\" x2=\"25\" y2=\"15\" style=\"stroke-width:2\" />\n",
       "  <line x1=\"35\" y1=\"0\" x2=\"50\" y2=\"15\" style=\"stroke-width:2\" />\n",
       "\n",
       "  <!-- Colored Rectangle -->\n",
       "  <polygon points=\"10.0,0.0 35.41261651458248,0.0 50.98361002438168,15.570993509799202 25.5709935097992,15.570993509799202\" style=\"fill:#ECB172A0;stroke-width:0\"/>\n",
       "\n",
       "  <!-- Horizontal lines -->\n",
       "  <line x1=\"25\" y1=\"15\" x2=\"50\" y2=\"15\" style=\"stroke-width:2\" />\n",
       "  <line x1=\"25\" y1=\"42\" x2=\"50\" y2=\"42\" style=\"stroke-width:2\" />\n",
       "\n",
       "  <!-- Vertical lines -->\n",
       "  <line x1=\"25\" y1=\"15\" x2=\"25\" y2=\"42\" style=\"stroke-width:2\" />\n",
       "  <line x1=\"50\" y1=\"15\" x2=\"50\" y2=\"42\" style=\"stroke-width:2\" />\n",
       "\n",
       "  <!-- Colored Rectangle -->\n",
       "  <polygon points=\"25.5709935097992,15.570993509799202 50.98361002438169,15.570993509799202 50.98361002438169,42.581891523612626 25.5709935097992,42.581891523612626\" style=\"fill:#ECB172A0;stroke-width:0\"/>\n",
       "\n",
       "  <!-- Text -->\n",
       "  <text x=\"38.277302\" y=\"62.581892\" font-size=\"1.0rem\" font-weight=\"100\" text-anchor=\"middle\" >1</text>\n",
       "  <text x=\"70.983610\" y=\"29.076443\" font-size=\"1.0rem\" font-weight=\"100\" text-anchor=\"middle\" transform=\"rotate(0,70.983610,29.076443)\">10</text>\n",
       "  <text x=\"7.785497\" y=\"54.796395\" font-size=\"1.0rem\" font-weight=\"100\" text-anchor=\"middle\" transform=\"rotate(45,7.785497,54.796395)\">9</text>\n",
       "\n",
       "\n",
       "  <!-- Horizontal lines -->\n",
       "  <line x1=\"120\" y1=\"0\" x2=\"134\" y2=\"14\" style=\"stroke-width:2\" />\n",
       "  <line x1=\"120\" y1=\"80\" x2=\"134\" y2=\"95\" style=\"stroke-width:2\" />\n",
       "\n",
       "  <!-- Vertical lines -->\n",
       "  <line x1=\"120\" y1=\"0\" x2=\"120\" y2=\"80\" style=\"stroke-width:2\" />\n",
       "  <line x1=\"134\" y1=\"14\" x2=\"134\" y2=\"95\" style=\"stroke-width:2\" />\n",
       "\n",
       "  <!-- Colored Rectangle -->\n",
       "  <polygon points=\"120.0,0.0 134.9485979497544,14.948597949754403 134.9485979497544,95.2791764621511 120.0,80.3305785123967\" style=\"fill:#ECB172A0;stroke-width:0\"/>\n",
       "\n",
       "  <!-- Horizontal lines -->\n",
       "  <line x1=\"120\" y1=\"0\" x2=\"240\" y2=\"0\" style=\"stroke-width:2\" />\n",
       "  <line x1=\"134\" y1=\"14\" x2=\"254\" y2=\"14\" style=\"stroke-width:2\" />\n",
       "\n",
       "  <!-- Vertical lines -->\n",
       "  <line x1=\"120\" y1=\"0\" x2=\"134\" y2=\"14\" style=\"stroke-width:2\" />\n",
       "  <line x1=\"240\" y1=\"0\" x2=\"254\" y2=\"14\" style=\"stroke-width:2\" />\n",
       "\n",
       "  <!-- Colored Rectangle -->\n",
       "  <polygon points=\"120.0,0.0 240.0,0.0 254.9485979497544,14.948597949754403 134.9485979497544,14.948597949754403\" style=\"fill:#ECB172A0;stroke-width:0\"/>\n",
       "\n",
       "  <!-- Horizontal lines -->\n",
       "  <line x1=\"134\" y1=\"14\" x2=\"254\" y2=\"14\" style=\"stroke-width:2\" />\n",
       "  <line x1=\"134\" y1=\"95\" x2=\"254\" y2=\"95\" style=\"stroke-width:2\" />\n",
       "\n",
       "  <!-- Vertical lines -->\n",
       "  <line x1=\"134\" y1=\"14\" x2=\"134\" y2=\"95\" style=\"stroke-width:2\" />\n",
       "  <line x1=\"254\" y1=\"14\" x2=\"254\" y2=\"95\" style=\"stroke-width:2\" />\n",
       "\n",
       "  <!-- Colored Rectangle -->\n",
       "  <polygon points=\"134.9485979497544,14.948597949754403 254.9485979497544,14.948597949754403 254.9485979497544,95.2791764621511 134.9485979497544,95.2791764621511\" style=\"fill:#ECB172A0;stroke-width:0\"/>\n",
       "\n",
       "  <!-- Text -->\n",
       "  <text x=\"194.948598\" y=\"115.279176\" font-size=\"1.0rem\" font-weight=\"100\" text-anchor=\"middle\" >726</text>\n",
       "  <text x=\"274.948598\" y=\"55.113887\" font-size=\"1.0rem\" font-weight=\"100\" text-anchor=\"middle\" transform=\"rotate(-90,274.948598,55.113887)\">486</text>\n",
       "  <text x=\"117.474299\" y=\"107.804877\" font-size=\"1.0rem\" font-weight=\"100\" text-anchor=\"middle\" transform=\"rotate(45,117.474299,107.804877)\">5</text>\n",
       "</svg>\n",
       "        </td>\n",
       "    </tr>\n",
       "</table></div></li></ul></div></li><li class='xr-section-item'><input id='section-272befe0-28b9-4db1-bad5-e0cb84632ec8' class='xr-section-summary-in' type='checkbox'  checked><label for='section-272befe0-28b9-4db1-bad5-e0cb84632ec8' class='xr-section-summary' >Attributes: <span>(1)</span></label><div class='xr-section-inline-details'></div><div class='xr-section-details'><dl class='xr-attrs'><dt><span>pct_values :</span></dt><dd>[0.1 0.2 0.3 0.4 0.5 0.6 0.7 0.8 0.9]</dd></dl></div></li></ul></div></div>"
      ],
      "text/plain": [
       "<xarray.Dataset>\n",
       "Dimensions:  (GCM: 9, decile: 10, time: 1, step: 5, lat: 486, lon: 726)\n",
       "Coordinates:\n",
       "  * GCM      (GCM) object 'DWD' 'CMCC' 'UKMO' ... 'METEO_FRANCE' 'NCEP' 'JMA'\n",
       "  * time     (time) datetime64[ns] 2022-03-01\n",
       "  * step     (step) int64 1 2 3 4 5\n",
       "    month    int64 3\n",
       "  * decile   (decile) int64 1 2 3 4 5 6 7 8 9 10\n",
       "  * lon      (lon) float64 120.0 120.2 120.3 120.5 ... 239.5 239.7 239.8 240.0\n",
       "  * lat      (lat) float64 -50.0 -49.84 -49.67 -49.51 ... 29.51 29.67 29.84 30.0\n",
       "Data variables:\n",
       "    precip   (GCM, decile, time, step, lat, lon) float64 dask.array<chunksize=(1, 10, 1, 5, 486, 726), meta=np.ndarray>\n",
       "Attributes:\n",
       "    pct_values:  [0.1 0.2 0.3 0.4 0.5 0.6 0.7 0.8 0.9]"
      ]
     },
     "execution_count": 25,
     "metadata": {},
     "output_type": "execute_result"
    }
   ],
   "source": [
    "probs"
   ]
  },
  {
   "cell_type": "code",
   "execution_count": 26,
   "id": "e0351790",
   "metadata": {
    "papermill": {
     "duration": 0.055683,
     "end_time": "2022-04-04T02:35:45.866628",
     "exception": false,
     "start_time": "2022-04-04T02:35:45.810945",
     "status": "completed"
    },
    "tags": []
   },
   "outputs": [],
   "source": [
    "probs = probs.mean('GCM')"
   ]
  },
  {
   "cell_type": "markdown",
   "id": "cf30fa54",
   "metadata": {
    "papermill": {
     "duration": 0.033539,
     "end_time": "2022-04-04T02:35:45.933861",
     "exception": false,
     "start_time": "2022-04-04T02:35:45.900322",
     "status": "completed"
    },
    "tags": []
   },
   "source": [
    "### make sure the probabilities sum to 100 over the decile dimension "
   ]
  },
  {
   "cell_type": "code",
   "execution_count": 27,
   "id": "2145cec1",
   "metadata": {
    "papermill": {
     "duration": 2.451848,
     "end_time": "2022-04-04T02:35:48.418698",
     "exception": false,
     "start_time": "2022-04-04T02:35:45.966850",
     "status": "completed"
    },
    "tags": []
   },
   "outputs": [
    {
     "data": {
      "text/plain": [
       "<matplotlib.collections.QuadMesh at 0x7f8a2579b730>"
      ]
     },
     "execution_count": 27,
     "metadata": {},
     "output_type": "execute_result"
    },
    {
     "data": {
      "image/png": "[encoded data removed]",
      "text/plain": [
       "<Figure size 432x288 with 2 Axes>"
      ]
     },
     "metadata": {
      "needs_background": "light"
     },
     "output_type": "display_data"
    }
   ],
   "source": [
    "probs.sum('decile').squeeze().sel(step=3)['precip'].plot(vmin=99.99, vmax=100.01)"
   ]
  },
  {
   "cell_type": "markdown",
   "id": "60ff4443",
   "metadata": {
    "papermill": {
     "duration": 0.035828,
     "end_time": "2022-04-04T02:35:48.491242",
     "exception": false,
     "start_time": "2022-04-04T02:35:48.455414",
     "status": "completed"
    },
    "tags": []
   },
   "source": [
    "### Now calculates the cumulative probabilities over the decile dimension "
   ]
  },
  {
   "cell_type": "code",
   "execution_count": 28,
   "id": "d275c7d1",
   "metadata": {
    "papermill": {
     "duration": 0.056303,
     "end_time": "2022-04-04T02:35:48.582527",
     "exception": false,
     "start_time": "2022-04-04T02:35:48.526224",
     "status": "completed"
    },
    "tags": []
   },
   "outputs": [],
   "source": [
    "cum_probs = probs.cumsum('decile', keep_attrs=True)"
   ]
  },
  {
   "cell_type": "code",
   "execution_count": 29,
   "id": "e2d3a5b1",
   "metadata": {
    "papermill": {
     "duration": 2.552668,
     "end_time": "2022-04-04T02:35:51.170830",
     "exception": false,
     "start_time": "2022-04-04T02:35:48.618162",
     "status": "completed"
    },
    "tags": []
   },
   "outputs": [
    {
     "data": {
      "text/plain": [
       "<matplotlib.collections.QuadMesh at 0x7f8a25610d60>"
      ]
     },
     "execution_count": 29,
     "metadata": {},
     "output_type": "execute_result"
    },
    {
     "data": {
      "image/png": "[encoded data removed]",
      "text/plain": [
       "<Figure size 432x288 with 2 Axes>"
      ]
     },
     "metadata": {
      "needs_background": "light"
     },
     "output_type": "display_data"
    }
   ],
   "source": [
    "cum_probs.isel(decile=-1).sel(step=step).squeeze()['precip'].plot(vmin=99.99, vmax=100.01)"
   ]
  },
  {
   "cell_type": "code",
   "execution_count": 30,
   "id": "5c82b73b-a41e-4aec-90ba-d46d59acbd25",
   "metadata": {
    "papermill": {
     "duration": 0.071063,
     "end_time": "2022-04-04T02:35:51.278745",
     "exception": false,
     "start_time": "2022-04-04T02:35:51.207682",
     "status": "completed"
    },
    "tags": []
   },
   "outputs": [
    {
     "data": {
      "text/html": [
       "<div><svg style=\"position: absolute; width: 0; height: 0; overflow: hidden\">\n",
       "<defs>\n",
       "<symbol id=\"icon-database\" viewBox=\"0 0 32 32\">\n",
       "<path d=\"M16 0c-8.837 0-16 2.239-16 5v4c0 2.761 7.163 5 16 5s16-2.239 16-5v-4c0-2.761-7.163-5-16-5z\"></path>\n",
       "<path d=\"M16 17c-8.837 0-16-2.239-16-5v6c0 2.761 7.163 5 16 5s16-2.239 16-5v-6c0 2.761-7.163 5-16 5z\"></path>\n",
       "<path d=\"M16 26c-8.837 0-16-2.239-16-5v6c0 2.761 7.163 5 16 5s16-2.239 16-5v-6c0 2.761-7.163 5-16 5z\"></path>\n",
       "</symbol>\n",
       "<symbol id=\"icon-file-text2\" viewBox=\"0 0 32 32\">\n",
       "<path d=\"M28.681 7.159c-0.694-0.947-1.662-2.053-2.724-3.116s-2.169-2.030-3.116-2.724c-1.612-1.182-2.393-1.319-2.841-1.319h-15.5c-1.378 0-2.5 1.121-2.5 2.5v27c0 1.378 1.122 2.5 2.5 2.5h23c1.378 0 2.5-1.122 2.5-2.5v-19.5c0-0.448-0.137-1.23-1.319-2.841zM24.543 5.457c0.959 0.959 1.712 1.825 2.268 2.543h-4.811v-4.811c0.718 0.556 1.584 1.309 2.543 2.268zM28 29.5c0 0.271-0.229 0.5-0.5 0.5h-23c-0.271 0-0.5-0.229-0.5-0.5v-27c0-0.271 0.229-0.5 0.5-0.5 0 0 15.499-0 15.5 0v7c0 0.552 0.448 1 1 1h7v19.5z\"></path>\n",
       "<path d=\"M23 26h-14c-0.552 0-1-0.448-1-1s0.448-1 1-1h14c0.552 0 1 0.448 1 1s-0.448 1-1 1z\"></path>\n",
       "<path d=\"M23 22h-14c-0.552 0-1-0.448-1-1s0.448-1 1-1h14c0.552 0 1 0.448 1 1s-0.448 1-1 1z\"></path>\n",
       "<path d=\"M23 18h-14c-0.552 0-1-0.448-1-1s0.448-1 1-1h14c0.552 0 1 0.448 1 1s-0.448 1-1 1z\"></path>\n",
       "</symbol>\n",
       "</defs>\n",
       "</svg>\n",
       "<style>/* CSS stylesheet for displaying xarray objects in jupyterlab.\n",
       " *\n",
       " */\n",
       "\n",
       ":root {\n",
       "  --xr-font-color0: var(--jp-content-font-color0, rgba(0, 0, 0, 1));\n",
       "  --xr-font-color2: var(--jp-content-font-color2, rgba(0, 0, 0, 0.54));\n",
       "  --xr-font-color3: var(--jp-content-font-color3, rgba(0, 0, 0, 0.38));\n",
       "  --xr-border-color: var(--jp-border-color2, #e0e0e0);\n",
       "  --xr-disabled-color: var(--jp-layout-color3, #bdbdbd);\n",
       "  --xr-background-color: var(--jp-layout-color0, white);\n",
       "  --xr-background-color-row-even: var(--jp-layout-color1, white);\n",
       "  --xr-background-color-row-odd: var(--jp-layout-color2, #eeeeee);\n",
       "}\n",
       "\n",
       "html[theme=dark],\n",
       "body.vscode-dark {\n",
       "  --xr-font-color0: rgba(255, 255, 255, 1);\n",
       "  --xr-font-color2: rgba(255, 255, 255, 0.54);\n",
       "  --xr-font-color3: rgba(255, 255, 255, 0.38);\n",
       "  --xr-border-color: #1F1F1F;\n",
       "  --xr-disabled-color: #515151;\n",
       "  --xr-background-color: #111111;\n",
       "  --xr-background-color-row-even: #111111;\n",
       "  --xr-background-color-row-odd: #313131;\n",
       "}\n",
       "\n",
       ".xr-wrap {\n",
       "  display: block !important;\n",
       "  min-width: 300px;\n",
       "  max-width: 700px;\n",
       "}\n",
       "\n",
       ".xr-text-repr-fallback {\n",
       "  /* fallback to plain text repr when CSS is not injected (untrusted notebook) */\n",
       "  display: none;\n",
       "}\n",
       "\n",
       ".xr-header {\n",
       "  padding-top: 6px;\n",
       "  padding-bottom: 6px;\n",
       "  margin-bottom: 4px;\n",
       "  border-bottom: solid 1px var(--xr-border-color);\n",
       "}\n",
       "\n",
       ".xr-header > div,\n",
       ".xr-header > ul {\n",
       "  display: inline;\n",
       "  margin-top: 0;\n",
       "  margin-bottom: 0;\n",
       "}\n",
       "\n",
       ".xr-obj-type,\n",
       ".xr-array-name {\n",
       "  margin-left: 2px;\n",
       "  margin-right: 10px;\n",
       "}\n",
       "\n",
       ".xr-obj-type {\n",
       "  color: var(--xr-font-color2);\n",
       "}\n",
       "\n",
       ".xr-sections {\n",
       "  padding-left: 0 !important;\n",
       "  display: grid;\n",
       "  grid-template-columns: 150px auto auto 1fr 20px 20px;\n",
       "}\n",
       "\n",
       ".xr-section-item {\n",
       "  display: contents;\n",
       "}\n",
       "\n",
       ".xr-section-item input {\n",
       "  display: none;\n",
       "}\n",
       "\n",
       ".xr-section-item input + label {\n",
       "  color: var(--xr-disabled-color);\n",
       "}\n",
       "\n",
       ".xr-section-item input:enabled + label {\n",
       "  cursor: pointer;\n",
       "  color: var(--xr-font-color2);\n",
       "}\n",
       "\n",
       ".xr-section-item input:enabled + label:hover {\n",
       "  color: var(--xr-font-color0);\n",
       "}\n",
       "\n",
       ".xr-section-summary {\n",
       "  grid-column: 1;\n",
       "  color: var(--xr-font-color2);\n",
       "  font-weight: 500;\n",
       "}\n",
       "\n",
       ".xr-section-summary > span {\n",
       "  display: inline-block;\n",
       "  padding-left: 0.5em;\n",
       "}\n",
       "\n",
       ".xr-section-summary-in:disabled + label {\n",
       "  color: var(--xr-font-color2);\n",
       "}\n",
       "\n",
       ".xr-section-summary-in + label:before {\n",
       "  display: inline-block;\n",
       "  content: '►';\n",
       "  font-size: 11px;\n",
       "  width: 15px;\n",
       "  text-align: center;\n",
       "}\n",
       "\n",
       ".xr-section-summary-in:disabled + label:before {\n",
       "  color: var(--xr-disabled-color);\n",
       "}\n",
       "\n",
       ".xr-section-summary-in:checked + label:before {\n",
       "  content: '▼';\n",
       "}\n",
       "\n",
       ".xr-section-summary-in:checked + label > span {\n",
       "  display: none;\n",
       "}\n",
       "\n",
       ".xr-section-summary,\n",
       ".xr-section-inline-details {\n",
       "  padding-top: 4px;\n",
       "  padding-bottom: 4px;\n",
       "}\n",
       "\n",
       ".xr-section-inline-details {\n",
       "  grid-column: 2 / -1;\n",
       "}\n",
       "\n",
       ".xr-section-details {\n",
       "  display: none;\n",
       "  grid-column: 1 / -1;\n",
       "  margin-bottom: 5px;\n",
       "}\n",
       "\n",
       ".xr-section-summary-in:checked ~ .xr-section-details {\n",
       "  display: contents;\n",
       "}\n",
       "\n",
       ".xr-array-wrap {\n",
       "  grid-column: 1 / -1;\n",
       "  display: grid;\n",
       "  grid-template-columns: 20px auto;\n",
       "}\n",
       "\n",
       ".xr-array-wrap > label {\n",
       "  grid-column: 1;\n",
       "  vertical-align: top;\n",
       "}\n",
       "\n",
       ".xr-preview {\n",
       "  color: var(--xr-font-color3);\n",
       "}\n",
       "\n",
       ".xr-array-preview,\n",
       ".xr-array-data {\n",
       "  padding: 0 5px !important;\n",
       "  grid-column: 2;\n",
       "}\n",
       "\n",
       ".xr-array-data,\n",
       ".xr-array-in:checked ~ .xr-array-preview {\n",
       "  display: none;\n",
       "}\n",
       "\n",
       ".xr-array-in:checked ~ .xr-array-data,\n",
       ".xr-array-preview {\n",
       "  display: inline-block;\n",
       "}\n",
       "\n",
       ".xr-dim-list {\n",
       "  display: inline-block !important;\n",
       "  list-style: none;\n",
       "  padding: 0 !important;\n",
       "  margin: 0;\n",
       "}\n",
       "\n",
       ".xr-dim-list li {\n",
       "  display: inline-block;\n",
       "  padding: 0;\n",
       "  margin: 0;\n",
       "}\n",
       "\n",
       ".xr-dim-list:before {\n",
       "  content: '(';\n",
       "}\n",
       "\n",
       ".xr-dim-list:after {\n",
       "  content: ')';\n",
       "}\n",
       "\n",
       ".xr-dim-list li:not(:last-child):after {\n",
       "  content: ',';\n",
       "  padding-right: 5px;\n",
       "}\n",
       "\n",
       ".xr-has-index {\n",
       "  font-weight: bold;\n",
       "}\n",
       "\n",
       ".xr-var-list,\n",
       ".xr-var-item {\n",
       "  display: contents;\n",
       "}\n",
       "\n",
       ".xr-var-item > div,\n",
       ".xr-var-item label,\n",
       ".xr-var-item > .xr-var-name span {\n",
       "  background-color: var(--xr-background-color-row-even);\n",
       "  margin-bottom: 0;\n",
       "}\n",
       "\n",
       ".xr-var-item > .xr-var-name:hover span {\n",
       "  padding-right: 5px;\n",
       "}\n",
       "\n",
       ".xr-var-list > li:nth-child(odd) > div,\n",
       ".xr-var-list > li:nth-child(odd) > label,\n",
       ".xr-var-list > li:nth-child(odd) > .xr-var-name span {\n",
       "  background-color: var(--xr-background-color-row-odd);\n",
       "}\n",
       "\n",
       ".xr-var-name {\n",
       "  grid-column: 1;\n",
       "}\n",
       "\n",
       ".xr-var-dims {\n",
       "  grid-column: 2;\n",
       "}\n",
       "\n",
       ".xr-var-dtype {\n",
       "  grid-column: 3;\n",
       "  text-align: right;\n",
       "  color: var(--xr-font-color2);\n",
       "}\n",
       "\n",
       ".xr-var-preview {\n",
       "  grid-column: 4;\n",
       "}\n",
       "\n",
       ".xr-var-name,\n",
       ".xr-var-dims,\n",
       ".xr-var-dtype,\n",
       ".xr-preview,\n",
       ".xr-attrs dt {\n",
       "  white-space: nowrap;\n",
       "  overflow: hidden;\n",
       "  text-overflow: ellipsis;\n",
       "  padding-right: 10px;\n",
       "}\n",
       "\n",
       ".xr-var-name:hover,\n",
       ".xr-var-dims:hover,\n",
       ".xr-var-dtype:hover,\n",
       ".xr-attrs dt:hover {\n",
       "  overflow: visible;\n",
       "  width: auto;\n",
       "  z-index: 1;\n",
       "}\n",
       "\n",
       ".xr-var-attrs,\n",
       ".xr-var-data {\n",
       "  display: none;\n",
       "  background-color: var(--xr-background-color) !important;\n",
       "  padding-bottom: 5px !important;\n",
       "}\n",
       "\n",
       ".xr-var-attrs-in:checked ~ .xr-var-attrs,\n",
       ".xr-var-data-in:checked ~ .xr-var-data {\n",
       "  display: block;\n",
       "}\n",
       "\n",
       ".xr-var-data > table {\n",
       "  float: right;\n",
       "}\n",
       "\n",
       ".xr-var-name span,\n",
       ".xr-var-data,\n",
       ".xr-attrs {\n",
       "  padding-left: 25px !important;\n",
       "}\n",
       "\n",
       ".xr-attrs,\n",
       ".xr-var-attrs,\n",
       ".xr-var-data {\n",
       "  grid-column: 1 / -1;\n",
       "}\n",
       "\n",
       "dl.xr-attrs {\n",
       "  padding: 0;\n",
       "  margin: 0;\n",
       "  display: grid;\n",
       "  grid-template-columns: 125px auto;\n",
       "}\n",
       "\n",
       ".xr-attrs dt,\n",
       ".xr-attrs dd {\n",
       "  padding: 0;\n",
       "  margin: 0;\n",
       "  float: left;\n",
       "  padding-right: 10px;\n",
       "  width: auto;\n",
       "}\n",
       "\n",
       ".xr-attrs dt {\n",
       "  font-weight: normal;\n",
       "  grid-column: 1;\n",
       "}\n",
       "\n",
       ".xr-attrs dt:hover span {\n",
       "  display: inline-block;\n",
       "  background: var(--xr-background-color);\n",
       "  padding-right: 10px;\n",
       "}\n",
       "\n",
       ".xr-attrs dd {\n",
       "  grid-column: 2;\n",
       "  white-space: pre-wrap;\n",
       "  word-break: break-all;\n",
       "}\n",
       "\n",
       ".xr-icon-database,\n",
       ".xr-icon-file-text2 {\n",
       "  display: inline-block;\n",
       "  vertical-align: middle;\n",
       "  width: 1em;\n",
       "  height: 1.5em !important;\n",
       "  stroke-width: 0;\n",
       "  stroke: currentColor;\n",
       "  fill: currentColor;\n",
       "}\n",
       "</style><pre class='xr-text-repr-fallback'>&lt;xarray.Dataset&gt;\n",
       "Dimensions:  (decile: 10, time: 1, step: 5, lat: 486, lon: 726)\n",
       "Coordinates:\n",
       "  * time     (time) datetime64[ns] 2022-03-01\n",
       "  * step     (step) int64 1 2 3 4 5\n",
       "    month    int64 3\n",
       "  * lon      (lon) float64 120.0 120.2 120.3 120.5 ... 239.5 239.7 239.8 240.0\n",
       "  * lat      (lat) float64 -50.0 -49.84 -49.67 -49.51 ... 29.51 29.67 29.84 30.0\n",
       "Dimensions without coordinates: decile\n",
       "Data variables:\n",
       "    precip   (decile, time, step, lat, lon) float64 dask.array&lt;chunksize=(10, 1, 5, 486, 726), meta=np.ndarray&gt;</pre><div class='xr-wrap' style='display:none'><div class='xr-header'><div class='xr-obj-type'>xarray.Dataset</div></div><ul class='xr-sections'><li class='xr-section-item'><input id='section-0a2f55a9-f142-4478-a0ce-efe4dd3964d3' class='xr-section-summary-in' type='checkbox' disabled ><label for='section-0a2f55a9-f142-4478-a0ce-efe4dd3964d3' class='xr-section-summary'  title='Expand/collapse section'>Dimensions:</label><div class='xr-section-inline-details'><ul class='xr-dim-list'><li><span>decile</span>: 10</li><li><span class='xr-has-index'>time</span>: 1</li><li><span class='xr-has-index'>step</span>: 5</li><li><span class='xr-has-index'>lat</span>: 486</li><li><span class='xr-has-index'>lon</span>: 726</li></ul></div><div class='xr-section-details'></div></li><li class='xr-section-item'><input id='section-32f85f01-3e3f-4cd1-b60d-dec2471ec9e8' class='xr-section-summary-in' type='checkbox'  checked><label for='section-32f85f01-3e3f-4cd1-b60d-dec2471ec9e8' class='xr-section-summary' >Coordinates: <span>(5)</span></label><div class='xr-section-inline-details'></div><div class='xr-section-details'><ul class='xr-var-list'><li class='xr-var-item'><div class='xr-var-name'><span class='xr-has-index'>time</span></div><div class='xr-var-dims'>(time)</div><div class='xr-var-dtype'>datetime64[ns]</div><div class='xr-var-preview xr-preview'>2022-03-01</div><input id='attrs-4a2c912b-1122-4a89-be33-b956574bf9aa' class='xr-var-attrs-in' type='checkbox' disabled><label for='attrs-4a2c912b-1122-4a89-be33-b956574bf9aa' title='Show/Hide attributes'><svg class='icon xr-icon-file-text2'><use xlink:href='#icon-file-text2'></use></svg></label><input id='data-1fb98599-eede-4cf9-822c-66148e9393e5' class='xr-var-data-in' type='checkbox'><label for='data-1fb98599-eede-4cf9-822c-66148e9393e5' title='Show/Hide data repr'><svg class='icon xr-icon-database'><use xlink:href='#icon-database'></use></svg></label><div class='xr-var-attrs'><dl class='xr-attrs'></dl></div><div class='xr-var-data'><pre>array([&#x27;2022-03-01T00:00:00.000000000&#x27;], dtype=&#x27;datetime64[ns]&#x27;)</pre></div></li><li class='xr-var-item'><div class='xr-var-name'><span class='xr-has-index'>step</span></div><div class='xr-var-dims'>(step)</div><div class='xr-var-dtype'>int64</div><div class='xr-var-preview xr-preview'>1 2 3 4 5</div><input id='attrs-74184e88-2880-4612-9a9c-7e691ef38040' class='xr-var-attrs-in' type='checkbox' disabled><label for='attrs-74184e88-2880-4612-9a9c-7e691ef38040' title='Show/Hide attributes'><svg class='icon xr-icon-file-text2'><use xlink:href='#icon-file-text2'></use></svg></label><input id='data-217bb7b1-11a3-4b81-8a17-6028737d1de3' class='xr-var-data-in' type='checkbox'><label for='data-217bb7b1-11a3-4b81-8a17-6028737d1de3' title='Show/Hide data repr'><svg class='icon xr-icon-database'><use xlink:href='#icon-database'></use></svg></label><div class='xr-var-attrs'><dl class='xr-attrs'></dl></div><div class='xr-var-data'><pre>array([1, 2, 3, 4, 5])</pre></div></li><li class='xr-var-item'><div class='xr-var-name'><span>month</span></div><div class='xr-var-dims'>()</div><div class='xr-var-dtype'>int64</div><div class='xr-var-preview xr-preview'>3</div><input id='attrs-db22ea71-8a1c-4212-84d8-0f68e991671c' class='xr-var-attrs-in' type='checkbox' disabled><label for='attrs-db22ea71-8a1c-4212-84d8-0f68e991671c' title='Show/Hide attributes'><svg class='icon xr-icon-file-text2'><use xlink:href='#icon-file-text2'></use></svg></label><input id='data-3f38ffd4-da99-4bed-9441-856ab8d160d0' class='xr-var-data-in' type='checkbox'><label for='data-3f38ffd4-da99-4bed-9441-856ab8d160d0' title='Show/Hide data repr'><svg class='icon xr-icon-database'><use xlink:href='#icon-database'></use></svg></label><div class='xr-var-attrs'><dl class='xr-attrs'></dl></div><div class='xr-var-data'><pre>array(3)</pre></div></li><li class='xr-var-item'><div class='xr-var-name'><span class='xr-has-index'>lon</span></div><div class='xr-var-dims'>(lon)</div><div class='xr-var-dtype'>float64</div><div class='xr-var-preview xr-preview'>120.0 120.2 120.3 ... 239.8 240.0</div><input id='attrs-2a2d56eb-a509-4f20-a294-293bba270390' class='xr-var-attrs-in' type='checkbox' disabled><label for='attrs-2a2d56eb-a509-4f20-a294-293bba270390' title='Show/Hide attributes'><svg class='icon xr-icon-file-text2'><use xlink:href='#icon-file-text2'></use></svg></label><input id='data-20a580bd-640a-43b1-856b-7d9619f4cb2c' class='xr-var-data-in' type='checkbox'><label for='data-20a580bd-640a-43b1-856b-7d9619f4cb2c' title='Show/Hide data repr'><svg class='icon xr-icon-database'><use xlink:href='#icon-database'></use></svg></label><div class='xr-var-attrs'><dl class='xr-attrs'></dl></div><div class='xr-var-data'><pre>array([120.      , 120.165517, 120.331034, ..., 239.668966, 239.834483,\n",
       "       240.      ])</pre></div></li><li class='xr-var-item'><div class='xr-var-name'><span class='xr-has-index'>lat</span></div><div class='xr-var-dims'>(lat)</div><div class='xr-var-dtype'>float64</div><div class='xr-var-preview xr-preview'>-50.0 -49.84 -49.67 ... 29.84 30.0</div><input id='attrs-71b311e5-2f2d-433a-8713-2099dfd59117' class='xr-var-attrs-in' type='checkbox' disabled><label for='attrs-71b311e5-2f2d-433a-8713-2099dfd59117' title='Show/Hide attributes'><svg class='icon xr-icon-file-text2'><use xlink:href='#icon-file-text2'></use></svg></label><input id='data-0892377c-072e-444f-a734-aa4418df3b03' class='xr-var-data-in' type='checkbox'><label for='data-0892377c-072e-444f-a734-aa4418df3b03' title='Show/Hide data repr'><svg class='icon xr-icon-database'><use xlink:href='#icon-database'></use></svg></label><div class='xr-var-attrs'><dl class='xr-attrs'></dl></div><div class='xr-var-data'><pre>array([-50.      , -49.835052, -49.670103, ...,  29.670103,  29.835052,\n",
       "        30.      ])</pre></div></li></ul></div></li><li class='xr-section-item'><input id='section-993821ff-6fc6-4033-90b2-bceb939590e8' class='xr-section-summary-in' type='checkbox'  checked><label for='section-993821ff-6fc6-4033-90b2-bceb939590e8' class='xr-section-summary' >Data variables: <span>(1)</span></label><div class='xr-section-inline-details'></div><div class='xr-section-details'><ul class='xr-var-list'><li class='xr-var-item'><div class='xr-var-name'><span>precip</span></div><div class='xr-var-dims'>(decile, time, step, lat, lon)</div><div class='xr-var-dtype'>float64</div><div class='xr-var-preview xr-preview'>dask.array&lt;chunksize=(10, 1, 5, 486, 726), meta=np.ndarray&gt;</div><input id='attrs-42555dea-e594-4b2c-8835-e3091e80a774' class='xr-var-attrs-in' type='checkbox' disabled><label for='attrs-42555dea-e594-4b2c-8835-e3091e80a774' title='Show/Hide attributes'><svg class='icon xr-icon-file-text2'><use xlink:href='#icon-file-text2'></use></svg></label><input id='data-148864c8-2d07-4edc-95c3-e4fc4774c8f3' class='xr-var-data-in' type='checkbox'><label for='data-148864c8-2d07-4edc-95c3-e4fc4774c8f3' title='Show/Hide data repr'><svg class='icon xr-icon-database'><use xlink:href='#icon-database'></use></svg></label><div class='xr-var-attrs'><dl class='xr-attrs'></dl></div><div class='xr-var-data'><table>\n",
       "    <tr>\n",
       "        <td>\n",
       "            <table>\n",
       "                <thead>\n",
       "                    <tr>\n",
       "                        <td> </td>\n",
       "                        <th> Array </th>\n",
       "                        <th> Chunk </th>\n",
       "                    </tr>\n",
       "                </thead>\n",
       "                <tbody>\n",
       "                    \n",
       "                    <tr>\n",
       "                        <th> Bytes </th>\n",
       "                        <td> 134.60 MiB </td>\n",
       "                        <td> 134.60 MiB </td>\n",
       "                    </tr>\n",
       "                    \n",
       "                    <tr>\n",
       "                        <th> Shape </th>\n",
       "                        <td> (10, 1, 5, 486, 726) </td>\n",
       "                        <td> (10, 1, 5, 486, 726) </td>\n",
       "                    </tr>\n",
       "                    <tr>\n",
       "                        <th> Count </th>\n",
       "                        <td> 87 Tasks </td>\n",
       "                        <td> 1 Chunks </td>\n",
       "                    </tr>\n",
       "                    <tr>\n",
       "                    <th> Type </th>\n",
       "                    <td> float64 </td>\n",
       "                    <td> numpy.ndarray </td>\n",
       "                    </tr>\n",
       "                </tbody>\n",
       "            </table>\n",
       "        </td>\n",
       "        <td>\n",
       "        <svg width=\"374\" height=\"145\" style=\"stroke:rgb(0,0,0);stroke-width:1\" >\n",
       "\n",
       "  <!-- Horizontal lines -->\n",
       "  <line x1=\"0\" y1=\"0\" x2=\"25\" y2=\"0\" style=\"stroke-width:2\" />\n",
       "  <line x1=\"0\" y1=\"27\" x2=\"25\" y2=\"27\" style=\"stroke-width:2\" />\n",
       "\n",
       "  <!-- Vertical lines -->\n",
       "  <line x1=\"0\" y1=\"0\" x2=\"0\" y2=\"27\" style=\"stroke-width:2\" />\n",
       "  <line x1=\"25\" y1=\"0\" x2=\"25\" y2=\"27\" style=\"stroke-width:2\" />\n",
       "\n",
       "  <!-- Colored Rectangle -->\n",
       "  <polygon points=\"0.0,0.0 25.412616514582485,0.0 25.412616514582485,27.01089801381342 0.0,27.01089801381342\" style=\"fill:#ECB172A0;stroke-width:0\"/>\n",
       "\n",
       "  <!-- Text -->\n",
       "  <text x=\"12.706308\" y=\"47.010898\" font-size=\"1.0rem\" font-weight=\"100\" text-anchor=\"middle\" >1</text>\n",
       "  <text x=\"45.412617\" y=\"13.505449\" font-size=\"1.0rem\" font-weight=\"100\" text-anchor=\"middle\" transform=\"rotate(0,45.412617,13.505449)\">10</text>\n",
       "\n",
       "\n",
       "  <!-- Horizontal lines -->\n",
       "  <line x1=\"95\" y1=\"0\" x2=\"109\" y2=\"14\" style=\"stroke-width:2\" />\n",
       "  <line x1=\"95\" y1=\"80\" x2=\"109\" y2=\"95\" style=\"stroke-width:2\" />\n",
       "\n",
       "  <!-- Vertical lines -->\n",
       "  <line x1=\"95\" y1=\"0\" x2=\"95\" y2=\"80\" style=\"stroke-width:2\" />\n",
       "  <line x1=\"109\" y1=\"14\" x2=\"109\" y2=\"95\" style=\"stroke-width:2\" />\n",
       "\n",
       "  <!-- Colored Rectangle -->\n",
       "  <polygon points=\"95.0,0.0 109.9485979497544,14.948597949754403 109.9485979497544,95.2791764621511 95.0,80.3305785123967\" style=\"fill:#ECB172A0;stroke-width:0\"/>\n",
       "\n",
       "  <!-- Horizontal lines -->\n",
       "  <line x1=\"95\" y1=\"0\" x2=\"215\" y2=\"0\" style=\"stroke-width:2\" />\n",
       "  <line x1=\"109\" y1=\"14\" x2=\"229\" y2=\"14\" style=\"stroke-width:2\" />\n",
       "\n",
       "  <!-- Vertical lines -->\n",
       "  <line x1=\"95\" y1=\"0\" x2=\"109\" y2=\"14\" style=\"stroke-width:2\" />\n",
       "  <line x1=\"215\" y1=\"0\" x2=\"229\" y2=\"14\" style=\"stroke-width:2\" />\n",
       "\n",
       "  <!-- Colored Rectangle -->\n",
       "  <polygon points=\"95.0,0.0 215.0,0.0 229.9485979497544,14.948597949754403 109.9485979497544,14.948597949754403\" style=\"fill:#ECB172A0;stroke-width:0\"/>\n",
       "\n",
       "  <!-- Horizontal lines -->\n",
       "  <line x1=\"109\" y1=\"14\" x2=\"229\" y2=\"14\" style=\"stroke-width:2\" />\n",
       "  <line x1=\"109\" y1=\"95\" x2=\"229\" y2=\"95\" style=\"stroke-width:2\" />\n",
       "\n",
       "  <!-- Vertical lines -->\n",
       "  <line x1=\"109\" y1=\"14\" x2=\"109\" y2=\"95\" style=\"stroke-width:2\" />\n",
       "  <line x1=\"229\" y1=\"14\" x2=\"229\" y2=\"95\" style=\"stroke-width:2\" />\n",
       "\n",
       "  <!-- Colored Rectangle -->\n",
       "  <polygon points=\"109.9485979497544,14.948597949754403 229.9485979497544,14.948597949754403 229.9485979497544,95.2791764621511 109.9485979497544,95.2791764621511\" style=\"fill:#ECB172A0;stroke-width:0\"/>\n",
       "\n",
       "  <!-- Text -->\n",
       "  <text x=\"169.948598\" y=\"115.279176\" font-size=\"1.0rem\" font-weight=\"100\" text-anchor=\"middle\" >726</text>\n",
       "  <text x=\"249.948598\" y=\"55.113887\" font-size=\"1.0rem\" font-weight=\"100\" text-anchor=\"middle\" transform=\"rotate(-90,249.948598,55.113887)\">486</text>\n",
       "  <text x=\"92.474299\" y=\"107.804877\" font-size=\"1.0rem\" font-weight=\"100\" text-anchor=\"middle\" transform=\"rotate(45,92.474299,107.804877)\">5</text>\n",
       "</svg>\n",
       "        </td>\n",
       "    </tr>\n",
       "</table></div></li></ul></div></li><li class='xr-section-item'><input id='section-3c6ed8e6-ce16-4171-851f-6325f1d9934b' class='xr-section-summary-in' type='checkbox' disabled ><label for='section-3c6ed8e6-ce16-4171-851f-6325f1d9934b' class='xr-section-summary'  title='Expand/collapse section'>Attributes: <span>(0)</span></label><div class='xr-section-inline-details'></div><div class='xr-section-details'><dl class='xr-attrs'></dl></div></li></ul></div></div>"
      ],
      "text/plain": [
       "<xarray.Dataset>\n",
       "Dimensions:  (decile: 10, time: 1, step: 5, lat: 486, lon: 726)\n",
       "Coordinates:\n",
       "  * time     (time) datetime64[ns] 2022-03-01\n",
       "  * step     (step) int64 1 2 3 4 5\n",
       "    month    int64 3\n",
       "  * lon      (lon) float64 120.0 120.2 120.3 120.5 ... 239.5 239.7 239.8 240.0\n",
       "  * lat      (lat) float64 -50.0 -49.84 -49.67 -49.51 ... 29.51 29.67 29.84 30.0\n",
       "Dimensions without coordinates: decile\n",
       "Data variables:\n",
       "    precip   (decile, time, step, lat, lon) float64 dask.array<chunksize=(10, 1, 5, 486, 726), meta=np.ndarray>"
      ]
     },
     "execution_count": 30,
     "metadata": {},
     "output_type": "execute_result"
    }
   ],
   "source": [
    "cum_probs"
   ]
  },
  {
   "cell_type": "markdown",
   "id": "80105213",
   "metadata": {
    "papermill": {
     "duration": 0.038524,
     "end_time": "2022-04-04T02:35:51.355157",
     "exception": false,
     "start_time": "2022-04-04T02:35:51.316633",
     "status": "completed"
    },
    "tags": []
   },
   "source": [
    "### recode the decile values, so they go from 1 to 10 instead of 0 to 9 "
   ]
  },
  {
   "cell_type": "code",
   "execution_count": 31,
   "id": "61f05ada",
   "metadata": {
    "papermill": {
     "duration": 0.061654,
     "end_time": "2022-04-04T02:35:51.464888",
     "exception": false,
     "start_time": "2022-04-04T02:35:51.403234",
     "status": "completed"
    },
    "tags": []
   },
   "outputs": [
    {
     "data": {
      "text/html": [
       "<div><svg style=\"position: absolute; width: 0; height: 0; overflow: hidden\">\n",
       "<defs>\n",
       "<symbol id=\"icon-database\" viewBox=\"0 0 32 32\">\n",
       "<path d=\"M16 0c-8.837 0-16 2.239-16 5v4c0 2.761 7.163 5 16 5s16-2.239 16-5v-4c0-2.761-7.163-5-16-5z\"></path>\n",
       "<path d=\"M16 17c-8.837 0-16-2.239-16-5v6c0 2.761 7.163 5 16 5s16-2.239 16-5v-6c0 2.761-7.163 5-16 5z\"></path>\n",
       "<path d=\"M16 26c-8.837 0-16-2.239-16-5v6c0 2.761 7.163 5 16 5s16-2.239 16-5v-6c0 2.761-7.163 5-16 5z\"></path>\n",
       "</symbol>\n",
       "<symbol id=\"icon-file-text2\" viewBox=\"0 0 32 32\">\n",
       "<path d=\"M28.681 7.159c-0.694-0.947-1.662-2.053-2.724-3.116s-2.169-2.030-3.116-2.724c-1.612-1.182-2.393-1.319-2.841-1.319h-15.5c-1.378 0-2.5 1.121-2.5 2.5v27c0 1.378 1.122 2.5 2.5 2.5h23c1.378 0 2.5-1.122 2.5-2.5v-19.5c0-0.448-0.137-1.23-1.319-2.841zM24.543 5.457c0.959 0.959 1.712 1.825 2.268 2.543h-4.811v-4.811c0.718 0.556 1.584 1.309 2.543 2.268zM28 29.5c0 0.271-0.229 0.5-0.5 0.5h-23c-0.271 0-0.5-0.229-0.5-0.5v-27c0-0.271 0.229-0.5 0.5-0.5 0 0 15.499-0 15.5 0v7c0 0.552 0.448 1 1 1h7v19.5z\"></path>\n",
       "<path d=\"M23 26h-14c-0.552 0-1-0.448-1-1s0.448-1 1-1h14c0.552 0 1 0.448 1 1s-0.448 1-1 1z\"></path>\n",
       "<path d=\"M23 22h-14c-0.552 0-1-0.448-1-1s0.448-1 1-1h14c0.552 0 1 0.448 1 1s-0.448 1-1 1z\"></path>\n",
       "<path d=\"M23 18h-14c-0.552 0-1-0.448-1-1s0.448-1 1-1h14c0.552 0 1 0.448 1 1s-0.448 1-1 1z\"></path>\n",
       "</symbol>\n",
       "</defs>\n",
       "</svg>\n",
       "<style>/* CSS stylesheet for displaying xarray objects in jupyterlab.\n",
       " *\n",
       " */\n",
       "\n",
       ":root {\n",
       "  --xr-font-color0: var(--jp-content-font-color0, rgba(0, 0, 0, 1));\n",
       "  --xr-font-color2: var(--jp-content-font-color2, rgba(0, 0, 0, 0.54));\n",
       "  --xr-font-color3: var(--jp-content-font-color3, rgba(0, 0, 0, 0.38));\n",
       "  --xr-border-color: var(--jp-border-color2, #e0e0e0);\n",
       "  --xr-disabled-color: var(--jp-layout-color3, #bdbdbd);\n",
       "  --xr-background-color: var(--jp-layout-color0, white);\n",
       "  --xr-background-color-row-even: var(--jp-layout-color1, white);\n",
       "  --xr-background-color-row-odd: var(--jp-layout-color2, #eeeeee);\n",
       "}\n",
       "\n",
       "html[theme=dark],\n",
       "body.vscode-dark {\n",
       "  --xr-font-color0: rgba(255, 255, 255, 1);\n",
       "  --xr-font-color2: rgba(255, 255, 255, 0.54);\n",
       "  --xr-font-color3: rgba(255, 255, 255, 0.38);\n",
       "  --xr-border-color: #1F1F1F;\n",
       "  --xr-disabled-color: #515151;\n",
       "  --xr-background-color: #111111;\n",
       "  --xr-background-color-row-even: #111111;\n",
       "  --xr-background-color-row-odd: #313131;\n",
       "}\n",
       "\n",
       ".xr-wrap {\n",
       "  display: block !important;\n",
       "  min-width: 300px;\n",
       "  max-width: 700px;\n",
       "}\n",
       "\n",
       ".xr-text-repr-fallback {\n",
       "  /* fallback to plain text repr when CSS is not injected (untrusted notebook) */\n",
       "  display: none;\n",
       "}\n",
       "\n",
       ".xr-header {\n",
       "  padding-top: 6px;\n",
       "  padding-bottom: 6px;\n",
       "  margin-bottom: 4px;\n",
       "  border-bottom: solid 1px var(--xr-border-color);\n",
       "}\n",
       "\n",
       ".xr-header > div,\n",
       ".xr-header > ul {\n",
       "  display: inline;\n",
       "  margin-top: 0;\n",
       "  margin-bottom: 0;\n",
       "}\n",
       "\n",
       ".xr-obj-type,\n",
       ".xr-array-name {\n",
       "  margin-left: 2px;\n",
       "  margin-right: 10px;\n",
       "}\n",
       "\n",
       ".xr-obj-type {\n",
       "  color: var(--xr-font-color2);\n",
       "}\n",
       "\n",
       ".xr-sections {\n",
       "  padding-left: 0 !important;\n",
       "  display: grid;\n",
       "  grid-template-columns: 150px auto auto 1fr 20px 20px;\n",
       "}\n",
       "\n",
       ".xr-section-item {\n",
       "  display: contents;\n",
       "}\n",
       "\n",
       ".xr-section-item input {\n",
       "  display: none;\n",
       "}\n",
       "\n",
       ".xr-section-item input + label {\n",
       "  color: var(--xr-disabled-color);\n",
       "}\n",
       "\n",
       ".xr-section-item input:enabled + label {\n",
       "  cursor: pointer;\n",
       "  color: var(--xr-font-color2);\n",
       "}\n",
       "\n",
       ".xr-section-item input:enabled + label:hover {\n",
       "  color: var(--xr-font-color0);\n",
       "}\n",
       "\n",
       ".xr-section-summary {\n",
       "  grid-column: 1;\n",
       "  color: var(--xr-font-color2);\n",
       "  font-weight: 500;\n",
       "}\n",
       "\n",
       ".xr-section-summary > span {\n",
       "  display: inline-block;\n",
       "  padding-left: 0.5em;\n",
       "}\n",
       "\n",
       ".xr-section-summary-in:disabled + label {\n",
       "  color: var(--xr-font-color2);\n",
       "}\n",
       "\n",
       ".xr-section-summary-in + label:before {\n",
       "  display: inline-block;\n",
       "  content: '►';\n",
       "  font-size: 11px;\n",
       "  width: 15px;\n",
       "  text-align: center;\n",
       "}\n",
       "\n",
       ".xr-section-summary-in:disabled + label:before {\n",
       "  color: var(--xr-disabled-color);\n",
       "}\n",
       "\n",
       ".xr-section-summary-in:checked + label:before {\n",
       "  content: '▼';\n",
       "}\n",
       "\n",
       ".xr-section-summary-in:checked + label > span {\n",
       "  display: none;\n",
       "}\n",
       "\n",
       ".xr-section-summary,\n",
       ".xr-section-inline-details {\n",
       "  padding-top: 4px;\n",
       "  padding-bottom: 4px;\n",
       "}\n",
       "\n",
       ".xr-section-inline-details {\n",
       "  grid-column: 2 / -1;\n",
       "}\n",
       "\n",
       ".xr-section-details {\n",
       "  display: none;\n",
       "  grid-column: 1 / -1;\n",
       "  margin-bottom: 5px;\n",
       "}\n",
       "\n",
       ".xr-section-summary-in:checked ~ .xr-section-details {\n",
       "  display: contents;\n",
       "}\n",
       "\n",
       ".xr-array-wrap {\n",
       "  grid-column: 1 / -1;\n",
       "  display: grid;\n",
       "  grid-template-columns: 20px auto;\n",
       "}\n",
       "\n",
       ".xr-array-wrap > label {\n",
       "  grid-column: 1;\n",
       "  vertical-align: top;\n",
       "}\n",
       "\n",
       ".xr-preview {\n",
       "  color: var(--xr-font-color3);\n",
       "}\n",
       "\n",
       ".xr-array-preview,\n",
       ".xr-array-data {\n",
       "  padding: 0 5px !important;\n",
       "  grid-column: 2;\n",
       "}\n",
       "\n",
       ".xr-array-data,\n",
       ".xr-array-in:checked ~ .xr-array-preview {\n",
       "  display: none;\n",
       "}\n",
       "\n",
       ".xr-array-in:checked ~ .xr-array-data,\n",
       ".xr-array-preview {\n",
       "  display: inline-block;\n",
       "}\n",
       "\n",
       ".xr-dim-list {\n",
       "  display: inline-block !important;\n",
       "  list-style: none;\n",
       "  padding: 0 !important;\n",
       "  margin: 0;\n",
       "}\n",
       "\n",
       ".xr-dim-list li {\n",
       "  display: inline-block;\n",
       "  padding: 0;\n",
       "  margin: 0;\n",
       "}\n",
       "\n",
       ".xr-dim-list:before {\n",
       "  content: '(';\n",
       "}\n",
       "\n",
       ".xr-dim-list:after {\n",
       "  content: ')';\n",
       "}\n",
       "\n",
       ".xr-dim-list li:not(:last-child):after {\n",
       "  content: ',';\n",
       "  padding-right: 5px;\n",
       "}\n",
       "\n",
       ".xr-has-index {\n",
       "  font-weight: bold;\n",
       "}\n",
       "\n",
       ".xr-var-list,\n",
       ".xr-var-item {\n",
       "  display: contents;\n",
       "}\n",
       "\n",
       ".xr-var-item > div,\n",
       ".xr-var-item label,\n",
       ".xr-var-item > .xr-var-name span {\n",
       "  background-color: var(--xr-background-color-row-even);\n",
       "  margin-bottom: 0;\n",
       "}\n",
       "\n",
       ".xr-var-item > .xr-var-name:hover span {\n",
       "  padding-right: 5px;\n",
       "}\n",
       "\n",
       ".xr-var-list > li:nth-child(odd) > div,\n",
       ".xr-var-list > li:nth-child(odd) > label,\n",
       ".xr-var-list > li:nth-child(odd) > .xr-var-name span {\n",
       "  background-color: var(--xr-background-color-row-odd);\n",
       "}\n",
       "\n",
       ".xr-var-name {\n",
       "  grid-column: 1;\n",
       "}\n",
       "\n",
       ".xr-var-dims {\n",
       "  grid-column: 2;\n",
       "}\n",
       "\n",
       ".xr-var-dtype {\n",
       "  grid-column: 3;\n",
       "  text-align: right;\n",
       "  color: var(--xr-font-color2);\n",
       "}\n",
       "\n",
       ".xr-var-preview {\n",
       "  grid-column: 4;\n",
       "}\n",
       "\n",
       ".xr-var-name,\n",
       ".xr-var-dims,\n",
       ".xr-var-dtype,\n",
       ".xr-preview,\n",
       ".xr-attrs dt {\n",
       "  white-space: nowrap;\n",
       "  overflow: hidden;\n",
       "  text-overflow: ellipsis;\n",
       "  padding-right: 10px;\n",
       "}\n",
       "\n",
       ".xr-var-name:hover,\n",
       ".xr-var-dims:hover,\n",
       ".xr-var-dtype:hover,\n",
       ".xr-attrs dt:hover {\n",
       "  overflow: visible;\n",
       "  width: auto;\n",
       "  z-index: 1;\n",
       "}\n",
       "\n",
       ".xr-var-attrs,\n",
       ".xr-var-data {\n",
       "  display: none;\n",
       "  background-color: var(--xr-background-color) !important;\n",
       "  padding-bottom: 5px !important;\n",
       "}\n",
       "\n",
       ".xr-var-attrs-in:checked ~ .xr-var-attrs,\n",
       ".xr-var-data-in:checked ~ .xr-var-data {\n",
       "  display: block;\n",
       "}\n",
       "\n",
       ".xr-var-data > table {\n",
       "  float: right;\n",
       "}\n",
       "\n",
       ".xr-var-name span,\n",
       ".xr-var-data,\n",
       ".xr-attrs {\n",
       "  padding-left: 25px !important;\n",
       "}\n",
       "\n",
       ".xr-attrs,\n",
       ".xr-var-attrs,\n",
       ".xr-var-data {\n",
       "  grid-column: 1 / -1;\n",
       "}\n",
       "\n",
       "dl.xr-attrs {\n",
       "  padding: 0;\n",
       "  margin: 0;\n",
       "  display: grid;\n",
       "  grid-template-columns: 125px auto;\n",
       "}\n",
       "\n",
       ".xr-attrs dt,\n",
       ".xr-attrs dd {\n",
       "  padding: 0;\n",
       "  margin: 0;\n",
       "  float: left;\n",
       "  padding-right: 10px;\n",
       "  width: auto;\n",
       "}\n",
       "\n",
       ".xr-attrs dt {\n",
       "  font-weight: normal;\n",
       "  grid-column: 1;\n",
       "}\n",
       "\n",
       ".xr-attrs dt:hover span {\n",
       "  display: inline-block;\n",
       "  background: var(--xr-background-color);\n",
       "  padding-right: 10px;\n",
       "}\n",
       "\n",
       ".xr-attrs dd {\n",
       "  grid-column: 2;\n",
       "  white-space: pre-wrap;\n",
       "  word-break: break-all;\n",
       "}\n",
       "\n",
       ".xr-icon-database,\n",
       ".xr-icon-file-text2 {\n",
       "  display: inline-block;\n",
       "  vertical-align: middle;\n",
       "  width: 1em;\n",
       "  height: 1.5em !important;\n",
       "  stroke-width: 0;\n",
       "  stroke: currentColor;\n",
       "  fill: currentColor;\n",
       "}\n",
       "</style><pre class='xr-text-repr-fallback'>&lt;xarray.DataArray &#x27;decile&#x27; (decile: 10)&gt;\n",
       "array([0, 1, 2, 3, 4, 5, 6, 7, 8, 9])\n",
       "Coordinates:\n",
       "    month    int64 3\n",
       "Dimensions without coordinates: decile</pre><div class='xr-wrap' style='display:none'><div class='xr-header'><div class='xr-obj-type'>xarray.DataArray</div><div class='xr-array-name'>'decile'</div><ul class='xr-dim-list'><li><span>decile</span>: 10</li></ul></div><ul class='xr-sections'><li class='xr-section-item'><div class='xr-array-wrap'><input id='section-a8e1475c-6554-476e-bd78-6ded7556f703' class='xr-array-in' type='checkbox' checked><label for='section-a8e1475c-6554-476e-bd78-6ded7556f703' title='Show/hide data repr'><svg class='icon xr-icon-database'><use xlink:href='#icon-database'></use></svg></label><div class='xr-array-preview xr-preview'><span>0 1 2 3 4 5 6 7 8 9</span></div><div class='xr-array-data'><pre>array([0, 1, 2, 3, 4, 5, 6, 7, 8, 9])</pre></div></div></li><li class='xr-section-item'><input id='section-9b9effff-77ef-4917-afc6-323e12410502' class='xr-section-summary-in' type='checkbox'  checked><label for='section-9b9effff-77ef-4917-afc6-323e12410502' class='xr-section-summary' >Coordinates: <span>(1)</span></label><div class='xr-section-inline-details'></div><div class='xr-section-details'><ul class='xr-var-list'><li class='xr-var-item'><div class='xr-var-name'><span>month</span></div><div class='xr-var-dims'>()</div><div class='xr-var-dtype'>int64</div><div class='xr-var-preview xr-preview'>3</div><input id='attrs-062cb579-cec8-4ccb-82ce-b1576aed7fe6' class='xr-var-attrs-in' type='checkbox' disabled><label for='attrs-062cb579-cec8-4ccb-82ce-b1576aed7fe6' title='Show/Hide attributes'><svg class='icon xr-icon-file-text2'><use xlink:href='#icon-file-text2'></use></svg></label><input id='data-08631217-0c3c-4142-926a-633f65884604' class='xr-var-data-in' type='checkbox'><label for='data-08631217-0c3c-4142-926a-633f65884604' title='Show/Hide data repr'><svg class='icon xr-icon-database'><use xlink:href='#icon-database'></use></svg></label><div class='xr-var-attrs'><dl class='xr-attrs'></dl></div><div class='xr-var-data'><pre>array(3)</pre></div></li></ul></div></li><li class='xr-section-item'><input id='section-5e005f06-47a1-4b8c-ad92-e13546eba2c1' class='xr-section-summary-in' type='checkbox' disabled ><label for='section-5e005f06-47a1-4b8c-ad92-e13546eba2c1' class='xr-section-summary'  title='Expand/collapse section'>Attributes: <span>(0)</span></label><div class='xr-section-inline-details'></div><div class='xr-section-details'><dl class='xr-attrs'></dl></div></li></ul></div></div>"
      ],
      "text/plain": [
       "<xarray.DataArray 'decile' (decile: 10)>\n",
       "array([0, 1, 2, 3, 4, 5, 6, 7, 8, 9])\n",
       "Coordinates:\n",
       "    month    int64 3\n",
       "Dimensions without coordinates: decile"
      ]
     },
     "execution_count": 31,
     "metadata": {},
     "output_type": "execute_result"
    }
   ],
   "source": [
    "cum_probs.decile"
   ]
  },
  {
   "cell_type": "code",
   "execution_count": 32,
   "id": "380d996e",
   "metadata": {
    "papermill": {
     "duration": 0.059698,
     "end_time": "2022-04-04T02:35:51.562313",
     "exception": false,
     "start_time": "2022-04-04T02:35:51.502615",
     "status": "completed"
    },
    "tags": []
   },
   "outputs": [],
   "source": [
    "cum_probs['decile'] = cum_probs['decile'] + 1"
   ]
  },
  {
   "cell_type": "code",
   "execution_count": 33,
   "id": "26cd733c",
   "metadata": {
    "papermill": {
     "duration": 0.063259,
     "end_time": "2022-04-04T02:35:51.663734",
     "exception": false,
     "start_time": "2022-04-04T02:35:51.600475",
     "status": "completed"
    },
    "tags": []
   },
   "outputs": [
    {
     "data": {
      "text/html": [
       "<div><svg style=\"position: absolute; width: 0; height: 0; overflow: hidden\">\n",
       "<defs>\n",
       "<symbol id=\"icon-database\" viewBox=\"0 0 32 32\">\n",
       "<path d=\"M16 0c-8.837 0-16 2.239-16 5v4c0 2.761 7.163 5 16 5s16-2.239 16-5v-4c0-2.761-7.163-5-16-5z\"></path>\n",
       "<path d=\"M16 17c-8.837 0-16-2.239-16-5v6c0 2.761 7.163 5 16 5s16-2.239 16-5v-6c0 2.761-7.163 5-16 5z\"></path>\n",
       "<path d=\"M16 26c-8.837 0-16-2.239-16-5v6c0 2.761 7.163 5 16 5s16-2.239 16-5v-6c0 2.761-7.163 5-16 5z\"></path>\n",
       "</symbol>\n",
       "<symbol id=\"icon-file-text2\" viewBox=\"0 0 32 32\">\n",
       "<path d=\"M28.681 7.159c-0.694-0.947-1.662-2.053-2.724-3.116s-2.169-2.030-3.116-2.724c-1.612-1.182-2.393-1.319-2.841-1.319h-15.5c-1.378 0-2.5 1.121-2.5 2.5v27c0 1.378 1.122 2.5 2.5 2.5h23c1.378 0 2.5-1.122 2.5-2.5v-19.5c0-0.448-0.137-1.23-1.319-2.841zM24.543 5.457c0.959 0.959 1.712 1.825 2.268 2.543h-4.811v-4.811c0.718 0.556 1.584 1.309 2.543 2.268zM28 29.5c0 0.271-0.229 0.5-0.5 0.5h-23c-0.271 0-0.5-0.229-0.5-0.5v-27c0-0.271 0.229-0.5 0.5-0.5 0 0 15.499-0 15.5 0v7c0 0.552 0.448 1 1 1h7v19.5z\"></path>\n",
       "<path d=\"M23 26h-14c-0.552 0-1-0.448-1-1s0.448-1 1-1h14c0.552 0 1 0.448 1 1s-0.448 1-1 1z\"></path>\n",
       "<path d=\"M23 22h-14c-0.552 0-1-0.448-1-1s0.448-1 1-1h14c0.552 0 1 0.448 1 1s-0.448 1-1 1z\"></path>\n",
       "<path d=\"M23 18h-14c-0.552 0-1-0.448-1-1s0.448-1 1-1h14c0.552 0 1 0.448 1 1s-0.448 1-1 1z\"></path>\n",
       "</symbol>\n",
       "</defs>\n",
       "</svg>\n",
       "<style>/* CSS stylesheet for displaying xarray objects in jupyterlab.\n",
       " *\n",
       " */\n",
       "\n",
       ":root {\n",
       "  --xr-font-color0: var(--jp-content-font-color0, rgba(0, 0, 0, 1));\n",
       "  --xr-font-color2: var(--jp-content-font-color2, rgba(0, 0, 0, 0.54));\n",
       "  --xr-font-color3: var(--jp-content-font-color3, rgba(0, 0, 0, 0.38));\n",
       "  --xr-border-color: var(--jp-border-color2, #e0e0e0);\n",
       "  --xr-disabled-color: var(--jp-layout-color3, #bdbdbd);\n",
       "  --xr-background-color: var(--jp-layout-color0, white);\n",
       "  --xr-background-color-row-even: var(--jp-layout-color1, white);\n",
       "  --xr-background-color-row-odd: var(--jp-layout-color2, #eeeeee);\n",
       "}\n",
       "\n",
       "html[theme=dark],\n",
       "body.vscode-dark {\n",
       "  --xr-font-color0: rgba(255, 255, 255, 1);\n",
       "  --xr-font-color2: rgba(255, 255, 255, 0.54);\n",
       "  --xr-font-color3: rgba(255, 255, 255, 0.38);\n",
       "  --xr-border-color: #1F1F1F;\n",
       "  --xr-disabled-color: #515151;\n",
       "  --xr-background-color: #111111;\n",
       "  --xr-background-color-row-even: #111111;\n",
       "  --xr-background-color-row-odd: #313131;\n",
       "}\n",
       "\n",
       ".xr-wrap {\n",
       "  display: block !important;\n",
       "  min-width: 300px;\n",
       "  max-width: 700px;\n",
       "}\n",
       "\n",
       ".xr-text-repr-fallback {\n",
       "  /* fallback to plain text repr when CSS is not injected (untrusted notebook) */\n",
       "  display: none;\n",
       "}\n",
       "\n",
       ".xr-header {\n",
       "  padding-top: 6px;\n",
       "  padding-bottom: 6px;\n",
       "  margin-bottom: 4px;\n",
       "  border-bottom: solid 1px var(--xr-border-color);\n",
       "}\n",
       "\n",
       ".xr-header > div,\n",
       ".xr-header > ul {\n",
       "  display: inline;\n",
       "  margin-top: 0;\n",
       "  margin-bottom: 0;\n",
       "}\n",
       "\n",
       ".xr-obj-type,\n",
       ".xr-array-name {\n",
       "  margin-left: 2px;\n",
       "  margin-right: 10px;\n",
       "}\n",
       "\n",
       ".xr-obj-type {\n",
       "  color: var(--xr-font-color2);\n",
       "}\n",
       "\n",
       ".xr-sections {\n",
       "  padding-left: 0 !important;\n",
       "  display: grid;\n",
       "  grid-template-columns: 150px auto auto 1fr 20px 20px;\n",
       "}\n",
       "\n",
       ".xr-section-item {\n",
       "  display: contents;\n",
       "}\n",
       "\n",
       ".xr-section-item input {\n",
       "  display: none;\n",
       "}\n",
       "\n",
       ".xr-section-item input + label {\n",
       "  color: var(--xr-disabled-color);\n",
       "}\n",
       "\n",
       ".xr-section-item input:enabled + label {\n",
       "  cursor: pointer;\n",
       "  color: var(--xr-font-color2);\n",
       "}\n",
       "\n",
       ".xr-section-item input:enabled + label:hover {\n",
       "  color: var(--xr-font-color0);\n",
       "}\n",
       "\n",
       ".xr-section-summary {\n",
       "  grid-column: 1;\n",
       "  color: var(--xr-font-color2);\n",
       "  font-weight: 500;\n",
       "}\n",
       "\n",
       ".xr-section-summary > span {\n",
       "  display: inline-block;\n",
       "  padding-left: 0.5em;\n",
       "}\n",
       "\n",
       ".xr-section-summary-in:disabled + label {\n",
       "  color: var(--xr-font-color2);\n",
       "}\n",
       "\n",
       ".xr-section-summary-in + label:before {\n",
       "  display: inline-block;\n",
       "  content: '►';\n",
       "  font-size: 11px;\n",
       "  width: 15px;\n",
       "  text-align: center;\n",
       "}\n",
       "\n",
       ".xr-section-summary-in:disabled + label:before {\n",
       "  color: var(--xr-disabled-color);\n",
       "}\n",
       "\n",
       ".xr-section-summary-in:checked + label:before {\n",
       "  content: '▼';\n",
       "}\n",
       "\n",
       ".xr-section-summary-in:checked + label > span {\n",
       "  display: none;\n",
       "}\n",
       "\n",
       ".xr-section-summary,\n",
       ".xr-section-inline-details {\n",
       "  padding-top: 4px;\n",
       "  padding-bottom: 4px;\n",
       "}\n",
       "\n",
       ".xr-section-inline-details {\n",
       "  grid-column: 2 / -1;\n",
       "}\n",
       "\n",
       ".xr-section-details {\n",
       "  display: none;\n",
       "  grid-column: 1 / -1;\n",
       "  margin-bottom: 5px;\n",
       "}\n",
       "\n",
       ".xr-section-summary-in:checked ~ .xr-section-details {\n",
       "  display: contents;\n",
       "}\n",
       "\n",
       ".xr-array-wrap {\n",
       "  grid-column: 1 / -1;\n",
       "  display: grid;\n",
       "  grid-template-columns: 20px auto;\n",
       "}\n",
       "\n",
       ".xr-array-wrap > label {\n",
       "  grid-column: 1;\n",
       "  vertical-align: top;\n",
       "}\n",
       "\n",
       ".xr-preview {\n",
       "  color: var(--xr-font-color3);\n",
       "}\n",
       "\n",
       ".xr-array-preview,\n",
       ".xr-array-data {\n",
       "  padding: 0 5px !important;\n",
       "  grid-column: 2;\n",
       "}\n",
       "\n",
       ".xr-array-data,\n",
       ".xr-array-in:checked ~ .xr-array-preview {\n",
       "  display: none;\n",
       "}\n",
       "\n",
       ".xr-array-in:checked ~ .xr-array-data,\n",
       ".xr-array-preview {\n",
       "  display: inline-block;\n",
       "}\n",
       "\n",
       ".xr-dim-list {\n",
       "  display: inline-block !important;\n",
       "  list-style: none;\n",
       "  padding: 0 !important;\n",
       "  margin: 0;\n",
       "}\n",
       "\n",
       ".xr-dim-list li {\n",
       "  display: inline-block;\n",
       "  padding: 0;\n",
       "  margin: 0;\n",
       "}\n",
       "\n",
       ".xr-dim-list:before {\n",
       "  content: '(';\n",
       "}\n",
       "\n",
       ".xr-dim-list:after {\n",
       "  content: ')';\n",
       "}\n",
       "\n",
       ".xr-dim-list li:not(:last-child):after {\n",
       "  content: ',';\n",
       "  padding-right: 5px;\n",
       "}\n",
       "\n",
       ".xr-has-index {\n",
       "  font-weight: bold;\n",
       "}\n",
       "\n",
       ".xr-var-list,\n",
       ".xr-var-item {\n",
       "  display: contents;\n",
       "}\n",
       "\n",
       ".xr-var-item > div,\n",
       ".xr-var-item label,\n",
       ".xr-var-item > .xr-var-name span {\n",
       "  background-color: var(--xr-background-color-row-even);\n",
       "  margin-bottom: 0;\n",
       "}\n",
       "\n",
       ".xr-var-item > .xr-var-name:hover span {\n",
       "  padding-right: 5px;\n",
       "}\n",
       "\n",
       ".xr-var-list > li:nth-child(odd) > div,\n",
       ".xr-var-list > li:nth-child(odd) > label,\n",
       ".xr-var-list > li:nth-child(odd) > .xr-var-name span {\n",
       "  background-color: var(--xr-background-color-row-odd);\n",
       "}\n",
       "\n",
       ".xr-var-name {\n",
       "  grid-column: 1;\n",
       "}\n",
       "\n",
       ".xr-var-dims {\n",
       "  grid-column: 2;\n",
       "}\n",
       "\n",
       ".xr-var-dtype {\n",
       "  grid-column: 3;\n",
       "  text-align: right;\n",
       "  color: var(--xr-font-color2);\n",
       "}\n",
       "\n",
       ".xr-var-preview {\n",
       "  grid-column: 4;\n",
       "}\n",
       "\n",
       ".xr-var-name,\n",
       ".xr-var-dims,\n",
       ".xr-var-dtype,\n",
       ".xr-preview,\n",
       ".xr-attrs dt {\n",
       "  white-space: nowrap;\n",
       "  overflow: hidden;\n",
       "  text-overflow: ellipsis;\n",
       "  padding-right: 10px;\n",
       "}\n",
       "\n",
       ".xr-var-name:hover,\n",
       ".xr-var-dims:hover,\n",
       ".xr-var-dtype:hover,\n",
       ".xr-attrs dt:hover {\n",
       "  overflow: visible;\n",
       "  width: auto;\n",
       "  z-index: 1;\n",
       "}\n",
       "\n",
       ".xr-var-attrs,\n",
       ".xr-var-data {\n",
       "  display: none;\n",
       "  background-color: var(--xr-background-color) !important;\n",
       "  padding-bottom: 5px !important;\n",
       "}\n",
       "\n",
       ".xr-var-attrs-in:checked ~ .xr-var-attrs,\n",
       ".xr-var-data-in:checked ~ .xr-var-data {\n",
       "  display: block;\n",
       "}\n",
       "\n",
       ".xr-var-data > table {\n",
       "  float: right;\n",
       "}\n",
       "\n",
       ".xr-var-name span,\n",
       ".xr-var-data,\n",
       ".xr-attrs {\n",
       "  padding-left: 25px !important;\n",
       "}\n",
       "\n",
       ".xr-attrs,\n",
       ".xr-var-attrs,\n",
       ".xr-var-data {\n",
       "  grid-column: 1 / -1;\n",
       "}\n",
       "\n",
       "dl.xr-attrs {\n",
       "  padding: 0;\n",
       "  margin: 0;\n",
       "  display: grid;\n",
       "  grid-template-columns: 125px auto;\n",
       "}\n",
       "\n",
       ".xr-attrs dt,\n",
       ".xr-attrs dd {\n",
       "  padding: 0;\n",
       "  margin: 0;\n",
       "  float: left;\n",
       "  padding-right: 10px;\n",
       "  width: auto;\n",
       "}\n",
       "\n",
       ".xr-attrs dt {\n",
       "  font-weight: normal;\n",
       "  grid-column: 1;\n",
       "}\n",
       "\n",
       ".xr-attrs dt:hover span {\n",
       "  display: inline-block;\n",
       "  background: var(--xr-background-color);\n",
       "  padding-right: 10px;\n",
       "}\n",
       "\n",
       ".xr-attrs dd {\n",
       "  grid-column: 2;\n",
       "  white-space: pre-wrap;\n",
       "  word-break: break-all;\n",
       "}\n",
       "\n",
       ".xr-icon-database,\n",
       ".xr-icon-file-text2 {\n",
       "  display: inline-block;\n",
       "  vertical-align: middle;\n",
       "  width: 1em;\n",
       "  height: 1.5em !important;\n",
       "  stroke-width: 0;\n",
       "  stroke: currentColor;\n",
       "  fill: currentColor;\n",
       "}\n",
       "</style><pre class='xr-text-repr-fallback'>&lt;xarray.DataArray &#x27;decile&#x27; (decile: 10)&gt;\n",
       "array([ 1,  2,  3,  4,  5,  6,  7,  8,  9, 10])\n",
       "Coordinates:\n",
       "    month    int64 3\n",
       "  * decile   (decile) int64 1 2 3 4 5 6 7 8 9 10</pre><div class='xr-wrap' style='display:none'><div class='xr-header'><div class='xr-obj-type'>xarray.DataArray</div><div class='xr-array-name'>'decile'</div><ul class='xr-dim-list'><li><span class='xr-has-index'>decile</span>: 10</li></ul></div><ul class='xr-sections'><li class='xr-section-item'><div class='xr-array-wrap'><input id='section-96aaee19-b203-44b4-9bc2-080a00f752c3' class='xr-array-in' type='checkbox' checked><label for='section-96aaee19-b203-44b4-9bc2-080a00f752c3' title='Show/hide data repr'><svg class='icon xr-icon-database'><use xlink:href='#icon-database'></use></svg></label><div class='xr-array-preview xr-preview'><span>1 2 3 4 5 6 7 8 9 10</span></div><div class='xr-array-data'><pre>array([ 1,  2,  3,  4,  5,  6,  7,  8,  9, 10])</pre></div></div></li><li class='xr-section-item'><input id='section-01b1ec37-46e2-4e41-bd55-58015fd6f5ad' class='xr-section-summary-in' type='checkbox'  checked><label for='section-01b1ec37-46e2-4e41-bd55-58015fd6f5ad' class='xr-section-summary' >Coordinates: <span>(2)</span></label><div class='xr-section-inline-details'></div><div class='xr-section-details'><ul class='xr-var-list'><li class='xr-var-item'><div class='xr-var-name'><span>month</span></div><div class='xr-var-dims'>()</div><div class='xr-var-dtype'>int64</div><div class='xr-var-preview xr-preview'>3</div><input id='attrs-725a02b7-809d-4bb1-8d0b-8be94e329ecb' class='xr-var-attrs-in' type='checkbox' disabled><label for='attrs-725a02b7-809d-4bb1-8d0b-8be94e329ecb' title='Show/Hide attributes'><svg class='icon xr-icon-file-text2'><use xlink:href='#icon-file-text2'></use></svg></label><input id='data-83760485-9df5-4997-9444-02184107c072' class='xr-var-data-in' type='checkbox'><label for='data-83760485-9df5-4997-9444-02184107c072' title='Show/Hide data repr'><svg class='icon xr-icon-database'><use xlink:href='#icon-database'></use></svg></label><div class='xr-var-attrs'><dl class='xr-attrs'></dl></div><div class='xr-var-data'><pre>array(3)</pre></div></li><li class='xr-var-item'><div class='xr-var-name'><span class='xr-has-index'>decile</span></div><div class='xr-var-dims'>(decile)</div><div class='xr-var-dtype'>int64</div><div class='xr-var-preview xr-preview'>1 2 3 4 5 6 7 8 9 10</div><input id='attrs-86127a0d-af7b-47cd-ab0e-b9120d3fc1bf' class='xr-var-attrs-in' type='checkbox' disabled><label for='attrs-86127a0d-af7b-47cd-ab0e-b9120d3fc1bf' title='Show/Hide attributes'><svg class='icon xr-icon-file-text2'><use xlink:href='#icon-file-text2'></use></svg></label><input id='data-b98f1817-e461-4bad-8d83-e569431ace09' class='xr-var-data-in' type='checkbox'><label for='data-b98f1817-e461-4bad-8d83-e569431ace09' title='Show/Hide data repr'><svg class='icon xr-icon-database'><use xlink:href='#icon-database'></use></svg></label><div class='xr-var-attrs'><dl class='xr-attrs'></dl></div><div class='xr-var-data'><pre>array([ 1,  2,  3,  4,  5,  6,  7,  8,  9, 10])</pre></div></li></ul></div></li><li class='xr-section-item'><input id='section-10c42d03-7b10-4d46-b253-e090630aea76' class='xr-section-summary-in' type='checkbox' disabled ><label for='section-10c42d03-7b10-4d46-b253-e090630aea76' class='xr-section-summary'  title='Expand/collapse section'>Attributes: <span>(0)</span></label><div class='xr-section-inline-details'></div><div class='xr-section-details'><dl class='xr-attrs'></dl></div></li></ul></div></div>"
      ],
      "text/plain": [
       "<xarray.DataArray 'decile' (decile: 10)>\n",
       "array([ 1,  2,  3,  4,  5,  6,  7,  8,  9, 10])\n",
       "Coordinates:\n",
       "    month    int64 3\n",
       "  * decile   (decile) int64 1 2 3 4 5 6 7 8 9 10"
      ]
     },
     "execution_count": 33,
     "metadata": {},
     "output_type": "execute_result"
    }
   ],
   "source": [
    "cum_probs.decile"
   ]
  },
  {
   "cell_type": "markdown",
   "id": "ec4e8ddd",
   "metadata": {
    "papermill": {
     "duration": 0.038645,
     "end_time": "2022-04-04T02:35:51.740436",
     "exception": false,
     "start_time": "2022-04-04T02:35:51.701791",
     "status": "completed"
    },
    "tags": []
   },
   "source": [
    "#### selects probabilities greater or equal than 50% "
   ]
  },
  {
   "cell_type": "code",
   "execution_count": 34,
   "id": "6144557e",
   "metadata": {
    "papermill": {
     "duration": 0.061133,
     "end_time": "2022-04-04T02:35:51.840473",
     "exception": false,
     "start_time": "2022-04-04T02:35:51.779340",
     "status": "completed"
    },
    "tags": []
   },
   "outputs": [],
   "source": [
    "cum_probs = cum_probs.where(cum_probs['precip'] >= 50)"
   ]
  },
  {
   "cell_type": "markdown",
   "id": "a59c5176",
   "metadata": {
    "papermill": {
     "duration": 0.038259,
     "end_time": "2022-04-04T02:35:51.917041",
     "exception": false,
     "start_time": "2022-04-04T02:35:51.878782",
     "status": "completed"
    },
    "tags": []
   },
   "source": [
    "### quick plot of the minimum decile value for the cumulative decile probabilities reaching 50% "
   ]
  },
  {
   "cell_type": "code",
   "execution_count": 35,
   "id": "45da967d",
   "metadata": {
    "papermill": {
     "duration": 3.716919,
     "end_time": "2022-04-04T02:35:55.672418",
     "exception": false,
     "start_time": "2022-04-04T02:35:51.955499",
     "status": "completed"
    },
    "tags": []
   },
   "outputs": [
    {
     "data": {
      "text/plain": [
       "Text(0.5, 1.0, '')"
      ]
     },
     "execution_count": 35,
     "metadata": {},
     "output_type": "execute_result"
    },
    {
     "data": {
      "image/png": "[encoded data removed]",
      "text/plain": [
       "<Figure size 1008x576 with 2 Axes>"
      ]
     },
     "metadata": {
      "needs_background": "light"
     },
     "output_type": "display_data"
    }
   ],
   "source": [
    "f, ax = plt.subplots(subplot_kw=dict(projection=ccrs.PlateCarree(central_longitude=180)), figsize=(14,8))\n",
    "\n",
    "cum_probs.idxmin('decile').squeeze().sel(step=step)['precip'].plot.contourf(ax=ax, levels=np.arange(0, 11), transform=ccrs.PlateCarree(), \\\n",
    "                                                                   cbar_kwargs={'shrink':0.7, 'boundaries':np.arange(11), 'drawedges':True})\n",
    "ax.coastlines()\n",
    "\n",
    "ax.set_title('')"
   ]
  },
  {
   "cell_type": "markdown",
   "id": "5144b327",
   "metadata": {
    "papermill": {
     "duration": 0.041283,
     "end_time": "2022-04-04T02:35:55.755519",
     "exception": false,
     "start_time": "2022-04-04T02:35:55.714236",
     "status": "completed"
    },
    "tags": []
   },
   "source": [
    "### Now starts the prototype plotting "
   ]
  },
  {
   "cell_type": "code",
   "execution_count": 36,
   "id": "fc61800f",
   "metadata": {
    "papermill": {
     "duration": 0.064476,
     "end_time": "2022-04-04T02:35:55.861258",
     "exception": false,
     "start_time": "2022-04-04T02:35:55.796782",
     "status": "completed"
    },
    "tags": []
   },
   "outputs": [],
   "source": [
    "thresholds = np.arange(0.5, 10.5 + 1, 1)"
   ]
  },
  {
   "cell_type": "code",
   "execution_count": 37,
   "id": "b4786fe3",
   "metadata": {
    "papermill": {
     "duration": 0.061079,
     "end_time": "2022-04-04T02:35:55.963696",
     "exception": false,
     "start_time": "2022-04-04T02:35:55.902617",
     "status": "completed"
    },
    "tags": []
   },
   "outputs": [
    {
     "data": {
      "text/plain": [
       "array([ 0.5,  1.5,  2.5,  3.5,  4.5,  5.5,  6.5,  7.5,  8.5,  9.5, 10.5])"
      ]
     },
     "execution_count": 37,
     "metadata": {},
     "output_type": "execute_result"
    }
   ],
   "source": [
    "thresholds"
   ]
  },
  {
   "cell_type": "code",
   "execution_count": 38,
   "id": "1f010162",
   "metadata": {
    "papermill": {
     "duration": 0.062235,
     "end_time": "2022-04-04T02:35:56.066039",
     "exception": false,
     "start_time": "2022-04-04T02:35:56.003804",
     "status": "completed"
    },
    "tags": []
   },
   "outputs": [],
   "source": [
    "ticks_marks = np.diff(np.array(thresholds)) / 2.\n",
    "\n",
    "ticks = [thresholds[i] + ticks_marks[i] for i in range(len(thresholds) - 1)]"
   ]
  },
  {
   "cell_type": "code",
   "execution_count": 39,
   "id": "ca15564e",
   "metadata": {
    "papermill": {
     "duration": 0.061104,
     "end_time": "2022-04-04T02:35:56.168531",
     "exception": false,
     "start_time": "2022-04-04T02:35:56.107427",
     "status": "completed"
    },
    "tags": []
   },
   "outputs": [
    {
     "data": {
      "text/plain": [
       "[1.0, 2.0, 3.0, 4.0, 5.0, 6.0, 7.0, 8.0, 9.0, 10.0]"
      ]
     },
     "execution_count": 39,
     "metadata": {},
     "output_type": "execute_result"
    }
   ],
   "source": [
    "ticks"
   ]
  },
  {
   "cell_type": "code",
   "execution_count": 40,
   "id": "7fd0d9b8",
   "metadata": {
    "papermill": {
     "duration": 0.061164,
     "end_time": "2022-04-04T02:35:56.270500",
     "exception": false,
     "start_time": "2022-04-04T02:35:56.209336",
     "status": "completed"
    },
    "tags": []
   },
   "outputs": [],
   "source": [
    "hexes = ['#003c30', '#01665e', '#35978f', '#80cdc1', '#c7eae5', '#f6e8c3', '#dfc27d', '#bf812d', '#8c510a', '#543005']"
   ]
  },
  {
   "cell_type": "code",
   "execution_count": 41,
   "id": "4c258744",
   "metadata": {
    "papermill": {
     "duration": 0.060663,
     "end_time": "2022-04-04T02:35:56.373585",
     "exception": false,
     "start_time": "2022-04-04T02:35:56.312922",
     "status": "completed"
    },
    "tags": []
   },
   "outputs": [],
   "source": [
    "hexes.reverse()"
   ]
  },
  {
   "cell_type": "code",
   "execution_count": 42,
   "id": "121592cd",
   "metadata": {
    "papermill": {
     "duration": 0.060339,
     "end_time": "2022-04-04T02:35:56.474253",
     "exception": false,
     "start_time": "2022-04-04T02:35:56.413914",
     "status": "completed"
    },
    "tags": []
   },
   "outputs": [],
   "source": [
    "cbar_ticklabels = ['>90th', '80-90th', '70-80th', '60-70th', '50-60th', '40-50th', '30-40th', '20-30th', '10-20th', '< 10th']"
   ]
  },
  {
   "cell_type": "code",
   "execution_count": 43,
   "id": "bc5ef3c1",
   "metadata": {
    "papermill": {
     "duration": 0.059346,
     "end_time": "2022-04-04T02:35:56.574526",
     "exception": false,
     "start_time": "2022-04-04T02:35:56.515180",
     "status": "completed"
    },
    "tags": []
   },
   "outputs": [],
   "source": [
    "cbar_ticklabels.reverse()"
   ]
  },
  {
   "cell_type": "code",
   "execution_count": 44,
   "id": "a7aff0bb",
   "metadata": {
    "papermill": {
     "duration": 0.060942,
     "end_time": "2022-04-04T02:35:56.675046",
     "exception": false,
     "start_time": "2022-04-04T02:35:56.614104",
     "status": "completed"
    },
    "tags": []
   },
   "outputs": [
    {
     "data": {
      "text/plain": [
       "['< 10th',\n",
       " '10-20th',\n",
       " '20-30th',\n",
       " '30-40th',\n",
       " '40-50th',\n",
       " '50-60th',\n",
       " '60-70th',\n",
       " '70-80th',\n",
       " '80-90th',\n",
       " '>90th']"
      ]
     },
     "execution_count": 44,
     "metadata": {},
     "output_type": "execute_result"
    }
   ],
   "source": [
    "cbar_ticklabels"
   ]
  },
  {
   "cell_type": "code",
   "execution_count": 45,
   "id": "0bc1d2a2",
   "metadata": {
    "papermill": {
     "duration": 0.059535,
     "end_time": "2022-04-04T02:35:56.776355",
     "exception": false,
     "start_time": "2022-04-04T02:35:56.716820",
     "status": "completed"
    },
    "tags": []
   },
   "outputs": [],
   "source": [
    "import matplotlib"
   ]
  },
  {
   "cell_type": "code",
   "execution_count": 46,
   "id": "47d2c6b4",
   "metadata": {
    "papermill": {
     "duration": 0.062552,
     "end_time": "2022-04-04T02:35:56.880854",
     "exception": false,
     "start_time": "2022-04-04T02:35:56.818302",
     "status": "completed"
    },
    "tags": []
   },
   "outputs": [],
   "source": [
    "cmap = matplotlib.colors.ListedColormap(hexes, name='decile')"
   ]
  },
  {
   "cell_type": "code",
   "execution_count": 47,
   "id": "a007c97a",
   "metadata": {
    "papermill": {
     "duration": 0.075933,
     "end_time": "2022-04-04T02:35:56.999701",
     "exception": false,
     "start_time": "2022-04-04T02:35:56.923768",
     "status": "completed"
    },
    "tags": []
   },
   "outputs": [
    {
     "data": {
      "image/png": "[encoded data removed]",
      "text/html": [
       "<div style=\"vertical-align: middle;\"><strong>decile</strong> </div><div class=\"cmap\"><img alt=\"decile colormap\" title=\"decile\" style=\"border: 1px solid #555;\" src=\"data:image/png;base64,iVBORw0KGgoAAAANSUhEUgAAAgAAAABACAYAAABsv8+/AAAAFXRFWHRUaXRsZQBkZWNpbGUgY29sb3JtYXBonyRcAAAAG3RFWHREZXNjcmlwdGlvbgBkZWNpbGUgY29sb3JtYXAhCDy4AAAAMHRFWHRBdXRob3IATWF0cGxvdGxpYiB2My40LjMsIGh0dHBzOi8vbWF0cGxvdGxpYi5vcmcJXfPTAAAAMnRFWHRTb2Z0d2FyZQBNYXRwbG90bGliIHYzLjQuMywgaHR0cHM6Ly9tYXRwbG90bGliLm9yZyf7bPQAAAF2SURBVHic7darTQNgGEBRaNIZsDwSdBMMFoOuYNWKrkAIDQgUjkHKEn/4Eu45E1x5L1922/PFP/J4s51OWOZhdzedsMz10346YZmr++fphGU+NrfTCcscf76nE5Y5vL5PJyzzdjpNJyxz/vqcTlhqMx0AAPw9AwAAQQYAAIIMAAAEGQAACDIAABBkAAAgyAAAQJABAIAgAwAAQQYAAIIMAAAEGQAACDIAABBkAAAgyAAAQJABAIAgAwAAQQYAAIIMAAAEGQAACDIAABBkAAAgyAAAQJABAIAgAwAAQQYAAIIMAAAEGQAACDIAABBkAAAgyAAAQJABAIAgAwAAQQYAAIIMAAAEGQAACDIAABBkAAAgyAAAQJABAIAgAwAAQQYAAIIMAAAEGQAACDIAABBkAAAgyAAAQJABAIAgAwAAQQYAAIIMAAAEGQAACDIAABBkAAAgyAAAQJABAIAgAwAAQQYAAIIMAAAEGQAACDIAABBkAAAg6BfH1w7rwRZTHQAAAABJRU5ErkJggg==\"></div><div style=\"vertical-align: middle; max-width: 514px; display: flex; justify-content: space-between;\"><div style=\"float: left;\"><div title=\"#543005ff\" style=\"display: inline-block; width: 1em; height: 1em; margin: 0; vertical-align: middle; border: 1px solid #555; background-color: #543005ff;\"></div> under</div><div style=\"margin: 0 auto; display: inline-block;\">bad <div title=\"#00000000\" style=\"display: inline-block; width: 1em; height: 1em; margin: 0; vertical-align: middle; border: 1px solid #555; background-color: #00000000;\"></div></div><div style=\"float: right;\">over <div title=\"#003c30ff\" style=\"display: inline-block; width: 1em; height: 1em; margin: 0; vertical-align: middle; border: 1px solid #555; background-color: #003c30ff;\"></div></div>"
      ],
      "text/plain": [
       "<matplotlib.colors.ListedColormap at 0x7f8ac31c2e20>"
      ]
     },
     "execution_count": 47,
     "metadata": {},
     "output_type": "execute_result"
    }
   ],
   "source": [
    "cmap"
   ]
  },
  {
   "cell_type": "code",
   "execution_count": 48,
   "id": "f776330c",
   "metadata": {
    "papermill": {
     "duration": 0.073075,
     "end_time": "2022-04-04T02:35:57.113891",
     "exception": false,
     "start_time": "2022-04-04T02:35:57.040816",
     "status": "completed"
    },
    "tags": []
   },
   "outputs": [],
   "source": [
    "decile_map = cum_probs.idxmin('decile').squeeze().sel(step=step)"
   ]
  },
  {
   "cell_type": "code",
   "execution_count": 49,
   "id": "062527c8",
   "metadata": {
    "papermill": {
     "duration": 0.119863,
     "end_time": "2022-04-04T02:35:57.274096",
     "exception": false,
     "start_time": "2022-04-04T02:35:57.154233",
     "status": "completed"
    },
    "tags": []
   },
   "outputs": [
    {
     "data": {
      "text/html": [
       "<div>\n",
       "<style scoped>\n",
       "    .dataframe tbody tr th:only-of-type {\n",
       "        vertical-align: middle;\n",
       "    }\n",
       "\n",
       "    .dataframe tbody tr th {\n",
       "        vertical-align: top;\n",
       "    }\n",
       "\n",
       "    .dataframe thead th {\n",
       "        text-align: right;\n",
       "    }\n",
       "</style>\n",
       "<table border=\"1\" class=\"dataframe\">\n",
       "  <thead>\n",
       "    <tr style=\"text-align: right;\">\n",
       "      <th></th>\n",
       "      <th>index</th>\n",
       "      <th>geometry</th>\n",
       "    </tr>\n",
       "  </thead>\n",
       "  <tbody>\n",
       "    <tr>\n",
       "      <th>0</th>\n",
       "      <td>EEZ</td>\n",
       "      <td>POLYGON ((188.63281 -22.23893, 188.62887 -22.2...</td>\n",
       "    </tr>\n",
       "  </tbody>\n",
       "</table>\n",
       "</div>"
      ],
      "text/plain": [
       "  index                                           geometry\n",
       "0   EEZ  POLYGON ((188.63281 -22.23893, 188.62887 -22.2..."
      ]
     },
     "execution_count": 49,
     "metadata": {},
     "output_type": "execute_result"
    }
   ],
   "source": [
    "merged_EEZs"
   ]
  },
  {
   "cell_type": "code",
   "execution_count": 50,
   "id": "f24d2f75",
   "metadata": {
    "papermill": {
     "duration": 0.124028,
     "end_time": "2022-04-04T02:35:57.440567",
     "exception": false,
     "start_time": "2022-04-04T02:35:57.316539",
     "status": "completed"
    },
    "tags": []
   },
   "outputs": [],
   "source": [
    "decile_map = geo.make_mask_from_gpd(decile_map, merged_EEZs, subset=False, insert=True)"
   ]
  },
  {
   "cell_type": "markdown",
   "id": "3c3c38b9-1466-4eb4-bb7f-8ca5a7bcce09",
   "metadata": {
    "papermill": {
     "duration": 0.041588,
     "end_time": "2022-04-04T02:35:57.531396",
     "exception": false,
     "start_time": "2022-04-04T02:35:57.489808",
     "status": "completed"
    },
    "tags": []
   },
   "source": [
    "### quick plot "
   ]
  },
  {
   "cell_type": "code",
   "execution_count": 51,
   "id": "49d2ecaa",
   "metadata": {
    "papermill": {
     "duration": 2.541209,
     "end_time": "2022-04-04T02:36:00.113123",
     "exception": false,
     "start_time": "2022-04-04T02:35:57.571914",
     "status": "completed"
    },
    "tags": []
   },
   "outputs": [
    {
     "data": {
      "text/plain": [
       "<matplotlib.collections.QuadMesh at 0x7f8a27623d90>"
      ]
     },
     "execution_count": 51,
     "metadata": {},
     "output_type": "execute_result"
    },
    {
     "data": {
      "image/png": "[encoded data removed]",
      "text/plain": [
       "<Figure size 432x288 with 2 Axes>"
      ]
     },
     "metadata": {
      "needs_background": "light"
     },
     "output_type": "display_data"
    }
   ],
   "source": [
    "(decile_map['precip'] * decile_map['mask']).plot()"
   ]
  },
  {
   "cell_type": "code",
   "execution_count": 52,
   "id": "d03b184d",
   "metadata": {
    "papermill": {
     "duration": 0.063764,
     "end_time": "2022-04-04T02:36:00.218020",
     "exception": false,
     "start_time": "2022-04-04T02:36:00.154256",
     "status": "completed"
    },
    "tags": []
   },
   "outputs": [],
   "source": [
    "month_name = list(month_name)"
   ]
  },
  {
   "cell_type": "code",
   "execution_count": 53,
   "id": "48622fa6",
   "metadata": {
    "papermill": {
     "duration": 0.062729,
     "end_time": "2022-04-04T02:36:00.321716",
     "exception": false,
     "start_time": "2022-04-04T02:36:00.258987",
     "status": "completed"
    },
    "tags": []
   },
   "outputs": [],
   "source": [
    "month_name += month_name[1:]"
   ]
  },
  {
   "cell_type": "code",
   "execution_count": 54,
   "id": "86912e97",
   "metadata": {
    "papermill": {
     "duration": 0.062694,
     "end_time": "2022-04-04T02:36:00.426889",
     "exception": false,
     "start_time": "2022-04-04T02:36:00.364195",
     "status": "completed"
    },
    "tags": []
   },
   "outputs": [],
   "source": [
    "if period == 'monthly': \n",
    "    label_period = month_name[month + step]\n",
    "elif period == 'seasonal': \n",
    "    label_period = month_name[month + step - 2] + \" - \" + month_name[month + step]"
   ]
  },
  {
   "cell_type": "code",
   "execution_count": 55,
   "id": "c991af60",
   "metadata": {
    "papermill": {
     "duration": 0.063903,
     "end_time": "2022-04-04T02:36:00.532712",
     "exception": false,
     "start_time": "2022-04-04T02:36:00.468809",
     "status": "completed"
    },
    "tags": []
   },
   "outputs": [
    {
     "data": {
      "text/plain": [
       "1"
      ]
     },
     "execution_count": 55,
     "metadata": {},
     "output_type": "execute_result"
    }
   ],
   "source": [
    "step"
   ]
  },
  {
   "cell_type": "code",
   "execution_count": 56,
   "id": "a1efe919",
   "metadata": {
    "papermill": {
     "duration": 0.062452,
     "end_time": "2022-04-04T02:36:00.636911",
     "exception": false,
     "start_time": "2022-04-04T02:36:00.574459",
     "status": "completed"
    },
    "tags": []
   },
   "outputs": [
    {
     "data": {
      "text/plain": [
       "'April'"
      ]
     },
     "execution_count": 56,
     "metadata": {},
     "output_type": "execute_result"
    }
   ],
   "source": [
    "label_period"
   ]
  },
  {
   "cell_type": "code",
   "execution_count": 57,
   "id": "f25be321",
   "metadata": {
    "papermill": {
     "duration": 6.581608,
     "end_time": "2022-04-04T02:36:07.263885",
     "exception": false,
     "start_time": "2022-04-04T02:36:00.682277",
     "status": "completed"
    },
    "tags": []
   },
   "outputs": [
    {
     "data": {
      "image/png": "[encoded data removed]",
      "text/plain": [
       "<Figure size 1008x576 with 1 Axes>"
      ]
     },
     "metadata": {
      "needs_background": "light"
     },
     "output_type": "display_data"
    }
   ],
   "source": [
    "f, ax = plt.subplots(subplot_kw=dict(projection=ccrs.PlateCarree(central_longitude=180)), figsize=(14,8))\n",
    "\n",
    "ff = (decile_map['precip'] * decile_map['mask']).plot.contourf(ax=ax, levels=thresholds, cmap=cmap, transform=ccrs.PlateCarree(), add_colorbar=False)\n",
    "\n",
    "ax.coastlines(resolution='10m', lw=0.5)\n",
    "\n",
    "ax.set_title('')\n",
    "\n",
    "cbar_kwargs={'shrink':0.5, 'pad':0.01, 'extend':'neither', 'drawedges':True, 'ticks':ticks, 'aspect':15}\n",
    "\n",
    "cbar_ax = ax.axes.inset_axes([0.9, 0.525, 0.025, 0.38])\n",
    "\n",
    "cb = plt.colorbar(ff, cax=cbar_ax, **cbar_kwargs)\n",
    "\n",
    "cb.ax.minorticks_off()\n",
    "\n",
    "cbar_ax.set_yticklabels(cbar_ticklabels)\n",
    "\n",
    "plot.add_geom(ax, geoms=EEZs)\n",
    "\n",
    "title = f\"Decile precipitation forecast\\n{label_period}\"\n",
    "\n",
    "ax.text(0.99, 0.95, title, fontsize=13, fontdict={'color':'k'}, bbox=dict(facecolor='w', edgecolor='w'), horizontalalignment='right', verticalalignment='center', transform=ax.transAxes)\n",
    "\n",
    "ax.text(0.01, 0.02, u'\\u00A9'+\" NIWA\", transform=ax.transAxes, bbox=dict(facecolor='w', edgecolor='w'), fontdict=dict(color='0.4'))\n",
    "\n",
    "# ax.text(0.99, 0.02, \"(first decile value where cumulative probability reaches 50%)\",transform=ax.transAxes, horizontalalignment='right')\n",
    "\n",
    "ax.set_extent(domain, crs = ccrs.PlateCarree())"
   ]
  },
  {
   "cell_type": "markdown",
   "id": "117edf23-fd48-4927-bd27-006a3c518747",
   "metadata": {
    "papermill": {
     "duration": 0.045682,
     "end_time": "2022-04-04T02:36:07.355231",
     "exception": false,
     "start_time": "2022-04-04T02:36:07.309549",
     "status": "completed"
    },
    "tags": []
   },
   "source": [
    "### save figures to disk "
   ]
  },
  {
   "cell_type": "code",
   "execution_count": 58,
   "id": "9afbebdf",
   "metadata": {
    "papermill": {
     "duration": 0.776121,
     "end_time": "2022-04-04T02:36:08.176956",
     "exception": false,
     "start_time": "2022-04-04T02:36:07.400835",
     "status": "completed"
    },
    "tags": []
   },
   "outputs": [],
   "source": [
    "f.savefig(fpath.joinpath(f'decile_forecast_prototype_{period}_{year}_{month:02d}_init_{label_period.replace(\" - \",\"_\")}.png'), dpi=200, facecolor='w', bbox_inches='tight')\n",
    "f.savefig(fpath_web.joinpath(f'decile_forecast_prototype_{period}_lead{lead}_latest.png'), dpi=200, facecolor='w', bbox_inches='tight')"
   ]
  }
 ],
 "metadata": {
  "interpreter": {
   "hash": "df53d632f991ae6da976d69f0a13fc423563be07cde77240b1fc66d1fa832155"
  },
  "kernelspec": {
   "display_name": "Python 3 (ipykernel)",
   "language": "python",
   "name": "python3"
  },
  "language_info": {
   "codemirror_mode": {
    "name": "ipython",
    "version": 3
   },
   "file_extension": ".py",
   "mimetype": "text/x-python",
   "name": "python",
   "nbconvert_exporter": "python",
   "pygments_lexer": "ipython3",
   "version": "3.9.12"
  },
  "papermill": {
   "default_parameters": {},
   "duration": 41.116094,
   "end_time": "2022-04-04T02:36:08.944921",
   "environment_variables": {},
   "exception": null,
   "input_path": "6_map_C3S_MME_probabilistic_decile_forecast.ipynb",
   "output_path": "6_map_C3S_MME_probabilistic_decile_forecast.ipynb",
   "parameters": {
    "lag": 1,
    "lead": 5,
    "period": "monthly"
   },
   "start_time": "2022-04-04T02:35:27.828827",
   "version": "2.3.3"
  }
 },
 "nbformat": 4,
 "nbformat_minor": 5
}
