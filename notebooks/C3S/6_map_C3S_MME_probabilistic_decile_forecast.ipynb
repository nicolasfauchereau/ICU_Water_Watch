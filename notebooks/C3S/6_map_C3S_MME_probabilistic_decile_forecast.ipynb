{
 "cells": [
  {
   "cell_type": "markdown",
   "id": "439f8645-0cc7-4d39-8af3-18702600a2f2",
   "metadata": {},
   "source": [
    "# map the decile probabilistic forecast (1st decile category where cumulative probability reaches 50%) from the C3S MME "
   ]
  },
  {
   "cell_type": "code",
   "execution_count": 1,
   "id": "3c3bb7f3",
   "metadata": {
    "execution": {
     "iopub.execute_input": "2022-03-17T01:58:30.900630Z",
     "iopub.status.busy": "2022-03-17T01:58:30.900251Z",
     "iopub.status.idle": "2022-03-17T01:58:30.909323Z",
     "shell.execute_reply": "2022-03-17T01:58:30.908942Z"
    },
    "papermill": {
     "duration": 0.051481,
     "end_time": "2022-03-17T01:58:30.909431",
     "exception": false,
     "start_time": "2022-03-17T01:58:30.857950",
     "status": "completed"
    },
    "tags": []
   },
   "outputs": [],
   "source": [
    "%load_ext autoreload\n",
    "%autoreload 2"
   ]
  },
  {
   "cell_type": "code",
   "execution_count": 2,
   "id": "e039d488",
   "metadata": {
    "execution": {
     "iopub.execute_input": "2022-03-17T01:58:30.983098Z",
     "iopub.status.busy": "2022-03-17T01:58:30.982736Z",
     "iopub.status.idle": "2022-03-17T01:58:31.230602Z",
     "shell.execute_reply": "2022-03-17T01:58:31.230289Z"
    },
    "papermill": {
     "duration": 0.286761,
     "end_time": "2022-03-17T01:58:31.230691",
     "exception": false,
     "start_time": "2022-03-17T01:58:30.943930",
     "status": "completed"
    },
    "tags": []
   },
   "outputs": [],
   "source": [
    "import matplotlib"
   ]
  },
  {
   "cell_type": "code",
   "execution_count": 3,
   "id": "3eb63822",
   "metadata": {
    "execution": {
     "iopub.execute_input": "2022-03-17T01:58:31.308529Z",
     "iopub.status.busy": "2022-03-17T01:58:31.308050Z",
     "iopub.status.idle": "2022-03-17T01:58:32.838365Z",
     "shell.execute_reply": "2022-03-17T01:58:32.838020Z"
    },
    "papermill": {
     "duration": 1.57259,
     "end_time": "2022-03-17T01:58:32.838446",
     "exception": false,
     "start_time": "2022-03-17T01:58:31.265856",
     "status": "completed"
    },
    "tags": []
   },
   "outputs": [],
   "source": [
    "# %matplotlib widget\n",
    "%matplotlib inline\n",
    "\n",
    "### os \n",
    "import os \n",
    "import sys\n",
    "\n",
    "### datetimes \n",
    "from datetime import datetime, timedelta\n",
    "from dateutil.relativedelta import relativedelta\n",
    "from calendar import month_name, month_abbr\n",
    "import dateparser\n",
    "\n",
    "### scipy \n",
    "import numpy as np \n",
    "import pandas as pd\n",
    "import xarray as xr\n",
    "from cartopy import crs as ccrs\n",
    "\n",
    "### plotting \n",
    "from matplotlib import pyplot as plt\n",
    "import palettable"
   ]
  },
  {
   "cell_type": "code",
   "execution_count": 4,
   "id": "1c902a1d",
   "metadata": {
    "execution": {
     "iopub.execute_input": "2022-03-17T01:58:32.909459Z",
     "iopub.status.busy": "2022-03-17T01:58:32.909114Z",
     "iopub.status.idle": "2022-03-17T01:58:32.922770Z",
     "shell.execute_reply": "2022-03-17T01:58:32.922419Z"
    },
    "papermill": {
     "duration": 0.051212,
     "end_time": "2022-03-17T01:58:32.922857",
     "exception": false,
     "start_time": "2022-03-17T01:58:32.871645",
     "status": "completed"
    },
    "tags": []
   },
   "outputs": [],
   "source": [
    "import pathlib\n",
    "\n",
    "HOME = pathlib.Path.home()\n",
    "CWD = pathlib.Path.cwd() "
   ]
  },
  {
   "cell_type": "markdown",
   "id": "6a2ebc74",
   "metadata": {
    "papermill": {
     "duration": 0.035115,
     "end_time": "2022-03-17T01:58:32.990776",
     "exception": false,
     "start_time": "2022-03-17T01:58:32.955661",
     "status": "completed"
    },
    "tags": []
   },
   "source": [
    "### import local functions for the downloading of the C3S forecasts "
   ]
  },
  {
   "cell_type": "code",
   "execution_count": 5,
   "id": "c55e4025",
   "metadata": {
    "execution": {
     "iopub.execute_input": "2022-03-17T01:58:33.062803Z",
     "iopub.status.busy": "2022-03-17T01:58:33.062450Z",
     "iopub.status.idle": "2022-03-17T01:58:33.075253Z",
     "shell.execute_reply": "2022-03-17T01:58:33.074972Z"
    },
    "papermill": {
     "duration": 0.050425,
     "end_time": "2022-03-17T01:58:33.075338",
     "exception": false,
     "start_time": "2022-03-17T01:58:33.024913",
     "status": "completed"
    },
    "tags": []
   },
   "outputs": [],
   "source": [
    "sys.path.append('../..')"
   ]
  },
  {
   "cell_type": "code",
   "execution_count": 6,
   "id": "4a1333ed",
   "metadata": {
    "execution": {
     "iopub.execute_input": "2022-03-17T01:58:33.144811Z",
     "iopub.status.busy": "2022-03-17T01:58:33.144473Z",
     "iopub.status.idle": "2022-03-17T01:58:45.596921Z",
     "shell.execute_reply": "2022-03-17T01:58:45.596561Z"
    },
    "papermill": {
     "duration": 12.488785,
     "end_time": "2022-03-17T01:58:45.597004",
     "exception": false,
     "start_time": "2022-03-17T01:58:33.108219",
     "status": "completed"
    },
    "tags": []
   },
   "outputs": [
    {
     "name": "stderr",
     "output_type": "stream",
     "text": [
      "/home/nicolasf/mambaforge/envs/ICU_ops/lib/python3.9/site-packages/statsmodels/compat/pandas.py:65: FutureWarning: pandas.Int64Index is deprecated and will be removed from pandas in a future version. Use pandas.Index with the appropriate dtype instead.\n",
      "  from pandas import Int64Index as NumericIndex\n"
     ]
    }
   ],
   "source": [
    "from ICU_Water_Watch import geo, C3S, domains, plot, utils"
   ]
  },
  {
   "cell_type": "code",
   "execution_count": 7,
   "id": "58dfa13b",
   "metadata": {
    "execution": {
     "iopub.execute_input": "2022-03-17T01:58:45.666197Z",
     "iopub.status.busy": "2022-03-17T01:58:45.665683Z",
     "iopub.status.idle": "2022-03-17T01:58:45.685769Z",
     "shell.execute_reply": "2022-03-17T01:58:45.685425Z"
    },
    "papermill": {
     "duration": 0.055703,
     "end_time": "2022-03-17T01:58:45.685851",
     "exception": false,
     "start_time": "2022-03-17T01:58:45.630148",
     "status": "completed"
    },
    "tags": []
   },
   "outputs": [
    {
     "data": {
      "text/plain": [
       "{'Tropical_Pacific': [140, 220, -25, 25],\n",
       " 'SW_Pacific': [172.5, 190, -22.5, -12],\n",
       " 'Fiji': [175, 183, -21, -15],\n",
       " 'NZ': [161, 181, -50, -30],\n",
       " 'Pacific': [140, 240, -50, 25],\n",
       " 'C3S_download': [100, 240, -50, 30],\n",
       " 'Water_Watch': [125, 240, -35, 25]}"
      ]
     },
     "execution_count": 7,
     "metadata": {},
     "output_type": "execute_result"
    }
   ],
   "source": [
    "domains.domains"
   ]
  },
  {
   "cell_type": "markdown",
   "id": "69388ae5",
   "metadata": {
    "papermill": {
     "duration": 0.033235,
     "end_time": "2022-03-17T01:58:45.752333",
     "exception": false,
     "start_time": "2022-03-17T01:58:45.719098",
     "status": "completed"
    },
    "tags": [
     "parameters"
    ]
   },
   "source": [
    "### parameters for papermill"
   ]
  },
  {
   "cell_type": "code",
   "execution_count": 9,
   "id": "327a855c-0ad6-476b-850a-b67328507b29",
   "metadata": {
    "execution": {
     "iopub.execute_input": "2022-03-17T01:58:45.908881Z",
     "iopub.status.busy": "2022-03-17T01:58:45.908356Z",
     "iopub.status.idle": "2022-03-17T01:58:45.925301Z",
     "shell.execute_reply": "2022-03-17T01:58:45.924947Z"
    },
    "papermill": {
     "duration": 0.053076,
     "end_time": "2022-03-17T01:58:45.925382",
     "exception": false,
     "start_time": "2022-03-17T01:58:45.872306",
     "status": "completed"
    },
    "tags": []
   },
   "outputs": [],
   "source": [
    "provider = 'CDS' # should not change\n",
    "domain_name = 'Water_Watch' # domain name for plotting, see `domains` module\n",
    "period = \"seasonal\"\n",
    "lag = 0 # lag with respect to current month\n",
    "lead = 1 # lead time (month or season)\n",
    "quantile = 'decile' # should stay at \"decile\"\n",
    "varfname = 'tprate' # variable reference in the filenames\n",
    "varname = 'precip' # variable name in the forecast probabilities\n",
    "dpath_shapes = '/home/nicolasf/operational/ICU/development/hotspots/data/shapefiles' # shapes for the Pacific countries EEZs\n",
    "dpath_forecasts = '/home/nicolasf/operational/ICU/development/hotspots/code/ICU_Water_Watch/outputs/C3S' # forecast probabilities\n",
    "fpath = '/home/nicolasf/operational/ICU/development/hotspots/code/ICU_Water_Watch/figures/C3S' # paths for the figures \n",
    "fpath_web = '/home/nicolasf/operational/ICU_Web/C3S/' # path for the figures for the web "
   ]
  },
  {
   "cell_type": "markdown",
   "id": "8d045738",
   "metadata": {
    "papermill": {
     "duration": 0.034044,
     "end_time": "2022-03-17T01:58:45.992546",
     "exception": false,
     "start_time": "2022-03-17T01:58:45.958502",
     "status": "completed"
    },
    "tags": []
   },
   "source": [
    "### casts the paths to pathlib.Paths "
   ]
  },
  {
   "cell_type": "code",
   "execution_count": 10,
   "id": "55896a49",
   "metadata": {
    "execution": {
     "iopub.execute_input": "2022-03-17T01:58:46.061927Z",
     "iopub.status.busy": "2022-03-17T01:58:46.061408Z",
     "iopub.status.idle": "2022-03-17T01:58:46.078198Z",
     "shell.execute_reply": "2022-03-17T01:58:46.077851Z"
    },
    "papermill": {
     "duration": 0.052665,
     "end_time": "2022-03-17T01:58:46.078281",
     "exception": false,
     "start_time": "2022-03-17T01:58:46.025616",
     "status": "completed"
    },
    "tags": []
   },
   "outputs": [],
   "source": [
    "dpath_shapes = pathlib.Path(dpath_shapes)\n",
    "dpath_forecasts = pathlib.Path(dpath_forecasts)\n",
    "fpath = pathlib.Path(fpath)\n",
    "fpath_web = pathlib.Path(fpath_web)"
   ]
  },
  {
   "cell_type": "markdown",
   "id": "9ff5453a",
   "metadata": {
    "papermill": {
     "duration": 0.032914,
     "end_time": "2022-03-17T01:58:46.144031",
     "exception": false,
     "start_time": "2022-03-17T01:58:46.111117",
     "status": "completed"
    },
    "tags": []
   },
   "source": [
    "### domain "
   ]
  },
  {
   "cell_type": "code",
   "execution_count": 11,
   "id": "597167c6",
   "metadata": {
    "execution": {
     "iopub.execute_input": "2022-03-17T01:58:46.211332Z",
     "iopub.status.busy": "2022-03-17T01:58:46.210827Z",
     "iopub.status.idle": "2022-03-17T01:58:46.227546Z",
     "shell.execute_reply": "2022-03-17T01:58:46.227246Z"
    },
    "papermill": {
     "duration": 0.051606,
     "end_time": "2022-03-17T01:58:46.227626",
     "exception": false,
     "start_time": "2022-03-17T01:58:46.176020",
     "status": "completed"
    },
    "tags": []
   },
   "outputs": [],
   "source": [
    "domain = domains.domains[domain_name]"
   ]
  },
  {
   "cell_type": "markdown",
   "id": "637862d4",
   "metadata": {
    "papermill": {
     "duration": 0.033229,
     "end_time": "2022-03-17T01:58:46.293044",
     "exception": false,
     "start_time": "2022-03-17T01:58:46.259815",
     "status": "completed"
    },
    "tags": []
   },
   "source": [
    "### EEZ shapes "
   ]
  },
  {
   "cell_type": "code",
   "execution_count": 12,
   "id": "39d1c009",
   "metadata": {
    "execution": {
     "iopub.execute_input": "2022-03-17T01:58:46.361596Z",
     "iopub.status.busy": "2022-03-17T01:58:46.361074Z",
     "iopub.status.idle": "2022-03-17T01:58:46.396687Z",
     "shell.execute_reply": "2022-03-17T01:58:46.396374Z"
    },
    "papermill": {
     "duration": 0.07138,
     "end_time": "2022-03-17T01:58:46.396769",
     "exception": false,
     "start_time": "2022-03-17T01:58:46.325389",
     "status": "completed"
    },
    "tags": []
   },
   "outputs": [],
   "source": [
    "EEZs, merged_EEZs = geo.get_EEZs(dpath_shapes)"
   ]
  },
  {
   "cell_type": "markdown",
   "id": "b3a93a05-7b4a-4b86-8827-6e6bfcff5641",
   "metadata": {
    "papermill": {
     "duration": 0.032734,
     "end_time": "2022-03-17T01:58:46.462587",
     "exception": false,
     "start_time": "2022-03-17T01:58:46.429853",
     "status": "completed"
    },
    "tags": []
   },
   "source": [
    "### year and month (initial month of the forecast)"
   ]
  },
  {
   "cell_type": "code",
   "execution_count": 13,
   "id": "c3cd3990-45b7-4ded-850c-728d745f4506",
   "metadata": {
    "execution": {
     "iopub.execute_input": "2022-03-17T01:58:46.531454Z",
     "iopub.status.busy": "2022-03-17T01:58:46.530922Z",
     "iopub.status.idle": "2022-03-17T01:58:46.566901Z",
     "shell.execute_reply": "2022-03-17T01:58:46.566492Z"
    },
    "papermill": {
     "duration": 0.07219,
     "end_time": "2022-03-17T01:58:46.566983",
     "exception": false,
     "start_time": "2022-03-17T01:58:46.494793",
     "status": "completed"
    },
    "tags": []
   },
   "outputs": [],
   "source": [
    "date = dateparser.parse('today')"
   ]
  },
  {
   "cell_type": "code",
   "execution_count": 14,
   "id": "04f485ee-1aca-473c-8755-13064912d182",
   "metadata": {
    "execution": {
     "iopub.execute_input": "2022-03-17T01:58:46.636979Z",
     "iopub.status.busy": "2022-03-17T01:58:46.635807Z",
     "iopub.status.idle": "2022-03-17T01:58:46.653716Z",
     "shell.execute_reply": "2022-03-17T01:58:46.653352Z"
    },
    "papermill": {
     "duration": 0.052861,
     "end_time": "2022-03-17T01:58:46.653799",
     "exception": false,
     "start_time": "2022-03-17T01:58:46.600938",
     "status": "completed"
    },
    "tags": []
   },
   "outputs": [],
   "source": [
    "date = date - relativedelta(months=lag)"
   ]
  },
  {
   "cell_type": "code",
   "execution_count": 15,
   "id": "ce3f894d-e08f-44c4-95ac-f5830c6407f6",
   "metadata": {
    "execution": {
     "iopub.execute_input": "2022-03-17T01:58:46.722863Z",
     "iopub.status.busy": "2022-03-17T01:58:46.722336Z",
     "iopub.status.idle": "2022-03-17T01:58:46.738533Z",
     "shell.execute_reply": "2022-03-17T01:58:46.738799Z"
    },
    "papermill": {
     "duration": 0.052087,
     "end_time": "2022-03-17T01:58:46.738899",
     "exception": false,
     "start_time": "2022-03-17T01:58:46.686812",
     "status": "completed"
    },
    "tags": []
   },
   "outputs": [],
   "source": [
    "year = date.year \n",
    "month = date.month"
   ]
  },
  {
   "cell_type": "code",
   "execution_count": 16,
   "id": "11d32255-58ed-4d95-afab-952f6ba2a4a3",
   "metadata": {
    "execution": {
     "iopub.execute_input": "2022-03-17T01:58:46.810283Z",
     "iopub.status.busy": "2022-03-17T01:58:46.809773Z",
     "iopub.status.idle": "2022-03-17T01:58:46.826681Z",
     "shell.execute_reply": "2022-03-17T01:58:46.826954Z"
    },
    "papermill": {
     "duration": 0.055211,
     "end_time": "2022-03-17T01:58:46.827053",
     "exception": false,
     "start_time": "2022-03-17T01:58:46.771842",
     "status": "completed"
    },
    "tags": []
   },
   "outputs": [
    {
     "name": "stdout",
     "output_type": "stream",
     "text": [
      "2022 - 3\n"
     ]
    }
   ],
   "source": [
    "print(f\"{year} - {month}\")"
   ]
  },
  {
   "cell_type": "markdown",
   "id": "1c9955f7",
   "metadata": {
    "papermill": {
     "duration": 0.033705,
     "end_time": "2022-03-17T01:58:46.893863",
     "exception": false,
     "start_time": "2022-03-17T01:58:46.860158",
     "status": "completed"
    },
    "tags": []
   },
   "source": [
    "#### list of GCMs to inlude "
   ]
  },
  {
   "cell_type": "code",
   "execution_count": 17,
   "id": "727dd670",
   "metadata": {
    "execution": {
     "iopub.execute_input": "2022-03-17T01:58:46.964224Z",
     "iopub.status.busy": "2022-03-17T01:58:46.963883Z",
     "iopub.status.idle": "2022-03-17T01:58:46.981152Z",
     "shell.execute_reply": "2022-03-17T01:58:46.980794Z"
    },
    "papermill": {
     "duration": 0.053365,
     "end_time": "2022-03-17T01:58:46.981234",
     "exception": false,
     "start_time": "2022-03-17T01:58:46.927869",
     "status": "completed"
    },
    "tags": []
   },
   "outputs": [],
   "source": [
    "list_GCMs = ['ECMWF','UKMO','METEO_FRANCE','CMCC','DWD', 'NCEP', 'JMA', 'ECCC_CanCM4i', 'ECCC_GEM_NEMO']"
   ]
  },
  {
   "cell_type": "markdown",
   "id": "d4744c4d",
   "metadata": {
    "papermill": {
     "duration": 0.033377,
     "end_time": "2022-03-17T01:58:47.047727",
     "exception": false,
     "start_time": "2022-03-17T01:58:47.014350",
     "status": "completed"
    },
    "tags": []
   },
   "source": [
    "### what is the first step and the number of steps in either the monthly or seasonal forecasts "
   ]
  },
  {
   "cell_type": "code",
   "execution_count": 18,
   "id": "de1163fc",
   "metadata": {
    "execution": {
     "iopub.execute_input": "2022-03-17T01:58:47.116891Z",
     "iopub.status.busy": "2022-03-17T01:58:47.116560Z",
     "iopub.status.idle": "2022-03-17T01:58:47.133160Z",
     "shell.execute_reply": "2022-03-17T01:58:47.132821Z"
    },
    "papermill": {
     "duration": 0.052168,
     "end_time": "2022-03-17T01:58:47.133239",
     "exception": false,
     "start_time": "2022-03-17T01:58:47.081071",
     "status": "completed"
    },
    "tags": []
   },
   "outputs": [],
   "source": [
    "if period == 'seasonal': \n",
    "    nsteps = 3\n",
    "    first_step = 3\n",
    "elif period == 'monthly': \n",
    "    nsteps = 5\n",
    "    first_step = 1"
   ]
  },
  {
   "cell_type": "code",
   "execution_count": 19,
   "id": "b94416aa",
   "metadata": {
    "execution": {
     "iopub.execute_input": "2022-03-17T01:58:47.201956Z",
     "iopub.status.busy": "2022-03-17T01:58:47.201633Z",
     "iopub.status.idle": "2022-03-17T01:58:47.218356Z",
     "shell.execute_reply": "2022-03-17T01:58:47.218043Z"
    },
    "papermill": {
     "duration": 0.052545,
     "end_time": "2022-03-17T01:58:47.218434",
     "exception": false,
     "start_time": "2022-03-17T01:58:47.165889",
     "status": "completed"
    },
    "tags": []
   },
   "outputs": [],
   "source": [
    "step = lead + first_step - 1"
   ]
  },
  {
   "cell_type": "code",
   "execution_count": 20,
   "id": "46081778",
   "metadata": {
    "execution": {
     "iopub.execute_input": "2022-03-17T01:58:47.287271Z",
     "iopub.status.busy": "2022-03-17T01:58:47.286938Z",
     "iopub.status.idle": "2022-03-17T01:58:47.303807Z",
     "shell.execute_reply": "2022-03-17T01:58:47.303522Z"
    },
    "papermill": {
     "duration": 0.053056,
     "end_time": "2022-03-17T01:58:47.303885",
     "exception": false,
     "start_time": "2022-03-17T01:58:47.250829",
     "status": "completed"
    },
    "tags": []
   },
   "outputs": [
    {
     "data": {
      "text/plain": [
       "3"
      ]
     },
     "execution_count": 20,
     "metadata": {},
     "output_type": "execute_result"
    }
   ],
   "source": [
    "step"
   ]
  },
  {
   "cell_type": "markdown",
   "id": "c7cba0b6",
   "metadata": {
    "papermill": {
     "duration": 0.03314,
     "end_time": "2022-03-17T01:58:47.369515",
     "exception": false,
     "start_time": "2022-03-17T01:58:47.336375",
     "status": "completed"
    },
    "tags": []
   },
   "source": [
    "### paths to the realtime forecasts"
   ]
  },
  {
   "cell_type": "code",
   "execution_count": 21,
   "id": "fc86f837",
   "metadata": {
    "execution": {
     "iopub.execute_input": "2022-03-17T01:58:47.439062Z",
     "iopub.status.busy": "2022-03-17T01:58:47.438028Z",
     "iopub.status.idle": "2022-03-17T01:58:47.456119Z",
     "shell.execute_reply": "2022-03-17T01:58:47.455818Z"
    },
    "papermill": {
     "duration": 0.054199,
     "end_time": "2022-03-17T01:58:47.456200",
     "exception": false,
     "start_time": "2022-03-17T01:58:47.402001",
     "status": "completed"
    },
    "tags": []
   },
   "outputs": [],
   "source": [
    "lfiles = list(dpath_forecasts.glob(f\"{period}_{quantile}s_probabilities_from_{year}-{str(month).zfill(2)}_*.netcdf\"))"
   ]
  },
  {
   "cell_type": "markdown",
   "id": "7f22329c",
   "metadata": {
    "papermill": {
     "duration": 0.034145,
     "end_time": "2022-03-17T01:58:47.523079",
     "exception": false,
     "start_time": "2022-03-17T01:58:47.488934",
     "status": "completed"
    },
    "tags": []
   },
   "source": [
    "### checks the files names "
   ]
  },
  {
   "cell_type": "code",
   "execution_count": 22,
   "id": "3145dc3d",
   "metadata": {
    "execution": {
     "iopub.execute_input": "2022-03-17T01:58:47.594190Z",
     "iopub.status.busy": "2022-03-17T01:58:47.593667Z",
     "iopub.status.idle": "2022-03-17T01:58:47.611121Z",
     "shell.execute_reply": "2022-03-17T01:58:47.611389Z"
    },
    "papermill": {
     "duration": 0.05456,
     "end_time": "2022-03-17T01:58:47.611488",
     "exception": false,
     "start_time": "2022-03-17T01:58:47.556928",
     "status": "completed"
    },
    "tags": []
   },
   "outputs": [
    {
     "data": {
      "text/plain": [
       "['seasonal_deciles_probabilities_from_2022-03_NCEP.netcdf',\n",
       " 'seasonal_deciles_probabilities_from_2022-03_ECMWF.netcdf',\n",
       " 'seasonal_deciles_probabilities_from_2022-03_JMA.netcdf',\n",
       " 'seasonal_deciles_probabilities_from_2022-03_ECCC_CanCM4i.netcdf',\n",
       " 'seasonal_deciles_probabilities_from_2022-03_UKMO.netcdf',\n",
       " 'seasonal_deciles_probabilities_from_2022-03_DWD.netcdf',\n",
       " 'seasonal_deciles_probabilities_from_2022-03_ECCC_GEM_NEMO.netcdf',\n",
       " 'seasonal_deciles_probabilities_from_2022-03_METEO_FRANCE.netcdf',\n",
       " 'seasonal_deciles_probabilities_from_2022-03_CMCC.netcdf']"
      ]
     },
     "execution_count": 22,
     "metadata": {},
     "output_type": "execute_result"
    }
   ],
   "source": [
    "[f.name for f in lfiles]"
   ]
  },
  {
   "cell_type": "markdown",
   "id": "998d717b",
   "metadata": {
    "papermill": {
     "duration": 0.033521,
     "end_time": "2022-03-17T01:58:47.678486",
     "exception": false,
     "start_time": "2022-03-17T01:58:47.644965",
     "status": "completed"
    },
    "tags": []
   },
   "source": [
    "### open the multiple files dataset, concatenate along the \"GCM\" dimension "
   ]
  },
  {
   "cell_type": "code",
   "execution_count": 23,
   "id": "cbfb2f51",
   "metadata": {
    "execution": {
     "iopub.execute_input": "2022-03-17T01:58:47.779479Z",
     "iopub.status.busy": "2022-03-17T01:58:47.778973Z",
     "iopub.status.idle": "2022-03-17T01:58:47.933615Z",
     "shell.execute_reply": "2022-03-17T01:58:47.933295Z"
    },
    "papermill": {
     "duration": 0.190307,
     "end_time": "2022-03-17T01:58:47.933696",
     "exception": false,
     "start_time": "2022-03-17T01:58:47.743389",
     "status": "completed"
    },
    "tags": []
   },
   "outputs": [],
   "source": [
    "probs = xr.open_mfdataset(lfiles, concat_dim='GCM', combine='nested', engine='netcdf4') "
   ]
  },
  {
   "cell_type": "code",
   "execution_count": 24,
   "id": "a6400684",
   "metadata": {
    "execution": {
     "iopub.execute_input": "2022-03-17T01:58:48.003012Z",
     "iopub.status.busy": "2022-03-17T01:58:48.002475Z",
     "iopub.status.idle": "2022-03-17T01:58:48.146848Z",
     "shell.execute_reply": "2022-03-17T01:58:48.146465Z"
    },
    "papermill": {
     "duration": 0.180051,
     "end_time": "2022-03-17T01:58:48.146928",
     "exception": false,
     "start_time": "2022-03-17T01:58:47.966877",
     "status": "completed"
    },
    "tags": []
   },
   "outputs": [
    {
     "data": {
      "text/html": [
       "<div><svg style=\"position: absolute; width: 0; height: 0; overflow: hidden\">\n",
       "<defs>\n",
       "<symbol id=\"icon-database\" viewBox=\"0 0 32 32\">\n",
       "<path d=\"M16 0c-8.837 0-16 2.239-16 5v4c0 2.761 7.163 5 16 5s16-2.239 16-5v-4c0-2.761-7.163-5-16-5z\"></path>\n",
       "<path d=\"M16 17c-8.837 0-16-2.239-16-5v6c0 2.761 7.163 5 16 5s16-2.239 16-5v-6c0 2.761-7.163 5-16 5z\"></path>\n",
       "<path d=\"M16 26c-8.837 0-16-2.239-16-5v6c0 2.761 7.163 5 16 5s16-2.239 16-5v-6c0 2.761-7.163 5-16 5z\"></path>\n",
       "</symbol>\n",
       "<symbol id=\"icon-file-text2\" viewBox=\"0 0 32 32\">\n",
       "<path d=\"M28.681 7.159c-0.694-0.947-1.662-2.053-2.724-3.116s-2.169-2.030-3.116-2.724c-1.612-1.182-2.393-1.319-2.841-1.319h-15.5c-1.378 0-2.5 1.121-2.5 2.5v27c0 1.378 1.122 2.5 2.5 2.5h23c1.378 0 2.5-1.122 2.5-2.5v-19.5c0-0.448-0.137-1.23-1.319-2.841zM24.543 5.457c0.959 0.959 1.712 1.825 2.268 2.543h-4.811v-4.811c0.718 0.556 1.584 1.309 2.543 2.268zM28 29.5c0 0.271-0.229 0.5-0.5 0.5h-23c-0.271 0-0.5-0.229-0.5-0.5v-27c0-0.271 0.229-0.5 0.5-0.5 0 0 15.499-0 15.5 0v7c0 0.552 0.448 1 1 1h7v19.5z\"></path>\n",
       "<path d=\"M23 26h-14c-0.552 0-1-0.448-1-1s0.448-1 1-1h14c0.552 0 1 0.448 1 1s-0.448 1-1 1z\"></path>\n",
       "<path d=\"M23 22h-14c-0.552 0-1-0.448-1-1s0.448-1 1-1h14c0.552 0 1 0.448 1 1s-0.448 1-1 1z\"></path>\n",
       "<path d=\"M23 18h-14c-0.552 0-1-0.448-1-1s0.448-1 1-1h14c0.552 0 1 0.448 1 1s-0.448 1-1 1z\"></path>\n",
       "</symbol>\n",
       "</defs>\n",
       "</svg>\n",
       "<style>/* CSS stylesheet for displaying xarray objects in jupyterlab.\n",
       " *\n",
       " */\n",
       "\n",
       ":root {\n",
       "  --xr-font-color0: var(--jp-content-font-color0, rgba(0, 0, 0, 1));\n",
       "  --xr-font-color2: var(--jp-content-font-color2, rgba(0, 0, 0, 0.54));\n",
       "  --xr-font-color3: var(--jp-content-font-color3, rgba(0, 0, 0, 0.38));\n",
       "  --xr-border-color: var(--jp-border-color2, #e0e0e0);\n",
       "  --xr-disabled-color: var(--jp-layout-color3, #bdbdbd);\n",
       "  --xr-background-color: var(--jp-layout-color0, white);\n",
       "  --xr-background-color-row-even: var(--jp-layout-color1, white);\n",
       "  --xr-background-color-row-odd: var(--jp-layout-color2, #eeeeee);\n",
       "}\n",
       "\n",
       "html[theme=dark],\n",
       "body.vscode-dark {\n",
       "  --xr-font-color0: rgba(255, 255, 255, 1);\n",
       "  --xr-font-color2: rgba(255, 255, 255, 0.54);\n",
       "  --xr-font-color3: rgba(255, 255, 255, 0.38);\n",
       "  --xr-border-color: #1F1F1F;\n",
       "  --xr-disabled-color: #515151;\n",
       "  --xr-background-color: #111111;\n",
       "  --xr-background-color-row-even: #111111;\n",
       "  --xr-background-color-row-odd: #313131;\n",
       "}\n",
       "\n",
       ".xr-wrap {\n",
       "  display: block !important;\n",
       "  min-width: 300px;\n",
       "  max-width: 700px;\n",
       "}\n",
       "\n",
       ".xr-text-repr-fallback {\n",
       "  /* fallback to plain text repr when CSS is not injected (untrusted notebook) */\n",
       "  display: none;\n",
       "}\n",
       "\n",
       ".xr-header {\n",
       "  padding-top: 6px;\n",
       "  padding-bottom: 6px;\n",
       "  margin-bottom: 4px;\n",
       "  border-bottom: solid 1px var(--xr-border-color);\n",
       "}\n",
       "\n",
       ".xr-header > div,\n",
       ".xr-header > ul {\n",
       "  display: inline;\n",
       "  margin-top: 0;\n",
       "  margin-bottom: 0;\n",
       "}\n",
       "\n",
       ".xr-obj-type,\n",
       ".xr-array-name {\n",
       "  margin-left: 2px;\n",
       "  margin-right: 10px;\n",
       "}\n",
       "\n",
       ".xr-obj-type {\n",
       "  color: var(--xr-font-color2);\n",
       "}\n",
       "\n",
       ".xr-sections {\n",
       "  padding-left: 0 !important;\n",
       "  display: grid;\n",
       "  grid-template-columns: 150px auto auto 1fr 20px 20px;\n",
       "}\n",
       "\n",
       ".xr-section-item {\n",
       "  display: contents;\n",
       "}\n",
       "\n",
       ".xr-section-item input {\n",
       "  display: none;\n",
       "}\n",
       "\n",
       ".xr-section-item input + label {\n",
       "  color: var(--xr-disabled-color);\n",
       "}\n",
       "\n",
       ".xr-section-item input:enabled + label {\n",
       "  cursor: pointer;\n",
       "  color: var(--xr-font-color2);\n",
       "}\n",
       "\n",
       ".xr-section-item input:enabled + label:hover {\n",
       "  color: var(--xr-font-color0);\n",
       "}\n",
       "\n",
       ".xr-section-summary {\n",
       "  grid-column: 1;\n",
       "  color: var(--xr-font-color2);\n",
       "  font-weight: 500;\n",
       "}\n",
       "\n",
       ".xr-section-summary > span {\n",
       "  display: inline-block;\n",
       "  padding-left: 0.5em;\n",
       "}\n",
       "\n",
       ".xr-section-summary-in:disabled + label {\n",
       "  color: var(--xr-font-color2);\n",
       "}\n",
       "\n",
       ".xr-section-summary-in + label:before {\n",
       "  display: inline-block;\n",
       "  content: '►';\n",
       "  font-size: 11px;\n",
       "  width: 15px;\n",
       "  text-align: center;\n",
       "}\n",
       "\n",
       ".xr-section-summary-in:disabled + label:before {\n",
       "  color: var(--xr-disabled-color);\n",
       "}\n",
       "\n",
       ".xr-section-summary-in:checked + label:before {\n",
       "  content: '▼';\n",
       "}\n",
       "\n",
       ".xr-section-summary-in:checked + label > span {\n",
       "  display: none;\n",
       "}\n",
       "\n",
       ".xr-section-summary,\n",
       ".xr-section-inline-details {\n",
       "  padding-top: 4px;\n",
       "  padding-bottom: 4px;\n",
       "}\n",
       "\n",
       ".xr-section-inline-details {\n",
       "  grid-column: 2 / -1;\n",
       "}\n",
       "\n",
       ".xr-section-details {\n",
       "  display: none;\n",
       "  grid-column: 1 / -1;\n",
       "  margin-bottom: 5px;\n",
       "}\n",
       "\n",
       ".xr-section-summary-in:checked ~ .xr-section-details {\n",
       "  display: contents;\n",
       "}\n",
       "\n",
       ".xr-array-wrap {\n",
       "  grid-column: 1 / -1;\n",
       "  display: grid;\n",
       "  grid-template-columns: 20px auto;\n",
       "}\n",
       "\n",
       ".xr-array-wrap > label {\n",
       "  grid-column: 1;\n",
       "  vertical-align: top;\n",
       "}\n",
       "\n",
       ".xr-preview {\n",
       "  color: var(--xr-font-color3);\n",
       "}\n",
       "\n",
       ".xr-array-preview,\n",
       ".xr-array-data {\n",
       "  padding: 0 5px !important;\n",
       "  grid-column: 2;\n",
       "}\n",
       "\n",
       ".xr-array-data,\n",
       ".xr-array-in:checked ~ .xr-array-preview {\n",
       "  display: none;\n",
       "}\n",
       "\n",
       ".xr-array-in:checked ~ .xr-array-data,\n",
       ".xr-array-preview {\n",
       "  display: inline-block;\n",
       "}\n",
       "\n",
       ".xr-dim-list {\n",
       "  display: inline-block !important;\n",
       "  list-style: none;\n",
       "  padding: 0 !important;\n",
       "  margin: 0;\n",
       "}\n",
       "\n",
       ".xr-dim-list li {\n",
       "  display: inline-block;\n",
       "  padding: 0;\n",
       "  margin: 0;\n",
       "}\n",
       "\n",
       ".xr-dim-list:before {\n",
       "  content: '(';\n",
       "}\n",
       "\n",
       ".xr-dim-list:after {\n",
       "  content: ')';\n",
       "}\n",
       "\n",
       ".xr-dim-list li:not(:last-child):after {\n",
       "  content: ',';\n",
       "  padding-right: 5px;\n",
       "}\n",
       "\n",
       ".xr-has-index {\n",
       "  font-weight: bold;\n",
       "}\n",
       "\n",
       ".xr-var-list,\n",
       ".xr-var-item {\n",
       "  display: contents;\n",
       "}\n",
       "\n",
       ".xr-var-item > div,\n",
       ".xr-var-item label,\n",
       ".xr-var-item > .xr-var-name span {\n",
       "  background-color: var(--xr-background-color-row-even);\n",
       "  margin-bottom: 0;\n",
       "}\n",
       "\n",
       ".xr-var-item > .xr-var-name:hover span {\n",
       "  padding-right: 5px;\n",
       "}\n",
       "\n",
       ".xr-var-list > li:nth-child(odd) > div,\n",
       ".xr-var-list > li:nth-child(odd) > label,\n",
       ".xr-var-list > li:nth-child(odd) > .xr-var-name span {\n",
       "  background-color: var(--xr-background-color-row-odd);\n",
       "}\n",
       "\n",
       ".xr-var-name {\n",
       "  grid-column: 1;\n",
       "}\n",
       "\n",
       ".xr-var-dims {\n",
       "  grid-column: 2;\n",
       "}\n",
       "\n",
       ".xr-var-dtype {\n",
       "  grid-column: 3;\n",
       "  text-align: right;\n",
       "  color: var(--xr-font-color2);\n",
       "}\n",
       "\n",
       ".xr-var-preview {\n",
       "  grid-column: 4;\n",
       "}\n",
       "\n",
       ".xr-var-name,\n",
       ".xr-var-dims,\n",
       ".xr-var-dtype,\n",
       ".xr-preview,\n",
       ".xr-attrs dt {\n",
       "  white-space: nowrap;\n",
       "  overflow: hidden;\n",
       "  text-overflow: ellipsis;\n",
       "  padding-right: 10px;\n",
       "}\n",
       "\n",
       ".xr-var-name:hover,\n",
       ".xr-var-dims:hover,\n",
       ".xr-var-dtype:hover,\n",
       ".xr-attrs dt:hover {\n",
       "  overflow: visible;\n",
       "  width: auto;\n",
       "  z-index: 1;\n",
       "}\n",
       "\n",
       ".xr-var-attrs,\n",
       ".xr-var-data {\n",
       "  display: none;\n",
       "  background-color: var(--xr-background-color) !important;\n",
       "  padding-bottom: 5px !important;\n",
       "}\n",
       "\n",
       ".xr-var-attrs-in:checked ~ .xr-var-attrs,\n",
       ".xr-var-data-in:checked ~ .xr-var-data {\n",
       "  display: block;\n",
       "}\n",
       "\n",
       ".xr-var-data > table {\n",
       "  float: right;\n",
       "}\n",
       "\n",
       ".xr-var-name span,\n",
       ".xr-var-data,\n",
       ".xr-attrs {\n",
       "  padding-left: 25px !important;\n",
       "}\n",
       "\n",
       ".xr-attrs,\n",
       ".xr-var-attrs,\n",
       ".xr-var-data {\n",
       "  grid-column: 1 / -1;\n",
       "}\n",
       "\n",
       "dl.xr-attrs {\n",
       "  padding: 0;\n",
       "  margin: 0;\n",
       "  display: grid;\n",
       "  grid-template-columns: 125px auto;\n",
       "}\n",
       "\n",
       ".xr-attrs dt,\n",
       ".xr-attrs dd {\n",
       "  padding: 0;\n",
       "  margin: 0;\n",
       "  float: left;\n",
       "  padding-right: 10px;\n",
       "  width: auto;\n",
       "}\n",
       "\n",
       ".xr-attrs dt {\n",
       "  font-weight: normal;\n",
       "  grid-column: 1;\n",
       "}\n",
       "\n",
       ".xr-attrs dt:hover span {\n",
       "  display: inline-block;\n",
       "  background: var(--xr-background-color);\n",
       "  padding-right: 10px;\n",
       "}\n",
       "\n",
       ".xr-attrs dd {\n",
       "  grid-column: 2;\n",
       "  white-space: pre-wrap;\n",
       "  word-break: break-all;\n",
       "}\n",
       "\n",
       ".xr-icon-database,\n",
       ".xr-icon-file-text2 {\n",
       "  display: inline-block;\n",
       "  vertical-align: middle;\n",
       "  width: 1em;\n",
       "  height: 1.5em !important;\n",
       "  stroke-width: 0;\n",
       "  stroke: currentColor;\n",
       "  fill: currentColor;\n",
       "}\n",
       "</style><pre class='xr-text-repr-fallback'>&lt;xarray.Dataset&gt;\n",
       "Dimensions:  (GCM: 9, decile: 10, time: 1, step: 3, lat: 81, lon: 121)\n",
       "Coordinates:\n",
       "  * GCM      (GCM) object &#x27;NCEP&#x27; &#x27;ECMWF&#x27; &#x27;JMA&#x27; ... &#x27;METEO_FRANCE&#x27; &#x27;CMCC&#x27;\n",
       "  * time     (time) datetime64[ns] 2022-03-01\n",
       "  * lon      (lon) float32 120.0 121.0 122.0 123.0 ... 237.0 238.0 239.0 240.0\n",
       "  * lat      (lat) float32 -50.0 -49.0 -48.0 -47.0 -46.0 ... 27.0 28.0 29.0 30.0\n",
       "  * step     (step) int64 3 4 5\n",
       "    month    int64 3\n",
       "  * decile   (decile) int64 1 2 3 4 5 6 7 8 9 10\n",
       "Data variables:\n",
       "    precip   (GCM, decile, time, step, lat, lon) float64 dask.array&lt;chunksize=(1, 10, 1, 3, 81, 121), meta=np.ndarray&gt;\n",
       "Attributes:\n",
       "    pct_values:  [0.1 0.2 0.3 0.4 0.5 0.6 0.7 0.8 0.9]</pre><div class='xr-wrap' style='display:none'><div class='xr-header'><div class='xr-obj-type'>xarray.Dataset</div></div><ul class='xr-sections'><li class='xr-section-item'><input id='section-c0ad1304-f8f9-4521-bf67-c0c0a377507f' class='xr-section-summary-in' type='checkbox' disabled ><label for='section-c0ad1304-f8f9-4521-bf67-c0c0a377507f' class='xr-section-summary'  title='Expand/collapse section'>Dimensions:</label><div class='xr-section-inline-details'><ul class='xr-dim-list'><li><span class='xr-has-index'>GCM</span>: 9</li><li><span class='xr-has-index'>decile</span>: 10</li><li><span class='xr-has-index'>time</span>: 1</li><li><span class='xr-has-index'>step</span>: 3</li><li><span class='xr-has-index'>lat</span>: 81</li><li><span class='xr-has-index'>lon</span>: 121</li></ul></div><div class='xr-section-details'></div></li><li class='xr-section-item'><input id='section-dfcf967b-c6ea-40ff-9249-708d5d0a6295' class='xr-section-summary-in' type='checkbox'  checked><label for='section-dfcf967b-c6ea-40ff-9249-708d5d0a6295' class='xr-section-summary' >Coordinates: <span>(7)</span></label><div class='xr-section-inline-details'></div><div class='xr-section-details'><ul class='xr-var-list'><li class='xr-var-item'><div class='xr-var-name'><span class='xr-has-index'>GCM</span></div><div class='xr-var-dims'>(GCM)</div><div class='xr-var-dtype'>object</div><div class='xr-var-preview xr-preview'>&#x27;NCEP&#x27; &#x27;ECMWF&#x27; ... &#x27;CMCC&#x27;</div><input id='attrs-8aa3b67f-dbfe-44f0-8d18-18677bba2e35' class='xr-var-attrs-in' type='checkbox' disabled><label for='attrs-8aa3b67f-dbfe-44f0-8d18-18677bba2e35' title='Show/Hide attributes'><svg class='icon xr-icon-file-text2'><use xlink:href='#icon-file-text2'></use></svg></label><input id='data-6a865a49-6ca8-4ad3-a6e1-f3d659752e65' class='xr-var-data-in' type='checkbox'><label for='data-6a865a49-6ca8-4ad3-a6e1-f3d659752e65' title='Show/Hide data repr'><svg class='icon xr-icon-database'><use xlink:href='#icon-database'></use></svg></label><div class='xr-var-attrs'><dl class='xr-attrs'></dl></div><div class='xr-var-data'><pre>array([&#x27;NCEP&#x27;, &#x27;ECMWF&#x27;, &#x27;JMA&#x27;, &#x27;ECCC_CanCM4i&#x27;, &#x27;UKMO&#x27;, &#x27;DWD&#x27;, &#x27;ECCC_GEM_NEMO&#x27;,\n",
       "       &#x27;METEO_FRANCE&#x27;, &#x27;CMCC&#x27;], dtype=object)</pre></div></li><li class='xr-var-item'><div class='xr-var-name'><span class='xr-has-index'>time</span></div><div class='xr-var-dims'>(time)</div><div class='xr-var-dtype'>datetime64[ns]</div><div class='xr-var-preview xr-preview'>2022-03-01</div><input id='attrs-f27585a3-6521-4ad2-a767-92187526df2c' class='xr-var-attrs-in' type='checkbox' disabled><label for='attrs-f27585a3-6521-4ad2-a767-92187526df2c' title='Show/Hide attributes'><svg class='icon xr-icon-file-text2'><use xlink:href='#icon-file-text2'></use></svg></label><input id='data-0bae2484-3958-45a9-aa1a-5f5d230310c7' class='xr-var-data-in' type='checkbox'><label for='data-0bae2484-3958-45a9-aa1a-5f5d230310c7' title='Show/Hide data repr'><svg class='icon xr-icon-database'><use xlink:href='#icon-database'></use></svg></label><div class='xr-var-attrs'><dl class='xr-attrs'></dl></div><div class='xr-var-data'><pre>array([&#x27;2022-03-01T00:00:00.000000000&#x27;], dtype=&#x27;datetime64[ns]&#x27;)</pre></div></li><li class='xr-var-item'><div class='xr-var-name'><span class='xr-has-index'>lon</span></div><div class='xr-var-dims'>(lon)</div><div class='xr-var-dtype'>float32</div><div class='xr-var-preview xr-preview'>120.0 121.0 122.0 ... 239.0 240.0</div><input id='attrs-67d2e98b-4413-4180-8db1-269277914abc' class='xr-var-attrs-in' type='checkbox' disabled><label for='attrs-67d2e98b-4413-4180-8db1-269277914abc' title='Show/Hide attributes'><svg class='icon xr-icon-file-text2'><use xlink:href='#icon-file-text2'></use></svg></label><input id='data-24acdc35-d8ab-4343-9cae-f27f55a25c0a' class='xr-var-data-in' type='checkbox'><label for='data-24acdc35-d8ab-4343-9cae-f27f55a25c0a' title='Show/Hide data repr'><svg class='icon xr-icon-database'><use xlink:href='#icon-database'></use></svg></label><div class='xr-var-attrs'><dl class='xr-attrs'></dl></div><div class='xr-var-data'><pre>array([120., 121., 122., 123., 124., 125., 126., 127., 128., 129., 130., 131.,\n",
       "       132., 133., 134., 135., 136., 137., 138., 139., 140., 141., 142., 143.,\n",
       "       144., 145., 146., 147., 148., 149., 150., 151., 152., 153., 154., 155.,\n",
       "       156., 157., 158., 159., 160., 161., 162., 163., 164., 165., 166., 167.,\n",
       "       168., 169., 170., 171., 172., 173., 174., 175., 176., 177., 178., 179.,\n",
       "       180., 181., 182., 183., 184., 185., 186., 187., 188., 189., 190., 191.,\n",
       "       192., 193., 194., 195., 196., 197., 198., 199., 200., 201., 202., 203.,\n",
       "       204., 205., 206., 207., 208., 209., 210., 211., 212., 213., 214., 215.,\n",
       "       216., 217., 218., 219., 220., 221., 222., 223., 224., 225., 226., 227.,\n",
       "       228., 229., 230., 231., 232., 233., 234., 235., 236., 237., 238., 239.,\n",
       "       240.], dtype=float32)</pre></div></li><li class='xr-var-item'><div class='xr-var-name'><span class='xr-has-index'>lat</span></div><div class='xr-var-dims'>(lat)</div><div class='xr-var-dtype'>float32</div><div class='xr-var-preview xr-preview'>-50.0 -49.0 -48.0 ... 29.0 30.0</div><input id='attrs-e2deeb17-da8c-403b-8604-b548efda51d1' class='xr-var-attrs-in' type='checkbox' disabled><label for='attrs-e2deeb17-da8c-403b-8604-b548efda51d1' title='Show/Hide attributes'><svg class='icon xr-icon-file-text2'><use xlink:href='#icon-file-text2'></use></svg></label><input id='data-39c4cad1-7acb-4774-a653-07cec1e47d71' class='xr-var-data-in' type='checkbox'><label for='data-39c4cad1-7acb-4774-a653-07cec1e47d71' title='Show/Hide data repr'><svg class='icon xr-icon-database'><use xlink:href='#icon-database'></use></svg></label><div class='xr-var-attrs'><dl class='xr-attrs'></dl></div><div class='xr-var-data'><pre>array([-50., -49., -48., -47., -46., -45., -44., -43., -42., -41., -40., -39.,\n",
       "       -38., -37., -36., -35., -34., -33., -32., -31., -30., -29., -28., -27.,\n",
       "       -26., -25., -24., -23., -22., -21., -20., -19., -18., -17., -16., -15.,\n",
       "       -14., -13., -12., -11., -10.,  -9.,  -8.,  -7.,  -6.,  -5.,  -4.,  -3.,\n",
       "        -2.,  -1.,   0.,   1.,   2.,   3.,   4.,   5.,   6.,   7.,   8.,   9.,\n",
       "        10.,  11.,  12.,  13.,  14.,  15.,  16.,  17.,  18.,  19.,  20.,  21.,\n",
       "        22.,  23.,  24.,  25.,  26.,  27.,  28.,  29.,  30.], dtype=float32)</pre></div></li><li class='xr-var-item'><div class='xr-var-name'><span class='xr-has-index'>step</span></div><div class='xr-var-dims'>(step)</div><div class='xr-var-dtype'>int64</div><div class='xr-var-preview xr-preview'>3 4 5</div><input id='attrs-9cc42750-c2db-45a4-bca2-b328fb99e101' class='xr-var-attrs-in' type='checkbox' disabled><label for='attrs-9cc42750-c2db-45a4-bca2-b328fb99e101' title='Show/Hide attributes'><svg class='icon xr-icon-file-text2'><use xlink:href='#icon-file-text2'></use></svg></label><input id='data-52090bd6-720e-44a4-9830-0c5682537054' class='xr-var-data-in' type='checkbox'><label for='data-52090bd6-720e-44a4-9830-0c5682537054' title='Show/Hide data repr'><svg class='icon xr-icon-database'><use xlink:href='#icon-database'></use></svg></label><div class='xr-var-attrs'><dl class='xr-attrs'></dl></div><div class='xr-var-data'><pre>array([3, 4, 5])</pre></div></li><li class='xr-var-item'><div class='xr-var-name'><span>month</span></div><div class='xr-var-dims'>()</div><div class='xr-var-dtype'>int64</div><div class='xr-var-preview xr-preview'>3</div><input id='attrs-65eba0b8-5340-4920-ac78-a234ae526881' class='xr-var-attrs-in' type='checkbox' disabled><label for='attrs-65eba0b8-5340-4920-ac78-a234ae526881' title='Show/Hide attributes'><svg class='icon xr-icon-file-text2'><use xlink:href='#icon-file-text2'></use></svg></label><input id='data-83a8ddb4-cef8-410e-8872-6e6da4e90639' class='xr-var-data-in' type='checkbox'><label for='data-83a8ddb4-cef8-410e-8872-6e6da4e90639' title='Show/Hide data repr'><svg class='icon xr-icon-database'><use xlink:href='#icon-database'></use></svg></label><div class='xr-var-attrs'><dl class='xr-attrs'></dl></div><div class='xr-var-data'><pre>array(3)</pre></div></li><li class='xr-var-item'><div class='xr-var-name'><span class='xr-has-index'>decile</span></div><div class='xr-var-dims'>(decile)</div><div class='xr-var-dtype'>int64</div><div class='xr-var-preview xr-preview'>1 2 3 4 5 6 7 8 9 10</div><input id='attrs-637d00bd-0444-48cc-a4bc-dcb41013ab7a' class='xr-var-attrs-in' type='checkbox' disabled><label for='attrs-637d00bd-0444-48cc-a4bc-dcb41013ab7a' title='Show/Hide attributes'><svg class='icon xr-icon-file-text2'><use xlink:href='#icon-file-text2'></use></svg></label><input id='data-da238c72-58dc-49f2-ab92-5063402dc676' class='xr-var-data-in' type='checkbox'><label for='data-da238c72-58dc-49f2-ab92-5063402dc676' title='Show/Hide data repr'><svg class='icon xr-icon-database'><use xlink:href='#icon-database'></use></svg></label><div class='xr-var-attrs'><dl class='xr-attrs'></dl></div><div class='xr-var-data'><pre>array([ 1,  2,  3,  4,  5,  6,  7,  8,  9, 10])</pre></div></li></ul></div></li><li class='xr-section-item'><input id='section-a09e937c-d517-40aa-8634-c586f56248a2' class='xr-section-summary-in' type='checkbox'  checked><label for='section-a09e937c-d517-40aa-8634-c586f56248a2' class='xr-section-summary' >Data variables: <span>(1)</span></label><div class='xr-section-inline-details'></div><div class='xr-section-details'><ul class='xr-var-list'><li class='xr-var-item'><div class='xr-var-name'><span>precip</span></div><div class='xr-var-dims'>(GCM, decile, time, step, lat, lon)</div><div class='xr-var-dtype'>float64</div><div class='xr-var-preview xr-preview'>dask.array&lt;chunksize=(1, 10, 1, 3, 81, 121), meta=np.ndarray&gt;</div><input id='attrs-b0c2126d-f8d9-4dea-a07a-35bbd74551b5' class='xr-var-attrs-in' type='checkbox' disabled><label for='attrs-b0c2126d-f8d9-4dea-a07a-35bbd74551b5' title='Show/Hide attributes'><svg class='icon xr-icon-file-text2'><use xlink:href='#icon-file-text2'></use></svg></label><input id='data-7875924c-0b1c-467e-8ae4-f620743d0e7f' class='xr-var-data-in' type='checkbox'><label for='data-7875924c-0b1c-467e-8ae4-f620743d0e7f' title='Show/Hide data repr'><svg class='icon xr-icon-database'><use xlink:href='#icon-database'></use></svg></label><div class='xr-var-attrs'><dl class='xr-attrs'></dl></div><div class='xr-var-data'><table>\n",
       "    <tr>\n",
       "        <td>\n",
       "            <table>\n",
       "                <thead>\n",
       "                    <tr>\n",
       "                        <td> </td>\n",
       "                        <th> Array </th>\n",
       "                        <th> Chunk </th>\n",
       "                    </tr>\n",
       "                </thead>\n",
       "                <tbody>\n",
       "                    \n",
       "                    <tr>\n",
       "                        <th> Bytes </th>\n",
       "                        <td> 20.19 MiB </td>\n",
       "                        <td> 2.24 MiB </td>\n",
       "                    </tr>\n",
       "                    \n",
       "                    <tr>\n",
       "                        <th> Shape </th>\n",
       "                        <td> (9, 10, 1, 3, 81, 121) </td>\n",
       "                        <td> (1, 10, 1, 3, 81, 121) </td>\n",
       "                    </tr>\n",
       "                    <tr>\n",
       "                        <th> Count </th>\n",
       "                        <td> 27 Tasks </td>\n",
       "                        <td> 9 Chunks </td>\n",
       "                    </tr>\n",
       "                    <tr>\n",
       "                    <th> Type </th>\n",
       "                    <td> float64 </td>\n",
       "                    <td> numpy.ndarray </td>\n",
       "                    </tr>\n",
       "                </tbody>\n",
       "            </table>\n",
       "        </td>\n",
       "        <td>\n",
       "        <svg width=\"441\" height=\"148\" style=\"stroke:rgb(0,0,0);stroke-width:1\" >\n",
       "\n",
       "  <!-- Horizontal lines -->\n",
       "  <line x1=\"10\" y1=\"0\" x2=\"31\" y2=\"21\" style=\"stroke-width:2\" />\n",
       "  <line x1=\"10\" y1=\"37\" x2=\"31\" y2=\"59\" style=\"stroke-width:2\" />\n",
       "\n",
       "  <!-- Vertical lines -->\n",
       "  <line x1=\"10\" y1=\"0\" x2=\"10\" y2=\"37\" style=\"stroke-width:2\" />\n",
       "  <line x1=\"12\" y1=\"2\" x2=\"12\" y2=\"39\" />\n",
       "  <line x1=\"14\" y1=\"4\" x2=\"14\" y2=\"42\" />\n",
       "  <line x1=\"17\" y1=\"7\" x2=\"17\" y2=\"44\" />\n",
       "  <line x1=\"19\" y1=\"9\" x2=\"19\" y2=\"47\" />\n",
       "  <line x1=\"22\" y1=\"12\" x2=\"22\" y2=\"49\" />\n",
       "  <line x1=\"24\" y1=\"14\" x2=\"24\" y2=\"51\" />\n",
       "  <line x1=\"26\" y1=\"16\" x2=\"26\" y2=\"54\" />\n",
       "  <line x1=\"29\" y1=\"19\" x2=\"29\" y2=\"56\" />\n",
       "  <line x1=\"31\" y1=\"21\" x2=\"31\" y2=\"59\" style=\"stroke-width:2\" />\n",
       "\n",
       "  <!-- Colored Rectangle -->\n",
       "  <polygon points=\"10.0,0.0 31.705460913306453,21.705460913306453 31.705460913306453,59.22101676725615 10.0,37.5155558539497\" style=\"fill:#ECB172A0;stroke-width:0\"/>\n",
       "\n",
       "  <!-- Horizontal lines -->\n",
       "  <line x1=\"10\" y1=\"0\" x2=\"35\" y2=\"0\" style=\"stroke-width:2\" />\n",
       "  <line x1=\"12\" y1=\"2\" x2=\"37\" y2=\"2\" />\n",
       "  <line x1=\"14\" y1=\"4\" x2=\"40\" y2=\"4\" />\n",
       "  <line x1=\"17\" y1=\"7\" x2=\"42\" y2=\"7\" />\n",
       "  <line x1=\"19\" y1=\"9\" x2=\"45\" y2=\"9\" />\n",
       "  <line x1=\"22\" y1=\"12\" x2=\"47\" y2=\"12\" />\n",
       "  <line x1=\"24\" y1=\"14\" x2=\"49\" y2=\"14\" />\n",
       "  <line x1=\"26\" y1=\"16\" x2=\"52\" y2=\"16\" />\n",
       "  <line x1=\"29\" y1=\"19\" x2=\"54\" y2=\"19\" />\n",
       "  <line x1=\"31\" y1=\"21\" x2=\"57\" y2=\"21\" style=\"stroke-width:2\" />\n",
       "\n",
       "  <!-- Vertical lines -->\n",
       "  <line x1=\"10\" y1=\"0\" x2=\"31\" y2=\"21\" style=\"stroke-width:2\" />\n",
       "  <line x1=\"35\" y1=\"0\" x2=\"57\" y2=\"21\" style=\"stroke-width:2\" />\n",
       "\n",
       "  <!-- Colored Rectangle -->\n",
       "  <polygon points=\"10.0,0.0 35.41261651458248,0.0 57.118077427888934,21.705460913306453 31.705460913306453,21.705460913306453\" style=\"fill:#ECB172A0;stroke-width:0\"/>\n",
       "\n",
       "  <!-- Horizontal lines -->\n",
       "  <line x1=\"31\" y1=\"21\" x2=\"57\" y2=\"21\" style=\"stroke-width:2\" />\n",
       "  <line x1=\"31\" y1=\"59\" x2=\"57\" y2=\"59\" style=\"stroke-width:2\" />\n",
       "\n",
       "  <!-- Vertical lines -->\n",
       "  <line x1=\"31\" y1=\"21\" x2=\"31\" y2=\"59\" style=\"stroke-width:2\" />\n",
       "  <line x1=\"57\" y1=\"21\" x2=\"57\" y2=\"59\" style=\"stroke-width:2\" />\n",
       "\n",
       "  <!-- Colored Rectangle -->\n",
       "  <polygon points=\"31.705460913306453,21.705460913306453 57.118077427888934,21.705460913306453 57.118077427888934,59.22101676725615 31.705460913306453,59.22101676725615\" style=\"fill:#ECB172A0;stroke-width:0\"/>\n",
       "\n",
       "  <!-- Text -->\n",
       "  <text x=\"44.411769\" y=\"79.221017\" font-size=\"1.0rem\" font-weight=\"100\" text-anchor=\"middle\" >1</text>\n",
       "  <text x=\"77.118077\" y=\"40.463239\" font-size=\"1.0rem\" font-weight=\"100\" text-anchor=\"middle\" transform=\"rotate(0,77.118077,40.463239)\">10</text>\n",
       "  <text x=\"10.852730\" y=\"68.368286\" font-size=\"1.0rem\" font-weight=\"100\" text-anchor=\"middle\" transform=\"rotate(45,10.852730,68.368286)\">9</text>\n",
       "\n",
       "\n",
       "  <!-- Horizontal lines -->\n",
       "  <line x1=\"127\" y1=\"0\" x2=\"144\" y2=\"17\" style=\"stroke-width:2\" />\n",
       "  <line x1=\"127\" y1=\"80\" x2=\"144\" y2=\"98\" style=\"stroke-width:2\" />\n",
       "\n",
       "  <!-- Vertical lines -->\n",
       "  <line x1=\"127\" y1=\"0\" x2=\"127\" y2=\"80\" style=\"stroke-width:2\" />\n",
       "  <line x1=\"144\" y1=\"17\" x2=\"144\" y2=\"98\" style=\"stroke-width:2\" />\n",
       "\n",
       "  <!-- Colored Rectangle -->\n",
       "  <polygon points=\"127.0,0.0 144.80172121589226,17.801721215892265 144.80172121589226,98.13229972828896 127.0,80.3305785123967\" style=\"fill:#ECB172A0;stroke-width:0\"/>\n",
       "\n",
       "  <!-- Horizontal lines -->\n",
       "  <line x1=\"127\" y1=\"0\" x2=\"247\" y2=\"0\" style=\"stroke-width:2\" />\n",
       "  <line x1=\"144\" y1=\"17\" x2=\"264\" y2=\"17\" style=\"stroke-width:2\" />\n",
       "\n",
       "  <!-- Vertical lines -->\n",
       "  <line x1=\"127\" y1=\"0\" x2=\"144\" y2=\"17\" style=\"stroke-width:2\" />\n",
       "  <line x1=\"247\" y1=\"0\" x2=\"264\" y2=\"17\" style=\"stroke-width:2\" />\n",
       "\n",
       "  <!-- Colored Rectangle -->\n",
       "  <polygon points=\"127.0,0.0 247.0,0.0 264.80172121589226,17.801721215892265 144.80172121589226,17.801721215892265\" style=\"fill:#ECB172A0;stroke-width:0\"/>\n",
       "\n",
       "  <!-- Horizontal lines -->\n",
       "  <line x1=\"144\" y1=\"17\" x2=\"264\" y2=\"17\" style=\"stroke-width:2\" />\n",
       "  <line x1=\"144\" y1=\"98\" x2=\"264\" y2=\"98\" style=\"stroke-width:2\" />\n",
       "\n",
       "  <!-- Vertical lines -->\n",
       "  <line x1=\"144\" y1=\"17\" x2=\"144\" y2=\"98\" style=\"stroke-width:2\" />\n",
       "  <line x1=\"264\" y1=\"17\" x2=\"264\" y2=\"98\" style=\"stroke-width:2\" />\n",
       "\n",
       "  <!-- Colored Rectangle -->\n",
       "  <polygon points=\"144.80172121589226,17.801721215892265 264.80172121589226,17.801721215892265 264.80172121589226,98.13229972828896 144.80172121589226,98.13229972828896\" style=\"fill:#ECB172A0;stroke-width:0\"/>\n",
       "\n",
       "  <!-- Text -->\n",
       "  <text x=\"204.801721\" y=\"118.132300\" font-size=\"1.0rem\" font-weight=\"100\" text-anchor=\"middle\" >121</text>\n",
       "  <text x=\"284.801721\" y=\"57.967010\" font-size=\"1.0rem\" font-weight=\"100\" text-anchor=\"middle\" transform=\"rotate(0,284.801721,57.967010)\">81</text>\n",
       "  <text x=\"125.900861\" y=\"109.231439\" font-size=\"1.0rem\" font-weight=\"100\" text-anchor=\"middle\" transform=\"rotate(45,125.900861,109.231439)\">3</text>\n",
       "</svg>\n",
       "        </td>\n",
       "    </tr>\n",
       "</table></div></li></ul></div></li><li class='xr-section-item'><input id='section-b9f10e0c-344d-4f35-b4de-1b4dd9a42e2b' class='xr-section-summary-in' type='checkbox'  checked><label for='section-b9f10e0c-344d-4f35-b4de-1b4dd9a42e2b' class='xr-section-summary' >Attributes: <span>(1)</span></label><div class='xr-section-inline-details'></div><div class='xr-section-details'><dl class='xr-attrs'><dt><span>pct_values :</span></dt><dd>[0.1 0.2 0.3 0.4 0.5 0.6 0.7 0.8 0.9]</dd></dl></div></li></ul></div></div>"
      ],
      "text/plain": [
       "<xarray.Dataset>\n",
       "Dimensions:  (GCM: 9, decile: 10, time: 1, step: 3, lat: 81, lon: 121)\n",
       "Coordinates:\n",
       "  * GCM      (GCM) object 'NCEP' 'ECMWF' 'JMA' ... 'METEO_FRANCE' 'CMCC'\n",
       "  * time     (time) datetime64[ns] 2022-03-01\n",
       "  * lon      (lon) float32 120.0 121.0 122.0 123.0 ... 237.0 238.0 239.0 240.0\n",
       "  * lat      (lat) float32 -50.0 -49.0 -48.0 -47.0 -46.0 ... 27.0 28.0 29.0 30.0\n",
       "  * step     (step) int64 3 4 5\n",
       "    month    int64 3\n",
       "  * decile   (decile) int64 1 2 3 4 5 6 7 8 9 10\n",
       "Data variables:\n",
       "    precip   (GCM, decile, time, step, lat, lon) float64 dask.array<chunksize=(1, 10, 1, 3, 81, 121), meta=np.ndarray>\n",
       "Attributes:\n",
       "    pct_values:  [0.1 0.2 0.3 0.4 0.5 0.6 0.7 0.8 0.9]"
      ]
     },
     "execution_count": 24,
     "metadata": {},
     "output_type": "execute_result"
    }
   ],
   "source": [
    "probs"
   ]
  },
  {
   "cell_type": "markdown",
   "id": "3f196ab6",
   "metadata": {
    "papermill": {
     "duration": 0.034678,
     "end_time": "2022-03-17T01:58:48.215688",
     "exception": false,
     "start_time": "2022-03-17T01:58:48.181010",
     "status": "completed"
    },
    "tags": []
   },
   "source": [
    "### interpolate (for smoother maps)"
   ]
  },
  {
   "cell_type": "code",
   "execution_count": 25,
   "id": "f613fc28",
   "metadata": {
    "execution": {
     "iopub.execute_input": "2022-03-17T01:58:48.287344Z",
     "iopub.status.busy": "2022-03-17T01:58:48.286846Z",
     "iopub.status.idle": "2022-03-17T01:58:48.312601Z",
     "shell.execute_reply": "2022-03-17T01:58:48.312122Z"
    },
    "papermill": {
     "duration": 0.062843,
     "end_time": "2022-03-17T01:58:48.312689",
     "exception": false,
     "start_time": "2022-03-17T01:58:48.249846",
     "status": "completed"
    },
    "tags": []
   },
   "outputs": [],
   "source": [
    "probs = utils.interp(probs, interp_factor=6)"
   ]
  },
  {
   "cell_type": "code",
   "execution_count": 26,
   "id": "ee09f6db",
   "metadata": {
    "execution": {
     "iopub.execute_input": "2022-03-17T01:58:48.387911Z",
     "iopub.status.busy": "2022-03-17T01:58:48.387374Z",
     "iopub.status.idle": "2022-03-17T01:58:48.419213Z",
     "shell.execute_reply": "2022-03-17T01:58:48.418864Z"
    },
    "papermill": {
     "duration": 0.070819,
     "end_time": "2022-03-17T01:58:48.419294",
     "exception": false,
     "start_time": "2022-03-17T01:58:48.348475",
     "status": "completed"
    },
    "tags": []
   },
   "outputs": [
    {
     "data": {
      "text/html": [
       "<div><svg style=\"position: absolute; width: 0; height: 0; overflow: hidden\">\n",
       "<defs>\n",
       "<symbol id=\"icon-database\" viewBox=\"0 0 32 32\">\n",
       "<path d=\"M16 0c-8.837 0-16 2.239-16 5v4c0 2.761 7.163 5 16 5s16-2.239 16-5v-4c0-2.761-7.163-5-16-5z\"></path>\n",
       "<path d=\"M16 17c-8.837 0-16-2.239-16-5v6c0 2.761 7.163 5 16 5s16-2.239 16-5v-6c0 2.761-7.163 5-16 5z\"></path>\n",
       "<path d=\"M16 26c-8.837 0-16-2.239-16-5v6c0 2.761 7.163 5 16 5s16-2.239 16-5v-6c0 2.761-7.163 5-16 5z\"></path>\n",
       "</symbol>\n",
       "<symbol id=\"icon-file-text2\" viewBox=\"0 0 32 32\">\n",
       "<path d=\"M28.681 7.159c-0.694-0.947-1.662-2.053-2.724-3.116s-2.169-2.030-3.116-2.724c-1.612-1.182-2.393-1.319-2.841-1.319h-15.5c-1.378 0-2.5 1.121-2.5 2.5v27c0 1.378 1.122 2.5 2.5 2.5h23c1.378 0 2.5-1.122 2.5-2.5v-19.5c0-0.448-0.137-1.23-1.319-2.841zM24.543 5.457c0.959 0.959 1.712 1.825 2.268 2.543h-4.811v-4.811c0.718 0.556 1.584 1.309 2.543 2.268zM28 29.5c0 0.271-0.229 0.5-0.5 0.5h-23c-0.271 0-0.5-0.229-0.5-0.5v-27c0-0.271 0.229-0.5 0.5-0.5 0 0 15.499-0 15.5 0v7c0 0.552 0.448 1 1 1h7v19.5z\"></path>\n",
       "<path d=\"M23 26h-14c-0.552 0-1-0.448-1-1s0.448-1 1-1h14c0.552 0 1 0.448 1 1s-0.448 1-1 1z\"></path>\n",
       "<path d=\"M23 22h-14c-0.552 0-1-0.448-1-1s0.448-1 1-1h14c0.552 0 1 0.448 1 1s-0.448 1-1 1z\"></path>\n",
       "<path d=\"M23 18h-14c-0.552 0-1-0.448-1-1s0.448-1 1-1h14c0.552 0 1 0.448 1 1s-0.448 1-1 1z\"></path>\n",
       "</symbol>\n",
       "</defs>\n",
       "</svg>\n",
       "<style>/* CSS stylesheet for displaying xarray objects in jupyterlab.\n",
       " *\n",
       " */\n",
       "\n",
       ":root {\n",
       "  --xr-font-color0: var(--jp-content-font-color0, rgba(0, 0, 0, 1));\n",
       "  --xr-font-color2: var(--jp-content-font-color2, rgba(0, 0, 0, 0.54));\n",
       "  --xr-font-color3: var(--jp-content-font-color3, rgba(0, 0, 0, 0.38));\n",
       "  --xr-border-color: var(--jp-border-color2, #e0e0e0);\n",
       "  --xr-disabled-color: var(--jp-layout-color3, #bdbdbd);\n",
       "  --xr-background-color: var(--jp-layout-color0, white);\n",
       "  --xr-background-color-row-even: var(--jp-layout-color1, white);\n",
       "  --xr-background-color-row-odd: var(--jp-layout-color2, #eeeeee);\n",
       "}\n",
       "\n",
       "html[theme=dark],\n",
       "body.vscode-dark {\n",
       "  --xr-font-color0: rgba(255, 255, 255, 1);\n",
       "  --xr-font-color2: rgba(255, 255, 255, 0.54);\n",
       "  --xr-font-color3: rgba(255, 255, 255, 0.38);\n",
       "  --xr-border-color: #1F1F1F;\n",
       "  --xr-disabled-color: #515151;\n",
       "  --xr-background-color: #111111;\n",
       "  --xr-background-color-row-even: #111111;\n",
       "  --xr-background-color-row-odd: #313131;\n",
       "}\n",
       "\n",
       ".xr-wrap {\n",
       "  display: block !important;\n",
       "  min-width: 300px;\n",
       "  max-width: 700px;\n",
       "}\n",
       "\n",
       ".xr-text-repr-fallback {\n",
       "  /* fallback to plain text repr when CSS is not injected (untrusted notebook) */\n",
       "  display: none;\n",
       "}\n",
       "\n",
       ".xr-header {\n",
       "  padding-top: 6px;\n",
       "  padding-bottom: 6px;\n",
       "  margin-bottom: 4px;\n",
       "  border-bottom: solid 1px var(--xr-border-color);\n",
       "}\n",
       "\n",
       ".xr-header > div,\n",
       ".xr-header > ul {\n",
       "  display: inline;\n",
       "  margin-top: 0;\n",
       "  margin-bottom: 0;\n",
       "}\n",
       "\n",
       ".xr-obj-type,\n",
       ".xr-array-name {\n",
       "  margin-left: 2px;\n",
       "  margin-right: 10px;\n",
       "}\n",
       "\n",
       ".xr-obj-type {\n",
       "  color: var(--xr-font-color2);\n",
       "}\n",
       "\n",
       ".xr-sections {\n",
       "  padding-left: 0 !important;\n",
       "  display: grid;\n",
       "  grid-template-columns: 150px auto auto 1fr 20px 20px;\n",
       "}\n",
       "\n",
       ".xr-section-item {\n",
       "  display: contents;\n",
       "}\n",
       "\n",
       ".xr-section-item input {\n",
       "  display: none;\n",
       "}\n",
       "\n",
       ".xr-section-item input + label {\n",
       "  color: var(--xr-disabled-color);\n",
       "}\n",
       "\n",
       ".xr-section-item input:enabled + label {\n",
       "  cursor: pointer;\n",
       "  color: var(--xr-font-color2);\n",
       "}\n",
       "\n",
       ".xr-section-item input:enabled + label:hover {\n",
       "  color: var(--xr-font-color0);\n",
       "}\n",
       "\n",
       ".xr-section-summary {\n",
       "  grid-column: 1;\n",
       "  color: var(--xr-font-color2);\n",
       "  font-weight: 500;\n",
       "}\n",
       "\n",
       ".xr-section-summary > span {\n",
       "  display: inline-block;\n",
       "  padding-left: 0.5em;\n",
       "}\n",
       "\n",
       ".xr-section-summary-in:disabled + label {\n",
       "  color: var(--xr-font-color2);\n",
       "}\n",
       "\n",
       ".xr-section-summary-in + label:before {\n",
       "  display: inline-block;\n",
       "  content: '►';\n",
       "  font-size: 11px;\n",
       "  width: 15px;\n",
       "  text-align: center;\n",
       "}\n",
       "\n",
       ".xr-section-summary-in:disabled + label:before {\n",
       "  color: var(--xr-disabled-color);\n",
       "}\n",
       "\n",
       ".xr-section-summary-in:checked + label:before {\n",
       "  content: '▼';\n",
       "}\n",
       "\n",
       ".xr-section-summary-in:checked + label > span {\n",
       "  display: none;\n",
       "}\n",
       "\n",
       ".xr-section-summary,\n",
       ".xr-section-inline-details {\n",
       "  padding-top: 4px;\n",
       "  padding-bottom: 4px;\n",
       "}\n",
       "\n",
       ".xr-section-inline-details {\n",
       "  grid-column: 2 / -1;\n",
       "}\n",
       "\n",
       ".xr-section-details {\n",
       "  display: none;\n",
       "  grid-column: 1 / -1;\n",
       "  margin-bottom: 5px;\n",
       "}\n",
       "\n",
       ".xr-section-summary-in:checked ~ .xr-section-details {\n",
       "  display: contents;\n",
       "}\n",
       "\n",
       ".xr-array-wrap {\n",
       "  grid-column: 1 / -1;\n",
       "  display: grid;\n",
       "  grid-template-columns: 20px auto;\n",
       "}\n",
       "\n",
       ".xr-array-wrap > label {\n",
       "  grid-column: 1;\n",
       "  vertical-align: top;\n",
       "}\n",
       "\n",
       ".xr-preview {\n",
       "  color: var(--xr-font-color3);\n",
       "}\n",
       "\n",
       ".xr-array-preview,\n",
       ".xr-array-data {\n",
       "  padding: 0 5px !important;\n",
       "  grid-column: 2;\n",
       "}\n",
       "\n",
       ".xr-array-data,\n",
       ".xr-array-in:checked ~ .xr-array-preview {\n",
       "  display: none;\n",
       "}\n",
       "\n",
       ".xr-array-in:checked ~ .xr-array-data,\n",
       ".xr-array-preview {\n",
       "  display: inline-block;\n",
       "}\n",
       "\n",
       ".xr-dim-list {\n",
       "  display: inline-block !important;\n",
       "  list-style: none;\n",
       "  padding: 0 !important;\n",
       "  margin: 0;\n",
       "}\n",
       "\n",
       ".xr-dim-list li {\n",
       "  display: inline-block;\n",
       "  padding: 0;\n",
       "  margin: 0;\n",
       "}\n",
       "\n",
       ".xr-dim-list:before {\n",
       "  content: '(';\n",
       "}\n",
       "\n",
       ".xr-dim-list:after {\n",
       "  content: ')';\n",
       "}\n",
       "\n",
       ".xr-dim-list li:not(:last-child):after {\n",
       "  content: ',';\n",
       "  padding-right: 5px;\n",
       "}\n",
       "\n",
       ".xr-has-index {\n",
       "  font-weight: bold;\n",
       "}\n",
       "\n",
       ".xr-var-list,\n",
       ".xr-var-item {\n",
       "  display: contents;\n",
       "}\n",
       "\n",
       ".xr-var-item > div,\n",
       ".xr-var-item label,\n",
       ".xr-var-item > .xr-var-name span {\n",
       "  background-color: var(--xr-background-color-row-even);\n",
       "  margin-bottom: 0;\n",
       "}\n",
       "\n",
       ".xr-var-item > .xr-var-name:hover span {\n",
       "  padding-right: 5px;\n",
       "}\n",
       "\n",
       ".xr-var-list > li:nth-child(odd) > div,\n",
       ".xr-var-list > li:nth-child(odd) > label,\n",
       ".xr-var-list > li:nth-child(odd) > .xr-var-name span {\n",
       "  background-color: var(--xr-background-color-row-odd);\n",
       "}\n",
       "\n",
       ".xr-var-name {\n",
       "  grid-column: 1;\n",
       "}\n",
       "\n",
       ".xr-var-dims {\n",
       "  grid-column: 2;\n",
       "}\n",
       "\n",
       ".xr-var-dtype {\n",
       "  grid-column: 3;\n",
       "  text-align: right;\n",
       "  color: var(--xr-font-color2);\n",
       "}\n",
       "\n",
       ".xr-var-preview {\n",
       "  grid-column: 4;\n",
       "}\n",
       "\n",
       ".xr-var-name,\n",
       ".xr-var-dims,\n",
       ".xr-var-dtype,\n",
       ".xr-preview,\n",
       ".xr-attrs dt {\n",
       "  white-space: nowrap;\n",
       "  overflow: hidden;\n",
       "  text-overflow: ellipsis;\n",
       "  padding-right: 10px;\n",
       "}\n",
       "\n",
       ".xr-var-name:hover,\n",
       ".xr-var-dims:hover,\n",
       ".xr-var-dtype:hover,\n",
       ".xr-attrs dt:hover {\n",
       "  overflow: visible;\n",
       "  width: auto;\n",
       "  z-index: 1;\n",
       "}\n",
       "\n",
       ".xr-var-attrs,\n",
       ".xr-var-data {\n",
       "  display: none;\n",
       "  background-color: var(--xr-background-color) !important;\n",
       "  padding-bottom: 5px !important;\n",
       "}\n",
       "\n",
       ".xr-var-attrs-in:checked ~ .xr-var-attrs,\n",
       ".xr-var-data-in:checked ~ .xr-var-data {\n",
       "  display: block;\n",
       "}\n",
       "\n",
       ".xr-var-data > table {\n",
       "  float: right;\n",
       "}\n",
       "\n",
       ".xr-var-name span,\n",
       ".xr-var-data,\n",
       ".xr-attrs {\n",
       "  padding-left: 25px !important;\n",
       "}\n",
       "\n",
       ".xr-attrs,\n",
       ".xr-var-attrs,\n",
       ".xr-var-data {\n",
       "  grid-column: 1 / -1;\n",
       "}\n",
       "\n",
       "dl.xr-attrs {\n",
       "  padding: 0;\n",
       "  margin: 0;\n",
       "  display: grid;\n",
       "  grid-template-columns: 125px auto;\n",
       "}\n",
       "\n",
       ".xr-attrs dt,\n",
       ".xr-attrs dd {\n",
       "  padding: 0;\n",
       "  margin: 0;\n",
       "  float: left;\n",
       "  padding-right: 10px;\n",
       "  width: auto;\n",
       "}\n",
       "\n",
       ".xr-attrs dt {\n",
       "  font-weight: normal;\n",
       "  grid-column: 1;\n",
       "}\n",
       "\n",
       ".xr-attrs dt:hover span {\n",
       "  display: inline-block;\n",
       "  background: var(--xr-background-color);\n",
       "  padding-right: 10px;\n",
       "}\n",
       "\n",
       ".xr-attrs dd {\n",
       "  grid-column: 2;\n",
       "  white-space: pre-wrap;\n",
       "  word-break: break-all;\n",
       "}\n",
       "\n",
       ".xr-icon-database,\n",
       ".xr-icon-file-text2 {\n",
       "  display: inline-block;\n",
       "  vertical-align: middle;\n",
       "  width: 1em;\n",
       "  height: 1.5em !important;\n",
       "  stroke-width: 0;\n",
       "  stroke: currentColor;\n",
       "  fill: currentColor;\n",
       "}\n",
       "</style><pre class='xr-text-repr-fallback'>&lt;xarray.Dataset&gt;\n",
       "Dimensions:  (GCM: 9, decile: 10, time: 1, step: 3, lat: 486, lon: 726)\n",
       "Coordinates:\n",
       "  * GCM      (GCM) object &#x27;NCEP&#x27; &#x27;ECMWF&#x27; &#x27;JMA&#x27; ... &#x27;METEO_FRANCE&#x27; &#x27;CMCC&#x27;\n",
       "  * time     (time) datetime64[ns] 2022-03-01\n",
       "  * step     (step) int64 3 4 5\n",
       "    month    int64 3\n",
       "  * decile   (decile) int64 1 2 3 4 5 6 7 8 9 10\n",
       "  * lon      (lon) float64 120.0 120.2 120.3 120.5 ... 239.5 239.7 239.8 240.0\n",
       "  * lat      (lat) float64 -50.0 -49.84 -49.67 -49.51 ... 29.51 29.67 29.84 30.0\n",
       "Data variables:\n",
       "    precip   (GCM, decile, time, step, lat, lon) float64 dask.array&lt;chunksize=(1, 10, 1, 3, 486, 726), meta=np.ndarray&gt;\n",
       "Attributes:\n",
       "    pct_values:  [0.1 0.2 0.3 0.4 0.5 0.6 0.7 0.8 0.9]</pre><div class='xr-wrap' style='display:none'><div class='xr-header'><div class='xr-obj-type'>xarray.Dataset</div></div><ul class='xr-sections'><li class='xr-section-item'><input id='section-4b63e142-b4d8-4d22-8e10-c24b207a38fc' class='xr-section-summary-in' type='checkbox' disabled ><label for='section-4b63e142-b4d8-4d22-8e10-c24b207a38fc' class='xr-section-summary'  title='Expand/collapse section'>Dimensions:</label><div class='xr-section-inline-details'><ul class='xr-dim-list'><li><span class='xr-has-index'>GCM</span>: 9</li><li><span class='xr-has-index'>decile</span>: 10</li><li><span class='xr-has-index'>time</span>: 1</li><li><span class='xr-has-index'>step</span>: 3</li><li><span class='xr-has-index'>lat</span>: 486</li><li><span class='xr-has-index'>lon</span>: 726</li></ul></div><div class='xr-section-details'></div></li><li class='xr-section-item'><input id='section-bba51dd3-1bcd-496f-999b-1193c80abadd' class='xr-section-summary-in' type='checkbox'  checked><label for='section-bba51dd3-1bcd-496f-999b-1193c80abadd' class='xr-section-summary' >Coordinates: <span>(7)</span></label><div class='xr-section-inline-details'></div><div class='xr-section-details'><ul class='xr-var-list'><li class='xr-var-item'><div class='xr-var-name'><span class='xr-has-index'>GCM</span></div><div class='xr-var-dims'>(GCM)</div><div class='xr-var-dtype'>object</div><div class='xr-var-preview xr-preview'>&#x27;NCEP&#x27; &#x27;ECMWF&#x27; ... &#x27;CMCC&#x27;</div><input id='attrs-719caa57-18b5-49ec-adc2-bebcdbabe8de' class='xr-var-attrs-in' type='checkbox' disabled><label for='attrs-719caa57-18b5-49ec-adc2-bebcdbabe8de' title='Show/Hide attributes'><svg class='icon xr-icon-file-text2'><use xlink:href='#icon-file-text2'></use></svg></label><input id='data-4ea129d0-95ff-4058-9b6a-4088482d39bd' class='xr-var-data-in' type='checkbox'><label for='data-4ea129d0-95ff-4058-9b6a-4088482d39bd' title='Show/Hide data repr'><svg class='icon xr-icon-database'><use xlink:href='#icon-database'></use></svg></label><div class='xr-var-attrs'><dl class='xr-attrs'></dl></div><div class='xr-var-data'><pre>array([&#x27;NCEP&#x27;, &#x27;ECMWF&#x27;, &#x27;JMA&#x27;, &#x27;ECCC_CanCM4i&#x27;, &#x27;UKMO&#x27;, &#x27;DWD&#x27;, &#x27;ECCC_GEM_NEMO&#x27;,\n",
       "       &#x27;METEO_FRANCE&#x27;, &#x27;CMCC&#x27;], dtype=object)</pre></div></li><li class='xr-var-item'><div class='xr-var-name'><span class='xr-has-index'>time</span></div><div class='xr-var-dims'>(time)</div><div class='xr-var-dtype'>datetime64[ns]</div><div class='xr-var-preview xr-preview'>2022-03-01</div><input id='attrs-5a202c2d-fce0-4fa6-982e-b4c0d4a0906e' class='xr-var-attrs-in' type='checkbox' disabled><label for='attrs-5a202c2d-fce0-4fa6-982e-b4c0d4a0906e' title='Show/Hide attributes'><svg class='icon xr-icon-file-text2'><use xlink:href='#icon-file-text2'></use></svg></label><input id='data-3027c78b-2c13-4ca2-9889-73db4c08bf18' class='xr-var-data-in' type='checkbox'><label for='data-3027c78b-2c13-4ca2-9889-73db4c08bf18' title='Show/Hide data repr'><svg class='icon xr-icon-database'><use xlink:href='#icon-database'></use></svg></label><div class='xr-var-attrs'><dl class='xr-attrs'></dl></div><div class='xr-var-data'><pre>array([&#x27;2022-03-01T00:00:00.000000000&#x27;], dtype=&#x27;datetime64[ns]&#x27;)</pre></div></li><li class='xr-var-item'><div class='xr-var-name'><span class='xr-has-index'>step</span></div><div class='xr-var-dims'>(step)</div><div class='xr-var-dtype'>int64</div><div class='xr-var-preview xr-preview'>3 4 5</div><input id='attrs-5fd81801-b27c-46e3-8380-df70e4bf72d5' class='xr-var-attrs-in' type='checkbox' disabled><label for='attrs-5fd81801-b27c-46e3-8380-df70e4bf72d5' title='Show/Hide attributes'><svg class='icon xr-icon-file-text2'><use xlink:href='#icon-file-text2'></use></svg></label><input id='data-741c5021-8004-4f15-942d-a82f6dbde6cf' class='xr-var-data-in' type='checkbox'><label for='data-741c5021-8004-4f15-942d-a82f6dbde6cf' title='Show/Hide data repr'><svg class='icon xr-icon-database'><use xlink:href='#icon-database'></use></svg></label><div class='xr-var-attrs'><dl class='xr-attrs'></dl></div><div class='xr-var-data'><pre>array([3, 4, 5])</pre></div></li><li class='xr-var-item'><div class='xr-var-name'><span>month</span></div><div class='xr-var-dims'>()</div><div class='xr-var-dtype'>int64</div><div class='xr-var-preview xr-preview'>3</div><input id='attrs-bd4bac7a-8ec2-49e2-842f-feb4c2ea6631' class='xr-var-attrs-in' type='checkbox' disabled><label for='attrs-bd4bac7a-8ec2-49e2-842f-feb4c2ea6631' title='Show/Hide attributes'><svg class='icon xr-icon-file-text2'><use xlink:href='#icon-file-text2'></use></svg></label><input id='data-2266219e-5c59-4d5a-9db0-52db29a0490e' class='xr-var-data-in' type='checkbox'><label for='data-2266219e-5c59-4d5a-9db0-52db29a0490e' title='Show/Hide data repr'><svg class='icon xr-icon-database'><use xlink:href='#icon-database'></use></svg></label><div class='xr-var-attrs'><dl class='xr-attrs'></dl></div><div class='xr-var-data'><pre>array(3)</pre></div></li><li class='xr-var-item'><div class='xr-var-name'><span class='xr-has-index'>decile</span></div><div class='xr-var-dims'>(decile)</div><div class='xr-var-dtype'>int64</div><div class='xr-var-preview xr-preview'>1 2 3 4 5 6 7 8 9 10</div><input id='attrs-ba4a3f7e-b076-4a0e-9051-dba84c69dd01' class='xr-var-attrs-in' type='checkbox' disabled><label for='attrs-ba4a3f7e-b076-4a0e-9051-dba84c69dd01' title='Show/Hide attributes'><svg class='icon xr-icon-file-text2'><use xlink:href='#icon-file-text2'></use></svg></label><input id='data-3a91c2d9-f9c9-4fb9-9025-e9c8130cfca4' class='xr-var-data-in' type='checkbox'><label for='data-3a91c2d9-f9c9-4fb9-9025-e9c8130cfca4' title='Show/Hide data repr'><svg class='icon xr-icon-database'><use xlink:href='#icon-database'></use></svg></label><div class='xr-var-attrs'><dl class='xr-attrs'></dl></div><div class='xr-var-data'><pre>array([ 1,  2,  3,  4,  5,  6,  7,  8,  9, 10])</pre></div></li><li class='xr-var-item'><div class='xr-var-name'><span class='xr-has-index'>lon</span></div><div class='xr-var-dims'>(lon)</div><div class='xr-var-dtype'>float64</div><div class='xr-var-preview xr-preview'>120.0 120.2 120.3 ... 239.8 240.0</div><input id='attrs-c7623708-d4b8-49d5-83e0-b0d3ff842e3b' class='xr-var-attrs-in' type='checkbox' disabled><label for='attrs-c7623708-d4b8-49d5-83e0-b0d3ff842e3b' title='Show/Hide attributes'><svg class='icon xr-icon-file-text2'><use xlink:href='#icon-file-text2'></use></svg></label><input id='data-5b9c6773-c917-46d5-a7c3-436498c63eeb' class='xr-var-data-in' type='checkbox'><label for='data-5b9c6773-c917-46d5-a7c3-436498c63eeb' title='Show/Hide data repr'><svg class='icon xr-icon-database'><use xlink:href='#icon-database'></use></svg></label><div class='xr-var-attrs'><dl class='xr-attrs'></dl></div><div class='xr-var-data'><pre>array([120.      , 120.165517, 120.331034, ..., 239.668966, 239.834483,\n",
       "       240.      ])</pre></div></li><li class='xr-var-item'><div class='xr-var-name'><span class='xr-has-index'>lat</span></div><div class='xr-var-dims'>(lat)</div><div class='xr-var-dtype'>float64</div><div class='xr-var-preview xr-preview'>-50.0 -49.84 -49.67 ... 29.84 30.0</div><input id='attrs-1b061a97-02d9-478e-9a02-bdbb86a8e131' class='xr-var-attrs-in' type='checkbox' disabled><label for='attrs-1b061a97-02d9-478e-9a02-bdbb86a8e131' title='Show/Hide attributes'><svg class='icon xr-icon-file-text2'><use xlink:href='#icon-file-text2'></use></svg></label><input id='data-63ae1e72-7e3f-43f7-afb6-68bb2275eefb' class='xr-var-data-in' type='checkbox'><label for='data-63ae1e72-7e3f-43f7-afb6-68bb2275eefb' title='Show/Hide data repr'><svg class='icon xr-icon-database'><use xlink:href='#icon-database'></use></svg></label><div class='xr-var-attrs'><dl class='xr-attrs'></dl></div><div class='xr-var-data'><pre>array([-50.      , -49.835052, -49.670103, ...,  29.670103,  29.835052,\n",
       "        30.      ])</pre></div></li></ul></div></li><li class='xr-section-item'><input id='section-6ced758d-2e02-4638-ac0d-b499432934ac' class='xr-section-summary-in' type='checkbox'  checked><label for='section-6ced758d-2e02-4638-ac0d-b499432934ac' class='xr-section-summary' >Data variables: <span>(1)</span></label><div class='xr-section-inline-details'></div><div class='xr-section-details'><ul class='xr-var-list'><li class='xr-var-item'><div class='xr-var-name'><span>precip</span></div><div class='xr-var-dims'>(GCM, decile, time, step, lat, lon)</div><div class='xr-var-dtype'>float64</div><div class='xr-var-preview xr-preview'>dask.array&lt;chunksize=(1, 10, 1, 3, 486, 726), meta=np.ndarray&gt;</div><input id='attrs-a2cf0480-6f70-4bb8-9f21-30982ac73bc6' class='xr-var-attrs-in' type='checkbox' disabled><label for='attrs-a2cf0480-6f70-4bb8-9f21-30982ac73bc6' title='Show/Hide attributes'><svg class='icon xr-icon-file-text2'><use xlink:href='#icon-file-text2'></use></svg></label><input id='data-fadb520b-12ee-4be3-82c4-5eb39a96b8ef' class='xr-var-data-in' type='checkbox'><label for='data-fadb520b-12ee-4be3-82c4-5eb39a96b8ef' title='Show/Hide data repr'><svg class='icon xr-icon-database'><use xlink:href='#icon-database'></use></svg></label><div class='xr-var-attrs'><dl class='xr-attrs'></dl></div><div class='xr-var-data'><table>\n",
       "    <tr>\n",
       "        <td>\n",
       "            <table>\n",
       "                <thead>\n",
       "                    <tr>\n",
       "                        <td> </td>\n",
       "                        <th> Array </th>\n",
       "                        <th> Chunk </th>\n",
       "                    </tr>\n",
       "                </thead>\n",
       "                <tbody>\n",
       "                    \n",
       "                    <tr>\n",
       "                        <th> Bytes </th>\n",
       "                        <td> 726.82 MiB </td>\n",
       "                        <td> 80.76 MiB </td>\n",
       "                    </tr>\n",
       "                    \n",
       "                    <tr>\n",
       "                        <th> Shape </th>\n",
       "                        <td> (9, 10, 1, 3, 486, 726) </td>\n",
       "                        <td> (1, 10, 1, 3, 486, 726) </td>\n",
       "                    </tr>\n",
       "                    <tr>\n",
       "                        <th> Count </th>\n",
       "                        <td> 71 Tasks </td>\n",
       "                        <td> 9 Chunks </td>\n",
       "                    </tr>\n",
       "                    <tr>\n",
       "                    <th> Type </th>\n",
       "                    <td> float64 </td>\n",
       "                    <td> numpy.ndarray </td>\n",
       "                    </tr>\n",
       "                </tbody>\n",
       "            </table>\n",
       "        </td>\n",
       "        <td>\n",
       "        <svg width=\"424\" height=\"145\" style=\"stroke:rgb(0,0,0);stroke-width:1\" >\n",
       "\n",
       "  <!-- Horizontal lines -->\n",
       "  <line x1=\"10\" y1=\"0\" x2=\"25\" y2=\"15\" style=\"stroke-width:2\" />\n",
       "  <line x1=\"10\" y1=\"27\" x2=\"25\" y2=\"42\" style=\"stroke-width:2\" />\n",
       "\n",
       "  <!-- Vertical lines -->\n",
       "  <line x1=\"10\" y1=\"0\" x2=\"10\" y2=\"27\" style=\"stroke-width:2\" />\n",
       "  <line x1=\"11\" y1=\"1\" x2=\"11\" y2=\"28\" />\n",
       "  <line x1=\"13\" y1=\"3\" x2=\"13\" y2=\"30\" />\n",
       "  <line x1=\"15\" y1=\"5\" x2=\"15\" y2=\"32\" />\n",
       "  <line x1=\"16\" y1=\"6\" x2=\"16\" y2=\"33\" />\n",
       "  <line x1=\"18\" y1=\"8\" x2=\"18\" y2=\"35\" />\n",
       "  <line x1=\"20\" y1=\"10\" x2=\"20\" y2=\"37\" />\n",
       "  <line x1=\"22\" y1=\"12\" x2=\"22\" y2=\"39\" />\n",
       "  <line x1=\"23\" y1=\"13\" x2=\"23\" y2=\"40\" />\n",
       "  <line x1=\"25\" y1=\"15\" x2=\"25\" y2=\"42\" style=\"stroke-width:2\" />\n",
       "\n",
       "  <!-- Colored Rectangle -->\n",
       "  <polygon points=\"10.0,0.0 25.5709935097992,15.570993509799202 25.5709935097992,42.581891523612626 10.0,27.01089801381342\" style=\"fill:#ECB172A0;stroke-width:0\"/>\n",
       "\n",
       "  <!-- Horizontal lines -->\n",
       "  <line x1=\"10\" y1=\"0\" x2=\"35\" y2=\"0\" style=\"stroke-width:2\" />\n",
       "  <line x1=\"11\" y1=\"1\" x2=\"37\" y2=\"1\" />\n",
       "  <line x1=\"13\" y1=\"3\" x2=\"38\" y2=\"3\" />\n",
       "  <line x1=\"15\" y1=\"5\" x2=\"40\" y2=\"5\" />\n",
       "  <line x1=\"16\" y1=\"6\" x2=\"42\" y2=\"6\" />\n",
       "  <line x1=\"18\" y1=\"8\" x2=\"44\" y2=\"8\" />\n",
       "  <line x1=\"20\" y1=\"10\" x2=\"45\" y2=\"10\" />\n",
       "  <line x1=\"22\" y1=\"12\" x2=\"47\" y2=\"12\" />\n",
       "  <line x1=\"23\" y1=\"13\" x2=\"49\" y2=\"13\" />\n",
       "  <line x1=\"25\" y1=\"15\" x2=\"50\" y2=\"15\" style=\"stroke-width:2\" />\n",
       "\n",
       "  <!-- Vertical lines -->\n",
       "  <line x1=\"10\" y1=\"0\" x2=\"25\" y2=\"15\" style=\"stroke-width:2\" />\n",
       "  <line x1=\"35\" y1=\"0\" x2=\"50\" y2=\"15\" style=\"stroke-width:2\" />\n",
       "\n",
       "  <!-- Colored Rectangle -->\n",
       "  <polygon points=\"10.0,0.0 35.41261651458248,0.0 50.98361002438168,15.570993509799202 25.5709935097992,15.570993509799202\" style=\"fill:#ECB172A0;stroke-width:0\"/>\n",
       "\n",
       "  <!-- Horizontal lines -->\n",
       "  <line x1=\"25\" y1=\"15\" x2=\"50\" y2=\"15\" style=\"stroke-width:2\" />\n",
       "  <line x1=\"25\" y1=\"42\" x2=\"50\" y2=\"42\" style=\"stroke-width:2\" />\n",
       "\n",
       "  <!-- Vertical lines -->\n",
       "  <line x1=\"25\" y1=\"15\" x2=\"25\" y2=\"42\" style=\"stroke-width:2\" />\n",
       "  <line x1=\"50\" y1=\"15\" x2=\"50\" y2=\"42\" style=\"stroke-width:2\" />\n",
       "\n",
       "  <!-- Colored Rectangle -->\n",
       "  <polygon points=\"25.5709935097992,15.570993509799202 50.98361002438169,15.570993509799202 50.98361002438169,42.581891523612626 25.5709935097992,42.581891523612626\" style=\"fill:#ECB172A0;stroke-width:0\"/>\n",
       "\n",
       "  <!-- Text -->\n",
       "  <text x=\"38.277302\" y=\"62.581892\" font-size=\"1.0rem\" font-weight=\"100\" text-anchor=\"middle\" >1</text>\n",
       "  <text x=\"70.983610\" y=\"29.076443\" font-size=\"1.0rem\" font-weight=\"100\" text-anchor=\"middle\" transform=\"rotate(0,70.983610,29.076443)\">10</text>\n",
       "  <text x=\"7.785497\" y=\"54.796395\" font-size=\"1.0rem\" font-weight=\"100\" text-anchor=\"middle\" transform=\"rotate(45,7.785497,54.796395)\">9</text>\n",
       "\n",
       "\n",
       "  <!-- Horizontal lines -->\n",
       "  <line x1=\"120\" y1=\"0\" x2=\"134\" y2=\"14\" style=\"stroke-width:2\" />\n",
       "  <line x1=\"120\" y1=\"80\" x2=\"134\" y2=\"95\" style=\"stroke-width:2\" />\n",
       "\n",
       "  <!-- Vertical lines -->\n",
       "  <line x1=\"120\" y1=\"0\" x2=\"120\" y2=\"80\" style=\"stroke-width:2\" />\n",
       "  <line x1=\"134\" y1=\"14\" x2=\"134\" y2=\"95\" style=\"stroke-width:2\" />\n",
       "\n",
       "  <!-- Colored Rectangle -->\n",
       "  <polygon points=\"120.0,0.0 134.9485979497544,14.948597949754403 134.9485979497544,95.2791764621511 120.0,80.3305785123967\" style=\"fill:#ECB172A0;stroke-width:0\"/>\n",
       "\n",
       "  <!-- Horizontal lines -->\n",
       "  <line x1=\"120\" y1=\"0\" x2=\"240\" y2=\"0\" style=\"stroke-width:2\" />\n",
       "  <line x1=\"134\" y1=\"14\" x2=\"254\" y2=\"14\" style=\"stroke-width:2\" />\n",
       "\n",
       "  <!-- Vertical lines -->\n",
       "  <line x1=\"120\" y1=\"0\" x2=\"134\" y2=\"14\" style=\"stroke-width:2\" />\n",
       "  <line x1=\"240\" y1=\"0\" x2=\"254\" y2=\"14\" style=\"stroke-width:2\" />\n",
       "\n",
       "  <!-- Colored Rectangle -->\n",
       "  <polygon points=\"120.0,0.0 240.0,0.0 254.9485979497544,14.948597949754403 134.9485979497544,14.948597949754403\" style=\"fill:#ECB172A0;stroke-width:0\"/>\n",
       "\n",
       "  <!-- Horizontal lines -->\n",
       "  <line x1=\"134\" y1=\"14\" x2=\"254\" y2=\"14\" style=\"stroke-width:2\" />\n",
       "  <line x1=\"134\" y1=\"95\" x2=\"254\" y2=\"95\" style=\"stroke-width:2\" />\n",
       "\n",
       "  <!-- Vertical lines -->\n",
       "  <line x1=\"134\" y1=\"14\" x2=\"134\" y2=\"95\" style=\"stroke-width:2\" />\n",
       "  <line x1=\"254\" y1=\"14\" x2=\"254\" y2=\"95\" style=\"stroke-width:2\" />\n",
       "\n",
       "  <!-- Colored Rectangle -->\n",
       "  <polygon points=\"134.9485979497544,14.948597949754403 254.9485979497544,14.948597949754403 254.9485979497544,95.2791764621511 134.9485979497544,95.2791764621511\" style=\"fill:#ECB172A0;stroke-width:0\"/>\n",
       "\n",
       "  <!-- Text -->\n",
       "  <text x=\"194.948598\" y=\"115.279176\" font-size=\"1.0rem\" font-weight=\"100\" text-anchor=\"middle\" >726</text>\n",
       "  <text x=\"274.948598\" y=\"55.113887\" font-size=\"1.0rem\" font-weight=\"100\" text-anchor=\"middle\" transform=\"rotate(-90,274.948598,55.113887)\">486</text>\n",
       "  <text x=\"117.474299\" y=\"107.804877\" font-size=\"1.0rem\" font-weight=\"100\" text-anchor=\"middle\" transform=\"rotate(45,117.474299,107.804877)\">3</text>\n",
       "</svg>\n",
       "        </td>\n",
       "    </tr>\n",
       "</table></div></li></ul></div></li><li class='xr-section-item'><input id='section-d4c3829b-f127-4064-b4f0-f81ad53262c0' class='xr-section-summary-in' type='checkbox'  checked><label for='section-d4c3829b-f127-4064-b4f0-f81ad53262c0' class='xr-section-summary' >Attributes: <span>(1)</span></label><div class='xr-section-inline-details'></div><div class='xr-section-details'><dl class='xr-attrs'><dt><span>pct_values :</span></dt><dd>[0.1 0.2 0.3 0.4 0.5 0.6 0.7 0.8 0.9]</dd></dl></div></li></ul></div></div>"
      ],
      "text/plain": [
       "<xarray.Dataset>\n",
       "Dimensions:  (GCM: 9, decile: 10, time: 1, step: 3, lat: 486, lon: 726)\n",
       "Coordinates:\n",
       "  * GCM      (GCM) object 'NCEP' 'ECMWF' 'JMA' ... 'METEO_FRANCE' 'CMCC'\n",
       "  * time     (time) datetime64[ns] 2022-03-01\n",
       "  * step     (step) int64 3 4 5\n",
       "    month    int64 3\n",
       "  * decile   (decile) int64 1 2 3 4 5 6 7 8 9 10\n",
       "  * lon      (lon) float64 120.0 120.2 120.3 120.5 ... 239.5 239.7 239.8 240.0\n",
       "  * lat      (lat) float64 -50.0 -49.84 -49.67 -49.51 ... 29.51 29.67 29.84 30.0\n",
       "Data variables:\n",
       "    precip   (GCM, decile, time, step, lat, lon) float64 dask.array<chunksize=(1, 10, 1, 3, 486, 726), meta=np.ndarray>\n",
       "Attributes:\n",
       "    pct_values:  [0.1 0.2 0.3 0.4 0.5 0.6 0.7 0.8 0.9]"
      ]
     },
     "execution_count": 26,
     "metadata": {},
     "output_type": "execute_result"
    }
   ],
   "source": [
    "probs"
   ]
  },
  {
   "cell_type": "code",
   "execution_count": 27,
   "id": "e0351790",
   "metadata": {
    "execution": {
     "iopub.execute_input": "2022-03-17T01:58:48.494960Z",
     "iopub.status.busy": "2022-03-17T01:58:48.494021Z",
     "iopub.status.idle": "2022-03-17T01:58:48.513660Z",
     "shell.execute_reply": "2022-03-17T01:58:48.513348Z"
    },
    "papermill": {
     "duration": 0.058347,
     "end_time": "2022-03-17T01:58:48.513742",
     "exception": false,
     "start_time": "2022-03-17T01:58:48.455395",
     "status": "completed"
    },
    "tags": []
   },
   "outputs": [],
   "source": [
    "probs = probs.mean('GCM')"
   ]
  },
  {
   "cell_type": "markdown",
   "id": "cf30fa54",
   "metadata": {
    "papermill": {
     "duration": 0.037806,
     "end_time": "2022-03-17T01:58:48.587280",
     "exception": false,
     "start_time": "2022-03-17T01:58:48.549474",
     "status": "completed"
    },
    "tags": []
   },
   "source": [
    "### make sure the probabilities sum to 100 over the decile dimension "
   ]
  },
  {
   "cell_type": "code",
   "execution_count": 28,
   "id": "2145cec1",
   "metadata": {
    "execution": {
     "iopub.execute_input": "2022-03-17T01:58:48.664443Z",
     "iopub.status.busy": "2022-03-17T01:58:48.663914Z",
     "iopub.status.idle": "2022-03-17T01:58:51.178633Z",
     "shell.execute_reply": "2022-03-17T01:58:51.178329Z"
    },
    "papermill": {
     "duration": 2.554534,
     "end_time": "2022-03-17T01:58:51.178729",
     "exception": false,
     "start_time": "2022-03-17T01:58:48.624195",
     "status": "completed"
    },
    "tags": []
   },
   "outputs": [
    {
     "data": {
      "text/plain": [
       "<matplotlib.collections.QuadMesh at 0x7f4785b3bb50>"
      ]
     },
     "execution_count": 28,
     "metadata": {},
     "output_type": "execute_result"
    },
    {
     "data": {
      "image/png": "[encoded data removed]",
      "text/plain": [
       "<Figure size 432x288 with 2 Axes>"
      ]
     },
     "metadata": {
      "needs_background": "light"
     },
     "output_type": "display_data"
    }
   ],
   "source": [
    "probs.sum('decile').squeeze().sel(step=3)['precip'].plot(vmin=99.99, vmax=100.01)"
   ]
  },
  {
   "cell_type": "markdown",
   "id": "60ff4443",
   "metadata": {
    "papermill": {
     "duration": 0.037304,
     "end_time": "2022-03-17T01:58:51.252059",
     "exception": false,
     "start_time": "2022-03-17T01:58:51.214755",
     "status": "completed"
    },
    "tags": []
   },
   "source": [
    "### Now calculates the cumulative probabilities over the decile dimension "
   ]
  },
  {
   "cell_type": "code",
   "execution_count": 29,
   "id": "d275c7d1",
   "metadata": {
    "execution": {
     "iopub.execute_input": "2022-03-17T01:58:51.326499Z",
     "iopub.status.busy": "2022-03-17T01:58:51.326169Z",
     "iopub.status.idle": "2022-03-17T01:58:51.343968Z",
     "shell.execute_reply": "2022-03-17T01:58:51.343488Z"
    },
    "papermill": {
     "duration": 0.056377,
     "end_time": "2022-03-17T01:58:51.344049",
     "exception": false,
     "start_time": "2022-03-17T01:58:51.287672",
     "status": "completed"
    },
    "tags": []
   },
   "outputs": [],
   "source": [
    "cum_probs = probs.cumsum('decile', keep_attrs=True)"
   ]
  },
  {
   "cell_type": "code",
   "execution_count": 30,
   "id": "e2d3a5b1",
   "metadata": {
    "execution": {
     "iopub.execute_input": "2022-03-17T01:58:51.421848Z",
     "iopub.status.busy": "2022-03-17T01:58:51.421511Z",
     "iopub.status.idle": "2022-03-17T01:58:53.764251Z",
     "shell.execute_reply": "2022-03-17T01:58:53.764509Z"
    },
    "papermill": {
     "duration": 2.384086,
     "end_time": "2022-03-17T01:58:53.764612",
     "exception": false,
     "start_time": "2022-03-17T01:58:51.380526",
     "status": "completed"
    },
    "tags": []
   },
   "outputs": [
    {
     "data": {
      "text/plain": [
       "<matplotlib.collections.QuadMesh at 0x7f4785c6f190>"
      ]
     },
     "execution_count": 30,
     "metadata": {},
     "output_type": "execute_result"
    },
    {
     "data": {
      "image/png": "[encoded data removed]",
      "text/plain": [
       "<Figure size 432x288 with 2 Axes>"
      ]
     },
     "metadata": {
      "needs_background": "light"
     },
     "output_type": "display_data"
    }
   ],
   "source": [
    "cum_probs.isel(decile=-1).sel(step=step).squeeze()['precip'].plot(vmin=99.99, vmax=100.01)"
   ]
  },
  {
   "cell_type": "code",
   "execution_count": 31,
   "id": "5c82b73b-a41e-4aec-90ba-d46d59acbd25",
   "metadata": {
    "execution": {
     "iopub.execute_input": "2022-03-17T01:58:53.849213Z",
     "iopub.status.busy": "2022-03-17T01:58:53.848867Z",
     "iopub.status.idle": "2022-03-17T01:58:53.877239Z",
     "shell.execute_reply": "2022-03-17T01:58:53.877522Z"
    },
    "papermill": {
     "duration": 0.072831,
     "end_time": "2022-03-17T01:58:53.877625",
     "exception": false,
     "start_time": "2022-03-17T01:58:53.804794",
     "status": "completed"
    },
    "tags": []
   },
   "outputs": [
    {
     "data": {
      "text/html": [
       "<div><svg style=\"position: absolute; width: 0; height: 0; overflow: hidden\">\n",
       "<defs>\n",
       "<symbol id=\"icon-database\" viewBox=\"0 0 32 32\">\n",
       "<path d=\"M16 0c-8.837 0-16 2.239-16 5v4c0 2.761 7.163 5 16 5s16-2.239 16-5v-4c0-2.761-7.163-5-16-5z\"></path>\n",
       "<path d=\"M16 17c-8.837 0-16-2.239-16-5v6c0 2.761 7.163 5 16 5s16-2.239 16-5v-6c0 2.761-7.163 5-16 5z\"></path>\n",
       "<path d=\"M16 26c-8.837 0-16-2.239-16-5v6c0 2.761 7.163 5 16 5s16-2.239 16-5v-6c0 2.761-7.163 5-16 5z\"></path>\n",
       "</symbol>\n",
       "<symbol id=\"icon-file-text2\" viewBox=\"0 0 32 32\">\n",
       "<path d=\"M28.681 7.159c-0.694-0.947-1.662-2.053-2.724-3.116s-2.169-2.030-3.116-2.724c-1.612-1.182-2.393-1.319-2.841-1.319h-15.5c-1.378 0-2.5 1.121-2.5 2.5v27c0 1.378 1.122 2.5 2.5 2.5h23c1.378 0 2.5-1.122 2.5-2.5v-19.5c0-0.448-0.137-1.23-1.319-2.841zM24.543 5.457c0.959 0.959 1.712 1.825 2.268 2.543h-4.811v-4.811c0.718 0.556 1.584 1.309 2.543 2.268zM28 29.5c0 0.271-0.229 0.5-0.5 0.5h-23c-0.271 0-0.5-0.229-0.5-0.5v-27c0-0.271 0.229-0.5 0.5-0.5 0 0 15.499-0 15.5 0v7c0 0.552 0.448 1 1 1h7v19.5z\"></path>\n",
       "<path d=\"M23 26h-14c-0.552 0-1-0.448-1-1s0.448-1 1-1h14c0.552 0 1 0.448 1 1s-0.448 1-1 1z\"></path>\n",
       "<path d=\"M23 22h-14c-0.552 0-1-0.448-1-1s0.448-1 1-1h14c0.552 0 1 0.448 1 1s-0.448 1-1 1z\"></path>\n",
       "<path d=\"M23 18h-14c-0.552 0-1-0.448-1-1s0.448-1 1-1h14c0.552 0 1 0.448 1 1s-0.448 1-1 1z\"></path>\n",
       "</symbol>\n",
       "</defs>\n",
       "</svg>\n",
       "<style>/* CSS stylesheet for displaying xarray objects in jupyterlab.\n",
       " *\n",
       " */\n",
       "\n",
       ":root {\n",
       "  --xr-font-color0: var(--jp-content-font-color0, rgba(0, 0, 0, 1));\n",
       "  --xr-font-color2: var(--jp-content-font-color2, rgba(0, 0, 0, 0.54));\n",
       "  --xr-font-color3: var(--jp-content-font-color3, rgba(0, 0, 0, 0.38));\n",
       "  --xr-border-color: var(--jp-border-color2, #e0e0e0);\n",
       "  --xr-disabled-color: var(--jp-layout-color3, #bdbdbd);\n",
       "  --xr-background-color: var(--jp-layout-color0, white);\n",
       "  --xr-background-color-row-even: var(--jp-layout-color1, white);\n",
       "  --xr-background-color-row-odd: var(--jp-layout-color2, #eeeeee);\n",
       "}\n",
       "\n",
       "html[theme=dark],\n",
       "body.vscode-dark {\n",
       "  --xr-font-color0: rgba(255, 255, 255, 1);\n",
       "  --xr-font-color2: rgba(255, 255, 255, 0.54);\n",
       "  --xr-font-color3: rgba(255, 255, 255, 0.38);\n",
       "  --xr-border-color: #1F1F1F;\n",
       "  --xr-disabled-color: #515151;\n",
       "  --xr-background-color: #111111;\n",
       "  --xr-background-color-row-even: #111111;\n",
       "  --xr-background-color-row-odd: #313131;\n",
       "}\n",
       "\n",
       ".xr-wrap {\n",
       "  display: block !important;\n",
       "  min-width: 300px;\n",
       "  max-width: 700px;\n",
       "}\n",
       "\n",
       ".xr-text-repr-fallback {\n",
       "  /* fallback to plain text repr when CSS is not injected (untrusted notebook) */\n",
       "  display: none;\n",
       "}\n",
       "\n",
       ".xr-header {\n",
       "  padding-top: 6px;\n",
       "  padding-bottom: 6px;\n",
       "  margin-bottom: 4px;\n",
       "  border-bottom: solid 1px var(--xr-border-color);\n",
       "}\n",
       "\n",
       ".xr-header > div,\n",
       ".xr-header > ul {\n",
       "  display: inline;\n",
       "  margin-top: 0;\n",
       "  margin-bottom: 0;\n",
       "}\n",
       "\n",
       ".xr-obj-type,\n",
       ".xr-array-name {\n",
       "  margin-left: 2px;\n",
       "  margin-right: 10px;\n",
       "}\n",
       "\n",
       ".xr-obj-type {\n",
       "  color: var(--xr-font-color2);\n",
       "}\n",
       "\n",
       ".xr-sections {\n",
       "  padding-left: 0 !important;\n",
       "  display: grid;\n",
       "  grid-template-columns: 150px auto auto 1fr 20px 20px;\n",
       "}\n",
       "\n",
       ".xr-section-item {\n",
       "  display: contents;\n",
       "}\n",
       "\n",
       ".xr-section-item input {\n",
       "  display: none;\n",
       "}\n",
       "\n",
       ".xr-section-item input + label {\n",
       "  color: var(--xr-disabled-color);\n",
       "}\n",
       "\n",
       ".xr-section-item input:enabled + label {\n",
       "  cursor: pointer;\n",
       "  color: var(--xr-font-color2);\n",
       "}\n",
       "\n",
       ".xr-section-item input:enabled + label:hover {\n",
       "  color: var(--xr-font-color0);\n",
       "}\n",
       "\n",
       ".xr-section-summary {\n",
       "  grid-column: 1;\n",
       "  color: var(--xr-font-color2);\n",
       "  font-weight: 500;\n",
       "}\n",
       "\n",
       ".xr-section-summary > span {\n",
       "  display: inline-block;\n",
       "  padding-left: 0.5em;\n",
       "}\n",
       "\n",
       ".xr-section-summary-in:disabled + label {\n",
       "  color: var(--xr-font-color2);\n",
       "}\n",
       "\n",
       ".xr-section-summary-in + label:before {\n",
       "  display: inline-block;\n",
       "  content: '►';\n",
       "  font-size: 11px;\n",
       "  width: 15px;\n",
       "  text-align: center;\n",
       "}\n",
       "\n",
       ".xr-section-summary-in:disabled + label:before {\n",
       "  color: var(--xr-disabled-color);\n",
       "}\n",
       "\n",
       ".xr-section-summary-in:checked + label:before {\n",
       "  content: '▼';\n",
       "}\n",
       "\n",
       ".xr-section-summary-in:checked + label > span {\n",
       "  display: none;\n",
       "}\n",
       "\n",
       ".xr-section-summary,\n",
       ".xr-section-inline-details {\n",
       "  padding-top: 4px;\n",
       "  padding-bottom: 4px;\n",
       "}\n",
       "\n",
       ".xr-section-inline-details {\n",
       "  grid-column: 2 / -1;\n",
       "}\n",
       "\n",
       ".xr-section-details {\n",
       "  display: none;\n",
       "  grid-column: 1 / -1;\n",
       "  margin-bottom: 5px;\n",
       "}\n",
       "\n",
       ".xr-section-summary-in:checked ~ .xr-section-details {\n",
       "  display: contents;\n",
       "}\n",
       "\n",
       ".xr-array-wrap {\n",
       "  grid-column: 1 / -1;\n",
       "  display: grid;\n",
       "  grid-template-columns: 20px auto;\n",
       "}\n",
       "\n",
       ".xr-array-wrap > label {\n",
       "  grid-column: 1;\n",
       "  vertical-align: top;\n",
       "}\n",
       "\n",
       ".xr-preview {\n",
       "  color: var(--xr-font-color3);\n",
       "}\n",
       "\n",
       ".xr-array-preview,\n",
       ".xr-array-data {\n",
       "  padding: 0 5px !important;\n",
       "  grid-column: 2;\n",
       "}\n",
       "\n",
       ".xr-array-data,\n",
       ".xr-array-in:checked ~ .xr-array-preview {\n",
       "  display: none;\n",
       "}\n",
       "\n",
       ".xr-array-in:checked ~ .xr-array-data,\n",
       ".xr-array-preview {\n",
       "  display: inline-block;\n",
       "}\n",
       "\n",
       ".xr-dim-list {\n",
       "  display: inline-block !important;\n",
       "  list-style: none;\n",
       "  padding: 0 !important;\n",
       "  margin: 0;\n",
       "}\n",
       "\n",
       ".xr-dim-list li {\n",
       "  display: inline-block;\n",
       "  padding: 0;\n",
       "  margin: 0;\n",
       "}\n",
       "\n",
       ".xr-dim-list:before {\n",
       "  content: '(';\n",
       "}\n",
       "\n",
       ".xr-dim-list:after {\n",
       "  content: ')';\n",
       "}\n",
       "\n",
       ".xr-dim-list li:not(:last-child):after {\n",
       "  content: ',';\n",
       "  padding-right: 5px;\n",
       "}\n",
       "\n",
       ".xr-has-index {\n",
       "  font-weight: bold;\n",
       "}\n",
       "\n",
       ".xr-var-list,\n",
       ".xr-var-item {\n",
       "  display: contents;\n",
       "}\n",
       "\n",
       ".xr-var-item > div,\n",
       ".xr-var-item label,\n",
       ".xr-var-item > .xr-var-name span {\n",
       "  background-color: var(--xr-background-color-row-even);\n",
       "  margin-bottom: 0;\n",
       "}\n",
       "\n",
       ".xr-var-item > .xr-var-name:hover span {\n",
       "  padding-right: 5px;\n",
       "}\n",
       "\n",
       ".xr-var-list > li:nth-child(odd) > div,\n",
       ".xr-var-list > li:nth-child(odd) > label,\n",
       ".xr-var-list > li:nth-child(odd) > .xr-var-name span {\n",
       "  background-color: var(--xr-background-color-row-odd);\n",
       "}\n",
       "\n",
       ".xr-var-name {\n",
       "  grid-column: 1;\n",
       "}\n",
       "\n",
       ".xr-var-dims {\n",
       "  grid-column: 2;\n",
       "}\n",
       "\n",
       ".xr-var-dtype {\n",
       "  grid-column: 3;\n",
       "  text-align: right;\n",
       "  color: var(--xr-font-color2);\n",
       "}\n",
       "\n",
       ".xr-var-preview {\n",
       "  grid-column: 4;\n",
       "}\n",
       "\n",
       ".xr-var-name,\n",
       ".xr-var-dims,\n",
       ".xr-var-dtype,\n",
       ".xr-preview,\n",
       ".xr-attrs dt {\n",
       "  white-space: nowrap;\n",
       "  overflow: hidden;\n",
       "  text-overflow: ellipsis;\n",
       "  padding-right: 10px;\n",
       "}\n",
       "\n",
       ".xr-var-name:hover,\n",
       ".xr-var-dims:hover,\n",
       ".xr-var-dtype:hover,\n",
       ".xr-attrs dt:hover {\n",
       "  overflow: visible;\n",
       "  width: auto;\n",
       "  z-index: 1;\n",
       "}\n",
       "\n",
       ".xr-var-attrs,\n",
       ".xr-var-data {\n",
       "  display: none;\n",
       "  background-color: var(--xr-background-color) !important;\n",
       "  padding-bottom: 5px !important;\n",
       "}\n",
       "\n",
       ".xr-var-attrs-in:checked ~ .xr-var-attrs,\n",
       ".xr-var-data-in:checked ~ .xr-var-data {\n",
       "  display: block;\n",
       "}\n",
       "\n",
       ".xr-var-data > table {\n",
       "  float: right;\n",
       "}\n",
       "\n",
       ".xr-var-name span,\n",
       ".xr-var-data,\n",
       ".xr-attrs {\n",
       "  padding-left: 25px !important;\n",
       "}\n",
       "\n",
       ".xr-attrs,\n",
       ".xr-var-attrs,\n",
       ".xr-var-data {\n",
       "  grid-column: 1 / -1;\n",
       "}\n",
       "\n",
       "dl.xr-attrs {\n",
       "  padding: 0;\n",
       "  margin: 0;\n",
       "  display: grid;\n",
       "  grid-template-columns: 125px auto;\n",
       "}\n",
       "\n",
       ".xr-attrs dt,\n",
       ".xr-attrs dd {\n",
       "  padding: 0;\n",
       "  margin: 0;\n",
       "  float: left;\n",
       "  padding-right: 10px;\n",
       "  width: auto;\n",
       "}\n",
       "\n",
       ".xr-attrs dt {\n",
       "  font-weight: normal;\n",
       "  grid-column: 1;\n",
       "}\n",
       "\n",
       ".xr-attrs dt:hover span {\n",
       "  display: inline-block;\n",
       "  background: var(--xr-background-color);\n",
       "  padding-right: 10px;\n",
       "}\n",
       "\n",
       ".xr-attrs dd {\n",
       "  grid-column: 2;\n",
       "  white-space: pre-wrap;\n",
       "  word-break: break-all;\n",
       "}\n",
       "\n",
       ".xr-icon-database,\n",
       ".xr-icon-file-text2 {\n",
       "  display: inline-block;\n",
       "  vertical-align: middle;\n",
       "  width: 1em;\n",
       "  height: 1.5em !important;\n",
       "  stroke-width: 0;\n",
       "  stroke: currentColor;\n",
       "  fill: currentColor;\n",
       "}\n",
       "</style><pre class='xr-text-repr-fallback'>&lt;xarray.Dataset&gt;\n",
       "Dimensions:  (decile: 10, time: 1, step: 3, lat: 486, lon: 726)\n",
       "Coordinates:\n",
       "  * time     (time) datetime64[ns] 2022-03-01\n",
       "  * step     (step) int64 3 4 5\n",
       "    month    int64 3\n",
       "  * lon      (lon) float64 120.0 120.2 120.3 120.5 ... 239.5 239.7 239.8 240.0\n",
       "  * lat      (lat) float64 -50.0 -49.84 -49.67 -49.51 ... 29.51 29.67 29.84 30.0\n",
       "Dimensions without coordinates: decile\n",
       "Data variables:\n",
       "    precip   (decile, time, step, lat, lon) float64 dask.array&lt;chunksize=(10, 1, 3, 486, 726), meta=np.ndarray&gt;</pre><div class='xr-wrap' style='display:none'><div class='xr-header'><div class='xr-obj-type'>xarray.Dataset</div></div><ul class='xr-sections'><li class='xr-section-item'><input id='section-63a881b1-986b-437c-9560-9e9a513f6cf5' class='xr-section-summary-in' type='checkbox' disabled ><label for='section-63a881b1-986b-437c-9560-9e9a513f6cf5' class='xr-section-summary'  title='Expand/collapse section'>Dimensions:</label><div class='xr-section-inline-details'><ul class='xr-dim-list'><li><span>decile</span>: 10</li><li><span class='xr-has-index'>time</span>: 1</li><li><span class='xr-has-index'>step</span>: 3</li><li><span class='xr-has-index'>lat</span>: 486</li><li><span class='xr-has-index'>lon</span>: 726</li></ul></div><div class='xr-section-details'></div></li><li class='xr-section-item'><input id='section-cd7c2e84-a213-4305-80b1-e6c67ad9e500' class='xr-section-summary-in' type='checkbox'  checked><label for='section-cd7c2e84-a213-4305-80b1-e6c67ad9e500' class='xr-section-summary' >Coordinates: <span>(5)</span></label><div class='xr-section-inline-details'></div><div class='xr-section-details'><ul class='xr-var-list'><li class='xr-var-item'><div class='xr-var-name'><span class='xr-has-index'>time</span></div><div class='xr-var-dims'>(time)</div><div class='xr-var-dtype'>datetime64[ns]</div><div class='xr-var-preview xr-preview'>2022-03-01</div><input id='attrs-89188c40-e6c6-4842-8403-eb419b1ad71f' class='xr-var-attrs-in' type='checkbox' disabled><label for='attrs-89188c40-e6c6-4842-8403-eb419b1ad71f' title='Show/Hide attributes'><svg class='icon xr-icon-file-text2'><use xlink:href='#icon-file-text2'></use></svg></label><input id='data-80fa56b6-5ce5-4f0b-8723-07ba97cd6dae' class='xr-var-data-in' type='checkbox'><label for='data-80fa56b6-5ce5-4f0b-8723-07ba97cd6dae' title='Show/Hide data repr'><svg class='icon xr-icon-database'><use xlink:href='#icon-database'></use></svg></label><div class='xr-var-attrs'><dl class='xr-attrs'></dl></div><div class='xr-var-data'><pre>array([&#x27;2022-03-01T00:00:00.000000000&#x27;], dtype=&#x27;datetime64[ns]&#x27;)</pre></div></li><li class='xr-var-item'><div class='xr-var-name'><span class='xr-has-index'>step</span></div><div class='xr-var-dims'>(step)</div><div class='xr-var-dtype'>int64</div><div class='xr-var-preview xr-preview'>3 4 5</div><input id='attrs-3313ee43-8080-4666-a8cf-be755bd1fad2' class='xr-var-attrs-in' type='checkbox' disabled><label for='attrs-3313ee43-8080-4666-a8cf-be755bd1fad2' title='Show/Hide attributes'><svg class='icon xr-icon-file-text2'><use xlink:href='#icon-file-text2'></use></svg></label><input id='data-a75f6814-178e-4a51-9d6e-9deea2f5dc3a' class='xr-var-data-in' type='checkbox'><label for='data-a75f6814-178e-4a51-9d6e-9deea2f5dc3a' title='Show/Hide data repr'><svg class='icon xr-icon-database'><use xlink:href='#icon-database'></use></svg></label><div class='xr-var-attrs'><dl class='xr-attrs'></dl></div><div class='xr-var-data'><pre>array([3, 4, 5])</pre></div></li><li class='xr-var-item'><div class='xr-var-name'><span>month</span></div><div class='xr-var-dims'>()</div><div class='xr-var-dtype'>int64</div><div class='xr-var-preview xr-preview'>3</div><input id='attrs-842589c6-4da6-449a-973f-5d5f106dcf11' class='xr-var-attrs-in' type='checkbox' disabled><label for='attrs-842589c6-4da6-449a-973f-5d5f106dcf11' title='Show/Hide attributes'><svg class='icon xr-icon-file-text2'><use xlink:href='#icon-file-text2'></use></svg></label><input id='data-21f0c412-5539-48ec-bb3a-59630baeed43' class='xr-var-data-in' type='checkbox'><label for='data-21f0c412-5539-48ec-bb3a-59630baeed43' title='Show/Hide data repr'><svg class='icon xr-icon-database'><use xlink:href='#icon-database'></use></svg></label><div class='xr-var-attrs'><dl class='xr-attrs'></dl></div><div class='xr-var-data'><pre>array(3)</pre></div></li><li class='xr-var-item'><div class='xr-var-name'><span class='xr-has-index'>lon</span></div><div class='xr-var-dims'>(lon)</div><div class='xr-var-dtype'>float64</div><div class='xr-var-preview xr-preview'>120.0 120.2 120.3 ... 239.8 240.0</div><input id='attrs-acec29d0-b82b-4716-8c01-a786a14f84dc' class='xr-var-attrs-in' type='checkbox' disabled><label for='attrs-acec29d0-b82b-4716-8c01-a786a14f84dc' title='Show/Hide attributes'><svg class='icon xr-icon-file-text2'><use xlink:href='#icon-file-text2'></use></svg></label><input id='data-38c6872b-d9c3-43b5-9719-5884eb88e315' class='xr-var-data-in' type='checkbox'><label for='data-38c6872b-d9c3-43b5-9719-5884eb88e315' title='Show/Hide data repr'><svg class='icon xr-icon-database'><use xlink:href='#icon-database'></use></svg></label><div class='xr-var-attrs'><dl class='xr-attrs'></dl></div><div class='xr-var-data'><pre>array([120.      , 120.165517, 120.331034, ..., 239.668966, 239.834483,\n",
       "       240.      ])</pre></div></li><li class='xr-var-item'><div class='xr-var-name'><span class='xr-has-index'>lat</span></div><div class='xr-var-dims'>(lat)</div><div class='xr-var-dtype'>float64</div><div class='xr-var-preview xr-preview'>-50.0 -49.84 -49.67 ... 29.84 30.0</div><input id='attrs-3f7d1176-3a67-4fec-8ab2-7957ca34e267' class='xr-var-attrs-in' type='checkbox' disabled><label for='attrs-3f7d1176-3a67-4fec-8ab2-7957ca34e267' title='Show/Hide attributes'><svg class='icon xr-icon-file-text2'><use xlink:href='#icon-file-text2'></use></svg></label><input id='data-4cd9b2da-bc57-48c3-a580-e873564e3813' class='xr-var-data-in' type='checkbox'><label for='data-4cd9b2da-bc57-48c3-a580-e873564e3813' title='Show/Hide data repr'><svg class='icon xr-icon-database'><use xlink:href='#icon-database'></use></svg></label><div class='xr-var-attrs'><dl class='xr-attrs'></dl></div><div class='xr-var-data'><pre>array([-50.      , -49.835052, -49.670103, ...,  29.670103,  29.835052,\n",
       "        30.      ])</pre></div></li></ul></div></li><li class='xr-section-item'><input id='section-099b1c0b-3405-4aff-a929-0d1a022be004' class='xr-section-summary-in' type='checkbox'  checked><label for='section-099b1c0b-3405-4aff-a929-0d1a022be004' class='xr-section-summary' >Data variables: <span>(1)</span></label><div class='xr-section-inline-details'></div><div class='xr-section-details'><ul class='xr-var-list'><li class='xr-var-item'><div class='xr-var-name'><span>precip</span></div><div class='xr-var-dims'>(decile, time, step, lat, lon)</div><div class='xr-var-dtype'>float64</div><div class='xr-var-preview xr-preview'>dask.array&lt;chunksize=(10, 1, 3, 486, 726), meta=np.ndarray&gt;</div><input id='attrs-3c2c8dc8-bac4-4b88-bc13-426bf54d991e' class='xr-var-attrs-in' type='checkbox' disabled><label for='attrs-3c2c8dc8-bac4-4b88-bc13-426bf54d991e' title='Show/Hide attributes'><svg class='icon xr-icon-file-text2'><use xlink:href='#icon-file-text2'></use></svg></label><input id='data-6077ce13-f51e-44d4-bb65-cf3bcd814f2a' class='xr-var-data-in' type='checkbox'><label for='data-6077ce13-f51e-44d4-bb65-cf3bcd814f2a' title='Show/Hide data repr'><svg class='icon xr-icon-database'><use xlink:href='#icon-database'></use></svg></label><div class='xr-var-attrs'><dl class='xr-attrs'></dl></div><div class='xr-var-data'><table>\n",
       "    <tr>\n",
       "        <td>\n",
       "            <table>\n",
       "                <thead>\n",
       "                    <tr>\n",
       "                        <td> </td>\n",
       "                        <th> Array </th>\n",
       "                        <th> Chunk </th>\n",
       "                    </tr>\n",
       "                </thead>\n",
       "                <tbody>\n",
       "                    \n",
       "                    <tr>\n",
       "                        <th> Bytes </th>\n",
       "                        <td> 80.76 MiB </td>\n",
       "                        <td> 80.76 MiB </td>\n",
       "                    </tr>\n",
       "                    \n",
       "                    <tr>\n",
       "                        <th> Shape </th>\n",
       "                        <td> (10, 1, 3, 486, 726) </td>\n",
       "                        <td> (10, 1, 3, 486, 726) </td>\n",
       "                    </tr>\n",
       "                    <tr>\n",
       "                        <th> Count </th>\n",
       "                        <td> 87 Tasks </td>\n",
       "                        <td> 1 Chunks </td>\n",
       "                    </tr>\n",
       "                    <tr>\n",
       "                    <th> Type </th>\n",
       "                    <td> float64 </td>\n",
       "                    <td> numpy.ndarray </td>\n",
       "                    </tr>\n",
       "                </tbody>\n",
       "            </table>\n",
       "        </td>\n",
       "        <td>\n",
       "        <svg width=\"374\" height=\"145\" style=\"stroke:rgb(0,0,0);stroke-width:1\" >\n",
       "\n",
       "  <!-- Horizontal lines -->\n",
       "  <line x1=\"0\" y1=\"0\" x2=\"25\" y2=\"0\" style=\"stroke-width:2\" />\n",
       "  <line x1=\"0\" y1=\"27\" x2=\"25\" y2=\"27\" style=\"stroke-width:2\" />\n",
       "\n",
       "  <!-- Vertical lines -->\n",
       "  <line x1=\"0\" y1=\"0\" x2=\"0\" y2=\"27\" style=\"stroke-width:2\" />\n",
       "  <line x1=\"25\" y1=\"0\" x2=\"25\" y2=\"27\" style=\"stroke-width:2\" />\n",
       "\n",
       "  <!-- Colored Rectangle -->\n",
       "  <polygon points=\"0.0,0.0 25.412616514582485,0.0 25.412616514582485,27.01089801381342 0.0,27.01089801381342\" style=\"fill:#ECB172A0;stroke-width:0\"/>\n",
       "\n",
       "  <!-- Text -->\n",
       "  <text x=\"12.706308\" y=\"47.010898\" font-size=\"1.0rem\" font-weight=\"100\" text-anchor=\"middle\" >1</text>\n",
       "  <text x=\"45.412617\" y=\"13.505449\" font-size=\"1.0rem\" font-weight=\"100\" text-anchor=\"middle\" transform=\"rotate(0,45.412617,13.505449)\">10</text>\n",
       "\n",
       "\n",
       "  <!-- Horizontal lines -->\n",
       "  <line x1=\"95\" y1=\"0\" x2=\"109\" y2=\"14\" style=\"stroke-width:2\" />\n",
       "  <line x1=\"95\" y1=\"80\" x2=\"109\" y2=\"95\" style=\"stroke-width:2\" />\n",
       "\n",
       "  <!-- Vertical lines -->\n",
       "  <line x1=\"95\" y1=\"0\" x2=\"95\" y2=\"80\" style=\"stroke-width:2\" />\n",
       "  <line x1=\"109\" y1=\"14\" x2=\"109\" y2=\"95\" style=\"stroke-width:2\" />\n",
       "\n",
       "  <!-- Colored Rectangle -->\n",
       "  <polygon points=\"95.0,0.0 109.9485979497544,14.948597949754403 109.9485979497544,95.2791764621511 95.0,80.3305785123967\" style=\"fill:#ECB172A0;stroke-width:0\"/>\n",
       "\n",
       "  <!-- Horizontal lines -->\n",
       "  <line x1=\"95\" y1=\"0\" x2=\"215\" y2=\"0\" style=\"stroke-width:2\" />\n",
       "  <line x1=\"109\" y1=\"14\" x2=\"229\" y2=\"14\" style=\"stroke-width:2\" />\n",
       "\n",
       "  <!-- Vertical lines -->\n",
       "  <line x1=\"95\" y1=\"0\" x2=\"109\" y2=\"14\" style=\"stroke-width:2\" />\n",
       "  <line x1=\"215\" y1=\"0\" x2=\"229\" y2=\"14\" style=\"stroke-width:2\" />\n",
       "\n",
       "  <!-- Colored Rectangle -->\n",
       "  <polygon points=\"95.0,0.0 215.0,0.0 229.9485979497544,14.948597949754403 109.9485979497544,14.948597949754403\" style=\"fill:#ECB172A0;stroke-width:0\"/>\n",
       "\n",
       "  <!-- Horizontal lines -->\n",
       "  <line x1=\"109\" y1=\"14\" x2=\"229\" y2=\"14\" style=\"stroke-width:2\" />\n",
       "  <line x1=\"109\" y1=\"95\" x2=\"229\" y2=\"95\" style=\"stroke-width:2\" />\n",
       "\n",
       "  <!-- Vertical lines -->\n",
       "  <line x1=\"109\" y1=\"14\" x2=\"109\" y2=\"95\" style=\"stroke-width:2\" />\n",
       "  <line x1=\"229\" y1=\"14\" x2=\"229\" y2=\"95\" style=\"stroke-width:2\" />\n",
       "\n",
       "  <!-- Colored Rectangle -->\n",
       "  <polygon points=\"109.9485979497544,14.948597949754403 229.9485979497544,14.948597949754403 229.9485979497544,95.2791764621511 109.9485979497544,95.2791764621511\" style=\"fill:#ECB172A0;stroke-width:0\"/>\n",
       "\n",
       "  <!-- Text -->\n",
       "  <text x=\"169.948598\" y=\"115.279176\" font-size=\"1.0rem\" font-weight=\"100\" text-anchor=\"middle\" >726</text>\n",
       "  <text x=\"249.948598\" y=\"55.113887\" font-size=\"1.0rem\" font-weight=\"100\" text-anchor=\"middle\" transform=\"rotate(-90,249.948598,55.113887)\">486</text>\n",
       "  <text x=\"92.474299\" y=\"107.804877\" font-size=\"1.0rem\" font-weight=\"100\" text-anchor=\"middle\" transform=\"rotate(45,92.474299,107.804877)\">3</text>\n",
       "</svg>\n",
       "        </td>\n",
       "    </tr>\n",
       "</table></div></li></ul></div></li><li class='xr-section-item'><input id='section-6ee920d0-8d3c-4069-b95d-ff1171b8a46f' class='xr-section-summary-in' type='checkbox' disabled ><label for='section-6ee920d0-8d3c-4069-b95d-ff1171b8a46f' class='xr-section-summary'  title='Expand/collapse section'>Attributes: <span>(0)</span></label><div class='xr-section-inline-details'></div><div class='xr-section-details'><dl class='xr-attrs'></dl></div></li></ul></div></div>"
      ],
      "text/plain": [
       "<xarray.Dataset>\n",
       "Dimensions:  (decile: 10, time: 1, step: 3, lat: 486, lon: 726)\n",
       "Coordinates:\n",
       "  * time     (time) datetime64[ns] 2022-03-01\n",
       "  * step     (step) int64 3 4 5\n",
       "    month    int64 3\n",
       "  * lon      (lon) float64 120.0 120.2 120.3 120.5 ... 239.5 239.7 239.8 240.0\n",
       "  * lat      (lat) float64 -50.0 -49.84 -49.67 -49.51 ... 29.51 29.67 29.84 30.0\n",
       "Dimensions without coordinates: decile\n",
       "Data variables:\n",
       "    precip   (decile, time, step, lat, lon) float64 dask.array<chunksize=(10, 1, 3, 486, 726), meta=np.ndarray>"
      ]
     },
     "execution_count": 31,
     "metadata": {},
     "output_type": "execute_result"
    }
   ],
   "source": [
    "cum_probs"
   ]
  },
  {
   "cell_type": "markdown",
   "id": "80105213",
   "metadata": {
    "papermill": {
     "duration": 0.042754,
     "end_time": "2022-03-17T01:58:53.962736",
     "exception": false,
     "start_time": "2022-03-17T01:58:53.919982",
     "status": "completed"
    },
    "tags": []
   },
   "source": [
    "### recode the decile values, so they go from 1 to 10 instead of 0 to 9 "
   ]
  },
  {
   "cell_type": "code",
   "execution_count": 32,
   "id": "61f05ada",
   "metadata": {
    "execution": {
     "iopub.execute_input": "2022-03-17T01:58:54.067411Z",
     "iopub.status.busy": "2022-03-17T01:58:54.067057Z",
     "iopub.status.idle": "2022-03-17T01:58:54.087757Z",
     "shell.execute_reply": "2022-03-17T01:58:54.087421Z"
    },
    "papermill": {
     "duration": 0.078135,
     "end_time": "2022-03-17T01:58:54.087840",
     "exception": false,
     "start_time": "2022-03-17T01:58:54.009705",
     "status": "completed"
    },
    "tags": []
   },
   "outputs": [
    {
     "data": {
      "text/html": [
       "<div><svg style=\"position: absolute; width: 0; height: 0; overflow: hidden\">\n",
       "<defs>\n",
       "<symbol id=\"icon-database\" viewBox=\"0 0 32 32\">\n",
       "<path d=\"M16 0c-8.837 0-16 2.239-16 5v4c0 2.761 7.163 5 16 5s16-2.239 16-5v-4c0-2.761-7.163-5-16-5z\"></path>\n",
       "<path d=\"M16 17c-8.837 0-16-2.239-16-5v6c0 2.761 7.163 5 16 5s16-2.239 16-5v-6c0 2.761-7.163 5-16 5z\"></path>\n",
       "<path d=\"M16 26c-8.837 0-16-2.239-16-5v6c0 2.761 7.163 5 16 5s16-2.239 16-5v-6c0 2.761-7.163 5-16 5z\"></path>\n",
       "</symbol>\n",
       "<symbol id=\"icon-file-text2\" viewBox=\"0 0 32 32\">\n",
       "<path d=\"M28.681 7.159c-0.694-0.947-1.662-2.053-2.724-3.116s-2.169-2.030-3.116-2.724c-1.612-1.182-2.393-1.319-2.841-1.319h-15.5c-1.378 0-2.5 1.121-2.5 2.5v27c0 1.378 1.122 2.5 2.5 2.5h23c1.378 0 2.5-1.122 2.5-2.5v-19.5c0-0.448-0.137-1.23-1.319-2.841zM24.543 5.457c0.959 0.959 1.712 1.825 2.268 2.543h-4.811v-4.811c0.718 0.556 1.584 1.309 2.543 2.268zM28 29.5c0 0.271-0.229 0.5-0.5 0.5h-23c-0.271 0-0.5-0.229-0.5-0.5v-27c0-0.271 0.229-0.5 0.5-0.5 0 0 15.499-0 15.5 0v7c0 0.552 0.448 1 1 1h7v19.5z\"></path>\n",
       "<path d=\"M23 26h-14c-0.552 0-1-0.448-1-1s0.448-1 1-1h14c0.552 0 1 0.448 1 1s-0.448 1-1 1z\"></path>\n",
       "<path d=\"M23 22h-14c-0.552 0-1-0.448-1-1s0.448-1 1-1h14c0.552 0 1 0.448 1 1s-0.448 1-1 1z\"></path>\n",
       "<path d=\"M23 18h-14c-0.552 0-1-0.448-1-1s0.448-1 1-1h14c0.552 0 1 0.448 1 1s-0.448 1-1 1z\"></path>\n",
       "</symbol>\n",
       "</defs>\n",
       "</svg>\n",
       "<style>/* CSS stylesheet for displaying xarray objects in jupyterlab.\n",
       " *\n",
       " */\n",
       "\n",
       ":root {\n",
       "  --xr-font-color0: var(--jp-content-font-color0, rgba(0, 0, 0, 1));\n",
       "  --xr-font-color2: var(--jp-content-font-color2, rgba(0, 0, 0, 0.54));\n",
       "  --xr-font-color3: var(--jp-content-font-color3, rgba(0, 0, 0, 0.38));\n",
       "  --xr-border-color: var(--jp-border-color2, #e0e0e0);\n",
       "  --xr-disabled-color: var(--jp-layout-color3, #bdbdbd);\n",
       "  --xr-background-color: var(--jp-layout-color0, white);\n",
       "  --xr-background-color-row-even: var(--jp-layout-color1, white);\n",
       "  --xr-background-color-row-odd: var(--jp-layout-color2, #eeeeee);\n",
       "}\n",
       "\n",
       "html[theme=dark],\n",
       "body.vscode-dark {\n",
       "  --xr-font-color0: rgba(255, 255, 255, 1);\n",
       "  --xr-font-color2: rgba(255, 255, 255, 0.54);\n",
       "  --xr-font-color3: rgba(255, 255, 255, 0.38);\n",
       "  --xr-border-color: #1F1F1F;\n",
       "  --xr-disabled-color: #515151;\n",
       "  --xr-background-color: #111111;\n",
       "  --xr-background-color-row-even: #111111;\n",
       "  --xr-background-color-row-odd: #313131;\n",
       "}\n",
       "\n",
       ".xr-wrap {\n",
       "  display: block !important;\n",
       "  min-width: 300px;\n",
       "  max-width: 700px;\n",
       "}\n",
       "\n",
       ".xr-text-repr-fallback {\n",
       "  /* fallback to plain text repr when CSS is not injected (untrusted notebook) */\n",
       "  display: none;\n",
       "}\n",
       "\n",
       ".xr-header {\n",
       "  padding-top: 6px;\n",
       "  padding-bottom: 6px;\n",
       "  margin-bottom: 4px;\n",
       "  border-bottom: solid 1px var(--xr-border-color);\n",
       "}\n",
       "\n",
       ".xr-header > div,\n",
       ".xr-header > ul {\n",
       "  display: inline;\n",
       "  margin-top: 0;\n",
       "  margin-bottom: 0;\n",
       "}\n",
       "\n",
       ".xr-obj-type,\n",
       ".xr-array-name {\n",
       "  margin-left: 2px;\n",
       "  margin-right: 10px;\n",
       "}\n",
       "\n",
       ".xr-obj-type {\n",
       "  color: var(--xr-font-color2);\n",
       "}\n",
       "\n",
       ".xr-sections {\n",
       "  padding-left: 0 !important;\n",
       "  display: grid;\n",
       "  grid-template-columns: 150px auto auto 1fr 20px 20px;\n",
       "}\n",
       "\n",
       ".xr-section-item {\n",
       "  display: contents;\n",
       "}\n",
       "\n",
       ".xr-section-item input {\n",
       "  display: none;\n",
       "}\n",
       "\n",
       ".xr-section-item input + label {\n",
       "  color: var(--xr-disabled-color);\n",
       "}\n",
       "\n",
       ".xr-section-item input:enabled + label {\n",
       "  cursor: pointer;\n",
       "  color: var(--xr-font-color2);\n",
       "}\n",
       "\n",
       ".xr-section-item input:enabled + label:hover {\n",
       "  color: var(--xr-font-color0);\n",
       "}\n",
       "\n",
       ".xr-section-summary {\n",
       "  grid-column: 1;\n",
       "  color: var(--xr-font-color2);\n",
       "  font-weight: 500;\n",
       "}\n",
       "\n",
       ".xr-section-summary > span {\n",
       "  display: inline-block;\n",
       "  padding-left: 0.5em;\n",
       "}\n",
       "\n",
       ".xr-section-summary-in:disabled + label {\n",
       "  color: var(--xr-font-color2);\n",
       "}\n",
       "\n",
       ".xr-section-summary-in + label:before {\n",
       "  display: inline-block;\n",
       "  content: '►';\n",
       "  font-size: 11px;\n",
       "  width: 15px;\n",
       "  text-align: center;\n",
       "}\n",
       "\n",
       ".xr-section-summary-in:disabled + label:before {\n",
       "  color: var(--xr-disabled-color);\n",
       "}\n",
       "\n",
       ".xr-section-summary-in:checked + label:before {\n",
       "  content: '▼';\n",
       "}\n",
       "\n",
       ".xr-section-summary-in:checked + label > span {\n",
       "  display: none;\n",
       "}\n",
       "\n",
       ".xr-section-summary,\n",
       ".xr-section-inline-details {\n",
       "  padding-top: 4px;\n",
       "  padding-bottom: 4px;\n",
       "}\n",
       "\n",
       ".xr-section-inline-details {\n",
       "  grid-column: 2 / -1;\n",
       "}\n",
       "\n",
       ".xr-section-details {\n",
       "  display: none;\n",
       "  grid-column: 1 / -1;\n",
       "  margin-bottom: 5px;\n",
       "}\n",
       "\n",
       ".xr-section-summary-in:checked ~ .xr-section-details {\n",
       "  display: contents;\n",
       "}\n",
       "\n",
       ".xr-array-wrap {\n",
       "  grid-column: 1 / -1;\n",
       "  display: grid;\n",
       "  grid-template-columns: 20px auto;\n",
       "}\n",
       "\n",
       ".xr-array-wrap > label {\n",
       "  grid-column: 1;\n",
       "  vertical-align: top;\n",
       "}\n",
       "\n",
       ".xr-preview {\n",
       "  color: var(--xr-font-color3);\n",
       "}\n",
       "\n",
       ".xr-array-preview,\n",
       ".xr-array-data {\n",
       "  padding: 0 5px !important;\n",
       "  grid-column: 2;\n",
       "}\n",
       "\n",
       ".xr-array-data,\n",
       ".xr-array-in:checked ~ .xr-array-preview {\n",
       "  display: none;\n",
       "}\n",
       "\n",
       ".xr-array-in:checked ~ .xr-array-data,\n",
       ".xr-array-preview {\n",
       "  display: inline-block;\n",
       "}\n",
       "\n",
       ".xr-dim-list {\n",
       "  display: inline-block !important;\n",
       "  list-style: none;\n",
       "  padding: 0 !important;\n",
       "  margin: 0;\n",
       "}\n",
       "\n",
       ".xr-dim-list li {\n",
       "  display: inline-block;\n",
       "  padding: 0;\n",
       "  margin: 0;\n",
       "}\n",
       "\n",
       ".xr-dim-list:before {\n",
       "  content: '(';\n",
       "}\n",
       "\n",
       ".xr-dim-list:after {\n",
       "  content: ')';\n",
       "}\n",
       "\n",
       ".xr-dim-list li:not(:last-child):after {\n",
       "  content: ',';\n",
       "  padding-right: 5px;\n",
       "}\n",
       "\n",
       ".xr-has-index {\n",
       "  font-weight: bold;\n",
       "}\n",
       "\n",
       ".xr-var-list,\n",
       ".xr-var-item {\n",
       "  display: contents;\n",
       "}\n",
       "\n",
       ".xr-var-item > div,\n",
       ".xr-var-item label,\n",
       ".xr-var-item > .xr-var-name span {\n",
       "  background-color: var(--xr-background-color-row-even);\n",
       "  margin-bottom: 0;\n",
       "}\n",
       "\n",
       ".xr-var-item > .xr-var-name:hover span {\n",
       "  padding-right: 5px;\n",
       "}\n",
       "\n",
       ".xr-var-list > li:nth-child(odd) > div,\n",
       ".xr-var-list > li:nth-child(odd) > label,\n",
       ".xr-var-list > li:nth-child(odd) > .xr-var-name span {\n",
       "  background-color: var(--xr-background-color-row-odd);\n",
       "}\n",
       "\n",
       ".xr-var-name {\n",
       "  grid-column: 1;\n",
       "}\n",
       "\n",
       ".xr-var-dims {\n",
       "  grid-column: 2;\n",
       "}\n",
       "\n",
       ".xr-var-dtype {\n",
       "  grid-column: 3;\n",
       "  text-align: right;\n",
       "  color: var(--xr-font-color2);\n",
       "}\n",
       "\n",
       ".xr-var-preview {\n",
       "  grid-column: 4;\n",
       "}\n",
       "\n",
       ".xr-var-name,\n",
       ".xr-var-dims,\n",
       ".xr-var-dtype,\n",
       ".xr-preview,\n",
       ".xr-attrs dt {\n",
       "  white-space: nowrap;\n",
       "  overflow: hidden;\n",
       "  text-overflow: ellipsis;\n",
       "  padding-right: 10px;\n",
       "}\n",
       "\n",
       ".xr-var-name:hover,\n",
       ".xr-var-dims:hover,\n",
       ".xr-var-dtype:hover,\n",
       ".xr-attrs dt:hover {\n",
       "  overflow: visible;\n",
       "  width: auto;\n",
       "  z-index: 1;\n",
       "}\n",
       "\n",
       ".xr-var-attrs,\n",
       ".xr-var-data {\n",
       "  display: none;\n",
       "  background-color: var(--xr-background-color) !important;\n",
       "  padding-bottom: 5px !important;\n",
       "}\n",
       "\n",
       ".xr-var-attrs-in:checked ~ .xr-var-attrs,\n",
       ".xr-var-data-in:checked ~ .xr-var-data {\n",
       "  display: block;\n",
       "}\n",
       "\n",
       ".xr-var-data > table {\n",
       "  float: right;\n",
       "}\n",
       "\n",
       ".xr-var-name span,\n",
       ".xr-var-data,\n",
       ".xr-attrs {\n",
       "  padding-left: 25px !important;\n",
       "}\n",
       "\n",
       ".xr-attrs,\n",
       ".xr-var-attrs,\n",
       ".xr-var-data {\n",
       "  grid-column: 1 / -1;\n",
       "}\n",
       "\n",
       "dl.xr-attrs {\n",
       "  padding: 0;\n",
       "  margin: 0;\n",
       "  display: grid;\n",
       "  grid-template-columns: 125px auto;\n",
       "}\n",
       "\n",
       ".xr-attrs dt,\n",
       ".xr-attrs dd {\n",
       "  padding: 0;\n",
       "  margin: 0;\n",
       "  float: left;\n",
       "  padding-right: 10px;\n",
       "  width: auto;\n",
       "}\n",
       "\n",
       ".xr-attrs dt {\n",
       "  font-weight: normal;\n",
       "  grid-column: 1;\n",
       "}\n",
       "\n",
       ".xr-attrs dt:hover span {\n",
       "  display: inline-block;\n",
       "  background: var(--xr-background-color);\n",
       "  padding-right: 10px;\n",
       "}\n",
       "\n",
       ".xr-attrs dd {\n",
       "  grid-column: 2;\n",
       "  white-space: pre-wrap;\n",
       "  word-break: break-all;\n",
       "}\n",
       "\n",
       ".xr-icon-database,\n",
       ".xr-icon-file-text2 {\n",
       "  display: inline-block;\n",
       "  vertical-align: middle;\n",
       "  width: 1em;\n",
       "  height: 1.5em !important;\n",
       "  stroke-width: 0;\n",
       "  stroke: currentColor;\n",
       "  fill: currentColor;\n",
       "}\n",
       "</style><pre class='xr-text-repr-fallback'>&lt;xarray.DataArray &#x27;decile&#x27; (decile: 10)&gt;\n",
       "array([0, 1, 2, 3, 4, 5, 6, 7, 8, 9])\n",
       "Coordinates:\n",
       "    month    int64 3\n",
       "Dimensions without coordinates: decile</pre><div class='xr-wrap' style='display:none'><div class='xr-header'><div class='xr-obj-type'>xarray.DataArray</div><div class='xr-array-name'>'decile'</div><ul class='xr-dim-list'><li><span>decile</span>: 10</li></ul></div><ul class='xr-sections'><li class='xr-section-item'><div class='xr-array-wrap'><input id='section-f68ab6f8-c039-4013-91cc-137bde2e3d85' class='xr-array-in' type='checkbox' checked><label for='section-f68ab6f8-c039-4013-91cc-137bde2e3d85' title='Show/hide data repr'><svg class='icon xr-icon-database'><use xlink:href='#icon-database'></use></svg></label><div class='xr-array-preview xr-preview'><span>0 1 2 3 4 5 6 7 8 9</span></div><div class='xr-array-data'><pre>array([0, 1, 2, 3, 4, 5, 6, 7, 8, 9])</pre></div></div></li><li class='xr-section-item'><input id='section-7f951c95-b56d-41ca-bea8-e6ada9e2ed1d' class='xr-section-summary-in' type='checkbox'  checked><label for='section-7f951c95-b56d-41ca-bea8-e6ada9e2ed1d' class='xr-section-summary' >Coordinates: <span>(1)</span></label><div class='xr-section-inline-details'></div><div class='xr-section-details'><ul class='xr-var-list'><li class='xr-var-item'><div class='xr-var-name'><span>month</span></div><div class='xr-var-dims'>()</div><div class='xr-var-dtype'>int64</div><div class='xr-var-preview xr-preview'>3</div><input id='attrs-26747ccb-dbdb-489f-8977-968712529676' class='xr-var-attrs-in' type='checkbox' disabled><label for='attrs-26747ccb-dbdb-489f-8977-968712529676' title='Show/Hide attributes'><svg class='icon xr-icon-file-text2'><use xlink:href='#icon-file-text2'></use></svg></label><input id='data-a0b88d5b-baa2-4940-9956-1271056e5c6d' class='xr-var-data-in' type='checkbox'><label for='data-a0b88d5b-baa2-4940-9956-1271056e5c6d' title='Show/Hide data repr'><svg class='icon xr-icon-database'><use xlink:href='#icon-database'></use></svg></label><div class='xr-var-attrs'><dl class='xr-attrs'></dl></div><div class='xr-var-data'><pre>array(3)</pre></div></li></ul></div></li><li class='xr-section-item'><input id='section-7eb760a9-ebbe-4b9c-9de3-605bb385ac20' class='xr-section-summary-in' type='checkbox' disabled ><label for='section-7eb760a9-ebbe-4b9c-9de3-605bb385ac20' class='xr-section-summary'  title='Expand/collapse section'>Attributes: <span>(0)</span></label><div class='xr-section-inline-details'></div><div class='xr-section-details'><dl class='xr-attrs'></dl></div></li></ul></div></div>"
      ],
      "text/plain": [
       "<xarray.DataArray 'decile' (decile: 10)>\n",
       "array([0, 1, 2, 3, 4, 5, 6, 7, 8, 9])\n",
       "Coordinates:\n",
       "    month    int64 3\n",
       "Dimensions without coordinates: decile"
      ]
     },
     "execution_count": 32,
     "metadata": {},
     "output_type": "execute_result"
    }
   ],
   "source": [
    "cum_probs.decile"
   ]
  },
  {
   "cell_type": "code",
   "execution_count": 33,
   "id": "380d996e",
   "metadata": {
    "execution": {
     "iopub.execute_input": "2022-03-17T01:58:54.170764Z",
     "iopub.status.busy": "2022-03-17T01:58:54.170411Z",
     "iopub.status.idle": "2022-03-17T01:58:54.188714Z",
     "shell.execute_reply": "2022-03-17T01:58:54.188995Z"
    },
    "papermill": {
     "duration": 0.060923,
     "end_time": "2022-03-17T01:58:54.189104",
     "exception": false,
     "start_time": "2022-03-17T01:58:54.128181",
     "status": "completed"
    },
    "tags": []
   },
   "outputs": [],
   "source": [
    "cum_probs['decile'] = cum_probs['decile'] + 1"
   ]
  },
  {
   "cell_type": "code",
   "execution_count": 34,
   "id": "26cd733c",
   "metadata": {
    "execution": {
     "iopub.execute_input": "2022-03-17T01:58:54.270960Z",
     "iopub.status.busy": "2022-03-17T01:58:54.270580Z",
     "iopub.status.idle": "2022-03-17T01:58:54.292677Z",
     "shell.execute_reply": "2022-03-17T01:58:54.292358Z"
    },
    "papermill": {
     "duration": 0.063824,
     "end_time": "2022-03-17T01:58:54.292764",
     "exception": false,
     "start_time": "2022-03-17T01:58:54.228940",
     "status": "completed"
    },
    "tags": []
   },
   "outputs": [
    {
     "data": {
      "text/html": [
       "<div><svg style=\"position: absolute; width: 0; height: 0; overflow: hidden\">\n",
       "<defs>\n",
       "<symbol id=\"icon-database\" viewBox=\"0 0 32 32\">\n",
       "<path d=\"M16 0c-8.837 0-16 2.239-16 5v4c0 2.761 7.163 5 16 5s16-2.239 16-5v-4c0-2.761-7.163-5-16-5z\"></path>\n",
       "<path d=\"M16 17c-8.837 0-16-2.239-16-5v6c0 2.761 7.163 5 16 5s16-2.239 16-5v-6c0 2.761-7.163 5-16 5z\"></path>\n",
       "<path d=\"M16 26c-8.837 0-16-2.239-16-5v6c0 2.761 7.163 5 16 5s16-2.239 16-5v-6c0 2.761-7.163 5-16 5z\"></path>\n",
       "</symbol>\n",
       "<symbol id=\"icon-file-text2\" viewBox=\"0 0 32 32\">\n",
       "<path d=\"M28.681 7.159c-0.694-0.947-1.662-2.053-2.724-3.116s-2.169-2.030-3.116-2.724c-1.612-1.182-2.393-1.319-2.841-1.319h-15.5c-1.378 0-2.5 1.121-2.5 2.5v27c0 1.378 1.122 2.5 2.5 2.5h23c1.378 0 2.5-1.122 2.5-2.5v-19.5c0-0.448-0.137-1.23-1.319-2.841zM24.543 5.457c0.959 0.959 1.712 1.825 2.268 2.543h-4.811v-4.811c0.718 0.556 1.584 1.309 2.543 2.268zM28 29.5c0 0.271-0.229 0.5-0.5 0.5h-23c-0.271 0-0.5-0.229-0.5-0.5v-27c0-0.271 0.229-0.5 0.5-0.5 0 0 15.499-0 15.5 0v7c0 0.552 0.448 1 1 1h7v19.5z\"></path>\n",
       "<path d=\"M23 26h-14c-0.552 0-1-0.448-1-1s0.448-1 1-1h14c0.552 0 1 0.448 1 1s-0.448 1-1 1z\"></path>\n",
       "<path d=\"M23 22h-14c-0.552 0-1-0.448-1-1s0.448-1 1-1h14c0.552 0 1 0.448 1 1s-0.448 1-1 1z\"></path>\n",
       "<path d=\"M23 18h-14c-0.552 0-1-0.448-1-1s0.448-1 1-1h14c0.552 0 1 0.448 1 1s-0.448 1-1 1z\"></path>\n",
       "</symbol>\n",
       "</defs>\n",
       "</svg>\n",
       "<style>/* CSS stylesheet for displaying xarray objects in jupyterlab.\n",
       " *\n",
       " */\n",
       "\n",
       ":root {\n",
       "  --xr-font-color0: var(--jp-content-font-color0, rgba(0, 0, 0, 1));\n",
       "  --xr-font-color2: var(--jp-content-font-color2, rgba(0, 0, 0, 0.54));\n",
       "  --xr-font-color3: var(--jp-content-font-color3, rgba(0, 0, 0, 0.38));\n",
       "  --xr-border-color: var(--jp-border-color2, #e0e0e0);\n",
       "  --xr-disabled-color: var(--jp-layout-color3, #bdbdbd);\n",
       "  --xr-background-color: var(--jp-layout-color0, white);\n",
       "  --xr-background-color-row-even: var(--jp-layout-color1, white);\n",
       "  --xr-background-color-row-odd: var(--jp-layout-color2, #eeeeee);\n",
       "}\n",
       "\n",
       "html[theme=dark],\n",
       "body.vscode-dark {\n",
       "  --xr-font-color0: rgba(255, 255, 255, 1);\n",
       "  --xr-font-color2: rgba(255, 255, 255, 0.54);\n",
       "  --xr-font-color3: rgba(255, 255, 255, 0.38);\n",
       "  --xr-border-color: #1F1F1F;\n",
       "  --xr-disabled-color: #515151;\n",
       "  --xr-background-color: #111111;\n",
       "  --xr-background-color-row-even: #111111;\n",
       "  --xr-background-color-row-odd: #313131;\n",
       "}\n",
       "\n",
       ".xr-wrap {\n",
       "  display: block !important;\n",
       "  min-width: 300px;\n",
       "  max-width: 700px;\n",
       "}\n",
       "\n",
       ".xr-text-repr-fallback {\n",
       "  /* fallback to plain text repr when CSS is not injected (untrusted notebook) */\n",
       "  display: none;\n",
       "}\n",
       "\n",
       ".xr-header {\n",
       "  padding-top: 6px;\n",
       "  padding-bottom: 6px;\n",
       "  margin-bottom: 4px;\n",
       "  border-bottom: solid 1px var(--xr-border-color);\n",
       "}\n",
       "\n",
       ".xr-header > div,\n",
       ".xr-header > ul {\n",
       "  display: inline;\n",
       "  margin-top: 0;\n",
       "  margin-bottom: 0;\n",
       "}\n",
       "\n",
       ".xr-obj-type,\n",
       ".xr-array-name {\n",
       "  margin-left: 2px;\n",
       "  margin-right: 10px;\n",
       "}\n",
       "\n",
       ".xr-obj-type {\n",
       "  color: var(--xr-font-color2);\n",
       "}\n",
       "\n",
       ".xr-sections {\n",
       "  padding-left: 0 !important;\n",
       "  display: grid;\n",
       "  grid-template-columns: 150px auto auto 1fr 20px 20px;\n",
       "}\n",
       "\n",
       ".xr-section-item {\n",
       "  display: contents;\n",
       "}\n",
       "\n",
       ".xr-section-item input {\n",
       "  display: none;\n",
       "}\n",
       "\n",
       ".xr-section-item input + label {\n",
       "  color: var(--xr-disabled-color);\n",
       "}\n",
       "\n",
       ".xr-section-item input:enabled + label {\n",
       "  cursor: pointer;\n",
       "  color: var(--xr-font-color2);\n",
       "}\n",
       "\n",
       ".xr-section-item input:enabled + label:hover {\n",
       "  color: var(--xr-font-color0);\n",
       "}\n",
       "\n",
       ".xr-section-summary {\n",
       "  grid-column: 1;\n",
       "  color: var(--xr-font-color2);\n",
       "  font-weight: 500;\n",
       "}\n",
       "\n",
       ".xr-section-summary > span {\n",
       "  display: inline-block;\n",
       "  padding-left: 0.5em;\n",
       "}\n",
       "\n",
       ".xr-section-summary-in:disabled + label {\n",
       "  color: var(--xr-font-color2);\n",
       "}\n",
       "\n",
       ".xr-section-summary-in + label:before {\n",
       "  display: inline-block;\n",
       "  content: '►';\n",
       "  font-size: 11px;\n",
       "  width: 15px;\n",
       "  text-align: center;\n",
       "}\n",
       "\n",
       ".xr-section-summary-in:disabled + label:before {\n",
       "  color: var(--xr-disabled-color);\n",
       "}\n",
       "\n",
       ".xr-section-summary-in:checked + label:before {\n",
       "  content: '▼';\n",
       "}\n",
       "\n",
       ".xr-section-summary-in:checked + label > span {\n",
       "  display: none;\n",
       "}\n",
       "\n",
       ".xr-section-summary,\n",
       ".xr-section-inline-details {\n",
       "  padding-top: 4px;\n",
       "  padding-bottom: 4px;\n",
       "}\n",
       "\n",
       ".xr-section-inline-details {\n",
       "  grid-column: 2 / -1;\n",
       "}\n",
       "\n",
       ".xr-section-details {\n",
       "  display: none;\n",
       "  grid-column: 1 / -1;\n",
       "  margin-bottom: 5px;\n",
       "}\n",
       "\n",
       ".xr-section-summary-in:checked ~ .xr-section-details {\n",
       "  display: contents;\n",
       "}\n",
       "\n",
       ".xr-array-wrap {\n",
       "  grid-column: 1 / -1;\n",
       "  display: grid;\n",
       "  grid-template-columns: 20px auto;\n",
       "}\n",
       "\n",
       ".xr-array-wrap > label {\n",
       "  grid-column: 1;\n",
       "  vertical-align: top;\n",
       "}\n",
       "\n",
       ".xr-preview {\n",
       "  color: var(--xr-font-color3);\n",
       "}\n",
       "\n",
       ".xr-array-preview,\n",
       ".xr-array-data {\n",
       "  padding: 0 5px !important;\n",
       "  grid-column: 2;\n",
       "}\n",
       "\n",
       ".xr-array-data,\n",
       ".xr-array-in:checked ~ .xr-array-preview {\n",
       "  display: none;\n",
       "}\n",
       "\n",
       ".xr-array-in:checked ~ .xr-array-data,\n",
       ".xr-array-preview {\n",
       "  display: inline-block;\n",
       "}\n",
       "\n",
       ".xr-dim-list {\n",
       "  display: inline-block !important;\n",
       "  list-style: none;\n",
       "  padding: 0 !important;\n",
       "  margin: 0;\n",
       "}\n",
       "\n",
       ".xr-dim-list li {\n",
       "  display: inline-block;\n",
       "  padding: 0;\n",
       "  margin: 0;\n",
       "}\n",
       "\n",
       ".xr-dim-list:before {\n",
       "  content: '(';\n",
       "}\n",
       "\n",
       ".xr-dim-list:after {\n",
       "  content: ')';\n",
       "}\n",
       "\n",
       ".xr-dim-list li:not(:last-child):after {\n",
       "  content: ',';\n",
       "  padding-right: 5px;\n",
       "}\n",
       "\n",
       ".xr-has-index {\n",
       "  font-weight: bold;\n",
       "}\n",
       "\n",
       ".xr-var-list,\n",
       ".xr-var-item {\n",
       "  display: contents;\n",
       "}\n",
       "\n",
       ".xr-var-item > div,\n",
       ".xr-var-item label,\n",
       ".xr-var-item > .xr-var-name span {\n",
       "  background-color: var(--xr-background-color-row-even);\n",
       "  margin-bottom: 0;\n",
       "}\n",
       "\n",
       ".xr-var-item > .xr-var-name:hover span {\n",
       "  padding-right: 5px;\n",
       "}\n",
       "\n",
       ".xr-var-list > li:nth-child(odd) > div,\n",
       ".xr-var-list > li:nth-child(odd) > label,\n",
       ".xr-var-list > li:nth-child(odd) > .xr-var-name span {\n",
       "  background-color: var(--xr-background-color-row-odd);\n",
       "}\n",
       "\n",
       ".xr-var-name {\n",
       "  grid-column: 1;\n",
       "}\n",
       "\n",
       ".xr-var-dims {\n",
       "  grid-column: 2;\n",
       "}\n",
       "\n",
       ".xr-var-dtype {\n",
       "  grid-column: 3;\n",
       "  text-align: right;\n",
       "  color: var(--xr-font-color2);\n",
       "}\n",
       "\n",
       ".xr-var-preview {\n",
       "  grid-column: 4;\n",
       "}\n",
       "\n",
       ".xr-var-name,\n",
       ".xr-var-dims,\n",
       ".xr-var-dtype,\n",
       ".xr-preview,\n",
       ".xr-attrs dt {\n",
       "  white-space: nowrap;\n",
       "  overflow: hidden;\n",
       "  text-overflow: ellipsis;\n",
       "  padding-right: 10px;\n",
       "}\n",
       "\n",
       ".xr-var-name:hover,\n",
       ".xr-var-dims:hover,\n",
       ".xr-var-dtype:hover,\n",
       ".xr-attrs dt:hover {\n",
       "  overflow: visible;\n",
       "  width: auto;\n",
       "  z-index: 1;\n",
       "}\n",
       "\n",
       ".xr-var-attrs,\n",
       ".xr-var-data {\n",
       "  display: none;\n",
       "  background-color: var(--xr-background-color) !important;\n",
       "  padding-bottom: 5px !important;\n",
       "}\n",
       "\n",
       ".xr-var-attrs-in:checked ~ .xr-var-attrs,\n",
       ".xr-var-data-in:checked ~ .xr-var-data {\n",
       "  display: block;\n",
       "}\n",
       "\n",
       ".xr-var-data > table {\n",
       "  float: right;\n",
       "}\n",
       "\n",
       ".xr-var-name span,\n",
       ".xr-var-data,\n",
       ".xr-attrs {\n",
       "  padding-left: 25px !important;\n",
       "}\n",
       "\n",
       ".xr-attrs,\n",
       ".xr-var-attrs,\n",
       ".xr-var-data {\n",
       "  grid-column: 1 / -1;\n",
       "}\n",
       "\n",
       "dl.xr-attrs {\n",
       "  padding: 0;\n",
       "  margin: 0;\n",
       "  display: grid;\n",
       "  grid-template-columns: 125px auto;\n",
       "}\n",
       "\n",
       ".xr-attrs dt,\n",
       ".xr-attrs dd {\n",
       "  padding: 0;\n",
       "  margin: 0;\n",
       "  float: left;\n",
       "  padding-right: 10px;\n",
       "  width: auto;\n",
       "}\n",
       "\n",
       ".xr-attrs dt {\n",
       "  font-weight: normal;\n",
       "  grid-column: 1;\n",
       "}\n",
       "\n",
       ".xr-attrs dt:hover span {\n",
       "  display: inline-block;\n",
       "  background: var(--xr-background-color);\n",
       "  padding-right: 10px;\n",
       "}\n",
       "\n",
       ".xr-attrs dd {\n",
       "  grid-column: 2;\n",
       "  white-space: pre-wrap;\n",
       "  word-break: break-all;\n",
       "}\n",
       "\n",
       ".xr-icon-database,\n",
       ".xr-icon-file-text2 {\n",
       "  display: inline-block;\n",
       "  vertical-align: middle;\n",
       "  width: 1em;\n",
       "  height: 1.5em !important;\n",
       "  stroke-width: 0;\n",
       "  stroke: currentColor;\n",
       "  fill: currentColor;\n",
       "}\n",
       "</style><pre class='xr-text-repr-fallback'>&lt;xarray.DataArray &#x27;decile&#x27; (decile: 10)&gt;\n",
       "array([ 1,  2,  3,  4,  5,  6,  7,  8,  9, 10])\n",
       "Coordinates:\n",
       "    month    int64 3\n",
       "  * decile   (decile) int64 1 2 3 4 5 6 7 8 9 10</pre><div class='xr-wrap' style='display:none'><div class='xr-header'><div class='xr-obj-type'>xarray.DataArray</div><div class='xr-array-name'>'decile'</div><ul class='xr-dim-list'><li><span class='xr-has-index'>decile</span>: 10</li></ul></div><ul class='xr-sections'><li class='xr-section-item'><div class='xr-array-wrap'><input id='section-4c584916-4384-4e30-a3d9-9d64d81af175' class='xr-array-in' type='checkbox' checked><label for='section-4c584916-4384-4e30-a3d9-9d64d81af175' title='Show/hide data repr'><svg class='icon xr-icon-database'><use xlink:href='#icon-database'></use></svg></label><div class='xr-array-preview xr-preview'><span>1 2 3 4 5 6 7 8 9 10</span></div><div class='xr-array-data'><pre>array([ 1,  2,  3,  4,  5,  6,  7,  8,  9, 10])</pre></div></div></li><li class='xr-section-item'><input id='section-083aded4-462d-428e-a2d8-926e6cbf542d' class='xr-section-summary-in' type='checkbox'  checked><label for='section-083aded4-462d-428e-a2d8-926e6cbf542d' class='xr-section-summary' >Coordinates: <span>(2)</span></label><div class='xr-section-inline-details'></div><div class='xr-section-details'><ul class='xr-var-list'><li class='xr-var-item'><div class='xr-var-name'><span>month</span></div><div class='xr-var-dims'>()</div><div class='xr-var-dtype'>int64</div><div class='xr-var-preview xr-preview'>3</div><input id='attrs-43c2c8af-f81b-4b92-b51f-dbffa9790757' class='xr-var-attrs-in' type='checkbox' disabled><label for='attrs-43c2c8af-f81b-4b92-b51f-dbffa9790757' title='Show/Hide attributes'><svg class='icon xr-icon-file-text2'><use xlink:href='#icon-file-text2'></use></svg></label><input id='data-ec9a9a7d-325b-4792-8fe0-b7f94b1486bf' class='xr-var-data-in' type='checkbox'><label for='data-ec9a9a7d-325b-4792-8fe0-b7f94b1486bf' title='Show/Hide data repr'><svg class='icon xr-icon-database'><use xlink:href='#icon-database'></use></svg></label><div class='xr-var-attrs'><dl class='xr-attrs'></dl></div><div class='xr-var-data'><pre>array(3)</pre></div></li><li class='xr-var-item'><div class='xr-var-name'><span class='xr-has-index'>decile</span></div><div class='xr-var-dims'>(decile)</div><div class='xr-var-dtype'>int64</div><div class='xr-var-preview xr-preview'>1 2 3 4 5 6 7 8 9 10</div><input id='attrs-c2489820-0703-4d23-b7ed-8d02b1020909' class='xr-var-attrs-in' type='checkbox' disabled><label for='attrs-c2489820-0703-4d23-b7ed-8d02b1020909' title='Show/Hide attributes'><svg class='icon xr-icon-file-text2'><use xlink:href='#icon-file-text2'></use></svg></label><input id='data-e6b25197-d06f-4e2b-8a72-b63481f797ad' class='xr-var-data-in' type='checkbox'><label for='data-e6b25197-d06f-4e2b-8a72-b63481f797ad' title='Show/Hide data repr'><svg class='icon xr-icon-database'><use xlink:href='#icon-database'></use></svg></label><div class='xr-var-attrs'><dl class='xr-attrs'></dl></div><div class='xr-var-data'><pre>array([ 1,  2,  3,  4,  5,  6,  7,  8,  9, 10])</pre></div></li></ul></div></li><li class='xr-section-item'><input id='section-f9ccba65-86fb-4655-af43-6e8bfe2adf3d' class='xr-section-summary-in' type='checkbox' disabled ><label for='section-f9ccba65-86fb-4655-af43-6e8bfe2adf3d' class='xr-section-summary'  title='Expand/collapse section'>Attributes: <span>(0)</span></label><div class='xr-section-inline-details'></div><div class='xr-section-details'><dl class='xr-attrs'></dl></div></li></ul></div></div>"
      ],
      "text/plain": [
       "<xarray.DataArray 'decile' (decile: 10)>\n",
       "array([ 1,  2,  3,  4,  5,  6,  7,  8,  9, 10])\n",
       "Coordinates:\n",
       "    month    int64 3\n",
       "  * decile   (decile) int64 1 2 3 4 5 6 7 8 9 10"
      ]
     },
     "execution_count": 34,
     "metadata": {},
     "output_type": "execute_result"
    }
   ],
   "source": [
    "cum_probs.decile"
   ]
  },
  {
   "cell_type": "markdown",
   "id": "ec4e8ddd",
   "metadata": {
    "papermill": {
     "duration": 0.048328,
     "end_time": "2022-03-17T01:58:54.383771",
     "exception": false,
     "start_time": "2022-03-17T01:58:54.335443",
     "status": "completed"
    },
    "tags": []
   },
   "source": [
    "#### selects probabilities greater or equal than 50% "
   ]
  },
  {
   "cell_type": "code",
   "execution_count": 35,
   "id": "6144557e",
   "metadata": {
    "execution": {
     "iopub.execute_input": "2022-03-17T01:58:54.475753Z",
     "iopub.status.busy": "2022-03-17T01:58:54.475379Z",
     "iopub.status.idle": "2022-03-17T01:58:54.496452Z",
     "shell.execute_reply": "2022-03-17T01:58:54.496783Z"
    },
    "papermill": {
     "duration": 0.065503,
     "end_time": "2022-03-17T01:58:54.496936",
     "exception": false,
     "start_time": "2022-03-17T01:58:54.431433",
     "status": "completed"
    },
    "tags": []
   },
   "outputs": [],
   "source": [
    "cum_probs = cum_probs.where(cum_probs['precip'] >= 50)"
   ]
  },
  {
   "cell_type": "markdown",
   "id": "a59c5176",
   "metadata": {
    "papermill": {
     "duration": 0.043432,
     "end_time": "2022-03-17T01:58:54.582782",
     "exception": false,
     "start_time": "2022-03-17T01:58:54.539350",
     "status": "completed"
    },
    "tags": []
   },
   "source": [
    "### quick plot of the minimum decile value for the cumulative decile probabilities reaching 50% "
   ]
  },
  {
   "cell_type": "code",
   "execution_count": 36,
   "id": "45da967d",
   "metadata": {
    "execution": {
     "iopub.execute_input": "2022-03-17T01:58:54.673037Z",
     "iopub.status.busy": "2022-03-17T01:58:54.672673Z",
     "iopub.status.idle": "2022-03-17T01:58:58.562543Z",
     "shell.execute_reply": "2022-03-17T01:58:58.562866Z"
    },
    "papermill": {
     "duration": 3.936769,
     "end_time": "2022-03-17T01:58:58.562964",
     "exception": false,
     "start_time": "2022-03-17T01:58:54.626195",
     "status": "completed"
    },
    "tags": []
   },
   "outputs": [
    {
     "data": {
      "text/plain": [
       "Text(0.5, 1.0, '')"
      ]
     },
     "execution_count": 36,
     "metadata": {},
     "output_type": "execute_result"
    },
    {
     "data": {
      "image/png": "[encoded data removed]",
      "text/plain": [
       "<Figure size 1008x576 with 2 Axes>"
      ]
     },
     "metadata": {
      "needs_background": "light"
     },
     "output_type": "display_data"
    }
   ],
   "source": [
    "f, ax = plt.subplots(subplot_kw=dict(projection=ccrs.PlateCarree(central_longitude=180)), figsize=(14,8))\n",
    "\n",
    "cum_probs.idxmin('decile').squeeze().sel(step=step)['precip'].plot.contourf(ax=ax, levels=np.arange(0, 11), transform=ccrs.PlateCarree(), \\\n",
    "                                                                   cbar_kwargs={'shrink':0.7, 'boundaries':np.arange(11), 'drawedges':True})\n",
    "ax.coastlines()\n",
    "\n",
    "ax.set_title('')"
   ]
  },
  {
   "cell_type": "markdown",
   "id": "5144b327",
   "metadata": {
    "papermill": {
     "duration": 0.040924,
     "end_time": "2022-03-17T01:58:58.644222",
     "exception": false,
     "start_time": "2022-03-17T01:58:58.603298",
     "status": "completed"
    },
    "tags": []
   },
   "source": [
    "### Now starts the prototype plotting "
   ]
  },
  {
   "cell_type": "code",
   "execution_count": 37,
   "id": "fc61800f",
   "metadata": {
    "execution": {
     "iopub.execute_input": "2022-03-17T01:58:58.728090Z",
     "iopub.status.busy": "2022-03-17T01:58:58.727589Z",
     "iopub.status.idle": "2022-03-17T01:58:58.745128Z",
     "shell.execute_reply": "2022-03-17T01:58:58.744786Z"
    },
    "papermill": {
     "duration": 0.060773,
     "end_time": "2022-03-17T01:58:58.745209",
     "exception": false,
     "start_time": "2022-03-17T01:58:58.684436",
     "status": "completed"
    },
    "tags": []
   },
   "outputs": [],
   "source": [
    "thresholds = np.arange(0.5, 10.5 + 1, 1)"
   ]
  },
  {
   "cell_type": "code",
   "execution_count": 38,
   "id": "b4786fe3",
   "metadata": {
    "execution": {
     "iopub.execute_input": "2022-03-17T01:58:58.832172Z",
     "iopub.status.busy": "2022-03-17T01:58:58.831638Z",
     "iopub.status.idle": "2022-03-17T01:58:58.849482Z",
     "shell.execute_reply": "2022-03-17T01:58:58.849179Z"
    },
    "papermill": {
     "duration": 0.062908,
     "end_time": "2022-03-17T01:58:58.849566",
     "exception": false,
     "start_time": "2022-03-17T01:58:58.786658",
     "status": "completed"
    },
    "tags": []
   },
   "outputs": [
    {
     "data": {
      "text/plain": [
       "array([ 0.5,  1.5,  2.5,  3.5,  4.5,  5.5,  6.5,  7.5,  8.5,  9.5, 10.5])"
      ]
     },
     "execution_count": 38,
     "metadata": {},
     "output_type": "execute_result"
    }
   ],
   "source": [
    "thresholds"
   ]
  },
  {
   "cell_type": "code",
   "execution_count": 39,
   "id": "1f010162",
   "metadata": {
    "execution": {
     "iopub.execute_input": "2022-03-17T01:58:58.936558Z",
     "iopub.status.busy": "2022-03-17T01:58:58.936027Z",
     "iopub.status.idle": "2022-03-17T01:58:58.953517Z",
     "shell.execute_reply": "2022-03-17T01:58:58.953220Z"
    },
    "papermill": {
     "duration": 0.062538,
     "end_time": "2022-03-17T01:58:58.953599",
     "exception": false,
     "start_time": "2022-03-17T01:58:58.891061",
     "status": "completed"
    },
    "tags": []
   },
   "outputs": [],
   "source": [
    "ticks_marks = np.diff(np.array(thresholds)) / 2.\n",
    "\n",
    "ticks = [thresholds[i] + ticks_marks[i] for i in range(len(thresholds) - 1)]"
   ]
  },
  {
   "cell_type": "code",
   "execution_count": 40,
   "id": "ca15564e",
   "metadata": {
    "execution": {
     "iopub.execute_input": "2022-03-17T01:58:59.044109Z",
     "iopub.status.busy": "2022-03-17T01:58:59.043783Z",
     "iopub.status.idle": "2022-03-17T01:58:59.061633Z",
     "shell.execute_reply": "2022-03-17T01:58:59.061303Z"
    },
    "papermill": {
     "duration": 0.064599,
     "end_time": "2022-03-17T01:58:59.061712",
     "exception": false,
     "start_time": "2022-03-17T01:58:58.997113",
     "status": "completed"
    },
    "tags": []
   },
   "outputs": [
    {
     "data": {
      "text/plain": [
       "[1.0, 2.0, 3.0, 4.0, 5.0, 6.0, 7.0, 8.0, 9.0, 10.0]"
      ]
     },
     "execution_count": 40,
     "metadata": {},
     "output_type": "execute_result"
    }
   ],
   "source": [
    "ticks"
   ]
  },
  {
   "cell_type": "code",
   "execution_count": 41,
   "id": "7fd0d9b8",
   "metadata": {
    "execution": {
     "iopub.execute_input": "2022-03-17T01:58:59.153158Z",
     "iopub.status.busy": "2022-03-17T01:58:59.152799Z",
     "iopub.status.idle": "2022-03-17T01:58:59.170728Z",
     "shell.execute_reply": "2022-03-17T01:58:59.170991Z"
    },
    "papermill": {
     "duration": 0.065486,
     "end_time": "2022-03-17T01:58:59.171093",
     "exception": false,
     "start_time": "2022-03-17T01:58:59.105607",
     "status": "completed"
    },
    "tags": []
   },
   "outputs": [],
   "source": [
    "hexes = ['#003c30', '#01665e', '#35978f', '#80cdc1', '#c7eae5', '#f6e8c3', '#dfc27d', '#bf812d', '#8c510a', '#543005']"
   ]
  },
  {
   "cell_type": "code",
   "execution_count": 42,
   "id": "4c258744",
   "metadata": {
    "execution": {
     "iopub.execute_input": "2022-03-17T01:58:59.260416Z",
     "iopub.status.busy": "2022-03-17T01:58:59.260058Z",
     "iopub.status.idle": "2022-03-17T01:58:59.277844Z",
     "shell.execute_reply": "2022-03-17T01:58:59.278138Z"
    },
    "papermill": {
     "duration": 0.06421,
     "end_time": "2022-03-17T01:58:59.278249",
     "exception": false,
     "start_time": "2022-03-17T01:58:59.214039",
     "status": "completed"
    },
    "tags": []
   },
   "outputs": [],
   "source": [
    "hexes.reverse()"
   ]
  },
  {
   "cell_type": "code",
   "execution_count": 43,
   "id": "121592cd",
   "metadata": {
    "execution": {
     "iopub.execute_input": "2022-03-17T01:58:59.367441Z",
     "iopub.status.busy": "2022-03-17T01:58:59.367104Z",
     "iopub.status.idle": "2022-03-17T01:58:59.383849Z",
     "shell.execute_reply": "2022-03-17T01:58:59.384106Z"
    },
    "papermill": {
     "duration": 0.062755,
     "end_time": "2022-03-17T01:58:59.384207",
     "exception": false,
     "start_time": "2022-03-17T01:58:59.321452",
     "status": "completed"
    },
    "tags": []
   },
   "outputs": [],
   "source": [
    "cbar_ticklabels = ['>90th', '80-90th', '70-80th', '60-70th', '50-60th', '40-50th', '30-40th', '20-30th', '10-20th', '< 10th']"
   ]
  },
  {
   "cell_type": "code",
   "execution_count": 44,
   "id": "bc5ef3c1",
   "metadata": {
    "execution": {
     "iopub.execute_input": "2022-03-17T01:58:59.472684Z",
     "iopub.status.busy": "2022-03-17T01:58:59.472339Z",
     "iopub.status.idle": "2022-03-17T01:58:59.491775Z",
     "shell.execute_reply": "2022-03-17T01:58:59.491428Z"
    },
    "papermill": {
     "duration": 0.064453,
     "end_time": "2022-03-17T01:58:59.491858",
     "exception": false,
     "start_time": "2022-03-17T01:58:59.427405",
     "status": "completed"
    },
    "tags": []
   },
   "outputs": [],
   "source": [
    "cbar_ticklabels.reverse()"
   ]
  },
  {
   "cell_type": "code",
   "execution_count": 45,
   "id": "a7aff0bb",
   "metadata": {
    "execution": {
     "iopub.execute_input": "2022-03-17T01:58:59.582056Z",
     "iopub.status.busy": "2022-03-17T01:58:59.581711Z",
     "iopub.status.idle": "2022-03-17T01:58:59.599239Z",
     "shell.execute_reply": "2022-03-17T01:58:59.598946Z"
    },
    "papermill": {
     "duration": 0.063379,
     "end_time": "2022-03-17T01:58:59.599321",
     "exception": false,
     "start_time": "2022-03-17T01:58:59.535942",
     "status": "completed"
    },
    "tags": []
   },
   "outputs": [
    {
     "data": {
      "text/plain": [
       "['< 10th',\n",
       " '10-20th',\n",
       " '20-30th',\n",
       " '30-40th',\n",
       " '40-50th',\n",
       " '50-60th',\n",
       " '60-70th',\n",
       " '70-80th',\n",
       " '80-90th',\n",
       " '>90th']"
      ]
     },
     "execution_count": 45,
     "metadata": {},
     "output_type": "execute_result"
    }
   ],
   "source": [
    "cbar_ticklabels"
   ]
  },
  {
   "cell_type": "code",
   "execution_count": 46,
   "id": "0bc1d2a2",
   "metadata": {
    "execution": {
     "iopub.execute_input": "2022-03-17T01:58:59.685877Z",
     "iopub.status.busy": "2022-03-17T01:58:59.685533Z",
     "iopub.status.idle": "2022-03-17T01:58:59.702320Z",
     "shell.execute_reply": "2022-03-17T01:58:59.702028Z"
    },
    "papermill": {
     "duration": 0.061135,
     "end_time": "2022-03-17T01:58:59.702406",
     "exception": false,
     "start_time": "2022-03-17T01:58:59.641271",
     "status": "completed"
    },
    "tags": []
   },
   "outputs": [],
   "source": [
    "import matplotlib"
   ]
  },
  {
   "cell_type": "code",
   "execution_count": 47,
   "id": "47d2c6b4",
   "metadata": {
    "execution": {
     "iopub.execute_input": "2022-03-17T01:58:59.791176Z",
     "iopub.status.busy": "2022-03-17T01:58:59.790841Z",
     "iopub.status.idle": "2022-03-17T01:58:59.808325Z",
     "shell.execute_reply": "2022-03-17T01:58:59.808009Z"
    },
    "papermill": {
     "duration": 0.062563,
     "end_time": "2022-03-17T01:58:59.808413",
     "exception": false,
     "start_time": "2022-03-17T01:58:59.745850",
     "status": "completed"
    },
    "tags": []
   },
   "outputs": [],
   "source": [
    "cmap = matplotlib.colors.ListedColormap(hexes, name='decile')"
   ]
  },
  {
   "cell_type": "code",
   "execution_count": 48,
   "id": "a007c97a",
   "metadata": {
    "execution": {
     "iopub.execute_input": "2022-03-17T01:58:59.899412Z",
     "iopub.status.busy": "2022-03-17T01:58:59.899054Z",
     "iopub.status.idle": "2022-03-17T01:58:59.919753Z",
     "shell.execute_reply": "2022-03-17T01:58:59.919471Z"
    },
    "papermill": {
     "duration": 0.067213,
     "end_time": "2022-03-17T01:58:59.919837",
     "exception": false,
     "start_time": "2022-03-17T01:58:59.852624",
     "status": "completed"
    },
    "tags": []
   },
   "outputs": [
    {
     "data": {
      "image/png": "[encoded data removed]",
      "text/html": [
       "<div style=\"vertical-align: middle;\"><strong>decile</strong> </div><div class=\"cmap\"><img alt=\"decile colormap\" title=\"decile\" style=\"border: 1px solid #555;\" src=\"data:image/png;base64,iVBORw0KGgoAAAANSUhEUgAAAgAAAABACAYAAABsv8+/AAAAFXRFWHRUaXRsZQBkZWNpbGUgY29sb3JtYXBonyRcAAAAG3RFWHREZXNjcmlwdGlvbgBkZWNpbGUgY29sb3JtYXAhCDy4AAAAMHRFWHRBdXRob3IATWF0cGxvdGxpYiB2My41LjEsIGh0dHBzOi8vbWF0cGxvdGxpYi5vcmf3t87PAAAAMnRFWHRTb2Z0d2FyZQBNYXRwbG90bGliIHYzLjUuMSwgaHR0cHM6Ly9tYXRwbG90bGliLm9yZ9kRUegAAAF2SURBVHic7darTQNgGEBRaNIZsDwSdBMMFoOuYNWKrkAIDQgUjkHKEn/4Eu45E1x5L1922/PFP/J4s51OWOZhdzedsMz10346YZmr++fphGU+NrfTCcscf76nE5Y5vL5PJyzzdjpNJyxz/vqcTlhqMx0AAPw9AwAAQQYAAIIMAAAEGQAACDIAABBkAAAgyAAAQJABAIAgAwAAQQYAAIIMAAAEGQAACDIAABBkAAAgyAAAQJABAIAgAwAAQQYAAIIMAAAEGQAACDIAABBkAAAgyAAAQJABAIAgAwAAQQYAAIIMAAAEGQAACDIAABBkAAAgyAAAQJABAIAgAwAAQQYAAIIMAAAEGQAACDIAABBkAAAgyAAAQJABAIAgAwAAQQYAAIIMAAAEGQAACDIAABBkAAAgyAAAQJABAIAgAwAAQQYAAIIMAAAEGQAACDIAABBkAAAgyAAAQJABAIAgAwAAQQYAAIIMAAAEGQAACDIAABBkAAAg6BfH1w7rwRZTHQAAAABJRU5ErkJggg==\"></div><div style=\"vertical-align: middle; max-width: 514px; display: flex; justify-content: space-between;\"><div style=\"float: left;\"><div title=\"#543005ff\" style=\"display: inline-block; width: 1em; height: 1em; margin: 0; vertical-align: middle; border: 1px solid #555; background-color: #543005ff;\"></div> under</div><div style=\"margin: 0 auto; display: inline-block;\">bad <div title=\"#00000000\" style=\"display: inline-block; width: 1em; height: 1em; margin: 0; vertical-align: middle; border: 1px solid #555; background-color: #00000000;\"></div></div><div style=\"float: right;\">over <div title=\"#003c30ff\" style=\"display: inline-block; width: 1em; height: 1em; margin: 0; vertical-align: middle; border: 1px solid #555; background-color: #003c30ff;\"></div></div>"
      ],
      "text/plain": [
       "<matplotlib.colors.ListedColormap at 0x7f4785fa0580>"
      ]
     },
     "execution_count": 48,
     "metadata": {},
     "output_type": "execute_result"
    }
   ],
   "source": [
    "cmap"
   ]
  },
  {
   "cell_type": "code",
   "execution_count": 49,
   "id": "f776330c",
   "metadata": {
    "execution": {
     "iopub.execute_input": "2022-03-17T01:59:00.011243Z",
     "iopub.status.busy": "2022-03-17T01:59:00.010883Z",
     "iopub.status.idle": "2022-03-17T01:59:00.038694Z",
     "shell.execute_reply": "2022-03-17T01:59:00.038348Z"
    },
    "papermill": {
     "duration": 0.074856,
     "end_time": "2022-03-17T01:59:00.038777",
     "exception": false,
     "start_time": "2022-03-17T01:58:59.963921",
     "status": "completed"
    },
    "tags": []
   },
   "outputs": [],
   "source": [
    "decile_map = cum_probs.idxmin('decile').squeeze().sel(step=step)"
   ]
  },
  {
   "cell_type": "code",
   "execution_count": 50,
   "id": "062527c8",
   "metadata": {
    "execution": {
     "iopub.execute_input": "2022-03-17T01:59:00.128960Z",
     "iopub.status.busy": "2022-03-17T01:59:00.128631Z",
     "iopub.status.idle": "2022-03-17T01:59:00.201972Z",
     "shell.execute_reply": "2022-03-17T01:59:00.201632Z"
    },
    "papermill": {
     "duration": 0.119501,
     "end_time": "2022-03-17T01:59:00.202057",
     "exception": false,
     "start_time": "2022-03-17T01:59:00.082556",
     "status": "completed"
    },
    "tags": []
   },
   "outputs": [
    {
     "data": {
      "text/html": [
       "<div>\n",
       "<style scoped>\n",
       "    .dataframe tbody tr th:only-of-type {\n",
       "        vertical-align: middle;\n",
       "    }\n",
       "\n",
       "    .dataframe tbody tr th {\n",
       "        vertical-align: top;\n",
       "    }\n",
       "\n",
       "    .dataframe thead th {\n",
       "        text-align: right;\n",
       "    }\n",
       "</style>\n",
       "<table border=\"1\" class=\"dataframe\">\n",
       "  <thead>\n",
       "    <tr style=\"text-align: right;\">\n",
       "      <th></th>\n",
       "      <th>index</th>\n",
       "      <th>geometry</th>\n",
       "    </tr>\n",
       "  </thead>\n",
       "  <tbody>\n",
       "    <tr>\n",
       "      <th>0</th>\n",
       "      <td>EEZ</td>\n",
       "      <td>POLYGON ((188.63281 -22.23893, 188.62887 -22.2...</td>\n",
       "    </tr>\n",
       "  </tbody>\n",
       "</table>\n",
       "</div>"
      ],
      "text/plain": [
       "  index                                           geometry\n",
       "0   EEZ  POLYGON ((188.63281 -22.23893, 188.62887 -22.2..."
      ]
     },
     "execution_count": 50,
     "metadata": {},
     "output_type": "execute_result"
    }
   ],
   "source": [
    "merged_EEZs"
   ]
  },
  {
   "cell_type": "code",
   "execution_count": 51,
   "id": "f24d2f75",
   "metadata": {
    "execution": {
     "iopub.execute_input": "2022-03-17T01:59:00.290340Z",
     "iopub.status.busy": "2022-03-17T01:59:00.289963Z",
     "iopub.status.idle": "2022-03-17T01:59:00.373386Z",
     "shell.execute_reply": "2022-03-17T01:59:00.372967Z"
    },
    "papermill": {
     "duration": 0.129008,
     "end_time": "2022-03-17T01:59:00.373468",
     "exception": false,
     "start_time": "2022-03-17T01:59:00.244460",
     "status": "completed"
    },
    "tags": []
   },
   "outputs": [],
   "source": [
    "decile_map = geo.make_mask_from_gpd(decile_map, merged_EEZs, subset=False, insert=True)"
   ]
  },
  {
   "cell_type": "markdown",
   "id": "3c3c38b9-1466-4eb4-bb7f-8ca5a7bcce09",
   "metadata": {
    "papermill": {
     "duration": 0.043098,
     "end_time": "2022-03-17T01:59:00.459739",
     "exception": false,
     "start_time": "2022-03-17T01:59:00.416641",
     "status": "completed"
    },
    "tags": []
   },
   "source": [
    "### quick plot "
   ]
  },
  {
   "cell_type": "code",
   "execution_count": 52,
   "id": "49d2ecaa",
   "metadata": {
    "execution": {
     "iopub.execute_input": "2022-03-17T01:59:00.549673Z",
     "iopub.status.busy": "2022-03-17T01:59:00.549334Z",
     "iopub.status.idle": "2022-03-17T01:59:03.004831Z",
     "shell.execute_reply": "2022-03-17T01:59:03.004487Z"
    },
    "papermill": {
     "duration": 2.502459,
     "end_time": "2022-03-17T01:59:03.004914",
     "exception": false,
     "start_time": "2022-03-17T01:59:00.502455",
     "status": "completed"
    },
    "tags": []
   },
   "outputs": [
    {
     "data": {
      "text/plain": [
       "<matplotlib.collections.QuadMesh at 0x7f478595bd30>"
      ]
     },
     "execution_count": 52,
     "metadata": {},
     "output_type": "execute_result"
    },
    {
     "data": {
      "image/png": "[encoded data removed]",
      "text/plain": [
       "<Figure size 432x288 with 2 Axes>"
      ]
     },
     "metadata": {
      "needs_background": "light"
     },
     "output_type": "display_data"
    }
   ],
   "source": [
    "(decile_map['precip'] * decile_map['mask']).plot()"
   ]
  },
  {
   "cell_type": "code",
   "execution_count": 53,
   "id": "d03b184d",
   "metadata": {
    "execution": {
     "iopub.execute_input": "2022-03-17T01:59:03.097248Z",
     "iopub.status.busy": "2022-03-17T01:59:03.096909Z",
     "iopub.status.idle": "2022-03-17T01:59:03.114345Z",
     "shell.execute_reply": "2022-03-17T01:59:03.113992Z"
    },
    "papermill": {
     "duration": 0.064569,
     "end_time": "2022-03-17T01:59:03.114429",
     "exception": false,
     "start_time": "2022-03-17T01:59:03.049860",
     "status": "completed"
    },
    "tags": []
   },
   "outputs": [],
   "source": [
    "month_name = list(month_name)"
   ]
  },
  {
   "cell_type": "code",
   "execution_count": 54,
   "id": "48622fa6",
   "metadata": {
    "execution": {
     "iopub.execute_input": "2022-03-17T01:59:03.206993Z",
     "iopub.status.busy": "2022-03-17T01:59:03.206618Z",
     "iopub.status.idle": "2022-03-17T01:59:03.224500Z",
     "shell.execute_reply": "2022-03-17T01:59:03.224129Z"
    },
    "papermill": {
     "duration": 0.064534,
     "end_time": "2022-03-17T01:59:03.224585",
     "exception": false,
     "start_time": "2022-03-17T01:59:03.160051",
     "status": "completed"
    },
    "tags": []
   },
   "outputs": [],
   "source": [
    "month_name += month_name[1:]"
   ]
  },
  {
   "cell_type": "code",
   "execution_count": 55,
   "id": "86912e97",
   "metadata": {
    "execution": {
     "iopub.execute_input": "2022-03-17T01:59:03.315751Z",
     "iopub.status.busy": "2022-03-17T01:59:03.315408Z",
     "iopub.status.idle": "2022-03-17T01:59:03.333571Z",
     "shell.execute_reply": "2022-03-17T01:59:03.333219Z"
    },
    "papermill": {
     "duration": 0.065128,
     "end_time": "2022-03-17T01:59:03.333653",
     "exception": false,
     "start_time": "2022-03-17T01:59:03.268525",
     "status": "completed"
    },
    "tags": []
   },
   "outputs": [],
   "source": [
    "if period == 'monthly': \n",
    "    label_period = month_name[month + step]\n",
    "elif period == 'seasonal': \n",
    "    label_period = month_name[month + step - 2] + \" - \" + month_name[month + step]"
   ]
  },
  {
   "cell_type": "code",
   "execution_count": 56,
   "id": "c991af60",
   "metadata": {
    "execution": {
     "iopub.execute_input": "2022-03-17T01:59:03.423889Z",
     "iopub.status.busy": "2022-03-17T01:59:03.423548Z",
     "iopub.status.idle": "2022-03-17T01:59:03.441534Z",
     "shell.execute_reply": "2022-03-17T01:59:03.441263Z"
    },
    "papermill": {
     "duration": 0.064112,
     "end_time": "2022-03-17T01:59:03.441616",
     "exception": false,
     "start_time": "2022-03-17T01:59:03.377504",
     "status": "completed"
    },
    "tags": []
   },
   "outputs": [
    {
     "data": {
      "text/plain": [
       "3"
      ]
     },
     "execution_count": 56,
     "metadata": {},
     "output_type": "execute_result"
    }
   ],
   "source": [
    "step"
   ]
  },
  {
   "cell_type": "code",
   "execution_count": 57,
   "id": "a1efe919",
   "metadata": {
    "execution": {
     "iopub.execute_input": "2022-03-17T01:59:03.531890Z",
     "iopub.status.busy": "2022-03-17T01:59:03.531556Z",
     "iopub.status.idle": "2022-03-17T01:59:03.549734Z",
     "shell.execute_reply": "2022-03-17T01:59:03.549398Z"
    },
    "papermill": {
     "duration": 0.064635,
     "end_time": "2022-03-17T01:59:03.549811",
     "exception": false,
     "start_time": "2022-03-17T01:59:03.485176",
     "status": "completed"
    },
    "tags": []
   },
   "outputs": [
    {
     "data": {
      "text/plain": [
       "'April - June'"
      ]
     },
     "execution_count": 57,
     "metadata": {},
     "output_type": "execute_result"
    }
   ],
   "source": [
    "label_period"
   ]
  },
  {
   "cell_type": "code",
   "execution_count": 58,
   "id": "f25be321",
   "metadata": {
    "execution": {
     "iopub.execute_input": "2022-03-17T01:59:03.643968Z",
     "iopub.status.busy": "2022-03-17T01:59:03.643628Z",
     "iopub.status.idle": "2022-03-17T01:59:10.722433Z",
     "shell.execute_reply": "2022-03-17T01:59:10.722979Z"
    },
    "papermill": {
     "duration": 7.127934,
     "end_time": "2022-03-17T01:59:10.723160",
     "exception": false,
     "start_time": "2022-03-17T01:59:03.595226",
     "status": "completed"
    },
    "tags": []
   },
   "outputs": [
    {
     "data": {
      "image/png": "[encoded data removed]",
      "text/plain": [
       "<Figure size 1008x576 with 1 Axes>"
      ]
     },
     "metadata": {
      "needs_background": "light"
     },
     "output_type": "display_data"
    }
   ],
   "source": [
    "f, ax = plt.subplots(subplot_kw=dict(projection=ccrs.PlateCarree(central_longitude=180)), figsize=(14,8))\n",
    "\n",
    "ff = (decile_map['precip'] * decile_map['mask']).plot.contourf(ax=ax, levels=thresholds, cmap=cmap, transform=ccrs.PlateCarree(), add_colorbar=False)\n",
    "\n",
    "ax.coastlines(resolution='10m', lw=0.5)\n",
    "\n",
    "ax.set_title('')\n",
    "\n",
    "cbar_kwargs={'shrink':0.5, 'pad':0.01, 'extend':'neither', 'drawedges':True, 'ticks':ticks, 'aspect':15}\n",
    "\n",
    "cbar_ax = ax.axes.inset_axes([0.9, 0.525, 0.025, 0.38])\n",
    "\n",
    "cb = plt.colorbar(ff, cax=cbar_ax, **cbar_kwargs)\n",
    "\n",
    "cb.ax.minorticks_off()\n",
    "\n",
    "cbar_ax.set_yticklabels(cbar_ticklabels)\n",
    "\n",
    "plot.add_geom(ax, geoms=EEZs)\n",
    "\n",
    "title = f\"Decile precipitation forecast\\n{label_period}\"\n",
    "\n",
    "ax.text(0.99, 0.95, title, fontsize=13, fontdict={'color':'k'}, bbox=dict(facecolor='w', edgecolor='w'), horizontalalignment='right', verticalalignment='center', transform=ax.transAxes)\n",
    "\n",
    "ax.text(0.01, 0.02, u'\\u00A9'+\" NIWA\", transform=ax.transAxes, bbox=dict(facecolor='w', edgecolor='w'), fontdict=dict(color='0.4'))\n",
    "\n",
    "# ax.text(0.99, 0.02, \"(first decile value where cumulative probability reaches 50%)\",transform=ax.transAxes, horizontalalignment='right')\n",
    "\n",
    "ax.set_extent(domain, crs = ccrs.PlateCarree())"
   ]
  },
  {
   "cell_type": "markdown",
   "id": "117edf23-fd48-4927-bd27-006a3c518747",
   "metadata": {
    "papermill": {
     "duration": 0.046753,
     "end_time": "2022-03-17T01:59:10.820704",
     "exception": false,
     "start_time": "2022-03-17T01:59:10.773951",
     "status": "completed"
    },
    "tags": []
   },
   "source": [
    "### save figures to disk "
   ]
  },
  {
   "cell_type": "code",
   "execution_count": 59,
   "id": "9afbebdf",
   "metadata": {
    "execution": {
     "iopub.execute_input": "2022-03-17T01:59:10.916977Z",
     "iopub.status.busy": "2022-03-17T01:59:10.916629Z",
     "iopub.status.idle": "2022-03-17T01:59:11.302016Z",
     "shell.execute_reply": "2022-03-17T01:59:11.301644Z"
    },
    "papermill": {
     "duration": 0.434565,
     "end_time": "2022-03-17T01:59:11.302100",
     "exception": false,
     "start_time": "2022-03-17T01:59:10.867535",
     "status": "completed"
    },
    "tags": []
   },
   "outputs": [],
   "source": [
    "f.savefig(fpath.joinpath(f'decile_forecast_prototype_{period}_{year}_{month:02d}_init_{label_period.replace(\" - \",\"_\")}.png'), dpi=200, facecolor='w', bbox_inches='tight')\n",
    "f.savefig(fpath_web.joinpath(f'decile_forecast_prototype_{period}_lead{lead}_latest.png'), dpi=200, facecolor='w', bbox_inches='tight')"
   ]
  }
 ],
 "metadata": {
  "interpreter": {
   "hash": "df53d632f991ae6da976d69f0a13fc423563be07cde77240b1fc66d1fa832155"
  },
  "kernelspec": {
   "display_name": "Python 3 (ipykernel)",
   "language": "python",
   "name": "python3"
  },
  "language_info": {
   "codemirror_mode": {
    "name": "ipython",
    "version": 3
   },
   "file_extension": ".py",
   "mimetype": "text/x-python",
   "name": "python",
   "nbconvert_exporter": "python",
   "pygments_lexer": "ipython3",
   "version": "3.9.10"
  },
  "papermill": {
   "default_parameters": {},
   "duration": 42.801881,
   "end_time": "2022-03-17T01:59:12.537653",
   "environment_variables": {},
   "exception": null,
   "input_path": "6_map_C3S_MME_probabilistic_decile_forecast.ipynb",
   "output_path": "6_map_C3S_MME_probabilistic_decile_forecast.ipynb",
   "parameters": {
    "lead": 3,
    "period": "seasonal"
   },
   "start_time": "2022-03-17T01:58:29.735772",
   "version": "2.3.3"
  }
 },
 "nbformat": 4,
 "nbformat_minor": 5
}
