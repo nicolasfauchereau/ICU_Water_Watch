{
 "cells": [
  {
   "cell_type": "markdown",
   "id": "439f8645-0cc7-4d39-8af3-18702600a2f2",
   "metadata": {
    "papermill": {
     "duration": 0.037222,
     "end_time": "2022-04-29T06:45:23.597157",
     "exception": false,
     "start_time": "2022-04-29T06:45:23.559935",
     "status": "completed"
    },
    "tags": []
   },
   "source": [
    "# map the decile probabilistic forecast (1st decile category where cumulative probability reaches 50%) from the C3S MME "
   ]
  },
  {
   "cell_type": "code",
   "execution_count": 1,
   "id": "3c3bb7f3",
   "metadata": {
    "execution": {
     "iopub.execute_input": "2022-04-29T06:45:23.628827Z",
     "iopub.status.busy": "2022-04-29T06:45:23.628652Z",
     "iopub.status.idle": "2022-04-29T06:45:23.640443Z",
     "shell.execute_reply": "2022-04-29T06:45:23.639657Z"
    },
    "papermill": {
     "duration": 0.02905,
     "end_time": "2022-04-29T06:45:23.641880",
     "exception": false,
     "start_time": "2022-04-29T06:45:23.612830",
     "status": "completed"
    },
    "tags": []
   },
   "outputs": [],
   "source": [
    "%load_ext autoreload\n",
    "%autoreload 2"
   ]
  },
  {
   "cell_type": "code",
   "execution_count": 2,
   "id": "e039d488",
   "metadata": {
    "execution": {
     "iopub.execute_input": "2022-04-29T06:45:23.659235Z",
     "iopub.status.busy": "2022-04-29T06:45:23.659096Z",
     "iopub.status.idle": "2022-04-29T06:45:23.857774Z",
     "shell.execute_reply": "2022-04-29T06:45:23.857439Z"
    },
    "papermill": {
     "duration": 0.208514,
     "end_time": "2022-04-29T06:45:23.858955",
     "exception": false,
     "start_time": "2022-04-29T06:45:23.650441",
     "status": "completed"
    },
    "tags": []
   },
   "outputs": [],
   "source": [
    "import matplotlib"
   ]
  },
  {
   "cell_type": "code",
   "execution_count": 3,
   "id": "3eb63822",
   "metadata": {
    "execution": {
     "iopub.execute_input": "2022-04-29T06:45:23.879610Z",
     "iopub.status.busy": "2022-04-29T06:45:23.879449Z",
     "iopub.status.idle": "2022-04-29T06:45:25.160008Z",
     "shell.execute_reply": "2022-04-29T06:45:25.159471Z"
    },
    "papermill": {
     "duration": 1.29413,
     "end_time": "2022-04-29T06:45:25.161313",
     "exception": false,
     "start_time": "2022-04-29T06:45:23.867183",
     "status": "completed"
    },
    "tags": []
   },
   "outputs": [],
   "source": [
    "# %matplotlib widget\n",
    "%matplotlib inline\n",
    "\n",
    "### os \n",
    "import os \n",
    "import sys\n",
    "\n",
    "### datetimes \n",
    "from datetime import datetime, timedelta\n",
    "from dateutil.relativedelta import relativedelta\n",
    "from calendar import month_name, month_abbr\n",
    "import dateparser\n",
    "\n",
    "### scipy \n",
    "import numpy as np \n",
    "import pandas as pd\n",
    "import xarray as xr\n",
    "from cartopy import crs as ccrs\n",
    "\n",
    "### plotting \n",
    "from matplotlib import pyplot as plt\n",
    "import palettable"
   ]
  },
  {
   "cell_type": "code",
   "execution_count": 4,
   "id": "1c902a1d",
   "metadata": {
    "execution": {
     "iopub.execute_input": "2022-04-29T06:45:25.178915Z",
     "iopub.status.busy": "2022-04-29T06:45:25.178766Z",
     "iopub.status.idle": "2022-04-29T06:45:25.194090Z",
     "shell.execute_reply": "2022-04-29T06:45:25.193648Z"
    },
    "papermill": {
     "duration": 0.026118,
     "end_time": "2022-04-29T06:45:25.195534",
     "exception": false,
     "start_time": "2022-04-29T06:45:25.169416",
     "status": "completed"
    },
    "tags": []
   },
   "outputs": [],
   "source": [
    "import pathlib\n",
    "\n",
    "HOME = pathlib.Path.home()\n",
    "CWD = pathlib.Path.cwd() "
   ]
  },
  {
   "cell_type": "markdown",
   "id": "6a2ebc74",
   "metadata": {
    "papermill": {
     "duration": 0.008065,
     "end_time": "2022-04-29T06:45:25.211818",
     "exception": false,
     "start_time": "2022-04-29T06:45:25.203753",
     "status": "completed"
    },
    "tags": []
   },
   "source": [
    "### import local functions for the downloading of the C3S forecasts "
   ]
  },
  {
   "cell_type": "code",
   "execution_count": 5,
   "id": "c55e4025",
   "metadata": {
    "execution": {
     "iopub.execute_input": "2022-04-29T06:45:25.228874Z",
     "iopub.status.busy": "2022-04-29T06:45:25.228723Z",
     "iopub.status.idle": "2022-04-29T06:45:25.242775Z",
     "shell.execute_reply": "2022-04-29T06:45:25.242324Z"
    },
    "papermill": {
     "duration": 0.02392,
     "end_time": "2022-04-29T06:45:25.243849",
     "exception": false,
     "start_time": "2022-04-29T06:45:25.219929",
     "status": "completed"
    },
    "tags": []
   },
   "outputs": [],
   "source": [
    "sys.path.append('../..')"
   ]
  },
  {
   "cell_type": "code",
   "execution_count": 6,
   "id": "4a1333ed",
   "metadata": {
    "execution": {
     "iopub.execute_input": "2022-04-29T06:45:25.260064Z",
     "iopub.status.busy": "2022-04-29T06:45:25.259935Z",
     "iopub.status.idle": "2022-04-29T06:45:37.445143Z",
     "shell.execute_reply": "2022-04-29T06:45:37.444648Z"
    },
    "papermill": {
     "duration": 12.194644,
     "end_time": "2022-04-29T06:45:37.446328",
     "exception": false,
     "start_time": "2022-04-29T06:45:25.251684",
     "status": "completed"
    },
    "tags": []
   },
   "outputs": [],
   "source": [
    "from ICU_Water_Watch import geo, C3S, domains, plot, utils"
   ]
  },
  {
   "cell_type": "code",
   "execution_count": 7,
   "id": "58dfa13b",
   "metadata": {
    "execution": {
     "iopub.execute_input": "2022-04-29T06:45:37.464146Z",
     "iopub.status.busy": "2022-04-29T06:45:37.463997Z",
     "iopub.status.idle": "2022-04-29T06:45:37.485451Z",
     "shell.execute_reply": "2022-04-29T06:45:37.484955Z"
    },
    "papermill": {
     "duration": 0.031946,
     "end_time": "2022-04-29T06:45:37.486546",
     "exception": false,
     "start_time": "2022-04-29T06:45:37.454600",
     "status": "completed"
    },
    "tags": []
   },
   "outputs": [
    {
     "data": {
      "text/plain": [
       "{'Tropical_Pacific': [140, 220, -25, 25],\n",
       " 'SW_Pacific': [172.5, 190, -22.5, -12],\n",
       " 'Fiji': [175, 183, -21, -15],\n",
       " 'NZ': [161, 181, -50, -30],\n",
       " 'Pacific': [140, 240, -50, 25],\n",
       " 'C3S_download': [100, 240, -50, 30],\n",
       " 'Water_Watch': [125, 240, -35, 25]}"
      ]
     },
     "execution_count": 7,
     "metadata": {},
     "output_type": "execute_result"
    }
   ],
   "source": [
    "domains.domains"
   ]
  },
  {
   "cell_type": "markdown",
   "id": "69388ae5",
   "metadata": {
    "papermill": {
     "duration": 0.007781,
     "end_time": "2022-04-29T06:45:37.502700",
     "exception": false,
     "start_time": "2022-04-29T06:45:37.494919",
     "status": "completed"
    },
    "tags": []
   },
   "source": [
    "### parameters for papermill"
   ]
  },
  {
   "cell_type": "code",
   "execution_count": 8,
   "id": "327a855c-0ad6-476b-850a-b67328507b29",
   "metadata": {
    "execution": {
     "iopub.execute_input": "2022-04-29T06:45:37.519506Z",
     "iopub.status.busy": "2022-04-29T06:45:37.519360Z",
     "iopub.status.idle": "2022-04-29T06:45:37.538041Z",
     "shell.execute_reply": "2022-04-29T06:45:37.537605Z"
    },
    "papermill": {
     "duration": 0.028706,
     "end_time": "2022-04-29T06:45:37.539273",
     "exception": false,
     "start_time": "2022-04-29T06:45:37.510567",
     "status": "completed"
    },
    "tags": [
     "parameters"
    ]
   },
   "outputs": [],
   "source": [
    "provider = 'CDS' # should not change\n",
    "domain_name = 'Water_Watch' # domain name for plotting, see `domains` module\n",
    "period = \"monthly\"\n",
    "lag = 0 # lag with respect to current month\n",
    "lead = 1 # lead time (month or season)\n",
    "quantile = 'decile' # should stay at \"decile\"\n",
    "varfname = 'tprate' # variable reference in the filenames\n",
    "varname = 'precip' # variable name in the forecast probabilities\n",
    "dpath_shapes = '/home/nicolasf/operational/ICU/development/hotspots/data/shapefiles' # shapes for the Pacific countries EEZs\n",
    "dpath_forecasts = '/home/nicolasf/operational/ICU/development/hotspots/code/ICU_Water_Watch/outputs/C3S' # forecast probabilities\n",
    "outputs_path = '/home/nicolasf/operational/ICU/development/hotspots/code/ICU_Water_Watch/outputs/C3S'\n",
    "fpath = '/home/nicolasf/operational/ICU/development/hotspots/code/ICU_Water_Watch/figures/C3S' # paths for the figures \n",
    "fpath_web = '/home/nicolasf/operational/ICU_Web/C3S/' # path for the figures for the web "
   ]
  },
  {
   "cell_type": "code",
   "execution_count": 9,
   "id": "e909b6dd",
   "metadata": {
    "execution": {
     "iopub.execute_input": "2022-04-29T06:45:37.556097Z",
     "iopub.status.busy": "2022-04-29T06:45:37.555966Z",
     "iopub.status.idle": "2022-04-29T06:45:37.573325Z",
     "shell.execute_reply": "2022-04-29T06:45:37.572932Z"
    },
    "papermill": {
     "duration": 0.026985,
     "end_time": "2022-04-29T06:45:37.574345",
     "exception": false,
     "start_time": "2022-04-29T06:45:37.547360",
     "status": "completed"
    },
    "tags": [
     "injected-parameters"
    ]
   },
   "outputs": [],
   "source": [
    "# Parameters\n",
    "period = \"seasonal\"\n",
    "lead = 3\n"
   ]
  },
  {
   "cell_type": "markdown",
   "id": "8d045738",
   "metadata": {
    "papermill": {
     "duration": 0.008678,
     "end_time": "2022-04-29T06:45:37.591240",
     "exception": false,
     "start_time": "2022-04-29T06:45:37.582562",
     "status": "completed"
    },
    "tags": []
   },
   "source": [
    "### casts the paths to pathlib.Paths "
   ]
  },
  {
   "cell_type": "code",
   "execution_count": 10,
   "id": "55896a49",
   "metadata": {
    "execution": {
     "iopub.execute_input": "2022-04-29T06:45:37.609153Z",
     "iopub.status.busy": "2022-04-29T06:45:37.609003Z",
     "iopub.status.idle": "2022-04-29T06:45:37.627880Z",
     "shell.execute_reply": "2022-04-29T06:45:37.627451Z"
    },
    "papermill": {
     "duration": 0.029417,
     "end_time": "2022-04-29T06:45:37.629099",
     "exception": false,
     "start_time": "2022-04-29T06:45:37.599682",
     "status": "completed"
    },
    "tags": []
   },
   "outputs": [],
   "source": [
    "dpath_shapes = pathlib.Path(dpath_shapes)\n",
    "dpath_forecasts = pathlib.Path(dpath_forecasts)\n",
    "outputs_path = pathlib.Path(outputs_path)\n",
    "fpath = pathlib.Path(fpath)\n",
    "fpath_web = pathlib.Path(fpath_web)"
   ]
  },
  {
   "cell_type": "code",
   "execution_count": 11,
   "id": "cea37c10-08b7-46a0-acc4-29f28ea601a9",
   "metadata": {
    "execution": {
     "iopub.execute_input": "2022-04-29T06:45:37.646204Z",
     "iopub.status.busy": "2022-04-29T06:45:37.646062Z",
     "iopub.status.idle": "2022-04-29T06:45:37.663622Z",
     "shell.execute_reply": "2022-04-29T06:45:37.663254Z"
    },
    "papermill": {
     "duration": 0.027434,
     "end_time": "2022-04-29T06:45:37.664751",
     "exception": false,
     "start_time": "2022-04-29T06:45:37.637317",
     "status": "completed"
    },
    "tags": []
   },
   "outputs": [],
   "source": [
    "if not fpath_web.exists(): \n",
    "    fpath_web.mkdir(parents=True)"
   ]
  },
  {
   "cell_type": "markdown",
   "id": "9ff5453a",
   "metadata": {
    "papermill": {
     "duration": 0.00797,
     "end_time": "2022-04-29T06:45:37.680836",
     "exception": false,
     "start_time": "2022-04-29T06:45:37.672866",
     "status": "completed"
    },
    "tags": []
   },
   "source": [
    "### domain "
   ]
  },
  {
   "cell_type": "code",
   "execution_count": 12,
   "id": "597167c6",
   "metadata": {
    "execution": {
     "iopub.execute_input": "2022-04-29T06:45:37.698371Z",
     "iopub.status.busy": "2022-04-29T06:45:37.698222Z",
     "iopub.status.idle": "2022-04-29T06:45:37.716145Z",
     "shell.execute_reply": "2022-04-29T06:45:37.715722Z"
    },
    "papermill": {
     "duration": 0.029047,
     "end_time": "2022-04-29T06:45:37.717926",
     "exception": false,
     "start_time": "2022-04-29T06:45:37.688879",
     "status": "completed"
    },
    "tags": []
   },
   "outputs": [],
   "source": [
    "domain = domains.domains[domain_name]"
   ]
  },
  {
   "cell_type": "markdown",
   "id": "637862d4",
   "metadata": {
    "papermill": {
     "duration": 0.00791,
     "end_time": "2022-04-29T06:45:37.734099",
     "exception": false,
     "start_time": "2022-04-29T06:45:37.726189",
     "status": "completed"
    },
    "tags": []
   },
   "source": [
    "### EEZ shapes "
   ]
  },
  {
   "cell_type": "code",
   "execution_count": 13,
   "id": "39d1c009",
   "metadata": {
    "execution": {
     "iopub.execute_input": "2022-04-29T06:45:37.750823Z",
     "iopub.status.busy": "2022-04-29T06:45:37.750670Z",
     "iopub.status.idle": "2022-04-29T06:45:37.788126Z",
     "shell.execute_reply": "2022-04-29T06:45:37.787704Z"
    },
    "papermill": {
     "duration": 0.047326,
     "end_time": "2022-04-29T06:45:37.789309",
     "exception": false,
     "start_time": "2022-04-29T06:45:37.741983",
     "status": "completed"
    },
    "tags": []
   },
   "outputs": [],
   "source": [
    "EEZs, merged_EEZs = geo.get_EEZs(dpath_shapes)"
   ]
  },
  {
   "cell_type": "markdown",
   "id": "b3a93a05-7b4a-4b86-8827-6e6bfcff5641",
   "metadata": {
    "papermill": {
     "duration": 0.008388,
     "end_time": "2022-04-29T06:45:37.806598",
     "exception": false,
     "start_time": "2022-04-29T06:45:37.798210",
     "status": "completed"
    },
    "tags": []
   },
   "source": [
    "### year and month (initial month of the forecast)"
   ]
  },
  {
   "cell_type": "code",
   "execution_count": 14,
   "id": "c3cd3990-45b7-4ded-850c-728d745f4506",
   "metadata": {
    "execution": {
     "iopub.execute_input": "2022-04-29T06:45:37.824715Z",
     "iopub.status.busy": "2022-04-29T06:45:37.824565Z",
     "iopub.status.idle": "2022-04-29T06:45:37.868409Z",
     "shell.execute_reply": "2022-04-29T06:45:37.868028Z"
    },
    "papermill": {
     "duration": 0.054448,
     "end_time": "2022-04-29T06:45:37.869622",
     "exception": false,
     "start_time": "2022-04-29T06:45:37.815174",
     "status": "completed"
    },
    "tags": []
   },
   "outputs": [],
   "source": [
    "date = dateparser.parse('today')"
   ]
  },
  {
   "cell_type": "code",
   "execution_count": 15,
   "id": "04f485ee-1aca-473c-8755-13064912d182",
   "metadata": {
    "execution": {
     "iopub.execute_input": "2022-04-29T06:45:37.886781Z",
     "iopub.status.busy": "2022-04-29T06:45:37.886641Z",
     "iopub.status.idle": "2022-04-29T06:45:37.904232Z",
     "shell.execute_reply": "2022-04-29T06:45:37.903847Z"
    },
    "papermill": {
     "duration": 0.027515,
     "end_time": "2022-04-29T06:45:37.905439",
     "exception": false,
     "start_time": "2022-04-29T06:45:37.877924",
     "status": "completed"
    },
    "tags": []
   },
   "outputs": [],
   "source": [
    "date = date - relativedelta(months=lag)"
   ]
  },
  {
   "cell_type": "code",
   "execution_count": 16,
   "id": "ce3f894d-e08f-44c4-95ac-f5830c6407f6",
   "metadata": {
    "execution": {
     "iopub.execute_input": "2022-04-29T06:45:37.923431Z",
     "iopub.status.busy": "2022-04-29T06:45:37.923275Z",
     "iopub.status.idle": "2022-04-29T06:45:37.941563Z",
     "shell.execute_reply": "2022-04-29T06:45:37.941085Z"
    },
    "papermill": {
     "duration": 0.028852,
     "end_time": "2022-04-29T06:45:37.942732",
     "exception": false,
     "start_time": "2022-04-29T06:45:37.913880",
     "status": "completed"
    },
    "tags": []
   },
   "outputs": [],
   "source": [
    "year = date.year \n",
    "month = date.month"
   ]
  },
  {
   "cell_type": "code",
   "execution_count": 17,
   "id": "11d32255-58ed-4d95-afab-952f6ba2a4a3",
   "metadata": {
    "execution": {
     "iopub.execute_input": "2022-04-29T06:45:37.961032Z",
     "iopub.status.busy": "2022-04-29T06:45:37.960881Z",
     "iopub.status.idle": "2022-04-29T06:45:37.978558Z",
     "shell.execute_reply": "2022-04-29T06:45:37.978117Z"
    },
    "papermill": {
     "duration": 0.027586,
     "end_time": "2022-04-29T06:45:37.979531",
     "exception": false,
     "start_time": "2022-04-29T06:45:37.951945",
     "status": "completed"
    },
    "tags": []
   },
   "outputs": [
    {
     "name": "stdout",
     "output_type": "stream",
     "text": [
      "2022 - 4\n"
     ]
    }
   ],
   "source": [
    "print(f\"{year} - {month}\")"
   ]
  },
  {
   "cell_type": "markdown",
   "id": "1c9955f7",
   "metadata": {
    "papermill": {
     "duration": 0.008565,
     "end_time": "2022-04-29T06:45:37.996395",
     "exception": false,
     "start_time": "2022-04-29T06:45:37.987830",
     "status": "completed"
    },
    "tags": []
   },
   "source": [
    "#### list of GCMs to inlude "
   ]
  },
  {
   "cell_type": "code",
   "execution_count": 18,
   "id": "727dd670",
   "metadata": {
    "execution": {
     "iopub.execute_input": "2022-04-29T06:45:38.014061Z",
     "iopub.status.busy": "2022-04-29T06:45:38.013914Z",
     "iopub.status.idle": "2022-04-29T06:45:38.031482Z",
     "shell.execute_reply": "2022-04-29T06:45:38.031006Z"
    },
    "papermill": {
     "duration": 0.028091,
     "end_time": "2022-04-29T06:45:38.032573",
     "exception": false,
     "start_time": "2022-04-29T06:45:38.004482",
     "status": "completed"
    },
    "tags": []
   },
   "outputs": [],
   "source": [
    "list_GCMs = ['ECMWF','UKMO','METEO_FRANCE','CMCC','DWD', 'NCEP', 'JMA', 'ECCC_CanCM4i', 'ECCC_GEM_NEMO']"
   ]
  },
  {
   "cell_type": "markdown",
   "id": "d4744c4d",
   "metadata": {
    "papermill": {
     "duration": 0.008445,
     "end_time": "2022-04-29T06:45:38.049433",
     "exception": false,
     "start_time": "2022-04-29T06:45:38.040988",
     "status": "completed"
    },
    "tags": []
   },
   "source": [
    "### what is the first step and the number of steps in either the monthly or seasonal forecasts "
   ]
  },
  {
   "cell_type": "code",
   "execution_count": 19,
   "id": "de1163fc",
   "metadata": {
    "execution": {
     "iopub.execute_input": "2022-04-29T06:45:38.067714Z",
     "iopub.status.busy": "2022-04-29T06:45:38.067562Z",
     "iopub.status.idle": "2022-04-29T06:45:38.085529Z",
     "shell.execute_reply": "2022-04-29T06:45:38.085038Z"
    },
    "papermill": {
     "duration": 0.028977,
     "end_time": "2022-04-29T06:45:38.086724",
     "exception": false,
     "start_time": "2022-04-29T06:45:38.057747",
     "status": "completed"
    },
    "tags": []
   },
   "outputs": [],
   "source": [
    "if period == 'seasonal': \n",
    "    nsteps = 3\n",
    "    first_step = 3\n",
    "elif period == 'monthly': \n",
    "    nsteps = 5\n",
    "    first_step = 1"
   ]
  },
  {
   "cell_type": "code",
   "execution_count": 20,
   "id": "b94416aa",
   "metadata": {
    "execution": {
     "iopub.execute_input": "2022-04-29T06:45:38.104687Z",
     "iopub.status.busy": "2022-04-29T06:45:38.104544Z",
     "iopub.status.idle": "2022-04-29T06:45:38.122213Z",
     "shell.execute_reply": "2022-04-29T06:45:38.121756Z"
    },
    "papermill": {
     "duration": 0.027555,
     "end_time": "2022-04-29T06:45:38.123362",
     "exception": false,
     "start_time": "2022-04-29T06:45:38.095807",
     "status": "completed"
    },
    "tags": []
   },
   "outputs": [],
   "source": [
    "step = lead + first_step - 1"
   ]
  },
  {
   "cell_type": "code",
   "execution_count": 21,
   "id": "46081778",
   "metadata": {
    "execution": {
     "iopub.execute_input": "2022-04-29T06:45:38.140556Z",
     "iopub.status.busy": "2022-04-29T06:45:38.140419Z",
     "iopub.status.idle": "2022-04-29T06:45:38.158402Z",
     "shell.execute_reply": "2022-04-29T06:45:38.157984Z"
    },
    "papermill": {
     "duration": 0.027755,
     "end_time": "2022-04-29T06:45:38.159373",
     "exception": false,
     "start_time": "2022-04-29T06:45:38.131618",
     "status": "completed"
    },
    "tags": []
   },
   "outputs": [
    {
     "data": {
      "text/plain": [
       "5"
      ]
     },
     "execution_count": 21,
     "metadata": {},
     "output_type": "execute_result"
    }
   ],
   "source": [
    "step"
   ]
  },
  {
   "cell_type": "markdown",
   "id": "c7cba0b6",
   "metadata": {
    "papermill": {
     "duration": 0.008644,
     "end_time": "2022-04-29T06:45:38.176436",
     "exception": false,
     "start_time": "2022-04-29T06:45:38.167792",
     "status": "completed"
    },
    "tags": []
   },
   "source": [
    "### paths to the realtime forecasts"
   ]
  },
  {
   "cell_type": "code",
   "execution_count": 22,
   "id": "fc86f837",
   "metadata": {
    "execution": {
     "iopub.execute_input": "2022-04-29T06:45:38.195134Z",
     "iopub.status.busy": "2022-04-29T06:45:38.194986Z",
     "iopub.status.idle": "2022-04-29T06:45:38.214486Z",
     "shell.execute_reply": "2022-04-29T06:45:38.214033Z"
    },
    "papermill": {
     "duration": 0.030714,
     "end_time": "2022-04-29T06:45:38.215979",
     "exception": false,
     "start_time": "2022-04-29T06:45:38.185265",
     "status": "completed"
    },
    "tags": []
   },
   "outputs": [],
   "source": [
    "lfiles = list(dpath_forecasts.glob(f\"{period}_{varfname}_{quantile}s_probabilities_from_{year}-{str(month).zfill(2)}_*.netcdf\"))"
   ]
  },
  {
   "cell_type": "markdown",
   "id": "7f22329c",
   "metadata": {
    "papermill": {
     "duration": 0.008126,
     "end_time": "2022-04-29T06:45:38.232531",
     "exception": false,
     "start_time": "2022-04-29T06:45:38.224405",
     "status": "completed"
    },
    "tags": []
   },
   "source": [
    "### checks the files names "
   ]
  },
  {
   "cell_type": "code",
   "execution_count": 23,
   "id": "3145dc3d",
   "metadata": {
    "execution": {
     "iopub.execute_input": "2022-04-29T06:45:38.249591Z",
     "iopub.status.busy": "2022-04-29T06:45:38.249448Z",
     "iopub.status.idle": "2022-04-29T06:45:38.267667Z",
     "shell.execute_reply": "2022-04-29T06:45:38.267371Z"
    },
    "papermill": {
     "duration": 0.028092,
     "end_time": "2022-04-29T06:45:38.268686",
     "exception": false,
     "start_time": "2022-04-29T06:45:38.240594",
     "status": "completed"
    },
    "tags": []
   },
   "outputs": [
    {
     "data": {
      "text/plain": [
       "['seasonal_tprate_deciles_probabilities_from_2022-04_METEO_FRANCE.netcdf',\n",
       " 'seasonal_tprate_deciles_probabilities_from_2022-04_JMA.netcdf',\n",
       " 'seasonal_tprate_deciles_probabilities_from_2022-04_UKMO.netcdf',\n",
       " 'seasonal_tprate_deciles_probabilities_from_2022-04_NCEP.netcdf',\n",
       " 'seasonal_tprate_deciles_probabilities_from_2022-04_CMCC.netcdf',\n",
       " 'seasonal_tprate_deciles_probabilities_from_2022-04_ECMWF.netcdf',\n",
       " 'seasonal_tprate_deciles_probabilities_from_2022-04_ECCC_CanCM4i.netcdf',\n",
       " 'seasonal_tprate_deciles_probabilities_from_2022-04_ECCC_GEM_NEMO.netcdf',\n",
       " 'seasonal_tprate_deciles_probabilities_from_2022-04_DWD.netcdf']"
      ]
     },
     "execution_count": 23,
     "metadata": {},
     "output_type": "execute_result"
    }
   ],
   "source": [
    "[f.name for f in lfiles]"
   ]
  },
  {
   "cell_type": "markdown",
   "id": "998d717b",
   "metadata": {
    "papermill": {
     "duration": 0.008501,
     "end_time": "2022-04-29T06:45:38.285950",
     "exception": false,
     "start_time": "2022-04-29T06:45:38.277449",
     "status": "completed"
    },
    "tags": []
   },
   "source": [
    "### open the multiple files dataset, concatenate along the \"GCM\" dimension "
   ]
  },
  {
   "cell_type": "code",
   "execution_count": 24,
   "id": "cbfb2f51",
   "metadata": {
    "execution": {
     "iopub.execute_input": "2022-04-29T06:45:38.304846Z",
     "iopub.status.busy": "2022-04-29T06:45:38.304697Z",
     "iopub.status.idle": "2022-04-29T06:45:38.446920Z",
     "shell.execute_reply": "2022-04-29T06:45:38.446463Z"
    },
    "papermill": {
     "duration": 0.153137,
     "end_time": "2022-04-29T06:45:38.448180",
     "exception": false,
     "start_time": "2022-04-29T06:45:38.295043",
     "status": "completed"
    },
    "tags": []
   },
   "outputs": [],
   "source": [
    "probs = xr.open_mfdataset(lfiles, concat_dim='GCM', combine='nested', engine='netcdf4') "
   ]
  },
  {
   "cell_type": "code",
   "execution_count": 25,
   "id": "a6400684",
   "metadata": {
    "execution": {
     "iopub.execute_input": "2022-04-29T06:45:38.465500Z",
     "iopub.status.busy": "2022-04-29T06:45:38.465364Z",
     "iopub.status.idle": "2022-04-29T06:45:38.499177Z",
     "shell.execute_reply": "2022-04-29T06:45:38.498737Z"
    },
    "papermill": {
     "duration": 0.043741,
     "end_time": "2022-04-29T06:45:38.500219",
     "exception": false,
     "start_time": "2022-04-29T06:45:38.456478",
     "status": "completed"
    },
    "tags": []
   },
   "outputs": [
    {
     "data": {
      "text/html": [
       "<div><svg style=\"position: absolute; width: 0; height: 0; overflow: hidden\">\n",
       "<defs>\n",
       "<symbol id=\"icon-database\" viewBox=\"0 0 32 32\">\n",
       "<path d=\"M16 0c-8.837 0-16 2.239-16 5v4c0 2.761 7.163 5 16 5s16-2.239 16-5v-4c0-2.761-7.163-5-16-5z\"></path>\n",
       "<path d=\"M16 17c-8.837 0-16-2.239-16-5v6c0 2.761 7.163 5 16 5s16-2.239 16-5v-6c0 2.761-7.163 5-16 5z\"></path>\n",
       "<path d=\"M16 26c-8.837 0-16-2.239-16-5v6c0 2.761 7.163 5 16 5s16-2.239 16-5v-6c0 2.761-7.163 5-16 5z\"></path>\n",
       "</symbol>\n",
       "<symbol id=\"icon-file-text2\" viewBox=\"0 0 32 32\">\n",
       "<path d=\"M28.681 7.159c-0.694-0.947-1.662-2.053-2.724-3.116s-2.169-2.030-3.116-2.724c-1.612-1.182-2.393-1.319-2.841-1.319h-15.5c-1.378 0-2.5 1.121-2.5 2.5v27c0 1.378 1.122 2.5 2.5 2.5h23c1.378 0 2.5-1.122 2.5-2.5v-19.5c0-0.448-0.137-1.23-1.319-2.841zM24.543 5.457c0.959 0.959 1.712 1.825 2.268 2.543h-4.811v-4.811c0.718 0.556 1.584 1.309 2.543 2.268zM28 29.5c0 0.271-0.229 0.5-0.5 0.5h-23c-0.271 0-0.5-0.229-0.5-0.5v-27c0-0.271 0.229-0.5 0.5-0.5 0 0 15.499-0 15.5 0v7c0 0.552 0.448 1 1 1h7v19.5z\"></path>\n",
       "<path d=\"M23 26h-14c-0.552 0-1-0.448-1-1s0.448-1 1-1h14c0.552 0 1 0.448 1 1s-0.448 1-1 1z\"></path>\n",
       "<path d=\"M23 22h-14c-0.552 0-1-0.448-1-1s0.448-1 1-1h14c0.552 0 1 0.448 1 1s-0.448 1-1 1z\"></path>\n",
       "<path d=\"M23 18h-14c-0.552 0-1-0.448-1-1s0.448-1 1-1h14c0.552 0 1 0.448 1 1s-0.448 1-1 1z\"></path>\n",
       "</symbol>\n",
       "</defs>\n",
       "</svg>\n",
       "<style>/* CSS stylesheet for displaying xarray objects in jupyterlab.\n",
       " *\n",
       " */\n",
       "\n",
       ":root {\n",
       "  --xr-font-color0: var(--jp-content-font-color0, rgba(0, 0, 0, 1));\n",
       "  --xr-font-color2: var(--jp-content-font-color2, rgba(0, 0, 0, 0.54));\n",
       "  --xr-font-color3: var(--jp-content-font-color3, rgba(0, 0, 0, 0.38));\n",
       "  --xr-border-color: var(--jp-border-color2, #e0e0e0);\n",
       "  --xr-disabled-color: var(--jp-layout-color3, #bdbdbd);\n",
       "  --xr-background-color: var(--jp-layout-color0, white);\n",
       "  --xr-background-color-row-even: var(--jp-layout-color1, white);\n",
       "  --xr-background-color-row-odd: var(--jp-layout-color2, #eeeeee);\n",
       "}\n",
       "\n",
       "html[theme=dark],\n",
       "body.vscode-dark {\n",
       "  --xr-font-color0: rgba(255, 255, 255, 1);\n",
       "  --xr-font-color2: rgba(255, 255, 255, 0.54);\n",
       "  --xr-font-color3: rgba(255, 255, 255, 0.38);\n",
       "  --xr-border-color: #1F1F1F;\n",
       "  --xr-disabled-color: #515151;\n",
       "  --xr-background-color: #111111;\n",
       "  --xr-background-color-row-even: #111111;\n",
       "  --xr-background-color-row-odd: #313131;\n",
       "}\n",
       "\n",
       ".xr-wrap {\n",
       "  display: block !important;\n",
       "  min-width: 300px;\n",
       "  max-width: 700px;\n",
       "}\n",
       "\n",
       ".xr-text-repr-fallback {\n",
       "  /* fallback to plain text repr when CSS is not injected (untrusted notebook) */\n",
       "  display: none;\n",
       "}\n",
       "\n",
       ".xr-header {\n",
       "  padding-top: 6px;\n",
       "  padding-bottom: 6px;\n",
       "  margin-bottom: 4px;\n",
       "  border-bottom: solid 1px var(--xr-border-color);\n",
       "}\n",
       "\n",
       ".xr-header > div,\n",
       ".xr-header > ul {\n",
       "  display: inline;\n",
       "  margin-top: 0;\n",
       "  margin-bottom: 0;\n",
       "}\n",
       "\n",
       ".xr-obj-type,\n",
       ".xr-array-name {\n",
       "  margin-left: 2px;\n",
       "  margin-right: 10px;\n",
       "}\n",
       "\n",
       ".xr-obj-type {\n",
       "  color: var(--xr-font-color2);\n",
       "}\n",
       "\n",
       ".xr-sections {\n",
       "  padding-left: 0 !important;\n",
       "  display: grid;\n",
       "  grid-template-columns: 150px auto auto 1fr 20px 20px;\n",
       "}\n",
       "\n",
       ".xr-section-item {\n",
       "  display: contents;\n",
       "}\n",
       "\n",
       ".xr-section-item input {\n",
       "  display: none;\n",
       "}\n",
       "\n",
       ".xr-section-item input + label {\n",
       "  color: var(--xr-disabled-color);\n",
       "}\n",
       "\n",
       ".xr-section-item input:enabled + label {\n",
       "  cursor: pointer;\n",
       "  color: var(--xr-font-color2);\n",
       "}\n",
       "\n",
       ".xr-section-item input:enabled + label:hover {\n",
       "  color: var(--xr-font-color0);\n",
       "}\n",
       "\n",
       ".xr-section-summary {\n",
       "  grid-column: 1;\n",
       "  color: var(--xr-font-color2);\n",
       "  font-weight: 500;\n",
       "}\n",
       "\n",
       ".xr-section-summary > span {\n",
       "  display: inline-block;\n",
       "  padding-left: 0.5em;\n",
       "}\n",
       "\n",
       ".xr-section-summary-in:disabled + label {\n",
       "  color: var(--xr-font-color2);\n",
       "}\n",
       "\n",
       ".xr-section-summary-in + label:before {\n",
       "  display: inline-block;\n",
       "  content: '►';\n",
       "  font-size: 11px;\n",
       "  width: 15px;\n",
       "  text-align: center;\n",
       "}\n",
       "\n",
       ".xr-section-summary-in:disabled + label:before {\n",
       "  color: var(--xr-disabled-color);\n",
       "}\n",
       "\n",
       ".xr-section-summary-in:checked + label:before {\n",
       "  content: '▼';\n",
       "}\n",
       "\n",
       ".xr-section-summary-in:checked + label > span {\n",
       "  display: none;\n",
       "}\n",
       "\n",
       ".xr-section-summary,\n",
       ".xr-section-inline-details {\n",
       "  padding-top: 4px;\n",
       "  padding-bottom: 4px;\n",
       "}\n",
       "\n",
       ".xr-section-inline-details {\n",
       "  grid-column: 2 / -1;\n",
       "}\n",
       "\n",
       ".xr-section-details {\n",
       "  display: none;\n",
       "  grid-column: 1 / -1;\n",
       "  margin-bottom: 5px;\n",
       "}\n",
       "\n",
       ".xr-section-summary-in:checked ~ .xr-section-details {\n",
       "  display: contents;\n",
       "}\n",
       "\n",
       ".xr-array-wrap {\n",
       "  grid-column: 1 / -1;\n",
       "  display: grid;\n",
       "  grid-template-columns: 20px auto;\n",
       "}\n",
       "\n",
       ".xr-array-wrap > label {\n",
       "  grid-column: 1;\n",
       "  vertical-align: top;\n",
       "}\n",
       "\n",
       ".xr-preview {\n",
       "  color: var(--xr-font-color3);\n",
       "}\n",
       "\n",
       ".xr-array-preview,\n",
       ".xr-array-data {\n",
       "  padding: 0 5px !important;\n",
       "  grid-column: 2;\n",
       "}\n",
       "\n",
       ".xr-array-data,\n",
       ".xr-array-in:checked ~ .xr-array-preview {\n",
       "  display: none;\n",
       "}\n",
       "\n",
       ".xr-array-in:checked ~ .xr-array-data,\n",
       ".xr-array-preview {\n",
       "  display: inline-block;\n",
       "}\n",
       "\n",
       ".xr-dim-list {\n",
       "  display: inline-block !important;\n",
       "  list-style: none;\n",
       "  padding: 0 !important;\n",
       "  margin: 0;\n",
       "}\n",
       "\n",
       ".xr-dim-list li {\n",
       "  display: inline-block;\n",
       "  padding: 0;\n",
       "  margin: 0;\n",
       "}\n",
       "\n",
       ".xr-dim-list:before {\n",
       "  content: '(';\n",
       "}\n",
       "\n",
       ".xr-dim-list:after {\n",
       "  content: ')';\n",
       "}\n",
       "\n",
       ".xr-dim-list li:not(:last-child):after {\n",
       "  content: ',';\n",
       "  padding-right: 5px;\n",
       "}\n",
       "\n",
       ".xr-has-index {\n",
       "  font-weight: bold;\n",
       "}\n",
       "\n",
       ".xr-var-list,\n",
       ".xr-var-item {\n",
       "  display: contents;\n",
       "}\n",
       "\n",
       ".xr-var-item > div,\n",
       ".xr-var-item label,\n",
       ".xr-var-item > .xr-var-name span {\n",
       "  background-color: var(--xr-background-color-row-even);\n",
       "  margin-bottom: 0;\n",
       "}\n",
       "\n",
       ".xr-var-item > .xr-var-name:hover span {\n",
       "  padding-right: 5px;\n",
       "}\n",
       "\n",
       ".xr-var-list > li:nth-child(odd) > div,\n",
       ".xr-var-list > li:nth-child(odd) > label,\n",
       ".xr-var-list > li:nth-child(odd) > .xr-var-name span {\n",
       "  background-color: var(--xr-background-color-row-odd);\n",
       "}\n",
       "\n",
       ".xr-var-name {\n",
       "  grid-column: 1;\n",
       "}\n",
       "\n",
       ".xr-var-dims {\n",
       "  grid-column: 2;\n",
       "}\n",
       "\n",
       ".xr-var-dtype {\n",
       "  grid-column: 3;\n",
       "  text-align: right;\n",
       "  color: var(--xr-font-color2);\n",
       "}\n",
       "\n",
       ".xr-var-preview {\n",
       "  grid-column: 4;\n",
       "}\n",
       "\n",
       ".xr-var-name,\n",
       ".xr-var-dims,\n",
       ".xr-var-dtype,\n",
       ".xr-preview,\n",
       ".xr-attrs dt {\n",
       "  white-space: nowrap;\n",
       "  overflow: hidden;\n",
       "  text-overflow: ellipsis;\n",
       "  padding-right: 10px;\n",
       "}\n",
       "\n",
       ".xr-var-name:hover,\n",
       ".xr-var-dims:hover,\n",
       ".xr-var-dtype:hover,\n",
       ".xr-attrs dt:hover {\n",
       "  overflow: visible;\n",
       "  width: auto;\n",
       "  z-index: 1;\n",
       "}\n",
       "\n",
       ".xr-var-attrs,\n",
       ".xr-var-data {\n",
       "  display: none;\n",
       "  background-color: var(--xr-background-color) !important;\n",
       "  padding-bottom: 5px !important;\n",
       "}\n",
       "\n",
       ".xr-var-attrs-in:checked ~ .xr-var-attrs,\n",
       ".xr-var-data-in:checked ~ .xr-var-data {\n",
       "  display: block;\n",
       "}\n",
       "\n",
       ".xr-var-data > table {\n",
       "  float: right;\n",
       "}\n",
       "\n",
       ".xr-var-name span,\n",
       ".xr-var-data,\n",
       ".xr-attrs {\n",
       "  padding-left: 25px !important;\n",
       "}\n",
       "\n",
       ".xr-attrs,\n",
       ".xr-var-attrs,\n",
       ".xr-var-data {\n",
       "  grid-column: 1 / -1;\n",
       "}\n",
       "\n",
       "dl.xr-attrs {\n",
       "  padding: 0;\n",
       "  margin: 0;\n",
       "  display: grid;\n",
       "  grid-template-columns: 125px auto;\n",
       "}\n",
       "\n",
       ".xr-attrs dt,\n",
       ".xr-attrs dd {\n",
       "  padding: 0;\n",
       "  margin: 0;\n",
       "  float: left;\n",
       "  padding-right: 10px;\n",
       "  width: auto;\n",
       "}\n",
       "\n",
       ".xr-attrs dt {\n",
       "  font-weight: normal;\n",
       "  grid-column: 1;\n",
       "}\n",
       "\n",
       ".xr-attrs dt:hover span {\n",
       "  display: inline-block;\n",
       "  background: var(--xr-background-color);\n",
       "  padding-right: 10px;\n",
       "}\n",
       "\n",
       ".xr-attrs dd {\n",
       "  grid-column: 2;\n",
       "  white-space: pre-wrap;\n",
       "  word-break: break-all;\n",
       "}\n",
       "\n",
       ".xr-icon-database,\n",
       ".xr-icon-file-text2 {\n",
       "  display: inline-block;\n",
       "  vertical-align: middle;\n",
       "  width: 1em;\n",
       "  height: 1.5em !important;\n",
       "  stroke-width: 0;\n",
       "  stroke: currentColor;\n",
       "  fill: currentColor;\n",
       "}\n",
       "</style><pre class='xr-text-repr-fallback'>&lt;xarray.Dataset&gt;\n",
       "Dimensions:  (GCM: 9, decile: 10, time: 1, step: 3, lat: 81, lon: 121)\n",
       "Coordinates:\n",
       "  * GCM      (GCM) object &#x27;METEO_FRANCE&#x27; &#x27;JMA&#x27; &#x27;UKMO&#x27; ... &#x27;ECCC_GEM_NEMO&#x27; &#x27;DWD&#x27;\n",
       "  * time     (time) datetime64[ns] 2022-04-01\n",
       "  * lon      (lon) float32 120.0 121.0 122.0 123.0 ... 237.0 238.0 239.0 240.0\n",
       "  * lat      (lat) float32 -50.0 -49.0 -48.0 -47.0 -46.0 ... 27.0 28.0 29.0 30.0\n",
       "  * step     (step) int64 3 4 5\n",
       "    month    int64 4\n",
       "  * decile   (decile) int64 1 2 3 4 5 6 7 8 9 10\n",
       "Data variables:\n",
       "    precip   (GCM, decile, time, step, lat, lon) float64 dask.array&lt;chunksize=(1, 10, 1, 3, 81, 121), meta=np.ndarray&gt;\n",
       "Attributes:\n",
       "    pct_values:  [0.1 0.2 0.3 0.4 0.5 0.6 0.7 0.8 0.9]</pre><div class='xr-wrap' style='display:none'><div class='xr-header'><div class='xr-obj-type'>xarray.Dataset</div></div><ul class='xr-sections'><li class='xr-section-item'><input id='section-f7c50151-000d-496a-8dbf-74055b910759' class='xr-section-summary-in' type='checkbox' disabled ><label for='section-f7c50151-000d-496a-8dbf-74055b910759' class='xr-section-summary'  title='Expand/collapse section'>Dimensions:</label><div class='xr-section-inline-details'><ul class='xr-dim-list'><li><span class='xr-has-index'>GCM</span>: 9</li><li><span class='xr-has-index'>decile</span>: 10</li><li><span class='xr-has-index'>time</span>: 1</li><li><span class='xr-has-index'>step</span>: 3</li><li><span class='xr-has-index'>lat</span>: 81</li><li><span class='xr-has-index'>lon</span>: 121</li></ul></div><div class='xr-section-details'></div></li><li class='xr-section-item'><input id='section-d53ebe2e-7f14-45b0-ab3a-3d833113678c' class='xr-section-summary-in' type='checkbox'  checked><label for='section-d53ebe2e-7f14-45b0-ab3a-3d833113678c' class='xr-section-summary' >Coordinates: <span>(7)</span></label><div class='xr-section-inline-details'></div><div class='xr-section-details'><ul class='xr-var-list'><li class='xr-var-item'><div class='xr-var-name'><span class='xr-has-index'>GCM</span></div><div class='xr-var-dims'>(GCM)</div><div class='xr-var-dtype'>object</div><div class='xr-var-preview xr-preview'>&#x27;METEO_FRANCE&#x27; &#x27;JMA&#x27; ... &#x27;DWD&#x27;</div><input id='attrs-0288e983-7ff6-4738-9460-5c0a36cbe632' class='xr-var-attrs-in' type='checkbox' disabled><label for='attrs-0288e983-7ff6-4738-9460-5c0a36cbe632' title='Show/Hide attributes'><svg class='icon xr-icon-file-text2'><use xlink:href='#icon-file-text2'></use></svg></label><input id='data-1e489668-62f0-4760-b523-ae79db4538c2' class='xr-var-data-in' type='checkbox'><label for='data-1e489668-62f0-4760-b523-ae79db4538c2' title='Show/Hide data repr'><svg class='icon xr-icon-database'><use xlink:href='#icon-database'></use></svg></label><div class='xr-var-attrs'><dl class='xr-attrs'></dl></div><div class='xr-var-data'><pre>array([&#x27;METEO_FRANCE&#x27;, &#x27;JMA&#x27;, &#x27;UKMO&#x27;, &#x27;NCEP&#x27;, &#x27;CMCC&#x27;, &#x27;ECMWF&#x27;, &#x27;ECCC_CanCM4i&#x27;,\n",
       "       &#x27;ECCC_GEM_NEMO&#x27;, &#x27;DWD&#x27;], dtype=object)</pre></div></li><li class='xr-var-item'><div class='xr-var-name'><span class='xr-has-index'>time</span></div><div class='xr-var-dims'>(time)</div><div class='xr-var-dtype'>datetime64[ns]</div><div class='xr-var-preview xr-preview'>2022-04-01</div><input id='attrs-39075749-0406-4d64-8d00-88f67ed8c56a' class='xr-var-attrs-in' type='checkbox' disabled><label for='attrs-39075749-0406-4d64-8d00-88f67ed8c56a' title='Show/Hide attributes'><svg class='icon xr-icon-file-text2'><use xlink:href='#icon-file-text2'></use></svg></label><input id='data-71979dae-a3cd-4f4e-99db-74c5c1ad236c' class='xr-var-data-in' type='checkbox'><label for='data-71979dae-a3cd-4f4e-99db-74c5c1ad236c' title='Show/Hide data repr'><svg class='icon xr-icon-database'><use xlink:href='#icon-database'></use></svg></label><div class='xr-var-attrs'><dl class='xr-attrs'></dl></div><div class='xr-var-data'><pre>array([&#x27;2022-04-01T00:00:00.000000000&#x27;], dtype=&#x27;datetime64[ns]&#x27;)</pre></div></li><li class='xr-var-item'><div class='xr-var-name'><span class='xr-has-index'>lon</span></div><div class='xr-var-dims'>(lon)</div><div class='xr-var-dtype'>float32</div><div class='xr-var-preview xr-preview'>120.0 121.0 122.0 ... 239.0 240.0</div><input id='attrs-38a96df0-d078-40c4-ae2a-329e6f219760' class='xr-var-attrs-in' type='checkbox' ><label for='attrs-38a96df0-d078-40c4-ae2a-329e6f219760' title='Show/Hide attributes'><svg class='icon xr-icon-file-text2'><use xlink:href='#icon-file-text2'></use></svg></label><input id='data-c417e3dc-1d34-4e22-9fd4-df34a626b81b' class='xr-var-data-in' type='checkbox'><label for='data-c417e3dc-1d34-4e22-9fd4-df34a626b81b' title='Show/Hide data repr'><svg class='icon xr-icon-database'><use xlink:href='#icon-database'></use></svg></label><div class='xr-var-attrs'><dl class='xr-attrs'><dt><span>units :</span></dt><dd>degrees_east</dd><dt><span>long_name :</span></dt><dd>Longitude</dd></dl></div><div class='xr-var-data'><pre>array([120., 121., 122., 123., 124., 125., 126., 127., 128., 129., 130., 131.,\n",
       "       132., 133., 134., 135., 136., 137., 138., 139., 140., 141., 142., 143.,\n",
       "       144., 145., 146., 147., 148., 149., 150., 151., 152., 153., 154., 155.,\n",
       "       156., 157., 158., 159., 160., 161., 162., 163., 164., 165., 166., 167.,\n",
       "       168., 169., 170., 171., 172., 173., 174., 175., 176., 177., 178., 179.,\n",
       "       180., 181., 182., 183., 184., 185., 186., 187., 188., 189., 190., 191.,\n",
       "       192., 193., 194., 195., 196., 197., 198., 199., 200., 201., 202., 203.,\n",
       "       204., 205., 206., 207., 208., 209., 210., 211., 212., 213., 214., 215.,\n",
       "       216., 217., 218., 219., 220., 221., 222., 223., 224., 225., 226., 227.,\n",
       "       228., 229., 230., 231., 232., 233., 234., 235., 236., 237., 238., 239.,\n",
       "       240.], dtype=float32)</pre></div></li><li class='xr-var-item'><div class='xr-var-name'><span class='xr-has-index'>lat</span></div><div class='xr-var-dims'>(lat)</div><div class='xr-var-dtype'>float32</div><div class='xr-var-preview xr-preview'>-50.0 -49.0 -48.0 ... 29.0 30.0</div><input id='attrs-a40f76ca-b6c5-4ee6-96f4-1f8dd43b1570' class='xr-var-attrs-in' type='checkbox' ><label for='attrs-a40f76ca-b6c5-4ee6-96f4-1f8dd43b1570' title='Show/Hide attributes'><svg class='icon xr-icon-file-text2'><use xlink:href='#icon-file-text2'></use></svg></label><input id='data-eea7f229-90af-43bf-8f95-1c0e788f21a1' class='xr-var-data-in' type='checkbox'><label for='data-eea7f229-90af-43bf-8f95-1c0e788f21a1' title='Show/Hide data repr'><svg class='icon xr-icon-database'><use xlink:href='#icon-database'></use></svg></label><div class='xr-var-attrs'><dl class='xr-attrs'><dt><span>units :</span></dt><dd>degrees_north</dd><dt><span>long_name :</span></dt><dd>Latitude</dd></dl></div><div class='xr-var-data'><pre>array([-50., -49., -48., -47., -46., -45., -44., -43., -42., -41., -40., -39.,\n",
       "       -38., -37., -36., -35., -34., -33., -32., -31., -30., -29., -28., -27.,\n",
       "       -26., -25., -24., -23., -22., -21., -20., -19., -18., -17., -16., -15.,\n",
       "       -14., -13., -12., -11., -10.,  -9.,  -8.,  -7.,  -6.,  -5.,  -4.,  -3.,\n",
       "        -2.,  -1.,   0.,   1.,   2.,   3.,   4.,   5.,   6.,   7.,   8.,   9.,\n",
       "        10.,  11.,  12.,  13.,  14.,  15.,  16.,  17.,  18.,  19.,  20.,  21.,\n",
       "        22.,  23.,  24.,  25.,  26.,  27.,  28.,  29.,  30.], dtype=float32)</pre></div></li><li class='xr-var-item'><div class='xr-var-name'><span class='xr-has-index'>step</span></div><div class='xr-var-dims'>(step)</div><div class='xr-var-dtype'>int64</div><div class='xr-var-preview xr-preview'>3 4 5</div><input id='attrs-72d4c35f-8004-4664-871a-be7da8b26a15' class='xr-var-attrs-in' type='checkbox' disabled><label for='attrs-72d4c35f-8004-4664-871a-be7da8b26a15' title='Show/Hide attributes'><svg class='icon xr-icon-file-text2'><use xlink:href='#icon-file-text2'></use></svg></label><input id='data-836a72b9-dc4f-4adc-b1c1-14826ff1156f' class='xr-var-data-in' type='checkbox'><label for='data-836a72b9-dc4f-4adc-b1c1-14826ff1156f' title='Show/Hide data repr'><svg class='icon xr-icon-database'><use xlink:href='#icon-database'></use></svg></label><div class='xr-var-attrs'><dl class='xr-attrs'></dl></div><div class='xr-var-data'><pre>array([3, 4, 5])</pre></div></li><li class='xr-var-item'><div class='xr-var-name'><span>month</span></div><div class='xr-var-dims'>()</div><div class='xr-var-dtype'>int64</div><div class='xr-var-preview xr-preview'>4</div><input id='attrs-6ef415c9-ce4c-4d94-b352-a59abcb42dcc' class='xr-var-attrs-in' type='checkbox' disabled><label for='attrs-6ef415c9-ce4c-4d94-b352-a59abcb42dcc' title='Show/Hide attributes'><svg class='icon xr-icon-file-text2'><use xlink:href='#icon-file-text2'></use></svg></label><input id='data-4e145c3d-8d2e-45a8-9279-a8306bcca0cb' class='xr-var-data-in' type='checkbox'><label for='data-4e145c3d-8d2e-45a8-9279-a8306bcca0cb' title='Show/Hide data repr'><svg class='icon xr-icon-database'><use xlink:href='#icon-database'></use></svg></label><div class='xr-var-attrs'><dl class='xr-attrs'></dl></div><div class='xr-var-data'><pre>array(4)</pre></div></li><li class='xr-var-item'><div class='xr-var-name'><span class='xr-has-index'>decile</span></div><div class='xr-var-dims'>(decile)</div><div class='xr-var-dtype'>int64</div><div class='xr-var-preview xr-preview'>1 2 3 4 5 6 7 8 9 10</div><input id='attrs-5b71a9ee-adcd-42a5-927f-bae66c3f0dcc' class='xr-var-attrs-in' type='checkbox' disabled><label for='attrs-5b71a9ee-adcd-42a5-927f-bae66c3f0dcc' title='Show/Hide attributes'><svg class='icon xr-icon-file-text2'><use xlink:href='#icon-file-text2'></use></svg></label><input id='data-c4b63d72-4d57-44c6-93f2-8269371ce2f4' class='xr-var-data-in' type='checkbox'><label for='data-c4b63d72-4d57-44c6-93f2-8269371ce2f4' title='Show/Hide data repr'><svg class='icon xr-icon-database'><use xlink:href='#icon-database'></use></svg></label><div class='xr-var-attrs'><dl class='xr-attrs'></dl></div><div class='xr-var-data'><pre>array([ 1,  2,  3,  4,  5,  6,  7,  8,  9, 10])</pre></div></li></ul></div></li><li class='xr-section-item'><input id='section-12b2069c-ea3b-4b5e-866f-68fb028dc7be' class='xr-section-summary-in' type='checkbox'  checked><label for='section-12b2069c-ea3b-4b5e-866f-68fb028dc7be' class='xr-section-summary' >Data variables: <span>(1)</span></label><div class='xr-section-inline-details'></div><div class='xr-section-details'><ul class='xr-var-list'><li class='xr-var-item'><div class='xr-var-name'><span>precip</span></div><div class='xr-var-dims'>(GCM, decile, time, step, lat, lon)</div><div class='xr-var-dtype'>float64</div><div class='xr-var-preview xr-preview'>dask.array&lt;chunksize=(1, 10, 1, 3, 81, 121), meta=np.ndarray&gt;</div><input id='attrs-595b65c1-2b98-4b3e-948c-cecaefd8a191' class='xr-var-attrs-in' type='checkbox' disabled><label for='attrs-595b65c1-2b98-4b3e-948c-cecaefd8a191' title='Show/Hide attributes'><svg class='icon xr-icon-file-text2'><use xlink:href='#icon-file-text2'></use></svg></label><input id='data-f92e2f3d-1647-487e-8bf3-6cf23a5b9f2d' class='xr-var-data-in' type='checkbox'><label for='data-f92e2f3d-1647-487e-8bf3-6cf23a5b9f2d' title='Show/Hide data repr'><svg class='icon xr-icon-database'><use xlink:href='#icon-database'></use></svg></label><div class='xr-var-attrs'><dl class='xr-attrs'></dl></div><div class='xr-var-data'><table>\n",
       "    <tr>\n",
       "        <td>\n",
       "            <table>\n",
       "                <thead>\n",
       "                    <tr>\n",
       "                        <td> </td>\n",
       "                        <th> Array </th>\n",
       "                        <th> Chunk </th>\n",
       "                    </tr>\n",
       "                </thead>\n",
       "                <tbody>\n",
       "                    \n",
       "                    <tr>\n",
       "                        <th> Bytes </th>\n",
       "                        <td> 20.19 MiB </td>\n",
       "                        <td> 2.24 MiB </td>\n",
       "                    </tr>\n",
       "                    \n",
       "                    <tr>\n",
       "                        <th> Shape </th>\n",
       "                        <td> (9, 10, 1, 3, 81, 121) </td>\n",
       "                        <td> (1, 10, 1, 3, 81, 121) </td>\n",
       "                    </tr>\n",
       "                    <tr>\n",
       "                        <th> Count </th>\n",
       "                        <td> 27 Tasks </td>\n",
       "                        <td> 9 Chunks </td>\n",
       "                    </tr>\n",
       "                    <tr>\n",
       "                    <th> Type </th>\n",
       "                    <td> float64 </td>\n",
       "                    <td> numpy.ndarray </td>\n",
       "                    </tr>\n",
       "                </tbody>\n",
       "            </table>\n",
       "        </td>\n",
       "        <td>\n",
       "        <svg width=\"441\" height=\"148\" style=\"stroke:rgb(0,0,0);stroke-width:1\" >\n",
       "\n",
       "  <!-- Horizontal lines -->\n",
       "  <line x1=\"10\" y1=\"0\" x2=\"31\" y2=\"21\" style=\"stroke-width:2\" />\n",
       "  <line x1=\"10\" y1=\"37\" x2=\"31\" y2=\"59\" style=\"stroke-width:2\" />\n",
       "\n",
       "  <!-- Vertical lines -->\n",
       "  <line x1=\"10\" y1=\"0\" x2=\"10\" y2=\"37\" style=\"stroke-width:2\" />\n",
       "  <line x1=\"12\" y1=\"2\" x2=\"12\" y2=\"39\" />\n",
       "  <line x1=\"14\" y1=\"4\" x2=\"14\" y2=\"42\" />\n",
       "  <line x1=\"17\" y1=\"7\" x2=\"17\" y2=\"44\" />\n",
       "  <line x1=\"19\" y1=\"9\" x2=\"19\" y2=\"47\" />\n",
       "  <line x1=\"22\" y1=\"12\" x2=\"22\" y2=\"49\" />\n",
       "  <line x1=\"24\" y1=\"14\" x2=\"24\" y2=\"51\" />\n",
       "  <line x1=\"26\" y1=\"16\" x2=\"26\" y2=\"54\" />\n",
       "  <line x1=\"29\" y1=\"19\" x2=\"29\" y2=\"56\" />\n",
       "  <line x1=\"31\" y1=\"21\" x2=\"31\" y2=\"59\" style=\"stroke-width:2\" />\n",
       "\n",
       "  <!-- Colored Rectangle -->\n",
       "  <polygon points=\"10.0,0.0 31.705460913306453,21.705460913306453 31.705460913306453,59.22101676725615 10.0,37.5155558539497\" style=\"fill:#ECB172A0;stroke-width:0\"/>\n",
       "\n",
       "  <!-- Horizontal lines -->\n",
       "  <line x1=\"10\" y1=\"0\" x2=\"35\" y2=\"0\" style=\"stroke-width:2\" />\n",
       "  <line x1=\"12\" y1=\"2\" x2=\"37\" y2=\"2\" />\n",
       "  <line x1=\"14\" y1=\"4\" x2=\"40\" y2=\"4\" />\n",
       "  <line x1=\"17\" y1=\"7\" x2=\"42\" y2=\"7\" />\n",
       "  <line x1=\"19\" y1=\"9\" x2=\"45\" y2=\"9\" />\n",
       "  <line x1=\"22\" y1=\"12\" x2=\"47\" y2=\"12\" />\n",
       "  <line x1=\"24\" y1=\"14\" x2=\"49\" y2=\"14\" />\n",
       "  <line x1=\"26\" y1=\"16\" x2=\"52\" y2=\"16\" />\n",
       "  <line x1=\"29\" y1=\"19\" x2=\"54\" y2=\"19\" />\n",
       "  <line x1=\"31\" y1=\"21\" x2=\"57\" y2=\"21\" style=\"stroke-width:2\" />\n",
       "\n",
       "  <!-- Vertical lines -->\n",
       "  <line x1=\"10\" y1=\"0\" x2=\"31\" y2=\"21\" style=\"stroke-width:2\" />\n",
       "  <line x1=\"35\" y1=\"0\" x2=\"57\" y2=\"21\" style=\"stroke-width:2\" />\n",
       "\n",
       "  <!-- Colored Rectangle -->\n",
       "  <polygon points=\"10.0,0.0 35.41261651458248,0.0 57.118077427888934,21.705460913306453 31.705460913306453,21.705460913306453\" style=\"fill:#ECB172A0;stroke-width:0\"/>\n",
       "\n",
       "  <!-- Horizontal lines -->\n",
       "  <line x1=\"31\" y1=\"21\" x2=\"57\" y2=\"21\" style=\"stroke-width:2\" />\n",
       "  <line x1=\"31\" y1=\"59\" x2=\"57\" y2=\"59\" style=\"stroke-width:2\" />\n",
       "\n",
       "  <!-- Vertical lines -->\n",
       "  <line x1=\"31\" y1=\"21\" x2=\"31\" y2=\"59\" style=\"stroke-width:2\" />\n",
       "  <line x1=\"57\" y1=\"21\" x2=\"57\" y2=\"59\" style=\"stroke-width:2\" />\n",
       "\n",
       "  <!-- Colored Rectangle -->\n",
       "  <polygon points=\"31.705460913306453,21.705460913306453 57.118077427888934,21.705460913306453 57.118077427888934,59.22101676725615 31.705460913306453,59.22101676725615\" style=\"fill:#ECB172A0;stroke-width:0\"/>\n",
       "\n",
       "  <!-- Text -->\n",
       "  <text x=\"44.411769\" y=\"79.221017\" font-size=\"1.0rem\" font-weight=\"100\" text-anchor=\"middle\" >1</text>\n",
       "  <text x=\"77.118077\" y=\"40.463239\" font-size=\"1.0rem\" font-weight=\"100\" text-anchor=\"middle\" transform=\"rotate(0,77.118077,40.463239)\">10</text>\n",
       "  <text x=\"10.852730\" y=\"68.368286\" font-size=\"1.0rem\" font-weight=\"100\" text-anchor=\"middle\" transform=\"rotate(45,10.852730,68.368286)\">9</text>\n",
       "\n",
       "\n",
       "  <!-- Horizontal lines -->\n",
       "  <line x1=\"127\" y1=\"0\" x2=\"144\" y2=\"17\" style=\"stroke-width:2\" />\n",
       "  <line x1=\"127\" y1=\"80\" x2=\"144\" y2=\"98\" style=\"stroke-width:2\" />\n",
       "\n",
       "  <!-- Vertical lines -->\n",
       "  <line x1=\"127\" y1=\"0\" x2=\"127\" y2=\"80\" style=\"stroke-width:2\" />\n",
       "  <line x1=\"144\" y1=\"17\" x2=\"144\" y2=\"98\" style=\"stroke-width:2\" />\n",
       "\n",
       "  <!-- Colored Rectangle -->\n",
       "  <polygon points=\"127.0,0.0 144.80172121589226,17.801721215892265 144.80172121589226,98.13229972828896 127.0,80.3305785123967\" style=\"fill:#ECB172A0;stroke-width:0\"/>\n",
       "\n",
       "  <!-- Horizontal lines -->\n",
       "  <line x1=\"127\" y1=\"0\" x2=\"247\" y2=\"0\" style=\"stroke-width:2\" />\n",
       "  <line x1=\"144\" y1=\"17\" x2=\"264\" y2=\"17\" style=\"stroke-width:2\" />\n",
       "\n",
       "  <!-- Vertical lines -->\n",
       "  <line x1=\"127\" y1=\"0\" x2=\"144\" y2=\"17\" style=\"stroke-width:2\" />\n",
       "  <line x1=\"247\" y1=\"0\" x2=\"264\" y2=\"17\" style=\"stroke-width:2\" />\n",
       "\n",
       "  <!-- Colored Rectangle -->\n",
       "  <polygon points=\"127.0,0.0 247.0,0.0 264.80172121589226,17.801721215892265 144.80172121589226,17.801721215892265\" style=\"fill:#ECB172A0;stroke-width:0\"/>\n",
       "\n",
       "  <!-- Horizontal lines -->\n",
       "  <line x1=\"144\" y1=\"17\" x2=\"264\" y2=\"17\" style=\"stroke-width:2\" />\n",
       "  <line x1=\"144\" y1=\"98\" x2=\"264\" y2=\"98\" style=\"stroke-width:2\" />\n",
       "\n",
       "  <!-- Vertical lines -->\n",
       "  <line x1=\"144\" y1=\"17\" x2=\"144\" y2=\"98\" style=\"stroke-width:2\" />\n",
       "  <line x1=\"264\" y1=\"17\" x2=\"264\" y2=\"98\" style=\"stroke-width:2\" />\n",
       "\n",
       "  <!-- Colored Rectangle -->\n",
       "  <polygon points=\"144.80172121589226,17.801721215892265 264.80172121589226,17.801721215892265 264.80172121589226,98.13229972828896 144.80172121589226,98.13229972828896\" style=\"fill:#ECB172A0;stroke-width:0\"/>\n",
       "\n",
       "  <!-- Text -->\n",
       "  <text x=\"204.801721\" y=\"118.132300\" font-size=\"1.0rem\" font-weight=\"100\" text-anchor=\"middle\" >121</text>\n",
       "  <text x=\"284.801721\" y=\"57.967010\" font-size=\"1.0rem\" font-weight=\"100\" text-anchor=\"middle\" transform=\"rotate(0,284.801721,57.967010)\">81</text>\n",
       "  <text x=\"125.900861\" y=\"109.231439\" font-size=\"1.0rem\" font-weight=\"100\" text-anchor=\"middle\" transform=\"rotate(45,125.900861,109.231439)\">3</text>\n",
       "</svg>\n",
       "        </td>\n",
       "    </tr>\n",
       "</table></div></li></ul></div></li><li class='xr-section-item'><input id='section-d6ec5393-89b9-4280-bb69-875395d12cc2' class='xr-section-summary-in' type='checkbox'  checked><label for='section-d6ec5393-89b9-4280-bb69-875395d12cc2' class='xr-section-summary' >Attributes: <span>(1)</span></label><div class='xr-section-inline-details'></div><div class='xr-section-details'><dl class='xr-attrs'><dt><span>pct_values :</span></dt><dd>[0.1 0.2 0.3 0.4 0.5 0.6 0.7 0.8 0.9]</dd></dl></div></li></ul></div></div>"
      ],
      "text/plain": [
       "<xarray.Dataset>\n",
       "Dimensions:  (GCM: 9, decile: 10, time: 1, step: 3, lat: 81, lon: 121)\n",
       "Coordinates:\n",
       "  * GCM      (GCM) object 'METEO_FRANCE' 'JMA' 'UKMO' ... 'ECCC_GEM_NEMO' 'DWD'\n",
       "  * time     (time) datetime64[ns] 2022-04-01\n",
       "  * lon      (lon) float32 120.0 121.0 122.0 123.0 ... 237.0 238.0 239.0 240.0\n",
       "  * lat      (lat) float32 -50.0 -49.0 -48.0 -47.0 -46.0 ... 27.0 28.0 29.0 30.0\n",
       "  * step     (step) int64 3 4 5\n",
       "    month    int64 4\n",
       "  * decile   (decile) int64 1 2 3 4 5 6 7 8 9 10\n",
       "Data variables:\n",
       "    precip   (GCM, decile, time, step, lat, lon) float64 dask.array<chunksize=(1, 10, 1, 3, 81, 121), meta=np.ndarray>\n",
       "Attributes:\n",
       "    pct_values:  [0.1 0.2 0.3 0.4 0.5 0.6 0.7 0.8 0.9]"
      ]
     },
     "execution_count": 25,
     "metadata": {},
     "output_type": "execute_result"
    }
   ],
   "source": [
    "probs"
   ]
  },
  {
   "cell_type": "markdown",
   "id": "3f196ab6",
   "metadata": {
    "papermill": {
     "duration": 0.009236,
     "end_time": "2022-04-29T06:45:38.518731",
     "exception": false,
     "start_time": "2022-04-29T06:45:38.509495",
     "status": "completed"
    },
    "tags": []
   },
   "source": [
    "### interpolate (for smoother maps)"
   ]
  },
  {
   "cell_type": "code",
   "execution_count": 26,
   "id": "f613fc28",
   "metadata": {
    "execution": {
     "iopub.execute_input": "2022-04-29T06:45:38.537729Z",
     "iopub.status.busy": "2022-04-29T06:45:38.537587Z",
     "iopub.status.idle": "2022-04-29T06:45:38.564401Z",
     "shell.execute_reply": "2022-04-29T06:45:38.563960Z"
    },
    "papermill": {
     "duration": 0.03784,
     "end_time": "2022-04-29T06:45:38.565625",
     "exception": false,
     "start_time": "2022-04-29T06:45:38.527785",
     "status": "completed"
    },
    "tags": []
   },
   "outputs": [],
   "source": [
    "probs = utils.interp(probs, interp_factor=6)"
   ]
  },
  {
   "cell_type": "code",
   "execution_count": 27,
   "id": "ee09f6db",
   "metadata": {
    "execution": {
     "iopub.execute_input": "2022-04-29T06:45:38.584845Z",
     "iopub.status.busy": "2022-04-29T06:45:38.584704Z",
     "iopub.status.idle": "2022-04-29T06:45:38.616073Z",
     "shell.execute_reply": "2022-04-29T06:45:38.615598Z"
    },
    "papermill": {
     "duration": 0.042034,
     "end_time": "2022-04-29T06:45:38.617071",
     "exception": false,
     "start_time": "2022-04-29T06:45:38.575037",
     "status": "completed"
    },
    "tags": []
   },
   "outputs": [
    {
     "data": {
      "text/html": [
       "<div><svg style=\"position: absolute; width: 0; height: 0; overflow: hidden\">\n",
       "<defs>\n",
       "<symbol id=\"icon-database\" viewBox=\"0 0 32 32\">\n",
       "<path d=\"M16 0c-8.837 0-16 2.239-16 5v4c0 2.761 7.163 5 16 5s16-2.239 16-5v-4c0-2.761-7.163-5-16-5z\"></path>\n",
       "<path d=\"M16 17c-8.837 0-16-2.239-16-5v6c0 2.761 7.163 5 16 5s16-2.239 16-5v-6c0 2.761-7.163 5-16 5z\"></path>\n",
       "<path d=\"M16 26c-8.837 0-16-2.239-16-5v6c0 2.761 7.163 5 16 5s16-2.239 16-5v-6c0 2.761-7.163 5-16 5z\"></path>\n",
       "</symbol>\n",
       "<symbol id=\"icon-file-text2\" viewBox=\"0 0 32 32\">\n",
       "<path d=\"M28.681 7.159c-0.694-0.947-1.662-2.053-2.724-3.116s-2.169-2.030-3.116-2.724c-1.612-1.182-2.393-1.319-2.841-1.319h-15.5c-1.378 0-2.5 1.121-2.5 2.5v27c0 1.378 1.122 2.5 2.5 2.5h23c1.378 0 2.5-1.122 2.5-2.5v-19.5c0-0.448-0.137-1.23-1.319-2.841zM24.543 5.457c0.959 0.959 1.712 1.825 2.268 2.543h-4.811v-4.811c0.718 0.556 1.584 1.309 2.543 2.268zM28 29.5c0 0.271-0.229 0.5-0.5 0.5h-23c-0.271 0-0.5-0.229-0.5-0.5v-27c0-0.271 0.229-0.5 0.5-0.5 0 0 15.499-0 15.5 0v7c0 0.552 0.448 1 1 1h7v19.5z\"></path>\n",
       "<path d=\"M23 26h-14c-0.552 0-1-0.448-1-1s0.448-1 1-1h14c0.552 0 1 0.448 1 1s-0.448 1-1 1z\"></path>\n",
       "<path d=\"M23 22h-14c-0.552 0-1-0.448-1-1s0.448-1 1-1h14c0.552 0 1 0.448 1 1s-0.448 1-1 1z\"></path>\n",
       "<path d=\"M23 18h-14c-0.552 0-1-0.448-1-1s0.448-1 1-1h14c0.552 0 1 0.448 1 1s-0.448 1-1 1z\"></path>\n",
       "</symbol>\n",
       "</defs>\n",
       "</svg>\n",
       "<style>/* CSS stylesheet for displaying xarray objects in jupyterlab.\n",
       " *\n",
       " */\n",
       "\n",
       ":root {\n",
       "  --xr-font-color0: var(--jp-content-font-color0, rgba(0, 0, 0, 1));\n",
       "  --xr-font-color2: var(--jp-content-font-color2, rgba(0, 0, 0, 0.54));\n",
       "  --xr-font-color3: var(--jp-content-font-color3, rgba(0, 0, 0, 0.38));\n",
       "  --xr-border-color: var(--jp-border-color2, #e0e0e0);\n",
       "  --xr-disabled-color: var(--jp-layout-color3, #bdbdbd);\n",
       "  --xr-background-color: var(--jp-layout-color0, white);\n",
       "  --xr-background-color-row-even: var(--jp-layout-color1, white);\n",
       "  --xr-background-color-row-odd: var(--jp-layout-color2, #eeeeee);\n",
       "}\n",
       "\n",
       "html[theme=dark],\n",
       "body.vscode-dark {\n",
       "  --xr-font-color0: rgba(255, 255, 255, 1);\n",
       "  --xr-font-color2: rgba(255, 255, 255, 0.54);\n",
       "  --xr-font-color3: rgba(255, 255, 255, 0.38);\n",
       "  --xr-border-color: #1F1F1F;\n",
       "  --xr-disabled-color: #515151;\n",
       "  --xr-background-color: #111111;\n",
       "  --xr-background-color-row-even: #111111;\n",
       "  --xr-background-color-row-odd: #313131;\n",
       "}\n",
       "\n",
       ".xr-wrap {\n",
       "  display: block !important;\n",
       "  min-width: 300px;\n",
       "  max-width: 700px;\n",
       "}\n",
       "\n",
       ".xr-text-repr-fallback {\n",
       "  /* fallback to plain text repr when CSS is not injected (untrusted notebook) */\n",
       "  display: none;\n",
       "}\n",
       "\n",
       ".xr-header {\n",
       "  padding-top: 6px;\n",
       "  padding-bottom: 6px;\n",
       "  margin-bottom: 4px;\n",
       "  border-bottom: solid 1px var(--xr-border-color);\n",
       "}\n",
       "\n",
       ".xr-header > div,\n",
       ".xr-header > ul {\n",
       "  display: inline;\n",
       "  margin-top: 0;\n",
       "  margin-bottom: 0;\n",
       "}\n",
       "\n",
       ".xr-obj-type,\n",
       ".xr-array-name {\n",
       "  margin-left: 2px;\n",
       "  margin-right: 10px;\n",
       "}\n",
       "\n",
       ".xr-obj-type {\n",
       "  color: var(--xr-font-color2);\n",
       "}\n",
       "\n",
       ".xr-sections {\n",
       "  padding-left: 0 !important;\n",
       "  display: grid;\n",
       "  grid-template-columns: 150px auto auto 1fr 20px 20px;\n",
       "}\n",
       "\n",
       ".xr-section-item {\n",
       "  display: contents;\n",
       "}\n",
       "\n",
       ".xr-section-item input {\n",
       "  display: none;\n",
       "}\n",
       "\n",
       ".xr-section-item input + label {\n",
       "  color: var(--xr-disabled-color);\n",
       "}\n",
       "\n",
       ".xr-section-item input:enabled + label {\n",
       "  cursor: pointer;\n",
       "  color: var(--xr-font-color2);\n",
       "}\n",
       "\n",
       ".xr-section-item input:enabled + label:hover {\n",
       "  color: var(--xr-font-color0);\n",
       "}\n",
       "\n",
       ".xr-section-summary {\n",
       "  grid-column: 1;\n",
       "  color: var(--xr-font-color2);\n",
       "  font-weight: 500;\n",
       "}\n",
       "\n",
       ".xr-section-summary > span {\n",
       "  display: inline-block;\n",
       "  padding-left: 0.5em;\n",
       "}\n",
       "\n",
       ".xr-section-summary-in:disabled + label {\n",
       "  color: var(--xr-font-color2);\n",
       "}\n",
       "\n",
       ".xr-section-summary-in + label:before {\n",
       "  display: inline-block;\n",
       "  content: '►';\n",
       "  font-size: 11px;\n",
       "  width: 15px;\n",
       "  text-align: center;\n",
       "}\n",
       "\n",
       ".xr-section-summary-in:disabled + label:before {\n",
       "  color: var(--xr-disabled-color);\n",
       "}\n",
       "\n",
       ".xr-section-summary-in:checked + label:before {\n",
       "  content: '▼';\n",
       "}\n",
       "\n",
       ".xr-section-summary-in:checked + label > span {\n",
       "  display: none;\n",
       "}\n",
       "\n",
       ".xr-section-summary,\n",
       ".xr-section-inline-details {\n",
       "  padding-top: 4px;\n",
       "  padding-bottom: 4px;\n",
       "}\n",
       "\n",
       ".xr-section-inline-details {\n",
       "  grid-column: 2 / -1;\n",
       "}\n",
       "\n",
       ".xr-section-details {\n",
       "  display: none;\n",
       "  grid-column: 1 / -1;\n",
       "  margin-bottom: 5px;\n",
       "}\n",
       "\n",
       ".xr-section-summary-in:checked ~ .xr-section-details {\n",
       "  display: contents;\n",
       "}\n",
       "\n",
       ".xr-array-wrap {\n",
       "  grid-column: 1 / -1;\n",
       "  display: grid;\n",
       "  grid-template-columns: 20px auto;\n",
       "}\n",
       "\n",
       ".xr-array-wrap > label {\n",
       "  grid-column: 1;\n",
       "  vertical-align: top;\n",
       "}\n",
       "\n",
       ".xr-preview {\n",
       "  color: var(--xr-font-color3);\n",
       "}\n",
       "\n",
       ".xr-array-preview,\n",
       ".xr-array-data {\n",
       "  padding: 0 5px !important;\n",
       "  grid-column: 2;\n",
       "}\n",
       "\n",
       ".xr-array-data,\n",
       ".xr-array-in:checked ~ .xr-array-preview {\n",
       "  display: none;\n",
       "}\n",
       "\n",
       ".xr-array-in:checked ~ .xr-array-data,\n",
       ".xr-array-preview {\n",
       "  display: inline-block;\n",
       "}\n",
       "\n",
       ".xr-dim-list {\n",
       "  display: inline-block !important;\n",
       "  list-style: none;\n",
       "  padding: 0 !important;\n",
       "  margin: 0;\n",
       "}\n",
       "\n",
       ".xr-dim-list li {\n",
       "  display: inline-block;\n",
       "  padding: 0;\n",
       "  margin: 0;\n",
       "}\n",
       "\n",
       ".xr-dim-list:before {\n",
       "  content: '(';\n",
       "}\n",
       "\n",
       ".xr-dim-list:after {\n",
       "  content: ')';\n",
       "}\n",
       "\n",
       ".xr-dim-list li:not(:last-child):after {\n",
       "  content: ',';\n",
       "  padding-right: 5px;\n",
       "}\n",
       "\n",
       ".xr-has-index {\n",
       "  font-weight: bold;\n",
       "}\n",
       "\n",
       ".xr-var-list,\n",
       ".xr-var-item {\n",
       "  display: contents;\n",
       "}\n",
       "\n",
       ".xr-var-item > div,\n",
       ".xr-var-item label,\n",
       ".xr-var-item > .xr-var-name span {\n",
       "  background-color: var(--xr-background-color-row-even);\n",
       "  margin-bottom: 0;\n",
       "}\n",
       "\n",
       ".xr-var-item > .xr-var-name:hover span {\n",
       "  padding-right: 5px;\n",
       "}\n",
       "\n",
       ".xr-var-list > li:nth-child(odd) > div,\n",
       ".xr-var-list > li:nth-child(odd) > label,\n",
       ".xr-var-list > li:nth-child(odd) > .xr-var-name span {\n",
       "  background-color: var(--xr-background-color-row-odd);\n",
       "}\n",
       "\n",
       ".xr-var-name {\n",
       "  grid-column: 1;\n",
       "}\n",
       "\n",
       ".xr-var-dims {\n",
       "  grid-column: 2;\n",
       "}\n",
       "\n",
       ".xr-var-dtype {\n",
       "  grid-column: 3;\n",
       "  text-align: right;\n",
       "  color: var(--xr-font-color2);\n",
       "}\n",
       "\n",
       ".xr-var-preview {\n",
       "  grid-column: 4;\n",
       "}\n",
       "\n",
       ".xr-var-name,\n",
       ".xr-var-dims,\n",
       ".xr-var-dtype,\n",
       ".xr-preview,\n",
       ".xr-attrs dt {\n",
       "  white-space: nowrap;\n",
       "  overflow: hidden;\n",
       "  text-overflow: ellipsis;\n",
       "  padding-right: 10px;\n",
       "}\n",
       "\n",
       ".xr-var-name:hover,\n",
       ".xr-var-dims:hover,\n",
       ".xr-var-dtype:hover,\n",
       ".xr-attrs dt:hover {\n",
       "  overflow: visible;\n",
       "  width: auto;\n",
       "  z-index: 1;\n",
       "}\n",
       "\n",
       ".xr-var-attrs,\n",
       ".xr-var-data {\n",
       "  display: none;\n",
       "  background-color: var(--xr-background-color) !important;\n",
       "  padding-bottom: 5px !important;\n",
       "}\n",
       "\n",
       ".xr-var-attrs-in:checked ~ .xr-var-attrs,\n",
       ".xr-var-data-in:checked ~ .xr-var-data {\n",
       "  display: block;\n",
       "}\n",
       "\n",
       ".xr-var-data > table {\n",
       "  float: right;\n",
       "}\n",
       "\n",
       ".xr-var-name span,\n",
       ".xr-var-data,\n",
       ".xr-attrs {\n",
       "  padding-left: 25px !important;\n",
       "}\n",
       "\n",
       ".xr-attrs,\n",
       ".xr-var-attrs,\n",
       ".xr-var-data {\n",
       "  grid-column: 1 / -1;\n",
       "}\n",
       "\n",
       "dl.xr-attrs {\n",
       "  padding: 0;\n",
       "  margin: 0;\n",
       "  display: grid;\n",
       "  grid-template-columns: 125px auto;\n",
       "}\n",
       "\n",
       ".xr-attrs dt,\n",
       ".xr-attrs dd {\n",
       "  padding: 0;\n",
       "  margin: 0;\n",
       "  float: left;\n",
       "  padding-right: 10px;\n",
       "  width: auto;\n",
       "}\n",
       "\n",
       ".xr-attrs dt {\n",
       "  font-weight: normal;\n",
       "  grid-column: 1;\n",
       "}\n",
       "\n",
       ".xr-attrs dt:hover span {\n",
       "  display: inline-block;\n",
       "  background: var(--xr-background-color);\n",
       "  padding-right: 10px;\n",
       "}\n",
       "\n",
       ".xr-attrs dd {\n",
       "  grid-column: 2;\n",
       "  white-space: pre-wrap;\n",
       "  word-break: break-all;\n",
       "}\n",
       "\n",
       ".xr-icon-database,\n",
       ".xr-icon-file-text2 {\n",
       "  display: inline-block;\n",
       "  vertical-align: middle;\n",
       "  width: 1em;\n",
       "  height: 1.5em !important;\n",
       "  stroke-width: 0;\n",
       "  stroke: currentColor;\n",
       "  fill: currentColor;\n",
       "}\n",
       "</style><pre class='xr-text-repr-fallback'>&lt;xarray.Dataset&gt;\n",
       "Dimensions:  (GCM: 9, decile: 10, time: 1, step: 3, lat: 486, lon: 726)\n",
       "Coordinates:\n",
       "  * GCM      (GCM) object &#x27;METEO_FRANCE&#x27; &#x27;JMA&#x27; &#x27;UKMO&#x27; ... &#x27;ECCC_GEM_NEMO&#x27; &#x27;DWD&#x27;\n",
       "  * time     (time) datetime64[ns] 2022-04-01\n",
       "  * step     (step) int64 3 4 5\n",
       "    month    int64 4\n",
       "  * decile   (decile) int64 1 2 3 4 5 6 7 8 9 10\n",
       "  * lon      (lon) float64 120.0 120.2 120.3 120.5 ... 239.5 239.7 239.8 240.0\n",
       "  * lat      (lat) float64 -50.0 -49.84 -49.67 -49.51 ... 29.51 29.67 29.84 30.0\n",
       "Data variables:\n",
       "    precip   (GCM, decile, time, step, lat, lon) float64 dask.array&lt;chunksize=(1, 10, 1, 3, 486, 726), meta=np.ndarray&gt;\n",
       "Attributes:\n",
       "    pct_values:  [0.1 0.2 0.3 0.4 0.5 0.6 0.7 0.8 0.9]</pre><div class='xr-wrap' style='display:none'><div class='xr-header'><div class='xr-obj-type'>xarray.Dataset</div></div><ul class='xr-sections'><li class='xr-section-item'><input id='section-86a73d34-5b2f-4923-9ee8-c3c80bcb4334' class='xr-section-summary-in' type='checkbox' disabled ><label for='section-86a73d34-5b2f-4923-9ee8-c3c80bcb4334' class='xr-section-summary'  title='Expand/collapse section'>Dimensions:</label><div class='xr-section-inline-details'><ul class='xr-dim-list'><li><span class='xr-has-index'>GCM</span>: 9</li><li><span class='xr-has-index'>decile</span>: 10</li><li><span class='xr-has-index'>time</span>: 1</li><li><span class='xr-has-index'>step</span>: 3</li><li><span class='xr-has-index'>lat</span>: 486</li><li><span class='xr-has-index'>lon</span>: 726</li></ul></div><div class='xr-section-details'></div></li><li class='xr-section-item'><input id='section-0c9cca10-2c4d-4cce-bdea-1749f38838a2' class='xr-section-summary-in' type='checkbox'  checked><label for='section-0c9cca10-2c4d-4cce-bdea-1749f38838a2' class='xr-section-summary' >Coordinates: <span>(7)</span></label><div class='xr-section-inline-details'></div><div class='xr-section-details'><ul class='xr-var-list'><li class='xr-var-item'><div class='xr-var-name'><span class='xr-has-index'>GCM</span></div><div class='xr-var-dims'>(GCM)</div><div class='xr-var-dtype'>object</div><div class='xr-var-preview xr-preview'>&#x27;METEO_FRANCE&#x27; &#x27;JMA&#x27; ... &#x27;DWD&#x27;</div><input id='attrs-b0c07edd-a400-4b2f-bef6-d8b38045c599' class='xr-var-attrs-in' type='checkbox' disabled><label for='attrs-b0c07edd-a400-4b2f-bef6-d8b38045c599' title='Show/Hide attributes'><svg class='icon xr-icon-file-text2'><use xlink:href='#icon-file-text2'></use></svg></label><input id='data-c52fc4c9-1c8f-464c-8b78-431f577c38a1' class='xr-var-data-in' type='checkbox'><label for='data-c52fc4c9-1c8f-464c-8b78-431f577c38a1' title='Show/Hide data repr'><svg class='icon xr-icon-database'><use xlink:href='#icon-database'></use></svg></label><div class='xr-var-attrs'><dl class='xr-attrs'></dl></div><div class='xr-var-data'><pre>array([&#x27;METEO_FRANCE&#x27;, &#x27;JMA&#x27;, &#x27;UKMO&#x27;, &#x27;NCEP&#x27;, &#x27;CMCC&#x27;, &#x27;ECMWF&#x27;, &#x27;ECCC_CanCM4i&#x27;,\n",
       "       &#x27;ECCC_GEM_NEMO&#x27;, &#x27;DWD&#x27;], dtype=object)</pre></div></li><li class='xr-var-item'><div class='xr-var-name'><span class='xr-has-index'>time</span></div><div class='xr-var-dims'>(time)</div><div class='xr-var-dtype'>datetime64[ns]</div><div class='xr-var-preview xr-preview'>2022-04-01</div><input id='attrs-15792c05-6530-4dca-8363-a51c8dea24ab' class='xr-var-attrs-in' type='checkbox' disabled><label for='attrs-15792c05-6530-4dca-8363-a51c8dea24ab' title='Show/Hide attributes'><svg class='icon xr-icon-file-text2'><use xlink:href='#icon-file-text2'></use></svg></label><input id='data-24f8f77d-7fd3-4797-88b7-a0c74397ccf1' class='xr-var-data-in' type='checkbox'><label for='data-24f8f77d-7fd3-4797-88b7-a0c74397ccf1' title='Show/Hide data repr'><svg class='icon xr-icon-database'><use xlink:href='#icon-database'></use></svg></label><div class='xr-var-attrs'><dl class='xr-attrs'></dl></div><div class='xr-var-data'><pre>array([&#x27;2022-04-01T00:00:00.000000000&#x27;], dtype=&#x27;datetime64[ns]&#x27;)</pre></div></li><li class='xr-var-item'><div class='xr-var-name'><span class='xr-has-index'>step</span></div><div class='xr-var-dims'>(step)</div><div class='xr-var-dtype'>int64</div><div class='xr-var-preview xr-preview'>3 4 5</div><input id='attrs-e03c13e8-b942-4be5-b95e-bf9d9546815e' class='xr-var-attrs-in' type='checkbox' disabled><label for='attrs-e03c13e8-b942-4be5-b95e-bf9d9546815e' title='Show/Hide attributes'><svg class='icon xr-icon-file-text2'><use xlink:href='#icon-file-text2'></use></svg></label><input id='data-91aa5f5d-59ed-46df-89c9-7b1830fbb2a8' class='xr-var-data-in' type='checkbox'><label for='data-91aa5f5d-59ed-46df-89c9-7b1830fbb2a8' title='Show/Hide data repr'><svg class='icon xr-icon-database'><use xlink:href='#icon-database'></use></svg></label><div class='xr-var-attrs'><dl class='xr-attrs'></dl></div><div class='xr-var-data'><pre>array([3, 4, 5])</pre></div></li><li class='xr-var-item'><div class='xr-var-name'><span>month</span></div><div class='xr-var-dims'>()</div><div class='xr-var-dtype'>int64</div><div class='xr-var-preview xr-preview'>4</div><input id='attrs-b3d373ef-9067-478b-9dc3-39670ff28b67' class='xr-var-attrs-in' type='checkbox' disabled><label for='attrs-b3d373ef-9067-478b-9dc3-39670ff28b67' title='Show/Hide attributes'><svg class='icon xr-icon-file-text2'><use xlink:href='#icon-file-text2'></use></svg></label><input id='data-ece84b4e-cc65-4a37-85c6-457971fd8b82' class='xr-var-data-in' type='checkbox'><label for='data-ece84b4e-cc65-4a37-85c6-457971fd8b82' title='Show/Hide data repr'><svg class='icon xr-icon-database'><use xlink:href='#icon-database'></use></svg></label><div class='xr-var-attrs'><dl class='xr-attrs'></dl></div><div class='xr-var-data'><pre>array(4)</pre></div></li><li class='xr-var-item'><div class='xr-var-name'><span class='xr-has-index'>decile</span></div><div class='xr-var-dims'>(decile)</div><div class='xr-var-dtype'>int64</div><div class='xr-var-preview xr-preview'>1 2 3 4 5 6 7 8 9 10</div><input id='attrs-0542b933-21a7-4920-aa56-499c28cb9766' class='xr-var-attrs-in' type='checkbox' disabled><label for='attrs-0542b933-21a7-4920-aa56-499c28cb9766' title='Show/Hide attributes'><svg class='icon xr-icon-file-text2'><use xlink:href='#icon-file-text2'></use></svg></label><input id='data-b83533ef-4d4a-4ef2-b976-812e39caf199' class='xr-var-data-in' type='checkbox'><label for='data-b83533ef-4d4a-4ef2-b976-812e39caf199' title='Show/Hide data repr'><svg class='icon xr-icon-database'><use xlink:href='#icon-database'></use></svg></label><div class='xr-var-attrs'><dl class='xr-attrs'></dl></div><div class='xr-var-data'><pre>array([ 1,  2,  3,  4,  5,  6,  7,  8,  9, 10])</pre></div></li><li class='xr-var-item'><div class='xr-var-name'><span class='xr-has-index'>lon</span></div><div class='xr-var-dims'>(lon)</div><div class='xr-var-dtype'>float64</div><div class='xr-var-preview xr-preview'>120.0 120.2 120.3 ... 239.8 240.0</div><input id='attrs-a36a0ebb-53a7-480a-9229-aa1efb36eb63' class='xr-var-attrs-in' type='checkbox' ><label for='attrs-a36a0ebb-53a7-480a-9229-aa1efb36eb63' title='Show/Hide attributes'><svg class='icon xr-icon-file-text2'><use xlink:href='#icon-file-text2'></use></svg></label><input id='data-630cb9ca-3f89-476d-8ba2-590b2c30955c' class='xr-var-data-in' type='checkbox'><label for='data-630cb9ca-3f89-476d-8ba2-590b2c30955c' title='Show/Hide data repr'><svg class='icon xr-icon-database'><use xlink:href='#icon-database'></use></svg></label><div class='xr-var-attrs'><dl class='xr-attrs'><dt><span>units :</span></dt><dd>degrees_east</dd><dt><span>long_name :</span></dt><dd>Longitude</dd></dl></div><div class='xr-var-data'><pre>array([120.      , 120.165517, 120.331034, ..., 239.668966, 239.834483,\n",
       "       240.      ])</pre></div></li><li class='xr-var-item'><div class='xr-var-name'><span class='xr-has-index'>lat</span></div><div class='xr-var-dims'>(lat)</div><div class='xr-var-dtype'>float64</div><div class='xr-var-preview xr-preview'>-50.0 -49.84 -49.67 ... 29.84 30.0</div><input id='attrs-1705f2a3-f2fd-46a2-9591-e559df2e6ab7' class='xr-var-attrs-in' type='checkbox' ><label for='attrs-1705f2a3-f2fd-46a2-9591-e559df2e6ab7' title='Show/Hide attributes'><svg class='icon xr-icon-file-text2'><use xlink:href='#icon-file-text2'></use></svg></label><input id='data-4d4a3c8d-2578-478a-ba12-79d31d694831' class='xr-var-data-in' type='checkbox'><label for='data-4d4a3c8d-2578-478a-ba12-79d31d694831' title='Show/Hide data repr'><svg class='icon xr-icon-database'><use xlink:href='#icon-database'></use></svg></label><div class='xr-var-attrs'><dl class='xr-attrs'><dt><span>units :</span></dt><dd>degrees_north</dd><dt><span>long_name :</span></dt><dd>Latitude</dd></dl></div><div class='xr-var-data'><pre>array([-50.      , -49.835052, -49.670103, ...,  29.670103,  29.835052,\n",
       "        30.      ])</pre></div></li></ul></div></li><li class='xr-section-item'><input id='section-50b447b4-67c6-417a-a59d-9520f5e2e379' class='xr-section-summary-in' type='checkbox'  checked><label for='section-50b447b4-67c6-417a-a59d-9520f5e2e379' class='xr-section-summary' >Data variables: <span>(1)</span></label><div class='xr-section-inline-details'></div><div class='xr-section-details'><ul class='xr-var-list'><li class='xr-var-item'><div class='xr-var-name'><span>precip</span></div><div class='xr-var-dims'>(GCM, decile, time, step, lat, lon)</div><div class='xr-var-dtype'>float64</div><div class='xr-var-preview xr-preview'>dask.array&lt;chunksize=(1, 10, 1, 3, 486, 726), meta=np.ndarray&gt;</div><input id='attrs-5956dbbb-f933-40a0-8792-7a6fa2d8e346' class='xr-var-attrs-in' type='checkbox' disabled><label for='attrs-5956dbbb-f933-40a0-8792-7a6fa2d8e346' title='Show/Hide attributes'><svg class='icon xr-icon-file-text2'><use xlink:href='#icon-file-text2'></use></svg></label><input id='data-88b3e73a-156f-4b84-97cb-0082d4b6383d' class='xr-var-data-in' type='checkbox'><label for='data-88b3e73a-156f-4b84-97cb-0082d4b6383d' title='Show/Hide data repr'><svg class='icon xr-icon-database'><use xlink:href='#icon-database'></use></svg></label><div class='xr-var-attrs'><dl class='xr-attrs'></dl></div><div class='xr-var-data'><table>\n",
       "    <tr>\n",
       "        <td>\n",
       "            <table>\n",
       "                <thead>\n",
       "                    <tr>\n",
       "                        <td> </td>\n",
       "                        <th> Array </th>\n",
       "                        <th> Chunk </th>\n",
       "                    </tr>\n",
       "                </thead>\n",
       "                <tbody>\n",
       "                    \n",
       "                    <tr>\n",
       "                        <th> Bytes </th>\n",
       "                        <td> 726.82 MiB </td>\n",
       "                        <td> 80.76 MiB </td>\n",
       "                    </tr>\n",
       "                    \n",
       "                    <tr>\n",
       "                        <th> Shape </th>\n",
       "                        <td> (9, 10, 1, 3, 486, 726) </td>\n",
       "                        <td> (1, 10, 1, 3, 486, 726) </td>\n",
       "                    </tr>\n",
       "                    <tr>\n",
       "                        <th> Count </th>\n",
       "                        <td> 71 Tasks </td>\n",
       "                        <td> 9 Chunks </td>\n",
       "                    </tr>\n",
       "                    <tr>\n",
       "                    <th> Type </th>\n",
       "                    <td> float64 </td>\n",
       "                    <td> numpy.ndarray </td>\n",
       "                    </tr>\n",
       "                </tbody>\n",
       "            </table>\n",
       "        </td>\n",
       "        <td>\n",
       "        <svg width=\"424\" height=\"145\" style=\"stroke:rgb(0,0,0);stroke-width:1\" >\n",
       "\n",
       "  <!-- Horizontal lines -->\n",
       "  <line x1=\"10\" y1=\"0\" x2=\"25\" y2=\"15\" style=\"stroke-width:2\" />\n",
       "  <line x1=\"10\" y1=\"27\" x2=\"25\" y2=\"42\" style=\"stroke-width:2\" />\n",
       "\n",
       "  <!-- Vertical lines -->\n",
       "  <line x1=\"10\" y1=\"0\" x2=\"10\" y2=\"27\" style=\"stroke-width:2\" />\n",
       "  <line x1=\"11\" y1=\"1\" x2=\"11\" y2=\"28\" />\n",
       "  <line x1=\"13\" y1=\"3\" x2=\"13\" y2=\"30\" />\n",
       "  <line x1=\"15\" y1=\"5\" x2=\"15\" y2=\"32\" />\n",
       "  <line x1=\"16\" y1=\"6\" x2=\"16\" y2=\"33\" />\n",
       "  <line x1=\"18\" y1=\"8\" x2=\"18\" y2=\"35\" />\n",
       "  <line x1=\"20\" y1=\"10\" x2=\"20\" y2=\"37\" />\n",
       "  <line x1=\"22\" y1=\"12\" x2=\"22\" y2=\"39\" />\n",
       "  <line x1=\"23\" y1=\"13\" x2=\"23\" y2=\"40\" />\n",
       "  <line x1=\"25\" y1=\"15\" x2=\"25\" y2=\"42\" style=\"stroke-width:2\" />\n",
       "\n",
       "  <!-- Colored Rectangle -->\n",
       "  <polygon points=\"10.0,0.0 25.5709935097992,15.570993509799202 25.5709935097992,42.581891523612626 10.0,27.01089801381342\" style=\"fill:#ECB172A0;stroke-width:0\"/>\n",
       "\n",
       "  <!-- Horizontal lines -->\n",
       "  <line x1=\"10\" y1=\"0\" x2=\"35\" y2=\"0\" style=\"stroke-width:2\" />\n",
       "  <line x1=\"11\" y1=\"1\" x2=\"37\" y2=\"1\" />\n",
       "  <line x1=\"13\" y1=\"3\" x2=\"38\" y2=\"3\" />\n",
       "  <line x1=\"15\" y1=\"5\" x2=\"40\" y2=\"5\" />\n",
       "  <line x1=\"16\" y1=\"6\" x2=\"42\" y2=\"6\" />\n",
       "  <line x1=\"18\" y1=\"8\" x2=\"44\" y2=\"8\" />\n",
       "  <line x1=\"20\" y1=\"10\" x2=\"45\" y2=\"10\" />\n",
       "  <line x1=\"22\" y1=\"12\" x2=\"47\" y2=\"12\" />\n",
       "  <line x1=\"23\" y1=\"13\" x2=\"49\" y2=\"13\" />\n",
       "  <line x1=\"25\" y1=\"15\" x2=\"50\" y2=\"15\" style=\"stroke-width:2\" />\n",
       "\n",
       "  <!-- Vertical lines -->\n",
       "  <line x1=\"10\" y1=\"0\" x2=\"25\" y2=\"15\" style=\"stroke-width:2\" />\n",
       "  <line x1=\"35\" y1=\"0\" x2=\"50\" y2=\"15\" style=\"stroke-width:2\" />\n",
       "\n",
       "  <!-- Colored Rectangle -->\n",
       "  <polygon points=\"10.0,0.0 35.41261651458248,0.0 50.98361002438168,15.570993509799202 25.5709935097992,15.570993509799202\" style=\"fill:#ECB172A0;stroke-width:0\"/>\n",
       "\n",
       "  <!-- Horizontal lines -->\n",
       "  <line x1=\"25\" y1=\"15\" x2=\"50\" y2=\"15\" style=\"stroke-width:2\" />\n",
       "  <line x1=\"25\" y1=\"42\" x2=\"50\" y2=\"42\" style=\"stroke-width:2\" />\n",
       "\n",
       "  <!-- Vertical lines -->\n",
       "  <line x1=\"25\" y1=\"15\" x2=\"25\" y2=\"42\" style=\"stroke-width:2\" />\n",
       "  <line x1=\"50\" y1=\"15\" x2=\"50\" y2=\"42\" style=\"stroke-width:2\" />\n",
       "\n",
       "  <!-- Colored Rectangle -->\n",
       "  <polygon points=\"25.5709935097992,15.570993509799202 50.98361002438169,15.570993509799202 50.98361002438169,42.581891523612626 25.5709935097992,42.581891523612626\" style=\"fill:#ECB172A0;stroke-width:0\"/>\n",
       "\n",
       "  <!-- Text -->\n",
       "  <text x=\"38.277302\" y=\"62.581892\" font-size=\"1.0rem\" font-weight=\"100\" text-anchor=\"middle\" >1</text>\n",
       "  <text x=\"70.983610\" y=\"29.076443\" font-size=\"1.0rem\" font-weight=\"100\" text-anchor=\"middle\" transform=\"rotate(0,70.983610,29.076443)\">10</text>\n",
       "  <text x=\"7.785497\" y=\"54.796395\" font-size=\"1.0rem\" font-weight=\"100\" text-anchor=\"middle\" transform=\"rotate(45,7.785497,54.796395)\">9</text>\n",
       "\n",
       "\n",
       "  <!-- Horizontal lines -->\n",
       "  <line x1=\"120\" y1=\"0\" x2=\"134\" y2=\"14\" style=\"stroke-width:2\" />\n",
       "  <line x1=\"120\" y1=\"80\" x2=\"134\" y2=\"95\" style=\"stroke-width:2\" />\n",
       "\n",
       "  <!-- Vertical lines -->\n",
       "  <line x1=\"120\" y1=\"0\" x2=\"120\" y2=\"80\" style=\"stroke-width:2\" />\n",
       "  <line x1=\"134\" y1=\"14\" x2=\"134\" y2=\"95\" style=\"stroke-width:2\" />\n",
       "\n",
       "  <!-- Colored Rectangle -->\n",
       "  <polygon points=\"120.0,0.0 134.9485979497544,14.948597949754403 134.9485979497544,95.2791764621511 120.0,80.3305785123967\" style=\"fill:#ECB172A0;stroke-width:0\"/>\n",
       "\n",
       "  <!-- Horizontal lines -->\n",
       "  <line x1=\"120\" y1=\"0\" x2=\"240\" y2=\"0\" style=\"stroke-width:2\" />\n",
       "  <line x1=\"134\" y1=\"14\" x2=\"254\" y2=\"14\" style=\"stroke-width:2\" />\n",
       "\n",
       "  <!-- Vertical lines -->\n",
       "  <line x1=\"120\" y1=\"0\" x2=\"134\" y2=\"14\" style=\"stroke-width:2\" />\n",
       "  <line x1=\"240\" y1=\"0\" x2=\"254\" y2=\"14\" style=\"stroke-width:2\" />\n",
       "\n",
       "  <!-- Colored Rectangle -->\n",
       "  <polygon points=\"120.0,0.0 240.0,0.0 254.9485979497544,14.948597949754403 134.9485979497544,14.948597949754403\" style=\"fill:#ECB172A0;stroke-width:0\"/>\n",
       "\n",
       "  <!-- Horizontal lines -->\n",
       "  <line x1=\"134\" y1=\"14\" x2=\"254\" y2=\"14\" style=\"stroke-width:2\" />\n",
       "  <line x1=\"134\" y1=\"95\" x2=\"254\" y2=\"95\" style=\"stroke-width:2\" />\n",
       "\n",
       "  <!-- Vertical lines -->\n",
       "  <line x1=\"134\" y1=\"14\" x2=\"134\" y2=\"95\" style=\"stroke-width:2\" />\n",
       "  <line x1=\"254\" y1=\"14\" x2=\"254\" y2=\"95\" style=\"stroke-width:2\" />\n",
       "\n",
       "  <!-- Colored Rectangle -->\n",
       "  <polygon points=\"134.9485979497544,14.948597949754403 254.9485979497544,14.948597949754403 254.9485979497544,95.2791764621511 134.9485979497544,95.2791764621511\" style=\"fill:#ECB172A0;stroke-width:0\"/>\n",
       "\n",
       "  <!-- Text -->\n",
       "  <text x=\"194.948598\" y=\"115.279176\" font-size=\"1.0rem\" font-weight=\"100\" text-anchor=\"middle\" >726</text>\n",
       "  <text x=\"274.948598\" y=\"55.113887\" font-size=\"1.0rem\" font-weight=\"100\" text-anchor=\"middle\" transform=\"rotate(-90,274.948598,55.113887)\">486</text>\n",
       "  <text x=\"117.474299\" y=\"107.804877\" font-size=\"1.0rem\" font-weight=\"100\" text-anchor=\"middle\" transform=\"rotate(45,117.474299,107.804877)\">3</text>\n",
       "</svg>\n",
       "        </td>\n",
       "    </tr>\n",
       "</table></div></li></ul></div></li><li class='xr-section-item'><input id='section-0a144671-3d41-450d-be29-8c0d119d0e3c' class='xr-section-summary-in' type='checkbox'  checked><label for='section-0a144671-3d41-450d-be29-8c0d119d0e3c' class='xr-section-summary' >Attributes: <span>(1)</span></label><div class='xr-section-inline-details'></div><div class='xr-section-details'><dl class='xr-attrs'><dt><span>pct_values :</span></dt><dd>[0.1 0.2 0.3 0.4 0.5 0.6 0.7 0.8 0.9]</dd></dl></div></li></ul></div></div>"
      ],
      "text/plain": [
       "<xarray.Dataset>\n",
       "Dimensions:  (GCM: 9, decile: 10, time: 1, step: 3, lat: 486, lon: 726)\n",
       "Coordinates:\n",
       "  * GCM      (GCM) object 'METEO_FRANCE' 'JMA' 'UKMO' ... 'ECCC_GEM_NEMO' 'DWD'\n",
       "  * time     (time) datetime64[ns] 2022-04-01\n",
       "  * step     (step) int64 3 4 5\n",
       "    month    int64 4\n",
       "  * decile   (decile) int64 1 2 3 4 5 6 7 8 9 10\n",
       "  * lon      (lon) float64 120.0 120.2 120.3 120.5 ... 239.5 239.7 239.8 240.0\n",
       "  * lat      (lat) float64 -50.0 -49.84 -49.67 -49.51 ... 29.51 29.67 29.84 30.0\n",
       "Data variables:\n",
       "    precip   (GCM, decile, time, step, lat, lon) float64 dask.array<chunksize=(1, 10, 1, 3, 486, 726), meta=np.ndarray>\n",
       "Attributes:\n",
       "    pct_values:  [0.1 0.2 0.3 0.4 0.5 0.6 0.7 0.8 0.9]"
      ]
     },
     "execution_count": 27,
     "metadata": {},
     "output_type": "execute_result"
    }
   ],
   "source": [
    "probs"
   ]
  },
  {
   "cell_type": "code",
   "execution_count": 28,
   "id": "e0351790",
   "metadata": {
    "execution": {
     "iopub.execute_input": "2022-04-29T06:45:38.637949Z",
     "iopub.status.busy": "2022-04-29T06:45:38.637803Z",
     "iopub.status.idle": "2022-04-29T06:45:38.657291Z",
     "shell.execute_reply": "2022-04-29T06:45:38.656829Z"
    },
    "papermill": {
     "duration": 0.031291,
     "end_time": "2022-04-29T06:45:38.658492",
     "exception": false,
     "start_time": "2022-04-29T06:45:38.627201",
     "status": "completed"
    },
    "tags": []
   },
   "outputs": [],
   "source": [
    "probs = probs.mean('GCM')"
   ]
  },
  {
   "cell_type": "markdown",
   "id": "cf30fa54",
   "metadata": {
    "papermill": {
     "duration": 0.009882,
     "end_time": "2022-04-29T06:45:38.678121",
     "exception": false,
     "start_time": "2022-04-29T06:45:38.668239",
     "status": "completed"
    },
    "tags": []
   },
   "source": [
    "### make sure the probabilities sum to 100 over the decile dimension "
   ]
  },
  {
   "cell_type": "code",
   "execution_count": 29,
   "id": "2145cec1",
   "metadata": {
    "execution": {
     "iopub.execute_input": "2022-04-29T06:45:38.699063Z",
     "iopub.status.busy": "2022-04-29T06:45:38.698805Z",
     "iopub.status.idle": "2022-04-29T06:45:41.020309Z",
     "shell.execute_reply": "2022-04-29T06:45:41.019877Z"
    },
    "papermill": {
     "duration": 2.333789,
     "end_time": "2022-04-29T06:45:41.021331",
     "exception": false,
     "start_time": "2022-04-29T06:45:38.687542",
     "status": "completed"
    },
    "tags": []
   },
   "outputs": [
    {
     "data": {
      "text/plain": [
       "<matplotlib.collections.QuadMesh at 0x7fd608573c70>"
      ]
     },
     "execution_count": 29,
     "metadata": {},
     "output_type": "execute_result"
    },
    {
     "data": {
      "image/png": "[encoded data removed]",
      "text/plain": [
       "<Figure size 432x288 with 2 Axes>"
      ]
     },
     "metadata": {
      "needs_background": "light"
     },
     "output_type": "display_data"
    }
   ],
   "source": [
    "probs.sum('decile').squeeze().sel(step=3)['precip'].plot(vmin=99.99, vmax=100.01)"
   ]
  },
  {
   "cell_type": "code",
   "execution_count": 30,
   "id": "c4b412d0-9d3d-4b88-967a-620285fb6318",
   "metadata": {
    "execution": {
     "iopub.execute_input": "2022-04-29T06:45:41.042549Z",
     "iopub.status.busy": "2022-04-29T06:45:41.042069Z",
     "iopub.status.idle": "2022-04-29T06:45:41.071046Z",
     "shell.execute_reply": "2022-04-29T06:45:41.070601Z"
    },
    "papermill": {
     "duration": 0.040517,
     "end_time": "2022-04-29T06:45:41.072143",
     "exception": false,
     "start_time": "2022-04-29T06:45:41.031626",
     "status": "completed"
    },
    "tags": []
   },
   "outputs": [
    {
     "data": {
      "text/html": [
       "<div><svg style=\"position: absolute; width: 0; height: 0; overflow: hidden\">\n",
       "<defs>\n",
       "<symbol id=\"icon-database\" viewBox=\"0 0 32 32\">\n",
       "<path d=\"M16 0c-8.837 0-16 2.239-16 5v4c0 2.761 7.163 5 16 5s16-2.239 16-5v-4c0-2.761-7.163-5-16-5z\"></path>\n",
       "<path d=\"M16 17c-8.837 0-16-2.239-16-5v6c0 2.761 7.163 5 16 5s16-2.239 16-5v-6c0 2.761-7.163 5-16 5z\"></path>\n",
       "<path d=\"M16 26c-8.837 0-16-2.239-16-5v6c0 2.761 7.163 5 16 5s16-2.239 16-5v-6c0 2.761-7.163 5-16 5z\"></path>\n",
       "</symbol>\n",
       "<symbol id=\"icon-file-text2\" viewBox=\"0 0 32 32\">\n",
       "<path d=\"M28.681 7.159c-0.694-0.947-1.662-2.053-2.724-3.116s-2.169-2.030-3.116-2.724c-1.612-1.182-2.393-1.319-2.841-1.319h-15.5c-1.378 0-2.5 1.121-2.5 2.5v27c0 1.378 1.122 2.5 2.5 2.5h23c1.378 0 2.5-1.122 2.5-2.5v-19.5c0-0.448-0.137-1.23-1.319-2.841zM24.543 5.457c0.959 0.959 1.712 1.825 2.268 2.543h-4.811v-4.811c0.718 0.556 1.584 1.309 2.543 2.268zM28 29.5c0 0.271-0.229 0.5-0.5 0.5h-23c-0.271 0-0.5-0.229-0.5-0.5v-27c0-0.271 0.229-0.5 0.5-0.5 0 0 15.499-0 15.5 0v7c0 0.552 0.448 1 1 1h7v19.5z\"></path>\n",
       "<path d=\"M23 26h-14c-0.552 0-1-0.448-1-1s0.448-1 1-1h14c0.552 0 1 0.448 1 1s-0.448 1-1 1z\"></path>\n",
       "<path d=\"M23 22h-14c-0.552 0-1-0.448-1-1s0.448-1 1-1h14c0.552 0 1 0.448 1 1s-0.448 1-1 1z\"></path>\n",
       "<path d=\"M23 18h-14c-0.552 0-1-0.448-1-1s0.448-1 1-1h14c0.552 0 1 0.448 1 1s-0.448 1-1 1z\"></path>\n",
       "</symbol>\n",
       "</defs>\n",
       "</svg>\n",
       "<style>/* CSS stylesheet for displaying xarray objects in jupyterlab.\n",
       " *\n",
       " */\n",
       "\n",
       ":root {\n",
       "  --xr-font-color0: var(--jp-content-font-color0, rgba(0, 0, 0, 1));\n",
       "  --xr-font-color2: var(--jp-content-font-color2, rgba(0, 0, 0, 0.54));\n",
       "  --xr-font-color3: var(--jp-content-font-color3, rgba(0, 0, 0, 0.38));\n",
       "  --xr-border-color: var(--jp-border-color2, #e0e0e0);\n",
       "  --xr-disabled-color: var(--jp-layout-color3, #bdbdbd);\n",
       "  --xr-background-color: var(--jp-layout-color0, white);\n",
       "  --xr-background-color-row-even: var(--jp-layout-color1, white);\n",
       "  --xr-background-color-row-odd: var(--jp-layout-color2, #eeeeee);\n",
       "}\n",
       "\n",
       "html[theme=dark],\n",
       "body.vscode-dark {\n",
       "  --xr-font-color0: rgba(255, 255, 255, 1);\n",
       "  --xr-font-color2: rgba(255, 255, 255, 0.54);\n",
       "  --xr-font-color3: rgba(255, 255, 255, 0.38);\n",
       "  --xr-border-color: #1F1F1F;\n",
       "  --xr-disabled-color: #515151;\n",
       "  --xr-background-color: #111111;\n",
       "  --xr-background-color-row-even: #111111;\n",
       "  --xr-background-color-row-odd: #313131;\n",
       "}\n",
       "\n",
       ".xr-wrap {\n",
       "  display: block !important;\n",
       "  min-width: 300px;\n",
       "  max-width: 700px;\n",
       "}\n",
       "\n",
       ".xr-text-repr-fallback {\n",
       "  /* fallback to plain text repr when CSS is not injected (untrusted notebook) */\n",
       "  display: none;\n",
       "}\n",
       "\n",
       ".xr-header {\n",
       "  padding-top: 6px;\n",
       "  padding-bottom: 6px;\n",
       "  margin-bottom: 4px;\n",
       "  border-bottom: solid 1px var(--xr-border-color);\n",
       "}\n",
       "\n",
       ".xr-header > div,\n",
       ".xr-header > ul {\n",
       "  display: inline;\n",
       "  margin-top: 0;\n",
       "  margin-bottom: 0;\n",
       "}\n",
       "\n",
       ".xr-obj-type,\n",
       ".xr-array-name {\n",
       "  margin-left: 2px;\n",
       "  margin-right: 10px;\n",
       "}\n",
       "\n",
       ".xr-obj-type {\n",
       "  color: var(--xr-font-color2);\n",
       "}\n",
       "\n",
       ".xr-sections {\n",
       "  padding-left: 0 !important;\n",
       "  display: grid;\n",
       "  grid-template-columns: 150px auto auto 1fr 20px 20px;\n",
       "}\n",
       "\n",
       ".xr-section-item {\n",
       "  display: contents;\n",
       "}\n",
       "\n",
       ".xr-section-item input {\n",
       "  display: none;\n",
       "}\n",
       "\n",
       ".xr-section-item input + label {\n",
       "  color: var(--xr-disabled-color);\n",
       "}\n",
       "\n",
       ".xr-section-item input:enabled + label {\n",
       "  cursor: pointer;\n",
       "  color: var(--xr-font-color2);\n",
       "}\n",
       "\n",
       ".xr-section-item input:enabled + label:hover {\n",
       "  color: var(--xr-font-color0);\n",
       "}\n",
       "\n",
       ".xr-section-summary {\n",
       "  grid-column: 1;\n",
       "  color: var(--xr-font-color2);\n",
       "  font-weight: 500;\n",
       "}\n",
       "\n",
       ".xr-section-summary > span {\n",
       "  display: inline-block;\n",
       "  padding-left: 0.5em;\n",
       "}\n",
       "\n",
       ".xr-section-summary-in:disabled + label {\n",
       "  color: var(--xr-font-color2);\n",
       "}\n",
       "\n",
       ".xr-section-summary-in + label:before {\n",
       "  display: inline-block;\n",
       "  content: '►';\n",
       "  font-size: 11px;\n",
       "  width: 15px;\n",
       "  text-align: center;\n",
       "}\n",
       "\n",
       ".xr-section-summary-in:disabled + label:before {\n",
       "  color: var(--xr-disabled-color);\n",
       "}\n",
       "\n",
       ".xr-section-summary-in:checked + label:before {\n",
       "  content: '▼';\n",
       "}\n",
       "\n",
       ".xr-section-summary-in:checked + label > span {\n",
       "  display: none;\n",
       "}\n",
       "\n",
       ".xr-section-summary,\n",
       ".xr-section-inline-details {\n",
       "  padding-top: 4px;\n",
       "  padding-bottom: 4px;\n",
       "}\n",
       "\n",
       ".xr-section-inline-details {\n",
       "  grid-column: 2 / -1;\n",
       "}\n",
       "\n",
       ".xr-section-details {\n",
       "  display: none;\n",
       "  grid-column: 1 / -1;\n",
       "  margin-bottom: 5px;\n",
       "}\n",
       "\n",
       ".xr-section-summary-in:checked ~ .xr-section-details {\n",
       "  display: contents;\n",
       "}\n",
       "\n",
       ".xr-array-wrap {\n",
       "  grid-column: 1 / -1;\n",
       "  display: grid;\n",
       "  grid-template-columns: 20px auto;\n",
       "}\n",
       "\n",
       ".xr-array-wrap > label {\n",
       "  grid-column: 1;\n",
       "  vertical-align: top;\n",
       "}\n",
       "\n",
       ".xr-preview {\n",
       "  color: var(--xr-font-color3);\n",
       "}\n",
       "\n",
       ".xr-array-preview,\n",
       ".xr-array-data {\n",
       "  padding: 0 5px !important;\n",
       "  grid-column: 2;\n",
       "}\n",
       "\n",
       ".xr-array-data,\n",
       ".xr-array-in:checked ~ .xr-array-preview {\n",
       "  display: none;\n",
       "}\n",
       "\n",
       ".xr-array-in:checked ~ .xr-array-data,\n",
       ".xr-array-preview {\n",
       "  display: inline-block;\n",
       "}\n",
       "\n",
       ".xr-dim-list {\n",
       "  display: inline-block !important;\n",
       "  list-style: none;\n",
       "  padding: 0 !important;\n",
       "  margin: 0;\n",
       "}\n",
       "\n",
       ".xr-dim-list li {\n",
       "  display: inline-block;\n",
       "  padding: 0;\n",
       "  margin: 0;\n",
       "}\n",
       "\n",
       ".xr-dim-list:before {\n",
       "  content: '(';\n",
       "}\n",
       "\n",
       ".xr-dim-list:after {\n",
       "  content: ')';\n",
       "}\n",
       "\n",
       ".xr-dim-list li:not(:last-child):after {\n",
       "  content: ',';\n",
       "  padding-right: 5px;\n",
       "}\n",
       "\n",
       ".xr-has-index {\n",
       "  font-weight: bold;\n",
       "}\n",
       "\n",
       ".xr-var-list,\n",
       ".xr-var-item {\n",
       "  display: contents;\n",
       "}\n",
       "\n",
       ".xr-var-item > div,\n",
       ".xr-var-item label,\n",
       ".xr-var-item > .xr-var-name span {\n",
       "  background-color: var(--xr-background-color-row-even);\n",
       "  margin-bottom: 0;\n",
       "}\n",
       "\n",
       ".xr-var-item > .xr-var-name:hover span {\n",
       "  padding-right: 5px;\n",
       "}\n",
       "\n",
       ".xr-var-list > li:nth-child(odd) > div,\n",
       ".xr-var-list > li:nth-child(odd) > label,\n",
       ".xr-var-list > li:nth-child(odd) > .xr-var-name span {\n",
       "  background-color: var(--xr-background-color-row-odd);\n",
       "}\n",
       "\n",
       ".xr-var-name {\n",
       "  grid-column: 1;\n",
       "}\n",
       "\n",
       ".xr-var-dims {\n",
       "  grid-column: 2;\n",
       "}\n",
       "\n",
       ".xr-var-dtype {\n",
       "  grid-column: 3;\n",
       "  text-align: right;\n",
       "  color: var(--xr-font-color2);\n",
       "}\n",
       "\n",
       ".xr-var-preview {\n",
       "  grid-column: 4;\n",
       "}\n",
       "\n",
       ".xr-var-name,\n",
       ".xr-var-dims,\n",
       ".xr-var-dtype,\n",
       ".xr-preview,\n",
       ".xr-attrs dt {\n",
       "  white-space: nowrap;\n",
       "  overflow: hidden;\n",
       "  text-overflow: ellipsis;\n",
       "  padding-right: 10px;\n",
       "}\n",
       "\n",
       ".xr-var-name:hover,\n",
       ".xr-var-dims:hover,\n",
       ".xr-var-dtype:hover,\n",
       ".xr-attrs dt:hover {\n",
       "  overflow: visible;\n",
       "  width: auto;\n",
       "  z-index: 1;\n",
       "}\n",
       "\n",
       ".xr-var-attrs,\n",
       ".xr-var-data {\n",
       "  display: none;\n",
       "  background-color: var(--xr-background-color) !important;\n",
       "  padding-bottom: 5px !important;\n",
       "}\n",
       "\n",
       ".xr-var-attrs-in:checked ~ .xr-var-attrs,\n",
       ".xr-var-data-in:checked ~ .xr-var-data {\n",
       "  display: block;\n",
       "}\n",
       "\n",
       ".xr-var-data > table {\n",
       "  float: right;\n",
       "}\n",
       "\n",
       ".xr-var-name span,\n",
       ".xr-var-data,\n",
       ".xr-attrs {\n",
       "  padding-left: 25px !important;\n",
       "}\n",
       "\n",
       ".xr-attrs,\n",
       ".xr-var-attrs,\n",
       ".xr-var-data {\n",
       "  grid-column: 1 / -1;\n",
       "}\n",
       "\n",
       "dl.xr-attrs {\n",
       "  padding: 0;\n",
       "  margin: 0;\n",
       "  display: grid;\n",
       "  grid-template-columns: 125px auto;\n",
       "}\n",
       "\n",
       ".xr-attrs dt,\n",
       ".xr-attrs dd {\n",
       "  padding: 0;\n",
       "  margin: 0;\n",
       "  float: left;\n",
       "  padding-right: 10px;\n",
       "  width: auto;\n",
       "}\n",
       "\n",
       ".xr-attrs dt {\n",
       "  font-weight: normal;\n",
       "  grid-column: 1;\n",
       "}\n",
       "\n",
       ".xr-attrs dt:hover span {\n",
       "  display: inline-block;\n",
       "  background: var(--xr-background-color);\n",
       "  padding-right: 10px;\n",
       "}\n",
       "\n",
       ".xr-attrs dd {\n",
       "  grid-column: 2;\n",
       "  white-space: pre-wrap;\n",
       "  word-break: break-all;\n",
       "}\n",
       "\n",
       ".xr-icon-database,\n",
       ".xr-icon-file-text2 {\n",
       "  display: inline-block;\n",
       "  vertical-align: middle;\n",
       "  width: 1em;\n",
       "  height: 1.5em !important;\n",
       "  stroke-width: 0;\n",
       "  stroke: currentColor;\n",
       "  fill: currentColor;\n",
       "}\n",
       "</style><pre class='xr-text-repr-fallback'>&lt;xarray.Dataset&gt;\n",
       "Dimensions:  (decile: 10, time: 1, step: 3, lat: 486, lon: 726)\n",
       "Coordinates:\n",
       "  * time     (time) datetime64[ns] 2022-04-01\n",
       "  * step     (step) int64 3 4 5\n",
       "    month    int64 4\n",
       "  * decile   (decile) int64 1 2 3 4 5 6 7 8 9 10\n",
       "  * lon      (lon) float64 120.0 120.2 120.3 120.5 ... 239.5 239.7 239.8 240.0\n",
       "  * lat      (lat) float64 -50.0 -49.84 -49.67 -49.51 ... 29.51 29.67 29.84 30.0\n",
       "Data variables:\n",
       "    precip   (decile, time, step, lat, lon) float64 dask.array&lt;chunksize=(10, 1, 3, 486, 726), meta=np.ndarray&gt;</pre><div class='xr-wrap' style='display:none'><div class='xr-header'><div class='xr-obj-type'>xarray.Dataset</div></div><ul class='xr-sections'><li class='xr-section-item'><input id='section-3283ab0a-7e99-434c-a368-e8c72fefc2b2' class='xr-section-summary-in' type='checkbox' disabled ><label for='section-3283ab0a-7e99-434c-a368-e8c72fefc2b2' class='xr-section-summary'  title='Expand/collapse section'>Dimensions:</label><div class='xr-section-inline-details'><ul class='xr-dim-list'><li><span class='xr-has-index'>decile</span>: 10</li><li><span class='xr-has-index'>time</span>: 1</li><li><span class='xr-has-index'>step</span>: 3</li><li><span class='xr-has-index'>lat</span>: 486</li><li><span class='xr-has-index'>lon</span>: 726</li></ul></div><div class='xr-section-details'></div></li><li class='xr-section-item'><input id='section-b14766c1-50cc-4f64-90ac-d6d381033b48' class='xr-section-summary-in' type='checkbox'  checked><label for='section-b14766c1-50cc-4f64-90ac-d6d381033b48' class='xr-section-summary' >Coordinates: <span>(6)</span></label><div class='xr-section-inline-details'></div><div class='xr-section-details'><ul class='xr-var-list'><li class='xr-var-item'><div class='xr-var-name'><span class='xr-has-index'>time</span></div><div class='xr-var-dims'>(time)</div><div class='xr-var-dtype'>datetime64[ns]</div><div class='xr-var-preview xr-preview'>2022-04-01</div><input id='attrs-462e2528-5d1a-4b0d-873c-93c0701b71e8' class='xr-var-attrs-in' type='checkbox' disabled><label for='attrs-462e2528-5d1a-4b0d-873c-93c0701b71e8' title='Show/Hide attributes'><svg class='icon xr-icon-file-text2'><use xlink:href='#icon-file-text2'></use></svg></label><input id='data-fb5c3ae0-5291-497c-9104-a7b966c9b863' class='xr-var-data-in' type='checkbox'><label for='data-fb5c3ae0-5291-497c-9104-a7b966c9b863' title='Show/Hide data repr'><svg class='icon xr-icon-database'><use xlink:href='#icon-database'></use></svg></label><div class='xr-var-attrs'><dl class='xr-attrs'></dl></div><div class='xr-var-data'><pre>array([&#x27;2022-04-01T00:00:00.000000000&#x27;], dtype=&#x27;datetime64[ns]&#x27;)</pre></div></li><li class='xr-var-item'><div class='xr-var-name'><span class='xr-has-index'>step</span></div><div class='xr-var-dims'>(step)</div><div class='xr-var-dtype'>int64</div><div class='xr-var-preview xr-preview'>3 4 5</div><input id='attrs-d036f495-1af1-4f1b-9a37-438982edbafc' class='xr-var-attrs-in' type='checkbox' disabled><label for='attrs-d036f495-1af1-4f1b-9a37-438982edbafc' title='Show/Hide attributes'><svg class='icon xr-icon-file-text2'><use xlink:href='#icon-file-text2'></use></svg></label><input id='data-6df760e9-06ab-4583-ac60-00fe54028355' class='xr-var-data-in' type='checkbox'><label for='data-6df760e9-06ab-4583-ac60-00fe54028355' title='Show/Hide data repr'><svg class='icon xr-icon-database'><use xlink:href='#icon-database'></use></svg></label><div class='xr-var-attrs'><dl class='xr-attrs'></dl></div><div class='xr-var-data'><pre>array([3, 4, 5])</pre></div></li><li class='xr-var-item'><div class='xr-var-name'><span>month</span></div><div class='xr-var-dims'>()</div><div class='xr-var-dtype'>int64</div><div class='xr-var-preview xr-preview'>4</div><input id='attrs-d081dccc-27ac-49c3-8522-49ea61a7fc05' class='xr-var-attrs-in' type='checkbox' disabled><label for='attrs-d081dccc-27ac-49c3-8522-49ea61a7fc05' title='Show/Hide attributes'><svg class='icon xr-icon-file-text2'><use xlink:href='#icon-file-text2'></use></svg></label><input id='data-575b8ae5-a59c-44e8-9376-4261d602aa49' class='xr-var-data-in' type='checkbox'><label for='data-575b8ae5-a59c-44e8-9376-4261d602aa49' title='Show/Hide data repr'><svg class='icon xr-icon-database'><use xlink:href='#icon-database'></use></svg></label><div class='xr-var-attrs'><dl class='xr-attrs'></dl></div><div class='xr-var-data'><pre>array(4)</pre></div></li><li class='xr-var-item'><div class='xr-var-name'><span class='xr-has-index'>decile</span></div><div class='xr-var-dims'>(decile)</div><div class='xr-var-dtype'>int64</div><div class='xr-var-preview xr-preview'>1 2 3 4 5 6 7 8 9 10</div><input id='attrs-cd300608-0e5f-426e-9dca-3d772b4fe023' class='xr-var-attrs-in' type='checkbox' disabled><label for='attrs-cd300608-0e5f-426e-9dca-3d772b4fe023' title='Show/Hide attributes'><svg class='icon xr-icon-file-text2'><use xlink:href='#icon-file-text2'></use></svg></label><input id='data-d3006eb2-cb85-4455-82af-f47ce7a567c7' class='xr-var-data-in' type='checkbox'><label for='data-d3006eb2-cb85-4455-82af-f47ce7a567c7' title='Show/Hide data repr'><svg class='icon xr-icon-database'><use xlink:href='#icon-database'></use></svg></label><div class='xr-var-attrs'><dl class='xr-attrs'></dl></div><div class='xr-var-data'><pre>array([ 1,  2,  3,  4,  5,  6,  7,  8,  9, 10])</pre></div></li><li class='xr-var-item'><div class='xr-var-name'><span class='xr-has-index'>lon</span></div><div class='xr-var-dims'>(lon)</div><div class='xr-var-dtype'>float64</div><div class='xr-var-preview xr-preview'>120.0 120.2 120.3 ... 239.8 240.0</div><input id='attrs-65320b43-dea2-4ca2-92ba-977ead754ef9' class='xr-var-attrs-in' type='checkbox' ><label for='attrs-65320b43-dea2-4ca2-92ba-977ead754ef9' title='Show/Hide attributes'><svg class='icon xr-icon-file-text2'><use xlink:href='#icon-file-text2'></use></svg></label><input id='data-80739682-f20d-4f5b-bded-0d51463adef2' class='xr-var-data-in' type='checkbox'><label for='data-80739682-f20d-4f5b-bded-0d51463adef2' title='Show/Hide data repr'><svg class='icon xr-icon-database'><use xlink:href='#icon-database'></use></svg></label><div class='xr-var-attrs'><dl class='xr-attrs'><dt><span>units :</span></dt><dd>degrees_east</dd><dt><span>long_name :</span></dt><dd>Longitude</dd></dl></div><div class='xr-var-data'><pre>array([120.      , 120.165517, 120.331034, ..., 239.668966, 239.834483,\n",
       "       240.      ])</pre></div></li><li class='xr-var-item'><div class='xr-var-name'><span class='xr-has-index'>lat</span></div><div class='xr-var-dims'>(lat)</div><div class='xr-var-dtype'>float64</div><div class='xr-var-preview xr-preview'>-50.0 -49.84 -49.67 ... 29.84 30.0</div><input id='attrs-cf85520b-fed0-4d2e-91af-5e371991dff1' class='xr-var-attrs-in' type='checkbox' ><label for='attrs-cf85520b-fed0-4d2e-91af-5e371991dff1' title='Show/Hide attributes'><svg class='icon xr-icon-file-text2'><use xlink:href='#icon-file-text2'></use></svg></label><input id='data-86be818f-23e5-4840-a24d-5753965fe3a7' class='xr-var-data-in' type='checkbox'><label for='data-86be818f-23e5-4840-a24d-5753965fe3a7' title='Show/Hide data repr'><svg class='icon xr-icon-database'><use xlink:href='#icon-database'></use></svg></label><div class='xr-var-attrs'><dl class='xr-attrs'><dt><span>units :</span></dt><dd>degrees_north</dd><dt><span>long_name :</span></dt><dd>Latitude</dd></dl></div><div class='xr-var-data'><pre>array([-50.      , -49.835052, -49.670103, ...,  29.670103,  29.835052,\n",
       "        30.      ])</pre></div></li></ul></div></li><li class='xr-section-item'><input id='section-2fab1fd3-9a89-4c6f-9273-0ef57764c9c0' class='xr-section-summary-in' type='checkbox'  checked><label for='section-2fab1fd3-9a89-4c6f-9273-0ef57764c9c0' class='xr-section-summary' >Data variables: <span>(1)</span></label><div class='xr-section-inline-details'></div><div class='xr-section-details'><ul class='xr-var-list'><li class='xr-var-item'><div class='xr-var-name'><span>precip</span></div><div class='xr-var-dims'>(decile, time, step, lat, lon)</div><div class='xr-var-dtype'>float64</div><div class='xr-var-preview xr-preview'>dask.array&lt;chunksize=(10, 1, 3, 486, 726), meta=np.ndarray&gt;</div><input id='attrs-4ffd6da9-25c5-428f-9add-f4aeac97c452' class='xr-var-attrs-in' type='checkbox' disabled><label for='attrs-4ffd6da9-25c5-428f-9add-f4aeac97c452' title='Show/Hide attributes'><svg class='icon xr-icon-file-text2'><use xlink:href='#icon-file-text2'></use></svg></label><input id='data-de9b4ad5-be49-4771-b2f0-ae7daa273740' class='xr-var-data-in' type='checkbox'><label for='data-de9b4ad5-be49-4771-b2f0-ae7daa273740' title='Show/Hide data repr'><svg class='icon xr-icon-database'><use xlink:href='#icon-database'></use></svg></label><div class='xr-var-attrs'><dl class='xr-attrs'></dl></div><div class='xr-var-data'><table>\n",
       "    <tr>\n",
       "        <td>\n",
       "            <table>\n",
       "                <thead>\n",
       "                    <tr>\n",
       "                        <td> </td>\n",
       "                        <th> Array </th>\n",
       "                        <th> Chunk </th>\n",
       "                    </tr>\n",
       "                </thead>\n",
       "                <tbody>\n",
       "                    \n",
       "                    <tr>\n",
       "                        <th> Bytes </th>\n",
       "                        <td> 80.76 MiB </td>\n",
       "                        <td> 80.76 MiB </td>\n",
       "                    </tr>\n",
       "                    \n",
       "                    <tr>\n",
       "                        <th> Shape </th>\n",
       "                        <td> (10, 1, 3, 486, 726) </td>\n",
       "                        <td> (10, 1, 3, 486, 726) </td>\n",
       "                    </tr>\n",
       "                    <tr>\n",
       "                        <th> Count </th>\n",
       "                        <td> 84 Tasks </td>\n",
       "                        <td> 1 Chunks </td>\n",
       "                    </tr>\n",
       "                    <tr>\n",
       "                    <th> Type </th>\n",
       "                    <td> float64 </td>\n",
       "                    <td> numpy.ndarray </td>\n",
       "                    </tr>\n",
       "                </tbody>\n",
       "            </table>\n",
       "        </td>\n",
       "        <td>\n",
       "        <svg width=\"374\" height=\"145\" style=\"stroke:rgb(0,0,0);stroke-width:1\" >\n",
       "\n",
       "  <!-- Horizontal lines -->\n",
       "  <line x1=\"0\" y1=\"0\" x2=\"25\" y2=\"0\" style=\"stroke-width:2\" />\n",
       "  <line x1=\"0\" y1=\"27\" x2=\"25\" y2=\"27\" style=\"stroke-width:2\" />\n",
       "\n",
       "  <!-- Vertical lines -->\n",
       "  <line x1=\"0\" y1=\"0\" x2=\"0\" y2=\"27\" style=\"stroke-width:2\" />\n",
       "  <line x1=\"25\" y1=\"0\" x2=\"25\" y2=\"27\" style=\"stroke-width:2\" />\n",
       "\n",
       "  <!-- Colored Rectangle -->\n",
       "  <polygon points=\"0.0,0.0 25.412616514582485,0.0 25.412616514582485,27.01089801381342 0.0,27.01089801381342\" style=\"fill:#ECB172A0;stroke-width:0\"/>\n",
       "\n",
       "  <!-- Text -->\n",
       "  <text x=\"12.706308\" y=\"47.010898\" font-size=\"1.0rem\" font-weight=\"100\" text-anchor=\"middle\" >1</text>\n",
       "  <text x=\"45.412617\" y=\"13.505449\" font-size=\"1.0rem\" font-weight=\"100\" text-anchor=\"middle\" transform=\"rotate(0,45.412617,13.505449)\">10</text>\n",
       "\n",
       "\n",
       "  <!-- Horizontal lines -->\n",
       "  <line x1=\"95\" y1=\"0\" x2=\"109\" y2=\"14\" style=\"stroke-width:2\" />\n",
       "  <line x1=\"95\" y1=\"80\" x2=\"109\" y2=\"95\" style=\"stroke-width:2\" />\n",
       "\n",
       "  <!-- Vertical lines -->\n",
       "  <line x1=\"95\" y1=\"0\" x2=\"95\" y2=\"80\" style=\"stroke-width:2\" />\n",
       "  <line x1=\"109\" y1=\"14\" x2=\"109\" y2=\"95\" style=\"stroke-width:2\" />\n",
       "\n",
       "  <!-- Colored Rectangle -->\n",
       "  <polygon points=\"95.0,0.0 109.9485979497544,14.948597949754403 109.9485979497544,95.2791764621511 95.0,80.3305785123967\" style=\"fill:#ECB172A0;stroke-width:0\"/>\n",
       "\n",
       "  <!-- Horizontal lines -->\n",
       "  <line x1=\"95\" y1=\"0\" x2=\"215\" y2=\"0\" style=\"stroke-width:2\" />\n",
       "  <line x1=\"109\" y1=\"14\" x2=\"229\" y2=\"14\" style=\"stroke-width:2\" />\n",
       "\n",
       "  <!-- Vertical lines -->\n",
       "  <line x1=\"95\" y1=\"0\" x2=\"109\" y2=\"14\" style=\"stroke-width:2\" />\n",
       "  <line x1=\"215\" y1=\"0\" x2=\"229\" y2=\"14\" style=\"stroke-width:2\" />\n",
       "\n",
       "  <!-- Colored Rectangle -->\n",
       "  <polygon points=\"95.0,0.0 215.0,0.0 229.9485979497544,14.948597949754403 109.9485979497544,14.948597949754403\" style=\"fill:#ECB172A0;stroke-width:0\"/>\n",
       "\n",
       "  <!-- Horizontal lines -->\n",
       "  <line x1=\"109\" y1=\"14\" x2=\"229\" y2=\"14\" style=\"stroke-width:2\" />\n",
       "  <line x1=\"109\" y1=\"95\" x2=\"229\" y2=\"95\" style=\"stroke-width:2\" />\n",
       "\n",
       "  <!-- Vertical lines -->\n",
       "  <line x1=\"109\" y1=\"14\" x2=\"109\" y2=\"95\" style=\"stroke-width:2\" />\n",
       "  <line x1=\"229\" y1=\"14\" x2=\"229\" y2=\"95\" style=\"stroke-width:2\" />\n",
       "\n",
       "  <!-- Colored Rectangle -->\n",
       "  <polygon points=\"109.9485979497544,14.948597949754403 229.9485979497544,14.948597949754403 229.9485979497544,95.2791764621511 109.9485979497544,95.2791764621511\" style=\"fill:#ECB172A0;stroke-width:0\"/>\n",
       "\n",
       "  <!-- Text -->\n",
       "  <text x=\"169.948598\" y=\"115.279176\" font-size=\"1.0rem\" font-weight=\"100\" text-anchor=\"middle\" >726</text>\n",
       "  <text x=\"249.948598\" y=\"55.113887\" font-size=\"1.0rem\" font-weight=\"100\" text-anchor=\"middle\" transform=\"rotate(-90,249.948598,55.113887)\">486</text>\n",
       "  <text x=\"92.474299\" y=\"107.804877\" font-size=\"1.0rem\" font-weight=\"100\" text-anchor=\"middle\" transform=\"rotate(45,92.474299,107.804877)\">3</text>\n",
       "</svg>\n",
       "        </td>\n",
       "    </tr>\n",
       "</table></div></li></ul></div></li><li class='xr-section-item'><input id='section-b57f0860-df6a-42c1-8494-808132503262' class='xr-section-summary-in' type='checkbox' disabled ><label for='section-b57f0860-df6a-42c1-8494-808132503262' class='xr-section-summary'  title='Expand/collapse section'>Attributes: <span>(0)</span></label><div class='xr-section-inline-details'></div><div class='xr-section-details'><dl class='xr-attrs'></dl></div></li></ul></div></div>"
      ],
      "text/plain": [
       "<xarray.Dataset>\n",
       "Dimensions:  (decile: 10, time: 1, step: 3, lat: 486, lon: 726)\n",
       "Coordinates:\n",
       "  * time     (time) datetime64[ns] 2022-04-01\n",
       "  * step     (step) int64 3 4 5\n",
       "    month    int64 4\n",
       "  * decile   (decile) int64 1 2 3 4 5 6 7 8 9 10\n",
       "  * lon      (lon) float64 120.0 120.2 120.3 120.5 ... 239.5 239.7 239.8 240.0\n",
       "  * lat      (lat) float64 -50.0 -49.84 -49.67 -49.51 ... 29.51 29.67 29.84 30.0\n",
       "Data variables:\n",
       "    precip   (decile, time, step, lat, lon) float64 dask.array<chunksize=(10, 1, 3, 486, 726), meta=np.ndarray>"
      ]
     },
     "execution_count": 30,
     "metadata": {},
     "output_type": "execute_result"
    }
   ],
   "source": [
    "probs"
   ]
  },
  {
   "cell_type": "markdown",
   "id": "0b89458f-83e4-4ecd-9b96-6e3e9ee0056f",
   "metadata": {
    "papermill": {
     "duration": 0.010951,
     "end_time": "2022-04-29T06:45:41.094164",
     "exception": false,
     "start_time": "2022-04-29T06:45:41.083213",
     "status": "completed"
    },
    "tags": []
   },
   "source": [
    "### Here and example of the extraction of decile probabilistic forecasts for specific locations, examples given are for Tuvalu. Only does it if period is set to \"monhtly\" "
   ]
  },
  {
   "cell_type": "code",
   "execution_count": 31,
   "id": "ee26e774-b0bc-400b-96c6-c88631c45858",
   "metadata": {
    "execution": {
     "iopub.execute_input": "2022-04-29T06:45:41.116536Z",
     "iopub.status.busy": "2022-04-29T06:45:41.116386Z",
     "iopub.status.idle": "2022-04-29T06:45:41.136301Z",
     "shell.execute_reply": "2022-04-29T06:45:41.135855Z"
    },
    "papermill": {
     "duration": 0.032618,
     "end_time": "2022-04-29T06:45:41.137439",
     "exception": false,
     "start_time": "2022-04-29T06:45:41.104821",
     "status": "completed"
    },
    "tags": []
   },
   "outputs": [],
   "source": [
    "stations_to_extract = pd.concat([\n",
    "    pd.Series(dict(station_name='Nanumea', \n",
    "    station_lat=-5.6614, \n",
    "    station_lon=176.1036)), \n",
    "\n",
    "    pd.Series(dict(station_name='Nanumaga', \n",
    "    station_lat=-6.2858, \n",
    "    station_lon=176.3199)), \n",
    "    \n",
    "    pd.Series(dict(station_name = 'Niutao',\n",
    "    station_lat = -6.1064,\n",
    "    station_lon = 177.3438))\n",
    "    \n",
    "], axis=1).T"
   ]
  },
  {
   "cell_type": "code",
   "execution_count": 32,
   "id": "d9716f87-c05d-4959-a2ee-c16759751cee",
   "metadata": {
    "execution": {
     "iopub.execute_input": "2022-04-29T06:45:41.159401Z",
     "iopub.status.busy": "2022-04-29T06:45:41.159260Z",
     "iopub.status.idle": "2022-04-29T06:45:41.180400Z",
     "shell.execute_reply": "2022-04-29T06:45:41.179964Z"
    },
    "papermill": {
     "duration": 0.033216,
     "end_time": "2022-04-29T06:45:41.181434",
     "exception": false,
     "start_time": "2022-04-29T06:45:41.148218",
     "status": "completed"
    },
    "tags": []
   },
   "outputs": [
    {
     "data": {
      "text/html": [
       "<div>\n",
       "<style scoped>\n",
       "    .dataframe tbody tr th:only-of-type {\n",
       "        vertical-align: middle;\n",
       "    }\n",
       "\n",
       "    .dataframe tbody tr th {\n",
       "        vertical-align: top;\n",
       "    }\n",
       "\n",
       "    .dataframe thead th {\n",
       "        text-align: right;\n",
       "    }\n",
       "</style>\n",
       "<table border=\"1\" class=\"dataframe\">\n",
       "  <thead>\n",
       "    <tr style=\"text-align: right;\">\n",
       "      <th></th>\n",
       "      <th>station_name</th>\n",
       "      <th>station_lat</th>\n",
       "      <th>station_lon</th>\n",
       "    </tr>\n",
       "  </thead>\n",
       "  <tbody>\n",
       "    <tr>\n",
       "      <th>0</th>\n",
       "      <td>Nanumea</td>\n",
       "      <td>-5.6614</td>\n",
       "      <td>176.1036</td>\n",
       "    </tr>\n",
       "    <tr>\n",
       "      <th>1</th>\n",
       "      <td>Nanumaga</td>\n",
       "      <td>-6.2858</td>\n",
       "      <td>176.3199</td>\n",
       "    </tr>\n",
       "    <tr>\n",
       "      <th>2</th>\n",
       "      <td>Niutao</td>\n",
       "      <td>-6.1064</td>\n",
       "      <td>177.3438</td>\n",
       "    </tr>\n",
       "  </tbody>\n",
       "</table>\n",
       "</div>"
      ],
      "text/plain": [
       "  station_name station_lat station_lon\n",
       "0      Nanumea     -5.6614    176.1036\n",
       "1     Nanumaga     -6.2858    176.3199\n",
       "2       Niutao     -6.1064    177.3438"
      ]
     },
     "execution_count": 32,
     "metadata": {},
     "output_type": "execute_result"
    }
   ],
   "source": [
    "stations_to_extract"
   ]
  },
  {
   "cell_type": "code",
   "execution_count": 33,
   "id": "615af037-4d9d-4394-9a1d-f7f8707a2b88",
   "metadata": {
    "execution": {
     "iopub.execute_input": "2022-04-29T06:45:41.203535Z",
     "iopub.status.busy": "2022-04-29T06:45:41.203388Z",
     "iopub.status.idle": "2022-04-29T06:45:41.223810Z",
     "shell.execute_reply": "2022-04-29T06:45:41.223372Z"
    },
    "papermill": {
     "duration": 0.032954,
     "end_time": "2022-04-29T06:45:41.224947",
     "exception": false,
     "start_time": "2022-04-29T06:45:41.191993",
     "status": "completed"
    },
    "tags": []
   },
   "outputs": [],
   "source": [
    "if period == 'monthly': \n",
    "    \n",
    "    for i, row in stations_to_extract.iterrows(): \n",
    "\n",
    "        station_name = row.station_name \n",
    "        station_lat = row.station_lat \n",
    "        station_lon = row.station_lon \n",
    "\n",
    "        probs_mean_extract = probs.sel(lat=station_lat, lon=station_lon, method='nearest').squeeze() \n",
    "\n",
    "        probs_mean_extract = probs_mean_extract[[varname]].to_dataframe()\n",
    "\n",
    "        probs_mean_extract = probs_mean_extract[['precip']].unstack()\n",
    "\n",
    "        probs_mean_extract = probs_mean_extract.droplevel(0, axis=1)\n",
    "\n",
    "\n",
    "        f, ax = plot.plot_heatmap(probs_mean_extract, year=year, start_month=(month + 1) % 12)\n",
    "        ax.set_title(f\"{station_name} {period} decile probabilities\\nC3S MME\", fontsize=14)\n",
    "        f.savefig(f'/home/nicolasf/Desktop/{station_name}_{period}_decile_probs_{year}_{month:02d}_init.png', dpi=200, bbox_inches='tight', facecolor='w')\n"
   ]
  },
  {
   "cell_type": "markdown",
   "id": "60ff4443",
   "metadata": {
    "papermill": {
     "duration": 0.010272,
     "end_time": "2022-04-29T06:45:41.245628",
     "exception": false,
     "start_time": "2022-04-29T06:45:41.235356",
     "status": "completed"
    },
    "tags": []
   },
   "source": [
    "### Now calculates the cumulative probabilities over the decile dimension "
   ]
  },
  {
   "cell_type": "code",
   "execution_count": 34,
   "id": "d275c7d1",
   "metadata": {
    "execution": {
     "iopub.execute_input": "2022-04-29T06:45:41.266919Z",
     "iopub.status.busy": "2022-04-29T06:45:41.266777Z",
     "iopub.status.idle": "2022-04-29T06:45:41.285795Z",
     "shell.execute_reply": "2022-04-29T06:45:41.285350Z"
    },
    "papermill": {
     "duration": 0.031105,
     "end_time": "2022-04-29T06:45:41.286934",
     "exception": false,
     "start_time": "2022-04-29T06:45:41.255829",
     "status": "completed"
    },
    "tags": []
   },
   "outputs": [],
   "source": [
    "cum_probs = probs.cumsum('decile', keep_attrs=True)"
   ]
  },
  {
   "cell_type": "code",
   "execution_count": 35,
   "id": "e2d3a5b1",
   "metadata": {
    "execution": {
     "iopub.execute_input": "2022-04-29T06:45:41.308838Z",
     "iopub.status.busy": "2022-04-29T06:45:41.308694Z",
     "iopub.status.idle": "2022-04-29T06:45:43.558494Z",
     "shell.execute_reply": "2022-04-29T06:45:43.558050Z"
    },
    "papermill": {
     "duration": 2.262182,
     "end_time": "2022-04-29T06:45:43.559533",
     "exception": false,
     "start_time": "2022-04-29T06:45:41.297351",
     "status": "completed"
    },
    "tags": []
   },
   "outputs": [
    {
     "data": {
      "text/plain": [
       "<matplotlib.collections.QuadMesh at 0x7fd60839fc70>"
      ]
     },
     "execution_count": 35,
     "metadata": {},
     "output_type": "execute_result"
    },
    {
     "data": {
      "image/png": "[encoded data removed]",
      "text/plain": [
       "<Figure size 432x288 with 2 Axes>"
      ]
     },
     "metadata": {
      "needs_background": "light"
     },
     "output_type": "display_data"
    }
   ],
   "source": [
    "cum_probs.isel(decile=-1).sel(step=step).squeeze()['precip'].plot(vmin=99.99, vmax=100.01)"
   ]
  },
  {
   "cell_type": "code",
   "execution_count": 36,
   "id": "5c82b73b-a41e-4aec-90ba-d46d59acbd25",
   "metadata": {
    "execution": {
     "iopub.execute_input": "2022-04-29T06:45:43.581453Z",
     "iopub.status.busy": "2022-04-29T06:45:43.581321Z",
     "iopub.status.idle": "2022-04-29T06:45:43.609180Z",
     "shell.execute_reply": "2022-04-29T06:45:43.608778Z"
    },
    "papermill": {
     "duration": 0.039955,
     "end_time": "2022-04-29T06:45:43.610169",
     "exception": false,
     "start_time": "2022-04-29T06:45:43.570214",
     "status": "completed"
    },
    "tags": []
   },
   "outputs": [
    {
     "data": {
      "text/html": [
       "<div><svg style=\"position: absolute; width: 0; height: 0; overflow: hidden\">\n",
       "<defs>\n",
       "<symbol id=\"icon-database\" viewBox=\"0 0 32 32\">\n",
       "<path d=\"M16 0c-8.837 0-16 2.239-16 5v4c0 2.761 7.163 5 16 5s16-2.239 16-5v-4c0-2.761-7.163-5-16-5z\"></path>\n",
       "<path d=\"M16 17c-8.837 0-16-2.239-16-5v6c0 2.761 7.163 5 16 5s16-2.239 16-5v-6c0 2.761-7.163 5-16 5z\"></path>\n",
       "<path d=\"M16 26c-8.837 0-16-2.239-16-5v6c0 2.761 7.163 5 16 5s16-2.239 16-5v-6c0 2.761-7.163 5-16 5z\"></path>\n",
       "</symbol>\n",
       "<symbol id=\"icon-file-text2\" viewBox=\"0 0 32 32\">\n",
       "<path d=\"M28.681 7.159c-0.694-0.947-1.662-2.053-2.724-3.116s-2.169-2.030-3.116-2.724c-1.612-1.182-2.393-1.319-2.841-1.319h-15.5c-1.378 0-2.5 1.121-2.5 2.5v27c0 1.378 1.122 2.5 2.5 2.5h23c1.378 0 2.5-1.122 2.5-2.5v-19.5c0-0.448-0.137-1.23-1.319-2.841zM24.543 5.457c0.959 0.959 1.712 1.825 2.268 2.543h-4.811v-4.811c0.718 0.556 1.584 1.309 2.543 2.268zM28 29.5c0 0.271-0.229 0.5-0.5 0.5h-23c-0.271 0-0.5-0.229-0.5-0.5v-27c0-0.271 0.229-0.5 0.5-0.5 0 0 15.499-0 15.5 0v7c0 0.552 0.448 1 1 1h7v19.5z\"></path>\n",
       "<path d=\"M23 26h-14c-0.552 0-1-0.448-1-1s0.448-1 1-1h14c0.552 0 1 0.448 1 1s-0.448 1-1 1z\"></path>\n",
       "<path d=\"M23 22h-14c-0.552 0-1-0.448-1-1s0.448-1 1-1h14c0.552 0 1 0.448 1 1s-0.448 1-1 1z\"></path>\n",
       "<path d=\"M23 18h-14c-0.552 0-1-0.448-1-1s0.448-1 1-1h14c0.552 0 1 0.448 1 1s-0.448 1-1 1z\"></path>\n",
       "</symbol>\n",
       "</defs>\n",
       "</svg>\n",
       "<style>/* CSS stylesheet for displaying xarray objects in jupyterlab.\n",
       " *\n",
       " */\n",
       "\n",
       ":root {\n",
       "  --xr-font-color0: var(--jp-content-font-color0, rgba(0, 0, 0, 1));\n",
       "  --xr-font-color2: var(--jp-content-font-color2, rgba(0, 0, 0, 0.54));\n",
       "  --xr-font-color3: var(--jp-content-font-color3, rgba(0, 0, 0, 0.38));\n",
       "  --xr-border-color: var(--jp-border-color2, #e0e0e0);\n",
       "  --xr-disabled-color: var(--jp-layout-color3, #bdbdbd);\n",
       "  --xr-background-color: var(--jp-layout-color0, white);\n",
       "  --xr-background-color-row-even: var(--jp-layout-color1, white);\n",
       "  --xr-background-color-row-odd: var(--jp-layout-color2, #eeeeee);\n",
       "}\n",
       "\n",
       "html[theme=dark],\n",
       "body.vscode-dark {\n",
       "  --xr-font-color0: rgba(255, 255, 255, 1);\n",
       "  --xr-font-color2: rgba(255, 255, 255, 0.54);\n",
       "  --xr-font-color3: rgba(255, 255, 255, 0.38);\n",
       "  --xr-border-color: #1F1F1F;\n",
       "  --xr-disabled-color: #515151;\n",
       "  --xr-background-color: #111111;\n",
       "  --xr-background-color-row-even: #111111;\n",
       "  --xr-background-color-row-odd: #313131;\n",
       "}\n",
       "\n",
       ".xr-wrap {\n",
       "  display: block !important;\n",
       "  min-width: 300px;\n",
       "  max-width: 700px;\n",
       "}\n",
       "\n",
       ".xr-text-repr-fallback {\n",
       "  /* fallback to plain text repr when CSS is not injected (untrusted notebook) */\n",
       "  display: none;\n",
       "}\n",
       "\n",
       ".xr-header {\n",
       "  padding-top: 6px;\n",
       "  padding-bottom: 6px;\n",
       "  margin-bottom: 4px;\n",
       "  border-bottom: solid 1px var(--xr-border-color);\n",
       "}\n",
       "\n",
       ".xr-header > div,\n",
       ".xr-header > ul {\n",
       "  display: inline;\n",
       "  margin-top: 0;\n",
       "  margin-bottom: 0;\n",
       "}\n",
       "\n",
       ".xr-obj-type,\n",
       ".xr-array-name {\n",
       "  margin-left: 2px;\n",
       "  margin-right: 10px;\n",
       "}\n",
       "\n",
       ".xr-obj-type {\n",
       "  color: var(--xr-font-color2);\n",
       "}\n",
       "\n",
       ".xr-sections {\n",
       "  padding-left: 0 !important;\n",
       "  display: grid;\n",
       "  grid-template-columns: 150px auto auto 1fr 20px 20px;\n",
       "}\n",
       "\n",
       ".xr-section-item {\n",
       "  display: contents;\n",
       "}\n",
       "\n",
       ".xr-section-item input {\n",
       "  display: none;\n",
       "}\n",
       "\n",
       ".xr-section-item input + label {\n",
       "  color: var(--xr-disabled-color);\n",
       "}\n",
       "\n",
       ".xr-section-item input:enabled + label {\n",
       "  cursor: pointer;\n",
       "  color: var(--xr-font-color2);\n",
       "}\n",
       "\n",
       ".xr-section-item input:enabled + label:hover {\n",
       "  color: var(--xr-font-color0);\n",
       "}\n",
       "\n",
       ".xr-section-summary {\n",
       "  grid-column: 1;\n",
       "  color: var(--xr-font-color2);\n",
       "  font-weight: 500;\n",
       "}\n",
       "\n",
       ".xr-section-summary > span {\n",
       "  display: inline-block;\n",
       "  padding-left: 0.5em;\n",
       "}\n",
       "\n",
       ".xr-section-summary-in:disabled + label {\n",
       "  color: var(--xr-font-color2);\n",
       "}\n",
       "\n",
       ".xr-section-summary-in + label:before {\n",
       "  display: inline-block;\n",
       "  content: '►';\n",
       "  font-size: 11px;\n",
       "  width: 15px;\n",
       "  text-align: center;\n",
       "}\n",
       "\n",
       ".xr-section-summary-in:disabled + label:before {\n",
       "  color: var(--xr-disabled-color);\n",
       "}\n",
       "\n",
       ".xr-section-summary-in:checked + label:before {\n",
       "  content: '▼';\n",
       "}\n",
       "\n",
       ".xr-section-summary-in:checked + label > span {\n",
       "  display: none;\n",
       "}\n",
       "\n",
       ".xr-section-summary,\n",
       ".xr-section-inline-details {\n",
       "  padding-top: 4px;\n",
       "  padding-bottom: 4px;\n",
       "}\n",
       "\n",
       ".xr-section-inline-details {\n",
       "  grid-column: 2 / -1;\n",
       "}\n",
       "\n",
       ".xr-section-details {\n",
       "  display: none;\n",
       "  grid-column: 1 / -1;\n",
       "  margin-bottom: 5px;\n",
       "}\n",
       "\n",
       ".xr-section-summary-in:checked ~ .xr-section-details {\n",
       "  display: contents;\n",
       "}\n",
       "\n",
       ".xr-array-wrap {\n",
       "  grid-column: 1 / -1;\n",
       "  display: grid;\n",
       "  grid-template-columns: 20px auto;\n",
       "}\n",
       "\n",
       ".xr-array-wrap > label {\n",
       "  grid-column: 1;\n",
       "  vertical-align: top;\n",
       "}\n",
       "\n",
       ".xr-preview {\n",
       "  color: var(--xr-font-color3);\n",
       "}\n",
       "\n",
       ".xr-array-preview,\n",
       ".xr-array-data {\n",
       "  padding: 0 5px !important;\n",
       "  grid-column: 2;\n",
       "}\n",
       "\n",
       ".xr-array-data,\n",
       ".xr-array-in:checked ~ .xr-array-preview {\n",
       "  display: none;\n",
       "}\n",
       "\n",
       ".xr-array-in:checked ~ .xr-array-data,\n",
       ".xr-array-preview {\n",
       "  display: inline-block;\n",
       "}\n",
       "\n",
       ".xr-dim-list {\n",
       "  display: inline-block !important;\n",
       "  list-style: none;\n",
       "  padding: 0 !important;\n",
       "  margin: 0;\n",
       "}\n",
       "\n",
       ".xr-dim-list li {\n",
       "  display: inline-block;\n",
       "  padding: 0;\n",
       "  margin: 0;\n",
       "}\n",
       "\n",
       ".xr-dim-list:before {\n",
       "  content: '(';\n",
       "}\n",
       "\n",
       ".xr-dim-list:after {\n",
       "  content: ')';\n",
       "}\n",
       "\n",
       ".xr-dim-list li:not(:last-child):after {\n",
       "  content: ',';\n",
       "  padding-right: 5px;\n",
       "}\n",
       "\n",
       ".xr-has-index {\n",
       "  font-weight: bold;\n",
       "}\n",
       "\n",
       ".xr-var-list,\n",
       ".xr-var-item {\n",
       "  display: contents;\n",
       "}\n",
       "\n",
       ".xr-var-item > div,\n",
       ".xr-var-item label,\n",
       ".xr-var-item > .xr-var-name span {\n",
       "  background-color: var(--xr-background-color-row-even);\n",
       "  margin-bottom: 0;\n",
       "}\n",
       "\n",
       ".xr-var-item > .xr-var-name:hover span {\n",
       "  padding-right: 5px;\n",
       "}\n",
       "\n",
       ".xr-var-list > li:nth-child(odd) > div,\n",
       ".xr-var-list > li:nth-child(odd) > label,\n",
       ".xr-var-list > li:nth-child(odd) > .xr-var-name span {\n",
       "  background-color: var(--xr-background-color-row-odd);\n",
       "}\n",
       "\n",
       ".xr-var-name {\n",
       "  grid-column: 1;\n",
       "}\n",
       "\n",
       ".xr-var-dims {\n",
       "  grid-column: 2;\n",
       "}\n",
       "\n",
       ".xr-var-dtype {\n",
       "  grid-column: 3;\n",
       "  text-align: right;\n",
       "  color: var(--xr-font-color2);\n",
       "}\n",
       "\n",
       ".xr-var-preview {\n",
       "  grid-column: 4;\n",
       "}\n",
       "\n",
       ".xr-var-name,\n",
       ".xr-var-dims,\n",
       ".xr-var-dtype,\n",
       ".xr-preview,\n",
       ".xr-attrs dt {\n",
       "  white-space: nowrap;\n",
       "  overflow: hidden;\n",
       "  text-overflow: ellipsis;\n",
       "  padding-right: 10px;\n",
       "}\n",
       "\n",
       ".xr-var-name:hover,\n",
       ".xr-var-dims:hover,\n",
       ".xr-var-dtype:hover,\n",
       ".xr-attrs dt:hover {\n",
       "  overflow: visible;\n",
       "  width: auto;\n",
       "  z-index: 1;\n",
       "}\n",
       "\n",
       ".xr-var-attrs,\n",
       ".xr-var-data {\n",
       "  display: none;\n",
       "  background-color: var(--xr-background-color) !important;\n",
       "  padding-bottom: 5px !important;\n",
       "}\n",
       "\n",
       ".xr-var-attrs-in:checked ~ .xr-var-attrs,\n",
       ".xr-var-data-in:checked ~ .xr-var-data {\n",
       "  display: block;\n",
       "}\n",
       "\n",
       ".xr-var-data > table {\n",
       "  float: right;\n",
       "}\n",
       "\n",
       ".xr-var-name span,\n",
       ".xr-var-data,\n",
       ".xr-attrs {\n",
       "  padding-left: 25px !important;\n",
       "}\n",
       "\n",
       ".xr-attrs,\n",
       ".xr-var-attrs,\n",
       ".xr-var-data {\n",
       "  grid-column: 1 / -1;\n",
       "}\n",
       "\n",
       "dl.xr-attrs {\n",
       "  padding: 0;\n",
       "  margin: 0;\n",
       "  display: grid;\n",
       "  grid-template-columns: 125px auto;\n",
       "}\n",
       "\n",
       ".xr-attrs dt,\n",
       ".xr-attrs dd {\n",
       "  padding: 0;\n",
       "  margin: 0;\n",
       "  float: left;\n",
       "  padding-right: 10px;\n",
       "  width: auto;\n",
       "}\n",
       "\n",
       ".xr-attrs dt {\n",
       "  font-weight: normal;\n",
       "  grid-column: 1;\n",
       "}\n",
       "\n",
       ".xr-attrs dt:hover span {\n",
       "  display: inline-block;\n",
       "  background: var(--xr-background-color);\n",
       "  padding-right: 10px;\n",
       "}\n",
       "\n",
       ".xr-attrs dd {\n",
       "  grid-column: 2;\n",
       "  white-space: pre-wrap;\n",
       "  word-break: break-all;\n",
       "}\n",
       "\n",
       ".xr-icon-database,\n",
       ".xr-icon-file-text2 {\n",
       "  display: inline-block;\n",
       "  vertical-align: middle;\n",
       "  width: 1em;\n",
       "  height: 1.5em !important;\n",
       "  stroke-width: 0;\n",
       "  stroke: currentColor;\n",
       "  fill: currentColor;\n",
       "}\n",
       "</style><pre class='xr-text-repr-fallback'>&lt;xarray.Dataset&gt;\n",
       "Dimensions:  (decile: 10, time: 1, step: 3, lat: 486, lon: 726)\n",
       "Coordinates:\n",
       "  * time     (time) datetime64[ns] 2022-04-01\n",
       "  * step     (step) int64 3 4 5\n",
       "    month    int64 4\n",
       "  * lon      (lon) float64 120.0 120.2 120.3 120.5 ... 239.5 239.7 239.8 240.0\n",
       "  * lat      (lat) float64 -50.0 -49.84 -49.67 -49.51 ... 29.51 29.67 29.84 30.0\n",
       "Dimensions without coordinates: decile\n",
       "Data variables:\n",
       "    precip   (decile, time, step, lat, lon) float64 dask.array&lt;chunksize=(10, 1, 3, 486, 726), meta=np.ndarray&gt;</pre><div class='xr-wrap' style='display:none'><div class='xr-header'><div class='xr-obj-type'>xarray.Dataset</div></div><ul class='xr-sections'><li class='xr-section-item'><input id='section-a7e0d7c3-0b5d-43c3-8f2e-0ac82770c1c3' class='xr-section-summary-in' type='checkbox' disabled ><label for='section-a7e0d7c3-0b5d-43c3-8f2e-0ac82770c1c3' class='xr-section-summary'  title='Expand/collapse section'>Dimensions:</label><div class='xr-section-inline-details'><ul class='xr-dim-list'><li><span>decile</span>: 10</li><li><span class='xr-has-index'>time</span>: 1</li><li><span class='xr-has-index'>step</span>: 3</li><li><span class='xr-has-index'>lat</span>: 486</li><li><span class='xr-has-index'>lon</span>: 726</li></ul></div><div class='xr-section-details'></div></li><li class='xr-section-item'><input id='section-7af70e19-de52-4d0f-b9a4-4ba670933edb' class='xr-section-summary-in' type='checkbox'  checked><label for='section-7af70e19-de52-4d0f-b9a4-4ba670933edb' class='xr-section-summary' >Coordinates: <span>(5)</span></label><div class='xr-section-inline-details'></div><div class='xr-section-details'><ul class='xr-var-list'><li class='xr-var-item'><div class='xr-var-name'><span class='xr-has-index'>time</span></div><div class='xr-var-dims'>(time)</div><div class='xr-var-dtype'>datetime64[ns]</div><div class='xr-var-preview xr-preview'>2022-04-01</div><input id='attrs-69845e9c-a726-4734-ad54-b3ef10504270' class='xr-var-attrs-in' type='checkbox' disabled><label for='attrs-69845e9c-a726-4734-ad54-b3ef10504270' title='Show/Hide attributes'><svg class='icon xr-icon-file-text2'><use xlink:href='#icon-file-text2'></use></svg></label><input id='data-d7c58b65-6f65-4dbf-8874-1a688d97cfd2' class='xr-var-data-in' type='checkbox'><label for='data-d7c58b65-6f65-4dbf-8874-1a688d97cfd2' title='Show/Hide data repr'><svg class='icon xr-icon-database'><use xlink:href='#icon-database'></use></svg></label><div class='xr-var-attrs'><dl class='xr-attrs'></dl></div><div class='xr-var-data'><pre>array([&#x27;2022-04-01T00:00:00.000000000&#x27;], dtype=&#x27;datetime64[ns]&#x27;)</pre></div></li><li class='xr-var-item'><div class='xr-var-name'><span class='xr-has-index'>step</span></div><div class='xr-var-dims'>(step)</div><div class='xr-var-dtype'>int64</div><div class='xr-var-preview xr-preview'>3 4 5</div><input id='attrs-6c163edb-1e04-4385-a130-694dcd903415' class='xr-var-attrs-in' type='checkbox' disabled><label for='attrs-6c163edb-1e04-4385-a130-694dcd903415' title='Show/Hide attributes'><svg class='icon xr-icon-file-text2'><use xlink:href='#icon-file-text2'></use></svg></label><input id='data-3fca51cb-0bb9-416e-bdcc-8aa46ac1144b' class='xr-var-data-in' type='checkbox'><label for='data-3fca51cb-0bb9-416e-bdcc-8aa46ac1144b' title='Show/Hide data repr'><svg class='icon xr-icon-database'><use xlink:href='#icon-database'></use></svg></label><div class='xr-var-attrs'><dl class='xr-attrs'></dl></div><div class='xr-var-data'><pre>array([3, 4, 5])</pre></div></li><li class='xr-var-item'><div class='xr-var-name'><span>month</span></div><div class='xr-var-dims'>()</div><div class='xr-var-dtype'>int64</div><div class='xr-var-preview xr-preview'>4</div><input id='attrs-cd868686-02bb-4f4d-b62c-be7265ec08c2' class='xr-var-attrs-in' type='checkbox' disabled><label for='attrs-cd868686-02bb-4f4d-b62c-be7265ec08c2' title='Show/Hide attributes'><svg class='icon xr-icon-file-text2'><use xlink:href='#icon-file-text2'></use></svg></label><input id='data-31d0cea7-bf18-48a8-a5a3-3410a57b6d62' class='xr-var-data-in' type='checkbox'><label for='data-31d0cea7-bf18-48a8-a5a3-3410a57b6d62' title='Show/Hide data repr'><svg class='icon xr-icon-database'><use xlink:href='#icon-database'></use></svg></label><div class='xr-var-attrs'><dl class='xr-attrs'></dl></div><div class='xr-var-data'><pre>array(4)</pre></div></li><li class='xr-var-item'><div class='xr-var-name'><span class='xr-has-index'>lon</span></div><div class='xr-var-dims'>(lon)</div><div class='xr-var-dtype'>float64</div><div class='xr-var-preview xr-preview'>120.0 120.2 120.3 ... 239.8 240.0</div><input id='attrs-902e4296-b8c2-4bd1-bec0-3c39b03ceec6' class='xr-var-attrs-in' type='checkbox' ><label for='attrs-902e4296-b8c2-4bd1-bec0-3c39b03ceec6' title='Show/Hide attributes'><svg class='icon xr-icon-file-text2'><use xlink:href='#icon-file-text2'></use></svg></label><input id='data-3f4f40bd-eaa7-4395-9c27-6e45467bf6b7' class='xr-var-data-in' type='checkbox'><label for='data-3f4f40bd-eaa7-4395-9c27-6e45467bf6b7' title='Show/Hide data repr'><svg class='icon xr-icon-database'><use xlink:href='#icon-database'></use></svg></label><div class='xr-var-attrs'><dl class='xr-attrs'><dt><span>units :</span></dt><dd>degrees_east</dd><dt><span>long_name :</span></dt><dd>Longitude</dd></dl></div><div class='xr-var-data'><pre>array([120.      , 120.165517, 120.331034, ..., 239.668966, 239.834483,\n",
       "       240.      ])</pre></div></li><li class='xr-var-item'><div class='xr-var-name'><span class='xr-has-index'>lat</span></div><div class='xr-var-dims'>(lat)</div><div class='xr-var-dtype'>float64</div><div class='xr-var-preview xr-preview'>-50.0 -49.84 -49.67 ... 29.84 30.0</div><input id='attrs-9d1f208e-f6ef-4863-98c0-5a8cc3d318ec' class='xr-var-attrs-in' type='checkbox' ><label for='attrs-9d1f208e-f6ef-4863-98c0-5a8cc3d318ec' title='Show/Hide attributes'><svg class='icon xr-icon-file-text2'><use xlink:href='#icon-file-text2'></use></svg></label><input id='data-fa106d63-e7c6-42f0-a9d4-d6e931f26540' class='xr-var-data-in' type='checkbox'><label for='data-fa106d63-e7c6-42f0-a9d4-d6e931f26540' title='Show/Hide data repr'><svg class='icon xr-icon-database'><use xlink:href='#icon-database'></use></svg></label><div class='xr-var-attrs'><dl class='xr-attrs'><dt><span>units :</span></dt><dd>degrees_north</dd><dt><span>long_name :</span></dt><dd>Latitude</dd></dl></div><div class='xr-var-data'><pre>array([-50.      , -49.835052, -49.670103, ...,  29.670103,  29.835052,\n",
       "        30.      ])</pre></div></li></ul></div></li><li class='xr-section-item'><input id='section-5e897f4d-e8b1-4a16-9687-a611d632cb38' class='xr-section-summary-in' type='checkbox'  checked><label for='section-5e897f4d-e8b1-4a16-9687-a611d632cb38' class='xr-section-summary' >Data variables: <span>(1)</span></label><div class='xr-section-inline-details'></div><div class='xr-section-details'><ul class='xr-var-list'><li class='xr-var-item'><div class='xr-var-name'><span>precip</span></div><div class='xr-var-dims'>(decile, time, step, lat, lon)</div><div class='xr-var-dtype'>float64</div><div class='xr-var-preview xr-preview'>dask.array&lt;chunksize=(10, 1, 3, 486, 726), meta=np.ndarray&gt;</div><input id='attrs-8e22b255-697d-4943-9104-45e33674a578' class='xr-var-attrs-in' type='checkbox' disabled><label for='attrs-8e22b255-697d-4943-9104-45e33674a578' title='Show/Hide attributes'><svg class='icon xr-icon-file-text2'><use xlink:href='#icon-file-text2'></use></svg></label><input id='data-060e2b3c-2770-4445-b380-9ab1e592ab59' class='xr-var-data-in' type='checkbox'><label for='data-060e2b3c-2770-4445-b380-9ab1e592ab59' title='Show/Hide data repr'><svg class='icon xr-icon-database'><use xlink:href='#icon-database'></use></svg></label><div class='xr-var-attrs'><dl class='xr-attrs'></dl></div><div class='xr-var-data'><table>\n",
       "    <tr>\n",
       "        <td>\n",
       "            <table>\n",
       "                <thead>\n",
       "                    <tr>\n",
       "                        <td> </td>\n",
       "                        <th> Array </th>\n",
       "                        <th> Chunk </th>\n",
       "                    </tr>\n",
       "                </thead>\n",
       "                <tbody>\n",
       "                    \n",
       "                    <tr>\n",
       "                        <th> Bytes </th>\n",
       "                        <td> 80.76 MiB </td>\n",
       "                        <td> 80.76 MiB </td>\n",
       "                    </tr>\n",
       "                    \n",
       "                    <tr>\n",
       "                        <th> Shape </th>\n",
       "                        <td> (10, 1, 3, 486, 726) </td>\n",
       "                        <td> (10, 1, 3, 486, 726) </td>\n",
       "                    </tr>\n",
       "                    <tr>\n",
       "                        <th> Count </th>\n",
       "                        <td> 87 Tasks </td>\n",
       "                        <td> 1 Chunks </td>\n",
       "                    </tr>\n",
       "                    <tr>\n",
       "                    <th> Type </th>\n",
       "                    <td> float64 </td>\n",
       "                    <td> numpy.ndarray </td>\n",
       "                    </tr>\n",
       "                </tbody>\n",
       "            </table>\n",
       "        </td>\n",
       "        <td>\n",
       "        <svg width=\"374\" height=\"145\" style=\"stroke:rgb(0,0,0);stroke-width:1\" >\n",
       "\n",
       "  <!-- Horizontal lines -->\n",
       "  <line x1=\"0\" y1=\"0\" x2=\"25\" y2=\"0\" style=\"stroke-width:2\" />\n",
       "  <line x1=\"0\" y1=\"27\" x2=\"25\" y2=\"27\" style=\"stroke-width:2\" />\n",
       "\n",
       "  <!-- Vertical lines -->\n",
       "  <line x1=\"0\" y1=\"0\" x2=\"0\" y2=\"27\" style=\"stroke-width:2\" />\n",
       "  <line x1=\"25\" y1=\"0\" x2=\"25\" y2=\"27\" style=\"stroke-width:2\" />\n",
       "\n",
       "  <!-- Colored Rectangle -->\n",
       "  <polygon points=\"0.0,0.0 25.412616514582485,0.0 25.412616514582485,27.01089801381342 0.0,27.01089801381342\" style=\"fill:#ECB172A0;stroke-width:0\"/>\n",
       "\n",
       "  <!-- Text -->\n",
       "  <text x=\"12.706308\" y=\"47.010898\" font-size=\"1.0rem\" font-weight=\"100\" text-anchor=\"middle\" >1</text>\n",
       "  <text x=\"45.412617\" y=\"13.505449\" font-size=\"1.0rem\" font-weight=\"100\" text-anchor=\"middle\" transform=\"rotate(0,45.412617,13.505449)\">10</text>\n",
       "\n",
       "\n",
       "  <!-- Horizontal lines -->\n",
       "  <line x1=\"95\" y1=\"0\" x2=\"109\" y2=\"14\" style=\"stroke-width:2\" />\n",
       "  <line x1=\"95\" y1=\"80\" x2=\"109\" y2=\"95\" style=\"stroke-width:2\" />\n",
       "\n",
       "  <!-- Vertical lines -->\n",
       "  <line x1=\"95\" y1=\"0\" x2=\"95\" y2=\"80\" style=\"stroke-width:2\" />\n",
       "  <line x1=\"109\" y1=\"14\" x2=\"109\" y2=\"95\" style=\"stroke-width:2\" />\n",
       "\n",
       "  <!-- Colored Rectangle -->\n",
       "  <polygon points=\"95.0,0.0 109.9485979497544,14.948597949754403 109.9485979497544,95.2791764621511 95.0,80.3305785123967\" style=\"fill:#ECB172A0;stroke-width:0\"/>\n",
       "\n",
       "  <!-- Horizontal lines -->\n",
       "  <line x1=\"95\" y1=\"0\" x2=\"215\" y2=\"0\" style=\"stroke-width:2\" />\n",
       "  <line x1=\"109\" y1=\"14\" x2=\"229\" y2=\"14\" style=\"stroke-width:2\" />\n",
       "\n",
       "  <!-- Vertical lines -->\n",
       "  <line x1=\"95\" y1=\"0\" x2=\"109\" y2=\"14\" style=\"stroke-width:2\" />\n",
       "  <line x1=\"215\" y1=\"0\" x2=\"229\" y2=\"14\" style=\"stroke-width:2\" />\n",
       "\n",
       "  <!-- Colored Rectangle -->\n",
       "  <polygon points=\"95.0,0.0 215.0,0.0 229.9485979497544,14.948597949754403 109.9485979497544,14.948597949754403\" style=\"fill:#ECB172A0;stroke-width:0\"/>\n",
       "\n",
       "  <!-- Horizontal lines -->\n",
       "  <line x1=\"109\" y1=\"14\" x2=\"229\" y2=\"14\" style=\"stroke-width:2\" />\n",
       "  <line x1=\"109\" y1=\"95\" x2=\"229\" y2=\"95\" style=\"stroke-width:2\" />\n",
       "\n",
       "  <!-- Vertical lines -->\n",
       "  <line x1=\"109\" y1=\"14\" x2=\"109\" y2=\"95\" style=\"stroke-width:2\" />\n",
       "  <line x1=\"229\" y1=\"14\" x2=\"229\" y2=\"95\" style=\"stroke-width:2\" />\n",
       "\n",
       "  <!-- Colored Rectangle -->\n",
       "  <polygon points=\"109.9485979497544,14.948597949754403 229.9485979497544,14.948597949754403 229.9485979497544,95.2791764621511 109.9485979497544,95.2791764621511\" style=\"fill:#ECB172A0;stroke-width:0\"/>\n",
       "\n",
       "  <!-- Text -->\n",
       "  <text x=\"169.948598\" y=\"115.279176\" font-size=\"1.0rem\" font-weight=\"100\" text-anchor=\"middle\" >726</text>\n",
       "  <text x=\"249.948598\" y=\"55.113887\" font-size=\"1.0rem\" font-weight=\"100\" text-anchor=\"middle\" transform=\"rotate(-90,249.948598,55.113887)\">486</text>\n",
       "  <text x=\"92.474299\" y=\"107.804877\" font-size=\"1.0rem\" font-weight=\"100\" text-anchor=\"middle\" transform=\"rotate(45,92.474299,107.804877)\">3</text>\n",
       "</svg>\n",
       "        </td>\n",
       "    </tr>\n",
       "</table></div></li></ul></div></li><li class='xr-section-item'><input id='section-4aa4641c-e77d-4c34-9a02-88be026c69c1' class='xr-section-summary-in' type='checkbox' disabled ><label for='section-4aa4641c-e77d-4c34-9a02-88be026c69c1' class='xr-section-summary'  title='Expand/collapse section'>Attributes: <span>(0)</span></label><div class='xr-section-inline-details'></div><div class='xr-section-details'><dl class='xr-attrs'></dl></div></li></ul></div></div>"
      ],
      "text/plain": [
       "<xarray.Dataset>\n",
       "Dimensions:  (decile: 10, time: 1, step: 3, lat: 486, lon: 726)\n",
       "Coordinates:\n",
       "  * time     (time) datetime64[ns] 2022-04-01\n",
       "  * step     (step) int64 3 4 5\n",
       "    month    int64 4\n",
       "  * lon      (lon) float64 120.0 120.2 120.3 120.5 ... 239.5 239.7 239.8 240.0\n",
       "  * lat      (lat) float64 -50.0 -49.84 -49.67 -49.51 ... 29.51 29.67 29.84 30.0\n",
       "Dimensions without coordinates: decile\n",
       "Data variables:\n",
       "    precip   (decile, time, step, lat, lon) float64 dask.array<chunksize=(10, 1, 3, 486, 726), meta=np.ndarray>"
      ]
     },
     "execution_count": 36,
     "metadata": {},
     "output_type": "execute_result"
    }
   ],
   "source": [
    "cum_probs"
   ]
  },
  {
   "cell_type": "markdown",
   "id": "80105213",
   "metadata": {
    "papermill": {
     "duration": 0.010887,
     "end_time": "2022-04-29T06:45:43.632394",
     "exception": false,
     "start_time": "2022-04-29T06:45:43.621507",
     "status": "completed"
    },
    "tags": []
   },
   "source": [
    "### recode the decile values, so they go from 1 to 10 instead of 0 to 9 "
   ]
  },
  {
   "cell_type": "code",
   "execution_count": 37,
   "id": "61f05ada",
   "metadata": {
    "execution": {
     "iopub.execute_input": "2022-04-29T06:45:43.655671Z",
     "iopub.status.busy": "2022-04-29T06:45:43.655531Z",
     "iopub.status.idle": "2022-04-29T06:45:43.677303Z",
     "shell.execute_reply": "2022-04-29T06:45:43.676874Z"
    },
    "papermill": {
     "duration": 0.035392,
     "end_time": "2022-04-29T06:45:43.678751",
     "exception": false,
     "start_time": "2022-04-29T06:45:43.643359",
     "status": "completed"
    },
    "tags": []
   },
   "outputs": [
    {
     "data": {
      "text/html": [
       "<div><svg style=\"position: absolute; width: 0; height: 0; overflow: hidden\">\n",
       "<defs>\n",
       "<symbol id=\"icon-database\" viewBox=\"0 0 32 32\">\n",
       "<path d=\"M16 0c-8.837 0-16 2.239-16 5v4c0 2.761 7.163 5 16 5s16-2.239 16-5v-4c0-2.761-7.163-5-16-5z\"></path>\n",
       "<path d=\"M16 17c-8.837 0-16-2.239-16-5v6c0 2.761 7.163 5 16 5s16-2.239 16-5v-6c0 2.761-7.163 5-16 5z\"></path>\n",
       "<path d=\"M16 26c-8.837 0-16-2.239-16-5v6c0 2.761 7.163 5 16 5s16-2.239 16-5v-6c0 2.761-7.163 5-16 5z\"></path>\n",
       "</symbol>\n",
       "<symbol id=\"icon-file-text2\" viewBox=\"0 0 32 32\">\n",
       "<path d=\"M28.681 7.159c-0.694-0.947-1.662-2.053-2.724-3.116s-2.169-2.030-3.116-2.724c-1.612-1.182-2.393-1.319-2.841-1.319h-15.5c-1.378 0-2.5 1.121-2.5 2.5v27c0 1.378 1.122 2.5 2.5 2.5h23c1.378 0 2.5-1.122 2.5-2.5v-19.5c0-0.448-0.137-1.23-1.319-2.841zM24.543 5.457c0.959 0.959 1.712 1.825 2.268 2.543h-4.811v-4.811c0.718 0.556 1.584 1.309 2.543 2.268zM28 29.5c0 0.271-0.229 0.5-0.5 0.5h-23c-0.271 0-0.5-0.229-0.5-0.5v-27c0-0.271 0.229-0.5 0.5-0.5 0 0 15.499-0 15.5 0v7c0 0.552 0.448 1 1 1h7v19.5z\"></path>\n",
       "<path d=\"M23 26h-14c-0.552 0-1-0.448-1-1s0.448-1 1-1h14c0.552 0 1 0.448 1 1s-0.448 1-1 1z\"></path>\n",
       "<path d=\"M23 22h-14c-0.552 0-1-0.448-1-1s0.448-1 1-1h14c0.552 0 1 0.448 1 1s-0.448 1-1 1z\"></path>\n",
       "<path d=\"M23 18h-14c-0.552 0-1-0.448-1-1s0.448-1 1-1h14c0.552 0 1 0.448 1 1s-0.448 1-1 1z\"></path>\n",
       "</symbol>\n",
       "</defs>\n",
       "</svg>\n",
       "<style>/* CSS stylesheet for displaying xarray objects in jupyterlab.\n",
       " *\n",
       " */\n",
       "\n",
       ":root {\n",
       "  --xr-font-color0: var(--jp-content-font-color0, rgba(0, 0, 0, 1));\n",
       "  --xr-font-color2: var(--jp-content-font-color2, rgba(0, 0, 0, 0.54));\n",
       "  --xr-font-color3: var(--jp-content-font-color3, rgba(0, 0, 0, 0.38));\n",
       "  --xr-border-color: var(--jp-border-color2, #e0e0e0);\n",
       "  --xr-disabled-color: var(--jp-layout-color3, #bdbdbd);\n",
       "  --xr-background-color: var(--jp-layout-color0, white);\n",
       "  --xr-background-color-row-even: var(--jp-layout-color1, white);\n",
       "  --xr-background-color-row-odd: var(--jp-layout-color2, #eeeeee);\n",
       "}\n",
       "\n",
       "html[theme=dark],\n",
       "body.vscode-dark {\n",
       "  --xr-font-color0: rgba(255, 255, 255, 1);\n",
       "  --xr-font-color2: rgba(255, 255, 255, 0.54);\n",
       "  --xr-font-color3: rgba(255, 255, 255, 0.38);\n",
       "  --xr-border-color: #1F1F1F;\n",
       "  --xr-disabled-color: #515151;\n",
       "  --xr-background-color: #111111;\n",
       "  --xr-background-color-row-even: #111111;\n",
       "  --xr-background-color-row-odd: #313131;\n",
       "}\n",
       "\n",
       ".xr-wrap {\n",
       "  display: block !important;\n",
       "  min-width: 300px;\n",
       "  max-width: 700px;\n",
       "}\n",
       "\n",
       ".xr-text-repr-fallback {\n",
       "  /* fallback to plain text repr when CSS is not injected (untrusted notebook) */\n",
       "  display: none;\n",
       "}\n",
       "\n",
       ".xr-header {\n",
       "  padding-top: 6px;\n",
       "  padding-bottom: 6px;\n",
       "  margin-bottom: 4px;\n",
       "  border-bottom: solid 1px var(--xr-border-color);\n",
       "}\n",
       "\n",
       ".xr-header > div,\n",
       ".xr-header > ul {\n",
       "  display: inline;\n",
       "  margin-top: 0;\n",
       "  margin-bottom: 0;\n",
       "}\n",
       "\n",
       ".xr-obj-type,\n",
       ".xr-array-name {\n",
       "  margin-left: 2px;\n",
       "  margin-right: 10px;\n",
       "}\n",
       "\n",
       ".xr-obj-type {\n",
       "  color: var(--xr-font-color2);\n",
       "}\n",
       "\n",
       ".xr-sections {\n",
       "  padding-left: 0 !important;\n",
       "  display: grid;\n",
       "  grid-template-columns: 150px auto auto 1fr 20px 20px;\n",
       "}\n",
       "\n",
       ".xr-section-item {\n",
       "  display: contents;\n",
       "}\n",
       "\n",
       ".xr-section-item input {\n",
       "  display: none;\n",
       "}\n",
       "\n",
       ".xr-section-item input + label {\n",
       "  color: var(--xr-disabled-color);\n",
       "}\n",
       "\n",
       ".xr-section-item input:enabled + label {\n",
       "  cursor: pointer;\n",
       "  color: var(--xr-font-color2);\n",
       "}\n",
       "\n",
       ".xr-section-item input:enabled + label:hover {\n",
       "  color: var(--xr-font-color0);\n",
       "}\n",
       "\n",
       ".xr-section-summary {\n",
       "  grid-column: 1;\n",
       "  color: var(--xr-font-color2);\n",
       "  font-weight: 500;\n",
       "}\n",
       "\n",
       ".xr-section-summary > span {\n",
       "  display: inline-block;\n",
       "  padding-left: 0.5em;\n",
       "}\n",
       "\n",
       ".xr-section-summary-in:disabled + label {\n",
       "  color: var(--xr-font-color2);\n",
       "}\n",
       "\n",
       ".xr-section-summary-in + label:before {\n",
       "  display: inline-block;\n",
       "  content: '►';\n",
       "  font-size: 11px;\n",
       "  width: 15px;\n",
       "  text-align: center;\n",
       "}\n",
       "\n",
       ".xr-section-summary-in:disabled + label:before {\n",
       "  color: var(--xr-disabled-color);\n",
       "}\n",
       "\n",
       ".xr-section-summary-in:checked + label:before {\n",
       "  content: '▼';\n",
       "}\n",
       "\n",
       ".xr-section-summary-in:checked + label > span {\n",
       "  display: none;\n",
       "}\n",
       "\n",
       ".xr-section-summary,\n",
       ".xr-section-inline-details {\n",
       "  padding-top: 4px;\n",
       "  padding-bottom: 4px;\n",
       "}\n",
       "\n",
       ".xr-section-inline-details {\n",
       "  grid-column: 2 / -1;\n",
       "}\n",
       "\n",
       ".xr-section-details {\n",
       "  display: none;\n",
       "  grid-column: 1 / -1;\n",
       "  margin-bottom: 5px;\n",
       "}\n",
       "\n",
       ".xr-section-summary-in:checked ~ .xr-section-details {\n",
       "  display: contents;\n",
       "}\n",
       "\n",
       ".xr-array-wrap {\n",
       "  grid-column: 1 / -1;\n",
       "  display: grid;\n",
       "  grid-template-columns: 20px auto;\n",
       "}\n",
       "\n",
       ".xr-array-wrap > label {\n",
       "  grid-column: 1;\n",
       "  vertical-align: top;\n",
       "}\n",
       "\n",
       ".xr-preview {\n",
       "  color: var(--xr-font-color3);\n",
       "}\n",
       "\n",
       ".xr-array-preview,\n",
       ".xr-array-data {\n",
       "  padding: 0 5px !important;\n",
       "  grid-column: 2;\n",
       "}\n",
       "\n",
       ".xr-array-data,\n",
       ".xr-array-in:checked ~ .xr-array-preview {\n",
       "  display: none;\n",
       "}\n",
       "\n",
       ".xr-array-in:checked ~ .xr-array-data,\n",
       ".xr-array-preview {\n",
       "  display: inline-block;\n",
       "}\n",
       "\n",
       ".xr-dim-list {\n",
       "  display: inline-block !important;\n",
       "  list-style: none;\n",
       "  padding: 0 !important;\n",
       "  margin: 0;\n",
       "}\n",
       "\n",
       ".xr-dim-list li {\n",
       "  display: inline-block;\n",
       "  padding: 0;\n",
       "  margin: 0;\n",
       "}\n",
       "\n",
       ".xr-dim-list:before {\n",
       "  content: '(';\n",
       "}\n",
       "\n",
       ".xr-dim-list:after {\n",
       "  content: ')';\n",
       "}\n",
       "\n",
       ".xr-dim-list li:not(:last-child):after {\n",
       "  content: ',';\n",
       "  padding-right: 5px;\n",
       "}\n",
       "\n",
       ".xr-has-index {\n",
       "  font-weight: bold;\n",
       "}\n",
       "\n",
       ".xr-var-list,\n",
       ".xr-var-item {\n",
       "  display: contents;\n",
       "}\n",
       "\n",
       ".xr-var-item > div,\n",
       ".xr-var-item label,\n",
       ".xr-var-item > .xr-var-name span {\n",
       "  background-color: var(--xr-background-color-row-even);\n",
       "  margin-bottom: 0;\n",
       "}\n",
       "\n",
       ".xr-var-item > .xr-var-name:hover span {\n",
       "  padding-right: 5px;\n",
       "}\n",
       "\n",
       ".xr-var-list > li:nth-child(odd) > div,\n",
       ".xr-var-list > li:nth-child(odd) > label,\n",
       ".xr-var-list > li:nth-child(odd) > .xr-var-name span {\n",
       "  background-color: var(--xr-background-color-row-odd);\n",
       "}\n",
       "\n",
       ".xr-var-name {\n",
       "  grid-column: 1;\n",
       "}\n",
       "\n",
       ".xr-var-dims {\n",
       "  grid-column: 2;\n",
       "}\n",
       "\n",
       ".xr-var-dtype {\n",
       "  grid-column: 3;\n",
       "  text-align: right;\n",
       "  color: var(--xr-font-color2);\n",
       "}\n",
       "\n",
       ".xr-var-preview {\n",
       "  grid-column: 4;\n",
       "}\n",
       "\n",
       ".xr-var-name,\n",
       ".xr-var-dims,\n",
       ".xr-var-dtype,\n",
       ".xr-preview,\n",
       ".xr-attrs dt {\n",
       "  white-space: nowrap;\n",
       "  overflow: hidden;\n",
       "  text-overflow: ellipsis;\n",
       "  padding-right: 10px;\n",
       "}\n",
       "\n",
       ".xr-var-name:hover,\n",
       ".xr-var-dims:hover,\n",
       ".xr-var-dtype:hover,\n",
       ".xr-attrs dt:hover {\n",
       "  overflow: visible;\n",
       "  width: auto;\n",
       "  z-index: 1;\n",
       "}\n",
       "\n",
       ".xr-var-attrs,\n",
       ".xr-var-data {\n",
       "  display: none;\n",
       "  background-color: var(--xr-background-color) !important;\n",
       "  padding-bottom: 5px !important;\n",
       "}\n",
       "\n",
       ".xr-var-attrs-in:checked ~ .xr-var-attrs,\n",
       ".xr-var-data-in:checked ~ .xr-var-data {\n",
       "  display: block;\n",
       "}\n",
       "\n",
       ".xr-var-data > table {\n",
       "  float: right;\n",
       "}\n",
       "\n",
       ".xr-var-name span,\n",
       ".xr-var-data,\n",
       ".xr-attrs {\n",
       "  padding-left: 25px !important;\n",
       "}\n",
       "\n",
       ".xr-attrs,\n",
       ".xr-var-attrs,\n",
       ".xr-var-data {\n",
       "  grid-column: 1 / -1;\n",
       "}\n",
       "\n",
       "dl.xr-attrs {\n",
       "  padding: 0;\n",
       "  margin: 0;\n",
       "  display: grid;\n",
       "  grid-template-columns: 125px auto;\n",
       "}\n",
       "\n",
       ".xr-attrs dt,\n",
       ".xr-attrs dd {\n",
       "  padding: 0;\n",
       "  margin: 0;\n",
       "  float: left;\n",
       "  padding-right: 10px;\n",
       "  width: auto;\n",
       "}\n",
       "\n",
       ".xr-attrs dt {\n",
       "  font-weight: normal;\n",
       "  grid-column: 1;\n",
       "}\n",
       "\n",
       ".xr-attrs dt:hover span {\n",
       "  display: inline-block;\n",
       "  background: var(--xr-background-color);\n",
       "  padding-right: 10px;\n",
       "}\n",
       "\n",
       ".xr-attrs dd {\n",
       "  grid-column: 2;\n",
       "  white-space: pre-wrap;\n",
       "  word-break: break-all;\n",
       "}\n",
       "\n",
       ".xr-icon-database,\n",
       ".xr-icon-file-text2 {\n",
       "  display: inline-block;\n",
       "  vertical-align: middle;\n",
       "  width: 1em;\n",
       "  height: 1.5em !important;\n",
       "  stroke-width: 0;\n",
       "  stroke: currentColor;\n",
       "  fill: currentColor;\n",
       "}\n",
       "</style><pre class='xr-text-repr-fallback'>&lt;xarray.DataArray &#x27;decile&#x27; (decile: 10)&gt;\n",
       "array([0, 1, 2, 3, 4, 5, 6, 7, 8, 9])\n",
       "Coordinates:\n",
       "    month    int64 4\n",
       "Dimensions without coordinates: decile</pre><div class='xr-wrap' style='display:none'><div class='xr-header'><div class='xr-obj-type'>xarray.DataArray</div><div class='xr-array-name'>'decile'</div><ul class='xr-dim-list'><li><span>decile</span>: 10</li></ul></div><ul class='xr-sections'><li class='xr-section-item'><div class='xr-array-wrap'><input id='section-6c3a4ce8-13f2-434d-b048-63443c08b9c9' class='xr-array-in' type='checkbox' checked><label for='section-6c3a4ce8-13f2-434d-b048-63443c08b9c9' title='Show/hide data repr'><svg class='icon xr-icon-database'><use xlink:href='#icon-database'></use></svg></label><div class='xr-array-preview xr-preview'><span>0 1 2 3 4 5 6 7 8 9</span></div><div class='xr-array-data'><pre>array([0, 1, 2, 3, 4, 5, 6, 7, 8, 9])</pre></div></div></li><li class='xr-section-item'><input id='section-efffe2d4-7218-46de-a3f4-ed08d0178d3d' class='xr-section-summary-in' type='checkbox'  checked><label for='section-efffe2d4-7218-46de-a3f4-ed08d0178d3d' class='xr-section-summary' >Coordinates: <span>(1)</span></label><div class='xr-section-inline-details'></div><div class='xr-section-details'><ul class='xr-var-list'><li class='xr-var-item'><div class='xr-var-name'><span>month</span></div><div class='xr-var-dims'>()</div><div class='xr-var-dtype'>int64</div><div class='xr-var-preview xr-preview'>4</div><input id='attrs-7126f576-02a6-4ce3-a758-348db05bc02e' class='xr-var-attrs-in' type='checkbox' disabled><label for='attrs-7126f576-02a6-4ce3-a758-348db05bc02e' title='Show/Hide attributes'><svg class='icon xr-icon-file-text2'><use xlink:href='#icon-file-text2'></use></svg></label><input id='data-6e0b6aef-529e-4d27-92f8-4212ddccee2d' class='xr-var-data-in' type='checkbox'><label for='data-6e0b6aef-529e-4d27-92f8-4212ddccee2d' title='Show/Hide data repr'><svg class='icon xr-icon-database'><use xlink:href='#icon-database'></use></svg></label><div class='xr-var-attrs'><dl class='xr-attrs'></dl></div><div class='xr-var-data'><pre>array(4)</pre></div></li></ul></div></li><li class='xr-section-item'><input id='section-9e5e6be5-f26c-4d15-85ca-844c408ea63f' class='xr-section-summary-in' type='checkbox' disabled ><label for='section-9e5e6be5-f26c-4d15-85ca-844c408ea63f' class='xr-section-summary'  title='Expand/collapse section'>Attributes: <span>(0)</span></label><div class='xr-section-inline-details'></div><div class='xr-section-details'><dl class='xr-attrs'></dl></div></li></ul></div></div>"
      ],
      "text/plain": [
       "<xarray.DataArray 'decile' (decile: 10)>\n",
       "array([0, 1, 2, 3, 4, 5, 6, 7, 8, 9])\n",
       "Coordinates:\n",
       "    month    int64 4\n",
       "Dimensions without coordinates: decile"
      ]
     },
     "execution_count": 37,
     "metadata": {},
     "output_type": "execute_result"
    }
   ],
   "source": [
    "cum_probs.decile"
   ]
  },
  {
   "cell_type": "code",
   "execution_count": 38,
   "id": "380d996e",
   "metadata": {
    "execution": {
     "iopub.execute_input": "2022-04-29T06:45:43.702930Z",
     "iopub.status.busy": "2022-04-29T06:45:43.702780Z",
     "iopub.status.idle": "2022-04-29T06:45:43.722311Z",
     "shell.execute_reply": "2022-04-29T06:45:43.721886Z"
    },
    "papermill": {
     "duration": 0.033013,
     "end_time": "2022-04-29T06:45:43.723509",
     "exception": false,
     "start_time": "2022-04-29T06:45:43.690496",
     "status": "completed"
    },
    "tags": []
   },
   "outputs": [],
   "source": [
    "cum_probs['decile'] = cum_probs['decile'] + 1"
   ]
  },
  {
   "cell_type": "code",
   "execution_count": 39,
   "id": "26cd733c",
   "metadata": {
    "execution": {
     "iopub.execute_input": "2022-04-29T06:45:43.748157Z",
     "iopub.status.busy": "2022-04-29T06:45:43.748009Z",
     "iopub.status.idle": "2022-04-29T06:45:43.772623Z",
     "shell.execute_reply": "2022-04-29T06:45:43.772134Z"
    },
    "papermill": {
     "duration": 0.03842,
     "end_time": "2022-04-29T06:45:43.773755",
     "exception": false,
     "start_time": "2022-04-29T06:45:43.735335",
     "status": "completed"
    },
    "tags": []
   },
   "outputs": [
    {
     "data": {
      "text/html": [
       "<div><svg style=\"position: absolute; width: 0; height: 0; overflow: hidden\">\n",
       "<defs>\n",
       "<symbol id=\"icon-database\" viewBox=\"0 0 32 32\">\n",
       "<path d=\"M16 0c-8.837 0-16 2.239-16 5v4c0 2.761 7.163 5 16 5s16-2.239 16-5v-4c0-2.761-7.163-5-16-5z\"></path>\n",
       "<path d=\"M16 17c-8.837 0-16-2.239-16-5v6c0 2.761 7.163 5 16 5s16-2.239 16-5v-6c0 2.761-7.163 5-16 5z\"></path>\n",
       "<path d=\"M16 26c-8.837 0-16-2.239-16-5v6c0 2.761 7.163 5 16 5s16-2.239 16-5v-6c0 2.761-7.163 5-16 5z\"></path>\n",
       "</symbol>\n",
       "<symbol id=\"icon-file-text2\" viewBox=\"0 0 32 32\">\n",
       "<path d=\"M28.681 7.159c-0.694-0.947-1.662-2.053-2.724-3.116s-2.169-2.030-3.116-2.724c-1.612-1.182-2.393-1.319-2.841-1.319h-15.5c-1.378 0-2.5 1.121-2.5 2.5v27c0 1.378 1.122 2.5 2.5 2.5h23c1.378 0 2.5-1.122 2.5-2.5v-19.5c0-0.448-0.137-1.23-1.319-2.841zM24.543 5.457c0.959 0.959 1.712 1.825 2.268 2.543h-4.811v-4.811c0.718 0.556 1.584 1.309 2.543 2.268zM28 29.5c0 0.271-0.229 0.5-0.5 0.5h-23c-0.271 0-0.5-0.229-0.5-0.5v-27c0-0.271 0.229-0.5 0.5-0.5 0 0 15.499-0 15.5 0v7c0 0.552 0.448 1 1 1h7v19.5z\"></path>\n",
       "<path d=\"M23 26h-14c-0.552 0-1-0.448-1-1s0.448-1 1-1h14c0.552 0 1 0.448 1 1s-0.448 1-1 1z\"></path>\n",
       "<path d=\"M23 22h-14c-0.552 0-1-0.448-1-1s0.448-1 1-1h14c0.552 0 1 0.448 1 1s-0.448 1-1 1z\"></path>\n",
       "<path d=\"M23 18h-14c-0.552 0-1-0.448-1-1s0.448-1 1-1h14c0.552 0 1 0.448 1 1s-0.448 1-1 1z\"></path>\n",
       "</symbol>\n",
       "</defs>\n",
       "</svg>\n",
       "<style>/* CSS stylesheet for displaying xarray objects in jupyterlab.\n",
       " *\n",
       " */\n",
       "\n",
       ":root {\n",
       "  --xr-font-color0: var(--jp-content-font-color0, rgba(0, 0, 0, 1));\n",
       "  --xr-font-color2: var(--jp-content-font-color2, rgba(0, 0, 0, 0.54));\n",
       "  --xr-font-color3: var(--jp-content-font-color3, rgba(0, 0, 0, 0.38));\n",
       "  --xr-border-color: var(--jp-border-color2, #e0e0e0);\n",
       "  --xr-disabled-color: var(--jp-layout-color3, #bdbdbd);\n",
       "  --xr-background-color: var(--jp-layout-color0, white);\n",
       "  --xr-background-color-row-even: var(--jp-layout-color1, white);\n",
       "  --xr-background-color-row-odd: var(--jp-layout-color2, #eeeeee);\n",
       "}\n",
       "\n",
       "html[theme=dark],\n",
       "body.vscode-dark {\n",
       "  --xr-font-color0: rgba(255, 255, 255, 1);\n",
       "  --xr-font-color2: rgba(255, 255, 255, 0.54);\n",
       "  --xr-font-color3: rgba(255, 255, 255, 0.38);\n",
       "  --xr-border-color: #1F1F1F;\n",
       "  --xr-disabled-color: #515151;\n",
       "  --xr-background-color: #111111;\n",
       "  --xr-background-color-row-even: #111111;\n",
       "  --xr-background-color-row-odd: #313131;\n",
       "}\n",
       "\n",
       ".xr-wrap {\n",
       "  display: block !important;\n",
       "  min-width: 300px;\n",
       "  max-width: 700px;\n",
       "}\n",
       "\n",
       ".xr-text-repr-fallback {\n",
       "  /* fallback to plain text repr when CSS is not injected (untrusted notebook) */\n",
       "  display: none;\n",
       "}\n",
       "\n",
       ".xr-header {\n",
       "  padding-top: 6px;\n",
       "  padding-bottom: 6px;\n",
       "  margin-bottom: 4px;\n",
       "  border-bottom: solid 1px var(--xr-border-color);\n",
       "}\n",
       "\n",
       ".xr-header > div,\n",
       ".xr-header > ul {\n",
       "  display: inline;\n",
       "  margin-top: 0;\n",
       "  margin-bottom: 0;\n",
       "}\n",
       "\n",
       ".xr-obj-type,\n",
       ".xr-array-name {\n",
       "  margin-left: 2px;\n",
       "  margin-right: 10px;\n",
       "}\n",
       "\n",
       ".xr-obj-type {\n",
       "  color: var(--xr-font-color2);\n",
       "}\n",
       "\n",
       ".xr-sections {\n",
       "  padding-left: 0 !important;\n",
       "  display: grid;\n",
       "  grid-template-columns: 150px auto auto 1fr 20px 20px;\n",
       "}\n",
       "\n",
       ".xr-section-item {\n",
       "  display: contents;\n",
       "}\n",
       "\n",
       ".xr-section-item input {\n",
       "  display: none;\n",
       "}\n",
       "\n",
       ".xr-section-item input + label {\n",
       "  color: var(--xr-disabled-color);\n",
       "}\n",
       "\n",
       ".xr-section-item input:enabled + label {\n",
       "  cursor: pointer;\n",
       "  color: var(--xr-font-color2);\n",
       "}\n",
       "\n",
       ".xr-section-item input:enabled + label:hover {\n",
       "  color: var(--xr-font-color0);\n",
       "}\n",
       "\n",
       ".xr-section-summary {\n",
       "  grid-column: 1;\n",
       "  color: var(--xr-font-color2);\n",
       "  font-weight: 500;\n",
       "}\n",
       "\n",
       ".xr-section-summary > span {\n",
       "  display: inline-block;\n",
       "  padding-left: 0.5em;\n",
       "}\n",
       "\n",
       ".xr-section-summary-in:disabled + label {\n",
       "  color: var(--xr-font-color2);\n",
       "}\n",
       "\n",
       ".xr-section-summary-in + label:before {\n",
       "  display: inline-block;\n",
       "  content: '►';\n",
       "  font-size: 11px;\n",
       "  width: 15px;\n",
       "  text-align: center;\n",
       "}\n",
       "\n",
       ".xr-section-summary-in:disabled + label:before {\n",
       "  color: var(--xr-disabled-color);\n",
       "}\n",
       "\n",
       ".xr-section-summary-in:checked + label:before {\n",
       "  content: '▼';\n",
       "}\n",
       "\n",
       ".xr-section-summary-in:checked + label > span {\n",
       "  display: none;\n",
       "}\n",
       "\n",
       ".xr-section-summary,\n",
       ".xr-section-inline-details {\n",
       "  padding-top: 4px;\n",
       "  padding-bottom: 4px;\n",
       "}\n",
       "\n",
       ".xr-section-inline-details {\n",
       "  grid-column: 2 / -1;\n",
       "}\n",
       "\n",
       ".xr-section-details {\n",
       "  display: none;\n",
       "  grid-column: 1 / -1;\n",
       "  margin-bottom: 5px;\n",
       "}\n",
       "\n",
       ".xr-section-summary-in:checked ~ .xr-section-details {\n",
       "  display: contents;\n",
       "}\n",
       "\n",
       ".xr-array-wrap {\n",
       "  grid-column: 1 / -1;\n",
       "  display: grid;\n",
       "  grid-template-columns: 20px auto;\n",
       "}\n",
       "\n",
       ".xr-array-wrap > label {\n",
       "  grid-column: 1;\n",
       "  vertical-align: top;\n",
       "}\n",
       "\n",
       ".xr-preview {\n",
       "  color: var(--xr-font-color3);\n",
       "}\n",
       "\n",
       ".xr-array-preview,\n",
       ".xr-array-data {\n",
       "  padding: 0 5px !important;\n",
       "  grid-column: 2;\n",
       "}\n",
       "\n",
       ".xr-array-data,\n",
       ".xr-array-in:checked ~ .xr-array-preview {\n",
       "  display: none;\n",
       "}\n",
       "\n",
       ".xr-array-in:checked ~ .xr-array-data,\n",
       ".xr-array-preview {\n",
       "  display: inline-block;\n",
       "}\n",
       "\n",
       ".xr-dim-list {\n",
       "  display: inline-block !important;\n",
       "  list-style: none;\n",
       "  padding: 0 !important;\n",
       "  margin: 0;\n",
       "}\n",
       "\n",
       ".xr-dim-list li {\n",
       "  display: inline-block;\n",
       "  padding: 0;\n",
       "  margin: 0;\n",
       "}\n",
       "\n",
       ".xr-dim-list:before {\n",
       "  content: '(';\n",
       "}\n",
       "\n",
       ".xr-dim-list:after {\n",
       "  content: ')';\n",
       "}\n",
       "\n",
       ".xr-dim-list li:not(:last-child):after {\n",
       "  content: ',';\n",
       "  padding-right: 5px;\n",
       "}\n",
       "\n",
       ".xr-has-index {\n",
       "  font-weight: bold;\n",
       "}\n",
       "\n",
       ".xr-var-list,\n",
       ".xr-var-item {\n",
       "  display: contents;\n",
       "}\n",
       "\n",
       ".xr-var-item > div,\n",
       ".xr-var-item label,\n",
       ".xr-var-item > .xr-var-name span {\n",
       "  background-color: var(--xr-background-color-row-even);\n",
       "  margin-bottom: 0;\n",
       "}\n",
       "\n",
       ".xr-var-item > .xr-var-name:hover span {\n",
       "  padding-right: 5px;\n",
       "}\n",
       "\n",
       ".xr-var-list > li:nth-child(odd) > div,\n",
       ".xr-var-list > li:nth-child(odd) > label,\n",
       ".xr-var-list > li:nth-child(odd) > .xr-var-name span {\n",
       "  background-color: var(--xr-background-color-row-odd);\n",
       "}\n",
       "\n",
       ".xr-var-name {\n",
       "  grid-column: 1;\n",
       "}\n",
       "\n",
       ".xr-var-dims {\n",
       "  grid-column: 2;\n",
       "}\n",
       "\n",
       ".xr-var-dtype {\n",
       "  grid-column: 3;\n",
       "  text-align: right;\n",
       "  color: var(--xr-font-color2);\n",
       "}\n",
       "\n",
       ".xr-var-preview {\n",
       "  grid-column: 4;\n",
       "}\n",
       "\n",
       ".xr-var-name,\n",
       ".xr-var-dims,\n",
       ".xr-var-dtype,\n",
       ".xr-preview,\n",
       ".xr-attrs dt {\n",
       "  white-space: nowrap;\n",
       "  overflow: hidden;\n",
       "  text-overflow: ellipsis;\n",
       "  padding-right: 10px;\n",
       "}\n",
       "\n",
       ".xr-var-name:hover,\n",
       ".xr-var-dims:hover,\n",
       ".xr-var-dtype:hover,\n",
       ".xr-attrs dt:hover {\n",
       "  overflow: visible;\n",
       "  width: auto;\n",
       "  z-index: 1;\n",
       "}\n",
       "\n",
       ".xr-var-attrs,\n",
       ".xr-var-data {\n",
       "  display: none;\n",
       "  background-color: var(--xr-background-color) !important;\n",
       "  padding-bottom: 5px !important;\n",
       "}\n",
       "\n",
       ".xr-var-attrs-in:checked ~ .xr-var-attrs,\n",
       ".xr-var-data-in:checked ~ .xr-var-data {\n",
       "  display: block;\n",
       "}\n",
       "\n",
       ".xr-var-data > table {\n",
       "  float: right;\n",
       "}\n",
       "\n",
       ".xr-var-name span,\n",
       ".xr-var-data,\n",
       ".xr-attrs {\n",
       "  padding-left: 25px !important;\n",
       "}\n",
       "\n",
       ".xr-attrs,\n",
       ".xr-var-attrs,\n",
       ".xr-var-data {\n",
       "  grid-column: 1 / -1;\n",
       "}\n",
       "\n",
       "dl.xr-attrs {\n",
       "  padding: 0;\n",
       "  margin: 0;\n",
       "  display: grid;\n",
       "  grid-template-columns: 125px auto;\n",
       "}\n",
       "\n",
       ".xr-attrs dt,\n",
       ".xr-attrs dd {\n",
       "  padding: 0;\n",
       "  margin: 0;\n",
       "  float: left;\n",
       "  padding-right: 10px;\n",
       "  width: auto;\n",
       "}\n",
       "\n",
       ".xr-attrs dt {\n",
       "  font-weight: normal;\n",
       "  grid-column: 1;\n",
       "}\n",
       "\n",
       ".xr-attrs dt:hover span {\n",
       "  display: inline-block;\n",
       "  background: var(--xr-background-color);\n",
       "  padding-right: 10px;\n",
       "}\n",
       "\n",
       ".xr-attrs dd {\n",
       "  grid-column: 2;\n",
       "  white-space: pre-wrap;\n",
       "  word-break: break-all;\n",
       "}\n",
       "\n",
       ".xr-icon-database,\n",
       ".xr-icon-file-text2 {\n",
       "  display: inline-block;\n",
       "  vertical-align: middle;\n",
       "  width: 1em;\n",
       "  height: 1.5em !important;\n",
       "  stroke-width: 0;\n",
       "  stroke: currentColor;\n",
       "  fill: currentColor;\n",
       "}\n",
       "</style><pre class='xr-text-repr-fallback'>&lt;xarray.DataArray &#x27;decile&#x27; (decile: 10)&gt;\n",
       "array([ 1,  2,  3,  4,  5,  6,  7,  8,  9, 10])\n",
       "Coordinates:\n",
       "    month    int64 4\n",
       "  * decile   (decile) int64 1 2 3 4 5 6 7 8 9 10</pre><div class='xr-wrap' style='display:none'><div class='xr-header'><div class='xr-obj-type'>xarray.DataArray</div><div class='xr-array-name'>'decile'</div><ul class='xr-dim-list'><li><span class='xr-has-index'>decile</span>: 10</li></ul></div><ul class='xr-sections'><li class='xr-section-item'><div class='xr-array-wrap'><input id='section-20e52d8a-b7a7-4509-9938-481f6da50396' class='xr-array-in' type='checkbox' checked><label for='section-20e52d8a-b7a7-4509-9938-481f6da50396' title='Show/hide data repr'><svg class='icon xr-icon-database'><use xlink:href='#icon-database'></use></svg></label><div class='xr-array-preview xr-preview'><span>1 2 3 4 5 6 7 8 9 10</span></div><div class='xr-array-data'><pre>array([ 1,  2,  3,  4,  5,  6,  7,  8,  9, 10])</pre></div></div></li><li class='xr-section-item'><input id='section-fd7805af-6cf8-4a48-92eb-869614a0113b' class='xr-section-summary-in' type='checkbox'  checked><label for='section-fd7805af-6cf8-4a48-92eb-869614a0113b' class='xr-section-summary' >Coordinates: <span>(2)</span></label><div class='xr-section-inline-details'></div><div class='xr-section-details'><ul class='xr-var-list'><li class='xr-var-item'><div class='xr-var-name'><span>month</span></div><div class='xr-var-dims'>()</div><div class='xr-var-dtype'>int64</div><div class='xr-var-preview xr-preview'>4</div><input id='attrs-7bfdeb3a-e793-4380-a6c9-2d917fbf8dc7' class='xr-var-attrs-in' type='checkbox' disabled><label for='attrs-7bfdeb3a-e793-4380-a6c9-2d917fbf8dc7' title='Show/Hide attributes'><svg class='icon xr-icon-file-text2'><use xlink:href='#icon-file-text2'></use></svg></label><input id='data-c5737964-f836-4720-89f9-a1e2a67a7464' class='xr-var-data-in' type='checkbox'><label for='data-c5737964-f836-4720-89f9-a1e2a67a7464' title='Show/Hide data repr'><svg class='icon xr-icon-database'><use xlink:href='#icon-database'></use></svg></label><div class='xr-var-attrs'><dl class='xr-attrs'></dl></div><div class='xr-var-data'><pre>array(4)</pre></div></li><li class='xr-var-item'><div class='xr-var-name'><span class='xr-has-index'>decile</span></div><div class='xr-var-dims'>(decile)</div><div class='xr-var-dtype'>int64</div><div class='xr-var-preview xr-preview'>1 2 3 4 5 6 7 8 9 10</div><input id='attrs-f2009382-cdc7-423a-af00-48bffb49d5f0' class='xr-var-attrs-in' type='checkbox' disabled><label for='attrs-f2009382-cdc7-423a-af00-48bffb49d5f0' title='Show/Hide attributes'><svg class='icon xr-icon-file-text2'><use xlink:href='#icon-file-text2'></use></svg></label><input id='data-0e468450-40bb-4774-90e1-9f6a0284069e' class='xr-var-data-in' type='checkbox'><label for='data-0e468450-40bb-4774-90e1-9f6a0284069e' title='Show/Hide data repr'><svg class='icon xr-icon-database'><use xlink:href='#icon-database'></use></svg></label><div class='xr-var-attrs'><dl class='xr-attrs'></dl></div><div class='xr-var-data'><pre>array([ 1,  2,  3,  4,  5,  6,  7,  8,  9, 10])</pre></div></li></ul></div></li><li class='xr-section-item'><input id='section-5a46e14c-4748-4bcf-a6b3-dd85d7f5d127' class='xr-section-summary-in' type='checkbox' disabled ><label for='section-5a46e14c-4748-4bcf-a6b3-dd85d7f5d127' class='xr-section-summary'  title='Expand/collapse section'>Attributes: <span>(0)</span></label><div class='xr-section-inline-details'></div><div class='xr-section-details'><dl class='xr-attrs'></dl></div></li></ul></div></div>"
      ],
      "text/plain": [
       "<xarray.DataArray 'decile' (decile: 10)>\n",
       "array([ 1,  2,  3,  4,  5,  6,  7,  8,  9, 10])\n",
       "Coordinates:\n",
       "    month    int64 4\n",
       "  * decile   (decile) int64 1 2 3 4 5 6 7 8 9 10"
      ]
     },
     "execution_count": 39,
     "metadata": {},
     "output_type": "execute_result"
    }
   ],
   "source": [
    "cum_probs.decile"
   ]
  },
  {
   "cell_type": "markdown",
   "id": "ec4e8ddd",
   "metadata": {
    "papermill": {
     "duration": 0.012446,
     "end_time": "2022-04-29T06:45:43.798523",
     "exception": false,
     "start_time": "2022-04-29T06:45:43.786077",
     "status": "completed"
    },
    "tags": []
   },
   "source": [
    "#### selects probabilities greater or equal than 50% "
   ]
  },
  {
   "cell_type": "code",
   "execution_count": 40,
   "id": "6144557e",
   "metadata": {
    "execution": {
     "iopub.execute_input": "2022-04-29T06:45:43.824132Z",
     "iopub.status.busy": "2022-04-29T06:45:43.823991Z",
     "iopub.status.idle": "2022-04-29T06:45:43.844800Z",
     "shell.execute_reply": "2022-04-29T06:45:43.844317Z"
    },
    "papermill": {
     "duration": 0.035299,
     "end_time": "2022-04-29T06:45:43.845967",
     "exception": false,
     "start_time": "2022-04-29T06:45:43.810668",
     "status": "completed"
    },
    "tags": []
   },
   "outputs": [],
   "source": [
    "cum_probs = cum_probs.where(cum_probs['precip'] >= 50)"
   ]
  },
  {
   "cell_type": "markdown",
   "id": "56cfa718-c575-42ac-bc4f-cafa25faa3dd",
   "metadata": {
    "papermill": {
     "duration": 0.011529,
     "end_time": "2022-04-29T06:45:43.869250",
     "exception": false,
     "start_time": "2022-04-29T06:45:43.857721",
     "status": "completed"
    },
    "tags": []
   },
   "source": [
    "### saves to disk "
   ]
  },
  {
   "cell_type": "code",
   "execution_count": 41,
   "id": "4eab8b43-6414-453a-ab1a-06dbabefd939",
   "metadata": {
    "execution": {
     "iopub.execute_input": "2022-04-29T06:45:43.893322Z",
     "iopub.status.busy": "2022-04-29T06:45:43.893181Z",
     "iopub.status.idle": "2022-04-29T06:45:43.911397Z",
     "shell.execute_reply": "2022-04-29T06:45:43.910944Z"
    },
    "papermill": {
     "duration": 0.031679,
     "end_time": "2022-04-29T06:45:43.912513",
     "exception": false,
     "start_time": "2022-04-29T06:45:43.880834",
     "status": "completed"
    },
    "tags": []
   },
   "outputs": [],
   "source": [
    "dict_lat = dict(units = \"degrees_north\", long_name = \"Latitude\")\n",
    "dict_lon = dict(units = \"degrees_east\", long_name = \"Longitude\")"
   ]
  },
  {
   "cell_type": "code",
   "execution_count": 42,
   "id": "8d1933c9-d1a3-4d3b-b852-ed6ee36029c3",
   "metadata": {
    "execution": {
     "iopub.execute_input": "2022-04-29T06:45:43.937502Z",
     "iopub.status.busy": "2022-04-29T06:45:43.937361Z",
     "iopub.status.idle": "2022-04-29T06:45:43.955723Z",
     "shell.execute_reply": "2022-04-29T06:45:43.955298Z"
    },
    "papermill": {
     "duration": 0.032329,
     "end_time": "2022-04-29T06:45:43.956875",
     "exception": false,
     "start_time": "2022-04-29T06:45:43.924546",
     "status": "completed"
    },
    "tags": []
   },
   "outputs": [],
   "source": [
    "cum_probs['lat'].attrs.update(dict_lat)\n",
    "cum_probs['lon'].attrs.update(dict_lon)"
   ]
  },
  {
   "cell_type": "code",
   "execution_count": 43,
   "id": "2ec2cc96-edd9-42d4-86bc-6f0087148411",
   "metadata": {
    "execution": {
     "iopub.execute_input": "2022-04-29T06:45:43.982103Z",
     "iopub.status.busy": "2022-04-29T06:45:43.981960Z",
     "iopub.status.idle": "2022-04-29T06:45:46.028708Z",
     "shell.execute_reply": "2022-04-29T06:45:46.027037Z"
    },
    "papermill": {
     "duration": 2.063481,
     "end_time": "2022-04-29T06:45:46.032889",
     "exception": false,
     "start_time": "2022-04-29T06:45:43.969408",
     "status": "completed"
    },
    "tags": []
   },
   "outputs": [],
   "source": [
    "cum_probs.to_netcdf(outputs_path.joinpath(f\"{period}_{varfname}_{quantile}_cumulative_probabilities_from_{year}-{month:02d}_C3S_MME.netcdf\"))  "
   ]
  },
  {
   "cell_type": "code",
   "execution_count": null,
   "id": "1a7994fd-0067-4854-bd7d-1b736240ab73",
   "metadata": {
    "papermill": {
     "duration": 0.016076,
     "end_time": "2022-04-29T06:45:46.085420",
     "exception": false,
     "start_time": "2022-04-29T06:45:46.069344",
     "status": "completed"
    },
    "tags": []
   },
   "outputs": [],
   "source": []
  },
  {
   "cell_type": "markdown",
   "id": "a59c5176",
   "metadata": {
    "papermill": {
     "duration": 0.012045,
     "end_time": "2022-04-29T06:45:46.109425",
     "exception": false,
     "start_time": "2022-04-29T06:45:46.097380",
     "status": "completed"
    },
    "tags": []
   },
   "source": [
    "### quick plot of the minimum decile value for the cumulative decile probabilities reaching 50% "
   ]
  },
  {
   "cell_type": "code",
   "execution_count": 44,
   "id": "45da967d",
   "metadata": {
    "execution": {
     "iopub.execute_input": "2022-04-29T06:45:46.134100Z",
     "iopub.status.busy": "2022-04-29T06:45:46.133952Z",
     "iopub.status.idle": "2022-04-29T06:45:49.721739Z",
     "shell.execute_reply": "2022-04-29T06:45:49.721292Z"
    },
    "papermill": {
     "duration": 3.60139,
     "end_time": "2022-04-29T06:45:49.722738",
     "exception": false,
     "start_time": "2022-04-29T06:45:46.121348",
     "status": "completed"
    },
    "tags": []
   },
   "outputs": [
    {
     "data": {
      "text/plain": [
       "Text(0.5, 1.0, '')"
      ]
     },
     "execution_count": 44,
     "metadata": {},
     "output_type": "execute_result"
    },
    {
     "data": {
      "image/png": "[encoded data removed]",
      "text/plain": [
       "<Figure size 1008x576 with 2 Axes>"
      ]
     },
     "metadata": {
      "needs_background": "light"
     },
     "output_type": "display_data"
    }
   ],
   "source": [
    "f, ax = plt.subplots(subplot_kw=dict(projection=ccrs.PlateCarree(central_longitude=180)), figsize=(14,8))\n",
    "\n",
    "cum_probs.idxmin('decile').squeeze().sel(step=step)['precip'].plot.contourf(ax=ax, levels=np.arange(0, 11), transform=ccrs.PlateCarree(), \\\n",
    "                                                                   cbar_kwargs={'shrink':0.7, 'boundaries':np.arange(11), 'drawedges':True})\n",
    "ax.coastlines()\n",
    "\n",
    "ax.set_title('')"
   ]
  },
  {
   "cell_type": "markdown",
   "id": "5144b327",
   "metadata": {
    "papermill": {
     "duration": 0.012678,
     "end_time": "2022-04-29T06:45:49.748117",
     "exception": false,
     "start_time": "2022-04-29T06:45:49.735439",
     "status": "completed"
    },
    "tags": []
   },
   "source": [
    "### Now starts the prototype plotting "
   ]
  },
  {
   "cell_type": "code",
   "execution_count": 45,
   "id": "fc61800f",
   "metadata": {
    "execution": {
     "iopub.execute_input": "2022-04-29T06:45:49.774218Z",
     "iopub.status.busy": "2022-04-29T06:45:49.774060Z",
     "iopub.status.idle": "2022-04-29T06:45:49.792273Z",
     "shell.execute_reply": "2022-04-29T06:45:49.791810Z"
    },
    "papermill": {
     "duration": 0.032779,
     "end_time": "2022-04-29T06:45:49.793440",
     "exception": false,
     "start_time": "2022-04-29T06:45:49.760661",
     "status": "completed"
    },
    "tags": []
   },
   "outputs": [],
   "source": [
    "thresholds = np.arange(0.5, 10.5 + 1, 1)"
   ]
  },
  {
   "cell_type": "code",
   "execution_count": 46,
   "id": "b4786fe3",
   "metadata": {
    "execution": {
     "iopub.execute_input": "2022-04-29T06:45:49.819170Z",
     "iopub.status.busy": "2022-04-29T06:45:49.819022Z",
     "iopub.status.idle": "2022-04-29T06:45:49.838004Z",
     "shell.execute_reply": "2022-04-29T06:45:49.837573Z"
    },
    "papermill": {
     "duration": 0.033092,
     "end_time": "2022-04-29T06:45:49.839018",
     "exception": false,
     "start_time": "2022-04-29T06:45:49.805926",
     "status": "completed"
    },
    "tags": []
   },
   "outputs": [
    {
     "data": {
      "text/plain": [
       "array([ 0.5,  1.5,  2.5,  3.5,  4.5,  5.5,  6.5,  7.5,  8.5,  9.5, 10.5])"
      ]
     },
     "execution_count": 46,
     "metadata": {},
     "output_type": "execute_result"
    }
   ],
   "source": [
    "thresholds"
   ]
  },
  {
   "cell_type": "code",
   "execution_count": 47,
   "id": "1f010162",
   "metadata": {
    "execution": {
     "iopub.execute_input": "2022-04-29T06:45:49.865587Z",
     "iopub.status.busy": "2022-04-29T06:45:49.865384Z",
     "iopub.status.idle": "2022-04-29T06:45:49.884044Z",
     "shell.execute_reply": "2022-04-29T06:45:49.883635Z"
    },
    "papermill": {
     "duration": 0.0335,
     "end_time": "2022-04-29T06:45:49.885240",
     "exception": false,
     "start_time": "2022-04-29T06:45:49.851740",
     "status": "completed"
    },
    "tags": []
   },
   "outputs": [],
   "source": [
    "ticks_marks = np.diff(np.array(thresholds)) / 2.\n",
    "\n",
    "ticks = [thresholds[i] + ticks_marks[i] for i in range(len(thresholds) - 1)]"
   ]
  },
  {
   "cell_type": "code",
   "execution_count": 48,
   "id": "ca15564e",
   "metadata": {
    "execution": {
     "iopub.execute_input": "2022-04-29T06:45:49.911244Z",
     "iopub.status.busy": "2022-04-29T06:45:49.911103Z",
     "iopub.status.idle": "2022-04-29T06:45:49.929969Z",
     "shell.execute_reply": "2022-04-29T06:45:49.929530Z"
    },
    "papermill": {
     "duration": 0.033042,
     "end_time": "2022-04-29T06:45:49.930931",
     "exception": false,
     "start_time": "2022-04-29T06:45:49.897889",
     "status": "completed"
    },
    "tags": []
   },
   "outputs": [
    {
     "data": {
      "text/plain": [
       "[1.0, 2.0, 3.0, 4.0, 5.0, 6.0, 7.0, 8.0, 9.0, 10.0]"
      ]
     },
     "execution_count": 48,
     "metadata": {},
     "output_type": "execute_result"
    }
   ],
   "source": [
    "ticks"
   ]
  },
  {
   "cell_type": "code",
   "execution_count": 49,
   "id": "7fd0d9b8",
   "metadata": {
    "execution": {
     "iopub.execute_input": "2022-04-29T06:45:49.956758Z",
     "iopub.status.busy": "2022-04-29T06:45:49.956619Z",
     "iopub.status.idle": "2022-04-29T06:45:49.974260Z",
     "shell.execute_reply": "2022-04-29T06:45:49.973745Z"
    },
    "papermill": {
     "duration": 0.031825,
     "end_time": "2022-04-29T06:45:49.975350",
     "exception": false,
     "start_time": "2022-04-29T06:45:49.943525",
     "status": "completed"
    },
    "tags": []
   },
   "outputs": [],
   "source": [
    "hexes = ['#003c30', '#01665e', '#35978f', '#80cdc1', '#c7eae5', '#f6e8c3', '#dfc27d', '#bf812d', '#8c510a', '#543005']"
   ]
  },
  {
   "cell_type": "code",
   "execution_count": 50,
   "id": "4c258744",
   "metadata": {
    "execution": {
     "iopub.execute_input": "2022-04-29T06:45:50.002061Z",
     "iopub.status.busy": "2022-04-29T06:45:50.001865Z",
     "iopub.status.idle": "2022-04-29T06:45:50.020184Z",
     "shell.execute_reply": "2022-04-29T06:45:50.019709Z"
    },
    "papermill": {
     "duration": 0.033851,
     "end_time": "2022-04-29T06:45:50.021626",
     "exception": false,
     "start_time": "2022-04-29T06:45:49.987775",
     "status": "completed"
    },
    "tags": []
   },
   "outputs": [],
   "source": [
    "hexes.reverse()"
   ]
  },
  {
   "cell_type": "code",
   "execution_count": 51,
   "id": "121592cd",
   "metadata": {
    "execution": {
     "iopub.execute_input": "2022-04-29T06:45:50.047501Z",
     "iopub.status.busy": "2022-04-29T06:45:50.047357Z",
     "iopub.status.idle": "2022-04-29T06:45:50.065147Z",
     "shell.execute_reply": "2022-04-29T06:45:50.064708Z"
    },
    "papermill": {
     "duration": 0.03181,
     "end_time": "2022-04-29T06:45:50.066275",
     "exception": false,
     "start_time": "2022-04-29T06:45:50.034465",
     "status": "completed"
    },
    "tags": []
   },
   "outputs": [],
   "source": [
    "cbar_ticklabels = ['>90th', '80-90th', '70-80th', '60-70th', '50-60th', '40-50th', '30-40th', '20-30th', '10-20th', '< 10th']"
   ]
  },
  {
   "cell_type": "code",
   "execution_count": 52,
   "id": "bc5ef3c1",
   "metadata": {
    "execution": {
     "iopub.execute_input": "2022-04-29T06:45:50.091899Z",
     "iopub.status.busy": "2022-04-29T06:45:50.091719Z",
     "iopub.status.idle": "2022-04-29T06:45:50.109417Z",
     "shell.execute_reply": "2022-04-29T06:45:50.108962Z"
    },
    "papermill": {
     "duration": 0.031714,
     "end_time": "2022-04-29T06:45:50.110555",
     "exception": false,
     "start_time": "2022-04-29T06:45:50.078841",
     "status": "completed"
    },
    "tags": []
   },
   "outputs": [],
   "source": [
    "cbar_ticklabels.reverse()"
   ]
  },
  {
   "cell_type": "code",
   "execution_count": 53,
   "id": "a7aff0bb",
   "metadata": {
    "execution": {
     "iopub.execute_input": "2022-04-29T06:45:50.136555Z",
     "iopub.status.busy": "2022-04-29T06:45:50.136414Z",
     "iopub.status.idle": "2022-04-29T06:45:50.156863Z",
     "shell.execute_reply": "2022-04-29T06:45:50.156141Z"
    },
    "papermill": {
     "duration": 0.034929,
     "end_time": "2022-04-29T06:45:50.157954",
     "exception": false,
     "start_time": "2022-04-29T06:45:50.123025",
     "status": "completed"
    },
    "tags": []
   },
   "outputs": [
    {
     "data": {
      "text/plain": [
       "['< 10th',\n",
       " '10-20th',\n",
       " '20-30th',\n",
       " '30-40th',\n",
       " '40-50th',\n",
       " '50-60th',\n",
       " '60-70th',\n",
       " '70-80th',\n",
       " '80-90th',\n",
       " '>90th']"
      ]
     },
     "execution_count": 53,
     "metadata": {},
     "output_type": "execute_result"
    }
   ],
   "source": [
    "cbar_ticklabels"
   ]
  },
  {
   "cell_type": "code",
   "execution_count": 54,
   "id": "0bc1d2a2",
   "metadata": {
    "execution": {
     "iopub.execute_input": "2022-04-29T06:45:50.184180Z",
     "iopub.status.busy": "2022-04-29T06:45:50.184024Z",
     "iopub.status.idle": "2022-04-29T06:45:50.201858Z",
     "shell.execute_reply": "2022-04-29T06:45:50.201282Z"
    },
    "papermill": {
     "duration": 0.032066,
     "end_time": "2022-04-29T06:45:50.203027",
     "exception": false,
     "start_time": "2022-04-29T06:45:50.170961",
     "status": "completed"
    },
    "tags": []
   },
   "outputs": [],
   "source": [
    "import matplotlib"
   ]
  },
  {
   "cell_type": "code",
   "execution_count": 55,
   "id": "47d2c6b4",
   "metadata": {
    "execution": {
     "iopub.execute_input": "2022-04-29T06:45:50.229126Z",
     "iopub.status.busy": "2022-04-29T06:45:50.228978Z",
     "iopub.status.idle": "2022-04-29T06:45:50.246781Z",
     "shell.execute_reply": "2022-04-29T06:45:50.246384Z"
    },
    "papermill": {
     "duration": 0.032166,
     "end_time": "2022-04-29T06:45:50.247920",
     "exception": false,
     "start_time": "2022-04-29T06:45:50.215754",
     "status": "completed"
    },
    "tags": []
   },
   "outputs": [],
   "source": [
    "cmap = matplotlib.colors.ListedColormap(hexes, name='decile')"
   ]
  },
  {
   "cell_type": "code",
   "execution_count": 56,
   "id": "a007c97a",
   "metadata": {
    "execution": {
     "iopub.execute_input": "2022-04-29T06:45:50.274646Z",
     "iopub.status.busy": "2022-04-29T06:45:50.274467Z",
     "iopub.status.idle": "2022-04-29T06:45:50.297521Z",
     "shell.execute_reply": "2022-04-29T06:45:50.297092Z"
    },
    "papermill": {
     "duration": 0.037983,
     "end_time": "2022-04-29T06:45:50.298530",
     "exception": false,
     "start_time": "2022-04-29T06:45:50.260547",
     "status": "completed"
    },
    "tags": []
   },
   "outputs": [
    {
     "data": {
      "image/png": "[encoded data removed]",
      "text/html": [
       "<div style=\"vertical-align: middle;\"><strong>decile</strong> </div><div class=\"cmap\"><img alt=\"decile colormap\" title=\"decile\" style=\"border: 1px solid #555;\" src=\"data:image/png;base64,iVBORw0KGgoAAAANSUhEUgAAAgAAAABACAYAAABsv8+/AAAAFXRFWHRUaXRsZQBkZWNpbGUgY29sb3JtYXBonyRcAAAAG3RFWHREZXNjcmlwdGlvbgBkZWNpbGUgY29sb3JtYXAhCDy4AAAAMHRFWHRBdXRob3IATWF0cGxvdGxpYiB2My40LjMsIGh0dHBzOi8vbWF0cGxvdGxpYi5vcmcJXfPTAAAAMnRFWHRTb2Z0d2FyZQBNYXRwbG90bGliIHYzLjQuMywgaHR0cHM6Ly9tYXRwbG90bGliLm9yZyf7bPQAAAF2SURBVHic7darTQNgGEBRaNIZsDwSdBMMFoOuYNWKrkAIDQgUjkHKEn/4Eu45E1x5L1922/PFP/J4s51OWOZhdzedsMz10346YZmr++fphGU+NrfTCcscf76nE5Y5vL5PJyzzdjpNJyxz/vqcTlhqMx0AAPw9AwAAQQYAAIIMAAAEGQAACDIAABBkAAAgyAAAQJABAIAgAwAAQQYAAIIMAAAEGQAACDIAABBkAAAgyAAAQJABAIAgAwAAQQYAAIIMAAAEGQAACDIAABBkAAAgyAAAQJABAIAgAwAAQQYAAIIMAAAEGQAACDIAABBkAAAgyAAAQJABAIAgAwAAQQYAAIIMAAAEGQAACDIAABBkAAAgyAAAQJABAIAgAwAAQQYAAIIMAAAEGQAACDIAABBkAAAgyAAAQJABAIAgAwAAQQYAAIIMAAAEGQAACDIAABBkAAAgyAAAQJABAIAgAwAAQQYAAIIMAAAEGQAACDIAABBkAAAg6BfH1w7rwRZTHQAAAABJRU5ErkJggg==\"></div><div style=\"vertical-align: middle; max-width: 514px; display: flex; justify-content: space-between;\"><div style=\"float: left;\"><div title=\"#543005ff\" style=\"display: inline-block; width: 1em; height: 1em; margin: 0; vertical-align: middle; border: 1px solid #555; background-color: #543005ff;\"></div> under</div><div style=\"margin: 0 auto; display: inline-block;\">bad <div title=\"#00000000\" style=\"display: inline-block; width: 1em; height: 1em; margin: 0; vertical-align: middle; border: 1px solid #555; background-color: #00000000;\"></div></div><div style=\"float: right;\">over <div title=\"#003c30ff\" style=\"display: inline-block; width: 1em; height: 1em; margin: 0; vertical-align: middle; border: 1px solid #555; background-color: #003c30ff;\"></div></div>"
      ],
      "text/plain": [
       "<matplotlib.colors.ListedColormap at 0x7fd6081b4400>"
      ]
     },
     "execution_count": 56,
     "metadata": {},
     "output_type": "execute_result"
    }
   ],
   "source": [
    "cmap"
   ]
  },
  {
   "cell_type": "code",
   "execution_count": 57,
   "id": "f776330c",
   "metadata": {
    "execution": {
     "iopub.execute_input": "2022-04-29T06:45:50.325345Z",
     "iopub.status.busy": "2022-04-29T06:45:50.325197Z",
     "iopub.status.idle": "2022-04-29T06:45:50.353290Z",
     "shell.execute_reply": "2022-04-29T06:45:50.352825Z"
    },
    "papermill": {
     "duration": 0.042658,
     "end_time": "2022-04-29T06:45:50.354487",
     "exception": false,
     "start_time": "2022-04-29T06:45:50.311829",
     "status": "completed"
    },
    "tags": []
   },
   "outputs": [],
   "source": [
    "decile_map = cum_probs.idxmin('decile').squeeze().sel(step=step)"
   ]
  },
  {
   "cell_type": "code",
   "execution_count": 58,
   "id": "062527c8",
   "metadata": {
    "execution": {
     "iopub.execute_input": "2022-04-29T06:45:50.381447Z",
     "iopub.status.busy": "2022-04-29T06:45:50.381274Z",
     "iopub.status.idle": "2022-04-29T06:45:50.457712Z",
     "shell.execute_reply": "2022-04-29T06:45:50.457282Z"
    },
    "papermill": {
     "duration": 0.091651,
     "end_time": "2022-04-29T06:45:50.458777",
     "exception": false,
     "start_time": "2022-04-29T06:45:50.367126",
     "status": "completed"
    },
    "tags": []
   },
   "outputs": [
    {
     "data": {
      "text/html": [
       "<div>\n",
       "<style scoped>\n",
       "    .dataframe tbody tr th:only-of-type {\n",
       "        vertical-align: middle;\n",
       "    }\n",
       "\n",
       "    .dataframe tbody tr th {\n",
       "        vertical-align: top;\n",
       "    }\n",
       "\n",
       "    .dataframe thead th {\n",
       "        text-align: right;\n",
       "    }\n",
       "</style>\n",
       "<table border=\"1\" class=\"dataframe\">\n",
       "  <thead>\n",
       "    <tr style=\"text-align: right;\">\n",
       "      <th></th>\n",
       "      <th>index</th>\n",
       "      <th>geometry</th>\n",
       "    </tr>\n",
       "  </thead>\n",
       "  <tbody>\n",
       "    <tr>\n",
       "      <th>0</th>\n",
       "      <td>EEZ</td>\n",
       "      <td>POLYGON ((188.63281 -22.23893, 188.62887 -22.2...</td>\n",
       "    </tr>\n",
       "  </tbody>\n",
       "</table>\n",
       "</div>"
      ],
      "text/plain": [
       "  index                                           geometry\n",
       "0   EEZ  POLYGON ((188.63281 -22.23893, 188.62887 -22.2..."
      ]
     },
     "execution_count": 58,
     "metadata": {},
     "output_type": "execute_result"
    }
   ],
   "source": [
    "merged_EEZs"
   ]
  },
  {
   "cell_type": "code",
   "execution_count": 59,
   "id": "f24d2f75",
   "metadata": {
    "execution": {
     "iopub.execute_input": "2022-04-29T06:45:50.485009Z",
     "iopub.status.busy": "2022-04-29T06:45:50.484870Z",
     "iopub.status.idle": "2022-04-29T06:45:50.550354Z",
     "shell.execute_reply": "2022-04-29T06:45:50.549903Z"
    },
    "papermill": {
     "duration": 0.080021,
     "end_time": "2022-04-29T06:45:50.551542",
     "exception": false,
     "start_time": "2022-04-29T06:45:50.471521",
     "status": "completed"
    },
    "tags": []
   },
   "outputs": [],
   "source": [
    "decile_map = geo.make_mask_from_gpd(decile_map, merged_EEZs, subset=False, insert=True)"
   ]
  },
  {
   "cell_type": "markdown",
   "id": "3c3c38b9-1466-4eb4-bb7f-8ca5a7bcce09",
   "metadata": {
    "papermill": {
     "duration": 0.013251,
     "end_time": "2022-04-29T06:45:50.577689",
     "exception": false,
     "start_time": "2022-04-29T06:45:50.564438",
     "status": "completed"
    },
    "tags": []
   },
   "source": [
    "### quick plot "
   ]
  },
  {
   "cell_type": "code",
   "execution_count": 60,
   "id": "49d2ecaa",
   "metadata": {
    "execution": {
     "iopub.execute_input": "2022-04-29T06:45:50.604899Z",
     "iopub.status.busy": "2022-04-29T06:45:50.604734Z",
     "iopub.status.idle": "2022-04-29T06:45:53.076951Z",
     "shell.execute_reply": "2022-04-29T06:45:53.076503Z"
    },
    "papermill": {
     "duration": 2.48712,
     "end_time": "2022-04-29T06:45:53.077920",
     "exception": false,
     "start_time": "2022-04-29T06:45:50.590800",
     "status": "completed"
    },
    "tags": []
   },
   "outputs": [
    {
     "data": {
      "text/plain": [
       "<matplotlib.collections.QuadMesh at 0x7fd608419640>"
      ]
     },
     "execution_count": 60,
     "metadata": {},
     "output_type": "execute_result"
    },
    {
     "data": {
      "image/png": "[encoded data removed]",
      "text/plain": [
       "<Figure size 432x288 with 2 Axes>"
      ]
     },
     "metadata": {
      "needs_background": "light"
     },
     "output_type": "display_data"
    }
   ],
   "source": [
    "(decile_map['precip'] * decile_map['mask']).plot()"
   ]
  },
  {
   "cell_type": "code",
   "execution_count": 61,
   "id": "d03b184d",
   "metadata": {
    "execution": {
     "iopub.execute_input": "2022-04-29T06:45:53.105208Z",
     "iopub.status.busy": "2022-04-29T06:45:53.105060Z",
     "iopub.status.idle": "2022-04-29T06:45:53.124207Z",
     "shell.execute_reply": "2022-04-29T06:45:53.123712Z"
    },
    "papermill": {
     "duration": 0.034359,
     "end_time": "2022-04-29T06:45:53.125374",
     "exception": false,
     "start_time": "2022-04-29T06:45:53.091015",
     "status": "completed"
    },
    "tags": []
   },
   "outputs": [],
   "source": [
    "month_name = list(month_name)"
   ]
  },
  {
   "cell_type": "code",
   "execution_count": 62,
   "id": "48622fa6",
   "metadata": {
    "execution": {
     "iopub.execute_input": "2022-04-29T06:45:53.152996Z",
     "iopub.status.busy": "2022-04-29T06:45:53.152854Z",
     "iopub.status.idle": "2022-04-29T06:45:53.171037Z",
     "shell.execute_reply": "2022-04-29T06:45:53.170572Z"
    },
    "papermill": {
     "duration": 0.033108,
     "end_time": "2022-04-29T06:45:53.172163",
     "exception": false,
     "start_time": "2022-04-29T06:45:53.139055",
     "status": "completed"
    },
    "tags": []
   },
   "outputs": [],
   "source": [
    "month_name += month_name[1:]"
   ]
  },
  {
   "cell_type": "code",
   "execution_count": 63,
   "id": "86912e97",
   "metadata": {
    "execution": {
     "iopub.execute_input": "2022-04-29T06:45:53.198477Z",
     "iopub.status.busy": "2022-04-29T06:45:53.198333Z",
     "iopub.status.idle": "2022-04-29T06:45:53.216731Z",
     "shell.execute_reply": "2022-04-29T06:45:53.216250Z"
    },
    "papermill": {
     "duration": 0.032899,
     "end_time": "2022-04-29T06:45:53.217842",
     "exception": false,
     "start_time": "2022-04-29T06:45:53.184943",
     "status": "completed"
    },
    "tags": []
   },
   "outputs": [],
   "source": [
    "if period == 'monthly': \n",
    "    label_period = month_name[month + step]\n",
    "elif period == 'seasonal': \n",
    "    label_period = month_name[month + step - 2] + \" - \" + month_name[month + step]"
   ]
  },
  {
   "cell_type": "code",
   "execution_count": 64,
   "id": "c991af60",
   "metadata": {
    "execution": {
     "iopub.execute_input": "2022-04-29T06:45:53.245992Z",
     "iopub.status.busy": "2022-04-29T06:45:53.245806Z",
     "iopub.status.idle": "2022-04-29T06:45:53.266973Z",
     "shell.execute_reply": "2022-04-29T06:45:53.266550Z"
    },
    "papermill": {
     "duration": 0.037297,
     "end_time": "2022-04-29T06:45:53.268069",
     "exception": false,
     "start_time": "2022-04-29T06:45:53.230772",
     "status": "completed"
    },
    "tags": []
   },
   "outputs": [
    {
     "data": {
      "text/plain": [
       "5"
      ]
     },
     "execution_count": 64,
     "metadata": {},
     "output_type": "execute_result"
    }
   ],
   "source": [
    "step"
   ]
  },
  {
   "cell_type": "code",
   "execution_count": 65,
   "id": "a1efe919",
   "metadata": {
    "execution": {
     "iopub.execute_input": "2022-04-29T06:45:53.295452Z",
     "iopub.status.busy": "2022-04-29T06:45:53.295287Z",
     "iopub.status.idle": "2022-04-29T06:45:53.314392Z",
     "shell.execute_reply": "2022-04-29T06:45:53.313951Z"
    },
    "papermill": {
     "duration": 0.034265,
     "end_time": "2022-04-29T06:45:53.315484",
     "exception": false,
     "start_time": "2022-04-29T06:45:53.281219",
     "status": "completed"
    },
    "tags": []
   },
   "outputs": [
    {
     "data": {
      "text/plain": [
       "'July - September'"
      ]
     },
     "execution_count": 65,
     "metadata": {},
     "output_type": "execute_result"
    }
   ],
   "source": [
    "label_period"
   ]
  },
  {
   "cell_type": "code",
   "execution_count": 66,
   "id": "f25be321",
   "metadata": {
    "execution": {
     "iopub.execute_input": "2022-04-29T06:45:53.343518Z",
     "iopub.status.busy": "2022-04-29T06:45:53.343375Z",
     "iopub.status.idle": "2022-04-29T06:46:00.014478Z",
     "shell.execute_reply": "2022-04-29T06:46:00.014132Z"
    },
    "papermill": {
     "duration": 6.686503,
     "end_time": "2022-04-29T06:46:00.015913",
     "exception": false,
     "start_time": "2022-04-29T06:45:53.329410",
     "status": "completed"
    },
    "tags": []
   },
   "outputs": [
    {
     "data": {
      "image/png": "[encoded data removed]",
      "text/plain": [
       "<Figure size 1008x576 with 1 Axes>"
      ]
     },
     "metadata": {
      "needs_background": "light"
     },
     "output_type": "display_data"
    }
   ],
   "source": [
    "f, ax = plt.subplots(subplot_kw=dict(projection=ccrs.PlateCarree(central_longitude=180)), figsize=(14,8))\n",
    "\n",
    "ff = (decile_map['precip'] * decile_map['mask']).plot.contourf(ax=ax, levels=thresholds, cmap=cmap, transform=ccrs.PlateCarree(), add_colorbar=False)\n",
    "\n",
    "ax.coastlines(resolution='10m', lw=0.5)\n",
    "\n",
    "ax.set_title('')\n",
    "\n",
    "cbar_kwargs={'shrink':0.5, 'pad':0.01, 'extend':'neither', 'drawedges':True, 'ticks':ticks, 'aspect':15}\n",
    "\n",
    "cbar_ax = ax.axes.inset_axes([0.9, 0.525, 0.025, 0.38])\n",
    "\n",
    "cb = plt.colorbar(ff, cax=cbar_ax, **cbar_kwargs)\n",
    "\n",
    "cb.ax.minorticks_off()\n",
    "\n",
    "cbar_ax.set_yticklabels(cbar_ticklabels)\n",
    "\n",
    "plot.add_geom(ax, geoms=EEZs)\n",
    "\n",
    "title = f\"Decile precipitation forecast\\n{label_period}\"\n",
    "\n",
    "ax.text(0.99, 0.95, title, fontsize=13, fontdict={'color':'k'}, bbox=dict(facecolor='w', edgecolor='w'), horizontalalignment='right', verticalalignment='center', transform=ax.transAxes)\n",
    "\n",
    "ax.text(0.01, 0.02, u'\\u00A9'+\" NIWA\", transform=ax.transAxes, bbox=dict(facecolor='w', edgecolor='w'), fontdict=dict(color='0.4'))\n",
    "\n",
    "# ax.text(0.99, 0.02, \"(first decile value where cumulative probability reaches 50%)\",transform=ax.transAxes, horizontalalignment='right')\n",
    "\n",
    "ax.set_extent(domain, crs = ccrs.PlateCarree())"
   ]
  },
  {
   "cell_type": "markdown",
   "id": "117edf23-fd48-4927-bd27-006a3c518747",
   "metadata": {
    "papermill": {
     "duration": 0.014837,
     "end_time": "2022-04-29T06:46:00.045442",
     "exception": false,
     "start_time": "2022-04-29T06:46:00.030605",
     "status": "completed"
    },
    "tags": []
   },
   "source": [
    "### save figures to disk "
   ]
  },
  {
   "cell_type": "code",
   "execution_count": 67,
   "id": "ac49ea0e-1626-4729-8ef4-bb3ec3bf81be",
   "metadata": {
    "execution": {
     "iopub.execute_input": "2022-04-29T06:46:00.076822Z",
     "iopub.status.busy": "2022-04-29T06:46:00.076677Z",
     "iopub.status.idle": "2022-04-29T06:46:00.095888Z",
     "shell.execute_reply": "2022-04-29T06:46:00.095406Z"
    },
    "papermill": {
     "duration": 0.036095,
     "end_time": "2022-04-29T06:46:00.096861",
     "exception": false,
     "start_time": "2022-04-29T06:46:00.060766",
     "status": "completed"
    },
    "tags": []
   },
   "outputs": [
    {
     "data": {
      "text/plain": [
       "'decile_forecast_prototype_seasonal_lead3_latest.png'"
      ]
     },
     "execution_count": 67,
     "metadata": {},
     "output_type": "execute_result"
    }
   ],
   "source": [
    "f'decile_forecast_prototype_{period}_lead{lead}_latest.png'"
   ]
  },
  {
   "cell_type": "code",
   "execution_count": 68,
   "id": "9afbebdf",
   "metadata": {
    "execution": {
     "iopub.execute_input": "2022-04-29T06:46:00.127196Z",
     "iopub.status.busy": "2022-04-29T06:46:00.127029Z",
     "iopub.status.idle": "2022-04-29T06:46:00.862148Z",
     "shell.execute_reply": "2022-04-29T06:46:00.861674Z"
    },
    "papermill": {
     "duration": 0.751801,
     "end_time": "2022-04-29T06:46:00.863376",
     "exception": false,
     "start_time": "2022-04-29T06:46:00.111575",
     "status": "completed"
    },
    "tags": []
   },
   "outputs": [],
   "source": [
    "f.savefig(fpath.joinpath(f'decile_forecast_prototype_{period}_{year}_{month:02d}_init_{label_period.replace(\" - \",\"_\")}.png'), dpi=200, facecolor='w', bbox_inches='tight')\n",
    "f.savefig(fpath_web.joinpath(f'decile_forecast_prototype_{period}_lead{lead}_latest.png'), dpi=200, facecolor='w', bbox_inches='tight')"
   ]
  },
  {
   "cell_type": "code",
   "execution_count": null,
   "id": "f8a8964b-d029-4c6d-a027-726a7cf987a9",
   "metadata": {
    "papermill": {
     "duration": 0.015222,
     "end_time": "2022-04-29T06:46:00.893321",
     "exception": false,
     "start_time": "2022-04-29T06:46:00.878099",
     "status": "completed"
    },
    "tags": []
   },
   "outputs": [],
   "source": []
  }
 ],
 "metadata": {
  "interpreter": {
   "hash": "df53d632f991ae6da976d69f0a13fc423563be07cde77240b1fc66d1fa832155"
  },
  "kernelspec": {
   "display_name": "Python 3 (ipykernel)",
   "language": "python",
   "name": "python3"
  },
  "language_info": {
   "codemirror_mode": {
    "name": "ipython",
    "version": 3
   },
   "file_extension": ".py",
   "mimetype": "text/x-python",
   "name": "python",
   "nbconvert_exporter": "python",
   "pygments_lexer": "ipython3",
   "version": "3.9.12"
  },
  "papermill": {
   "default_parameters": {},
   "duration": 39.026467,
   "end_time": "2022-04-29T06:46:01.628691",
   "environment_variables": {},
   "exception": null,
   "input_path": "6_map_C3S_MME_probabilistic_decile_forecast.ipynb",
   "output_path": "6_map_C3S_MME_probabilistic_decile_forecast.ipynb",
   "parameters": {
    "lead": 3,
    "period": "seasonal"
   },
   "start_time": "2022-04-29T06:45:22.602224",
   "version": "2.3.3"
  }
 },
 "nbformat": 4,
 "nbformat_minor": 5
}