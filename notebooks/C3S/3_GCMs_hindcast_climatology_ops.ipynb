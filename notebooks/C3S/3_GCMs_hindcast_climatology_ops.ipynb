{
 "cells": [
  {
   "cell_type": "markdown",
   "id": "dc848a92-0993-4d7a-8b8c-59ee5d5e5564",
   "metadata": {
    "papermill": {
     "duration": 0.028999,
     "end_time": "2022-03-13T22:39:12.553229",
     "exception": false,
     "start_time": "2022-03-13T22:39:12.524230",
     "status": "completed"
    },
    "tags": []
   },
   "source": [
    "# calculate the leadtime-dependent climatological terciles, deciles and percentiles (0.02, then 0.05 to 0.95 with 0.05 step) from the individual GCMs' hindcast dataset (period 1993 - 2016) "
   ]
  },
  {
   "cell_type": "code",
   "execution_count": 36,
   "id": "d9e3e956-31d5-4606-b762-657a128f93dc",
   "metadata": {
    "papermill": {
     "duration": 0.041991,
     "end_time": "2022-03-13T22:39:12.864565",
     "exception": false,
     "start_time": "2022-03-13T22:39:12.822574",
     "status": "completed"
    },
    "tags": []
   },
   "outputs": [
    {
     "name": "stdout",
     "output_type": "stream",
     "text": [
      "The autoreload extension is already loaded. To reload it, use:\n",
      "  %reload_ext autoreload\n"
     ]
    }
   ],
   "source": [
    "%load_ext autoreload\n",
    "%autoreload 2"
   ]
  },
  {
   "cell_type": "code",
   "execution_count": 37,
   "id": "ec7c9f73-b771-4191-9c46-eb9e2ca266ad",
   "metadata": {
    "papermill": {
     "duration": 1.799035,
     "end_time": "2022-03-13T22:39:14.692721",
     "exception": false,
     "start_time": "2022-03-13T22:39:12.893686",
     "status": "completed"
    },
    "tags": []
   },
   "outputs": [],
   "source": [
    "%matplotlib inline\n",
    "\n",
    "### os\n",
    "import os\n",
    "import sys\n",
    "from collections import OrderedDict\n",
    "\n",
    "### datetimes\n",
    "from datetime import datetime, timedelta\n",
    "from dateutil.relativedelta import relativedelta\n",
    "from calendar import month_name\n",
    "\n",
    "\n",
    "### scipy\n",
    "import numpy as np\n",
    "import pandas as pd\n",
    "import xarray as xr\n",
    "import geopandas as gpd\n",
    "import cartopy.crs as ccrs\n",
    "import dask\n",
    "from dask.diagnostics import ProgressBar\n",
    "from tqdm import tqdm\n",
    "\n",
    "### plotting\n",
    "from matplotlib import pyplot as plt\n",
    "import matplotlib\n",
    "import seaborn as sns\n"
   ]
  },
  {
   "cell_type": "code",
   "execution_count": 38,
   "id": "0cab9771-20cf-4302-9c84-97580f01d934",
   "metadata": {
    "papermill": {
     "duration": 0.0485,
     "end_time": "2022-03-13T22:39:14.771934",
     "exception": false,
     "start_time": "2022-03-13T22:39:14.723434",
     "status": "completed"
    },
    "tags": []
   },
   "outputs": [],
   "source": [
    "import pathlib\n",
    "\n",
    "HOME = pathlib.Path.home()\n",
    "CWD = pathlib.Path.cwd() "
   ]
  },
  {
   "cell_type": "code",
   "execution_count": 39,
   "id": "03b5d899-37d8-48b0-b161-3b5a67d2e116",
   "metadata": {
    "papermill": {
     "duration": 0.046396,
     "end_time": "2022-03-13T22:39:14.847548",
     "exception": false,
     "start_time": "2022-03-13T22:39:14.801152",
     "status": "completed"
    },
    "tags": []
   },
   "outputs": [],
   "source": [
    "sys.path.append('../../') "
   ]
  },
  {
   "cell_type": "code",
   "execution_count": 40,
   "id": "d986433d-94b5-41de-b90e-ff762bdcb9c4",
   "metadata": {
    "papermill": {
     "duration": 13.265402,
     "end_time": "2022-03-13T22:39:28.142700",
     "exception": false,
     "start_time": "2022-03-13T22:39:14.877298",
     "status": "completed"
    },
    "tags": []
   },
   "outputs": [],
   "source": [
    "from ICU_Water_Watch import geo, C3S, domains, plot"
   ]
  },
  {
   "cell_type": "markdown",
   "id": "949050d4-1717-4ddd-85da-23dc1cb372a5",
   "metadata": {},
   "source": [
    "### parameters for papermill"
   ]
  },
  {
   "cell_type": "code",
   "execution_count": 41,
   "id": "86e1d7f7-b974-425c-b22d-34a9acc90b16",
   "metadata": {
    "tags": [
     "parameters"
    ]
   },
   "outputs": [],
   "source": [
    "provider = 'CDS' # should not change\n",
    "GCM = 'ECMWF' # should be in ['ECMWF','UKMO','METEO_FRANCE','CMCC','DWD', 'NCEP', 'JMA', 'ECCC_CanCM4i', 'ECCC_GEM_NEMO']\n",
    "var_name = 'tprate' # should not change\n",
    "period = 'seasonal' # valid values: 'seasonal or 'monthly'\n",
    "# if one wants to process older forecasts \n",
    "lag = 0\n",
    "# path where to find the hindcasts / reforecasts\n",
    "gcm_path = f'/media/nicolasf/END19101/ICU/data/{provider}/operational/hindcasts'"
   ]
  },
  {
   "cell_type": "markdown",
   "id": "ea904f40-803b-439c-ade7-bda5bed7ac2e",
   "metadata": {
    "papermill": {
     "duration": 0.033554,
     "end_time": "2022-03-13T22:39:28.207746",
     "exception": false,
     "start_time": "2022-03-13T22:39:28.174192",
     "status": "completed"
    },
    "tags": []
   },
   "source": [
    "### dictionnary holding quantile name and quantile values, they are passed as **lists** to avoid any numerical issues "
   ]
  },
  {
   "cell_type": "code",
   "execution_count": 42,
   "id": "6ccb7b07-f062-4ea7-9f0a-58dd9b082bba",
   "metadata": {
    "papermill": {
     "duration": 0.050216,
     "end_time": "2022-03-13T22:39:28.290057",
     "exception": false,
     "start_time": "2022-03-13T22:39:28.239841",
     "status": "completed"
    },
    "tags": []
   },
   "outputs": [],
   "source": [
    "dict_quantiles = OrderedDict()\n",
    "dict_quantiles['tercile'] = [0.3333, 0.6666]\n",
    "dict_quantiles['decile'] = [0.1, 0.2, 0.3, 0.4, 0.5, 0.6, 0.7, 0.8, 0.9]\n",
    "dict_quantiles['quartile'] = [0.25, 0.50, 0.75]\n",
    "dict_quantiles['percentile'] = [0.02, 0.05, 0.1 , 0.15, 0.2 , 0.25, 0.3 , 0.35, 0.4 , 0.45, 0.5 , 0.55, 0.6 , 0.65, 0.7 , 0.75, 0.8 , 0.85, 0.9 , 0.95] "
   ]
  },
  {
   "cell_type": "markdown",
   "id": "1ab179b7-6509-448c-8d32-423a1f9941a2",
   "metadata": {
    "papermill": {
     "duration": 0.030287,
     "end_time": "2022-03-13T22:39:28.995314",
     "exception": false,
     "start_time": "2022-03-13T22:39:28.965027",
     "status": "completed"
    },
    "tags": []
   },
   "source": [
    "### get today's date "
   ]
  },
  {
   "cell_type": "code",
   "execution_count": 43,
   "id": "5b4d2bc9-000e-45d5-883e-d95e95f2bfa8",
   "metadata": {
    "papermill": {
     "duration": 0.047601,
     "end_time": "2022-03-13T22:39:29.071426",
     "exception": false,
     "start_time": "2022-03-13T22:39:29.023825",
     "status": "completed"
    },
    "tags": []
   },
   "outputs": [],
   "source": [
    "date = datetime.utcnow()"
   ]
  },
  {
   "cell_type": "markdown",
   "id": "553b1099-d8dd-40a4-85ff-3a670669f110",
   "metadata": {
    "papermill": {
     "duration": 0.02978,
     "end_time": "2022-03-13T22:39:29.130964",
     "exception": false,
     "start_time": "2022-03-13T22:39:29.101184",
     "status": "completed"
    },
    "tags": []
   },
   "source": [
    "### apply lag "
   ]
  },
  {
   "cell_type": "code",
   "execution_count": 44,
   "id": "5703429a-ab0d-499f-85c8-e661019d0219",
   "metadata": {
    "papermill": {
     "duration": 0.048949,
     "end_time": "2022-03-13T22:39:29.208996",
     "exception": false,
     "start_time": "2022-03-13T22:39:29.160047",
     "status": "completed"
    },
    "tags": []
   },
   "outputs": [],
   "source": [
    "date = date - relativedelta(months=lag)"
   ]
  },
  {
   "cell_type": "code",
   "execution_count": 45,
   "id": "d8517c79-5453-44f1-ac83-112641f3badd",
   "metadata": {
    "papermill": {
     "duration": 0.049362,
     "end_time": "2022-03-13T22:39:29.288091",
     "exception": false,
     "start_time": "2022-03-13T22:39:29.238729",
     "status": "completed"
    },
    "tags": []
   },
   "outputs": [
    {
     "name": "stdout",
     "output_type": "stream",
     "text": [
      "will process hindcasts for March\n"
     ]
    }
   ],
   "source": [
    "print(f\"will process hindcasts for {date:%B}\")"
   ]
  },
  {
   "cell_type": "code",
   "execution_count": 46,
   "id": "a4016628-87a1-42ad-9b5a-748449057c83",
   "metadata": {
    "papermill": {
     "duration": 0.050978,
     "end_time": "2022-03-13T22:39:29.368002",
     "exception": false,
     "start_time": "2022-03-13T22:39:29.317024",
     "status": "completed"
    },
    "tags": []
   },
   "outputs": [],
   "source": [
    "initial_month = date.month"
   ]
  },
  {
   "cell_type": "markdown",
   "id": "e50a87c7-b682-47e8-a894-0ce0910b7065",
   "metadata": {
    "papermill": {
     "duration": 0.030971,
     "end_time": "2022-03-13T22:39:29.931287",
     "exception": false,
     "start_time": "2022-03-13T22:39:29.900316",
     "status": "completed"
    },
    "tags": []
   },
   "source": [
    "#### where to save the climatologies "
   ]
  },
  {
   "cell_type": "code",
   "execution_count": 49,
   "id": "3ab2d527-8a2a-40ec-b687-22bf27609308",
   "metadata": {},
   "outputs": [],
   "source": [
    "gcm_path = pathlib.Path(gcm_path)"
   ]
  },
  {
   "cell_type": "code",
   "execution_count": 50,
   "id": "8ddb62da-ad1c-4b79-9b3b-29146d810b7d",
   "metadata": {},
   "outputs": [],
   "source": [
    "dpath = gcm_path.joinpath(GCM).joinpath(var_name.upper())"
   ]
  },
  {
   "cell_type": "code",
   "execution_count": 51,
   "id": "679005be-3f9c-4f2a-83de-7768c5b917d4",
   "metadata": {
    "papermill": {
     "duration": 0.051614,
     "end_time": "2022-03-13T22:39:30.017234",
     "exception": false,
     "start_time": "2022-03-13T22:39:29.965620",
     "status": "completed"
    },
    "tags": []
   },
   "outputs": [],
   "source": [
    "clim_path = gcm_path.joinpath(f'CLIMATOLOGY/{GCM}')"
   ]
  },
  {
   "cell_type": "code",
   "execution_count": 52,
   "id": "a2f7f1dc-078f-4de8-90d5-6f3537a1cb0d",
   "metadata": {
    "papermill": {
     "duration": 0.052088,
     "end_time": "2022-03-13T22:39:30.099799",
     "exception": false,
     "start_time": "2022-03-13T22:39:30.047711",
     "status": "completed"
    },
    "tags": []
   },
   "outputs": [
    {
     "data": {
      "text/plain": [
       "PosixPath('/media/nicolasf/END19101/ICU/data/CDS/operational/hindcasts/CLIMATOLOGY/ECMWF')"
      ]
     },
     "execution_count": 52,
     "metadata": {},
     "output_type": "execute_result"
    }
   ],
   "source": [
    "clim_path"
   ]
  },
  {
   "cell_type": "code",
   "execution_count": 53,
   "id": "0694a8c7-3ddd-42e6-a4bb-2693457b3a01",
   "metadata": {
    "papermill": {
     "duration": 0.055259,
     "end_time": "2022-03-13T22:39:30.186872",
     "exception": false,
     "start_time": "2022-03-13T22:39:30.131613",
     "status": "completed"
    },
    "tags": []
   },
   "outputs": [],
   "source": [
    "if not clim_path.exists(): \n",
    "    \n",
    "    clim_path.mkdir(parents=True)"
   ]
  },
  {
   "cell_type": "markdown",
   "id": "d47e42f3-1647-4f1b-866f-501481e2dfab",
   "metadata": {
    "papermill": {
     "duration": 0.030197,
     "end_time": "2022-03-13T22:39:30.247963",
     "exception": false,
     "start_time": "2022-03-13T22:39:30.217766",
     "status": "completed"
    },
    "tags": []
   },
   "source": [
    "### get the list of files "
   ]
  },
  {
   "cell_type": "code",
   "execution_count": 54,
   "id": "56cb44c4-ab7d-4786-b4f1-1e5b73b7015d",
   "metadata": {
    "papermill": {
     "duration": 0.053111,
     "end_time": "2022-03-13T22:39:30.331416",
     "exception": false,
     "start_time": "2022-03-13T22:39:30.278305",
     "status": "completed"
    },
    "tags": []
   },
   "outputs": [],
   "source": [
    "if 'ECCC' in GCM: \n",
    "    lfiles = list(dpath.glob(f\"ensemble_seas_forecasts_{var_name}_from_*_{initial_month:02d}_{GCM.split('_')[0]}.netcdf\"))\n",
    "else: \n",
    "    lfiles = list(dpath.glob(f\"ensemble_seas_forecasts_{var_name}_from_*_{initial_month:02d}_{GCM}.netcdf\"))"
   ]
  },
  {
   "cell_type": "code",
   "execution_count": 55,
   "id": "a1e49b09-ad9d-4881-b396-a41abccb3857",
   "metadata": {
    "papermill": {
     "duration": 0.053082,
     "end_time": "2022-03-13T22:39:30.503206",
     "exception": false,
     "start_time": "2022-03-13T22:39:30.450124",
     "status": "completed"
    },
    "tags": []
   },
   "outputs": [],
   "source": [
    "lfiles.sort()"
   ]
  },
  {
   "cell_type": "code",
   "execution_count": 56,
   "id": "83bb26ed-7f6c-4d0f-b2b8-b66217829ec5",
   "metadata": {
    "papermill": {
     "duration": 0.055086,
     "end_time": "2022-03-13T22:39:30.589078",
     "exception": false,
     "start_time": "2022-03-13T22:39:30.533992",
     "status": "completed"
    },
    "tags": []
   },
   "outputs": [
    {
     "data": {
      "text/plain": [
       "[PosixPath('/media/nicolasf/END19101/ICU/data/CDS/operational/hindcasts/ECMWF/TPRATE/ensemble_seas_forecasts_tprate_from_1993_03_ECMWF.netcdf'),\n",
       " PosixPath('/media/nicolasf/END19101/ICU/data/CDS/operational/hindcasts/ECMWF/TPRATE/ensemble_seas_forecasts_tprate_from_1994_03_ECMWF.netcdf'),\n",
       " PosixPath('/media/nicolasf/END19101/ICU/data/CDS/operational/hindcasts/ECMWF/TPRATE/ensemble_seas_forecasts_tprate_from_1995_03_ECMWF.netcdf'),\n",
       " PosixPath('/media/nicolasf/END19101/ICU/data/CDS/operational/hindcasts/ECMWF/TPRATE/ensemble_seas_forecasts_tprate_from_1996_03_ECMWF.netcdf'),\n",
       " PosixPath('/media/nicolasf/END19101/ICU/data/CDS/operational/hindcasts/ECMWF/TPRATE/ensemble_seas_forecasts_tprate_from_1997_03_ECMWF.netcdf'),\n",
       " PosixPath('/media/nicolasf/END19101/ICU/data/CDS/operational/hindcasts/ECMWF/TPRATE/ensemble_seas_forecasts_tprate_from_1998_03_ECMWF.netcdf'),\n",
       " PosixPath('/media/nicolasf/END19101/ICU/data/CDS/operational/hindcasts/ECMWF/TPRATE/ensemble_seas_forecasts_tprate_from_1999_03_ECMWF.netcdf'),\n",
       " PosixPath('/media/nicolasf/END19101/ICU/data/CDS/operational/hindcasts/ECMWF/TPRATE/ensemble_seas_forecasts_tprate_from_2000_03_ECMWF.netcdf'),\n",
       " PosixPath('/media/nicolasf/END19101/ICU/data/CDS/operational/hindcasts/ECMWF/TPRATE/ensemble_seas_forecasts_tprate_from_2001_03_ECMWF.netcdf'),\n",
       " PosixPath('/media/nicolasf/END19101/ICU/data/CDS/operational/hindcasts/ECMWF/TPRATE/ensemble_seas_forecasts_tprate_from_2002_03_ECMWF.netcdf'),\n",
       " PosixPath('/media/nicolasf/END19101/ICU/data/CDS/operational/hindcasts/ECMWF/TPRATE/ensemble_seas_forecasts_tprate_from_2003_03_ECMWF.netcdf'),\n",
       " PosixPath('/media/nicolasf/END19101/ICU/data/CDS/operational/hindcasts/ECMWF/TPRATE/ensemble_seas_forecasts_tprate_from_2004_03_ECMWF.netcdf'),\n",
       " PosixPath('/media/nicolasf/END19101/ICU/data/CDS/operational/hindcasts/ECMWF/TPRATE/ensemble_seas_forecasts_tprate_from_2005_03_ECMWF.netcdf'),\n",
       " PosixPath('/media/nicolasf/END19101/ICU/data/CDS/operational/hindcasts/ECMWF/TPRATE/ensemble_seas_forecasts_tprate_from_2006_03_ECMWF.netcdf'),\n",
       " PosixPath('/media/nicolasf/END19101/ICU/data/CDS/operational/hindcasts/ECMWF/TPRATE/ensemble_seas_forecasts_tprate_from_2007_03_ECMWF.netcdf'),\n",
       " PosixPath('/media/nicolasf/END19101/ICU/data/CDS/operational/hindcasts/ECMWF/TPRATE/ensemble_seas_forecasts_tprate_from_2008_03_ECMWF.netcdf'),\n",
       " PosixPath('/media/nicolasf/END19101/ICU/data/CDS/operational/hindcasts/ECMWF/TPRATE/ensemble_seas_forecasts_tprate_from_2009_03_ECMWF.netcdf'),\n",
       " PosixPath('/media/nicolasf/END19101/ICU/data/CDS/operational/hindcasts/ECMWF/TPRATE/ensemble_seas_forecasts_tprate_from_2010_03_ECMWF.netcdf'),\n",
       " PosixPath('/media/nicolasf/END19101/ICU/data/CDS/operational/hindcasts/ECMWF/TPRATE/ensemble_seas_forecasts_tprate_from_2011_03_ECMWF.netcdf'),\n",
       " PosixPath('/media/nicolasf/END19101/ICU/data/CDS/operational/hindcasts/ECMWF/TPRATE/ensemble_seas_forecasts_tprate_from_2012_03_ECMWF.netcdf'),\n",
       " PosixPath('/media/nicolasf/END19101/ICU/data/CDS/operational/hindcasts/ECMWF/TPRATE/ensemble_seas_forecasts_tprate_from_2013_03_ECMWF.netcdf'),\n",
       " PosixPath('/media/nicolasf/END19101/ICU/data/CDS/operational/hindcasts/ECMWF/TPRATE/ensemble_seas_forecasts_tprate_from_2014_03_ECMWF.netcdf'),\n",
       " PosixPath('/media/nicolasf/END19101/ICU/data/CDS/operational/hindcasts/ECMWF/TPRATE/ensemble_seas_forecasts_tprate_from_2015_03_ECMWF.netcdf'),\n",
       " PosixPath('/media/nicolasf/END19101/ICU/data/CDS/operational/hindcasts/ECMWF/TPRATE/ensemble_seas_forecasts_tprate_from_2016_03_ECMWF.netcdf')]"
      ]
     },
     "execution_count": 56,
     "metadata": {},
     "output_type": "execute_result"
    }
   ],
   "source": [
    "lfiles"
   ]
  },
  {
   "cell_type": "code",
   "execution_count": 57,
   "id": "0ea663ad-65eb-4523-af55-34cec14aee5c",
   "metadata": {
    "papermill": {
     "duration": 0.065696,
     "end_time": "2022-03-13T22:39:30.693070",
     "exception": false,
     "start_time": "2022-03-13T22:39:30.627374",
     "status": "completed"
    },
    "tags": []
   },
   "outputs": [
    {
     "data": {
      "text/plain": [
       "PosixPath('/media/nicolasf/END19101/ICU/data/CDS/operational/hindcasts/ECMWF/TPRATE/ensemble_seas_forecasts_tprate_from_1993_03_ECMWF.netcdf')"
      ]
     },
     "execution_count": 57,
     "metadata": {},
     "output_type": "execute_result"
    }
   ],
   "source": [
    "lfiles[0]"
   ]
  },
  {
   "cell_type": "code",
   "execution_count": 58,
   "id": "f05cb729-d357-4ffc-a0d7-f05e84c4edb3",
   "metadata": {
    "papermill": {
     "duration": 0.063608,
     "end_time": "2022-03-13T22:39:30.788549",
     "exception": false,
     "start_time": "2022-03-13T22:39:30.724941",
     "status": "completed"
    },
    "tags": []
   },
   "outputs": [
    {
     "data": {
      "text/plain": [
       "PosixPath('/media/nicolasf/END19101/ICU/data/CDS/operational/hindcasts/ECMWF/TPRATE/ensemble_seas_forecasts_tprate_from_2016_03_ECMWF.netcdf')"
      ]
     },
     "execution_count": 58,
     "metadata": {},
     "output_type": "execute_result"
    }
   ],
   "source": [
    "lfiles[-1]"
   ]
  },
  {
   "cell_type": "code",
   "execution_count": 59,
   "id": "9f8ec547-7d72-4cf7-ac6a-ef68a1013548",
   "metadata": {
    "papermill": {
     "duration": 0.053201,
     "end_time": "2022-03-13T22:39:30.873987",
     "exception": false,
     "start_time": "2022-03-13T22:39:30.820786",
     "status": "completed"
    },
    "tags": []
   },
   "outputs": [
    {
     "data": {
      "text/plain": [
       "24"
      ]
     },
     "execution_count": 59,
     "metadata": {},
     "output_type": "execute_result"
    }
   ],
   "source": [
    "len(lfiles)"
   ]
  },
  {
   "cell_type": "markdown",
   "id": "a2e165d4-9d23-469b-9085-3aa4f0280eac",
   "metadata": {
    "papermill": {
     "duration": 0.031755,
     "end_time": "2022-03-13T22:39:30.937720",
     "exception": false,
     "start_time": "2022-03-13T22:39:30.905965",
     "status": "completed"
    },
    "tags": []
   },
   "source": [
    "### open the multiple files dataset, concatenating over the time dimension, and preprocessing "
   ]
  },
  {
   "cell_type": "code",
   "execution_count": 60,
   "id": "4c877a5a-60b4-44f0-8b3f-e9e1205f20d3",
   "metadata": {
    "papermill": {
     "duration": 1.008054,
     "end_time": "2022-03-13T22:39:31.980797",
     "exception": false,
     "start_time": "2022-03-13T22:39:30.972743",
     "status": "completed"
    },
    "tags": []
   },
   "outputs": [],
   "source": [
    "dset = xr.open_mfdataset(lfiles, preprocess=C3S.preprocess_GCM, parallel=True, engine='netcdf4')"
   ]
  },
  {
   "cell_type": "code",
   "execution_count": 61,
   "id": "b7afaa16-4579-4ce1-8c9e-aa2da451b518",
   "metadata": {
    "papermill": {
     "duration": 0.072695,
     "end_time": "2022-03-13T22:39:32.090834",
     "exception": false,
     "start_time": "2022-03-13T22:39:32.018139",
     "status": "completed"
    },
    "tags": []
   },
   "outputs": [
    {
     "data": {
      "text/html": [
       "<div><svg style=\"position: absolute; width: 0; height: 0; overflow: hidden\">\n",
       "<defs>\n",
       "<symbol id=\"icon-database\" viewBox=\"0 0 32 32\">\n",
       "<path d=\"M16 0c-8.837 0-16 2.239-16 5v4c0 2.761 7.163 5 16 5s16-2.239 16-5v-4c0-2.761-7.163-5-16-5z\"></path>\n",
       "<path d=\"M16 17c-8.837 0-16-2.239-16-5v6c0 2.761 7.163 5 16 5s16-2.239 16-5v-6c0 2.761-7.163 5-16 5z\"></path>\n",
       "<path d=\"M16 26c-8.837 0-16-2.239-16-5v6c0 2.761 7.163 5 16 5s16-2.239 16-5v-6c0 2.761-7.163 5-16 5z\"></path>\n",
       "</symbol>\n",
       "<symbol id=\"icon-file-text2\" viewBox=\"0 0 32 32\">\n",
       "<path d=\"M28.681 7.159c-0.694-0.947-1.662-2.053-2.724-3.116s-2.169-2.030-3.116-2.724c-1.612-1.182-2.393-1.319-2.841-1.319h-15.5c-1.378 0-2.5 1.121-2.5 2.5v27c0 1.378 1.122 2.5 2.5 2.5h23c1.378 0 2.5-1.122 2.5-2.5v-19.5c0-0.448-0.137-1.23-1.319-2.841zM24.543 5.457c0.959 0.959 1.712 1.825 2.268 2.543h-4.811v-4.811c0.718 0.556 1.584 1.309 2.543 2.268zM28 29.5c0 0.271-0.229 0.5-0.5 0.5h-23c-0.271 0-0.5-0.229-0.5-0.5v-27c0-0.271 0.229-0.5 0.5-0.5 0 0 15.499-0 15.5 0v7c0 0.552 0.448 1 1 1h7v19.5z\"></path>\n",
       "<path d=\"M23 26h-14c-0.552 0-1-0.448-1-1s0.448-1 1-1h14c0.552 0 1 0.448 1 1s-0.448 1-1 1z\"></path>\n",
       "<path d=\"M23 22h-14c-0.552 0-1-0.448-1-1s0.448-1 1-1h14c0.552 0 1 0.448 1 1s-0.448 1-1 1z\"></path>\n",
       "<path d=\"M23 18h-14c-0.552 0-1-0.448-1-1s0.448-1 1-1h14c0.552 0 1 0.448 1 1s-0.448 1-1 1z\"></path>\n",
       "</symbol>\n",
       "</defs>\n",
       "</svg>\n",
       "<style>/* CSS stylesheet for displaying xarray objects in jupyterlab.\n",
       " *\n",
       " */\n",
       "\n",
       ":root {\n",
       "  --xr-font-color0: var(--jp-content-font-color0, rgba(0, 0, 0, 1));\n",
       "  --xr-font-color2: var(--jp-content-font-color2, rgba(0, 0, 0, 0.54));\n",
       "  --xr-font-color3: var(--jp-content-font-color3, rgba(0, 0, 0, 0.38));\n",
       "  --xr-border-color: var(--jp-border-color2, #e0e0e0);\n",
       "  --xr-disabled-color: var(--jp-layout-color3, #bdbdbd);\n",
       "  --xr-background-color: var(--jp-layout-color0, white);\n",
       "  --xr-background-color-row-even: var(--jp-layout-color1, white);\n",
       "  --xr-background-color-row-odd: var(--jp-layout-color2, #eeeeee);\n",
       "}\n",
       "\n",
       "html[theme=dark],\n",
       "body.vscode-dark {\n",
       "  --xr-font-color0: rgba(255, 255, 255, 1);\n",
       "  --xr-font-color2: rgba(255, 255, 255, 0.54);\n",
       "  --xr-font-color3: rgba(255, 255, 255, 0.38);\n",
       "  --xr-border-color: #1F1F1F;\n",
       "  --xr-disabled-color: #515151;\n",
       "  --xr-background-color: #111111;\n",
       "  --xr-background-color-row-even: #111111;\n",
       "  --xr-background-color-row-odd: #313131;\n",
       "}\n",
       "\n",
       ".xr-wrap {\n",
       "  display: block !important;\n",
       "  min-width: 300px;\n",
       "  max-width: 700px;\n",
       "}\n",
       "\n",
       ".xr-text-repr-fallback {\n",
       "  /* fallback to plain text repr when CSS is not injected (untrusted notebook) */\n",
       "  display: none;\n",
       "}\n",
       "\n",
       ".xr-header {\n",
       "  padding-top: 6px;\n",
       "  padding-bottom: 6px;\n",
       "  margin-bottom: 4px;\n",
       "  border-bottom: solid 1px var(--xr-border-color);\n",
       "}\n",
       "\n",
       ".xr-header > div,\n",
       ".xr-header > ul {\n",
       "  display: inline;\n",
       "  margin-top: 0;\n",
       "  margin-bottom: 0;\n",
       "}\n",
       "\n",
       ".xr-obj-type,\n",
       ".xr-array-name {\n",
       "  margin-left: 2px;\n",
       "  margin-right: 10px;\n",
       "}\n",
       "\n",
       ".xr-obj-type {\n",
       "  color: var(--xr-font-color2);\n",
       "}\n",
       "\n",
       ".xr-sections {\n",
       "  padding-left: 0 !important;\n",
       "  display: grid;\n",
       "  grid-template-columns: 150px auto auto 1fr 20px 20px;\n",
       "}\n",
       "\n",
       ".xr-section-item {\n",
       "  display: contents;\n",
       "}\n",
       "\n",
       ".xr-section-item input {\n",
       "  display: none;\n",
       "}\n",
       "\n",
       ".xr-section-item input + label {\n",
       "  color: var(--xr-disabled-color);\n",
       "}\n",
       "\n",
       ".xr-section-item input:enabled + label {\n",
       "  cursor: pointer;\n",
       "  color: var(--xr-font-color2);\n",
       "}\n",
       "\n",
       ".xr-section-item input:enabled + label:hover {\n",
       "  color: var(--xr-font-color0);\n",
       "}\n",
       "\n",
       ".xr-section-summary {\n",
       "  grid-column: 1;\n",
       "  color: var(--xr-font-color2);\n",
       "  font-weight: 500;\n",
       "}\n",
       "\n",
       ".xr-section-summary > span {\n",
       "  display: inline-block;\n",
       "  padding-left: 0.5em;\n",
       "}\n",
       "\n",
       ".xr-section-summary-in:disabled + label {\n",
       "  color: var(--xr-font-color2);\n",
       "}\n",
       "\n",
       ".xr-section-summary-in + label:before {\n",
       "  display: inline-block;\n",
       "  content: '►';\n",
       "  font-size: 11px;\n",
       "  width: 15px;\n",
       "  text-align: center;\n",
       "}\n",
       "\n",
       ".xr-section-summary-in:disabled + label:before {\n",
       "  color: var(--xr-disabled-color);\n",
       "}\n",
       "\n",
       ".xr-section-summary-in:checked + label:before {\n",
       "  content: '▼';\n",
       "}\n",
       "\n",
       ".xr-section-summary-in:checked + label > span {\n",
       "  display: none;\n",
       "}\n",
       "\n",
       ".xr-section-summary,\n",
       ".xr-section-inline-details {\n",
       "  padding-top: 4px;\n",
       "  padding-bottom: 4px;\n",
       "}\n",
       "\n",
       ".xr-section-inline-details {\n",
       "  grid-column: 2 / -1;\n",
       "}\n",
       "\n",
       ".xr-section-details {\n",
       "  display: none;\n",
       "  grid-column: 1 / -1;\n",
       "  margin-bottom: 5px;\n",
       "}\n",
       "\n",
       ".xr-section-summary-in:checked ~ .xr-section-details {\n",
       "  display: contents;\n",
       "}\n",
       "\n",
       ".xr-array-wrap {\n",
       "  grid-column: 1 / -1;\n",
       "  display: grid;\n",
       "  grid-template-columns: 20px auto;\n",
       "}\n",
       "\n",
       ".xr-array-wrap > label {\n",
       "  grid-column: 1;\n",
       "  vertical-align: top;\n",
       "}\n",
       "\n",
       ".xr-preview {\n",
       "  color: var(--xr-font-color3);\n",
       "}\n",
       "\n",
       ".xr-array-preview,\n",
       ".xr-array-data {\n",
       "  padding: 0 5px !important;\n",
       "  grid-column: 2;\n",
       "}\n",
       "\n",
       ".xr-array-data,\n",
       ".xr-array-in:checked ~ .xr-array-preview {\n",
       "  display: none;\n",
       "}\n",
       "\n",
       ".xr-array-in:checked ~ .xr-array-data,\n",
       ".xr-array-preview {\n",
       "  display: inline-block;\n",
       "}\n",
       "\n",
       ".xr-dim-list {\n",
       "  display: inline-block !important;\n",
       "  list-style: none;\n",
       "  padding: 0 !important;\n",
       "  margin: 0;\n",
       "}\n",
       "\n",
       ".xr-dim-list li {\n",
       "  display: inline-block;\n",
       "  padding: 0;\n",
       "  margin: 0;\n",
       "}\n",
       "\n",
       ".xr-dim-list:before {\n",
       "  content: '(';\n",
       "}\n",
       "\n",
       ".xr-dim-list:after {\n",
       "  content: ')';\n",
       "}\n",
       "\n",
       ".xr-dim-list li:not(:last-child):after {\n",
       "  content: ',';\n",
       "  padding-right: 5px;\n",
       "}\n",
       "\n",
       ".xr-has-index {\n",
       "  font-weight: bold;\n",
       "}\n",
       "\n",
       ".xr-var-list,\n",
       ".xr-var-item {\n",
       "  display: contents;\n",
       "}\n",
       "\n",
       ".xr-var-item > div,\n",
       ".xr-var-item label,\n",
       ".xr-var-item > .xr-var-name span {\n",
       "  background-color: var(--xr-background-color-row-even);\n",
       "  margin-bottom: 0;\n",
       "}\n",
       "\n",
       ".xr-var-item > .xr-var-name:hover span {\n",
       "  padding-right: 5px;\n",
       "}\n",
       "\n",
       ".xr-var-list > li:nth-child(odd) > div,\n",
       ".xr-var-list > li:nth-child(odd) > label,\n",
       ".xr-var-list > li:nth-child(odd) > .xr-var-name span {\n",
       "  background-color: var(--xr-background-color-row-odd);\n",
       "}\n",
       "\n",
       ".xr-var-name {\n",
       "  grid-column: 1;\n",
       "}\n",
       "\n",
       ".xr-var-dims {\n",
       "  grid-column: 2;\n",
       "}\n",
       "\n",
       ".xr-var-dtype {\n",
       "  grid-column: 3;\n",
       "  text-align: right;\n",
       "  color: var(--xr-font-color2);\n",
       "}\n",
       "\n",
       ".xr-var-preview {\n",
       "  grid-column: 4;\n",
       "}\n",
       "\n",
       ".xr-var-name,\n",
       ".xr-var-dims,\n",
       ".xr-var-dtype,\n",
       ".xr-preview,\n",
       ".xr-attrs dt {\n",
       "  white-space: nowrap;\n",
       "  overflow: hidden;\n",
       "  text-overflow: ellipsis;\n",
       "  padding-right: 10px;\n",
       "}\n",
       "\n",
       ".xr-var-name:hover,\n",
       ".xr-var-dims:hover,\n",
       ".xr-var-dtype:hover,\n",
       ".xr-attrs dt:hover {\n",
       "  overflow: visible;\n",
       "  width: auto;\n",
       "  z-index: 1;\n",
       "}\n",
       "\n",
       ".xr-var-attrs,\n",
       ".xr-var-data {\n",
       "  display: none;\n",
       "  background-color: var(--xr-background-color) !important;\n",
       "  padding-bottom: 5px !important;\n",
       "}\n",
       "\n",
       ".xr-var-attrs-in:checked ~ .xr-var-attrs,\n",
       ".xr-var-data-in:checked ~ .xr-var-data {\n",
       "  display: block;\n",
       "}\n",
       "\n",
       ".xr-var-data > table {\n",
       "  float: right;\n",
       "}\n",
       "\n",
       ".xr-var-name span,\n",
       ".xr-var-data,\n",
       ".xr-attrs {\n",
       "  padding-left: 25px !important;\n",
       "}\n",
       "\n",
       ".xr-attrs,\n",
       ".xr-var-attrs,\n",
       ".xr-var-data {\n",
       "  grid-column: 1 / -1;\n",
       "}\n",
       "\n",
       "dl.xr-attrs {\n",
       "  padding: 0;\n",
       "  margin: 0;\n",
       "  display: grid;\n",
       "  grid-template-columns: 125px auto;\n",
       "}\n",
       "\n",
       ".xr-attrs dt,\n",
       ".xr-attrs dd {\n",
       "  padding: 0;\n",
       "  margin: 0;\n",
       "  float: left;\n",
       "  padding-right: 10px;\n",
       "  width: auto;\n",
       "}\n",
       "\n",
       ".xr-attrs dt {\n",
       "  font-weight: normal;\n",
       "  grid-column: 1;\n",
       "}\n",
       "\n",
       ".xr-attrs dt:hover span {\n",
       "  display: inline-block;\n",
       "  background: var(--xr-background-color);\n",
       "  padding-right: 10px;\n",
       "}\n",
       "\n",
       ".xr-attrs dd {\n",
       "  grid-column: 2;\n",
       "  white-space: pre-wrap;\n",
       "  word-break: break-all;\n",
       "}\n",
       "\n",
       ".xr-icon-database,\n",
       ".xr-icon-file-text2 {\n",
       "  display: inline-block;\n",
       "  vertical-align: middle;\n",
       "  width: 1em;\n",
       "  height: 1.5em !important;\n",
       "  stroke-width: 0;\n",
       "  stroke: currentColor;\n",
       "  fill: currentColor;\n",
       "}\n",
       "</style><pre class='xr-text-repr-fallback'>&lt;xarray.Dataset&gt;\n",
       "Dimensions:  (time: 24, lon: 121, lat: 81, member: 25, step: 5)\n",
       "Coordinates:\n",
       "  * time     (time) datetime64[ns] 1993-03-01 1994-03-01 ... 2016-03-01\n",
       "  * lon      (lon) float32 120.0 121.0 122.0 123.0 ... 237.0 238.0 239.0 240.0\n",
       "  * lat      (lat) float32 -50.0 -49.0 -48.0 -47.0 -46.0 ... 27.0 28.0 29.0 30.0\n",
       "  * member   (member) int32 0 1 2 3 4 5 6 7 8 9 ... 16 17 18 19 20 21 22 23 24\n",
       "  * step     (step) int64 1 2 3 4 5\n",
       "Data variables:\n",
       "    tprate   (time, step, member, lat, lon) float32 dask.array&lt;chunksize=(1, 5, 25, 81, 121), meta=np.ndarray&gt;\n",
       "Attributes:\n",
       "    Conventions:  CF-1.6\n",
       "    history:      2022-01-18 03:46:22 GMT by grib_to_netcdf-2.23.0: /opt/ecmw...</pre><div class='xr-wrap' style='display:none'><div class='xr-header'><div class='xr-obj-type'>xarray.Dataset</div></div><ul class='xr-sections'><li class='xr-section-item'><input id='section-adf7ba14-75bd-43ff-b7cf-6525e45ec329' class='xr-section-summary-in' type='checkbox' disabled ><label for='section-adf7ba14-75bd-43ff-b7cf-6525e45ec329' class='xr-section-summary'  title='Expand/collapse section'>Dimensions:</label><div class='xr-section-inline-details'><ul class='xr-dim-list'><li><span class='xr-has-index'>time</span>: 24</li><li><span class='xr-has-index'>lon</span>: 121</li><li><span class='xr-has-index'>lat</span>: 81</li><li><span class='xr-has-index'>member</span>: 25</li><li><span class='xr-has-index'>step</span>: 5</li></ul></div><div class='xr-section-details'></div></li><li class='xr-section-item'><input id='section-faf7daff-efdf-419e-be9a-c22122e6114b' class='xr-section-summary-in' type='checkbox'  checked><label for='section-faf7daff-efdf-419e-be9a-c22122e6114b' class='xr-section-summary' >Coordinates: <span>(5)</span></label><div class='xr-section-inline-details'></div><div class='xr-section-details'><ul class='xr-var-list'><li class='xr-var-item'><div class='xr-var-name'><span class='xr-has-index'>time</span></div><div class='xr-var-dims'>(time)</div><div class='xr-var-dtype'>datetime64[ns]</div><div class='xr-var-preview xr-preview'>1993-03-01 ... 2016-03-01</div><input id='attrs-394b5124-9fa0-4af4-a6be-db1724cd1bbd' class='xr-var-attrs-in' type='checkbox' disabled><label for='attrs-394b5124-9fa0-4af4-a6be-db1724cd1bbd' title='Show/Hide attributes'><svg class='icon xr-icon-file-text2'><use xlink:href='#icon-file-text2'></use></svg></label><input id='data-5ee3bed1-9c06-4ba8-aa59-e72b444fa6b5' class='xr-var-data-in' type='checkbox'><label for='data-5ee3bed1-9c06-4ba8-aa59-e72b444fa6b5' title='Show/Hide data repr'><svg class='icon xr-icon-database'><use xlink:href='#icon-database'></use></svg></label><div class='xr-var-attrs'><dl class='xr-attrs'></dl></div><div class='xr-var-data'><pre>array([&#x27;1993-03-01T00:00:00.000000000&#x27;, &#x27;1994-03-01T00:00:00.000000000&#x27;,\n",
       "       &#x27;1995-03-01T00:00:00.000000000&#x27;, &#x27;1996-03-01T00:00:00.000000000&#x27;,\n",
       "       &#x27;1997-03-01T00:00:00.000000000&#x27;, &#x27;1998-03-01T00:00:00.000000000&#x27;,\n",
       "       &#x27;1999-03-01T00:00:00.000000000&#x27;, &#x27;2000-03-01T00:00:00.000000000&#x27;,\n",
       "       &#x27;2001-03-01T00:00:00.000000000&#x27;, &#x27;2002-03-01T00:00:00.000000000&#x27;,\n",
       "       &#x27;2003-03-01T00:00:00.000000000&#x27;, &#x27;2004-03-01T00:00:00.000000000&#x27;,\n",
       "       &#x27;2005-03-01T00:00:00.000000000&#x27;, &#x27;2006-03-01T00:00:00.000000000&#x27;,\n",
       "       &#x27;2007-03-01T00:00:00.000000000&#x27;, &#x27;2008-03-01T00:00:00.000000000&#x27;,\n",
       "       &#x27;2009-03-01T00:00:00.000000000&#x27;, &#x27;2010-03-01T00:00:00.000000000&#x27;,\n",
       "       &#x27;2011-03-01T00:00:00.000000000&#x27;, &#x27;2012-03-01T00:00:00.000000000&#x27;,\n",
       "       &#x27;2013-03-01T00:00:00.000000000&#x27;, &#x27;2014-03-01T00:00:00.000000000&#x27;,\n",
       "       &#x27;2015-03-01T00:00:00.000000000&#x27;, &#x27;2016-03-01T00:00:00.000000000&#x27;],\n",
       "      dtype=&#x27;datetime64[ns]&#x27;)</pre></div></li><li class='xr-var-item'><div class='xr-var-name'><span class='xr-has-index'>lon</span></div><div class='xr-var-dims'>(lon)</div><div class='xr-var-dtype'>float32</div><div class='xr-var-preview xr-preview'>120.0 121.0 122.0 ... 239.0 240.0</div><input id='attrs-b3f5fdc0-850e-4535-9e5f-e83ba5e6d82e' class='xr-var-attrs-in' type='checkbox' ><label for='attrs-b3f5fdc0-850e-4535-9e5f-e83ba5e6d82e' title='Show/Hide attributes'><svg class='icon xr-icon-file-text2'><use xlink:href='#icon-file-text2'></use></svg></label><input id='data-e0914511-1189-4f51-aec8-2fe9ae1fe058' class='xr-var-data-in' type='checkbox'><label for='data-e0914511-1189-4f51-aec8-2fe9ae1fe058' title='Show/Hide data repr'><svg class='icon xr-icon-database'><use xlink:href='#icon-database'></use></svg></label><div class='xr-var-attrs'><dl class='xr-attrs'><dt><span>units :</span></dt><dd>degrees_east</dd><dt><span>long_name :</span></dt><dd>longitude</dd></dl></div><div class='xr-var-data'><pre>array([120., 121., 122., 123., 124., 125., 126., 127., 128., 129., 130., 131.,\n",
       "       132., 133., 134., 135., 136., 137., 138., 139., 140., 141., 142., 143.,\n",
       "       144., 145., 146., 147., 148., 149., 150., 151., 152., 153., 154., 155.,\n",
       "       156., 157., 158., 159., 160., 161., 162., 163., 164., 165., 166., 167.,\n",
       "       168., 169., 170., 171., 172., 173., 174., 175., 176., 177., 178., 179.,\n",
       "       180., 181., 182., 183., 184., 185., 186., 187., 188., 189., 190., 191.,\n",
       "       192., 193., 194., 195., 196., 197., 198., 199., 200., 201., 202., 203.,\n",
       "       204., 205., 206., 207., 208., 209., 210., 211., 212., 213., 214., 215.,\n",
       "       216., 217., 218., 219., 220., 221., 222., 223., 224., 225., 226., 227.,\n",
       "       228., 229., 230., 231., 232., 233., 234., 235., 236., 237., 238., 239.,\n",
       "       240.], dtype=float32)</pre></div></li><li class='xr-var-item'><div class='xr-var-name'><span class='xr-has-index'>lat</span></div><div class='xr-var-dims'>(lat)</div><div class='xr-var-dtype'>float32</div><div class='xr-var-preview xr-preview'>-50.0 -49.0 -48.0 ... 29.0 30.0</div><input id='attrs-c1771bc0-ffd3-40b8-addb-7f0ab6c212a8' class='xr-var-attrs-in' type='checkbox' ><label for='attrs-c1771bc0-ffd3-40b8-addb-7f0ab6c212a8' title='Show/Hide attributes'><svg class='icon xr-icon-file-text2'><use xlink:href='#icon-file-text2'></use></svg></label><input id='data-b8f3001f-2242-4fe9-9daa-866866a60df8' class='xr-var-data-in' type='checkbox'><label for='data-b8f3001f-2242-4fe9-9daa-866866a60df8' title='Show/Hide data repr'><svg class='icon xr-icon-database'><use xlink:href='#icon-database'></use></svg></label><div class='xr-var-attrs'><dl class='xr-attrs'><dt><span>units :</span></dt><dd>degrees_north</dd><dt><span>long_name :</span></dt><dd>latitude</dd></dl></div><div class='xr-var-data'><pre>array([-50., -49., -48., -47., -46., -45., -44., -43., -42., -41., -40., -39.,\n",
       "       -38., -37., -36., -35., -34., -33., -32., -31., -30., -29., -28., -27.,\n",
       "       -26., -25., -24., -23., -22., -21., -20., -19., -18., -17., -16., -15.,\n",
       "       -14., -13., -12., -11., -10.,  -9.,  -8.,  -7.,  -6.,  -5.,  -4.,  -3.,\n",
       "        -2.,  -1.,   0.,   1.,   2.,   3.,   4.,   5.,   6.,   7.,   8.,   9.,\n",
       "        10.,  11.,  12.,  13.,  14.,  15.,  16.,  17.,  18.,  19.,  20.,  21.,\n",
       "        22.,  23.,  24.,  25.,  26.,  27.,  28.,  29.,  30.], dtype=float32)</pre></div></li><li class='xr-var-item'><div class='xr-var-name'><span class='xr-has-index'>member</span></div><div class='xr-var-dims'>(member)</div><div class='xr-var-dtype'>int32</div><div class='xr-var-preview xr-preview'>0 1 2 3 4 5 6 ... 19 20 21 22 23 24</div><input id='attrs-4238fbe8-042d-432d-85d0-6e0e66c336bf' class='xr-var-attrs-in' type='checkbox' ><label for='attrs-4238fbe8-042d-432d-85d0-6e0e66c336bf' title='Show/Hide attributes'><svg class='icon xr-icon-file-text2'><use xlink:href='#icon-file-text2'></use></svg></label><input id='data-dcf9053e-8b8f-452e-a1cd-c38d11c6d21c' class='xr-var-data-in' type='checkbox'><label for='data-dcf9053e-8b8f-452e-a1cd-c38d11c6d21c' title='Show/Hide data repr'><svg class='icon xr-icon-database'><use xlink:href='#icon-database'></use></svg></label><div class='xr-var-attrs'><dl class='xr-attrs'><dt><span>long_name :</span></dt><dd>ensemble_member</dd></dl></div><div class='xr-var-data'><pre>array([ 0,  1,  2,  3,  4,  5,  6,  7,  8,  9, 10, 11, 12, 13, 14, 15, 16, 17,\n",
       "       18, 19, 20, 21, 22, 23, 24], dtype=int32)</pre></div></li><li class='xr-var-item'><div class='xr-var-name'><span class='xr-has-index'>step</span></div><div class='xr-var-dims'>(step)</div><div class='xr-var-dtype'>int64</div><div class='xr-var-preview xr-preview'>1 2 3 4 5</div><input id='attrs-b8b7f416-998a-42d0-9992-d434f757196a' class='xr-var-attrs-in' type='checkbox' disabled><label for='attrs-b8b7f416-998a-42d0-9992-d434f757196a' title='Show/Hide attributes'><svg class='icon xr-icon-file-text2'><use xlink:href='#icon-file-text2'></use></svg></label><input id='data-6c7c7e1c-2203-4d26-815d-6eed9c2ef9ee' class='xr-var-data-in' type='checkbox'><label for='data-6c7c7e1c-2203-4d26-815d-6eed9c2ef9ee' title='Show/Hide data repr'><svg class='icon xr-icon-database'><use xlink:href='#icon-database'></use></svg></label><div class='xr-var-attrs'><dl class='xr-attrs'></dl></div><div class='xr-var-data'><pre>array([1, 2, 3, 4, 5])</pre></div></li></ul></div></li><li class='xr-section-item'><input id='section-ee58c11d-1552-4747-bb24-0d7a621c8338' class='xr-section-summary-in' type='checkbox'  checked><label for='section-ee58c11d-1552-4747-bb24-0d7a621c8338' class='xr-section-summary' >Data variables: <span>(1)</span></label><div class='xr-section-inline-details'></div><div class='xr-section-details'><ul class='xr-var-list'><li class='xr-var-item'><div class='xr-var-name'><span>tprate</span></div><div class='xr-var-dims'>(time, step, member, lat, lon)</div><div class='xr-var-dtype'>float32</div><div class='xr-var-preview xr-preview'>dask.array&lt;chunksize=(1, 5, 25, 81, 121), meta=np.ndarray&gt;</div><input id='attrs-bec39caa-517a-41f3-bd73-544effd28040' class='xr-var-attrs-in' type='checkbox' ><label for='attrs-bec39caa-517a-41f3-bd73-544effd28040' title='Show/Hide attributes'><svg class='icon xr-icon-file-text2'><use xlink:href='#icon-file-text2'></use></svg></label><input id='data-e10f3066-d1b1-4bfd-84fb-fc5d2da82de2' class='xr-var-data-in' type='checkbox'><label for='data-e10f3066-d1b1-4bfd-84fb-fc5d2da82de2' title='Show/Hide data repr'><svg class='icon xr-icon-database'><use xlink:href='#icon-database'></use></svg></label><div class='xr-var-attrs'><dl class='xr-attrs'><dt><span>units :</span></dt><dd>m s**-1</dd><dt><span>long_name :</span></dt><dd>Mean total precipitation rate</dd></dl></div><div class='xr-var-data'><table>\n",
       "    <tr>\n",
       "        <td>\n",
       "            <table>\n",
       "                <thead>\n",
       "                    <tr>\n",
       "                        <td> </td>\n",
       "                        <th> Array </th>\n",
       "                        <th> Chunk </th>\n",
       "                    </tr>\n",
       "                </thead>\n",
       "                <tbody>\n",
       "                    \n",
       "                    <tr>\n",
       "                        <th> Bytes </th>\n",
       "                        <td> 112.16 MiB </td>\n",
       "                        <td> 4.67 MiB </td>\n",
       "                    </tr>\n",
       "                    \n",
       "                    <tr>\n",
       "                        <th> Shape </th>\n",
       "                        <td> (24, 5, 25, 81, 121) </td>\n",
       "                        <td> (1, 5, 25, 81, 121) </td>\n",
       "                    </tr>\n",
       "                    <tr>\n",
       "                        <th> Count </th>\n",
       "                        <td> 168 Tasks </td>\n",
       "                        <td> 24 Chunks </td>\n",
       "                    </tr>\n",
       "                    <tr>\n",
       "                    <th> Type </th>\n",
       "                    <td> float32 </td>\n",
       "                    <td> numpy.ndarray </td>\n",
       "                    </tr>\n",
       "                </tbody>\n",
       "            </table>\n",
       "        </td>\n",
       "        <td>\n",
       "        <svg width=\"400\" height=\"155\" style=\"stroke:rgb(0,0,0);stroke-width:1\" >\n",
       "\n",
       "  <!-- Horizontal lines -->\n",
       "  <line x1=\"0\" y1=\"0\" x2=\"33\" y2=\"0\" style=\"stroke-width:2\" />\n",
       "  <line x1=\"0\" y1=\"1\" x2=\"33\" y2=\"1\" />\n",
       "  <line x1=\"0\" y1=\"3\" x2=\"33\" y2=\"3\" />\n",
       "  <line x1=\"0\" y1=\"5\" x2=\"33\" y2=\"5\" />\n",
       "  <line x1=\"0\" y1=\"6\" x2=\"33\" y2=\"6\" />\n",
       "  <line x1=\"0\" y1=\"8\" x2=\"33\" y2=\"8\" />\n",
       "  <line x1=\"0\" y1=\"10\" x2=\"33\" y2=\"10\" />\n",
       "  <line x1=\"0\" y1=\"12\" x2=\"33\" y2=\"12\" />\n",
       "  <line x1=\"0\" y1=\"13\" x2=\"33\" y2=\"13\" />\n",
       "  <line x1=\"0\" y1=\"15\" x2=\"33\" y2=\"15\" />\n",
       "  <line x1=\"0\" y1=\"17\" x2=\"33\" y2=\"17\" />\n",
       "  <line x1=\"0\" y1=\"19\" x2=\"33\" y2=\"19\" />\n",
       "  <line x1=\"0\" y1=\"20\" x2=\"33\" y2=\"20\" />\n",
       "  <line x1=\"0\" y1=\"22\" x2=\"33\" y2=\"22\" />\n",
       "  <line x1=\"0\" y1=\"24\" x2=\"33\" y2=\"24\" />\n",
       "  <line x1=\"0\" y1=\"26\" x2=\"33\" y2=\"26\" />\n",
       "  <line x1=\"0\" y1=\"27\" x2=\"33\" y2=\"27\" />\n",
       "  <line x1=\"0\" y1=\"29\" x2=\"33\" y2=\"29\" />\n",
       "  <line x1=\"0\" y1=\"31\" x2=\"33\" y2=\"31\" />\n",
       "  <line x1=\"0\" y1=\"33\" x2=\"33\" y2=\"33\" />\n",
       "  <line x1=\"0\" y1=\"34\" x2=\"33\" y2=\"34\" />\n",
       "  <line x1=\"0\" y1=\"36\" x2=\"33\" y2=\"36\" />\n",
       "  <line x1=\"0\" y1=\"38\" x2=\"33\" y2=\"38\" />\n",
       "  <line x1=\"0\" y1=\"40\" x2=\"33\" y2=\"40\" />\n",
       "  <line x1=\"0\" y1=\"41\" x2=\"33\" y2=\"41\" style=\"stroke-width:2\" />\n",
       "\n",
       "  <!-- Vertical lines -->\n",
       "  <line x1=\"0\" y1=\"0\" x2=\"0\" y2=\"41\" style=\"stroke-width:2\" />\n",
       "  <line x1=\"33\" y1=\"0\" x2=\"33\" y2=\"41\" style=\"stroke-width:2\" />\n",
       "\n",
       "  <!-- Colored Rectangle -->\n",
       "  <polygon points=\"0.0,0.0 33.33288666888053,0.0 33.33288666888053,41.974744095238016 0.0,41.974744095238016\" style=\"fill:#ECB172A0;stroke-width:0\"/>\n",
       "\n",
       "  <!-- Text -->\n",
       "  <text x=\"16.666443\" y=\"61.974744\" font-size=\"1.0rem\" font-weight=\"100\" text-anchor=\"middle\" >5</text>\n",
       "  <text x=\"53.332887\" y=\"20.987372\" font-size=\"1.0rem\" font-weight=\"100\" text-anchor=\"middle\" transform=\"rotate(0,53.332887,20.987372)\">24</text>\n",
       "\n",
       "\n",
       "  <!-- Horizontal lines -->\n",
       "  <line x1=\"103\" y1=\"0\" x2=\"127\" y2=\"24\" style=\"stroke-width:2\" />\n",
       "  <line x1=\"103\" y1=\"80\" x2=\"127\" y2=\"105\" style=\"stroke-width:2\" />\n",
       "\n",
       "  <!-- Vertical lines -->\n",
       "  <line x1=\"103\" y1=\"0\" x2=\"103\" y2=\"80\" style=\"stroke-width:2\" />\n",
       "  <line x1=\"127\" y1=\"24\" x2=\"127\" y2=\"105\" style=\"stroke-width:2\" />\n",
       "\n",
       "  <!-- Colored Rectangle -->\n",
       "  <polygon points=\"103.0,0.0 127.79187811826725,24.791878118267245 127.79187811826725,105.12245663066395 103.0,80.3305785123967\" style=\"fill:#ECB172A0;stroke-width:0\"/>\n",
       "\n",
       "  <!-- Horizontal lines -->\n",
       "  <line x1=\"103\" y1=\"0\" x2=\"223\" y2=\"0\" style=\"stroke-width:2\" />\n",
       "  <line x1=\"127\" y1=\"24\" x2=\"247\" y2=\"24\" style=\"stroke-width:2\" />\n",
       "\n",
       "  <!-- Vertical lines -->\n",
       "  <line x1=\"103\" y1=\"0\" x2=\"127\" y2=\"24\" style=\"stroke-width:2\" />\n",
       "  <line x1=\"223\" y1=\"0\" x2=\"247\" y2=\"24\" style=\"stroke-width:2\" />\n",
       "\n",
       "  <!-- Colored Rectangle -->\n",
       "  <polygon points=\"103.0,0.0 223.0,0.0 247.79187811826725,24.791878118267245 127.79187811826725,24.791878118267245\" style=\"fill:#ECB172A0;stroke-width:0\"/>\n",
       "\n",
       "  <!-- Horizontal lines -->\n",
       "  <line x1=\"127\" y1=\"24\" x2=\"247\" y2=\"24\" style=\"stroke-width:2\" />\n",
       "  <line x1=\"127\" y1=\"105\" x2=\"247\" y2=\"105\" style=\"stroke-width:2\" />\n",
       "\n",
       "  <!-- Vertical lines -->\n",
       "  <line x1=\"127\" y1=\"24\" x2=\"127\" y2=\"105\" style=\"stroke-width:2\" />\n",
       "  <line x1=\"247\" y1=\"24\" x2=\"247\" y2=\"105\" style=\"stroke-width:2\" />\n",
       "\n",
       "  <!-- Colored Rectangle -->\n",
       "  <polygon points=\"127.79187811826725,24.791878118267245 247.79187811826725,24.791878118267245 247.79187811826725,105.12245663066395 127.79187811826725,105.12245663066395\" style=\"fill:#ECB172A0;stroke-width:0\"/>\n",
       "\n",
       "  <!-- Text -->\n",
       "  <text x=\"187.791878\" y=\"125.122457\" font-size=\"1.0rem\" font-weight=\"100\" text-anchor=\"middle\" >121</text>\n",
       "  <text x=\"267.791878\" y=\"64.957167\" font-size=\"1.0rem\" font-weight=\"100\" text-anchor=\"middle\" transform=\"rotate(0,267.791878,64.957167)\">81</text>\n",
       "  <text x=\"105.395939\" y=\"112.726518\" font-size=\"1.0rem\" font-weight=\"100\" text-anchor=\"middle\" transform=\"rotate(45,105.395939,112.726518)\">25</text>\n",
       "</svg>\n",
       "        </td>\n",
       "    </tr>\n",
       "</table></div></li></ul></div></li><li class='xr-section-item'><input id='section-522416c4-1214-4e98-a7fa-6d3730605f35' class='xr-section-summary-in' type='checkbox'  checked><label for='section-522416c4-1214-4e98-a7fa-6d3730605f35' class='xr-section-summary' >Attributes: <span>(2)</span></label><div class='xr-section-inline-details'></div><div class='xr-section-details'><dl class='xr-attrs'><dt><span>Conventions :</span></dt><dd>CF-1.6</dd><dt><span>history :</span></dt><dd>2022-01-18 03:46:22 GMT by grib_to_netcdf-2.23.0: /opt/ecmwf/mars-client/bin/grib_to_netcdf -S param -o /cache/data3/adaptor.mars.external-1642477582.4384263-29173-8-51e60622-d516-46d3-932b-fb45da88c9be.nc /cache/tmp/51e60622-d516-46d3-932b-fb45da88c9be-adaptor.mars.external-1642477578.4382644-29173-15-tmp.grib</dd></dl></div></li></ul></div></div>"
      ],
      "text/plain": [
       "<xarray.Dataset>\n",
       "Dimensions:  (time: 24, lon: 121, lat: 81, member: 25, step: 5)\n",
       "Coordinates:\n",
       "  * time     (time) datetime64[ns] 1993-03-01 1994-03-01 ... 2016-03-01\n",
       "  * lon      (lon) float32 120.0 121.0 122.0 123.0 ... 237.0 238.0 239.0 240.0\n",
       "  * lat      (lat) float32 -50.0 -49.0 -48.0 -47.0 -46.0 ... 27.0 28.0 29.0 30.0\n",
       "  * member   (member) int32 0 1 2 3 4 5 6 7 8 9 ... 16 17 18 19 20 21 22 23 24\n",
       "  * step     (step) int64 1 2 3 4 5\n",
       "Data variables:\n",
       "    tprate   (time, step, member, lat, lon) float32 dask.array<chunksize=(1, 5, 25, 81, 121), meta=np.ndarray>\n",
       "Attributes:\n",
       "    Conventions:  CF-1.6\n",
       "    history:      2022-01-18 03:46:22 GMT by grib_to_netcdf-2.23.0: /opt/ecmw..."
      ]
     },
     "execution_count": 61,
     "metadata": {},
     "output_type": "execute_result"
    }
   ],
   "source": [
    "dset"
   ]
  },
  {
   "cell_type": "markdown",
   "id": "f7bbf7e7-c341-436b-b9db-103fd378dcb0",
   "metadata": {
    "papermill": {
     "duration": 0.034413,
     "end_time": "2022-03-13T22:39:32.159055",
     "exception": false,
     "start_time": "2022-03-13T22:39:32.124642",
     "status": "completed"
    },
    "tags": []
   },
   "source": [
    "### make sure we select the hindcast period "
   ]
  },
  {
   "cell_type": "code",
   "execution_count": 62,
   "id": "b543e1a2-5e81-43d0-8bcc-66cd8a1eeedf",
   "metadata": {
    "papermill": {
     "duration": 0.059919,
     "end_time": "2022-03-13T22:39:32.252684",
     "exception": false,
     "start_time": "2022-03-13T22:39:32.192765",
     "status": "completed"
    },
    "tags": []
   },
   "outputs": [],
   "source": [
    "dset = dset.sel(time=slice('1993', '2016'))"
   ]
  },
  {
   "cell_type": "markdown",
   "id": "d462983e-c166-4b90-a2cc-26b2f1e7d9cb",
   "metadata": {
    "papermill": {
     "duration": 0.033037,
     "end_time": "2022-03-13T22:39:32.319783",
     "exception": false,
     "start_time": "2022-03-13T22:39:32.286746",
     "status": "completed"
    },
    "tags": []
   },
   "source": [
    "### convert to monthly rainfall accumulations (mm/month)"
   ]
  },
  {
   "cell_type": "code",
   "execution_count": 63,
   "id": "6e725dd4-91d0-4246-8d00-6f604b1f489e",
   "metadata": {
    "papermill": {
     "duration": 0.052238,
     "end_time": "2022-03-13T22:39:32.404655",
     "exception": false,
     "start_time": "2022-03-13T22:39:32.352417",
     "status": "completed"
    },
    "tags": []
   },
   "outputs": [
    {
     "data": {
      "text/plain": [
       "{'units': 'm s**-1', 'long_name': 'Mean total precipitation rate'}"
      ]
     },
     "execution_count": 63,
     "metadata": {},
     "output_type": "execute_result"
    }
   ],
   "source": [
    "dset.tprate.attrs"
   ]
  },
  {
   "cell_type": "code",
   "execution_count": 64,
   "id": "67d42493-35a0-4658-ad1c-a6818fc91d2b",
   "metadata": {
    "papermill": {
     "duration": 0.071828,
     "end_time": "2022-03-13T22:39:32.509227",
     "exception": false,
     "start_time": "2022-03-13T22:39:32.437399",
     "status": "completed"
    },
    "tags": []
   },
   "outputs": [
    {
     "name": "stdout",
     "output_type": "stream",
     "text": [
      "\n",
      "unit is m s**-1, converting to mm/day\n",
      "\n",
      "now converting to mm/month, converted precipitation will be held in var = precip\n"
     ]
    }
   ],
   "source": [
    "dset = C3S.convert_rainfall(dset, varin='tprate', varout='precip', leadvar='step', timevar='time', dropvar=True)"
   ]
  },
  {
   "cell_type": "code",
   "execution_count": 65,
   "id": "4d15bffd-b6c1-49dc-ac3c-428e824a10ca",
   "metadata": {
    "papermill": {
     "duration": 0.056807,
     "end_time": "2022-03-13T22:39:32.601587",
     "exception": false,
     "start_time": "2022-03-13T22:39:32.544780",
     "status": "completed"
    },
    "tags": []
   },
   "outputs": [
    {
     "data": {
      "text/plain": [
       "<bound method Dataset.info of <xarray.Dataset>\n",
       "Dimensions:  (time: 24, lon: 121, lat: 81, member: 25, step: 5)\n",
       "Coordinates:\n",
       "  * time     (time) datetime64[ns] 1993-03-01 1994-03-01 ... 2016-03-01\n",
       "  * lon      (lon) float32 120.0 121.0 122.0 123.0 ... 237.0 238.0 239.0 240.0\n",
       "  * lat      (lat) float32 -50.0 -49.0 -48.0 -47.0 -46.0 ... 27.0 28.0 29.0 30.0\n",
       "  * member   (member) int32 0 1 2 3 4 5 6 7 8 9 ... 16 17 18 19 20 21 22 23 24\n",
       "  * step     (step) int64 1 2 3 4 5\n",
       "Data variables:\n",
       "    precip   (time, step, member, lat, lon) float64 dask.array<chunksize=(1, 5, 25, 81, 121), meta=np.ndarray>\n",
       "Attributes:\n",
       "    Conventions:  CF-1.6\n",
       "    history:      2022-01-18 03:46:22 GMT by grib_to_netcdf-2.23.0: /opt/ecmw...>"
      ]
     },
     "execution_count": 65,
     "metadata": {},
     "output_type": "execute_result"
    }
   ],
   "source": [
    "dset.info"
   ]
  },
  {
   "cell_type": "code",
   "execution_count": 66,
   "id": "5c7fe646-bfd6-417e-aaaa-8e0cb0b899c8",
   "metadata": {
    "papermill": {
     "duration": 0.056073,
     "end_time": "2022-03-13T22:39:32.692230",
     "exception": false,
     "start_time": "2022-03-13T22:39:32.636157",
     "status": "completed"
    },
    "tags": []
   },
   "outputs": [
    {
     "data": {
      "text/plain": [
       "{'units': 'mm/month'}"
      ]
     },
     "execution_count": 66,
     "metadata": {},
     "output_type": "execute_result"
    }
   ],
   "source": [
    "dset.precip.attrs"
   ]
  },
  {
   "cell_type": "markdown",
   "id": "fd7553f0-3ff3-46f3-bdcd-6e6f48f7abb7",
   "metadata": {
    "papermill": {
     "duration": 0.034231,
     "end_time": "2022-03-13T22:39:32.761490",
     "exception": false,
     "start_time": "2022-03-13T22:39:32.727259",
     "status": "completed"
    },
    "tags": []
   },
   "source": [
    "### make sure there are no negative values "
   ]
  },
  {
   "cell_type": "code",
   "execution_count": 67,
   "id": "48667708-24cc-4f51-ab18-3a75e2f28ccd",
   "metadata": {
    "papermill": {
     "duration": 0.058071,
     "end_time": "2022-03-13T22:39:32.853146",
     "exception": false,
     "start_time": "2022-03-13T22:39:32.795075",
     "status": "completed"
    },
    "tags": []
   },
   "outputs": [],
   "source": [
    "dset = dset.clip(min=0)"
   ]
  },
  {
   "cell_type": "markdown",
   "id": "a6dd054f-5e96-48e6-b935-80d9ea0f54a2",
   "metadata": {
    "papermill": {
     "duration": 0.033971,
     "end_time": "2022-03-13T22:39:32.920997",
     "exception": false,
     "start_time": "2022-03-13T22:39:32.887026",
     "status": "completed"
    },
    "tags": []
   },
   "source": [
    "### if the period is set to `seasonal`, calculates the seasonal accumulations "
   ]
  },
  {
   "cell_type": "code",
   "execution_count": 68,
   "id": "cc83f98c-909f-44bc-aa14-ef1778a747f5",
   "metadata": {
    "papermill": {
     "duration": 0.081469,
     "end_time": "2022-03-13T22:39:33.036509",
     "exception": false,
     "start_time": "2022-03-13T22:39:32.955040",
     "status": "completed"
    },
    "tags": []
   },
   "outputs": [],
   "source": [
    "if period == 'seasonal': \n",
    "    \n",
    "    dset = dset.rolling({'step':3}, min_periods=3).sum('step')\n",
    "    \n",
    "    dset = dset.sel({'step':slice(3, None)})"
   ]
  },
  {
   "cell_type": "code",
   "execution_count": 69,
   "id": "84f4203d-9b4b-4db5-b4a2-174be37b28c5",
   "metadata": {
    "papermill": {
     "duration": 0.063685,
     "end_time": "2022-03-13T22:39:33.134122",
     "exception": false,
     "start_time": "2022-03-13T22:39:33.070437",
     "status": "completed"
    },
    "tags": []
   },
   "outputs": [
    {
     "data": {
      "text/plain": [
       "<bound method Dataset.info of <xarray.Dataset>\n",
       "Dimensions:  (time: 24, lon: 121, lat: 81, member: 25, step: 3)\n",
       "Coordinates:\n",
       "  * time     (time) datetime64[ns] 1993-03-01 1994-03-01 ... 2016-03-01\n",
       "  * lon      (lon) float32 120.0 121.0 122.0 123.0 ... 237.0 238.0 239.0 240.0\n",
       "  * lat      (lat) float32 -50.0 -49.0 -48.0 -47.0 -46.0 ... 27.0 28.0 29.0 30.0\n",
       "  * member   (member) int32 0 1 2 3 4 5 6 7 8 9 ... 16 17 18 19 20 21 22 23 24\n",
       "  * step     (step) int64 3 4 5\n",
       "Data variables:\n",
       "    precip   (time, step, member, lat, lon) float64 dask.array<chunksize=(1, 3, 25, 81, 121), meta=np.ndarray>\n",
       "Attributes:\n",
       "    Conventions:  CF-1.6\n",
       "    history:      2022-01-18 03:46:22 GMT by grib_to_netcdf-2.23.0: /opt/ecmw...>"
      ]
     },
     "execution_count": 69,
     "metadata": {},
     "output_type": "execute_result"
    }
   ],
   "source": [
    "dset.info"
   ]
  },
  {
   "cell_type": "markdown",
   "id": "aab31221-ef5d-4a3c-9967-81aaf3d160aa",
   "metadata": {
    "papermill": {
     "duration": 0.034062,
     "end_time": "2022-03-13T22:39:33.202412",
     "exception": false,
     "start_time": "2022-03-13T22:39:33.168350",
     "status": "completed"
    },
    "tags": []
   },
   "source": [
    "### rechunk, just make sure each chunk can fit in memory"
   ]
  },
  {
   "cell_type": "code",
   "execution_count": 70,
   "id": "f19d676e-3e48-4f94-8416-b4e91eae83c1",
   "metadata": {
    "papermill": {
     "duration": 0.053079,
     "end_time": "2022-03-13T22:39:33.287819",
     "exception": false,
     "start_time": "2022-03-13T22:39:33.234740",
     "status": "completed"
    },
    "tags": []
   },
   "outputs": [
    {
     "data": {
      "text/plain": [
       "Frozen({'time': (1, 1, 1, 1, 1, 1, 1, 1, 1, 1, 1, 1, 1, 1, 1, 1, 1, 1, 1, 1, 1, 1, 1, 1), 'step': (3,), 'member': (25,), 'lat': (81,), 'lon': (121,)})"
      ]
     },
     "execution_count": 70,
     "metadata": {},
     "output_type": "execute_result"
    }
   ],
   "source": [
    "dset.chunks"
   ]
  },
  {
   "cell_type": "code",
   "execution_count": 71,
   "id": "82dc21a1-bc53-4f03-acb5-f58e983c20e4",
   "metadata": {
    "papermill": {
     "duration": 0.055083,
     "end_time": "2022-03-13T22:39:33.379805",
     "exception": false,
     "start_time": "2022-03-13T22:39:33.324722",
     "status": "completed"
    },
    "tags": []
   },
   "outputs": [],
   "source": [
    "chunks = {\n",
    "    'time':-1, \n",
    "    'member':-1, \n",
    "    'step':1, \n",
    "    'lat':10, \n",
    "    'lon':10\n",
    "}"
   ]
  },
  {
   "cell_type": "code",
   "execution_count": 72,
   "id": "e288e6b1-1b84-48c2-a2bb-472aa4b740f5",
   "metadata": {
    "papermill": {
     "duration": 0.057334,
     "end_time": "2022-03-13T22:39:33.471381",
     "exception": false,
     "start_time": "2022-03-13T22:39:33.414047",
     "status": "completed"
    },
    "tags": []
   },
   "outputs": [],
   "source": [
    "dset = dset.chunk(chunks)"
   ]
  },
  {
   "cell_type": "code",
   "execution_count": 73,
   "id": "b92f5daa-b896-4b6b-bd3f-c15321e89367",
   "metadata": {
    "papermill": {
     "duration": 0.085456,
     "end_time": "2022-03-13T22:39:33.591841",
     "exception": false,
     "start_time": "2022-03-13T22:39:33.506385",
     "status": "completed"
    },
    "tags": []
   },
   "outputs": [
    {
     "data": {
      "text/html": [
       "<div><svg style=\"position: absolute; width: 0; height: 0; overflow: hidden\">\n",
       "<defs>\n",
       "<symbol id=\"icon-database\" viewBox=\"0 0 32 32\">\n",
       "<path d=\"M16 0c-8.837 0-16 2.239-16 5v4c0 2.761 7.163 5 16 5s16-2.239 16-5v-4c0-2.761-7.163-5-16-5z\"></path>\n",
       "<path d=\"M16 17c-8.837 0-16-2.239-16-5v6c0 2.761 7.163 5 16 5s16-2.239 16-5v-6c0 2.761-7.163 5-16 5z\"></path>\n",
       "<path d=\"M16 26c-8.837 0-16-2.239-16-5v6c0 2.761 7.163 5 16 5s16-2.239 16-5v-6c0 2.761-7.163 5-16 5z\"></path>\n",
       "</symbol>\n",
       "<symbol id=\"icon-file-text2\" viewBox=\"0 0 32 32\">\n",
       "<path d=\"M28.681 7.159c-0.694-0.947-1.662-2.053-2.724-3.116s-2.169-2.030-3.116-2.724c-1.612-1.182-2.393-1.319-2.841-1.319h-15.5c-1.378 0-2.5 1.121-2.5 2.5v27c0 1.378 1.122 2.5 2.5 2.5h23c1.378 0 2.5-1.122 2.5-2.5v-19.5c0-0.448-0.137-1.23-1.319-2.841zM24.543 5.457c0.959 0.959 1.712 1.825 2.268 2.543h-4.811v-4.811c0.718 0.556 1.584 1.309 2.543 2.268zM28 29.5c0 0.271-0.229 0.5-0.5 0.5h-23c-0.271 0-0.5-0.229-0.5-0.5v-27c0-0.271 0.229-0.5 0.5-0.5 0 0 15.499-0 15.5 0v7c0 0.552 0.448 1 1 1h7v19.5z\"></path>\n",
       "<path d=\"M23 26h-14c-0.552 0-1-0.448-1-1s0.448-1 1-1h14c0.552 0 1 0.448 1 1s-0.448 1-1 1z\"></path>\n",
       "<path d=\"M23 22h-14c-0.552 0-1-0.448-1-1s0.448-1 1-1h14c0.552 0 1 0.448 1 1s-0.448 1-1 1z\"></path>\n",
       "<path d=\"M23 18h-14c-0.552 0-1-0.448-1-1s0.448-1 1-1h14c0.552 0 1 0.448 1 1s-0.448 1-1 1z\"></path>\n",
       "</symbol>\n",
       "</defs>\n",
       "</svg>\n",
       "<style>/* CSS stylesheet for displaying xarray objects in jupyterlab.\n",
       " *\n",
       " */\n",
       "\n",
       ":root {\n",
       "  --xr-font-color0: var(--jp-content-font-color0, rgba(0, 0, 0, 1));\n",
       "  --xr-font-color2: var(--jp-content-font-color2, rgba(0, 0, 0, 0.54));\n",
       "  --xr-font-color3: var(--jp-content-font-color3, rgba(0, 0, 0, 0.38));\n",
       "  --xr-border-color: var(--jp-border-color2, #e0e0e0);\n",
       "  --xr-disabled-color: var(--jp-layout-color3, #bdbdbd);\n",
       "  --xr-background-color: var(--jp-layout-color0, white);\n",
       "  --xr-background-color-row-even: var(--jp-layout-color1, white);\n",
       "  --xr-background-color-row-odd: var(--jp-layout-color2, #eeeeee);\n",
       "}\n",
       "\n",
       "html[theme=dark],\n",
       "body.vscode-dark {\n",
       "  --xr-font-color0: rgba(255, 255, 255, 1);\n",
       "  --xr-font-color2: rgba(255, 255, 255, 0.54);\n",
       "  --xr-font-color3: rgba(255, 255, 255, 0.38);\n",
       "  --xr-border-color: #1F1F1F;\n",
       "  --xr-disabled-color: #515151;\n",
       "  --xr-background-color: #111111;\n",
       "  --xr-background-color-row-even: #111111;\n",
       "  --xr-background-color-row-odd: #313131;\n",
       "}\n",
       "\n",
       ".xr-wrap {\n",
       "  display: block !important;\n",
       "  min-width: 300px;\n",
       "  max-width: 700px;\n",
       "}\n",
       "\n",
       ".xr-text-repr-fallback {\n",
       "  /* fallback to plain text repr when CSS is not injected (untrusted notebook) */\n",
       "  display: none;\n",
       "}\n",
       "\n",
       ".xr-header {\n",
       "  padding-top: 6px;\n",
       "  padding-bottom: 6px;\n",
       "  margin-bottom: 4px;\n",
       "  border-bottom: solid 1px var(--xr-border-color);\n",
       "}\n",
       "\n",
       ".xr-header > div,\n",
       ".xr-header > ul {\n",
       "  display: inline;\n",
       "  margin-top: 0;\n",
       "  margin-bottom: 0;\n",
       "}\n",
       "\n",
       ".xr-obj-type,\n",
       ".xr-array-name {\n",
       "  margin-left: 2px;\n",
       "  margin-right: 10px;\n",
       "}\n",
       "\n",
       ".xr-obj-type {\n",
       "  color: var(--xr-font-color2);\n",
       "}\n",
       "\n",
       ".xr-sections {\n",
       "  padding-left: 0 !important;\n",
       "  display: grid;\n",
       "  grid-template-columns: 150px auto auto 1fr 20px 20px;\n",
       "}\n",
       "\n",
       ".xr-section-item {\n",
       "  display: contents;\n",
       "}\n",
       "\n",
       ".xr-section-item input {\n",
       "  display: none;\n",
       "}\n",
       "\n",
       ".xr-section-item input + label {\n",
       "  color: var(--xr-disabled-color);\n",
       "}\n",
       "\n",
       ".xr-section-item input:enabled + label {\n",
       "  cursor: pointer;\n",
       "  color: var(--xr-font-color2);\n",
       "}\n",
       "\n",
       ".xr-section-item input:enabled + label:hover {\n",
       "  color: var(--xr-font-color0);\n",
       "}\n",
       "\n",
       ".xr-section-summary {\n",
       "  grid-column: 1;\n",
       "  color: var(--xr-font-color2);\n",
       "  font-weight: 500;\n",
       "}\n",
       "\n",
       ".xr-section-summary > span {\n",
       "  display: inline-block;\n",
       "  padding-left: 0.5em;\n",
       "}\n",
       "\n",
       ".xr-section-summary-in:disabled + label {\n",
       "  color: var(--xr-font-color2);\n",
       "}\n",
       "\n",
       ".xr-section-summary-in + label:before {\n",
       "  display: inline-block;\n",
       "  content: '►';\n",
       "  font-size: 11px;\n",
       "  width: 15px;\n",
       "  text-align: center;\n",
       "}\n",
       "\n",
       ".xr-section-summary-in:disabled + label:before {\n",
       "  color: var(--xr-disabled-color);\n",
       "}\n",
       "\n",
       ".xr-section-summary-in:checked + label:before {\n",
       "  content: '▼';\n",
       "}\n",
       "\n",
       ".xr-section-summary-in:checked + label > span {\n",
       "  display: none;\n",
       "}\n",
       "\n",
       ".xr-section-summary,\n",
       ".xr-section-inline-details {\n",
       "  padding-top: 4px;\n",
       "  padding-bottom: 4px;\n",
       "}\n",
       "\n",
       ".xr-section-inline-details {\n",
       "  grid-column: 2 / -1;\n",
       "}\n",
       "\n",
       ".xr-section-details {\n",
       "  display: none;\n",
       "  grid-column: 1 / -1;\n",
       "  margin-bottom: 5px;\n",
       "}\n",
       "\n",
       ".xr-section-summary-in:checked ~ .xr-section-details {\n",
       "  display: contents;\n",
       "}\n",
       "\n",
       ".xr-array-wrap {\n",
       "  grid-column: 1 / -1;\n",
       "  display: grid;\n",
       "  grid-template-columns: 20px auto;\n",
       "}\n",
       "\n",
       ".xr-array-wrap > label {\n",
       "  grid-column: 1;\n",
       "  vertical-align: top;\n",
       "}\n",
       "\n",
       ".xr-preview {\n",
       "  color: var(--xr-font-color3);\n",
       "}\n",
       "\n",
       ".xr-array-preview,\n",
       ".xr-array-data {\n",
       "  padding: 0 5px !important;\n",
       "  grid-column: 2;\n",
       "}\n",
       "\n",
       ".xr-array-data,\n",
       ".xr-array-in:checked ~ .xr-array-preview {\n",
       "  display: none;\n",
       "}\n",
       "\n",
       ".xr-array-in:checked ~ .xr-array-data,\n",
       ".xr-array-preview {\n",
       "  display: inline-block;\n",
       "}\n",
       "\n",
       ".xr-dim-list {\n",
       "  display: inline-block !important;\n",
       "  list-style: none;\n",
       "  padding: 0 !important;\n",
       "  margin: 0;\n",
       "}\n",
       "\n",
       ".xr-dim-list li {\n",
       "  display: inline-block;\n",
       "  padding: 0;\n",
       "  margin: 0;\n",
       "}\n",
       "\n",
       ".xr-dim-list:before {\n",
       "  content: '(';\n",
       "}\n",
       "\n",
       ".xr-dim-list:after {\n",
       "  content: ')';\n",
       "}\n",
       "\n",
       ".xr-dim-list li:not(:last-child):after {\n",
       "  content: ',';\n",
       "  padding-right: 5px;\n",
       "}\n",
       "\n",
       ".xr-has-index {\n",
       "  font-weight: bold;\n",
       "}\n",
       "\n",
       ".xr-var-list,\n",
       ".xr-var-item {\n",
       "  display: contents;\n",
       "}\n",
       "\n",
       ".xr-var-item > div,\n",
       ".xr-var-item label,\n",
       ".xr-var-item > .xr-var-name span {\n",
       "  background-color: var(--xr-background-color-row-even);\n",
       "  margin-bottom: 0;\n",
       "}\n",
       "\n",
       ".xr-var-item > .xr-var-name:hover span {\n",
       "  padding-right: 5px;\n",
       "}\n",
       "\n",
       ".xr-var-list > li:nth-child(odd) > div,\n",
       ".xr-var-list > li:nth-child(odd) > label,\n",
       ".xr-var-list > li:nth-child(odd) > .xr-var-name span {\n",
       "  background-color: var(--xr-background-color-row-odd);\n",
       "}\n",
       "\n",
       ".xr-var-name {\n",
       "  grid-column: 1;\n",
       "}\n",
       "\n",
       ".xr-var-dims {\n",
       "  grid-column: 2;\n",
       "}\n",
       "\n",
       ".xr-var-dtype {\n",
       "  grid-column: 3;\n",
       "  text-align: right;\n",
       "  color: var(--xr-font-color2);\n",
       "}\n",
       "\n",
       ".xr-var-preview {\n",
       "  grid-column: 4;\n",
       "}\n",
       "\n",
       ".xr-var-name,\n",
       ".xr-var-dims,\n",
       ".xr-var-dtype,\n",
       ".xr-preview,\n",
       ".xr-attrs dt {\n",
       "  white-space: nowrap;\n",
       "  overflow: hidden;\n",
       "  text-overflow: ellipsis;\n",
       "  padding-right: 10px;\n",
       "}\n",
       "\n",
       ".xr-var-name:hover,\n",
       ".xr-var-dims:hover,\n",
       ".xr-var-dtype:hover,\n",
       ".xr-attrs dt:hover {\n",
       "  overflow: visible;\n",
       "  width: auto;\n",
       "  z-index: 1;\n",
       "}\n",
       "\n",
       ".xr-var-attrs,\n",
       ".xr-var-data {\n",
       "  display: none;\n",
       "  background-color: var(--xr-background-color) !important;\n",
       "  padding-bottom: 5px !important;\n",
       "}\n",
       "\n",
       ".xr-var-attrs-in:checked ~ .xr-var-attrs,\n",
       ".xr-var-data-in:checked ~ .xr-var-data {\n",
       "  display: block;\n",
       "}\n",
       "\n",
       ".xr-var-data > table {\n",
       "  float: right;\n",
       "}\n",
       "\n",
       ".xr-var-name span,\n",
       ".xr-var-data,\n",
       ".xr-attrs {\n",
       "  padding-left: 25px !important;\n",
       "}\n",
       "\n",
       ".xr-attrs,\n",
       ".xr-var-attrs,\n",
       ".xr-var-data {\n",
       "  grid-column: 1 / -1;\n",
       "}\n",
       "\n",
       "dl.xr-attrs {\n",
       "  padding: 0;\n",
       "  margin: 0;\n",
       "  display: grid;\n",
       "  grid-template-columns: 125px auto;\n",
       "}\n",
       "\n",
       ".xr-attrs dt,\n",
       ".xr-attrs dd {\n",
       "  padding: 0;\n",
       "  margin: 0;\n",
       "  float: left;\n",
       "  padding-right: 10px;\n",
       "  width: auto;\n",
       "}\n",
       "\n",
       ".xr-attrs dt {\n",
       "  font-weight: normal;\n",
       "  grid-column: 1;\n",
       "}\n",
       "\n",
       ".xr-attrs dt:hover span {\n",
       "  display: inline-block;\n",
       "  background: var(--xr-background-color);\n",
       "  padding-right: 10px;\n",
       "}\n",
       "\n",
       ".xr-attrs dd {\n",
       "  grid-column: 2;\n",
       "  white-space: pre-wrap;\n",
       "  word-break: break-all;\n",
       "}\n",
       "\n",
       ".xr-icon-database,\n",
       ".xr-icon-file-text2 {\n",
       "  display: inline-block;\n",
       "  vertical-align: middle;\n",
       "  width: 1em;\n",
       "  height: 1.5em !important;\n",
       "  stroke-width: 0;\n",
       "  stroke: currentColor;\n",
       "  fill: currentColor;\n",
       "}\n",
       "</style><pre class='xr-text-repr-fallback'>&lt;xarray.Dataset&gt;\n",
       "Dimensions:  (time: 24, lon: 121, lat: 81, member: 25, step: 3)\n",
       "Coordinates:\n",
       "  * time     (time) datetime64[ns] 1993-03-01 1994-03-01 ... 2016-03-01\n",
       "  * lon      (lon) float32 120.0 121.0 122.0 123.0 ... 237.0 238.0 239.0 240.0\n",
       "  * lat      (lat) float32 -50.0 -49.0 -48.0 -47.0 -46.0 ... 27.0 28.0 29.0 30.0\n",
       "  * member   (member) int32 0 1 2 3 4 5 6 7 8 9 ... 16 17 18 19 20 21 22 23 24\n",
       "  * step     (step) int64 3 4 5\n",
       "Data variables:\n",
       "    precip   (time, step, member, lat, lon) float64 dask.array&lt;chunksize=(24, 1, 25, 10, 10), meta=np.ndarray&gt;\n",
       "Attributes:\n",
       "    Conventions:  CF-1.6\n",
       "    history:      2022-01-18 03:46:22 GMT by grib_to_netcdf-2.23.0: /opt/ecmw...</pre><div class='xr-wrap' style='display:none'><div class='xr-header'><div class='xr-obj-type'>xarray.Dataset</div></div><ul class='xr-sections'><li class='xr-section-item'><input id='section-ad869a4d-11b1-4689-9270-4cb6ab4b11a9' class='xr-section-summary-in' type='checkbox' disabled ><label for='section-ad869a4d-11b1-4689-9270-4cb6ab4b11a9' class='xr-section-summary'  title='Expand/collapse section'>Dimensions:</label><div class='xr-section-inline-details'><ul class='xr-dim-list'><li><span class='xr-has-index'>time</span>: 24</li><li><span class='xr-has-index'>lon</span>: 121</li><li><span class='xr-has-index'>lat</span>: 81</li><li><span class='xr-has-index'>member</span>: 25</li><li><span class='xr-has-index'>step</span>: 3</li></ul></div><div class='xr-section-details'></div></li><li class='xr-section-item'><input id='section-629fd7ca-45c9-4174-9028-97d6759f03a1' class='xr-section-summary-in' type='checkbox'  checked><label for='section-629fd7ca-45c9-4174-9028-97d6759f03a1' class='xr-section-summary' >Coordinates: <span>(5)</span></label><div class='xr-section-inline-details'></div><div class='xr-section-details'><ul class='xr-var-list'><li class='xr-var-item'><div class='xr-var-name'><span class='xr-has-index'>time</span></div><div class='xr-var-dims'>(time)</div><div class='xr-var-dtype'>datetime64[ns]</div><div class='xr-var-preview xr-preview'>1993-03-01 ... 2016-03-01</div><input id='attrs-f19969af-094d-42a5-823d-7daae11d4c32' class='xr-var-attrs-in' type='checkbox' disabled><label for='attrs-f19969af-094d-42a5-823d-7daae11d4c32' title='Show/Hide attributes'><svg class='icon xr-icon-file-text2'><use xlink:href='#icon-file-text2'></use></svg></label><input id='data-a2837396-c827-4fa8-ae21-aebc1458be25' class='xr-var-data-in' type='checkbox'><label for='data-a2837396-c827-4fa8-ae21-aebc1458be25' title='Show/Hide data repr'><svg class='icon xr-icon-database'><use xlink:href='#icon-database'></use></svg></label><div class='xr-var-attrs'><dl class='xr-attrs'></dl></div><div class='xr-var-data'><pre>array([&#x27;1993-03-01T00:00:00.000000000&#x27;, &#x27;1994-03-01T00:00:00.000000000&#x27;,\n",
       "       &#x27;1995-03-01T00:00:00.000000000&#x27;, &#x27;1996-03-01T00:00:00.000000000&#x27;,\n",
       "       &#x27;1997-03-01T00:00:00.000000000&#x27;, &#x27;1998-03-01T00:00:00.000000000&#x27;,\n",
       "       &#x27;1999-03-01T00:00:00.000000000&#x27;, &#x27;2000-03-01T00:00:00.000000000&#x27;,\n",
       "       &#x27;2001-03-01T00:00:00.000000000&#x27;, &#x27;2002-03-01T00:00:00.000000000&#x27;,\n",
       "       &#x27;2003-03-01T00:00:00.000000000&#x27;, &#x27;2004-03-01T00:00:00.000000000&#x27;,\n",
       "       &#x27;2005-03-01T00:00:00.000000000&#x27;, &#x27;2006-03-01T00:00:00.000000000&#x27;,\n",
       "       &#x27;2007-03-01T00:00:00.000000000&#x27;, &#x27;2008-03-01T00:00:00.000000000&#x27;,\n",
       "       &#x27;2009-03-01T00:00:00.000000000&#x27;, &#x27;2010-03-01T00:00:00.000000000&#x27;,\n",
       "       &#x27;2011-03-01T00:00:00.000000000&#x27;, &#x27;2012-03-01T00:00:00.000000000&#x27;,\n",
       "       &#x27;2013-03-01T00:00:00.000000000&#x27;, &#x27;2014-03-01T00:00:00.000000000&#x27;,\n",
       "       &#x27;2015-03-01T00:00:00.000000000&#x27;, &#x27;2016-03-01T00:00:00.000000000&#x27;],\n",
       "      dtype=&#x27;datetime64[ns]&#x27;)</pre></div></li><li class='xr-var-item'><div class='xr-var-name'><span class='xr-has-index'>lon</span></div><div class='xr-var-dims'>(lon)</div><div class='xr-var-dtype'>float32</div><div class='xr-var-preview xr-preview'>120.0 121.0 122.0 ... 239.0 240.0</div><input id='attrs-283f2a15-efd9-465b-8a17-b76c915a59f0' class='xr-var-attrs-in' type='checkbox' ><label for='attrs-283f2a15-efd9-465b-8a17-b76c915a59f0' title='Show/Hide attributes'><svg class='icon xr-icon-file-text2'><use xlink:href='#icon-file-text2'></use></svg></label><input id='data-6b0ca747-3672-45d8-b025-1872967fba0f' class='xr-var-data-in' type='checkbox'><label for='data-6b0ca747-3672-45d8-b025-1872967fba0f' title='Show/Hide data repr'><svg class='icon xr-icon-database'><use xlink:href='#icon-database'></use></svg></label><div class='xr-var-attrs'><dl class='xr-attrs'><dt><span>units :</span></dt><dd>degrees_east</dd><dt><span>long_name :</span></dt><dd>longitude</dd></dl></div><div class='xr-var-data'><pre>array([120., 121., 122., 123., 124., 125., 126., 127., 128., 129., 130., 131.,\n",
       "       132., 133., 134., 135., 136., 137., 138., 139., 140., 141., 142., 143.,\n",
       "       144., 145., 146., 147., 148., 149., 150., 151., 152., 153., 154., 155.,\n",
       "       156., 157., 158., 159., 160., 161., 162., 163., 164., 165., 166., 167.,\n",
       "       168., 169., 170., 171., 172., 173., 174., 175., 176., 177., 178., 179.,\n",
       "       180., 181., 182., 183., 184., 185., 186., 187., 188., 189., 190., 191.,\n",
       "       192., 193., 194., 195., 196., 197., 198., 199., 200., 201., 202., 203.,\n",
       "       204., 205., 206., 207., 208., 209., 210., 211., 212., 213., 214., 215.,\n",
       "       216., 217., 218., 219., 220., 221., 222., 223., 224., 225., 226., 227.,\n",
       "       228., 229., 230., 231., 232., 233., 234., 235., 236., 237., 238., 239.,\n",
       "       240.], dtype=float32)</pre></div></li><li class='xr-var-item'><div class='xr-var-name'><span class='xr-has-index'>lat</span></div><div class='xr-var-dims'>(lat)</div><div class='xr-var-dtype'>float32</div><div class='xr-var-preview xr-preview'>-50.0 -49.0 -48.0 ... 29.0 30.0</div><input id='attrs-38b370c4-69a5-4994-b901-b2e2e9212ec1' class='xr-var-attrs-in' type='checkbox' ><label for='attrs-38b370c4-69a5-4994-b901-b2e2e9212ec1' title='Show/Hide attributes'><svg class='icon xr-icon-file-text2'><use xlink:href='#icon-file-text2'></use></svg></label><input id='data-8e4c1725-44de-4463-9f5b-52b3e413c3cd' class='xr-var-data-in' type='checkbox'><label for='data-8e4c1725-44de-4463-9f5b-52b3e413c3cd' title='Show/Hide data repr'><svg class='icon xr-icon-database'><use xlink:href='#icon-database'></use></svg></label><div class='xr-var-attrs'><dl class='xr-attrs'><dt><span>units :</span></dt><dd>degrees_north</dd><dt><span>long_name :</span></dt><dd>latitude</dd></dl></div><div class='xr-var-data'><pre>array([-50., -49., -48., -47., -46., -45., -44., -43., -42., -41., -40., -39.,\n",
       "       -38., -37., -36., -35., -34., -33., -32., -31., -30., -29., -28., -27.,\n",
       "       -26., -25., -24., -23., -22., -21., -20., -19., -18., -17., -16., -15.,\n",
       "       -14., -13., -12., -11., -10.,  -9.,  -8.,  -7.,  -6.,  -5.,  -4.,  -3.,\n",
       "        -2.,  -1.,   0.,   1.,   2.,   3.,   4.,   5.,   6.,   7.,   8.,   9.,\n",
       "        10.,  11.,  12.,  13.,  14.,  15.,  16.,  17.,  18.,  19.,  20.,  21.,\n",
       "        22.,  23.,  24.,  25.,  26.,  27.,  28.,  29.,  30.], dtype=float32)</pre></div></li><li class='xr-var-item'><div class='xr-var-name'><span class='xr-has-index'>member</span></div><div class='xr-var-dims'>(member)</div><div class='xr-var-dtype'>int32</div><div class='xr-var-preview xr-preview'>0 1 2 3 4 5 6 ... 19 20 21 22 23 24</div><input id='attrs-1ee69de5-8fdb-49f6-b999-7b30a84ba27c' class='xr-var-attrs-in' type='checkbox' ><label for='attrs-1ee69de5-8fdb-49f6-b999-7b30a84ba27c' title='Show/Hide attributes'><svg class='icon xr-icon-file-text2'><use xlink:href='#icon-file-text2'></use></svg></label><input id='data-1a0b21b5-633a-4b9f-9465-22e876d0fc3b' class='xr-var-data-in' type='checkbox'><label for='data-1a0b21b5-633a-4b9f-9465-22e876d0fc3b' title='Show/Hide data repr'><svg class='icon xr-icon-database'><use xlink:href='#icon-database'></use></svg></label><div class='xr-var-attrs'><dl class='xr-attrs'><dt><span>long_name :</span></dt><dd>ensemble_member</dd></dl></div><div class='xr-var-data'><pre>array([ 0,  1,  2,  3,  4,  5,  6,  7,  8,  9, 10, 11, 12, 13, 14, 15, 16, 17,\n",
       "       18, 19, 20, 21, 22, 23, 24], dtype=int32)</pre></div></li><li class='xr-var-item'><div class='xr-var-name'><span class='xr-has-index'>step</span></div><div class='xr-var-dims'>(step)</div><div class='xr-var-dtype'>int64</div><div class='xr-var-preview xr-preview'>3 4 5</div><input id='attrs-7dad44a2-d69b-4a65-96f6-9439f3a76df5' class='xr-var-attrs-in' type='checkbox' disabled><label for='attrs-7dad44a2-d69b-4a65-96f6-9439f3a76df5' title='Show/Hide attributes'><svg class='icon xr-icon-file-text2'><use xlink:href='#icon-file-text2'></use></svg></label><input id='data-1c416d0b-2138-4320-8923-312b830df2c2' class='xr-var-data-in' type='checkbox'><label for='data-1c416d0b-2138-4320-8923-312b830df2c2' title='Show/Hide data repr'><svg class='icon xr-icon-database'><use xlink:href='#icon-database'></use></svg></label><div class='xr-var-attrs'><dl class='xr-attrs'></dl></div><div class='xr-var-data'><pre>array([3, 4, 5])</pre></div></li></ul></div></li><li class='xr-section-item'><input id='section-7651c1c4-4843-4a7f-b617-27785b00ce5e' class='xr-section-summary-in' type='checkbox'  checked><label for='section-7651c1c4-4843-4a7f-b617-27785b00ce5e' class='xr-section-summary' >Data variables: <span>(1)</span></label><div class='xr-section-inline-details'></div><div class='xr-section-details'><ul class='xr-var-list'><li class='xr-var-item'><div class='xr-var-name'><span>precip</span></div><div class='xr-var-dims'>(time, step, member, lat, lon)</div><div class='xr-var-dtype'>float64</div><div class='xr-var-preview xr-preview'>dask.array&lt;chunksize=(24, 1, 25, 10, 10), meta=np.ndarray&gt;</div><input id='attrs-aab0710c-7c8d-4353-9b32-f16d469a46e2' class='xr-var-attrs-in' type='checkbox' ><label for='attrs-aab0710c-7c8d-4353-9b32-f16d469a46e2' title='Show/Hide attributes'><svg class='icon xr-icon-file-text2'><use xlink:href='#icon-file-text2'></use></svg></label><input id='data-ad48b40b-7f43-4c25-8ffa-18c56df3ee89' class='xr-var-data-in' type='checkbox'><label for='data-ad48b40b-7f43-4c25-8ffa-18c56df3ee89' title='Show/Hide data repr'><svg class='icon xr-icon-database'><use xlink:href='#icon-database'></use></svg></label><div class='xr-var-attrs'><dl class='xr-attrs'><dt><span>units :</span></dt><dd>mm/month</dd></dl></div><div class='xr-var-data'><table>\n",
       "    <tr>\n",
       "        <td>\n",
       "            <table>\n",
       "                <thead>\n",
       "                    <tr>\n",
       "                        <td> </td>\n",
       "                        <th> Array </th>\n",
       "                        <th> Chunk </th>\n",
       "                    </tr>\n",
       "                </thead>\n",
       "                <tbody>\n",
       "                    \n",
       "                    <tr>\n",
       "                        <th> Bytes </th>\n",
       "                        <td> 134.60 MiB </td>\n",
       "                        <td> 468.75 kiB </td>\n",
       "                    </tr>\n",
       "                    \n",
       "                    <tr>\n",
       "                        <th> Shape </th>\n",
       "                        <td> (24, 3, 25, 81, 121) </td>\n",
       "                        <td> (24, 1, 25, 10, 10) </td>\n",
       "                    </tr>\n",
       "                    <tr>\n",
       "                        <th> Count </th>\n",
       "                        <td> 2038 Tasks </td>\n",
       "                        <td> 351 Chunks </td>\n",
       "                    </tr>\n",
       "                    <tr>\n",
       "                    <th> Type </th>\n",
       "                    <td> float64 </td>\n",
       "                    <td> numpy.ndarray </td>\n",
       "                    </tr>\n",
       "                </tbody>\n",
       "            </table>\n",
       "        </td>\n",
       "        <td>\n",
       "        <svg width=\"394\" height=\"155\" style=\"stroke:rgb(0,0,0);stroke-width:1\" >\n",
       "\n",
       "  <!-- Horizontal lines -->\n",
       "  <line x1=\"0\" y1=\"0\" x2=\"30\" y2=\"0\" style=\"stroke-width:2\" />\n",
       "  <line x1=\"0\" y1=\"41\" x2=\"30\" y2=\"41\" style=\"stroke-width:2\" />\n",
       "\n",
       "  <!-- Vertical lines -->\n",
       "  <line x1=\"0\" y1=\"0\" x2=\"0\" y2=\"41\" style=\"stroke-width:2\" />\n",
       "  <line x1=\"10\" y1=\"0\" x2=\"10\" y2=\"41\" />\n",
       "  <line x1=\"20\" y1=\"0\" x2=\"20\" y2=\"41\" />\n",
       "  <line x1=\"30\" y1=\"0\" x2=\"30\" y2=\"41\" style=\"stroke-width:2\" />\n",
       "\n",
       "  <!-- Colored Rectangle -->\n",
       "  <polygon points=\"0.0,0.0 30.26292606701685,0.0 30.26292606701685,41.974744095238016 0.0,41.974744095238016\" style=\"fill:#ECB172A0;stroke-width:0\"/>\n",
       "\n",
       "  <!-- Text -->\n",
       "  <text x=\"15.131463\" y=\"61.974744\" font-size=\"1.0rem\" font-weight=\"100\" text-anchor=\"middle\" >3</text>\n",
       "  <text x=\"50.262926\" y=\"20.987372\" font-size=\"1.0rem\" font-weight=\"100\" text-anchor=\"middle\" transform=\"rotate(0,50.262926,20.987372)\">24</text>\n",
       "\n",
       "\n",
       "  <!-- Horizontal lines -->\n",
       "  <line x1=\"100\" y1=\"0\" x2=\"124\" y2=\"24\" style=\"stroke-width:2\" />\n",
       "  <line x1=\"100\" y1=\"9\" x2=\"124\" y2=\"34\" />\n",
       "  <line x1=\"100\" y1=\"19\" x2=\"124\" y2=\"44\" />\n",
       "  <line x1=\"100\" y1=\"29\" x2=\"124\" y2=\"54\" />\n",
       "  <line x1=\"100\" y1=\"39\" x2=\"124\" y2=\"64\" />\n",
       "  <line x1=\"100\" y1=\"49\" x2=\"124\" y2=\"74\" />\n",
       "  <line x1=\"100\" y1=\"59\" x2=\"124\" y2=\"84\" />\n",
       "  <line x1=\"100\" y1=\"69\" x2=\"124\" y2=\"94\" />\n",
       "  <line x1=\"100\" y1=\"79\" x2=\"124\" y2=\"104\" />\n",
       "  <line x1=\"100\" y1=\"80\" x2=\"124\" y2=\"105\" style=\"stroke-width:2\" />\n",
       "\n",
       "  <!-- Vertical lines -->\n",
       "  <line x1=\"100\" y1=\"0\" x2=\"100\" y2=\"80\" style=\"stroke-width:2\" />\n",
       "  <line x1=\"124\" y1=\"24\" x2=\"124\" y2=\"105\" style=\"stroke-width:2\" />\n",
       "\n",
       "  <!-- Colored Rectangle -->\n",
       "  <polygon points=\"100.0,0.0 124.79187811826725,24.791878118267245 124.79187811826725,105.12245663066395 100.0,80.3305785123967\" style=\"fill:#ECB172A0;stroke-width:0\"/>\n",
       "\n",
       "  <!-- Horizontal lines -->\n",
       "  <line x1=\"100\" y1=\"0\" x2=\"220\" y2=\"0\" style=\"stroke-width:2\" />\n",
       "  <line x1=\"124\" y1=\"24\" x2=\"244\" y2=\"24\" style=\"stroke-width:2\" />\n",
       "\n",
       "  <!-- Vertical lines -->\n",
       "  <line x1=\"100\" y1=\"0\" x2=\"124\" y2=\"24\" style=\"stroke-width:2\" />\n",
       "  <line x1=\"109\" y1=\"0\" x2=\"134\" y2=\"24\" />\n",
       "  <line x1=\"119\" y1=\"0\" x2=\"144\" y2=\"24\" />\n",
       "  <line x1=\"129\" y1=\"0\" x2=\"154\" y2=\"24\" />\n",
       "  <line x1=\"139\" y1=\"0\" x2=\"164\" y2=\"24\" />\n",
       "  <line x1=\"149\" y1=\"0\" x2=\"174\" y2=\"24\" />\n",
       "  <line x1=\"159\" y1=\"0\" x2=\"184\" y2=\"24\" />\n",
       "  <line x1=\"169\" y1=\"0\" x2=\"194\" y2=\"24\" />\n",
       "  <line x1=\"179\" y1=\"0\" x2=\"204\" y2=\"24\" />\n",
       "  <line x1=\"189\" y1=\"0\" x2=\"214\" y2=\"24\" />\n",
       "  <line x1=\"199\" y1=\"0\" x2=\"223\" y2=\"24\" />\n",
       "  <line x1=\"209\" y1=\"0\" x2=\"233\" y2=\"24\" />\n",
       "  <line x1=\"219\" y1=\"0\" x2=\"243\" y2=\"24\" />\n",
       "  <line x1=\"220\" y1=\"0\" x2=\"244\" y2=\"24\" style=\"stroke-width:2\" />\n",
       "\n",
       "  <!-- Colored Rectangle -->\n",
       "  <polygon points=\"100.0,0.0 220.0,0.0 244.79187811826725,24.791878118267245 124.79187811826725,24.791878118267245\" style=\"fill:#ECB172A0;stroke-width:0\"/>\n",
       "\n",
       "  <!-- Horizontal lines -->\n",
       "  <line x1=\"124\" y1=\"24\" x2=\"244\" y2=\"24\" style=\"stroke-width:2\" />\n",
       "  <line x1=\"124\" y1=\"34\" x2=\"244\" y2=\"34\" />\n",
       "  <line x1=\"124\" y1=\"44\" x2=\"244\" y2=\"44\" />\n",
       "  <line x1=\"124\" y1=\"54\" x2=\"244\" y2=\"54\" />\n",
       "  <line x1=\"124\" y1=\"64\" x2=\"244\" y2=\"64\" />\n",
       "  <line x1=\"124\" y1=\"74\" x2=\"244\" y2=\"74\" />\n",
       "  <line x1=\"124\" y1=\"84\" x2=\"244\" y2=\"84\" />\n",
       "  <line x1=\"124\" y1=\"94\" x2=\"244\" y2=\"94\" />\n",
       "  <line x1=\"124\" y1=\"104\" x2=\"244\" y2=\"104\" />\n",
       "  <line x1=\"124\" y1=\"105\" x2=\"244\" y2=\"105\" style=\"stroke-width:2\" />\n",
       "\n",
       "  <!-- Vertical lines -->\n",
       "  <line x1=\"124\" y1=\"24\" x2=\"124\" y2=\"105\" style=\"stroke-width:2\" />\n",
       "  <line x1=\"134\" y1=\"24\" x2=\"134\" y2=\"105\" />\n",
       "  <line x1=\"144\" y1=\"24\" x2=\"144\" y2=\"105\" />\n",
       "  <line x1=\"154\" y1=\"24\" x2=\"154\" y2=\"105\" />\n",
       "  <line x1=\"164\" y1=\"24\" x2=\"164\" y2=\"105\" />\n",
       "  <line x1=\"174\" y1=\"24\" x2=\"174\" y2=\"105\" />\n",
       "  <line x1=\"184\" y1=\"24\" x2=\"184\" y2=\"105\" />\n",
       "  <line x1=\"194\" y1=\"24\" x2=\"194\" y2=\"105\" />\n",
       "  <line x1=\"204\" y1=\"24\" x2=\"204\" y2=\"105\" />\n",
       "  <line x1=\"214\" y1=\"24\" x2=\"214\" y2=\"105\" />\n",
       "  <line x1=\"223\" y1=\"24\" x2=\"223\" y2=\"105\" />\n",
       "  <line x1=\"233\" y1=\"24\" x2=\"233\" y2=\"105\" />\n",
       "  <line x1=\"243\" y1=\"24\" x2=\"243\" y2=\"105\" />\n",
       "  <line x1=\"244\" y1=\"24\" x2=\"244\" y2=\"105\" style=\"stroke-width:2\" />\n",
       "\n",
       "  <!-- Colored Rectangle -->\n",
       "  <polygon points=\"124.79187811826725,24.791878118267245 244.79187811826725,24.791878118267245 244.79187811826725,105.12245663066395 124.79187811826725,105.12245663066395\" style=\"fill:#ECB172A0;stroke-width:0\"/>\n",
       "\n",
       "  <!-- Text -->\n",
       "  <text x=\"184.791878\" y=\"125.122457\" font-size=\"1.0rem\" font-weight=\"100\" text-anchor=\"middle\" >121</text>\n",
       "  <text x=\"264.791878\" y=\"64.957167\" font-size=\"1.0rem\" font-weight=\"100\" text-anchor=\"middle\" transform=\"rotate(0,264.791878,64.957167)\">81</text>\n",
       "  <text x=\"102.395939\" y=\"112.726518\" font-size=\"1.0rem\" font-weight=\"100\" text-anchor=\"middle\" transform=\"rotate(45,102.395939,112.726518)\">25</text>\n",
       "</svg>\n",
       "        </td>\n",
       "    </tr>\n",
       "</table></div></li></ul></div></li><li class='xr-section-item'><input id='section-993dd91c-ab15-4fc6-ab8d-b0afb8851092' class='xr-section-summary-in' type='checkbox'  checked><label for='section-993dd91c-ab15-4fc6-ab8d-b0afb8851092' class='xr-section-summary' >Attributes: <span>(2)</span></label><div class='xr-section-inline-details'></div><div class='xr-section-details'><dl class='xr-attrs'><dt><span>Conventions :</span></dt><dd>CF-1.6</dd><dt><span>history :</span></dt><dd>2022-01-18 03:46:22 GMT by grib_to_netcdf-2.23.0: /opt/ecmwf/mars-client/bin/grib_to_netcdf -S param -o /cache/data3/adaptor.mars.external-1642477582.4384263-29173-8-51e60622-d516-46d3-932b-fb45da88c9be.nc /cache/tmp/51e60622-d516-46d3-932b-fb45da88c9be-adaptor.mars.external-1642477578.4382644-29173-15-tmp.grib</dd></dl></div></li></ul></div></div>"
      ],
      "text/plain": [
       "<xarray.Dataset>\n",
       "Dimensions:  (time: 24, lon: 121, lat: 81, member: 25, step: 3)\n",
       "Coordinates:\n",
       "  * time     (time) datetime64[ns] 1993-03-01 1994-03-01 ... 2016-03-01\n",
       "  * lon      (lon) float32 120.0 121.0 122.0 123.0 ... 237.0 238.0 239.0 240.0\n",
       "  * lat      (lat) float32 -50.0 -49.0 -48.0 -47.0 -46.0 ... 27.0 28.0 29.0 30.0\n",
       "  * member   (member) int32 0 1 2 3 4 5 6 7 8 9 ... 16 17 18 19 20 21 22 23 24\n",
       "  * step     (step) int64 3 4 5\n",
       "Data variables:\n",
       "    precip   (time, step, member, lat, lon) float64 dask.array<chunksize=(24, 1, 25, 10, 10), meta=np.ndarray>\n",
       "Attributes:\n",
       "    Conventions:  CF-1.6\n",
       "    history:      2022-01-18 03:46:22 GMT by grib_to_netcdf-2.23.0: /opt/ecmw..."
      ]
     },
     "execution_count": 73,
     "metadata": {},
     "output_type": "execute_result"
    }
   ],
   "source": [
    "dset"
   ]
  },
  {
   "cell_type": "markdown",
   "id": "13ed01c1-f131-496e-b26b-ed795cc0e632",
   "metadata": {
    "papermill": {
     "duration": 0.036145,
     "end_time": "2022-03-13T22:39:33.663963",
     "exception": false,
     "start_time": "2022-03-13T22:39:33.627818",
     "status": "completed"
    },
    "tags": []
   },
   "source": [
    "### uncomment the following for visual inspection of the hindcasts "
   ]
  },
  {
   "cell_type": "code",
   "execution_count": 74,
   "id": "14ecb4f9-ff39-483b-9221-58be9ac10a79",
   "metadata": {
    "papermill": {
     "duration": 0.057758,
     "end_time": "2022-03-13T22:39:33.772675",
     "exception": false,
     "start_time": "2022-03-13T22:39:33.714917",
     "status": "completed"
    },
    "tags": []
   },
   "outputs": [],
   "source": [
    "# for t in range(24): \n",
    "#     for s in range(5): \n",
    "#         fg = dset.isel(time=t, step=s)['precip'].plot(vmax=1000., col='member', col_wrap=5)\n",
    "#         fg.fig.savefig(f'./tmp/JMA_hindcast_t_{t}_s_{s}.png', dpi=200, bbox_inches='tight', facecolor='w')\n",
    "#         plt.close(fg.fig)"
   ]
  },
  {
   "cell_type": "markdown",
   "id": "b6c38ca6-b0f1-4f3b-b742-b7a1baa5ea42",
   "metadata": {
    "papermill": {
     "duration": 0.034558,
     "end_time": "2022-03-13T22:39:33.841483",
     "exception": false,
     "start_time": "2022-03-13T22:39:33.806925",
     "status": "completed"
    },
    "tags": []
   },
   "source": [
    "### stack the time and members "
   ]
  },
  {
   "cell_type": "code",
   "execution_count": 75,
   "id": "694b4d5a-c61e-4085-a446-4ec88ece7853",
   "metadata": {
    "papermill": {
     "duration": 0.057083,
     "end_time": "2022-03-13T22:39:33.933823",
     "exception": false,
     "start_time": "2022-03-13T22:39:33.876740",
     "status": "completed"
    },
    "tags": []
   },
   "outputs": [],
   "source": [
    "clim = dset.stack(instance=('time','member'))"
   ]
  },
  {
   "cell_type": "code",
   "execution_count": 76,
   "id": "353e977d-10d0-416f-8bf4-fc91e64f5f19",
   "metadata": {
    "papermill": {
     "duration": 0.448195,
     "end_time": "2022-03-13T22:39:34.416223",
     "exception": false,
     "start_time": "2022-03-13T22:39:33.968028",
     "status": "completed"
    },
    "tags": []
   },
   "outputs": [
    {
     "name": "stdout",
     "output_type": "stream",
     "text": [
      "The seasonal hindcast climatologies from month 3 in ECMWF will be calculated using 600 instances\n",
      "\n"
     ]
    }
   ],
   "source": [
    "# drop the eventual missing instances (due to sometimes inconsistent number of members)\n",
    "clim = clim.dropna(dim='instance')\n",
    "\n",
    "# rechunk so that we have a continuous instance dimension \n",
    "clim = clim.chunk({'instance':-1})\n",
    "\n",
    "# number of instances for the calculation of the quantiles climatologies, will be added to the dataset for record-keeping \n",
    "n_instances = len(clim['instance'])\n",
    "\n",
    "# print \n",
    "print(f\"The {period} hindcast climatologies from month {initial_month} in {GCM} will be calculated using {n_instances} instances\\n\")\n",
    "\n",
    "# now loop over the quantiles dictionnary, calculates the climatological quantiles, do some \n",
    "# data munging, and saves to disk \n"
   ]
  },
  {
   "cell_type": "code",
   "execution_count": 77,
   "id": "bf9027d9-2079-468f-a496-e1540fb7b9a9",
   "metadata": {
    "papermill": {
     "duration": 21.520042,
     "end_time": "2022-03-13T22:39:55.971362",
     "exception": false,
     "start_time": "2022-03-13T22:39:34.451320",
     "status": "completed"
    },
    "tags": []
   },
   "outputs": [
    {
     "name": "stdout",
     "output_type": "stream",
     "text": [
      "tercile climatology\n",
      "\n",
      "[########################################] | 100% Completed |  5.5s\n",
      "Successfully saved /media/nicolasf/END19101/ICU/data/CDS/operational/hindcasts/CLIMATOLOGY/ECMWF/ECMWF_seasonal_tercile_climatology_03.netcdf\n",
      "\n",
      "decile climatology\n",
      "\n",
      "[########################################] | 100% Completed |  5.6s\n",
      "Successfully saved /media/nicolasf/END19101/ICU/data/CDS/operational/hindcasts/CLIMATOLOGY/ECMWF/ECMWF_seasonal_decile_climatology_03.netcdf\n",
      "\n",
      "quartile climatology\n",
      "\n",
      "[########################################] | 100% Completed |  5.5s\n",
      "Successfully saved /media/nicolasf/END19101/ICU/data/CDS/operational/hindcasts/CLIMATOLOGY/ECMWF/ECMWF_seasonal_quartile_climatology_03.netcdf\n",
      "\n",
      "percentile climatology\n",
      "\n",
      "[########################################] | 100% Completed |  5.7s\n",
      "Successfully saved /media/nicolasf/END19101/ICU/data/CDS/operational/hindcasts/CLIMATOLOGY/ECMWF/ECMWF_seasonal_percentile_climatology_03.netcdf\n",
      "\n"
     ]
    }
   ],
   "source": [
    "for k in dict_quantiles.keys():\n",
    "\n",
    "    print(f\"{k} climatology\\n\")\n",
    "\n",
    "    clim_quantile = clim.quantile(dict_quantiles[k], dim='instance')\n",
    "\n",
    "    # adds a `'month' dimension with coordinate `month`, for later concatenation\n",
    "    clim_quantile = clim_quantile.expand_dims({'month':[initial_month]})\n",
    "\n",
    "    # add the number of instances in the dataset for record-keeping\n",
    "    clim_quantile['n_instances'] = (('month'), [n_instances])\n",
    "\n",
    "    # now compute \n",
    "    with ProgressBar(): \n",
    "\n",
    "        clim_quantile = clim_quantile.compute() \n",
    "\n",
    "    # save to disk \n",
    "    clim_quantile.to_netcdf(clim_path.joinpath(f\"{GCM}_{period}_{k}_climatology_{initial_month:02d}.netcdf\"))\n",
    "\n",
    "    if clim_path.joinpath(f\"{GCM}_{period}_{k}_climatology_{initial_month:02d}.netcdf\").exists(): \n",
    "\n",
    "        print(f\"Successfully saved {str(clim_path.joinpath(f'{GCM}_{period}_{k}_climatology_{initial_month:02d}.netcdf'))}\\n\")\n",
    "\n",
    "        clim_quantile.close()"
   ]
  },
  {
   "cell_type": "code",
   "execution_count": null,
   "id": "89469e14-6aa3-4e51-b38b-1cb2d5c25d88",
   "metadata": {
    "papermill": {
     "duration": 0.074322,
     "end_time": "2022-03-13T22:39:56.126038",
     "exception": false,
     "start_time": "2022-03-13T22:39:56.051716",
     "status": "completed"
    },
    "tags": []
   },
   "outputs": [],
   "source": []
  }
 ],
 "metadata": {
  "kernelspec": {
   "display_name": "Python 3 (ipykernel)",
   "language": "python",
   "name": "python3"
  },
  "language_info": {
   "codemirror_mode": {
    "name": "ipython",
    "version": 3
   },
   "file_extension": ".py",
   "mimetype": "text/x-python",
   "name": "python",
   "nbconvert_exporter": "python",
   "pygments_lexer": "ipython3",
   "version": "3.9.10"
  },
  "papermill": {
   "default_parameters": {},
   "duration": 45.078891,
   "end_time": "2022-03-13T22:39:56.818691",
   "environment_variables": {},
   "exception": null,
   "input_path": "/home/nicolasf/operational/ICU/development/hotspots/code/ICU_Water_Watch/notebooks/C3S/GCMs_hindcast_climatology_ops.ipynb",
   "output_path": "/home/nicolasf/operational/ICU/development/hotspots/code/ICU_Water_Watch/notebooks/C3S/GCMs_hindcast_climatology_ops.ipynb",
   "parameters": {
    "GCM": "ECCC_GEM_NEMO",
    "lag": 0,
    "period": "seasonal"
   },
   "start_time": "2022-03-13T22:39:11.739800",
   "version": "2.3.3"
  }
 },
 "nbformat": 4,
 "nbformat_minor": 5
}
