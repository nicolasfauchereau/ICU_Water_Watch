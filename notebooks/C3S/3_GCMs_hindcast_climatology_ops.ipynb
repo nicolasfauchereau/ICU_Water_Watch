{
 "cells": [
  {
   "cell_type": "markdown",
   "id": "dc848a92-0993-4d7a-8b8c-59ee5d5e5564",
   "metadata": {
    "papermill": {
     "duration": 0.101663,
     "end_time": "2022-03-15T22:55:09.315430",
     "exception": false,
     "start_time": "2022-03-15T22:55:09.213767",
     "status": "completed"
    },
    "tags": []
   },
   "source": [
    "# calculate the leadtime-dependent climatological terciles, deciles and percentiles (0.02, then 0.05 to 0.95 with 0.05 step) from the individual GCMs' hindcast dataset (period 1993 - 2016) "
   ]
  },
  {
   "cell_type": "code",
   "execution_count": 1,
   "id": "d9e3e956-31d5-4606-b762-657a128f93dc",
   "metadata": {
    "execution": {
     "iopub.execute_input": "2022-03-15T22:55:09.367108Z",
     "iopub.status.busy": "2022-03-15T22:55:09.366748Z",
     "iopub.status.idle": "2022-03-15T22:55:09.375200Z",
     "shell.execute_reply": "2022-03-15T22:55:09.374778Z"
    },
    "papermill": {
     "duration": 0.036729,
     "end_time": "2022-03-15T22:55:09.375301",
     "exception": false,
     "start_time": "2022-03-15T22:55:09.338572",
     "status": "completed"
    },
    "tags": []
   },
   "outputs": [],
   "source": [
    "%load_ext autoreload\n",
    "%autoreload 2"
   ]
  },
  {
   "cell_type": "code",
   "execution_count": 2,
   "id": "ec7c9f73-b771-4191-9c46-eb9e2ca266ad",
   "metadata": {
    "execution": {
     "iopub.execute_input": "2022-03-15T22:55:09.424500Z",
     "iopub.status.busy": "2022-03-15T22:55:09.424125Z",
     "iopub.status.idle": "2022-03-15T22:55:11.141162Z",
     "shell.execute_reply": "2022-03-15T22:55:11.140824Z"
    },
    "papermill": {
     "duration": 1.742664,
     "end_time": "2022-03-15T22:55:11.141253",
     "exception": false,
     "start_time": "2022-03-15T22:55:09.398589",
     "status": "completed"
    },
    "tags": []
   },
   "outputs": [],
   "source": [
    "%matplotlib inline\n",
    "\n",
    "### os\n",
    "import os\n",
    "import sys\n",
    "from collections import OrderedDict\n",
    "\n",
    "### datetimes\n",
    "from datetime import datetime, timedelta\n",
    "from dateutil.relativedelta import relativedelta\n",
    "from calendar import month_name\n",
    "\n",
    "\n",
    "### scipy\n",
    "import numpy as np\n",
    "import pandas as pd\n",
    "import xarray as xr\n",
    "import geopandas as gpd\n",
    "import cartopy.crs as ccrs\n",
    "import dask\n",
    "from dask.diagnostics import ProgressBar\n",
    "from tqdm import tqdm\n",
    "\n",
    "### plotting\n",
    "from matplotlib import pyplot as plt\n",
    "import matplotlib\n",
    "import seaborn as sns\n"
   ]
  },
  {
   "cell_type": "code",
   "execution_count": 3,
   "id": "0cab9771-20cf-4302-9c84-97580f01d934",
   "metadata": {
    "execution": {
     "iopub.execute_input": "2022-03-15T22:55:11.191581Z",
     "iopub.status.busy": "2022-03-15T22:55:11.191169Z",
     "iopub.status.idle": "2022-03-15T22:55:11.206159Z",
     "shell.execute_reply": "2022-03-15T22:55:11.205820Z"
    },
    "papermill": {
     "duration": 0.041263,
     "end_time": "2022-03-15T22:55:11.206241",
     "exception": false,
     "start_time": "2022-03-15T22:55:11.164978",
     "status": "completed"
    },
    "tags": []
   },
   "outputs": [],
   "source": [
    "import pathlib\n",
    "\n",
    "HOME = pathlib.Path.home()\n",
    "CWD = pathlib.Path.cwd() "
   ]
  },
  {
   "cell_type": "code",
   "execution_count": 4,
   "id": "03b5d899-37d8-48b0-b161-3b5a67d2e116",
   "metadata": {
    "execution": {
     "iopub.execute_input": "2022-03-15T22:55:11.255815Z",
     "iopub.status.busy": "2022-03-15T22:55:11.255486Z",
     "iopub.status.idle": "2022-03-15T22:55:11.269377Z",
     "shell.execute_reply": "2022-03-15T22:55:11.269047Z"
    },
    "papermill": {
     "duration": 0.039739,
     "end_time": "2022-03-15T22:55:11.269510",
     "exception": false,
     "start_time": "2022-03-15T22:55:11.229771",
     "status": "completed"
    },
    "tags": []
   },
   "outputs": [],
   "source": [
    "sys.path.append('../../') "
   ]
  },
  {
   "cell_type": "code",
   "execution_count": 5,
   "id": "d986433d-94b5-41de-b90e-ff762bdcb9c4",
   "metadata": {
    "execution": {
     "iopub.execute_input": "2022-03-15T22:55:11.319014Z",
     "iopub.status.busy": "2022-03-15T22:55:11.318661Z",
     "iopub.status.idle": "2022-03-15T22:55:24.112943Z",
     "shell.execute_reply": "2022-03-15T22:55:24.112591Z"
    },
    "papermill": {
     "duration": 12.820005,
     "end_time": "2022-03-15T22:55:24.113026",
     "exception": false,
     "start_time": "2022-03-15T22:55:11.293021",
     "status": "completed"
    },
    "tags": []
   },
   "outputs": [],
   "source": [
    "from ICU_Water_Watch import geo, C3S, domains, plot"
   ]
  },
  {
   "cell_type": "markdown",
   "id": "949050d4-1717-4ddd-85da-23dc1cb372a5",
   "metadata": {
    "papermill": {
     "duration": 0.022809,
     "end_time": "2022-03-15T22:55:24.159655",
     "exception": false,
     "start_time": "2022-03-15T22:55:24.136846",
     "status": "completed"
    },
    "tags": []
   },
   "source": [
    "### parameters for papermill"
   ]
  },
  {
   "cell_type": "code",
   "execution_count": 6,
   "id": "86e1d7f7-b974-425c-b22d-34a9acc90b16",
   "metadata": {
    "execution": {
     "iopub.execute_input": "2022-03-15T22:55:24.208125Z",
     "iopub.status.busy": "2022-03-15T22:55:24.207785Z",
     "iopub.status.idle": "2022-03-15T22:55:24.224484Z",
     "shell.execute_reply": "2022-03-15T22:55:24.224116Z"
    },
    "papermill": {
     "duration": 0.042034,
     "end_time": "2022-03-15T22:55:24.224567",
     "exception": false,
     "start_time": "2022-03-15T22:55:24.182533",
     "status": "completed"
    },
    "tags": [
     "parameters"
    ]
   },
   "outputs": [],
   "source": [
    "provider = 'CDS' # should not change\n",
    "GCM = 'ECMWF' # should be in ['ECMWF','UKMO','METEO_FRANCE','CMCC','DWD', 'NCEP', 'JMA', 'ECCC_CanCM4i', 'ECCC_GEM_NEMO']\n",
    "varname = 'tprate' # should not change\n",
    "period = 'seasonal' # valid values: 'seasonal or 'monthly'\n",
    "# if one wants to process older forecasts \n",
    "lag = 0\n",
    "# path where to find the hindcasts / reforecasts\n",
    "gcm_path = f'/media/nicolasf/END19101/ICU/data/{provider}/operational/hindcasts'"
   ]
  },
  {
   "cell_type": "code",
   "execution_count": 7,
   "id": "d27ef939",
   "metadata": {
    "execution": {
     "iopub.execute_input": "2022-03-15T22:55:24.273795Z",
     "iopub.status.busy": "2022-03-15T22:55:24.273358Z",
     "iopub.status.idle": "2022-03-15T22:55:24.289830Z",
     "shell.execute_reply": "2022-03-15T22:55:24.290086Z"
    },
    "papermill": {
     "duration": 0.042683,
     "end_time": "2022-03-15T22:55:24.290191",
     "exception": false,
     "start_time": "2022-03-15T22:55:24.247508",
     "status": "completed"
    },
    "tags": [
     "injected-parameters"
    ]
   },
   "outputs": [],
   "source": [
    "# Parameters\n",
    "GCM = \"ECCC_GEM_NEMO\"\n",
    "period = \"seasonal\"\n"
   ]
  },
  {
   "cell_type": "markdown",
   "id": "ea904f40-803b-439c-ade7-bda5bed7ac2e",
   "metadata": {
    "papermill": {
     "duration": 0.022573,
     "end_time": "2022-03-15T22:55:24.336142",
     "exception": false,
     "start_time": "2022-03-15T22:55:24.313569",
     "status": "completed"
    },
    "tags": []
   },
   "source": [
    "### dictionnary holding quantile name and quantile values, they are passed as **lists** to avoid any numerical issues "
   ]
  },
  {
   "cell_type": "code",
   "execution_count": 8,
   "id": "6ccb7b07-f062-4ea7-9f0a-58dd9b082bba",
   "metadata": {
    "execution": {
     "iopub.execute_input": "2022-03-15T22:55:24.385300Z",
     "iopub.status.busy": "2022-03-15T22:55:24.384953Z",
     "iopub.status.idle": "2022-03-15T22:55:24.401860Z",
     "shell.execute_reply": "2022-03-15T22:55:24.401492Z"
    },
    "papermill": {
     "duration": 0.043027,
     "end_time": "2022-03-15T22:55:24.401940",
     "exception": false,
     "start_time": "2022-03-15T22:55:24.358913",
     "status": "completed"
    },
    "tags": []
   },
   "outputs": [],
   "source": [
    "dict_quantiles = OrderedDict()\n",
    "dict_quantiles['tercile'] = [0.3333, 0.6666]\n",
    "dict_quantiles['quartile'] = [0.25, 0.50, 0.75]\n",
    "dict_quantiles['decile'] = [0.1, 0.2, 0.3, 0.4, 0.5, 0.6, 0.7, 0.8, 0.9]\n",
    "dict_quantiles['percentile'] = [0.02, 0.05, 0.1 , 0.15, 0.2 , 0.25, 0.3 , 0.35, 0.4 , 0.45, 0.5 , 0.55, 0.6 , 0.65, 0.7 , 0.75, 0.8 , 0.85, 0.9 , 0.95] "
   ]
  },
  {
   "cell_type": "markdown",
   "id": "1ab179b7-6509-448c-8d32-423a1f9941a2",
   "metadata": {
    "papermill": {
     "duration": 0.022574,
     "end_time": "2022-03-15T22:55:24.447409",
     "exception": false,
     "start_time": "2022-03-15T22:55:24.424835",
     "status": "completed"
    },
    "tags": []
   },
   "source": [
    "### get today's date "
   ]
  },
  {
   "cell_type": "code",
   "execution_count": 9,
   "id": "5b4d2bc9-000e-45d5-883e-d95e95f2bfa8",
   "metadata": {
    "execution": {
     "iopub.execute_input": "2022-03-15T22:55:24.495781Z",
     "iopub.status.busy": "2022-03-15T22:55:24.495451Z",
     "iopub.status.idle": "2022-03-15T22:55:24.512195Z",
     "shell.execute_reply": "2022-03-15T22:55:24.511829Z"
    },
    "papermill": {
     "duration": 0.042228,
     "end_time": "2022-03-15T22:55:24.512280",
     "exception": false,
     "start_time": "2022-03-15T22:55:24.470052",
     "status": "completed"
    },
    "tags": []
   },
   "outputs": [],
   "source": [
    "date = datetime.utcnow()"
   ]
  },
  {
   "cell_type": "markdown",
   "id": "553b1099-d8dd-40a4-85ff-3a670669f110",
   "metadata": {
    "papermill": {
     "duration": 0.023813,
     "end_time": "2022-03-15T22:55:24.559028",
     "exception": false,
     "start_time": "2022-03-15T22:55:24.535215",
     "status": "completed"
    },
    "tags": []
   },
   "source": [
    "### apply lag "
   ]
  },
  {
   "cell_type": "code",
   "execution_count": 10,
   "id": "5703429a-ab0d-499f-85c8-e661019d0219",
   "metadata": {
    "execution": {
     "iopub.execute_input": "2022-03-15T22:55:24.609658Z",
     "iopub.status.busy": "2022-03-15T22:55:24.609267Z",
     "iopub.status.idle": "2022-03-15T22:55:24.625960Z",
     "shell.execute_reply": "2022-03-15T22:55:24.625626Z"
    },
    "papermill": {
     "duration": 0.04237,
     "end_time": "2022-03-15T22:55:24.626061",
     "exception": false,
     "start_time": "2022-03-15T22:55:24.583691",
     "status": "completed"
    },
    "tags": []
   },
   "outputs": [],
   "source": [
    "date = date - relativedelta(months=lag)"
   ]
  },
  {
   "cell_type": "code",
   "execution_count": 11,
   "id": "d8517c79-5453-44f1-ac83-112641f3badd",
   "metadata": {
    "execution": {
     "iopub.execute_input": "2022-03-15T22:55:24.674899Z",
     "iopub.status.busy": "2022-03-15T22:55:24.674553Z",
     "iopub.status.idle": "2022-03-15T22:55:24.691433Z",
     "shell.execute_reply": "2022-03-15T22:55:24.691723Z"
    },
    "papermill": {
     "duration": 0.042716,
     "end_time": "2022-03-15T22:55:24.691827",
     "exception": false,
     "start_time": "2022-03-15T22:55:24.649111",
     "status": "completed"
    },
    "tags": []
   },
   "outputs": [
    {
     "name": "stdout",
     "output_type": "stream",
     "text": [
      "will process hindcasts for March\n"
     ]
    }
   ],
   "source": [
    "print(f\"will process hindcasts for {date:%B}\")"
   ]
  },
  {
   "cell_type": "code",
   "execution_count": 12,
   "id": "a4016628-87a1-42ad-9b5a-748449057c83",
   "metadata": {
    "execution": {
     "iopub.execute_input": "2022-03-15T22:55:24.741873Z",
     "iopub.status.busy": "2022-03-15T22:55:24.741502Z",
     "iopub.status.idle": "2022-03-15T22:55:24.757510Z",
     "shell.execute_reply": "2022-03-15T22:55:24.757861Z"
    },
    "papermill": {
     "duration": 0.042449,
     "end_time": "2022-03-15T22:55:24.757967",
     "exception": false,
     "start_time": "2022-03-15T22:55:24.715518",
     "status": "completed"
    },
    "tags": []
   },
   "outputs": [],
   "source": [
    "initial_month = date.month"
   ]
  },
  {
   "cell_type": "markdown",
   "id": "e50a87c7-b682-47e8-a894-0ce0910b7065",
   "metadata": {
    "papermill": {
     "duration": 0.023496,
     "end_time": "2022-03-15T22:55:24.805198",
     "exception": false,
     "start_time": "2022-03-15T22:55:24.781702",
     "status": "completed"
    },
    "tags": []
   },
   "source": [
    "#### where to save the climatologies "
   ]
  },
  {
   "cell_type": "code",
   "execution_count": 13,
   "id": "3ab2d527-8a2a-40ec-b687-22bf27609308",
   "metadata": {
    "execution": {
     "iopub.execute_input": "2022-03-15T22:55:24.855476Z",
     "iopub.status.busy": "2022-03-15T22:55:24.855109Z",
     "iopub.status.idle": "2022-03-15T22:55:24.871459Z",
     "shell.execute_reply": "2022-03-15T22:55:24.871168Z"
    },
    "papermill": {
     "duration": 0.042586,
     "end_time": "2022-03-15T22:55:24.871543",
     "exception": false,
     "start_time": "2022-03-15T22:55:24.828957",
     "status": "completed"
    },
    "tags": []
   },
   "outputs": [],
   "source": [
    "gcm_path = pathlib.Path(gcm_path)"
   ]
  },
  {
   "cell_type": "code",
   "execution_count": 14,
   "id": "8ddb62da-ad1c-4b79-9b3b-29146d810b7d",
   "metadata": {
    "execution": {
     "iopub.execute_input": "2022-03-15T22:55:24.920683Z",
     "iopub.status.busy": "2022-03-15T22:55:24.920339Z",
     "iopub.status.idle": "2022-03-15T22:55:24.936044Z",
     "shell.execute_reply": "2022-03-15T22:55:24.935701Z"
    },
    "papermill": {
     "duration": 0.041215,
     "end_time": "2022-03-15T22:55:24.936124",
     "exception": false,
     "start_time": "2022-03-15T22:55:24.894909",
     "status": "completed"
    },
    "tags": []
   },
   "outputs": [],
   "source": [
    "dpath = gcm_path.joinpath(GCM).joinpath(varname.upper())"
   ]
  },
  {
   "cell_type": "code",
   "execution_count": 15,
   "id": "679005be-3f9c-4f2a-83de-7768c5b917d4",
   "metadata": {
    "execution": {
     "iopub.execute_input": "2022-03-15T22:55:24.985279Z",
     "iopub.status.busy": "2022-03-15T22:55:24.984940Z",
     "iopub.status.idle": "2022-03-15T22:55:25.001137Z",
     "shell.execute_reply": "2022-03-15T22:55:25.000795Z"
    },
    "papermill": {
     "duration": 0.041749,
     "end_time": "2022-03-15T22:55:25.001221",
     "exception": false,
     "start_time": "2022-03-15T22:55:24.959472",
     "status": "completed"
    },
    "tags": []
   },
   "outputs": [],
   "source": [
    "clim_path = gcm_path.joinpath(f'CLIMATOLOGY/{GCM}/{varname.upper()}')"
   ]
  },
  {
   "cell_type": "code",
   "execution_count": 16,
   "id": "a2f7f1dc-078f-4de8-90d5-6f3537a1cb0d",
   "metadata": {
    "execution": {
     "iopub.execute_input": "2022-03-15T22:55:25.051524Z",
     "iopub.status.busy": "2022-03-15T22:55:25.051193Z",
     "iopub.status.idle": "2022-03-15T22:55:25.069316Z",
     "shell.execute_reply": "2022-03-15T22:55:25.068977Z"
    },
    "papermill": {
     "duration": 0.044132,
     "end_time": "2022-03-15T22:55:25.069396",
     "exception": false,
     "start_time": "2022-03-15T22:55:25.025264",
     "status": "completed"
    },
    "tags": []
   },
   "outputs": [
    {
     "data": {
      "text/plain": [
       "PosixPath('/media/nicolasf/END19101/ICU/data/CDS/operational/hindcasts/CLIMATOLOGY/ECCC_GEM_NEMO/TPRATE')"
      ]
     },
     "execution_count": 16,
     "metadata": {},
     "output_type": "execute_result"
    }
   ],
   "source": [
    "clim_path"
   ]
  },
  {
   "cell_type": "code",
   "execution_count": 17,
   "id": "0694a8c7-3ddd-42e6-a4bb-2693457b3a01",
   "metadata": {
    "execution": {
     "iopub.execute_input": "2022-03-15T22:55:25.119645Z",
     "iopub.status.busy": "2022-03-15T22:55:25.119263Z",
     "iopub.status.idle": "2022-03-15T22:55:25.135483Z",
     "shell.execute_reply": "2022-03-15T22:55:25.135173Z"
    },
    "papermill": {
     "duration": 0.042434,
     "end_time": "2022-03-15T22:55:25.135567",
     "exception": false,
     "start_time": "2022-03-15T22:55:25.093133",
     "status": "completed"
    },
    "tags": []
   },
   "outputs": [],
   "source": [
    "if not clim_path.exists(): \n",
    "    \n",
    "    clim_path.mkdir(parents=True)"
   ]
  },
  {
   "cell_type": "markdown",
   "id": "d47e42f3-1647-4f1b-866f-501481e2dfab",
   "metadata": {
    "papermill": {
     "duration": 0.023444,
     "end_time": "2022-03-15T22:55:25.182911",
     "exception": false,
     "start_time": "2022-03-15T22:55:25.159467",
     "status": "completed"
    },
    "tags": []
   },
   "source": [
    "### get the list of files "
   ]
  },
  {
   "cell_type": "code",
   "execution_count": 18,
   "id": "56cb44c4-ab7d-4786-b4f1-1e5b73b7015d",
   "metadata": {
    "execution": {
     "iopub.execute_input": "2022-03-15T22:55:25.233466Z",
     "iopub.status.busy": "2022-03-15T22:55:25.233023Z",
     "iopub.status.idle": "2022-03-15T22:55:25.250324Z",
     "shell.execute_reply": "2022-03-15T22:55:25.250032Z"
    },
    "papermill": {
     "duration": 0.043649,
     "end_time": "2022-03-15T22:55:25.250417",
     "exception": false,
     "start_time": "2022-03-15T22:55:25.206768",
     "status": "completed"
    },
    "tags": []
   },
   "outputs": [],
   "source": [
    "if 'ECCC' in GCM: \n",
    "    lfiles = list(dpath.glob(f\"ensemble_seas_forecasts_{varname}_from_*_{initial_month:02d}_{GCM.split('_')[0]}.netcdf\"))\n",
    "else: \n",
    "    lfiles = list(dpath.glob(f\"ensemble_seas_forecasts_{varname}_from_*_{initial_month:02d}_{GCM}.netcdf\"))"
   ]
  },
  {
   "cell_type": "code",
   "execution_count": 19,
   "id": "a1e49b09-ad9d-4881-b396-a41abccb3857",
   "metadata": {
    "execution": {
     "iopub.execute_input": "2022-03-15T22:55:25.303729Z",
     "iopub.status.busy": "2022-03-15T22:55:25.303397Z",
     "iopub.status.idle": "2022-03-15T22:55:25.319618Z",
     "shell.execute_reply": "2022-03-15T22:55:25.319256Z"
    },
    "papermill": {
     "duration": 0.045333,
     "end_time": "2022-03-15T22:55:25.319700",
     "exception": false,
     "start_time": "2022-03-15T22:55:25.274367",
     "status": "completed"
    },
    "tags": []
   },
   "outputs": [],
   "source": [
    "lfiles.sort()"
   ]
  },
  {
   "cell_type": "code",
   "execution_count": 20,
   "id": "83bb26ed-7f6c-4d0f-b2b8-b66217829ec5",
   "metadata": {
    "execution": {
     "iopub.execute_input": "2022-03-15T22:55:25.369851Z",
     "iopub.status.busy": "2022-03-15T22:55:25.369456Z",
     "iopub.status.idle": "2022-03-15T22:55:25.387880Z",
     "shell.execute_reply": "2022-03-15T22:55:25.387357Z"
    },
    "papermill": {
     "duration": 0.044543,
     "end_time": "2022-03-15T22:55:25.388013",
     "exception": false,
     "start_time": "2022-03-15T22:55:25.343470",
     "status": "completed"
    },
    "tags": []
   },
   "outputs": [
    {
     "data": {
      "text/plain": [
       "[PosixPath('/media/nicolasf/END19101/ICU/data/CDS/operational/hindcasts/ECCC_GEM_NEMO/TPRATE/ensemble_seas_forecasts_tprate_from_1993_03_ECCC.netcdf'),\n",
       " PosixPath('/media/nicolasf/END19101/ICU/data/CDS/operational/hindcasts/ECCC_GEM_NEMO/TPRATE/ensemble_seas_forecasts_tprate_from_1994_03_ECCC.netcdf'),\n",
       " PosixPath('/media/nicolasf/END19101/ICU/data/CDS/operational/hindcasts/ECCC_GEM_NEMO/TPRATE/ensemble_seas_forecasts_tprate_from_1995_03_ECCC.netcdf'),\n",
       " PosixPath('/media/nicolasf/END19101/ICU/data/CDS/operational/hindcasts/ECCC_GEM_NEMO/TPRATE/ensemble_seas_forecasts_tprate_from_1996_03_ECCC.netcdf'),\n",
       " PosixPath('/media/nicolasf/END19101/ICU/data/CDS/operational/hindcasts/ECCC_GEM_NEMO/TPRATE/ensemble_seas_forecasts_tprate_from_1997_03_ECCC.netcdf'),\n",
       " PosixPath('/media/nicolasf/END19101/ICU/data/CDS/operational/hindcasts/ECCC_GEM_NEMO/TPRATE/ensemble_seas_forecasts_tprate_from_1998_03_ECCC.netcdf'),\n",
       " PosixPath('/media/nicolasf/END19101/ICU/data/CDS/operational/hindcasts/ECCC_GEM_NEMO/TPRATE/ensemble_seas_forecasts_tprate_from_1999_03_ECCC.netcdf'),\n",
       " PosixPath('/media/nicolasf/END19101/ICU/data/CDS/operational/hindcasts/ECCC_GEM_NEMO/TPRATE/ensemble_seas_forecasts_tprate_from_2000_03_ECCC.netcdf'),\n",
       " PosixPath('/media/nicolasf/END19101/ICU/data/CDS/operational/hindcasts/ECCC_GEM_NEMO/TPRATE/ensemble_seas_forecasts_tprate_from_2001_03_ECCC.netcdf'),\n",
       " PosixPath('/media/nicolasf/END19101/ICU/data/CDS/operational/hindcasts/ECCC_GEM_NEMO/TPRATE/ensemble_seas_forecasts_tprate_from_2002_03_ECCC.netcdf'),\n",
       " PosixPath('/media/nicolasf/END19101/ICU/data/CDS/operational/hindcasts/ECCC_GEM_NEMO/TPRATE/ensemble_seas_forecasts_tprate_from_2003_03_ECCC.netcdf'),\n",
       " PosixPath('/media/nicolasf/END19101/ICU/data/CDS/operational/hindcasts/ECCC_GEM_NEMO/TPRATE/ensemble_seas_forecasts_tprate_from_2004_03_ECCC.netcdf'),\n",
       " PosixPath('/media/nicolasf/END19101/ICU/data/CDS/operational/hindcasts/ECCC_GEM_NEMO/TPRATE/ensemble_seas_forecasts_tprate_from_2005_03_ECCC.netcdf'),\n",
       " PosixPath('/media/nicolasf/END19101/ICU/data/CDS/operational/hindcasts/ECCC_GEM_NEMO/TPRATE/ensemble_seas_forecasts_tprate_from_2006_03_ECCC.netcdf'),\n",
       " PosixPath('/media/nicolasf/END19101/ICU/data/CDS/operational/hindcasts/ECCC_GEM_NEMO/TPRATE/ensemble_seas_forecasts_tprate_from_2007_03_ECCC.netcdf'),\n",
       " PosixPath('/media/nicolasf/END19101/ICU/data/CDS/operational/hindcasts/ECCC_GEM_NEMO/TPRATE/ensemble_seas_forecasts_tprate_from_2008_03_ECCC.netcdf'),\n",
       " PosixPath('/media/nicolasf/END19101/ICU/data/CDS/operational/hindcasts/ECCC_GEM_NEMO/TPRATE/ensemble_seas_forecasts_tprate_from_2009_03_ECCC.netcdf'),\n",
       " PosixPath('/media/nicolasf/END19101/ICU/data/CDS/operational/hindcasts/ECCC_GEM_NEMO/TPRATE/ensemble_seas_forecasts_tprate_from_2010_03_ECCC.netcdf'),\n",
       " PosixPath('/media/nicolasf/END19101/ICU/data/CDS/operational/hindcasts/ECCC_GEM_NEMO/TPRATE/ensemble_seas_forecasts_tprate_from_2011_03_ECCC.netcdf'),\n",
       " PosixPath('/media/nicolasf/END19101/ICU/data/CDS/operational/hindcasts/ECCC_GEM_NEMO/TPRATE/ensemble_seas_forecasts_tprate_from_2012_03_ECCC.netcdf'),\n",
       " PosixPath('/media/nicolasf/END19101/ICU/data/CDS/operational/hindcasts/ECCC_GEM_NEMO/TPRATE/ensemble_seas_forecasts_tprate_from_2013_03_ECCC.netcdf'),\n",
       " PosixPath('/media/nicolasf/END19101/ICU/data/CDS/operational/hindcasts/ECCC_GEM_NEMO/TPRATE/ensemble_seas_forecasts_tprate_from_2014_03_ECCC.netcdf'),\n",
       " PosixPath('/media/nicolasf/END19101/ICU/data/CDS/operational/hindcasts/ECCC_GEM_NEMO/TPRATE/ensemble_seas_forecasts_tprate_from_2015_03_ECCC.netcdf'),\n",
       " PosixPath('/media/nicolasf/END19101/ICU/data/CDS/operational/hindcasts/ECCC_GEM_NEMO/TPRATE/ensemble_seas_forecasts_tprate_from_2016_03_ECCC.netcdf')]"
      ]
     },
     "execution_count": 20,
     "metadata": {},
     "output_type": "execute_result"
    }
   ],
   "source": [
    "lfiles"
   ]
  },
  {
   "cell_type": "code",
   "execution_count": 21,
   "id": "0ea663ad-65eb-4523-af55-34cec14aee5c",
   "metadata": {
    "execution": {
     "iopub.execute_input": "2022-03-15T22:55:25.444399Z",
     "iopub.status.busy": "2022-03-15T22:55:25.444052Z",
     "iopub.status.idle": "2022-03-15T22:55:25.461608Z",
     "shell.execute_reply": "2022-03-15T22:55:25.461263Z"
    },
    "papermill": {
     "duration": 0.044181,
     "end_time": "2022-03-15T22:55:25.461690",
     "exception": false,
     "start_time": "2022-03-15T22:55:25.417509",
     "status": "completed"
    },
    "tags": []
   },
   "outputs": [
    {
     "data": {
      "text/plain": [
       "PosixPath('/media/nicolasf/END19101/ICU/data/CDS/operational/hindcasts/ECCC_GEM_NEMO/TPRATE/ensemble_seas_forecasts_tprate_from_1993_03_ECCC.netcdf')"
      ]
     },
     "execution_count": 21,
     "metadata": {},
     "output_type": "execute_result"
    }
   ],
   "source": [
    "lfiles[0]"
   ]
  },
  {
   "cell_type": "code",
   "execution_count": 22,
   "id": "f05cb729-d357-4ffc-a0d7-f05e84c4edb3",
   "metadata": {
    "execution": {
     "iopub.execute_input": "2022-03-15T22:55:25.511857Z",
     "iopub.status.busy": "2022-03-15T22:55:25.511509Z",
     "iopub.status.idle": "2022-03-15T22:55:25.529470Z",
     "shell.execute_reply": "2022-03-15T22:55:25.529115Z"
    },
    "papermill": {
     "duration": 0.044149,
     "end_time": "2022-03-15T22:55:25.529553",
     "exception": false,
     "start_time": "2022-03-15T22:55:25.485404",
     "status": "completed"
    },
    "tags": []
   },
   "outputs": [
    {
     "data": {
      "text/plain": [
       "PosixPath('/media/nicolasf/END19101/ICU/data/CDS/operational/hindcasts/ECCC_GEM_NEMO/TPRATE/ensemble_seas_forecasts_tprate_from_2016_03_ECCC.netcdf')"
      ]
     },
     "execution_count": 22,
     "metadata": {},
     "output_type": "execute_result"
    }
   ],
   "source": [
    "lfiles[-1]"
   ]
  },
  {
   "cell_type": "code",
   "execution_count": 23,
   "id": "9f8ec547-7d72-4cf7-ac6a-ef68a1013548",
   "metadata": {
    "execution": {
     "iopub.execute_input": "2022-03-15T22:55:25.579919Z",
     "iopub.status.busy": "2022-03-15T22:55:25.579578Z",
     "iopub.status.idle": "2022-03-15T22:55:25.596703Z",
     "shell.execute_reply": "2022-03-15T22:55:25.596394Z"
    },
    "papermill": {
     "duration": 0.043098,
     "end_time": "2022-03-15T22:55:25.596783",
     "exception": false,
     "start_time": "2022-03-15T22:55:25.553685",
     "status": "completed"
    },
    "tags": []
   },
   "outputs": [
    {
     "data": {
      "text/plain": [
       "24"
      ]
     },
     "execution_count": 23,
     "metadata": {},
     "output_type": "execute_result"
    }
   ],
   "source": [
    "len(lfiles)"
   ]
  },
  {
   "cell_type": "markdown",
   "id": "a2e165d4-9d23-469b-9085-3aa4f0280eac",
   "metadata": {
    "papermill": {
     "duration": 0.023828,
     "end_time": "2022-03-15T22:55:25.644905",
     "exception": false,
     "start_time": "2022-03-15T22:55:25.621077",
     "status": "completed"
    },
    "tags": []
   },
   "source": [
    "### open the multiple files dataset, concatenating over the time dimension, and preprocessing "
   ]
  },
  {
   "cell_type": "code",
   "execution_count": 24,
   "id": "4c877a5a-60b4-44f0-8b3f-e9e1205f20d3",
   "metadata": {
    "execution": {
     "iopub.execute_input": "2022-03-15T22:55:25.695637Z",
     "iopub.status.busy": "2022-03-15T22:55:25.695301Z",
     "iopub.status.idle": "2022-03-15T22:55:28.006736Z",
     "shell.execute_reply": "2022-03-15T22:55:28.006367Z"
    },
    "papermill": {
     "duration": 2.337735,
     "end_time": "2022-03-15T22:55:28.006821",
     "exception": false,
     "start_time": "2022-03-15T22:55:25.669086",
     "status": "completed"
    },
    "tags": []
   },
   "outputs": [],
   "source": [
    "dset = xr.open_mfdataset(lfiles, preprocess=C3S.preprocess_GCM, parallel=True, engine='netcdf4')"
   ]
  },
  {
   "cell_type": "code",
   "execution_count": 25,
   "id": "b7afaa16-4579-4ce1-8c9e-aa2da451b518",
   "metadata": {
    "execution": {
     "iopub.execute_input": "2022-03-15T22:55:28.059353Z",
     "iopub.status.busy": "2022-03-15T22:55:28.058987Z",
     "iopub.status.idle": "2022-03-15T22:55:28.093086Z",
     "shell.execute_reply": "2022-03-15T22:55:28.092801Z"
    },
    "papermill": {
     "duration": 0.061479,
     "end_time": "2022-03-15T22:55:28.093170",
     "exception": false,
     "start_time": "2022-03-15T22:55:28.031691",
     "status": "completed"
    },
    "tags": []
   },
   "outputs": [
    {
     "data": {
      "text/html": [
       "<div><svg style=\"position: absolute; width: 0; height: 0; overflow: hidden\">\n",
       "<defs>\n",
       "<symbol id=\"icon-database\" viewBox=\"0 0 32 32\">\n",
       "<path d=\"M16 0c-8.837 0-16 2.239-16 5v4c0 2.761 7.163 5 16 5s16-2.239 16-5v-4c0-2.761-7.163-5-16-5z\"></path>\n",
       "<path d=\"M16 17c-8.837 0-16-2.239-16-5v6c0 2.761 7.163 5 16 5s16-2.239 16-5v-6c0 2.761-7.163 5-16 5z\"></path>\n",
       "<path d=\"M16 26c-8.837 0-16-2.239-16-5v6c0 2.761 7.163 5 16 5s16-2.239 16-5v-6c0 2.761-7.163 5-16 5z\"></path>\n",
       "</symbol>\n",
       "<symbol id=\"icon-file-text2\" viewBox=\"0 0 32 32\">\n",
       "<path d=\"M28.681 7.159c-0.694-0.947-1.662-2.053-2.724-3.116s-2.169-2.030-3.116-2.724c-1.612-1.182-2.393-1.319-2.841-1.319h-15.5c-1.378 0-2.5 1.121-2.5 2.5v27c0 1.378 1.122 2.5 2.5 2.5h23c1.378 0 2.5-1.122 2.5-2.5v-19.5c0-0.448-0.137-1.23-1.319-2.841zM24.543 5.457c0.959 0.959 1.712 1.825 2.268 2.543h-4.811v-4.811c0.718 0.556 1.584 1.309 2.543 2.268zM28 29.5c0 0.271-0.229 0.5-0.5 0.5h-23c-0.271 0-0.5-0.229-0.5-0.5v-27c0-0.271 0.229-0.5 0.5-0.5 0 0 15.499-0 15.5 0v7c0 0.552 0.448 1 1 1h7v19.5z\"></path>\n",
       "<path d=\"M23 26h-14c-0.552 0-1-0.448-1-1s0.448-1 1-1h14c0.552 0 1 0.448 1 1s-0.448 1-1 1z\"></path>\n",
       "<path d=\"M23 22h-14c-0.552 0-1-0.448-1-1s0.448-1 1-1h14c0.552 0 1 0.448 1 1s-0.448 1-1 1z\"></path>\n",
       "<path d=\"M23 18h-14c-0.552 0-1-0.448-1-1s0.448-1 1-1h14c0.552 0 1 0.448 1 1s-0.448 1-1 1z\"></path>\n",
       "</symbol>\n",
       "</defs>\n",
       "</svg>\n",
       "<style>/* CSS stylesheet for displaying xarray objects in jupyterlab.\n",
       " *\n",
       " */\n",
       "\n",
       ":root {\n",
       "  --xr-font-color0: var(--jp-content-font-color0, rgba(0, 0, 0, 1));\n",
       "  --xr-font-color2: var(--jp-content-font-color2, rgba(0, 0, 0, 0.54));\n",
       "  --xr-font-color3: var(--jp-content-font-color3, rgba(0, 0, 0, 0.38));\n",
       "  --xr-border-color: var(--jp-border-color2, #e0e0e0);\n",
       "  --xr-disabled-color: var(--jp-layout-color3, #bdbdbd);\n",
       "  --xr-background-color: var(--jp-layout-color0, white);\n",
       "  --xr-background-color-row-even: var(--jp-layout-color1, white);\n",
       "  --xr-background-color-row-odd: var(--jp-layout-color2, #eeeeee);\n",
       "}\n",
       "\n",
       "html[theme=dark],\n",
       "body.vscode-dark {\n",
       "  --xr-font-color0: rgba(255, 255, 255, 1);\n",
       "  --xr-font-color2: rgba(255, 255, 255, 0.54);\n",
       "  --xr-font-color3: rgba(255, 255, 255, 0.38);\n",
       "  --xr-border-color: #1F1F1F;\n",
       "  --xr-disabled-color: #515151;\n",
       "  --xr-background-color: #111111;\n",
       "  --xr-background-color-row-even: #111111;\n",
       "  --xr-background-color-row-odd: #313131;\n",
       "}\n",
       "\n",
       ".xr-wrap {\n",
       "  display: block !important;\n",
       "  min-width: 300px;\n",
       "  max-width: 700px;\n",
       "}\n",
       "\n",
       ".xr-text-repr-fallback {\n",
       "  /* fallback to plain text repr when CSS is not injected (untrusted notebook) */\n",
       "  display: none;\n",
       "}\n",
       "\n",
       ".xr-header {\n",
       "  padding-top: 6px;\n",
       "  padding-bottom: 6px;\n",
       "  margin-bottom: 4px;\n",
       "  border-bottom: solid 1px var(--xr-border-color);\n",
       "}\n",
       "\n",
       ".xr-header > div,\n",
       ".xr-header > ul {\n",
       "  display: inline;\n",
       "  margin-top: 0;\n",
       "  margin-bottom: 0;\n",
       "}\n",
       "\n",
       ".xr-obj-type,\n",
       ".xr-array-name {\n",
       "  margin-left: 2px;\n",
       "  margin-right: 10px;\n",
       "}\n",
       "\n",
       ".xr-obj-type {\n",
       "  color: var(--xr-font-color2);\n",
       "}\n",
       "\n",
       ".xr-sections {\n",
       "  padding-left: 0 !important;\n",
       "  display: grid;\n",
       "  grid-template-columns: 150px auto auto 1fr 20px 20px;\n",
       "}\n",
       "\n",
       ".xr-section-item {\n",
       "  display: contents;\n",
       "}\n",
       "\n",
       ".xr-section-item input {\n",
       "  display: none;\n",
       "}\n",
       "\n",
       ".xr-section-item input + label {\n",
       "  color: var(--xr-disabled-color);\n",
       "}\n",
       "\n",
       ".xr-section-item input:enabled + label {\n",
       "  cursor: pointer;\n",
       "  color: var(--xr-font-color2);\n",
       "}\n",
       "\n",
       ".xr-section-item input:enabled + label:hover {\n",
       "  color: var(--xr-font-color0);\n",
       "}\n",
       "\n",
       ".xr-section-summary {\n",
       "  grid-column: 1;\n",
       "  color: var(--xr-font-color2);\n",
       "  font-weight: 500;\n",
       "}\n",
       "\n",
       ".xr-section-summary > span {\n",
       "  display: inline-block;\n",
       "  padding-left: 0.5em;\n",
       "}\n",
       "\n",
       ".xr-section-summary-in:disabled + label {\n",
       "  color: var(--xr-font-color2);\n",
       "}\n",
       "\n",
       ".xr-section-summary-in + label:before {\n",
       "  display: inline-block;\n",
       "  content: '►';\n",
       "  font-size: 11px;\n",
       "  width: 15px;\n",
       "  text-align: center;\n",
       "}\n",
       "\n",
       ".xr-section-summary-in:disabled + label:before {\n",
       "  color: var(--xr-disabled-color);\n",
       "}\n",
       "\n",
       ".xr-section-summary-in:checked + label:before {\n",
       "  content: '▼';\n",
       "}\n",
       "\n",
       ".xr-section-summary-in:checked + label > span {\n",
       "  display: none;\n",
       "}\n",
       "\n",
       ".xr-section-summary,\n",
       ".xr-section-inline-details {\n",
       "  padding-top: 4px;\n",
       "  padding-bottom: 4px;\n",
       "}\n",
       "\n",
       ".xr-section-inline-details {\n",
       "  grid-column: 2 / -1;\n",
       "}\n",
       "\n",
       ".xr-section-details {\n",
       "  display: none;\n",
       "  grid-column: 1 / -1;\n",
       "  margin-bottom: 5px;\n",
       "}\n",
       "\n",
       ".xr-section-summary-in:checked ~ .xr-section-details {\n",
       "  display: contents;\n",
       "}\n",
       "\n",
       ".xr-array-wrap {\n",
       "  grid-column: 1 / -1;\n",
       "  display: grid;\n",
       "  grid-template-columns: 20px auto;\n",
       "}\n",
       "\n",
       ".xr-array-wrap > label {\n",
       "  grid-column: 1;\n",
       "  vertical-align: top;\n",
       "}\n",
       "\n",
       ".xr-preview {\n",
       "  color: var(--xr-font-color3);\n",
       "}\n",
       "\n",
       ".xr-array-preview,\n",
       ".xr-array-data {\n",
       "  padding: 0 5px !important;\n",
       "  grid-column: 2;\n",
       "}\n",
       "\n",
       ".xr-array-data,\n",
       ".xr-array-in:checked ~ .xr-array-preview {\n",
       "  display: none;\n",
       "}\n",
       "\n",
       ".xr-array-in:checked ~ .xr-array-data,\n",
       ".xr-array-preview {\n",
       "  display: inline-block;\n",
       "}\n",
       "\n",
       ".xr-dim-list {\n",
       "  display: inline-block !important;\n",
       "  list-style: none;\n",
       "  padding: 0 !important;\n",
       "  margin: 0;\n",
       "}\n",
       "\n",
       ".xr-dim-list li {\n",
       "  display: inline-block;\n",
       "  padding: 0;\n",
       "  margin: 0;\n",
       "}\n",
       "\n",
       ".xr-dim-list:before {\n",
       "  content: '(';\n",
       "}\n",
       "\n",
       ".xr-dim-list:after {\n",
       "  content: ')';\n",
       "}\n",
       "\n",
       ".xr-dim-list li:not(:last-child):after {\n",
       "  content: ',';\n",
       "  padding-right: 5px;\n",
       "}\n",
       "\n",
       ".xr-has-index {\n",
       "  font-weight: bold;\n",
       "}\n",
       "\n",
       ".xr-var-list,\n",
       ".xr-var-item {\n",
       "  display: contents;\n",
       "}\n",
       "\n",
       ".xr-var-item > div,\n",
       ".xr-var-item label,\n",
       ".xr-var-item > .xr-var-name span {\n",
       "  background-color: var(--xr-background-color-row-even);\n",
       "  margin-bottom: 0;\n",
       "}\n",
       "\n",
       ".xr-var-item > .xr-var-name:hover span {\n",
       "  padding-right: 5px;\n",
       "}\n",
       "\n",
       ".xr-var-list > li:nth-child(odd) > div,\n",
       ".xr-var-list > li:nth-child(odd) > label,\n",
       ".xr-var-list > li:nth-child(odd) > .xr-var-name span {\n",
       "  background-color: var(--xr-background-color-row-odd);\n",
       "}\n",
       "\n",
       ".xr-var-name {\n",
       "  grid-column: 1;\n",
       "}\n",
       "\n",
       ".xr-var-dims {\n",
       "  grid-column: 2;\n",
       "}\n",
       "\n",
       ".xr-var-dtype {\n",
       "  grid-column: 3;\n",
       "  text-align: right;\n",
       "  color: var(--xr-font-color2);\n",
       "}\n",
       "\n",
       ".xr-var-preview {\n",
       "  grid-column: 4;\n",
       "}\n",
       "\n",
       ".xr-var-name,\n",
       ".xr-var-dims,\n",
       ".xr-var-dtype,\n",
       ".xr-preview,\n",
       ".xr-attrs dt {\n",
       "  white-space: nowrap;\n",
       "  overflow: hidden;\n",
       "  text-overflow: ellipsis;\n",
       "  padding-right: 10px;\n",
       "}\n",
       "\n",
       ".xr-var-name:hover,\n",
       ".xr-var-dims:hover,\n",
       ".xr-var-dtype:hover,\n",
       ".xr-attrs dt:hover {\n",
       "  overflow: visible;\n",
       "  width: auto;\n",
       "  z-index: 1;\n",
       "}\n",
       "\n",
       ".xr-var-attrs,\n",
       ".xr-var-data {\n",
       "  display: none;\n",
       "  background-color: var(--xr-background-color) !important;\n",
       "  padding-bottom: 5px !important;\n",
       "}\n",
       "\n",
       ".xr-var-attrs-in:checked ~ .xr-var-attrs,\n",
       ".xr-var-data-in:checked ~ .xr-var-data {\n",
       "  display: block;\n",
       "}\n",
       "\n",
       ".xr-var-data > table {\n",
       "  float: right;\n",
       "}\n",
       "\n",
       ".xr-var-name span,\n",
       ".xr-var-data,\n",
       ".xr-attrs {\n",
       "  padding-left: 25px !important;\n",
       "}\n",
       "\n",
       ".xr-attrs,\n",
       ".xr-var-attrs,\n",
       ".xr-var-data {\n",
       "  grid-column: 1 / -1;\n",
       "}\n",
       "\n",
       "dl.xr-attrs {\n",
       "  padding: 0;\n",
       "  margin: 0;\n",
       "  display: grid;\n",
       "  grid-template-columns: 125px auto;\n",
       "}\n",
       "\n",
       ".xr-attrs dt,\n",
       ".xr-attrs dd {\n",
       "  padding: 0;\n",
       "  margin: 0;\n",
       "  float: left;\n",
       "  padding-right: 10px;\n",
       "  width: auto;\n",
       "}\n",
       "\n",
       ".xr-attrs dt {\n",
       "  font-weight: normal;\n",
       "  grid-column: 1;\n",
       "}\n",
       "\n",
       ".xr-attrs dt:hover span {\n",
       "  display: inline-block;\n",
       "  background: var(--xr-background-color);\n",
       "  padding-right: 10px;\n",
       "}\n",
       "\n",
       ".xr-attrs dd {\n",
       "  grid-column: 2;\n",
       "  white-space: pre-wrap;\n",
       "  word-break: break-all;\n",
       "}\n",
       "\n",
       ".xr-icon-database,\n",
       ".xr-icon-file-text2 {\n",
       "  display: inline-block;\n",
       "  vertical-align: middle;\n",
       "  width: 1em;\n",
       "  height: 1.5em !important;\n",
       "  stroke-width: 0;\n",
       "  stroke: currentColor;\n",
       "  fill: currentColor;\n",
       "}\n",
       "</style><pre class='xr-text-repr-fallback'>&lt;xarray.Dataset&gt;\n",
       "Dimensions:  (time: 24, lon: 121, lat: 81, member: 10, step: 5)\n",
       "Coordinates:\n",
       "  * time     (time) datetime64[ns] 1993-03-01 1994-03-01 ... 2016-03-01\n",
       "  * lon      (lon) float32 120.0 121.0 122.0 123.0 ... 237.0 238.0 239.0 240.0\n",
       "  * lat      (lat) float32 -50.0 -49.0 -48.0 -47.0 -46.0 ... 27.0 28.0 29.0 30.0\n",
       "  * member   (member) int32 0 1 2 3 4 5 6 7 8 9\n",
       "  * step     (step) int64 1 2 3 4 5\n",
       "Data variables:\n",
       "    tprate   (time, step, member, lat, lon) float32 dask.array&lt;chunksize=(1, 5, 10, 81, 121), meta=np.ndarray&gt;\n",
       "Attributes:\n",
       "    Conventions:  CF-1.6\n",
       "    history:      2022-03-13 21:51:46 GMT by grib_to_netcdf-2.24.2: /opt/ecmw...</pre><div class='xr-wrap' style='display:none'><div class='xr-header'><div class='xr-obj-type'>xarray.Dataset</div></div><ul class='xr-sections'><li class='xr-section-item'><input id='section-04e1a019-0a2e-4fca-b0b8-d898a6b37548' class='xr-section-summary-in' type='checkbox' disabled ><label for='section-04e1a019-0a2e-4fca-b0b8-d898a6b37548' class='xr-section-summary'  title='Expand/collapse section'>Dimensions:</label><div class='xr-section-inline-details'><ul class='xr-dim-list'><li><span class='xr-has-index'>time</span>: 24</li><li><span class='xr-has-index'>lon</span>: 121</li><li><span class='xr-has-index'>lat</span>: 81</li><li><span class='xr-has-index'>member</span>: 10</li><li><span class='xr-has-index'>step</span>: 5</li></ul></div><div class='xr-section-details'></div></li><li class='xr-section-item'><input id='section-b6a03ac9-e354-46a9-bada-18d5b962050f' class='xr-section-summary-in' type='checkbox'  checked><label for='section-b6a03ac9-e354-46a9-bada-18d5b962050f' class='xr-section-summary' >Coordinates: <span>(5)</span></label><div class='xr-section-inline-details'></div><div class='xr-section-details'><ul class='xr-var-list'><li class='xr-var-item'><div class='xr-var-name'><span class='xr-has-index'>time</span></div><div class='xr-var-dims'>(time)</div><div class='xr-var-dtype'>datetime64[ns]</div><div class='xr-var-preview xr-preview'>1993-03-01 ... 2016-03-01</div><input id='attrs-c03da7fb-7380-4932-8ce6-02037013a3b7' class='xr-var-attrs-in' type='checkbox' disabled><label for='attrs-c03da7fb-7380-4932-8ce6-02037013a3b7' title='Show/Hide attributes'><svg class='icon xr-icon-file-text2'><use xlink:href='#icon-file-text2'></use></svg></label><input id='data-8c9a3bd0-13b6-4066-8fb4-a288e4af5a95' class='xr-var-data-in' type='checkbox'><label for='data-8c9a3bd0-13b6-4066-8fb4-a288e4af5a95' title='Show/Hide data repr'><svg class='icon xr-icon-database'><use xlink:href='#icon-database'></use></svg></label><div class='xr-var-attrs'><dl class='xr-attrs'></dl></div><div class='xr-var-data'><pre>array([&#x27;1993-03-01T00:00:00.000000000&#x27;, &#x27;1994-03-01T00:00:00.000000000&#x27;,\n",
       "       &#x27;1995-03-01T00:00:00.000000000&#x27;, &#x27;1996-03-01T00:00:00.000000000&#x27;,\n",
       "       &#x27;1997-03-01T00:00:00.000000000&#x27;, &#x27;1998-03-01T00:00:00.000000000&#x27;,\n",
       "       &#x27;1999-03-01T00:00:00.000000000&#x27;, &#x27;2000-03-01T00:00:00.000000000&#x27;,\n",
       "       &#x27;2001-03-01T00:00:00.000000000&#x27;, &#x27;2002-03-01T00:00:00.000000000&#x27;,\n",
       "       &#x27;2003-03-01T00:00:00.000000000&#x27;, &#x27;2004-03-01T00:00:00.000000000&#x27;,\n",
       "       &#x27;2005-03-01T00:00:00.000000000&#x27;, &#x27;2006-03-01T00:00:00.000000000&#x27;,\n",
       "       &#x27;2007-03-01T00:00:00.000000000&#x27;, &#x27;2008-03-01T00:00:00.000000000&#x27;,\n",
       "       &#x27;2009-03-01T00:00:00.000000000&#x27;, &#x27;2010-03-01T00:00:00.000000000&#x27;,\n",
       "       &#x27;2011-03-01T00:00:00.000000000&#x27;, &#x27;2012-03-01T00:00:00.000000000&#x27;,\n",
       "       &#x27;2013-03-01T00:00:00.000000000&#x27;, &#x27;2014-03-01T00:00:00.000000000&#x27;,\n",
       "       &#x27;2015-03-01T00:00:00.000000000&#x27;, &#x27;2016-03-01T00:00:00.000000000&#x27;],\n",
       "      dtype=&#x27;datetime64[ns]&#x27;)</pre></div></li><li class='xr-var-item'><div class='xr-var-name'><span class='xr-has-index'>lon</span></div><div class='xr-var-dims'>(lon)</div><div class='xr-var-dtype'>float32</div><div class='xr-var-preview xr-preview'>120.0 121.0 122.0 ... 239.0 240.0</div><input id='attrs-fb0ef1ba-6fb9-407e-b35e-bbf73f8cf6d7' class='xr-var-attrs-in' type='checkbox' ><label for='attrs-fb0ef1ba-6fb9-407e-b35e-bbf73f8cf6d7' title='Show/Hide attributes'><svg class='icon xr-icon-file-text2'><use xlink:href='#icon-file-text2'></use></svg></label><input id='data-f84ee9cb-7c5c-44d6-838c-32fb25422240' class='xr-var-data-in' type='checkbox'><label for='data-f84ee9cb-7c5c-44d6-838c-32fb25422240' title='Show/Hide data repr'><svg class='icon xr-icon-database'><use xlink:href='#icon-database'></use></svg></label><div class='xr-var-attrs'><dl class='xr-attrs'><dt><span>units :</span></dt><dd>degrees_east</dd><dt><span>long_name :</span></dt><dd>longitude</dd></dl></div><div class='xr-var-data'><pre>array([120., 121., 122., 123., 124., 125., 126., 127., 128., 129., 130., 131.,\n",
       "       132., 133., 134., 135., 136., 137., 138., 139., 140., 141., 142., 143.,\n",
       "       144., 145., 146., 147., 148., 149., 150., 151., 152., 153., 154., 155.,\n",
       "       156., 157., 158., 159., 160., 161., 162., 163., 164., 165., 166., 167.,\n",
       "       168., 169., 170., 171., 172., 173., 174., 175., 176., 177., 178., 179.,\n",
       "       180., 181., 182., 183., 184., 185., 186., 187., 188., 189., 190., 191.,\n",
       "       192., 193., 194., 195., 196., 197., 198., 199., 200., 201., 202., 203.,\n",
       "       204., 205., 206., 207., 208., 209., 210., 211., 212., 213., 214., 215.,\n",
       "       216., 217., 218., 219., 220., 221., 222., 223., 224., 225., 226., 227.,\n",
       "       228., 229., 230., 231., 232., 233., 234., 235., 236., 237., 238., 239.,\n",
       "       240.], dtype=float32)</pre></div></li><li class='xr-var-item'><div class='xr-var-name'><span class='xr-has-index'>lat</span></div><div class='xr-var-dims'>(lat)</div><div class='xr-var-dtype'>float32</div><div class='xr-var-preview xr-preview'>-50.0 -49.0 -48.0 ... 29.0 30.0</div><input id='attrs-3f6e9bb0-29f5-4808-bbdc-220f2b17465e' class='xr-var-attrs-in' type='checkbox' ><label for='attrs-3f6e9bb0-29f5-4808-bbdc-220f2b17465e' title='Show/Hide attributes'><svg class='icon xr-icon-file-text2'><use xlink:href='#icon-file-text2'></use></svg></label><input id='data-c255d8dc-41fd-42f8-8a3c-6608661c8e3f' class='xr-var-data-in' type='checkbox'><label for='data-c255d8dc-41fd-42f8-8a3c-6608661c8e3f' title='Show/Hide data repr'><svg class='icon xr-icon-database'><use xlink:href='#icon-database'></use></svg></label><div class='xr-var-attrs'><dl class='xr-attrs'><dt><span>units :</span></dt><dd>degrees_north</dd><dt><span>long_name :</span></dt><dd>latitude</dd></dl></div><div class='xr-var-data'><pre>array([-50., -49., -48., -47., -46., -45., -44., -43., -42., -41., -40., -39.,\n",
       "       -38., -37., -36., -35., -34., -33., -32., -31., -30., -29., -28., -27.,\n",
       "       -26., -25., -24., -23., -22., -21., -20., -19., -18., -17., -16., -15.,\n",
       "       -14., -13., -12., -11., -10.,  -9.,  -8.,  -7.,  -6.,  -5.,  -4.,  -3.,\n",
       "        -2.,  -1.,   0.,   1.,   2.,   3.,   4.,   5.,   6.,   7.,   8.,   9.,\n",
       "        10.,  11.,  12.,  13.,  14.,  15.,  16.,  17.,  18.,  19.,  20.,  21.,\n",
       "        22.,  23.,  24.,  25.,  26.,  27.,  28.,  29.,  30.], dtype=float32)</pre></div></li><li class='xr-var-item'><div class='xr-var-name'><span class='xr-has-index'>member</span></div><div class='xr-var-dims'>(member)</div><div class='xr-var-dtype'>int32</div><div class='xr-var-preview xr-preview'>0 1 2 3 4 5 6 7 8 9</div><input id='attrs-a7550c37-0174-4bad-8a5a-708d10f66c2b' class='xr-var-attrs-in' type='checkbox' ><label for='attrs-a7550c37-0174-4bad-8a5a-708d10f66c2b' title='Show/Hide attributes'><svg class='icon xr-icon-file-text2'><use xlink:href='#icon-file-text2'></use></svg></label><input id='data-4efd1983-3ac5-4fe9-a801-af11fc7bdd01' class='xr-var-data-in' type='checkbox'><label for='data-4efd1983-3ac5-4fe9-a801-af11fc7bdd01' title='Show/Hide data repr'><svg class='icon xr-icon-database'><use xlink:href='#icon-database'></use></svg></label><div class='xr-var-attrs'><dl class='xr-attrs'><dt><span>long_name :</span></dt><dd>ensemble_member</dd></dl></div><div class='xr-var-data'><pre>array([0, 1, 2, 3, 4, 5, 6, 7, 8, 9], dtype=int32)</pre></div></li><li class='xr-var-item'><div class='xr-var-name'><span class='xr-has-index'>step</span></div><div class='xr-var-dims'>(step)</div><div class='xr-var-dtype'>int64</div><div class='xr-var-preview xr-preview'>1 2 3 4 5</div><input id='attrs-2f4a0761-89f4-401e-934a-2e9664472db5' class='xr-var-attrs-in' type='checkbox' disabled><label for='attrs-2f4a0761-89f4-401e-934a-2e9664472db5' title='Show/Hide attributes'><svg class='icon xr-icon-file-text2'><use xlink:href='#icon-file-text2'></use></svg></label><input id='data-af437e17-e440-4258-9508-bd0dafab532c' class='xr-var-data-in' type='checkbox'><label for='data-af437e17-e440-4258-9508-bd0dafab532c' title='Show/Hide data repr'><svg class='icon xr-icon-database'><use xlink:href='#icon-database'></use></svg></label><div class='xr-var-attrs'><dl class='xr-attrs'></dl></div><div class='xr-var-data'><pre>array([1, 2, 3, 4, 5])</pre></div></li></ul></div></li><li class='xr-section-item'><input id='section-48dfbbd2-732e-469f-8bcd-b2d67df51ba3' class='xr-section-summary-in' type='checkbox'  checked><label for='section-48dfbbd2-732e-469f-8bcd-b2d67df51ba3' class='xr-section-summary' >Data variables: <span>(1)</span></label><div class='xr-section-inline-details'></div><div class='xr-section-details'><ul class='xr-var-list'><li class='xr-var-item'><div class='xr-var-name'><span>tprate</span></div><div class='xr-var-dims'>(time, step, member, lat, lon)</div><div class='xr-var-dtype'>float32</div><div class='xr-var-preview xr-preview'>dask.array&lt;chunksize=(1, 5, 10, 81, 121), meta=np.ndarray&gt;</div><input id='attrs-8e7d2245-c6cb-4ed7-8d58-2b4fea90cdd6' class='xr-var-attrs-in' type='checkbox' ><label for='attrs-8e7d2245-c6cb-4ed7-8d58-2b4fea90cdd6' title='Show/Hide attributes'><svg class='icon xr-icon-file-text2'><use xlink:href='#icon-file-text2'></use></svg></label><input id='data-2604f416-bec4-4591-836f-17885b5472ec' class='xr-var-data-in' type='checkbox'><label for='data-2604f416-bec4-4591-836f-17885b5472ec' title='Show/Hide data repr'><svg class='icon xr-icon-database'><use xlink:href='#icon-database'></use></svg></label><div class='xr-var-attrs'><dl class='xr-attrs'><dt><span>units :</span></dt><dd>m s**-1</dd><dt><span>long_name :</span></dt><dd>Mean total precipitation rate</dd></dl></div><div class='xr-var-data'><table>\n",
       "    <tr>\n",
       "        <td>\n",
       "            <table>\n",
       "                <thead>\n",
       "                    <tr>\n",
       "                        <td> </td>\n",
       "                        <th> Array </th>\n",
       "                        <th> Chunk </th>\n",
       "                    </tr>\n",
       "                </thead>\n",
       "                <tbody>\n",
       "                    \n",
       "                    <tr>\n",
       "                        <th> Bytes </th>\n",
       "                        <td> 44.87 MiB </td>\n",
       "                        <td> 1.87 MiB </td>\n",
       "                    </tr>\n",
       "                    \n",
       "                    <tr>\n",
       "                        <th> Shape </th>\n",
       "                        <td> (24, 5, 10, 81, 121) </td>\n",
       "                        <td> (1, 5, 10, 81, 121) </td>\n",
       "                    </tr>\n",
       "                    <tr>\n",
       "                        <th> Count </th>\n",
       "                        <td> 168 Tasks </td>\n",
       "                        <td> 24 Chunks </td>\n",
       "                    </tr>\n",
       "                    <tr>\n",
       "                    <th> Type </th>\n",
       "                    <td> float32 </td>\n",
       "                    <td> numpy.ndarray </td>\n",
       "                    </tr>\n",
       "                </tbody>\n",
       "            </table>\n",
       "        </td>\n",
       "        <td>\n",
       "        <svg width=\"398\" height=\"152\" style=\"stroke:rgb(0,0,0);stroke-width:1\" >\n",
       "\n",
       "  <!-- Horizontal lines -->\n",
       "  <line x1=\"0\" y1=\"0\" x2=\"33\" y2=\"0\" style=\"stroke-width:2\" />\n",
       "  <line x1=\"0\" y1=\"1\" x2=\"33\" y2=\"1\" />\n",
       "  <line x1=\"0\" y1=\"3\" x2=\"33\" y2=\"3\" />\n",
       "  <line x1=\"0\" y1=\"5\" x2=\"33\" y2=\"5\" />\n",
       "  <line x1=\"0\" y1=\"6\" x2=\"33\" y2=\"6\" />\n",
       "  <line x1=\"0\" y1=\"8\" x2=\"33\" y2=\"8\" />\n",
       "  <line x1=\"0\" y1=\"10\" x2=\"33\" y2=\"10\" />\n",
       "  <line x1=\"0\" y1=\"12\" x2=\"33\" y2=\"12\" />\n",
       "  <line x1=\"0\" y1=\"13\" x2=\"33\" y2=\"13\" />\n",
       "  <line x1=\"0\" y1=\"15\" x2=\"33\" y2=\"15\" />\n",
       "  <line x1=\"0\" y1=\"17\" x2=\"33\" y2=\"17\" />\n",
       "  <line x1=\"0\" y1=\"19\" x2=\"33\" y2=\"19\" />\n",
       "  <line x1=\"0\" y1=\"20\" x2=\"33\" y2=\"20\" />\n",
       "  <line x1=\"0\" y1=\"22\" x2=\"33\" y2=\"22\" />\n",
       "  <line x1=\"0\" y1=\"24\" x2=\"33\" y2=\"24\" />\n",
       "  <line x1=\"0\" y1=\"26\" x2=\"33\" y2=\"26\" />\n",
       "  <line x1=\"0\" y1=\"27\" x2=\"33\" y2=\"27\" />\n",
       "  <line x1=\"0\" y1=\"29\" x2=\"33\" y2=\"29\" />\n",
       "  <line x1=\"0\" y1=\"31\" x2=\"33\" y2=\"31\" />\n",
       "  <line x1=\"0\" y1=\"33\" x2=\"33\" y2=\"33\" />\n",
       "  <line x1=\"0\" y1=\"34\" x2=\"33\" y2=\"34\" />\n",
       "  <line x1=\"0\" y1=\"36\" x2=\"33\" y2=\"36\" />\n",
       "  <line x1=\"0\" y1=\"38\" x2=\"33\" y2=\"38\" />\n",
       "  <line x1=\"0\" y1=\"40\" x2=\"33\" y2=\"40\" />\n",
       "  <line x1=\"0\" y1=\"41\" x2=\"33\" y2=\"41\" style=\"stroke-width:2\" />\n",
       "\n",
       "  <!-- Vertical lines -->\n",
       "  <line x1=\"0\" y1=\"0\" x2=\"0\" y2=\"41\" style=\"stroke-width:2\" />\n",
       "  <line x1=\"33\" y1=\"0\" x2=\"33\" y2=\"41\" style=\"stroke-width:2\" />\n",
       "\n",
       "  <!-- Colored Rectangle -->\n",
       "  <polygon points=\"0.0,0.0 33.33288666888053,0.0 33.33288666888053,41.974744095238016 0.0,41.974744095238016\" style=\"fill:#ECB172A0;stroke-width:0\"/>\n",
       "\n",
       "  <!-- Text -->\n",
       "  <text x=\"16.666443\" y=\"61.974744\" font-size=\"1.0rem\" font-weight=\"100\" text-anchor=\"middle\" >5</text>\n",
       "  <text x=\"53.332887\" y=\"20.987372\" font-size=\"1.0rem\" font-weight=\"100\" text-anchor=\"middle\" transform=\"rotate(0,53.332887,20.987372)\">24</text>\n",
       "\n",
       "\n",
       "  <!-- Horizontal lines -->\n",
       "  <line x1=\"103\" y1=\"0\" x2=\"125\" y2=\"22\" style=\"stroke-width:2\" />\n",
       "  <line x1=\"103\" y1=\"80\" x2=\"125\" y2=\"102\" style=\"stroke-width:2\" />\n",
       "\n",
       "  <!-- Vertical lines -->\n",
       "  <line x1=\"103\" y1=\"0\" x2=\"103\" y2=\"80\" style=\"stroke-width:2\" />\n",
       "  <line x1=\"125\" y1=\"22\" x2=\"125\" y2=\"102\" style=\"stroke-width:2\" />\n",
       "\n",
       "  <!-- Colored Rectangle -->\n",
       "  <polygon points=\"103.0,0.0 125.06797403173512,22.06797403173512 125.06797403173512,102.39855254413182 103.0,80.3305785123967\" style=\"fill:#ECB172A0;stroke-width:0\"/>\n",
       "\n",
       "  <!-- Horizontal lines -->\n",
       "  <line x1=\"103\" y1=\"0\" x2=\"223\" y2=\"0\" style=\"stroke-width:2\" />\n",
       "  <line x1=\"125\" y1=\"22\" x2=\"245\" y2=\"22\" style=\"stroke-width:2\" />\n",
       "\n",
       "  <!-- Vertical lines -->\n",
       "  <line x1=\"103\" y1=\"0\" x2=\"125\" y2=\"22\" style=\"stroke-width:2\" />\n",
       "  <line x1=\"223\" y1=\"0\" x2=\"245\" y2=\"22\" style=\"stroke-width:2\" />\n",
       "\n",
       "  <!-- Colored Rectangle -->\n",
       "  <polygon points=\"103.0,0.0 223.0,0.0 245.0679740317351,22.06797403173512 125.06797403173512,22.06797403173512\" style=\"fill:#ECB172A0;stroke-width:0\"/>\n",
       "\n",
       "  <!-- Horizontal lines -->\n",
       "  <line x1=\"125\" y1=\"22\" x2=\"245\" y2=\"22\" style=\"stroke-width:2\" />\n",
       "  <line x1=\"125\" y1=\"102\" x2=\"245\" y2=\"102\" style=\"stroke-width:2\" />\n",
       "\n",
       "  <!-- Vertical lines -->\n",
       "  <line x1=\"125\" y1=\"22\" x2=\"125\" y2=\"102\" style=\"stroke-width:2\" />\n",
       "  <line x1=\"245\" y1=\"22\" x2=\"245\" y2=\"102\" style=\"stroke-width:2\" />\n",
       "\n",
       "  <!-- Colored Rectangle -->\n",
       "  <polygon points=\"125.06797403173512,22.06797403173512 245.0679740317351,22.06797403173512 245.0679740317351,102.39855254413182 125.06797403173512,102.39855254413182\" style=\"fill:#ECB172A0;stroke-width:0\"/>\n",
       "\n",
       "  <!-- Text -->\n",
       "  <text x=\"185.067974\" y=\"122.398553\" font-size=\"1.0rem\" font-weight=\"100\" text-anchor=\"middle\" >121</text>\n",
       "  <text x=\"265.067974\" y=\"62.233263\" font-size=\"1.0rem\" font-weight=\"100\" text-anchor=\"middle\" transform=\"rotate(0,265.067974,62.233263)\">81</text>\n",
       "  <text x=\"104.033987\" y=\"111.364566\" font-size=\"1.0rem\" font-weight=\"100\" text-anchor=\"middle\" transform=\"rotate(45,104.033987,111.364566)\">10</text>\n",
       "</svg>\n",
       "        </td>\n",
       "    </tr>\n",
       "</table></div></li></ul></div></li><li class='xr-section-item'><input id='section-effc54d3-5d7e-4f0b-ac4b-b1f39849a4fa' class='xr-section-summary-in' type='checkbox'  checked><label for='section-effc54d3-5d7e-4f0b-ac4b-b1f39849a4fa' class='xr-section-summary' >Attributes: <span>(2)</span></label><div class='xr-section-inline-details'></div><div class='xr-section-details'><dl class='xr-attrs'><dt><span>Conventions :</span></dt><dd>CF-1.6</dd><dt><span>history :</span></dt><dd>2022-03-13 21:51:46 GMT by grib_to_netcdf-2.24.2: /opt/ecmwf/mars-client/bin/grib_to_netcdf -S param -o /cache/data9/adaptor.mars.external-1647208305.9401054-23469-10-cb30e0f2-2260-4080-b388-3a35a0009f9d.nc /cache/tmp/cb30e0f2-2260-4080-b388-3a35a0009f9d-adaptor.mars.external-1647208304.3960865-23469-10-tmp.grib</dd></dl></div></li></ul></div></div>"
      ],
      "text/plain": [
       "<xarray.Dataset>\n",
       "Dimensions:  (time: 24, lon: 121, lat: 81, member: 10, step: 5)\n",
       "Coordinates:\n",
       "  * time     (time) datetime64[ns] 1993-03-01 1994-03-01 ... 2016-03-01\n",
       "  * lon      (lon) float32 120.0 121.0 122.0 123.0 ... 237.0 238.0 239.0 240.0\n",
       "  * lat      (lat) float32 -50.0 -49.0 -48.0 -47.0 -46.0 ... 27.0 28.0 29.0 30.0\n",
       "  * member   (member) int32 0 1 2 3 4 5 6 7 8 9\n",
       "  * step     (step) int64 1 2 3 4 5\n",
       "Data variables:\n",
       "    tprate   (time, step, member, lat, lon) float32 dask.array<chunksize=(1, 5, 10, 81, 121), meta=np.ndarray>\n",
       "Attributes:\n",
       "    Conventions:  CF-1.6\n",
       "    history:      2022-03-13 21:51:46 GMT by grib_to_netcdf-2.24.2: /opt/ecmw..."
      ]
     },
     "execution_count": 25,
     "metadata": {},
     "output_type": "execute_result"
    }
   ],
   "source": [
    "dset"
   ]
  },
  {
   "cell_type": "markdown",
   "id": "f7bbf7e7-c341-436b-b9db-103fd378dcb0",
   "metadata": {
    "papermill": {
     "duration": 0.025785,
     "end_time": "2022-03-15T22:55:28.144633",
     "exception": false,
     "start_time": "2022-03-15T22:55:28.118848",
     "status": "completed"
    },
    "tags": []
   },
   "source": [
    "### make sure we select the hindcast period "
   ]
  },
  {
   "cell_type": "code",
   "execution_count": 26,
   "id": "b543e1a2-5e81-43d0-8bcc-66cd8a1eeedf",
   "metadata": {
    "execution": {
     "iopub.execute_input": "2022-03-15T22:55:28.198169Z",
     "iopub.status.busy": "2022-03-15T22:55:28.197817Z",
     "iopub.status.idle": "2022-03-15T22:55:28.216781Z",
     "shell.execute_reply": "2022-03-15T22:55:28.217044Z"
    },
    "papermill": {
     "duration": 0.047019,
     "end_time": "2022-03-15T22:55:28.217150",
     "exception": false,
     "start_time": "2022-03-15T22:55:28.170131",
     "status": "completed"
    },
    "tags": []
   },
   "outputs": [],
   "source": [
    "dset = dset.sel(time=slice('1993', '2016'))"
   ]
  },
  {
   "cell_type": "markdown",
   "id": "d462983e-c166-4b90-a2cc-26b2f1e7d9cb",
   "metadata": {
    "papermill": {
     "duration": 0.02469,
     "end_time": "2022-03-15T22:55:28.267088",
     "exception": false,
     "start_time": "2022-03-15T22:55:28.242398",
     "status": "completed"
    },
    "tags": []
   },
   "source": [
    "### convert to monthly rainfall accumulations (mm/month)"
   ]
  },
  {
   "cell_type": "code",
   "execution_count": 27,
   "id": "6e725dd4-91d0-4246-8d00-6f604b1f489e",
   "metadata": {
    "execution": {
     "iopub.execute_input": "2022-03-15T22:55:28.319920Z",
     "iopub.status.busy": "2022-03-15T22:55:28.319529Z",
     "iopub.status.idle": "2022-03-15T22:55:28.337890Z",
     "shell.execute_reply": "2022-03-15T22:55:28.337611Z"
    },
    "papermill": {
     "duration": 0.045518,
     "end_time": "2022-03-15T22:55:28.337971",
     "exception": false,
     "start_time": "2022-03-15T22:55:28.292453",
     "status": "completed"
    },
    "tags": []
   },
   "outputs": [
    {
     "data": {
      "text/plain": [
       "{'units': 'm s**-1', 'long_name': 'Mean total precipitation rate'}"
      ]
     },
     "execution_count": 27,
     "metadata": {},
     "output_type": "execute_result"
    }
   ],
   "source": [
    "dset.tprate.attrs"
   ]
  },
  {
   "cell_type": "code",
   "execution_count": 28,
   "id": "67d42493-35a0-4658-ad1c-a6818fc91d2b",
   "metadata": {
    "execution": {
     "iopub.execute_input": "2022-03-15T22:55:28.390598Z",
     "iopub.status.busy": "2022-03-15T22:55:28.390270Z",
     "iopub.status.idle": "2022-03-15T22:55:28.418553Z",
     "shell.execute_reply": "2022-03-15T22:55:28.418219Z"
    },
    "papermill": {
     "duration": 0.055523,
     "end_time": "2022-03-15T22:55:28.418632",
     "exception": false,
     "start_time": "2022-03-15T22:55:28.363109",
     "status": "completed"
    },
    "tags": []
   },
   "outputs": [
    {
     "name": "stdout",
     "output_type": "stream",
     "text": [
      "\n",
      "unit is m s**-1, converting to mm/day\n",
      "\n",
      "now converting to mm/month, converted precipitation will be held in var = precip\n"
     ]
    }
   ],
   "source": [
    "dset = C3S.convert_rainfall(dset, varin=varname, varout='precip', leadvar='step', timevar='time', dropvar=True)"
   ]
  },
  {
   "cell_type": "code",
   "execution_count": 29,
   "id": "4d15bffd-b6c1-49dc-ac3c-428e824a10ca",
   "metadata": {
    "execution": {
     "iopub.execute_input": "2022-03-15T22:55:28.472543Z",
     "iopub.status.busy": "2022-03-15T22:55:28.472200Z",
     "iopub.status.idle": "2022-03-15T22:55:28.493189Z",
     "shell.execute_reply": "2022-03-15T22:55:28.492853Z"
    },
    "papermill": {
     "duration": 0.049084,
     "end_time": "2022-03-15T22:55:28.493268",
     "exception": false,
     "start_time": "2022-03-15T22:55:28.444184",
     "status": "completed"
    },
    "tags": []
   },
   "outputs": [
    {
     "data": {
      "text/plain": [
       "<bound method Dataset.info of <xarray.Dataset>\n",
       "Dimensions:  (time: 24, lon: 121, lat: 81, member: 10, step: 5)\n",
       "Coordinates:\n",
       "  * time     (time) datetime64[ns] 1993-03-01 1994-03-01 ... 2016-03-01\n",
       "  * lon      (lon) float32 120.0 121.0 122.0 123.0 ... 237.0 238.0 239.0 240.0\n",
       "  * lat      (lat) float32 -50.0 -49.0 -48.0 -47.0 -46.0 ... 27.0 28.0 29.0 30.0\n",
       "  * member   (member) int32 0 1 2 3 4 5 6 7 8 9\n",
       "  * step     (step) int64 1 2 3 4 5\n",
       "Data variables:\n",
       "    precip   (time, step, member, lat, lon) float64 dask.array<chunksize=(1, 5, 10, 81, 121), meta=np.ndarray>\n",
       "Attributes:\n",
       "    Conventions:  CF-1.6\n",
       "    history:      2022-03-13 21:51:46 GMT by grib_to_netcdf-2.24.2: /opt/ecmw...>"
      ]
     },
     "execution_count": 29,
     "metadata": {},
     "output_type": "execute_result"
    }
   ],
   "source": [
    "dset.info"
   ]
  },
  {
   "cell_type": "code",
   "execution_count": 30,
   "id": "5c7fe646-bfd6-417e-aaaa-8e0cb0b899c8",
   "metadata": {
    "execution": {
     "iopub.execute_input": "2022-03-15T22:55:28.547534Z",
     "iopub.status.busy": "2022-03-15T22:55:28.547199Z",
     "iopub.status.idle": "2022-03-15T22:55:28.565946Z",
     "shell.execute_reply": "2022-03-15T22:55:28.565664Z"
    },
    "papermill": {
     "duration": 0.047056,
     "end_time": "2022-03-15T22:55:28.566030",
     "exception": false,
     "start_time": "2022-03-15T22:55:28.518974",
     "status": "completed"
    },
    "tags": []
   },
   "outputs": [
    {
     "data": {
      "text/plain": [
       "{'units': 'mm/month'}"
      ]
     },
     "execution_count": 30,
     "metadata": {},
     "output_type": "execute_result"
    }
   ],
   "source": [
    "dset.precip.attrs"
   ]
  },
  {
   "cell_type": "markdown",
   "id": "fd7553f0-3ff3-46f3-bdcd-6e6f48f7abb7",
   "metadata": {
    "papermill": {
     "duration": 0.025597,
     "end_time": "2022-03-15T22:55:28.617569",
     "exception": false,
     "start_time": "2022-03-15T22:55:28.591972",
     "status": "completed"
    },
    "tags": []
   },
   "source": [
    "### make sure there are no negative values "
   ]
  },
  {
   "cell_type": "code",
   "execution_count": 31,
   "id": "48667708-24cc-4f51-ab18-3a75e2f28ccd",
   "metadata": {
    "execution": {
     "iopub.execute_input": "2022-03-15T22:55:28.670858Z",
     "iopub.status.busy": "2022-03-15T22:55:28.670526Z",
     "iopub.status.idle": "2022-03-15T22:55:28.689375Z",
     "shell.execute_reply": "2022-03-15T22:55:28.689091Z"
    },
    "papermill": {
     "duration": 0.046539,
     "end_time": "2022-03-15T22:55:28.689501",
     "exception": false,
     "start_time": "2022-03-15T22:55:28.642962",
     "status": "completed"
    },
    "tags": []
   },
   "outputs": [],
   "source": [
    "dset = dset.clip(min=0)"
   ]
  },
  {
   "cell_type": "markdown",
   "id": "a6dd054f-5e96-48e6-b935-80d9ea0f54a2",
   "metadata": {
    "papermill": {
     "duration": 0.02526,
     "end_time": "2022-03-15T22:55:28.740514",
     "exception": false,
     "start_time": "2022-03-15T22:55:28.715254",
     "status": "completed"
    },
    "tags": []
   },
   "source": [
    "### if the period is set to `seasonal`, calculates the seasonal accumulations "
   ]
  },
  {
   "cell_type": "code",
   "execution_count": 32,
   "id": "cc83f98c-909f-44bc-aa14-ef1778a747f5",
   "metadata": {
    "execution": {
     "iopub.execute_input": "2022-03-15T22:55:28.794736Z",
     "iopub.status.busy": "2022-03-15T22:55:28.794384Z",
     "iopub.status.idle": "2022-03-15T22:55:28.835161Z",
     "shell.execute_reply": "2022-03-15T22:55:28.835438Z"
    },
    "papermill": {
     "duration": 0.069464,
     "end_time": "2022-03-15T22:55:28.835541",
     "exception": false,
     "start_time": "2022-03-15T22:55:28.766077",
     "status": "completed"
    },
    "tags": []
   },
   "outputs": [],
   "source": [
    "if period == 'seasonal': \n",
    "    \n",
    "    dset = dset.rolling({'step':3}, min_periods=3).sum('step')\n",
    "    \n",
    "    dset = dset.sel({'step':slice(3, None)})"
   ]
  },
  {
   "cell_type": "code",
   "execution_count": 33,
   "id": "84f4203d-9b4b-4db5-b4a2-174be37b28c5",
   "metadata": {
    "execution": {
     "iopub.execute_input": "2022-03-15T22:55:28.890557Z",
     "iopub.status.busy": "2022-03-15T22:55:28.890202Z",
     "iopub.status.idle": "2022-03-15T22:55:28.910710Z",
     "shell.execute_reply": "2022-03-15T22:55:28.910435Z"
    },
    "papermill": {
     "duration": 0.049077,
     "end_time": "2022-03-15T22:55:28.910790",
     "exception": false,
     "start_time": "2022-03-15T22:55:28.861713",
     "status": "completed"
    },
    "tags": []
   },
   "outputs": [
    {
     "data": {
      "text/plain": [
       "<bound method Dataset.info of <xarray.Dataset>\n",
       "Dimensions:  (time: 24, lon: 121, lat: 81, member: 10, step: 3)\n",
       "Coordinates:\n",
       "  * time     (time) datetime64[ns] 1993-03-01 1994-03-01 ... 2016-03-01\n",
       "  * lon      (lon) float32 120.0 121.0 122.0 123.0 ... 237.0 238.0 239.0 240.0\n",
       "  * lat      (lat) float32 -50.0 -49.0 -48.0 -47.0 -46.0 ... 27.0 28.0 29.0 30.0\n",
       "  * member   (member) int32 0 1 2 3 4 5 6 7 8 9\n",
       "  * step     (step) int64 3 4 5\n",
       "Data variables:\n",
       "    precip   (time, step, member, lat, lon) float64 dask.array<chunksize=(1, 3, 10, 81, 121), meta=np.ndarray>\n",
       "Attributes:\n",
       "    Conventions:  CF-1.6\n",
       "    history:      2022-03-13 21:51:46 GMT by grib_to_netcdf-2.24.2: /opt/ecmw...>"
      ]
     },
     "execution_count": 33,
     "metadata": {},
     "output_type": "execute_result"
    }
   ],
   "source": [
    "dset.info"
   ]
  },
  {
   "cell_type": "markdown",
   "id": "aab31221-ef5d-4a3c-9967-81aaf3d160aa",
   "metadata": {
    "papermill": {
     "duration": 0.026156,
     "end_time": "2022-03-15T22:55:28.962436",
     "exception": false,
     "start_time": "2022-03-15T22:55:28.936280",
     "status": "completed"
    },
    "tags": []
   },
   "source": [
    "### rechunk, just make sure each chunk can fit in memory"
   ]
  },
  {
   "cell_type": "code",
   "execution_count": 34,
   "id": "f19d676e-3e48-4f94-8416-b4e91eae83c1",
   "metadata": {
    "execution": {
     "iopub.execute_input": "2022-03-15T22:55:29.018796Z",
     "iopub.status.busy": "2022-03-15T22:55:29.018255Z",
     "iopub.status.idle": "2022-03-15T22:55:29.037130Z",
     "shell.execute_reply": "2022-03-15T22:55:29.036791Z"
    },
    "papermill": {
     "duration": 0.048477,
     "end_time": "2022-03-15T22:55:29.037211",
     "exception": false,
     "start_time": "2022-03-15T22:55:28.988734",
     "status": "completed"
    },
    "tags": []
   },
   "outputs": [
    {
     "data": {
      "text/plain": [
       "Frozen({'time': (1, 1, 1, 1, 1, 1, 1, 1, 1, 1, 1, 1, 1, 1, 1, 1, 1, 1, 1, 1, 1, 1, 1, 1), 'step': (3,), 'member': (10,), 'lat': (81,), 'lon': (121,)})"
      ]
     },
     "execution_count": 34,
     "metadata": {},
     "output_type": "execute_result"
    }
   ],
   "source": [
    "dset.chunks"
   ]
  },
  {
   "cell_type": "code",
   "execution_count": 35,
   "id": "82dc21a1-bc53-4f03-acb5-f58e983c20e4",
   "metadata": {
    "execution": {
     "iopub.execute_input": "2022-03-15T22:55:29.094026Z",
     "iopub.status.busy": "2022-03-15T22:55:29.093273Z",
     "iopub.status.idle": "2022-03-15T22:55:29.111029Z",
     "shell.execute_reply": "2022-03-15T22:55:29.110728Z"
    },
    "papermill": {
     "duration": 0.047389,
     "end_time": "2022-03-15T22:55:29.111110",
     "exception": false,
     "start_time": "2022-03-15T22:55:29.063721",
     "status": "completed"
    },
    "tags": []
   },
   "outputs": [],
   "source": [
    "chunks = {\n",
    "    'time':-1, \n",
    "    'member':-1, \n",
    "    'step':1, \n",
    "    'lat':10, \n",
    "    'lon':10\n",
    "}"
   ]
  },
  {
   "cell_type": "code",
   "execution_count": 36,
   "id": "e288e6b1-1b84-48c2-a2bb-472aa4b740f5",
   "metadata": {
    "execution": {
     "iopub.execute_input": "2022-03-15T22:55:29.166607Z",
     "iopub.status.busy": "2022-03-15T22:55:29.166092Z",
     "iopub.status.idle": "2022-03-15T22:55:29.188112Z",
     "shell.execute_reply": "2022-03-15T22:55:29.187739Z"
    },
    "papermill": {
     "duration": 0.050893,
     "end_time": "2022-03-15T22:55:29.188195",
     "exception": false,
     "start_time": "2022-03-15T22:55:29.137302",
     "status": "completed"
    },
    "tags": []
   },
   "outputs": [],
   "source": [
    "dset = dset.chunk(chunks)"
   ]
  },
  {
   "cell_type": "code",
   "execution_count": 37,
   "id": "b92f5daa-b896-4b6b-bd3f-c15321e89367",
   "metadata": {
    "execution": {
     "iopub.execute_input": "2022-03-15T22:55:29.243737Z",
     "iopub.status.busy": "2022-03-15T22:55:29.243224Z",
     "iopub.status.idle": "2022-03-15T22:55:29.279479Z",
     "shell.execute_reply": "2022-03-15T22:55:29.279149Z"
    },
    "papermill": {
     "duration": 0.06499,
     "end_time": "2022-03-15T22:55:29.279558",
     "exception": false,
     "start_time": "2022-03-15T22:55:29.214568",
     "status": "completed"
    },
    "tags": []
   },
   "outputs": [
    {
     "data": {
      "text/html": [
       "<div><svg style=\"position: absolute; width: 0; height: 0; overflow: hidden\">\n",
       "<defs>\n",
       "<symbol id=\"icon-database\" viewBox=\"0 0 32 32\">\n",
       "<path d=\"M16 0c-8.837 0-16 2.239-16 5v4c0 2.761 7.163 5 16 5s16-2.239 16-5v-4c0-2.761-7.163-5-16-5z\"></path>\n",
       "<path d=\"M16 17c-8.837 0-16-2.239-16-5v6c0 2.761 7.163 5 16 5s16-2.239 16-5v-6c0 2.761-7.163 5-16 5z\"></path>\n",
       "<path d=\"M16 26c-8.837 0-16-2.239-16-5v6c0 2.761 7.163 5 16 5s16-2.239 16-5v-6c0 2.761-7.163 5-16 5z\"></path>\n",
       "</symbol>\n",
       "<symbol id=\"icon-file-text2\" viewBox=\"0 0 32 32\">\n",
       "<path d=\"M28.681 7.159c-0.694-0.947-1.662-2.053-2.724-3.116s-2.169-2.030-3.116-2.724c-1.612-1.182-2.393-1.319-2.841-1.319h-15.5c-1.378 0-2.5 1.121-2.5 2.5v27c0 1.378 1.122 2.5 2.5 2.5h23c1.378 0 2.5-1.122 2.5-2.5v-19.5c0-0.448-0.137-1.23-1.319-2.841zM24.543 5.457c0.959 0.959 1.712 1.825 2.268 2.543h-4.811v-4.811c0.718 0.556 1.584 1.309 2.543 2.268zM28 29.5c0 0.271-0.229 0.5-0.5 0.5h-23c-0.271 0-0.5-0.229-0.5-0.5v-27c0-0.271 0.229-0.5 0.5-0.5 0 0 15.499-0 15.5 0v7c0 0.552 0.448 1 1 1h7v19.5z\"></path>\n",
       "<path d=\"M23 26h-14c-0.552 0-1-0.448-1-1s0.448-1 1-1h14c0.552 0 1 0.448 1 1s-0.448 1-1 1z\"></path>\n",
       "<path d=\"M23 22h-14c-0.552 0-1-0.448-1-1s0.448-1 1-1h14c0.552 0 1 0.448 1 1s-0.448 1-1 1z\"></path>\n",
       "<path d=\"M23 18h-14c-0.552 0-1-0.448-1-1s0.448-1 1-1h14c0.552 0 1 0.448 1 1s-0.448 1-1 1z\"></path>\n",
       "</symbol>\n",
       "</defs>\n",
       "</svg>\n",
       "<style>/* CSS stylesheet for displaying xarray objects in jupyterlab.\n",
       " *\n",
       " */\n",
       "\n",
       ":root {\n",
       "  --xr-font-color0: var(--jp-content-font-color0, rgba(0, 0, 0, 1));\n",
       "  --xr-font-color2: var(--jp-content-font-color2, rgba(0, 0, 0, 0.54));\n",
       "  --xr-font-color3: var(--jp-content-font-color3, rgba(0, 0, 0, 0.38));\n",
       "  --xr-border-color: var(--jp-border-color2, #e0e0e0);\n",
       "  --xr-disabled-color: var(--jp-layout-color3, #bdbdbd);\n",
       "  --xr-background-color: var(--jp-layout-color0, white);\n",
       "  --xr-background-color-row-even: var(--jp-layout-color1, white);\n",
       "  --xr-background-color-row-odd: var(--jp-layout-color2, #eeeeee);\n",
       "}\n",
       "\n",
       "html[theme=dark],\n",
       "body.vscode-dark {\n",
       "  --xr-font-color0: rgba(255, 255, 255, 1);\n",
       "  --xr-font-color2: rgba(255, 255, 255, 0.54);\n",
       "  --xr-font-color3: rgba(255, 255, 255, 0.38);\n",
       "  --xr-border-color: #1F1F1F;\n",
       "  --xr-disabled-color: #515151;\n",
       "  --xr-background-color: #111111;\n",
       "  --xr-background-color-row-even: #111111;\n",
       "  --xr-background-color-row-odd: #313131;\n",
       "}\n",
       "\n",
       ".xr-wrap {\n",
       "  display: block !important;\n",
       "  min-width: 300px;\n",
       "  max-width: 700px;\n",
       "}\n",
       "\n",
       ".xr-text-repr-fallback {\n",
       "  /* fallback to plain text repr when CSS is not injected (untrusted notebook) */\n",
       "  display: none;\n",
       "}\n",
       "\n",
       ".xr-header {\n",
       "  padding-top: 6px;\n",
       "  padding-bottom: 6px;\n",
       "  margin-bottom: 4px;\n",
       "  border-bottom: solid 1px var(--xr-border-color);\n",
       "}\n",
       "\n",
       ".xr-header > div,\n",
       ".xr-header > ul {\n",
       "  display: inline;\n",
       "  margin-top: 0;\n",
       "  margin-bottom: 0;\n",
       "}\n",
       "\n",
       ".xr-obj-type,\n",
       ".xr-array-name {\n",
       "  margin-left: 2px;\n",
       "  margin-right: 10px;\n",
       "}\n",
       "\n",
       ".xr-obj-type {\n",
       "  color: var(--xr-font-color2);\n",
       "}\n",
       "\n",
       ".xr-sections {\n",
       "  padding-left: 0 !important;\n",
       "  display: grid;\n",
       "  grid-template-columns: 150px auto auto 1fr 20px 20px;\n",
       "}\n",
       "\n",
       ".xr-section-item {\n",
       "  display: contents;\n",
       "}\n",
       "\n",
       ".xr-section-item input {\n",
       "  display: none;\n",
       "}\n",
       "\n",
       ".xr-section-item input + label {\n",
       "  color: var(--xr-disabled-color);\n",
       "}\n",
       "\n",
       ".xr-section-item input:enabled + label {\n",
       "  cursor: pointer;\n",
       "  color: var(--xr-font-color2);\n",
       "}\n",
       "\n",
       ".xr-section-item input:enabled + label:hover {\n",
       "  color: var(--xr-font-color0);\n",
       "}\n",
       "\n",
       ".xr-section-summary {\n",
       "  grid-column: 1;\n",
       "  color: var(--xr-font-color2);\n",
       "  font-weight: 500;\n",
       "}\n",
       "\n",
       ".xr-section-summary > span {\n",
       "  display: inline-block;\n",
       "  padding-left: 0.5em;\n",
       "}\n",
       "\n",
       ".xr-section-summary-in:disabled + label {\n",
       "  color: var(--xr-font-color2);\n",
       "}\n",
       "\n",
       ".xr-section-summary-in + label:before {\n",
       "  display: inline-block;\n",
       "  content: '►';\n",
       "  font-size: 11px;\n",
       "  width: 15px;\n",
       "  text-align: center;\n",
       "}\n",
       "\n",
       ".xr-section-summary-in:disabled + label:before {\n",
       "  color: var(--xr-disabled-color);\n",
       "}\n",
       "\n",
       ".xr-section-summary-in:checked + label:before {\n",
       "  content: '▼';\n",
       "}\n",
       "\n",
       ".xr-section-summary-in:checked + label > span {\n",
       "  display: none;\n",
       "}\n",
       "\n",
       ".xr-section-summary,\n",
       ".xr-section-inline-details {\n",
       "  padding-top: 4px;\n",
       "  padding-bottom: 4px;\n",
       "}\n",
       "\n",
       ".xr-section-inline-details {\n",
       "  grid-column: 2 / -1;\n",
       "}\n",
       "\n",
       ".xr-section-details {\n",
       "  display: none;\n",
       "  grid-column: 1 / -1;\n",
       "  margin-bottom: 5px;\n",
       "}\n",
       "\n",
       ".xr-section-summary-in:checked ~ .xr-section-details {\n",
       "  display: contents;\n",
       "}\n",
       "\n",
       ".xr-array-wrap {\n",
       "  grid-column: 1 / -1;\n",
       "  display: grid;\n",
       "  grid-template-columns: 20px auto;\n",
       "}\n",
       "\n",
       ".xr-array-wrap > label {\n",
       "  grid-column: 1;\n",
       "  vertical-align: top;\n",
       "}\n",
       "\n",
       ".xr-preview {\n",
       "  color: var(--xr-font-color3);\n",
       "}\n",
       "\n",
       ".xr-array-preview,\n",
       ".xr-array-data {\n",
       "  padding: 0 5px !important;\n",
       "  grid-column: 2;\n",
       "}\n",
       "\n",
       ".xr-array-data,\n",
       ".xr-array-in:checked ~ .xr-array-preview {\n",
       "  display: none;\n",
       "}\n",
       "\n",
       ".xr-array-in:checked ~ .xr-array-data,\n",
       ".xr-array-preview {\n",
       "  display: inline-block;\n",
       "}\n",
       "\n",
       ".xr-dim-list {\n",
       "  display: inline-block !important;\n",
       "  list-style: none;\n",
       "  padding: 0 !important;\n",
       "  margin: 0;\n",
       "}\n",
       "\n",
       ".xr-dim-list li {\n",
       "  display: inline-block;\n",
       "  padding: 0;\n",
       "  margin: 0;\n",
       "}\n",
       "\n",
       ".xr-dim-list:before {\n",
       "  content: '(';\n",
       "}\n",
       "\n",
       ".xr-dim-list:after {\n",
       "  content: ')';\n",
       "}\n",
       "\n",
       ".xr-dim-list li:not(:last-child):after {\n",
       "  content: ',';\n",
       "  padding-right: 5px;\n",
       "}\n",
       "\n",
       ".xr-has-index {\n",
       "  font-weight: bold;\n",
       "}\n",
       "\n",
       ".xr-var-list,\n",
       ".xr-var-item {\n",
       "  display: contents;\n",
       "}\n",
       "\n",
       ".xr-var-item > div,\n",
       ".xr-var-item label,\n",
       ".xr-var-item > .xr-var-name span {\n",
       "  background-color: var(--xr-background-color-row-even);\n",
       "  margin-bottom: 0;\n",
       "}\n",
       "\n",
       ".xr-var-item > .xr-var-name:hover span {\n",
       "  padding-right: 5px;\n",
       "}\n",
       "\n",
       ".xr-var-list > li:nth-child(odd) > div,\n",
       ".xr-var-list > li:nth-child(odd) > label,\n",
       ".xr-var-list > li:nth-child(odd) > .xr-var-name span {\n",
       "  background-color: var(--xr-background-color-row-odd);\n",
       "}\n",
       "\n",
       ".xr-var-name {\n",
       "  grid-column: 1;\n",
       "}\n",
       "\n",
       ".xr-var-dims {\n",
       "  grid-column: 2;\n",
       "}\n",
       "\n",
       ".xr-var-dtype {\n",
       "  grid-column: 3;\n",
       "  text-align: right;\n",
       "  color: var(--xr-font-color2);\n",
       "}\n",
       "\n",
       ".xr-var-preview {\n",
       "  grid-column: 4;\n",
       "}\n",
       "\n",
       ".xr-var-name,\n",
       ".xr-var-dims,\n",
       ".xr-var-dtype,\n",
       ".xr-preview,\n",
       ".xr-attrs dt {\n",
       "  white-space: nowrap;\n",
       "  overflow: hidden;\n",
       "  text-overflow: ellipsis;\n",
       "  padding-right: 10px;\n",
       "}\n",
       "\n",
       ".xr-var-name:hover,\n",
       ".xr-var-dims:hover,\n",
       ".xr-var-dtype:hover,\n",
       ".xr-attrs dt:hover {\n",
       "  overflow: visible;\n",
       "  width: auto;\n",
       "  z-index: 1;\n",
       "}\n",
       "\n",
       ".xr-var-attrs,\n",
       ".xr-var-data {\n",
       "  display: none;\n",
       "  background-color: var(--xr-background-color) !important;\n",
       "  padding-bottom: 5px !important;\n",
       "}\n",
       "\n",
       ".xr-var-attrs-in:checked ~ .xr-var-attrs,\n",
       ".xr-var-data-in:checked ~ .xr-var-data {\n",
       "  display: block;\n",
       "}\n",
       "\n",
       ".xr-var-data > table {\n",
       "  float: right;\n",
       "}\n",
       "\n",
       ".xr-var-name span,\n",
       ".xr-var-data,\n",
       ".xr-attrs {\n",
       "  padding-left: 25px !important;\n",
       "}\n",
       "\n",
       ".xr-attrs,\n",
       ".xr-var-attrs,\n",
       ".xr-var-data {\n",
       "  grid-column: 1 / -1;\n",
       "}\n",
       "\n",
       "dl.xr-attrs {\n",
       "  padding: 0;\n",
       "  margin: 0;\n",
       "  display: grid;\n",
       "  grid-template-columns: 125px auto;\n",
       "}\n",
       "\n",
       ".xr-attrs dt,\n",
       ".xr-attrs dd {\n",
       "  padding: 0;\n",
       "  margin: 0;\n",
       "  float: left;\n",
       "  padding-right: 10px;\n",
       "  width: auto;\n",
       "}\n",
       "\n",
       ".xr-attrs dt {\n",
       "  font-weight: normal;\n",
       "  grid-column: 1;\n",
       "}\n",
       "\n",
       ".xr-attrs dt:hover span {\n",
       "  display: inline-block;\n",
       "  background: var(--xr-background-color);\n",
       "  padding-right: 10px;\n",
       "}\n",
       "\n",
       ".xr-attrs dd {\n",
       "  grid-column: 2;\n",
       "  white-space: pre-wrap;\n",
       "  word-break: break-all;\n",
       "}\n",
       "\n",
       ".xr-icon-database,\n",
       ".xr-icon-file-text2 {\n",
       "  display: inline-block;\n",
       "  vertical-align: middle;\n",
       "  width: 1em;\n",
       "  height: 1.5em !important;\n",
       "  stroke-width: 0;\n",
       "  stroke: currentColor;\n",
       "  fill: currentColor;\n",
       "}\n",
       "</style><pre class='xr-text-repr-fallback'>&lt;xarray.Dataset&gt;\n",
       "Dimensions:  (time: 24, lon: 121, lat: 81, member: 10, step: 3)\n",
       "Coordinates:\n",
       "  * time     (time) datetime64[ns] 1993-03-01 1994-03-01 ... 2016-03-01\n",
       "  * lon      (lon) float32 120.0 121.0 122.0 123.0 ... 237.0 238.0 239.0 240.0\n",
       "  * lat      (lat) float32 -50.0 -49.0 -48.0 -47.0 -46.0 ... 27.0 28.0 29.0 30.0\n",
       "  * member   (member) int32 0 1 2 3 4 5 6 7 8 9\n",
       "  * step     (step) int64 3 4 5\n",
       "Data variables:\n",
       "    precip   (time, step, member, lat, lon) float64 dask.array&lt;chunksize=(24, 1, 10, 10, 10), meta=np.ndarray&gt;\n",
       "Attributes:\n",
       "    Conventions:  CF-1.6\n",
       "    history:      2022-03-13 21:51:46 GMT by grib_to_netcdf-2.24.2: /opt/ecmw...</pre><div class='xr-wrap' style='display:none'><div class='xr-header'><div class='xr-obj-type'>xarray.Dataset</div></div><ul class='xr-sections'><li class='xr-section-item'><input id='section-a82de971-41d9-493f-97ec-f7c66fdc4586' class='xr-section-summary-in' type='checkbox' disabled ><label for='section-a82de971-41d9-493f-97ec-f7c66fdc4586' class='xr-section-summary'  title='Expand/collapse section'>Dimensions:</label><div class='xr-section-inline-details'><ul class='xr-dim-list'><li><span class='xr-has-index'>time</span>: 24</li><li><span class='xr-has-index'>lon</span>: 121</li><li><span class='xr-has-index'>lat</span>: 81</li><li><span class='xr-has-index'>member</span>: 10</li><li><span class='xr-has-index'>step</span>: 3</li></ul></div><div class='xr-section-details'></div></li><li class='xr-section-item'><input id='section-7ac592bc-bc60-44ab-ac58-763e37fa5357' class='xr-section-summary-in' type='checkbox'  checked><label for='section-7ac592bc-bc60-44ab-ac58-763e37fa5357' class='xr-section-summary' >Coordinates: <span>(5)</span></label><div class='xr-section-inline-details'></div><div class='xr-section-details'><ul class='xr-var-list'><li class='xr-var-item'><div class='xr-var-name'><span class='xr-has-index'>time</span></div><div class='xr-var-dims'>(time)</div><div class='xr-var-dtype'>datetime64[ns]</div><div class='xr-var-preview xr-preview'>1993-03-01 ... 2016-03-01</div><input id='attrs-2fcc344c-c5a3-4990-b3b4-6993d9d271f1' class='xr-var-attrs-in' type='checkbox' disabled><label for='attrs-2fcc344c-c5a3-4990-b3b4-6993d9d271f1' title='Show/Hide attributes'><svg class='icon xr-icon-file-text2'><use xlink:href='#icon-file-text2'></use></svg></label><input id='data-d69ab6f8-da77-4e61-8bf8-fd60c58929bc' class='xr-var-data-in' type='checkbox'><label for='data-d69ab6f8-da77-4e61-8bf8-fd60c58929bc' title='Show/Hide data repr'><svg class='icon xr-icon-database'><use xlink:href='#icon-database'></use></svg></label><div class='xr-var-attrs'><dl class='xr-attrs'></dl></div><div class='xr-var-data'><pre>array([&#x27;1993-03-01T00:00:00.000000000&#x27;, &#x27;1994-03-01T00:00:00.000000000&#x27;,\n",
       "       &#x27;1995-03-01T00:00:00.000000000&#x27;, &#x27;1996-03-01T00:00:00.000000000&#x27;,\n",
       "       &#x27;1997-03-01T00:00:00.000000000&#x27;, &#x27;1998-03-01T00:00:00.000000000&#x27;,\n",
       "       &#x27;1999-03-01T00:00:00.000000000&#x27;, &#x27;2000-03-01T00:00:00.000000000&#x27;,\n",
       "       &#x27;2001-03-01T00:00:00.000000000&#x27;, &#x27;2002-03-01T00:00:00.000000000&#x27;,\n",
       "       &#x27;2003-03-01T00:00:00.000000000&#x27;, &#x27;2004-03-01T00:00:00.000000000&#x27;,\n",
       "       &#x27;2005-03-01T00:00:00.000000000&#x27;, &#x27;2006-03-01T00:00:00.000000000&#x27;,\n",
       "       &#x27;2007-03-01T00:00:00.000000000&#x27;, &#x27;2008-03-01T00:00:00.000000000&#x27;,\n",
       "       &#x27;2009-03-01T00:00:00.000000000&#x27;, &#x27;2010-03-01T00:00:00.000000000&#x27;,\n",
       "       &#x27;2011-03-01T00:00:00.000000000&#x27;, &#x27;2012-03-01T00:00:00.000000000&#x27;,\n",
       "       &#x27;2013-03-01T00:00:00.000000000&#x27;, &#x27;2014-03-01T00:00:00.000000000&#x27;,\n",
       "       &#x27;2015-03-01T00:00:00.000000000&#x27;, &#x27;2016-03-01T00:00:00.000000000&#x27;],\n",
       "      dtype=&#x27;datetime64[ns]&#x27;)</pre></div></li><li class='xr-var-item'><div class='xr-var-name'><span class='xr-has-index'>lon</span></div><div class='xr-var-dims'>(lon)</div><div class='xr-var-dtype'>float32</div><div class='xr-var-preview xr-preview'>120.0 121.0 122.0 ... 239.0 240.0</div><input id='attrs-8a7fa92c-6c3e-42c6-8e42-f4152558d2b1' class='xr-var-attrs-in' type='checkbox' ><label for='attrs-8a7fa92c-6c3e-42c6-8e42-f4152558d2b1' title='Show/Hide attributes'><svg class='icon xr-icon-file-text2'><use xlink:href='#icon-file-text2'></use></svg></label><input id='data-1b4a00fb-9b6e-4b30-97ae-89b0337672e7' class='xr-var-data-in' type='checkbox'><label for='data-1b4a00fb-9b6e-4b30-97ae-89b0337672e7' title='Show/Hide data repr'><svg class='icon xr-icon-database'><use xlink:href='#icon-database'></use></svg></label><div class='xr-var-attrs'><dl class='xr-attrs'><dt><span>units :</span></dt><dd>degrees_east</dd><dt><span>long_name :</span></dt><dd>longitude</dd></dl></div><div class='xr-var-data'><pre>array([120., 121., 122., 123., 124., 125., 126., 127., 128., 129., 130., 131.,\n",
       "       132., 133., 134., 135., 136., 137., 138., 139., 140., 141., 142., 143.,\n",
       "       144., 145., 146., 147., 148., 149., 150., 151., 152., 153., 154., 155.,\n",
       "       156., 157., 158., 159., 160., 161., 162., 163., 164., 165., 166., 167.,\n",
       "       168., 169., 170., 171., 172., 173., 174., 175., 176., 177., 178., 179.,\n",
       "       180., 181., 182., 183., 184., 185., 186., 187., 188., 189., 190., 191.,\n",
       "       192., 193., 194., 195., 196., 197., 198., 199., 200., 201., 202., 203.,\n",
       "       204., 205., 206., 207., 208., 209., 210., 211., 212., 213., 214., 215.,\n",
       "       216., 217., 218., 219., 220., 221., 222., 223., 224., 225., 226., 227.,\n",
       "       228., 229., 230., 231., 232., 233., 234., 235., 236., 237., 238., 239.,\n",
       "       240.], dtype=float32)</pre></div></li><li class='xr-var-item'><div class='xr-var-name'><span class='xr-has-index'>lat</span></div><div class='xr-var-dims'>(lat)</div><div class='xr-var-dtype'>float32</div><div class='xr-var-preview xr-preview'>-50.0 -49.0 -48.0 ... 29.0 30.0</div><input id='attrs-e9c64d44-9c5c-4fca-9a21-69b1043b65ac' class='xr-var-attrs-in' type='checkbox' ><label for='attrs-e9c64d44-9c5c-4fca-9a21-69b1043b65ac' title='Show/Hide attributes'><svg class='icon xr-icon-file-text2'><use xlink:href='#icon-file-text2'></use></svg></label><input id='data-94526ef6-2e1a-424e-b66f-23fc047af7d3' class='xr-var-data-in' type='checkbox'><label for='data-94526ef6-2e1a-424e-b66f-23fc047af7d3' title='Show/Hide data repr'><svg class='icon xr-icon-database'><use xlink:href='#icon-database'></use></svg></label><div class='xr-var-attrs'><dl class='xr-attrs'><dt><span>units :</span></dt><dd>degrees_north</dd><dt><span>long_name :</span></dt><dd>latitude</dd></dl></div><div class='xr-var-data'><pre>array([-50., -49., -48., -47., -46., -45., -44., -43., -42., -41., -40., -39.,\n",
       "       -38., -37., -36., -35., -34., -33., -32., -31., -30., -29., -28., -27.,\n",
       "       -26., -25., -24., -23., -22., -21., -20., -19., -18., -17., -16., -15.,\n",
       "       -14., -13., -12., -11., -10.,  -9.,  -8.,  -7.,  -6.,  -5.,  -4.,  -3.,\n",
       "        -2.,  -1.,   0.,   1.,   2.,   3.,   4.,   5.,   6.,   7.,   8.,   9.,\n",
       "        10.,  11.,  12.,  13.,  14.,  15.,  16.,  17.,  18.,  19.,  20.,  21.,\n",
       "        22.,  23.,  24.,  25.,  26.,  27.,  28.,  29.,  30.], dtype=float32)</pre></div></li><li class='xr-var-item'><div class='xr-var-name'><span class='xr-has-index'>member</span></div><div class='xr-var-dims'>(member)</div><div class='xr-var-dtype'>int32</div><div class='xr-var-preview xr-preview'>0 1 2 3 4 5 6 7 8 9</div><input id='attrs-62ba689b-4f74-4cb9-afb2-89b24fe80694' class='xr-var-attrs-in' type='checkbox' ><label for='attrs-62ba689b-4f74-4cb9-afb2-89b24fe80694' title='Show/Hide attributes'><svg class='icon xr-icon-file-text2'><use xlink:href='#icon-file-text2'></use></svg></label><input id='data-1b0bf01e-ecf1-4c54-9ab8-c2625cd4edeb' class='xr-var-data-in' type='checkbox'><label for='data-1b0bf01e-ecf1-4c54-9ab8-c2625cd4edeb' title='Show/Hide data repr'><svg class='icon xr-icon-database'><use xlink:href='#icon-database'></use></svg></label><div class='xr-var-attrs'><dl class='xr-attrs'><dt><span>long_name :</span></dt><dd>ensemble_member</dd></dl></div><div class='xr-var-data'><pre>array([0, 1, 2, 3, 4, 5, 6, 7, 8, 9], dtype=int32)</pre></div></li><li class='xr-var-item'><div class='xr-var-name'><span class='xr-has-index'>step</span></div><div class='xr-var-dims'>(step)</div><div class='xr-var-dtype'>int64</div><div class='xr-var-preview xr-preview'>3 4 5</div><input id='attrs-a2554eec-326a-4571-b979-39bd255cbb8d' class='xr-var-attrs-in' type='checkbox' disabled><label for='attrs-a2554eec-326a-4571-b979-39bd255cbb8d' title='Show/Hide attributes'><svg class='icon xr-icon-file-text2'><use xlink:href='#icon-file-text2'></use></svg></label><input id='data-158dade5-061b-47da-8a13-6cc1cd88543c' class='xr-var-data-in' type='checkbox'><label for='data-158dade5-061b-47da-8a13-6cc1cd88543c' title='Show/Hide data repr'><svg class='icon xr-icon-database'><use xlink:href='#icon-database'></use></svg></label><div class='xr-var-attrs'><dl class='xr-attrs'></dl></div><div class='xr-var-data'><pre>array([3, 4, 5])</pre></div></li></ul></div></li><li class='xr-section-item'><input id='section-d14ace0d-d3fc-419b-b5e5-9dc1986776be' class='xr-section-summary-in' type='checkbox'  checked><label for='section-d14ace0d-d3fc-419b-b5e5-9dc1986776be' class='xr-section-summary' >Data variables: <span>(1)</span></label><div class='xr-section-inline-details'></div><div class='xr-section-details'><ul class='xr-var-list'><li class='xr-var-item'><div class='xr-var-name'><span>precip</span></div><div class='xr-var-dims'>(time, step, member, lat, lon)</div><div class='xr-var-dtype'>float64</div><div class='xr-var-preview xr-preview'>dask.array&lt;chunksize=(24, 1, 10, 10, 10), meta=np.ndarray&gt;</div><input id='attrs-2cb25fa7-f0c9-4c67-8a60-71cf78b1126e' class='xr-var-attrs-in' type='checkbox' ><label for='attrs-2cb25fa7-f0c9-4c67-8a60-71cf78b1126e' title='Show/Hide attributes'><svg class='icon xr-icon-file-text2'><use xlink:href='#icon-file-text2'></use></svg></label><input id='data-75b1dc94-07cd-4a00-9727-da34945a3a50' class='xr-var-data-in' type='checkbox'><label for='data-75b1dc94-07cd-4a00-9727-da34945a3a50' title='Show/Hide data repr'><svg class='icon xr-icon-database'><use xlink:href='#icon-database'></use></svg></label><div class='xr-var-attrs'><dl class='xr-attrs'><dt><span>units :</span></dt><dd>mm/month</dd></dl></div><div class='xr-var-data'><table>\n",
       "    <tr>\n",
       "        <td>\n",
       "            <table>\n",
       "                <thead>\n",
       "                    <tr>\n",
       "                        <td> </td>\n",
       "                        <th> Array </th>\n",
       "                        <th> Chunk </th>\n",
       "                    </tr>\n",
       "                </thead>\n",
       "                <tbody>\n",
       "                    \n",
       "                    <tr>\n",
       "                        <th> Bytes </th>\n",
       "                        <td> 53.84 MiB </td>\n",
       "                        <td> 187.50 kiB </td>\n",
       "                    </tr>\n",
       "                    \n",
       "                    <tr>\n",
       "                        <th> Shape </th>\n",
       "                        <td> (24, 3, 10, 81, 121) </td>\n",
       "                        <td> (24, 1, 10, 10, 10) </td>\n",
       "                    </tr>\n",
       "                    <tr>\n",
       "                        <th> Count </th>\n",
       "                        <td> 1686 Tasks </td>\n",
       "                        <td> 351 Chunks </td>\n",
       "                    </tr>\n",
       "                    <tr>\n",
       "                    <th> Type </th>\n",
       "                    <td> float64 </td>\n",
       "                    <td> numpy.ndarray </td>\n",
       "                    </tr>\n",
       "                </tbody>\n",
       "            </table>\n",
       "        </td>\n",
       "        <td>\n",
       "        <svg width=\"392\" height=\"152\" style=\"stroke:rgb(0,0,0);stroke-width:1\" >\n",
       "\n",
       "  <!-- Horizontal lines -->\n",
       "  <line x1=\"0\" y1=\"0\" x2=\"30\" y2=\"0\" style=\"stroke-width:2\" />\n",
       "  <line x1=\"0\" y1=\"41\" x2=\"30\" y2=\"41\" style=\"stroke-width:2\" />\n",
       "\n",
       "  <!-- Vertical lines -->\n",
       "  <line x1=\"0\" y1=\"0\" x2=\"0\" y2=\"41\" style=\"stroke-width:2\" />\n",
       "  <line x1=\"10\" y1=\"0\" x2=\"10\" y2=\"41\" />\n",
       "  <line x1=\"20\" y1=\"0\" x2=\"20\" y2=\"41\" />\n",
       "  <line x1=\"30\" y1=\"0\" x2=\"30\" y2=\"41\" style=\"stroke-width:2\" />\n",
       "\n",
       "  <!-- Colored Rectangle -->\n",
       "  <polygon points=\"0.0,0.0 30.26292606701685,0.0 30.26292606701685,41.974744095238016 0.0,41.974744095238016\" style=\"fill:#ECB172A0;stroke-width:0\"/>\n",
       "\n",
       "  <!-- Text -->\n",
       "  <text x=\"15.131463\" y=\"61.974744\" font-size=\"1.0rem\" font-weight=\"100\" text-anchor=\"middle\" >3</text>\n",
       "  <text x=\"50.262926\" y=\"20.987372\" font-size=\"1.0rem\" font-weight=\"100\" text-anchor=\"middle\" transform=\"rotate(0,50.262926,20.987372)\">24</text>\n",
       "\n",
       "\n",
       "  <!-- Horizontal lines -->\n",
       "  <line x1=\"100\" y1=\"0\" x2=\"122\" y2=\"22\" style=\"stroke-width:2\" />\n",
       "  <line x1=\"100\" y1=\"9\" x2=\"122\" y2=\"31\" />\n",
       "  <line x1=\"100\" y1=\"19\" x2=\"122\" y2=\"41\" />\n",
       "  <line x1=\"100\" y1=\"29\" x2=\"122\" y2=\"51\" />\n",
       "  <line x1=\"100\" y1=\"39\" x2=\"122\" y2=\"61\" />\n",
       "  <line x1=\"100\" y1=\"49\" x2=\"122\" y2=\"71\" />\n",
       "  <line x1=\"100\" y1=\"59\" x2=\"122\" y2=\"81\" />\n",
       "  <line x1=\"100\" y1=\"69\" x2=\"122\" y2=\"91\" />\n",
       "  <line x1=\"100\" y1=\"79\" x2=\"122\" y2=\"101\" />\n",
       "  <line x1=\"100\" y1=\"80\" x2=\"122\" y2=\"102\" style=\"stroke-width:2\" />\n",
       "\n",
       "  <!-- Vertical lines -->\n",
       "  <line x1=\"100\" y1=\"0\" x2=\"100\" y2=\"80\" style=\"stroke-width:2\" />\n",
       "  <line x1=\"122\" y1=\"22\" x2=\"122\" y2=\"102\" style=\"stroke-width:2\" />\n",
       "\n",
       "  <!-- Colored Rectangle -->\n",
       "  <polygon points=\"100.0,0.0 122.06797403173512,22.06797403173512 122.06797403173512,102.39855254413182 100.0,80.3305785123967\" style=\"fill:#ECB172A0;stroke-width:0\"/>\n",
       "\n",
       "  <!-- Horizontal lines -->\n",
       "  <line x1=\"100\" y1=\"0\" x2=\"220\" y2=\"0\" style=\"stroke-width:2\" />\n",
       "  <line x1=\"122\" y1=\"22\" x2=\"242\" y2=\"22\" style=\"stroke-width:2\" />\n",
       "\n",
       "  <!-- Vertical lines -->\n",
       "  <line x1=\"100\" y1=\"0\" x2=\"122\" y2=\"22\" style=\"stroke-width:2\" />\n",
       "  <line x1=\"109\" y1=\"0\" x2=\"131\" y2=\"22\" />\n",
       "  <line x1=\"119\" y1=\"0\" x2=\"141\" y2=\"22\" />\n",
       "  <line x1=\"129\" y1=\"0\" x2=\"151\" y2=\"22\" />\n",
       "  <line x1=\"139\" y1=\"0\" x2=\"161\" y2=\"22\" />\n",
       "  <line x1=\"149\" y1=\"0\" x2=\"171\" y2=\"22\" />\n",
       "  <line x1=\"159\" y1=\"0\" x2=\"181\" y2=\"22\" />\n",
       "  <line x1=\"169\" y1=\"0\" x2=\"191\" y2=\"22\" />\n",
       "  <line x1=\"179\" y1=\"0\" x2=\"201\" y2=\"22\" />\n",
       "  <line x1=\"189\" y1=\"0\" x2=\"211\" y2=\"22\" />\n",
       "  <line x1=\"199\" y1=\"0\" x2=\"221\" y2=\"22\" />\n",
       "  <line x1=\"209\" y1=\"0\" x2=\"231\" y2=\"22\" />\n",
       "  <line x1=\"219\" y1=\"0\" x2=\"241\" y2=\"22\" />\n",
       "  <line x1=\"220\" y1=\"0\" x2=\"242\" y2=\"22\" style=\"stroke-width:2\" />\n",
       "\n",
       "  <!-- Colored Rectangle -->\n",
       "  <polygon points=\"100.0,0.0 220.0,0.0 242.0679740317351,22.06797403173512 122.06797403173512,22.06797403173512\" style=\"fill:#ECB172A0;stroke-width:0\"/>\n",
       "\n",
       "  <!-- Horizontal lines -->\n",
       "  <line x1=\"122\" y1=\"22\" x2=\"242\" y2=\"22\" style=\"stroke-width:2\" />\n",
       "  <line x1=\"122\" y1=\"31\" x2=\"242\" y2=\"31\" />\n",
       "  <line x1=\"122\" y1=\"41\" x2=\"242\" y2=\"41\" />\n",
       "  <line x1=\"122\" y1=\"51\" x2=\"242\" y2=\"51\" />\n",
       "  <line x1=\"122\" y1=\"61\" x2=\"242\" y2=\"61\" />\n",
       "  <line x1=\"122\" y1=\"71\" x2=\"242\" y2=\"71\" />\n",
       "  <line x1=\"122\" y1=\"81\" x2=\"242\" y2=\"81\" />\n",
       "  <line x1=\"122\" y1=\"91\" x2=\"242\" y2=\"91\" />\n",
       "  <line x1=\"122\" y1=\"101\" x2=\"242\" y2=\"101\" />\n",
       "  <line x1=\"122\" y1=\"102\" x2=\"242\" y2=\"102\" style=\"stroke-width:2\" />\n",
       "\n",
       "  <!-- Vertical lines -->\n",
       "  <line x1=\"122\" y1=\"22\" x2=\"122\" y2=\"102\" style=\"stroke-width:2\" />\n",
       "  <line x1=\"131\" y1=\"22\" x2=\"131\" y2=\"102\" />\n",
       "  <line x1=\"141\" y1=\"22\" x2=\"141\" y2=\"102\" />\n",
       "  <line x1=\"151\" y1=\"22\" x2=\"151\" y2=\"102\" />\n",
       "  <line x1=\"161\" y1=\"22\" x2=\"161\" y2=\"102\" />\n",
       "  <line x1=\"171\" y1=\"22\" x2=\"171\" y2=\"102\" />\n",
       "  <line x1=\"181\" y1=\"22\" x2=\"181\" y2=\"102\" />\n",
       "  <line x1=\"191\" y1=\"22\" x2=\"191\" y2=\"102\" />\n",
       "  <line x1=\"201\" y1=\"22\" x2=\"201\" y2=\"102\" />\n",
       "  <line x1=\"211\" y1=\"22\" x2=\"211\" y2=\"102\" />\n",
       "  <line x1=\"221\" y1=\"22\" x2=\"221\" y2=\"102\" />\n",
       "  <line x1=\"231\" y1=\"22\" x2=\"231\" y2=\"102\" />\n",
       "  <line x1=\"241\" y1=\"22\" x2=\"241\" y2=\"102\" />\n",
       "  <line x1=\"242\" y1=\"22\" x2=\"242\" y2=\"102\" style=\"stroke-width:2\" />\n",
       "\n",
       "  <!-- Colored Rectangle -->\n",
       "  <polygon points=\"122.06797403173512,22.06797403173512 242.0679740317351,22.06797403173512 242.0679740317351,102.39855254413182 122.06797403173512,102.39855254413182\" style=\"fill:#ECB172A0;stroke-width:0\"/>\n",
       "\n",
       "  <!-- Text -->\n",
       "  <text x=\"182.067974\" y=\"122.398553\" font-size=\"1.0rem\" font-weight=\"100\" text-anchor=\"middle\" >121</text>\n",
       "  <text x=\"262.067974\" y=\"62.233263\" font-size=\"1.0rem\" font-weight=\"100\" text-anchor=\"middle\" transform=\"rotate(0,262.067974,62.233263)\">81</text>\n",
       "  <text x=\"101.033987\" y=\"111.364566\" font-size=\"1.0rem\" font-weight=\"100\" text-anchor=\"middle\" transform=\"rotate(45,101.033987,111.364566)\">10</text>\n",
       "</svg>\n",
       "        </td>\n",
       "    </tr>\n",
       "</table></div></li></ul></div></li><li class='xr-section-item'><input id='section-9279892f-a08c-4949-bd50-598b64db5394' class='xr-section-summary-in' type='checkbox'  checked><label for='section-9279892f-a08c-4949-bd50-598b64db5394' class='xr-section-summary' >Attributes: <span>(2)</span></label><div class='xr-section-inline-details'></div><div class='xr-section-details'><dl class='xr-attrs'><dt><span>Conventions :</span></dt><dd>CF-1.6</dd><dt><span>history :</span></dt><dd>2022-03-13 21:51:46 GMT by grib_to_netcdf-2.24.2: /opt/ecmwf/mars-client/bin/grib_to_netcdf -S param -o /cache/data9/adaptor.mars.external-1647208305.9401054-23469-10-cb30e0f2-2260-4080-b388-3a35a0009f9d.nc /cache/tmp/cb30e0f2-2260-4080-b388-3a35a0009f9d-adaptor.mars.external-1647208304.3960865-23469-10-tmp.grib</dd></dl></div></li></ul></div></div>"
      ],
      "text/plain": [
       "<xarray.Dataset>\n",
       "Dimensions:  (time: 24, lon: 121, lat: 81, member: 10, step: 3)\n",
       "Coordinates:\n",
       "  * time     (time) datetime64[ns] 1993-03-01 1994-03-01 ... 2016-03-01\n",
       "  * lon      (lon) float32 120.0 121.0 122.0 123.0 ... 237.0 238.0 239.0 240.0\n",
       "  * lat      (lat) float32 -50.0 -49.0 -48.0 -47.0 -46.0 ... 27.0 28.0 29.0 30.0\n",
       "  * member   (member) int32 0 1 2 3 4 5 6 7 8 9\n",
       "  * step     (step) int64 3 4 5\n",
       "Data variables:\n",
       "    precip   (time, step, member, lat, lon) float64 dask.array<chunksize=(24, 1, 10, 10, 10), meta=np.ndarray>\n",
       "Attributes:\n",
       "    Conventions:  CF-1.6\n",
       "    history:      2022-03-13 21:51:46 GMT by grib_to_netcdf-2.24.2: /opt/ecmw..."
      ]
     },
     "execution_count": 37,
     "metadata": {},
     "output_type": "execute_result"
    }
   ],
   "source": [
    "dset"
   ]
  },
  {
   "cell_type": "markdown",
   "id": "13ed01c1-f131-496e-b26b-ed795cc0e632",
   "metadata": {
    "papermill": {
     "duration": 0.02668,
     "end_time": "2022-03-15T22:55:29.336709",
     "exception": false,
     "start_time": "2022-03-15T22:55:29.310029",
     "status": "completed"
    },
    "tags": []
   },
   "source": [
    "### uncomment the following for visual inspection of the hindcasts "
   ]
  },
  {
   "cell_type": "code",
   "execution_count": 38,
   "id": "14ecb4f9-ff39-483b-9221-58be9ac10a79",
   "metadata": {
    "execution": {
     "iopub.execute_input": "2022-03-15T22:55:29.393082Z",
     "iopub.status.busy": "2022-03-15T22:55:29.392742Z",
     "iopub.status.idle": "2022-03-15T22:55:29.411463Z",
     "shell.execute_reply": "2022-03-15T22:55:29.411107Z"
    },
    "papermill": {
     "duration": 0.047675,
     "end_time": "2022-03-15T22:55:29.411546",
     "exception": false,
     "start_time": "2022-03-15T22:55:29.363871",
     "status": "completed"
    },
    "tags": []
   },
   "outputs": [],
   "source": [
    "# for t in range(24): \n",
    "#     for s in range(5): \n",
    "#         fg = dset.isel(time=t, step=s)['precip'].plot(vmax=1000., col='member', col_wrap=5)\n",
    "#         fg.fig.savefig(f'./tmp/JMA_hindcast_t_{t}_s_{s}.png', dpi=200, bbox_inches='tight', facecolor='w')\n",
    "#         plt.close(fg.fig)"
   ]
  },
  {
   "cell_type": "markdown",
   "id": "b6c38ca6-b0f1-4f3b-b742-b7a1baa5ea42",
   "metadata": {
    "papermill": {
     "duration": 0.026486,
     "end_time": "2022-03-15T22:55:29.464795",
     "exception": false,
     "start_time": "2022-03-15T22:55:29.438309",
     "status": "completed"
    },
    "tags": []
   },
   "source": [
    "### stack the time and members "
   ]
  },
  {
   "cell_type": "code",
   "execution_count": 39,
   "id": "694b4d5a-c61e-4085-a446-4ec88ece7853",
   "metadata": {
    "execution": {
     "iopub.execute_input": "2022-03-15T22:55:29.520459Z",
     "iopub.status.busy": "2022-03-15T22:55:29.520131Z",
     "iopub.status.idle": "2022-03-15T22:55:29.540495Z",
     "shell.execute_reply": "2022-03-15T22:55:29.540148Z"
    },
    "papermill": {
     "duration": 0.049436,
     "end_time": "2022-03-15T22:55:29.540577",
     "exception": false,
     "start_time": "2022-03-15T22:55:29.491141",
     "status": "completed"
    },
    "tags": []
   },
   "outputs": [],
   "source": [
    "clim = dset.stack(instance=('time','member'))"
   ]
  },
  {
   "cell_type": "code",
   "execution_count": 40,
   "id": "353e977d-10d0-416f-8bf4-fc91e64f5f19",
   "metadata": {
    "execution": {
     "iopub.execute_input": "2022-03-15T22:55:29.597235Z",
     "iopub.status.busy": "2022-03-15T22:55:29.596869Z",
     "iopub.status.idle": "2022-03-15T22:55:29.988038Z",
     "shell.execute_reply": "2022-03-15T22:55:29.988291Z"
    },
    "papermill": {
     "duration": 0.421286,
     "end_time": "2022-03-15T22:55:29.988392",
     "exception": false,
     "start_time": "2022-03-15T22:55:29.567106",
     "status": "completed"
    },
    "tags": []
   },
   "outputs": [
    {
     "name": "stdout",
     "output_type": "stream",
     "text": [
      "The seasonal tprate hindcast climatologies from month 3 in ECCC_GEM_NEMO will be calculated using 240 instances\n",
      "\n"
     ]
    }
   ],
   "source": [
    "# drop the eventual missing instances (due to sometimes inconsistent number of members)\n",
    "clim = clim.dropna(dim='instance')\n",
    "\n",
    "# rechunk so that we have a continuous instance dimension \n",
    "clim = clim.chunk({'instance':-1})\n",
    "\n",
    "# number of instances for the calculation of the quantiles climatologies, will be added to the dataset for record-keeping \n",
    "n_instances = len(clim['instance'])\n",
    "\n",
    "# print \n",
    "print(f\"The {period} {varname} hindcast climatologies from month {initial_month} in {GCM} will be calculated using {n_instances} instances\\n\")\n",
    "\n",
    "# now loop over the quantiles dictionnary, calculates the climatological quantiles, do some \n",
    "# data munging, and saves to disk \n"
   ]
  },
  {
   "cell_type": "code",
   "execution_count": 41,
   "id": "bf9027d9-2079-468f-a496-e1540fb7b9a9",
   "metadata": {
    "execution": {
     "iopub.execute_input": "2022-03-15T22:55:30.046054Z",
     "iopub.status.busy": "2022-03-15T22:55:30.045698Z",
     "iopub.status.idle": "2022-03-15T22:55:48.949472Z",
     "shell.execute_reply": "2022-03-15T22:55:48.947849Z"
    },
    "papermill": {
     "duration": 18.934473,
     "end_time": "2022-03-15T22:55:48.949811",
     "exception": false,
     "start_time": "2022-03-15T22:55:30.015338",
     "status": "completed"
    },
    "tags": []
   },
   "outputs": [
    {
     "name": "stdout",
     "output_type": "stream",
     "text": [
      "tercile climatology\n",
      "\n",
      "[########################################] | 100% Completed |  4.2s\n",
      "Successfully saved /media/nicolasf/END19101/ICU/data/CDS/operational/hindcasts/CLIMATOLOGY/ECCC_GEM_NEMO/TPRATE/ECCC_GEM_NEMO_tprate_seasonal_tercile_climatology_03.netcdf\n",
      "\n",
      "decile climatology\n",
      "\n",
      "[########################################] | 100% Completed |  4.4s\n",
      "Successfully saved /media/nicolasf/END19101/ICU/data/CDS/operational/hindcasts/CLIMATOLOGY/ECCC_GEM_NEMO/TPRATE/ECCC_GEM_NEMO_tprate_seasonal_decile_climatology_03.netcdf\n",
      "\n",
      "quartile climatology\n",
      "\n",
      "[########################################] | 100% Completed |  4.3s\n",
      "Successfully saved /media/nicolasf/END19101/ICU/data/CDS/operational/hindcasts/CLIMATOLOGY/ECCC_GEM_NEMO/TPRATE/ECCC_GEM_NEMO_tprate_seasonal_quartile_climatology_03.netcdf\n",
      "\n",
      "percentile climatology\n",
      "\n",
      "[########################################] | 100% Completed |  4.6s\n",
      "Successfully saved /media/nicolasf/END19101/ICU/data/CDS/operational/hindcasts/CLIMATOLOGY/ECCC_GEM_NEMO/TPRATE/ECCC_GEM_NEMO_tprate_seasonal_percentile_climatology_03.netcdf\n",
      "\n"
     ]
    }
   ],
   "source": [
    "for k in dict_quantiles.keys():\n",
    "\n",
    "    print(f\"{k} climatology\\n\")\n",
    "\n",
    "    clim_quantile = clim.quantile(dict_quantiles[k], dim='instance')\n",
    "\n",
    "    # adds a `'month' dimension with coordinate `month`, for later concatenation\n",
    "    clim_quantile = clim_quantile.expand_dims({'month':[initial_month]})\n",
    "\n",
    "    # add the number of instances in the dataset for record-keeping\n",
    "    clim_quantile['n_instances'] = (('month'), [n_instances])\n",
    "\n",
    "    # now compute \n",
    "    with ProgressBar(): \n",
    "\n",
    "        clim_quantile = clim_quantile.compute() \n",
    "\n",
    "    # save to disk \n",
    "    clim_quantile.to_netcdf(clim_path.joinpath(f\"{GCM}_{varname}_{period}_{k}_climatology_{initial_month:02d}.netcdf\"))\n",
    "\n",
    "    if clim_path.joinpath(f\"{GCM}_{varname}_{period}_{k}_climatology_{initial_month:02d}.netcdf\").exists(): \n",
    "\n",
    "        print(f\"Successfully saved {str(clim_path.joinpath(f'{GCM}_{varname}_{period}_{k}_climatology_{initial_month:02d}.netcdf'))}\\n\")\n",
    "\n",
    "        clim_quantile.close()"
   ]
  },
  {
   "cell_type": "code",
   "execution_count": null,
   "id": "89469e14-6aa3-4e51-b38b-1cb2d5c25d88",
   "metadata": {
    "papermill": {
     "duration": 0.061008,
     "end_time": "2022-03-15T22:55:49.129010",
     "exception": false,
     "start_time": "2022-03-15T22:55:49.068002",
     "status": "completed"
    },
    "tags": []
   },
   "outputs": [],
   "source": []
  }
 ],
 "metadata": {
  "kernelspec": {
   "display_name": "Python 3 (ipykernel)",
   "language": "python",
   "name": "python3"
  },
  "language_info": {
   "codemirror_mode": {
    "name": "ipython",
    "version": 3
   },
   "file_extension": ".py",
   "mimetype": "text/x-python",
   "name": "python",
   "nbconvert_exporter": "python",
   "pygments_lexer": "ipython3",
   "version": "3.9.10"
  },
  "papermill": {
   "default_parameters": {},
   "duration": 41.819375,
   "end_time": "2022-03-15T22:55:49.806154",
   "environment_variables": {},
   "exception": null,
   "input_path": "3_GCMs_hindcast_climatology_ops.ipynb",
   "output_path": "3_GCMs_hindcast_climatology_ops.ipynb",
   "parameters": {
    "GCM": "ECCC_GEM_NEMO",
    "period": "seasonal"
   },
   "start_time": "2022-03-15T22:55:07.986779",
   "version": "2.3.3"
  }
 },
 "nbformat": 4,
 "nbformat_minor": 5
}
