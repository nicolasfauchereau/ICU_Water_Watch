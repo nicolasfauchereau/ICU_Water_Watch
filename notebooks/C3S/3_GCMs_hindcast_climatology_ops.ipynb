{
 "cells": [
  {
   "cell_type": "markdown",
   "id": "dc848a92-0993-4d7a-8b8c-59ee5d5e5564",
   "metadata": {
    "papermill": {
     "duration": 0.007414,
     "end_time": "2022-06-09T05:03:09.455655",
     "exception": false,
     "start_time": "2022-06-09T05:03:09.448241",
     "status": "completed"
    },
    "tags": []
   },
   "source": [
    "# calculate the leadtime-dependent climatological terciles, quartiles, deciles and percentiles (0.02, then 0.05 to 0.95 with 0.05 step) from the individual GCMs' hindcast dataset (period 1993 - 2016) "
   ]
  },
  {
   "cell_type": "code",
   "execution_count": 1,
   "id": "d9e3e956-31d5-4606-b762-657a128f93dc",
   "metadata": {
    "execution": {
     "iopub.execute_input": "2022-06-09T05:03:09.479217Z",
     "iopub.status.busy": "2022-06-09T05:03:09.479008Z",
     "iopub.status.idle": "2022-06-09T05:03:09.490768Z",
     "shell.execute_reply": "2022-06-09T05:03:09.490255Z"
    },
    "papermill": {
     "duration": 0.029104,
     "end_time": "2022-06-09T05:03:09.492248",
     "exception": false,
     "start_time": "2022-06-09T05:03:09.463144",
     "status": "completed"
    },
    "tags": []
   },
   "outputs": [],
   "source": [
    "%load_ext autoreload\n",
    "%autoreload 2"
   ]
  },
  {
   "cell_type": "code",
   "execution_count": 2,
   "id": "ec7c9f73-b771-4191-9c46-eb9e2ca266ad",
   "metadata": {
    "execution": {
     "iopub.execute_input": "2022-06-09T05:03:09.504773Z",
     "iopub.status.busy": "2022-06-09T05:03:09.504628Z",
     "iopub.status.idle": "2022-06-09T05:03:10.945599Z",
     "shell.execute_reply": "2022-06-09T05:03:10.944989Z"
    },
    "papermill": {
     "duration": 1.4484,
     "end_time": "2022-06-09T05:03:10.946941",
     "exception": false,
     "start_time": "2022-06-09T05:03:09.498541",
     "status": "completed"
    },
    "tags": []
   },
   "outputs": [],
   "source": [
    "%matplotlib inline\n",
    "\n",
    "### os\n",
    "import os\n",
    "import sys\n",
    "from collections import OrderedDict\n",
    "\n",
    "### datetimes\n",
    "from datetime import datetime, timedelta\n",
    "from dateutil.relativedelta import relativedelta\n",
    "from calendar import month_name\n",
    "\n",
    "\n",
    "### scipy\n",
    "import numpy as np\n",
    "import pandas as pd\n",
    "import xarray as xr\n",
    "import geopandas as gpd\n",
    "import cartopy.crs as ccrs\n",
    "import dask\n",
    "from dask.diagnostics import ProgressBar\n",
    "from tqdm import tqdm\n",
    "\n",
    "### plotting\n",
    "from matplotlib import pyplot as plt\n",
    "import matplotlib\n",
    "import seaborn as sns\n"
   ]
  },
  {
   "cell_type": "code",
   "execution_count": 3,
   "id": "0cab9771-20cf-4302-9c84-97580f01d934",
   "metadata": {
    "execution": {
     "iopub.execute_input": "2022-06-09T05:03:10.960408Z",
     "iopub.status.busy": "2022-06-09T05:03:10.960242Z",
     "iopub.status.idle": "2022-06-09T05:03:10.977213Z",
     "shell.execute_reply": "2022-06-09T05:03:10.976809Z"
    },
    "papermill": {
     "duration": 0.025841,
     "end_time": "2022-06-09T05:03:10.978404",
     "exception": false,
     "start_time": "2022-06-09T05:03:10.952563",
     "status": "completed"
    },
    "tags": []
   },
   "outputs": [],
   "source": [
    "import pathlib\n",
    "\n",
    "HOME = pathlib.Path.home()\n",
    "CWD = pathlib.Path.cwd() "
   ]
  },
  {
   "cell_type": "code",
   "execution_count": 4,
   "id": "03b5d899-37d8-48b0-b161-3b5a67d2e116",
   "metadata": {
    "execution": {
     "iopub.execute_input": "2022-06-09T05:03:10.990005Z",
     "iopub.status.busy": "2022-06-09T05:03:10.989861Z",
     "iopub.status.idle": "2022-06-09T05:03:11.005973Z",
     "shell.execute_reply": "2022-06-09T05:03:11.005531Z"
    },
    "papermill": {
     "duration": 0.023462,
     "end_time": "2022-06-09T05:03:11.007194",
     "exception": false,
     "start_time": "2022-06-09T05:03:10.983732",
     "status": "completed"
    },
    "tags": []
   },
   "outputs": [],
   "source": [
    "sys.path.append('../../') "
   ]
  },
  {
   "cell_type": "code",
   "execution_count": 5,
   "id": "d986433d-94b5-41de-b90e-ff762bdcb9c4",
   "metadata": {
    "execution": {
     "iopub.execute_input": "2022-06-09T05:03:11.018980Z",
     "iopub.status.busy": "2022-06-09T05:03:11.018831Z",
     "iopub.status.idle": "2022-06-09T05:03:24.169983Z",
     "shell.execute_reply": "2022-06-09T05:03:24.169459Z"
    },
    "papermill": {
     "duration": 13.158856,
     "end_time": "2022-06-09T05:03:24.171325",
     "exception": false,
     "start_time": "2022-06-09T05:03:11.012469",
     "status": "completed"
    },
    "tags": []
   },
   "outputs": [],
   "source": [
    "from ICU_Water_Watch import geo, C3S, domains, plot"
   ]
  },
  {
   "cell_type": "markdown",
   "id": "949050d4-1717-4ddd-85da-23dc1cb372a5",
   "metadata": {
    "papermill": {
     "duration": 0.006362,
     "end_time": "2022-06-09T05:03:24.183294",
     "exception": false,
     "start_time": "2022-06-09T05:03:24.176932",
     "status": "completed"
    },
    "tags": []
   },
   "source": [
    "### parameters for papermill"
   ]
  },
  {
   "cell_type": "code",
   "execution_count": 6,
   "id": "86e1d7f7-b974-425c-b22d-34a9acc90b16",
   "metadata": {
    "execution": {
     "iopub.execute_input": "2022-06-09T05:03:24.195483Z",
     "iopub.status.busy": "2022-06-09T05:03:24.195333Z",
     "iopub.status.idle": "2022-06-09T05:03:24.214187Z",
     "shell.execute_reply": "2022-06-09T05:03:24.213714Z"
    },
    "papermill": {
     "duration": 0.026659,
     "end_time": "2022-06-09T05:03:24.215506",
     "exception": false,
     "start_time": "2022-06-09T05:03:24.188847",
     "status": "completed"
    },
    "tags": [
     "parameters"
    ]
   },
   "outputs": [],
   "source": [
    "provider = 'CDS' # should not change\n",
    "GCM = 'ECMWF' # should be in ['ECMWF','UKMO','METEO_FRANCE','CMCC','DWD', 'NCEP', 'JMA', 'ECCC_CanCM4i', 'ECCC_GEM5_NEMO']\n",
    "varname = 'tprate' # can be in ['tprate','t2m']\n",
    "period = 'seasonal' # valid values: 'seasonal or 'monthly'\n",
    "# if one wants to process older forecasts \n",
    "lag = 0\n",
    "# path where to find the hindcasts / reforecasts\n",
    "gcm_path = f'/media/nicolasf/END19101/ICU/data/{provider}/operational/hindcasts'"
   ]
  },
  {
   "cell_type": "markdown",
   "id": "ea904f40-803b-439c-ade7-bda5bed7ac2e",
   "metadata": {
    "papermill": {
     "duration": 0.005071,
     "end_time": "2022-06-09T05:03:24.256233",
     "exception": false,
     "start_time": "2022-06-09T05:03:24.251162",
     "status": "completed"
    },
    "tags": []
   },
   "source": [
    "### dictionnary holding quantile name and quantile values, they are passed as **lists** to avoid any numerical issues "
   ]
  },
  {
   "cell_type": "code",
   "execution_count": 8,
   "id": "6ccb7b07-f062-4ea7-9f0a-58dd9b082bba",
   "metadata": {
    "execution": {
     "iopub.execute_input": "2022-06-09T05:03:24.267760Z",
     "iopub.status.busy": "2022-06-09T05:03:24.267611Z",
     "iopub.status.idle": "2022-06-09T05:03:24.286498Z",
     "shell.execute_reply": "2022-06-09T05:03:24.285995Z"
    },
    "papermill": {
     "duration": 0.026281,
     "end_time": "2022-06-09T05:03:24.287749",
     "exception": false,
     "start_time": "2022-06-09T05:03:24.261468",
     "status": "completed"
    },
    "tags": []
   },
   "outputs": [],
   "source": [
    "dict_quantiles = OrderedDict()\n",
    "dict_quantiles['tercile'] = [0.3333, 0.6666]\n",
    "dict_quantiles['quartile'] = [0.25, 0.50, 0.75]\n",
    "dict_quantiles['decile'] = [0.1, 0.2, 0.3, 0.4, 0.5, 0.6, 0.7, 0.8, 0.9]\n",
    "dict_quantiles['percentile'] = [0.02, 0.05, 0.1 , 0.15, 0.2 , 0.25, 0.3 , 0.35, 0.4 , 0.45, 0.5 , 0.55, 0.6 , 0.65, 0.7 , 0.75, 0.8 , 0.85, 0.9 , 0.95] "
   ]
  },
  {
   "cell_type": "markdown",
   "id": "1ab179b7-6509-448c-8d32-423a1f9941a2",
   "metadata": {
    "papermill": {
     "duration": 0.00545,
     "end_time": "2022-06-09T05:03:24.298989",
     "exception": false,
     "start_time": "2022-06-09T05:03:24.293539",
     "status": "completed"
    },
    "tags": []
   },
   "source": [
    "### get today's date "
   ]
  },
  {
   "cell_type": "code",
   "execution_count": 9,
   "id": "5b4d2bc9-000e-45d5-883e-d95e95f2bfa8",
   "metadata": {
    "execution": {
     "iopub.execute_input": "2022-06-09T05:03:24.310195Z",
     "iopub.status.busy": "2022-06-09T05:03:24.310052Z",
     "iopub.status.idle": "2022-06-09T05:03:24.327868Z",
     "shell.execute_reply": "2022-06-09T05:03:24.327419Z"
    },
    "papermill": {
     "duration": 0.02486,
     "end_time": "2022-06-09T05:03:24.329058",
     "exception": false,
     "start_time": "2022-06-09T05:03:24.304198",
     "status": "completed"
    },
    "tags": []
   },
   "outputs": [],
   "source": [
    "date = datetime.utcnow()"
   ]
  },
  {
   "cell_type": "markdown",
   "id": "553b1099-d8dd-40a4-85ff-3a670669f110",
   "metadata": {
    "papermill": {
     "duration": 0.005065,
     "end_time": "2022-06-09T05:03:24.339508",
     "exception": false,
     "start_time": "2022-06-09T05:03:24.334443",
     "status": "completed"
    },
    "tags": []
   },
   "source": [
    "### apply lag "
   ]
  },
  {
   "cell_type": "code",
   "execution_count": 10,
   "id": "5703429a-ab0d-499f-85c8-e661019d0219",
   "metadata": {
    "execution": {
     "iopub.execute_input": "2022-06-09T05:03:24.350670Z",
     "iopub.status.busy": "2022-06-09T05:03:24.350524Z",
     "iopub.status.idle": "2022-06-09T05:03:24.368477Z",
     "shell.execute_reply": "2022-06-09T05:03:24.368014Z"
    },
    "papermill": {
     "duration": 0.025001,
     "end_time": "2022-06-09T05:03:24.369681",
     "exception": false,
     "start_time": "2022-06-09T05:03:24.344680",
     "status": "completed"
    },
    "tags": []
   },
   "outputs": [],
   "source": [
    "date = date - relativedelta(months=lag)"
   ]
  },
  {
   "cell_type": "code",
   "execution_count": 11,
   "id": "d8517c79-5453-44f1-ac83-112641f3badd",
   "metadata": {
    "execution": {
     "iopub.execute_input": "2022-06-09T05:03:24.381179Z",
     "iopub.status.busy": "2022-06-09T05:03:24.380979Z",
     "iopub.status.idle": "2022-06-09T05:03:24.399272Z",
     "shell.execute_reply": "2022-06-09T05:03:24.398821Z"
    },
    "papermill": {
     "duration": 0.025323,
     "end_time": "2022-06-09T05:03:24.400282",
     "exception": false,
     "start_time": "2022-06-09T05:03:24.374959",
     "status": "completed"
    },
    "tags": []
   },
   "outputs": [
    {
     "name": "stdout",
     "output_type": "stream",
     "text": [
      "will process hindcasts for June\n"
     ]
    }
   ],
   "source": [
    "print(f\"will process hindcasts for {date:%B}\")"
   ]
  },
  {
   "cell_type": "code",
   "execution_count": 12,
   "id": "a4016628-87a1-42ad-9b5a-748449057c83",
   "metadata": {
    "execution": {
     "iopub.execute_input": "2022-06-09T05:03:24.412550Z",
     "iopub.status.busy": "2022-06-09T05:03:24.412021Z",
     "iopub.status.idle": "2022-06-09T05:03:24.431594Z",
     "shell.execute_reply": "2022-06-09T05:03:24.431117Z"
    },
    "papermill": {
     "duration": 0.027042,
     "end_time": "2022-06-09T05:03:24.432803",
     "exception": false,
     "start_time": "2022-06-09T05:03:24.405761",
     "status": "completed"
    },
    "tags": []
   },
   "outputs": [],
   "source": [
    "initial_month = date.month"
   ]
  },
  {
   "cell_type": "markdown",
   "id": "e50a87c7-b682-47e8-a894-0ce0910b7065",
   "metadata": {
    "papermill": {
     "duration": 0.005245,
     "end_time": "2022-06-09T05:03:24.443401",
     "exception": false,
     "start_time": "2022-06-09T05:03:24.438156",
     "status": "completed"
    },
    "tags": []
   },
   "source": [
    "#### where to save the climatologies "
   ]
  },
  {
   "cell_type": "code",
   "execution_count": 13,
   "id": "3ab2d527-8a2a-40ec-b687-22bf27609308",
   "metadata": {
    "execution": {
     "iopub.execute_input": "2022-06-09T05:03:24.455010Z",
     "iopub.status.busy": "2022-06-09T05:03:24.454813Z",
     "iopub.status.idle": "2022-06-09T05:03:24.476946Z",
     "shell.execute_reply": "2022-06-09T05:03:24.476493Z"
    },
    "papermill": {
     "duration": 0.029434,
     "end_time": "2022-06-09T05:03:24.478107",
     "exception": false,
     "start_time": "2022-06-09T05:03:24.448673",
     "status": "completed"
    },
    "tags": []
   },
   "outputs": [],
   "source": [
    "gcm_path = pathlib.Path(gcm_path)"
   ]
  },
  {
   "cell_type": "code",
   "execution_count": 14,
   "id": "8ddb62da-ad1c-4b79-9b3b-29146d810b7d",
   "metadata": {
    "execution": {
     "iopub.execute_input": "2022-06-09T05:03:24.489497Z",
     "iopub.status.busy": "2022-06-09T05:03:24.489346Z",
     "iopub.status.idle": "2022-06-09T05:03:24.507282Z",
     "shell.execute_reply": "2022-06-09T05:03:24.506783Z"
    },
    "papermill": {
     "duration": 0.025081,
     "end_time": "2022-06-09T05:03:24.508508",
     "exception": false,
     "start_time": "2022-06-09T05:03:24.483427",
     "status": "completed"
    },
    "tags": []
   },
   "outputs": [],
   "source": [
    "dpath = gcm_path.joinpath(GCM).joinpath(varname.upper())"
   ]
  },
  {
   "cell_type": "code",
   "execution_count": 15,
   "id": "679005be-3f9c-4f2a-83de-7768c5b917d4",
   "metadata": {
    "execution": {
     "iopub.execute_input": "2022-06-09T05:03:24.520579Z",
     "iopub.status.busy": "2022-06-09T05:03:24.520429Z",
     "iopub.status.idle": "2022-06-09T05:03:24.538782Z",
     "shell.execute_reply": "2022-06-09T05:03:24.538324Z"
    },
    "papermill": {
     "duration": 0.026012,
     "end_time": "2022-06-09T05:03:24.540001",
     "exception": false,
     "start_time": "2022-06-09T05:03:24.513989",
     "status": "completed"
    },
    "tags": []
   },
   "outputs": [],
   "source": [
    "clim_path = gcm_path.joinpath(f'CLIMATOLOGY/{GCM}/{varname.upper()}')"
   ]
  },
  {
   "cell_type": "code",
   "execution_count": 16,
   "id": "a2f7f1dc-078f-4de8-90d5-6f3537a1cb0d",
   "metadata": {
    "execution": {
     "iopub.execute_input": "2022-06-09T05:03:24.551468Z",
     "iopub.status.busy": "2022-06-09T05:03:24.551315Z",
     "iopub.status.idle": "2022-06-09T05:03:24.571093Z",
     "shell.execute_reply": "2022-06-09T05:03:24.570665Z"
    },
    "papermill": {
     "duration": 0.026817,
     "end_time": "2022-06-09T05:03:24.572119",
     "exception": false,
     "start_time": "2022-06-09T05:03:24.545302",
     "status": "completed"
    },
    "tags": []
   },
   "outputs": [
    {
     "data": {
      "text/plain": [
       "PosixPath('/media/nicolasf/END19101/ICU/data/CDS/operational/hindcasts/CLIMATOLOGY/ECCC_GEM5_NEMO/TPRATE')"
      ]
     },
     "execution_count": 16,
     "metadata": {},
     "output_type": "execute_result"
    }
   ],
   "source": [
    "clim_path"
   ]
  },
  {
   "cell_type": "code",
   "execution_count": 17,
   "id": "0694a8c7-3ddd-42e6-a4bb-2693457b3a01",
   "metadata": {
    "execution": {
     "iopub.execute_input": "2022-06-09T05:03:24.583821Z",
     "iopub.status.busy": "2022-06-09T05:03:24.583668Z",
     "iopub.status.idle": "2022-06-09T05:03:24.601242Z",
     "shell.execute_reply": "2022-06-09T05:03:24.600840Z"
    },
    "papermill": {
     "duration": 0.024935,
     "end_time": "2022-06-09T05:03:24.602489",
     "exception": false,
     "start_time": "2022-06-09T05:03:24.577554",
     "status": "completed"
    },
    "tags": []
   },
   "outputs": [],
   "source": [
    "if not clim_path.exists(): \n",
    "    \n",
    "    clim_path.mkdir(parents=True)"
   ]
  },
  {
   "cell_type": "markdown",
   "id": "d47e42f3-1647-4f1b-866f-501481e2dfab",
   "metadata": {
    "papermill": {
     "duration": 0.005222,
     "end_time": "2022-06-09T05:03:24.613083",
     "exception": false,
     "start_time": "2022-06-09T05:03:24.607861",
     "status": "completed"
    },
    "tags": []
   },
   "source": [
    "### get the list of files "
   ]
  },
  {
   "cell_type": "code",
   "execution_count": 18,
   "id": "56cb44c4-ab7d-4786-b4f1-1e5b73b7015d",
   "metadata": {
    "execution": {
     "iopub.execute_input": "2022-06-09T05:03:24.625092Z",
     "iopub.status.busy": "2022-06-09T05:03:24.624940Z",
     "iopub.status.idle": "2022-06-09T05:03:24.644332Z",
     "shell.execute_reply": "2022-06-09T05:03:24.643872Z"
    },
    "papermill": {
     "duration": 0.02708,
     "end_time": "2022-06-09T05:03:24.645587",
     "exception": false,
     "start_time": "2022-06-09T05:03:24.618507",
     "status": "completed"
    },
    "tags": []
   },
   "outputs": [],
   "source": [
    "if 'ECCC' in GCM: \n",
    "    lfiles = list(dpath.glob(f\"ensemble_seas_forecasts_{varname}_from_*_{initial_month:02d}_{GCM.split('_')[0]}.netcdf\"))\n",
    "else: \n",
    "    lfiles = list(dpath.glob(f\"ensemble_seas_forecasts_{varname}_from_*_{initial_month:02d}_{GCM}.netcdf\"))"
   ]
  },
  {
   "cell_type": "code",
   "execution_count": 19,
   "id": "a1e49b09-ad9d-4881-b396-a41abccb3857",
   "metadata": {
    "execution": {
     "iopub.execute_input": "2022-06-09T05:03:24.657682Z",
     "iopub.status.busy": "2022-06-09T05:03:24.657532Z",
     "iopub.status.idle": "2022-06-09T05:03:24.675379Z",
     "shell.execute_reply": "2022-06-09T05:03:24.674941Z"
    },
    "papermill": {
     "duration": 0.025368,
     "end_time": "2022-06-09T05:03:24.676695",
     "exception": false,
     "start_time": "2022-06-09T05:03:24.651327",
     "status": "completed"
    },
    "tags": []
   },
   "outputs": [],
   "source": [
    "lfiles.sort()"
   ]
  },
  {
   "cell_type": "code",
   "execution_count": 20,
   "id": "83bb26ed-7f6c-4d0f-b2b8-b66217829ec5",
   "metadata": {
    "execution": {
     "iopub.execute_input": "2022-06-09T05:03:24.688570Z",
     "iopub.status.busy": "2022-06-09T05:03:24.688417Z",
     "iopub.status.idle": "2022-06-09T05:03:24.707091Z",
     "shell.execute_reply": "2022-06-09T05:03:24.706655Z"
    },
    "papermill": {
     "duration": 0.025953,
     "end_time": "2022-06-09T05:03:24.708115",
     "exception": false,
     "start_time": "2022-06-09T05:03:24.682162",
     "status": "completed"
    },
    "tags": []
   },
   "outputs": [
    {
     "data": {
      "text/plain": [
       "[PosixPath('/media/nicolasf/END19101/ICU/data/CDS/operational/hindcasts/ECCC_GEM5_NEMO/TPRATE/ensemble_seas_forecasts_tprate_from_1993_06_ECCC.netcdf'),\n",
       " PosixPath('/media/nicolasf/END19101/ICU/data/CDS/operational/hindcasts/ECCC_GEM5_NEMO/TPRATE/ensemble_seas_forecasts_tprate_from_1994_06_ECCC.netcdf'),\n",
       " PosixPath('/media/nicolasf/END19101/ICU/data/CDS/operational/hindcasts/ECCC_GEM5_NEMO/TPRATE/ensemble_seas_forecasts_tprate_from_1995_06_ECCC.netcdf'),\n",
       " PosixPath('/media/nicolasf/END19101/ICU/data/CDS/operational/hindcasts/ECCC_GEM5_NEMO/TPRATE/ensemble_seas_forecasts_tprate_from_1996_06_ECCC.netcdf'),\n",
       " PosixPath('/media/nicolasf/END19101/ICU/data/CDS/operational/hindcasts/ECCC_GEM5_NEMO/TPRATE/ensemble_seas_forecasts_tprate_from_1997_06_ECCC.netcdf'),\n",
       " PosixPath('/media/nicolasf/END19101/ICU/data/CDS/operational/hindcasts/ECCC_GEM5_NEMO/TPRATE/ensemble_seas_forecasts_tprate_from_1998_06_ECCC.netcdf'),\n",
       " PosixPath('/media/nicolasf/END19101/ICU/data/CDS/operational/hindcasts/ECCC_GEM5_NEMO/TPRATE/ensemble_seas_forecasts_tprate_from_1999_06_ECCC.netcdf'),\n",
       " PosixPath('/media/nicolasf/END19101/ICU/data/CDS/operational/hindcasts/ECCC_GEM5_NEMO/TPRATE/ensemble_seas_forecasts_tprate_from_2000_06_ECCC.netcdf'),\n",
       " PosixPath('/media/nicolasf/END19101/ICU/data/CDS/operational/hindcasts/ECCC_GEM5_NEMO/TPRATE/ensemble_seas_forecasts_tprate_from_2001_06_ECCC.netcdf'),\n",
       " PosixPath('/media/nicolasf/END19101/ICU/data/CDS/operational/hindcasts/ECCC_GEM5_NEMO/TPRATE/ensemble_seas_forecasts_tprate_from_2002_06_ECCC.netcdf'),\n",
       " PosixPath('/media/nicolasf/END19101/ICU/data/CDS/operational/hindcasts/ECCC_GEM5_NEMO/TPRATE/ensemble_seas_forecasts_tprate_from_2003_06_ECCC.netcdf'),\n",
       " PosixPath('/media/nicolasf/END19101/ICU/data/CDS/operational/hindcasts/ECCC_GEM5_NEMO/TPRATE/ensemble_seas_forecasts_tprate_from_2004_06_ECCC.netcdf'),\n",
       " PosixPath('/media/nicolasf/END19101/ICU/data/CDS/operational/hindcasts/ECCC_GEM5_NEMO/TPRATE/ensemble_seas_forecasts_tprate_from_2005_06_ECCC.netcdf'),\n",
       " PosixPath('/media/nicolasf/END19101/ICU/data/CDS/operational/hindcasts/ECCC_GEM5_NEMO/TPRATE/ensemble_seas_forecasts_tprate_from_2006_06_ECCC.netcdf'),\n",
       " PosixPath('/media/nicolasf/END19101/ICU/data/CDS/operational/hindcasts/ECCC_GEM5_NEMO/TPRATE/ensemble_seas_forecasts_tprate_from_2007_06_ECCC.netcdf'),\n",
       " PosixPath('/media/nicolasf/END19101/ICU/data/CDS/operational/hindcasts/ECCC_GEM5_NEMO/TPRATE/ensemble_seas_forecasts_tprate_from_2008_06_ECCC.netcdf'),\n",
       " PosixPath('/media/nicolasf/END19101/ICU/data/CDS/operational/hindcasts/ECCC_GEM5_NEMO/TPRATE/ensemble_seas_forecasts_tprate_from_2009_06_ECCC.netcdf'),\n",
       " PosixPath('/media/nicolasf/END19101/ICU/data/CDS/operational/hindcasts/ECCC_GEM5_NEMO/TPRATE/ensemble_seas_forecasts_tprate_from_2010_06_ECCC.netcdf'),\n",
       " PosixPath('/media/nicolasf/END19101/ICU/data/CDS/operational/hindcasts/ECCC_GEM5_NEMO/TPRATE/ensemble_seas_forecasts_tprate_from_2011_06_ECCC.netcdf'),\n",
       " PosixPath('/media/nicolasf/END19101/ICU/data/CDS/operational/hindcasts/ECCC_GEM5_NEMO/TPRATE/ensemble_seas_forecasts_tprate_from_2012_06_ECCC.netcdf'),\n",
       " PosixPath('/media/nicolasf/END19101/ICU/data/CDS/operational/hindcasts/ECCC_GEM5_NEMO/TPRATE/ensemble_seas_forecasts_tprate_from_2013_06_ECCC.netcdf'),\n",
       " PosixPath('/media/nicolasf/END19101/ICU/data/CDS/operational/hindcasts/ECCC_GEM5_NEMO/TPRATE/ensemble_seas_forecasts_tprate_from_2014_06_ECCC.netcdf'),\n",
       " PosixPath('/media/nicolasf/END19101/ICU/data/CDS/operational/hindcasts/ECCC_GEM5_NEMO/TPRATE/ensemble_seas_forecasts_tprate_from_2015_06_ECCC.netcdf'),\n",
       " PosixPath('/media/nicolasf/END19101/ICU/data/CDS/operational/hindcasts/ECCC_GEM5_NEMO/TPRATE/ensemble_seas_forecasts_tprate_from_2016_06_ECCC.netcdf')]"
      ]
     },
     "execution_count": 20,
     "metadata": {},
     "output_type": "execute_result"
    }
   ],
   "source": [
    "lfiles"
   ]
  },
  {
   "cell_type": "code",
   "execution_count": 21,
   "id": "0ea663ad-65eb-4523-af55-34cec14aee5c",
   "metadata": {
    "execution": {
     "iopub.execute_input": "2022-06-09T05:03:24.721011Z",
     "iopub.status.busy": "2022-06-09T05:03:24.720859Z",
     "iopub.status.idle": "2022-06-09T05:03:24.742732Z",
     "shell.execute_reply": "2022-06-09T05:03:24.742310Z"
    },
    "papermill": {
     "duration": 0.030051,
     "end_time": "2022-06-09T05:03:24.743747",
     "exception": false,
     "start_time": "2022-06-09T05:03:24.713696",
     "status": "completed"
    },
    "tags": []
   },
   "outputs": [
    {
     "data": {
      "text/plain": [
       "PosixPath('/media/nicolasf/END19101/ICU/data/CDS/operational/hindcasts/ECCC_GEM5_NEMO/TPRATE/ensemble_seas_forecasts_tprate_from_1993_06_ECCC.netcdf')"
      ]
     },
     "execution_count": 21,
     "metadata": {},
     "output_type": "execute_result"
    }
   ],
   "source": [
    "lfiles[0]"
   ]
  },
  {
   "cell_type": "code",
   "execution_count": 22,
   "id": "f05cb729-d357-4ffc-a0d7-f05e84c4edb3",
   "metadata": {
    "execution": {
     "iopub.execute_input": "2022-06-09T05:03:24.756498Z",
     "iopub.status.busy": "2022-06-09T05:03:24.756344Z",
     "iopub.status.idle": "2022-06-09T05:03:24.775375Z",
     "shell.execute_reply": "2022-06-09T05:03:24.774910Z"
    },
    "papermill": {
     "duration": 0.026824,
     "end_time": "2022-06-09T05:03:24.776445",
     "exception": false,
     "start_time": "2022-06-09T05:03:24.749621",
     "status": "completed"
    },
    "tags": []
   },
   "outputs": [
    {
     "data": {
      "text/plain": [
       "PosixPath('/media/nicolasf/END19101/ICU/data/CDS/operational/hindcasts/ECCC_GEM5_NEMO/TPRATE/ensemble_seas_forecasts_tprate_from_2016_06_ECCC.netcdf')"
      ]
     },
     "execution_count": 22,
     "metadata": {},
     "output_type": "execute_result"
    }
   ],
   "source": [
    "lfiles[-1]"
   ]
  },
  {
   "cell_type": "code",
   "execution_count": 23,
   "id": "9f8ec547-7d72-4cf7-ac6a-ef68a1013548",
   "metadata": {
    "execution": {
     "iopub.execute_input": "2022-06-09T05:03:24.788542Z",
     "iopub.status.busy": "2022-06-09T05:03:24.788393Z",
     "iopub.status.idle": "2022-06-09T05:03:24.806889Z",
     "shell.execute_reply": "2022-06-09T05:03:24.806497Z"
    },
    "papermill": {
     "duration": 0.025804,
     "end_time": "2022-06-09T05:03:24.807949",
     "exception": false,
     "start_time": "2022-06-09T05:03:24.782145",
     "status": "completed"
    },
    "tags": []
   },
   "outputs": [
    {
     "data": {
      "text/plain": [
       "24"
      ]
     },
     "execution_count": 23,
     "metadata": {},
     "output_type": "execute_result"
    }
   ],
   "source": [
    "len(lfiles)"
   ]
  },
  {
   "cell_type": "markdown",
   "id": "a2e165d4-9d23-469b-9085-3aa4f0280eac",
   "metadata": {
    "papermill": {
     "duration": 0.005537,
     "end_time": "2022-06-09T05:03:24.819171",
     "exception": false,
     "start_time": "2022-06-09T05:03:24.813634",
     "status": "completed"
    },
    "tags": []
   },
   "source": [
    "### open the multiple files dataset, concatenating over the time dimension, and preprocessing "
   ]
  },
  {
   "cell_type": "code",
   "execution_count": 24,
   "id": "4c877a5a-60b4-44f0-8b3f-e9e1205f20d3",
   "metadata": {
    "execution": {
     "iopub.execute_input": "2022-06-09T05:03:24.831091Z",
     "iopub.status.busy": "2022-06-09T05:03:24.830945Z",
     "iopub.status.idle": "2022-06-09T05:03:25.429459Z",
     "shell.execute_reply": "2022-06-09T05:03:25.428992Z"
    },
    "papermill": {
     "duration": 0.606056,
     "end_time": "2022-06-09T05:03:25.430718",
     "exception": false,
     "start_time": "2022-06-09T05:03:24.824662",
     "status": "completed"
    },
    "tags": []
   },
   "outputs": [],
   "source": [
    "dset = xr.open_mfdataset(lfiles, preprocess=C3S.preprocess_GCM, parallel=True, engine='netcdf4')"
   ]
  },
  {
   "cell_type": "code",
   "execution_count": 25,
   "id": "b7afaa16-4579-4ce1-8c9e-aa2da451b518",
   "metadata": {
    "execution": {
     "iopub.execute_input": "2022-06-09T05:03:25.444871Z",
     "iopub.status.busy": "2022-06-09T05:03:25.444646Z",
     "iopub.status.idle": "2022-06-09T05:03:25.478436Z",
     "shell.execute_reply": "2022-06-09T05:03:25.478027Z"
    },
    "papermill": {
     "duration": 0.042764,
     "end_time": "2022-06-09T05:03:25.479451",
     "exception": false,
     "start_time": "2022-06-09T05:03:25.436687",
     "status": "completed"
    },
    "tags": []
   },
   "outputs": [
    {
     "data": {
      "text/html": [
       "<div><svg style=\"position: absolute; width: 0; height: 0; overflow: hidden\">\n",
       "<defs>\n",
       "<symbol id=\"icon-database\" viewBox=\"0 0 32 32\">\n",
       "<path d=\"M16 0c-8.837 0-16 2.239-16 5v4c0 2.761 7.163 5 16 5s16-2.239 16-5v-4c0-2.761-7.163-5-16-5z\"></path>\n",
       "<path d=\"M16 17c-8.837 0-16-2.239-16-5v6c0 2.761 7.163 5 16 5s16-2.239 16-5v-6c0 2.761-7.163 5-16 5z\"></path>\n",
       "<path d=\"M16 26c-8.837 0-16-2.239-16-5v6c0 2.761 7.163 5 16 5s16-2.239 16-5v-6c0 2.761-7.163 5-16 5z\"></path>\n",
       "</symbol>\n",
       "<symbol id=\"icon-file-text2\" viewBox=\"0 0 32 32\">\n",
       "<path d=\"M28.681 7.159c-0.694-0.947-1.662-2.053-2.724-3.116s-2.169-2.030-3.116-2.724c-1.612-1.182-2.393-1.319-2.841-1.319h-15.5c-1.378 0-2.5 1.121-2.5 2.5v27c0 1.378 1.122 2.5 2.5 2.5h23c1.378 0 2.5-1.122 2.5-2.5v-19.5c0-0.448-0.137-1.23-1.319-2.841zM24.543 5.457c0.959 0.959 1.712 1.825 2.268 2.543h-4.811v-4.811c0.718 0.556 1.584 1.309 2.543 2.268zM28 29.5c0 0.271-0.229 0.5-0.5 0.5h-23c-0.271 0-0.5-0.229-0.5-0.5v-27c0-0.271 0.229-0.5 0.5-0.5 0 0 15.499-0 15.5 0v7c0 0.552 0.448 1 1 1h7v19.5z\"></path>\n",
       "<path d=\"M23 26h-14c-0.552 0-1-0.448-1-1s0.448-1 1-1h14c0.552 0 1 0.448 1 1s-0.448 1-1 1z\"></path>\n",
       "<path d=\"M23 22h-14c-0.552 0-1-0.448-1-1s0.448-1 1-1h14c0.552 0 1 0.448 1 1s-0.448 1-1 1z\"></path>\n",
       "<path d=\"M23 18h-14c-0.552 0-1-0.448-1-1s0.448-1 1-1h14c0.552 0 1 0.448 1 1s-0.448 1-1 1z\"></path>\n",
       "</symbol>\n",
       "</defs>\n",
       "</svg>\n",
       "<style>/* CSS stylesheet for displaying xarray objects in jupyterlab.\n",
       " *\n",
       " */\n",
       "\n",
       ":root {\n",
       "  --xr-font-color0: var(--jp-content-font-color0, rgba(0, 0, 0, 1));\n",
       "  --xr-font-color2: var(--jp-content-font-color2, rgba(0, 0, 0, 0.54));\n",
       "  --xr-font-color3: var(--jp-content-font-color3, rgba(0, 0, 0, 0.38));\n",
       "  --xr-border-color: var(--jp-border-color2, #e0e0e0);\n",
       "  --xr-disabled-color: var(--jp-layout-color3, #bdbdbd);\n",
       "  --xr-background-color: var(--jp-layout-color0, white);\n",
       "  --xr-background-color-row-even: var(--jp-layout-color1, white);\n",
       "  --xr-background-color-row-odd: var(--jp-layout-color2, #eeeeee);\n",
       "}\n",
       "\n",
       "html[theme=dark],\n",
       "body.vscode-dark {\n",
       "  --xr-font-color0: rgba(255, 255, 255, 1);\n",
       "  --xr-font-color2: rgba(255, 255, 255, 0.54);\n",
       "  --xr-font-color3: rgba(255, 255, 255, 0.38);\n",
       "  --xr-border-color: #1F1F1F;\n",
       "  --xr-disabled-color: #515151;\n",
       "  --xr-background-color: #111111;\n",
       "  --xr-background-color-row-even: #111111;\n",
       "  --xr-background-color-row-odd: #313131;\n",
       "}\n",
       "\n",
       ".xr-wrap {\n",
       "  display: block !important;\n",
       "  min-width: 300px;\n",
       "  max-width: 700px;\n",
       "}\n",
       "\n",
       ".xr-text-repr-fallback {\n",
       "  /* fallback to plain text repr when CSS is not injected (untrusted notebook) */\n",
       "  display: none;\n",
       "}\n",
       "\n",
       ".xr-header {\n",
       "  padding-top: 6px;\n",
       "  padding-bottom: 6px;\n",
       "  margin-bottom: 4px;\n",
       "  border-bottom: solid 1px var(--xr-border-color);\n",
       "}\n",
       "\n",
       ".xr-header > div,\n",
       ".xr-header > ul {\n",
       "  display: inline;\n",
       "  margin-top: 0;\n",
       "  margin-bottom: 0;\n",
       "}\n",
       "\n",
       ".xr-obj-type,\n",
       ".xr-array-name {\n",
       "  margin-left: 2px;\n",
       "  margin-right: 10px;\n",
       "}\n",
       "\n",
       ".xr-obj-type {\n",
       "  color: var(--xr-font-color2);\n",
       "}\n",
       "\n",
       ".xr-sections {\n",
       "  padding-left: 0 !important;\n",
       "  display: grid;\n",
       "  grid-template-columns: 150px auto auto 1fr 20px 20px;\n",
       "}\n",
       "\n",
       ".xr-section-item {\n",
       "  display: contents;\n",
       "}\n",
       "\n",
       ".xr-section-item input {\n",
       "  display: none;\n",
       "}\n",
       "\n",
       ".xr-section-item input + label {\n",
       "  color: var(--xr-disabled-color);\n",
       "}\n",
       "\n",
       ".xr-section-item input:enabled + label {\n",
       "  cursor: pointer;\n",
       "  color: var(--xr-font-color2);\n",
       "}\n",
       "\n",
       ".xr-section-item input:enabled + label:hover {\n",
       "  color: var(--xr-font-color0);\n",
       "}\n",
       "\n",
       ".xr-section-summary {\n",
       "  grid-column: 1;\n",
       "  color: var(--xr-font-color2);\n",
       "  font-weight: 500;\n",
       "}\n",
       "\n",
       ".xr-section-summary > span {\n",
       "  display: inline-block;\n",
       "  padding-left: 0.5em;\n",
       "}\n",
       "\n",
       ".xr-section-summary-in:disabled + label {\n",
       "  color: var(--xr-font-color2);\n",
       "}\n",
       "\n",
       ".xr-section-summary-in + label:before {\n",
       "  display: inline-block;\n",
       "  content: '►';\n",
       "  font-size: 11px;\n",
       "  width: 15px;\n",
       "  text-align: center;\n",
       "}\n",
       "\n",
       ".xr-section-summary-in:disabled + label:before {\n",
       "  color: var(--xr-disabled-color);\n",
       "}\n",
       "\n",
       ".xr-section-summary-in:checked + label:before {\n",
       "  content: '▼';\n",
       "}\n",
       "\n",
       ".xr-section-summary-in:checked + label > span {\n",
       "  display: none;\n",
       "}\n",
       "\n",
       ".xr-section-summary,\n",
       ".xr-section-inline-details {\n",
       "  padding-top: 4px;\n",
       "  padding-bottom: 4px;\n",
       "}\n",
       "\n",
       ".xr-section-inline-details {\n",
       "  grid-column: 2 / -1;\n",
       "}\n",
       "\n",
       ".xr-section-details {\n",
       "  display: none;\n",
       "  grid-column: 1 / -1;\n",
       "  margin-bottom: 5px;\n",
       "}\n",
       "\n",
       ".xr-section-summary-in:checked ~ .xr-section-details {\n",
       "  display: contents;\n",
       "}\n",
       "\n",
       ".xr-array-wrap {\n",
       "  grid-column: 1 / -1;\n",
       "  display: grid;\n",
       "  grid-template-columns: 20px auto;\n",
       "}\n",
       "\n",
       ".xr-array-wrap > label {\n",
       "  grid-column: 1;\n",
       "  vertical-align: top;\n",
       "}\n",
       "\n",
       ".xr-preview {\n",
       "  color: var(--xr-font-color3);\n",
       "}\n",
       "\n",
       ".xr-array-preview,\n",
       ".xr-array-data {\n",
       "  padding: 0 5px !important;\n",
       "  grid-column: 2;\n",
       "}\n",
       "\n",
       ".xr-array-data,\n",
       ".xr-array-in:checked ~ .xr-array-preview {\n",
       "  display: none;\n",
       "}\n",
       "\n",
       ".xr-array-in:checked ~ .xr-array-data,\n",
       ".xr-array-preview {\n",
       "  display: inline-block;\n",
       "}\n",
       "\n",
       ".xr-dim-list {\n",
       "  display: inline-block !important;\n",
       "  list-style: none;\n",
       "  padding: 0 !important;\n",
       "  margin: 0;\n",
       "}\n",
       "\n",
       ".xr-dim-list li {\n",
       "  display: inline-block;\n",
       "  padding: 0;\n",
       "  margin: 0;\n",
       "}\n",
       "\n",
       ".xr-dim-list:before {\n",
       "  content: '(';\n",
       "}\n",
       "\n",
       ".xr-dim-list:after {\n",
       "  content: ')';\n",
       "}\n",
       "\n",
       ".xr-dim-list li:not(:last-child):after {\n",
       "  content: ',';\n",
       "  padding-right: 5px;\n",
       "}\n",
       "\n",
       ".xr-has-index {\n",
       "  font-weight: bold;\n",
       "}\n",
       "\n",
       ".xr-var-list,\n",
       ".xr-var-item {\n",
       "  display: contents;\n",
       "}\n",
       "\n",
       ".xr-var-item > div,\n",
       ".xr-var-item label,\n",
       ".xr-var-item > .xr-var-name span {\n",
       "  background-color: var(--xr-background-color-row-even);\n",
       "  margin-bottom: 0;\n",
       "}\n",
       "\n",
       ".xr-var-item > .xr-var-name:hover span {\n",
       "  padding-right: 5px;\n",
       "}\n",
       "\n",
       ".xr-var-list > li:nth-child(odd) > div,\n",
       ".xr-var-list > li:nth-child(odd) > label,\n",
       ".xr-var-list > li:nth-child(odd) > .xr-var-name span {\n",
       "  background-color: var(--xr-background-color-row-odd);\n",
       "}\n",
       "\n",
       ".xr-var-name {\n",
       "  grid-column: 1;\n",
       "}\n",
       "\n",
       ".xr-var-dims {\n",
       "  grid-column: 2;\n",
       "}\n",
       "\n",
       ".xr-var-dtype {\n",
       "  grid-column: 3;\n",
       "  text-align: right;\n",
       "  color: var(--xr-font-color2);\n",
       "}\n",
       "\n",
       ".xr-var-preview {\n",
       "  grid-column: 4;\n",
       "}\n",
       "\n",
       ".xr-var-name,\n",
       ".xr-var-dims,\n",
       ".xr-var-dtype,\n",
       ".xr-preview,\n",
       ".xr-attrs dt {\n",
       "  white-space: nowrap;\n",
       "  overflow: hidden;\n",
       "  text-overflow: ellipsis;\n",
       "  padding-right: 10px;\n",
       "}\n",
       "\n",
       ".xr-var-name:hover,\n",
       ".xr-var-dims:hover,\n",
       ".xr-var-dtype:hover,\n",
       ".xr-attrs dt:hover {\n",
       "  overflow: visible;\n",
       "  width: auto;\n",
       "  z-index: 1;\n",
       "}\n",
       "\n",
       ".xr-var-attrs,\n",
       ".xr-var-data {\n",
       "  display: none;\n",
       "  background-color: var(--xr-background-color) !important;\n",
       "  padding-bottom: 5px !important;\n",
       "}\n",
       "\n",
       ".xr-var-attrs-in:checked ~ .xr-var-attrs,\n",
       ".xr-var-data-in:checked ~ .xr-var-data {\n",
       "  display: block;\n",
       "}\n",
       "\n",
       ".xr-var-data > table {\n",
       "  float: right;\n",
       "}\n",
       "\n",
       ".xr-var-name span,\n",
       ".xr-var-data,\n",
       ".xr-attrs {\n",
       "  padding-left: 25px !important;\n",
       "}\n",
       "\n",
       ".xr-attrs,\n",
       ".xr-var-attrs,\n",
       ".xr-var-data {\n",
       "  grid-column: 1 / -1;\n",
       "}\n",
       "\n",
       "dl.xr-attrs {\n",
       "  padding: 0;\n",
       "  margin: 0;\n",
       "  display: grid;\n",
       "  grid-template-columns: 125px auto;\n",
       "}\n",
       "\n",
       ".xr-attrs dt,\n",
       ".xr-attrs dd {\n",
       "  padding: 0;\n",
       "  margin: 0;\n",
       "  float: left;\n",
       "  padding-right: 10px;\n",
       "  width: auto;\n",
       "}\n",
       "\n",
       ".xr-attrs dt {\n",
       "  font-weight: normal;\n",
       "  grid-column: 1;\n",
       "}\n",
       "\n",
       ".xr-attrs dt:hover span {\n",
       "  display: inline-block;\n",
       "  background: var(--xr-background-color);\n",
       "  padding-right: 10px;\n",
       "}\n",
       "\n",
       ".xr-attrs dd {\n",
       "  grid-column: 2;\n",
       "  white-space: pre-wrap;\n",
       "  word-break: break-all;\n",
       "}\n",
       "\n",
       ".xr-icon-database,\n",
       ".xr-icon-file-text2 {\n",
       "  display: inline-block;\n",
       "  vertical-align: middle;\n",
       "  width: 1em;\n",
       "  height: 1.5em !important;\n",
       "  stroke-width: 0;\n",
       "  stroke: currentColor;\n",
       "  fill: currentColor;\n",
       "}\n",
       "</style><pre class='xr-text-repr-fallback'>&lt;xarray.Dataset&gt;\n",
       "Dimensions:  (time: 24, lon: 121, lat: 81, member: 10, step: 5)\n",
       "Coordinates:\n",
       "  * time     (time) datetime64[ns] 1993-06-01 1994-06-01 ... 2016-06-01\n",
       "  * lon      (lon) float32 120.0 121.0 122.0 123.0 ... 237.0 238.0 239.0 240.0\n",
       "  * lat      (lat) float32 -50.0 -49.0 -48.0 -47.0 -46.0 ... 27.0 28.0 29.0 30.0\n",
       "  * member   (member) int32 0 1 2 3 4 5 6 7 8 9\n",
       "  * step     (step) int64 1 2 3 4 5\n",
       "Data variables:\n",
       "    tprate   (time, step, member, lat, lon) float32 dask.array&lt;chunksize=(1, 5, 10, 81, 121), meta=np.ndarray&gt;\n",
       "Attributes:\n",
       "    Conventions:  CF-1.6\n",
       "    history:      2022-06-08 23:27:29 GMT by grib_to_netcdf-2.24.3: /opt/ecmw...</pre><div class='xr-wrap' style='display:none'><div class='xr-header'><div class='xr-obj-type'>xarray.Dataset</div></div><ul class='xr-sections'><li class='xr-section-item'><input id='section-3790b8ce-d2c2-4caa-9784-2b95b7efbb08' class='xr-section-summary-in' type='checkbox' disabled ><label for='section-3790b8ce-d2c2-4caa-9784-2b95b7efbb08' class='xr-section-summary'  title='Expand/collapse section'>Dimensions:</label><div class='xr-section-inline-details'><ul class='xr-dim-list'><li><span class='xr-has-index'>time</span>: 24</li><li><span class='xr-has-index'>lon</span>: 121</li><li><span class='xr-has-index'>lat</span>: 81</li><li><span class='xr-has-index'>member</span>: 10</li><li><span class='xr-has-index'>step</span>: 5</li></ul></div><div class='xr-section-details'></div></li><li class='xr-section-item'><input id='section-509fa2b2-0080-44d5-b4e1-1cb336eabd6f' class='xr-section-summary-in' type='checkbox'  checked><label for='section-509fa2b2-0080-44d5-b4e1-1cb336eabd6f' class='xr-section-summary' >Coordinates: <span>(5)</span></label><div class='xr-section-inline-details'></div><div class='xr-section-details'><ul class='xr-var-list'><li class='xr-var-item'><div class='xr-var-name'><span class='xr-has-index'>time</span></div><div class='xr-var-dims'>(time)</div><div class='xr-var-dtype'>datetime64[ns]</div><div class='xr-var-preview xr-preview'>1993-06-01 ... 2016-06-01</div><input id='attrs-a8139c62-0b49-4262-a5a0-7087fc45b018' class='xr-var-attrs-in' type='checkbox' disabled><label for='attrs-a8139c62-0b49-4262-a5a0-7087fc45b018' title='Show/Hide attributes'><svg class='icon xr-icon-file-text2'><use xlink:href='#icon-file-text2'></use></svg></label><input id='data-aa5b1fb4-afed-4caa-8908-1bf6e86f4f29' class='xr-var-data-in' type='checkbox'><label for='data-aa5b1fb4-afed-4caa-8908-1bf6e86f4f29' title='Show/Hide data repr'><svg class='icon xr-icon-database'><use xlink:href='#icon-database'></use></svg></label><div class='xr-var-attrs'><dl class='xr-attrs'></dl></div><div class='xr-var-data'><pre>array([&#x27;1993-06-01T00:00:00.000000000&#x27;, &#x27;1994-06-01T00:00:00.000000000&#x27;,\n",
       "       &#x27;1995-06-01T00:00:00.000000000&#x27;, &#x27;1996-06-01T00:00:00.000000000&#x27;,\n",
       "       &#x27;1997-06-01T00:00:00.000000000&#x27;, &#x27;1998-06-01T00:00:00.000000000&#x27;,\n",
       "       &#x27;1999-06-01T00:00:00.000000000&#x27;, &#x27;2000-06-01T00:00:00.000000000&#x27;,\n",
       "       &#x27;2001-06-01T00:00:00.000000000&#x27;, &#x27;2002-06-01T00:00:00.000000000&#x27;,\n",
       "       &#x27;2003-06-01T00:00:00.000000000&#x27;, &#x27;2004-06-01T00:00:00.000000000&#x27;,\n",
       "       &#x27;2005-06-01T00:00:00.000000000&#x27;, &#x27;2006-06-01T00:00:00.000000000&#x27;,\n",
       "       &#x27;2007-06-01T00:00:00.000000000&#x27;, &#x27;2008-06-01T00:00:00.000000000&#x27;,\n",
       "       &#x27;2009-06-01T00:00:00.000000000&#x27;, &#x27;2010-06-01T00:00:00.000000000&#x27;,\n",
       "       &#x27;2011-06-01T00:00:00.000000000&#x27;, &#x27;2012-06-01T00:00:00.000000000&#x27;,\n",
       "       &#x27;2013-06-01T00:00:00.000000000&#x27;, &#x27;2014-06-01T00:00:00.000000000&#x27;,\n",
       "       &#x27;2015-06-01T00:00:00.000000000&#x27;, &#x27;2016-06-01T00:00:00.000000000&#x27;],\n",
       "      dtype=&#x27;datetime64[ns]&#x27;)</pre></div></li><li class='xr-var-item'><div class='xr-var-name'><span class='xr-has-index'>lon</span></div><div class='xr-var-dims'>(lon)</div><div class='xr-var-dtype'>float32</div><div class='xr-var-preview xr-preview'>120.0 121.0 122.0 ... 239.0 240.0</div><input id='attrs-d04f6575-2412-47a0-8626-de4da3436fc7' class='xr-var-attrs-in' type='checkbox' ><label for='attrs-d04f6575-2412-47a0-8626-de4da3436fc7' title='Show/Hide attributes'><svg class='icon xr-icon-file-text2'><use xlink:href='#icon-file-text2'></use></svg></label><input id='data-28726def-ae08-4f72-87f5-bc1204438b9a' class='xr-var-data-in' type='checkbox'><label for='data-28726def-ae08-4f72-87f5-bc1204438b9a' title='Show/Hide data repr'><svg class='icon xr-icon-database'><use xlink:href='#icon-database'></use></svg></label><div class='xr-var-attrs'><dl class='xr-attrs'><dt><span>units :</span></dt><dd>degrees_east</dd><dt><span>long_name :</span></dt><dd>longitude</dd></dl></div><div class='xr-var-data'><pre>array([120., 121., 122., 123., 124., 125., 126., 127., 128., 129., 130., 131.,\n",
       "       132., 133., 134., 135., 136., 137., 138., 139., 140., 141., 142., 143.,\n",
       "       144., 145., 146., 147., 148., 149., 150., 151., 152., 153., 154., 155.,\n",
       "       156., 157., 158., 159., 160., 161., 162., 163., 164., 165., 166., 167.,\n",
       "       168., 169., 170., 171., 172., 173., 174., 175., 176., 177., 178., 179.,\n",
       "       180., 181., 182., 183., 184., 185., 186., 187., 188., 189., 190., 191.,\n",
       "       192., 193., 194., 195., 196., 197., 198., 199., 200., 201., 202., 203.,\n",
       "       204., 205., 206., 207., 208., 209., 210., 211., 212., 213., 214., 215.,\n",
       "       216., 217., 218., 219., 220., 221., 222., 223., 224., 225., 226., 227.,\n",
       "       228., 229., 230., 231., 232., 233., 234., 235., 236., 237., 238., 239.,\n",
       "       240.], dtype=float32)</pre></div></li><li class='xr-var-item'><div class='xr-var-name'><span class='xr-has-index'>lat</span></div><div class='xr-var-dims'>(lat)</div><div class='xr-var-dtype'>float32</div><div class='xr-var-preview xr-preview'>-50.0 -49.0 -48.0 ... 29.0 30.0</div><input id='attrs-a78a7341-48d1-4ece-87af-843c1ac4c192' class='xr-var-attrs-in' type='checkbox' ><label for='attrs-a78a7341-48d1-4ece-87af-843c1ac4c192' title='Show/Hide attributes'><svg class='icon xr-icon-file-text2'><use xlink:href='#icon-file-text2'></use></svg></label><input id='data-4a2269ce-10a7-4661-89f5-a349620137bf' class='xr-var-data-in' type='checkbox'><label for='data-4a2269ce-10a7-4661-89f5-a349620137bf' title='Show/Hide data repr'><svg class='icon xr-icon-database'><use xlink:href='#icon-database'></use></svg></label><div class='xr-var-attrs'><dl class='xr-attrs'><dt><span>units :</span></dt><dd>degrees_north</dd><dt><span>long_name :</span></dt><dd>latitude</dd></dl></div><div class='xr-var-data'><pre>array([-50., -49., -48., -47., -46., -45., -44., -43., -42., -41., -40., -39.,\n",
       "       -38., -37., -36., -35., -34., -33., -32., -31., -30., -29., -28., -27.,\n",
       "       -26., -25., -24., -23., -22., -21., -20., -19., -18., -17., -16., -15.,\n",
       "       -14., -13., -12., -11., -10.,  -9.,  -8.,  -7.,  -6.,  -5.,  -4.,  -3.,\n",
       "        -2.,  -1.,   0.,   1.,   2.,   3.,   4.,   5.,   6.,   7.,   8.,   9.,\n",
       "        10.,  11.,  12.,  13.,  14.,  15.,  16.,  17.,  18.,  19.,  20.,  21.,\n",
       "        22.,  23.,  24.,  25.,  26.,  27.,  28.,  29.,  30.], dtype=float32)</pre></div></li><li class='xr-var-item'><div class='xr-var-name'><span class='xr-has-index'>member</span></div><div class='xr-var-dims'>(member)</div><div class='xr-var-dtype'>int32</div><div class='xr-var-preview xr-preview'>0 1 2 3 4 5 6 7 8 9</div><input id='attrs-b8f2015e-b124-4826-85f6-04b43b32089c' class='xr-var-attrs-in' type='checkbox' ><label for='attrs-b8f2015e-b124-4826-85f6-04b43b32089c' title='Show/Hide attributes'><svg class='icon xr-icon-file-text2'><use xlink:href='#icon-file-text2'></use></svg></label><input id='data-1837832c-49d3-4935-8ba0-75a2ea68bb7f' class='xr-var-data-in' type='checkbox'><label for='data-1837832c-49d3-4935-8ba0-75a2ea68bb7f' title='Show/Hide data repr'><svg class='icon xr-icon-database'><use xlink:href='#icon-database'></use></svg></label><div class='xr-var-attrs'><dl class='xr-attrs'><dt><span>long_name :</span></dt><dd>ensemble_member</dd></dl></div><div class='xr-var-data'><pre>array([0, 1, 2, 3, 4, 5, 6, 7, 8, 9], dtype=int32)</pre></div></li><li class='xr-var-item'><div class='xr-var-name'><span class='xr-has-index'>step</span></div><div class='xr-var-dims'>(step)</div><div class='xr-var-dtype'>int64</div><div class='xr-var-preview xr-preview'>1 2 3 4 5</div><input id='attrs-b95dc4b4-0724-4da2-a3c0-79aa337edf2b' class='xr-var-attrs-in' type='checkbox' disabled><label for='attrs-b95dc4b4-0724-4da2-a3c0-79aa337edf2b' title='Show/Hide attributes'><svg class='icon xr-icon-file-text2'><use xlink:href='#icon-file-text2'></use></svg></label><input id='data-dd0131ac-71b2-4d34-97ae-fd0e1c7abc45' class='xr-var-data-in' type='checkbox'><label for='data-dd0131ac-71b2-4d34-97ae-fd0e1c7abc45' title='Show/Hide data repr'><svg class='icon xr-icon-database'><use xlink:href='#icon-database'></use></svg></label><div class='xr-var-attrs'><dl class='xr-attrs'></dl></div><div class='xr-var-data'><pre>array([1, 2, 3, 4, 5])</pre></div></li></ul></div></li><li class='xr-section-item'><input id='section-22bed988-2e7b-4d78-8373-f45686852533' class='xr-section-summary-in' type='checkbox'  checked><label for='section-22bed988-2e7b-4d78-8373-f45686852533' class='xr-section-summary' >Data variables: <span>(1)</span></label><div class='xr-section-inline-details'></div><div class='xr-section-details'><ul class='xr-var-list'><li class='xr-var-item'><div class='xr-var-name'><span>tprate</span></div><div class='xr-var-dims'>(time, step, member, lat, lon)</div><div class='xr-var-dtype'>float32</div><div class='xr-var-preview xr-preview'>dask.array&lt;chunksize=(1, 5, 10, 81, 121), meta=np.ndarray&gt;</div><input id='attrs-0d326d44-a7d5-404e-a382-3d776700ed7c' class='xr-var-attrs-in' type='checkbox' ><label for='attrs-0d326d44-a7d5-404e-a382-3d776700ed7c' title='Show/Hide attributes'><svg class='icon xr-icon-file-text2'><use xlink:href='#icon-file-text2'></use></svg></label><input id='data-a03f4f34-4ebc-4544-ab37-0dafc1e03dc5' class='xr-var-data-in' type='checkbox'><label for='data-a03f4f34-4ebc-4544-ab37-0dafc1e03dc5' title='Show/Hide data repr'><svg class='icon xr-icon-database'><use xlink:href='#icon-database'></use></svg></label><div class='xr-var-attrs'><dl class='xr-attrs'><dt><span>units :</span></dt><dd>m s**-1</dd><dt><span>long_name :</span></dt><dd>Mean total precipitation rate</dd></dl></div><div class='xr-var-data'><table>\n",
       "    <tr>\n",
       "        <td>\n",
       "            <table>\n",
       "                <thead>\n",
       "                    <tr>\n",
       "                        <td> </td>\n",
       "                        <th> Array </th>\n",
       "                        <th> Chunk </th>\n",
       "                    </tr>\n",
       "                </thead>\n",
       "                <tbody>\n",
       "                    \n",
       "                    <tr>\n",
       "                        <th> Bytes </th>\n",
       "                        <td> 44.87 MiB </td>\n",
       "                        <td> 1.87 MiB </td>\n",
       "                    </tr>\n",
       "                    \n",
       "                    <tr>\n",
       "                        <th> Shape </th>\n",
       "                        <td> (24, 5, 10, 81, 121) </td>\n",
       "                        <td> (1, 5, 10, 81, 121) </td>\n",
       "                    </tr>\n",
       "                    <tr>\n",
       "                        <th> Count </th>\n",
       "                        <td> 168 Tasks </td>\n",
       "                        <td> 24 Chunks </td>\n",
       "                    </tr>\n",
       "                    <tr>\n",
       "                    <th> Type </th>\n",
       "                    <td> float32 </td>\n",
       "                    <td> numpy.ndarray </td>\n",
       "                    </tr>\n",
       "                </tbody>\n",
       "            </table>\n",
       "        </td>\n",
       "        <td>\n",
       "        <svg width=\"398\" height=\"152\" style=\"stroke:rgb(0,0,0);stroke-width:1\" >\n",
       "\n",
       "  <!-- Horizontal lines -->\n",
       "  <line x1=\"0\" y1=\"0\" x2=\"33\" y2=\"0\" style=\"stroke-width:2\" />\n",
       "  <line x1=\"0\" y1=\"1\" x2=\"33\" y2=\"1\" />\n",
       "  <line x1=\"0\" y1=\"3\" x2=\"33\" y2=\"3\" />\n",
       "  <line x1=\"0\" y1=\"5\" x2=\"33\" y2=\"5\" />\n",
       "  <line x1=\"0\" y1=\"6\" x2=\"33\" y2=\"6\" />\n",
       "  <line x1=\"0\" y1=\"8\" x2=\"33\" y2=\"8\" />\n",
       "  <line x1=\"0\" y1=\"10\" x2=\"33\" y2=\"10\" />\n",
       "  <line x1=\"0\" y1=\"12\" x2=\"33\" y2=\"12\" />\n",
       "  <line x1=\"0\" y1=\"13\" x2=\"33\" y2=\"13\" />\n",
       "  <line x1=\"0\" y1=\"15\" x2=\"33\" y2=\"15\" />\n",
       "  <line x1=\"0\" y1=\"17\" x2=\"33\" y2=\"17\" />\n",
       "  <line x1=\"0\" y1=\"19\" x2=\"33\" y2=\"19\" />\n",
       "  <line x1=\"0\" y1=\"20\" x2=\"33\" y2=\"20\" />\n",
       "  <line x1=\"0\" y1=\"22\" x2=\"33\" y2=\"22\" />\n",
       "  <line x1=\"0\" y1=\"24\" x2=\"33\" y2=\"24\" />\n",
       "  <line x1=\"0\" y1=\"26\" x2=\"33\" y2=\"26\" />\n",
       "  <line x1=\"0\" y1=\"27\" x2=\"33\" y2=\"27\" />\n",
       "  <line x1=\"0\" y1=\"29\" x2=\"33\" y2=\"29\" />\n",
       "  <line x1=\"0\" y1=\"31\" x2=\"33\" y2=\"31\" />\n",
       "  <line x1=\"0\" y1=\"33\" x2=\"33\" y2=\"33\" />\n",
       "  <line x1=\"0\" y1=\"34\" x2=\"33\" y2=\"34\" />\n",
       "  <line x1=\"0\" y1=\"36\" x2=\"33\" y2=\"36\" />\n",
       "  <line x1=\"0\" y1=\"38\" x2=\"33\" y2=\"38\" />\n",
       "  <line x1=\"0\" y1=\"40\" x2=\"33\" y2=\"40\" />\n",
       "  <line x1=\"0\" y1=\"41\" x2=\"33\" y2=\"41\" style=\"stroke-width:2\" />\n",
       "\n",
       "  <!-- Vertical lines -->\n",
       "  <line x1=\"0\" y1=\"0\" x2=\"0\" y2=\"41\" style=\"stroke-width:2\" />\n",
       "  <line x1=\"33\" y1=\"0\" x2=\"33\" y2=\"41\" style=\"stroke-width:2\" />\n",
       "\n",
       "  <!-- Colored Rectangle -->\n",
       "  <polygon points=\"0.0,0.0 33.33288666888053,0.0 33.33288666888053,41.974744095238016 0.0,41.974744095238016\" style=\"fill:#ECB172A0;stroke-width:0\"/>\n",
       "\n",
       "  <!-- Text -->\n",
       "  <text x=\"16.666443\" y=\"61.974744\" font-size=\"1.0rem\" font-weight=\"100\" text-anchor=\"middle\" >5</text>\n",
       "  <text x=\"53.332887\" y=\"20.987372\" font-size=\"1.0rem\" font-weight=\"100\" text-anchor=\"middle\" transform=\"rotate(0,53.332887,20.987372)\">24</text>\n",
       "\n",
       "\n",
       "  <!-- Horizontal lines -->\n",
       "  <line x1=\"103\" y1=\"0\" x2=\"125\" y2=\"22\" style=\"stroke-width:2\" />\n",
       "  <line x1=\"103\" y1=\"80\" x2=\"125\" y2=\"102\" style=\"stroke-width:2\" />\n",
       "\n",
       "  <!-- Vertical lines -->\n",
       "  <line x1=\"103\" y1=\"0\" x2=\"103\" y2=\"80\" style=\"stroke-width:2\" />\n",
       "  <line x1=\"125\" y1=\"22\" x2=\"125\" y2=\"102\" style=\"stroke-width:2\" />\n",
       "\n",
       "  <!-- Colored Rectangle -->\n",
       "  <polygon points=\"103.0,0.0 125.06797403173512,22.06797403173512 125.06797403173512,102.39855254413182 103.0,80.3305785123967\" style=\"fill:#ECB172A0;stroke-width:0\"/>\n",
       "\n",
       "  <!-- Horizontal lines -->\n",
       "  <line x1=\"103\" y1=\"0\" x2=\"223\" y2=\"0\" style=\"stroke-width:2\" />\n",
       "  <line x1=\"125\" y1=\"22\" x2=\"245\" y2=\"22\" style=\"stroke-width:2\" />\n",
       "\n",
       "  <!-- Vertical lines -->\n",
       "  <line x1=\"103\" y1=\"0\" x2=\"125\" y2=\"22\" style=\"stroke-width:2\" />\n",
       "  <line x1=\"223\" y1=\"0\" x2=\"245\" y2=\"22\" style=\"stroke-width:2\" />\n",
       "\n",
       "  <!-- Colored Rectangle -->\n",
       "  <polygon points=\"103.0,0.0 223.0,0.0 245.0679740317351,22.06797403173512 125.06797403173512,22.06797403173512\" style=\"fill:#ECB172A0;stroke-width:0\"/>\n",
       "\n",
       "  <!-- Horizontal lines -->\n",
       "  <line x1=\"125\" y1=\"22\" x2=\"245\" y2=\"22\" style=\"stroke-width:2\" />\n",
       "  <line x1=\"125\" y1=\"102\" x2=\"245\" y2=\"102\" style=\"stroke-width:2\" />\n",
       "\n",
       "  <!-- Vertical lines -->\n",
       "  <line x1=\"125\" y1=\"22\" x2=\"125\" y2=\"102\" style=\"stroke-width:2\" />\n",
       "  <line x1=\"245\" y1=\"22\" x2=\"245\" y2=\"102\" style=\"stroke-width:2\" />\n",
       "\n",
       "  <!-- Colored Rectangle -->\n",
       "  <polygon points=\"125.06797403173512,22.06797403173512 245.0679740317351,22.06797403173512 245.0679740317351,102.39855254413182 125.06797403173512,102.39855254413182\" style=\"fill:#ECB172A0;stroke-width:0\"/>\n",
       "\n",
       "  <!-- Text -->\n",
       "  <text x=\"185.067974\" y=\"122.398553\" font-size=\"1.0rem\" font-weight=\"100\" text-anchor=\"middle\" >121</text>\n",
       "  <text x=\"265.067974\" y=\"62.233263\" font-size=\"1.0rem\" font-weight=\"100\" text-anchor=\"middle\" transform=\"rotate(0,265.067974,62.233263)\">81</text>\n",
       "  <text x=\"104.033987\" y=\"111.364566\" font-size=\"1.0rem\" font-weight=\"100\" text-anchor=\"middle\" transform=\"rotate(45,104.033987,111.364566)\">10</text>\n",
       "</svg>\n",
       "        </td>\n",
       "    </tr>\n",
       "</table></div></li></ul></div></li><li class='xr-section-item'><input id='section-4a659223-6516-4bd4-b23f-488d790b2244' class='xr-section-summary-in' type='checkbox'  checked><label for='section-4a659223-6516-4bd4-b23f-488d790b2244' class='xr-section-summary' >Attributes: <span>(2)</span></label><div class='xr-section-inline-details'></div><div class='xr-section-details'><dl class='xr-attrs'><dt><span>Conventions :</span></dt><dd>CF-1.6</dd><dt><span>history :</span></dt><dd>2022-06-08 23:27:29 GMT by grib_to_netcdf-2.24.3: /opt/ecmwf/mars-client/bin/grib_to_netcdf -S param -o /cache/data0/adaptor.mars.external-1654730849.3278844-19049-6-0eefdd15-48b7-4ba7-86e1-12b6e631d116.nc /cache/tmp/0eefdd15-48b7-4ba7-86e1-12b6e631d116-adaptor.mars.external-1654730846.9844313-19049-9-tmp.grib</dd></dl></div></li></ul></div></div>"
      ],
      "text/plain": [
       "<xarray.Dataset>\n",
       "Dimensions:  (time: 24, lon: 121, lat: 81, member: 10, step: 5)\n",
       "Coordinates:\n",
       "  * time     (time) datetime64[ns] 1993-06-01 1994-06-01 ... 2016-06-01\n",
       "  * lon      (lon) float32 120.0 121.0 122.0 123.0 ... 237.0 238.0 239.0 240.0\n",
       "  * lat      (lat) float32 -50.0 -49.0 -48.0 -47.0 -46.0 ... 27.0 28.0 29.0 30.0\n",
       "  * member   (member) int32 0 1 2 3 4 5 6 7 8 9\n",
       "  * step     (step) int64 1 2 3 4 5\n",
       "Data variables:\n",
       "    tprate   (time, step, member, lat, lon) float32 dask.array<chunksize=(1, 5, 10, 81, 121), meta=np.ndarray>\n",
       "Attributes:\n",
       "    Conventions:  CF-1.6\n",
       "    history:      2022-06-08 23:27:29 GMT by grib_to_netcdf-2.24.3: /opt/ecmw..."
      ]
     },
     "execution_count": 25,
     "metadata": {},
     "output_type": "execute_result"
    }
   ],
   "source": [
    "dset"
   ]
  },
  {
   "cell_type": "markdown",
   "id": "f7bbf7e7-c341-436b-b9db-103fd378dcb0",
   "metadata": {
    "papermill": {
     "duration": 0.006197,
     "end_time": "2022-06-09T05:03:25.492169",
     "exception": false,
     "start_time": "2022-06-09T05:03:25.485972",
     "status": "completed"
    },
    "tags": []
   },
   "source": [
    "### make sure we select the hindcast period "
   ]
  },
  {
   "cell_type": "code",
   "execution_count": 26,
   "id": "b543e1a2-5e81-43d0-8bcc-66cd8a1eeedf",
   "metadata": {
    "execution": {
     "iopub.execute_input": "2022-06-09T05:03:25.505310Z",
     "iopub.status.busy": "2022-06-09T05:03:25.505108Z",
     "iopub.status.idle": "2022-06-09T05:03:25.524910Z",
     "shell.execute_reply": "2022-06-09T05:03:25.524568Z"
    },
    "papermill": {
     "duration": 0.027693,
     "end_time": "2022-06-09T05:03:25.526058",
     "exception": false,
     "start_time": "2022-06-09T05:03:25.498365",
     "status": "completed"
    },
    "tags": []
   },
   "outputs": [],
   "source": [
    "dset = dset.sel(time=slice('1993', '2016'))"
   ]
  },
  {
   "cell_type": "markdown",
   "id": "d462983e-c166-4b90-a2cc-26b2f1e7d9cb",
   "metadata": {
    "papermill": {
     "duration": 0.006013,
     "end_time": "2022-06-09T05:03:25.538555",
     "exception": false,
     "start_time": "2022-06-09T05:03:25.532542",
     "status": "completed"
    },
    "tags": []
   },
   "source": [
    "### convert to monthly rainfall accumulations (mm/month)"
   ]
  },
  {
   "cell_type": "code",
   "execution_count": null,
   "id": "0294ed09-713f-423f-9449-c23ed125b794",
   "metadata": {},
   "outputs": [],
   "source": [
    "if varname == 'tprate': \n",
    "    \n",
    "    dset = C3S.convert_rainfall(dset, varin=varname, varout='precip', leadvar='step', timevar='time', dropvar=True)\n",
    "    \n",
    "    dset = dset.clip(min=0)"
   ]
  },
  {
   "cell_type": "markdown",
   "id": "a6dd054f-5e96-48e6-b935-80d9ea0f54a2",
   "metadata": {
    "papermill": {
     "duration": 0.006318,
     "end_time": "2022-06-09T05:03:25.743748",
     "exception": false,
     "start_time": "2022-06-09T05:03:25.737430",
     "status": "completed"
    },
    "tags": []
   },
   "source": [
    "### if the period is set to `seasonal`, calculates the seasonal accumulations (for `tprate`) or averages (for everything else)"
   ]
  },
  {
   "cell_type": "code",
   "execution_count": 32,
   "id": "cc83f98c-909f-44bc-aa14-ef1778a747f5",
   "metadata": {
    "execution": {
     "iopub.execute_input": "2022-06-09T05:03:25.757560Z",
     "iopub.status.busy": "2022-06-09T05:03:25.757077Z",
     "iopub.status.idle": "2022-06-09T05:03:25.798291Z",
     "shell.execute_reply": "2022-06-09T05:03:25.797888Z"
    },
    "papermill": {
     "duration": 0.049444,
     "end_time": "2022-06-09T05:03:25.799567",
     "exception": false,
     "start_time": "2022-06-09T05:03:25.750123",
     "status": "completed"
    },
    "tags": []
   },
   "outputs": [],
   "source": [
    "if period == 'seasonal': \n",
    "    \n",
    "    if varname == 'tprate': \n",
    "    \n",
    "        dset = dset.rolling({'step':3}, min_periods=3).sum('step')\n",
    "    \n",
    "    else: \n",
    "        \n",
    "        dset = dset.rolling({'step':3}, min_periods=3).mean('step')\n",
    "    \n",
    "    dset = dset.sel({'step':slice(3, None)})"
   ]
  },
  {
   "cell_type": "code",
   "execution_count": 33,
   "id": "84f4203d-9b4b-4db5-b4a2-174be37b28c5",
   "metadata": {
    "execution": {
     "iopub.execute_input": "2022-06-09T05:03:25.813807Z",
     "iopub.status.busy": "2022-06-09T05:03:25.813655Z",
     "iopub.status.idle": "2022-06-09T05:03:25.835260Z",
     "shell.execute_reply": "2022-06-09T05:03:25.834816Z"
    },
    "papermill": {
     "duration": 0.029968,
     "end_time": "2022-06-09T05:03:25.836289",
     "exception": false,
     "start_time": "2022-06-09T05:03:25.806321",
     "status": "completed"
    },
    "tags": []
   },
   "outputs": [
    {
     "data": {
      "text/plain": [
       "<bound method Dataset.info of <xarray.Dataset>\n",
       "Dimensions:  (time: 24, lon: 121, lat: 81, member: 10, step: 3)\n",
       "Coordinates:\n",
       "  * time     (time) datetime64[ns] 1993-06-01 1994-06-01 ... 2016-06-01\n",
       "  * lon      (lon) float32 120.0 121.0 122.0 123.0 ... 237.0 238.0 239.0 240.0\n",
       "  * lat      (lat) float32 -50.0 -49.0 -48.0 -47.0 -46.0 ... 27.0 28.0 29.0 30.0\n",
       "  * member   (member) int32 0 1 2 3 4 5 6 7 8 9\n",
       "  * step     (step) int64 3 4 5\n",
       "Data variables:\n",
       "    precip   (time, step, member, lat, lon) float64 dask.array<chunksize=(1, 3, 10, 81, 121), meta=np.ndarray>\n",
       "Attributes:\n",
       "    Conventions:  CF-1.6\n",
       "    history:      2022-06-08 23:27:29 GMT by grib_to_netcdf-2.24.3: /opt/ecmw...>"
      ]
     },
     "execution_count": 33,
     "metadata": {},
     "output_type": "execute_result"
    }
   ],
   "source": [
    "dset.info"
   ]
  },
  {
   "cell_type": "markdown",
   "id": "aab31221-ef5d-4a3c-9967-81aaf3d160aa",
   "metadata": {
    "papermill": {
     "duration": 0.006328,
     "end_time": "2022-06-09T05:03:25.849065",
     "exception": false,
     "start_time": "2022-06-09T05:03:25.842737",
     "status": "completed"
    },
    "tags": []
   },
   "source": [
    "### rechunk, just make sure each chunk can fit in memory"
   ]
  },
  {
   "cell_type": "code",
   "execution_count": 34,
   "id": "f19d676e-3e48-4f94-8416-b4e91eae83c1",
   "metadata": {
    "execution": {
     "iopub.execute_input": "2022-06-09T05:03:25.863051Z",
     "iopub.status.busy": "2022-06-09T05:03:25.862904Z",
     "iopub.status.idle": "2022-06-09T05:03:25.881973Z",
     "shell.execute_reply": "2022-06-09T05:03:25.881513Z"
    },
    "papermill": {
     "duration": 0.027542,
     "end_time": "2022-06-09T05:03:25.883156",
     "exception": false,
     "start_time": "2022-06-09T05:03:25.855614",
     "status": "completed"
    },
    "tags": []
   },
   "outputs": [
    {
     "data": {
      "text/plain": [
       "Frozen({'time': (1, 1, 1, 1, 1, 1, 1, 1, 1, 1, 1, 1, 1, 1, 1, 1, 1, 1, 1, 1, 1, 1, 1, 1), 'step': (3,), 'member': (10,), 'lat': (81,), 'lon': (121,)})"
      ]
     },
     "execution_count": 34,
     "metadata": {},
     "output_type": "execute_result"
    }
   ],
   "source": [
    "dset.chunks"
   ]
  },
  {
   "cell_type": "code",
   "execution_count": 35,
   "id": "82dc21a1-bc53-4f03-acb5-f58e983c20e4",
   "metadata": {
    "execution": {
     "iopub.execute_input": "2022-06-09T05:03:25.896978Z",
     "iopub.status.busy": "2022-06-09T05:03:25.896799Z",
     "iopub.status.idle": "2022-06-09T05:03:25.915007Z",
     "shell.execute_reply": "2022-06-09T05:03:25.914522Z"
    },
    "papermill": {
     "duration": 0.026595,
     "end_time": "2022-06-09T05:03:25.916203",
     "exception": false,
     "start_time": "2022-06-09T05:03:25.889608",
     "status": "completed"
    },
    "tags": []
   },
   "outputs": [],
   "source": [
    "chunks = {\n",
    "    'time':-1, \n",
    "    'member':-1, \n",
    "    'step':1, \n",
    "    'lat':10, \n",
    "    'lon':10\n",
    "}"
   ]
  },
  {
   "cell_type": "code",
   "execution_count": 36,
   "id": "e288e6b1-1b84-48c2-a2bb-472aa4b740f5",
   "metadata": {
    "execution": {
     "iopub.execute_input": "2022-06-09T05:03:25.930650Z",
     "iopub.status.busy": "2022-06-09T05:03:25.930497Z",
     "iopub.status.idle": "2022-06-09T05:03:25.952902Z",
     "shell.execute_reply": "2022-06-09T05:03:25.952447Z"
    },
    "papermill": {
     "duration": 0.03114,
     "end_time": "2022-06-09T05:03:25.954082",
     "exception": false,
     "start_time": "2022-06-09T05:03:25.922942",
     "status": "completed"
    },
    "tags": []
   },
   "outputs": [],
   "source": [
    "dset = dset.chunk(chunks)"
   ]
  },
  {
   "cell_type": "code",
   "execution_count": 37,
   "id": "b92f5daa-b896-4b6b-bd3f-c15321e89367",
   "metadata": {
    "execution": {
     "iopub.execute_input": "2022-06-09T05:03:25.967972Z",
     "iopub.status.busy": "2022-06-09T05:03:25.967790Z",
     "iopub.status.idle": "2022-06-09T05:03:26.002328Z",
     "shell.execute_reply": "2022-06-09T05:03:26.001885Z"
    },
    "papermill": {
     "duration": 0.04277,
     "end_time": "2022-06-09T05:03:26.003376",
     "exception": false,
     "start_time": "2022-06-09T05:03:25.960606",
     "status": "completed"
    },
    "tags": []
   },
   "outputs": [
    {
     "data": {
      "text/html": [
       "<div><svg style=\"position: absolute; width: 0; height: 0; overflow: hidden\">\n",
       "<defs>\n",
       "<symbol id=\"icon-database\" viewBox=\"0 0 32 32\">\n",
       "<path d=\"M16 0c-8.837 0-16 2.239-16 5v4c0 2.761 7.163 5 16 5s16-2.239 16-5v-4c0-2.761-7.163-5-16-5z\"></path>\n",
       "<path d=\"M16 17c-8.837 0-16-2.239-16-5v6c0 2.761 7.163 5 16 5s16-2.239 16-5v-6c0 2.761-7.163 5-16 5z\"></path>\n",
       "<path d=\"M16 26c-8.837 0-16-2.239-16-5v6c0 2.761 7.163 5 16 5s16-2.239 16-5v-6c0 2.761-7.163 5-16 5z\"></path>\n",
       "</symbol>\n",
       "<symbol id=\"icon-file-text2\" viewBox=\"0 0 32 32\">\n",
       "<path d=\"M28.681 7.159c-0.694-0.947-1.662-2.053-2.724-3.116s-2.169-2.030-3.116-2.724c-1.612-1.182-2.393-1.319-2.841-1.319h-15.5c-1.378 0-2.5 1.121-2.5 2.5v27c0 1.378 1.122 2.5 2.5 2.5h23c1.378 0 2.5-1.122 2.5-2.5v-19.5c0-0.448-0.137-1.23-1.319-2.841zM24.543 5.457c0.959 0.959 1.712 1.825 2.268 2.543h-4.811v-4.811c0.718 0.556 1.584 1.309 2.543 2.268zM28 29.5c0 0.271-0.229 0.5-0.5 0.5h-23c-0.271 0-0.5-0.229-0.5-0.5v-27c0-0.271 0.229-0.5 0.5-0.5 0 0 15.499-0 15.5 0v7c0 0.552 0.448 1 1 1h7v19.5z\"></path>\n",
       "<path d=\"M23 26h-14c-0.552 0-1-0.448-1-1s0.448-1 1-1h14c0.552 0 1 0.448 1 1s-0.448 1-1 1z\"></path>\n",
       "<path d=\"M23 22h-14c-0.552 0-1-0.448-1-1s0.448-1 1-1h14c0.552 0 1 0.448 1 1s-0.448 1-1 1z\"></path>\n",
       "<path d=\"M23 18h-14c-0.552 0-1-0.448-1-1s0.448-1 1-1h14c0.552 0 1 0.448 1 1s-0.448 1-1 1z\"></path>\n",
       "</symbol>\n",
       "</defs>\n",
       "</svg>\n",
       "<style>/* CSS stylesheet for displaying xarray objects in jupyterlab.\n",
       " *\n",
       " */\n",
       "\n",
       ":root {\n",
       "  --xr-font-color0: var(--jp-content-font-color0, rgba(0, 0, 0, 1));\n",
       "  --xr-font-color2: var(--jp-content-font-color2, rgba(0, 0, 0, 0.54));\n",
       "  --xr-font-color3: var(--jp-content-font-color3, rgba(0, 0, 0, 0.38));\n",
       "  --xr-border-color: var(--jp-border-color2, #e0e0e0);\n",
       "  --xr-disabled-color: var(--jp-layout-color3, #bdbdbd);\n",
       "  --xr-background-color: var(--jp-layout-color0, white);\n",
       "  --xr-background-color-row-even: var(--jp-layout-color1, white);\n",
       "  --xr-background-color-row-odd: var(--jp-layout-color2, #eeeeee);\n",
       "}\n",
       "\n",
       "html[theme=dark],\n",
       "body.vscode-dark {\n",
       "  --xr-font-color0: rgba(255, 255, 255, 1);\n",
       "  --xr-font-color2: rgba(255, 255, 255, 0.54);\n",
       "  --xr-font-color3: rgba(255, 255, 255, 0.38);\n",
       "  --xr-border-color: #1F1F1F;\n",
       "  --xr-disabled-color: #515151;\n",
       "  --xr-background-color: #111111;\n",
       "  --xr-background-color-row-even: #111111;\n",
       "  --xr-background-color-row-odd: #313131;\n",
       "}\n",
       "\n",
       ".xr-wrap {\n",
       "  display: block !important;\n",
       "  min-width: 300px;\n",
       "  max-width: 700px;\n",
       "}\n",
       "\n",
       ".xr-text-repr-fallback {\n",
       "  /* fallback to plain text repr when CSS is not injected (untrusted notebook) */\n",
       "  display: none;\n",
       "}\n",
       "\n",
       ".xr-header {\n",
       "  padding-top: 6px;\n",
       "  padding-bottom: 6px;\n",
       "  margin-bottom: 4px;\n",
       "  border-bottom: solid 1px var(--xr-border-color);\n",
       "}\n",
       "\n",
       ".xr-header > div,\n",
       ".xr-header > ul {\n",
       "  display: inline;\n",
       "  margin-top: 0;\n",
       "  margin-bottom: 0;\n",
       "}\n",
       "\n",
       ".xr-obj-type,\n",
       ".xr-array-name {\n",
       "  margin-left: 2px;\n",
       "  margin-right: 10px;\n",
       "}\n",
       "\n",
       ".xr-obj-type {\n",
       "  color: var(--xr-font-color2);\n",
       "}\n",
       "\n",
       ".xr-sections {\n",
       "  padding-left: 0 !important;\n",
       "  display: grid;\n",
       "  grid-template-columns: 150px auto auto 1fr 20px 20px;\n",
       "}\n",
       "\n",
       ".xr-section-item {\n",
       "  display: contents;\n",
       "}\n",
       "\n",
       ".xr-section-item input {\n",
       "  display: none;\n",
       "}\n",
       "\n",
       ".xr-section-item input + label {\n",
       "  color: var(--xr-disabled-color);\n",
       "}\n",
       "\n",
       ".xr-section-item input:enabled + label {\n",
       "  cursor: pointer;\n",
       "  color: var(--xr-font-color2);\n",
       "}\n",
       "\n",
       ".xr-section-item input:enabled + label:hover {\n",
       "  color: var(--xr-font-color0);\n",
       "}\n",
       "\n",
       ".xr-section-summary {\n",
       "  grid-column: 1;\n",
       "  color: var(--xr-font-color2);\n",
       "  font-weight: 500;\n",
       "}\n",
       "\n",
       ".xr-section-summary > span {\n",
       "  display: inline-block;\n",
       "  padding-left: 0.5em;\n",
       "}\n",
       "\n",
       ".xr-section-summary-in:disabled + label {\n",
       "  color: var(--xr-font-color2);\n",
       "}\n",
       "\n",
       ".xr-section-summary-in + label:before {\n",
       "  display: inline-block;\n",
       "  content: '►';\n",
       "  font-size: 11px;\n",
       "  width: 15px;\n",
       "  text-align: center;\n",
       "}\n",
       "\n",
       ".xr-section-summary-in:disabled + label:before {\n",
       "  color: var(--xr-disabled-color);\n",
       "}\n",
       "\n",
       ".xr-section-summary-in:checked + label:before {\n",
       "  content: '▼';\n",
       "}\n",
       "\n",
       ".xr-section-summary-in:checked + label > span {\n",
       "  display: none;\n",
       "}\n",
       "\n",
       ".xr-section-summary,\n",
       ".xr-section-inline-details {\n",
       "  padding-top: 4px;\n",
       "  padding-bottom: 4px;\n",
       "}\n",
       "\n",
       ".xr-section-inline-details {\n",
       "  grid-column: 2 / -1;\n",
       "}\n",
       "\n",
       ".xr-section-details {\n",
       "  display: none;\n",
       "  grid-column: 1 / -1;\n",
       "  margin-bottom: 5px;\n",
       "}\n",
       "\n",
       ".xr-section-summary-in:checked ~ .xr-section-details {\n",
       "  display: contents;\n",
       "}\n",
       "\n",
       ".xr-array-wrap {\n",
       "  grid-column: 1 / -1;\n",
       "  display: grid;\n",
       "  grid-template-columns: 20px auto;\n",
       "}\n",
       "\n",
       ".xr-array-wrap > label {\n",
       "  grid-column: 1;\n",
       "  vertical-align: top;\n",
       "}\n",
       "\n",
       ".xr-preview {\n",
       "  color: var(--xr-font-color3);\n",
       "}\n",
       "\n",
       ".xr-array-preview,\n",
       ".xr-array-data {\n",
       "  padding: 0 5px !important;\n",
       "  grid-column: 2;\n",
       "}\n",
       "\n",
       ".xr-array-data,\n",
       ".xr-array-in:checked ~ .xr-array-preview {\n",
       "  display: none;\n",
       "}\n",
       "\n",
       ".xr-array-in:checked ~ .xr-array-data,\n",
       ".xr-array-preview {\n",
       "  display: inline-block;\n",
       "}\n",
       "\n",
       ".xr-dim-list {\n",
       "  display: inline-block !important;\n",
       "  list-style: none;\n",
       "  padding: 0 !important;\n",
       "  margin: 0;\n",
       "}\n",
       "\n",
       ".xr-dim-list li {\n",
       "  display: inline-block;\n",
       "  padding: 0;\n",
       "  margin: 0;\n",
       "}\n",
       "\n",
       ".xr-dim-list:before {\n",
       "  content: '(';\n",
       "}\n",
       "\n",
       ".xr-dim-list:after {\n",
       "  content: ')';\n",
       "}\n",
       "\n",
       ".xr-dim-list li:not(:last-child):after {\n",
       "  content: ',';\n",
       "  padding-right: 5px;\n",
       "}\n",
       "\n",
       ".xr-has-index {\n",
       "  font-weight: bold;\n",
       "}\n",
       "\n",
       ".xr-var-list,\n",
       ".xr-var-item {\n",
       "  display: contents;\n",
       "}\n",
       "\n",
       ".xr-var-item > div,\n",
       ".xr-var-item label,\n",
       ".xr-var-item > .xr-var-name span {\n",
       "  background-color: var(--xr-background-color-row-even);\n",
       "  margin-bottom: 0;\n",
       "}\n",
       "\n",
       ".xr-var-item > .xr-var-name:hover span {\n",
       "  padding-right: 5px;\n",
       "}\n",
       "\n",
       ".xr-var-list > li:nth-child(odd) > div,\n",
       ".xr-var-list > li:nth-child(odd) > label,\n",
       ".xr-var-list > li:nth-child(odd) > .xr-var-name span {\n",
       "  background-color: var(--xr-background-color-row-odd);\n",
       "}\n",
       "\n",
       ".xr-var-name {\n",
       "  grid-column: 1;\n",
       "}\n",
       "\n",
       ".xr-var-dims {\n",
       "  grid-column: 2;\n",
       "}\n",
       "\n",
       ".xr-var-dtype {\n",
       "  grid-column: 3;\n",
       "  text-align: right;\n",
       "  color: var(--xr-font-color2);\n",
       "}\n",
       "\n",
       ".xr-var-preview {\n",
       "  grid-column: 4;\n",
       "}\n",
       "\n",
       ".xr-var-name,\n",
       ".xr-var-dims,\n",
       ".xr-var-dtype,\n",
       ".xr-preview,\n",
       ".xr-attrs dt {\n",
       "  white-space: nowrap;\n",
       "  overflow: hidden;\n",
       "  text-overflow: ellipsis;\n",
       "  padding-right: 10px;\n",
       "}\n",
       "\n",
       ".xr-var-name:hover,\n",
       ".xr-var-dims:hover,\n",
       ".xr-var-dtype:hover,\n",
       ".xr-attrs dt:hover {\n",
       "  overflow: visible;\n",
       "  width: auto;\n",
       "  z-index: 1;\n",
       "}\n",
       "\n",
       ".xr-var-attrs,\n",
       ".xr-var-data {\n",
       "  display: none;\n",
       "  background-color: var(--xr-background-color) !important;\n",
       "  padding-bottom: 5px !important;\n",
       "}\n",
       "\n",
       ".xr-var-attrs-in:checked ~ .xr-var-attrs,\n",
       ".xr-var-data-in:checked ~ .xr-var-data {\n",
       "  display: block;\n",
       "}\n",
       "\n",
       ".xr-var-data > table {\n",
       "  float: right;\n",
       "}\n",
       "\n",
       ".xr-var-name span,\n",
       ".xr-var-data,\n",
       ".xr-attrs {\n",
       "  padding-left: 25px !important;\n",
       "}\n",
       "\n",
       ".xr-attrs,\n",
       ".xr-var-attrs,\n",
       ".xr-var-data {\n",
       "  grid-column: 1 / -1;\n",
       "}\n",
       "\n",
       "dl.xr-attrs {\n",
       "  padding: 0;\n",
       "  margin: 0;\n",
       "  display: grid;\n",
       "  grid-template-columns: 125px auto;\n",
       "}\n",
       "\n",
       ".xr-attrs dt,\n",
       ".xr-attrs dd {\n",
       "  padding: 0;\n",
       "  margin: 0;\n",
       "  float: left;\n",
       "  padding-right: 10px;\n",
       "  width: auto;\n",
       "}\n",
       "\n",
       ".xr-attrs dt {\n",
       "  font-weight: normal;\n",
       "  grid-column: 1;\n",
       "}\n",
       "\n",
       ".xr-attrs dt:hover span {\n",
       "  display: inline-block;\n",
       "  background: var(--xr-background-color);\n",
       "  padding-right: 10px;\n",
       "}\n",
       "\n",
       ".xr-attrs dd {\n",
       "  grid-column: 2;\n",
       "  white-space: pre-wrap;\n",
       "  word-break: break-all;\n",
       "}\n",
       "\n",
       ".xr-icon-database,\n",
       ".xr-icon-file-text2 {\n",
       "  display: inline-block;\n",
       "  vertical-align: middle;\n",
       "  width: 1em;\n",
       "  height: 1.5em !important;\n",
       "  stroke-width: 0;\n",
       "  stroke: currentColor;\n",
       "  fill: currentColor;\n",
       "}\n",
       "</style><pre class='xr-text-repr-fallback'>&lt;xarray.Dataset&gt;\n",
       "Dimensions:  (time: 24, lon: 121, lat: 81, member: 10, step: 3)\n",
       "Coordinates:\n",
       "  * time     (time) datetime64[ns] 1993-06-01 1994-06-01 ... 2016-06-01\n",
       "  * lon      (lon) float32 120.0 121.0 122.0 123.0 ... 237.0 238.0 239.0 240.0\n",
       "  * lat      (lat) float32 -50.0 -49.0 -48.0 -47.0 -46.0 ... 27.0 28.0 29.0 30.0\n",
       "  * member   (member) int32 0 1 2 3 4 5 6 7 8 9\n",
       "  * step     (step) int64 3 4 5\n",
       "Data variables:\n",
       "    precip   (time, step, member, lat, lon) float64 dask.array&lt;chunksize=(24, 1, 10, 10, 10), meta=np.ndarray&gt;\n",
       "Attributes:\n",
       "    Conventions:  CF-1.6\n",
       "    history:      2022-06-08 23:27:29 GMT by grib_to_netcdf-2.24.3: /opt/ecmw...</pre><div class='xr-wrap' style='display:none'><div class='xr-header'><div class='xr-obj-type'>xarray.Dataset</div></div><ul class='xr-sections'><li class='xr-section-item'><input id='section-7423d8c8-6199-4eb6-b6d7-60009e83cbce' class='xr-section-summary-in' type='checkbox' disabled ><label for='section-7423d8c8-6199-4eb6-b6d7-60009e83cbce' class='xr-section-summary'  title='Expand/collapse section'>Dimensions:</label><div class='xr-section-inline-details'><ul class='xr-dim-list'><li><span class='xr-has-index'>time</span>: 24</li><li><span class='xr-has-index'>lon</span>: 121</li><li><span class='xr-has-index'>lat</span>: 81</li><li><span class='xr-has-index'>member</span>: 10</li><li><span class='xr-has-index'>step</span>: 3</li></ul></div><div class='xr-section-details'></div></li><li class='xr-section-item'><input id='section-91998b76-284f-4b92-8a37-fe2635fcf7b9' class='xr-section-summary-in' type='checkbox'  checked><label for='section-91998b76-284f-4b92-8a37-fe2635fcf7b9' class='xr-section-summary' >Coordinates: <span>(5)</span></label><div class='xr-section-inline-details'></div><div class='xr-section-details'><ul class='xr-var-list'><li class='xr-var-item'><div class='xr-var-name'><span class='xr-has-index'>time</span></div><div class='xr-var-dims'>(time)</div><div class='xr-var-dtype'>datetime64[ns]</div><div class='xr-var-preview xr-preview'>1993-06-01 ... 2016-06-01</div><input id='attrs-28685bd7-5be2-40d0-8b54-30b4f20eb58b' class='xr-var-attrs-in' type='checkbox' disabled><label for='attrs-28685bd7-5be2-40d0-8b54-30b4f20eb58b' title='Show/Hide attributes'><svg class='icon xr-icon-file-text2'><use xlink:href='#icon-file-text2'></use></svg></label><input id='data-7bfd5fba-05f3-4954-8c85-a3f60752071d' class='xr-var-data-in' type='checkbox'><label for='data-7bfd5fba-05f3-4954-8c85-a3f60752071d' title='Show/Hide data repr'><svg class='icon xr-icon-database'><use xlink:href='#icon-database'></use></svg></label><div class='xr-var-attrs'><dl class='xr-attrs'></dl></div><div class='xr-var-data'><pre>array([&#x27;1993-06-01T00:00:00.000000000&#x27;, &#x27;1994-06-01T00:00:00.000000000&#x27;,\n",
       "       &#x27;1995-06-01T00:00:00.000000000&#x27;, &#x27;1996-06-01T00:00:00.000000000&#x27;,\n",
       "       &#x27;1997-06-01T00:00:00.000000000&#x27;, &#x27;1998-06-01T00:00:00.000000000&#x27;,\n",
       "       &#x27;1999-06-01T00:00:00.000000000&#x27;, &#x27;2000-06-01T00:00:00.000000000&#x27;,\n",
       "       &#x27;2001-06-01T00:00:00.000000000&#x27;, &#x27;2002-06-01T00:00:00.000000000&#x27;,\n",
       "       &#x27;2003-06-01T00:00:00.000000000&#x27;, &#x27;2004-06-01T00:00:00.000000000&#x27;,\n",
       "       &#x27;2005-06-01T00:00:00.000000000&#x27;, &#x27;2006-06-01T00:00:00.000000000&#x27;,\n",
       "       &#x27;2007-06-01T00:00:00.000000000&#x27;, &#x27;2008-06-01T00:00:00.000000000&#x27;,\n",
       "       &#x27;2009-06-01T00:00:00.000000000&#x27;, &#x27;2010-06-01T00:00:00.000000000&#x27;,\n",
       "       &#x27;2011-06-01T00:00:00.000000000&#x27;, &#x27;2012-06-01T00:00:00.000000000&#x27;,\n",
       "       &#x27;2013-06-01T00:00:00.000000000&#x27;, &#x27;2014-06-01T00:00:00.000000000&#x27;,\n",
       "       &#x27;2015-06-01T00:00:00.000000000&#x27;, &#x27;2016-06-01T00:00:00.000000000&#x27;],\n",
       "      dtype=&#x27;datetime64[ns]&#x27;)</pre></div></li><li class='xr-var-item'><div class='xr-var-name'><span class='xr-has-index'>lon</span></div><div class='xr-var-dims'>(lon)</div><div class='xr-var-dtype'>float32</div><div class='xr-var-preview xr-preview'>120.0 121.0 122.0 ... 239.0 240.0</div><input id='attrs-912970c6-102e-41e4-a281-6118a0ecdd7e' class='xr-var-attrs-in' type='checkbox' ><label for='attrs-912970c6-102e-41e4-a281-6118a0ecdd7e' title='Show/Hide attributes'><svg class='icon xr-icon-file-text2'><use xlink:href='#icon-file-text2'></use></svg></label><input id='data-0c41d29d-5975-41ea-a388-b586fe3f0099' class='xr-var-data-in' type='checkbox'><label for='data-0c41d29d-5975-41ea-a388-b586fe3f0099' title='Show/Hide data repr'><svg class='icon xr-icon-database'><use xlink:href='#icon-database'></use></svg></label><div class='xr-var-attrs'><dl class='xr-attrs'><dt><span>units :</span></dt><dd>degrees_east</dd><dt><span>long_name :</span></dt><dd>longitude</dd></dl></div><div class='xr-var-data'><pre>array([120., 121., 122., 123., 124., 125., 126., 127., 128., 129., 130., 131.,\n",
       "       132., 133., 134., 135., 136., 137., 138., 139., 140., 141., 142., 143.,\n",
       "       144., 145., 146., 147., 148., 149., 150., 151., 152., 153., 154., 155.,\n",
       "       156., 157., 158., 159., 160., 161., 162., 163., 164., 165., 166., 167.,\n",
       "       168., 169., 170., 171., 172., 173., 174., 175., 176., 177., 178., 179.,\n",
       "       180., 181., 182., 183., 184., 185., 186., 187., 188., 189., 190., 191.,\n",
       "       192., 193., 194., 195., 196., 197., 198., 199., 200., 201., 202., 203.,\n",
       "       204., 205., 206., 207., 208., 209., 210., 211., 212., 213., 214., 215.,\n",
       "       216., 217., 218., 219., 220., 221., 222., 223., 224., 225., 226., 227.,\n",
       "       228., 229., 230., 231., 232., 233., 234., 235., 236., 237., 238., 239.,\n",
       "       240.], dtype=float32)</pre></div></li><li class='xr-var-item'><div class='xr-var-name'><span class='xr-has-index'>lat</span></div><div class='xr-var-dims'>(lat)</div><div class='xr-var-dtype'>float32</div><div class='xr-var-preview xr-preview'>-50.0 -49.0 -48.0 ... 29.0 30.0</div><input id='attrs-c84cee1e-4159-4e30-a960-507435523f1b' class='xr-var-attrs-in' type='checkbox' ><label for='attrs-c84cee1e-4159-4e30-a960-507435523f1b' title='Show/Hide attributes'><svg class='icon xr-icon-file-text2'><use xlink:href='#icon-file-text2'></use></svg></label><input id='data-417674c2-4455-44e6-9b14-34b3e2e1f3c4' class='xr-var-data-in' type='checkbox'><label for='data-417674c2-4455-44e6-9b14-34b3e2e1f3c4' title='Show/Hide data repr'><svg class='icon xr-icon-database'><use xlink:href='#icon-database'></use></svg></label><div class='xr-var-attrs'><dl class='xr-attrs'><dt><span>units :</span></dt><dd>degrees_north</dd><dt><span>long_name :</span></dt><dd>latitude</dd></dl></div><div class='xr-var-data'><pre>array([-50., -49., -48., -47., -46., -45., -44., -43., -42., -41., -40., -39.,\n",
       "       -38., -37., -36., -35., -34., -33., -32., -31., -30., -29., -28., -27.,\n",
       "       -26., -25., -24., -23., -22., -21., -20., -19., -18., -17., -16., -15.,\n",
       "       -14., -13., -12., -11., -10.,  -9.,  -8.,  -7.,  -6.,  -5.,  -4.,  -3.,\n",
       "        -2.,  -1.,   0.,   1.,   2.,   3.,   4.,   5.,   6.,   7.,   8.,   9.,\n",
       "        10.,  11.,  12.,  13.,  14.,  15.,  16.,  17.,  18.,  19.,  20.,  21.,\n",
       "        22.,  23.,  24.,  25.,  26.,  27.,  28.,  29.,  30.], dtype=float32)</pre></div></li><li class='xr-var-item'><div class='xr-var-name'><span class='xr-has-index'>member</span></div><div class='xr-var-dims'>(member)</div><div class='xr-var-dtype'>int32</div><div class='xr-var-preview xr-preview'>0 1 2 3 4 5 6 7 8 9</div><input id='attrs-dfb6dfec-0c2f-4064-adfb-edc597396f6b' class='xr-var-attrs-in' type='checkbox' ><label for='attrs-dfb6dfec-0c2f-4064-adfb-edc597396f6b' title='Show/Hide attributes'><svg class='icon xr-icon-file-text2'><use xlink:href='#icon-file-text2'></use></svg></label><input id='data-f19a9097-3b3f-4ce1-b8e1-da95dbcf64d3' class='xr-var-data-in' type='checkbox'><label for='data-f19a9097-3b3f-4ce1-b8e1-da95dbcf64d3' title='Show/Hide data repr'><svg class='icon xr-icon-database'><use xlink:href='#icon-database'></use></svg></label><div class='xr-var-attrs'><dl class='xr-attrs'><dt><span>long_name :</span></dt><dd>ensemble_member</dd></dl></div><div class='xr-var-data'><pre>array([0, 1, 2, 3, 4, 5, 6, 7, 8, 9], dtype=int32)</pre></div></li><li class='xr-var-item'><div class='xr-var-name'><span class='xr-has-index'>step</span></div><div class='xr-var-dims'>(step)</div><div class='xr-var-dtype'>int64</div><div class='xr-var-preview xr-preview'>3 4 5</div><input id='attrs-45d10dd0-2d83-4680-9fab-acf7e6945679' class='xr-var-attrs-in' type='checkbox' disabled><label for='attrs-45d10dd0-2d83-4680-9fab-acf7e6945679' title='Show/Hide attributes'><svg class='icon xr-icon-file-text2'><use xlink:href='#icon-file-text2'></use></svg></label><input id='data-191eb6bf-693c-4e06-90b3-9d74cf817094' class='xr-var-data-in' type='checkbox'><label for='data-191eb6bf-693c-4e06-90b3-9d74cf817094' title='Show/Hide data repr'><svg class='icon xr-icon-database'><use xlink:href='#icon-database'></use></svg></label><div class='xr-var-attrs'><dl class='xr-attrs'></dl></div><div class='xr-var-data'><pre>array([3, 4, 5])</pre></div></li></ul></div></li><li class='xr-section-item'><input id='section-94231fde-afc2-4559-a76f-ce1b8e9ee6ed' class='xr-section-summary-in' type='checkbox'  checked><label for='section-94231fde-afc2-4559-a76f-ce1b8e9ee6ed' class='xr-section-summary' >Data variables: <span>(1)</span></label><div class='xr-section-inline-details'></div><div class='xr-section-details'><ul class='xr-var-list'><li class='xr-var-item'><div class='xr-var-name'><span>precip</span></div><div class='xr-var-dims'>(time, step, member, lat, lon)</div><div class='xr-var-dtype'>float64</div><div class='xr-var-preview xr-preview'>dask.array&lt;chunksize=(24, 1, 10, 10, 10), meta=np.ndarray&gt;</div><input id='attrs-c44725fd-a257-43b0-99c8-cdbd49176aa0' class='xr-var-attrs-in' type='checkbox' ><label for='attrs-c44725fd-a257-43b0-99c8-cdbd49176aa0' title='Show/Hide attributes'><svg class='icon xr-icon-file-text2'><use xlink:href='#icon-file-text2'></use></svg></label><input id='data-9ff8a971-f4dc-4422-bee1-aa77f6e7cc06' class='xr-var-data-in' type='checkbox'><label for='data-9ff8a971-f4dc-4422-bee1-aa77f6e7cc06' title='Show/Hide data repr'><svg class='icon xr-icon-database'><use xlink:href='#icon-database'></use></svg></label><div class='xr-var-attrs'><dl class='xr-attrs'><dt><span>units :</span></dt><dd>mm/month</dd></dl></div><div class='xr-var-data'><table>\n",
       "    <tr>\n",
       "        <td>\n",
       "            <table>\n",
       "                <thead>\n",
       "                    <tr>\n",
       "                        <td> </td>\n",
       "                        <th> Array </th>\n",
       "                        <th> Chunk </th>\n",
       "                    </tr>\n",
       "                </thead>\n",
       "                <tbody>\n",
       "                    \n",
       "                    <tr>\n",
       "                        <th> Bytes </th>\n",
       "                        <td> 53.84 MiB </td>\n",
       "                        <td> 187.50 kiB </td>\n",
       "                    </tr>\n",
       "                    \n",
       "                    <tr>\n",
       "                        <th> Shape </th>\n",
       "                        <td> (24, 3, 10, 81, 121) </td>\n",
       "                        <td> (24, 1, 10, 10, 10) </td>\n",
       "                    </tr>\n",
       "                    <tr>\n",
       "                        <th> Count </th>\n",
       "                        <td> 1686 Tasks </td>\n",
       "                        <td> 351 Chunks </td>\n",
       "                    </tr>\n",
       "                    <tr>\n",
       "                    <th> Type </th>\n",
       "                    <td> float64 </td>\n",
       "                    <td> numpy.ndarray </td>\n",
       "                    </tr>\n",
       "                </tbody>\n",
       "            </table>\n",
       "        </td>\n",
       "        <td>\n",
       "        <svg width=\"392\" height=\"152\" style=\"stroke:rgb(0,0,0);stroke-width:1\" >\n",
       "\n",
       "  <!-- Horizontal lines -->\n",
       "  <line x1=\"0\" y1=\"0\" x2=\"30\" y2=\"0\" style=\"stroke-width:2\" />\n",
       "  <line x1=\"0\" y1=\"41\" x2=\"30\" y2=\"41\" style=\"stroke-width:2\" />\n",
       "\n",
       "  <!-- Vertical lines -->\n",
       "  <line x1=\"0\" y1=\"0\" x2=\"0\" y2=\"41\" style=\"stroke-width:2\" />\n",
       "  <line x1=\"10\" y1=\"0\" x2=\"10\" y2=\"41\" />\n",
       "  <line x1=\"20\" y1=\"0\" x2=\"20\" y2=\"41\" />\n",
       "  <line x1=\"30\" y1=\"0\" x2=\"30\" y2=\"41\" style=\"stroke-width:2\" />\n",
       "\n",
       "  <!-- Colored Rectangle -->\n",
       "  <polygon points=\"0.0,0.0 30.26292606701685,0.0 30.26292606701685,41.974744095238016 0.0,41.974744095238016\" style=\"fill:#ECB172A0;stroke-width:0\"/>\n",
       "\n",
       "  <!-- Text -->\n",
       "  <text x=\"15.131463\" y=\"61.974744\" font-size=\"1.0rem\" font-weight=\"100\" text-anchor=\"middle\" >3</text>\n",
       "  <text x=\"50.262926\" y=\"20.987372\" font-size=\"1.0rem\" font-weight=\"100\" text-anchor=\"middle\" transform=\"rotate(0,50.262926,20.987372)\">24</text>\n",
       "\n",
       "\n",
       "  <!-- Horizontal lines -->\n",
       "  <line x1=\"100\" y1=\"0\" x2=\"122\" y2=\"22\" style=\"stroke-width:2\" />\n",
       "  <line x1=\"100\" y1=\"9\" x2=\"122\" y2=\"31\" />\n",
       "  <line x1=\"100\" y1=\"19\" x2=\"122\" y2=\"41\" />\n",
       "  <line x1=\"100\" y1=\"29\" x2=\"122\" y2=\"51\" />\n",
       "  <line x1=\"100\" y1=\"39\" x2=\"122\" y2=\"61\" />\n",
       "  <line x1=\"100\" y1=\"49\" x2=\"122\" y2=\"71\" />\n",
       "  <line x1=\"100\" y1=\"59\" x2=\"122\" y2=\"81\" />\n",
       "  <line x1=\"100\" y1=\"69\" x2=\"122\" y2=\"91\" />\n",
       "  <line x1=\"100\" y1=\"79\" x2=\"122\" y2=\"101\" />\n",
       "  <line x1=\"100\" y1=\"80\" x2=\"122\" y2=\"102\" style=\"stroke-width:2\" />\n",
       "\n",
       "  <!-- Vertical lines -->\n",
       "  <line x1=\"100\" y1=\"0\" x2=\"100\" y2=\"80\" style=\"stroke-width:2\" />\n",
       "  <line x1=\"122\" y1=\"22\" x2=\"122\" y2=\"102\" style=\"stroke-width:2\" />\n",
       "\n",
       "  <!-- Colored Rectangle -->\n",
       "  <polygon points=\"100.0,0.0 122.06797403173512,22.06797403173512 122.06797403173512,102.39855254413182 100.0,80.3305785123967\" style=\"fill:#ECB172A0;stroke-width:0\"/>\n",
       "\n",
       "  <!-- Horizontal lines -->\n",
       "  <line x1=\"100\" y1=\"0\" x2=\"220\" y2=\"0\" style=\"stroke-width:2\" />\n",
       "  <line x1=\"122\" y1=\"22\" x2=\"242\" y2=\"22\" style=\"stroke-width:2\" />\n",
       "\n",
       "  <!-- Vertical lines -->\n",
       "  <line x1=\"100\" y1=\"0\" x2=\"122\" y2=\"22\" style=\"stroke-width:2\" />\n",
       "  <line x1=\"109\" y1=\"0\" x2=\"131\" y2=\"22\" />\n",
       "  <line x1=\"119\" y1=\"0\" x2=\"141\" y2=\"22\" />\n",
       "  <line x1=\"129\" y1=\"0\" x2=\"151\" y2=\"22\" />\n",
       "  <line x1=\"139\" y1=\"0\" x2=\"161\" y2=\"22\" />\n",
       "  <line x1=\"149\" y1=\"0\" x2=\"171\" y2=\"22\" />\n",
       "  <line x1=\"159\" y1=\"0\" x2=\"181\" y2=\"22\" />\n",
       "  <line x1=\"169\" y1=\"0\" x2=\"191\" y2=\"22\" />\n",
       "  <line x1=\"179\" y1=\"0\" x2=\"201\" y2=\"22\" />\n",
       "  <line x1=\"189\" y1=\"0\" x2=\"211\" y2=\"22\" />\n",
       "  <line x1=\"199\" y1=\"0\" x2=\"221\" y2=\"22\" />\n",
       "  <line x1=\"209\" y1=\"0\" x2=\"231\" y2=\"22\" />\n",
       "  <line x1=\"219\" y1=\"0\" x2=\"241\" y2=\"22\" />\n",
       "  <line x1=\"220\" y1=\"0\" x2=\"242\" y2=\"22\" style=\"stroke-width:2\" />\n",
       "\n",
       "  <!-- Colored Rectangle -->\n",
       "  <polygon points=\"100.0,0.0 220.0,0.0 242.0679740317351,22.06797403173512 122.06797403173512,22.06797403173512\" style=\"fill:#ECB172A0;stroke-width:0\"/>\n",
       "\n",
       "  <!-- Horizontal lines -->\n",
       "  <line x1=\"122\" y1=\"22\" x2=\"242\" y2=\"22\" style=\"stroke-width:2\" />\n",
       "  <line x1=\"122\" y1=\"31\" x2=\"242\" y2=\"31\" />\n",
       "  <line x1=\"122\" y1=\"41\" x2=\"242\" y2=\"41\" />\n",
       "  <line x1=\"122\" y1=\"51\" x2=\"242\" y2=\"51\" />\n",
       "  <line x1=\"122\" y1=\"61\" x2=\"242\" y2=\"61\" />\n",
       "  <line x1=\"122\" y1=\"71\" x2=\"242\" y2=\"71\" />\n",
       "  <line x1=\"122\" y1=\"81\" x2=\"242\" y2=\"81\" />\n",
       "  <line x1=\"122\" y1=\"91\" x2=\"242\" y2=\"91\" />\n",
       "  <line x1=\"122\" y1=\"101\" x2=\"242\" y2=\"101\" />\n",
       "  <line x1=\"122\" y1=\"102\" x2=\"242\" y2=\"102\" style=\"stroke-width:2\" />\n",
       "\n",
       "  <!-- Vertical lines -->\n",
       "  <line x1=\"122\" y1=\"22\" x2=\"122\" y2=\"102\" style=\"stroke-width:2\" />\n",
       "  <line x1=\"131\" y1=\"22\" x2=\"131\" y2=\"102\" />\n",
       "  <line x1=\"141\" y1=\"22\" x2=\"141\" y2=\"102\" />\n",
       "  <line x1=\"151\" y1=\"22\" x2=\"151\" y2=\"102\" />\n",
       "  <line x1=\"161\" y1=\"22\" x2=\"161\" y2=\"102\" />\n",
       "  <line x1=\"171\" y1=\"22\" x2=\"171\" y2=\"102\" />\n",
       "  <line x1=\"181\" y1=\"22\" x2=\"181\" y2=\"102\" />\n",
       "  <line x1=\"191\" y1=\"22\" x2=\"191\" y2=\"102\" />\n",
       "  <line x1=\"201\" y1=\"22\" x2=\"201\" y2=\"102\" />\n",
       "  <line x1=\"211\" y1=\"22\" x2=\"211\" y2=\"102\" />\n",
       "  <line x1=\"221\" y1=\"22\" x2=\"221\" y2=\"102\" />\n",
       "  <line x1=\"231\" y1=\"22\" x2=\"231\" y2=\"102\" />\n",
       "  <line x1=\"241\" y1=\"22\" x2=\"241\" y2=\"102\" />\n",
       "  <line x1=\"242\" y1=\"22\" x2=\"242\" y2=\"102\" style=\"stroke-width:2\" />\n",
       "\n",
       "  <!-- Colored Rectangle -->\n",
       "  <polygon points=\"122.06797403173512,22.06797403173512 242.0679740317351,22.06797403173512 242.0679740317351,102.39855254413182 122.06797403173512,102.39855254413182\" style=\"fill:#ECB172A0;stroke-width:0\"/>\n",
       "\n",
       "  <!-- Text -->\n",
       "  <text x=\"182.067974\" y=\"122.398553\" font-size=\"1.0rem\" font-weight=\"100\" text-anchor=\"middle\" >121</text>\n",
       "  <text x=\"262.067974\" y=\"62.233263\" font-size=\"1.0rem\" font-weight=\"100\" text-anchor=\"middle\" transform=\"rotate(0,262.067974,62.233263)\">81</text>\n",
       "  <text x=\"101.033987\" y=\"111.364566\" font-size=\"1.0rem\" font-weight=\"100\" text-anchor=\"middle\" transform=\"rotate(45,101.033987,111.364566)\">10</text>\n",
       "</svg>\n",
       "        </td>\n",
       "    </tr>\n",
       "</table></div></li></ul></div></li><li class='xr-section-item'><input id='section-1d26dba0-2b39-49ad-858b-2edf53c900a0' class='xr-section-summary-in' type='checkbox'  checked><label for='section-1d26dba0-2b39-49ad-858b-2edf53c900a0' class='xr-section-summary' >Attributes: <span>(2)</span></label><div class='xr-section-inline-details'></div><div class='xr-section-details'><dl class='xr-attrs'><dt><span>Conventions :</span></dt><dd>CF-1.6</dd><dt><span>history :</span></dt><dd>2022-06-08 23:27:29 GMT by grib_to_netcdf-2.24.3: /opt/ecmwf/mars-client/bin/grib_to_netcdf -S param -o /cache/data0/adaptor.mars.external-1654730849.3278844-19049-6-0eefdd15-48b7-4ba7-86e1-12b6e631d116.nc /cache/tmp/0eefdd15-48b7-4ba7-86e1-12b6e631d116-adaptor.mars.external-1654730846.9844313-19049-9-tmp.grib</dd></dl></div></li></ul></div></div>"
      ],
      "text/plain": [
       "<xarray.Dataset>\n",
       "Dimensions:  (time: 24, lon: 121, lat: 81, member: 10, step: 3)\n",
       "Coordinates:\n",
       "  * time     (time) datetime64[ns] 1993-06-01 1994-06-01 ... 2016-06-01\n",
       "  * lon      (lon) float32 120.0 121.0 122.0 123.0 ... 237.0 238.0 239.0 240.0\n",
       "  * lat      (lat) float32 -50.0 -49.0 -48.0 -47.0 -46.0 ... 27.0 28.0 29.0 30.0\n",
       "  * member   (member) int32 0 1 2 3 4 5 6 7 8 9\n",
       "  * step     (step) int64 3 4 5\n",
       "Data variables:\n",
       "    precip   (time, step, member, lat, lon) float64 dask.array<chunksize=(24, 1, 10, 10, 10), meta=np.ndarray>\n",
       "Attributes:\n",
       "    Conventions:  CF-1.6\n",
       "    history:      2022-06-08 23:27:29 GMT by grib_to_netcdf-2.24.3: /opt/ecmw..."
      ]
     },
     "execution_count": 37,
     "metadata": {},
     "output_type": "execute_result"
    }
   ],
   "source": [
    "dset"
   ]
  },
  {
   "cell_type": "markdown",
   "id": "13ed01c1-f131-496e-b26b-ed795cc0e632",
   "metadata": {
    "papermill": {
     "duration": 0.006921,
     "end_time": "2022-06-09T05:03:26.017386",
     "exception": false,
     "start_time": "2022-06-09T05:03:26.010465",
     "status": "completed"
    },
    "tags": []
   },
   "source": [
    "### uncomment the following for visual inspection of the hindcasts "
   ]
  },
  {
   "cell_type": "code",
   "execution_count": 38,
   "id": "14ecb4f9-ff39-483b-9221-58be9ac10a79",
   "metadata": {
    "execution": {
     "iopub.execute_input": "2022-06-09T05:03:26.032558Z",
     "iopub.status.busy": "2022-06-09T05:03:26.032372Z",
     "iopub.status.idle": "2022-06-09T05:03:26.050410Z",
     "shell.execute_reply": "2022-06-09T05:03:26.049944Z"
    },
    "papermill": {
     "duration": 0.027181,
     "end_time": "2022-06-09T05:03:26.051613",
     "exception": false,
     "start_time": "2022-06-09T05:03:26.024432",
     "status": "completed"
    },
    "tags": []
   },
   "outputs": [],
   "source": [
    "# for t in range(24): \n",
    "#     for s in range(5): \n",
    "#         fg = dset.isel(time=t, step=s)['precip'].plot(vmax=1000., col='member', col_wrap=5)\n",
    "#         fg.fig.savefig(f'./tmp/JMA_hindcast_t_{t}_s_{s}.png', dpi=200, bbox_inches='tight', facecolor='w')\n",
    "#         plt.close(fg.fig)"
   ]
  },
  {
   "cell_type": "markdown",
   "id": "b6c38ca6-b0f1-4f3b-b742-b7a1baa5ea42",
   "metadata": {
    "papermill": {
     "duration": 0.007276,
     "end_time": "2022-06-09T05:03:26.066027",
     "exception": false,
     "start_time": "2022-06-09T05:03:26.058751",
     "status": "completed"
    },
    "tags": []
   },
   "source": [
    "### stack the time and members "
   ]
  },
  {
   "cell_type": "code",
   "execution_count": 39,
   "id": "694b4d5a-c61e-4085-a446-4ec88ece7853",
   "metadata": {
    "execution": {
     "iopub.execute_input": "2022-06-09T05:03:26.082138Z",
     "iopub.status.busy": "2022-06-09T05:03:26.081993Z",
     "iopub.status.idle": "2022-06-09T05:03:26.102039Z",
     "shell.execute_reply": "2022-06-09T05:03:26.101598Z"
    },
    "papermill": {
     "duration": 0.029976,
     "end_time": "2022-06-09T05:03:26.103256",
     "exception": false,
     "start_time": "2022-06-09T05:03:26.073280",
     "status": "completed"
    },
    "tags": []
   },
   "outputs": [],
   "source": [
    "clim = dset.stack(instance=('time','member'))"
   ]
  },
  {
   "cell_type": "code",
   "execution_count": 40,
   "id": "353e977d-10d0-416f-8bf4-fc91e64f5f19",
   "metadata": {
    "execution": {
     "iopub.execute_input": "2022-06-09T05:03:26.118228Z",
     "iopub.status.busy": "2022-06-09T05:03:26.118080Z",
     "iopub.status.idle": "2022-06-09T05:03:26.529123Z",
     "shell.execute_reply": "2022-06-09T05:03:26.528714Z"
    },
    "papermill": {
     "duration": 0.419808,
     "end_time": "2022-06-09T05:03:26.530122",
     "exception": false,
     "start_time": "2022-06-09T05:03:26.110314",
     "status": "completed"
    },
    "tags": []
   },
   "outputs": [
    {
     "name": "stdout",
     "output_type": "stream",
     "text": [
      "The seasonal tprate hindcast climatologies from month 6 in ECCC_GEM5_NEMO will be calculated using 240 instances\n",
      "\n"
     ]
    }
   ],
   "source": [
    "# drop the eventual missing instances (due to sometimes inconsistent number of members)\n",
    "clim = clim.dropna(dim='instance')\n",
    "\n",
    "# rechunk so that we have a continuous instance dimension \n",
    "clim = clim.chunk({'instance':-1})\n",
    "\n",
    "# number of instances for the calculation of the quantiles climatologies, will be added to the dataset for record-keeping \n",
    "n_instances = len(clim['instance'])\n",
    "\n",
    "# print \n",
    "print(f\"The {period} {varname} hindcast climatologies from month {initial_month} in {GCM} will be calculated using {n_instances} instances\\n\")\n",
    "\n",
    "# now loop over the quantiles dictionnary, calculates the climatological quantiles, do some \n",
    "# data munging, and saves to disk \n"
   ]
  },
  {
   "cell_type": "code",
   "execution_count": 41,
   "id": "bf9027d9-2079-468f-a496-e1540fb7b9a9",
   "metadata": {
    "execution": {
     "iopub.execute_input": "2022-06-09T05:03:26.545206Z",
     "iopub.status.busy": "2022-06-09T05:03:26.545046Z",
     "iopub.status.idle": "2022-06-09T05:03:48.711714Z",
     "shell.execute_reply": "2022-06-09T05:03:48.711271Z"
    },
    "papermill": {
     "duration": 22.175486,
     "end_time": "2022-06-09T05:03:48.712789",
     "exception": false,
     "start_time": "2022-06-09T05:03:26.537303",
     "status": "completed"
    },
    "tags": []
   },
   "outputs": [
    {
     "name": "stdout",
     "output_type": "stream",
     "text": [
      "tercile climatology\n",
      "\n",
      "[########################################] | 100% Completed |  5.6s\n",
      "Successfully saved /media/nicolasf/END19101/ICU/data/CDS/operational/hindcasts/CLIMATOLOGY/ECCC_GEM5_NEMO/TPRATE/ECCC_GEM5_NEMO_tprate_seasonal_tercile_climatology_06.netcdf\n",
      "\n",
      "quartile climatology\n",
      "\n",
      "[########################################] | 100% Completed |  5.1s\n",
      "Successfully saved /media/nicolasf/END19101/ICU/data/CDS/operational/hindcasts/CLIMATOLOGY/ECCC_GEM5_NEMO/TPRATE/ECCC_GEM5_NEMO_tprate_seasonal_quartile_climatology_06.netcdf\n",
      "\n",
      "decile climatology\n",
      "\n",
      "[########################################] | 100% Completed |  5.0s\n",
      "Successfully saved /media/nicolasf/END19101/ICU/data/CDS/operational/hindcasts/CLIMATOLOGY/ECCC_GEM5_NEMO/TPRATE/ECCC_GEM5_NEMO_tprate_seasonal_decile_climatology_06.netcdf\n",
      "\n",
      "percentile climatology\n",
      "\n",
      "[########################################] | 100% Completed |  5.2s\n",
      "Successfully saved /media/nicolasf/END19101/ICU/data/CDS/operational/hindcasts/CLIMATOLOGY/ECCC_GEM5_NEMO/TPRATE/ECCC_GEM5_NEMO_tprate_seasonal_percentile_climatology_06.netcdf\n",
      "\n"
     ]
    }
   ],
   "source": [
    "for k in dict_quantiles.keys():\n",
    "\n",
    "    print(f\"{k} climatology\\n\")\n",
    "\n",
    "    clim_quantile = clim.quantile(dict_quantiles[k], dim='instance')\n",
    "\n",
    "    # adds a `'month' dimension with coordinate `month`, for later concatenation\n",
    "    clim_quantile = clim_quantile.expand_dims({'month':[initial_month]})\n",
    "\n",
    "    # add the number of instances in the dataset for record-keeping\n",
    "    clim_quantile['n_instances'] = (('month'), [n_instances])\n",
    "\n",
    "    # now compute \n",
    "    with ProgressBar(): \n",
    "\n",
    "        clim_quantile = clim_quantile.compute() \n",
    "\n",
    "    # save to disk \n",
    "    clim_quantile.to_netcdf(clim_path.joinpath(f\"{GCM}_{varname}_{period}_{k}_climatology_{initial_month:02d}.netcdf\"))\n",
    "\n",
    "    if clim_path.joinpath(f\"{GCM}_{varname}_{period}_{k}_climatology_{initial_month:02d}.netcdf\").exists(): \n",
    "\n",
    "        print(f\"Successfully saved {str(clim_path.joinpath(f'{GCM}_{varname}_{period}_{k}_climatology_{initial_month:02d}.netcdf'))}\\n\")\n",
    "\n",
    "        clim_quantile.close()"
   ]
  },
  {
   "cell_type": "code",
   "execution_count": null,
   "id": "89469e14-6aa3-4e51-b38b-1cb2d5c25d88",
   "metadata": {
    "papermill": {
     "duration": 0.013496,
     "end_time": "2022-06-09T05:03:48.739483",
     "exception": false,
     "start_time": "2022-06-09T05:03:48.725987",
     "status": "completed"
    },
    "tags": []
   },
   "outputs": [],
   "source": []
  }
 ],
 "metadata": {
  "kernelspec": {
   "display_name": "Python 3 (ipykernel)",
   "language": "python",
   "name": "python3"
  },
  "language_info": {
   "codemirror_mode": {
    "name": "ipython",
    "version": 3
   },
   "file_extension": ".py",
   "mimetype": "text/x-python",
   "name": "python",
   "nbconvert_exporter": "python",
   "pygments_lexer": "ipython3",
   "version": "3.9.12"
  },
  "papermill": {
   "default_parameters": {},
   "duration": 41.202878,
   "end_time": "2022-06-09T05:03:49.369346",
   "environment_variables": {},
   "exception": null,
   "input_path": "3_GCMs_hindcast_climatology_ops.ipynb",
   "output_path": "3_GCMs_hindcast_climatology_ops.ipynb",
   "parameters": {
    "GCM": "ECCC_GEM5_NEMO",
    "lag": 0
   },
   "start_time": "2022-06-09T05:03:08.166468",
   "version": "2.3.3"
  }
 },
 "nbformat": 4,
 "nbformat_minor": 5
}
