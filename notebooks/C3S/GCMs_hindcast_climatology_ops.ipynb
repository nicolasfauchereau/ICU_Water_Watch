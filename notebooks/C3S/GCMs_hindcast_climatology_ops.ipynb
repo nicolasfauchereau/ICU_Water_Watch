{
 "cells": [
  {
   "cell_type": "markdown",
   "id": "dc848a92-0993-4d7a-8b8c-59ee5d5e5564",
   "metadata": {
    "papermill": {
     "duration": 0.059018,
     "end_time": "2022-01-17T19:11:38.050708",
     "exception": false,
     "start_time": "2022-01-17T19:11:37.991690",
     "status": "completed"
    },
    "tags": []
   },
   "source": [
    "# calculate the leadtime-dependent climatological terciles, deciles and percentiles (0.02, then 0.05 to 0.95 with 0.05 step) from the individual GCMs' hindcast dataset (period 1993 - 2016) "
   ]
  },
  {
   "cell_type": "code",
   "execution_count": 1,
   "id": "b8354915-427e-4e9f-84ae-d969c3ca5dca",
   "metadata": {
    "execution": {
     "iopub.execute_input": "2022-01-17T19:11:38.101493Z",
     "iopub.status.busy": "2022-01-17T19:11:38.101161Z",
     "iopub.status.idle": "2022-01-17T19:11:38.218482Z",
     "shell.execute_reply": "2022-01-17T19:11:38.217006Z"
    },
    "papermill": {
     "duration": 0.14418,
     "end_time": "2022-01-17T19:11:38.218895",
     "exception": false,
     "start_time": "2022-01-17T19:11:38.074715",
     "status": "completed"
    },
    "tags": []
   },
   "outputs": [
    {
     "name": "stdout",
     "output_type": "stream",
     "text": [
      "/home/nicolasf/operational/ICU/development/hotspots/code/ICU_Water_Watch/notebooks/C3S\r\n"
     ]
    }
   ],
   "source": [
    "!pwd"
   ]
  },
  {
   "cell_type": "markdown",
   "id": "101a949c-502c-4fc6-a5ab-46fc6675db5d",
   "metadata": {
    "papermill": {
     "duration": 0.022514,
     "end_time": "2022-01-17T19:11:38.296595",
     "exception": false,
     "start_time": "2022-01-17T19:11:38.274081",
     "status": "completed"
    },
    "tags": []
   },
   "source": [
    "#### **Note**: this is quite slow: It takes about 15 minutes to process a complete climatology (12 months) for one GCM, for one accumulation period (monthly or seasonal), but only needs to be calculated once ... "
   ]
  },
  {
   "cell_type": "code",
   "execution_count": 2,
   "id": "d9e3e956-31d5-4606-b762-657a128f93dc",
   "metadata": {
    "execution": {
     "iopub.execute_input": "2022-01-17T19:11:38.341054Z",
     "iopub.status.busy": "2022-01-17T19:11:38.340735Z",
     "iopub.status.idle": "2022-01-17T19:11:38.348990Z",
     "shell.execute_reply": "2022-01-17T19:11:38.348487Z"
    },
    "papermill": {
     "duration": 0.031369,
     "end_time": "2022-01-17T19:11:38.349124",
     "exception": false,
     "start_time": "2022-01-17T19:11:38.317755",
     "status": "completed"
    },
    "tags": []
   },
   "outputs": [],
   "source": [
    "%load_ext autoreload\n",
    "%autoreload 2"
   ]
  },
  {
   "cell_type": "code",
   "execution_count": 3,
   "id": "ec7c9f73-b771-4191-9c46-eb9e2ca266ad",
   "metadata": {
    "execution": {
     "iopub.execute_input": "2022-01-17T19:11:38.395096Z",
     "iopub.status.busy": "2022-01-17T19:11:38.394774Z",
     "iopub.status.idle": "2022-01-17T19:11:39.456935Z",
     "shell.execute_reply": "2022-01-17T19:11:39.456460Z"
    },
    "papermill": {
     "duration": 1.086127,
     "end_time": "2022-01-17T19:11:39.457038",
     "exception": false,
     "start_time": "2022-01-17T19:11:38.370911",
     "status": "completed"
    },
    "tags": []
   },
   "outputs": [],
   "source": [
    "%matplotlib inline\n",
    "\n",
    "### os\n",
    "import os\n",
    "import sys\n",
    "from collections import OrderedDict\n",
    "\n",
    "### datetimes\n",
    "from datetime import datetime, timedelta\n",
    "from dateutil.relativedelta import relativedelta\n",
    "from calendar import month_name\n",
    "\n",
    "\n",
    "### scipy\n",
    "import numpy as np\n",
    "import pandas as pd\n",
    "import xarray as xr\n",
    "import geopandas as gpd\n",
    "import cartopy.crs as ccrs\n",
    "import dask\n",
    "from dask.diagnostics import ProgressBar\n",
    "from tqdm import tqdm\n",
    "\n",
    "### plotting\n",
    "from matplotlib import pyplot as plt\n",
    "import matplotlib\n",
    "import seaborn as sns\n"
   ]
  },
  {
   "cell_type": "code",
   "execution_count": 4,
   "id": "0cab9771-20cf-4302-9c84-97580f01d934",
   "metadata": {
    "execution": {
     "iopub.execute_input": "2022-01-17T19:11:39.504720Z",
     "iopub.status.busy": "2022-01-17T19:11:39.504407Z",
     "iopub.status.idle": "2022-01-17T19:11:39.516173Z",
     "shell.execute_reply": "2022-01-17T19:11:39.515787Z"
    },
    "papermill": {
     "duration": 0.036169,
     "end_time": "2022-01-17T19:11:39.516265",
     "exception": false,
     "start_time": "2022-01-17T19:11:39.480096",
     "status": "completed"
    },
    "tags": []
   },
   "outputs": [],
   "source": [
    "import pathlib\n",
    "\n",
    "HOME = pathlib.Path.home()\n",
    "CWD = pathlib.Path.cwd() "
   ]
  },
  {
   "cell_type": "code",
   "execution_count": 5,
   "id": "03b5d899-37d8-48b0-b161-3b5a67d2e116",
   "metadata": {
    "execution": {
     "iopub.execute_input": "2022-01-17T19:11:39.560871Z",
     "iopub.status.busy": "2022-01-17T19:11:39.560556Z",
     "iopub.status.idle": "2022-01-17T19:11:39.571986Z",
     "shell.execute_reply": "2022-01-17T19:11:39.571652Z"
    },
    "papermill": {
     "duration": 0.034078,
     "end_time": "2022-01-17T19:11:39.572133",
     "exception": false,
     "start_time": "2022-01-17T19:11:39.538055",
     "status": "completed"
    },
    "tags": []
   },
   "outputs": [],
   "source": [
    "sys.path.append('../../') "
   ]
  },
  {
   "cell_type": "code",
   "execution_count": 6,
   "id": "d986433d-94b5-41de-b90e-ff762bdcb9c4",
   "metadata": {
    "execution": {
     "iopub.execute_input": "2022-01-17T19:11:39.618561Z",
     "iopub.status.busy": "2022-01-17T19:11:39.618239Z",
     "iopub.status.idle": "2022-01-17T19:11:51.520083Z",
     "shell.execute_reply": "2022-01-17T19:11:51.519718Z"
    },
    "papermill": {
     "duration": 11.926426,
     "end_time": "2022-01-17T19:11:51.520185",
     "exception": false,
     "start_time": "2022-01-17T19:11:39.593759",
     "status": "completed"
    },
    "tags": []
   },
   "outputs": [],
   "source": [
    "from ICU_Water_Watch import geo, C3S, domains, plot"
   ]
  },
  {
   "cell_type": "markdown",
   "id": "ea904f40-803b-439c-ade7-bda5bed7ac2e",
   "metadata": {
    "papermill": {
     "duration": 0.022005,
     "end_time": "2022-01-17T19:11:51.563862",
     "exception": false,
     "start_time": "2022-01-17T19:11:51.541857",
     "status": "completed"
    },
    "tags": []
   },
   "source": [
    "### dictionnary holding quantile name and quantile values, they are passed as **lists** to avoid any numerical issues "
   ]
  },
  {
   "cell_type": "code",
   "execution_count": 7,
   "id": "6ccb7b07-f062-4ea7-9f0a-58dd9b082bba",
   "metadata": {
    "execution": {
     "iopub.execute_input": "2022-01-17T19:11:51.608465Z",
     "iopub.status.busy": "2022-01-17T19:11:51.608146Z",
     "iopub.status.idle": "2022-01-17T19:11:51.622408Z",
     "shell.execute_reply": "2022-01-17T19:11:51.622083Z"
    },
    "papermill": {
     "duration": 0.037956,
     "end_time": "2022-01-17T19:11:51.622500",
     "exception": false,
     "start_time": "2022-01-17T19:11:51.584544",
     "status": "completed"
    },
    "tags": []
   },
   "outputs": [],
   "source": [
    "dict_quantiles = OrderedDict()\n",
    "dict_quantiles['tercile'] = [0.3333, 0.6666]\n",
    "dict_quantiles['decile'] = [0.1, 0.2, 0.3, 0.4, 0.5, 0.6, 0.7, 0.8, 0.9]\n",
    "dict_quantiles['quartile'] = [0.25, 0.50, 0.75]\n",
    "dict_quantiles['percentile'] = [0.02, 0.05, 0.1 , 0.15, 0.2 , 0.25, 0.3 , 0.35, 0.4 , 0.45, 0.5 , 0.55, 0.6 , 0.65, 0.7 , 0.75, 0.8 , 0.85, 0.9 , 0.95] "
   ]
  },
  {
   "cell_type": "markdown",
   "id": "ca1eed61-799e-4262-85e3-d99fa6adb06a",
   "metadata": {
    "papermill": {
     "duration": 0.021465,
     "end_time": "2022-01-17T19:11:51.665589",
     "exception": false,
     "start_time": "2022-01-17T19:11:51.644124",
     "status": "completed"
    },
    "tags": []
   },
   "source": [
    "### variables "
   ]
  },
  {
   "cell_type": "markdown",
   "id": "96d0dc8f-a93d-4991-bbe1-7a69f0d8218d",
   "metadata": {
    "papermill": {
     "duration": 0.02065,
     "end_time": "2022-01-17T19:11:51.706856",
     "exception": false,
     "start_time": "2022-01-17T19:11:51.686206",
     "status": "completed"
    },
    "tags": []
   },
   "source": [
    "### provider "
   ]
  },
  {
   "cell_type": "code",
   "execution_count": 8,
   "id": "35ece13e-6463-4971-88ad-1c54f83dd48c",
   "metadata": {
    "execution": {
     "iopub.execute_input": "2022-01-17T19:11:51.750965Z",
     "iopub.status.busy": "2022-01-17T19:11:51.750645Z",
     "iopub.status.idle": "2022-01-17T19:11:51.764812Z",
     "shell.execute_reply": "2022-01-17T19:11:51.764532Z"
    },
    "papermill": {
     "duration": 0.037112,
     "end_time": "2022-01-17T19:11:51.764911",
     "exception": false,
     "start_time": "2022-01-17T19:11:51.727799",
     "status": "completed"
    },
    "tags": []
   },
   "outputs": [],
   "source": [
    "provider = 'CDS'"
   ]
  },
  {
   "cell_type": "markdown",
   "id": "7a074e91-ff6d-409b-9edb-99937762be6d",
   "metadata": {
    "papermill": {
     "duration": 0.02169,
     "end_time": "2022-01-17T19:11:51.808774",
     "exception": false,
     "start_time": "2022-01-17T19:11:51.787084",
     "status": "completed"
    },
    "tags": []
   },
   "source": [
    "### variable name in the hindcast dataset "
   ]
  },
  {
   "cell_type": "code",
   "execution_count": 9,
   "id": "3b658af6-becd-4299-b8cf-49e1c67b16d0",
   "metadata": {
    "execution": {
     "iopub.execute_input": "2022-01-17T19:11:51.853970Z",
     "iopub.status.busy": "2022-01-17T19:11:51.853584Z",
     "iopub.status.idle": "2022-01-17T19:11:51.869000Z",
     "shell.execute_reply": "2022-01-17T19:11:51.868467Z"
    },
    "papermill": {
     "duration": 0.040034,
     "end_time": "2022-01-17T19:11:51.869127",
     "exception": false,
     "start_time": "2022-01-17T19:11:51.829093",
     "status": "completed"
    },
    "tags": []
   },
   "outputs": [],
   "source": [
    "varname = 'tprate'"
   ]
  },
  {
   "cell_type": "markdown",
   "id": "1c221cf6-f23e-4284-acb5-07a568fc97c8",
   "metadata": {
    "papermill": {
     "duration": 0.026273,
     "end_time": "2022-01-17T19:11:51.925015",
     "exception": false,
     "start_time": "2022-01-17T19:11:51.898742",
     "status": "completed"
    },
    "tags": []
   },
   "source": [
    "### period: `monthly` or `seasonal` "
   ]
  },
  {
   "cell_type": "code",
   "execution_count": 10,
   "id": "47da6c59-9ce4-4f54-b8bf-b6972eafdfc0",
   "metadata": {
    "execution": {
     "iopub.execute_input": "2022-01-17T19:11:51.970695Z",
     "iopub.status.busy": "2022-01-17T19:11:51.970367Z",
     "iopub.status.idle": "2022-01-17T19:11:51.983978Z",
     "shell.execute_reply": "2022-01-17T19:11:51.984241Z"
    },
    "papermill": {
     "duration": 0.037565,
     "end_time": "2022-01-17T19:11:51.984361",
     "exception": false,
     "start_time": "2022-01-17T19:11:51.946796",
     "status": "completed"
    },
    "tags": [
     "parameters"
    ]
   },
   "outputs": [],
   "source": [
    "period = 'monthly'\n",
    "GCM = 'ECCC_CanCM4i'\n",
    "lag = 0\n",
    "period = 'seasonal'"
   ]
  },
  {
   "cell_type": "code",
   "execution_count": 11,
   "id": "b9ffff08",
   "metadata": {
    "execution": {
     "iopub.execute_input": "2022-01-17T19:11:52.030322Z",
     "iopub.status.busy": "2022-01-17T19:11:52.029998Z",
     "iopub.status.idle": "2022-01-17T19:11:52.043511Z",
     "shell.execute_reply": "2022-01-17T19:11:52.043762Z"
    },
    "papermill": {
     "duration": 0.037531,
     "end_time": "2022-01-17T19:11:52.043881",
     "exception": false,
     "start_time": "2022-01-17T19:11:52.006350",
     "status": "completed"
    },
    "tags": [
     "injected-parameters"
    ]
   },
   "outputs": [],
   "source": [
    "# Parameters\n",
    "GCM = \"ECCC_GEM_NEMO\"\n",
    "lag = 0\n",
    "period = \"seasonal\"\n"
   ]
  },
  {
   "cell_type": "markdown",
   "id": "1ab179b7-6509-448c-8d32-423a1f9941a2",
   "metadata": {
    "papermill": {
     "duration": 0.020805,
     "end_time": "2022-01-17T19:11:52.085595",
     "exception": false,
     "start_time": "2022-01-17T19:11:52.064790",
     "status": "completed"
    },
    "tags": []
   },
   "source": [
    "### get today's date "
   ]
  },
  {
   "cell_type": "code",
   "execution_count": 12,
   "id": "5b4d2bc9-000e-45d5-883e-d95e95f2bfa8",
   "metadata": {
    "execution": {
     "iopub.execute_input": "2022-01-17T19:11:52.131290Z",
     "iopub.status.busy": "2022-01-17T19:11:52.130968Z",
     "iopub.status.idle": "2022-01-17T19:11:52.144360Z",
     "shell.execute_reply": "2022-01-17T19:11:52.144610Z"
    },
    "papermill": {
     "duration": 0.037365,
     "end_time": "2022-01-17T19:11:52.144728",
     "exception": false,
     "start_time": "2022-01-17T19:11:52.107363",
     "status": "completed"
    },
    "tags": []
   },
   "outputs": [],
   "source": [
    "date = datetime.utcnow()"
   ]
  },
  {
   "cell_type": "markdown",
   "id": "553b1099-d8dd-40a4-85ff-3a670669f110",
   "metadata": {
    "papermill": {
     "duration": 0.020941,
     "end_time": "2022-01-17T19:11:52.186466",
     "exception": false,
     "start_time": "2022-01-17T19:11:52.165525",
     "status": "completed"
    },
    "tags": []
   },
   "source": [
    "### apply lag "
   ]
  },
  {
   "cell_type": "code",
   "execution_count": 13,
   "id": "5703429a-ab0d-499f-85c8-e661019d0219",
   "metadata": {
    "execution": {
     "iopub.execute_input": "2022-01-17T19:11:52.232111Z",
     "iopub.status.busy": "2022-01-17T19:11:52.231741Z",
     "iopub.status.idle": "2022-01-17T19:11:52.245239Z",
     "shell.execute_reply": "2022-01-17T19:11:52.245489Z"
    },
    "papermill": {
     "duration": 0.037395,
     "end_time": "2022-01-17T19:11:52.245607",
     "exception": false,
     "start_time": "2022-01-17T19:11:52.208212",
     "status": "completed"
    },
    "tags": []
   },
   "outputs": [],
   "source": [
    "date = date - relativedelta(months=lag)"
   ]
  },
  {
   "cell_type": "code",
   "execution_count": 14,
   "id": "d8517c79-5453-44f1-ac83-112641f3badd",
   "metadata": {
    "execution": {
     "iopub.execute_input": "2022-01-17T19:11:52.289559Z",
     "iopub.status.busy": "2022-01-17T19:11:52.289233Z",
     "iopub.status.idle": "2022-01-17T19:11:52.302813Z",
     "shell.execute_reply": "2022-01-17T19:11:52.303061Z"
    },
    "papermill": {
     "duration": 0.036844,
     "end_time": "2022-01-17T19:11:52.303176",
     "exception": false,
     "start_time": "2022-01-17T19:11:52.266332",
     "status": "completed"
    },
    "tags": []
   },
   "outputs": [
    {
     "name": "stdout",
     "output_type": "stream",
     "text": [
      "will process hindcasts for January\n"
     ]
    }
   ],
   "source": [
    "print(f\"will process hindcasts for {date:%B}\")"
   ]
  },
  {
   "cell_type": "code",
   "execution_count": 15,
   "id": "a4016628-87a1-42ad-9b5a-748449057c83",
   "metadata": {
    "execution": {
     "iopub.execute_input": "2022-01-17T19:11:52.349637Z",
     "iopub.status.busy": "2022-01-17T19:11:52.349316Z",
     "iopub.status.idle": "2022-01-17T19:11:52.362685Z",
     "shell.execute_reply": "2022-01-17T19:11:52.362936Z"
    },
    "papermill": {
     "duration": 0.037706,
     "end_time": "2022-01-17T19:11:52.363055",
     "exception": false,
     "start_time": "2022-01-17T19:11:52.325349",
     "status": "completed"
    },
    "tags": []
   },
   "outputs": [],
   "source": [
    "initial_month = date.month"
   ]
  },
  {
   "cell_type": "markdown",
   "id": "8315176c-fd03-4d08-b638-8be2681fbc4b",
   "metadata": {
    "papermill": {
     "duration": 0.021303,
     "end_time": "2022-01-17T19:11:52.408256",
     "exception": false,
     "start_time": "2022-01-17T19:11:52.386953",
     "status": "completed"
    },
    "tags": []
   },
   "source": [
    "### list of valid GCMs "
   ]
  },
  {
   "cell_type": "code",
   "execution_count": 16,
   "id": "5a92f4fd-17f1-4716-a67a-3584aeacf52d",
   "metadata": {
    "execution": {
     "iopub.execute_input": "2022-01-17T19:11:52.454489Z",
     "iopub.status.busy": "2022-01-17T19:11:52.454163Z",
     "iopub.status.idle": "2022-01-17T19:11:52.467802Z",
     "shell.execute_reply": "2022-01-17T19:11:52.467481Z"
    },
    "papermill": {
     "duration": 0.037993,
     "end_time": "2022-01-17T19:11:52.467903",
     "exception": false,
     "start_time": "2022-01-17T19:11:52.429910",
     "status": "completed"
    },
    "tags": []
   },
   "outputs": [],
   "source": [
    "GCMs = ['ECMWF', 'UKMO', 'METEO_FRANCE', 'DWD', 'CMCC', 'NCEP', 'JMA','ECCC_CanCM4i','ECCC_GEM_NEMO']"
   ]
  },
  {
   "cell_type": "markdown",
   "id": "1e5315c7-8f76-4063-9a1a-bbd857a5bdff",
   "metadata": {
    "papermill": {
     "duration": 0.020685,
     "end_time": "2022-01-17T19:11:52.509608",
     "exception": false,
     "start_time": "2022-01-17T19:11:52.488923",
     "status": "completed"
    },
    "tags": []
   },
   "source": [
    "### path definitions follow"
   ]
  },
  {
   "cell_type": "markdown",
   "id": "6066e28c-480a-4d4f-a59f-6dd39789ba73",
   "metadata": {
    "papermill": {
     "duration": 0.021869,
     "end_time": "2022-01-17T19:11:52.553003",
     "exception": false,
     "start_time": "2022-01-17T19:11:52.531134",
     "status": "completed"
    },
    "tags": []
   },
   "source": [
    "#### where to find the GCM hindcast datasets "
   ]
  },
  {
   "cell_type": "code",
   "execution_count": 17,
   "id": "6a8a0c35-6850-4729-90de-9095fe748aa9",
   "metadata": {
    "execution": {
     "iopub.execute_input": "2022-01-17T19:11:52.597493Z",
     "iopub.status.busy": "2022-01-17T19:11:52.597168Z",
     "iopub.status.idle": "2022-01-17T19:11:52.611109Z",
     "shell.execute_reply": "2022-01-17T19:11:52.611353Z"
    },
    "papermill": {
     "duration": 0.037362,
     "end_time": "2022-01-17T19:11:52.611470",
     "exception": false,
     "start_time": "2022-01-17T19:11:52.574108",
     "status": "completed"
    },
    "tags": []
   },
   "outputs": [],
   "source": [
    "gcm_path = pathlib.Path(f'/media/nicolasf/END19101/ICU/data/{provider}/operational/hindcasts')"
   ]
  },
  {
   "cell_type": "code",
   "execution_count": 18,
   "id": "33fe9a62-f1e7-40b4-a77b-7d7ddee2b7ca",
   "metadata": {
    "execution": {
     "iopub.execute_input": "2022-01-17T19:11:52.657872Z",
     "iopub.status.busy": "2022-01-17T19:11:52.657556Z",
     "iopub.status.idle": "2022-01-17T19:11:52.671211Z",
     "shell.execute_reply": "2022-01-17T19:11:52.671456Z"
    },
    "papermill": {
     "duration": 0.038039,
     "end_time": "2022-01-17T19:11:52.671572",
     "exception": false,
     "start_time": "2022-01-17T19:11:52.633533",
     "status": "completed"
    },
    "tags": []
   },
   "outputs": [],
   "source": [
    "dpath = gcm_path.joinpath(GCM).joinpath(varname.upper())"
   ]
  },
  {
   "cell_type": "code",
   "execution_count": 19,
   "id": "692494fd-2d87-4d0c-9e6d-1aa8b3d71794",
   "metadata": {
    "execution": {
     "iopub.execute_input": "2022-01-17T19:11:52.715734Z",
     "iopub.status.busy": "2022-01-17T19:11:52.715414Z",
     "iopub.status.idle": "2022-01-17T19:11:52.728764Z",
     "shell.execute_reply": "2022-01-17T19:11:52.729007Z"
    },
    "papermill": {
     "duration": 0.036546,
     "end_time": "2022-01-17T19:11:52.729118",
     "exception": false,
     "start_time": "2022-01-17T19:11:52.692572",
     "status": "completed"
    },
    "tags": []
   },
   "outputs": [
    {
     "name": "stdout",
     "output_type": "stream",
     "text": [
      "/media/nicolasf/END19101/ICU/data/CDS/operational/hindcasts/ECCC_GEM_NEMO/TPRATE\n"
     ]
    }
   ],
   "source": [
    "print(dpath)"
   ]
  },
  {
   "cell_type": "markdown",
   "id": "e50a87c7-b682-47e8-a894-0ce0910b7065",
   "metadata": {
    "papermill": {
     "duration": 0.022111,
     "end_time": "2022-01-17T19:11:52.773177",
     "exception": false,
     "start_time": "2022-01-17T19:11:52.751066",
     "status": "completed"
    },
    "tags": []
   },
   "source": [
    "#### where to save the climatologies "
   ]
  },
  {
   "cell_type": "code",
   "execution_count": 20,
   "id": "679005be-3f9c-4f2a-83de-7768c5b917d4",
   "metadata": {
    "execution": {
     "iopub.execute_input": "2022-01-17T19:11:52.817970Z",
     "iopub.status.busy": "2022-01-17T19:11:52.817646Z",
     "iopub.status.idle": "2022-01-17T19:11:52.831276Z",
     "shell.execute_reply": "2022-01-17T19:11:52.830941Z"
    },
    "papermill": {
     "duration": 0.036943,
     "end_time": "2022-01-17T19:11:52.831372",
     "exception": false,
     "start_time": "2022-01-17T19:11:52.794429",
     "status": "completed"
    },
    "tags": []
   },
   "outputs": [],
   "source": [
    "clim_path = gcm_path.joinpath(f'CLIMATOLOGY/{GCM}')"
   ]
  },
  {
   "cell_type": "code",
   "execution_count": 21,
   "id": "a2f7f1dc-078f-4de8-90d5-6f3537a1cb0d",
   "metadata": {
    "execution": {
     "iopub.execute_input": "2022-01-17T19:11:52.878293Z",
     "iopub.status.busy": "2022-01-17T19:11:52.877802Z",
     "iopub.status.idle": "2022-01-17T19:11:52.893953Z",
     "shell.execute_reply": "2022-01-17T19:11:52.893612Z"
    },
    "papermill": {
     "duration": 0.040154,
     "end_time": "2022-01-17T19:11:52.894052",
     "exception": false,
     "start_time": "2022-01-17T19:11:52.853898",
     "status": "completed"
    },
    "tags": []
   },
   "outputs": [
    {
     "data": {
      "text/plain": [
       "PosixPath('/media/nicolasf/END19101/ICU/data/CDS/operational/hindcasts/CLIMATOLOGY/ECCC_GEM_NEMO')"
      ]
     },
     "execution_count": 21,
     "metadata": {},
     "output_type": "execute_result"
    }
   ],
   "source": [
    "clim_path"
   ]
  },
  {
   "cell_type": "code",
   "execution_count": 22,
   "id": "0694a8c7-3ddd-42e6-a4bb-2693457b3a01",
   "metadata": {
    "execution": {
     "iopub.execute_input": "2022-01-17T19:11:52.941556Z",
     "iopub.status.busy": "2022-01-17T19:11:52.941193Z",
     "iopub.status.idle": "2022-01-17T19:11:52.955757Z",
     "shell.execute_reply": "2022-01-17T19:11:52.955394Z"
    },
    "papermill": {
     "duration": 0.039275,
     "end_time": "2022-01-17T19:11:52.955859",
     "exception": false,
     "start_time": "2022-01-17T19:11:52.916584",
     "status": "completed"
    },
    "tags": []
   },
   "outputs": [],
   "source": [
    "if not clim_path.exists(): \n",
    "    \n",
    "    clim_path.mkdir(parents=True)"
   ]
  },
  {
   "cell_type": "markdown",
   "id": "d47e42f3-1647-4f1b-866f-501481e2dfab",
   "metadata": {
    "papermill": {
     "duration": 0.024446,
     "end_time": "2022-01-17T19:11:53.003957",
     "exception": false,
     "start_time": "2022-01-17T19:11:52.979511",
     "status": "completed"
    },
    "tags": []
   },
   "source": [
    "### get the list of files "
   ]
  },
  {
   "cell_type": "code",
   "execution_count": 23,
   "id": "56cb44c4-ab7d-4786-b4f1-1e5b73b7015d",
   "metadata": {
    "execution": {
     "iopub.execute_input": "2022-01-17T19:11:53.052171Z",
     "iopub.status.busy": "2022-01-17T19:11:53.051831Z",
     "iopub.status.idle": "2022-01-17T19:11:53.066585Z",
     "shell.execute_reply": "2022-01-17T19:11:53.066863Z"
    },
    "papermill": {
     "duration": 0.040368,
     "end_time": "2022-01-17T19:11:53.066985",
     "exception": false,
     "start_time": "2022-01-17T19:11:53.026617",
     "status": "completed"
    },
    "tags": []
   },
   "outputs": [],
   "source": [
    "if 'ECCC' in GCM: \n",
    "    lfiles = list(dpath.glob(f\"ensemble_seas_forecasts_{varname}_from_*_{initial_month:02d}_{GCM.split('_')[0]}.netcdf\"))\n",
    "else: \n",
    "    lfiles = list(dpath.glob(f\"ensemble_seas_forecasts_{varname}_from_*_{initial_month:02d}_{GCM}.netcdf\"))"
   ]
  },
  {
   "cell_type": "code",
   "execution_count": 24,
   "id": "d3ffd561-628b-41f6-84a2-bf93d4327f26",
   "metadata": {
    "execution": {
     "iopub.execute_input": "2022-01-17T19:11:53.116322Z",
     "iopub.status.busy": "2022-01-17T19:11:53.115956Z",
     "iopub.status.idle": "2022-01-17T19:11:53.130301Z",
     "shell.execute_reply": "2022-01-17T19:11:53.129975Z"
    },
    "papermill": {
     "duration": 0.040223,
     "end_time": "2022-01-17T19:11:53.130398",
     "exception": false,
     "start_time": "2022-01-17T19:11:53.090175",
     "status": "completed"
    },
    "tags": []
   },
   "outputs": [
    {
     "data": {
      "text/plain": [
       "PosixPath('/media/nicolasf/END19101/ICU/data/CDS/operational/hindcasts/ECCC_GEM_NEMO/TPRATE')"
      ]
     },
     "execution_count": 24,
     "metadata": {},
     "output_type": "execute_result"
    }
   ],
   "source": [
    "dpath"
   ]
  },
  {
   "cell_type": "code",
   "execution_count": 25,
   "id": "a1e49b09-ad9d-4881-b396-a41abccb3857",
   "metadata": {
    "execution": {
     "iopub.execute_input": "2022-01-17T19:11:53.176571Z",
     "iopub.status.busy": "2022-01-17T19:11:53.176212Z",
     "iopub.status.idle": "2022-01-17T19:11:53.190231Z",
     "shell.execute_reply": "2022-01-17T19:11:53.189940Z"
    },
    "papermill": {
     "duration": 0.037976,
     "end_time": "2022-01-17T19:11:53.190333",
     "exception": false,
     "start_time": "2022-01-17T19:11:53.152357",
     "status": "completed"
    },
    "tags": []
   },
   "outputs": [],
   "source": [
    "lfiles.sort()"
   ]
  },
  {
   "cell_type": "code",
   "execution_count": 26,
   "id": "83bb26ed-7f6c-4d0f-b2b8-b66217829ec5",
   "metadata": {
    "execution": {
     "iopub.execute_input": "2022-01-17T19:11:53.239058Z",
     "iopub.status.busy": "2022-01-17T19:11:53.238741Z",
     "iopub.status.idle": "2022-01-17T19:11:53.253343Z",
     "shell.execute_reply": "2022-01-17T19:11:53.253038Z"
    },
    "papermill": {
     "duration": 0.040265,
     "end_time": "2022-01-17T19:11:53.253440",
     "exception": false,
     "start_time": "2022-01-17T19:11:53.213175",
     "status": "completed"
    },
    "tags": []
   },
   "outputs": [
    {
     "data": {
      "text/plain": [
       "[PosixPath('/media/nicolasf/END19101/ICU/data/CDS/operational/hindcasts/ECCC_GEM_NEMO/TPRATE/ensemble_seas_forecasts_tprate_from_1993_01_ECCC.netcdf'),\n",
       " PosixPath('/media/nicolasf/END19101/ICU/data/CDS/operational/hindcasts/ECCC_GEM_NEMO/TPRATE/ensemble_seas_forecasts_tprate_from_1994_01_ECCC.netcdf'),\n",
       " PosixPath('/media/nicolasf/END19101/ICU/data/CDS/operational/hindcasts/ECCC_GEM_NEMO/TPRATE/ensemble_seas_forecasts_tprate_from_1995_01_ECCC.netcdf'),\n",
       " PosixPath('/media/nicolasf/END19101/ICU/data/CDS/operational/hindcasts/ECCC_GEM_NEMO/TPRATE/ensemble_seas_forecasts_tprate_from_1996_01_ECCC.netcdf'),\n",
       " PosixPath('/media/nicolasf/END19101/ICU/data/CDS/operational/hindcasts/ECCC_GEM_NEMO/TPRATE/ensemble_seas_forecasts_tprate_from_1997_01_ECCC.netcdf'),\n",
       " PosixPath('/media/nicolasf/END19101/ICU/data/CDS/operational/hindcasts/ECCC_GEM_NEMO/TPRATE/ensemble_seas_forecasts_tprate_from_1998_01_ECCC.netcdf'),\n",
       " PosixPath('/media/nicolasf/END19101/ICU/data/CDS/operational/hindcasts/ECCC_GEM_NEMO/TPRATE/ensemble_seas_forecasts_tprate_from_1999_01_ECCC.netcdf'),\n",
       " PosixPath('/media/nicolasf/END19101/ICU/data/CDS/operational/hindcasts/ECCC_GEM_NEMO/TPRATE/ensemble_seas_forecasts_tprate_from_2000_01_ECCC.netcdf'),\n",
       " PosixPath('/media/nicolasf/END19101/ICU/data/CDS/operational/hindcasts/ECCC_GEM_NEMO/TPRATE/ensemble_seas_forecasts_tprate_from_2001_01_ECCC.netcdf'),\n",
       " PosixPath('/media/nicolasf/END19101/ICU/data/CDS/operational/hindcasts/ECCC_GEM_NEMO/TPRATE/ensemble_seas_forecasts_tprate_from_2002_01_ECCC.netcdf'),\n",
       " PosixPath('/media/nicolasf/END19101/ICU/data/CDS/operational/hindcasts/ECCC_GEM_NEMO/TPRATE/ensemble_seas_forecasts_tprate_from_2003_01_ECCC.netcdf'),\n",
       " PosixPath('/media/nicolasf/END19101/ICU/data/CDS/operational/hindcasts/ECCC_GEM_NEMO/TPRATE/ensemble_seas_forecasts_tprate_from_2004_01_ECCC.netcdf'),\n",
       " PosixPath('/media/nicolasf/END19101/ICU/data/CDS/operational/hindcasts/ECCC_GEM_NEMO/TPRATE/ensemble_seas_forecasts_tprate_from_2005_01_ECCC.netcdf'),\n",
       " PosixPath('/media/nicolasf/END19101/ICU/data/CDS/operational/hindcasts/ECCC_GEM_NEMO/TPRATE/ensemble_seas_forecasts_tprate_from_2006_01_ECCC.netcdf'),\n",
       " PosixPath('/media/nicolasf/END19101/ICU/data/CDS/operational/hindcasts/ECCC_GEM_NEMO/TPRATE/ensemble_seas_forecasts_tprate_from_2007_01_ECCC.netcdf'),\n",
       " PosixPath('/media/nicolasf/END19101/ICU/data/CDS/operational/hindcasts/ECCC_GEM_NEMO/TPRATE/ensemble_seas_forecasts_tprate_from_2008_01_ECCC.netcdf'),\n",
       " PosixPath('/media/nicolasf/END19101/ICU/data/CDS/operational/hindcasts/ECCC_GEM_NEMO/TPRATE/ensemble_seas_forecasts_tprate_from_2009_01_ECCC.netcdf'),\n",
       " PosixPath('/media/nicolasf/END19101/ICU/data/CDS/operational/hindcasts/ECCC_GEM_NEMO/TPRATE/ensemble_seas_forecasts_tprate_from_2010_01_ECCC.netcdf'),\n",
       " PosixPath('/media/nicolasf/END19101/ICU/data/CDS/operational/hindcasts/ECCC_GEM_NEMO/TPRATE/ensemble_seas_forecasts_tprate_from_2011_01_ECCC.netcdf'),\n",
       " PosixPath('/media/nicolasf/END19101/ICU/data/CDS/operational/hindcasts/ECCC_GEM_NEMO/TPRATE/ensemble_seas_forecasts_tprate_from_2012_01_ECCC.netcdf'),\n",
       " PosixPath('/media/nicolasf/END19101/ICU/data/CDS/operational/hindcasts/ECCC_GEM_NEMO/TPRATE/ensemble_seas_forecasts_tprate_from_2013_01_ECCC.netcdf'),\n",
       " PosixPath('/media/nicolasf/END19101/ICU/data/CDS/operational/hindcasts/ECCC_GEM_NEMO/TPRATE/ensemble_seas_forecasts_tprate_from_2014_01_ECCC.netcdf'),\n",
       " PosixPath('/media/nicolasf/END19101/ICU/data/CDS/operational/hindcasts/ECCC_GEM_NEMO/TPRATE/ensemble_seas_forecasts_tprate_from_2015_01_ECCC.netcdf'),\n",
       " PosixPath('/media/nicolasf/END19101/ICU/data/CDS/operational/hindcasts/ECCC_GEM_NEMO/TPRATE/ensemble_seas_forecasts_tprate_from_2016_01_ECCC.netcdf')]"
      ]
     },
     "execution_count": 26,
     "metadata": {},
     "output_type": "execute_result"
    }
   ],
   "source": [
    "lfiles"
   ]
  },
  {
   "cell_type": "code",
   "execution_count": 27,
   "id": "0ea663ad-65eb-4523-af55-34cec14aee5c",
   "metadata": {
    "execution": {
     "iopub.execute_input": "2022-01-17T19:11:53.299727Z",
     "iopub.status.busy": "2022-01-17T19:11:53.299405Z",
     "iopub.status.idle": "2022-01-17T19:11:53.313798Z",
     "shell.execute_reply": "2022-01-17T19:11:53.313523Z"
    },
    "papermill": {
     "duration": 0.03861,
     "end_time": "2022-01-17T19:11:53.313894",
     "exception": false,
     "start_time": "2022-01-17T19:11:53.275284",
     "status": "completed"
    },
    "tags": []
   },
   "outputs": [
    {
     "data": {
      "text/plain": [
       "PosixPath('/media/nicolasf/END19101/ICU/data/CDS/operational/hindcasts/ECCC_GEM_NEMO/TPRATE/ensemble_seas_forecasts_tprate_from_1993_01_ECCC.netcdf')"
      ]
     },
     "execution_count": 27,
     "metadata": {},
     "output_type": "execute_result"
    }
   ],
   "source": [
    "lfiles[0]"
   ]
  },
  {
   "cell_type": "code",
   "execution_count": 28,
   "id": "f05cb729-d357-4ffc-a0d7-f05e84c4edb3",
   "metadata": {
    "execution": {
     "iopub.execute_input": "2022-01-17T19:11:53.361447Z",
     "iopub.status.busy": "2022-01-17T19:11:53.361125Z",
     "iopub.status.idle": "2022-01-17T19:11:53.375607Z",
     "shell.execute_reply": "2022-01-17T19:11:53.375280Z"
    },
    "papermill": {
     "duration": 0.038912,
     "end_time": "2022-01-17T19:11:53.375703",
     "exception": false,
     "start_time": "2022-01-17T19:11:53.336791",
     "status": "completed"
    },
    "tags": []
   },
   "outputs": [
    {
     "data": {
      "text/plain": [
       "PosixPath('/media/nicolasf/END19101/ICU/data/CDS/operational/hindcasts/ECCC_GEM_NEMO/TPRATE/ensemble_seas_forecasts_tprate_from_2016_01_ECCC.netcdf')"
      ]
     },
     "execution_count": 28,
     "metadata": {},
     "output_type": "execute_result"
    }
   ],
   "source": [
    "lfiles[-1]"
   ]
  },
  {
   "cell_type": "code",
   "execution_count": 29,
   "id": "9f8ec547-7d72-4cf7-ac6a-ef68a1013548",
   "metadata": {
    "execution": {
     "iopub.execute_input": "2022-01-17T19:11:53.422742Z",
     "iopub.status.busy": "2022-01-17T19:11:53.422420Z",
     "iopub.status.idle": "2022-01-17T19:11:53.436868Z",
     "shell.execute_reply": "2022-01-17T19:11:53.436539Z"
    },
    "papermill": {
     "duration": 0.038584,
     "end_time": "2022-01-17T19:11:53.436962",
     "exception": false,
     "start_time": "2022-01-17T19:11:53.398378",
     "status": "completed"
    },
    "tags": []
   },
   "outputs": [
    {
     "data": {
      "text/plain": [
       "24"
      ]
     },
     "execution_count": 29,
     "metadata": {},
     "output_type": "execute_result"
    }
   ],
   "source": [
    "len(lfiles)"
   ]
  },
  {
   "cell_type": "markdown",
   "id": "a2e165d4-9d23-469b-9085-3aa4f0280eac",
   "metadata": {
    "papermill": {
     "duration": 0.02295,
     "end_time": "2022-01-17T19:11:53.483078",
     "exception": false,
     "start_time": "2022-01-17T19:11:53.460128",
     "status": "completed"
    },
    "tags": []
   },
   "source": [
    "### open the multiple files dataset, concatenating over the time dimension, and preprocessing "
   ]
  },
  {
   "cell_type": "code",
   "execution_count": 30,
   "id": "4c877a5a-60b4-44f0-8b3f-e9e1205f20d3",
   "metadata": {
    "execution": {
     "iopub.execute_input": "2022-01-17T19:11:53.530958Z",
     "iopub.status.busy": "2022-01-17T19:11:53.530620Z",
     "iopub.status.idle": "2022-01-17T19:11:54.034469Z",
     "shell.execute_reply": "2022-01-17T19:11:54.034165Z"
    },
    "papermill": {
     "duration": 0.529143,
     "end_time": "2022-01-17T19:11:54.034568",
     "exception": false,
     "start_time": "2022-01-17T19:11:53.505425",
     "status": "completed"
    },
    "tags": []
   },
   "outputs": [],
   "source": [
    "dset = xr.open_mfdataset(lfiles, preprocess=C3S.preprocess_GCM, parallel=True, engine='netcdf4')"
   ]
  },
  {
   "cell_type": "code",
   "execution_count": 31,
   "id": "b7afaa16-4579-4ce1-8c9e-aa2da451b518",
   "metadata": {
    "execution": {
     "iopub.execute_input": "2022-01-17T19:11:54.083119Z",
     "iopub.status.busy": "2022-01-17T19:11:54.082801Z",
     "iopub.status.idle": "2022-01-17T19:11:54.111841Z",
     "shell.execute_reply": "2022-01-17T19:11:54.111507Z"
    },
    "papermill": {
     "duration": 0.053701,
     "end_time": "2022-01-17T19:11:54.111937",
     "exception": false,
     "start_time": "2022-01-17T19:11:54.058236",
     "status": "completed"
    },
    "tags": []
   },
   "outputs": [
    {
     "data": {
      "text/html": [
       "<div><svg style=\"position: absolute; width: 0; height: 0; overflow: hidden\">\n",
       "<defs>\n",
       "<symbol id=\"icon-database\" viewBox=\"0 0 32 32\">\n",
       "<path d=\"M16 0c-8.837 0-16 2.239-16 5v4c0 2.761 7.163 5 16 5s16-2.239 16-5v-4c0-2.761-7.163-5-16-5z\"></path>\n",
       "<path d=\"M16 17c-8.837 0-16-2.239-16-5v6c0 2.761 7.163 5 16 5s16-2.239 16-5v-6c0 2.761-7.163 5-16 5z\"></path>\n",
       "<path d=\"M16 26c-8.837 0-16-2.239-16-5v6c0 2.761 7.163 5 16 5s16-2.239 16-5v-6c0 2.761-7.163 5-16 5z\"></path>\n",
       "</symbol>\n",
       "<symbol id=\"icon-file-text2\" viewBox=\"0 0 32 32\">\n",
       "<path d=\"M28.681 7.159c-0.694-0.947-1.662-2.053-2.724-3.116s-2.169-2.030-3.116-2.724c-1.612-1.182-2.393-1.319-2.841-1.319h-15.5c-1.378 0-2.5 1.121-2.5 2.5v27c0 1.378 1.122 2.5 2.5 2.5h23c1.378 0 2.5-1.122 2.5-2.5v-19.5c0-0.448-0.137-1.23-1.319-2.841zM24.543 5.457c0.959 0.959 1.712 1.825 2.268 2.543h-4.811v-4.811c0.718 0.556 1.584 1.309 2.543 2.268zM28 29.5c0 0.271-0.229 0.5-0.5 0.5h-23c-0.271 0-0.5-0.229-0.5-0.5v-27c0-0.271 0.229-0.5 0.5-0.5 0 0 15.499-0 15.5 0v7c0 0.552 0.448 1 1 1h7v19.5z\"></path>\n",
       "<path d=\"M23 26h-14c-0.552 0-1-0.448-1-1s0.448-1 1-1h14c0.552 0 1 0.448 1 1s-0.448 1-1 1z\"></path>\n",
       "<path d=\"M23 22h-14c-0.552 0-1-0.448-1-1s0.448-1 1-1h14c0.552 0 1 0.448 1 1s-0.448 1-1 1z\"></path>\n",
       "<path d=\"M23 18h-14c-0.552 0-1-0.448-1-1s0.448-1 1-1h14c0.552 0 1 0.448 1 1s-0.448 1-1 1z\"></path>\n",
       "</symbol>\n",
       "</defs>\n",
       "</svg>\n",
       "<style>/* CSS stylesheet for displaying xarray objects in jupyterlab.\n",
       " *\n",
       " */\n",
       "\n",
       ":root {\n",
       "  --xr-font-color0: var(--jp-content-font-color0, rgba(0, 0, 0, 1));\n",
       "  --xr-font-color2: var(--jp-content-font-color2, rgba(0, 0, 0, 0.54));\n",
       "  --xr-font-color3: var(--jp-content-font-color3, rgba(0, 0, 0, 0.38));\n",
       "  --xr-border-color: var(--jp-border-color2, #e0e0e0);\n",
       "  --xr-disabled-color: var(--jp-layout-color3, #bdbdbd);\n",
       "  --xr-background-color: var(--jp-layout-color0, white);\n",
       "  --xr-background-color-row-even: var(--jp-layout-color1, white);\n",
       "  --xr-background-color-row-odd: var(--jp-layout-color2, #eeeeee);\n",
       "}\n",
       "\n",
       "html[theme=dark],\n",
       "body.vscode-dark {\n",
       "  --xr-font-color0: rgba(255, 255, 255, 1);\n",
       "  --xr-font-color2: rgba(255, 255, 255, 0.54);\n",
       "  --xr-font-color3: rgba(255, 255, 255, 0.38);\n",
       "  --xr-border-color: #1F1F1F;\n",
       "  --xr-disabled-color: #515151;\n",
       "  --xr-background-color: #111111;\n",
       "  --xr-background-color-row-even: #111111;\n",
       "  --xr-background-color-row-odd: #313131;\n",
       "}\n",
       "\n",
       ".xr-wrap {\n",
       "  display: block;\n",
       "  min-width: 300px;\n",
       "  max-width: 700px;\n",
       "}\n",
       "\n",
       ".xr-text-repr-fallback {\n",
       "  /* fallback to plain text repr when CSS is not injected (untrusted notebook) */\n",
       "  display: none;\n",
       "}\n",
       "\n",
       ".xr-header {\n",
       "  padding-top: 6px;\n",
       "  padding-bottom: 6px;\n",
       "  margin-bottom: 4px;\n",
       "  border-bottom: solid 1px var(--xr-border-color);\n",
       "}\n",
       "\n",
       ".xr-header > div,\n",
       ".xr-header > ul {\n",
       "  display: inline;\n",
       "  margin-top: 0;\n",
       "  margin-bottom: 0;\n",
       "}\n",
       "\n",
       ".xr-obj-type,\n",
       ".xr-array-name {\n",
       "  margin-left: 2px;\n",
       "  margin-right: 10px;\n",
       "}\n",
       "\n",
       ".xr-obj-type {\n",
       "  color: var(--xr-font-color2);\n",
       "}\n",
       "\n",
       ".xr-sections {\n",
       "  padding-left: 0 !important;\n",
       "  display: grid;\n",
       "  grid-template-columns: 150px auto auto 1fr 20px 20px;\n",
       "}\n",
       "\n",
       ".xr-section-item {\n",
       "  display: contents;\n",
       "}\n",
       "\n",
       ".xr-section-item input {\n",
       "  display: none;\n",
       "}\n",
       "\n",
       ".xr-section-item input + label {\n",
       "  color: var(--xr-disabled-color);\n",
       "}\n",
       "\n",
       ".xr-section-item input:enabled + label {\n",
       "  cursor: pointer;\n",
       "  color: var(--xr-font-color2);\n",
       "}\n",
       "\n",
       ".xr-section-item input:enabled + label:hover {\n",
       "  color: var(--xr-font-color0);\n",
       "}\n",
       "\n",
       ".xr-section-summary {\n",
       "  grid-column: 1;\n",
       "  color: var(--xr-font-color2);\n",
       "  font-weight: 500;\n",
       "}\n",
       "\n",
       ".xr-section-summary > span {\n",
       "  display: inline-block;\n",
       "  padding-left: 0.5em;\n",
       "}\n",
       "\n",
       ".xr-section-summary-in:disabled + label {\n",
       "  color: var(--xr-font-color2);\n",
       "}\n",
       "\n",
       ".xr-section-summary-in + label:before {\n",
       "  display: inline-block;\n",
       "  content: '►';\n",
       "  font-size: 11px;\n",
       "  width: 15px;\n",
       "  text-align: center;\n",
       "}\n",
       "\n",
       ".xr-section-summary-in:disabled + label:before {\n",
       "  color: var(--xr-disabled-color);\n",
       "}\n",
       "\n",
       ".xr-section-summary-in:checked + label:before {\n",
       "  content: '▼';\n",
       "}\n",
       "\n",
       ".xr-section-summary-in:checked + label > span {\n",
       "  display: none;\n",
       "}\n",
       "\n",
       ".xr-section-summary,\n",
       ".xr-section-inline-details {\n",
       "  padding-top: 4px;\n",
       "  padding-bottom: 4px;\n",
       "}\n",
       "\n",
       ".xr-section-inline-details {\n",
       "  grid-column: 2 / -1;\n",
       "}\n",
       "\n",
       ".xr-section-details {\n",
       "  display: none;\n",
       "  grid-column: 1 / -1;\n",
       "  margin-bottom: 5px;\n",
       "}\n",
       "\n",
       ".xr-section-summary-in:checked ~ .xr-section-details {\n",
       "  display: contents;\n",
       "}\n",
       "\n",
       ".xr-array-wrap {\n",
       "  grid-column: 1 / -1;\n",
       "  display: grid;\n",
       "  grid-template-columns: 20px auto;\n",
       "}\n",
       "\n",
       ".xr-array-wrap > label {\n",
       "  grid-column: 1;\n",
       "  vertical-align: top;\n",
       "}\n",
       "\n",
       ".xr-preview {\n",
       "  color: var(--xr-font-color3);\n",
       "}\n",
       "\n",
       ".xr-array-preview,\n",
       ".xr-array-data {\n",
       "  padding: 0 5px !important;\n",
       "  grid-column: 2;\n",
       "}\n",
       "\n",
       ".xr-array-data,\n",
       ".xr-array-in:checked ~ .xr-array-preview {\n",
       "  display: none;\n",
       "}\n",
       "\n",
       ".xr-array-in:checked ~ .xr-array-data,\n",
       ".xr-array-preview {\n",
       "  display: inline-block;\n",
       "}\n",
       "\n",
       ".xr-dim-list {\n",
       "  display: inline-block !important;\n",
       "  list-style: none;\n",
       "  padding: 0 !important;\n",
       "  margin: 0;\n",
       "}\n",
       "\n",
       ".xr-dim-list li {\n",
       "  display: inline-block;\n",
       "  padding: 0;\n",
       "  margin: 0;\n",
       "}\n",
       "\n",
       ".xr-dim-list:before {\n",
       "  content: '(';\n",
       "}\n",
       "\n",
       ".xr-dim-list:after {\n",
       "  content: ')';\n",
       "}\n",
       "\n",
       ".xr-dim-list li:not(:last-child):after {\n",
       "  content: ',';\n",
       "  padding-right: 5px;\n",
       "}\n",
       "\n",
       ".xr-has-index {\n",
       "  font-weight: bold;\n",
       "}\n",
       "\n",
       ".xr-var-list,\n",
       ".xr-var-item {\n",
       "  display: contents;\n",
       "}\n",
       "\n",
       ".xr-var-item > div,\n",
       ".xr-var-item label,\n",
       ".xr-var-item > .xr-var-name span {\n",
       "  background-color: var(--xr-background-color-row-even);\n",
       "  margin-bottom: 0;\n",
       "}\n",
       "\n",
       ".xr-var-item > .xr-var-name:hover span {\n",
       "  padding-right: 5px;\n",
       "}\n",
       "\n",
       ".xr-var-list > li:nth-child(odd) > div,\n",
       ".xr-var-list > li:nth-child(odd) > label,\n",
       ".xr-var-list > li:nth-child(odd) > .xr-var-name span {\n",
       "  background-color: var(--xr-background-color-row-odd);\n",
       "}\n",
       "\n",
       ".xr-var-name {\n",
       "  grid-column: 1;\n",
       "}\n",
       "\n",
       ".xr-var-dims {\n",
       "  grid-column: 2;\n",
       "}\n",
       "\n",
       ".xr-var-dtype {\n",
       "  grid-column: 3;\n",
       "  text-align: right;\n",
       "  color: var(--xr-font-color2);\n",
       "}\n",
       "\n",
       ".xr-var-preview {\n",
       "  grid-column: 4;\n",
       "}\n",
       "\n",
       ".xr-var-name,\n",
       ".xr-var-dims,\n",
       ".xr-var-dtype,\n",
       ".xr-preview,\n",
       ".xr-attrs dt {\n",
       "  white-space: nowrap;\n",
       "  overflow: hidden;\n",
       "  text-overflow: ellipsis;\n",
       "  padding-right: 10px;\n",
       "}\n",
       "\n",
       ".xr-var-name:hover,\n",
       ".xr-var-dims:hover,\n",
       ".xr-var-dtype:hover,\n",
       ".xr-attrs dt:hover {\n",
       "  overflow: visible;\n",
       "  width: auto;\n",
       "  z-index: 1;\n",
       "}\n",
       "\n",
       ".xr-var-attrs,\n",
       ".xr-var-data {\n",
       "  display: none;\n",
       "  background-color: var(--xr-background-color) !important;\n",
       "  padding-bottom: 5px !important;\n",
       "}\n",
       "\n",
       ".xr-var-attrs-in:checked ~ .xr-var-attrs,\n",
       ".xr-var-data-in:checked ~ .xr-var-data {\n",
       "  display: block;\n",
       "}\n",
       "\n",
       ".xr-var-data > table {\n",
       "  float: right;\n",
       "}\n",
       "\n",
       ".xr-var-name span,\n",
       ".xr-var-data,\n",
       ".xr-attrs {\n",
       "  padding-left: 25px !important;\n",
       "}\n",
       "\n",
       ".xr-attrs,\n",
       ".xr-var-attrs,\n",
       ".xr-var-data {\n",
       "  grid-column: 1 / -1;\n",
       "}\n",
       "\n",
       "dl.xr-attrs {\n",
       "  padding: 0;\n",
       "  margin: 0;\n",
       "  display: grid;\n",
       "  grid-template-columns: 125px auto;\n",
       "}\n",
       "\n",
       ".xr-attrs dt,\n",
       ".xr-attrs dd {\n",
       "  padding: 0;\n",
       "  margin: 0;\n",
       "  float: left;\n",
       "  padding-right: 10px;\n",
       "  width: auto;\n",
       "}\n",
       "\n",
       ".xr-attrs dt {\n",
       "  font-weight: normal;\n",
       "  grid-column: 1;\n",
       "}\n",
       "\n",
       ".xr-attrs dt:hover span {\n",
       "  display: inline-block;\n",
       "  background: var(--xr-background-color);\n",
       "  padding-right: 10px;\n",
       "}\n",
       "\n",
       ".xr-attrs dd {\n",
       "  grid-column: 2;\n",
       "  white-space: pre-wrap;\n",
       "  word-break: break-all;\n",
       "}\n",
       "\n",
       ".xr-icon-database,\n",
       ".xr-icon-file-text2 {\n",
       "  display: inline-block;\n",
       "  vertical-align: middle;\n",
       "  width: 1em;\n",
       "  height: 1.5em !important;\n",
       "  stroke-width: 0;\n",
       "  stroke: currentColor;\n",
       "  fill: currentColor;\n",
       "}\n",
       "</style><pre class='xr-text-repr-fallback'>&lt;xarray.Dataset&gt;\n",
       "Dimensions:  (time: 24, lon: 121, lat: 81, member: 10, step: 5)\n",
       "Coordinates:\n",
       "  * time     (time) datetime64[ns] 1993-01-01 1994-01-01 ... 2016-01-01\n",
       "  * lon      (lon) float32 120.0 121.0 122.0 123.0 ... 237.0 238.0 239.0 240.0\n",
       "  * lat      (lat) float32 -50.0 -49.0 -48.0 -47.0 -46.0 ... 27.0 28.0 29.0 30.0\n",
       "  * member   (member) int32 0 1 2 3 4 5 6 7 8 9\n",
       "  * step     (step) int64 1 2 3 4 5\n",
       "Data variables:\n",
       "    tprate   (time, step, member, lat, lon) float32 dask.array&lt;chunksize=(1, 5, 10, 81, 121), meta=np.ndarray&gt;\n",
       "Attributes:\n",
       "    Conventions:  CF-1.6\n",
       "    history:      2022-01-17 01:18:32 GMT by grib_to_netcdf-2.23.0: /opt/ecmw...</pre><div class='xr-wrap' hidden><div class='xr-header'><div class='xr-obj-type'>xarray.Dataset</div></div><ul class='xr-sections'><li class='xr-section-item'><input id='section-f84dc4f6-ee0f-4402-a301-5eeffa5aa88a' class='xr-section-summary-in' type='checkbox' disabled ><label for='section-f84dc4f6-ee0f-4402-a301-5eeffa5aa88a' class='xr-section-summary'  title='Expand/collapse section'>Dimensions:</label><div class='xr-section-inline-details'><ul class='xr-dim-list'><li><span class='xr-has-index'>time</span>: 24</li><li><span class='xr-has-index'>lon</span>: 121</li><li><span class='xr-has-index'>lat</span>: 81</li><li><span class='xr-has-index'>member</span>: 10</li><li><span class='xr-has-index'>step</span>: 5</li></ul></div><div class='xr-section-details'></div></li><li class='xr-section-item'><input id='section-26c1d36d-503d-4ef3-b69a-4b1468f4bd54' class='xr-section-summary-in' type='checkbox'  checked><label for='section-26c1d36d-503d-4ef3-b69a-4b1468f4bd54' class='xr-section-summary' >Coordinates: <span>(5)</span></label><div class='xr-section-inline-details'></div><div class='xr-section-details'><ul class='xr-var-list'><li class='xr-var-item'><div class='xr-var-name'><span class='xr-has-index'>time</span></div><div class='xr-var-dims'>(time)</div><div class='xr-var-dtype'>datetime64[ns]</div><div class='xr-var-preview xr-preview'>1993-01-01 ... 2016-01-01</div><input id='attrs-85fb71ed-4250-44e9-9b3f-d26d9584e71c' class='xr-var-attrs-in' type='checkbox' disabled><label for='attrs-85fb71ed-4250-44e9-9b3f-d26d9584e71c' title='Show/Hide attributes'><svg class='icon xr-icon-file-text2'><use xlink:href='#icon-file-text2'></use></svg></label><input id='data-b0968f63-7993-400f-9ff8-8959d517e31d' class='xr-var-data-in' type='checkbox'><label for='data-b0968f63-7993-400f-9ff8-8959d517e31d' title='Show/Hide data repr'><svg class='icon xr-icon-database'><use xlink:href='#icon-database'></use></svg></label><div class='xr-var-attrs'><dl class='xr-attrs'></dl></div><div class='xr-var-data'><pre>array([&#x27;1993-01-01T00:00:00.000000000&#x27;, &#x27;1994-01-01T00:00:00.000000000&#x27;,\n",
       "       &#x27;1995-01-01T00:00:00.000000000&#x27;, &#x27;1996-01-01T00:00:00.000000000&#x27;,\n",
       "       &#x27;1997-01-01T00:00:00.000000000&#x27;, &#x27;1998-01-01T00:00:00.000000000&#x27;,\n",
       "       &#x27;1999-01-01T00:00:00.000000000&#x27;, &#x27;2000-01-01T00:00:00.000000000&#x27;,\n",
       "       &#x27;2001-01-01T00:00:00.000000000&#x27;, &#x27;2002-01-01T00:00:00.000000000&#x27;,\n",
       "       &#x27;2003-01-01T00:00:00.000000000&#x27;, &#x27;2004-01-01T00:00:00.000000000&#x27;,\n",
       "       &#x27;2005-01-01T00:00:00.000000000&#x27;, &#x27;2006-01-01T00:00:00.000000000&#x27;,\n",
       "       &#x27;2007-01-01T00:00:00.000000000&#x27;, &#x27;2008-01-01T00:00:00.000000000&#x27;,\n",
       "       &#x27;2009-01-01T00:00:00.000000000&#x27;, &#x27;2010-01-01T00:00:00.000000000&#x27;,\n",
       "       &#x27;2011-01-01T00:00:00.000000000&#x27;, &#x27;2012-01-01T00:00:00.000000000&#x27;,\n",
       "       &#x27;2013-01-01T00:00:00.000000000&#x27;, &#x27;2014-01-01T00:00:00.000000000&#x27;,\n",
       "       &#x27;2015-01-01T00:00:00.000000000&#x27;, &#x27;2016-01-01T00:00:00.000000000&#x27;],\n",
       "      dtype=&#x27;datetime64[ns]&#x27;)</pre></div></li><li class='xr-var-item'><div class='xr-var-name'><span class='xr-has-index'>lon</span></div><div class='xr-var-dims'>(lon)</div><div class='xr-var-dtype'>float32</div><div class='xr-var-preview xr-preview'>120.0 121.0 122.0 ... 239.0 240.0</div><input id='attrs-d1ad36a8-d38e-4c1f-a3c3-ef3f922d7210' class='xr-var-attrs-in' type='checkbox' ><label for='attrs-d1ad36a8-d38e-4c1f-a3c3-ef3f922d7210' title='Show/Hide attributes'><svg class='icon xr-icon-file-text2'><use xlink:href='#icon-file-text2'></use></svg></label><input id='data-fbad60a2-0b21-4c8c-9693-163bd5206476' class='xr-var-data-in' type='checkbox'><label for='data-fbad60a2-0b21-4c8c-9693-163bd5206476' title='Show/Hide data repr'><svg class='icon xr-icon-database'><use xlink:href='#icon-database'></use></svg></label><div class='xr-var-attrs'><dl class='xr-attrs'><dt><span>units :</span></dt><dd>degrees_east</dd><dt><span>long_name :</span></dt><dd>longitude</dd></dl></div><div class='xr-var-data'><pre>array([120., 121., 122., 123., 124., 125., 126., 127., 128., 129., 130., 131.,\n",
       "       132., 133., 134., 135., 136., 137., 138., 139., 140., 141., 142., 143.,\n",
       "       144., 145., 146., 147., 148., 149., 150., 151., 152., 153., 154., 155.,\n",
       "       156., 157., 158., 159., 160., 161., 162., 163., 164., 165., 166., 167.,\n",
       "       168., 169., 170., 171., 172., 173., 174., 175., 176., 177., 178., 179.,\n",
       "       180., 181., 182., 183., 184., 185., 186., 187., 188., 189., 190., 191.,\n",
       "       192., 193., 194., 195., 196., 197., 198., 199., 200., 201., 202., 203.,\n",
       "       204., 205., 206., 207., 208., 209., 210., 211., 212., 213., 214., 215.,\n",
       "       216., 217., 218., 219., 220., 221., 222., 223., 224., 225., 226., 227.,\n",
       "       228., 229., 230., 231., 232., 233., 234., 235., 236., 237., 238., 239.,\n",
       "       240.], dtype=float32)</pre></div></li><li class='xr-var-item'><div class='xr-var-name'><span class='xr-has-index'>lat</span></div><div class='xr-var-dims'>(lat)</div><div class='xr-var-dtype'>float32</div><div class='xr-var-preview xr-preview'>-50.0 -49.0 -48.0 ... 29.0 30.0</div><input id='attrs-898535cd-d2ce-4249-b90d-f9a691e4ef3a' class='xr-var-attrs-in' type='checkbox' ><label for='attrs-898535cd-d2ce-4249-b90d-f9a691e4ef3a' title='Show/Hide attributes'><svg class='icon xr-icon-file-text2'><use xlink:href='#icon-file-text2'></use></svg></label><input id='data-82c83184-f052-49a0-af45-ea198fb9c6c4' class='xr-var-data-in' type='checkbox'><label for='data-82c83184-f052-49a0-af45-ea198fb9c6c4' title='Show/Hide data repr'><svg class='icon xr-icon-database'><use xlink:href='#icon-database'></use></svg></label><div class='xr-var-attrs'><dl class='xr-attrs'><dt><span>units :</span></dt><dd>degrees_north</dd><dt><span>long_name :</span></dt><dd>latitude</dd></dl></div><div class='xr-var-data'><pre>array([-50., -49., -48., -47., -46., -45., -44., -43., -42., -41., -40., -39.,\n",
       "       -38., -37., -36., -35., -34., -33., -32., -31., -30., -29., -28., -27.,\n",
       "       -26., -25., -24., -23., -22., -21., -20., -19., -18., -17., -16., -15.,\n",
       "       -14., -13., -12., -11., -10.,  -9.,  -8.,  -7.,  -6.,  -5.,  -4.,  -3.,\n",
       "        -2.,  -1.,   0.,   1.,   2.,   3.,   4.,   5.,   6.,   7.,   8.,   9.,\n",
       "        10.,  11.,  12.,  13.,  14.,  15.,  16.,  17.,  18.,  19.,  20.,  21.,\n",
       "        22.,  23.,  24.,  25.,  26.,  27.,  28.,  29.,  30.], dtype=float32)</pre></div></li><li class='xr-var-item'><div class='xr-var-name'><span class='xr-has-index'>member</span></div><div class='xr-var-dims'>(member)</div><div class='xr-var-dtype'>int32</div><div class='xr-var-preview xr-preview'>0 1 2 3 4 5 6 7 8 9</div><input id='attrs-e2c490bd-4822-46ac-9173-b90cf983c573' class='xr-var-attrs-in' type='checkbox' ><label for='attrs-e2c490bd-4822-46ac-9173-b90cf983c573' title='Show/Hide attributes'><svg class='icon xr-icon-file-text2'><use xlink:href='#icon-file-text2'></use></svg></label><input id='data-8cd23f21-ea00-4ed1-8ccf-ce3c07e925fb' class='xr-var-data-in' type='checkbox'><label for='data-8cd23f21-ea00-4ed1-8ccf-ce3c07e925fb' title='Show/Hide data repr'><svg class='icon xr-icon-database'><use xlink:href='#icon-database'></use></svg></label><div class='xr-var-attrs'><dl class='xr-attrs'><dt><span>long_name :</span></dt><dd>ensemble_member</dd></dl></div><div class='xr-var-data'><pre>array([0, 1, 2, 3, 4, 5, 6, 7, 8, 9], dtype=int32)</pre></div></li><li class='xr-var-item'><div class='xr-var-name'><span class='xr-has-index'>step</span></div><div class='xr-var-dims'>(step)</div><div class='xr-var-dtype'>int64</div><div class='xr-var-preview xr-preview'>1 2 3 4 5</div><input id='attrs-5513761b-9492-4e59-a7bb-35472c6b7f01' class='xr-var-attrs-in' type='checkbox' disabled><label for='attrs-5513761b-9492-4e59-a7bb-35472c6b7f01' title='Show/Hide attributes'><svg class='icon xr-icon-file-text2'><use xlink:href='#icon-file-text2'></use></svg></label><input id='data-7c94606c-eaae-42b0-b9cc-2c7d25a85a7a' class='xr-var-data-in' type='checkbox'><label for='data-7c94606c-eaae-42b0-b9cc-2c7d25a85a7a' title='Show/Hide data repr'><svg class='icon xr-icon-database'><use xlink:href='#icon-database'></use></svg></label><div class='xr-var-attrs'><dl class='xr-attrs'></dl></div><div class='xr-var-data'><pre>array([1, 2, 3, 4, 5])</pre></div></li></ul></div></li><li class='xr-section-item'><input id='section-ebc5b7b6-7b54-49f8-8be6-b62d504d14a3' class='xr-section-summary-in' type='checkbox'  checked><label for='section-ebc5b7b6-7b54-49f8-8be6-b62d504d14a3' class='xr-section-summary' >Data variables: <span>(1)</span></label><div class='xr-section-inline-details'></div><div class='xr-section-details'><ul class='xr-var-list'><li class='xr-var-item'><div class='xr-var-name'><span>tprate</span></div><div class='xr-var-dims'>(time, step, member, lat, lon)</div><div class='xr-var-dtype'>float32</div><div class='xr-var-preview xr-preview'>dask.array&lt;chunksize=(1, 5, 10, 81, 121), meta=np.ndarray&gt;</div><input id='attrs-c24ce156-bb6c-4e53-b979-2cab28f3e722' class='xr-var-attrs-in' type='checkbox' ><label for='attrs-c24ce156-bb6c-4e53-b979-2cab28f3e722' title='Show/Hide attributes'><svg class='icon xr-icon-file-text2'><use xlink:href='#icon-file-text2'></use></svg></label><input id='data-03b276e7-eb3e-4ea2-af35-256fbb6d767f' class='xr-var-data-in' type='checkbox'><label for='data-03b276e7-eb3e-4ea2-af35-256fbb6d767f' title='Show/Hide data repr'><svg class='icon xr-icon-database'><use xlink:href='#icon-database'></use></svg></label><div class='xr-var-attrs'><dl class='xr-attrs'><dt><span>units :</span></dt><dd>m s**-1</dd><dt><span>long_name :</span></dt><dd>Mean total precipitation rate</dd></dl></div><div class='xr-var-data'><table>\n",
       "    <tr>\n",
       "        <td>\n",
       "            <table>\n",
       "                <thead>\n",
       "                    <tr>\n",
       "                        <td> </td>\n",
       "                        <th> Array </th>\n",
       "                        <th> Chunk </th>\n",
       "                    </tr>\n",
       "                </thead>\n",
       "                <tbody>\n",
       "                    \n",
       "                    <tr>\n",
       "                        <th> Bytes </th>\n",
       "                        <td> 44.87 MiB </td>\n",
       "                        <td> 1.87 MiB </td>\n",
       "                    </tr>\n",
       "                    \n",
       "                    <tr>\n",
       "                        <th> Shape </th>\n",
       "                        <td> (24, 5, 10, 81, 121) </td>\n",
       "                        <td> (1, 5, 10, 81, 121) </td>\n",
       "                    </tr>\n",
       "                    <tr>\n",
       "                        <th> Count </th>\n",
       "                        <td> 168 Tasks </td>\n",
       "                        <td> 24 Chunks </td>\n",
       "                    </tr>\n",
       "                    <tr>\n",
       "                    <th> Type </th>\n",
       "                    <td> float32 </td>\n",
       "                    <td> numpy.ndarray </td>\n",
       "                    </tr>\n",
       "                </tbody>\n",
       "            </table>\n",
       "        </td>\n",
       "        <td>\n",
       "        <svg width=\"398\" height=\"152\" style=\"stroke:rgb(0,0,0);stroke-width:1\" >\n",
       "\n",
       "  <!-- Horizontal lines -->\n",
       "  <line x1=\"0\" y1=\"0\" x2=\"33\" y2=\"0\" style=\"stroke-width:2\" />\n",
       "  <line x1=\"0\" y1=\"1\" x2=\"33\" y2=\"1\" />\n",
       "  <line x1=\"0\" y1=\"3\" x2=\"33\" y2=\"3\" />\n",
       "  <line x1=\"0\" y1=\"5\" x2=\"33\" y2=\"5\" />\n",
       "  <line x1=\"0\" y1=\"6\" x2=\"33\" y2=\"6\" />\n",
       "  <line x1=\"0\" y1=\"8\" x2=\"33\" y2=\"8\" />\n",
       "  <line x1=\"0\" y1=\"10\" x2=\"33\" y2=\"10\" />\n",
       "  <line x1=\"0\" y1=\"12\" x2=\"33\" y2=\"12\" />\n",
       "  <line x1=\"0\" y1=\"13\" x2=\"33\" y2=\"13\" />\n",
       "  <line x1=\"0\" y1=\"15\" x2=\"33\" y2=\"15\" />\n",
       "  <line x1=\"0\" y1=\"17\" x2=\"33\" y2=\"17\" />\n",
       "  <line x1=\"0\" y1=\"19\" x2=\"33\" y2=\"19\" />\n",
       "  <line x1=\"0\" y1=\"20\" x2=\"33\" y2=\"20\" />\n",
       "  <line x1=\"0\" y1=\"22\" x2=\"33\" y2=\"22\" />\n",
       "  <line x1=\"0\" y1=\"24\" x2=\"33\" y2=\"24\" />\n",
       "  <line x1=\"0\" y1=\"26\" x2=\"33\" y2=\"26\" />\n",
       "  <line x1=\"0\" y1=\"27\" x2=\"33\" y2=\"27\" />\n",
       "  <line x1=\"0\" y1=\"29\" x2=\"33\" y2=\"29\" />\n",
       "  <line x1=\"0\" y1=\"31\" x2=\"33\" y2=\"31\" />\n",
       "  <line x1=\"0\" y1=\"33\" x2=\"33\" y2=\"33\" />\n",
       "  <line x1=\"0\" y1=\"34\" x2=\"33\" y2=\"34\" />\n",
       "  <line x1=\"0\" y1=\"36\" x2=\"33\" y2=\"36\" />\n",
       "  <line x1=\"0\" y1=\"38\" x2=\"33\" y2=\"38\" />\n",
       "  <line x1=\"0\" y1=\"40\" x2=\"33\" y2=\"40\" />\n",
       "  <line x1=\"0\" y1=\"41\" x2=\"33\" y2=\"41\" style=\"stroke-width:2\" />\n",
       "\n",
       "  <!-- Vertical lines -->\n",
       "  <line x1=\"0\" y1=\"0\" x2=\"0\" y2=\"41\" style=\"stroke-width:2\" />\n",
       "  <line x1=\"33\" y1=\"0\" x2=\"33\" y2=\"41\" style=\"stroke-width:2\" />\n",
       "\n",
       "  <!-- Colored Rectangle -->\n",
       "  <polygon points=\"0.0,0.0 33.33288666888053,0.0 33.33288666888053,41.974744095238016 0.0,41.974744095238016\" style=\"fill:#ECB172A0;stroke-width:0\"/>\n",
       "\n",
       "  <!-- Text -->\n",
       "  <text x=\"16.666443\" y=\"61.974744\" font-size=\"1.0rem\" font-weight=\"100\" text-anchor=\"middle\" >5</text>\n",
       "  <text x=\"53.332887\" y=\"20.987372\" font-size=\"1.0rem\" font-weight=\"100\" text-anchor=\"middle\" transform=\"rotate(0,53.332887,20.987372)\">24</text>\n",
       "\n",
       "\n",
       "  <!-- Horizontal lines -->\n",
       "  <line x1=\"103\" y1=\"0\" x2=\"125\" y2=\"22\" style=\"stroke-width:2\" />\n",
       "  <line x1=\"103\" y1=\"80\" x2=\"125\" y2=\"102\" style=\"stroke-width:2\" />\n",
       "\n",
       "  <!-- Vertical lines -->\n",
       "  <line x1=\"103\" y1=\"0\" x2=\"103\" y2=\"80\" style=\"stroke-width:2\" />\n",
       "  <line x1=\"125\" y1=\"22\" x2=\"125\" y2=\"102\" style=\"stroke-width:2\" />\n",
       "\n",
       "  <!-- Colored Rectangle -->\n",
       "  <polygon points=\"103.0,0.0 125.06797403173512,22.06797403173512 125.06797403173512,102.39855254413182 103.0,80.3305785123967\" style=\"fill:#ECB172A0;stroke-width:0\"/>\n",
       "\n",
       "  <!-- Horizontal lines -->\n",
       "  <line x1=\"103\" y1=\"0\" x2=\"223\" y2=\"0\" style=\"stroke-width:2\" />\n",
       "  <line x1=\"125\" y1=\"22\" x2=\"245\" y2=\"22\" style=\"stroke-width:2\" />\n",
       "\n",
       "  <!-- Vertical lines -->\n",
       "  <line x1=\"103\" y1=\"0\" x2=\"125\" y2=\"22\" style=\"stroke-width:2\" />\n",
       "  <line x1=\"223\" y1=\"0\" x2=\"245\" y2=\"22\" style=\"stroke-width:2\" />\n",
       "\n",
       "  <!-- Colored Rectangle -->\n",
       "  <polygon points=\"103.0,0.0 223.0,0.0 245.0679740317351,22.06797403173512 125.06797403173512,22.06797403173512\" style=\"fill:#ECB172A0;stroke-width:0\"/>\n",
       "\n",
       "  <!-- Horizontal lines -->\n",
       "  <line x1=\"125\" y1=\"22\" x2=\"245\" y2=\"22\" style=\"stroke-width:2\" />\n",
       "  <line x1=\"125\" y1=\"102\" x2=\"245\" y2=\"102\" style=\"stroke-width:2\" />\n",
       "\n",
       "  <!-- Vertical lines -->\n",
       "  <line x1=\"125\" y1=\"22\" x2=\"125\" y2=\"102\" style=\"stroke-width:2\" />\n",
       "  <line x1=\"245\" y1=\"22\" x2=\"245\" y2=\"102\" style=\"stroke-width:2\" />\n",
       "\n",
       "  <!-- Colored Rectangle -->\n",
       "  <polygon points=\"125.06797403173512,22.06797403173512 245.0679740317351,22.06797403173512 245.0679740317351,102.39855254413182 125.06797403173512,102.39855254413182\" style=\"fill:#ECB172A0;stroke-width:0\"/>\n",
       "\n",
       "  <!-- Text -->\n",
       "  <text x=\"185.067974\" y=\"122.398553\" font-size=\"1.0rem\" font-weight=\"100\" text-anchor=\"middle\" >121</text>\n",
       "  <text x=\"265.067974\" y=\"62.233263\" font-size=\"1.0rem\" font-weight=\"100\" text-anchor=\"middle\" transform=\"rotate(0,265.067974,62.233263)\">81</text>\n",
       "  <text x=\"104.033987\" y=\"111.364566\" font-size=\"1.0rem\" font-weight=\"100\" text-anchor=\"middle\" transform=\"rotate(45,104.033987,111.364566)\">10</text>\n",
       "</svg>\n",
       "        </td>\n",
       "    </tr>\n",
       "</table></div></li></ul></div></li><li class='xr-section-item'><input id='section-0ca1458a-ce7e-4d2f-b765-16f097ace132' class='xr-section-summary-in' type='checkbox'  checked><label for='section-0ca1458a-ce7e-4d2f-b765-16f097ace132' class='xr-section-summary' >Attributes: <span>(2)</span></label><div class='xr-section-inline-details'></div><div class='xr-section-details'><dl class='xr-attrs'><dt><span>Conventions :</span></dt><dd>CF-1.6</dd><dt><span>history :</span></dt><dd>2022-01-17 01:18:32 GMT by grib_to_netcdf-2.23.0: /opt/ecmwf/mars-client/bin/grib_to_netcdf -S param -o /cache/data9/adaptor.mars.external-1642382312.3304288-26188-15-977b7ec2-7131-47c1-a4aa-8ee7f599371f.nc /cache/tmp/977b7ec2-7131-47c1-a4aa-8ee7f599371f-adaptor.mars.external-1642382309.7993078-26188-23-tmp.grib</dd></dl></div></li></ul></div></div>"
      ],
      "text/plain": [
       "<xarray.Dataset>\n",
       "Dimensions:  (time: 24, lon: 121, lat: 81, member: 10, step: 5)\n",
       "Coordinates:\n",
       "  * time     (time) datetime64[ns] 1993-01-01 1994-01-01 ... 2016-01-01\n",
       "  * lon      (lon) float32 120.0 121.0 122.0 123.0 ... 237.0 238.0 239.0 240.0\n",
       "  * lat      (lat) float32 -50.0 -49.0 -48.0 -47.0 -46.0 ... 27.0 28.0 29.0 30.0\n",
       "  * member   (member) int32 0 1 2 3 4 5 6 7 8 9\n",
       "  * step     (step) int64 1 2 3 4 5\n",
       "Data variables:\n",
       "    tprate   (time, step, member, lat, lon) float32 dask.array<chunksize=(1, 5, 10, 81, 121), meta=np.ndarray>\n",
       "Attributes:\n",
       "    Conventions:  CF-1.6\n",
       "    history:      2022-01-17 01:18:32 GMT by grib_to_netcdf-2.23.0: /opt/ecmw..."
      ]
     },
     "execution_count": 31,
     "metadata": {},
     "output_type": "execute_result"
    }
   ],
   "source": [
    "dset"
   ]
  },
  {
   "cell_type": "markdown",
   "id": "f7bbf7e7-c341-436b-b9db-103fd378dcb0",
   "metadata": {
    "papermill": {
     "duration": 0.023061,
     "end_time": "2022-01-17T19:11:54.158434",
     "exception": false,
     "start_time": "2022-01-17T19:11:54.135373",
     "status": "completed"
    },
    "tags": []
   },
   "source": [
    "### make sure we select the hindcast period "
   ]
  },
  {
   "cell_type": "code",
   "execution_count": 32,
   "id": "b543e1a2-5e81-43d0-8bcc-66cd8a1eeedf",
   "metadata": {
    "execution": {
     "iopub.execute_input": "2022-01-17T19:11:54.208765Z",
     "iopub.status.busy": "2022-01-17T19:11:54.208445Z",
     "iopub.status.idle": "2022-01-17T19:11:54.224297Z",
     "shell.execute_reply": "2022-01-17T19:11:54.223902Z"
    },
    "papermill": {
     "duration": 0.041772,
     "end_time": "2022-01-17T19:11:54.224394",
     "exception": false,
     "start_time": "2022-01-17T19:11:54.182622",
     "status": "completed"
    },
    "tags": []
   },
   "outputs": [],
   "source": [
    "dset = dset.sel(time=slice('1993', '2016'))"
   ]
  },
  {
   "cell_type": "markdown",
   "id": "d462983e-c166-4b90-a2cc-26b2f1e7d9cb",
   "metadata": {
    "papermill": {
     "duration": 0.02251,
     "end_time": "2022-01-17T19:11:54.270312",
     "exception": false,
     "start_time": "2022-01-17T19:11:54.247802",
     "status": "completed"
    },
    "tags": []
   },
   "source": [
    "### convert to monthly rainfall accumulations (mm/month)"
   ]
  },
  {
   "cell_type": "code",
   "execution_count": 33,
   "id": "6e725dd4-91d0-4246-8d00-6f604b1f489e",
   "metadata": {
    "execution": {
     "iopub.execute_input": "2022-01-17T19:11:54.322116Z",
     "iopub.status.busy": "2022-01-17T19:11:54.321735Z",
     "iopub.status.idle": "2022-01-17T19:11:54.336978Z",
     "shell.execute_reply": "2022-01-17T19:11:54.336652Z"
    },
    "papermill": {
     "duration": 0.042977,
     "end_time": "2022-01-17T19:11:54.337081",
     "exception": false,
     "start_time": "2022-01-17T19:11:54.294104",
     "status": "completed"
    },
    "tags": []
   },
   "outputs": [
    {
     "data": {
      "text/plain": [
       "{'units': 'm s**-1', 'long_name': 'Mean total precipitation rate'}"
      ]
     },
     "execution_count": 33,
     "metadata": {},
     "output_type": "execute_result"
    }
   ],
   "source": [
    "dset.tprate.attrs"
   ]
  },
  {
   "cell_type": "code",
   "execution_count": 34,
   "id": "67d42493-35a0-4658-ad1c-a6818fc91d2b",
   "metadata": {
    "execution": {
     "iopub.execute_input": "2022-01-17T19:11:54.388106Z",
     "iopub.status.busy": "2022-01-17T19:11:54.387736Z",
     "iopub.status.idle": "2022-01-17T19:11:54.413101Z",
     "shell.execute_reply": "2022-01-17T19:11:54.412806Z"
    },
    "papermill": {
     "duration": 0.051791,
     "end_time": "2022-01-17T19:11:54.413196",
     "exception": false,
     "start_time": "2022-01-17T19:11:54.361405",
     "status": "completed"
    },
    "tags": []
   },
   "outputs": [
    {
     "name": "stdout",
     "output_type": "stream",
     "text": [
      "\n",
      "unit is m s**-1, converting to mm/day\n",
      "\n",
      "now converting to mm/month, converted precipitation will be held in var = precip\n"
     ]
    }
   ],
   "source": [
    "dset = C3S.convert_rainfall(dset, varin='tprate', varout='precip', leadvar='step', timevar='time', dropvar=True)"
   ]
  },
  {
   "cell_type": "code",
   "execution_count": 35,
   "id": "4d15bffd-b6c1-49dc-ac3c-428e824a10ca",
   "metadata": {
    "execution": {
     "iopub.execute_input": "2022-01-17T19:11:54.464272Z",
     "iopub.status.busy": "2022-01-17T19:11:54.463901Z",
     "iopub.status.idle": "2022-01-17T19:11:54.480440Z",
     "shell.execute_reply": "2022-01-17T19:11:54.480686Z"
    },
    "papermill": {
     "duration": 0.043178,
     "end_time": "2022-01-17T19:11:54.480842",
     "exception": false,
     "start_time": "2022-01-17T19:11:54.437664",
     "status": "completed"
    },
    "tags": []
   },
   "outputs": [
    {
     "data": {
      "text/plain": [
       "<bound method Dataset.info of <xarray.Dataset>\n",
       "Dimensions:  (time: 24, lon: 121, lat: 81, member: 10, step: 5)\n",
       "Coordinates:\n",
       "  * time     (time) datetime64[ns] 1993-01-01 1994-01-01 ... 2016-01-01\n",
       "  * lon      (lon) float32 120.0 121.0 122.0 123.0 ... 237.0 238.0 239.0 240.0\n",
       "  * lat      (lat) float32 -50.0 -49.0 -48.0 -47.0 -46.0 ... 27.0 28.0 29.0 30.0\n",
       "  * member   (member) int32 0 1 2 3 4 5 6 7 8 9\n",
       "  * step     (step) int64 1 2 3 4 5\n",
       "Data variables:\n",
       "    precip   (time, step, member, lat, lon) float64 dask.array<chunksize=(1, 5, 10, 81, 121), meta=np.ndarray>\n",
       "Attributes:\n",
       "    Conventions:  CF-1.6\n",
       "    history:      2022-01-17 01:18:32 GMT by grib_to_netcdf-2.23.0: /opt/ecmw...>"
      ]
     },
     "execution_count": 35,
     "metadata": {},
     "output_type": "execute_result"
    }
   ],
   "source": [
    "dset.info"
   ]
  },
  {
   "cell_type": "code",
   "execution_count": 36,
   "id": "5c7fe646-bfd6-417e-aaaa-8e0cb0b899c8",
   "metadata": {
    "execution": {
     "iopub.execute_input": "2022-01-17T19:11:54.529640Z",
     "iopub.status.busy": "2022-01-17T19:11:54.529318Z",
     "iopub.status.idle": "2022-01-17T19:11:54.543265Z",
     "shell.execute_reply": "2022-01-17T19:11:54.543512Z"
    },
    "papermill": {
     "duration": 0.039452,
     "end_time": "2022-01-17T19:11:54.543630",
     "exception": false,
     "start_time": "2022-01-17T19:11:54.504178",
     "status": "completed"
    },
    "tags": []
   },
   "outputs": [
    {
     "data": {
      "text/plain": [
       "{'units': 'mm/month'}"
      ]
     },
     "execution_count": 36,
     "metadata": {},
     "output_type": "execute_result"
    }
   ],
   "source": [
    "dset.precip.attrs"
   ]
  },
  {
   "cell_type": "markdown",
   "id": "fd7553f0-3ff3-46f3-bdcd-6e6f48f7abb7",
   "metadata": {
    "papermill": {
     "duration": 0.024308,
     "end_time": "2022-01-17T19:11:54.592465",
     "exception": false,
     "start_time": "2022-01-17T19:11:54.568157",
     "status": "completed"
    },
    "tags": []
   },
   "source": [
    "### make sure there are no negative values "
   ]
  },
  {
   "cell_type": "code",
   "execution_count": 37,
   "id": "48667708-24cc-4f51-ab18-3a75e2f28ccd",
   "metadata": {
    "execution": {
     "iopub.execute_input": "2022-01-17T19:11:54.642016Z",
     "iopub.status.busy": "2022-01-17T19:11:54.641695Z",
     "iopub.status.idle": "2022-01-17T19:11:54.656293Z",
     "shell.execute_reply": "2022-01-17T19:11:54.656544Z"
    },
    "papermill": {
     "duration": 0.040457,
     "end_time": "2022-01-17T19:11:54.656659",
     "exception": false,
     "start_time": "2022-01-17T19:11:54.616202",
     "status": "completed"
    },
    "tags": []
   },
   "outputs": [],
   "source": [
    "dset = dset.clip(min=0)"
   ]
  },
  {
   "cell_type": "markdown",
   "id": "a6dd054f-5e96-48e6-b935-80d9ea0f54a2",
   "metadata": {
    "papermill": {
     "duration": 0.024114,
     "end_time": "2022-01-17T19:11:54.705131",
     "exception": false,
     "start_time": "2022-01-17T19:11:54.681017",
     "status": "completed"
    },
    "tags": []
   },
   "source": [
    "### if the period is set to `seasonal`, calculates the seasonal accumulations "
   ]
  },
  {
   "cell_type": "code",
   "execution_count": 38,
   "id": "cc83f98c-909f-44bc-aa14-ef1778a747f5",
   "metadata": {
    "execution": {
     "iopub.execute_input": "2022-01-17T19:11:54.754020Z",
     "iopub.status.busy": "2022-01-17T19:11:54.753705Z",
     "iopub.status.idle": "2022-01-17T19:11:54.790332Z",
     "shell.execute_reply": "2022-01-17T19:11:54.790033Z"
    },
    "papermill": {
     "duration": 0.062178,
     "end_time": "2022-01-17T19:11:54.790430",
     "exception": false,
     "start_time": "2022-01-17T19:11:54.728252",
     "status": "completed"
    },
    "tags": []
   },
   "outputs": [],
   "source": [
    "if period == 'seasonal': \n",
    "    \n",
    "    dset = dset.rolling({'step':3}, min_periods=3).sum('step')\n",
    "    \n",
    "    dset = dset.sel({'step':slice(3, None)})"
   ]
  },
  {
   "cell_type": "code",
   "execution_count": 39,
   "id": "84f4203d-9b4b-4db5-b4a2-174be37b28c5",
   "metadata": {
    "execution": {
     "iopub.execute_input": "2022-01-17T19:11:54.841234Z",
     "iopub.status.busy": "2022-01-17T19:11:54.840924Z",
     "iopub.status.idle": "2022-01-17T19:11:54.857701Z",
     "shell.execute_reply": "2022-01-17T19:11:54.857941Z"
    },
    "papermill": {
     "duration": 0.043642,
     "end_time": "2022-01-17T19:11:54.858058",
     "exception": false,
     "start_time": "2022-01-17T19:11:54.814416",
     "status": "completed"
    },
    "tags": []
   },
   "outputs": [
    {
     "data": {
      "text/plain": [
       "<bound method Dataset.info of <xarray.Dataset>\n",
       "Dimensions:  (time: 24, lon: 121, lat: 81, member: 10, step: 3)\n",
       "Coordinates:\n",
       "  * time     (time) datetime64[ns] 1993-01-01 1994-01-01 ... 2016-01-01\n",
       "  * lon      (lon) float32 120.0 121.0 122.0 123.0 ... 237.0 238.0 239.0 240.0\n",
       "  * lat      (lat) float32 -50.0 -49.0 -48.0 -47.0 -46.0 ... 27.0 28.0 29.0 30.0\n",
       "  * member   (member) int32 0 1 2 3 4 5 6 7 8 9\n",
       "  * step     (step) int64 3 4 5\n",
       "Data variables:\n",
       "    precip   (time, step, member, lat, lon) float64 dask.array<chunksize=(1, 3, 10, 81, 121), meta=np.ndarray>\n",
       "Attributes:\n",
       "    Conventions:  CF-1.6\n",
       "    history:      2022-01-17 01:18:32 GMT by grib_to_netcdf-2.23.0: /opt/ecmw...>"
      ]
     },
     "execution_count": 39,
     "metadata": {},
     "output_type": "execute_result"
    }
   ],
   "source": [
    "dset.info"
   ]
  },
  {
   "cell_type": "markdown",
   "id": "aab31221-ef5d-4a3c-9967-81aaf3d160aa",
   "metadata": {
    "papermill": {
     "duration": 0.033394,
     "end_time": "2022-01-17T19:11:54.914851",
     "exception": false,
     "start_time": "2022-01-17T19:11:54.881457",
     "status": "completed"
    },
    "tags": []
   },
   "source": [
    "### rechunk, just make sure each chunk can fit in memory"
   ]
  },
  {
   "cell_type": "code",
   "execution_count": 40,
   "id": "f19d676e-3e48-4f94-8416-b4e91eae83c1",
   "metadata": {
    "execution": {
     "iopub.execute_input": "2022-01-17T19:11:54.966770Z",
     "iopub.status.busy": "2022-01-17T19:11:54.966450Z",
     "iopub.status.idle": "2022-01-17T19:11:54.980401Z",
     "shell.execute_reply": "2022-01-17T19:11:54.980647Z"
    },
    "papermill": {
     "duration": 0.041114,
     "end_time": "2022-01-17T19:11:54.980764",
     "exception": false,
     "start_time": "2022-01-17T19:11:54.939650",
     "status": "completed"
    },
    "tags": []
   },
   "outputs": [
    {
     "data": {
      "text/plain": [
       "Frozen({'time': (1, 1, 1, 1, 1, 1, 1, 1, 1, 1, 1, 1, 1, 1, 1, 1, 1, 1, 1, 1, 1, 1, 1, 1), 'step': (3,), 'member': (10,), 'lat': (81,), 'lon': (121,)})"
      ]
     },
     "execution_count": 40,
     "metadata": {},
     "output_type": "execute_result"
    }
   ],
   "source": [
    "dset.chunks"
   ]
  },
  {
   "cell_type": "code",
   "execution_count": 41,
   "id": "82dc21a1-bc53-4f03-acb5-f58e983c20e4",
   "metadata": {
    "execution": {
     "iopub.execute_input": "2022-01-17T19:11:55.030785Z",
     "iopub.status.busy": "2022-01-17T19:11:55.030460Z",
     "iopub.status.idle": "2022-01-17T19:11:55.044173Z",
     "shell.execute_reply": "2022-01-17T19:11:55.043887Z"
    },
    "papermill": {
     "duration": 0.03972,
     "end_time": "2022-01-17T19:11:55.044272",
     "exception": false,
     "start_time": "2022-01-17T19:11:55.004552",
     "status": "completed"
    },
    "tags": []
   },
   "outputs": [],
   "source": [
    "chunks = {\n",
    "    'time':-1, \n",
    "    'member':-1, \n",
    "    'step':1, \n",
    "    'lat':10, \n",
    "    'lon':10\n",
    "}"
   ]
  },
  {
   "cell_type": "code",
   "execution_count": 42,
   "id": "e288e6b1-1b84-48c2-a2bb-472aa4b740f5",
   "metadata": {
    "execution": {
     "iopub.execute_input": "2022-01-17T19:11:55.096466Z",
     "iopub.status.busy": "2022-01-17T19:11:55.096146Z",
     "iopub.status.idle": "2022-01-17T19:11:55.113435Z",
     "shell.execute_reply": "2022-01-17T19:11:55.113688Z"
    },
    "papermill": {
     "duration": 0.044463,
     "end_time": "2022-01-17T19:11:55.113809",
     "exception": false,
     "start_time": "2022-01-17T19:11:55.069346",
     "status": "completed"
    },
    "tags": []
   },
   "outputs": [],
   "source": [
    "dset = dset.chunk(chunks)"
   ]
  },
  {
   "cell_type": "code",
   "execution_count": 43,
   "id": "b92f5daa-b896-4b6b-bd3f-c15321e89367",
   "metadata": {
    "execution": {
     "iopub.execute_input": "2022-01-17T19:11:55.163856Z",
     "iopub.status.busy": "2022-01-17T19:11:55.163535Z",
     "iopub.status.idle": "2022-01-17T19:11:55.193773Z",
     "shell.execute_reply": "2022-01-17T19:11:55.194021Z"
    },
    "papermill": {
     "duration": 0.05639,
     "end_time": "2022-01-17T19:11:55.194139",
     "exception": false,
     "start_time": "2022-01-17T19:11:55.137749",
     "status": "completed"
    },
    "tags": []
   },
   "outputs": [
    {
     "data": {
      "text/html": [
       "<div><svg style=\"position: absolute; width: 0; height: 0; overflow: hidden\">\n",
       "<defs>\n",
       "<symbol id=\"icon-database\" viewBox=\"0 0 32 32\">\n",
       "<path d=\"M16 0c-8.837 0-16 2.239-16 5v4c0 2.761 7.163 5 16 5s16-2.239 16-5v-4c0-2.761-7.163-5-16-5z\"></path>\n",
       "<path d=\"M16 17c-8.837 0-16-2.239-16-5v6c0 2.761 7.163 5 16 5s16-2.239 16-5v-6c0 2.761-7.163 5-16 5z\"></path>\n",
       "<path d=\"M16 26c-8.837 0-16-2.239-16-5v6c0 2.761 7.163 5 16 5s16-2.239 16-5v-6c0 2.761-7.163 5-16 5z\"></path>\n",
       "</symbol>\n",
       "<symbol id=\"icon-file-text2\" viewBox=\"0 0 32 32\">\n",
       "<path d=\"M28.681 7.159c-0.694-0.947-1.662-2.053-2.724-3.116s-2.169-2.030-3.116-2.724c-1.612-1.182-2.393-1.319-2.841-1.319h-15.5c-1.378 0-2.5 1.121-2.5 2.5v27c0 1.378 1.122 2.5 2.5 2.5h23c1.378 0 2.5-1.122 2.5-2.5v-19.5c0-0.448-0.137-1.23-1.319-2.841zM24.543 5.457c0.959 0.959 1.712 1.825 2.268 2.543h-4.811v-4.811c0.718 0.556 1.584 1.309 2.543 2.268zM28 29.5c0 0.271-0.229 0.5-0.5 0.5h-23c-0.271 0-0.5-0.229-0.5-0.5v-27c0-0.271 0.229-0.5 0.5-0.5 0 0 15.499-0 15.5 0v7c0 0.552 0.448 1 1 1h7v19.5z\"></path>\n",
       "<path d=\"M23 26h-14c-0.552 0-1-0.448-1-1s0.448-1 1-1h14c0.552 0 1 0.448 1 1s-0.448 1-1 1z\"></path>\n",
       "<path d=\"M23 22h-14c-0.552 0-1-0.448-1-1s0.448-1 1-1h14c0.552 0 1 0.448 1 1s-0.448 1-1 1z\"></path>\n",
       "<path d=\"M23 18h-14c-0.552 0-1-0.448-1-1s0.448-1 1-1h14c0.552 0 1 0.448 1 1s-0.448 1-1 1z\"></path>\n",
       "</symbol>\n",
       "</defs>\n",
       "</svg>\n",
       "<style>/* CSS stylesheet for displaying xarray objects in jupyterlab.\n",
       " *\n",
       " */\n",
       "\n",
       ":root {\n",
       "  --xr-font-color0: var(--jp-content-font-color0, rgba(0, 0, 0, 1));\n",
       "  --xr-font-color2: var(--jp-content-font-color2, rgba(0, 0, 0, 0.54));\n",
       "  --xr-font-color3: var(--jp-content-font-color3, rgba(0, 0, 0, 0.38));\n",
       "  --xr-border-color: var(--jp-border-color2, #e0e0e0);\n",
       "  --xr-disabled-color: var(--jp-layout-color3, #bdbdbd);\n",
       "  --xr-background-color: var(--jp-layout-color0, white);\n",
       "  --xr-background-color-row-even: var(--jp-layout-color1, white);\n",
       "  --xr-background-color-row-odd: var(--jp-layout-color2, #eeeeee);\n",
       "}\n",
       "\n",
       "html[theme=dark],\n",
       "body.vscode-dark {\n",
       "  --xr-font-color0: rgba(255, 255, 255, 1);\n",
       "  --xr-font-color2: rgba(255, 255, 255, 0.54);\n",
       "  --xr-font-color3: rgba(255, 255, 255, 0.38);\n",
       "  --xr-border-color: #1F1F1F;\n",
       "  --xr-disabled-color: #515151;\n",
       "  --xr-background-color: #111111;\n",
       "  --xr-background-color-row-even: #111111;\n",
       "  --xr-background-color-row-odd: #313131;\n",
       "}\n",
       "\n",
       ".xr-wrap {\n",
       "  display: block;\n",
       "  min-width: 300px;\n",
       "  max-width: 700px;\n",
       "}\n",
       "\n",
       ".xr-text-repr-fallback {\n",
       "  /* fallback to plain text repr when CSS is not injected (untrusted notebook) */\n",
       "  display: none;\n",
       "}\n",
       "\n",
       ".xr-header {\n",
       "  padding-top: 6px;\n",
       "  padding-bottom: 6px;\n",
       "  margin-bottom: 4px;\n",
       "  border-bottom: solid 1px var(--xr-border-color);\n",
       "}\n",
       "\n",
       ".xr-header > div,\n",
       ".xr-header > ul {\n",
       "  display: inline;\n",
       "  margin-top: 0;\n",
       "  margin-bottom: 0;\n",
       "}\n",
       "\n",
       ".xr-obj-type,\n",
       ".xr-array-name {\n",
       "  margin-left: 2px;\n",
       "  margin-right: 10px;\n",
       "}\n",
       "\n",
       ".xr-obj-type {\n",
       "  color: var(--xr-font-color2);\n",
       "}\n",
       "\n",
       ".xr-sections {\n",
       "  padding-left: 0 !important;\n",
       "  display: grid;\n",
       "  grid-template-columns: 150px auto auto 1fr 20px 20px;\n",
       "}\n",
       "\n",
       ".xr-section-item {\n",
       "  display: contents;\n",
       "}\n",
       "\n",
       ".xr-section-item input {\n",
       "  display: none;\n",
       "}\n",
       "\n",
       ".xr-section-item input + label {\n",
       "  color: var(--xr-disabled-color);\n",
       "}\n",
       "\n",
       ".xr-section-item input:enabled + label {\n",
       "  cursor: pointer;\n",
       "  color: var(--xr-font-color2);\n",
       "}\n",
       "\n",
       ".xr-section-item input:enabled + label:hover {\n",
       "  color: var(--xr-font-color0);\n",
       "}\n",
       "\n",
       ".xr-section-summary {\n",
       "  grid-column: 1;\n",
       "  color: var(--xr-font-color2);\n",
       "  font-weight: 500;\n",
       "}\n",
       "\n",
       ".xr-section-summary > span {\n",
       "  display: inline-block;\n",
       "  padding-left: 0.5em;\n",
       "}\n",
       "\n",
       ".xr-section-summary-in:disabled + label {\n",
       "  color: var(--xr-font-color2);\n",
       "}\n",
       "\n",
       ".xr-section-summary-in + label:before {\n",
       "  display: inline-block;\n",
       "  content: '►';\n",
       "  font-size: 11px;\n",
       "  width: 15px;\n",
       "  text-align: center;\n",
       "}\n",
       "\n",
       ".xr-section-summary-in:disabled + label:before {\n",
       "  color: var(--xr-disabled-color);\n",
       "}\n",
       "\n",
       ".xr-section-summary-in:checked + label:before {\n",
       "  content: '▼';\n",
       "}\n",
       "\n",
       ".xr-section-summary-in:checked + label > span {\n",
       "  display: none;\n",
       "}\n",
       "\n",
       ".xr-section-summary,\n",
       ".xr-section-inline-details {\n",
       "  padding-top: 4px;\n",
       "  padding-bottom: 4px;\n",
       "}\n",
       "\n",
       ".xr-section-inline-details {\n",
       "  grid-column: 2 / -1;\n",
       "}\n",
       "\n",
       ".xr-section-details {\n",
       "  display: none;\n",
       "  grid-column: 1 / -1;\n",
       "  margin-bottom: 5px;\n",
       "}\n",
       "\n",
       ".xr-section-summary-in:checked ~ .xr-section-details {\n",
       "  display: contents;\n",
       "}\n",
       "\n",
       ".xr-array-wrap {\n",
       "  grid-column: 1 / -1;\n",
       "  display: grid;\n",
       "  grid-template-columns: 20px auto;\n",
       "}\n",
       "\n",
       ".xr-array-wrap > label {\n",
       "  grid-column: 1;\n",
       "  vertical-align: top;\n",
       "}\n",
       "\n",
       ".xr-preview {\n",
       "  color: var(--xr-font-color3);\n",
       "}\n",
       "\n",
       ".xr-array-preview,\n",
       ".xr-array-data {\n",
       "  padding: 0 5px !important;\n",
       "  grid-column: 2;\n",
       "}\n",
       "\n",
       ".xr-array-data,\n",
       ".xr-array-in:checked ~ .xr-array-preview {\n",
       "  display: none;\n",
       "}\n",
       "\n",
       ".xr-array-in:checked ~ .xr-array-data,\n",
       ".xr-array-preview {\n",
       "  display: inline-block;\n",
       "}\n",
       "\n",
       ".xr-dim-list {\n",
       "  display: inline-block !important;\n",
       "  list-style: none;\n",
       "  padding: 0 !important;\n",
       "  margin: 0;\n",
       "}\n",
       "\n",
       ".xr-dim-list li {\n",
       "  display: inline-block;\n",
       "  padding: 0;\n",
       "  margin: 0;\n",
       "}\n",
       "\n",
       ".xr-dim-list:before {\n",
       "  content: '(';\n",
       "}\n",
       "\n",
       ".xr-dim-list:after {\n",
       "  content: ')';\n",
       "}\n",
       "\n",
       ".xr-dim-list li:not(:last-child):after {\n",
       "  content: ',';\n",
       "  padding-right: 5px;\n",
       "}\n",
       "\n",
       ".xr-has-index {\n",
       "  font-weight: bold;\n",
       "}\n",
       "\n",
       ".xr-var-list,\n",
       ".xr-var-item {\n",
       "  display: contents;\n",
       "}\n",
       "\n",
       ".xr-var-item > div,\n",
       ".xr-var-item label,\n",
       ".xr-var-item > .xr-var-name span {\n",
       "  background-color: var(--xr-background-color-row-even);\n",
       "  margin-bottom: 0;\n",
       "}\n",
       "\n",
       ".xr-var-item > .xr-var-name:hover span {\n",
       "  padding-right: 5px;\n",
       "}\n",
       "\n",
       ".xr-var-list > li:nth-child(odd) > div,\n",
       ".xr-var-list > li:nth-child(odd) > label,\n",
       ".xr-var-list > li:nth-child(odd) > .xr-var-name span {\n",
       "  background-color: var(--xr-background-color-row-odd);\n",
       "}\n",
       "\n",
       ".xr-var-name {\n",
       "  grid-column: 1;\n",
       "}\n",
       "\n",
       ".xr-var-dims {\n",
       "  grid-column: 2;\n",
       "}\n",
       "\n",
       ".xr-var-dtype {\n",
       "  grid-column: 3;\n",
       "  text-align: right;\n",
       "  color: var(--xr-font-color2);\n",
       "}\n",
       "\n",
       ".xr-var-preview {\n",
       "  grid-column: 4;\n",
       "}\n",
       "\n",
       ".xr-var-name,\n",
       ".xr-var-dims,\n",
       ".xr-var-dtype,\n",
       ".xr-preview,\n",
       ".xr-attrs dt {\n",
       "  white-space: nowrap;\n",
       "  overflow: hidden;\n",
       "  text-overflow: ellipsis;\n",
       "  padding-right: 10px;\n",
       "}\n",
       "\n",
       ".xr-var-name:hover,\n",
       ".xr-var-dims:hover,\n",
       ".xr-var-dtype:hover,\n",
       ".xr-attrs dt:hover {\n",
       "  overflow: visible;\n",
       "  width: auto;\n",
       "  z-index: 1;\n",
       "}\n",
       "\n",
       ".xr-var-attrs,\n",
       ".xr-var-data {\n",
       "  display: none;\n",
       "  background-color: var(--xr-background-color) !important;\n",
       "  padding-bottom: 5px !important;\n",
       "}\n",
       "\n",
       ".xr-var-attrs-in:checked ~ .xr-var-attrs,\n",
       ".xr-var-data-in:checked ~ .xr-var-data {\n",
       "  display: block;\n",
       "}\n",
       "\n",
       ".xr-var-data > table {\n",
       "  float: right;\n",
       "}\n",
       "\n",
       ".xr-var-name span,\n",
       ".xr-var-data,\n",
       ".xr-attrs {\n",
       "  padding-left: 25px !important;\n",
       "}\n",
       "\n",
       ".xr-attrs,\n",
       ".xr-var-attrs,\n",
       ".xr-var-data {\n",
       "  grid-column: 1 / -1;\n",
       "}\n",
       "\n",
       "dl.xr-attrs {\n",
       "  padding: 0;\n",
       "  margin: 0;\n",
       "  display: grid;\n",
       "  grid-template-columns: 125px auto;\n",
       "}\n",
       "\n",
       ".xr-attrs dt,\n",
       ".xr-attrs dd {\n",
       "  padding: 0;\n",
       "  margin: 0;\n",
       "  float: left;\n",
       "  padding-right: 10px;\n",
       "  width: auto;\n",
       "}\n",
       "\n",
       ".xr-attrs dt {\n",
       "  font-weight: normal;\n",
       "  grid-column: 1;\n",
       "}\n",
       "\n",
       ".xr-attrs dt:hover span {\n",
       "  display: inline-block;\n",
       "  background: var(--xr-background-color);\n",
       "  padding-right: 10px;\n",
       "}\n",
       "\n",
       ".xr-attrs dd {\n",
       "  grid-column: 2;\n",
       "  white-space: pre-wrap;\n",
       "  word-break: break-all;\n",
       "}\n",
       "\n",
       ".xr-icon-database,\n",
       ".xr-icon-file-text2 {\n",
       "  display: inline-block;\n",
       "  vertical-align: middle;\n",
       "  width: 1em;\n",
       "  height: 1.5em !important;\n",
       "  stroke-width: 0;\n",
       "  stroke: currentColor;\n",
       "  fill: currentColor;\n",
       "}\n",
       "</style><pre class='xr-text-repr-fallback'>&lt;xarray.Dataset&gt;\n",
       "Dimensions:  (time: 24, lon: 121, lat: 81, member: 10, step: 3)\n",
       "Coordinates:\n",
       "  * time     (time) datetime64[ns] 1993-01-01 1994-01-01 ... 2016-01-01\n",
       "  * lon      (lon) float32 120.0 121.0 122.0 123.0 ... 237.0 238.0 239.0 240.0\n",
       "  * lat      (lat) float32 -50.0 -49.0 -48.0 -47.0 -46.0 ... 27.0 28.0 29.0 30.0\n",
       "  * member   (member) int32 0 1 2 3 4 5 6 7 8 9\n",
       "  * step     (step) int64 3 4 5\n",
       "Data variables:\n",
       "    precip   (time, step, member, lat, lon) float64 dask.array&lt;chunksize=(24, 1, 10, 10, 10), meta=np.ndarray&gt;\n",
       "Attributes:\n",
       "    Conventions:  CF-1.6\n",
       "    history:      2022-01-17 01:18:32 GMT by grib_to_netcdf-2.23.0: /opt/ecmw...</pre><div class='xr-wrap' hidden><div class='xr-header'><div class='xr-obj-type'>xarray.Dataset</div></div><ul class='xr-sections'><li class='xr-section-item'><input id='section-98ca54a4-a0e2-4ceb-a39e-ee17d7a556fe' class='xr-section-summary-in' type='checkbox' disabled ><label for='section-98ca54a4-a0e2-4ceb-a39e-ee17d7a556fe' class='xr-section-summary'  title='Expand/collapse section'>Dimensions:</label><div class='xr-section-inline-details'><ul class='xr-dim-list'><li><span class='xr-has-index'>time</span>: 24</li><li><span class='xr-has-index'>lon</span>: 121</li><li><span class='xr-has-index'>lat</span>: 81</li><li><span class='xr-has-index'>member</span>: 10</li><li><span class='xr-has-index'>step</span>: 3</li></ul></div><div class='xr-section-details'></div></li><li class='xr-section-item'><input id='section-e288753d-6aa5-4353-a940-e431f6501492' class='xr-section-summary-in' type='checkbox'  checked><label for='section-e288753d-6aa5-4353-a940-e431f6501492' class='xr-section-summary' >Coordinates: <span>(5)</span></label><div class='xr-section-inline-details'></div><div class='xr-section-details'><ul class='xr-var-list'><li class='xr-var-item'><div class='xr-var-name'><span class='xr-has-index'>time</span></div><div class='xr-var-dims'>(time)</div><div class='xr-var-dtype'>datetime64[ns]</div><div class='xr-var-preview xr-preview'>1993-01-01 ... 2016-01-01</div><input id='attrs-f0c1c13e-e31b-4bd3-ab9b-b7dbc2c3d29d' class='xr-var-attrs-in' type='checkbox' disabled><label for='attrs-f0c1c13e-e31b-4bd3-ab9b-b7dbc2c3d29d' title='Show/Hide attributes'><svg class='icon xr-icon-file-text2'><use xlink:href='#icon-file-text2'></use></svg></label><input id='data-0f6bde0e-8bbb-4a0b-8a97-5ab31812010f' class='xr-var-data-in' type='checkbox'><label for='data-0f6bde0e-8bbb-4a0b-8a97-5ab31812010f' title='Show/Hide data repr'><svg class='icon xr-icon-database'><use xlink:href='#icon-database'></use></svg></label><div class='xr-var-attrs'><dl class='xr-attrs'></dl></div><div class='xr-var-data'><pre>array([&#x27;1993-01-01T00:00:00.000000000&#x27;, &#x27;1994-01-01T00:00:00.000000000&#x27;,\n",
       "       &#x27;1995-01-01T00:00:00.000000000&#x27;, &#x27;1996-01-01T00:00:00.000000000&#x27;,\n",
       "       &#x27;1997-01-01T00:00:00.000000000&#x27;, &#x27;1998-01-01T00:00:00.000000000&#x27;,\n",
       "       &#x27;1999-01-01T00:00:00.000000000&#x27;, &#x27;2000-01-01T00:00:00.000000000&#x27;,\n",
       "       &#x27;2001-01-01T00:00:00.000000000&#x27;, &#x27;2002-01-01T00:00:00.000000000&#x27;,\n",
       "       &#x27;2003-01-01T00:00:00.000000000&#x27;, &#x27;2004-01-01T00:00:00.000000000&#x27;,\n",
       "       &#x27;2005-01-01T00:00:00.000000000&#x27;, &#x27;2006-01-01T00:00:00.000000000&#x27;,\n",
       "       &#x27;2007-01-01T00:00:00.000000000&#x27;, &#x27;2008-01-01T00:00:00.000000000&#x27;,\n",
       "       &#x27;2009-01-01T00:00:00.000000000&#x27;, &#x27;2010-01-01T00:00:00.000000000&#x27;,\n",
       "       &#x27;2011-01-01T00:00:00.000000000&#x27;, &#x27;2012-01-01T00:00:00.000000000&#x27;,\n",
       "       &#x27;2013-01-01T00:00:00.000000000&#x27;, &#x27;2014-01-01T00:00:00.000000000&#x27;,\n",
       "       &#x27;2015-01-01T00:00:00.000000000&#x27;, &#x27;2016-01-01T00:00:00.000000000&#x27;],\n",
       "      dtype=&#x27;datetime64[ns]&#x27;)</pre></div></li><li class='xr-var-item'><div class='xr-var-name'><span class='xr-has-index'>lon</span></div><div class='xr-var-dims'>(lon)</div><div class='xr-var-dtype'>float32</div><div class='xr-var-preview xr-preview'>120.0 121.0 122.0 ... 239.0 240.0</div><input id='attrs-952471c4-ce11-4594-9960-f792cd3bab50' class='xr-var-attrs-in' type='checkbox' ><label for='attrs-952471c4-ce11-4594-9960-f792cd3bab50' title='Show/Hide attributes'><svg class='icon xr-icon-file-text2'><use xlink:href='#icon-file-text2'></use></svg></label><input id='data-2c790a50-a85d-4f3c-8d12-d6df68d8b960' class='xr-var-data-in' type='checkbox'><label for='data-2c790a50-a85d-4f3c-8d12-d6df68d8b960' title='Show/Hide data repr'><svg class='icon xr-icon-database'><use xlink:href='#icon-database'></use></svg></label><div class='xr-var-attrs'><dl class='xr-attrs'><dt><span>units :</span></dt><dd>degrees_east</dd><dt><span>long_name :</span></dt><dd>longitude</dd></dl></div><div class='xr-var-data'><pre>array([120., 121., 122., 123., 124., 125., 126., 127., 128., 129., 130., 131.,\n",
       "       132., 133., 134., 135., 136., 137., 138., 139., 140., 141., 142., 143.,\n",
       "       144., 145., 146., 147., 148., 149., 150., 151., 152., 153., 154., 155.,\n",
       "       156., 157., 158., 159., 160., 161., 162., 163., 164., 165., 166., 167.,\n",
       "       168., 169., 170., 171., 172., 173., 174., 175., 176., 177., 178., 179.,\n",
       "       180., 181., 182., 183., 184., 185., 186., 187., 188., 189., 190., 191.,\n",
       "       192., 193., 194., 195., 196., 197., 198., 199., 200., 201., 202., 203.,\n",
       "       204., 205., 206., 207., 208., 209., 210., 211., 212., 213., 214., 215.,\n",
       "       216., 217., 218., 219., 220., 221., 222., 223., 224., 225., 226., 227.,\n",
       "       228., 229., 230., 231., 232., 233., 234., 235., 236., 237., 238., 239.,\n",
       "       240.], dtype=float32)</pre></div></li><li class='xr-var-item'><div class='xr-var-name'><span class='xr-has-index'>lat</span></div><div class='xr-var-dims'>(lat)</div><div class='xr-var-dtype'>float32</div><div class='xr-var-preview xr-preview'>-50.0 -49.0 -48.0 ... 29.0 30.0</div><input id='attrs-205ea41c-264b-4aff-a2bc-03a83ef12a21' class='xr-var-attrs-in' type='checkbox' ><label for='attrs-205ea41c-264b-4aff-a2bc-03a83ef12a21' title='Show/Hide attributes'><svg class='icon xr-icon-file-text2'><use xlink:href='#icon-file-text2'></use></svg></label><input id='data-179af06f-78f8-46b3-9a96-80602fba7c6b' class='xr-var-data-in' type='checkbox'><label for='data-179af06f-78f8-46b3-9a96-80602fba7c6b' title='Show/Hide data repr'><svg class='icon xr-icon-database'><use xlink:href='#icon-database'></use></svg></label><div class='xr-var-attrs'><dl class='xr-attrs'><dt><span>units :</span></dt><dd>degrees_north</dd><dt><span>long_name :</span></dt><dd>latitude</dd></dl></div><div class='xr-var-data'><pre>array([-50., -49., -48., -47., -46., -45., -44., -43., -42., -41., -40., -39.,\n",
       "       -38., -37., -36., -35., -34., -33., -32., -31., -30., -29., -28., -27.,\n",
       "       -26., -25., -24., -23., -22., -21., -20., -19., -18., -17., -16., -15.,\n",
       "       -14., -13., -12., -11., -10.,  -9.,  -8.,  -7.,  -6.,  -5.,  -4.,  -3.,\n",
       "        -2.,  -1.,   0.,   1.,   2.,   3.,   4.,   5.,   6.,   7.,   8.,   9.,\n",
       "        10.,  11.,  12.,  13.,  14.,  15.,  16.,  17.,  18.,  19.,  20.,  21.,\n",
       "        22.,  23.,  24.,  25.,  26.,  27.,  28.,  29.,  30.], dtype=float32)</pre></div></li><li class='xr-var-item'><div class='xr-var-name'><span class='xr-has-index'>member</span></div><div class='xr-var-dims'>(member)</div><div class='xr-var-dtype'>int32</div><div class='xr-var-preview xr-preview'>0 1 2 3 4 5 6 7 8 9</div><input id='attrs-5bec2a2a-8992-405c-9a67-f6b3d6dc1944' class='xr-var-attrs-in' type='checkbox' ><label for='attrs-5bec2a2a-8992-405c-9a67-f6b3d6dc1944' title='Show/Hide attributes'><svg class='icon xr-icon-file-text2'><use xlink:href='#icon-file-text2'></use></svg></label><input id='data-b54ed73b-02bc-4f2f-8e46-3b8062277638' class='xr-var-data-in' type='checkbox'><label for='data-b54ed73b-02bc-4f2f-8e46-3b8062277638' title='Show/Hide data repr'><svg class='icon xr-icon-database'><use xlink:href='#icon-database'></use></svg></label><div class='xr-var-attrs'><dl class='xr-attrs'><dt><span>long_name :</span></dt><dd>ensemble_member</dd></dl></div><div class='xr-var-data'><pre>array([0, 1, 2, 3, 4, 5, 6, 7, 8, 9], dtype=int32)</pre></div></li><li class='xr-var-item'><div class='xr-var-name'><span class='xr-has-index'>step</span></div><div class='xr-var-dims'>(step)</div><div class='xr-var-dtype'>int64</div><div class='xr-var-preview xr-preview'>3 4 5</div><input id='attrs-46d67364-3174-4d9e-b126-d0910ad2defd' class='xr-var-attrs-in' type='checkbox' disabled><label for='attrs-46d67364-3174-4d9e-b126-d0910ad2defd' title='Show/Hide attributes'><svg class='icon xr-icon-file-text2'><use xlink:href='#icon-file-text2'></use></svg></label><input id='data-3a6e6b2c-e06b-4d0f-b1a1-8b7919659533' class='xr-var-data-in' type='checkbox'><label for='data-3a6e6b2c-e06b-4d0f-b1a1-8b7919659533' title='Show/Hide data repr'><svg class='icon xr-icon-database'><use xlink:href='#icon-database'></use></svg></label><div class='xr-var-attrs'><dl class='xr-attrs'></dl></div><div class='xr-var-data'><pre>array([3, 4, 5])</pre></div></li></ul></div></li><li class='xr-section-item'><input id='section-3566b061-4aa4-4ce6-9a17-787bbbed9a07' class='xr-section-summary-in' type='checkbox'  checked><label for='section-3566b061-4aa4-4ce6-9a17-787bbbed9a07' class='xr-section-summary' >Data variables: <span>(1)</span></label><div class='xr-section-inline-details'></div><div class='xr-section-details'><ul class='xr-var-list'><li class='xr-var-item'><div class='xr-var-name'><span>precip</span></div><div class='xr-var-dims'>(time, step, member, lat, lon)</div><div class='xr-var-dtype'>float64</div><div class='xr-var-preview xr-preview'>dask.array&lt;chunksize=(24, 1, 10, 10, 10), meta=np.ndarray&gt;</div><input id='attrs-18809a61-297e-43c2-a49c-0091caabe514' class='xr-var-attrs-in' type='checkbox' ><label for='attrs-18809a61-297e-43c2-a49c-0091caabe514' title='Show/Hide attributes'><svg class='icon xr-icon-file-text2'><use xlink:href='#icon-file-text2'></use></svg></label><input id='data-af8ff132-4e94-4f23-8e2c-fb69bf2ff1fe' class='xr-var-data-in' type='checkbox'><label for='data-af8ff132-4e94-4f23-8e2c-fb69bf2ff1fe' title='Show/Hide data repr'><svg class='icon xr-icon-database'><use xlink:href='#icon-database'></use></svg></label><div class='xr-var-attrs'><dl class='xr-attrs'><dt><span>units :</span></dt><dd>mm/month</dd></dl></div><div class='xr-var-data'><table>\n",
       "    <tr>\n",
       "        <td>\n",
       "            <table>\n",
       "                <thead>\n",
       "                    <tr>\n",
       "                        <td> </td>\n",
       "                        <th> Array </th>\n",
       "                        <th> Chunk </th>\n",
       "                    </tr>\n",
       "                </thead>\n",
       "                <tbody>\n",
       "                    \n",
       "                    <tr>\n",
       "                        <th> Bytes </th>\n",
       "                        <td> 53.84 MiB </td>\n",
       "                        <td> 187.50 kiB </td>\n",
       "                    </tr>\n",
       "                    \n",
       "                    <tr>\n",
       "                        <th> Shape </th>\n",
       "                        <td> (24, 3, 10, 81, 121) </td>\n",
       "                        <td> (24, 1, 10, 10, 10) </td>\n",
       "                    </tr>\n",
       "                    <tr>\n",
       "                        <th> Count </th>\n",
       "                        <td> 1686 Tasks </td>\n",
       "                        <td> 351 Chunks </td>\n",
       "                    </tr>\n",
       "                    <tr>\n",
       "                    <th> Type </th>\n",
       "                    <td> float64 </td>\n",
       "                    <td> numpy.ndarray </td>\n",
       "                    </tr>\n",
       "                </tbody>\n",
       "            </table>\n",
       "        </td>\n",
       "        <td>\n",
       "        <svg width=\"392\" height=\"152\" style=\"stroke:rgb(0,0,0);stroke-width:1\" >\n",
       "\n",
       "  <!-- Horizontal lines -->\n",
       "  <line x1=\"0\" y1=\"0\" x2=\"30\" y2=\"0\" style=\"stroke-width:2\" />\n",
       "  <line x1=\"0\" y1=\"41\" x2=\"30\" y2=\"41\" style=\"stroke-width:2\" />\n",
       "\n",
       "  <!-- Vertical lines -->\n",
       "  <line x1=\"0\" y1=\"0\" x2=\"0\" y2=\"41\" style=\"stroke-width:2\" />\n",
       "  <line x1=\"10\" y1=\"0\" x2=\"10\" y2=\"41\" />\n",
       "  <line x1=\"20\" y1=\"0\" x2=\"20\" y2=\"41\" />\n",
       "  <line x1=\"30\" y1=\"0\" x2=\"30\" y2=\"41\" style=\"stroke-width:2\" />\n",
       "\n",
       "  <!-- Colored Rectangle -->\n",
       "  <polygon points=\"0.0,0.0 30.26292606701685,0.0 30.26292606701685,41.974744095238016 0.0,41.974744095238016\" style=\"fill:#ECB172A0;stroke-width:0\"/>\n",
       "\n",
       "  <!-- Text -->\n",
       "  <text x=\"15.131463\" y=\"61.974744\" font-size=\"1.0rem\" font-weight=\"100\" text-anchor=\"middle\" >3</text>\n",
       "  <text x=\"50.262926\" y=\"20.987372\" font-size=\"1.0rem\" font-weight=\"100\" text-anchor=\"middle\" transform=\"rotate(0,50.262926,20.987372)\">24</text>\n",
       "\n",
       "\n",
       "  <!-- Horizontal lines -->\n",
       "  <line x1=\"100\" y1=\"0\" x2=\"122\" y2=\"22\" style=\"stroke-width:2\" />\n",
       "  <line x1=\"100\" y1=\"9\" x2=\"122\" y2=\"31\" />\n",
       "  <line x1=\"100\" y1=\"19\" x2=\"122\" y2=\"41\" />\n",
       "  <line x1=\"100\" y1=\"29\" x2=\"122\" y2=\"51\" />\n",
       "  <line x1=\"100\" y1=\"39\" x2=\"122\" y2=\"61\" />\n",
       "  <line x1=\"100\" y1=\"49\" x2=\"122\" y2=\"71\" />\n",
       "  <line x1=\"100\" y1=\"59\" x2=\"122\" y2=\"81\" />\n",
       "  <line x1=\"100\" y1=\"69\" x2=\"122\" y2=\"91\" />\n",
       "  <line x1=\"100\" y1=\"79\" x2=\"122\" y2=\"101\" />\n",
       "  <line x1=\"100\" y1=\"80\" x2=\"122\" y2=\"102\" style=\"stroke-width:2\" />\n",
       "\n",
       "  <!-- Vertical lines -->\n",
       "  <line x1=\"100\" y1=\"0\" x2=\"100\" y2=\"80\" style=\"stroke-width:2\" />\n",
       "  <line x1=\"122\" y1=\"22\" x2=\"122\" y2=\"102\" style=\"stroke-width:2\" />\n",
       "\n",
       "  <!-- Colored Rectangle -->\n",
       "  <polygon points=\"100.0,0.0 122.06797403173512,22.06797403173512 122.06797403173512,102.39855254413182 100.0,80.3305785123967\" style=\"fill:#ECB172A0;stroke-width:0\"/>\n",
       "\n",
       "  <!-- Horizontal lines -->\n",
       "  <line x1=\"100\" y1=\"0\" x2=\"220\" y2=\"0\" style=\"stroke-width:2\" />\n",
       "  <line x1=\"122\" y1=\"22\" x2=\"242\" y2=\"22\" style=\"stroke-width:2\" />\n",
       "\n",
       "  <!-- Vertical lines -->\n",
       "  <line x1=\"100\" y1=\"0\" x2=\"122\" y2=\"22\" style=\"stroke-width:2\" />\n",
       "  <line x1=\"109\" y1=\"0\" x2=\"131\" y2=\"22\" />\n",
       "  <line x1=\"119\" y1=\"0\" x2=\"141\" y2=\"22\" />\n",
       "  <line x1=\"129\" y1=\"0\" x2=\"151\" y2=\"22\" />\n",
       "  <line x1=\"139\" y1=\"0\" x2=\"161\" y2=\"22\" />\n",
       "  <line x1=\"149\" y1=\"0\" x2=\"171\" y2=\"22\" />\n",
       "  <line x1=\"159\" y1=\"0\" x2=\"181\" y2=\"22\" />\n",
       "  <line x1=\"169\" y1=\"0\" x2=\"191\" y2=\"22\" />\n",
       "  <line x1=\"179\" y1=\"0\" x2=\"201\" y2=\"22\" />\n",
       "  <line x1=\"189\" y1=\"0\" x2=\"211\" y2=\"22\" />\n",
       "  <line x1=\"199\" y1=\"0\" x2=\"221\" y2=\"22\" />\n",
       "  <line x1=\"209\" y1=\"0\" x2=\"231\" y2=\"22\" />\n",
       "  <line x1=\"219\" y1=\"0\" x2=\"241\" y2=\"22\" />\n",
       "  <line x1=\"220\" y1=\"0\" x2=\"242\" y2=\"22\" style=\"stroke-width:2\" />\n",
       "\n",
       "  <!-- Colored Rectangle -->\n",
       "  <polygon points=\"100.0,0.0 220.0,0.0 242.0679740317351,22.06797403173512 122.06797403173512,22.06797403173512\" style=\"fill:#ECB172A0;stroke-width:0\"/>\n",
       "\n",
       "  <!-- Horizontal lines -->\n",
       "  <line x1=\"122\" y1=\"22\" x2=\"242\" y2=\"22\" style=\"stroke-width:2\" />\n",
       "  <line x1=\"122\" y1=\"31\" x2=\"242\" y2=\"31\" />\n",
       "  <line x1=\"122\" y1=\"41\" x2=\"242\" y2=\"41\" />\n",
       "  <line x1=\"122\" y1=\"51\" x2=\"242\" y2=\"51\" />\n",
       "  <line x1=\"122\" y1=\"61\" x2=\"242\" y2=\"61\" />\n",
       "  <line x1=\"122\" y1=\"71\" x2=\"242\" y2=\"71\" />\n",
       "  <line x1=\"122\" y1=\"81\" x2=\"242\" y2=\"81\" />\n",
       "  <line x1=\"122\" y1=\"91\" x2=\"242\" y2=\"91\" />\n",
       "  <line x1=\"122\" y1=\"101\" x2=\"242\" y2=\"101\" />\n",
       "  <line x1=\"122\" y1=\"102\" x2=\"242\" y2=\"102\" style=\"stroke-width:2\" />\n",
       "\n",
       "  <!-- Vertical lines -->\n",
       "  <line x1=\"122\" y1=\"22\" x2=\"122\" y2=\"102\" style=\"stroke-width:2\" />\n",
       "  <line x1=\"131\" y1=\"22\" x2=\"131\" y2=\"102\" />\n",
       "  <line x1=\"141\" y1=\"22\" x2=\"141\" y2=\"102\" />\n",
       "  <line x1=\"151\" y1=\"22\" x2=\"151\" y2=\"102\" />\n",
       "  <line x1=\"161\" y1=\"22\" x2=\"161\" y2=\"102\" />\n",
       "  <line x1=\"171\" y1=\"22\" x2=\"171\" y2=\"102\" />\n",
       "  <line x1=\"181\" y1=\"22\" x2=\"181\" y2=\"102\" />\n",
       "  <line x1=\"191\" y1=\"22\" x2=\"191\" y2=\"102\" />\n",
       "  <line x1=\"201\" y1=\"22\" x2=\"201\" y2=\"102\" />\n",
       "  <line x1=\"211\" y1=\"22\" x2=\"211\" y2=\"102\" />\n",
       "  <line x1=\"221\" y1=\"22\" x2=\"221\" y2=\"102\" />\n",
       "  <line x1=\"231\" y1=\"22\" x2=\"231\" y2=\"102\" />\n",
       "  <line x1=\"241\" y1=\"22\" x2=\"241\" y2=\"102\" />\n",
       "  <line x1=\"242\" y1=\"22\" x2=\"242\" y2=\"102\" style=\"stroke-width:2\" />\n",
       "\n",
       "  <!-- Colored Rectangle -->\n",
       "  <polygon points=\"122.06797403173512,22.06797403173512 242.0679740317351,22.06797403173512 242.0679740317351,102.39855254413182 122.06797403173512,102.39855254413182\" style=\"fill:#ECB172A0;stroke-width:0\"/>\n",
       "\n",
       "  <!-- Text -->\n",
       "  <text x=\"182.067974\" y=\"122.398553\" font-size=\"1.0rem\" font-weight=\"100\" text-anchor=\"middle\" >121</text>\n",
       "  <text x=\"262.067974\" y=\"62.233263\" font-size=\"1.0rem\" font-weight=\"100\" text-anchor=\"middle\" transform=\"rotate(0,262.067974,62.233263)\">81</text>\n",
       "  <text x=\"101.033987\" y=\"111.364566\" font-size=\"1.0rem\" font-weight=\"100\" text-anchor=\"middle\" transform=\"rotate(45,101.033987,111.364566)\">10</text>\n",
       "</svg>\n",
       "        </td>\n",
       "    </tr>\n",
       "</table></div></li></ul></div></li><li class='xr-section-item'><input id='section-2c6cd2c7-707a-4d98-9e61-c49615b15d2b' class='xr-section-summary-in' type='checkbox'  checked><label for='section-2c6cd2c7-707a-4d98-9e61-c49615b15d2b' class='xr-section-summary' >Attributes: <span>(2)</span></label><div class='xr-section-inline-details'></div><div class='xr-section-details'><dl class='xr-attrs'><dt><span>Conventions :</span></dt><dd>CF-1.6</dd><dt><span>history :</span></dt><dd>2022-01-17 01:18:32 GMT by grib_to_netcdf-2.23.0: /opt/ecmwf/mars-client/bin/grib_to_netcdf -S param -o /cache/data9/adaptor.mars.external-1642382312.3304288-26188-15-977b7ec2-7131-47c1-a4aa-8ee7f599371f.nc /cache/tmp/977b7ec2-7131-47c1-a4aa-8ee7f599371f-adaptor.mars.external-1642382309.7993078-26188-23-tmp.grib</dd></dl></div></li></ul></div></div>"
      ],
      "text/plain": [
       "<xarray.Dataset>\n",
       "Dimensions:  (time: 24, lon: 121, lat: 81, member: 10, step: 3)\n",
       "Coordinates:\n",
       "  * time     (time) datetime64[ns] 1993-01-01 1994-01-01 ... 2016-01-01\n",
       "  * lon      (lon) float32 120.0 121.0 122.0 123.0 ... 237.0 238.0 239.0 240.0\n",
       "  * lat      (lat) float32 -50.0 -49.0 -48.0 -47.0 -46.0 ... 27.0 28.0 29.0 30.0\n",
       "  * member   (member) int32 0 1 2 3 4 5 6 7 8 9\n",
       "  * step     (step) int64 3 4 5\n",
       "Data variables:\n",
       "    precip   (time, step, member, lat, lon) float64 dask.array<chunksize=(24, 1, 10, 10, 10), meta=np.ndarray>\n",
       "Attributes:\n",
       "    Conventions:  CF-1.6\n",
       "    history:      2022-01-17 01:18:32 GMT by grib_to_netcdf-2.23.0: /opt/ecmw..."
      ]
     },
     "execution_count": 43,
     "metadata": {},
     "output_type": "execute_result"
    }
   ],
   "source": [
    "dset"
   ]
  },
  {
   "cell_type": "markdown",
   "id": "13ed01c1-f131-496e-b26b-ed795cc0e632",
   "metadata": {
    "papermill": {
     "duration": 0.025273,
     "end_time": "2022-01-17T19:11:55.244889",
     "exception": false,
     "start_time": "2022-01-17T19:11:55.219616",
     "status": "completed"
    },
    "tags": []
   },
   "source": [
    "### uncomment the following for visual inspection of the hindcasts "
   ]
  },
  {
   "cell_type": "code",
   "execution_count": 44,
   "id": "14ecb4f9-ff39-483b-9221-58be9ac10a79",
   "metadata": {
    "execution": {
     "iopub.execute_input": "2022-01-17T19:11:55.296106Z",
     "iopub.status.busy": "2022-01-17T19:11:55.295733Z",
     "iopub.status.idle": "2022-01-17T19:11:55.309384Z",
     "shell.execute_reply": "2022-01-17T19:11:55.309630Z"
    },
    "papermill": {
     "duration": 0.040702,
     "end_time": "2022-01-17T19:11:55.309747",
     "exception": false,
     "start_time": "2022-01-17T19:11:55.269045",
     "status": "completed"
    },
    "tags": []
   },
   "outputs": [],
   "source": [
    "# for t in range(24): \n",
    "#     for s in range(5): \n",
    "#         fg = dset.isel(time=t, step=s)['precip'].plot(vmax=1000., col='member', col_wrap=5)\n",
    "#         fg.fig.savefig(f'./tmp/JMA_hindcast_t_{t}_s_{s}.png', dpi=200, bbox_inches='tight', facecolor='w')\n",
    "#         plt.close(fg.fig)"
   ]
  },
  {
   "cell_type": "markdown",
   "id": "b6c38ca6-b0f1-4f3b-b742-b7a1baa5ea42",
   "metadata": {
    "papermill": {
     "duration": 0.025349,
     "end_time": "2022-01-17T19:11:55.360056",
     "exception": false,
     "start_time": "2022-01-17T19:11:55.334707",
     "status": "completed"
    },
    "tags": []
   },
   "source": [
    "### stack the time and members "
   ]
  },
  {
   "cell_type": "code",
   "execution_count": 45,
   "id": "694b4d5a-c61e-4085-a446-4ec88ece7853",
   "metadata": {
    "execution": {
     "iopub.execute_input": "2022-01-17T19:11:55.412306Z",
     "iopub.status.busy": "2022-01-17T19:11:55.411975Z",
     "iopub.status.idle": "2022-01-17T19:11:55.427424Z",
     "shell.execute_reply": "2022-01-17T19:11:55.427678Z"
    },
    "papermill": {
     "duration": 0.043001,
     "end_time": "2022-01-17T19:11:55.427797",
     "exception": false,
     "start_time": "2022-01-17T19:11:55.384796",
     "status": "completed"
    },
    "tags": []
   },
   "outputs": [],
   "source": [
    "clim = dset.stack(instance=('time','member'))"
   ]
  },
  {
   "cell_type": "code",
   "execution_count": 46,
   "id": "353e977d-10d0-416f-8bf4-fc91e64f5f19",
   "metadata": {
    "execution": {
     "iopub.execute_input": "2022-01-17T19:11:55.481641Z",
     "iopub.status.busy": "2022-01-17T19:11:55.481316Z",
     "iopub.status.idle": "2022-01-17T19:11:55.963446Z",
     "shell.execute_reply": "2022-01-17T19:11:55.963735Z"
    },
    "papermill": {
     "duration": 0.510345,
     "end_time": "2022-01-17T19:11:55.963854",
     "exception": false,
     "start_time": "2022-01-17T19:11:55.453509",
     "status": "completed"
    },
    "tags": []
   },
   "outputs": [
    {
     "name": "stdout",
     "output_type": "stream",
     "text": [
      "The seasonal hindcast climatologies from month 1 in ECCC_GEM_NEMO will be calculated using 240 instances\n",
      "\n"
     ]
    }
   ],
   "source": [
    "# drop the eventual missing instances (due to sometimes inconsistent number of members)\n",
    "clim = clim.dropna(dim='instance')\n",
    "\n",
    "# rechunk so that we have a continuous instance dimension \n",
    "clim = clim.chunk({'instance':-1})\n",
    "\n",
    "# number of instances for the calculation of the quantiles climatologies, will be added to the dataset for record-keeping \n",
    "n_instances = len(clim['instance'])\n",
    "\n",
    "# print \n",
    "print(f\"The {period} hindcast climatologies from month {initial_month} in {GCM} will be calculated using {n_instances} instances\\n\")\n",
    "\n",
    "# now loop over the quantiles dictionnary, calculates the climatological quantiles, do some \n",
    "# data munging, and saves to disk \n"
   ]
  },
  {
   "cell_type": "code",
   "execution_count": 47,
   "id": "bf9027d9-2079-468f-a496-e1540fb7b9a9",
   "metadata": {
    "execution": {
     "iopub.execute_input": "2022-01-17T19:11:56.019429Z",
     "iopub.status.busy": "2022-01-17T19:11:56.019091Z",
     "iopub.status.idle": "2022-01-17T19:12:12.710043Z",
     "shell.execute_reply": "2022-01-17T19:12:12.708730Z"
    },
    "papermill": {
     "duration": 16.720551,
     "end_time": "2022-01-17T19:12:12.710402",
     "exception": false,
     "start_time": "2022-01-17T19:11:55.989851",
     "status": "completed"
    },
    "tags": []
   },
   "outputs": [
    {
     "name": "stdout",
     "output_type": "stream",
     "text": [
      "tercile climatology\n",
      "\n",
      "\r",
      "[                                        ] | 0% Completed |  0.0s"
     ]
    },
    {
     "name": "stdout",
     "output_type": "stream",
     "text": [
      "\r",
      "[#######                                 ] | 19% Completed |  0.1s"
     ]
    },
    {
     "name": "stdout",
     "output_type": "stream",
     "text": [
      "\r",
      "[################                        ] | 40% Completed |  0.2s"
     ]
    },
    {
     "name": "stdout",
     "output_type": "stream",
     "text": [
      "\r",
      "[###################                     ] | 48% Completed |  0.3s"
     ]
    },
    {
     "name": "stdout",
     "output_type": "stream",
     "text": [
      "\r",
      "[###################                     ] | 49% Completed |  0.4s"
     ]
    },
    {
     "name": "stdout",
     "output_type": "stream",
     "text": [
      "\r",
      "[####################                    ] | 50% Completed |  0.5s"
     ]
    },
    {
     "name": "stdout",
     "output_type": "stream",
     "text": [
      "\r",
      "[#####################                   ] | 52% Completed |  0.6s"
     ]
    },
    {
     "name": "stdout",
     "output_type": "stream",
     "text": [
      "\r",
      "[#####################                   ] | 54% Completed |  0.7s"
     ]
    },
    {
     "name": "stdout",
     "output_type": "stream",
     "text": [
      "\r",
      "[######################                  ] | 55% Completed |  0.8s"
     ]
    },
    {
     "name": "stdout",
     "output_type": "stream",
     "text": [
      "\r",
      "[######################                  ] | 56% Completed |  0.9s"
     ]
    },
    {
     "name": "stdout",
     "output_type": "stream",
     "text": [
      "\r",
      "[#######################                 ] | 58% Completed |  1.1s"
     ]
    },
    {
     "name": "stdout",
     "output_type": "stream",
     "text": [
      "\r",
      "[#######################                 ] | 59% Completed |  1.2s"
     ]
    },
    {
     "name": "stdout",
     "output_type": "stream",
     "text": [
      "\r",
      "[########################                ] | 61% Completed |  1.3s"
     ]
    },
    {
     "name": "stdout",
     "output_type": "stream",
     "text": [
      "\r",
      "[#########################               ] | 63% Completed |  1.4s"
     ]
    },
    {
     "name": "stdout",
     "output_type": "stream",
     "text": [
      "\r",
      "[#########################               ] | 64% Completed |  1.5s"
     ]
    },
    {
     "name": "stdout",
     "output_type": "stream",
     "text": [
      "\r",
      "[##########################              ] | 66% Completed |  1.6s"
     ]
    },
    {
     "name": "stdout",
     "output_type": "stream",
     "text": [
      "\r",
      "[###########################             ] | 68% Completed |  1.7s"
     ]
    },
    {
     "name": "stdout",
     "output_type": "stream",
     "text": [
      "\r",
      "[###########################             ] | 69% Completed |  1.8s"
     ]
    },
    {
     "name": "stdout",
     "output_type": "stream",
     "text": [
      "\r",
      "[############################            ] | 70% Completed |  1.9s"
     ]
    },
    {
     "name": "stdout",
     "output_type": "stream",
     "text": [
      "\r",
      "[############################            ] | 72% Completed |  2.0s"
     ]
    },
    {
     "name": "stdout",
     "output_type": "stream",
     "text": [
      "\r",
      "[#############################           ] | 73% Completed |  2.1s"
     ]
    },
    {
     "name": "stdout",
     "output_type": "stream",
     "text": [
      "\r",
      "[#############################           ] | 74% Completed |  2.2s"
     ]
    },
    {
     "name": "stdout",
     "output_type": "stream",
     "text": [
      "\r",
      "[##############################          ] | 76% Completed |  2.3s"
     ]
    },
    {
     "name": "stdout",
     "output_type": "stream",
     "text": [
      "\r",
      "[###############################         ] | 77% Completed |  2.4s"
     ]
    },
    {
     "name": "stdout",
     "output_type": "stream",
     "text": [
      "\r",
      "[###############################         ] | 79% Completed |  2.5s"
     ]
    },
    {
     "name": "stdout",
     "output_type": "stream",
     "text": [
      "\r",
      "[################################        ] | 80% Completed |  2.6s"
     ]
    },
    {
     "name": "stdout",
     "output_type": "stream",
     "text": [
      "\r",
      "[################################        ] | 82% Completed |  2.7s"
     ]
    },
    {
     "name": "stdout",
     "output_type": "stream",
     "text": [
      "\r",
      "[#################################       ] | 83% Completed |  2.8s"
     ]
    },
    {
     "name": "stdout",
     "output_type": "stream",
     "text": [
      "\r",
      "[#################################       ] | 84% Completed |  2.9s"
     ]
    },
    {
     "name": "stdout",
     "output_type": "stream",
     "text": [
      "\r",
      "[##################################      ] | 86% Completed |  3.0s"
     ]
    },
    {
     "name": "stdout",
     "output_type": "stream",
     "text": [
      "\r",
      "[###################################     ] | 88% Completed |  3.1s"
     ]
    },
    {
     "name": "stdout",
     "output_type": "stream",
     "text": [
      "\r",
      "[###################################     ] | 89% Completed |  3.2s"
     ]
    },
    {
     "name": "stdout",
     "output_type": "stream",
     "text": [
      "\r",
      "[####################################    ] | 91% Completed |  3.3s"
     ]
    },
    {
     "name": "stdout",
     "output_type": "stream",
     "text": [
      "\r",
      "[#####################################   ] | 92% Completed |  3.4s"
     ]
    },
    {
     "name": "stdout",
     "output_type": "stream",
     "text": [
      "\r",
      "[#####################################   ] | 94% Completed |  3.5s"
     ]
    },
    {
     "name": "stdout",
     "output_type": "stream",
     "text": [
      "\r",
      "[######################################  ] | 95% Completed |  3.6s"
     ]
    },
    {
     "name": "stdout",
     "output_type": "stream",
     "text": [
      "\r",
      "[######################################  ] | 97% Completed |  3.8s"
     ]
    },
    {
     "name": "stdout",
     "output_type": "stream",
     "text": [
      "\r",
      "[####################################### ] | 98% Completed |  3.9s"
     ]
    },
    {
     "name": "stdout",
     "output_type": "stream",
     "text": [
      "\r",
      "[########################################] | 100% Completed |  4.0s"
     ]
    },
    {
     "name": "stdout",
     "output_type": "stream",
     "text": [
      "\n"
     ]
    },
    {
     "name": "stdout",
     "output_type": "stream",
     "text": [
      "Successfully saved /media/nicolasf/END19101/ICU/data/CDS/operational/hindcasts/CLIMATOLOGY/ECCC_GEM_NEMO/ECCC_GEM_NEMO_seasonal_tercile_climatology_01.netcdf\n",
      "\n",
      "decile climatology\n",
      "\n"
     ]
    },
    {
     "name": "stdout",
     "output_type": "stream",
     "text": [
      "\r",
      "[                                        ] | 0% Completed |  0.0s"
     ]
    },
    {
     "name": "stdout",
     "output_type": "stream",
     "text": [
      "\r",
      "[#######                                 ] | 18% Completed |  0.1s"
     ]
    },
    {
     "name": "stdout",
     "output_type": "stream",
     "text": [
      "\r",
      "[###############                         ] | 38% Completed |  0.2s"
     ]
    },
    {
     "name": "stdout",
     "output_type": "stream",
     "text": [
      "\r",
      "[###################                     ] | 48% Completed |  0.3s"
     ]
    },
    {
     "name": "stdout",
     "output_type": "stream",
     "text": [
      "\r",
      "[###################                     ] | 49% Completed |  0.4s"
     ]
    },
    {
     "name": "stdout",
     "output_type": "stream",
     "text": [
      "\r",
      "[####################                    ] | 50% Completed |  0.5s"
     ]
    },
    {
     "name": "stdout",
     "output_type": "stream",
     "text": [
      "\r",
      "[#####################                   ] | 53% Completed |  0.6s"
     ]
    },
    {
     "name": "stdout",
     "output_type": "stream",
     "text": [
      "\r",
      "[#####################                   ] | 53% Completed |  0.7s"
     ]
    },
    {
     "name": "stdout",
     "output_type": "stream",
     "text": [
      "\r",
      "[######################                  ] | 55% Completed |  0.8s"
     ]
    },
    {
     "name": "stdout",
     "output_type": "stream",
     "text": [
      "\r",
      "[#######################                 ] | 57% Completed |  0.9s"
     ]
    },
    {
     "name": "stdout",
     "output_type": "stream",
     "text": [
      "\r",
      "[#######################                 ] | 58% Completed |  1.0s"
     ]
    },
    {
     "name": "stdout",
     "output_type": "stream",
     "text": [
      "\r",
      "[########################                ] | 60% Completed |  1.1s"
     ]
    },
    {
     "name": "stdout",
     "output_type": "stream",
     "text": [
      "\r",
      "[########################                ] | 61% Completed |  1.3s"
     ]
    },
    {
     "name": "stdout",
     "output_type": "stream",
     "text": [
      "\r",
      "[#########################               ] | 63% Completed |  1.4s"
     ]
    },
    {
     "name": "stdout",
     "output_type": "stream",
     "text": [
      "\r",
      "[#########################               ] | 64% Completed |  1.5s"
     ]
    },
    {
     "name": "stdout",
     "output_type": "stream",
     "text": [
      "\r",
      "[##########################              ] | 66% Completed |  1.6s"
     ]
    },
    {
     "name": "stdout",
     "output_type": "stream",
     "text": [
      "\r",
      "[###########################             ] | 67% Completed |  1.7s"
     ]
    },
    {
     "name": "stdout",
     "output_type": "stream",
     "text": [
      "\r",
      "[###########################             ] | 68% Completed |  1.8s"
     ]
    },
    {
     "name": "stdout",
     "output_type": "stream",
     "text": [
      "\r",
      "[############################            ] | 70% Completed |  1.9s"
     ]
    },
    {
     "name": "stdout",
     "output_type": "stream",
     "text": [
      "\r",
      "[############################            ] | 71% Completed |  2.0s"
     ]
    },
    {
     "name": "stdout",
     "output_type": "stream",
     "text": [
      "\r",
      "[#############################           ] | 73% Completed |  2.1s"
     ]
    },
    {
     "name": "stdout",
     "output_type": "stream",
     "text": [
      "\r",
      "[#############################           ] | 74% Completed |  2.2s"
     ]
    },
    {
     "name": "stdout",
     "output_type": "stream",
     "text": [
      "\r",
      "[##############################          ] | 76% Completed |  2.3s"
     ]
    },
    {
     "name": "stdout",
     "output_type": "stream",
     "text": [
      "\r",
      "[###############################         ] | 77% Completed |  2.4s"
     ]
    },
    {
     "name": "stdout",
     "output_type": "stream",
     "text": [
      "\r",
      "[###############################         ] | 79% Completed |  2.5s"
     ]
    },
    {
     "name": "stdout",
     "output_type": "stream",
     "text": [
      "\r",
      "[################################        ] | 81% Completed |  2.6s"
     ]
    },
    {
     "name": "stdout",
     "output_type": "stream",
     "text": [
      "\r",
      "[################################        ] | 82% Completed |  2.7s"
     ]
    },
    {
     "name": "stdout",
     "output_type": "stream",
     "text": [
      "\r",
      "[#################################       ] | 83% Completed |  2.8s"
     ]
    },
    {
     "name": "stdout",
     "output_type": "stream",
     "text": [
      "\r",
      "[##################################      ] | 85% Completed |  2.9s"
     ]
    },
    {
     "name": "stdout",
     "output_type": "stream",
     "text": [
      "\r",
      "[##################################      ] | 86% Completed |  3.0s"
     ]
    },
    {
     "name": "stdout",
     "output_type": "stream",
     "text": [
      "\r",
      "[###################################     ] | 88% Completed |  3.1s"
     ]
    },
    {
     "name": "stdout",
     "output_type": "stream",
     "text": [
      "\r",
      "[###################################     ] | 89% Completed |  3.2s"
     ]
    },
    {
     "name": "stdout",
     "output_type": "stream",
     "text": [
      "\r",
      "[####################################    ] | 91% Completed |  3.3s"
     ]
    },
    {
     "name": "stdout",
     "output_type": "stream",
     "text": [
      "\r",
      "[#####################################   ] | 92% Completed |  3.5s"
     ]
    },
    {
     "name": "stdout",
     "output_type": "stream",
     "text": [
      "\r",
      "[#####################################   ] | 94% Completed |  3.6s"
     ]
    },
    {
     "name": "stdout",
     "output_type": "stream",
     "text": [
      "\r",
      "[######################################  ] | 95% Completed |  3.7s"
     ]
    },
    {
     "name": "stdout",
     "output_type": "stream",
     "text": [
      "\r",
      "[######################################  ] | 96% Completed |  3.8s"
     ]
    },
    {
     "name": "stdout",
     "output_type": "stream",
     "text": [
      "\r",
      "[####################################### ] | 98% Completed |  3.9s"
     ]
    },
    {
     "name": "stdout",
     "output_type": "stream",
     "text": [
      "\r",
      "[########################################] | 100% Completed |  4.0s"
     ]
    },
    {
     "name": "stdout",
     "output_type": "stream",
     "text": [
      "\n"
     ]
    },
    {
     "name": "stdout",
     "output_type": "stream",
     "text": [
      "Successfully saved /media/nicolasf/END19101/ICU/data/CDS/operational/hindcasts/CLIMATOLOGY/ECCC_GEM_NEMO/ECCC_GEM_NEMO_seasonal_decile_climatology_01.netcdf\n",
      "\n",
      "quartile climatology\n",
      "\n"
     ]
    },
    {
     "name": "stdout",
     "output_type": "stream",
     "text": [
      "\r",
      "[                                        ] | 0% Completed |  0.0s"
     ]
    },
    {
     "name": "stdout",
     "output_type": "stream",
     "text": [
      "\r",
      "[########                                ] | 20% Completed |  0.1s"
     ]
    },
    {
     "name": "stdout",
     "output_type": "stream",
     "text": [
      "\r",
      "[#################                       ] | 42% Completed |  0.2s"
     ]
    },
    {
     "name": "stdout",
     "output_type": "stream",
     "text": [
      "\r",
      "[###################                     ] | 48% Completed |  0.3s"
     ]
    },
    {
     "name": "stdout",
     "output_type": "stream",
     "text": [
      "\r",
      "[####################                    ] | 50% Completed |  0.4s"
     ]
    },
    {
     "name": "stdout",
     "output_type": "stream",
     "text": [
      "\r",
      "[####################                    ] | 51% Completed |  0.5s"
     ]
    },
    {
     "name": "stdout",
     "output_type": "stream",
     "text": [
      "\r",
      "[#####################                   ] | 52% Completed |  0.6s"
     ]
    },
    {
     "name": "stdout",
     "output_type": "stream",
     "text": [
      "\r",
      "[#####################                   ] | 54% Completed |  0.7s"
     ]
    },
    {
     "name": "stdout",
     "output_type": "stream",
     "text": [
      "\r",
      "[######################                  ] | 55% Completed |  0.8s"
     ]
    },
    {
     "name": "stdout",
     "output_type": "stream",
     "text": [
      "\r",
      "[######################                  ] | 56% Completed |  0.9s"
     ]
    },
    {
     "name": "stdout",
     "output_type": "stream",
     "text": [
      "\r",
      "[#######################                 ] | 58% Completed |  1.0s"
     ]
    },
    {
     "name": "stdout",
     "output_type": "stream",
     "text": [
      "\r",
      "[#######################                 ] | 59% Completed |  1.1s"
     ]
    },
    {
     "name": "stdout",
     "output_type": "stream",
     "text": [
      "\r",
      "[########################                ] | 61% Completed |  1.3s"
     ]
    },
    {
     "name": "stdout",
     "output_type": "stream",
     "text": [
      "\r",
      "[#########################               ] | 62% Completed |  1.4s"
     ]
    },
    {
     "name": "stdout",
     "output_type": "stream",
     "text": [
      "\r",
      "[#########################               ] | 64% Completed |  1.5s"
     ]
    },
    {
     "name": "stdout",
     "output_type": "stream",
     "text": [
      "\r",
      "[##########################              ] | 66% Completed |  1.6s"
     ]
    },
    {
     "name": "stdout",
     "output_type": "stream",
     "text": [
      "\r",
      "[##########################              ] | 67% Completed |  1.7s"
     ]
    },
    {
     "name": "stdout",
     "output_type": "stream",
     "text": [
      "\r",
      "[###########################             ] | 69% Completed |  1.8s"
     ]
    },
    {
     "name": "stdout",
     "output_type": "stream",
     "text": [
      "\r",
      "[############################            ] | 71% Completed |  1.9s"
     ]
    },
    {
     "name": "stdout",
     "output_type": "stream",
     "text": [
      "\r",
      "[############################            ] | 71% Completed |  2.0s"
     ]
    },
    {
     "name": "stdout",
     "output_type": "stream",
     "text": [
      "\r",
      "[#############################           ] | 73% Completed |  2.1s"
     ]
    },
    {
     "name": "stdout",
     "output_type": "stream",
     "text": [
      "\r",
      "[##############################          ] | 75% Completed |  2.2s"
     ]
    },
    {
     "name": "stdout",
     "output_type": "stream",
     "text": [
      "\r",
      "[##############################          ] | 76% Completed |  2.3s"
     ]
    },
    {
     "name": "stdout",
     "output_type": "stream",
     "text": [
      "\r",
      "[###############################         ] | 77% Completed |  2.4s"
     ]
    },
    {
     "name": "stdout",
     "output_type": "stream",
     "text": [
      "\r",
      "[###############################         ] | 79% Completed |  2.5s"
     ]
    },
    {
     "name": "stdout",
     "output_type": "stream",
     "text": [
      "\r",
      "[################################        ] | 80% Completed |  2.6s"
     ]
    },
    {
     "name": "stdout",
     "output_type": "stream",
     "text": [
      "\r",
      "[################################        ] | 81% Completed |  2.7s"
     ]
    },
    {
     "name": "stdout",
     "output_type": "stream",
     "text": [
      "\r",
      "[#################################       ] | 83% Completed |  2.8s"
     ]
    },
    {
     "name": "stdout",
     "output_type": "stream",
     "text": [
      "\r",
      "[#################################       ] | 84% Completed |  2.9s"
     ]
    },
    {
     "name": "stdout",
     "output_type": "stream",
     "text": [
      "\r",
      "[##################################      ] | 86% Completed |  3.0s"
     ]
    },
    {
     "name": "stdout",
     "output_type": "stream",
     "text": [
      "\r",
      "[###################################     ] | 87% Completed |  3.1s"
     ]
    },
    {
     "name": "stdout",
     "output_type": "stream",
     "text": [
      "\r",
      "[####################################    ] | 90% Completed |  3.3s"
     ]
    },
    {
     "name": "stdout",
     "output_type": "stream",
     "text": [
      "\r",
      "[####################################    ] | 90% Completed |  3.4s"
     ]
    },
    {
     "name": "stdout",
     "output_type": "stream",
     "text": [
      "\r",
      "[#####################################   ] | 92% Completed |  3.5s"
     ]
    },
    {
     "name": "stdout",
     "output_type": "stream",
     "text": [
      "\r",
      "[#####################################   ] | 94% Completed |  3.6s"
     ]
    },
    {
     "name": "stdout",
     "output_type": "stream",
     "text": [
      "\r",
      "[######################################  ] | 95% Completed |  3.7s"
     ]
    },
    {
     "name": "stdout",
     "output_type": "stream",
     "text": [
      "\r",
      "[####################################### ] | 97% Completed |  3.8s"
     ]
    },
    {
     "name": "stdout",
     "output_type": "stream",
     "text": [
      "\r",
      "[########################################] | 100% Completed |  3.9s"
     ]
    },
    {
     "name": "stdout",
     "output_type": "stream",
     "text": [
      "\n"
     ]
    },
    {
     "name": "stdout",
     "output_type": "stream",
     "text": [
      "Successfully saved /media/nicolasf/END19101/ICU/data/CDS/operational/hindcasts/CLIMATOLOGY/ECCC_GEM_NEMO/ECCC_GEM_NEMO_seasonal_quartile_climatology_01.netcdf\n",
      "\n",
      "percentile climatology\n",
      "\n",
      "\r",
      "[                                        ] | 0% Completed |  0.0s"
     ]
    },
    {
     "name": "stdout",
     "output_type": "stream",
     "text": [
      "\r",
      "[#######                                 ] | 18% Completed |  0.1s"
     ]
    },
    {
     "name": "stdout",
     "output_type": "stream",
     "text": [
      "\r",
      "[################                        ] | 40% Completed |  0.2s"
     ]
    },
    {
     "name": "stdout",
     "output_type": "stream",
     "text": [
      "\r",
      "[###################                     ] | 48% Completed |  0.3s"
     ]
    },
    {
     "name": "stdout",
     "output_type": "stream",
     "text": [
      "\r",
      "[###################                     ] | 49% Completed |  0.4s"
     ]
    },
    {
     "name": "stdout",
     "output_type": "stream",
     "text": [
      "\r",
      "[####################                    ] | 50% Completed |  0.5s"
     ]
    },
    {
     "name": "stdout",
     "output_type": "stream",
     "text": [
      "\r",
      "[#####################                   ] | 53% Completed |  0.6s"
     ]
    },
    {
     "name": "stdout",
     "output_type": "stream",
     "text": [
      "\r",
      "[#####################                   ] | 54% Completed |  0.7s"
     ]
    },
    {
     "name": "stdout",
     "output_type": "stream",
     "text": [
      "\r",
      "[######################                  ] | 55% Completed |  0.8s"
     ]
    },
    {
     "name": "stdout",
     "output_type": "stream",
     "text": [
      "\r",
      "[#######################                 ] | 57% Completed |  0.9s"
     ]
    },
    {
     "name": "stdout",
     "output_type": "stream",
     "text": [
      "\r",
      "[#######################                 ] | 59% Completed |  1.0s"
     ]
    },
    {
     "name": "stdout",
     "output_type": "stream",
     "text": [
      "\r",
      "[########################                ] | 60% Completed |  1.2s"
     ]
    },
    {
     "name": "stdout",
     "output_type": "stream",
     "text": [
      "\r",
      "[########################                ] | 62% Completed |  1.3s"
     ]
    },
    {
     "name": "stdout",
     "output_type": "stream",
     "text": [
      "\r",
      "[#########################               ] | 64% Completed |  1.4s"
     ]
    },
    {
     "name": "stdout",
     "output_type": "stream",
     "text": [
      "\r",
      "[##########################              ] | 65% Completed |  1.5s"
     ]
    },
    {
     "name": "stdout",
     "output_type": "stream",
     "text": [
      "\r",
      "[##########################              ] | 66% Completed |  1.6s"
     ]
    },
    {
     "name": "stdout",
     "output_type": "stream",
     "text": [
      "\r",
      "[###########################             ] | 68% Completed |  1.7s"
     ]
    },
    {
     "name": "stdout",
     "output_type": "stream",
     "text": [
      "\r",
      "[###########################             ] | 69% Completed |  1.8s"
     ]
    },
    {
     "name": "stdout",
     "output_type": "stream",
     "text": [
      "\r",
      "[############################            ] | 70% Completed |  1.9s"
     ]
    },
    {
     "name": "stdout",
     "output_type": "stream",
     "text": [
      "\r",
      "[############################            ] | 71% Completed |  2.0s"
     ]
    },
    {
     "name": "stdout",
     "output_type": "stream",
     "text": [
      "\r",
      "[#############################           ] | 73% Completed |  2.1s"
     ]
    },
    {
     "name": "stdout",
     "output_type": "stream",
     "text": [
      "\r",
      "[#############################           ] | 74% Completed |  2.2s"
     ]
    },
    {
     "name": "stdout",
     "output_type": "stream",
     "text": [
      "\r",
      "[##############################          ] | 75% Completed |  2.3s"
     ]
    },
    {
     "name": "stdout",
     "output_type": "stream",
     "text": [
      "\r",
      "[##############################          ] | 77% Completed |  2.4s"
     ]
    },
    {
     "name": "stdout",
     "output_type": "stream",
     "text": [
      "\r",
      "[###############################         ] | 78% Completed |  2.5s"
     ]
    },
    {
     "name": "stdout",
     "output_type": "stream",
     "text": [
      "\r",
      "[################################        ] | 80% Completed |  2.6s"
     ]
    },
    {
     "name": "stdout",
     "output_type": "stream",
     "text": [
      "\r",
      "[################################        ] | 81% Completed |  2.7s"
     ]
    },
    {
     "name": "stdout",
     "output_type": "stream",
     "text": [
      "\r",
      "[#################################       ] | 82% Completed |  2.8s"
     ]
    },
    {
     "name": "stdout",
     "output_type": "stream",
     "text": [
      "\r",
      "[##################################      ] | 85% Completed |  2.9s"
     ]
    },
    {
     "name": "stdout",
     "output_type": "stream",
     "text": [
      "\r",
      "[##################################      ] | 86% Completed |  3.0s"
     ]
    },
    {
     "name": "stdout",
     "output_type": "stream",
     "text": [
      "\r",
      "[###################################     ] | 88% Completed |  3.1s"
     ]
    },
    {
     "name": "stdout",
     "output_type": "stream",
     "text": [
      "\r",
      "[###################################     ] | 89% Completed |  3.2s"
     ]
    },
    {
     "name": "stdout",
     "output_type": "stream",
     "text": [
      "\r",
      "[####################################    ] | 90% Completed |  3.3s"
     ]
    },
    {
     "name": "stdout",
     "output_type": "stream",
     "text": [
      "\r",
      "[#####################################   ] | 92% Completed |  3.4s"
     ]
    },
    {
     "name": "stdout",
     "output_type": "stream",
     "text": [
      "\r",
      "[#####################################   ] | 93% Completed |  3.5s"
     ]
    },
    {
     "name": "stdout",
     "output_type": "stream",
     "text": [
      "\r",
      "[#####################################   ] | 94% Completed |  3.6s"
     ]
    },
    {
     "name": "stdout",
     "output_type": "stream",
     "text": [
      "\r",
      "[######################################  ] | 96% Completed |  3.7s"
     ]
    },
    {
     "name": "stdout",
     "output_type": "stream",
     "text": [
      "\r",
      "[####################################### ] | 97% Completed |  3.9s"
     ]
    },
    {
     "name": "stdout",
     "output_type": "stream",
     "text": [
      "\r",
      "[####################################### ] | 98% Completed |  4.0s"
     ]
    },
    {
     "name": "stdout",
     "output_type": "stream",
     "text": [
      "\r",
      "[########################################] | 100% Completed |  4.1s"
     ]
    },
    {
     "name": "stdout",
     "output_type": "stream",
     "text": [
      "\n"
     ]
    },
    {
     "name": "stdout",
     "output_type": "stream",
     "text": [
      "Successfully saved /media/nicolasf/END19101/ICU/data/CDS/operational/hindcasts/CLIMATOLOGY/ECCC_GEM_NEMO/ECCC_GEM_NEMO_seasonal_percentile_climatology_01.netcdf\n",
      "\n"
     ]
    }
   ],
   "source": [
    "for k in dict_quantiles.keys():\n",
    "\n",
    "    print(f\"{k} climatology\\n\")\n",
    "\n",
    "    clim_quantile = clim.quantile(dict_quantiles[k], dim='instance')\n",
    "\n",
    "    # adds a `'month' dimension with coordinate `month`, for later concatenation\n",
    "    clim_quantile = clim_quantile.expand_dims({'month':[initial_month]})\n",
    "\n",
    "    # add the number of instances in the dataset for record-keeping\n",
    "    clim_quantile['n_instances'] = (('month'), [n_instances])\n",
    "\n",
    "    # now compute \n",
    "    with ProgressBar(): \n",
    "\n",
    "        clim_quantile = clim_quantile.compute() \n",
    "\n",
    "    # save to disk \n",
    "    clim_quantile.to_netcdf(clim_path.joinpath(f\"{GCM}_{period}_{k}_climatology_{initial_month:02d}.netcdf\"))\n",
    "\n",
    "    if clim_path.joinpath(f\"{GCM}_{period}_{k}_climatology_{initial_month:02d}.netcdf\").exists(): \n",
    "\n",
    "        print(f\"Successfully saved {str(clim_path.joinpath(f'{GCM}_{period}_{k}_climatology_{initial_month:02d}.netcdf'))}\\n\")\n",
    "\n",
    "        clim_quantile.close()"
   ]
  },
  {
   "cell_type": "code",
   "execution_count": null,
   "id": "89469e14-6aa3-4e51-b38b-1cb2d5c25d88",
   "metadata": {
    "papermill": {
     "duration": 0.048223,
     "end_time": "2022-01-17T19:12:12.839282",
     "exception": false,
     "start_time": "2022-01-17T19:12:12.791059",
     "status": "completed"
    },
    "tags": []
   },
   "outputs": [],
   "source": []
  }
 ],
 "metadata": {
  "kernelspec": {
   "display_name": "Python 3",
   "language": "python",
   "name": "python3"
  },
  "language_info": {
   "codemirror_mode": {
    "name": "ipython",
    "version": 3
   },
   "file_extension": ".py",
   "mimetype": "text/x-python",
   "name": "python",
   "nbconvert_exporter": "python",
   "pygments_lexer": "ipython3",
   "version": "3.8.10"
  },
  "papermill": {
   "default_parameters": {},
   "duration": 37.076267,
   "end_time": "2022-01-17T19:12:14.302361",
   "environment_variables": {},
   "exception": null,
   "input_path": "/home/nicolasf/operational/ICU/development/hotspots/code/ICU_Water_Watch/notebooks/C3S/GCMs_hindcast_climatology_ops.ipynb",
   "output_path": "/home/nicolasf/operational/ICU/development/hotspots/code/ICU_Water_Watch/notebooks/C3S/GCMs_hindcast_climatology_ops.ipynb",
   "parameters": {
    "GCM": "ECCC_GEM_NEMO",
    "lag": 0,
    "period": "seasonal"
   },
   "start_time": "2022-01-17T19:11:37.226094",
   "version": "2.3.3"
  }
 },
 "nbformat": 4,
 "nbformat_minor": 5
}