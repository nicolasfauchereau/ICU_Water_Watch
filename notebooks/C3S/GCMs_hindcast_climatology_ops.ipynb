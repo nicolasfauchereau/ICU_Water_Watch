{
 "cells": [
  {
   "cell_type": "markdown",
   "id": "dc848a92-0993-4d7a-8b8c-59ee5d5e5564",
   "metadata": {},
   "source": [
    "# calculate the leadtime-dependent climatological terciles, deciles and percentiles (0.02, then 0.05 to 0.95 with 0.05 step) from the individual GCMs' hindcast dataset (period 1993 - 2016) "
   ]
  },
  {
   "cell_type": "markdown",
   "id": "101a949c-502c-4fc6-a5ab-46fc6675db5d",
   "metadata": {},
   "source": [
    "#### **Note**: this is quite slow: It takes about 15 minutes to process a complete climatology (12 months) for one GCM, for one accumulation period (monthly or seasonal), but only needs to be calculated once ... "
   ]
  },
  {
   "cell_type": "code",
   "execution_count": 1,
   "id": "d9e3e956-31d5-4606-b762-657a128f93dc",
   "metadata": {},
   "outputs": [],
   "source": [
    "%load_ext autoreload\n",
    "%autoreload 2"
   ]
  },
  {
   "cell_type": "code",
   "execution_count": 2,
   "id": "ec7c9f73-b771-4191-9c46-eb9e2ca266ad",
   "metadata": {},
   "outputs": [],
   "source": [
    "%matplotlib inline\n",
    "\n",
    "### os\n",
    "import os\n",
    "import sys\n",
    "from collections import OrderedDict\n",
    "\n",
    "### datetimes\n",
    "from datetime import datetime, timedelta\n",
    "from dateutil.relativedelta import relativedelta\n",
    "from calendar import month_name\n",
    "\n",
    "\n",
    "### scipy\n",
    "import numpy as np\n",
    "import pandas as pd\n",
    "import xarray as xr\n",
    "import geopandas as gpd\n",
    "import cartopy.crs as ccrs\n",
    "import dask\n",
    "from dask.diagnostics import ProgressBar\n",
    "from tqdm import tqdm\n",
    "\n",
    "### plotting\n",
    "from matplotlib import pyplot as plt\n",
    "import matplotlib\n",
    "import seaborn as sns\n"
   ]
  },
  {
   "cell_type": "code",
   "execution_count": 3,
   "id": "0cab9771-20cf-4302-9c84-97580f01d934",
   "metadata": {},
   "outputs": [],
   "source": [
    "import pathlib\n",
    "\n",
    "HOME = pathlib.Path.home()\n",
    "CWD = pathlib.Path.cwd() "
   ]
  },
  {
   "cell_type": "code",
   "execution_count": 4,
   "id": "03b5d899-37d8-48b0-b161-3b5a67d2e116",
   "metadata": {},
   "outputs": [],
   "source": [
    "sys.path.append('../../') "
   ]
  },
  {
   "cell_type": "code",
   "execution_count": 5,
   "id": "d986433d-94b5-41de-b90e-ff762bdcb9c4",
   "metadata": {},
   "outputs": [],
   "source": [
    "from ICU_Water_Watch import geo, C3S, domains, plot"
   ]
  },
  {
   "cell_type": "markdown",
   "id": "ea904f40-803b-439c-ade7-bda5bed7ac2e",
   "metadata": {},
   "source": [
    "### dictionnary holding quantile name and quantile values, they are passed as **lists** to avoid any numerical issues "
   ]
  },
  {
   "cell_type": "code",
   "execution_count": 6,
   "id": "6ccb7b07-f062-4ea7-9f0a-58dd9b082bba",
   "metadata": {},
   "outputs": [],
   "source": [
    "dict_quantiles = OrderedDict()\n",
    "dict_quantiles['tercile'] = [0.3333, 0.6666]\n",
    "dict_quantiles['decile'] = [0.1, 0.2, 0.3, 0.4, 0.5, 0.6, 0.7, 0.8, 0.9]\n",
    "dict_quantiles['percentile'] = [0.02, 0.05, 0.1 , 0.15, 0.2 , 0.25, 0.3 , 0.35, 0.4 , 0.45, 0.5 , 0.55, 0.6 , 0.65, 0.7 , 0.75, 0.8 , 0.85, 0.9 , 0.95] "
   ]
  },
  {
   "cell_type": "markdown",
   "id": "ca1eed61-799e-4262-85e3-d99fa6adb06a",
   "metadata": {},
   "source": [
    "### variables "
   ]
  },
  {
   "cell_type": "markdown",
   "id": "96d0dc8f-a93d-4991-bbe1-7a69f0d8218d",
   "metadata": {},
   "source": [
    "### provider "
   ]
  },
  {
   "cell_type": "code",
   "execution_count": 7,
   "id": "35ece13e-6463-4971-88ad-1c54f83dd48c",
   "metadata": {},
   "outputs": [],
   "source": [
    "provider = 'CDS'"
   ]
  },
  {
   "cell_type": "markdown",
   "id": "7a074e91-ff6d-409b-9edb-99937762be6d",
   "metadata": {},
   "source": [
    "### variable name in the hindcast dataset "
   ]
  },
  {
   "cell_type": "code",
   "execution_count": 8,
   "id": "3b658af6-becd-4299-b8cf-49e1c67b16d0",
   "metadata": {},
   "outputs": [],
   "source": [
    "varname = 'tprate'"
   ]
  },
  {
   "cell_type": "markdown",
   "id": "1c221cf6-f23e-4284-acb5-07a568fc97c8",
   "metadata": {},
   "source": [
    "### period: `monthly` or `seasonal` "
   ]
  },
  {
   "cell_type": "code",
   "execution_count": 9,
   "id": "47da6c59-9ce4-4f54-b8bf-b6972eafdfc0",
   "metadata": {},
   "outputs": [],
   "source": [
    "# period = 'monthly'\n",
    "period = 'seasonal'"
   ]
  },
  {
   "cell_type": "markdown",
   "id": "b318414b-10d4-4940-9017-7ea80839d80e",
   "metadata": {},
   "source": [
    "### lag in months (if need to calculate climatologies for older hindcasts)"
   ]
  },
  {
   "cell_type": "code",
   "execution_count": 10,
   "id": "7a487d2d-066e-49ea-bbf2-1e3bfbac4269",
   "metadata": {},
   "outputs": [],
   "source": [
    "lag = 0"
   ]
  },
  {
   "cell_type": "markdown",
   "id": "1ab179b7-6509-448c-8d32-423a1f9941a2",
   "metadata": {},
   "source": [
    "### get today's date "
   ]
  },
  {
   "cell_type": "code",
   "execution_count": 11,
   "id": "5b4d2bc9-000e-45d5-883e-d95e95f2bfa8",
   "metadata": {},
   "outputs": [],
   "source": [
    "date = datetime.utcnow()"
   ]
  },
  {
   "cell_type": "markdown",
   "id": "553b1099-d8dd-40a4-85ff-3a670669f110",
   "metadata": {},
   "source": [
    "### apply lag "
   ]
  },
  {
   "cell_type": "code",
   "execution_count": 12,
   "id": "5703429a-ab0d-499f-85c8-e661019d0219",
   "metadata": {},
   "outputs": [],
   "source": [
    "date = date - relativedelta(months=lag)"
   ]
  },
  {
   "cell_type": "code",
   "execution_count": 13,
   "id": "d8517c79-5453-44f1-ac83-112641f3badd",
   "metadata": {},
   "outputs": [
    {
     "name": "stdout",
     "output_type": "stream",
     "text": [
      "will process hindcasts for August\n"
     ]
    }
   ],
   "source": [
    "print(f\"will process hindcasts for {date:%B}\")"
   ]
  },
  {
   "cell_type": "code",
   "execution_count": 14,
   "id": "a4016628-87a1-42ad-9b5a-748449057c83",
   "metadata": {},
   "outputs": [],
   "source": [
    "initial_month = date.month"
   ]
  },
  {
   "cell_type": "markdown",
   "id": "8315176c-fd03-4d08-b638-8be2681fbc4b",
   "metadata": {},
   "source": [
    "### list of valid GCMs "
   ]
  },
  {
   "cell_type": "code",
   "execution_count": 15,
   "id": "5a92f4fd-17f1-4716-a67a-3584aeacf52d",
   "metadata": {},
   "outputs": [],
   "source": [
    "GCMs = ['ECMWF', 'UKMO', 'METEO_FRANCE', 'DWD', 'CMCC', 'NCEP', 'JMA', 'ECCC']"
   ]
  },
  {
   "cell_type": "markdown",
   "id": "0687480f-9cdd-4fae-a24f-2a4387c6b7f8",
   "metadata": {},
   "source": [
    "### demonstration for one GCM, this code will e.g. need to be re-run every month for the ECC, as the hindcast dataset is apparently updated once the corresponding forecasts are made available "
   ]
  },
  {
   "cell_type": "code",
   "execution_count": 16,
   "id": "9f5a2f6e-5fcf-4f7f-925d-9fbc6c083ccb",
   "metadata": {},
   "outputs": [],
   "source": [
    "GCM = 'METEO_FRANCE'"
   ]
  },
  {
   "cell_type": "markdown",
   "id": "1e5315c7-8f76-4063-9a1a-bbd857a5bdff",
   "metadata": {},
   "source": [
    "### path definitions follow"
   ]
  },
  {
   "cell_type": "markdown",
   "id": "6066e28c-480a-4d4f-a59f-6dd39789ba73",
   "metadata": {},
   "source": [
    "#### where to find the GCM hindcast datasets "
   ]
  },
  {
   "cell_type": "code",
   "execution_count": 17,
   "id": "6a8a0c35-6850-4729-90de-9095fe748aa9",
   "metadata": {},
   "outputs": [],
   "source": [
    "gcm_path = pathlib.Path(f'/media/nicolasf/END19101/ICU/data/{provider}/operational/hindcasts')"
   ]
  },
  {
   "cell_type": "code",
   "execution_count": 18,
   "id": "cbcb65ed-7126-4c4b-b7b1-29f7c053f5b1",
   "metadata": {},
   "outputs": [],
   "source": [
    "# gcm_path = pathlib.Path(f'/media/nicolasf/END19101/ICU/data/{provider}')"
   ]
  },
  {
   "cell_type": "code",
   "execution_count": 19,
   "id": "33fe9a62-f1e7-40b4-a77b-7d7ddee2b7ca",
   "metadata": {},
   "outputs": [],
   "source": [
    "dpath = gcm_path.joinpath(GCM).joinpath(varname.upper())"
   ]
  },
  {
   "cell_type": "code",
   "execution_count": 20,
   "id": "692494fd-2d87-4d0c-9e6d-1aa8b3d71794",
   "metadata": {},
   "outputs": [
    {
     "name": "stdout",
     "output_type": "stream",
     "text": [
      "/media/nicolasf/END19101/ICU/data/CDS/operational/hindcasts/UKMO/TPRATE\n"
     ]
    }
   ],
   "source": [
    "print(dpath)"
   ]
  },
  {
   "cell_type": "markdown",
   "id": "e50a87c7-b682-47e8-a894-0ce0910b7065",
   "metadata": {},
   "source": [
    "#### where to save the climatologies "
   ]
  },
  {
   "cell_type": "code",
   "execution_count": 21,
   "id": "679005be-3f9c-4f2a-83de-7768c5b917d4",
   "metadata": {},
   "outputs": [],
   "source": [
    "clim_path = gcm_path.joinpath(f'CLIMATOLOGY/{GCM}')"
   ]
  },
  {
   "cell_type": "code",
   "execution_count": 22,
   "id": "a2f7f1dc-078f-4de8-90d5-6f3537a1cb0d",
   "metadata": {},
   "outputs": [
    {
     "data": {
      "text/plain": [
       "PosixPath('/media/nicolasf/END19101/ICU/data/CDS/operational/hindcasts/CLIMATOLOGY/UKMO')"
      ]
     },
     "execution_count": 22,
     "metadata": {},
     "output_type": "execute_result"
    }
   ],
   "source": [
    "clim_path"
   ]
  },
  {
   "cell_type": "code",
   "execution_count": 23,
   "id": "0694a8c7-3ddd-42e6-a4bb-2693457b3a01",
   "metadata": {},
   "outputs": [],
   "source": [
    "if not clim_path.exists(): \n",
    "    \n",
    "    clim_path.mkdir(parents=True)"
   ]
  },
  {
   "cell_type": "markdown",
   "id": "d47e42f3-1647-4f1b-866f-501481e2dfab",
   "metadata": {},
   "source": [
    "### get the list of files "
   ]
  },
  {
   "cell_type": "code",
   "execution_count": 24,
   "id": "f0b72f90-2b59-45d1-833f-8e47715b9177",
   "metadata": {},
   "outputs": [],
   "source": [
    "lfiles = list(dpath.glob(f\"ensemble_seas_forecasts_{varname}_from_*_{initial_month:02d}_{GCM}.netcdf\"))"
   ]
  },
  {
   "cell_type": "code",
   "execution_count": 25,
   "id": "a1e49b09-ad9d-4881-b396-a41abccb3857",
   "metadata": {},
   "outputs": [],
   "source": [
    "lfiles.sort()"
   ]
  },
  {
   "cell_type": "code",
   "execution_count": 26,
   "id": "83bb26ed-7f6c-4d0f-b2b8-b66217829ec5",
   "metadata": {},
   "outputs": [
    {
     "data": {
      "text/plain": [
       "[PosixPath('/media/nicolasf/END19101/ICU/data/CDS/operational/hindcasts/UKMO/TPRATE/ensemble_seas_forecasts_tprate_from_1993_08_UKMO.netcdf'),\n",
       " PosixPath('/media/nicolasf/END19101/ICU/data/CDS/operational/hindcasts/UKMO/TPRATE/ensemble_seas_forecasts_tprate_from_1994_08_UKMO.netcdf'),\n",
       " PosixPath('/media/nicolasf/END19101/ICU/data/CDS/operational/hindcasts/UKMO/TPRATE/ensemble_seas_forecasts_tprate_from_1995_08_UKMO.netcdf'),\n",
       " PosixPath('/media/nicolasf/END19101/ICU/data/CDS/operational/hindcasts/UKMO/TPRATE/ensemble_seas_forecasts_tprate_from_1996_08_UKMO.netcdf'),\n",
       " PosixPath('/media/nicolasf/END19101/ICU/data/CDS/operational/hindcasts/UKMO/TPRATE/ensemble_seas_forecasts_tprate_from_1997_08_UKMO.netcdf'),\n",
       " PosixPath('/media/nicolasf/END19101/ICU/data/CDS/operational/hindcasts/UKMO/TPRATE/ensemble_seas_forecasts_tprate_from_1998_08_UKMO.netcdf'),\n",
       " PosixPath('/media/nicolasf/END19101/ICU/data/CDS/operational/hindcasts/UKMO/TPRATE/ensemble_seas_forecasts_tprate_from_1999_08_UKMO.netcdf'),\n",
       " PosixPath('/media/nicolasf/END19101/ICU/data/CDS/operational/hindcasts/UKMO/TPRATE/ensemble_seas_forecasts_tprate_from_2000_08_UKMO.netcdf'),\n",
       " PosixPath('/media/nicolasf/END19101/ICU/data/CDS/operational/hindcasts/UKMO/TPRATE/ensemble_seas_forecasts_tprate_from_2001_08_UKMO.netcdf'),\n",
       " PosixPath('/media/nicolasf/END19101/ICU/data/CDS/operational/hindcasts/UKMO/TPRATE/ensemble_seas_forecasts_tprate_from_2002_08_UKMO.netcdf'),\n",
       " PosixPath('/media/nicolasf/END19101/ICU/data/CDS/operational/hindcasts/UKMO/TPRATE/ensemble_seas_forecasts_tprate_from_2003_08_UKMO.netcdf'),\n",
       " PosixPath('/media/nicolasf/END19101/ICU/data/CDS/operational/hindcasts/UKMO/TPRATE/ensemble_seas_forecasts_tprate_from_2004_08_UKMO.netcdf'),\n",
       " PosixPath('/media/nicolasf/END19101/ICU/data/CDS/operational/hindcasts/UKMO/TPRATE/ensemble_seas_forecasts_tprate_from_2005_08_UKMO.netcdf'),\n",
       " PosixPath('/media/nicolasf/END19101/ICU/data/CDS/operational/hindcasts/UKMO/TPRATE/ensemble_seas_forecasts_tprate_from_2006_08_UKMO.netcdf'),\n",
       " PosixPath('/media/nicolasf/END19101/ICU/data/CDS/operational/hindcasts/UKMO/TPRATE/ensemble_seas_forecasts_tprate_from_2007_08_UKMO.netcdf'),\n",
       " PosixPath('/media/nicolasf/END19101/ICU/data/CDS/operational/hindcasts/UKMO/TPRATE/ensemble_seas_forecasts_tprate_from_2008_08_UKMO.netcdf'),\n",
       " PosixPath('/media/nicolasf/END19101/ICU/data/CDS/operational/hindcasts/UKMO/TPRATE/ensemble_seas_forecasts_tprate_from_2009_08_UKMO.netcdf'),\n",
       " PosixPath('/media/nicolasf/END19101/ICU/data/CDS/operational/hindcasts/UKMO/TPRATE/ensemble_seas_forecasts_tprate_from_2010_08_UKMO.netcdf'),\n",
       " PosixPath('/media/nicolasf/END19101/ICU/data/CDS/operational/hindcasts/UKMO/TPRATE/ensemble_seas_forecasts_tprate_from_2011_08_UKMO.netcdf'),\n",
       " PosixPath('/media/nicolasf/END19101/ICU/data/CDS/operational/hindcasts/UKMO/TPRATE/ensemble_seas_forecasts_tprate_from_2012_08_UKMO.netcdf'),\n",
       " PosixPath('/media/nicolasf/END19101/ICU/data/CDS/operational/hindcasts/UKMO/TPRATE/ensemble_seas_forecasts_tprate_from_2013_08_UKMO.netcdf'),\n",
       " PosixPath('/media/nicolasf/END19101/ICU/data/CDS/operational/hindcasts/UKMO/TPRATE/ensemble_seas_forecasts_tprate_from_2014_08_UKMO.netcdf'),\n",
       " PosixPath('/media/nicolasf/END19101/ICU/data/CDS/operational/hindcasts/UKMO/TPRATE/ensemble_seas_forecasts_tprate_from_2015_08_UKMO.netcdf'),\n",
       " PosixPath('/media/nicolasf/END19101/ICU/data/CDS/operational/hindcasts/UKMO/TPRATE/ensemble_seas_forecasts_tprate_from_2016_08_UKMO.netcdf')]"
      ]
     },
     "execution_count": 26,
     "metadata": {},
     "output_type": "execute_result"
    }
   ],
   "source": [
    "lfiles"
   ]
  },
  {
   "cell_type": "code",
   "execution_count": 27,
   "id": "0ea663ad-65eb-4523-af55-34cec14aee5c",
   "metadata": {},
   "outputs": [
    {
     "data": {
      "text/plain": [
       "PosixPath('/media/nicolasf/END19101/ICU/data/CDS/operational/hindcasts/UKMO/TPRATE/ensemble_seas_forecasts_tprate_from_1993_08_UKMO.netcdf')"
      ]
     },
     "execution_count": 27,
     "metadata": {},
     "output_type": "execute_result"
    }
   ],
   "source": [
    "lfiles[0]"
   ]
  },
  {
   "cell_type": "code",
   "execution_count": 28,
   "id": "f05cb729-d357-4ffc-a0d7-f05e84c4edb3",
   "metadata": {},
   "outputs": [
    {
     "data": {
      "text/plain": [
       "PosixPath('/media/nicolasf/END19101/ICU/data/CDS/operational/hindcasts/UKMO/TPRATE/ensemble_seas_forecasts_tprate_from_2016_08_UKMO.netcdf')"
      ]
     },
     "execution_count": 28,
     "metadata": {},
     "output_type": "execute_result"
    }
   ],
   "source": [
    "lfiles[-1]"
   ]
  },
  {
   "cell_type": "code",
   "execution_count": 29,
   "id": "9f8ec547-7d72-4cf7-ac6a-ef68a1013548",
   "metadata": {},
   "outputs": [
    {
     "data": {
      "text/plain": [
       "24"
      ]
     },
     "execution_count": 29,
     "metadata": {},
     "output_type": "execute_result"
    }
   ],
   "source": [
    "len(lfiles)"
   ]
  },
  {
   "cell_type": "markdown",
   "id": "a2e165d4-9d23-469b-9085-3aa4f0280eac",
   "metadata": {},
   "source": [
    "### open the multiple files dataset, concatenating over the time dimension, and preprocessing "
   ]
  },
  {
   "cell_type": "code",
   "execution_count": 30,
   "id": "4c877a5a-60b4-44f0-8b3f-e9e1205f20d3",
   "metadata": {},
   "outputs": [],
   "source": [
    "dset = xr.open_mfdataset(lfiles, preprocess=C3S.preprocess_GCM, parallel=True, engine='netcdf4')"
   ]
  },
  {
   "cell_type": "code",
   "execution_count": 31,
   "id": "b7afaa16-4579-4ce1-8c9e-aa2da451b518",
   "metadata": {},
   "outputs": [
    {
     "data": {
      "text/html": [
       "<div><svg style=\"position: absolute; width: 0; height: 0; overflow: hidden\">\n",
       "<defs>\n",
       "<symbol id=\"icon-database\" viewBox=\"0 0 32 32\">\n",
       "<path d=\"M16 0c-8.837 0-16 2.239-16 5v4c0 2.761 7.163 5 16 5s16-2.239 16-5v-4c0-2.761-7.163-5-16-5z\"></path>\n",
       "<path d=\"M16 17c-8.837 0-16-2.239-16-5v6c0 2.761 7.163 5 16 5s16-2.239 16-5v-6c0 2.761-7.163 5-16 5z\"></path>\n",
       "<path d=\"M16 26c-8.837 0-16-2.239-16-5v6c0 2.761 7.163 5 16 5s16-2.239 16-5v-6c0 2.761-7.163 5-16 5z\"></path>\n",
       "</symbol>\n",
       "<symbol id=\"icon-file-text2\" viewBox=\"0 0 32 32\">\n",
       "<path d=\"M28.681 7.159c-0.694-0.947-1.662-2.053-2.724-3.116s-2.169-2.030-3.116-2.724c-1.612-1.182-2.393-1.319-2.841-1.319h-15.5c-1.378 0-2.5 1.121-2.5 2.5v27c0 1.378 1.122 2.5 2.5 2.5h23c1.378 0 2.5-1.122 2.5-2.5v-19.5c0-0.448-0.137-1.23-1.319-2.841zM24.543 5.457c0.959 0.959 1.712 1.825 2.268 2.543h-4.811v-4.811c0.718 0.556 1.584 1.309 2.543 2.268zM28 29.5c0 0.271-0.229 0.5-0.5 0.5h-23c-0.271 0-0.5-0.229-0.5-0.5v-27c0-0.271 0.229-0.5 0.5-0.5 0 0 15.499-0 15.5 0v7c0 0.552 0.448 1 1 1h7v19.5z\"></path>\n",
       "<path d=\"M23 26h-14c-0.552 0-1-0.448-1-1s0.448-1 1-1h14c0.552 0 1 0.448 1 1s-0.448 1-1 1z\"></path>\n",
       "<path d=\"M23 22h-14c-0.552 0-1-0.448-1-1s0.448-1 1-1h14c0.552 0 1 0.448 1 1s-0.448 1-1 1z\"></path>\n",
       "<path d=\"M23 18h-14c-0.552 0-1-0.448-1-1s0.448-1 1-1h14c0.552 0 1 0.448 1 1s-0.448 1-1 1z\"></path>\n",
       "</symbol>\n",
       "</defs>\n",
       "</svg>\n",
       "<style>/* CSS stylesheet for displaying xarray objects in jupyterlab.\n",
       " *\n",
       " */\n",
       "\n",
       ":root {\n",
       "  --xr-font-color0: var(--jp-content-font-color0, rgba(0, 0, 0, 1));\n",
       "  --xr-font-color2: var(--jp-content-font-color2, rgba(0, 0, 0, 0.54));\n",
       "  --xr-font-color3: var(--jp-content-font-color3, rgba(0, 0, 0, 0.38));\n",
       "  --xr-border-color: var(--jp-border-color2, #e0e0e0);\n",
       "  --xr-disabled-color: var(--jp-layout-color3, #bdbdbd);\n",
       "  --xr-background-color: var(--jp-layout-color0, white);\n",
       "  --xr-background-color-row-even: var(--jp-layout-color1, white);\n",
       "  --xr-background-color-row-odd: var(--jp-layout-color2, #eeeeee);\n",
       "}\n",
       "\n",
       "html[theme=dark],\n",
       "body.vscode-dark {\n",
       "  --xr-font-color0: rgba(255, 255, 255, 1);\n",
       "  --xr-font-color2: rgba(255, 255, 255, 0.54);\n",
       "  --xr-font-color3: rgba(255, 255, 255, 0.38);\n",
       "  --xr-border-color: #1F1F1F;\n",
       "  --xr-disabled-color: #515151;\n",
       "  --xr-background-color: #111111;\n",
       "  --xr-background-color-row-even: #111111;\n",
       "  --xr-background-color-row-odd: #313131;\n",
       "}\n",
       "\n",
       ".xr-wrap {\n",
       "  display: block;\n",
       "  min-width: 300px;\n",
       "  max-width: 700px;\n",
       "}\n",
       "\n",
       ".xr-text-repr-fallback {\n",
       "  /* fallback to plain text repr when CSS is not injected (untrusted notebook) */\n",
       "  display: none;\n",
       "}\n",
       "\n",
       ".xr-header {\n",
       "  padding-top: 6px;\n",
       "  padding-bottom: 6px;\n",
       "  margin-bottom: 4px;\n",
       "  border-bottom: solid 1px var(--xr-border-color);\n",
       "}\n",
       "\n",
       ".xr-header > div,\n",
       ".xr-header > ul {\n",
       "  display: inline;\n",
       "  margin-top: 0;\n",
       "  margin-bottom: 0;\n",
       "}\n",
       "\n",
       ".xr-obj-type,\n",
       ".xr-array-name {\n",
       "  margin-left: 2px;\n",
       "  margin-right: 10px;\n",
       "}\n",
       "\n",
       ".xr-obj-type {\n",
       "  color: var(--xr-font-color2);\n",
       "}\n",
       "\n",
       ".xr-sections {\n",
       "  padding-left: 0 !important;\n",
       "  display: grid;\n",
       "  grid-template-columns: 150px auto auto 1fr 20px 20px;\n",
       "}\n",
       "\n",
       ".xr-section-item {\n",
       "  display: contents;\n",
       "}\n",
       "\n",
       ".xr-section-item input {\n",
       "  display: none;\n",
       "}\n",
       "\n",
       ".xr-section-item input + label {\n",
       "  color: var(--xr-disabled-color);\n",
       "}\n",
       "\n",
       ".xr-section-item input:enabled + label {\n",
       "  cursor: pointer;\n",
       "  color: var(--xr-font-color2);\n",
       "}\n",
       "\n",
       ".xr-section-item input:enabled + label:hover {\n",
       "  color: var(--xr-font-color0);\n",
       "}\n",
       "\n",
       ".xr-section-summary {\n",
       "  grid-column: 1;\n",
       "  color: var(--xr-font-color2);\n",
       "  font-weight: 500;\n",
       "}\n",
       "\n",
       ".xr-section-summary > span {\n",
       "  display: inline-block;\n",
       "  padding-left: 0.5em;\n",
       "}\n",
       "\n",
       ".xr-section-summary-in:disabled + label {\n",
       "  color: var(--xr-font-color2);\n",
       "}\n",
       "\n",
       ".xr-section-summary-in + label:before {\n",
       "  display: inline-block;\n",
       "  content: '►';\n",
       "  font-size: 11px;\n",
       "  width: 15px;\n",
       "  text-align: center;\n",
       "}\n",
       "\n",
       ".xr-section-summary-in:disabled + label:before {\n",
       "  color: var(--xr-disabled-color);\n",
       "}\n",
       "\n",
       ".xr-section-summary-in:checked + label:before {\n",
       "  content: '▼';\n",
       "}\n",
       "\n",
       ".xr-section-summary-in:checked + label > span {\n",
       "  display: none;\n",
       "}\n",
       "\n",
       ".xr-section-summary,\n",
       ".xr-section-inline-details {\n",
       "  padding-top: 4px;\n",
       "  padding-bottom: 4px;\n",
       "}\n",
       "\n",
       ".xr-section-inline-details {\n",
       "  grid-column: 2 / -1;\n",
       "}\n",
       "\n",
       ".xr-section-details {\n",
       "  display: none;\n",
       "  grid-column: 1 / -1;\n",
       "  margin-bottom: 5px;\n",
       "}\n",
       "\n",
       ".xr-section-summary-in:checked ~ .xr-section-details {\n",
       "  display: contents;\n",
       "}\n",
       "\n",
       ".xr-array-wrap {\n",
       "  grid-column: 1 / -1;\n",
       "  display: grid;\n",
       "  grid-template-columns: 20px auto;\n",
       "}\n",
       "\n",
       ".xr-array-wrap > label {\n",
       "  grid-column: 1;\n",
       "  vertical-align: top;\n",
       "}\n",
       "\n",
       ".xr-preview {\n",
       "  color: var(--xr-font-color3);\n",
       "}\n",
       "\n",
       ".xr-array-preview,\n",
       ".xr-array-data {\n",
       "  padding: 0 5px !important;\n",
       "  grid-column: 2;\n",
       "}\n",
       "\n",
       ".xr-array-data,\n",
       ".xr-array-in:checked ~ .xr-array-preview {\n",
       "  display: none;\n",
       "}\n",
       "\n",
       ".xr-array-in:checked ~ .xr-array-data,\n",
       ".xr-array-preview {\n",
       "  display: inline-block;\n",
       "}\n",
       "\n",
       ".xr-dim-list {\n",
       "  display: inline-block !important;\n",
       "  list-style: none;\n",
       "  padding: 0 !important;\n",
       "  margin: 0;\n",
       "}\n",
       "\n",
       ".xr-dim-list li {\n",
       "  display: inline-block;\n",
       "  padding: 0;\n",
       "  margin: 0;\n",
       "}\n",
       "\n",
       ".xr-dim-list:before {\n",
       "  content: '(';\n",
       "}\n",
       "\n",
       ".xr-dim-list:after {\n",
       "  content: ')';\n",
       "}\n",
       "\n",
       ".xr-dim-list li:not(:last-child):after {\n",
       "  content: ',';\n",
       "  padding-right: 5px;\n",
       "}\n",
       "\n",
       ".xr-has-index {\n",
       "  font-weight: bold;\n",
       "}\n",
       "\n",
       ".xr-var-list,\n",
       ".xr-var-item {\n",
       "  display: contents;\n",
       "}\n",
       "\n",
       ".xr-var-item > div,\n",
       ".xr-var-item label,\n",
       ".xr-var-item > .xr-var-name span {\n",
       "  background-color: var(--xr-background-color-row-even);\n",
       "  margin-bottom: 0;\n",
       "}\n",
       "\n",
       ".xr-var-item > .xr-var-name:hover span {\n",
       "  padding-right: 5px;\n",
       "}\n",
       "\n",
       ".xr-var-list > li:nth-child(odd) > div,\n",
       ".xr-var-list > li:nth-child(odd) > label,\n",
       ".xr-var-list > li:nth-child(odd) > .xr-var-name span {\n",
       "  background-color: var(--xr-background-color-row-odd);\n",
       "}\n",
       "\n",
       ".xr-var-name {\n",
       "  grid-column: 1;\n",
       "}\n",
       "\n",
       ".xr-var-dims {\n",
       "  grid-column: 2;\n",
       "}\n",
       "\n",
       ".xr-var-dtype {\n",
       "  grid-column: 3;\n",
       "  text-align: right;\n",
       "  color: var(--xr-font-color2);\n",
       "}\n",
       "\n",
       ".xr-var-preview {\n",
       "  grid-column: 4;\n",
       "}\n",
       "\n",
       ".xr-var-name,\n",
       ".xr-var-dims,\n",
       ".xr-var-dtype,\n",
       ".xr-preview,\n",
       ".xr-attrs dt {\n",
       "  white-space: nowrap;\n",
       "  overflow: hidden;\n",
       "  text-overflow: ellipsis;\n",
       "  padding-right: 10px;\n",
       "}\n",
       "\n",
       ".xr-var-name:hover,\n",
       ".xr-var-dims:hover,\n",
       ".xr-var-dtype:hover,\n",
       ".xr-attrs dt:hover {\n",
       "  overflow: visible;\n",
       "  width: auto;\n",
       "  z-index: 1;\n",
       "}\n",
       "\n",
       ".xr-var-attrs,\n",
       ".xr-var-data {\n",
       "  display: none;\n",
       "  background-color: var(--xr-background-color) !important;\n",
       "  padding-bottom: 5px !important;\n",
       "}\n",
       "\n",
       ".xr-var-attrs-in:checked ~ .xr-var-attrs,\n",
       ".xr-var-data-in:checked ~ .xr-var-data {\n",
       "  display: block;\n",
       "}\n",
       "\n",
       ".xr-var-data > table {\n",
       "  float: right;\n",
       "}\n",
       "\n",
       ".xr-var-name span,\n",
       ".xr-var-data,\n",
       ".xr-attrs {\n",
       "  padding-left: 25px !important;\n",
       "}\n",
       "\n",
       ".xr-attrs,\n",
       ".xr-var-attrs,\n",
       ".xr-var-data {\n",
       "  grid-column: 1 / -1;\n",
       "}\n",
       "\n",
       "dl.xr-attrs {\n",
       "  padding: 0;\n",
       "  margin: 0;\n",
       "  display: grid;\n",
       "  grid-template-columns: 125px auto;\n",
       "}\n",
       "\n",
       ".xr-attrs dt,\n",
       ".xr-attrs dd {\n",
       "  padding: 0;\n",
       "  margin: 0;\n",
       "  float: left;\n",
       "  padding-right: 10px;\n",
       "  width: auto;\n",
       "}\n",
       "\n",
       ".xr-attrs dt {\n",
       "  font-weight: normal;\n",
       "  grid-column: 1;\n",
       "}\n",
       "\n",
       ".xr-attrs dt:hover span {\n",
       "  display: inline-block;\n",
       "  background: var(--xr-background-color);\n",
       "  padding-right: 10px;\n",
       "}\n",
       "\n",
       ".xr-attrs dd {\n",
       "  grid-column: 2;\n",
       "  white-space: pre-wrap;\n",
       "  word-break: break-all;\n",
       "}\n",
       "\n",
       ".xr-icon-database,\n",
       ".xr-icon-file-text2 {\n",
       "  display: inline-block;\n",
       "  vertical-align: middle;\n",
       "  width: 1em;\n",
       "  height: 1.5em !important;\n",
       "  stroke-width: 0;\n",
       "  stroke: currentColor;\n",
       "  fill: currentColor;\n",
       "}\n",
       "</style><pre class='xr-text-repr-fallback'>&lt;xarray.Dataset&gt;\n",
       "Dimensions:  (time: 24, lon: 121, lat: 81, member: 28, step: 5)\n",
       "Coordinates:\n",
       "  * time     (time) datetime64[ns] 1993-08-01 1994-08-01 ... 2016-08-01\n",
       "  * lon      (lon) float32 120.0 121.0 122.0 123.0 ... 237.0 238.0 239.0 240.0\n",
       "  * lat      (lat) float32 -50.0 -49.0 -48.0 -47.0 -46.0 ... 27.0 28.0 29.0 30.0\n",
       "  * member   (member) int32 0 1 2 3 4 5 6 7 8 9 ... 19 20 21 22 23 24 25 26 27\n",
       "  * step     (step) int64 1 2 3 4 5\n",
       "Data variables:\n",
       "    tprate   (time, step, member, lat, lon) float32 dask.array&lt;chunksize=(1, 5, 28, 81, 121), meta=np.ndarray&gt;\n",
       "Attributes:\n",
       "    Conventions:  CF-1.6\n",
       "    history:      2021-08-16 01:01:19 GMT by grib_to_netcdf-2.20.0: /opt/ecmw...</pre><div class='xr-wrap' hidden><div class='xr-header'><div class='xr-obj-type'>xarray.Dataset</div></div><ul class='xr-sections'><li class='xr-section-item'><input id='section-83963b0f-48ab-4ff8-8f9f-601e5e16a7d4' class='xr-section-summary-in' type='checkbox' disabled ><label for='section-83963b0f-48ab-4ff8-8f9f-601e5e16a7d4' class='xr-section-summary'  title='Expand/collapse section'>Dimensions:</label><div class='xr-section-inline-details'><ul class='xr-dim-list'><li><span class='xr-has-index'>time</span>: 24</li><li><span class='xr-has-index'>lon</span>: 121</li><li><span class='xr-has-index'>lat</span>: 81</li><li><span class='xr-has-index'>member</span>: 28</li><li><span class='xr-has-index'>step</span>: 5</li></ul></div><div class='xr-section-details'></div></li><li class='xr-section-item'><input id='section-7f786aec-8981-4114-8c9f-ecb22dd273d1' class='xr-section-summary-in' type='checkbox'  checked><label for='section-7f786aec-8981-4114-8c9f-ecb22dd273d1' class='xr-section-summary' >Coordinates: <span>(5)</span></label><div class='xr-section-inline-details'></div><div class='xr-section-details'><ul class='xr-var-list'><li class='xr-var-item'><div class='xr-var-name'><span class='xr-has-index'>time</span></div><div class='xr-var-dims'>(time)</div><div class='xr-var-dtype'>datetime64[ns]</div><div class='xr-var-preview xr-preview'>1993-08-01 ... 2016-08-01</div><input id='attrs-247e4928-c5df-40ff-80a0-f5c6e363997c' class='xr-var-attrs-in' type='checkbox' disabled><label for='attrs-247e4928-c5df-40ff-80a0-f5c6e363997c' title='Show/Hide attributes'><svg class='icon xr-icon-file-text2'><use xlink:href='#icon-file-text2'></use></svg></label><input id='data-c1d77ad2-e76e-45b7-9976-10b31c6f130a' class='xr-var-data-in' type='checkbox'><label for='data-c1d77ad2-e76e-45b7-9976-10b31c6f130a' title='Show/Hide data repr'><svg class='icon xr-icon-database'><use xlink:href='#icon-database'></use></svg></label><div class='xr-var-attrs'><dl class='xr-attrs'></dl></div><div class='xr-var-data'><pre>array([&#x27;1993-08-01T00:00:00.000000000&#x27;, &#x27;1994-08-01T00:00:00.000000000&#x27;,\n",
       "       &#x27;1995-08-01T00:00:00.000000000&#x27;, &#x27;1996-08-01T00:00:00.000000000&#x27;,\n",
       "       &#x27;1997-08-01T00:00:00.000000000&#x27;, &#x27;1998-08-01T00:00:00.000000000&#x27;,\n",
       "       &#x27;1999-08-01T00:00:00.000000000&#x27;, &#x27;2000-08-01T00:00:00.000000000&#x27;,\n",
       "       &#x27;2001-08-01T00:00:00.000000000&#x27;, &#x27;2002-08-01T00:00:00.000000000&#x27;,\n",
       "       &#x27;2003-08-01T00:00:00.000000000&#x27;, &#x27;2004-08-01T00:00:00.000000000&#x27;,\n",
       "       &#x27;2005-08-01T00:00:00.000000000&#x27;, &#x27;2006-08-01T00:00:00.000000000&#x27;,\n",
       "       &#x27;2007-08-01T00:00:00.000000000&#x27;, &#x27;2008-08-01T00:00:00.000000000&#x27;,\n",
       "       &#x27;2009-08-01T00:00:00.000000000&#x27;, &#x27;2010-08-01T00:00:00.000000000&#x27;,\n",
       "       &#x27;2011-08-01T00:00:00.000000000&#x27;, &#x27;2012-08-01T00:00:00.000000000&#x27;,\n",
       "       &#x27;2013-08-01T00:00:00.000000000&#x27;, &#x27;2014-08-01T00:00:00.000000000&#x27;,\n",
       "       &#x27;2015-08-01T00:00:00.000000000&#x27;, &#x27;2016-08-01T00:00:00.000000000&#x27;],\n",
       "      dtype=&#x27;datetime64[ns]&#x27;)</pre></div></li><li class='xr-var-item'><div class='xr-var-name'><span class='xr-has-index'>lon</span></div><div class='xr-var-dims'>(lon)</div><div class='xr-var-dtype'>float32</div><div class='xr-var-preview xr-preview'>120.0 121.0 122.0 ... 239.0 240.0</div><input id='attrs-6f3debe7-4a1d-4a6f-99df-f07ca31f6dc9' class='xr-var-attrs-in' type='checkbox' ><label for='attrs-6f3debe7-4a1d-4a6f-99df-f07ca31f6dc9' title='Show/Hide attributes'><svg class='icon xr-icon-file-text2'><use xlink:href='#icon-file-text2'></use></svg></label><input id='data-57ff4a79-086c-40ab-ae5f-bfad12ef6192' class='xr-var-data-in' type='checkbox'><label for='data-57ff4a79-086c-40ab-ae5f-bfad12ef6192' title='Show/Hide data repr'><svg class='icon xr-icon-database'><use xlink:href='#icon-database'></use></svg></label><div class='xr-var-attrs'><dl class='xr-attrs'><dt><span>units :</span></dt><dd>degrees_east</dd><dt><span>long_name :</span></dt><dd>longitude</dd></dl></div><div class='xr-var-data'><pre>array([120., 121., 122., 123., 124., 125., 126., 127., 128., 129., 130., 131.,\n",
       "       132., 133., 134., 135., 136., 137., 138., 139., 140., 141., 142., 143.,\n",
       "       144., 145., 146., 147., 148., 149., 150., 151., 152., 153., 154., 155.,\n",
       "       156., 157., 158., 159., 160., 161., 162., 163., 164., 165., 166., 167.,\n",
       "       168., 169., 170., 171., 172., 173., 174., 175., 176., 177., 178., 179.,\n",
       "       180., 181., 182., 183., 184., 185., 186., 187., 188., 189., 190., 191.,\n",
       "       192., 193., 194., 195., 196., 197., 198., 199., 200., 201., 202., 203.,\n",
       "       204., 205., 206., 207., 208., 209., 210., 211., 212., 213., 214., 215.,\n",
       "       216., 217., 218., 219., 220., 221., 222., 223., 224., 225., 226., 227.,\n",
       "       228., 229., 230., 231., 232., 233., 234., 235., 236., 237., 238., 239.,\n",
       "       240.], dtype=float32)</pre></div></li><li class='xr-var-item'><div class='xr-var-name'><span class='xr-has-index'>lat</span></div><div class='xr-var-dims'>(lat)</div><div class='xr-var-dtype'>float32</div><div class='xr-var-preview xr-preview'>-50.0 -49.0 -48.0 ... 29.0 30.0</div><input id='attrs-aed90607-c21d-4bdd-850c-00de3b02875a' class='xr-var-attrs-in' type='checkbox' ><label for='attrs-aed90607-c21d-4bdd-850c-00de3b02875a' title='Show/Hide attributes'><svg class='icon xr-icon-file-text2'><use xlink:href='#icon-file-text2'></use></svg></label><input id='data-6ee8e63d-acbd-4f49-b0fd-6bfdd593aec6' class='xr-var-data-in' type='checkbox'><label for='data-6ee8e63d-acbd-4f49-b0fd-6bfdd593aec6' title='Show/Hide data repr'><svg class='icon xr-icon-database'><use xlink:href='#icon-database'></use></svg></label><div class='xr-var-attrs'><dl class='xr-attrs'><dt><span>units :</span></dt><dd>degrees_north</dd><dt><span>long_name :</span></dt><dd>latitude</dd></dl></div><div class='xr-var-data'><pre>array([-50., -49., -48., -47., -46., -45., -44., -43., -42., -41., -40., -39.,\n",
       "       -38., -37., -36., -35., -34., -33., -32., -31., -30., -29., -28., -27.,\n",
       "       -26., -25., -24., -23., -22., -21., -20., -19., -18., -17., -16., -15.,\n",
       "       -14., -13., -12., -11., -10.,  -9.,  -8.,  -7.,  -6.,  -5.,  -4.,  -3.,\n",
       "        -2.,  -1.,   0.,   1.,   2.,   3.,   4.,   5.,   6.,   7.,   8.,   9.,\n",
       "        10.,  11.,  12.,  13.,  14.,  15.,  16.,  17.,  18.,  19.,  20.,  21.,\n",
       "        22.,  23.,  24.,  25.,  26.,  27.,  28.,  29.,  30.], dtype=float32)</pre></div></li><li class='xr-var-item'><div class='xr-var-name'><span class='xr-has-index'>member</span></div><div class='xr-var-dims'>(member)</div><div class='xr-var-dtype'>int32</div><div class='xr-var-preview xr-preview'>0 1 2 3 4 5 6 ... 22 23 24 25 26 27</div><input id='attrs-7c9c168c-4548-4bfd-9560-7f1fc147dc4d' class='xr-var-attrs-in' type='checkbox' ><label for='attrs-7c9c168c-4548-4bfd-9560-7f1fc147dc4d' title='Show/Hide attributes'><svg class='icon xr-icon-file-text2'><use xlink:href='#icon-file-text2'></use></svg></label><input id='data-0a70af58-a58e-457b-bde8-ec27830cd7b0' class='xr-var-data-in' type='checkbox'><label for='data-0a70af58-a58e-457b-bde8-ec27830cd7b0' title='Show/Hide data repr'><svg class='icon xr-icon-database'><use xlink:href='#icon-database'></use></svg></label><div class='xr-var-attrs'><dl class='xr-attrs'><dt><span>long_name :</span></dt><dd>ensemble_member</dd></dl></div><div class='xr-var-data'><pre>array([ 0,  1,  2,  3,  4,  5,  6,  7,  8,  9, 10, 11, 12, 13, 14, 15, 16, 17,\n",
       "       18, 19, 20, 21, 22, 23, 24, 25, 26, 27], dtype=int32)</pre></div></li><li class='xr-var-item'><div class='xr-var-name'><span class='xr-has-index'>step</span></div><div class='xr-var-dims'>(step)</div><div class='xr-var-dtype'>int64</div><div class='xr-var-preview xr-preview'>1 2 3 4 5</div><input id='attrs-7c9f372d-25f7-4068-b2dd-3a10ff050ad6' class='xr-var-attrs-in' type='checkbox' disabled><label for='attrs-7c9f372d-25f7-4068-b2dd-3a10ff050ad6' title='Show/Hide attributes'><svg class='icon xr-icon-file-text2'><use xlink:href='#icon-file-text2'></use></svg></label><input id='data-b003ffd1-5e5d-4bde-b38f-2ccc0ba41613' class='xr-var-data-in' type='checkbox'><label for='data-b003ffd1-5e5d-4bde-b38f-2ccc0ba41613' title='Show/Hide data repr'><svg class='icon xr-icon-database'><use xlink:href='#icon-database'></use></svg></label><div class='xr-var-attrs'><dl class='xr-attrs'></dl></div><div class='xr-var-data'><pre>array([1, 2, 3, 4, 5])</pre></div></li></ul></div></li><li class='xr-section-item'><input id='section-3f30af40-f163-486d-a6b0-f7cc6fa8bf7d' class='xr-section-summary-in' type='checkbox'  checked><label for='section-3f30af40-f163-486d-a6b0-f7cc6fa8bf7d' class='xr-section-summary' >Data variables: <span>(1)</span></label><div class='xr-section-inline-details'></div><div class='xr-section-details'><ul class='xr-var-list'><li class='xr-var-item'><div class='xr-var-name'><span>tprate</span></div><div class='xr-var-dims'>(time, step, member, lat, lon)</div><div class='xr-var-dtype'>float32</div><div class='xr-var-preview xr-preview'>dask.array&lt;chunksize=(1, 5, 28, 81, 121), meta=np.ndarray&gt;</div><input id='attrs-73ea5d61-3f2e-405f-9e46-cbf049e347e7' class='xr-var-attrs-in' type='checkbox' ><label for='attrs-73ea5d61-3f2e-405f-9e46-cbf049e347e7' title='Show/Hide attributes'><svg class='icon xr-icon-file-text2'><use xlink:href='#icon-file-text2'></use></svg></label><input id='data-dfdfcc84-d8d3-496b-a71c-999e1982d1e0' class='xr-var-data-in' type='checkbox'><label for='data-dfdfcc84-d8d3-496b-a71c-999e1982d1e0' title='Show/Hide data repr'><svg class='icon xr-icon-database'><use xlink:href='#icon-database'></use></svg></label><div class='xr-var-attrs'><dl class='xr-attrs'><dt><span>units :</span></dt><dd>m s**-1</dd><dt><span>long_name :</span></dt><dd>Mean total precipitation rate</dd></dl></div><div class='xr-var-data'><table>\n",
       "<tr>\n",
       "<td>\n",
       "<table>\n",
       "  <thead>\n",
       "    <tr><td> </td><th> Array </th><th> Chunk </th></tr>\n",
       "  </thead>\n",
       "  <tbody>\n",
       "    <tr><th> Bytes </th><td> 125.62 MiB </td> <td> 5.23 MiB </td></tr>\n",
       "    <tr><th> Shape </th><td> (24, 5, 28, 81, 121) </td> <td> (1, 5, 28, 81, 121) </td></tr>\n",
       "    <tr><th> Count </th><td> 168 Tasks </td><td> 24 Chunks </td></tr>\n",
       "    <tr><th> Type </th><td> float32 </td><td> numpy.ndarray </td></tr>\n",
       "  </tbody>\n",
       "</table>\n",
       "</td>\n",
       "<td>\n",
       "<svg width=\"401\" height=\"155\" style=\"stroke:rgb(0,0,0);stroke-width:1\" >\n",
       "\n",
       "  <!-- Horizontal lines -->\n",
       "  <line x1=\"0\" y1=\"0\" x2=\"33\" y2=\"0\" style=\"stroke-width:2\" />\n",
       "  <line x1=\"0\" y1=\"1\" x2=\"33\" y2=\"1\" />\n",
       "  <line x1=\"0\" y1=\"3\" x2=\"33\" y2=\"3\" />\n",
       "  <line x1=\"0\" y1=\"5\" x2=\"33\" y2=\"5\" />\n",
       "  <line x1=\"0\" y1=\"6\" x2=\"33\" y2=\"6\" />\n",
       "  <line x1=\"0\" y1=\"8\" x2=\"33\" y2=\"8\" />\n",
       "  <line x1=\"0\" y1=\"10\" x2=\"33\" y2=\"10\" />\n",
       "  <line x1=\"0\" y1=\"12\" x2=\"33\" y2=\"12\" />\n",
       "  <line x1=\"0\" y1=\"13\" x2=\"33\" y2=\"13\" />\n",
       "  <line x1=\"0\" y1=\"15\" x2=\"33\" y2=\"15\" />\n",
       "  <line x1=\"0\" y1=\"17\" x2=\"33\" y2=\"17\" />\n",
       "  <line x1=\"0\" y1=\"19\" x2=\"33\" y2=\"19\" />\n",
       "  <line x1=\"0\" y1=\"20\" x2=\"33\" y2=\"20\" />\n",
       "  <line x1=\"0\" y1=\"22\" x2=\"33\" y2=\"22\" />\n",
       "  <line x1=\"0\" y1=\"24\" x2=\"33\" y2=\"24\" />\n",
       "  <line x1=\"0\" y1=\"26\" x2=\"33\" y2=\"26\" />\n",
       "  <line x1=\"0\" y1=\"27\" x2=\"33\" y2=\"27\" />\n",
       "  <line x1=\"0\" y1=\"29\" x2=\"33\" y2=\"29\" />\n",
       "  <line x1=\"0\" y1=\"31\" x2=\"33\" y2=\"31\" />\n",
       "  <line x1=\"0\" y1=\"33\" x2=\"33\" y2=\"33\" />\n",
       "  <line x1=\"0\" y1=\"34\" x2=\"33\" y2=\"34\" />\n",
       "  <line x1=\"0\" y1=\"36\" x2=\"33\" y2=\"36\" />\n",
       "  <line x1=\"0\" y1=\"38\" x2=\"33\" y2=\"38\" />\n",
       "  <line x1=\"0\" y1=\"40\" x2=\"33\" y2=\"40\" />\n",
       "  <line x1=\"0\" y1=\"41\" x2=\"33\" y2=\"41\" style=\"stroke-width:2\" />\n",
       "\n",
       "  <!-- Vertical lines -->\n",
       "  <line x1=\"0\" y1=\"0\" x2=\"0\" y2=\"41\" style=\"stroke-width:2\" />\n",
       "  <line x1=\"33\" y1=\"0\" x2=\"33\" y2=\"41\" style=\"stroke-width:2\" />\n",
       "\n",
       "  <!-- Colored Rectangle -->\n",
       "  <polygon points=\"0.0,0.0 33.33288666888053,0.0 33.33288666888053,41.974744095238016 0.0,41.974744095238016\" style=\"fill:#ECB172A0;stroke-width:0\"/>\n",
       "\n",
       "  <!-- Text -->\n",
       "  <text x=\"16.666443\" y=\"61.974744\" font-size=\"1.0rem\" font-weight=\"100\" text-anchor=\"middle\" >5</text>\n",
       "  <text x=\"53.332887\" y=\"20.987372\" font-size=\"1.0rem\" font-weight=\"100\" text-anchor=\"middle\" transform=\"rotate(0,53.332887,20.987372)\">24</text>\n",
       "\n",
       "\n",
       "  <!-- Horizontal lines -->\n",
       "  <line x1=\"103\" y1=\"0\" x2=\"128\" y2=\"25\" style=\"stroke-width:2\" />\n",
       "  <line x1=\"103\" y1=\"80\" x2=\"128\" y2=\"105\" style=\"stroke-width:2\" />\n",
       "\n",
       "  <!-- Vertical lines -->\n",
       "  <line x1=\"103\" y1=\"0\" x2=\"103\" y2=\"80\" style=\"stroke-width:2\" />\n",
       "  <line x1=\"128\" y1=\"25\" x2=\"128\" y2=\"105\" style=\"stroke-width:2\" />\n",
       "\n",
       "  <!-- Colored Rectangle -->\n",
       "  <polygon points=\"103.0,0.0 128.06069503873638,25.060695038736373 128.06069503873638,105.39127355113307 103.0,80.3305785123967\" style=\"fill:#ECB172A0;stroke-width:0\"/>\n",
       "\n",
       "  <!-- Horizontal lines -->\n",
       "  <line x1=\"103\" y1=\"0\" x2=\"223\" y2=\"0\" style=\"stroke-width:2\" />\n",
       "  <line x1=\"128\" y1=\"25\" x2=\"248\" y2=\"25\" style=\"stroke-width:2\" />\n",
       "\n",
       "  <!-- Vertical lines -->\n",
       "  <line x1=\"103\" y1=\"0\" x2=\"128\" y2=\"25\" style=\"stroke-width:2\" />\n",
       "  <line x1=\"223\" y1=\"0\" x2=\"248\" y2=\"25\" style=\"stroke-width:2\" />\n",
       "\n",
       "  <!-- Colored Rectangle -->\n",
       "  <polygon points=\"103.0,0.0 223.0,0.0 248.06069503873638,25.060695038736373 128.06069503873638,25.060695038736373\" style=\"fill:#ECB172A0;stroke-width:0\"/>\n",
       "\n",
       "  <!-- Horizontal lines -->\n",
       "  <line x1=\"128\" y1=\"25\" x2=\"248\" y2=\"25\" style=\"stroke-width:2\" />\n",
       "  <line x1=\"128\" y1=\"105\" x2=\"248\" y2=\"105\" style=\"stroke-width:2\" />\n",
       "\n",
       "  <!-- Vertical lines -->\n",
       "  <line x1=\"128\" y1=\"25\" x2=\"128\" y2=\"105\" style=\"stroke-width:2\" />\n",
       "  <line x1=\"248\" y1=\"25\" x2=\"248\" y2=\"105\" style=\"stroke-width:2\" />\n",
       "\n",
       "  <!-- Colored Rectangle -->\n",
       "  <polygon points=\"128.06069503873636,25.060695038736373 248.06069503873636,25.060695038736373 248.06069503873636,105.39127355113307 128.06069503873636,105.39127355113307\" style=\"fill:#ECB172A0;stroke-width:0\"/>\n",
       "\n",
       "  <!-- Text -->\n",
       "  <text x=\"188.060695\" y=\"125.391274\" font-size=\"1.0rem\" font-weight=\"100\" text-anchor=\"middle\" >121</text>\n",
       "  <text x=\"268.060695\" y=\"65.225984\" font-size=\"1.0rem\" font-weight=\"100\" text-anchor=\"middle\" transform=\"rotate(0,268.060695,65.225984)\">81</text>\n",
       "  <text x=\"105.530348\" y=\"112.860926\" font-size=\"1.0rem\" font-weight=\"100\" text-anchor=\"middle\" transform=\"rotate(45,105.530348,112.860926)\">28</text>\n",
       "</svg>\n",
       "</td>\n",
       "</tr>\n",
       "</table></div></li></ul></div></li><li class='xr-section-item'><input id='section-05e263ab-e3f2-4062-b6a3-bca0546c2762' class='xr-section-summary-in' type='checkbox'  checked><label for='section-05e263ab-e3f2-4062-b6a3-bca0546c2762' class='xr-section-summary' >Attributes: <span>(2)</span></label><div class='xr-section-inline-details'></div><div class='xr-section-details'><dl class='xr-attrs'><dt><span>Conventions :</span></dt><dd>CF-1.6</dd><dt><span>history :</span></dt><dd>2021-08-16 01:01:19 GMT by grib_to_netcdf-2.20.0: /opt/ecmwf/mars-client/bin/grib_to_netcdf -S param -o /cache/data6/adaptor.mars.external-1629075678.8476045-8742-9-1ea9e1eb-c10a-4229-b466-d63294ad0454.nc /cache/tmp/1ea9e1eb-c10a-4229-b466-d63294ad0454-adaptor.mars.external-1629075675.342901-8742-10-tmp.grib</dd></dl></div></li></ul></div></div>"
      ],
      "text/plain": [
       "<xarray.Dataset>\n",
       "Dimensions:  (time: 24, lon: 121, lat: 81, member: 28, step: 5)\n",
       "Coordinates:\n",
       "  * time     (time) datetime64[ns] 1993-08-01 1994-08-01 ... 2016-08-01\n",
       "  * lon      (lon) float32 120.0 121.0 122.0 123.0 ... 237.0 238.0 239.0 240.0\n",
       "  * lat      (lat) float32 -50.0 -49.0 -48.0 -47.0 -46.0 ... 27.0 28.0 29.0 30.0\n",
       "  * member   (member) int32 0 1 2 3 4 5 6 7 8 9 ... 19 20 21 22 23 24 25 26 27\n",
       "  * step     (step) int64 1 2 3 4 5\n",
       "Data variables:\n",
       "    tprate   (time, step, member, lat, lon) float32 dask.array<chunksize=(1, 5, 28, 81, 121), meta=np.ndarray>\n",
       "Attributes:\n",
       "    Conventions:  CF-1.6\n",
       "    history:      2021-08-16 01:01:19 GMT by grib_to_netcdf-2.20.0: /opt/ecmw..."
      ]
     },
     "execution_count": 31,
     "metadata": {},
     "output_type": "execute_result"
    }
   ],
   "source": [
    "dset"
   ]
  },
  {
   "cell_type": "markdown",
   "id": "f7bbf7e7-c341-436b-b9db-103fd378dcb0",
   "metadata": {},
   "source": [
    "### make sure we select the hindcast period "
   ]
  },
  {
   "cell_type": "code",
   "execution_count": 32,
   "id": "b543e1a2-5e81-43d0-8bcc-66cd8a1eeedf",
   "metadata": {},
   "outputs": [],
   "source": [
    "dset = dset.sel(time=slice('1993', '2016'))"
   ]
  },
  {
   "cell_type": "markdown",
   "id": "d462983e-c166-4b90-a2cc-26b2f1e7d9cb",
   "metadata": {},
   "source": [
    "### convert to monthly rainfall accumulations (mm/month)"
   ]
  },
  {
   "cell_type": "code",
   "execution_count": 33,
   "id": "6e725dd4-91d0-4246-8d00-6f604b1f489e",
   "metadata": {},
   "outputs": [
    {
     "data": {
      "text/plain": [
       "{'units': 'm s**-1', 'long_name': 'Mean total precipitation rate'}"
      ]
     },
     "execution_count": 33,
     "metadata": {},
     "output_type": "execute_result"
    }
   ],
   "source": [
    "dset.tprate.attrs"
   ]
  },
  {
   "cell_type": "code",
   "execution_count": 34,
   "id": "67d42493-35a0-4658-ad1c-a6818fc91d2b",
   "metadata": {},
   "outputs": [
    {
     "name": "stdout",
     "output_type": "stream",
     "text": [
      "\n",
      "unit is m s**-1, converting to mm/day\n",
      "\n",
      "now converting to mm/month, converted precipitation will be held in var = precip\n"
     ]
    }
   ],
   "source": [
    "dset = C3S.convert_rainfall(dset, varin='tprate', varout='precip', leadvar='step', timevar='time', dropvar=True)"
   ]
  },
  {
   "cell_type": "code",
   "execution_count": 35,
   "id": "4d15bffd-b6c1-49dc-ac3c-428e824a10ca",
   "metadata": {},
   "outputs": [
    {
     "data": {
      "text/plain": [
       "<bound method Dataset.info of <xarray.Dataset>\n",
       "Dimensions:  (time: 24, lon: 121, lat: 81, member: 28, step: 5)\n",
       "Coordinates:\n",
       "  * time     (time) datetime64[ns] 1993-08-01 1994-08-01 ... 2016-08-01\n",
       "  * lon      (lon) float32 120.0 121.0 122.0 123.0 ... 237.0 238.0 239.0 240.0\n",
       "  * lat      (lat) float32 -50.0 -49.0 -48.0 -47.0 -46.0 ... 27.0 28.0 29.0 30.0\n",
       "  * member   (member) int32 0 1 2 3 4 5 6 7 8 9 ... 19 20 21 22 23 24 25 26 27\n",
       "  * step     (step) int64 1 2 3 4 5\n",
       "Data variables:\n",
       "    precip   (time, step, member, lat, lon) float64 dask.array<chunksize=(1, 5, 28, 81, 121), meta=np.ndarray>\n",
       "Attributes:\n",
       "    Conventions:  CF-1.6\n",
       "    history:      2021-08-16 01:01:19 GMT by grib_to_netcdf-2.20.0: /opt/ecmw...>"
      ]
     },
     "execution_count": 35,
     "metadata": {},
     "output_type": "execute_result"
    }
   ],
   "source": [
    "dset.info"
   ]
  },
  {
   "cell_type": "code",
   "execution_count": 36,
   "id": "5c7fe646-bfd6-417e-aaaa-8e0cb0b899c8",
   "metadata": {},
   "outputs": [
    {
     "data": {
      "text/plain": [
       "{'units': 'mm/month'}"
      ]
     },
     "execution_count": 36,
     "metadata": {},
     "output_type": "execute_result"
    }
   ],
   "source": [
    "dset.precip.attrs"
   ]
  },
  {
   "cell_type": "markdown",
   "id": "fd7553f0-3ff3-46f3-bdcd-6e6f48f7abb7",
   "metadata": {},
   "source": [
    "### make sure there are no negative values "
   ]
  },
  {
   "cell_type": "code",
   "execution_count": 37,
   "id": "48667708-24cc-4f51-ab18-3a75e2f28ccd",
   "metadata": {},
   "outputs": [],
   "source": [
    "dset = dset.clip(min=0)"
   ]
  },
  {
   "cell_type": "markdown",
   "id": "a6dd054f-5e96-48e6-b935-80d9ea0f54a2",
   "metadata": {},
   "source": [
    "### if the period is set to `seasonal`, calculates the seasonal accumulations "
   ]
  },
  {
   "cell_type": "code",
   "execution_count": 38,
   "id": "cc83f98c-909f-44bc-aa14-ef1778a747f5",
   "metadata": {},
   "outputs": [],
   "source": [
    "if period == 'seasonal': \n",
    "    \n",
    "    dset = dset.rolling({'step':3}, min_periods=3).sum('step')\n",
    "    \n",
    "    dset = dset.sel({'step':slice(3, None)})"
   ]
  },
  {
   "cell_type": "code",
   "execution_count": 39,
   "id": "84f4203d-9b4b-4db5-b4a2-174be37b28c5",
   "metadata": {},
   "outputs": [
    {
     "data": {
      "text/plain": [
       "<bound method Dataset.info of <xarray.Dataset>\n",
       "Dimensions:  (time: 24, lon: 121, lat: 81, member: 28, step: 3)\n",
       "Coordinates:\n",
       "  * time     (time) datetime64[ns] 1993-08-01 1994-08-01 ... 2016-08-01\n",
       "  * lon      (lon) float32 120.0 121.0 122.0 123.0 ... 237.0 238.0 239.0 240.0\n",
       "  * lat      (lat) float32 -50.0 -49.0 -48.0 -47.0 -46.0 ... 27.0 28.0 29.0 30.0\n",
       "  * member   (member) int32 0 1 2 3 4 5 6 7 8 9 ... 19 20 21 22 23 24 25 26 27\n",
       "  * step     (step) int64 3 4 5\n",
       "Data variables:\n",
       "    precip   (time, step, member, lat, lon) float64 dask.array<chunksize=(1, 3, 28, 81, 121), meta=np.ndarray>\n",
       "Attributes:\n",
       "    Conventions:  CF-1.6\n",
       "    history:      2021-08-16 01:01:19 GMT by grib_to_netcdf-2.20.0: /opt/ecmw...>"
      ]
     },
     "execution_count": 39,
     "metadata": {},
     "output_type": "execute_result"
    }
   ],
   "source": [
    "dset.info"
   ]
  },
  {
   "cell_type": "markdown",
   "id": "aab31221-ef5d-4a3c-9967-81aaf3d160aa",
   "metadata": {},
   "source": [
    "### rechunk, just make sure each chunk can fit in memory"
   ]
  },
  {
   "cell_type": "code",
   "execution_count": 40,
   "id": "f19d676e-3e48-4f94-8416-b4e91eae83c1",
   "metadata": {},
   "outputs": [
    {
     "data": {
      "text/plain": [
       "Frozen({'time': (1, 1, 1, 1, 1, 1, 1, 1, 1, 1, 1, 1, 1, 1, 1, 1, 1, 1, 1, 1, 1, 1, 1, 1), 'step': (3,), 'member': (28,), 'lat': (81,), 'lon': (121,)})"
      ]
     },
     "execution_count": 40,
     "metadata": {},
     "output_type": "execute_result"
    }
   ],
   "source": [
    "dset.chunks"
   ]
  },
  {
   "cell_type": "code",
   "execution_count": 41,
   "id": "82dc21a1-bc53-4f03-acb5-f58e983c20e4",
   "metadata": {},
   "outputs": [],
   "source": [
    "chunks = {\n",
    "    'time':-1, \n",
    "    'member':-1, \n",
    "    'step':1, \n",
    "    'lat':10, \n",
    "    'lon':10\n",
    "}"
   ]
  },
  {
   "cell_type": "code",
   "execution_count": 42,
   "id": "e288e6b1-1b84-48c2-a2bb-472aa4b740f5",
   "metadata": {},
   "outputs": [],
   "source": [
    "dset = dset.chunk(chunks)"
   ]
  },
  {
   "cell_type": "code",
   "execution_count": 43,
   "id": "b92f5daa-b896-4b6b-bd3f-c15321e89367",
   "metadata": {},
   "outputs": [
    {
     "data": {
      "text/html": [
       "<div><svg style=\"position: absolute; width: 0; height: 0; overflow: hidden\">\n",
       "<defs>\n",
       "<symbol id=\"icon-database\" viewBox=\"0 0 32 32\">\n",
       "<path d=\"M16 0c-8.837 0-16 2.239-16 5v4c0 2.761 7.163 5 16 5s16-2.239 16-5v-4c0-2.761-7.163-5-16-5z\"></path>\n",
       "<path d=\"M16 17c-8.837 0-16-2.239-16-5v6c0 2.761 7.163 5 16 5s16-2.239 16-5v-6c0 2.761-7.163 5-16 5z\"></path>\n",
       "<path d=\"M16 26c-8.837 0-16-2.239-16-5v6c0 2.761 7.163 5 16 5s16-2.239 16-5v-6c0 2.761-7.163 5-16 5z\"></path>\n",
       "</symbol>\n",
       "<symbol id=\"icon-file-text2\" viewBox=\"0 0 32 32\">\n",
       "<path d=\"M28.681 7.159c-0.694-0.947-1.662-2.053-2.724-3.116s-2.169-2.030-3.116-2.724c-1.612-1.182-2.393-1.319-2.841-1.319h-15.5c-1.378 0-2.5 1.121-2.5 2.5v27c0 1.378 1.122 2.5 2.5 2.5h23c1.378 0 2.5-1.122 2.5-2.5v-19.5c0-0.448-0.137-1.23-1.319-2.841zM24.543 5.457c0.959 0.959 1.712 1.825 2.268 2.543h-4.811v-4.811c0.718 0.556 1.584 1.309 2.543 2.268zM28 29.5c0 0.271-0.229 0.5-0.5 0.5h-23c-0.271 0-0.5-0.229-0.5-0.5v-27c0-0.271 0.229-0.5 0.5-0.5 0 0 15.499-0 15.5 0v7c0 0.552 0.448 1 1 1h7v19.5z\"></path>\n",
       "<path d=\"M23 26h-14c-0.552 0-1-0.448-1-1s0.448-1 1-1h14c0.552 0 1 0.448 1 1s-0.448 1-1 1z\"></path>\n",
       "<path d=\"M23 22h-14c-0.552 0-1-0.448-1-1s0.448-1 1-1h14c0.552 0 1 0.448 1 1s-0.448 1-1 1z\"></path>\n",
       "<path d=\"M23 18h-14c-0.552 0-1-0.448-1-1s0.448-1 1-1h14c0.552 0 1 0.448 1 1s-0.448 1-1 1z\"></path>\n",
       "</symbol>\n",
       "</defs>\n",
       "</svg>\n",
       "<style>/* CSS stylesheet for displaying xarray objects in jupyterlab.\n",
       " *\n",
       " */\n",
       "\n",
       ":root {\n",
       "  --xr-font-color0: var(--jp-content-font-color0, rgba(0, 0, 0, 1));\n",
       "  --xr-font-color2: var(--jp-content-font-color2, rgba(0, 0, 0, 0.54));\n",
       "  --xr-font-color3: var(--jp-content-font-color3, rgba(0, 0, 0, 0.38));\n",
       "  --xr-border-color: var(--jp-border-color2, #e0e0e0);\n",
       "  --xr-disabled-color: var(--jp-layout-color3, #bdbdbd);\n",
       "  --xr-background-color: var(--jp-layout-color0, white);\n",
       "  --xr-background-color-row-even: var(--jp-layout-color1, white);\n",
       "  --xr-background-color-row-odd: var(--jp-layout-color2, #eeeeee);\n",
       "}\n",
       "\n",
       "html[theme=dark],\n",
       "body.vscode-dark {\n",
       "  --xr-font-color0: rgba(255, 255, 255, 1);\n",
       "  --xr-font-color2: rgba(255, 255, 255, 0.54);\n",
       "  --xr-font-color3: rgba(255, 255, 255, 0.38);\n",
       "  --xr-border-color: #1F1F1F;\n",
       "  --xr-disabled-color: #515151;\n",
       "  --xr-background-color: #111111;\n",
       "  --xr-background-color-row-even: #111111;\n",
       "  --xr-background-color-row-odd: #313131;\n",
       "}\n",
       "\n",
       ".xr-wrap {\n",
       "  display: block;\n",
       "  min-width: 300px;\n",
       "  max-width: 700px;\n",
       "}\n",
       "\n",
       ".xr-text-repr-fallback {\n",
       "  /* fallback to plain text repr when CSS is not injected (untrusted notebook) */\n",
       "  display: none;\n",
       "}\n",
       "\n",
       ".xr-header {\n",
       "  padding-top: 6px;\n",
       "  padding-bottom: 6px;\n",
       "  margin-bottom: 4px;\n",
       "  border-bottom: solid 1px var(--xr-border-color);\n",
       "}\n",
       "\n",
       ".xr-header > div,\n",
       ".xr-header > ul {\n",
       "  display: inline;\n",
       "  margin-top: 0;\n",
       "  margin-bottom: 0;\n",
       "}\n",
       "\n",
       ".xr-obj-type,\n",
       ".xr-array-name {\n",
       "  margin-left: 2px;\n",
       "  margin-right: 10px;\n",
       "}\n",
       "\n",
       ".xr-obj-type {\n",
       "  color: var(--xr-font-color2);\n",
       "}\n",
       "\n",
       ".xr-sections {\n",
       "  padding-left: 0 !important;\n",
       "  display: grid;\n",
       "  grid-template-columns: 150px auto auto 1fr 20px 20px;\n",
       "}\n",
       "\n",
       ".xr-section-item {\n",
       "  display: contents;\n",
       "}\n",
       "\n",
       ".xr-section-item input {\n",
       "  display: none;\n",
       "}\n",
       "\n",
       ".xr-section-item input + label {\n",
       "  color: var(--xr-disabled-color);\n",
       "}\n",
       "\n",
       ".xr-section-item input:enabled + label {\n",
       "  cursor: pointer;\n",
       "  color: var(--xr-font-color2);\n",
       "}\n",
       "\n",
       ".xr-section-item input:enabled + label:hover {\n",
       "  color: var(--xr-font-color0);\n",
       "}\n",
       "\n",
       ".xr-section-summary {\n",
       "  grid-column: 1;\n",
       "  color: var(--xr-font-color2);\n",
       "  font-weight: 500;\n",
       "}\n",
       "\n",
       ".xr-section-summary > span {\n",
       "  display: inline-block;\n",
       "  padding-left: 0.5em;\n",
       "}\n",
       "\n",
       ".xr-section-summary-in:disabled + label {\n",
       "  color: var(--xr-font-color2);\n",
       "}\n",
       "\n",
       ".xr-section-summary-in + label:before {\n",
       "  display: inline-block;\n",
       "  content: '►';\n",
       "  font-size: 11px;\n",
       "  width: 15px;\n",
       "  text-align: center;\n",
       "}\n",
       "\n",
       ".xr-section-summary-in:disabled + label:before {\n",
       "  color: var(--xr-disabled-color);\n",
       "}\n",
       "\n",
       ".xr-section-summary-in:checked + label:before {\n",
       "  content: '▼';\n",
       "}\n",
       "\n",
       ".xr-section-summary-in:checked + label > span {\n",
       "  display: none;\n",
       "}\n",
       "\n",
       ".xr-section-summary,\n",
       ".xr-section-inline-details {\n",
       "  padding-top: 4px;\n",
       "  padding-bottom: 4px;\n",
       "}\n",
       "\n",
       ".xr-section-inline-details {\n",
       "  grid-column: 2 / -1;\n",
       "}\n",
       "\n",
       ".xr-section-details {\n",
       "  display: none;\n",
       "  grid-column: 1 / -1;\n",
       "  margin-bottom: 5px;\n",
       "}\n",
       "\n",
       ".xr-section-summary-in:checked ~ .xr-section-details {\n",
       "  display: contents;\n",
       "}\n",
       "\n",
       ".xr-array-wrap {\n",
       "  grid-column: 1 / -1;\n",
       "  display: grid;\n",
       "  grid-template-columns: 20px auto;\n",
       "}\n",
       "\n",
       ".xr-array-wrap > label {\n",
       "  grid-column: 1;\n",
       "  vertical-align: top;\n",
       "}\n",
       "\n",
       ".xr-preview {\n",
       "  color: var(--xr-font-color3);\n",
       "}\n",
       "\n",
       ".xr-array-preview,\n",
       ".xr-array-data {\n",
       "  padding: 0 5px !important;\n",
       "  grid-column: 2;\n",
       "}\n",
       "\n",
       ".xr-array-data,\n",
       ".xr-array-in:checked ~ .xr-array-preview {\n",
       "  display: none;\n",
       "}\n",
       "\n",
       ".xr-array-in:checked ~ .xr-array-data,\n",
       ".xr-array-preview {\n",
       "  display: inline-block;\n",
       "}\n",
       "\n",
       ".xr-dim-list {\n",
       "  display: inline-block !important;\n",
       "  list-style: none;\n",
       "  padding: 0 !important;\n",
       "  margin: 0;\n",
       "}\n",
       "\n",
       ".xr-dim-list li {\n",
       "  display: inline-block;\n",
       "  padding: 0;\n",
       "  margin: 0;\n",
       "}\n",
       "\n",
       ".xr-dim-list:before {\n",
       "  content: '(';\n",
       "}\n",
       "\n",
       ".xr-dim-list:after {\n",
       "  content: ')';\n",
       "}\n",
       "\n",
       ".xr-dim-list li:not(:last-child):after {\n",
       "  content: ',';\n",
       "  padding-right: 5px;\n",
       "}\n",
       "\n",
       ".xr-has-index {\n",
       "  font-weight: bold;\n",
       "}\n",
       "\n",
       ".xr-var-list,\n",
       ".xr-var-item {\n",
       "  display: contents;\n",
       "}\n",
       "\n",
       ".xr-var-item > div,\n",
       ".xr-var-item label,\n",
       ".xr-var-item > .xr-var-name span {\n",
       "  background-color: var(--xr-background-color-row-even);\n",
       "  margin-bottom: 0;\n",
       "}\n",
       "\n",
       ".xr-var-item > .xr-var-name:hover span {\n",
       "  padding-right: 5px;\n",
       "}\n",
       "\n",
       ".xr-var-list > li:nth-child(odd) > div,\n",
       ".xr-var-list > li:nth-child(odd) > label,\n",
       ".xr-var-list > li:nth-child(odd) > .xr-var-name span {\n",
       "  background-color: var(--xr-background-color-row-odd);\n",
       "}\n",
       "\n",
       ".xr-var-name {\n",
       "  grid-column: 1;\n",
       "}\n",
       "\n",
       ".xr-var-dims {\n",
       "  grid-column: 2;\n",
       "}\n",
       "\n",
       ".xr-var-dtype {\n",
       "  grid-column: 3;\n",
       "  text-align: right;\n",
       "  color: var(--xr-font-color2);\n",
       "}\n",
       "\n",
       ".xr-var-preview {\n",
       "  grid-column: 4;\n",
       "}\n",
       "\n",
       ".xr-var-name,\n",
       ".xr-var-dims,\n",
       ".xr-var-dtype,\n",
       ".xr-preview,\n",
       ".xr-attrs dt {\n",
       "  white-space: nowrap;\n",
       "  overflow: hidden;\n",
       "  text-overflow: ellipsis;\n",
       "  padding-right: 10px;\n",
       "}\n",
       "\n",
       ".xr-var-name:hover,\n",
       ".xr-var-dims:hover,\n",
       ".xr-var-dtype:hover,\n",
       ".xr-attrs dt:hover {\n",
       "  overflow: visible;\n",
       "  width: auto;\n",
       "  z-index: 1;\n",
       "}\n",
       "\n",
       ".xr-var-attrs,\n",
       ".xr-var-data {\n",
       "  display: none;\n",
       "  background-color: var(--xr-background-color) !important;\n",
       "  padding-bottom: 5px !important;\n",
       "}\n",
       "\n",
       ".xr-var-attrs-in:checked ~ .xr-var-attrs,\n",
       ".xr-var-data-in:checked ~ .xr-var-data {\n",
       "  display: block;\n",
       "}\n",
       "\n",
       ".xr-var-data > table {\n",
       "  float: right;\n",
       "}\n",
       "\n",
       ".xr-var-name span,\n",
       ".xr-var-data,\n",
       ".xr-attrs {\n",
       "  padding-left: 25px !important;\n",
       "}\n",
       "\n",
       ".xr-attrs,\n",
       ".xr-var-attrs,\n",
       ".xr-var-data {\n",
       "  grid-column: 1 / -1;\n",
       "}\n",
       "\n",
       "dl.xr-attrs {\n",
       "  padding: 0;\n",
       "  margin: 0;\n",
       "  display: grid;\n",
       "  grid-template-columns: 125px auto;\n",
       "}\n",
       "\n",
       ".xr-attrs dt,\n",
       ".xr-attrs dd {\n",
       "  padding: 0;\n",
       "  margin: 0;\n",
       "  float: left;\n",
       "  padding-right: 10px;\n",
       "  width: auto;\n",
       "}\n",
       "\n",
       ".xr-attrs dt {\n",
       "  font-weight: normal;\n",
       "  grid-column: 1;\n",
       "}\n",
       "\n",
       ".xr-attrs dt:hover span {\n",
       "  display: inline-block;\n",
       "  background: var(--xr-background-color);\n",
       "  padding-right: 10px;\n",
       "}\n",
       "\n",
       ".xr-attrs dd {\n",
       "  grid-column: 2;\n",
       "  white-space: pre-wrap;\n",
       "  word-break: break-all;\n",
       "}\n",
       "\n",
       ".xr-icon-database,\n",
       ".xr-icon-file-text2 {\n",
       "  display: inline-block;\n",
       "  vertical-align: middle;\n",
       "  width: 1em;\n",
       "  height: 1.5em !important;\n",
       "  stroke-width: 0;\n",
       "  stroke: currentColor;\n",
       "  fill: currentColor;\n",
       "}\n",
       "</style><pre class='xr-text-repr-fallback'>&lt;xarray.Dataset&gt;\n",
       "Dimensions:  (time: 24, lon: 121, lat: 81, member: 28, step: 3)\n",
       "Coordinates:\n",
       "  * time     (time) datetime64[ns] 1993-08-01 1994-08-01 ... 2016-08-01\n",
       "  * lon      (lon) float32 120.0 121.0 122.0 123.0 ... 237.0 238.0 239.0 240.0\n",
       "  * lat      (lat) float32 -50.0 -49.0 -48.0 -47.0 -46.0 ... 27.0 28.0 29.0 30.0\n",
       "  * member   (member) int32 0 1 2 3 4 5 6 7 8 9 ... 19 20 21 22 23 24 25 26 27\n",
       "  * step     (step) int64 3 4 5\n",
       "Data variables:\n",
       "    precip   (time, step, member, lat, lon) float64 dask.array&lt;chunksize=(24, 1, 28, 10, 10), meta=np.ndarray&gt;\n",
       "Attributes:\n",
       "    Conventions:  CF-1.6\n",
       "    history:      2021-08-16 01:01:19 GMT by grib_to_netcdf-2.20.0: /opt/ecmw...</pre><div class='xr-wrap' hidden><div class='xr-header'><div class='xr-obj-type'>xarray.Dataset</div></div><ul class='xr-sections'><li class='xr-section-item'><input id='section-0cb84912-94c4-4e09-97ed-e6a7840fb9b0' class='xr-section-summary-in' type='checkbox' disabled ><label for='section-0cb84912-94c4-4e09-97ed-e6a7840fb9b0' class='xr-section-summary'  title='Expand/collapse section'>Dimensions:</label><div class='xr-section-inline-details'><ul class='xr-dim-list'><li><span class='xr-has-index'>time</span>: 24</li><li><span class='xr-has-index'>lon</span>: 121</li><li><span class='xr-has-index'>lat</span>: 81</li><li><span class='xr-has-index'>member</span>: 28</li><li><span class='xr-has-index'>step</span>: 3</li></ul></div><div class='xr-section-details'></div></li><li class='xr-section-item'><input id='section-c5d91393-8fb4-40cc-8a9e-e8057c4ddaa7' class='xr-section-summary-in' type='checkbox'  checked><label for='section-c5d91393-8fb4-40cc-8a9e-e8057c4ddaa7' class='xr-section-summary' >Coordinates: <span>(5)</span></label><div class='xr-section-inline-details'></div><div class='xr-section-details'><ul class='xr-var-list'><li class='xr-var-item'><div class='xr-var-name'><span class='xr-has-index'>time</span></div><div class='xr-var-dims'>(time)</div><div class='xr-var-dtype'>datetime64[ns]</div><div class='xr-var-preview xr-preview'>1993-08-01 ... 2016-08-01</div><input id='attrs-c9fa66c4-b067-4641-b8e3-f1a5fb6e18b6' class='xr-var-attrs-in' type='checkbox' disabled><label for='attrs-c9fa66c4-b067-4641-b8e3-f1a5fb6e18b6' title='Show/Hide attributes'><svg class='icon xr-icon-file-text2'><use xlink:href='#icon-file-text2'></use></svg></label><input id='data-906f6e0f-4aa0-485a-b7fb-bad72b41750c' class='xr-var-data-in' type='checkbox'><label for='data-906f6e0f-4aa0-485a-b7fb-bad72b41750c' title='Show/Hide data repr'><svg class='icon xr-icon-database'><use xlink:href='#icon-database'></use></svg></label><div class='xr-var-attrs'><dl class='xr-attrs'></dl></div><div class='xr-var-data'><pre>array([&#x27;1993-08-01T00:00:00.000000000&#x27;, &#x27;1994-08-01T00:00:00.000000000&#x27;,\n",
       "       &#x27;1995-08-01T00:00:00.000000000&#x27;, &#x27;1996-08-01T00:00:00.000000000&#x27;,\n",
       "       &#x27;1997-08-01T00:00:00.000000000&#x27;, &#x27;1998-08-01T00:00:00.000000000&#x27;,\n",
       "       &#x27;1999-08-01T00:00:00.000000000&#x27;, &#x27;2000-08-01T00:00:00.000000000&#x27;,\n",
       "       &#x27;2001-08-01T00:00:00.000000000&#x27;, &#x27;2002-08-01T00:00:00.000000000&#x27;,\n",
       "       &#x27;2003-08-01T00:00:00.000000000&#x27;, &#x27;2004-08-01T00:00:00.000000000&#x27;,\n",
       "       &#x27;2005-08-01T00:00:00.000000000&#x27;, &#x27;2006-08-01T00:00:00.000000000&#x27;,\n",
       "       &#x27;2007-08-01T00:00:00.000000000&#x27;, &#x27;2008-08-01T00:00:00.000000000&#x27;,\n",
       "       &#x27;2009-08-01T00:00:00.000000000&#x27;, &#x27;2010-08-01T00:00:00.000000000&#x27;,\n",
       "       &#x27;2011-08-01T00:00:00.000000000&#x27;, &#x27;2012-08-01T00:00:00.000000000&#x27;,\n",
       "       &#x27;2013-08-01T00:00:00.000000000&#x27;, &#x27;2014-08-01T00:00:00.000000000&#x27;,\n",
       "       &#x27;2015-08-01T00:00:00.000000000&#x27;, &#x27;2016-08-01T00:00:00.000000000&#x27;],\n",
       "      dtype=&#x27;datetime64[ns]&#x27;)</pre></div></li><li class='xr-var-item'><div class='xr-var-name'><span class='xr-has-index'>lon</span></div><div class='xr-var-dims'>(lon)</div><div class='xr-var-dtype'>float32</div><div class='xr-var-preview xr-preview'>120.0 121.0 122.0 ... 239.0 240.0</div><input id='attrs-9cc14404-7538-4308-bffa-a1d26612f947' class='xr-var-attrs-in' type='checkbox' ><label for='attrs-9cc14404-7538-4308-bffa-a1d26612f947' title='Show/Hide attributes'><svg class='icon xr-icon-file-text2'><use xlink:href='#icon-file-text2'></use></svg></label><input id='data-4a34e437-23bc-45fb-a985-286bdc0396c8' class='xr-var-data-in' type='checkbox'><label for='data-4a34e437-23bc-45fb-a985-286bdc0396c8' title='Show/Hide data repr'><svg class='icon xr-icon-database'><use xlink:href='#icon-database'></use></svg></label><div class='xr-var-attrs'><dl class='xr-attrs'><dt><span>units :</span></dt><dd>degrees_east</dd><dt><span>long_name :</span></dt><dd>longitude</dd></dl></div><div class='xr-var-data'><pre>array([120., 121., 122., 123., 124., 125., 126., 127., 128., 129., 130., 131.,\n",
       "       132., 133., 134., 135., 136., 137., 138., 139., 140., 141., 142., 143.,\n",
       "       144., 145., 146., 147., 148., 149., 150., 151., 152., 153., 154., 155.,\n",
       "       156., 157., 158., 159., 160., 161., 162., 163., 164., 165., 166., 167.,\n",
       "       168., 169., 170., 171., 172., 173., 174., 175., 176., 177., 178., 179.,\n",
       "       180., 181., 182., 183., 184., 185., 186., 187., 188., 189., 190., 191.,\n",
       "       192., 193., 194., 195., 196., 197., 198., 199., 200., 201., 202., 203.,\n",
       "       204., 205., 206., 207., 208., 209., 210., 211., 212., 213., 214., 215.,\n",
       "       216., 217., 218., 219., 220., 221., 222., 223., 224., 225., 226., 227.,\n",
       "       228., 229., 230., 231., 232., 233., 234., 235., 236., 237., 238., 239.,\n",
       "       240.], dtype=float32)</pre></div></li><li class='xr-var-item'><div class='xr-var-name'><span class='xr-has-index'>lat</span></div><div class='xr-var-dims'>(lat)</div><div class='xr-var-dtype'>float32</div><div class='xr-var-preview xr-preview'>-50.0 -49.0 -48.0 ... 29.0 30.0</div><input id='attrs-8317376d-c773-49e5-933c-836f9d518c1b' class='xr-var-attrs-in' type='checkbox' ><label for='attrs-8317376d-c773-49e5-933c-836f9d518c1b' title='Show/Hide attributes'><svg class='icon xr-icon-file-text2'><use xlink:href='#icon-file-text2'></use></svg></label><input id='data-47877aa9-9856-42e1-a074-c5e4b25c6aa2' class='xr-var-data-in' type='checkbox'><label for='data-47877aa9-9856-42e1-a074-c5e4b25c6aa2' title='Show/Hide data repr'><svg class='icon xr-icon-database'><use xlink:href='#icon-database'></use></svg></label><div class='xr-var-attrs'><dl class='xr-attrs'><dt><span>units :</span></dt><dd>degrees_north</dd><dt><span>long_name :</span></dt><dd>latitude</dd></dl></div><div class='xr-var-data'><pre>array([-50., -49., -48., -47., -46., -45., -44., -43., -42., -41., -40., -39.,\n",
       "       -38., -37., -36., -35., -34., -33., -32., -31., -30., -29., -28., -27.,\n",
       "       -26., -25., -24., -23., -22., -21., -20., -19., -18., -17., -16., -15.,\n",
       "       -14., -13., -12., -11., -10.,  -9.,  -8.,  -7.,  -6.,  -5.,  -4.,  -3.,\n",
       "        -2.,  -1.,   0.,   1.,   2.,   3.,   4.,   5.,   6.,   7.,   8.,   9.,\n",
       "        10.,  11.,  12.,  13.,  14.,  15.,  16.,  17.,  18.,  19.,  20.,  21.,\n",
       "        22.,  23.,  24.,  25.,  26.,  27.,  28.,  29.,  30.], dtype=float32)</pre></div></li><li class='xr-var-item'><div class='xr-var-name'><span class='xr-has-index'>member</span></div><div class='xr-var-dims'>(member)</div><div class='xr-var-dtype'>int32</div><div class='xr-var-preview xr-preview'>0 1 2 3 4 5 6 ... 22 23 24 25 26 27</div><input id='attrs-f8b920ab-0b51-4bfd-b67b-8c03ffb68ffc' class='xr-var-attrs-in' type='checkbox' ><label for='attrs-f8b920ab-0b51-4bfd-b67b-8c03ffb68ffc' title='Show/Hide attributes'><svg class='icon xr-icon-file-text2'><use xlink:href='#icon-file-text2'></use></svg></label><input id='data-2ba08d02-168f-4ae7-846b-35251003dd0e' class='xr-var-data-in' type='checkbox'><label for='data-2ba08d02-168f-4ae7-846b-35251003dd0e' title='Show/Hide data repr'><svg class='icon xr-icon-database'><use xlink:href='#icon-database'></use></svg></label><div class='xr-var-attrs'><dl class='xr-attrs'><dt><span>long_name :</span></dt><dd>ensemble_member</dd></dl></div><div class='xr-var-data'><pre>array([ 0,  1,  2,  3,  4,  5,  6,  7,  8,  9, 10, 11, 12, 13, 14, 15, 16, 17,\n",
       "       18, 19, 20, 21, 22, 23, 24, 25, 26, 27], dtype=int32)</pre></div></li><li class='xr-var-item'><div class='xr-var-name'><span class='xr-has-index'>step</span></div><div class='xr-var-dims'>(step)</div><div class='xr-var-dtype'>int64</div><div class='xr-var-preview xr-preview'>3 4 5</div><input id='attrs-8a340b4a-b006-41c0-8151-c9192b08feef' class='xr-var-attrs-in' type='checkbox' disabled><label for='attrs-8a340b4a-b006-41c0-8151-c9192b08feef' title='Show/Hide attributes'><svg class='icon xr-icon-file-text2'><use xlink:href='#icon-file-text2'></use></svg></label><input id='data-87ad2172-7ecc-46eb-89e0-12ab39168fa7' class='xr-var-data-in' type='checkbox'><label for='data-87ad2172-7ecc-46eb-89e0-12ab39168fa7' title='Show/Hide data repr'><svg class='icon xr-icon-database'><use xlink:href='#icon-database'></use></svg></label><div class='xr-var-attrs'><dl class='xr-attrs'></dl></div><div class='xr-var-data'><pre>array([3, 4, 5])</pre></div></li></ul></div></li><li class='xr-section-item'><input id='section-94fdceab-bd75-4b80-94f6-3e7382913724' class='xr-section-summary-in' type='checkbox'  checked><label for='section-94fdceab-bd75-4b80-94f6-3e7382913724' class='xr-section-summary' >Data variables: <span>(1)</span></label><div class='xr-section-inline-details'></div><div class='xr-section-details'><ul class='xr-var-list'><li class='xr-var-item'><div class='xr-var-name'><span>precip</span></div><div class='xr-var-dims'>(time, step, member, lat, lon)</div><div class='xr-var-dtype'>float64</div><div class='xr-var-preview xr-preview'>dask.array&lt;chunksize=(24, 1, 28, 10, 10), meta=np.ndarray&gt;</div><input id='attrs-a147d7e1-84bf-4086-abdf-21258b3ee830' class='xr-var-attrs-in' type='checkbox' ><label for='attrs-a147d7e1-84bf-4086-abdf-21258b3ee830' title='Show/Hide attributes'><svg class='icon xr-icon-file-text2'><use xlink:href='#icon-file-text2'></use></svg></label><input id='data-5ea01494-77a4-44f2-8e3b-d311b1eccf4e' class='xr-var-data-in' type='checkbox'><label for='data-5ea01494-77a4-44f2-8e3b-d311b1eccf4e' title='Show/Hide data repr'><svg class='icon xr-icon-database'><use xlink:href='#icon-database'></use></svg></label><div class='xr-var-attrs'><dl class='xr-attrs'><dt><span>units :</span></dt><dd>mm/month</dd></dl></div><div class='xr-var-data'><table>\n",
       "<tr>\n",
       "<td>\n",
       "<table>\n",
       "  <thead>\n",
       "    <tr><td> </td><th> Array </th><th> Chunk </th></tr>\n",
       "  </thead>\n",
       "  <tbody>\n",
       "    <tr><th> Bytes </th><td> 150.75 MiB </td> <td> 525.00 kiB </td></tr>\n",
       "    <tr><th> Shape </th><td> (24, 3, 28, 81, 121) </td> <td> (24, 1, 28, 10, 10) </td></tr>\n",
       "    <tr><th> Count </th><td> 2038 Tasks </td><td> 351 Chunks </td></tr>\n",
       "    <tr><th> Type </th><td> float64 </td><td> numpy.ndarray </td></tr>\n",
       "  </tbody>\n",
       "</table>\n",
       "</td>\n",
       "<td>\n",
       "<svg width=\"395\" height=\"155\" style=\"stroke:rgb(0,0,0);stroke-width:1\" >\n",
       "\n",
       "  <!-- Horizontal lines -->\n",
       "  <line x1=\"0\" y1=\"0\" x2=\"30\" y2=\"0\" style=\"stroke-width:2\" />\n",
       "  <line x1=\"0\" y1=\"41\" x2=\"30\" y2=\"41\" style=\"stroke-width:2\" />\n",
       "\n",
       "  <!-- Vertical lines -->\n",
       "  <line x1=\"0\" y1=\"0\" x2=\"0\" y2=\"41\" style=\"stroke-width:2\" />\n",
       "  <line x1=\"10\" y1=\"0\" x2=\"10\" y2=\"41\" />\n",
       "  <line x1=\"20\" y1=\"0\" x2=\"20\" y2=\"41\" />\n",
       "  <line x1=\"30\" y1=\"0\" x2=\"30\" y2=\"41\" style=\"stroke-width:2\" />\n",
       "\n",
       "  <!-- Colored Rectangle -->\n",
       "  <polygon points=\"0.0,0.0 30.26292606701685,0.0 30.26292606701685,41.974744095238016 0.0,41.974744095238016\" style=\"fill:#ECB172A0;stroke-width:0\"/>\n",
       "\n",
       "  <!-- Text -->\n",
       "  <text x=\"15.131463\" y=\"61.974744\" font-size=\"1.0rem\" font-weight=\"100\" text-anchor=\"middle\" >3</text>\n",
       "  <text x=\"50.262926\" y=\"20.987372\" font-size=\"1.0rem\" font-weight=\"100\" text-anchor=\"middle\" transform=\"rotate(0,50.262926,20.987372)\">24</text>\n",
       "\n",
       "\n",
       "  <!-- Horizontal lines -->\n",
       "  <line x1=\"100\" y1=\"0\" x2=\"125\" y2=\"25\" style=\"stroke-width:2\" />\n",
       "  <line x1=\"100\" y1=\"9\" x2=\"125\" y2=\"34\" />\n",
       "  <line x1=\"100\" y1=\"19\" x2=\"125\" y2=\"44\" />\n",
       "  <line x1=\"100\" y1=\"29\" x2=\"125\" y2=\"54\" />\n",
       "  <line x1=\"100\" y1=\"39\" x2=\"125\" y2=\"64\" />\n",
       "  <line x1=\"100\" y1=\"49\" x2=\"125\" y2=\"74\" />\n",
       "  <line x1=\"100\" y1=\"59\" x2=\"125\" y2=\"84\" />\n",
       "  <line x1=\"100\" y1=\"69\" x2=\"125\" y2=\"94\" />\n",
       "  <line x1=\"100\" y1=\"79\" x2=\"125\" y2=\"104\" />\n",
       "  <line x1=\"100\" y1=\"80\" x2=\"125\" y2=\"105\" style=\"stroke-width:2\" />\n",
       "\n",
       "  <!-- Vertical lines -->\n",
       "  <line x1=\"100\" y1=\"0\" x2=\"100\" y2=\"80\" style=\"stroke-width:2\" />\n",
       "  <line x1=\"125\" y1=\"25\" x2=\"125\" y2=\"105\" style=\"stroke-width:2\" />\n",
       "\n",
       "  <!-- Colored Rectangle -->\n",
       "  <polygon points=\"100.0,0.0 125.06069503873637,25.060695038736373 125.06069503873637,105.39127355113307 100.0,80.3305785123967\" style=\"fill:#ECB172A0;stroke-width:0\"/>\n",
       "\n",
       "  <!-- Horizontal lines -->\n",
       "  <line x1=\"100\" y1=\"0\" x2=\"220\" y2=\"0\" style=\"stroke-width:2\" />\n",
       "  <line x1=\"125\" y1=\"25\" x2=\"245\" y2=\"25\" style=\"stroke-width:2\" />\n",
       "\n",
       "  <!-- Vertical lines -->\n",
       "  <line x1=\"100\" y1=\"0\" x2=\"125\" y2=\"25\" style=\"stroke-width:2\" />\n",
       "  <line x1=\"109\" y1=\"0\" x2=\"134\" y2=\"25\" />\n",
       "  <line x1=\"119\" y1=\"0\" x2=\"144\" y2=\"25\" />\n",
       "  <line x1=\"129\" y1=\"0\" x2=\"154\" y2=\"25\" />\n",
       "  <line x1=\"139\" y1=\"0\" x2=\"164\" y2=\"25\" />\n",
       "  <line x1=\"149\" y1=\"0\" x2=\"174\" y2=\"25\" />\n",
       "  <line x1=\"159\" y1=\"0\" x2=\"184\" y2=\"25\" />\n",
       "  <line x1=\"169\" y1=\"0\" x2=\"194\" y2=\"25\" />\n",
       "  <line x1=\"179\" y1=\"0\" x2=\"204\" y2=\"25\" />\n",
       "  <line x1=\"189\" y1=\"0\" x2=\"214\" y2=\"25\" />\n",
       "  <line x1=\"199\" y1=\"0\" x2=\"224\" y2=\"25\" />\n",
       "  <line x1=\"209\" y1=\"0\" x2=\"234\" y2=\"25\" />\n",
       "  <line x1=\"219\" y1=\"0\" x2=\"244\" y2=\"25\" />\n",
       "  <line x1=\"220\" y1=\"0\" x2=\"245\" y2=\"25\" style=\"stroke-width:2\" />\n",
       "\n",
       "  <!-- Colored Rectangle -->\n",
       "  <polygon points=\"100.0,0.0 220.0,0.0 245.06069503873638,25.060695038736373 125.06069503873637,25.060695038736373\" style=\"fill:#ECB172A0;stroke-width:0\"/>\n",
       "\n",
       "  <!-- Horizontal lines -->\n",
       "  <line x1=\"125\" y1=\"25\" x2=\"245\" y2=\"25\" style=\"stroke-width:2\" />\n",
       "  <line x1=\"125\" y1=\"34\" x2=\"245\" y2=\"34\" />\n",
       "  <line x1=\"125\" y1=\"44\" x2=\"245\" y2=\"44\" />\n",
       "  <line x1=\"125\" y1=\"54\" x2=\"245\" y2=\"54\" />\n",
       "  <line x1=\"125\" y1=\"64\" x2=\"245\" y2=\"64\" />\n",
       "  <line x1=\"125\" y1=\"74\" x2=\"245\" y2=\"74\" />\n",
       "  <line x1=\"125\" y1=\"84\" x2=\"245\" y2=\"84\" />\n",
       "  <line x1=\"125\" y1=\"94\" x2=\"245\" y2=\"94\" />\n",
       "  <line x1=\"125\" y1=\"104\" x2=\"245\" y2=\"104\" />\n",
       "  <line x1=\"125\" y1=\"105\" x2=\"245\" y2=\"105\" style=\"stroke-width:2\" />\n",
       "\n",
       "  <!-- Vertical lines -->\n",
       "  <line x1=\"125\" y1=\"25\" x2=\"125\" y2=\"105\" style=\"stroke-width:2\" />\n",
       "  <line x1=\"134\" y1=\"25\" x2=\"134\" y2=\"105\" />\n",
       "  <line x1=\"144\" y1=\"25\" x2=\"144\" y2=\"105\" />\n",
       "  <line x1=\"154\" y1=\"25\" x2=\"154\" y2=\"105\" />\n",
       "  <line x1=\"164\" y1=\"25\" x2=\"164\" y2=\"105\" />\n",
       "  <line x1=\"174\" y1=\"25\" x2=\"174\" y2=\"105\" />\n",
       "  <line x1=\"184\" y1=\"25\" x2=\"184\" y2=\"105\" />\n",
       "  <line x1=\"194\" y1=\"25\" x2=\"194\" y2=\"105\" />\n",
       "  <line x1=\"204\" y1=\"25\" x2=\"204\" y2=\"105\" />\n",
       "  <line x1=\"214\" y1=\"25\" x2=\"214\" y2=\"105\" />\n",
       "  <line x1=\"224\" y1=\"25\" x2=\"224\" y2=\"105\" />\n",
       "  <line x1=\"234\" y1=\"25\" x2=\"234\" y2=\"105\" />\n",
       "  <line x1=\"244\" y1=\"25\" x2=\"244\" y2=\"105\" />\n",
       "  <line x1=\"245\" y1=\"25\" x2=\"245\" y2=\"105\" style=\"stroke-width:2\" />\n",
       "\n",
       "  <!-- Colored Rectangle -->\n",
       "  <polygon points=\"125.06069503873637,25.060695038736373 245.06069503873636,25.060695038736373 245.06069503873636,105.39127355113307 125.06069503873637,105.39127355113307\" style=\"fill:#ECB172A0;stroke-width:0\"/>\n",
       "\n",
       "  <!-- Text -->\n",
       "  <text x=\"185.060695\" y=\"125.391274\" font-size=\"1.0rem\" font-weight=\"100\" text-anchor=\"middle\" >121</text>\n",
       "  <text x=\"265.060695\" y=\"65.225984\" font-size=\"1.0rem\" font-weight=\"100\" text-anchor=\"middle\" transform=\"rotate(0,265.060695,65.225984)\">81</text>\n",
       "  <text x=\"102.530348\" y=\"112.860926\" font-size=\"1.0rem\" font-weight=\"100\" text-anchor=\"middle\" transform=\"rotate(45,102.530348,112.860926)\">28</text>\n",
       "</svg>\n",
       "</td>\n",
       "</tr>\n",
       "</table></div></li></ul></div></li><li class='xr-section-item'><input id='section-ce660624-2941-4002-a1b3-d95ccbb6cc46' class='xr-section-summary-in' type='checkbox'  checked><label for='section-ce660624-2941-4002-a1b3-d95ccbb6cc46' class='xr-section-summary' >Attributes: <span>(2)</span></label><div class='xr-section-inline-details'></div><div class='xr-section-details'><dl class='xr-attrs'><dt><span>Conventions :</span></dt><dd>CF-1.6</dd><dt><span>history :</span></dt><dd>2021-08-16 01:01:19 GMT by grib_to_netcdf-2.20.0: /opt/ecmwf/mars-client/bin/grib_to_netcdf -S param -o /cache/data6/adaptor.mars.external-1629075678.8476045-8742-9-1ea9e1eb-c10a-4229-b466-d63294ad0454.nc /cache/tmp/1ea9e1eb-c10a-4229-b466-d63294ad0454-adaptor.mars.external-1629075675.342901-8742-10-tmp.grib</dd></dl></div></li></ul></div></div>"
      ],
      "text/plain": [
       "<xarray.Dataset>\n",
       "Dimensions:  (time: 24, lon: 121, lat: 81, member: 28, step: 3)\n",
       "Coordinates:\n",
       "  * time     (time) datetime64[ns] 1993-08-01 1994-08-01 ... 2016-08-01\n",
       "  * lon      (lon) float32 120.0 121.0 122.0 123.0 ... 237.0 238.0 239.0 240.0\n",
       "  * lat      (lat) float32 -50.0 -49.0 -48.0 -47.0 -46.0 ... 27.0 28.0 29.0 30.0\n",
       "  * member   (member) int32 0 1 2 3 4 5 6 7 8 9 ... 19 20 21 22 23 24 25 26 27\n",
       "  * step     (step) int64 3 4 5\n",
       "Data variables:\n",
       "    precip   (time, step, member, lat, lon) float64 dask.array<chunksize=(24, 1, 28, 10, 10), meta=np.ndarray>\n",
       "Attributes:\n",
       "    Conventions:  CF-1.6\n",
       "    history:      2021-08-16 01:01:19 GMT by grib_to_netcdf-2.20.0: /opt/ecmw..."
      ]
     },
     "execution_count": 43,
     "metadata": {},
     "output_type": "execute_result"
    }
   ],
   "source": [
    "dset"
   ]
  },
  {
   "cell_type": "markdown",
   "id": "13ed01c1-f131-496e-b26b-ed795cc0e632",
   "metadata": {},
   "source": [
    "### uncomment the following for visual inspection of the hindcasts "
   ]
  },
  {
   "cell_type": "code",
   "execution_count": 44,
   "id": "14ecb4f9-ff39-483b-9221-58be9ac10a79",
   "metadata": {},
   "outputs": [],
   "source": [
    "# for t in range(24): \n",
    "#     for s in range(5): \n",
    "#         fg = dset.isel(time=t, step=s)['precip'].plot(vmax=1000., col='member', col_wrap=5)\n",
    "#         fg.fig.savefig(f'./tmp/JMA_hindcast_t_{t}_s_{s}.png', dpi=200, bbox_inches='tight', facecolor='w')\n",
    "#         plt.close(fg.fig)"
   ]
  },
  {
   "cell_type": "markdown",
   "id": "b6c38ca6-b0f1-4f3b-b742-b7a1baa5ea42",
   "metadata": {},
   "source": [
    "### stack the time and members "
   ]
  },
  {
   "cell_type": "code",
   "execution_count": 45,
   "id": "694b4d5a-c61e-4085-a446-4ec88ece7853",
   "metadata": {},
   "outputs": [],
   "source": [
    "clim = dset.stack(instance=('time','member'))"
   ]
  },
  {
   "cell_type": "code",
   "execution_count": 46,
   "id": "353e977d-10d0-416f-8bf4-fc91e64f5f19",
   "metadata": {},
   "outputs": [
    {
     "name": "stdout",
     "output_type": "stream",
     "text": [
      "The seasonal hindcast climatologies from month 8 in UKMO will be calculated using 672 instances\n",
      "\n"
     ]
    }
   ],
   "source": [
    "# drop the eventual missing instances (due to sometimes inconsistent number of members)\n",
    "clim = clim.dropna(dim='instance')\n",
    "\n",
    "# rechunk so that we have a continuous instance dimension \n",
    "clim = clim.chunk({'instance':-1})\n",
    "\n",
    "# number of instances for the calculation of the quantiles climatologies, will be added to the dataset for record-keeping \n",
    "n_instances = len(clim['instance'])\n",
    "\n",
    "# print \n",
    "print(f\"The {period} hindcast climatologies from month {initial_month} in {GCM} will be calculated using {n_instances} instances\\n\")\n",
    "\n",
    "# now loop over the quantiles dictionnary, calculates the climatological quantiles, do some \n",
    "# data munging, and saves to disk \n"
   ]
  },
  {
   "cell_type": "code",
   "execution_count": 47,
   "id": "bf9027d9-2079-468f-a496-e1540fb7b9a9",
   "metadata": {},
   "outputs": [
    {
     "name": "stdout",
     "output_type": "stream",
     "text": [
      "tercile climatology\n",
      "\n",
      "[########################################] | 100% Completed |  4.8s\n",
      "Successfully saved /media/nicolasf/END19101/ICU/data/CDS/operational/hindcasts/CLIMATOLOGY/UKMO/UKMO_seasonal_tercile_climatology_08.netcdf\n",
      "\n",
      "decile climatology\n",
      "\n",
      "[########################################] | 100% Completed |  4.9s\n",
      "Successfully saved /media/nicolasf/END19101/ICU/data/CDS/operational/hindcasts/CLIMATOLOGY/UKMO/UKMO_seasonal_decile_climatology_08.netcdf\n",
      "\n",
      "percentile climatology\n",
      "\n",
      "[########################################] | 100% Completed |  5.2s\n",
      "Successfully saved /media/nicolasf/END19101/ICU/data/CDS/operational/hindcasts/CLIMATOLOGY/UKMO/UKMO_seasonal_percentile_climatology_08.netcdf\n",
      "\n"
     ]
    }
   ],
   "source": [
    "for k in dict_quantiles.keys():\n",
    "\n",
    "    print(f\"{k} climatology\\n\")\n",
    "\n",
    "    clim_quantile = clim.quantile(dict_quantiles[k], dim='instance')\n",
    "\n",
    "    # adds a `'month' dimension with coordinate `month`, for later concatenation\n",
    "    clim_quantile = clim_quantile.expand_dims({'month':[initial_month]})\n",
    "\n",
    "    # add the number of instances in the dataset for record-keeping\n",
    "    clim_quantile['n_instances'] = (('month'), [n_instances])\n",
    "\n",
    "    # now compute \n",
    "    with ProgressBar(): \n",
    "\n",
    "        clim_quantile = clim_quantile.compute() \n",
    "\n",
    "    # save to disk \n",
    "    clim_quantile.to_netcdf(clim_path.joinpath(f\"{GCM}_{period}_{k}_climatology_{initial_month:02d}.netcdf\"))\n",
    "\n",
    "    if clim_path.joinpath(f\"{GCM}_{period}_{k}_climatology_{initial_month:02d}.netcdf\").exists(): \n",
    "\n",
    "        print(f\"Successfully saved {str(clim_path.joinpath(f'{GCM}_{period}_{k}_climatology_{initial_month:02d}.netcdf'))}\\n\")\n",
    "\n",
    "        clim_quantile.close()"
   ]
  },
  {
   "cell_type": "code",
   "execution_count": null,
   "id": "89469e14-6aa3-4e51-b38b-1cb2d5c25d88",
   "metadata": {},
   "outputs": [],
   "source": []
  }
 ],
 "metadata": {
  "kernelspec": {
   "display_name": "Python 3",
   "language": "python",
   "name": "python3"
  },
  "language_info": {
   "codemirror_mode": {
    "name": "ipython",
    "version": 3
   },
   "file_extension": ".py",
   "mimetype": "text/x-python",
   "name": "python",
   "nbconvert_exporter": "python",
   "pygments_lexer": "ipython3",
   "version": "3.8.10"
  }
 },
 "nbformat": 4,
 "nbformat_minor": 5
}
