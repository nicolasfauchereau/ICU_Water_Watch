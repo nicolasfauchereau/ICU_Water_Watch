{
 "cells": [
  {
   "cell_type": "markdown",
   "id": "046014af-59be-4a28-93ea-1185aa71778a",
   "metadata": {},
   "source": [
    "### drive calculate_C3S_GCMs_hindcast_tercile_probabilities.ipynb"
   ]
  },
  {
   "cell_type": "code",
   "execution_count": null,
   "id": "2adf8e31-73e0-438b-9efd-625490bb6f9f",
   "metadata": {},
   "outputs": [],
   "source": [
    "import pathlib\n",
    "\n",
    "HOME = pathlib.Path.home()\n",
    "CWD = pathlib.Path.cwd() "
   ]
  },
  {
   "cell_type": "code",
   "execution_count": null,
   "id": "1b77acc2-0993-42bc-a7ea-ef5f4f7ac503",
   "metadata": {},
   "outputs": [],
   "source": [
    "import numpy as np"
   ]
  },
  {
   "cell_type": "code",
   "execution_count": null,
   "id": "999279b1-c8bd-4fba-8750-434259d2c318",
   "metadata": {},
   "outputs": [],
   "source": [
    "import papermill as pm"
   ]
  },
  {
   "cell_type": "code",
   "execution_count": null,
   "id": "610f6421-2128-42f4-a8c4-b5c619f79610",
   "metadata": {},
   "outputs": [],
   "source": [
    "notebook_name = 'calculate_C3S_GCMs_hindcast_tercile_probabilities.ipynb'"
   ]
  },
  {
   "cell_type": "code",
   "execution_count": null,
   "id": "07d37705-37d9-4643-9384-d6f88adfd7c6",
   "metadata": {},
   "outputs": [],
   "source": [
    "GCMs = ['ECMWF', 'UKMO', 'METEO_FRANCE', 'DWD', 'CMCC', 'NCEP', 'JMA']"
   ]
  },
  {
   "cell_type": "code",
   "execution_count": null,
   "id": "12aa2406-d72d-4b86-ad72-7c9f22d55b09",
   "metadata": {},
   "outputs": [],
   "source": [
    "periods = ['seasonal', 'monthly']"
   ]
  },
  {
   "cell_type": "code",
   "execution_count": null,
   "id": "b17cd9ab-0f17-4449-8e2b-4b34eb3b0598",
   "metadata": {},
   "outputs": [],
   "source": [
    "months = np.arange(12) + 1"
   ]
  },
  {
   "cell_type": "code",
   "execution_count": null,
   "id": "4dfc8e52-61e5-4b02-86f2-6d151b6fd8b9",
   "metadata": {},
   "outputs": [],
   "source": [
    "quantile = 'tercile'"
   ]
  },
  {
   "cell_type": "code",
   "execution_count": null,
   "id": "6040e042-ffb4-43a1-8619-a87d515ae447",
   "metadata": {},
   "outputs": [],
   "source": [
    "for period in periods: \n",
    "    for GCM in GCMs[1:]: \n",
    "        for month in months:\n",
    "            print(f\"executing {notebook_name} for GCM {GCM}, period {period}, month {month}\")\n",
    "            pm.execute_notebook(\n",
    "                f'{str(CWD.joinpath(notebook_name))}',\n",
    "                f'{str(CWD.joinpath(notebook_name))}',\n",
    "                parameters=dict(GCM=GCM, period=period, month=int(month), quantile=quantile)\n",
    "            )"
   ]
  }
 ],
 "metadata": {
  "kernelspec": {
   "display_name": "Python 3",
   "language": "python",
   "name": "python3"
  },
  "language_info": {
   "codemirror_mode": {
    "name": "ipython",
    "version": 3
   },
   "file_extension": ".py",
   "mimetype": "text/x-python",
   "name": "python",
   "nbconvert_exporter": "python",
   "pygments_lexer": "ipython3",
   "version": "3.8.10"
  }
 },
 "nbformat": 4,
 "nbformat_minor": 5
}
