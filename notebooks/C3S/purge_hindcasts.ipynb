{
 "cells": [
  {
   "cell_type": "markdown",
   "id": "da0c5764-79d6-4af4-b772-97ae357b956b",
   "metadata": {},
   "source": [
    "## Purge the *operational* hindcasts for the current month, to be run prior to `1_download_C3S_rolling_hindcasts.ipynb` "
   ]
  },
  {
   "cell_type": "code",
   "execution_count": 1,
   "id": "a8516b11-80ba-4521-ad60-5be300cdacd9",
   "metadata": {
    "papermill": {
     "duration": 0.024547,
     "end_time": "2022-06-13T02:35:32.889840",
     "exception": false,
     "start_time": "2022-06-13T02:35:32.865293",
     "status": "completed"
    },
    "tags": []
   },
   "outputs": [],
   "source": [
    "%load_ext autoreload\n",
    "%autoreload 2"
   ]
  },
  {
   "cell_type": "code",
   "execution_count": 2,
   "id": "fa6da205-16a4-459e-91a5-6f85d8239270",
   "metadata": {
    "papermill": {
     "duration": 1.248468,
     "end_time": "2022-06-13T02:35:34.142348",
     "exception": false,
     "start_time": "2022-06-13T02:35:32.893880",
     "status": "completed"
    },
    "tags": []
   },
   "outputs": [],
   "source": [
    "import pathlib\n",
    "import shutil\n",
    "import sys\n",
    "from datetime import datetime\n",
    "from subprocess import call\n",
    "\n",
    "import dateparser\n",
    "import pandas as pd\n",
    "import yaml\n",
    "from dateutil.relativedelta import relativedelta\n",
    "from yaml.loader import SafeLoader"
   ]
  },
  {
   "cell_type": "code",
   "execution_count": 3,
   "id": "5706e615-92ad-498b-88d4-5a8962c0859c",
   "metadata": {
    "papermill": {
     "duration": 0.019659,
     "end_time": "2022-06-13T02:35:34.191579",
     "exception": false,
     "start_time": "2022-06-13T02:35:34.171920",
     "status": "completed"
    },
    "tags": []
   },
   "outputs": [],
   "source": [
    "HOME = pathlib.Path.home()"
   ]
  },
  {
   "cell_type": "code",
   "execution_count": 4,
   "id": "be9a8e8e-442f-4825-a4b6-dcb1ca9fa0b7",
   "metadata": {
    "papermill": {
     "duration": 0.019779,
     "end_time": "2022-06-13T02:35:34.214974",
     "exception": false,
     "start_time": "2022-06-13T02:35:34.195195",
     "status": "completed"
    },
    "tags": []
   },
   "outputs": [],
   "source": [
    "CWD = pathlib.Path.cwd()"
   ]
  },
  {
   "cell_type": "code",
   "execution_count": 5,
   "id": "95b8990d-62de-46d5-b414-05a44743cbb1",
   "metadata": {
    "papermill": {
     "duration": 0.023695,
     "end_time": "2022-06-13T02:35:34.242287",
     "exception": false,
     "start_time": "2022-06-13T02:35:34.218592",
     "status": "completed"
    },
    "tags": []
   },
   "outputs": [
    {
     "data": {
      "text/plain": [
       "PosixPath('/home/nicolasf/operational/ICU/development/hotspots/code/ICU_Water_Watch/notebooks/C3S')"
      ]
     },
     "execution_count": 5,
     "metadata": {},
     "output_type": "execute_result"
    }
   ],
   "source": [
    "CWD"
   ]
  },
  {
   "cell_type": "markdown",
   "id": "a3a0da4b-e7aa-4ac1-bf89-b4f99a03b47a",
   "metadata": {
    "papermill": {
     "duration": 0.003966,
     "end_time": "2022-06-13T02:35:34.250132",
     "exception": false,
     "start_time": "2022-06-13T02:35:34.246166",
     "status": "completed"
    },
    "tags": []
   },
   "source": [
    "### import local functions for the downloading of the C3S forecasts "
   ]
  },
  {
   "cell_type": "code",
   "execution_count": 6,
   "id": "b987b416-1f1f-408e-ae03-317aead8d9a6",
   "metadata": {
    "papermill": {
     "duration": 0.016604,
     "end_time": "2022-06-12T23:35:49.895955",
     "exception": false,
     "start_time": "2022-06-12T23:35:49.879351",
     "status": "completed"
    },
    "tags": []
   },
   "outputs": [],
   "source": [
    "sys.path.append('../..')"
   ]
  },
  {
   "cell_type": "code",
   "execution_count": 7,
   "id": "4a4b8771-2bd4-4d33-8209-28e83fac1878",
   "metadata": {
    "papermill": {
     "duration": 14.979463,
     "end_time": "2022-06-12T23:36:04.880286",
     "exception": false,
     "start_time": "2022-06-12T23:35:49.900823",
     "status": "completed"
    },
    "tags": []
   },
   "outputs": [],
   "source": [
    "from ICU_Water_Watch import C3S, domains"
   ]
  },
  {
   "cell_type": "markdown",
   "id": "e0de4ffb-e479-43aa-821d-72f4dd1a9f2b",
   "metadata": {
    "papermill": {
     "duration": 0.007092,
     "end_time": "2022-06-13T02:35:46.909295",
     "exception": false,
     "start_time": "2022-06-13T02:35:46.902203",
     "status": "completed"
    },
    "tags": []
   },
   "source": [
    "### parameters for papermill"
   ]
  },
  {
   "cell_type": "code",
   "execution_count": 8,
   "id": "8a9e8cd2-8d14-4382-854d-214e0970ca25",
   "metadata": {
    "papermill": {
     "duration": 0.024563,
     "end_time": "2022-06-13T02:35:46.937582",
     "exception": false,
     "start_time": "2022-06-13T02:35:46.913019",
     "status": "completed"
    },
    "tags": [
     "parameters"
    ]
   },
   "outputs": [],
   "source": [
    "provider = \"CDS\"  # should not change\n",
    "varname = \"tprate\"  # in ['tprate','t2m','sst']\n",
    "# if one wants to download other forecasts than the ones corresponding to the current month\n",
    "lag = 0\n",
    "# path where to find the hindcasts / reforecasts\n",
    "gcm_path = f\"/media/nicolasf/END19101/ICU/data/{provider}/operational/hindcasts\"\n",
    "config_yaml = \"./CDS_config_operational.yaml\""
   ]
  },
  {
   "cell_type": "markdown",
   "id": "5bb8c76f-2225-4eea-8f71-4b527c6abcda",
   "metadata": {
    "papermill": {
     "duration": 0.00349,
     "end_time": "2022-06-13T02:35:46.971557",
     "exception": false,
     "start_time": "2022-06-13T02:35:46.968067",
     "status": "completed"
    },
    "tags": []
   },
   "source": [
    "### reads the yaml file, mapping GCM to system "
   ]
  },
  {
   "cell_type": "markdown",
   "id": "417ddad1-f7ec-4dc2-a436-603239541a50",
   "metadata": {
    "papermill": {
     "duration": 0.003507,
     "end_time": "2022-06-13T02:35:46.978535",
     "exception": false,
     "start_time": "2022-06-13T02:35:46.975028",
     "status": "completed"
    },
    "tags": []
   },
   "source": [
    "Note that the forecast system to system number mapping is available at: \n",
    "    \n",
    "- [https://confluence.ecmwf.int/display/CKB/Description+of+the+C3S+seasonal+multi-system](https://confluence.ecmwf.int/display/CKB/Description+of+the+C3S+seasonal+multi-system)"
   ]
  },
  {
   "cell_type": "markdown",
   "id": "170b3c39-9dc9-41ff-b906-6cf71ae12352",
   "metadata": {
    "papermill": {
     "duration": 0.00346,
     "end_time": "2022-06-13T02:35:46.985459",
     "exception": false,
     "start_time": "2022-06-13T02:35:46.981999",
     "status": "completed"
    },
    "tags": []
   },
   "source": [
    "#### it can be read directly into pandas "
   ]
  },
  {
   "cell_type": "code",
   "execution_count": 9,
   "id": "8f59ec2d-72df-479a-bba0-6b8dc7a5bfc9",
   "metadata": {
    "papermill": {
     "duration": 0.022668,
     "end_time": "2022-06-13T02:35:47.011662",
     "exception": false,
     "start_time": "2022-06-13T02:35:46.988994",
     "status": "completed"
    },
    "tags": []
   },
   "outputs": [],
   "source": [
    "url = \"https://confluence.ecmwf.int/display/CKB/Description+of+the+C3S+seasonal+multi-system\""
   ]
  },
  {
   "cell_type": "code",
   "execution_count": 10,
   "id": "72016841-12da-4724-b631-748bdd869a2c",
   "metadata": {
    "papermill": {
     "duration": 2.203217,
     "end_time": "2022-06-13T02:35:49.218664",
     "exception": false,
     "start_time": "2022-06-13T02:35:47.015447",
     "status": "completed"
    },
    "tags": []
   },
   "outputs": [],
   "source": [
    "systems_table = pd.read_html(url)"
   ]
  },
  {
   "cell_type": "code",
   "execution_count": 11,
   "id": "c01f853d-d148-40c3-9b82-ef4ed78e67e8",
   "metadata": {
    "papermill": {
     "duration": 0.023386,
     "end_time": "2022-06-13T02:35:49.245816",
     "exception": false,
     "start_time": "2022-06-13T02:35:49.222430",
     "status": "completed"
    },
    "tags": []
   },
   "outputs": [],
   "source": [
    "systems_table = systems_table[1]"
   ]
  },
  {
   "cell_type": "code",
   "execution_count": 12,
   "id": "f5ea7f7a-1dce-4970-909d-04360f7816f5",
   "metadata": {
    "papermill": {
     "duration": 0.026627,
     "end_time": "2022-06-13T02:35:49.276143",
     "exception": false,
     "start_time": "2022-06-13T02:35:49.249516",
     "status": "completed"
    },
    "tags": []
   },
   "outputs": [
    {
     "data": {
      "text/html": [
       "<div>\n",
       "<style scoped>\n",
       "    .dataframe tbody tr th:only-of-type {\n",
       "        vertical-align: middle;\n",
       "    }\n",
       "\n",
       "    .dataframe tbody tr th {\n",
       "        vertical-align: top;\n",
       "    }\n",
       "\n",
       "    .dataframe thead th {\n",
       "        text-align: right;\n",
       "    }\n",
       "</style>\n",
       "<table border=\"1\" class=\"dataframe\">\n",
       "  <thead>\n",
       "    <tr style=\"text-align: right;\">\n",
       "      <th></th>\n",
       "      <th>Forecasting centre</th>\n",
       "      <th>Forecasting system name</th>\n",
       "      <th>CDS 'system' value</th>\n",
       "    </tr>\n",
       "  </thead>\n",
       "  <tbody>\n",
       "    <tr>\n",
       "      <th>0</th>\n",
       "      <td>ECMWF</td>\n",
       "      <td>System 4</td>\n",
       "      <td>4</td>\n",
       "    </tr>\n",
       "    <tr>\n",
       "      <th>1</th>\n",
       "      <td>ECMWF</td>\n",
       "      <td>SEAS5</td>\n",
       "      <td>5</td>\n",
       "    </tr>\n",
       "    <tr>\n",
       "      <th>2</th>\n",
       "      <td>ECMWF</td>\n",
       "      <td>SEAS5</td>\n",
       "      <td>51(a)</td>\n",
       "    </tr>\n",
       "    <tr>\n",
       "      <th>3</th>\n",
       "      <td>Météo-France</td>\n",
       "      <td>System 5</td>\n",
       "      <td>5</td>\n",
       "    </tr>\n",
       "    <tr>\n",
       "      <th>4</th>\n",
       "      <td>Météo-France</td>\n",
       "      <td>System 6</td>\n",
       "      <td>6</td>\n",
       "    </tr>\n",
       "    <tr>\n",
       "      <th>5</th>\n",
       "      <td>Météo-France</td>\n",
       "      <td>System 7</td>\n",
       "      <td>7</td>\n",
       "    </tr>\n",
       "    <tr>\n",
       "      <th>6</th>\n",
       "      <td>Météo-France</td>\n",
       "      <td>System 8</td>\n",
       "      <td>8</td>\n",
       "    </tr>\n",
       "    <tr>\n",
       "      <th>7</th>\n",
       "      <td>CMCC</td>\n",
       "      <td>SPS3</td>\n",
       "      <td>3</td>\n",
       "    </tr>\n",
       "    <tr>\n",
       "      <th>8</th>\n",
       "      <td>CMCC</td>\n",
       "      <td>SPS3.5</td>\n",
       "      <td>35</td>\n",
       "    </tr>\n",
       "    <tr>\n",
       "      <th>9</th>\n",
       "      <td>DWD</td>\n",
       "      <td>GCFS2.0</td>\n",
       "      <td>2</td>\n",
       "    </tr>\n",
       "    <tr>\n",
       "      <th>10</th>\n",
       "      <td>DWD</td>\n",
       "      <td>GCFS2.1</td>\n",
       "      <td>21</td>\n",
       "    </tr>\n",
       "    <tr>\n",
       "      <th>11</th>\n",
       "      <td>NCEP</td>\n",
       "      <td>CFSv2</td>\n",
       "      <td>2</td>\n",
       "    </tr>\n",
       "    <tr>\n",
       "      <th>12</th>\n",
       "      <td>JMA</td>\n",
       "      <td>CPS2</td>\n",
       "      <td>2</td>\n",
       "    </tr>\n",
       "    <tr>\n",
       "      <th>13</th>\n",
       "      <td>JMA</td>\n",
       "      <td>CPS3</td>\n",
       "      <td>3</td>\n",
       "    </tr>\n",
       "    <tr>\n",
       "      <th>14</th>\n",
       "      <td>ECCC</td>\n",
       "      <td>GEM-NEMO</td>\n",
       "      <td>1</td>\n",
       "    </tr>\n",
       "    <tr>\n",
       "      <th>15</th>\n",
       "      <td>ECCC</td>\n",
       "      <td>CanCM4i</td>\n",
       "      <td>2</td>\n",
       "    </tr>\n",
       "    <tr>\n",
       "      <th>16</th>\n",
       "      <td>ECCC</td>\n",
       "      <td>GEM5-NEMO</td>\n",
       "      <td>3</td>\n",
       "    </tr>\n",
       "  </tbody>\n",
       "</table>\n",
       "</div>"
      ],
      "text/plain": [
       "   Forecasting centre Forecasting system name CDS 'system' value\n",
       "0               ECMWF                System 4                  4\n",
       "1               ECMWF                   SEAS5                  5\n",
       "2               ECMWF                   SEAS5              51(a)\n",
       "3        Météo-France                System 5                  5\n",
       "4        Météo-France                System 6                  6\n",
       "5        Météo-France                System 7                  7\n",
       "6        Météo-France                System 8                  8\n",
       "7                CMCC                    SPS3                  3\n",
       "8                CMCC                  SPS3.5                 35\n",
       "9                 DWD                 GCFS2.0                  2\n",
       "10                DWD                 GCFS2.1                 21\n",
       "11               NCEP                   CFSv2                  2\n",
       "12                JMA                    CPS2                  2\n",
       "13                JMA                    CPS3                  3\n",
       "14               ECCC                GEM-NEMO                  1\n",
       "15               ECCC                 CanCM4i                  2\n",
       "16               ECCC               GEM5-NEMO                  3"
      ]
     },
     "execution_count": 12,
     "metadata": {},
     "output_type": "execute_result"
    }
   ],
   "source": [
    "systems_table"
   ]
  },
  {
   "cell_type": "markdown",
   "id": "32d6ab9f-1316-4b6b-a0a7-938e96f941a1",
   "metadata": {},
   "source": [
    "### and one needs to check, and if necessary edit, the YAML file "
   ]
  },
  {
   "cell_type": "code",
   "execution_count": 13,
   "id": "45705087-776b-46ad-b3d3-b66f9353a5c9",
   "metadata": {
    "papermill": {
     "duration": 0.02408,
     "end_time": "2022-06-13T02:35:49.304137",
     "exception": false,
     "start_time": "2022-06-13T02:35:49.280057",
     "status": "completed"
    },
    "tags": []
   },
   "outputs": [],
   "source": [
    "with open(config_yaml) as f:\n",
    "    dict_systems = yaml.load(f, Loader=SafeLoader)"
   ]
  },
  {
   "cell_type": "code",
   "execution_count": 14,
   "id": "6c4c04de-86c8-40c8-98db-91d669e6f049",
   "metadata": {
    "papermill": {
     "duration": 0.024979,
     "end_time": "2022-06-13T02:35:49.333280",
     "exception": false,
     "start_time": "2022-06-13T02:35:49.308301",
     "status": "completed"
    },
    "tags": []
   },
   "outputs": [
    {
     "data": {
      "text/plain": [
       "{'ECMWF': 51,\n",
       " 'UKMO': 601,\n",
       " 'METEO_FRANCE': 8,\n",
       " 'DWD': 21,\n",
       " 'CMCC': 35,\n",
       " 'NCEP': 2,\n",
       " 'JMA': 3,\n",
       " 'ECCC_CanCM4i': 2,\n",
       " 'ECCC_GEM5_NEMO': 3}"
      ]
     },
     "execution_count": 14,
     "metadata": {},
     "output_type": "execute_result"
    }
   ],
   "source": [
    "dict_systems"
   ]
  },
  {
   "cell_type": "markdown",
   "id": "8397a805-d1e9-4bdb-b4c3-e09f808af439",
   "metadata": {
    "papermill": {
     "duration": 0.003766,
     "end_time": "2022-06-13T02:35:49.340953",
     "exception": false,
     "start_time": "2022-06-13T02:35:49.337187",
     "status": "completed"
    },
    "tags": []
   },
   "source": [
    "### casts the paths to `pathlib.Path` objects "
   ]
  },
  {
   "cell_type": "code",
   "execution_count": 15,
   "id": "712a81f9-e2c3-4314-9ecf-3c9050ea7573",
   "metadata": {
    "papermill": {
     "duration": 0.023498,
     "end_time": "2022-06-13T02:35:49.368094",
     "exception": false,
     "start_time": "2022-06-13T02:35:49.344596",
     "status": "completed"
    },
    "tags": []
   },
   "outputs": [],
   "source": [
    "gcm_path = pathlib.Path(gcm_path)"
   ]
  },
  {
   "cell_type": "markdown",
   "id": "4de13750-8410-4227-b47b-e57be5673736",
   "metadata": {
    "papermill": {
     "duration": 0.003711,
     "end_time": "2022-06-13T02:35:49.403406",
     "exception": false,
     "start_time": "2022-06-13T02:35:49.399695",
     "status": "completed"
    },
    "tags": []
   },
   "source": [
    "### get today's date "
   ]
  },
  {
   "cell_type": "code",
   "execution_count": 16,
   "id": "31b25d9e-41ff-42fb-a03a-fd2cb464892b",
   "metadata": {
    "papermill": {
     "duration": 0.049153,
     "end_time": "2022-06-13T02:35:49.456223",
     "exception": false,
     "start_time": "2022-06-13T02:35:49.407070",
     "status": "completed"
    },
    "tags": []
   },
   "outputs": [],
   "source": [
    "init = dateparser.parse(\"today\")"
   ]
  },
  {
   "cell_type": "code",
   "execution_count": 17,
   "id": "462ded92-9027-49aa-8128-649430033faa",
   "metadata": {
    "papermill": {
     "duration": 0.024916,
     "end_time": "2022-06-13T02:35:49.485166",
     "exception": false,
     "start_time": "2022-06-13T02:35:49.460250",
     "status": "completed"
    },
    "tags": []
   },
   "outputs": [
    {
     "data": {
      "text/plain": [
       "datetime.datetime(2022, 11, 14, 11, 3, 43, 800670)"
      ]
     },
     "execution_count": 17,
     "metadata": {},
     "output_type": "execute_result"
    }
   ],
   "source": [
    "init"
   ]
  },
  {
   "cell_type": "markdown",
   "id": "f8553d4b-33aa-4230-aed5-21579f4eef50",
   "metadata": {
    "papermill": {
     "duration": 0.003896,
     "end_time": "2022-06-13T02:35:49.493203",
     "exception": false,
     "start_time": "2022-06-13T02:35:49.489307",
     "status": "completed"
    },
    "tags": []
   },
   "source": [
    "### apply lag "
   ]
  },
  {
   "cell_type": "code",
   "execution_count": 18,
   "id": "d8fc482b-ee70-4a76-ac31-c95d2c46f2ae",
   "metadata": {
    "papermill": {
     "duration": 0.023163,
     "end_time": "2022-06-13T02:35:49.520256",
     "exception": false,
     "start_time": "2022-06-13T02:35:49.497093",
     "status": "completed"
    },
    "tags": []
   },
   "outputs": [],
   "source": [
    "init = init - relativedelta(months=lag)"
   ]
  },
  {
   "cell_type": "code",
   "execution_count": 19,
   "id": "deab58c2-7eaa-4ab6-a866-83dc31d9c22c",
   "metadata": {},
   "outputs": [
    {
     "data": {
      "text/plain": [
       "datetime.datetime(2022, 11, 14, 11, 3, 43, 800670)"
      ]
     },
     "execution_count": 19,
     "metadata": {},
     "output_type": "execute_result"
    }
   ],
   "source": [
    "init"
   ]
  },
  {
   "cell_type": "code",
   "execution_count": 20,
   "id": "1c0cb0b5-f5a7-420d-9798-d1b41cc533e1",
   "metadata": {},
   "outputs": [
    {
     "name": "stdout",
     "output_type": "stream",
     "text": [
      "nothing to delete for ECMWF\n",
      "deleting files in /media/nicolasf/END19101/ICU/data/CDS/operational/hindcasts/UKMO/TPRATE\n",
      "deleting files in /media/nicolasf/END19101/ICU/data/CDS/operational/hindcasts/METEO_FRANCE/TPRATE\n",
      "deleting files in /media/nicolasf/END19101/ICU/data/CDS/operational/hindcasts/DWD/TPRATE\n",
      "deleting files in /media/nicolasf/END19101/ICU/data/CDS/operational/hindcasts/CMCC/TPRATE\n",
      "deleting files in /media/nicolasf/END19101/ICU/data/CDS/operational/hindcasts/NCEP/TPRATE\n",
      "deleting files in /media/nicolasf/END19101/ICU/data/CDS/operational/hindcasts/JMA/TPRATE\n",
      "deleting files in /media/nicolasf/END19101/ICU/data/CDS/operational/hindcasts/ECCC_CanCM4i/TPRATE\n",
      "deleting files in /media/nicolasf/END19101/ICU/data/CDS/operational/hindcasts/ECCC_GEM5_NEMO/TPRATE\n"
     ]
    }
   ],
   "source": [
    "for GCM in dict_systems.keys(): \n",
    "    lfiles_to_delete = list(\n",
    "        gcm_path.joinpath(f\"{GCM}/{varname.upper()}\").glob(\n",
    "            f\"ensemble_seas_forecasts_{varname}_from_*_{init.month:02d}*.netcdf\"\n",
    "        )\n",
    "    )\n",
    "    if len(lfiles_to_delete) > 1:\n",
    "        print(f\"\"\"deleting files in {str(gcm_path.joinpath(f\"{GCM}/{varname.upper()}\"))}\"\"\")\n",
    "        for file in lfiles_to_delete: \n",
    "            file.unlink()\n",
    "    else: \n",
    "        print(f\"nothing to delete for {GCM}\")"
   ]
  }
 ],
 "metadata": {
  "kernelspec": {
   "display_name": "Python 3 (ipykernel)",
   "language": "python",
   "name": "python3"
  },
  "language_info": {
   "codemirror_mode": {
    "name": "ipython",
    "version": 3
   },
   "file_extension": ".py",
   "mimetype": "text/x-python",
   "name": "python",
   "nbconvert_exporter": "python",
   "pygments_lexer": "ipython3",
   "version": "3.9.13"
  }
 },
 "nbformat": 4,
 "nbformat_minor": 5
}
