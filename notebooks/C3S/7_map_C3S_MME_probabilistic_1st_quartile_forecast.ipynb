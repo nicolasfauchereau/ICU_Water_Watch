{
 "cells": [
  {
   "cell_type": "markdown",
   "id": "450e1a43-16d0-4799-92ba-c98a0ac670ad",
   "metadata": {
    "papermill": {
     "duration": 0.014104,
     "end_time": "2022-04-29T07:08:09.601628",
     "exception": false,
     "start_time": "2022-04-29T07:08:09.587524",
     "status": "completed"
    },
    "tags": []
   },
   "source": [
    "# map the probability for precipitation accumulations being below the 25th percentile (st quartile) from the C3S MME"
   ]
  },
  {
   "cell_type": "code",
   "execution_count": 1,
   "id": "b5bba804",
   "metadata": {
    "execution": {
     "iopub.execute_input": "2022-04-29T07:08:09.618102Z",
     "iopub.status.busy": "2022-04-29T07:08:09.617933Z",
     "iopub.status.idle": "2022-04-29T07:08:09.629687Z",
     "shell.execute_reply": "2022-04-29T07:08:09.629226Z"
    },
    "papermill": {
     "duration": 0.021317,
     "end_time": "2022-04-29T07:08:09.630874",
     "exception": false,
     "start_time": "2022-04-29T07:08:09.609557",
     "status": "completed"
    },
    "tags": []
   },
   "outputs": [],
   "source": [
    "%load_ext autoreload\n",
    "%autoreload 2"
   ]
  },
  {
   "cell_type": "code",
   "execution_count": 2,
   "id": "ac984cda",
   "metadata": {
    "execution": {
     "iopub.execute_input": "2022-04-29T07:08:09.649622Z",
     "iopub.status.busy": "2022-04-29T07:08:09.649480Z",
     "iopub.status.idle": "2022-04-29T07:08:09.848204Z",
     "shell.execute_reply": "2022-04-29T07:08:09.847755Z"
    },
    "papermill": {
     "duration": 0.210959,
     "end_time": "2022-04-29T07:08:09.849399",
     "exception": false,
     "start_time": "2022-04-29T07:08:09.638440",
     "status": "completed"
    },
    "tags": []
   },
   "outputs": [],
   "source": [
    "import matplotlib"
   ]
  },
  {
   "cell_type": "code",
   "execution_count": 3,
   "id": "43c54f3b",
   "metadata": {
    "execution": {
     "iopub.execute_input": "2022-04-29T07:08:09.865850Z",
     "iopub.status.busy": "2022-04-29T07:08:09.865671Z",
     "iopub.status.idle": "2022-04-29T07:08:11.155525Z",
     "shell.execute_reply": "2022-04-29T07:08:11.155033Z"
    },
    "papermill": {
     "duration": 1.299555,
     "end_time": "2022-04-29T07:08:11.156869",
     "exception": false,
     "start_time": "2022-04-29T07:08:09.857314",
     "status": "completed"
    },
    "tags": []
   },
   "outputs": [],
   "source": [
    "# %matplotlib widget\n",
    "%matplotlib inline\n",
    "\n",
    "### os \n",
    "import os \n",
    "import sys\n",
    "\n",
    "### datetimes \n",
    "from datetime import datetime, timedelta\n",
    "from dateutil.relativedelta import relativedelta\n",
    "from calendar import month_name, month_abbr\n",
    "import dateparser\n",
    "\n",
    "### scipy \n",
    "import numpy as np \n",
    "import pandas as pd\n",
    "import xarray as xr\n",
    "from cartopy import crs as ccrs\n",
    "\n",
    "### plotting \n",
    "from matplotlib import pyplot as plt\n",
    "import palettable"
   ]
  },
  {
   "cell_type": "code",
   "execution_count": 4,
   "id": "6f41562c",
   "metadata": {
    "execution": {
     "iopub.execute_input": "2022-04-29T07:08:11.173263Z",
     "iopub.status.busy": "2022-04-29T07:08:11.173113Z",
     "iopub.status.idle": "2022-04-29T07:08:11.188754Z",
     "shell.execute_reply": "2022-04-29T07:08:11.188286Z"
    },
    "papermill": {
     "duration": 0.026131,
     "end_time": "2022-04-29T07:08:11.189979",
     "exception": false,
     "start_time": "2022-04-29T07:08:11.163848",
     "status": "completed"
    },
    "tags": []
   },
   "outputs": [],
   "source": [
    "import pathlib\n",
    "\n",
    "HOME = pathlib.Path.home()\n",
    "CWD = pathlib.Path.cwd() "
   ]
  },
  {
   "cell_type": "markdown",
   "id": "aee5236c",
   "metadata": {
    "papermill": {
     "duration": 0.007342,
     "end_time": "2022-04-29T07:08:11.204416",
     "exception": false,
     "start_time": "2022-04-29T07:08:11.197074",
     "status": "completed"
    },
    "tags": []
   },
   "source": [
    "### import local functions for the downloading of the C3S forecasts "
   ]
  },
  {
   "cell_type": "code",
   "execution_count": 5,
   "id": "655d65e3",
   "metadata": {
    "execution": {
     "iopub.execute_input": "2022-04-29T07:08:11.218782Z",
     "iopub.status.busy": "2022-04-29T07:08:11.218640Z",
     "iopub.status.idle": "2022-04-29T07:08:11.232964Z",
     "shell.execute_reply": "2022-04-29T07:08:11.232521Z"
    },
    "papermill": {
     "duration": 0.022774,
     "end_time": "2022-04-29T07:08:11.234016",
     "exception": false,
     "start_time": "2022-04-29T07:08:11.211242",
     "status": "completed"
    },
    "tags": []
   },
   "outputs": [],
   "source": [
    "sys.path.append('../..')"
   ]
  },
  {
   "cell_type": "code",
   "execution_count": 6,
   "id": "53a424f1",
   "metadata": {
    "execution": {
     "iopub.execute_input": "2022-04-29T07:08:11.248358Z",
     "iopub.status.busy": "2022-04-29T07:08:11.248222Z",
     "iopub.status.idle": "2022-04-29T07:08:23.305643Z",
     "shell.execute_reply": "2022-04-29T07:08:23.305159Z"
    },
    "papermill": {
     "duration": 12.06586,
     "end_time": "2022-04-29T07:08:23.306871",
     "exception": false,
     "start_time": "2022-04-29T07:08:11.241011",
     "status": "completed"
    },
    "tags": []
   },
   "outputs": [],
   "source": [
    "from ICU_Water_Watch import geo, C3S, domains, plot, utils"
   ]
  },
  {
   "cell_type": "markdown",
   "id": "d9a8a5a5-2b16-4671-b1a7-9200c1a7a531",
   "metadata": {
    "papermill": {
     "duration": 0.007315,
     "end_time": "2022-04-29T07:08:23.321216",
     "exception": false,
     "start_time": "2022-04-29T07:08:23.313901",
     "status": "completed"
    },
    "tags": []
   },
   "source": [
    "### parameters for papermill"
   ]
  },
  {
   "cell_type": "code",
   "execution_count": 7,
   "id": "10a80f32-c7d8-4da1-b5bc-c13cc7c95f11",
   "metadata": {
    "execution": {
     "iopub.execute_input": "2022-04-29T07:08:23.336135Z",
     "iopub.status.busy": "2022-04-29T07:08:23.335891Z",
     "iopub.status.idle": "2022-04-29T07:08:23.356447Z",
     "shell.execute_reply": "2022-04-29T07:08:23.355980Z"
    },
    "papermill": {
     "duration": 0.029346,
     "end_time": "2022-04-29T07:08:23.357630",
     "exception": false,
     "start_time": "2022-04-29T07:08:23.328284",
     "status": "completed"
    },
    "tags": [
     "parameters"
    ]
   },
   "outputs": [],
   "source": [
    "provider = 'CDS' # should not change\n",
    "domain_name = 'Water_Watch' # domain name for plotting, see `domains` module\n",
    "period = \"monthly\"\n",
    "lag = 0 # lag with respect to current month\n",
    "lead = 1 # lead time (month or season)\n",
    "quantile = 'quartile' # should stay at \"quartile\"\n",
    "pmax = 25 # the maximum percentile \n",
    "varfname = 'tprate' # variable reference in the filenames\n",
    "varname = 'precip' # variable name in the forecast probabilities\n",
    "dpath_shapes = '/home/nicolasf/operational/ICU/development/hotspots/data/shapefiles' # shapes for the Pacific countries EEZs\n",
    "dpath_forecasts = '/home/nicolasf/operational/ICU/development/hotspots/code/ICU_Water_Watch/outputs/C3S' # forecast probabilities\n",
    "outputs_path = '/home/nicolasf/operational/ICU/development/hotspots/code/ICU_Water_Watch/outputs/C3S'\n",
    "fpath = '/home/nicolasf/operational/ICU/development/hotspots/code/ICU_Water_Watch/figures/C3S' # paths for the figures \n",
    "fpath_web = '/home/nicolasf/operational/ICU_Web/C3S/' # path for the figures for the web "
   ]
  },
  {
   "cell_type": "code",
   "execution_count": 8,
   "id": "3f4c122e",
   "metadata": {
    "execution": {
     "iopub.execute_input": "2022-04-29T07:08:23.372361Z",
     "iopub.status.busy": "2022-04-29T07:08:23.372228Z",
     "iopub.status.idle": "2022-04-29T07:08:23.390028Z",
     "shell.execute_reply": "2022-04-29T07:08:23.389594Z"
    },
    "papermill": {
     "duration": 0.026199,
     "end_time": "2022-04-29T07:08:23.391139",
     "exception": false,
     "start_time": "2022-04-29T07:08:23.364940",
     "status": "completed"
    },
    "tags": [
     "injected-parameters"
    ]
   },
   "outputs": [],
   "source": [
    "# Parameters\n",
    "period = \"seasonal\"\n",
    "lead = 3\n"
   ]
  },
  {
   "cell_type": "markdown",
   "id": "dd19bb5c",
   "metadata": {
    "papermill": {
     "duration": 0.00687,
     "end_time": "2022-04-29T07:08:23.405584",
     "exception": false,
     "start_time": "2022-04-29T07:08:23.398714",
     "status": "completed"
    },
    "tags": []
   },
   "source": [
    "### casts the paths to pathlib.Paths "
   ]
  },
  {
   "cell_type": "code",
   "execution_count": 9,
   "id": "d50281fd",
   "metadata": {
    "execution": {
     "iopub.execute_input": "2022-04-29T07:08:23.419757Z",
     "iopub.status.busy": "2022-04-29T07:08:23.419607Z",
     "iopub.status.idle": "2022-04-29T07:08:23.438390Z",
     "shell.execute_reply": "2022-04-29T07:08:23.437952Z"
    },
    "papermill": {
     "duration": 0.027186,
     "end_time": "2022-04-29T07:08:23.439465",
     "exception": false,
     "start_time": "2022-04-29T07:08:23.412279",
     "status": "completed"
    },
    "tags": []
   },
   "outputs": [],
   "source": [
    "dpath_shapes = pathlib.Path(dpath_shapes)\n",
    "dpath_forecasts = pathlib.Path(dpath_forecasts)\n",
    "outputs_path = pathlib.Path(outputs_path)\n",
    "fpath = pathlib.Path(fpath)\n",
    "fpath_web = pathlib.Path(fpath_web)"
   ]
  },
  {
   "cell_type": "code",
   "execution_count": 10,
   "id": "9da174a1-37f2-40bc-b2c5-1ebc98b99c8a",
   "metadata": {
    "execution": {
     "iopub.execute_input": "2022-04-29T07:08:23.455173Z",
     "iopub.status.busy": "2022-04-29T07:08:23.454988Z",
     "iopub.status.idle": "2022-04-29T07:08:23.473684Z",
     "shell.execute_reply": "2022-04-29T07:08:23.473223Z"
    },
    "papermill": {
     "duration": 0.027786,
     "end_time": "2022-04-29T07:08:23.474925",
     "exception": false,
     "start_time": "2022-04-29T07:08:23.447139",
     "status": "completed"
    },
    "tags": []
   },
   "outputs": [],
   "source": [
    "if not fpath_web.exists(): \n",
    "    fpath_web.mkdir(parents=True)"
   ]
  },
  {
   "cell_type": "markdown",
   "id": "2e5c7c40",
   "metadata": {
    "papermill": {
     "duration": 0.006803,
     "end_time": "2022-04-29T07:08:23.488797",
     "exception": false,
     "start_time": "2022-04-29T07:08:23.481994",
     "status": "completed"
    },
    "tags": []
   },
   "source": [
    "### domain "
   ]
  },
  {
   "cell_type": "code",
   "execution_count": 11,
   "id": "5114e37e",
   "metadata": {
    "execution": {
     "iopub.execute_input": "2022-04-29T07:08:23.503074Z",
     "iopub.status.busy": "2022-04-29T07:08:23.502929Z",
     "iopub.status.idle": "2022-04-29T07:08:23.520998Z",
     "shell.execute_reply": "2022-04-29T07:08:23.520558Z"
    },
    "papermill": {
     "duration": 0.026497,
     "end_time": "2022-04-29T07:08:23.522063",
     "exception": false,
     "start_time": "2022-04-29T07:08:23.495566",
     "status": "completed"
    },
    "tags": []
   },
   "outputs": [],
   "source": [
    "domain = domains.domains[domain_name]"
   ]
  },
  {
   "cell_type": "markdown",
   "id": "b2be15de",
   "metadata": {
    "papermill": {
     "duration": 0.006578,
     "end_time": "2022-04-29T07:08:23.535639",
     "exception": false,
     "start_time": "2022-04-29T07:08:23.529061",
     "status": "completed"
    },
    "tags": []
   },
   "source": [
    "### EEZ shapes "
   ]
  },
  {
   "cell_type": "code",
   "execution_count": 12,
   "id": "33234bcd",
   "metadata": {
    "execution": {
     "iopub.execute_input": "2022-04-29T07:08:23.549890Z",
     "iopub.status.busy": "2022-04-29T07:08:23.549751Z",
     "iopub.status.idle": "2022-04-29T07:08:23.586383Z",
     "shell.execute_reply": "2022-04-29T07:08:23.585948Z"
    },
    "papermill": {
     "duration": 0.045225,
     "end_time": "2022-04-29T07:08:23.587561",
     "exception": false,
     "start_time": "2022-04-29T07:08:23.542336",
     "status": "completed"
    },
    "tags": []
   },
   "outputs": [],
   "source": [
    "EEZs, merged_EEZs = geo.get_EEZs(dpath_shapes)"
   ]
  },
  {
   "cell_type": "markdown",
   "id": "85ffd412-a0fc-4dc6-83f0-a3a9ff2bb70e",
   "metadata": {
    "papermill": {
     "duration": 0.007113,
     "end_time": "2022-04-29T07:08:23.601670",
     "exception": false,
     "start_time": "2022-04-29T07:08:23.594557",
     "status": "completed"
    },
    "tags": []
   },
   "source": [
    "### year and month (initial month of the forecast)"
   ]
  },
  {
   "cell_type": "code",
   "execution_count": 13,
   "id": "6a1f255b-c180-435b-b524-382d5fef709b",
   "metadata": {
    "execution": {
     "iopub.execute_input": "2022-04-29T07:08:23.616596Z",
     "iopub.status.busy": "2022-04-29T07:08:23.616207Z",
     "iopub.status.idle": "2022-04-29T07:08:23.661901Z",
     "shell.execute_reply": "2022-04-29T07:08:23.661467Z"
    },
    "papermill": {
     "duration": 0.054361,
     "end_time": "2022-04-29T07:08:23.663102",
     "exception": false,
     "start_time": "2022-04-29T07:08:23.608741",
     "status": "completed"
    },
    "tags": []
   },
   "outputs": [],
   "source": [
    "date = dateparser.parse('today')"
   ]
  },
  {
   "cell_type": "code",
   "execution_count": 14,
   "id": "687f156b-b82a-46a1-a0c7-fab200d3b023",
   "metadata": {
    "execution": {
     "iopub.execute_input": "2022-04-29T07:08:23.677365Z",
     "iopub.status.busy": "2022-04-29T07:08:23.677235Z",
     "iopub.status.idle": "2022-04-29T07:08:23.695344Z",
     "shell.execute_reply": "2022-04-29T07:08:23.694833Z"
    },
    "papermill": {
     "duration": 0.026487,
     "end_time": "2022-04-29T07:08:23.696429",
     "exception": false,
     "start_time": "2022-04-29T07:08:23.669942",
     "status": "completed"
    },
    "tags": []
   },
   "outputs": [],
   "source": [
    "date = date - relativedelta(months=lag)"
   ]
  },
  {
   "cell_type": "code",
   "execution_count": 15,
   "id": "23a7f084-7b93-4a58-a382-b7bec18084ad",
   "metadata": {
    "execution": {
     "iopub.execute_input": "2022-04-29T07:08:23.711465Z",
     "iopub.status.busy": "2022-04-29T07:08:23.711327Z",
     "iopub.status.idle": "2022-04-29T07:08:23.730457Z",
     "shell.execute_reply": "2022-04-29T07:08:23.729924Z"
    },
    "papermill": {
     "duration": 0.02831,
     "end_time": "2022-04-29T07:08:23.731933",
     "exception": false,
     "start_time": "2022-04-29T07:08:23.703623",
     "status": "completed"
    },
    "tags": []
   },
   "outputs": [],
   "source": [
    "year = date.year \n",
    "month = date.month"
   ]
  },
  {
   "cell_type": "code",
   "execution_count": 16,
   "id": "34cb35e0-e547-4f0c-b1f9-995dcd53ea8f",
   "metadata": {
    "execution": {
     "iopub.execute_input": "2022-04-29T07:08:23.750490Z",
     "iopub.status.busy": "2022-04-29T07:08:23.750345Z",
     "iopub.status.idle": "2022-04-29T07:08:23.770253Z",
     "shell.execute_reply": "2022-04-29T07:08:23.769793Z"
    },
    "papermill": {
     "duration": 0.031066,
     "end_time": "2022-04-29T07:08:23.771781",
     "exception": false,
     "start_time": "2022-04-29T07:08:23.740715",
     "status": "completed"
    },
    "tags": []
   },
   "outputs": [
    {
     "name": "stdout",
     "output_type": "stream",
     "text": [
      "2022 - 4\n"
     ]
    }
   ],
   "source": [
    "print(f\"{year} - {month}\")"
   ]
  },
  {
   "cell_type": "markdown",
   "id": "7f9ac50f",
   "metadata": {
    "papermill": {
     "duration": 0.007034,
     "end_time": "2022-04-29T07:08:23.790706",
     "exception": false,
     "start_time": "2022-04-29T07:08:23.783672",
     "status": "completed"
    },
    "tags": []
   },
   "source": [
    "#### list of GCMs to inlude "
   ]
  },
  {
   "cell_type": "code",
   "execution_count": 17,
   "id": "116d3fdd",
   "metadata": {
    "execution": {
     "iopub.execute_input": "2022-04-29T07:08:23.805224Z",
     "iopub.status.busy": "2022-04-29T07:08:23.805083Z",
     "iopub.status.idle": "2022-04-29T07:08:23.823546Z",
     "shell.execute_reply": "2022-04-29T07:08:23.823050Z"
    },
    "papermill": {
     "duration": 0.027057,
     "end_time": "2022-04-29T07:08:23.824642",
     "exception": false,
     "start_time": "2022-04-29T07:08:23.797585",
     "status": "completed"
    },
    "tags": []
   },
   "outputs": [],
   "source": [
    "list_GCMs = ['ECMWF','UKMO','METEO_FRANCE','CMCC','DWD', 'NCEP', 'JMA', 'ECCC_CanCM4i', 'ECCC_GEM_NEMO']"
   ]
  },
  {
   "cell_type": "markdown",
   "id": "73ea2392-244c-44a1-bf35-af56ffe47cef",
   "metadata": {
    "papermill": {
     "duration": 0.007162,
     "end_time": "2022-04-29T07:08:23.838948",
     "exception": false,
     "start_time": "2022-04-29T07:08:23.831786",
     "status": "completed"
    },
    "tags": []
   },
   "source": [
    "### what is the first step and the number of steps in either the monthly or seasonal forecasts "
   ]
  },
  {
   "cell_type": "code",
   "execution_count": 18,
   "id": "9f45c5a9",
   "metadata": {
    "execution": {
     "iopub.execute_input": "2022-04-29T07:08:23.854372Z",
     "iopub.status.busy": "2022-04-29T07:08:23.854233Z",
     "iopub.status.idle": "2022-04-29T07:08:23.873024Z",
     "shell.execute_reply": "2022-04-29T07:08:23.872524Z"
    },
    "papermill": {
     "duration": 0.02765,
     "end_time": "2022-04-29T07:08:23.874173",
     "exception": false,
     "start_time": "2022-04-29T07:08:23.846523",
     "status": "completed"
    },
    "tags": []
   },
   "outputs": [],
   "source": [
    "if period == 'seasonal': \n",
    "    nsteps = 3\n",
    "    first_step = 3\n",
    "elif period == 'monthly': \n",
    "    nsteps = 5\n",
    "    first_step = 1"
   ]
  },
  {
   "cell_type": "code",
   "execution_count": 19,
   "id": "e045bc51",
   "metadata": {
    "execution": {
     "iopub.execute_input": "2022-04-29T07:08:23.889071Z",
     "iopub.status.busy": "2022-04-29T07:08:23.888928Z",
     "iopub.status.idle": "2022-04-29T07:08:23.907216Z",
     "shell.execute_reply": "2022-04-29T07:08:23.906740Z"
    },
    "papermill": {
     "duration": 0.02711,
     "end_time": "2022-04-29T07:08:23.908372",
     "exception": false,
     "start_time": "2022-04-29T07:08:23.881262",
     "status": "completed"
    },
    "tags": []
   },
   "outputs": [],
   "source": [
    "step = lead + first_step - 1"
   ]
  },
  {
   "cell_type": "code",
   "execution_count": 20,
   "id": "4ce3adec",
   "metadata": {
    "execution": {
     "iopub.execute_input": "2022-04-29T07:08:23.923058Z",
     "iopub.status.busy": "2022-04-29T07:08:23.922923Z",
     "iopub.status.idle": "2022-04-29T07:08:23.942289Z",
     "shell.execute_reply": "2022-04-29T07:08:23.941861Z"
    },
    "papermill": {
     "duration": 0.027889,
     "end_time": "2022-04-29T07:08:23.943309",
     "exception": false,
     "start_time": "2022-04-29T07:08:23.915420",
     "status": "completed"
    },
    "tags": []
   },
   "outputs": [
    {
     "data": {
      "text/plain": [
       "5"
      ]
     },
     "execution_count": 20,
     "metadata": {},
     "output_type": "execute_result"
    }
   ],
   "source": [
    "step"
   ]
  },
  {
   "cell_type": "markdown",
   "id": "56bb4334",
   "metadata": {
    "papermill": {
     "duration": 0.009539,
     "end_time": "2022-04-29T07:08:23.960085",
     "exception": false,
     "start_time": "2022-04-29T07:08:23.950546",
     "status": "completed"
    },
    "tags": []
   },
   "source": [
    "### list the realtime forecasts"
   ]
  },
  {
   "cell_type": "code",
   "execution_count": 21,
   "id": "0f9602ad",
   "metadata": {
    "execution": {
     "iopub.execute_input": "2022-04-29T07:08:23.975103Z",
     "iopub.status.busy": "2022-04-29T07:08:23.974953Z",
     "iopub.status.idle": "2022-04-29T07:08:23.994527Z",
     "shell.execute_reply": "2022-04-29T07:08:23.994074Z"
    },
    "papermill": {
     "duration": 0.028552,
     "end_time": "2022-04-29T07:08:23.995615",
     "exception": false,
     "start_time": "2022-04-29T07:08:23.967063",
     "status": "completed"
    },
    "tags": []
   },
   "outputs": [],
   "source": [
    "lfiles = list(dpath_forecasts.glob(f\"{period}_{varfname}_{quantile}s_probabilities_from_{year}-{str(month).zfill(2)}_*.netcdf\"))"
   ]
  },
  {
   "cell_type": "markdown",
   "id": "23b75799",
   "metadata": {
    "papermill": {
     "duration": 0.006919,
     "end_time": "2022-04-29T07:08:24.009692",
     "exception": false,
     "start_time": "2022-04-29T07:08:24.002773",
     "status": "completed"
    },
    "tags": []
   },
   "source": [
    "### checks the files names "
   ]
  },
  {
   "cell_type": "code",
   "execution_count": 22,
   "id": "225327ee",
   "metadata": {
    "execution": {
     "iopub.execute_input": "2022-04-29T07:08:24.024073Z",
     "iopub.status.busy": "2022-04-29T07:08:24.023942Z",
     "iopub.status.idle": "2022-04-29T07:08:24.042158Z",
     "shell.execute_reply": "2022-04-29T07:08:24.041750Z"
    },
    "papermill": {
     "duration": 0.026572,
     "end_time": "2022-04-29T07:08:24.043099",
     "exception": false,
     "start_time": "2022-04-29T07:08:24.016527",
     "status": "completed"
    },
    "tags": []
   },
   "outputs": [
    {
     "data": {
      "text/plain": [
       "'seasonal'"
      ]
     },
     "execution_count": 22,
     "metadata": {},
     "output_type": "execute_result"
    }
   ],
   "source": [
    "period"
   ]
  },
  {
   "cell_type": "code",
   "execution_count": 23,
   "id": "45d56af3",
   "metadata": {
    "execution": {
     "iopub.execute_input": "2022-04-29T07:08:24.057895Z",
     "iopub.status.busy": "2022-04-29T07:08:24.057765Z",
     "iopub.status.idle": "2022-04-29T07:08:24.076265Z",
     "shell.execute_reply": "2022-04-29T07:08:24.075855Z"
    },
    "papermill": {
     "duration": 0.027003,
     "end_time": "2022-04-29T07:08:24.077249",
     "exception": false,
     "start_time": "2022-04-29T07:08:24.050246",
     "status": "completed"
    },
    "tags": []
   },
   "outputs": [
    {
     "data": {
      "text/plain": [
       "['seasonal_tprate_quartiles_probabilities_from_2022-04_ECCC_CanCM4i.netcdf',\n",
       " 'seasonal_tprate_quartiles_probabilities_from_2022-04_CMCC.netcdf',\n",
       " 'seasonal_tprate_quartiles_probabilities_from_2022-04_METEO_FRANCE.netcdf',\n",
       " 'seasonal_tprate_quartiles_probabilities_from_2022-04_NCEP.netcdf',\n",
       " 'seasonal_tprate_quartiles_probabilities_from_2022-04_ECMWF.netcdf',\n",
       " 'seasonal_tprate_quartiles_probabilities_from_2022-04_ECCC_GEM_NEMO.netcdf',\n",
       " 'seasonal_tprate_quartiles_probabilities_from_2022-04_UKMO.netcdf',\n",
       " 'seasonal_tprate_quartiles_probabilities_from_2022-04_JMA.netcdf',\n",
       " 'seasonal_tprate_quartiles_probabilities_from_2022-04_DWD.netcdf']"
      ]
     },
     "execution_count": 23,
     "metadata": {},
     "output_type": "execute_result"
    }
   ],
   "source": [
    "[f.name for f in lfiles]"
   ]
  },
  {
   "cell_type": "markdown",
   "id": "df6201ab",
   "metadata": {
    "papermill": {
     "duration": 0.010947,
     "end_time": "2022-04-29T07:08:24.095342",
     "exception": false,
     "start_time": "2022-04-29T07:08:24.084395",
     "status": "completed"
    },
    "tags": []
   },
   "source": [
    "### open the multiple files dataset, concatenate along the \"GCM\" dimension "
   ]
  },
  {
   "cell_type": "code",
   "execution_count": 24,
   "id": "057af913",
   "metadata": {
    "execution": {
     "iopub.execute_input": "2022-04-29T07:08:24.110641Z",
     "iopub.status.busy": "2022-04-29T07:08:24.110460Z",
     "iopub.status.idle": "2022-04-29T07:08:24.245838Z",
     "shell.execute_reply": "2022-04-29T07:08:24.245393Z"
    },
    "papermill": {
     "duration": 0.144528,
     "end_time": "2022-04-29T07:08:24.246956",
     "exception": false,
     "start_time": "2022-04-29T07:08:24.102428",
     "status": "completed"
    },
    "tags": []
   },
   "outputs": [],
   "source": [
    "probs = xr.open_mfdataset(lfiles, concat_dim='GCM', combine='nested', engine='netcdf4') "
   ]
  },
  {
   "cell_type": "markdown",
   "id": "e5c75fbf",
   "metadata": {
    "papermill": {
     "duration": 0.029919,
     "end_time": "2022-04-29T07:08:24.510681",
     "exception": false,
     "start_time": "2022-04-29T07:08:24.480762",
     "status": "completed"
    },
    "tags": []
   },
   "source": [
    "### interpolate"
   ]
  },
  {
   "cell_type": "code",
   "execution_count": 25,
   "id": "8522c071",
   "metadata": {
    "execution": {
     "iopub.execute_input": "2022-04-29T07:08:24.742365Z",
     "iopub.status.busy": "2022-04-29T07:08:24.742197Z",
     "iopub.status.idle": "2022-04-29T07:08:24.768854Z",
     "shell.execute_reply": "2022-04-29T07:08:24.768396Z"
    },
    "papermill": {
     "duration": 0.050126,
     "end_time": "2022-04-29T07:08:24.770151",
     "exception": false,
     "start_time": "2022-04-29T07:08:24.720025",
     "status": "completed"
    },
    "tags": []
   },
   "outputs": [],
   "source": [
    "probs = utils.interp(probs, interp_factor=6)"
   ]
  },
  {
   "cell_type": "markdown",
   "id": "aec9f004",
   "metadata": {
    "papermill": {
     "duration": 0.009126,
     "end_time": "2022-04-29T07:08:24.786612",
     "exception": false,
     "start_time": "2022-04-29T07:08:24.777486",
     "status": "completed"
    },
    "tags": []
   },
   "source": [
    "### look at the sum for each GCM, should sum to 100 "
   ]
  },
  {
   "cell_type": "code",
   "execution_count": 26,
   "id": "c12c94d8",
   "metadata": {
    "execution": {
     "iopub.execute_input": "2022-04-29T07:08:24.802869Z",
     "iopub.status.busy": "2022-04-29T07:08:24.802723Z",
     "iopub.status.idle": "2022-04-29T07:08:33.469728Z",
     "shell.execute_reply": "2022-04-29T07:08:33.469286Z"
    },
    "papermill": {
     "duration": 8.676211,
     "end_time": "2022-04-29T07:08:33.470723",
     "exception": false,
     "start_time": "2022-04-29T07:08:24.794512",
     "status": "completed"
    },
    "tags": []
   },
   "outputs": [
    {
     "data": {
      "image/png": "[encoded data removed]",
      "text/plain": [
       "<Figure size 720x216 with 4 Axes>"
      ]
     },
     "metadata": {
      "needs_background": "light"
     },
     "output_type": "display_data"
    },
    {
     "data": {
      "image/png": "[encoded data removed]",
      "text/plain": [
       "<Figure size 720x216 with 4 Axes>"
      ]
     },
     "metadata": {
      "needs_background": "light"
     },
     "output_type": "display_data"
    },
    {
     "data": {
      "image/png": "[encoded data removed]",
      "text/plain": [
       "<Figure size 720x216 with 4 Axes>"
      ]
     },
     "metadata": {
      "needs_background": "light"
     },
     "output_type": "display_data"
    },
    {
     "data": {
      "image/png": "[encoded data removed]",
      "text/plain": [
       "<Figure size 720x216 with 4 Axes>"
      ]
     },
     "metadata": {
      "needs_background": "light"
     },
     "output_type": "display_data"
    },
    {
     "data": {
      "image/png": "[encoded data removed]",
      "text/plain": [
       "<Figure size 720x216 with 4 Axes>"
      ]
     },
     "metadata": {
      "needs_background": "light"
     },
     "output_type": "display_data"
    },
    {
     "data": {
      "image/png": "[encoded data removed]",
      "text/plain": [
       "<Figure size 720x216 with 4 Axes>"
      ]
     },
     "metadata": {
      "needs_background": "light"
     },
     "output_type": "display_data"
    },
    {
     "data": {
      "image/png": "[encoded data removed]",
      "text/plain": [
       "<Figure size 720x216 with 4 Axes>"
      ]
     },
     "metadata": {
      "needs_background": "light"
     },
     "output_type": "display_data"
    },
    {
     "data": {
      "image/png": "[encoded data removed]",
      "text/plain": [
       "<Figure size 720x216 with 4 Axes>"
      ]
     },
     "metadata": {
      "needs_background": "light"
     },
     "output_type": "display_data"
    },
    {
     "data": {
      "image/png": "[encoded data removed]",
      "text/plain": [
       "<Figure size 720x216 with 4 Axes>"
      ]
     },
     "metadata": {
      "needs_background": "light"
     },
     "output_type": "display_data"
    }
   ],
   "source": [
    "for GCM in list_GCMs:\n",
    "    fg = probs.sel(GCM=GCM).sum(quantile).squeeze()[varname].plot(col='step', vmin=0);\n",
    "    fg.fig.suptitle(GCM, x=0.4, horizontalalignment='center',y=1.05)"
   ]
  },
  {
   "cell_type": "markdown",
   "id": "6f8dff7f",
   "metadata": {
    "papermill": {
     "duration": 0.008282,
     "end_time": "2022-04-29T07:08:33.487615",
     "exception": false,
     "start_time": "2022-04-29T07:08:33.479333",
     "status": "completed"
    },
    "tags": []
   },
   "source": [
    "### calculates the average across the GCM dimension "
   ]
  },
  {
   "cell_type": "code",
   "execution_count": 27,
   "id": "830c73a4",
   "metadata": {
    "execution": {
     "iopub.execute_input": "2022-04-29T07:08:33.505929Z",
     "iopub.status.busy": "2022-04-29T07:08:33.505783Z",
     "iopub.status.idle": "2022-04-29T07:08:33.527003Z",
     "shell.execute_reply": "2022-04-29T07:08:33.526556Z"
    },
    "papermill": {
     "duration": 0.031997,
     "end_time": "2022-04-29T07:08:33.528247",
     "exception": false,
     "start_time": "2022-04-29T07:08:33.496250",
     "status": "completed"
    },
    "tags": []
   },
   "outputs": [],
   "source": [
    "probs_mean = probs.mean('GCM')"
   ]
  },
  {
   "cell_type": "markdown",
   "id": "b66a0e12",
   "metadata": {
    "papermill": {
     "duration": 0.008151,
     "end_time": "2022-04-29T07:08:33.544853",
     "exception": false,
     "start_time": "2022-04-29T07:08:33.536702",
     "status": "completed"
    },
    "tags": []
   },
   "source": [
    "### because of numerical approximations, this average can **SOMETIMES** sum to slightly over 100 (the errors can accumulate over all the dimensions)"
   ]
  },
  {
   "cell_type": "code",
   "execution_count": 28,
   "id": "9a342451",
   "metadata": {
    "execution": {
     "iopub.execute_input": "2022-04-29T07:08:33.562161Z",
     "iopub.status.busy": "2022-04-29T07:08:33.562020Z",
     "iopub.status.idle": "2022-04-29T07:08:35.188477Z",
     "shell.execute_reply": "2022-04-29T07:08:35.188050Z"
    },
    "papermill": {
     "duration": 1.636313,
     "end_time": "2022-04-29T07:08:35.189426",
     "exception": false,
     "start_time": "2022-04-29T07:08:33.553113",
     "status": "completed"
    },
    "tags": []
   },
   "outputs": [
    {
     "data": {
      "image/png": "[encoded data removed]",
      "text/plain": [
       "<Figure size 720x216 with 4 Axes>"
      ]
     },
     "metadata": {
      "needs_background": "light"
     },
     "output_type": "display_data"
    }
   ],
   "source": [
    "_ = probs_mean.sum(quantile).squeeze()[varname].plot(col='step', vmin=0)"
   ]
  },
  {
   "cell_type": "markdown",
   "id": "f599bf31",
   "metadata": {
    "papermill": {
     "duration": 0.009159,
     "end_time": "2022-04-29T07:08:35.208047",
     "exception": false,
     "start_time": "2022-04-29T07:08:35.198888",
     "status": "completed"
    },
    "tags": []
   },
   "source": [
    "### so we rescale (just in case)"
   ]
  },
  {
   "cell_type": "code",
   "execution_count": 29,
   "id": "fb251d40",
   "metadata": {
    "execution": {
     "iopub.execute_input": "2022-04-29T07:08:35.226670Z",
     "iopub.status.busy": "2022-04-29T07:08:35.226523Z",
     "iopub.status.idle": "2022-04-29T07:08:35.250221Z",
     "shell.execute_reply": "2022-04-29T07:08:35.249799Z"
    },
    "papermill": {
     "duration": 0.034477,
     "end_time": "2022-04-29T07:08:35.251413",
     "exception": false,
     "start_time": "2022-04-29T07:08:35.216936",
     "status": "completed"
    },
    "tags": []
   },
   "outputs": [],
   "source": [
    "probs_mean = (probs_mean / probs_mean.sum(quantile)) * 100"
   ]
  },
  {
   "cell_type": "code",
   "execution_count": 30,
   "id": "a4eb874f",
   "metadata": {
    "execution": {
     "iopub.execute_input": "2022-04-29T07:08:35.269705Z",
     "iopub.status.busy": "2022-04-29T07:08:35.269561Z",
     "iopub.status.idle": "2022-04-29T07:08:36.846402Z",
     "shell.execute_reply": "2022-04-29T07:08:36.846023Z"
    },
    "papermill": {
     "duration": 1.58714,
     "end_time": "2022-04-29T07:08:36.847443",
     "exception": false,
     "start_time": "2022-04-29T07:08:35.260303",
     "status": "completed"
    },
    "tags": []
   },
   "outputs": [
    {
     "data": {
      "image/png": "[encoded data removed]",
      "text/plain": [
       "<Figure size 720x216 with 4 Axes>"
      ]
     },
     "metadata": {
      "needs_background": "light"
     },
     "output_type": "display_data"
    }
   ],
   "source": [
    "_ = probs_mean.sum(quantile).squeeze()[varname].plot(col='step', vmin=0)"
   ]
  },
  {
   "cell_type": "markdown",
   "id": "d6b2d3c1",
   "metadata": {
    "papermill": {
     "duration": 0.009139,
     "end_time": "2022-04-29T07:08:36.865558",
     "exception": false,
     "start_time": "2022-04-29T07:08:36.856419",
     "status": "completed"
    },
    "tags": []
   },
   "source": [
    "### because the attributes are lost during these operations, we add them back "
   ]
  },
  {
   "cell_type": "code",
   "execution_count": 31,
   "id": "b8dcce66",
   "metadata": {
    "execution": {
     "iopub.execute_input": "2022-04-29T07:08:36.884244Z",
     "iopub.status.busy": "2022-04-29T07:08:36.884099Z",
     "iopub.status.idle": "2022-04-29T07:08:36.902314Z",
     "shell.execute_reply": "2022-04-29T07:08:36.901940Z"
    },
    "papermill": {
     "duration": 0.028954,
     "end_time": "2022-04-29T07:08:36.903416",
     "exception": false,
     "start_time": "2022-04-29T07:08:36.874462",
     "status": "completed"
    },
    "tags": []
   },
   "outputs": [],
   "source": [
    "probs_mean.attrs = probs.attrs"
   ]
  },
  {
   "cell_type": "code",
   "execution_count": 32,
   "id": "ae3f4606",
   "metadata": {
    "execution": {
     "iopub.execute_input": "2022-04-29T07:08:36.921758Z",
     "iopub.status.busy": "2022-04-29T07:08:36.921613Z",
     "iopub.status.idle": "2022-04-29T07:08:36.940564Z",
     "shell.execute_reply": "2022-04-29T07:08:36.940203Z"
    },
    "papermill": {
     "duration": 0.029295,
     "end_time": "2022-04-29T07:08:36.941589",
     "exception": false,
     "start_time": "2022-04-29T07:08:36.912294",
     "status": "completed"
    },
    "tags": []
   },
   "outputs": [
    {
     "data": {
      "text/plain": [
       "{'pct_values': array([0.25, 0.5 , 0.75])}"
      ]
     },
     "execution_count": 32,
     "metadata": {},
     "output_type": "execute_result"
    }
   ],
   "source": [
    "probs_mean.attrs"
   ]
  },
  {
   "cell_type": "markdown",
   "id": "3ff894bf",
   "metadata": {
    "papermill": {
     "duration": 0.008576,
     "end_time": "2022-04-29T07:08:36.958967",
     "exception": false,
     "start_time": "2022-04-29T07:08:36.950391",
     "status": "completed"
    },
    "tags": []
   },
   "source": [
    "#### also adds an attribute that tells the period "
   ]
  },
  {
   "cell_type": "code",
   "execution_count": 33,
   "id": "b350d9ae",
   "metadata": {
    "execution": {
     "iopub.execute_input": "2022-04-29T07:08:36.977840Z",
     "iopub.status.busy": "2022-04-29T07:08:36.977692Z",
     "iopub.status.idle": "2022-04-29T07:08:36.996985Z",
     "shell.execute_reply": "2022-04-29T07:08:36.996619Z"
    },
    "papermill": {
     "duration": 0.030729,
     "end_time": "2022-04-29T07:08:36.998371",
     "exception": false,
     "start_time": "2022-04-29T07:08:36.967642",
     "status": "completed"
    },
    "tags": []
   },
   "outputs": [],
   "source": [
    "probs_mean.attrs['period'] = period"
   ]
  },
  {
   "cell_type": "markdown",
   "id": "5bac5488",
   "metadata": {
    "papermill": {
     "duration": 0.009009,
     "end_time": "2022-04-29T07:08:37.016221",
     "exception": false,
     "start_time": "2022-04-29T07:08:37.007212",
     "status": "completed"
    },
    "tags": []
   },
   "source": [
    "### Probability for being below a given percentile"
   ]
  },
  {
   "cell_type": "markdown",
   "id": "ce608be2",
   "metadata": {
    "papermill": {
     "duration": 0.008592,
     "end_time": "2022-04-29T07:08:37.033838",
     "exception": false,
     "start_time": "2022-04-29T07:08:37.025246",
     "status": "completed"
    },
    "tags": []
   },
   "source": [
    "### get the percentile bins edges, and select the category (starting at 1) that corresponds to the bin with right edge at `pmax`"
   ]
  },
  {
   "cell_type": "code",
   "execution_count": 34,
   "id": "e06c00e1",
   "metadata": {
    "execution": {
     "iopub.execute_input": "2022-04-29T07:08:37.051863Z",
     "iopub.status.busy": "2022-04-29T07:08:37.051669Z",
     "iopub.status.idle": "2022-04-29T07:08:37.070712Z",
     "shell.execute_reply": "2022-04-29T07:08:37.070278Z"
    },
    "papermill": {
     "duration": 0.029314,
     "end_time": "2022-04-29T07:08:37.071688",
     "exception": false,
     "start_time": "2022-04-29T07:08:37.042374",
     "status": "completed"
    },
    "tags": []
   },
   "outputs": [
    {
     "name": "stdout",
     "output_type": "stream",
     "text": [
      "0.25 | 0.5 | 0.75\n"
     ]
    }
   ],
   "source": [
    "print(\" | \".join(map(str, probs_mean.attrs['pct_values'].tolist()))) "
   ]
  },
  {
   "cell_type": "code",
   "execution_count": 35,
   "id": "3b89e678",
   "metadata": {
    "execution": {
     "iopub.execute_input": "2022-04-29T07:08:37.090682Z",
     "iopub.status.busy": "2022-04-29T07:08:37.090536Z",
     "iopub.status.idle": "2022-04-29T07:08:37.110108Z",
     "shell.execute_reply": "2022-04-29T07:08:37.109666Z"
    },
    "papermill": {
     "duration": 0.030318,
     "end_time": "2022-04-29T07:08:37.111239",
     "exception": false,
     "start_time": "2022-04-29T07:08:37.080921",
     "status": "completed"
    },
    "tags": []
   },
   "outputs": [],
   "source": [
    "max_cat = np.digitize(pmax/100, probs_mean.attrs['pct_values'])"
   ]
  },
  {
   "cell_type": "code",
   "execution_count": 36,
   "id": "20da883f",
   "metadata": {
    "execution": {
     "iopub.execute_input": "2022-04-29T07:08:37.129778Z",
     "iopub.status.busy": "2022-04-29T07:08:37.129635Z",
     "iopub.status.idle": "2022-04-29T07:08:37.148454Z",
     "shell.execute_reply": "2022-04-29T07:08:37.148029Z"
    },
    "papermill": {
     "duration": 0.029265,
     "end_time": "2022-04-29T07:08:37.149476",
     "exception": false,
     "start_time": "2022-04-29T07:08:37.120211",
     "status": "completed"
    },
    "tags": []
   },
   "outputs": [
    {
     "data": {
      "text/plain": [
       "1"
      ]
     },
     "execution_count": 36,
     "metadata": {},
     "output_type": "execute_result"
    }
   ],
   "source": [
    "max_cat"
   ]
  },
  {
   "cell_type": "code",
   "execution_count": 37,
   "id": "71992465",
   "metadata": {
    "execution": {
     "iopub.execute_input": "2022-04-29T07:08:37.167901Z",
     "iopub.status.busy": "2022-04-29T07:08:37.167765Z",
     "iopub.status.idle": "2022-04-29T07:08:37.191035Z",
     "shell.execute_reply": "2022-04-29T07:08:37.190594Z"
    },
    "papermill": {
     "duration": 0.033812,
     "end_time": "2022-04-29T07:08:37.192195",
     "exception": false,
     "start_time": "2022-04-29T07:08:37.158383",
     "status": "completed"
    },
    "tags": []
   },
   "outputs": [
    {
     "data": {
      "text/html": [
       "<div><svg style=\"position: absolute; width: 0; height: 0; overflow: hidden\">\n",
       "<defs>\n",
       "<symbol id=\"icon-database\" viewBox=\"0 0 32 32\">\n",
       "<path d=\"M16 0c-8.837 0-16 2.239-16 5v4c0 2.761 7.163 5 16 5s16-2.239 16-5v-4c0-2.761-7.163-5-16-5z\"></path>\n",
       "<path d=\"M16 17c-8.837 0-16-2.239-16-5v6c0 2.761 7.163 5 16 5s16-2.239 16-5v-6c0 2.761-7.163 5-16 5z\"></path>\n",
       "<path d=\"M16 26c-8.837 0-16-2.239-16-5v6c0 2.761 7.163 5 16 5s16-2.239 16-5v-6c0 2.761-7.163 5-16 5z\"></path>\n",
       "</symbol>\n",
       "<symbol id=\"icon-file-text2\" viewBox=\"0 0 32 32\">\n",
       "<path d=\"M28.681 7.159c-0.694-0.947-1.662-2.053-2.724-3.116s-2.169-2.030-3.116-2.724c-1.612-1.182-2.393-1.319-2.841-1.319h-15.5c-1.378 0-2.5 1.121-2.5 2.5v27c0 1.378 1.122 2.5 2.5 2.5h23c1.378 0 2.5-1.122 2.5-2.5v-19.5c0-0.448-0.137-1.23-1.319-2.841zM24.543 5.457c0.959 0.959 1.712 1.825 2.268 2.543h-4.811v-4.811c0.718 0.556 1.584 1.309 2.543 2.268zM28 29.5c0 0.271-0.229 0.5-0.5 0.5h-23c-0.271 0-0.5-0.229-0.5-0.5v-27c0-0.271 0.229-0.5 0.5-0.5 0 0 15.499-0 15.5 0v7c0 0.552 0.448 1 1 1h7v19.5z\"></path>\n",
       "<path d=\"M23 26h-14c-0.552 0-1-0.448-1-1s0.448-1 1-1h14c0.552 0 1 0.448 1 1s-0.448 1-1 1z\"></path>\n",
       "<path d=\"M23 22h-14c-0.552 0-1-0.448-1-1s0.448-1 1-1h14c0.552 0 1 0.448 1 1s-0.448 1-1 1z\"></path>\n",
       "<path d=\"M23 18h-14c-0.552 0-1-0.448-1-1s0.448-1 1-1h14c0.552 0 1 0.448 1 1s-0.448 1-1 1z\"></path>\n",
       "</symbol>\n",
       "</defs>\n",
       "</svg>\n",
       "<style>/* CSS stylesheet for displaying xarray objects in jupyterlab.\n",
       " *\n",
       " */\n",
       "\n",
       ":root {\n",
       "  --xr-font-color0: var(--jp-content-font-color0, rgba(0, 0, 0, 1));\n",
       "  --xr-font-color2: var(--jp-content-font-color2, rgba(0, 0, 0, 0.54));\n",
       "  --xr-font-color3: var(--jp-content-font-color3, rgba(0, 0, 0, 0.38));\n",
       "  --xr-border-color: var(--jp-border-color2, #e0e0e0);\n",
       "  --xr-disabled-color: var(--jp-layout-color3, #bdbdbd);\n",
       "  --xr-background-color: var(--jp-layout-color0, white);\n",
       "  --xr-background-color-row-even: var(--jp-layout-color1, white);\n",
       "  --xr-background-color-row-odd: var(--jp-layout-color2, #eeeeee);\n",
       "}\n",
       "\n",
       "html[theme=dark],\n",
       "body.vscode-dark {\n",
       "  --xr-font-color0: rgba(255, 255, 255, 1);\n",
       "  --xr-font-color2: rgba(255, 255, 255, 0.54);\n",
       "  --xr-font-color3: rgba(255, 255, 255, 0.38);\n",
       "  --xr-border-color: #1F1F1F;\n",
       "  --xr-disabled-color: #515151;\n",
       "  --xr-background-color: #111111;\n",
       "  --xr-background-color-row-even: #111111;\n",
       "  --xr-background-color-row-odd: #313131;\n",
       "}\n",
       "\n",
       ".xr-wrap {\n",
       "  display: block !important;\n",
       "  min-width: 300px;\n",
       "  max-width: 700px;\n",
       "}\n",
       "\n",
       ".xr-text-repr-fallback {\n",
       "  /* fallback to plain text repr when CSS is not injected (untrusted notebook) */\n",
       "  display: none;\n",
       "}\n",
       "\n",
       ".xr-header {\n",
       "  padding-top: 6px;\n",
       "  padding-bottom: 6px;\n",
       "  margin-bottom: 4px;\n",
       "  border-bottom: solid 1px var(--xr-border-color);\n",
       "}\n",
       "\n",
       ".xr-header > div,\n",
       ".xr-header > ul {\n",
       "  display: inline;\n",
       "  margin-top: 0;\n",
       "  margin-bottom: 0;\n",
       "}\n",
       "\n",
       ".xr-obj-type,\n",
       ".xr-array-name {\n",
       "  margin-left: 2px;\n",
       "  margin-right: 10px;\n",
       "}\n",
       "\n",
       ".xr-obj-type {\n",
       "  color: var(--xr-font-color2);\n",
       "}\n",
       "\n",
       ".xr-sections {\n",
       "  padding-left: 0 !important;\n",
       "  display: grid;\n",
       "  grid-template-columns: 150px auto auto 1fr 20px 20px;\n",
       "}\n",
       "\n",
       ".xr-section-item {\n",
       "  display: contents;\n",
       "}\n",
       "\n",
       ".xr-section-item input {\n",
       "  display: none;\n",
       "}\n",
       "\n",
       ".xr-section-item input + label {\n",
       "  color: var(--xr-disabled-color);\n",
       "}\n",
       "\n",
       ".xr-section-item input:enabled + label {\n",
       "  cursor: pointer;\n",
       "  color: var(--xr-font-color2);\n",
       "}\n",
       "\n",
       ".xr-section-item input:enabled + label:hover {\n",
       "  color: var(--xr-font-color0);\n",
       "}\n",
       "\n",
       ".xr-section-summary {\n",
       "  grid-column: 1;\n",
       "  color: var(--xr-font-color2);\n",
       "  font-weight: 500;\n",
       "}\n",
       "\n",
       ".xr-section-summary > span {\n",
       "  display: inline-block;\n",
       "  padding-left: 0.5em;\n",
       "}\n",
       "\n",
       ".xr-section-summary-in:disabled + label {\n",
       "  color: var(--xr-font-color2);\n",
       "}\n",
       "\n",
       ".xr-section-summary-in + label:before {\n",
       "  display: inline-block;\n",
       "  content: '►';\n",
       "  font-size: 11px;\n",
       "  width: 15px;\n",
       "  text-align: center;\n",
       "}\n",
       "\n",
       ".xr-section-summary-in:disabled + label:before {\n",
       "  color: var(--xr-disabled-color);\n",
       "}\n",
       "\n",
       ".xr-section-summary-in:checked + label:before {\n",
       "  content: '▼';\n",
       "}\n",
       "\n",
       ".xr-section-summary-in:checked + label > span {\n",
       "  display: none;\n",
       "}\n",
       "\n",
       ".xr-section-summary,\n",
       ".xr-section-inline-details {\n",
       "  padding-top: 4px;\n",
       "  padding-bottom: 4px;\n",
       "}\n",
       "\n",
       ".xr-section-inline-details {\n",
       "  grid-column: 2 / -1;\n",
       "}\n",
       "\n",
       ".xr-section-details {\n",
       "  display: none;\n",
       "  grid-column: 1 / -1;\n",
       "  margin-bottom: 5px;\n",
       "}\n",
       "\n",
       ".xr-section-summary-in:checked ~ .xr-section-details {\n",
       "  display: contents;\n",
       "}\n",
       "\n",
       ".xr-array-wrap {\n",
       "  grid-column: 1 / -1;\n",
       "  display: grid;\n",
       "  grid-template-columns: 20px auto;\n",
       "}\n",
       "\n",
       ".xr-array-wrap > label {\n",
       "  grid-column: 1;\n",
       "  vertical-align: top;\n",
       "}\n",
       "\n",
       ".xr-preview {\n",
       "  color: var(--xr-font-color3);\n",
       "}\n",
       "\n",
       ".xr-array-preview,\n",
       ".xr-array-data {\n",
       "  padding: 0 5px !important;\n",
       "  grid-column: 2;\n",
       "}\n",
       "\n",
       ".xr-array-data,\n",
       ".xr-array-in:checked ~ .xr-array-preview {\n",
       "  display: none;\n",
       "}\n",
       "\n",
       ".xr-array-in:checked ~ .xr-array-data,\n",
       ".xr-array-preview {\n",
       "  display: inline-block;\n",
       "}\n",
       "\n",
       ".xr-dim-list {\n",
       "  display: inline-block !important;\n",
       "  list-style: none;\n",
       "  padding: 0 !important;\n",
       "  margin: 0;\n",
       "}\n",
       "\n",
       ".xr-dim-list li {\n",
       "  display: inline-block;\n",
       "  padding: 0;\n",
       "  margin: 0;\n",
       "}\n",
       "\n",
       ".xr-dim-list:before {\n",
       "  content: '(';\n",
       "}\n",
       "\n",
       ".xr-dim-list:after {\n",
       "  content: ')';\n",
       "}\n",
       "\n",
       ".xr-dim-list li:not(:last-child):after {\n",
       "  content: ',';\n",
       "  padding-right: 5px;\n",
       "}\n",
       "\n",
       ".xr-has-index {\n",
       "  font-weight: bold;\n",
       "}\n",
       "\n",
       ".xr-var-list,\n",
       ".xr-var-item {\n",
       "  display: contents;\n",
       "}\n",
       "\n",
       ".xr-var-item > div,\n",
       ".xr-var-item label,\n",
       ".xr-var-item > .xr-var-name span {\n",
       "  background-color: var(--xr-background-color-row-even);\n",
       "  margin-bottom: 0;\n",
       "}\n",
       "\n",
       ".xr-var-item > .xr-var-name:hover span {\n",
       "  padding-right: 5px;\n",
       "}\n",
       "\n",
       ".xr-var-list > li:nth-child(odd) > div,\n",
       ".xr-var-list > li:nth-child(odd) > label,\n",
       ".xr-var-list > li:nth-child(odd) > .xr-var-name span {\n",
       "  background-color: var(--xr-background-color-row-odd);\n",
       "}\n",
       "\n",
       ".xr-var-name {\n",
       "  grid-column: 1;\n",
       "}\n",
       "\n",
       ".xr-var-dims {\n",
       "  grid-column: 2;\n",
       "}\n",
       "\n",
       ".xr-var-dtype {\n",
       "  grid-column: 3;\n",
       "  text-align: right;\n",
       "  color: var(--xr-font-color2);\n",
       "}\n",
       "\n",
       ".xr-var-preview {\n",
       "  grid-column: 4;\n",
       "}\n",
       "\n",
       ".xr-var-name,\n",
       ".xr-var-dims,\n",
       ".xr-var-dtype,\n",
       ".xr-preview,\n",
       ".xr-attrs dt {\n",
       "  white-space: nowrap;\n",
       "  overflow: hidden;\n",
       "  text-overflow: ellipsis;\n",
       "  padding-right: 10px;\n",
       "}\n",
       "\n",
       ".xr-var-name:hover,\n",
       ".xr-var-dims:hover,\n",
       ".xr-var-dtype:hover,\n",
       ".xr-attrs dt:hover {\n",
       "  overflow: visible;\n",
       "  width: auto;\n",
       "  z-index: 1;\n",
       "}\n",
       "\n",
       ".xr-var-attrs,\n",
       ".xr-var-data {\n",
       "  display: none;\n",
       "  background-color: var(--xr-background-color) !important;\n",
       "  padding-bottom: 5px !important;\n",
       "}\n",
       "\n",
       ".xr-var-attrs-in:checked ~ .xr-var-attrs,\n",
       ".xr-var-data-in:checked ~ .xr-var-data {\n",
       "  display: block;\n",
       "}\n",
       "\n",
       ".xr-var-data > table {\n",
       "  float: right;\n",
       "}\n",
       "\n",
       ".xr-var-name span,\n",
       ".xr-var-data,\n",
       ".xr-attrs {\n",
       "  padding-left: 25px !important;\n",
       "}\n",
       "\n",
       ".xr-attrs,\n",
       ".xr-var-attrs,\n",
       ".xr-var-data {\n",
       "  grid-column: 1 / -1;\n",
       "}\n",
       "\n",
       "dl.xr-attrs {\n",
       "  padding: 0;\n",
       "  margin: 0;\n",
       "  display: grid;\n",
       "  grid-template-columns: 125px auto;\n",
       "}\n",
       "\n",
       ".xr-attrs dt,\n",
       ".xr-attrs dd {\n",
       "  padding: 0;\n",
       "  margin: 0;\n",
       "  float: left;\n",
       "  padding-right: 10px;\n",
       "  width: auto;\n",
       "}\n",
       "\n",
       ".xr-attrs dt {\n",
       "  font-weight: normal;\n",
       "  grid-column: 1;\n",
       "}\n",
       "\n",
       ".xr-attrs dt:hover span {\n",
       "  display: inline-block;\n",
       "  background: var(--xr-background-color);\n",
       "  padding-right: 10px;\n",
       "}\n",
       "\n",
       ".xr-attrs dd {\n",
       "  grid-column: 2;\n",
       "  white-space: pre-wrap;\n",
       "  word-break: break-all;\n",
       "}\n",
       "\n",
       ".xr-icon-database,\n",
       ".xr-icon-file-text2 {\n",
       "  display: inline-block;\n",
       "  vertical-align: middle;\n",
       "  width: 1em;\n",
       "  height: 1.5em !important;\n",
       "  stroke-width: 0;\n",
       "  stroke: currentColor;\n",
       "  fill: currentColor;\n",
       "}\n",
       "</style><pre class='xr-text-repr-fallback'>&lt;xarray.DataArray &#x27;quartile&#x27; (quartile: 4)&gt;\n",
       "array([1, 2, 3, 4])\n",
       "Coordinates:\n",
       "    month     int64 4\n",
       "  * quartile  (quartile) int64 1 2 3 4</pre><div class='xr-wrap' style='display:none'><div class='xr-header'><div class='xr-obj-type'>xarray.DataArray</div><div class='xr-array-name'>'quartile'</div><ul class='xr-dim-list'><li><span class='xr-has-index'>quartile</span>: 4</li></ul></div><ul class='xr-sections'><li class='xr-section-item'><div class='xr-array-wrap'><input id='section-3323768b-9e04-4e1d-a9fd-dd7ea65a6db2' class='xr-array-in' type='checkbox' checked><label for='section-3323768b-9e04-4e1d-a9fd-dd7ea65a6db2' title='Show/hide data repr'><svg class='icon xr-icon-database'><use xlink:href='#icon-database'></use></svg></label><div class='xr-array-preview xr-preview'><span>1 2 3 4</span></div><div class='xr-array-data'><pre>array([1, 2, 3, 4])</pre></div></div></li><li class='xr-section-item'><input id='section-1ed0ccf9-91d4-4575-a4e4-ebd94a40a8df' class='xr-section-summary-in' type='checkbox'  checked><label for='section-1ed0ccf9-91d4-4575-a4e4-ebd94a40a8df' class='xr-section-summary' >Coordinates: <span>(2)</span></label><div class='xr-section-inline-details'></div><div class='xr-section-details'><ul class='xr-var-list'><li class='xr-var-item'><div class='xr-var-name'><span>month</span></div><div class='xr-var-dims'>()</div><div class='xr-var-dtype'>int64</div><div class='xr-var-preview xr-preview'>4</div><input id='attrs-e4b9536f-4e10-434f-bbdf-d4124ef66203' class='xr-var-attrs-in' type='checkbox' disabled><label for='attrs-e4b9536f-4e10-434f-bbdf-d4124ef66203' title='Show/Hide attributes'><svg class='icon xr-icon-file-text2'><use xlink:href='#icon-file-text2'></use></svg></label><input id='data-11b1362c-6a29-4500-b916-8a2a2f774e50' class='xr-var-data-in' type='checkbox'><label for='data-11b1362c-6a29-4500-b916-8a2a2f774e50' title='Show/Hide data repr'><svg class='icon xr-icon-database'><use xlink:href='#icon-database'></use></svg></label><div class='xr-var-attrs'><dl class='xr-attrs'></dl></div><div class='xr-var-data'><pre>array(4)</pre></div></li><li class='xr-var-item'><div class='xr-var-name'><span class='xr-has-index'>quartile</span></div><div class='xr-var-dims'>(quartile)</div><div class='xr-var-dtype'>int64</div><div class='xr-var-preview xr-preview'>1 2 3 4</div><input id='attrs-a6eb9a7d-1bd9-420a-800d-cbd085200c4b' class='xr-var-attrs-in' type='checkbox' disabled><label for='attrs-a6eb9a7d-1bd9-420a-800d-cbd085200c4b' title='Show/Hide attributes'><svg class='icon xr-icon-file-text2'><use xlink:href='#icon-file-text2'></use></svg></label><input id='data-6ab9bab4-6a5e-4648-8905-20a3b367df2f' class='xr-var-data-in' type='checkbox'><label for='data-6ab9bab4-6a5e-4648-8905-20a3b367df2f' title='Show/Hide data repr'><svg class='icon xr-icon-database'><use xlink:href='#icon-database'></use></svg></label><div class='xr-var-attrs'><dl class='xr-attrs'></dl></div><div class='xr-var-data'><pre>array([1, 2, 3, 4])</pre></div></li></ul></div></li><li class='xr-section-item'><input id='section-17ae6548-f619-47f3-9462-4e2a527ba3be' class='xr-section-summary-in' type='checkbox' disabled ><label for='section-17ae6548-f619-47f3-9462-4e2a527ba3be' class='xr-section-summary'  title='Expand/collapse section'>Attributes: <span>(0)</span></label><div class='xr-section-inline-details'></div><div class='xr-section-details'><dl class='xr-attrs'></dl></div></li></ul></div></div>"
      ],
      "text/plain": [
       "<xarray.DataArray 'quartile' (quartile: 4)>\n",
       "array([1, 2, 3, 4])\n",
       "Coordinates:\n",
       "    month     int64 4\n",
       "  * quartile  (quartile) int64 1 2 3 4"
      ]
     },
     "execution_count": 37,
     "metadata": {},
     "output_type": "execute_result"
    }
   ],
   "source": [
    "probs_mean[quantile]"
   ]
  },
  {
   "cell_type": "markdown",
   "id": "bd6b0d69",
   "metadata": {
    "papermill": {
     "duration": 0.012954,
     "end_time": "2022-04-29T07:08:37.214760",
     "exception": false,
     "start_time": "2022-04-29T07:08:37.201806",
     "status": "completed"
    },
    "tags": []
   },
   "source": [
    "### plots the probabilities "
   ]
  },
  {
   "cell_type": "code",
   "execution_count": 38,
   "id": "e958b20a",
   "metadata": {
    "execution": {
     "iopub.execute_input": "2022-04-29T07:08:37.238639Z",
     "iopub.status.busy": "2022-04-29T07:08:37.238497Z",
     "iopub.status.idle": "2022-04-29T07:08:37.256625Z",
     "shell.execute_reply": "2022-04-29T07:08:37.256187Z"
    },
    "papermill": {
     "duration": 0.033624,
     "end_time": "2022-04-29T07:08:37.257848",
     "exception": false,
     "start_time": "2022-04-29T07:08:37.224224",
     "status": "completed"
    },
    "tags": []
   },
   "outputs": [],
   "source": [
    "cmap = palettable.scientific.sequential.Bilbao_20.mpl_colormap"
   ]
  },
  {
   "cell_type": "markdown",
   "id": "7c8c8a34",
   "metadata": {
    "papermill": {
     "duration": 0.009324,
     "end_time": "2022-04-29T07:08:37.277400",
     "exception": false,
     "start_time": "2022-04-29T07:08:37.268076",
     "status": "completed"
    },
    "tags": []
   },
   "source": [
    "### quick plot "
   ]
  },
  {
   "cell_type": "code",
   "execution_count": 39,
   "id": "37eaed65",
   "metadata": {
    "execution": {
     "iopub.execute_input": "2022-04-29T07:08:37.296822Z",
     "iopub.status.busy": "2022-04-29T07:08:37.296681Z",
     "iopub.status.idle": "2022-04-29T07:08:37.327917Z",
     "shell.execute_reply": "2022-04-29T07:08:37.327449Z"
    },
    "papermill": {
     "duration": 0.042077,
     "end_time": "2022-04-29T07:08:37.328898",
     "exception": false,
     "start_time": "2022-04-29T07:08:37.286821",
     "status": "completed"
    },
    "tags": []
   },
   "outputs": [
    {
     "data": {
      "text/html": [
       "<div><svg style=\"position: absolute; width: 0; height: 0; overflow: hidden\">\n",
       "<defs>\n",
       "<symbol id=\"icon-database\" viewBox=\"0 0 32 32\">\n",
       "<path d=\"M16 0c-8.837 0-16 2.239-16 5v4c0 2.761 7.163 5 16 5s16-2.239 16-5v-4c0-2.761-7.163-5-16-5z\"></path>\n",
       "<path d=\"M16 17c-8.837 0-16-2.239-16-5v6c0 2.761 7.163 5 16 5s16-2.239 16-5v-6c0 2.761-7.163 5-16 5z\"></path>\n",
       "<path d=\"M16 26c-8.837 0-16-2.239-16-5v6c0 2.761 7.163 5 16 5s16-2.239 16-5v-6c0 2.761-7.163 5-16 5z\"></path>\n",
       "</symbol>\n",
       "<symbol id=\"icon-file-text2\" viewBox=\"0 0 32 32\">\n",
       "<path d=\"M28.681 7.159c-0.694-0.947-1.662-2.053-2.724-3.116s-2.169-2.030-3.116-2.724c-1.612-1.182-2.393-1.319-2.841-1.319h-15.5c-1.378 0-2.5 1.121-2.5 2.5v27c0 1.378 1.122 2.5 2.5 2.5h23c1.378 0 2.5-1.122 2.5-2.5v-19.5c0-0.448-0.137-1.23-1.319-2.841zM24.543 5.457c0.959 0.959 1.712 1.825 2.268 2.543h-4.811v-4.811c0.718 0.556 1.584 1.309 2.543 2.268zM28 29.5c0 0.271-0.229 0.5-0.5 0.5h-23c-0.271 0-0.5-0.229-0.5-0.5v-27c0-0.271 0.229-0.5 0.5-0.5 0 0 15.499-0 15.5 0v7c0 0.552 0.448 1 1 1h7v19.5z\"></path>\n",
       "<path d=\"M23 26h-14c-0.552 0-1-0.448-1-1s0.448-1 1-1h14c0.552 0 1 0.448 1 1s-0.448 1-1 1z\"></path>\n",
       "<path d=\"M23 22h-14c-0.552 0-1-0.448-1-1s0.448-1 1-1h14c0.552 0 1 0.448 1 1s-0.448 1-1 1z\"></path>\n",
       "<path d=\"M23 18h-14c-0.552 0-1-0.448-1-1s0.448-1 1-1h14c0.552 0 1 0.448 1 1s-0.448 1-1 1z\"></path>\n",
       "</symbol>\n",
       "</defs>\n",
       "</svg>\n",
       "<style>/* CSS stylesheet for displaying xarray objects in jupyterlab.\n",
       " *\n",
       " */\n",
       "\n",
       ":root {\n",
       "  --xr-font-color0: var(--jp-content-font-color0, rgba(0, 0, 0, 1));\n",
       "  --xr-font-color2: var(--jp-content-font-color2, rgba(0, 0, 0, 0.54));\n",
       "  --xr-font-color3: var(--jp-content-font-color3, rgba(0, 0, 0, 0.38));\n",
       "  --xr-border-color: var(--jp-border-color2, #e0e0e0);\n",
       "  --xr-disabled-color: var(--jp-layout-color3, #bdbdbd);\n",
       "  --xr-background-color: var(--jp-layout-color0, white);\n",
       "  --xr-background-color-row-even: var(--jp-layout-color1, white);\n",
       "  --xr-background-color-row-odd: var(--jp-layout-color2, #eeeeee);\n",
       "}\n",
       "\n",
       "html[theme=dark],\n",
       "body.vscode-dark {\n",
       "  --xr-font-color0: rgba(255, 255, 255, 1);\n",
       "  --xr-font-color2: rgba(255, 255, 255, 0.54);\n",
       "  --xr-font-color3: rgba(255, 255, 255, 0.38);\n",
       "  --xr-border-color: #1F1F1F;\n",
       "  --xr-disabled-color: #515151;\n",
       "  --xr-background-color: #111111;\n",
       "  --xr-background-color-row-even: #111111;\n",
       "  --xr-background-color-row-odd: #313131;\n",
       "}\n",
       "\n",
       ".xr-wrap {\n",
       "  display: block !important;\n",
       "  min-width: 300px;\n",
       "  max-width: 700px;\n",
       "}\n",
       "\n",
       ".xr-text-repr-fallback {\n",
       "  /* fallback to plain text repr when CSS is not injected (untrusted notebook) */\n",
       "  display: none;\n",
       "}\n",
       "\n",
       ".xr-header {\n",
       "  padding-top: 6px;\n",
       "  padding-bottom: 6px;\n",
       "  margin-bottom: 4px;\n",
       "  border-bottom: solid 1px var(--xr-border-color);\n",
       "}\n",
       "\n",
       ".xr-header > div,\n",
       ".xr-header > ul {\n",
       "  display: inline;\n",
       "  margin-top: 0;\n",
       "  margin-bottom: 0;\n",
       "}\n",
       "\n",
       ".xr-obj-type,\n",
       ".xr-array-name {\n",
       "  margin-left: 2px;\n",
       "  margin-right: 10px;\n",
       "}\n",
       "\n",
       ".xr-obj-type {\n",
       "  color: var(--xr-font-color2);\n",
       "}\n",
       "\n",
       ".xr-sections {\n",
       "  padding-left: 0 !important;\n",
       "  display: grid;\n",
       "  grid-template-columns: 150px auto auto 1fr 20px 20px;\n",
       "}\n",
       "\n",
       ".xr-section-item {\n",
       "  display: contents;\n",
       "}\n",
       "\n",
       ".xr-section-item input {\n",
       "  display: none;\n",
       "}\n",
       "\n",
       ".xr-section-item input + label {\n",
       "  color: var(--xr-disabled-color);\n",
       "}\n",
       "\n",
       ".xr-section-item input:enabled + label {\n",
       "  cursor: pointer;\n",
       "  color: var(--xr-font-color2);\n",
       "}\n",
       "\n",
       ".xr-section-item input:enabled + label:hover {\n",
       "  color: var(--xr-font-color0);\n",
       "}\n",
       "\n",
       ".xr-section-summary {\n",
       "  grid-column: 1;\n",
       "  color: var(--xr-font-color2);\n",
       "  font-weight: 500;\n",
       "}\n",
       "\n",
       ".xr-section-summary > span {\n",
       "  display: inline-block;\n",
       "  padding-left: 0.5em;\n",
       "}\n",
       "\n",
       ".xr-section-summary-in:disabled + label {\n",
       "  color: var(--xr-font-color2);\n",
       "}\n",
       "\n",
       ".xr-section-summary-in + label:before {\n",
       "  display: inline-block;\n",
       "  content: '►';\n",
       "  font-size: 11px;\n",
       "  width: 15px;\n",
       "  text-align: center;\n",
       "}\n",
       "\n",
       ".xr-section-summary-in:disabled + label:before {\n",
       "  color: var(--xr-disabled-color);\n",
       "}\n",
       "\n",
       ".xr-section-summary-in:checked + label:before {\n",
       "  content: '▼';\n",
       "}\n",
       "\n",
       ".xr-section-summary-in:checked + label > span {\n",
       "  display: none;\n",
       "}\n",
       "\n",
       ".xr-section-summary,\n",
       ".xr-section-inline-details {\n",
       "  padding-top: 4px;\n",
       "  padding-bottom: 4px;\n",
       "}\n",
       "\n",
       ".xr-section-inline-details {\n",
       "  grid-column: 2 / -1;\n",
       "}\n",
       "\n",
       ".xr-section-details {\n",
       "  display: none;\n",
       "  grid-column: 1 / -1;\n",
       "  margin-bottom: 5px;\n",
       "}\n",
       "\n",
       ".xr-section-summary-in:checked ~ .xr-section-details {\n",
       "  display: contents;\n",
       "}\n",
       "\n",
       ".xr-array-wrap {\n",
       "  grid-column: 1 / -1;\n",
       "  display: grid;\n",
       "  grid-template-columns: 20px auto;\n",
       "}\n",
       "\n",
       ".xr-array-wrap > label {\n",
       "  grid-column: 1;\n",
       "  vertical-align: top;\n",
       "}\n",
       "\n",
       ".xr-preview {\n",
       "  color: var(--xr-font-color3);\n",
       "}\n",
       "\n",
       ".xr-array-preview,\n",
       ".xr-array-data {\n",
       "  padding: 0 5px !important;\n",
       "  grid-column: 2;\n",
       "}\n",
       "\n",
       ".xr-array-data,\n",
       ".xr-array-in:checked ~ .xr-array-preview {\n",
       "  display: none;\n",
       "}\n",
       "\n",
       ".xr-array-in:checked ~ .xr-array-data,\n",
       ".xr-array-preview {\n",
       "  display: inline-block;\n",
       "}\n",
       "\n",
       ".xr-dim-list {\n",
       "  display: inline-block !important;\n",
       "  list-style: none;\n",
       "  padding: 0 !important;\n",
       "  margin: 0;\n",
       "}\n",
       "\n",
       ".xr-dim-list li {\n",
       "  display: inline-block;\n",
       "  padding: 0;\n",
       "  margin: 0;\n",
       "}\n",
       "\n",
       ".xr-dim-list:before {\n",
       "  content: '(';\n",
       "}\n",
       "\n",
       ".xr-dim-list:after {\n",
       "  content: ')';\n",
       "}\n",
       "\n",
       ".xr-dim-list li:not(:last-child):after {\n",
       "  content: ',';\n",
       "  padding-right: 5px;\n",
       "}\n",
       "\n",
       ".xr-has-index {\n",
       "  font-weight: bold;\n",
       "}\n",
       "\n",
       ".xr-var-list,\n",
       ".xr-var-item {\n",
       "  display: contents;\n",
       "}\n",
       "\n",
       ".xr-var-item > div,\n",
       ".xr-var-item label,\n",
       ".xr-var-item > .xr-var-name span {\n",
       "  background-color: var(--xr-background-color-row-even);\n",
       "  margin-bottom: 0;\n",
       "}\n",
       "\n",
       ".xr-var-item > .xr-var-name:hover span {\n",
       "  padding-right: 5px;\n",
       "}\n",
       "\n",
       ".xr-var-list > li:nth-child(odd) > div,\n",
       ".xr-var-list > li:nth-child(odd) > label,\n",
       ".xr-var-list > li:nth-child(odd) > .xr-var-name span {\n",
       "  background-color: var(--xr-background-color-row-odd);\n",
       "}\n",
       "\n",
       ".xr-var-name {\n",
       "  grid-column: 1;\n",
       "}\n",
       "\n",
       ".xr-var-dims {\n",
       "  grid-column: 2;\n",
       "}\n",
       "\n",
       ".xr-var-dtype {\n",
       "  grid-column: 3;\n",
       "  text-align: right;\n",
       "  color: var(--xr-font-color2);\n",
       "}\n",
       "\n",
       ".xr-var-preview {\n",
       "  grid-column: 4;\n",
       "}\n",
       "\n",
       ".xr-var-name,\n",
       ".xr-var-dims,\n",
       ".xr-var-dtype,\n",
       ".xr-preview,\n",
       ".xr-attrs dt {\n",
       "  white-space: nowrap;\n",
       "  overflow: hidden;\n",
       "  text-overflow: ellipsis;\n",
       "  padding-right: 10px;\n",
       "}\n",
       "\n",
       ".xr-var-name:hover,\n",
       ".xr-var-dims:hover,\n",
       ".xr-var-dtype:hover,\n",
       ".xr-attrs dt:hover {\n",
       "  overflow: visible;\n",
       "  width: auto;\n",
       "  z-index: 1;\n",
       "}\n",
       "\n",
       ".xr-var-attrs,\n",
       ".xr-var-data {\n",
       "  display: none;\n",
       "  background-color: var(--xr-background-color) !important;\n",
       "  padding-bottom: 5px !important;\n",
       "}\n",
       "\n",
       ".xr-var-attrs-in:checked ~ .xr-var-attrs,\n",
       ".xr-var-data-in:checked ~ .xr-var-data {\n",
       "  display: block;\n",
       "}\n",
       "\n",
       ".xr-var-data > table {\n",
       "  float: right;\n",
       "}\n",
       "\n",
       ".xr-var-name span,\n",
       ".xr-var-data,\n",
       ".xr-attrs {\n",
       "  padding-left: 25px !important;\n",
       "}\n",
       "\n",
       ".xr-attrs,\n",
       ".xr-var-attrs,\n",
       ".xr-var-data {\n",
       "  grid-column: 1 / -1;\n",
       "}\n",
       "\n",
       "dl.xr-attrs {\n",
       "  padding: 0;\n",
       "  margin: 0;\n",
       "  display: grid;\n",
       "  grid-template-columns: 125px auto;\n",
       "}\n",
       "\n",
       ".xr-attrs dt,\n",
       ".xr-attrs dd {\n",
       "  padding: 0;\n",
       "  margin: 0;\n",
       "  float: left;\n",
       "  padding-right: 10px;\n",
       "  width: auto;\n",
       "}\n",
       "\n",
       ".xr-attrs dt {\n",
       "  font-weight: normal;\n",
       "  grid-column: 1;\n",
       "}\n",
       "\n",
       ".xr-attrs dt:hover span {\n",
       "  display: inline-block;\n",
       "  background: var(--xr-background-color);\n",
       "  padding-right: 10px;\n",
       "}\n",
       "\n",
       ".xr-attrs dd {\n",
       "  grid-column: 2;\n",
       "  white-space: pre-wrap;\n",
       "  word-break: break-all;\n",
       "}\n",
       "\n",
       ".xr-icon-database,\n",
       ".xr-icon-file-text2 {\n",
       "  display: inline-block;\n",
       "  vertical-align: middle;\n",
       "  width: 1em;\n",
       "  height: 1.5em !important;\n",
       "  stroke-width: 0;\n",
       "  stroke: currentColor;\n",
       "  fill: currentColor;\n",
       "}\n",
       "</style><pre class='xr-text-repr-fallback'>&lt;xarray.Dataset&gt;\n",
       "Dimensions:   (time: 1, step: 3, quartile: 1, lon: 726, lat: 486)\n",
       "Coordinates:\n",
       "  * time      (time) datetime64[ns] 2022-04-01\n",
       "  * step      (step) int64 3 4 5\n",
       "    month     int64 4\n",
       "  * quartile  (quartile) int64 1\n",
       "  * lon       (lon) float64 120.0 120.2 120.3 120.5 ... 239.5 239.7 239.8 240.0\n",
       "  * lat       (lat) float64 -50.0 -49.84 -49.67 -49.51 ... 29.67 29.84 30.0\n",
       "Data variables:\n",
       "    precip    (quartile, time, step, lat, lon) float64 dask.array&lt;chunksize=(1, 1, 3, 486, 726), meta=np.ndarray&gt;\n",
       "Attributes:\n",
       "    pct_values:  [0.25 0.5  0.75]\n",
       "    period:      seasonal</pre><div class='xr-wrap' style='display:none'><div class='xr-header'><div class='xr-obj-type'>xarray.Dataset</div></div><ul class='xr-sections'><li class='xr-section-item'><input id='section-cae701f9-5c4e-4612-8cd3-4f118e8f0db1' class='xr-section-summary-in' type='checkbox' disabled ><label for='section-cae701f9-5c4e-4612-8cd3-4f118e8f0db1' class='xr-section-summary'  title='Expand/collapse section'>Dimensions:</label><div class='xr-section-inline-details'><ul class='xr-dim-list'><li><span class='xr-has-index'>time</span>: 1</li><li><span class='xr-has-index'>step</span>: 3</li><li><span class='xr-has-index'>quartile</span>: 1</li><li><span class='xr-has-index'>lon</span>: 726</li><li><span class='xr-has-index'>lat</span>: 486</li></ul></div><div class='xr-section-details'></div></li><li class='xr-section-item'><input id='section-bf5653c9-7d45-4d04-a539-8d7d017f7fca' class='xr-section-summary-in' type='checkbox'  checked><label for='section-bf5653c9-7d45-4d04-a539-8d7d017f7fca' class='xr-section-summary' >Coordinates: <span>(6)</span></label><div class='xr-section-inline-details'></div><div class='xr-section-details'><ul class='xr-var-list'><li class='xr-var-item'><div class='xr-var-name'><span class='xr-has-index'>time</span></div><div class='xr-var-dims'>(time)</div><div class='xr-var-dtype'>datetime64[ns]</div><div class='xr-var-preview xr-preview'>2022-04-01</div><input id='attrs-2bceb2b8-1329-4e70-91ba-733ea725002b' class='xr-var-attrs-in' type='checkbox' disabled><label for='attrs-2bceb2b8-1329-4e70-91ba-733ea725002b' title='Show/Hide attributes'><svg class='icon xr-icon-file-text2'><use xlink:href='#icon-file-text2'></use></svg></label><input id='data-72792911-936c-4c73-9e33-7d84c06f43ea' class='xr-var-data-in' type='checkbox'><label for='data-72792911-936c-4c73-9e33-7d84c06f43ea' title='Show/Hide data repr'><svg class='icon xr-icon-database'><use xlink:href='#icon-database'></use></svg></label><div class='xr-var-attrs'><dl class='xr-attrs'></dl></div><div class='xr-var-data'><pre>array([&#x27;2022-04-01T00:00:00.000000000&#x27;], dtype=&#x27;datetime64[ns]&#x27;)</pre></div></li><li class='xr-var-item'><div class='xr-var-name'><span class='xr-has-index'>step</span></div><div class='xr-var-dims'>(step)</div><div class='xr-var-dtype'>int64</div><div class='xr-var-preview xr-preview'>3 4 5</div><input id='attrs-c30461c0-a127-4b50-ac40-ba52e7ba30dc' class='xr-var-attrs-in' type='checkbox' disabled><label for='attrs-c30461c0-a127-4b50-ac40-ba52e7ba30dc' title='Show/Hide attributes'><svg class='icon xr-icon-file-text2'><use xlink:href='#icon-file-text2'></use></svg></label><input id='data-ea44509b-5d7d-4625-b24a-e4fb9786643a' class='xr-var-data-in' type='checkbox'><label for='data-ea44509b-5d7d-4625-b24a-e4fb9786643a' title='Show/Hide data repr'><svg class='icon xr-icon-database'><use xlink:href='#icon-database'></use></svg></label><div class='xr-var-attrs'><dl class='xr-attrs'></dl></div><div class='xr-var-data'><pre>array([3, 4, 5])</pre></div></li><li class='xr-var-item'><div class='xr-var-name'><span>month</span></div><div class='xr-var-dims'>()</div><div class='xr-var-dtype'>int64</div><div class='xr-var-preview xr-preview'>4</div><input id='attrs-2295e9be-f2c8-4a04-b979-dfc38685ff34' class='xr-var-attrs-in' type='checkbox' disabled><label for='attrs-2295e9be-f2c8-4a04-b979-dfc38685ff34' title='Show/Hide attributes'><svg class='icon xr-icon-file-text2'><use xlink:href='#icon-file-text2'></use></svg></label><input id='data-bb7dc8fc-27a5-4c4c-9aba-c61730ed6035' class='xr-var-data-in' type='checkbox'><label for='data-bb7dc8fc-27a5-4c4c-9aba-c61730ed6035' title='Show/Hide data repr'><svg class='icon xr-icon-database'><use xlink:href='#icon-database'></use></svg></label><div class='xr-var-attrs'><dl class='xr-attrs'></dl></div><div class='xr-var-data'><pre>array(4)</pre></div></li><li class='xr-var-item'><div class='xr-var-name'><span class='xr-has-index'>quartile</span></div><div class='xr-var-dims'>(quartile)</div><div class='xr-var-dtype'>int64</div><div class='xr-var-preview xr-preview'>1</div><input id='attrs-93d84d49-1143-4cf4-92a4-bdfefe89180e' class='xr-var-attrs-in' type='checkbox' disabled><label for='attrs-93d84d49-1143-4cf4-92a4-bdfefe89180e' title='Show/Hide attributes'><svg class='icon xr-icon-file-text2'><use xlink:href='#icon-file-text2'></use></svg></label><input id='data-d33b0031-da72-456e-a40b-cbddfd2cfc23' class='xr-var-data-in' type='checkbox'><label for='data-d33b0031-da72-456e-a40b-cbddfd2cfc23' title='Show/Hide data repr'><svg class='icon xr-icon-database'><use xlink:href='#icon-database'></use></svg></label><div class='xr-var-attrs'><dl class='xr-attrs'></dl></div><div class='xr-var-data'><pre>array([1])</pre></div></li><li class='xr-var-item'><div class='xr-var-name'><span class='xr-has-index'>lon</span></div><div class='xr-var-dims'>(lon)</div><div class='xr-var-dtype'>float64</div><div class='xr-var-preview xr-preview'>120.0 120.2 120.3 ... 239.8 240.0</div><input id='attrs-4242ad4e-61a2-4058-bf20-faa6c59c7880' class='xr-var-attrs-in' type='checkbox' ><label for='attrs-4242ad4e-61a2-4058-bf20-faa6c59c7880' title='Show/Hide attributes'><svg class='icon xr-icon-file-text2'><use xlink:href='#icon-file-text2'></use></svg></label><input id='data-454ea7db-7fea-4f29-8f2c-4fce46e3c529' class='xr-var-data-in' type='checkbox'><label for='data-454ea7db-7fea-4f29-8f2c-4fce46e3c529' title='Show/Hide data repr'><svg class='icon xr-icon-database'><use xlink:href='#icon-database'></use></svg></label><div class='xr-var-attrs'><dl class='xr-attrs'><dt><span>units :</span></dt><dd>degrees_east</dd><dt><span>long_name :</span></dt><dd>Longitude</dd></dl></div><div class='xr-var-data'><pre>array([120.      , 120.165517, 120.331034, ..., 239.668966, 239.834483,\n",
       "       240.      ])</pre></div></li><li class='xr-var-item'><div class='xr-var-name'><span class='xr-has-index'>lat</span></div><div class='xr-var-dims'>(lat)</div><div class='xr-var-dtype'>float64</div><div class='xr-var-preview xr-preview'>-50.0 -49.84 -49.67 ... 29.84 30.0</div><input id='attrs-139c9cfc-6976-4ec9-8c8e-086ebba9d999' class='xr-var-attrs-in' type='checkbox' ><label for='attrs-139c9cfc-6976-4ec9-8c8e-086ebba9d999' title='Show/Hide attributes'><svg class='icon xr-icon-file-text2'><use xlink:href='#icon-file-text2'></use></svg></label><input id='data-3dc60a87-7881-4fd6-ab72-98a6143adf99' class='xr-var-data-in' type='checkbox'><label for='data-3dc60a87-7881-4fd6-ab72-98a6143adf99' title='Show/Hide data repr'><svg class='icon xr-icon-database'><use xlink:href='#icon-database'></use></svg></label><div class='xr-var-attrs'><dl class='xr-attrs'><dt><span>units :</span></dt><dd>degrees_north</dd><dt><span>long_name :</span></dt><dd>Latitude</dd></dl></div><div class='xr-var-data'><pre>array([-50.      , -49.835052, -49.670103, ...,  29.670103,  29.835052,\n",
       "        30.      ])</pre></div></li></ul></div></li><li class='xr-section-item'><input id='section-c670d219-4dcf-46e0-858e-c3c842fb64ea' class='xr-section-summary-in' type='checkbox'  checked><label for='section-c670d219-4dcf-46e0-858e-c3c842fb64ea' class='xr-section-summary' >Data variables: <span>(1)</span></label><div class='xr-section-inline-details'></div><div class='xr-section-details'><ul class='xr-var-list'><li class='xr-var-item'><div class='xr-var-name'><span>precip</span></div><div class='xr-var-dims'>(quartile, time, step, lat, lon)</div><div class='xr-var-dtype'>float64</div><div class='xr-var-preview xr-preview'>dask.array&lt;chunksize=(1, 1, 3, 486, 726), meta=np.ndarray&gt;</div><input id='attrs-8a05728d-fd51-4f93-81c4-5b8c9bdfe065' class='xr-var-attrs-in' type='checkbox' disabled><label for='attrs-8a05728d-fd51-4f93-81c4-5b8c9bdfe065' title='Show/Hide attributes'><svg class='icon xr-icon-file-text2'><use xlink:href='#icon-file-text2'></use></svg></label><input id='data-c8388a6b-3225-49e8-8dde-277c15d71cec' class='xr-var-data-in' type='checkbox'><label for='data-c8388a6b-3225-49e8-8dde-277c15d71cec' title='Show/Hide data repr'><svg class='icon xr-icon-database'><use xlink:href='#icon-database'></use></svg></label><div class='xr-var-attrs'><dl class='xr-attrs'></dl></div><div class='xr-var-data'><table>\n",
       "    <tr>\n",
       "        <td>\n",
       "            <table>\n",
       "                <thead>\n",
       "                    <tr>\n",
       "                        <td> </td>\n",
       "                        <th> Array </th>\n",
       "                        <th> Chunk </th>\n",
       "                    </tr>\n",
       "                </thead>\n",
       "                <tbody>\n",
       "                    \n",
       "                    <tr>\n",
       "                        <th> Bytes </th>\n",
       "                        <td> 8.08 MiB </td>\n",
       "                        <td> 8.08 MiB </td>\n",
       "                    </tr>\n",
       "                    \n",
       "                    <tr>\n",
       "                        <th> Shape </th>\n",
       "                        <td> (1, 1, 3, 486, 726) </td>\n",
       "                        <td> (1, 1, 3, 486, 726) </td>\n",
       "                    </tr>\n",
       "                    <tr>\n",
       "                        <th> Count </th>\n",
       "                        <td> 92 Tasks </td>\n",
       "                        <td> 1 Chunks </td>\n",
       "                    </tr>\n",
       "                    <tr>\n",
       "                    <th> Type </th>\n",
       "                    <td> float64 </td>\n",
       "                    <td> numpy.ndarray </td>\n",
       "                    </tr>\n",
       "                </tbody>\n",
       "            </table>\n",
       "        </td>\n",
       "        <td>\n",
       "        <svg width=\"374\" height=\"145\" style=\"stroke:rgb(0,0,0);stroke-width:1\" >\n",
       "\n",
       "  <!-- Horizontal lines -->\n",
       "  <line x1=\"0\" y1=\"0\" x2=\"25\" y2=\"0\" style=\"stroke-width:2\" />\n",
       "  <line x1=\"0\" y1=\"25\" x2=\"25\" y2=\"25\" style=\"stroke-width:2\" />\n",
       "\n",
       "  <!-- Vertical lines -->\n",
       "  <line x1=\"0\" y1=\"0\" x2=\"0\" y2=\"25\" style=\"stroke-width:2\" />\n",
       "  <line x1=\"25\" y1=\"0\" x2=\"25\" y2=\"25\" style=\"stroke-width:2\" />\n",
       "\n",
       "  <!-- Colored Rectangle -->\n",
       "  <polygon points=\"0.0,0.0 25.412616514582485,0.0 25.412616514582485,25.412616514582485 0.0,25.412616514582485\" style=\"fill:#ECB172A0;stroke-width:0\"/>\n",
       "\n",
       "  <!-- Text -->\n",
       "  <text x=\"12.706308\" y=\"45.412617\" font-size=\"1.0rem\" font-weight=\"100\" text-anchor=\"middle\" >1</text>\n",
       "  <text x=\"45.412617\" y=\"12.706308\" font-size=\"1.0rem\" font-weight=\"100\" text-anchor=\"middle\" transform=\"rotate(0,45.412617,12.706308)\">1</text>\n",
       "\n",
       "\n",
       "  <!-- Horizontal lines -->\n",
       "  <line x1=\"95\" y1=\"0\" x2=\"109\" y2=\"14\" style=\"stroke-width:2\" />\n",
       "  <line x1=\"95\" y1=\"80\" x2=\"109\" y2=\"95\" style=\"stroke-width:2\" />\n",
       "\n",
       "  <!-- Vertical lines -->\n",
       "  <line x1=\"95\" y1=\"0\" x2=\"95\" y2=\"80\" style=\"stroke-width:2\" />\n",
       "  <line x1=\"109\" y1=\"14\" x2=\"109\" y2=\"95\" style=\"stroke-width:2\" />\n",
       "\n",
       "  <!-- Colored Rectangle -->\n",
       "  <polygon points=\"95.0,0.0 109.9485979497544,14.948597949754403 109.9485979497544,95.2791764621511 95.0,80.3305785123967\" style=\"fill:#ECB172A0;stroke-width:0\"/>\n",
       "\n",
       "  <!-- Horizontal lines -->\n",
       "  <line x1=\"95\" y1=\"0\" x2=\"215\" y2=\"0\" style=\"stroke-width:2\" />\n",
       "  <line x1=\"109\" y1=\"14\" x2=\"229\" y2=\"14\" style=\"stroke-width:2\" />\n",
       "\n",
       "  <!-- Vertical lines -->\n",
       "  <line x1=\"95\" y1=\"0\" x2=\"109\" y2=\"14\" style=\"stroke-width:2\" />\n",
       "  <line x1=\"215\" y1=\"0\" x2=\"229\" y2=\"14\" style=\"stroke-width:2\" />\n",
       "\n",
       "  <!-- Colored Rectangle -->\n",
       "  <polygon points=\"95.0,0.0 215.0,0.0 229.9485979497544,14.948597949754403 109.9485979497544,14.948597949754403\" style=\"fill:#ECB172A0;stroke-width:0\"/>\n",
       "\n",
       "  <!-- Horizontal lines -->\n",
       "  <line x1=\"109\" y1=\"14\" x2=\"229\" y2=\"14\" style=\"stroke-width:2\" />\n",
       "  <line x1=\"109\" y1=\"95\" x2=\"229\" y2=\"95\" style=\"stroke-width:2\" />\n",
       "\n",
       "  <!-- Vertical lines -->\n",
       "  <line x1=\"109\" y1=\"14\" x2=\"109\" y2=\"95\" style=\"stroke-width:2\" />\n",
       "  <line x1=\"229\" y1=\"14\" x2=\"229\" y2=\"95\" style=\"stroke-width:2\" />\n",
       "\n",
       "  <!-- Colored Rectangle -->\n",
       "  <polygon points=\"109.9485979497544,14.948597949754403 229.9485979497544,14.948597949754403 229.9485979497544,95.2791764621511 109.9485979497544,95.2791764621511\" style=\"fill:#ECB172A0;stroke-width:0\"/>\n",
       "\n",
       "  <!-- Text -->\n",
       "  <text x=\"169.948598\" y=\"115.279176\" font-size=\"1.0rem\" font-weight=\"100\" text-anchor=\"middle\" >726</text>\n",
       "  <text x=\"249.948598\" y=\"55.113887\" font-size=\"1.0rem\" font-weight=\"100\" text-anchor=\"middle\" transform=\"rotate(-90,249.948598,55.113887)\">486</text>\n",
       "  <text x=\"92.474299\" y=\"107.804877\" font-size=\"1.0rem\" font-weight=\"100\" text-anchor=\"middle\" transform=\"rotate(45,92.474299,107.804877)\">3</text>\n",
       "</svg>\n",
       "        </td>\n",
       "    </tr>\n",
       "</table></div></li></ul></div></li><li class='xr-section-item'><input id='section-9266f458-1191-46f7-8d2a-133378a719ea' class='xr-section-summary-in' type='checkbox'  checked><label for='section-9266f458-1191-46f7-8d2a-133378a719ea' class='xr-section-summary' >Attributes: <span>(2)</span></label><div class='xr-section-inline-details'></div><div class='xr-section-details'><dl class='xr-attrs'><dt><span>pct_values :</span></dt><dd>[0.25 0.5  0.75]</dd><dt><span>period :</span></dt><dd>seasonal</dd></dl></div></li></ul></div></div>"
      ],
      "text/plain": [
       "<xarray.Dataset>\n",
       "Dimensions:   (time: 1, step: 3, quartile: 1, lon: 726, lat: 486)\n",
       "Coordinates:\n",
       "  * time      (time) datetime64[ns] 2022-04-01\n",
       "  * step      (step) int64 3 4 5\n",
       "    month     int64 4\n",
       "  * quartile  (quartile) int64 1\n",
       "  * lon       (lon) float64 120.0 120.2 120.3 120.5 ... 239.5 239.7 239.8 240.0\n",
       "  * lat       (lat) float64 -50.0 -49.84 -49.67 -49.51 ... 29.67 29.84 30.0\n",
       "Data variables:\n",
       "    precip    (quartile, time, step, lat, lon) float64 dask.array<chunksize=(1, 1, 3, 486, 726), meta=np.ndarray>\n",
       "Attributes:\n",
       "    pct_values:  [0.25 0.5  0.75]\n",
       "    period:      seasonal"
      ]
     },
     "execution_count": 39,
     "metadata": {},
     "output_type": "execute_result"
    }
   ],
   "source": [
    "probs_mean.sel({quantile:slice(None, max_cat)})"
   ]
  },
  {
   "cell_type": "code",
   "execution_count": 40,
   "id": "7ed16feb",
   "metadata": {
    "execution": {
     "iopub.execute_input": "2022-04-29T07:08:37.352824Z",
     "iopub.status.busy": "2022-04-29T07:08:37.352676Z",
     "iopub.status.idle": "2022-04-29T07:08:40.589384Z",
     "shell.execute_reply": "2022-04-29T07:08:40.589017Z"
    },
    "papermill": {
     "duration": 3.251411,
     "end_time": "2022-04-29T07:08:40.590419",
     "exception": false,
     "start_time": "2022-04-29T07:08:37.339008",
     "status": "completed"
    },
    "tags": []
   },
   "outputs": [
    {
     "data": {
      "image/png": "[encoded data removed]",
      "text/plain": [
       "<Figure size 720x216 with 4 Axes>"
      ]
     },
     "metadata": {
      "needs_background": "light"
     },
     "output_type": "display_data"
    }
   ],
   "source": [
    "_ = probs_mean.sel({quantile:slice(None, max_cat)}).sum(quantile)[varname].squeeze().plot.contourf(col='step', levels=10, cmap=cmap)"
   ]
  },
  {
   "cell_type": "markdown",
   "id": "8ddfe6f9-06ad-47db-a17c-d0da96278fdf",
   "metadata": {
    "papermill": {
     "duration": 0.009953,
     "end_time": "2022-04-29T07:08:40.610496",
     "exception": false,
     "start_time": "2022-04-29T07:08:40.600543",
     "status": "completed"
    },
    "tags": []
   },
   "source": [
    "### saves to disk "
   ]
  },
  {
   "cell_type": "markdown",
   "id": "e7fbacf6-4ab4-42df-97cd-4e19f3f2d55d",
   "metadata": {
    "papermill": {
     "duration": 0.009848,
     "end_time": "2022-04-29T07:08:40.630270",
     "exception": false,
     "start_time": "2022-04-29T07:08:40.620422",
     "status": "completed"
    },
    "tags": []
   },
   "source": [
    "### saves to disk "
   ]
  },
  {
   "cell_type": "code",
   "execution_count": 41,
   "id": "3abd440a-a097-45a8-bb0e-a5712084c3d1",
   "metadata": {
    "execution": {
     "iopub.execute_input": "2022-04-29T07:08:40.651618Z",
     "iopub.status.busy": "2022-04-29T07:08:40.651468Z",
     "iopub.status.idle": "2022-04-29T07:08:40.670375Z",
     "shell.execute_reply": "2022-04-29T07:08:40.669988Z"
    },
    "papermill": {
     "duration": 0.031306,
     "end_time": "2022-04-29T07:08:40.671610",
     "exception": false,
     "start_time": "2022-04-29T07:08:40.640304",
     "status": "completed"
    },
    "tags": []
   },
   "outputs": [],
   "source": [
    "dict_lat = dict(units = \"degrees_north\", long_name = \"Latitude\")\n",
    "dict_lon = dict(units = \"degrees_east\", long_name = \"Longitude\")"
   ]
  },
  {
   "cell_type": "code",
   "execution_count": 42,
   "id": "64350498-1a31-403b-a6ad-1b4003eabb88",
   "metadata": {
    "execution": {
     "iopub.execute_input": "2022-04-29T07:08:40.692730Z",
     "iopub.status.busy": "2022-04-29T07:08:40.692581Z",
     "iopub.status.idle": "2022-04-29T07:08:40.710942Z",
     "shell.execute_reply": "2022-04-29T07:08:40.710572Z"
    },
    "papermill": {
     "duration": 0.030237,
     "end_time": "2022-04-29T07:08:40.712126",
     "exception": false,
     "start_time": "2022-04-29T07:08:40.681889",
     "status": "completed"
    },
    "tags": []
   },
   "outputs": [],
   "source": [
    "probs_mean['lat'].attrs.update(dict_lat)\n",
    "probs_mean['lon'].attrs.update(dict_lon)"
   ]
  },
  {
   "cell_type": "code",
   "execution_count": 43,
   "id": "fbcabceb-2d2f-46d6-ad73-e6ede290c95b",
   "metadata": {
    "execution": {
     "iopub.execute_input": "2022-04-29T07:08:40.733077Z",
     "iopub.status.busy": "2022-04-29T07:08:40.732935Z",
     "iopub.status.idle": "2022-04-29T07:08:41.535096Z",
     "shell.execute_reply": "2022-04-29T07:08:41.534676Z"
    },
    "papermill": {
     "duration": 0.814073,
     "end_time": "2022-04-29T07:08:41.536434",
     "exception": false,
     "start_time": "2022-04-29T07:08:40.722361",
     "status": "completed"
    },
    "tags": []
   },
   "outputs": [],
   "source": [
    "probs_mean.to_netcdf(outputs_path.joinpath(f\"C3S_MME_{period}_{pmax}prob_lead{lead}_{year}_{month:02d}_init.netcdf\"))  "
   ]
  },
  {
   "cell_type": "markdown",
   "id": "4d305552",
   "metadata": {
    "papermill": {
     "duration": 0.011068,
     "end_time": "2022-04-29T07:08:41.557836",
     "exception": false,
     "start_time": "2022-04-29T07:08:41.546768",
     "status": "completed"
    },
    "tags": []
   },
   "source": [
    "### plot the probabilities for rainfall being below the climatological 25th percentile, for the next 3 months period  "
   ]
  },
  {
   "cell_type": "code",
   "execution_count": 44,
   "id": "0b61d442",
   "metadata": {
    "execution": {
     "iopub.execute_input": "2022-04-29T07:08:41.580318Z",
     "iopub.status.busy": "2022-04-29T07:08:41.580173Z",
     "iopub.status.idle": "2022-04-29T07:08:41.610572Z",
     "shell.execute_reply": "2022-04-29T07:08:41.610143Z"
    },
    "papermill": {
     "duration": 0.043049,
     "end_time": "2022-04-29T07:08:41.611597",
     "exception": false,
     "start_time": "2022-04-29T07:08:41.568548",
     "status": "completed"
    },
    "tags": []
   },
   "outputs": [
    {
     "data": {
      "text/html": [
       "<div><svg style=\"position: absolute; width: 0; height: 0; overflow: hidden\">\n",
       "<defs>\n",
       "<symbol id=\"icon-database\" viewBox=\"0 0 32 32\">\n",
       "<path d=\"M16 0c-8.837 0-16 2.239-16 5v4c0 2.761 7.163 5 16 5s16-2.239 16-5v-4c0-2.761-7.163-5-16-5z\"></path>\n",
       "<path d=\"M16 17c-8.837 0-16-2.239-16-5v6c0 2.761 7.163 5 16 5s16-2.239 16-5v-6c0 2.761-7.163 5-16 5z\"></path>\n",
       "<path d=\"M16 26c-8.837 0-16-2.239-16-5v6c0 2.761 7.163 5 16 5s16-2.239 16-5v-6c0 2.761-7.163 5-16 5z\"></path>\n",
       "</symbol>\n",
       "<symbol id=\"icon-file-text2\" viewBox=\"0 0 32 32\">\n",
       "<path d=\"M28.681 7.159c-0.694-0.947-1.662-2.053-2.724-3.116s-2.169-2.030-3.116-2.724c-1.612-1.182-2.393-1.319-2.841-1.319h-15.5c-1.378 0-2.5 1.121-2.5 2.5v27c0 1.378 1.122 2.5 2.5 2.5h23c1.378 0 2.5-1.122 2.5-2.5v-19.5c0-0.448-0.137-1.23-1.319-2.841zM24.543 5.457c0.959 0.959 1.712 1.825 2.268 2.543h-4.811v-4.811c0.718 0.556 1.584 1.309 2.543 2.268zM28 29.5c0 0.271-0.229 0.5-0.5 0.5h-23c-0.271 0-0.5-0.229-0.5-0.5v-27c0-0.271 0.229-0.5 0.5-0.5 0 0 15.499-0 15.5 0v7c0 0.552 0.448 1 1 1h7v19.5z\"></path>\n",
       "<path d=\"M23 26h-14c-0.552 0-1-0.448-1-1s0.448-1 1-1h14c0.552 0 1 0.448 1 1s-0.448 1-1 1z\"></path>\n",
       "<path d=\"M23 22h-14c-0.552 0-1-0.448-1-1s0.448-1 1-1h14c0.552 0 1 0.448 1 1s-0.448 1-1 1z\"></path>\n",
       "<path d=\"M23 18h-14c-0.552 0-1-0.448-1-1s0.448-1 1-1h14c0.552 0 1 0.448 1 1s-0.448 1-1 1z\"></path>\n",
       "</symbol>\n",
       "</defs>\n",
       "</svg>\n",
       "<style>/* CSS stylesheet for displaying xarray objects in jupyterlab.\n",
       " *\n",
       " */\n",
       "\n",
       ":root {\n",
       "  --xr-font-color0: var(--jp-content-font-color0, rgba(0, 0, 0, 1));\n",
       "  --xr-font-color2: var(--jp-content-font-color2, rgba(0, 0, 0, 0.54));\n",
       "  --xr-font-color3: var(--jp-content-font-color3, rgba(0, 0, 0, 0.38));\n",
       "  --xr-border-color: var(--jp-border-color2, #e0e0e0);\n",
       "  --xr-disabled-color: var(--jp-layout-color3, #bdbdbd);\n",
       "  --xr-background-color: var(--jp-layout-color0, white);\n",
       "  --xr-background-color-row-even: var(--jp-layout-color1, white);\n",
       "  --xr-background-color-row-odd: var(--jp-layout-color2, #eeeeee);\n",
       "}\n",
       "\n",
       "html[theme=dark],\n",
       "body.vscode-dark {\n",
       "  --xr-font-color0: rgba(255, 255, 255, 1);\n",
       "  --xr-font-color2: rgba(255, 255, 255, 0.54);\n",
       "  --xr-font-color3: rgba(255, 255, 255, 0.38);\n",
       "  --xr-border-color: #1F1F1F;\n",
       "  --xr-disabled-color: #515151;\n",
       "  --xr-background-color: #111111;\n",
       "  --xr-background-color-row-even: #111111;\n",
       "  --xr-background-color-row-odd: #313131;\n",
       "}\n",
       "\n",
       ".xr-wrap {\n",
       "  display: block !important;\n",
       "  min-width: 300px;\n",
       "  max-width: 700px;\n",
       "}\n",
       "\n",
       ".xr-text-repr-fallback {\n",
       "  /* fallback to plain text repr when CSS is not injected (untrusted notebook) */\n",
       "  display: none;\n",
       "}\n",
       "\n",
       ".xr-header {\n",
       "  padding-top: 6px;\n",
       "  padding-bottom: 6px;\n",
       "  margin-bottom: 4px;\n",
       "  border-bottom: solid 1px var(--xr-border-color);\n",
       "}\n",
       "\n",
       ".xr-header > div,\n",
       ".xr-header > ul {\n",
       "  display: inline;\n",
       "  margin-top: 0;\n",
       "  margin-bottom: 0;\n",
       "}\n",
       "\n",
       ".xr-obj-type,\n",
       ".xr-array-name {\n",
       "  margin-left: 2px;\n",
       "  margin-right: 10px;\n",
       "}\n",
       "\n",
       ".xr-obj-type {\n",
       "  color: var(--xr-font-color2);\n",
       "}\n",
       "\n",
       ".xr-sections {\n",
       "  padding-left: 0 !important;\n",
       "  display: grid;\n",
       "  grid-template-columns: 150px auto auto 1fr 20px 20px;\n",
       "}\n",
       "\n",
       ".xr-section-item {\n",
       "  display: contents;\n",
       "}\n",
       "\n",
       ".xr-section-item input {\n",
       "  display: none;\n",
       "}\n",
       "\n",
       ".xr-section-item input + label {\n",
       "  color: var(--xr-disabled-color);\n",
       "}\n",
       "\n",
       ".xr-section-item input:enabled + label {\n",
       "  cursor: pointer;\n",
       "  color: var(--xr-font-color2);\n",
       "}\n",
       "\n",
       ".xr-section-item input:enabled + label:hover {\n",
       "  color: var(--xr-font-color0);\n",
       "}\n",
       "\n",
       ".xr-section-summary {\n",
       "  grid-column: 1;\n",
       "  color: var(--xr-font-color2);\n",
       "  font-weight: 500;\n",
       "}\n",
       "\n",
       ".xr-section-summary > span {\n",
       "  display: inline-block;\n",
       "  padding-left: 0.5em;\n",
       "}\n",
       "\n",
       ".xr-section-summary-in:disabled + label {\n",
       "  color: var(--xr-font-color2);\n",
       "}\n",
       "\n",
       ".xr-section-summary-in + label:before {\n",
       "  display: inline-block;\n",
       "  content: '►';\n",
       "  font-size: 11px;\n",
       "  width: 15px;\n",
       "  text-align: center;\n",
       "}\n",
       "\n",
       ".xr-section-summary-in:disabled + label:before {\n",
       "  color: var(--xr-disabled-color);\n",
       "}\n",
       "\n",
       ".xr-section-summary-in:checked + label:before {\n",
       "  content: '▼';\n",
       "}\n",
       "\n",
       ".xr-section-summary-in:checked + label > span {\n",
       "  display: none;\n",
       "}\n",
       "\n",
       ".xr-section-summary,\n",
       ".xr-section-inline-details {\n",
       "  padding-top: 4px;\n",
       "  padding-bottom: 4px;\n",
       "}\n",
       "\n",
       ".xr-section-inline-details {\n",
       "  grid-column: 2 / -1;\n",
       "}\n",
       "\n",
       ".xr-section-details {\n",
       "  display: none;\n",
       "  grid-column: 1 / -1;\n",
       "  margin-bottom: 5px;\n",
       "}\n",
       "\n",
       ".xr-section-summary-in:checked ~ .xr-section-details {\n",
       "  display: contents;\n",
       "}\n",
       "\n",
       ".xr-array-wrap {\n",
       "  grid-column: 1 / -1;\n",
       "  display: grid;\n",
       "  grid-template-columns: 20px auto;\n",
       "}\n",
       "\n",
       ".xr-array-wrap > label {\n",
       "  grid-column: 1;\n",
       "  vertical-align: top;\n",
       "}\n",
       "\n",
       ".xr-preview {\n",
       "  color: var(--xr-font-color3);\n",
       "}\n",
       "\n",
       ".xr-array-preview,\n",
       ".xr-array-data {\n",
       "  padding: 0 5px !important;\n",
       "  grid-column: 2;\n",
       "}\n",
       "\n",
       ".xr-array-data,\n",
       ".xr-array-in:checked ~ .xr-array-preview {\n",
       "  display: none;\n",
       "}\n",
       "\n",
       ".xr-array-in:checked ~ .xr-array-data,\n",
       ".xr-array-preview {\n",
       "  display: inline-block;\n",
       "}\n",
       "\n",
       ".xr-dim-list {\n",
       "  display: inline-block !important;\n",
       "  list-style: none;\n",
       "  padding: 0 !important;\n",
       "  margin: 0;\n",
       "}\n",
       "\n",
       ".xr-dim-list li {\n",
       "  display: inline-block;\n",
       "  padding: 0;\n",
       "  margin: 0;\n",
       "}\n",
       "\n",
       ".xr-dim-list:before {\n",
       "  content: '(';\n",
       "}\n",
       "\n",
       ".xr-dim-list:after {\n",
       "  content: ')';\n",
       "}\n",
       "\n",
       ".xr-dim-list li:not(:last-child):after {\n",
       "  content: ',';\n",
       "  padding-right: 5px;\n",
       "}\n",
       "\n",
       ".xr-has-index {\n",
       "  font-weight: bold;\n",
       "}\n",
       "\n",
       ".xr-var-list,\n",
       ".xr-var-item {\n",
       "  display: contents;\n",
       "}\n",
       "\n",
       ".xr-var-item > div,\n",
       ".xr-var-item label,\n",
       ".xr-var-item > .xr-var-name span {\n",
       "  background-color: var(--xr-background-color-row-even);\n",
       "  margin-bottom: 0;\n",
       "}\n",
       "\n",
       ".xr-var-item > .xr-var-name:hover span {\n",
       "  padding-right: 5px;\n",
       "}\n",
       "\n",
       ".xr-var-list > li:nth-child(odd) > div,\n",
       ".xr-var-list > li:nth-child(odd) > label,\n",
       ".xr-var-list > li:nth-child(odd) > .xr-var-name span {\n",
       "  background-color: var(--xr-background-color-row-odd);\n",
       "}\n",
       "\n",
       ".xr-var-name {\n",
       "  grid-column: 1;\n",
       "}\n",
       "\n",
       ".xr-var-dims {\n",
       "  grid-column: 2;\n",
       "}\n",
       "\n",
       ".xr-var-dtype {\n",
       "  grid-column: 3;\n",
       "  text-align: right;\n",
       "  color: var(--xr-font-color2);\n",
       "}\n",
       "\n",
       ".xr-var-preview {\n",
       "  grid-column: 4;\n",
       "}\n",
       "\n",
       ".xr-var-name,\n",
       ".xr-var-dims,\n",
       ".xr-var-dtype,\n",
       ".xr-preview,\n",
       ".xr-attrs dt {\n",
       "  white-space: nowrap;\n",
       "  overflow: hidden;\n",
       "  text-overflow: ellipsis;\n",
       "  padding-right: 10px;\n",
       "}\n",
       "\n",
       ".xr-var-name:hover,\n",
       ".xr-var-dims:hover,\n",
       ".xr-var-dtype:hover,\n",
       ".xr-attrs dt:hover {\n",
       "  overflow: visible;\n",
       "  width: auto;\n",
       "  z-index: 1;\n",
       "}\n",
       "\n",
       ".xr-var-attrs,\n",
       ".xr-var-data {\n",
       "  display: none;\n",
       "  background-color: var(--xr-background-color) !important;\n",
       "  padding-bottom: 5px !important;\n",
       "}\n",
       "\n",
       ".xr-var-attrs-in:checked ~ .xr-var-attrs,\n",
       ".xr-var-data-in:checked ~ .xr-var-data {\n",
       "  display: block;\n",
       "}\n",
       "\n",
       ".xr-var-data > table {\n",
       "  float: right;\n",
       "}\n",
       "\n",
       ".xr-var-name span,\n",
       ".xr-var-data,\n",
       ".xr-attrs {\n",
       "  padding-left: 25px !important;\n",
       "}\n",
       "\n",
       ".xr-attrs,\n",
       ".xr-var-attrs,\n",
       ".xr-var-data {\n",
       "  grid-column: 1 / -1;\n",
       "}\n",
       "\n",
       "dl.xr-attrs {\n",
       "  padding: 0;\n",
       "  margin: 0;\n",
       "  display: grid;\n",
       "  grid-template-columns: 125px auto;\n",
       "}\n",
       "\n",
       ".xr-attrs dt,\n",
       ".xr-attrs dd {\n",
       "  padding: 0;\n",
       "  margin: 0;\n",
       "  float: left;\n",
       "  padding-right: 10px;\n",
       "  width: auto;\n",
       "}\n",
       "\n",
       ".xr-attrs dt {\n",
       "  font-weight: normal;\n",
       "  grid-column: 1;\n",
       "}\n",
       "\n",
       ".xr-attrs dt:hover span {\n",
       "  display: inline-block;\n",
       "  background: var(--xr-background-color);\n",
       "  padding-right: 10px;\n",
       "}\n",
       "\n",
       ".xr-attrs dd {\n",
       "  grid-column: 2;\n",
       "  white-space: pre-wrap;\n",
       "  word-break: break-all;\n",
       "}\n",
       "\n",
       ".xr-icon-database,\n",
       ".xr-icon-file-text2 {\n",
       "  display: inline-block;\n",
       "  vertical-align: middle;\n",
       "  width: 1em;\n",
       "  height: 1.5em !important;\n",
       "  stroke-width: 0;\n",
       "  stroke: currentColor;\n",
       "  fill: currentColor;\n",
       "}\n",
       "</style><pre class='xr-text-repr-fallback'>&lt;xarray.Dataset&gt;\n",
       "Dimensions:   (time: 1, step: 3, quartile: 4, lon: 726, lat: 486)\n",
       "Coordinates:\n",
       "  * time      (time) datetime64[ns] 2022-04-01\n",
       "  * step      (step) int64 3 4 5\n",
       "    month     int64 4\n",
       "  * quartile  (quartile) int64 1 2 3 4\n",
       "  * lon       (lon) float64 120.0 120.2 120.3 120.5 ... 239.5 239.7 239.8 240.0\n",
       "  * lat       (lat) float64 -50.0 -49.84 -49.67 -49.51 ... 29.67 29.84 30.0\n",
       "Data variables:\n",
       "    precip    (quartile, time, step, lat, lon) float64 dask.array&lt;chunksize=(4, 1, 3, 486, 726), meta=np.ndarray&gt;\n",
       "Attributes:\n",
       "    pct_values:  [0.25 0.5  0.75]\n",
       "    period:      seasonal</pre><div class='xr-wrap' style='display:none'><div class='xr-header'><div class='xr-obj-type'>xarray.Dataset</div></div><ul class='xr-sections'><li class='xr-section-item'><input id='section-21033a38-6084-4131-9f59-7fe0593ed6a6' class='xr-section-summary-in' type='checkbox' disabled ><label for='section-21033a38-6084-4131-9f59-7fe0593ed6a6' class='xr-section-summary'  title='Expand/collapse section'>Dimensions:</label><div class='xr-section-inline-details'><ul class='xr-dim-list'><li><span class='xr-has-index'>time</span>: 1</li><li><span class='xr-has-index'>step</span>: 3</li><li><span class='xr-has-index'>quartile</span>: 4</li><li><span class='xr-has-index'>lon</span>: 726</li><li><span class='xr-has-index'>lat</span>: 486</li></ul></div><div class='xr-section-details'></div></li><li class='xr-section-item'><input id='section-e5b3b596-1818-4d08-be53-77f5c71b3905' class='xr-section-summary-in' type='checkbox'  checked><label for='section-e5b3b596-1818-4d08-be53-77f5c71b3905' class='xr-section-summary' >Coordinates: <span>(6)</span></label><div class='xr-section-inline-details'></div><div class='xr-section-details'><ul class='xr-var-list'><li class='xr-var-item'><div class='xr-var-name'><span class='xr-has-index'>time</span></div><div class='xr-var-dims'>(time)</div><div class='xr-var-dtype'>datetime64[ns]</div><div class='xr-var-preview xr-preview'>2022-04-01</div><input id='attrs-58063370-2c8c-4020-bff9-ddc7854281da' class='xr-var-attrs-in' type='checkbox' disabled><label for='attrs-58063370-2c8c-4020-bff9-ddc7854281da' title='Show/Hide attributes'><svg class='icon xr-icon-file-text2'><use xlink:href='#icon-file-text2'></use></svg></label><input id='data-679c9b1e-320a-45cb-b7b5-65e08f5f3c84' class='xr-var-data-in' type='checkbox'><label for='data-679c9b1e-320a-45cb-b7b5-65e08f5f3c84' title='Show/Hide data repr'><svg class='icon xr-icon-database'><use xlink:href='#icon-database'></use></svg></label><div class='xr-var-attrs'><dl class='xr-attrs'></dl></div><div class='xr-var-data'><pre>array([&#x27;2022-04-01T00:00:00.000000000&#x27;], dtype=&#x27;datetime64[ns]&#x27;)</pre></div></li><li class='xr-var-item'><div class='xr-var-name'><span class='xr-has-index'>step</span></div><div class='xr-var-dims'>(step)</div><div class='xr-var-dtype'>int64</div><div class='xr-var-preview xr-preview'>3 4 5</div><input id='attrs-a003a77d-f092-4934-b116-bf537f0ae554' class='xr-var-attrs-in' type='checkbox' disabled><label for='attrs-a003a77d-f092-4934-b116-bf537f0ae554' title='Show/Hide attributes'><svg class='icon xr-icon-file-text2'><use xlink:href='#icon-file-text2'></use></svg></label><input id='data-569bbb8d-53af-4a0e-ba99-a2ffa404f952' class='xr-var-data-in' type='checkbox'><label for='data-569bbb8d-53af-4a0e-ba99-a2ffa404f952' title='Show/Hide data repr'><svg class='icon xr-icon-database'><use xlink:href='#icon-database'></use></svg></label><div class='xr-var-attrs'><dl class='xr-attrs'></dl></div><div class='xr-var-data'><pre>array([3, 4, 5])</pre></div></li><li class='xr-var-item'><div class='xr-var-name'><span>month</span></div><div class='xr-var-dims'>()</div><div class='xr-var-dtype'>int64</div><div class='xr-var-preview xr-preview'>4</div><input id='attrs-b5b47569-1060-44e7-be8e-910fd2c413ca' class='xr-var-attrs-in' type='checkbox' disabled><label for='attrs-b5b47569-1060-44e7-be8e-910fd2c413ca' title='Show/Hide attributes'><svg class='icon xr-icon-file-text2'><use xlink:href='#icon-file-text2'></use></svg></label><input id='data-c8807d66-42dc-4002-9131-4cafb396227a' class='xr-var-data-in' type='checkbox'><label for='data-c8807d66-42dc-4002-9131-4cafb396227a' title='Show/Hide data repr'><svg class='icon xr-icon-database'><use xlink:href='#icon-database'></use></svg></label><div class='xr-var-attrs'><dl class='xr-attrs'></dl></div><div class='xr-var-data'><pre>array(4)</pre></div></li><li class='xr-var-item'><div class='xr-var-name'><span class='xr-has-index'>quartile</span></div><div class='xr-var-dims'>(quartile)</div><div class='xr-var-dtype'>int64</div><div class='xr-var-preview xr-preview'>1 2 3 4</div><input id='attrs-1ed40866-0a3d-416a-910e-ee2dea09485c' class='xr-var-attrs-in' type='checkbox' disabled><label for='attrs-1ed40866-0a3d-416a-910e-ee2dea09485c' title='Show/Hide attributes'><svg class='icon xr-icon-file-text2'><use xlink:href='#icon-file-text2'></use></svg></label><input id='data-a3a1ca94-2715-4808-b147-e53704c84b70' class='xr-var-data-in' type='checkbox'><label for='data-a3a1ca94-2715-4808-b147-e53704c84b70' title='Show/Hide data repr'><svg class='icon xr-icon-database'><use xlink:href='#icon-database'></use></svg></label><div class='xr-var-attrs'><dl class='xr-attrs'></dl></div><div class='xr-var-data'><pre>array([1, 2, 3, 4])</pre></div></li><li class='xr-var-item'><div class='xr-var-name'><span class='xr-has-index'>lon</span></div><div class='xr-var-dims'>(lon)</div><div class='xr-var-dtype'>float64</div><div class='xr-var-preview xr-preview'>120.0 120.2 120.3 ... 239.8 240.0</div><input id='attrs-dab14e00-d68f-48d2-a371-93469af8f834' class='xr-var-attrs-in' type='checkbox' ><label for='attrs-dab14e00-d68f-48d2-a371-93469af8f834' title='Show/Hide attributes'><svg class='icon xr-icon-file-text2'><use xlink:href='#icon-file-text2'></use></svg></label><input id='data-6d2ee724-fa27-4c2f-91e4-5dff217b2700' class='xr-var-data-in' type='checkbox'><label for='data-6d2ee724-fa27-4c2f-91e4-5dff217b2700' title='Show/Hide data repr'><svg class='icon xr-icon-database'><use xlink:href='#icon-database'></use></svg></label><div class='xr-var-attrs'><dl class='xr-attrs'><dt><span>units :</span></dt><dd>degrees_east</dd><dt><span>long_name :</span></dt><dd>Longitude</dd></dl></div><div class='xr-var-data'><pre>array([120.      , 120.165517, 120.331034, ..., 239.668966, 239.834483,\n",
       "       240.      ])</pre></div></li><li class='xr-var-item'><div class='xr-var-name'><span class='xr-has-index'>lat</span></div><div class='xr-var-dims'>(lat)</div><div class='xr-var-dtype'>float64</div><div class='xr-var-preview xr-preview'>-50.0 -49.84 -49.67 ... 29.84 30.0</div><input id='attrs-bf003592-32d2-49a5-87e1-d656f550fe3f' class='xr-var-attrs-in' type='checkbox' ><label for='attrs-bf003592-32d2-49a5-87e1-d656f550fe3f' title='Show/Hide attributes'><svg class='icon xr-icon-file-text2'><use xlink:href='#icon-file-text2'></use></svg></label><input id='data-7a246e71-40c3-4658-ab81-129cdb22b414' class='xr-var-data-in' type='checkbox'><label for='data-7a246e71-40c3-4658-ab81-129cdb22b414' title='Show/Hide data repr'><svg class='icon xr-icon-database'><use xlink:href='#icon-database'></use></svg></label><div class='xr-var-attrs'><dl class='xr-attrs'><dt><span>units :</span></dt><dd>degrees_north</dd><dt><span>long_name :</span></dt><dd>Latitude</dd></dl></div><div class='xr-var-data'><pre>array([-50.      , -49.835052, -49.670103, ...,  29.670103,  29.835052,\n",
       "        30.      ])</pre></div></li></ul></div></li><li class='xr-section-item'><input id='section-1311e414-c965-44b9-a478-ec805e320fca' class='xr-section-summary-in' type='checkbox'  checked><label for='section-1311e414-c965-44b9-a478-ec805e320fca' class='xr-section-summary' >Data variables: <span>(1)</span></label><div class='xr-section-inline-details'></div><div class='xr-section-details'><ul class='xr-var-list'><li class='xr-var-item'><div class='xr-var-name'><span>precip</span></div><div class='xr-var-dims'>(quartile, time, step, lat, lon)</div><div class='xr-var-dtype'>float64</div><div class='xr-var-preview xr-preview'>dask.array&lt;chunksize=(4, 1, 3, 486, 726), meta=np.ndarray&gt;</div><input id='attrs-28b9de9d-b39d-4454-9dbb-fa3e56e54e06' class='xr-var-attrs-in' type='checkbox' disabled><label for='attrs-28b9de9d-b39d-4454-9dbb-fa3e56e54e06' title='Show/Hide attributes'><svg class='icon xr-icon-file-text2'><use xlink:href='#icon-file-text2'></use></svg></label><input id='data-5cee9ef8-a007-47af-96a8-b524d69f9c63' class='xr-var-data-in' type='checkbox'><label for='data-5cee9ef8-a007-47af-96a8-b524d69f9c63' title='Show/Hide data repr'><svg class='icon xr-icon-database'><use xlink:href='#icon-database'></use></svg></label><div class='xr-var-attrs'><dl class='xr-attrs'></dl></div><div class='xr-var-data'><table>\n",
       "    <tr>\n",
       "        <td>\n",
       "            <table>\n",
       "                <thead>\n",
       "                    <tr>\n",
       "                        <td> </td>\n",
       "                        <th> Array </th>\n",
       "                        <th> Chunk </th>\n",
       "                    </tr>\n",
       "                </thead>\n",
       "                <tbody>\n",
       "                    \n",
       "                    <tr>\n",
       "                        <th> Bytes </th>\n",
       "                        <td> 32.30 MiB </td>\n",
       "                        <td> 32.30 MiB </td>\n",
       "                    </tr>\n",
       "                    \n",
       "                    <tr>\n",
       "                        <th> Shape </th>\n",
       "                        <td> (4, 1, 3, 486, 726) </td>\n",
       "                        <td> (4, 1, 3, 486, 726) </td>\n",
       "                    </tr>\n",
       "                    <tr>\n",
       "                        <th> Count </th>\n",
       "                        <td> 91 Tasks </td>\n",
       "                        <td> 1 Chunks </td>\n",
       "                    </tr>\n",
       "                    <tr>\n",
       "                    <th> Type </th>\n",
       "                    <td> float64 </td>\n",
       "                    <td> numpy.ndarray </td>\n",
       "                    </tr>\n",
       "                </tbody>\n",
       "            </table>\n",
       "        </td>\n",
       "        <td>\n",
       "        <svg width=\"374\" height=\"145\" style=\"stroke:rgb(0,0,0);stroke-width:1\" >\n",
       "\n",
       "  <!-- Horizontal lines -->\n",
       "  <line x1=\"0\" y1=\"0\" x2=\"25\" y2=\"0\" style=\"stroke-width:2\" />\n",
       "  <line x1=\"0\" y1=\"25\" x2=\"25\" y2=\"25\" style=\"stroke-width:2\" />\n",
       "\n",
       "  <!-- Vertical lines -->\n",
       "  <line x1=\"0\" y1=\"0\" x2=\"0\" y2=\"25\" style=\"stroke-width:2\" />\n",
       "  <line x1=\"25\" y1=\"0\" x2=\"25\" y2=\"25\" style=\"stroke-width:2\" />\n",
       "\n",
       "  <!-- Colored Rectangle -->\n",
       "  <polygon points=\"0.0,0.0 25.412616514582485,0.0 25.412616514582485,25.412616514582485 0.0,25.412616514582485\" style=\"fill:#ECB172A0;stroke-width:0\"/>\n",
       "\n",
       "  <!-- Text -->\n",
       "  <text x=\"12.706308\" y=\"45.412617\" font-size=\"1.0rem\" font-weight=\"100\" text-anchor=\"middle\" >1</text>\n",
       "  <text x=\"45.412617\" y=\"12.706308\" font-size=\"1.0rem\" font-weight=\"100\" text-anchor=\"middle\" transform=\"rotate(0,45.412617,12.706308)\">4</text>\n",
       "\n",
       "\n",
       "  <!-- Horizontal lines -->\n",
       "  <line x1=\"95\" y1=\"0\" x2=\"109\" y2=\"14\" style=\"stroke-width:2\" />\n",
       "  <line x1=\"95\" y1=\"80\" x2=\"109\" y2=\"95\" style=\"stroke-width:2\" />\n",
       "\n",
       "  <!-- Vertical lines -->\n",
       "  <line x1=\"95\" y1=\"0\" x2=\"95\" y2=\"80\" style=\"stroke-width:2\" />\n",
       "  <line x1=\"109\" y1=\"14\" x2=\"109\" y2=\"95\" style=\"stroke-width:2\" />\n",
       "\n",
       "  <!-- Colored Rectangle -->\n",
       "  <polygon points=\"95.0,0.0 109.9485979497544,14.948597949754403 109.9485979497544,95.2791764621511 95.0,80.3305785123967\" style=\"fill:#ECB172A0;stroke-width:0\"/>\n",
       "\n",
       "  <!-- Horizontal lines -->\n",
       "  <line x1=\"95\" y1=\"0\" x2=\"215\" y2=\"0\" style=\"stroke-width:2\" />\n",
       "  <line x1=\"109\" y1=\"14\" x2=\"229\" y2=\"14\" style=\"stroke-width:2\" />\n",
       "\n",
       "  <!-- Vertical lines -->\n",
       "  <line x1=\"95\" y1=\"0\" x2=\"109\" y2=\"14\" style=\"stroke-width:2\" />\n",
       "  <line x1=\"215\" y1=\"0\" x2=\"229\" y2=\"14\" style=\"stroke-width:2\" />\n",
       "\n",
       "  <!-- Colored Rectangle -->\n",
       "  <polygon points=\"95.0,0.0 215.0,0.0 229.9485979497544,14.948597949754403 109.9485979497544,14.948597949754403\" style=\"fill:#ECB172A0;stroke-width:0\"/>\n",
       "\n",
       "  <!-- Horizontal lines -->\n",
       "  <line x1=\"109\" y1=\"14\" x2=\"229\" y2=\"14\" style=\"stroke-width:2\" />\n",
       "  <line x1=\"109\" y1=\"95\" x2=\"229\" y2=\"95\" style=\"stroke-width:2\" />\n",
       "\n",
       "  <!-- Vertical lines -->\n",
       "  <line x1=\"109\" y1=\"14\" x2=\"109\" y2=\"95\" style=\"stroke-width:2\" />\n",
       "  <line x1=\"229\" y1=\"14\" x2=\"229\" y2=\"95\" style=\"stroke-width:2\" />\n",
       "\n",
       "  <!-- Colored Rectangle -->\n",
       "  <polygon points=\"109.9485979497544,14.948597949754403 229.9485979497544,14.948597949754403 229.9485979497544,95.2791764621511 109.9485979497544,95.2791764621511\" style=\"fill:#ECB172A0;stroke-width:0\"/>\n",
       "\n",
       "  <!-- Text -->\n",
       "  <text x=\"169.948598\" y=\"115.279176\" font-size=\"1.0rem\" font-weight=\"100\" text-anchor=\"middle\" >726</text>\n",
       "  <text x=\"249.948598\" y=\"55.113887\" font-size=\"1.0rem\" font-weight=\"100\" text-anchor=\"middle\" transform=\"rotate(-90,249.948598,55.113887)\">486</text>\n",
       "  <text x=\"92.474299\" y=\"107.804877\" font-size=\"1.0rem\" font-weight=\"100\" text-anchor=\"middle\" transform=\"rotate(45,92.474299,107.804877)\">3</text>\n",
       "</svg>\n",
       "        </td>\n",
       "    </tr>\n",
       "</table></div></li></ul></div></li><li class='xr-section-item'><input id='section-dca958ca-8e44-4db0-8c43-d83fb38e58c9' class='xr-section-summary-in' type='checkbox'  checked><label for='section-dca958ca-8e44-4db0-8c43-d83fb38e58c9' class='xr-section-summary' >Attributes: <span>(2)</span></label><div class='xr-section-inline-details'></div><div class='xr-section-details'><dl class='xr-attrs'><dt><span>pct_values :</span></dt><dd>[0.25 0.5  0.75]</dd><dt><span>period :</span></dt><dd>seasonal</dd></dl></div></li></ul></div></div>"
      ],
      "text/plain": [
       "<xarray.Dataset>\n",
       "Dimensions:   (time: 1, step: 3, quartile: 4, lon: 726, lat: 486)\n",
       "Coordinates:\n",
       "  * time      (time) datetime64[ns] 2022-04-01\n",
       "  * step      (step) int64 3 4 5\n",
       "    month     int64 4\n",
       "  * quartile  (quartile) int64 1 2 3 4\n",
       "  * lon       (lon) float64 120.0 120.2 120.3 120.5 ... 239.5 239.7 239.8 240.0\n",
       "  * lat       (lat) float64 -50.0 -49.84 -49.67 -49.51 ... 29.67 29.84 30.0\n",
       "Data variables:\n",
       "    precip    (quartile, time, step, lat, lon) float64 dask.array<chunksize=(4, 1, 3, 486, 726), meta=np.ndarray>\n",
       "Attributes:\n",
       "    pct_values:  [0.25 0.5  0.75]\n",
       "    period:      seasonal"
      ]
     },
     "execution_count": 44,
     "metadata": {},
     "output_type": "execute_result"
    }
   ],
   "source": [
    "probs_mean"
   ]
  },
  {
   "cell_type": "markdown",
   "id": "7de7ec91",
   "metadata": {
    "papermill": {
     "duration": 0.010358,
     "end_time": "2022-04-29T07:08:41.632521",
     "exception": false,
     "start_time": "2022-04-29T07:08:41.622163",
     "status": "completed"
    },
    "tags": []
   },
   "source": [
    "### start setting up the plot parameters "
   ]
  },
  {
   "cell_type": "code",
   "execution_count": 45,
   "id": "8323fe8c",
   "metadata": {
    "execution": {
     "iopub.execute_input": "2022-04-29T07:08:41.653937Z",
     "iopub.status.busy": "2022-04-29T07:08:41.653795Z",
     "iopub.status.idle": "2022-04-29T07:08:41.672465Z",
     "shell.execute_reply": "2022-04-29T07:08:41.672038Z"
    },
    "papermill": {
     "duration": 0.030723,
     "end_time": "2022-04-29T07:08:41.673558",
     "exception": false,
     "start_time": "2022-04-29T07:08:41.642835",
     "status": "completed"
    },
    "tags": []
   },
   "outputs": [],
   "source": [
    "cmap  = palettable.scientific.sequential.Bilbao_6.mpl_colormap"
   ]
  },
  {
   "cell_type": "code",
   "execution_count": 46,
   "id": "de2b3d1c",
   "metadata": {
    "execution": {
     "iopub.execute_input": "2022-04-29T07:08:41.695930Z",
     "iopub.status.busy": "2022-04-29T07:08:41.695773Z",
     "iopub.status.idle": "2022-04-29T07:08:41.716259Z",
     "shell.execute_reply": "2022-04-29T07:08:41.715799Z"
    },
    "papermill": {
     "duration": 0.033044,
     "end_time": "2022-04-29T07:08:41.717410",
     "exception": false,
     "start_time": "2022-04-29T07:08:41.684366",
     "status": "completed"
    },
    "tags": []
   },
   "outputs": [],
   "source": [
    "cmap = plot.cmap_discretize(cmap, 6)"
   ]
  },
  {
   "cell_type": "code",
   "execution_count": 47,
   "id": "f9725a7b",
   "metadata": {
    "execution": {
     "iopub.execute_input": "2022-04-29T07:08:41.740014Z",
     "iopub.status.busy": "2022-04-29T07:08:41.739871Z",
     "iopub.status.idle": "2022-04-29T07:08:41.762278Z",
     "shell.execute_reply": "2022-04-29T07:08:41.761884Z"
    },
    "papermill": {
     "duration": 0.035016,
     "end_time": "2022-04-29T07:08:41.763311",
     "exception": false,
     "start_time": "2022-04-29T07:08:41.728295",
     "status": "completed"
    },
    "tags": []
   },
   "outputs": [
    {
     "data": {
      "image/png": "[encoded data removed]",
      "text/html": [
       "<div style=\"vertical-align: middle;\"><strong>Bilbao_6_6</strong> </div><div class=\"cmap\"><img alt=\"Bilbao_6_6 colormap\" title=\"Bilbao_6_6\" style=\"border: 1px solid #555;\" src=\"data:image/png;base64,iVBORw0KGgoAAAANSUhEUgAAAgAAAABACAYAAABsv8+/AAAAGXRFWHRUaXRsZQBCaWxiYW9fNl82IGNvbG9ybWFwVft3PgAAAB90RVh0RGVzY3JpcHRpb24AQmlsYmFvXzZfNiBjb2xvcm1hcC/TtnAAAAAwdEVYdEF1dGhvcgBNYXRwbG90bGliIHYzLjQuMywgaHR0cHM6Ly9tYXRwbG90bGliLm9yZwld89MAAAAydEVYdFNvZnR3YXJlAE1hdHBsb3RsaWIgdjMuNC4zLCBodHRwczovL21hdHBsb3RsaWIub3JnJ/ts9AAAAVJJREFUeJzt1jEOAUAAAEH8/0MaFRKJRq1QUei84HxCXHI784ItdzvGGBt+7nLaz05Yzvt+mJ2wnM/tNTthOc/rY3bCck7H8+yEJe1mBwAA/2cAACDIAABAkAEAgCADAABBBgAAggwAAAQZAAAIMgAAEGQAACDIAABAkAEAgCADAABBBgAAggwAAAQZAAAIMgAAEGQAACDIAABAkAEAgCADAABBBgAAggwAAAQZAAAIMgAAEGQAACDIAABAkAEAgCADAABBBgAAggwAAAQZAAAIMgAAEGQAACDIAABAkAEAgCADAABBBgAAggwAAAQZAAAIMgAAEGQAACDIAABAkAEAgCADAABBBgAAggwAAAQZAAAIMgAAEGQAACDIAABAkAEAgCADAABBBgAAggwAAAQZAAAIMgAAEGQAACDIAABAkAEAgCADAABBBgAAggwAAAR9AYTAEM21njxrAAAAAElFTkSuQmCC\"></div><div style=\"vertical-align: middle; max-width: 514px; display: flex; justify-content: space-between;\"><div style=\"float: left;\"><div title=\"#ffffffff\" style=\"display: inline-block; width: 1em; height: 1em; margin: 0; vertical-align: middle; border: 1px solid #555; background-color: #ffffffff;\"></div> under</div><div style=\"margin: 0 auto; display: inline-block;\">bad <div title=\"#00000000\" style=\"display: inline-block; width: 1em; height: 1em; margin: 0; vertical-align: middle; border: 1px solid #555; background-color: #00000000;\"></div></div><div style=\"float: right;\">over <div title=\"#4d0001ff\" style=\"display: inline-block; width: 1em; height: 1em; margin: 0; vertical-align: middle; border: 1px solid #555; background-color: #4d0001ff;\"></div></div>"
      ],
      "text/plain": [
       "<matplotlib.colors.LinearSegmentedColormap at 0x7f253c55a4c0>"
      ]
     },
     "execution_count": 47,
     "metadata": {},
     "output_type": "execute_result"
    }
   ],
   "source": [
    "cmap"
   ]
  },
  {
   "cell_type": "code",
   "execution_count": 48,
   "id": "188a66c5",
   "metadata": {
    "execution": {
     "iopub.execute_input": "2022-04-29T07:08:41.785297Z",
     "iopub.status.busy": "2022-04-29T07:08:41.785127Z",
     "iopub.status.idle": "2022-04-29T07:08:41.815075Z",
     "shell.execute_reply": "2022-04-29T07:08:41.814676Z"
    },
    "papermill": {
     "duration": 0.042101,
     "end_time": "2022-04-29T07:08:41.816129",
     "exception": false,
     "start_time": "2022-04-29T07:08:41.774028",
     "status": "completed"
    },
    "tags": []
   },
   "outputs": [
    {
     "data": {
      "text/html": [
       "<div><svg style=\"position: absolute; width: 0; height: 0; overflow: hidden\">\n",
       "<defs>\n",
       "<symbol id=\"icon-database\" viewBox=\"0 0 32 32\">\n",
       "<path d=\"M16 0c-8.837 0-16 2.239-16 5v4c0 2.761 7.163 5 16 5s16-2.239 16-5v-4c0-2.761-7.163-5-16-5z\"></path>\n",
       "<path d=\"M16 17c-8.837 0-16-2.239-16-5v6c0 2.761 7.163 5 16 5s16-2.239 16-5v-6c0 2.761-7.163 5-16 5z\"></path>\n",
       "<path d=\"M16 26c-8.837 0-16-2.239-16-5v6c0 2.761 7.163 5 16 5s16-2.239 16-5v-6c0 2.761-7.163 5-16 5z\"></path>\n",
       "</symbol>\n",
       "<symbol id=\"icon-file-text2\" viewBox=\"0 0 32 32\">\n",
       "<path d=\"M28.681 7.159c-0.694-0.947-1.662-2.053-2.724-3.116s-2.169-2.030-3.116-2.724c-1.612-1.182-2.393-1.319-2.841-1.319h-15.5c-1.378 0-2.5 1.121-2.5 2.5v27c0 1.378 1.122 2.5 2.5 2.5h23c1.378 0 2.5-1.122 2.5-2.5v-19.5c0-0.448-0.137-1.23-1.319-2.841zM24.543 5.457c0.959 0.959 1.712 1.825 2.268 2.543h-4.811v-4.811c0.718 0.556 1.584 1.309 2.543 2.268zM28 29.5c0 0.271-0.229 0.5-0.5 0.5h-23c-0.271 0-0.5-0.229-0.5-0.5v-27c0-0.271 0.229-0.5 0.5-0.5 0 0 15.499-0 15.5 0v7c0 0.552 0.448 1 1 1h7v19.5z\"></path>\n",
       "<path d=\"M23 26h-14c-0.552 0-1-0.448-1-1s0.448-1 1-1h14c0.552 0 1 0.448 1 1s-0.448 1-1 1z\"></path>\n",
       "<path d=\"M23 22h-14c-0.552 0-1-0.448-1-1s0.448-1 1-1h14c0.552 0 1 0.448 1 1s-0.448 1-1 1z\"></path>\n",
       "<path d=\"M23 18h-14c-0.552 0-1-0.448-1-1s0.448-1 1-1h14c0.552 0 1 0.448 1 1s-0.448 1-1 1z\"></path>\n",
       "</symbol>\n",
       "</defs>\n",
       "</svg>\n",
       "<style>/* CSS stylesheet for displaying xarray objects in jupyterlab.\n",
       " *\n",
       " */\n",
       "\n",
       ":root {\n",
       "  --xr-font-color0: var(--jp-content-font-color0, rgba(0, 0, 0, 1));\n",
       "  --xr-font-color2: var(--jp-content-font-color2, rgba(0, 0, 0, 0.54));\n",
       "  --xr-font-color3: var(--jp-content-font-color3, rgba(0, 0, 0, 0.38));\n",
       "  --xr-border-color: var(--jp-border-color2, #e0e0e0);\n",
       "  --xr-disabled-color: var(--jp-layout-color3, #bdbdbd);\n",
       "  --xr-background-color: var(--jp-layout-color0, white);\n",
       "  --xr-background-color-row-even: var(--jp-layout-color1, white);\n",
       "  --xr-background-color-row-odd: var(--jp-layout-color2, #eeeeee);\n",
       "}\n",
       "\n",
       "html[theme=dark],\n",
       "body.vscode-dark {\n",
       "  --xr-font-color0: rgba(255, 255, 255, 1);\n",
       "  --xr-font-color2: rgba(255, 255, 255, 0.54);\n",
       "  --xr-font-color3: rgba(255, 255, 255, 0.38);\n",
       "  --xr-border-color: #1F1F1F;\n",
       "  --xr-disabled-color: #515151;\n",
       "  --xr-background-color: #111111;\n",
       "  --xr-background-color-row-even: #111111;\n",
       "  --xr-background-color-row-odd: #313131;\n",
       "}\n",
       "\n",
       ".xr-wrap {\n",
       "  display: block !important;\n",
       "  min-width: 300px;\n",
       "  max-width: 700px;\n",
       "}\n",
       "\n",
       ".xr-text-repr-fallback {\n",
       "  /* fallback to plain text repr when CSS is not injected (untrusted notebook) */\n",
       "  display: none;\n",
       "}\n",
       "\n",
       ".xr-header {\n",
       "  padding-top: 6px;\n",
       "  padding-bottom: 6px;\n",
       "  margin-bottom: 4px;\n",
       "  border-bottom: solid 1px var(--xr-border-color);\n",
       "}\n",
       "\n",
       ".xr-header > div,\n",
       ".xr-header > ul {\n",
       "  display: inline;\n",
       "  margin-top: 0;\n",
       "  margin-bottom: 0;\n",
       "}\n",
       "\n",
       ".xr-obj-type,\n",
       ".xr-array-name {\n",
       "  margin-left: 2px;\n",
       "  margin-right: 10px;\n",
       "}\n",
       "\n",
       ".xr-obj-type {\n",
       "  color: var(--xr-font-color2);\n",
       "}\n",
       "\n",
       ".xr-sections {\n",
       "  padding-left: 0 !important;\n",
       "  display: grid;\n",
       "  grid-template-columns: 150px auto auto 1fr 20px 20px;\n",
       "}\n",
       "\n",
       ".xr-section-item {\n",
       "  display: contents;\n",
       "}\n",
       "\n",
       ".xr-section-item input {\n",
       "  display: none;\n",
       "}\n",
       "\n",
       ".xr-section-item input + label {\n",
       "  color: var(--xr-disabled-color);\n",
       "}\n",
       "\n",
       ".xr-section-item input:enabled + label {\n",
       "  cursor: pointer;\n",
       "  color: var(--xr-font-color2);\n",
       "}\n",
       "\n",
       ".xr-section-item input:enabled + label:hover {\n",
       "  color: var(--xr-font-color0);\n",
       "}\n",
       "\n",
       ".xr-section-summary {\n",
       "  grid-column: 1;\n",
       "  color: var(--xr-font-color2);\n",
       "  font-weight: 500;\n",
       "}\n",
       "\n",
       ".xr-section-summary > span {\n",
       "  display: inline-block;\n",
       "  padding-left: 0.5em;\n",
       "}\n",
       "\n",
       ".xr-section-summary-in:disabled + label {\n",
       "  color: var(--xr-font-color2);\n",
       "}\n",
       "\n",
       ".xr-section-summary-in + label:before {\n",
       "  display: inline-block;\n",
       "  content: '►';\n",
       "  font-size: 11px;\n",
       "  width: 15px;\n",
       "  text-align: center;\n",
       "}\n",
       "\n",
       ".xr-section-summary-in:disabled + label:before {\n",
       "  color: var(--xr-disabled-color);\n",
       "}\n",
       "\n",
       ".xr-section-summary-in:checked + label:before {\n",
       "  content: '▼';\n",
       "}\n",
       "\n",
       ".xr-section-summary-in:checked + label > span {\n",
       "  display: none;\n",
       "}\n",
       "\n",
       ".xr-section-summary,\n",
       ".xr-section-inline-details {\n",
       "  padding-top: 4px;\n",
       "  padding-bottom: 4px;\n",
       "}\n",
       "\n",
       ".xr-section-inline-details {\n",
       "  grid-column: 2 / -1;\n",
       "}\n",
       "\n",
       ".xr-section-details {\n",
       "  display: none;\n",
       "  grid-column: 1 / -1;\n",
       "  margin-bottom: 5px;\n",
       "}\n",
       "\n",
       ".xr-section-summary-in:checked ~ .xr-section-details {\n",
       "  display: contents;\n",
       "}\n",
       "\n",
       ".xr-array-wrap {\n",
       "  grid-column: 1 / -1;\n",
       "  display: grid;\n",
       "  grid-template-columns: 20px auto;\n",
       "}\n",
       "\n",
       ".xr-array-wrap > label {\n",
       "  grid-column: 1;\n",
       "  vertical-align: top;\n",
       "}\n",
       "\n",
       ".xr-preview {\n",
       "  color: var(--xr-font-color3);\n",
       "}\n",
       "\n",
       ".xr-array-preview,\n",
       ".xr-array-data {\n",
       "  padding: 0 5px !important;\n",
       "  grid-column: 2;\n",
       "}\n",
       "\n",
       ".xr-array-data,\n",
       ".xr-array-in:checked ~ .xr-array-preview {\n",
       "  display: none;\n",
       "}\n",
       "\n",
       ".xr-array-in:checked ~ .xr-array-data,\n",
       ".xr-array-preview {\n",
       "  display: inline-block;\n",
       "}\n",
       "\n",
       ".xr-dim-list {\n",
       "  display: inline-block !important;\n",
       "  list-style: none;\n",
       "  padding: 0 !important;\n",
       "  margin: 0;\n",
       "}\n",
       "\n",
       ".xr-dim-list li {\n",
       "  display: inline-block;\n",
       "  padding: 0;\n",
       "  margin: 0;\n",
       "}\n",
       "\n",
       ".xr-dim-list:before {\n",
       "  content: '(';\n",
       "}\n",
       "\n",
       ".xr-dim-list:after {\n",
       "  content: ')';\n",
       "}\n",
       "\n",
       ".xr-dim-list li:not(:last-child):after {\n",
       "  content: ',';\n",
       "  padding-right: 5px;\n",
       "}\n",
       "\n",
       ".xr-has-index {\n",
       "  font-weight: bold;\n",
       "}\n",
       "\n",
       ".xr-var-list,\n",
       ".xr-var-item {\n",
       "  display: contents;\n",
       "}\n",
       "\n",
       ".xr-var-item > div,\n",
       ".xr-var-item label,\n",
       ".xr-var-item > .xr-var-name span {\n",
       "  background-color: var(--xr-background-color-row-even);\n",
       "  margin-bottom: 0;\n",
       "}\n",
       "\n",
       ".xr-var-item > .xr-var-name:hover span {\n",
       "  padding-right: 5px;\n",
       "}\n",
       "\n",
       ".xr-var-list > li:nth-child(odd) > div,\n",
       ".xr-var-list > li:nth-child(odd) > label,\n",
       ".xr-var-list > li:nth-child(odd) > .xr-var-name span {\n",
       "  background-color: var(--xr-background-color-row-odd);\n",
       "}\n",
       "\n",
       ".xr-var-name {\n",
       "  grid-column: 1;\n",
       "}\n",
       "\n",
       ".xr-var-dims {\n",
       "  grid-column: 2;\n",
       "}\n",
       "\n",
       ".xr-var-dtype {\n",
       "  grid-column: 3;\n",
       "  text-align: right;\n",
       "  color: var(--xr-font-color2);\n",
       "}\n",
       "\n",
       ".xr-var-preview {\n",
       "  grid-column: 4;\n",
       "}\n",
       "\n",
       ".xr-var-name,\n",
       ".xr-var-dims,\n",
       ".xr-var-dtype,\n",
       ".xr-preview,\n",
       ".xr-attrs dt {\n",
       "  white-space: nowrap;\n",
       "  overflow: hidden;\n",
       "  text-overflow: ellipsis;\n",
       "  padding-right: 10px;\n",
       "}\n",
       "\n",
       ".xr-var-name:hover,\n",
       ".xr-var-dims:hover,\n",
       ".xr-var-dtype:hover,\n",
       ".xr-attrs dt:hover {\n",
       "  overflow: visible;\n",
       "  width: auto;\n",
       "  z-index: 1;\n",
       "}\n",
       "\n",
       ".xr-var-attrs,\n",
       ".xr-var-data {\n",
       "  display: none;\n",
       "  background-color: var(--xr-background-color) !important;\n",
       "  padding-bottom: 5px !important;\n",
       "}\n",
       "\n",
       ".xr-var-attrs-in:checked ~ .xr-var-attrs,\n",
       ".xr-var-data-in:checked ~ .xr-var-data {\n",
       "  display: block;\n",
       "}\n",
       "\n",
       ".xr-var-data > table {\n",
       "  float: right;\n",
       "}\n",
       "\n",
       ".xr-var-name span,\n",
       ".xr-var-data,\n",
       ".xr-attrs {\n",
       "  padding-left: 25px !important;\n",
       "}\n",
       "\n",
       ".xr-attrs,\n",
       ".xr-var-attrs,\n",
       ".xr-var-data {\n",
       "  grid-column: 1 / -1;\n",
       "}\n",
       "\n",
       "dl.xr-attrs {\n",
       "  padding: 0;\n",
       "  margin: 0;\n",
       "  display: grid;\n",
       "  grid-template-columns: 125px auto;\n",
       "}\n",
       "\n",
       ".xr-attrs dt,\n",
       ".xr-attrs dd {\n",
       "  padding: 0;\n",
       "  margin: 0;\n",
       "  float: left;\n",
       "  padding-right: 10px;\n",
       "  width: auto;\n",
       "}\n",
       "\n",
       ".xr-attrs dt {\n",
       "  font-weight: normal;\n",
       "  grid-column: 1;\n",
       "}\n",
       "\n",
       ".xr-attrs dt:hover span {\n",
       "  display: inline-block;\n",
       "  background: var(--xr-background-color);\n",
       "  padding-right: 10px;\n",
       "}\n",
       "\n",
       ".xr-attrs dd {\n",
       "  grid-column: 2;\n",
       "  white-space: pre-wrap;\n",
       "  word-break: break-all;\n",
       "}\n",
       "\n",
       ".xr-icon-database,\n",
       ".xr-icon-file-text2 {\n",
       "  display: inline-block;\n",
       "  vertical-align: middle;\n",
       "  width: 1em;\n",
       "  height: 1.5em !important;\n",
       "  stroke-width: 0;\n",
       "  stroke: currentColor;\n",
       "  fill: currentColor;\n",
       "}\n",
       "</style><pre class='xr-text-repr-fallback'>&lt;xarray.Dataset&gt;\n",
       "Dimensions:   (time: 1, step: 3, quartile: 4, lon: 726, lat: 486)\n",
       "Coordinates:\n",
       "  * time      (time) datetime64[ns] 2022-04-01\n",
       "  * step      (step) int64 3 4 5\n",
       "    month     int64 4\n",
       "  * quartile  (quartile) int64 1 2 3 4\n",
       "  * lon       (lon) float64 120.0 120.2 120.3 120.5 ... 239.5 239.7 239.8 240.0\n",
       "  * lat       (lat) float64 -50.0 -49.84 -49.67 -49.51 ... 29.67 29.84 30.0\n",
       "Data variables:\n",
       "    precip    (quartile, time, step, lat, lon) float64 dask.array&lt;chunksize=(4, 1, 3, 486, 726), meta=np.ndarray&gt;\n",
       "Attributes:\n",
       "    pct_values:  [0.25 0.5  0.75]\n",
       "    period:      seasonal</pre><div class='xr-wrap' style='display:none'><div class='xr-header'><div class='xr-obj-type'>xarray.Dataset</div></div><ul class='xr-sections'><li class='xr-section-item'><input id='section-a867f75b-7170-4024-aef5-cb424f142f82' class='xr-section-summary-in' type='checkbox' disabled ><label for='section-a867f75b-7170-4024-aef5-cb424f142f82' class='xr-section-summary'  title='Expand/collapse section'>Dimensions:</label><div class='xr-section-inline-details'><ul class='xr-dim-list'><li><span class='xr-has-index'>time</span>: 1</li><li><span class='xr-has-index'>step</span>: 3</li><li><span class='xr-has-index'>quartile</span>: 4</li><li><span class='xr-has-index'>lon</span>: 726</li><li><span class='xr-has-index'>lat</span>: 486</li></ul></div><div class='xr-section-details'></div></li><li class='xr-section-item'><input id='section-636417fc-43a0-4db7-b504-3812cbf44c1f' class='xr-section-summary-in' type='checkbox'  checked><label for='section-636417fc-43a0-4db7-b504-3812cbf44c1f' class='xr-section-summary' >Coordinates: <span>(6)</span></label><div class='xr-section-inline-details'></div><div class='xr-section-details'><ul class='xr-var-list'><li class='xr-var-item'><div class='xr-var-name'><span class='xr-has-index'>time</span></div><div class='xr-var-dims'>(time)</div><div class='xr-var-dtype'>datetime64[ns]</div><div class='xr-var-preview xr-preview'>2022-04-01</div><input id='attrs-4f61a3cf-1257-4241-a106-6f32d79b2f8a' class='xr-var-attrs-in' type='checkbox' disabled><label for='attrs-4f61a3cf-1257-4241-a106-6f32d79b2f8a' title='Show/Hide attributes'><svg class='icon xr-icon-file-text2'><use xlink:href='#icon-file-text2'></use></svg></label><input id='data-a93e2e39-e265-4dcf-8bd5-e66225bbe75b' class='xr-var-data-in' type='checkbox'><label for='data-a93e2e39-e265-4dcf-8bd5-e66225bbe75b' title='Show/Hide data repr'><svg class='icon xr-icon-database'><use xlink:href='#icon-database'></use></svg></label><div class='xr-var-attrs'><dl class='xr-attrs'></dl></div><div class='xr-var-data'><pre>array([&#x27;2022-04-01T00:00:00.000000000&#x27;], dtype=&#x27;datetime64[ns]&#x27;)</pre></div></li><li class='xr-var-item'><div class='xr-var-name'><span class='xr-has-index'>step</span></div><div class='xr-var-dims'>(step)</div><div class='xr-var-dtype'>int64</div><div class='xr-var-preview xr-preview'>3 4 5</div><input id='attrs-69faec44-dd90-4777-bfa0-1194481cab73' class='xr-var-attrs-in' type='checkbox' disabled><label for='attrs-69faec44-dd90-4777-bfa0-1194481cab73' title='Show/Hide attributes'><svg class='icon xr-icon-file-text2'><use xlink:href='#icon-file-text2'></use></svg></label><input id='data-ba662859-c7cc-4553-8332-b8f458a645f6' class='xr-var-data-in' type='checkbox'><label for='data-ba662859-c7cc-4553-8332-b8f458a645f6' title='Show/Hide data repr'><svg class='icon xr-icon-database'><use xlink:href='#icon-database'></use></svg></label><div class='xr-var-attrs'><dl class='xr-attrs'></dl></div><div class='xr-var-data'><pre>array([3, 4, 5])</pre></div></li><li class='xr-var-item'><div class='xr-var-name'><span>month</span></div><div class='xr-var-dims'>()</div><div class='xr-var-dtype'>int64</div><div class='xr-var-preview xr-preview'>4</div><input id='attrs-49adde09-7165-4a57-bb46-967fc2d73ea6' class='xr-var-attrs-in' type='checkbox' disabled><label for='attrs-49adde09-7165-4a57-bb46-967fc2d73ea6' title='Show/Hide attributes'><svg class='icon xr-icon-file-text2'><use xlink:href='#icon-file-text2'></use></svg></label><input id='data-ea239799-1aca-4aa5-ae86-d561d1027a55' class='xr-var-data-in' type='checkbox'><label for='data-ea239799-1aca-4aa5-ae86-d561d1027a55' title='Show/Hide data repr'><svg class='icon xr-icon-database'><use xlink:href='#icon-database'></use></svg></label><div class='xr-var-attrs'><dl class='xr-attrs'></dl></div><div class='xr-var-data'><pre>array(4)</pre></div></li><li class='xr-var-item'><div class='xr-var-name'><span class='xr-has-index'>quartile</span></div><div class='xr-var-dims'>(quartile)</div><div class='xr-var-dtype'>int64</div><div class='xr-var-preview xr-preview'>1 2 3 4</div><input id='attrs-b13fcc46-3559-47a8-9b25-8c0390116b23' class='xr-var-attrs-in' type='checkbox' disabled><label for='attrs-b13fcc46-3559-47a8-9b25-8c0390116b23' title='Show/Hide attributes'><svg class='icon xr-icon-file-text2'><use xlink:href='#icon-file-text2'></use></svg></label><input id='data-ccedfb8c-a4d1-4e12-850f-5a18447cf8b8' class='xr-var-data-in' type='checkbox'><label for='data-ccedfb8c-a4d1-4e12-850f-5a18447cf8b8' title='Show/Hide data repr'><svg class='icon xr-icon-database'><use xlink:href='#icon-database'></use></svg></label><div class='xr-var-attrs'><dl class='xr-attrs'></dl></div><div class='xr-var-data'><pre>array([1, 2, 3, 4])</pre></div></li><li class='xr-var-item'><div class='xr-var-name'><span class='xr-has-index'>lon</span></div><div class='xr-var-dims'>(lon)</div><div class='xr-var-dtype'>float64</div><div class='xr-var-preview xr-preview'>120.0 120.2 120.3 ... 239.8 240.0</div><input id='attrs-189bf944-4dd0-4cff-9503-a1c6ff515b2b' class='xr-var-attrs-in' type='checkbox' ><label for='attrs-189bf944-4dd0-4cff-9503-a1c6ff515b2b' title='Show/Hide attributes'><svg class='icon xr-icon-file-text2'><use xlink:href='#icon-file-text2'></use></svg></label><input id='data-299254bb-43d8-4317-b19c-9de42811efc0' class='xr-var-data-in' type='checkbox'><label for='data-299254bb-43d8-4317-b19c-9de42811efc0' title='Show/Hide data repr'><svg class='icon xr-icon-database'><use xlink:href='#icon-database'></use></svg></label><div class='xr-var-attrs'><dl class='xr-attrs'><dt><span>units :</span></dt><dd>degrees_east</dd><dt><span>long_name :</span></dt><dd>Longitude</dd></dl></div><div class='xr-var-data'><pre>array([120.      , 120.165517, 120.331034, ..., 239.668966, 239.834483,\n",
       "       240.      ])</pre></div></li><li class='xr-var-item'><div class='xr-var-name'><span class='xr-has-index'>lat</span></div><div class='xr-var-dims'>(lat)</div><div class='xr-var-dtype'>float64</div><div class='xr-var-preview xr-preview'>-50.0 -49.84 -49.67 ... 29.84 30.0</div><input id='attrs-aa25732c-2f07-4100-b7fa-1f10994fd37c' class='xr-var-attrs-in' type='checkbox' ><label for='attrs-aa25732c-2f07-4100-b7fa-1f10994fd37c' title='Show/Hide attributes'><svg class='icon xr-icon-file-text2'><use xlink:href='#icon-file-text2'></use></svg></label><input id='data-fd9a973e-b370-414a-b858-56a445cbb62f' class='xr-var-data-in' type='checkbox'><label for='data-fd9a973e-b370-414a-b858-56a445cbb62f' title='Show/Hide data repr'><svg class='icon xr-icon-database'><use xlink:href='#icon-database'></use></svg></label><div class='xr-var-attrs'><dl class='xr-attrs'><dt><span>units :</span></dt><dd>degrees_north</dd><dt><span>long_name :</span></dt><dd>Latitude</dd></dl></div><div class='xr-var-data'><pre>array([-50.      , -49.835052, -49.670103, ...,  29.670103,  29.835052,\n",
       "        30.      ])</pre></div></li></ul></div></li><li class='xr-section-item'><input id='section-5f859062-2198-498d-8784-16c049fe2dc3' class='xr-section-summary-in' type='checkbox'  checked><label for='section-5f859062-2198-498d-8784-16c049fe2dc3' class='xr-section-summary' >Data variables: <span>(1)</span></label><div class='xr-section-inline-details'></div><div class='xr-section-details'><ul class='xr-var-list'><li class='xr-var-item'><div class='xr-var-name'><span>precip</span></div><div class='xr-var-dims'>(quartile, time, step, lat, lon)</div><div class='xr-var-dtype'>float64</div><div class='xr-var-preview xr-preview'>dask.array&lt;chunksize=(4, 1, 3, 486, 726), meta=np.ndarray&gt;</div><input id='attrs-ac30a75f-f374-4331-a0e5-a49bf8bb1dc1' class='xr-var-attrs-in' type='checkbox' disabled><label for='attrs-ac30a75f-f374-4331-a0e5-a49bf8bb1dc1' title='Show/Hide attributes'><svg class='icon xr-icon-file-text2'><use xlink:href='#icon-file-text2'></use></svg></label><input id='data-e3797f54-6fc2-46fe-b95e-18660ed445af' class='xr-var-data-in' type='checkbox'><label for='data-e3797f54-6fc2-46fe-b95e-18660ed445af' title='Show/Hide data repr'><svg class='icon xr-icon-database'><use xlink:href='#icon-database'></use></svg></label><div class='xr-var-attrs'><dl class='xr-attrs'></dl></div><div class='xr-var-data'><table>\n",
       "    <tr>\n",
       "        <td>\n",
       "            <table>\n",
       "                <thead>\n",
       "                    <tr>\n",
       "                        <td> </td>\n",
       "                        <th> Array </th>\n",
       "                        <th> Chunk </th>\n",
       "                    </tr>\n",
       "                </thead>\n",
       "                <tbody>\n",
       "                    \n",
       "                    <tr>\n",
       "                        <th> Bytes </th>\n",
       "                        <td> 32.30 MiB </td>\n",
       "                        <td> 32.30 MiB </td>\n",
       "                    </tr>\n",
       "                    \n",
       "                    <tr>\n",
       "                        <th> Shape </th>\n",
       "                        <td> (4, 1, 3, 486, 726) </td>\n",
       "                        <td> (4, 1, 3, 486, 726) </td>\n",
       "                    </tr>\n",
       "                    <tr>\n",
       "                        <th> Count </th>\n",
       "                        <td> 91 Tasks </td>\n",
       "                        <td> 1 Chunks </td>\n",
       "                    </tr>\n",
       "                    <tr>\n",
       "                    <th> Type </th>\n",
       "                    <td> float64 </td>\n",
       "                    <td> numpy.ndarray </td>\n",
       "                    </tr>\n",
       "                </tbody>\n",
       "            </table>\n",
       "        </td>\n",
       "        <td>\n",
       "        <svg width=\"374\" height=\"145\" style=\"stroke:rgb(0,0,0);stroke-width:1\" >\n",
       "\n",
       "  <!-- Horizontal lines -->\n",
       "  <line x1=\"0\" y1=\"0\" x2=\"25\" y2=\"0\" style=\"stroke-width:2\" />\n",
       "  <line x1=\"0\" y1=\"25\" x2=\"25\" y2=\"25\" style=\"stroke-width:2\" />\n",
       "\n",
       "  <!-- Vertical lines -->\n",
       "  <line x1=\"0\" y1=\"0\" x2=\"0\" y2=\"25\" style=\"stroke-width:2\" />\n",
       "  <line x1=\"25\" y1=\"0\" x2=\"25\" y2=\"25\" style=\"stroke-width:2\" />\n",
       "\n",
       "  <!-- Colored Rectangle -->\n",
       "  <polygon points=\"0.0,0.0 25.412616514582485,0.0 25.412616514582485,25.412616514582485 0.0,25.412616514582485\" style=\"fill:#ECB172A0;stroke-width:0\"/>\n",
       "\n",
       "  <!-- Text -->\n",
       "  <text x=\"12.706308\" y=\"45.412617\" font-size=\"1.0rem\" font-weight=\"100\" text-anchor=\"middle\" >1</text>\n",
       "  <text x=\"45.412617\" y=\"12.706308\" font-size=\"1.0rem\" font-weight=\"100\" text-anchor=\"middle\" transform=\"rotate(0,45.412617,12.706308)\">4</text>\n",
       "\n",
       "\n",
       "  <!-- Horizontal lines -->\n",
       "  <line x1=\"95\" y1=\"0\" x2=\"109\" y2=\"14\" style=\"stroke-width:2\" />\n",
       "  <line x1=\"95\" y1=\"80\" x2=\"109\" y2=\"95\" style=\"stroke-width:2\" />\n",
       "\n",
       "  <!-- Vertical lines -->\n",
       "  <line x1=\"95\" y1=\"0\" x2=\"95\" y2=\"80\" style=\"stroke-width:2\" />\n",
       "  <line x1=\"109\" y1=\"14\" x2=\"109\" y2=\"95\" style=\"stroke-width:2\" />\n",
       "\n",
       "  <!-- Colored Rectangle -->\n",
       "  <polygon points=\"95.0,0.0 109.9485979497544,14.948597949754403 109.9485979497544,95.2791764621511 95.0,80.3305785123967\" style=\"fill:#ECB172A0;stroke-width:0\"/>\n",
       "\n",
       "  <!-- Horizontal lines -->\n",
       "  <line x1=\"95\" y1=\"0\" x2=\"215\" y2=\"0\" style=\"stroke-width:2\" />\n",
       "  <line x1=\"109\" y1=\"14\" x2=\"229\" y2=\"14\" style=\"stroke-width:2\" />\n",
       "\n",
       "  <!-- Vertical lines -->\n",
       "  <line x1=\"95\" y1=\"0\" x2=\"109\" y2=\"14\" style=\"stroke-width:2\" />\n",
       "  <line x1=\"215\" y1=\"0\" x2=\"229\" y2=\"14\" style=\"stroke-width:2\" />\n",
       "\n",
       "  <!-- Colored Rectangle -->\n",
       "  <polygon points=\"95.0,0.0 215.0,0.0 229.9485979497544,14.948597949754403 109.9485979497544,14.948597949754403\" style=\"fill:#ECB172A0;stroke-width:0\"/>\n",
       "\n",
       "  <!-- Horizontal lines -->\n",
       "  <line x1=\"109\" y1=\"14\" x2=\"229\" y2=\"14\" style=\"stroke-width:2\" />\n",
       "  <line x1=\"109\" y1=\"95\" x2=\"229\" y2=\"95\" style=\"stroke-width:2\" />\n",
       "\n",
       "  <!-- Vertical lines -->\n",
       "  <line x1=\"109\" y1=\"14\" x2=\"109\" y2=\"95\" style=\"stroke-width:2\" />\n",
       "  <line x1=\"229\" y1=\"14\" x2=\"229\" y2=\"95\" style=\"stroke-width:2\" />\n",
       "\n",
       "  <!-- Colored Rectangle -->\n",
       "  <polygon points=\"109.9485979497544,14.948597949754403 229.9485979497544,14.948597949754403 229.9485979497544,95.2791764621511 109.9485979497544,95.2791764621511\" style=\"fill:#ECB172A0;stroke-width:0\"/>\n",
       "\n",
       "  <!-- Text -->\n",
       "  <text x=\"169.948598\" y=\"115.279176\" font-size=\"1.0rem\" font-weight=\"100\" text-anchor=\"middle\" >726</text>\n",
       "  <text x=\"249.948598\" y=\"55.113887\" font-size=\"1.0rem\" font-weight=\"100\" text-anchor=\"middle\" transform=\"rotate(-90,249.948598,55.113887)\">486</text>\n",
       "  <text x=\"92.474299\" y=\"107.804877\" font-size=\"1.0rem\" font-weight=\"100\" text-anchor=\"middle\" transform=\"rotate(45,92.474299,107.804877)\">3</text>\n",
       "</svg>\n",
       "        </td>\n",
       "    </tr>\n",
       "</table></div></li></ul></div></li><li class='xr-section-item'><input id='section-906f4531-cc57-4479-8b93-fe9c4652933b' class='xr-section-summary-in' type='checkbox'  checked><label for='section-906f4531-cc57-4479-8b93-fe9c4652933b' class='xr-section-summary' >Attributes: <span>(2)</span></label><div class='xr-section-inline-details'></div><div class='xr-section-details'><dl class='xr-attrs'><dt><span>pct_values :</span></dt><dd>[0.25 0.5  0.75]</dd><dt><span>period :</span></dt><dd>seasonal</dd></dl></div></li></ul></div></div>"
      ],
      "text/plain": [
       "<xarray.Dataset>\n",
       "Dimensions:   (time: 1, step: 3, quartile: 4, lon: 726, lat: 486)\n",
       "Coordinates:\n",
       "  * time      (time) datetime64[ns] 2022-04-01\n",
       "  * step      (step) int64 3 4 5\n",
       "    month     int64 4\n",
       "  * quartile  (quartile) int64 1 2 3 4\n",
       "  * lon       (lon) float64 120.0 120.2 120.3 120.5 ... 239.5 239.7 239.8 240.0\n",
       "  * lat       (lat) float64 -50.0 -49.84 -49.67 -49.51 ... 29.67 29.84 30.0\n",
       "Data variables:\n",
       "    precip    (quartile, time, step, lat, lon) float64 dask.array<chunksize=(4, 1, 3, 486, 726), meta=np.ndarray>\n",
       "Attributes:\n",
       "    pct_values:  [0.25 0.5  0.75]\n",
       "    period:      seasonal"
      ]
     },
     "execution_count": 48,
     "metadata": {},
     "output_type": "execute_result"
    }
   ],
   "source": [
    "probs_mean"
   ]
  },
  {
   "cell_type": "code",
   "execution_count": 49,
   "id": "3c4f1697-7c1d-4258-b316-6acb6bac29b0",
   "metadata": {
    "execution": {
     "iopub.execute_input": "2022-04-29T07:08:41.839705Z",
     "iopub.status.busy": "2022-04-29T07:08:41.839532Z",
     "iopub.status.idle": "2022-04-29T07:08:41.858718Z",
     "shell.execute_reply": "2022-04-29T07:08:41.858371Z"
    },
    "papermill": {
     "duration": 0.032515,
     "end_time": "2022-04-29T07:08:41.859905",
     "exception": false,
     "start_time": "2022-04-29T07:08:41.827390",
     "status": "completed"
    },
    "tags": []
   },
   "outputs": [],
   "source": [
    "if period == 'monthly': \n",
    "    label_period = month_name[month + step]\n",
    "elif period == 'seasonal': \n",
    "    label_period = month_name[month + step - 2] + \" - \" + month_name[month + step]"
   ]
  },
  {
   "cell_type": "code",
   "execution_count": 50,
   "id": "3693f7e5-9d0b-480f-b7f2-56d482e691ec",
   "metadata": {
    "execution": {
     "iopub.execute_input": "2022-04-29T07:08:41.882423Z",
     "iopub.status.busy": "2022-04-29T07:08:41.882280Z",
     "iopub.status.idle": "2022-04-29T07:08:41.900580Z",
     "shell.execute_reply": "2022-04-29T07:08:41.900151Z"
    },
    "papermill": {
     "duration": 0.030795,
     "end_time": "2022-04-29T07:08:41.901646",
     "exception": false,
     "start_time": "2022-04-29T07:08:41.870851",
     "status": "completed"
    },
    "tags": []
   },
   "outputs": [],
   "source": [
    "fname = f\"C3S_MME_{pmax}prob_{period}_lead{lead}_{year}_{month:02d}_init_{label_period.replace(' - ','_')}.png\""
   ]
  },
  {
   "cell_type": "code",
   "execution_count": 51,
   "id": "3e4ffc45-d07a-4f9c-9f9a-54e6f80a5227",
   "metadata": {
    "execution": {
     "iopub.execute_input": "2022-04-29T07:08:41.924492Z",
     "iopub.status.busy": "2022-04-29T07:08:41.924344Z",
     "iopub.status.idle": "2022-04-29T07:08:41.942953Z",
     "shell.execute_reply": "2022-04-29T07:08:41.942417Z"
    },
    "papermill": {
     "duration": 0.031303,
     "end_time": "2022-04-29T07:08:41.944057",
     "exception": false,
     "start_time": "2022-04-29T07:08:41.912754",
     "status": "completed"
    },
    "tags": []
   },
   "outputs": [
    {
     "name": "stdout",
     "output_type": "stream",
     "text": [
      "C3S_MME_25prob_seasonal_lead3_2022_04_init_July_September.png\n"
     ]
    }
   ],
   "source": [
    "print(fname)"
   ]
  },
  {
   "cell_type": "code",
   "execution_count": 52,
   "id": "ad741e8c-7723-4a0d-a5ff-6674a91863a5",
   "metadata": {
    "execution": {
     "iopub.execute_input": "2022-04-29T07:08:41.967479Z",
     "iopub.status.busy": "2022-04-29T07:08:41.967334Z",
     "iopub.status.idle": "2022-04-29T07:08:49.671682Z",
     "shell.execute_reply": "2022-04-29T07:08:49.671278Z"
    },
    "papermill": {
     "duration": 7.718105,
     "end_time": "2022-04-29T07:08:49.673285",
     "exception": false,
     "start_time": "2022-04-29T07:08:41.955180",
     "status": "completed"
    },
    "tags": []
   },
   "outputs": [
    {
     "data": {
      "image/png": "[encoded data removed]",
      "text/plain": [
       "<Figure size 1008x576 with 1 Axes>"
      ]
     },
     "metadata": {},
     "output_type": "display_data"
    }
   ],
   "source": [
    "plot.map_MME_forecast(probs_mean, pct_dim='quartile', step=step, pct=25, mask=merged_EEZs, geoms=EEZs, fpath=fpath, fname=fname, close=False, domain=domain)"
   ]
  },
  {
   "cell_type": "code",
   "execution_count": 53,
   "id": "2ce29e0d-7b02-42fb-8308-bc3b6944a667",
   "metadata": {
    "execution": {
     "iopub.execute_input": "2022-04-29T07:08:49.698948Z",
     "iopub.status.busy": "2022-04-29T07:08:49.698804Z",
     "iopub.status.idle": "2022-04-29T07:08:49.717542Z",
     "shell.execute_reply": "2022-04-29T07:08:49.717081Z"
    },
    "papermill": {
     "duration": 0.032866,
     "end_time": "2022-04-29T07:08:49.718586",
     "exception": false,
     "start_time": "2022-04-29T07:08:49.685720",
     "status": "completed"
    },
    "tags": []
   },
   "outputs": [],
   "source": [
    "fname = f\"C3S_MME_{pmax}prob_{period}_lead{lead}_latest.png\""
   ]
  },
  {
   "cell_type": "code",
   "execution_count": 54,
   "id": "cd57b508-e936-40f9-92ab-8cfba03929d4",
   "metadata": {
    "execution": {
     "iopub.execute_input": "2022-04-29T07:08:49.745237Z",
     "iopub.status.busy": "2022-04-29T07:08:49.745088Z",
     "iopub.status.idle": "2022-04-29T07:08:53.675894Z",
     "shell.execute_reply": "2022-04-29T07:08:53.675470Z"
    },
    "papermill": {
     "duration": 3.945894,
     "end_time": "2022-04-29T07:08:53.677243",
     "exception": false,
     "start_time": "2022-04-29T07:08:49.731349",
     "status": "completed"
    },
    "tags": []
   },
   "outputs": [
    {
     "data": {
      "image/png": "[encoded data removed]",
      "text/plain": [
       "<Figure size 1008x576 with 1 Axes>"
      ]
     },
     "metadata": {},
     "output_type": "display_data"
    }
   ],
   "source": [
    "plot.map_MME_forecast(probs_mean, pct_dim='quartile', step=step, pct=25, mask=merged_EEZs, geoms=EEZs, fpath=fpath_web, fname=fname, close=False, domain=domain)"
   ]
  },
  {
   "cell_type": "code",
   "execution_count": null,
   "id": "ba757428-fc36-4bd5-bf1a-0335b8ff4da0",
   "metadata": {
    "papermill": {
     "duration": 0.0137,
     "end_time": "2022-04-29T07:08:53.704554",
     "exception": false,
     "start_time": "2022-04-29T07:08:53.690854",
     "status": "completed"
    },
    "tags": []
   },
   "outputs": [],
   "source": []
  }
 ],
 "metadata": {
  "interpreter": {
   "hash": "df53d632f991ae6da976d69f0a13fc423563be07cde77240b1fc66d1fa832155"
  },
  "kernelspec": {
   "display_name": "Python 3 (ipykernel)",
   "language": "python",
   "name": "python3"
  },
  "language_info": {
   "codemirror_mode": {
    "name": "ipython",
    "version": 3
   },
   "file_extension": ".py",
   "mimetype": "text/x-python",
   "name": "python",
   "nbconvert_exporter": "python",
   "pygments_lexer": "ipython3",
   "version": "3.9.12"
  },
  "papermill": {
   "default_parameters": {},
   "duration": 46.044889,
   "end_time": "2022-04-29T07:08:54.539617",
   "environment_variables": {},
   "exception": null,
   "input_path": "7_map_C3S_MME_probabilistic_1st_quartile_forecast.ipynb",
   "output_path": "7_map_C3S_MME_probabilistic_1st_quartile_forecast.ipynb",
   "parameters": {
    "lead": 3,
    "period": "seasonal"
   },
   "start_time": "2022-04-29T07:08:08.494728",
   "version": "2.3.3"
  }
 },
 "nbformat": 4,
 "nbformat_minor": 5
}