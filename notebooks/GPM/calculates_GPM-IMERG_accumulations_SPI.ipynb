{
 "cells": [
  {
   "cell_type": "code",
   "execution_count": 1,
   "id": "8effca89",
   "metadata": {
    "execution": {
     "iopub.execute_input": "2022-01-06T21:49:19.929100Z",
     "iopub.status.busy": "2022-01-06T21:49:19.928454Z",
     "iopub.status.idle": "2022-01-06T21:49:19.935262Z",
     "shell.execute_reply": "2022-01-06T21:49:19.935513Z"
    },
    "papermill": {
     "duration": 0.046866,
     "end_time": "2022-01-06T21:49:19.935677",
     "exception": false,
     "start_time": "2022-01-06T21:49:19.888811",
     "status": "completed"
    },
    "tags": []
   },
   "outputs": [],
   "source": [
    "%load_ext autoreload\n",
    "%autoreload 2"
   ]
  },
  {
   "cell_type": "code",
   "execution_count": 2,
   "id": "22b42651",
   "metadata": {
    "execution": {
     "iopub.execute_input": "2022-01-06T21:49:19.970342Z",
     "iopub.status.busy": "2022-01-06T21:49:19.970012Z",
     "iopub.status.idle": "2022-01-06T21:49:21.318246Z",
     "shell.execute_reply": "2022-01-06T21:49:21.317970Z"
    },
    "papermill": {
     "duration": 1.366817,
     "end_time": "2022-01-06T21:49:21.318327",
     "exception": false,
     "start_time": "2022-01-06T21:49:19.951510",
     "status": "completed"
    },
    "tags": []
   },
   "outputs": [],
   "source": [
    "%matplotlib inline\n",
    "\n",
    "### os \n",
    "import os \n",
    "import sys\n",
    "\n",
    "### datetimes \n",
    "from datetime import datetime, timedelta\n",
    "from dateutil.relativedelta import relativedelta\n",
    "import dateparser\n",
    "\n",
    "\n",
    "### scipy \n",
    "import numpy as np \n",
    "import pandas as pd\n",
    "import xarray as xr\n",
    "from scipy import stats as st\n",
    "from cartopy import crs as ccrs\n",
    "\n",
    "# dask \n",
    "from dask.diagnostics import ProgressBar\n",
    "\n",
    "### plotting \n",
    "from matplotlib import pyplot as plt\n"
   ]
  },
  {
   "cell_type": "code",
   "execution_count": 3,
   "id": "2d7e0857",
   "metadata": {
    "execution": {
     "iopub.execute_input": "2022-01-06T21:49:21.353260Z",
     "iopub.status.busy": "2022-01-06T21:49:21.352944Z",
     "iopub.status.idle": "2022-01-06T21:49:21.365052Z",
     "shell.execute_reply": "2022-01-06T21:49:21.365345Z"
    },
    "papermill": {
     "duration": 0.031508,
     "end_time": "2022-01-06T21:49:21.365487",
     "exception": false,
     "start_time": "2022-01-06T21:49:21.333979",
     "status": "completed"
    },
    "tags": []
   },
   "outputs": [],
   "source": [
    "import pathlib\n",
    "\n",
    "HOME = pathlib.Path.home()\n",
    "CWD = pathlib.Path.cwd() \n"
   ]
  },
  {
   "cell_type": "code",
   "execution_count": 4,
   "id": "16326f7d",
   "metadata": {
    "execution": {
     "iopub.execute_input": "2022-01-06T21:49:21.399885Z",
     "iopub.status.busy": "2022-01-06T21:49:21.399570Z",
     "iopub.status.idle": "2022-01-06T21:49:21.413579Z",
     "shell.execute_reply": "2022-01-06T21:49:21.413186Z"
    },
    "papermill": {
     "duration": 0.031938,
     "end_time": "2022-01-06T21:49:21.413658",
     "exception": false,
     "start_time": "2022-01-06T21:49:21.381720",
     "status": "completed"
    },
    "tags": []
   },
   "outputs": [],
   "source": [
    "import sys"
   ]
  },
  {
   "cell_type": "code",
   "execution_count": 5,
   "id": "aa58fac7",
   "metadata": {
    "execution": {
     "iopub.execute_input": "2022-01-06T21:49:21.446293Z",
     "iopub.status.busy": "2022-01-06T21:49:21.445967Z",
     "iopub.status.idle": "2022-01-06T21:49:21.457171Z",
     "shell.execute_reply": "2022-01-06T21:49:21.456846Z"
    },
    "papermill": {
     "duration": 0.028386,
     "end_time": "2022-01-06T21:49:21.457249",
     "exception": false,
     "start_time": "2022-01-06T21:49:21.428863",
     "status": "completed"
    },
    "tags": []
   },
   "outputs": [],
   "source": [
    "sys.path.append('../../')"
   ]
  },
  {
   "cell_type": "code",
   "execution_count": 6,
   "id": "8408d7e1",
   "metadata": {
    "execution": {
     "iopub.execute_input": "2022-01-06T21:49:21.490818Z",
     "iopub.status.busy": "2022-01-06T21:49:21.490501Z",
     "iopub.status.idle": "2022-01-06T21:49:21.501955Z",
     "shell.execute_reply": "2022-01-06T21:49:21.501686Z"
    },
    "papermill": {
     "duration": 0.029275,
     "end_time": "2022-01-06T21:49:21.502032",
     "exception": false,
     "start_time": "2022-01-06T21:49:21.472757",
     "status": "completed"
    },
    "tags": []
   },
   "outputs": [],
   "source": [
    "domain = [125, 240, -35, 25]"
   ]
  },
  {
   "cell_type": "code",
   "execution_count": 7,
   "id": "c61e42df",
   "metadata": {
    "execution": {
     "iopub.execute_input": "2022-01-06T21:49:21.533848Z",
     "iopub.status.busy": "2022-01-06T21:49:21.533530Z",
     "iopub.status.idle": "2022-01-06T21:49:33.742475Z",
     "shell.execute_reply": "2022-01-06T21:49:33.742136Z"
    },
    "papermill": {
     "duration": 12.225557,
     "end_time": "2022-01-06T21:49:33.742555",
     "exception": false,
     "start_time": "2022-01-06T21:49:21.516998",
     "status": "completed"
    },
    "tags": []
   },
   "outputs": [],
   "source": [
    "from ICU_Water_Watch import plot, geo, utils, GPM"
   ]
  },
  {
   "cell_type": "markdown",
   "id": "d936137b",
   "metadata": {
    "papermill": {
     "duration": 0.021679,
     "end_time": "2022-01-06T21:49:33.779924",
     "exception": false,
     "start_time": "2022-01-06T21:49:33.758245",
     "status": "completed"
    },
    "tags": []
   },
   "source": [
    "### parameters for papermill"
   ]
  },
  {
   "cell_type": "code",
   "execution_count": 8,
   "id": "651c7e54",
   "metadata": {
    "execution": {
     "iopub.execute_input": "2022-01-06T21:49:33.815021Z",
     "iopub.status.busy": "2022-01-06T21:49:33.814683Z",
     "iopub.status.idle": "2022-01-06T21:49:33.843009Z",
     "shell.execute_reply": "2022-01-06T21:49:33.842645Z"
    },
    "papermill": {
     "duration": 0.046909,
     "end_time": "2022-01-06T21:49:33.843093",
     "exception": false,
     "start_time": "2022-01-06T21:49:33.796184",
     "status": "completed"
    },
    "tags": [
     "parameters"
    ]
   },
   "outputs": [],
   "source": [
    "lag = 0\n",
    "ndays = 30\n",
    "# input path \n",
    "dpath = '/home/nicolasf/operational/ICU/ops/data/GPM_IMERG/daily/extended_SP'\n",
    "# output path \n",
    "opath = '/home/nicolasf/operational/ICU/development/hotspots/figures/GPM_IMERG'\n",
    "# path to the shapefiles\n",
    "dpath_shapes = '/home/nicolasf/operational/ICU/development/hotspots/data/shapefiles/'"
   ]
  },
  {
   "cell_type": "code",
   "execution_count": 9,
   "id": "46fedddf",
   "metadata": {
    "execution": {
     "iopub.execute_input": "2022-01-06T21:49:33.879337Z",
     "iopub.status.busy": "2022-01-06T21:49:33.878989Z",
     "iopub.status.idle": "2022-01-06T21:49:33.908096Z",
     "shell.execute_reply": "2022-01-06T21:49:33.908367Z"
    },
    "papermill": {
     "duration": 0.049457,
     "end_time": "2022-01-06T21:49:33.908472",
     "exception": false,
     "start_time": "2022-01-06T21:49:33.859015",
     "status": "completed"
    },
    "tags": [
     "injected-parameters"
    ]
   },
   "outputs": [],
   "source": [
    "# Parameters\n",
    "ndays = 360\n",
    "lag = 7\n"
   ]
  },
  {
   "cell_type": "code",
   "execution_count": 10,
   "id": "f5df2ea3",
   "metadata": {
    "execution": {
     "iopub.execute_input": "2022-01-06T21:49:33.944625Z",
     "iopub.status.busy": "2022-01-06T21:49:33.944070Z",
     "iopub.status.idle": "2022-01-06T21:49:33.959710Z",
     "shell.execute_reply": "2022-01-06T21:49:33.959394Z"
    },
    "papermill": {
     "duration": 0.034806,
     "end_time": "2022-01-06T21:49:33.959811",
     "exception": false,
     "start_time": "2022-01-06T21:49:33.925005",
     "status": "completed"
    },
    "tags": []
   },
   "outputs": [],
   "source": [
    "dpath = pathlib.Path(dpath)\n",
    "opath = pathlib.Path(opath)"
   ]
  },
  {
   "cell_type": "markdown",
   "id": "ad226fef-a115-4d38-94e6-b054d2f15062",
   "metadata": {
    "papermill": {
     "duration": 0.017274,
     "end_time": "2022-01-06T21:49:33.993144",
     "exception": false,
     "start_time": "2022-01-06T21:49:33.975870",
     "status": "completed"
    },
    "tags": []
   },
   "source": [
    "### climatology "
   ]
  },
  {
   "cell_type": "markdown",
   "id": "176b20f2",
   "metadata": {
    "papermill": {
     "duration": 0.015544,
     "end_time": "2022-01-06T21:49:34.024429",
     "exception": false,
     "start_time": "2022-01-06T21:49:34.008885",
     "status": "completed"
    },
    "tags": []
   },
   "source": [
    "### get the list of files "
   ]
  },
  {
   "cell_type": "code",
   "execution_count": 11,
   "id": "b33bd65d",
   "metadata": {
    "execution": {
     "iopub.execute_input": "2022-01-06T21:49:34.057657Z",
     "iopub.status.busy": "2022-01-06T21:49:34.057320Z",
     "iopub.status.idle": "2022-01-06T21:49:34.113789Z",
     "shell.execute_reply": "2022-01-06T21:49:34.113483Z"
    },
    "papermill": {
     "duration": 0.074063,
     "end_time": "2022-01-06T21:49:34.113876",
     "exception": false,
     "start_time": "2022-01-06T21:49:34.039813",
     "status": "completed"
    },
    "tags": []
   },
   "outputs": [],
   "source": [
    "lfiles = GPM.get_files_list(dpath=dpath)"
   ]
  },
  {
   "cell_type": "code",
   "execution_count": 12,
   "id": "71f52037",
   "metadata": {
    "execution": {
     "iopub.execute_input": "2022-01-06T21:49:34.149168Z",
     "iopub.status.busy": "2022-01-06T21:49:34.148777Z",
     "iopub.status.idle": "2022-01-06T21:49:34.164953Z",
     "shell.execute_reply": "2022-01-06T21:49:34.165191Z"
    },
    "papermill": {
     "duration": 0.035829,
     "end_time": "2022-01-06T21:49:34.165288",
     "exception": false,
     "start_time": "2022-01-06T21:49:34.129459",
     "status": "completed"
    },
    "tags": []
   },
   "outputs": [
    {
     "data": {
      "text/plain": [
       "PosixPath('/home/nicolasf/operational/ICU/ops/data/GPM_IMERG/daily/extended_SP/GPM_IMERG_daily.v06.2001.01.01.nc')"
      ]
     },
     "execution_count": 12,
     "metadata": {},
     "output_type": "execute_result"
    }
   ],
   "source": [
    "lfiles[0]"
   ]
  },
  {
   "cell_type": "code",
   "execution_count": 13,
   "id": "b42d71c4",
   "metadata": {
    "execution": {
     "iopub.execute_input": "2022-01-06T21:49:34.197344Z",
     "iopub.status.busy": "2022-01-06T21:49:34.197029Z",
     "iopub.status.idle": "2022-01-06T21:49:34.212294Z",
     "shell.execute_reply": "2022-01-06T21:49:34.211968Z"
    },
    "papermill": {
     "duration": 0.032325,
     "end_time": "2022-01-06T21:49:34.212374",
     "exception": false,
     "start_time": "2022-01-06T21:49:34.180049",
     "status": "completed"
    },
    "tags": []
   },
   "outputs": [
    {
     "data": {
      "text/plain": [
       "PosixPath('/home/nicolasf/operational/ICU/ops/data/GPM_IMERG/daily/extended_SP/GPM_IMERG_daily.v06.2022.01.05.nc')"
      ]
     },
     "execution_count": 13,
     "metadata": {},
     "output_type": "execute_result"
    }
   ],
   "source": [
    "lfiles[-1]"
   ]
  },
  {
   "cell_type": "markdown",
   "id": "8bc4c047",
   "metadata": {
    "papermill": {
     "duration": 0.015333,
     "end_time": "2022-01-06T21:49:34.243729",
     "exception": false,
     "start_time": "2022-01-06T21:49:34.228396",
     "status": "completed"
    },
    "tags": []
   },
   "source": [
    "### limit to the chosen day "
   ]
  },
  {
   "cell_type": "code",
   "execution_count": 14,
   "id": "f791db77",
   "metadata": {
    "execution": {
     "iopub.execute_input": "2022-01-06T21:49:34.280464Z",
     "iopub.status.busy": "2022-01-06T21:49:34.280114Z",
     "iopub.status.idle": "2022-01-06T21:49:34.314139Z",
     "shell.execute_reply": "2022-01-06T21:49:34.313807Z"
    },
    "papermill": {
     "duration": 0.053296,
     "end_time": "2022-01-06T21:49:34.314218",
     "exception": false,
     "start_time": "2022-01-06T21:49:34.260922",
     "status": "completed"
    },
    "tags": []
   },
   "outputs": [],
   "source": [
    "if lag != 0: \n",
    "    last_day = f\"{lag} days ago\"\n",
    "    last_day = dateparser.parse(last_day)\n",
    "    index = [x.name for x in lfiles].index(f\"GPM_IMERG_daily.v06.{last_day:%Y.%m.%d}.nc\")\n",
    "    lfiles = lfiles[index+1-ndays:index+1]\n",
    "else: \n",
    "    last_day = map(int, lfiles[-1].name.split(\".\")[-4:-1])\n",
    "    last_day = datetime(*last_day)\n",
    "    index = [x.name for x in lfiles].index(f\"GPM_IMERG_daily.v06.{last_day:%Y.%m.%d}.nc\")\n",
    "    lfiles = lfiles[index+1-ndays:index+1]"
   ]
  },
  {
   "cell_type": "code",
   "execution_count": 15,
   "id": "aadf5e45-7414-4e35-9d06-f0ea3999966b",
   "metadata": {
    "execution": {
     "iopub.execute_input": "2022-01-06T21:49:34.347314Z",
     "iopub.status.busy": "2022-01-06T21:49:34.346983Z",
     "iopub.status.idle": "2022-01-06T21:49:34.361821Z",
     "shell.execute_reply": "2022-01-06T21:49:34.361488Z"
    },
    "papermill": {
     "duration": 0.032229,
     "end_time": "2022-01-06T21:49:34.361898",
     "exception": false,
     "start_time": "2022-01-06T21:49:34.329669",
     "status": "completed"
    },
    "tags": []
   },
   "outputs": [],
   "source": [
    "if len(lfiles) != ndays: \n",
    "    print(f\"problem with the number of files, expected {ndays}, got {len(lfiles)}\")"
   ]
  },
  {
   "cell_type": "markdown",
   "id": "d44f0764",
   "metadata": {
    "papermill": {
     "duration": 0.015783,
     "end_time": "2022-01-06T21:49:34.393319",
     "exception": false,
     "start_time": "2022-01-06T21:49:34.377536",
     "status": "completed"
    },
    "tags": []
   },
   "source": [
    "### open the multiple file dataset and selects the variable of interest "
   ]
  },
  {
   "cell_type": "code",
   "execution_count": 16,
   "id": "ca4d4015",
   "metadata": {
    "execution": {
     "iopub.execute_input": "2022-01-06T21:49:34.428176Z",
     "iopub.status.busy": "2022-01-06T21:49:34.427858Z",
     "iopub.status.idle": "2022-01-06T21:49:40.847933Z",
     "shell.execute_reply": "2022-01-06T21:49:40.847593Z"
    },
    "papermill": {
     "duration": 6.438632,
     "end_time": "2022-01-06T21:49:40.848015",
     "exception": false,
     "start_time": "2022-01-06T21:49:34.409383",
     "status": "completed"
    },
    "tags": []
   },
   "outputs": [],
   "source": [
    "dset = GPM.make_dataset(lfiles=lfiles)"
   ]
  },
  {
   "cell_type": "markdown",
   "id": "ded00ae4-fcf2-498b-93a1-d552b2dc4d39",
   "metadata": {
    "papermill": {
     "duration": 0.01592,
     "end_time": "2022-01-06T21:49:40.879251",
     "exception": false,
     "start_time": "2022-01-06T21:49:40.863331",
     "status": "completed"
    },
    "tags": []
   },
   "source": [
    "### calculates the accumulation "
   ]
  },
  {
   "cell_type": "markdown",
   "id": "04aca06b",
   "metadata": {
    "papermill": {
     "duration": 0.015023,
     "end_time": "2022-01-06T21:49:40.909799",
     "exception": false,
     "start_time": "2022-01-06T21:49:40.894776",
     "status": "completed"
    },
    "tags": []
   },
   "source": [
    "### re-chunks first "
   ]
  },
  {
   "cell_type": "code",
   "execution_count": 17,
   "id": "859f49c0",
   "metadata": {
    "execution": {
     "iopub.execute_input": "2022-01-06T21:49:40.942301Z",
     "iopub.status.busy": "2022-01-06T21:49:40.941987Z",
     "iopub.status.idle": "2022-01-06T21:49:41.069339Z",
     "shell.execute_reply": "2022-01-06T21:49:41.069000Z"
    },
    "papermill": {
     "duration": 0.144518,
     "end_time": "2022-01-06T21:49:41.069420",
     "exception": false,
     "start_time": "2022-01-06T21:49:40.924902",
     "status": "completed"
    },
    "tags": []
   },
   "outputs": [],
   "source": [
    "dset = dset.chunk({'time':-1, 'lon':10, 'lat':10})"
   ]
  },
  {
   "cell_type": "code",
   "execution_count": 18,
   "id": "e126f2e0-20b9-4010-9f12-003bb750a2ea",
   "metadata": {
    "execution": {
     "iopub.execute_input": "2022-01-06T21:49:41.103372Z",
     "iopub.status.busy": "2022-01-06T21:49:41.103054Z",
     "iopub.status.idle": "2022-01-06T21:49:41.128209Z",
     "shell.execute_reply": "2022-01-06T21:49:41.127780Z"
    },
    "papermill": {
     "duration": 0.043313,
     "end_time": "2022-01-06T21:49:41.128316",
     "exception": false,
     "start_time": "2022-01-06T21:49:41.085003",
     "status": "completed"
    },
    "tags": []
   },
   "outputs": [],
   "source": [
    "dset = dset.sum('time', keep_attrs=True)"
   ]
  },
  {
   "cell_type": "code",
   "execution_count": 19,
   "id": "2424355c-389f-455d-b502-627b9dd98b53",
   "metadata": {
    "execution": {
     "iopub.execute_input": "2022-01-06T21:49:41.162180Z",
     "iopub.status.busy": "2022-01-06T21:49:41.161687Z",
     "iopub.status.idle": "2022-01-06T21:49:41.189830Z",
     "shell.execute_reply": "2022-01-06T21:49:41.189548Z"
    },
    "papermill": {
     "duration": 0.046038,
     "end_time": "2022-01-06T21:49:41.189910",
     "exception": false,
     "start_time": "2022-01-06T21:49:41.143872",
     "status": "completed"
    },
    "tags": []
   },
   "outputs": [
    {
     "data": {
      "text/html": [
       "<div><svg style=\"position: absolute; width: 0; height: 0; overflow: hidden\">\n",
       "<defs>\n",
       "<symbol id=\"icon-database\" viewBox=\"0 0 32 32\">\n",
       "<path d=\"M16 0c-8.837 0-16 2.239-16 5v4c0 2.761 7.163 5 16 5s16-2.239 16-5v-4c0-2.761-7.163-5-16-5z\"></path>\n",
       "<path d=\"M16 17c-8.837 0-16-2.239-16-5v6c0 2.761 7.163 5 16 5s16-2.239 16-5v-6c0 2.761-7.163 5-16 5z\"></path>\n",
       "<path d=\"M16 26c-8.837 0-16-2.239-16-5v6c0 2.761 7.163 5 16 5s16-2.239 16-5v-6c0 2.761-7.163 5-16 5z\"></path>\n",
       "</symbol>\n",
       "<symbol id=\"icon-file-text2\" viewBox=\"0 0 32 32\">\n",
       "<path d=\"M28.681 7.159c-0.694-0.947-1.662-2.053-2.724-3.116s-2.169-2.030-3.116-2.724c-1.612-1.182-2.393-1.319-2.841-1.319h-15.5c-1.378 0-2.5 1.121-2.5 2.5v27c0 1.378 1.122 2.5 2.5 2.5h23c1.378 0 2.5-1.122 2.5-2.5v-19.5c0-0.448-0.137-1.23-1.319-2.841zM24.543 5.457c0.959 0.959 1.712 1.825 2.268 2.543h-4.811v-4.811c0.718 0.556 1.584 1.309 2.543 2.268zM28 29.5c0 0.271-0.229 0.5-0.5 0.5h-23c-0.271 0-0.5-0.229-0.5-0.5v-27c0-0.271 0.229-0.5 0.5-0.5 0 0 15.499-0 15.5 0v7c0 0.552 0.448 1 1 1h7v19.5z\"></path>\n",
       "<path d=\"M23 26h-14c-0.552 0-1-0.448-1-1s0.448-1 1-1h14c0.552 0 1 0.448 1 1s-0.448 1-1 1z\"></path>\n",
       "<path d=\"M23 22h-14c-0.552 0-1-0.448-1-1s0.448-1 1-1h14c0.552 0 1 0.448 1 1s-0.448 1-1 1z\"></path>\n",
       "<path d=\"M23 18h-14c-0.552 0-1-0.448-1-1s0.448-1 1-1h14c0.552 0 1 0.448 1 1s-0.448 1-1 1z\"></path>\n",
       "</symbol>\n",
       "</defs>\n",
       "</svg>\n",
       "<style>/* CSS stylesheet for displaying xarray objects in jupyterlab.\n",
       " *\n",
       " */\n",
       "\n",
       ":root {\n",
       "  --xr-font-color0: var(--jp-content-font-color0, rgba(0, 0, 0, 1));\n",
       "  --xr-font-color2: var(--jp-content-font-color2, rgba(0, 0, 0, 0.54));\n",
       "  --xr-font-color3: var(--jp-content-font-color3, rgba(0, 0, 0, 0.38));\n",
       "  --xr-border-color: var(--jp-border-color2, #e0e0e0);\n",
       "  --xr-disabled-color: var(--jp-layout-color3, #bdbdbd);\n",
       "  --xr-background-color: var(--jp-layout-color0, white);\n",
       "  --xr-background-color-row-even: var(--jp-layout-color1, white);\n",
       "  --xr-background-color-row-odd: var(--jp-layout-color2, #eeeeee);\n",
       "}\n",
       "\n",
       "html[theme=dark],\n",
       "body.vscode-dark {\n",
       "  --xr-font-color0: rgba(255, 255, 255, 1);\n",
       "  --xr-font-color2: rgba(255, 255, 255, 0.54);\n",
       "  --xr-font-color3: rgba(255, 255, 255, 0.38);\n",
       "  --xr-border-color: #1F1F1F;\n",
       "  --xr-disabled-color: #515151;\n",
       "  --xr-background-color: #111111;\n",
       "  --xr-background-color-row-even: #111111;\n",
       "  --xr-background-color-row-odd: #313131;\n",
       "}\n",
       "\n",
       ".xr-wrap {\n",
       "  display: block !important;\n",
       "  min-width: 300px;\n",
       "  max-width: 700px;\n",
       "}\n",
       "\n",
       ".xr-text-repr-fallback {\n",
       "  /* fallback to plain text repr when CSS is not injected (untrusted notebook) */\n",
       "  display: none;\n",
       "}\n",
       "\n",
       ".xr-header {\n",
       "  padding-top: 6px;\n",
       "  padding-bottom: 6px;\n",
       "  margin-bottom: 4px;\n",
       "  border-bottom: solid 1px var(--xr-border-color);\n",
       "}\n",
       "\n",
       ".xr-header > div,\n",
       ".xr-header > ul {\n",
       "  display: inline;\n",
       "  margin-top: 0;\n",
       "  margin-bottom: 0;\n",
       "}\n",
       "\n",
       ".xr-obj-type,\n",
       ".xr-array-name {\n",
       "  margin-left: 2px;\n",
       "  margin-right: 10px;\n",
       "}\n",
       "\n",
       ".xr-obj-type {\n",
       "  color: var(--xr-font-color2);\n",
       "}\n",
       "\n",
       ".xr-sections {\n",
       "  padding-left: 0 !important;\n",
       "  display: grid;\n",
       "  grid-template-columns: 150px auto auto 1fr 20px 20px;\n",
       "}\n",
       "\n",
       ".xr-section-item {\n",
       "  display: contents;\n",
       "}\n",
       "\n",
       ".xr-section-item input {\n",
       "  display: none;\n",
       "}\n",
       "\n",
       ".xr-section-item input + label {\n",
       "  color: var(--xr-disabled-color);\n",
       "}\n",
       "\n",
       ".xr-section-item input:enabled + label {\n",
       "  cursor: pointer;\n",
       "  color: var(--xr-font-color2);\n",
       "}\n",
       "\n",
       ".xr-section-item input:enabled + label:hover {\n",
       "  color: var(--xr-font-color0);\n",
       "}\n",
       "\n",
       ".xr-section-summary {\n",
       "  grid-column: 1;\n",
       "  color: var(--xr-font-color2);\n",
       "  font-weight: 500;\n",
       "}\n",
       "\n",
       ".xr-section-summary > span {\n",
       "  display: inline-block;\n",
       "  padding-left: 0.5em;\n",
       "}\n",
       "\n",
       ".xr-section-summary-in:disabled + label {\n",
       "  color: var(--xr-font-color2);\n",
       "}\n",
       "\n",
       ".xr-section-summary-in + label:before {\n",
       "  display: inline-block;\n",
       "  content: '►';\n",
       "  font-size: 11px;\n",
       "  width: 15px;\n",
       "  text-align: center;\n",
       "}\n",
       "\n",
       ".xr-section-summary-in:disabled + label:before {\n",
       "  color: var(--xr-disabled-color);\n",
       "}\n",
       "\n",
       ".xr-section-summary-in:checked + label:before {\n",
       "  content: '▼';\n",
       "}\n",
       "\n",
       ".xr-section-summary-in:checked + label > span {\n",
       "  display: none;\n",
       "}\n",
       "\n",
       ".xr-section-summary,\n",
       ".xr-section-inline-details {\n",
       "  padding-top: 4px;\n",
       "  padding-bottom: 4px;\n",
       "}\n",
       "\n",
       ".xr-section-inline-details {\n",
       "  grid-column: 2 / -1;\n",
       "}\n",
       "\n",
       ".xr-section-details {\n",
       "  display: none;\n",
       "  grid-column: 1 / -1;\n",
       "  margin-bottom: 5px;\n",
       "}\n",
       "\n",
       ".xr-section-summary-in:checked ~ .xr-section-details {\n",
       "  display: contents;\n",
       "}\n",
       "\n",
       ".xr-array-wrap {\n",
       "  grid-column: 1 / -1;\n",
       "  display: grid;\n",
       "  grid-template-columns: 20px auto;\n",
       "}\n",
       "\n",
       ".xr-array-wrap > label {\n",
       "  grid-column: 1;\n",
       "  vertical-align: top;\n",
       "}\n",
       "\n",
       ".xr-preview {\n",
       "  color: var(--xr-font-color3);\n",
       "}\n",
       "\n",
       ".xr-array-preview,\n",
       ".xr-array-data {\n",
       "  padding: 0 5px !important;\n",
       "  grid-column: 2;\n",
       "}\n",
       "\n",
       ".xr-array-data,\n",
       ".xr-array-in:checked ~ .xr-array-preview {\n",
       "  display: none;\n",
       "}\n",
       "\n",
       ".xr-array-in:checked ~ .xr-array-data,\n",
       ".xr-array-preview {\n",
       "  display: inline-block;\n",
       "}\n",
       "\n",
       ".xr-dim-list {\n",
       "  display: inline-block !important;\n",
       "  list-style: none;\n",
       "  padding: 0 !important;\n",
       "  margin: 0;\n",
       "}\n",
       "\n",
       ".xr-dim-list li {\n",
       "  display: inline-block;\n",
       "  padding: 0;\n",
       "  margin: 0;\n",
       "}\n",
       "\n",
       ".xr-dim-list:before {\n",
       "  content: '(';\n",
       "}\n",
       "\n",
       ".xr-dim-list:after {\n",
       "  content: ')';\n",
       "}\n",
       "\n",
       ".xr-dim-list li:not(:last-child):after {\n",
       "  content: ',';\n",
       "  padding-right: 5px;\n",
       "}\n",
       "\n",
       ".xr-has-index {\n",
       "  font-weight: bold;\n",
       "}\n",
       "\n",
       ".xr-var-list,\n",
       ".xr-var-item {\n",
       "  display: contents;\n",
       "}\n",
       "\n",
       ".xr-var-item > div,\n",
       ".xr-var-item label,\n",
       ".xr-var-item > .xr-var-name span {\n",
       "  background-color: var(--xr-background-color-row-even);\n",
       "  margin-bottom: 0;\n",
       "}\n",
       "\n",
       ".xr-var-item > .xr-var-name:hover span {\n",
       "  padding-right: 5px;\n",
       "}\n",
       "\n",
       ".xr-var-list > li:nth-child(odd) > div,\n",
       ".xr-var-list > li:nth-child(odd) > label,\n",
       ".xr-var-list > li:nth-child(odd) > .xr-var-name span {\n",
       "  background-color: var(--xr-background-color-row-odd);\n",
       "}\n",
       "\n",
       ".xr-var-name {\n",
       "  grid-column: 1;\n",
       "}\n",
       "\n",
       ".xr-var-dims {\n",
       "  grid-column: 2;\n",
       "}\n",
       "\n",
       ".xr-var-dtype {\n",
       "  grid-column: 3;\n",
       "  text-align: right;\n",
       "  color: var(--xr-font-color2);\n",
       "}\n",
       "\n",
       ".xr-var-preview {\n",
       "  grid-column: 4;\n",
       "}\n",
       "\n",
       ".xr-var-name,\n",
       ".xr-var-dims,\n",
       ".xr-var-dtype,\n",
       ".xr-preview,\n",
       ".xr-attrs dt {\n",
       "  white-space: nowrap;\n",
       "  overflow: hidden;\n",
       "  text-overflow: ellipsis;\n",
       "  padding-right: 10px;\n",
       "}\n",
       "\n",
       ".xr-var-name:hover,\n",
       ".xr-var-dims:hover,\n",
       ".xr-var-dtype:hover,\n",
       ".xr-attrs dt:hover {\n",
       "  overflow: visible;\n",
       "  width: auto;\n",
       "  z-index: 1;\n",
       "}\n",
       "\n",
       ".xr-var-attrs,\n",
       ".xr-var-data {\n",
       "  display: none;\n",
       "  background-color: var(--xr-background-color) !important;\n",
       "  padding-bottom: 5px !important;\n",
       "}\n",
       "\n",
       ".xr-var-attrs-in:checked ~ .xr-var-attrs,\n",
       ".xr-var-data-in:checked ~ .xr-var-data {\n",
       "  display: block;\n",
       "}\n",
       "\n",
       ".xr-var-data > table {\n",
       "  float: right;\n",
       "}\n",
       "\n",
       ".xr-var-name span,\n",
       ".xr-var-data,\n",
       ".xr-attrs {\n",
       "  padding-left: 25px !important;\n",
       "}\n",
       "\n",
       ".xr-attrs,\n",
       ".xr-var-attrs,\n",
       ".xr-var-data {\n",
       "  grid-column: 1 / -1;\n",
       "}\n",
       "\n",
       "dl.xr-attrs {\n",
       "  padding: 0;\n",
       "  margin: 0;\n",
       "  display: grid;\n",
       "  grid-template-columns: 125px auto;\n",
       "}\n",
       "\n",
       ".xr-attrs dt,\n",
       ".xr-attrs dd {\n",
       "  padding: 0;\n",
       "  margin: 0;\n",
       "  float: left;\n",
       "  padding-right: 10px;\n",
       "  width: auto;\n",
       "}\n",
       "\n",
       ".xr-attrs dt {\n",
       "  font-weight: normal;\n",
       "  grid-column: 1;\n",
       "}\n",
       "\n",
       ".xr-attrs dt:hover span {\n",
       "  display: inline-block;\n",
       "  background: var(--xr-background-color);\n",
       "  padding-right: 10px;\n",
       "}\n",
       "\n",
       ".xr-attrs dd {\n",
       "  grid-column: 2;\n",
       "  white-space: pre-wrap;\n",
       "  word-break: break-all;\n",
       "}\n",
       "\n",
       ".xr-icon-database,\n",
       ".xr-icon-file-text2 {\n",
       "  display: inline-block;\n",
       "  vertical-align: middle;\n",
       "  width: 1em;\n",
       "  height: 1.5em !important;\n",
       "  stroke-width: 0;\n",
       "  stroke: currentColor;\n",
       "  fill: currentColor;\n",
       "}\n",
       "</style><pre class='xr-text-repr-fallback'>&lt;xarray.Dataset&gt;\n",
       "Dimensions:           (lat: 300, lon: 460)\n",
       "Coordinates:\n",
       "  * lon               (lon) float64 125.1 125.4 125.6 ... 239.4 239.6 239.9\n",
       "  * lat               (lat) float64 -49.88 -49.62 -49.38 ... 24.38 24.62 24.88\n",
       "Data variables:\n",
       "    precipitationCal  (lat, lon) float64 dask.array&lt;chunksize=(10, 10), meta=np.ndarray&gt;\n",
       "Attributes:\n",
       "    BeginDate:       2021-01-06\n",
       "    BeginTime:       00:00:00.000Z\n",
       "    EndDate:         2021-01-06\n",
       "    EndTime:         23:59:59.999Z\n",
       "    FileHeader:      StartGranuleDateTime=2021-01-06T00:00:00.000Z;\\nStopGran...\n",
       "    InputPointer:    3B-HHR-L.MS.MRG.3IMERG.20210106-S000000-E002959.0000.V06...\n",
       "    title:           GPM IMERG Late Precipitation L3 1 day 0.1 degree x 0.1 d...\n",
       "    DOI:             10.5067/GPM/IMERGDL/DAY/06\n",
       "    ProductionTime:  2021-01-07T14:50:33.490Z\n",
       "    ndays:           360\n",
       "    last_day:        2021-12-31</pre><div class='xr-wrap' style='display:none'><div class='xr-header'><div class='xr-obj-type'>xarray.Dataset</div></div><ul class='xr-sections'><li class='xr-section-item'><input id='section-3beb19ec-f401-461e-bc77-4c470ca9c3df' class='xr-section-summary-in' type='checkbox' disabled ><label for='section-3beb19ec-f401-461e-bc77-4c470ca9c3df' class='xr-section-summary'  title='Expand/collapse section'>Dimensions:</label><div class='xr-section-inline-details'><ul class='xr-dim-list'><li><span class='xr-has-index'>lat</span>: 300</li><li><span class='xr-has-index'>lon</span>: 460</li></ul></div><div class='xr-section-details'></div></li><li class='xr-section-item'><input id='section-af6131c1-5b7c-48c1-8008-00f6cfd8c83e' class='xr-section-summary-in' type='checkbox'  checked><label for='section-af6131c1-5b7c-48c1-8008-00f6cfd8c83e' class='xr-section-summary' >Coordinates: <span>(2)</span></label><div class='xr-section-inline-details'></div><div class='xr-section-details'><ul class='xr-var-list'><li class='xr-var-item'><div class='xr-var-name'><span class='xr-has-index'>lon</span></div><div class='xr-var-dims'>(lon)</div><div class='xr-var-dtype'>float64</div><div class='xr-var-preview xr-preview'>125.1 125.4 125.6 ... 239.6 239.9</div><input id='attrs-d7873a2c-8e6a-4bd0-adb4-6d53df94dfa8' class='xr-var-attrs-in' type='checkbox' disabled><label for='attrs-d7873a2c-8e6a-4bd0-adb4-6d53df94dfa8' title='Show/Hide attributes'><svg class='icon xr-icon-file-text2'><use xlink:href='#icon-file-text2'></use></svg></label><input id='data-3b03ab14-d223-4d88-af04-682604000721' class='xr-var-data-in' type='checkbox'><label for='data-3b03ab14-d223-4d88-af04-682604000721' title='Show/Hide data repr'><svg class='icon xr-icon-database'><use xlink:href='#icon-database'></use></svg></label><div class='xr-var-attrs'><dl class='xr-attrs'></dl></div><div class='xr-var-data'><pre>array([125.125, 125.375, 125.625, ..., 239.375, 239.625, 239.875])</pre></div></li><li class='xr-var-item'><div class='xr-var-name'><span class='xr-has-index'>lat</span></div><div class='xr-var-dims'>(lat)</div><div class='xr-var-dtype'>float64</div><div class='xr-var-preview xr-preview'>-49.88 -49.62 ... 24.62 24.88</div><input id='attrs-1c52eac1-b2f0-4f90-aa66-096e8226849c' class='xr-var-attrs-in' type='checkbox' disabled><label for='attrs-1c52eac1-b2f0-4f90-aa66-096e8226849c' title='Show/Hide attributes'><svg class='icon xr-icon-file-text2'><use xlink:href='#icon-file-text2'></use></svg></label><input id='data-7016d350-f055-452c-a4a4-ef667439c0c5' class='xr-var-data-in' type='checkbox'><label for='data-7016d350-f055-452c-a4a4-ef667439c0c5' title='Show/Hide data repr'><svg class='icon xr-icon-database'><use xlink:href='#icon-database'></use></svg></label><div class='xr-var-attrs'><dl class='xr-attrs'></dl></div><div class='xr-var-data'><pre>array([-49.875, -49.625, -49.375, ...,  24.375,  24.625,  24.875])</pre></div></li></ul></div></li><li class='xr-section-item'><input id='section-a853792f-a6b1-457c-8e65-40567f6b494e' class='xr-section-summary-in' type='checkbox'  checked><label for='section-a853792f-a6b1-457c-8e65-40567f6b494e' class='xr-section-summary' >Data variables: <span>(1)</span></label><div class='xr-section-inline-details'></div><div class='xr-section-details'><ul class='xr-var-list'><li class='xr-var-item'><div class='xr-var-name'><span>precipitationCal</span></div><div class='xr-var-dims'>(lat, lon)</div><div class='xr-var-dtype'>float64</div><div class='xr-var-preview xr-preview'>dask.array&lt;chunksize=(10, 10), meta=np.ndarray&gt;</div><input id='attrs-34d7da23-5592-4975-bd8f-d1cb94f6d52a' class='xr-var-attrs-in' type='checkbox' ><label for='attrs-34d7da23-5592-4975-bd8f-d1cb94f6d52a' title='Show/Hide attributes'><svg class='icon xr-icon-file-text2'><use xlink:href='#icon-file-text2'></use></svg></label><input id='data-8d3e95f7-6846-4be4-8100-4da6754da1d2' class='xr-var-data-in' type='checkbox'><label for='data-8d3e95f7-6846-4be4-8100-4da6754da1d2' title='Show/Hide data repr'><svg class='icon xr-icon-database'><use xlink:href='#icon-database'></use></svg></label><div class='xr-var-attrs'><dl class='xr-attrs'><dt><span>units :</span></dt><dd>mm</dd><dt><span>long_name :</span></dt><dd>Daily accumulated precipitation (combined microwave-IR) estimate</dd></dl></div><div class='xr-var-data'><table>\n",
       "    <tr>\n",
       "        <td>\n",
       "            <table>\n",
       "                <thead>\n",
       "                    <tr>\n",
       "                        <td> </td>\n",
       "                        <th> Array </th>\n",
       "                        <th> Chunk </th>\n",
       "                    </tr>\n",
       "                </thead>\n",
       "                <tbody>\n",
       "                    \n",
       "                    <tr>\n",
       "                        <th> Bytes </th>\n",
       "                        <td> 1.05 MiB </td>\n",
       "                        <td> 800 B </td>\n",
       "                    </tr>\n",
       "                    \n",
       "                    <tr>\n",
       "                        <th> Shape </th>\n",
       "                        <td> (300, 460) </td>\n",
       "                        <td> (10, 10) </td>\n",
       "                    </tr>\n",
       "                    <tr>\n",
       "                        <th> Count </th>\n",
       "                        <td> 12123 Tasks </td>\n",
       "                        <td> 1380 Chunks </td>\n",
       "                    </tr>\n",
       "                    <tr>\n",
       "                    <th> Type </th>\n",
       "                    <td> float64 </td>\n",
       "                    <td> numpy.ndarray </td>\n",
       "                    </tr>\n",
       "                </tbody>\n",
       "            </table>\n",
       "        </td>\n",
       "        <td>\n",
       "        <svg width=\"170\" height=\"128\" style=\"stroke:rgb(0,0,0);stroke-width:1\" >\n",
       "\n",
       "  <!-- Horizontal lines -->\n",
       "  <line x1=\"0\" y1=\"0\" x2=\"120\" y2=\"0\" style=\"stroke-width:2\" />\n",
       "  <line x1=\"0\" y1=\"2\" x2=\"120\" y2=\"2\" />\n",
       "  <line x1=\"0\" y1=\"7\" x2=\"120\" y2=\"7\" />\n",
       "  <line x1=\"0\" y1=\"10\" x2=\"120\" y2=\"10\" />\n",
       "  <line x1=\"0\" y1=\"15\" x2=\"120\" y2=\"15\" />\n",
       "  <line x1=\"0\" y1=\"18\" x2=\"120\" y2=\"18\" />\n",
       "  <line x1=\"0\" y1=\"23\" x2=\"120\" y2=\"23\" />\n",
       "  <line x1=\"0\" y1=\"28\" x2=\"120\" y2=\"28\" />\n",
       "  <line x1=\"0\" y1=\"31\" x2=\"120\" y2=\"31\" />\n",
       "  <line x1=\"0\" y1=\"36\" x2=\"120\" y2=\"36\" />\n",
       "  <line x1=\"0\" y1=\"39\" x2=\"120\" y2=\"39\" />\n",
       "  <line x1=\"0\" y1=\"44\" x2=\"120\" y2=\"44\" />\n",
       "  <line x1=\"0\" y1=\"46\" x2=\"120\" y2=\"46\" />\n",
       "  <line x1=\"0\" y1=\"52\" x2=\"120\" y2=\"52\" />\n",
       "  <line x1=\"0\" y1=\"57\" x2=\"120\" y2=\"57\" />\n",
       "  <line x1=\"0\" y1=\"60\" x2=\"120\" y2=\"60\" />\n",
       "  <line x1=\"0\" y1=\"65\" x2=\"120\" y2=\"65\" />\n",
       "  <line x1=\"0\" y1=\"67\" x2=\"120\" y2=\"67\" />\n",
       "  <line x1=\"0\" y1=\"73\" x2=\"120\" y2=\"73\" />\n",
       "  <line x1=\"0\" y1=\"78\" x2=\"120\" y2=\"78\" style=\"stroke-width:2\" />\n",
       "\n",
       "  <!-- Vertical lines -->\n",
       "  <line x1=\"0\" y1=\"0\" x2=\"0\" y2=\"78\" style=\"stroke-width:2\" />\n",
       "  <line x1=\"5\" y1=\"0\" x2=\"5\" y2=\"78\" />\n",
       "  <line x1=\"10\" y1=\"0\" x2=\"10\" y2=\"78\" />\n",
       "  <line x1=\"18\" y1=\"0\" x2=\"18\" y2=\"78\" />\n",
       "  <line x1=\"23\" y1=\"0\" x2=\"23\" y2=\"78\" />\n",
       "  <line x1=\"31\" y1=\"0\" x2=\"31\" y2=\"78\" />\n",
       "  <line x1=\"36\" y1=\"0\" x2=\"36\" y2=\"78\" />\n",
       "  <line x1=\"41\" y1=\"0\" x2=\"41\" y2=\"78\" />\n",
       "  <line x1=\"49\" y1=\"0\" x2=\"49\" y2=\"78\" />\n",
       "  <line x1=\"54\" y1=\"0\" x2=\"54\" y2=\"78\" />\n",
       "  <line x1=\"62\" y1=\"0\" x2=\"62\" y2=\"78\" />\n",
       "  <line x1=\"67\" y1=\"0\" x2=\"67\" y2=\"78\" />\n",
       "  <line x1=\"75\" y1=\"0\" x2=\"75\" y2=\"78\" />\n",
       "  <line x1=\"80\" y1=\"0\" x2=\"80\" y2=\"78\" />\n",
       "  <line x1=\"86\" y1=\"0\" x2=\"86\" y2=\"78\" />\n",
       "  <line x1=\"93\" y1=\"0\" x2=\"93\" y2=\"78\" />\n",
       "  <line x1=\"99\" y1=\"0\" x2=\"99\" y2=\"78\" />\n",
       "  <line x1=\"106\" y1=\"0\" x2=\"106\" y2=\"78\" />\n",
       "  <line x1=\"112\" y1=\"0\" x2=\"112\" y2=\"78\" />\n",
       "  <line x1=\"120\" y1=\"0\" x2=\"120\" y2=\"78\" style=\"stroke-width:2\" />\n",
       "\n",
       "  <!-- Colored Rectangle -->\n",
       "  <polygon points=\"0.0,0.0 120.0,0.0 120.0,78.26086956521739 0.0,78.26086956521739\" style=\"fill:#8B4903A0;stroke-width:0\"/>\n",
       "\n",
       "  <!-- Text -->\n",
       "  <text x=\"60.000000\" y=\"98.260870\" font-size=\"1.0rem\" font-weight=\"100\" text-anchor=\"middle\" >460</text>\n",
       "  <text x=\"140.000000\" y=\"39.130435\" font-size=\"1.0rem\" font-weight=\"100\" text-anchor=\"middle\" transform=\"rotate(-90,140.000000,39.130435)\">300</text>\n",
       "</svg>\n",
       "        </td>\n",
       "    </tr>\n",
       "</table></div></li></ul></div></li><li class='xr-section-item'><input id='section-12260e00-9a22-4085-839d-600b850ede31' class='xr-section-summary-in' type='checkbox'  ><label for='section-12260e00-9a22-4085-839d-600b850ede31' class='xr-section-summary' >Attributes: <span>(11)</span></label><div class='xr-section-inline-details'></div><div class='xr-section-details'><dl class='xr-attrs'><dt><span>BeginDate :</span></dt><dd>2021-01-06</dd><dt><span>BeginTime :</span></dt><dd>00:00:00.000Z</dd><dt><span>EndDate :</span></dt><dd>2021-01-06</dd><dt><span>EndTime :</span></dt><dd>23:59:59.999Z</dd><dt><span>FileHeader :</span></dt><dd>StartGranuleDateTime=2021-01-06T00:00:00.000Z;\n",
       "StopGranuleDateTime=2021-01-06T23:59:59.999Z</dd><dt><span>InputPointer :</span></dt><dd>3B-HHR-L.MS.MRG.3IMERG.20210106-S000000-E002959.0000.V06B.HDF5;3B-HHR-L.MS.MRG.3IMERG.20210106-S003000-E005959.0030.V06B.HDF5;3B-HHR-L.MS.MRG.3IMERG.20210106-S010000-E012959.0060.V06B.HDF5;3B-HHR-L.MS.MRG.3IMERG.20210106-S013000-E015959.0090.V06B.HDF5;3B-HHR-L.MS.MRG.3IMERG.20210106-S020000-E022959.0120.V06B.HDF5;3B-HHR-L.MS.MRG.3IMERG.20210106-S023000-E025959.0150.V06B.HDF5;3B-HHR-L.MS.MRG.3IMERG.20210106-S030000-E032959.0180.V06B.HDF5;3B-HHR-L.MS.MRG.3IMERG.20210106-S033000-E035959.0210.V06B.HDF5;3B-HHR-L.MS.MRG.3IMERG.20210106-S040000-E042959.0240.V06B.HDF5;3B-HHR-L.MS.MRG.3IMERG.20210106-S043000-E045959.0270.V06B.HDF5;3B-HHR-L.MS.MRG.3IMERG.20210106-S050000-E052959.0300.V06B.HDF5;3B-HHR-L.MS.MRG.3IMERG.20210106-S053000-E055959.0330.V06B.HDF5;3B-HHR-L.MS.MRG.3IMERG.20210106-S060000-E062959.0360.V06B.HDF5;3B-HHR-L.MS.MRG.3IMERG.20210106-S063000-E065959.0390.V06B.HDF5;3B-HHR-L.MS.MRG.3IMERG.20210106-S070000-E072959.0420.V06B.HDF5;3B-HHR-L.MS.MRG.3IMERG.20210106-S073000-E075959.0450.V06B.HDF5;3B-HHR-L.MS.MRG.3IMERG.20210106-S080000-E082959.0480.V06B.HDF5;3B-HHR-L.MS.MRG.3IMERG.20210106-S083000-E085959.0510.V06B.HDF5;3B-HHR-L.MS.MRG.3IMERG.20210106-S090000-E092959.0540.V06B.HDF5;3B-HHR-L.MS.MRG.3IMERG.20210106-S093000-E095959.0570.V06B.HDF5;3B-HHR-L.MS.MRG.3IMERG.20210106-S100000-E102959.0600.V06B.HDF5;3B-HHR-L.MS.MRG.3IMERG.20210106-S103000-E105959.0630.V06B.HDF5;3B-HHR-L.MS.MRG.3IMERG.20210106-S110000-E112959.0660.V06B.HDF5;3B-HHR-L.MS.MRG.3IMERG.20210106-S113000-E115959.0690.V06B.HDF5;3B-HHR-L.MS.MRG.3IMERG.20210106-S120000-E122959.0720.V06B.HDF5;3B-HHR-L.MS.MRG.3IMERG.20210106-S123000-E125959.0750.V06B.HDF5;3B-HHR-L.MS.MRG.3IMERG.20210106-S130000-E132959.0780.V06B.HDF5;3B-HHR-L.MS.MRG.3IMERG.20210106-S133000-E135959.0810.V06B.HDF5;3B-HHR-L.MS.MRG.3IMERG.20210106-S140000-E142959.0840.V06B.HDF5;3B-HHR-L.MS.MRG.3IMERG.20210106-S143000-E145959.0870.V06B.HDF5;3B-HHR-L.MS.MRG.3IMERG.20210106-S150000-E152959.0900.V06B.HDF5;3B-HHR-L.MS.MRG.3IMERG.20210106-S153000-E155959.0930.V06B.HDF5;3B-HHR-L.MS.MRG.3IMERG.20210106-S160000-E162959.0960.V06B.HDF5;3B-HHR-L.MS.MRG.3IMERG.20210106-S163000-E165959.0990.V06B.HDF5;3B-HHR-L.MS.MRG.3IMERG.20210106-S170000-E172959.1020.V06B.HDF5;3B-HHR-L.MS.MRG.3IMERG.20210106-S173000-E175959.1050.V06B.HDF5;3B-HHR-L.MS.MRG.3IMERG.20210106-S180000-E182959.1080.V06B.HDF5;3B-HHR-L.MS.MRG.3IMERG.20210106-S183000-E185959.1110.V06B.HDF5;3B-HHR-L.MS.MRG.3IMERG.20210106-S190000-E192959.1140.V06B.HDF5;3B-HHR-L.MS.MRG.3IMERG.20210106-S193000-E195959.1170.V06B.HDF5;3B-HHR-L.MS.MRG.3IMERG.20210106-S200000-E202959.1200.V06B.HDF5;3B-HHR-L.MS.MRG.3IMERG.20210106-S203000-E205959.1230.V06B.HDF5;3B-HHR-L.MS.MRG.3IMERG.20210106-S210000-E212959.1260.V06B.HDF5;3B-HHR-L.MS.MRG.3IMERG.20210106-S213000-E215959.1290.V06B.HDF5;3B-HHR-L.MS.MRG.3IMERG.20210106-S220000-E222959.1320.V06B.HDF5;3B-HHR-L.MS.MRG.3IMERG.20210106-S223000-E225959.1350.V06B.HDF5;3B-HHR-L.MS.MRG.3IMERG.20210106-S230000-E232959.1380.V06B.HDF5;3B-HHR-L.MS.MRG.3IMERG.20210106-S233000-E235959.1410.V06B.HDF5</dd><dt><span>title :</span></dt><dd>GPM IMERG Late Precipitation L3 1 day 0.1 degree x 0.1 degree (GPM_3IMERGDL)</dd><dt><span>DOI :</span></dt><dd>10.5067/GPM/IMERGDL/DAY/06</dd><dt><span>ProductionTime :</span></dt><dd>2021-01-07T14:50:33.490Z</dd><dt><span>ndays :</span></dt><dd>360</dd><dt><span>last_day :</span></dt><dd>2021-12-31</dd></dl></div></li></ul></div></div>"
      ],
      "text/plain": [
       "<xarray.Dataset>\n",
       "Dimensions:           (lat: 300, lon: 460)\n",
       "Coordinates:\n",
       "  * lon               (lon) float64 125.1 125.4 125.6 ... 239.4 239.6 239.9\n",
       "  * lat               (lat) float64 -49.88 -49.62 -49.38 ... 24.38 24.62 24.88\n",
       "Data variables:\n",
       "    precipitationCal  (lat, lon) float64 dask.array<chunksize=(10, 10), meta=np.ndarray>\n",
       "Attributes:\n",
       "    BeginDate:       2021-01-06\n",
       "    BeginTime:       00:00:00.000Z\n",
       "    EndDate:         2021-01-06\n",
       "    EndTime:         23:59:59.999Z\n",
       "    FileHeader:      StartGranuleDateTime=2021-01-06T00:00:00.000Z;\\nStopGran...\n",
       "    InputPointer:    3B-HHR-L.MS.MRG.3IMERG.20210106-S000000-E002959.0000.V06...\n",
       "    title:           GPM IMERG Late Precipitation L3 1 day 0.1 degree x 0.1 d...\n",
       "    DOI:             10.5067/GPM/IMERGDL/DAY/06\n",
       "    ProductionTime:  2021-01-07T14:50:33.490Z\n",
       "    ndays:           360\n",
       "    last_day:        2021-12-31"
      ]
     },
     "execution_count": 19,
     "metadata": {},
     "output_type": "execute_result"
    }
   ],
   "source": [
    "dset"
   ]
  },
  {
   "cell_type": "markdown",
   "id": "9ae07212-d1c4-4a33-b4f5-40974d6eda68",
   "metadata": {
    "papermill": {
     "duration": 0.017118,
     "end_time": "2022-01-06T21:49:41.224021",
     "exception": false,
     "start_time": "2022-01-06T21:49:41.206903",
     "status": "completed"
    },
    "tags": []
   },
   "source": [
    "### Now reads the SPI climatology (alpha and beta parameters for each day of year for given accumulation period)"
   ]
  },
  {
   "cell_type": "code",
   "execution_count": 20,
   "id": "f3a0cbbb-6c20-4951-8c2f-92ee489da002",
   "metadata": {
    "execution": {
     "iopub.execute_input": "2022-01-06T21:49:41.259355Z",
     "iopub.status.busy": "2022-01-06T21:49:41.259023Z",
     "iopub.status.idle": "2022-01-06T21:49:41.279097Z",
     "shell.execute_reply": "2022-01-06T21:49:41.278745Z"
    },
    "papermill": {
     "duration": 0.038747,
     "end_time": "2022-01-06T21:49:41.279180",
     "exception": false,
     "start_time": "2022-01-06T21:49:41.240433",
     "status": "completed"
    },
    "tags": []
   },
   "outputs": [],
   "source": [
    "SPI_climatology = xr.open_dataset(dpath.joinpath(f\"SPI_climatological_parameters_{ndays}_days.nc\")) "
   ]
  },
  {
   "cell_type": "code",
   "execution_count": 21,
   "id": "176d810b-2854-4e90-bc78-ec4877c0f60a",
   "metadata": {
    "execution": {
     "iopub.execute_input": "2022-01-06T21:49:41.314421Z",
     "iopub.status.busy": "2022-01-06T21:49:41.314098Z",
     "iopub.status.idle": "2022-01-06T21:49:41.335641Z",
     "shell.execute_reply": "2022-01-06T21:49:41.335375Z"
    },
    "papermill": {
     "duration": 0.039712,
     "end_time": "2022-01-06T21:49:41.335721",
     "exception": false,
     "start_time": "2022-01-06T21:49:41.296009",
     "status": "completed"
    },
    "tags": []
   },
   "outputs": [
    {
     "data": {
      "text/html": [
       "<div><svg style=\"position: absolute; width: 0; height: 0; overflow: hidden\">\n",
       "<defs>\n",
       "<symbol id=\"icon-database\" viewBox=\"0 0 32 32\">\n",
       "<path d=\"M16 0c-8.837 0-16 2.239-16 5v4c0 2.761 7.163 5 16 5s16-2.239 16-5v-4c0-2.761-7.163-5-16-5z\"></path>\n",
       "<path d=\"M16 17c-8.837 0-16-2.239-16-5v6c0 2.761 7.163 5 16 5s16-2.239 16-5v-6c0 2.761-7.163 5-16 5z\"></path>\n",
       "<path d=\"M16 26c-8.837 0-16-2.239-16-5v6c0 2.761 7.163 5 16 5s16-2.239 16-5v-6c0 2.761-7.163 5-16 5z\"></path>\n",
       "</symbol>\n",
       "<symbol id=\"icon-file-text2\" viewBox=\"0 0 32 32\">\n",
       "<path d=\"M28.681 7.159c-0.694-0.947-1.662-2.053-2.724-3.116s-2.169-2.030-3.116-2.724c-1.612-1.182-2.393-1.319-2.841-1.319h-15.5c-1.378 0-2.5 1.121-2.5 2.5v27c0 1.378 1.122 2.5 2.5 2.5h23c1.378 0 2.5-1.122 2.5-2.5v-19.5c0-0.448-0.137-1.23-1.319-2.841zM24.543 5.457c0.959 0.959 1.712 1.825 2.268 2.543h-4.811v-4.811c0.718 0.556 1.584 1.309 2.543 2.268zM28 29.5c0 0.271-0.229 0.5-0.5 0.5h-23c-0.271 0-0.5-0.229-0.5-0.5v-27c0-0.271 0.229-0.5 0.5-0.5 0 0 15.499-0 15.5 0v7c0 0.552 0.448 1 1 1h7v19.5z\"></path>\n",
       "<path d=\"M23 26h-14c-0.552 0-1-0.448-1-1s0.448-1 1-1h14c0.552 0 1 0.448 1 1s-0.448 1-1 1z\"></path>\n",
       "<path d=\"M23 22h-14c-0.552 0-1-0.448-1-1s0.448-1 1-1h14c0.552 0 1 0.448 1 1s-0.448 1-1 1z\"></path>\n",
       "<path d=\"M23 18h-14c-0.552 0-1-0.448-1-1s0.448-1 1-1h14c0.552 0 1 0.448 1 1s-0.448 1-1 1z\"></path>\n",
       "</symbol>\n",
       "</defs>\n",
       "</svg>\n",
       "<style>/* CSS stylesheet for displaying xarray objects in jupyterlab.\n",
       " *\n",
       " */\n",
       "\n",
       ":root {\n",
       "  --xr-font-color0: var(--jp-content-font-color0, rgba(0, 0, 0, 1));\n",
       "  --xr-font-color2: var(--jp-content-font-color2, rgba(0, 0, 0, 0.54));\n",
       "  --xr-font-color3: var(--jp-content-font-color3, rgba(0, 0, 0, 0.38));\n",
       "  --xr-border-color: var(--jp-border-color2, #e0e0e0);\n",
       "  --xr-disabled-color: var(--jp-layout-color3, #bdbdbd);\n",
       "  --xr-background-color: var(--jp-layout-color0, white);\n",
       "  --xr-background-color-row-even: var(--jp-layout-color1, white);\n",
       "  --xr-background-color-row-odd: var(--jp-layout-color2, #eeeeee);\n",
       "}\n",
       "\n",
       "html[theme=dark],\n",
       "body.vscode-dark {\n",
       "  --xr-font-color0: rgba(255, 255, 255, 1);\n",
       "  --xr-font-color2: rgba(255, 255, 255, 0.54);\n",
       "  --xr-font-color3: rgba(255, 255, 255, 0.38);\n",
       "  --xr-border-color: #1F1F1F;\n",
       "  --xr-disabled-color: #515151;\n",
       "  --xr-background-color: #111111;\n",
       "  --xr-background-color-row-even: #111111;\n",
       "  --xr-background-color-row-odd: #313131;\n",
       "}\n",
       "\n",
       ".xr-wrap {\n",
       "  display: block !important;\n",
       "  min-width: 300px;\n",
       "  max-width: 700px;\n",
       "}\n",
       "\n",
       ".xr-text-repr-fallback {\n",
       "  /* fallback to plain text repr when CSS is not injected (untrusted notebook) */\n",
       "  display: none;\n",
       "}\n",
       "\n",
       ".xr-header {\n",
       "  padding-top: 6px;\n",
       "  padding-bottom: 6px;\n",
       "  margin-bottom: 4px;\n",
       "  border-bottom: solid 1px var(--xr-border-color);\n",
       "}\n",
       "\n",
       ".xr-header > div,\n",
       ".xr-header > ul {\n",
       "  display: inline;\n",
       "  margin-top: 0;\n",
       "  margin-bottom: 0;\n",
       "}\n",
       "\n",
       ".xr-obj-type,\n",
       ".xr-array-name {\n",
       "  margin-left: 2px;\n",
       "  margin-right: 10px;\n",
       "}\n",
       "\n",
       ".xr-obj-type {\n",
       "  color: var(--xr-font-color2);\n",
       "}\n",
       "\n",
       ".xr-sections {\n",
       "  padding-left: 0 !important;\n",
       "  display: grid;\n",
       "  grid-template-columns: 150px auto auto 1fr 20px 20px;\n",
       "}\n",
       "\n",
       ".xr-section-item {\n",
       "  display: contents;\n",
       "}\n",
       "\n",
       ".xr-section-item input {\n",
       "  display: none;\n",
       "}\n",
       "\n",
       ".xr-section-item input + label {\n",
       "  color: var(--xr-disabled-color);\n",
       "}\n",
       "\n",
       ".xr-section-item input:enabled + label {\n",
       "  cursor: pointer;\n",
       "  color: var(--xr-font-color2);\n",
       "}\n",
       "\n",
       ".xr-section-item input:enabled + label:hover {\n",
       "  color: var(--xr-font-color0);\n",
       "}\n",
       "\n",
       ".xr-section-summary {\n",
       "  grid-column: 1;\n",
       "  color: var(--xr-font-color2);\n",
       "  font-weight: 500;\n",
       "}\n",
       "\n",
       ".xr-section-summary > span {\n",
       "  display: inline-block;\n",
       "  padding-left: 0.5em;\n",
       "}\n",
       "\n",
       ".xr-section-summary-in:disabled + label {\n",
       "  color: var(--xr-font-color2);\n",
       "}\n",
       "\n",
       ".xr-section-summary-in + label:before {\n",
       "  display: inline-block;\n",
       "  content: '►';\n",
       "  font-size: 11px;\n",
       "  width: 15px;\n",
       "  text-align: center;\n",
       "}\n",
       "\n",
       ".xr-section-summary-in:disabled + label:before {\n",
       "  color: var(--xr-disabled-color);\n",
       "}\n",
       "\n",
       ".xr-section-summary-in:checked + label:before {\n",
       "  content: '▼';\n",
       "}\n",
       "\n",
       ".xr-section-summary-in:checked + label > span {\n",
       "  display: none;\n",
       "}\n",
       "\n",
       ".xr-section-summary,\n",
       ".xr-section-inline-details {\n",
       "  padding-top: 4px;\n",
       "  padding-bottom: 4px;\n",
       "}\n",
       "\n",
       ".xr-section-inline-details {\n",
       "  grid-column: 2 / -1;\n",
       "}\n",
       "\n",
       ".xr-section-details {\n",
       "  display: none;\n",
       "  grid-column: 1 / -1;\n",
       "  margin-bottom: 5px;\n",
       "}\n",
       "\n",
       ".xr-section-summary-in:checked ~ .xr-section-details {\n",
       "  display: contents;\n",
       "}\n",
       "\n",
       ".xr-array-wrap {\n",
       "  grid-column: 1 / -1;\n",
       "  display: grid;\n",
       "  grid-template-columns: 20px auto;\n",
       "}\n",
       "\n",
       ".xr-array-wrap > label {\n",
       "  grid-column: 1;\n",
       "  vertical-align: top;\n",
       "}\n",
       "\n",
       ".xr-preview {\n",
       "  color: var(--xr-font-color3);\n",
       "}\n",
       "\n",
       ".xr-array-preview,\n",
       ".xr-array-data {\n",
       "  padding: 0 5px !important;\n",
       "  grid-column: 2;\n",
       "}\n",
       "\n",
       ".xr-array-data,\n",
       ".xr-array-in:checked ~ .xr-array-preview {\n",
       "  display: none;\n",
       "}\n",
       "\n",
       ".xr-array-in:checked ~ .xr-array-data,\n",
       ".xr-array-preview {\n",
       "  display: inline-block;\n",
       "}\n",
       "\n",
       ".xr-dim-list {\n",
       "  display: inline-block !important;\n",
       "  list-style: none;\n",
       "  padding: 0 !important;\n",
       "  margin: 0;\n",
       "}\n",
       "\n",
       ".xr-dim-list li {\n",
       "  display: inline-block;\n",
       "  padding: 0;\n",
       "  margin: 0;\n",
       "}\n",
       "\n",
       ".xr-dim-list:before {\n",
       "  content: '(';\n",
       "}\n",
       "\n",
       ".xr-dim-list:after {\n",
       "  content: ')';\n",
       "}\n",
       "\n",
       ".xr-dim-list li:not(:last-child):after {\n",
       "  content: ',';\n",
       "  padding-right: 5px;\n",
       "}\n",
       "\n",
       ".xr-has-index {\n",
       "  font-weight: bold;\n",
       "}\n",
       "\n",
       ".xr-var-list,\n",
       ".xr-var-item {\n",
       "  display: contents;\n",
       "}\n",
       "\n",
       ".xr-var-item > div,\n",
       ".xr-var-item label,\n",
       ".xr-var-item > .xr-var-name span {\n",
       "  background-color: var(--xr-background-color-row-even);\n",
       "  margin-bottom: 0;\n",
       "}\n",
       "\n",
       ".xr-var-item > .xr-var-name:hover span {\n",
       "  padding-right: 5px;\n",
       "}\n",
       "\n",
       ".xr-var-list > li:nth-child(odd) > div,\n",
       ".xr-var-list > li:nth-child(odd) > label,\n",
       ".xr-var-list > li:nth-child(odd) > .xr-var-name span {\n",
       "  background-color: var(--xr-background-color-row-odd);\n",
       "}\n",
       "\n",
       ".xr-var-name {\n",
       "  grid-column: 1;\n",
       "}\n",
       "\n",
       ".xr-var-dims {\n",
       "  grid-column: 2;\n",
       "}\n",
       "\n",
       ".xr-var-dtype {\n",
       "  grid-column: 3;\n",
       "  text-align: right;\n",
       "  color: var(--xr-font-color2);\n",
       "}\n",
       "\n",
       ".xr-var-preview {\n",
       "  grid-column: 4;\n",
       "}\n",
       "\n",
       ".xr-var-name,\n",
       ".xr-var-dims,\n",
       ".xr-var-dtype,\n",
       ".xr-preview,\n",
       ".xr-attrs dt {\n",
       "  white-space: nowrap;\n",
       "  overflow: hidden;\n",
       "  text-overflow: ellipsis;\n",
       "  padding-right: 10px;\n",
       "}\n",
       "\n",
       ".xr-var-name:hover,\n",
       ".xr-var-dims:hover,\n",
       ".xr-var-dtype:hover,\n",
       ".xr-attrs dt:hover {\n",
       "  overflow: visible;\n",
       "  width: auto;\n",
       "  z-index: 1;\n",
       "}\n",
       "\n",
       ".xr-var-attrs,\n",
       ".xr-var-data {\n",
       "  display: none;\n",
       "  background-color: var(--xr-background-color) !important;\n",
       "  padding-bottom: 5px !important;\n",
       "}\n",
       "\n",
       ".xr-var-attrs-in:checked ~ .xr-var-attrs,\n",
       ".xr-var-data-in:checked ~ .xr-var-data {\n",
       "  display: block;\n",
       "}\n",
       "\n",
       ".xr-var-data > table {\n",
       "  float: right;\n",
       "}\n",
       "\n",
       ".xr-var-name span,\n",
       ".xr-var-data,\n",
       ".xr-attrs {\n",
       "  padding-left: 25px !important;\n",
       "}\n",
       "\n",
       ".xr-attrs,\n",
       ".xr-var-attrs,\n",
       ".xr-var-data {\n",
       "  grid-column: 1 / -1;\n",
       "}\n",
       "\n",
       "dl.xr-attrs {\n",
       "  padding: 0;\n",
       "  margin: 0;\n",
       "  display: grid;\n",
       "  grid-template-columns: 125px auto;\n",
       "}\n",
       "\n",
       ".xr-attrs dt,\n",
       ".xr-attrs dd {\n",
       "  padding: 0;\n",
       "  margin: 0;\n",
       "  float: left;\n",
       "  padding-right: 10px;\n",
       "  width: auto;\n",
       "}\n",
       "\n",
       ".xr-attrs dt {\n",
       "  font-weight: normal;\n",
       "  grid-column: 1;\n",
       "}\n",
       "\n",
       ".xr-attrs dt:hover span {\n",
       "  display: inline-block;\n",
       "  background: var(--xr-background-color);\n",
       "  padding-right: 10px;\n",
       "}\n",
       "\n",
       ".xr-attrs dd {\n",
       "  grid-column: 2;\n",
       "  white-space: pre-wrap;\n",
       "  word-break: break-all;\n",
       "}\n",
       "\n",
       ".xr-icon-database,\n",
       ".xr-icon-file-text2 {\n",
       "  display: inline-block;\n",
       "  vertical-align: middle;\n",
       "  width: 1em;\n",
       "  height: 1.5em !important;\n",
       "  stroke-width: 0;\n",
       "  stroke: currentColor;\n",
       "  fill: currentColor;\n",
       "}\n",
       "</style><pre class='xr-text-repr-fallback'>&lt;xarray.Dataset&gt;\n",
       "Dimensions:  (lon: 460, lat: 300, doy: 366)\n",
       "Coordinates:\n",
       "  * lon      (lon) float64 125.1 125.4 125.6 125.9 ... 239.1 239.4 239.6 239.9\n",
       "  * lat      (lat) float64 -49.88 -49.62 -49.38 -49.12 ... 24.38 24.62 24.88\n",
       "Dimensions without coordinates: doy\n",
       "Data variables:\n",
       "    alpha    (doy, lat, lon) float64 ...\n",
       "    beta     (doy, lat, lon) float64 ...</pre><div class='xr-wrap' style='display:none'><div class='xr-header'><div class='xr-obj-type'>xarray.Dataset</div></div><ul class='xr-sections'><li class='xr-section-item'><input id='section-68af0c97-b8b1-4267-8df3-9d0e2e653781' class='xr-section-summary-in' type='checkbox' disabled ><label for='section-68af0c97-b8b1-4267-8df3-9d0e2e653781' class='xr-section-summary'  title='Expand/collapse section'>Dimensions:</label><div class='xr-section-inline-details'><ul class='xr-dim-list'><li><span class='xr-has-index'>lon</span>: 460</li><li><span class='xr-has-index'>lat</span>: 300</li><li><span>doy</span>: 366</li></ul></div><div class='xr-section-details'></div></li><li class='xr-section-item'><input id='section-5b80e9b1-44e7-44a3-b7d9-21e8825e9374' class='xr-section-summary-in' type='checkbox'  checked><label for='section-5b80e9b1-44e7-44a3-b7d9-21e8825e9374' class='xr-section-summary' >Coordinates: <span>(2)</span></label><div class='xr-section-inline-details'></div><div class='xr-section-details'><ul class='xr-var-list'><li class='xr-var-item'><div class='xr-var-name'><span class='xr-has-index'>lon</span></div><div class='xr-var-dims'>(lon)</div><div class='xr-var-dtype'>float64</div><div class='xr-var-preview xr-preview'>125.1 125.4 125.6 ... 239.6 239.9</div><input id='attrs-85a44e24-c8e7-4027-9fb0-0e459800aa1b' class='xr-var-attrs-in' type='checkbox' disabled><label for='attrs-85a44e24-c8e7-4027-9fb0-0e459800aa1b' title='Show/Hide attributes'><svg class='icon xr-icon-file-text2'><use xlink:href='#icon-file-text2'></use></svg></label><input id='data-8963be57-d14e-4439-a483-e6e64225fb79' class='xr-var-data-in' type='checkbox'><label for='data-8963be57-d14e-4439-a483-e6e64225fb79' title='Show/Hide data repr'><svg class='icon xr-icon-database'><use xlink:href='#icon-database'></use></svg></label><div class='xr-var-attrs'><dl class='xr-attrs'></dl></div><div class='xr-var-data'><pre>array([125.125, 125.375, 125.625, ..., 239.375, 239.625, 239.875])</pre></div></li><li class='xr-var-item'><div class='xr-var-name'><span class='xr-has-index'>lat</span></div><div class='xr-var-dims'>(lat)</div><div class='xr-var-dtype'>float64</div><div class='xr-var-preview xr-preview'>-49.88 -49.62 ... 24.62 24.88</div><input id='attrs-345e470e-406d-4652-8a6c-0037a79ede42' class='xr-var-attrs-in' type='checkbox' disabled><label for='attrs-345e470e-406d-4652-8a6c-0037a79ede42' title='Show/Hide attributes'><svg class='icon xr-icon-file-text2'><use xlink:href='#icon-file-text2'></use></svg></label><input id='data-77c8c8a6-2304-42cd-9d23-36aceb3024c2' class='xr-var-data-in' type='checkbox'><label for='data-77c8c8a6-2304-42cd-9d23-36aceb3024c2' title='Show/Hide data repr'><svg class='icon xr-icon-database'><use xlink:href='#icon-database'></use></svg></label><div class='xr-var-attrs'><dl class='xr-attrs'></dl></div><div class='xr-var-data'><pre>array([-49.875, -49.625, -49.375, ...,  24.375,  24.625,  24.875])</pre></div></li></ul></div></li><li class='xr-section-item'><input id='section-975e5bd7-8211-42b5-9a21-6f3ccff0d331' class='xr-section-summary-in' type='checkbox'  checked><label for='section-975e5bd7-8211-42b5-9a21-6f3ccff0d331' class='xr-section-summary' >Data variables: <span>(2)</span></label><div class='xr-section-inline-details'></div><div class='xr-section-details'><ul class='xr-var-list'><li class='xr-var-item'><div class='xr-var-name'><span>alpha</span></div><div class='xr-var-dims'>(doy, lat, lon)</div><div class='xr-var-dtype'>float64</div><div class='xr-var-preview xr-preview'>...</div><input id='attrs-7bb7a963-d306-46dd-b160-2517eae61e82' class='xr-var-attrs-in' type='checkbox' disabled><label for='attrs-7bb7a963-d306-46dd-b160-2517eae61e82' title='Show/Hide attributes'><svg class='icon xr-icon-file-text2'><use xlink:href='#icon-file-text2'></use></svg></label><input id='data-773ff714-816b-4b4b-8077-3e4a9afabdea' class='xr-var-data-in' type='checkbox'><label for='data-773ff714-816b-4b4b-8077-3e4a9afabdea' title='Show/Hide data repr'><svg class='icon xr-icon-database'><use xlink:href='#icon-database'></use></svg></label><div class='xr-var-attrs'><dl class='xr-attrs'></dl></div><div class='xr-var-data'><pre>[50508000 values with dtype=float64]</pre></div></li><li class='xr-var-item'><div class='xr-var-name'><span>beta</span></div><div class='xr-var-dims'>(doy, lat, lon)</div><div class='xr-var-dtype'>float64</div><div class='xr-var-preview xr-preview'>...</div><input id='attrs-9a3dcbdd-bae1-4652-8e3b-711a45395963' class='xr-var-attrs-in' type='checkbox' disabled><label for='attrs-9a3dcbdd-bae1-4652-8e3b-711a45395963' title='Show/Hide attributes'><svg class='icon xr-icon-file-text2'><use xlink:href='#icon-file-text2'></use></svg></label><input id='data-4a5e23ce-15bc-44c5-8397-9c571e2c5328' class='xr-var-data-in' type='checkbox'><label for='data-4a5e23ce-15bc-44c5-8397-9c571e2c5328' title='Show/Hide data repr'><svg class='icon xr-icon-database'><use xlink:href='#icon-database'></use></svg></label><div class='xr-var-attrs'><dl class='xr-attrs'></dl></div><div class='xr-var-data'><pre>[50508000 values with dtype=float64]</pre></div></li></ul></div></li><li class='xr-section-item'><input id='section-34cc67b1-11f7-4779-b548-0c02b3165707' class='xr-section-summary-in' type='checkbox' disabled ><label for='section-34cc67b1-11f7-4779-b548-0c02b3165707' class='xr-section-summary'  title='Expand/collapse section'>Attributes: <span>(0)</span></label><div class='xr-section-inline-details'></div><div class='xr-section-details'><dl class='xr-attrs'></dl></div></li></ul></div></div>"
      ],
      "text/plain": [
       "<xarray.Dataset>\n",
       "Dimensions:  (lon: 460, lat: 300, doy: 366)\n",
       "Coordinates:\n",
       "  * lon      (lon) float64 125.1 125.4 125.6 125.9 ... 239.1 239.4 239.6 239.9\n",
       "  * lat      (lat) float64 -49.88 -49.62 -49.38 -49.12 ... 24.38 24.62 24.88\n",
       "Dimensions without coordinates: doy\n",
       "Data variables:\n",
       "    alpha    (doy, lat, lon) float64 ...\n",
       "    beta     (doy, lat, lon) float64 ..."
      ]
     },
     "execution_count": 21,
     "metadata": {},
     "output_type": "execute_result"
    }
   ],
   "source": [
    "SPI_climatology"
   ]
  },
  {
   "cell_type": "markdown",
   "id": "38c87474-f32d-4e7c-8c6a-1e86ef422618",
   "metadata": {
    "papermill": {
     "duration": 0.01716,
     "end_time": "2022-01-06T21:49:41.369544",
     "exception": false,
     "start_time": "2022-01-06T21:49:41.352384",
     "status": "completed"
    },
    "tags": []
   },
   "source": [
    "### selects the day of year corresponding to the last day "
   ]
  },
  {
   "cell_type": "code",
   "execution_count": 22,
   "id": "27563327-4e42-48e6-bb8f-11808083b7d8",
   "metadata": {
    "execution": {
     "iopub.execute_input": "2022-01-06T21:49:41.405603Z",
     "iopub.status.busy": "2022-01-06T21:49:41.405228Z",
     "iopub.status.idle": "2022-01-06T21:49:41.421336Z",
     "shell.execute_reply": "2022-01-06T21:49:41.421070Z"
    },
    "papermill": {
     "duration": 0.035191,
     "end_time": "2022-01-06T21:49:41.421417",
     "exception": false,
     "start_time": "2022-01-06T21:49:41.386226",
     "status": "completed"
    },
    "tags": []
   },
   "outputs": [],
   "source": [
    "SPI_climatology = SPI_climatology.sel(doy=last_day.timetuple().tm_yday)"
   ]
  },
  {
   "cell_type": "code",
   "execution_count": 23,
   "id": "cb97182b",
   "metadata": {
    "execution": {
     "iopub.execute_input": "2022-01-06T21:49:41.456505Z",
     "iopub.status.busy": "2022-01-06T21:49:41.456193Z",
     "iopub.status.idle": "2022-01-06T21:49:44.378436Z",
     "shell.execute_reply": "2022-01-06T21:49:44.378728Z"
    },
    "papermill": {
     "duration": 2.941083,
     "end_time": "2022-01-06T21:49:44.378868",
     "exception": false,
     "start_time": "2022-01-06T21:49:41.437785",
     "status": "completed"
    },
    "tags": []
   },
   "outputs": [],
   "source": [
    "norm_spi_realtime = GPM.calculate_SPI(dset['precipitationCal'], SPI_climatology['alpha'], SPI_climatology['beta']) "
   ]
  },
  {
   "cell_type": "code",
   "execution_count": 24,
   "id": "d4a831bc-f117-4a4f-a332-3d44b3fdaf53",
   "metadata": {
    "execution": {
     "iopub.execute_input": "2022-01-06T21:49:44.416672Z",
     "iopub.status.busy": "2022-01-06T21:49:44.416318Z",
     "iopub.status.idle": "2022-01-06T21:49:44.438567Z",
     "shell.execute_reply": "2022-01-06T21:49:44.438824Z"
    },
    "papermill": {
     "duration": 0.042423,
     "end_time": "2022-01-06T21:49:44.438922",
     "exception": false,
     "start_time": "2022-01-06T21:49:44.396499",
     "status": "completed"
    },
    "tags": []
   },
   "outputs": [
    {
     "data": {
      "text/html": [
       "<div><svg style=\"position: absolute; width: 0; height: 0; overflow: hidden\">\n",
       "<defs>\n",
       "<symbol id=\"icon-database\" viewBox=\"0 0 32 32\">\n",
       "<path d=\"M16 0c-8.837 0-16 2.239-16 5v4c0 2.761 7.163 5 16 5s16-2.239 16-5v-4c0-2.761-7.163-5-16-5z\"></path>\n",
       "<path d=\"M16 17c-8.837 0-16-2.239-16-5v6c0 2.761 7.163 5 16 5s16-2.239 16-5v-6c0 2.761-7.163 5-16 5z\"></path>\n",
       "<path d=\"M16 26c-8.837 0-16-2.239-16-5v6c0 2.761 7.163 5 16 5s16-2.239 16-5v-6c0 2.761-7.163 5-16 5z\"></path>\n",
       "</symbol>\n",
       "<symbol id=\"icon-file-text2\" viewBox=\"0 0 32 32\">\n",
       "<path d=\"M28.681 7.159c-0.694-0.947-1.662-2.053-2.724-3.116s-2.169-2.030-3.116-2.724c-1.612-1.182-2.393-1.319-2.841-1.319h-15.5c-1.378 0-2.5 1.121-2.5 2.5v27c0 1.378 1.122 2.5 2.5 2.5h23c1.378 0 2.5-1.122 2.5-2.5v-19.5c0-0.448-0.137-1.23-1.319-2.841zM24.543 5.457c0.959 0.959 1.712 1.825 2.268 2.543h-4.811v-4.811c0.718 0.556 1.584 1.309 2.543 2.268zM28 29.5c0 0.271-0.229 0.5-0.5 0.5h-23c-0.271 0-0.5-0.229-0.5-0.5v-27c0-0.271 0.229-0.5 0.5-0.5 0 0 15.499-0 15.5 0v7c0 0.552 0.448 1 1 1h7v19.5z\"></path>\n",
       "<path d=\"M23 26h-14c-0.552 0-1-0.448-1-1s0.448-1 1-1h14c0.552 0 1 0.448 1 1s-0.448 1-1 1z\"></path>\n",
       "<path d=\"M23 22h-14c-0.552 0-1-0.448-1-1s0.448-1 1-1h14c0.552 0 1 0.448 1 1s-0.448 1-1 1z\"></path>\n",
       "<path d=\"M23 18h-14c-0.552 0-1-0.448-1-1s0.448-1 1-1h14c0.552 0 1 0.448 1 1s-0.448 1-1 1z\"></path>\n",
       "</symbol>\n",
       "</defs>\n",
       "</svg>\n",
       "<style>/* CSS stylesheet for displaying xarray objects in jupyterlab.\n",
       " *\n",
       " */\n",
       "\n",
       ":root {\n",
       "  --xr-font-color0: var(--jp-content-font-color0, rgba(0, 0, 0, 1));\n",
       "  --xr-font-color2: var(--jp-content-font-color2, rgba(0, 0, 0, 0.54));\n",
       "  --xr-font-color3: var(--jp-content-font-color3, rgba(0, 0, 0, 0.38));\n",
       "  --xr-border-color: var(--jp-border-color2, #e0e0e0);\n",
       "  --xr-disabled-color: var(--jp-layout-color3, #bdbdbd);\n",
       "  --xr-background-color: var(--jp-layout-color0, white);\n",
       "  --xr-background-color-row-even: var(--jp-layout-color1, white);\n",
       "  --xr-background-color-row-odd: var(--jp-layout-color2, #eeeeee);\n",
       "}\n",
       "\n",
       "html[theme=dark],\n",
       "body.vscode-dark {\n",
       "  --xr-font-color0: rgba(255, 255, 255, 1);\n",
       "  --xr-font-color2: rgba(255, 255, 255, 0.54);\n",
       "  --xr-font-color3: rgba(255, 255, 255, 0.38);\n",
       "  --xr-border-color: #1F1F1F;\n",
       "  --xr-disabled-color: #515151;\n",
       "  --xr-background-color: #111111;\n",
       "  --xr-background-color-row-even: #111111;\n",
       "  --xr-background-color-row-odd: #313131;\n",
       "}\n",
       "\n",
       ".xr-wrap {\n",
       "  display: block !important;\n",
       "  min-width: 300px;\n",
       "  max-width: 700px;\n",
       "}\n",
       "\n",
       ".xr-text-repr-fallback {\n",
       "  /* fallback to plain text repr when CSS is not injected (untrusted notebook) */\n",
       "  display: none;\n",
       "}\n",
       "\n",
       ".xr-header {\n",
       "  padding-top: 6px;\n",
       "  padding-bottom: 6px;\n",
       "  margin-bottom: 4px;\n",
       "  border-bottom: solid 1px var(--xr-border-color);\n",
       "}\n",
       "\n",
       ".xr-header > div,\n",
       ".xr-header > ul {\n",
       "  display: inline;\n",
       "  margin-top: 0;\n",
       "  margin-bottom: 0;\n",
       "}\n",
       "\n",
       ".xr-obj-type,\n",
       ".xr-array-name {\n",
       "  margin-left: 2px;\n",
       "  margin-right: 10px;\n",
       "}\n",
       "\n",
       ".xr-obj-type {\n",
       "  color: var(--xr-font-color2);\n",
       "}\n",
       "\n",
       ".xr-sections {\n",
       "  padding-left: 0 !important;\n",
       "  display: grid;\n",
       "  grid-template-columns: 150px auto auto 1fr 20px 20px;\n",
       "}\n",
       "\n",
       ".xr-section-item {\n",
       "  display: contents;\n",
       "}\n",
       "\n",
       ".xr-section-item input {\n",
       "  display: none;\n",
       "}\n",
       "\n",
       ".xr-section-item input + label {\n",
       "  color: var(--xr-disabled-color);\n",
       "}\n",
       "\n",
       ".xr-section-item input:enabled + label {\n",
       "  cursor: pointer;\n",
       "  color: var(--xr-font-color2);\n",
       "}\n",
       "\n",
       ".xr-section-item input:enabled + label:hover {\n",
       "  color: var(--xr-font-color0);\n",
       "}\n",
       "\n",
       ".xr-section-summary {\n",
       "  grid-column: 1;\n",
       "  color: var(--xr-font-color2);\n",
       "  font-weight: 500;\n",
       "}\n",
       "\n",
       ".xr-section-summary > span {\n",
       "  display: inline-block;\n",
       "  padding-left: 0.5em;\n",
       "}\n",
       "\n",
       ".xr-section-summary-in:disabled + label {\n",
       "  color: var(--xr-font-color2);\n",
       "}\n",
       "\n",
       ".xr-section-summary-in + label:before {\n",
       "  display: inline-block;\n",
       "  content: '►';\n",
       "  font-size: 11px;\n",
       "  width: 15px;\n",
       "  text-align: center;\n",
       "}\n",
       "\n",
       ".xr-section-summary-in:disabled + label:before {\n",
       "  color: var(--xr-disabled-color);\n",
       "}\n",
       "\n",
       ".xr-section-summary-in:checked + label:before {\n",
       "  content: '▼';\n",
       "}\n",
       "\n",
       ".xr-section-summary-in:checked + label > span {\n",
       "  display: none;\n",
       "}\n",
       "\n",
       ".xr-section-summary,\n",
       ".xr-section-inline-details {\n",
       "  padding-top: 4px;\n",
       "  padding-bottom: 4px;\n",
       "}\n",
       "\n",
       ".xr-section-inline-details {\n",
       "  grid-column: 2 / -1;\n",
       "}\n",
       "\n",
       ".xr-section-details {\n",
       "  display: none;\n",
       "  grid-column: 1 / -1;\n",
       "  margin-bottom: 5px;\n",
       "}\n",
       "\n",
       ".xr-section-summary-in:checked ~ .xr-section-details {\n",
       "  display: contents;\n",
       "}\n",
       "\n",
       ".xr-array-wrap {\n",
       "  grid-column: 1 / -1;\n",
       "  display: grid;\n",
       "  grid-template-columns: 20px auto;\n",
       "}\n",
       "\n",
       ".xr-array-wrap > label {\n",
       "  grid-column: 1;\n",
       "  vertical-align: top;\n",
       "}\n",
       "\n",
       ".xr-preview {\n",
       "  color: var(--xr-font-color3);\n",
       "}\n",
       "\n",
       ".xr-array-preview,\n",
       ".xr-array-data {\n",
       "  padding: 0 5px !important;\n",
       "  grid-column: 2;\n",
       "}\n",
       "\n",
       ".xr-array-data,\n",
       ".xr-array-in:checked ~ .xr-array-preview {\n",
       "  display: none;\n",
       "}\n",
       "\n",
       ".xr-array-in:checked ~ .xr-array-data,\n",
       ".xr-array-preview {\n",
       "  display: inline-block;\n",
       "}\n",
       "\n",
       ".xr-dim-list {\n",
       "  display: inline-block !important;\n",
       "  list-style: none;\n",
       "  padding: 0 !important;\n",
       "  margin: 0;\n",
       "}\n",
       "\n",
       ".xr-dim-list li {\n",
       "  display: inline-block;\n",
       "  padding: 0;\n",
       "  margin: 0;\n",
       "}\n",
       "\n",
       ".xr-dim-list:before {\n",
       "  content: '(';\n",
       "}\n",
       "\n",
       ".xr-dim-list:after {\n",
       "  content: ')';\n",
       "}\n",
       "\n",
       ".xr-dim-list li:not(:last-child):after {\n",
       "  content: ',';\n",
       "  padding-right: 5px;\n",
       "}\n",
       "\n",
       ".xr-has-index {\n",
       "  font-weight: bold;\n",
       "}\n",
       "\n",
       ".xr-var-list,\n",
       ".xr-var-item {\n",
       "  display: contents;\n",
       "}\n",
       "\n",
       ".xr-var-item > div,\n",
       ".xr-var-item label,\n",
       ".xr-var-item > .xr-var-name span {\n",
       "  background-color: var(--xr-background-color-row-even);\n",
       "  margin-bottom: 0;\n",
       "}\n",
       "\n",
       ".xr-var-item > .xr-var-name:hover span {\n",
       "  padding-right: 5px;\n",
       "}\n",
       "\n",
       ".xr-var-list > li:nth-child(odd) > div,\n",
       ".xr-var-list > li:nth-child(odd) > label,\n",
       ".xr-var-list > li:nth-child(odd) > .xr-var-name span {\n",
       "  background-color: var(--xr-background-color-row-odd);\n",
       "}\n",
       "\n",
       ".xr-var-name {\n",
       "  grid-column: 1;\n",
       "}\n",
       "\n",
       ".xr-var-dims {\n",
       "  grid-column: 2;\n",
       "}\n",
       "\n",
       ".xr-var-dtype {\n",
       "  grid-column: 3;\n",
       "  text-align: right;\n",
       "  color: var(--xr-font-color2);\n",
       "}\n",
       "\n",
       ".xr-var-preview {\n",
       "  grid-column: 4;\n",
       "}\n",
       "\n",
       ".xr-var-name,\n",
       ".xr-var-dims,\n",
       ".xr-var-dtype,\n",
       ".xr-preview,\n",
       ".xr-attrs dt {\n",
       "  white-space: nowrap;\n",
       "  overflow: hidden;\n",
       "  text-overflow: ellipsis;\n",
       "  padding-right: 10px;\n",
       "}\n",
       "\n",
       ".xr-var-name:hover,\n",
       ".xr-var-dims:hover,\n",
       ".xr-var-dtype:hover,\n",
       ".xr-attrs dt:hover {\n",
       "  overflow: visible;\n",
       "  width: auto;\n",
       "  z-index: 1;\n",
       "}\n",
       "\n",
       ".xr-var-attrs,\n",
       ".xr-var-data {\n",
       "  display: none;\n",
       "  background-color: var(--xr-background-color) !important;\n",
       "  padding-bottom: 5px !important;\n",
       "}\n",
       "\n",
       ".xr-var-attrs-in:checked ~ .xr-var-attrs,\n",
       ".xr-var-data-in:checked ~ .xr-var-data {\n",
       "  display: block;\n",
       "}\n",
       "\n",
       ".xr-var-data > table {\n",
       "  float: right;\n",
       "}\n",
       "\n",
       ".xr-var-name span,\n",
       ".xr-var-data,\n",
       ".xr-attrs {\n",
       "  padding-left: 25px !important;\n",
       "}\n",
       "\n",
       ".xr-attrs,\n",
       ".xr-var-attrs,\n",
       ".xr-var-data {\n",
       "  grid-column: 1 / -1;\n",
       "}\n",
       "\n",
       "dl.xr-attrs {\n",
       "  padding: 0;\n",
       "  margin: 0;\n",
       "  display: grid;\n",
       "  grid-template-columns: 125px auto;\n",
       "}\n",
       "\n",
       ".xr-attrs dt,\n",
       ".xr-attrs dd {\n",
       "  padding: 0;\n",
       "  margin: 0;\n",
       "  float: left;\n",
       "  padding-right: 10px;\n",
       "  width: auto;\n",
       "}\n",
       "\n",
       ".xr-attrs dt {\n",
       "  font-weight: normal;\n",
       "  grid-column: 1;\n",
       "}\n",
       "\n",
       ".xr-attrs dt:hover span {\n",
       "  display: inline-block;\n",
       "  background: var(--xr-background-color);\n",
       "  padding-right: 10px;\n",
       "}\n",
       "\n",
       ".xr-attrs dd {\n",
       "  grid-column: 2;\n",
       "  white-space: pre-wrap;\n",
       "  word-break: break-all;\n",
       "}\n",
       "\n",
       ".xr-icon-database,\n",
       ".xr-icon-file-text2 {\n",
       "  display: inline-block;\n",
       "  vertical-align: middle;\n",
       "  width: 1em;\n",
       "  height: 1.5em !important;\n",
       "  stroke-width: 0;\n",
       "  stroke: currentColor;\n",
       "  fill: currentColor;\n",
       "}\n",
       "</style><pre class='xr-text-repr-fallback'>&lt;xarray.Dataset&gt;\n",
       "Dimensions:  (lon: 460, lat: 300)\n",
       "Coordinates:\n",
       "  * lon      (lon) float64 125.1 125.4 125.6 125.9 ... 239.1 239.4 239.6 239.9\n",
       "  * lat      (lat) float64 -49.88 -49.62 -49.38 -49.12 ... 24.38 24.62 24.88\n",
       "Data variables:\n",
       "    SPI      (lat, lon) float64 0.6619 0.7445 0.5129 ... -0.3618 -0.276 -0.161</pre><div class='xr-wrap' style='display:none'><div class='xr-header'><div class='xr-obj-type'>xarray.Dataset</div></div><ul class='xr-sections'><li class='xr-section-item'><input id='section-79a33df9-c2db-489f-bd1f-5963cacc8e78' class='xr-section-summary-in' type='checkbox' disabled ><label for='section-79a33df9-c2db-489f-bd1f-5963cacc8e78' class='xr-section-summary'  title='Expand/collapse section'>Dimensions:</label><div class='xr-section-inline-details'><ul class='xr-dim-list'><li><span class='xr-has-index'>lon</span>: 460</li><li><span class='xr-has-index'>lat</span>: 300</li></ul></div><div class='xr-section-details'></div></li><li class='xr-section-item'><input id='section-123236d9-b042-460f-9be1-ee19d2d674bb' class='xr-section-summary-in' type='checkbox'  checked><label for='section-123236d9-b042-460f-9be1-ee19d2d674bb' class='xr-section-summary' >Coordinates: <span>(2)</span></label><div class='xr-section-inline-details'></div><div class='xr-section-details'><ul class='xr-var-list'><li class='xr-var-item'><div class='xr-var-name'><span class='xr-has-index'>lon</span></div><div class='xr-var-dims'>(lon)</div><div class='xr-var-dtype'>float64</div><div class='xr-var-preview xr-preview'>125.1 125.4 125.6 ... 239.6 239.9</div><input id='attrs-41613d53-6531-493f-bca0-8c874d927b32' class='xr-var-attrs-in' type='checkbox' disabled><label for='attrs-41613d53-6531-493f-bca0-8c874d927b32' title='Show/Hide attributes'><svg class='icon xr-icon-file-text2'><use xlink:href='#icon-file-text2'></use></svg></label><input id='data-8ef36797-534b-414c-8097-00864af5b894' class='xr-var-data-in' type='checkbox'><label for='data-8ef36797-534b-414c-8097-00864af5b894' title='Show/Hide data repr'><svg class='icon xr-icon-database'><use xlink:href='#icon-database'></use></svg></label><div class='xr-var-attrs'><dl class='xr-attrs'></dl></div><div class='xr-var-data'><pre>array([125.125, 125.375, 125.625, ..., 239.375, 239.625, 239.875])</pre></div></li><li class='xr-var-item'><div class='xr-var-name'><span class='xr-has-index'>lat</span></div><div class='xr-var-dims'>(lat)</div><div class='xr-var-dtype'>float64</div><div class='xr-var-preview xr-preview'>-49.88 -49.62 ... 24.62 24.88</div><input id='attrs-1579527a-24e8-4920-bf7d-9bcf5ac74d5c' class='xr-var-attrs-in' type='checkbox' disabled><label for='attrs-1579527a-24e8-4920-bf7d-9bcf5ac74d5c' title='Show/Hide attributes'><svg class='icon xr-icon-file-text2'><use xlink:href='#icon-file-text2'></use></svg></label><input id='data-ed20f143-85cc-474a-9204-93a299722ac9' class='xr-var-data-in' type='checkbox'><label for='data-ed20f143-85cc-474a-9204-93a299722ac9' title='Show/Hide data repr'><svg class='icon xr-icon-database'><use xlink:href='#icon-database'></use></svg></label><div class='xr-var-attrs'><dl class='xr-attrs'></dl></div><div class='xr-var-data'><pre>array([-49.875, -49.625, -49.375, ...,  24.375,  24.625,  24.875])</pre></div></li></ul></div></li><li class='xr-section-item'><input id='section-e9f6ebba-6750-49dc-a7e2-c10c7392486b' class='xr-section-summary-in' type='checkbox'  checked><label for='section-e9f6ebba-6750-49dc-a7e2-c10c7392486b' class='xr-section-summary' >Data variables: <span>(1)</span></label><div class='xr-section-inline-details'></div><div class='xr-section-details'><ul class='xr-var-list'><li class='xr-var-item'><div class='xr-var-name'><span>SPI</span></div><div class='xr-var-dims'>(lat, lon)</div><div class='xr-var-dtype'>float64</div><div class='xr-var-preview xr-preview'>0.6619 0.7445 ... -0.276 -0.161</div><input id='attrs-c7a84d35-dc3f-4f17-a383-bbf03e13eae4' class='xr-var-attrs-in' type='checkbox' disabled><label for='attrs-c7a84d35-dc3f-4f17-a383-bbf03e13eae4' title='Show/Hide attributes'><svg class='icon xr-icon-file-text2'><use xlink:href='#icon-file-text2'></use></svg></label><input id='data-3c476e9e-0ea6-4015-8e8d-205fcc2268b4' class='xr-var-data-in' type='checkbox'><label for='data-3c476e9e-0ea6-4015-8e8d-205fcc2268b4' title='Show/Hide data repr'><svg class='icon xr-icon-database'><use xlink:href='#icon-database'></use></svg></label><div class='xr-var-attrs'><dl class='xr-attrs'></dl></div><div class='xr-var-data'><pre>array([[ 0.66191533,  0.74451954,  0.51290638, ...,  1.23881753,\n",
       "         1.19607627,  1.25111731],\n",
       "       [ 0.49096108,  0.58679071,  0.28493692, ...,  1.00668655,\n",
       "         1.17253799,  1.35425596],\n",
       "       [ 0.09786006,  0.09531445,  0.12816976, ...,  0.9216531 ,\n",
       "         1.14361294,  1.20112724],\n",
       "       ...,\n",
       "       [-1.46984161, -1.16108202, -0.95079846, ...,  0.23786605,\n",
       "         0.48623271,  0.68279002],\n",
       "       [-1.53051634, -1.43904148, -1.07906671, ..., -0.41212608,\n",
       "        -0.17974733, -0.00536741],\n",
       "       [-1.99302556, -1.65404079, -1.25716419, ..., -0.36179839,\n",
       "        -0.27601788, -0.1610133 ]])</pre></div></li></ul></div></li><li class='xr-section-item'><input id='section-255b5ff0-9837-46c3-82fd-2136e996f195' class='xr-section-summary-in' type='checkbox' disabled ><label for='section-255b5ff0-9837-46c3-82fd-2136e996f195' class='xr-section-summary'  title='Expand/collapse section'>Attributes: <span>(0)</span></label><div class='xr-section-inline-details'></div><div class='xr-section-details'><dl class='xr-attrs'></dl></div></li></ul></div></div>"
      ],
      "text/plain": [
       "<xarray.Dataset>\n",
       "Dimensions:  (lon: 460, lat: 300)\n",
       "Coordinates:\n",
       "  * lon      (lon) float64 125.1 125.4 125.6 125.9 ... 239.1 239.4 239.6 239.9\n",
       "  * lat      (lat) float64 -49.88 -49.62 -49.38 -49.12 ... 24.38 24.62 24.88\n",
       "Data variables:\n",
       "    SPI      (lat, lon) float64 0.6619 0.7445 0.5129 ... -0.3618 -0.276 -0.161"
      ]
     },
     "execution_count": 24,
     "metadata": {},
     "output_type": "execute_result"
    }
   ],
   "source": [
    "norm_spi_realtime"
   ]
  },
  {
   "cell_type": "markdown",
   "id": "041aa691",
   "metadata": {
    "papermill": {
     "duration": 0.017627,
     "end_time": "2022-01-06T21:49:44.474350",
     "exception": false,
     "start_time": "2022-01-06T21:49:44.456723",
     "status": "completed"
    },
    "tags": []
   },
   "source": [
    "### adds global attributes for number of days and last day in the dataset "
   ]
  },
  {
   "cell_type": "code",
   "execution_count": 25,
   "id": "0ba31ab1",
   "metadata": {
    "execution": {
     "iopub.execute_input": "2022-01-06T21:49:44.512437Z",
     "iopub.status.busy": "2022-01-06T21:49:44.512077Z",
     "iopub.status.idle": "2022-01-06T21:49:44.530624Z",
     "shell.execute_reply": "2022-01-06T21:49:44.530272Z"
    },
    "papermill": {
     "duration": 0.038613,
     "end_time": "2022-01-06T21:49:44.530706",
     "exception": false,
     "start_time": "2022-01-06T21:49:44.492093",
     "status": "completed"
    },
    "tags": []
   },
   "outputs": [],
   "source": [
    "norm_spi_realtime = GPM.set_attrs(norm_spi_realtime, ndays=ndays, last_day=last_day)"
   ]
  },
  {
   "cell_type": "markdown",
   "id": "0c50c34f",
   "metadata": {
    "papermill": {
     "duration": 0.018991,
     "end_time": "2022-01-06T21:49:44.570174",
     "exception": false,
     "start_time": "2022-01-06T21:49:44.551183",
     "status": "completed"
    },
    "tags": []
   },
   "source": [
    "### reads in the EEZs "
   ]
  },
  {
   "cell_type": "code",
   "execution_count": 26,
   "id": "f8c28615",
   "metadata": {
    "execution": {
     "iopub.execute_input": "2022-01-06T21:49:44.610440Z",
     "iopub.status.busy": "2022-01-06T21:49:44.610120Z",
     "iopub.status.idle": "2022-01-06T21:49:44.626667Z",
     "shell.execute_reply": "2022-01-06T21:49:44.626387Z"
    },
    "papermill": {
     "duration": 0.036137,
     "end_time": "2022-01-06T21:49:44.626749",
     "exception": false,
     "start_time": "2022-01-06T21:49:44.590612",
     "status": "completed"
    },
    "tags": []
   },
   "outputs": [],
   "source": [
    "from ICU_Water_Watch import geo"
   ]
  },
  {
   "cell_type": "code",
   "execution_count": 27,
   "id": "aff252ad",
   "metadata": {
    "execution": {
     "iopub.execute_input": "2022-01-06T21:49:44.671311Z",
     "iopub.status.busy": "2022-01-06T21:49:44.670991Z",
     "iopub.status.idle": "2022-01-06T21:49:44.707597Z",
     "shell.execute_reply": "2022-01-06T21:49:44.707862Z"
    },
    "papermill": {
     "duration": 0.059095,
     "end_time": "2022-01-06T21:49:44.707993",
     "exception": false,
     "start_time": "2022-01-06T21:49:44.648898",
     "status": "completed"
    },
    "tags": []
   },
   "outputs": [],
   "source": [
    "EEZs, merged_EEZs = geo.get_EEZs(dpath_shapes=dpath_shapes)"
   ]
  },
  {
   "cell_type": "markdown",
   "id": "c6a3f19c",
   "metadata": {
    "papermill": {
     "duration": 0.023759,
     "end_time": "2022-01-06T21:49:44.752330",
     "exception": false,
     "start_time": "2022-01-06T21:49:44.728571",
     "status": "completed"
    },
    "tags": []
   },
   "source": [
    "### reads in the coastlines "
   ]
  },
  {
   "cell_type": "code",
   "execution_count": 28,
   "id": "7b6d441b",
   "metadata": {
    "execution": {
     "iopub.execute_input": "2022-01-06T21:49:44.792848Z",
     "iopub.status.busy": "2022-01-06T21:49:44.792524Z",
     "iopub.status.idle": "2022-01-06T21:49:44.889259Z",
     "shell.execute_reply": "2022-01-06T21:49:44.888897Z"
    },
    "papermill": {
     "duration": 0.117101,
     "end_time": "2022-01-06T21:49:44.889344",
     "exception": false,
     "start_time": "2022-01-06T21:49:44.772243",
     "status": "completed"
    },
    "tags": []
   },
   "outputs": [],
   "source": [
    "coastlines = geo.get_coastlines(dpath_shapes=dpath_shapes)"
   ]
  },
  {
   "cell_type": "markdown",
   "id": "3f728bad",
   "metadata": {
    "papermill": {
     "duration": 0.017267,
     "end_time": "2022-01-06T21:49:44.926544",
     "exception": false,
     "start_time": "2022-01-06T21:49:44.909277",
     "status": "completed"
    },
    "tags": []
   },
   "source": [
    "### adds the EEZ mask to the dataset "
   ]
  },
  {
   "cell_type": "code",
   "execution_count": 29,
   "id": "e31403ca",
   "metadata": {
    "execution": {
     "iopub.execute_input": "2022-01-06T21:49:44.965382Z",
     "iopub.status.busy": "2022-01-06T21:49:44.965036Z",
     "iopub.status.idle": "2022-01-06T21:49:45.032932Z",
     "shell.execute_reply": "2022-01-06T21:49:45.033184Z"
    },
    "papermill": {
     "duration": 0.08878,
     "end_time": "2022-01-06T21:49:45.033289",
     "exception": false,
     "start_time": "2022-01-06T21:49:44.944509",
     "status": "completed"
    },
    "tags": []
   },
   "outputs": [],
   "source": [
    "norm_spi_realtime = geo.make_mask_from_gpd(norm_spi_realtime, merged_EEZs, subset=True, mask_name='EEZ')"
   ]
  },
  {
   "cell_type": "code",
   "execution_count": 30,
   "id": "7bc5ef00",
   "metadata": {
    "execution": {
     "iopub.execute_input": "2022-01-06T21:49:45.071977Z",
     "iopub.status.busy": "2022-01-06T21:49:45.071652Z",
     "iopub.status.idle": "2022-01-06T21:49:45.089049Z",
     "shell.execute_reply": "2022-01-06T21:49:45.088756Z"
    },
    "papermill": {
     "duration": 0.038017,
     "end_time": "2022-01-06T21:49:45.089134",
     "exception": false,
     "start_time": "2022-01-06T21:49:45.051117",
     "status": "completed"
    },
    "tags": []
   },
   "outputs": [],
   "source": [
    "from ICU_Water_Watch.plot import * "
   ]
  },
  {
   "cell_type": "code",
   "execution_count": 31,
   "id": "6794bfb1",
   "metadata": {
    "execution": {
     "iopub.execute_input": "2022-01-06T21:49:45.126359Z",
     "iopub.status.busy": "2022-01-06T21:49:45.126033Z",
     "iopub.status.idle": "2022-01-06T21:49:45.148798Z",
     "shell.execute_reply": "2022-01-06T21:49:45.148463Z"
    },
    "papermill": {
     "duration": 0.042277,
     "end_time": "2022-01-06T21:49:45.148878",
     "exception": false,
     "start_time": "2022-01-06T21:49:45.106601",
     "status": "completed"
    },
    "tags": []
   },
   "outputs": [
    {
     "data": {
      "text/html": [
       "<div><svg style=\"position: absolute; width: 0; height: 0; overflow: hidden\">\n",
       "<defs>\n",
       "<symbol id=\"icon-database\" viewBox=\"0 0 32 32\">\n",
       "<path d=\"M16 0c-8.837 0-16 2.239-16 5v4c0 2.761 7.163 5 16 5s16-2.239 16-5v-4c0-2.761-7.163-5-16-5z\"></path>\n",
       "<path d=\"M16 17c-8.837 0-16-2.239-16-5v6c0 2.761 7.163 5 16 5s16-2.239 16-5v-6c0 2.761-7.163 5-16 5z\"></path>\n",
       "<path d=\"M16 26c-8.837 0-16-2.239-16-5v6c0 2.761 7.163 5 16 5s16-2.239 16-5v-6c0 2.761-7.163 5-16 5z\"></path>\n",
       "</symbol>\n",
       "<symbol id=\"icon-file-text2\" viewBox=\"0 0 32 32\">\n",
       "<path d=\"M28.681 7.159c-0.694-0.947-1.662-2.053-2.724-3.116s-2.169-2.030-3.116-2.724c-1.612-1.182-2.393-1.319-2.841-1.319h-15.5c-1.378 0-2.5 1.121-2.5 2.5v27c0 1.378 1.122 2.5 2.5 2.5h23c1.378 0 2.5-1.122 2.5-2.5v-19.5c0-0.448-0.137-1.23-1.319-2.841zM24.543 5.457c0.959 0.959 1.712 1.825 2.268 2.543h-4.811v-4.811c0.718 0.556 1.584 1.309 2.543 2.268zM28 29.5c0 0.271-0.229 0.5-0.5 0.5h-23c-0.271 0-0.5-0.229-0.5-0.5v-27c0-0.271 0.229-0.5 0.5-0.5 0 0 15.499-0 15.5 0v7c0 0.552 0.448 1 1 1h7v19.5z\"></path>\n",
       "<path d=\"M23 26h-14c-0.552 0-1-0.448-1-1s0.448-1 1-1h14c0.552 0 1 0.448 1 1s-0.448 1-1 1z\"></path>\n",
       "<path d=\"M23 22h-14c-0.552 0-1-0.448-1-1s0.448-1 1-1h14c0.552 0 1 0.448 1 1s-0.448 1-1 1z\"></path>\n",
       "<path d=\"M23 18h-14c-0.552 0-1-0.448-1-1s0.448-1 1-1h14c0.552 0 1 0.448 1 1s-0.448 1-1 1z\"></path>\n",
       "</symbol>\n",
       "</defs>\n",
       "</svg>\n",
       "<style>/* CSS stylesheet for displaying xarray objects in jupyterlab.\n",
       " *\n",
       " */\n",
       "\n",
       ":root {\n",
       "  --xr-font-color0: var(--jp-content-font-color0, rgba(0, 0, 0, 1));\n",
       "  --xr-font-color2: var(--jp-content-font-color2, rgba(0, 0, 0, 0.54));\n",
       "  --xr-font-color3: var(--jp-content-font-color3, rgba(0, 0, 0, 0.38));\n",
       "  --xr-border-color: var(--jp-border-color2, #e0e0e0);\n",
       "  --xr-disabled-color: var(--jp-layout-color3, #bdbdbd);\n",
       "  --xr-background-color: var(--jp-layout-color0, white);\n",
       "  --xr-background-color-row-even: var(--jp-layout-color1, white);\n",
       "  --xr-background-color-row-odd: var(--jp-layout-color2, #eeeeee);\n",
       "}\n",
       "\n",
       "html[theme=dark],\n",
       "body.vscode-dark {\n",
       "  --xr-font-color0: rgba(255, 255, 255, 1);\n",
       "  --xr-font-color2: rgba(255, 255, 255, 0.54);\n",
       "  --xr-font-color3: rgba(255, 255, 255, 0.38);\n",
       "  --xr-border-color: #1F1F1F;\n",
       "  --xr-disabled-color: #515151;\n",
       "  --xr-background-color: #111111;\n",
       "  --xr-background-color-row-even: #111111;\n",
       "  --xr-background-color-row-odd: #313131;\n",
       "}\n",
       "\n",
       ".xr-wrap {\n",
       "  display: block !important;\n",
       "  min-width: 300px;\n",
       "  max-width: 700px;\n",
       "}\n",
       "\n",
       ".xr-text-repr-fallback {\n",
       "  /* fallback to plain text repr when CSS is not injected (untrusted notebook) */\n",
       "  display: none;\n",
       "}\n",
       "\n",
       ".xr-header {\n",
       "  padding-top: 6px;\n",
       "  padding-bottom: 6px;\n",
       "  margin-bottom: 4px;\n",
       "  border-bottom: solid 1px var(--xr-border-color);\n",
       "}\n",
       "\n",
       ".xr-header > div,\n",
       ".xr-header > ul {\n",
       "  display: inline;\n",
       "  margin-top: 0;\n",
       "  margin-bottom: 0;\n",
       "}\n",
       "\n",
       ".xr-obj-type,\n",
       ".xr-array-name {\n",
       "  margin-left: 2px;\n",
       "  margin-right: 10px;\n",
       "}\n",
       "\n",
       ".xr-obj-type {\n",
       "  color: var(--xr-font-color2);\n",
       "}\n",
       "\n",
       ".xr-sections {\n",
       "  padding-left: 0 !important;\n",
       "  display: grid;\n",
       "  grid-template-columns: 150px auto auto 1fr 20px 20px;\n",
       "}\n",
       "\n",
       ".xr-section-item {\n",
       "  display: contents;\n",
       "}\n",
       "\n",
       ".xr-section-item input {\n",
       "  display: none;\n",
       "}\n",
       "\n",
       ".xr-section-item input + label {\n",
       "  color: var(--xr-disabled-color);\n",
       "}\n",
       "\n",
       ".xr-section-item input:enabled + label {\n",
       "  cursor: pointer;\n",
       "  color: var(--xr-font-color2);\n",
       "}\n",
       "\n",
       ".xr-section-item input:enabled + label:hover {\n",
       "  color: var(--xr-font-color0);\n",
       "}\n",
       "\n",
       ".xr-section-summary {\n",
       "  grid-column: 1;\n",
       "  color: var(--xr-font-color2);\n",
       "  font-weight: 500;\n",
       "}\n",
       "\n",
       ".xr-section-summary > span {\n",
       "  display: inline-block;\n",
       "  padding-left: 0.5em;\n",
       "}\n",
       "\n",
       ".xr-section-summary-in:disabled + label {\n",
       "  color: var(--xr-font-color2);\n",
       "}\n",
       "\n",
       ".xr-section-summary-in + label:before {\n",
       "  display: inline-block;\n",
       "  content: '►';\n",
       "  font-size: 11px;\n",
       "  width: 15px;\n",
       "  text-align: center;\n",
       "}\n",
       "\n",
       ".xr-section-summary-in:disabled + label:before {\n",
       "  color: var(--xr-disabled-color);\n",
       "}\n",
       "\n",
       ".xr-section-summary-in:checked + label:before {\n",
       "  content: '▼';\n",
       "}\n",
       "\n",
       ".xr-section-summary-in:checked + label > span {\n",
       "  display: none;\n",
       "}\n",
       "\n",
       ".xr-section-summary,\n",
       ".xr-section-inline-details {\n",
       "  padding-top: 4px;\n",
       "  padding-bottom: 4px;\n",
       "}\n",
       "\n",
       ".xr-section-inline-details {\n",
       "  grid-column: 2 / -1;\n",
       "}\n",
       "\n",
       ".xr-section-details {\n",
       "  display: none;\n",
       "  grid-column: 1 / -1;\n",
       "  margin-bottom: 5px;\n",
       "}\n",
       "\n",
       ".xr-section-summary-in:checked ~ .xr-section-details {\n",
       "  display: contents;\n",
       "}\n",
       "\n",
       ".xr-array-wrap {\n",
       "  grid-column: 1 / -1;\n",
       "  display: grid;\n",
       "  grid-template-columns: 20px auto;\n",
       "}\n",
       "\n",
       ".xr-array-wrap > label {\n",
       "  grid-column: 1;\n",
       "  vertical-align: top;\n",
       "}\n",
       "\n",
       ".xr-preview {\n",
       "  color: var(--xr-font-color3);\n",
       "}\n",
       "\n",
       ".xr-array-preview,\n",
       ".xr-array-data {\n",
       "  padding: 0 5px !important;\n",
       "  grid-column: 2;\n",
       "}\n",
       "\n",
       ".xr-array-data,\n",
       ".xr-array-in:checked ~ .xr-array-preview {\n",
       "  display: none;\n",
       "}\n",
       "\n",
       ".xr-array-in:checked ~ .xr-array-data,\n",
       ".xr-array-preview {\n",
       "  display: inline-block;\n",
       "}\n",
       "\n",
       ".xr-dim-list {\n",
       "  display: inline-block !important;\n",
       "  list-style: none;\n",
       "  padding: 0 !important;\n",
       "  margin: 0;\n",
       "}\n",
       "\n",
       ".xr-dim-list li {\n",
       "  display: inline-block;\n",
       "  padding: 0;\n",
       "  margin: 0;\n",
       "}\n",
       "\n",
       ".xr-dim-list:before {\n",
       "  content: '(';\n",
       "}\n",
       "\n",
       ".xr-dim-list:after {\n",
       "  content: ')';\n",
       "}\n",
       "\n",
       ".xr-dim-list li:not(:last-child):after {\n",
       "  content: ',';\n",
       "  padding-right: 5px;\n",
       "}\n",
       "\n",
       ".xr-has-index {\n",
       "  font-weight: bold;\n",
       "}\n",
       "\n",
       ".xr-var-list,\n",
       ".xr-var-item {\n",
       "  display: contents;\n",
       "}\n",
       "\n",
       ".xr-var-item > div,\n",
       ".xr-var-item label,\n",
       ".xr-var-item > .xr-var-name span {\n",
       "  background-color: var(--xr-background-color-row-even);\n",
       "  margin-bottom: 0;\n",
       "}\n",
       "\n",
       ".xr-var-item > .xr-var-name:hover span {\n",
       "  padding-right: 5px;\n",
       "}\n",
       "\n",
       ".xr-var-list > li:nth-child(odd) > div,\n",
       ".xr-var-list > li:nth-child(odd) > label,\n",
       ".xr-var-list > li:nth-child(odd) > .xr-var-name span {\n",
       "  background-color: var(--xr-background-color-row-odd);\n",
       "}\n",
       "\n",
       ".xr-var-name {\n",
       "  grid-column: 1;\n",
       "}\n",
       "\n",
       ".xr-var-dims {\n",
       "  grid-column: 2;\n",
       "}\n",
       "\n",
       ".xr-var-dtype {\n",
       "  grid-column: 3;\n",
       "  text-align: right;\n",
       "  color: var(--xr-font-color2);\n",
       "}\n",
       "\n",
       ".xr-var-preview {\n",
       "  grid-column: 4;\n",
       "}\n",
       "\n",
       ".xr-var-name,\n",
       ".xr-var-dims,\n",
       ".xr-var-dtype,\n",
       ".xr-preview,\n",
       ".xr-attrs dt {\n",
       "  white-space: nowrap;\n",
       "  overflow: hidden;\n",
       "  text-overflow: ellipsis;\n",
       "  padding-right: 10px;\n",
       "}\n",
       "\n",
       ".xr-var-name:hover,\n",
       ".xr-var-dims:hover,\n",
       ".xr-var-dtype:hover,\n",
       ".xr-attrs dt:hover {\n",
       "  overflow: visible;\n",
       "  width: auto;\n",
       "  z-index: 1;\n",
       "}\n",
       "\n",
       ".xr-var-attrs,\n",
       ".xr-var-data {\n",
       "  display: none;\n",
       "  background-color: var(--xr-background-color) !important;\n",
       "  padding-bottom: 5px !important;\n",
       "}\n",
       "\n",
       ".xr-var-attrs-in:checked ~ .xr-var-attrs,\n",
       ".xr-var-data-in:checked ~ .xr-var-data {\n",
       "  display: block;\n",
       "}\n",
       "\n",
       ".xr-var-data > table {\n",
       "  float: right;\n",
       "}\n",
       "\n",
       ".xr-var-name span,\n",
       ".xr-var-data,\n",
       ".xr-attrs {\n",
       "  padding-left: 25px !important;\n",
       "}\n",
       "\n",
       ".xr-attrs,\n",
       ".xr-var-attrs,\n",
       ".xr-var-data {\n",
       "  grid-column: 1 / -1;\n",
       "}\n",
       "\n",
       "dl.xr-attrs {\n",
       "  padding: 0;\n",
       "  margin: 0;\n",
       "  display: grid;\n",
       "  grid-template-columns: 125px auto;\n",
       "}\n",
       "\n",
       ".xr-attrs dt,\n",
       ".xr-attrs dd {\n",
       "  padding: 0;\n",
       "  margin: 0;\n",
       "  float: left;\n",
       "  padding-right: 10px;\n",
       "  width: auto;\n",
       "}\n",
       "\n",
       ".xr-attrs dt {\n",
       "  font-weight: normal;\n",
       "  grid-column: 1;\n",
       "}\n",
       "\n",
       ".xr-attrs dt:hover span {\n",
       "  display: inline-block;\n",
       "  background: var(--xr-background-color);\n",
       "  padding-right: 10px;\n",
       "}\n",
       "\n",
       ".xr-attrs dd {\n",
       "  grid-column: 2;\n",
       "  white-space: pre-wrap;\n",
       "  word-break: break-all;\n",
       "}\n",
       "\n",
       ".xr-icon-database,\n",
       ".xr-icon-file-text2 {\n",
       "  display: inline-block;\n",
       "  vertical-align: middle;\n",
       "  width: 1em;\n",
       "  height: 1.5em !important;\n",
       "  stroke-width: 0;\n",
       "  stroke: currentColor;\n",
       "  fill: currentColor;\n",
       "}\n",
       "</style><pre class='xr-text-repr-fallback'>&lt;xarray.DataArray &#x27;lon&#x27; (lon: 439)&gt;\n",
       "array([129.375, 129.625, 129.875, ..., 238.375, 238.625, 238.875])\n",
       "Coordinates:\n",
       "  * lon      (lon) float64 129.4 129.6 129.9 130.1 ... 238.1 238.4 238.6 238.9</pre><div class='xr-wrap' style='display:none'><div class='xr-header'><div class='xr-obj-type'>xarray.DataArray</div><div class='xr-array-name'>'lon'</div><ul class='xr-dim-list'><li><span class='xr-has-index'>lon</span>: 439</li></ul></div><ul class='xr-sections'><li class='xr-section-item'><div class='xr-array-wrap'><input id='section-a42ca21a-a72e-4444-b0e0-142fe0931ffa' class='xr-array-in' type='checkbox' checked><label for='section-a42ca21a-a72e-4444-b0e0-142fe0931ffa' title='Show/hide data repr'><svg class='icon xr-icon-database'><use xlink:href='#icon-database'></use></svg></label><div class='xr-array-preview xr-preview'><span>129.4 129.6 129.9 130.1 130.4 130.6 ... 237.9 238.1 238.4 238.6 238.9</span></div><div class='xr-array-data'><pre>array([129.375, 129.625, 129.875, ..., 238.375, 238.625, 238.875])</pre></div></div></li><li class='xr-section-item'><input id='section-1532e029-5d1c-4637-9c63-8692e6211e8a' class='xr-section-summary-in' type='checkbox'  checked><label for='section-1532e029-5d1c-4637-9c63-8692e6211e8a' class='xr-section-summary' >Coordinates: <span>(1)</span></label><div class='xr-section-inline-details'></div><div class='xr-section-details'><ul class='xr-var-list'><li class='xr-var-item'><div class='xr-var-name'><span class='xr-has-index'>lon</span></div><div class='xr-var-dims'>(lon)</div><div class='xr-var-dtype'>float64</div><div class='xr-var-preview xr-preview'>129.4 129.6 129.9 ... 238.6 238.9</div><input id='attrs-460221ed-90ad-4e6d-b200-d0edf41bc83d' class='xr-var-attrs-in' type='checkbox' disabled><label for='attrs-460221ed-90ad-4e6d-b200-d0edf41bc83d' title='Show/Hide attributes'><svg class='icon xr-icon-file-text2'><use xlink:href='#icon-file-text2'></use></svg></label><input id='data-0c438984-e4d8-4333-b1aa-3b645f69c9c1' class='xr-var-data-in' type='checkbox'><label for='data-0c438984-e4d8-4333-b1aa-3b645f69c9c1' title='Show/Hide data repr'><svg class='icon xr-icon-database'><use xlink:href='#icon-database'></use></svg></label><div class='xr-var-attrs'><dl class='xr-attrs'></dl></div><div class='xr-var-data'><pre>array([129.375, 129.625, 129.875, ..., 238.375, 238.625, 238.875])</pre></div></li></ul></div></li><li class='xr-section-item'><input id='section-d96ce372-a7e3-4425-8d52-ba4d3d329b6e' class='xr-section-summary-in' type='checkbox' disabled ><label for='section-d96ce372-a7e3-4425-8d52-ba4d3d329b6e' class='xr-section-summary'  title='Expand/collapse section'>Attributes: <span>(0)</span></label><div class='xr-section-inline-details'></div><div class='xr-section-details'><dl class='xr-attrs'></dl></div></li></ul></div></div>"
      ],
      "text/plain": [
       "<xarray.DataArray 'lon' (lon: 439)>\n",
       "array([129.375, 129.625, 129.875, ..., 238.375, 238.625, 238.875])\n",
       "Coordinates:\n",
       "  * lon      (lon) float64 129.4 129.6 129.9 130.1 ... 238.1 238.4 238.6 238.9"
      ]
     },
     "execution_count": 31,
     "metadata": {},
     "output_type": "execute_result"
    }
   ],
   "source": [
    "norm_spi_realtime.lon"
   ]
  },
  {
   "cell_type": "code",
   "execution_count": 32,
   "id": "8ab56d8d",
   "metadata": {
    "execution": {
     "iopub.execute_input": "2022-01-06T21:49:45.187932Z",
     "iopub.status.busy": "2022-01-06T21:49:45.187606Z",
     "iopub.status.idle": "2022-01-06T21:49:50.625028Z",
     "shell.execute_reply": "2022-01-06T21:49:50.625287Z"
    },
    "papermill": {
     "duration": 5.458306,
     "end_time": "2022-01-06T21:49:50.625385",
     "exception": false,
     "start_time": "2022-01-06T21:49:45.167079",
     "status": "completed"
    },
    "tags": []
   },
   "outputs": [
    {
     "name": "stderr",
     "output_type": "stream",
     "text": [
      "/home/nicolasf/mambaforge/envs/climetlab/lib/python3.8/site-packages/cartopy/crs.py:825: ShapelyDeprecationWarning: __len__ for multi-part geometries is deprecated and will be removed in Shapely 2.0. Check the length of the `geoms` property instead to get the  number of parts of a multi-part geometry.\n",
      "  if len(multi_line_string) > 1:\n",
      "/home/nicolasf/mambaforge/envs/climetlab/lib/python3.8/site-packages/cartopy/crs.py:877: ShapelyDeprecationWarning: Iteration over multi-part geometries is deprecated and will be removed in Shapely 2.0. Use the `geoms` property to access the constituent parts of a multi-part geometry.\n",
      "  for line in multi_line_string:\n",
      "/home/nicolasf/mambaforge/envs/climetlab/lib/python3.8/site-packages/cartopy/crs.py:944: ShapelyDeprecationWarning: __len__ for multi-part geometries is deprecated and will be removed in Shapely 2.0. Check the length of the `geoms` property instead to get the  number of parts of a multi-part geometry.\n",
      "  if len(p_mline) > 0:\n"
     ]
    },
    {
     "name": "stderr",
     "output_type": "stream",
     "text": [
      "/home/nicolasf/mambaforge/envs/climetlab/lib/python3.8/site-packages/cartopy/crs.py:825: ShapelyDeprecationWarning: __len__ for multi-part geometries is deprecated and will be removed in Shapely 2.0. Check the length of the `geoms` property instead to get the  number of parts of a multi-part geometry.\n",
      "  if len(multi_line_string) > 1:\n",
      "/home/nicolasf/mambaforge/envs/climetlab/lib/python3.8/site-packages/cartopy/crs.py:836: ShapelyDeprecationWarning: __len__ for multi-part geometries is deprecated and will be removed in Shapely 2.0. Check the length of the `geoms` property instead to get the  number of parts of a multi-part geometry.\n",
      "  line_strings = list(multi_line_string)\n",
      "/home/nicolasf/mambaforge/envs/climetlab/lib/python3.8/site-packages/cartopy/crs.py:836: ShapelyDeprecationWarning: Iteration over multi-part geometries is deprecated and will be removed in Shapely 2.0. Use the `geoms` property to access the constituent parts of a multi-part geometry.\n",
      "  line_strings = list(multi_line_string)\n",
      "/home/nicolasf/mambaforge/envs/climetlab/lib/python3.8/site-packages/cartopy/crs.py:877: ShapelyDeprecationWarning: Iteration over multi-part geometries is deprecated and will be removed in Shapely 2.0. Use the `geoms` property to access the constituent parts of a multi-part geometry.\n",
      "  for line in multi_line_string:\n",
      "/home/nicolasf/mambaforge/envs/climetlab/lib/python3.8/site-packages/cartopy/crs.py:944: ShapelyDeprecationWarning: __len__ for multi-part geometries is deprecated and will be removed in Shapely 2.0. Check the length of the `geoms` property instead to get the  number of parts of a multi-part geometry.\n",
      "  if len(p_mline) > 0:\n",
      "/home/nicolasf/mambaforge/envs/climetlab/lib/python3.8/site-packages/cartopy/crs.py:982: ShapelyDeprecationWarning: Iteration over multi-part geometries is deprecated and will be removed in Shapely 2.0. Use the `geoms` property to access the constituent parts of a multi-part geometry.\n",
      "  line_strings.extend(multi_line_string)\n",
      "/home/nicolasf/mambaforge/envs/climetlab/lib/python3.8/site-packages/cartopy/crs.py:982: ShapelyDeprecationWarning: __len__ for multi-part geometries is deprecated and will be removed in Shapely 2.0. Check the length of the `geoms` property instead to get the  number of parts of a multi-part geometry.\n",
      "  line_strings.extend(multi_line_string)\n"
     ]
    },
    {
     "data": {
      "image/png": "[encoded data removed]",
      "text/plain": [
       "<Figure size 936x576 with 1 Axes>"
      ]
     },
     "metadata": {},
     "output_type": "display_data"
    }
   ],
   "source": [
    "map_SPI_Pacific(norm_spi_realtime, mask='EEZ', geoms=EEZs, fpath=opath, close=False)"
   ]
  },
  {
   "cell_type": "markdown",
   "id": "9bbb686d",
   "metadata": {
    "papermill": {
     "duration": 0.020224,
     "end_time": "2022-01-06T21:49:50.666185",
     "exception": false,
     "start_time": "2022-01-06T21:49:50.645961",
     "status": "completed"
    },
    "tags": []
   },
   "source": [
    "### Now produce a country level SPI "
   ]
  },
  {
   "cell_type": "code",
   "execution_count": 33,
   "id": "c8c28c5d",
   "metadata": {
    "execution": {
     "iopub.execute_input": "2022-01-06T21:49:50.715783Z",
     "iopub.status.busy": "2022-01-06T21:49:50.715461Z",
     "iopub.status.idle": "2022-01-06T21:49:50.732283Z",
     "shell.execute_reply": "2022-01-06T21:49:50.731992Z"
    },
    "papermill": {
     "duration": 0.045616,
     "end_time": "2022-01-06T21:49:50.732368",
     "exception": false,
     "start_time": "2022-01-06T21:49:50.686752",
     "status": "completed"
    },
    "tags": []
   },
   "outputs": [],
   "source": [
    "if not(opath.joinpath('SPI')).exists(): \n",
    "    (opath.joinpath('SPI')).mkdir(parents=True)"
   ]
  },
  {
   "cell_type": "code",
   "execution_count": 34,
   "id": "ee1c2f9c",
   "metadata": {
    "execution": {
     "iopub.execute_input": "2022-01-06T21:49:50.778792Z",
     "iopub.status.busy": "2022-01-06T21:49:50.778424Z",
     "iopub.status.idle": "2022-01-06T21:51:55.261576Z",
     "shell.execute_reply": "2022-01-06T21:51:55.261197Z"
    },
    "papermill": {
     "duration": 124.507395,
     "end_time": "2022-01-06T21:51:55.261657",
     "exception": false,
     "start_time": "2022-01-06T21:49:50.754262",
     "status": "completed"
    },
    "tags": []
   },
   "outputs": [
    {
     "name": "stdout",
     "output_type": "stream",
     "text": [
      "American_Samoa\n",
      "   --> processing American Samoa for the SPI\n",
      "\n"
     ]
    },
    {
     "name": "stderr",
     "output_type": "stream",
     "text": [
      "/home/nicolasf/mambaforge/envs/climetlab/lib/python3.8/site-packages/regionmask/core/regions.py:410: ShapelyDeprecationWarning: Iteration over multi-part geometries is deprecated and will be removed in Shapely 2.0. Use the `geoms` property to access the constituent parts of a multi-part geometry.\n",
      "  for p in poly:\n"
     ]
    },
    {
     "name": "stdout",
     "output_type": "stream",
     "text": [
      "Cook_Islands\n",
      "   --> processing Cook Islands for the SPI\n",
      "\n"
     ]
    },
    {
     "name": "stdout",
     "output_type": "stream",
     "text": [
      "Federated_States_of_Micronesia\n",
      "   --> processing Federated States of Micronesia for the SPI\n",
      "\n"
     ]
    },
    {
     "name": "stdout",
     "output_type": "stream",
     "text": [
      "Fiji\n",
      "   --> processing Fiji for the SPI\n",
      "\n"
     ]
    },
    {
     "name": "stderr",
     "output_type": "stream",
     "text": [
      "/home/nicolasf/mambaforge/envs/climetlab/lib/python3.8/site-packages/cartopy/crs.py:825: ShapelyDeprecationWarning: __len__ for multi-part geometries is deprecated and will be removed in Shapely 2.0. Check the length of the `geoms` property instead to get the  number of parts of a multi-part geometry.\n",
      "  if len(multi_line_string) > 1:\n",
      "/home/nicolasf/mambaforge/envs/climetlab/lib/python3.8/site-packages/cartopy/crs.py:877: ShapelyDeprecationWarning: Iteration over multi-part geometries is deprecated and will be removed in Shapely 2.0. Use the `geoms` property to access the constituent parts of a multi-part geometry.\n",
      "  for line in multi_line_string:\n",
      "/home/nicolasf/mambaforge/envs/climetlab/lib/python3.8/site-packages/cartopy/crs.py:944: ShapelyDeprecationWarning: __len__ for multi-part geometries is deprecated and will be removed in Shapely 2.0. Check the length of the `geoms` property instead to get the  number of parts of a multi-part geometry.\n",
      "  if len(p_mline) > 0:\n"
     ]
    },
    {
     "name": "stderr",
     "output_type": "stream",
     "text": [
      "/home/nicolasf/mambaforge/envs/climetlab/lib/python3.8/site-packages/cartopy/mpl/gridliner.py:842: ShapelyDeprecationWarning: __len__ for multi-part geometries is deprecated and will be removed in Shapely 2.0. Check the length of the `geoms` property instead to get the  number of parts of a multi-part geometry.\n",
      "  elif len(intersection) > 4:\n",
      "/home/nicolasf/mambaforge/envs/climetlab/lib/python3.8/site-packages/cartopy/mpl/gridliner.py:848: ShapelyDeprecationWarning: __getitem__ for multi-part geometries is deprecated and will be removed in Shapely 2.0. Use the `geoms` property to access the constituent parts of a multi-part geometry.\n",
      "  xy = np.append(intersection[0], intersection[-1],\n",
      "/home/nicolasf/mambaforge/envs/climetlab/lib/python3.8/site-packages/numpy/lib/function_base.py:4739: ShapelyDeprecationWarning: The array interface is deprecated and will no longer work in Shapely 2.0. Convert the '.coords' to a numpy array instead.\n",
      "  arr = asanyarray(arr)\n",
      "/home/nicolasf/mambaforge/envs/climetlab/lib/python3.8/site-packages/numpy/lib/function_base.py:4745: ShapelyDeprecationWarning: The array interface is deprecated and will no longer work in Shapely 2.0. Convert the '.coords' to a numpy array instead.\n",
      "  return concatenate((arr, values), axis=axis)\n"
     ]
    },
    {
     "name": "stdout",
     "output_type": "stream",
     "text": [
      "French_Polynesia\n",
      "   --> processing French Polynesia for the SPI\n",
      "\n"
     ]
    },
    {
     "name": "stdout",
     "output_type": "stream",
     "text": [
      "Guam\n",
      "   --> processing Guam for the SPI\n",
      "\n"
     ]
    },
    {
     "name": "stdout",
     "output_type": "stream",
     "text": [
      "Kiribati_Gilbert_Islands\n",
      "   --> processing Kiribati: Gilbert Islands for the SPI\n",
      "\n"
     ]
    },
    {
     "name": "stderr",
     "output_type": "stream",
     "text": [
      "/home/nicolasf/mambaforge/envs/climetlab/lib/python3.8/site-packages/cartopy/crs.py:825: ShapelyDeprecationWarning: __len__ for multi-part geometries is deprecated and will be removed in Shapely 2.0. Check the length of the `geoms` property instead to get the  number of parts of a multi-part geometry.\n",
      "  if len(multi_line_string) > 1:\n",
      "/home/nicolasf/mambaforge/envs/climetlab/lib/python3.8/site-packages/cartopy/crs.py:877: ShapelyDeprecationWarning: Iteration over multi-part geometries is deprecated and will be removed in Shapely 2.0. Use the `geoms` property to access the constituent parts of a multi-part geometry.\n",
      "  for line in multi_line_string:\n",
      "/home/nicolasf/mambaforge/envs/climetlab/lib/python3.8/site-packages/cartopy/crs.py:944: ShapelyDeprecationWarning: __len__ for multi-part geometries is deprecated and will be removed in Shapely 2.0. Check the length of the `geoms` property instead to get the  number of parts of a multi-part geometry.\n",
      "  if len(p_mline) > 0:\n"
     ]
    },
    {
     "name": "stderr",
     "output_type": "stream",
     "text": [
      "/home/nicolasf/mambaforge/envs/climetlab/lib/python3.8/site-packages/cartopy/mpl/gridliner.py:842: ShapelyDeprecationWarning: __len__ for multi-part geometries is deprecated and will be removed in Shapely 2.0. Check the length of the `geoms` property instead to get the  number of parts of a multi-part geometry.\n",
      "  elif len(intersection) > 4:\n",
      "/home/nicolasf/mambaforge/envs/climetlab/lib/python3.8/site-packages/cartopy/mpl/gridliner.py:848: ShapelyDeprecationWarning: __getitem__ for multi-part geometries is deprecated and will be removed in Shapely 2.0. Use the `geoms` property to access the constituent parts of a multi-part geometry.\n",
      "  xy = np.append(intersection[0], intersection[-1],\n",
      "/home/nicolasf/mambaforge/envs/climetlab/lib/python3.8/site-packages/numpy/lib/function_base.py:4739: ShapelyDeprecationWarning: The array interface is deprecated and will no longer work in Shapely 2.0. Convert the '.coords' to a numpy array instead.\n",
      "  arr = asanyarray(arr)\n",
      "/home/nicolasf/mambaforge/envs/climetlab/lib/python3.8/site-packages/numpy/lib/function_base.py:4745: ShapelyDeprecationWarning: The array interface is deprecated and will no longer work in Shapely 2.0. Convert the '.coords' to a numpy array instead.\n",
      "  return concatenate((arr, values), axis=axis)\n"
     ]
    },
    {
     "name": "stdout",
     "output_type": "stream",
     "text": [
      "Kiribati_Line_Islands\n",
      "   --> processing Kiribati: Line Islands for the SPI\n",
      "\n"
     ]
    },
    {
     "name": "stdout",
     "output_type": "stream",
     "text": [
      "Kiribati_Phoenix_Islands\n",
      "   --> processing Kiribati: Phoenix Islands for the SPI\n",
      "\n"
     ]
    },
    {
     "name": "stdout",
     "output_type": "stream",
     "text": [
      "Marshall_Islands\n",
      "   --> processing Marshall Islands for the SPI\n",
      "\n"
     ]
    },
    {
     "name": "stdout",
     "output_type": "stream",
     "text": [
      "Nauru\n",
      "   --> processing Nauru for the SPI\n",
      "\n"
     ]
    },
    {
     "name": "stdout",
     "output_type": "stream",
     "text": [
      "New_Caledonia\n",
      "   --> processing New Caledonia for the SPI\n",
      "\n"
     ]
    },
    {
     "name": "stdout",
     "output_type": "stream",
     "text": [
      "Niue\n",
      "   --> processing Niue for the SPI\n",
      "\n"
     ]
    },
    {
     "name": "stdout",
     "output_type": "stream",
     "text": [
      "Northern_Marianas\n",
      "   --> processing Northern Marianas for the SPI\n",
      "\n"
     ]
    },
    {
     "name": "stdout",
     "output_type": "stream",
     "text": [
      "Palau\n",
      "   --> processing Palau for the SPI\n",
      "\n"
     ]
    },
    {
     "name": "stdout",
     "output_type": "stream",
     "text": [
      "Papua_New_Guinea\n",
      "   --> processing Papua New Guinea for the SPI\n",
      "\n"
     ]
    },
    {
     "name": "stdout",
     "output_type": "stream",
     "text": [
      "Pitcairn_Islands\n",
      "   --> processing Pitcairn Islands for the SPI\n",
      "\n"
     ]
    },
    {
     "name": "stdout",
     "output_type": "stream",
     "text": [
      "Samoa\n",
      "   --> processing Samoa for the SPI\n",
      "\n"
     ]
    },
    {
     "name": "stdout",
     "output_type": "stream",
     "text": [
      "Solomon_Islands\n",
      "   --> processing Solomon Islands for the SPI\n",
      "\n"
     ]
    },
    {
     "name": "stdout",
     "output_type": "stream",
     "text": [
      "Tokelau\n",
      "   --> processing Tokelau for the SPI\n",
      "\n"
     ]
    },
    {
     "name": "stdout",
     "output_type": "stream",
     "text": [
      "Tonga\n",
      "   --> processing Tonga for the SPI\n",
      "\n"
     ]
    },
    {
     "name": "stdout",
     "output_type": "stream",
     "text": [
      "Tuvalu\n",
      "   --> processing Tuvalu for the SPI\n",
      "\n"
     ]
    },
    {
     "name": "stderr",
     "output_type": "stream",
     "text": [
      "/home/nicolasf/mambaforge/envs/climetlab/lib/python3.8/site-packages/cartopy/crs.py:825: ShapelyDeprecationWarning: __len__ for multi-part geometries is deprecated and will be removed in Shapely 2.0. Check the length of the `geoms` property instead to get the  number of parts of a multi-part geometry.\n",
      "  if len(multi_line_string) > 1:\n",
      "/home/nicolasf/mambaforge/envs/climetlab/lib/python3.8/site-packages/cartopy/crs.py:877: ShapelyDeprecationWarning: Iteration over multi-part geometries is deprecated and will be removed in Shapely 2.0. Use the `geoms` property to access the constituent parts of a multi-part geometry.\n",
      "  for line in multi_line_string:\n",
      "/home/nicolasf/mambaforge/envs/climetlab/lib/python3.8/site-packages/cartopy/crs.py:944: ShapelyDeprecationWarning: __len__ for multi-part geometries is deprecated and will be removed in Shapely 2.0. Check the length of the `geoms` property instead to get the  number of parts of a multi-part geometry.\n",
      "  if len(p_mline) > 0:\n"
     ]
    },
    {
     "name": "stderr",
     "output_type": "stream",
     "text": [
      "/home/nicolasf/mambaforge/envs/climetlab/lib/python3.8/site-packages/cartopy/mpl/gridliner.py:842: ShapelyDeprecationWarning: __len__ for multi-part geometries is deprecated and will be removed in Shapely 2.0. Check the length of the `geoms` property instead to get the  number of parts of a multi-part geometry.\n",
      "  elif len(intersection) > 4:\n",
      "/home/nicolasf/mambaforge/envs/climetlab/lib/python3.8/site-packages/cartopy/mpl/gridliner.py:848: ShapelyDeprecationWarning: __getitem__ for multi-part geometries is deprecated and will be removed in Shapely 2.0. Use the `geoms` property to access the constituent parts of a multi-part geometry.\n",
      "  xy = np.append(intersection[0], intersection[-1],\n",
      "/home/nicolasf/mambaforge/envs/climetlab/lib/python3.8/site-packages/numpy/lib/function_base.py:4739: ShapelyDeprecationWarning: The array interface is deprecated and will no longer work in Shapely 2.0. Convert the '.coords' to a numpy array instead.\n",
      "  arr = asanyarray(arr)\n",
      "/home/nicolasf/mambaforge/envs/climetlab/lib/python3.8/site-packages/numpy/lib/function_base.py:4745: ShapelyDeprecationWarning: The array interface is deprecated and will no longer work in Shapely 2.0. Convert the '.coords' to a numpy array instead.\n",
      "  return concatenate((arr, values), axis=axis)\n"
     ]
    },
    {
     "name": "stdout",
     "output_type": "stream",
     "text": [
      "Vanuatu\n",
      "   --> processing Vanuatu for the SPI\n",
      "\n"
     ]
    },
    {
     "name": "stdout",
     "output_type": "stream",
     "text": [
      "Wallis_Futuna\n",
      "   --> processing Wallis & Futuna for the SPI\n",
      "\n"
     ]
    },
    {
     "name": "stderr",
     "output_type": "stream",
     "text": [
      "/home/nicolasf/mambaforge/envs/climetlab/lib/python3.8/site-packages/regionmask/core/regions.py:410: ShapelyDeprecationWarning: Iteration over multi-part geometries is deprecated and will be removed in Shapely 2.0. Use the `geoms` property to access the constituent parts of a multi-part geometry.\n",
      "  for p in poly:\n",
      "/home/nicolasf/mambaforge/envs/climetlab/lib/python3.8/site-packages/cartopy/crs.py:825: ShapelyDeprecationWarning: __len__ for multi-part geometries is deprecated and will be removed in Shapely 2.0. Check the length of the `geoms` property instead to get the  number of parts of a multi-part geometry.\n",
      "  if len(multi_line_string) > 1:\n",
      "/home/nicolasf/mambaforge/envs/climetlab/lib/python3.8/site-packages/cartopy/crs.py:877: ShapelyDeprecationWarning: Iteration over multi-part geometries is deprecated and will be removed in Shapely 2.0. Use the `geoms` property to access the constituent parts of a multi-part geometry.\n",
      "  for line in multi_line_string:\n",
      "/home/nicolasf/mambaforge/envs/climetlab/lib/python3.8/site-packages/cartopy/crs.py:944: ShapelyDeprecationWarning: __len__ for multi-part geometries is deprecated and will be removed in Shapely 2.0. Check the length of the `geoms` property instead to get the  number of parts of a multi-part geometry.\n",
      "  if len(p_mline) > 0:\n"
     ]
    },
    {
     "name": "stderr",
     "output_type": "stream",
     "text": [
      "/home/nicolasf/mambaforge/envs/climetlab/lib/python3.8/site-packages/cartopy/mpl/gridliner.py:842: ShapelyDeprecationWarning: __len__ for multi-part geometries is deprecated and will be removed in Shapely 2.0. Check the length of the `geoms` property instead to get the  number of parts of a multi-part geometry.\n",
      "  elif len(intersection) > 4:\n",
      "/home/nicolasf/mambaforge/envs/climetlab/lib/python3.8/site-packages/cartopy/mpl/gridliner.py:853: ShapelyDeprecationWarning: Iteration over multi-part geometries is deprecated and will be removed in Shapely 2.0. Use the `geoms` property to access the constituent parts of a multi-part geometry.\n",
      "  for inter in intersection:\n"
     ]
    }
   ],
   "source": [
    "for country_name in coastlines.country_na: \n",
    "    \n",
    "    print(f\"{utils.sanitize_name(country_name)}\")\n",
    "    \n",
    "    cpath = pathlib.Path(f'/home/nicolasf/operational/ICU/development/hotspots/figures/GPM_IMERG/SPI')\n",
    "    \n",
    "    # cpath = pathlib.Path(f'/home/nicolasf/operational/ICU_Web/GPM_IMERG/SPI/{utils.sanitize_name(country_name)}')\n",
    "    \n",
    "    if not cpath.exists(): \n",
    "        \n",
    "        cpath.mkdir(parents=True)\n",
    "    \n",
    "    print(f\"   --> processing {country_name} for the SPI\\n\")\n",
    "\n",
    "    coastline = coastlines.query(f\"country_na == '{country_name}'\")\n",
    "\n",
    "    EEZ = EEZs.query(f\"COUNTRYNAM == '{country_name}'\")\n",
    "    \n",
    "    dset_sub_country = geo.make_mask_from_gpd(norm_spi_realtime, EEZ, subset=True, mask_name='mask_EEZ')\n",
    "    \n",
    "    map_SPI(dset_sub_country, coastlines, coastline, EEZ, country_name=country_name, fpath=cpath, close=True)"
   ]
  },
  {
   "cell_type": "code",
   "execution_count": null,
   "id": "5fedb77b",
   "metadata": {
    "papermill": {
     "duration": 0.026019,
     "end_time": "2022-01-06T21:51:55.313086",
     "exception": false,
     "start_time": "2022-01-06T21:51:55.287067",
     "status": "completed"
    },
    "tags": []
   },
   "outputs": [],
   "source": []
  }
 ],
 "metadata": {
  "kernelspec": {
   "display_name": "Python 3",
   "language": "python",
   "name": "python3"
  },
  "language_info": {
   "codemirror_mode": {
    "name": "ipython",
    "version": 3
   },
   "file_extension": ".py",
   "mimetype": "text/x-python",
   "name": "python",
   "nbconvert_exporter": "python",
   "pygments_lexer": "ipython3",
   "version": "3.8.12"
  },
  "papermill": {
   "default_parameters": {},
   "duration": 157.018528,
   "end_time": "2022-01-06T21:51:56.246021",
   "environment_variables": {},
   "exception": null,
   "input_path": "calculates_GPM-IMERG_accumulations_SPI.ipynb",
   "output_path": "calculates_GPM-IMERG_accumulations_SPI.ipynb",
   "parameters": {
    "lag": 7,
    "ndays": 360
   },
   "start_time": "2022-01-06T21:49:19.227493",
   "version": "2.3.3"
  }
 },
 "nbformat": 4,
 "nbformat_minor": 5
}