{
 "cells": [
  {
   "cell_type": "code",
   "execution_count": 1,
   "id": "e2893ffe-532a-4df5-b463-8403b3cbefeb",
   "metadata": {
    "tags": []
   },
   "outputs": [],
   "source": [
    "%matplotlib inline\n",
    "import matplotlib.pyplot as plt"
   ]
  },
  {
   "cell_type": "code",
   "execution_count": 2,
   "id": "00228c68-cb25-48d3-81b6-ed20c269dbd3",
   "metadata": {
    "tags": []
   },
   "outputs": [],
   "source": [
    "import pathlib"
   ]
  },
  {
   "cell_type": "code",
   "execution_count": 3,
   "id": "fac1774e-374e-4944-b8e6-0881a14cf90f",
   "metadata": {
    "tags": []
   },
   "outputs": [],
   "source": [
    "from datetime import datetime, timedelta\n",
    "\n",
    "from dateutil.relativedelta import relativedelta"
   ]
  },
  {
   "cell_type": "code",
   "execution_count": 4,
   "id": "e024eded-df38-4b3d-a9cd-5492b0aa8f10",
   "metadata": {
    "tags": []
   },
   "outputs": [],
   "source": [
    "import numpy as np\n",
    "import pandas as pd\n",
    "import xarray as xr"
   ]
  },
  {
   "cell_type": "code",
   "execution_count": 5,
   "id": "9d19301c-5035-490c-a225-2be000cc0024",
   "metadata": {},
   "outputs": [],
   "source": [
    "from dask.diagnostics import ProgressBar"
   ]
  },
  {
   "cell_type": "code",
   "execution_count": null,
   "id": "407e0b56-ef03-4bad-a936-0a1ed22a8c0f",
   "metadata": {},
   "outputs": [],
   "source": [
    "from ICU_Water_Watch import utils, domains"
   ]
  },
  {
   "cell_type": "markdown",
   "id": "aa1c662d-a399-4207-8043-05fbf71bfd9f",
   "metadata": {},
   "source": [
    "### Parameters "
   ]
  },
  {
   "cell_type": "code",
   "execution_count": 6,
   "id": "a6b23d36-d99e-49d1-8be0-14f04579c7d8",
   "metadata": {
    "tags": []
   },
   "outputs": [],
   "source": [
    "dpath_MSWEP_Past = \"/media/nicolasf/END19101/ICU/data/glo2ho/MSWEP280/Past/Daily/\"\n",
    "dpath_MSWEP_NRT = \"/media/nicolasf/END19101/ICU/data/glo2ho/MSWEP280/NRT/Daily/\"\n",
    "varname = \"precipitation\"\n",
    "domain_name = 'Water_Watch'"
   ]
  },
  {
   "cell_type": "code",
   "execution_count": null,
   "id": "ab12675b-7c6d-44be-8db4-987748c25b71",
   "metadata": {},
   "outputs": [],
   "source": [
    "domain = domains.domains[domain_name]"
   ]
  },
  {
   "cell_type": "markdown",
   "id": "6b6f555a-3325-4248-b795-b822266f54fe",
   "metadata": {},
   "source": [
    "### casts the paths from string to pathlib `Path` objects "
   ]
  },
  {
   "cell_type": "code",
   "execution_count": 7,
   "id": "26afca1e-e6ed-4498-bcaa-c2bfe0a0f943",
   "metadata": {
    "tags": []
   },
   "outputs": [],
   "source": [
    "dpath_MSWEP_Past = pathlib.Path(dpath_MSWEP_Past)\n",
    "dpath_MSWEP_NRT = pathlib.Path(dpath_MSWEP_NRT)"
   ]
  },
  {
   "cell_type": "code",
   "execution_count": 8,
   "id": "970bd627-fe94-4308-8796-12df8e221c3b",
   "metadata": {
    "tags": []
   },
   "outputs": [],
   "source": [
    "lfiles_Past = list(dpath_MSWEP_Past.glob(\"*.nc\"))"
   ]
  },
  {
   "cell_type": "code",
   "execution_count": 9,
   "id": "7926d00f-cba1-458a-9bea-c54bdc1518aa",
   "metadata": {
    "tags": []
   },
   "outputs": [],
   "source": [
    "lfiles_NRT = list(dpath_MSWEP_NRT.glob(\"*.nc\"))"
   ]
  },
  {
   "cell_type": "code",
   "execution_count": 10,
   "id": "c622eb51-1602-476c-9132-c92d6e6475f2",
   "metadata": {
    "tags": []
   },
   "outputs": [],
   "source": [
    "lfiles_Past.sort()"
   ]
  },
  {
   "cell_type": "code",
   "execution_count": 11,
   "id": "0fcdc24e-345d-423e-b2b5-c1ddf5f0c4dc",
   "metadata": {
    "tags": []
   },
   "outputs": [],
   "source": [
    "lfiles_NRT.sort()"
   ]
  },
  {
   "cell_type": "markdown",
   "id": "f9fe2746-64b0-42b6-a397-075169d84cdf",
   "metadata": {},
   "source": [
    "### get the actual datetime dates corresponding to each file (each file as the format `YYYYDOY.nc`)"
   ]
  },
  {
   "cell_type": "code",
   "execution_count": 12,
   "id": "7dfa7071-4017-4f70-9214-b9614c6850c9",
   "metadata": {
    "tags": []
   },
   "outputs": [],
   "source": [
    "lfiles_NRT_dates = [\n",
    "    datetime.strptime(f\"{f.name[:4]} {f.name[4:7]}\", \"%Y %j\") for f in lfiles_NRT\n",
    "]"
   ]
  },
  {
   "cell_type": "code",
   "execution_count": 13,
   "id": "042b232a-b6e9-404b-861a-90460bac1228",
   "metadata": {
    "tags": []
   },
   "outputs": [],
   "source": [
    "lfiles_Past_dates = [\n",
    "    datetime.strptime(f\"{f.name[:4]} {f.name[4:7]}\", \"%Y %j\") for f in lfiles_Past\n",
    "]"
   ]
  },
  {
   "cell_type": "markdown",
   "id": "0239b0b6-fbe9-42ab-93f5-e9232f3b5050",
   "metadata": {},
   "source": [
    "### read the station coordinates "
   ]
  },
  {
   "cell_type": "code",
   "execution_count": 14,
   "id": "786ed996-9db5-4aee-b348-808b4e468c02",
   "metadata": {
    "tags": []
   },
   "outputs": [],
   "source": [
    "station_coords = pd.read_csv(\"./StationsForNico.csv\", index_col=None, header=None)"
   ]
  },
  {
   "cell_type": "code",
   "execution_count": 15,
   "id": "268fe2d4-b48f-427f-8234-bf67dbe1357f",
   "metadata": {
    "tags": []
   },
   "outputs": [],
   "source": [
    "station_coords = station_coords.dropna()"
   ]
  },
  {
   "cell_type": "code",
   "execution_count": 16,
   "id": "7d10622e-6b1b-4aac-b9d5-e11e1d5c999a",
   "metadata": {
    "tags": []
   },
   "outputs": [],
   "source": [
    "station_coords.columns = [\"station_name\", \"country\", \"lat\", \"lon\"]"
   ]
  },
  {
   "cell_type": "code",
   "execution_count": 17,
   "id": "b783ba8a-0c93-4e5b-a0ba-3c813755cebd",
   "metadata": {
    "tags": []
   },
   "outputs": [
    {
     "data": {
      "text/html": [
       "<div>\n",
       "<style scoped>\n",
       "    .dataframe tbody tr th:only-of-type {\n",
       "        vertical-align: middle;\n",
       "    }\n",
       "\n",
       "    .dataframe tbody tr th {\n",
       "        vertical-align: top;\n",
       "    }\n",
       "\n",
       "    .dataframe thead th {\n",
       "        text-align: right;\n",
       "    }\n",
       "</style>\n",
       "<table border=\"1\" class=\"dataframe\">\n",
       "  <thead>\n",
       "    <tr style=\"text-align: right;\">\n",
       "      <th></th>\n",
       "      <th>station_name</th>\n",
       "      <th>country</th>\n",
       "      <th>lat</th>\n",
       "      <th>lon</th>\n",
       "    </tr>\n",
       "  </thead>\n",
       "  <tbody>\n",
       "    <tr>\n",
       "      <th>0</th>\n",
       "      <td>Funafuti</td>\n",
       "      <td>Tuvalu</td>\n",
       "      <td>-8.517488</td>\n",
       "      <td>179.200140</td>\n",
       "    </tr>\n",
       "    <tr>\n",
       "      <th>1</th>\n",
       "      <td>Nanumea</td>\n",
       "      <td>Tuvalu</td>\n",
       "      <td>-5.673444</td>\n",
       "      <td>176.114522</td>\n",
       "    </tr>\n",
       "    <tr>\n",
       "      <th>2</th>\n",
       "      <td>Nui</td>\n",
       "      <td>Tuvalu</td>\n",
       "      <td>-7.247021</td>\n",
       "      <td>177.147180</td>\n",
       "    </tr>\n",
       "    <tr>\n",
       "      <th>3</th>\n",
       "      <td>Nukufetau</td>\n",
       "      <td>Tuvalu</td>\n",
       "      <td>-8.027851</td>\n",
       "      <td>178.314435</td>\n",
       "    </tr>\n",
       "    <tr>\n",
       "      <th>4</th>\n",
       "      <td>Nukulaelae</td>\n",
       "      <td>Tuvalu</td>\n",
       "      <td>-9.370100</td>\n",
       "      <td>179.808997</td>\n",
       "    </tr>\n",
       "  </tbody>\n",
       "</table>\n",
       "</div>"
      ],
      "text/plain": [
       "  station_name country       lat         lon\n",
       "0     Funafuti  Tuvalu -8.517488  179.200140\n",
       "1      Nanumea  Tuvalu -5.673444  176.114522\n",
       "2          Nui  Tuvalu -7.247021  177.147180\n",
       "3    Nukufetau  Tuvalu -8.027851  178.314435\n",
       "4   Nukulaelae  Tuvalu -9.370100  179.808997"
      ]
     },
     "execution_count": 17,
     "metadata": {},
     "output_type": "execute_result"
    }
   ],
   "source": [
    "station_coords.head()"
   ]
  },
  {
   "cell_type": "code",
   "execution_count": 18,
   "id": "2a955ba2-39bb-4bdf-adc9-6e6a0a5350df",
   "metadata": {
    "tags": []
   },
   "outputs": [],
   "source": [
    "from ICU_Water_Watch import utils"
   ]
  },
  {
   "cell_type": "markdown",
   "id": "881d7435-0d46-4594-bc93-f3e5634793f5",
   "metadata": {},
   "source": [
    "### open the NRT dataset "
   ]
  },
  {
   "cell_type": "code",
   "execution_count": 19,
   "id": "44641e4d-37f8-4d77-b0b9-1af2a8300c9b",
   "metadata": {
    "tags": []
   },
   "outputs": [],
   "source": [
    "dset = xr.open_mfdataset(lfiles_NRT, parallel=True)"
   ]
  },
  {
   "cell_type": "code",
   "execution_count": 20,
   "id": "a468df8a-b4c2-4731-8c50-a5f76c534c6f",
   "metadata": {
    "tags": []
   },
   "outputs": [],
   "source": [
    "dset = utils.roll_longitudes(dset)"
   ]
  },
  {
   "cell_type": "code",
   "execution_count": null,
   "id": "0f95c929-7b5e-4b7e-b60b-f0c765290e09",
   "metadata": {},
   "outputs": [],
   "source": [
    "dset = dset.sortby('lat')"
   ]
  },
  {
   "cell_type": "code",
   "execution_count": null,
   "id": "4e7453b4-717d-421e-9b55-63d29e24157b",
   "metadata": {},
   "outputs": [],
   "source": [
    "dset = domains.extract_domain(dset, domain)"
   ]
  },
  {
   "cell_type": "code",
   "execution_count": 21,
   "id": "e07297a1-d2eb-4df1-a696-4d22aa33c9b9",
   "metadata": {
    "tags": []
   },
   "outputs": [],
   "source": [
    "station_time_series_NRT_ds = dset[varname].sel(\n",
    "    lon=xr.DataArray(station_coords.lon.values, dims=\"z\"),\n",
    "    lat=xr.DataArray(station_coords.lat.values, dims=\"z\"),\n",
    "    method=\"nearest\",\n",
    ")"
   ]
  },
  {
   "cell_type": "code",
   "execution_count": 22,
   "id": "3e3ee071-40f6-4a53-97bf-7e4f7ae871c7",
   "metadata": {
    "tags": []
   },
   "outputs": [
    {
     "name": "stdout",
     "output_type": "stream",
     "text": [
      "[########################################] | 100% Completed | 99.31 s\n"
     ]
    }
   ],
   "source": [
    "with ProgressBar(): \n",
    "    station_time_series_NRT_ds = station_time_series_NRT_ds.compute()"
   ]
  },
  {
   "cell_type": "code",
   "execution_count": 23,
   "id": "f0a4d47d-0315-4e8d-816e-3f85576a2699",
   "metadata": {
    "tags": []
   },
   "outputs": [],
   "source": [
    "station_time_series_NRT_ds = station_time_series_NRT_ds.load()"
   ]
  },
  {
   "cell_type": "code",
   "execution_count": 29,
   "id": "94a1396a-4d4c-4fbc-910b-aacc4749767f",
   "metadata": {
    "tags": []
   },
   "outputs": [],
   "source": [
    "station_time_series_NRT_df = station_time_series_NRT_ds.to_pandas()"
   ]
  },
  {
   "cell_type": "code",
   "execution_count": 35,
   "id": "f79c2a21-56c7-4a11-a6fa-f2087310b3ed",
   "metadata": {
    "tags": []
   },
   "outputs": [],
   "source": [
    "station_time_series_NRT_df.columns = station_coords.index"
   ]
  },
  {
   "cell_type": "code",
   "execution_count": 37,
   "id": "f212e689-7e29-435a-aef1-d3db3b5f65c2",
   "metadata": {
    "tags": []
   },
   "outputs": [],
   "source": [
    "dset.close()"
   ]
  },
  {
   "cell_type": "markdown",
   "id": "137e5efc-9d2c-41d2-bc4a-b566031e4002",
   "metadata": {},
   "source": [
    "### open the *Past* dataset "
   ]
  },
  {
   "cell_type": "code",
   "execution_count": 38,
   "id": "f29d1e40-2f8a-468f-8a33-96905e6ab80a",
   "metadata": {
    "tags": []
   },
   "outputs": [],
   "source": [
    "dset = xr.open_mfdataset(lfiles_Past, parallel=True)"
   ]
  },
  {
   "cell_type": "code",
   "execution_count": 39,
   "id": "0dc36fd4-4ba5-4690-810c-43949cc291c0",
   "metadata": {
    "tags": []
   },
   "outputs": [],
   "source": [
    "dset = utils.roll_longitudes(dset)"
   ]
  },
  {
   "cell_type": "code",
   "execution_count": null,
   "id": "35cce7ad-dba3-4905-96ca-19838c835146",
   "metadata": {},
   "outputs": [],
   "source": [
    "dset = dset.sortby('lat')"
   ]
  },
  {
   "cell_type": "code",
   "execution_count": null,
   "id": "66c23e24-dbb7-469e-8fb4-6ae792349c13",
   "metadata": {},
   "outputs": [],
   "source": [
    "dset = domains.extract_domain(dset, domain)"
   ]
  },
  {
   "cell_type": "code",
   "execution_count": 40,
   "id": "289a61fa-7935-4dd7-9f6c-042f5565c8fb",
   "metadata": {
    "tags": []
   },
   "outputs": [],
   "source": [
    "station_time_series_Past_ds = dset[varname].sel(\n",
    "    lon=xr.DataArray(station_coords.lon.values, dims=\"z\"),\n",
    "    lat=xr.DataArray(station_coords.lat.values, dims=\"z\"),\n",
    "    method=\"nearest\",\n",
    ")"
   ]
  },
  {
   "cell_type": "code",
   "execution_count": null,
   "id": "b7b8f8a5-d836-4e32-8fb9-3aa2477d83db",
   "metadata": {
    "tags": []
   },
   "outputs": [
    {
     "name": "stdout",
     "output_type": "stream",
     "text": [
      "[##############################          ] | 76% Completed | 28m 5sss"
     ]
    }
   ],
   "source": [
    "with ProgressBar(): \n",
    "    station_time_series_Past_ds = station_time_series_Past_ds.compute()"
   ]
  },
  {
   "cell_type": "code",
   "execution_count": null,
   "id": "cb72eb6e-d78e-4597-8cfa-0cdc55688294",
   "metadata": {
    "tags": []
   },
   "outputs": [],
   "source": [
    "station_time_series_Past_ds = station_time_series_Past_ds.load()"
   ]
  },
  {
   "cell_type": "code",
   "execution_count": null,
   "id": "701c73e7-8666-4fb8-b2b3-73acb7427257",
   "metadata": {
    "tags": []
   },
   "outputs": [],
   "source": [
    "station_time_series_Past_df = station_time_series_Past_ds.to_pandas()"
   ]
  },
  {
   "cell_type": "code",
   "execution_count": null,
   "id": "7c1898d6-2325-4b9d-8916-70dc685babdb",
   "metadata": {
    "tags": []
   },
   "outputs": [],
   "source": [
    "station_time_series_Past_df.columns = station_coords.index"
   ]
  },
  {
   "cell_type": "code",
   "execution_count": null,
   "id": "6fb5c5e3-9f89-46d0-95e2-8994e13960df",
   "metadata": {
    "tags": []
   },
   "outputs": [],
   "source": [
    "dset.close()"
   ]
  },
  {
   "cell_type": "markdown",
   "id": "67586730-0ff4-44a7-8228-4f5daecd8a64",
   "metadata": {},
   "source": [
    "### Below is the function used in an earlier version of this notebook to loop over files and perform extraction "
   ]
  },
  {
   "cell_type": "code",
   "execution_count": 25,
   "id": "26af6dad-b804-4aa9-abeb-5a49f256c4c1",
   "metadata": {
    "tags": []
   },
   "outputs": [],
   "source": [
    "def extract_station_time_series(\n",
    "    netcdf_lfiles, station_coords, varname=\"precipitation\", dataframe=True\n",
    "):\n",
    "    sub_stations_time_series = []\n",
    "\n",
    "    for filename in netcdf_lfiles:\n",
    "        \n",
    "        dset = xr.open_dataset(filename)\n",
    "\n",
    "        dset = utils.roll_longitudes(dset)\n",
    "\n",
    "        dset = dset.sortby(\"lat\")\n",
    "\n",
    "        date = datetime.strptime(f\"{filename.name.replace('.nc','')}\", \"%Y%j\")\n",
    "\n",
    "        sub_stations = []\n",
    "\n",
    "        for i, row in station_coords.iterrows():\n",
    "            station_name = row.station_name\n",
    "            country = row.country\n",
    "            lat = row.lat\n",
    "            lon = row.lon\n",
    "\n",
    "            sub = dset.sel(lat=lat, lon=lon, method=\"nearest\")\n",
    "\n",
    "            sub = sub.expand_dims({\"station\": [f\"{station_name}, {country}\"]})\n",
    "\n",
    "            sub_stations.append(sub)\n",
    "\n",
    "        sub_stations = xr.concat(sub_stations, dim=\"station\")\n",
    "\n",
    "        sub_stations_time_series.append(sub_stations)\n",
    "\n",
    "        dset.close()\n",
    "\n",
    "    sub_stations_time_series = xr.concat(sub_stations_time_series, dim=\"time\")\n",
    "\n",
    "    if dataframe:\n",
    "        return sub_stations_time_series[varname].to_pandas().T\n",
    "\n",
    "    else:\n",
    "        return sub_stations_time_series"
   ]
  },
  {
   "cell_type": "code",
   "execution_count": null,
   "id": "d95908f8-73ec-479a-9312-81b7fb0e9d78",
   "metadata": {},
   "outputs": [],
   "source": []
  },
  {
   "cell_type": "code",
   "execution_count": null,
   "id": "a89827fe-d7b3-4cad-8157-96123dfc5abe",
   "metadata": {},
   "outputs": [],
   "source": []
  },
  {
   "cell_type": "code",
   "execution_count": null,
   "id": "be4635e6-9efa-4093-9f63-d5cba84553c1",
   "metadata": {},
   "outputs": [],
   "source": []
  },
  {
   "cell_type": "code",
   "execution_count": null,
   "id": "28fdc1fb-cbad-44be-a209-ad8d7d9bc32f",
   "metadata": {},
   "outputs": [],
   "source": []
  },
  {
   "cell_type": "code",
   "execution_count": null,
   "id": "f57c6377-331f-4b5f-af8d-574030ea7f90",
   "metadata": {},
   "outputs": [],
   "source": []
  },
  {
   "cell_type": "code",
   "execution_count": null,
   "id": "bb7fe5f4-dc75-413b-88ca-4e6cf4f59825",
   "metadata": {},
   "outputs": [],
   "source": []
  },
  {
   "cell_type": "markdown",
   "id": "7f9cabde-0f0e-45ce-9dda-89cd4487966d",
   "metadata": {},
   "source": [
    "### extract only Tuvalu"
   ]
  },
  {
   "cell_type": "code",
   "execution_count": null,
   "id": "1fbcb203-b032-4c69-8776-7336b3039fc9",
   "metadata": {
    "tags": []
   },
   "outputs": [],
   "source": [
    "station_time_series_NRT_df_Tuvalu = station_time_series_NRT_df.loc[\n",
    "    station_time_series_NRT_df.index.str.contains(\"Tuvalu\"), :\n",
    "]"
   ]
  },
  {
   "cell_type": "code",
   "execution_count": null,
   "id": "50f0f844-fbb0-4e20-aa69-bff71bfff6f3",
   "metadata": {},
   "outputs": [],
   "source": [
    "station_time_series_Past_df"
   ]
  },
  {
   "cell_type": "code",
   "execution_count": null,
   "id": "3ef70a24-8238-4f36-8204-91ce10edd8ad",
   "metadata": {
    "tags": []
   },
   "outputs": [],
   "source": [
    "station_time_series_NRT_df = station_time_series_NRT_df.T"
   ]
  },
  {
   "cell_type": "code",
   "execution_count": null,
   "id": "67cf8446-5fa1-4bc6-9f32-96258ec0f85f",
   "metadata": {
    "tags": []
   },
   "outputs": [],
   "source": [
    "station_time_series_NRT_df.plot(subplots=True, figsize=(10, 20));"
   ]
  },
  {
   "cell_type": "markdown",
   "id": "ddcdf6b8-085e-4ba7-b7ad-42850e4c242b",
   "metadata": {
    "tags": []
   },
   "source": [
    "### calculate the quantile 0.99"
   ]
  },
  {
   "cell_type": "code",
   "execution_count": null,
   "id": "e843b789-f48a-4b9d-90a2-6e7238d8a473",
   "metadata": {
    "tags": []
   },
   "outputs": [],
   "source": [
    "q99 = station_time_series_Past_df.quantile(0.99)"
   ]
  },
  {
   "cell_type": "code",
   "execution_count": null,
   "id": "29100fd3-476b-4244-a6f7-47ecd487e272",
   "metadata": {
    "tags": []
   },
   "outputs": [],
   "source": [
    "q99"
   ]
  },
  {
   "cell_type": "markdown",
   "id": "ae2805f1-5f44-4302-a9a4-bcdd04ae1c0f",
   "metadata": {},
   "source": [
    "### we use that as a filter, anything above 5 X this is probably rubbish "
   ]
  },
  {
   "cell_type": "code",
   "execution_count": null,
   "id": "aa057c2c-de8d-4508-b403-d099e232118f",
   "metadata": {
    "tags": []
   },
   "outputs": [],
   "source": [
    "threshs = q99 * 5"
   ]
  },
  {
   "cell_type": "code",
   "execution_count": null,
   "id": "9fc4489c-0db4-4cc4-a52e-e12dcca240b3",
   "metadata": {
    "tags": []
   },
   "outputs": [],
   "source": [
    "station_time_series_Past_df = station_time_series_Past_df.mask(\n",
    "    station_time_series_Past_df > threshs\n",
    ")"
   ]
  },
  {
   "cell_type": "code",
   "execution_count": null,
   "id": "fdc8ea8f-4274-4a4d-8971-2a94dca5ce95",
   "metadata": {
    "tags": []
   },
   "outputs": [],
   "source": [
    "station_time_series_NRT_df = station_time_series_NRT_df.mask(\n",
    "    station_time_series_NRT_df > threshs\n",
    ")"
   ]
  },
  {
   "cell_type": "code",
   "execution_count": null,
   "id": "e80b7f94-4c03-4968-b1f3-5e2f18be2ab4",
   "metadata": {
    "tags": []
   },
   "outputs": [],
   "source": [
    "station_time_series_NRT_df.plot(subplots=True, figsize=(10, 20));"
   ]
  },
  {
   "cell_type": "code",
   "execution_count": null,
   "id": "b4bba26e-c7a7-47f0-9a11-2baffc9a9110",
   "metadata": {
    "tags": []
   },
   "outputs": [],
   "source": [
    "station_time_series_Past_df.plot(subplots=True, figsize=(10, 20));"
   ]
  },
  {
   "cell_type": "code",
   "execution_count": null,
   "id": "5e05c605-afd1-410b-a22b-c5c66596e374",
   "metadata": {},
   "outputs": [],
   "source": []
  }
 ],
 "metadata": {
  "kernelspec": {
   "display_name": "Python 3 (ipykernel)",
   "language": "python",
   "name": "python3"
  },
  "language_info": {
   "codemirror_mode": {
    "name": "ipython",
    "version": 3
   },
   "file_extension": ".py",
   "mimetype": "text/x-python",
   "name": "python",
   "nbconvert_exporter": "python",
   "pygments_lexer": "ipython3",
   "version": "3.9.13"
  }
 },
 "nbformat": 4,
 "nbformat_minor": 5
}
