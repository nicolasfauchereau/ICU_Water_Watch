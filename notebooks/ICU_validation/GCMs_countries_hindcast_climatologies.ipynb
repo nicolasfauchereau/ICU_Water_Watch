{
 "cells": [
  {
   "cell_type": "markdown",
   "id": "dc848a92-0993-4d7a-8b8c-59ee5d5e5564",
   "metadata": {
    "papermill": {
     "duration": 0.094831,
     "end_time": "2021-08-20T05:16:28.491189",
     "exception": false,
     "start_time": "2021-08-20T05:16:28.396358",
     "status": "completed"
    },
    "tags": []
   },
   "source": [
    "### calculate the leadtime-dependent climatological terciles, deciles and percentiles (0.02, then 0.05 to 0.95 with 0.05 step) from the individual GCMs' hindcast dataset (period 1993 - 2016) for countries "
   ]
  },
  {
   "cell_type": "code",
   "execution_count": 1,
   "id": "d9e3e956-31d5-4606-b762-657a128f93dc",
   "metadata": {
    "execution": {
     "iopub.execute_input": "2021-08-20T05:16:28.601129Z",
     "iopub.status.busy": "2021-08-20T05:16:28.600769Z",
     "iopub.status.idle": "2021-08-20T05:16:28.607138Z",
     "shell.execute_reply": "2021-08-20T05:16:28.607433Z"
    },
    "papermill": {
     "duration": 0.064861,
     "end_time": "2021-08-20T05:16:28.607598",
     "exception": false,
     "start_time": "2021-08-20T05:16:28.542737",
     "status": "completed"
    },
    "tags": []
   },
   "outputs": [],
   "source": [
    "%load_ext autoreload\n",
    "%autoreload 2"
   ]
  },
  {
   "cell_type": "code",
   "execution_count": 2,
   "id": "ec7c9f73-b771-4191-9c46-eb9e2ca266ad",
   "metadata": {
    "execution": {
     "iopub.execute_input": "2021-08-20T05:16:28.719729Z",
     "iopub.status.busy": "2021-08-20T05:16:28.719380Z",
     "iopub.status.idle": "2021-08-20T05:16:29.938142Z",
     "shell.execute_reply": "2021-08-20T05:16:29.937835Z"
    },
    "papermill": {
     "duration": 1.275315,
     "end_time": "2021-08-20T05:16:29.938226",
     "exception": false,
     "start_time": "2021-08-20T05:16:28.662911",
     "status": "completed"
    },
    "tags": []
   },
   "outputs": [],
   "source": [
    "%matplotlib inline\n",
    "\n",
    "### os and standard libraries \n",
    "import os\n",
    "import sys\n",
    "from collections import OrderedDict\n",
    "from itertools import product\n",
    "\n",
    "### datetimes\n",
    "from datetime import datetime, timedelta\n",
    "\n",
    "### scipy\n",
    "import numpy as np\n",
    "import pandas as pd\n",
    "import xarray as xr\n",
    "import geopandas as gpd\n",
    "import cartopy.crs as ccrs\n",
    "import dask\n",
    "from dask.diagnostics import ProgressBar\n",
    "from tqdm import tqdm\n",
    "\n",
    "### plotting\n",
    "from matplotlib import pyplot as plt\n",
    "import matplotlib\n",
    "import seaborn as sns\n"
   ]
  },
  {
   "cell_type": "code",
   "execution_count": 3,
   "id": "0cab9771-20cf-4302-9c84-97580f01d934",
   "metadata": {
    "execution": {
     "iopub.execute_input": "2021-08-20T05:16:30.050764Z",
     "iopub.status.busy": "2021-08-20T05:16:30.050391Z",
     "iopub.status.idle": "2021-08-20T05:16:30.062605Z",
     "shell.execute_reply": "2021-08-20T05:16:30.062882Z"
    },
    "papermill": {
     "duration": 0.070075,
     "end_time": "2021-08-20T05:16:30.062995",
     "exception": false,
     "start_time": "2021-08-20T05:16:29.992920",
     "status": "completed"
    },
    "tags": []
   },
   "outputs": [],
   "source": [
    "import pathlib\n",
    "\n",
    "HOME = pathlib.Path.home()\n",
    "CWD = pathlib.Path.cwd() "
   ]
  },
  {
   "cell_type": "code",
   "execution_count": 4,
   "id": "03b5d899-37d8-48b0-b161-3b5a67d2e116",
   "metadata": {
    "execution": {
     "iopub.execute_input": "2021-08-20T05:16:30.173370Z",
     "iopub.status.busy": "2021-08-20T05:16:30.173013Z",
     "iopub.status.idle": "2021-08-20T05:16:30.185153Z",
     "shell.execute_reply": "2021-08-20T05:16:30.184848Z"
    },
    "papermill": {
     "duration": 0.067196,
     "end_time": "2021-08-20T05:16:30.185243",
     "exception": false,
     "start_time": "2021-08-20T05:16:30.118047",
     "status": "completed"
    },
    "tags": []
   },
   "outputs": [],
   "source": [
    "sys.path.append('../../') "
   ]
  },
  {
   "cell_type": "code",
   "execution_count": 5,
   "id": "d986433d-94b5-41de-b90e-ff762bdcb9c4",
   "metadata": {
    "execution": {
     "iopub.execute_input": "2021-08-20T05:16:30.293975Z",
     "iopub.status.busy": "2021-08-20T05:16:30.293638Z",
     "iopub.status.idle": "2021-08-20T05:16:30.333434Z",
     "shell.execute_reply": "2021-08-20T05:16:30.333083Z"
    },
    "papermill": {
     "duration": 0.094591,
     "end_time": "2021-08-20T05:16:30.333517",
     "exception": false,
     "start_time": "2021-08-20T05:16:30.238926",
     "status": "completed"
    },
    "tags": []
   },
   "outputs": [],
   "source": [
    "from ICU_Water_Watch import geo, C3S, domains, plot, utils"
   ]
  },
  {
   "cell_type": "markdown",
   "id": "ea904f40-803b-439c-ade7-bda5bed7ac2e",
   "metadata": {
    "papermill": {
     "duration": 0.053887,
     "end_time": "2021-08-20T05:16:30.440634",
     "exception": false,
     "start_time": "2021-08-20T05:16:30.386747",
     "status": "completed"
    },
    "tags": []
   },
   "source": [
    "### dictionnary holding quantile name and quantile values, they are passed as **lists** to avoid any numerical issues "
   ]
  },
  {
   "cell_type": "code",
   "execution_count": 6,
   "id": "6ccb7b07-f062-4ea7-9f0a-58dd9b082bba",
   "metadata": {
    "execution": {
     "iopub.execute_input": "2021-08-20T05:16:30.549023Z",
     "iopub.status.busy": "2021-08-20T05:16:30.548649Z",
     "iopub.status.idle": "2021-08-20T05:16:30.560952Z",
     "shell.execute_reply": "2021-08-20T05:16:30.560601Z"
    },
    "papermill": {
     "duration": 0.067416,
     "end_time": "2021-08-20T05:16:30.561037",
     "exception": false,
     "start_time": "2021-08-20T05:16:30.493621",
     "status": "completed"
    },
    "tags": []
   },
   "outputs": [],
   "source": [
    "dict_quantiles = OrderedDict()\n",
    "dict_quantiles['tercile'] = [0.3333, 0.6666]\n",
    "dict_quantiles['decile'] = [0.1, 0.2, 0.3, 0.4, 0.5, 0.6, 0.7, 0.8, 0.9]\n",
    "dict_quantiles['percentile'] = [0.02, 0.05, 0.1 , 0.15, 0.2 , 0.25, 0.3 , 0.35, 0.4 , 0.45, 0.5 , 0.55, 0.6 , 0.65, 0.7 , 0.75, 0.8 , 0.85, 0.9 , 0.95] "
   ]
  },
  {
   "cell_type": "markdown",
   "id": "91fc8bca-7496-4fb6-b86d-ef83d37820b4",
   "metadata": {
    "papermill": {
     "duration": 0.052186,
     "end_time": "2021-08-20T05:16:30.665747",
     "exception": false,
     "start_time": "2021-08-20T05:16:30.613561",
     "status": "completed"
    },
    "tags": []
   },
   "source": [
    "### list of GCMs with complete hindcast period "
   ]
  },
  {
   "cell_type": "code",
   "execution_count": 7,
   "id": "8995725a-3307-4e58-93d2-8eaa1526d91d",
   "metadata": {
    "execution": {
     "iopub.execute_input": "2021-08-20T05:16:30.772648Z",
     "iopub.status.busy": "2021-08-20T05:16:30.772123Z",
     "iopub.status.idle": "2021-08-20T05:16:30.784697Z",
     "shell.execute_reply": "2021-08-20T05:16:30.784288Z"
    },
    "papermill": {
     "duration": 0.06662,
     "end_time": "2021-08-20T05:16:30.784781",
     "exception": false,
     "start_time": "2021-08-20T05:16:30.718161",
     "status": "completed"
    },
    "tags": []
   },
   "outputs": [],
   "source": [
    "GCMs = ['ECMWF', 'UKMO', 'METEO_FRANCE', 'DWD', 'CMCC', 'NCEP']"
   ]
  },
  {
   "cell_type": "markdown",
   "id": "00a0c1e7-9bb3-4829-a6bc-7d0f0a8a8acd",
   "metadata": {
    "papermill": {
     "duration": 0.051351,
     "end_time": "2021-08-20T05:16:30.887986",
     "exception": false,
     "start_time": "2021-08-20T05:16:30.836635",
     "status": "completed"
    },
    "tags": []
   },
   "source": [
    "### list of possible country names (ICU)"
   ]
  },
  {
   "cell_type": "code",
   "execution_count": 8,
   "id": "f12f1119-2afc-4158-a54a-7f4a14b663bd",
   "metadata": {
    "execution": {
     "iopub.execute_input": "2021-08-20T05:16:30.993638Z",
     "iopub.status.busy": "2021-08-20T05:16:30.993272Z",
     "iopub.status.idle": "2021-08-20T05:16:31.005756Z",
     "shell.execute_reply": "2021-08-20T05:16:31.005387Z"
    },
    "papermill": {
     "duration": 0.066069,
     "end_time": "2021-08-20T05:16:31.005841",
     "exception": false,
     "start_time": "2021-08-20T05:16:30.939772",
     "status": "completed"
    },
    "tags": []
   },
   "outputs": [],
   "source": [
    "country_names = ['New Caledonia',\n",
    " 'Pitcairn Islands',\n",
    " 'Papua New Guinea',\n",
    " 'Solomon Islands',\n",
    " 'Kiribati: Phoenix Islands',\n",
    " 'Fiji',\n",
    " 'Tuvalu',\n",
    " 'Northern Cook Islands',\n",
    " 'Kiribati: Line Islands',\n",
    " 'Federated States of Micronesia',\n",
    " 'Samoa',\n",
    " 'Kiribati: Gilbert Islands',\n",
    " 'Wallis & Futuna',\n",
    " 'Tokelau',\n",
    " 'Tuamotu / Gambier Islands',\n",
    " 'Tonga',\n",
    " 'Niue',\n",
    " 'Southern Cook Islands',\n",
    " 'Austral Islands',\n",
    " 'Society Islands',\n",
    " 'Marquesas',\n",
    " 'Vanuatu South',\n",
    " 'Vanuatu North',\n",
    " 'Guam',\n",
    " 'Northern Marianas',\n",
    " 'Marshall Islands',\n",
    " 'Nauru',\n",
    " 'Palau',\n",
    " 'American Samoa']"
   ]
  },
  {
   "cell_type": "markdown",
   "id": "ca1eed61-799e-4262-85e3-d99fa6adb06a",
   "metadata": {
    "papermill": {
     "duration": 0.051371,
     "end_time": "2021-08-20T05:16:31.108318",
     "exception": false,
     "start_time": "2021-08-20T05:16:31.056947",
     "status": "completed"
    },
    "tags": []
   },
   "source": [
    "### PARAMETERS"
   ]
  },
  {
   "cell_type": "code",
   "execution_count": 9,
   "id": "ec9e9c11-6a0a-4569-b095-12b7aa3e4e25",
   "metadata": {
    "execution": {
     "iopub.execute_input": "2021-08-20T05:16:31.214031Z",
     "iopub.status.busy": "2021-08-20T05:16:31.213674Z",
     "iopub.status.idle": "2021-08-20T05:16:31.225690Z",
     "shell.execute_reply": "2021-08-20T05:16:31.225964Z"
    },
    "papermill": {
     "duration": 0.066495,
     "end_time": "2021-08-20T05:16:31.226066",
     "exception": false,
     "start_time": "2021-08-20T05:16:31.159571",
     "status": "completed"
    },
    "tags": [
     "parameters"
    ]
   },
   "outputs": [],
   "source": [
    "provider = 'CDS'\n",
    "varname = 'tprate'\n",
    "period = 'seasonal'\n",
    "GCM = 'ECMWF'\n",
    "shape_name = 'Fiji'\n",
    "quantiles = 'tercile'"
   ]
  },
  {
   "cell_type": "code",
   "execution_count": 10,
   "id": "09e69e73",
   "metadata": {
    "execution": {
     "iopub.execute_input": "2021-08-20T05:16:31.331765Z",
     "iopub.status.busy": "2021-08-20T05:16:31.331402Z",
     "iopub.status.idle": "2021-08-20T05:16:31.343144Z",
     "shell.execute_reply": "2021-08-20T05:16:31.343418Z"
    },
    "papermill": {
     "duration": 0.06526,
     "end_time": "2021-08-20T05:16:31.343523",
     "exception": false,
     "start_time": "2021-08-20T05:16:31.278263",
     "status": "completed"
    },
    "tags": [
     "injected-parameters"
    ]
   },
   "outputs": [],
   "source": [
    "# Parameters\n",
    "GCM = \"NCEP\"\n",
    "shape_name = \"Papua New Guinea\"\n"
   ]
  },
  {
   "cell_type": "markdown",
   "id": "1e5315c7-8f76-4063-9a1a-bbd857a5bdff",
   "metadata": {
    "papermill": {
     "duration": 0.052317,
     "end_time": "2021-08-20T05:16:31.447786",
     "exception": false,
     "start_time": "2021-08-20T05:16:31.395469",
     "status": "completed"
    },
    "tags": []
   },
   "source": [
    "### path definitions follow"
   ]
  },
  {
   "cell_type": "markdown",
   "id": "7bbba764-8ece-42db-96a7-aa3033617b73",
   "metadata": {
    "papermill": {
     "duration": 0.05214,
     "end_time": "2021-08-20T05:16:31.551824",
     "exception": false,
     "start_time": "2021-08-20T05:16:31.499684",
     "status": "completed"
    },
    "tags": []
   },
   "source": [
    "### figures "
   ]
  },
  {
   "cell_type": "code",
   "execution_count": 11,
   "id": "963acfbf-c3d4-4a03-8a92-b76ec4f36ffd",
   "metadata": {
    "execution": {
     "iopub.execute_input": "2021-08-20T05:16:31.658383Z",
     "iopub.status.busy": "2021-08-20T05:16:31.658047Z",
     "iopub.status.idle": "2021-08-20T05:16:31.670016Z",
     "shell.execute_reply": "2021-08-20T05:16:31.669666Z"
    },
    "papermill": {
     "duration": 0.066136,
     "end_time": "2021-08-20T05:16:31.670098",
     "exception": false,
     "start_time": "2021-08-20T05:16:31.603962",
     "status": "completed"
    },
    "tags": []
   },
   "outputs": [],
   "source": [
    "fig_path = CWD.parents[1].joinpath(\"figures/ICU_validation/\")"
   ]
  },
  {
   "cell_type": "markdown",
   "id": "05579840-f03c-41af-a26c-147d54a8ac9b",
   "metadata": {
    "papermill": {
     "duration": 0.051667,
     "end_time": "2021-08-20T05:16:31.773911",
     "exception": false,
     "start_time": "2021-08-20T05:16:31.722244",
     "status": "completed"
    },
    "tags": []
   },
   "source": [
    "### outputs "
   ]
  },
  {
   "cell_type": "code",
   "execution_count": 12,
   "id": "e23b3c1b-32ae-4f40-b45e-196e90983a16",
   "metadata": {
    "execution": {
     "iopub.execute_input": "2021-08-20T05:16:31.880954Z",
     "iopub.status.busy": "2021-08-20T05:16:31.880605Z",
     "iopub.status.idle": "2021-08-20T05:16:31.892883Z",
     "shell.execute_reply": "2021-08-20T05:16:31.892519Z"
    },
    "papermill": {
     "duration": 0.067016,
     "end_time": "2021-08-20T05:16:31.892966",
     "exception": false,
     "start_time": "2021-08-20T05:16:31.825950",
     "status": "completed"
    },
    "tags": []
   },
   "outputs": [],
   "source": [
    "outputs_path = CWD.parents[1].joinpath(\"outputs/ICU_validation/\")"
   ]
  },
  {
   "cell_type": "markdown",
   "id": "6066e28c-480a-4d4f-a59f-6dd39789ba73",
   "metadata": {
    "papermill": {
     "duration": 0.052212,
     "end_time": "2021-08-20T05:16:32.027544",
     "exception": false,
     "start_time": "2021-08-20T05:16:31.975332",
     "status": "completed"
    },
    "tags": []
   },
   "source": [
    "#### where to find the GCM hindcast datasets "
   ]
  },
  {
   "cell_type": "code",
   "execution_count": 13,
   "id": "cbcb65ed-7126-4c4b-b7b1-29f7c053f5b1",
   "metadata": {
    "execution": {
     "iopub.execute_input": "2021-08-20T05:16:32.134750Z",
     "iopub.status.busy": "2021-08-20T05:16:32.134408Z",
     "iopub.status.idle": "2021-08-20T05:16:32.145857Z",
     "shell.execute_reply": "2021-08-20T05:16:32.146122Z"
    },
    "papermill": {
     "duration": 0.066888,
     "end_time": "2021-08-20T05:16:32.146231",
     "exception": false,
     "start_time": "2021-08-20T05:16:32.079343",
     "status": "completed"
    },
    "tags": []
   },
   "outputs": [],
   "source": [
    "gcm_path = pathlib.Path(f'/media/nicolasf/END19101/ICU/data/{provider}')"
   ]
  },
  {
   "cell_type": "code",
   "execution_count": 14,
   "id": "33fe9a62-f1e7-40b4-a77b-7d7ddee2b7ca",
   "metadata": {
    "execution": {
     "iopub.execute_input": "2021-08-20T05:16:32.254444Z",
     "iopub.status.busy": "2021-08-20T05:16:32.254107Z",
     "iopub.status.idle": "2021-08-20T05:16:32.265876Z",
     "shell.execute_reply": "2021-08-20T05:16:32.265508Z"
    },
    "papermill": {
     "duration": 0.067248,
     "end_time": "2021-08-20T05:16:32.265974",
     "exception": false,
     "start_time": "2021-08-20T05:16:32.198726",
     "status": "completed"
    },
    "tags": []
   },
   "outputs": [],
   "source": [
    "dpath = gcm_path.joinpath(GCM).joinpath(varname.upper())"
   ]
  },
  {
   "cell_type": "code",
   "execution_count": 15,
   "id": "692494fd-2d87-4d0c-9e6d-1aa8b3d71794",
   "metadata": {
    "execution": {
     "iopub.execute_input": "2021-08-20T05:16:32.375838Z",
     "iopub.status.busy": "2021-08-20T05:16:32.375265Z",
     "iopub.status.idle": "2021-08-20T05:16:32.388072Z",
     "shell.execute_reply": "2021-08-20T05:16:32.388339Z"
    },
    "papermill": {
     "duration": 0.069749,
     "end_time": "2021-08-20T05:16:32.388452",
     "exception": false,
     "start_time": "2021-08-20T05:16:32.318703",
     "status": "completed"
    },
    "tags": []
   },
   "outputs": [
    {
     "name": "stdout",
     "output_type": "stream",
     "text": [
      "/media/nicolasf/END19101/ICU/data/CDS/NCEP/TPRATE\n"
     ]
    }
   ],
   "source": [
    "print(dpath)"
   ]
  },
  {
   "cell_type": "markdown",
   "id": "e50a87c7-b682-47e8-a894-0ce0910b7065",
   "metadata": {
    "papermill": {
     "duration": 0.052158,
     "end_time": "2021-08-20T05:16:32.492829",
     "exception": false,
     "start_time": "2021-08-20T05:16:32.440671",
     "status": "completed"
    },
    "tags": []
   },
   "source": [
    "#### where to save the climatologies "
   ]
  },
  {
   "cell_type": "code",
   "execution_count": 16,
   "id": "679005be-3f9c-4f2a-83de-7768c5b917d4",
   "metadata": {
    "execution": {
     "iopub.execute_input": "2021-08-20T05:16:32.602392Z",
     "iopub.status.busy": "2021-08-20T05:16:32.601856Z",
     "iopub.status.idle": "2021-08-20T05:16:32.613884Z",
     "shell.execute_reply": "2021-08-20T05:16:32.613590Z"
    },
    "papermill": {
     "duration": 0.067108,
     "end_time": "2021-08-20T05:16:32.613975",
     "exception": false,
     "start_time": "2021-08-20T05:16:32.546867",
     "status": "completed"
    },
    "tags": []
   },
   "outputs": [],
   "source": [
    "clim_path = gcm_path.joinpath(f'CLIMATOLOGY/{GCM}')"
   ]
  },
  {
   "cell_type": "code",
   "execution_count": 17,
   "id": "a2f7f1dc-078f-4de8-90d5-6f3537a1cb0d",
   "metadata": {
    "execution": {
     "iopub.execute_input": "2021-08-20T05:16:32.726405Z",
     "iopub.status.busy": "2021-08-20T05:16:32.726075Z",
     "iopub.status.idle": "2021-08-20T05:16:32.740325Z",
     "shell.execute_reply": "2021-08-20T05:16:32.739988Z"
    },
    "papermill": {
     "duration": 0.07219,
     "end_time": "2021-08-20T05:16:32.740405",
     "exception": false,
     "start_time": "2021-08-20T05:16:32.668215",
     "status": "completed"
    },
    "tags": []
   },
   "outputs": [
    {
     "data": {
      "text/plain": [
       "PosixPath('/media/nicolasf/END19101/ICU/data/CDS/CLIMATOLOGY/NCEP')"
      ]
     },
     "execution_count": 17,
     "metadata": {},
     "output_type": "execute_result"
    }
   ],
   "source": [
    "clim_path"
   ]
  },
  {
   "cell_type": "code",
   "execution_count": 18,
   "id": "0694a8c7-3ddd-42e6-a4bb-2693457b3a01",
   "metadata": {
    "execution": {
     "iopub.execute_input": "2021-08-20T05:16:32.848941Z",
     "iopub.status.busy": "2021-08-20T05:16:32.848595Z",
     "iopub.status.idle": "2021-08-20T05:16:32.860485Z",
     "shell.execute_reply": "2021-08-20T05:16:32.860138Z"
    },
    "papermill": {
     "duration": 0.067331,
     "end_time": "2021-08-20T05:16:32.860569",
     "exception": false,
     "start_time": "2021-08-20T05:16:32.793238",
     "status": "completed"
    },
    "tags": []
   },
   "outputs": [],
   "source": [
    "if not clim_path.exists(): \n",
    "    \n",
    "    clim_path.mkdir(parents=True)"
   ]
  },
  {
   "cell_type": "markdown",
   "id": "d47e42f3-1647-4f1b-866f-501481e2dfab",
   "metadata": {
    "papermill": {
     "duration": 0.052944,
     "end_time": "2021-08-20T05:16:32.965625",
     "exception": false,
     "start_time": "2021-08-20T05:16:32.912681",
     "status": "completed"
    },
    "tags": []
   },
   "source": [
    "### get the list of files "
   ]
  },
  {
   "cell_type": "code",
   "execution_count": 19,
   "id": "f0b72f90-2b59-45d1-833f-8e47715b9177",
   "metadata": {
    "execution": {
     "iopub.execute_input": "2021-08-20T05:16:33.077268Z",
     "iopub.status.busy": "2021-08-20T05:16:33.076926Z",
     "iopub.status.idle": "2021-08-20T05:16:33.090363Z",
     "shell.execute_reply": "2021-08-20T05:16:33.090002Z"
    },
    "papermill": {
     "duration": 0.070661,
     "end_time": "2021-08-20T05:16:33.090445",
     "exception": false,
     "start_time": "2021-08-20T05:16:33.019784",
     "status": "completed"
    },
    "tags": []
   },
   "outputs": [],
   "source": [
    "lfiles = list(dpath.glob(f\"ensemble_seas_forecasts_{varname}_from_*_{GCM}.netcdf\"))"
   ]
  },
  {
   "cell_type": "code",
   "execution_count": 20,
   "id": "a1e49b09-ad9d-4881-b396-a41abccb3857",
   "metadata": {
    "execution": {
     "iopub.execute_input": "2021-08-20T05:16:33.200110Z",
     "iopub.status.busy": "2021-08-20T05:16:33.199782Z",
     "iopub.status.idle": "2021-08-20T05:16:33.211832Z",
     "shell.execute_reply": "2021-08-20T05:16:33.211490Z"
    },
    "papermill": {
     "duration": 0.067038,
     "end_time": "2021-08-20T05:16:33.211912",
     "exception": false,
     "start_time": "2021-08-20T05:16:33.144874",
     "status": "completed"
    },
    "tags": []
   },
   "outputs": [],
   "source": [
    "lfiles.sort()"
   ]
  },
  {
   "cell_type": "code",
   "execution_count": 21,
   "id": "0ea663ad-65eb-4523-af55-34cec14aee5c",
   "metadata": {
    "execution": {
     "iopub.execute_input": "2021-08-20T05:16:33.320959Z",
     "iopub.status.busy": "2021-08-20T05:16:33.320630Z",
     "iopub.status.idle": "2021-08-20T05:16:33.333204Z",
     "shell.execute_reply": "2021-08-20T05:16:33.332856Z"
    },
    "papermill": {
     "duration": 0.068301,
     "end_time": "2021-08-20T05:16:33.333287",
     "exception": false,
     "start_time": "2021-08-20T05:16:33.264986",
     "status": "completed"
    },
    "tags": []
   },
   "outputs": [
    {
     "data": {
      "text/plain": [
       "PosixPath('/media/nicolasf/END19101/ICU/data/CDS/NCEP/TPRATE/ensemble_seas_forecasts_tprate_from_1993_01_NCEP.netcdf')"
      ]
     },
     "execution_count": 21,
     "metadata": {},
     "output_type": "execute_result"
    }
   ],
   "source": [
    "lfiles[0]"
   ]
  },
  {
   "cell_type": "code",
   "execution_count": 22,
   "id": "f05cb729-d357-4ffc-a0d7-f05e84c4edb3",
   "metadata": {
    "execution": {
     "iopub.execute_input": "2021-08-20T05:16:33.440701Z",
     "iopub.status.busy": "2021-08-20T05:16:33.440344Z",
     "iopub.status.idle": "2021-08-20T05:16:33.453191Z",
     "shell.execute_reply": "2021-08-20T05:16:33.452857Z"
    },
    "papermill": {
     "duration": 0.067223,
     "end_time": "2021-08-20T05:16:33.453271",
     "exception": false,
     "start_time": "2021-08-20T05:16:33.386048",
     "status": "completed"
    },
    "tags": []
   },
   "outputs": [
    {
     "data": {
      "text/plain": [
       "PosixPath('/media/nicolasf/END19101/ICU/data/CDS/NCEP/TPRATE/ensemble_seas_forecasts_tprate_from_2021_04_NCEP.netcdf')"
      ]
     },
     "execution_count": 22,
     "metadata": {},
     "output_type": "execute_result"
    }
   ],
   "source": [
    "lfiles[-1]"
   ]
  },
  {
   "cell_type": "code",
   "execution_count": 23,
   "id": "9f8ec547-7d72-4cf7-ac6a-ef68a1013548",
   "metadata": {
    "execution": {
     "iopub.execute_input": "2021-08-20T05:16:33.563975Z",
     "iopub.status.busy": "2021-08-20T05:16:33.563638Z",
     "iopub.status.idle": "2021-08-20T05:16:33.576650Z",
     "shell.execute_reply": "2021-08-20T05:16:33.576168Z"
    },
    "papermill": {
     "duration": 0.067565,
     "end_time": "2021-08-20T05:16:33.576738",
     "exception": false,
     "start_time": "2021-08-20T05:16:33.509173",
     "status": "completed"
    },
    "tags": []
   },
   "outputs": [
    {
     "data": {
      "text/plain": [
       "305"
      ]
     },
     "execution_count": 23,
     "metadata": {},
     "output_type": "execute_result"
    }
   ],
   "source": [
    "len(lfiles)"
   ]
  },
  {
   "cell_type": "markdown",
   "id": "a2e165d4-9d23-469b-9085-3aa4f0280eac",
   "metadata": {
    "papermill": {
     "duration": 0.052064,
     "end_time": "2021-08-20T05:16:33.681262",
     "exception": false,
     "start_time": "2021-08-20T05:16:33.629198",
     "status": "completed"
    },
    "tags": []
   },
   "source": [
    "### open the multiple files dataset, concatenating over the time dimension, and preprocessing "
   ]
  },
  {
   "cell_type": "code",
   "execution_count": 24,
   "id": "4c877a5a-60b4-44f0-8b3f-e9e1205f20d3",
   "metadata": {
    "execution": {
     "iopub.execute_input": "2021-08-20T05:16:33.788418Z",
     "iopub.status.busy": "2021-08-20T05:16:33.788070Z",
     "iopub.status.idle": "2021-08-20T05:16:43.101906Z",
     "shell.execute_reply": "2021-08-20T05:16:43.101533Z"
    },
    "papermill": {
     "duration": 9.368593,
     "end_time": "2021-08-20T05:16:43.101989",
     "exception": false,
     "start_time": "2021-08-20T05:16:33.733396",
     "status": "completed"
    },
    "tags": []
   },
   "outputs": [],
   "source": [
    "dset = xr.open_mfdataset(lfiles, preprocess=C3S.preprocess_GCM, parallel=True, engine='netcdf4')"
   ]
  },
  {
   "cell_type": "code",
   "execution_count": 25,
   "id": "b7afaa16-4579-4ce1-8c9e-aa2da451b518",
   "metadata": {
    "execution": {
     "iopub.execute_input": "2021-08-20T05:16:43.211291Z",
     "iopub.status.busy": "2021-08-20T05:16:43.210927Z",
     "iopub.status.idle": "2021-08-20T05:16:43.227160Z",
     "shell.execute_reply": "2021-08-20T05:16:43.226888Z"
    },
    "papermill": {
     "duration": 0.071618,
     "end_time": "2021-08-20T05:16:43.227242",
     "exception": false,
     "start_time": "2021-08-20T05:16:43.155624",
     "status": "completed"
    },
    "tags": []
   },
   "outputs": [
    {
     "data": {
      "text/plain": [
       "<bound method Dataset.info of <xarray.Dataset>\n",
       "Dimensions:  (member: 124, time: 305, lon: 126, lat: 86, step: 5)\n",
       "Coordinates:\n",
       "  * member   (member) int64 0 1 2 3 4 5 6 7 ... 116 117 118 119 120 121 122 123\n",
       "  * time     (time) datetime64[ns] 1993-01-01 1993-02-01 ... 2021-04-01\n",
       "  * lon      (lon) float32 120.0 121.0 122.0 123.0 ... 242.0 243.0 244.0 245.0\n",
       "  * lat      (lat) float32 -55.0 -54.0 -53.0 -52.0 -51.0 ... 27.0 28.0 29.0 30.0\n",
       "  * step     (step) int64 1 2 3 4 5\n",
       "Data variables:\n",
       "    tprate   (time, step, member, lat, lon) float32 dask.array<chunksize=(1, 5, 124, 86, 126), meta=np.ndarray>\n",
       "Attributes:\n",
       "    Conventions:  CF-1.6\n",
       "    history:      2021-02-10 20:10:36 GMT by grib_to_netcdf-2.16.0: /opt/ecmw...>"
      ]
     },
     "execution_count": 25,
     "metadata": {},
     "output_type": "execute_result"
    }
   ],
   "source": [
    "dset.info"
   ]
  },
  {
   "cell_type": "markdown",
   "id": "5022eeae-a3d8-4844-a579-4623220c2187",
   "metadata": {
    "papermill": {
     "duration": 0.058051,
     "end_time": "2021-08-20T05:16:43.340381",
     "exception": false,
     "start_time": "2021-08-20T05:16:43.282330",
     "status": "completed"
    },
    "tags": []
   },
   "source": [
    "### print the number of members in the ensemble for each time step "
   ]
  },
  {
   "cell_type": "code",
   "execution_count": 26,
   "id": "5ad135a9-3662-4798-8621-30741c6827a3",
   "metadata": {
    "execution": {
     "iopub.execute_input": "2021-08-20T05:16:43.451852Z",
     "iopub.status.busy": "2021-08-20T05:16:43.451514Z",
     "iopub.status.idle": "2021-08-20T05:16:43.463924Z",
     "shell.execute_reply": "2021-08-20T05:16:43.463558Z"
    },
    "papermill": {
     "duration": 0.06763,
     "end_time": "2021-08-20T05:16:43.464012",
     "exception": false,
     "start_time": "2021-08-20T05:16:43.396382",
     "status": "completed"
    },
    "tags": []
   },
   "outputs": [],
   "source": [
    "# for t in range(len(dset.time)): \n",
    "    \n",
    "#     s = dset.isel(time=t)\n",
    "    \n",
    "#     print(f\"{pd.to_datetime(dset.isel(time=t)['time'].data):%Y-%m}:\", len(s.dropna('member')['member']))"
   ]
  },
  {
   "cell_type": "markdown",
   "id": "f7bbf7e7-c341-436b-b9db-103fd378dcb0",
   "metadata": {
    "papermill": {
     "duration": 0.053333,
     "end_time": "2021-08-20T05:16:43.571083",
     "exception": false,
     "start_time": "2021-08-20T05:16:43.517750",
     "status": "completed"
    },
    "tags": []
   },
   "source": [
    "### selects the hindcast period "
   ]
  },
  {
   "cell_type": "code",
   "execution_count": 27,
   "id": "b543e1a2-5e81-43d0-8bcc-66cd8a1eeedf",
   "metadata": {
    "execution": {
     "iopub.execute_input": "2021-08-20T05:16:43.679757Z",
     "iopub.status.busy": "2021-08-20T05:16:43.679416Z",
     "iopub.status.idle": "2021-08-20T05:16:43.695219Z",
     "shell.execute_reply": "2021-08-20T05:16:43.695498Z"
    },
    "papermill": {
     "duration": 0.071422,
     "end_time": "2021-08-20T05:16:43.695600",
     "exception": false,
     "start_time": "2021-08-20T05:16:43.624178",
     "status": "completed"
    },
    "tags": []
   },
   "outputs": [],
   "source": [
    "dset = dset.sel(time=slice('1993', '2016'))"
   ]
  },
  {
   "cell_type": "code",
   "execution_count": 28,
   "id": "b9e91e8a-db19-42c1-aef6-eaa32fe24cea",
   "metadata": {
    "execution": {
     "iopub.execute_input": "2021-08-20T05:16:43.803906Z",
     "iopub.status.busy": "2021-08-20T05:16:43.803394Z",
     "iopub.status.idle": "2021-08-20T05:16:43.834954Z",
     "shell.execute_reply": "2021-08-20T05:16:43.834620Z"
    },
    "papermill": {
     "duration": 0.086506,
     "end_time": "2021-08-20T05:16:43.835034",
     "exception": false,
     "start_time": "2021-08-20T05:16:43.748528",
     "status": "completed"
    },
    "tags": []
   },
   "outputs": [
    {
     "data": {
      "text/html": [
       "<div><svg style=\"position: absolute; width: 0; height: 0; overflow: hidden\">\n",
       "<defs>\n",
       "<symbol id=\"icon-database\" viewBox=\"0 0 32 32\">\n",
       "<path d=\"M16 0c-8.837 0-16 2.239-16 5v4c0 2.761 7.163 5 16 5s16-2.239 16-5v-4c0-2.761-7.163-5-16-5z\"></path>\n",
       "<path d=\"M16 17c-8.837 0-16-2.239-16-5v6c0 2.761 7.163 5 16 5s16-2.239 16-5v-6c0 2.761-7.163 5-16 5z\"></path>\n",
       "<path d=\"M16 26c-8.837 0-16-2.239-16-5v6c0 2.761 7.163 5 16 5s16-2.239 16-5v-6c0 2.761-7.163 5-16 5z\"></path>\n",
       "</symbol>\n",
       "<symbol id=\"icon-file-text2\" viewBox=\"0 0 32 32\">\n",
       "<path d=\"M28.681 7.159c-0.694-0.947-1.662-2.053-2.724-3.116s-2.169-2.030-3.116-2.724c-1.612-1.182-2.393-1.319-2.841-1.319h-15.5c-1.378 0-2.5 1.121-2.5 2.5v27c0 1.378 1.122 2.5 2.5 2.5h23c1.378 0 2.5-1.122 2.5-2.5v-19.5c0-0.448-0.137-1.23-1.319-2.841zM24.543 5.457c0.959 0.959 1.712 1.825 2.268 2.543h-4.811v-4.811c0.718 0.556 1.584 1.309 2.543 2.268zM28 29.5c0 0.271-0.229 0.5-0.5 0.5h-23c-0.271 0-0.5-0.229-0.5-0.5v-27c0-0.271 0.229-0.5 0.5-0.5 0 0 15.499-0 15.5 0v7c0 0.552 0.448 1 1 1h7v19.5z\"></path>\n",
       "<path d=\"M23 26h-14c-0.552 0-1-0.448-1-1s0.448-1 1-1h14c0.552 0 1 0.448 1 1s-0.448 1-1 1z\"></path>\n",
       "<path d=\"M23 22h-14c-0.552 0-1-0.448-1-1s0.448-1 1-1h14c0.552 0 1 0.448 1 1s-0.448 1-1 1z\"></path>\n",
       "<path d=\"M23 18h-14c-0.552 0-1-0.448-1-1s0.448-1 1-1h14c0.552 0 1 0.448 1 1s-0.448 1-1 1z\"></path>\n",
       "</symbol>\n",
       "</defs>\n",
       "</svg>\n",
       "<style>/* CSS stylesheet for displaying xarray objects in jupyterlab.\n",
       " *\n",
       " */\n",
       "\n",
       ":root {\n",
       "  --xr-font-color0: var(--jp-content-font-color0, rgba(0, 0, 0, 1));\n",
       "  --xr-font-color2: var(--jp-content-font-color2, rgba(0, 0, 0, 0.54));\n",
       "  --xr-font-color3: var(--jp-content-font-color3, rgba(0, 0, 0, 0.38));\n",
       "  --xr-border-color: var(--jp-border-color2, #e0e0e0);\n",
       "  --xr-disabled-color: var(--jp-layout-color3, #bdbdbd);\n",
       "  --xr-background-color: var(--jp-layout-color0, white);\n",
       "  --xr-background-color-row-even: var(--jp-layout-color1, white);\n",
       "  --xr-background-color-row-odd: var(--jp-layout-color2, #eeeeee);\n",
       "}\n",
       "\n",
       "html[theme=dark],\n",
       "body.vscode-dark {\n",
       "  --xr-font-color0: rgba(255, 255, 255, 1);\n",
       "  --xr-font-color2: rgba(255, 255, 255, 0.54);\n",
       "  --xr-font-color3: rgba(255, 255, 255, 0.38);\n",
       "  --xr-border-color: #1F1F1F;\n",
       "  --xr-disabled-color: #515151;\n",
       "  --xr-background-color: #111111;\n",
       "  --xr-background-color-row-even: #111111;\n",
       "  --xr-background-color-row-odd: #313131;\n",
       "}\n",
       "\n",
       ".xr-wrap {\n",
       "  display: block;\n",
       "  min-width: 300px;\n",
       "  max-width: 700px;\n",
       "}\n",
       "\n",
       ".xr-text-repr-fallback {\n",
       "  /* fallback to plain text repr when CSS is not injected (untrusted notebook) */\n",
       "  display: none;\n",
       "}\n",
       "\n",
       ".xr-header {\n",
       "  padding-top: 6px;\n",
       "  padding-bottom: 6px;\n",
       "  margin-bottom: 4px;\n",
       "  border-bottom: solid 1px var(--xr-border-color);\n",
       "}\n",
       "\n",
       ".xr-header > div,\n",
       ".xr-header > ul {\n",
       "  display: inline;\n",
       "  margin-top: 0;\n",
       "  margin-bottom: 0;\n",
       "}\n",
       "\n",
       ".xr-obj-type,\n",
       ".xr-array-name {\n",
       "  margin-left: 2px;\n",
       "  margin-right: 10px;\n",
       "}\n",
       "\n",
       ".xr-obj-type {\n",
       "  color: var(--xr-font-color2);\n",
       "}\n",
       "\n",
       ".xr-sections {\n",
       "  padding-left: 0 !important;\n",
       "  display: grid;\n",
       "  grid-template-columns: 150px auto auto 1fr 20px 20px;\n",
       "}\n",
       "\n",
       ".xr-section-item {\n",
       "  display: contents;\n",
       "}\n",
       "\n",
       ".xr-section-item input {\n",
       "  display: none;\n",
       "}\n",
       "\n",
       ".xr-section-item input + label {\n",
       "  color: var(--xr-disabled-color);\n",
       "}\n",
       "\n",
       ".xr-section-item input:enabled + label {\n",
       "  cursor: pointer;\n",
       "  color: var(--xr-font-color2);\n",
       "}\n",
       "\n",
       ".xr-section-item input:enabled + label:hover {\n",
       "  color: var(--xr-font-color0);\n",
       "}\n",
       "\n",
       ".xr-section-summary {\n",
       "  grid-column: 1;\n",
       "  color: var(--xr-font-color2);\n",
       "  font-weight: 500;\n",
       "}\n",
       "\n",
       ".xr-section-summary > span {\n",
       "  display: inline-block;\n",
       "  padding-left: 0.5em;\n",
       "}\n",
       "\n",
       ".xr-section-summary-in:disabled + label {\n",
       "  color: var(--xr-font-color2);\n",
       "}\n",
       "\n",
       ".xr-section-summary-in + label:before {\n",
       "  display: inline-block;\n",
       "  content: '►';\n",
       "  font-size: 11px;\n",
       "  width: 15px;\n",
       "  text-align: center;\n",
       "}\n",
       "\n",
       ".xr-section-summary-in:disabled + label:before {\n",
       "  color: var(--xr-disabled-color);\n",
       "}\n",
       "\n",
       ".xr-section-summary-in:checked + label:before {\n",
       "  content: '▼';\n",
       "}\n",
       "\n",
       ".xr-section-summary-in:checked + label > span {\n",
       "  display: none;\n",
       "}\n",
       "\n",
       ".xr-section-summary,\n",
       ".xr-section-inline-details {\n",
       "  padding-top: 4px;\n",
       "  padding-bottom: 4px;\n",
       "}\n",
       "\n",
       ".xr-section-inline-details {\n",
       "  grid-column: 2 / -1;\n",
       "}\n",
       "\n",
       ".xr-section-details {\n",
       "  display: none;\n",
       "  grid-column: 1 / -1;\n",
       "  margin-bottom: 5px;\n",
       "}\n",
       "\n",
       ".xr-section-summary-in:checked ~ .xr-section-details {\n",
       "  display: contents;\n",
       "}\n",
       "\n",
       ".xr-array-wrap {\n",
       "  grid-column: 1 / -1;\n",
       "  display: grid;\n",
       "  grid-template-columns: 20px auto;\n",
       "}\n",
       "\n",
       ".xr-array-wrap > label {\n",
       "  grid-column: 1;\n",
       "  vertical-align: top;\n",
       "}\n",
       "\n",
       ".xr-preview {\n",
       "  color: var(--xr-font-color3);\n",
       "}\n",
       "\n",
       ".xr-array-preview,\n",
       ".xr-array-data {\n",
       "  padding: 0 5px !important;\n",
       "  grid-column: 2;\n",
       "}\n",
       "\n",
       ".xr-array-data,\n",
       ".xr-array-in:checked ~ .xr-array-preview {\n",
       "  display: none;\n",
       "}\n",
       "\n",
       ".xr-array-in:checked ~ .xr-array-data,\n",
       ".xr-array-preview {\n",
       "  display: inline-block;\n",
       "}\n",
       "\n",
       ".xr-dim-list {\n",
       "  display: inline-block !important;\n",
       "  list-style: none;\n",
       "  padding: 0 !important;\n",
       "  margin: 0;\n",
       "}\n",
       "\n",
       ".xr-dim-list li {\n",
       "  display: inline-block;\n",
       "  padding: 0;\n",
       "  margin: 0;\n",
       "}\n",
       "\n",
       ".xr-dim-list:before {\n",
       "  content: '(';\n",
       "}\n",
       "\n",
       ".xr-dim-list:after {\n",
       "  content: ')';\n",
       "}\n",
       "\n",
       ".xr-dim-list li:not(:last-child):after {\n",
       "  content: ',';\n",
       "  padding-right: 5px;\n",
       "}\n",
       "\n",
       ".xr-has-index {\n",
       "  font-weight: bold;\n",
       "}\n",
       "\n",
       ".xr-var-list,\n",
       ".xr-var-item {\n",
       "  display: contents;\n",
       "}\n",
       "\n",
       ".xr-var-item > div,\n",
       ".xr-var-item label,\n",
       ".xr-var-item > .xr-var-name span {\n",
       "  background-color: var(--xr-background-color-row-even);\n",
       "  margin-bottom: 0;\n",
       "}\n",
       "\n",
       ".xr-var-item > .xr-var-name:hover span {\n",
       "  padding-right: 5px;\n",
       "}\n",
       "\n",
       ".xr-var-list > li:nth-child(odd) > div,\n",
       ".xr-var-list > li:nth-child(odd) > label,\n",
       ".xr-var-list > li:nth-child(odd) > .xr-var-name span {\n",
       "  background-color: var(--xr-background-color-row-odd);\n",
       "}\n",
       "\n",
       ".xr-var-name {\n",
       "  grid-column: 1;\n",
       "}\n",
       "\n",
       ".xr-var-dims {\n",
       "  grid-column: 2;\n",
       "}\n",
       "\n",
       ".xr-var-dtype {\n",
       "  grid-column: 3;\n",
       "  text-align: right;\n",
       "  color: var(--xr-font-color2);\n",
       "}\n",
       "\n",
       ".xr-var-preview {\n",
       "  grid-column: 4;\n",
       "}\n",
       "\n",
       ".xr-var-name,\n",
       ".xr-var-dims,\n",
       ".xr-var-dtype,\n",
       ".xr-preview,\n",
       ".xr-attrs dt {\n",
       "  white-space: nowrap;\n",
       "  overflow: hidden;\n",
       "  text-overflow: ellipsis;\n",
       "  padding-right: 10px;\n",
       "}\n",
       "\n",
       ".xr-var-name:hover,\n",
       ".xr-var-dims:hover,\n",
       ".xr-var-dtype:hover,\n",
       ".xr-attrs dt:hover {\n",
       "  overflow: visible;\n",
       "  width: auto;\n",
       "  z-index: 1;\n",
       "}\n",
       "\n",
       ".xr-var-attrs,\n",
       ".xr-var-data {\n",
       "  display: none;\n",
       "  background-color: var(--xr-background-color) !important;\n",
       "  padding-bottom: 5px !important;\n",
       "}\n",
       "\n",
       ".xr-var-attrs-in:checked ~ .xr-var-attrs,\n",
       ".xr-var-data-in:checked ~ .xr-var-data {\n",
       "  display: block;\n",
       "}\n",
       "\n",
       ".xr-var-data > table {\n",
       "  float: right;\n",
       "}\n",
       "\n",
       ".xr-var-name span,\n",
       ".xr-var-data,\n",
       ".xr-attrs {\n",
       "  padding-left: 25px !important;\n",
       "}\n",
       "\n",
       ".xr-attrs,\n",
       ".xr-var-attrs,\n",
       ".xr-var-data {\n",
       "  grid-column: 1 / -1;\n",
       "}\n",
       "\n",
       "dl.xr-attrs {\n",
       "  padding: 0;\n",
       "  margin: 0;\n",
       "  display: grid;\n",
       "  grid-template-columns: 125px auto;\n",
       "}\n",
       "\n",
       ".xr-attrs dt,\n",
       ".xr-attrs dd {\n",
       "  padding: 0;\n",
       "  margin: 0;\n",
       "  float: left;\n",
       "  padding-right: 10px;\n",
       "  width: auto;\n",
       "}\n",
       "\n",
       ".xr-attrs dt {\n",
       "  font-weight: normal;\n",
       "  grid-column: 1;\n",
       "}\n",
       "\n",
       ".xr-attrs dt:hover span {\n",
       "  display: inline-block;\n",
       "  background: var(--xr-background-color);\n",
       "  padding-right: 10px;\n",
       "}\n",
       "\n",
       ".xr-attrs dd {\n",
       "  grid-column: 2;\n",
       "  white-space: pre-wrap;\n",
       "  word-break: break-all;\n",
       "}\n",
       "\n",
       ".xr-icon-database,\n",
       ".xr-icon-file-text2 {\n",
       "  display: inline-block;\n",
       "  vertical-align: middle;\n",
       "  width: 1em;\n",
       "  height: 1.5em !important;\n",
       "  stroke-width: 0;\n",
       "  stroke: currentColor;\n",
       "  fill: currentColor;\n",
       "}\n",
       "</style><pre class='xr-text-repr-fallback'>&lt;xarray.Dataset&gt;\n",
       "Dimensions:  (member: 124, time: 288, lon: 126, lat: 86, step: 5)\n",
       "Coordinates:\n",
       "  * member   (member) int64 0 1 2 3 4 5 6 7 ... 116 117 118 119 120 121 122 123\n",
       "  * time     (time) datetime64[ns] 1993-01-01 1993-02-01 ... 2016-12-01\n",
       "  * lon      (lon) float32 120.0 121.0 122.0 123.0 ... 242.0 243.0 244.0 245.0\n",
       "  * lat      (lat) float32 -55.0 -54.0 -53.0 -52.0 -51.0 ... 27.0 28.0 29.0 30.0\n",
       "  * step     (step) int64 1 2 3 4 5\n",
       "Data variables:\n",
       "    tprate   (time, step, member, lat, lon) float32 dask.array&lt;chunksize=(1, 5, 124, 86, 126), meta=np.ndarray&gt;\n",
       "Attributes:\n",
       "    Conventions:  CF-1.6\n",
       "    history:      2021-02-10 20:10:36 GMT by grib_to_netcdf-2.16.0: /opt/ecmw...</pre><div class='xr-wrap' hidden><div class='xr-header'><div class='xr-obj-type'>xarray.Dataset</div></div><ul class='xr-sections'><li class='xr-section-item'><input id='section-c6b2b6bc-386e-4768-b967-447f5e2afc12' class='xr-section-summary-in' type='checkbox' disabled ><label for='section-c6b2b6bc-386e-4768-b967-447f5e2afc12' class='xr-section-summary'  title='Expand/collapse section'>Dimensions:</label><div class='xr-section-inline-details'><ul class='xr-dim-list'><li><span class='xr-has-index'>member</span>: 124</li><li><span class='xr-has-index'>time</span>: 288</li><li><span class='xr-has-index'>lon</span>: 126</li><li><span class='xr-has-index'>lat</span>: 86</li><li><span class='xr-has-index'>step</span>: 5</li></ul></div><div class='xr-section-details'></div></li><li class='xr-section-item'><input id='section-61b803cf-38f2-4002-9070-a3f9c47b92ed' class='xr-section-summary-in' type='checkbox'  checked><label for='section-61b803cf-38f2-4002-9070-a3f9c47b92ed' class='xr-section-summary' >Coordinates: <span>(5)</span></label><div class='xr-section-inline-details'></div><div class='xr-section-details'><ul class='xr-var-list'><li class='xr-var-item'><div class='xr-var-name'><span class='xr-has-index'>member</span></div><div class='xr-var-dims'>(member)</div><div class='xr-var-dtype'>int64</div><div class='xr-var-preview xr-preview'>0 1 2 3 4 5 ... 119 120 121 122 123</div><input id='attrs-a328957a-5687-4e35-b821-05c23f36c606' class='xr-var-attrs-in' type='checkbox' ><label for='attrs-a328957a-5687-4e35-b821-05c23f36c606' title='Show/Hide attributes'><svg class='icon xr-icon-file-text2'><use xlink:href='#icon-file-text2'></use></svg></label><input id='data-848fee91-81f3-4e71-9d82-619261eec4c4' class='xr-var-data-in' type='checkbox'><label for='data-848fee91-81f3-4e71-9d82-619261eec4c4' title='Show/Hide data repr'><svg class='icon xr-icon-database'><use xlink:href='#icon-database'></use></svg></label><div class='xr-var-attrs'><dl class='xr-attrs'><dt><span>long_name :</span></dt><dd>ensemble_member</dd></dl></div><div class='xr-var-data'><pre>array([  0,   1,   2,   3,   4,   5,   6,   7,   8,   9,  10,  11,  12,  13,\n",
       "        14,  15,  16,  17,  18,  19,  20,  21,  22,  23,  24,  25,  26,  27,\n",
       "        28,  29,  30,  31,  32,  33,  34,  35,  36,  37,  38,  39,  40,  41,\n",
       "        42,  43,  44,  45,  46,  47,  48,  49,  50,  51,  52,  53,  54,  55,\n",
       "        56,  57,  58,  59,  60,  61,  62,  63,  64,  65,  66,  67,  68,  69,\n",
       "        70,  71,  72,  73,  74,  75,  76,  77,  78,  79,  80,  81,  82,  83,\n",
       "        84,  85,  86,  87,  88,  89,  90,  91,  92,  93,  94,  95,  96,  97,\n",
       "        98,  99, 100, 101, 102, 103, 104, 105, 106, 107, 108, 109, 110, 111,\n",
       "       112, 113, 114, 115, 116, 117, 118, 119, 120, 121, 122, 123])</pre></div></li><li class='xr-var-item'><div class='xr-var-name'><span class='xr-has-index'>time</span></div><div class='xr-var-dims'>(time)</div><div class='xr-var-dtype'>datetime64[ns]</div><div class='xr-var-preview xr-preview'>1993-01-01 ... 2016-12-01</div><input id='attrs-c00e2801-1ab1-4169-83af-fc97e861c634' class='xr-var-attrs-in' type='checkbox' disabled><label for='attrs-c00e2801-1ab1-4169-83af-fc97e861c634' title='Show/Hide attributes'><svg class='icon xr-icon-file-text2'><use xlink:href='#icon-file-text2'></use></svg></label><input id='data-f2b73c6a-a0ce-4cc6-87ed-d604fc980e2e' class='xr-var-data-in' type='checkbox'><label for='data-f2b73c6a-a0ce-4cc6-87ed-d604fc980e2e' title='Show/Hide data repr'><svg class='icon xr-icon-database'><use xlink:href='#icon-database'></use></svg></label><div class='xr-var-attrs'><dl class='xr-attrs'></dl></div><div class='xr-var-data'><pre>array([&#x27;1993-01-01T00:00:00.000000000&#x27;, &#x27;1993-02-01T00:00:00.000000000&#x27;,\n",
       "       &#x27;1993-03-01T00:00:00.000000000&#x27;, ..., &#x27;2016-10-01T00:00:00.000000000&#x27;,\n",
       "       &#x27;2016-11-01T00:00:00.000000000&#x27;, &#x27;2016-12-01T00:00:00.000000000&#x27;],\n",
       "      dtype=&#x27;datetime64[ns]&#x27;)</pre></div></li><li class='xr-var-item'><div class='xr-var-name'><span class='xr-has-index'>lon</span></div><div class='xr-var-dims'>(lon)</div><div class='xr-var-dtype'>float32</div><div class='xr-var-preview xr-preview'>120.0 121.0 122.0 ... 244.0 245.0</div><input id='attrs-bfce2a2f-6a7b-48d4-8069-1b1573c048ad' class='xr-var-attrs-in' type='checkbox' ><label for='attrs-bfce2a2f-6a7b-48d4-8069-1b1573c048ad' title='Show/Hide attributes'><svg class='icon xr-icon-file-text2'><use xlink:href='#icon-file-text2'></use></svg></label><input id='data-7bf0afc7-981a-44c4-a14a-8d821e92a363' class='xr-var-data-in' type='checkbox'><label for='data-7bf0afc7-981a-44c4-a14a-8d821e92a363' title='Show/Hide data repr'><svg class='icon xr-icon-database'><use xlink:href='#icon-database'></use></svg></label><div class='xr-var-attrs'><dl class='xr-attrs'><dt><span>units :</span></dt><dd>degrees_east</dd><dt><span>long_name :</span></dt><dd>longitude</dd></dl></div><div class='xr-var-data'><pre>array([120., 121., 122., 123., 124., 125., 126., 127., 128., 129., 130., 131.,\n",
       "       132., 133., 134., 135., 136., 137., 138., 139., 140., 141., 142., 143.,\n",
       "       144., 145., 146., 147., 148., 149., 150., 151., 152., 153., 154., 155.,\n",
       "       156., 157., 158., 159., 160., 161., 162., 163., 164., 165., 166., 167.,\n",
       "       168., 169., 170., 171., 172., 173., 174., 175., 176., 177., 178., 179.,\n",
       "       180., 181., 182., 183., 184., 185., 186., 187., 188., 189., 190., 191.,\n",
       "       192., 193., 194., 195., 196., 197., 198., 199., 200., 201., 202., 203.,\n",
       "       204., 205., 206., 207., 208., 209., 210., 211., 212., 213., 214., 215.,\n",
       "       216., 217., 218., 219., 220., 221., 222., 223., 224., 225., 226., 227.,\n",
       "       228., 229., 230., 231., 232., 233., 234., 235., 236., 237., 238., 239.,\n",
       "       240., 241., 242., 243., 244., 245.], dtype=float32)</pre></div></li><li class='xr-var-item'><div class='xr-var-name'><span class='xr-has-index'>lat</span></div><div class='xr-var-dims'>(lat)</div><div class='xr-var-dtype'>float32</div><div class='xr-var-preview xr-preview'>-55.0 -54.0 -53.0 ... 29.0 30.0</div><input id='attrs-c88d80b5-8d39-44ef-92d1-3e509e499b1a' class='xr-var-attrs-in' type='checkbox' ><label for='attrs-c88d80b5-8d39-44ef-92d1-3e509e499b1a' title='Show/Hide attributes'><svg class='icon xr-icon-file-text2'><use xlink:href='#icon-file-text2'></use></svg></label><input id='data-f706fe42-0b4e-4598-9e63-ffa75905f3be' class='xr-var-data-in' type='checkbox'><label for='data-f706fe42-0b4e-4598-9e63-ffa75905f3be' title='Show/Hide data repr'><svg class='icon xr-icon-database'><use xlink:href='#icon-database'></use></svg></label><div class='xr-var-attrs'><dl class='xr-attrs'><dt><span>units :</span></dt><dd>degrees_north</dd><dt><span>long_name :</span></dt><dd>latitude</dd></dl></div><div class='xr-var-data'><pre>array([-55., -54., -53., -52., -51., -50., -49., -48., -47., -46., -45., -44.,\n",
       "       -43., -42., -41., -40., -39., -38., -37., -36., -35., -34., -33., -32.,\n",
       "       -31., -30., -29., -28., -27., -26., -25., -24., -23., -22., -21., -20.,\n",
       "       -19., -18., -17., -16., -15., -14., -13., -12., -11., -10.,  -9.,  -8.,\n",
       "        -7.,  -6.,  -5.,  -4.,  -3.,  -2.,  -1.,   0.,   1.,   2.,   3.,   4.,\n",
       "         5.,   6.,   7.,   8.,   9.,  10.,  11.,  12.,  13.,  14.,  15.,  16.,\n",
       "        17.,  18.,  19.,  20.,  21.,  22.,  23.,  24.,  25.,  26.,  27.,  28.,\n",
       "        29.,  30.], dtype=float32)</pre></div></li><li class='xr-var-item'><div class='xr-var-name'><span class='xr-has-index'>step</span></div><div class='xr-var-dims'>(step)</div><div class='xr-var-dtype'>int64</div><div class='xr-var-preview xr-preview'>1 2 3 4 5</div><input id='attrs-1707a54d-2078-4e11-853c-0137b714f522' class='xr-var-attrs-in' type='checkbox' disabled><label for='attrs-1707a54d-2078-4e11-853c-0137b714f522' title='Show/Hide attributes'><svg class='icon xr-icon-file-text2'><use xlink:href='#icon-file-text2'></use></svg></label><input id='data-47a289b1-cf10-464d-872f-d79b830ba8a1' class='xr-var-data-in' type='checkbox'><label for='data-47a289b1-cf10-464d-872f-d79b830ba8a1' title='Show/Hide data repr'><svg class='icon xr-icon-database'><use xlink:href='#icon-database'></use></svg></label><div class='xr-var-attrs'><dl class='xr-attrs'></dl></div><div class='xr-var-data'><pre>array([1, 2, 3, 4, 5])</pre></div></li></ul></div></li><li class='xr-section-item'><input id='section-08527c93-e70d-4a1f-80de-a037ee46d8f6' class='xr-section-summary-in' type='checkbox'  checked><label for='section-08527c93-e70d-4a1f-80de-a037ee46d8f6' class='xr-section-summary' >Data variables: <span>(1)</span></label><div class='xr-section-inline-details'></div><div class='xr-section-details'><ul class='xr-var-list'><li class='xr-var-item'><div class='xr-var-name'><span>tprate</span></div><div class='xr-var-dims'>(time, step, member, lat, lon)</div><div class='xr-var-dtype'>float32</div><div class='xr-var-preview xr-preview'>dask.array&lt;chunksize=(1, 5, 124, 86, 126), meta=np.ndarray&gt;</div><input id='attrs-30f85796-1180-42e7-bdcc-4f0639c93934' class='xr-var-attrs-in' type='checkbox' ><label for='attrs-30f85796-1180-42e7-bdcc-4f0639c93934' title='Show/Hide attributes'><svg class='icon xr-icon-file-text2'><use xlink:href='#icon-file-text2'></use></svg></label><input id='data-3196c405-7e37-4fc4-a2a7-a42e50f58bb8' class='xr-var-data-in' type='checkbox'><label for='data-3196c405-7e37-4fc4-a2a7-a42e50f58bb8' title='Show/Hide data repr'><svg class='icon xr-icon-database'><use xlink:href='#icon-database'></use></svg></label><div class='xr-var-attrs'><dl class='xr-attrs'><dt><span>units :</span></dt><dd>m s**-1</dd><dt><span>long_name :</span></dt><dd>Mean total precipitation rate</dd></dl></div><div class='xr-var-data'><table>\n",
       "<tr>\n",
       "<td>\n",
       "<table>\n",
       "  <thead>\n",
       "    <tr><td> </td><th> Array </th><th> Chunk </th></tr>\n",
       "  </thead>\n",
       "  <tbody>\n",
       "    <tr><th> Bytes </th><td> 7.21 GiB </td> <td> 25.63 MiB </td></tr>\n",
       "    <tr><th> Shape </th><td> (288, 5, 124, 86, 126) </td> <td> (1, 5, 124, 86, 126) </td></tr>\n",
       "    <tr><th> Count </th><td> 2747 Tasks </td><td> 288 Chunks </td></tr>\n",
       "    <tr><th> Type </th><td> float32 </td><td> numpy.ndarray </td></tr>\n",
       "  </tbody>\n",
       "</table>\n",
       "</td>\n",
       "<td>\n",
       "<svg width=\"328\" height=\"170\" style=\"stroke:rgb(0,0,0);stroke-width:1\" >\n",
       "\n",
       "  <!-- Horizontal lines -->\n",
       "  <line x1=\"0\" y1=\"0\" x2=\"28\" y2=\"0\" style=\"stroke-width:2\" />\n",
       "  <line x1=\"0\" y1=\"3\" x2=\"28\" y2=\"3\" />\n",
       "  <line x1=\"0\" y1=\"7\" x2=\"28\" y2=\"7\" />\n",
       "  <line x1=\"0\" y1=\"11\" x2=\"28\" y2=\"11\" />\n",
       "  <line x1=\"0\" y1=\"15\" x2=\"28\" y2=\"15\" />\n",
       "  <line x1=\"0\" y1=\"18\" x2=\"28\" y2=\"18\" />\n",
       "  <line x1=\"0\" y1=\"22\" x2=\"28\" y2=\"22\" />\n",
       "  <line x1=\"0\" y1=\"26\" x2=\"28\" y2=\"26\" />\n",
       "  <line x1=\"0\" y1=\"30\" x2=\"28\" y2=\"30\" />\n",
       "  <line x1=\"0\" y1=\"33\" x2=\"28\" y2=\"33\" />\n",
       "  <line x1=\"0\" y1=\"37\" x2=\"28\" y2=\"37\" />\n",
       "  <line x1=\"0\" y1=\"41\" x2=\"28\" y2=\"41\" />\n",
       "  <line x1=\"0\" y1=\"45\" x2=\"28\" y2=\"45\" />\n",
       "  <line x1=\"0\" y1=\"48\" x2=\"28\" y2=\"48\" />\n",
       "  <line x1=\"0\" y1=\"52\" x2=\"28\" y2=\"52\" />\n",
       "  <line x1=\"0\" y1=\"56\" x2=\"28\" y2=\"56\" />\n",
       "  <line x1=\"0\" y1=\"60\" x2=\"28\" y2=\"60\" />\n",
       "  <line x1=\"0\" y1=\"63\" x2=\"28\" y2=\"63\" />\n",
       "  <line x1=\"0\" y1=\"67\" x2=\"28\" y2=\"67\" />\n",
       "  <line x1=\"0\" y1=\"71\" x2=\"28\" y2=\"71\" />\n",
       "  <line x1=\"0\" y1=\"75\" x2=\"28\" y2=\"75\" />\n",
       "  <line x1=\"0\" y1=\"78\" x2=\"28\" y2=\"78\" />\n",
       "  <line x1=\"0\" y1=\"82\" x2=\"28\" y2=\"82\" />\n",
       "  <line x1=\"0\" y1=\"86\" x2=\"28\" y2=\"86\" />\n",
       "  <line x1=\"0\" y1=\"90\" x2=\"28\" y2=\"90\" />\n",
       "  <line x1=\"0\" y1=\"93\" x2=\"28\" y2=\"93\" />\n",
       "  <line x1=\"0\" y1=\"97\" x2=\"28\" y2=\"97\" />\n",
       "  <line x1=\"0\" y1=\"101\" x2=\"28\" y2=\"101\" />\n",
       "  <line x1=\"0\" y1=\"105\" x2=\"28\" y2=\"105\" />\n",
       "  <line x1=\"0\" y1=\"108\" x2=\"28\" y2=\"108\" />\n",
       "  <line x1=\"0\" y1=\"112\" x2=\"28\" y2=\"112\" />\n",
       "  <line x1=\"0\" y1=\"116\" x2=\"28\" y2=\"116\" />\n",
       "  <line x1=\"0\" y1=\"120\" x2=\"28\" y2=\"120\" style=\"stroke-width:2\" />\n",
       "\n",
       "  <!-- Vertical lines -->\n",
       "  <line x1=\"0\" y1=\"0\" x2=\"0\" y2=\"120\" style=\"stroke-width:2\" />\n",
       "  <line x1=\"28\" y1=\"0\" x2=\"28\" y2=\"120\" style=\"stroke-width:2\" />\n",
       "\n",
       "  <!-- Colored Rectangle -->\n",
       "  <polygon points=\"0.0,0.0 28.24529466628642,0.0 28.24529466628642,120.0 0.0,120.0\" style=\"fill:#8B4903A0;stroke-width:0\"/>\n",
       "\n",
       "  <!-- Text -->\n",
       "  <text x=\"14.122647\" y=\"140.000000\" font-size=\"1.0rem\" font-weight=\"100\" text-anchor=\"middle\" >5</text>\n",
       "  <text x=\"48.245295\" y=\"60.000000\" font-size=\"1.0rem\" font-weight=\"100\" text-anchor=\"middle\" transform=\"rotate(-90,48.245295,60.000000)\">288</text>\n",
       "\n",
       "\n",
       "  <!-- Horizontal lines -->\n",
       "  <line x1=\"98\" y1=\"0\" x2=\"128\" y2=\"30\" style=\"stroke-width:2\" />\n",
       "  <line x1=\"98\" y1=\"43\" x2=\"128\" y2=\"73\" style=\"stroke-width:2\" />\n",
       "\n",
       "  <!-- Vertical lines -->\n",
       "  <line x1=\"98\" y1=\"0\" x2=\"98\" y2=\"43\" style=\"stroke-width:2\" />\n",
       "  <line x1=\"128\" y1=\"30\" x2=\"128\" y2=\"73\" style=\"stroke-width:2\" />\n",
       "\n",
       "  <!-- Colored Rectangle -->\n",
       "  <polygon points=\"98.0,0.0 128.39215686274508,30.392156862745097 128.39215686274508,73.92141423561037 98.0,43.52925737286528\" style=\"fill:#ECB172A0;stroke-width:0\"/>\n",
       "\n",
       "  <!-- Horizontal lines -->\n",
       "  <line x1=\"98\" y1=\"0\" x2=\"150\" y2=\"0\" style=\"stroke-width:2\" />\n",
       "  <line x1=\"128\" y1=\"30\" x2=\"180\" y2=\"30\" style=\"stroke-width:2\" />\n",
       "\n",
       "  <!-- Vertical lines -->\n",
       "  <line x1=\"98\" y1=\"0\" x2=\"128\" y2=\"30\" style=\"stroke-width:2\" />\n",
       "  <line x1=\"150\" y1=\"0\" x2=\"180\" y2=\"30\" style=\"stroke-width:2\" />\n",
       "\n",
       "  <!-- Colored Rectangle -->\n",
       "  <polygon points=\"98.0,0.0 150.5,0.0 180.89215686274508,30.392156862745097 128.39215686274508,30.392156862745097\" style=\"fill:#ECB172A0;stroke-width:0\"/>\n",
       "\n",
       "  <!-- Horizontal lines -->\n",
       "  <line x1=\"128\" y1=\"30\" x2=\"180\" y2=\"30\" style=\"stroke-width:2\" />\n",
       "  <line x1=\"128\" y1=\"73\" x2=\"180\" y2=\"73\" style=\"stroke-width:2\" />\n",
       "\n",
       "  <!-- Vertical lines -->\n",
       "  <line x1=\"128\" y1=\"30\" x2=\"128\" y2=\"73\" style=\"stroke-width:2\" />\n",
       "  <line x1=\"180\" y1=\"30\" x2=\"180\" y2=\"73\" style=\"stroke-width:2\" />\n",
       "\n",
       "  <!-- Colored Rectangle -->\n",
       "  <polygon points=\"128.39215686274508,30.392156862745097 180.89215686274508,30.392156862745097 180.89215686274508,73.92141423561037 128.39215686274508,73.92141423561037\" style=\"fill:#ECB172A0;stroke-width:0\"/>\n",
       "\n",
       "  <!-- Text -->\n",
       "  <text x=\"154.642157\" y=\"93.921414\" font-size=\"1.0rem\" font-weight=\"100\" text-anchor=\"middle\" >126</text>\n",
       "  <text x=\"200.892157\" y=\"52.156786\" font-size=\"1.0rem\" font-weight=\"100\" text-anchor=\"middle\" transform=\"rotate(0,200.892157,52.156786)\">86</text>\n",
       "  <text x=\"103.196078\" y=\"78.725336\" font-size=\"1.0rem\" font-weight=\"100\" text-anchor=\"middle\" transform=\"rotate(45,103.196078,78.725336)\">124</text>\n",
       "</svg>\n",
       "</td>\n",
       "</tr>\n",
       "</table></div></li></ul></div></li><li class='xr-section-item'><input id='section-72f44a95-e402-4867-a13d-be7f3dab06ff' class='xr-section-summary-in' type='checkbox'  checked><label for='section-72f44a95-e402-4867-a13d-be7f3dab06ff' class='xr-section-summary' >Attributes: <span>(2)</span></label><div class='xr-section-inline-details'></div><div class='xr-section-details'><dl class='xr-attrs'><dt><span>Conventions :</span></dt><dd>CF-1.6</dd><dt><span>history :</span></dt><dd>2021-02-10 20:10:36 GMT by grib_to_netcdf-2.16.0: /opt/ecmwf/eccodes/bin/grib_to_netcdf -S param -o /cache/data3/adaptor.mars.external-1612987825.7561407-1081-13-c68303ea-8f93-4a6c-8fa1-5794dbc1aefe.nc /cache/tmp/c68303ea-8f93-4a6c-8fa1-5794dbc1aefe-adaptor.mars.external-1612987825.7568429-1081-6-tmp.grib</dd></dl></div></li></ul></div></div>"
      ],
      "text/plain": [
       "<xarray.Dataset>\n",
       "Dimensions:  (member: 124, time: 288, lon: 126, lat: 86, step: 5)\n",
       "Coordinates:\n",
       "  * member   (member) int64 0 1 2 3 4 5 6 7 ... 116 117 118 119 120 121 122 123\n",
       "  * time     (time) datetime64[ns] 1993-01-01 1993-02-01 ... 2016-12-01\n",
       "  * lon      (lon) float32 120.0 121.0 122.0 123.0 ... 242.0 243.0 244.0 245.0\n",
       "  * lat      (lat) float32 -55.0 -54.0 -53.0 -52.0 -51.0 ... 27.0 28.0 29.0 30.0\n",
       "  * step     (step) int64 1 2 3 4 5\n",
       "Data variables:\n",
       "    tprate   (time, step, member, lat, lon) float32 dask.array<chunksize=(1, 5, 124, 86, 126), meta=np.ndarray>\n",
       "Attributes:\n",
       "    Conventions:  CF-1.6\n",
       "    history:      2021-02-10 20:10:36 GMT by grib_to_netcdf-2.16.0: /opt/ecmw..."
      ]
     },
     "execution_count": 28,
     "metadata": {},
     "output_type": "execute_result"
    }
   ],
   "source": [
    "dset"
   ]
  },
  {
   "cell_type": "markdown",
   "id": "d462983e-c166-4b90-a2cc-26b2f1e7d9cb",
   "metadata": {
    "papermill": {
     "duration": 0.053856,
     "end_time": "2021-08-20T05:16:43.942769",
     "exception": false,
     "start_time": "2021-08-20T05:16:43.888913",
     "status": "completed"
    },
    "tags": []
   },
   "source": [
    "### convert to monthly rainfall accumulations (mm/month)"
   ]
  },
  {
   "cell_type": "code",
   "execution_count": 29,
   "id": "6e725dd4-91d0-4246-8d00-6f604b1f489e",
   "metadata": {
    "execution": {
     "iopub.execute_input": "2021-08-20T05:16:44.056122Z",
     "iopub.status.busy": "2021-08-20T05:16:44.055556Z",
     "iopub.status.idle": "2021-08-20T05:16:44.068614Z",
     "shell.execute_reply": "2021-08-20T05:16:44.068091Z"
    },
    "papermill": {
     "duration": 0.071786,
     "end_time": "2021-08-20T05:16:44.068730",
     "exception": false,
     "start_time": "2021-08-20T05:16:43.996944",
     "status": "completed"
    },
    "tags": []
   },
   "outputs": [
    {
     "data": {
      "text/plain": [
       "{'units': 'm s**-1', 'long_name': 'Mean total precipitation rate'}"
      ]
     },
     "execution_count": 29,
     "metadata": {},
     "output_type": "execute_result"
    }
   ],
   "source": [
    "dset.tprate.attrs"
   ]
  },
  {
   "cell_type": "code",
   "execution_count": 30,
   "id": "67d42493-35a0-4658-ad1c-a6818fc91d2b",
   "metadata": {
    "execution": {
     "iopub.execute_input": "2021-08-20T05:16:44.188278Z",
     "iopub.status.busy": "2021-08-20T05:16:44.187924Z",
     "iopub.status.idle": "2021-08-20T05:16:44.243433Z",
     "shell.execute_reply": "2021-08-20T05:16:44.243077Z"
    },
    "papermill": {
     "duration": 0.113493,
     "end_time": "2021-08-20T05:16:44.243517",
     "exception": false,
     "start_time": "2021-08-20T05:16:44.130024",
     "status": "completed"
    },
    "tags": []
   },
   "outputs": [
    {
     "name": "stdout",
     "output_type": "stream",
     "text": [
      "\n",
      "unit is m s**-1, converting to mm/day\n",
      "\n",
      "now converting to mm/month, converted precipitation will be held in var = precip\n"
     ]
    }
   ],
   "source": [
    "dset = C3S.convert_rainfall(dset, varin='tprate', varout='precip', leadvar='step', timevar='time', dropvar=True)"
   ]
  },
  {
   "cell_type": "code",
   "execution_count": 31,
   "id": "4d15bffd-b6c1-49dc-ac3c-428e824a10ca",
   "metadata": {
    "execution": {
     "iopub.execute_input": "2021-08-20T05:16:44.356763Z",
     "iopub.status.busy": "2021-08-20T05:16:44.356413Z",
     "iopub.status.idle": "2021-08-20T05:16:44.371761Z",
     "shell.execute_reply": "2021-08-20T05:16:44.372045Z"
    },
    "papermill": {
     "duration": 0.072367,
     "end_time": "2021-08-20T05:16:44.372150",
     "exception": false,
     "start_time": "2021-08-20T05:16:44.299783",
     "status": "completed"
    },
    "tags": []
   },
   "outputs": [
    {
     "data": {
      "text/plain": [
       "<bound method Dataset.info of <xarray.Dataset>\n",
       "Dimensions:  (member: 124, time: 288, lon: 126, lat: 86, step: 5)\n",
       "Coordinates:\n",
       "  * member   (member) int64 0 1 2 3 4 5 6 7 ... 116 117 118 119 120 121 122 123\n",
       "  * time     (time) datetime64[ns] 1993-01-01 1993-02-01 ... 2016-12-01\n",
       "  * lon      (lon) float32 120.0 121.0 122.0 123.0 ... 242.0 243.0 244.0 245.0\n",
       "  * lat      (lat) float32 -55.0 -54.0 -53.0 -52.0 -51.0 ... 27.0 28.0 29.0 30.0\n",
       "  * step     (step) int64 1 2 3 4 5\n",
       "Data variables:\n",
       "    precip   (time, step, member, lat, lon) float64 dask.array<chunksize=(1, 5, 124, 86, 126), meta=np.ndarray>\n",
       "Attributes:\n",
       "    Conventions:  CF-1.6\n",
       "    history:      2021-02-10 20:10:36 GMT by grib_to_netcdf-2.16.0: /opt/ecmw...>"
      ]
     },
     "execution_count": 31,
     "metadata": {},
     "output_type": "execute_result"
    }
   ],
   "source": [
    "dset.info"
   ]
  },
  {
   "cell_type": "code",
   "execution_count": 32,
   "id": "5c7fe646-bfd6-417e-aaaa-8e0cb0b899c8",
   "metadata": {
    "execution": {
     "iopub.execute_input": "2021-08-20T05:16:44.483168Z",
     "iopub.status.busy": "2021-08-20T05:16:44.482790Z",
     "iopub.status.idle": "2021-08-20T05:16:44.495572Z",
     "shell.execute_reply": "2021-08-20T05:16:44.495278Z"
    },
    "papermill": {
     "duration": 0.069104,
     "end_time": "2021-08-20T05:16:44.495654",
     "exception": false,
     "start_time": "2021-08-20T05:16:44.426550",
     "status": "completed"
    },
    "tags": []
   },
   "outputs": [
    {
     "data": {
      "text/plain": [
       "{'units': 'mm/month'}"
      ]
     },
     "execution_count": 32,
     "metadata": {},
     "output_type": "execute_result"
    }
   ],
   "source": [
    "dset.precip.attrs"
   ]
  },
  {
   "cell_type": "markdown",
   "id": "fd7553f0-3ff3-46f3-bdcd-6e6f48f7abb7",
   "metadata": {
    "papermill": {
     "duration": 0.056297,
     "end_time": "2021-08-20T05:16:44.606916",
     "exception": false,
     "start_time": "2021-08-20T05:16:44.550619",
     "status": "completed"
    },
    "tags": []
   },
   "source": [
    "### make sure there are no negative values "
   ]
  },
  {
   "cell_type": "code",
   "execution_count": 33,
   "id": "48667708-24cc-4f51-ab18-3a75e2f28ccd",
   "metadata": {
    "execution": {
     "iopub.execute_input": "2021-08-20T05:16:44.723393Z",
     "iopub.status.busy": "2021-08-20T05:16:44.723043Z",
     "iopub.status.idle": "2021-08-20T05:16:44.737013Z",
     "shell.execute_reply": "2021-08-20T05:16:44.736713Z"
    },
    "papermill": {
     "duration": 0.070593,
     "end_time": "2021-08-20T05:16:44.737101",
     "exception": false,
     "start_time": "2021-08-20T05:16:44.666508",
     "status": "completed"
    },
    "tags": []
   },
   "outputs": [],
   "source": [
    "dset = dset.clip(min=0)"
   ]
  },
  {
   "cell_type": "markdown",
   "id": "a6dd054f-5e96-48e6-b935-80d9ea0f54a2",
   "metadata": {
    "papermill": {
     "duration": 0.054657,
     "end_time": "2021-08-20T05:16:44.845686",
     "exception": false,
     "start_time": "2021-08-20T05:16:44.791029",
     "status": "completed"
    },
    "tags": []
   },
   "source": [
    "### if the period is set to `seasonal`, calculates the seasonal accumulations "
   ]
  },
  {
   "cell_type": "code",
   "execution_count": 34,
   "id": "cc83f98c-909f-44bc-aa14-ef1778a747f5",
   "metadata": {
    "execution": {
     "iopub.execute_input": "2021-08-20T05:16:44.957708Z",
     "iopub.status.busy": "2021-08-20T05:16:44.957370Z",
     "iopub.status.idle": "2021-08-20T05:16:45.034421Z",
     "shell.execute_reply": "2021-08-20T05:16:45.034044Z"
    },
    "papermill": {
     "duration": 0.133618,
     "end_time": "2021-08-20T05:16:45.034507",
     "exception": false,
     "start_time": "2021-08-20T05:16:44.900889",
     "status": "completed"
    },
    "tags": []
   },
   "outputs": [],
   "source": [
    "if period == 'seasonal': \n",
    "    \n",
    "    dset = dset.rolling({'step':3}, min_periods=3).sum('step')\n",
    "    \n",
    "    dset = dset.sel({'step':slice(3, None)})"
   ]
  },
  {
   "cell_type": "code",
   "execution_count": 35,
   "id": "84f4203d-9b4b-4db5-b4a2-174be37b28c5",
   "metadata": {
    "execution": {
     "iopub.execute_input": "2021-08-20T05:16:45.148209Z",
     "iopub.status.busy": "2021-08-20T05:16:45.147851Z",
     "iopub.status.idle": "2021-08-20T05:16:45.163022Z",
     "shell.execute_reply": "2021-08-20T05:16:45.162686Z"
    },
    "papermill": {
     "duration": 0.073711,
     "end_time": "2021-08-20T05:16:45.163103",
     "exception": false,
     "start_time": "2021-08-20T05:16:45.089392",
     "status": "completed"
    },
    "tags": []
   },
   "outputs": [
    {
     "data": {
      "text/plain": [
       "<bound method Dataset.info of <xarray.Dataset>\n",
       "Dimensions:  (member: 124, time: 288, lon: 126, lat: 86, step: 3)\n",
       "Coordinates:\n",
       "  * member   (member) int64 0 1 2 3 4 5 6 7 ... 116 117 118 119 120 121 122 123\n",
       "  * time     (time) datetime64[ns] 1993-01-01 1993-02-01 ... 2016-12-01\n",
       "  * lon      (lon) float32 120.0 121.0 122.0 123.0 ... 242.0 243.0 244.0 245.0\n",
       "  * lat      (lat) float32 -55.0 -54.0 -53.0 -52.0 -51.0 ... 27.0 28.0 29.0 30.0\n",
       "  * step     (step) int64 3 4 5\n",
       "Data variables:\n",
       "    precip   (time, step, member, lat, lon) float64 dask.array<chunksize=(1, 3, 124, 86, 126), meta=np.ndarray>\n",
       "Attributes:\n",
       "    Conventions:  CF-1.6\n",
       "    history:      2021-02-10 20:10:36 GMT by grib_to_netcdf-2.16.0: /opt/ecmw...>"
      ]
     },
     "execution_count": 35,
     "metadata": {},
     "output_type": "execute_result"
    }
   ],
   "source": [
    "dset.info"
   ]
  },
  {
   "cell_type": "code",
   "execution_count": 36,
   "id": "7767765c-db31-418d-9f9e-f48bbe25459d",
   "metadata": {
    "execution": {
     "iopub.execute_input": "2021-08-20T05:16:45.277514Z",
     "iopub.status.busy": "2021-08-20T05:16:45.277158Z",
     "iopub.status.idle": "2021-08-20T05:16:45.289564Z",
     "shell.execute_reply": "2021-08-20T05:16:45.289193Z"
    },
    "papermill": {
     "duration": 0.070287,
     "end_time": "2021-08-20T05:16:45.289647",
     "exception": false,
     "start_time": "2021-08-20T05:16:45.219360",
     "status": "completed"
    },
    "tags": []
   },
   "outputs": [],
   "source": [
    "steps = dset.step.data"
   ]
  },
  {
   "cell_type": "code",
   "execution_count": 37,
   "id": "655853db-b42d-4b6d-8ae7-50ccfa91f8e6",
   "metadata": {
    "execution": {
     "iopub.execute_input": "2021-08-20T05:16:45.405349Z",
     "iopub.status.busy": "2021-08-20T05:16:45.404993Z",
     "iopub.status.idle": "2021-08-20T05:16:45.417643Z",
     "shell.execute_reply": "2021-08-20T05:16:45.417894Z"
    },
    "papermill": {
     "duration": 0.071928,
     "end_time": "2021-08-20T05:16:45.417993",
     "exception": false,
     "start_time": "2021-08-20T05:16:45.346065",
     "status": "completed"
    },
    "tags": []
   },
   "outputs": [
    {
     "data": {
      "text/plain": [
       "array([3, 4, 5])"
      ]
     },
     "execution_count": 37,
     "metadata": {},
     "output_type": "execute_result"
    }
   ],
   "source": [
    "steps"
   ]
  },
  {
   "cell_type": "markdown",
   "id": "021c3e6c-f3d7-441c-b094-36b3b308461f",
   "metadata": {
    "papermill": {
     "duration": 0.056614,
     "end_time": "2021-08-20T05:16:45.530223",
     "exception": false,
     "start_time": "2021-08-20T05:16:45.473609",
     "status": "completed"
    },
    "tags": []
   },
   "source": [
    "### calculate percentiles over the dimensions member and time, will then be lead time dependent "
   ]
  },
  {
   "cell_type": "code",
   "execution_count": 38,
   "id": "0b254877-0fd6-4215-a455-5aaed82823d8",
   "metadata": {
    "execution": {
     "iopub.execute_input": "2021-08-20T05:16:45.646807Z",
     "iopub.status.busy": "2021-08-20T05:16:45.646458Z",
     "iopub.status.idle": "2021-08-20T05:16:45.659076Z",
     "shell.execute_reply": "2021-08-20T05:16:45.658776Z"
    },
    "papermill": {
     "duration": 0.071718,
     "end_time": "2021-08-20T05:16:45.659165",
     "exception": false,
     "start_time": "2021-08-20T05:16:45.587447",
     "status": "completed"
    },
    "tags": []
   },
   "outputs": [],
   "source": [
    "def calc_percentiles(dset, percentiles=None, dims=['member','time']):\n",
    "    \"\"\"\n",
    "    calculates the climatological percentiles, over dimensions \n",
    "    ['member','time'] from a CDS hindcast dataset \n",
    "    \n",
    "    Arguments\n",
    "    ---------\n",
    "    \n",
    "    Returns\n",
    "    -------\n",
    "    \"\"\"\n",
    "    if percentiles is None: \n",
    "        \n",
    "        percentiles = np.insert(np.arange(0.05, 1., 0.05), 0, 0.02)\n",
    "        \n",
    "    return dset.quantile(percentiles, dim=dims) "
   ]
  },
  {
   "cell_type": "code",
   "execution_count": 39,
   "id": "bec72be2-9974-4f0c-92c3-1ebdc7b9f155",
   "metadata": {
    "execution": {
     "iopub.execute_input": "2021-08-20T05:16:45.775726Z",
     "iopub.status.busy": "2021-08-20T05:16:45.775348Z",
     "iopub.status.idle": "2021-08-20T05:16:45.787042Z",
     "shell.execute_reply": "2021-08-20T05:16:45.786762Z"
    },
    "papermill": {
     "duration": 0.070734,
     "end_time": "2021-08-20T05:16:45.787127",
     "exception": false,
     "start_time": "2021-08-20T05:16:45.716393",
     "status": "completed"
    },
    "tags": []
   },
   "outputs": [],
   "source": [
    "# coastlines_dpath = '/home/nicolasf/operational/ICU/development/hotspots/data/shapefiles'\n"
   ]
  },
  {
   "cell_type": "code",
   "execution_count": 40,
   "id": "01594665-e0f0-4fef-a249-aa982b81b488",
   "metadata": {
    "execution": {
     "iopub.execute_input": "2021-08-20T05:16:45.905218Z",
     "iopub.status.busy": "2021-08-20T05:16:45.904874Z",
     "iopub.status.idle": "2021-08-20T05:16:45.916660Z",
     "shell.execute_reply": "2021-08-20T05:16:45.916915Z"
    },
    "papermill": {
     "duration": 0.07223,
     "end_time": "2021-08-20T05:16:45.917021",
     "exception": false,
     "start_time": "2021-08-20T05:16:45.844791",
     "status": "completed"
    },
    "tags": []
   },
   "outputs": [],
   "source": [
    "coastlines_dpath = pathlib.Path('/home/nicolasf/operational/ICU/development/hotspots/data/shapefiles/ICU/') "
   ]
  },
  {
   "cell_type": "code",
   "execution_count": 41,
   "id": "b7a89383-fc10-420c-b116-9640289042f1",
   "metadata": {
    "execution": {
     "iopub.execute_input": "2021-08-20T05:16:46.033248Z",
     "iopub.status.busy": "2021-08-20T05:16:46.032866Z",
     "iopub.status.idle": "2021-08-20T05:16:46.128213Z",
     "shell.execute_reply": "2021-08-20T05:16:46.127856Z"
    },
    "papermill": {
     "duration": 0.154278,
     "end_time": "2021-08-20T05:16:46.128295",
     "exception": false,
     "start_time": "2021-08-20T05:16:45.974017",
     "status": "completed"
    },
    "tags": []
   },
   "outputs": [],
   "source": [
    "shapefile = gpd.read_file(coastlines_dpath.joinpath('ICU_coastlines_geometries0_360.shp'))"
   ]
  },
  {
   "cell_type": "code",
   "execution_count": 42,
   "id": "3ffbf31f-21c3-4a1b-8bc4-81dc56b9617c",
   "metadata": {
    "execution": {
     "iopub.execute_input": "2021-08-20T05:16:46.242877Z",
     "iopub.status.busy": "2021-08-20T05:16:46.242535Z",
     "iopub.status.idle": "2021-08-20T05:16:46.469592Z",
     "shell.execute_reply": "2021-08-20T05:16:46.469303Z"
    },
    "papermill": {
     "duration": 0.285746,
     "end_time": "2021-08-20T05:16:46.469675",
     "exception": false,
     "start_time": "2021-08-20T05:16:46.183929",
     "status": "completed"
    },
    "tags": []
   },
   "outputs": [
    {
     "data": {
      "text/html": [
       "<div>\n",
       "<style scoped>\n",
       "    .dataframe tbody tr th:only-of-type {\n",
       "        vertical-align: middle;\n",
       "    }\n",
       "\n",
       "    .dataframe tbody tr th {\n",
       "        vertical-align: top;\n",
       "    }\n",
       "\n",
       "    .dataframe thead th {\n",
       "        text-align: right;\n",
       "    }\n",
       "</style>\n",
       "<table border=\"1\" class=\"dataframe\">\n",
       "  <thead>\n",
       "    <tr style=\"text-align: right;\">\n",
       "      <th></th>\n",
       "      <th>OBJECTID</th>\n",
       "      <th>COUNTRY_ID</th>\n",
       "      <th>COUNTRYNAM</th>\n",
       "      <th>ICU</th>\n",
       "      <th>Stress</th>\n",
       "      <th>SOPAC</th>\n",
       "      <th>FFA</th>\n",
       "      <th>SPC</th>\n",
       "      <th>SPREP</th>\n",
       "      <th>USP</th>\n",
       "      <th>TCSP</th>\n",
       "      <th>FORUM</th>\n",
       "      <th>ACP</th>\n",
       "      <th>area</th>\n",
       "      <th>Shape_Leng</th>\n",
       "      <th>Shape_Area</th>\n",
       "      <th>geometry</th>\n",
       "    </tr>\n",
       "  </thead>\n",
       "  <tbody>\n",
       "    <tr>\n",
       "      <th>0</th>\n",
       "      <td>1.0</td>\n",
       "      <td>NC</td>\n",
       "      <td>New Caledonia</td>\n",
       "      <td>2.0</td>\n",
       "      <td>-6.0</td>\n",
       "      <td>0.0</td>\n",
       "      <td>0.0</td>\n",
       "      <td>0.0</td>\n",
       "      <td>0.0</td>\n",
       "      <td>0.0</td>\n",
       "      <td>0.0</td>\n",
       "      <td>0.0</td>\n",
       "      <td>0.0</td>\n",
       "      <td>0.0</td>\n",
       "      <td>30.331204</td>\n",
       "      <td>1.639128</td>\n",
       "      <td>MULTIPOLYGON (((166.933 -22.882, 166.933 -22.8...</td>\n",
       "    </tr>\n",
       "    <tr>\n",
       "      <th>1</th>\n",
       "      <td>2.0</td>\n",
       "      <td>PN</td>\n",
       "      <td>Pitcairn Islands</td>\n",
       "      <td>-3.0</td>\n",
       "      <td>-8.0</td>\n",
       "      <td>0.0</td>\n",
       "      <td>0.0</td>\n",
       "      <td>0.0</td>\n",
       "      <td>0.0</td>\n",
       "      <td>0.0</td>\n",
       "      <td>0.0</td>\n",
       "      <td>0.0</td>\n",
       "      <td>0.0</td>\n",
       "      <td>0.0</td>\n",
       "      <td>0.733043</td>\n",
       "      <td>0.004720</td>\n",
       "      <td>MULTIPOLYGON (((229.905 -25.069, 229.905 -25.0...</td>\n",
       "    </tr>\n",
       "    <tr>\n",
       "      <th>2</th>\n",
       "      <td>3.0</td>\n",
       "      <td>PG</td>\n",
       "      <td>Papua New Guinea</td>\n",
       "      <td>-3.0</td>\n",
       "      <td>5.0</td>\n",
       "      <td>0.0</td>\n",
       "      <td>0.0</td>\n",
       "      <td>0.0</td>\n",
       "      <td>0.0</td>\n",
       "      <td>0.0</td>\n",
       "      <td>0.0</td>\n",
       "      <td>0.0</td>\n",
       "      <td>0.0</td>\n",
       "      <td>0.0</td>\n",
       "      <td>229.361133</td>\n",
       "      <td>37.800908</td>\n",
       "      <td>MULTIPOLYGON (((153.509 -11.620, 153.508 -11.6...</td>\n",
       "    </tr>\n",
       "  </tbody>\n",
       "</table>\n",
       "</div>"
      ],
      "text/plain": [
       "   OBJECTID COUNTRY_ID        COUNTRYNAM  ICU  Stress  SOPAC  FFA  SPC  SPREP  \\\n",
       "0       1.0         NC     New Caledonia  2.0    -6.0    0.0  0.0  0.0    0.0   \n",
       "1       2.0         PN  Pitcairn Islands -3.0    -8.0    0.0  0.0  0.0    0.0   \n",
       "2       3.0         PG  Papua New Guinea -3.0     5.0    0.0  0.0  0.0    0.0   \n",
       "\n",
       "   USP  TCSP  FORUM  ACP  area  Shape_Leng  Shape_Area  \\\n",
       "0  0.0   0.0    0.0  0.0   0.0   30.331204    1.639128   \n",
       "1  0.0   0.0    0.0  0.0   0.0    0.733043    0.004720   \n",
       "2  0.0   0.0    0.0  0.0   0.0  229.361133   37.800908   \n",
       "\n",
       "                                            geometry  \n",
       "0  MULTIPOLYGON (((166.933 -22.882, 166.933 -22.8...  \n",
       "1  MULTIPOLYGON (((229.905 -25.069, 229.905 -25.0...  \n",
       "2  MULTIPOLYGON (((153.509 -11.620, 153.508 -11.6...  "
      ]
     },
     "execution_count": 42,
     "metadata": {},
     "output_type": "execute_result"
    }
   ],
   "source": [
    "shapefile.head(3)"
   ]
  },
  {
   "cell_type": "code",
   "execution_count": 43,
   "id": "ac8d0736-18f0-4c7e-9c94-70bd3acbde0e",
   "metadata": {
    "execution": {
     "iopub.execute_input": "2021-08-20T05:16:46.583372Z",
     "iopub.status.busy": "2021-08-20T05:16:46.583024Z",
     "iopub.status.idle": "2021-08-20T05:16:46.595977Z",
     "shell.execute_reply": "2021-08-20T05:16:46.595641Z"
    },
    "papermill": {
     "duration": 0.071576,
     "end_time": "2021-08-20T05:16:46.596057",
     "exception": false,
     "start_time": "2021-08-20T05:16:46.524481",
     "status": "completed"
    },
    "tags": []
   },
   "outputs": [
    {
     "data": {
      "text/plain": [
       "Index(['OBJECTID', 'COUNTRY_ID', 'COUNTRYNAM', 'ICU', 'Stress', 'SOPAC', 'FFA',\n",
       "       'SPC', 'SPREP', 'USP', 'TCSP', 'FORUM', 'ACP', 'area', 'Shape_Leng',\n",
       "       'Shape_Area', 'geometry'],\n",
       "      dtype='object')"
      ]
     },
     "execution_count": 43,
     "metadata": {},
     "output_type": "execute_result"
    }
   ],
   "source": [
    "shapefile.columns"
   ]
  },
  {
   "cell_type": "code",
   "execution_count": 44,
   "id": "2e2bd35f-523c-42c1-a31a-14430ce0dea8",
   "metadata": {
    "execution": {
     "iopub.execute_input": "2021-08-20T05:16:46.711941Z",
     "iopub.status.busy": "2021-08-20T05:16:46.711574Z",
     "iopub.status.idle": "2021-08-20T05:16:46.723502Z",
     "shell.execute_reply": "2021-08-20T05:16:46.723160Z"
    },
    "papermill": {
     "duration": 0.070191,
     "end_time": "2021-08-20T05:16:46.723582",
     "exception": false,
     "start_time": "2021-08-20T05:16:46.653391",
     "status": "completed"
    },
    "tags": []
   },
   "outputs": [],
   "source": [
    "location_col = 'COUNTRYNAM'"
   ]
  },
  {
   "cell_type": "code",
   "execution_count": 45,
   "id": "3c7b5943-959b-4e87-8225-be989b84197f",
   "metadata": {
    "execution": {
     "iopub.execute_input": "2021-08-20T05:16:46.840706Z",
     "iopub.status.busy": "2021-08-20T05:16:46.840352Z",
     "iopub.status.idle": "2021-08-20T05:16:46.858337Z",
     "shell.execute_reply": "2021-08-20T05:16:46.857970Z"
    },
    "papermill": {
     "duration": 0.075851,
     "end_time": "2021-08-20T05:16:46.858418",
     "exception": false,
     "start_time": "2021-08-20T05:16:46.782567",
     "status": "completed"
    },
    "tags": []
   },
   "outputs": [],
   "source": [
    "shape = shapefile.query(f\"{location_col} == '{shape_name}'\")"
   ]
  },
  {
   "cell_type": "code",
   "execution_count": 46,
   "id": "54897bf9-c925-48ec-8353-40d590e56fa1",
   "metadata": {
    "execution": {
     "iopub.execute_input": "2021-08-20T05:16:46.975929Z",
     "iopub.status.busy": "2021-08-20T05:16:46.975577Z",
     "iopub.status.idle": "2021-08-20T05:16:46.993781Z",
     "shell.execute_reply": "2021-08-20T05:16:46.994047Z"
    },
    "papermill": {
     "duration": 0.078296,
     "end_time": "2021-08-20T05:16:46.994146",
     "exception": false,
     "start_time": "2021-08-20T05:16:46.915850",
     "status": "completed"
    },
    "tags": []
   },
   "outputs": [
    {
     "name": "stdout",
     "output_type": "stream",
     "text": [
      "setting CRS\n"
     ]
    }
   ],
   "source": [
    "if not(shape.crs): \n",
    "    print(\"setting CRS\")\n",
    "    shape = shape.set_crs(\"EPSG:4326\")"
   ]
  },
  {
   "cell_type": "code",
   "execution_count": 47,
   "id": "303766e0-1484-461d-a5bc-75d67d15083c",
   "metadata": {
    "execution": {
     "iopub.execute_input": "2021-08-20T05:16:47.108040Z",
     "iopub.status.busy": "2021-08-20T05:16:47.107704Z",
     "iopub.status.idle": "2021-08-20T05:16:47.505721Z",
     "shell.execute_reply": "2021-08-20T05:16:47.505447Z"
    },
    "papermill": {
     "duration": 0.45568,
     "end_time": "2021-08-20T05:16:47.505803",
     "exception": false,
     "start_time": "2021-08-20T05:16:47.050123",
     "status": "completed"
    },
    "tags": []
   },
   "outputs": [
    {
     "data": {
      "text/plain": [
       "<AxesSubplot:>"
      ]
     },
     "execution_count": 47,
     "metadata": {},
     "output_type": "execute_result"
    },
    {
     "data": {
      "image/png": "[encoded data removed]",
      "text/plain": [
       "<Figure size 720x720 with 1 Axes>"
      ]
     },
     "metadata": {
      "needs_background": "light"
     },
     "output_type": "display_data"
    }
   ],
   "source": [
    "shape.plot(figsize=(10,10))"
   ]
  },
  {
   "cell_type": "code",
   "execution_count": 48,
   "id": "bfd35648-4de5-495e-9ffb-5a228a6a73c7",
   "metadata": {
    "execution": {
     "iopub.execute_input": "2021-08-20T05:16:47.624773Z",
     "iopub.status.busy": "2021-08-20T05:16:47.624431Z",
     "iopub.status.idle": "2021-08-20T05:16:47.636713Z",
     "shell.execute_reply": "2021-08-20T05:16:47.636969Z"
    },
    "papermill": {
     "duration": 0.073421,
     "end_time": "2021-08-20T05:16:47.637073",
     "exception": false,
     "start_time": "2021-08-20T05:16:47.563652",
     "status": "completed"
    },
    "tags": []
   },
   "outputs": [],
   "source": [
    "original_shape = shape.copy()"
   ]
  },
  {
   "cell_type": "markdown",
   "id": "2d65b2b2-bc09-4f1e-bbfa-e200fc224846",
   "metadata": {
    "papermill": {
     "duration": 0.057316,
     "end_time": "2021-08-20T05:16:47.751548",
     "exception": false,
     "start_time": "2021-08-20T05:16:47.694232",
     "status": "completed"
    },
    "tags": []
   },
   "source": [
    "### for Island groups consituted of very small islands / atolls, we don't filter OUT the geometries, we actually buffer them  so that they can match the resolution of the GCM (once interpolated)"
   ]
  },
  {
   "cell_type": "code",
   "execution_count": 49,
   "id": "9cc89cc1-be84-414f-9b86-ac06eb9d487b",
   "metadata": {
    "execution": {
     "iopub.execute_input": "2021-08-20T05:16:47.867820Z",
     "iopub.status.busy": "2021-08-20T05:16:47.867482Z",
     "iopub.status.idle": "2021-08-20T05:16:47.916267Z",
     "shell.execute_reply": "2021-08-20T05:16:47.915901Z"
    },
    "papermill": {
     "duration": 0.107523,
     "end_time": "2021-08-20T05:16:47.916351",
     "exception": false,
     "start_time": "2021-08-20T05:16:47.808828",
     "status": "completed"
    },
    "tags": []
   },
   "outputs": [
    {
     "data": {
      "text/plain": [
       "471683.6982886551"
      ]
     },
     "execution_count": 49,
     "metadata": {},
     "output_type": "execute_result"
    }
   ],
   "source": [
    "float(shape.to_crs('EPSG:3857').area / 10**6)"
   ]
  },
  {
   "cell_type": "code",
   "execution_count": 50,
   "id": "5805c7b3-50fc-485f-97f7-f44c2ea15598",
   "metadata": {
    "execution": {
     "iopub.execute_input": "2021-08-20T05:16:48.031620Z",
     "iopub.status.busy": "2021-08-20T05:16:48.031281Z",
     "iopub.status.idle": "2021-08-20T05:16:48.200196Z",
     "shell.execute_reply": "2021-08-20T05:16:48.199838Z"
    },
    "papermill": {
     "duration": 0.227851,
     "end_time": "2021-08-20T05:16:48.200281",
     "exception": false,
     "start_time": "2021-08-20T05:16:47.972430",
     "status": "completed"
    },
    "tags": []
   },
   "outputs": [],
   "source": [
    "if float(shape.to_crs('EPSG:3857').area / 10**6) < 1000: \n",
    "    shape = shape.buffer(0.25)\n",
    "else: \n",
    "    shape = geo.filter_by_area(shape, min_area=500)"
   ]
  },
  {
   "cell_type": "code",
   "execution_count": 51,
   "id": "1a56e619-85fb-4656-9ab2-642684d1918a",
   "metadata": {
    "execution": {
     "iopub.execute_input": "2021-08-20T05:16:48.318420Z",
     "iopub.status.busy": "2021-08-20T05:16:48.318087Z",
     "iopub.status.idle": "2021-08-20T05:16:48.430240Z",
     "shell.execute_reply": "2021-08-20T05:16:48.429903Z"
    },
    "papermill": {
     "duration": 0.172558,
     "end_time": "2021-08-20T05:16:48.430321",
     "exception": false,
     "start_time": "2021-08-20T05:16:48.257763",
     "status": "completed"
    },
    "tags": []
   },
   "outputs": [
    {
     "data": {
      "text/plain": [
       "<AxesSubplot:>"
      ]
     },
     "execution_count": 51,
     "metadata": {},
     "output_type": "execute_result"
    },
    {
     "data": {
      "image/png": "[encoded data removed]",
      "text/plain": [
       "<Figure size 432x288 with 1 Axes>"
      ]
     },
     "metadata": {
      "needs_background": "light"
     },
     "output_type": "display_data"
    }
   ],
   "source": [
    "shape.plot()"
   ]
  },
  {
   "cell_type": "markdown",
   "id": "662e3651-3a31-4e7e-86ff-cf586a400ccf",
   "metadata": {
    "papermill": {
     "duration": 0.058114,
     "end_time": "2021-08-20T05:16:48.548337",
     "exception": false,
     "start_time": "2021-08-20T05:16:48.490223",
     "status": "completed"
    },
    "tags": []
   },
   "source": [
    "### we use these filtered geometries to mask the GCM hindcast dataset"
   ]
  },
  {
   "cell_type": "markdown",
   "id": "4992c240-d177-4301-8095-867f8d4f3459",
   "metadata": {
    "papermill": {
     "duration": 0.05996,
     "end_time": "2021-08-20T05:16:48.666169",
     "exception": false,
     "start_time": "2021-08-20T05:16:48.606209",
     "status": "completed"
    },
    "tags": []
   },
   "source": [
    "#### Note that the GCM dataset is first interpolated to 5X its original resolution "
   ]
  },
  {
   "cell_type": "code",
   "execution_count": 52,
   "id": "ac8c5b82-4415-4c64-b5f9-e4fe2c7b1c88",
   "metadata": {
    "execution": {
     "iopub.execute_input": "2021-08-20T05:16:48.783938Z",
     "iopub.status.busy": "2021-08-20T05:16:48.783587Z",
     "iopub.status.idle": "2021-08-20T05:16:48.838722Z",
     "shell.execute_reply": "2021-08-20T05:16:48.838385Z"
    },
    "papermill": {
     "duration": 0.11528,
     "end_time": "2021-08-20T05:16:48.838804",
     "exception": false,
     "start_time": "2021-08-20T05:16:48.723524",
     "status": "completed"
    },
    "tags": []
   },
   "outputs": [
    {
     "data": {
      "text/html": [
       "<div><svg style=\"position: absolute; width: 0; height: 0; overflow: hidden\">\n",
       "<defs>\n",
       "<symbol id=\"icon-database\" viewBox=\"0 0 32 32\">\n",
       "<path d=\"M16 0c-8.837 0-16 2.239-16 5v4c0 2.761 7.163 5 16 5s16-2.239 16-5v-4c0-2.761-7.163-5-16-5z\"></path>\n",
       "<path d=\"M16 17c-8.837 0-16-2.239-16-5v6c0 2.761 7.163 5 16 5s16-2.239 16-5v-6c0 2.761-7.163 5-16 5z\"></path>\n",
       "<path d=\"M16 26c-8.837 0-16-2.239-16-5v6c0 2.761 7.163 5 16 5s16-2.239 16-5v-6c0 2.761-7.163 5-16 5z\"></path>\n",
       "</symbol>\n",
       "<symbol id=\"icon-file-text2\" viewBox=\"0 0 32 32\">\n",
       "<path d=\"M28.681 7.159c-0.694-0.947-1.662-2.053-2.724-3.116s-2.169-2.030-3.116-2.724c-1.612-1.182-2.393-1.319-2.841-1.319h-15.5c-1.378 0-2.5 1.121-2.5 2.5v27c0 1.378 1.122 2.5 2.5 2.5h23c1.378 0 2.5-1.122 2.5-2.5v-19.5c0-0.448-0.137-1.23-1.319-2.841zM24.543 5.457c0.959 0.959 1.712 1.825 2.268 2.543h-4.811v-4.811c0.718 0.556 1.584 1.309 2.543 2.268zM28 29.5c0 0.271-0.229 0.5-0.5 0.5h-23c-0.271 0-0.5-0.229-0.5-0.5v-27c0-0.271 0.229-0.5 0.5-0.5 0 0 15.499-0 15.5 0v7c0 0.552 0.448 1 1 1h7v19.5z\"></path>\n",
       "<path d=\"M23 26h-14c-0.552 0-1-0.448-1-1s0.448-1 1-1h14c0.552 0 1 0.448 1 1s-0.448 1-1 1z\"></path>\n",
       "<path d=\"M23 22h-14c-0.552 0-1-0.448-1-1s0.448-1 1-1h14c0.552 0 1 0.448 1 1s-0.448 1-1 1z\"></path>\n",
       "<path d=\"M23 18h-14c-0.552 0-1-0.448-1-1s0.448-1 1-1h14c0.552 0 1 0.448 1 1s-0.448 1-1 1z\"></path>\n",
       "</symbol>\n",
       "</defs>\n",
       "</svg>\n",
       "<style>/* CSS stylesheet for displaying xarray objects in jupyterlab.\n",
       " *\n",
       " */\n",
       "\n",
       ":root {\n",
       "  --xr-font-color0: var(--jp-content-font-color0, rgba(0, 0, 0, 1));\n",
       "  --xr-font-color2: var(--jp-content-font-color2, rgba(0, 0, 0, 0.54));\n",
       "  --xr-font-color3: var(--jp-content-font-color3, rgba(0, 0, 0, 0.38));\n",
       "  --xr-border-color: var(--jp-border-color2, #e0e0e0);\n",
       "  --xr-disabled-color: var(--jp-layout-color3, #bdbdbd);\n",
       "  --xr-background-color: var(--jp-layout-color0, white);\n",
       "  --xr-background-color-row-even: var(--jp-layout-color1, white);\n",
       "  --xr-background-color-row-odd: var(--jp-layout-color2, #eeeeee);\n",
       "}\n",
       "\n",
       "html[theme=dark],\n",
       "body.vscode-dark {\n",
       "  --xr-font-color0: rgba(255, 255, 255, 1);\n",
       "  --xr-font-color2: rgba(255, 255, 255, 0.54);\n",
       "  --xr-font-color3: rgba(255, 255, 255, 0.38);\n",
       "  --xr-border-color: #1F1F1F;\n",
       "  --xr-disabled-color: #515151;\n",
       "  --xr-background-color: #111111;\n",
       "  --xr-background-color-row-even: #111111;\n",
       "  --xr-background-color-row-odd: #313131;\n",
       "}\n",
       "\n",
       ".xr-wrap {\n",
       "  display: block;\n",
       "  min-width: 300px;\n",
       "  max-width: 700px;\n",
       "}\n",
       "\n",
       ".xr-text-repr-fallback {\n",
       "  /* fallback to plain text repr when CSS is not injected (untrusted notebook) */\n",
       "  display: none;\n",
       "}\n",
       "\n",
       ".xr-header {\n",
       "  padding-top: 6px;\n",
       "  padding-bottom: 6px;\n",
       "  margin-bottom: 4px;\n",
       "  border-bottom: solid 1px var(--xr-border-color);\n",
       "}\n",
       "\n",
       ".xr-header > div,\n",
       ".xr-header > ul {\n",
       "  display: inline;\n",
       "  margin-top: 0;\n",
       "  margin-bottom: 0;\n",
       "}\n",
       "\n",
       ".xr-obj-type,\n",
       ".xr-array-name {\n",
       "  margin-left: 2px;\n",
       "  margin-right: 10px;\n",
       "}\n",
       "\n",
       ".xr-obj-type {\n",
       "  color: var(--xr-font-color2);\n",
       "}\n",
       "\n",
       ".xr-sections {\n",
       "  padding-left: 0 !important;\n",
       "  display: grid;\n",
       "  grid-template-columns: 150px auto auto 1fr 20px 20px;\n",
       "}\n",
       "\n",
       ".xr-section-item {\n",
       "  display: contents;\n",
       "}\n",
       "\n",
       ".xr-section-item input {\n",
       "  display: none;\n",
       "}\n",
       "\n",
       ".xr-section-item input + label {\n",
       "  color: var(--xr-disabled-color);\n",
       "}\n",
       "\n",
       ".xr-section-item input:enabled + label {\n",
       "  cursor: pointer;\n",
       "  color: var(--xr-font-color2);\n",
       "}\n",
       "\n",
       ".xr-section-item input:enabled + label:hover {\n",
       "  color: var(--xr-font-color0);\n",
       "}\n",
       "\n",
       ".xr-section-summary {\n",
       "  grid-column: 1;\n",
       "  color: var(--xr-font-color2);\n",
       "  font-weight: 500;\n",
       "}\n",
       "\n",
       ".xr-section-summary > span {\n",
       "  display: inline-block;\n",
       "  padding-left: 0.5em;\n",
       "}\n",
       "\n",
       ".xr-section-summary-in:disabled + label {\n",
       "  color: var(--xr-font-color2);\n",
       "}\n",
       "\n",
       ".xr-section-summary-in + label:before {\n",
       "  display: inline-block;\n",
       "  content: '►';\n",
       "  font-size: 11px;\n",
       "  width: 15px;\n",
       "  text-align: center;\n",
       "}\n",
       "\n",
       ".xr-section-summary-in:disabled + label:before {\n",
       "  color: var(--xr-disabled-color);\n",
       "}\n",
       "\n",
       ".xr-section-summary-in:checked + label:before {\n",
       "  content: '▼';\n",
       "}\n",
       "\n",
       ".xr-section-summary-in:checked + label > span {\n",
       "  display: none;\n",
       "}\n",
       "\n",
       ".xr-section-summary,\n",
       ".xr-section-inline-details {\n",
       "  padding-top: 4px;\n",
       "  padding-bottom: 4px;\n",
       "}\n",
       "\n",
       ".xr-section-inline-details {\n",
       "  grid-column: 2 / -1;\n",
       "}\n",
       "\n",
       ".xr-section-details {\n",
       "  display: none;\n",
       "  grid-column: 1 / -1;\n",
       "  margin-bottom: 5px;\n",
       "}\n",
       "\n",
       ".xr-section-summary-in:checked ~ .xr-section-details {\n",
       "  display: contents;\n",
       "}\n",
       "\n",
       ".xr-array-wrap {\n",
       "  grid-column: 1 / -1;\n",
       "  display: grid;\n",
       "  grid-template-columns: 20px auto;\n",
       "}\n",
       "\n",
       ".xr-array-wrap > label {\n",
       "  grid-column: 1;\n",
       "  vertical-align: top;\n",
       "}\n",
       "\n",
       ".xr-preview {\n",
       "  color: var(--xr-font-color3);\n",
       "}\n",
       "\n",
       ".xr-array-preview,\n",
       ".xr-array-data {\n",
       "  padding: 0 5px !important;\n",
       "  grid-column: 2;\n",
       "}\n",
       "\n",
       ".xr-array-data,\n",
       ".xr-array-in:checked ~ .xr-array-preview {\n",
       "  display: none;\n",
       "}\n",
       "\n",
       ".xr-array-in:checked ~ .xr-array-data,\n",
       ".xr-array-preview {\n",
       "  display: inline-block;\n",
       "}\n",
       "\n",
       ".xr-dim-list {\n",
       "  display: inline-block !important;\n",
       "  list-style: none;\n",
       "  padding: 0 !important;\n",
       "  margin: 0;\n",
       "}\n",
       "\n",
       ".xr-dim-list li {\n",
       "  display: inline-block;\n",
       "  padding: 0;\n",
       "  margin: 0;\n",
       "}\n",
       "\n",
       ".xr-dim-list:before {\n",
       "  content: '(';\n",
       "}\n",
       "\n",
       ".xr-dim-list:after {\n",
       "  content: ')';\n",
       "}\n",
       "\n",
       ".xr-dim-list li:not(:last-child):after {\n",
       "  content: ',';\n",
       "  padding-right: 5px;\n",
       "}\n",
       "\n",
       ".xr-has-index {\n",
       "  font-weight: bold;\n",
       "}\n",
       "\n",
       ".xr-var-list,\n",
       ".xr-var-item {\n",
       "  display: contents;\n",
       "}\n",
       "\n",
       ".xr-var-item > div,\n",
       ".xr-var-item label,\n",
       ".xr-var-item > .xr-var-name span {\n",
       "  background-color: var(--xr-background-color-row-even);\n",
       "  margin-bottom: 0;\n",
       "}\n",
       "\n",
       ".xr-var-item > .xr-var-name:hover span {\n",
       "  padding-right: 5px;\n",
       "}\n",
       "\n",
       ".xr-var-list > li:nth-child(odd) > div,\n",
       ".xr-var-list > li:nth-child(odd) > label,\n",
       ".xr-var-list > li:nth-child(odd) > .xr-var-name span {\n",
       "  background-color: var(--xr-background-color-row-odd);\n",
       "}\n",
       "\n",
       ".xr-var-name {\n",
       "  grid-column: 1;\n",
       "}\n",
       "\n",
       ".xr-var-dims {\n",
       "  grid-column: 2;\n",
       "}\n",
       "\n",
       ".xr-var-dtype {\n",
       "  grid-column: 3;\n",
       "  text-align: right;\n",
       "  color: var(--xr-font-color2);\n",
       "}\n",
       "\n",
       ".xr-var-preview {\n",
       "  grid-column: 4;\n",
       "}\n",
       "\n",
       ".xr-var-name,\n",
       ".xr-var-dims,\n",
       ".xr-var-dtype,\n",
       ".xr-preview,\n",
       ".xr-attrs dt {\n",
       "  white-space: nowrap;\n",
       "  overflow: hidden;\n",
       "  text-overflow: ellipsis;\n",
       "  padding-right: 10px;\n",
       "}\n",
       "\n",
       ".xr-var-name:hover,\n",
       ".xr-var-dims:hover,\n",
       ".xr-var-dtype:hover,\n",
       ".xr-attrs dt:hover {\n",
       "  overflow: visible;\n",
       "  width: auto;\n",
       "  z-index: 1;\n",
       "}\n",
       "\n",
       ".xr-var-attrs,\n",
       ".xr-var-data {\n",
       "  display: none;\n",
       "  background-color: var(--xr-background-color) !important;\n",
       "  padding-bottom: 5px !important;\n",
       "}\n",
       "\n",
       ".xr-var-attrs-in:checked ~ .xr-var-attrs,\n",
       ".xr-var-data-in:checked ~ .xr-var-data {\n",
       "  display: block;\n",
       "}\n",
       "\n",
       ".xr-var-data > table {\n",
       "  float: right;\n",
       "}\n",
       "\n",
       ".xr-var-name span,\n",
       ".xr-var-data,\n",
       ".xr-attrs {\n",
       "  padding-left: 25px !important;\n",
       "}\n",
       "\n",
       ".xr-attrs,\n",
       ".xr-var-attrs,\n",
       ".xr-var-data {\n",
       "  grid-column: 1 / -1;\n",
       "}\n",
       "\n",
       "dl.xr-attrs {\n",
       "  padding: 0;\n",
       "  margin: 0;\n",
       "  display: grid;\n",
       "  grid-template-columns: 125px auto;\n",
       "}\n",
       "\n",
       ".xr-attrs dt,\n",
       ".xr-attrs dd {\n",
       "  padding: 0;\n",
       "  margin: 0;\n",
       "  float: left;\n",
       "  padding-right: 10px;\n",
       "  width: auto;\n",
       "}\n",
       "\n",
       ".xr-attrs dt {\n",
       "  font-weight: normal;\n",
       "  grid-column: 1;\n",
       "}\n",
       "\n",
       ".xr-attrs dt:hover span {\n",
       "  display: inline-block;\n",
       "  background: var(--xr-background-color);\n",
       "  padding-right: 10px;\n",
       "}\n",
       "\n",
       ".xr-attrs dd {\n",
       "  grid-column: 2;\n",
       "  white-space: pre-wrap;\n",
       "  word-break: break-all;\n",
       "}\n",
       "\n",
       ".xr-icon-database,\n",
       ".xr-icon-file-text2 {\n",
       "  display: inline-block;\n",
       "  vertical-align: middle;\n",
       "  width: 1em;\n",
       "  height: 1.5em !important;\n",
       "  stroke-width: 0;\n",
       "  stroke: currentColor;\n",
       "  fill: currentColor;\n",
       "}\n",
       "</style><pre class='xr-text-repr-fallback'>&lt;xarray.Dataset&gt;\n",
       "Dimensions:  (member: 124, time: 288, lon: 126, lat: 86, step: 3)\n",
       "Coordinates:\n",
       "  * member   (member) int64 0 1 2 3 4 5 6 7 ... 116 117 118 119 120 121 122 123\n",
       "  * time     (time) datetime64[ns] 1993-01-01 1993-02-01 ... 2016-12-01\n",
       "  * lon      (lon) float32 120.0 121.0 122.0 123.0 ... 242.0 243.0 244.0 245.0\n",
       "  * lat      (lat) float32 -55.0 -54.0 -53.0 -52.0 -51.0 ... 27.0 28.0 29.0 30.0\n",
       "  * step     (step) int64 3 4 5\n",
       "Data variables:\n",
       "    precip   (time, step, member, lat, lon) float64 dask.array&lt;chunksize=(1, 3, 124, 86, 126), meta=np.ndarray&gt;\n",
       "Attributes:\n",
       "    Conventions:  CF-1.6\n",
       "    history:      2021-02-10 20:10:36 GMT by grib_to_netcdf-2.16.0: /opt/ecmw...</pre><div class='xr-wrap' hidden><div class='xr-header'><div class='xr-obj-type'>xarray.Dataset</div></div><ul class='xr-sections'><li class='xr-section-item'><input id='section-bd30f92c-bf05-478b-b8b1-8184bb85db62' class='xr-section-summary-in' type='checkbox' disabled ><label for='section-bd30f92c-bf05-478b-b8b1-8184bb85db62' class='xr-section-summary'  title='Expand/collapse section'>Dimensions:</label><div class='xr-section-inline-details'><ul class='xr-dim-list'><li><span class='xr-has-index'>member</span>: 124</li><li><span class='xr-has-index'>time</span>: 288</li><li><span class='xr-has-index'>lon</span>: 126</li><li><span class='xr-has-index'>lat</span>: 86</li><li><span class='xr-has-index'>step</span>: 3</li></ul></div><div class='xr-section-details'></div></li><li class='xr-section-item'><input id='section-0afe89ec-b208-4cdc-84ce-8858bb355f1c' class='xr-section-summary-in' type='checkbox'  checked><label for='section-0afe89ec-b208-4cdc-84ce-8858bb355f1c' class='xr-section-summary' >Coordinates: <span>(5)</span></label><div class='xr-section-inline-details'></div><div class='xr-section-details'><ul class='xr-var-list'><li class='xr-var-item'><div class='xr-var-name'><span class='xr-has-index'>member</span></div><div class='xr-var-dims'>(member)</div><div class='xr-var-dtype'>int64</div><div class='xr-var-preview xr-preview'>0 1 2 3 4 5 ... 119 120 121 122 123</div><input id='attrs-bcd9f4eb-1607-452d-b0ae-9e0cedd9c4dd' class='xr-var-attrs-in' type='checkbox' ><label for='attrs-bcd9f4eb-1607-452d-b0ae-9e0cedd9c4dd' title='Show/Hide attributes'><svg class='icon xr-icon-file-text2'><use xlink:href='#icon-file-text2'></use></svg></label><input id='data-863945f0-77bd-4922-ae27-672b6054b50c' class='xr-var-data-in' type='checkbox'><label for='data-863945f0-77bd-4922-ae27-672b6054b50c' title='Show/Hide data repr'><svg class='icon xr-icon-database'><use xlink:href='#icon-database'></use></svg></label><div class='xr-var-attrs'><dl class='xr-attrs'><dt><span>long_name :</span></dt><dd>ensemble_member</dd></dl></div><div class='xr-var-data'><pre>array([  0,   1,   2,   3,   4,   5,   6,   7,   8,   9,  10,  11,  12,  13,\n",
       "        14,  15,  16,  17,  18,  19,  20,  21,  22,  23,  24,  25,  26,  27,\n",
       "        28,  29,  30,  31,  32,  33,  34,  35,  36,  37,  38,  39,  40,  41,\n",
       "        42,  43,  44,  45,  46,  47,  48,  49,  50,  51,  52,  53,  54,  55,\n",
       "        56,  57,  58,  59,  60,  61,  62,  63,  64,  65,  66,  67,  68,  69,\n",
       "        70,  71,  72,  73,  74,  75,  76,  77,  78,  79,  80,  81,  82,  83,\n",
       "        84,  85,  86,  87,  88,  89,  90,  91,  92,  93,  94,  95,  96,  97,\n",
       "        98,  99, 100, 101, 102, 103, 104, 105, 106, 107, 108, 109, 110, 111,\n",
       "       112, 113, 114, 115, 116, 117, 118, 119, 120, 121, 122, 123])</pre></div></li><li class='xr-var-item'><div class='xr-var-name'><span class='xr-has-index'>time</span></div><div class='xr-var-dims'>(time)</div><div class='xr-var-dtype'>datetime64[ns]</div><div class='xr-var-preview xr-preview'>1993-01-01 ... 2016-12-01</div><input id='attrs-4f5dfb61-7423-4557-83f8-a4409b6149f1' class='xr-var-attrs-in' type='checkbox' disabled><label for='attrs-4f5dfb61-7423-4557-83f8-a4409b6149f1' title='Show/Hide attributes'><svg class='icon xr-icon-file-text2'><use xlink:href='#icon-file-text2'></use></svg></label><input id='data-df8ae8a9-f19e-43c6-8b97-b9c291b5f13e' class='xr-var-data-in' type='checkbox'><label for='data-df8ae8a9-f19e-43c6-8b97-b9c291b5f13e' title='Show/Hide data repr'><svg class='icon xr-icon-database'><use xlink:href='#icon-database'></use></svg></label><div class='xr-var-attrs'><dl class='xr-attrs'></dl></div><div class='xr-var-data'><pre>array([&#x27;1993-01-01T00:00:00.000000000&#x27;, &#x27;1993-02-01T00:00:00.000000000&#x27;,\n",
       "       &#x27;1993-03-01T00:00:00.000000000&#x27;, ..., &#x27;2016-10-01T00:00:00.000000000&#x27;,\n",
       "       &#x27;2016-11-01T00:00:00.000000000&#x27;, &#x27;2016-12-01T00:00:00.000000000&#x27;],\n",
       "      dtype=&#x27;datetime64[ns]&#x27;)</pre></div></li><li class='xr-var-item'><div class='xr-var-name'><span class='xr-has-index'>lon</span></div><div class='xr-var-dims'>(lon)</div><div class='xr-var-dtype'>float32</div><div class='xr-var-preview xr-preview'>120.0 121.0 122.0 ... 244.0 245.0</div><input id='attrs-0390d9b1-e785-4180-9894-a2258ad4ceb9' class='xr-var-attrs-in' type='checkbox' ><label for='attrs-0390d9b1-e785-4180-9894-a2258ad4ceb9' title='Show/Hide attributes'><svg class='icon xr-icon-file-text2'><use xlink:href='#icon-file-text2'></use></svg></label><input id='data-c0af877a-7c17-4dfb-9c01-0fcf5d3d370f' class='xr-var-data-in' type='checkbox'><label for='data-c0af877a-7c17-4dfb-9c01-0fcf5d3d370f' title='Show/Hide data repr'><svg class='icon xr-icon-database'><use xlink:href='#icon-database'></use></svg></label><div class='xr-var-attrs'><dl class='xr-attrs'><dt><span>units :</span></dt><dd>degrees_east</dd><dt><span>long_name :</span></dt><dd>longitude</dd></dl></div><div class='xr-var-data'><pre>array([120., 121., 122., 123., 124., 125., 126., 127., 128., 129., 130., 131.,\n",
       "       132., 133., 134., 135., 136., 137., 138., 139., 140., 141., 142., 143.,\n",
       "       144., 145., 146., 147., 148., 149., 150., 151., 152., 153., 154., 155.,\n",
       "       156., 157., 158., 159., 160., 161., 162., 163., 164., 165., 166., 167.,\n",
       "       168., 169., 170., 171., 172., 173., 174., 175., 176., 177., 178., 179.,\n",
       "       180., 181., 182., 183., 184., 185., 186., 187., 188., 189., 190., 191.,\n",
       "       192., 193., 194., 195., 196., 197., 198., 199., 200., 201., 202., 203.,\n",
       "       204., 205., 206., 207., 208., 209., 210., 211., 212., 213., 214., 215.,\n",
       "       216., 217., 218., 219., 220., 221., 222., 223., 224., 225., 226., 227.,\n",
       "       228., 229., 230., 231., 232., 233., 234., 235., 236., 237., 238., 239.,\n",
       "       240., 241., 242., 243., 244., 245.], dtype=float32)</pre></div></li><li class='xr-var-item'><div class='xr-var-name'><span class='xr-has-index'>lat</span></div><div class='xr-var-dims'>(lat)</div><div class='xr-var-dtype'>float32</div><div class='xr-var-preview xr-preview'>-55.0 -54.0 -53.0 ... 29.0 30.0</div><input id='attrs-e78b9e59-3239-435e-a5ae-5d87ec090115' class='xr-var-attrs-in' type='checkbox' ><label for='attrs-e78b9e59-3239-435e-a5ae-5d87ec090115' title='Show/Hide attributes'><svg class='icon xr-icon-file-text2'><use xlink:href='#icon-file-text2'></use></svg></label><input id='data-d9279fd8-7f00-4881-8f16-55a7b0bc4624' class='xr-var-data-in' type='checkbox'><label for='data-d9279fd8-7f00-4881-8f16-55a7b0bc4624' title='Show/Hide data repr'><svg class='icon xr-icon-database'><use xlink:href='#icon-database'></use></svg></label><div class='xr-var-attrs'><dl class='xr-attrs'><dt><span>units :</span></dt><dd>degrees_north</dd><dt><span>long_name :</span></dt><dd>latitude</dd></dl></div><div class='xr-var-data'><pre>array([-55., -54., -53., -52., -51., -50., -49., -48., -47., -46., -45., -44.,\n",
       "       -43., -42., -41., -40., -39., -38., -37., -36., -35., -34., -33., -32.,\n",
       "       -31., -30., -29., -28., -27., -26., -25., -24., -23., -22., -21., -20.,\n",
       "       -19., -18., -17., -16., -15., -14., -13., -12., -11., -10.,  -9.,  -8.,\n",
       "        -7.,  -6.,  -5.,  -4.,  -3.,  -2.,  -1.,   0.,   1.,   2.,   3.,   4.,\n",
       "         5.,   6.,   7.,   8.,   9.,  10.,  11.,  12.,  13.,  14.,  15.,  16.,\n",
       "        17.,  18.,  19.,  20.,  21.,  22.,  23.,  24.,  25.,  26.,  27.,  28.,\n",
       "        29.,  30.], dtype=float32)</pre></div></li><li class='xr-var-item'><div class='xr-var-name'><span class='xr-has-index'>step</span></div><div class='xr-var-dims'>(step)</div><div class='xr-var-dtype'>int64</div><div class='xr-var-preview xr-preview'>3 4 5</div><input id='attrs-d156b86d-f566-4f23-9495-510dfdcf8af3' class='xr-var-attrs-in' type='checkbox' disabled><label for='attrs-d156b86d-f566-4f23-9495-510dfdcf8af3' title='Show/Hide attributes'><svg class='icon xr-icon-file-text2'><use xlink:href='#icon-file-text2'></use></svg></label><input id='data-b77d8d88-5a43-41de-b375-b7aec3cf61e8' class='xr-var-data-in' type='checkbox'><label for='data-b77d8d88-5a43-41de-b375-b7aec3cf61e8' title='Show/Hide data repr'><svg class='icon xr-icon-database'><use xlink:href='#icon-database'></use></svg></label><div class='xr-var-attrs'><dl class='xr-attrs'></dl></div><div class='xr-var-data'><pre>array([3, 4, 5])</pre></div></li></ul></div></li><li class='xr-section-item'><input id='section-3566e335-03f2-4bfd-8d0f-3b1690e2c871' class='xr-section-summary-in' type='checkbox'  checked><label for='section-3566e335-03f2-4bfd-8d0f-3b1690e2c871' class='xr-section-summary' >Data variables: <span>(1)</span></label><div class='xr-section-inline-details'></div><div class='xr-section-details'><ul class='xr-var-list'><li class='xr-var-item'><div class='xr-var-name'><span>precip</span></div><div class='xr-var-dims'>(time, step, member, lat, lon)</div><div class='xr-var-dtype'>float64</div><div class='xr-var-preview xr-preview'>dask.array&lt;chunksize=(1, 3, 124, 86, 126), meta=np.ndarray&gt;</div><input id='attrs-1a4d070b-8159-4d82-b2cf-07fef540fd77' class='xr-var-attrs-in' type='checkbox' ><label for='attrs-1a4d070b-8159-4d82-b2cf-07fef540fd77' title='Show/Hide attributes'><svg class='icon xr-icon-file-text2'><use xlink:href='#icon-file-text2'></use></svg></label><input id='data-f68b181f-2465-4ec5-8073-4acea63a4aa8' class='xr-var-data-in' type='checkbox'><label for='data-f68b181f-2465-4ec5-8073-4acea63a4aa8' title='Show/Hide data repr'><svg class='icon xr-icon-database'><use xlink:href='#icon-database'></use></svg></label><div class='xr-var-attrs'><dl class='xr-attrs'><dt><span>units :</span></dt><dd>mm/month</dd></dl></div><div class='xr-var-data'><table>\n",
       "<tr>\n",
       "<td>\n",
       "<table>\n",
       "  <thead>\n",
       "    <tr><td> </td><th> Array </th><th> Chunk </th></tr>\n",
       "  </thead>\n",
       "  <tbody>\n",
       "    <tr><th> Bytes </th><td> 8.65 GiB </td> <td> 30.75 MiB </td></tr>\n",
       "    <tr><th> Shape </th><td> (288, 3, 124, 86, 126) </td> <td> (1, 3, 124, 86, 126) </td></tr>\n",
       "    <tr><th> Count </th><td> 12538 Tasks </td><td> 288 Chunks </td></tr>\n",
       "    <tr><th> Type </th><td> float64 </td><td> numpy.ndarray </td></tr>\n",
       "  </tbody>\n",
       "</table>\n",
       "</td>\n",
       "<td>\n",
       "<svg width=\"322\" height=\"170\" style=\"stroke:rgb(0,0,0);stroke-width:1\" >\n",
       "\n",
       "  <!-- Horizontal lines -->\n",
       "  <line x1=\"0\" y1=\"0\" x2=\"25\" y2=\"0\" style=\"stroke-width:2\" />\n",
       "  <line x1=\"0\" y1=\"3\" x2=\"25\" y2=\"3\" />\n",
       "  <line x1=\"0\" y1=\"7\" x2=\"25\" y2=\"7\" />\n",
       "  <line x1=\"0\" y1=\"11\" x2=\"25\" y2=\"11\" />\n",
       "  <line x1=\"0\" y1=\"15\" x2=\"25\" y2=\"15\" />\n",
       "  <line x1=\"0\" y1=\"18\" x2=\"25\" y2=\"18\" />\n",
       "  <line x1=\"0\" y1=\"22\" x2=\"25\" y2=\"22\" />\n",
       "  <line x1=\"0\" y1=\"26\" x2=\"25\" y2=\"26\" />\n",
       "  <line x1=\"0\" y1=\"30\" x2=\"25\" y2=\"30\" />\n",
       "  <line x1=\"0\" y1=\"33\" x2=\"25\" y2=\"33\" />\n",
       "  <line x1=\"0\" y1=\"37\" x2=\"25\" y2=\"37\" />\n",
       "  <line x1=\"0\" y1=\"41\" x2=\"25\" y2=\"41\" />\n",
       "  <line x1=\"0\" y1=\"45\" x2=\"25\" y2=\"45\" />\n",
       "  <line x1=\"0\" y1=\"48\" x2=\"25\" y2=\"48\" />\n",
       "  <line x1=\"0\" y1=\"52\" x2=\"25\" y2=\"52\" />\n",
       "  <line x1=\"0\" y1=\"56\" x2=\"25\" y2=\"56\" />\n",
       "  <line x1=\"0\" y1=\"60\" x2=\"25\" y2=\"60\" />\n",
       "  <line x1=\"0\" y1=\"63\" x2=\"25\" y2=\"63\" />\n",
       "  <line x1=\"0\" y1=\"67\" x2=\"25\" y2=\"67\" />\n",
       "  <line x1=\"0\" y1=\"71\" x2=\"25\" y2=\"71\" />\n",
       "  <line x1=\"0\" y1=\"75\" x2=\"25\" y2=\"75\" />\n",
       "  <line x1=\"0\" y1=\"78\" x2=\"25\" y2=\"78\" />\n",
       "  <line x1=\"0\" y1=\"82\" x2=\"25\" y2=\"82\" />\n",
       "  <line x1=\"0\" y1=\"86\" x2=\"25\" y2=\"86\" />\n",
       "  <line x1=\"0\" y1=\"90\" x2=\"25\" y2=\"90\" />\n",
       "  <line x1=\"0\" y1=\"93\" x2=\"25\" y2=\"93\" />\n",
       "  <line x1=\"0\" y1=\"97\" x2=\"25\" y2=\"97\" />\n",
       "  <line x1=\"0\" y1=\"101\" x2=\"25\" y2=\"101\" />\n",
       "  <line x1=\"0\" y1=\"105\" x2=\"25\" y2=\"105\" />\n",
       "  <line x1=\"0\" y1=\"108\" x2=\"25\" y2=\"108\" />\n",
       "  <line x1=\"0\" y1=\"112\" x2=\"25\" y2=\"112\" />\n",
       "  <line x1=\"0\" y1=\"116\" x2=\"25\" y2=\"116\" />\n",
       "  <line x1=\"0\" y1=\"120\" x2=\"25\" y2=\"120\" style=\"stroke-width:2\" />\n",
       "\n",
       "  <!-- Vertical lines -->\n",
       "  <line x1=\"0\" y1=\"0\" x2=\"0\" y2=\"120\" style=\"stroke-width:2\" />\n",
       "  <line x1=\"25\" y1=\"0\" x2=\"25\" y2=\"120\" style=\"stroke-width:2\" />\n",
       "\n",
       "  <!-- Colored Rectangle -->\n",
       "  <polygon points=\"0.0,0.0 25.60913412115106,0.0 25.60913412115106,120.0 0.0,120.0\" style=\"fill:#8B4903A0;stroke-width:0\"/>\n",
       "\n",
       "  <!-- Text -->\n",
       "  <text x=\"12.804567\" y=\"140.000000\" font-size=\"1.0rem\" font-weight=\"100\" text-anchor=\"middle\" >3</text>\n",
       "  <text x=\"45.609134\" y=\"60.000000\" font-size=\"1.0rem\" font-weight=\"100\" text-anchor=\"middle\" transform=\"rotate(-90,45.609134,60.000000)\">288</text>\n",
       "\n",
       "\n",
       "  <!-- Horizontal lines -->\n",
       "  <line x1=\"95\" y1=\"0\" x2=\"125\" y2=\"30\" style=\"stroke-width:2\" />\n",
       "  <line x1=\"95\" y1=\"43\" x2=\"125\" y2=\"73\" style=\"stroke-width:2\" />\n",
       "\n",
       "  <!-- Vertical lines -->\n",
       "  <line x1=\"95\" y1=\"0\" x2=\"95\" y2=\"43\" style=\"stroke-width:2\" />\n",
       "  <line x1=\"125\" y1=\"30\" x2=\"125\" y2=\"73\" style=\"stroke-width:2\" />\n",
       "\n",
       "  <!-- Colored Rectangle -->\n",
       "  <polygon points=\"95.0,0.0 125.3921568627451,30.392156862745097 125.3921568627451,73.92141423561037 95.0,43.52925737286528\" style=\"fill:#ECB172A0;stroke-width:0\"/>\n",
       "\n",
       "  <!-- Horizontal lines -->\n",
       "  <line x1=\"95\" y1=\"0\" x2=\"147\" y2=\"0\" style=\"stroke-width:2\" />\n",
       "  <line x1=\"125\" y1=\"30\" x2=\"177\" y2=\"30\" style=\"stroke-width:2\" />\n",
       "\n",
       "  <!-- Vertical lines -->\n",
       "  <line x1=\"95\" y1=\"0\" x2=\"125\" y2=\"30\" style=\"stroke-width:2\" />\n",
       "  <line x1=\"147\" y1=\"0\" x2=\"177\" y2=\"30\" style=\"stroke-width:2\" />\n",
       "\n",
       "  <!-- Colored Rectangle -->\n",
       "  <polygon points=\"95.0,0.0 147.5,0.0 177.89215686274508,30.392156862745097 125.3921568627451,30.392156862745097\" style=\"fill:#ECB172A0;stroke-width:0\"/>\n",
       "\n",
       "  <!-- Horizontal lines -->\n",
       "  <line x1=\"125\" y1=\"30\" x2=\"177\" y2=\"30\" style=\"stroke-width:2\" />\n",
       "  <line x1=\"125\" y1=\"73\" x2=\"177\" y2=\"73\" style=\"stroke-width:2\" />\n",
       "\n",
       "  <!-- Vertical lines -->\n",
       "  <line x1=\"125\" y1=\"30\" x2=\"125\" y2=\"73\" style=\"stroke-width:2\" />\n",
       "  <line x1=\"177\" y1=\"30\" x2=\"177\" y2=\"73\" style=\"stroke-width:2\" />\n",
       "\n",
       "  <!-- Colored Rectangle -->\n",
       "  <polygon points=\"125.3921568627451,30.392156862745097 177.89215686274508,30.392156862745097 177.89215686274508,73.92141423561037 125.3921568627451,73.92141423561037\" style=\"fill:#ECB172A0;stroke-width:0\"/>\n",
       "\n",
       "  <!-- Text -->\n",
       "  <text x=\"151.642157\" y=\"93.921414\" font-size=\"1.0rem\" font-weight=\"100\" text-anchor=\"middle\" >126</text>\n",
       "  <text x=\"197.892157\" y=\"52.156786\" font-size=\"1.0rem\" font-weight=\"100\" text-anchor=\"middle\" transform=\"rotate(0,197.892157,52.156786)\">86</text>\n",
       "  <text x=\"100.196078\" y=\"78.725336\" font-size=\"1.0rem\" font-weight=\"100\" text-anchor=\"middle\" transform=\"rotate(45,100.196078,78.725336)\">124</text>\n",
       "</svg>\n",
       "</td>\n",
       "</tr>\n",
       "</table></div></li></ul></div></li><li class='xr-section-item'><input id='section-b410110a-527e-4f85-932c-16fd42ba6556' class='xr-section-summary-in' type='checkbox'  checked><label for='section-b410110a-527e-4f85-932c-16fd42ba6556' class='xr-section-summary' >Attributes: <span>(2)</span></label><div class='xr-section-inline-details'></div><div class='xr-section-details'><dl class='xr-attrs'><dt><span>Conventions :</span></dt><dd>CF-1.6</dd><dt><span>history :</span></dt><dd>2021-02-10 20:10:36 GMT by grib_to_netcdf-2.16.0: /opt/ecmwf/eccodes/bin/grib_to_netcdf -S param -o /cache/data3/adaptor.mars.external-1612987825.7561407-1081-13-c68303ea-8f93-4a6c-8fa1-5794dbc1aefe.nc /cache/tmp/c68303ea-8f93-4a6c-8fa1-5794dbc1aefe-adaptor.mars.external-1612987825.7568429-1081-6-tmp.grib</dd></dl></div></li></ul></div></div>"
      ],
      "text/plain": [
       "<xarray.Dataset>\n",
       "Dimensions:  (member: 124, time: 288, lon: 126, lat: 86, step: 3)\n",
       "Coordinates:\n",
       "  * member   (member) int64 0 1 2 3 4 5 6 7 ... 116 117 118 119 120 121 122 123\n",
       "  * time     (time) datetime64[ns] 1993-01-01 1993-02-01 ... 2016-12-01\n",
       "  * lon      (lon) float32 120.0 121.0 122.0 123.0 ... 242.0 243.0 244.0 245.0\n",
       "  * lat      (lat) float32 -55.0 -54.0 -53.0 -52.0 -51.0 ... 27.0 28.0 29.0 30.0\n",
       "  * step     (step) int64 3 4 5\n",
       "Data variables:\n",
       "    precip   (time, step, member, lat, lon) float64 dask.array<chunksize=(1, 3, 124, 86, 126), meta=np.ndarray>\n",
       "Attributes:\n",
       "    Conventions:  CF-1.6\n",
       "    history:      2021-02-10 20:10:36 GMT by grib_to_netcdf-2.16.0: /opt/ecmw..."
      ]
     },
     "execution_count": 52,
     "metadata": {},
     "output_type": "execute_result"
    }
   ],
   "source": [
    "dset"
   ]
  },
  {
   "cell_type": "code",
   "execution_count": 53,
   "id": "d34c7642-21db-4a2b-9dfc-f067bc426194",
   "metadata": {
    "execution": {
     "iopub.execute_input": "2021-08-20T05:16:48.958468Z",
     "iopub.status.busy": "2021-08-20T05:16:48.958137Z",
     "iopub.status.idle": "2021-08-20T05:17:34.475007Z",
     "shell.execute_reply": "2021-08-20T05:17:34.475275Z"
    },
    "papermill": {
     "duration": 45.578047,
     "end_time": "2021-08-20T05:17:34.475375",
     "exception": false,
     "start_time": "2021-08-20T05:16:48.897328",
     "status": "completed"
    },
    "tags": []
   },
   "outputs": [
    {
     "name": "stdout",
     "output_type": "stream",
     "text": [
      "\r",
      "[                                        ] | 0% Completed |  0.0s"
     ]
    },
    {
     "name": "stdout",
     "output_type": "stream",
     "text": [
      "\r",
      "[                                        ] | 0% Completed |  0.2s"
     ]
    },
    {
     "name": "stdout",
     "output_type": "stream",
     "text": [
      "\r",
      "[                                        ] | 0% Completed |  0.3s"
     ]
    },
    {
     "name": "stdout",
     "output_type": "stream",
     "text": [
      "\r",
      "[                                        ] | 0% Completed |  0.4s"
     ]
    },
    {
     "name": "stdout",
     "output_type": "stream",
     "text": [
      "\r",
      "[                                        ] | 1% Completed |  0.5s"
     ]
    },
    {
     "name": "stdout",
     "output_type": "stream",
     "text": [
      "\r",
      "[#                                       ] | 4% Completed |  0.6s"
     ]
    },
    {
     "name": "stdout",
     "output_type": "stream",
     "text": [
      "\r",
      "[##                                      ] | 6% Completed |  0.7s"
     ]
    },
    {
     "name": "stdout",
     "output_type": "stream",
     "text": [
      "\r",
      "[###                                     ] | 7% Completed |  0.8s"
     ]
    },
    {
     "name": "stdout",
     "output_type": "stream",
     "text": [
      "\r",
      "[###                                     ] | 8% Completed |  0.9s"
     ]
    },
    {
     "name": "stdout",
     "output_type": "stream",
     "text": [
      "\r",
      "[####                                    ] | 10% Completed |  1.0s"
     ]
    },
    {
     "name": "stdout",
     "output_type": "stream",
     "text": [
      "\r",
      "[####                                    ] | 11% Completed |  1.1s"
     ]
    },
    {
     "name": "stdout",
     "output_type": "stream",
     "text": [
      "\r",
      "[#####                                   ] | 12% Completed |  1.2s"
     ]
    },
    {
     "name": "stdout",
     "output_type": "stream",
     "text": [
      "\r",
      "[#####                                   ] | 13% Completed |  1.3s"
     ]
    },
    {
     "name": "stdout",
     "output_type": "stream",
     "text": [
      "\r",
      "[#####                                   ] | 13% Completed |  1.5s"
     ]
    },
    {
     "name": "stdout",
     "output_type": "stream",
     "text": [
      "\r",
      "[#####                                   ] | 14% Completed |  1.6s"
     ]
    },
    {
     "name": "stdout",
     "output_type": "stream",
     "text": [
      "\r",
      "[#####                                   ] | 14% Completed |  1.7s"
     ]
    },
    {
     "name": "stdout",
     "output_type": "stream",
     "text": [
      "\r",
      "[######                                  ] | 15% Completed |  1.9s"
     ]
    },
    {
     "name": "stdout",
     "output_type": "stream",
     "text": [
      "\r",
      "[######                                  ] | 15% Completed |  2.0s"
     ]
    },
    {
     "name": "stdout",
     "output_type": "stream",
     "text": [
      "\r",
      "[######                                  ] | 16% Completed |  2.1s"
     ]
    },
    {
     "name": "stdout",
     "output_type": "stream",
     "text": [
      "\r",
      "[######                                  ] | 16% Completed |  2.2s"
     ]
    },
    {
     "name": "stdout",
     "output_type": "stream",
     "text": [
      "\r",
      "[#########                               ] | 23% Completed |  2.4s"
     ]
    },
    {
     "name": "stdout",
     "output_type": "stream",
     "text": [
      "\r",
      "[#########                               ] | 24% Completed |  2.5s"
     ]
    },
    {
     "name": "stdout",
     "output_type": "stream",
     "text": [
      "\r",
      "[##########                              ] | 25% Completed |  2.6s"
     ]
    },
    {
     "name": "stdout",
     "output_type": "stream",
     "text": [
      "\r",
      "[##########                              ] | 26% Completed |  2.7s"
     ]
    },
    {
     "name": "stdout",
     "output_type": "stream",
     "text": [
      "\r",
      "[##########                              ] | 26% Completed |  2.8s"
     ]
    },
    {
     "name": "stdout",
     "output_type": "stream",
     "text": [
      "\r",
      "[##########                              ] | 26% Completed |  2.9s"
     ]
    },
    {
     "name": "stdout",
     "output_type": "stream",
     "text": [
      "\r",
      "[##########                              ] | 26% Completed |  3.1s"
     ]
    },
    {
     "name": "stdout",
     "output_type": "stream",
     "text": [
      "\r",
      "[##########                              ] | 26% Completed |  3.2s"
     ]
    },
    {
     "name": "stdout",
     "output_type": "stream",
     "text": [
      "\r",
      "[##########                              ] | 27% Completed |  3.3s"
     ]
    },
    {
     "name": "stdout",
     "output_type": "stream",
     "text": [
      "\r",
      "[##########                              ] | 27% Completed |  3.4s"
     ]
    },
    {
     "name": "stdout",
     "output_type": "stream",
     "text": [
      "\r",
      "[###########                             ] | 27% Completed |  3.5s"
     ]
    },
    {
     "name": "stdout",
     "output_type": "stream",
     "text": [
      "\r",
      "[###########                             ] | 29% Completed |  3.6s"
     ]
    },
    {
     "name": "stdout",
     "output_type": "stream",
     "text": [
      "\r",
      "[###########                             ] | 29% Completed |  3.8s"
     ]
    },
    {
     "name": "stdout",
     "output_type": "stream",
     "text": [
      "\r",
      "[###########                             ] | 29% Completed |  3.9s"
     ]
    },
    {
     "name": "stdout",
     "output_type": "stream",
     "text": [
      "\r",
      "[############                            ] | 30% Completed |  4.0s"
     ]
    },
    {
     "name": "stdout",
     "output_type": "stream",
     "text": [
      "\r",
      "[############                            ] | 30% Completed |  4.1s"
     ]
    },
    {
     "name": "stdout",
     "output_type": "stream",
     "text": [
      "\r",
      "[############                            ] | 30% Completed |  4.3s"
     ]
    },
    {
     "name": "stdout",
     "output_type": "stream",
     "text": [
      "\r",
      "[############                            ] | 31% Completed |  4.4s"
     ]
    },
    {
     "name": "stdout",
     "output_type": "stream",
     "text": [
      "\r",
      "[############                            ] | 31% Completed |  4.5s"
     ]
    },
    {
     "name": "stdout",
     "output_type": "stream",
     "text": [
      "\r",
      "[############                            ] | 31% Completed |  4.7s"
     ]
    },
    {
     "name": "stdout",
     "output_type": "stream",
     "text": [
      "\r",
      "[############                            ] | 32% Completed |  4.8s"
     ]
    },
    {
     "name": "stdout",
     "output_type": "stream",
     "text": [
      "\r",
      "[############                            ] | 32% Completed |  4.9s"
     ]
    },
    {
     "name": "stdout",
     "output_type": "stream",
     "text": [
      "\r",
      "[#############                           ] | 32% Completed |  5.0s"
     ]
    },
    {
     "name": "stdout",
     "output_type": "stream",
     "text": [
      "\r",
      "[#############                           ] | 32% Completed |  5.2s"
     ]
    },
    {
     "name": "stdout",
     "output_type": "stream",
     "text": [
      "\r",
      "[#############                           ] | 32% Completed |  5.3s"
     ]
    },
    {
     "name": "stdout",
     "output_type": "stream",
     "text": [
      "\r",
      "[#############                           ] | 32% Completed |  5.4s"
     ]
    },
    {
     "name": "stdout",
     "output_type": "stream",
     "text": [
      "\r",
      "[#############                           ] | 32% Completed |  5.5s"
     ]
    },
    {
     "name": "stdout",
     "output_type": "stream",
     "text": [
      "\r",
      "[#############                           ] | 32% Completed |  5.6s"
     ]
    },
    {
     "name": "stdout",
     "output_type": "stream",
     "text": [
      "\r",
      "[#############                           ] | 32% Completed |  5.7s"
     ]
    },
    {
     "name": "stdout",
     "output_type": "stream",
     "text": [
      "\r",
      "[#############                           ] | 33% Completed |  5.8s"
     ]
    },
    {
     "name": "stdout",
     "output_type": "stream",
     "text": [
      "\r",
      "[#############                           ] | 33% Completed |  6.0s"
     ]
    },
    {
     "name": "stdout",
     "output_type": "stream",
     "text": [
      "\r",
      "[#############                           ] | 33% Completed |  6.1s"
     ]
    },
    {
     "name": "stdout",
     "output_type": "stream",
     "text": [
      "\r",
      "[#############                           ] | 33% Completed |  6.2s"
     ]
    },
    {
     "name": "stdout",
     "output_type": "stream",
     "text": [
      "\r",
      "[#############                           ] | 33% Completed |  6.3s"
     ]
    },
    {
     "name": "stdout",
     "output_type": "stream",
     "text": [
      "\r",
      "[#############                           ] | 33% Completed |  6.4s"
     ]
    },
    {
     "name": "stdout",
     "output_type": "stream",
     "text": [
      "\r",
      "[#############                           ] | 33% Completed |  6.5s"
     ]
    },
    {
     "name": "stdout",
     "output_type": "stream",
     "text": [
      "\r",
      "[#############                           ] | 33% Completed |  6.6s"
     ]
    },
    {
     "name": "stdout",
     "output_type": "stream",
     "text": [
      "\r",
      "[#############                           ] | 33% Completed |  6.7s"
     ]
    },
    {
     "name": "stdout",
     "output_type": "stream",
     "text": [
      "\r",
      "[#############                           ] | 33% Completed |  6.8s"
     ]
    },
    {
     "name": "stdout",
     "output_type": "stream",
     "text": [
      "\r",
      "[#############                           ] | 33% Completed |  6.9s"
     ]
    },
    {
     "name": "stdout",
     "output_type": "stream",
     "text": [
      "\r",
      "[#############                           ] | 33% Completed |  7.0s"
     ]
    },
    {
     "name": "stdout",
     "output_type": "stream",
     "text": [
      "\r",
      "[#############                           ] | 33% Completed |  7.1s"
     ]
    },
    {
     "name": "stdout",
     "output_type": "stream",
     "text": [
      "\r",
      "[#############                           ] | 33% Completed |  7.2s"
     ]
    },
    {
     "name": "stdout",
     "output_type": "stream",
     "text": [
      "\r",
      "[#############                           ] | 33% Completed |  7.3s"
     ]
    },
    {
     "name": "stdout",
     "output_type": "stream",
     "text": [
      "\r",
      "[#############                           ] | 33% Completed |  7.4s"
     ]
    },
    {
     "name": "stdout",
     "output_type": "stream",
     "text": [
      "\r",
      "[#############                           ] | 34% Completed |  7.5s"
     ]
    },
    {
     "name": "stdout",
     "output_type": "stream",
     "text": [
      "\r",
      "[#############                           ] | 34% Completed |  7.7s"
     ]
    },
    {
     "name": "stdout",
     "output_type": "stream",
     "text": [
      "\r",
      "[#############                           ] | 34% Completed |  7.8s"
     ]
    },
    {
     "name": "stdout",
     "output_type": "stream",
     "text": [
      "\r",
      "[#############                           ] | 34% Completed |  7.9s"
     ]
    },
    {
     "name": "stdout",
     "output_type": "stream",
     "text": [
      "\r",
      "[#############                           ] | 34% Completed |  8.0s"
     ]
    },
    {
     "name": "stdout",
     "output_type": "stream",
     "text": [
      "\r",
      "[#############                           ] | 34% Completed |  8.1s"
     ]
    },
    {
     "name": "stdout",
     "output_type": "stream",
     "text": [
      "\r",
      "[#############                           ] | 34% Completed |  8.2s"
     ]
    },
    {
     "name": "stdout",
     "output_type": "stream",
     "text": [
      "\r",
      "[#############                           ] | 34% Completed |  8.3s"
     ]
    },
    {
     "name": "stdout",
     "output_type": "stream",
     "text": [
      "\r",
      "[#############                           ] | 34% Completed |  8.4s"
     ]
    },
    {
     "name": "stdout",
     "output_type": "stream",
     "text": [
      "\r",
      "[#############                           ] | 34% Completed |  8.6s"
     ]
    },
    {
     "name": "stdout",
     "output_type": "stream",
     "text": [
      "\r",
      "[#############                           ] | 34% Completed |  8.7s"
     ]
    },
    {
     "name": "stdout",
     "output_type": "stream",
     "text": [
      "\r",
      "[#############                           ] | 34% Completed |  8.8s"
     ]
    },
    {
     "name": "stdout",
     "output_type": "stream",
     "text": [
      "\r",
      "[#############                           ] | 34% Completed |  8.9s"
     ]
    },
    {
     "name": "stdout",
     "output_type": "stream",
     "text": [
      "\r",
      "[#############                           ] | 34% Completed |  9.0s"
     ]
    },
    {
     "name": "stdout",
     "output_type": "stream",
     "text": [
      "\r",
      "[#############                           ] | 34% Completed |  9.1s"
     ]
    },
    {
     "name": "stdout",
     "output_type": "stream",
     "text": [
      "\r",
      "[#############                           ] | 34% Completed |  9.2s"
     ]
    },
    {
     "name": "stdout",
     "output_type": "stream",
     "text": [
      "\r",
      "[#############                           ] | 34% Completed |  9.3s"
     ]
    },
    {
     "name": "stdout",
     "output_type": "stream",
     "text": [
      "\r",
      "[#############                           ] | 34% Completed |  9.4s"
     ]
    },
    {
     "name": "stdout",
     "output_type": "stream",
     "text": [
      "\r",
      "[#############                           ] | 34% Completed |  9.5s"
     ]
    },
    {
     "name": "stdout",
     "output_type": "stream",
     "text": [
      "\r",
      "[#############                           ] | 34% Completed |  9.7s"
     ]
    },
    {
     "name": "stdout",
     "output_type": "stream",
     "text": [
      "\r",
      "[#############                           ] | 34% Completed |  9.8s"
     ]
    },
    {
     "name": "stdout",
     "output_type": "stream",
     "text": [
      "\r",
      "[##############                          ] | 35% Completed |  9.9s"
     ]
    },
    {
     "name": "stdout",
     "output_type": "stream",
     "text": [
      "\r",
      "[##############                          ] | 35% Completed | 10.0s"
     ]
    },
    {
     "name": "stdout",
     "output_type": "stream",
     "text": [
      "\r",
      "[##############                          ] | 35% Completed | 10.1s"
     ]
    },
    {
     "name": "stdout",
     "output_type": "stream",
     "text": [
      "\r",
      "[##############                          ] | 35% Completed | 10.2s"
     ]
    },
    {
     "name": "stdout",
     "output_type": "stream",
     "text": [
      "\r",
      "[##############                          ] | 36% Completed | 10.3s"
     ]
    },
    {
     "name": "stdout",
     "output_type": "stream",
     "text": [
      "\r",
      "[##############                          ] | 36% Completed | 10.4s"
     ]
    },
    {
     "name": "stdout",
     "output_type": "stream",
     "text": [
      "\r",
      "[##############                          ] | 36% Completed | 10.5s"
     ]
    },
    {
     "name": "stdout",
     "output_type": "stream",
     "text": [
      "\r",
      "[##############                          ] | 36% Completed | 10.6s"
     ]
    },
    {
     "name": "stdout",
     "output_type": "stream",
     "text": [
      "\r",
      "[##############                          ] | 36% Completed | 10.7s"
     ]
    },
    {
     "name": "stdout",
     "output_type": "stream",
     "text": [
      "\r",
      "[##############                          ] | 36% Completed | 10.8s"
     ]
    },
    {
     "name": "stdout",
     "output_type": "stream",
     "text": [
      "\r",
      "[##############                          ] | 36% Completed | 10.9s"
     ]
    },
    {
     "name": "stdout",
     "output_type": "stream",
     "text": [
      "\r",
      "[##############                          ] | 37% Completed | 11.0s"
     ]
    },
    {
     "name": "stdout",
     "output_type": "stream",
     "text": [
      "\r",
      "[###############                         ] | 37% Completed | 11.1s"
     ]
    },
    {
     "name": "stdout",
     "output_type": "stream",
     "text": [
      "\r",
      "[###############                         ] | 37% Completed | 11.2s"
     ]
    },
    {
     "name": "stdout",
     "output_type": "stream",
     "text": [
      "\r",
      "[###############                         ] | 38% Completed | 11.3s"
     ]
    },
    {
     "name": "stdout",
     "output_type": "stream",
     "text": [
      "\r",
      "[###############                         ] | 38% Completed | 11.5s"
     ]
    },
    {
     "name": "stdout",
     "output_type": "stream",
     "text": [
      "\r",
      "[###############                         ] | 38% Completed | 11.6s"
     ]
    },
    {
     "name": "stdout",
     "output_type": "stream",
     "text": [
      "\r",
      "[###############                         ] | 38% Completed | 11.7s"
     ]
    },
    {
     "name": "stdout",
     "output_type": "stream",
     "text": [
      "\r",
      "[###############                         ] | 38% Completed | 11.8s"
     ]
    },
    {
     "name": "stdout",
     "output_type": "stream",
     "text": [
      "\r",
      "[###############                         ] | 38% Completed | 11.9s"
     ]
    },
    {
     "name": "stdout",
     "output_type": "stream",
     "text": [
      "\r",
      "[###############                         ] | 39% Completed | 12.0s"
     ]
    },
    {
     "name": "stdout",
     "output_type": "stream",
     "text": [
      "\r",
      "[###############                         ] | 39% Completed | 12.1s"
     ]
    },
    {
     "name": "stdout",
     "output_type": "stream",
     "text": [
      "\r",
      "[###############                         ] | 39% Completed | 12.3s"
     ]
    },
    {
     "name": "stdout",
     "output_type": "stream",
     "text": [
      "\r",
      "[###############                         ] | 39% Completed | 12.4s"
     ]
    },
    {
     "name": "stdout",
     "output_type": "stream",
     "text": [
      "\r",
      "[###############                         ] | 39% Completed | 12.5s"
     ]
    },
    {
     "name": "stdout",
     "output_type": "stream",
     "text": [
      "\r",
      "[###############                         ] | 39% Completed | 12.6s"
     ]
    },
    {
     "name": "stdout",
     "output_type": "stream",
     "text": [
      "\r",
      "[################                        ] | 40% Completed | 12.7s"
     ]
    },
    {
     "name": "stdout",
     "output_type": "stream",
     "text": [
      "\r",
      "[################                        ] | 40% Completed | 12.8s"
     ]
    },
    {
     "name": "stdout",
     "output_type": "stream",
     "text": [
      "\r",
      "[################                        ] | 40% Completed | 12.9s"
     ]
    },
    {
     "name": "stdout",
     "output_type": "stream",
     "text": [
      "\r",
      "[################                        ] | 40% Completed | 13.0s"
     ]
    },
    {
     "name": "stdout",
     "output_type": "stream",
     "text": [
      "\r",
      "[################                        ] | 41% Completed | 13.1s"
     ]
    },
    {
     "name": "stdout",
     "output_type": "stream",
     "text": [
      "\r",
      "[#################                       ] | 43% Completed | 13.3s"
     ]
    },
    {
     "name": "stdout",
     "output_type": "stream",
     "text": [
      "\r",
      "[#################                       ] | 44% Completed | 13.4s"
     ]
    },
    {
     "name": "stdout",
     "output_type": "stream",
     "text": [
      "\r",
      "[#################                       ] | 44% Completed | 13.5s"
     ]
    },
    {
     "name": "stdout",
     "output_type": "stream",
     "text": [
      "\r",
      "[#################                       ] | 44% Completed | 13.6s"
     ]
    },
    {
     "name": "stdout",
     "output_type": "stream",
     "text": [
      "\r",
      "[#################                       ] | 44% Completed | 13.7s"
     ]
    },
    {
     "name": "stdout",
     "output_type": "stream",
     "text": [
      "\r",
      "[##################                      ] | 45% Completed | 13.8s"
     ]
    },
    {
     "name": "stdout",
     "output_type": "stream",
     "text": [
      "\r",
      "[##################                      ] | 45% Completed | 13.9s"
     ]
    },
    {
     "name": "stdout",
     "output_type": "stream",
     "text": [
      "\r",
      "[##################                      ] | 45% Completed | 14.0s"
     ]
    },
    {
     "name": "stdout",
     "output_type": "stream",
     "text": [
      "\r",
      "[##################                      ] | 46% Completed | 14.1s"
     ]
    },
    {
     "name": "stdout",
     "output_type": "stream",
     "text": [
      "\r",
      "[##################                      ] | 46% Completed | 14.2s"
     ]
    },
    {
     "name": "stdout",
     "output_type": "stream",
     "text": [
      "\r",
      "[##################                      ] | 46% Completed | 14.3s"
     ]
    },
    {
     "name": "stdout",
     "output_type": "stream",
     "text": [
      "\r",
      "[##################                      ] | 47% Completed | 14.4s"
     ]
    },
    {
     "name": "stdout",
     "output_type": "stream",
     "text": [
      "\r",
      "[###################                     ] | 47% Completed | 14.5s"
     ]
    },
    {
     "name": "stdout",
     "output_type": "stream",
     "text": [
      "\r",
      "[###################                     ] | 47% Completed | 14.7s"
     ]
    },
    {
     "name": "stdout",
     "output_type": "stream",
     "text": [
      "\r",
      "[###################                     ] | 48% Completed | 14.8s"
     ]
    },
    {
     "name": "stdout",
     "output_type": "stream",
     "text": [
      "\r",
      "[###################                     ] | 48% Completed | 14.9s"
     ]
    },
    {
     "name": "stdout",
     "output_type": "stream",
     "text": [
      "\r",
      "[###################                     ] | 48% Completed | 15.0s"
     ]
    },
    {
     "name": "stdout",
     "output_type": "stream",
     "text": [
      "\r",
      "[###################                     ] | 48% Completed | 15.1s"
     ]
    },
    {
     "name": "stdout",
     "output_type": "stream",
     "text": [
      "\r",
      "[###################                     ] | 49% Completed | 15.2s"
     ]
    },
    {
     "name": "stdout",
     "output_type": "stream",
     "text": [
      "\r",
      "[###################                     ] | 49% Completed | 15.3s"
     ]
    },
    {
     "name": "stdout",
     "output_type": "stream",
     "text": [
      "\r",
      "[###################                     ] | 49% Completed | 15.4s"
     ]
    },
    {
     "name": "stdout",
     "output_type": "stream",
     "text": [
      "\r",
      "[####################                    ] | 50% Completed | 15.5s"
     ]
    },
    {
     "name": "stdout",
     "output_type": "stream",
     "text": [
      "\r",
      "[####################                    ] | 50% Completed | 15.6s"
     ]
    },
    {
     "name": "stdout",
     "output_type": "stream",
     "text": [
      "\r",
      "[####################                    ] | 51% Completed | 15.7s"
     ]
    },
    {
     "name": "stdout",
     "output_type": "stream",
     "text": [
      "\r",
      "[####################                    ] | 51% Completed | 15.8s"
     ]
    },
    {
     "name": "stdout",
     "output_type": "stream",
     "text": [
      "\r",
      "[####################                    ] | 52% Completed | 15.9s"
     ]
    },
    {
     "name": "stdout",
     "output_type": "stream",
     "text": [
      "\r",
      "[#####################                   ] | 52% Completed | 16.1s"
     ]
    },
    {
     "name": "stdout",
     "output_type": "stream",
     "text": [
      "\r",
      "[#####################                   ] | 53% Completed | 16.2s"
     ]
    },
    {
     "name": "stdout",
     "output_type": "stream",
     "text": [
      "\r",
      "[#####################                   ] | 53% Completed | 16.3s"
     ]
    },
    {
     "name": "stdout",
     "output_type": "stream",
     "text": [
      "\r",
      "[#####################                   ] | 54% Completed | 16.4s"
     ]
    },
    {
     "name": "stdout",
     "output_type": "stream",
     "text": [
      "\r",
      "[#####################                   ] | 54% Completed | 16.5s"
     ]
    },
    {
     "name": "stdout",
     "output_type": "stream",
     "text": [
      "\r",
      "[######################                  ] | 55% Completed | 16.6s"
     ]
    },
    {
     "name": "stdout",
     "output_type": "stream",
     "text": [
      "\r",
      "[######################                  ] | 55% Completed | 16.7s"
     ]
    },
    {
     "name": "stdout",
     "output_type": "stream",
     "text": [
      "\r",
      "[######################                  ] | 55% Completed | 16.9s"
     ]
    },
    {
     "name": "stdout",
     "output_type": "stream",
     "text": [
      "\r",
      "[######################                  ] | 56% Completed | 17.0s"
     ]
    },
    {
     "name": "stdout",
     "output_type": "stream",
     "text": [
      "\r",
      "[######################                  ] | 56% Completed | 17.1s"
     ]
    },
    {
     "name": "stdout",
     "output_type": "stream",
     "text": [
      "\r",
      "[######################                  ] | 56% Completed | 17.2s"
     ]
    },
    {
     "name": "stdout",
     "output_type": "stream",
     "text": [
      "\r",
      "[######################                  ] | 57% Completed | 17.3s"
     ]
    },
    {
     "name": "stdout",
     "output_type": "stream",
     "text": [
      "\r",
      "[######################                  ] | 57% Completed | 17.4s"
     ]
    },
    {
     "name": "stdout",
     "output_type": "stream",
     "text": [
      "\r",
      "[#######################                 ] | 57% Completed | 17.6s"
     ]
    },
    {
     "name": "stdout",
     "output_type": "stream",
     "text": [
      "\r",
      "[#######################                 ] | 57% Completed | 17.7s"
     ]
    },
    {
     "name": "stdout",
     "output_type": "stream",
     "text": [
      "\r",
      "[#######################                 ] | 58% Completed | 17.8s"
     ]
    },
    {
     "name": "stdout",
     "output_type": "stream",
     "text": [
      "\r",
      "[#######################                 ] | 58% Completed | 17.9s"
     ]
    },
    {
     "name": "stdout",
     "output_type": "stream",
     "text": [
      "\r",
      "[#######################                 ] | 59% Completed | 18.0s"
     ]
    },
    {
     "name": "stdout",
     "output_type": "stream",
     "text": [
      "\r",
      "[#######################                 ] | 59% Completed | 18.2s"
     ]
    },
    {
     "name": "stdout",
     "output_type": "stream",
     "text": [
      "\r",
      "[#######################                 ] | 59% Completed | 18.3s"
     ]
    },
    {
     "name": "stdout",
     "output_type": "stream",
     "text": [
      "\r",
      "[########################                ] | 60% Completed | 18.4s"
     ]
    },
    {
     "name": "stdout",
     "output_type": "stream",
     "text": [
      "\r",
      "[########################                ] | 60% Completed | 18.5s"
     ]
    },
    {
     "name": "stdout",
     "output_type": "stream",
     "text": [
      "\r",
      "[########################                ] | 61% Completed | 18.6s"
     ]
    },
    {
     "name": "stdout",
     "output_type": "stream",
     "text": [
      "\r",
      "[########################                ] | 61% Completed | 18.7s"
     ]
    },
    {
     "name": "stdout",
     "output_type": "stream",
     "text": [
      "\r",
      "[#########################               ] | 64% Completed | 18.8s"
     ]
    },
    {
     "name": "stdout",
     "output_type": "stream",
     "text": [
      "\r",
      "[#########################               ] | 64% Completed | 18.9s"
     ]
    },
    {
     "name": "stdout",
     "output_type": "stream",
     "text": [
      "\r",
      "[##########################              ] | 65% Completed | 19.1s"
     ]
    },
    {
     "name": "stdout",
     "output_type": "stream",
     "text": [
      "\r",
      "[##########################              ] | 66% Completed | 19.2s"
     ]
    },
    {
     "name": "stdout",
     "output_type": "stream",
     "text": [
      "\r",
      "[##########################              ] | 66% Completed | 19.3s"
     ]
    },
    {
     "name": "stdout",
     "output_type": "stream",
     "text": [
      "\r",
      "[###########################             ] | 68% Completed | 19.4s"
     ]
    },
    {
     "name": "stdout",
     "output_type": "stream",
     "text": [
      "\r",
      "[###########################             ] | 69% Completed | 19.5s"
     ]
    },
    {
     "name": "stdout",
     "output_type": "stream",
     "text": [
      "\r",
      "[###########################             ] | 69% Completed | 19.6s"
     ]
    },
    {
     "name": "stdout",
     "output_type": "stream",
     "text": [
      "\r",
      "[###########################             ] | 69% Completed | 19.7s"
     ]
    },
    {
     "name": "stdout",
     "output_type": "stream",
     "text": [
      "\r",
      "[###########################             ] | 69% Completed | 19.8s"
     ]
    },
    {
     "name": "stdout",
     "output_type": "stream",
     "text": [
      "\r",
      "[###########################             ] | 69% Completed | 19.9s"
     ]
    },
    {
     "name": "stdout",
     "output_type": "stream",
     "text": [
      "\r",
      "[###########################             ] | 69% Completed | 20.0s"
     ]
    },
    {
     "name": "stdout",
     "output_type": "stream",
     "text": [
      "\r",
      "[###########################             ] | 69% Completed | 20.1s"
     ]
    },
    {
     "name": "stdout",
     "output_type": "stream",
     "text": [
      "\r",
      "[############################            ] | 70% Completed | 20.3s"
     ]
    },
    {
     "name": "stdout",
     "output_type": "stream",
     "text": [
      "\r",
      "[############################            ] | 70% Completed | 20.4s"
     ]
    },
    {
     "name": "stdout",
     "output_type": "stream",
     "text": [
      "\r",
      "[############################            ] | 70% Completed | 20.5s"
     ]
    },
    {
     "name": "stdout",
     "output_type": "stream",
     "text": [
      "\r",
      "[############################            ] | 70% Completed | 20.6s"
     ]
    },
    {
     "name": "stdout",
     "output_type": "stream",
     "text": [
      "\r",
      "[############################            ] | 70% Completed | 20.7s"
     ]
    },
    {
     "name": "stdout",
     "output_type": "stream",
     "text": [
      "\r",
      "[############################            ] | 70% Completed | 20.8s"
     ]
    },
    {
     "name": "stdout",
     "output_type": "stream",
     "text": [
      "\r",
      "[############################            ] | 70% Completed | 20.9s"
     ]
    },
    {
     "name": "stdout",
     "output_type": "stream",
     "text": [
      "\r",
      "[############################            ] | 71% Completed | 21.0s"
     ]
    },
    {
     "name": "stdout",
     "output_type": "stream",
     "text": [
      "\r",
      "[############################            ] | 71% Completed | 21.2s"
     ]
    },
    {
     "name": "stdout",
     "output_type": "stream",
     "text": [
      "\r",
      "[############################            ] | 71% Completed | 21.3s"
     ]
    },
    {
     "name": "stdout",
     "output_type": "stream",
     "text": [
      "\r",
      "[############################            ] | 71% Completed | 21.4s"
     ]
    },
    {
     "name": "stdout",
     "output_type": "stream",
     "text": [
      "\r",
      "[############################            ] | 71% Completed | 21.5s"
     ]
    },
    {
     "name": "stdout",
     "output_type": "stream",
     "text": [
      "\r",
      "[############################            ] | 71% Completed | 21.6s"
     ]
    },
    {
     "name": "stdout",
     "output_type": "stream",
     "text": [
      "\r",
      "[############################            ] | 71% Completed | 21.7s"
     ]
    },
    {
     "name": "stdout",
     "output_type": "stream",
     "text": [
      "\r",
      "[############################            ] | 72% Completed | 21.8s"
     ]
    },
    {
     "name": "stdout",
     "output_type": "stream",
     "text": [
      "\r",
      "[############################            ] | 72% Completed | 21.9s"
     ]
    },
    {
     "name": "stdout",
     "output_type": "stream",
     "text": [
      "\r",
      "[############################            ] | 72% Completed | 22.0s"
     ]
    },
    {
     "name": "stdout",
     "output_type": "stream",
     "text": [
      "\r",
      "[############################            ] | 72% Completed | 22.1s"
     ]
    },
    {
     "name": "stdout",
     "output_type": "stream",
     "text": [
      "\r",
      "[############################            ] | 72% Completed | 22.2s"
     ]
    },
    {
     "name": "stdout",
     "output_type": "stream",
     "text": [
      "\r",
      "[############################            ] | 72% Completed | 22.3s"
     ]
    },
    {
     "name": "stdout",
     "output_type": "stream",
     "text": [
      "\r",
      "[#############################           ] | 72% Completed | 22.4s"
     ]
    },
    {
     "name": "stdout",
     "output_type": "stream",
     "text": [
      "\r",
      "[#############################           ] | 72% Completed | 22.5s"
     ]
    },
    {
     "name": "stdout",
     "output_type": "stream",
     "text": [
      "\r",
      "[#############################           ] | 72% Completed | 22.6s"
     ]
    },
    {
     "name": "stdout",
     "output_type": "stream",
     "text": [
      "\r",
      "[#############################           ] | 72% Completed | 22.7s"
     ]
    },
    {
     "name": "stdout",
     "output_type": "stream",
     "text": [
      "\r",
      "[#############################           ] | 72% Completed | 22.8s"
     ]
    },
    {
     "name": "stdout",
     "output_type": "stream",
     "text": [
      "\r",
      "[#############################           ] | 72% Completed | 22.9s"
     ]
    },
    {
     "name": "stdout",
     "output_type": "stream",
     "text": [
      "\r",
      "[#############################           ] | 72% Completed | 23.0s"
     ]
    },
    {
     "name": "stdout",
     "output_type": "stream",
     "text": [
      "\r",
      "[#############################           ] | 72% Completed | 23.1s"
     ]
    },
    {
     "name": "stdout",
     "output_type": "stream",
     "text": [
      "\r",
      "[#############################           ] | 72% Completed | 23.2s"
     ]
    },
    {
     "name": "stdout",
     "output_type": "stream",
     "text": [
      "\r",
      "[#############################           ] | 73% Completed | 23.4s"
     ]
    },
    {
     "name": "stdout",
     "output_type": "stream",
     "text": [
      "\r",
      "[#############################           ] | 73% Completed | 23.5s"
     ]
    },
    {
     "name": "stdout",
     "output_type": "stream",
     "text": [
      "\r",
      "[#############################           ] | 73% Completed | 23.6s"
     ]
    },
    {
     "name": "stdout",
     "output_type": "stream",
     "text": [
      "\r",
      "[#############################           ] | 73% Completed | 23.7s"
     ]
    },
    {
     "name": "stdout",
     "output_type": "stream",
     "text": [
      "\r",
      "[#############################           ] | 73% Completed | 23.8s"
     ]
    },
    {
     "name": "stdout",
     "output_type": "stream",
     "text": [
      "\r",
      "[#############################           ] | 73% Completed | 23.9s"
     ]
    },
    {
     "name": "stdout",
     "output_type": "stream",
     "text": [
      "\r",
      "[#############################           ] | 73% Completed | 24.0s"
     ]
    },
    {
     "name": "stdout",
     "output_type": "stream",
     "text": [
      "\r",
      "[#############################           ] | 73% Completed | 24.1s"
     ]
    },
    {
     "name": "stdout",
     "output_type": "stream",
     "text": [
      "\r",
      "[#############################           ] | 73% Completed | 24.2s"
     ]
    },
    {
     "name": "stdout",
     "output_type": "stream",
     "text": [
      "\r",
      "[#############################           ] | 73% Completed | 24.3s"
     ]
    },
    {
     "name": "stdout",
     "output_type": "stream",
     "text": [
      "\r",
      "[#############################           ] | 73% Completed | 24.4s"
     ]
    },
    {
     "name": "stdout",
     "output_type": "stream",
     "text": [
      "\r",
      "[#############################           ] | 73% Completed | 24.6s"
     ]
    },
    {
     "name": "stdout",
     "output_type": "stream",
     "text": [
      "\r",
      "[#############################           ] | 73% Completed | 24.7s"
     ]
    },
    {
     "name": "stdout",
     "output_type": "stream",
     "text": [
      "\r",
      "[#############################           ] | 74% Completed | 24.8s"
     ]
    },
    {
     "name": "stdout",
     "output_type": "stream",
     "text": [
      "\r",
      "[#############################           ] | 74% Completed | 24.9s"
     ]
    },
    {
     "name": "stdout",
     "output_type": "stream",
     "text": [
      "\r",
      "[#############################           ] | 74% Completed | 25.0s"
     ]
    },
    {
     "name": "stdout",
     "output_type": "stream",
     "text": [
      "\r",
      "[#############################           ] | 74% Completed | 25.1s"
     ]
    },
    {
     "name": "stdout",
     "output_type": "stream",
     "text": [
      "\r",
      "[#############################           ] | 74% Completed | 25.2s"
     ]
    },
    {
     "name": "stdout",
     "output_type": "stream",
     "text": [
      "\r",
      "[#############################           ] | 74% Completed | 25.3s"
     ]
    },
    {
     "name": "stdout",
     "output_type": "stream",
     "text": [
      "\r",
      "[#############################           ] | 74% Completed | 25.4s"
     ]
    },
    {
     "name": "stdout",
     "output_type": "stream",
     "text": [
      "\r",
      "[#############################           ] | 74% Completed | 25.5s"
     ]
    },
    {
     "name": "stdout",
     "output_type": "stream",
     "text": [
      "\r",
      "[#############################           ] | 74% Completed | 25.6s"
     ]
    },
    {
     "name": "stdout",
     "output_type": "stream",
     "text": [
      "\r",
      "[#############################           ] | 74% Completed | 25.7s"
     ]
    },
    {
     "name": "stdout",
     "output_type": "stream",
     "text": [
      "\r",
      "[#############################           ] | 74% Completed | 25.8s"
     ]
    },
    {
     "name": "stdout",
     "output_type": "stream",
     "text": [
      "\r",
      "[#############################           ] | 74% Completed | 25.9s"
     ]
    },
    {
     "name": "stdout",
     "output_type": "stream",
     "text": [
      "\r",
      "[#############################           ] | 74% Completed | 26.0s"
     ]
    },
    {
     "name": "stdout",
     "output_type": "stream",
     "text": [
      "\r",
      "[##############################          ] | 75% Completed | 26.2s"
     ]
    },
    {
     "name": "stdout",
     "output_type": "stream",
     "text": [
      "\r",
      "[##############################          ] | 75% Completed | 26.3s"
     ]
    },
    {
     "name": "stdout",
     "output_type": "stream",
     "text": [
      "\r",
      "[##############################          ] | 75% Completed | 26.4s"
     ]
    },
    {
     "name": "stdout",
     "output_type": "stream",
     "text": [
      "\r",
      "[##############################          ] | 75% Completed | 26.5s"
     ]
    },
    {
     "name": "stdout",
     "output_type": "stream",
     "text": [
      "\r",
      "[##############################          ] | 75% Completed | 26.6s"
     ]
    },
    {
     "name": "stdout",
     "output_type": "stream",
     "text": [
      "\r",
      "[##############################          ] | 75% Completed | 26.7s"
     ]
    },
    {
     "name": "stdout",
     "output_type": "stream",
     "text": [
      "\r",
      "[##############################          ] | 75% Completed | 26.9s"
     ]
    },
    {
     "name": "stdout",
     "output_type": "stream",
     "text": [
      "\r",
      "[##############################          ] | 75% Completed | 27.0s"
     ]
    },
    {
     "name": "stdout",
     "output_type": "stream",
     "text": [
      "\r",
      "[##############################          ] | 75% Completed | 27.1s"
     ]
    },
    {
     "name": "stdout",
     "output_type": "stream",
     "text": [
      "\r",
      "[##############################          ] | 75% Completed | 27.2s"
     ]
    },
    {
     "name": "stdout",
     "output_type": "stream",
     "text": [
      "\r",
      "[##############################          ] | 75% Completed | 27.3s"
     ]
    },
    {
     "name": "stdout",
     "output_type": "stream",
     "text": [
      "\r",
      "[##############################          ] | 75% Completed | 27.4s"
     ]
    },
    {
     "name": "stdout",
     "output_type": "stream",
     "text": [
      "\r",
      "[##############################          ] | 75% Completed | 27.5s"
     ]
    },
    {
     "name": "stdout",
     "output_type": "stream",
     "text": [
      "\r",
      "[##############################          ] | 75% Completed | 27.6s"
     ]
    },
    {
     "name": "stdout",
     "output_type": "stream",
     "text": [
      "\r",
      "[##############################          ] | 75% Completed | 27.7s"
     ]
    },
    {
     "name": "stdout",
     "output_type": "stream",
     "text": [
      "\r",
      "[##############################          ] | 75% Completed | 27.8s"
     ]
    },
    {
     "name": "stdout",
     "output_type": "stream",
     "text": [
      "\r",
      "[##############################          ] | 76% Completed | 27.9s"
     ]
    },
    {
     "name": "stdout",
     "output_type": "stream",
     "text": [
      "\r",
      "[##############################          ] | 76% Completed | 28.1s"
     ]
    },
    {
     "name": "stdout",
     "output_type": "stream",
     "text": [
      "\r",
      "[##############################          ] | 76% Completed | 28.2s"
     ]
    },
    {
     "name": "stdout",
     "output_type": "stream",
     "text": [
      "\r",
      "[##############################          ] | 76% Completed | 28.3s"
     ]
    },
    {
     "name": "stdout",
     "output_type": "stream",
     "text": [
      "\r",
      "[##############################          ] | 76% Completed | 28.4s"
     ]
    },
    {
     "name": "stdout",
     "output_type": "stream",
     "text": [
      "\r",
      "[##############################          ] | 76% Completed | 28.6s"
     ]
    },
    {
     "name": "stdout",
     "output_type": "stream",
     "text": [
      "\r",
      "[##############################          ] | 76% Completed | 28.7s"
     ]
    },
    {
     "name": "stdout",
     "output_type": "stream",
     "text": [
      "\r",
      "[##############################          ] | 76% Completed | 28.8s"
     ]
    },
    {
     "name": "stdout",
     "output_type": "stream",
     "text": [
      "\r",
      "[##############################          ] | 76% Completed | 28.9s"
     ]
    },
    {
     "name": "stdout",
     "output_type": "stream",
     "text": [
      "\r",
      "[##############################          ] | 76% Completed | 29.0s"
     ]
    },
    {
     "name": "stdout",
     "output_type": "stream",
     "text": [
      "\r",
      "[##############################          ] | 76% Completed | 29.1s"
     ]
    },
    {
     "name": "stdout",
     "output_type": "stream",
     "text": [
      "\r",
      "[##############################          ] | 76% Completed | 29.2s"
     ]
    },
    {
     "name": "stdout",
     "output_type": "stream",
     "text": [
      "\r",
      "[##############################          ] | 76% Completed | 29.3s"
     ]
    },
    {
     "name": "stdout",
     "output_type": "stream",
     "text": [
      "\r",
      "[##############################          ] | 76% Completed | 29.4s"
     ]
    },
    {
     "name": "stdout",
     "output_type": "stream",
     "text": [
      "\r",
      "[##############################          ] | 77% Completed | 29.6s"
     ]
    },
    {
     "name": "stdout",
     "output_type": "stream",
     "text": [
      "\r",
      "[##############################          ] | 77% Completed | 29.7s"
     ]
    },
    {
     "name": "stdout",
     "output_type": "stream",
     "text": [
      "\r",
      "[##############################          ] | 77% Completed | 29.8s"
     ]
    },
    {
     "name": "stdout",
     "output_type": "stream",
     "text": [
      "\r",
      "[##############################          ] | 77% Completed | 29.9s"
     ]
    },
    {
     "name": "stdout",
     "output_type": "stream",
     "text": [
      "\r",
      "[##############################          ] | 77% Completed | 30.0s"
     ]
    },
    {
     "name": "stdout",
     "output_type": "stream",
     "text": [
      "\r",
      "[##############################          ] | 77% Completed | 30.1s"
     ]
    },
    {
     "name": "stdout",
     "output_type": "stream",
     "text": [
      "\r",
      "[##############################          ] | 77% Completed | 30.2s"
     ]
    },
    {
     "name": "stdout",
     "output_type": "stream",
     "text": [
      "\r",
      "[##############################          ] | 77% Completed | 30.3s"
     ]
    },
    {
     "name": "stdout",
     "output_type": "stream",
     "text": [
      "\r",
      "[##############################          ] | 77% Completed | 30.5s"
     ]
    },
    {
     "name": "stdout",
     "output_type": "stream",
     "text": [
      "\r",
      "[##############################          ] | 77% Completed | 30.6s"
     ]
    },
    {
     "name": "stdout",
     "output_type": "stream",
     "text": [
      "\r",
      "[##############################          ] | 77% Completed | 30.7s"
     ]
    },
    {
     "name": "stdout",
     "output_type": "stream",
     "text": [
      "\r",
      "[###############################         ] | 77% Completed | 30.8s"
     ]
    },
    {
     "name": "stdout",
     "output_type": "stream",
     "text": [
      "\r",
      "[###############################         ] | 77% Completed | 30.9s"
     ]
    },
    {
     "name": "stdout",
     "output_type": "stream",
     "text": [
      "\r",
      "[###############################         ] | 77% Completed | 31.0s"
     ]
    },
    {
     "name": "stdout",
     "output_type": "stream",
     "text": [
      "\r",
      "[###############################         ] | 77% Completed | 31.1s"
     ]
    },
    {
     "name": "stdout",
     "output_type": "stream",
     "text": [
      "\r",
      "[###############################         ] | 77% Completed | 31.2s"
     ]
    },
    {
     "name": "stdout",
     "output_type": "stream",
     "text": [
      "\r",
      "[###############################         ] | 77% Completed | 31.3s"
     ]
    },
    {
     "name": "stdout",
     "output_type": "stream",
     "text": [
      "\r",
      "[###############################         ] | 77% Completed | 31.4s"
     ]
    },
    {
     "name": "stdout",
     "output_type": "stream",
     "text": [
      "\r",
      "[###############################         ] | 77% Completed | 31.6s"
     ]
    },
    {
     "name": "stdout",
     "output_type": "stream",
     "text": [
      "\r",
      "[###############################         ] | 77% Completed | 31.7s"
     ]
    },
    {
     "name": "stdout",
     "output_type": "stream",
     "text": [
      "\r",
      "[###############################         ] | 78% Completed | 31.8s"
     ]
    },
    {
     "name": "stdout",
     "output_type": "stream",
     "text": [
      "\r",
      "[###############################         ] | 78% Completed | 31.9s"
     ]
    },
    {
     "name": "stdout",
     "output_type": "stream",
     "text": [
      "\r",
      "[###############################         ] | 78% Completed | 32.0s"
     ]
    },
    {
     "name": "stdout",
     "output_type": "stream",
     "text": [
      "\r",
      "[###############################         ] | 78% Completed | 32.1s"
     ]
    },
    {
     "name": "stdout",
     "output_type": "stream",
     "text": [
      "\r",
      "[###############################         ] | 78% Completed | 32.3s"
     ]
    },
    {
     "name": "stdout",
     "output_type": "stream",
     "text": [
      "\r",
      "[###############################         ] | 78% Completed | 32.4s"
     ]
    },
    {
     "name": "stdout",
     "output_type": "stream",
     "text": [
      "\r",
      "[###############################         ] | 78% Completed | 32.5s"
     ]
    },
    {
     "name": "stdout",
     "output_type": "stream",
     "text": [
      "\r",
      "[###############################         ] | 78% Completed | 32.6s"
     ]
    },
    {
     "name": "stdout",
     "output_type": "stream",
     "text": [
      "\r",
      "[###############################         ] | 78% Completed | 32.7s"
     ]
    },
    {
     "name": "stdout",
     "output_type": "stream",
     "text": [
      "\r",
      "[###############################         ] | 79% Completed | 32.8s"
     ]
    },
    {
     "name": "stdout",
     "output_type": "stream",
     "text": [
      "\r",
      "[###############################         ] | 79% Completed | 33.0s"
     ]
    },
    {
     "name": "stdout",
     "output_type": "stream",
     "text": [
      "\r",
      "[###############################         ] | 79% Completed | 33.1s"
     ]
    },
    {
     "name": "stdout",
     "output_type": "stream",
     "text": [
      "\r",
      "[###############################         ] | 79% Completed | 33.2s"
     ]
    },
    {
     "name": "stdout",
     "output_type": "stream",
     "text": [
      "\r",
      "[###############################         ] | 79% Completed | 33.3s"
     ]
    },
    {
     "name": "stdout",
     "output_type": "stream",
     "text": [
      "\r",
      "[###############################         ] | 79% Completed | 33.5s"
     ]
    },
    {
     "name": "stdout",
     "output_type": "stream",
     "text": [
      "\r",
      "[###############################         ] | 79% Completed | 33.6s"
     ]
    },
    {
     "name": "stdout",
     "output_type": "stream",
     "text": [
      "\r",
      "[###############################         ] | 79% Completed | 33.7s"
     ]
    },
    {
     "name": "stdout",
     "output_type": "stream",
     "text": [
      "\r",
      "[###############################         ] | 79% Completed | 33.9s"
     ]
    },
    {
     "name": "stdout",
     "output_type": "stream",
     "text": [
      "\r",
      "[###############################         ] | 79% Completed | 34.0s"
     ]
    },
    {
     "name": "stdout",
     "output_type": "stream",
     "text": [
      "\r",
      "[###############################         ] | 79% Completed | 34.1s"
     ]
    },
    {
     "name": "stdout",
     "output_type": "stream",
     "text": [
      "\r",
      "[################################        ] | 80% Completed | 34.2s"
     ]
    },
    {
     "name": "stdout",
     "output_type": "stream",
     "text": [
      "\r",
      "[################################        ] | 80% Completed | 34.3s"
     ]
    },
    {
     "name": "stdout",
     "output_type": "stream",
     "text": [
      "\r",
      "[################################        ] | 81% Completed | 34.4s"
     ]
    },
    {
     "name": "stdout",
     "output_type": "stream",
     "text": [
      "\r",
      "[################################        ] | 81% Completed | 34.5s"
     ]
    },
    {
     "name": "stdout",
     "output_type": "stream",
     "text": [
      "\r",
      "[################################        ] | 81% Completed | 34.6s"
     ]
    },
    {
     "name": "stdout",
     "output_type": "stream",
     "text": [
      "\r",
      "[################################        ] | 81% Completed | 34.7s"
     ]
    },
    {
     "name": "stdout",
     "output_type": "stream",
     "text": [
      "\r",
      "[################################        ] | 81% Completed | 34.8s"
     ]
    },
    {
     "name": "stdout",
     "output_type": "stream",
     "text": [
      "\r",
      "[################################        ] | 81% Completed | 35.0s"
     ]
    },
    {
     "name": "stdout",
     "output_type": "stream",
     "text": [
      "\r",
      "[################################        ] | 82% Completed | 35.1s"
     ]
    },
    {
     "name": "stdout",
     "output_type": "stream",
     "text": [
      "\r",
      "[################################        ] | 82% Completed | 35.2s"
     ]
    },
    {
     "name": "stdout",
     "output_type": "stream",
     "text": [
      "\r",
      "[#################################       ] | 82% Completed | 35.3s"
     ]
    },
    {
     "name": "stdout",
     "output_type": "stream",
     "text": [
      "\r",
      "[#################################       ] | 82% Completed | 35.4s"
     ]
    },
    {
     "name": "stdout",
     "output_type": "stream",
     "text": [
      "\r",
      "[#################################       ] | 82% Completed | 35.5s"
     ]
    },
    {
     "name": "stdout",
     "output_type": "stream",
     "text": [
      "\r",
      "[#################################       ] | 82% Completed | 35.7s"
     ]
    },
    {
     "name": "stdout",
     "output_type": "stream",
     "text": [
      "\r",
      "[#################################       ] | 83% Completed | 35.8s"
     ]
    },
    {
     "name": "stdout",
     "output_type": "stream",
     "text": [
      "\r",
      "[#################################       ] | 83% Completed | 35.9s"
     ]
    },
    {
     "name": "stdout",
     "output_type": "stream",
     "text": [
      "\r",
      "[#################################       ] | 83% Completed | 36.0s"
     ]
    },
    {
     "name": "stdout",
     "output_type": "stream",
     "text": [
      "\r",
      "[#################################       ] | 83% Completed | 36.1s"
     ]
    },
    {
     "name": "stdout",
     "output_type": "stream",
     "text": [
      "\r",
      "[#################################       ] | 83% Completed | 36.2s"
     ]
    },
    {
     "name": "stdout",
     "output_type": "stream",
     "text": [
      "\r",
      "[#################################       ] | 83% Completed | 36.4s"
     ]
    },
    {
     "name": "stdout",
     "output_type": "stream",
     "text": [
      "\r",
      "[#################################       ] | 83% Completed | 36.5s"
     ]
    },
    {
     "name": "stdout",
     "output_type": "stream",
     "text": [
      "\r",
      "[#################################       ] | 84% Completed | 36.6s"
     ]
    },
    {
     "name": "stdout",
     "output_type": "stream",
     "text": [
      "\r",
      "[##################################      ] | 85% Completed | 36.7s"
     ]
    },
    {
     "name": "stdout",
     "output_type": "stream",
     "text": [
      "\r",
      "[##################################      ] | 86% Completed | 36.8s"
     ]
    },
    {
     "name": "stdout",
     "output_type": "stream",
     "text": [
      "\r",
      "[##################################      ] | 86% Completed | 36.9s"
     ]
    },
    {
     "name": "stdout",
     "output_type": "stream",
     "text": [
      "\r",
      "[##################################      ] | 87% Completed | 37.0s"
     ]
    },
    {
     "name": "stdout",
     "output_type": "stream",
     "text": [
      "\r",
      "[###################################     ] | 87% Completed | 37.1s"
     ]
    },
    {
     "name": "stdout",
     "output_type": "stream",
     "text": [
      "\r",
      "[###################################     ] | 88% Completed | 37.2s"
     ]
    },
    {
     "name": "stdout",
     "output_type": "stream",
     "text": [
      "\r",
      "[####################################    ] | 90% Completed | 37.3s"
     ]
    },
    {
     "name": "stdout",
     "output_type": "stream",
     "text": [
      "\r",
      "[####################################    ] | 90% Completed | 37.4s"
     ]
    },
    {
     "name": "stdout",
     "output_type": "stream",
     "text": [
      "\r",
      "[####################################    ] | 90% Completed | 37.6s"
     ]
    },
    {
     "name": "stdout",
     "output_type": "stream",
     "text": [
      "\r",
      "[####################################    ] | 91% Completed | 37.7s"
     ]
    },
    {
     "name": "stdout",
     "output_type": "stream",
     "text": [
      "\r",
      "[####################################    ] | 91% Completed | 37.8s"
     ]
    },
    {
     "name": "stdout",
     "output_type": "stream",
     "text": [
      "\r",
      "[####################################    ] | 91% Completed | 37.9s"
     ]
    },
    {
     "name": "stdout",
     "output_type": "stream",
     "text": [
      "\r",
      "[####################################    ] | 92% Completed | 38.0s"
     ]
    },
    {
     "name": "stdout",
     "output_type": "stream",
     "text": [
      "\r",
      "[#####################################   ] | 92% Completed | 38.1s"
     ]
    },
    {
     "name": "stdout",
     "output_type": "stream",
     "text": [
      "\r",
      "[#####################################   ] | 93% Completed | 38.2s"
     ]
    },
    {
     "name": "stdout",
     "output_type": "stream",
     "text": [
      "\r",
      "[#####################################   ] | 93% Completed | 38.3s"
     ]
    },
    {
     "name": "stdout",
     "output_type": "stream",
     "text": [
      "\r",
      "[#####################################   ] | 94% Completed | 38.4s"
     ]
    },
    {
     "name": "stdout",
     "output_type": "stream",
     "text": [
      "\r",
      "[#####################################   ] | 94% Completed | 38.6s"
     ]
    },
    {
     "name": "stdout",
     "output_type": "stream",
     "text": [
      "\r",
      "[#####################################   ] | 94% Completed | 38.7s"
     ]
    },
    {
     "name": "stdout",
     "output_type": "stream",
     "text": [
      "\r",
      "[#####################################   ] | 94% Completed | 38.8s"
     ]
    },
    {
     "name": "stdout",
     "output_type": "stream",
     "text": [
      "\r",
      "[#####################################   ] | 94% Completed | 38.9s"
     ]
    },
    {
     "name": "stdout",
     "output_type": "stream",
     "text": [
      "\r",
      "[#####################################   ] | 94% Completed | 39.0s"
     ]
    },
    {
     "name": "stdout",
     "output_type": "stream",
     "text": [
      "\r",
      "[#####################################   ] | 94% Completed | 39.1s"
     ]
    },
    {
     "name": "stdout",
     "output_type": "stream",
     "text": [
      "\r",
      "[######################################  ] | 95% Completed | 39.2s"
     ]
    },
    {
     "name": "stdout",
     "output_type": "stream",
     "text": [
      "\r",
      "[######################################  ] | 95% Completed | 39.3s"
     ]
    },
    {
     "name": "stdout",
     "output_type": "stream",
     "text": [
      "\r",
      "[######################################  ] | 95% Completed | 39.4s"
     ]
    },
    {
     "name": "stdout",
     "output_type": "stream",
     "text": [
      "\r",
      "[######################################  ] | 95% Completed | 39.5s"
     ]
    },
    {
     "name": "stdout",
     "output_type": "stream",
     "text": [
      "\r",
      "[######################################  ] | 95% Completed | 39.6s"
     ]
    },
    {
     "name": "stdout",
     "output_type": "stream",
     "text": [
      "\r",
      "[######################################  ] | 95% Completed | 39.7s"
     ]
    },
    {
     "name": "stdout",
     "output_type": "stream",
     "text": [
      "\r",
      "[######################################  ] | 95% Completed | 39.8s"
     ]
    },
    {
     "name": "stdout",
     "output_type": "stream",
     "text": [
      "\r",
      "[######################################  ] | 95% Completed | 39.9s"
     ]
    },
    {
     "name": "stdout",
     "output_type": "stream",
     "text": [
      "\r",
      "[######################################  ] | 95% Completed | 40.0s"
     ]
    },
    {
     "name": "stdout",
     "output_type": "stream",
     "text": [
      "\r",
      "[######################################  ] | 95% Completed | 40.1s"
     ]
    },
    {
     "name": "stdout",
     "output_type": "stream",
     "text": [
      "\r",
      "[######################################  ] | 95% Completed | 40.2s"
     ]
    },
    {
     "name": "stdout",
     "output_type": "stream",
     "text": [
      "\r",
      "[######################################  ] | 95% Completed | 40.3s"
     ]
    },
    {
     "name": "stdout",
     "output_type": "stream",
     "text": [
      "\r",
      "[######################################  ] | 95% Completed | 40.5s"
     ]
    },
    {
     "name": "stdout",
     "output_type": "stream",
     "text": [
      "\r",
      "[######################################  ] | 96% Completed | 40.6s"
     ]
    },
    {
     "name": "stdout",
     "output_type": "stream",
     "text": [
      "\r",
      "[######################################  ] | 96% Completed | 40.7s"
     ]
    },
    {
     "name": "stdout",
     "output_type": "stream",
     "text": [
      "\r",
      "[######################################  ] | 96% Completed | 40.8s"
     ]
    },
    {
     "name": "stdout",
     "output_type": "stream",
     "text": [
      "\r",
      "[######################################  ] | 96% Completed | 40.9s"
     ]
    },
    {
     "name": "stdout",
     "output_type": "stream",
     "text": [
      "\r",
      "[######################################  ] | 96% Completed | 41.0s"
     ]
    },
    {
     "name": "stdout",
     "output_type": "stream",
     "text": [
      "\r",
      "[######################################  ] | 96% Completed | 41.1s"
     ]
    },
    {
     "name": "stdout",
     "output_type": "stream",
     "text": [
      "\r",
      "[######################################  ] | 96% Completed | 41.2s"
     ]
    },
    {
     "name": "stdout",
     "output_type": "stream",
     "text": [
      "\r",
      "[######################################  ] | 97% Completed | 41.3s"
     ]
    },
    {
     "name": "stdout",
     "output_type": "stream",
     "text": [
      "\r",
      "[######################################  ] | 97% Completed | 41.4s"
     ]
    },
    {
     "name": "stdout",
     "output_type": "stream",
     "text": [
      "\r",
      "[######################################  ] | 97% Completed | 41.5s"
     ]
    },
    {
     "name": "stdout",
     "output_type": "stream",
     "text": [
      "\r",
      "[####################################### ] | 97% Completed | 41.6s"
     ]
    },
    {
     "name": "stdout",
     "output_type": "stream",
     "text": [
      "\r",
      "[####################################### ] | 97% Completed | 41.7s"
     ]
    },
    {
     "name": "stdout",
     "output_type": "stream",
     "text": [
      "\r",
      "[####################################### ] | 98% Completed | 41.9s"
     ]
    },
    {
     "name": "stdout",
     "output_type": "stream",
     "text": [
      "\r",
      "[####################################### ] | 98% Completed | 42.0s"
     ]
    },
    {
     "name": "stdout",
     "output_type": "stream",
     "text": [
      "\r",
      "[####################################### ] | 98% Completed | 42.1s"
     ]
    },
    {
     "name": "stdout",
     "output_type": "stream",
     "text": [
      "\r",
      "[####################################### ] | 99% Completed | 42.2s"
     ]
    },
    {
     "name": "stdout",
     "output_type": "stream",
     "text": [
      "\r",
      "[####################################### ] | 99% Completed | 42.3s"
     ]
    },
    {
     "name": "stdout",
     "output_type": "stream",
     "text": [
      "\r",
      "[########################################] | 100% Completed | 42.4s"
     ]
    },
    {
     "name": "stdout",
     "output_type": "stream",
     "text": [
      "\n"
     ]
    }
   ],
   "source": [
    "dset, domain = geo.mask_dataset(dset, shape, coastline_buffer=15)"
   ]
  },
  {
   "cell_type": "code",
   "execution_count": 54,
   "id": "d51721f8-6ca3-49b0-89a6-c41d080d32b6",
   "metadata": {
    "execution": {
     "iopub.execute_input": "2021-08-20T05:17:34.708627Z",
     "iopub.status.busy": "2021-08-20T05:17:34.708294Z",
     "iopub.status.idle": "2021-08-20T05:17:34.770584Z",
     "shell.execute_reply": "2021-08-20T05:17:34.770260Z"
    },
    "papermill": {
     "duration": 0.181559,
     "end_time": "2021-08-20T05:17:34.770674",
     "exception": false,
     "start_time": "2021-08-20T05:17:34.589115",
     "status": "completed"
    },
    "tags": []
   },
   "outputs": [
    {
     "data": {
      "text/html": [
       "<div><svg style=\"position: absolute; width: 0; height: 0; overflow: hidden\">\n",
       "<defs>\n",
       "<symbol id=\"icon-database\" viewBox=\"0 0 32 32\">\n",
       "<path d=\"M16 0c-8.837 0-16 2.239-16 5v4c0 2.761 7.163 5 16 5s16-2.239 16-5v-4c0-2.761-7.163-5-16-5z\"></path>\n",
       "<path d=\"M16 17c-8.837 0-16-2.239-16-5v6c0 2.761 7.163 5 16 5s16-2.239 16-5v-6c0 2.761-7.163 5-16 5z\"></path>\n",
       "<path d=\"M16 26c-8.837 0-16-2.239-16-5v6c0 2.761 7.163 5 16 5s16-2.239 16-5v-6c0 2.761-7.163 5-16 5z\"></path>\n",
       "</symbol>\n",
       "<symbol id=\"icon-file-text2\" viewBox=\"0 0 32 32\">\n",
       "<path d=\"M28.681 7.159c-0.694-0.947-1.662-2.053-2.724-3.116s-2.169-2.030-3.116-2.724c-1.612-1.182-2.393-1.319-2.841-1.319h-15.5c-1.378 0-2.5 1.121-2.5 2.5v27c0 1.378 1.122 2.5 2.5 2.5h23c1.378 0 2.5-1.122 2.5-2.5v-19.5c0-0.448-0.137-1.23-1.319-2.841zM24.543 5.457c0.959 0.959 1.712 1.825 2.268 2.543h-4.811v-4.811c0.718 0.556 1.584 1.309 2.543 2.268zM28 29.5c0 0.271-0.229 0.5-0.5 0.5h-23c-0.271 0-0.5-0.229-0.5-0.5v-27c0-0.271 0.229-0.5 0.5-0.5 0 0 15.499-0 15.5 0v7c0 0.552 0.448 1 1 1h7v19.5z\"></path>\n",
       "<path d=\"M23 26h-14c-0.552 0-1-0.448-1-1s0.448-1 1-1h14c0.552 0 1 0.448 1 1s-0.448 1-1 1z\"></path>\n",
       "<path d=\"M23 22h-14c-0.552 0-1-0.448-1-1s0.448-1 1-1h14c0.552 0 1 0.448 1 1s-0.448 1-1 1z\"></path>\n",
       "<path d=\"M23 18h-14c-0.552 0-1-0.448-1-1s0.448-1 1-1h14c0.552 0 1 0.448 1 1s-0.448 1-1 1z\"></path>\n",
       "</symbol>\n",
       "</defs>\n",
       "</svg>\n",
       "<style>/* CSS stylesheet for displaying xarray objects in jupyterlab.\n",
       " *\n",
       " */\n",
       "\n",
       ":root {\n",
       "  --xr-font-color0: var(--jp-content-font-color0, rgba(0, 0, 0, 1));\n",
       "  --xr-font-color2: var(--jp-content-font-color2, rgba(0, 0, 0, 0.54));\n",
       "  --xr-font-color3: var(--jp-content-font-color3, rgba(0, 0, 0, 0.38));\n",
       "  --xr-border-color: var(--jp-border-color2, #e0e0e0);\n",
       "  --xr-disabled-color: var(--jp-layout-color3, #bdbdbd);\n",
       "  --xr-background-color: var(--jp-layout-color0, white);\n",
       "  --xr-background-color-row-even: var(--jp-layout-color1, white);\n",
       "  --xr-background-color-row-odd: var(--jp-layout-color2, #eeeeee);\n",
       "}\n",
       "\n",
       "html[theme=dark],\n",
       "body.vscode-dark {\n",
       "  --xr-font-color0: rgba(255, 255, 255, 1);\n",
       "  --xr-font-color2: rgba(255, 255, 255, 0.54);\n",
       "  --xr-font-color3: rgba(255, 255, 255, 0.38);\n",
       "  --xr-border-color: #1F1F1F;\n",
       "  --xr-disabled-color: #515151;\n",
       "  --xr-background-color: #111111;\n",
       "  --xr-background-color-row-even: #111111;\n",
       "  --xr-background-color-row-odd: #313131;\n",
       "}\n",
       "\n",
       ".xr-wrap {\n",
       "  display: block;\n",
       "  min-width: 300px;\n",
       "  max-width: 700px;\n",
       "}\n",
       "\n",
       ".xr-text-repr-fallback {\n",
       "  /* fallback to plain text repr when CSS is not injected (untrusted notebook) */\n",
       "  display: none;\n",
       "}\n",
       "\n",
       ".xr-header {\n",
       "  padding-top: 6px;\n",
       "  padding-bottom: 6px;\n",
       "  margin-bottom: 4px;\n",
       "  border-bottom: solid 1px var(--xr-border-color);\n",
       "}\n",
       "\n",
       ".xr-header > div,\n",
       ".xr-header > ul {\n",
       "  display: inline;\n",
       "  margin-top: 0;\n",
       "  margin-bottom: 0;\n",
       "}\n",
       "\n",
       ".xr-obj-type,\n",
       ".xr-array-name {\n",
       "  margin-left: 2px;\n",
       "  margin-right: 10px;\n",
       "}\n",
       "\n",
       ".xr-obj-type {\n",
       "  color: var(--xr-font-color2);\n",
       "}\n",
       "\n",
       ".xr-sections {\n",
       "  padding-left: 0 !important;\n",
       "  display: grid;\n",
       "  grid-template-columns: 150px auto auto 1fr 20px 20px;\n",
       "}\n",
       "\n",
       ".xr-section-item {\n",
       "  display: contents;\n",
       "}\n",
       "\n",
       ".xr-section-item input {\n",
       "  display: none;\n",
       "}\n",
       "\n",
       ".xr-section-item input + label {\n",
       "  color: var(--xr-disabled-color);\n",
       "}\n",
       "\n",
       ".xr-section-item input:enabled + label {\n",
       "  cursor: pointer;\n",
       "  color: var(--xr-font-color2);\n",
       "}\n",
       "\n",
       ".xr-section-item input:enabled + label:hover {\n",
       "  color: var(--xr-font-color0);\n",
       "}\n",
       "\n",
       ".xr-section-summary {\n",
       "  grid-column: 1;\n",
       "  color: var(--xr-font-color2);\n",
       "  font-weight: 500;\n",
       "}\n",
       "\n",
       ".xr-section-summary > span {\n",
       "  display: inline-block;\n",
       "  padding-left: 0.5em;\n",
       "}\n",
       "\n",
       ".xr-section-summary-in:disabled + label {\n",
       "  color: var(--xr-font-color2);\n",
       "}\n",
       "\n",
       ".xr-section-summary-in + label:before {\n",
       "  display: inline-block;\n",
       "  content: '►';\n",
       "  font-size: 11px;\n",
       "  width: 15px;\n",
       "  text-align: center;\n",
       "}\n",
       "\n",
       ".xr-section-summary-in:disabled + label:before {\n",
       "  color: var(--xr-disabled-color);\n",
       "}\n",
       "\n",
       ".xr-section-summary-in:checked + label:before {\n",
       "  content: '▼';\n",
       "}\n",
       "\n",
       ".xr-section-summary-in:checked + label > span {\n",
       "  display: none;\n",
       "}\n",
       "\n",
       ".xr-section-summary,\n",
       ".xr-section-inline-details {\n",
       "  padding-top: 4px;\n",
       "  padding-bottom: 4px;\n",
       "}\n",
       "\n",
       ".xr-section-inline-details {\n",
       "  grid-column: 2 / -1;\n",
       "}\n",
       "\n",
       ".xr-section-details {\n",
       "  display: none;\n",
       "  grid-column: 1 / -1;\n",
       "  margin-bottom: 5px;\n",
       "}\n",
       "\n",
       ".xr-section-summary-in:checked ~ .xr-section-details {\n",
       "  display: contents;\n",
       "}\n",
       "\n",
       ".xr-array-wrap {\n",
       "  grid-column: 1 / -1;\n",
       "  display: grid;\n",
       "  grid-template-columns: 20px auto;\n",
       "}\n",
       "\n",
       ".xr-array-wrap > label {\n",
       "  grid-column: 1;\n",
       "  vertical-align: top;\n",
       "}\n",
       "\n",
       ".xr-preview {\n",
       "  color: var(--xr-font-color3);\n",
       "}\n",
       "\n",
       ".xr-array-preview,\n",
       ".xr-array-data {\n",
       "  padding: 0 5px !important;\n",
       "  grid-column: 2;\n",
       "}\n",
       "\n",
       ".xr-array-data,\n",
       ".xr-array-in:checked ~ .xr-array-preview {\n",
       "  display: none;\n",
       "}\n",
       "\n",
       ".xr-array-in:checked ~ .xr-array-data,\n",
       ".xr-array-preview {\n",
       "  display: inline-block;\n",
       "}\n",
       "\n",
       ".xr-dim-list {\n",
       "  display: inline-block !important;\n",
       "  list-style: none;\n",
       "  padding: 0 !important;\n",
       "  margin: 0;\n",
       "}\n",
       "\n",
       ".xr-dim-list li {\n",
       "  display: inline-block;\n",
       "  padding: 0;\n",
       "  margin: 0;\n",
       "}\n",
       "\n",
       ".xr-dim-list:before {\n",
       "  content: '(';\n",
       "}\n",
       "\n",
       ".xr-dim-list:after {\n",
       "  content: ')';\n",
       "}\n",
       "\n",
       ".xr-dim-list li:not(:last-child):after {\n",
       "  content: ',';\n",
       "  padding-right: 5px;\n",
       "}\n",
       "\n",
       ".xr-has-index {\n",
       "  font-weight: bold;\n",
       "}\n",
       "\n",
       ".xr-var-list,\n",
       ".xr-var-item {\n",
       "  display: contents;\n",
       "}\n",
       "\n",
       ".xr-var-item > div,\n",
       ".xr-var-item label,\n",
       ".xr-var-item > .xr-var-name span {\n",
       "  background-color: var(--xr-background-color-row-even);\n",
       "  margin-bottom: 0;\n",
       "}\n",
       "\n",
       ".xr-var-item > .xr-var-name:hover span {\n",
       "  padding-right: 5px;\n",
       "}\n",
       "\n",
       ".xr-var-list > li:nth-child(odd) > div,\n",
       ".xr-var-list > li:nth-child(odd) > label,\n",
       ".xr-var-list > li:nth-child(odd) > .xr-var-name span {\n",
       "  background-color: var(--xr-background-color-row-odd);\n",
       "}\n",
       "\n",
       ".xr-var-name {\n",
       "  grid-column: 1;\n",
       "}\n",
       "\n",
       ".xr-var-dims {\n",
       "  grid-column: 2;\n",
       "}\n",
       "\n",
       ".xr-var-dtype {\n",
       "  grid-column: 3;\n",
       "  text-align: right;\n",
       "  color: var(--xr-font-color2);\n",
       "}\n",
       "\n",
       ".xr-var-preview {\n",
       "  grid-column: 4;\n",
       "}\n",
       "\n",
       ".xr-var-name,\n",
       ".xr-var-dims,\n",
       ".xr-var-dtype,\n",
       ".xr-preview,\n",
       ".xr-attrs dt {\n",
       "  white-space: nowrap;\n",
       "  overflow: hidden;\n",
       "  text-overflow: ellipsis;\n",
       "  padding-right: 10px;\n",
       "}\n",
       "\n",
       ".xr-var-name:hover,\n",
       ".xr-var-dims:hover,\n",
       ".xr-var-dtype:hover,\n",
       ".xr-attrs dt:hover {\n",
       "  overflow: visible;\n",
       "  width: auto;\n",
       "  z-index: 1;\n",
       "}\n",
       "\n",
       ".xr-var-attrs,\n",
       ".xr-var-data {\n",
       "  display: none;\n",
       "  background-color: var(--xr-background-color) !important;\n",
       "  padding-bottom: 5px !important;\n",
       "}\n",
       "\n",
       ".xr-var-attrs-in:checked ~ .xr-var-attrs,\n",
       ".xr-var-data-in:checked ~ .xr-var-data {\n",
       "  display: block;\n",
       "}\n",
       "\n",
       ".xr-var-data > table {\n",
       "  float: right;\n",
       "}\n",
       "\n",
       ".xr-var-name span,\n",
       ".xr-var-data,\n",
       ".xr-attrs {\n",
       "  padding-left: 25px !important;\n",
       "}\n",
       "\n",
       ".xr-attrs,\n",
       ".xr-var-attrs,\n",
       ".xr-var-data {\n",
       "  grid-column: 1 / -1;\n",
       "}\n",
       "\n",
       "dl.xr-attrs {\n",
       "  padding: 0;\n",
       "  margin: 0;\n",
       "  display: grid;\n",
       "  grid-template-columns: 125px auto;\n",
       "}\n",
       "\n",
       ".xr-attrs dt,\n",
       ".xr-attrs dd {\n",
       "  padding: 0;\n",
       "  margin: 0;\n",
       "  float: left;\n",
       "  padding-right: 10px;\n",
       "  width: auto;\n",
       "}\n",
       "\n",
       ".xr-attrs dt {\n",
       "  font-weight: normal;\n",
       "  grid-column: 1;\n",
       "}\n",
       "\n",
       ".xr-attrs dt:hover span {\n",
       "  display: inline-block;\n",
       "  background: var(--xr-background-color);\n",
       "  padding-right: 10px;\n",
       "}\n",
       "\n",
       ".xr-attrs dd {\n",
       "  grid-column: 2;\n",
       "  white-space: pre-wrap;\n",
       "  word-break: break-all;\n",
       "}\n",
       "\n",
       ".xr-icon-database,\n",
       ".xr-icon-file-text2 {\n",
       "  display: inline-block;\n",
       "  vertical-align: middle;\n",
       "  width: 1em;\n",
       "  height: 1.5em !important;\n",
       "  stroke-width: 0;\n",
       "  stroke: currentColor;\n",
       "  fill: currentColor;\n",
       "}\n",
       "</style><pre class='xr-text-repr-fallback'>&lt;xarray.Dataset&gt;\n",
       "Dimensions:  (member: 124, time: 288, step: 3, lat: 60, lon: 85)\n",
       "Coordinates:\n",
       "  * member   (member) int64 0 1 2 3 4 5 6 7 ... 116 117 118 119 120 121 122 123\n",
       "  * time     (time) datetime64[ns] 1993-01-01 1993-02-01 ... 2016-12-01\n",
       "  * step     (step) int64 3 4 5\n",
       "  * lon      (lon) float64 140.0 140.2 140.4 140.6 ... 155.4 155.6 155.8 156.0\n",
       "  * lat      (lat) float64 -12.0 -11.81 -11.63 -11.44 ... -1.373 -1.186 -1.0\n",
       "Data variables:\n",
       "    precip   (time, step, member, lat, lon) float64 nan nan nan ... nan nan nan\n",
       "    mask     (lat, lon) float64 nan nan nan nan nan nan ... nan nan nan nan nan\n",
       "Attributes:\n",
       "    Conventions:  CF-1.6\n",
       "    history:      2021-02-10 20:10:36 GMT by grib_to_netcdf-2.16.0: /opt/ecmw...</pre><div class='xr-wrap' hidden><div class='xr-header'><div class='xr-obj-type'>xarray.Dataset</div></div><ul class='xr-sections'><li class='xr-section-item'><input id='section-83154d30-94a7-4125-a7e0-44146ee8ba0e' class='xr-section-summary-in' type='checkbox' disabled ><label for='section-83154d30-94a7-4125-a7e0-44146ee8ba0e' class='xr-section-summary'  title='Expand/collapse section'>Dimensions:</label><div class='xr-section-inline-details'><ul class='xr-dim-list'><li><span class='xr-has-index'>member</span>: 124</li><li><span class='xr-has-index'>time</span>: 288</li><li><span class='xr-has-index'>step</span>: 3</li><li><span class='xr-has-index'>lat</span>: 60</li><li><span class='xr-has-index'>lon</span>: 85</li></ul></div><div class='xr-section-details'></div></li><li class='xr-section-item'><input id='section-20125d00-9341-42a9-90bf-da06718cd03a' class='xr-section-summary-in' type='checkbox'  checked><label for='section-20125d00-9341-42a9-90bf-da06718cd03a' class='xr-section-summary' >Coordinates: <span>(5)</span></label><div class='xr-section-inline-details'></div><div class='xr-section-details'><ul class='xr-var-list'><li class='xr-var-item'><div class='xr-var-name'><span class='xr-has-index'>member</span></div><div class='xr-var-dims'>(member)</div><div class='xr-var-dtype'>int64</div><div class='xr-var-preview xr-preview'>0 1 2 3 4 5 ... 119 120 121 122 123</div><input id='attrs-000472ce-a44b-48e1-9463-680dcfa528a1' class='xr-var-attrs-in' type='checkbox' ><label for='attrs-000472ce-a44b-48e1-9463-680dcfa528a1' title='Show/Hide attributes'><svg class='icon xr-icon-file-text2'><use xlink:href='#icon-file-text2'></use></svg></label><input id='data-877a9e55-9de3-453d-990a-ff65e368c0c4' class='xr-var-data-in' type='checkbox'><label for='data-877a9e55-9de3-453d-990a-ff65e368c0c4' title='Show/Hide data repr'><svg class='icon xr-icon-database'><use xlink:href='#icon-database'></use></svg></label><div class='xr-var-attrs'><dl class='xr-attrs'><dt><span>long_name :</span></dt><dd>ensemble_member</dd></dl></div><div class='xr-var-data'><pre>array([  0,   1,   2,   3,   4,   5,   6,   7,   8,   9,  10,  11,  12,  13,\n",
       "        14,  15,  16,  17,  18,  19,  20,  21,  22,  23,  24,  25,  26,  27,\n",
       "        28,  29,  30,  31,  32,  33,  34,  35,  36,  37,  38,  39,  40,  41,\n",
       "        42,  43,  44,  45,  46,  47,  48,  49,  50,  51,  52,  53,  54,  55,\n",
       "        56,  57,  58,  59,  60,  61,  62,  63,  64,  65,  66,  67,  68,  69,\n",
       "        70,  71,  72,  73,  74,  75,  76,  77,  78,  79,  80,  81,  82,  83,\n",
       "        84,  85,  86,  87,  88,  89,  90,  91,  92,  93,  94,  95,  96,  97,\n",
       "        98,  99, 100, 101, 102, 103, 104, 105, 106, 107, 108, 109, 110, 111,\n",
       "       112, 113, 114, 115, 116, 117, 118, 119, 120, 121, 122, 123])</pre></div></li><li class='xr-var-item'><div class='xr-var-name'><span class='xr-has-index'>time</span></div><div class='xr-var-dims'>(time)</div><div class='xr-var-dtype'>datetime64[ns]</div><div class='xr-var-preview xr-preview'>1993-01-01 ... 2016-12-01</div><input id='attrs-8deb6c8e-fb88-454e-ad77-4c2053625402' class='xr-var-attrs-in' type='checkbox' disabled><label for='attrs-8deb6c8e-fb88-454e-ad77-4c2053625402' title='Show/Hide attributes'><svg class='icon xr-icon-file-text2'><use xlink:href='#icon-file-text2'></use></svg></label><input id='data-a2969633-856b-43e6-a12c-3301cdfa006e' class='xr-var-data-in' type='checkbox'><label for='data-a2969633-856b-43e6-a12c-3301cdfa006e' title='Show/Hide data repr'><svg class='icon xr-icon-database'><use xlink:href='#icon-database'></use></svg></label><div class='xr-var-attrs'><dl class='xr-attrs'></dl></div><div class='xr-var-data'><pre>array([&#x27;1993-01-01T00:00:00.000000000&#x27;, &#x27;1993-02-01T00:00:00.000000000&#x27;,\n",
       "       &#x27;1993-03-01T00:00:00.000000000&#x27;, ..., &#x27;2016-10-01T00:00:00.000000000&#x27;,\n",
       "       &#x27;2016-11-01T00:00:00.000000000&#x27;, &#x27;2016-12-01T00:00:00.000000000&#x27;],\n",
       "      dtype=&#x27;datetime64[ns]&#x27;)</pre></div></li><li class='xr-var-item'><div class='xr-var-name'><span class='xr-has-index'>step</span></div><div class='xr-var-dims'>(step)</div><div class='xr-var-dtype'>int64</div><div class='xr-var-preview xr-preview'>3 4 5</div><input id='attrs-b910de57-ba9e-443d-b707-1201d32e4079' class='xr-var-attrs-in' type='checkbox' disabled><label for='attrs-b910de57-ba9e-443d-b707-1201d32e4079' title='Show/Hide attributes'><svg class='icon xr-icon-file-text2'><use xlink:href='#icon-file-text2'></use></svg></label><input id='data-3b0b4de3-9f31-4ecd-b2f8-f209aec6229f' class='xr-var-data-in' type='checkbox'><label for='data-3b0b4de3-9f31-4ecd-b2f8-f209aec6229f' title='Show/Hide data repr'><svg class='icon xr-icon-database'><use xlink:href='#icon-database'></use></svg></label><div class='xr-var-attrs'><dl class='xr-attrs'></dl></div><div class='xr-var-data'><pre>array([3, 4, 5])</pre></div></li><li class='xr-var-item'><div class='xr-var-name'><span class='xr-has-index'>lon</span></div><div class='xr-var-dims'>(lon)</div><div class='xr-var-dtype'>float64</div><div class='xr-var-preview xr-preview'>140.0 140.2 140.4 ... 155.8 156.0</div><input id='attrs-fa035452-39fe-4eae-af37-567fee7c191a' class='xr-var-attrs-in' type='checkbox' disabled><label for='attrs-fa035452-39fe-4eae-af37-567fee7c191a' title='Show/Hide attributes'><svg class='icon xr-icon-file-text2'><use xlink:href='#icon-file-text2'></use></svg></label><input id='data-465d4009-4c5f-4b62-b962-d59e9a33c623' class='xr-var-data-in' type='checkbox'><label for='data-465d4009-4c5f-4b62-b962-d59e9a33c623' title='Show/Hide data repr'><svg class='icon xr-icon-database'><use xlink:href='#icon-database'></use></svg></label><div class='xr-var-attrs'><dl class='xr-attrs'></dl></div><div class='xr-var-data'><pre>array([140.      , 140.190476, 140.380952, 140.571429, 140.761905, 140.952381,\n",
       "       141.142857, 141.333333, 141.52381 , 141.714286, 141.904762, 142.095238,\n",
       "       142.285714, 142.47619 , 142.666667, 142.857143, 143.047619, 143.238095,\n",
       "       143.428571, 143.619048, 143.809524, 144.      , 144.190476, 144.380952,\n",
       "       144.571429, 144.761905, 144.952381, 145.142857, 145.333333, 145.52381 ,\n",
       "       145.714286, 145.904762, 146.095238, 146.285714, 146.47619 , 146.666667,\n",
       "       146.857143, 147.047619, 147.238095, 147.428571, 147.619048, 147.809524,\n",
       "       148.      , 148.190476, 148.380952, 148.571429, 148.761905, 148.952381,\n",
       "       149.142857, 149.333333, 149.52381 , 149.714286, 149.904762, 150.095238,\n",
       "       150.285714, 150.47619 , 150.666667, 150.857143, 151.047619, 151.238095,\n",
       "       151.428571, 151.619048, 151.809524, 152.      , 152.190476, 152.380952,\n",
       "       152.571429, 152.761905, 152.952381, 153.142857, 153.333333, 153.52381 ,\n",
       "       153.714286, 153.904762, 154.095238, 154.285714, 154.47619 , 154.666667,\n",
       "       154.857143, 155.047619, 155.238095, 155.428571, 155.619048, 155.809524,\n",
       "       156.      ])</pre></div></li><li class='xr-var-item'><div class='xr-var-name'><span class='xr-has-index'>lat</span></div><div class='xr-var-dims'>(lat)</div><div class='xr-var-dtype'>float64</div><div class='xr-var-preview xr-preview'>-12.0 -11.81 -11.63 ... -1.186 -1.0</div><input id='attrs-bceeb2e9-525f-4e07-a7f4-7406a5e756d4' class='xr-var-attrs-in' type='checkbox' disabled><label for='attrs-bceeb2e9-525f-4e07-a7f4-7406a5e756d4' title='Show/Hide attributes'><svg class='icon xr-icon-file-text2'><use xlink:href='#icon-file-text2'></use></svg></label><input id='data-16427aa0-7474-4d6e-8d31-ac5afb54975e' class='xr-var-data-in' type='checkbox'><label for='data-16427aa0-7474-4d6e-8d31-ac5afb54975e' title='Show/Hide data repr'><svg class='icon xr-icon-database'><use xlink:href='#icon-database'></use></svg></label><div class='xr-var-attrs'><dl class='xr-attrs'></dl></div><div class='xr-var-data'><pre>array([-12.      , -11.813559, -11.627119, -11.440678, -11.254237, -11.067797,\n",
       "       -10.881356, -10.694915, -10.508475, -10.322034, -10.135593,  -9.949153,\n",
       "        -9.762712,  -9.576271,  -9.389831,  -9.20339 ,  -9.016949,  -8.830508,\n",
       "        -8.644068,  -8.457627,  -8.271186,  -8.084746,  -7.898305,  -7.711864,\n",
       "        -7.525424,  -7.338983,  -7.152542,  -6.966102,  -6.779661,  -6.59322 ,\n",
       "        -6.40678 ,  -6.220339,  -6.033898,  -5.847458,  -5.661017,  -5.474576,\n",
       "        -5.288136,  -5.101695,  -4.915254,  -4.728814,  -4.542373,  -4.355932,\n",
       "        -4.169492,  -3.983051,  -3.79661 ,  -3.610169,  -3.423729,  -3.237288,\n",
       "        -3.050847,  -2.864407,  -2.677966,  -2.491525,  -2.305085,  -2.118644,\n",
       "        -1.932203,  -1.745763,  -1.559322,  -1.372881,  -1.186441,  -1.      ])</pre></div></li></ul></div></li><li class='xr-section-item'><input id='section-1e7424a7-641d-411e-af60-ab30631bb24a' class='xr-section-summary-in' type='checkbox'  checked><label for='section-1e7424a7-641d-411e-af60-ab30631bb24a' class='xr-section-summary' >Data variables: <span>(2)</span></label><div class='xr-section-inline-details'></div><div class='xr-section-details'><ul class='xr-var-list'><li class='xr-var-item'><div class='xr-var-name'><span>precip</span></div><div class='xr-var-dims'>(time, step, member, lat, lon)</div><div class='xr-var-dtype'>float64</div><div class='xr-var-preview xr-preview'>nan nan nan nan ... nan nan nan nan</div><input id='attrs-88960263-46fd-44ce-9eb6-0bab53da390a' class='xr-var-attrs-in' type='checkbox' disabled><label for='attrs-88960263-46fd-44ce-9eb6-0bab53da390a' title='Show/Hide attributes'><svg class='icon xr-icon-file-text2'><use xlink:href='#icon-file-text2'></use></svg></label><input id='data-8ead7248-4ef4-4736-b106-ac1b552c14ce' class='xr-var-data-in' type='checkbox'><label for='data-8ead7248-4ef4-4736-b106-ac1b552c14ce' title='Show/Hide data repr'><svg class='icon xr-icon-database'><use xlink:href='#icon-database'></use></svg></label><div class='xr-var-attrs'><dl class='xr-attrs'></dl></div><div class='xr-var-data'><pre>array([[[[[nan, nan, nan, ..., nan, nan, nan],\n",
       "          [nan, nan, nan, ..., nan, nan, nan],\n",
       "          [nan, nan, nan, ..., nan, nan, nan],\n",
       "          ...,\n",
       "          [nan, nan, nan, ..., nan, nan, nan],\n",
       "          [nan, nan, nan, ..., nan, nan, nan],\n",
       "          [nan, nan, nan, ..., nan, nan, nan]],\n",
       "\n",
       "         [[nan, nan, nan, ..., nan, nan, nan],\n",
       "          [nan, nan, nan, ..., nan, nan, nan],\n",
       "          [nan, nan, nan, ..., nan, nan, nan],\n",
       "          ...,\n",
       "          [nan, nan, nan, ..., nan, nan, nan],\n",
       "          [nan, nan, nan, ..., nan, nan, nan],\n",
       "          [nan, nan, nan, ..., nan, nan, nan]],\n",
       "\n",
       "         [[nan, nan, nan, ..., nan, nan, nan],\n",
       "          [nan, nan, nan, ..., nan, nan, nan],\n",
       "          [nan, nan, nan, ..., nan, nan, nan],\n",
       "          ...,\n",
       "...\n",
       "          ...,\n",
       "          [nan, nan, nan, ..., nan, nan, nan],\n",
       "          [nan, nan, nan, ..., nan, nan, nan],\n",
       "          [nan, nan, nan, ..., nan, nan, nan]],\n",
       "\n",
       "         [[nan, nan, nan, ..., nan, nan, nan],\n",
       "          [nan, nan, nan, ..., nan, nan, nan],\n",
       "          [nan, nan, nan, ..., nan, nan, nan],\n",
       "          ...,\n",
       "          [nan, nan, nan, ..., nan, nan, nan],\n",
       "          [nan, nan, nan, ..., nan, nan, nan],\n",
       "          [nan, nan, nan, ..., nan, nan, nan]],\n",
       "\n",
       "         [[nan, nan, nan, ..., nan, nan, nan],\n",
       "          [nan, nan, nan, ..., nan, nan, nan],\n",
       "          [nan, nan, nan, ..., nan, nan, nan],\n",
       "          ...,\n",
       "          [nan, nan, nan, ..., nan, nan, nan],\n",
       "          [nan, nan, nan, ..., nan, nan, nan],\n",
       "          [nan, nan, nan, ..., nan, nan, nan]]]]])</pre></div></li><li class='xr-var-item'><div class='xr-var-name'><span>mask</span></div><div class='xr-var-dims'>(lat, lon)</div><div class='xr-var-dtype'>float64</div><div class='xr-var-preview xr-preview'>nan nan nan nan ... nan nan nan nan</div><input id='attrs-7e046c35-9e3a-4bb9-aa42-bcc769f7c5eb' class='xr-var-attrs-in' type='checkbox' ><label for='attrs-7e046c35-9e3a-4bb9-aa42-bcc769f7c5eb' title='Show/Hide attributes'><svg class='icon xr-icon-file-text2'><use xlink:href='#icon-file-text2'></use></svg></label><input id='data-6a153da1-8aca-42cc-b3ee-d67b12a5bcc2' class='xr-var-data-in' type='checkbox'><label for='data-6a153da1-8aca-42cc-b3ee-d67b12a5bcc2' title='Show/Hide data repr'><svg class='icon xr-icon-database'><use xlink:href='#icon-database'></use></svg></label><div class='xr-var-attrs'><dl class='xr-attrs'><dt><span>cells :</span></dt><dd>1370</dd></dl></div><div class='xr-var-data'><pre>array([[nan, nan, nan, ..., nan, nan, nan],\n",
       "       [nan, nan, nan, ..., nan, nan, nan],\n",
       "       [nan, nan, nan, ..., nan, nan, nan],\n",
       "       ...,\n",
       "       [nan, nan, nan, ..., nan, nan, nan],\n",
       "       [nan, nan, nan, ..., nan, nan, nan],\n",
       "       [nan, nan, nan, ..., nan, nan, nan]])</pre></div></li></ul></div></li><li class='xr-section-item'><input id='section-da28713b-3fae-4db7-a63c-a36303f15ae5' class='xr-section-summary-in' type='checkbox'  checked><label for='section-da28713b-3fae-4db7-a63c-a36303f15ae5' class='xr-section-summary' >Attributes: <span>(2)</span></label><div class='xr-section-inline-details'></div><div class='xr-section-details'><dl class='xr-attrs'><dt><span>Conventions :</span></dt><dd>CF-1.6</dd><dt><span>history :</span></dt><dd>2021-02-10 20:10:36 GMT by grib_to_netcdf-2.16.0: /opt/ecmwf/eccodes/bin/grib_to_netcdf -S param -o /cache/data3/adaptor.mars.external-1612987825.7561407-1081-13-c68303ea-8f93-4a6c-8fa1-5794dbc1aefe.nc /cache/tmp/c68303ea-8f93-4a6c-8fa1-5794dbc1aefe-adaptor.mars.external-1612987825.7568429-1081-6-tmp.grib</dd></dl></div></li></ul></div></div>"
      ],
      "text/plain": [
       "<xarray.Dataset>\n",
       "Dimensions:  (member: 124, time: 288, step: 3, lat: 60, lon: 85)\n",
       "Coordinates:\n",
       "  * member   (member) int64 0 1 2 3 4 5 6 7 ... 116 117 118 119 120 121 122 123\n",
       "  * time     (time) datetime64[ns] 1993-01-01 1993-02-01 ... 2016-12-01\n",
       "  * step     (step) int64 3 4 5\n",
       "  * lon      (lon) float64 140.0 140.2 140.4 140.6 ... 155.4 155.6 155.8 156.0\n",
       "  * lat      (lat) float64 -12.0 -11.81 -11.63 -11.44 ... -1.373 -1.186 -1.0\n",
       "Data variables:\n",
       "    precip   (time, step, member, lat, lon) float64 nan nan nan ... nan nan nan\n",
       "    mask     (lat, lon) float64 nan nan nan nan nan nan ... nan nan nan nan nan\n",
       "Attributes:\n",
       "    Conventions:  CF-1.6\n",
       "    history:      2021-02-10 20:10:36 GMT by grib_to_netcdf-2.16.0: /opt/ecmw..."
      ]
     },
     "execution_count": 54,
     "metadata": {},
     "output_type": "execute_result"
    }
   ],
   "source": [
    "dset"
   ]
  },
  {
   "cell_type": "markdown",
   "id": "0c4de924-6cb6-4576-8a07-18f9fd22fdec",
   "metadata": {
    "papermill": {
     "duration": 0.119914,
     "end_time": "2021-08-20T05:17:35.007792",
     "exception": false,
     "start_time": "2021-08-20T05:17:34.887878",
     "status": "completed"
    },
    "tags": []
   },
   "source": [
    "### number of grid points "
   ]
  },
  {
   "cell_type": "code",
   "execution_count": 55,
   "id": "47fa135a-c801-4d74-8558-42d27466420a",
   "metadata": {
    "execution": {
     "iopub.execute_input": "2021-08-20T05:17:35.245237Z",
     "iopub.status.busy": "2021-08-20T05:17:35.244886Z",
     "iopub.status.idle": "2021-08-20T05:17:35.260822Z",
     "shell.execute_reply": "2021-08-20T05:17:35.260352Z"
    },
    "papermill": {
     "duration": 0.135907,
     "end_time": "2021-08-20T05:17:35.260937",
     "exception": false,
     "start_time": "2021-08-20T05:17:35.125030",
     "status": "completed"
    },
    "tags": []
   },
   "outputs": [
    {
     "data": {
      "text/plain": [
       "1370"
      ]
     },
     "execution_count": 55,
     "metadata": {},
     "output_type": "execute_result"
    }
   ],
   "source": [
    "dset['mask'].attrs['cells']"
   ]
  },
  {
   "cell_type": "markdown",
   "id": "18980aa1-3575-4caf-a35c-0355d5f34c3f",
   "metadata": {
    "papermill": {
     "duration": 0.115098,
     "end_time": "2021-08-20T05:17:35.490848",
     "exception": false,
     "start_time": "2021-08-20T05:17:35.375750",
     "status": "completed"
    },
    "tags": []
   },
   "source": [
    "### plots the shape(s) and the resulting land sea mask  "
   ]
  },
  {
   "cell_type": "code",
   "execution_count": 56,
   "id": "ee093ed9-64cb-433b-bb76-96e71635192c",
   "metadata": {
    "execution": {
     "iopub.execute_input": "2021-08-20T05:17:35.724597Z",
     "iopub.status.busy": "2021-08-20T05:17:35.724249Z",
     "iopub.status.idle": "2021-08-20T05:17:35.738791Z",
     "shell.execute_reply": "2021-08-20T05:17:35.738498Z"
    },
    "papermill": {
     "duration": 0.132989,
     "end_time": "2021-08-20T05:17:35.738878",
     "exception": false,
     "start_time": "2021-08-20T05:17:35.605889",
     "status": "completed"
    },
    "tags": []
   },
   "outputs": [],
   "source": [
    "if GCM == 'ECMWF': \n",
    "\n",
    "    f, axes = plt.subplots(ncols=2, figsize=(10, 10), subplot_kw={'projection':ccrs.PlateCarree(central_longitude=180)})\n",
    "\n",
    "    ax = axes[0]\n",
    "\n",
    "    shape.plot(ax=ax, color='0.6', alpha=0.2)\n",
    "\n",
    "    shape.boundary.plot(ax=ax, color='coral', lw=0.7)\n",
    "\n",
    "    original_shape.boundary.plot(ax=ax, color='steelblue', lw=0.7, alpha=0.5)\n",
    "\n",
    "    ax.set_title(f\"{shape_name} mask\")\n",
    "\n",
    "    plot.make_gridlines(ax)\n",
    "\n",
    "    ax = axes[1]\n",
    "\n",
    "    dset['mask'].plot(ax=ax, add_colorbar=False, transform=ccrs.PlateCarree(), alpha=0.5)\n",
    "\n",
    "    original_shape.boundary.plot(ax=ax, color='k', lw=0.7, transform=ccrs.PlateCarree())\n",
    "\n",
    "    ax.set_title(f\"{shape_name} mask\")\n",
    "\n",
    "    plot.make_gridlines(ax)\n",
    "\n",
    "    f.savefig(fig_path.joinpath(f'masks/{utils.sanitize_name(shape_name)}_shapes_and_mask.png'), dpi=200, bbox_inches='tight', facecolor='w')"
   ]
  },
  {
   "cell_type": "markdown",
   "id": "8ec1ee37-ea51-4f49-9d78-36e7bfc6d4f8",
   "metadata": {
    "papermill": {
     "duration": 0.116596,
     "end_time": "2021-08-20T05:17:35.972601",
     "exception": false,
     "start_time": "2021-08-20T05:17:35.856005",
     "status": "completed"
    },
    "tags": []
   },
   "source": [
    "### plots the precipitation field for one time step, leadtime and member "
   ]
  },
  {
   "cell_type": "code",
   "execution_count": 57,
   "id": "9af2ef43-6926-402e-a402-7ff555c963ca",
   "metadata": {
    "execution": {
     "iopub.execute_input": "2021-08-20T05:17:36.204647Z",
     "iopub.status.busy": "2021-08-20T05:17:36.204318Z",
     "iopub.status.idle": "2021-08-20T05:17:36.386446Z",
     "shell.execute_reply": "2021-08-20T05:17:36.386113Z"
    },
    "papermill": {
     "duration": 0.299083,
     "end_time": "2021-08-20T05:17:36.386525",
     "exception": false,
     "start_time": "2021-08-20T05:17:36.087442",
     "status": "completed"
    },
    "tags": []
   },
   "outputs": [
    {
     "data": {
      "text/plain": [
       "<matplotlib.collections.QuadMesh at 0x7f68a35dfd90>"
      ]
     },
     "execution_count": 57,
     "metadata": {},
     "output_type": "execute_result"
    },
    {
     "data": {
      "image/png": "[encoded data removed]",
      "text/plain": [
       "<Figure size 432x288 with 2 Axes>"
      ]
     },
     "metadata": {
      "needs_background": "light"
     },
     "output_type": "display_data"
    }
   ],
   "source": [
    "dset.isel(time=0, step=0, member=0)['precip'].plot()"
   ]
  },
  {
   "cell_type": "markdown",
   "id": "afdc8eeb-e44f-40cf-a2bf-73fc4863347f",
   "metadata": {
    "papermill": {
     "duration": 0.115979,
     "end_time": "2021-08-20T05:17:36.617804",
     "exception": false,
     "start_time": "2021-08-20T05:17:36.501825",
     "status": "completed"
    },
    "tags": []
   },
   "source": [
    "### calculates the regional average (average over lats and lons)"
   ]
  },
  {
   "cell_type": "code",
   "execution_count": 58,
   "id": "8f843af5-691c-4241-9493-4ae2a3bc61ae",
   "metadata": {
    "execution": {
     "iopub.execute_input": "2021-08-20T05:17:36.855525Z",
     "iopub.status.busy": "2021-08-20T05:17:36.855194Z",
     "iopub.status.idle": "2021-08-20T05:17:39.085976Z",
     "shell.execute_reply": "2021-08-20T05:17:39.086247Z"
    },
    "papermill": {
     "duration": 2.350101,
     "end_time": "2021-08-20T05:17:39.086347",
     "exception": false,
     "start_time": "2021-08-20T05:17:36.736246",
     "status": "completed"
    },
    "tags": []
   },
   "outputs": [],
   "source": [
    "dset_sub = dset.mean(['lat','lon'])"
   ]
  },
  {
   "cell_type": "markdown",
   "id": "2d336243-c7b2-43ee-b60c-b329eadd142f",
   "metadata": {
    "papermill": {
     "duration": 0.120305,
     "end_time": "2021-08-20T05:17:39.327367",
     "exception": false,
     "start_time": "2021-08-20T05:17:39.207062",
     "status": "completed"
    },
    "tags": []
   },
   "source": [
    "### and the calculates the climatological percentiles "
   ]
  },
  {
   "cell_type": "markdown",
   "id": "ba2fa126-2e56-4122-a152-7f7f54cf029a",
   "metadata": {
    "papermill": {
     "duration": 0.119715,
     "end_time": "2021-08-20T05:17:39.569272",
     "exception": false,
     "start_time": "2021-08-20T05:17:39.449557",
     "status": "completed"
    },
    "tags": []
   },
   "source": [
    "#### terciles "
   ]
  },
  {
   "cell_type": "code",
   "execution_count": null,
   "id": "59fec555-b451-4ffa-aa18-3ba557b446a2",
   "metadata": {
    "papermill": {
     "duration": 0.115657,
     "end_time": "2021-08-20T05:17:39.802055",
     "exception": false,
     "start_time": "2021-08-20T05:17:39.686398",
     "status": "completed"
    },
    "tags": []
   },
   "outputs": [],
   "source": []
  },
  {
   "cell_type": "code",
   "execution_count": 59,
   "id": "d2dde48f-a330-4b72-997d-e5d479b351ce",
   "metadata": {
    "execution": {
     "iopub.execute_input": "2021-08-20T05:17:40.036043Z",
     "iopub.status.busy": "2021-08-20T05:17:40.035707Z",
     "iopub.status.idle": "2021-08-20T05:17:40.070449Z",
     "shell.execute_reply": "2021-08-20T05:17:40.070060Z"
    },
    "papermill": {
     "duration": 0.152172,
     "end_time": "2021-08-20T05:17:40.070532",
     "exception": false,
     "start_time": "2021-08-20T05:17:39.918360",
     "status": "completed"
    },
    "tags": []
   },
   "outputs": [],
   "source": [
    "clim_p = dset_sub[['precip']].groupby(dset_sub.time.dt.month).apply(calc_percentiles, **{'percentiles':dict_quantiles[quantiles]})"
   ]
  },
  {
   "cell_type": "markdown",
   "id": "09b7d84c-8a84-4a1d-96cb-ec908b600e6f",
   "metadata": {
    "papermill": {
     "duration": 0.114565,
     "end_time": "2021-08-20T05:17:40.300098",
     "exception": false,
     "start_time": "2021-08-20T05:17:40.185533",
     "status": "completed"
    },
    "tags": []
   },
   "source": [
    "### plot the climatological quantiles as a function of leadtime ('step' dimension)"
   ]
  },
  {
   "cell_type": "code",
   "execution_count": 60,
   "id": "de85dd93-60b6-4acc-8672-8ac666da1ba1",
   "metadata": {
    "execution": {
     "iopub.execute_input": "2021-08-20T05:17:40.534404Z",
     "iopub.status.busy": "2021-08-20T05:17:40.534068Z",
     "iopub.status.idle": "2021-08-20T05:17:40.935136Z",
     "shell.execute_reply": "2021-08-20T05:17:40.934848Z"
    },
    "papermill": {
     "duration": 0.519468,
     "end_time": "2021-08-20T05:17:40.935219",
     "exception": false,
     "start_time": "2021-08-20T05:17:40.415751",
     "status": "completed"
    },
    "tags": []
   },
   "outputs": [
    {
     "data": {
      "text/plain": [
       "<xarray.plot.facetgrid.FacetGrid at 0x7f68c00caca0>"
      ]
     },
     "execution_count": 60,
     "metadata": {},
     "output_type": "execute_result"
    },
    {
     "data": {
      "image/png": "[encoded data removed]",
      "text/plain": [
       "<Figure size 720x288 with 3 Axes>"
      ]
     },
     "metadata": {
      "needs_background": "light"
     },
     "output_type": "display_data"
    }
   ],
   "source": [
    "clim_p['precip'].plot(x='month', y = 'step', col='quantile', figsize=(10, 4))"
   ]
  },
  {
   "cell_type": "code",
   "execution_count": 61,
   "id": "ded59fb0-db7d-4dba-b048-f33f9a9e330a",
   "metadata": {
    "execution": {
     "iopub.execute_input": "2021-08-20T05:17:41.178621Z",
     "iopub.status.busy": "2021-08-20T05:17:41.178271Z",
     "iopub.status.idle": "2021-08-20T05:17:41.201937Z",
     "shell.execute_reply": "2021-08-20T05:17:41.201603Z"
    },
    "papermill": {
     "duration": 0.148324,
     "end_time": "2021-08-20T05:17:41.202017",
     "exception": false,
     "start_time": "2021-08-20T05:17:41.053693",
     "status": "completed"
    },
    "tags": []
   },
   "outputs": [
    {
     "data": {
      "text/html": [
       "<div><svg style=\"position: absolute; width: 0; height: 0; overflow: hidden\">\n",
       "<defs>\n",
       "<symbol id=\"icon-database\" viewBox=\"0 0 32 32\">\n",
       "<path d=\"M16 0c-8.837 0-16 2.239-16 5v4c0 2.761 7.163 5 16 5s16-2.239 16-5v-4c0-2.761-7.163-5-16-5z\"></path>\n",
       "<path d=\"M16 17c-8.837 0-16-2.239-16-5v6c0 2.761 7.163 5 16 5s16-2.239 16-5v-6c0 2.761-7.163 5-16 5z\"></path>\n",
       "<path d=\"M16 26c-8.837 0-16-2.239-16-5v6c0 2.761 7.163 5 16 5s16-2.239 16-5v-6c0 2.761-7.163 5-16 5z\"></path>\n",
       "</symbol>\n",
       "<symbol id=\"icon-file-text2\" viewBox=\"0 0 32 32\">\n",
       "<path d=\"M28.681 7.159c-0.694-0.947-1.662-2.053-2.724-3.116s-2.169-2.030-3.116-2.724c-1.612-1.182-2.393-1.319-2.841-1.319h-15.5c-1.378 0-2.5 1.121-2.5 2.5v27c0 1.378 1.122 2.5 2.5 2.5h23c1.378 0 2.5-1.122 2.5-2.5v-19.5c0-0.448-0.137-1.23-1.319-2.841zM24.543 5.457c0.959 0.959 1.712 1.825 2.268 2.543h-4.811v-4.811c0.718 0.556 1.584 1.309 2.543 2.268zM28 29.5c0 0.271-0.229 0.5-0.5 0.5h-23c-0.271 0-0.5-0.229-0.5-0.5v-27c0-0.271 0.229-0.5 0.5-0.5 0 0 15.499-0 15.5 0v7c0 0.552 0.448 1 1 1h7v19.5z\"></path>\n",
       "<path d=\"M23 26h-14c-0.552 0-1-0.448-1-1s0.448-1 1-1h14c0.552 0 1 0.448 1 1s-0.448 1-1 1z\"></path>\n",
       "<path d=\"M23 22h-14c-0.552 0-1-0.448-1-1s0.448-1 1-1h14c0.552 0 1 0.448 1 1s-0.448 1-1 1z\"></path>\n",
       "<path d=\"M23 18h-14c-0.552 0-1-0.448-1-1s0.448-1 1-1h14c0.552 0 1 0.448 1 1s-0.448 1-1 1z\"></path>\n",
       "</symbol>\n",
       "</defs>\n",
       "</svg>\n",
       "<style>/* CSS stylesheet for displaying xarray objects in jupyterlab.\n",
       " *\n",
       " */\n",
       "\n",
       ":root {\n",
       "  --xr-font-color0: var(--jp-content-font-color0, rgba(0, 0, 0, 1));\n",
       "  --xr-font-color2: var(--jp-content-font-color2, rgba(0, 0, 0, 0.54));\n",
       "  --xr-font-color3: var(--jp-content-font-color3, rgba(0, 0, 0, 0.38));\n",
       "  --xr-border-color: var(--jp-border-color2, #e0e0e0);\n",
       "  --xr-disabled-color: var(--jp-layout-color3, #bdbdbd);\n",
       "  --xr-background-color: var(--jp-layout-color0, white);\n",
       "  --xr-background-color-row-even: var(--jp-layout-color1, white);\n",
       "  --xr-background-color-row-odd: var(--jp-layout-color2, #eeeeee);\n",
       "}\n",
       "\n",
       "html[theme=dark],\n",
       "body.vscode-dark {\n",
       "  --xr-font-color0: rgba(255, 255, 255, 1);\n",
       "  --xr-font-color2: rgba(255, 255, 255, 0.54);\n",
       "  --xr-font-color3: rgba(255, 255, 255, 0.38);\n",
       "  --xr-border-color: #1F1F1F;\n",
       "  --xr-disabled-color: #515151;\n",
       "  --xr-background-color: #111111;\n",
       "  --xr-background-color-row-even: #111111;\n",
       "  --xr-background-color-row-odd: #313131;\n",
       "}\n",
       "\n",
       ".xr-wrap {\n",
       "  display: block;\n",
       "  min-width: 300px;\n",
       "  max-width: 700px;\n",
       "}\n",
       "\n",
       ".xr-text-repr-fallback {\n",
       "  /* fallback to plain text repr when CSS is not injected (untrusted notebook) */\n",
       "  display: none;\n",
       "}\n",
       "\n",
       ".xr-header {\n",
       "  padding-top: 6px;\n",
       "  padding-bottom: 6px;\n",
       "  margin-bottom: 4px;\n",
       "  border-bottom: solid 1px var(--xr-border-color);\n",
       "}\n",
       "\n",
       ".xr-header > div,\n",
       ".xr-header > ul {\n",
       "  display: inline;\n",
       "  margin-top: 0;\n",
       "  margin-bottom: 0;\n",
       "}\n",
       "\n",
       ".xr-obj-type,\n",
       ".xr-array-name {\n",
       "  margin-left: 2px;\n",
       "  margin-right: 10px;\n",
       "}\n",
       "\n",
       ".xr-obj-type {\n",
       "  color: var(--xr-font-color2);\n",
       "}\n",
       "\n",
       ".xr-sections {\n",
       "  padding-left: 0 !important;\n",
       "  display: grid;\n",
       "  grid-template-columns: 150px auto auto 1fr 20px 20px;\n",
       "}\n",
       "\n",
       ".xr-section-item {\n",
       "  display: contents;\n",
       "}\n",
       "\n",
       ".xr-section-item input {\n",
       "  display: none;\n",
       "}\n",
       "\n",
       ".xr-section-item input + label {\n",
       "  color: var(--xr-disabled-color);\n",
       "}\n",
       "\n",
       ".xr-section-item input:enabled + label {\n",
       "  cursor: pointer;\n",
       "  color: var(--xr-font-color2);\n",
       "}\n",
       "\n",
       ".xr-section-item input:enabled + label:hover {\n",
       "  color: var(--xr-font-color0);\n",
       "}\n",
       "\n",
       ".xr-section-summary {\n",
       "  grid-column: 1;\n",
       "  color: var(--xr-font-color2);\n",
       "  font-weight: 500;\n",
       "}\n",
       "\n",
       ".xr-section-summary > span {\n",
       "  display: inline-block;\n",
       "  padding-left: 0.5em;\n",
       "}\n",
       "\n",
       ".xr-section-summary-in:disabled + label {\n",
       "  color: var(--xr-font-color2);\n",
       "}\n",
       "\n",
       ".xr-section-summary-in + label:before {\n",
       "  display: inline-block;\n",
       "  content: '►';\n",
       "  font-size: 11px;\n",
       "  width: 15px;\n",
       "  text-align: center;\n",
       "}\n",
       "\n",
       ".xr-section-summary-in:disabled + label:before {\n",
       "  color: var(--xr-disabled-color);\n",
       "}\n",
       "\n",
       ".xr-section-summary-in:checked + label:before {\n",
       "  content: '▼';\n",
       "}\n",
       "\n",
       ".xr-section-summary-in:checked + label > span {\n",
       "  display: none;\n",
       "}\n",
       "\n",
       ".xr-section-summary,\n",
       ".xr-section-inline-details {\n",
       "  padding-top: 4px;\n",
       "  padding-bottom: 4px;\n",
       "}\n",
       "\n",
       ".xr-section-inline-details {\n",
       "  grid-column: 2 / -1;\n",
       "}\n",
       "\n",
       ".xr-section-details {\n",
       "  display: none;\n",
       "  grid-column: 1 / -1;\n",
       "  margin-bottom: 5px;\n",
       "}\n",
       "\n",
       ".xr-section-summary-in:checked ~ .xr-section-details {\n",
       "  display: contents;\n",
       "}\n",
       "\n",
       ".xr-array-wrap {\n",
       "  grid-column: 1 / -1;\n",
       "  display: grid;\n",
       "  grid-template-columns: 20px auto;\n",
       "}\n",
       "\n",
       ".xr-array-wrap > label {\n",
       "  grid-column: 1;\n",
       "  vertical-align: top;\n",
       "}\n",
       "\n",
       ".xr-preview {\n",
       "  color: var(--xr-font-color3);\n",
       "}\n",
       "\n",
       ".xr-array-preview,\n",
       ".xr-array-data {\n",
       "  padding: 0 5px !important;\n",
       "  grid-column: 2;\n",
       "}\n",
       "\n",
       ".xr-array-data,\n",
       ".xr-array-in:checked ~ .xr-array-preview {\n",
       "  display: none;\n",
       "}\n",
       "\n",
       ".xr-array-in:checked ~ .xr-array-data,\n",
       ".xr-array-preview {\n",
       "  display: inline-block;\n",
       "}\n",
       "\n",
       ".xr-dim-list {\n",
       "  display: inline-block !important;\n",
       "  list-style: none;\n",
       "  padding: 0 !important;\n",
       "  margin: 0;\n",
       "}\n",
       "\n",
       ".xr-dim-list li {\n",
       "  display: inline-block;\n",
       "  padding: 0;\n",
       "  margin: 0;\n",
       "}\n",
       "\n",
       ".xr-dim-list:before {\n",
       "  content: '(';\n",
       "}\n",
       "\n",
       ".xr-dim-list:after {\n",
       "  content: ')';\n",
       "}\n",
       "\n",
       ".xr-dim-list li:not(:last-child):after {\n",
       "  content: ',';\n",
       "  padding-right: 5px;\n",
       "}\n",
       "\n",
       ".xr-has-index {\n",
       "  font-weight: bold;\n",
       "}\n",
       "\n",
       ".xr-var-list,\n",
       ".xr-var-item {\n",
       "  display: contents;\n",
       "}\n",
       "\n",
       ".xr-var-item > div,\n",
       ".xr-var-item label,\n",
       ".xr-var-item > .xr-var-name span {\n",
       "  background-color: var(--xr-background-color-row-even);\n",
       "  margin-bottom: 0;\n",
       "}\n",
       "\n",
       ".xr-var-item > .xr-var-name:hover span {\n",
       "  padding-right: 5px;\n",
       "}\n",
       "\n",
       ".xr-var-list > li:nth-child(odd) > div,\n",
       ".xr-var-list > li:nth-child(odd) > label,\n",
       ".xr-var-list > li:nth-child(odd) > .xr-var-name span {\n",
       "  background-color: var(--xr-background-color-row-odd);\n",
       "}\n",
       "\n",
       ".xr-var-name {\n",
       "  grid-column: 1;\n",
       "}\n",
       "\n",
       ".xr-var-dims {\n",
       "  grid-column: 2;\n",
       "}\n",
       "\n",
       ".xr-var-dtype {\n",
       "  grid-column: 3;\n",
       "  text-align: right;\n",
       "  color: var(--xr-font-color2);\n",
       "}\n",
       "\n",
       ".xr-var-preview {\n",
       "  grid-column: 4;\n",
       "}\n",
       "\n",
       ".xr-var-name,\n",
       ".xr-var-dims,\n",
       ".xr-var-dtype,\n",
       ".xr-preview,\n",
       ".xr-attrs dt {\n",
       "  white-space: nowrap;\n",
       "  overflow: hidden;\n",
       "  text-overflow: ellipsis;\n",
       "  padding-right: 10px;\n",
       "}\n",
       "\n",
       ".xr-var-name:hover,\n",
       ".xr-var-dims:hover,\n",
       ".xr-var-dtype:hover,\n",
       ".xr-attrs dt:hover {\n",
       "  overflow: visible;\n",
       "  width: auto;\n",
       "  z-index: 1;\n",
       "}\n",
       "\n",
       ".xr-var-attrs,\n",
       ".xr-var-data {\n",
       "  display: none;\n",
       "  background-color: var(--xr-background-color) !important;\n",
       "  padding-bottom: 5px !important;\n",
       "}\n",
       "\n",
       ".xr-var-attrs-in:checked ~ .xr-var-attrs,\n",
       ".xr-var-data-in:checked ~ .xr-var-data {\n",
       "  display: block;\n",
       "}\n",
       "\n",
       ".xr-var-data > table {\n",
       "  float: right;\n",
       "}\n",
       "\n",
       ".xr-var-name span,\n",
       ".xr-var-data,\n",
       ".xr-attrs {\n",
       "  padding-left: 25px !important;\n",
       "}\n",
       "\n",
       ".xr-attrs,\n",
       ".xr-var-attrs,\n",
       ".xr-var-data {\n",
       "  grid-column: 1 / -1;\n",
       "}\n",
       "\n",
       "dl.xr-attrs {\n",
       "  padding: 0;\n",
       "  margin: 0;\n",
       "  display: grid;\n",
       "  grid-template-columns: 125px auto;\n",
       "}\n",
       "\n",
       ".xr-attrs dt,\n",
       ".xr-attrs dd {\n",
       "  padding: 0;\n",
       "  margin: 0;\n",
       "  float: left;\n",
       "  padding-right: 10px;\n",
       "  width: auto;\n",
       "}\n",
       "\n",
       ".xr-attrs dt {\n",
       "  font-weight: normal;\n",
       "  grid-column: 1;\n",
       "}\n",
       "\n",
       ".xr-attrs dt:hover span {\n",
       "  display: inline-block;\n",
       "  background: var(--xr-background-color);\n",
       "  padding-right: 10px;\n",
       "}\n",
       "\n",
       ".xr-attrs dd {\n",
       "  grid-column: 2;\n",
       "  white-space: pre-wrap;\n",
       "  word-break: break-all;\n",
       "}\n",
       "\n",
       ".xr-icon-database,\n",
       ".xr-icon-file-text2 {\n",
       "  display: inline-block;\n",
       "  vertical-align: middle;\n",
       "  width: 1em;\n",
       "  height: 1.5em !important;\n",
       "  stroke-width: 0;\n",
       "  stroke: currentColor;\n",
       "  fill: currentColor;\n",
       "}\n",
       "</style><pre class='xr-text-repr-fallback'>&lt;xarray.Dataset&gt;\n",
       "Dimensions:  (member: 124, time: 288, step: 3)\n",
       "Coordinates:\n",
       "  * member   (member) int64 0 1 2 3 4 5 6 7 ... 116 117 118 119 120 121 122 123\n",
       "  * time     (time) datetime64[ns] 1993-01-01 1993-02-01 ... 2016-12-01\n",
       "  * step     (step) int64 3 4 5\n",
       "Data variables:\n",
       "    precip   (time, step, member) float64 894.5 1.189e+03 1.165e+03 ... nan nan\n",
       "    mask     float64 1.0</pre><div class='xr-wrap' hidden><div class='xr-header'><div class='xr-obj-type'>xarray.Dataset</div></div><ul class='xr-sections'><li class='xr-section-item'><input id='section-0749f698-e016-42b8-81f2-b183aa67a4e5' class='xr-section-summary-in' type='checkbox' disabled ><label for='section-0749f698-e016-42b8-81f2-b183aa67a4e5' class='xr-section-summary'  title='Expand/collapse section'>Dimensions:</label><div class='xr-section-inline-details'><ul class='xr-dim-list'><li><span class='xr-has-index'>member</span>: 124</li><li><span class='xr-has-index'>time</span>: 288</li><li><span class='xr-has-index'>step</span>: 3</li></ul></div><div class='xr-section-details'></div></li><li class='xr-section-item'><input id='section-550cc9c1-3280-493a-b4ee-1636948a82f2' class='xr-section-summary-in' type='checkbox'  checked><label for='section-550cc9c1-3280-493a-b4ee-1636948a82f2' class='xr-section-summary' >Coordinates: <span>(3)</span></label><div class='xr-section-inline-details'></div><div class='xr-section-details'><ul class='xr-var-list'><li class='xr-var-item'><div class='xr-var-name'><span class='xr-has-index'>member</span></div><div class='xr-var-dims'>(member)</div><div class='xr-var-dtype'>int64</div><div class='xr-var-preview xr-preview'>0 1 2 3 4 5 ... 119 120 121 122 123</div><input id='attrs-e6500979-a905-4644-b913-03f68c82981d' class='xr-var-attrs-in' type='checkbox' ><label for='attrs-e6500979-a905-4644-b913-03f68c82981d' title='Show/Hide attributes'><svg class='icon xr-icon-file-text2'><use xlink:href='#icon-file-text2'></use></svg></label><input id='data-a386698c-b2a7-4075-938d-883a3c1de2fc' class='xr-var-data-in' type='checkbox'><label for='data-a386698c-b2a7-4075-938d-883a3c1de2fc' title='Show/Hide data repr'><svg class='icon xr-icon-database'><use xlink:href='#icon-database'></use></svg></label><div class='xr-var-attrs'><dl class='xr-attrs'><dt><span>long_name :</span></dt><dd>ensemble_member</dd></dl></div><div class='xr-var-data'><pre>array([  0,   1,   2,   3,   4,   5,   6,   7,   8,   9,  10,  11,  12,  13,\n",
       "        14,  15,  16,  17,  18,  19,  20,  21,  22,  23,  24,  25,  26,  27,\n",
       "        28,  29,  30,  31,  32,  33,  34,  35,  36,  37,  38,  39,  40,  41,\n",
       "        42,  43,  44,  45,  46,  47,  48,  49,  50,  51,  52,  53,  54,  55,\n",
       "        56,  57,  58,  59,  60,  61,  62,  63,  64,  65,  66,  67,  68,  69,\n",
       "        70,  71,  72,  73,  74,  75,  76,  77,  78,  79,  80,  81,  82,  83,\n",
       "        84,  85,  86,  87,  88,  89,  90,  91,  92,  93,  94,  95,  96,  97,\n",
       "        98,  99, 100, 101, 102, 103, 104, 105, 106, 107, 108, 109, 110, 111,\n",
       "       112, 113, 114, 115, 116, 117, 118, 119, 120, 121, 122, 123])</pre></div></li><li class='xr-var-item'><div class='xr-var-name'><span class='xr-has-index'>time</span></div><div class='xr-var-dims'>(time)</div><div class='xr-var-dtype'>datetime64[ns]</div><div class='xr-var-preview xr-preview'>1993-01-01 ... 2016-12-01</div><input id='attrs-494711af-d012-4e7f-8b40-05e6b39c07a3' class='xr-var-attrs-in' type='checkbox' disabled><label for='attrs-494711af-d012-4e7f-8b40-05e6b39c07a3' title='Show/Hide attributes'><svg class='icon xr-icon-file-text2'><use xlink:href='#icon-file-text2'></use></svg></label><input id='data-6a1862cc-7bf4-4009-892d-05fa37cfe9b9' class='xr-var-data-in' type='checkbox'><label for='data-6a1862cc-7bf4-4009-892d-05fa37cfe9b9' title='Show/Hide data repr'><svg class='icon xr-icon-database'><use xlink:href='#icon-database'></use></svg></label><div class='xr-var-attrs'><dl class='xr-attrs'></dl></div><div class='xr-var-data'><pre>array([&#x27;1993-01-01T00:00:00.000000000&#x27;, &#x27;1993-02-01T00:00:00.000000000&#x27;,\n",
       "       &#x27;1993-03-01T00:00:00.000000000&#x27;, ..., &#x27;2016-10-01T00:00:00.000000000&#x27;,\n",
       "       &#x27;2016-11-01T00:00:00.000000000&#x27;, &#x27;2016-12-01T00:00:00.000000000&#x27;],\n",
       "      dtype=&#x27;datetime64[ns]&#x27;)</pre></div></li><li class='xr-var-item'><div class='xr-var-name'><span class='xr-has-index'>step</span></div><div class='xr-var-dims'>(step)</div><div class='xr-var-dtype'>int64</div><div class='xr-var-preview xr-preview'>3 4 5</div><input id='attrs-31e3643a-30db-42a1-bfb2-389972edbb63' class='xr-var-attrs-in' type='checkbox' disabled><label for='attrs-31e3643a-30db-42a1-bfb2-389972edbb63' title='Show/Hide attributes'><svg class='icon xr-icon-file-text2'><use xlink:href='#icon-file-text2'></use></svg></label><input id='data-fb4f9bc7-367c-4adb-83ad-56ce4fb06cc0' class='xr-var-data-in' type='checkbox'><label for='data-fb4f9bc7-367c-4adb-83ad-56ce4fb06cc0' title='Show/Hide data repr'><svg class='icon xr-icon-database'><use xlink:href='#icon-database'></use></svg></label><div class='xr-var-attrs'><dl class='xr-attrs'></dl></div><div class='xr-var-data'><pre>array([3, 4, 5])</pre></div></li></ul></div></li><li class='xr-section-item'><input id='section-459f7b42-2b75-4117-9300-807e44bbac18' class='xr-section-summary-in' type='checkbox'  checked><label for='section-459f7b42-2b75-4117-9300-807e44bbac18' class='xr-section-summary' >Data variables: <span>(2)</span></label><div class='xr-section-inline-details'></div><div class='xr-section-details'><ul class='xr-var-list'><li class='xr-var-item'><div class='xr-var-name'><span>precip</span></div><div class='xr-var-dims'>(time, step, member)</div><div class='xr-var-dtype'>float64</div><div class='xr-var-preview xr-preview'>894.5 1.189e+03 ... nan nan</div><input id='attrs-9f4ae99f-6326-4446-b673-c1cc8c3cef07' class='xr-var-attrs-in' type='checkbox' disabled><label for='attrs-9f4ae99f-6326-4446-b673-c1cc8c3cef07' title='Show/Hide attributes'><svg class='icon xr-icon-file-text2'><use xlink:href='#icon-file-text2'></use></svg></label><input id='data-d89efd82-a45a-4dc3-b177-689df76a9d73' class='xr-var-data-in' type='checkbox'><label for='data-d89efd82-a45a-4dc3-b177-689df76a9d73' title='Show/Hide data repr'><svg class='icon xr-icon-database'><use xlink:href='#icon-database'></use></svg></label><div class='xr-var-attrs'><dl class='xr-attrs'></dl></div><div class='xr-var-data'><pre>array([[[ 894.47402284, 1188.98427765, 1164.82333887, ...,\n",
       "                   nan,           nan,           nan],\n",
       "        [ 907.98901286, 1111.46972907, 1079.53496425, ...,\n",
       "                   nan,           nan,           nan],\n",
       "        [ 701.94664824,  933.7881835 ,  779.43282483, ...,\n",
       "                   nan,           nan,           nan]],\n",
       "\n",
       "       [[ 808.94478628,  627.24964411,  998.84245763, ...,\n",
       "                   nan,           nan,           nan],\n",
       "        [ 652.30453234,  584.23507349,  648.94089479, ...,\n",
       "                   nan,           nan,           nan],\n",
       "        [ 625.36134596,  355.96077062,  290.73625521, ...,\n",
       "                   nan,           nan,           nan]],\n",
       "\n",
       "       [[ 656.88982005,  617.79541308,  488.24554213, ...,\n",
       "                   nan,           nan,           nan],\n",
       "        [ 610.38531139,  326.21407724,  457.17342931, ...,\n",
       "                   nan,           nan,           nan],\n",
       "        [ 516.79571821,  227.19947288,  391.58176367, ...,\n",
       "                   nan,           nan,           nan]],\n",
       "...\n",
       "       [[ 722.88839851,  715.5368137 ,  778.75499839, ...,\n",
       "                   nan,           nan,           nan],\n",
       "        [ 659.43742544,  938.8646231 ,  816.45207013, ...,\n",
       "                   nan,           nan,           nan],\n",
       "        [ 840.11938709,  993.29161234,  941.33920688, ...,\n",
       "                   nan,           nan,           nan]],\n",
       "\n",
       "       [[ 877.66183631, 1118.36353668, 1138.50730063, ...,\n",
       "                   nan,           nan,           nan],\n",
       "        [ 953.74279146, 1148.27879954, 1124.38148438, ...,\n",
       "                   nan,           nan,           nan],\n",
       "        [ 964.30667483, 1163.68656448, 1280.92800945, ...,\n",
       "                   nan,           nan,           nan]],\n",
       "\n",
       "       [[1082.21457234, 1024.09242525,  892.48692538, ...,\n",
       "                   nan,           nan,           nan],\n",
       "        [ 927.16829686,  928.95026931, 1030.04887678, ...,\n",
       "                   nan,           nan,           nan],\n",
       "        [ 727.40694686,  897.11363179,  919.09299118, ...,\n",
       "                   nan,           nan,           nan]]])</pre></div></li><li class='xr-var-item'><div class='xr-var-name'><span>mask</span></div><div class='xr-var-dims'>()</div><div class='xr-var-dtype'>float64</div><div class='xr-var-preview xr-preview'>1.0</div><input id='attrs-523f9faf-7f20-47f0-ab42-9590e1e7e9e1' class='xr-var-attrs-in' type='checkbox' disabled><label for='attrs-523f9faf-7f20-47f0-ab42-9590e1e7e9e1' title='Show/Hide attributes'><svg class='icon xr-icon-file-text2'><use xlink:href='#icon-file-text2'></use></svg></label><input id='data-2a1998c0-aa3e-4561-aba3-531a8e52d333' class='xr-var-data-in' type='checkbox'><label for='data-2a1998c0-aa3e-4561-aba3-531a8e52d333' title='Show/Hide data repr'><svg class='icon xr-icon-database'><use xlink:href='#icon-database'></use></svg></label><div class='xr-var-attrs'><dl class='xr-attrs'></dl></div><div class='xr-var-data'><pre>array(1.)</pre></div></li></ul></div></li><li class='xr-section-item'><input id='section-ba82791d-f617-4bae-b5af-139e51edba16' class='xr-section-summary-in' type='checkbox' disabled ><label for='section-ba82791d-f617-4bae-b5af-139e51edba16' class='xr-section-summary'  title='Expand/collapse section'>Attributes: <span>(0)</span></label><div class='xr-section-inline-details'></div><div class='xr-section-details'><dl class='xr-attrs'></dl></div></li></ul></div></div>"
      ],
      "text/plain": [
       "<xarray.Dataset>\n",
       "Dimensions:  (member: 124, time: 288, step: 3)\n",
       "Coordinates:\n",
       "  * member   (member) int64 0 1 2 3 4 5 6 7 ... 116 117 118 119 120 121 122 123\n",
       "  * time     (time) datetime64[ns] 1993-01-01 1993-02-01 ... 2016-12-01\n",
       "  * step     (step) int64 3 4 5\n",
       "Data variables:\n",
       "    precip   (time, step, member) float64 894.5 1.189e+03 1.165e+03 ... nan nan\n",
       "    mask     float64 1.0"
      ]
     },
     "execution_count": 61,
     "metadata": {},
     "output_type": "execute_result"
    }
   ],
   "source": [
    "dset_sub"
   ]
  },
  {
   "cell_type": "code",
   "execution_count": 62,
   "id": "7dece174-c470-4a47-ab3e-1e11960ebc19",
   "metadata": {
    "execution": {
     "iopub.execute_input": "2021-08-20T05:17:41.440744Z",
     "iopub.status.busy": "2021-08-20T05:17:41.440413Z",
     "iopub.status.idle": "2021-08-20T05:17:41.462492Z",
     "shell.execute_reply": "2021-08-20T05:17:41.462766Z"
    },
    "papermill": {
     "duration": 0.14068,
     "end_time": "2021-08-20T05:17:41.462870",
     "exception": false,
     "start_time": "2021-08-20T05:17:41.322190",
     "status": "completed"
    },
    "tags": []
   },
   "outputs": [
    {
     "data": {
      "text/html": [
       "<div><svg style=\"position: absolute; width: 0; height: 0; overflow: hidden\">\n",
       "<defs>\n",
       "<symbol id=\"icon-database\" viewBox=\"0 0 32 32\">\n",
       "<path d=\"M16 0c-8.837 0-16 2.239-16 5v4c0 2.761 7.163 5 16 5s16-2.239 16-5v-4c0-2.761-7.163-5-16-5z\"></path>\n",
       "<path d=\"M16 17c-8.837 0-16-2.239-16-5v6c0 2.761 7.163 5 16 5s16-2.239 16-5v-6c0 2.761-7.163 5-16 5z\"></path>\n",
       "<path d=\"M16 26c-8.837 0-16-2.239-16-5v6c0 2.761 7.163 5 16 5s16-2.239 16-5v-6c0 2.761-7.163 5-16 5z\"></path>\n",
       "</symbol>\n",
       "<symbol id=\"icon-file-text2\" viewBox=\"0 0 32 32\">\n",
       "<path d=\"M28.681 7.159c-0.694-0.947-1.662-2.053-2.724-3.116s-2.169-2.030-3.116-2.724c-1.612-1.182-2.393-1.319-2.841-1.319h-15.5c-1.378 0-2.5 1.121-2.5 2.5v27c0 1.378 1.122 2.5 2.5 2.5h23c1.378 0 2.5-1.122 2.5-2.5v-19.5c0-0.448-0.137-1.23-1.319-2.841zM24.543 5.457c0.959 0.959 1.712 1.825 2.268 2.543h-4.811v-4.811c0.718 0.556 1.584 1.309 2.543 2.268zM28 29.5c0 0.271-0.229 0.5-0.5 0.5h-23c-0.271 0-0.5-0.229-0.5-0.5v-27c0-0.271 0.229-0.5 0.5-0.5 0 0 15.499-0 15.5 0v7c0 0.552 0.448 1 1 1h7v19.5z\"></path>\n",
       "<path d=\"M23 26h-14c-0.552 0-1-0.448-1-1s0.448-1 1-1h14c0.552 0 1 0.448 1 1s-0.448 1-1 1z\"></path>\n",
       "<path d=\"M23 22h-14c-0.552 0-1-0.448-1-1s0.448-1 1-1h14c0.552 0 1 0.448 1 1s-0.448 1-1 1z\"></path>\n",
       "<path d=\"M23 18h-14c-0.552 0-1-0.448-1-1s0.448-1 1-1h14c0.552 0 1 0.448 1 1s-0.448 1-1 1z\"></path>\n",
       "</symbol>\n",
       "</defs>\n",
       "</svg>\n",
       "<style>/* CSS stylesheet for displaying xarray objects in jupyterlab.\n",
       " *\n",
       " */\n",
       "\n",
       ":root {\n",
       "  --xr-font-color0: var(--jp-content-font-color0, rgba(0, 0, 0, 1));\n",
       "  --xr-font-color2: var(--jp-content-font-color2, rgba(0, 0, 0, 0.54));\n",
       "  --xr-font-color3: var(--jp-content-font-color3, rgba(0, 0, 0, 0.38));\n",
       "  --xr-border-color: var(--jp-border-color2, #e0e0e0);\n",
       "  --xr-disabled-color: var(--jp-layout-color3, #bdbdbd);\n",
       "  --xr-background-color: var(--jp-layout-color0, white);\n",
       "  --xr-background-color-row-even: var(--jp-layout-color1, white);\n",
       "  --xr-background-color-row-odd: var(--jp-layout-color2, #eeeeee);\n",
       "}\n",
       "\n",
       "html[theme=dark],\n",
       "body.vscode-dark {\n",
       "  --xr-font-color0: rgba(255, 255, 255, 1);\n",
       "  --xr-font-color2: rgba(255, 255, 255, 0.54);\n",
       "  --xr-font-color3: rgba(255, 255, 255, 0.38);\n",
       "  --xr-border-color: #1F1F1F;\n",
       "  --xr-disabled-color: #515151;\n",
       "  --xr-background-color: #111111;\n",
       "  --xr-background-color-row-even: #111111;\n",
       "  --xr-background-color-row-odd: #313131;\n",
       "}\n",
       "\n",
       ".xr-wrap {\n",
       "  display: block;\n",
       "  min-width: 300px;\n",
       "  max-width: 700px;\n",
       "}\n",
       "\n",
       ".xr-text-repr-fallback {\n",
       "  /* fallback to plain text repr when CSS is not injected (untrusted notebook) */\n",
       "  display: none;\n",
       "}\n",
       "\n",
       ".xr-header {\n",
       "  padding-top: 6px;\n",
       "  padding-bottom: 6px;\n",
       "  margin-bottom: 4px;\n",
       "  border-bottom: solid 1px var(--xr-border-color);\n",
       "}\n",
       "\n",
       ".xr-header > div,\n",
       ".xr-header > ul {\n",
       "  display: inline;\n",
       "  margin-top: 0;\n",
       "  margin-bottom: 0;\n",
       "}\n",
       "\n",
       ".xr-obj-type,\n",
       ".xr-array-name {\n",
       "  margin-left: 2px;\n",
       "  margin-right: 10px;\n",
       "}\n",
       "\n",
       ".xr-obj-type {\n",
       "  color: var(--xr-font-color2);\n",
       "}\n",
       "\n",
       ".xr-sections {\n",
       "  padding-left: 0 !important;\n",
       "  display: grid;\n",
       "  grid-template-columns: 150px auto auto 1fr 20px 20px;\n",
       "}\n",
       "\n",
       ".xr-section-item {\n",
       "  display: contents;\n",
       "}\n",
       "\n",
       ".xr-section-item input {\n",
       "  display: none;\n",
       "}\n",
       "\n",
       ".xr-section-item input + label {\n",
       "  color: var(--xr-disabled-color);\n",
       "}\n",
       "\n",
       ".xr-section-item input:enabled + label {\n",
       "  cursor: pointer;\n",
       "  color: var(--xr-font-color2);\n",
       "}\n",
       "\n",
       ".xr-section-item input:enabled + label:hover {\n",
       "  color: var(--xr-font-color0);\n",
       "}\n",
       "\n",
       ".xr-section-summary {\n",
       "  grid-column: 1;\n",
       "  color: var(--xr-font-color2);\n",
       "  font-weight: 500;\n",
       "}\n",
       "\n",
       ".xr-section-summary > span {\n",
       "  display: inline-block;\n",
       "  padding-left: 0.5em;\n",
       "}\n",
       "\n",
       ".xr-section-summary-in:disabled + label {\n",
       "  color: var(--xr-font-color2);\n",
       "}\n",
       "\n",
       ".xr-section-summary-in + label:before {\n",
       "  display: inline-block;\n",
       "  content: '►';\n",
       "  font-size: 11px;\n",
       "  width: 15px;\n",
       "  text-align: center;\n",
       "}\n",
       "\n",
       ".xr-section-summary-in:disabled + label:before {\n",
       "  color: var(--xr-disabled-color);\n",
       "}\n",
       "\n",
       ".xr-section-summary-in:checked + label:before {\n",
       "  content: '▼';\n",
       "}\n",
       "\n",
       ".xr-section-summary-in:checked + label > span {\n",
       "  display: none;\n",
       "}\n",
       "\n",
       ".xr-section-summary,\n",
       ".xr-section-inline-details {\n",
       "  padding-top: 4px;\n",
       "  padding-bottom: 4px;\n",
       "}\n",
       "\n",
       ".xr-section-inline-details {\n",
       "  grid-column: 2 / -1;\n",
       "}\n",
       "\n",
       ".xr-section-details {\n",
       "  display: none;\n",
       "  grid-column: 1 / -1;\n",
       "  margin-bottom: 5px;\n",
       "}\n",
       "\n",
       ".xr-section-summary-in:checked ~ .xr-section-details {\n",
       "  display: contents;\n",
       "}\n",
       "\n",
       ".xr-array-wrap {\n",
       "  grid-column: 1 / -1;\n",
       "  display: grid;\n",
       "  grid-template-columns: 20px auto;\n",
       "}\n",
       "\n",
       ".xr-array-wrap > label {\n",
       "  grid-column: 1;\n",
       "  vertical-align: top;\n",
       "}\n",
       "\n",
       ".xr-preview {\n",
       "  color: var(--xr-font-color3);\n",
       "}\n",
       "\n",
       ".xr-array-preview,\n",
       ".xr-array-data {\n",
       "  padding: 0 5px !important;\n",
       "  grid-column: 2;\n",
       "}\n",
       "\n",
       ".xr-array-data,\n",
       ".xr-array-in:checked ~ .xr-array-preview {\n",
       "  display: none;\n",
       "}\n",
       "\n",
       ".xr-array-in:checked ~ .xr-array-data,\n",
       ".xr-array-preview {\n",
       "  display: inline-block;\n",
       "}\n",
       "\n",
       ".xr-dim-list {\n",
       "  display: inline-block !important;\n",
       "  list-style: none;\n",
       "  padding: 0 !important;\n",
       "  margin: 0;\n",
       "}\n",
       "\n",
       ".xr-dim-list li {\n",
       "  display: inline-block;\n",
       "  padding: 0;\n",
       "  margin: 0;\n",
       "}\n",
       "\n",
       ".xr-dim-list:before {\n",
       "  content: '(';\n",
       "}\n",
       "\n",
       ".xr-dim-list:after {\n",
       "  content: ')';\n",
       "}\n",
       "\n",
       ".xr-dim-list li:not(:last-child):after {\n",
       "  content: ',';\n",
       "  padding-right: 5px;\n",
       "}\n",
       "\n",
       ".xr-has-index {\n",
       "  font-weight: bold;\n",
       "}\n",
       "\n",
       ".xr-var-list,\n",
       ".xr-var-item {\n",
       "  display: contents;\n",
       "}\n",
       "\n",
       ".xr-var-item > div,\n",
       ".xr-var-item label,\n",
       ".xr-var-item > .xr-var-name span {\n",
       "  background-color: var(--xr-background-color-row-even);\n",
       "  margin-bottom: 0;\n",
       "}\n",
       "\n",
       ".xr-var-item > .xr-var-name:hover span {\n",
       "  padding-right: 5px;\n",
       "}\n",
       "\n",
       ".xr-var-list > li:nth-child(odd) > div,\n",
       ".xr-var-list > li:nth-child(odd) > label,\n",
       ".xr-var-list > li:nth-child(odd) > .xr-var-name span {\n",
       "  background-color: var(--xr-background-color-row-odd);\n",
       "}\n",
       "\n",
       ".xr-var-name {\n",
       "  grid-column: 1;\n",
       "}\n",
       "\n",
       ".xr-var-dims {\n",
       "  grid-column: 2;\n",
       "}\n",
       "\n",
       ".xr-var-dtype {\n",
       "  grid-column: 3;\n",
       "  text-align: right;\n",
       "  color: var(--xr-font-color2);\n",
       "}\n",
       "\n",
       ".xr-var-preview {\n",
       "  grid-column: 4;\n",
       "}\n",
       "\n",
       ".xr-var-name,\n",
       ".xr-var-dims,\n",
       ".xr-var-dtype,\n",
       ".xr-preview,\n",
       ".xr-attrs dt {\n",
       "  white-space: nowrap;\n",
       "  overflow: hidden;\n",
       "  text-overflow: ellipsis;\n",
       "  padding-right: 10px;\n",
       "}\n",
       "\n",
       ".xr-var-name:hover,\n",
       ".xr-var-dims:hover,\n",
       ".xr-var-dtype:hover,\n",
       ".xr-attrs dt:hover {\n",
       "  overflow: visible;\n",
       "  width: auto;\n",
       "  z-index: 1;\n",
       "}\n",
       "\n",
       ".xr-var-attrs,\n",
       ".xr-var-data {\n",
       "  display: none;\n",
       "  background-color: var(--xr-background-color) !important;\n",
       "  padding-bottom: 5px !important;\n",
       "}\n",
       "\n",
       ".xr-var-attrs-in:checked ~ .xr-var-attrs,\n",
       ".xr-var-data-in:checked ~ .xr-var-data {\n",
       "  display: block;\n",
       "}\n",
       "\n",
       ".xr-var-data > table {\n",
       "  float: right;\n",
       "}\n",
       "\n",
       ".xr-var-name span,\n",
       ".xr-var-data,\n",
       ".xr-attrs {\n",
       "  padding-left: 25px !important;\n",
       "}\n",
       "\n",
       ".xr-attrs,\n",
       ".xr-var-attrs,\n",
       ".xr-var-data {\n",
       "  grid-column: 1 / -1;\n",
       "}\n",
       "\n",
       "dl.xr-attrs {\n",
       "  padding: 0;\n",
       "  margin: 0;\n",
       "  display: grid;\n",
       "  grid-template-columns: 125px auto;\n",
       "}\n",
       "\n",
       ".xr-attrs dt,\n",
       ".xr-attrs dd {\n",
       "  padding: 0;\n",
       "  margin: 0;\n",
       "  float: left;\n",
       "  padding-right: 10px;\n",
       "  width: auto;\n",
       "}\n",
       "\n",
       ".xr-attrs dt {\n",
       "  font-weight: normal;\n",
       "  grid-column: 1;\n",
       "}\n",
       "\n",
       ".xr-attrs dt:hover span {\n",
       "  display: inline-block;\n",
       "  background: var(--xr-background-color);\n",
       "  padding-right: 10px;\n",
       "}\n",
       "\n",
       ".xr-attrs dd {\n",
       "  grid-column: 2;\n",
       "  white-space: pre-wrap;\n",
       "  word-break: break-all;\n",
       "}\n",
       "\n",
       ".xr-icon-database,\n",
       ".xr-icon-file-text2 {\n",
       "  display: inline-block;\n",
       "  vertical-align: middle;\n",
       "  width: 1em;\n",
       "  height: 1.5em !important;\n",
       "  stroke-width: 0;\n",
       "  stroke: currentColor;\n",
       "  fill: currentColor;\n",
       "}\n",
       "</style><pre class='xr-text-repr-fallback'>&lt;xarray.Dataset&gt;\n",
       "Dimensions:   (month: 12, quantile: 2, step: 3)\n",
       "Coordinates:\n",
       "  * step      (step) int64 3 4 5\n",
       "  * quantile  (quantile) float64 0.3333 0.6666\n",
       "  * month     (month) int64 1 2 3 4 5 6 7 8 9 10 11 12\n",
       "Data variables:\n",
       "    precip    (month, quantile, step) float64 999.7 850.6 ... 1.096e+03 947.5</pre><div class='xr-wrap' hidden><div class='xr-header'><div class='xr-obj-type'>xarray.Dataset</div></div><ul class='xr-sections'><li class='xr-section-item'><input id='section-6610c0bd-9389-4101-9ec5-0cd236480f81' class='xr-section-summary-in' type='checkbox' disabled ><label for='section-6610c0bd-9389-4101-9ec5-0cd236480f81' class='xr-section-summary'  title='Expand/collapse section'>Dimensions:</label><div class='xr-section-inline-details'><ul class='xr-dim-list'><li><span class='xr-has-index'>month</span>: 12</li><li><span class='xr-has-index'>quantile</span>: 2</li><li><span class='xr-has-index'>step</span>: 3</li></ul></div><div class='xr-section-details'></div></li><li class='xr-section-item'><input id='section-2296a723-8c49-4335-ae19-6b888c8b0535' class='xr-section-summary-in' type='checkbox'  checked><label for='section-2296a723-8c49-4335-ae19-6b888c8b0535' class='xr-section-summary' >Coordinates: <span>(3)</span></label><div class='xr-section-inline-details'></div><div class='xr-section-details'><ul class='xr-var-list'><li class='xr-var-item'><div class='xr-var-name'><span class='xr-has-index'>step</span></div><div class='xr-var-dims'>(step)</div><div class='xr-var-dtype'>int64</div><div class='xr-var-preview xr-preview'>3 4 5</div><input id='attrs-cc995548-bfaa-42a3-a0aa-46d67997501e' class='xr-var-attrs-in' type='checkbox' disabled><label for='attrs-cc995548-bfaa-42a3-a0aa-46d67997501e' title='Show/Hide attributes'><svg class='icon xr-icon-file-text2'><use xlink:href='#icon-file-text2'></use></svg></label><input id='data-bba4c3eb-a9d0-4cdb-9623-30ea0a856adf' class='xr-var-data-in' type='checkbox'><label for='data-bba4c3eb-a9d0-4cdb-9623-30ea0a856adf' title='Show/Hide data repr'><svg class='icon xr-icon-database'><use xlink:href='#icon-database'></use></svg></label><div class='xr-var-attrs'><dl class='xr-attrs'></dl></div><div class='xr-var-data'><pre>array([3, 4, 5])</pre></div></li><li class='xr-var-item'><div class='xr-var-name'><span class='xr-has-index'>quantile</span></div><div class='xr-var-dims'>(quantile)</div><div class='xr-var-dtype'>float64</div><div class='xr-var-preview xr-preview'>0.3333 0.6666</div><input id='attrs-c84f01bf-0c79-4646-a7cf-f39fae71873f' class='xr-var-attrs-in' type='checkbox' disabled><label for='attrs-c84f01bf-0c79-4646-a7cf-f39fae71873f' title='Show/Hide attributes'><svg class='icon xr-icon-file-text2'><use xlink:href='#icon-file-text2'></use></svg></label><input id='data-cc597872-c433-4267-8f8b-a7288468267c' class='xr-var-data-in' type='checkbox'><label for='data-cc597872-c433-4267-8f8b-a7288468267c' title='Show/Hide data repr'><svg class='icon xr-icon-database'><use xlink:href='#icon-database'></use></svg></label><div class='xr-var-attrs'><dl class='xr-attrs'></dl></div><div class='xr-var-data'><pre>array([0.3333, 0.6666])</pre></div></li><li class='xr-var-item'><div class='xr-var-name'><span class='xr-has-index'>month</span></div><div class='xr-var-dims'>(month)</div><div class='xr-var-dtype'>int64</div><div class='xr-var-preview xr-preview'>1 2 3 4 5 6 7 8 9 10 11 12</div><input id='attrs-23310bd5-57f7-4efd-9a28-bacf86503ea4' class='xr-var-attrs-in' type='checkbox' disabled><label for='attrs-23310bd5-57f7-4efd-9a28-bacf86503ea4' title='Show/Hide attributes'><svg class='icon xr-icon-file-text2'><use xlink:href='#icon-file-text2'></use></svg></label><input id='data-d7408c3b-bc5e-4f81-83ee-c8394f6be545' class='xr-var-data-in' type='checkbox'><label for='data-d7408c3b-bc5e-4f81-83ee-c8394f6be545' title='Show/Hide data repr'><svg class='icon xr-icon-database'><use xlink:href='#icon-database'></use></svg></label><div class='xr-var-attrs'><dl class='xr-attrs'></dl></div><div class='xr-var-data'><pre>array([ 1,  2,  3,  4,  5,  6,  7,  8,  9, 10, 11, 12])</pre></div></li></ul></div></li><li class='xr-section-item'><input id='section-5e05a7f7-8ed3-4ea8-8c32-f8d458d5a305' class='xr-section-summary-in' type='checkbox'  checked><label for='section-5e05a7f7-8ed3-4ea8-8c32-f8d458d5a305' class='xr-section-summary' >Data variables: <span>(1)</span></label><div class='xr-section-inline-details'></div><div class='xr-section-details'><ul class='xr-var-list'><li class='xr-var-item'><div class='xr-var-name'><span>precip</span></div><div class='xr-var-dims'>(month, quantile, step)</div><div class='xr-var-dtype'>float64</div><div class='xr-var-preview xr-preview'>999.7 850.6 ... 1.096e+03 947.5</div><input id='attrs-224b852c-4b04-4d36-a449-72caeedc637a' class='xr-var-attrs-in' type='checkbox' disabled><label for='attrs-224b852c-4b04-4d36-a449-72caeedc637a' title='Show/Hide attributes'><svg class='icon xr-icon-file-text2'><use xlink:href='#icon-file-text2'></use></svg></label><input id='data-537b27c8-c714-43c0-bfbf-7d43f7421717' class='xr-var-data-in' type='checkbox'><label for='data-537b27c8-c714-43c0-bfbf-7d43f7421717' title='Show/Hide data repr'><svg class='icon xr-icon-database'><use xlink:href='#icon-database'></use></svg></label><div class='xr-var-attrs'><dl class='xr-attrs'></dl></div><div class='xr-var-data'><pre>array([[[ 999.67139977,  850.58624718,  618.39189299],\n",
       "        [1121.3900899 ,  961.0373754 ,  735.50079738]],\n",
       "\n",
       "       [[ 821.12163751,  615.55609677,  428.38000921],\n",
       "        [ 955.25969831,  719.88312521,  557.48285809]],\n",
       "\n",
       "       [[ 565.39340531,  399.84041427,  327.09104587],\n",
       "        [ 684.07460249,  534.68157848,  474.05660018]],\n",
       "\n",
       "       [[ 411.69215569,  315.84496641,  304.08430736],\n",
       "        [ 535.36832555,  485.07441067,  523.02912443]],\n",
       "\n",
       "       [[ 452.15464368,  466.68763185,  503.32057585],\n",
       "        [ 609.54244278,  652.63516918,  694.83925956]],\n",
       "\n",
       "       [[ 597.19816511,  612.4477016 ,  596.20378519],\n",
       "        [ 717.75344099,  753.02947419,  742.24166032]],\n",
       "\n",
       "       [[ 568.46734056,  565.40906608,  591.62348827],\n",
       "        [ 728.70415929,  727.40470295,  770.71424248]],\n",
       "\n",
       "       [[ 529.3692985 ,  572.72844805,  731.30528774],\n",
       "        [ 701.06977757,  740.36077685,  863.53014471]],\n",
       "\n",
       "       [[ 521.69657905,  710.28287926,  899.86130539],\n",
       "        [ 706.90470677,  852.54278153, 1015.85878063]],\n",
       "\n",
       "       [[ 703.31592831,  912.15985471, 1032.79458564],\n",
       "        [ 815.30534006, 1002.66460618, 1121.88002699]],\n",
       "\n",
       "       [[ 932.1927984 , 1054.97049878,  974.23472839],\n",
       "        [1027.81360083, 1160.62059285, 1088.51367365]],\n",
       "\n",
       "       [[1048.98420356,  979.69711818,  833.01492574],\n",
       "        [1169.61471863, 1096.09586818,  947.52318046]]])</pre></div></li></ul></div></li><li class='xr-section-item'><input id='section-0f5c5ac0-b678-44a4-8858-24aa624fce31' class='xr-section-summary-in' type='checkbox' disabled ><label for='section-0f5c5ac0-b678-44a4-8858-24aa624fce31' class='xr-section-summary'  title='Expand/collapse section'>Attributes: <span>(0)</span></label><div class='xr-section-inline-details'></div><div class='xr-section-details'><dl class='xr-attrs'></dl></div></li></ul></div></div>"
      ],
      "text/plain": [
       "<xarray.Dataset>\n",
       "Dimensions:   (month: 12, quantile: 2, step: 3)\n",
       "Coordinates:\n",
       "  * step      (step) int64 3 4 5\n",
       "  * quantile  (quantile) float64 0.3333 0.6666\n",
       "  * month     (month) int64 1 2 3 4 5 6 7 8 9 10 11 12\n",
       "Data variables:\n",
       "    precip    (month, quantile, step) float64 999.7 850.6 ... 1.096e+03 947.5"
      ]
     },
     "execution_count": 62,
     "metadata": {},
     "output_type": "execute_result"
    }
   ],
   "source": [
    "clim_p"
   ]
  },
  {
   "cell_type": "markdown",
   "id": "2317be47-2cf0-44d5-b113-43f032c88c62",
   "metadata": {
    "papermill": {
     "duration": 0.117171,
     "end_time": "2021-08-20T05:17:41.699753",
     "exception": false,
     "start_time": "2021-08-20T05:17:41.582582",
     "status": "completed"
    },
    "tags": []
   },
   "source": [
    "### need to save the climatologies "
   ]
  },
  {
   "cell_type": "markdown",
   "id": "ce771f35-bb78-4aa7-a8aa-fcecfcb91738",
   "metadata": {
    "papermill": {
     "duration": 0.117528,
     "end_time": "2021-08-20T05:17:41.933955",
     "exception": false,
     "start_time": "2021-08-20T05:17:41.816427",
     "status": "completed"
    },
    "tags": []
   },
   "source": [
    "### digitize: each member is given a category depending on the percentile bins defined earlier "
   ]
  },
  {
   "cell_type": "code",
   "execution_count": 63,
   "id": "bb9bd289-fa05-4f91-a164-a99738bafa8e",
   "metadata": {
    "execution": {
     "iopub.execute_input": "2021-08-20T05:17:42.172801Z",
     "iopub.status.busy": "2021-08-20T05:17:42.172454Z",
     "iopub.status.idle": "2021-08-20T05:17:42.344402Z",
     "shell.execute_reply": "2021-08-20T05:17:42.344089Z"
    },
    "papermill": {
     "duration": 0.291915,
     "end_time": "2021-08-20T05:17:42.344491",
     "exception": false,
     "start_time": "2021-08-20T05:17:42.052576",
     "status": "completed"
    },
    "tags": []
   },
   "outputs": [],
   "source": [
    "dset_cat = []\n",
    "\n",
    "for month in np.arange(12) + 1: \n",
    "    \n",
    "    x = dset_sub.sel(time=(dset_sub.time.dt.month == month))\n",
    "    \n",
    "    # drop the missing members \n",
    "    \n",
    "    x = x.dropna('member')\n",
    "    \n",
    "    # digitize\n",
    "\n",
    "    qc = C3S.get_GCM_category_digitize(x, clim_p.sel(month=month), varname='precip', dim='quantile')\n",
    "    \n",
    "    dset_cat.append(qc)"
   ]
  },
  {
   "cell_type": "markdown",
   "id": "b437fbb7-74ee-4096-97a3-65ae337ff13d",
   "metadata": {
    "papermill": {
     "duration": 0.119377,
     "end_time": "2021-08-20T05:17:42.582252",
     "exception": false,
     "start_time": "2021-08-20T05:17:42.462875",
     "status": "completed"
    },
    "tags": []
   },
   "source": [
    "### concatenates over the time dimension and reorder "
   ]
  },
  {
   "cell_type": "code",
   "execution_count": 64,
   "id": "c0af82b2-e8bf-44f5-b268-6649ee5d5e45",
   "metadata": {
    "execution": {
     "iopub.execute_input": "2021-08-20T05:17:42.819890Z",
     "iopub.status.busy": "2021-08-20T05:17:42.819557Z",
     "iopub.status.idle": "2021-08-20T05:17:42.847538Z",
     "shell.execute_reply": "2021-08-20T05:17:42.847813Z"
    },
    "papermill": {
     "duration": 0.147488,
     "end_time": "2021-08-20T05:17:42.847917",
     "exception": false,
     "start_time": "2021-08-20T05:17:42.700429",
     "status": "completed"
    },
    "tags": []
   },
   "outputs": [],
   "source": [
    "dset_cat = xr.concat(dset_cat, dim='time')\n",
    "dset_cat = dset_cat.sortby('time')"
   ]
  },
  {
   "cell_type": "code",
   "execution_count": 65,
   "id": "023deebb-4ded-485a-a5fa-36f35a678c12",
   "metadata": {
    "execution": {
     "iopub.execute_input": "2021-08-20T05:17:43.091296Z",
     "iopub.status.busy": "2021-08-20T05:17:43.090966Z",
     "iopub.status.idle": "2021-08-20T05:17:43.116764Z",
     "shell.execute_reply": "2021-08-20T05:17:43.116431Z"
    },
    "papermill": {
     "duration": 0.151891,
     "end_time": "2021-08-20T05:17:43.116843",
     "exception": false,
     "start_time": "2021-08-20T05:17:42.964952",
     "status": "completed"
    },
    "tags": []
   },
   "outputs": [
    {
     "data": {
      "text/html": [
       "<div><svg style=\"position: absolute; width: 0; height: 0; overflow: hidden\">\n",
       "<defs>\n",
       "<symbol id=\"icon-database\" viewBox=\"0 0 32 32\">\n",
       "<path d=\"M16 0c-8.837 0-16 2.239-16 5v4c0 2.761 7.163 5 16 5s16-2.239 16-5v-4c0-2.761-7.163-5-16-5z\"></path>\n",
       "<path d=\"M16 17c-8.837 0-16-2.239-16-5v6c0 2.761 7.163 5 16 5s16-2.239 16-5v-6c0 2.761-7.163 5-16 5z\"></path>\n",
       "<path d=\"M16 26c-8.837 0-16-2.239-16-5v6c0 2.761 7.163 5 16 5s16-2.239 16-5v-6c0 2.761-7.163 5-16 5z\"></path>\n",
       "</symbol>\n",
       "<symbol id=\"icon-file-text2\" viewBox=\"0 0 32 32\">\n",
       "<path d=\"M28.681 7.159c-0.694-0.947-1.662-2.053-2.724-3.116s-2.169-2.030-3.116-2.724c-1.612-1.182-2.393-1.319-2.841-1.319h-15.5c-1.378 0-2.5 1.121-2.5 2.5v27c0 1.378 1.122 2.5 2.5 2.5h23c1.378 0 2.5-1.122 2.5-2.5v-19.5c0-0.448-0.137-1.23-1.319-2.841zM24.543 5.457c0.959 0.959 1.712 1.825 2.268 2.543h-4.811v-4.811c0.718 0.556 1.584 1.309 2.543 2.268zM28 29.5c0 0.271-0.229 0.5-0.5 0.5h-23c-0.271 0-0.5-0.229-0.5-0.5v-27c0-0.271 0.229-0.5 0.5-0.5 0 0 15.499-0 15.5 0v7c0 0.552 0.448 1 1 1h7v19.5z\"></path>\n",
       "<path d=\"M23 26h-14c-0.552 0-1-0.448-1-1s0.448-1 1-1h14c0.552 0 1 0.448 1 1s-0.448 1-1 1z\"></path>\n",
       "<path d=\"M23 22h-14c-0.552 0-1-0.448-1-1s0.448-1 1-1h14c0.552 0 1 0.448 1 1s-0.448 1-1 1z\"></path>\n",
       "<path d=\"M23 18h-14c-0.552 0-1-0.448-1-1s0.448-1 1-1h14c0.552 0 1 0.448 1 1s-0.448 1-1 1z\"></path>\n",
       "</symbol>\n",
       "</defs>\n",
       "</svg>\n",
       "<style>/* CSS stylesheet for displaying xarray objects in jupyterlab.\n",
       " *\n",
       " */\n",
       "\n",
       ":root {\n",
       "  --xr-font-color0: var(--jp-content-font-color0, rgba(0, 0, 0, 1));\n",
       "  --xr-font-color2: var(--jp-content-font-color2, rgba(0, 0, 0, 0.54));\n",
       "  --xr-font-color3: var(--jp-content-font-color3, rgba(0, 0, 0, 0.38));\n",
       "  --xr-border-color: var(--jp-border-color2, #e0e0e0);\n",
       "  --xr-disabled-color: var(--jp-layout-color3, #bdbdbd);\n",
       "  --xr-background-color: var(--jp-layout-color0, white);\n",
       "  --xr-background-color-row-even: var(--jp-layout-color1, white);\n",
       "  --xr-background-color-row-odd: var(--jp-layout-color2, #eeeeee);\n",
       "}\n",
       "\n",
       "html[theme=dark],\n",
       "body.vscode-dark {\n",
       "  --xr-font-color0: rgba(255, 255, 255, 1);\n",
       "  --xr-font-color2: rgba(255, 255, 255, 0.54);\n",
       "  --xr-font-color3: rgba(255, 255, 255, 0.38);\n",
       "  --xr-border-color: #1F1F1F;\n",
       "  --xr-disabled-color: #515151;\n",
       "  --xr-background-color: #111111;\n",
       "  --xr-background-color-row-even: #111111;\n",
       "  --xr-background-color-row-odd: #313131;\n",
       "}\n",
       "\n",
       ".xr-wrap {\n",
       "  display: block;\n",
       "  min-width: 300px;\n",
       "  max-width: 700px;\n",
       "}\n",
       "\n",
       ".xr-text-repr-fallback {\n",
       "  /* fallback to plain text repr when CSS is not injected (untrusted notebook) */\n",
       "  display: none;\n",
       "}\n",
       "\n",
       ".xr-header {\n",
       "  padding-top: 6px;\n",
       "  padding-bottom: 6px;\n",
       "  margin-bottom: 4px;\n",
       "  border-bottom: solid 1px var(--xr-border-color);\n",
       "}\n",
       "\n",
       ".xr-header > div,\n",
       ".xr-header > ul {\n",
       "  display: inline;\n",
       "  margin-top: 0;\n",
       "  margin-bottom: 0;\n",
       "}\n",
       "\n",
       ".xr-obj-type,\n",
       ".xr-array-name {\n",
       "  margin-left: 2px;\n",
       "  margin-right: 10px;\n",
       "}\n",
       "\n",
       ".xr-obj-type {\n",
       "  color: var(--xr-font-color2);\n",
       "}\n",
       "\n",
       ".xr-sections {\n",
       "  padding-left: 0 !important;\n",
       "  display: grid;\n",
       "  grid-template-columns: 150px auto auto 1fr 20px 20px;\n",
       "}\n",
       "\n",
       ".xr-section-item {\n",
       "  display: contents;\n",
       "}\n",
       "\n",
       ".xr-section-item input {\n",
       "  display: none;\n",
       "}\n",
       "\n",
       ".xr-section-item input + label {\n",
       "  color: var(--xr-disabled-color);\n",
       "}\n",
       "\n",
       ".xr-section-item input:enabled + label {\n",
       "  cursor: pointer;\n",
       "  color: var(--xr-font-color2);\n",
       "}\n",
       "\n",
       ".xr-section-item input:enabled + label:hover {\n",
       "  color: var(--xr-font-color0);\n",
       "}\n",
       "\n",
       ".xr-section-summary {\n",
       "  grid-column: 1;\n",
       "  color: var(--xr-font-color2);\n",
       "  font-weight: 500;\n",
       "}\n",
       "\n",
       ".xr-section-summary > span {\n",
       "  display: inline-block;\n",
       "  padding-left: 0.5em;\n",
       "}\n",
       "\n",
       ".xr-section-summary-in:disabled + label {\n",
       "  color: var(--xr-font-color2);\n",
       "}\n",
       "\n",
       ".xr-section-summary-in + label:before {\n",
       "  display: inline-block;\n",
       "  content: '►';\n",
       "  font-size: 11px;\n",
       "  width: 15px;\n",
       "  text-align: center;\n",
       "}\n",
       "\n",
       ".xr-section-summary-in:disabled + label:before {\n",
       "  color: var(--xr-disabled-color);\n",
       "}\n",
       "\n",
       ".xr-section-summary-in:checked + label:before {\n",
       "  content: '▼';\n",
       "}\n",
       "\n",
       ".xr-section-summary-in:checked + label > span {\n",
       "  display: none;\n",
       "}\n",
       "\n",
       ".xr-section-summary,\n",
       ".xr-section-inline-details {\n",
       "  padding-top: 4px;\n",
       "  padding-bottom: 4px;\n",
       "}\n",
       "\n",
       ".xr-section-inline-details {\n",
       "  grid-column: 2 / -1;\n",
       "}\n",
       "\n",
       ".xr-section-details {\n",
       "  display: none;\n",
       "  grid-column: 1 / -1;\n",
       "  margin-bottom: 5px;\n",
       "}\n",
       "\n",
       ".xr-section-summary-in:checked ~ .xr-section-details {\n",
       "  display: contents;\n",
       "}\n",
       "\n",
       ".xr-array-wrap {\n",
       "  grid-column: 1 / -1;\n",
       "  display: grid;\n",
       "  grid-template-columns: 20px auto;\n",
       "}\n",
       "\n",
       ".xr-array-wrap > label {\n",
       "  grid-column: 1;\n",
       "  vertical-align: top;\n",
       "}\n",
       "\n",
       ".xr-preview {\n",
       "  color: var(--xr-font-color3);\n",
       "}\n",
       "\n",
       ".xr-array-preview,\n",
       ".xr-array-data {\n",
       "  padding: 0 5px !important;\n",
       "  grid-column: 2;\n",
       "}\n",
       "\n",
       ".xr-array-data,\n",
       ".xr-array-in:checked ~ .xr-array-preview {\n",
       "  display: none;\n",
       "}\n",
       "\n",
       ".xr-array-in:checked ~ .xr-array-data,\n",
       ".xr-array-preview {\n",
       "  display: inline-block;\n",
       "}\n",
       "\n",
       ".xr-dim-list {\n",
       "  display: inline-block !important;\n",
       "  list-style: none;\n",
       "  padding: 0 !important;\n",
       "  margin: 0;\n",
       "}\n",
       "\n",
       ".xr-dim-list li {\n",
       "  display: inline-block;\n",
       "  padding: 0;\n",
       "  margin: 0;\n",
       "}\n",
       "\n",
       ".xr-dim-list:before {\n",
       "  content: '(';\n",
       "}\n",
       "\n",
       ".xr-dim-list:after {\n",
       "  content: ')';\n",
       "}\n",
       "\n",
       ".xr-dim-list li:not(:last-child):after {\n",
       "  content: ',';\n",
       "  padding-right: 5px;\n",
       "}\n",
       "\n",
       ".xr-has-index {\n",
       "  font-weight: bold;\n",
       "}\n",
       "\n",
       ".xr-var-list,\n",
       ".xr-var-item {\n",
       "  display: contents;\n",
       "}\n",
       "\n",
       ".xr-var-item > div,\n",
       ".xr-var-item label,\n",
       ".xr-var-item > .xr-var-name span {\n",
       "  background-color: var(--xr-background-color-row-even);\n",
       "  margin-bottom: 0;\n",
       "}\n",
       "\n",
       ".xr-var-item > .xr-var-name:hover span {\n",
       "  padding-right: 5px;\n",
       "}\n",
       "\n",
       ".xr-var-list > li:nth-child(odd) > div,\n",
       ".xr-var-list > li:nth-child(odd) > label,\n",
       ".xr-var-list > li:nth-child(odd) > .xr-var-name span {\n",
       "  background-color: var(--xr-background-color-row-odd);\n",
       "}\n",
       "\n",
       ".xr-var-name {\n",
       "  grid-column: 1;\n",
       "}\n",
       "\n",
       ".xr-var-dims {\n",
       "  grid-column: 2;\n",
       "}\n",
       "\n",
       ".xr-var-dtype {\n",
       "  grid-column: 3;\n",
       "  text-align: right;\n",
       "  color: var(--xr-font-color2);\n",
       "}\n",
       "\n",
       ".xr-var-preview {\n",
       "  grid-column: 4;\n",
       "}\n",
       "\n",
       ".xr-var-name,\n",
       ".xr-var-dims,\n",
       ".xr-var-dtype,\n",
       ".xr-preview,\n",
       ".xr-attrs dt {\n",
       "  white-space: nowrap;\n",
       "  overflow: hidden;\n",
       "  text-overflow: ellipsis;\n",
       "  padding-right: 10px;\n",
       "}\n",
       "\n",
       ".xr-var-name:hover,\n",
       ".xr-var-dims:hover,\n",
       ".xr-var-dtype:hover,\n",
       ".xr-attrs dt:hover {\n",
       "  overflow: visible;\n",
       "  width: auto;\n",
       "  z-index: 1;\n",
       "}\n",
       "\n",
       ".xr-var-attrs,\n",
       ".xr-var-data {\n",
       "  display: none;\n",
       "  background-color: var(--xr-background-color) !important;\n",
       "  padding-bottom: 5px !important;\n",
       "}\n",
       "\n",
       ".xr-var-attrs-in:checked ~ .xr-var-attrs,\n",
       ".xr-var-data-in:checked ~ .xr-var-data {\n",
       "  display: block;\n",
       "}\n",
       "\n",
       ".xr-var-data > table {\n",
       "  float: right;\n",
       "}\n",
       "\n",
       ".xr-var-name span,\n",
       ".xr-var-data,\n",
       ".xr-attrs {\n",
       "  padding-left: 25px !important;\n",
       "}\n",
       "\n",
       ".xr-attrs,\n",
       ".xr-var-attrs,\n",
       ".xr-var-data {\n",
       "  grid-column: 1 / -1;\n",
       "}\n",
       "\n",
       "dl.xr-attrs {\n",
       "  padding: 0;\n",
       "  margin: 0;\n",
       "  display: grid;\n",
       "  grid-template-columns: 125px auto;\n",
       "}\n",
       "\n",
       ".xr-attrs dt,\n",
       ".xr-attrs dd {\n",
       "  padding: 0;\n",
       "  margin: 0;\n",
       "  float: left;\n",
       "  padding-right: 10px;\n",
       "  width: auto;\n",
       "}\n",
       "\n",
       ".xr-attrs dt {\n",
       "  font-weight: normal;\n",
       "  grid-column: 1;\n",
       "}\n",
       "\n",
       ".xr-attrs dt:hover span {\n",
       "  display: inline-block;\n",
       "  background: var(--xr-background-color);\n",
       "  padding-right: 10px;\n",
       "}\n",
       "\n",
       ".xr-attrs dd {\n",
       "  grid-column: 2;\n",
       "  white-space: pre-wrap;\n",
       "  word-break: break-all;\n",
       "}\n",
       "\n",
       ".xr-icon-database,\n",
       ".xr-icon-file-text2 {\n",
       "  display: inline-block;\n",
       "  vertical-align: middle;\n",
       "  width: 1em;\n",
       "  height: 1.5em !important;\n",
       "  stroke-width: 0;\n",
       "  stroke: currentColor;\n",
       "  fill: currentColor;\n",
       "}\n",
       "</style><pre class='xr-text-repr-fallback'>&lt;xarray.Dataset&gt;\n",
       "Dimensions:  (member: 28, time: 288, step: 3)\n",
       "Coordinates:\n",
       "  * member   (member) int64 0 1 2 3 4 5 6 7 8 9 ... 19 20 21 22 23 24 25 26 27\n",
       "  * time     (time) datetime64[ns] 1993-01-01 1993-02-01 ... 2016-12-01\n",
       "  * step     (step) int64 3 4 5\n",
       "    month    (time) int64 1 2 3 4 5 6 7 8 9 10 11 ... 2 3 4 5 6 7 8 9 10 11 12\n",
       "Data variables:\n",
       "    precip   (time, step, member) float64 1.0 3.0 3.0 1.0 ... nan nan nan nan</pre><div class='xr-wrap' hidden><div class='xr-header'><div class='xr-obj-type'>xarray.Dataset</div></div><ul class='xr-sections'><li class='xr-section-item'><input id='section-e8154e0f-8a29-4d54-a4b2-119d11fd5423' class='xr-section-summary-in' type='checkbox' disabled ><label for='section-e8154e0f-8a29-4d54-a4b2-119d11fd5423' class='xr-section-summary'  title='Expand/collapse section'>Dimensions:</label><div class='xr-section-inline-details'><ul class='xr-dim-list'><li><span class='xr-has-index'>member</span>: 28</li><li><span class='xr-has-index'>time</span>: 288</li><li><span class='xr-has-index'>step</span>: 3</li></ul></div><div class='xr-section-details'></div></li><li class='xr-section-item'><input id='section-25fc91c4-57ef-430f-81a8-ec4a40f543cd' class='xr-section-summary-in' type='checkbox'  checked><label for='section-25fc91c4-57ef-430f-81a8-ec4a40f543cd' class='xr-section-summary' >Coordinates: <span>(4)</span></label><div class='xr-section-inline-details'></div><div class='xr-section-details'><ul class='xr-var-list'><li class='xr-var-item'><div class='xr-var-name'><span class='xr-has-index'>member</span></div><div class='xr-var-dims'>(member)</div><div class='xr-var-dtype'>int64</div><div class='xr-var-preview xr-preview'>0 1 2 3 4 5 6 ... 22 23 24 25 26 27</div><input id='attrs-69d3944e-096f-4bbb-8b2f-ffe511c604e5' class='xr-var-attrs-in' type='checkbox' disabled><label for='attrs-69d3944e-096f-4bbb-8b2f-ffe511c604e5' title='Show/Hide attributes'><svg class='icon xr-icon-file-text2'><use xlink:href='#icon-file-text2'></use></svg></label><input id='data-43a7be62-3220-4a4f-a032-aaa3399f3417' class='xr-var-data-in' type='checkbox'><label for='data-43a7be62-3220-4a4f-a032-aaa3399f3417' title='Show/Hide data repr'><svg class='icon xr-icon-database'><use xlink:href='#icon-database'></use></svg></label><div class='xr-var-attrs'><dl class='xr-attrs'></dl></div><div class='xr-var-data'><pre>array([ 0,  1,  2,  3,  4,  5,  6,  7,  8,  9, 10, 11, 12, 13, 14, 15, 16, 17,\n",
       "       18, 19, 20, 21, 22, 23, 24, 25, 26, 27])</pre></div></li><li class='xr-var-item'><div class='xr-var-name'><span class='xr-has-index'>time</span></div><div class='xr-var-dims'>(time)</div><div class='xr-var-dtype'>datetime64[ns]</div><div class='xr-var-preview xr-preview'>1993-01-01 ... 2016-12-01</div><input id='attrs-e6fce0b8-e5b2-4c42-baf5-e782ee671340' class='xr-var-attrs-in' type='checkbox' disabled><label for='attrs-e6fce0b8-e5b2-4c42-baf5-e782ee671340' title='Show/Hide attributes'><svg class='icon xr-icon-file-text2'><use xlink:href='#icon-file-text2'></use></svg></label><input id='data-92b0c0e0-de44-422c-b8a0-904908df79ac' class='xr-var-data-in' type='checkbox'><label for='data-92b0c0e0-de44-422c-b8a0-904908df79ac' title='Show/Hide data repr'><svg class='icon xr-icon-database'><use xlink:href='#icon-database'></use></svg></label><div class='xr-var-attrs'><dl class='xr-attrs'></dl></div><div class='xr-var-data'><pre>array([&#x27;1993-01-01T00:00:00.000000000&#x27;, &#x27;1993-02-01T00:00:00.000000000&#x27;,\n",
       "       &#x27;1993-03-01T00:00:00.000000000&#x27;, ..., &#x27;2016-10-01T00:00:00.000000000&#x27;,\n",
       "       &#x27;2016-11-01T00:00:00.000000000&#x27;, &#x27;2016-12-01T00:00:00.000000000&#x27;],\n",
       "      dtype=&#x27;datetime64[ns]&#x27;)</pre></div></li><li class='xr-var-item'><div class='xr-var-name'><span class='xr-has-index'>step</span></div><div class='xr-var-dims'>(step)</div><div class='xr-var-dtype'>int64</div><div class='xr-var-preview xr-preview'>3 4 5</div><input id='attrs-1439403c-e733-42fe-8063-bd2ddd09f34b' class='xr-var-attrs-in' type='checkbox' disabled><label for='attrs-1439403c-e733-42fe-8063-bd2ddd09f34b' title='Show/Hide attributes'><svg class='icon xr-icon-file-text2'><use xlink:href='#icon-file-text2'></use></svg></label><input id='data-7bb7be43-b97d-47f5-8d71-a0c29c1d58d8' class='xr-var-data-in' type='checkbox'><label for='data-7bb7be43-b97d-47f5-8d71-a0c29c1d58d8' title='Show/Hide data repr'><svg class='icon xr-icon-database'><use xlink:href='#icon-database'></use></svg></label><div class='xr-var-attrs'><dl class='xr-attrs'></dl></div><div class='xr-var-data'><pre>array([3, 4, 5])</pre></div></li><li class='xr-var-item'><div class='xr-var-name'><span>month</span></div><div class='xr-var-dims'>(time)</div><div class='xr-var-dtype'>int64</div><div class='xr-var-preview xr-preview'>1 2 3 4 5 6 7 ... 6 7 8 9 10 11 12</div><input id='attrs-0d7e55dd-7b90-4b81-9d55-d0ecd7c3f69b' class='xr-var-attrs-in' type='checkbox' disabled><label for='attrs-0d7e55dd-7b90-4b81-9d55-d0ecd7c3f69b' title='Show/Hide attributes'><svg class='icon xr-icon-file-text2'><use xlink:href='#icon-file-text2'></use></svg></label><input id='data-fd68d91c-dd63-4610-9cfe-081acde80079' class='xr-var-data-in' type='checkbox'><label for='data-fd68d91c-dd63-4610-9cfe-081acde80079' title='Show/Hide data repr'><svg class='icon xr-icon-database'><use xlink:href='#icon-database'></use></svg></label><div class='xr-var-attrs'><dl class='xr-attrs'></dl></div><div class='xr-var-data'><pre>array([ 1,  2,  3,  4,  5,  6,  7,  8,  9, 10, 11, 12,  1,  2,  3,  4,  5,\n",
       "        6,  7,  8,  9, 10, 11, 12,  1,  2,  3,  4,  5,  6,  7,  8,  9, 10,\n",
       "       11, 12,  1,  2,  3,  4,  5,  6,  7,  8,  9, 10, 11, 12,  1,  2,  3,\n",
       "        4,  5,  6,  7,  8,  9, 10, 11, 12,  1,  2,  3,  4,  5,  6,  7,  8,\n",
       "        9, 10, 11, 12,  1,  2,  3,  4,  5,  6,  7,  8,  9, 10, 11, 12,  1,\n",
       "        2,  3,  4,  5,  6,  7,  8,  9, 10, 11, 12,  1,  2,  3,  4,  5,  6,\n",
       "        7,  8,  9, 10, 11, 12,  1,  2,  3,  4,  5,  6,  7,  8,  9, 10, 11,\n",
       "       12,  1,  2,  3,  4,  5,  6,  7,  8,  9, 10, 11, 12,  1,  2,  3,  4,\n",
       "        5,  6,  7,  8,  9, 10, 11, 12,  1,  2,  3,  4,  5,  6,  7,  8,  9,\n",
       "       10, 11, 12,  1,  2,  3,  4,  5,  6,  7,  8,  9, 10, 11, 12,  1,  2,\n",
       "        3,  4,  5,  6,  7,  8,  9, 10, 11, 12,  1,  2,  3,  4,  5,  6,  7,\n",
       "        8,  9, 10, 11, 12,  1,  2,  3,  4,  5,  6,  7,  8,  9, 10, 11, 12,\n",
       "        1,  2,  3,  4,  5,  6,  7,  8,  9, 10, 11, 12,  1,  2,  3,  4,  5,\n",
       "        6,  7,  8,  9, 10, 11, 12,  1,  2,  3,  4,  5,  6,  7,  8,  9, 10,\n",
       "       11, 12,  1,  2,  3,  4,  5,  6,  7,  8,  9, 10, 11, 12,  1,  2,  3,\n",
       "        4,  5,  6,  7,  8,  9, 10, 11, 12,  1,  2,  3,  4,  5,  6,  7,  8,\n",
       "        9, 10, 11, 12,  1,  2,  3,  4,  5,  6,  7,  8,  9, 10, 11, 12])</pre></div></li></ul></div></li><li class='xr-section-item'><input id='section-fa5bcb37-edc1-490b-884a-d7ec5c0378bd' class='xr-section-summary-in' type='checkbox'  checked><label for='section-fa5bcb37-edc1-490b-884a-d7ec5c0378bd' class='xr-section-summary' >Data variables: <span>(1)</span></label><div class='xr-section-inline-details'></div><div class='xr-section-details'><ul class='xr-var-list'><li class='xr-var-item'><div class='xr-var-name'><span>precip</span></div><div class='xr-var-dims'>(time, step, member)</div><div class='xr-var-dtype'>float64</div><div class='xr-var-preview xr-preview'>1.0 3.0 3.0 1.0 ... nan nan nan nan</div><input id='attrs-800e3dec-8957-4f3a-88a6-e92cc4ad29db' class='xr-var-attrs-in' type='checkbox' disabled><label for='attrs-800e3dec-8957-4f3a-88a6-e92cc4ad29db' title='Show/Hide attributes'><svg class='icon xr-icon-file-text2'><use xlink:href='#icon-file-text2'></use></svg></label><input id='data-8af322c1-3ffc-4022-877b-d7aced259cd1' class='xr-var-data-in' type='checkbox'><label for='data-8af322c1-3ffc-4022-877b-d7aced259cd1' title='Show/Hide data repr'><svg class='icon xr-icon-database'><use xlink:href='#icon-database'></use></svg></label><div class='xr-var-attrs'><dl class='xr-attrs'></dl></div><div class='xr-var-data'><pre>array([[[ 1.,  3.,  3., ...,  2.,  1.,  2.],\n",
       "        [ 2.,  3.,  3., ...,  1.,  1.,  1.],\n",
       "        [ 2.,  3.,  3., ...,  1.,  2.,  3.]],\n",
       "\n",
       "       [[ 1.,  1.,  3., ..., nan, nan, nan],\n",
       "        [ 2.,  1.,  2., ..., nan, nan, nan],\n",
       "        [ 3.,  1.,  1., ..., nan, nan, nan]],\n",
       "\n",
       "       [[ 2.,  2.,  1., ..., nan, nan, nan],\n",
       "        [ 3.,  1.,  2., ..., nan, nan, nan],\n",
       "        [ 3.,  1.,  2., ..., nan, nan, nan]],\n",
       "\n",
       "       ...,\n",
       "\n",
       "       [[ 2.,  2.,  2., ..., nan, nan, nan],\n",
       "        [ 1.,  2.,  1., ..., nan, nan, nan],\n",
       "        [ 1.,  1.,  1., ..., nan, nan, nan]],\n",
       "\n",
       "       [[ 1.,  3.,  3., ..., nan, nan, nan],\n",
       "        [ 1.,  2.,  2., ..., nan, nan, nan],\n",
       "        [ 1.,  3.,  3., ..., nan, nan, nan]],\n",
       "\n",
       "       [[ 2.,  1.,  1., ..., nan, nan, nan],\n",
       "        [ 1.,  1.,  2., ..., nan, nan, nan],\n",
       "        [ 1.,  2.,  2., ..., nan, nan, nan]]])</pre></div></li></ul></div></li><li class='xr-section-item'><input id='section-0aaf3275-ad88-4c89-b72c-c144ad1b180e' class='xr-section-summary-in' type='checkbox' disabled ><label for='section-0aaf3275-ad88-4c89-b72c-c144ad1b180e' class='xr-section-summary'  title='Expand/collapse section'>Attributes: <span>(0)</span></label><div class='xr-section-inline-details'></div><div class='xr-section-details'><dl class='xr-attrs'></dl></div></li></ul></div></div>"
      ],
      "text/plain": [
       "<xarray.Dataset>\n",
       "Dimensions:  (member: 28, time: 288, step: 3)\n",
       "Coordinates:\n",
       "  * member   (member) int64 0 1 2 3 4 5 6 7 8 9 ... 19 20 21 22 23 24 25 26 27\n",
       "  * time     (time) datetime64[ns] 1993-01-01 1993-02-01 ... 2016-12-01\n",
       "  * step     (step) int64 3 4 5\n",
       "    month    (time) int64 1 2 3 4 5 6 7 8 9 10 11 ... 2 3 4 5 6 7 8 9 10 11 12\n",
       "Data variables:\n",
       "    precip   (time, step, member) float64 1.0 3.0 3.0 1.0 ... nan nan nan nan"
      ]
     },
     "execution_count": 65,
     "metadata": {},
     "output_type": "execute_result"
    }
   ],
   "source": [
    "dset_cat"
   ]
  },
  {
   "cell_type": "markdown",
   "id": "d3afa1cd-2c66-4439-88dc-018431df9e1a",
   "metadata": {
    "papermill": {
     "duration": 0.1255,
     "end_time": "2021-08-20T05:17:43.360010",
     "exception": false,
     "start_time": "2021-08-20T05:17:43.234510",
     "status": "completed"
    },
    "tags": []
   },
   "source": [
    "### Now calculates the probabilities as the proportion of members falling into each category "
   ]
  },
  {
   "cell_type": "code",
   "execution_count": 66,
   "id": "077d363b-78e3-4cab-b1f1-a3ead702e403",
   "metadata": {
    "execution": {
     "iopub.execute_input": "2021-08-20T05:17:43.600033Z",
     "iopub.status.busy": "2021-08-20T05:17:43.599684Z",
     "iopub.status.idle": "2021-08-20T05:17:43.623433Z",
     "shell.execute_reply": "2021-08-20T05:17:43.623131Z"
    },
    "papermill": {
     "duration": 0.143051,
     "end_time": "2021-08-20T05:17:43.623516",
     "exception": false,
     "start_time": "2021-08-20T05:17:43.480465",
     "status": "completed"
    },
    "tags": []
   },
   "outputs": [],
   "source": [
    "quantiles_category_percent = C3S.calculate_quantiles_probabilities(dset_cat, ncategories=3)"
   ]
  },
  {
   "cell_type": "code",
   "execution_count": 67,
   "id": "90085bf9-c7cd-4251-89dd-204a9bbff11f",
   "metadata": {
    "execution": {
     "iopub.execute_input": "2021-08-20T05:17:43.860225Z",
     "iopub.status.busy": "2021-08-20T05:17:43.859895Z",
     "iopub.status.idle": "2021-08-20T05:17:43.885541Z",
     "shell.execute_reply": "2021-08-20T05:17:43.885188Z"
    },
    "papermill": {
     "duration": 0.145241,
     "end_time": "2021-08-20T05:17:43.885624",
     "exception": false,
     "start_time": "2021-08-20T05:17:43.740383",
     "status": "completed"
    },
    "tags": []
   },
   "outputs": [
    {
     "data": {
      "text/html": [
       "<div><svg style=\"position: absolute; width: 0; height: 0; overflow: hidden\">\n",
       "<defs>\n",
       "<symbol id=\"icon-database\" viewBox=\"0 0 32 32\">\n",
       "<path d=\"M16 0c-8.837 0-16 2.239-16 5v4c0 2.761 7.163 5 16 5s16-2.239 16-5v-4c0-2.761-7.163-5-16-5z\"></path>\n",
       "<path d=\"M16 17c-8.837 0-16-2.239-16-5v6c0 2.761 7.163 5 16 5s16-2.239 16-5v-6c0 2.761-7.163 5-16 5z\"></path>\n",
       "<path d=\"M16 26c-8.837 0-16-2.239-16-5v6c0 2.761 7.163 5 16 5s16-2.239 16-5v-6c0 2.761-7.163 5-16 5z\"></path>\n",
       "</symbol>\n",
       "<symbol id=\"icon-file-text2\" viewBox=\"0 0 32 32\">\n",
       "<path d=\"M28.681 7.159c-0.694-0.947-1.662-2.053-2.724-3.116s-2.169-2.030-3.116-2.724c-1.612-1.182-2.393-1.319-2.841-1.319h-15.5c-1.378 0-2.5 1.121-2.5 2.5v27c0 1.378 1.122 2.5 2.5 2.5h23c1.378 0 2.5-1.122 2.5-2.5v-19.5c0-0.448-0.137-1.23-1.319-2.841zM24.543 5.457c0.959 0.959 1.712 1.825 2.268 2.543h-4.811v-4.811c0.718 0.556 1.584 1.309 2.543 2.268zM28 29.5c0 0.271-0.229 0.5-0.5 0.5h-23c-0.271 0-0.5-0.229-0.5-0.5v-27c0-0.271 0.229-0.5 0.5-0.5 0 0 15.499-0 15.5 0v7c0 0.552 0.448 1 1 1h7v19.5z\"></path>\n",
       "<path d=\"M23 26h-14c-0.552 0-1-0.448-1-1s0.448-1 1-1h14c0.552 0 1 0.448 1 1s-0.448 1-1 1z\"></path>\n",
       "<path d=\"M23 22h-14c-0.552 0-1-0.448-1-1s0.448-1 1-1h14c0.552 0 1 0.448 1 1s-0.448 1-1 1z\"></path>\n",
       "<path d=\"M23 18h-14c-0.552 0-1-0.448-1-1s0.448-1 1-1h14c0.552 0 1 0.448 1 1s-0.448 1-1 1z\"></path>\n",
       "</symbol>\n",
       "</defs>\n",
       "</svg>\n",
       "<style>/* CSS stylesheet for displaying xarray objects in jupyterlab.\n",
       " *\n",
       " */\n",
       "\n",
       ":root {\n",
       "  --xr-font-color0: var(--jp-content-font-color0, rgba(0, 0, 0, 1));\n",
       "  --xr-font-color2: var(--jp-content-font-color2, rgba(0, 0, 0, 0.54));\n",
       "  --xr-font-color3: var(--jp-content-font-color3, rgba(0, 0, 0, 0.38));\n",
       "  --xr-border-color: var(--jp-border-color2, #e0e0e0);\n",
       "  --xr-disabled-color: var(--jp-layout-color3, #bdbdbd);\n",
       "  --xr-background-color: var(--jp-layout-color0, white);\n",
       "  --xr-background-color-row-even: var(--jp-layout-color1, white);\n",
       "  --xr-background-color-row-odd: var(--jp-layout-color2, #eeeeee);\n",
       "}\n",
       "\n",
       "html[theme=dark],\n",
       "body.vscode-dark {\n",
       "  --xr-font-color0: rgba(255, 255, 255, 1);\n",
       "  --xr-font-color2: rgba(255, 255, 255, 0.54);\n",
       "  --xr-font-color3: rgba(255, 255, 255, 0.38);\n",
       "  --xr-border-color: #1F1F1F;\n",
       "  --xr-disabled-color: #515151;\n",
       "  --xr-background-color: #111111;\n",
       "  --xr-background-color-row-even: #111111;\n",
       "  --xr-background-color-row-odd: #313131;\n",
       "}\n",
       "\n",
       ".xr-wrap {\n",
       "  display: block;\n",
       "  min-width: 300px;\n",
       "  max-width: 700px;\n",
       "}\n",
       "\n",
       ".xr-text-repr-fallback {\n",
       "  /* fallback to plain text repr when CSS is not injected (untrusted notebook) */\n",
       "  display: none;\n",
       "}\n",
       "\n",
       ".xr-header {\n",
       "  padding-top: 6px;\n",
       "  padding-bottom: 6px;\n",
       "  margin-bottom: 4px;\n",
       "  border-bottom: solid 1px var(--xr-border-color);\n",
       "}\n",
       "\n",
       ".xr-header > div,\n",
       ".xr-header > ul {\n",
       "  display: inline;\n",
       "  margin-top: 0;\n",
       "  margin-bottom: 0;\n",
       "}\n",
       "\n",
       ".xr-obj-type,\n",
       ".xr-array-name {\n",
       "  margin-left: 2px;\n",
       "  margin-right: 10px;\n",
       "}\n",
       "\n",
       ".xr-obj-type {\n",
       "  color: var(--xr-font-color2);\n",
       "}\n",
       "\n",
       ".xr-sections {\n",
       "  padding-left: 0 !important;\n",
       "  display: grid;\n",
       "  grid-template-columns: 150px auto auto 1fr 20px 20px;\n",
       "}\n",
       "\n",
       ".xr-section-item {\n",
       "  display: contents;\n",
       "}\n",
       "\n",
       ".xr-section-item input {\n",
       "  display: none;\n",
       "}\n",
       "\n",
       ".xr-section-item input + label {\n",
       "  color: var(--xr-disabled-color);\n",
       "}\n",
       "\n",
       ".xr-section-item input:enabled + label {\n",
       "  cursor: pointer;\n",
       "  color: var(--xr-font-color2);\n",
       "}\n",
       "\n",
       ".xr-section-item input:enabled + label:hover {\n",
       "  color: var(--xr-font-color0);\n",
       "}\n",
       "\n",
       ".xr-section-summary {\n",
       "  grid-column: 1;\n",
       "  color: var(--xr-font-color2);\n",
       "  font-weight: 500;\n",
       "}\n",
       "\n",
       ".xr-section-summary > span {\n",
       "  display: inline-block;\n",
       "  padding-left: 0.5em;\n",
       "}\n",
       "\n",
       ".xr-section-summary-in:disabled + label {\n",
       "  color: var(--xr-font-color2);\n",
       "}\n",
       "\n",
       ".xr-section-summary-in + label:before {\n",
       "  display: inline-block;\n",
       "  content: '►';\n",
       "  font-size: 11px;\n",
       "  width: 15px;\n",
       "  text-align: center;\n",
       "}\n",
       "\n",
       ".xr-section-summary-in:disabled + label:before {\n",
       "  color: var(--xr-disabled-color);\n",
       "}\n",
       "\n",
       ".xr-section-summary-in:checked + label:before {\n",
       "  content: '▼';\n",
       "}\n",
       "\n",
       ".xr-section-summary-in:checked + label > span {\n",
       "  display: none;\n",
       "}\n",
       "\n",
       ".xr-section-summary,\n",
       ".xr-section-inline-details {\n",
       "  padding-top: 4px;\n",
       "  padding-bottom: 4px;\n",
       "}\n",
       "\n",
       ".xr-section-inline-details {\n",
       "  grid-column: 2 / -1;\n",
       "}\n",
       "\n",
       ".xr-section-details {\n",
       "  display: none;\n",
       "  grid-column: 1 / -1;\n",
       "  margin-bottom: 5px;\n",
       "}\n",
       "\n",
       ".xr-section-summary-in:checked ~ .xr-section-details {\n",
       "  display: contents;\n",
       "}\n",
       "\n",
       ".xr-array-wrap {\n",
       "  grid-column: 1 / -1;\n",
       "  display: grid;\n",
       "  grid-template-columns: 20px auto;\n",
       "}\n",
       "\n",
       ".xr-array-wrap > label {\n",
       "  grid-column: 1;\n",
       "  vertical-align: top;\n",
       "}\n",
       "\n",
       ".xr-preview {\n",
       "  color: var(--xr-font-color3);\n",
       "}\n",
       "\n",
       ".xr-array-preview,\n",
       ".xr-array-data {\n",
       "  padding: 0 5px !important;\n",
       "  grid-column: 2;\n",
       "}\n",
       "\n",
       ".xr-array-data,\n",
       ".xr-array-in:checked ~ .xr-array-preview {\n",
       "  display: none;\n",
       "}\n",
       "\n",
       ".xr-array-in:checked ~ .xr-array-data,\n",
       ".xr-array-preview {\n",
       "  display: inline-block;\n",
       "}\n",
       "\n",
       ".xr-dim-list {\n",
       "  display: inline-block !important;\n",
       "  list-style: none;\n",
       "  padding: 0 !important;\n",
       "  margin: 0;\n",
       "}\n",
       "\n",
       ".xr-dim-list li {\n",
       "  display: inline-block;\n",
       "  padding: 0;\n",
       "  margin: 0;\n",
       "}\n",
       "\n",
       ".xr-dim-list:before {\n",
       "  content: '(';\n",
       "}\n",
       "\n",
       ".xr-dim-list:after {\n",
       "  content: ')';\n",
       "}\n",
       "\n",
       ".xr-dim-list li:not(:last-child):after {\n",
       "  content: ',';\n",
       "  padding-right: 5px;\n",
       "}\n",
       "\n",
       ".xr-has-index {\n",
       "  font-weight: bold;\n",
       "}\n",
       "\n",
       ".xr-var-list,\n",
       ".xr-var-item {\n",
       "  display: contents;\n",
       "}\n",
       "\n",
       ".xr-var-item > div,\n",
       ".xr-var-item label,\n",
       ".xr-var-item > .xr-var-name span {\n",
       "  background-color: var(--xr-background-color-row-even);\n",
       "  margin-bottom: 0;\n",
       "}\n",
       "\n",
       ".xr-var-item > .xr-var-name:hover span {\n",
       "  padding-right: 5px;\n",
       "}\n",
       "\n",
       ".xr-var-list > li:nth-child(odd) > div,\n",
       ".xr-var-list > li:nth-child(odd) > label,\n",
       ".xr-var-list > li:nth-child(odd) > .xr-var-name span {\n",
       "  background-color: var(--xr-background-color-row-odd);\n",
       "}\n",
       "\n",
       ".xr-var-name {\n",
       "  grid-column: 1;\n",
       "}\n",
       "\n",
       ".xr-var-dims {\n",
       "  grid-column: 2;\n",
       "}\n",
       "\n",
       ".xr-var-dtype {\n",
       "  grid-column: 3;\n",
       "  text-align: right;\n",
       "  color: var(--xr-font-color2);\n",
       "}\n",
       "\n",
       ".xr-var-preview {\n",
       "  grid-column: 4;\n",
       "}\n",
       "\n",
       ".xr-var-name,\n",
       ".xr-var-dims,\n",
       ".xr-var-dtype,\n",
       ".xr-preview,\n",
       ".xr-attrs dt {\n",
       "  white-space: nowrap;\n",
       "  overflow: hidden;\n",
       "  text-overflow: ellipsis;\n",
       "  padding-right: 10px;\n",
       "}\n",
       "\n",
       ".xr-var-name:hover,\n",
       ".xr-var-dims:hover,\n",
       ".xr-var-dtype:hover,\n",
       ".xr-attrs dt:hover {\n",
       "  overflow: visible;\n",
       "  width: auto;\n",
       "  z-index: 1;\n",
       "}\n",
       "\n",
       ".xr-var-attrs,\n",
       ".xr-var-data {\n",
       "  display: none;\n",
       "  background-color: var(--xr-background-color) !important;\n",
       "  padding-bottom: 5px !important;\n",
       "}\n",
       "\n",
       ".xr-var-attrs-in:checked ~ .xr-var-attrs,\n",
       ".xr-var-data-in:checked ~ .xr-var-data {\n",
       "  display: block;\n",
       "}\n",
       "\n",
       ".xr-var-data > table {\n",
       "  float: right;\n",
       "}\n",
       "\n",
       ".xr-var-name span,\n",
       ".xr-var-data,\n",
       ".xr-attrs {\n",
       "  padding-left: 25px !important;\n",
       "}\n",
       "\n",
       ".xr-attrs,\n",
       ".xr-var-attrs,\n",
       ".xr-var-data {\n",
       "  grid-column: 1 / -1;\n",
       "}\n",
       "\n",
       "dl.xr-attrs {\n",
       "  padding: 0;\n",
       "  margin: 0;\n",
       "  display: grid;\n",
       "  grid-template-columns: 125px auto;\n",
       "}\n",
       "\n",
       ".xr-attrs dt,\n",
       ".xr-attrs dd {\n",
       "  padding: 0;\n",
       "  margin: 0;\n",
       "  float: left;\n",
       "  padding-right: 10px;\n",
       "  width: auto;\n",
       "}\n",
       "\n",
       ".xr-attrs dt {\n",
       "  font-weight: normal;\n",
       "  grid-column: 1;\n",
       "}\n",
       "\n",
       ".xr-attrs dt:hover span {\n",
       "  display: inline-block;\n",
       "  background: var(--xr-background-color);\n",
       "  padding-right: 10px;\n",
       "}\n",
       "\n",
       ".xr-attrs dd {\n",
       "  grid-column: 2;\n",
       "  white-space: pre-wrap;\n",
       "  word-break: break-all;\n",
       "}\n",
       "\n",
       ".xr-icon-database,\n",
       ".xr-icon-file-text2 {\n",
       "  display: inline-block;\n",
       "  vertical-align: middle;\n",
       "  width: 1em;\n",
       "  height: 1.5em !important;\n",
       "  stroke-width: 0;\n",
       "  stroke: currentColor;\n",
       "  fill: currentColor;\n",
       "}\n",
       "</style><pre class='xr-text-repr-fallback'>&lt;xarray.Dataset&gt;\n",
       "Dimensions:  (tercile: 3, time: 288, step: 3)\n",
       "Coordinates:\n",
       "  * time     (time) datetime64[ns] 1993-01-01 1993-02-01 ... 2016-12-01\n",
       "  * step     (step) int64 3 4 5\n",
       "    month    (time) int64 1 2 3 4 5 6 7 8 9 10 11 ... 2 3 4 5 6 7 8 9 10 11 12\n",
       "  * tercile  (tercile) int64 1 2 3\n",
       "Data variables:\n",
       "    precip   (tercile, time, step) float64 32.14 21.43 10.71 ... 25.0 28.57</pre><div class='xr-wrap' hidden><div class='xr-header'><div class='xr-obj-type'>xarray.Dataset</div></div><ul class='xr-sections'><li class='xr-section-item'><input id='section-c592fd83-2f7e-431d-b596-3d6f43fe4617' class='xr-section-summary-in' type='checkbox' disabled ><label for='section-c592fd83-2f7e-431d-b596-3d6f43fe4617' class='xr-section-summary'  title='Expand/collapse section'>Dimensions:</label><div class='xr-section-inline-details'><ul class='xr-dim-list'><li><span class='xr-has-index'>tercile</span>: 3</li><li><span class='xr-has-index'>time</span>: 288</li><li><span class='xr-has-index'>step</span>: 3</li></ul></div><div class='xr-section-details'></div></li><li class='xr-section-item'><input id='section-bca01661-c346-40db-bb19-2bea103d4f8c' class='xr-section-summary-in' type='checkbox'  checked><label for='section-bca01661-c346-40db-bb19-2bea103d4f8c' class='xr-section-summary' >Coordinates: <span>(4)</span></label><div class='xr-section-inline-details'></div><div class='xr-section-details'><ul class='xr-var-list'><li class='xr-var-item'><div class='xr-var-name'><span class='xr-has-index'>time</span></div><div class='xr-var-dims'>(time)</div><div class='xr-var-dtype'>datetime64[ns]</div><div class='xr-var-preview xr-preview'>1993-01-01 ... 2016-12-01</div><input id='attrs-5852095f-0883-4872-8aad-5100eef07c10' class='xr-var-attrs-in' type='checkbox' disabled><label for='attrs-5852095f-0883-4872-8aad-5100eef07c10' title='Show/Hide attributes'><svg class='icon xr-icon-file-text2'><use xlink:href='#icon-file-text2'></use></svg></label><input id='data-730718c5-f6f6-494f-a1aa-6744ba3277d3' class='xr-var-data-in' type='checkbox'><label for='data-730718c5-f6f6-494f-a1aa-6744ba3277d3' title='Show/Hide data repr'><svg class='icon xr-icon-database'><use xlink:href='#icon-database'></use></svg></label><div class='xr-var-attrs'><dl class='xr-attrs'></dl></div><div class='xr-var-data'><pre>array([&#x27;1993-01-01T00:00:00.000000000&#x27;, &#x27;1993-02-01T00:00:00.000000000&#x27;,\n",
       "       &#x27;1993-03-01T00:00:00.000000000&#x27;, ..., &#x27;2016-10-01T00:00:00.000000000&#x27;,\n",
       "       &#x27;2016-11-01T00:00:00.000000000&#x27;, &#x27;2016-12-01T00:00:00.000000000&#x27;],\n",
       "      dtype=&#x27;datetime64[ns]&#x27;)</pre></div></li><li class='xr-var-item'><div class='xr-var-name'><span class='xr-has-index'>step</span></div><div class='xr-var-dims'>(step)</div><div class='xr-var-dtype'>int64</div><div class='xr-var-preview xr-preview'>3 4 5</div><input id='attrs-58b74999-7031-4981-bccb-5d0c8f4299f2' class='xr-var-attrs-in' type='checkbox' disabled><label for='attrs-58b74999-7031-4981-bccb-5d0c8f4299f2' title='Show/Hide attributes'><svg class='icon xr-icon-file-text2'><use xlink:href='#icon-file-text2'></use></svg></label><input id='data-46874e79-6b26-455e-83d9-de8368611381' class='xr-var-data-in' type='checkbox'><label for='data-46874e79-6b26-455e-83d9-de8368611381' title='Show/Hide data repr'><svg class='icon xr-icon-database'><use xlink:href='#icon-database'></use></svg></label><div class='xr-var-attrs'><dl class='xr-attrs'></dl></div><div class='xr-var-data'><pre>array([3, 4, 5])</pre></div></li><li class='xr-var-item'><div class='xr-var-name'><span>month</span></div><div class='xr-var-dims'>(time)</div><div class='xr-var-dtype'>int64</div><div class='xr-var-preview xr-preview'>1 2 3 4 5 6 7 ... 6 7 8 9 10 11 12</div><input id='attrs-62b2778d-26db-4740-965f-49fb8d9e3c0e' class='xr-var-attrs-in' type='checkbox' disabled><label for='attrs-62b2778d-26db-4740-965f-49fb8d9e3c0e' title='Show/Hide attributes'><svg class='icon xr-icon-file-text2'><use xlink:href='#icon-file-text2'></use></svg></label><input id='data-53a7b35c-f9de-4213-a103-4d578ed29a81' class='xr-var-data-in' type='checkbox'><label for='data-53a7b35c-f9de-4213-a103-4d578ed29a81' title='Show/Hide data repr'><svg class='icon xr-icon-database'><use xlink:href='#icon-database'></use></svg></label><div class='xr-var-attrs'><dl class='xr-attrs'></dl></div><div class='xr-var-data'><pre>array([ 1,  2,  3,  4,  5,  6,  7,  8,  9, 10, 11, 12,  1,  2,  3,  4,  5,\n",
       "        6,  7,  8,  9, 10, 11, 12,  1,  2,  3,  4,  5,  6,  7,  8,  9, 10,\n",
       "       11, 12,  1,  2,  3,  4,  5,  6,  7,  8,  9, 10, 11, 12,  1,  2,  3,\n",
       "        4,  5,  6,  7,  8,  9, 10, 11, 12,  1,  2,  3,  4,  5,  6,  7,  8,\n",
       "        9, 10, 11, 12,  1,  2,  3,  4,  5,  6,  7,  8,  9, 10, 11, 12,  1,\n",
       "        2,  3,  4,  5,  6,  7,  8,  9, 10, 11, 12,  1,  2,  3,  4,  5,  6,\n",
       "        7,  8,  9, 10, 11, 12,  1,  2,  3,  4,  5,  6,  7,  8,  9, 10, 11,\n",
       "       12,  1,  2,  3,  4,  5,  6,  7,  8,  9, 10, 11, 12,  1,  2,  3,  4,\n",
       "        5,  6,  7,  8,  9, 10, 11, 12,  1,  2,  3,  4,  5,  6,  7,  8,  9,\n",
       "       10, 11, 12,  1,  2,  3,  4,  5,  6,  7,  8,  9, 10, 11, 12,  1,  2,\n",
       "        3,  4,  5,  6,  7,  8,  9, 10, 11, 12,  1,  2,  3,  4,  5,  6,  7,\n",
       "        8,  9, 10, 11, 12,  1,  2,  3,  4,  5,  6,  7,  8,  9, 10, 11, 12,\n",
       "        1,  2,  3,  4,  5,  6,  7,  8,  9, 10, 11, 12,  1,  2,  3,  4,  5,\n",
       "        6,  7,  8,  9, 10, 11, 12,  1,  2,  3,  4,  5,  6,  7,  8,  9, 10,\n",
       "       11, 12,  1,  2,  3,  4,  5,  6,  7,  8,  9, 10, 11, 12,  1,  2,  3,\n",
       "        4,  5,  6,  7,  8,  9, 10, 11, 12,  1,  2,  3,  4,  5,  6,  7,  8,\n",
       "        9, 10, 11, 12,  1,  2,  3,  4,  5,  6,  7,  8,  9, 10, 11, 12])</pre></div></li><li class='xr-var-item'><div class='xr-var-name'><span class='xr-has-index'>tercile</span></div><div class='xr-var-dims'>(tercile)</div><div class='xr-var-dtype'>int64</div><div class='xr-var-preview xr-preview'>1 2 3</div><input id='attrs-3eaf963a-05d3-4362-aaba-b6e0de5ce4f1' class='xr-var-attrs-in' type='checkbox' disabled><label for='attrs-3eaf963a-05d3-4362-aaba-b6e0de5ce4f1' title='Show/Hide attributes'><svg class='icon xr-icon-file-text2'><use xlink:href='#icon-file-text2'></use></svg></label><input id='data-9296d4fa-40aa-46b9-b358-3f2568203b8b' class='xr-var-data-in' type='checkbox'><label for='data-9296d4fa-40aa-46b9-b358-3f2568203b8b' title='Show/Hide data repr'><svg class='icon xr-icon-database'><use xlink:href='#icon-database'></use></svg></label><div class='xr-var-attrs'><dl class='xr-attrs'></dl></div><div class='xr-var-data'><pre>array([1, 2, 3])</pre></div></li></ul></div></li><li class='xr-section-item'><input id='section-6bf5ea26-317c-453a-908e-b7b2ee798c3c' class='xr-section-summary-in' type='checkbox'  checked><label for='section-6bf5ea26-317c-453a-908e-b7b2ee798c3c' class='xr-section-summary' >Data variables: <span>(1)</span></label><div class='xr-section-inline-details'></div><div class='xr-section-details'><ul class='xr-var-list'><li class='xr-var-item'><div class='xr-var-name'><span>precip</span></div><div class='xr-var-dims'>(tercile, time, step)</div><div class='xr-var-dtype'>float64</div><div class='xr-var-preview xr-preview'>32.14 21.43 10.71 ... 25.0 28.57</div><input id='attrs-11fc5488-edd3-4860-83f8-ed6a609a69d5' class='xr-var-attrs-in' type='checkbox' disabled><label for='attrs-11fc5488-edd3-4860-83f8-ed6a609a69d5' title='Show/Hide attributes'><svg class='icon xr-icon-file-text2'><use xlink:href='#icon-file-text2'></use></svg></label><input id='data-2d025ae0-1607-47c8-bd9a-174367c62923' class='xr-var-data-in' type='checkbox'><label for='data-2d025ae0-1607-47c8-bd9a-174367c62923' title='Show/Hide data repr'><svg class='icon xr-icon-database'><use xlink:href='#icon-database'></use></svg></label><div class='xr-var-attrs'><dl class='xr-attrs'></dl></div><div class='xr-var-data'><pre>array([[[32.14285714, 21.42857143, 10.71428571],\n",
       "        [28.57142857, 17.85714286, 17.85714286],\n",
       "        [39.28571429, 28.57142857, 25.        ],\n",
       "        ...,\n",
       "        [10.71428571, 39.28571429, 35.71428571],\n",
       "        [25.        , 39.28571429, 42.85714286],\n",
       "        [35.71428571, 32.14285714, 32.14285714]],\n",
       "\n",
       "       [[42.85714286, 32.14285714, 42.85714286],\n",
       "        [25.        , 28.57142857, 39.28571429],\n",
       "        [28.57142857, 35.71428571, 35.71428571],\n",
       "        ...,\n",
       "        [32.14285714, 17.85714286, 28.57142857],\n",
       "        [25.        , 25.        , 17.85714286],\n",
       "        [21.42857143, 28.57142857, 25.        ]],\n",
       "\n",
       "       [[25.        , 46.42857143, 46.42857143],\n",
       "        [32.14285714, 39.28571429, 28.57142857],\n",
       "        [ 3.57142857,  7.14285714, 10.71428571],\n",
       "        ...,\n",
       "        [42.85714286, 28.57142857, 21.42857143],\n",
       "        [35.71428571, 21.42857143, 25.        ],\n",
       "        [28.57142857, 25.        , 28.57142857]]])</pre></div></li></ul></div></li><li class='xr-section-item'><input id='section-9bade02b-bd11-4d29-9d99-9b642ebff361' class='xr-section-summary-in' type='checkbox' disabled ><label for='section-9bade02b-bd11-4d29-9d99-9b642ebff361' class='xr-section-summary'  title='Expand/collapse section'>Attributes: <span>(0)</span></label><div class='xr-section-inline-details'></div><div class='xr-section-details'><dl class='xr-attrs'></dl></div></li></ul></div></div>"
      ],
      "text/plain": [
       "<xarray.Dataset>\n",
       "Dimensions:  (tercile: 3, time: 288, step: 3)\n",
       "Coordinates:\n",
       "  * time     (time) datetime64[ns] 1993-01-01 1993-02-01 ... 2016-12-01\n",
       "  * step     (step) int64 3 4 5\n",
       "    month    (time) int64 1 2 3 4 5 6 7 8 9 10 11 ... 2 3 4 5 6 7 8 9 10 11 12\n",
       "  * tercile  (tercile) int64 1 2 3\n",
       "Data variables:\n",
       "    precip   (tercile, time, step) float64 32.14 21.43 10.71 ... 25.0 28.57"
      ]
     },
     "execution_count": 67,
     "metadata": {},
     "output_type": "execute_result"
    }
   ],
   "source": [
    "quantiles_category_percent"
   ]
  },
  {
   "cell_type": "markdown",
   "id": "65d35159-6cd9-401b-b44d-2d26af440b7f",
   "metadata": {
    "papermill": {
     "duration": 0.117997,
     "end_time": "2021-08-20T05:17:44.122321",
     "exception": false,
     "start_time": "2021-08-20T05:17:44.004324",
     "status": "completed"
    },
    "tags": []
   },
   "source": [
    "### because of numerical approximations, sometimes the sum over the quantile dimension is not strictly equal to 100."
   ]
  },
  {
   "cell_type": "code",
   "execution_count": 68,
   "id": "a6cf5f7b-e6c8-4761-995a-c305bda0a8dd",
   "metadata": {
    "execution": {
     "iopub.execute_input": "2021-08-20T05:17:44.364489Z",
     "iopub.status.busy": "2021-08-20T05:17:44.364148Z",
     "iopub.status.idle": "2021-08-20T05:17:44.380852Z",
     "shell.execute_reply": "2021-08-20T05:17:44.380518Z"
    },
    "papermill": {
     "duration": 0.140204,
     "end_time": "2021-08-20T05:17:44.380936",
     "exception": false,
     "start_time": "2021-08-20T05:17:44.240732",
     "status": "completed"
    },
    "tags": []
   },
   "outputs": [
    {
     "data": {
      "text/html": [
       "<div><svg style=\"position: absolute; width: 0; height: 0; overflow: hidden\">\n",
       "<defs>\n",
       "<symbol id=\"icon-database\" viewBox=\"0 0 32 32\">\n",
       "<path d=\"M16 0c-8.837 0-16 2.239-16 5v4c0 2.761 7.163 5 16 5s16-2.239 16-5v-4c0-2.761-7.163-5-16-5z\"></path>\n",
       "<path d=\"M16 17c-8.837 0-16-2.239-16-5v6c0 2.761 7.163 5 16 5s16-2.239 16-5v-6c0 2.761-7.163 5-16 5z\"></path>\n",
       "<path d=\"M16 26c-8.837 0-16-2.239-16-5v6c0 2.761 7.163 5 16 5s16-2.239 16-5v-6c0 2.761-7.163 5-16 5z\"></path>\n",
       "</symbol>\n",
       "<symbol id=\"icon-file-text2\" viewBox=\"0 0 32 32\">\n",
       "<path d=\"M28.681 7.159c-0.694-0.947-1.662-2.053-2.724-3.116s-2.169-2.030-3.116-2.724c-1.612-1.182-2.393-1.319-2.841-1.319h-15.5c-1.378 0-2.5 1.121-2.5 2.5v27c0 1.378 1.122 2.5 2.5 2.5h23c1.378 0 2.5-1.122 2.5-2.5v-19.5c0-0.448-0.137-1.23-1.319-2.841zM24.543 5.457c0.959 0.959 1.712 1.825 2.268 2.543h-4.811v-4.811c0.718 0.556 1.584 1.309 2.543 2.268zM28 29.5c0 0.271-0.229 0.5-0.5 0.5h-23c-0.271 0-0.5-0.229-0.5-0.5v-27c0-0.271 0.229-0.5 0.5-0.5 0 0 15.499-0 15.5 0v7c0 0.552 0.448 1 1 1h7v19.5z\"></path>\n",
       "<path d=\"M23 26h-14c-0.552 0-1-0.448-1-1s0.448-1 1-1h14c0.552 0 1 0.448 1 1s-0.448 1-1 1z\"></path>\n",
       "<path d=\"M23 22h-14c-0.552 0-1-0.448-1-1s0.448-1 1-1h14c0.552 0 1 0.448 1 1s-0.448 1-1 1z\"></path>\n",
       "<path d=\"M23 18h-14c-0.552 0-1-0.448-1-1s0.448-1 1-1h14c0.552 0 1 0.448 1 1s-0.448 1-1 1z\"></path>\n",
       "</symbol>\n",
       "</defs>\n",
       "</svg>\n",
       "<style>/* CSS stylesheet for displaying xarray objects in jupyterlab.\n",
       " *\n",
       " */\n",
       "\n",
       ":root {\n",
       "  --xr-font-color0: var(--jp-content-font-color0, rgba(0, 0, 0, 1));\n",
       "  --xr-font-color2: var(--jp-content-font-color2, rgba(0, 0, 0, 0.54));\n",
       "  --xr-font-color3: var(--jp-content-font-color3, rgba(0, 0, 0, 0.38));\n",
       "  --xr-border-color: var(--jp-border-color2, #e0e0e0);\n",
       "  --xr-disabled-color: var(--jp-layout-color3, #bdbdbd);\n",
       "  --xr-background-color: var(--jp-layout-color0, white);\n",
       "  --xr-background-color-row-even: var(--jp-layout-color1, white);\n",
       "  --xr-background-color-row-odd: var(--jp-layout-color2, #eeeeee);\n",
       "}\n",
       "\n",
       "html[theme=dark],\n",
       "body.vscode-dark {\n",
       "  --xr-font-color0: rgba(255, 255, 255, 1);\n",
       "  --xr-font-color2: rgba(255, 255, 255, 0.54);\n",
       "  --xr-font-color3: rgba(255, 255, 255, 0.38);\n",
       "  --xr-border-color: #1F1F1F;\n",
       "  --xr-disabled-color: #515151;\n",
       "  --xr-background-color: #111111;\n",
       "  --xr-background-color-row-even: #111111;\n",
       "  --xr-background-color-row-odd: #313131;\n",
       "}\n",
       "\n",
       ".xr-wrap {\n",
       "  display: block;\n",
       "  min-width: 300px;\n",
       "  max-width: 700px;\n",
       "}\n",
       "\n",
       ".xr-text-repr-fallback {\n",
       "  /* fallback to plain text repr when CSS is not injected (untrusted notebook) */\n",
       "  display: none;\n",
       "}\n",
       "\n",
       ".xr-header {\n",
       "  padding-top: 6px;\n",
       "  padding-bottom: 6px;\n",
       "  margin-bottom: 4px;\n",
       "  border-bottom: solid 1px var(--xr-border-color);\n",
       "}\n",
       "\n",
       ".xr-header > div,\n",
       ".xr-header > ul {\n",
       "  display: inline;\n",
       "  margin-top: 0;\n",
       "  margin-bottom: 0;\n",
       "}\n",
       "\n",
       ".xr-obj-type,\n",
       ".xr-array-name {\n",
       "  margin-left: 2px;\n",
       "  margin-right: 10px;\n",
       "}\n",
       "\n",
       ".xr-obj-type {\n",
       "  color: var(--xr-font-color2);\n",
       "}\n",
       "\n",
       ".xr-sections {\n",
       "  padding-left: 0 !important;\n",
       "  display: grid;\n",
       "  grid-template-columns: 150px auto auto 1fr 20px 20px;\n",
       "}\n",
       "\n",
       ".xr-section-item {\n",
       "  display: contents;\n",
       "}\n",
       "\n",
       ".xr-section-item input {\n",
       "  display: none;\n",
       "}\n",
       "\n",
       ".xr-section-item input + label {\n",
       "  color: var(--xr-disabled-color);\n",
       "}\n",
       "\n",
       ".xr-section-item input:enabled + label {\n",
       "  cursor: pointer;\n",
       "  color: var(--xr-font-color2);\n",
       "}\n",
       "\n",
       ".xr-section-item input:enabled + label:hover {\n",
       "  color: var(--xr-font-color0);\n",
       "}\n",
       "\n",
       ".xr-section-summary {\n",
       "  grid-column: 1;\n",
       "  color: var(--xr-font-color2);\n",
       "  font-weight: 500;\n",
       "}\n",
       "\n",
       ".xr-section-summary > span {\n",
       "  display: inline-block;\n",
       "  padding-left: 0.5em;\n",
       "}\n",
       "\n",
       ".xr-section-summary-in:disabled + label {\n",
       "  color: var(--xr-font-color2);\n",
       "}\n",
       "\n",
       ".xr-section-summary-in + label:before {\n",
       "  display: inline-block;\n",
       "  content: '►';\n",
       "  font-size: 11px;\n",
       "  width: 15px;\n",
       "  text-align: center;\n",
       "}\n",
       "\n",
       ".xr-section-summary-in:disabled + label:before {\n",
       "  color: var(--xr-disabled-color);\n",
       "}\n",
       "\n",
       ".xr-section-summary-in:checked + label:before {\n",
       "  content: '▼';\n",
       "}\n",
       "\n",
       ".xr-section-summary-in:checked + label > span {\n",
       "  display: none;\n",
       "}\n",
       "\n",
       ".xr-section-summary,\n",
       ".xr-section-inline-details {\n",
       "  padding-top: 4px;\n",
       "  padding-bottom: 4px;\n",
       "}\n",
       "\n",
       ".xr-section-inline-details {\n",
       "  grid-column: 2 / -1;\n",
       "}\n",
       "\n",
       ".xr-section-details {\n",
       "  display: none;\n",
       "  grid-column: 1 / -1;\n",
       "  margin-bottom: 5px;\n",
       "}\n",
       "\n",
       ".xr-section-summary-in:checked ~ .xr-section-details {\n",
       "  display: contents;\n",
       "}\n",
       "\n",
       ".xr-array-wrap {\n",
       "  grid-column: 1 / -1;\n",
       "  display: grid;\n",
       "  grid-template-columns: 20px auto;\n",
       "}\n",
       "\n",
       ".xr-array-wrap > label {\n",
       "  grid-column: 1;\n",
       "  vertical-align: top;\n",
       "}\n",
       "\n",
       ".xr-preview {\n",
       "  color: var(--xr-font-color3);\n",
       "}\n",
       "\n",
       ".xr-array-preview,\n",
       ".xr-array-data {\n",
       "  padding: 0 5px !important;\n",
       "  grid-column: 2;\n",
       "}\n",
       "\n",
       ".xr-array-data,\n",
       ".xr-array-in:checked ~ .xr-array-preview {\n",
       "  display: none;\n",
       "}\n",
       "\n",
       ".xr-array-in:checked ~ .xr-array-data,\n",
       ".xr-array-preview {\n",
       "  display: inline-block;\n",
       "}\n",
       "\n",
       ".xr-dim-list {\n",
       "  display: inline-block !important;\n",
       "  list-style: none;\n",
       "  padding: 0 !important;\n",
       "  margin: 0;\n",
       "}\n",
       "\n",
       ".xr-dim-list li {\n",
       "  display: inline-block;\n",
       "  padding: 0;\n",
       "  margin: 0;\n",
       "}\n",
       "\n",
       ".xr-dim-list:before {\n",
       "  content: '(';\n",
       "}\n",
       "\n",
       ".xr-dim-list:after {\n",
       "  content: ')';\n",
       "}\n",
       "\n",
       ".xr-dim-list li:not(:last-child):after {\n",
       "  content: ',';\n",
       "  padding-right: 5px;\n",
       "}\n",
       "\n",
       ".xr-has-index {\n",
       "  font-weight: bold;\n",
       "}\n",
       "\n",
       ".xr-var-list,\n",
       ".xr-var-item {\n",
       "  display: contents;\n",
       "}\n",
       "\n",
       ".xr-var-item > div,\n",
       ".xr-var-item label,\n",
       ".xr-var-item > .xr-var-name span {\n",
       "  background-color: var(--xr-background-color-row-even);\n",
       "  margin-bottom: 0;\n",
       "}\n",
       "\n",
       ".xr-var-item > .xr-var-name:hover span {\n",
       "  padding-right: 5px;\n",
       "}\n",
       "\n",
       ".xr-var-list > li:nth-child(odd) > div,\n",
       ".xr-var-list > li:nth-child(odd) > label,\n",
       ".xr-var-list > li:nth-child(odd) > .xr-var-name span {\n",
       "  background-color: var(--xr-background-color-row-odd);\n",
       "}\n",
       "\n",
       ".xr-var-name {\n",
       "  grid-column: 1;\n",
       "}\n",
       "\n",
       ".xr-var-dims {\n",
       "  grid-column: 2;\n",
       "}\n",
       "\n",
       ".xr-var-dtype {\n",
       "  grid-column: 3;\n",
       "  text-align: right;\n",
       "  color: var(--xr-font-color2);\n",
       "}\n",
       "\n",
       ".xr-var-preview {\n",
       "  grid-column: 4;\n",
       "}\n",
       "\n",
       ".xr-var-name,\n",
       ".xr-var-dims,\n",
       ".xr-var-dtype,\n",
       ".xr-preview,\n",
       ".xr-attrs dt {\n",
       "  white-space: nowrap;\n",
       "  overflow: hidden;\n",
       "  text-overflow: ellipsis;\n",
       "  padding-right: 10px;\n",
       "}\n",
       "\n",
       ".xr-var-name:hover,\n",
       ".xr-var-dims:hover,\n",
       ".xr-var-dtype:hover,\n",
       ".xr-attrs dt:hover {\n",
       "  overflow: visible;\n",
       "  width: auto;\n",
       "  z-index: 1;\n",
       "}\n",
       "\n",
       ".xr-var-attrs,\n",
       ".xr-var-data {\n",
       "  display: none;\n",
       "  background-color: var(--xr-background-color) !important;\n",
       "  padding-bottom: 5px !important;\n",
       "}\n",
       "\n",
       ".xr-var-attrs-in:checked ~ .xr-var-attrs,\n",
       ".xr-var-data-in:checked ~ .xr-var-data {\n",
       "  display: block;\n",
       "}\n",
       "\n",
       ".xr-var-data > table {\n",
       "  float: right;\n",
       "}\n",
       "\n",
       ".xr-var-name span,\n",
       ".xr-var-data,\n",
       ".xr-attrs {\n",
       "  padding-left: 25px !important;\n",
       "}\n",
       "\n",
       ".xr-attrs,\n",
       ".xr-var-attrs,\n",
       ".xr-var-data {\n",
       "  grid-column: 1 / -1;\n",
       "}\n",
       "\n",
       "dl.xr-attrs {\n",
       "  padding: 0;\n",
       "  margin: 0;\n",
       "  display: grid;\n",
       "  grid-template-columns: 125px auto;\n",
       "}\n",
       "\n",
       ".xr-attrs dt,\n",
       ".xr-attrs dd {\n",
       "  padding: 0;\n",
       "  margin: 0;\n",
       "  float: left;\n",
       "  padding-right: 10px;\n",
       "  width: auto;\n",
       "}\n",
       "\n",
       ".xr-attrs dt {\n",
       "  font-weight: normal;\n",
       "  grid-column: 1;\n",
       "}\n",
       "\n",
       ".xr-attrs dt:hover span {\n",
       "  display: inline-block;\n",
       "  background: var(--xr-background-color);\n",
       "  padding-right: 10px;\n",
       "}\n",
       "\n",
       ".xr-attrs dd {\n",
       "  grid-column: 2;\n",
       "  white-space: pre-wrap;\n",
       "  word-break: break-all;\n",
       "}\n",
       "\n",
       ".xr-icon-database,\n",
       ".xr-icon-file-text2 {\n",
       "  display: inline-block;\n",
       "  vertical-align: middle;\n",
       "  width: 1em;\n",
       "  height: 1.5em !important;\n",
       "  stroke-width: 0;\n",
       "  stroke: currentColor;\n",
       "  fill: currentColor;\n",
       "}\n",
       "</style><pre class='xr-text-repr-fallback'>&lt;xarray.DataArray &#x27;precip&#x27; ()&gt;\n",
       "array(False)</pre><div class='xr-wrap' hidden><div class='xr-header'><div class='xr-obj-type'>xarray.DataArray</div><div class='xr-array-name'>'precip'</div></div><ul class='xr-sections'><li class='xr-section-item'><div class='xr-array-wrap'><input id='section-2877f04a-d1f5-4c42-81ad-1d853b3d5d34' class='xr-array-in' type='checkbox' checked><label for='section-2877f04a-d1f5-4c42-81ad-1d853b3d5d34' title='Show/hide data repr'><svg class='icon xr-icon-database'><use xlink:href='#icon-database'></use></svg></label><div class='xr-array-preview xr-preview'><span>False</span></div><div class='xr-array-data'><pre>array(False)</pre></div></div></li><li class='xr-section-item'><input id='section-1f9a438e-6d7f-48b8-9e8e-08e36643caf7' class='xr-section-summary-in' type='checkbox' disabled ><label for='section-1f9a438e-6d7f-48b8-9e8e-08e36643caf7' class='xr-section-summary'  title='Expand/collapse section'>Coordinates: <span>(0)</span></label><div class='xr-section-inline-details'></div><div class='xr-section-details'><ul class='xr-var-list'></ul></div></li><li class='xr-section-item'><input id='section-e4585e07-2cf7-4153-8a27-fcc82f94c54b' class='xr-section-summary-in' type='checkbox' disabled ><label for='section-e4585e07-2cf7-4153-8a27-fcc82f94c54b' class='xr-section-summary'  title='Expand/collapse section'>Attributes: <span>(0)</span></label><div class='xr-section-inline-details'></div><div class='xr-section-details'><dl class='xr-attrs'></dl></div></li></ul></div></div>"
      ],
      "text/plain": [
       "<xarray.DataArray 'precip' ()>\n",
       "array(False)"
      ]
     },
     "execution_count": 68,
     "metadata": {},
     "output_type": "execute_result"
    }
   ],
   "source": [
    "np.alltrue((quantiles_category_percent.sum('tercile')['precip'] == 100.))"
   ]
  },
  {
   "cell_type": "markdown",
   "id": "14290cab-e2e3-4ab8-ba8a-fbf1ce8ffb47",
   "metadata": {
    "papermill": {
     "duration": 0.119296,
     "end_time": "2021-08-20T05:17:44.619435",
     "exception": false,
     "start_time": "2021-08-20T05:17:44.500139",
     "status": "completed"
    },
    "tags": []
   },
   "source": [
    "### but it is close enough "
   ]
  },
  {
   "cell_type": "code",
   "execution_count": 69,
   "id": "2735250f-b968-4873-b0cd-0c775bbe6cd6",
   "metadata": {
    "execution": {
     "iopub.execute_input": "2021-08-20T05:17:44.860846Z",
     "iopub.status.busy": "2021-08-20T05:17:44.860502Z",
     "iopub.status.idle": "2021-08-20T05:17:44.877143Z",
     "shell.execute_reply": "2021-08-20T05:17:44.876805Z"
    },
    "papermill": {
     "duration": 0.138526,
     "end_time": "2021-08-20T05:17:44.877223",
     "exception": false,
     "start_time": "2021-08-20T05:17:44.738697",
     "status": "completed"
    },
    "tags": []
   },
   "outputs": [
    {
     "data": {
      "text/html": [
       "<div><svg style=\"position: absolute; width: 0; height: 0; overflow: hidden\">\n",
       "<defs>\n",
       "<symbol id=\"icon-database\" viewBox=\"0 0 32 32\">\n",
       "<path d=\"M16 0c-8.837 0-16 2.239-16 5v4c0 2.761 7.163 5 16 5s16-2.239 16-5v-4c0-2.761-7.163-5-16-5z\"></path>\n",
       "<path d=\"M16 17c-8.837 0-16-2.239-16-5v6c0 2.761 7.163 5 16 5s16-2.239 16-5v-6c0 2.761-7.163 5-16 5z\"></path>\n",
       "<path d=\"M16 26c-8.837 0-16-2.239-16-5v6c0 2.761 7.163 5 16 5s16-2.239 16-5v-6c0 2.761-7.163 5-16 5z\"></path>\n",
       "</symbol>\n",
       "<symbol id=\"icon-file-text2\" viewBox=\"0 0 32 32\">\n",
       "<path d=\"M28.681 7.159c-0.694-0.947-1.662-2.053-2.724-3.116s-2.169-2.030-3.116-2.724c-1.612-1.182-2.393-1.319-2.841-1.319h-15.5c-1.378 0-2.5 1.121-2.5 2.5v27c0 1.378 1.122 2.5 2.5 2.5h23c1.378 0 2.5-1.122 2.5-2.5v-19.5c0-0.448-0.137-1.23-1.319-2.841zM24.543 5.457c0.959 0.959 1.712 1.825 2.268 2.543h-4.811v-4.811c0.718 0.556 1.584 1.309 2.543 2.268zM28 29.5c0 0.271-0.229 0.5-0.5 0.5h-23c-0.271 0-0.5-0.229-0.5-0.5v-27c0-0.271 0.229-0.5 0.5-0.5 0 0 15.499-0 15.5 0v7c0 0.552 0.448 1 1 1h7v19.5z\"></path>\n",
       "<path d=\"M23 26h-14c-0.552 0-1-0.448-1-1s0.448-1 1-1h14c0.552 0 1 0.448 1 1s-0.448 1-1 1z\"></path>\n",
       "<path d=\"M23 22h-14c-0.552 0-1-0.448-1-1s0.448-1 1-1h14c0.552 0 1 0.448 1 1s-0.448 1-1 1z\"></path>\n",
       "<path d=\"M23 18h-14c-0.552 0-1-0.448-1-1s0.448-1 1-1h14c0.552 0 1 0.448 1 1s-0.448 1-1 1z\"></path>\n",
       "</symbol>\n",
       "</defs>\n",
       "</svg>\n",
       "<style>/* CSS stylesheet for displaying xarray objects in jupyterlab.\n",
       " *\n",
       " */\n",
       "\n",
       ":root {\n",
       "  --xr-font-color0: var(--jp-content-font-color0, rgba(0, 0, 0, 1));\n",
       "  --xr-font-color2: var(--jp-content-font-color2, rgba(0, 0, 0, 0.54));\n",
       "  --xr-font-color3: var(--jp-content-font-color3, rgba(0, 0, 0, 0.38));\n",
       "  --xr-border-color: var(--jp-border-color2, #e0e0e0);\n",
       "  --xr-disabled-color: var(--jp-layout-color3, #bdbdbd);\n",
       "  --xr-background-color: var(--jp-layout-color0, white);\n",
       "  --xr-background-color-row-even: var(--jp-layout-color1, white);\n",
       "  --xr-background-color-row-odd: var(--jp-layout-color2, #eeeeee);\n",
       "}\n",
       "\n",
       "html[theme=dark],\n",
       "body.vscode-dark {\n",
       "  --xr-font-color0: rgba(255, 255, 255, 1);\n",
       "  --xr-font-color2: rgba(255, 255, 255, 0.54);\n",
       "  --xr-font-color3: rgba(255, 255, 255, 0.38);\n",
       "  --xr-border-color: #1F1F1F;\n",
       "  --xr-disabled-color: #515151;\n",
       "  --xr-background-color: #111111;\n",
       "  --xr-background-color-row-even: #111111;\n",
       "  --xr-background-color-row-odd: #313131;\n",
       "}\n",
       "\n",
       ".xr-wrap {\n",
       "  display: block;\n",
       "  min-width: 300px;\n",
       "  max-width: 700px;\n",
       "}\n",
       "\n",
       ".xr-text-repr-fallback {\n",
       "  /* fallback to plain text repr when CSS is not injected (untrusted notebook) */\n",
       "  display: none;\n",
       "}\n",
       "\n",
       ".xr-header {\n",
       "  padding-top: 6px;\n",
       "  padding-bottom: 6px;\n",
       "  margin-bottom: 4px;\n",
       "  border-bottom: solid 1px var(--xr-border-color);\n",
       "}\n",
       "\n",
       ".xr-header > div,\n",
       ".xr-header > ul {\n",
       "  display: inline;\n",
       "  margin-top: 0;\n",
       "  margin-bottom: 0;\n",
       "}\n",
       "\n",
       ".xr-obj-type,\n",
       ".xr-array-name {\n",
       "  margin-left: 2px;\n",
       "  margin-right: 10px;\n",
       "}\n",
       "\n",
       ".xr-obj-type {\n",
       "  color: var(--xr-font-color2);\n",
       "}\n",
       "\n",
       ".xr-sections {\n",
       "  padding-left: 0 !important;\n",
       "  display: grid;\n",
       "  grid-template-columns: 150px auto auto 1fr 20px 20px;\n",
       "}\n",
       "\n",
       ".xr-section-item {\n",
       "  display: contents;\n",
       "}\n",
       "\n",
       ".xr-section-item input {\n",
       "  display: none;\n",
       "}\n",
       "\n",
       ".xr-section-item input + label {\n",
       "  color: var(--xr-disabled-color);\n",
       "}\n",
       "\n",
       ".xr-section-item input:enabled + label {\n",
       "  cursor: pointer;\n",
       "  color: var(--xr-font-color2);\n",
       "}\n",
       "\n",
       ".xr-section-item input:enabled + label:hover {\n",
       "  color: var(--xr-font-color0);\n",
       "}\n",
       "\n",
       ".xr-section-summary {\n",
       "  grid-column: 1;\n",
       "  color: var(--xr-font-color2);\n",
       "  font-weight: 500;\n",
       "}\n",
       "\n",
       ".xr-section-summary > span {\n",
       "  display: inline-block;\n",
       "  padding-left: 0.5em;\n",
       "}\n",
       "\n",
       ".xr-section-summary-in:disabled + label {\n",
       "  color: var(--xr-font-color2);\n",
       "}\n",
       "\n",
       ".xr-section-summary-in + label:before {\n",
       "  display: inline-block;\n",
       "  content: '►';\n",
       "  font-size: 11px;\n",
       "  width: 15px;\n",
       "  text-align: center;\n",
       "}\n",
       "\n",
       ".xr-section-summary-in:disabled + label:before {\n",
       "  color: var(--xr-disabled-color);\n",
       "}\n",
       "\n",
       ".xr-section-summary-in:checked + label:before {\n",
       "  content: '▼';\n",
       "}\n",
       "\n",
       ".xr-section-summary-in:checked + label > span {\n",
       "  display: none;\n",
       "}\n",
       "\n",
       ".xr-section-summary,\n",
       ".xr-section-inline-details {\n",
       "  padding-top: 4px;\n",
       "  padding-bottom: 4px;\n",
       "}\n",
       "\n",
       ".xr-section-inline-details {\n",
       "  grid-column: 2 / -1;\n",
       "}\n",
       "\n",
       ".xr-section-details {\n",
       "  display: none;\n",
       "  grid-column: 1 / -1;\n",
       "  margin-bottom: 5px;\n",
       "}\n",
       "\n",
       ".xr-section-summary-in:checked ~ .xr-section-details {\n",
       "  display: contents;\n",
       "}\n",
       "\n",
       ".xr-array-wrap {\n",
       "  grid-column: 1 / -1;\n",
       "  display: grid;\n",
       "  grid-template-columns: 20px auto;\n",
       "}\n",
       "\n",
       ".xr-array-wrap > label {\n",
       "  grid-column: 1;\n",
       "  vertical-align: top;\n",
       "}\n",
       "\n",
       ".xr-preview {\n",
       "  color: var(--xr-font-color3);\n",
       "}\n",
       "\n",
       ".xr-array-preview,\n",
       ".xr-array-data {\n",
       "  padding: 0 5px !important;\n",
       "  grid-column: 2;\n",
       "}\n",
       "\n",
       ".xr-array-data,\n",
       ".xr-array-in:checked ~ .xr-array-preview {\n",
       "  display: none;\n",
       "}\n",
       "\n",
       ".xr-array-in:checked ~ .xr-array-data,\n",
       ".xr-array-preview {\n",
       "  display: inline-block;\n",
       "}\n",
       "\n",
       ".xr-dim-list {\n",
       "  display: inline-block !important;\n",
       "  list-style: none;\n",
       "  padding: 0 !important;\n",
       "  margin: 0;\n",
       "}\n",
       "\n",
       ".xr-dim-list li {\n",
       "  display: inline-block;\n",
       "  padding: 0;\n",
       "  margin: 0;\n",
       "}\n",
       "\n",
       ".xr-dim-list:before {\n",
       "  content: '(';\n",
       "}\n",
       "\n",
       ".xr-dim-list:after {\n",
       "  content: ')';\n",
       "}\n",
       "\n",
       ".xr-dim-list li:not(:last-child):after {\n",
       "  content: ',';\n",
       "  padding-right: 5px;\n",
       "}\n",
       "\n",
       ".xr-has-index {\n",
       "  font-weight: bold;\n",
       "}\n",
       "\n",
       ".xr-var-list,\n",
       ".xr-var-item {\n",
       "  display: contents;\n",
       "}\n",
       "\n",
       ".xr-var-item > div,\n",
       ".xr-var-item label,\n",
       ".xr-var-item > .xr-var-name span {\n",
       "  background-color: var(--xr-background-color-row-even);\n",
       "  margin-bottom: 0;\n",
       "}\n",
       "\n",
       ".xr-var-item > .xr-var-name:hover span {\n",
       "  padding-right: 5px;\n",
       "}\n",
       "\n",
       ".xr-var-list > li:nth-child(odd) > div,\n",
       ".xr-var-list > li:nth-child(odd) > label,\n",
       ".xr-var-list > li:nth-child(odd) > .xr-var-name span {\n",
       "  background-color: var(--xr-background-color-row-odd);\n",
       "}\n",
       "\n",
       ".xr-var-name {\n",
       "  grid-column: 1;\n",
       "}\n",
       "\n",
       ".xr-var-dims {\n",
       "  grid-column: 2;\n",
       "}\n",
       "\n",
       ".xr-var-dtype {\n",
       "  grid-column: 3;\n",
       "  text-align: right;\n",
       "  color: var(--xr-font-color2);\n",
       "}\n",
       "\n",
       ".xr-var-preview {\n",
       "  grid-column: 4;\n",
       "}\n",
       "\n",
       ".xr-var-name,\n",
       ".xr-var-dims,\n",
       ".xr-var-dtype,\n",
       ".xr-preview,\n",
       ".xr-attrs dt {\n",
       "  white-space: nowrap;\n",
       "  overflow: hidden;\n",
       "  text-overflow: ellipsis;\n",
       "  padding-right: 10px;\n",
       "}\n",
       "\n",
       ".xr-var-name:hover,\n",
       ".xr-var-dims:hover,\n",
       ".xr-var-dtype:hover,\n",
       ".xr-attrs dt:hover {\n",
       "  overflow: visible;\n",
       "  width: auto;\n",
       "  z-index: 1;\n",
       "}\n",
       "\n",
       ".xr-var-attrs,\n",
       ".xr-var-data {\n",
       "  display: none;\n",
       "  background-color: var(--xr-background-color) !important;\n",
       "  padding-bottom: 5px !important;\n",
       "}\n",
       "\n",
       ".xr-var-attrs-in:checked ~ .xr-var-attrs,\n",
       ".xr-var-data-in:checked ~ .xr-var-data {\n",
       "  display: block;\n",
       "}\n",
       "\n",
       ".xr-var-data > table {\n",
       "  float: right;\n",
       "}\n",
       "\n",
       ".xr-var-name span,\n",
       ".xr-var-data,\n",
       ".xr-attrs {\n",
       "  padding-left: 25px !important;\n",
       "}\n",
       "\n",
       ".xr-attrs,\n",
       ".xr-var-attrs,\n",
       ".xr-var-data {\n",
       "  grid-column: 1 / -1;\n",
       "}\n",
       "\n",
       "dl.xr-attrs {\n",
       "  padding: 0;\n",
       "  margin: 0;\n",
       "  display: grid;\n",
       "  grid-template-columns: 125px auto;\n",
       "}\n",
       "\n",
       ".xr-attrs dt,\n",
       ".xr-attrs dd {\n",
       "  padding: 0;\n",
       "  margin: 0;\n",
       "  float: left;\n",
       "  padding-right: 10px;\n",
       "  width: auto;\n",
       "}\n",
       "\n",
       ".xr-attrs dt {\n",
       "  font-weight: normal;\n",
       "  grid-column: 1;\n",
       "}\n",
       "\n",
       ".xr-attrs dt:hover span {\n",
       "  display: inline-block;\n",
       "  background: var(--xr-background-color);\n",
       "  padding-right: 10px;\n",
       "}\n",
       "\n",
       ".xr-attrs dd {\n",
       "  grid-column: 2;\n",
       "  white-space: pre-wrap;\n",
       "  word-break: break-all;\n",
       "}\n",
       "\n",
       ".xr-icon-database,\n",
       ".xr-icon-file-text2 {\n",
       "  display: inline-block;\n",
       "  vertical-align: middle;\n",
       "  width: 1em;\n",
       "  height: 1.5em !important;\n",
       "  stroke-width: 0;\n",
       "  stroke: currentColor;\n",
       "  fill: currentColor;\n",
       "}\n",
       "</style><pre class='xr-text-repr-fallback'>&lt;xarray.DataArray &#x27;precip&#x27; ()&gt;\n",
       "array(False)</pre><div class='xr-wrap' hidden><div class='xr-header'><div class='xr-obj-type'>xarray.DataArray</div><div class='xr-array-name'>'precip'</div></div><ul class='xr-sections'><li class='xr-section-item'><div class='xr-array-wrap'><input id='section-67b7b041-56cd-42c8-ad3f-78d6fc2401bb' class='xr-array-in' type='checkbox' checked><label for='section-67b7b041-56cd-42c8-ad3f-78d6fc2401bb' title='Show/hide data repr'><svg class='icon xr-icon-database'><use xlink:href='#icon-database'></use></svg></label><div class='xr-array-preview xr-preview'><span>False</span></div><div class='xr-array-data'><pre>array(False)</pre></div></div></li><li class='xr-section-item'><input id='section-9e22adf7-5846-4ea1-9027-6b8f580abf90' class='xr-section-summary-in' type='checkbox' disabled ><label for='section-9e22adf7-5846-4ea1-9027-6b8f580abf90' class='xr-section-summary'  title='Expand/collapse section'>Coordinates: <span>(0)</span></label><div class='xr-section-inline-details'></div><div class='xr-section-details'><ul class='xr-var-list'></ul></div></li><li class='xr-section-item'><input id='section-490f7ab2-12ea-482c-99ee-6d9a254077cc' class='xr-section-summary-in' type='checkbox' disabled ><label for='section-490f7ab2-12ea-482c-99ee-6d9a254077cc' class='xr-section-summary'  title='Expand/collapse section'>Attributes: <span>(0)</span></label><div class='xr-section-inline-details'></div><div class='xr-section-details'><dl class='xr-attrs'></dl></div></li></ul></div></div>"
      ],
      "text/plain": [
       "<xarray.DataArray 'precip' ()>\n",
       "array(False)"
      ]
     },
     "execution_count": 69,
     "metadata": {},
     "output_type": "execute_result"
    }
   ],
   "source": [
    "np.alltrue((quantiles_category_percent.sum('tercile')['precip'] >= 99.9999))"
   ]
  },
  {
   "cell_type": "code",
   "execution_count": 70,
   "id": "a01003c5-3228-4599-8e02-70698cfc8fef",
   "metadata": {
    "execution": {
     "iopub.execute_input": "2021-08-20T05:17:45.130098Z",
     "iopub.status.busy": "2021-08-20T05:17:45.129563Z",
     "iopub.status.idle": "2021-08-20T05:17:45.146743Z",
     "shell.execute_reply": "2021-08-20T05:17:45.146469Z"
    },
    "papermill": {
     "duration": 0.140827,
     "end_time": "2021-08-20T05:17:45.146829",
     "exception": false,
     "start_time": "2021-08-20T05:17:45.006002",
     "status": "completed"
    },
    "tags": []
   },
   "outputs": [
    {
     "data": {
      "text/html": [
       "<div><svg style=\"position: absolute; width: 0; height: 0; overflow: hidden\">\n",
       "<defs>\n",
       "<symbol id=\"icon-database\" viewBox=\"0 0 32 32\">\n",
       "<path d=\"M16 0c-8.837 0-16 2.239-16 5v4c0 2.761 7.163 5 16 5s16-2.239 16-5v-4c0-2.761-7.163-5-16-5z\"></path>\n",
       "<path d=\"M16 17c-8.837 0-16-2.239-16-5v6c0 2.761 7.163 5 16 5s16-2.239 16-5v-6c0 2.761-7.163 5-16 5z\"></path>\n",
       "<path d=\"M16 26c-8.837 0-16-2.239-16-5v6c0 2.761 7.163 5 16 5s16-2.239 16-5v-6c0 2.761-7.163 5-16 5z\"></path>\n",
       "</symbol>\n",
       "<symbol id=\"icon-file-text2\" viewBox=\"0 0 32 32\">\n",
       "<path d=\"M28.681 7.159c-0.694-0.947-1.662-2.053-2.724-3.116s-2.169-2.030-3.116-2.724c-1.612-1.182-2.393-1.319-2.841-1.319h-15.5c-1.378 0-2.5 1.121-2.5 2.5v27c0 1.378 1.122 2.5 2.5 2.5h23c1.378 0 2.5-1.122 2.5-2.5v-19.5c0-0.448-0.137-1.23-1.319-2.841zM24.543 5.457c0.959 0.959 1.712 1.825 2.268 2.543h-4.811v-4.811c0.718 0.556 1.584 1.309 2.543 2.268zM28 29.5c0 0.271-0.229 0.5-0.5 0.5h-23c-0.271 0-0.5-0.229-0.5-0.5v-27c0-0.271 0.229-0.5 0.5-0.5 0 0 15.499-0 15.5 0v7c0 0.552 0.448 1 1 1h7v19.5z\"></path>\n",
       "<path d=\"M23 26h-14c-0.552 0-1-0.448-1-1s0.448-1 1-1h14c0.552 0 1 0.448 1 1s-0.448 1-1 1z\"></path>\n",
       "<path d=\"M23 22h-14c-0.552 0-1-0.448-1-1s0.448-1 1-1h14c0.552 0 1 0.448 1 1s-0.448 1-1 1z\"></path>\n",
       "<path d=\"M23 18h-14c-0.552 0-1-0.448-1-1s0.448-1 1-1h14c0.552 0 1 0.448 1 1s-0.448 1-1 1z\"></path>\n",
       "</symbol>\n",
       "</defs>\n",
       "</svg>\n",
       "<style>/* CSS stylesheet for displaying xarray objects in jupyterlab.\n",
       " *\n",
       " */\n",
       "\n",
       ":root {\n",
       "  --xr-font-color0: var(--jp-content-font-color0, rgba(0, 0, 0, 1));\n",
       "  --xr-font-color2: var(--jp-content-font-color2, rgba(0, 0, 0, 0.54));\n",
       "  --xr-font-color3: var(--jp-content-font-color3, rgba(0, 0, 0, 0.38));\n",
       "  --xr-border-color: var(--jp-border-color2, #e0e0e0);\n",
       "  --xr-disabled-color: var(--jp-layout-color3, #bdbdbd);\n",
       "  --xr-background-color: var(--jp-layout-color0, white);\n",
       "  --xr-background-color-row-even: var(--jp-layout-color1, white);\n",
       "  --xr-background-color-row-odd: var(--jp-layout-color2, #eeeeee);\n",
       "}\n",
       "\n",
       "html[theme=dark],\n",
       "body.vscode-dark {\n",
       "  --xr-font-color0: rgba(255, 255, 255, 1);\n",
       "  --xr-font-color2: rgba(255, 255, 255, 0.54);\n",
       "  --xr-font-color3: rgba(255, 255, 255, 0.38);\n",
       "  --xr-border-color: #1F1F1F;\n",
       "  --xr-disabled-color: #515151;\n",
       "  --xr-background-color: #111111;\n",
       "  --xr-background-color-row-even: #111111;\n",
       "  --xr-background-color-row-odd: #313131;\n",
       "}\n",
       "\n",
       ".xr-wrap {\n",
       "  display: block;\n",
       "  min-width: 300px;\n",
       "  max-width: 700px;\n",
       "}\n",
       "\n",
       ".xr-text-repr-fallback {\n",
       "  /* fallback to plain text repr when CSS is not injected (untrusted notebook) */\n",
       "  display: none;\n",
       "}\n",
       "\n",
       ".xr-header {\n",
       "  padding-top: 6px;\n",
       "  padding-bottom: 6px;\n",
       "  margin-bottom: 4px;\n",
       "  border-bottom: solid 1px var(--xr-border-color);\n",
       "}\n",
       "\n",
       ".xr-header > div,\n",
       ".xr-header > ul {\n",
       "  display: inline;\n",
       "  margin-top: 0;\n",
       "  margin-bottom: 0;\n",
       "}\n",
       "\n",
       ".xr-obj-type,\n",
       ".xr-array-name {\n",
       "  margin-left: 2px;\n",
       "  margin-right: 10px;\n",
       "}\n",
       "\n",
       ".xr-obj-type {\n",
       "  color: var(--xr-font-color2);\n",
       "}\n",
       "\n",
       ".xr-sections {\n",
       "  padding-left: 0 !important;\n",
       "  display: grid;\n",
       "  grid-template-columns: 150px auto auto 1fr 20px 20px;\n",
       "}\n",
       "\n",
       ".xr-section-item {\n",
       "  display: contents;\n",
       "}\n",
       "\n",
       ".xr-section-item input {\n",
       "  display: none;\n",
       "}\n",
       "\n",
       ".xr-section-item input + label {\n",
       "  color: var(--xr-disabled-color);\n",
       "}\n",
       "\n",
       ".xr-section-item input:enabled + label {\n",
       "  cursor: pointer;\n",
       "  color: var(--xr-font-color2);\n",
       "}\n",
       "\n",
       ".xr-section-item input:enabled + label:hover {\n",
       "  color: var(--xr-font-color0);\n",
       "}\n",
       "\n",
       ".xr-section-summary {\n",
       "  grid-column: 1;\n",
       "  color: var(--xr-font-color2);\n",
       "  font-weight: 500;\n",
       "}\n",
       "\n",
       ".xr-section-summary > span {\n",
       "  display: inline-block;\n",
       "  padding-left: 0.5em;\n",
       "}\n",
       "\n",
       ".xr-section-summary-in:disabled + label {\n",
       "  color: var(--xr-font-color2);\n",
       "}\n",
       "\n",
       ".xr-section-summary-in + label:before {\n",
       "  display: inline-block;\n",
       "  content: '►';\n",
       "  font-size: 11px;\n",
       "  width: 15px;\n",
       "  text-align: center;\n",
       "}\n",
       "\n",
       ".xr-section-summary-in:disabled + label:before {\n",
       "  color: var(--xr-disabled-color);\n",
       "}\n",
       "\n",
       ".xr-section-summary-in:checked + label:before {\n",
       "  content: '▼';\n",
       "}\n",
       "\n",
       ".xr-section-summary-in:checked + label > span {\n",
       "  display: none;\n",
       "}\n",
       "\n",
       ".xr-section-summary,\n",
       ".xr-section-inline-details {\n",
       "  padding-top: 4px;\n",
       "  padding-bottom: 4px;\n",
       "}\n",
       "\n",
       ".xr-section-inline-details {\n",
       "  grid-column: 2 / -1;\n",
       "}\n",
       "\n",
       ".xr-section-details {\n",
       "  display: none;\n",
       "  grid-column: 1 / -1;\n",
       "  margin-bottom: 5px;\n",
       "}\n",
       "\n",
       ".xr-section-summary-in:checked ~ .xr-section-details {\n",
       "  display: contents;\n",
       "}\n",
       "\n",
       ".xr-array-wrap {\n",
       "  grid-column: 1 / -1;\n",
       "  display: grid;\n",
       "  grid-template-columns: 20px auto;\n",
       "}\n",
       "\n",
       ".xr-array-wrap > label {\n",
       "  grid-column: 1;\n",
       "  vertical-align: top;\n",
       "}\n",
       "\n",
       ".xr-preview {\n",
       "  color: var(--xr-font-color3);\n",
       "}\n",
       "\n",
       ".xr-array-preview,\n",
       ".xr-array-data {\n",
       "  padding: 0 5px !important;\n",
       "  grid-column: 2;\n",
       "}\n",
       "\n",
       ".xr-array-data,\n",
       ".xr-array-in:checked ~ .xr-array-preview {\n",
       "  display: none;\n",
       "}\n",
       "\n",
       ".xr-array-in:checked ~ .xr-array-data,\n",
       ".xr-array-preview {\n",
       "  display: inline-block;\n",
       "}\n",
       "\n",
       ".xr-dim-list {\n",
       "  display: inline-block !important;\n",
       "  list-style: none;\n",
       "  padding: 0 !important;\n",
       "  margin: 0;\n",
       "}\n",
       "\n",
       ".xr-dim-list li {\n",
       "  display: inline-block;\n",
       "  padding: 0;\n",
       "  margin: 0;\n",
       "}\n",
       "\n",
       ".xr-dim-list:before {\n",
       "  content: '(';\n",
       "}\n",
       "\n",
       ".xr-dim-list:after {\n",
       "  content: ')';\n",
       "}\n",
       "\n",
       ".xr-dim-list li:not(:last-child):after {\n",
       "  content: ',';\n",
       "  padding-right: 5px;\n",
       "}\n",
       "\n",
       ".xr-has-index {\n",
       "  font-weight: bold;\n",
       "}\n",
       "\n",
       ".xr-var-list,\n",
       ".xr-var-item {\n",
       "  display: contents;\n",
       "}\n",
       "\n",
       ".xr-var-item > div,\n",
       ".xr-var-item label,\n",
       ".xr-var-item > .xr-var-name span {\n",
       "  background-color: var(--xr-background-color-row-even);\n",
       "  margin-bottom: 0;\n",
       "}\n",
       "\n",
       ".xr-var-item > .xr-var-name:hover span {\n",
       "  padding-right: 5px;\n",
       "}\n",
       "\n",
       ".xr-var-list > li:nth-child(odd) > div,\n",
       ".xr-var-list > li:nth-child(odd) > label,\n",
       ".xr-var-list > li:nth-child(odd) > .xr-var-name span {\n",
       "  background-color: var(--xr-background-color-row-odd);\n",
       "}\n",
       "\n",
       ".xr-var-name {\n",
       "  grid-column: 1;\n",
       "}\n",
       "\n",
       ".xr-var-dims {\n",
       "  grid-column: 2;\n",
       "}\n",
       "\n",
       ".xr-var-dtype {\n",
       "  grid-column: 3;\n",
       "  text-align: right;\n",
       "  color: var(--xr-font-color2);\n",
       "}\n",
       "\n",
       ".xr-var-preview {\n",
       "  grid-column: 4;\n",
       "}\n",
       "\n",
       ".xr-var-name,\n",
       ".xr-var-dims,\n",
       ".xr-var-dtype,\n",
       ".xr-preview,\n",
       ".xr-attrs dt {\n",
       "  white-space: nowrap;\n",
       "  overflow: hidden;\n",
       "  text-overflow: ellipsis;\n",
       "  padding-right: 10px;\n",
       "}\n",
       "\n",
       ".xr-var-name:hover,\n",
       ".xr-var-dims:hover,\n",
       ".xr-var-dtype:hover,\n",
       ".xr-attrs dt:hover {\n",
       "  overflow: visible;\n",
       "  width: auto;\n",
       "  z-index: 1;\n",
       "}\n",
       "\n",
       ".xr-var-attrs,\n",
       ".xr-var-data {\n",
       "  display: none;\n",
       "  background-color: var(--xr-background-color) !important;\n",
       "  padding-bottom: 5px !important;\n",
       "}\n",
       "\n",
       ".xr-var-attrs-in:checked ~ .xr-var-attrs,\n",
       ".xr-var-data-in:checked ~ .xr-var-data {\n",
       "  display: block;\n",
       "}\n",
       "\n",
       ".xr-var-data > table {\n",
       "  float: right;\n",
       "}\n",
       "\n",
       ".xr-var-name span,\n",
       ".xr-var-data,\n",
       ".xr-attrs {\n",
       "  padding-left: 25px !important;\n",
       "}\n",
       "\n",
       ".xr-attrs,\n",
       ".xr-var-attrs,\n",
       ".xr-var-data {\n",
       "  grid-column: 1 / -1;\n",
       "}\n",
       "\n",
       "dl.xr-attrs {\n",
       "  padding: 0;\n",
       "  margin: 0;\n",
       "  display: grid;\n",
       "  grid-template-columns: 125px auto;\n",
       "}\n",
       "\n",
       ".xr-attrs dt,\n",
       ".xr-attrs dd {\n",
       "  padding: 0;\n",
       "  margin: 0;\n",
       "  float: left;\n",
       "  padding-right: 10px;\n",
       "  width: auto;\n",
       "}\n",
       "\n",
       ".xr-attrs dt {\n",
       "  font-weight: normal;\n",
       "  grid-column: 1;\n",
       "}\n",
       "\n",
       ".xr-attrs dt:hover span {\n",
       "  display: inline-block;\n",
       "  background: var(--xr-background-color);\n",
       "  padding-right: 10px;\n",
       "}\n",
       "\n",
       ".xr-attrs dd {\n",
       "  grid-column: 2;\n",
       "  white-space: pre-wrap;\n",
       "  word-break: break-all;\n",
       "}\n",
       "\n",
       ".xr-icon-database,\n",
       ".xr-icon-file-text2 {\n",
       "  display: inline-block;\n",
       "  vertical-align: middle;\n",
       "  width: 1em;\n",
       "  height: 1.5em !important;\n",
       "  stroke-width: 0;\n",
       "  stroke: currentColor;\n",
       "  fill: currentColor;\n",
       "}\n",
       "</style><pre class='xr-text-repr-fallback'>&lt;xarray.DataArray &#x27;precip&#x27; ()&gt;\n",
       "array(True)</pre><div class='xr-wrap' hidden><div class='xr-header'><div class='xr-obj-type'>xarray.DataArray</div><div class='xr-array-name'>'precip'</div></div><ul class='xr-sections'><li class='xr-section-item'><div class='xr-array-wrap'><input id='section-294fc0ea-f8bc-4237-bc33-a496d2b0230c' class='xr-array-in' type='checkbox' checked><label for='section-294fc0ea-f8bc-4237-bc33-a496d2b0230c' title='Show/hide data repr'><svg class='icon xr-icon-database'><use xlink:href='#icon-database'></use></svg></label><div class='xr-array-preview xr-preview'><span>True</span></div><div class='xr-array-data'><pre>array(True)</pre></div></div></li><li class='xr-section-item'><input id='section-4707fae0-47e9-48fa-b25e-7aaefb76e34e' class='xr-section-summary-in' type='checkbox' disabled ><label for='section-4707fae0-47e9-48fa-b25e-7aaefb76e34e' class='xr-section-summary'  title='Expand/collapse section'>Coordinates: <span>(0)</span></label><div class='xr-section-inline-details'></div><div class='xr-section-details'><ul class='xr-var-list'></ul></div></li><li class='xr-section-item'><input id='section-805db470-37af-46b4-b0c9-d3cb25db498b' class='xr-section-summary-in' type='checkbox' disabled ><label for='section-805db470-37af-46b4-b0c9-d3cb25db498b' class='xr-section-summary'  title='Expand/collapse section'>Attributes: <span>(0)</span></label><div class='xr-section-inline-details'></div><div class='xr-section-details'><dl class='xr-attrs'></dl></div></li></ul></div></div>"
      ],
      "text/plain": [
       "<xarray.DataArray 'precip' ()>\n",
       "array(True)"
      ]
     },
     "execution_count": 70,
     "metadata": {},
     "output_type": "execute_result"
    }
   ],
   "source": [
    "np.alltrue((quantiles_category_percent.sum('tercile')['precip'] <= 100.0001))"
   ]
  },
  {
   "cell_type": "code",
   "execution_count": 71,
   "id": "5f9b34cf-4ead-4a97-885b-67f1ff3247f8",
   "metadata": {
    "execution": {
     "iopub.execute_input": "2021-08-20T05:17:45.388441Z",
     "iopub.status.busy": "2021-08-20T05:17:45.388107Z",
     "iopub.status.idle": "2021-08-20T05:17:45.413466Z",
     "shell.execute_reply": "2021-08-20T05:17:45.413145Z"
    },
    "papermill": {
     "duration": 0.146649,
     "end_time": "2021-08-20T05:17:45.413548",
     "exception": false,
     "start_time": "2021-08-20T05:17:45.266899",
     "status": "completed"
    },
    "tags": []
   },
   "outputs": [
    {
     "data": {
      "text/html": [
       "<div><svg style=\"position: absolute; width: 0; height: 0; overflow: hidden\">\n",
       "<defs>\n",
       "<symbol id=\"icon-database\" viewBox=\"0 0 32 32\">\n",
       "<path d=\"M16 0c-8.837 0-16 2.239-16 5v4c0 2.761 7.163 5 16 5s16-2.239 16-5v-4c0-2.761-7.163-5-16-5z\"></path>\n",
       "<path d=\"M16 17c-8.837 0-16-2.239-16-5v6c0 2.761 7.163 5 16 5s16-2.239 16-5v-6c0 2.761-7.163 5-16 5z\"></path>\n",
       "<path d=\"M16 26c-8.837 0-16-2.239-16-5v6c0 2.761 7.163 5 16 5s16-2.239 16-5v-6c0 2.761-7.163 5-16 5z\"></path>\n",
       "</symbol>\n",
       "<symbol id=\"icon-file-text2\" viewBox=\"0 0 32 32\">\n",
       "<path d=\"M28.681 7.159c-0.694-0.947-1.662-2.053-2.724-3.116s-2.169-2.030-3.116-2.724c-1.612-1.182-2.393-1.319-2.841-1.319h-15.5c-1.378 0-2.5 1.121-2.5 2.5v27c0 1.378 1.122 2.5 2.5 2.5h23c1.378 0 2.5-1.122 2.5-2.5v-19.5c0-0.448-0.137-1.23-1.319-2.841zM24.543 5.457c0.959 0.959 1.712 1.825 2.268 2.543h-4.811v-4.811c0.718 0.556 1.584 1.309 2.543 2.268zM28 29.5c0 0.271-0.229 0.5-0.5 0.5h-23c-0.271 0-0.5-0.229-0.5-0.5v-27c0-0.271 0.229-0.5 0.5-0.5 0 0 15.499-0 15.5 0v7c0 0.552 0.448 1 1 1h7v19.5z\"></path>\n",
       "<path d=\"M23 26h-14c-0.552 0-1-0.448-1-1s0.448-1 1-1h14c0.552 0 1 0.448 1 1s-0.448 1-1 1z\"></path>\n",
       "<path d=\"M23 22h-14c-0.552 0-1-0.448-1-1s0.448-1 1-1h14c0.552 0 1 0.448 1 1s-0.448 1-1 1z\"></path>\n",
       "<path d=\"M23 18h-14c-0.552 0-1-0.448-1-1s0.448-1 1-1h14c0.552 0 1 0.448 1 1s-0.448 1-1 1z\"></path>\n",
       "</symbol>\n",
       "</defs>\n",
       "</svg>\n",
       "<style>/* CSS stylesheet for displaying xarray objects in jupyterlab.\n",
       " *\n",
       " */\n",
       "\n",
       ":root {\n",
       "  --xr-font-color0: var(--jp-content-font-color0, rgba(0, 0, 0, 1));\n",
       "  --xr-font-color2: var(--jp-content-font-color2, rgba(0, 0, 0, 0.54));\n",
       "  --xr-font-color3: var(--jp-content-font-color3, rgba(0, 0, 0, 0.38));\n",
       "  --xr-border-color: var(--jp-border-color2, #e0e0e0);\n",
       "  --xr-disabled-color: var(--jp-layout-color3, #bdbdbd);\n",
       "  --xr-background-color: var(--jp-layout-color0, white);\n",
       "  --xr-background-color-row-even: var(--jp-layout-color1, white);\n",
       "  --xr-background-color-row-odd: var(--jp-layout-color2, #eeeeee);\n",
       "}\n",
       "\n",
       "html[theme=dark],\n",
       "body.vscode-dark {\n",
       "  --xr-font-color0: rgba(255, 255, 255, 1);\n",
       "  --xr-font-color2: rgba(255, 255, 255, 0.54);\n",
       "  --xr-font-color3: rgba(255, 255, 255, 0.38);\n",
       "  --xr-border-color: #1F1F1F;\n",
       "  --xr-disabled-color: #515151;\n",
       "  --xr-background-color: #111111;\n",
       "  --xr-background-color-row-even: #111111;\n",
       "  --xr-background-color-row-odd: #313131;\n",
       "}\n",
       "\n",
       ".xr-wrap {\n",
       "  display: block;\n",
       "  min-width: 300px;\n",
       "  max-width: 700px;\n",
       "}\n",
       "\n",
       ".xr-text-repr-fallback {\n",
       "  /* fallback to plain text repr when CSS is not injected (untrusted notebook) */\n",
       "  display: none;\n",
       "}\n",
       "\n",
       ".xr-header {\n",
       "  padding-top: 6px;\n",
       "  padding-bottom: 6px;\n",
       "  margin-bottom: 4px;\n",
       "  border-bottom: solid 1px var(--xr-border-color);\n",
       "}\n",
       "\n",
       ".xr-header > div,\n",
       ".xr-header > ul {\n",
       "  display: inline;\n",
       "  margin-top: 0;\n",
       "  margin-bottom: 0;\n",
       "}\n",
       "\n",
       ".xr-obj-type,\n",
       ".xr-array-name {\n",
       "  margin-left: 2px;\n",
       "  margin-right: 10px;\n",
       "}\n",
       "\n",
       ".xr-obj-type {\n",
       "  color: var(--xr-font-color2);\n",
       "}\n",
       "\n",
       ".xr-sections {\n",
       "  padding-left: 0 !important;\n",
       "  display: grid;\n",
       "  grid-template-columns: 150px auto auto 1fr 20px 20px;\n",
       "}\n",
       "\n",
       ".xr-section-item {\n",
       "  display: contents;\n",
       "}\n",
       "\n",
       ".xr-section-item input {\n",
       "  display: none;\n",
       "}\n",
       "\n",
       ".xr-section-item input + label {\n",
       "  color: var(--xr-disabled-color);\n",
       "}\n",
       "\n",
       ".xr-section-item input:enabled + label {\n",
       "  cursor: pointer;\n",
       "  color: var(--xr-font-color2);\n",
       "}\n",
       "\n",
       ".xr-section-item input:enabled + label:hover {\n",
       "  color: var(--xr-font-color0);\n",
       "}\n",
       "\n",
       ".xr-section-summary {\n",
       "  grid-column: 1;\n",
       "  color: var(--xr-font-color2);\n",
       "  font-weight: 500;\n",
       "}\n",
       "\n",
       ".xr-section-summary > span {\n",
       "  display: inline-block;\n",
       "  padding-left: 0.5em;\n",
       "}\n",
       "\n",
       ".xr-section-summary-in:disabled + label {\n",
       "  color: var(--xr-font-color2);\n",
       "}\n",
       "\n",
       ".xr-section-summary-in + label:before {\n",
       "  display: inline-block;\n",
       "  content: '►';\n",
       "  font-size: 11px;\n",
       "  width: 15px;\n",
       "  text-align: center;\n",
       "}\n",
       "\n",
       ".xr-section-summary-in:disabled + label:before {\n",
       "  color: var(--xr-disabled-color);\n",
       "}\n",
       "\n",
       ".xr-section-summary-in:checked + label:before {\n",
       "  content: '▼';\n",
       "}\n",
       "\n",
       ".xr-section-summary-in:checked + label > span {\n",
       "  display: none;\n",
       "}\n",
       "\n",
       ".xr-section-summary,\n",
       ".xr-section-inline-details {\n",
       "  padding-top: 4px;\n",
       "  padding-bottom: 4px;\n",
       "}\n",
       "\n",
       ".xr-section-inline-details {\n",
       "  grid-column: 2 / -1;\n",
       "}\n",
       "\n",
       ".xr-section-details {\n",
       "  display: none;\n",
       "  grid-column: 1 / -1;\n",
       "  margin-bottom: 5px;\n",
       "}\n",
       "\n",
       ".xr-section-summary-in:checked ~ .xr-section-details {\n",
       "  display: contents;\n",
       "}\n",
       "\n",
       ".xr-array-wrap {\n",
       "  grid-column: 1 / -1;\n",
       "  display: grid;\n",
       "  grid-template-columns: 20px auto;\n",
       "}\n",
       "\n",
       ".xr-array-wrap > label {\n",
       "  grid-column: 1;\n",
       "  vertical-align: top;\n",
       "}\n",
       "\n",
       ".xr-preview {\n",
       "  color: var(--xr-font-color3);\n",
       "}\n",
       "\n",
       ".xr-array-preview,\n",
       ".xr-array-data {\n",
       "  padding: 0 5px !important;\n",
       "  grid-column: 2;\n",
       "}\n",
       "\n",
       ".xr-array-data,\n",
       ".xr-array-in:checked ~ .xr-array-preview {\n",
       "  display: none;\n",
       "}\n",
       "\n",
       ".xr-array-in:checked ~ .xr-array-data,\n",
       ".xr-array-preview {\n",
       "  display: inline-block;\n",
       "}\n",
       "\n",
       ".xr-dim-list {\n",
       "  display: inline-block !important;\n",
       "  list-style: none;\n",
       "  padding: 0 !important;\n",
       "  margin: 0;\n",
       "}\n",
       "\n",
       ".xr-dim-list li {\n",
       "  display: inline-block;\n",
       "  padding: 0;\n",
       "  margin: 0;\n",
       "}\n",
       "\n",
       ".xr-dim-list:before {\n",
       "  content: '(';\n",
       "}\n",
       "\n",
       ".xr-dim-list:after {\n",
       "  content: ')';\n",
       "}\n",
       "\n",
       ".xr-dim-list li:not(:last-child):after {\n",
       "  content: ',';\n",
       "  padding-right: 5px;\n",
       "}\n",
       "\n",
       ".xr-has-index {\n",
       "  font-weight: bold;\n",
       "}\n",
       "\n",
       ".xr-var-list,\n",
       ".xr-var-item {\n",
       "  display: contents;\n",
       "}\n",
       "\n",
       ".xr-var-item > div,\n",
       ".xr-var-item label,\n",
       ".xr-var-item > .xr-var-name span {\n",
       "  background-color: var(--xr-background-color-row-even);\n",
       "  margin-bottom: 0;\n",
       "}\n",
       "\n",
       ".xr-var-item > .xr-var-name:hover span {\n",
       "  padding-right: 5px;\n",
       "}\n",
       "\n",
       ".xr-var-list > li:nth-child(odd) > div,\n",
       ".xr-var-list > li:nth-child(odd) > label,\n",
       ".xr-var-list > li:nth-child(odd) > .xr-var-name span {\n",
       "  background-color: var(--xr-background-color-row-odd);\n",
       "}\n",
       "\n",
       ".xr-var-name {\n",
       "  grid-column: 1;\n",
       "}\n",
       "\n",
       ".xr-var-dims {\n",
       "  grid-column: 2;\n",
       "}\n",
       "\n",
       ".xr-var-dtype {\n",
       "  grid-column: 3;\n",
       "  text-align: right;\n",
       "  color: var(--xr-font-color2);\n",
       "}\n",
       "\n",
       ".xr-var-preview {\n",
       "  grid-column: 4;\n",
       "}\n",
       "\n",
       ".xr-var-name,\n",
       ".xr-var-dims,\n",
       ".xr-var-dtype,\n",
       ".xr-preview,\n",
       ".xr-attrs dt {\n",
       "  white-space: nowrap;\n",
       "  overflow: hidden;\n",
       "  text-overflow: ellipsis;\n",
       "  padding-right: 10px;\n",
       "}\n",
       "\n",
       ".xr-var-name:hover,\n",
       ".xr-var-dims:hover,\n",
       ".xr-var-dtype:hover,\n",
       ".xr-attrs dt:hover {\n",
       "  overflow: visible;\n",
       "  width: auto;\n",
       "  z-index: 1;\n",
       "}\n",
       "\n",
       ".xr-var-attrs,\n",
       ".xr-var-data {\n",
       "  display: none;\n",
       "  background-color: var(--xr-background-color) !important;\n",
       "  padding-bottom: 5px !important;\n",
       "}\n",
       "\n",
       ".xr-var-attrs-in:checked ~ .xr-var-attrs,\n",
       ".xr-var-data-in:checked ~ .xr-var-data {\n",
       "  display: block;\n",
       "}\n",
       "\n",
       ".xr-var-data > table {\n",
       "  float: right;\n",
       "}\n",
       "\n",
       ".xr-var-name span,\n",
       ".xr-var-data,\n",
       ".xr-attrs {\n",
       "  padding-left: 25px !important;\n",
       "}\n",
       "\n",
       ".xr-attrs,\n",
       ".xr-var-attrs,\n",
       ".xr-var-data {\n",
       "  grid-column: 1 / -1;\n",
       "}\n",
       "\n",
       "dl.xr-attrs {\n",
       "  padding: 0;\n",
       "  margin: 0;\n",
       "  display: grid;\n",
       "  grid-template-columns: 125px auto;\n",
       "}\n",
       "\n",
       ".xr-attrs dt,\n",
       ".xr-attrs dd {\n",
       "  padding: 0;\n",
       "  margin: 0;\n",
       "  float: left;\n",
       "  padding-right: 10px;\n",
       "  width: auto;\n",
       "}\n",
       "\n",
       ".xr-attrs dt {\n",
       "  font-weight: normal;\n",
       "  grid-column: 1;\n",
       "}\n",
       "\n",
       ".xr-attrs dt:hover span {\n",
       "  display: inline-block;\n",
       "  background: var(--xr-background-color);\n",
       "  padding-right: 10px;\n",
       "}\n",
       "\n",
       ".xr-attrs dd {\n",
       "  grid-column: 2;\n",
       "  white-space: pre-wrap;\n",
       "  word-break: break-all;\n",
       "}\n",
       "\n",
       ".xr-icon-database,\n",
       ".xr-icon-file-text2 {\n",
       "  display: inline-block;\n",
       "  vertical-align: middle;\n",
       "  width: 1em;\n",
       "  height: 1.5em !important;\n",
       "  stroke-width: 0;\n",
       "  stroke: currentColor;\n",
       "  fill: currentColor;\n",
       "}\n",
       "</style><pre class='xr-text-repr-fallback'>&lt;xarray.Dataset&gt;\n",
       "Dimensions:  (tercile: 3, time: 288, step: 3)\n",
       "Coordinates:\n",
       "  * time     (time) datetime64[ns] 1993-01-01 1993-02-01 ... 2016-12-01\n",
       "  * step     (step) int64 3 4 5\n",
       "    month    (time) int64 1 2 3 4 5 6 7 8 9 10 11 ... 2 3 4 5 6 7 8 9 10 11 12\n",
       "  * tercile  (tercile) int64 1 2 3\n",
       "Data variables:\n",
       "    precip   (tercile, time, step) float64 32.14 21.43 10.71 ... 25.0 28.57</pre><div class='xr-wrap' hidden><div class='xr-header'><div class='xr-obj-type'>xarray.Dataset</div></div><ul class='xr-sections'><li class='xr-section-item'><input id='section-a469f281-4353-4a4e-906c-2f12a2674e38' class='xr-section-summary-in' type='checkbox' disabled ><label for='section-a469f281-4353-4a4e-906c-2f12a2674e38' class='xr-section-summary'  title='Expand/collapse section'>Dimensions:</label><div class='xr-section-inline-details'><ul class='xr-dim-list'><li><span class='xr-has-index'>tercile</span>: 3</li><li><span class='xr-has-index'>time</span>: 288</li><li><span class='xr-has-index'>step</span>: 3</li></ul></div><div class='xr-section-details'></div></li><li class='xr-section-item'><input id='section-8a3e2f23-a3e7-4aef-8c41-6d2dcbbee332' class='xr-section-summary-in' type='checkbox'  checked><label for='section-8a3e2f23-a3e7-4aef-8c41-6d2dcbbee332' class='xr-section-summary' >Coordinates: <span>(4)</span></label><div class='xr-section-inline-details'></div><div class='xr-section-details'><ul class='xr-var-list'><li class='xr-var-item'><div class='xr-var-name'><span class='xr-has-index'>time</span></div><div class='xr-var-dims'>(time)</div><div class='xr-var-dtype'>datetime64[ns]</div><div class='xr-var-preview xr-preview'>1993-01-01 ... 2016-12-01</div><input id='attrs-2060345c-1ac8-4315-8eaa-6f73cd0238e6' class='xr-var-attrs-in' type='checkbox' disabled><label for='attrs-2060345c-1ac8-4315-8eaa-6f73cd0238e6' title='Show/Hide attributes'><svg class='icon xr-icon-file-text2'><use xlink:href='#icon-file-text2'></use></svg></label><input id='data-f0f1fac0-e113-474f-b3f4-a4d17da73c01' class='xr-var-data-in' type='checkbox'><label for='data-f0f1fac0-e113-474f-b3f4-a4d17da73c01' title='Show/Hide data repr'><svg class='icon xr-icon-database'><use xlink:href='#icon-database'></use></svg></label><div class='xr-var-attrs'><dl class='xr-attrs'></dl></div><div class='xr-var-data'><pre>array([&#x27;1993-01-01T00:00:00.000000000&#x27;, &#x27;1993-02-01T00:00:00.000000000&#x27;,\n",
       "       &#x27;1993-03-01T00:00:00.000000000&#x27;, ..., &#x27;2016-10-01T00:00:00.000000000&#x27;,\n",
       "       &#x27;2016-11-01T00:00:00.000000000&#x27;, &#x27;2016-12-01T00:00:00.000000000&#x27;],\n",
       "      dtype=&#x27;datetime64[ns]&#x27;)</pre></div></li><li class='xr-var-item'><div class='xr-var-name'><span class='xr-has-index'>step</span></div><div class='xr-var-dims'>(step)</div><div class='xr-var-dtype'>int64</div><div class='xr-var-preview xr-preview'>3 4 5</div><input id='attrs-4b9c1059-94b3-49c6-9b87-0f2582aa3019' class='xr-var-attrs-in' type='checkbox' disabled><label for='attrs-4b9c1059-94b3-49c6-9b87-0f2582aa3019' title='Show/Hide attributes'><svg class='icon xr-icon-file-text2'><use xlink:href='#icon-file-text2'></use></svg></label><input id='data-957a0e7d-18aa-452e-8f27-6ae42a978f66' class='xr-var-data-in' type='checkbox'><label for='data-957a0e7d-18aa-452e-8f27-6ae42a978f66' title='Show/Hide data repr'><svg class='icon xr-icon-database'><use xlink:href='#icon-database'></use></svg></label><div class='xr-var-attrs'><dl class='xr-attrs'></dl></div><div class='xr-var-data'><pre>array([3, 4, 5])</pre></div></li><li class='xr-var-item'><div class='xr-var-name'><span>month</span></div><div class='xr-var-dims'>(time)</div><div class='xr-var-dtype'>int64</div><div class='xr-var-preview xr-preview'>1 2 3 4 5 6 7 ... 6 7 8 9 10 11 12</div><input id='attrs-c091237a-33e1-41b3-b999-97aae8c571ba' class='xr-var-attrs-in' type='checkbox' disabled><label for='attrs-c091237a-33e1-41b3-b999-97aae8c571ba' title='Show/Hide attributes'><svg class='icon xr-icon-file-text2'><use xlink:href='#icon-file-text2'></use></svg></label><input id='data-e8ff6622-1822-4d9c-a467-65d29e554b41' class='xr-var-data-in' type='checkbox'><label for='data-e8ff6622-1822-4d9c-a467-65d29e554b41' title='Show/Hide data repr'><svg class='icon xr-icon-database'><use xlink:href='#icon-database'></use></svg></label><div class='xr-var-attrs'><dl class='xr-attrs'></dl></div><div class='xr-var-data'><pre>array([ 1,  2,  3,  4,  5,  6,  7,  8,  9, 10, 11, 12,  1,  2,  3,  4,  5,\n",
       "        6,  7,  8,  9, 10, 11, 12,  1,  2,  3,  4,  5,  6,  7,  8,  9, 10,\n",
       "       11, 12,  1,  2,  3,  4,  5,  6,  7,  8,  9, 10, 11, 12,  1,  2,  3,\n",
       "        4,  5,  6,  7,  8,  9, 10, 11, 12,  1,  2,  3,  4,  5,  6,  7,  8,\n",
       "        9, 10, 11, 12,  1,  2,  3,  4,  5,  6,  7,  8,  9, 10, 11, 12,  1,\n",
       "        2,  3,  4,  5,  6,  7,  8,  9, 10, 11, 12,  1,  2,  3,  4,  5,  6,\n",
       "        7,  8,  9, 10, 11, 12,  1,  2,  3,  4,  5,  6,  7,  8,  9, 10, 11,\n",
       "       12,  1,  2,  3,  4,  5,  6,  7,  8,  9, 10, 11, 12,  1,  2,  3,  4,\n",
       "        5,  6,  7,  8,  9, 10, 11, 12,  1,  2,  3,  4,  5,  6,  7,  8,  9,\n",
       "       10, 11, 12,  1,  2,  3,  4,  5,  6,  7,  8,  9, 10, 11, 12,  1,  2,\n",
       "        3,  4,  5,  6,  7,  8,  9, 10, 11, 12,  1,  2,  3,  4,  5,  6,  7,\n",
       "        8,  9, 10, 11, 12,  1,  2,  3,  4,  5,  6,  7,  8,  9, 10, 11, 12,\n",
       "        1,  2,  3,  4,  5,  6,  7,  8,  9, 10, 11, 12,  1,  2,  3,  4,  5,\n",
       "        6,  7,  8,  9, 10, 11, 12,  1,  2,  3,  4,  5,  6,  7,  8,  9, 10,\n",
       "       11, 12,  1,  2,  3,  4,  5,  6,  7,  8,  9, 10, 11, 12,  1,  2,  3,\n",
       "        4,  5,  6,  7,  8,  9, 10, 11, 12,  1,  2,  3,  4,  5,  6,  7,  8,\n",
       "        9, 10, 11, 12,  1,  2,  3,  4,  5,  6,  7,  8,  9, 10, 11, 12])</pre></div></li><li class='xr-var-item'><div class='xr-var-name'><span class='xr-has-index'>tercile</span></div><div class='xr-var-dims'>(tercile)</div><div class='xr-var-dtype'>int64</div><div class='xr-var-preview xr-preview'>1 2 3</div><input id='attrs-c4abc30e-c321-49ee-89b9-13fb271656f8' class='xr-var-attrs-in' type='checkbox' disabled><label for='attrs-c4abc30e-c321-49ee-89b9-13fb271656f8' title='Show/Hide attributes'><svg class='icon xr-icon-file-text2'><use xlink:href='#icon-file-text2'></use></svg></label><input id='data-7b76f897-871f-4f4a-9ca7-b048077b0550' class='xr-var-data-in' type='checkbox'><label for='data-7b76f897-871f-4f4a-9ca7-b048077b0550' title='Show/Hide data repr'><svg class='icon xr-icon-database'><use xlink:href='#icon-database'></use></svg></label><div class='xr-var-attrs'><dl class='xr-attrs'></dl></div><div class='xr-var-data'><pre>array([1, 2, 3])</pre></div></li></ul></div></li><li class='xr-section-item'><input id='section-5ab2dbda-917e-4bdc-aba8-2e1b3d9f7b38' class='xr-section-summary-in' type='checkbox'  checked><label for='section-5ab2dbda-917e-4bdc-aba8-2e1b3d9f7b38' class='xr-section-summary' >Data variables: <span>(1)</span></label><div class='xr-section-inline-details'></div><div class='xr-section-details'><ul class='xr-var-list'><li class='xr-var-item'><div class='xr-var-name'><span>precip</span></div><div class='xr-var-dims'>(tercile, time, step)</div><div class='xr-var-dtype'>float64</div><div class='xr-var-preview xr-preview'>32.14 21.43 10.71 ... 25.0 28.57</div><input id='attrs-678a68ae-44f7-4446-88c9-a7233d2ff30f' class='xr-var-attrs-in' type='checkbox' disabled><label for='attrs-678a68ae-44f7-4446-88c9-a7233d2ff30f' title='Show/Hide attributes'><svg class='icon xr-icon-file-text2'><use xlink:href='#icon-file-text2'></use></svg></label><input id='data-a02a82d4-f321-48f8-9a85-8ac9b0077ded' class='xr-var-data-in' type='checkbox'><label for='data-a02a82d4-f321-48f8-9a85-8ac9b0077ded' title='Show/Hide data repr'><svg class='icon xr-icon-database'><use xlink:href='#icon-database'></use></svg></label><div class='xr-var-attrs'><dl class='xr-attrs'></dl></div><div class='xr-var-data'><pre>array([[[32.14285714, 21.42857143, 10.71428571],\n",
       "        [28.57142857, 17.85714286, 17.85714286],\n",
       "        [39.28571429, 28.57142857, 25.        ],\n",
       "        ...,\n",
       "        [10.71428571, 39.28571429, 35.71428571],\n",
       "        [25.        , 39.28571429, 42.85714286],\n",
       "        [35.71428571, 32.14285714, 32.14285714]],\n",
       "\n",
       "       [[42.85714286, 32.14285714, 42.85714286],\n",
       "        [25.        , 28.57142857, 39.28571429],\n",
       "        [28.57142857, 35.71428571, 35.71428571],\n",
       "        ...,\n",
       "        [32.14285714, 17.85714286, 28.57142857],\n",
       "        [25.        , 25.        , 17.85714286],\n",
       "        [21.42857143, 28.57142857, 25.        ]],\n",
       "\n",
       "       [[25.        , 46.42857143, 46.42857143],\n",
       "        [32.14285714, 39.28571429, 28.57142857],\n",
       "        [ 3.57142857,  7.14285714, 10.71428571],\n",
       "        ...,\n",
       "        [42.85714286, 28.57142857, 21.42857143],\n",
       "        [35.71428571, 21.42857143, 25.        ],\n",
       "        [28.57142857, 25.        , 28.57142857]]])</pre></div></li></ul></div></li><li class='xr-section-item'><input id='section-3ca2ceec-5a9b-42b7-b2e4-9a36a3d29e43' class='xr-section-summary-in' type='checkbox' disabled ><label for='section-3ca2ceec-5a9b-42b7-b2e4-9a36a3d29e43' class='xr-section-summary'  title='Expand/collapse section'>Attributes: <span>(0)</span></label><div class='xr-section-inline-details'></div><div class='xr-section-details'><dl class='xr-attrs'></dl></div></li></ul></div></div>"
      ],
      "text/plain": [
       "<xarray.Dataset>\n",
       "Dimensions:  (tercile: 3, time: 288, step: 3)\n",
       "Coordinates:\n",
       "  * time     (time) datetime64[ns] 1993-01-01 1993-02-01 ... 2016-12-01\n",
       "  * step     (step) int64 3 4 5\n",
       "    month    (time) int64 1 2 3 4 5 6 7 8 9 10 11 ... 2 3 4 5 6 7 8 9 10 11 12\n",
       "  * tercile  (tercile) int64 1 2 3\n",
       "Data variables:\n",
       "    precip   (tercile, time, step) float64 32.14 21.43 10.71 ... 25.0 28.57"
      ]
     },
     "execution_count": 71,
     "metadata": {},
     "output_type": "execute_result"
    }
   ],
   "source": [
    "quantiles_category_percent"
   ]
  },
  {
   "cell_type": "markdown",
   "id": "843199f1-5fe5-4417-9107-4ac6a61bc68e",
   "metadata": {
    "papermill": {
     "duration": 0.12092,
     "end_time": "2021-08-20T05:17:45.655228",
     "exception": false,
     "start_time": "2021-08-20T05:17:45.534308",
     "status": "completed"
    },
    "tags": []
   },
   "source": [
    "### saves the percentiles in netcdf "
   ]
  },
  {
   "cell_type": "code",
   "execution_count": 72,
   "id": "a8abac51-e140-4bdf-b9e9-c4f686a270b8",
   "metadata": {
    "execution": {
     "iopub.execute_input": "2021-08-20T05:17:45.900422Z",
     "iopub.status.busy": "2021-08-20T05:17:45.900089Z",
     "iopub.status.idle": "2021-08-20T05:17:45.920788Z",
     "shell.execute_reply": "2021-08-20T05:17:45.921150Z"
    },
    "papermill": {
     "duration": 0.144402,
     "end_time": "2021-08-20T05:17:45.921258",
     "exception": false,
     "start_time": "2021-08-20T05:17:45.776856",
     "status": "completed"
    },
    "tags": []
   },
   "outputs": [],
   "source": [
    "quantiles_category_percent.to_netcdf(outputs_path.joinpath(f\"{quantiles}_categories_probabilities_hindcast_{GCM}_{period}_{utils.sanitize_name(shape_name)}.nc\"))"
   ]
  },
  {
   "cell_type": "markdown",
   "id": "41a2a1de-22c8-4828-a051-c1f476deaced",
   "metadata": {
    "papermill": {
     "duration": 0.119913,
     "end_time": "2021-08-20T05:17:46.165687",
     "exception": false,
     "start_time": "2021-08-20T05:17:46.045774",
     "status": "completed"
    },
    "tags": []
   },
   "source": [
    "### takes the percentile probabilities then casts into a pandas dataframe "
   ]
  },
  {
   "cell_type": "markdown",
   "id": "53464969-9103-4497-86e1-0c0e8f03b948",
   "metadata": {
    "papermill": {
     "duration": 0.121848,
     "end_time": "2021-08-20T05:17:46.432878",
     "exception": false,
     "start_time": "2021-08-20T05:17:46.311030",
     "status": "completed"
    },
    "tags": []
   },
   "source": [
    "#### these are the leadtimes, in months, should be [1,2,3,4,5] if monthly, [3,4,5] if seasonal "
   ]
  },
  {
   "cell_type": "code",
   "execution_count": 73,
   "id": "bf3c5e97-917b-40a5-b9b1-7f636801cfb3",
   "metadata": {
    "execution": {
     "iopub.execute_input": "2021-08-20T05:17:46.677077Z",
     "iopub.status.busy": "2021-08-20T05:17:46.676743Z",
     "iopub.status.idle": "2021-08-20T05:17:46.700890Z",
     "shell.execute_reply": "2021-08-20T05:17:46.700556Z"
    },
    "papermill": {
     "duration": 0.146375,
     "end_time": "2021-08-20T05:17:46.700972",
     "exception": false,
     "start_time": "2021-08-20T05:17:46.554597",
     "status": "completed"
    },
    "tags": []
   },
   "outputs": [
    {
     "data": {
      "text/html": [
       "<div><svg style=\"position: absolute; width: 0; height: 0; overflow: hidden\">\n",
       "<defs>\n",
       "<symbol id=\"icon-database\" viewBox=\"0 0 32 32\">\n",
       "<path d=\"M16 0c-8.837 0-16 2.239-16 5v4c0 2.761 7.163 5 16 5s16-2.239 16-5v-4c0-2.761-7.163-5-16-5z\"></path>\n",
       "<path d=\"M16 17c-8.837 0-16-2.239-16-5v6c0 2.761 7.163 5 16 5s16-2.239 16-5v-6c0 2.761-7.163 5-16 5z\"></path>\n",
       "<path d=\"M16 26c-8.837 0-16-2.239-16-5v6c0 2.761 7.163 5 16 5s16-2.239 16-5v-6c0 2.761-7.163 5-16 5z\"></path>\n",
       "</symbol>\n",
       "<symbol id=\"icon-file-text2\" viewBox=\"0 0 32 32\">\n",
       "<path d=\"M28.681 7.159c-0.694-0.947-1.662-2.053-2.724-3.116s-2.169-2.030-3.116-2.724c-1.612-1.182-2.393-1.319-2.841-1.319h-15.5c-1.378 0-2.5 1.121-2.5 2.5v27c0 1.378 1.122 2.5 2.5 2.5h23c1.378 0 2.5-1.122 2.5-2.5v-19.5c0-0.448-0.137-1.23-1.319-2.841zM24.543 5.457c0.959 0.959 1.712 1.825 2.268 2.543h-4.811v-4.811c0.718 0.556 1.584 1.309 2.543 2.268zM28 29.5c0 0.271-0.229 0.5-0.5 0.5h-23c-0.271 0-0.5-0.229-0.5-0.5v-27c0-0.271 0.229-0.5 0.5-0.5 0 0 15.499-0 15.5 0v7c0 0.552 0.448 1 1 1h7v19.5z\"></path>\n",
       "<path d=\"M23 26h-14c-0.552 0-1-0.448-1-1s0.448-1 1-1h14c0.552 0 1 0.448 1 1s-0.448 1-1 1z\"></path>\n",
       "<path d=\"M23 22h-14c-0.552 0-1-0.448-1-1s0.448-1 1-1h14c0.552 0 1 0.448 1 1s-0.448 1-1 1z\"></path>\n",
       "<path d=\"M23 18h-14c-0.552 0-1-0.448-1-1s0.448-1 1-1h14c0.552 0 1 0.448 1 1s-0.448 1-1 1z\"></path>\n",
       "</symbol>\n",
       "</defs>\n",
       "</svg>\n",
       "<style>/* CSS stylesheet for displaying xarray objects in jupyterlab.\n",
       " *\n",
       " */\n",
       "\n",
       ":root {\n",
       "  --xr-font-color0: var(--jp-content-font-color0, rgba(0, 0, 0, 1));\n",
       "  --xr-font-color2: var(--jp-content-font-color2, rgba(0, 0, 0, 0.54));\n",
       "  --xr-font-color3: var(--jp-content-font-color3, rgba(0, 0, 0, 0.38));\n",
       "  --xr-border-color: var(--jp-border-color2, #e0e0e0);\n",
       "  --xr-disabled-color: var(--jp-layout-color3, #bdbdbd);\n",
       "  --xr-background-color: var(--jp-layout-color0, white);\n",
       "  --xr-background-color-row-even: var(--jp-layout-color1, white);\n",
       "  --xr-background-color-row-odd: var(--jp-layout-color2, #eeeeee);\n",
       "}\n",
       "\n",
       "html[theme=dark],\n",
       "body.vscode-dark {\n",
       "  --xr-font-color0: rgba(255, 255, 255, 1);\n",
       "  --xr-font-color2: rgba(255, 255, 255, 0.54);\n",
       "  --xr-font-color3: rgba(255, 255, 255, 0.38);\n",
       "  --xr-border-color: #1F1F1F;\n",
       "  --xr-disabled-color: #515151;\n",
       "  --xr-background-color: #111111;\n",
       "  --xr-background-color-row-even: #111111;\n",
       "  --xr-background-color-row-odd: #313131;\n",
       "}\n",
       "\n",
       ".xr-wrap {\n",
       "  display: block;\n",
       "  min-width: 300px;\n",
       "  max-width: 700px;\n",
       "}\n",
       "\n",
       ".xr-text-repr-fallback {\n",
       "  /* fallback to plain text repr when CSS is not injected (untrusted notebook) */\n",
       "  display: none;\n",
       "}\n",
       "\n",
       ".xr-header {\n",
       "  padding-top: 6px;\n",
       "  padding-bottom: 6px;\n",
       "  margin-bottom: 4px;\n",
       "  border-bottom: solid 1px var(--xr-border-color);\n",
       "}\n",
       "\n",
       ".xr-header > div,\n",
       ".xr-header > ul {\n",
       "  display: inline;\n",
       "  margin-top: 0;\n",
       "  margin-bottom: 0;\n",
       "}\n",
       "\n",
       ".xr-obj-type,\n",
       ".xr-array-name {\n",
       "  margin-left: 2px;\n",
       "  margin-right: 10px;\n",
       "}\n",
       "\n",
       ".xr-obj-type {\n",
       "  color: var(--xr-font-color2);\n",
       "}\n",
       "\n",
       ".xr-sections {\n",
       "  padding-left: 0 !important;\n",
       "  display: grid;\n",
       "  grid-template-columns: 150px auto auto 1fr 20px 20px;\n",
       "}\n",
       "\n",
       ".xr-section-item {\n",
       "  display: contents;\n",
       "}\n",
       "\n",
       ".xr-section-item input {\n",
       "  display: none;\n",
       "}\n",
       "\n",
       ".xr-section-item input + label {\n",
       "  color: var(--xr-disabled-color);\n",
       "}\n",
       "\n",
       ".xr-section-item input:enabled + label {\n",
       "  cursor: pointer;\n",
       "  color: var(--xr-font-color2);\n",
       "}\n",
       "\n",
       ".xr-section-item input:enabled + label:hover {\n",
       "  color: var(--xr-font-color0);\n",
       "}\n",
       "\n",
       ".xr-section-summary {\n",
       "  grid-column: 1;\n",
       "  color: var(--xr-font-color2);\n",
       "  font-weight: 500;\n",
       "}\n",
       "\n",
       ".xr-section-summary > span {\n",
       "  display: inline-block;\n",
       "  padding-left: 0.5em;\n",
       "}\n",
       "\n",
       ".xr-section-summary-in:disabled + label {\n",
       "  color: var(--xr-font-color2);\n",
       "}\n",
       "\n",
       ".xr-section-summary-in + label:before {\n",
       "  display: inline-block;\n",
       "  content: '►';\n",
       "  font-size: 11px;\n",
       "  width: 15px;\n",
       "  text-align: center;\n",
       "}\n",
       "\n",
       ".xr-section-summary-in:disabled + label:before {\n",
       "  color: var(--xr-disabled-color);\n",
       "}\n",
       "\n",
       ".xr-section-summary-in:checked + label:before {\n",
       "  content: '▼';\n",
       "}\n",
       "\n",
       ".xr-section-summary-in:checked + label > span {\n",
       "  display: none;\n",
       "}\n",
       "\n",
       ".xr-section-summary,\n",
       ".xr-section-inline-details {\n",
       "  padding-top: 4px;\n",
       "  padding-bottom: 4px;\n",
       "}\n",
       "\n",
       ".xr-section-inline-details {\n",
       "  grid-column: 2 / -1;\n",
       "}\n",
       "\n",
       ".xr-section-details {\n",
       "  display: none;\n",
       "  grid-column: 1 / -1;\n",
       "  margin-bottom: 5px;\n",
       "}\n",
       "\n",
       ".xr-section-summary-in:checked ~ .xr-section-details {\n",
       "  display: contents;\n",
       "}\n",
       "\n",
       ".xr-array-wrap {\n",
       "  grid-column: 1 / -1;\n",
       "  display: grid;\n",
       "  grid-template-columns: 20px auto;\n",
       "}\n",
       "\n",
       ".xr-array-wrap > label {\n",
       "  grid-column: 1;\n",
       "  vertical-align: top;\n",
       "}\n",
       "\n",
       ".xr-preview {\n",
       "  color: var(--xr-font-color3);\n",
       "}\n",
       "\n",
       ".xr-array-preview,\n",
       ".xr-array-data {\n",
       "  padding: 0 5px !important;\n",
       "  grid-column: 2;\n",
       "}\n",
       "\n",
       ".xr-array-data,\n",
       ".xr-array-in:checked ~ .xr-array-preview {\n",
       "  display: none;\n",
       "}\n",
       "\n",
       ".xr-array-in:checked ~ .xr-array-data,\n",
       ".xr-array-preview {\n",
       "  display: inline-block;\n",
       "}\n",
       "\n",
       ".xr-dim-list {\n",
       "  display: inline-block !important;\n",
       "  list-style: none;\n",
       "  padding: 0 !important;\n",
       "  margin: 0;\n",
       "}\n",
       "\n",
       ".xr-dim-list li {\n",
       "  display: inline-block;\n",
       "  padding: 0;\n",
       "  margin: 0;\n",
       "}\n",
       "\n",
       ".xr-dim-list:before {\n",
       "  content: '(';\n",
       "}\n",
       "\n",
       ".xr-dim-list:after {\n",
       "  content: ')';\n",
       "}\n",
       "\n",
       ".xr-dim-list li:not(:last-child):after {\n",
       "  content: ',';\n",
       "  padding-right: 5px;\n",
       "}\n",
       "\n",
       ".xr-has-index {\n",
       "  font-weight: bold;\n",
       "}\n",
       "\n",
       ".xr-var-list,\n",
       ".xr-var-item {\n",
       "  display: contents;\n",
       "}\n",
       "\n",
       ".xr-var-item > div,\n",
       ".xr-var-item label,\n",
       ".xr-var-item > .xr-var-name span {\n",
       "  background-color: var(--xr-background-color-row-even);\n",
       "  margin-bottom: 0;\n",
       "}\n",
       "\n",
       ".xr-var-item > .xr-var-name:hover span {\n",
       "  padding-right: 5px;\n",
       "}\n",
       "\n",
       ".xr-var-list > li:nth-child(odd) > div,\n",
       ".xr-var-list > li:nth-child(odd) > label,\n",
       ".xr-var-list > li:nth-child(odd) > .xr-var-name span {\n",
       "  background-color: var(--xr-background-color-row-odd);\n",
       "}\n",
       "\n",
       ".xr-var-name {\n",
       "  grid-column: 1;\n",
       "}\n",
       "\n",
       ".xr-var-dims {\n",
       "  grid-column: 2;\n",
       "}\n",
       "\n",
       ".xr-var-dtype {\n",
       "  grid-column: 3;\n",
       "  text-align: right;\n",
       "  color: var(--xr-font-color2);\n",
       "}\n",
       "\n",
       ".xr-var-preview {\n",
       "  grid-column: 4;\n",
       "}\n",
       "\n",
       ".xr-var-name,\n",
       ".xr-var-dims,\n",
       ".xr-var-dtype,\n",
       ".xr-preview,\n",
       ".xr-attrs dt {\n",
       "  white-space: nowrap;\n",
       "  overflow: hidden;\n",
       "  text-overflow: ellipsis;\n",
       "  padding-right: 10px;\n",
       "}\n",
       "\n",
       ".xr-var-name:hover,\n",
       ".xr-var-dims:hover,\n",
       ".xr-var-dtype:hover,\n",
       ".xr-attrs dt:hover {\n",
       "  overflow: visible;\n",
       "  width: auto;\n",
       "  z-index: 1;\n",
       "}\n",
       "\n",
       ".xr-var-attrs,\n",
       ".xr-var-data {\n",
       "  display: none;\n",
       "  background-color: var(--xr-background-color) !important;\n",
       "  padding-bottom: 5px !important;\n",
       "}\n",
       "\n",
       ".xr-var-attrs-in:checked ~ .xr-var-attrs,\n",
       ".xr-var-data-in:checked ~ .xr-var-data {\n",
       "  display: block;\n",
       "}\n",
       "\n",
       ".xr-var-data > table {\n",
       "  float: right;\n",
       "}\n",
       "\n",
       ".xr-var-name span,\n",
       ".xr-var-data,\n",
       ".xr-attrs {\n",
       "  padding-left: 25px !important;\n",
       "}\n",
       "\n",
       ".xr-attrs,\n",
       ".xr-var-attrs,\n",
       ".xr-var-data {\n",
       "  grid-column: 1 / -1;\n",
       "}\n",
       "\n",
       "dl.xr-attrs {\n",
       "  padding: 0;\n",
       "  margin: 0;\n",
       "  display: grid;\n",
       "  grid-template-columns: 125px auto;\n",
       "}\n",
       "\n",
       ".xr-attrs dt,\n",
       ".xr-attrs dd {\n",
       "  padding: 0;\n",
       "  margin: 0;\n",
       "  float: left;\n",
       "  padding-right: 10px;\n",
       "  width: auto;\n",
       "}\n",
       "\n",
       ".xr-attrs dt {\n",
       "  font-weight: normal;\n",
       "  grid-column: 1;\n",
       "}\n",
       "\n",
       ".xr-attrs dt:hover span {\n",
       "  display: inline-block;\n",
       "  background: var(--xr-background-color);\n",
       "  padding-right: 10px;\n",
       "}\n",
       "\n",
       ".xr-attrs dd {\n",
       "  grid-column: 2;\n",
       "  white-space: pre-wrap;\n",
       "  word-break: break-all;\n",
       "}\n",
       "\n",
       ".xr-icon-database,\n",
       ".xr-icon-file-text2 {\n",
       "  display: inline-block;\n",
       "  vertical-align: middle;\n",
       "  width: 1em;\n",
       "  height: 1.5em !important;\n",
       "  stroke-width: 0;\n",
       "  stroke: currentColor;\n",
       "  fill: currentColor;\n",
       "}\n",
       "</style><pre class='xr-text-repr-fallback'>&lt;xarray.Dataset&gt;\n",
       "Dimensions:  (tercile: 3, time: 288, step: 3)\n",
       "Coordinates:\n",
       "  * time     (time) datetime64[ns] 1993-01-01 1993-02-01 ... 2016-12-01\n",
       "  * step     (step) int64 3 4 5\n",
       "    month    (time) int64 1 2 3 4 5 6 7 8 9 10 11 ... 2 3 4 5 6 7 8 9 10 11 12\n",
       "  * tercile  (tercile) int64 1 2 3\n",
       "Data variables:\n",
       "    precip   (tercile, time, step) float64 32.14 21.43 10.71 ... 25.0 28.57</pre><div class='xr-wrap' hidden><div class='xr-header'><div class='xr-obj-type'>xarray.Dataset</div></div><ul class='xr-sections'><li class='xr-section-item'><input id='section-c320ef7b-7e4f-4e60-8338-2f91cac53804' class='xr-section-summary-in' type='checkbox' disabled ><label for='section-c320ef7b-7e4f-4e60-8338-2f91cac53804' class='xr-section-summary'  title='Expand/collapse section'>Dimensions:</label><div class='xr-section-inline-details'><ul class='xr-dim-list'><li><span class='xr-has-index'>tercile</span>: 3</li><li><span class='xr-has-index'>time</span>: 288</li><li><span class='xr-has-index'>step</span>: 3</li></ul></div><div class='xr-section-details'></div></li><li class='xr-section-item'><input id='section-a468143d-15d8-4492-9110-2c976ccafd84' class='xr-section-summary-in' type='checkbox'  checked><label for='section-a468143d-15d8-4492-9110-2c976ccafd84' class='xr-section-summary' >Coordinates: <span>(4)</span></label><div class='xr-section-inline-details'></div><div class='xr-section-details'><ul class='xr-var-list'><li class='xr-var-item'><div class='xr-var-name'><span class='xr-has-index'>time</span></div><div class='xr-var-dims'>(time)</div><div class='xr-var-dtype'>datetime64[ns]</div><div class='xr-var-preview xr-preview'>1993-01-01 ... 2016-12-01</div><input id='attrs-52320d9b-a869-4a4b-868e-e29693aae9dd' class='xr-var-attrs-in' type='checkbox' disabled><label for='attrs-52320d9b-a869-4a4b-868e-e29693aae9dd' title='Show/Hide attributes'><svg class='icon xr-icon-file-text2'><use xlink:href='#icon-file-text2'></use></svg></label><input id='data-d0406d3b-79b1-47fc-9ee3-decd9b833c1b' class='xr-var-data-in' type='checkbox'><label for='data-d0406d3b-79b1-47fc-9ee3-decd9b833c1b' title='Show/Hide data repr'><svg class='icon xr-icon-database'><use xlink:href='#icon-database'></use></svg></label><div class='xr-var-attrs'><dl class='xr-attrs'></dl></div><div class='xr-var-data'><pre>array([&#x27;1993-01-01T00:00:00.000000000&#x27;, &#x27;1993-02-01T00:00:00.000000000&#x27;,\n",
       "       &#x27;1993-03-01T00:00:00.000000000&#x27;, ..., &#x27;2016-10-01T00:00:00.000000000&#x27;,\n",
       "       &#x27;2016-11-01T00:00:00.000000000&#x27;, &#x27;2016-12-01T00:00:00.000000000&#x27;],\n",
       "      dtype=&#x27;datetime64[ns]&#x27;)</pre></div></li><li class='xr-var-item'><div class='xr-var-name'><span class='xr-has-index'>step</span></div><div class='xr-var-dims'>(step)</div><div class='xr-var-dtype'>int64</div><div class='xr-var-preview xr-preview'>3 4 5</div><input id='attrs-92b4bb5f-83bf-4d6b-8dd9-e9ff9b528b80' class='xr-var-attrs-in' type='checkbox' disabled><label for='attrs-92b4bb5f-83bf-4d6b-8dd9-e9ff9b528b80' title='Show/Hide attributes'><svg class='icon xr-icon-file-text2'><use xlink:href='#icon-file-text2'></use></svg></label><input id='data-2f6a7f8e-3393-47e6-b8e4-9f27db6d1c3b' class='xr-var-data-in' type='checkbox'><label for='data-2f6a7f8e-3393-47e6-b8e4-9f27db6d1c3b' title='Show/Hide data repr'><svg class='icon xr-icon-database'><use xlink:href='#icon-database'></use></svg></label><div class='xr-var-attrs'><dl class='xr-attrs'></dl></div><div class='xr-var-data'><pre>array([3, 4, 5])</pre></div></li><li class='xr-var-item'><div class='xr-var-name'><span>month</span></div><div class='xr-var-dims'>(time)</div><div class='xr-var-dtype'>int64</div><div class='xr-var-preview xr-preview'>1 2 3 4 5 6 7 ... 6 7 8 9 10 11 12</div><input id='attrs-93ff1cd4-12fc-4cd0-956d-f35500c3d59b' class='xr-var-attrs-in' type='checkbox' disabled><label for='attrs-93ff1cd4-12fc-4cd0-956d-f35500c3d59b' title='Show/Hide attributes'><svg class='icon xr-icon-file-text2'><use xlink:href='#icon-file-text2'></use></svg></label><input id='data-1ffa0ec0-5b36-4d43-8618-62b774cb3cfe' class='xr-var-data-in' type='checkbox'><label for='data-1ffa0ec0-5b36-4d43-8618-62b774cb3cfe' title='Show/Hide data repr'><svg class='icon xr-icon-database'><use xlink:href='#icon-database'></use></svg></label><div class='xr-var-attrs'><dl class='xr-attrs'></dl></div><div class='xr-var-data'><pre>array([ 1,  2,  3,  4,  5,  6,  7,  8,  9, 10, 11, 12,  1,  2,  3,  4,  5,\n",
       "        6,  7,  8,  9, 10, 11, 12,  1,  2,  3,  4,  5,  6,  7,  8,  9, 10,\n",
       "       11, 12,  1,  2,  3,  4,  5,  6,  7,  8,  9, 10, 11, 12,  1,  2,  3,\n",
       "        4,  5,  6,  7,  8,  9, 10, 11, 12,  1,  2,  3,  4,  5,  6,  7,  8,\n",
       "        9, 10, 11, 12,  1,  2,  3,  4,  5,  6,  7,  8,  9, 10, 11, 12,  1,\n",
       "        2,  3,  4,  5,  6,  7,  8,  9, 10, 11, 12,  1,  2,  3,  4,  5,  6,\n",
       "        7,  8,  9, 10, 11, 12,  1,  2,  3,  4,  5,  6,  7,  8,  9, 10, 11,\n",
       "       12,  1,  2,  3,  4,  5,  6,  7,  8,  9, 10, 11, 12,  1,  2,  3,  4,\n",
       "        5,  6,  7,  8,  9, 10, 11, 12,  1,  2,  3,  4,  5,  6,  7,  8,  9,\n",
       "       10, 11, 12,  1,  2,  3,  4,  5,  6,  7,  8,  9, 10, 11, 12,  1,  2,\n",
       "        3,  4,  5,  6,  7,  8,  9, 10, 11, 12,  1,  2,  3,  4,  5,  6,  7,\n",
       "        8,  9, 10, 11, 12,  1,  2,  3,  4,  5,  6,  7,  8,  9, 10, 11, 12,\n",
       "        1,  2,  3,  4,  5,  6,  7,  8,  9, 10, 11, 12,  1,  2,  3,  4,  5,\n",
       "        6,  7,  8,  9, 10, 11, 12,  1,  2,  3,  4,  5,  6,  7,  8,  9, 10,\n",
       "       11, 12,  1,  2,  3,  4,  5,  6,  7,  8,  9, 10, 11, 12,  1,  2,  3,\n",
       "        4,  5,  6,  7,  8,  9, 10, 11, 12,  1,  2,  3,  4,  5,  6,  7,  8,\n",
       "        9, 10, 11, 12,  1,  2,  3,  4,  5,  6,  7,  8,  9, 10, 11, 12])</pre></div></li><li class='xr-var-item'><div class='xr-var-name'><span class='xr-has-index'>tercile</span></div><div class='xr-var-dims'>(tercile)</div><div class='xr-var-dtype'>int64</div><div class='xr-var-preview xr-preview'>1 2 3</div><input id='attrs-260cff4f-48a7-41bf-88ad-d37588f87fc1' class='xr-var-attrs-in' type='checkbox' disabled><label for='attrs-260cff4f-48a7-41bf-88ad-d37588f87fc1' title='Show/Hide attributes'><svg class='icon xr-icon-file-text2'><use xlink:href='#icon-file-text2'></use></svg></label><input id='data-fee94ecf-dc6b-46aa-b66f-7b627496b04e' class='xr-var-data-in' type='checkbox'><label for='data-fee94ecf-dc6b-46aa-b66f-7b627496b04e' title='Show/Hide data repr'><svg class='icon xr-icon-database'><use xlink:href='#icon-database'></use></svg></label><div class='xr-var-attrs'><dl class='xr-attrs'></dl></div><div class='xr-var-data'><pre>array([1, 2, 3])</pre></div></li></ul></div></li><li class='xr-section-item'><input id='section-a6f0da99-45e0-4a0b-a590-f1deb9542e2d' class='xr-section-summary-in' type='checkbox'  checked><label for='section-a6f0da99-45e0-4a0b-a590-f1deb9542e2d' class='xr-section-summary' >Data variables: <span>(1)</span></label><div class='xr-section-inline-details'></div><div class='xr-section-details'><ul class='xr-var-list'><li class='xr-var-item'><div class='xr-var-name'><span>precip</span></div><div class='xr-var-dims'>(tercile, time, step)</div><div class='xr-var-dtype'>float64</div><div class='xr-var-preview xr-preview'>32.14 21.43 10.71 ... 25.0 28.57</div><input id='attrs-bc657190-dc93-4d6e-9efd-0e3456088dd0' class='xr-var-attrs-in' type='checkbox' disabled><label for='attrs-bc657190-dc93-4d6e-9efd-0e3456088dd0' title='Show/Hide attributes'><svg class='icon xr-icon-file-text2'><use xlink:href='#icon-file-text2'></use></svg></label><input id='data-759eb31b-fe5e-4a42-a9b5-72c22e3f36c5' class='xr-var-data-in' type='checkbox'><label for='data-759eb31b-fe5e-4a42-a9b5-72c22e3f36c5' title='Show/Hide data repr'><svg class='icon xr-icon-database'><use xlink:href='#icon-database'></use></svg></label><div class='xr-var-attrs'><dl class='xr-attrs'></dl></div><div class='xr-var-data'><pre>array([[[32.14285714, 21.42857143, 10.71428571],\n",
       "        [28.57142857, 17.85714286, 17.85714286],\n",
       "        [39.28571429, 28.57142857, 25.        ],\n",
       "        ...,\n",
       "        [10.71428571, 39.28571429, 35.71428571],\n",
       "        [25.        , 39.28571429, 42.85714286],\n",
       "        [35.71428571, 32.14285714, 32.14285714]],\n",
       "\n",
       "       [[42.85714286, 32.14285714, 42.85714286],\n",
       "        [25.        , 28.57142857, 39.28571429],\n",
       "        [28.57142857, 35.71428571, 35.71428571],\n",
       "        ...,\n",
       "        [32.14285714, 17.85714286, 28.57142857],\n",
       "        [25.        , 25.        , 17.85714286],\n",
       "        [21.42857143, 28.57142857, 25.        ]],\n",
       "\n",
       "       [[25.        , 46.42857143, 46.42857143],\n",
       "        [32.14285714, 39.28571429, 28.57142857],\n",
       "        [ 3.57142857,  7.14285714, 10.71428571],\n",
       "        ...,\n",
       "        [42.85714286, 28.57142857, 21.42857143],\n",
       "        [35.71428571, 21.42857143, 25.        ],\n",
       "        [28.57142857, 25.        , 28.57142857]]])</pre></div></li></ul></div></li><li class='xr-section-item'><input id='section-01595caa-263e-46ba-83a9-22112a38f4c8' class='xr-section-summary-in' type='checkbox' disabled ><label for='section-01595caa-263e-46ba-83a9-22112a38f4c8' class='xr-section-summary'  title='Expand/collapse section'>Attributes: <span>(0)</span></label><div class='xr-section-inline-details'></div><div class='xr-section-details'><dl class='xr-attrs'></dl></div></li></ul></div></div>"
      ],
      "text/plain": [
       "<xarray.Dataset>\n",
       "Dimensions:  (tercile: 3, time: 288, step: 3)\n",
       "Coordinates:\n",
       "  * time     (time) datetime64[ns] 1993-01-01 1993-02-01 ... 2016-12-01\n",
       "  * step     (step) int64 3 4 5\n",
       "    month    (time) int64 1 2 3 4 5 6 7 8 9 10 11 ... 2 3 4 5 6 7 8 9 10 11 12\n",
       "  * tercile  (tercile) int64 1 2 3\n",
       "Data variables:\n",
       "    precip   (tercile, time, step) float64 32.14 21.43 10.71 ... 25.0 28.57"
      ]
     },
     "execution_count": 73,
     "metadata": {},
     "output_type": "execute_result"
    }
   ],
   "source": [
    "quantiles_category_percent"
   ]
  },
  {
   "cell_type": "markdown",
   "id": "9576d67b-4833-466b-a7df-e7e702f0a008",
   "metadata": {
    "papermill": {
     "duration": 0.122238,
     "end_time": "2021-08-20T05:17:46.946347",
     "exception": false,
     "start_time": "2021-08-20T05:17:46.824109",
     "status": "completed"
    },
    "tags": []
   },
   "source": [
    "### transform the xarray dataset into a pandas dataframe with multiindex columns (product of leadtimes and quantiles)"
   ]
  },
  {
   "cell_type": "code",
   "execution_count": 74,
   "id": "a72224cc-dd1f-4703-96af-9abf1de999d0",
   "metadata": {
    "execution": {
     "iopub.execute_input": "2021-08-20T05:17:47.191865Z",
     "iopub.status.busy": "2021-08-20T05:17:47.191529Z",
     "iopub.status.idle": "2021-08-20T05:17:47.209573Z",
     "shell.execute_reply": "2021-08-20T05:17:47.209227Z"
    },
    "papermill": {
     "duration": 0.141487,
     "end_time": "2021-08-20T05:17:47.209662",
     "exception": false,
     "start_time": "2021-08-20T05:17:47.068175",
     "status": "completed"
    },
    "tags": []
   },
   "outputs": [],
   "source": [
    "df_quantile_probabilities = []\n",
    "\n",
    "for step in steps: \n",
    "    \n",
    "    df = quantiles_category_percent.sel(step=step)['precip'].to_pandas().T\n",
    "    \n",
    "    cols = pd.MultiIndex.from_product([[step], df.columns]) \n",
    "\n",
    "    df.columns = cols \n",
    "    \n",
    "    df_quantile_probabilities.append(df)\n"
   ]
  },
  {
   "cell_type": "code",
   "execution_count": 75,
   "id": "4800ab36-d03b-4dde-98c0-d5935fd3fcb3",
   "metadata": {
    "execution": {
     "iopub.execute_input": "2021-08-20T05:17:47.462229Z",
     "iopub.status.busy": "2021-08-20T05:17:47.461863Z",
     "iopub.status.idle": "2021-08-20T05:17:47.477271Z",
     "shell.execute_reply": "2021-08-20T05:17:47.476900Z"
    },
    "papermill": {
     "duration": 0.145681,
     "end_time": "2021-08-20T05:17:47.477366",
     "exception": false,
     "start_time": "2021-08-20T05:17:47.331685",
     "status": "completed"
    },
    "tags": []
   },
   "outputs": [],
   "source": [
    "df_quantile_probabilities = pd.concat(df_quantile_probabilities, axis=1) "
   ]
  },
  {
   "cell_type": "code",
   "execution_count": 76,
   "id": "d2667daa-f512-44d6-82d8-32082d96c308",
   "metadata": {
    "execution": {
     "iopub.execute_input": "2021-08-20T05:17:47.725565Z",
     "iopub.status.busy": "2021-08-20T05:17:47.725215Z",
     "iopub.status.idle": "2021-08-20T05:17:47.748059Z",
     "shell.execute_reply": "2021-08-20T05:17:47.747730Z"
    },
    "papermill": {
     "duration": 0.147238,
     "end_time": "2021-08-20T05:17:47.748138",
     "exception": false,
     "start_time": "2021-08-20T05:17:47.600900",
     "status": "completed"
    },
    "tags": []
   },
   "outputs": [
    {
     "data": {
      "text/html": [
       "<div>\n",
       "<style scoped>\n",
       "    .dataframe tbody tr th:only-of-type {\n",
       "        vertical-align: middle;\n",
       "    }\n",
       "\n",
       "    .dataframe tbody tr th {\n",
       "        vertical-align: top;\n",
       "    }\n",
       "\n",
       "    .dataframe thead tr th {\n",
       "        text-align: left;\n",
       "    }\n",
       "\n",
       "    .dataframe thead tr:last-of-type th {\n",
       "        text-align: right;\n",
       "    }\n",
       "</style>\n",
       "<table border=\"1\" class=\"dataframe\">\n",
       "  <thead>\n",
       "    <tr>\n",
       "      <th></th>\n",
       "      <th colspan=\"3\" halign=\"left\">3</th>\n",
       "      <th colspan=\"3\" halign=\"left\">4</th>\n",
       "      <th colspan=\"3\" halign=\"left\">5</th>\n",
       "    </tr>\n",
       "    <tr>\n",
       "      <th>tercile</th>\n",
       "      <th>1</th>\n",
       "      <th>2</th>\n",
       "      <th>3</th>\n",
       "      <th>1</th>\n",
       "      <th>2</th>\n",
       "      <th>3</th>\n",
       "      <th>1</th>\n",
       "      <th>2</th>\n",
       "      <th>3</th>\n",
       "    </tr>\n",
       "    <tr>\n",
       "      <th>time</th>\n",
       "      <th></th>\n",
       "      <th></th>\n",
       "      <th></th>\n",
       "      <th></th>\n",
       "      <th></th>\n",
       "      <th></th>\n",
       "      <th></th>\n",
       "      <th></th>\n",
       "      <th></th>\n",
       "    </tr>\n",
       "  </thead>\n",
       "  <tbody>\n",
       "    <tr>\n",
       "      <th>1993-01-01</th>\n",
       "      <td>32.142857</td>\n",
       "      <td>42.857143</td>\n",
       "      <td>25.000000</td>\n",
       "      <td>21.428571</td>\n",
       "      <td>32.142857</td>\n",
       "      <td>46.428571</td>\n",
       "      <td>10.714286</td>\n",
       "      <td>42.857143</td>\n",
       "      <td>46.428571</td>\n",
       "    </tr>\n",
       "    <tr>\n",
       "      <th>1993-02-01</th>\n",
       "      <td>28.571429</td>\n",
       "      <td>25.000000</td>\n",
       "      <td>32.142857</td>\n",
       "      <td>17.857143</td>\n",
       "      <td>28.571429</td>\n",
       "      <td>39.285714</td>\n",
       "      <td>17.857143</td>\n",
       "      <td>39.285714</td>\n",
       "      <td>28.571429</td>\n",
       "    </tr>\n",
       "    <tr>\n",
       "      <th>1993-03-01</th>\n",
       "      <td>39.285714</td>\n",
       "      <td>28.571429</td>\n",
       "      <td>3.571429</td>\n",
       "      <td>28.571429</td>\n",
       "      <td>35.714286</td>\n",
       "      <td>7.142857</td>\n",
       "      <td>25.000000</td>\n",
       "      <td>35.714286</td>\n",
       "      <td>10.714286</td>\n",
       "    </tr>\n",
       "    <tr>\n",
       "      <th>1993-04-01</th>\n",
       "      <td>78.571429</td>\n",
       "      <td>14.285714</td>\n",
       "      <td>7.142857</td>\n",
       "      <td>71.428571</td>\n",
       "      <td>21.428571</td>\n",
       "      <td>7.142857</td>\n",
       "      <td>60.714286</td>\n",
       "      <td>32.142857</td>\n",
       "      <td>7.142857</td>\n",
       "    </tr>\n",
       "    <tr>\n",
       "      <th>1993-05-01</th>\n",
       "      <td>64.285714</td>\n",
       "      <td>21.428571</td>\n",
       "      <td>0.000000</td>\n",
       "      <td>35.714286</td>\n",
       "      <td>50.000000</td>\n",
       "      <td>0.000000</td>\n",
       "      <td>21.428571</td>\n",
       "      <td>50.000000</td>\n",
       "      <td>14.285714</td>\n",
       "    </tr>\n",
       "  </tbody>\n",
       "</table>\n",
       "</div>"
      ],
      "text/plain": [
       "                    3                                4                        \\\n",
       "tercile             1          2          3          1          2          3   \n",
       "time                                                                           \n",
       "1993-01-01  32.142857  42.857143  25.000000  21.428571  32.142857  46.428571   \n",
       "1993-02-01  28.571429  25.000000  32.142857  17.857143  28.571429  39.285714   \n",
       "1993-03-01  39.285714  28.571429   3.571429  28.571429  35.714286   7.142857   \n",
       "1993-04-01  78.571429  14.285714   7.142857  71.428571  21.428571   7.142857   \n",
       "1993-05-01  64.285714  21.428571   0.000000  35.714286  50.000000   0.000000   \n",
       "\n",
       "                    5                        \n",
       "tercile             1          2          3  \n",
       "time                                         \n",
       "1993-01-01  10.714286  42.857143  46.428571  \n",
       "1993-02-01  17.857143  39.285714  28.571429  \n",
       "1993-03-01  25.000000  35.714286  10.714286  \n",
       "1993-04-01  60.714286  32.142857   7.142857  \n",
       "1993-05-01  21.428571  50.000000  14.285714  "
      ]
     },
     "execution_count": 76,
     "metadata": {},
     "output_type": "execute_result"
    }
   ],
   "source": [
    "df_quantile_probabilities.head()"
   ]
  },
  {
   "cell_type": "code",
   "execution_count": 77,
   "id": "7f993a96-cb0f-49ad-81c9-3115dae040fd",
   "metadata": {
    "execution": {
     "iopub.execute_input": "2021-08-20T05:17:47.999123Z",
     "iopub.status.busy": "2021-08-20T05:17:47.998795Z",
     "iopub.status.idle": "2021-08-20T05:17:48.021500Z",
     "shell.execute_reply": "2021-08-20T05:17:48.021163Z"
    },
    "papermill": {
     "duration": 0.149793,
     "end_time": "2021-08-20T05:17:48.021577",
     "exception": false,
     "start_time": "2021-08-20T05:17:47.871784",
     "status": "completed"
    },
    "tags": []
   },
   "outputs": [
    {
     "data": {
      "text/html": [
       "<div>\n",
       "<style scoped>\n",
       "    .dataframe tbody tr th:only-of-type {\n",
       "        vertical-align: middle;\n",
       "    }\n",
       "\n",
       "    .dataframe tbody tr th {\n",
       "        vertical-align: top;\n",
       "    }\n",
       "\n",
       "    .dataframe thead tr th {\n",
       "        text-align: left;\n",
       "    }\n",
       "\n",
       "    .dataframe thead tr:last-of-type th {\n",
       "        text-align: right;\n",
       "    }\n",
       "</style>\n",
       "<table border=\"1\" class=\"dataframe\">\n",
       "  <thead>\n",
       "    <tr>\n",
       "      <th></th>\n",
       "      <th colspan=\"3\" halign=\"left\">3</th>\n",
       "      <th colspan=\"3\" halign=\"left\">4</th>\n",
       "      <th colspan=\"3\" halign=\"left\">5</th>\n",
       "    </tr>\n",
       "    <tr>\n",
       "      <th>tercile</th>\n",
       "      <th>1</th>\n",
       "      <th>2</th>\n",
       "      <th>3</th>\n",
       "      <th>1</th>\n",
       "      <th>2</th>\n",
       "      <th>3</th>\n",
       "      <th>1</th>\n",
       "      <th>2</th>\n",
       "      <th>3</th>\n",
       "    </tr>\n",
       "    <tr>\n",
       "      <th>time</th>\n",
       "      <th></th>\n",
       "      <th></th>\n",
       "      <th></th>\n",
       "      <th></th>\n",
       "      <th></th>\n",
       "      <th></th>\n",
       "      <th></th>\n",
       "      <th></th>\n",
       "      <th></th>\n",
       "    </tr>\n",
       "  </thead>\n",
       "  <tbody>\n",
       "    <tr>\n",
       "      <th>2016-08-01</th>\n",
       "      <td>7.142857</td>\n",
       "      <td>28.571429</td>\n",
       "      <td>50.000000</td>\n",
       "      <td>3.571429</td>\n",
       "      <td>46.428571</td>\n",
       "      <td>35.714286</td>\n",
       "      <td>10.714286</td>\n",
       "      <td>28.571429</td>\n",
       "      <td>46.428571</td>\n",
       "    </tr>\n",
       "    <tr>\n",
       "      <th>2016-09-01</th>\n",
       "      <td>3.571429</td>\n",
       "      <td>28.571429</td>\n",
       "      <td>53.571429</td>\n",
       "      <td>10.714286</td>\n",
       "      <td>35.714286</td>\n",
       "      <td>39.285714</td>\n",
       "      <td>25.000000</td>\n",
       "      <td>35.714286</td>\n",
       "      <td>25.000000</td>\n",
       "    </tr>\n",
       "    <tr>\n",
       "      <th>2016-10-01</th>\n",
       "      <td>10.714286</td>\n",
       "      <td>32.142857</td>\n",
       "      <td>42.857143</td>\n",
       "      <td>39.285714</td>\n",
       "      <td>17.857143</td>\n",
       "      <td>28.571429</td>\n",
       "      <td>35.714286</td>\n",
       "      <td>28.571429</td>\n",
       "      <td>21.428571</td>\n",
       "    </tr>\n",
       "    <tr>\n",
       "      <th>2016-11-01</th>\n",
       "      <td>25.000000</td>\n",
       "      <td>25.000000</td>\n",
       "      <td>35.714286</td>\n",
       "      <td>39.285714</td>\n",
       "      <td>25.000000</td>\n",
       "      <td>21.428571</td>\n",
       "      <td>42.857143</td>\n",
       "      <td>17.857143</td>\n",
       "      <td>25.000000</td>\n",
       "    </tr>\n",
       "    <tr>\n",
       "      <th>2016-12-01</th>\n",
       "      <td>35.714286</td>\n",
       "      <td>21.428571</td>\n",
       "      <td>28.571429</td>\n",
       "      <td>32.142857</td>\n",
       "      <td>28.571429</td>\n",
       "      <td>25.000000</td>\n",
       "      <td>32.142857</td>\n",
       "      <td>25.000000</td>\n",
       "      <td>28.571429</td>\n",
       "    </tr>\n",
       "  </tbody>\n",
       "</table>\n",
       "</div>"
      ],
      "text/plain": [
       "                    3                                4                        \\\n",
       "tercile             1          2          3          1          2          3   \n",
       "time                                                                           \n",
       "2016-08-01   7.142857  28.571429  50.000000   3.571429  46.428571  35.714286   \n",
       "2016-09-01   3.571429  28.571429  53.571429  10.714286  35.714286  39.285714   \n",
       "2016-10-01  10.714286  32.142857  42.857143  39.285714  17.857143  28.571429   \n",
       "2016-11-01  25.000000  25.000000  35.714286  39.285714  25.000000  21.428571   \n",
       "2016-12-01  35.714286  21.428571  28.571429  32.142857  28.571429  25.000000   \n",
       "\n",
       "                    5                        \n",
       "tercile             1          2          3  \n",
       "time                                         \n",
       "2016-08-01  10.714286  28.571429  46.428571  \n",
       "2016-09-01  25.000000  35.714286  25.000000  \n",
       "2016-10-01  35.714286  28.571429  21.428571  \n",
       "2016-11-01  42.857143  17.857143  25.000000  \n",
       "2016-12-01  32.142857  25.000000  28.571429  "
      ]
     },
     "execution_count": 77,
     "metadata": {},
     "output_type": "execute_result"
    }
   ],
   "source": [
    "df_quantile_probabilities.tail()"
   ]
  },
  {
   "cell_type": "markdown",
   "id": "7081ba53-360b-4c6c-99fa-05508152b6e9",
   "metadata": {
    "papermill": {
     "duration": 0.12431,
     "end_time": "2021-08-20T05:17:48.269482",
     "exception": false,
     "start_time": "2021-08-20T05:17:48.145172",
     "status": "completed"
    },
    "tags": []
   },
   "source": [
    "### saves to disk "
   ]
  },
  {
   "cell_type": "code",
   "execution_count": 78,
   "id": "75842abe-5697-447e-8bb6-1698cc987323",
   "metadata": {
    "execution": {
     "iopub.execute_input": "2021-08-20T05:17:48.518788Z",
     "iopub.status.busy": "2021-08-20T05:17:48.518443Z",
     "iopub.status.idle": "2021-08-20T05:17:48.538204Z",
     "shell.execute_reply": "2021-08-20T05:17:48.538630Z"
    },
    "papermill": {
     "duration": 0.144063,
     "end_time": "2021-08-20T05:17:48.538766",
     "exception": false,
     "start_time": "2021-08-20T05:17:48.394703",
     "status": "completed"
    },
    "tags": []
   },
   "outputs": [],
   "source": [
    "df_quantile_probabilities.to_csv(outputs_path.joinpath(f\"{utils.sanitize_name(shape_name)}_{period}_{GCM}_{quantiles}_probs.csv\"))"
   ]
  },
  {
   "cell_type": "code",
   "execution_count": 79,
   "id": "b86e56ac-9252-4e54-8b29-0038b7a35f3b",
   "metadata": {
    "execution": {
     "iopub.execute_input": "2021-08-20T05:17:48.797350Z",
     "iopub.status.busy": "2021-08-20T05:17:48.797011Z",
     "iopub.status.idle": "2021-08-20T05:17:48.823716Z",
     "shell.execute_reply": "2021-08-20T05:17:48.823445Z"
    },
    "papermill": {
     "duration": 0.152725,
     "end_time": "2021-08-20T05:17:48.823799",
     "exception": false,
     "start_time": "2021-08-20T05:17:48.671074",
     "status": "completed"
    },
    "tags": []
   },
   "outputs": [
    {
     "data": {
      "text/html": [
       "<div>\n",
       "<style scoped>\n",
       "    .dataframe tbody tr th:only-of-type {\n",
       "        vertical-align: middle;\n",
       "    }\n",
       "\n",
       "    .dataframe tbody tr th {\n",
       "        vertical-align: top;\n",
       "    }\n",
       "\n",
       "    .dataframe thead tr th {\n",
       "        text-align: left;\n",
       "    }\n",
       "\n",
       "    .dataframe thead tr:last-of-type th {\n",
       "        text-align: right;\n",
       "    }\n",
       "</style>\n",
       "<table border=\"1\" class=\"dataframe\">\n",
       "  <thead>\n",
       "    <tr>\n",
       "      <th></th>\n",
       "      <th colspan=\"3\" halign=\"left\">3</th>\n",
       "      <th colspan=\"3\" halign=\"left\">4</th>\n",
       "      <th colspan=\"3\" halign=\"left\">5</th>\n",
       "    </tr>\n",
       "    <tr>\n",
       "      <th>tercile</th>\n",
       "      <th>1</th>\n",
       "      <th>2</th>\n",
       "      <th>3</th>\n",
       "      <th>1</th>\n",
       "      <th>2</th>\n",
       "      <th>3</th>\n",
       "      <th>1</th>\n",
       "      <th>2</th>\n",
       "      <th>3</th>\n",
       "    </tr>\n",
       "    <tr>\n",
       "      <th>time</th>\n",
       "      <th></th>\n",
       "      <th></th>\n",
       "      <th></th>\n",
       "      <th></th>\n",
       "      <th></th>\n",
       "      <th></th>\n",
       "      <th></th>\n",
       "      <th></th>\n",
       "      <th></th>\n",
       "    </tr>\n",
       "  </thead>\n",
       "  <tbody>\n",
       "    <tr>\n",
       "      <th>1993-01-01</th>\n",
       "      <td>32.142857</td>\n",
       "      <td>42.857143</td>\n",
       "      <td>25.000000</td>\n",
       "      <td>21.428571</td>\n",
       "      <td>32.142857</td>\n",
       "      <td>46.428571</td>\n",
       "      <td>10.714286</td>\n",
       "      <td>42.857143</td>\n",
       "      <td>46.428571</td>\n",
       "    </tr>\n",
       "    <tr>\n",
       "      <th>1993-02-01</th>\n",
       "      <td>28.571429</td>\n",
       "      <td>25.000000</td>\n",
       "      <td>32.142857</td>\n",
       "      <td>17.857143</td>\n",
       "      <td>28.571429</td>\n",
       "      <td>39.285714</td>\n",
       "      <td>17.857143</td>\n",
       "      <td>39.285714</td>\n",
       "      <td>28.571429</td>\n",
       "    </tr>\n",
       "    <tr>\n",
       "      <th>1993-03-01</th>\n",
       "      <td>39.285714</td>\n",
       "      <td>28.571429</td>\n",
       "      <td>3.571429</td>\n",
       "      <td>28.571429</td>\n",
       "      <td>35.714286</td>\n",
       "      <td>7.142857</td>\n",
       "      <td>25.000000</td>\n",
       "      <td>35.714286</td>\n",
       "      <td>10.714286</td>\n",
       "    </tr>\n",
       "    <tr>\n",
       "      <th>1993-04-01</th>\n",
       "      <td>78.571429</td>\n",
       "      <td>14.285714</td>\n",
       "      <td>7.142857</td>\n",
       "      <td>71.428571</td>\n",
       "      <td>21.428571</td>\n",
       "      <td>7.142857</td>\n",
       "      <td>60.714286</td>\n",
       "      <td>32.142857</td>\n",
       "      <td>7.142857</td>\n",
       "    </tr>\n",
       "    <tr>\n",
       "      <th>1993-05-01</th>\n",
       "      <td>64.285714</td>\n",
       "      <td>21.428571</td>\n",
       "      <td>0.000000</td>\n",
       "      <td>35.714286</td>\n",
       "      <td>50.000000</td>\n",
       "      <td>0.000000</td>\n",
       "      <td>21.428571</td>\n",
       "      <td>50.000000</td>\n",
       "      <td>14.285714</td>\n",
       "    </tr>\n",
       "    <tr>\n",
       "      <th>...</th>\n",
       "      <td>...</td>\n",
       "      <td>...</td>\n",
       "      <td>...</td>\n",
       "      <td>...</td>\n",
       "      <td>...</td>\n",
       "      <td>...</td>\n",
       "      <td>...</td>\n",
       "      <td>...</td>\n",
       "      <td>...</td>\n",
       "    </tr>\n",
       "    <tr>\n",
       "      <th>2016-08-01</th>\n",
       "      <td>7.142857</td>\n",
       "      <td>28.571429</td>\n",
       "      <td>50.000000</td>\n",
       "      <td>3.571429</td>\n",
       "      <td>46.428571</td>\n",
       "      <td>35.714286</td>\n",
       "      <td>10.714286</td>\n",
       "      <td>28.571429</td>\n",
       "      <td>46.428571</td>\n",
       "    </tr>\n",
       "    <tr>\n",
       "      <th>2016-09-01</th>\n",
       "      <td>3.571429</td>\n",
       "      <td>28.571429</td>\n",
       "      <td>53.571429</td>\n",
       "      <td>10.714286</td>\n",
       "      <td>35.714286</td>\n",
       "      <td>39.285714</td>\n",
       "      <td>25.000000</td>\n",
       "      <td>35.714286</td>\n",
       "      <td>25.000000</td>\n",
       "    </tr>\n",
       "    <tr>\n",
       "      <th>2016-10-01</th>\n",
       "      <td>10.714286</td>\n",
       "      <td>32.142857</td>\n",
       "      <td>42.857143</td>\n",
       "      <td>39.285714</td>\n",
       "      <td>17.857143</td>\n",
       "      <td>28.571429</td>\n",
       "      <td>35.714286</td>\n",
       "      <td>28.571429</td>\n",
       "      <td>21.428571</td>\n",
       "    </tr>\n",
       "    <tr>\n",
       "      <th>2016-11-01</th>\n",
       "      <td>25.000000</td>\n",
       "      <td>25.000000</td>\n",
       "      <td>35.714286</td>\n",
       "      <td>39.285714</td>\n",
       "      <td>25.000000</td>\n",
       "      <td>21.428571</td>\n",
       "      <td>42.857143</td>\n",
       "      <td>17.857143</td>\n",
       "      <td>25.000000</td>\n",
       "    </tr>\n",
       "    <tr>\n",
       "      <th>2016-12-01</th>\n",
       "      <td>35.714286</td>\n",
       "      <td>21.428571</td>\n",
       "      <td>28.571429</td>\n",
       "      <td>32.142857</td>\n",
       "      <td>28.571429</td>\n",
       "      <td>25.000000</td>\n",
       "      <td>32.142857</td>\n",
       "      <td>25.000000</td>\n",
       "      <td>28.571429</td>\n",
       "    </tr>\n",
       "  </tbody>\n",
       "</table>\n",
       "<p>288 rows × 9 columns</p>\n",
       "</div>"
      ],
      "text/plain": [
       "                    3                                4                        \\\n",
       "tercile             1          2          3          1          2          3   \n",
       "time                                                                           \n",
       "1993-01-01  32.142857  42.857143  25.000000  21.428571  32.142857  46.428571   \n",
       "1993-02-01  28.571429  25.000000  32.142857  17.857143  28.571429  39.285714   \n",
       "1993-03-01  39.285714  28.571429   3.571429  28.571429  35.714286   7.142857   \n",
       "1993-04-01  78.571429  14.285714   7.142857  71.428571  21.428571   7.142857   \n",
       "1993-05-01  64.285714  21.428571   0.000000  35.714286  50.000000   0.000000   \n",
       "...               ...        ...        ...        ...        ...        ...   \n",
       "2016-08-01   7.142857  28.571429  50.000000   3.571429  46.428571  35.714286   \n",
       "2016-09-01   3.571429  28.571429  53.571429  10.714286  35.714286  39.285714   \n",
       "2016-10-01  10.714286  32.142857  42.857143  39.285714  17.857143  28.571429   \n",
       "2016-11-01  25.000000  25.000000  35.714286  39.285714  25.000000  21.428571   \n",
       "2016-12-01  35.714286  21.428571  28.571429  32.142857  28.571429  25.000000   \n",
       "\n",
       "                    5                        \n",
       "tercile             1          2          3  \n",
       "time                                         \n",
       "1993-01-01  10.714286  42.857143  46.428571  \n",
       "1993-02-01  17.857143  39.285714  28.571429  \n",
       "1993-03-01  25.000000  35.714286  10.714286  \n",
       "1993-04-01  60.714286  32.142857   7.142857  \n",
       "1993-05-01  21.428571  50.000000  14.285714  \n",
       "...               ...        ...        ...  \n",
       "2016-08-01  10.714286  28.571429  46.428571  \n",
       "2016-09-01  25.000000  35.714286  25.000000  \n",
       "2016-10-01  35.714286  28.571429  21.428571  \n",
       "2016-11-01  42.857143  17.857143  25.000000  \n",
       "2016-12-01  32.142857  25.000000  28.571429  \n",
       "\n",
       "[288 rows x 9 columns]"
      ]
     },
     "execution_count": 79,
     "metadata": {},
     "output_type": "execute_result"
    }
   ],
   "source": [
    "df_quantile_probabilities"
   ]
  },
  {
   "cell_type": "markdown",
   "id": "f108a58d-570c-4816-abf9-b2cd464348f3",
   "metadata": {
    "papermill": {
     "duration": 0.121181,
     "end_time": "2021-08-20T05:17:49.071995",
     "exception": false,
     "start_time": "2021-08-20T05:17:48.950814",
     "status": "completed"
    },
    "tags": []
   },
   "source": [
    "### Now we are going to read the ERA5 reanalysis precipitation data for the validation of the regional aggregates "
   ]
  },
  {
   "cell_type": "code",
   "execution_count": 80,
   "id": "c3236810-b434-4f84-a62b-d20febab69f7",
   "metadata": {
    "execution": {
     "iopub.execute_input": "2021-08-20T05:17:49.329034Z",
     "iopub.status.busy": "2021-08-20T05:17:49.328679Z",
     "iopub.status.idle": "2021-08-20T05:17:49.342814Z",
     "shell.execute_reply": "2021-08-20T05:17:49.342460Z"
    },
    "papermill": {
     "duration": 0.147761,
     "end_time": "2021-08-20T05:17:49.342895",
     "exception": false,
     "start_time": "2021-08-20T05:17:49.195134",
     "status": "completed"
    },
    "tags": []
   },
   "outputs": [],
   "source": [
    "from ICU_Water_Watch import verification"
   ]
  },
  {
   "cell_type": "code",
   "execution_count": 81,
   "id": "21033a9a-6b1b-4b97-9d66-b55215d40b9e",
   "metadata": {
    "execution": {
     "iopub.execute_input": "2021-08-20T05:17:49.590956Z",
     "iopub.status.busy": "2021-08-20T05:17:49.590623Z",
     "iopub.status.idle": "2021-08-20T05:17:49.604687Z",
     "shell.execute_reply": "2021-08-20T05:17:49.604938Z"
    },
    "papermill": {
     "duration": 0.137132,
     "end_time": "2021-08-20T05:17:49.605045",
     "exception": false,
     "start_time": "2021-08-20T05:17:49.467913",
     "status": "completed"
    },
    "tags": []
   },
   "outputs": [],
   "source": [
    "use_verif = 'era'"
   ]
  },
  {
   "cell_type": "code",
   "execution_count": 82,
   "id": "d445e336-8f30-452b-9c63-e0b6e245171e",
   "metadata": {
    "execution": {
     "iopub.execute_input": "2021-08-20T05:17:49.852202Z",
     "iopub.status.busy": "2021-08-20T05:17:49.851879Z",
     "iopub.status.idle": "2021-08-20T05:17:53.185880Z",
     "shell.execute_reply": "2021-08-20T05:17:53.186168Z"
    },
    "papermill": {
     "duration": 3.45779,
     "end_time": "2021-08-20T05:17:53.186273",
     "exception": false,
     "start_time": "2021-08-20T05:17:49.728483",
     "status": "completed"
    },
    "tags": []
   },
   "outputs": [],
   "source": [
    "dset_obs, dset_anomalies = verification.get_era5()"
   ]
  },
  {
   "cell_type": "code",
   "execution_count": 83,
   "id": "491c0d78-1634-4884-844b-601cb6b10e7c",
   "metadata": {
    "execution": {
     "iopub.execute_input": "2021-08-20T05:17:53.434847Z",
     "iopub.status.busy": "2021-08-20T05:17:53.434503Z",
     "iopub.status.idle": "2021-08-20T05:17:53.448399Z",
     "shell.execute_reply": "2021-08-20T05:17:53.448696Z"
    },
    "papermill": {
     "duration": 0.140179,
     "end_time": "2021-08-20T05:17:53.448800",
     "exception": false,
     "start_time": "2021-08-20T05:17:53.308621",
     "status": "completed"
    },
    "tags": []
   },
   "outputs": [],
   "source": [
    "gcm_domain = domains.get_domain(dset)"
   ]
  },
  {
   "cell_type": "code",
   "execution_count": 84,
   "id": "98938a05-ae42-424e-8b83-2aa6e2e9e71d",
   "metadata": {
    "execution": {
     "iopub.execute_input": "2021-08-20T05:17:53.712229Z",
     "iopub.status.busy": "2021-08-20T05:17:53.711888Z",
     "iopub.status.idle": "2021-08-20T05:17:53.727054Z",
     "shell.execute_reply": "2021-08-20T05:17:53.726715Z"
    },
    "papermill": {
     "duration": 0.140573,
     "end_time": "2021-08-20T05:17:53.727136",
     "exception": false,
     "start_time": "2021-08-20T05:17:53.586563",
     "status": "completed"
    },
    "tags": []
   },
   "outputs": [
    {
     "data": {
      "text/plain": [
       "[140.0, 156.0, -12.0, -1.0]"
      ]
     },
     "execution_count": 84,
     "metadata": {},
     "output_type": "execute_result"
    }
   ],
   "source": [
    "gcm_domain"
   ]
  },
  {
   "cell_type": "code",
   "execution_count": 85,
   "id": "a1075152-ff65-4a96-9942-05c51bcdba80",
   "metadata": {
    "execution": {
     "iopub.execute_input": "2021-08-20T05:17:53.978281Z",
     "iopub.status.busy": "2021-08-20T05:17:53.977816Z",
     "iopub.status.idle": "2021-08-20T05:17:53.993550Z",
     "shell.execute_reply": "2021-08-20T05:17:53.993194Z"
    },
    "papermill": {
     "duration": 0.141008,
     "end_time": "2021-08-20T05:17:53.993631",
     "exception": false,
     "start_time": "2021-08-20T05:17:53.852623",
     "status": "completed"
    },
    "tags": []
   },
   "outputs": [],
   "source": [
    "dset_obs = dset_obs.sel(lon=slice(*gcm_domain[:2]), lat=slice(*gcm_domain[2:]))"
   ]
  },
  {
   "cell_type": "code",
   "execution_count": 86,
   "id": "1c5398c9-397c-42e9-81c0-42bd998cee85",
   "metadata": {
    "execution": {
     "iopub.execute_input": "2021-08-20T05:17:54.240182Z",
     "iopub.status.busy": "2021-08-20T05:17:54.239855Z",
     "iopub.status.idle": "2021-08-20T05:17:54.263678Z",
     "shell.execute_reply": "2021-08-20T05:17:54.263388Z"
    },
    "papermill": {
     "duration": 0.14744,
     "end_time": "2021-08-20T05:17:54.263759",
     "exception": false,
     "start_time": "2021-08-20T05:17:54.116319",
     "status": "completed"
    },
    "tags": []
   },
   "outputs": [
    {
     "data": {
      "text/html": [
       "<div><svg style=\"position: absolute; width: 0; height: 0; overflow: hidden\">\n",
       "<defs>\n",
       "<symbol id=\"icon-database\" viewBox=\"0 0 32 32\">\n",
       "<path d=\"M16 0c-8.837 0-16 2.239-16 5v4c0 2.761 7.163 5 16 5s16-2.239 16-5v-4c0-2.761-7.163-5-16-5z\"></path>\n",
       "<path d=\"M16 17c-8.837 0-16-2.239-16-5v6c0 2.761 7.163 5 16 5s16-2.239 16-5v-6c0 2.761-7.163 5-16 5z\"></path>\n",
       "<path d=\"M16 26c-8.837 0-16-2.239-16-5v6c0 2.761 7.163 5 16 5s16-2.239 16-5v-6c0 2.761-7.163 5-16 5z\"></path>\n",
       "</symbol>\n",
       "<symbol id=\"icon-file-text2\" viewBox=\"0 0 32 32\">\n",
       "<path d=\"M28.681 7.159c-0.694-0.947-1.662-2.053-2.724-3.116s-2.169-2.030-3.116-2.724c-1.612-1.182-2.393-1.319-2.841-1.319h-15.5c-1.378 0-2.5 1.121-2.5 2.5v27c0 1.378 1.122 2.5 2.5 2.5h23c1.378 0 2.5-1.122 2.5-2.5v-19.5c0-0.448-0.137-1.23-1.319-2.841zM24.543 5.457c0.959 0.959 1.712 1.825 2.268 2.543h-4.811v-4.811c0.718 0.556 1.584 1.309 2.543 2.268zM28 29.5c0 0.271-0.229 0.5-0.5 0.5h-23c-0.271 0-0.5-0.229-0.5-0.5v-27c0-0.271 0.229-0.5 0.5-0.5 0 0 15.499-0 15.5 0v7c0 0.552 0.448 1 1 1h7v19.5z\"></path>\n",
       "<path d=\"M23 26h-14c-0.552 0-1-0.448-1-1s0.448-1 1-1h14c0.552 0 1 0.448 1 1s-0.448 1-1 1z\"></path>\n",
       "<path d=\"M23 22h-14c-0.552 0-1-0.448-1-1s0.448-1 1-1h14c0.552 0 1 0.448 1 1s-0.448 1-1 1z\"></path>\n",
       "<path d=\"M23 18h-14c-0.552 0-1-0.448-1-1s0.448-1 1-1h14c0.552 0 1 0.448 1 1s-0.448 1-1 1z\"></path>\n",
       "</symbol>\n",
       "</defs>\n",
       "</svg>\n",
       "<style>/* CSS stylesheet for displaying xarray objects in jupyterlab.\n",
       " *\n",
       " */\n",
       "\n",
       ":root {\n",
       "  --xr-font-color0: var(--jp-content-font-color0, rgba(0, 0, 0, 1));\n",
       "  --xr-font-color2: var(--jp-content-font-color2, rgba(0, 0, 0, 0.54));\n",
       "  --xr-font-color3: var(--jp-content-font-color3, rgba(0, 0, 0, 0.38));\n",
       "  --xr-border-color: var(--jp-border-color2, #e0e0e0);\n",
       "  --xr-disabled-color: var(--jp-layout-color3, #bdbdbd);\n",
       "  --xr-background-color: var(--jp-layout-color0, white);\n",
       "  --xr-background-color-row-even: var(--jp-layout-color1, white);\n",
       "  --xr-background-color-row-odd: var(--jp-layout-color2, #eeeeee);\n",
       "}\n",
       "\n",
       "html[theme=dark],\n",
       "body.vscode-dark {\n",
       "  --xr-font-color0: rgba(255, 255, 255, 1);\n",
       "  --xr-font-color2: rgba(255, 255, 255, 0.54);\n",
       "  --xr-font-color3: rgba(255, 255, 255, 0.38);\n",
       "  --xr-border-color: #1F1F1F;\n",
       "  --xr-disabled-color: #515151;\n",
       "  --xr-background-color: #111111;\n",
       "  --xr-background-color-row-even: #111111;\n",
       "  --xr-background-color-row-odd: #313131;\n",
       "}\n",
       "\n",
       ".xr-wrap {\n",
       "  display: block;\n",
       "  min-width: 300px;\n",
       "  max-width: 700px;\n",
       "}\n",
       "\n",
       ".xr-text-repr-fallback {\n",
       "  /* fallback to plain text repr when CSS is not injected (untrusted notebook) */\n",
       "  display: none;\n",
       "}\n",
       "\n",
       ".xr-header {\n",
       "  padding-top: 6px;\n",
       "  padding-bottom: 6px;\n",
       "  margin-bottom: 4px;\n",
       "  border-bottom: solid 1px var(--xr-border-color);\n",
       "}\n",
       "\n",
       ".xr-header > div,\n",
       ".xr-header > ul {\n",
       "  display: inline;\n",
       "  margin-top: 0;\n",
       "  margin-bottom: 0;\n",
       "}\n",
       "\n",
       ".xr-obj-type,\n",
       ".xr-array-name {\n",
       "  margin-left: 2px;\n",
       "  margin-right: 10px;\n",
       "}\n",
       "\n",
       ".xr-obj-type {\n",
       "  color: var(--xr-font-color2);\n",
       "}\n",
       "\n",
       ".xr-sections {\n",
       "  padding-left: 0 !important;\n",
       "  display: grid;\n",
       "  grid-template-columns: 150px auto auto 1fr 20px 20px;\n",
       "}\n",
       "\n",
       ".xr-section-item {\n",
       "  display: contents;\n",
       "}\n",
       "\n",
       ".xr-section-item input {\n",
       "  display: none;\n",
       "}\n",
       "\n",
       ".xr-section-item input + label {\n",
       "  color: var(--xr-disabled-color);\n",
       "}\n",
       "\n",
       ".xr-section-item input:enabled + label {\n",
       "  cursor: pointer;\n",
       "  color: var(--xr-font-color2);\n",
       "}\n",
       "\n",
       ".xr-section-item input:enabled + label:hover {\n",
       "  color: var(--xr-font-color0);\n",
       "}\n",
       "\n",
       ".xr-section-summary {\n",
       "  grid-column: 1;\n",
       "  color: var(--xr-font-color2);\n",
       "  font-weight: 500;\n",
       "}\n",
       "\n",
       ".xr-section-summary > span {\n",
       "  display: inline-block;\n",
       "  padding-left: 0.5em;\n",
       "}\n",
       "\n",
       ".xr-section-summary-in:disabled + label {\n",
       "  color: var(--xr-font-color2);\n",
       "}\n",
       "\n",
       ".xr-section-summary-in + label:before {\n",
       "  display: inline-block;\n",
       "  content: '►';\n",
       "  font-size: 11px;\n",
       "  width: 15px;\n",
       "  text-align: center;\n",
       "}\n",
       "\n",
       ".xr-section-summary-in:disabled + label:before {\n",
       "  color: var(--xr-disabled-color);\n",
       "}\n",
       "\n",
       ".xr-section-summary-in:checked + label:before {\n",
       "  content: '▼';\n",
       "}\n",
       "\n",
       ".xr-section-summary-in:checked + label > span {\n",
       "  display: none;\n",
       "}\n",
       "\n",
       ".xr-section-summary,\n",
       ".xr-section-inline-details {\n",
       "  padding-top: 4px;\n",
       "  padding-bottom: 4px;\n",
       "}\n",
       "\n",
       ".xr-section-inline-details {\n",
       "  grid-column: 2 / -1;\n",
       "}\n",
       "\n",
       ".xr-section-details {\n",
       "  display: none;\n",
       "  grid-column: 1 / -1;\n",
       "  margin-bottom: 5px;\n",
       "}\n",
       "\n",
       ".xr-section-summary-in:checked ~ .xr-section-details {\n",
       "  display: contents;\n",
       "}\n",
       "\n",
       ".xr-array-wrap {\n",
       "  grid-column: 1 / -1;\n",
       "  display: grid;\n",
       "  grid-template-columns: 20px auto;\n",
       "}\n",
       "\n",
       ".xr-array-wrap > label {\n",
       "  grid-column: 1;\n",
       "  vertical-align: top;\n",
       "}\n",
       "\n",
       ".xr-preview {\n",
       "  color: var(--xr-font-color3);\n",
       "}\n",
       "\n",
       ".xr-array-preview,\n",
       ".xr-array-data {\n",
       "  padding: 0 5px !important;\n",
       "  grid-column: 2;\n",
       "}\n",
       "\n",
       ".xr-array-data,\n",
       ".xr-array-in:checked ~ .xr-array-preview {\n",
       "  display: none;\n",
       "}\n",
       "\n",
       ".xr-array-in:checked ~ .xr-array-data,\n",
       ".xr-array-preview {\n",
       "  display: inline-block;\n",
       "}\n",
       "\n",
       ".xr-dim-list {\n",
       "  display: inline-block !important;\n",
       "  list-style: none;\n",
       "  padding: 0 !important;\n",
       "  margin: 0;\n",
       "}\n",
       "\n",
       ".xr-dim-list li {\n",
       "  display: inline-block;\n",
       "  padding: 0;\n",
       "  margin: 0;\n",
       "}\n",
       "\n",
       ".xr-dim-list:before {\n",
       "  content: '(';\n",
       "}\n",
       "\n",
       ".xr-dim-list:after {\n",
       "  content: ')';\n",
       "}\n",
       "\n",
       ".xr-dim-list li:not(:last-child):after {\n",
       "  content: ',';\n",
       "  padding-right: 5px;\n",
       "}\n",
       "\n",
       ".xr-has-index {\n",
       "  font-weight: bold;\n",
       "}\n",
       "\n",
       ".xr-var-list,\n",
       ".xr-var-item {\n",
       "  display: contents;\n",
       "}\n",
       "\n",
       ".xr-var-item > div,\n",
       ".xr-var-item label,\n",
       ".xr-var-item > .xr-var-name span {\n",
       "  background-color: var(--xr-background-color-row-even);\n",
       "  margin-bottom: 0;\n",
       "}\n",
       "\n",
       ".xr-var-item > .xr-var-name:hover span {\n",
       "  padding-right: 5px;\n",
       "}\n",
       "\n",
       ".xr-var-list > li:nth-child(odd) > div,\n",
       ".xr-var-list > li:nth-child(odd) > label,\n",
       ".xr-var-list > li:nth-child(odd) > .xr-var-name span {\n",
       "  background-color: var(--xr-background-color-row-odd);\n",
       "}\n",
       "\n",
       ".xr-var-name {\n",
       "  grid-column: 1;\n",
       "}\n",
       "\n",
       ".xr-var-dims {\n",
       "  grid-column: 2;\n",
       "}\n",
       "\n",
       ".xr-var-dtype {\n",
       "  grid-column: 3;\n",
       "  text-align: right;\n",
       "  color: var(--xr-font-color2);\n",
       "}\n",
       "\n",
       ".xr-var-preview {\n",
       "  grid-column: 4;\n",
       "}\n",
       "\n",
       ".xr-var-name,\n",
       ".xr-var-dims,\n",
       ".xr-var-dtype,\n",
       ".xr-preview,\n",
       ".xr-attrs dt {\n",
       "  white-space: nowrap;\n",
       "  overflow: hidden;\n",
       "  text-overflow: ellipsis;\n",
       "  padding-right: 10px;\n",
       "}\n",
       "\n",
       ".xr-var-name:hover,\n",
       ".xr-var-dims:hover,\n",
       ".xr-var-dtype:hover,\n",
       ".xr-attrs dt:hover {\n",
       "  overflow: visible;\n",
       "  width: auto;\n",
       "  z-index: 1;\n",
       "}\n",
       "\n",
       ".xr-var-attrs,\n",
       ".xr-var-data {\n",
       "  display: none;\n",
       "  background-color: var(--xr-background-color) !important;\n",
       "  padding-bottom: 5px !important;\n",
       "}\n",
       "\n",
       ".xr-var-attrs-in:checked ~ .xr-var-attrs,\n",
       ".xr-var-data-in:checked ~ .xr-var-data {\n",
       "  display: block;\n",
       "}\n",
       "\n",
       ".xr-var-data > table {\n",
       "  float: right;\n",
       "}\n",
       "\n",
       ".xr-var-name span,\n",
       ".xr-var-data,\n",
       ".xr-attrs {\n",
       "  padding-left: 25px !important;\n",
       "}\n",
       "\n",
       ".xr-attrs,\n",
       ".xr-var-attrs,\n",
       ".xr-var-data {\n",
       "  grid-column: 1 / -1;\n",
       "}\n",
       "\n",
       "dl.xr-attrs {\n",
       "  padding: 0;\n",
       "  margin: 0;\n",
       "  display: grid;\n",
       "  grid-template-columns: 125px auto;\n",
       "}\n",
       "\n",
       ".xr-attrs dt,\n",
       ".xr-attrs dd {\n",
       "  padding: 0;\n",
       "  margin: 0;\n",
       "  float: left;\n",
       "  padding-right: 10px;\n",
       "  width: auto;\n",
       "}\n",
       "\n",
       ".xr-attrs dt {\n",
       "  font-weight: normal;\n",
       "  grid-column: 1;\n",
       "}\n",
       "\n",
       ".xr-attrs dt:hover span {\n",
       "  display: inline-block;\n",
       "  background: var(--xr-background-color);\n",
       "  padding-right: 10px;\n",
       "}\n",
       "\n",
       ".xr-attrs dd {\n",
       "  grid-column: 2;\n",
       "  white-space: pre-wrap;\n",
       "  word-break: break-all;\n",
       "}\n",
       "\n",
       ".xr-icon-database,\n",
       ".xr-icon-file-text2 {\n",
       "  display: inline-block;\n",
       "  vertical-align: middle;\n",
       "  width: 1em;\n",
       "  height: 1.5em !important;\n",
       "  stroke-width: 0;\n",
       "  stroke: currentColor;\n",
       "  fill: currentColor;\n",
       "}\n",
       "</style><pre class='xr-text-repr-fallback'>&lt;xarray.Dataset&gt;\n",
       "Dimensions:  (time: 288, lat: 12, lon: 17)\n",
       "Coordinates:\n",
       "  * time     (time) datetime64[ns] 1993-01-01 1993-02-01 ... 2016-12-01\n",
       "  * lat      (lat) float64 -12.0 -11.0 -10.0 -9.0 -8.0 ... -4.0 -3.0 -2.0 -1.0\n",
       "  * lon      (lon) float64 140.0 141.0 142.0 143.0 ... 153.0 154.0 155.0 156.0\n",
       "Data variables:\n",
       "    precip   (time, lat, lon) float32 dask.array&lt;chunksize=(1, 12, 17), meta=np.ndarray&gt;\n",
       "Attributes:\n",
       "    Conventions:  CF-1.6\n",
       "    history:      2020-01-21 14:37:06 GMT by grib_to_netcdf-2.15.0: /opt/ecmw...</pre><div class='xr-wrap' hidden><div class='xr-header'><div class='xr-obj-type'>xarray.Dataset</div></div><ul class='xr-sections'><li class='xr-section-item'><input id='section-918cb566-f49f-4f67-9731-b41b87df928f' class='xr-section-summary-in' type='checkbox' disabled ><label for='section-918cb566-f49f-4f67-9731-b41b87df928f' class='xr-section-summary'  title='Expand/collapse section'>Dimensions:</label><div class='xr-section-inline-details'><ul class='xr-dim-list'><li><span class='xr-has-index'>time</span>: 288</li><li><span class='xr-has-index'>lat</span>: 12</li><li><span class='xr-has-index'>lon</span>: 17</li></ul></div><div class='xr-section-details'></div></li><li class='xr-section-item'><input id='section-3be91dc8-30c3-430e-bbac-5c85d7c1ee81' class='xr-section-summary-in' type='checkbox'  checked><label for='section-3be91dc8-30c3-430e-bbac-5c85d7c1ee81' class='xr-section-summary' >Coordinates: <span>(3)</span></label><div class='xr-section-inline-details'></div><div class='xr-section-details'><ul class='xr-var-list'><li class='xr-var-item'><div class='xr-var-name'><span class='xr-has-index'>time</span></div><div class='xr-var-dims'>(time)</div><div class='xr-var-dtype'>datetime64[ns]</div><div class='xr-var-preview xr-preview'>1993-01-01 ... 2016-12-01</div><input id='attrs-99d68728-efbc-4032-8edd-2ae413e5d3cb' class='xr-var-attrs-in' type='checkbox' ><label for='attrs-99d68728-efbc-4032-8edd-2ae413e5d3cb' title='Show/Hide attributes'><svg class='icon xr-icon-file-text2'><use xlink:href='#icon-file-text2'></use></svg></label><input id='data-482924f2-2758-4d42-b4db-1d202696adea' class='xr-var-data-in' type='checkbox'><label for='data-482924f2-2758-4d42-b4db-1d202696adea' title='Show/Hide data repr'><svg class='icon xr-icon-database'><use xlink:href='#icon-database'></use></svg></label><div class='xr-var-attrs'><dl class='xr-attrs'><dt><span>long_name :</span></dt><dd>time</dd></dl></div><div class='xr-var-data'><pre>array([&#x27;1993-01-01T00:00:00.000000000&#x27;, &#x27;1993-02-01T00:00:00.000000000&#x27;,\n",
       "       &#x27;1993-03-01T00:00:00.000000000&#x27;, ..., &#x27;2016-10-01T00:00:00.000000000&#x27;,\n",
       "       &#x27;2016-11-01T00:00:00.000000000&#x27;, &#x27;2016-12-01T00:00:00.000000000&#x27;],\n",
       "      dtype=&#x27;datetime64[ns]&#x27;)</pre></div></li><li class='xr-var-item'><div class='xr-var-name'><span class='xr-has-index'>lat</span></div><div class='xr-var-dims'>(lat)</div><div class='xr-var-dtype'>float64</div><div class='xr-var-preview xr-preview'>-12.0 -11.0 -10.0 ... -2.0 -1.0</div><input id='attrs-bde87f2b-4722-4aa2-935a-5e14b25d56b7' class='xr-var-attrs-in' type='checkbox' ><label for='attrs-bde87f2b-4722-4aa2-935a-5e14b25d56b7' title='Show/Hide attributes'><svg class='icon xr-icon-file-text2'><use xlink:href='#icon-file-text2'></use></svg></label><input id='data-add30f80-0100-4c16-8086-f2b86ab30914' class='xr-var-data-in' type='checkbox'><label for='data-add30f80-0100-4c16-8086-f2b86ab30914' title='Show/Hide data repr'><svg class='icon xr-icon-database'><use xlink:href='#icon-database'></use></svg></label><div class='xr-var-attrs'><dl class='xr-attrs'><dt><span>units :</span></dt><dd>degrees_north</dd><dt><span>long_name :</span></dt><dd>latitude</dd></dl></div><div class='xr-var-data'><pre>array([-12., -11., -10.,  -9.,  -8.,  -7.,  -6.,  -5.,  -4.,  -3.,  -2.,  -1.])</pre></div></li><li class='xr-var-item'><div class='xr-var-name'><span class='xr-has-index'>lon</span></div><div class='xr-var-dims'>(lon)</div><div class='xr-var-dtype'>float64</div><div class='xr-var-preview xr-preview'>140.0 141.0 142.0 ... 155.0 156.0</div><input id='attrs-02882783-7ec1-4742-ae61-768622f68286' class='xr-var-attrs-in' type='checkbox' ><label for='attrs-02882783-7ec1-4742-ae61-768622f68286' title='Show/Hide attributes'><svg class='icon xr-icon-file-text2'><use xlink:href='#icon-file-text2'></use></svg></label><input id='data-530c2bac-cdc8-4c2d-b80d-edf6bb8a1958' class='xr-var-data-in' type='checkbox'><label for='data-530c2bac-cdc8-4c2d-b80d-edf6bb8a1958' title='Show/Hide data repr'><svg class='icon xr-icon-database'><use xlink:href='#icon-database'></use></svg></label><div class='xr-var-attrs'><dl class='xr-attrs'><dt><span>units :</span></dt><dd>degrees_east</dd><dt><span>long_name :</span></dt><dd>longitude</dd></dl></div><div class='xr-var-data'><pre>array([140., 141., 142., 143., 144., 145., 146., 147., 148., 149., 150., 151.,\n",
       "       152., 153., 154., 155., 156.])</pre></div></li></ul></div></li><li class='xr-section-item'><input id='section-3f3fbf93-1a67-46b9-b81f-25f4b335f700' class='xr-section-summary-in' type='checkbox'  checked><label for='section-3f3fbf93-1a67-46b9-b81f-25f4b335f700' class='xr-section-summary' >Data variables: <span>(1)</span></label><div class='xr-section-inline-details'></div><div class='xr-section-details'><ul class='xr-var-list'><li class='xr-var-item'><div class='xr-var-name'><span>precip</span></div><div class='xr-var-dims'>(time, lat, lon)</div><div class='xr-var-dtype'>float32</div><div class='xr-var-preview xr-preview'>dask.array&lt;chunksize=(1, 12, 17), meta=np.ndarray&gt;</div><input id='attrs-77119c31-cc7a-463f-8dd8-e46c10feb09e' class='xr-var-attrs-in' type='checkbox' ><label for='attrs-77119c31-cc7a-463f-8dd8-e46c10feb09e' title='Show/Hide attributes'><svg class='icon xr-icon-file-text2'><use xlink:href='#icon-file-text2'></use></svg></label><input id='data-d97af261-5a98-4d6b-8527-d93b29502b2d' class='xr-var-data-in' type='checkbox'><label for='data-d97af261-5a98-4d6b-8527-d93b29502b2d' title='Show/Hide data repr'><svg class='icon xr-icon-database'><use xlink:href='#icon-database'></use></svg></label><div class='xr-var-attrs'><dl class='xr-attrs'><dt><span>unit :</span></dt><dd>mm</dd></dl></div><div class='xr-var-data'><table>\n",
       "<tr>\n",
       "<td>\n",
       "<table>\n",
       "  <thead>\n",
       "    <tr><td> </td><th> Array </th><th> Chunk </th></tr>\n",
       "  </thead>\n",
       "  <tbody>\n",
       "    <tr><th> Bytes </th><td> 229.50 kiB </td> <td> 816 B </td></tr>\n",
       "    <tr><th> Shape </th><td> (288, 12, 17) </td> <td> (1, 12, 17) </td></tr>\n",
       "    <tr><th> Count </th><td> 3176 Tasks </td><td> 288 Chunks </td></tr>\n",
       "    <tr><th> Type </th><td> float32 </td><td> numpy.ndarray </td></tr>\n",
       "  </tbody>\n",
       "</table>\n",
       "</td>\n",
       "<td>\n",
       "<svg width=\"166\" height=\"153\" style=\"stroke:rgb(0,0,0);stroke-width:1\" >\n",
       "\n",
       "  <!-- Horizontal lines -->\n",
       "  <line x1=\"10\" y1=\"0\" x2=\"80\" y2=\"70\" style=\"stroke-width:2\" />\n",
       "  <line x1=\"10\" y1=\"33\" x2=\"80\" y2=\"103\" style=\"stroke-width:2\" />\n",
       "\n",
       "  <!-- Vertical lines -->\n",
       "  <line x1=\"10\" y1=\"0\" x2=\"10\" y2=\"33\" style=\"stroke-width:2\" />\n",
       "  <line x1=\"13\" y1=\"3\" x2=\"13\" y2=\"37\" />\n",
       "  <line x1=\"17\" y1=\"7\" x2=\"17\" y2=\"40\" />\n",
       "  <line x1=\"21\" y1=\"11\" x2=\"21\" y2=\"44\" />\n",
       "  <line x1=\"24\" y1=\"14\" x2=\"24\" y2=\"48\" />\n",
       "  <line x1=\"28\" y1=\"18\" x2=\"28\" y2=\"51\" />\n",
       "  <line x1=\"32\" y1=\"22\" x2=\"32\" y2=\"55\" />\n",
       "  <line x1=\"35\" y1=\"25\" x2=\"35\" y2=\"59\" />\n",
       "  <line x1=\"39\" y1=\"29\" x2=\"39\" y2=\"63\" />\n",
       "  <line x1=\"43\" y1=\"33\" x2=\"43\" y2=\"66\" />\n",
       "  <line x1=\"47\" y1=\"37\" x2=\"47\" y2=\"70\" />\n",
       "  <line x1=\"50\" y1=\"40\" x2=\"50\" y2=\"74\" />\n",
       "  <line x1=\"54\" y1=\"44\" x2=\"54\" y2=\"77\" />\n",
       "  <line x1=\"58\" y1=\"48\" x2=\"58\" y2=\"81\" />\n",
       "  <line x1=\"61\" y1=\"51\" x2=\"61\" y2=\"85\" />\n",
       "  <line x1=\"65\" y1=\"55\" x2=\"65\" y2=\"89\" />\n",
       "  <line x1=\"69\" y1=\"59\" x2=\"69\" y2=\"92\" />\n",
       "  <line x1=\"72\" y1=\"62\" x2=\"72\" y2=\"96\" />\n",
       "  <line x1=\"76\" y1=\"66\" x2=\"76\" y2=\"100\" />\n",
       "  <line x1=\"80\" y1=\"70\" x2=\"80\" y2=\"103\" style=\"stroke-width:2\" />\n",
       "\n",
       "  <!-- Colored Rectangle -->\n",
       "  <polygon points=\"10.0,0.0 80.58823529411765,70.58823529411765 80.58823529411765,103.97193373564438 10.0,33.38369844152673\" style=\"fill:#8B4903A0;stroke-width:0\"/>\n",
       "\n",
       "  <!-- Horizontal lines -->\n",
       "  <line x1=\"10\" y1=\"0\" x2=\"45\" y2=\"0\" style=\"stroke-width:2\" />\n",
       "  <line x1=\"13\" y1=\"3\" x2=\"49\" y2=\"3\" />\n",
       "  <line x1=\"17\" y1=\"7\" x2=\"52\" y2=\"7\" />\n",
       "  <line x1=\"21\" y1=\"11\" x2=\"56\" y2=\"11\" />\n",
       "  <line x1=\"24\" y1=\"14\" x2=\"60\" y2=\"14\" />\n",
       "  <line x1=\"28\" y1=\"18\" x2=\"63\" y2=\"18\" />\n",
       "  <line x1=\"32\" y1=\"22\" x2=\"67\" y2=\"22\" />\n",
       "  <line x1=\"35\" y1=\"25\" x2=\"71\" y2=\"25\" />\n",
       "  <line x1=\"39\" y1=\"29\" x2=\"75\" y2=\"29\" />\n",
       "  <line x1=\"43\" y1=\"33\" x2=\"78\" y2=\"33\" />\n",
       "  <line x1=\"47\" y1=\"37\" x2=\"82\" y2=\"37\" />\n",
       "  <line x1=\"50\" y1=\"40\" x2=\"86\" y2=\"40\" />\n",
       "  <line x1=\"54\" y1=\"44\" x2=\"89\" y2=\"44\" />\n",
       "  <line x1=\"58\" y1=\"48\" x2=\"93\" y2=\"48\" />\n",
       "  <line x1=\"61\" y1=\"51\" x2=\"97\" y2=\"51\" />\n",
       "  <line x1=\"65\" y1=\"55\" x2=\"101\" y2=\"55\" />\n",
       "  <line x1=\"69\" y1=\"59\" x2=\"104\" y2=\"59\" />\n",
       "  <line x1=\"72\" y1=\"62\" x2=\"108\" y2=\"62\" />\n",
       "  <line x1=\"76\" y1=\"66\" x2=\"112\" y2=\"66\" />\n",
       "  <line x1=\"80\" y1=\"70\" x2=\"116\" y2=\"70\" style=\"stroke-width:2\" />\n",
       "\n",
       "  <!-- Vertical lines -->\n",
       "  <line x1=\"10\" y1=\"0\" x2=\"80\" y2=\"70\" style=\"stroke-width:2\" />\n",
       "  <line x1=\"45\" y1=\"0\" x2=\"116\" y2=\"70\" style=\"stroke-width:2\" />\n",
       "\n",
       "  <!-- Colored Rectangle -->\n",
       "  <polygon points=\"10.0,0.0 45.51355097190284,0.0 116.1017862660205,70.58823529411765 80.58823529411765,70.58823529411765\" style=\"fill:#8B4903A0;stroke-width:0\"/>\n",
       "\n",
       "  <!-- Horizontal lines -->\n",
       "  <line x1=\"80\" y1=\"70\" x2=\"116\" y2=\"70\" style=\"stroke-width:2\" />\n",
       "  <line x1=\"80\" y1=\"103\" x2=\"116\" y2=\"103\" style=\"stroke-width:2\" />\n",
       "\n",
       "  <!-- Vertical lines -->\n",
       "  <line x1=\"80\" y1=\"70\" x2=\"80\" y2=\"103\" style=\"stroke-width:2\" />\n",
       "  <line x1=\"116\" y1=\"70\" x2=\"116\" y2=\"103\" style=\"stroke-width:2\" />\n",
       "\n",
       "  <!-- Colored Rectangle -->\n",
       "  <polygon points=\"80.58823529411765,70.58823529411765 116.1017862660205,70.58823529411765 116.1017862660205,103.97193373564438 80.58823529411765,103.97193373564438\" style=\"fill:#ECB172A0;stroke-width:0\"/>\n",
       "\n",
       "  <!-- Text -->\n",
       "  <text x=\"98.345011\" y=\"123.971934\" font-size=\"1.0rem\" font-weight=\"100\" text-anchor=\"middle\" >17</text>\n",
       "  <text x=\"136.101786\" y=\"87.280085\" font-size=\"1.0rem\" font-weight=\"100\" text-anchor=\"middle\" transform=\"rotate(0,136.101786,87.280085)\">12</text>\n",
       "  <text x=\"35.294118\" y=\"88.677816\" font-size=\"1.0rem\" font-weight=\"100\" text-anchor=\"middle\" transform=\"rotate(45,35.294118,88.677816)\">288</text>\n",
       "</svg>\n",
       "</td>\n",
       "</tr>\n",
       "</table></div></li></ul></div></li><li class='xr-section-item'><input id='section-8b67419b-8e23-4944-832f-0fbc7e475dd6' class='xr-section-summary-in' type='checkbox'  checked><label for='section-8b67419b-8e23-4944-832f-0fbc7e475dd6' class='xr-section-summary' >Attributes: <span>(2)</span></label><div class='xr-section-inline-details'></div><div class='xr-section-details'><dl class='xr-attrs'><dt><span>Conventions :</span></dt><dd>CF-1.6</dd><dt><span>history :</span></dt><dd>2020-01-21 14:37:06 GMT by grib_to_netcdf-2.15.0: /opt/ecmwf/eccodes/bin/grib_to_netcdf -o /cache/data8/adaptor.mars.internal-1579617425.1231182-4173-13-cce02069-4759-48fa-acd8-2f3d6cda8e3e.nc /cache/tmp/cce02069-4759-48fa-acd8-2f3d6cda8e3e-adaptor.mars.internal-1579617425.1594281-4173-7-tmp.grib</dd></dl></div></li></ul></div></div>"
      ],
      "text/plain": [
       "<xarray.Dataset>\n",
       "Dimensions:  (time: 288, lat: 12, lon: 17)\n",
       "Coordinates:\n",
       "  * time     (time) datetime64[ns] 1993-01-01 1993-02-01 ... 2016-12-01\n",
       "  * lat      (lat) float64 -12.0 -11.0 -10.0 -9.0 -8.0 ... -4.0 -3.0 -2.0 -1.0\n",
       "  * lon      (lon) float64 140.0 141.0 142.0 143.0 ... 153.0 154.0 155.0 156.0\n",
       "Data variables:\n",
       "    precip   (time, lat, lon) float32 dask.array<chunksize=(1, 12, 17), meta=np.ndarray>\n",
       "Attributes:\n",
       "    Conventions:  CF-1.6\n",
       "    history:      2020-01-21 14:37:06 GMT by grib_to_netcdf-2.15.0: /opt/ecmw..."
      ]
     },
     "execution_count": 86,
     "metadata": {},
     "output_type": "execute_result"
    }
   ],
   "source": [
    "dset_obs"
   ]
  },
  {
   "cell_type": "markdown",
   "id": "b2aa383b-dfae-4562-bf1d-3d29e025d41c",
   "metadata": {
    "papermill": {
     "duration": 0.126211,
     "end_time": "2021-08-20T05:17:54.514364",
     "exception": false,
     "start_time": "2021-08-20T05:17:54.388153",
     "status": "completed"
    },
    "tags": []
   },
   "source": [
    "### if seasonal, calculates the 3 months accumulations "
   ]
  },
  {
   "cell_type": "code",
   "execution_count": 87,
   "id": "896e3a21-da11-4237-b2d8-89905957927c",
   "metadata": {
    "execution": {
     "iopub.execute_input": "2021-08-20T05:17:54.762118Z",
     "iopub.status.busy": "2021-08-20T05:17:54.761708Z",
     "iopub.status.idle": "2021-08-20T05:17:54.808797Z",
     "shell.execute_reply": "2021-08-20T05:17:54.808447Z"
    },
    "papermill": {
     "duration": 0.172216,
     "end_time": "2021-08-20T05:17:54.808881",
     "exception": false,
     "start_time": "2021-08-20T05:17:54.636665",
     "status": "completed"
    },
    "tags": []
   },
   "outputs": [],
   "source": [
    "if period == 'seasonal': \n",
    "    \n",
    "    dset_obs = dset_obs.rolling({\"time\":3}, min_periods=3, center=False).sum('time')\n",
    "    \n",
    "    dset_obs = dset_obs.isel(time=slice(2, None))"
   ]
  },
  {
   "cell_type": "code",
   "execution_count": 88,
   "id": "d46889ef-b36a-4fd4-ac1a-e5c6fc602c57",
   "metadata": {
    "execution": {
     "iopub.execute_input": "2021-08-20T05:17:55.061982Z",
     "iopub.status.busy": "2021-08-20T05:17:55.061655Z",
     "iopub.status.idle": "2021-08-20T05:17:55.277937Z",
     "shell.execute_reply": "2021-08-20T05:17:55.277604Z"
    },
    "papermill": {
     "duration": 0.344717,
     "end_time": "2021-08-20T05:17:55.278018",
     "exception": false,
     "start_time": "2021-08-20T05:17:54.933301",
     "status": "completed"
    },
    "tags": []
   },
   "outputs": [
    {
     "data": {
      "text/plain": [
       "<matplotlib.collections.QuadMesh at 0x7f68a3932970>"
      ]
     },
     "execution_count": 88,
     "metadata": {},
     "output_type": "execute_result"
    },
    {
     "data": {
      "image/png": "[encoded data removed]",
      "text/plain": [
       "<Figure size 432x288 with 2 Axes>"
      ]
     },
     "metadata": {
      "needs_background": "light"
     },
     "output_type": "display_data"
    }
   ],
   "source": [
    "dset_obs['precip'][0,:,:].plot()"
   ]
  },
  {
   "cell_type": "code",
   "execution_count": 89,
   "id": "e33ab35f-fd2b-4e2d-924e-9c018e481df4",
   "metadata": {
    "execution": {
     "iopub.execute_input": "2021-08-20T05:17:55.531006Z",
     "iopub.status.busy": "2021-08-20T05:17:55.530675Z",
     "iopub.status.idle": "2021-08-20T05:17:55.554418Z",
     "shell.execute_reply": "2021-08-20T05:17:55.553968Z"
    },
    "papermill": {
     "duration": 0.150782,
     "end_time": "2021-08-20T05:17:55.554523",
     "exception": false,
     "start_time": "2021-08-20T05:17:55.403741",
     "status": "completed"
    },
    "tags": []
   },
   "outputs": [],
   "source": [
    "dset_obs = dset_obs.interp_like(dset[['lon','lat']])"
   ]
  },
  {
   "cell_type": "code",
   "execution_count": 90,
   "id": "b21d55fa-49c6-48bc-b9b6-0addecaf290b",
   "metadata": {
    "execution": {
     "iopub.execute_input": "2021-08-20T05:17:55.811096Z",
     "iopub.status.busy": "2021-08-20T05:17:55.810747Z",
     "iopub.status.idle": "2021-08-20T05:17:55.833667Z",
     "shell.execute_reply": "2021-08-20T05:17:55.833909Z"
    },
    "papermill": {
     "duration": 0.148144,
     "end_time": "2021-08-20T05:17:55.834009",
     "exception": false,
     "start_time": "2021-08-20T05:17:55.685865",
     "status": "completed"
    },
    "tags": []
   },
   "outputs": [
    {
     "data": {
      "text/html": [
       "<div><svg style=\"position: absolute; width: 0; height: 0; overflow: hidden\">\n",
       "<defs>\n",
       "<symbol id=\"icon-database\" viewBox=\"0 0 32 32\">\n",
       "<path d=\"M16 0c-8.837 0-16 2.239-16 5v4c0 2.761 7.163 5 16 5s16-2.239 16-5v-4c0-2.761-7.163-5-16-5z\"></path>\n",
       "<path d=\"M16 17c-8.837 0-16-2.239-16-5v6c0 2.761 7.163 5 16 5s16-2.239 16-5v-6c0 2.761-7.163 5-16 5z\"></path>\n",
       "<path d=\"M16 26c-8.837 0-16-2.239-16-5v6c0 2.761 7.163 5 16 5s16-2.239 16-5v-6c0 2.761-7.163 5-16 5z\"></path>\n",
       "</symbol>\n",
       "<symbol id=\"icon-file-text2\" viewBox=\"0 0 32 32\">\n",
       "<path d=\"M28.681 7.159c-0.694-0.947-1.662-2.053-2.724-3.116s-2.169-2.030-3.116-2.724c-1.612-1.182-2.393-1.319-2.841-1.319h-15.5c-1.378 0-2.5 1.121-2.5 2.5v27c0 1.378 1.122 2.5 2.5 2.5h23c1.378 0 2.5-1.122 2.5-2.5v-19.5c0-0.448-0.137-1.23-1.319-2.841zM24.543 5.457c0.959 0.959 1.712 1.825 2.268 2.543h-4.811v-4.811c0.718 0.556 1.584 1.309 2.543 2.268zM28 29.5c0 0.271-0.229 0.5-0.5 0.5h-23c-0.271 0-0.5-0.229-0.5-0.5v-27c0-0.271 0.229-0.5 0.5-0.5 0 0 15.499-0 15.5 0v7c0 0.552 0.448 1 1 1h7v19.5z\"></path>\n",
       "<path d=\"M23 26h-14c-0.552 0-1-0.448-1-1s0.448-1 1-1h14c0.552 0 1 0.448 1 1s-0.448 1-1 1z\"></path>\n",
       "<path d=\"M23 22h-14c-0.552 0-1-0.448-1-1s0.448-1 1-1h14c0.552 0 1 0.448 1 1s-0.448 1-1 1z\"></path>\n",
       "<path d=\"M23 18h-14c-0.552 0-1-0.448-1-1s0.448-1 1-1h14c0.552 0 1 0.448 1 1s-0.448 1-1 1z\"></path>\n",
       "</symbol>\n",
       "</defs>\n",
       "</svg>\n",
       "<style>/* CSS stylesheet for displaying xarray objects in jupyterlab.\n",
       " *\n",
       " */\n",
       "\n",
       ":root {\n",
       "  --xr-font-color0: var(--jp-content-font-color0, rgba(0, 0, 0, 1));\n",
       "  --xr-font-color2: var(--jp-content-font-color2, rgba(0, 0, 0, 0.54));\n",
       "  --xr-font-color3: var(--jp-content-font-color3, rgba(0, 0, 0, 0.38));\n",
       "  --xr-border-color: var(--jp-border-color2, #e0e0e0);\n",
       "  --xr-disabled-color: var(--jp-layout-color3, #bdbdbd);\n",
       "  --xr-background-color: var(--jp-layout-color0, white);\n",
       "  --xr-background-color-row-even: var(--jp-layout-color1, white);\n",
       "  --xr-background-color-row-odd: var(--jp-layout-color2, #eeeeee);\n",
       "}\n",
       "\n",
       "html[theme=dark],\n",
       "body.vscode-dark {\n",
       "  --xr-font-color0: rgba(255, 255, 255, 1);\n",
       "  --xr-font-color2: rgba(255, 255, 255, 0.54);\n",
       "  --xr-font-color3: rgba(255, 255, 255, 0.38);\n",
       "  --xr-border-color: #1F1F1F;\n",
       "  --xr-disabled-color: #515151;\n",
       "  --xr-background-color: #111111;\n",
       "  --xr-background-color-row-even: #111111;\n",
       "  --xr-background-color-row-odd: #313131;\n",
       "}\n",
       "\n",
       ".xr-wrap {\n",
       "  display: block;\n",
       "  min-width: 300px;\n",
       "  max-width: 700px;\n",
       "}\n",
       "\n",
       ".xr-text-repr-fallback {\n",
       "  /* fallback to plain text repr when CSS is not injected (untrusted notebook) */\n",
       "  display: none;\n",
       "}\n",
       "\n",
       ".xr-header {\n",
       "  padding-top: 6px;\n",
       "  padding-bottom: 6px;\n",
       "  margin-bottom: 4px;\n",
       "  border-bottom: solid 1px var(--xr-border-color);\n",
       "}\n",
       "\n",
       ".xr-header > div,\n",
       ".xr-header > ul {\n",
       "  display: inline;\n",
       "  margin-top: 0;\n",
       "  margin-bottom: 0;\n",
       "}\n",
       "\n",
       ".xr-obj-type,\n",
       ".xr-array-name {\n",
       "  margin-left: 2px;\n",
       "  margin-right: 10px;\n",
       "}\n",
       "\n",
       ".xr-obj-type {\n",
       "  color: var(--xr-font-color2);\n",
       "}\n",
       "\n",
       ".xr-sections {\n",
       "  padding-left: 0 !important;\n",
       "  display: grid;\n",
       "  grid-template-columns: 150px auto auto 1fr 20px 20px;\n",
       "}\n",
       "\n",
       ".xr-section-item {\n",
       "  display: contents;\n",
       "}\n",
       "\n",
       ".xr-section-item input {\n",
       "  display: none;\n",
       "}\n",
       "\n",
       ".xr-section-item input + label {\n",
       "  color: var(--xr-disabled-color);\n",
       "}\n",
       "\n",
       ".xr-section-item input:enabled + label {\n",
       "  cursor: pointer;\n",
       "  color: var(--xr-font-color2);\n",
       "}\n",
       "\n",
       ".xr-section-item input:enabled + label:hover {\n",
       "  color: var(--xr-font-color0);\n",
       "}\n",
       "\n",
       ".xr-section-summary {\n",
       "  grid-column: 1;\n",
       "  color: var(--xr-font-color2);\n",
       "  font-weight: 500;\n",
       "}\n",
       "\n",
       ".xr-section-summary > span {\n",
       "  display: inline-block;\n",
       "  padding-left: 0.5em;\n",
       "}\n",
       "\n",
       ".xr-section-summary-in:disabled + label {\n",
       "  color: var(--xr-font-color2);\n",
       "}\n",
       "\n",
       ".xr-section-summary-in + label:before {\n",
       "  display: inline-block;\n",
       "  content: '►';\n",
       "  font-size: 11px;\n",
       "  width: 15px;\n",
       "  text-align: center;\n",
       "}\n",
       "\n",
       ".xr-section-summary-in:disabled + label:before {\n",
       "  color: var(--xr-disabled-color);\n",
       "}\n",
       "\n",
       ".xr-section-summary-in:checked + label:before {\n",
       "  content: '▼';\n",
       "}\n",
       "\n",
       ".xr-section-summary-in:checked + label > span {\n",
       "  display: none;\n",
       "}\n",
       "\n",
       ".xr-section-summary,\n",
       ".xr-section-inline-details {\n",
       "  padding-top: 4px;\n",
       "  padding-bottom: 4px;\n",
       "}\n",
       "\n",
       ".xr-section-inline-details {\n",
       "  grid-column: 2 / -1;\n",
       "}\n",
       "\n",
       ".xr-section-details {\n",
       "  display: none;\n",
       "  grid-column: 1 / -1;\n",
       "  margin-bottom: 5px;\n",
       "}\n",
       "\n",
       ".xr-section-summary-in:checked ~ .xr-section-details {\n",
       "  display: contents;\n",
       "}\n",
       "\n",
       ".xr-array-wrap {\n",
       "  grid-column: 1 / -1;\n",
       "  display: grid;\n",
       "  grid-template-columns: 20px auto;\n",
       "}\n",
       "\n",
       ".xr-array-wrap > label {\n",
       "  grid-column: 1;\n",
       "  vertical-align: top;\n",
       "}\n",
       "\n",
       ".xr-preview {\n",
       "  color: var(--xr-font-color3);\n",
       "}\n",
       "\n",
       ".xr-array-preview,\n",
       ".xr-array-data {\n",
       "  padding: 0 5px !important;\n",
       "  grid-column: 2;\n",
       "}\n",
       "\n",
       ".xr-array-data,\n",
       ".xr-array-in:checked ~ .xr-array-preview {\n",
       "  display: none;\n",
       "}\n",
       "\n",
       ".xr-array-in:checked ~ .xr-array-data,\n",
       ".xr-array-preview {\n",
       "  display: inline-block;\n",
       "}\n",
       "\n",
       ".xr-dim-list {\n",
       "  display: inline-block !important;\n",
       "  list-style: none;\n",
       "  padding: 0 !important;\n",
       "  margin: 0;\n",
       "}\n",
       "\n",
       ".xr-dim-list li {\n",
       "  display: inline-block;\n",
       "  padding: 0;\n",
       "  margin: 0;\n",
       "}\n",
       "\n",
       ".xr-dim-list:before {\n",
       "  content: '(';\n",
       "}\n",
       "\n",
       ".xr-dim-list:after {\n",
       "  content: ')';\n",
       "}\n",
       "\n",
       ".xr-dim-list li:not(:last-child):after {\n",
       "  content: ',';\n",
       "  padding-right: 5px;\n",
       "}\n",
       "\n",
       ".xr-has-index {\n",
       "  font-weight: bold;\n",
       "}\n",
       "\n",
       ".xr-var-list,\n",
       ".xr-var-item {\n",
       "  display: contents;\n",
       "}\n",
       "\n",
       ".xr-var-item > div,\n",
       ".xr-var-item label,\n",
       ".xr-var-item > .xr-var-name span {\n",
       "  background-color: var(--xr-background-color-row-even);\n",
       "  margin-bottom: 0;\n",
       "}\n",
       "\n",
       ".xr-var-item > .xr-var-name:hover span {\n",
       "  padding-right: 5px;\n",
       "}\n",
       "\n",
       ".xr-var-list > li:nth-child(odd) > div,\n",
       ".xr-var-list > li:nth-child(odd) > label,\n",
       ".xr-var-list > li:nth-child(odd) > .xr-var-name span {\n",
       "  background-color: var(--xr-background-color-row-odd);\n",
       "}\n",
       "\n",
       ".xr-var-name {\n",
       "  grid-column: 1;\n",
       "}\n",
       "\n",
       ".xr-var-dims {\n",
       "  grid-column: 2;\n",
       "}\n",
       "\n",
       ".xr-var-dtype {\n",
       "  grid-column: 3;\n",
       "  text-align: right;\n",
       "  color: var(--xr-font-color2);\n",
       "}\n",
       "\n",
       ".xr-var-preview {\n",
       "  grid-column: 4;\n",
       "}\n",
       "\n",
       ".xr-var-name,\n",
       ".xr-var-dims,\n",
       ".xr-var-dtype,\n",
       ".xr-preview,\n",
       ".xr-attrs dt {\n",
       "  white-space: nowrap;\n",
       "  overflow: hidden;\n",
       "  text-overflow: ellipsis;\n",
       "  padding-right: 10px;\n",
       "}\n",
       "\n",
       ".xr-var-name:hover,\n",
       ".xr-var-dims:hover,\n",
       ".xr-var-dtype:hover,\n",
       ".xr-attrs dt:hover {\n",
       "  overflow: visible;\n",
       "  width: auto;\n",
       "  z-index: 1;\n",
       "}\n",
       "\n",
       ".xr-var-attrs,\n",
       ".xr-var-data {\n",
       "  display: none;\n",
       "  background-color: var(--xr-background-color) !important;\n",
       "  padding-bottom: 5px !important;\n",
       "}\n",
       "\n",
       ".xr-var-attrs-in:checked ~ .xr-var-attrs,\n",
       ".xr-var-data-in:checked ~ .xr-var-data {\n",
       "  display: block;\n",
       "}\n",
       "\n",
       ".xr-var-data > table {\n",
       "  float: right;\n",
       "}\n",
       "\n",
       ".xr-var-name span,\n",
       ".xr-var-data,\n",
       ".xr-attrs {\n",
       "  padding-left: 25px !important;\n",
       "}\n",
       "\n",
       ".xr-attrs,\n",
       ".xr-var-attrs,\n",
       ".xr-var-data {\n",
       "  grid-column: 1 / -1;\n",
       "}\n",
       "\n",
       "dl.xr-attrs {\n",
       "  padding: 0;\n",
       "  margin: 0;\n",
       "  display: grid;\n",
       "  grid-template-columns: 125px auto;\n",
       "}\n",
       "\n",
       ".xr-attrs dt,\n",
       ".xr-attrs dd {\n",
       "  padding: 0;\n",
       "  margin: 0;\n",
       "  float: left;\n",
       "  padding-right: 10px;\n",
       "  width: auto;\n",
       "}\n",
       "\n",
       ".xr-attrs dt {\n",
       "  font-weight: normal;\n",
       "  grid-column: 1;\n",
       "}\n",
       "\n",
       ".xr-attrs dt:hover span {\n",
       "  display: inline-block;\n",
       "  background: var(--xr-background-color);\n",
       "  padding-right: 10px;\n",
       "}\n",
       "\n",
       ".xr-attrs dd {\n",
       "  grid-column: 2;\n",
       "  white-space: pre-wrap;\n",
       "  word-break: break-all;\n",
       "}\n",
       "\n",
       ".xr-icon-database,\n",
       ".xr-icon-file-text2 {\n",
       "  display: inline-block;\n",
       "  vertical-align: middle;\n",
       "  width: 1em;\n",
       "  height: 1.5em !important;\n",
       "  stroke-width: 0;\n",
       "  stroke: currentColor;\n",
       "  fill: currentColor;\n",
       "}\n",
       "</style><pre class='xr-text-repr-fallback'>&lt;xarray.Dataset&gt;\n",
       "Dimensions:  (time: 286, lat: 60, lon: 85)\n",
       "Coordinates:\n",
       "  * time     (time) datetime64[ns] 1993-03-01 1993-04-01 ... 2016-12-01\n",
       "  * lon      (lon) float64 140.0 140.2 140.4 140.6 ... 155.4 155.6 155.8 156.0\n",
       "  * lat      (lat) float64 -12.0 -11.81 -11.63 -11.44 ... -1.373 -1.186 -1.0\n",
       "Data variables:\n",
       "    precip   (time, lat, lon) float32 dask.array&lt;chunksize=(1, 60, 85), meta=np.ndarray&gt;\n",
       "Attributes:\n",
       "    Conventions:  CF-1.6\n",
       "    history:      2020-01-21 14:37:06 GMT by grib_to_netcdf-2.15.0: /opt/ecmw...</pre><div class='xr-wrap' hidden><div class='xr-header'><div class='xr-obj-type'>xarray.Dataset</div></div><ul class='xr-sections'><li class='xr-section-item'><input id='section-dc1278b9-8994-4a4b-8c88-cb61d3bd6942' class='xr-section-summary-in' type='checkbox' disabled ><label for='section-dc1278b9-8994-4a4b-8c88-cb61d3bd6942' class='xr-section-summary'  title='Expand/collapse section'>Dimensions:</label><div class='xr-section-inline-details'><ul class='xr-dim-list'><li><span class='xr-has-index'>time</span>: 286</li><li><span class='xr-has-index'>lat</span>: 60</li><li><span class='xr-has-index'>lon</span>: 85</li></ul></div><div class='xr-section-details'></div></li><li class='xr-section-item'><input id='section-4125c722-edf6-4b29-9595-514b05b586bb' class='xr-section-summary-in' type='checkbox'  checked><label for='section-4125c722-edf6-4b29-9595-514b05b586bb' class='xr-section-summary' >Coordinates: <span>(3)</span></label><div class='xr-section-inline-details'></div><div class='xr-section-details'><ul class='xr-var-list'><li class='xr-var-item'><div class='xr-var-name'><span class='xr-has-index'>time</span></div><div class='xr-var-dims'>(time)</div><div class='xr-var-dtype'>datetime64[ns]</div><div class='xr-var-preview xr-preview'>1993-03-01 ... 2016-12-01</div><input id='attrs-6b83db94-b87c-4634-b50f-726131be7071' class='xr-var-attrs-in' type='checkbox' ><label for='attrs-6b83db94-b87c-4634-b50f-726131be7071' title='Show/Hide attributes'><svg class='icon xr-icon-file-text2'><use xlink:href='#icon-file-text2'></use></svg></label><input id='data-e2e2412a-ee10-4353-85e9-49f6952447ab' class='xr-var-data-in' type='checkbox'><label for='data-e2e2412a-ee10-4353-85e9-49f6952447ab' title='Show/Hide data repr'><svg class='icon xr-icon-database'><use xlink:href='#icon-database'></use></svg></label><div class='xr-var-attrs'><dl class='xr-attrs'><dt><span>long_name :</span></dt><dd>time</dd></dl></div><div class='xr-var-data'><pre>array([&#x27;1993-03-01T00:00:00.000000000&#x27;, &#x27;1993-04-01T00:00:00.000000000&#x27;,\n",
       "       &#x27;1993-05-01T00:00:00.000000000&#x27;, ..., &#x27;2016-10-01T00:00:00.000000000&#x27;,\n",
       "       &#x27;2016-11-01T00:00:00.000000000&#x27;, &#x27;2016-12-01T00:00:00.000000000&#x27;],\n",
       "      dtype=&#x27;datetime64[ns]&#x27;)</pre></div></li><li class='xr-var-item'><div class='xr-var-name'><span class='xr-has-index'>lon</span></div><div class='xr-var-dims'>(lon)</div><div class='xr-var-dtype'>float64</div><div class='xr-var-preview xr-preview'>140.0 140.2 140.4 ... 155.8 156.0</div><input id='attrs-dfa587f7-d0c6-4082-b40e-58d4c03f5332' class='xr-var-attrs-in' type='checkbox' ><label for='attrs-dfa587f7-d0c6-4082-b40e-58d4c03f5332' title='Show/Hide attributes'><svg class='icon xr-icon-file-text2'><use xlink:href='#icon-file-text2'></use></svg></label><input id='data-f00982eb-6c30-45dc-bc21-40e38554b3a4' class='xr-var-data-in' type='checkbox'><label for='data-f00982eb-6c30-45dc-bc21-40e38554b3a4' title='Show/Hide data repr'><svg class='icon xr-icon-database'><use xlink:href='#icon-database'></use></svg></label><div class='xr-var-attrs'><dl class='xr-attrs'><dt><span>units :</span></dt><dd>degrees_east</dd><dt><span>long_name :</span></dt><dd>longitude</dd></dl></div><div class='xr-var-data'><pre>array([140.      , 140.190476, 140.380952, 140.571429, 140.761905, 140.952381,\n",
       "       141.142857, 141.333333, 141.52381 , 141.714286, 141.904762, 142.095238,\n",
       "       142.285714, 142.47619 , 142.666667, 142.857143, 143.047619, 143.238095,\n",
       "       143.428571, 143.619048, 143.809524, 144.      , 144.190476, 144.380952,\n",
       "       144.571429, 144.761905, 144.952381, 145.142857, 145.333333, 145.52381 ,\n",
       "       145.714286, 145.904762, 146.095238, 146.285714, 146.47619 , 146.666667,\n",
       "       146.857143, 147.047619, 147.238095, 147.428571, 147.619048, 147.809524,\n",
       "       148.      , 148.190476, 148.380952, 148.571429, 148.761905, 148.952381,\n",
       "       149.142857, 149.333333, 149.52381 , 149.714286, 149.904762, 150.095238,\n",
       "       150.285714, 150.47619 , 150.666667, 150.857143, 151.047619, 151.238095,\n",
       "       151.428571, 151.619048, 151.809524, 152.      , 152.190476, 152.380952,\n",
       "       152.571429, 152.761905, 152.952381, 153.142857, 153.333333, 153.52381 ,\n",
       "       153.714286, 153.904762, 154.095238, 154.285714, 154.47619 , 154.666667,\n",
       "       154.857143, 155.047619, 155.238095, 155.428571, 155.619048, 155.809524,\n",
       "       156.      ])</pre></div></li><li class='xr-var-item'><div class='xr-var-name'><span class='xr-has-index'>lat</span></div><div class='xr-var-dims'>(lat)</div><div class='xr-var-dtype'>float64</div><div class='xr-var-preview xr-preview'>-12.0 -11.81 -11.63 ... -1.186 -1.0</div><input id='attrs-79b4e719-0d6a-4f1c-b45d-396f006027d0' class='xr-var-attrs-in' type='checkbox' ><label for='attrs-79b4e719-0d6a-4f1c-b45d-396f006027d0' title='Show/Hide attributes'><svg class='icon xr-icon-file-text2'><use xlink:href='#icon-file-text2'></use></svg></label><input id='data-c6bc8c18-e1bc-4eb1-bb83-5bb429afc431' class='xr-var-data-in' type='checkbox'><label for='data-c6bc8c18-e1bc-4eb1-bb83-5bb429afc431' title='Show/Hide data repr'><svg class='icon xr-icon-database'><use xlink:href='#icon-database'></use></svg></label><div class='xr-var-attrs'><dl class='xr-attrs'><dt><span>units :</span></dt><dd>degrees_north</dd><dt><span>long_name :</span></dt><dd>latitude</dd></dl></div><div class='xr-var-data'><pre>array([-12.      , -11.813559, -11.627119, -11.440678, -11.254237, -11.067797,\n",
       "       -10.881356, -10.694915, -10.508475, -10.322034, -10.135593,  -9.949153,\n",
       "        -9.762712,  -9.576271,  -9.389831,  -9.20339 ,  -9.016949,  -8.830508,\n",
       "        -8.644068,  -8.457627,  -8.271186,  -8.084746,  -7.898305,  -7.711864,\n",
       "        -7.525424,  -7.338983,  -7.152542,  -6.966102,  -6.779661,  -6.59322 ,\n",
       "        -6.40678 ,  -6.220339,  -6.033898,  -5.847458,  -5.661017,  -5.474576,\n",
       "        -5.288136,  -5.101695,  -4.915254,  -4.728814,  -4.542373,  -4.355932,\n",
       "        -4.169492,  -3.983051,  -3.79661 ,  -3.610169,  -3.423729,  -3.237288,\n",
       "        -3.050847,  -2.864407,  -2.677966,  -2.491525,  -2.305085,  -2.118644,\n",
       "        -1.932203,  -1.745763,  -1.559322,  -1.372881,  -1.186441,  -1.      ])</pre></div></li></ul></div></li><li class='xr-section-item'><input id='section-113b9bff-c973-4be5-bbcd-852cbe08602b' class='xr-section-summary-in' type='checkbox'  checked><label for='section-113b9bff-c973-4be5-bbcd-852cbe08602b' class='xr-section-summary' >Data variables: <span>(1)</span></label><div class='xr-section-inline-details'></div><div class='xr-section-details'><ul class='xr-var-list'><li class='xr-var-item'><div class='xr-var-name'><span>precip</span></div><div class='xr-var-dims'>(time, lat, lon)</div><div class='xr-var-dtype'>float32</div><div class='xr-var-preview xr-preview'>dask.array&lt;chunksize=(1, 60, 85), meta=np.ndarray&gt;</div><input id='attrs-28e4777d-f2d3-4ce7-a933-50f06b8a9692' class='xr-var-attrs-in' type='checkbox' ><label for='attrs-28e4777d-f2d3-4ce7-a933-50f06b8a9692' title='Show/Hide attributes'><svg class='icon xr-icon-file-text2'><use xlink:href='#icon-file-text2'></use></svg></label><input id='data-5bddb1aa-0c52-4730-a507-883d68a8fd14' class='xr-var-data-in' type='checkbox'><label for='data-5bddb1aa-0c52-4730-a507-883d68a8fd14' title='Show/Hide data repr'><svg class='icon xr-icon-database'><use xlink:href='#icon-database'></use></svg></label><div class='xr-var-attrs'><dl class='xr-attrs'><dt><span>unit :</span></dt><dd>mm</dd></dl></div><div class='xr-var-data'><table>\n",
       "<tr>\n",
       "<td>\n",
       "<table>\n",
       "  <thead>\n",
       "    <tr><td> </td><th> Array </th><th> Chunk </th></tr>\n",
       "  </thead>\n",
       "  <tbody>\n",
       "    <tr><th> Bytes </th><td> 5.56 MiB </td> <td> 59.77 kiB </td></tr>\n",
       "    <tr><th> Shape </th><td> (286, 60, 85) </td> <td> (3, 60, 85) </td></tr>\n",
       "    <tr><th> Count </th><td> 6834 Tasks </td><td> 96 Chunks </td></tr>\n",
       "    <tr><th> Type </th><td> float32 </td><td> numpy.ndarray </td></tr>\n",
       "  </tbody>\n",
       "</table>\n",
       "</td>\n",
       "<td>\n",
       "<svg width=\"174\" height=\"162\" style=\"stroke:rgb(0,0,0);stroke-width:1\" >\n",
       "\n",
       "  <!-- Horizontal lines -->\n",
       "  <line x1=\"10\" y1=\"0\" x2=\"80\" y2=\"70\" style=\"stroke-width:2\" />\n",
       "  <line x1=\"10\" y1=\"42\" x2=\"80\" y2=\"112\" style=\"stroke-width:2\" />\n",
       "\n",
       "  <!-- Vertical lines -->\n",
       "  <line x1=\"10\" y1=\"0\" x2=\"10\" y2=\"42\" style=\"stroke-width:2\" />\n",
       "  <line x1=\"13\" y1=\"3\" x2=\"13\" y2=\"45\" />\n",
       "  <line x1=\"16\" y1=\"6\" x2=\"16\" y2=\"49\" />\n",
       "  <line x1=\"20\" y1=\"10\" x2=\"20\" y2=\"52\" />\n",
       "  <line x1=\"24\" y1=\"14\" x2=\"24\" y2=\"56\" />\n",
       "  <line x1=\"28\" y1=\"18\" x2=\"28\" y2=\"60\" />\n",
       "  <line x1=\"31\" y1=\"21\" x2=\"31\" y2=\"63\" />\n",
       "  <line x1=\"35\" y1=\"25\" x2=\"35\" y2=\"67\" />\n",
       "  <line x1=\"39\" y1=\"29\" x2=\"39\" y2=\"71\" />\n",
       "  <line x1=\"42\" y1=\"32\" x2=\"42\" y2=\"75\" />\n",
       "  <line x1=\"46\" y1=\"36\" x2=\"46\" y2=\"78\" />\n",
       "  <line x1=\"50\" y1=\"40\" x2=\"50\" y2=\"82\" />\n",
       "  <line x1=\"53\" y1=\"43\" x2=\"53\" y2=\"86\" />\n",
       "  <line x1=\"57\" y1=\"47\" x2=\"57\" y2=\"89\" />\n",
       "  <line x1=\"61\" y1=\"51\" x2=\"61\" y2=\"93\" />\n",
       "  <line x1=\"65\" y1=\"55\" x2=\"65\" y2=\"97\" />\n",
       "  <line x1=\"68\" y1=\"58\" x2=\"68\" y2=\"100\" />\n",
       "  <line x1=\"72\" y1=\"62\" x2=\"72\" y2=\"104\" />\n",
       "  <line x1=\"76\" y1=\"66\" x2=\"76\" y2=\"108\" />\n",
       "  <line x1=\"80\" y1=\"70\" x2=\"80\" y2=\"112\" style=\"stroke-width:2\" />\n",
       "\n",
       "  <!-- Colored Rectangle -->\n",
       "  <polygon points=\"10.0,0.0 80.58823529411765,70.58823529411765 80.58823529411765,112.79762206311216 10.0,42.209386768994506\" style=\"fill:#8B4903A0;stroke-width:0\"/>\n",
       "\n",
       "  <!-- Horizontal lines -->\n",
       "  <line x1=\"10\" y1=\"0\" x2=\"53\" y2=\"0\" style=\"stroke-width:2\" />\n",
       "  <line x1=\"13\" y1=\"3\" x2=\"56\" y2=\"3\" />\n",
       "  <line x1=\"16\" y1=\"6\" x2=\"60\" y2=\"6\" />\n",
       "  <line x1=\"20\" y1=\"10\" x2=\"64\" y2=\"10\" />\n",
       "  <line x1=\"24\" y1=\"14\" x2=\"67\" y2=\"14\" />\n",
       "  <line x1=\"28\" y1=\"18\" x2=\"71\" y2=\"18\" />\n",
       "  <line x1=\"31\" y1=\"21\" x2=\"75\" y2=\"21\" />\n",
       "  <line x1=\"35\" y1=\"25\" x2=\"78\" y2=\"25\" />\n",
       "  <line x1=\"39\" y1=\"29\" x2=\"82\" y2=\"29\" />\n",
       "  <line x1=\"42\" y1=\"32\" x2=\"86\" y2=\"32\" />\n",
       "  <line x1=\"46\" y1=\"36\" x2=\"90\" y2=\"36\" />\n",
       "  <line x1=\"50\" y1=\"40\" x2=\"93\" y2=\"40\" />\n",
       "  <line x1=\"53\" y1=\"43\" x2=\"97\" y2=\"43\" />\n",
       "  <line x1=\"57\" y1=\"47\" x2=\"101\" y2=\"47\" />\n",
       "  <line x1=\"61\" y1=\"51\" x2=\"104\" y2=\"51\" />\n",
       "  <line x1=\"65\" y1=\"55\" x2=\"108\" y2=\"55\" />\n",
       "  <line x1=\"68\" y1=\"58\" x2=\"112\" y2=\"58\" />\n",
       "  <line x1=\"72\" y1=\"62\" x2=\"115\" y2=\"62\" />\n",
       "  <line x1=\"76\" y1=\"66\" x2=\"119\" y2=\"66\" />\n",
       "  <line x1=\"80\" y1=\"70\" x2=\"124\" y2=\"70\" style=\"stroke-width:2\" />\n",
       "\n",
       "  <!-- Vertical lines -->\n",
       "  <line x1=\"10\" y1=\"0\" x2=\"80\" y2=\"70\" style=\"stroke-width:2\" />\n",
       "  <line x1=\"53\" y1=\"0\" x2=\"124\" y2=\"70\" style=\"stroke-width:2\" />\n",
       "\n",
       "  <!-- Colored Rectangle -->\n",
       "  <polygon points=\"10.0,0.0 53.513361072763935,0.0 124.10159636688158,70.58823529411765 80.58823529411765,70.58823529411765\" style=\"fill:#8B4903A0;stroke-width:0\"/>\n",
       "\n",
       "  <!-- Horizontal lines -->\n",
       "  <line x1=\"80\" y1=\"70\" x2=\"124\" y2=\"70\" style=\"stroke-width:2\" />\n",
       "  <line x1=\"80\" y1=\"112\" x2=\"124\" y2=\"112\" style=\"stroke-width:2\" />\n",
       "\n",
       "  <!-- Vertical lines -->\n",
       "  <line x1=\"80\" y1=\"70\" x2=\"80\" y2=\"112\" style=\"stroke-width:2\" />\n",
       "  <line x1=\"124\" y1=\"70\" x2=\"124\" y2=\"112\" style=\"stroke-width:2\" />\n",
       "\n",
       "  <!-- Colored Rectangle -->\n",
       "  <polygon points=\"80.58823529411765,70.58823529411765 124.10159636688158,70.58823529411765 124.10159636688158,112.79762206311216 80.58823529411765,112.79762206311216\" style=\"fill:#ECB172A0;stroke-width:0\"/>\n",
       "\n",
       "  <!-- Text -->\n",
       "  <text x=\"102.344916\" y=\"132.797622\" font-size=\"1.0rem\" font-weight=\"100\" text-anchor=\"middle\" >85</text>\n",
       "  <text x=\"144.101596\" y=\"91.692929\" font-size=\"1.0rem\" font-weight=\"100\" text-anchor=\"middle\" transform=\"rotate(0,144.101596,91.692929)\">60</text>\n",
       "  <text x=\"35.294118\" y=\"97.503504\" font-size=\"1.0rem\" font-weight=\"100\" text-anchor=\"middle\" transform=\"rotate(45,35.294118,97.503504)\">286</text>\n",
       "</svg>\n",
       "</td>\n",
       "</tr>\n",
       "</table></div></li></ul></div></li><li class='xr-section-item'><input id='section-4fdd5451-f746-40d2-9977-1ac2efdabede' class='xr-section-summary-in' type='checkbox'  checked><label for='section-4fdd5451-f746-40d2-9977-1ac2efdabede' class='xr-section-summary' >Attributes: <span>(2)</span></label><div class='xr-section-inline-details'></div><div class='xr-section-details'><dl class='xr-attrs'><dt><span>Conventions :</span></dt><dd>CF-1.6</dd><dt><span>history :</span></dt><dd>2020-01-21 14:37:06 GMT by grib_to_netcdf-2.15.0: /opt/ecmwf/eccodes/bin/grib_to_netcdf -o /cache/data8/adaptor.mars.internal-1579617425.1231182-4173-13-cce02069-4759-48fa-acd8-2f3d6cda8e3e.nc /cache/tmp/cce02069-4759-48fa-acd8-2f3d6cda8e3e-adaptor.mars.internal-1579617425.1594281-4173-7-tmp.grib</dd></dl></div></li></ul></div></div>"
      ],
      "text/plain": [
       "<xarray.Dataset>\n",
       "Dimensions:  (time: 286, lat: 60, lon: 85)\n",
       "Coordinates:\n",
       "  * time     (time) datetime64[ns] 1993-03-01 1993-04-01 ... 2016-12-01\n",
       "  * lon      (lon) float64 140.0 140.2 140.4 140.6 ... 155.4 155.6 155.8 156.0\n",
       "  * lat      (lat) float64 -12.0 -11.81 -11.63 -11.44 ... -1.373 -1.186 -1.0\n",
       "Data variables:\n",
       "    precip   (time, lat, lon) float32 dask.array<chunksize=(1, 60, 85), meta=np.ndarray>\n",
       "Attributes:\n",
       "    Conventions:  CF-1.6\n",
       "    history:      2020-01-21 14:37:06 GMT by grib_to_netcdf-2.15.0: /opt/ecmw..."
      ]
     },
     "execution_count": 90,
     "metadata": {},
     "output_type": "execute_result"
    }
   ],
   "source": [
    "dset_obs"
   ]
  },
  {
   "cell_type": "code",
   "execution_count": 91,
   "id": "c74fae91-cafe-439d-9145-780e1e32ae19",
   "metadata": {
    "execution": {
     "iopub.execute_input": "2021-08-20T05:17:56.091160Z",
     "iopub.status.busy": "2021-08-20T05:17:56.090828Z",
     "iopub.status.idle": "2021-08-20T05:17:56.302245Z",
     "shell.execute_reply": "2021-08-20T05:17:56.301865Z"
    },
    "papermill": {
     "duration": 0.339661,
     "end_time": "2021-08-20T05:17:56.302348",
     "exception": false,
     "start_time": "2021-08-20T05:17:55.962687",
     "status": "completed"
    },
    "tags": []
   },
   "outputs": [
    {
     "data": {
      "text/plain": [
       "<matplotlib.collections.QuadMesh at 0x7f68a3337490>"
      ]
     },
     "execution_count": 91,
     "metadata": {},
     "output_type": "execute_result"
    },
    {
     "data": {
      "image/png": "[encoded data removed]",
      "text/plain": [
       "<Figure size 432x288 with 2 Axes>"
      ]
     },
     "metadata": {
      "needs_background": "light"
     },
     "output_type": "display_data"
    }
   ],
   "source": [
    "dset_obs['precip'][0,:,:].plot()"
   ]
  },
  {
   "cell_type": "markdown",
   "id": "fe7b00d0-170a-4cf1-a5a1-4bf37732fe78",
   "metadata": {
    "papermill": {
     "duration": 0.125734,
     "end_time": "2021-08-20T05:17:56.561884",
     "exception": false,
     "start_time": "2021-08-20T05:17:56.436150",
     "status": "completed"
    },
    "tags": []
   },
   "source": [
    "### insert the mask from the GCM dataset"
   ]
  },
  {
   "cell_type": "code",
   "execution_count": 92,
   "id": "c3de7755-be69-4e44-abc5-3bdf528266ef",
   "metadata": {
    "execution": {
     "iopub.execute_input": "2021-08-20T05:17:56.824530Z",
     "iopub.status.busy": "2021-08-20T05:17:56.824203Z",
     "iopub.status.idle": "2021-08-20T05:17:56.839078Z",
     "shell.execute_reply": "2021-08-20T05:17:56.838733Z"
    },
    "papermill": {
     "duration": 0.151426,
     "end_time": "2021-08-20T05:17:56.839162",
     "exception": false,
     "start_time": "2021-08-20T05:17:56.687736",
     "status": "completed"
    },
    "tags": []
   },
   "outputs": [],
   "source": [
    "dset_obs['mask'] = dset['mask']"
   ]
  },
  {
   "cell_type": "markdown",
   "id": "0aa7a082-7073-4c4c-b43e-6a08337d9058",
   "metadata": {
    "papermill": {
     "duration": 0.136718,
     "end_time": "2021-08-20T05:17:57.108831",
     "exception": false,
     "start_time": "2021-08-20T05:17:56.972113",
     "status": "completed"
    },
    "tags": []
   },
   "source": [
    "### same grid and same mask as the GCM "
   ]
  },
  {
   "cell_type": "code",
   "execution_count": 93,
   "id": "ac35548b-848f-49ff-a0aa-41652ba15f77",
   "metadata": {
    "execution": {
     "iopub.execute_input": "2021-08-20T05:17:57.367647Z",
     "iopub.status.busy": "2021-08-20T05:17:57.367302Z",
     "iopub.status.idle": "2021-08-20T05:17:57.518179Z",
     "shell.execute_reply": "2021-08-20T05:17:57.518424Z"
    },
    "papermill": {
     "duration": 0.280281,
     "end_time": "2021-08-20T05:17:57.518526",
     "exception": false,
     "start_time": "2021-08-20T05:17:57.238245",
     "status": "completed"
    },
    "tags": []
   },
   "outputs": [
    {
     "data": {
      "text/plain": [
       "<matplotlib.collections.QuadMesh at 0x7f68a33fe220>"
      ]
     },
     "execution_count": 93,
     "metadata": {},
     "output_type": "execute_result"
    },
    {
     "data": {
      "image/png": "[encoded data removed]",
      "text/plain": [
       "<Figure size 432x288 with 2 Axes>"
      ]
     },
     "metadata": {
      "needs_background": "light"
     },
     "output_type": "display_data"
    }
   ],
   "source": [
    "dset['mask'].plot()"
   ]
  },
  {
   "cell_type": "code",
   "execution_count": 94,
   "id": "3e019995-a304-4d1c-ab56-7ca91ea0b4e7",
   "metadata": {
    "execution": {
     "iopub.execute_input": "2021-08-20T05:17:57.779042Z",
     "iopub.status.busy": "2021-08-20T05:17:57.778696Z",
     "iopub.status.idle": "2021-08-20T05:17:57.928445Z",
     "shell.execute_reply": "2021-08-20T05:17:57.927858Z"
    },
    "papermill": {
     "duration": 0.28467,
     "end_time": "2021-08-20T05:17:57.928574",
     "exception": false,
     "start_time": "2021-08-20T05:17:57.643904",
     "status": "completed"
    },
    "tags": []
   },
   "outputs": [
    {
     "data": {
      "text/plain": [
       "<matplotlib.collections.QuadMesh at 0x7f68a3484190>"
      ]
     },
     "execution_count": 94,
     "metadata": {},
     "output_type": "execute_result"
    },
    {
     "data": {
      "image/png": "[encoded data removed]",
      "text/plain": [
       "<Figure size 432x288 with 2 Axes>"
      ]
     },
     "metadata": {
      "needs_background": "light"
     },
     "output_type": "display_data"
    }
   ],
   "source": [
    "dset_obs['mask'].plot()"
   ]
  },
  {
   "cell_type": "markdown",
   "id": "a55613cb-acfb-43fa-8860-747866ff1633",
   "metadata": {
    "papermill": {
     "duration": 0.128866,
     "end_time": "2021-08-20T05:17:58.192765",
     "exception": false,
     "start_time": "2021-08-20T05:17:58.063899",
     "status": "completed"
    },
    "tags": []
   },
   "source": [
    "### apply the mask "
   ]
  },
  {
   "cell_type": "code",
   "execution_count": 95,
   "id": "e36d4096-4797-48ea-88bc-72755598fbdb",
   "metadata": {
    "execution": {
     "iopub.execute_input": "2021-08-20T05:17:58.454498Z",
     "iopub.status.busy": "2021-08-20T05:17:58.454167Z",
     "iopub.status.idle": "2021-08-20T05:17:58.471810Z",
     "shell.execute_reply": "2021-08-20T05:17:58.472262Z"
    },
    "papermill": {
     "duration": 0.15062,
     "end_time": "2021-08-20T05:17:58.472400",
     "exception": false,
     "start_time": "2021-08-20T05:17:58.321780",
     "status": "completed"
    },
    "tags": []
   },
   "outputs": [],
   "source": [
    "dset_obs['precip'] = dset_obs['precip'] * dset_obs['mask']"
   ]
  },
  {
   "cell_type": "code",
   "execution_count": 96,
   "id": "2dc51c4a-b703-4bae-8f52-8f17b83e7272",
   "metadata": {
    "execution": {
     "iopub.execute_input": "2021-08-20T05:17:58.741709Z",
     "iopub.status.busy": "2021-08-20T05:17:58.741371Z",
     "iopub.status.idle": "2021-08-20T05:17:58.951535Z",
     "shell.execute_reply": "2021-08-20T05:17:58.951198Z"
    },
    "papermill": {
     "duration": 0.346703,
     "end_time": "2021-08-20T05:17:58.951617",
     "exception": false,
     "start_time": "2021-08-20T05:17:58.604914",
     "status": "completed"
    },
    "tags": []
   },
   "outputs": [
    {
     "data": {
      "text/plain": [
       "<matplotlib.collections.QuadMesh at 0x7f68a3f4eca0>"
      ]
     },
     "execution_count": 96,
     "metadata": {},
     "output_type": "execute_result"
    },
    {
     "data": {
      "image/png": "[encoded data removed]",
      "text/plain": [
       "<Figure size 432x288 with 2 Axes>"
      ]
     },
     "metadata": {
      "needs_background": "light"
     },
     "output_type": "display_data"
    }
   ],
   "source": [
    "dset_obs.isel(time=0).squeeze()['precip'].plot()"
   ]
  },
  {
   "cell_type": "markdown",
   "id": "3b321fbd-ef93-41bc-bb26-e784547fad8a",
   "metadata": {
    "papermill": {
     "duration": 0.129667,
     "end_time": "2021-08-20T05:17:59.208864",
     "exception": false,
     "start_time": "2021-08-20T05:17:59.079197",
     "status": "completed"
    },
    "tags": []
   },
   "source": [
    "### insert a dummy \"member\" dimension with one coordinate"
   ]
  },
  {
   "cell_type": "code",
   "execution_count": 97,
   "id": "4439a6e9-ca31-4195-b0be-8a5eb7c90501",
   "metadata": {
    "execution": {
     "iopub.execute_input": "2021-08-20T05:17:59.466252Z",
     "iopub.status.busy": "2021-08-20T05:17:59.465924Z",
     "iopub.status.idle": "2021-08-20T05:17:59.484067Z",
     "shell.execute_reply": "2021-08-20T05:17:59.482945Z"
    },
    "papermill": {
     "duration": 0.147811,
     "end_time": "2021-08-20T05:17:59.484315",
     "exception": false,
     "start_time": "2021-08-20T05:17:59.336504",
     "status": "completed"
    },
    "tags": []
   },
   "outputs": [],
   "source": [
    "dset_obs = dset_obs.expand_dims({'member':[1]})"
   ]
  },
  {
   "cell_type": "markdown",
   "id": "cb9b7fb7-a64f-4d67-a338-76ed3123d387",
   "metadata": {
    "papermill": {
     "duration": 0.128003,
     "end_time": "2021-08-20T05:17:59.754097",
     "exception": false,
     "start_time": "2021-08-20T05:17:59.626094",
     "status": "completed"
    },
    "tags": []
   },
   "source": [
    "### calculates the regional average "
   ]
  },
  {
   "cell_type": "code",
   "execution_count": 98,
   "id": "45fb3136-efa6-497e-9568-2a3d807976a7",
   "metadata": {
    "execution": {
     "iopub.execute_input": "2021-08-20T05:18:00.039692Z",
     "iopub.status.busy": "2021-08-20T05:18:00.039355Z",
     "iopub.status.idle": "2021-08-20T05:18:00.059966Z",
     "shell.execute_reply": "2021-08-20T05:18:00.058646Z"
    },
    "papermill": {
     "duration": 0.178008,
     "end_time": "2021-08-20T05:18:00.060250",
     "exception": false,
     "start_time": "2021-08-20T05:17:59.882242",
     "status": "completed"
    },
    "tags": []
   },
   "outputs": [],
   "source": [
    "dset_obs_sub = dset_obs[['precip']].mean(['lat','lon'])"
   ]
  },
  {
   "cell_type": "code",
   "execution_count": 99,
   "id": "73d6620d-74c2-465b-896c-a76bfca47df1",
   "metadata": {
    "execution": {
     "iopub.execute_input": "2021-08-20T05:18:00.348673Z",
     "iopub.status.busy": "2021-08-20T05:18:00.348339Z",
     "iopub.status.idle": "2021-08-20T05:18:00.368721Z",
     "shell.execute_reply": "2021-08-20T05:18:00.368369Z"
    },
    "papermill": {
     "duration": 0.151256,
     "end_time": "2021-08-20T05:18:00.368804",
     "exception": false,
     "start_time": "2021-08-20T05:18:00.217548",
     "status": "completed"
    },
    "tags": []
   },
   "outputs": [
    {
     "data": {
      "text/html": [
       "<div><svg style=\"position: absolute; width: 0; height: 0; overflow: hidden\">\n",
       "<defs>\n",
       "<symbol id=\"icon-database\" viewBox=\"0 0 32 32\">\n",
       "<path d=\"M16 0c-8.837 0-16 2.239-16 5v4c0 2.761 7.163 5 16 5s16-2.239 16-5v-4c0-2.761-7.163-5-16-5z\"></path>\n",
       "<path d=\"M16 17c-8.837 0-16-2.239-16-5v6c0 2.761 7.163 5 16 5s16-2.239 16-5v-6c0 2.761-7.163 5-16 5z\"></path>\n",
       "<path d=\"M16 26c-8.837 0-16-2.239-16-5v6c0 2.761 7.163 5 16 5s16-2.239 16-5v-6c0 2.761-7.163 5-16 5z\"></path>\n",
       "</symbol>\n",
       "<symbol id=\"icon-file-text2\" viewBox=\"0 0 32 32\">\n",
       "<path d=\"M28.681 7.159c-0.694-0.947-1.662-2.053-2.724-3.116s-2.169-2.030-3.116-2.724c-1.612-1.182-2.393-1.319-2.841-1.319h-15.5c-1.378 0-2.5 1.121-2.5 2.5v27c0 1.378 1.122 2.5 2.5 2.5h23c1.378 0 2.5-1.122 2.5-2.5v-19.5c0-0.448-0.137-1.23-1.319-2.841zM24.543 5.457c0.959 0.959 1.712 1.825 2.268 2.543h-4.811v-4.811c0.718 0.556 1.584 1.309 2.543 2.268zM28 29.5c0 0.271-0.229 0.5-0.5 0.5h-23c-0.271 0-0.5-0.229-0.5-0.5v-27c0-0.271 0.229-0.5 0.5-0.5 0 0 15.499-0 15.5 0v7c0 0.552 0.448 1 1 1h7v19.5z\"></path>\n",
       "<path d=\"M23 26h-14c-0.552 0-1-0.448-1-1s0.448-1 1-1h14c0.552 0 1 0.448 1 1s-0.448 1-1 1z\"></path>\n",
       "<path d=\"M23 22h-14c-0.552 0-1-0.448-1-1s0.448-1 1-1h14c0.552 0 1 0.448 1 1s-0.448 1-1 1z\"></path>\n",
       "<path d=\"M23 18h-14c-0.552 0-1-0.448-1-1s0.448-1 1-1h14c0.552 0 1 0.448 1 1s-0.448 1-1 1z\"></path>\n",
       "</symbol>\n",
       "</defs>\n",
       "</svg>\n",
       "<style>/* CSS stylesheet for displaying xarray objects in jupyterlab.\n",
       " *\n",
       " */\n",
       "\n",
       ":root {\n",
       "  --xr-font-color0: var(--jp-content-font-color0, rgba(0, 0, 0, 1));\n",
       "  --xr-font-color2: var(--jp-content-font-color2, rgba(0, 0, 0, 0.54));\n",
       "  --xr-font-color3: var(--jp-content-font-color3, rgba(0, 0, 0, 0.38));\n",
       "  --xr-border-color: var(--jp-border-color2, #e0e0e0);\n",
       "  --xr-disabled-color: var(--jp-layout-color3, #bdbdbd);\n",
       "  --xr-background-color: var(--jp-layout-color0, white);\n",
       "  --xr-background-color-row-even: var(--jp-layout-color1, white);\n",
       "  --xr-background-color-row-odd: var(--jp-layout-color2, #eeeeee);\n",
       "}\n",
       "\n",
       "html[theme=dark],\n",
       "body.vscode-dark {\n",
       "  --xr-font-color0: rgba(255, 255, 255, 1);\n",
       "  --xr-font-color2: rgba(255, 255, 255, 0.54);\n",
       "  --xr-font-color3: rgba(255, 255, 255, 0.38);\n",
       "  --xr-border-color: #1F1F1F;\n",
       "  --xr-disabled-color: #515151;\n",
       "  --xr-background-color: #111111;\n",
       "  --xr-background-color-row-even: #111111;\n",
       "  --xr-background-color-row-odd: #313131;\n",
       "}\n",
       "\n",
       ".xr-wrap {\n",
       "  display: block;\n",
       "  min-width: 300px;\n",
       "  max-width: 700px;\n",
       "}\n",
       "\n",
       ".xr-text-repr-fallback {\n",
       "  /* fallback to plain text repr when CSS is not injected (untrusted notebook) */\n",
       "  display: none;\n",
       "}\n",
       "\n",
       ".xr-header {\n",
       "  padding-top: 6px;\n",
       "  padding-bottom: 6px;\n",
       "  margin-bottom: 4px;\n",
       "  border-bottom: solid 1px var(--xr-border-color);\n",
       "}\n",
       "\n",
       ".xr-header > div,\n",
       ".xr-header > ul {\n",
       "  display: inline;\n",
       "  margin-top: 0;\n",
       "  margin-bottom: 0;\n",
       "}\n",
       "\n",
       ".xr-obj-type,\n",
       ".xr-array-name {\n",
       "  margin-left: 2px;\n",
       "  margin-right: 10px;\n",
       "}\n",
       "\n",
       ".xr-obj-type {\n",
       "  color: var(--xr-font-color2);\n",
       "}\n",
       "\n",
       ".xr-sections {\n",
       "  padding-left: 0 !important;\n",
       "  display: grid;\n",
       "  grid-template-columns: 150px auto auto 1fr 20px 20px;\n",
       "}\n",
       "\n",
       ".xr-section-item {\n",
       "  display: contents;\n",
       "}\n",
       "\n",
       ".xr-section-item input {\n",
       "  display: none;\n",
       "}\n",
       "\n",
       ".xr-section-item input + label {\n",
       "  color: var(--xr-disabled-color);\n",
       "}\n",
       "\n",
       ".xr-section-item input:enabled + label {\n",
       "  cursor: pointer;\n",
       "  color: var(--xr-font-color2);\n",
       "}\n",
       "\n",
       ".xr-section-item input:enabled + label:hover {\n",
       "  color: var(--xr-font-color0);\n",
       "}\n",
       "\n",
       ".xr-section-summary {\n",
       "  grid-column: 1;\n",
       "  color: var(--xr-font-color2);\n",
       "  font-weight: 500;\n",
       "}\n",
       "\n",
       ".xr-section-summary > span {\n",
       "  display: inline-block;\n",
       "  padding-left: 0.5em;\n",
       "}\n",
       "\n",
       ".xr-section-summary-in:disabled + label {\n",
       "  color: var(--xr-font-color2);\n",
       "}\n",
       "\n",
       ".xr-section-summary-in + label:before {\n",
       "  display: inline-block;\n",
       "  content: '►';\n",
       "  font-size: 11px;\n",
       "  width: 15px;\n",
       "  text-align: center;\n",
       "}\n",
       "\n",
       ".xr-section-summary-in:disabled + label:before {\n",
       "  color: var(--xr-disabled-color);\n",
       "}\n",
       "\n",
       ".xr-section-summary-in:checked + label:before {\n",
       "  content: '▼';\n",
       "}\n",
       "\n",
       ".xr-section-summary-in:checked + label > span {\n",
       "  display: none;\n",
       "}\n",
       "\n",
       ".xr-section-summary,\n",
       ".xr-section-inline-details {\n",
       "  padding-top: 4px;\n",
       "  padding-bottom: 4px;\n",
       "}\n",
       "\n",
       ".xr-section-inline-details {\n",
       "  grid-column: 2 / -1;\n",
       "}\n",
       "\n",
       ".xr-section-details {\n",
       "  display: none;\n",
       "  grid-column: 1 / -1;\n",
       "  margin-bottom: 5px;\n",
       "}\n",
       "\n",
       ".xr-section-summary-in:checked ~ .xr-section-details {\n",
       "  display: contents;\n",
       "}\n",
       "\n",
       ".xr-array-wrap {\n",
       "  grid-column: 1 / -1;\n",
       "  display: grid;\n",
       "  grid-template-columns: 20px auto;\n",
       "}\n",
       "\n",
       ".xr-array-wrap > label {\n",
       "  grid-column: 1;\n",
       "  vertical-align: top;\n",
       "}\n",
       "\n",
       ".xr-preview {\n",
       "  color: var(--xr-font-color3);\n",
       "}\n",
       "\n",
       ".xr-array-preview,\n",
       ".xr-array-data {\n",
       "  padding: 0 5px !important;\n",
       "  grid-column: 2;\n",
       "}\n",
       "\n",
       ".xr-array-data,\n",
       ".xr-array-in:checked ~ .xr-array-preview {\n",
       "  display: none;\n",
       "}\n",
       "\n",
       ".xr-array-in:checked ~ .xr-array-data,\n",
       ".xr-array-preview {\n",
       "  display: inline-block;\n",
       "}\n",
       "\n",
       ".xr-dim-list {\n",
       "  display: inline-block !important;\n",
       "  list-style: none;\n",
       "  padding: 0 !important;\n",
       "  margin: 0;\n",
       "}\n",
       "\n",
       ".xr-dim-list li {\n",
       "  display: inline-block;\n",
       "  padding: 0;\n",
       "  margin: 0;\n",
       "}\n",
       "\n",
       ".xr-dim-list:before {\n",
       "  content: '(';\n",
       "}\n",
       "\n",
       ".xr-dim-list:after {\n",
       "  content: ')';\n",
       "}\n",
       "\n",
       ".xr-dim-list li:not(:last-child):after {\n",
       "  content: ',';\n",
       "  padding-right: 5px;\n",
       "}\n",
       "\n",
       ".xr-has-index {\n",
       "  font-weight: bold;\n",
       "}\n",
       "\n",
       ".xr-var-list,\n",
       ".xr-var-item {\n",
       "  display: contents;\n",
       "}\n",
       "\n",
       ".xr-var-item > div,\n",
       ".xr-var-item label,\n",
       ".xr-var-item > .xr-var-name span {\n",
       "  background-color: var(--xr-background-color-row-even);\n",
       "  margin-bottom: 0;\n",
       "}\n",
       "\n",
       ".xr-var-item > .xr-var-name:hover span {\n",
       "  padding-right: 5px;\n",
       "}\n",
       "\n",
       ".xr-var-list > li:nth-child(odd) > div,\n",
       ".xr-var-list > li:nth-child(odd) > label,\n",
       ".xr-var-list > li:nth-child(odd) > .xr-var-name span {\n",
       "  background-color: var(--xr-background-color-row-odd);\n",
       "}\n",
       "\n",
       ".xr-var-name {\n",
       "  grid-column: 1;\n",
       "}\n",
       "\n",
       ".xr-var-dims {\n",
       "  grid-column: 2;\n",
       "}\n",
       "\n",
       ".xr-var-dtype {\n",
       "  grid-column: 3;\n",
       "  text-align: right;\n",
       "  color: var(--xr-font-color2);\n",
       "}\n",
       "\n",
       ".xr-var-preview {\n",
       "  grid-column: 4;\n",
       "}\n",
       "\n",
       ".xr-var-name,\n",
       ".xr-var-dims,\n",
       ".xr-var-dtype,\n",
       ".xr-preview,\n",
       ".xr-attrs dt {\n",
       "  white-space: nowrap;\n",
       "  overflow: hidden;\n",
       "  text-overflow: ellipsis;\n",
       "  padding-right: 10px;\n",
       "}\n",
       "\n",
       ".xr-var-name:hover,\n",
       ".xr-var-dims:hover,\n",
       ".xr-var-dtype:hover,\n",
       ".xr-attrs dt:hover {\n",
       "  overflow: visible;\n",
       "  width: auto;\n",
       "  z-index: 1;\n",
       "}\n",
       "\n",
       ".xr-var-attrs,\n",
       ".xr-var-data {\n",
       "  display: none;\n",
       "  background-color: var(--xr-background-color) !important;\n",
       "  padding-bottom: 5px !important;\n",
       "}\n",
       "\n",
       ".xr-var-attrs-in:checked ~ .xr-var-attrs,\n",
       ".xr-var-data-in:checked ~ .xr-var-data {\n",
       "  display: block;\n",
       "}\n",
       "\n",
       ".xr-var-data > table {\n",
       "  float: right;\n",
       "}\n",
       "\n",
       ".xr-var-name span,\n",
       ".xr-var-data,\n",
       ".xr-attrs {\n",
       "  padding-left: 25px !important;\n",
       "}\n",
       "\n",
       ".xr-attrs,\n",
       ".xr-var-attrs,\n",
       ".xr-var-data {\n",
       "  grid-column: 1 / -1;\n",
       "}\n",
       "\n",
       "dl.xr-attrs {\n",
       "  padding: 0;\n",
       "  margin: 0;\n",
       "  display: grid;\n",
       "  grid-template-columns: 125px auto;\n",
       "}\n",
       "\n",
       ".xr-attrs dt,\n",
       ".xr-attrs dd {\n",
       "  padding: 0;\n",
       "  margin: 0;\n",
       "  float: left;\n",
       "  padding-right: 10px;\n",
       "  width: auto;\n",
       "}\n",
       "\n",
       ".xr-attrs dt {\n",
       "  font-weight: normal;\n",
       "  grid-column: 1;\n",
       "}\n",
       "\n",
       ".xr-attrs dt:hover span {\n",
       "  display: inline-block;\n",
       "  background: var(--xr-background-color);\n",
       "  padding-right: 10px;\n",
       "}\n",
       "\n",
       ".xr-attrs dd {\n",
       "  grid-column: 2;\n",
       "  white-space: pre-wrap;\n",
       "  word-break: break-all;\n",
       "}\n",
       "\n",
       ".xr-icon-database,\n",
       ".xr-icon-file-text2 {\n",
       "  display: inline-block;\n",
       "  vertical-align: middle;\n",
       "  width: 1em;\n",
       "  height: 1.5em !important;\n",
       "  stroke-width: 0;\n",
       "  stroke: currentColor;\n",
       "  fill: currentColor;\n",
       "}\n",
       "</style><pre class='xr-text-repr-fallback'>&lt;xarray.Dataset&gt;\n",
       "Dimensions:  (member: 1, time: 286)\n",
       "Coordinates:\n",
       "  * member   (member) int64 1\n",
       "  * time     (time) datetime64[ns] 1993-03-01 1993-04-01 ... 2016-12-01\n",
       "Data variables:\n",
       "    precip   (member, time) float64 dask.array&lt;chunksize=(1, 1), meta=np.ndarray&gt;</pre><div class='xr-wrap' hidden><div class='xr-header'><div class='xr-obj-type'>xarray.Dataset</div></div><ul class='xr-sections'><li class='xr-section-item'><input id='section-c44a82e0-f811-4cab-8f94-7a2b012b5afd' class='xr-section-summary-in' type='checkbox' disabled ><label for='section-c44a82e0-f811-4cab-8f94-7a2b012b5afd' class='xr-section-summary'  title='Expand/collapse section'>Dimensions:</label><div class='xr-section-inline-details'><ul class='xr-dim-list'><li><span class='xr-has-index'>member</span>: 1</li><li><span class='xr-has-index'>time</span>: 286</li></ul></div><div class='xr-section-details'></div></li><li class='xr-section-item'><input id='section-5f55588c-5251-4b6b-90bb-8406d164bf5f' class='xr-section-summary-in' type='checkbox'  checked><label for='section-5f55588c-5251-4b6b-90bb-8406d164bf5f' class='xr-section-summary' >Coordinates: <span>(2)</span></label><div class='xr-section-inline-details'></div><div class='xr-section-details'><ul class='xr-var-list'><li class='xr-var-item'><div class='xr-var-name'><span class='xr-has-index'>member</span></div><div class='xr-var-dims'>(member)</div><div class='xr-var-dtype'>int64</div><div class='xr-var-preview xr-preview'>1</div><input id='attrs-b3fabdcb-e3de-4f47-809a-a04ee53cc964' class='xr-var-attrs-in' type='checkbox' disabled><label for='attrs-b3fabdcb-e3de-4f47-809a-a04ee53cc964' title='Show/Hide attributes'><svg class='icon xr-icon-file-text2'><use xlink:href='#icon-file-text2'></use></svg></label><input id='data-ac23ef76-1e0b-4cad-aaf5-318663321395' class='xr-var-data-in' type='checkbox'><label for='data-ac23ef76-1e0b-4cad-aaf5-318663321395' title='Show/Hide data repr'><svg class='icon xr-icon-database'><use xlink:href='#icon-database'></use></svg></label><div class='xr-var-attrs'><dl class='xr-attrs'></dl></div><div class='xr-var-data'><pre>array([1])</pre></div></li><li class='xr-var-item'><div class='xr-var-name'><span class='xr-has-index'>time</span></div><div class='xr-var-dims'>(time)</div><div class='xr-var-dtype'>datetime64[ns]</div><div class='xr-var-preview xr-preview'>1993-03-01 ... 2016-12-01</div><input id='attrs-6d35ee20-60f3-487c-8176-84301928ff6c' class='xr-var-attrs-in' type='checkbox' ><label for='attrs-6d35ee20-60f3-487c-8176-84301928ff6c' title='Show/Hide attributes'><svg class='icon xr-icon-file-text2'><use xlink:href='#icon-file-text2'></use></svg></label><input id='data-f25ebae4-f012-4692-9ea0-1c36ba20d43c' class='xr-var-data-in' type='checkbox'><label for='data-f25ebae4-f012-4692-9ea0-1c36ba20d43c' title='Show/Hide data repr'><svg class='icon xr-icon-database'><use xlink:href='#icon-database'></use></svg></label><div class='xr-var-attrs'><dl class='xr-attrs'><dt><span>long_name :</span></dt><dd>time</dd></dl></div><div class='xr-var-data'><pre>array([&#x27;1993-03-01T00:00:00.000000000&#x27;, &#x27;1993-04-01T00:00:00.000000000&#x27;,\n",
       "       &#x27;1993-05-01T00:00:00.000000000&#x27;, ..., &#x27;2016-10-01T00:00:00.000000000&#x27;,\n",
       "       &#x27;2016-11-01T00:00:00.000000000&#x27;, &#x27;2016-12-01T00:00:00.000000000&#x27;],\n",
       "      dtype=&#x27;datetime64[ns]&#x27;)</pre></div></li></ul></div></li><li class='xr-section-item'><input id='section-575406c7-c1e2-4866-b1d1-976b6ef90e3c' class='xr-section-summary-in' type='checkbox'  checked><label for='section-575406c7-c1e2-4866-b1d1-976b6ef90e3c' class='xr-section-summary' >Data variables: <span>(1)</span></label><div class='xr-section-inline-details'></div><div class='xr-section-details'><ul class='xr-var-list'><li class='xr-var-item'><div class='xr-var-name'><span>precip</span></div><div class='xr-var-dims'>(member, time)</div><div class='xr-var-dtype'>float64</div><div class='xr-var-preview xr-preview'>dask.array&lt;chunksize=(1, 1), meta=np.ndarray&gt;</div><input id='attrs-10fd88bf-7d79-4ff1-b901-4192ea361e35' class='xr-var-attrs-in' type='checkbox' disabled><label for='attrs-10fd88bf-7d79-4ff1-b901-4192ea361e35' title='Show/Hide attributes'><svg class='icon xr-icon-file-text2'><use xlink:href='#icon-file-text2'></use></svg></label><input id='data-33cfa9a8-1850-430a-bf7c-0d167405c016' class='xr-var-data-in' type='checkbox'><label for='data-33cfa9a8-1850-430a-bf7c-0d167405c016' title='Show/Hide data repr'><svg class='icon xr-icon-database'><use xlink:href='#icon-database'></use></svg></label><div class='xr-var-attrs'><dl class='xr-attrs'></dl></div><div class='xr-var-data'><table>\n",
       "<tr>\n",
       "<td>\n",
       "<table>\n",
       "  <thead>\n",
       "    <tr><td> </td><th> Array </th><th> Chunk </th></tr>\n",
       "  </thead>\n",
       "  <tbody>\n",
       "    <tr><th> Bytes </th><td> 2.23 kiB </td> <td> 24 B </td></tr>\n",
       "    <tr><th> Shape </th><td> (1, 286) </td> <td> (1, 3) </td></tr>\n",
       "    <tr><th> Count </th><td> 7219 Tasks </td><td> 96 Chunks </td></tr>\n",
       "    <tr><th> Type </th><td> float64 </td><td> numpy.ndarray </td></tr>\n",
       "  </tbody>\n",
       "</table>\n",
       "</td>\n",
       "<td>\n",
       "<svg width=\"170\" height=\"75\" style=\"stroke:rgb(0,0,0);stroke-width:1\" >\n",
       "\n",
       "  <!-- Horizontal lines -->\n",
       "  <line x1=\"0\" y1=\"0\" x2=\"120\" y2=\"0\" style=\"stroke-width:2\" />\n",
       "  <line x1=\"0\" y1=\"25\" x2=\"120\" y2=\"25\" style=\"stroke-width:2\" />\n",
       "\n",
       "  <!-- Vertical lines -->\n",
       "  <line x1=\"0\" y1=\"0\" x2=\"0\" y2=\"25\" style=\"stroke-width:2\" />\n",
       "  <line x1=\"5\" y1=\"0\" x2=\"5\" y2=\"25\" />\n",
       "  <line x1=\"11\" y1=\"0\" x2=\"11\" y2=\"25\" />\n",
       "  <line x1=\"18\" y1=\"0\" x2=\"18\" y2=\"25\" />\n",
       "  <line x1=\"24\" y1=\"0\" x2=\"24\" y2=\"25\" />\n",
       "  <line x1=\"30\" y1=\"0\" x2=\"30\" y2=\"25\" />\n",
       "  <line x1=\"36\" y1=\"0\" x2=\"36\" y2=\"25\" />\n",
       "  <line x1=\"43\" y1=\"0\" x2=\"43\" y2=\"25\" />\n",
       "  <line x1=\"49\" y1=\"0\" x2=\"49\" y2=\"25\" />\n",
       "  <line x1=\"55\" y1=\"0\" x2=\"55\" y2=\"25\" />\n",
       "  <line x1=\"62\" y1=\"0\" x2=\"62\" y2=\"25\" />\n",
       "  <line x1=\"68\" y1=\"0\" x2=\"68\" y2=\"25\" />\n",
       "  <line x1=\"74\" y1=\"0\" x2=\"74\" y2=\"25\" />\n",
       "  <line x1=\"80\" y1=\"0\" x2=\"80\" y2=\"25\" />\n",
       "  <line x1=\"87\" y1=\"0\" x2=\"87\" y2=\"25\" />\n",
       "  <line x1=\"93\" y1=\"0\" x2=\"93\" y2=\"25\" />\n",
       "  <line x1=\"99\" y1=\"0\" x2=\"99\" y2=\"25\" />\n",
       "  <line x1=\"106\" y1=\"0\" x2=\"106\" y2=\"25\" />\n",
       "  <line x1=\"112\" y1=\"0\" x2=\"112\" y2=\"25\" />\n",
       "  <line x1=\"120\" y1=\"0\" x2=\"120\" y2=\"25\" style=\"stroke-width:2\" />\n",
       "\n",
       "  <!-- Colored Rectangle -->\n",
       "  <polygon points=\"0.0,0.0 120.0,0.0 120.0,25.412616514582485 0.0,25.412616514582485\" style=\"fill:#8B4903A0;stroke-width:0\"/>\n",
       "\n",
       "  <!-- Text -->\n",
       "  <text x=\"60.000000\" y=\"45.412617\" font-size=\"1.0rem\" font-weight=\"100\" text-anchor=\"middle\" >286</text>\n",
       "  <text x=\"140.000000\" y=\"12.706308\" font-size=\"1.0rem\" font-weight=\"100\" text-anchor=\"middle\" transform=\"rotate(0,140.000000,12.706308)\">1</text>\n",
       "</svg>\n",
       "</td>\n",
       "</tr>\n",
       "</table></div></li></ul></div></li><li class='xr-section-item'><input id='section-5199f5cc-b740-4b94-9493-e814b04e09db' class='xr-section-summary-in' type='checkbox' disabled ><label for='section-5199f5cc-b740-4b94-9493-e814b04e09db' class='xr-section-summary'  title='Expand/collapse section'>Attributes: <span>(0)</span></label><div class='xr-section-inline-details'></div><div class='xr-section-details'><dl class='xr-attrs'></dl></div></li></ul></div></div>"
      ],
      "text/plain": [
       "<xarray.Dataset>\n",
       "Dimensions:  (member: 1, time: 286)\n",
       "Coordinates:\n",
       "  * member   (member) int64 1\n",
       "  * time     (time) datetime64[ns] 1993-03-01 1993-04-01 ... 2016-12-01\n",
       "Data variables:\n",
       "    precip   (member, time) float64 dask.array<chunksize=(1, 1), meta=np.ndarray>"
      ]
     },
     "execution_count": 99,
     "metadata": {},
     "output_type": "execute_result"
    }
   ],
   "source": [
    "dset_obs_sub"
   ]
  },
  {
   "cell_type": "code",
   "execution_count": 100,
   "id": "b22efb7d-07f7-425f-89ed-a918104d901b",
   "metadata": {
    "execution": {
     "iopub.execute_input": "2021-08-20T05:18:00.627177Z",
     "iopub.status.busy": "2021-08-20T05:18:00.626839Z",
     "iopub.status.idle": "2021-08-20T05:18:00.642150Z",
     "shell.execute_reply": "2021-08-20T05:18:00.641801Z"
    },
    "papermill": {
     "duration": 0.144928,
     "end_time": "2021-08-20T05:18:00.642234",
     "exception": false,
     "start_time": "2021-08-20T05:18:00.497306",
     "status": "completed"
    },
    "tags": []
   },
   "outputs": [],
   "source": [
    "dset_obs_sub = dset_obs_sub.chunk({'member':-1, 'time':-1})"
   ]
  },
  {
   "cell_type": "code",
   "execution_count": 101,
   "id": "481738ec-f5f4-42de-b94d-cacc28e004ae",
   "metadata": {
    "execution": {
     "iopub.execute_input": "2021-08-20T05:18:00.901979Z",
     "iopub.status.busy": "2021-08-20T05:18:00.901636Z",
     "iopub.status.idle": "2021-08-20T05:18:04.755789Z",
     "shell.execute_reply": "2021-08-20T05:18:04.754552Z"
    },
    "papermill": {
     "duration": 3.986781,
     "end_time": "2021-08-20T05:18:04.756058",
     "exception": false,
     "start_time": "2021-08-20T05:18:00.769277",
     "status": "completed"
    },
    "tags": []
   },
   "outputs": [
    {
     "name": "stdout",
     "output_type": "stream",
     "text": [
      "\r",
      "[                                        ] | 0% Completed |  0.0s"
     ]
    },
    {
     "name": "stdout",
     "output_type": "stream",
     "text": [
      "\r",
      "[                                        ] | 0% Completed |  0.2s"
     ]
    },
    {
     "name": "stdout",
     "output_type": "stream",
     "text": [
      "\r",
      "[                                        ] | 1% Completed |  0.3s"
     ]
    },
    {
     "name": "stdout",
     "output_type": "stream",
     "text": [
      "\r",
      "[                                        ] | 2% Completed |  0.4s"
     ]
    },
    {
     "name": "stdout",
     "output_type": "stream",
     "text": [
      "\r",
      "[#                                       ] | 3% Completed |  0.5s"
     ]
    },
    {
     "name": "stdout",
     "output_type": "stream",
     "text": [
      "\r",
      "[#                                       ] | 4% Completed |  0.6s"
     ]
    },
    {
     "name": "stdout",
     "output_type": "stream",
     "text": [
      "\r",
      "[##                                      ] | 5% Completed |  0.7s"
     ]
    },
    {
     "name": "stdout",
     "output_type": "stream",
     "text": [
      "\r",
      "[##                                      ] | 6% Completed |  0.8s"
     ]
    },
    {
     "name": "stdout",
     "output_type": "stream",
     "text": [
      "\r",
      "[##                                      ] | 6% Completed |  0.9s"
     ]
    },
    {
     "name": "stdout",
     "output_type": "stream",
     "text": [
      "\r",
      "[##                                      ] | 7% Completed |  1.0s"
     ]
    },
    {
     "name": "stdout",
     "output_type": "stream",
     "text": [
      "\r",
      "[####                                    ] | 11% Completed |  1.1s"
     ]
    },
    {
     "name": "stdout",
     "output_type": "stream",
     "text": [
      "\r",
      "[#####                                   ] | 12% Completed |  1.2s"
     ]
    },
    {
     "name": "stdout",
     "output_type": "stream",
     "text": [
      "\r",
      "[#####                                   ] | 13% Completed |  1.4s"
     ]
    },
    {
     "name": "stdout",
     "output_type": "stream",
     "text": [
      "\r",
      "[#####                                   ] | 14% Completed |  1.5s"
     ]
    },
    {
     "name": "stdout",
     "output_type": "stream",
     "text": [
      "\r",
      "[######                                  ] | 15% Completed |  1.6s"
     ]
    },
    {
     "name": "stdout",
     "output_type": "stream",
     "text": [
      "\r",
      "[######                                  ] | 16% Completed |  1.7s"
     ]
    },
    {
     "name": "stdout",
     "output_type": "stream",
     "text": [
      "\r",
      "[########                                ] | 21% Completed |  1.8s"
     ]
    },
    {
     "name": "stdout",
     "output_type": "stream",
     "text": [
      "\r",
      "[#########                               ] | 24% Completed |  1.9s"
     ]
    },
    {
     "name": "stdout",
     "output_type": "stream",
     "text": [
      "\r",
      "[##########                              ] | 25% Completed |  2.0s"
     ]
    },
    {
     "name": "stdout",
     "output_type": "stream",
     "text": [
      "\r",
      "[##########                              ] | 26% Completed |  2.1s"
     ]
    },
    {
     "name": "stdout",
     "output_type": "stream",
     "text": [
      "\r",
      "[###########                             ] | 28% Completed |  2.2s"
     ]
    },
    {
     "name": "stdout",
     "output_type": "stream",
     "text": [
      "\r",
      "[#############                           ] | 34% Completed |  2.3s"
     ]
    },
    {
     "name": "stdout",
     "output_type": "stream",
     "text": [
      "\r",
      "[################                        ] | 41% Completed |  2.4s"
     ]
    },
    {
     "name": "stdout",
     "output_type": "stream",
     "text": [
      "\r",
      "[#################                       ] | 44% Completed |  2.5s"
     ]
    },
    {
     "name": "stdout",
     "output_type": "stream",
     "text": [
      "\r",
      "[###################                     ] | 47% Completed |  2.6s"
     ]
    },
    {
     "name": "stdout",
     "output_type": "stream",
     "text": [
      "\r",
      "[#####################                   ] | 53% Completed |  2.7s"
     ]
    },
    {
     "name": "stdout",
     "output_type": "stream",
     "text": [
      "\r",
      "[#######################                 ] | 59% Completed |  2.8s"
     ]
    },
    {
     "name": "stdout",
     "output_type": "stream",
     "text": [
      "\r",
      "[#########################               ] | 63% Completed |  2.9s"
     ]
    },
    {
     "name": "stdout",
     "output_type": "stream",
     "text": [
      "\r",
      "[###########################             ] | 67% Completed |  3.0s"
     ]
    },
    {
     "name": "stdout",
     "output_type": "stream",
     "text": [
      "\r",
      "[############################            ] | 71% Completed |  3.1s"
     ]
    },
    {
     "name": "stdout",
     "output_type": "stream",
     "text": [
      "\r",
      "[################################        ] | 80% Completed |  3.2s"
     ]
    },
    {
     "name": "stdout",
     "output_type": "stream",
     "text": [
      "\r",
      "[###################################     ] | 88% Completed |  3.3s"
     ]
    },
    {
     "name": "stdout",
     "output_type": "stream",
     "text": [
      "\r",
      "[####################################    ] | 91% Completed |  3.4s"
     ]
    },
    {
     "name": "stdout",
     "output_type": "stream",
     "text": [
      "\r",
      "[#####################################   ] | 93% Completed |  3.5s"
     ]
    },
    {
     "name": "stdout",
     "output_type": "stream",
     "text": [
      "\r",
      "[######################################  ] | 96% Completed |  3.6s"
     ]
    },
    {
     "name": "stdout",
     "output_type": "stream",
     "text": [
      "\r",
      "[########################################] | 100% Completed |  3.7s"
     ]
    },
    {
     "name": "stdout",
     "output_type": "stream",
     "text": [
      "\n"
     ]
    }
   ],
   "source": [
    "with ProgressBar(): \n",
    "    dset_obs_sub = dset_obs_sub.compute()"
   ]
  },
  {
   "cell_type": "markdown",
   "id": "e17107ed-e9c7-42a1-b1be-1c64fe0022f7",
   "metadata": {
    "papermill": {
     "duration": 0.134784,
     "end_time": "2021-08-20T05:18:05.045159",
     "exception": false,
     "start_time": "2021-08-20T05:18:04.910375",
     "status": "completed"
    },
    "tags": []
   },
   "source": [
    "### Now calculates the climatological percentiles for the observations, per month "
   ]
  },
  {
   "cell_type": "code",
   "execution_count": 102,
   "id": "ed4614f2-c120-4dc2-aa38-350dac7cdf66",
   "metadata": {
    "execution": {
     "iopub.execute_input": "2021-08-20T05:18:05.313606Z",
     "iopub.status.busy": "2021-08-20T05:18:05.313097Z",
     "iopub.status.idle": "2021-08-20T05:18:05.328090Z",
     "shell.execute_reply": "2021-08-20T05:18:05.327747Z"
    },
    "papermill": {
     "duration": 0.148784,
     "end_time": "2021-08-20T05:18:05.328173",
     "exception": false,
     "start_time": "2021-08-20T05:18:05.179389",
     "status": "completed"
    },
    "tags": []
   },
   "outputs": [
    {
     "data": {
      "text/plain": [
       "'tercile'"
      ]
     },
     "execution_count": 102,
     "metadata": {},
     "output_type": "execute_result"
    }
   ],
   "source": [
    "quantiles"
   ]
  },
  {
   "cell_type": "code",
   "execution_count": 103,
   "id": "2e11e3f8-f685-4c12-9fa2-f3bf4e6a5b88",
   "metadata": {
    "execution": {
     "iopub.execute_input": "2021-08-20T05:18:05.597476Z",
     "iopub.status.busy": "2021-08-20T05:18:05.597139Z",
     "iopub.status.idle": "2021-08-20T05:18:05.626378Z",
     "shell.execute_reply": "2021-08-20T05:18:05.625898Z"
    },
    "papermill": {
     "duration": 0.1644,
     "end_time": "2021-08-20T05:18:05.626487",
     "exception": false,
     "start_time": "2021-08-20T05:18:05.462087",
     "status": "completed"
    },
    "tags": []
   },
   "outputs": [],
   "source": [
    "clim_obs_p = dset_obs_sub[['precip']].groupby(dset_obs_sub.time.dt.month).apply(calc_percentiles, **{'percentiles':dict_quantiles[quantiles]})"
   ]
  },
  {
   "cell_type": "markdown",
   "id": "f2ceb330-bf84-4f89-8c33-2b5d1aec3081",
   "metadata": {
    "papermill": {
     "duration": 0.134587,
     "end_time": "2021-08-20T05:18:05.895807",
     "exception": false,
     "start_time": "2021-08-20T05:18:05.761220",
     "status": "completed"
    },
    "tags": []
   },
   "source": [
    "### Now calculates the categories, based on the observations, for each month or season "
   ]
  },
  {
   "cell_type": "code",
   "execution_count": 104,
   "id": "ff81af64-49ba-4e88-a8b3-a546a5a87291",
   "metadata": {
    "execution": {
     "iopub.execute_input": "2021-08-20T05:18:06.171689Z",
     "iopub.status.busy": "2021-08-20T05:18:06.171342Z",
     "iopub.status.idle": "2021-08-20T05:18:06.212447Z",
     "shell.execute_reply": "2021-08-20T05:18:06.212143Z"
    },
    "papermill": {
     "duration": 0.180203,
     "end_time": "2021-08-20T05:18:06.212530",
     "exception": false,
     "start_time": "2021-08-20T05:18:06.032327",
     "status": "completed"
    },
    "tags": []
   },
   "outputs": [],
   "source": [
    "dset_obs_cat = []\n",
    "\n",
    "for month in np.arange(12) + 1: \n",
    "    \n",
    "    x = dset_obs_sub.sel(time=(dset_obs_sub.time.dt.month == month))\n",
    "\n",
    "    # digitize\n",
    "\n",
    "    qc = C3S.get_GCM_category_digitize(x, clim_obs_p.sel(month=month), varname='precip', dim='quantile')\n",
    "    \n",
    "    dset_obs_cat.append(qc)"
   ]
  },
  {
   "cell_type": "code",
   "execution_count": 105,
   "id": "45787360-b956-468d-bf6b-4f10d83e496a",
   "metadata": {
    "execution": {
     "iopub.execute_input": "2021-08-20T05:18:06.486072Z",
     "iopub.status.busy": "2021-08-20T05:18:06.485750Z",
     "iopub.status.idle": "2021-08-20T05:18:06.505732Z",
     "shell.execute_reply": "2021-08-20T05:18:06.505450Z"
    },
    "papermill": {
     "duration": 0.156275,
     "end_time": "2021-08-20T05:18:06.505816",
     "exception": false,
     "start_time": "2021-08-20T05:18:06.349541",
     "status": "completed"
    },
    "tags": []
   },
   "outputs": [],
   "source": [
    "dset_obs_cat = xr.concat(dset_obs_cat, dim='time')"
   ]
  },
  {
   "cell_type": "code",
   "execution_count": 106,
   "id": "8933a431-eb0c-473e-811b-85906a5f18f8",
   "metadata": {
    "execution": {
     "iopub.execute_input": "2021-08-20T05:18:06.775931Z",
     "iopub.status.busy": "2021-08-20T05:18:06.775587Z",
     "iopub.status.idle": "2021-08-20T05:18:06.790447Z",
     "shell.execute_reply": "2021-08-20T05:18:06.790698Z"
    },
    "papermill": {
     "duration": 0.152329,
     "end_time": "2021-08-20T05:18:06.790802",
     "exception": false,
     "start_time": "2021-08-20T05:18:06.638473",
     "status": "completed"
    },
    "tags": []
   },
   "outputs": [],
   "source": [
    "dset_obs_cat = dset_obs_cat.sortby('time')"
   ]
  },
  {
   "cell_type": "code",
   "execution_count": 107,
   "id": "c1bfe670-54f1-4342-a751-c5e6c3cea19e",
   "metadata": {
    "execution": {
     "iopub.execute_input": "2021-08-20T05:18:07.067519Z",
     "iopub.status.busy": "2021-08-20T05:18:07.067077Z",
     "iopub.status.idle": "2021-08-20T05:18:07.081349Z",
     "shell.execute_reply": "2021-08-20T05:18:07.081604Z"
    },
    "papermill": {
     "duration": 0.15677,
     "end_time": "2021-08-20T05:18:07.081707",
     "exception": false,
     "start_time": "2021-08-20T05:18:06.924937",
     "status": "completed"
    },
    "tags": []
   },
   "outputs": [],
   "source": [
    "dset_obs_cat = dset_obs_cat.squeeze()['precip'].to_pandas()"
   ]
  },
  {
   "cell_type": "code",
   "execution_count": 108,
   "id": "72d066ed-e16c-492d-8bf6-c0caf921a636",
   "metadata": {
    "execution": {
     "iopub.execute_input": "2021-08-20T05:18:07.355804Z",
     "iopub.status.busy": "2021-08-20T05:18:07.355474Z",
     "iopub.status.idle": "2021-08-20T05:18:07.372733Z",
     "shell.execute_reply": "2021-08-20T05:18:07.372385Z"
    },
    "papermill": {
     "duration": 0.151959,
     "end_time": "2021-08-20T05:18:07.372814",
     "exception": false,
     "start_time": "2021-08-20T05:18:07.220855",
     "status": "completed"
    },
    "tags": []
   },
   "outputs": [
    {
     "data": {
      "text/plain": [
       "time\n",
       "1993-03-01    1\n",
       "1993-04-01    1\n",
       "1993-05-01    1\n",
       "1993-06-01    2\n",
       "1993-07-01    1\n",
       "             ..\n",
       "2016-08-01    3\n",
       "2016-09-01    3\n",
       "2016-10-01    3\n",
       "2016-11-01    3\n",
       "2016-12-01    3\n",
       "Length: 286, dtype: int64"
      ]
     },
     "execution_count": 108,
     "metadata": {},
     "output_type": "execute_result"
    }
   ],
   "source": [
    "dset_obs_cat"
   ]
  },
  {
   "cell_type": "code",
   "execution_count": 109,
   "id": "d28129e6-6250-407b-82e0-acaa7345a9bb",
   "metadata": {
    "execution": {
     "iopub.execute_input": "2021-08-20T05:18:07.646091Z",
     "iopub.status.busy": "2021-08-20T05:18:07.645733Z",
     "iopub.status.idle": "2021-08-20T05:18:07.671999Z",
     "shell.execute_reply": "2021-08-20T05:18:07.671648Z"
    },
    "papermill": {
     "duration": 0.164081,
     "end_time": "2021-08-20T05:18:07.672081",
     "exception": false,
     "start_time": "2021-08-20T05:18:07.508000",
     "status": "completed"
    },
    "tags": []
   },
   "outputs": [
    {
     "data": {
      "text/html": [
       "<div>\n",
       "<style scoped>\n",
       "    .dataframe tbody tr th:only-of-type {\n",
       "        vertical-align: middle;\n",
       "    }\n",
       "\n",
       "    .dataframe tbody tr th {\n",
       "        vertical-align: top;\n",
       "    }\n",
       "\n",
       "    .dataframe thead tr th {\n",
       "        text-align: left;\n",
       "    }\n",
       "\n",
       "    .dataframe thead tr:last-of-type th {\n",
       "        text-align: right;\n",
       "    }\n",
       "</style>\n",
       "<table border=\"1\" class=\"dataframe\">\n",
       "  <thead>\n",
       "    <tr>\n",
       "      <th></th>\n",
       "      <th colspan=\"3\" halign=\"left\">3</th>\n",
       "      <th colspan=\"3\" halign=\"left\">4</th>\n",
       "      <th colspan=\"3\" halign=\"left\">5</th>\n",
       "    </tr>\n",
       "    <tr>\n",
       "      <th>tercile</th>\n",
       "      <th>1</th>\n",
       "      <th>2</th>\n",
       "      <th>3</th>\n",
       "      <th>1</th>\n",
       "      <th>2</th>\n",
       "      <th>3</th>\n",
       "      <th>1</th>\n",
       "      <th>2</th>\n",
       "      <th>3</th>\n",
       "    </tr>\n",
       "    <tr>\n",
       "      <th>time</th>\n",
       "      <th></th>\n",
       "      <th></th>\n",
       "      <th></th>\n",
       "      <th></th>\n",
       "      <th></th>\n",
       "      <th></th>\n",
       "      <th></th>\n",
       "      <th></th>\n",
       "      <th></th>\n",
       "    </tr>\n",
       "  </thead>\n",
       "  <tbody>\n",
       "    <tr>\n",
       "      <th>1993-01-01</th>\n",
       "      <td>32.142857</td>\n",
       "      <td>42.857143</td>\n",
       "      <td>25.000000</td>\n",
       "      <td>21.428571</td>\n",
       "      <td>32.142857</td>\n",
       "      <td>46.428571</td>\n",
       "      <td>10.714286</td>\n",
       "      <td>42.857143</td>\n",
       "      <td>46.428571</td>\n",
       "    </tr>\n",
       "    <tr>\n",
       "      <th>1993-02-01</th>\n",
       "      <td>28.571429</td>\n",
       "      <td>25.000000</td>\n",
       "      <td>32.142857</td>\n",
       "      <td>17.857143</td>\n",
       "      <td>28.571429</td>\n",
       "      <td>39.285714</td>\n",
       "      <td>17.857143</td>\n",
       "      <td>39.285714</td>\n",
       "      <td>28.571429</td>\n",
       "    </tr>\n",
       "    <tr>\n",
       "      <th>1993-03-01</th>\n",
       "      <td>39.285714</td>\n",
       "      <td>28.571429</td>\n",
       "      <td>3.571429</td>\n",
       "      <td>28.571429</td>\n",
       "      <td>35.714286</td>\n",
       "      <td>7.142857</td>\n",
       "      <td>25.000000</td>\n",
       "      <td>35.714286</td>\n",
       "      <td>10.714286</td>\n",
       "    </tr>\n",
       "    <tr>\n",
       "      <th>1993-04-01</th>\n",
       "      <td>78.571429</td>\n",
       "      <td>14.285714</td>\n",
       "      <td>7.142857</td>\n",
       "      <td>71.428571</td>\n",
       "      <td>21.428571</td>\n",
       "      <td>7.142857</td>\n",
       "      <td>60.714286</td>\n",
       "      <td>32.142857</td>\n",
       "      <td>7.142857</td>\n",
       "    </tr>\n",
       "    <tr>\n",
       "      <th>1993-05-01</th>\n",
       "      <td>64.285714</td>\n",
       "      <td>21.428571</td>\n",
       "      <td>0.000000</td>\n",
       "      <td>35.714286</td>\n",
       "      <td>50.000000</td>\n",
       "      <td>0.000000</td>\n",
       "      <td>21.428571</td>\n",
       "      <td>50.000000</td>\n",
       "      <td>14.285714</td>\n",
       "    </tr>\n",
       "    <tr>\n",
       "      <th>...</th>\n",
       "      <td>...</td>\n",
       "      <td>...</td>\n",
       "      <td>...</td>\n",
       "      <td>...</td>\n",
       "      <td>...</td>\n",
       "      <td>...</td>\n",
       "      <td>...</td>\n",
       "      <td>...</td>\n",
       "      <td>...</td>\n",
       "    </tr>\n",
       "    <tr>\n",
       "      <th>2016-08-01</th>\n",
       "      <td>7.142857</td>\n",
       "      <td>28.571429</td>\n",
       "      <td>50.000000</td>\n",
       "      <td>3.571429</td>\n",
       "      <td>46.428571</td>\n",
       "      <td>35.714286</td>\n",
       "      <td>10.714286</td>\n",
       "      <td>28.571429</td>\n",
       "      <td>46.428571</td>\n",
       "    </tr>\n",
       "    <tr>\n",
       "      <th>2016-09-01</th>\n",
       "      <td>3.571429</td>\n",
       "      <td>28.571429</td>\n",
       "      <td>53.571429</td>\n",
       "      <td>10.714286</td>\n",
       "      <td>35.714286</td>\n",
       "      <td>39.285714</td>\n",
       "      <td>25.000000</td>\n",
       "      <td>35.714286</td>\n",
       "      <td>25.000000</td>\n",
       "    </tr>\n",
       "    <tr>\n",
       "      <th>2016-10-01</th>\n",
       "      <td>10.714286</td>\n",
       "      <td>32.142857</td>\n",
       "      <td>42.857143</td>\n",
       "      <td>39.285714</td>\n",
       "      <td>17.857143</td>\n",
       "      <td>28.571429</td>\n",
       "      <td>35.714286</td>\n",
       "      <td>28.571429</td>\n",
       "      <td>21.428571</td>\n",
       "    </tr>\n",
       "    <tr>\n",
       "      <th>2016-11-01</th>\n",
       "      <td>25.000000</td>\n",
       "      <td>25.000000</td>\n",
       "      <td>35.714286</td>\n",
       "      <td>39.285714</td>\n",
       "      <td>25.000000</td>\n",
       "      <td>21.428571</td>\n",
       "      <td>42.857143</td>\n",
       "      <td>17.857143</td>\n",
       "      <td>25.000000</td>\n",
       "    </tr>\n",
       "    <tr>\n",
       "      <th>2016-12-01</th>\n",
       "      <td>35.714286</td>\n",
       "      <td>21.428571</td>\n",
       "      <td>28.571429</td>\n",
       "      <td>32.142857</td>\n",
       "      <td>28.571429</td>\n",
       "      <td>25.000000</td>\n",
       "      <td>32.142857</td>\n",
       "      <td>25.000000</td>\n",
       "      <td>28.571429</td>\n",
       "    </tr>\n",
       "  </tbody>\n",
       "</table>\n",
       "<p>288 rows × 9 columns</p>\n",
       "</div>"
      ],
      "text/plain": [
       "                    3                                4                        \\\n",
       "tercile             1          2          3          1          2          3   \n",
       "time                                                                           \n",
       "1993-01-01  32.142857  42.857143  25.000000  21.428571  32.142857  46.428571   \n",
       "1993-02-01  28.571429  25.000000  32.142857  17.857143  28.571429  39.285714   \n",
       "1993-03-01  39.285714  28.571429   3.571429  28.571429  35.714286   7.142857   \n",
       "1993-04-01  78.571429  14.285714   7.142857  71.428571  21.428571   7.142857   \n",
       "1993-05-01  64.285714  21.428571   0.000000  35.714286  50.000000   0.000000   \n",
       "...               ...        ...        ...        ...        ...        ...   \n",
       "2016-08-01   7.142857  28.571429  50.000000   3.571429  46.428571  35.714286   \n",
       "2016-09-01   3.571429  28.571429  53.571429  10.714286  35.714286  39.285714   \n",
       "2016-10-01  10.714286  32.142857  42.857143  39.285714  17.857143  28.571429   \n",
       "2016-11-01  25.000000  25.000000  35.714286  39.285714  25.000000  21.428571   \n",
       "2016-12-01  35.714286  21.428571  28.571429  32.142857  28.571429  25.000000   \n",
       "\n",
       "                    5                        \n",
       "tercile             1          2          3  \n",
       "time                                         \n",
       "1993-01-01  10.714286  42.857143  46.428571  \n",
       "1993-02-01  17.857143  39.285714  28.571429  \n",
       "1993-03-01  25.000000  35.714286  10.714286  \n",
       "1993-04-01  60.714286  32.142857   7.142857  \n",
       "1993-05-01  21.428571  50.000000  14.285714  \n",
       "...               ...        ...        ...  \n",
       "2016-08-01  10.714286  28.571429  46.428571  \n",
       "2016-09-01  25.000000  35.714286  25.000000  \n",
       "2016-10-01  35.714286  28.571429  21.428571  \n",
       "2016-11-01  42.857143  17.857143  25.000000  \n",
       "2016-12-01  32.142857  25.000000  28.571429  \n",
       "\n",
       "[288 rows x 9 columns]"
      ]
     },
     "execution_count": 109,
     "metadata": {},
     "output_type": "execute_result"
    }
   ],
   "source": [
    "df_quantile_probabilities"
   ]
  },
  {
   "cell_type": "code",
   "execution_count": 110,
   "id": "d15188b5-2ad0-4990-913b-87e57e2f7d8b",
   "metadata": {
    "execution": {
     "iopub.execute_input": "2021-08-20T05:18:07.937917Z",
     "iopub.status.busy": "2021-08-20T05:18:07.937588Z",
     "iopub.status.idle": "2021-08-20T05:18:07.953100Z",
     "shell.execute_reply": "2021-08-20T05:18:07.952718Z"
    },
    "papermill": {
     "duration": 0.149626,
     "end_time": "2021-08-20T05:18:07.953185",
     "exception": false,
     "start_time": "2021-08-20T05:18:07.803559",
     "status": "completed"
    },
    "tags": []
   },
   "outputs": [],
   "source": [
    "df_quantile_probabilities_obs = df_quantile_probabilities.merge(dset_obs_cat.to_frame(name='obs'), left_index=True, right_index=True)"
   ]
  },
  {
   "cell_type": "code",
   "execution_count": 111,
   "id": "b431ad3f-5953-4839-8f67-47cabb675362",
   "metadata": {
    "execution": {
     "iopub.execute_input": "2021-08-20T05:18:08.220578Z",
     "iopub.status.busy": "2021-08-20T05:18:08.220253Z",
     "iopub.status.idle": "2021-08-20T05:18:08.245467Z",
     "shell.execute_reply": "2021-08-20T05:18:08.245102Z"
    },
    "papermill": {
     "duration": 0.159606,
     "end_time": "2021-08-20T05:18:08.245550",
     "exception": false,
     "start_time": "2021-08-20T05:18:08.085944",
     "status": "completed"
    },
    "tags": []
   },
   "outputs": [
    {
     "data": {
      "text/html": [
       "<div>\n",
       "<style scoped>\n",
       "    .dataframe tbody tr th:only-of-type {\n",
       "        vertical-align: middle;\n",
       "    }\n",
       "\n",
       "    .dataframe tbody tr th {\n",
       "        vertical-align: top;\n",
       "    }\n",
       "\n",
       "    .dataframe thead th {\n",
       "        text-align: right;\n",
       "    }\n",
       "</style>\n",
       "<table border=\"1\" class=\"dataframe\">\n",
       "  <thead>\n",
       "    <tr style=\"text-align: right;\">\n",
       "      <th></th>\n",
       "      <th>(3, 1)</th>\n",
       "      <th>(3, 2)</th>\n",
       "      <th>(3, 3)</th>\n",
       "      <th>(4, 1)</th>\n",
       "      <th>(4, 2)</th>\n",
       "      <th>(4, 3)</th>\n",
       "      <th>(5, 1)</th>\n",
       "      <th>(5, 2)</th>\n",
       "      <th>(5, 3)</th>\n",
       "      <th>obs</th>\n",
       "    </tr>\n",
       "    <tr>\n",
       "      <th>time</th>\n",
       "      <th></th>\n",
       "      <th></th>\n",
       "      <th></th>\n",
       "      <th></th>\n",
       "      <th></th>\n",
       "      <th></th>\n",
       "      <th></th>\n",
       "      <th></th>\n",
       "      <th></th>\n",
       "      <th></th>\n",
       "    </tr>\n",
       "  </thead>\n",
       "  <tbody>\n",
       "    <tr>\n",
       "      <th>1993-03-01</th>\n",
       "      <td>39.285714</td>\n",
       "      <td>28.571429</td>\n",
       "      <td>3.571429</td>\n",
       "      <td>28.571429</td>\n",
       "      <td>35.714286</td>\n",
       "      <td>7.142857</td>\n",
       "      <td>25.000000</td>\n",
       "      <td>35.714286</td>\n",
       "      <td>10.714286</td>\n",
       "      <td>1</td>\n",
       "    </tr>\n",
       "    <tr>\n",
       "      <th>1993-04-01</th>\n",
       "      <td>78.571429</td>\n",
       "      <td>14.285714</td>\n",
       "      <td>7.142857</td>\n",
       "      <td>71.428571</td>\n",
       "      <td>21.428571</td>\n",
       "      <td>7.142857</td>\n",
       "      <td>60.714286</td>\n",
       "      <td>32.142857</td>\n",
       "      <td>7.142857</td>\n",
       "      <td>1</td>\n",
       "    </tr>\n",
       "    <tr>\n",
       "      <th>1993-05-01</th>\n",
       "      <td>64.285714</td>\n",
       "      <td>21.428571</td>\n",
       "      <td>0.000000</td>\n",
       "      <td>35.714286</td>\n",
       "      <td>50.000000</td>\n",
       "      <td>0.000000</td>\n",
       "      <td>21.428571</td>\n",
       "      <td>50.000000</td>\n",
       "      <td>14.285714</td>\n",
       "      <td>1</td>\n",
       "    </tr>\n",
       "    <tr>\n",
       "      <th>1993-06-01</th>\n",
       "      <td>50.000000</td>\n",
       "      <td>28.571429</td>\n",
       "      <td>7.142857</td>\n",
       "      <td>39.285714</td>\n",
       "      <td>35.714286</td>\n",
       "      <td>10.714286</td>\n",
       "      <td>35.714286</td>\n",
       "      <td>32.142857</td>\n",
       "      <td>17.857143</td>\n",
       "      <td>2</td>\n",
       "    </tr>\n",
       "    <tr>\n",
       "      <th>1993-07-01</th>\n",
       "      <td>28.571429</td>\n",
       "      <td>53.571429</td>\n",
       "      <td>3.571429</td>\n",
       "      <td>21.428571</td>\n",
       "      <td>53.571429</td>\n",
       "      <td>10.714286</td>\n",
       "      <td>7.142857</td>\n",
       "      <td>57.142857</td>\n",
       "      <td>21.428571</td>\n",
       "      <td>1</td>\n",
       "    </tr>\n",
       "    <tr>\n",
       "      <th>...</th>\n",
       "      <td>...</td>\n",
       "      <td>...</td>\n",
       "      <td>...</td>\n",
       "      <td>...</td>\n",
       "      <td>...</td>\n",
       "      <td>...</td>\n",
       "      <td>...</td>\n",
       "      <td>...</td>\n",
       "      <td>...</td>\n",
       "      <td>...</td>\n",
       "    </tr>\n",
       "    <tr>\n",
       "      <th>2016-08-01</th>\n",
       "      <td>7.142857</td>\n",
       "      <td>28.571429</td>\n",
       "      <td>50.000000</td>\n",
       "      <td>3.571429</td>\n",
       "      <td>46.428571</td>\n",
       "      <td>35.714286</td>\n",
       "      <td>10.714286</td>\n",
       "      <td>28.571429</td>\n",
       "      <td>46.428571</td>\n",
       "      <td>3</td>\n",
       "    </tr>\n",
       "    <tr>\n",
       "      <th>2016-09-01</th>\n",
       "      <td>3.571429</td>\n",
       "      <td>28.571429</td>\n",
       "      <td>53.571429</td>\n",
       "      <td>10.714286</td>\n",
       "      <td>35.714286</td>\n",
       "      <td>39.285714</td>\n",
       "      <td>25.000000</td>\n",
       "      <td>35.714286</td>\n",
       "      <td>25.000000</td>\n",
       "      <td>3</td>\n",
       "    </tr>\n",
       "    <tr>\n",
       "      <th>2016-10-01</th>\n",
       "      <td>10.714286</td>\n",
       "      <td>32.142857</td>\n",
       "      <td>42.857143</td>\n",
       "      <td>39.285714</td>\n",
       "      <td>17.857143</td>\n",
       "      <td>28.571429</td>\n",
       "      <td>35.714286</td>\n",
       "      <td>28.571429</td>\n",
       "      <td>21.428571</td>\n",
       "      <td>3</td>\n",
       "    </tr>\n",
       "    <tr>\n",
       "      <th>2016-11-01</th>\n",
       "      <td>25.000000</td>\n",
       "      <td>25.000000</td>\n",
       "      <td>35.714286</td>\n",
       "      <td>39.285714</td>\n",
       "      <td>25.000000</td>\n",
       "      <td>21.428571</td>\n",
       "      <td>42.857143</td>\n",
       "      <td>17.857143</td>\n",
       "      <td>25.000000</td>\n",
       "      <td>3</td>\n",
       "    </tr>\n",
       "    <tr>\n",
       "      <th>2016-12-01</th>\n",
       "      <td>35.714286</td>\n",
       "      <td>21.428571</td>\n",
       "      <td>28.571429</td>\n",
       "      <td>32.142857</td>\n",
       "      <td>28.571429</td>\n",
       "      <td>25.000000</td>\n",
       "      <td>32.142857</td>\n",
       "      <td>25.000000</td>\n",
       "      <td>28.571429</td>\n",
       "      <td>3</td>\n",
       "    </tr>\n",
       "  </tbody>\n",
       "</table>\n",
       "<p>286 rows × 10 columns</p>\n",
       "</div>"
      ],
      "text/plain": [
       "               (3, 1)     (3, 2)     (3, 3)     (4, 1)     (4, 2)     (4, 3)  \\\n",
       "time                                                                           \n",
       "1993-03-01  39.285714  28.571429   3.571429  28.571429  35.714286   7.142857   \n",
       "1993-04-01  78.571429  14.285714   7.142857  71.428571  21.428571   7.142857   \n",
       "1993-05-01  64.285714  21.428571   0.000000  35.714286  50.000000   0.000000   \n",
       "1993-06-01  50.000000  28.571429   7.142857  39.285714  35.714286  10.714286   \n",
       "1993-07-01  28.571429  53.571429   3.571429  21.428571  53.571429  10.714286   \n",
       "...               ...        ...        ...        ...        ...        ...   \n",
       "2016-08-01   7.142857  28.571429  50.000000   3.571429  46.428571  35.714286   \n",
       "2016-09-01   3.571429  28.571429  53.571429  10.714286  35.714286  39.285714   \n",
       "2016-10-01  10.714286  32.142857  42.857143  39.285714  17.857143  28.571429   \n",
       "2016-11-01  25.000000  25.000000  35.714286  39.285714  25.000000  21.428571   \n",
       "2016-12-01  35.714286  21.428571  28.571429  32.142857  28.571429  25.000000   \n",
       "\n",
       "               (5, 1)     (5, 2)     (5, 3)  obs  \n",
       "time                                              \n",
       "1993-03-01  25.000000  35.714286  10.714286    1  \n",
       "1993-04-01  60.714286  32.142857   7.142857    1  \n",
       "1993-05-01  21.428571  50.000000  14.285714    1  \n",
       "1993-06-01  35.714286  32.142857  17.857143    2  \n",
       "1993-07-01   7.142857  57.142857  21.428571    1  \n",
       "...               ...        ...        ...  ...  \n",
       "2016-08-01  10.714286  28.571429  46.428571    3  \n",
       "2016-09-01  25.000000  35.714286  25.000000    3  \n",
       "2016-10-01  35.714286  28.571429  21.428571    3  \n",
       "2016-11-01  42.857143  17.857143  25.000000    3  \n",
       "2016-12-01  32.142857  25.000000  28.571429    3  \n",
       "\n",
       "[286 rows x 10 columns]"
      ]
     },
     "execution_count": 111,
     "metadata": {},
     "output_type": "execute_result"
    }
   ],
   "source": [
    "df_quantile_probabilities_obs"
   ]
  },
  {
   "cell_type": "code",
   "execution_count": 112,
   "id": "6543af3b-9877-4de3-864e-4fe7e7ce1939",
   "metadata": {
    "execution": {
     "iopub.execute_input": "2021-08-20T05:18:08.516263Z",
     "iopub.status.busy": "2021-08-20T05:18:08.515934Z",
     "iopub.status.idle": "2021-08-20T05:18:08.534684Z",
     "shell.execute_reply": "2021-08-20T05:18:08.534376Z"
    },
    "papermill": {
     "duration": 0.153428,
     "end_time": "2021-08-20T05:18:08.534767",
     "exception": false,
     "start_time": "2021-08-20T05:18:08.381339",
     "status": "completed"
    },
    "tags": []
   },
   "outputs": [],
   "source": [
    "df_quantile_probabilities_obs.to_csv(outputs_path.joinpath(f\"{utils.sanitize_name(shape_name)}_{period}_{GCM}_{quantiles}_probs_and_obs.csv\"))"
   ]
  },
  {
   "cell_type": "markdown",
   "id": "945a0d23-6a53-4754-9eec-066ea698125a",
   "metadata": {
    "papermill": {
     "duration": 0.136382,
     "end_time": "2021-08-20T05:18:08.806269",
     "exception": false,
     "start_time": "2021-08-20T05:18:08.669887",
     "status": "completed"
    },
    "tags": []
   },
   "source": [
    "### Now evaluate the forecasts compared to the observations "
   ]
  },
  {
   "cell_type": "code",
   "execution_count": 113,
   "id": "35fe92ea-8420-4a2d-85fb-3e06cd2891dd",
   "metadata": {
    "execution": {
     "iopub.execute_input": "2021-08-20T05:18:09.074750Z",
     "iopub.status.busy": "2021-08-20T05:18:09.074412Z",
     "iopub.status.idle": "2021-08-20T05:18:09.099389Z",
     "shell.execute_reply": "2021-08-20T05:18:09.099633Z"
    },
    "papermill": {
     "duration": 0.160866,
     "end_time": "2021-08-20T05:18:09.099735",
     "exception": false,
     "start_time": "2021-08-20T05:18:08.938869",
     "status": "completed"
    },
    "tags": []
   },
   "outputs": [
    {
     "data": {
      "text/html": [
       "<div>\n",
       "<style scoped>\n",
       "    .dataframe tbody tr th:only-of-type {\n",
       "        vertical-align: middle;\n",
       "    }\n",
       "\n",
       "    .dataframe tbody tr th {\n",
       "        vertical-align: top;\n",
       "    }\n",
       "\n",
       "    .dataframe thead th {\n",
       "        text-align: right;\n",
       "    }\n",
       "</style>\n",
       "<table border=\"1\" class=\"dataframe\">\n",
       "  <thead>\n",
       "    <tr style=\"text-align: right;\">\n",
       "      <th></th>\n",
       "      <th>(3, 1)</th>\n",
       "      <th>(3, 2)</th>\n",
       "      <th>(3, 3)</th>\n",
       "      <th>(4, 1)</th>\n",
       "      <th>(4, 2)</th>\n",
       "      <th>(4, 3)</th>\n",
       "      <th>(5, 1)</th>\n",
       "      <th>(5, 2)</th>\n",
       "      <th>(5, 3)</th>\n",
       "      <th>obs</th>\n",
       "    </tr>\n",
       "    <tr>\n",
       "      <th>time</th>\n",
       "      <th></th>\n",
       "      <th></th>\n",
       "      <th></th>\n",
       "      <th></th>\n",
       "      <th></th>\n",
       "      <th></th>\n",
       "      <th></th>\n",
       "      <th></th>\n",
       "      <th></th>\n",
       "      <th></th>\n",
       "    </tr>\n",
       "  </thead>\n",
       "  <tbody>\n",
       "    <tr>\n",
       "      <th>1993-03-01</th>\n",
       "      <td>39.285714</td>\n",
       "      <td>28.571429</td>\n",
       "      <td>3.571429</td>\n",
       "      <td>28.571429</td>\n",
       "      <td>35.714286</td>\n",
       "      <td>7.142857</td>\n",
       "      <td>25.000000</td>\n",
       "      <td>35.714286</td>\n",
       "      <td>10.714286</td>\n",
       "      <td>1</td>\n",
       "    </tr>\n",
       "    <tr>\n",
       "      <th>1993-04-01</th>\n",
       "      <td>78.571429</td>\n",
       "      <td>14.285714</td>\n",
       "      <td>7.142857</td>\n",
       "      <td>71.428571</td>\n",
       "      <td>21.428571</td>\n",
       "      <td>7.142857</td>\n",
       "      <td>60.714286</td>\n",
       "      <td>32.142857</td>\n",
       "      <td>7.142857</td>\n",
       "      <td>1</td>\n",
       "    </tr>\n",
       "    <tr>\n",
       "      <th>1993-05-01</th>\n",
       "      <td>64.285714</td>\n",
       "      <td>21.428571</td>\n",
       "      <td>0.000000</td>\n",
       "      <td>35.714286</td>\n",
       "      <td>50.000000</td>\n",
       "      <td>0.000000</td>\n",
       "      <td>21.428571</td>\n",
       "      <td>50.000000</td>\n",
       "      <td>14.285714</td>\n",
       "      <td>1</td>\n",
       "    </tr>\n",
       "    <tr>\n",
       "      <th>1993-06-01</th>\n",
       "      <td>50.000000</td>\n",
       "      <td>28.571429</td>\n",
       "      <td>7.142857</td>\n",
       "      <td>39.285714</td>\n",
       "      <td>35.714286</td>\n",
       "      <td>10.714286</td>\n",
       "      <td>35.714286</td>\n",
       "      <td>32.142857</td>\n",
       "      <td>17.857143</td>\n",
       "      <td>2</td>\n",
       "    </tr>\n",
       "    <tr>\n",
       "      <th>1993-07-01</th>\n",
       "      <td>28.571429</td>\n",
       "      <td>53.571429</td>\n",
       "      <td>3.571429</td>\n",
       "      <td>21.428571</td>\n",
       "      <td>53.571429</td>\n",
       "      <td>10.714286</td>\n",
       "      <td>7.142857</td>\n",
       "      <td>57.142857</td>\n",
       "      <td>21.428571</td>\n",
       "      <td>1</td>\n",
       "    </tr>\n",
       "    <tr>\n",
       "      <th>...</th>\n",
       "      <td>...</td>\n",
       "      <td>...</td>\n",
       "      <td>...</td>\n",
       "      <td>...</td>\n",
       "      <td>...</td>\n",
       "      <td>...</td>\n",
       "      <td>...</td>\n",
       "      <td>...</td>\n",
       "      <td>...</td>\n",
       "      <td>...</td>\n",
       "    </tr>\n",
       "    <tr>\n",
       "      <th>2016-08-01</th>\n",
       "      <td>7.142857</td>\n",
       "      <td>28.571429</td>\n",
       "      <td>50.000000</td>\n",
       "      <td>3.571429</td>\n",
       "      <td>46.428571</td>\n",
       "      <td>35.714286</td>\n",
       "      <td>10.714286</td>\n",
       "      <td>28.571429</td>\n",
       "      <td>46.428571</td>\n",
       "      <td>3</td>\n",
       "    </tr>\n",
       "    <tr>\n",
       "      <th>2016-09-01</th>\n",
       "      <td>3.571429</td>\n",
       "      <td>28.571429</td>\n",
       "      <td>53.571429</td>\n",
       "      <td>10.714286</td>\n",
       "      <td>35.714286</td>\n",
       "      <td>39.285714</td>\n",
       "      <td>25.000000</td>\n",
       "      <td>35.714286</td>\n",
       "      <td>25.000000</td>\n",
       "      <td>3</td>\n",
       "    </tr>\n",
       "    <tr>\n",
       "      <th>2016-10-01</th>\n",
       "      <td>10.714286</td>\n",
       "      <td>32.142857</td>\n",
       "      <td>42.857143</td>\n",
       "      <td>39.285714</td>\n",
       "      <td>17.857143</td>\n",
       "      <td>28.571429</td>\n",
       "      <td>35.714286</td>\n",
       "      <td>28.571429</td>\n",
       "      <td>21.428571</td>\n",
       "      <td>3</td>\n",
       "    </tr>\n",
       "    <tr>\n",
       "      <th>2016-11-01</th>\n",
       "      <td>25.000000</td>\n",
       "      <td>25.000000</td>\n",
       "      <td>35.714286</td>\n",
       "      <td>39.285714</td>\n",
       "      <td>25.000000</td>\n",
       "      <td>21.428571</td>\n",
       "      <td>42.857143</td>\n",
       "      <td>17.857143</td>\n",
       "      <td>25.000000</td>\n",
       "      <td>3</td>\n",
       "    </tr>\n",
       "    <tr>\n",
       "      <th>2016-12-01</th>\n",
       "      <td>35.714286</td>\n",
       "      <td>21.428571</td>\n",
       "      <td>28.571429</td>\n",
       "      <td>32.142857</td>\n",
       "      <td>28.571429</td>\n",
       "      <td>25.000000</td>\n",
       "      <td>32.142857</td>\n",
       "      <td>25.000000</td>\n",
       "      <td>28.571429</td>\n",
       "      <td>3</td>\n",
       "    </tr>\n",
       "  </tbody>\n",
       "</table>\n",
       "<p>286 rows × 10 columns</p>\n",
       "</div>"
      ],
      "text/plain": [
       "               (3, 1)     (3, 2)     (3, 3)     (4, 1)     (4, 2)     (4, 3)  \\\n",
       "time                                                                           \n",
       "1993-03-01  39.285714  28.571429   3.571429  28.571429  35.714286   7.142857   \n",
       "1993-04-01  78.571429  14.285714   7.142857  71.428571  21.428571   7.142857   \n",
       "1993-05-01  64.285714  21.428571   0.000000  35.714286  50.000000   0.000000   \n",
       "1993-06-01  50.000000  28.571429   7.142857  39.285714  35.714286  10.714286   \n",
       "1993-07-01  28.571429  53.571429   3.571429  21.428571  53.571429  10.714286   \n",
       "...               ...        ...        ...        ...        ...        ...   \n",
       "2016-08-01   7.142857  28.571429  50.000000   3.571429  46.428571  35.714286   \n",
       "2016-09-01   3.571429  28.571429  53.571429  10.714286  35.714286  39.285714   \n",
       "2016-10-01  10.714286  32.142857  42.857143  39.285714  17.857143  28.571429   \n",
       "2016-11-01  25.000000  25.000000  35.714286  39.285714  25.000000  21.428571   \n",
       "2016-12-01  35.714286  21.428571  28.571429  32.142857  28.571429  25.000000   \n",
       "\n",
       "               (5, 1)     (5, 2)     (5, 3)  obs  \n",
       "time                                              \n",
       "1993-03-01  25.000000  35.714286  10.714286    1  \n",
       "1993-04-01  60.714286  32.142857   7.142857    1  \n",
       "1993-05-01  21.428571  50.000000  14.285714    1  \n",
       "1993-06-01  35.714286  32.142857  17.857143    2  \n",
       "1993-07-01   7.142857  57.142857  21.428571    1  \n",
       "...               ...        ...        ...  ...  \n",
       "2016-08-01  10.714286  28.571429  46.428571    3  \n",
       "2016-09-01  25.000000  35.714286  25.000000    3  \n",
       "2016-10-01  35.714286  28.571429  21.428571    3  \n",
       "2016-11-01  42.857143  17.857143  25.000000    3  \n",
       "2016-12-01  32.142857  25.000000  28.571429    3  \n",
       "\n",
       "[286 rows x 10 columns]"
      ]
     },
     "execution_count": 113,
     "metadata": {},
     "output_type": "execute_result"
    }
   ],
   "source": [
    "df_quantile_probabilities_obs"
   ]
  },
  {
   "cell_type": "code",
   "execution_count": 114,
   "id": "480b68d6-f9cb-477d-a239-8c2c6b2e4835",
   "metadata": {
    "execution": {
     "iopub.execute_input": "2021-08-20T05:18:09.373525Z",
     "iopub.status.busy": "2021-08-20T05:18:09.373183Z",
     "iopub.status.idle": "2021-08-20T05:18:09.387410Z",
     "shell.execute_reply": "2021-08-20T05:18:09.387101Z"
    },
    "papermill": {
     "duration": 0.151621,
     "end_time": "2021-08-20T05:18:09.387491",
     "exception": false,
     "start_time": "2021-08-20T05:18:09.235870",
     "status": "completed"
    },
    "tags": []
   },
   "outputs": [],
   "source": [
    "def compare(df): \n",
    "    acc = (df.forecast == df.obs).sum() / len(df)\n",
    "    return acc"
   ]
  },
  {
   "cell_type": "code",
   "execution_count": 115,
   "id": "120b9553-569d-4147-b73f-104af97bf2d8",
   "metadata": {
    "execution": {
     "iopub.execute_input": "2021-08-20T05:18:09.657387Z",
     "iopub.status.busy": "2021-08-20T05:18:09.657028Z",
     "iopub.status.idle": "2021-08-20T05:18:09.705388Z",
     "shell.execute_reply": "2021-08-20T05:18:09.705010Z"
    },
    "papermill": {
     "duration": 0.184827,
     "end_time": "2021-08-20T05:18:09.705474",
     "exception": false,
     "start_time": "2021-08-20T05:18:09.520647",
     "status": "completed"
    },
    "tags": []
   },
   "outputs": [
    {
     "name": "stdout",
     "output_type": "stream",
     "text": [
      "--------------------------------------------------\n",
      "\n",
      "relative frequency of the tercile categories:\n",
      "\n",
      "1    0.385417\n",
      "3    0.354167\n",
      "2    0.260417\n",
      "dtype: float64\n",
      "\n",
      "forecast accuracy\n",
      "\n",
      "0.37894736842105264\n",
      "--------------------------------------------------\n",
      "\n",
      "relative frequency of the tercile categories:\n",
      "\n",
      "1    0.378472\n",
      "3    0.340278\n",
      "2    0.281250\n",
      "dtype: float64\n",
      "\n",
      "forecast accuracy\n",
      "\n",
      "0.34507042253521125\n",
      "--------------------------------------------------\n",
      "\n",
      "relative frequency of the tercile categories:\n",
      "\n",
      "1    0.388889\n",
      "3    0.347222\n",
      "2    0.263889\n",
      "dtype: float64\n",
      "\n",
      "forecast accuracy\n",
      "\n",
      "0.36395759717314485\n"
     ]
    }
   ],
   "source": [
    "validation = {}\n",
    "validation_seasonal = {}\n",
    "\n",
    "validation[shape_name] = {}\n",
    "validation_seasonal[shape_name] = {}\n",
    "\n",
    "for step in steps: \n",
    "    \n",
    "    df_hindcasts = df_quantile_probabilities.xs(step, axis=1, level=0)\n",
    "    \n",
    "    df_hindcasts.index = df_hindcasts.index + pd.offsets.MonthBegin(step)\n",
    "    \n",
    "    df_hindcasts_most_likely_category = df_hindcasts.idxmax(axis=1)\n",
    "    \n",
    "    print(50 * \"-\")\n",
    "    print(f\"\\nrelative frequency of the {quantiles} categories:\\n\") \n",
    "    print(pd.value_counts(df_hindcasts_most_likely_category) / len(df_hindcasts_most_likely_category))\n",
    "        \n",
    "    df_merge = pd.concat([df_hindcasts_most_likely_category.to_frame(name='forecast'), dset_obs_cat.to_frame(name='obs')], axis=1).dropna()\n",
    "\n",
    "    acc = compare(df_merge)\n",
    "    \n",
    "    acc_seasonal = df_merge.groupby(df_merge.index.month).apply(compare)\n",
    "    \n",
    "    print(\"\\nforecast accuracy\\n\")\n",
    "    \n",
    "    print((df_merge.forecast == df_merge.obs).sum() / len(df_merge))\n",
    "    \n",
    "    validation[shape_name][step] = acc \n",
    "    \n",
    "    validation_seasonal[shape_name][step] = acc_seasonal"
   ]
  },
  {
   "cell_type": "code",
   "execution_count": 116,
   "id": "a65e3796-4ace-4fec-994f-67ab361a8950",
   "metadata": {
    "execution": {
     "iopub.execute_input": "2021-08-20T05:18:09.977681Z",
     "iopub.status.busy": "2021-08-20T05:18:09.977328Z",
     "iopub.status.idle": "2021-08-20T05:18:09.991900Z",
     "shell.execute_reply": "2021-08-20T05:18:09.991540Z"
    },
    "papermill": {
     "duration": 0.15308,
     "end_time": "2021-08-20T05:18:09.991986",
     "exception": false,
     "start_time": "2021-08-20T05:18:09.838906",
     "status": "completed"
    },
    "tags": []
   },
   "outputs": [],
   "source": [
    "validation = pd.DataFrame(validation)"
   ]
  },
  {
   "cell_type": "code",
   "execution_count": 117,
   "id": "6bbe54bf-35f5-4d5c-aaf2-0b7bd352283d",
   "metadata": {
    "execution": {
     "iopub.execute_input": "2021-08-20T05:18:10.261353Z",
     "iopub.status.busy": "2021-08-20T05:18:10.261002Z",
     "iopub.status.idle": "2021-08-20T05:18:10.279514Z",
     "shell.execute_reply": "2021-08-20T05:18:10.279187Z"
    },
    "papermill": {
     "duration": 0.153388,
     "end_time": "2021-08-20T05:18:10.279593",
     "exception": false,
     "start_time": "2021-08-20T05:18:10.126205",
     "status": "completed"
    },
    "tags": []
   },
   "outputs": [
    {
     "data": {
      "text/html": [
       "<div>\n",
       "<style scoped>\n",
       "    .dataframe tbody tr th:only-of-type {\n",
       "        vertical-align: middle;\n",
       "    }\n",
       "\n",
       "    .dataframe tbody tr th {\n",
       "        vertical-align: top;\n",
       "    }\n",
       "\n",
       "    .dataframe thead th {\n",
       "        text-align: right;\n",
       "    }\n",
       "</style>\n",
       "<table border=\"1\" class=\"dataframe\">\n",
       "  <thead>\n",
       "    <tr style=\"text-align: right;\">\n",
       "      <th></th>\n",
       "      <th>Papua New Guinea</th>\n",
       "    </tr>\n",
       "  </thead>\n",
       "  <tbody>\n",
       "    <tr>\n",
       "      <th>3</th>\n",
       "      <td>0.378947</td>\n",
       "    </tr>\n",
       "    <tr>\n",
       "      <th>4</th>\n",
       "      <td>0.345070</td>\n",
       "    </tr>\n",
       "    <tr>\n",
       "      <th>5</th>\n",
       "      <td>0.363958</td>\n",
       "    </tr>\n",
       "  </tbody>\n",
       "</table>\n",
       "</div>"
      ],
      "text/plain": [
       "   Papua New Guinea\n",
       "3          0.378947\n",
       "4          0.345070\n",
       "5          0.363958"
      ]
     },
     "execution_count": 117,
     "metadata": {},
     "output_type": "execute_result"
    }
   ],
   "source": [
    "validation"
   ]
  },
  {
   "cell_type": "code",
   "execution_count": 118,
   "id": "5b85372a-ffa9-484d-9d10-b1e0ac3dbc68",
   "metadata": {
    "execution": {
     "iopub.execute_input": "2021-08-20T05:18:10.548317Z",
     "iopub.status.busy": "2021-08-20T05:18:10.547994Z",
     "iopub.status.idle": "2021-08-20T05:18:10.562824Z",
     "shell.execute_reply": "2021-08-20T05:18:10.562473Z"
    },
    "papermill": {
     "duration": 0.149738,
     "end_time": "2021-08-20T05:18:10.562909",
     "exception": false,
     "start_time": "2021-08-20T05:18:10.413171",
     "status": "completed"
    },
    "tags": []
   },
   "outputs": [],
   "source": [
    "validation.to_csv(outputs_path.joinpath(f\"validation_{utils.sanitize_name(shape_name)}_{period}_{GCM}_{quantiles}.csv\"))"
   ]
  },
  {
   "cell_type": "code",
   "execution_count": 119,
   "id": "47638178-d26c-4758-9cd0-8ce19652d568",
   "metadata": {
    "execution": {
     "iopub.execute_input": "2021-08-20T05:18:10.834112Z",
     "iopub.status.busy": "2021-08-20T05:18:10.833774Z",
     "iopub.status.idle": "2021-08-20T05:18:11.041650Z",
     "shell.execute_reply": "2021-08-20T05:18:11.041314Z"
    },
    "papermill": {
     "duration": 0.344935,
     "end_time": "2021-08-20T05:18:11.041730",
     "exception": false,
     "start_time": "2021-08-20T05:18:10.696795",
     "status": "completed"
    },
    "tags": []
   },
   "outputs": [
    {
     "data": {
      "image/png": "[encoded data removed]",
      "text/plain": [
       "<Figure size 288x360 with 1 Axes>"
      ]
     },
     "metadata": {
      "needs_background": "light"
     },
     "output_type": "display_data"
    }
   ],
   "source": [
    "f = validation.plot(kind='bar', ylabel='Accuracy [0 - 1]', xlabel='leadtime (months, season end)', ylim=[None, 0.8], legend=None, figsize=(4,5), width=0.9) \n",
    "f.axes.set_title(f\"{shape_name}\\n{period} forecasts from {GCM}\")\n",
    "f.axes.axhline(0.3333, color='0.8')\n",
    "f.axes.grid(ls=':')\n",
    "[l.set_rotation(0) for l in f.axes.xaxis.get_ticklabels()]\n",
    "fig = plt.gcf()\n",
    "fig.savefig(fig_path.joinpath(f'{utils.sanitize_name(shape_name)}_{period}_{GCM}_{quantiles}_probs.png'), dpi=200, bbox_inches='tight', facecolor='w')"
   ]
  },
  {
   "cell_type": "code",
   "execution_count": null,
   "id": "b3b4baa4-30dc-4a67-85ef-5680fe30360f",
   "metadata": {
    "papermill": {
     "duration": 0.135107,
     "end_time": "2021-08-20T05:18:11.312998",
     "exception": false,
     "start_time": "2021-08-20T05:18:11.177891",
     "status": "completed"
    },
    "tags": []
   },
   "outputs": [],
   "source": []
  }
 ],
 "metadata": {
  "kernelspec": {
   "display_name": "Python 3",
   "language": "python",
   "name": "python3"
  },
  "language_info": {
   "codemirror_mode": {
    "name": "ipython",
    "version": 3
   },
   "file_extension": ".py",
   "mimetype": "text/x-python",
   "name": "python",
   "nbconvert_exporter": "python",
   "pygments_lexer": "ipython3",
   "version": "3.8.10"
  },
  "papermill": {
   "default_parameters": {},
   "duration": 104.460533,
   "end_time": "2021-08-20T05:18:12.054774",
   "environment_variables": {},
   "exception": null,
   "input_path": "GCMs_countries_hindcast_climatologies.ipynb",
   "output_path": "GCMs_countries_hindcast_climatologies.ipynb",
   "parameters": {
    "GCM": "NCEP",
    "shape_name": "Papua New Guinea"
   },
   "start_time": "2021-08-20T05:16:27.594241",
   "version": "2.3.3"
  }
 },
 "nbformat": 4,
 "nbformat_minor": 5
}