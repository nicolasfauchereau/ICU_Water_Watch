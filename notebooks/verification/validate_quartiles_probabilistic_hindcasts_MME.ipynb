{
 "cells": [
  {
   "cell_type": "code",
   "execution_count": 1,
   "id": "813b57b4",
   "metadata": {
    "execution": {
     "iopub.execute_input": "2021-12-21T02:52:09.764233Z",
     "iopub.status.busy": "2021-12-21T02:52:09.763901Z",
     "iopub.status.idle": "2021-12-21T02:52:09.771651Z",
     "shell.execute_reply": "2021-12-21T02:52:09.771275Z"
    },
    "papermill": {
     "duration": 0.040917,
     "end_time": "2021-12-21T02:52:09.771751",
     "exception": false,
     "start_time": "2021-12-21T02:52:09.730834",
     "status": "completed"
    },
    "tags": []
   },
   "outputs": [],
   "source": [
    "%load_ext autoreload\n",
    "%autoreload 2"
   ]
  },
  {
   "cell_type": "code",
   "execution_count": 2,
   "id": "ca11b202",
   "metadata": {
    "execution": {
     "iopub.execute_input": "2021-12-21T02:52:09.832304Z",
     "iopub.status.busy": "2021-12-21T02:52:09.831779Z",
     "iopub.status.idle": "2021-12-21T02:52:11.022772Z",
     "shell.execute_reply": "2021-12-21T02:52:11.022431Z"
    },
    "papermill": {
     "duration": 1.222714,
     "end_time": "2021-12-21T02:52:11.022853",
     "exception": false,
     "start_time": "2021-12-21T02:52:09.800139",
     "status": "completed"
    },
    "tags": []
   },
   "outputs": [],
   "source": [
    "%matplotlib inline\n",
    "\n",
    "### os \n",
    "import os \n",
    "import sys\n",
    "\n",
    "### datetimes \n",
    "from datetime import datetime, timedelta\n",
    "\n",
    "### scipy \n",
    "import numpy as np \n",
    "import pandas as pd\n",
    "import xarray as xr\n",
    "from cartopy import crs as ccrs \n",
    "\n",
    "### plotting \n",
    "from matplotlib import pyplot as plt\n",
    "import seaborn as sns\n",
    "\n",
    "### dask \n",
    "from dask.diagnostics import ProgressBar"
   ]
  },
  {
   "cell_type": "code",
   "execution_count": 3,
   "id": "221ef6d1",
   "metadata": {
    "execution": {
     "iopub.execute_input": "2021-12-21T02:52:11.077844Z",
     "iopub.status.busy": "2021-12-21T02:52:11.077337Z",
     "iopub.status.idle": "2021-12-21T02:52:11.089347Z",
     "shell.execute_reply": "2021-12-21T02:52:11.088885Z"
    },
    "papermill": {
     "duration": 0.041115,
     "end_time": "2021-12-21T02:52:11.089432",
     "exception": false,
     "start_time": "2021-12-21T02:52:11.048317",
     "status": "completed"
    },
    "tags": []
   },
   "outputs": [],
   "source": [
    "import dask"
   ]
  },
  {
   "cell_type": "markdown",
   "id": "14721c2c",
   "metadata": {
    "papermill": {
     "duration": 0.025467,
     "end_time": "2021-12-21T02:52:11.140638",
     "exception": false,
     "start_time": "2021-12-21T02:52:11.115171",
     "status": "completed"
    },
    "tags": []
   },
   "source": [
    "### paths "
   ]
  },
  {
   "cell_type": "code",
   "execution_count": 4,
   "id": "f3077e1d",
   "metadata": {
    "execution": {
     "iopub.execute_input": "2021-12-21T02:52:11.194755Z",
     "iopub.status.busy": "2021-12-21T02:52:11.194194Z",
     "iopub.status.idle": "2021-12-21T02:52:11.205993Z",
     "shell.execute_reply": "2021-12-21T02:52:11.205721Z"
    },
    "papermill": {
     "duration": 0.040048,
     "end_time": "2021-12-21T02:52:11.206076",
     "exception": false,
     "start_time": "2021-12-21T02:52:11.166028",
     "status": "completed"
    },
    "tags": []
   },
   "outputs": [],
   "source": [
    "import pathlib\n",
    "\n",
    "HOME = pathlib.Path.home()\n",
    "CWD = pathlib.Path.cwd() "
   ]
  },
  {
   "cell_type": "markdown",
   "id": "fc291913",
   "metadata": {
    "papermill": {
     "duration": 0.025395,
     "end_time": "2021-12-21T02:52:11.257101",
     "exception": false,
     "start_time": "2021-12-21T02:52:11.231706",
     "status": "completed"
    },
    "tags": []
   },
   "source": [
    "### load local libraries "
   ]
  },
  {
   "cell_type": "code",
   "execution_count": 5,
   "id": "0c5b91d1",
   "metadata": {
    "execution": {
     "iopub.execute_input": "2021-12-21T02:52:11.311261Z",
     "iopub.status.busy": "2021-12-21T02:52:11.310755Z",
     "iopub.status.idle": "2021-12-21T02:52:11.322200Z",
     "shell.execute_reply": "2021-12-21T02:52:11.321873Z"
    },
    "papermill": {
     "duration": 0.040024,
     "end_time": "2021-12-21T02:52:11.322332",
     "exception": false,
     "start_time": "2021-12-21T02:52:11.282308",
     "status": "completed"
    },
    "tags": []
   },
   "outputs": [],
   "source": [
    "import pathlib\n",
    "\n",
    "HOME = pathlib.Path.home()\n",
    "CWD = pathlib.Path.cwd() "
   ]
  },
  {
   "cell_type": "code",
   "execution_count": 6,
   "id": "cc42ddbf",
   "metadata": {
    "execution": {
     "iopub.execute_input": "2021-12-21T02:52:11.375236Z",
     "iopub.status.busy": "2021-12-21T02:52:11.374687Z",
     "iopub.status.idle": "2021-12-21T02:52:11.387407Z",
     "shell.execute_reply": "2021-12-21T02:52:11.387122Z"
    },
    "papermill": {
     "duration": 0.039947,
     "end_time": "2021-12-21T02:52:11.387493",
     "exception": false,
     "start_time": "2021-12-21T02:52:11.347546",
     "status": "completed"
    },
    "tags": []
   },
   "outputs": [],
   "source": [
    "sys.path.append('../../') "
   ]
  },
  {
   "cell_type": "code",
   "execution_count": 7,
   "id": "38993952",
   "metadata": {
    "execution": {
     "iopub.execute_input": "2021-12-21T02:52:11.442669Z",
     "iopub.status.busy": "2021-12-21T02:52:11.442111Z",
     "iopub.status.idle": "2021-12-21T02:52:23.305345Z",
     "shell.execute_reply": "2021-12-21T02:52:23.305010Z"
    },
    "papermill": {
     "duration": 11.892197,
     "end_time": "2021-12-21T02:52:23.305427",
     "exception": false,
     "start_time": "2021-12-21T02:52:11.413230",
     "status": "completed"
    },
    "tags": []
   },
   "outputs": [],
   "source": [
    "from ICU_Water_Watch import geo, C3S, domains, plot, verification"
   ]
  },
  {
   "cell_type": "code",
   "execution_count": 8,
   "id": "b794a012",
   "metadata": {
    "execution": {
     "iopub.execute_input": "2021-12-21T02:52:23.357422Z",
     "iopub.status.busy": "2021-12-21T02:52:23.357114Z",
     "iopub.status.idle": "2021-12-21T02:52:23.374545Z",
     "shell.execute_reply": "2021-12-21T02:52:23.374214Z"
    },
    "papermill": {
     "duration": 0.044736,
     "end_time": "2021-12-21T02:52:23.374623",
     "exception": false,
     "start_time": "2021-12-21T02:52:23.329887",
     "status": "completed"
    },
    "tags": []
   },
   "outputs": [
    {
     "data": {
      "text/plain": [
       "{'Tropical_Pacific': [140, 220, -25, 25],\n",
       " 'SW_Pacific': [172.5, 190, -22.5, -12],\n",
       " 'Fiji': [175, 183, -21, -15],\n",
       " 'NZ': [161, 181, -50, -30],\n",
       " 'Pacific': [140, 240, -50, 25],\n",
       " 'C3S_download': [100, 240, -50, 30],\n",
       " 'Water_Watch': [125, 240, -35, 25]}"
      ]
     },
     "execution_count": 8,
     "metadata": {},
     "output_type": "execute_result"
    }
   ],
   "source": [
    "domains.domains"
   ]
  },
  {
   "cell_type": "code",
   "execution_count": 9,
   "id": "fa327c0d",
   "metadata": {
    "execution": {
     "iopub.execute_input": "2021-12-21T02:52:23.430142Z",
     "iopub.status.busy": "2021-12-21T02:52:23.429825Z",
     "iopub.status.idle": "2021-12-21T02:52:23.444258Z",
     "shell.execute_reply": "2021-12-21T02:52:23.443926Z"
    },
    "papermill": {
     "duration": 0.044761,
     "end_time": "2021-12-21T02:52:23.444340",
     "exception": false,
     "start_time": "2021-12-21T02:52:23.399579",
     "status": "completed"
    },
    "tags": []
   },
   "outputs": [],
   "source": [
    "domain = domains.domains['Water_Watch']"
   ]
  },
  {
   "cell_type": "markdown",
   "id": "b9344de4",
   "metadata": {
    "papermill": {
     "duration": 0.024956,
     "end_time": "2021-12-21T02:52:23.495041",
     "exception": false,
     "start_time": "2021-12-21T02:52:23.470085",
     "status": "completed"
    },
    "tags": []
   },
   "source": [
    "### import libraries for validation"
   ]
  },
  {
   "cell_type": "code",
   "execution_count": 10,
   "id": "f1dc92bd",
   "metadata": {
    "execution": {
     "iopub.execute_input": "2021-12-21T02:52:23.547861Z",
     "iopub.status.busy": "2021-12-21T02:52:23.547544Z",
     "iopub.status.idle": "2021-12-21T02:52:23.562352Z",
     "shell.execute_reply": "2021-12-21T02:52:23.561953Z"
    },
    "papermill": {
     "duration": 0.042411,
     "end_time": "2021-12-21T02:52:23.562435",
     "exception": false,
     "start_time": "2021-12-21T02:52:23.520024",
     "status": "completed"
    },
    "tags": []
   },
   "outputs": [],
   "source": [
    "import climpred\n",
    "from climpred import HindcastEnsemble\n",
    "import xskillscore as xs"
   ]
  },
  {
   "cell_type": "markdown",
   "id": "3d327ee5",
   "metadata": {
    "papermill": {
     "duration": 0.025048,
     "end_time": "2021-12-21T02:52:23.612446",
     "exception": false,
     "start_time": "2021-12-21T02:52:23.587398",
     "status": "completed"
    },
    "tags": []
   },
   "source": [
    "### parameters for papermill "
   ]
  },
  {
   "cell_type": "code",
   "execution_count": 11,
   "id": "5970c94f",
   "metadata": {
    "execution": {
     "iopub.execute_input": "2021-12-21T02:52:23.665540Z",
     "iopub.status.busy": "2021-12-21T02:52:23.665218Z",
     "iopub.status.idle": "2021-12-21T02:52:23.679866Z",
     "shell.execute_reply": "2021-12-21T02:52:23.679589Z"
    },
    "papermill": {
     "duration": 0.042603,
     "end_time": "2021-12-21T02:52:23.679948",
     "exception": false,
     "start_time": "2021-12-21T02:52:23.637345",
     "status": "completed"
    },
    "tags": [
     "parameters"
    ]
   },
   "outputs": [],
   "source": [
    "verif_dset = 'ERA'\n",
    "quantile = 'quartile'\n",
    "varname = 'TPRATE'\n",
    "period = 'monthly'\n",
    "step = 1"
   ]
  },
  {
   "cell_type": "code",
   "execution_count": 12,
   "id": "2cd6d303",
   "metadata": {
    "execution": {
     "iopub.execute_input": "2021-12-21T02:52:23.740396Z",
     "iopub.status.busy": "2021-12-21T02:52:23.740076Z",
     "iopub.status.idle": "2021-12-21T02:52:23.754471Z",
     "shell.execute_reply": "2021-12-21T02:52:23.754135Z"
    },
    "papermill": {
     "duration": 0.041238,
     "end_time": "2021-12-21T02:52:23.754550",
     "exception": false,
     "start_time": "2021-12-21T02:52:23.713312",
     "status": "completed"
    },
    "tags": [
     "injected-parameters"
    ]
   },
   "outputs": [],
   "source": [
    "# Parameters\n",
    "step = 3\n",
    "period = \"seasonal\"\n"
   ]
  },
  {
   "cell_type": "code",
   "execution_count": 13,
   "id": "10969299",
   "metadata": {
    "execution": {
     "iopub.execute_input": "2021-12-21T02:52:23.808272Z",
     "iopub.status.busy": "2021-12-21T02:52:23.807895Z",
     "iopub.status.idle": "2021-12-21T02:52:23.822606Z",
     "shell.execute_reply": "2021-12-21T02:52:23.822189Z"
    },
    "papermill": {
     "duration": 0.042797,
     "end_time": "2021-12-21T02:52:23.822689",
     "exception": false,
     "start_time": "2021-12-21T02:52:23.779892",
     "status": "completed"
    },
    "tags": []
   },
   "outputs": [],
   "source": [
    "opath_mme_probabilities = CWD.parents[1].joinpath(f\"outputs/C3S_MME_{quantile}_probabilities\")"
   ]
  },
  {
   "cell_type": "code",
   "execution_count": 14,
   "id": "9b374218",
   "metadata": {
    "execution": {
     "iopub.execute_input": "2021-12-21T02:52:23.875772Z",
     "iopub.status.busy": "2021-12-21T02:52:23.875454Z",
     "iopub.status.idle": "2021-12-21T02:52:23.892787Z",
     "shell.execute_reply": "2021-12-21T02:52:23.891698Z"
    },
    "papermill": {
     "duration": 0.044756,
     "end_time": "2021-12-21T02:52:23.893029",
     "exception": false,
     "start_time": "2021-12-21T02:52:23.848273",
     "status": "completed"
    },
    "tags": []
   },
   "outputs": [],
   "source": [
    "lfiles = list(opath_mme_probabilities.glob(\"*\"))"
   ]
  },
  {
   "cell_type": "code",
   "execution_count": 15,
   "id": "cd4593c1",
   "metadata": {
    "execution": {
     "iopub.execute_input": "2021-12-21T02:52:23.963437Z",
     "iopub.status.busy": "2021-12-21T02:52:23.963115Z",
     "iopub.status.idle": "2021-12-21T02:52:23.978309Z",
     "shell.execute_reply": "2021-12-21T02:52:23.977970Z"
    },
    "papermill": {
     "duration": 0.043565,
     "end_time": "2021-12-21T02:52:23.978387",
     "exception": false,
     "start_time": "2021-12-21T02:52:23.934822",
     "status": "completed"
    },
    "tags": []
   },
   "outputs": [
    {
     "data": {
      "text/plain": [
       "[PosixPath('/home/nicolasf/operational/ICU/development/hotspots/code/ICU_Water_Watch/outputs/C3S_MME_quartile_probabilities/C3S_MME_monthly_quartile_probabilities.zarr'),\n",
       " PosixPath('/home/nicolasf/operational/ICU/development/hotspots/code/ICU_Water_Watch/outputs/C3S_MME_quartile_probabilities/C3S_MME_seasonal_quartile_probabilities.zarr')]"
      ]
     },
     "execution_count": 15,
     "metadata": {},
     "output_type": "execute_result"
    }
   ],
   "source": [
    "lfiles"
   ]
  },
  {
   "cell_type": "code",
   "execution_count": 16,
   "id": "5daa4481",
   "metadata": {
    "execution": {
     "iopub.execute_input": "2021-12-21T02:52:24.031395Z",
     "iopub.status.busy": "2021-12-21T02:52:24.031073Z",
     "iopub.status.idle": "2021-12-21T02:52:24.281896Z",
     "shell.execute_reply": "2021-12-21T02:52:24.281557Z"
    },
    "papermill": {
     "duration": 0.278177,
     "end_time": "2021-12-21T02:52:24.281976",
     "exception": false,
     "start_time": "2021-12-21T02:52:24.003799",
     "status": "completed"
    },
    "tags": []
   },
   "outputs": [],
   "source": [
    "dset_mme = xr.open_zarr(opath_mme_probabilities.joinpath(f\"C3S_MME_{period}_{quantile}_probabilities.zarr\"))"
   ]
  },
  {
   "cell_type": "code",
   "execution_count": 17,
   "id": "d72e090c",
   "metadata": {
    "execution": {
     "iopub.execute_input": "2021-12-21T02:52:24.335613Z",
     "iopub.status.busy": "2021-12-21T02:52:24.335301Z",
     "iopub.status.idle": "2021-12-21T02:52:24.370097Z",
     "shell.execute_reply": "2021-12-21T02:52:24.369772Z"
    },
    "papermill": {
     "duration": 0.062801,
     "end_time": "2021-12-21T02:52:24.370176",
     "exception": false,
     "start_time": "2021-12-21T02:52:24.307375",
     "status": "completed"
    },
    "tags": []
   },
   "outputs": [
    {
     "data": {
      "text/html": [
       "<div><svg style=\"position: absolute; width: 0; height: 0; overflow: hidden\">\n",
       "<defs>\n",
       "<symbol id=\"icon-database\" viewBox=\"0 0 32 32\">\n",
       "<path d=\"M16 0c-8.837 0-16 2.239-16 5v4c0 2.761 7.163 5 16 5s16-2.239 16-5v-4c0-2.761-7.163-5-16-5z\"></path>\n",
       "<path d=\"M16 17c-8.837 0-16-2.239-16-5v6c0 2.761 7.163 5 16 5s16-2.239 16-5v-6c0 2.761-7.163 5-16 5z\"></path>\n",
       "<path d=\"M16 26c-8.837 0-16-2.239-16-5v6c0 2.761 7.163 5 16 5s16-2.239 16-5v-6c0 2.761-7.163 5-16 5z\"></path>\n",
       "</symbol>\n",
       "<symbol id=\"icon-file-text2\" viewBox=\"0 0 32 32\">\n",
       "<path d=\"M28.681 7.159c-0.694-0.947-1.662-2.053-2.724-3.116s-2.169-2.030-3.116-2.724c-1.612-1.182-2.393-1.319-2.841-1.319h-15.5c-1.378 0-2.5 1.121-2.5 2.5v27c0 1.378 1.122 2.5 2.5 2.5h23c1.378 0 2.5-1.122 2.5-2.5v-19.5c0-0.448-0.137-1.23-1.319-2.841zM24.543 5.457c0.959 0.959 1.712 1.825 2.268 2.543h-4.811v-4.811c0.718 0.556 1.584 1.309 2.543 2.268zM28 29.5c0 0.271-0.229 0.5-0.5 0.5h-23c-0.271 0-0.5-0.229-0.5-0.5v-27c0-0.271 0.229-0.5 0.5-0.5 0 0 15.499-0 15.5 0v7c0 0.552 0.448 1 1 1h7v19.5z\"></path>\n",
       "<path d=\"M23 26h-14c-0.552 0-1-0.448-1-1s0.448-1 1-1h14c0.552 0 1 0.448 1 1s-0.448 1-1 1z\"></path>\n",
       "<path d=\"M23 22h-14c-0.552 0-1-0.448-1-1s0.448-1 1-1h14c0.552 0 1 0.448 1 1s-0.448 1-1 1z\"></path>\n",
       "<path d=\"M23 18h-14c-0.552 0-1-0.448-1-1s0.448-1 1-1h14c0.552 0 1 0.448 1 1s-0.448 1-1 1z\"></path>\n",
       "</symbol>\n",
       "</defs>\n",
       "</svg>\n",
       "<style>/* CSS stylesheet for displaying xarray objects in jupyterlab.\n",
       " *\n",
       " */\n",
       "\n",
       ":root {\n",
       "  --xr-font-color0: var(--jp-content-font-color0, rgba(0, 0, 0, 1));\n",
       "  --xr-font-color2: var(--jp-content-font-color2, rgba(0, 0, 0, 0.54));\n",
       "  --xr-font-color3: var(--jp-content-font-color3, rgba(0, 0, 0, 0.38));\n",
       "  --xr-border-color: var(--jp-border-color2, #e0e0e0);\n",
       "  --xr-disabled-color: var(--jp-layout-color3, #bdbdbd);\n",
       "  --xr-background-color: var(--jp-layout-color0, white);\n",
       "  --xr-background-color-row-even: var(--jp-layout-color1, white);\n",
       "  --xr-background-color-row-odd: var(--jp-layout-color2, #eeeeee);\n",
       "}\n",
       "\n",
       "html[theme=dark],\n",
       "body.vscode-dark {\n",
       "  --xr-font-color0: rgba(255, 255, 255, 1);\n",
       "  --xr-font-color2: rgba(255, 255, 255, 0.54);\n",
       "  --xr-font-color3: rgba(255, 255, 255, 0.38);\n",
       "  --xr-border-color: #1F1F1F;\n",
       "  --xr-disabled-color: #515151;\n",
       "  --xr-background-color: #111111;\n",
       "  --xr-background-color-row-even: #111111;\n",
       "  --xr-background-color-row-odd: #313131;\n",
       "}\n",
       "\n",
       ".xr-wrap {\n",
       "  display: block;\n",
       "  min-width: 300px;\n",
       "  max-width: 700px;\n",
       "}\n",
       "\n",
       ".xr-text-repr-fallback {\n",
       "  /* fallback to plain text repr when CSS is not injected (untrusted notebook) */\n",
       "  display: none;\n",
       "}\n",
       "\n",
       ".xr-header {\n",
       "  padding-top: 6px;\n",
       "  padding-bottom: 6px;\n",
       "  margin-bottom: 4px;\n",
       "  border-bottom: solid 1px var(--xr-border-color);\n",
       "}\n",
       "\n",
       ".xr-header > div,\n",
       ".xr-header > ul {\n",
       "  display: inline;\n",
       "  margin-top: 0;\n",
       "  margin-bottom: 0;\n",
       "}\n",
       "\n",
       ".xr-obj-type,\n",
       ".xr-array-name {\n",
       "  margin-left: 2px;\n",
       "  margin-right: 10px;\n",
       "}\n",
       "\n",
       ".xr-obj-type {\n",
       "  color: var(--xr-font-color2);\n",
       "}\n",
       "\n",
       ".xr-sections {\n",
       "  padding-left: 0 !important;\n",
       "  display: grid;\n",
       "  grid-template-columns: 150px auto auto 1fr 20px 20px;\n",
       "}\n",
       "\n",
       ".xr-section-item {\n",
       "  display: contents;\n",
       "}\n",
       "\n",
       ".xr-section-item input {\n",
       "  display: none;\n",
       "}\n",
       "\n",
       ".xr-section-item input + label {\n",
       "  color: var(--xr-disabled-color);\n",
       "}\n",
       "\n",
       ".xr-section-item input:enabled + label {\n",
       "  cursor: pointer;\n",
       "  color: var(--xr-font-color2);\n",
       "}\n",
       "\n",
       ".xr-section-item input:enabled + label:hover {\n",
       "  color: var(--xr-font-color0);\n",
       "}\n",
       "\n",
       ".xr-section-summary {\n",
       "  grid-column: 1;\n",
       "  color: var(--xr-font-color2);\n",
       "  font-weight: 500;\n",
       "}\n",
       "\n",
       ".xr-section-summary > span {\n",
       "  display: inline-block;\n",
       "  padding-left: 0.5em;\n",
       "}\n",
       "\n",
       ".xr-section-summary-in:disabled + label {\n",
       "  color: var(--xr-font-color2);\n",
       "}\n",
       "\n",
       ".xr-section-summary-in + label:before {\n",
       "  display: inline-block;\n",
       "  content: '►';\n",
       "  font-size: 11px;\n",
       "  width: 15px;\n",
       "  text-align: center;\n",
       "}\n",
       "\n",
       ".xr-section-summary-in:disabled + label:before {\n",
       "  color: var(--xr-disabled-color);\n",
       "}\n",
       "\n",
       ".xr-section-summary-in:checked + label:before {\n",
       "  content: '▼';\n",
       "}\n",
       "\n",
       ".xr-section-summary-in:checked + label > span {\n",
       "  display: none;\n",
       "}\n",
       "\n",
       ".xr-section-summary,\n",
       ".xr-section-inline-details {\n",
       "  padding-top: 4px;\n",
       "  padding-bottom: 4px;\n",
       "}\n",
       "\n",
       ".xr-section-inline-details {\n",
       "  grid-column: 2 / -1;\n",
       "}\n",
       "\n",
       ".xr-section-details {\n",
       "  display: none;\n",
       "  grid-column: 1 / -1;\n",
       "  margin-bottom: 5px;\n",
       "}\n",
       "\n",
       ".xr-section-summary-in:checked ~ .xr-section-details {\n",
       "  display: contents;\n",
       "}\n",
       "\n",
       ".xr-array-wrap {\n",
       "  grid-column: 1 / -1;\n",
       "  display: grid;\n",
       "  grid-template-columns: 20px auto;\n",
       "}\n",
       "\n",
       ".xr-array-wrap > label {\n",
       "  grid-column: 1;\n",
       "  vertical-align: top;\n",
       "}\n",
       "\n",
       ".xr-preview {\n",
       "  color: var(--xr-font-color3);\n",
       "}\n",
       "\n",
       ".xr-array-preview,\n",
       ".xr-array-data {\n",
       "  padding: 0 5px !important;\n",
       "  grid-column: 2;\n",
       "}\n",
       "\n",
       ".xr-array-data,\n",
       ".xr-array-in:checked ~ .xr-array-preview {\n",
       "  display: none;\n",
       "}\n",
       "\n",
       ".xr-array-in:checked ~ .xr-array-data,\n",
       ".xr-array-preview {\n",
       "  display: inline-block;\n",
       "}\n",
       "\n",
       ".xr-dim-list {\n",
       "  display: inline-block !important;\n",
       "  list-style: none;\n",
       "  padding: 0 !important;\n",
       "  margin: 0;\n",
       "}\n",
       "\n",
       ".xr-dim-list li {\n",
       "  display: inline-block;\n",
       "  padding: 0;\n",
       "  margin: 0;\n",
       "}\n",
       "\n",
       ".xr-dim-list:before {\n",
       "  content: '(';\n",
       "}\n",
       "\n",
       ".xr-dim-list:after {\n",
       "  content: ')';\n",
       "}\n",
       "\n",
       ".xr-dim-list li:not(:last-child):after {\n",
       "  content: ',';\n",
       "  padding-right: 5px;\n",
       "}\n",
       "\n",
       ".xr-has-index {\n",
       "  font-weight: bold;\n",
       "}\n",
       "\n",
       ".xr-var-list,\n",
       ".xr-var-item {\n",
       "  display: contents;\n",
       "}\n",
       "\n",
       ".xr-var-item > div,\n",
       ".xr-var-item label,\n",
       ".xr-var-item > .xr-var-name span {\n",
       "  background-color: var(--xr-background-color-row-even);\n",
       "  margin-bottom: 0;\n",
       "}\n",
       "\n",
       ".xr-var-item > .xr-var-name:hover span {\n",
       "  padding-right: 5px;\n",
       "}\n",
       "\n",
       ".xr-var-list > li:nth-child(odd) > div,\n",
       ".xr-var-list > li:nth-child(odd) > label,\n",
       ".xr-var-list > li:nth-child(odd) > .xr-var-name span {\n",
       "  background-color: var(--xr-background-color-row-odd);\n",
       "}\n",
       "\n",
       ".xr-var-name {\n",
       "  grid-column: 1;\n",
       "}\n",
       "\n",
       ".xr-var-dims {\n",
       "  grid-column: 2;\n",
       "}\n",
       "\n",
       ".xr-var-dtype {\n",
       "  grid-column: 3;\n",
       "  text-align: right;\n",
       "  color: var(--xr-font-color2);\n",
       "}\n",
       "\n",
       ".xr-var-preview {\n",
       "  grid-column: 4;\n",
       "}\n",
       "\n",
       ".xr-var-name,\n",
       ".xr-var-dims,\n",
       ".xr-var-dtype,\n",
       ".xr-preview,\n",
       ".xr-attrs dt {\n",
       "  white-space: nowrap;\n",
       "  overflow: hidden;\n",
       "  text-overflow: ellipsis;\n",
       "  padding-right: 10px;\n",
       "}\n",
       "\n",
       ".xr-var-name:hover,\n",
       ".xr-var-dims:hover,\n",
       ".xr-var-dtype:hover,\n",
       ".xr-attrs dt:hover {\n",
       "  overflow: visible;\n",
       "  width: auto;\n",
       "  z-index: 1;\n",
       "}\n",
       "\n",
       ".xr-var-attrs,\n",
       ".xr-var-data {\n",
       "  display: none;\n",
       "  background-color: var(--xr-background-color) !important;\n",
       "  padding-bottom: 5px !important;\n",
       "}\n",
       "\n",
       ".xr-var-attrs-in:checked ~ .xr-var-attrs,\n",
       ".xr-var-data-in:checked ~ .xr-var-data {\n",
       "  display: block;\n",
       "}\n",
       "\n",
       ".xr-var-data > table {\n",
       "  float: right;\n",
       "}\n",
       "\n",
       ".xr-var-name span,\n",
       ".xr-var-data,\n",
       ".xr-attrs {\n",
       "  padding-left: 25px !important;\n",
       "}\n",
       "\n",
       ".xr-attrs,\n",
       ".xr-var-attrs,\n",
       ".xr-var-data {\n",
       "  grid-column: 1 / -1;\n",
       "}\n",
       "\n",
       "dl.xr-attrs {\n",
       "  padding: 0;\n",
       "  margin: 0;\n",
       "  display: grid;\n",
       "  grid-template-columns: 125px auto;\n",
       "}\n",
       "\n",
       ".xr-attrs dt,\n",
       ".xr-attrs dd {\n",
       "  padding: 0;\n",
       "  margin: 0;\n",
       "  float: left;\n",
       "  padding-right: 10px;\n",
       "  width: auto;\n",
       "}\n",
       "\n",
       ".xr-attrs dt {\n",
       "  font-weight: normal;\n",
       "  grid-column: 1;\n",
       "}\n",
       "\n",
       ".xr-attrs dt:hover span {\n",
       "  display: inline-block;\n",
       "  background: var(--xr-background-color);\n",
       "  padding-right: 10px;\n",
       "}\n",
       "\n",
       ".xr-attrs dd {\n",
       "  grid-column: 2;\n",
       "  white-space: pre-wrap;\n",
       "  word-break: break-all;\n",
       "}\n",
       "\n",
       ".xr-icon-database,\n",
       ".xr-icon-file-text2 {\n",
       "  display: inline-block;\n",
       "  vertical-align: middle;\n",
       "  width: 1em;\n",
       "  height: 1.5em !important;\n",
       "  stroke-width: 0;\n",
       "  stroke: currentColor;\n",
       "  fill: currentColor;\n",
       "}\n",
       "</style><pre class='xr-text-repr-fallback'>&lt;xarray.Dataset&gt;\n",
       "Dimensions:   (GCM: 8, lat: 81, lon: 121, time: 288, quartile: 4, step: 3)\n",
       "Coordinates:\n",
       "  * GCM       (GCM) &lt;U12 &#x27;CMCC&#x27; &#x27;DWD&#x27; &#x27;ECMWF&#x27; &#x27;JMA&#x27; ... &#x27;MME&#x27; &#x27;NCEP&#x27; &#x27;UKMO&#x27;\n",
       "  * lat       (lat) float32 -50.0 -49.0 -48.0 -47.0 ... 27.0 28.0 29.0 30.0\n",
       "  * lon       (lon) float32 120.0 121.0 122.0 123.0 ... 237.0 238.0 239.0 240.0\n",
       "  * quartile  (quartile) int64 1 2 3 4\n",
       "  * step      (step) int64 3 4 5\n",
       "  * time      (time) datetime64[ns] 1993-01-01 1993-02-01 ... 2016-12-01\n",
       "Data variables:\n",
       "    precip    (GCM, time, quartile, step, lat, lon) float64 dask.array&lt;chunksize=(8, 288, 1, 1, 10, 10), meta=np.ndarray&gt;</pre><div class='xr-wrap' hidden><div class='xr-header'><div class='xr-obj-type'>xarray.Dataset</div></div><ul class='xr-sections'><li class='xr-section-item'><input id='section-70903085-96cb-4538-ad67-701cf0120e59' class='xr-section-summary-in' type='checkbox' disabled ><label for='section-70903085-96cb-4538-ad67-701cf0120e59' class='xr-section-summary'  title='Expand/collapse section'>Dimensions:</label><div class='xr-section-inline-details'><ul class='xr-dim-list'><li><span class='xr-has-index'>GCM</span>: 8</li><li><span class='xr-has-index'>lat</span>: 81</li><li><span class='xr-has-index'>lon</span>: 121</li><li><span class='xr-has-index'>time</span>: 288</li><li><span class='xr-has-index'>quartile</span>: 4</li><li><span class='xr-has-index'>step</span>: 3</li></ul></div><div class='xr-section-details'></div></li><li class='xr-section-item'><input id='section-e84f0cda-8f60-455b-bf89-bd15d1392c2f' class='xr-section-summary-in' type='checkbox'  checked><label for='section-e84f0cda-8f60-455b-bf89-bd15d1392c2f' class='xr-section-summary' >Coordinates: <span>(6)</span></label><div class='xr-section-inline-details'></div><div class='xr-section-details'><ul class='xr-var-list'><li class='xr-var-item'><div class='xr-var-name'><span class='xr-has-index'>GCM</span></div><div class='xr-var-dims'>(GCM)</div><div class='xr-var-dtype'>&lt;U12</div><div class='xr-var-preview xr-preview'>&#x27;CMCC&#x27; &#x27;DWD&#x27; ... &#x27;NCEP&#x27; &#x27;UKMO&#x27;</div><input id='attrs-f511c7a9-51b8-4e36-8d1f-506dfaee0cc4' class='xr-var-attrs-in' type='checkbox' disabled><label for='attrs-f511c7a9-51b8-4e36-8d1f-506dfaee0cc4' title='Show/Hide attributes'><svg class='icon xr-icon-file-text2'><use xlink:href='#icon-file-text2'></use></svg></label><input id='data-b4a516a1-e3fa-46f8-8599-cff6f71e4614' class='xr-var-data-in' type='checkbox'><label for='data-b4a516a1-e3fa-46f8-8599-cff6f71e4614' title='Show/Hide data repr'><svg class='icon xr-icon-database'><use xlink:href='#icon-database'></use></svg></label><div class='xr-var-attrs'><dl class='xr-attrs'></dl></div><div class='xr-var-data'><pre>array([&#x27;CMCC&#x27;, &#x27;DWD&#x27;, &#x27;ECMWF&#x27;, &#x27;JMA&#x27;, &#x27;METEO_FRANCE&#x27;, &#x27;MME&#x27;, &#x27;NCEP&#x27;, &#x27;UKMO&#x27;],\n",
       "      dtype=&#x27;&lt;U12&#x27;)</pre></div></li><li class='xr-var-item'><div class='xr-var-name'><span class='xr-has-index'>lat</span></div><div class='xr-var-dims'>(lat)</div><div class='xr-var-dtype'>float32</div><div class='xr-var-preview xr-preview'>-50.0 -49.0 -48.0 ... 29.0 30.0</div><input id='attrs-952ad485-c227-497a-a750-fe7b82f4a8f1' class='xr-var-attrs-in' type='checkbox' disabled><label for='attrs-952ad485-c227-497a-a750-fe7b82f4a8f1' title='Show/Hide attributes'><svg class='icon xr-icon-file-text2'><use xlink:href='#icon-file-text2'></use></svg></label><input id='data-0284e6ec-9aed-4b13-8af5-d97caa37bbe1' class='xr-var-data-in' type='checkbox'><label for='data-0284e6ec-9aed-4b13-8af5-d97caa37bbe1' title='Show/Hide data repr'><svg class='icon xr-icon-database'><use xlink:href='#icon-database'></use></svg></label><div class='xr-var-attrs'><dl class='xr-attrs'></dl></div><div class='xr-var-data'><pre>array([-50., -49., -48., -47., -46., -45., -44., -43., -42., -41., -40., -39.,\n",
       "       -38., -37., -36., -35., -34., -33., -32., -31., -30., -29., -28., -27.,\n",
       "       -26., -25., -24., -23., -22., -21., -20., -19., -18., -17., -16., -15.,\n",
       "       -14., -13., -12., -11., -10.,  -9.,  -8.,  -7.,  -6.,  -5.,  -4.,  -3.,\n",
       "        -2.,  -1.,   0.,   1.,   2.,   3.,   4.,   5.,   6.,   7.,   8.,   9.,\n",
       "        10.,  11.,  12.,  13.,  14.,  15.,  16.,  17.,  18.,  19.,  20.,  21.,\n",
       "        22.,  23.,  24.,  25.,  26.,  27.,  28.,  29.,  30.], dtype=float32)</pre></div></li><li class='xr-var-item'><div class='xr-var-name'><span class='xr-has-index'>lon</span></div><div class='xr-var-dims'>(lon)</div><div class='xr-var-dtype'>float32</div><div class='xr-var-preview xr-preview'>120.0 121.0 122.0 ... 239.0 240.0</div><input id='attrs-b2065636-dbfe-479c-887c-8e07cac9a048' class='xr-var-attrs-in' type='checkbox' disabled><label for='attrs-b2065636-dbfe-479c-887c-8e07cac9a048' title='Show/Hide attributes'><svg class='icon xr-icon-file-text2'><use xlink:href='#icon-file-text2'></use></svg></label><input id='data-408e9f59-6f7d-4901-abb4-cb35c6c582d6' class='xr-var-data-in' type='checkbox'><label for='data-408e9f59-6f7d-4901-abb4-cb35c6c582d6' title='Show/Hide data repr'><svg class='icon xr-icon-database'><use xlink:href='#icon-database'></use></svg></label><div class='xr-var-attrs'><dl class='xr-attrs'></dl></div><div class='xr-var-data'><pre>array([120., 121., 122., 123., 124., 125., 126., 127., 128., 129., 130., 131.,\n",
       "       132., 133., 134., 135., 136., 137., 138., 139., 140., 141., 142., 143.,\n",
       "       144., 145., 146., 147., 148., 149., 150., 151., 152., 153., 154., 155.,\n",
       "       156., 157., 158., 159., 160., 161., 162., 163., 164., 165., 166., 167.,\n",
       "       168., 169., 170., 171., 172., 173., 174., 175., 176., 177., 178., 179.,\n",
       "       180., 181., 182., 183., 184., 185., 186., 187., 188., 189., 190., 191.,\n",
       "       192., 193., 194., 195., 196., 197., 198., 199., 200., 201., 202., 203.,\n",
       "       204., 205., 206., 207., 208., 209., 210., 211., 212., 213., 214., 215.,\n",
       "       216., 217., 218., 219., 220., 221., 222., 223., 224., 225., 226., 227.,\n",
       "       228., 229., 230., 231., 232., 233., 234., 235., 236., 237., 238., 239.,\n",
       "       240.], dtype=float32)</pre></div></li><li class='xr-var-item'><div class='xr-var-name'><span class='xr-has-index'>quartile</span></div><div class='xr-var-dims'>(quartile)</div><div class='xr-var-dtype'>int64</div><div class='xr-var-preview xr-preview'>1 2 3 4</div><input id='attrs-f57bbef8-c33d-4adf-92b4-5eaffebfdc54' class='xr-var-attrs-in' type='checkbox' disabled><label for='attrs-f57bbef8-c33d-4adf-92b4-5eaffebfdc54' title='Show/Hide attributes'><svg class='icon xr-icon-file-text2'><use xlink:href='#icon-file-text2'></use></svg></label><input id='data-75be6672-a5df-46b4-930b-70503e452783' class='xr-var-data-in' type='checkbox'><label for='data-75be6672-a5df-46b4-930b-70503e452783' title='Show/Hide data repr'><svg class='icon xr-icon-database'><use xlink:href='#icon-database'></use></svg></label><div class='xr-var-attrs'><dl class='xr-attrs'></dl></div><div class='xr-var-data'><pre>array([1, 2, 3, 4])</pre></div></li><li class='xr-var-item'><div class='xr-var-name'><span class='xr-has-index'>step</span></div><div class='xr-var-dims'>(step)</div><div class='xr-var-dtype'>int64</div><div class='xr-var-preview xr-preview'>3 4 5</div><input id='attrs-fa475ba9-d753-4fed-a95b-05ec0d8c0d28' class='xr-var-attrs-in' type='checkbox' disabled><label for='attrs-fa475ba9-d753-4fed-a95b-05ec0d8c0d28' title='Show/Hide attributes'><svg class='icon xr-icon-file-text2'><use xlink:href='#icon-file-text2'></use></svg></label><input id='data-16c3ebd7-f183-4b83-9b55-039d8d414fda' class='xr-var-data-in' type='checkbox'><label for='data-16c3ebd7-f183-4b83-9b55-039d8d414fda' title='Show/Hide data repr'><svg class='icon xr-icon-database'><use xlink:href='#icon-database'></use></svg></label><div class='xr-var-attrs'><dl class='xr-attrs'></dl></div><div class='xr-var-data'><pre>array([3, 4, 5])</pre></div></li><li class='xr-var-item'><div class='xr-var-name'><span class='xr-has-index'>time</span></div><div class='xr-var-dims'>(time)</div><div class='xr-var-dtype'>datetime64[ns]</div><div class='xr-var-preview xr-preview'>1993-01-01 ... 2016-12-01</div><input id='attrs-1bd23d62-f51c-419c-aa2e-f5cff3ec7024' class='xr-var-attrs-in' type='checkbox' disabled><label for='attrs-1bd23d62-f51c-419c-aa2e-f5cff3ec7024' title='Show/Hide attributes'><svg class='icon xr-icon-file-text2'><use xlink:href='#icon-file-text2'></use></svg></label><input id='data-6d9649a0-bc23-4d2e-95f7-adfe4b1d178c' class='xr-var-data-in' type='checkbox'><label for='data-6d9649a0-bc23-4d2e-95f7-adfe4b1d178c' title='Show/Hide data repr'><svg class='icon xr-icon-database'><use xlink:href='#icon-database'></use></svg></label><div class='xr-var-attrs'><dl class='xr-attrs'></dl></div><div class='xr-var-data'><pre>array([&#x27;1993-01-01T00:00:00.000000000&#x27;, &#x27;1993-02-01T00:00:00.000000000&#x27;,\n",
       "       &#x27;1993-03-01T00:00:00.000000000&#x27;, ..., &#x27;2016-10-01T00:00:00.000000000&#x27;,\n",
       "       &#x27;2016-11-01T00:00:00.000000000&#x27;, &#x27;2016-12-01T00:00:00.000000000&#x27;],\n",
       "      dtype=&#x27;datetime64[ns]&#x27;)</pre></div></li></ul></div></li><li class='xr-section-item'><input id='section-d63c78ac-9320-4c82-94e9-e2a9dd79a5ef' class='xr-section-summary-in' type='checkbox'  checked><label for='section-d63c78ac-9320-4c82-94e9-e2a9dd79a5ef' class='xr-section-summary' >Data variables: <span>(1)</span></label><div class='xr-section-inline-details'></div><div class='xr-section-details'><ul class='xr-var-list'><li class='xr-var-item'><div class='xr-var-name'><span>precip</span></div><div class='xr-var-dims'>(GCM, time, quartile, step, lat, lon)</div><div class='xr-var-dtype'>float64</div><div class='xr-var-preview xr-preview'>dask.array&lt;chunksize=(8, 288, 1, 1, 10, 10), meta=np.ndarray&gt;</div><input id='attrs-151d6b5f-17ba-4d9c-9e8b-68c25d4947e3' class='xr-var-attrs-in' type='checkbox' disabled><label for='attrs-151d6b5f-17ba-4d9c-9e8b-68c25d4947e3' title='Show/Hide attributes'><svg class='icon xr-icon-file-text2'><use xlink:href='#icon-file-text2'></use></svg></label><input id='data-e6eaabc0-cc1d-410d-ba47-ce8f807686db' class='xr-var-data-in' type='checkbox'><label for='data-e6eaabc0-cc1d-410d-ba47-ce8f807686db' title='Show/Hide data repr'><svg class='icon xr-icon-database'><use xlink:href='#icon-database'></use></svg></label><div class='xr-var-attrs'><dl class='xr-attrs'></dl></div><div class='xr-var-data'><table>\n",
       "    <tr>\n",
       "        <td>\n",
       "            <table>\n",
       "                <thead>\n",
       "                    <tr>\n",
       "                        <td> </td>\n",
       "                        <th> Array </th>\n",
       "                        <th> Chunk </th>\n",
       "                    </tr>\n",
       "                </thead>\n",
       "                <tbody>\n",
       "                    \n",
       "                    <tr>\n",
       "                        <th> Bytes </th>\n",
       "                        <td> 2.02 GiB </td>\n",
       "                        <td> 1.76 MiB </td>\n",
       "                    </tr>\n",
       "                    \n",
       "                    <tr>\n",
       "                        <th> Shape </th>\n",
       "                        <td> (8, 288, 4, 3, 81, 121) </td>\n",
       "                        <td> (8, 288, 1, 1, 10, 10) </td>\n",
       "                    </tr>\n",
       "                    <tr>\n",
       "                        <th> Count </th>\n",
       "                        <td> 1405 Tasks </td>\n",
       "                        <td> 1404 Chunks </td>\n",
       "                    </tr>\n",
       "                    <tr>\n",
       "                    <th> Type </th>\n",
       "                    <td> float64 </td>\n",
       "                    <td> numpy.ndarray </td>\n",
       "                    </tr>\n",
       "                </tbody>\n",
       "            </table>\n",
       "        </td>\n",
       "        <td>\n",
       "        <svg width=\"365\" height=\"188\" style=\"stroke:rgb(0,0,0);stroke-width:1\" >\n",
       "\n",
       "  <!-- Horizontal lines -->\n",
       "  <line x1=\"10\" y1=\"0\" x2=\"28\" y2=\"18\" style=\"stroke-width:2\" />\n",
       "  <line x1=\"10\" y1=\"120\" x2=\"28\" y2=\"138\" style=\"stroke-width:2\" />\n",
       "\n",
       "  <!-- Vertical lines -->\n",
       "  <line x1=\"10\" y1=\"0\" x2=\"10\" y2=\"120\" style=\"stroke-width:2\" />\n",
       "  <line x1=\"28\" y1=\"18\" x2=\"28\" y2=\"138\" style=\"stroke-width:2\" />\n",
       "\n",
       "  <!-- Colored Rectangle -->\n",
       "  <polygon points=\"10.0,0.0 28.195189762461798,18.195189762461798 28.195189762461798,138.1951897624618 10.0,120.0\" style=\"fill:#ECB172A0;stroke-width:0\"/>\n",
       "\n",
       "  <!-- Horizontal lines -->\n",
       "  <line x1=\"10\" y1=\"0\" x2=\"37\" y2=\"0\" style=\"stroke-width:2\" />\n",
       "  <line x1=\"28\" y1=\"18\" x2=\"55\" y2=\"18\" style=\"stroke-width:2\" />\n",
       "\n",
       "  <!-- Vertical lines -->\n",
       "  <line x1=\"10\" y1=\"0\" x2=\"28\" y2=\"18\" style=\"stroke-width:2\" />\n",
       "  <line x1=\"16\" y1=\"0\" x2=\"34\" y2=\"18\" />\n",
       "  <line x1=\"23\" y1=\"0\" x2=\"41\" y2=\"18\" />\n",
       "  <line x1=\"30\" y1=\"0\" x2=\"48\" y2=\"18\" />\n",
       "  <line x1=\"37\" y1=\"0\" x2=\"55\" y2=\"18\" style=\"stroke-width:2\" />\n",
       "\n",
       "  <!-- Colored Rectangle -->\n",
       "  <polygon points=\"10.0,0.0 37.05403596316941,0.0 55.249225725631206,18.195189762461798 28.195189762461798,18.195189762461798\" style=\"fill:#ECB172A0;stroke-width:0\"/>\n",
       "\n",
       "  <!-- Horizontal lines -->\n",
       "  <line x1=\"28\" y1=\"18\" x2=\"55\" y2=\"18\" style=\"stroke-width:2\" />\n",
       "  <line x1=\"28\" y1=\"138\" x2=\"55\" y2=\"138\" style=\"stroke-width:2\" />\n",
       "\n",
       "  <!-- Vertical lines -->\n",
       "  <line x1=\"28\" y1=\"18\" x2=\"28\" y2=\"138\" style=\"stroke-width:2\" />\n",
       "  <line x1=\"34\" y1=\"18\" x2=\"34\" y2=\"138\" />\n",
       "  <line x1=\"41\" y1=\"18\" x2=\"41\" y2=\"138\" />\n",
       "  <line x1=\"48\" y1=\"18\" x2=\"48\" y2=\"138\" />\n",
       "  <line x1=\"55\" y1=\"18\" x2=\"55\" y2=\"138\" style=\"stroke-width:2\" />\n",
       "\n",
       "  <!-- Colored Rectangle -->\n",
       "  <polygon points=\"28.195189762461798,18.195189762461798 55.249225725631206,18.195189762461798 55.249225725631206,138.1951897624618 28.195189762461798,138.1951897624618\" style=\"fill:#ECB172A0;stroke-width:0\"/>\n",
       "\n",
       "  <!-- Text -->\n",
       "  <text x=\"41.722208\" y=\"158.195190\" font-size=\"1.0rem\" font-weight=\"100\" text-anchor=\"middle\" >4</text>\n",
       "  <text x=\"75.249226\" y=\"78.195190\" font-size=\"1.0rem\" font-weight=\"100\" text-anchor=\"middle\" transform=\"rotate(-90,75.249226,78.195190)\">288</text>\n",
       "  <text x=\"9.097595\" y=\"149.097595\" font-size=\"1.0rem\" font-weight=\"100\" text-anchor=\"middle\" transform=\"rotate(45,9.097595,149.097595)\">8</text>\n",
       "\n",
       "\n",
       "  <!-- Horizontal lines -->\n",
       "  <line x1=\"125\" y1=\"0\" x2=\"140\" y2=\"15\" style=\"stroke-width:2\" />\n",
       "  <line x1=\"125\" y1=\"5\" x2=\"140\" y2=\"20\" />\n",
       "  <line x1=\"125\" y1=\"10\" x2=\"140\" y2=\"25\" />\n",
       "  <line x1=\"125\" y1=\"16\" x2=\"140\" y2=\"31\" />\n",
       "  <line x1=\"125\" y1=\"21\" x2=\"140\" y2=\"36\" />\n",
       "  <line x1=\"125\" y1=\"26\" x2=\"140\" y2=\"41\" />\n",
       "  <line x1=\"125\" y1=\"32\" x2=\"140\" y2=\"47\" />\n",
       "  <line x1=\"125\" y1=\"37\" x2=\"140\" y2=\"52\" />\n",
       "  <line x1=\"125\" y1=\"42\" x2=\"140\" y2=\"57\" />\n",
       "  <line x1=\"125\" y1=\"43\" x2=\"140\" y2=\"58\" style=\"stroke-width:2\" />\n",
       "\n",
       "  <!-- Vertical lines -->\n",
       "  <line x1=\"125\" y1=\"0\" x2=\"125\" y2=\"43\" style=\"stroke-width:2\" />\n",
       "  <line x1=\"130\" y1=\"5\" x2=\"130\" y2=\"48\" />\n",
       "  <line x1=\"135\" y1=\"10\" x2=\"135\" y2=\"53\" />\n",
       "  <line x1=\"140\" y1=\"15\" x2=\"140\" y2=\"58\" style=\"stroke-width:2\" />\n",
       "\n",
       "  <!-- Colored Rectangle -->\n",
       "  <polygon points=\"125.0,0.0 140.06419654185356,15.064196541853565 140.06419654185356,58.388513566591726 125.0,43.324317024738164\" style=\"fill:#ECB172A0;stroke-width:0\"/>\n",
       "\n",
       "  <!-- Horizontal lines -->\n",
       "  <line x1=\"125\" y1=\"0\" x2=\"175\" y2=\"0\" style=\"stroke-width:2\" />\n",
       "  <line x1=\"130\" y1=\"5\" x2=\"180\" y2=\"5\" />\n",
       "  <line x1=\"135\" y1=\"10\" x2=\"185\" y2=\"10\" />\n",
       "  <line x1=\"140\" y1=\"15\" x2=\"190\" y2=\"15\" style=\"stroke-width:2\" />\n",
       "\n",
       "  <!-- Vertical lines -->\n",
       "  <line x1=\"125\" y1=\"0\" x2=\"140\" y2=\"15\" style=\"stroke-width:2\" />\n",
       "  <line x1=\"129\" y1=\"0\" x2=\"144\" y2=\"15\" />\n",
       "  <line x1=\"133\" y1=\"0\" x2=\"148\" y2=\"15\" />\n",
       "  <line x1=\"137\" y1=\"0\" x2=\"152\" y2=\"15\" />\n",
       "  <line x1=\"141\" y1=\"0\" x2=\"156\" y2=\"15\" />\n",
       "  <line x1=\"145\" y1=\"0\" x2=\"160\" y2=\"15\" />\n",
       "  <line x1=\"150\" y1=\"0\" x2=\"165\" y2=\"15\" />\n",
       "  <line x1=\"154\" y1=\"0\" x2=\"169\" y2=\"15\" />\n",
       "  <line x1=\"158\" y1=\"0\" x2=\"173\" y2=\"15\" />\n",
       "  <line x1=\"162\" y1=\"0\" x2=\"177\" y2=\"15\" />\n",
       "  <line x1=\"166\" y1=\"0\" x2=\"181\" y2=\"15\" />\n",
       "  <line x1=\"170\" y1=\"0\" x2=\"185\" y2=\"15\" />\n",
       "  <line x1=\"175\" y1=\"0\" x2=\"190\" y2=\"15\" />\n",
       "  <line x1=\"175\" y1=\"0\" x2=\"190\" y2=\"15\" style=\"stroke-width:2\" />\n",
       "\n",
       "  <!-- Colored Rectangle -->\n",
       "  <polygon points=\"125.0,0.0 175.41666666666666,0.0 190.48086320852022,15.064196541853565 140.06419654185356,15.064196541853565\" style=\"fill:#ECB172A0;stroke-width:0\"/>\n",
       "\n",
       "  <!-- Horizontal lines -->\n",
       "  <line x1=\"140\" y1=\"15\" x2=\"190\" y2=\"15\" style=\"stroke-width:2\" />\n",
       "  <line x1=\"140\" y1=\"20\" x2=\"190\" y2=\"20\" />\n",
       "  <line x1=\"140\" y1=\"25\" x2=\"190\" y2=\"25\" />\n",
       "  <line x1=\"140\" y1=\"31\" x2=\"190\" y2=\"31\" />\n",
       "  <line x1=\"140\" y1=\"36\" x2=\"190\" y2=\"36\" />\n",
       "  <line x1=\"140\" y1=\"41\" x2=\"190\" y2=\"41\" />\n",
       "  <line x1=\"140\" y1=\"47\" x2=\"190\" y2=\"47\" />\n",
       "  <line x1=\"140\" y1=\"52\" x2=\"190\" y2=\"52\" />\n",
       "  <line x1=\"140\" y1=\"57\" x2=\"190\" y2=\"57\" />\n",
       "  <line x1=\"140\" y1=\"58\" x2=\"190\" y2=\"58\" style=\"stroke-width:2\" />\n",
       "\n",
       "  <!-- Vertical lines -->\n",
       "  <line x1=\"140\" y1=\"15\" x2=\"140\" y2=\"58\" style=\"stroke-width:2\" />\n",
       "  <line x1=\"144\" y1=\"15\" x2=\"144\" y2=\"58\" />\n",
       "  <line x1=\"148\" y1=\"15\" x2=\"148\" y2=\"58\" />\n",
       "  <line x1=\"152\" y1=\"15\" x2=\"152\" y2=\"58\" />\n",
       "  <line x1=\"156\" y1=\"15\" x2=\"156\" y2=\"58\" />\n",
       "  <line x1=\"160\" y1=\"15\" x2=\"160\" y2=\"58\" />\n",
       "  <line x1=\"165\" y1=\"15\" x2=\"165\" y2=\"58\" />\n",
       "  <line x1=\"169\" y1=\"15\" x2=\"169\" y2=\"58\" />\n",
       "  <line x1=\"173\" y1=\"15\" x2=\"173\" y2=\"58\" />\n",
       "  <line x1=\"177\" y1=\"15\" x2=\"177\" y2=\"58\" />\n",
       "  <line x1=\"181\" y1=\"15\" x2=\"181\" y2=\"58\" />\n",
       "  <line x1=\"185\" y1=\"15\" x2=\"185\" y2=\"58\" />\n",
       "  <line x1=\"190\" y1=\"15\" x2=\"190\" y2=\"58\" />\n",
       "  <line x1=\"190\" y1=\"15\" x2=\"190\" y2=\"58\" style=\"stroke-width:2\" />\n",
       "\n",
       "  <!-- Colored Rectangle -->\n",
       "  <polygon points=\"140.06419654185356,15.064196541853565 190.48086320852022,15.064196541853565 190.48086320852022,58.388513566591726 140.06419654185356,58.388513566591726\" style=\"fill:#ECB172A0;stroke-width:0\"/>\n",
       "\n",
       "  <!-- Text -->\n",
       "  <text x=\"165.272530\" y=\"78.388514\" font-size=\"1.0rem\" font-weight=\"100\" text-anchor=\"middle\" >121</text>\n",
       "  <text x=\"210.480863\" y=\"36.726355\" font-size=\"1.0rem\" font-weight=\"100\" text-anchor=\"middle\" transform=\"rotate(0,210.480863,36.726355)\">81</text>\n",
       "  <text x=\"122.532098\" y=\"70.856415\" font-size=\"1.0rem\" font-weight=\"100\" text-anchor=\"middle\" transform=\"rotate(45,122.532098,70.856415)\">3</text>\n",
       "</svg>\n",
       "        </td>\n",
       "    </tr>\n",
       "</table></div></li></ul></div></li><li class='xr-section-item'><input id='section-bebd0e45-05e9-443b-ae07-0510e9c0ac0b' class='xr-section-summary-in' type='checkbox' disabled ><label for='section-bebd0e45-05e9-443b-ae07-0510e9c0ac0b' class='xr-section-summary'  title='Expand/collapse section'>Attributes: <span>(0)</span></label><div class='xr-section-inline-details'></div><div class='xr-section-details'><dl class='xr-attrs'></dl></div></li></ul></div></div>"
      ],
      "text/plain": [
       "<xarray.Dataset>\n",
       "Dimensions:   (GCM: 8, lat: 81, lon: 121, time: 288, quartile: 4, step: 3)\n",
       "Coordinates:\n",
       "  * GCM       (GCM) <U12 'CMCC' 'DWD' 'ECMWF' 'JMA' ... 'MME' 'NCEP' 'UKMO'\n",
       "  * lat       (lat) float32 -50.0 -49.0 -48.0 -47.0 ... 27.0 28.0 29.0 30.0\n",
       "  * lon       (lon) float32 120.0 121.0 122.0 123.0 ... 237.0 238.0 239.0 240.0\n",
       "  * quartile  (quartile) int64 1 2 3 4\n",
       "  * step      (step) int64 3 4 5\n",
       "  * time      (time) datetime64[ns] 1993-01-01 1993-02-01 ... 2016-12-01\n",
       "Data variables:\n",
       "    precip    (GCM, time, quartile, step, lat, lon) float64 dask.array<chunksize=(8, 288, 1, 1, 10, 10), meta=np.ndarray>"
      ]
     },
     "execution_count": 17,
     "metadata": {},
     "output_type": "execute_result"
    }
   ],
   "source": [
    "dset_mme"
   ]
  },
  {
   "cell_type": "markdown",
   "id": "04f951fd",
   "metadata": {
    "papermill": {
     "duration": 0.032443,
     "end_time": "2021-12-21T02:52:24.429204",
     "exception": false,
     "start_time": "2021-12-21T02:52:24.396761",
     "status": "completed"
    },
    "tags": []
   },
   "source": [
    "### take the leadtime in the GCM"
   ]
  },
  {
   "cell_type": "code",
   "execution_count": 18,
   "id": "aae07759",
   "metadata": {
    "execution": {
     "iopub.execute_input": "2021-12-21T02:52:24.484225Z",
     "iopub.status.busy": "2021-12-21T02:52:24.483893Z",
     "iopub.status.idle": "2021-12-21T02:52:24.501556Z",
     "shell.execute_reply": "2021-12-21T02:52:24.501210Z"
    },
    "papermill": {
     "duration": 0.046527,
     "end_time": "2021-12-21T02:52:24.501639",
     "exception": false,
     "start_time": "2021-12-21T02:52:24.455112",
     "status": "completed"
    },
    "tags": []
   },
   "outputs": [],
   "source": [
    "dset_mme = dset_mme.sel(step=step)"
   ]
  },
  {
   "cell_type": "code",
   "execution_count": 19,
   "id": "bad7b3cd",
   "metadata": {
    "execution": {
     "iopub.execute_input": "2021-12-21T02:52:24.559291Z",
     "iopub.status.busy": "2021-12-21T02:52:24.558742Z",
     "iopub.status.idle": "2021-12-21T02:52:24.579970Z",
     "shell.execute_reply": "2021-12-21T02:52:24.579605Z"
    },
    "papermill": {
     "duration": 0.049906,
     "end_time": "2021-12-21T02:52:24.580054",
     "exception": false,
     "start_time": "2021-12-21T02:52:24.530148",
     "status": "completed"
    },
    "tags": []
   },
   "outputs": [
    {
     "data": {
      "text/html": [
       "<div><svg style=\"position: absolute; width: 0; height: 0; overflow: hidden\">\n",
       "<defs>\n",
       "<symbol id=\"icon-database\" viewBox=\"0 0 32 32\">\n",
       "<path d=\"M16 0c-8.837 0-16 2.239-16 5v4c0 2.761 7.163 5 16 5s16-2.239 16-5v-4c0-2.761-7.163-5-16-5z\"></path>\n",
       "<path d=\"M16 17c-8.837 0-16-2.239-16-5v6c0 2.761 7.163 5 16 5s16-2.239 16-5v-6c0 2.761-7.163 5-16 5z\"></path>\n",
       "<path d=\"M16 26c-8.837 0-16-2.239-16-5v6c0 2.761 7.163 5 16 5s16-2.239 16-5v-6c0 2.761-7.163 5-16 5z\"></path>\n",
       "</symbol>\n",
       "<symbol id=\"icon-file-text2\" viewBox=\"0 0 32 32\">\n",
       "<path d=\"M28.681 7.159c-0.694-0.947-1.662-2.053-2.724-3.116s-2.169-2.030-3.116-2.724c-1.612-1.182-2.393-1.319-2.841-1.319h-15.5c-1.378 0-2.5 1.121-2.5 2.5v27c0 1.378 1.122 2.5 2.5 2.5h23c1.378 0 2.5-1.122 2.5-2.5v-19.5c0-0.448-0.137-1.23-1.319-2.841zM24.543 5.457c0.959 0.959 1.712 1.825 2.268 2.543h-4.811v-4.811c0.718 0.556 1.584 1.309 2.543 2.268zM28 29.5c0 0.271-0.229 0.5-0.5 0.5h-23c-0.271 0-0.5-0.229-0.5-0.5v-27c0-0.271 0.229-0.5 0.5-0.5 0 0 15.499-0 15.5 0v7c0 0.552 0.448 1 1 1h7v19.5z\"></path>\n",
       "<path d=\"M23 26h-14c-0.552 0-1-0.448-1-1s0.448-1 1-1h14c0.552 0 1 0.448 1 1s-0.448 1-1 1z\"></path>\n",
       "<path d=\"M23 22h-14c-0.552 0-1-0.448-1-1s0.448-1 1-1h14c0.552 0 1 0.448 1 1s-0.448 1-1 1z\"></path>\n",
       "<path d=\"M23 18h-14c-0.552 0-1-0.448-1-1s0.448-1 1-1h14c0.552 0 1 0.448 1 1s-0.448 1-1 1z\"></path>\n",
       "</symbol>\n",
       "</defs>\n",
       "</svg>\n",
       "<style>/* CSS stylesheet for displaying xarray objects in jupyterlab.\n",
       " *\n",
       " */\n",
       "\n",
       ":root {\n",
       "  --xr-font-color0: var(--jp-content-font-color0, rgba(0, 0, 0, 1));\n",
       "  --xr-font-color2: var(--jp-content-font-color2, rgba(0, 0, 0, 0.54));\n",
       "  --xr-font-color3: var(--jp-content-font-color3, rgba(0, 0, 0, 0.38));\n",
       "  --xr-border-color: var(--jp-border-color2, #e0e0e0);\n",
       "  --xr-disabled-color: var(--jp-layout-color3, #bdbdbd);\n",
       "  --xr-background-color: var(--jp-layout-color0, white);\n",
       "  --xr-background-color-row-even: var(--jp-layout-color1, white);\n",
       "  --xr-background-color-row-odd: var(--jp-layout-color2, #eeeeee);\n",
       "}\n",
       "\n",
       "html[theme=dark],\n",
       "body.vscode-dark {\n",
       "  --xr-font-color0: rgba(255, 255, 255, 1);\n",
       "  --xr-font-color2: rgba(255, 255, 255, 0.54);\n",
       "  --xr-font-color3: rgba(255, 255, 255, 0.38);\n",
       "  --xr-border-color: #1F1F1F;\n",
       "  --xr-disabled-color: #515151;\n",
       "  --xr-background-color: #111111;\n",
       "  --xr-background-color-row-even: #111111;\n",
       "  --xr-background-color-row-odd: #313131;\n",
       "}\n",
       "\n",
       ".xr-wrap {\n",
       "  display: block;\n",
       "  min-width: 300px;\n",
       "  max-width: 700px;\n",
       "}\n",
       "\n",
       ".xr-text-repr-fallback {\n",
       "  /* fallback to plain text repr when CSS is not injected (untrusted notebook) */\n",
       "  display: none;\n",
       "}\n",
       "\n",
       ".xr-header {\n",
       "  padding-top: 6px;\n",
       "  padding-bottom: 6px;\n",
       "  margin-bottom: 4px;\n",
       "  border-bottom: solid 1px var(--xr-border-color);\n",
       "}\n",
       "\n",
       ".xr-header > div,\n",
       ".xr-header > ul {\n",
       "  display: inline;\n",
       "  margin-top: 0;\n",
       "  margin-bottom: 0;\n",
       "}\n",
       "\n",
       ".xr-obj-type,\n",
       ".xr-array-name {\n",
       "  margin-left: 2px;\n",
       "  margin-right: 10px;\n",
       "}\n",
       "\n",
       ".xr-obj-type {\n",
       "  color: var(--xr-font-color2);\n",
       "}\n",
       "\n",
       ".xr-sections {\n",
       "  padding-left: 0 !important;\n",
       "  display: grid;\n",
       "  grid-template-columns: 150px auto auto 1fr 20px 20px;\n",
       "}\n",
       "\n",
       ".xr-section-item {\n",
       "  display: contents;\n",
       "}\n",
       "\n",
       ".xr-section-item input {\n",
       "  display: none;\n",
       "}\n",
       "\n",
       ".xr-section-item input + label {\n",
       "  color: var(--xr-disabled-color);\n",
       "}\n",
       "\n",
       ".xr-section-item input:enabled + label {\n",
       "  cursor: pointer;\n",
       "  color: var(--xr-font-color2);\n",
       "}\n",
       "\n",
       ".xr-section-item input:enabled + label:hover {\n",
       "  color: var(--xr-font-color0);\n",
       "}\n",
       "\n",
       ".xr-section-summary {\n",
       "  grid-column: 1;\n",
       "  color: var(--xr-font-color2);\n",
       "  font-weight: 500;\n",
       "}\n",
       "\n",
       ".xr-section-summary > span {\n",
       "  display: inline-block;\n",
       "  padding-left: 0.5em;\n",
       "}\n",
       "\n",
       ".xr-section-summary-in:disabled + label {\n",
       "  color: var(--xr-font-color2);\n",
       "}\n",
       "\n",
       ".xr-section-summary-in + label:before {\n",
       "  display: inline-block;\n",
       "  content: '►';\n",
       "  font-size: 11px;\n",
       "  width: 15px;\n",
       "  text-align: center;\n",
       "}\n",
       "\n",
       ".xr-section-summary-in:disabled + label:before {\n",
       "  color: var(--xr-disabled-color);\n",
       "}\n",
       "\n",
       ".xr-section-summary-in:checked + label:before {\n",
       "  content: '▼';\n",
       "}\n",
       "\n",
       ".xr-section-summary-in:checked + label > span {\n",
       "  display: none;\n",
       "}\n",
       "\n",
       ".xr-section-summary,\n",
       ".xr-section-inline-details {\n",
       "  padding-top: 4px;\n",
       "  padding-bottom: 4px;\n",
       "}\n",
       "\n",
       ".xr-section-inline-details {\n",
       "  grid-column: 2 / -1;\n",
       "}\n",
       "\n",
       ".xr-section-details {\n",
       "  display: none;\n",
       "  grid-column: 1 / -1;\n",
       "  margin-bottom: 5px;\n",
       "}\n",
       "\n",
       ".xr-section-summary-in:checked ~ .xr-section-details {\n",
       "  display: contents;\n",
       "}\n",
       "\n",
       ".xr-array-wrap {\n",
       "  grid-column: 1 / -1;\n",
       "  display: grid;\n",
       "  grid-template-columns: 20px auto;\n",
       "}\n",
       "\n",
       ".xr-array-wrap > label {\n",
       "  grid-column: 1;\n",
       "  vertical-align: top;\n",
       "}\n",
       "\n",
       ".xr-preview {\n",
       "  color: var(--xr-font-color3);\n",
       "}\n",
       "\n",
       ".xr-array-preview,\n",
       ".xr-array-data {\n",
       "  padding: 0 5px !important;\n",
       "  grid-column: 2;\n",
       "}\n",
       "\n",
       ".xr-array-data,\n",
       ".xr-array-in:checked ~ .xr-array-preview {\n",
       "  display: none;\n",
       "}\n",
       "\n",
       ".xr-array-in:checked ~ .xr-array-data,\n",
       ".xr-array-preview {\n",
       "  display: inline-block;\n",
       "}\n",
       "\n",
       ".xr-dim-list {\n",
       "  display: inline-block !important;\n",
       "  list-style: none;\n",
       "  padding: 0 !important;\n",
       "  margin: 0;\n",
       "}\n",
       "\n",
       ".xr-dim-list li {\n",
       "  display: inline-block;\n",
       "  padding: 0;\n",
       "  margin: 0;\n",
       "}\n",
       "\n",
       ".xr-dim-list:before {\n",
       "  content: '(';\n",
       "}\n",
       "\n",
       ".xr-dim-list:after {\n",
       "  content: ')';\n",
       "}\n",
       "\n",
       ".xr-dim-list li:not(:last-child):after {\n",
       "  content: ',';\n",
       "  padding-right: 5px;\n",
       "}\n",
       "\n",
       ".xr-has-index {\n",
       "  font-weight: bold;\n",
       "}\n",
       "\n",
       ".xr-var-list,\n",
       ".xr-var-item {\n",
       "  display: contents;\n",
       "}\n",
       "\n",
       ".xr-var-item > div,\n",
       ".xr-var-item label,\n",
       ".xr-var-item > .xr-var-name span {\n",
       "  background-color: var(--xr-background-color-row-even);\n",
       "  margin-bottom: 0;\n",
       "}\n",
       "\n",
       ".xr-var-item > .xr-var-name:hover span {\n",
       "  padding-right: 5px;\n",
       "}\n",
       "\n",
       ".xr-var-list > li:nth-child(odd) > div,\n",
       ".xr-var-list > li:nth-child(odd) > label,\n",
       ".xr-var-list > li:nth-child(odd) > .xr-var-name span {\n",
       "  background-color: var(--xr-background-color-row-odd);\n",
       "}\n",
       "\n",
       ".xr-var-name {\n",
       "  grid-column: 1;\n",
       "}\n",
       "\n",
       ".xr-var-dims {\n",
       "  grid-column: 2;\n",
       "}\n",
       "\n",
       ".xr-var-dtype {\n",
       "  grid-column: 3;\n",
       "  text-align: right;\n",
       "  color: var(--xr-font-color2);\n",
       "}\n",
       "\n",
       ".xr-var-preview {\n",
       "  grid-column: 4;\n",
       "}\n",
       "\n",
       ".xr-var-name,\n",
       ".xr-var-dims,\n",
       ".xr-var-dtype,\n",
       ".xr-preview,\n",
       ".xr-attrs dt {\n",
       "  white-space: nowrap;\n",
       "  overflow: hidden;\n",
       "  text-overflow: ellipsis;\n",
       "  padding-right: 10px;\n",
       "}\n",
       "\n",
       ".xr-var-name:hover,\n",
       ".xr-var-dims:hover,\n",
       ".xr-var-dtype:hover,\n",
       ".xr-attrs dt:hover {\n",
       "  overflow: visible;\n",
       "  width: auto;\n",
       "  z-index: 1;\n",
       "}\n",
       "\n",
       ".xr-var-attrs,\n",
       ".xr-var-data {\n",
       "  display: none;\n",
       "  background-color: var(--xr-background-color) !important;\n",
       "  padding-bottom: 5px !important;\n",
       "}\n",
       "\n",
       ".xr-var-attrs-in:checked ~ .xr-var-attrs,\n",
       ".xr-var-data-in:checked ~ .xr-var-data {\n",
       "  display: block;\n",
       "}\n",
       "\n",
       ".xr-var-data > table {\n",
       "  float: right;\n",
       "}\n",
       "\n",
       ".xr-var-name span,\n",
       ".xr-var-data,\n",
       ".xr-attrs {\n",
       "  padding-left: 25px !important;\n",
       "}\n",
       "\n",
       ".xr-attrs,\n",
       ".xr-var-attrs,\n",
       ".xr-var-data {\n",
       "  grid-column: 1 / -1;\n",
       "}\n",
       "\n",
       "dl.xr-attrs {\n",
       "  padding: 0;\n",
       "  margin: 0;\n",
       "  display: grid;\n",
       "  grid-template-columns: 125px auto;\n",
       "}\n",
       "\n",
       ".xr-attrs dt,\n",
       ".xr-attrs dd {\n",
       "  padding: 0;\n",
       "  margin: 0;\n",
       "  float: left;\n",
       "  padding-right: 10px;\n",
       "  width: auto;\n",
       "}\n",
       "\n",
       ".xr-attrs dt {\n",
       "  font-weight: normal;\n",
       "  grid-column: 1;\n",
       "}\n",
       "\n",
       ".xr-attrs dt:hover span {\n",
       "  display: inline-block;\n",
       "  background: var(--xr-background-color);\n",
       "  padding-right: 10px;\n",
       "}\n",
       "\n",
       ".xr-attrs dd {\n",
       "  grid-column: 2;\n",
       "  white-space: pre-wrap;\n",
       "  word-break: break-all;\n",
       "}\n",
       "\n",
       ".xr-icon-database,\n",
       ".xr-icon-file-text2 {\n",
       "  display: inline-block;\n",
       "  vertical-align: middle;\n",
       "  width: 1em;\n",
       "  height: 1.5em !important;\n",
       "  stroke-width: 0;\n",
       "  stroke: currentColor;\n",
       "  fill: currentColor;\n",
       "}\n",
       "</style><pre class='xr-text-repr-fallback'>&lt;xarray.DataArray &#x27;time&#x27; ()&gt;\n",
       "array(&#x27;1993-01-01T00:00:00.000000000&#x27;, dtype=&#x27;datetime64[ns]&#x27;)\n",
       "Coordinates:\n",
       "    step     int64 3\n",
       "    time     datetime64[ns] 1993-01-01</pre><div class='xr-wrap' hidden><div class='xr-header'><div class='xr-obj-type'>xarray.DataArray</div><div class='xr-array-name'>'time'</div></div><ul class='xr-sections'><li class='xr-section-item'><div class='xr-array-wrap'><input id='section-1c4cb2b7-cd11-4a9b-80de-5d5aa0800a62' class='xr-array-in' type='checkbox' checked><label for='section-1c4cb2b7-cd11-4a9b-80de-5d5aa0800a62' title='Show/hide data repr'><svg class='icon xr-icon-database'><use xlink:href='#icon-database'></use></svg></label><div class='xr-array-preview xr-preview'><span>1993-01-01</span></div><div class='xr-array-data'><pre>array(&#x27;1993-01-01T00:00:00.000000000&#x27;, dtype=&#x27;datetime64[ns]&#x27;)</pre></div></div></li><li class='xr-section-item'><input id='section-22ef3a17-1c66-44b4-b041-481fa67f81ec' class='xr-section-summary-in' type='checkbox'  checked><label for='section-22ef3a17-1c66-44b4-b041-481fa67f81ec' class='xr-section-summary' >Coordinates: <span>(2)</span></label><div class='xr-section-inline-details'></div><div class='xr-section-details'><ul class='xr-var-list'><li class='xr-var-item'><div class='xr-var-name'><span>step</span></div><div class='xr-var-dims'>()</div><div class='xr-var-dtype'>int64</div><div class='xr-var-preview xr-preview'>3</div><input id='attrs-6d4ea619-6649-40de-9fa8-2888b3044be7' class='xr-var-attrs-in' type='checkbox' disabled><label for='attrs-6d4ea619-6649-40de-9fa8-2888b3044be7' title='Show/Hide attributes'><svg class='icon xr-icon-file-text2'><use xlink:href='#icon-file-text2'></use></svg></label><input id='data-8f8a3941-54a6-473f-b21f-445548414722' class='xr-var-data-in' type='checkbox'><label for='data-8f8a3941-54a6-473f-b21f-445548414722' title='Show/Hide data repr'><svg class='icon xr-icon-database'><use xlink:href='#icon-database'></use></svg></label><div class='xr-var-attrs'><dl class='xr-attrs'></dl></div><div class='xr-var-data'><pre>array(3)</pre></div></li><li class='xr-var-item'><div class='xr-var-name'><span>time</span></div><div class='xr-var-dims'>()</div><div class='xr-var-dtype'>datetime64[ns]</div><div class='xr-var-preview xr-preview'>1993-01-01</div><input id='attrs-46031209-1526-4776-b6fd-fed6ed2fbf71' class='xr-var-attrs-in' type='checkbox' disabled><label for='attrs-46031209-1526-4776-b6fd-fed6ed2fbf71' title='Show/Hide attributes'><svg class='icon xr-icon-file-text2'><use xlink:href='#icon-file-text2'></use></svg></label><input id='data-14df20ca-7f16-44f5-b823-142109db5dd4' class='xr-var-data-in' type='checkbox'><label for='data-14df20ca-7f16-44f5-b823-142109db5dd4' title='Show/Hide data repr'><svg class='icon xr-icon-database'><use xlink:href='#icon-database'></use></svg></label><div class='xr-var-attrs'><dl class='xr-attrs'></dl></div><div class='xr-var-data'><pre>array(&#x27;1993-01-01T00:00:00.000000000&#x27;, dtype=&#x27;datetime64[ns]&#x27;)</pre></div></li></ul></div></li><li class='xr-section-item'><input id='section-d31aafd4-61eb-4cac-bfe6-e6ecfda35dc2' class='xr-section-summary-in' type='checkbox' disabled ><label for='section-d31aafd4-61eb-4cac-bfe6-e6ecfda35dc2' class='xr-section-summary'  title='Expand/collapse section'>Attributes: <span>(0)</span></label><div class='xr-section-inline-details'></div><div class='xr-section-details'><dl class='xr-attrs'></dl></div></li></ul></div></div>"
      ],
      "text/plain": [
       "<xarray.DataArray 'time' ()>\n",
       "array('1993-01-01T00:00:00.000000000', dtype='datetime64[ns]')\n",
       "Coordinates:\n",
       "    step     int64 3\n",
       "    time     datetime64[ns] 1993-01-01"
      ]
     },
     "execution_count": 19,
     "metadata": {},
     "output_type": "execute_result"
    }
   ],
   "source": [
    "dset_mme.time[0]"
   ]
  },
  {
   "cell_type": "code",
   "execution_count": 20,
   "id": "bce47992",
   "metadata": {
    "execution": {
     "iopub.execute_input": "2021-12-21T02:52:24.638922Z",
     "iopub.status.busy": "2021-12-21T02:52:24.638604Z",
     "iopub.status.idle": "2021-12-21T02:52:24.656075Z",
     "shell.execute_reply": "2021-12-21T02:52:24.655731Z"
    },
    "papermill": {
     "duration": 0.047576,
     "end_time": "2021-12-21T02:52:24.656157",
     "exception": false,
     "start_time": "2021-12-21T02:52:24.608581",
     "status": "completed"
    },
    "tags": []
   },
   "outputs": [],
   "source": [
    "dset_mme['time'] = dset_mme.indexes['time'] + pd.offsets.MonthBegin(step)"
   ]
  },
  {
   "cell_type": "code",
   "execution_count": 21,
   "id": "ef3a3d04",
   "metadata": {
    "execution": {
     "iopub.execute_input": "2021-12-21T02:52:24.713348Z",
     "iopub.status.busy": "2021-12-21T02:52:24.713023Z",
     "iopub.status.idle": "2021-12-21T02:52:24.732040Z",
     "shell.execute_reply": "2021-12-21T02:52:24.731709Z"
    },
    "papermill": {
     "duration": 0.04852,
     "end_time": "2021-12-21T02:52:24.732118",
     "exception": false,
     "start_time": "2021-12-21T02:52:24.683598",
     "status": "completed"
    },
    "tags": []
   },
   "outputs": [
    {
     "data": {
      "text/html": [
       "<div><svg style=\"position: absolute; width: 0; height: 0; overflow: hidden\">\n",
       "<defs>\n",
       "<symbol id=\"icon-database\" viewBox=\"0 0 32 32\">\n",
       "<path d=\"M16 0c-8.837 0-16 2.239-16 5v4c0 2.761 7.163 5 16 5s16-2.239 16-5v-4c0-2.761-7.163-5-16-5z\"></path>\n",
       "<path d=\"M16 17c-8.837 0-16-2.239-16-5v6c0 2.761 7.163 5 16 5s16-2.239 16-5v-6c0 2.761-7.163 5-16 5z\"></path>\n",
       "<path d=\"M16 26c-8.837 0-16-2.239-16-5v6c0 2.761 7.163 5 16 5s16-2.239 16-5v-6c0 2.761-7.163 5-16 5z\"></path>\n",
       "</symbol>\n",
       "<symbol id=\"icon-file-text2\" viewBox=\"0 0 32 32\">\n",
       "<path d=\"M28.681 7.159c-0.694-0.947-1.662-2.053-2.724-3.116s-2.169-2.030-3.116-2.724c-1.612-1.182-2.393-1.319-2.841-1.319h-15.5c-1.378 0-2.5 1.121-2.5 2.5v27c0 1.378 1.122 2.5 2.5 2.5h23c1.378 0 2.5-1.122 2.5-2.5v-19.5c0-0.448-0.137-1.23-1.319-2.841zM24.543 5.457c0.959 0.959 1.712 1.825 2.268 2.543h-4.811v-4.811c0.718 0.556 1.584 1.309 2.543 2.268zM28 29.5c0 0.271-0.229 0.5-0.5 0.5h-23c-0.271 0-0.5-0.229-0.5-0.5v-27c0-0.271 0.229-0.5 0.5-0.5 0 0 15.499-0 15.5 0v7c0 0.552 0.448 1 1 1h7v19.5z\"></path>\n",
       "<path d=\"M23 26h-14c-0.552 0-1-0.448-1-1s0.448-1 1-1h14c0.552 0 1 0.448 1 1s-0.448 1-1 1z\"></path>\n",
       "<path d=\"M23 22h-14c-0.552 0-1-0.448-1-1s0.448-1 1-1h14c0.552 0 1 0.448 1 1s-0.448 1-1 1z\"></path>\n",
       "<path d=\"M23 18h-14c-0.552 0-1-0.448-1-1s0.448-1 1-1h14c0.552 0 1 0.448 1 1s-0.448 1-1 1z\"></path>\n",
       "</symbol>\n",
       "</defs>\n",
       "</svg>\n",
       "<style>/* CSS stylesheet for displaying xarray objects in jupyterlab.\n",
       " *\n",
       " */\n",
       "\n",
       ":root {\n",
       "  --xr-font-color0: var(--jp-content-font-color0, rgba(0, 0, 0, 1));\n",
       "  --xr-font-color2: var(--jp-content-font-color2, rgba(0, 0, 0, 0.54));\n",
       "  --xr-font-color3: var(--jp-content-font-color3, rgba(0, 0, 0, 0.38));\n",
       "  --xr-border-color: var(--jp-border-color2, #e0e0e0);\n",
       "  --xr-disabled-color: var(--jp-layout-color3, #bdbdbd);\n",
       "  --xr-background-color: var(--jp-layout-color0, white);\n",
       "  --xr-background-color-row-even: var(--jp-layout-color1, white);\n",
       "  --xr-background-color-row-odd: var(--jp-layout-color2, #eeeeee);\n",
       "}\n",
       "\n",
       "html[theme=dark],\n",
       "body.vscode-dark {\n",
       "  --xr-font-color0: rgba(255, 255, 255, 1);\n",
       "  --xr-font-color2: rgba(255, 255, 255, 0.54);\n",
       "  --xr-font-color3: rgba(255, 255, 255, 0.38);\n",
       "  --xr-border-color: #1F1F1F;\n",
       "  --xr-disabled-color: #515151;\n",
       "  --xr-background-color: #111111;\n",
       "  --xr-background-color-row-even: #111111;\n",
       "  --xr-background-color-row-odd: #313131;\n",
       "}\n",
       "\n",
       ".xr-wrap {\n",
       "  display: block;\n",
       "  min-width: 300px;\n",
       "  max-width: 700px;\n",
       "}\n",
       "\n",
       ".xr-text-repr-fallback {\n",
       "  /* fallback to plain text repr when CSS is not injected (untrusted notebook) */\n",
       "  display: none;\n",
       "}\n",
       "\n",
       ".xr-header {\n",
       "  padding-top: 6px;\n",
       "  padding-bottom: 6px;\n",
       "  margin-bottom: 4px;\n",
       "  border-bottom: solid 1px var(--xr-border-color);\n",
       "}\n",
       "\n",
       ".xr-header > div,\n",
       ".xr-header > ul {\n",
       "  display: inline;\n",
       "  margin-top: 0;\n",
       "  margin-bottom: 0;\n",
       "}\n",
       "\n",
       ".xr-obj-type,\n",
       ".xr-array-name {\n",
       "  margin-left: 2px;\n",
       "  margin-right: 10px;\n",
       "}\n",
       "\n",
       ".xr-obj-type {\n",
       "  color: var(--xr-font-color2);\n",
       "}\n",
       "\n",
       ".xr-sections {\n",
       "  padding-left: 0 !important;\n",
       "  display: grid;\n",
       "  grid-template-columns: 150px auto auto 1fr 20px 20px;\n",
       "}\n",
       "\n",
       ".xr-section-item {\n",
       "  display: contents;\n",
       "}\n",
       "\n",
       ".xr-section-item input {\n",
       "  display: none;\n",
       "}\n",
       "\n",
       ".xr-section-item input + label {\n",
       "  color: var(--xr-disabled-color);\n",
       "}\n",
       "\n",
       ".xr-section-item input:enabled + label {\n",
       "  cursor: pointer;\n",
       "  color: var(--xr-font-color2);\n",
       "}\n",
       "\n",
       ".xr-section-item input:enabled + label:hover {\n",
       "  color: var(--xr-font-color0);\n",
       "}\n",
       "\n",
       ".xr-section-summary {\n",
       "  grid-column: 1;\n",
       "  color: var(--xr-font-color2);\n",
       "  font-weight: 500;\n",
       "}\n",
       "\n",
       ".xr-section-summary > span {\n",
       "  display: inline-block;\n",
       "  padding-left: 0.5em;\n",
       "}\n",
       "\n",
       ".xr-section-summary-in:disabled + label {\n",
       "  color: var(--xr-font-color2);\n",
       "}\n",
       "\n",
       ".xr-section-summary-in + label:before {\n",
       "  display: inline-block;\n",
       "  content: '►';\n",
       "  font-size: 11px;\n",
       "  width: 15px;\n",
       "  text-align: center;\n",
       "}\n",
       "\n",
       ".xr-section-summary-in:disabled + label:before {\n",
       "  color: var(--xr-disabled-color);\n",
       "}\n",
       "\n",
       ".xr-section-summary-in:checked + label:before {\n",
       "  content: '▼';\n",
       "}\n",
       "\n",
       ".xr-section-summary-in:checked + label > span {\n",
       "  display: none;\n",
       "}\n",
       "\n",
       ".xr-section-summary,\n",
       ".xr-section-inline-details {\n",
       "  padding-top: 4px;\n",
       "  padding-bottom: 4px;\n",
       "}\n",
       "\n",
       ".xr-section-inline-details {\n",
       "  grid-column: 2 / -1;\n",
       "}\n",
       "\n",
       ".xr-section-details {\n",
       "  display: none;\n",
       "  grid-column: 1 / -1;\n",
       "  margin-bottom: 5px;\n",
       "}\n",
       "\n",
       ".xr-section-summary-in:checked ~ .xr-section-details {\n",
       "  display: contents;\n",
       "}\n",
       "\n",
       ".xr-array-wrap {\n",
       "  grid-column: 1 / -1;\n",
       "  display: grid;\n",
       "  grid-template-columns: 20px auto;\n",
       "}\n",
       "\n",
       ".xr-array-wrap > label {\n",
       "  grid-column: 1;\n",
       "  vertical-align: top;\n",
       "}\n",
       "\n",
       ".xr-preview {\n",
       "  color: var(--xr-font-color3);\n",
       "}\n",
       "\n",
       ".xr-array-preview,\n",
       ".xr-array-data {\n",
       "  padding: 0 5px !important;\n",
       "  grid-column: 2;\n",
       "}\n",
       "\n",
       ".xr-array-data,\n",
       ".xr-array-in:checked ~ .xr-array-preview {\n",
       "  display: none;\n",
       "}\n",
       "\n",
       ".xr-array-in:checked ~ .xr-array-data,\n",
       ".xr-array-preview {\n",
       "  display: inline-block;\n",
       "}\n",
       "\n",
       ".xr-dim-list {\n",
       "  display: inline-block !important;\n",
       "  list-style: none;\n",
       "  padding: 0 !important;\n",
       "  margin: 0;\n",
       "}\n",
       "\n",
       ".xr-dim-list li {\n",
       "  display: inline-block;\n",
       "  padding: 0;\n",
       "  margin: 0;\n",
       "}\n",
       "\n",
       ".xr-dim-list:before {\n",
       "  content: '(';\n",
       "}\n",
       "\n",
       ".xr-dim-list:after {\n",
       "  content: ')';\n",
       "}\n",
       "\n",
       ".xr-dim-list li:not(:last-child):after {\n",
       "  content: ',';\n",
       "  padding-right: 5px;\n",
       "}\n",
       "\n",
       ".xr-has-index {\n",
       "  font-weight: bold;\n",
       "}\n",
       "\n",
       ".xr-var-list,\n",
       ".xr-var-item {\n",
       "  display: contents;\n",
       "}\n",
       "\n",
       ".xr-var-item > div,\n",
       ".xr-var-item label,\n",
       ".xr-var-item > .xr-var-name span {\n",
       "  background-color: var(--xr-background-color-row-even);\n",
       "  margin-bottom: 0;\n",
       "}\n",
       "\n",
       ".xr-var-item > .xr-var-name:hover span {\n",
       "  padding-right: 5px;\n",
       "}\n",
       "\n",
       ".xr-var-list > li:nth-child(odd) > div,\n",
       ".xr-var-list > li:nth-child(odd) > label,\n",
       ".xr-var-list > li:nth-child(odd) > .xr-var-name span {\n",
       "  background-color: var(--xr-background-color-row-odd);\n",
       "}\n",
       "\n",
       ".xr-var-name {\n",
       "  grid-column: 1;\n",
       "}\n",
       "\n",
       ".xr-var-dims {\n",
       "  grid-column: 2;\n",
       "}\n",
       "\n",
       ".xr-var-dtype {\n",
       "  grid-column: 3;\n",
       "  text-align: right;\n",
       "  color: var(--xr-font-color2);\n",
       "}\n",
       "\n",
       ".xr-var-preview {\n",
       "  grid-column: 4;\n",
       "}\n",
       "\n",
       ".xr-var-name,\n",
       ".xr-var-dims,\n",
       ".xr-var-dtype,\n",
       ".xr-preview,\n",
       ".xr-attrs dt {\n",
       "  white-space: nowrap;\n",
       "  overflow: hidden;\n",
       "  text-overflow: ellipsis;\n",
       "  padding-right: 10px;\n",
       "}\n",
       "\n",
       ".xr-var-name:hover,\n",
       ".xr-var-dims:hover,\n",
       ".xr-var-dtype:hover,\n",
       ".xr-attrs dt:hover {\n",
       "  overflow: visible;\n",
       "  width: auto;\n",
       "  z-index: 1;\n",
       "}\n",
       "\n",
       ".xr-var-attrs,\n",
       ".xr-var-data {\n",
       "  display: none;\n",
       "  background-color: var(--xr-background-color) !important;\n",
       "  padding-bottom: 5px !important;\n",
       "}\n",
       "\n",
       ".xr-var-attrs-in:checked ~ .xr-var-attrs,\n",
       ".xr-var-data-in:checked ~ .xr-var-data {\n",
       "  display: block;\n",
       "}\n",
       "\n",
       ".xr-var-data > table {\n",
       "  float: right;\n",
       "}\n",
       "\n",
       ".xr-var-name span,\n",
       ".xr-var-data,\n",
       ".xr-attrs {\n",
       "  padding-left: 25px !important;\n",
       "}\n",
       "\n",
       ".xr-attrs,\n",
       ".xr-var-attrs,\n",
       ".xr-var-data {\n",
       "  grid-column: 1 / -1;\n",
       "}\n",
       "\n",
       "dl.xr-attrs {\n",
       "  padding: 0;\n",
       "  margin: 0;\n",
       "  display: grid;\n",
       "  grid-template-columns: 125px auto;\n",
       "}\n",
       "\n",
       ".xr-attrs dt,\n",
       ".xr-attrs dd {\n",
       "  padding: 0;\n",
       "  margin: 0;\n",
       "  float: left;\n",
       "  padding-right: 10px;\n",
       "  width: auto;\n",
       "}\n",
       "\n",
       ".xr-attrs dt {\n",
       "  font-weight: normal;\n",
       "  grid-column: 1;\n",
       "}\n",
       "\n",
       ".xr-attrs dt:hover span {\n",
       "  display: inline-block;\n",
       "  background: var(--xr-background-color);\n",
       "  padding-right: 10px;\n",
       "}\n",
       "\n",
       ".xr-attrs dd {\n",
       "  grid-column: 2;\n",
       "  white-space: pre-wrap;\n",
       "  word-break: break-all;\n",
       "}\n",
       "\n",
       ".xr-icon-database,\n",
       ".xr-icon-file-text2 {\n",
       "  display: inline-block;\n",
       "  vertical-align: middle;\n",
       "  width: 1em;\n",
       "  height: 1.5em !important;\n",
       "  stroke-width: 0;\n",
       "  stroke: currentColor;\n",
       "  fill: currentColor;\n",
       "}\n",
       "</style><pre class='xr-text-repr-fallback'>&lt;xarray.DataArray &#x27;time&#x27; ()&gt;\n",
       "array(&#x27;1993-04-01T00:00:00.000000000&#x27;, dtype=&#x27;datetime64[ns]&#x27;)\n",
       "Coordinates:\n",
       "    step     int64 3\n",
       "    time     datetime64[ns] 1993-04-01</pre><div class='xr-wrap' hidden><div class='xr-header'><div class='xr-obj-type'>xarray.DataArray</div><div class='xr-array-name'>'time'</div></div><ul class='xr-sections'><li class='xr-section-item'><div class='xr-array-wrap'><input id='section-03bb3d8f-9cc2-4763-8087-df9947090aa2' class='xr-array-in' type='checkbox' checked><label for='section-03bb3d8f-9cc2-4763-8087-df9947090aa2' title='Show/hide data repr'><svg class='icon xr-icon-database'><use xlink:href='#icon-database'></use></svg></label><div class='xr-array-preview xr-preview'><span>1993-04-01</span></div><div class='xr-array-data'><pre>array(&#x27;1993-04-01T00:00:00.000000000&#x27;, dtype=&#x27;datetime64[ns]&#x27;)</pre></div></div></li><li class='xr-section-item'><input id='section-dadff1cb-21c1-4edb-9bd7-8ce928688edf' class='xr-section-summary-in' type='checkbox'  checked><label for='section-dadff1cb-21c1-4edb-9bd7-8ce928688edf' class='xr-section-summary' >Coordinates: <span>(2)</span></label><div class='xr-section-inline-details'></div><div class='xr-section-details'><ul class='xr-var-list'><li class='xr-var-item'><div class='xr-var-name'><span>step</span></div><div class='xr-var-dims'>()</div><div class='xr-var-dtype'>int64</div><div class='xr-var-preview xr-preview'>3</div><input id='attrs-4bbeae3f-36cf-47d5-897b-27a4bd346403' class='xr-var-attrs-in' type='checkbox' disabled><label for='attrs-4bbeae3f-36cf-47d5-897b-27a4bd346403' title='Show/Hide attributes'><svg class='icon xr-icon-file-text2'><use xlink:href='#icon-file-text2'></use></svg></label><input id='data-20c925ff-d45c-4f33-9d11-02722f8878ce' class='xr-var-data-in' type='checkbox'><label for='data-20c925ff-d45c-4f33-9d11-02722f8878ce' title='Show/Hide data repr'><svg class='icon xr-icon-database'><use xlink:href='#icon-database'></use></svg></label><div class='xr-var-attrs'><dl class='xr-attrs'></dl></div><div class='xr-var-data'><pre>array(3)</pre></div></li><li class='xr-var-item'><div class='xr-var-name'><span>time</span></div><div class='xr-var-dims'>()</div><div class='xr-var-dtype'>datetime64[ns]</div><div class='xr-var-preview xr-preview'>1993-04-01</div><input id='attrs-88135001-513b-42f9-bf57-83c790e2764c' class='xr-var-attrs-in' type='checkbox' disabled><label for='attrs-88135001-513b-42f9-bf57-83c790e2764c' title='Show/Hide attributes'><svg class='icon xr-icon-file-text2'><use xlink:href='#icon-file-text2'></use></svg></label><input id='data-537b814d-7702-4858-81e7-9d1cfb3be78a' class='xr-var-data-in' type='checkbox'><label for='data-537b814d-7702-4858-81e7-9d1cfb3be78a' title='Show/Hide data repr'><svg class='icon xr-icon-database'><use xlink:href='#icon-database'></use></svg></label><div class='xr-var-attrs'><dl class='xr-attrs'></dl></div><div class='xr-var-data'><pre>array(&#x27;1993-04-01T00:00:00.000000000&#x27;, dtype=&#x27;datetime64[ns]&#x27;)</pre></div></li></ul></div></li><li class='xr-section-item'><input id='section-160d8a54-62f7-42d1-806c-a71e65d837fb' class='xr-section-summary-in' type='checkbox' disabled ><label for='section-160d8a54-62f7-42d1-806c-a71e65d837fb' class='xr-section-summary'  title='Expand/collapse section'>Attributes: <span>(0)</span></label><div class='xr-section-inline-details'></div><div class='xr-section-details'><dl class='xr-attrs'></dl></div></li></ul></div></div>"
      ],
      "text/plain": [
       "<xarray.DataArray 'time' ()>\n",
       "array('1993-04-01T00:00:00.000000000', dtype='datetime64[ns]')\n",
       "Coordinates:\n",
       "    step     int64 3\n",
       "    time     datetime64[ns] 1993-04-01"
      ]
     },
     "execution_count": 21,
     "metadata": {},
     "output_type": "execute_result"
    }
   ],
   "source": [
    "dset_mme.time[0]"
   ]
  },
  {
   "cell_type": "code",
   "execution_count": 22,
   "id": "677b7bcb",
   "metadata": {
    "execution": {
     "iopub.execute_input": "2021-12-21T02:52:24.793118Z",
     "iopub.status.busy": "2021-12-21T02:52:24.792789Z",
     "iopub.status.idle": "2021-12-21T02:52:25.736737Z",
     "shell.execute_reply": "2021-12-21T02:52:25.736994Z"
    },
    "papermill": {
     "duration": 0.975844,
     "end_time": "2021-12-21T02:52:25.737092",
     "exception": false,
     "start_time": "2021-12-21T02:52:24.761248",
     "status": "completed"
    },
    "tags": []
   },
   "outputs": [
    {
     "data": {
      "text/plain": [
       "<xarray.plot.facetgrid.FacetGrid at 0x7f79db4677f0>"
      ]
     },
     "execution_count": 22,
     "metadata": {},
     "output_type": "execute_result"
    },
    {
     "data": {
      "image/png": "[encoded data removed]",
      "text/plain": [
       "<Figure size 936x216 with 5 Axes>"
      ]
     },
     "metadata": {
      "needs_background": "light"
     },
     "output_type": "display_data"
    }
   ],
   "source": [
    "dset_mme.sel(GCM='MME').isel(time=0)['precip'].plot(x='lon', y='lat', col=quantile)"
   ]
  },
  {
   "cell_type": "markdown",
   "id": "a3c76a98",
   "metadata": {
    "papermill": {
     "duration": 0.029227,
     "end_time": "2021-12-21T02:52:25.795748",
     "exception": false,
     "start_time": "2021-12-21T02:52:25.766521",
     "status": "completed"
    },
    "tags": []
   },
   "source": [
    "### most likely quartile "
   ]
  },
  {
   "cell_type": "code",
   "execution_count": 23,
   "id": "f3bdd8e9",
   "metadata": {
    "execution": {
     "iopub.execute_input": "2021-12-21T02:52:25.858595Z",
     "iopub.status.busy": "2021-12-21T02:52:25.858177Z",
     "iopub.status.idle": "2021-12-21T02:52:25.902651Z",
     "shell.execute_reply": "2021-12-21T02:52:25.902317Z"
    },
    "papermill": {
     "duration": 0.077294,
     "end_time": "2021-12-21T02:52:25.902732",
     "exception": false,
     "start_time": "2021-12-21T02:52:25.825438",
     "status": "completed"
    },
    "tags": []
   },
   "outputs": [],
   "source": [
    "dset_mme = dset_mme.idxmax(dim=quantile)"
   ]
  },
  {
   "cell_type": "code",
   "execution_count": 24,
   "id": "76db4795",
   "metadata": {
    "execution": {
     "iopub.execute_input": "2021-12-21T02:52:25.967996Z",
     "iopub.status.busy": "2021-12-21T02:52:25.967669Z",
     "iopub.status.idle": "2021-12-21T02:52:28.058029Z",
     "shell.execute_reply": "2021-12-21T02:52:28.057709Z"
    },
    "papermill": {
     "duration": 2.123037,
     "end_time": "2021-12-21T02:52:28.058106",
     "exception": false,
     "start_time": "2021-12-21T02:52:25.935069",
     "status": "completed"
    },
    "tags": []
   },
   "outputs": [
    {
     "data": {
      "text/plain": [
       "<matplotlib.collections.QuadMesh at 0x7f79db46bd30>"
      ]
     },
     "execution_count": 24,
     "metadata": {},
     "output_type": "execute_result"
    },
    {
     "data": {
      "image/png": "[encoded data removed]",
      "text/plain": [
       "<Figure size 432x288 with 2 Axes>"
      ]
     },
     "metadata": {
      "needs_background": "light"
     },
     "output_type": "display_data"
    }
   ],
   "source": [
    "dset_mme['precip'][0,0,:,:].plot()"
   ]
  },
  {
   "cell_type": "markdown",
   "id": "6ae1d7cf",
   "metadata": {
    "papermill": {
     "duration": 0.030635,
     "end_time": "2021-12-21T02:52:28.118112",
     "exception": false,
     "start_time": "2021-12-21T02:52:28.087477",
     "status": "completed"
    },
    "tags": []
   },
   "source": [
    "### Now reads in the verification dataset "
   ]
  },
  {
   "cell_type": "code",
   "execution_count": 25,
   "id": "24617d12",
   "metadata": {
    "execution": {
     "iopub.execute_input": "2021-12-21T02:52:28.181023Z",
     "iopub.status.busy": "2021-12-21T02:52:28.180704Z",
     "iopub.status.idle": "2021-12-21T02:52:28.196609Z",
     "shell.execute_reply": "2021-12-21T02:52:28.196286Z"
    },
    "papermill": {
     "duration": 0.04798,
     "end_time": "2021-12-21T02:52:28.196688",
     "exception": false,
     "start_time": "2021-12-21T02:52:28.148708",
     "status": "completed"
    },
    "tags": []
   },
   "outputs": [],
   "source": [
    "opath_verif_categories = CWD.parents[1].joinpath(f\"outputs/{verif_dset}_{quantile}_categories\")"
   ]
  },
  {
   "cell_type": "code",
   "execution_count": 26,
   "id": "e36eb8e0",
   "metadata": {
    "execution": {
     "iopub.execute_input": "2021-12-21T02:52:28.259494Z",
     "iopub.status.busy": "2021-12-21T02:52:28.259144Z",
     "iopub.status.idle": "2021-12-21T02:52:28.381841Z",
     "shell.execute_reply": "2021-12-21T02:52:28.381565Z"
    },
    "papermill": {
     "duration": 0.155407,
     "end_time": "2021-12-21T02:52:28.381924",
     "exception": false,
     "start_time": "2021-12-21T02:52:28.226517",
     "status": "completed"
    },
    "tags": []
   },
   "outputs": [],
   "source": [
    "verif_quantile_categories = xr.open_zarr(opath_verif_categories.joinpath(f\"{verif_dset}_{quantile}_{period}_categories.zarr\"))"
   ]
  },
  {
   "cell_type": "markdown",
   "id": "c39b511f",
   "metadata": {
    "papermill": {
     "duration": 0.03101,
     "end_time": "2021-12-21T02:52:28.442946",
     "exception": false,
     "start_time": "2021-12-21T02:52:28.411936",
     "status": "completed"
    },
    "tags": []
   },
   "source": [
    "### merge the datasets "
   ]
  },
  {
   "cell_type": "code",
   "execution_count": 27,
   "id": "a7b88327",
   "metadata": {
    "execution": {
     "iopub.execute_input": "2021-12-21T02:52:28.505727Z",
     "iopub.status.busy": "2021-12-21T02:52:28.505391Z",
     "iopub.status.idle": "2021-12-21T02:52:28.538143Z",
     "shell.execute_reply": "2021-12-21T02:52:28.537803Z"
    },
    "papermill": {
     "duration": 0.065052,
     "end_time": "2021-12-21T02:52:28.538229",
     "exception": false,
     "start_time": "2021-12-21T02:52:28.473177",
     "status": "completed"
    },
    "tags": []
   },
   "outputs": [],
   "source": [
    "dset_mme, verif_quantile_categories = xr.align(dset_mme, verif_quantile_categories)"
   ]
  },
  {
   "cell_type": "code",
   "execution_count": 28,
   "id": "4d7f13ed",
   "metadata": {
    "execution": {
     "iopub.execute_input": "2021-12-21T02:52:28.602069Z",
     "iopub.status.busy": "2021-12-21T02:52:28.601737Z",
     "iopub.status.idle": "2021-12-21T02:52:28.618789Z",
     "shell.execute_reply": "2021-12-21T02:52:28.618483Z"
    },
    "papermill": {
     "duration": 0.049913,
     "end_time": "2021-12-21T02:52:28.618869",
     "exception": false,
     "start_time": "2021-12-21T02:52:28.568956",
     "status": "completed"
    },
    "tags": []
   },
   "outputs": [],
   "source": [
    "dset_merge = dset_mme.rename_vars({'precip':'gcm'}).merge(verif_quantile_categories.rename_vars({'precip':'verif'}))"
   ]
  },
  {
   "cell_type": "code",
   "execution_count": 29,
   "id": "55684ef3",
   "metadata": {
    "execution": {
     "iopub.execute_input": "2021-12-21T02:52:28.680643Z",
     "iopub.status.busy": "2021-12-21T02:52:28.680331Z",
     "iopub.status.idle": "2021-12-21T02:52:28.713322Z",
     "shell.execute_reply": "2021-12-21T02:52:28.713000Z"
    },
    "papermill": {
     "duration": 0.064807,
     "end_time": "2021-12-21T02:52:28.713402",
     "exception": false,
     "start_time": "2021-12-21T02:52:28.648595",
     "status": "completed"
    },
    "tags": []
   },
   "outputs": [
    {
     "data": {
      "text/html": [
       "<div><svg style=\"position: absolute; width: 0; height: 0; overflow: hidden\">\n",
       "<defs>\n",
       "<symbol id=\"icon-database\" viewBox=\"0 0 32 32\">\n",
       "<path d=\"M16 0c-8.837 0-16 2.239-16 5v4c0 2.761 7.163 5 16 5s16-2.239 16-5v-4c0-2.761-7.163-5-16-5z\"></path>\n",
       "<path d=\"M16 17c-8.837 0-16-2.239-16-5v6c0 2.761 7.163 5 16 5s16-2.239 16-5v-6c0 2.761-7.163 5-16 5z\"></path>\n",
       "<path d=\"M16 26c-8.837 0-16-2.239-16-5v6c0 2.761 7.163 5 16 5s16-2.239 16-5v-6c0 2.761-7.163 5-16 5z\"></path>\n",
       "</symbol>\n",
       "<symbol id=\"icon-file-text2\" viewBox=\"0 0 32 32\">\n",
       "<path d=\"M28.681 7.159c-0.694-0.947-1.662-2.053-2.724-3.116s-2.169-2.030-3.116-2.724c-1.612-1.182-2.393-1.319-2.841-1.319h-15.5c-1.378 0-2.5 1.121-2.5 2.5v27c0 1.378 1.122 2.5 2.5 2.5h23c1.378 0 2.5-1.122 2.5-2.5v-19.5c0-0.448-0.137-1.23-1.319-2.841zM24.543 5.457c0.959 0.959 1.712 1.825 2.268 2.543h-4.811v-4.811c0.718 0.556 1.584 1.309 2.543 2.268zM28 29.5c0 0.271-0.229 0.5-0.5 0.5h-23c-0.271 0-0.5-0.229-0.5-0.5v-27c0-0.271 0.229-0.5 0.5-0.5 0 0 15.499-0 15.5 0v7c0 0.552 0.448 1 1 1h7v19.5z\"></path>\n",
       "<path d=\"M23 26h-14c-0.552 0-1-0.448-1-1s0.448-1 1-1h14c0.552 0 1 0.448 1 1s-0.448 1-1 1z\"></path>\n",
       "<path d=\"M23 22h-14c-0.552 0-1-0.448-1-1s0.448-1 1-1h14c0.552 0 1 0.448 1 1s-0.448 1-1 1z\"></path>\n",
       "<path d=\"M23 18h-14c-0.552 0-1-0.448-1-1s0.448-1 1-1h14c0.552 0 1 0.448 1 1s-0.448 1-1 1z\"></path>\n",
       "</symbol>\n",
       "</defs>\n",
       "</svg>\n",
       "<style>/* CSS stylesheet for displaying xarray objects in jupyterlab.\n",
       " *\n",
       " */\n",
       "\n",
       ":root {\n",
       "  --xr-font-color0: var(--jp-content-font-color0, rgba(0, 0, 0, 1));\n",
       "  --xr-font-color2: var(--jp-content-font-color2, rgba(0, 0, 0, 0.54));\n",
       "  --xr-font-color3: var(--jp-content-font-color3, rgba(0, 0, 0, 0.38));\n",
       "  --xr-border-color: var(--jp-border-color2, #e0e0e0);\n",
       "  --xr-disabled-color: var(--jp-layout-color3, #bdbdbd);\n",
       "  --xr-background-color: var(--jp-layout-color0, white);\n",
       "  --xr-background-color-row-even: var(--jp-layout-color1, white);\n",
       "  --xr-background-color-row-odd: var(--jp-layout-color2, #eeeeee);\n",
       "}\n",
       "\n",
       "html[theme=dark],\n",
       "body.vscode-dark {\n",
       "  --xr-font-color0: rgba(255, 255, 255, 1);\n",
       "  --xr-font-color2: rgba(255, 255, 255, 0.54);\n",
       "  --xr-font-color3: rgba(255, 255, 255, 0.38);\n",
       "  --xr-border-color: #1F1F1F;\n",
       "  --xr-disabled-color: #515151;\n",
       "  --xr-background-color: #111111;\n",
       "  --xr-background-color-row-even: #111111;\n",
       "  --xr-background-color-row-odd: #313131;\n",
       "}\n",
       "\n",
       ".xr-wrap {\n",
       "  display: block;\n",
       "  min-width: 300px;\n",
       "  max-width: 700px;\n",
       "}\n",
       "\n",
       ".xr-text-repr-fallback {\n",
       "  /* fallback to plain text repr when CSS is not injected (untrusted notebook) */\n",
       "  display: none;\n",
       "}\n",
       "\n",
       ".xr-header {\n",
       "  padding-top: 6px;\n",
       "  padding-bottom: 6px;\n",
       "  margin-bottom: 4px;\n",
       "  border-bottom: solid 1px var(--xr-border-color);\n",
       "}\n",
       "\n",
       ".xr-header > div,\n",
       ".xr-header > ul {\n",
       "  display: inline;\n",
       "  margin-top: 0;\n",
       "  margin-bottom: 0;\n",
       "}\n",
       "\n",
       ".xr-obj-type,\n",
       ".xr-array-name {\n",
       "  margin-left: 2px;\n",
       "  margin-right: 10px;\n",
       "}\n",
       "\n",
       ".xr-obj-type {\n",
       "  color: var(--xr-font-color2);\n",
       "}\n",
       "\n",
       ".xr-sections {\n",
       "  padding-left: 0 !important;\n",
       "  display: grid;\n",
       "  grid-template-columns: 150px auto auto 1fr 20px 20px;\n",
       "}\n",
       "\n",
       ".xr-section-item {\n",
       "  display: contents;\n",
       "}\n",
       "\n",
       ".xr-section-item input {\n",
       "  display: none;\n",
       "}\n",
       "\n",
       ".xr-section-item input + label {\n",
       "  color: var(--xr-disabled-color);\n",
       "}\n",
       "\n",
       ".xr-section-item input:enabled + label {\n",
       "  cursor: pointer;\n",
       "  color: var(--xr-font-color2);\n",
       "}\n",
       "\n",
       ".xr-section-item input:enabled + label:hover {\n",
       "  color: var(--xr-font-color0);\n",
       "}\n",
       "\n",
       ".xr-section-summary {\n",
       "  grid-column: 1;\n",
       "  color: var(--xr-font-color2);\n",
       "  font-weight: 500;\n",
       "}\n",
       "\n",
       ".xr-section-summary > span {\n",
       "  display: inline-block;\n",
       "  padding-left: 0.5em;\n",
       "}\n",
       "\n",
       ".xr-section-summary-in:disabled + label {\n",
       "  color: var(--xr-font-color2);\n",
       "}\n",
       "\n",
       ".xr-section-summary-in + label:before {\n",
       "  display: inline-block;\n",
       "  content: '►';\n",
       "  font-size: 11px;\n",
       "  width: 15px;\n",
       "  text-align: center;\n",
       "}\n",
       "\n",
       ".xr-section-summary-in:disabled + label:before {\n",
       "  color: var(--xr-disabled-color);\n",
       "}\n",
       "\n",
       ".xr-section-summary-in:checked + label:before {\n",
       "  content: '▼';\n",
       "}\n",
       "\n",
       ".xr-section-summary-in:checked + label > span {\n",
       "  display: none;\n",
       "}\n",
       "\n",
       ".xr-section-summary,\n",
       ".xr-section-inline-details {\n",
       "  padding-top: 4px;\n",
       "  padding-bottom: 4px;\n",
       "}\n",
       "\n",
       ".xr-section-inline-details {\n",
       "  grid-column: 2 / -1;\n",
       "}\n",
       "\n",
       ".xr-section-details {\n",
       "  display: none;\n",
       "  grid-column: 1 / -1;\n",
       "  margin-bottom: 5px;\n",
       "}\n",
       "\n",
       ".xr-section-summary-in:checked ~ .xr-section-details {\n",
       "  display: contents;\n",
       "}\n",
       "\n",
       ".xr-array-wrap {\n",
       "  grid-column: 1 / -1;\n",
       "  display: grid;\n",
       "  grid-template-columns: 20px auto;\n",
       "}\n",
       "\n",
       ".xr-array-wrap > label {\n",
       "  grid-column: 1;\n",
       "  vertical-align: top;\n",
       "}\n",
       "\n",
       ".xr-preview {\n",
       "  color: var(--xr-font-color3);\n",
       "}\n",
       "\n",
       ".xr-array-preview,\n",
       ".xr-array-data {\n",
       "  padding: 0 5px !important;\n",
       "  grid-column: 2;\n",
       "}\n",
       "\n",
       ".xr-array-data,\n",
       ".xr-array-in:checked ~ .xr-array-preview {\n",
       "  display: none;\n",
       "}\n",
       "\n",
       ".xr-array-in:checked ~ .xr-array-data,\n",
       ".xr-array-preview {\n",
       "  display: inline-block;\n",
       "}\n",
       "\n",
       ".xr-dim-list {\n",
       "  display: inline-block !important;\n",
       "  list-style: none;\n",
       "  padding: 0 !important;\n",
       "  margin: 0;\n",
       "}\n",
       "\n",
       ".xr-dim-list li {\n",
       "  display: inline-block;\n",
       "  padding: 0;\n",
       "  margin: 0;\n",
       "}\n",
       "\n",
       ".xr-dim-list:before {\n",
       "  content: '(';\n",
       "}\n",
       "\n",
       ".xr-dim-list:after {\n",
       "  content: ')';\n",
       "}\n",
       "\n",
       ".xr-dim-list li:not(:last-child):after {\n",
       "  content: ',';\n",
       "  padding-right: 5px;\n",
       "}\n",
       "\n",
       ".xr-has-index {\n",
       "  font-weight: bold;\n",
       "}\n",
       "\n",
       ".xr-var-list,\n",
       ".xr-var-item {\n",
       "  display: contents;\n",
       "}\n",
       "\n",
       ".xr-var-item > div,\n",
       ".xr-var-item label,\n",
       ".xr-var-item > .xr-var-name span {\n",
       "  background-color: var(--xr-background-color-row-even);\n",
       "  margin-bottom: 0;\n",
       "}\n",
       "\n",
       ".xr-var-item > .xr-var-name:hover span {\n",
       "  padding-right: 5px;\n",
       "}\n",
       "\n",
       ".xr-var-list > li:nth-child(odd) > div,\n",
       ".xr-var-list > li:nth-child(odd) > label,\n",
       ".xr-var-list > li:nth-child(odd) > .xr-var-name span {\n",
       "  background-color: var(--xr-background-color-row-odd);\n",
       "}\n",
       "\n",
       ".xr-var-name {\n",
       "  grid-column: 1;\n",
       "}\n",
       "\n",
       ".xr-var-dims {\n",
       "  grid-column: 2;\n",
       "}\n",
       "\n",
       ".xr-var-dtype {\n",
       "  grid-column: 3;\n",
       "  text-align: right;\n",
       "  color: var(--xr-font-color2);\n",
       "}\n",
       "\n",
       ".xr-var-preview {\n",
       "  grid-column: 4;\n",
       "}\n",
       "\n",
       ".xr-var-name,\n",
       ".xr-var-dims,\n",
       ".xr-var-dtype,\n",
       ".xr-preview,\n",
       ".xr-attrs dt {\n",
       "  white-space: nowrap;\n",
       "  overflow: hidden;\n",
       "  text-overflow: ellipsis;\n",
       "  padding-right: 10px;\n",
       "}\n",
       "\n",
       ".xr-var-name:hover,\n",
       ".xr-var-dims:hover,\n",
       ".xr-var-dtype:hover,\n",
       ".xr-attrs dt:hover {\n",
       "  overflow: visible;\n",
       "  width: auto;\n",
       "  z-index: 1;\n",
       "}\n",
       "\n",
       ".xr-var-attrs,\n",
       ".xr-var-data {\n",
       "  display: none;\n",
       "  background-color: var(--xr-background-color) !important;\n",
       "  padding-bottom: 5px !important;\n",
       "}\n",
       "\n",
       ".xr-var-attrs-in:checked ~ .xr-var-attrs,\n",
       ".xr-var-data-in:checked ~ .xr-var-data {\n",
       "  display: block;\n",
       "}\n",
       "\n",
       ".xr-var-data > table {\n",
       "  float: right;\n",
       "}\n",
       "\n",
       ".xr-var-name span,\n",
       ".xr-var-data,\n",
       ".xr-attrs {\n",
       "  padding-left: 25px !important;\n",
       "}\n",
       "\n",
       ".xr-attrs,\n",
       ".xr-var-attrs,\n",
       ".xr-var-data {\n",
       "  grid-column: 1 / -1;\n",
       "}\n",
       "\n",
       "dl.xr-attrs {\n",
       "  padding: 0;\n",
       "  margin: 0;\n",
       "  display: grid;\n",
       "  grid-template-columns: 125px auto;\n",
       "}\n",
       "\n",
       ".xr-attrs dt,\n",
       ".xr-attrs dd {\n",
       "  padding: 0;\n",
       "  margin: 0;\n",
       "  float: left;\n",
       "  padding-right: 10px;\n",
       "  width: auto;\n",
       "}\n",
       "\n",
       ".xr-attrs dt {\n",
       "  font-weight: normal;\n",
       "  grid-column: 1;\n",
       "}\n",
       "\n",
       ".xr-attrs dt:hover span {\n",
       "  display: inline-block;\n",
       "  background: var(--xr-background-color);\n",
       "  padding-right: 10px;\n",
       "}\n",
       "\n",
       ".xr-attrs dd {\n",
       "  grid-column: 2;\n",
       "  white-space: pre-wrap;\n",
       "  word-break: break-all;\n",
       "}\n",
       "\n",
       ".xr-icon-database,\n",
       ".xr-icon-file-text2 {\n",
       "  display: inline-block;\n",
       "  vertical-align: middle;\n",
       "  width: 1em;\n",
       "  height: 1.5em !important;\n",
       "  stroke-width: 0;\n",
       "  stroke: currentColor;\n",
       "  fill: currentColor;\n",
       "}\n",
       "</style><pre class='xr-text-repr-fallback'>&lt;xarray.Dataset&gt;\n",
       "Dimensions:  (lat: 61, time: 285, GCM: 8, lon: 121)\n",
       "Coordinates:\n",
       "  * lat      (lat) float64 -35.0 -34.0 -33.0 -32.0 -31.0 ... 22.0 23.0 24.0 25.0\n",
       "  * time     (time) datetime64[ns] 1993-04-01 1993-05-01 ... 2016-12-01\n",
       "  * GCM      (GCM) &lt;U12 &#x27;CMCC&#x27; &#x27;DWD&#x27; &#x27;ECMWF&#x27; &#x27;JMA&#x27; ... &#x27;MME&#x27; &#x27;NCEP&#x27; &#x27;UKMO&#x27;\n",
       "  * lon      (lon) float32 120.0 121.0 122.0 123.0 ... 237.0 238.0 239.0 240.0\n",
       "    step     int64 3\n",
       "    month    (time) int64 dask.array&lt;chunksize=(285,), meta=np.ndarray&gt;\n",
       "Data variables:\n",
       "    gcm      (GCM, time, lat, lon) float64 dask.array&lt;chunksize=(1, 285, 5, 10), meta=np.ndarray&gt;\n",
       "    verif    (time, lat, lon) int64 dask.array&lt;chunksize=(1, 10, 10), meta=np.ndarray&gt;</pre><div class='xr-wrap' hidden><div class='xr-header'><div class='xr-obj-type'>xarray.Dataset</div></div><ul class='xr-sections'><li class='xr-section-item'><input id='section-06fc43e4-d1cc-4ac4-8b38-9b111fc4dbee' class='xr-section-summary-in' type='checkbox' disabled ><label for='section-06fc43e4-d1cc-4ac4-8b38-9b111fc4dbee' class='xr-section-summary'  title='Expand/collapse section'>Dimensions:</label><div class='xr-section-inline-details'><ul class='xr-dim-list'><li><span class='xr-has-index'>lat</span>: 61</li><li><span class='xr-has-index'>time</span>: 285</li><li><span class='xr-has-index'>GCM</span>: 8</li><li><span class='xr-has-index'>lon</span>: 121</li></ul></div><div class='xr-section-details'></div></li><li class='xr-section-item'><input id='section-f5abfa10-6900-4c48-b92e-1d1a3e591bd5' class='xr-section-summary-in' type='checkbox'  checked><label for='section-f5abfa10-6900-4c48-b92e-1d1a3e591bd5' class='xr-section-summary' >Coordinates: <span>(6)</span></label><div class='xr-section-inline-details'></div><div class='xr-section-details'><ul class='xr-var-list'><li class='xr-var-item'><div class='xr-var-name'><span class='xr-has-index'>lat</span></div><div class='xr-var-dims'>(lat)</div><div class='xr-var-dtype'>float64</div><div class='xr-var-preview xr-preview'>-35.0 -34.0 -33.0 ... 24.0 25.0</div><input id='attrs-0b90202b-35d8-415a-9aaf-ff49dc2a6f6f' class='xr-var-attrs-in' type='checkbox' disabled><label for='attrs-0b90202b-35d8-415a-9aaf-ff49dc2a6f6f' title='Show/Hide attributes'><svg class='icon xr-icon-file-text2'><use xlink:href='#icon-file-text2'></use></svg></label><input id='data-690646a1-0616-4954-800c-06e6935d9892' class='xr-var-data-in' type='checkbox'><label for='data-690646a1-0616-4954-800c-06e6935d9892' title='Show/Hide data repr'><svg class='icon xr-icon-database'><use xlink:href='#icon-database'></use></svg></label><div class='xr-var-attrs'><dl class='xr-attrs'></dl></div><div class='xr-var-data'><pre>array([-35., -34., -33., -32., -31., -30., -29., -28., -27., -26., -25., -24.,\n",
       "       -23., -22., -21., -20., -19., -18., -17., -16., -15., -14., -13., -12.,\n",
       "       -11., -10.,  -9.,  -8.,  -7.,  -6.,  -5.,  -4.,  -3.,  -2.,  -1.,   0.,\n",
       "         1.,   2.,   3.,   4.,   5.,   6.,   7.,   8.,   9.,  10.,  11.,  12.,\n",
       "        13.,  14.,  15.,  16.,  17.,  18.,  19.,  20.,  21.,  22.,  23.,  24.,\n",
       "        25.])</pre></div></li><li class='xr-var-item'><div class='xr-var-name'><span class='xr-has-index'>time</span></div><div class='xr-var-dims'>(time)</div><div class='xr-var-dtype'>datetime64[ns]</div><div class='xr-var-preview xr-preview'>1993-04-01 ... 2016-12-01</div><input id='attrs-f25c3c34-7b01-4822-a437-e350df9cd6fd' class='xr-var-attrs-in' type='checkbox' disabled><label for='attrs-f25c3c34-7b01-4822-a437-e350df9cd6fd' title='Show/Hide attributes'><svg class='icon xr-icon-file-text2'><use xlink:href='#icon-file-text2'></use></svg></label><input id='data-2f15d4d3-c0c9-4287-86fe-837ec5ac0005' class='xr-var-data-in' type='checkbox'><label for='data-2f15d4d3-c0c9-4287-86fe-837ec5ac0005' title='Show/Hide data repr'><svg class='icon xr-icon-database'><use xlink:href='#icon-database'></use></svg></label><div class='xr-var-attrs'><dl class='xr-attrs'></dl></div><div class='xr-var-data'><pre>array([&#x27;1993-04-01T00:00:00.000000000&#x27;, &#x27;1993-05-01T00:00:00.000000000&#x27;,\n",
       "       &#x27;1993-06-01T00:00:00.000000000&#x27;, ..., &#x27;2016-10-01T00:00:00.000000000&#x27;,\n",
       "       &#x27;2016-11-01T00:00:00.000000000&#x27;, &#x27;2016-12-01T00:00:00.000000000&#x27;],\n",
       "      dtype=&#x27;datetime64[ns]&#x27;)</pre></div></li><li class='xr-var-item'><div class='xr-var-name'><span class='xr-has-index'>GCM</span></div><div class='xr-var-dims'>(GCM)</div><div class='xr-var-dtype'>&lt;U12</div><div class='xr-var-preview xr-preview'>&#x27;CMCC&#x27; &#x27;DWD&#x27; ... &#x27;NCEP&#x27; &#x27;UKMO&#x27;</div><input id='attrs-4807b2ab-ba88-4d77-8caa-11121c2969c3' class='xr-var-attrs-in' type='checkbox' disabled><label for='attrs-4807b2ab-ba88-4d77-8caa-11121c2969c3' title='Show/Hide attributes'><svg class='icon xr-icon-file-text2'><use xlink:href='#icon-file-text2'></use></svg></label><input id='data-66e1087d-464f-4f0d-8caa-2f31c91b70b7' class='xr-var-data-in' type='checkbox'><label for='data-66e1087d-464f-4f0d-8caa-2f31c91b70b7' title='Show/Hide data repr'><svg class='icon xr-icon-database'><use xlink:href='#icon-database'></use></svg></label><div class='xr-var-attrs'><dl class='xr-attrs'></dl></div><div class='xr-var-data'><pre>array([&#x27;CMCC&#x27;, &#x27;DWD&#x27;, &#x27;ECMWF&#x27;, &#x27;JMA&#x27;, &#x27;METEO_FRANCE&#x27;, &#x27;MME&#x27;, &#x27;NCEP&#x27;, &#x27;UKMO&#x27;],\n",
       "      dtype=&#x27;&lt;U12&#x27;)</pre></div></li><li class='xr-var-item'><div class='xr-var-name'><span class='xr-has-index'>lon</span></div><div class='xr-var-dims'>(lon)</div><div class='xr-var-dtype'>float32</div><div class='xr-var-preview xr-preview'>120.0 121.0 122.0 ... 239.0 240.0</div><input id='attrs-9baa8d6c-f23f-440f-85ea-1fe3507e1f16' class='xr-var-attrs-in' type='checkbox' disabled><label for='attrs-9baa8d6c-f23f-440f-85ea-1fe3507e1f16' title='Show/Hide attributes'><svg class='icon xr-icon-file-text2'><use xlink:href='#icon-file-text2'></use></svg></label><input id='data-77382a21-2201-4ec1-9cdb-044cdf00867d' class='xr-var-data-in' type='checkbox'><label for='data-77382a21-2201-4ec1-9cdb-044cdf00867d' title='Show/Hide data repr'><svg class='icon xr-icon-database'><use xlink:href='#icon-database'></use></svg></label><div class='xr-var-attrs'><dl class='xr-attrs'></dl></div><div class='xr-var-data'><pre>array([120., 121., 122., 123., 124., 125., 126., 127., 128., 129., 130., 131.,\n",
       "       132., 133., 134., 135., 136., 137., 138., 139., 140., 141., 142., 143.,\n",
       "       144., 145., 146., 147., 148., 149., 150., 151., 152., 153., 154., 155.,\n",
       "       156., 157., 158., 159., 160., 161., 162., 163., 164., 165., 166., 167.,\n",
       "       168., 169., 170., 171., 172., 173., 174., 175., 176., 177., 178., 179.,\n",
       "       180., 181., 182., 183., 184., 185., 186., 187., 188., 189., 190., 191.,\n",
       "       192., 193., 194., 195., 196., 197., 198., 199., 200., 201., 202., 203.,\n",
       "       204., 205., 206., 207., 208., 209., 210., 211., 212., 213., 214., 215.,\n",
       "       216., 217., 218., 219., 220., 221., 222., 223., 224., 225., 226., 227.,\n",
       "       228., 229., 230., 231., 232., 233., 234., 235., 236., 237., 238., 239.,\n",
       "       240.], dtype=float32)</pre></div></li><li class='xr-var-item'><div class='xr-var-name'><span>step</span></div><div class='xr-var-dims'>()</div><div class='xr-var-dtype'>int64</div><div class='xr-var-preview xr-preview'>3</div><input id='attrs-5b996a5b-4b9d-4295-b109-b73925c7cde6' class='xr-var-attrs-in' type='checkbox' disabled><label for='attrs-5b996a5b-4b9d-4295-b109-b73925c7cde6' title='Show/Hide attributes'><svg class='icon xr-icon-file-text2'><use xlink:href='#icon-file-text2'></use></svg></label><input id='data-f270c240-d996-4844-b227-3b9c229bfdde' class='xr-var-data-in' type='checkbox'><label for='data-f270c240-d996-4844-b227-3b9c229bfdde' title='Show/Hide data repr'><svg class='icon xr-icon-database'><use xlink:href='#icon-database'></use></svg></label><div class='xr-var-attrs'><dl class='xr-attrs'></dl></div><div class='xr-var-data'><pre>array(3)</pre></div></li><li class='xr-var-item'><div class='xr-var-name'><span>month</span></div><div class='xr-var-dims'>(time)</div><div class='xr-var-dtype'>int64</div><div class='xr-var-preview xr-preview'>dask.array&lt;chunksize=(285,), meta=np.ndarray&gt;</div><input id='attrs-3e732a7a-5c71-41f8-af23-908e54b0d7dc' class='xr-var-attrs-in' type='checkbox' disabled><label for='attrs-3e732a7a-5c71-41f8-af23-908e54b0d7dc' title='Show/Hide attributes'><svg class='icon xr-icon-file-text2'><use xlink:href='#icon-file-text2'></use></svg></label><input id='data-f5ece3ac-6525-44c2-8343-e24fb1ab2a6c' class='xr-var-data-in' type='checkbox'><label for='data-f5ece3ac-6525-44c2-8343-e24fb1ab2a6c' title='Show/Hide data repr'><svg class='icon xr-icon-database'><use xlink:href='#icon-database'></use></svg></label><div class='xr-var-attrs'><dl class='xr-attrs'></dl></div><div class='xr-var-data'><table>\n",
       "    <tr>\n",
       "        <td>\n",
       "            <table>\n",
       "                <thead>\n",
       "                    <tr>\n",
       "                        <td> </td>\n",
       "                        <th> Array </th>\n",
       "                        <th> Chunk </th>\n",
       "                    </tr>\n",
       "                </thead>\n",
       "                <tbody>\n",
       "                    \n",
       "                    <tr>\n",
       "                        <th> Bytes </th>\n",
       "                        <td> 2.23 kiB </td>\n",
       "                        <td> 2.23 kiB </td>\n",
       "                    </tr>\n",
       "                    \n",
       "                    <tr>\n",
       "                        <th> Shape </th>\n",
       "                        <td> (285,) </td>\n",
       "                        <td> (285,) </td>\n",
       "                    </tr>\n",
       "                    <tr>\n",
       "                        <th> Count </th>\n",
       "                        <td> 3 Tasks </td>\n",
       "                        <td> 1 Chunks </td>\n",
       "                    </tr>\n",
       "                    <tr>\n",
       "                    <th> Type </th>\n",
       "                    <td> int64 </td>\n",
       "                    <td> numpy.ndarray </td>\n",
       "                    </tr>\n",
       "                </tbody>\n",
       "            </table>\n",
       "        </td>\n",
       "        <td>\n",
       "        <svg width=\"170\" height=\"75\" style=\"stroke:rgb(0,0,0);stroke-width:1\" >\n",
       "\n",
       "  <!-- Horizontal lines -->\n",
       "  <line x1=\"0\" y1=\"0\" x2=\"120\" y2=\"0\" style=\"stroke-width:2\" />\n",
       "  <line x1=\"0\" y1=\"25\" x2=\"120\" y2=\"25\" style=\"stroke-width:2\" />\n",
       "\n",
       "  <!-- Vertical lines -->\n",
       "  <line x1=\"0\" y1=\"0\" x2=\"0\" y2=\"25\" style=\"stroke-width:2\" />\n",
       "  <line x1=\"120\" y1=\"0\" x2=\"120\" y2=\"25\" style=\"stroke-width:2\" />\n",
       "\n",
       "  <!-- Colored Rectangle -->\n",
       "  <polygon points=\"0.0,0.0 120.0,0.0 120.0,25.412616514582485 0.0,25.412616514582485\" style=\"fill:#ECB172A0;stroke-width:0\"/>\n",
       "\n",
       "  <!-- Text -->\n",
       "  <text x=\"60.000000\" y=\"45.412617\" font-size=\"1.0rem\" font-weight=\"100\" text-anchor=\"middle\" >285</text>\n",
       "  <text x=\"140.000000\" y=\"12.706308\" font-size=\"1.0rem\" font-weight=\"100\" text-anchor=\"middle\" transform=\"rotate(0,140.000000,12.706308)\">1</text>\n",
       "</svg>\n",
       "        </td>\n",
       "    </tr>\n",
       "</table></div></li></ul></div></li><li class='xr-section-item'><input id='section-115c8ca3-f67b-46e7-935d-631148913733' class='xr-section-summary-in' type='checkbox'  checked><label for='section-115c8ca3-f67b-46e7-935d-631148913733' class='xr-section-summary' >Data variables: <span>(2)</span></label><div class='xr-section-inline-details'></div><div class='xr-section-details'><ul class='xr-var-list'><li class='xr-var-item'><div class='xr-var-name'><span>gcm</span></div><div class='xr-var-dims'>(GCM, time, lat, lon)</div><div class='xr-var-dtype'>float64</div><div class='xr-var-preview xr-preview'>dask.array&lt;chunksize=(1, 285, 5, 10), meta=np.ndarray&gt;</div><input id='attrs-f0e41f7a-07c6-4bfa-bea6-50238737f005' class='xr-var-attrs-in' type='checkbox' disabled><label for='attrs-f0e41f7a-07c6-4bfa-bea6-50238737f005' title='Show/Hide attributes'><svg class='icon xr-icon-file-text2'><use xlink:href='#icon-file-text2'></use></svg></label><input id='data-a243e1f2-a7b2-4edc-ad3a-25f52e74082d' class='xr-var-data-in' type='checkbox'><label for='data-a243e1f2-a7b2-4edc-ad3a-25f52e74082d' title='Show/Hide data repr'><svg class='icon xr-icon-database'><use xlink:href='#icon-database'></use></svg></label><div class='xr-var-attrs'><dl class='xr-attrs'></dl></div><div class='xr-var-data'><table>\n",
       "    <tr>\n",
       "        <td>\n",
       "            <table>\n",
       "                <thead>\n",
       "                    <tr>\n",
       "                        <td> </td>\n",
       "                        <th> Array </th>\n",
       "                        <th> Chunk </th>\n",
       "                    </tr>\n",
       "                </thead>\n",
       "                <tbody>\n",
       "                    \n",
       "                    <tr>\n",
       "                        <th> Bytes </th>\n",
       "                        <td> 128.39 MiB </td>\n",
       "                        <td> 222.66 kiB </td>\n",
       "                    </tr>\n",
       "                    \n",
       "                    <tr>\n",
       "                        <th> Shape </th>\n",
       "                        <td> (8, 285, 61, 121) </td>\n",
       "                        <td> (1, 285, 10, 10) </td>\n",
       "                    </tr>\n",
       "                    <tr>\n",
       "                        <th> Count </th>\n",
       "                        <td> 10447 Tasks </td>\n",
       "                        <td> 728 Chunks </td>\n",
       "                    </tr>\n",
       "                    <tr>\n",
       "                    <th> Type </th>\n",
       "                    <td> float64 </td>\n",
       "                    <td> numpy.ndarray </td>\n",
       "                    </tr>\n",
       "                </tbody>\n",
       "            </table>\n",
       "        </td>\n",
       "        <td>\n",
       "        <svg width=\"371\" height=\"162\" style=\"stroke:rgb(0,0,0);stroke-width:1\" >\n",
       "\n",
       "  <!-- Horizontal lines -->\n",
       "  <line x1=\"0\" y1=\"0\" x2=\"30\" y2=\"0\" style=\"stroke-width:2\" />\n",
       "  <line x1=\"0\" y1=\"25\" x2=\"30\" y2=\"25\" style=\"stroke-width:2\" />\n",
       "\n",
       "  <!-- Vertical lines -->\n",
       "  <line x1=\"0\" y1=\"0\" x2=\"0\" y2=\"25\" style=\"stroke-width:2\" />\n",
       "  <line x1=\"3\" y1=\"0\" x2=\"3\" y2=\"25\" />\n",
       "  <line x1=\"7\" y1=\"0\" x2=\"7\" y2=\"25\" />\n",
       "  <line x1=\"11\" y1=\"0\" x2=\"11\" y2=\"25\" />\n",
       "  <line x1=\"15\" y1=\"0\" x2=\"15\" y2=\"25\" />\n",
       "  <line x1=\"19\" y1=\"0\" x2=\"19\" y2=\"25\" />\n",
       "  <line x1=\"23\" y1=\"0\" x2=\"23\" y2=\"25\" />\n",
       "  <line x1=\"27\" y1=\"0\" x2=\"27\" y2=\"25\" />\n",
       "  <line x1=\"30\" y1=\"0\" x2=\"30\" y2=\"25\" style=\"stroke-width:2\" />\n",
       "\n",
       "  <!-- Colored Rectangle -->\n",
       "  <polygon points=\"0.0,0.0 30.993963159015024,0.0 30.993963159015024,25.412616514582485 0.0,25.412616514582485\" style=\"fill:#ECB172A0;stroke-width:0\"/>\n",
       "\n",
       "  <!-- Text -->\n",
       "  <text x=\"15.496982\" y=\"45.412617\" font-size=\"1.0rem\" font-weight=\"100\" text-anchor=\"middle\" >8</text>\n",
       "  <text x=\"50.993963\" y=\"12.706308\" font-size=\"1.0rem\" font-weight=\"100\" text-anchor=\"middle\" transform=\"rotate(0,50.993963,12.706308)\">1</text>\n",
       "\n",
       "\n",
       "  <!-- Horizontal lines -->\n",
       "  <line x1=\"100\" y1=\"0\" x2=\"170\" y2=\"70\" style=\"stroke-width:2\" />\n",
       "  <line x1=\"100\" y1=\"3\" x2=\"170\" y2=\"74\" />\n",
       "  <line x1=\"100\" y1=\"10\" x2=\"170\" y2=\"80\" />\n",
       "  <line x1=\"100\" y1=\"17\" x2=\"170\" y2=\"87\" />\n",
       "  <line x1=\"100\" y1=\"24\" x2=\"170\" y2=\"94\" />\n",
       "  <line x1=\"100\" y1=\"31\" x2=\"170\" y2=\"101\" />\n",
       "  <line x1=\"100\" y1=\"38\" x2=\"170\" y2=\"108\" />\n",
       "  <line x1=\"100\" y1=\"42\" x2=\"170\" y2=\"112\" style=\"stroke-width:2\" />\n",
       "\n",
       "  <!-- Vertical lines -->\n",
       "  <line x1=\"100\" y1=\"0\" x2=\"100\" y2=\"42\" style=\"stroke-width:2\" />\n",
       "  <line x1=\"170\" y1=\"70\" x2=\"170\" y2=\"112\" style=\"stroke-width:2\" />\n",
       "\n",
       "  <!-- Colored Rectangle -->\n",
       "  <polygon points=\"100.0,0.0 170.58823529411765,70.58823529411765 170.58823529411765,112.87976851919325 100.0,42.291533225075604\" style=\"fill:#ECB172A0;stroke-width:0\"/>\n",
       "\n",
       "  <!-- Horizontal lines -->\n",
       "  <line x1=\"100\" y1=\"0\" x2=\"150\" y2=\"0\" style=\"stroke-width:2\" />\n",
       "  <line x1=\"170\" y1=\"70\" x2=\"221\" y2=\"70\" style=\"stroke-width:2\" />\n",
       "\n",
       "  <!-- Vertical lines -->\n",
       "  <line x1=\"100\" y1=\"0\" x2=\"170\" y2=\"70\" style=\"stroke-width:2\" />\n",
       "  <line x1=\"104\" y1=\"0\" x2=\"174\" y2=\"70\" />\n",
       "  <line x1=\"108\" y1=\"0\" x2=\"179\" y2=\"70\" />\n",
       "  <line x1=\"112\" y1=\"0\" x2=\"183\" y2=\"70\" />\n",
       "  <line x1=\"116\" y1=\"0\" x2=\"187\" y2=\"70\" />\n",
       "  <line x1=\"121\" y1=\"0\" x2=\"191\" y2=\"70\" />\n",
       "  <line x1=\"125\" y1=\"0\" x2=\"195\" y2=\"70\" />\n",
       "  <line x1=\"129\" y1=\"0\" x2=\"200\" y2=\"70\" />\n",
       "  <line x1=\"133\" y1=\"0\" x2=\"204\" y2=\"70\" />\n",
       "  <line x1=\"137\" y1=\"0\" x2=\"208\" y2=\"70\" />\n",
       "  <line x1=\"142\" y1=\"0\" x2=\"212\" y2=\"70\" />\n",
       "  <line x1=\"146\" y1=\"0\" x2=\"216\" y2=\"70\" />\n",
       "  <line x1=\"150\" y1=\"0\" x2=\"221\" y2=\"70\" />\n",
       "  <line x1=\"150\" y1=\"0\" x2=\"221\" y2=\"70\" style=\"stroke-width:2\" />\n",
       "\n",
       "  <!-- Colored Rectangle -->\n",
       "  <polygon points=\"100.0,0.0 150.94736842105263,0.0 221.53560371517028,70.58823529411765 170.58823529411765,70.58823529411765\" style=\"fill:#ECB172A0;stroke-width:0\"/>\n",
       "\n",
       "  <!-- Horizontal lines -->\n",
       "  <line x1=\"170\" y1=\"70\" x2=\"221\" y2=\"70\" style=\"stroke-width:2\" />\n",
       "  <line x1=\"170\" y1=\"74\" x2=\"221\" y2=\"74\" />\n",
       "  <line x1=\"170\" y1=\"80\" x2=\"221\" y2=\"80\" />\n",
       "  <line x1=\"170\" y1=\"87\" x2=\"221\" y2=\"87\" />\n",
       "  <line x1=\"170\" y1=\"94\" x2=\"221\" y2=\"94\" />\n",
       "  <line x1=\"170\" y1=\"101\" x2=\"221\" y2=\"101\" />\n",
       "  <line x1=\"170\" y1=\"108\" x2=\"221\" y2=\"108\" />\n",
       "  <line x1=\"170\" y1=\"112\" x2=\"221\" y2=\"112\" style=\"stroke-width:2\" />\n",
       "\n",
       "  <!-- Vertical lines -->\n",
       "  <line x1=\"170\" y1=\"70\" x2=\"170\" y2=\"112\" style=\"stroke-width:2\" />\n",
       "  <line x1=\"174\" y1=\"70\" x2=\"174\" y2=\"112\" />\n",
       "  <line x1=\"179\" y1=\"70\" x2=\"179\" y2=\"112\" />\n",
       "  <line x1=\"183\" y1=\"70\" x2=\"183\" y2=\"112\" />\n",
       "  <line x1=\"187\" y1=\"70\" x2=\"187\" y2=\"112\" />\n",
       "  <line x1=\"191\" y1=\"70\" x2=\"191\" y2=\"112\" />\n",
       "  <line x1=\"195\" y1=\"70\" x2=\"195\" y2=\"112\" />\n",
       "  <line x1=\"200\" y1=\"70\" x2=\"200\" y2=\"112\" />\n",
       "  <line x1=\"204\" y1=\"70\" x2=\"204\" y2=\"112\" />\n",
       "  <line x1=\"208\" y1=\"70\" x2=\"208\" y2=\"112\" />\n",
       "  <line x1=\"212\" y1=\"70\" x2=\"212\" y2=\"112\" />\n",
       "  <line x1=\"216\" y1=\"70\" x2=\"216\" y2=\"112\" />\n",
       "  <line x1=\"221\" y1=\"70\" x2=\"221\" y2=\"112\" />\n",
       "  <line x1=\"221\" y1=\"70\" x2=\"221\" y2=\"112\" style=\"stroke-width:2\" />\n",
       "\n",
       "  <!-- Colored Rectangle -->\n",
       "  <polygon points=\"170.58823529411765,70.58823529411765 221.53560371517028,70.58823529411765 221.53560371517028,112.87976851919325 170.58823529411765,112.87976851919325\" style=\"fill:#ECB172A0;stroke-width:0\"/>\n",
       "\n",
       "  <!-- Text -->\n",
       "  <text x=\"196.061920\" y=\"132.879769\" font-size=\"1.0rem\" font-weight=\"100\" text-anchor=\"middle\" >121</text>\n",
       "  <text x=\"241.535604\" y=\"91.734002\" font-size=\"1.0rem\" font-weight=\"100\" text-anchor=\"middle\" transform=\"rotate(0,241.535604,91.734002)\">61</text>\n",
       "  <text x=\"125.294118\" y=\"97.585651\" font-size=\"1.0rem\" font-weight=\"100\" text-anchor=\"middle\" transform=\"rotate(45,125.294118,97.585651)\">285</text>\n",
       "</svg>\n",
       "        </td>\n",
       "    </tr>\n",
       "</table></div></li><li class='xr-var-item'><div class='xr-var-name'><span>verif</span></div><div class='xr-var-dims'>(time, lat, lon)</div><div class='xr-var-dtype'>int64</div><div class='xr-var-preview xr-preview'>dask.array&lt;chunksize=(1, 10, 10), meta=np.ndarray&gt;</div><input id='attrs-ab05c198-145d-4021-9ac2-1452b5f7e39d' class='xr-var-attrs-in' type='checkbox' disabled><label for='attrs-ab05c198-145d-4021-9ac2-1452b5f7e39d' title='Show/Hide attributes'><svg class='icon xr-icon-file-text2'><use xlink:href='#icon-file-text2'></use></svg></label><input id='data-1f3d9fb6-af48-4ddc-bcc5-bbb46ebf709d' class='xr-var-data-in' type='checkbox'><label for='data-1f3d9fb6-af48-4ddc-bcc5-bbb46ebf709d' title='Show/Hide data repr'><svg class='icon xr-icon-database'><use xlink:href='#icon-database'></use></svg></label><div class='xr-var-attrs'><dl class='xr-attrs'></dl></div><div class='xr-var-data'><table>\n",
       "    <tr>\n",
       "        <td>\n",
       "            <table>\n",
       "                <thead>\n",
       "                    <tr>\n",
       "                        <td> </td>\n",
       "                        <th> Array </th>\n",
       "                        <th> Chunk </th>\n",
       "                    </tr>\n",
       "                </thead>\n",
       "                <tbody>\n",
       "                    \n",
       "                    <tr>\n",
       "                        <th> Bytes </th>\n",
       "                        <td> 16.05 MiB </td>\n",
       "                        <td> 800 B </td>\n",
       "                    </tr>\n",
       "                    \n",
       "                    <tr>\n",
       "                        <th> Shape </th>\n",
       "                        <td> (285, 61, 121) </td>\n",
       "                        <td> (1, 10, 10) </td>\n",
       "                    </tr>\n",
       "                    <tr>\n",
       "                        <th> Count </th>\n",
       "                        <td> 51962 Tasks </td>\n",
       "                        <td> 25935 Chunks </td>\n",
       "                    </tr>\n",
       "                    <tr>\n",
       "                    <th> Type </th>\n",
       "                    <td> int64 </td>\n",
       "                    <td> numpy.ndarray </td>\n",
       "                    </tr>\n",
       "                </tbody>\n",
       "            </table>\n",
       "        </td>\n",
       "        <td>\n",
       "        <svg width=\"181\" height=\"162\" style=\"stroke:rgb(0,0,0);stroke-width:1\" >\n",
       "\n",
       "  <!-- Horizontal lines -->\n",
       "  <line x1=\"10\" y1=\"0\" x2=\"80\" y2=\"70\" style=\"stroke-width:2\" />\n",
       "  <line x1=\"10\" y1=\"6\" x2=\"80\" y2=\"77\" />\n",
       "  <line x1=\"10\" y1=\"13\" x2=\"80\" y2=\"84\" />\n",
       "  <line x1=\"10\" y1=\"20\" x2=\"80\" y2=\"91\" />\n",
       "  <line x1=\"10\" y1=\"27\" x2=\"80\" y2=\"98\" />\n",
       "  <line x1=\"10\" y1=\"34\" x2=\"80\" y2=\"105\" />\n",
       "  <line x1=\"10\" y1=\"41\" x2=\"80\" y2=\"112\" />\n",
       "  <line x1=\"10\" y1=\"42\" x2=\"80\" y2=\"112\" style=\"stroke-width:2\" />\n",
       "\n",
       "  <!-- Vertical lines -->\n",
       "  <line x1=\"10\" y1=\"0\" x2=\"10\" y2=\"42\" style=\"stroke-width:2\" />\n",
       "  <line x1=\"13\" y1=\"3\" x2=\"13\" y2=\"46\" />\n",
       "  <line x1=\"17\" y1=\"7\" x2=\"17\" y2=\"49\" />\n",
       "  <line x1=\"21\" y1=\"11\" x2=\"21\" y2=\"53\" />\n",
       "  <line x1=\"24\" y1=\"14\" x2=\"24\" y2=\"57\" />\n",
       "  <line x1=\"28\" y1=\"18\" x2=\"28\" y2=\"60\" />\n",
       "  <line x1=\"32\" y1=\"22\" x2=\"32\" y2=\"64\" />\n",
       "  <line x1=\"36\" y1=\"26\" x2=\"36\" y2=\"68\" />\n",
       "  <line x1=\"39\" y1=\"29\" x2=\"39\" y2=\"72\" />\n",
       "  <line x1=\"43\" y1=\"33\" x2=\"43\" y2=\"75\" />\n",
       "  <line x1=\"47\" y1=\"37\" x2=\"47\" y2=\"79\" />\n",
       "  <line x1=\"50\" y1=\"40\" x2=\"50\" y2=\"83\" />\n",
       "  <line x1=\"54\" y1=\"44\" x2=\"54\" y2=\"86\" />\n",
       "  <line x1=\"58\" y1=\"48\" x2=\"58\" y2=\"90\" />\n",
       "  <line x1=\"62\" y1=\"52\" x2=\"62\" y2=\"94\" />\n",
       "  <line x1=\"65\" y1=\"55\" x2=\"65\" y2=\"98\" />\n",
       "  <line x1=\"69\" y1=\"59\" x2=\"69\" y2=\"101\" />\n",
       "  <line x1=\"73\" y1=\"63\" x2=\"73\" y2=\"105\" />\n",
       "  <line x1=\"76\" y1=\"66\" x2=\"76\" y2=\"109\" />\n",
       "  <line x1=\"80\" y1=\"70\" x2=\"80\" y2=\"112\" style=\"stroke-width:2\" />\n",
       "\n",
       "  <!-- Colored Rectangle -->\n",
       "  <polygon points=\"10.0,0.0 80.58823529411765,70.58823529411765 80.58823529411765,112.87976851919325 10.0,42.291533225075604\" style=\"fill:#8B4903A0;stroke-width:0\"/>\n",
       "\n",
       "  <!-- Horizontal lines -->\n",
       "  <line x1=\"10\" y1=\"0\" x2=\"60\" y2=\"0\" style=\"stroke-width:2\" />\n",
       "  <line x1=\"13\" y1=\"3\" x2=\"64\" y2=\"3\" />\n",
       "  <line x1=\"17\" y1=\"7\" x2=\"68\" y2=\"7\" />\n",
       "  <line x1=\"21\" y1=\"11\" x2=\"72\" y2=\"11\" />\n",
       "  <line x1=\"24\" y1=\"14\" x2=\"75\" y2=\"14\" />\n",
       "  <line x1=\"28\" y1=\"18\" x2=\"79\" y2=\"18\" />\n",
       "  <line x1=\"32\" y1=\"22\" x2=\"83\" y2=\"22\" />\n",
       "  <line x1=\"36\" y1=\"26\" x2=\"86\" y2=\"26\" />\n",
       "  <line x1=\"39\" y1=\"29\" x2=\"90\" y2=\"29\" />\n",
       "  <line x1=\"43\" y1=\"33\" x2=\"94\" y2=\"33\" />\n",
       "  <line x1=\"47\" y1=\"37\" x2=\"98\" y2=\"37\" />\n",
       "  <line x1=\"50\" y1=\"40\" x2=\"101\" y2=\"40\" />\n",
       "  <line x1=\"54\" y1=\"44\" x2=\"105\" y2=\"44\" />\n",
       "  <line x1=\"58\" y1=\"48\" x2=\"109\" y2=\"48\" />\n",
       "  <line x1=\"62\" y1=\"52\" x2=\"112\" y2=\"52\" />\n",
       "  <line x1=\"65\" y1=\"55\" x2=\"116\" y2=\"55\" />\n",
       "  <line x1=\"69\" y1=\"59\" x2=\"120\" y2=\"59\" />\n",
       "  <line x1=\"73\" y1=\"63\" x2=\"124\" y2=\"63\" />\n",
       "  <line x1=\"76\" y1=\"66\" x2=\"127\" y2=\"66\" />\n",
       "  <line x1=\"80\" y1=\"70\" x2=\"131\" y2=\"70\" style=\"stroke-width:2\" />\n",
       "\n",
       "  <!-- Vertical lines -->\n",
       "  <line x1=\"10\" y1=\"0\" x2=\"80\" y2=\"70\" style=\"stroke-width:2\" />\n",
       "  <line x1=\"14\" y1=\"0\" x2=\"84\" y2=\"70\" />\n",
       "  <line x1=\"18\" y1=\"0\" x2=\"89\" y2=\"70\" />\n",
       "  <line x1=\"22\" y1=\"0\" x2=\"93\" y2=\"70\" />\n",
       "  <line x1=\"26\" y1=\"0\" x2=\"97\" y2=\"70\" />\n",
       "  <line x1=\"31\" y1=\"0\" x2=\"101\" y2=\"70\" />\n",
       "  <line x1=\"35\" y1=\"0\" x2=\"105\" y2=\"70\" />\n",
       "  <line x1=\"39\" y1=\"0\" x2=\"110\" y2=\"70\" />\n",
       "  <line x1=\"43\" y1=\"0\" x2=\"114\" y2=\"70\" />\n",
       "  <line x1=\"47\" y1=\"0\" x2=\"118\" y2=\"70\" />\n",
       "  <line x1=\"52\" y1=\"0\" x2=\"122\" y2=\"70\" />\n",
       "  <line x1=\"56\" y1=\"0\" x2=\"126\" y2=\"70\" />\n",
       "  <line x1=\"60\" y1=\"0\" x2=\"131\" y2=\"70\" />\n",
       "  <line x1=\"60\" y1=\"0\" x2=\"131\" y2=\"70\" style=\"stroke-width:2\" />\n",
       "\n",
       "  <!-- Colored Rectangle -->\n",
       "  <polygon points=\"10.0,0.0 60.94736842105263,0.0 131.53560371517028,70.58823529411765 80.58823529411765,70.58823529411765\" style=\"fill:#8B4903A0;stroke-width:0\"/>\n",
       "\n",
       "  <!-- Horizontal lines -->\n",
       "  <line x1=\"80\" y1=\"70\" x2=\"131\" y2=\"70\" style=\"stroke-width:2\" />\n",
       "  <line x1=\"80\" y1=\"77\" x2=\"131\" y2=\"77\" />\n",
       "  <line x1=\"80\" y1=\"84\" x2=\"131\" y2=\"84\" />\n",
       "  <line x1=\"80\" y1=\"91\" x2=\"131\" y2=\"91\" />\n",
       "  <line x1=\"80\" y1=\"98\" x2=\"131\" y2=\"98\" />\n",
       "  <line x1=\"80\" y1=\"105\" x2=\"131\" y2=\"105\" />\n",
       "  <line x1=\"80\" y1=\"112\" x2=\"131\" y2=\"112\" />\n",
       "  <line x1=\"80\" y1=\"112\" x2=\"131\" y2=\"112\" style=\"stroke-width:2\" />\n",
       "\n",
       "  <!-- Vertical lines -->\n",
       "  <line x1=\"80\" y1=\"70\" x2=\"80\" y2=\"112\" style=\"stroke-width:2\" />\n",
       "  <line x1=\"84\" y1=\"70\" x2=\"84\" y2=\"112\" />\n",
       "  <line x1=\"89\" y1=\"70\" x2=\"89\" y2=\"112\" />\n",
       "  <line x1=\"93\" y1=\"70\" x2=\"93\" y2=\"112\" />\n",
       "  <line x1=\"97\" y1=\"70\" x2=\"97\" y2=\"112\" />\n",
       "  <line x1=\"101\" y1=\"70\" x2=\"101\" y2=\"112\" />\n",
       "  <line x1=\"105\" y1=\"70\" x2=\"105\" y2=\"112\" />\n",
       "  <line x1=\"110\" y1=\"70\" x2=\"110\" y2=\"112\" />\n",
       "  <line x1=\"114\" y1=\"70\" x2=\"114\" y2=\"112\" />\n",
       "  <line x1=\"118\" y1=\"70\" x2=\"118\" y2=\"112\" />\n",
       "  <line x1=\"122\" y1=\"70\" x2=\"122\" y2=\"112\" />\n",
       "  <line x1=\"126\" y1=\"70\" x2=\"126\" y2=\"112\" />\n",
       "  <line x1=\"131\" y1=\"70\" x2=\"131\" y2=\"112\" />\n",
       "  <line x1=\"131\" y1=\"70\" x2=\"131\" y2=\"112\" style=\"stroke-width:2\" />\n",
       "\n",
       "  <!-- Colored Rectangle -->\n",
       "  <polygon points=\"80.58823529411765,70.58823529411765 131.53560371517028,70.58823529411765 131.53560371517028,112.87976851919325 80.58823529411765,112.87976851919325\" style=\"fill:#ECB172A0;stroke-width:0\"/>\n",
       "\n",
       "  <!-- Text -->\n",
       "  <text x=\"106.061920\" y=\"132.879769\" font-size=\"1.0rem\" font-weight=\"100\" text-anchor=\"middle\" >121</text>\n",
       "  <text x=\"151.535604\" y=\"91.734002\" font-size=\"1.0rem\" font-weight=\"100\" text-anchor=\"middle\" transform=\"rotate(0,151.535604,91.734002)\">61</text>\n",
       "  <text x=\"35.294118\" y=\"97.585651\" font-size=\"1.0rem\" font-weight=\"100\" text-anchor=\"middle\" transform=\"rotate(45,35.294118,97.585651)\">285</text>\n",
       "</svg>\n",
       "        </td>\n",
       "    </tr>\n",
       "</table></div></li></ul></div></li><li class='xr-section-item'><input id='section-fac0a83e-bc3a-4985-a787-894388b50156' class='xr-section-summary-in' type='checkbox' disabled ><label for='section-fac0a83e-bc3a-4985-a787-894388b50156' class='xr-section-summary'  title='Expand/collapse section'>Attributes: <span>(0)</span></label><div class='xr-section-inline-details'></div><div class='xr-section-details'><dl class='xr-attrs'></dl></div></li></ul></div></div>"
      ],
      "text/plain": [
       "<xarray.Dataset>\n",
       "Dimensions:  (lat: 61, time: 285, GCM: 8, lon: 121)\n",
       "Coordinates:\n",
       "  * lat      (lat) float64 -35.0 -34.0 -33.0 -32.0 -31.0 ... 22.0 23.0 24.0 25.0\n",
       "  * time     (time) datetime64[ns] 1993-04-01 1993-05-01 ... 2016-12-01\n",
       "  * GCM      (GCM) <U12 'CMCC' 'DWD' 'ECMWF' 'JMA' ... 'MME' 'NCEP' 'UKMO'\n",
       "  * lon      (lon) float32 120.0 121.0 122.0 123.0 ... 237.0 238.0 239.0 240.0\n",
       "    step     int64 3\n",
       "    month    (time) int64 dask.array<chunksize=(285,), meta=np.ndarray>\n",
       "Data variables:\n",
       "    gcm      (GCM, time, lat, lon) float64 dask.array<chunksize=(1, 285, 5, 10), meta=np.ndarray>\n",
       "    verif    (time, lat, lon) int64 dask.array<chunksize=(1, 10, 10), meta=np.ndarray>"
      ]
     },
     "execution_count": 29,
     "metadata": {},
     "output_type": "execute_result"
    }
   ],
   "source": [
    "dset_merge"
   ]
  },
  {
   "cell_type": "markdown",
   "id": "83bd8c85",
   "metadata": {
    "papermill": {
     "duration": 0.031439,
     "end_time": "2021-12-21T02:52:28.776655",
     "exception": false,
     "start_time": "2021-12-21T02:52:28.745216",
     "status": "completed"
    },
    "tags": []
   },
   "source": [
    "### rechunk "
   ]
  },
  {
   "cell_type": "code",
   "execution_count": 30,
   "id": "ebedd0da",
   "metadata": {
    "execution": {
     "iopub.execute_input": "2021-12-21T02:52:28.841342Z",
     "iopub.status.busy": "2021-12-21T02:52:28.841023Z",
     "iopub.status.idle": "2021-12-21T02:52:29.028321Z",
     "shell.execute_reply": "2021-12-21T02:52:29.028031Z"
    },
    "papermill": {
     "duration": 0.220778,
     "end_time": "2021-12-21T02:52:29.028407",
     "exception": false,
     "start_time": "2021-12-21T02:52:28.807629",
     "status": "completed"
    },
    "tags": []
   },
   "outputs": [],
   "source": [
    "dset_merge = dset_merge.chunk({'time':-1, 'lat':10, 'lon':10},)"
   ]
  },
  {
   "cell_type": "code",
   "execution_count": 31,
   "id": "aae07120",
   "metadata": {
    "execution": {
     "iopub.execute_input": "2021-12-21T02:52:29.095552Z",
     "iopub.status.busy": "2021-12-21T02:52:29.095241Z",
     "iopub.status.idle": "2021-12-21T02:52:29.111693Z",
     "shell.execute_reply": "2021-12-21T02:52:29.111364Z"
    },
    "papermill": {
     "duration": 0.050304,
     "end_time": "2021-12-21T02:52:29.111770",
     "exception": false,
     "start_time": "2021-12-21T02:52:29.061466",
     "status": "completed"
    },
    "tags": []
   },
   "outputs": [
    {
     "data": {
      "text/plain": [
       "0.151464044"
      ]
     },
     "execution_count": 31,
     "metadata": {},
     "output_type": "execute_result"
    }
   ],
   "source": [
    "dset_merge.nbytes / 1e9"
   ]
  },
  {
   "cell_type": "code",
   "execution_count": 32,
   "id": "e5df1d6e",
   "metadata": {
    "execution": {
     "iopub.execute_input": "2021-12-21T02:52:29.175972Z",
     "iopub.status.busy": "2021-12-21T02:52:29.175653Z",
     "iopub.status.idle": "2021-12-21T02:42:14.168042Z",
     "shell.execute_reply": "2021-12-21T02:42:14.167726Z"
    },
    "papermill": {
     "duration": null,
     "end_time": null,
     "exception": false,
     "start_time": "2021-12-21T02:52:29.142564",
     "status": "running"
    },
    "tags": []
   },
   "outputs": [
    {
     "name": "stdout",
     "output_type": "stream",
     "text": [
      "\r",
      "[                                        ] | 0% Completed |  0.0s"
     ]
    },
    {
     "name": "stdout",
     "output_type": "stream",
     "text": [
      "\r",
      "[                                        ] | 0% Completed |  0.2s"
     ]
    },
    {
     "name": "stdout",
     "output_type": "stream",
     "text": [
      "\r",
      "[                                        ] | 0% Completed |  0.4s"
     ]
    },
    {
     "name": "stdout",
     "output_type": "stream",
     "text": [
      "\r",
      "[                                        ] | 0% Completed |  0.5s"
     ]
    },
    {
     "name": "stdout",
     "output_type": "stream",
     "text": [
      "\r",
      "[                                        ] | 0% Completed |  0.7s"
     ]
    },
    {
     "name": "stdout",
     "output_type": "stream",
     "text": [
      "\r",
      "[                                        ] | 0% Completed |  0.8s"
     ]
    },
    {
     "name": "stdout",
     "output_type": "stream",
     "text": [
      "\r",
      "[                                        ] | 0% Completed |  1.0s"
     ]
    },
    {
     "name": "stdout",
     "output_type": "stream",
     "text": [
      "\r",
      "[                                        ] | 0% Completed |  1.3s"
     ]
    },
    {
     "name": "stdout",
     "output_type": "stream",
     "text": [
      "\r",
      "[                                        ] | 0% Completed |  1.5s"
     ]
    },
    {
     "name": "stdout",
     "output_type": "stream",
     "text": [
      "\r",
      "[                                        ] | 0% Completed |  1.6s"
     ]
    },
    {
     "name": "stdout",
     "output_type": "stream",
     "text": [
      "\r",
      "[                                        ] | 1% Completed |  1.7s"
     ]
    },
    {
     "name": "stdout",
     "output_type": "stream",
     "text": [
      "\r",
      "[                                        ] | 1% Completed |  1.8s"
     ]
    },
    {
     "name": "stdout",
     "output_type": "stream",
     "text": [
      "\r",
      "[                                        ] | 2% Completed |  1.9s"
     ]
    },
    {
     "name": "stdout",
     "output_type": "stream",
     "text": [
      "\r",
      "[#                                       ] | 2% Completed |  2.0s"
     ]
    },
    {
     "name": "stdout",
     "output_type": "stream",
     "text": [
      "\r",
      "[#                                       ] | 3% Completed |  2.1s"
     ]
    },
    {
     "name": "stdout",
     "output_type": "stream",
     "text": [
      "\r",
      "[#                                       ] | 3% Completed |  2.2s"
     ]
    },
    {
     "name": "stdout",
     "output_type": "stream",
     "text": [
      "\r",
      "[#                                       ] | 4% Completed |  2.3s"
     ]
    },
    {
     "name": "stdout",
     "output_type": "stream",
     "text": [
      "\r",
      "[#                                       ] | 4% Completed |  2.4s"
     ]
    },
    {
     "name": "stdout",
     "output_type": "stream",
     "text": [
      "\r",
      "[#                                       ] | 4% Completed |  2.5s"
     ]
    },
    {
     "name": "stdout",
     "output_type": "stream",
     "text": [
      "\r",
      "[##                                      ] | 5% Completed |  2.6s"
     ]
    },
    {
     "name": "stdout",
     "output_type": "stream",
     "text": [
      "\r",
      "[##                                      ] | 5% Completed |  2.7s"
     ]
    },
    {
     "name": "stdout",
     "output_type": "stream",
     "text": [
      "\r",
      "[##                                      ] | 6% Completed |  2.8s"
     ]
    },
    {
     "name": "stdout",
     "output_type": "stream",
     "text": [
      "\r",
      "[##                                      ] | 6% Completed |  2.9s"
     ]
    },
    {
     "name": "stdout",
     "output_type": "stream",
     "text": [
      "\r",
      "[##                                      ] | 6% Completed |  3.0s"
     ]
    },
    {
     "name": "stdout",
     "output_type": "stream",
     "text": [
      "\r",
      "[##                                      ] | 7% Completed |  3.1s"
     ]
    },
    {
     "name": "stdout",
     "output_type": "stream",
     "text": [
      "\r",
      "[##                                      ] | 7% Completed |  3.2s"
     ]
    },
    {
     "name": "stdout",
     "output_type": "stream",
     "text": [
      "\r",
      "[##                                      ] | 7% Completed |  3.3s"
     ]
    },
    {
     "name": "stdout",
     "output_type": "stream",
     "text": [
      "\r",
      "[##                                      ] | 7% Completed |  3.4s"
     ]
    },
    {
     "name": "stdout",
     "output_type": "stream",
     "text": [
      "\r",
      "[##                                      ] | 7% Completed |  3.5s"
     ]
    },
    {
     "name": "stdout",
     "output_type": "stream",
     "text": [
      "\r",
      "[##                                      ] | 7% Completed |  3.6s"
     ]
    },
    {
     "name": "stdout",
     "output_type": "stream",
     "text": [
      "\r",
      "[###                                     ] | 7% Completed |  3.7s"
     ]
    },
    {
     "name": "stdout",
     "output_type": "stream",
     "text": [
      "\r",
      "[###                                     ] | 7% Completed |  3.8s"
     ]
    },
    {
     "name": "stdout",
     "output_type": "stream",
     "text": [
      "\r",
      "[###                                     ] | 7% Completed |  3.9s"
     ]
    },
    {
     "name": "stdout",
     "output_type": "stream",
     "text": [
      "\r",
      "[###                                     ] | 7% Completed |  4.0s"
     ]
    },
    {
     "name": "stdout",
     "output_type": "stream",
     "text": [
      "\r",
      "[###                                     ] | 8% Completed |  4.1s"
     ]
    },
    {
     "name": "stdout",
     "output_type": "stream",
     "text": [
      "\r",
      "[###                                     ] | 9% Completed |  4.2s"
     ]
    },
    {
     "name": "stdout",
     "output_type": "stream",
     "text": [
      "\r",
      "[####                                    ] | 10% Completed |  4.3s"
     ]
    },
    {
     "name": "stdout",
     "output_type": "stream",
     "text": [
      "\r",
      "[####                                    ] | 11% Completed |  4.4s"
     ]
    },
    {
     "name": "stdout",
     "output_type": "stream",
     "text": [
      "\r",
      "[####                                    ] | 12% Completed |  4.5s"
     ]
    },
    {
     "name": "stdout",
     "output_type": "stream",
     "text": [
      "\r",
      "[#####                                   ] | 12% Completed |  4.6s"
     ]
    },
    {
     "name": "stdout",
     "output_type": "stream",
     "text": [
      "\r",
      "[#####                                   ] | 13% Completed |  4.7s"
     ]
    },
    {
     "name": "stdout",
     "output_type": "stream",
     "text": [
      "\r",
      "[#####                                   ] | 13% Completed |  4.8s"
     ]
    },
    {
     "name": "stdout",
     "output_type": "stream",
     "text": [
      "\r",
      "[#####                                   ] | 14% Completed |  4.9s"
     ]
    },
    {
     "name": "stdout",
     "output_type": "stream",
     "text": [
      "\r",
      "[#####                                   ] | 14% Completed |  5.1s"
     ]
    },
    {
     "name": "stdout",
     "output_type": "stream",
     "text": [
      "\r",
      "[######                                  ] | 15% Completed |  5.2s"
     ]
    },
    {
     "name": "stdout",
     "output_type": "stream",
     "text": [
      "\r",
      "[######                                  ] | 16% Completed |  5.3s"
     ]
    },
    {
     "name": "stdout",
     "output_type": "stream",
     "text": [
      "\r",
      "[######                                  ] | 16% Completed |  5.4s"
     ]
    },
    {
     "name": "stdout",
     "output_type": "stream",
     "text": [
      "\r",
      "[######                                  ] | 16% Completed |  5.5s"
     ]
    },
    {
     "name": "stdout",
     "output_type": "stream",
     "text": [
      "\r",
      "[######                                  ] | 16% Completed |  5.6s"
     ]
    },
    {
     "name": "stdout",
     "output_type": "stream",
     "text": [
      "\r",
      "[######                                  ] | 17% Completed |  5.7s"
     ]
    },
    {
     "name": "stdout",
     "output_type": "stream",
     "text": [
      "\r",
      "[######                                  ] | 17% Completed |  5.8s"
     ]
    },
    {
     "name": "stdout",
     "output_type": "stream",
     "text": [
      "\r",
      "[#######                                 ] | 17% Completed |  5.9s"
     ]
    },
    {
     "name": "stdout",
     "output_type": "stream",
     "text": [
      "\r",
      "[#######                                 ] | 17% Completed |  6.0s"
     ]
    },
    {
     "name": "stdout",
     "output_type": "stream",
     "text": [
      "\r",
      "[#######                                 ] | 18% Completed |  6.1s"
     ]
    },
    {
     "name": "stdout",
     "output_type": "stream",
     "text": [
      "\r",
      "[#######                                 ] | 18% Completed |  6.2s"
     ]
    },
    {
     "name": "stdout",
     "output_type": "stream",
     "text": [
      "\r",
      "[#######                                 ] | 18% Completed |  6.3s"
     ]
    },
    {
     "name": "stdout",
     "output_type": "stream",
     "text": [
      "\r",
      "[#######                                 ] | 18% Completed |  6.4s"
     ]
    },
    {
     "name": "stdout",
     "output_type": "stream",
     "text": [
      "\r",
      "[#######                                 ] | 18% Completed |  6.5s"
     ]
    },
    {
     "name": "stdout",
     "output_type": "stream",
     "text": [
      "\r",
      "[#######                                 ] | 19% Completed |  6.6s"
     ]
    },
    {
     "name": "stdout",
     "output_type": "stream",
     "text": [
      "\r",
      "[#######                                 ] | 19% Completed |  6.7s"
     ]
    },
    {
     "name": "stdout",
     "output_type": "stream",
     "text": [
      "\r",
      "[#######                                 ] | 19% Completed |  6.8s"
     ]
    },
    {
     "name": "stdout",
     "output_type": "stream",
     "text": [
      "\r",
      "[#######                                 ] | 19% Completed |  6.9s"
     ]
    },
    {
     "name": "stdout",
     "output_type": "stream",
     "text": [
      "\r",
      "[#######                                 ] | 19% Completed |  7.0s"
     ]
    },
    {
     "name": "stdout",
     "output_type": "stream",
     "text": [
      "\r",
      "[#######                                 ] | 19% Completed |  7.1s"
     ]
    },
    {
     "name": "stdout",
     "output_type": "stream",
     "text": [
      "\r",
      "[#######                                 ] | 19% Completed |  7.2s"
     ]
    },
    {
     "name": "stdout",
     "output_type": "stream",
     "text": [
      "\r",
      "[#######                                 ] | 19% Completed |  7.3s"
     ]
    },
    {
     "name": "stdout",
     "output_type": "stream",
     "text": [
      "\r",
      "[########                                ] | 20% Completed |  7.4s"
     ]
    },
    {
     "name": "stdout",
     "output_type": "stream",
     "text": [
      "\r",
      "[########                                ] | 20% Completed |  7.5s"
     ]
    },
    {
     "name": "stdout",
     "output_type": "stream",
     "text": [
      "\r",
      "[########                                ] | 20% Completed |  7.6s"
     ]
    },
    {
     "name": "stdout",
     "output_type": "stream",
     "text": [
      "\r",
      "[########                                ] | 20% Completed |  7.7s"
     ]
    },
    {
     "name": "stdout",
     "output_type": "stream",
     "text": [
      "\r",
      "[########                                ] | 20% Completed |  7.9s"
     ]
    },
    {
     "name": "stdout",
     "output_type": "stream",
     "text": [
      "\r",
      "[########                                ] | 20% Completed |  8.0s"
     ]
    },
    {
     "name": "stdout",
     "output_type": "stream",
     "text": [
      "\r",
      "[########                                ] | 20% Completed |  8.1s"
     ]
    },
    {
     "name": "stdout",
     "output_type": "stream",
     "text": [
      "\r",
      "[########                                ] | 20% Completed |  8.2s"
     ]
    },
    {
     "name": "stdout",
     "output_type": "stream",
     "text": [
      "\r",
      "[########                                ] | 21% Completed |  8.3s"
     ]
    },
    {
     "name": "stdout",
     "output_type": "stream",
     "text": [
      "\r",
      "[########                                ] | 21% Completed |  8.4s"
     ]
    },
    {
     "name": "stdout",
     "output_type": "stream",
     "text": [
      "\r",
      "[########                                ] | 21% Completed |  8.5s"
     ]
    },
    {
     "name": "stdout",
     "output_type": "stream",
     "text": [
      "\r",
      "[########                                ] | 21% Completed |  8.6s"
     ]
    },
    {
     "name": "stdout",
     "output_type": "stream",
     "text": [
      "\r",
      "[########                                ] | 21% Completed |  8.7s"
     ]
    },
    {
     "name": "stdout",
     "output_type": "stream",
     "text": [
      "\r",
      "[########                                ] | 21% Completed |  8.8s"
     ]
    },
    {
     "name": "stdout",
     "output_type": "stream",
     "text": [
      "\r",
      "[########                                ] | 21% Completed |  8.9s"
     ]
    },
    {
     "name": "stdout",
     "output_type": "stream",
     "text": [
      "\r",
      "[########                                ] | 22% Completed |  9.0s"
     ]
    },
    {
     "name": "stdout",
     "output_type": "stream",
     "text": [
      "\r",
      "[########                                ] | 22% Completed |  9.1s"
     ]
    },
    {
     "name": "stdout",
     "output_type": "stream",
     "text": [
      "\r",
      "[#########                               ] | 22% Completed |  9.2s"
     ]
    },
    {
     "name": "stdout",
     "output_type": "stream",
     "text": [
      "\r",
      "[#########                               ] | 23% Completed |  9.3s"
     ]
    },
    {
     "name": "stdout",
     "output_type": "stream",
     "text": [
      "\r",
      "[#########                               ] | 23% Completed |  9.4s"
     ]
    },
    {
     "name": "stdout",
     "output_type": "stream",
     "text": [
      "\r",
      "[#########                               ] | 23% Completed |  9.5s"
     ]
    },
    {
     "name": "stdout",
     "output_type": "stream",
     "text": [
      "\r",
      "[#########                               ] | 24% Completed |  9.6s"
     ]
    },
    {
     "name": "stdout",
     "output_type": "stream",
     "text": [
      "\r",
      "[#########                               ] | 24% Completed |  9.7s"
     ]
    },
    {
     "name": "stdout",
     "output_type": "stream",
     "text": [
      "\r",
      "[#########                               ] | 24% Completed |  9.8s"
     ]
    },
    {
     "name": "stdout",
     "output_type": "stream",
     "text": [
      "\r",
      "[#########                               ] | 24% Completed |  9.9s"
     ]
    },
    {
     "name": "stdout",
     "output_type": "stream",
     "text": [
      "\r",
      "[#########                               ] | 24% Completed | 10.0s"
     ]
    },
    {
     "name": "stdout",
     "output_type": "stream",
     "text": [
      "\r",
      "[#########                               ] | 24% Completed | 10.1s"
     ]
    },
    {
     "name": "stdout",
     "output_type": "stream",
     "text": [
      "\r",
      "[##########                              ] | 25% Completed | 10.2s"
     ]
    },
    {
     "name": "stdout",
     "output_type": "stream",
     "text": [
      "\r",
      "[##########                              ] | 25% Completed | 10.3s"
     ]
    },
    {
     "name": "stdout",
     "output_type": "stream",
     "text": [
      "\r",
      "[##########                              ] | 25% Completed | 10.4s"
     ]
    },
    {
     "name": "stdout",
     "output_type": "stream",
     "text": [
      "\r",
      "[##########                              ] | 25% Completed | 10.5s"
     ]
    },
    {
     "name": "stdout",
     "output_type": "stream",
     "text": [
      "\r",
      "[##########                              ] | 26% Completed | 10.6s"
     ]
    },
    {
     "name": "stdout",
     "output_type": "stream",
     "text": [
      "\r",
      "[##########                              ] | 26% Completed | 10.7s"
     ]
    },
    {
     "name": "stdout",
     "output_type": "stream",
     "text": [
      "\r",
      "[##########                              ] | 26% Completed | 10.8s"
     ]
    },
    {
     "name": "stdout",
     "output_type": "stream",
     "text": [
      "\r",
      "[##########                              ] | 26% Completed | 10.9s"
     ]
    },
    {
     "name": "stdout",
     "output_type": "stream",
     "text": [
      "\r",
      "[##########                              ] | 26% Completed | 11.0s"
     ]
    },
    {
     "name": "stdout",
     "output_type": "stream",
     "text": [
      "\r",
      "[##########                              ] | 27% Completed | 11.1s"
     ]
    },
    {
     "name": "stdout",
     "output_type": "stream",
     "text": [
      "\r",
      "[##########                              ] | 27% Completed | 11.2s"
     ]
    },
    {
     "name": "stdout",
     "output_type": "stream",
     "text": [
      "\r",
      "[###########                             ] | 28% Completed | 11.3s"
     ]
    },
    {
     "name": "stdout",
     "output_type": "stream",
     "text": [
      "\r",
      "[###########                             ] | 28% Completed | 11.4s"
     ]
    },
    {
     "name": "stdout",
     "output_type": "stream",
     "text": [
      "\r",
      "[###########                             ] | 28% Completed | 11.5s"
     ]
    },
    {
     "name": "stdout",
     "output_type": "stream",
     "text": [
      "\r",
      "[###########                             ] | 29% Completed | 11.7s"
     ]
    },
    {
     "name": "stdout",
     "output_type": "stream",
     "text": [
      "\r",
      "[###########                             ] | 29% Completed | 11.8s"
     ]
    },
    {
     "name": "stdout",
     "output_type": "stream",
     "text": [
      "\r",
      "[###########                             ] | 29% Completed | 11.9s"
     ]
    },
    {
     "name": "stdout",
     "output_type": "stream",
     "text": [
      "\r",
      "[###########                             ] | 29% Completed | 12.0s"
     ]
    },
    {
     "name": "stdout",
     "output_type": "stream",
     "text": [
      "\r",
      "[############                            ] | 30% Completed | 12.1s"
     ]
    },
    {
     "name": "stdout",
     "output_type": "stream",
     "text": [
      "\r",
      "[############                            ] | 30% Completed | 12.2s"
     ]
    },
    {
     "name": "stdout",
     "output_type": "stream",
     "text": [
      "\r",
      "[############                            ] | 30% Completed | 12.3s"
     ]
    },
    {
     "name": "stdout",
     "output_type": "stream",
     "text": [
      "\r",
      "[############                            ] | 31% Completed | 12.4s"
     ]
    },
    {
     "name": "stdout",
     "output_type": "stream",
     "text": [
      "\r",
      "[############                            ] | 31% Completed | 12.5s"
     ]
    },
    {
     "name": "stdout",
     "output_type": "stream",
     "text": [
      "\r",
      "[############                            ] | 31% Completed | 12.6s"
     ]
    },
    {
     "name": "stdout",
     "output_type": "stream",
     "text": [
      "\r",
      "[############                            ] | 31% Completed | 12.7s"
     ]
    },
    {
     "name": "stdout",
     "output_type": "stream",
     "text": [
      "\r",
      "[############                            ] | 32% Completed | 12.8s"
     ]
    },
    {
     "name": "stdout",
     "output_type": "stream",
     "text": [
      "\r",
      "[############                            ] | 32% Completed | 12.9s"
     ]
    },
    {
     "name": "stdout",
     "output_type": "stream",
     "text": [
      "\r",
      "[############                            ] | 32% Completed | 13.0s"
     ]
    },
    {
     "name": "stdout",
     "output_type": "stream",
     "text": [
      "\r",
      "[#############                           ] | 32% Completed | 13.1s"
     ]
    },
    {
     "name": "stdout",
     "output_type": "stream",
     "text": [
      "\r",
      "[#############                           ] | 32% Completed | 13.2s"
     ]
    },
    {
     "name": "stdout",
     "output_type": "stream",
     "text": [
      "\r",
      "[#############                           ] | 32% Completed | 13.3s"
     ]
    },
    {
     "name": "stdout",
     "output_type": "stream",
     "text": [
      "\r",
      "[#############                           ] | 32% Completed | 13.4s"
     ]
    },
    {
     "name": "stdout",
     "output_type": "stream",
     "text": [
      "\r",
      "[#############                           ] | 32% Completed | 13.5s"
     ]
    },
    {
     "name": "stdout",
     "output_type": "stream",
     "text": [
      "\r",
      "[#############                           ] | 33% Completed | 13.6s"
     ]
    },
    {
     "name": "stdout",
     "output_type": "stream",
     "text": [
      "\r",
      "[#############                           ] | 33% Completed | 13.7s"
     ]
    },
    {
     "name": "stdout",
     "output_type": "stream",
     "text": [
      "\r",
      "[#############                           ] | 33% Completed | 13.8s"
     ]
    },
    {
     "name": "stdout",
     "output_type": "stream",
     "text": [
      "\r",
      "[#############                           ] | 33% Completed | 13.9s"
     ]
    },
    {
     "name": "stdout",
     "output_type": "stream",
     "text": [
      "\r",
      "[#############                           ] | 33% Completed | 14.0s"
     ]
    },
    {
     "name": "stdout",
     "output_type": "stream",
     "text": [
      "\r",
      "[#############                           ] | 33% Completed | 14.1s"
     ]
    },
    {
     "name": "stdout",
     "output_type": "stream",
     "text": [
      "\r",
      "[#############                           ] | 34% Completed | 14.2s"
     ]
    },
    {
     "name": "stdout",
     "output_type": "stream",
     "text": [
      "\r",
      "[#############                           ] | 34% Completed | 14.3s"
     ]
    },
    {
     "name": "stdout",
     "output_type": "stream",
     "text": [
      "\r",
      "[##############                          ] | 35% Completed | 14.4s"
     ]
    },
    {
     "name": "stdout",
     "output_type": "stream",
     "text": [
      "\r",
      "[##############                          ] | 35% Completed | 14.5s"
     ]
    },
    {
     "name": "stdout",
     "output_type": "stream",
     "text": [
      "\r",
      "[##############                          ] | 35% Completed | 14.6s"
     ]
    },
    {
     "name": "stdout",
     "output_type": "stream",
     "text": [
      "\r",
      "[##############                          ] | 35% Completed | 14.7s"
     ]
    },
    {
     "name": "stdout",
     "output_type": "stream",
     "text": [
      "\r",
      "[##############                          ] | 36% Completed | 14.8s"
     ]
    },
    {
     "name": "stdout",
     "output_type": "stream",
     "text": [
      "\r",
      "[##############                          ] | 36% Completed | 15.0s"
     ]
    },
    {
     "name": "stdout",
     "output_type": "stream",
     "text": [
      "\r",
      "[##############                          ] | 36% Completed | 15.1s"
     ]
    },
    {
     "name": "stdout",
     "output_type": "stream",
     "text": [
      "\r",
      "[##############                          ] | 36% Completed | 15.2s"
     ]
    },
    {
     "name": "stdout",
     "output_type": "stream",
     "text": [
      "\r",
      "[##############                          ] | 37% Completed | 15.3s"
     ]
    },
    {
     "name": "stdout",
     "output_type": "stream",
     "text": [
      "\r",
      "[##############                          ] | 37% Completed | 15.4s"
     ]
    },
    {
     "name": "stdout",
     "output_type": "stream",
     "text": [
      "\r",
      "[###############                         ] | 37% Completed | 15.5s"
     ]
    },
    {
     "name": "stdout",
     "output_type": "stream",
     "text": [
      "\r",
      "[###############                         ] | 37% Completed | 15.6s"
     ]
    },
    {
     "name": "stdout",
     "output_type": "stream",
     "text": [
      "\r",
      "[###############                         ] | 38% Completed | 15.7s"
     ]
    },
    {
     "name": "stdout",
     "output_type": "stream",
     "text": [
      "\r",
      "[###############                         ] | 38% Completed | 15.8s"
     ]
    },
    {
     "name": "stdout",
     "output_type": "stream",
     "text": [
      "\r",
      "[###############                         ] | 39% Completed | 15.9s"
     ]
    },
    {
     "name": "stdout",
     "output_type": "stream",
     "text": [
      "\r",
      "[###############                         ] | 39% Completed | 16.0s"
     ]
    },
    {
     "name": "stdout",
     "output_type": "stream",
     "text": [
      "\r",
      "[################                        ] | 40% Completed | 16.1s"
     ]
    },
    {
     "name": "stdout",
     "output_type": "stream",
     "text": [
      "\r",
      "[################                        ] | 40% Completed | 16.2s"
     ]
    },
    {
     "name": "stdout",
     "output_type": "stream",
     "text": [
      "\r",
      "[################                        ] | 40% Completed | 16.3s"
     ]
    },
    {
     "name": "stdout",
     "output_type": "stream",
     "text": [
      "\r",
      "[################                        ] | 40% Completed | 16.4s"
     ]
    },
    {
     "name": "stdout",
     "output_type": "stream",
     "text": [
      "\r",
      "[################                        ] | 40% Completed | 16.5s"
     ]
    },
    {
     "name": "stdout",
     "output_type": "stream",
     "text": [
      "\r",
      "[################                        ] | 41% Completed | 16.6s"
     ]
    },
    {
     "name": "stdout",
     "output_type": "stream",
     "text": [
      "\r",
      "[################                        ] | 41% Completed | 16.7s"
     ]
    },
    {
     "name": "stdout",
     "output_type": "stream",
     "text": [
      "\r",
      "[################                        ] | 41% Completed | 16.8s"
     ]
    },
    {
     "name": "stdout",
     "output_type": "stream",
     "text": [
      "\r",
      "[################                        ] | 41% Completed | 16.9s"
     ]
    },
    {
     "name": "stdout",
     "output_type": "stream",
     "text": [
      "\r",
      "[################                        ] | 41% Completed | 17.0s"
     ]
    },
    {
     "name": "stdout",
     "output_type": "stream",
     "text": [
      "\r",
      "[################                        ] | 41% Completed | 17.1s"
     ]
    },
    {
     "name": "stdout",
     "output_type": "stream",
     "text": [
      "\r",
      "[################                        ] | 41% Completed | 17.2s"
     ]
    },
    {
     "name": "stdout",
     "output_type": "stream",
     "text": [
      "\r",
      "[################                        ] | 42% Completed | 17.3s"
     ]
    },
    {
     "name": "stdout",
     "output_type": "stream",
     "text": [
      "\r",
      "[################                        ] | 42% Completed | 17.4s"
     ]
    },
    {
     "name": "stdout",
     "output_type": "stream",
     "text": [
      "\r",
      "[#################                       ] | 42% Completed | 17.5s"
     ]
    },
    {
     "name": "stdout",
     "output_type": "stream",
     "text": [
      "\r",
      "[#################                       ] | 42% Completed | 17.6s"
     ]
    },
    {
     "name": "stdout",
     "output_type": "stream",
     "text": [
      "\r",
      "[#################                       ] | 43% Completed | 17.7s"
     ]
    },
    {
     "name": "stdout",
     "output_type": "stream",
     "text": [
      "\r",
      "[#################                       ] | 43% Completed | 17.8s"
     ]
    },
    {
     "name": "stdout",
     "output_type": "stream",
     "text": [
      "\r",
      "[#################                       ] | 43% Completed | 17.9s"
     ]
    },
    {
     "name": "stdout",
     "output_type": "stream",
     "text": [
      "\r",
      "[#################                       ] | 43% Completed | 18.0s"
     ]
    },
    {
     "name": "stdout",
     "output_type": "stream",
     "text": [
      "\r",
      "[#################                       ] | 43% Completed | 18.1s"
     ]
    },
    {
     "name": "stdout",
     "output_type": "stream",
     "text": [
      "\r",
      "[#################                       ] | 44% Completed | 18.2s"
     ]
    },
    {
     "name": "stdout",
     "output_type": "stream",
     "text": [
      "\r",
      "[#################                       ] | 44% Completed | 18.3s"
     ]
    },
    {
     "name": "stdout",
     "output_type": "stream",
     "text": [
      "\r",
      "[#################                       ] | 44% Completed | 18.4s"
     ]
    },
    {
     "name": "stdout",
     "output_type": "stream",
     "text": [
      "\r",
      "[#################                       ] | 44% Completed | 18.5s"
     ]
    },
    {
     "name": "stdout",
     "output_type": "stream",
     "text": [
      "\r",
      "[#################                       ] | 44% Completed | 18.7s"
     ]
    },
    {
     "name": "stdout",
     "output_type": "stream",
     "text": [
      "\r",
      "[##################                      ] | 45% Completed | 18.8s"
     ]
    },
    {
     "name": "stdout",
     "output_type": "stream",
     "text": [
      "\r",
      "[##################                      ] | 45% Completed | 18.9s"
     ]
    },
    {
     "name": "stdout",
     "output_type": "stream",
     "text": [
      "\r",
      "[##################                      ] | 45% Completed | 19.0s"
     ]
    },
    {
     "name": "stdout",
     "output_type": "stream",
     "text": [
      "\r",
      "[##################                      ] | 46% Completed | 19.1s"
     ]
    },
    {
     "name": "stdout",
     "output_type": "stream",
     "text": [
      "\r",
      "[##################                      ] | 46% Completed | 19.2s"
     ]
    },
    {
     "name": "stdout",
     "output_type": "stream",
     "text": [
      "\r",
      "[##################                      ] | 46% Completed | 19.3s"
     ]
    },
    {
     "name": "stdout",
     "output_type": "stream",
     "text": [
      "\r",
      "[##################                      ] | 47% Completed | 19.4s"
     ]
    },
    {
     "name": "stdout",
     "output_type": "stream",
     "text": [
      "\r",
      "[##################                      ] | 47% Completed | 19.5s"
     ]
    },
    {
     "name": "stdout",
     "output_type": "stream",
     "text": [
      "\r",
      "[###################                     ] | 47% Completed | 19.6s"
     ]
    },
    {
     "name": "stdout",
     "output_type": "stream",
     "text": [
      "\r",
      "[###################                     ] | 48% Completed | 19.7s"
     ]
    },
    {
     "name": "stdout",
     "output_type": "stream",
     "text": [
      "\r",
      "[###################                     ] | 48% Completed | 19.8s"
     ]
    },
    {
     "name": "stdout",
     "output_type": "stream",
     "text": [
      "\r",
      "[###################                     ] | 48% Completed | 19.9s"
     ]
    },
    {
     "name": "stdout",
     "output_type": "stream",
     "text": [
      "\r",
      "[###################                     ] | 48% Completed | 20.0s"
     ]
    },
    {
     "name": "stdout",
     "output_type": "stream",
     "text": [
      "\r",
      "[###################                     ] | 49% Completed | 20.1s"
     ]
    },
    {
     "name": "stdout",
     "output_type": "stream",
     "text": [
      "\r",
      "[###################                     ] | 49% Completed | 20.2s"
     ]
    },
    {
     "name": "stdout",
     "output_type": "stream",
     "text": [
      "\r",
      "[####################                    ] | 50% Completed | 20.3s"
     ]
    },
    {
     "name": "stdout",
     "output_type": "stream",
     "text": [
      "\r",
      "[####################                    ] | 50% Completed | 20.4s"
     ]
    },
    {
     "name": "stdout",
     "output_type": "stream",
     "text": [
      "\r",
      "[####################                    ] | 50% Completed | 20.5s"
     ]
    },
    {
     "name": "stdout",
     "output_type": "stream",
     "text": [
      "\r",
      "[####################                    ] | 51% Completed | 20.6s"
     ]
    },
    {
     "name": "stdout",
     "output_type": "stream",
     "text": [
      "\r",
      "[####################                    ] | 51% Completed | 20.7s"
     ]
    },
    {
     "name": "stdout",
     "output_type": "stream",
     "text": [
      "\r",
      "[####################                    ] | 52% Completed | 20.8s"
     ]
    },
    {
     "name": "stdout",
     "output_type": "stream",
     "text": [
      "\r",
      "[#####################                   ] | 52% Completed | 20.9s"
     ]
    },
    {
     "name": "stdout",
     "output_type": "stream",
     "text": [
      "\r",
      "[#####################                   ] | 52% Completed | 21.0s"
     ]
    },
    {
     "name": "stdout",
     "output_type": "stream",
     "text": [
      "\r",
      "[#####################                   ] | 53% Completed | 21.1s"
     ]
    },
    {
     "name": "stdout",
     "output_type": "stream",
     "text": [
      "\r",
      "[#####################                   ] | 53% Completed | 21.2s"
     ]
    },
    {
     "name": "stdout",
     "output_type": "stream",
     "text": [
      "\r",
      "[#####################                   ] | 54% Completed | 21.3s"
     ]
    },
    {
     "name": "stdout",
     "output_type": "stream",
     "text": [
      "\r",
      "[#####################                   ] | 54% Completed | 21.4s"
     ]
    },
    {
     "name": "stdout",
     "output_type": "stream",
     "text": [
      "\r",
      "[#####################                   ] | 54% Completed | 21.5s"
     ]
    },
    {
     "name": "stdout",
     "output_type": "stream",
     "text": [
      "\r",
      "[######################                  ] | 55% Completed | 21.6s"
     ]
    },
    {
     "name": "stdout",
     "output_type": "stream",
     "text": [
      "\r",
      "[######################                  ] | 55% Completed | 21.7s"
     ]
    },
    {
     "name": "stdout",
     "output_type": "stream",
     "text": [
      "\r",
      "[######################                  ] | 55% Completed | 21.8s"
     ]
    },
    {
     "name": "stdout",
     "output_type": "stream",
     "text": [
      "\r",
      "[######################                  ] | 55% Completed | 21.9s"
     ]
    },
    {
     "name": "stdout",
     "output_type": "stream",
     "text": [
      "\r",
      "[######################                  ] | 55% Completed | 22.0s"
     ]
    },
    {
     "name": "stdout",
     "output_type": "stream",
     "text": [
      "\r",
      "[######################                  ] | 55% Completed | 22.1s"
     ]
    },
    {
     "name": "stdout",
     "output_type": "stream",
     "text": [
      "\r",
      "[######################                  ] | 56% Completed | 22.2s"
     ]
    },
    {
     "name": "stdout",
     "output_type": "stream",
     "text": [
      "\r",
      "[######################                  ] | 56% Completed | 22.3s"
     ]
    },
    {
     "name": "stdout",
     "output_type": "stream",
     "text": [
      "\r",
      "[######################                  ] | 57% Completed | 22.4s"
     ]
    },
    {
     "name": "stdout",
     "output_type": "stream",
     "text": [
      "\r",
      "[#######################                 ] | 57% Completed | 22.5s"
     ]
    },
    {
     "name": "stdout",
     "output_type": "stream",
     "text": [
      "\r",
      "[#######################                 ] | 58% Completed | 22.6s"
     ]
    },
    {
     "name": "stdout",
     "output_type": "stream",
     "text": [
      "\r",
      "[#######################                 ] | 58% Completed | 22.7s"
     ]
    },
    {
     "name": "stdout",
     "output_type": "stream",
     "text": [
      "\r",
      "[#######################                 ] | 59% Completed | 22.8s"
     ]
    },
    {
     "name": "stdout",
     "output_type": "stream",
     "text": [
      "\r",
      "[#######################                 ] | 59% Completed | 22.9s"
     ]
    },
    {
     "name": "stdout",
     "output_type": "stream",
     "text": [
      "\r",
      "[########################                ] | 60% Completed | 23.0s"
     ]
    },
    {
     "name": "stdout",
     "output_type": "stream",
     "text": [
      "\r",
      "[########################                ] | 60% Completed | 23.1s"
     ]
    },
    {
     "name": "stdout",
     "output_type": "stream",
     "text": [
      "\r",
      "[########################                ] | 61% Completed | 23.2s"
     ]
    },
    {
     "name": "stdout",
     "output_type": "stream",
     "text": [
      "\r",
      "[########################                ] | 61% Completed | 23.3s"
     ]
    },
    {
     "name": "stdout",
     "output_type": "stream",
     "text": [
      "\r",
      "[########################                ] | 61% Completed | 23.4s"
     ]
    },
    {
     "name": "stdout",
     "output_type": "stream",
     "text": [
      "\r",
      "[########################                ] | 61% Completed | 23.5s"
     ]
    },
    {
     "name": "stdout",
     "output_type": "stream",
     "text": [
      "\r",
      "[########################                ] | 62% Completed | 23.7s"
     ]
    },
    {
     "name": "stdout",
     "output_type": "stream",
     "text": [
      "\r",
      "[#########################               ] | 62% Completed | 23.8s"
     ]
    },
    {
     "name": "stdout",
     "output_type": "stream",
     "text": [
      "\r",
      "[#########################               ] | 62% Completed | 23.9s"
     ]
    },
    {
     "name": "stdout",
     "output_type": "stream",
     "text": [
      "\r",
      "[#########################               ] | 62% Completed | 24.0s"
     ]
    },
    {
     "name": "stdout",
     "output_type": "stream",
     "text": [
      "\r",
      "[#########################               ] | 62% Completed | 24.1s"
     ]
    },
    {
     "name": "stdout",
     "output_type": "stream",
     "text": [
      "\r",
      "[#########################               ] | 63% Completed | 24.2s"
     ]
    },
    {
     "name": "stdout",
     "output_type": "stream",
     "text": [
      "\r",
      "[#########################               ] | 63% Completed | 24.3s"
     ]
    },
    {
     "name": "stdout",
     "output_type": "stream",
     "text": [
      "\r",
      "[#########################               ] | 64% Completed | 24.4s"
     ]
    },
    {
     "name": "stdout",
     "output_type": "stream",
     "text": [
      "\r",
      "[#########################               ] | 64% Completed | 24.5s"
     ]
    },
    {
     "name": "stdout",
     "output_type": "stream",
     "text": [
      "\r",
      "[#########################               ] | 64% Completed | 24.6s"
     ]
    },
    {
     "name": "stdout",
     "output_type": "stream",
     "text": [
      "\r",
      "[#########################               ] | 64% Completed | 24.7s"
     ]
    },
    {
     "name": "stdout",
     "output_type": "stream",
     "text": [
      "\r",
      "[#########################               ] | 64% Completed | 24.8s"
     ]
    },
    {
     "name": "stdout",
     "output_type": "stream",
     "text": [
      "\r",
      "[##########################              ] | 65% Completed | 24.9s"
     ]
    },
    {
     "name": "stdout",
     "output_type": "stream",
     "text": [
      "\r",
      "[##########################              ] | 65% Completed | 25.0s"
     ]
    },
    {
     "name": "stdout",
     "output_type": "stream",
     "text": [
      "\r",
      "[##########################              ] | 65% Completed | 25.1s"
     ]
    },
    {
     "name": "stdout",
     "output_type": "stream",
     "text": [
      "\r",
      "[##########################              ] | 65% Completed | 25.2s"
     ]
    },
    {
     "name": "stdout",
     "output_type": "stream",
     "text": [
      "\r",
      "[##########################              ] | 66% Completed | 25.3s"
     ]
    },
    {
     "name": "stdout",
     "output_type": "stream",
     "text": [
      "\r",
      "[##########################              ] | 66% Completed | 25.4s"
     ]
    },
    {
     "name": "stdout",
     "output_type": "stream",
     "text": [
      "\r",
      "[##########################              ] | 66% Completed | 25.5s"
     ]
    },
    {
     "name": "stdout",
     "output_type": "stream",
     "text": [
      "\r",
      "[##########################              ] | 66% Completed | 25.6s"
     ]
    },
    {
     "name": "stdout",
     "output_type": "stream",
     "text": [
      "\r",
      "[##########################              ] | 66% Completed | 25.7s"
     ]
    },
    {
     "name": "stdout",
     "output_type": "stream",
     "text": [
      "\r",
      "[##########################              ] | 66% Completed | 25.8s"
     ]
    },
    {
     "name": "stdout",
     "output_type": "stream",
     "text": [
      "\r",
      "[##########################              ] | 67% Completed | 25.9s"
     ]
    },
    {
     "name": "stdout",
     "output_type": "stream",
     "text": [
      "\r",
      "[##########################              ] | 67% Completed | 26.0s"
     ]
    },
    {
     "name": "stdout",
     "output_type": "stream",
     "text": [
      "\r",
      "[###########################             ] | 67% Completed | 26.1s"
     ]
    },
    {
     "name": "stdout",
     "output_type": "stream",
     "text": [
      "\r",
      "[###########################             ] | 67% Completed | 26.2s"
     ]
    },
    {
     "name": "stdout",
     "output_type": "stream",
     "text": [
      "\r",
      "[###########################             ] | 68% Completed | 26.3s"
     ]
    },
    {
     "name": "stdout",
     "output_type": "stream",
     "text": [
      "\r",
      "[###########################             ] | 68% Completed | 26.4s"
     ]
    },
    {
     "name": "stdout",
     "output_type": "stream",
     "text": [
      "\r",
      "[###########################             ] | 68% Completed | 26.5s"
     ]
    },
    {
     "name": "stdout",
     "output_type": "stream",
     "text": [
      "\r",
      "[###########################             ] | 68% Completed | 26.6s"
     ]
    },
    {
     "name": "stdout",
     "output_type": "stream",
     "text": [
      "\r",
      "[###########################             ] | 68% Completed | 26.7s"
     ]
    },
    {
     "name": "stdout",
     "output_type": "stream",
     "text": [
      "\r",
      "[###########################             ] | 69% Completed | 26.9s"
     ]
    },
    {
     "name": "stdout",
     "output_type": "stream",
     "text": [
      "\r",
      "[###########################             ] | 69% Completed | 27.0s"
     ]
    },
    {
     "name": "stdout",
     "output_type": "stream",
     "text": [
      "\r",
      "[###########################             ] | 69% Completed | 27.1s"
     ]
    },
    {
     "name": "stdout",
     "output_type": "stream",
     "text": [
      "\r",
      "[###########################             ] | 69% Completed | 27.2s"
     ]
    },
    {
     "name": "stdout",
     "output_type": "stream",
     "text": [
      "\r",
      "[###########################             ] | 69% Completed | 27.3s"
     ]
    },
    {
     "name": "stdout",
     "output_type": "stream",
     "text": [
      "\r",
      "[###########################             ] | 69% Completed | 27.4s"
     ]
    },
    {
     "name": "stdout",
     "output_type": "stream",
     "text": [
      "\r",
      "[############################            ] | 70% Completed | 27.5s"
     ]
    },
    {
     "name": "stdout",
     "output_type": "stream",
     "text": [
      "\r",
      "[############################            ] | 70% Completed | 27.6s"
     ]
    },
    {
     "name": "stdout",
     "output_type": "stream",
     "text": [
      "\r",
      "[############################            ] | 70% Completed | 27.7s"
     ]
    },
    {
     "name": "stdout",
     "output_type": "stream",
     "text": [
      "\r",
      "[############################            ] | 70% Completed | 27.8s"
     ]
    },
    {
     "name": "stdout",
     "output_type": "stream",
     "text": [
      "\r",
      "[############################            ] | 70% Completed | 27.9s"
     ]
    },
    {
     "name": "stdout",
     "output_type": "stream",
     "text": [
      "\r",
      "[############################            ] | 70% Completed | 28.0s"
     ]
    },
    {
     "name": "stdout",
     "output_type": "stream",
     "text": [
      "\r",
      "[############################            ] | 71% Completed | 28.1s"
     ]
    },
    {
     "name": "stdout",
     "output_type": "stream",
     "text": [
      "\r",
      "[############################            ] | 71% Completed | 28.2s"
     ]
    },
    {
     "name": "stdout",
     "output_type": "stream",
     "text": [
      "\r",
      "[############################            ] | 71% Completed | 28.3s"
     ]
    },
    {
     "name": "stdout",
     "output_type": "stream",
     "text": [
      "\r",
      "[############################            ] | 71% Completed | 28.4s"
     ]
    },
    {
     "name": "stdout",
     "output_type": "stream",
     "text": [
      "\r",
      "[############################            ] | 71% Completed | 28.5s"
     ]
    },
    {
     "name": "stdout",
     "output_type": "stream",
     "text": [
      "\r",
      "[############################            ] | 71% Completed | 28.6s"
     ]
    },
    {
     "name": "stdout",
     "output_type": "stream",
     "text": [
      "\r",
      "[############################            ] | 71% Completed | 28.7s"
     ]
    },
    {
     "name": "stdout",
     "output_type": "stream",
     "text": [
      "\r",
      "[############################            ] | 72% Completed | 28.8s"
     ]
    }
   ],
   "source": [
    "with ProgressBar(): \n",
    "    dset_merge = dset_merge.compute()"
   ]
  },
  {
   "cell_type": "code",
   "execution_count": null,
   "id": "5918d85b",
   "metadata": {
    "execution": {
     "iopub.execute_input": "2021-12-21T02:42:14.323610Z",
     "iopub.status.busy": "2021-12-21T02:42:14.323289Z",
     "iopub.status.idle": "2021-12-21T02:42:14.358057Z",
     "shell.execute_reply": "2021-12-21T02:42:14.357733Z"
    },
    "papermill": {
     "duration": null,
     "end_time": null,
     "exception": null,
     "start_time": null,
     "status": "pending"
    },
    "tags": []
   },
   "outputs": [],
   "source": [
    "dset_merge"
   ]
  },
  {
   "cell_type": "code",
   "execution_count": null,
   "id": "2d9740ad",
   "metadata": {
    "execution": {
     "iopub.execute_input": "2021-12-21T02:42:14.520818Z",
     "iopub.status.busy": "2021-12-21T02:42:14.520476Z",
     "iopub.status.idle": "2021-12-21T02:42:14.536375Z",
     "shell.execute_reply": "2021-12-21T02:42:14.536083Z"
    },
    "papermill": {
     "duration": null,
     "end_time": null,
     "exception": null,
     "start_time": null,
     "status": "pending"
    },
    "tags": []
   },
   "outputs": [],
   "source": [
    "import xarray as xr \n",
    "from functools import partial\n",
    "import numpy as np\n",
    "from sklearn.metrics import accuracy_score, confusion_matrix,\\\n",
    "precision_score"
   ]
  },
  {
   "cell_type": "code",
   "execution_count": null,
   "id": "e83ca573",
   "metadata": {
    "execution": {
     "iopub.execute_input": "2021-12-21T02:42:14.701825Z",
     "iopub.status.busy": "2021-12-21T02:42:14.701485Z",
     "iopub.status.idle": "2021-12-21T02:42:14.717602Z",
     "shell.execute_reply": "2021-12-21T02:42:14.718075Z"
    },
    "papermill": {
     "duration": null,
     "end_time": null,
     "exception": null,
     "start_time": null,
     "status": "pending"
    },
    "tags": []
   },
   "outputs": [],
   "source": [
    "def tp(x, y, class_value):\n",
    "    \"\"\"\n",
    "    x: is the GCM\n",
    "    y: is the observed\n",
    "    \"\"\"\n",
    "    intersection = ((x == class_value) * (y == class_value)).sum()\n",
    "    # same as the and statement\n",
    "    # multiplication ensures that this is only where both values equal the class set\n",
    "    # this is the same as true positives\n",
    "    return intersection \n",
    "\n",
    "def fp(x, y, class_value):\n",
    "    \"\"\"\n",
    "    x: is the GCM\n",
    "    y: is the observed\n",
    "    \"\"\"\n",
    "    fps = ((x == class_value) * (~(y == class_value))).sum()\n",
    "    # multiplication ensures that this is only where both values equal the class set\n",
    "    # this is the same as true positives\n",
    "    return fps\n",
    "\n",
    "def fn(x, y, class_value):\n",
    "    \"\"\"\n",
    "    x: is the GCM\n",
    "    y: is the observed\n",
    "    \"\"\"\n",
    "    fns = ((y == class_value) * (~(x == class_value))).sum()\n",
    "    # multiplication ensures that this is only where both values equal the class set\n",
    "    # this is the same as true positives\n",
    "    return fns\n",
    "\n",
    "def tn(x, y, class_value): \n",
    "    tns = ((~(y == class_value)) * (~(x == class_value))).sum()\n",
    "    # multiplication ensures that this is only where both values equal the class set\n",
    "    # this is the same as true positives\n",
    "    return tns\n",
    "\n",
    "def iou(x, y, class_value):\n",
    "    intersection = ((x == class_value) * (y == class_value)).sum()\n",
    "    # multiplication ensures that this is only where both values equal the class set\n",
    "    union_set = (x == class_value) + (y == class_value)\n",
    "    # union will combine the two (e.g. when the predicted value is 0 and observed is 1)\n",
    "    union_set = np.clip(union_set, a_min =0, a_max =1).sum()\n",
    "    # clipping the set, as we only want a bolean union\n",
    "    return intersection /union_set\n",
    "\n",
    "def confusion_matrix_parallel(x, y):\n",
    "    x = x-1\n",
    "    y = y-1\n",
    "    # converting the ones to zeros\n",
    "    # Note see documentation if you'd like to normalize the data\n",
    "    return confusion_matrix(x, y)\n",
    "       \n",
    "    "
   ]
  },
  {
   "cell_type": "code",
   "execution_count": null,
   "id": "bbccdea5",
   "metadata": {
    "execution": {
     "iopub.execute_input": "2021-12-21T02:42:14.881385Z",
     "iopub.status.busy": "2021-12-21T02:42:14.881048Z",
     "iopub.status.idle": "2021-12-21T02:42:14.896489Z",
     "shell.execute_reply": "2021-12-21T02:42:14.896732Z"
    },
    "papermill": {
     "duration": null,
     "end_time": null,
     "exception": null,
     "start_time": null,
     "status": "pending"
    },
    "tags": []
   },
   "outputs": [],
   "source": [
    "def false_negatives(dset, class_value=1, forecast_var='gcm', verification_var='verif', input_core_dim='time'): \n",
    "    fnegatives = xr.apply_ufunc(partial(fn, class_value = class_value), dset[forecast_var], dset[verification_var],\n",
    "                          input_core_dims =[[input_core_dim],[input_core_dim]],\n",
    "                          output_core_dims =[[]],\n",
    "                          vectorize = True,\n",
    "                          dask ='parallelized',\n",
    "                          output_dtypes =[float])\n",
    "    return fnegatives\n",
    "\n",
    "def false_positives(dset, class_value=1, forecast_var='gcm', verification_var='verif', input_core_dim='time'): \n",
    "    fpositives = xr.apply_ufunc(partial(fp, class_value = class_value), dset[forecast_var], dset[verification_var],\n",
    "                          input_core_dims =[[input_core_dim],[input_core_dim]],\n",
    "                          output_core_dims =[[]],\n",
    "                          vectorize = True,\n",
    "                          dask ='parallelized',\n",
    "                          output_dtypes =[float])\n",
    "    return fpositives\n",
    "\n",
    "def true_positives(dset, class_value=1, forecast_var='gcm', verification_var='verif', input_core_dim='time'): \n",
    "    tpositives = xr.apply_ufunc(partial(tp, class_value = class_value), dset[forecast_var], dset[verification_var],\n",
    "                          input_core_dims =[[input_core_dim],[input_core_dim]],\n",
    "                          output_core_dims =[[]],\n",
    "                          vectorize = True,\n",
    "                          dask ='parallelized',\n",
    "                          output_dtypes =[float])\n",
    "    return tpositives\n",
    "\n",
    "def true_negatives(dset, class_value=1, forecast_var='gcm', verification_var='verif', input_core_dim='time'): \n",
    "    tnegatives = xr.apply_ufunc(partial(tn, class_value = class_value), dset[forecast_var], dset[verification_var],\n",
    "                          input_core_dims =[[input_core_dim],[input_core_dim]],\n",
    "                          output_core_dims =[[]],\n",
    "                          vectorize = True,\n",
    "                          dask ='parallelized',\n",
    "                          output_dtypes =[float])\n",
    "    return tnegatives"
   ]
  },
  {
   "cell_type": "code",
   "execution_count": null,
   "id": "e0ea633e",
   "metadata": {
    "execution": {
     "iopub.execute_input": "2021-12-21T02:42:15.058196Z",
     "iopub.status.busy": "2021-12-21T02:42:15.057713Z",
     "iopub.status.idle": "2021-12-21T02:42:15.074348Z",
     "shell.execute_reply": "2021-12-21T02:42:15.073966Z"
    },
    "papermill": {
     "duration": null,
     "end_time": null,
     "exception": null,
     "start_time": null,
     "status": "pending"
    },
    "tags": []
   },
   "outputs": [],
   "source": [
    "dset = dset_merge.sel(GCM='ECMWF')"
   ]
  },
  {
   "cell_type": "code",
   "execution_count": null,
   "id": "56d99eb9",
   "metadata": {
    "execution": {
     "iopub.execute_input": "2021-12-21T02:42:15.236787Z",
     "iopub.status.busy": "2021-12-21T02:42:15.236461Z",
     "iopub.status.idle": "2021-12-21T02:42:15.325143Z",
     "shell.execute_reply": "2021-12-21T02:42:15.324802Z"
    },
    "papermill": {
     "duration": null,
     "end_time": null,
     "exception": null,
     "start_time": null,
     "status": "pending"
    },
    "tags": []
   },
   "outputs": [],
   "source": [
    "fnegatives = false_negatives(dset)"
   ]
  },
  {
   "cell_type": "code",
   "execution_count": null,
   "id": "64aeb174",
   "metadata": {
    "execution": {
     "iopub.execute_input": "2021-12-21T02:42:15.486873Z",
     "iopub.status.busy": "2021-12-21T02:42:15.486534Z",
     "iopub.status.idle": "2021-12-21T02:42:15.588487Z",
     "shell.execute_reply": "2021-12-21T02:42:15.588738Z"
    },
    "papermill": {
     "duration": null,
     "end_time": null,
     "exception": null,
     "start_time": null,
     "status": "pending"
    },
    "tags": []
   },
   "outputs": [],
   "source": [
    "fpositives = false_positives(dset)"
   ]
  },
  {
   "cell_type": "code",
   "execution_count": null,
   "id": "a36d5ab3",
   "metadata": {
    "execution": {
     "iopub.execute_input": "2021-12-21T02:42:15.758201Z",
     "iopub.status.busy": "2021-12-21T02:42:15.757890Z",
     "iopub.status.idle": "2021-12-21T02:42:15.841173Z",
     "shell.execute_reply": "2021-12-21T02:42:15.840828Z"
    },
    "papermill": {
     "duration": null,
     "end_time": null,
     "exception": null,
     "start_time": null,
     "status": "pending"
    },
    "tags": []
   },
   "outputs": [],
   "source": [
    "tpositives = true_positives(dset)"
   ]
  },
  {
   "cell_type": "code",
   "execution_count": null,
   "id": "9b5d51ea",
   "metadata": {
    "execution": {
     "iopub.execute_input": "2021-12-21T02:42:16.000469Z",
     "iopub.status.busy": "2021-12-21T02:42:16.000118Z",
     "iopub.status.idle": "2021-12-21T02:42:16.016845Z",
     "shell.execute_reply": "2021-12-21T02:42:16.016513Z"
    },
    "papermill": {
     "duration": null,
     "end_time": null,
     "exception": null,
     "start_time": null,
     "status": "pending"
    },
    "tags": []
   },
   "outputs": [],
   "source": [
    "# the precision, or the ratio of true positives to false positives\n",
    "precision = tpositives/(tpositives + fpositives)\n",
    "# this provides an indication of the positive predictive rate\n",
    "# or what is the proportion of time will it predict correctly\n",
    "#see: for more info https://en.wikipedia.org/wiki/Precision_and_recall"
   ]
  },
  {
   "cell_type": "code",
   "execution_count": null,
   "id": "c7b919dc",
   "metadata": {
    "execution": {
     "iopub.execute_input": "2021-12-21T02:42:16.203859Z",
     "iopub.status.busy": "2021-12-21T02:42:16.203547Z",
     "iopub.status.idle": "2021-12-21T02:42:16.221808Z",
     "shell.execute_reply": "2021-12-21T02:42:16.221451Z"
    },
    "papermill": {
     "duration": null,
     "end_time": null,
     "exception": null,
     "start_time": null,
     "status": "pending"
    },
    "tags": []
   },
   "outputs": [],
   "source": [
    "# the precision, or the ratio of true positives to false positives\n",
    "recall = tpositives/(tpositives + fnegatives)\n",
    "# this provides an indication of the positive predictive rate\n",
    "# or what is the proportion of time will it predict correctly"
   ]
  },
  {
   "cell_type": "code",
   "execution_count": null,
   "id": "10f16f67",
   "metadata": {
    "execution": {
     "iopub.execute_input": "2021-12-21T02:42:16.386038Z",
     "iopub.status.busy": "2021-12-21T02:42:16.385683Z",
     "iopub.status.idle": "2021-12-21T02:42:16.560484Z",
     "shell.execute_reply": "2021-12-21T02:42:16.560141Z"
    },
    "papermill": {
     "duration": null,
     "end_time": null,
     "exception": null,
     "start_time": null,
     "status": "pending"
    },
    "tags": []
   },
   "outputs": [],
   "source": [
    "precision.plot.contourf(levels=np.arange(0.2, 0.9,  0.1))"
   ]
  },
  {
   "cell_type": "code",
   "execution_count": null,
   "id": "6bc26d38",
   "metadata": {
    "execution": {
     "iopub.execute_input": "2021-12-21T02:42:16.731084Z",
     "iopub.status.busy": "2021-12-21T02:42:16.730759Z",
     "iopub.status.idle": "2021-12-21T02:42:16.746533Z",
     "shell.execute_reply": "2021-12-21T02:42:16.746247Z"
    },
    "papermill": {
     "duration": null,
     "end_time": null,
     "exception": null,
     "start_time": null,
     "status": "pending"
    },
    "tags": []
   },
   "outputs": [],
   "source": [
    "dset = dset_merge.sel(GCM='MME')"
   ]
  },
  {
   "cell_type": "code",
   "execution_count": null,
   "id": "3787bf95",
   "metadata": {
    "execution": {
     "iopub.execute_input": "2021-12-21T02:42:16.912369Z",
     "iopub.status.busy": "2021-12-21T02:42:16.912051Z",
     "iopub.status.idle": "2021-12-21T02:42:16.928026Z",
     "shell.execute_reply": "2021-12-21T02:42:16.927684Z"
    },
    "papermill": {
     "duration": null,
     "end_time": null,
     "exception": null,
     "start_time": null,
     "status": "pending"
    },
    "tags": []
   },
   "outputs": [],
   "source": [
    "class_value = 1"
   ]
  },
  {
   "cell_type": "code",
   "execution_count": null,
   "id": "b46e740b",
   "metadata": {
    "execution": {
     "iopub.execute_input": "2021-12-21T02:42:17.098489Z",
     "iopub.status.busy": "2021-12-21T02:42:17.098144Z",
     "iopub.status.idle": "2021-12-21T02:42:17.114140Z",
     "shell.execute_reply": "2021-12-21T02:42:17.113805Z"
    },
    "papermill": {
     "duration": null,
     "end_time": null,
     "exception": null,
     "start_time": null,
     "status": "pending"
    },
    "tags": []
   },
   "outputs": [],
   "source": [
    "class_dict = {}\n",
    "class_dict[1] = ['lower', '< 1st quartile']\n",
    "class_dict[2] = ['mid-lower', 'between 1st quartile and median']\n",
    "class_dict[3] = ['mid-upper', 'between median and 3rd quartile']\n",
    "class_dict[4] = ['upper', '> 3rd quartile']"
   ]
  },
  {
   "cell_type": "code",
   "execution_count": null,
   "id": "81c37091",
   "metadata": {
    "execution": {
     "iopub.execute_input": "2021-12-21T02:42:17.279828Z",
     "iopub.status.busy": "2021-12-21T02:42:17.279508Z",
     "iopub.status.idle": "2021-12-21T02:42:17.370139Z",
     "shell.execute_reply": "2021-12-21T02:42:17.369828Z"
    },
    "papermill": {
     "duration": null,
     "end_time": null,
     "exception": null,
     "start_time": null,
     "status": "pending"
    },
    "tags": []
   },
   "outputs": [],
   "source": [
    "fnegatives = false_negatives(dset, class_value=class_value)"
   ]
  },
  {
   "cell_type": "code",
   "execution_count": null,
   "id": "a854f96f",
   "metadata": {
    "execution": {
     "iopub.execute_input": "2021-12-21T02:42:17.532669Z",
     "iopub.status.busy": "2021-12-21T02:42:17.532319Z",
     "iopub.status.idle": "2021-12-21T02:42:17.622959Z",
     "shell.execute_reply": "2021-12-21T02:42:17.623223Z"
    },
    "papermill": {
     "duration": null,
     "end_time": null,
     "exception": null,
     "start_time": null,
     "status": "pending"
    },
    "tags": []
   },
   "outputs": [],
   "source": [
    "fpositives = false_positives(dset, class_value=class_value)"
   ]
  },
  {
   "cell_type": "code",
   "execution_count": null,
   "id": "b06b1751",
   "metadata": {
    "execution": {
     "iopub.execute_input": "2021-12-21T02:42:17.789023Z",
     "iopub.status.busy": "2021-12-21T02:42:17.788699Z",
     "iopub.status.idle": "2021-12-21T02:42:17.875678Z",
     "shell.execute_reply": "2021-12-21T02:42:17.875336Z"
    },
    "papermill": {
     "duration": null,
     "end_time": null,
     "exception": null,
     "start_time": null,
     "status": "pending"
    },
    "tags": []
   },
   "outputs": [],
   "source": [
    "tpositives = true_positives(dset, class_value=class_value)"
   ]
  },
  {
   "cell_type": "code",
   "execution_count": null,
   "id": "72dd7f85",
   "metadata": {
    "execution": {
     "iopub.execute_input": "2021-12-21T02:42:18.038168Z",
     "iopub.status.busy": "2021-12-21T02:42:18.037849Z",
     "iopub.status.idle": "2021-12-21T02:42:18.054662Z",
     "shell.execute_reply": "2021-12-21T02:42:18.055175Z"
    },
    "papermill": {
     "duration": null,
     "end_time": null,
     "exception": null,
     "start_time": null,
     "status": "pending"
    },
    "tags": []
   },
   "outputs": [],
   "source": [
    "# the precision, or the ratio of true positives to false positives\n",
    "precision = tpositives/(tpositives + fpositives)\n",
    "# this provides an indication of the positive predictive rate\n",
    "# or what is the proportion of time will it predict correctly\n",
    "#see: for more info https://en.wikipedia.org/wiki/Precision_and_recall"
   ]
  },
  {
   "cell_type": "code",
   "execution_count": null,
   "id": "cb4f67ae",
   "metadata": {
    "execution": {
     "iopub.execute_input": "2021-12-21T02:42:18.222295Z",
     "iopub.status.busy": "2021-12-21T02:42:18.221961Z",
     "iopub.status.idle": "2021-12-21T02:42:18.238535Z",
     "shell.execute_reply": "2021-12-21T02:42:18.238265Z"
    },
    "papermill": {
     "duration": null,
     "end_time": null,
     "exception": null,
     "start_time": null,
     "status": "pending"
    },
    "tags": []
   },
   "outputs": [],
   "source": [
    "# the precision, or the ratio of true positives to false positives\n",
    "recall = tpositives/(tpositives + fnegatives)\n",
    "# this provides an indication of the positive predictive rate\n",
    "# or what is the proportion of time will it predict correctly"
   ]
  },
  {
   "cell_type": "code",
   "execution_count": null,
   "id": "c417fa97",
   "metadata": {
    "execution": {
     "iopub.execute_input": "2021-12-21T02:42:18.404138Z",
     "iopub.status.busy": "2021-12-21T02:42:18.403812Z",
     "iopub.status.idle": "2021-12-21T02:42:18.419434Z",
     "shell.execute_reply": "2021-12-21T02:42:18.419103Z"
    },
    "papermill": {
     "duration": null,
     "end_time": null,
     "exception": null,
     "start_time": null,
     "status": "pending"
    },
    "tags": []
   },
   "outputs": [],
   "source": [
    "cbar_kwargs = dict(shrink=0.8, orientation='vertical', drawedges=True, pad=0.01)"
   ]
  },
  {
   "cell_type": "code",
   "execution_count": null,
   "id": "385ebbfb",
   "metadata": {
    "execution": {
     "iopub.execute_input": "2021-12-21T02:42:18.586856Z",
     "iopub.status.busy": "2021-12-21T02:42:18.586531Z",
     "iopub.status.idle": "2021-12-21T02:42:18.603382Z",
     "shell.execute_reply": "2021-12-21T02:42:18.603108Z"
    },
    "papermill": {
     "duration": null,
     "end_time": null,
     "exception": null,
     "start_time": null,
     "status": "pending"
    },
    "tags": []
   },
   "outputs": [],
   "source": [
    "F1_Score = 2*(recall * precision) / (recall + precision)"
   ]
  },
  {
   "cell_type": "code",
   "execution_count": null,
   "id": "c4fd0e06",
   "metadata": {
    "execution": {
     "iopub.execute_input": "2021-12-21T02:42:18.767765Z",
     "iopub.status.busy": "2021-12-21T02:42:18.767445Z",
     "iopub.status.idle": "2021-12-21T02:42:18.783101Z",
     "shell.execute_reply": "2021-12-21T02:42:18.782754Z"
    },
    "papermill": {
     "duration": null,
     "end_time": null,
     "exception": null,
     "start_time": null,
     "status": "pending"
    },
    "tags": []
   },
   "outputs": [],
   "source": [
    "import palettable"
   ]
  },
  {
   "cell_type": "code",
   "execution_count": null,
   "id": "6df81fc7",
   "metadata": {
    "execution": {
     "iopub.execute_input": "2021-12-21T02:42:18.947763Z",
     "iopub.status.busy": "2021-12-21T02:42:18.947421Z",
     "iopub.status.idle": "2021-12-21T02:42:18.963196Z",
     "shell.execute_reply": "2021-12-21T02:42:18.963463Z"
    },
    "papermill": {
     "duration": null,
     "end_time": null,
     "exception": null,
     "start_time": null,
     "status": "pending"
    },
    "tags": []
   },
   "outputs": [],
   "source": [
    "cmap = palettable.scientific.sequential.Oslo_20_r.mpl_colormap"
   ]
  },
  {
   "cell_type": "code",
   "execution_count": null,
   "id": "564b0658",
   "metadata": {
    "execution": {
     "iopub.execute_input": "2021-12-21T02:42:19.130961Z",
     "iopub.status.busy": "2021-12-21T02:42:19.130642Z",
     "iopub.status.idle": "2021-12-21T02:42:19.149816Z",
     "shell.execute_reply": "2021-12-21T02:42:19.149486Z"
    },
    "papermill": {
     "duration": null,
     "end_time": null,
     "exception": null,
     "start_time": null,
     "status": "pending"
    },
    "tags": []
   },
   "outputs": [],
   "source": [
    "cmap"
   ]
  },
  {
   "cell_type": "code",
   "execution_count": null,
   "id": "cb181b66",
   "metadata": {
    "execution": {
     "iopub.execute_input": "2021-12-21T02:42:19.316653Z",
     "iopub.status.busy": "2021-12-21T02:42:19.316251Z",
     "iopub.status.idle": "2021-12-21T02:42:19.332157Z",
     "shell.execute_reply": "2021-12-21T02:42:19.331813Z"
    },
    "papermill": {
     "duration": null,
     "end_time": null,
     "exception": null,
     "start_time": null,
     "status": "pending"
    },
    "tags": []
   },
   "outputs": [],
   "source": [
    "if period == 'seasonal': \n",
    "    period_label = 'season'\n",
    "    lead = step - 2 \n",
    "elif period == 'monthly': \n",
    "    period_label = 'month'\n",
    "    lead = step"
   ]
  },
  {
   "cell_type": "code",
   "execution_count": null,
   "id": "798b99a5",
   "metadata": {
    "execution": {
     "iopub.execute_input": "2021-12-21T02:42:19.498846Z",
     "iopub.status.busy": "2021-12-21T02:42:19.498502Z",
     "iopub.status.idle": "2021-12-21T02:42:19.514630Z",
     "shell.execute_reply": "2021-12-21T02:42:19.514880Z"
    },
    "papermill": {
     "duration": null,
     "end_time": null,
     "exception": null,
     "start_time": null,
     "status": "pending"
    },
    "tags": []
   },
   "outputs": [],
   "source": [
    "# f, axes = plt.subplots(nrows=3, figsize=(8,12), subplot_kw=dict(projection=ccrs.PlateCarree(central_longitude=180)))\n",
    "\n",
    "# axes = axes.flatten()\n",
    "\n",
    "# ax = axes[0]\n",
    "\n",
    "# precision.plot.contourf(ax=ax, levels=np.arange(0.3, 1,  0.1), transform=ccrs.PlateCarree(), cbar_kwargs=cbar_kwargs, cmap=cmap)\n",
    "\n",
    "# ax.coastlines(resolution='10m')\n",
    "\n",
    "# ax.set_extent(domain, crs=ccrs.PlateCarree())\n",
    "\n",
    "# ax.set_title(f\"C3S MME, {category_name} category ({category_description}) precision, 1 season ahead\")\n",
    "\n",
    "# ax = axes[1]\n",
    "\n",
    "# recall.plot.contourf(ax=ax, levels=np.arange(0.3, 1,  0.1), transform=ccrs.PlateCarree(), cbar_kwargs=cbar_kwargs, cmap=cmap)\n",
    "\n",
    "# ax.coastlines(resolution='10m')\n",
    "\n",
    "# ax.set_extent(domain, crs=ccrs.PlateCarree())\n",
    "\n",
    "# ax.set_title(f\"C3S MME, {category_name} category ({category_description}) recall, 1 season ahead\")\n",
    "\n",
    "# ax = axes[2]\n",
    "\n",
    "# F1_Score.plot.contourf(ax=ax, levels=np.arange(0.3, 1,  0.1), transform=ccrs.PlateCarree(), cbar_kwargs=cbar_kwargs, cmap=cmap)\n",
    "\n",
    "# ax.coastlines(resolution='10m')\n",
    "\n",
    "# ax.set_extent(domain, crs=ccrs.PlateCarree())\n",
    "\n",
    "# ax.set_title(f\"C3S MME, {category_name} category ({category_description}) F1 score, 1 season ahead\")\n",
    "\n",
    "# f.savefig(f'./{category_name}_precision_recall_F1score.png', dpi=200, bbox_inches='tight', facecolor='w')"
   ]
  },
  {
   "cell_type": "code",
   "execution_count": null,
   "id": "dcb9484b",
   "metadata": {
    "execution": {
     "iopub.execute_input": "2021-12-21T02:42:19.687915Z",
     "iopub.status.busy": "2021-12-21T02:42:19.687583Z",
     "iopub.status.idle": "2021-12-21T02:42:25.665337Z",
     "shell.execute_reply": "2021-12-21T02:42:25.665598Z"
    },
    "papermill": {
     "duration": null,
     "end_time": null,
     "exception": null,
     "start_time": null,
     "status": "pending"
    },
    "tags": []
   },
   "outputs": [],
   "source": [
    "f, axes = plt.subplots(nrows=3, figsize=(8,12), subplot_kw=dict(projection=ccrs.PlateCarree(central_longitude=180)))\n",
    "\n",
    "axes = axes.flatten()\n",
    "\n",
    "ax = axes[0]\n",
    "\n",
    "precision.plot.contourf(ax=ax, levels=np.arange(0.3, 1,  0.1), transform=ccrs.PlateCarree(), cbar_kwargs=cbar_kwargs, cmap=cmap)\n",
    "\n",
    "ax.coastlines(resolution='10m')\n",
    "\n",
    "ax.set_extent(domain, crs=ccrs.PlateCarree())\n",
    "\n",
    "ax.set_title(f\"C3S MME, {class_dict[class_value][0]} category ({class_dict[class_value][1]}) precision, {lead} {period_label} ahead\")\n",
    "\n",
    "ax = axes[1]\n",
    "\n",
    "recall.plot.contourf(ax=ax, levels=np.arange(0.3, 1,  0.1), transform=ccrs.PlateCarree(), cbar_kwargs=cbar_kwargs, cmap=cmap)\n",
    "\n",
    "ax.coastlines(resolution='10m')\n",
    "\n",
    "ax.set_extent(domain, crs=ccrs.PlateCarree())\n",
    "\n",
    "ax.set_title(f\"C3S MME, {class_dict[class_value][0]} category ({class_dict[class_value][1]}) recall,{lead} {period_label} ahead\")\n",
    "\n",
    "ax = axes[2]\n",
    "\n",
    "F1_Score.plot.contourf(ax=ax, levels=np.arange(0.3, 1,  0.1), transform=ccrs.PlateCarree(), cbar_kwargs=cbar_kwargs, cmap=cmap)\n",
    "\n",
    "ax.coastlines(resolution='10m')\n",
    "\n",
    "ax.set_extent(domain, crs=ccrs.PlateCarree())\n",
    "\n",
    "ax.set_title(f\"C3S MME, {class_dict[class_value][0]} category ({class_dict[class_value][1]}) F1 score, {lead} {period_label} ahead\")\n",
    "\n",
    "# f.savefig(f'./{quantile}_{class_dict[class_value][0]}_precision_recall_F1score_{lead}_{period_label}_ahead.png', dpi=200, bbox_inches='tight', facecolor='w')"
   ]
  },
  {
   "cell_type": "markdown",
   "id": "707f1e4e",
   "metadata": {
    "papermill": {
     "duration": null,
     "end_time": null,
     "exception": null,
     "start_time": null,
     "status": "pending"
    },
    "tags": []
   },
   "source": [
    "### ACCURACY"
   ]
  },
  {
   "cell_type": "code",
   "execution_count": null,
   "id": "47027da6",
   "metadata": {
    "execution": {
     "iopub.execute_input": "2021-12-21T02:42:26.007951Z",
     "iopub.status.busy": "2021-12-21T02:42:26.007637Z",
     "iopub.status.idle": "2021-12-21T02:42:26.026544Z",
     "shell.execute_reply": "2021-12-21T02:42:26.026215Z"
    },
    "papermill": {
     "duration": null,
     "end_time": null,
     "exception": null,
     "start_time": null,
     "status": "pending"
    },
    "tags": []
   },
   "outputs": [],
   "source": [
    "acc = dset['gcm'] == dset['verif']"
   ]
  },
  {
   "cell_type": "code",
   "execution_count": null,
   "id": "2e2d5ee0",
   "metadata": {
    "execution": {
     "iopub.execute_input": "2021-12-21T02:42:26.197050Z",
     "iopub.status.busy": "2021-12-21T02:42:26.196735Z",
     "iopub.status.idle": "2021-12-21T02:42:26.214228Z",
     "shell.execute_reply": "2021-12-21T02:42:26.213885Z"
    },
    "papermill": {
     "duration": null,
     "end_time": null,
     "exception": null,
     "start_time": null,
     "status": "pending"
    },
    "tags": []
   },
   "outputs": [],
   "source": [
    "acc = acc.sum('time') / len(acc.time)"
   ]
  },
  {
   "cell_type": "code",
   "execution_count": null,
   "id": "97250028",
   "metadata": {
    "execution": {
     "iopub.execute_input": "2021-12-21T02:42:26.389392Z",
     "iopub.status.busy": "2021-12-21T02:42:26.389069Z",
     "iopub.status.idle": "2021-12-21T02:42:26.404617Z",
     "shell.execute_reply": "2021-12-21T02:42:26.404286Z"
    },
    "papermill": {
     "duration": null,
     "end_time": null,
     "exception": null,
     "start_time": null,
     "status": "pending"
    },
    "tags": []
   },
   "outputs": [],
   "source": [
    "cbar_kwargs.update(shrink=0.5)"
   ]
  },
  {
   "cell_type": "code",
   "execution_count": null,
   "id": "e3d7641b",
   "metadata": {
    "execution": {
     "iopub.execute_input": "2021-12-21T02:42:26.576443Z",
     "iopub.status.busy": "2021-12-21T02:42:26.576112Z",
     "iopub.status.idle": "2021-12-21T02:42:26.592432Z",
     "shell.execute_reply": "2021-12-21T02:42:26.592168Z"
    },
    "papermill": {
     "duration": null,
     "end_time": null,
     "exception": null,
     "start_time": null,
     "status": "pending"
    },
    "tags": []
   },
   "outputs": [],
   "source": [
    "cbar_kwargs"
   ]
  },
  {
   "cell_type": "code",
   "execution_count": null,
   "id": "a374eda9",
   "metadata": {
    "execution": {
     "iopub.execute_input": "2021-12-21T02:42:26.762320Z",
     "iopub.status.busy": "2021-12-21T02:42:26.761976Z",
     "iopub.status.idle": "2021-12-21T02:42:27.929333Z",
     "shell.execute_reply": "2021-12-21T02:42:27.929005Z"
    },
    "papermill": {
     "duration": null,
     "end_time": null,
     "exception": null,
     "start_time": null,
     "status": "pending"
    },
    "tags": []
   },
   "outputs": [],
   "source": [
    "f, ax = plt.subplots(figsize=(8,6), subplot_kw=dict(projection=ccrs.PlateCarree(central_longitude=180)))\n",
    "\n",
    "acc.plot.contourf(ax=ax, levels=np.arange(0.3, 1,  0.1), transform=ccrs.PlateCarree(), cbar_kwargs=cbar_kwargs, cmap=cmap)\n",
    "\n",
    "ax.coastlines(resolution='10m')\n",
    "\n",
    "ax.set_extent(domain, crs=ccrs.PlateCarree())\n",
    "\n",
    "ax.set_title(f\"C3S MME, Accuracy [0 - 1], {lead} {period_label} ahead\")\n",
    "\n",
    "f.savefig(f'./{quantile}_{class_dict[class_value][0]}_accuracy_{lead}_{period_label}_ahead.png', dpi=200, bbox_inches='tight', facecolor='w')"
   ]
  },
  {
   "cell_type": "code",
   "execution_count": null,
   "id": "d92408f8",
   "metadata": {
    "papermill": {
     "duration": null,
     "end_time": null,
     "exception": null,
     "start_time": null,
     "status": "pending"
    },
    "tags": []
   },
   "outputs": [],
   "source": []
  },
  {
   "cell_type": "code",
   "execution_count": null,
   "id": "9b44b637",
   "metadata": {
    "papermill": {
     "duration": null,
     "end_time": null,
     "exception": null,
     "start_time": null,
     "status": "pending"
    },
    "tags": []
   },
   "outputs": [],
   "source": []
  },
  {
   "cell_type": "code",
   "execution_count": null,
   "id": "72555aa8",
   "metadata": {
    "papermill": {
     "duration": null,
     "end_time": null,
     "exception": null,
     "start_time": null,
     "status": "pending"
    },
    "tags": []
   },
   "outputs": [],
   "source": []
  },
  {
   "cell_type": "code",
   "execution_count": null,
   "id": "75703419",
   "metadata": {
    "papermill": {
     "duration": null,
     "end_time": null,
     "exception": null,
     "start_time": null,
     "status": "pending"
    },
    "tags": []
   },
   "outputs": [],
   "source": []
  }
 ],
 "metadata": {
  "kernelspec": {
   "display_name": "Python 3",
   "language": "python",
   "name": "python3"
  },
  "language_info": {
   "codemirror_mode": {
    "name": "ipython",
    "version": 3
   },
   "file_extension": ".py",
   "mimetype": "text/x-python",
   "name": "python",
   "nbconvert_exporter": "python",
   "pygments_lexer": "ipython3",
   "version": "3.8.10"
  },
  "papermill": {
   "default_parameters": {},
   "duration": null,
   "end_time": null,
   "environment_variables": {},
   "exception": null,
   "input_path": "validate_quartiles_probabilistic_hindcasts_MME.ipynb",
   "output_path": "validate_quartiles_probabilistic_hindcasts_MME.ipynb",
   "parameters": {
    "period": "seasonal",
    "step": 3
   },
   "start_time": "2021-12-21T02:52:09.054333",
   "version": "2.3.3"
  }
 },
 "nbformat": 4,
 "nbformat_minor": 5
}