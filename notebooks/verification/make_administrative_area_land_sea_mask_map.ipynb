{
 "cells": [
  {
   "cell_type": "markdown",
   "id": "dc848a92-0993-4d7a-8b8c-59ee5d5e5564",
   "metadata": {
    "papermill": {
     "duration": 0.073722,
     "end_time": "2022-03-14T04:07:40.201223",
     "exception": false,
     "start_time": "2022-03-14T04:07:40.127501",
     "status": "completed"
    },
    "tags": []
   },
   "source": [
    "### calculate the leadtime-dependent climatological terciles, deciles and percentiles (0.02, then 0.05 to 0.95 with 0.05 step) from the individual GCMs' hindcast dataset (period 1993 - 2016) for admin areas  "
   ]
  },
  {
   "cell_type": "code",
   "execution_count": 1,
   "id": "d9e3e956-31d5-4606-b762-657a128f93dc",
   "metadata": {
    "papermill": {
     "duration": 0.084335,
     "end_time": "2022-03-14T04:07:40.505787",
     "exception": false,
     "start_time": "2022-03-14T04:07:40.421452",
     "status": "completed"
    },
    "tags": []
   },
   "outputs": [],
   "source": [
    "%load_ext autoreload\n",
    "%autoreload 2"
   ]
  },
  {
   "cell_type": "code",
   "execution_count": 2,
   "id": "ec7c9f73-b771-4191-9c46-eb9e2ca266ad",
   "metadata": {
    "papermill": {
     "duration": 1.668593,
     "end_time": "2022-03-14T04:07:42.247822",
     "exception": false,
     "start_time": "2022-03-14T04:07:40.579229",
     "status": "completed"
    },
    "tags": []
   },
   "outputs": [],
   "source": [
    "%matplotlib inline\n",
    "\n",
    "### os and standard libraries \n",
    "import os\n",
    "import sys\n",
    "from collections import OrderedDict\n",
    "from itertools import product\n",
    "\n",
    "### datetimes\n",
    "from datetime import datetime, timedelta\n",
    "\n",
    "### scipy\n",
    "import numpy as np\n",
    "import pandas as pd\n",
    "import xarray as xr\n",
    "import geopandas as gpd\n",
    "import cartopy.crs as ccrs\n",
    "import dask\n",
    "from dask.diagnostics import ProgressBar\n",
    "from tqdm import tqdm\n",
    "\n",
    "### plotting\n",
    "from matplotlib import pyplot as plt\n",
    "import matplotlib\n",
    "import seaborn as sns\n"
   ]
  },
  {
   "cell_type": "code",
   "execution_count": 3,
   "id": "0cab9771-20cf-4302-9c84-97580f01d934",
   "metadata": {
    "papermill": {
     "duration": 0.092645,
     "end_time": "2022-03-14T04:07:42.410257",
     "exception": false,
     "start_time": "2022-03-14T04:07:42.317612",
     "status": "completed"
    },
    "tags": []
   },
   "outputs": [],
   "source": [
    "import pathlib\n",
    "\n",
    "HOME = pathlib.Path.home()\n",
    "CWD = pathlib.Path.cwd() "
   ]
  },
  {
   "cell_type": "code",
   "execution_count": 4,
   "id": "03b5d899-37d8-48b0-b161-3b5a67d2e116",
   "metadata": {
    "papermill": {
     "duration": 0.08951,
     "end_time": "2022-03-14T04:07:42.573457",
     "exception": false,
     "start_time": "2022-03-14T04:07:42.483947",
     "status": "completed"
    },
    "tags": []
   },
   "outputs": [],
   "source": [
    "sys.path.append('../../') "
   ]
  },
  {
   "cell_type": "code",
   "execution_count": 5,
   "id": "d986433d-94b5-41de-b90e-ff762bdcb9c4",
   "metadata": {
    "papermill": {
     "duration": 11.778736,
     "end_time": "2022-03-14T04:07:54.425879",
     "exception": false,
     "start_time": "2022-03-14T04:07:42.647143",
     "status": "completed"
    },
    "tags": []
   },
   "outputs": [
    {
     "name": "stderr",
     "output_type": "stream",
     "text": [
      "/home/nicolasf/mambaforge/envs/ICU_ops/lib/python3.9/site-packages/statsmodels/compat/pandas.py:65: FutureWarning: pandas.Int64Index is deprecated and will be removed from pandas in a future version. Use pandas.Index with the appropriate dtype instead.\n",
      "  from pandas import Int64Index as NumericIndex\n"
     ]
    }
   ],
   "source": [
    "from ICU_Water_Watch import geo, C3S, domains, plot, utils"
   ]
  },
  {
   "cell_type": "markdown",
   "id": "91fc8bca-7496-4fb6-b86d-ef83d37820b4",
   "metadata": {
    "papermill": {
     "duration": 0.071629,
     "end_time": "2022-03-14T04:07:54.876483",
     "exception": false,
     "start_time": "2022-03-14T04:07:54.804854",
     "status": "completed"
    },
    "tags": []
   },
   "source": [
    "### list of GCMs with complete hindcast period "
   ]
  },
  {
   "cell_type": "markdown",
   "id": "ca1eed61-799e-4262-85e3-d99fa6adb06a",
   "metadata": {
    "papermill": {
     "duration": 0.072844,
     "end_time": "2022-03-14T04:07:55.185138",
     "exception": false,
     "start_time": "2022-03-14T04:07:55.112294",
     "status": "completed"
    },
    "tags": []
   },
   "source": [
    "### PARAMETERS FOR PAPERMILL "
   ]
  },
  {
   "cell_type": "code",
   "execution_count": 6,
   "id": "ec9e9c11-6a0a-4569-b095-12b7aa3e4e25",
   "metadata": {
    "papermill": {
     "duration": 0.0929,
     "end_time": "2022-03-14T04:07:55.350418",
     "exception": false,
     "start_time": "2022-03-14T04:07:55.257518",
     "status": "completed"
    },
    "tags": [
     "parameters"
    ]
   },
   "outputs": [],
   "source": [
    "provider = 'CDS'\n",
    "varname = 'tprate'\n",
    "GCM = 'ECMWF'\n",
    "quantiles = 'quartile'\n",
    "country = \"Papua New Guinea\"\n",
    "admin = \"Islands Region\""
   ]
  },
  {
   "cell_type": "code",
   "execution_count": 7,
   "id": "cbcb65ed-7126-4c4b-b7b1-29f7c053f5b1",
   "metadata": {
    "papermill": {
     "duration": 0.091978,
     "end_time": "2022-03-14T04:07:56.438414",
     "exception": false,
     "start_time": "2022-03-14T04:07:56.346436",
     "status": "completed"
    },
    "tags": []
   },
   "outputs": [],
   "source": [
    "gcm_path = pathlib.Path(f'/media/nicolasf/END19101/ICU/data/{provider}/operational/hindcasts')"
   ]
  },
  {
   "cell_type": "code",
   "execution_count": 8,
   "id": "33fe9a62-f1e7-40b4-a77b-7d7ddee2b7ca",
   "metadata": {
    "papermill": {
     "duration": 0.091945,
     "end_time": "2022-03-14T04:07:56.602324",
     "exception": false,
     "start_time": "2022-03-14T04:07:56.510379",
     "status": "completed"
    },
    "tags": []
   },
   "outputs": [],
   "source": [
    "dpath = gcm_path.joinpath(GCM).joinpath(varname.upper())"
   ]
  },
  {
   "cell_type": "code",
   "execution_count": 9,
   "id": "692494fd-2d87-4d0c-9e6d-1aa8b3d71794",
   "metadata": {
    "papermill": {
     "duration": 0.090484,
     "end_time": "2022-03-14T04:07:56.765001",
     "exception": false,
     "start_time": "2022-03-14T04:07:56.674517",
     "status": "completed"
    },
    "tags": []
   },
   "outputs": [
    {
     "name": "stdout",
     "output_type": "stream",
     "text": [
      "/media/nicolasf/END19101/ICU/data/CDS/operational/hindcasts/ECMWF/TPRATE\n"
     ]
    }
   ],
   "source": [
    "print(dpath)"
   ]
  },
  {
   "cell_type": "markdown",
   "id": "d47e42f3-1647-4f1b-866f-501481e2dfab",
   "metadata": {
    "papermill": {
     "duration": 0.071285,
     "end_time": "2022-03-14T04:07:57.541364",
     "exception": false,
     "start_time": "2022-03-14T04:07:57.470079",
     "status": "completed"
    },
    "tags": []
   },
   "source": [
    "### get the list of files "
   ]
  },
  {
   "cell_type": "code",
   "execution_count": 10,
   "id": "f0b72f90-2b59-45d1-833f-8e47715b9177",
   "metadata": {
    "papermill": {
     "duration": 0.093394,
     "end_time": "2022-03-14T04:07:57.706724",
     "exception": false,
     "start_time": "2022-03-14T04:07:57.613330",
     "status": "completed"
    },
    "tags": []
   },
   "outputs": [],
   "source": [
    "lfiles = list(dpath.glob(f\"ensemble_seas_forecasts_{varname}_from_*.netcdf\"))"
   ]
  },
  {
   "cell_type": "code",
   "execution_count": 11,
   "id": "5f540505-874a-4adc-a85a-cfec75575f08",
   "metadata": {},
   "outputs": [],
   "source": [
    "dset = xr.open_dataset(lfiles[0], engine='netcdf4')"
   ]
  },
  {
   "cell_type": "code",
   "execution_count": 12,
   "id": "6e0c3576-e89e-4816-b4f6-455d34b0ab04",
   "metadata": {},
   "outputs": [],
   "source": [
    "dset = C3S.preprocess_GCM(dset)"
   ]
  },
  {
   "cell_type": "code",
   "execution_count": 13,
   "id": "7b8731c1-7a35-436d-9bae-a14882cd52bb",
   "metadata": {},
   "outputs": [
    {
     "name": "stdout",
     "output_type": "stream",
     "text": [
      "\n",
      "unit is m s**-1, converting to mm/day\n",
      "\n",
      "now converting to mm/month, converted precipitation will be held in var = precip\n"
     ]
    }
   ],
   "source": [
    "dset = C3S.convert_rainfall(dset)"
   ]
  },
  {
   "cell_type": "code",
   "execution_count": 14,
   "id": "b7afaa16-4579-4ce1-8c9e-aa2da451b518",
   "metadata": {
    "papermill": {
     "duration": 0.094306,
     "end_time": "2022-03-14T04:08:04.983048",
     "exception": false,
     "start_time": "2022-03-14T04:08:04.888742",
     "status": "completed"
    },
    "tags": []
   },
   "outputs": [
    {
     "data": {
      "text/plain": [
       "<bound method Dataset.info of <xarray.Dataset>\n",
       "Dimensions:  (time: 1, lon: 121, lat: 81, member: 25, step: 5)\n",
       "Coordinates:\n",
       "  * time     (time) datetime64[ns] 1993-01-01\n",
       "  * lon      (lon) float32 120.0 121.0 122.0 123.0 ... 237.0 238.0 239.0 240.0\n",
       "  * lat      (lat) float32 -50.0 -49.0 -48.0 -47.0 -46.0 ... 27.0 28.0 29.0 30.0\n",
       "  * member   (member) int32 0 1 2 3 4 5 6 7 8 9 ... 16 17 18 19 20 21 22 23 24\n",
       "  * step     (step) int64 1 2 3 4 5\n",
       "Data variables:\n",
       "    precip   (time, step, member, lat, lon) float64 128.9 108.7 ... 3.533 3.134\n",
       "Attributes:\n",
       "    Conventions:  CF-1.6\n",
       "    history:      2022-01-17 01:17:57 GMT by grib_to_netcdf-2.23.0: /opt/ecmw...>"
      ]
     },
     "execution_count": 14,
     "metadata": {},
     "output_type": "execute_result"
    }
   ],
   "source": [
    "dset.info"
   ]
  },
  {
   "cell_type": "markdown",
   "id": "5992d373-617d-4c7c-9825-afb4e9941a7b",
   "metadata": {},
   "source": [
    "### read the coastlines"
   ]
  },
  {
   "cell_type": "code",
   "execution_count": 15,
   "id": "10276179-5bb6-44d2-9a05-a88736657b4d",
   "metadata": {
    "papermill": {
     "duration": 0.096232,
     "end_time": "2022-03-14T04:08:08.214937",
     "exception": false,
     "start_time": "2022-03-14T04:08:08.118705",
     "status": "completed"
    },
    "tags": []
   },
   "outputs": [],
   "source": [
    "coastlines_dpath = pathlib.Path('/home/nicolasf/operational/ICU/development/hotspots/data/shapefiles/Admin_boundaries/Coastlines')"
   ]
  },
  {
   "cell_type": "code",
   "execution_count": 16,
   "id": "b7a89383-fc10-420c-b116-9640289042f1",
   "metadata": {
    "papermill": {
     "duration": 0.173698,
     "end_time": "2022-03-14T04:08:08.465089",
     "exception": false,
     "start_time": "2022-03-14T04:08:08.291391",
     "status": "completed"
    },
    "tags": []
   },
   "outputs": [],
   "source": [
    "shapefile = gpd.read_file(coastlines_dpath.joinpath('ICU_admin_geometries0_360.shp'))"
   ]
  },
  {
   "cell_type": "code",
   "execution_count": 17,
   "id": "3ffbf31f-21c3-4a1b-8bc4-81dc56b9617c",
   "metadata": {
    "papermill": {
     "duration": 0.26349,
     "end_time": "2022-03-14T04:08:08.807703",
     "exception": false,
     "start_time": "2022-03-14T04:08:08.544213",
     "status": "completed"
    },
    "tags": []
   },
   "outputs": [
    {
     "data": {
      "text/html": [
       "<div>\n",
       "<style scoped>\n",
       "    .dataframe tbody tr th:only-of-type {\n",
       "        vertical-align: middle;\n",
       "    }\n",
       "\n",
       "    .dataframe tbody tr th {\n",
       "        vertical-align: top;\n",
       "    }\n",
       "\n",
       "    .dataframe thead th {\n",
       "        text-align: right;\n",
       "    }\n",
       "</style>\n",
       "<table border=\"1\" class=\"dataframe\">\n",
       "  <thead>\n",
       "    <tr style=\"text-align: right;\">\n",
       "      <th></th>\n",
       "      <th>id</th>\n",
       "      <th>Country</th>\n",
       "      <th>Admin_boun</th>\n",
       "      <th>geometry</th>\n",
       "    </tr>\n",
       "  </thead>\n",
       "  <tbody>\n",
       "    <tr>\n",
       "      <th>0</th>\n",
       "      <td>1</td>\n",
       "      <td>Northern Mariana Islands</td>\n",
       "      <td>Southern Islands</td>\n",
       "      <td>MULTIPOLYGON (((145.13454 14.13935, 145.13472 ...</td>\n",
       "    </tr>\n",
       "    <tr>\n",
       "      <th>1</th>\n",
       "      <td>2</td>\n",
       "      <td>Northern Mariana Islands</td>\n",
       "      <td>Northern Islands</td>\n",
       "      <td>MULTIPOLYGON (((146.05832 16.01259, 146.05590 ...</td>\n",
       "    </tr>\n",
       "    <tr>\n",
       "      <th>2</th>\n",
       "      <td>3</td>\n",
       "      <td>Guam</td>\n",
       "      <td>Guam</td>\n",
       "      <td>MULTIPOLYGON (((144.65813 13.23972, 144.65000 ...</td>\n",
       "    </tr>\n",
       "    <tr>\n",
       "      <th>3</th>\n",
       "      <td>4</td>\n",
       "      <td>Palau</td>\n",
       "      <td>Babeldaob region</td>\n",
       "      <td>MULTIPOLYGON (((134.12425 6.92185, 134.12468 6...</td>\n",
       "    </tr>\n",
       "    <tr>\n",
       "      <th>4</th>\n",
       "      <td>5</td>\n",
       "      <td>Palau</td>\n",
       "      <td>South-west Islands</td>\n",
       "      <td>MULTIPOLYGON (((131.81201 2.97124, 131.81115 2...</td>\n",
       "    </tr>\n",
       "    <tr>\n",
       "      <th>...</th>\n",
       "      <td>...</td>\n",
       "      <td>...</td>\n",
       "      <td>...</td>\n",
       "      <td>...</td>\n",
       "    </tr>\n",
       "    <tr>\n",
       "      <th>68</th>\n",
       "      <td>24</td>\n",
       "      <td>Cook Islands</td>\n",
       "      <td>Northern Cook Islands</td>\n",
       "      <td>MULTIPOLYGON (((196.88468 -13.33285, 196.88385...</td>\n",
       "    </tr>\n",
       "    <tr>\n",
       "      <th>69</th>\n",
       "      <td>70</td>\n",
       "      <td>FSM</td>\n",
       "      <td>Kapingamarangi</td>\n",
       "      <td>MULTIPOLYGON (((154.77861 1.02694, 154.78083 1...</td>\n",
       "    </tr>\n",
       "    <tr>\n",
       "      <th>70</th>\n",
       "      <td>71</td>\n",
       "      <td>Marshall Islands</td>\n",
       "      <td>Southern Marshall Islands</td>\n",
       "      <td>MULTIPOLYGON (((168.76519 4.60420, 168.76501 4...</td>\n",
       "    </tr>\n",
       "    <tr>\n",
       "      <th>71</th>\n",
       "      <td>72</td>\n",
       "      <td>Marshall Islands</td>\n",
       "      <td>Central Marshall Islands</td>\n",
       "      <td>MULTIPOLYGON (((168.76889 7.28056, 168.76944 7...</td>\n",
       "    </tr>\n",
       "    <tr>\n",
       "      <th>72</th>\n",
       "      <td>73</td>\n",
       "      <td>Marshall Islands</td>\n",
       "      <td>Northern Marshall Islands</td>\n",
       "      <td>MULTIPOLYGON (((166.51295 11.11558, 166.51334 ...</td>\n",
       "    </tr>\n",
       "  </tbody>\n",
       "</table>\n",
       "<p>73 rows × 4 columns</p>\n",
       "</div>"
      ],
      "text/plain": [
       "    id                   Country                 Admin_boun  \\\n",
       "0    1  Northern Mariana Islands           Southern Islands   \n",
       "1    2  Northern Mariana Islands           Northern Islands   \n",
       "2    3                      Guam                       Guam   \n",
       "3    4                     Palau           Babeldaob region   \n",
       "4    5                     Palau         South-west Islands   \n",
       "..  ..                       ...                        ...   \n",
       "68  24              Cook Islands      Northern Cook Islands   \n",
       "69  70                       FSM             Kapingamarangi   \n",
       "70  71          Marshall Islands  Southern Marshall Islands   \n",
       "71  72          Marshall Islands   Central Marshall Islands   \n",
       "72  73          Marshall Islands  Northern Marshall Islands   \n",
       "\n",
       "                                             geometry  \n",
       "0   MULTIPOLYGON (((145.13454 14.13935, 145.13472 ...  \n",
       "1   MULTIPOLYGON (((146.05832 16.01259, 146.05590 ...  \n",
       "2   MULTIPOLYGON (((144.65813 13.23972, 144.65000 ...  \n",
       "3   MULTIPOLYGON (((134.12425 6.92185, 134.12468 6...  \n",
       "4   MULTIPOLYGON (((131.81201 2.97124, 131.81115 2...  \n",
       "..                                                ...  \n",
       "68  MULTIPOLYGON (((196.88468 -13.33285, 196.88385...  \n",
       "69  MULTIPOLYGON (((154.77861 1.02694, 154.78083 1...  \n",
       "70  MULTIPOLYGON (((168.76519 4.60420, 168.76501 4...  \n",
       "71  MULTIPOLYGON (((168.76889 7.28056, 168.76944 7...  \n",
       "72  MULTIPOLYGON (((166.51295 11.11558, 166.51334 ...  \n",
       "\n",
       "[73 rows x 4 columns]"
      ]
     },
     "execution_count": 17,
     "metadata": {},
     "output_type": "execute_result"
    }
   ],
   "source": [
    "shapefile"
   ]
  },
  {
   "cell_type": "code",
   "execution_count": 18,
   "id": "b5738828-f141-4729-b103-b969e23b1cab",
   "metadata": {
    "papermill": {
     "duration": 0.094362,
     "end_time": "2022-03-14T04:08:08.975222",
     "exception": false,
     "start_time": "2022-03-14T04:08:08.880860",
     "status": "completed"
    },
    "tags": []
   },
   "outputs": [],
   "source": [
    "country_col = 'Country'\n",
    "admin_col = 'Admin_boun'"
   ]
  },
  {
   "cell_type": "code",
   "execution_count": 19,
   "id": "9574799e-b9a0-4a3c-bc8c-e5c2baba0633",
   "metadata": {
    "papermill": {
     "duration": 0.095456,
     "end_time": "2022-03-14T04:08:09.145367",
     "exception": false,
     "start_time": "2022-03-14T04:08:09.049911",
     "status": "completed"
    },
    "tags": []
   },
   "outputs": [],
   "source": [
    "shapefile.loc[:,f\"{admin_col}\"] = shapefile.loc[:,f\"{admin_col}\"].str.replace(\"'\",\"\")"
   ]
  },
  {
   "cell_type": "markdown",
   "id": "f474e5eb-bf20-4195-808b-1432b878c85c",
   "metadata": {
    "papermill": {
     "duration": 0.075966,
     "end_time": "2022-03-14T04:08:09.297182",
     "exception": false,
     "start_time": "2022-03-14T04:08:09.221216",
     "status": "completed"
    },
    "tags": []
   },
   "source": [
    "### restrict to country "
   ]
  },
  {
   "cell_type": "code",
   "execution_count": 20,
   "id": "02313a53-e28d-4c6c-a36d-4a436fc8329a",
   "metadata": {
    "papermill": {
     "duration": 0.097721,
     "end_time": "2022-03-14T04:08:09.471232",
     "exception": false,
     "start_time": "2022-03-14T04:08:09.373511",
     "status": "completed"
    },
    "tags": []
   },
   "outputs": [],
   "source": [
    "sub = shapefile.query(f\"Country == '{country}'\")"
   ]
  },
  {
   "cell_type": "markdown",
   "id": "952dc6ae-272f-48d0-8b6c-ac5e1f545552",
   "metadata": {
    "papermill": {
     "duration": 0.07494,
     "end_time": "2022-03-14T04:08:09.622052",
     "exception": false,
     "start_time": "2022-03-14T04:08:09.547112",
     "status": "completed"
    },
    "tags": []
   },
   "source": [
    "### restrict to administrative area "
   ]
  },
  {
   "cell_type": "code",
   "execution_count": 21,
   "id": "3c7b5943-959b-4e87-8225-be989b84197f",
   "metadata": {
    "papermill": {
     "duration": 0.095691,
     "end_time": "2022-03-14T04:08:09.792641",
     "exception": false,
     "start_time": "2022-03-14T04:08:09.696950",
     "status": "completed"
    },
    "tags": []
   },
   "outputs": [],
   "source": [
    "shape = sub.query(f\"{admin_col} == '{admin}'\")"
   ]
  },
  {
   "cell_type": "code",
   "execution_count": 22,
   "id": "303766e0-1484-461d-a5bc-75d67d15083c",
   "metadata": {
    "papermill": {
     "duration": 0.311636,
     "end_time": "2022-03-14T04:08:10.179267",
     "exception": false,
     "start_time": "2022-03-14T04:08:09.867631",
     "status": "completed"
    },
    "tags": []
   },
   "outputs": [
    {
     "data": {
      "text/plain": [
       "<AxesSubplot:>"
      ]
     },
     "execution_count": 22,
     "metadata": {},
     "output_type": "execute_result"
    },
    {
     "data": {
      "image/png": "[encoded data removed]",
      "text/plain": [
       "<Figure size 720x720 with 1 Axes>"
      ]
     },
     "metadata": {
      "needs_background": "light"
     },
     "output_type": "display_data"
    }
   ],
   "source": [
    "shape.plot(figsize=(10,10))"
   ]
  },
  {
   "cell_type": "code",
   "execution_count": 23,
   "id": "bfd35648-4de5-495e-9ffb-5a228a6a73c7",
   "metadata": {
    "papermill": {
     "duration": 0.098045,
     "end_time": "2022-03-14T04:08:10.353104",
     "exception": false,
     "start_time": "2022-03-14T04:08:10.255059",
     "status": "completed"
    },
    "tags": []
   },
   "outputs": [],
   "source": [
    "original_shape = shape.copy()"
   ]
  },
  {
   "cell_type": "markdown",
   "id": "2d65b2b2-bc09-4f1e-bbfa-e200fc224846",
   "metadata": {
    "papermill": {
     "duration": 0.076134,
     "end_time": "2022-03-14T04:08:10.506075",
     "exception": false,
     "start_time": "2022-03-14T04:08:10.429941",
     "status": "completed"
    },
    "tags": []
   },
   "source": [
    "### for Island groups consituted of very small islands / atolls, we don't filter OUT the geometries, we actually buffer them  so that they can match the resolution of the GCM (once interpolated)"
   ]
  },
  {
   "cell_type": "code",
   "execution_count": 24,
   "id": "9cc89cc1-be84-414f-9b86-ac06eb9d487b",
   "metadata": {
    "papermill": {
     "duration": 0.111489,
     "end_time": "2022-03-14T04:08:10.694498",
     "exception": false,
     "start_time": "2022-03-14T04:08:10.583009",
     "status": "completed"
    },
    "tags": []
   },
   "outputs": [
    {
     "data": {
      "text/plain": [
       "57820.77035999287"
      ]
     },
     "execution_count": 24,
     "metadata": {},
     "output_type": "execute_result"
    }
   ],
   "source": [
    "float(shape.to_crs('EPSG:3857').area / 10**6)"
   ]
  },
  {
   "cell_type": "code",
   "execution_count": 25,
   "id": "10877191-df5c-4e8c-9f79-bdad967dfc30",
   "metadata": {
    "papermill": {
     "duration": 0.706246,
     "end_time": "2022-03-14T04:08:11.477644",
     "exception": false,
     "start_time": "2022-03-14T04:08:10.771398",
     "status": "completed"
    },
    "tags": []
   },
   "outputs": [],
   "source": [
    "shape = shape.buffer(0.25)"
   ]
  },
  {
   "cell_type": "code",
   "execution_count": 26,
   "id": "5805c7b3-50fc-485f-97f7-f44c2ea15598",
   "metadata": {
    "papermill": {
     "duration": 0.098657,
     "end_time": "2022-03-14T04:08:11.650600",
     "exception": false,
     "start_time": "2022-03-14T04:08:11.551943",
     "status": "completed"
    },
    "tags": []
   },
   "outputs": [],
   "source": [
    "# if float(shape.to_crs('EPSG:3857').area / 10**6) < 2000: \n",
    "#     shape = shape.buffer(0.25)\n",
    "# else: \n",
    "#     shape = geo.filter_by_area(shape, min_area=500)"
   ]
  },
  {
   "cell_type": "code",
   "execution_count": 27,
   "id": "1a56e619-85fb-4656-9ab2-642684d1918a",
   "metadata": {
    "papermill": {
     "duration": 0.1896,
     "end_time": "2022-03-14T04:08:11.916730",
     "exception": false,
     "start_time": "2022-03-14T04:08:11.727130",
     "status": "completed"
    },
    "tags": []
   },
   "outputs": [
    {
     "data": {
      "text/plain": [
       "<AxesSubplot:>"
      ]
     },
     "execution_count": 27,
     "metadata": {},
     "output_type": "execute_result"
    },
    {
     "data": {
      "image/png": "[encoded data removed]",
      "text/plain": [
       "<Figure size 432x288 with 1 Axes>"
      ]
     },
     "metadata": {
      "needs_background": "light"
     },
     "output_type": "display_data"
    }
   ],
   "source": [
    "shape.plot()"
   ]
  },
  {
   "cell_type": "markdown",
   "id": "662e3651-3a31-4e7e-86ff-cf586a400ccf",
   "metadata": {
    "papermill": {
     "duration": 0.079718,
     "end_time": "2022-03-14T04:08:12.074821",
     "exception": false,
     "start_time": "2022-03-14T04:08:11.995103",
     "status": "completed"
    },
    "tags": []
   },
   "source": [
    "### we use these filtered geometries to mask the GCM hindcast dataset"
   ]
  },
  {
   "cell_type": "markdown",
   "id": "4992c240-d177-4301-8095-867f8d4f3459",
   "metadata": {
    "papermill": {
     "duration": 0.08073,
     "end_time": "2022-03-14T04:08:12.233857",
     "exception": false,
     "start_time": "2022-03-14T04:08:12.153127",
     "status": "completed"
    },
    "tags": []
   },
   "source": [
    "#### Note that the GCM dataset is first interpolated to 5X its original resolution "
   ]
  },
  {
   "cell_type": "markdown",
   "id": "03461574-4e87-402b-9006-3362a708b1fe",
   "metadata": {
    "papermill": {
     "duration": 0.079871,
     "end_time": "2022-03-14T04:08:12.392077",
     "exception": false,
     "start_time": "2022-03-14T04:08:12.312206",
     "status": "completed"
    },
    "tags": []
   },
   "source": [
    "### do we really need the 15km buffer now that we have the 0.25 degree buffer ? "
   ]
  },
  {
   "cell_type": "code",
   "execution_count": 28,
   "id": "d34c7642-21db-4a2b-9dfc-f067bc426194",
   "metadata": {
    "papermill": {
     "duration": 0.836407,
     "end_time": "2022-03-14T04:08:13.305722",
     "exception": true,
     "start_time": "2022-03-14T04:08:12.469315",
     "status": "failed"
    },
    "tags": []
   },
   "outputs": [
    {
     "name": "stderr",
     "output_type": "stream",
     "text": [
      "/home/nicolasf/operational/ICU/development/hotspots/code/ICU_Water_Watch/notebooks/verification/../../ICU_Water_Watch/geo.py:303: ShapelyDeprecationWarning: __len__ for multi-part geometries is deprecated and will be removed in Shapely 2.0. Check the length of the `geoms` property instead to get the  number of parts of a multi-part geometry.\n",
      "  items = list(element)\n",
      "/home/nicolasf/operational/ICU/development/hotspots/code/ICU_Water_Watch/notebooks/verification/../../ICU_Water_Watch/geo.py:303: ShapelyDeprecationWarning: Iteration over multi-part geometries is deprecated and will be removed in Shapely 2.0. Use the `geoms` property to access the constituent parts of a multi-part geometry.\n",
      "  items = list(element)\n"
     ]
    }
   ],
   "source": [
    "dset, domain = geo.mask_dataset(dset, shape, coastline_buffer=15)"
   ]
  },
  {
   "cell_type": "code",
   "execution_count": 29,
   "id": "d51721f8-6ca3-49b0-89a6-c41d080d32b6",
   "metadata": {
    "papermill": {
     "duration": null,
     "end_time": null,
     "exception": null,
     "start_time": null,
     "status": "pending"
    },
    "tags": []
   },
   "outputs": [
    {
     "data": {
      "text/html": [
       "<div><svg style=\"position: absolute; width: 0; height: 0; overflow: hidden\">\n",
       "<defs>\n",
       "<symbol id=\"icon-database\" viewBox=\"0 0 32 32\">\n",
       "<path d=\"M16 0c-8.837 0-16 2.239-16 5v4c0 2.761 7.163 5 16 5s16-2.239 16-5v-4c0-2.761-7.163-5-16-5z\"></path>\n",
       "<path d=\"M16 17c-8.837 0-16-2.239-16-5v6c0 2.761 7.163 5 16 5s16-2.239 16-5v-6c0 2.761-7.163 5-16 5z\"></path>\n",
       "<path d=\"M16 26c-8.837 0-16-2.239-16-5v6c0 2.761 7.163 5 16 5s16-2.239 16-5v-6c0 2.761-7.163 5-16 5z\"></path>\n",
       "</symbol>\n",
       "<symbol id=\"icon-file-text2\" viewBox=\"0 0 32 32\">\n",
       "<path d=\"M28.681 7.159c-0.694-0.947-1.662-2.053-2.724-3.116s-2.169-2.030-3.116-2.724c-1.612-1.182-2.393-1.319-2.841-1.319h-15.5c-1.378 0-2.5 1.121-2.5 2.5v27c0 1.378 1.122 2.5 2.5 2.5h23c1.378 0 2.5-1.122 2.5-2.5v-19.5c0-0.448-0.137-1.23-1.319-2.841zM24.543 5.457c0.959 0.959 1.712 1.825 2.268 2.543h-4.811v-4.811c0.718 0.556 1.584 1.309 2.543 2.268zM28 29.5c0 0.271-0.229 0.5-0.5 0.5h-23c-0.271 0-0.5-0.229-0.5-0.5v-27c0-0.271 0.229-0.5 0.5-0.5 0 0 15.499-0 15.5 0v7c0 0.552 0.448 1 1 1h7v19.5z\"></path>\n",
       "<path d=\"M23 26h-14c-0.552 0-1-0.448-1-1s0.448-1 1-1h14c0.552 0 1 0.448 1 1s-0.448 1-1 1z\"></path>\n",
       "<path d=\"M23 22h-14c-0.552 0-1-0.448-1-1s0.448-1 1-1h14c0.552 0 1 0.448 1 1s-0.448 1-1 1z\"></path>\n",
       "<path d=\"M23 18h-14c-0.552 0-1-0.448-1-1s0.448-1 1-1h14c0.552 0 1 0.448 1 1s-0.448 1-1 1z\"></path>\n",
       "</symbol>\n",
       "</defs>\n",
       "</svg>\n",
       "<style>/* CSS stylesheet for displaying xarray objects in jupyterlab.\n",
       " *\n",
       " */\n",
       "\n",
       ":root {\n",
       "  --xr-font-color0: var(--jp-content-font-color0, rgba(0, 0, 0, 1));\n",
       "  --xr-font-color2: var(--jp-content-font-color2, rgba(0, 0, 0, 0.54));\n",
       "  --xr-font-color3: var(--jp-content-font-color3, rgba(0, 0, 0, 0.38));\n",
       "  --xr-border-color: var(--jp-border-color2, #e0e0e0);\n",
       "  --xr-disabled-color: var(--jp-layout-color3, #bdbdbd);\n",
       "  --xr-background-color: var(--jp-layout-color0, white);\n",
       "  --xr-background-color-row-even: var(--jp-layout-color1, white);\n",
       "  --xr-background-color-row-odd: var(--jp-layout-color2, #eeeeee);\n",
       "}\n",
       "\n",
       "html[theme=dark],\n",
       "body.vscode-dark {\n",
       "  --xr-font-color0: rgba(255, 255, 255, 1);\n",
       "  --xr-font-color2: rgba(255, 255, 255, 0.54);\n",
       "  --xr-font-color3: rgba(255, 255, 255, 0.38);\n",
       "  --xr-border-color: #1F1F1F;\n",
       "  --xr-disabled-color: #515151;\n",
       "  --xr-background-color: #111111;\n",
       "  --xr-background-color-row-even: #111111;\n",
       "  --xr-background-color-row-odd: #313131;\n",
       "}\n",
       "\n",
       ".xr-wrap {\n",
       "  display: block !important;\n",
       "  min-width: 300px;\n",
       "  max-width: 700px;\n",
       "}\n",
       "\n",
       ".xr-text-repr-fallback {\n",
       "  /* fallback to plain text repr when CSS is not injected (untrusted notebook) */\n",
       "  display: none;\n",
       "}\n",
       "\n",
       ".xr-header {\n",
       "  padding-top: 6px;\n",
       "  padding-bottom: 6px;\n",
       "  margin-bottom: 4px;\n",
       "  border-bottom: solid 1px var(--xr-border-color);\n",
       "}\n",
       "\n",
       ".xr-header > div,\n",
       ".xr-header > ul {\n",
       "  display: inline;\n",
       "  margin-top: 0;\n",
       "  margin-bottom: 0;\n",
       "}\n",
       "\n",
       ".xr-obj-type,\n",
       ".xr-array-name {\n",
       "  margin-left: 2px;\n",
       "  margin-right: 10px;\n",
       "}\n",
       "\n",
       ".xr-obj-type {\n",
       "  color: var(--xr-font-color2);\n",
       "}\n",
       "\n",
       ".xr-sections {\n",
       "  padding-left: 0 !important;\n",
       "  display: grid;\n",
       "  grid-template-columns: 150px auto auto 1fr 20px 20px;\n",
       "}\n",
       "\n",
       ".xr-section-item {\n",
       "  display: contents;\n",
       "}\n",
       "\n",
       ".xr-section-item input {\n",
       "  display: none;\n",
       "}\n",
       "\n",
       ".xr-section-item input + label {\n",
       "  color: var(--xr-disabled-color);\n",
       "}\n",
       "\n",
       ".xr-section-item input:enabled + label {\n",
       "  cursor: pointer;\n",
       "  color: var(--xr-font-color2);\n",
       "}\n",
       "\n",
       ".xr-section-item input:enabled + label:hover {\n",
       "  color: var(--xr-font-color0);\n",
       "}\n",
       "\n",
       ".xr-section-summary {\n",
       "  grid-column: 1;\n",
       "  color: var(--xr-font-color2);\n",
       "  font-weight: 500;\n",
       "}\n",
       "\n",
       ".xr-section-summary > span {\n",
       "  display: inline-block;\n",
       "  padding-left: 0.5em;\n",
       "}\n",
       "\n",
       ".xr-section-summary-in:disabled + label {\n",
       "  color: var(--xr-font-color2);\n",
       "}\n",
       "\n",
       ".xr-section-summary-in + label:before {\n",
       "  display: inline-block;\n",
       "  content: '►';\n",
       "  font-size: 11px;\n",
       "  width: 15px;\n",
       "  text-align: center;\n",
       "}\n",
       "\n",
       ".xr-section-summary-in:disabled + label:before {\n",
       "  color: var(--xr-disabled-color);\n",
       "}\n",
       "\n",
       ".xr-section-summary-in:checked + label:before {\n",
       "  content: '▼';\n",
       "}\n",
       "\n",
       ".xr-section-summary-in:checked + label > span {\n",
       "  display: none;\n",
       "}\n",
       "\n",
       ".xr-section-summary,\n",
       ".xr-section-inline-details {\n",
       "  padding-top: 4px;\n",
       "  padding-bottom: 4px;\n",
       "}\n",
       "\n",
       ".xr-section-inline-details {\n",
       "  grid-column: 2 / -1;\n",
       "}\n",
       "\n",
       ".xr-section-details {\n",
       "  display: none;\n",
       "  grid-column: 1 / -1;\n",
       "  margin-bottom: 5px;\n",
       "}\n",
       "\n",
       ".xr-section-summary-in:checked ~ .xr-section-details {\n",
       "  display: contents;\n",
       "}\n",
       "\n",
       ".xr-array-wrap {\n",
       "  grid-column: 1 / -1;\n",
       "  display: grid;\n",
       "  grid-template-columns: 20px auto;\n",
       "}\n",
       "\n",
       ".xr-array-wrap > label {\n",
       "  grid-column: 1;\n",
       "  vertical-align: top;\n",
       "}\n",
       "\n",
       ".xr-preview {\n",
       "  color: var(--xr-font-color3);\n",
       "}\n",
       "\n",
       ".xr-array-preview,\n",
       ".xr-array-data {\n",
       "  padding: 0 5px !important;\n",
       "  grid-column: 2;\n",
       "}\n",
       "\n",
       ".xr-array-data,\n",
       ".xr-array-in:checked ~ .xr-array-preview {\n",
       "  display: none;\n",
       "}\n",
       "\n",
       ".xr-array-in:checked ~ .xr-array-data,\n",
       ".xr-array-preview {\n",
       "  display: inline-block;\n",
       "}\n",
       "\n",
       ".xr-dim-list {\n",
       "  display: inline-block !important;\n",
       "  list-style: none;\n",
       "  padding: 0 !important;\n",
       "  margin: 0;\n",
       "}\n",
       "\n",
       ".xr-dim-list li {\n",
       "  display: inline-block;\n",
       "  padding: 0;\n",
       "  margin: 0;\n",
       "}\n",
       "\n",
       ".xr-dim-list:before {\n",
       "  content: '(';\n",
       "}\n",
       "\n",
       ".xr-dim-list:after {\n",
       "  content: ')';\n",
       "}\n",
       "\n",
       ".xr-dim-list li:not(:last-child):after {\n",
       "  content: ',';\n",
       "  padding-right: 5px;\n",
       "}\n",
       "\n",
       ".xr-has-index {\n",
       "  font-weight: bold;\n",
       "}\n",
       "\n",
       ".xr-var-list,\n",
       ".xr-var-item {\n",
       "  display: contents;\n",
       "}\n",
       "\n",
       ".xr-var-item > div,\n",
       ".xr-var-item label,\n",
       ".xr-var-item > .xr-var-name span {\n",
       "  background-color: var(--xr-background-color-row-even);\n",
       "  margin-bottom: 0;\n",
       "}\n",
       "\n",
       ".xr-var-item > .xr-var-name:hover span {\n",
       "  padding-right: 5px;\n",
       "}\n",
       "\n",
       ".xr-var-list > li:nth-child(odd) > div,\n",
       ".xr-var-list > li:nth-child(odd) > label,\n",
       ".xr-var-list > li:nth-child(odd) > .xr-var-name span {\n",
       "  background-color: var(--xr-background-color-row-odd);\n",
       "}\n",
       "\n",
       ".xr-var-name {\n",
       "  grid-column: 1;\n",
       "}\n",
       "\n",
       ".xr-var-dims {\n",
       "  grid-column: 2;\n",
       "}\n",
       "\n",
       ".xr-var-dtype {\n",
       "  grid-column: 3;\n",
       "  text-align: right;\n",
       "  color: var(--xr-font-color2);\n",
       "}\n",
       "\n",
       ".xr-var-preview {\n",
       "  grid-column: 4;\n",
       "}\n",
       "\n",
       ".xr-var-name,\n",
       ".xr-var-dims,\n",
       ".xr-var-dtype,\n",
       ".xr-preview,\n",
       ".xr-attrs dt {\n",
       "  white-space: nowrap;\n",
       "  overflow: hidden;\n",
       "  text-overflow: ellipsis;\n",
       "  padding-right: 10px;\n",
       "}\n",
       "\n",
       ".xr-var-name:hover,\n",
       ".xr-var-dims:hover,\n",
       ".xr-var-dtype:hover,\n",
       ".xr-attrs dt:hover {\n",
       "  overflow: visible;\n",
       "  width: auto;\n",
       "  z-index: 1;\n",
       "}\n",
       "\n",
       ".xr-var-attrs,\n",
       ".xr-var-data {\n",
       "  display: none;\n",
       "  background-color: var(--xr-background-color) !important;\n",
       "  padding-bottom: 5px !important;\n",
       "}\n",
       "\n",
       ".xr-var-attrs-in:checked ~ .xr-var-attrs,\n",
       ".xr-var-data-in:checked ~ .xr-var-data {\n",
       "  display: block;\n",
       "}\n",
       "\n",
       ".xr-var-data > table {\n",
       "  float: right;\n",
       "}\n",
       "\n",
       ".xr-var-name span,\n",
       ".xr-var-data,\n",
       ".xr-attrs {\n",
       "  padding-left: 25px !important;\n",
       "}\n",
       "\n",
       ".xr-attrs,\n",
       ".xr-var-attrs,\n",
       ".xr-var-data {\n",
       "  grid-column: 1 / -1;\n",
       "}\n",
       "\n",
       "dl.xr-attrs {\n",
       "  padding: 0;\n",
       "  margin: 0;\n",
       "  display: grid;\n",
       "  grid-template-columns: 125px auto;\n",
       "}\n",
       "\n",
       ".xr-attrs dt,\n",
       ".xr-attrs dd {\n",
       "  padding: 0;\n",
       "  margin: 0;\n",
       "  float: left;\n",
       "  padding-right: 10px;\n",
       "  width: auto;\n",
       "}\n",
       "\n",
       ".xr-attrs dt {\n",
       "  font-weight: normal;\n",
       "  grid-column: 1;\n",
       "}\n",
       "\n",
       ".xr-attrs dt:hover span {\n",
       "  display: inline-block;\n",
       "  background: var(--xr-background-color);\n",
       "  padding-right: 10px;\n",
       "}\n",
       "\n",
       ".xr-attrs dd {\n",
       "  grid-column: 2;\n",
       "  white-space: pre-wrap;\n",
       "  word-break: break-all;\n",
       "}\n",
       "\n",
       ".xr-icon-database,\n",
       ".xr-icon-file-text2 {\n",
       "  display: inline-block;\n",
       "  vertical-align: middle;\n",
       "  width: 1em;\n",
       "  height: 1.5em !important;\n",
       "  stroke-width: 0;\n",
       "  stroke: currentColor;\n",
       "  fill: currentColor;\n",
       "}\n",
       "</style><pre class='xr-text-repr-fallback'>&lt;xarray.Dataset&gt;\n",
       "Dimensions:  (time: 1, member: 25, step: 5, lat: 45, lon: 95)\n",
       "Coordinates:\n",
       "  * time     (time) datetime64[ns] 1993-01-01\n",
       "  * member   (member) int32 0 1 2 3 4 5 6 7 8 9 ... 16 17 18 19 20 21 22 23 24\n",
       "  * step     (step) int64 1 2 3 4 5\n",
       "  * lon      (lon) float64 142.0 142.2 142.4 142.6 ... 159.4 159.6 159.8 160.0\n",
       "  * lat      (lat) float64 -8.0 -7.818 -7.636 -7.455 ... -0.3636 -0.1818 0.0\n",
       "Data variables:\n",
       "    precip   (time, step, member, lat, lon) float64 nan nan nan ... nan nan nan\n",
       "    mask     (lat, lon) float64 nan nan nan nan nan nan ... nan nan nan nan nan\n",
       "Attributes:\n",
       "    Conventions:  CF-1.6\n",
       "    history:      2022-01-17 01:17:57 GMT by grib_to_netcdf-2.23.0: /opt/ecmw...</pre><div class='xr-wrap' style='display:none'><div class='xr-header'><div class='xr-obj-type'>xarray.Dataset</div></div><ul class='xr-sections'><li class='xr-section-item'><input id='section-2cde20c9-51fe-4dbe-a46f-004d9a8bdd5f' class='xr-section-summary-in' type='checkbox' disabled ><label for='section-2cde20c9-51fe-4dbe-a46f-004d9a8bdd5f' class='xr-section-summary'  title='Expand/collapse section'>Dimensions:</label><div class='xr-section-inline-details'><ul class='xr-dim-list'><li><span class='xr-has-index'>time</span>: 1</li><li><span class='xr-has-index'>member</span>: 25</li><li><span class='xr-has-index'>step</span>: 5</li><li><span class='xr-has-index'>lat</span>: 45</li><li><span class='xr-has-index'>lon</span>: 95</li></ul></div><div class='xr-section-details'></div></li><li class='xr-section-item'><input id='section-22babc0a-2866-4f96-b153-479a24baf337' class='xr-section-summary-in' type='checkbox'  checked><label for='section-22babc0a-2866-4f96-b153-479a24baf337' class='xr-section-summary' >Coordinates: <span>(5)</span></label><div class='xr-section-inline-details'></div><div class='xr-section-details'><ul class='xr-var-list'><li class='xr-var-item'><div class='xr-var-name'><span class='xr-has-index'>time</span></div><div class='xr-var-dims'>(time)</div><div class='xr-var-dtype'>datetime64[ns]</div><div class='xr-var-preview xr-preview'>1993-01-01</div><input id='attrs-80816f0c-37bf-4e29-8e27-2ac87f74c6a2' class='xr-var-attrs-in' type='checkbox' disabled><label for='attrs-80816f0c-37bf-4e29-8e27-2ac87f74c6a2' title='Show/Hide attributes'><svg class='icon xr-icon-file-text2'><use xlink:href='#icon-file-text2'></use></svg></label><input id='data-2f1f500f-101d-4316-bd40-cd2b43646d12' class='xr-var-data-in' type='checkbox'><label for='data-2f1f500f-101d-4316-bd40-cd2b43646d12' title='Show/Hide data repr'><svg class='icon xr-icon-database'><use xlink:href='#icon-database'></use></svg></label><div class='xr-var-attrs'><dl class='xr-attrs'></dl></div><div class='xr-var-data'><pre>array([&#x27;1993-01-01T00:00:00.000000000&#x27;], dtype=&#x27;datetime64[ns]&#x27;)</pre></div></li><li class='xr-var-item'><div class='xr-var-name'><span class='xr-has-index'>member</span></div><div class='xr-var-dims'>(member)</div><div class='xr-var-dtype'>int32</div><div class='xr-var-preview xr-preview'>0 1 2 3 4 5 6 ... 19 20 21 22 23 24</div><input id='attrs-a893dc1c-08c8-4da2-9035-0c9ceb47c901' class='xr-var-attrs-in' type='checkbox' ><label for='attrs-a893dc1c-08c8-4da2-9035-0c9ceb47c901' title='Show/Hide attributes'><svg class='icon xr-icon-file-text2'><use xlink:href='#icon-file-text2'></use></svg></label><input id='data-1a3dcfc4-93ca-47b7-87e4-afa3b7f58978' class='xr-var-data-in' type='checkbox'><label for='data-1a3dcfc4-93ca-47b7-87e4-afa3b7f58978' title='Show/Hide data repr'><svg class='icon xr-icon-database'><use xlink:href='#icon-database'></use></svg></label><div class='xr-var-attrs'><dl class='xr-attrs'><dt><span>long_name :</span></dt><dd>ensemble_member</dd></dl></div><div class='xr-var-data'><pre>array([ 0,  1,  2,  3,  4,  5,  6,  7,  8,  9, 10, 11, 12, 13, 14, 15, 16, 17,\n",
       "       18, 19, 20, 21, 22, 23, 24], dtype=int32)</pre></div></li><li class='xr-var-item'><div class='xr-var-name'><span class='xr-has-index'>step</span></div><div class='xr-var-dims'>(step)</div><div class='xr-var-dtype'>int64</div><div class='xr-var-preview xr-preview'>1 2 3 4 5</div><input id='attrs-eb149b43-96cb-4877-895a-659bf2083804' class='xr-var-attrs-in' type='checkbox' disabled><label for='attrs-eb149b43-96cb-4877-895a-659bf2083804' title='Show/Hide attributes'><svg class='icon xr-icon-file-text2'><use xlink:href='#icon-file-text2'></use></svg></label><input id='data-a734208f-eec1-4c47-b30b-61596d92ec9e' class='xr-var-data-in' type='checkbox'><label for='data-a734208f-eec1-4c47-b30b-61596d92ec9e' title='Show/Hide data repr'><svg class='icon xr-icon-database'><use xlink:href='#icon-database'></use></svg></label><div class='xr-var-attrs'><dl class='xr-attrs'></dl></div><div class='xr-var-data'><pre>array([1, 2, 3, 4, 5])</pre></div></li><li class='xr-var-item'><div class='xr-var-name'><span class='xr-has-index'>lon</span></div><div class='xr-var-dims'>(lon)</div><div class='xr-var-dtype'>float64</div><div class='xr-var-preview xr-preview'>142.0 142.2 142.4 ... 159.8 160.0</div><input id='attrs-022df8bc-4cc9-48e3-a4cd-f0897f69f7d4' class='xr-var-attrs-in' type='checkbox' disabled><label for='attrs-022df8bc-4cc9-48e3-a4cd-f0897f69f7d4' title='Show/Hide attributes'><svg class='icon xr-icon-file-text2'><use xlink:href='#icon-file-text2'></use></svg></label><input id='data-fbcf56ad-82f2-429a-8491-a0bda4e0c664' class='xr-var-data-in' type='checkbox'><label for='data-fbcf56ad-82f2-429a-8491-a0bda4e0c664' title='Show/Hide data repr'><svg class='icon xr-icon-database'><use xlink:href='#icon-database'></use></svg></label><div class='xr-var-attrs'><dl class='xr-attrs'></dl></div><div class='xr-var-data'><pre>array([142.      , 142.191489, 142.382979, 142.574468, 142.765957, 142.957447,\n",
       "       143.148936, 143.340426, 143.531915, 143.723404, 143.914894, 144.106383,\n",
       "       144.297872, 144.489362, 144.680851, 144.87234 , 145.06383 , 145.255319,\n",
       "       145.446809, 145.638298, 145.829787, 146.021277, 146.212766, 146.404255,\n",
       "       146.595745, 146.787234, 146.978723, 147.170213, 147.361702, 147.553191,\n",
       "       147.744681, 147.93617 , 148.12766 , 148.319149, 148.510638, 148.702128,\n",
       "       148.893617, 149.085106, 149.276596, 149.468085, 149.659574, 149.851064,\n",
       "       150.042553, 150.234043, 150.425532, 150.617021, 150.808511, 151.      ,\n",
       "       151.191489, 151.382979, 151.574468, 151.765957, 151.957447, 152.148936,\n",
       "       152.340426, 152.531915, 152.723404, 152.914894, 153.106383, 153.297872,\n",
       "       153.489362, 153.680851, 153.87234 , 154.06383 , 154.255319, 154.446809,\n",
       "       154.638298, 154.829787, 155.021277, 155.212766, 155.404255, 155.595745,\n",
       "       155.787234, 155.978723, 156.170213, 156.361702, 156.553191, 156.744681,\n",
       "       156.93617 , 157.12766 , 157.319149, 157.510638, 157.702128, 157.893617,\n",
       "       158.085106, 158.276596, 158.468085, 158.659574, 158.851064, 159.042553,\n",
       "       159.234043, 159.425532, 159.617021, 159.808511, 160.      ])</pre></div></li><li class='xr-var-item'><div class='xr-var-name'><span class='xr-has-index'>lat</span></div><div class='xr-var-dims'>(lat)</div><div class='xr-var-dtype'>float64</div><div class='xr-var-preview xr-preview'>-8.0 -7.818 -7.636 ... -0.1818 0.0</div><input id='attrs-d3628a2c-6bfa-4cda-a6f6-5450ddb7552c' class='xr-var-attrs-in' type='checkbox' disabled><label for='attrs-d3628a2c-6bfa-4cda-a6f6-5450ddb7552c' title='Show/Hide attributes'><svg class='icon xr-icon-file-text2'><use xlink:href='#icon-file-text2'></use></svg></label><input id='data-5c915445-f9cd-40f1-a802-30a4c25072d3' class='xr-var-data-in' type='checkbox'><label for='data-5c915445-f9cd-40f1-a802-30a4c25072d3' title='Show/Hide data repr'><svg class='icon xr-icon-database'><use xlink:href='#icon-database'></use></svg></label><div class='xr-var-attrs'><dl class='xr-attrs'></dl></div><div class='xr-var-data'><pre>array([-8.      , -7.818182, -7.636364, -7.454545, -7.272727, -7.090909,\n",
       "       -6.909091, -6.727273, -6.545455, -6.363636, -6.181818, -6.      ,\n",
       "       -5.818182, -5.636364, -5.454545, -5.272727, -5.090909, -4.909091,\n",
       "       -4.727273, -4.545455, -4.363636, -4.181818, -4.      , -3.818182,\n",
       "       -3.636364, -3.454545, -3.272727, -3.090909, -2.909091, -2.727273,\n",
       "       -2.545455, -2.363636, -2.181818, -2.      , -1.818182, -1.636364,\n",
       "       -1.454545, -1.272727, -1.090909, -0.909091, -0.727273, -0.545455,\n",
       "       -0.363636, -0.181818,  0.      ])</pre></div></li></ul></div></li><li class='xr-section-item'><input id='section-4c682fe9-047e-40ad-bce0-ff9dfafbe34e' class='xr-section-summary-in' type='checkbox'  checked><label for='section-4c682fe9-047e-40ad-bce0-ff9dfafbe34e' class='xr-section-summary' >Data variables: <span>(2)</span></label><div class='xr-section-inline-details'></div><div class='xr-section-details'><ul class='xr-var-list'><li class='xr-var-item'><div class='xr-var-name'><span>precip</span></div><div class='xr-var-dims'>(time, step, member, lat, lon)</div><div class='xr-var-dtype'>float64</div><div class='xr-var-preview xr-preview'>nan nan nan nan ... nan nan nan nan</div><input id='attrs-1c196c23-dc4a-49bd-884e-c2b9c7d5d53f' class='xr-var-attrs-in' type='checkbox' disabled><label for='attrs-1c196c23-dc4a-49bd-884e-c2b9c7d5d53f' title='Show/Hide attributes'><svg class='icon xr-icon-file-text2'><use xlink:href='#icon-file-text2'></use></svg></label><input id='data-c0848f04-0f85-4b4b-9972-abff46960395' class='xr-var-data-in' type='checkbox'><label for='data-c0848f04-0f85-4b4b-9972-abff46960395' title='Show/Hide data repr'><svg class='icon xr-icon-database'><use xlink:href='#icon-database'></use></svg></label><div class='xr-var-attrs'><dl class='xr-attrs'></dl></div><div class='xr-var-data'><pre>array([[[[[nan, nan, nan, ..., nan, nan, nan],\n",
       "          [nan, nan, nan, ..., nan, nan, nan],\n",
       "          [nan, nan, nan, ..., nan, nan, nan],\n",
       "          ...,\n",
       "          [nan, nan, nan, ..., nan, nan, nan],\n",
       "          [nan, nan, nan, ..., nan, nan, nan],\n",
       "          [nan, nan, nan, ..., nan, nan, nan]],\n",
       "\n",
       "         [[nan, nan, nan, ..., nan, nan, nan],\n",
       "          [nan, nan, nan, ..., nan, nan, nan],\n",
       "          [nan, nan, nan, ..., nan, nan, nan],\n",
       "          ...,\n",
       "          [nan, nan, nan, ..., nan, nan, nan],\n",
       "          [nan, nan, nan, ..., nan, nan, nan],\n",
       "          [nan, nan, nan, ..., nan, nan, nan]],\n",
       "\n",
       "         [[nan, nan, nan, ..., nan, nan, nan],\n",
       "          [nan, nan, nan, ..., nan, nan, nan],\n",
       "          [nan, nan, nan, ..., nan, nan, nan],\n",
       "          ...,\n",
       "...\n",
       "          ...,\n",
       "          [nan, nan, nan, ..., nan, nan, nan],\n",
       "          [nan, nan, nan, ..., nan, nan, nan],\n",
       "          [nan, nan, nan, ..., nan, nan, nan]],\n",
       "\n",
       "         [[nan, nan, nan, ..., nan, nan, nan],\n",
       "          [nan, nan, nan, ..., nan, nan, nan],\n",
       "          [nan, nan, nan, ..., nan, nan, nan],\n",
       "          ...,\n",
       "          [nan, nan, nan, ..., nan, nan, nan],\n",
       "          [nan, nan, nan, ..., nan, nan, nan],\n",
       "          [nan, nan, nan, ..., nan, nan, nan]],\n",
       "\n",
       "         [[nan, nan, nan, ..., nan, nan, nan],\n",
       "          [nan, nan, nan, ..., nan, nan, nan],\n",
       "          [nan, nan, nan, ..., nan, nan, nan],\n",
       "          ...,\n",
       "          [nan, nan, nan, ..., nan, nan, nan],\n",
       "          [nan, nan, nan, ..., nan, nan, nan],\n",
       "          [nan, nan, nan, ..., nan, nan, nan]]]]])</pre></div></li><li class='xr-var-item'><div class='xr-var-name'><span>mask</span></div><div class='xr-var-dims'>(lat, lon)</div><div class='xr-var-dtype'>float64</div><div class='xr-var-preview xr-preview'>nan nan nan nan ... nan nan nan nan</div><input id='attrs-ef67c1de-9dcf-4585-a1d5-8c2833e570f1' class='xr-var-attrs-in' type='checkbox' ><label for='attrs-ef67c1de-9dcf-4585-a1d5-8c2833e570f1' title='Show/Hide attributes'><svg class='icon xr-icon-file-text2'><use xlink:href='#icon-file-text2'></use></svg></label><input id='data-fac7c43c-4905-47f4-a1a9-17626fdc9b9b' class='xr-var-data-in' type='checkbox'><label for='data-fac7c43c-4905-47f4-a1a9-17626fdc9b9b' title='Show/Hide data repr'><svg class='icon xr-icon-database'><use xlink:href='#icon-database'></use></svg></label><div class='xr-var-attrs'><dl class='xr-attrs'><dt><span>cells :</span></dt><dd>893</dd></dl></div><div class='xr-var-data'><pre>array([[nan, nan, nan, ..., nan, nan, nan],\n",
       "       [nan, nan, nan, ..., nan, nan, nan],\n",
       "       [nan, nan, nan, ..., nan, nan, nan],\n",
       "       ...,\n",
       "       [nan, nan, nan, ..., nan, nan, nan],\n",
       "       [nan, nan, nan, ..., nan, nan, nan],\n",
       "       [nan, nan, nan, ..., nan, nan, nan]])</pre></div></li></ul></div></li><li class='xr-section-item'><input id='section-f1bc9c85-6eb6-4013-931c-d47ff879dd67' class='xr-section-summary-in' type='checkbox'  checked><label for='section-f1bc9c85-6eb6-4013-931c-d47ff879dd67' class='xr-section-summary' >Attributes: <span>(2)</span></label><div class='xr-section-inline-details'></div><div class='xr-section-details'><dl class='xr-attrs'><dt><span>Conventions :</span></dt><dd>CF-1.6</dd><dt><span>history :</span></dt><dd>2022-01-17 01:17:57 GMT by grib_to_netcdf-2.23.0: /opt/ecmwf/mars-client/bin/grib_to_netcdf -S param -o /cache/data1/adaptor.mars.external-1642382276.9466605-27775-14-30783a04-fae7-4a73-a44d-11b9f52331a2.nc /cache/tmp/30783a04-fae7-4a73-a44d-11b9f52331a2-adaptor.mars.external-1642382272.8222916-27775-21-tmp.grib</dd></dl></div></li></ul></div></div>"
      ],
      "text/plain": [
       "<xarray.Dataset>\n",
       "Dimensions:  (time: 1, member: 25, step: 5, lat: 45, lon: 95)\n",
       "Coordinates:\n",
       "  * time     (time) datetime64[ns] 1993-01-01\n",
       "  * member   (member) int32 0 1 2 3 4 5 6 7 8 9 ... 16 17 18 19 20 21 22 23 24\n",
       "  * step     (step) int64 1 2 3 4 5\n",
       "  * lon      (lon) float64 142.0 142.2 142.4 142.6 ... 159.4 159.6 159.8 160.0\n",
       "  * lat      (lat) float64 -8.0 -7.818 -7.636 -7.455 ... -0.3636 -0.1818 0.0\n",
       "Data variables:\n",
       "    precip   (time, step, member, lat, lon) float64 nan nan nan ... nan nan nan\n",
       "    mask     (lat, lon) float64 nan nan nan nan nan nan ... nan nan nan nan nan\n",
       "Attributes:\n",
       "    Conventions:  CF-1.6\n",
       "    history:      2022-01-17 01:17:57 GMT by grib_to_netcdf-2.23.0: /opt/ecmw..."
      ]
     },
     "execution_count": 29,
     "metadata": {},
     "output_type": "execute_result"
    }
   ],
   "source": [
    "dset"
   ]
  },
  {
   "cell_type": "markdown",
   "id": "0c4de924-6cb6-4576-8a07-18f9fd22fdec",
   "metadata": {
    "papermill": {
     "duration": null,
     "end_time": null,
     "exception": null,
     "start_time": null,
     "status": "pending"
    },
    "tags": []
   },
   "source": [
    "### number of grid points "
   ]
  },
  {
   "cell_type": "code",
   "execution_count": 30,
   "id": "47fa135a-c801-4d74-8558-42d27466420a",
   "metadata": {
    "papermill": {
     "duration": null,
     "end_time": null,
     "exception": null,
     "start_time": null,
     "status": "pending"
    },
    "tags": []
   },
   "outputs": [
    {
     "data": {
      "text/plain": [
       "893"
      ]
     },
     "execution_count": 30,
     "metadata": {},
     "output_type": "execute_result"
    }
   ],
   "source": [
    "dset['mask'].attrs['cells']"
   ]
  },
  {
   "cell_type": "markdown",
   "id": "8ec1ee37-ea51-4f49-9d78-36e7bfc6d4f8",
   "metadata": {
    "papermill": {
     "duration": null,
     "end_time": null,
     "exception": null,
     "start_time": null,
     "status": "pending"
    },
    "tags": []
   },
   "source": [
    "### plots the precipitation field for one time step, leadtime and member "
   ]
  },
  {
   "cell_type": "code",
   "execution_count": 31,
   "id": "9af2ef43-6926-402e-a402-7ff555c963ca",
   "metadata": {
    "papermill": {
     "duration": null,
     "end_time": null,
     "exception": null,
     "start_time": null,
     "status": "pending"
    },
    "tags": []
   },
   "outputs": [
    {
     "data": {
      "text/plain": [
       "<matplotlib.collections.QuadMesh at 0x7fc44cbf40d0>"
      ]
     },
     "execution_count": 31,
     "metadata": {},
     "output_type": "execute_result"
    },
    {
     "data": {
      "image/png": "[encoded data removed]",
      "text/plain": [
       "<Figure size 432x288 with 2 Axes>"
      ]
     },
     "metadata": {
      "needs_background": "light"
     },
     "output_type": "display_data"
    }
   ],
   "source": [
    "dset.isel(time=0, step=0, member=0)['precip'].plot()"
   ]
  },
  {
   "cell_type": "code",
   "execution_count": 32,
   "id": "0ae15e52-7b31-4682-8378-2dbe87c6c3d8",
   "metadata": {},
   "outputs": [],
   "source": [
    "mat = dset.isel(time=0, step=0, member=0)['precip']"
   ]
  },
  {
   "cell_type": "code",
   "execution_count": 33,
   "id": "50de2744-2e29-46e1-964b-d8510e6d2306",
   "metadata": {},
   "outputs": [],
   "source": [
    "mask = mat.where(np.isnan(mat), other=1)"
   ]
  },
  {
   "cell_type": "code",
   "execution_count": 34,
   "id": "3631a57b-eaf4-4ebb-897d-71222f12e2e3",
   "metadata": {},
   "outputs": [
    {
     "data": {
      "text/plain": [
       "<matplotlib.collections.QuadMesh at 0x7fc43ddbbfa0>"
      ]
     },
     "execution_count": 34,
     "metadata": {},
     "output_type": "execute_result"
    },
    {
     "data": {
      "image/png": "[encoded data removed]",
      "text/plain": [
       "<Figure size 432x288 with 2 Axes>"
      ]
     },
     "metadata": {
      "needs_background": "light"
     },
     "output_type": "display_data"
    }
   ],
   "source": [
    "mask.plot()"
   ]
  },
  {
   "cell_type": "markdown",
   "id": "fe1c3af4-5341-4f33-9812-d0c3ec5b59bb",
   "metadata": {},
   "source": [
    "### read the enclosing administrative area "
   ]
  },
  {
   "cell_type": "code",
   "execution_count": 35,
   "id": "a625e128-9502-4d7c-8df5-ca0f060e7867",
   "metadata": {},
   "outputs": [],
   "source": [
    "dpath_admin = pathlib.Path(HOME.joinpath('operational/ICU/development/hotspots/data/shapefiles/Admin_boundaries')) "
   ]
  },
  {
   "cell_type": "code",
   "execution_count": 36,
   "id": "3d053cf1-262f-4355-a4de-e9b3f70a9013",
   "metadata": {},
   "outputs": [],
   "source": [
    "admin_areas = gpd.read_file(dpath_admin.joinpath(\"ICU_Sub_bound.shp\"))"
   ]
  },
  {
   "cell_type": "code",
   "execution_count": 37,
   "id": "bf9f3e82-3aaa-4e03-8adf-b7dfb7aaf30a",
   "metadata": {},
   "outputs": [],
   "source": [
    "admin_areas = admin_areas.replace({'Country':{'Paua New Guinea':'Papua New Guinea'}})"
   ]
  },
  {
   "cell_type": "code",
   "execution_count": 38,
   "id": "0b3ef194-e6a1-45fc-bcec-033303dd6bba",
   "metadata": {},
   "outputs": [],
   "source": [
    "country_name = 'Papua New Guinea'\n",
    "admin_name = 'Islands Region'"
   ]
  },
  {
   "cell_type": "code",
   "execution_count": 39,
   "id": "8372046b-8805-40bf-8c9a-61cffcd330f6",
   "metadata": {},
   "outputs": [],
   "source": [
    "png_islands = admin_areas.query(f\"Country == '{country_name}'\").query(f\"Admin_boun == '{admin_name}'\")"
   ]
  },
  {
   "cell_type": "code",
   "execution_count": 40,
   "id": "dc8a162f-806d-48bc-b3e1-f0d34150bbe8",
   "metadata": {},
   "outputs": [
    {
     "data": {
      "image/png": "[encoded data removed]",
      "text/plain": [
       "<Figure size 720x576 with 1 Axes>"
      ]
     },
     "metadata": {
      "needs_background": "light"
     },
     "output_type": "display_data"
    }
   ],
   "source": [
    "f, ax = plt.subplots(figsize=(10,8), subplot_kw={'projection':ccrs.PlateCarree(central_longitude=180)})\n",
    "\n",
    "# original_shape.boundary.plot(ax=ax, transform=ccrs.PlateCarree())\n",
    "\n",
    "# png_islands.boundary.plot(ax=ax, transform=ccrs.PlateCarree())\n",
    "\n",
    "shape.boundary.plot(ax=ax, color='r', lw=1, transform=ccrs.PlateCarree())\n",
    "\n",
    "original_shape.boundary.plot(ax=ax, color='k', lw=0.7, alpha=1, transform=ccrs.PlateCarree())\n",
    "\n",
    "mask.plot(ax=ax, add_colorbar=False, transform=ccrs.PlateCarree(), alpha=0.4, cmap=plt.cm.gray)\n",
    "\n",
    "ax.set_title(f\"{country_name}, {admin_name}, mask definition\", fontsize=14)\n",
    "\n",
    "gl = ax.gridlines(draw_labels=True, linestyle=':')\n",
    "\n",
    "gl.top_labels = False\n",
    "\n",
    "gl.right_labels = False\n"
   ]
  },
  {
   "cell_type": "code",
   "execution_count": 41,
   "id": "f5982a3b-8f93-4cb9-a766-f2b5a53f1a8d",
   "metadata": {},
   "outputs": [],
   "source": [
    "f.savefig('./figures_paper/example_GCM_mask_definition.png', dpi=200, bbox_inches='tight', facecolor='w')\n",
    "f.savefig('./figures_paper/example_GCM_mask_definition.pdf', bbox_inches='tight', facecolor='w')"
   ]
  },
  {
   "cell_type": "code",
   "execution_count": 42,
   "id": "b8c4b9bd-4f42-4150-afe9-88d92b3c6197",
   "metadata": {},
   "outputs": [
    {
     "name": "stdout",
     "output_type": "stream",
     "text": [
      "/home/nicolasf/operational/ICU/development/hotspots/code/ICU_Water_Watch/notebooks/verification\n"
     ]
    }
   ],
   "source": [
    "!pwd"
   ]
  },
  {
   "cell_type": "code",
   "execution_count": null,
   "id": "5a96af4a-6ebd-46ee-a362-a2fe017e6e86",
   "metadata": {},
   "outputs": [],
   "source": []
  }
 ],
 "metadata": {
  "kernelspec": {
   "display_name": "Python 3 (ipykernel)",
   "language": "python",
   "name": "python3"
  },
  "language_info": {
   "codemirror_mode": {
    "name": "ipython",
    "version": 3
   },
   "file_extension": ".py",
   "mimetype": "text/x-python",
   "name": "python",
   "nbconvert_exporter": "python",
   "pygments_lexer": "ipython3",
   "version": "3.9.10"
  },
  "papermill": {
   "default_parameters": {},
   "duration": 34.664025,
   "end_time": "2022-03-14T04:08:14.101487",
   "environment_variables": {},
   "exception": true,
   "input_path": "/home/nicolasf/operational/ICU/development/hotspots/code/ICU_Water_Watch/notebooks/ICU_forecast_table/GCMs_admin_hindcast_climatologies_and_probabilities.ipynb",
   "output_path": "/home/nicolasf/operational/ICU/development/hotspots/code/ICU_Water_Watch/notebooks/ICU_forecast_table/GCMs_admin_hindcast_climatologies_and_probabilities.ipynb",
   "parameters": {
    "GCM": "ECMWF",
    "admin": "Northern",
    "country": "Fiji",
    "method": "empirical",
    "period": "seasonal",
    "quantile": "quartile"
   },
   "start_time": "2022-03-14T04:07:39.437462",
   "version": "2.3.3"
  }
 },
 "nbformat": 4,
 "nbformat_minor": 5
}
