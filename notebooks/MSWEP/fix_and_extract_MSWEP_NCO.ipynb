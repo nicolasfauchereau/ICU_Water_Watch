{
 "cells": [
  {
   "cell_type": "code",
   "execution_count": 1,
   "id": "653a75f5-1820-44ce-8893-cf781f42d8b5",
   "metadata": {},
   "outputs": [],
   "source": [
    "%load_ext autoreload\n",
    "%autoreload 2"
   ]
  },
  {
   "cell_type": "code",
   "execution_count": 2,
   "id": "0ae51e03-c83b-4ef6-a9f8-d8c01706fe2c",
   "metadata": {},
   "outputs": [],
   "source": [
    "%matplotlib inline\n",
    "import matplotlib.pyplot as plt\n",
    "from cartopy import crs as ccrs"
   ]
  },
  {
   "cell_type": "code",
   "execution_count": 3,
   "id": "865f5da0-c120-4d0c-b0cd-a02d7909d932",
   "metadata": {},
   "outputs": [],
   "source": [
    "import pathlib\n",
    "import shutil\n",
    "import subprocess\n",
    "import sys"
   ]
  },
  {
   "cell_type": "code",
   "execution_count": 4,
   "id": "b6f47ba8-3ade-42e7-9869-deed47978e14",
   "metadata": {},
   "outputs": [],
   "source": [
    "lon_min = 100.0\n",
    "lon_max = 240.0\n",
    "lat_min = -50.0\n",
    "lat_max = 30.0"
   ]
  },
  {
   "cell_type": "code",
   "execution_count": 5,
   "id": "ebcf9783-6f49-42ac-8962-740773b7e028",
   "metadata": {},
   "outputs": [],
   "source": [
    "dpath_MSWEP_past = pathlib.Path(\n",
    "    \"/media/nicolasf/END19101/ICU/data/glo2ho/MSWEP280/Past/Daily/\"\n",
    ")"
   ]
  },
  {
   "cell_type": "code",
   "execution_count": 6,
   "id": "4f2e8a7a-e846-443b-bfa9-5fef8eeee4be",
   "metadata": {},
   "outputs": [],
   "source": [
    "opath = dpath_MSWEP_past.joinpath(\"SP\")"
   ]
  },
  {
   "cell_type": "code",
   "execution_count": 7,
   "id": "ffbab272-f028-4582-9a4e-c46eb0263c5c",
   "metadata": {},
   "outputs": [],
   "source": [
    "opath.mkdir(parents=True, exist_ok=True)"
   ]
  },
  {
   "cell_type": "code",
   "execution_count": 8,
   "id": "6b22c9eb-4e7e-4f44-b335-6041f02f48ef",
   "metadata": {},
   "outputs": [],
   "source": [
    "lfiles = list(dpath_MSWEP_past.glob(\"*.nc\"))"
   ]
  },
  {
   "cell_type": "code",
   "execution_count": 9,
   "id": "e3702566-b719-424a-a0ce-c166beca627e",
   "metadata": {},
   "outputs": [],
   "source": [
    "lfiles.sort()"
   ]
  },
  {
   "cell_type": "code",
   "execution_count": 10,
   "id": "1f713a56-0fd5-43b5-a869-a3638ecf17e8",
   "metadata": {},
   "outputs": [
    {
     "data": {
      "text/plain": [
       "15339"
      ]
     },
     "execution_count": 10,
     "metadata": {},
     "output_type": "execute_result"
    }
   ],
   "source": [
    "len(lfiles)"
   ]
  },
  {
   "cell_type": "code",
   "execution_count": 11,
   "id": "b99e1cf6-7364-483b-9d7f-e5b7390903cd",
   "metadata": {},
   "outputs": [],
   "source": [
    "ncks = \"/home/nicolasf/mambaforge/envs/NCO/bin/ncks\"\n",
    "ncap2 = \"/home/nicolasf/mambaforge/envs/NCO/bin/ncap2\"\n",
    "ncpdq = \"/home/nicolasf/mambaforge/envs/NCO/bin/ncpdq\""
   ]
  },
  {
   "cell_type": "code",
   "execution_count": 12,
   "id": "a248080d-fc08-4428-918f-c52a5a4c5415",
   "metadata": {},
   "outputs": [],
   "source": [
    "for fname in lfiles:\n",
    "\n",
    "    cmd = f\"{ncks} -O --msa -d lon,0.,179.95 -d lon,-179.95,-0.05 {str(fname)} {str(opath.joinpath('tmp.nc'))}\"\n",
    "    r = subprocess.call(cmd, shell=True)\n",
    "    if r != 0:\n",
    "        print(f\"something went wrong with 1st processing step for {fname.name}\")\n",
    "\n",
    "    cmd = f\"{ncap2} -O -s 'where(lon < 0) lon=lon+360' {str(opath.joinpath('tmp.nc'))} {str(opath.joinpath('tmp.nc'))}\"\n",
    "    r = subprocess.call(cmd, shell=True)\n",
    "    if r != 0:\n",
    "        print(f\"something went wrong with 2nd processing step for {fname.name}\")\n",
    "\n",
    "    cmd = f\"{ncpdq} -O -a -lat {str(opath.joinpath('tmp.nc'))} {str(opath.joinpath('tmp.nc'))}\"\n",
    "    r = subprocess.call(cmd, shell=True)\n",
    "    if r != 0:\n",
    "        print(f\"something went wrong with 3rd processing step for {fname.name}\")\n",
    "\n",
    "    cmd = f\"{ncks} -d lat,{lat_min},{lat_max} -d lon,{lon_min},{lon_max} {str(opath.joinpath('tmp.nc'))} {str(opath.joinpath(fname.name))}\"\n",
    "    r = subprocess.call(cmd, shell=True)\n",
    "    if r != 0:\n",
    "        print(f\"something went wrong with 4th processing step for {fname.name}\")"
   ]
  },
  {
   "cell_type": "code",
   "execution_count": null,
   "id": "5a03bf11-1705-44e9-b3c9-ede55df913e3",
   "metadata": {},
   "outputs": [],
   "source": []
  },
  {
   "cell_type": "code",
   "execution_count": null,
   "id": "c6054161-c561-48b8-ae50-90d55a84247a",
   "metadata": {},
   "outputs": [],
   "source": []
  },
  {
   "cell_type": "code",
   "execution_count": null,
   "id": "67817d95-6ab6-4355-946d-7803abb74097",
   "metadata": {},
   "outputs": [],
   "source": []
  },
  {
   "cell_type": "code",
   "execution_count": 13,
   "id": "cd5470b5-f36e-4498-a59d-d720bd5541ce",
   "metadata": {},
   "outputs": [],
   "source": [
    "# fname = lfiles[0]\n",
    "\n",
    "# fname.name\n",
    "\n",
    "# cmd = f\"{ncks} -O --msa -d lon,0.,179.95 -d lon,-179.95,-0.05 {str(fname)} {str(opath.joinpath('tmp.nc'))}\"\n",
    "\n",
    "# cmd\n",
    "\n",
    "# r = subprocess.call(cmd, shell=True)\n",
    "\n",
    "# cmd = f\"{ncap2} -O -s 'where(lon < 0) lon=lon+360' {str(opath.joinpath('tmp.nc'))} {str(opath.joinpath('tmp.nc'))}\"\n",
    "\n",
    "# r = subprocess.call(cmd, shell=True)\n",
    "\n",
    "# r\n",
    "\n",
    "# cmd = f\"{ncpdq} -O -a -lat {str(opath.joinpath('tmp.nc'))} {str(opath.joinpath('tmp.nc'))}\"\n",
    "\n",
    "# r = subprocess.call(cmd, shell=True)\n",
    "\n",
    "# r\n",
    "\n",
    "# cmd = f\"{ncks} -d lat,{lat_min},{lat_max} -d lon,{lon_min},{lon_max} {str(opath.joinpath('tmp.nc'))} {str(opath.joinpath(fname.name))}\"\n",
    "\n",
    "# r = subprocess.call(cmd, shell=True)\n",
    "\n",
    "# r"
   ]
  },
  {
   "cell_type": "markdown",
   "id": "496a6ded-e0ab-4887-a7a0-6f2c3f9aa346",
   "metadata": {},
   "source": [
    "### run this bit of code to check the outputs "
   ]
  },
  {
   "cell_type": "code",
   "execution_count": 14,
   "id": "b8126a22-a8c9-4cb7-a8a7-aa277345ebe9",
   "metadata": {},
   "outputs": [],
   "source": [
    "# import xarray as xr\n",
    "\n",
    "# dset = xr.open_dataset('/media/nicolasf/END19101/ICU/data/glo2ho/MSWEP280/Past/Daily/SP/1979002.nc')\n",
    "\n",
    "# f, ax = plt.subplots(subplot_kw={'projection':ccrs.PlateCarree(central_longitude=180)})\n",
    "# dset.precipitation[0,:,:].plot(ax=ax, transform=ccrs.PlateCarree())\n",
    "# ax.coastlines()\n",
    "\n",
    "# dset_orig = xr.open_dataset('/media/nicolasf/END19101/ICU/data/glo2ho/MSWEP280/Past/Daily/1979002.nc')\n",
    "\n",
    "# f, ax = plt.subplots(subplot_kw={'projection':ccrs.PlateCarree(central_longitude=180)})\n",
    "# dset_orig.precipitation[0,:,:].plot(ax=ax, transform=ccrs.PlateCarree())\n",
    "# ax.coastlines()"
   ]
  },
  {
   "cell_type": "code",
   "execution_count": null,
   "id": "627a45f3-6a3c-4fcb-b699-872e09cf4139",
   "metadata": {},
   "outputs": [],
   "source": []
  },
  {
   "cell_type": "code",
   "execution_count": null,
   "id": "10f6a7fb-e614-4c48-a803-2f956f6d9378",
   "metadata": {},
   "outputs": [],
   "source": []
  }
 ],
 "metadata": {
  "kernelspec": {
   "display_name": "Python 3 (ipykernel)",
   "language": "python",
   "name": "python3"
  },
  "language_info": {
   "codemirror_mode": {
    "name": "ipython",
    "version": 3
   },
   "file_extension": ".py",
   "mimetype": "text/x-python",
   "name": "python",
   "nbconvert_exporter": "python",
   "pygments_lexer": "ipython3",
   "version": "3.9.13"
  }
 },
 "nbformat": 4,
 "nbformat_minor": 5
}
