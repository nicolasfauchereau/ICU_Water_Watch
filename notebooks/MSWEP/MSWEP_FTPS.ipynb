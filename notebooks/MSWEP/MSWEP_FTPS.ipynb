{
 "cells": [
  {
   "cell_type": "code",
   "execution_count": 34,
   "id": "7db2feac-baa5-4932-9806-0230a627d279",
   "metadata": {
    "tags": []
   },
   "outputs": [],
   "source": [
    "import pathlib \n",
    "import ftplib "
   ]
  },
  {
   "cell_type": "code",
   "execution_count": 35,
   "id": "be9ff888-b569-4416-9972-d2eab742e55f",
   "metadata": {
    "tags": []
   },
   "outputs": [],
   "source": [
    "opath = pathlib.Path('/media/nicolasf/END19101/ICU/data/glo2ho/MSWEP280/NRT/Daily/')"
   ]
  },
  {
   "cell_type": "code",
   "execution_count": 36,
   "id": "aa619740-5a60-461a-8ecc-30ce99e40d79",
   "metadata": {
    "tags": []
   },
   "outputs": [],
   "source": [
    "with open('./MSWEP_credentials.txt', 'r') as f: \n",
    "    creds = f.readlines()"
   ]
  },
  {
   "cell_type": "code",
   "execution_count": 37,
   "id": "bed69489-cbb9-421e-b7d2-50fcf50467d5",
   "metadata": {
    "tags": []
   },
   "outputs": [],
   "source": [
    "creds = [c.strip() for c in creds]"
   ]
  },
  {
   "cell_type": "code",
   "execution_count": 38,
   "id": "a6400d59-28c5-451a-af73-445e5ce1cedf",
   "metadata": {
    "tags": []
   },
   "outputs": [],
   "source": [
    "login, password = tuple(creds)"
   ]
  },
  {
   "cell_type": "code",
   "execution_count": 39,
   "id": "49842909-bb56-4c45-91c4-28813f912946",
   "metadata": {
    "tags": []
   },
   "outputs": [],
   "source": [
    "lfiles_local = list(opath.glob(\"*.nc\"))"
   ]
  },
  {
   "cell_type": "code",
   "execution_count": 40,
   "id": "953ce1eb-a912-4034-831b-50f4b9b1efb2",
   "metadata": {
    "tags": []
   },
   "outputs": [],
   "source": [
    "lfiles_local = [f.name for f in lfiles_local]"
   ]
  },
  {
   "cell_type": "code",
   "execution_count": 41,
   "id": "e7778a0d-7a39-431a-90e9-767776e3870c",
   "metadata": {
    "tags": []
   },
   "outputs": [],
   "source": [
    "lfiles_local.sort()"
   ]
  },
  {
   "cell_type": "code",
   "execution_count": 42,
   "id": "39ce4df8-d028-4dd5-9efa-40897b940fc6",
   "metadata": {
    "tags": []
   },
   "outputs": [
    {
     "data": {
      "text/plain": [
       "'2020332.nc'"
      ]
     },
     "execution_count": 42,
     "metadata": {},
     "output_type": "execute_result"
    }
   ],
   "source": [
    "lfiles_local[0]"
   ]
  },
  {
   "cell_type": "code",
   "execution_count": 43,
   "id": "de4c093a-6abb-4aa7-8289-1d9fb9c349d4",
   "metadata": {
    "tags": []
   },
   "outputs": [
    {
     "data": {
      "text/plain": [
       "'2023056.nc'"
      ]
     },
     "execution_count": 43,
     "metadata": {},
     "output_type": "execute_result"
    }
   ],
   "source": [
    "lfiles_local[-1]"
   ]
  },
  {
   "cell_type": "code",
   "execution_count": 44,
   "id": "e7609c68-25de-4049-a936-9cbf1b4594be",
   "metadata": {
    "tags": []
   },
   "outputs": [],
   "source": [
    "ftp = ftplib.FTP_TLS()"
   ]
  },
  {
   "cell_type": "code",
   "execution_count": 45,
   "id": "22ffb57c-611a-4251-aa7e-ae8b80395df4",
   "metadata": {
    "tags": []
   },
   "outputs": [],
   "source": [
    "ftp.debugging = 1"
   ]
  },
  {
   "cell_type": "code",
   "execution_count": 46,
   "id": "970bdf69-668d-4970-8dfe-b295acf32636",
   "metadata": {
    "tags": []
   },
   "outputs": [],
   "source": [
    "url = 'data.gloh2o.org'"
   ]
  },
  {
   "cell_type": "code",
   "execution_count": 47,
   "id": "0a42bad9-6cab-4331-b919-d96dfb3bf6f4",
   "metadata": {
    "tags": []
   },
   "outputs": [
    {
     "name": "stdout",
     "output_type": "stream",
     "text": [
      "*resp* '220 zeus FTP server ready.'\n"
     ]
    },
    {
     "data": {
      "text/plain": [
       "'220 zeus FTP server ready.'"
      ]
     },
     "execution_count": 47,
     "metadata": {},
     "output_type": "execute_result"
    }
   ],
   "source": [
    "ftp.connect(url)"
   ]
  },
  {
   "cell_type": "code",
   "execution_count": 48,
   "id": "cde49a37-a19c-48ac-8fb5-a1fd980fe226",
   "metadata": {
    "tags": []
   },
   "outputs": [
    {
     "name": "stdout",
     "output_type": "stream",
     "text": [
      "*cmd* 'AUTH TLS'\n",
      "*resp* '234 AUTH TLS command successful.'\n",
      "*cmd* 'USER niwa_mswep'\n",
      "*resp* '331 Password required for niwa_mswep.'\n",
      "*cmd* 'PASS *********'\n",
      "*resp* '230 User niwa_mswep logged in.'\n"
     ]
    },
    {
     "data": {
      "text/plain": [
       "'230 User niwa_mswep logged in.'"
      ]
     },
     "execution_count": 48,
     "metadata": {},
     "output_type": "execute_result"
    }
   ],
   "source": [
    "ftp.login(login, password)"
   ]
  },
  {
   "cell_type": "code",
   "execution_count": 49,
   "id": "201e53f1-88f5-4265-aeb8-d05badefa3e0",
   "metadata": {
    "tags": []
   },
   "outputs": [
    {
     "name": "stdout",
     "output_type": "stream",
     "text": [
      "*cmd* 'TYPE A'\n",
      "*resp* '200 Type set to A.'\n",
      "*cmd* 'PASV'\n",
      "*resp* '227 Entering Passive Mode (86,86,35,98,217,8)'\n",
      "*cmd* 'LIST'\n",
      "*resp* \"150 Opening BINARY mode data connection for 'file list'.\"\n",
      "dr-xr-xr-x   1 root     root               32 Feb 26 11:22 niwa_mswep\n",
      "*resp* '226 Transfer complete.'\n"
     ]
    }
   ],
   "source": [
    "ftp.dir()"
   ]
  },
  {
   "cell_type": "code",
   "execution_count": 50,
   "id": "1da8f70c-724f-4a3d-95d3-a7fd1fbc800c",
   "metadata": {
    "tags": []
   },
   "outputs": [
    {
     "name": "stdout",
     "output_type": "stream",
     "text": [
      "*cmd* 'CWD niwa_mswep/MSWEP_V280/NRT/Daily'\n",
      "*resp* '250 CWD command successful.'\n"
     ]
    },
    {
     "data": {
      "text/plain": [
       "'250 CWD command successful.'"
      ]
     },
     "execution_count": 50,
     "metadata": {},
     "output_type": "execute_result"
    }
   ],
   "source": [
    "ftp.cwd('niwa_mswep/MSWEP_V280/NRT/Daily')"
   ]
  },
  {
   "cell_type": "code",
   "execution_count": 51,
   "id": "1b2bb681-d034-42e3-b4ef-7c44b8cf4fd2",
   "metadata": {
    "tags": []
   },
   "outputs": [],
   "source": [
    "# ftp.dir()"
   ]
  },
  {
   "cell_type": "code",
   "execution_count": 52,
   "id": "c514fa9b-3b96-4ca7-a71e-e40e81337a9c",
   "metadata": {
    "tags": []
   },
   "outputs": [
    {
     "name": "stdout",
     "output_type": "stream",
     "text": [
      "*cmd* 'TYPE A'\n",
      "*resp* '200 Type set to A.'\n",
      "*cmd* 'PASV'\n",
      "*resp* '227 Entering Passive Mode (86,86,35,98,217,7)'\n",
      "*cmd* 'NLST'\n",
      "*resp* \"150 Opening BINARY mode data connection for 'file list'.\"\n",
      "*resp* '226 Transfer complete.'\n"
     ]
    }
   ],
   "source": [
    "lfiles_remote = ftp.nlst()"
   ]
  },
  {
   "cell_type": "code",
   "execution_count": 53,
   "id": "cf5a5beb-bff5-4760-8b93-d17f8e9e446a",
   "metadata": {
    "tags": []
   },
   "outputs": [],
   "source": [
    "lfiles_missing = list(set(lfiles_remote) - set(lfiles_local))"
   ]
  },
  {
   "cell_type": "code",
   "execution_count": 54,
   "id": "9d9c1d88-6dfa-4a31-b192-e4bab7fcff23",
   "metadata": {
    "tags": []
   },
   "outputs": [],
   "source": [
    "lfiles_missing.sort()"
   ]
  },
  {
   "cell_type": "code",
   "execution_count": 55,
   "id": "b6e55fb2-3436-429f-9635-b15170f3b4ac",
   "metadata": {
    "tags": []
   },
   "outputs": [
    {
     "data": {
      "text/plain": [
       "['2023057.nc']"
      ]
     },
     "execution_count": 55,
     "metadata": {},
     "output_type": "execute_result"
    }
   ],
   "source": [
    "lfiles_missing"
   ]
  },
  {
   "cell_type": "code",
   "execution_count": 56,
   "id": "9eed821d-bd3d-4300-99da-ad6e7455fdca",
   "metadata": {
    "tags": []
   },
   "outputs": [
    {
     "name": "stdout",
     "output_type": "stream",
     "text": [
      "*cmd* 'TYPE I'\n",
      "*resp* '200 Type set to I.'\n",
      "*cmd* 'PASV'\n",
      "*resp* '227 Entering Passive Mode (86,86,35,98,216,253)'\n",
      "*cmd* 'RETR 2023057.nc'\n",
      "*resp* \"150 Opening BINARY mode data connection for '2023057.nc' (5831127 bytes).\"\n",
      "*resp* '226 Transfer complete.'\n"
     ]
    }
   ],
   "source": [
    "for filename in lfiles_missing: \n",
    "    \n",
    "    with open(opath.joinpath(filename), 'wb') as f:\n",
    "    \n",
    "        ftp.retrbinary('RETR ' + filename, f.write)"
   ]
  },
  {
   "cell_type": "code",
   "execution_count": 57,
   "id": "68b0fc58-81ae-4360-8486-2ba2a78809e3",
   "metadata": {
    "tags": []
   },
   "outputs": [],
   "source": [
    "ftp.close()"
   ]
  }
 ],
 "metadata": {
  "kernelspec": {
   "display_name": "Python 3 (ipykernel)",
   "language": "python",
   "name": "python3"
  },
  "language_info": {
   "codemirror_mode": {
    "name": "ipython",
    "version": 3
   },
   "file_extension": ".py",
   "mimetype": "text/x-python",
   "name": "python",
   "nbconvert_exporter": "python",
   "pygments_lexer": "ipython3",
   "version": "3.9.13"
  }
 },
 "nbformat": 4,
 "nbformat_minor": 5
}
